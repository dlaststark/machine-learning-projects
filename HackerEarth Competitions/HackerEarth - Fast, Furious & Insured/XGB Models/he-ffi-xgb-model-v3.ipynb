{
 "cells": [
  {
   "cell_type": "markdown",
   "id": "developing-former",
   "metadata": {
    "id": "uLz9OcH8SeET",
    "papermill": {
     "duration": 0.01018,
     "end_time": "2021-06-11T12:19:13.369803",
     "exception": false,
     "start_time": "2021-06-11T12:19:13.359623",
     "status": "completed"
    },
    "tags": []
   },
   "source": [
    "## Import libraries"
   ]
  },
  {
   "cell_type": "code",
   "execution_count": 1,
   "id": "designed-first",
   "metadata": {
    "execution": {
     "iopub.execute_input": "2021-06-11T12:19:13.398581Z",
     "iopub.status.busy": "2021-06-11T12:19:13.397915Z",
     "iopub.status.idle": "2021-06-11T12:19:14.238189Z",
     "shell.execute_reply": "2021-06-11T12:19:14.237348Z",
     "shell.execute_reply.started": "2021-06-11T12:06:42.152814Z"
    },
    "executionInfo": {
     "elapsed": 23727,
     "status": "ok",
     "timestamp": 1616326442041,
     "user": {
      "displayName": "TAPAS DAS",
      "photoUrl": "https://lh3.googleusercontent.com/a-/AOh14GiyffdGKiPCR_UwVittzTcbBFms70IkGfU15fatCA=s64",
      "userId": "10798398878324948542"
     },
     "user_tz": -330
    },
    "id": "E9svswc9SUuX",
    "papermill": {
     "duration": 0.859201,
     "end_time": "2021-06-11T12:19:14.238378",
     "exception": false,
     "start_time": "2021-06-11T12:19:13.379177",
     "status": "completed"
    },
    "tags": []
   },
   "outputs": [],
   "source": [
    "import warnings\n",
    "warnings.filterwarnings(\"ignore\")\n",
    "\n",
    "import gc\n",
    "import pickle\n",
    "import numpy as np\n",
    "import pandas as pd\n",
    "from tqdm import tqdm\n",
    "from xgboost import XGBRegressor\n",
    "from sklearn.metrics import r2_score\n",
    "from sklearn.model_selection import StratifiedKFold"
   ]
  },
  {
   "cell_type": "markdown",
   "id": "bacterial-bradley",
   "metadata": {
    "id": "hg85SpW-S6hl",
    "papermill": {
     "duration": 0.009003,
     "end_time": "2021-06-11T12:19:14.256963",
     "exception": false,
     "start_time": "2021-06-11T12:19:14.247960",
     "status": "completed"
    },
    "tags": []
   },
   "source": [
    "## Prepare data for model training"
   ]
  },
  {
   "cell_type": "code",
   "execution_count": 2,
   "id": "scheduled-legislature",
   "metadata": {
    "execution": {
     "iopub.execute_input": "2021-06-11T12:19:14.279836Z",
     "iopub.status.busy": "2021-06-11T12:19:14.279320Z",
     "iopub.status.idle": "2021-06-11T12:19:14.910158Z",
     "shell.execute_reply": "2021-06-11T12:19:14.910573Z",
     "shell.execute_reply.started": "2021-06-11T12:06:43.125734Z"
    },
    "executionInfo": {
     "elapsed": 10043,
     "status": "ok",
     "timestamp": 1616326444482,
     "user": {
      "displayName": "TAPAS DAS",
      "photoUrl": "https://lh3.googleusercontent.com/a-/AOh14GiyffdGKiPCR_UwVittzTcbBFms70IkGfU15fatCA=s64",
      "userId": "10798398878324948542"
     },
     "user_tz": -330
    },
    "id": "VdhgoIAmSUxK",
    "outputId": "7897cfad-c8d4-46d9-86ea-04de37e11444",
    "papermill": {
     "duration": 0.644436,
     "end_time": "2021-06-11T12:19:14.910736",
     "exception": false,
     "start_time": "2021-06-11T12:19:14.266300",
     "status": "completed"
    },
    "tags": []
   },
   "outputs": [
    {
     "data": {
      "text/plain": [
       "20"
      ]
     },
     "execution_count": 2,
     "metadata": {},
     "output_type": "execute_result"
    }
   ],
   "source": [
    "with open(\"../input/he-ffi-preprocess-data-v2-3/HE_FFI_Dataset.txt\", 'rb') as handle: \n",
    "    data = handle.read()\n",
    "\n",
    "processed_data = pickle.loads(data)\n",
    "train_df = processed_data['train_df']\n",
    "test_df = processed_data['test_df']\n",
    "\n",
    "del processed_data\n",
    "gc.collect()"
   ]
  },
  {
   "cell_type": "code",
   "execution_count": 3,
   "id": "worth-atlantic",
   "metadata": {
    "execution": {
     "iopub.execute_input": "2021-06-11T12:19:14.943904Z",
     "iopub.status.busy": "2021-06-11T12:19:14.943395Z",
     "iopub.status.idle": "2021-06-11T12:19:15.053047Z",
     "shell.execute_reply": "2021-06-11T12:19:15.052483Z",
     "shell.execute_reply.started": "2021-06-11T12:06:43.720904Z"
    },
    "papermill": {
     "duration": 0.132472,
     "end_time": "2021-06-11T12:19:15.053210",
     "exception": false,
     "start_time": "2021-06-11T12:19:14.920738",
     "status": "completed"
    },
    "tags": []
   },
   "outputs": [
    {
     "name": "stderr",
     "output_type": "stream",
     "text": [
      "100%|██████████| 7/7 [00:00<00:00, 124.17it/s]\n",
      "100%|██████████| 7/7 [00:00<00:00, 204.28it/s]"
     ]
    },
    {
     "name": "stdout",
     "output_type": "stream",
     "text": [
      "train_df: (1382, 1732)\n",
      "test_df: (600, 1731)\n"
     ]
    },
    {
     "name": "stderr",
     "output_type": "stream",
     "text": [
      "\n"
     ]
    }
   ],
   "source": [
    "cat_cols = ['Insurance_company','expiry_dt_year','expiry_dt_quarter','Condition',\n",
    "            'expiry_dt_month','expiry_dt_day_week','expiry_dt_day_weekend']\n",
    "\n",
    "train_df[cat_cols] = train_df[cat_cols].astype(int)\n",
    "test_df[cat_cols] = test_df[cat_cols].astype(int)\n",
    "\n",
    "for col in tqdm(cat_cols):\n",
    "    dummy_val = pd.get_dummies(train_df[col], prefix='col')\n",
    "    train_df = pd.concat([train_df, dummy_val], axis=1)\n",
    "    train_df.drop([col], inplace=True, axis=1)\n",
    "\n",
    "print(\"train_df: {}\".format(train_df.shape))\n",
    "\n",
    "for col in tqdm(cat_cols):\n",
    "    dummy_val = pd.get_dummies(test_df[col], prefix='col')\n",
    "    test_df = pd.concat([test_df, dummy_val], axis=1)\n",
    "    test_df.drop([col], inplace=True, axis=1)\n",
    "\n",
    "print(\"test_df: {}\".format(test_df.shape))"
   ]
  },
  {
   "cell_type": "code",
   "execution_count": 4,
   "id": "split-ukraine",
   "metadata": {
    "execution": {
     "iopub.execute_input": "2021-06-11T12:19:15.082733Z",
     "iopub.status.busy": "2021-06-11T12:19:15.081612Z",
     "iopub.status.idle": "2021-06-11T12:19:15.190687Z",
     "shell.execute_reply": "2021-06-11T12:19:15.191211Z",
     "shell.execute_reply.started": "2021-06-11T12:06:44.692056Z"
    },
    "executionInfo": {
     "elapsed": 2058,
     "status": "ok",
     "timestamp": 1616326525321,
     "user": {
      "displayName": "TAPAS DAS",
      "photoUrl": "https://lh3.googleusercontent.com/a-/AOh14GiyffdGKiPCR_UwVittzTcbBFms70IkGfU15fatCA=s64",
      "userId": "10798398878324948542"
     },
     "user_tz": -330
    },
    "id": "UAfyHbeASU7C",
    "outputId": "14c429a7-7b43-4065-afae-da7d4f6679a9",
    "papermill": {
     "duration": 0.126579,
     "end_time": "2021-06-11T12:19:15.191419",
     "exception": false,
     "start_time": "2021-06-11T12:19:15.064840",
     "status": "completed"
    },
    "tags": []
   },
   "outputs": [
    {
     "name": "stdout",
     "output_type": "stream",
     "text": [
      "Xtrain: (1382, 1730) \n",
      "Ytrain: (1382,) \n",
      "Xtest: (600, 1730)\n"
     ]
    },
    {
     "data": {
      "text/plain": [
       "72"
      ]
     },
     "execution_count": 4,
     "metadata": {},
     "output_type": "execute_result"
    }
   ],
   "source": [
    "Xtrain = train_df.loc[:, ~train_df.columns.isin(['Image_path','Amount'])].values\n",
    "Ytrain = train_df['Amount'].values\n",
    "Ytrain_strat = pd.qcut(train_df['Amount'].values, q=5, labels=range(0,5))\n",
    "Xtest = test_df.loc[:, ~test_df.columns.isin(['Image_path'])].values\n",
    "\n",
    "print(\"Xtrain: {} \\nYtrain: {} \\nXtest: {}\".format(Xtrain.shape, Ytrain.shape, Xtest.shape))\n",
    "\n",
    "del train_df\n",
    "del test_df\n",
    "gc.collect()"
   ]
  },
  {
   "cell_type": "markdown",
   "id": "demographic-shopper",
   "metadata": {
    "id": "9wNC5rWEVnjd",
    "papermill": {
     "duration": 0.011681,
     "end_time": "2021-06-11T12:19:15.215062",
     "exception": false,
     "start_time": "2021-06-11T12:19:15.203381",
     "status": "completed"
    },
    "tags": []
   },
   "source": [
    "## Build and validate the model"
   ]
  },
  {
   "cell_type": "code",
   "execution_count": 5,
   "id": "caring-tooth",
   "metadata": {
    "execution": {
     "iopub.execute_input": "2021-06-11T12:19:15.249969Z",
     "iopub.status.busy": "2021-06-11T12:19:15.249162Z",
     "iopub.status.idle": "2021-06-11T12:19:49.144304Z",
     "shell.execute_reply": "2021-06-11T12:19:49.145184Z",
     "shell.execute_reply.started": "2021-06-11T12:10:33.780989Z"
    },
    "id": "uWPosEORSVBp",
    "outputId": "d70ac047-a86b-4f36-84cc-960b1b5316be",
    "papermill": {
     "duration": 33.918913,
     "end_time": "2021-06-11T12:19:49.145439",
     "exception": false,
     "start_time": "2021-06-11T12:19:15.226526",
     "status": "completed"
    },
    "tags": []
   },
   "outputs": [
    {
     "name": "stdout",
     "output_type": "stream",
     "text": [
      "[0]\tvalidation_0-rmse:4717.37647\tvalidation_1-rmse:4698.66992\n",
      "[50]\tvalidation_0-rmse:1476.32312\tvalidation_1-rmse:2480.62573\n",
      "[99]\tvalidation_0-rmse:854.48718\tvalidation_1-rmse:2460.87842\n",
      "\n",
      "Seed-24 | Fold-0 | OOF Score: 18.934791434014286\n",
      "\n",
      "[0]\tvalidation_0-rmse:4716.58398\tvalidation_1-rmse:4691.04297\n",
      "[50]\tvalidation_0-rmse:1485.87952\tvalidation_1-rmse:2396.85962\n",
      "[99]\tvalidation_0-rmse:867.76648\tvalidation_1-rmse:2378.34180\n",
      "\n",
      "Seed-24 | Fold-1 | OOF Score: 20.969248681575824\n",
      "\n",
      "[0]\tvalidation_0-rmse:4708.52539\tvalidation_1-rmse:4735.81445\n",
      "[50]\tvalidation_0-rmse:1474.06592\tvalidation_1-rmse:2491.68140\n",
      "[99]\tvalidation_0-rmse:851.57007\tvalidation_1-rmse:2463.54883\n",
      "\n",
      "Seed-24 | Fold-2 | OOF Score: 15.371871397423554\n",
      "\n",
      "[0]\tvalidation_0-rmse:4710.04004\tvalidation_1-rmse:4740.92725\n",
      "[50]\tvalidation_0-rmse:1482.05640\tvalidation_1-rmse:2436.65015\n",
      "[99]\tvalidation_0-rmse:815.03497\tvalidation_1-rmse:2387.49438\n",
      "\n",
      "Seed-24 | Fold-3 | OOF Score: 24.60960458703447\n",
      "\n",
      "[0]\tvalidation_0-rmse:4701.01416\tvalidation_1-rmse:4769.66797\n",
      "[50]\tvalidation_0-rmse:1483.89990\tvalidation_1-rmse:2570.66235\n",
      "[99]\tvalidation_0-rmse:810.28369\tvalidation_1-rmse:2541.77222\n",
      "\n",
      "Seed-24 | Fold-4 | OOF Score: 13.679893087647432\n",
      "\n",
      "\n",
      "Seed: 24 | Aggregate OOF Score: 18.713081837539114\n",
      "\n",
      "\n",
      "[0]\tvalidation_0-rmse:4722.25537\tvalidation_1-rmse:4714.78174\n",
      "[50]\tvalidation_0-rmse:1517.54224\tvalidation_1-rmse:2424.49634\n",
      "[99]\tvalidation_0-rmse:900.54828\tvalidation_1-rmse:2384.88501\n",
      "\n",
      "Seed-3 | Fold-0 | OOF Score: 21.300977560408995\n",
      "\n",
      "[0]\tvalidation_0-rmse:4706.54150\tvalidation_1-rmse:4754.29346\n",
      "[50]\tvalidation_0-rmse:1468.39697\tvalidation_1-rmse:2510.07983\n",
      "[99]\tvalidation_0-rmse:826.96997\tvalidation_1-rmse:2476.82227\n",
      "\n",
      "Seed-3 | Fold-1 | OOF Score: 19.564406709140968\n",
      "\n",
      "[0]\tvalidation_0-rmse:4707.18994\tvalidation_1-rmse:4757.49756\n",
      "[50]\tvalidation_0-rmse:1506.85205\tvalidation_1-rmse:2489.42407\n",
      "[99]\tvalidation_0-rmse:876.88232\tvalidation_1-rmse:2456.79468\n",
      "\n",
      "Seed-3 | Fold-2 | OOF Score: 18.680770303793757\n",
      "\n",
      "[0]\tvalidation_0-rmse:4718.73730\tvalidation_1-rmse:4700.29395\n",
      "[50]\tvalidation_0-rmse:1487.14270\tvalidation_1-rmse:2433.94312\n",
      "[99]\tvalidation_0-rmse:826.84637\tvalidation_1-rmse:2445.98755\n",
      "\n",
      "Seed-3 | Fold-3 | OOF Score: 19.20636872310688\n",
      "\n",
      "[0]\tvalidation_0-rmse:4715.83691\tvalidation_1-rmse:4715.11719\n",
      "[50]\tvalidation_0-rmse:1487.92334\tvalidation_1-rmse:2467.95996\n",
      "[99]\tvalidation_0-rmse:848.38184\tvalidation_1-rmse:2468.75439\n",
      "\n",
      "Seed-3 | Fold-4 | OOF Score: 16.01092004124942\n",
      "\n",
      "\n",
      "Seed: 3 | Aggregate OOF Score: 18.952688667540006\n",
      "\n",
      "\n",
      "[0]\tvalidation_0-rmse:4726.48682\tvalidation_1-rmse:4662.79492\n",
      "[50]\tvalidation_0-rmse:1462.11182\tvalidation_1-rmse:2438.24414\n",
      "[99]\tvalidation_0-rmse:812.45398\tvalidation_1-rmse:2413.21875\n",
      "\n",
      "Seed-56 | Fold-0 | OOF Score: 16.547375407770225\n",
      "\n",
      "[0]\tvalidation_0-rmse:4689.07520\tvalidation_1-rmse:4801.00488\n",
      "[50]\tvalidation_0-rmse:1470.56616\tvalidation_1-rmse:2573.46362\n",
      "[99]\tvalidation_0-rmse:854.63623\tvalidation_1-rmse:2522.88818\n",
      "\n",
      "Seed-56 | Fold-1 | OOF Score: 18.279539728259564\n",
      "\n",
      "[0]\tvalidation_0-rmse:4732.52930\tvalidation_1-rmse:4654.97803\n",
      "[50]\tvalidation_0-rmse:1500.03528\tvalidation_1-rmse:2397.47119\n",
      "[99]\tvalidation_0-rmse:815.83569\tvalidation_1-rmse:2359.02734\n",
      "\n",
      "Seed-56 | Fold-2 | OOF Score: 20.995898248569212\n",
      "\n",
      "[0]\tvalidation_0-rmse:4702.08203\tvalidation_1-rmse:4789.10791\n",
      "[50]\tvalidation_0-rmse:1524.87830\tvalidation_1-rmse:2440.45557\n",
      "[99]\tvalidation_0-rmse:857.26532\tvalidation_1-rmse:2412.72681\n",
      "\n",
      "Seed-56 | Fold-3 | OOF Score: 24.656326915337633\n",
      "\n",
      "[0]\tvalidation_0-rmse:4710.98877\tvalidation_1-rmse:4721.64795\n",
      "[50]\tvalidation_0-rmse:1504.70923\tvalidation_1-rmse:2497.99854\n",
      "[99]\tvalidation_0-rmse:873.39124\tvalidation_1-rmse:2476.29102\n",
      "\n",
      "Seed-56 | Fold-4 | OOF Score: 16.495864010397575\n",
      "\n",
      "\n",
      "Seed: 56 | Aggregate OOF Score: 19.395000862066844\n",
      "\n",
      "\n",
      "Aggregate OOF Score: 19.020257122381985\n"
     ]
    }
   ],
   "source": [
    "FOLD = 5\n",
    "NUM_SEED = 3\n",
    "\n",
    "np.random.seed(3)\n",
    "seeds = np.random.randint(0, 100, size=NUM_SEED)\n",
    "\n",
    "oof_score = 0\n",
    "y_pred_meta_xgb = np.zeros((Ytrain.shape[0], 1))\n",
    "y_pred_final_xgb = 0\n",
    "counter = 0\n",
    "\n",
    "\n",
    "for sidx, seed in enumerate(seeds):\n",
    "    seed_score = 0\n",
    "    \n",
    "    kfold = StratifiedKFold(n_splits=FOLD, shuffle=True, random_state=seed)\n",
    "\n",
    "    for idx, (train, val) in enumerate(kfold.split(Xtrain, Ytrain_strat)):\n",
    "        counter += 1\n",
    "\n",
    "        train_x, train_y = Xtrain[train], Ytrain[train]\n",
    "        val_x, val_y = Xtrain[val], Ytrain[val]\n",
    "        \n",
    "        model = XGBRegressor(\n",
    "            objective='reg:squarederror',\n",
    "            eval_metric='rmse',\n",
    "            booster='gbtree',\n",
    "            sample_type='weighted',\n",
    "            tree_method='gpu_hist',\n",
    "            grow_policy='lossguide',\n",
    "            use_label_encoder=False,\n",
    "            num_round=5000,\n",
    "            max_depth=6, \n",
    "            max_leaves=983,\n",
    "            learning_rate=0.0423,\n",
    "            subsample=0.8267,\n",
    "            colsample_bytree=0.8243,\n",
    "            min_child_weight=8,\n",
    "            reg_lambda=0.2859,\n",
    "            verbosity=0\n",
    "        )\n",
    "\n",
    "        model.fit(train_x, train_y, eval_set=[(train_x, train_y), (val_x, val_y)], \n",
    "                  early_stopping_rounds=200, verbose=50)\n",
    "\n",
    "        y_pred = model.predict(val_x, iteration_range=(0, model.best_iteration))\n",
    "        y_pred_meta_xgb[val] += np.array([y_pred]).T\n",
    "        y_pred_final_xgb += model.predict(Xtest, iteration_range=(0, model.best_iteration))\n",
    "        \n",
    "        score = 100 * r2_score(val_y, y_pred)\n",
    "        oof_score += score\n",
    "        seed_score += score\n",
    "        print(\"\\nSeed-{} | Fold-{} | OOF Score: {}\\n\".format(seed, idx, score))\n",
    "    \n",
    "    print(\"\\nSeed: {} | Aggregate OOF Score: {}\\n\\n\".format(seed, (seed_score / FOLD)))\n",
    "\n",
    "\n",
    "y_pred_meta_xgb = y_pred_meta_xgb / float(NUM_SEED)\n",
    "y_pred_final_xgb = y_pred_final_xgb / float(counter)\n",
    "oof_score /= float(counter)\n",
    "print(\"Aggregate OOF Score: {}\".format(oof_score))"
   ]
  },
  {
   "cell_type": "code",
   "execution_count": 6,
   "id": "hundred-refrigerator",
   "metadata": {
    "execution": {
     "iopub.execute_input": "2021-06-11T12:19:49.203318Z",
     "iopub.status.busy": "2021-06-11T12:19:49.202376Z",
     "iopub.status.idle": "2021-06-11T12:19:49.207245Z",
     "shell.execute_reply": "2021-06-11T12:19:49.206659Z"
    },
    "id": "uLzmS7LzXvXy",
    "papermill": {
     "duration": 0.034033,
     "end_time": "2021-06-11T12:19:49.207378",
     "exception": false,
     "start_time": "2021-06-11T12:19:49.173345",
     "status": "completed"
    },
    "tags": []
   },
   "outputs": [],
   "source": [
    "np.savez_compressed('./XGB_Meta_Features.npz',\n",
    "                    y_pred_meta_xgb=y_pred_meta_xgb, \n",
    "                    oof_score=oof_score,\n",
    "                    y_pred_final_xgb=y_pred_final_xgb)"
   ]
  },
  {
   "cell_type": "markdown",
   "id": "still-wrestling",
   "metadata": {
    "id": "nZvoU4TpWxmY",
    "papermill": {
     "duration": 0.023667,
     "end_time": "2021-06-11T12:19:49.255217",
     "exception": false,
     "start_time": "2021-06-11T12:19:49.231550",
     "status": "completed"
    },
    "tags": []
   },
   "source": [
    "## Create submission file"
   ]
  },
  {
   "cell_type": "code",
   "execution_count": 7,
   "id": "tired-marine",
   "metadata": {
    "execution": {
     "iopub.execute_input": "2021-06-11T12:19:49.306290Z",
     "iopub.status.busy": "2021-06-11T12:19:49.305754Z",
     "iopub.status.idle": "2021-06-11T12:19:49.480964Z",
     "shell.execute_reply": "2021-06-11T12:19:49.480195Z"
    },
    "executionInfo": {
     "elapsed": 3141,
     "status": "ok",
     "timestamp": 1616223489651,
     "user": {
      "displayName": "TAPAS DAS",
      "photoUrl": "https://lh3.googleusercontent.com/a-/AOh14GiyffdGKiPCR_UwVittzTcbBFms70IkGfU15fatCA=s64",
      "userId": "10798398878324948542"
     },
     "user_tz": -330
    },
    "id": "zGEGOAJHVoHV",
    "outputId": "11f9ca4c-9cca-46f6-b9a6-907ad0a09927",
    "papermill": {
     "duration": 0.202258,
     "end_time": "2021-06-11T12:19:49.481086",
     "exception": false,
     "start_time": "2021-06-11T12:19:49.278828",
     "status": "completed"
    },
    "tags": []
   },
   "outputs": [
    {
     "data": {
      "text/plain": [
       "733"
      ]
     },
     "execution_count": 7,
     "metadata": {},
     "output_type": "execute_result"
    }
   ],
   "source": [
    "with open(\"../input/he-ffi-preprocess-data/HE_FFI_Dataset.txt\", 'rb') as handle: \n",
    "    data = handle.read()\n",
    "\n",
    "processed_data = pickle.loads(data)\n",
    "test_df = processed_data['test_df']\n",
    "\n",
    "del processed_data\n",
    "gc.collect()"
   ]
  },
  {
   "cell_type": "code",
   "execution_count": 8,
   "id": "rough-consistency",
   "metadata": {
    "execution": {
     "iopub.execute_input": "2021-06-11T12:19:49.546864Z",
     "iopub.status.busy": "2021-06-11T12:19:49.546293Z",
     "iopub.status.idle": "2021-06-11T12:19:49.685264Z",
     "shell.execute_reply": "2021-06-11T12:19:49.685707Z"
    },
    "id": "KDIsotrKVoJN",
    "papermill": {
     "duration": 0.181072,
     "end_time": "2021-06-11T12:19:49.685867",
     "exception": false,
     "start_time": "2021-06-11T12:19:49.504795",
     "status": "completed"
    },
    "tags": []
   },
   "outputs": [
    {
     "data": {
      "text/html": [
       "<div>\n",
       "<style scoped>\n",
       "    .dataframe tbody tr th:only-of-type {\n",
       "        vertical-align: middle;\n",
       "    }\n",
       "\n",
       "    .dataframe tbody tr th {\n",
       "        vertical-align: top;\n",
       "    }\n",
       "\n",
       "    .dataframe thead th {\n",
       "        text-align: right;\n",
       "    }\n",
       "</style>\n",
       "<table border=\"1\" class=\"dataframe\">\n",
       "  <thead>\n",
       "    <tr style=\"text-align: right;\">\n",
       "      <th></th>\n",
       "      <th>Image_path</th>\n",
       "      <th>Condition</th>\n",
       "      <th>Amount</th>\n",
       "    </tr>\n",
       "  </thead>\n",
       "  <tbody>\n",
       "    <tr>\n",
       "      <th>0</th>\n",
       "      <td>img_4538519.jpg</td>\n",
       "      <td>1.0</td>\n",
       "      <td>2550.165283</td>\n",
       "    </tr>\n",
       "    <tr>\n",
       "      <th>1</th>\n",
       "      <td>img_7766002.jpg</td>\n",
       "      <td>1.0</td>\n",
       "      <td>3478.308594</td>\n",
       "    </tr>\n",
       "    <tr>\n",
       "      <th>2</th>\n",
       "      <td>img_4637390.jpg</td>\n",
       "      <td>1.0</td>\n",
       "      <td>4103.952637</td>\n",
       "    </tr>\n",
       "    <tr>\n",
       "      <th>3</th>\n",
       "      <td>img_4516108.jpg</td>\n",
       "      <td>1.0</td>\n",
       "      <td>4138.309082</td>\n",
       "    </tr>\n",
       "    <tr>\n",
       "      <th>4</th>\n",
       "      <td>img_4517008.jpg</td>\n",
       "      <td>1.0</td>\n",
       "      <td>3593.390625</td>\n",
       "    </tr>\n",
       "  </tbody>\n",
       "</table>\n",
       "</div>"
      ],
      "text/plain": [
       "        Image_path  Condition       Amount\n",
       "0  img_4538519.jpg        1.0  2550.165283\n",
       "1  img_7766002.jpg        1.0  3478.308594\n",
       "2  img_4637390.jpg        1.0  4103.952637\n",
       "3  img_4516108.jpg        1.0  4138.309082\n",
       "4  img_4517008.jpg        1.0  3593.390625"
      ]
     },
     "execution_count": 8,
     "metadata": {},
     "output_type": "execute_result"
    }
   ],
   "source": [
    "test_df1 = pd.read_csv(\"../input/he-fast-furious-insured/dataset/test.csv\")\n",
    "\n",
    "submit_df = pd.DataFrame()\n",
    "submit_df['Image_path'] = test_df1['Image_path']\n",
    "submit_df['Condition'] = test_df['Condition']\n",
    "submit_df['Amount'] = y_pred_final_xgb\n",
    "\n",
    "submit_df.to_csv(\"./XGB_Submission_wo_Adjustment.csv\", index=False)\n",
    "submit_df.head()"
   ]
  },
  {
   "cell_type": "code",
   "execution_count": 9,
   "id": "aquatic-crown",
   "metadata": {
    "execution": {
     "iopub.execute_input": "2021-06-11T12:19:49.742306Z",
     "iopub.status.busy": "2021-06-11T12:19:49.741514Z",
     "iopub.status.idle": "2021-06-11T12:19:49.771737Z",
     "shell.execute_reply": "2021-06-11T12:19:49.771010Z"
    },
    "id": "W2c88MvxXm65",
    "papermill": {
     "duration": 0.060185,
     "end_time": "2021-06-11T12:19:49.771879",
     "exception": false,
     "start_time": "2021-06-11T12:19:49.711694",
     "status": "completed"
    },
    "tags": []
   },
   "outputs": [
    {
     "data": {
      "text/html": [
       "<div>\n",
       "<style scoped>\n",
       "    .dataframe tbody tr th:only-of-type {\n",
       "        vertical-align: middle;\n",
       "    }\n",
       "\n",
       "    .dataframe tbody tr th {\n",
       "        vertical-align: top;\n",
       "    }\n",
       "\n",
       "    .dataframe thead th {\n",
       "        text-align: right;\n",
       "    }\n",
       "</style>\n",
       "<table border=\"1\" class=\"dataframe\">\n",
       "  <thead>\n",
       "    <tr style=\"text-align: right;\">\n",
       "      <th></th>\n",
       "      <th>Image_path</th>\n",
       "      <th>Condition</th>\n",
       "      <th>Amount</th>\n",
       "    </tr>\n",
       "  </thead>\n",
       "  <tbody>\n",
       "    <tr>\n",
       "      <th>0</th>\n",
       "      <td>img_4538519.jpg</td>\n",
       "      <td>1.0</td>\n",
       "      <td>2550.165283</td>\n",
       "    </tr>\n",
       "    <tr>\n",
       "      <th>1</th>\n",
       "      <td>img_7766002.jpg</td>\n",
       "      <td>1.0</td>\n",
       "      <td>3478.308594</td>\n",
       "    </tr>\n",
       "    <tr>\n",
       "      <th>2</th>\n",
       "      <td>img_4637390.jpg</td>\n",
       "      <td>1.0</td>\n",
       "      <td>4103.952637</td>\n",
       "    </tr>\n",
       "    <tr>\n",
       "      <th>3</th>\n",
       "      <td>img_4516108.jpg</td>\n",
       "      <td>1.0</td>\n",
       "      <td>4138.309082</td>\n",
       "    </tr>\n",
       "    <tr>\n",
       "      <th>4</th>\n",
       "      <td>img_4517008.jpg</td>\n",
       "      <td>1.0</td>\n",
       "      <td>3593.390625</td>\n",
       "    </tr>\n",
       "  </tbody>\n",
       "</table>\n",
       "</div>"
      ],
      "text/plain": [
       "        Image_path  Condition       Amount\n",
       "0  img_4538519.jpg        1.0  2550.165283\n",
       "1  img_7766002.jpg        1.0  3478.308594\n",
       "2  img_4637390.jpg        1.0  4103.952637\n",
       "3  img_4516108.jpg        1.0  4138.309082\n",
       "4  img_4517008.jpg        1.0  3593.390625"
      ]
     },
     "execution_count": 9,
     "metadata": {},
     "output_type": "execute_result"
    }
   ],
   "source": [
    "test_df1 = pd.read_csv(\"../input/he-fast-furious-insured/dataset/test.csv\")\n",
    "\n",
    "submit_df = pd.DataFrame()\n",
    "submit_df['Image_path'] = test_df1['Image_path']\n",
    "submit_df['Condition'] = test_df['Condition']\n",
    "submit_df['Amount'] = y_pred_final_xgb\n",
    "submit_df.loc[test_df['Condition']==0, 'Amount'] = 0\n",
    "\n",
    "submit_df.to_csv(\"./XGB_Submission_w_Adjustment.csv\", index=False)\n",
    "submit_df.head()"
   ]
  },
  {
   "cell_type": "code",
   "execution_count": null,
   "id": "dominant-banking",
   "metadata": {
    "papermill": {
     "duration": 0.024613,
     "end_time": "2021-06-11T12:19:49.823157",
     "exception": false,
     "start_time": "2021-06-11T12:19:49.798544",
     "status": "completed"
    },
    "tags": []
   },
   "outputs": [],
   "source": []
  }
 ],
 "metadata": {
  "kernelspec": {
   "display_name": "Python 3",
   "language": "python",
   "name": "python3"
  },
  "language_info": {
   "codemirror_mode": {
    "name": "ipython",
    "version": 3
   },
   "file_extension": ".py",
   "mimetype": "text/x-python",
   "name": "python",
   "nbconvert_exporter": "python",
   "pygments_lexer": "ipython3",
   "version": "3.7.10"
  },
  "papermill": {
   "default_parameters": {},
   "duration": 44.569822,
   "end_time": "2021-06-11T12:19:51.880118",
   "environment_variables": {},
   "exception": null,
   "input_path": "__notebook__.ipynb",
   "output_path": "__notebook__.ipynb",
   "parameters": {},
   "start_time": "2021-06-11T12:19:07.310296",
   "version": "2.3.3"
  }
 },
 "nbformat": 4,
 "nbformat_minor": 5
}
