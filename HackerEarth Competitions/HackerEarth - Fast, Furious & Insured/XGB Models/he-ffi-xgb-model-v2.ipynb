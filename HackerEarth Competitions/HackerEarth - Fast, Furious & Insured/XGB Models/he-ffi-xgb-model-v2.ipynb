{
 "cells": [
  {
   "cell_type": "markdown",
   "id": "parental-valuable",
   "metadata": {
    "id": "uLz9OcH8SeET",
    "papermill": {
     "duration": 0.014134,
     "end_time": "2021-06-02T02:56:59.188473",
     "exception": false,
     "start_time": "2021-06-02T02:56:59.174339",
     "status": "completed"
    },
    "tags": []
   },
   "source": [
    "## Import libraries"
   ]
  },
  {
   "cell_type": "code",
   "execution_count": 1,
   "id": "derived-literature",
   "metadata": {
    "execution": {
     "iopub.execute_input": "2021-06-02T02:56:59.222778Z",
     "iopub.status.busy": "2021-06-02T02:56:59.220641Z",
     "iopub.status.idle": "2021-06-02T02:57:00.253438Z",
     "shell.execute_reply": "2021-06-02T02:57:00.252188Z",
     "shell.execute_reply.started": "2021-05-31T14:26:58.221435Z"
    },
    "executionInfo": {
     "elapsed": 23727,
     "status": "ok",
     "timestamp": 1616326442041,
     "user": {
      "displayName": "TAPAS DAS",
      "photoUrl": "https://lh3.googleusercontent.com/a-/AOh14GiyffdGKiPCR_UwVittzTcbBFms70IkGfU15fatCA=s64",
      "userId": "10798398878324948542"
     },
     "user_tz": -330
    },
    "id": "E9svswc9SUuX",
    "papermill": {
     "duration": 1.052486,
     "end_time": "2021-06-02T02:57:00.253633",
     "exception": false,
     "start_time": "2021-06-02T02:56:59.201147",
     "status": "completed"
    },
    "tags": []
   },
   "outputs": [],
   "source": [
    "import warnings\n",
    "warnings.filterwarnings(\"ignore\")\n",
    "\n",
    "import gc\n",
    "import pickle\n",
    "import numpy as np\n",
    "import pandas as pd\n",
    "from tqdm import tqdm\n",
    "from xgboost import XGBRegressor\n",
    "from sklearn.metrics import r2_score\n",
    "from sklearn.model_selection import StratifiedKFold"
   ]
  },
  {
   "cell_type": "markdown",
   "id": "grave-billion",
   "metadata": {
    "id": "hg85SpW-S6hl",
    "papermill": {
     "duration": 0.012103,
     "end_time": "2021-06-02T02:57:00.278457",
     "exception": false,
     "start_time": "2021-06-02T02:57:00.266354",
     "status": "completed"
    },
    "tags": []
   },
   "source": [
    "## Prepare data for model training"
   ]
  },
  {
   "cell_type": "code",
   "execution_count": 2,
   "id": "engaging-calculator",
   "metadata": {
    "execution": {
     "iopub.execute_input": "2021-06-02T02:57:00.309399Z",
     "iopub.status.busy": "2021-06-02T02:57:00.308645Z",
     "iopub.status.idle": "2021-06-02T02:57:01.144008Z",
     "shell.execute_reply": "2021-06-02T02:57:01.144563Z",
     "shell.execute_reply.started": "2021-05-31T14:26:05.019786Z"
    },
    "executionInfo": {
     "elapsed": 10043,
     "status": "ok",
     "timestamp": 1616326444482,
     "user": {
      "displayName": "TAPAS DAS",
      "photoUrl": "https://lh3.googleusercontent.com/a-/AOh14GiyffdGKiPCR_UwVittzTcbBFms70IkGfU15fatCA=s64",
      "userId": "10798398878324948542"
     },
     "user_tz": -330
    },
    "id": "VdhgoIAmSUxK",
    "outputId": "7897cfad-c8d4-46d9-86ea-04de37e11444",
    "papermill": {
     "duration": 0.853581,
     "end_time": "2021-06-02T02:57:01.144759",
     "exception": false,
     "start_time": "2021-06-02T02:57:00.291178",
     "status": "completed"
    },
    "tags": []
   },
   "outputs": [
    {
     "data": {
      "text/plain": [
       "20"
      ]
     },
     "execution_count": 2,
     "metadata": {},
     "output_type": "execute_result"
    }
   ],
   "source": [
    "with open(\"../input/he-ffi-preprocess-data-v2-2/HE_FFI_Dataset.txt\", 'rb') as handle: \n",
    "    data = handle.read()\n",
    "\n",
    "processed_data = pickle.loads(data)\n",
    "train_df = processed_data['train_df']\n",
    "test_df = processed_data['test_df']\n",
    "\n",
    "del processed_data\n",
    "gc.collect()"
   ]
  },
  {
   "cell_type": "code",
   "execution_count": 3,
   "id": "personalized-place",
   "metadata": {
    "execution": {
     "iopub.execute_input": "2021-06-02T02:57:01.193123Z",
     "iopub.status.busy": "2021-06-02T02:57:01.191974Z",
     "iopub.status.idle": "2021-06-02T02:57:01.332047Z",
     "shell.execute_reply": "2021-06-02T02:57:01.331016Z",
     "shell.execute_reply.started": "2021-05-31T14:26:05.696813Z"
    },
    "papermill": {
     "duration": 0.17386,
     "end_time": "2021-06-02T02:57:01.332272",
     "exception": false,
     "start_time": "2021-06-02T02:57:01.158412",
     "status": "completed"
    },
    "tags": []
   },
   "outputs": [
    {
     "name": "stderr",
     "output_type": "stream",
     "text": [
      "100%|██████████| 7/7 [00:00<00:00, 102.08it/s]\n",
      "100%|██████████| 7/7 [00:00<00:00, 145.11it/s]"
     ]
    },
    {
     "name": "stdout",
     "output_type": "stream",
     "text": [
      "train_df: (1382, 1732)\n",
      "test_df: (600, 1731)\n"
     ]
    },
    {
     "name": "stderr",
     "output_type": "stream",
     "text": [
      "\n"
     ]
    }
   ],
   "source": [
    "cat_cols = ['Insurance_company','expiry_dt_year','expiry_dt_quarter','Condition',\n",
    "            'expiry_dt_month','expiry_dt_day_week','expiry_dt_day_weekend']\n",
    "\n",
    "train_df[cat_cols] = train_df[cat_cols].astype(int)\n",
    "test_df[cat_cols] = test_df[cat_cols].astype(int)\n",
    "\n",
    "for col in tqdm(cat_cols):\n",
    "    dummy_val = pd.get_dummies(train_df[col], prefix='col')\n",
    "    train_df = pd.concat([train_df, dummy_val], axis=1)\n",
    "    train_df.drop([col], inplace=True, axis=1)\n",
    "\n",
    "print(\"train_df: {}\".format(train_df.shape))\n",
    "\n",
    "for col in tqdm(cat_cols):\n",
    "    dummy_val = pd.get_dummies(test_df[col], prefix='col')\n",
    "    test_df = pd.concat([test_df, dummy_val], axis=1)\n",
    "    test_df.drop([col], inplace=True, axis=1)\n",
    "\n",
    "print(\"test_df: {}\".format(test_df.shape))"
   ]
  },
  {
   "cell_type": "code",
   "execution_count": 4,
   "id": "applied-sentence",
   "metadata": {
    "execution": {
     "iopub.execute_input": "2021-06-02T02:57:01.375207Z",
     "iopub.status.busy": "2021-06-02T02:57:01.369843Z",
     "iopub.status.idle": "2021-06-02T02:57:01.491461Z",
     "shell.execute_reply": "2021-06-02T02:57:01.492094Z",
     "shell.execute_reply.started": "2021-05-31T14:26:05.817208Z"
    },
    "executionInfo": {
     "elapsed": 2058,
     "status": "ok",
     "timestamp": 1616326525321,
     "user": {
      "displayName": "TAPAS DAS",
      "photoUrl": "https://lh3.googleusercontent.com/a-/AOh14GiyffdGKiPCR_UwVittzTcbBFms70IkGfU15fatCA=s64",
      "userId": "10798398878324948542"
     },
     "user_tz": -330
    },
    "id": "UAfyHbeASU7C",
    "outputId": "14c429a7-7b43-4065-afae-da7d4f6679a9",
    "papermill": {
     "duration": 0.144023,
     "end_time": "2021-06-02T02:57:01.492281",
     "exception": false,
     "start_time": "2021-06-02T02:57:01.348258",
     "status": "completed"
    },
    "tags": []
   },
   "outputs": [
    {
     "name": "stdout",
     "output_type": "stream",
     "text": [
      "Xtrain: (1382, 1730) \n",
      "Ytrain: (1382,) \n",
      "Xtest: (600, 1730)\n"
     ]
    },
    {
     "data": {
      "text/plain": [
       "72"
      ]
     },
     "execution_count": 4,
     "metadata": {},
     "output_type": "execute_result"
    }
   ],
   "source": [
    "Xtrain = train_df.loc[:, ~train_df.columns.isin(['Image_path','Amount'])].values\n",
    "Ytrain = train_df['Amount'].values\n",
    "Ytrain_strat = pd.qcut(train_df['Amount'].values, q=5, labels=range(0,5))\n",
    "Xtest = test_df.loc[:, ~test_df.columns.isin(['Image_path'])].values\n",
    "\n",
    "print(\"Xtrain: {} \\nYtrain: {} \\nXtest: {}\".format(Xtrain.shape, Ytrain.shape, Xtest.shape))\n",
    "\n",
    "del train_df\n",
    "del test_df\n",
    "gc.collect()"
   ]
  },
  {
   "cell_type": "markdown",
   "id": "assumed-meeting",
   "metadata": {
    "id": "9wNC5rWEVnjd",
    "papermill": {
     "duration": 0.015892,
     "end_time": "2021-06-02T02:57:01.524780",
     "exception": false,
     "start_time": "2021-06-02T02:57:01.508888",
     "status": "completed"
    },
    "tags": []
   },
   "source": [
    "## Build and validate the model"
   ]
  },
  {
   "cell_type": "code",
   "execution_count": 5,
   "id": "rental-appointment",
   "metadata": {
    "execution": {
     "iopub.execute_input": "2021-06-02T02:57:01.573792Z",
     "iopub.status.busy": "2021-06-02T02:57:01.572589Z",
     "iopub.status.idle": "2021-06-02T02:57:36.045576Z",
     "shell.execute_reply": "2021-06-02T02:57:36.044544Z",
     "shell.execute_reply.started": "2021-05-31T14:29:24.063573Z"
    },
    "id": "uWPosEORSVBp",
    "outputId": "d70ac047-a86b-4f36-84cc-960b1b5316be",
    "papermill": {
     "duration": 34.504561,
     "end_time": "2021-06-02T02:57:36.045743",
     "exception": false,
     "start_time": "2021-06-02T02:57:01.541182",
     "status": "completed"
    },
    "tags": []
   },
   "outputs": [
    {
     "name": "stdout",
     "output_type": "stream",
     "text": [
      "[0]\tvalidation_0-rmse:4718.38721\tvalidation_1-rmse:4703.30713\n",
      "[50]\tvalidation_0-rmse:1515.21558\tvalidation_1-rmse:2490.67749\n",
      "[99]\tvalidation_0-rmse:909.45233\tvalidation_1-rmse:2460.43701\n",
      "\n",
      "Seed-24 | Fold-0 | OOF Score: 18.71126452590306\n",
      "\n",
      "[0]\tvalidation_0-rmse:4720.63232\tvalidation_1-rmse:4695.21484\n",
      "[50]\tvalidation_0-rmse:1518.04675\tvalidation_1-rmse:2445.36328\n",
      "[99]\tvalidation_0-rmse:896.34448\tvalidation_1-rmse:2424.23364\n",
      "\n",
      "Seed-24 | Fold-1 | OOF Score: 17.284151400313174\n",
      "\n",
      "[0]\tvalidation_0-rmse:4712.61719\tvalidation_1-rmse:4731.92725\n",
      "[50]\tvalidation_0-rmse:1518.38843\tvalidation_1-rmse:2483.24268\n",
      "[99]\tvalidation_0-rmse:860.86505\tvalidation_1-rmse:2461.87207\n",
      "\n",
      "Seed-24 | Fold-2 | OOF Score: 15.297085289355783\n",
      "\n",
      "[0]\tvalidation_0-rmse:4711.09033\tvalidation_1-rmse:4748.74365\n",
      "[50]\tvalidation_0-rmse:1475.87427\tvalidation_1-rmse:2470.92163\n",
      "[99]\tvalidation_0-rmse:858.29462\tvalidation_1-rmse:2414.27222\n",
      "\n",
      "Seed-24 | Fold-3 | OOF Score: 22.97234105303392\n",
      "\n",
      "[0]\tvalidation_0-rmse:4701.42725\tvalidation_1-rmse:4767.93994\n",
      "[50]\tvalidation_0-rmse:1543.16406\tvalidation_1-rmse:2560.62817\n",
      "[99]\tvalidation_0-rmse:888.96130\tvalidation_1-rmse:2531.33740\n",
      "\n",
      "Seed-24 | Fold-4 | OOF Score: 14.780167341587468\n",
      "\n",
      "\n",
      "Seed: 24 | Aggregate OOF Score: 17.809001922038682\n",
      "\n",
      "\n",
      "[0]\tvalidation_0-rmse:4718.59277\tvalidation_1-rmse:4714.92480\n",
      "[50]\tvalidation_0-rmse:1546.79675\tvalidation_1-rmse:2477.17700\n",
      "[99]\tvalidation_0-rmse:902.74078\tvalidation_1-rmse:2431.24365\n",
      "\n",
      "Seed-3 | Fold-0 | OOF Score: 17.669551008828144\n",
      "\n",
      "[0]\tvalidation_0-rmse:4704.26611\tvalidation_1-rmse:4755.34033\n",
      "[50]\tvalidation_0-rmse:1459.76135\tvalidation_1-rmse:2492.82935\n",
      "[99]\tvalidation_0-rmse:831.32422\tvalidation_1-rmse:2479.38086\n",
      "\n",
      "Seed-3 | Fold-1 | OOF Score: 20.06533153413753\n",
      "\n",
      "[0]\tvalidation_0-rmse:4708.53467\tvalidation_1-rmse:4758.81982\n",
      "[50]\tvalidation_0-rmse:1514.77856\tvalidation_1-rmse:2486.07837\n",
      "[99]\tvalidation_0-rmse:895.76386\tvalidation_1-rmse:2436.85571\n",
      "\n",
      "Seed-3 | Fold-2 | OOF Score: 19.709643315785197\n",
      "\n",
      "[0]\tvalidation_0-rmse:4720.20898\tvalidation_1-rmse:4703.42725\n",
      "[50]\tvalidation_0-rmse:1509.46875\tvalidation_1-rmse:2500.71802\n",
      "[99]\tvalidation_0-rmse:868.06659\tvalidation_1-rmse:2507.55420\n",
      "\n",
      "Seed-3 | Fold-3 | OOF Score: 14.576922327628772\n",
      "\n",
      "[0]\tvalidation_0-rmse:4717.23096\tvalidation_1-rmse:4712.64404\n",
      "[50]\tvalidation_0-rmse:1506.23999\tvalidation_1-rmse:2453.78931\n",
      "[99]\tvalidation_0-rmse:842.44721\tvalidation_1-rmse:2424.78369\n",
      "\n",
      "Seed-3 | Fold-4 | OOF Score: 18.844789176279818\n",
      "\n",
      "\n",
      "Seed: 3 | Aggregate OOF Score: 18.17324747253189\n",
      "\n",
      "\n",
      "[0]\tvalidation_0-rmse:4727.15381\tvalidation_1-rmse:4660.96191\n",
      "[50]\tvalidation_0-rmse:1455.48608\tvalidation_1-rmse:2456.56689\n",
      "[99]\tvalidation_0-rmse:867.38519\tvalidation_1-rmse:2445.35352\n",
      "\n",
      "Seed-56 | Fold-0 | OOF Score: 14.439082770400113\n",
      "\n",
      "[0]\tvalidation_0-rmse:4692.87695\tvalidation_1-rmse:4805.09961\n",
      "[50]\tvalidation_0-rmse:1505.58093\tvalidation_1-rmse:2569.14893\n",
      "[99]\tvalidation_0-rmse:881.37439\tvalidation_1-rmse:2534.14111\n",
      "\n",
      "Seed-56 | Fold-1 | OOF Score: 17.259046949592115\n",
      "\n",
      "[0]\tvalidation_0-rmse:4733.91992\tvalidation_1-rmse:4654.65381\n",
      "[50]\tvalidation_0-rmse:1564.81335\tvalidation_1-rmse:2412.30078\n",
      "[99]\tvalidation_0-rmse:935.58008\tvalidation_1-rmse:2390.64136\n",
      "\n",
      "Seed-56 | Fold-2 | OOF Score: 18.00620687493436\n",
      "\n",
      "[0]\tvalidation_0-rmse:4700.88623\tvalidation_1-rmse:4781.44580\n",
      "[50]\tvalidation_0-rmse:1529.51880\tvalidation_1-rmse:2460.84497\n",
      "[99]\tvalidation_0-rmse:909.74841\tvalidation_1-rmse:2406.43848\n",
      "\n",
      "Seed-56 | Fold-3 | OOF Score: 24.613545745220822\n",
      "\n",
      "[0]\tvalidation_0-rmse:4710.63037\tvalidation_1-rmse:4728.31250\n",
      "[50]\tvalidation_0-rmse:1489.21704\tvalidation_1-rmse:2519.10938\n",
      "[99]\tvalidation_0-rmse:877.44110\tvalidation_1-rmse:2499.95264\n",
      "\n",
      "Seed-56 | Fold-4 | OOF Score: 15.13106422529229\n",
      "\n",
      "\n",
      "Seed: 56 | Aggregate OOF Score: 17.889789313087938\n",
      "\n",
      "\n",
      "Aggregate OOF Score: 17.957346235886174\n"
     ]
    }
   ],
   "source": [
    "FOLD = 5\n",
    "NUM_SEED = 3\n",
    "\n",
    "np.random.seed(3)\n",
    "seeds = np.random.randint(0, 100, size=NUM_SEED)\n",
    "\n",
    "oof_score = 0\n",
    "y_pred_meta_xgb = np.zeros((Ytrain.shape[0], 1))\n",
    "y_pred_final_xgb = 0\n",
    "counter = 0\n",
    "\n",
    "\n",
    "for sidx, seed in enumerate(seeds):\n",
    "    seed_score = 0\n",
    "    \n",
    "    kfold = StratifiedKFold(n_splits=FOLD, shuffle=True, random_state=seed)\n",
    "\n",
    "    for idx, (train, val) in enumerate(kfold.split(Xtrain, Ytrain_strat)):\n",
    "        counter += 1\n",
    "\n",
    "        train_x, train_y = Xtrain[train], Ytrain[train]\n",
    "        val_x, val_y = Xtrain[val], Ytrain[val]\n",
    "        \n",
    "        model = XGBRegressor(\n",
    "            objective='reg:squarederror',\n",
    "            eval_metric='rmse',\n",
    "            booster='gbtree',\n",
    "            sample_type='weighted',\n",
    "            tree_method='gpu_hist',\n",
    "            grow_policy='lossguide',\n",
    "            use_label_encoder=False,\n",
    "            num_round=5000,\n",
    "            max_depth=6, \n",
    "            max_leaves=983,\n",
    "            learning_rate=0.0423,\n",
    "            subsample=0.9267,\n",
    "            colsample_bytree=0.8243,\n",
    "            min_child_weight=8,\n",
    "            reg_lambda=0.2859,\n",
    "            verbosity=0\n",
    "        )\n",
    "\n",
    "        model.fit(train_x, train_y, eval_set=[(train_x, train_y), (val_x, val_y)], \n",
    "                  early_stopping_rounds=200, verbose=50)\n",
    "\n",
    "        y_pred = model.predict(val_x, iteration_range=(0, model.best_iteration))\n",
    "        y_pred_meta_xgb[val] += np.array([y_pred]).T\n",
    "        y_pred_final_xgb += model.predict(Xtest, iteration_range=(0, model.best_iteration))\n",
    "        \n",
    "        score = 100 * r2_score(val_y, y_pred)\n",
    "        oof_score += score\n",
    "        seed_score += score\n",
    "        print(\"\\nSeed-{} | Fold-{} | OOF Score: {}\\n\".format(seed, idx, score))\n",
    "    \n",
    "    print(\"\\nSeed: {} | Aggregate OOF Score: {}\\n\\n\".format(seed, (seed_score / FOLD)))\n",
    "\n",
    "\n",
    "y_pred_meta_xgb = y_pred_meta_xgb / float(NUM_SEED)\n",
    "y_pred_final_xgb = y_pred_final_xgb / float(counter)\n",
    "oof_score /= float(counter)\n",
    "print(\"Aggregate OOF Score: {}\".format(oof_score))"
   ]
  },
  {
   "cell_type": "code",
   "execution_count": 6,
   "id": "vital-clinic",
   "metadata": {
    "execution": {
     "iopub.execute_input": "2021-06-02T02:57:36.119179Z",
     "iopub.status.busy": "2021-06-02T02:57:36.118020Z",
     "iopub.status.idle": "2021-06-02T02:57:36.125024Z",
     "shell.execute_reply": "2021-06-02T02:57:36.124389Z"
    },
    "id": "uLzmS7LzXvXy",
    "papermill": {
     "duration": 0.046125,
     "end_time": "2021-06-02T02:57:36.125182",
     "exception": false,
     "start_time": "2021-06-02T02:57:36.079057",
     "status": "completed"
    },
    "tags": []
   },
   "outputs": [],
   "source": [
    "np.savez_compressed('./XGB_Meta_Features.npz',\n",
    "                    y_pred_meta_xgb=y_pred_meta_xgb, \n",
    "                    oof_score=oof_score,\n",
    "                    y_pred_final_xgb=y_pred_final_xgb)"
   ]
  },
  {
   "cell_type": "markdown",
   "id": "expensive-syndicate",
   "metadata": {
    "id": "nZvoU4TpWxmY",
    "papermill": {
     "duration": 0.032761,
     "end_time": "2021-06-02T02:57:36.190539",
     "exception": false,
     "start_time": "2021-06-02T02:57:36.157778",
     "status": "completed"
    },
    "tags": []
   },
   "source": [
    "## Create submission file"
   ]
  },
  {
   "cell_type": "code",
   "execution_count": 7,
   "id": "contemporary-group",
   "metadata": {
    "execution": {
     "iopub.execute_input": "2021-06-02T02:57:36.262144Z",
     "iopub.status.busy": "2021-06-02T02:57:36.261372Z",
     "iopub.status.idle": "2021-06-02T02:57:36.476493Z",
     "shell.execute_reply": "2021-06-02T02:57:36.475584Z"
    },
    "executionInfo": {
     "elapsed": 3141,
     "status": "ok",
     "timestamp": 1616223489651,
     "user": {
      "displayName": "TAPAS DAS",
      "photoUrl": "https://lh3.googleusercontent.com/a-/AOh14GiyffdGKiPCR_UwVittzTcbBFms70IkGfU15fatCA=s64",
      "userId": "10798398878324948542"
     },
     "user_tz": -330
    },
    "id": "zGEGOAJHVoHV",
    "outputId": "11f9ca4c-9cca-46f6-b9a6-907ad0a09927",
    "papermill": {
     "duration": 0.253226,
     "end_time": "2021-06-02T02:57:36.476663",
     "exception": false,
     "start_time": "2021-06-02T02:57:36.223437",
     "status": "completed"
    },
    "tags": []
   },
   "outputs": [
    {
     "data": {
      "text/plain": [
       "733"
      ]
     },
     "execution_count": 7,
     "metadata": {},
     "output_type": "execute_result"
    }
   ],
   "source": [
    "with open(\"../input/he-ffi-preprocess-data/HE_FFI_Dataset.txt\", 'rb') as handle: \n",
    "    data = handle.read()\n",
    "\n",
    "processed_data = pickle.loads(data)\n",
    "test_df = processed_data['test_df']\n",
    "\n",
    "del processed_data\n",
    "gc.collect()"
   ]
  },
  {
   "cell_type": "code",
   "execution_count": 8,
   "id": "chicken-missouri",
   "metadata": {
    "execution": {
     "iopub.execute_input": "2021-06-02T02:57:36.575160Z",
     "iopub.status.busy": "2021-06-02T02:57:36.574448Z",
     "iopub.status.idle": "2021-06-02T02:57:36.774737Z",
     "shell.execute_reply": "2021-06-02T02:57:36.773654Z"
    },
    "id": "KDIsotrKVoJN",
    "papermill": {
     "duration": 0.264782,
     "end_time": "2021-06-02T02:57:36.774950",
     "exception": false,
     "start_time": "2021-06-02T02:57:36.510168",
     "status": "completed"
    },
    "tags": []
   },
   "outputs": [
    {
     "data": {
      "text/html": [
       "<div>\n",
       "<style scoped>\n",
       "    .dataframe tbody tr th:only-of-type {\n",
       "        vertical-align: middle;\n",
       "    }\n",
       "\n",
       "    .dataframe tbody tr th {\n",
       "        vertical-align: top;\n",
       "    }\n",
       "\n",
       "    .dataframe thead th {\n",
       "        text-align: right;\n",
       "    }\n",
       "</style>\n",
       "<table border=\"1\" class=\"dataframe\">\n",
       "  <thead>\n",
       "    <tr style=\"text-align: right;\">\n",
       "      <th></th>\n",
       "      <th>Image_path</th>\n",
       "      <th>Condition</th>\n",
       "      <th>Amount</th>\n",
       "    </tr>\n",
       "  </thead>\n",
       "  <tbody>\n",
       "    <tr>\n",
       "      <th>0</th>\n",
       "      <td>img_4538519.jpg</td>\n",
       "      <td>1.0</td>\n",
       "      <td>2959.886963</td>\n",
       "    </tr>\n",
       "    <tr>\n",
       "      <th>1</th>\n",
       "      <td>img_7766002.jpg</td>\n",
       "      <td>1.0</td>\n",
       "      <td>3864.057373</td>\n",
       "    </tr>\n",
       "    <tr>\n",
       "      <th>2</th>\n",
       "      <td>img_4637390.jpg</td>\n",
       "      <td>1.0</td>\n",
       "      <td>4116.391113</td>\n",
       "    </tr>\n",
       "    <tr>\n",
       "      <th>3</th>\n",
       "      <td>img_4516108.jpg</td>\n",
       "      <td>1.0</td>\n",
       "      <td>4265.087891</td>\n",
       "    </tr>\n",
       "    <tr>\n",
       "      <th>4</th>\n",
       "      <td>img_4517008.jpg</td>\n",
       "      <td>1.0</td>\n",
       "      <td>3620.954102</td>\n",
       "    </tr>\n",
       "  </tbody>\n",
       "</table>\n",
       "</div>"
      ],
      "text/plain": [
       "        Image_path  Condition       Amount\n",
       "0  img_4538519.jpg        1.0  2959.886963\n",
       "1  img_7766002.jpg        1.0  3864.057373\n",
       "2  img_4637390.jpg        1.0  4116.391113\n",
       "3  img_4516108.jpg        1.0  4265.087891\n",
       "4  img_4517008.jpg        1.0  3620.954102"
      ]
     },
     "execution_count": 8,
     "metadata": {},
     "output_type": "execute_result"
    }
   ],
   "source": [
    "test_df1 = pd.read_csv(\"../input/he-fast-furious-insured/dataset/test.csv\")\n",
    "\n",
    "submit_df = pd.DataFrame()\n",
    "submit_df['Image_path'] = test_df1['Image_path']\n",
    "submit_df['Condition'] = test_df['Condition']\n",
    "submit_df['Amount'] = y_pred_final_xgb\n",
    "\n",
    "submit_df.to_csv(\"./XGB_Submission_wo_Adjustment.csv\", index=False)\n",
    "submit_df.head()"
   ]
  },
  {
   "cell_type": "code",
   "execution_count": 9,
   "id": "juvenile-institute",
   "metadata": {
    "execution": {
     "iopub.execute_input": "2021-06-02T02:57:36.852649Z",
     "iopub.status.busy": "2021-06-02T02:57:36.851489Z",
     "iopub.status.idle": "2021-06-02T02:57:36.890245Z",
     "shell.execute_reply": "2021-06-02T02:57:36.889607Z"
    },
    "id": "W2c88MvxXm65",
    "papermill": {
     "duration": 0.081594,
     "end_time": "2021-06-02T02:57:36.890418",
     "exception": false,
     "start_time": "2021-06-02T02:57:36.808824",
     "status": "completed"
    },
    "tags": []
   },
   "outputs": [
    {
     "data": {
      "text/html": [
       "<div>\n",
       "<style scoped>\n",
       "    .dataframe tbody tr th:only-of-type {\n",
       "        vertical-align: middle;\n",
       "    }\n",
       "\n",
       "    .dataframe tbody tr th {\n",
       "        vertical-align: top;\n",
       "    }\n",
       "\n",
       "    .dataframe thead th {\n",
       "        text-align: right;\n",
       "    }\n",
       "</style>\n",
       "<table border=\"1\" class=\"dataframe\">\n",
       "  <thead>\n",
       "    <tr style=\"text-align: right;\">\n",
       "      <th></th>\n",
       "      <th>Image_path</th>\n",
       "      <th>Condition</th>\n",
       "      <th>Amount</th>\n",
       "    </tr>\n",
       "  </thead>\n",
       "  <tbody>\n",
       "    <tr>\n",
       "      <th>0</th>\n",
       "      <td>img_4538519.jpg</td>\n",
       "      <td>1.0</td>\n",
       "      <td>2959.886963</td>\n",
       "    </tr>\n",
       "    <tr>\n",
       "      <th>1</th>\n",
       "      <td>img_7766002.jpg</td>\n",
       "      <td>1.0</td>\n",
       "      <td>3864.057373</td>\n",
       "    </tr>\n",
       "    <tr>\n",
       "      <th>2</th>\n",
       "      <td>img_4637390.jpg</td>\n",
       "      <td>1.0</td>\n",
       "      <td>4116.391113</td>\n",
       "    </tr>\n",
       "    <tr>\n",
       "      <th>3</th>\n",
       "      <td>img_4516108.jpg</td>\n",
       "      <td>1.0</td>\n",
       "      <td>4265.087891</td>\n",
       "    </tr>\n",
       "    <tr>\n",
       "      <th>4</th>\n",
       "      <td>img_4517008.jpg</td>\n",
       "      <td>1.0</td>\n",
       "      <td>3620.954102</td>\n",
       "    </tr>\n",
       "  </tbody>\n",
       "</table>\n",
       "</div>"
      ],
      "text/plain": [
       "        Image_path  Condition       Amount\n",
       "0  img_4538519.jpg        1.0  2959.886963\n",
       "1  img_7766002.jpg        1.0  3864.057373\n",
       "2  img_4637390.jpg        1.0  4116.391113\n",
       "3  img_4516108.jpg        1.0  4265.087891\n",
       "4  img_4517008.jpg        1.0  3620.954102"
      ]
     },
     "execution_count": 9,
     "metadata": {},
     "output_type": "execute_result"
    }
   ],
   "source": [
    "test_df1 = pd.read_csv(\"../input/he-fast-furious-insured/dataset/test.csv\")\n",
    "\n",
    "submit_df = pd.DataFrame()\n",
    "submit_df['Image_path'] = test_df1['Image_path']\n",
    "submit_df['Condition'] = test_df['Condition']\n",
    "submit_df['Amount'] = y_pred_final_xgb\n",
    "submit_df.loc[test_df['Condition']==0, 'Amount'] = 0\n",
    "\n",
    "submit_df.to_csv(\"./XGB_Submission_w_Adjustment.csv\", index=False)\n",
    "submit_df.head()"
   ]
  },
  {
   "cell_type": "code",
   "execution_count": null,
   "id": "alert-rebate",
   "metadata": {
    "papermill": {
     "duration": 0.034189,
     "end_time": "2021-06-02T02:57:36.958812",
     "exception": false,
     "start_time": "2021-06-02T02:57:36.924623",
     "status": "completed"
    },
    "tags": []
   },
   "outputs": [],
   "source": []
  }
 ],
 "metadata": {
  "kernelspec": {
   "display_name": "Python 3",
   "language": "python",
   "name": "python3"
  },
  "language_info": {
   "codemirror_mode": {
    "name": "ipython",
    "version": 3
   },
   "file_extension": ".py",
   "mimetype": "text/x-python",
   "name": "python",
   "nbconvert_exporter": "python",
   "pygments_lexer": "ipython3",
   "version": "3.7.10"
  },
  "papermill": {
   "default_parameters": {},
   "duration": 47.834611,
   "end_time": "2021-06-02T02:57:38.722504",
   "environment_variables": {},
   "exception": null,
   "input_path": "__notebook__.ipynb",
   "output_path": "__notebook__.ipynb",
   "parameters": {},
   "start_time": "2021-06-02T02:56:50.887893",
   "version": "2.3.3"
  }
 },
 "nbformat": 4,
 "nbformat_minor": 5
}
