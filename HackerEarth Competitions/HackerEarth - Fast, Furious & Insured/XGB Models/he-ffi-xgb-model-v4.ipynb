{
 "cells": [
  {
   "cell_type": "markdown",
   "id": "spoken-helen",
   "metadata": {
    "id": "uLz9OcH8SeET",
    "papermill": {
     "duration": 0.010968,
     "end_time": "2021-06-11T16:28:56.679592",
     "exception": false,
     "start_time": "2021-06-11T16:28:56.668624",
     "status": "completed"
    },
    "tags": []
   },
   "source": [
    "## Import libraries"
   ]
  },
  {
   "cell_type": "code",
   "execution_count": 1,
   "id": "played-slovakia",
   "metadata": {
    "execution": {
     "iopub.execute_input": "2021-06-11T16:28:56.703252Z",
     "iopub.status.busy": "2021-06-11T16:28:56.701765Z",
     "iopub.status.idle": "2021-06-11T16:28:57.600492Z",
     "shell.execute_reply": "2021-06-11T16:28:57.599392Z",
     "shell.execute_reply.started": "2021-06-11T16:27:29.808409Z"
    },
    "executionInfo": {
     "elapsed": 23727,
     "status": "ok",
     "timestamp": 1616326442041,
     "user": {
      "displayName": "TAPAS DAS",
      "photoUrl": "https://lh3.googleusercontent.com/a-/AOh14GiyffdGKiPCR_UwVittzTcbBFms70IkGfU15fatCA=s64",
      "userId": "10798398878324948542"
     },
     "user_tz": -330
    },
    "id": "E9svswc9SUuX",
    "papermill": {
     "duration": 0.911704,
     "end_time": "2021-06-11T16:28:57.600640",
     "exception": false,
     "start_time": "2021-06-11T16:28:56.688936",
     "status": "completed"
    },
    "tags": []
   },
   "outputs": [],
   "source": [
    "import warnings\n",
    "warnings.filterwarnings(\"ignore\")\n",
    "\n",
    "import gc\n",
    "import pickle\n",
    "import numpy as np\n",
    "import pandas as pd\n",
    "from tqdm import tqdm\n",
    "from xgboost import XGBRegressor\n",
    "from sklearn.metrics import r2_score\n",
    "from sklearn.model_selection import StratifiedKFold"
   ]
  },
  {
   "cell_type": "markdown",
   "id": "adult-rough",
   "metadata": {
    "id": "hg85SpW-S6hl",
    "papermill": {
     "duration": 0.009015,
     "end_time": "2021-06-11T16:28:57.619091",
     "exception": false,
     "start_time": "2021-06-11T16:28:57.610076",
     "status": "completed"
    },
    "tags": []
   },
   "source": [
    "## Prepare data for model training"
   ]
  },
  {
   "cell_type": "code",
   "execution_count": 2,
   "id": "extraordinary-toronto",
   "metadata": {
    "execution": {
     "iopub.execute_input": "2021-06-11T16:28:57.641721Z",
     "iopub.status.busy": "2021-06-11T16:28:57.641233Z",
     "iopub.status.idle": "2021-06-11T16:28:58.251428Z",
     "shell.execute_reply": "2021-06-11T16:28:58.251839Z",
     "shell.execute_reply.started": "2021-06-11T16:27:30.683260Z"
    },
    "executionInfo": {
     "elapsed": 10043,
     "status": "ok",
     "timestamp": 1616326444482,
     "user": {
      "displayName": "TAPAS DAS",
      "photoUrl": "https://lh3.googleusercontent.com/a-/AOh14GiyffdGKiPCR_UwVittzTcbBFms70IkGfU15fatCA=s64",
      "userId": "10798398878324948542"
     },
     "user_tz": -330
    },
    "id": "VdhgoIAmSUxK",
    "outputId": "7897cfad-c8d4-46d9-86ea-04de37e11444",
    "papermill": {
     "duration": 0.623546,
     "end_time": "2021-06-11T16:28:58.251997",
     "exception": false,
     "start_time": "2021-06-11T16:28:57.628451",
     "status": "completed"
    },
    "tags": []
   },
   "outputs": [
    {
     "data": {
      "text/plain": [
       "20"
      ]
     },
     "execution_count": 2,
     "metadata": {},
     "output_type": "execute_result"
    }
   ],
   "source": [
    "with open(\"../input/he-ffi-preprocess-data-v2-4/HE_FFI_Dataset.txt\", 'rb') as handle: \n",
    "    data = handle.read()\n",
    "\n",
    "processed_data = pickle.loads(data)\n",
    "train_df = processed_data['train_df']\n",
    "test_df = processed_data['test_df']\n",
    "\n",
    "del processed_data\n",
    "gc.collect()"
   ]
  },
  {
   "cell_type": "code",
   "execution_count": 3,
   "id": "registered-first",
   "metadata": {
    "execution": {
     "iopub.execute_input": "2021-06-11T16:28:58.285337Z",
     "iopub.status.busy": "2021-06-11T16:28:58.284392Z",
     "iopub.status.idle": "2021-06-11T16:28:58.400091Z",
     "shell.execute_reply": "2021-06-11T16:28:58.399468Z",
     "shell.execute_reply.started": "2021-06-11T16:27:31.235757Z"
    },
    "papermill": {
     "duration": 0.138341,
     "end_time": "2021-06-11T16:28:58.400244",
     "exception": false,
     "start_time": "2021-06-11T16:28:58.261903",
     "status": "completed"
    },
    "tags": []
   },
   "outputs": [
    {
     "name": "stderr",
     "output_type": "stream",
     "text": [
      "100%|██████████| 7/7 [00:00<00:00, 117.43it/s]\n",
      "100%|██████████| 7/7 [00:00<00:00, 188.84it/s]"
     ]
    },
    {
     "name": "stdout",
     "output_type": "stream",
     "text": [
      "train_df: (1382, 1732)\n",
      "test_df: (600, 1731)\n"
     ]
    },
    {
     "name": "stderr",
     "output_type": "stream",
     "text": [
      "\n"
     ]
    }
   ],
   "source": [
    "cat_cols = ['Insurance_company','expiry_dt_year','expiry_dt_quarter','Condition',\n",
    "            'expiry_dt_month','expiry_dt_day_week','expiry_dt_day_weekend']\n",
    "\n",
    "train_df[cat_cols] = train_df[cat_cols].astype(int)\n",
    "test_df[cat_cols] = test_df[cat_cols].astype(int)\n",
    "\n",
    "for col in tqdm(cat_cols):\n",
    "    dummy_val = pd.get_dummies(train_df[col], prefix='col')\n",
    "    train_df = pd.concat([train_df, dummy_val], axis=1)\n",
    "    train_df.drop([col], inplace=True, axis=1)\n",
    "\n",
    "print(\"train_df: {}\".format(train_df.shape))\n",
    "\n",
    "for col in tqdm(cat_cols):\n",
    "    dummy_val = pd.get_dummies(test_df[col], prefix='col')\n",
    "    test_df = pd.concat([test_df, dummy_val], axis=1)\n",
    "    test_df.drop([col], inplace=True, axis=1)\n",
    "\n",
    "print(\"test_df: {}\".format(test_df.shape))"
   ]
  },
  {
   "cell_type": "code",
   "execution_count": 4,
   "id": "daily-breach",
   "metadata": {
    "execution": {
     "iopub.execute_input": "2021-06-11T16:28:58.432790Z",
     "iopub.status.busy": "2021-06-11T16:28:58.429436Z",
     "iopub.status.idle": "2021-06-11T16:28:58.532864Z",
     "shell.execute_reply": "2021-06-11T16:28:58.533463Z",
     "shell.execute_reply.started": "2021-06-11T16:27:31.357288Z"
    },
    "executionInfo": {
     "elapsed": 2058,
     "status": "ok",
     "timestamp": 1616326525321,
     "user": {
      "displayName": "TAPAS DAS",
      "photoUrl": "https://lh3.googleusercontent.com/a-/AOh14GiyffdGKiPCR_UwVittzTcbBFms70IkGfU15fatCA=s64",
      "userId": "10798398878324948542"
     },
     "user_tz": -330
    },
    "id": "UAfyHbeASU7C",
    "outputId": "14c429a7-7b43-4065-afae-da7d4f6679a9",
    "papermill": {
     "duration": 0.122016,
     "end_time": "2021-06-11T16:28:58.533652",
     "exception": false,
     "start_time": "2021-06-11T16:28:58.411636",
     "status": "completed"
    },
    "tags": []
   },
   "outputs": [
    {
     "name": "stdout",
     "output_type": "stream",
     "text": [
      "Xtrain: (1382, 1730) \n",
      "Ytrain: (1382,) \n",
      "Xtest: (600, 1730)\n"
     ]
    },
    {
     "data": {
      "text/plain": [
       "72"
      ]
     },
     "execution_count": 4,
     "metadata": {},
     "output_type": "execute_result"
    }
   ],
   "source": [
    "Xtrain = train_df.loc[:, ~train_df.columns.isin(['Image_path','Amount'])].values\n",
    "Ytrain = train_df['Amount'].values\n",
    "Ytrain_strat = pd.qcut(train_df['Amount'].values, q=5, labels=range(0,5))\n",
    "Xtest = test_df.loc[:, ~test_df.columns.isin(['Image_path'])].values\n",
    "\n",
    "print(\"Xtrain: {} \\nYtrain: {} \\nXtest: {}\".format(Xtrain.shape, Ytrain.shape, Xtest.shape))\n",
    "\n",
    "del train_df\n",
    "del test_df\n",
    "gc.collect()"
   ]
  },
  {
   "cell_type": "markdown",
   "id": "limited-shaft",
   "metadata": {
    "id": "9wNC5rWEVnjd",
    "papermill": {
     "duration": 0.011591,
     "end_time": "2021-06-11T16:28:58.557369",
     "exception": false,
     "start_time": "2021-06-11T16:28:58.545778",
     "status": "completed"
    },
    "tags": []
   },
   "source": [
    "## Build and validate the model"
   ]
  },
  {
   "cell_type": "code",
   "execution_count": 5,
   "id": "classical-karen",
   "metadata": {
    "execution": {
     "iopub.execute_input": "2021-06-11T16:28:58.593482Z",
     "iopub.status.busy": "2021-06-11T16:28:58.592868Z",
     "iopub.status.idle": "2021-06-11T16:29:32.331214Z",
     "shell.execute_reply": "2021-06-11T16:29:32.331749Z",
     "shell.execute_reply.started": "2021-06-11T16:27:58.943615Z"
    },
    "id": "uWPosEORSVBp",
    "outputId": "d70ac047-a86b-4f36-84cc-960b1b5316be",
    "papermill": {
     "duration": 33.762907,
     "end_time": "2021-06-11T16:29:32.331969",
     "exception": false,
     "start_time": "2021-06-11T16:28:58.569062",
     "status": "completed"
    },
    "tags": []
   },
   "outputs": [
    {
     "name": "stdout",
     "output_type": "stream",
     "text": [
      "[0]\tvalidation_0-rmse:4719.71484\tvalidation_1-rmse:4703.94678\n",
      "[50]\tvalidation_0-rmse:1511.30200\tvalidation_1-rmse:2446.69727\n",
      "[99]\tvalidation_0-rmse:850.61481\tvalidation_1-rmse:2432.38965\n",
      "\n",
      "Seed-24 | Fold-0 | OOF Score: 20.348297683920446\n",
      "\n",
      "[0]\tvalidation_0-rmse:4720.02734\tvalidation_1-rmse:4701.13281\n",
      "[50]\tvalidation_0-rmse:1453.05933\tvalidation_1-rmse:2444.19922\n",
      "[99]\tvalidation_0-rmse:810.80438\tvalidation_1-rmse:2430.49316\n",
      "\n",
      "Seed-24 | Fold-1 | OOF Score: 17.1860440789003\n",
      "\n",
      "[0]\tvalidation_0-rmse:4709.35840\tvalidation_1-rmse:4734.29199\n",
      "[50]\tvalidation_0-rmse:1478.81213\tvalidation_1-rmse:2468.10278\n",
      "[99]\tvalidation_0-rmse:836.66864\tvalidation_1-rmse:2470.99268\n",
      "\n",
      "Seed-24 | Fold-2 | OOF Score: 15.462230665225674\n",
      "\n",
      "[0]\tvalidation_0-rmse:4711.21240\tvalidation_1-rmse:4735.96387\n",
      "[50]\tvalidation_0-rmse:1459.19202\tvalidation_1-rmse:2482.99292\n",
      "[99]\tvalidation_0-rmse:822.81964\tvalidation_1-rmse:2449.07031\n",
      "\n",
      "Seed-24 | Fold-3 | OOF Score: 20.977501482800076\n",
      "\n",
      "[0]\tvalidation_0-rmse:4702.96191\tvalidation_1-rmse:4769.42627\n",
      "[50]\tvalidation_0-rmse:1476.16748\tvalidation_1-rmse:2528.91211\n",
      "[99]\tvalidation_0-rmse:827.64075\tvalidation_1-rmse:2513.59546\n",
      "\n",
      "Seed-24 | Fold-4 | OOF Score: 16.88771048601625\n",
      "\n",
      "\n",
      "Seed: 24 | Aggregate OOF Score: 18.17235687937255\n",
      "\n",
      "\n",
      "[0]\tvalidation_0-rmse:4720.70557\tvalidation_1-rmse:4715.44336\n",
      "[50]\tvalidation_0-rmse:1494.95264\tvalidation_1-rmse:2427.93091\n",
      "[99]\tvalidation_0-rmse:840.26099\tvalidation_1-rmse:2365.58203\n",
      "\n",
      "Seed-3 | Fold-0 | OOF Score: 22.206188562855388\n",
      "\n",
      "[0]\tvalidation_0-rmse:4704.08887\tvalidation_1-rmse:4762.56641\n",
      "[50]\tvalidation_0-rmse:1450.97424\tvalidation_1-rmse:2497.27881\n",
      "[99]\tvalidation_0-rmse:822.83520\tvalidation_1-rmse:2453.61621\n",
      "\n",
      "Seed-3 | Fold-1 | OOF Score: 21.095848465073498\n",
      "\n",
      "[0]\tvalidation_0-rmse:4704.14697\tvalidation_1-rmse:4750.85352\n",
      "[50]\tvalidation_0-rmse:1477.90747\tvalidation_1-rmse:2489.41919\n",
      "[99]\tvalidation_0-rmse:862.56903\tvalidation_1-rmse:2464.26709\n",
      "\n",
      "Seed-3 | Fold-2 | OOF Score: 18.33822777708073\n",
      "\n",
      "[0]\tvalidation_0-rmse:4720.95703\tvalidation_1-rmse:4700.96777\n",
      "[50]\tvalidation_0-rmse:1480.32117\tvalidation_1-rmse:2447.57471\n",
      "[99]\tvalidation_0-rmse:815.58984\tvalidation_1-rmse:2437.93921\n",
      "\n",
      "Seed-3 | Fold-3 | OOF Score: 19.491348200605362\n",
      "\n",
      "[0]\tvalidation_0-rmse:4716.49658\tvalidation_1-rmse:4711.58350\n",
      "[50]\tvalidation_0-rmse:1470.89477\tvalidation_1-rmse:2483.62183\n",
      "[99]\tvalidation_0-rmse:822.99646\tvalidation_1-rmse:2479.90088\n",
      "\n",
      "Seed-3 | Fold-4 | OOF Score: 14.639680031429059\n",
      "\n",
      "\n",
      "Seed: 3 | Aggregate OOF Score: 19.15425860740881\n",
      "\n",
      "\n",
      "[0]\tvalidation_0-rmse:4730.19434\tvalidation_1-rmse:4666.31348\n",
      "[50]\tvalidation_0-rmse:1484.47266\tvalidation_1-rmse:2422.82324\n",
      "[99]\tvalidation_0-rmse:802.41882\tvalidation_1-rmse:2411.58789\n",
      "\n",
      "Seed-56 | Fold-0 | OOF Score: 17.518446261800424\n",
      "\n",
      "[0]\tvalidation_0-rmse:4693.59326\tvalidation_1-rmse:4808.73047\n",
      "[50]\tvalidation_0-rmse:1449.42126\tvalidation_1-rmse:2538.69751\n",
      "[99]\tvalidation_0-rmse:821.84467\tvalidation_1-rmse:2480.01416\n",
      "\n",
      "Seed-56 | Fold-1 | OOF Score: 20.958160202562915\n",
      "\n",
      "[0]\tvalidation_0-rmse:4729.61572\tvalidation_1-rmse:4655.31641\n",
      "[50]\tvalidation_0-rmse:1496.45117\tvalidation_1-rmse:2426.55859\n",
      "[99]\tvalidation_0-rmse:825.88599\tvalidation_1-rmse:2416.40723\n",
      "\n",
      "Seed-56 | Fold-2 | OOF Score: 16.544776702943786\n",
      "\n",
      "[0]\tvalidation_0-rmse:4700.71631\tvalidation_1-rmse:4781.61914\n",
      "[50]\tvalidation_0-rmse:1499.71069\tvalidation_1-rmse:2461.13745\n",
      "[99]\tvalidation_0-rmse:846.83368\tvalidation_1-rmse:2417.06006\n",
      "\n",
      "Seed-56 | Fold-3 | OOF Score: 24.116869521669205\n",
      "\n",
      "[0]\tvalidation_0-rmse:4714.88086\tvalidation_1-rmse:4718.11279\n",
      "[50]\tvalidation_0-rmse:1454.45593\tvalidation_1-rmse:2553.52148\n",
      "[99]\tvalidation_0-rmse:813.62518\tvalidation_1-rmse:2526.82202\n",
      "\n",
      "Seed-56 | Fold-4 | OOF Score: 12.217863444320031\n",
      "\n",
      "\n",
      "Seed: 56 | Aggregate OOF Score: 18.271223226659274\n",
      "\n",
      "\n",
      "Aggregate OOF Score: 18.53261290448021\n"
     ]
    }
   ],
   "source": [
    "FOLD = 5\n",
    "NUM_SEED = 3\n",
    "\n",
    "np.random.seed(3)\n",
    "seeds = np.random.randint(0, 100, size=NUM_SEED)\n",
    "\n",
    "oof_score = 0\n",
    "y_pred_meta_xgb = np.zeros((Ytrain.shape[0], 1))\n",
    "y_pred_final_xgb = 0\n",
    "counter = 0\n",
    "\n",
    "\n",
    "for sidx, seed in enumerate(seeds):\n",
    "    seed_score = 0\n",
    "    \n",
    "    kfold = StratifiedKFold(n_splits=FOLD, shuffle=True, random_state=seed)\n",
    "\n",
    "    for idx, (train, val) in enumerate(kfold.split(Xtrain, Ytrain_strat)):\n",
    "        counter += 1\n",
    "\n",
    "        train_x, train_y = Xtrain[train], Ytrain[train]\n",
    "        val_x, val_y = Xtrain[val], Ytrain[val]\n",
    "        \n",
    "        model = XGBRegressor(\n",
    "            objective='reg:squarederror',\n",
    "            eval_metric='rmse',\n",
    "            booster='gbtree',\n",
    "            sample_type='weighted',\n",
    "            tree_method='gpu_hist',\n",
    "            grow_policy='lossguide',\n",
    "            use_label_encoder=False,\n",
    "            num_round=5000,\n",
    "            max_depth=6, \n",
    "            max_leaves=983,\n",
    "            learning_rate=0.0423,\n",
    "            subsample=0.9267,\n",
    "            colsample_bytree=0.8243,\n",
    "            min_child_weight=8,\n",
    "            reg_lambda=0.2859,\n",
    "            verbosity=0\n",
    "        )\n",
    "\n",
    "        model.fit(train_x, train_y, eval_set=[(train_x, train_y), (val_x, val_y)], \n",
    "                  early_stopping_rounds=200, verbose=50)\n",
    "\n",
    "        y_pred = model.predict(val_x, iteration_range=(0, model.best_iteration))\n",
    "        y_pred_meta_xgb[val] += np.array([y_pred]).T\n",
    "        y_pred_final_xgb += model.predict(Xtest, iteration_range=(0, model.best_iteration))\n",
    "        \n",
    "        score = 100 * r2_score(val_y, y_pred)\n",
    "        oof_score += score\n",
    "        seed_score += score\n",
    "        print(\"\\nSeed-{} | Fold-{} | OOF Score: {}\\n\".format(seed, idx, score))\n",
    "    \n",
    "    print(\"\\nSeed: {} | Aggregate OOF Score: {}\\n\\n\".format(seed, (seed_score / FOLD)))\n",
    "\n",
    "\n",
    "y_pred_meta_xgb = y_pred_meta_xgb / float(NUM_SEED)\n",
    "y_pred_final_xgb = y_pred_final_xgb / float(counter)\n",
    "oof_score /= float(counter)\n",
    "print(\"Aggregate OOF Score: {}\".format(oof_score))"
   ]
  },
  {
   "cell_type": "code",
   "execution_count": 6,
   "id": "present-snowboard",
   "metadata": {
    "execution": {
     "iopub.execute_input": "2021-06-11T16:29:32.388320Z",
     "iopub.status.busy": "2021-06-11T16:29:32.387502Z",
     "iopub.status.idle": "2021-06-11T16:29:32.392615Z",
     "shell.execute_reply": "2021-06-11T16:29:32.392179Z"
    },
    "id": "uLzmS7LzXvXy",
    "papermill": {
     "duration": 0.032411,
     "end_time": "2021-06-11T16:29:32.392723",
     "exception": false,
     "start_time": "2021-06-11T16:29:32.360312",
     "status": "completed"
    },
    "tags": []
   },
   "outputs": [],
   "source": [
    "np.savez_compressed('./XGB_Meta_Features.npz',\n",
    "                    y_pred_meta_xgb=y_pred_meta_xgb, \n",
    "                    oof_score=oof_score,\n",
    "                    y_pred_final_xgb=y_pred_final_xgb)"
   ]
  },
  {
   "cell_type": "markdown",
   "id": "suffering-basin",
   "metadata": {
    "id": "nZvoU4TpWxmY",
    "papermill": {
     "duration": 0.023198,
     "end_time": "2021-06-11T16:29:32.439520",
     "exception": false,
     "start_time": "2021-06-11T16:29:32.416322",
     "status": "completed"
    },
    "tags": []
   },
   "source": [
    "## Create submission file"
   ]
  },
  {
   "cell_type": "code",
   "execution_count": 7,
   "id": "substantial-celebration",
   "metadata": {
    "execution": {
     "iopub.execute_input": "2021-06-11T16:29:32.490774Z",
     "iopub.status.busy": "2021-06-11T16:29:32.490266Z",
     "iopub.status.idle": "2021-06-11T16:29:32.653792Z",
     "shell.execute_reply": "2021-06-11T16:29:32.654213Z"
    },
    "executionInfo": {
     "elapsed": 3141,
     "status": "ok",
     "timestamp": 1616223489651,
     "user": {
      "displayName": "TAPAS DAS",
      "photoUrl": "https://lh3.googleusercontent.com/a-/AOh14GiyffdGKiPCR_UwVittzTcbBFms70IkGfU15fatCA=s64",
      "userId": "10798398878324948542"
     },
     "user_tz": -330
    },
    "id": "zGEGOAJHVoHV",
    "outputId": "11f9ca4c-9cca-46f6-b9a6-907ad0a09927",
    "papermill": {
     "duration": 0.191364,
     "end_time": "2021-06-11T16:29:32.654361",
     "exception": false,
     "start_time": "2021-06-11T16:29:32.462997",
     "status": "completed"
    },
    "tags": []
   },
   "outputs": [
    {
     "data": {
      "text/plain": [
       "733"
      ]
     },
     "execution_count": 7,
     "metadata": {},
     "output_type": "execute_result"
    }
   ],
   "source": [
    "with open(\"../input/he-ffi-preprocess-data/HE_FFI_Dataset.txt\", 'rb') as handle: \n",
    "    data = handle.read()\n",
    "\n",
    "processed_data = pickle.loads(data)\n",
    "test_df = processed_data['test_df']\n",
    "\n",
    "del processed_data\n",
    "gc.collect()"
   ]
  },
  {
   "cell_type": "code",
   "execution_count": 8,
   "id": "reserved-penguin",
   "metadata": {
    "execution": {
     "iopub.execute_input": "2021-06-11T16:29:32.715838Z",
     "iopub.status.busy": "2021-06-11T16:29:32.715331Z",
     "iopub.status.idle": "2021-06-11T16:29:32.855730Z",
     "shell.execute_reply": "2021-06-11T16:29:32.854889Z"
    },
    "id": "KDIsotrKVoJN",
    "papermill": {
     "duration": 0.177868,
     "end_time": "2021-06-11T16:29:32.855867",
     "exception": false,
     "start_time": "2021-06-11T16:29:32.677999",
     "status": "completed"
    },
    "tags": []
   },
   "outputs": [
    {
     "data": {
      "text/html": [
       "<div>\n",
       "<style scoped>\n",
       "    .dataframe tbody tr th:only-of-type {\n",
       "        vertical-align: middle;\n",
       "    }\n",
       "\n",
       "    .dataframe tbody tr th {\n",
       "        vertical-align: top;\n",
       "    }\n",
       "\n",
       "    .dataframe thead th {\n",
       "        text-align: right;\n",
       "    }\n",
       "</style>\n",
       "<table border=\"1\" class=\"dataframe\">\n",
       "  <thead>\n",
       "    <tr style=\"text-align: right;\">\n",
       "      <th></th>\n",
       "      <th>Image_path</th>\n",
       "      <th>Condition</th>\n",
       "      <th>Amount</th>\n",
       "    </tr>\n",
       "  </thead>\n",
       "  <tbody>\n",
       "    <tr>\n",
       "      <th>0</th>\n",
       "      <td>img_4538519.jpg</td>\n",
       "      <td>1.0</td>\n",
       "      <td>2608.582031</td>\n",
       "    </tr>\n",
       "    <tr>\n",
       "      <th>1</th>\n",
       "      <td>img_7766002.jpg</td>\n",
       "      <td>1.0</td>\n",
       "      <td>3566.242432</td>\n",
       "    </tr>\n",
       "    <tr>\n",
       "      <th>2</th>\n",
       "      <td>img_4637390.jpg</td>\n",
       "      <td>1.0</td>\n",
       "      <td>3725.645020</td>\n",
       "    </tr>\n",
       "    <tr>\n",
       "      <th>3</th>\n",
       "      <td>img_4516108.jpg</td>\n",
       "      <td>1.0</td>\n",
       "      <td>4110.539551</td>\n",
       "    </tr>\n",
       "    <tr>\n",
       "      <th>4</th>\n",
       "      <td>img_4517008.jpg</td>\n",
       "      <td>1.0</td>\n",
       "      <td>3941.083496</td>\n",
       "    </tr>\n",
       "  </tbody>\n",
       "</table>\n",
       "</div>"
      ],
      "text/plain": [
       "        Image_path  Condition       Amount\n",
       "0  img_4538519.jpg        1.0  2608.582031\n",
       "1  img_7766002.jpg        1.0  3566.242432\n",
       "2  img_4637390.jpg        1.0  3725.645020\n",
       "3  img_4516108.jpg        1.0  4110.539551\n",
       "4  img_4517008.jpg        1.0  3941.083496"
      ]
     },
     "execution_count": 8,
     "metadata": {},
     "output_type": "execute_result"
    }
   ],
   "source": [
    "test_df1 = pd.read_csv(\"../input/he-fast-furious-insured/dataset/test.csv\")\n",
    "\n",
    "submit_df = pd.DataFrame()\n",
    "submit_df['Image_path'] = test_df1['Image_path']\n",
    "submit_df['Condition'] = test_df['Condition']\n",
    "submit_df['Amount'] = y_pred_final_xgb\n",
    "\n",
    "submit_df.to_csv(\"./XGB_Submission_wo_Adjustment.csv\", index=False)\n",
    "submit_df.head()"
   ]
  },
  {
   "cell_type": "code",
   "execution_count": 9,
   "id": "confidential-junction",
   "metadata": {
    "execution": {
     "iopub.execute_input": "2021-06-11T16:29:32.912498Z",
     "iopub.status.busy": "2021-06-11T16:29:32.911659Z",
     "iopub.status.idle": "2021-06-11T16:29:32.943373Z",
     "shell.execute_reply": "2021-06-11T16:29:32.942832Z"
    },
    "id": "W2c88MvxXm65",
    "papermill": {
     "duration": 0.062163,
     "end_time": "2021-06-11T16:29:32.943500",
     "exception": false,
     "start_time": "2021-06-11T16:29:32.881337",
     "status": "completed"
    },
    "tags": []
   },
   "outputs": [
    {
     "data": {
      "text/html": [
       "<div>\n",
       "<style scoped>\n",
       "    .dataframe tbody tr th:only-of-type {\n",
       "        vertical-align: middle;\n",
       "    }\n",
       "\n",
       "    .dataframe tbody tr th {\n",
       "        vertical-align: top;\n",
       "    }\n",
       "\n",
       "    .dataframe thead th {\n",
       "        text-align: right;\n",
       "    }\n",
       "</style>\n",
       "<table border=\"1\" class=\"dataframe\">\n",
       "  <thead>\n",
       "    <tr style=\"text-align: right;\">\n",
       "      <th></th>\n",
       "      <th>Image_path</th>\n",
       "      <th>Condition</th>\n",
       "      <th>Amount</th>\n",
       "    </tr>\n",
       "  </thead>\n",
       "  <tbody>\n",
       "    <tr>\n",
       "      <th>0</th>\n",
       "      <td>img_4538519.jpg</td>\n",
       "      <td>1.0</td>\n",
       "      <td>2608.582031</td>\n",
       "    </tr>\n",
       "    <tr>\n",
       "      <th>1</th>\n",
       "      <td>img_7766002.jpg</td>\n",
       "      <td>1.0</td>\n",
       "      <td>3566.242432</td>\n",
       "    </tr>\n",
       "    <tr>\n",
       "      <th>2</th>\n",
       "      <td>img_4637390.jpg</td>\n",
       "      <td>1.0</td>\n",
       "      <td>3725.645020</td>\n",
       "    </tr>\n",
       "    <tr>\n",
       "      <th>3</th>\n",
       "      <td>img_4516108.jpg</td>\n",
       "      <td>1.0</td>\n",
       "      <td>4110.539551</td>\n",
       "    </tr>\n",
       "    <tr>\n",
       "      <th>4</th>\n",
       "      <td>img_4517008.jpg</td>\n",
       "      <td>1.0</td>\n",
       "      <td>3941.083496</td>\n",
       "    </tr>\n",
       "  </tbody>\n",
       "</table>\n",
       "</div>"
      ],
      "text/plain": [
       "        Image_path  Condition       Amount\n",
       "0  img_4538519.jpg        1.0  2608.582031\n",
       "1  img_7766002.jpg        1.0  3566.242432\n",
       "2  img_4637390.jpg        1.0  3725.645020\n",
       "3  img_4516108.jpg        1.0  4110.539551\n",
       "4  img_4517008.jpg        1.0  3941.083496"
      ]
     },
     "execution_count": 9,
     "metadata": {},
     "output_type": "execute_result"
    }
   ],
   "source": [
    "test_df1 = pd.read_csv(\"../input/he-fast-furious-insured/dataset/test.csv\")\n",
    "\n",
    "submit_df = pd.DataFrame()\n",
    "submit_df['Image_path'] = test_df1['Image_path']\n",
    "submit_df['Condition'] = test_df['Condition']\n",
    "submit_df['Amount'] = y_pred_final_xgb\n",
    "submit_df.loc[test_df['Condition']==0, 'Amount'] = 0\n",
    "\n",
    "submit_df.to_csv(\"./XGB_Submission_w_Adjustment.csv\", index=False)\n",
    "submit_df.head()"
   ]
  },
  {
   "cell_type": "code",
   "execution_count": null,
   "id": "incident-linux",
   "metadata": {
    "papermill": {
     "duration": 0.024215,
     "end_time": "2021-06-11T16:29:32.993277",
     "exception": false,
     "start_time": "2021-06-11T16:29:32.969062",
     "status": "completed"
    },
    "tags": []
   },
   "outputs": [],
   "source": []
  }
 ],
 "metadata": {
  "kernelspec": {
   "display_name": "Python 3",
   "language": "python",
   "name": "python3"
  },
  "language_info": {
   "codemirror_mode": {
    "name": "ipython",
    "version": 3
   },
   "file_extension": ".py",
   "mimetype": "text/x-python",
   "name": "python",
   "nbconvert_exporter": "python",
   "pygments_lexer": "ipython3",
   "version": "3.7.10"
  },
  "papermill": {
   "default_parameters": {},
   "duration": 44.713039,
   "end_time": "2021-06-11T16:29:34.234521",
   "environment_variables": {},
   "exception": null,
   "input_path": "__notebook__.ipynb",
   "output_path": "__notebook__.ipynb",
   "parameters": {},
   "start_time": "2021-06-11T16:28:49.521482",
   "version": "2.3.3"
  }
 },
 "nbformat": 4,
 "nbformat_minor": 5
}
