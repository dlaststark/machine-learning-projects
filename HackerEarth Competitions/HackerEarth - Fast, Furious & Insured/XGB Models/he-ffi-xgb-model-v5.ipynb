{
 "cells": [
  {
   "cell_type": "markdown",
   "id": "strange-toddler",
   "metadata": {
    "id": "uLz9OcH8SeET",
    "papermill": {
     "duration": 0.010442,
     "end_time": "2021-06-12T03:33:23.231823",
     "exception": false,
     "start_time": "2021-06-12T03:33:23.221381",
     "status": "completed"
    },
    "tags": []
   },
   "source": [
    "## Import libraries"
   ]
  },
  {
   "cell_type": "code",
   "execution_count": 1,
   "id": "greater-hands",
   "metadata": {
    "execution": {
     "iopub.execute_input": "2021-06-12T03:33:23.261150Z",
     "iopub.status.busy": "2021-06-12T03:33:23.260520Z",
     "iopub.status.idle": "2021-06-12T03:33:24.135798Z",
     "shell.execute_reply": "2021-06-12T03:33:24.135173Z",
     "shell.execute_reply.started": "2021-06-11T16:27:29.808409Z"
    },
    "executionInfo": {
     "elapsed": 23727,
     "status": "ok",
     "timestamp": 1616326442041,
     "user": {
      "displayName": "TAPAS DAS",
      "photoUrl": "https://lh3.googleusercontent.com/a-/AOh14GiyffdGKiPCR_UwVittzTcbBFms70IkGfU15fatCA=s64",
      "userId": "10798398878324948542"
     },
     "user_tz": -330
    },
    "id": "E9svswc9SUuX",
    "papermill": {
     "duration": 0.894808,
     "end_time": "2021-06-12T03:33:24.135954",
     "exception": false,
     "start_time": "2021-06-12T03:33:23.241146",
     "status": "completed"
    },
    "tags": []
   },
   "outputs": [],
   "source": [
    "import warnings\n",
    "warnings.filterwarnings(\"ignore\")\n",
    "\n",
    "import gc\n",
    "import pickle\n",
    "import numpy as np\n",
    "import pandas as pd\n",
    "from tqdm import tqdm\n",
    "from xgboost import XGBRegressor\n",
    "from sklearn.metrics import r2_score\n",
    "from sklearn.model_selection import StratifiedKFold"
   ]
  },
  {
   "cell_type": "markdown",
   "id": "mature-default",
   "metadata": {
    "id": "hg85SpW-S6hl",
    "papermill": {
     "duration": 0.009075,
     "end_time": "2021-06-12T03:33:24.154540",
     "exception": false,
     "start_time": "2021-06-12T03:33:24.145465",
     "status": "completed"
    },
    "tags": []
   },
   "source": [
    "## Prepare data for model training"
   ]
  },
  {
   "cell_type": "code",
   "execution_count": 2,
   "id": "meaningful-canada",
   "metadata": {
    "execution": {
     "iopub.execute_input": "2021-06-12T03:33:24.177014Z",
     "iopub.status.busy": "2021-06-12T03:33:24.176509Z",
     "iopub.status.idle": "2021-06-12T03:33:24.871953Z",
     "shell.execute_reply": "2021-06-12T03:33:24.871142Z",
     "shell.execute_reply.started": "2021-06-11T16:27:30.68326Z"
    },
    "executionInfo": {
     "elapsed": 10043,
     "status": "ok",
     "timestamp": 1616326444482,
     "user": {
      "displayName": "TAPAS DAS",
      "photoUrl": "https://lh3.googleusercontent.com/a-/AOh14GiyffdGKiPCR_UwVittzTcbBFms70IkGfU15fatCA=s64",
      "userId": "10798398878324948542"
     },
     "user_tz": -330
    },
    "id": "VdhgoIAmSUxK",
    "outputId": "7897cfad-c8d4-46d9-86ea-04de37e11444",
    "papermill": {
     "duration": 0.708419,
     "end_time": "2021-06-12T03:33:24.872092",
     "exception": false,
     "start_time": "2021-06-12T03:33:24.163673",
     "status": "completed"
    },
    "tags": []
   },
   "outputs": [
    {
     "data": {
      "text/plain": [
       "20"
      ]
     },
     "execution_count": 2,
     "metadata": {},
     "output_type": "execute_result"
    }
   ],
   "source": [
    "with open(\"../input/he-ffi-preprocess-data-v2-5/HE_FFI_Dataset.txt\", 'rb') as handle: \n",
    "    data = handle.read()\n",
    "\n",
    "processed_data = pickle.loads(data)\n",
    "train_df = processed_data['train_df']\n",
    "test_df = processed_data['test_df']\n",
    "\n",
    "del processed_data\n",
    "gc.collect()"
   ]
  },
  {
   "cell_type": "code",
   "execution_count": 3,
   "id": "piano-zimbabwe",
   "metadata": {
    "execution": {
     "iopub.execute_input": "2021-06-12T03:33:24.905785Z",
     "iopub.status.busy": "2021-06-12T03:33:24.899155Z",
     "iopub.status.idle": "2021-06-12T03:33:25.026405Z",
     "shell.execute_reply": "2021-06-12T03:33:25.025830Z",
     "shell.execute_reply.started": "2021-06-11T16:27:31.235757Z"
    },
    "papermill": {
     "duration": 0.144554,
     "end_time": "2021-06-12T03:33:25.026539",
     "exception": false,
     "start_time": "2021-06-12T03:33:24.881985",
     "status": "completed"
    },
    "tags": []
   },
   "outputs": [
    {
     "name": "stderr",
     "output_type": "stream",
     "text": [
      "100%|██████████| 7/7 [00:00<00:00, 111.03it/s]\n",
      "100%|██████████| 7/7 [00:00<00:00, 189.18it/s]"
     ]
    },
    {
     "name": "stdout",
     "output_type": "stream",
     "text": [
      "train_df: (1382, 2244)\n",
      "test_df: (600, 2243)\n"
     ]
    },
    {
     "name": "stderr",
     "output_type": "stream",
     "text": [
      "\n"
     ]
    }
   ],
   "source": [
    "cat_cols = ['Insurance_company','expiry_dt_year','expiry_dt_quarter','Condition',\n",
    "            'expiry_dt_month','expiry_dt_day_week','expiry_dt_day_weekend']\n",
    "\n",
    "train_df[cat_cols] = train_df[cat_cols].astype(int)\n",
    "test_df[cat_cols] = test_df[cat_cols].astype(int)\n",
    "\n",
    "for col in tqdm(cat_cols):\n",
    "    dummy_val = pd.get_dummies(train_df[col], prefix='col')\n",
    "    train_df = pd.concat([train_df, dummy_val], axis=1)\n",
    "    train_df.drop([col], inplace=True, axis=1)\n",
    "\n",
    "print(\"train_df: {}\".format(train_df.shape))\n",
    "\n",
    "for col in tqdm(cat_cols):\n",
    "    dummy_val = pd.get_dummies(test_df[col], prefix='col')\n",
    "    test_df = pd.concat([test_df, dummy_val], axis=1)\n",
    "    test_df.drop([col], inplace=True, axis=1)\n",
    "\n",
    "print(\"test_df: {}\".format(test_df.shape))"
   ]
  },
  {
   "cell_type": "code",
   "execution_count": 4,
   "id": "disturbed-bermuda",
   "metadata": {
    "execution": {
     "iopub.execute_input": "2021-06-12T03:33:25.057359Z",
     "iopub.status.busy": "2021-06-12T03:33:25.056452Z",
     "iopub.status.idle": "2021-06-12T03:33:25.160954Z",
     "shell.execute_reply": "2021-06-12T03:33:25.161539Z",
     "shell.execute_reply.started": "2021-06-11T16:27:31.357288Z"
    },
    "executionInfo": {
     "elapsed": 2058,
     "status": "ok",
     "timestamp": 1616326525321,
     "user": {
      "displayName": "TAPAS DAS",
      "photoUrl": "https://lh3.googleusercontent.com/a-/AOh14GiyffdGKiPCR_UwVittzTcbBFms70IkGfU15fatCA=s64",
      "userId": "10798398878324948542"
     },
     "user_tz": -330
    },
    "id": "UAfyHbeASU7C",
    "outputId": "14c429a7-7b43-4065-afae-da7d4f6679a9",
    "papermill": {
     "duration": 0.123523,
     "end_time": "2021-06-12T03:33:25.161725",
     "exception": false,
     "start_time": "2021-06-12T03:33:25.038202",
     "status": "completed"
    },
    "tags": []
   },
   "outputs": [
    {
     "name": "stdout",
     "output_type": "stream",
     "text": [
      "Xtrain: (1382, 2242) \n",
      "Ytrain: (1382,) \n",
      "Xtest: (600, 2242)\n"
     ]
    },
    {
     "data": {
      "text/plain": [
       "72"
      ]
     },
     "execution_count": 4,
     "metadata": {},
     "output_type": "execute_result"
    }
   ],
   "source": [
    "Xtrain = train_df.loc[:, ~train_df.columns.isin(['Image_path','Amount'])].values\n",
    "Ytrain = train_df['Amount'].values\n",
    "Ytrain_strat = pd.qcut(train_df['Amount'].values, q=5, labels=range(0,5))\n",
    "Xtest = test_df.loc[:, ~test_df.columns.isin(['Image_path'])].values\n",
    "\n",
    "print(\"Xtrain: {} \\nYtrain: {} \\nXtest: {}\".format(Xtrain.shape, Ytrain.shape, Xtest.shape))\n",
    "\n",
    "del train_df\n",
    "del test_df\n",
    "gc.collect()"
   ]
  },
  {
   "cell_type": "markdown",
   "id": "acting-period",
   "metadata": {
    "id": "9wNC5rWEVnjd",
    "papermill": {
     "duration": 0.011559,
     "end_time": "2021-06-12T03:33:25.185669",
     "exception": false,
     "start_time": "2021-06-12T03:33:25.174110",
     "status": "completed"
    },
    "tags": []
   },
   "source": [
    "## Build and validate the model"
   ]
  },
  {
   "cell_type": "code",
   "execution_count": 5,
   "id": "global-flash",
   "metadata": {
    "execution": {
     "iopub.execute_input": "2021-06-12T03:33:25.221130Z",
     "iopub.status.busy": "2021-06-12T03:33:25.220619Z",
     "iopub.status.idle": "2021-06-12T03:34:06.845458Z",
     "shell.execute_reply": "2021-06-12T03:34:06.845873Z",
     "shell.execute_reply.started": "2021-06-11T16:27:58.943615Z"
    },
    "id": "uWPosEORSVBp",
    "outputId": "d70ac047-a86b-4f36-84cc-960b1b5316be",
    "papermill": {
     "duration": 41.64876,
     "end_time": "2021-06-12T03:34:06.846036",
     "exception": false,
     "start_time": "2021-06-12T03:33:25.197276",
     "status": "completed"
    },
    "tags": []
   },
   "outputs": [
    {
     "name": "stdout",
     "output_type": "stream",
     "text": [
      "[0]\tvalidation_0-rmse:4715.46289\tvalidation_1-rmse:4698.89111\n",
      "[50]\tvalidation_0-rmse:1482.29016\tvalidation_1-rmse:2453.54126\n",
      "[99]\tvalidation_0-rmse:843.64563\tvalidation_1-rmse:2442.41284\n",
      "\n",
      "Seed-24 | Fold-0 | OOF Score: 20.61942038736799\n",
      "\n",
      "[0]\tvalidation_0-rmse:4721.16260\tvalidation_1-rmse:4700.55273\n",
      "[50]\tvalidation_0-rmse:1433.06262\tvalidation_1-rmse:2433.06177\n",
      "[99]\tvalidation_0-rmse:810.43481\tvalidation_1-rmse:2390.35644\n",
      "\n",
      "Seed-24 | Fold-1 | OOF Score: 19.354976303461125\n",
      "\n",
      "[0]\tvalidation_0-rmse:4711.04492\tvalidation_1-rmse:4733.87305\n",
      "[50]\tvalidation_0-rmse:1480.38428\tvalidation_1-rmse:2494.17090\n",
      "[99]\tvalidation_0-rmse:860.37695\tvalidation_1-rmse:2470.54468\n",
      "\n",
      "Seed-24 | Fold-2 | OOF Score: 15.050556896409983\n",
      "\n",
      "[0]\tvalidation_0-rmse:4710.19287\tvalidation_1-rmse:4737.47412\n",
      "[50]\tvalidation_0-rmse:1453.10950\tvalidation_1-rmse:2439.55371\n",
      "[99]\tvalidation_0-rmse:797.23444\tvalidation_1-rmse:2409.62744\n",
      "\n",
      "Seed-24 | Fold-3 | OOF Score: 24.197950631020724\n",
      "\n",
      "[0]\tvalidation_0-rmse:4703.76514\tvalidation_1-rmse:4762.67383\n",
      "[50]\tvalidation_0-rmse:1457.72986\tvalidation_1-rmse:2486.73169\n",
      "[99]\tvalidation_0-rmse:863.57758\tvalidation_1-rmse:2469.62915\n",
      "\n",
      "Seed-24 | Fold-4 | OOF Score: 19.208536390307486\n",
      "\n",
      "\n",
      "Seed: 24 | Aggregate OOF Score: 19.686288121713464\n",
      "\n",
      "\n",
      "[0]\tvalidation_0-rmse:4716.97363\tvalidation_1-rmse:4715.43164\n",
      "[50]\tvalidation_0-rmse:1506.47498\tvalidation_1-rmse:2472.84766\n",
      "[99]\tvalidation_0-rmse:877.81000\tvalidation_1-rmse:2446.69165\n",
      "\n",
      "Seed-3 | Fold-0 | OOF Score: 16.96671197193773\n",
      "\n",
      "[0]\tvalidation_0-rmse:4704.18115\tvalidation_1-rmse:4761.40967\n",
      "[50]\tvalidation_0-rmse:1438.10156\tvalidation_1-rmse:2508.24219\n",
      "[99]\tvalidation_0-rmse:831.29718\tvalidation_1-rmse:2473.01269\n",
      "\n",
      "Seed-3 | Fold-1 | OOF Score: 19.898101382095824\n",
      "\n",
      "[0]\tvalidation_0-rmse:4706.55078\tvalidation_1-rmse:4755.30469\n",
      "[50]\tvalidation_0-rmse:1450.96741\tvalidation_1-rmse:2462.02124\n",
      "[99]\tvalidation_0-rmse:819.94183\tvalidation_1-rmse:2418.22168\n",
      "\n",
      "Seed-3 | Fold-2 | OOF Score: 21.275778751986408\n",
      "\n",
      "[0]\tvalidation_0-rmse:4716.69238\tvalidation_1-rmse:4697.00684\n",
      "[50]\tvalidation_0-rmse:1431.60974\tvalidation_1-rmse:2427.67920\n",
      "[99]\tvalidation_0-rmse:801.03003\tvalidation_1-rmse:2426.28711\n",
      "\n",
      "Seed-3 | Fold-3 | OOF Score: 20.022343217357452\n",
      "\n",
      "[0]\tvalidation_0-rmse:4718.15137\tvalidation_1-rmse:4711.06299\n",
      "[50]\tvalidation_0-rmse:1458.87109\tvalidation_1-rmse:2430.03027\n",
      "[99]\tvalidation_0-rmse:813.49719\tvalidation_1-rmse:2404.45508\n",
      "\n",
      "Seed-3 | Fold-4 | OOF Score: 19.772037631974758\n",
      "\n",
      "\n",
      "Seed: 3 | Aggregate OOF Score: 19.586994591070432\n",
      "\n",
      "\n",
      "[0]\tvalidation_0-rmse:4727.65283\tvalidation_1-rmse:4668.70410\n",
      "[50]\tvalidation_0-rmse:1465.29236\tvalidation_1-rmse:2422.76318\n",
      "[99]\tvalidation_0-rmse:816.83746\tvalidation_1-rmse:2391.51831\n",
      "\n",
      "Seed-56 | Fold-0 | OOF Score: 18.133685791396424\n",
      "\n",
      "[0]\tvalidation_0-rmse:4692.77832\tvalidation_1-rmse:4808.16895\n",
      "[50]\tvalidation_0-rmse:1471.55066\tvalidation_1-rmse:2492.08984\n",
      "[99]\tvalidation_0-rmse:845.79779\tvalidation_1-rmse:2448.00195\n",
      "\n",
      "Seed-56 | Fold-1 | OOF Score: 23.076012179100204\n",
      "\n",
      "[0]\tvalidation_0-rmse:4730.09424\tvalidation_1-rmse:4648.24219\n",
      "[50]\tvalidation_0-rmse:1511.96887\tvalidation_1-rmse:2353.64111\n",
      "[99]\tvalidation_0-rmse:842.67181\tvalidation_1-rmse:2358.02270\n",
      "\n",
      "Seed-56 | Fold-2 | OOF Score: 21.092577076961796\n",
      "\n",
      "[0]\tvalidation_0-rmse:4698.11816\tvalidation_1-rmse:4782.31787\n",
      "[50]\tvalidation_0-rmse:1488.65503\tvalidation_1-rmse:2450.47241\n",
      "[99]\tvalidation_0-rmse:827.94861\tvalidation_1-rmse:2450.38550\n",
      "\n",
      "Seed-56 | Fold-3 | OOF Score: 23.397557342859045\n",
      "\n",
      "[0]\tvalidation_0-rmse:4711.07227\tvalidation_1-rmse:4721.58301\n",
      "[50]\tvalidation_0-rmse:1483.08606\tvalidation_1-rmse:2492.30200\n",
      "[99]\tvalidation_0-rmse:838.38886\tvalidation_1-rmse:2467.14478\n",
      "\n",
      "Seed-56 | Fold-4 | OOF Score: 16.62402472162865\n",
      "\n",
      "\n",
      "Seed: 56 | Aggregate OOF Score: 20.464771422389227\n",
      "\n",
      "\n",
      "Aggregate OOF Score: 19.912684711724374\n"
     ]
    }
   ],
   "source": [
    "FOLD = 5\n",
    "NUM_SEED = 3\n",
    "\n",
    "np.random.seed(3)\n",
    "seeds = np.random.randint(0, 100, size=NUM_SEED)\n",
    "\n",
    "oof_score = 0\n",
    "y_pred_meta_xgb = np.zeros((Ytrain.shape[0], 1))\n",
    "y_pred_final_xgb = 0\n",
    "counter = 0\n",
    "\n",
    "\n",
    "for sidx, seed in enumerate(seeds):\n",
    "    seed_score = 0\n",
    "    \n",
    "    kfold = StratifiedKFold(n_splits=FOLD, shuffle=True, random_state=seed)\n",
    "\n",
    "    for idx, (train, val) in enumerate(kfold.split(Xtrain, Ytrain_strat)):\n",
    "        counter += 1\n",
    "\n",
    "        train_x, train_y = Xtrain[train], Ytrain[train]\n",
    "        val_x, val_y = Xtrain[val], Ytrain[val]\n",
    "        \n",
    "        model = XGBRegressor(\n",
    "            objective='reg:squarederror',\n",
    "            eval_metric='rmse',\n",
    "            booster='gbtree',\n",
    "            sample_type='weighted',\n",
    "            tree_method='gpu_hist',\n",
    "            grow_policy='lossguide',\n",
    "            use_label_encoder=False,\n",
    "            num_round=5000,\n",
    "            max_depth=6, \n",
    "            max_leaves=983,\n",
    "            learning_rate=0.0423,\n",
    "            subsample=0.9267,\n",
    "            colsample_bytree=0.8243,\n",
    "            min_child_weight=8,\n",
    "            reg_lambda=0.2859,\n",
    "            verbosity=0\n",
    "        )\n",
    "\n",
    "        model.fit(train_x, train_y, eval_set=[(train_x, train_y), (val_x, val_y)], \n",
    "                  early_stopping_rounds=200, verbose=50)\n",
    "\n",
    "        y_pred = model.predict(val_x, iteration_range=(0, model.best_iteration))\n",
    "        y_pred_meta_xgb[val] += np.array([y_pred]).T\n",
    "        y_pred_final_xgb += model.predict(Xtest, iteration_range=(0, model.best_iteration))\n",
    "        \n",
    "        score = 100 * r2_score(val_y, y_pred)\n",
    "        oof_score += score\n",
    "        seed_score += score\n",
    "        print(\"\\nSeed-{} | Fold-{} | OOF Score: {}\\n\".format(seed, idx, score))\n",
    "    \n",
    "    print(\"\\nSeed: {} | Aggregate OOF Score: {}\\n\\n\".format(seed, (seed_score / FOLD)))\n",
    "\n",
    "\n",
    "y_pred_meta_xgb = y_pred_meta_xgb / float(NUM_SEED)\n",
    "y_pred_final_xgb = y_pred_final_xgb / float(counter)\n",
    "oof_score /= float(counter)\n",
    "print(\"Aggregate OOF Score: {}\".format(oof_score))"
   ]
  },
  {
   "cell_type": "code",
   "execution_count": 6,
   "id": "fantastic-steering",
   "metadata": {
    "execution": {
     "iopub.execute_input": "2021-06-12T03:34:06.910084Z",
     "iopub.status.busy": "2021-06-12T03:34:06.909378Z",
     "iopub.status.idle": "2021-06-12T03:34:06.914427Z",
     "shell.execute_reply": "2021-06-12T03:34:06.913963Z"
    },
    "id": "uLzmS7LzXvXy",
    "papermill": {
     "duration": 0.032024,
     "end_time": "2021-06-12T03:34:06.914541",
     "exception": false,
     "start_time": "2021-06-12T03:34:06.882517",
     "status": "completed"
    },
    "tags": []
   },
   "outputs": [],
   "source": [
    "np.savez_compressed('./XGB_Meta_Features.npz',\n",
    "                    y_pred_meta_xgb=y_pred_meta_xgb, \n",
    "                    oof_score=oof_score,\n",
    "                    y_pred_final_xgb=y_pred_final_xgb)"
   ]
  },
  {
   "cell_type": "markdown",
   "id": "smoking-exhibit",
   "metadata": {
    "id": "nZvoU4TpWxmY",
    "papermill": {
     "duration": 0.023219,
     "end_time": "2021-06-12T03:34:06.961076",
     "exception": false,
     "start_time": "2021-06-12T03:34:06.937857",
     "status": "completed"
    },
    "tags": []
   },
   "source": [
    "## Create submission file"
   ]
  },
  {
   "cell_type": "code",
   "execution_count": 7,
   "id": "deadly-craft",
   "metadata": {
    "execution": {
     "iopub.execute_input": "2021-06-12T03:34:07.012186Z",
     "iopub.status.busy": "2021-06-12T03:34:07.011685Z",
     "iopub.status.idle": "2021-06-12T03:34:07.181658Z",
     "shell.execute_reply": "2021-06-12T03:34:07.181198Z"
    },
    "executionInfo": {
     "elapsed": 3141,
     "status": "ok",
     "timestamp": 1616223489651,
     "user": {
      "displayName": "TAPAS DAS",
      "photoUrl": "https://lh3.googleusercontent.com/a-/AOh14GiyffdGKiPCR_UwVittzTcbBFms70IkGfU15fatCA=s64",
      "userId": "10798398878324948542"
     },
     "user_tz": -330
    },
    "id": "zGEGOAJHVoHV",
    "outputId": "11f9ca4c-9cca-46f6-b9a6-907ad0a09927",
    "papermill": {
     "duration": 0.197522,
     "end_time": "2021-06-12T03:34:07.181794",
     "exception": false,
     "start_time": "2021-06-12T03:34:06.984272",
     "status": "completed"
    },
    "tags": []
   },
   "outputs": [
    {
     "data": {
      "text/plain": [
       "733"
      ]
     },
     "execution_count": 7,
     "metadata": {},
     "output_type": "execute_result"
    }
   ],
   "source": [
    "with open(\"../input/he-ffi-preprocess-data/HE_FFI_Dataset.txt\", 'rb') as handle: \n",
    "    data = handle.read()\n",
    "\n",
    "processed_data = pickle.loads(data)\n",
    "test_df = processed_data['test_df']\n",
    "\n",
    "del processed_data\n",
    "gc.collect()"
   ]
  },
  {
   "cell_type": "code",
   "execution_count": 8,
   "id": "postal-vacuum",
   "metadata": {
    "execution": {
     "iopub.execute_input": "2021-06-12T03:34:07.248091Z",
     "iopub.status.busy": "2021-06-12T03:34:07.247585Z",
     "iopub.status.idle": "2021-06-12T03:34:07.385580Z",
     "shell.execute_reply": "2021-06-12T03:34:07.386000Z"
    },
    "id": "KDIsotrKVoJN",
    "papermill": {
     "duration": 0.180215,
     "end_time": "2021-06-12T03:34:07.386138",
     "exception": false,
     "start_time": "2021-06-12T03:34:07.205923",
     "status": "completed"
    },
    "tags": []
   },
   "outputs": [
    {
     "data": {
      "text/html": [
       "<div>\n",
       "<style scoped>\n",
       "    .dataframe tbody tr th:only-of-type {\n",
       "        vertical-align: middle;\n",
       "    }\n",
       "\n",
       "    .dataframe tbody tr th {\n",
       "        vertical-align: top;\n",
       "    }\n",
       "\n",
       "    .dataframe thead th {\n",
       "        text-align: right;\n",
       "    }\n",
       "</style>\n",
       "<table border=\"1\" class=\"dataframe\">\n",
       "  <thead>\n",
       "    <tr style=\"text-align: right;\">\n",
       "      <th></th>\n",
       "      <th>Image_path</th>\n",
       "      <th>Condition</th>\n",
       "      <th>Amount</th>\n",
       "    </tr>\n",
       "  </thead>\n",
       "  <tbody>\n",
       "    <tr>\n",
       "      <th>0</th>\n",
       "      <td>img_4538519.jpg</td>\n",
       "      <td>1.0</td>\n",
       "      <td>2594.299316</td>\n",
       "    </tr>\n",
       "    <tr>\n",
       "      <th>1</th>\n",
       "      <td>img_7766002.jpg</td>\n",
       "      <td>1.0</td>\n",
       "      <td>4145.575195</td>\n",
       "    </tr>\n",
       "    <tr>\n",
       "      <th>2</th>\n",
       "      <td>img_4637390.jpg</td>\n",
       "      <td>1.0</td>\n",
       "      <td>3942.439209</td>\n",
       "    </tr>\n",
       "    <tr>\n",
       "      <th>3</th>\n",
       "      <td>img_4516108.jpg</td>\n",
       "      <td>1.0</td>\n",
       "      <td>4004.334473</td>\n",
       "    </tr>\n",
       "    <tr>\n",
       "      <th>4</th>\n",
       "      <td>img_4517008.jpg</td>\n",
       "      <td>1.0</td>\n",
       "      <td>3579.951904</td>\n",
       "    </tr>\n",
       "  </tbody>\n",
       "</table>\n",
       "</div>"
      ],
      "text/plain": [
       "        Image_path  Condition       Amount\n",
       "0  img_4538519.jpg        1.0  2594.299316\n",
       "1  img_7766002.jpg        1.0  4145.575195\n",
       "2  img_4637390.jpg        1.0  3942.439209\n",
       "3  img_4516108.jpg        1.0  4004.334473\n",
       "4  img_4517008.jpg        1.0  3579.951904"
      ]
     },
     "execution_count": 8,
     "metadata": {},
     "output_type": "execute_result"
    }
   ],
   "source": [
    "test_df1 = pd.read_csv(\"../input/he-fast-furious-insured/dataset/test.csv\")\n",
    "\n",
    "submit_df = pd.DataFrame()\n",
    "submit_df['Image_path'] = test_df1['Image_path']\n",
    "submit_df['Condition'] = test_df['Condition']\n",
    "submit_df['Amount'] = y_pred_final_xgb\n",
    "\n",
    "submit_df.to_csv(\"./XGB_Submission_wo_Adjustment.csv\", index=False)\n",
    "submit_df.head()"
   ]
  },
  {
   "cell_type": "code",
   "execution_count": 9,
   "id": "prescribed-portugal",
   "metadata": {
    "execution": {
     "iopub.execute_input": "2021-06-12T03:34:07.441985Z",
     "iopub.status.busy": "2021-06-12T03:34:07.441185Z",
     "iopub.status.idle": "2021-06-12T03:34:07.470246Z",
     "shell.execute_reply": "2021-06-12T03:34:07.469853Z"
    },
    "id": "W2c88MvxXm65",
    "papermill": {
     "duration": 0.059362,
     "end_time": "2021-06-12T03:34:07.470396",
     "exception": false,
     "start_time": "2021-06-12T03:34:07.411034",
     "status": "completed"
    },
    "tags": []
   },
   "outputs": [
    {
     "data": {
      "text/html": [
       "<div>\n",
       "<style scoped>\n",
       "    .dataframe tbody tr th:only-of-type {\n",
       "        vertical-align: middle;\n",
       "    }\n",
       "\n",
       "    .dataframe tbody tr th {\n",
       "        vertical-align: top;\n",
       "    }\n",
       "\n",
       "    .dataframe thead th {\n",
       "        text-align: right;\n",
       "    }\n",
       "</style>\n",
       "<table border=\"1\" class=\"dataframe\">\n",
       "  <thead>\n",
       "    <tr style=\"text-align: right;\">\n",
       "      <th></th>\n",
       "      <th>Image_path</th>\n",
       "      <th>Condition</th>\n",
       "      <th>Amount</th>\n",
       "    </tr>\n",
       "  </thead>\n",
       "  <tbody>\n",
       "    <tr>\n",
       "      <th>0</th>\n",
       "      <td>img_4538519.jpg</td>\n",
       "      <td>1.0</td>\n",
       "      <td>2594.299316</td>\n",
       "    </tr>\n",
       "    <tr>\n",
       "      <th>1</th>\n",
       "      <td>img_7766002.jpg</td>\n",
       "      <td>1.0</td>\n",
       "      <td>4145.575195</td>\n",
       "    </tr>\n",
       "    <tr>\n",
       "      <th>2</th>\n",
       "      <td>img_4637390.jpg</td>\n",
       "      <td>1.0</td>\n",
       "      <td>3942.439209</td>\n",
       "    </tr>\n",
       "    <tr>\n",
       "      <th>3</th>\n",
       "      <td>img_4516108.jpg</td>\n",
       "      <td>1.0</td>\n",
       "      <td>4004.334473</td>\n",
       "    </tr>\n",
       "    <tr>\n",
       "      <th>4</th>\n",
       "      <td>img_4517008.jpg</td>\n",
       "      <td>1.0</td>\n",
       "      <td>3579.951904</td>\n",
       "    </tr>\n",
       "  </tbody>\n",
       "</table>\n",
       "</div>"
      ],
      "text/plain": [
       "        Image_path  Condition       Amount\n",
       "0  img_4538519.jpg        1.0  2594.299316\n",
       "1  img_7766002.jpg        1.0  4145.575195\n",
       "2  img_4637390.jpg        1.0  3942.439209\n",
       "3  img_4516108.jpg        1.0  4004.334473\n",
       "4  img_4517008.jpg        1.0  3579.951904"
      ]
     },
     "execution_count": 9,
     "metadata": {},
     "output_type": "execute_result"
    }
   ],
   "source": [
    "test_df1 = pd.read_csv(\"../input/he-fast-furious-insured/dataset/test.csv\")\n",
    "\n",
    "submit_df = pd.DataFrame()\n",
    "submit_df['Image_path'] = test_df1['Image_path']\n",
    "submit_df['Condition'] = test_df['Condition']\n",
    "submit_df['Amount'] = y_pred_final_xgb\n",
    "submit_df.loc[test_df['Condition']==0, 'Amount'] = 0\n",
    "\n",
    "submit_df.to_csv(\"./XGB_Submission_w_Adjustment.csv\", index=False)\n",
    "submit_df.head()"
   ]
  },
  {
   "cell_type": "code",
   "execution_count": null,
   "id": "worthy-drunk",
   "metadata": {
    "papermill": {
     "duration": 0.024027,
     "end_time": "2021-06-12T03:34:07.519405",
     "exception": false,
     "start_time": "2021-06-12T03:34:07.495378",
     "status": "completed"
    },
    "tags": []
   },
   "outputs": [],
   "source": []
  }
 ],
 "metadata": {
  "kernelspec": {
   "display_name": "Python 3",
   "language": "python",
   "name": "python3"
  },
  "language_info": {
   "codemirror_mode": {
    "name": "ipython",
    "version": 3
   },
   "file_extension": ".py",
   "mimetype": "text/x-python",
   "name": "python",
   "nbconvert_exporter": "python",
   "pygments_lexer": "ipython3",
   "version": "3.7.10"
  },
  "papermill": {
   "default_parameters": {},
   "duration": 52.773594,
   "end_time": "2021-06-12T03:34:08.996379",
   "environment_variables": {},
   "exception": null,
   "input_path": "__notebook__.ipynb",
   "output_path": "__notebook__.ipynb",
   "parameters": {},
   "start_time": "2021-06-12T03:33:16.222785",
   "version": "2.3.3"
  }
 },
 "nbformat": 4,
 "nbformat_minor": 5
}
