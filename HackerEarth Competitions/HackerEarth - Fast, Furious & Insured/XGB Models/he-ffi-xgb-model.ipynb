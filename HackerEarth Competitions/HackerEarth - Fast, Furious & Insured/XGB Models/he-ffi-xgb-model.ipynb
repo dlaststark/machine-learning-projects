{
 "cells": [
  {
   "cell_type": "markdown",
   "id": "dutch-astronomy",
   "metadata": {
    "id": "uLz9OcH8SeET",
    "papermill": {
     "duration": 0.010347,
     "end_time": "2021-05-31T15:31:53.657768",
     "exception": false,
     "start_time": "2021-05-31T15:31:53.647421",
     "status": "completed"
    },
    "tags": []
   },
   "source": [
    "## Import libraries"
   ]
  },
  {
   "cell_type": "code",
   "execution_count": 1,
   "id": "critical-insured",
   "metadata": {
    "execution": {
     "iopub.execute_input": "2021-05-31T15:31:53.686880Z",
     "iopub.status.busy": "2021-05-31T15:31:53.686215Z",
     "iopub.status.idle": "2021-05-31T15:31:54.530008Z",
     "shell.execute_reply": "2021-05-31T15:31:54.529368Z",
     "shell.execute_reply.started": "2021-05-31T14:26:58.221435Z"
    },
    "executionInfo": {
     "elapsed": 23727,
     "status": "ok",
     "timestamp": 1616326442041,
     "user": {
      "displayName": "TAPAS DAS",
      "photoUrl": "https://lh3.googleusercontent.com/a-/AOh14GiyffdGKiPCR_UwVittzTcbBFms70IkGfU15fatCA=s64",
      "userId": "10798398878324948542"
     },
     "user_tz": -330
    },
    "id": "E9svswc9SUuX",
    "papermill": {
     "duration": 0.862842,
     "end_time": "2021-05-31T15:31:54.530163",
     "exception": false,
     "start_time": "2021-05-31T15:31:53.667321",
     "status": "completed"
    },
    "tags": []
   },
   "outputs": [],
   "source": [
    "import warnings\n",
    "warnings.filterwarnings(\"ignore\")\n",
    "\n",
    "import gc\n",
    "import pickle\n",
    "import numpy as np\n",
    "import pandas as pd\n",
    "from tqdm import tqdm\n",
    "from xgboost import XGBRegressor\n",
    "from sklearn.metrics import r2_score\n",
    "from sklearn.model_selection import StratifiedKFold"
   ]
  },
  {
   "cell_type": "markdown",
   "id": "thorough-clark",
   "metadata": {
    "id": "hg85SpW-S6hl",
    "papermill": {
     "duration": 0.009001,
     "end_time": "2021-05-31T15:31:54.548789",
     "exception": false,
     "start_time": "2021-05-31T15:31:54.539788",
     "status": "completed"
    },
    "tags": []
   },
   "source": [
    "## Prepare data for model training"
   ]
  },
  {
   "cell_type": "code",
   "execution_count": 2,
   "id": "surprising-pencil",
   "metadata": {
    "execution": {
     "iopub.execute_input": "2021-05-31T15:31:54.571428Z",
     "iopub.status.busy": "2021-05-31T15:31:54.570921Z",
     "iopub.status.idle": "2021-05-31T15:31:54.871160Z",
     "shell.execute_reply": "2021-05-31T15:31:54.871570Z",
     "shell.execute_reply.started": "2021-05-31T14:26:05.019786Z"
    },
    "executionInfo": {
     "elapsed": 10043,
     "status": "ok",
     "timestamp": 1616326444482,
     "user": {
      "displayName": "TAPAS DAS",
      "photoUrl": "https://lh3.googleusercontent.com/a-/AOh14GiyffdGKiPCR_UwVittzTcbBFms70IkGfU15fatCA=s64",
      "userId": "10798398878324948542"
     },
     "user_tz": -330
    },
    "id": "VdhgoIAmSUxK",
    "outputId": "7897cfad-c8d4-46d9-86ea-04de37e11444",
    "papermill": {
     "duration": 0.313699,
     "end_time": "2021-05-31T15:31:54.871728",
     "exception": false,
     "start_time": "2021-05-31T15:31:54.558029",
     "status": "completed"
    },
    "tags": []
   },
   "outputs": [
    {
     "data": {
      "text/plain": [
       "20"
      ]
     },
     "execution_count": 2,
     "metadata": {},
     "output_type": "execute_result"
    }
   ],
   "source": [
    "with open(\"../input/he-ffi-preprocess-data-v2-2/HE_FFI_Dataset.txt\", 'rb') as handle: \n",
    "    data = handle.read()\n",
    "\n",
    "processed_data = pickle.loads(data)\n",
    "train_df = processed_data['train_df']\n",
    "test_df = processed_data['test_df']\n",
    "\n",
    "del processed_data\n",
    "gc.collect()"
   ]
  },
  {
   "cell_type": "code",
   "execution_count": 3,
   "id": "extensive-opinion",
   "metadata": {
    "execution": {
     "iopub.execute_input": "2021-05-31T15:31:54.904546Z",
     "iopub.status.busy": "2021-05-31T15:31:54.903628Z",
     "iopub.status.idle": "2021-05-31T15:31:55.015316Z",
     "shell.execute_reply": "2021-05-31T15:31:55.015680Z",
     "shell.execute_reply.started": "2021-05-31T14:26:05.696813Z"
    },
    "papermill": {
     "duration": 0.134387,
     "end_time": "2021-05-31T15:31:55.015877",
     "exception": false,
     "start_time": "2021-05-31T15:31:54.881490",
     "status": "completed"
    },
    "tags": []
   },
   "outputs": [
    {
     "name": "stderr",
     "output_type": "stream",
     "text": [
      "100%|██████████| 7/7 [00:00<00:00, 122.53it/s]\n",
      "100%|██████████| 7/7 [00:00<00:00, 182.34it/s]"
     ]
    },
    {
     "name": "stdout",
     "output_type": "stream",
     "text": [
      "train_df: (1382, 1732)\n",
      "test_df: (600, 1731)\n"
     ]
    },
    {
     "name": "stderr",
     "output_type": "stream",
     "text": [
      "\n"
     ]
    }
   ],
   "source": [
    "cat_cols = ['Insurance_company','expiry_dt_year','expiry_dt_quarter','Condition',\n",
    "            'expiry_dt_month','expiry_dt_day_week','expiry_dt_day_weekend']\n",
    "\n",
    "train_df[cat_cols] = train_df[cat_cols].astype(int)\n",
    "test_df[cat_cols] = test_df[cat_cols].astype(int)\n",
    "\n",
    "for col in tqdm(cat_cols):\n",
    "    dummy_val = pd.get_dummies(train_df[col], prefix='col')\n",
    "    train_df = pd.concat([train_df, dummy_val], axis=1)\n",
    "    train_df.drop([col], inplace=True, axis=1)\n",
    "\n",
    "print(\"train_df: {}\".format(train_df.shape))\n",
    "\n",
    "for col in tqdm(cat_cols):\n",
    "    dummy_val = pd.get_dummies(test_df[col], prefix='col')\n",
    "    test_df = pd.concat([test_df, dummy_val], axis=1)\n",
    "    test_df.drop([col], inplace=True, axis=1)\n",
    "\n",
    "print(\"test_df: {}\".format(test_df.shape))"
   ]
  },
  {
   "cell_type": "code",
   "execution_count": 4,
   "id": "criminal-serum",
   "metadata": {
    "execution": {
     "iopub.execute_input": "2021-05-31T15:31:55.044863Z",
     "iopub.status.busy": "2021-05-31T15:31:55.043899Z",
     "iopub.status.idle": "2021-05-31T15:31:55.146101Z",
     "shell.execute_reply": "2021-05-31T15:31:55.146514Z",
     "shell.execute_reply.started": "2021-05-31T14:26:05.817208Z"
    },
    "executionInfo": {
     "elapsed": 2058,
     "status": "ok",
     "timestamp": 1616326525321,
     "user": {
      "displayName": "TAPAS DAS",
      "photoUrl": "https://lh3.googleusercontent.com/a-/AOh14GiyffdGKiPCR_UwVittzTcbBFms70IkGfU15fatCA=s64",
      "userId": "10798398878324948542"
     },
     "user_tz": -330
    },
    "id": "UAfyHbeASU7C",
    "outputId": "14c429a7-7b43-4065-afae-da7d4f6679a9",
    "papermill": {
     "duration": 0.11944,
     "end_time": "2021-05-31T15:31:55.146661",
     "exception": false,
     "start_time": "2021-05-31T15:31:55.027221",
     "status": "completed"
    },
    "tags": []
   },
   "outputs": [
    {
     "name": "stdout",
     "output_type": "stream",
     "text": [
      "Xtrain: (1382, 1730) \n",
      "Ytrain: (1382,) \n",
      "Xtest: (600, 1730)\n"
     ]
    },
    {
     "data": {
      "text/plain": [
       "72"
      ]
     },
     "execution_count": 4,
     "metadata": {},
     "output_type": "execute_result"
    }
   ],
   "source": [
    "Xtrain = train_df.loc[:, ~train_df.columns.isin(['Image_path','Amount'])].values\n",
    "Ytrain = train_df['Amount'].values\n",
    "Ytrain_strat = pd.qcut(train_df['Amount'].values, q=5, labels=range(0,5))\n",
    "Xtest = test_df.loc[:, ~test_df.columns.isin(['Image_path'])].values\n",
    "\n",
    "print(\"Xtrain: {} \\nYtrain: {} \\nXtest: {}\".format(Xtrain.shape, Ytrain.shape, Xtest.shape))\n",
    "\n",
    "del train_df\n",
    "del test_df\n",
    "gc.collect()"
   ]
  },
  {
   "cell_type": "markdown",
   "id": "painted-second",
   "metadata": {
    "id": "9wNC5rWEVnjd",
    "papermill": {
     "duration": 0.011478,
     "end_time": "2021-05-31T15:31:55.169792",
     "exception": false,
     "start_time": "2021-05-31T15:31:55.158314",
     "status": "completed"
    },
    "tags": []
   },
   "source": [
    "## Build and validate the model"
   ]
  },
  {
   "cell_type": "code",
   "execution_count": 5,
   "id": "composite-radar",
   "metadata": {
    "execution": {
     "iopub.execute_input": "2021-05-31T15:31:55.205555Z",
     "iopub.status.busy": "2021-05-31T15:31:55.204841Z",
     "iopub.status.idle": "2021-05-31T15:32:18.587022Z",
     "shell.execute_reply": "2021-05-31T15:32:18.587396Z",
     "shell.execute_reply.started": "2021-05-31T14:29:24.063573Z"
    },
    "id": "uWPosEORSVBp",
    "outputId": "d70ac047-a86b-4f36-84cc-960b1b5316be",
    "papermill": {
     "duration": 23.406264,
     "end_time": "2021-05-31T15:32:18.587544",
     "exception": false,
     "start_time": "2021-05-31T15:31:55.181280",
     "status": "completed"
    },
    "tags": []
   },
   "outputs": [
    {
     "name": "stdout",
     "output_type": "stream",
     "text": [
      "[0]\tvalidation_0-rmse:4712.83594\tvalidation_1-rmse:4679.42480\n",
      "[50]\tvalidation_0-rmse:1711.22302\tvalidation_1-rmse:2538.96362\n",
      "[99]\tvalidation_0-rmse:1156.78235\tvalidation_1-rmse:2505.97925\n",
      "\n",
      "Seed-24 | Fold-0 | OOF Score: 15.088469635591794\n",
      "\n",
      "[0]\tvalidation_0-rmse:4720.47266\tvalidation_1-rmse:4689.27734\n",
      "[50]\tvalidation_0-rmse:1749.91455\tvalidation_1-rmse:2479.95679\n",
      "[99]\tvalidation_0-rmse:1184.81799\tvalidation_1-rmse:2439.13867\n",
      "\n",
      "Seed-24 | Fold-1 | OOF Score: 15.897235371792185\n",
      "\n",
      "[0]\tvalidation_0-rmse:4714.96582\tvalidation_1-rmse:4730.91113\n",
      "[50]\tvalidation_0-rmse:1743.74268\tvalidation_1-rmse:2490.63550\n",
      "[99]\tvalidation_0-rmse:1146.09985\tvalidation_1-rmse:2482.97461\n",
      "\n",
      "Seed-24 | Fold-2 | OOF Score: 13.960891714496725\n",
      "\n",
      "[0]\tvalidation_0-rmse:4710.22217\tvalidation_1-rmse:4737.50928\n",
      "[50]\tvalidation_0-rmse:1740.87317\tvalidation_1-rmse:2494.09106\n",
      "[99]\tvalidation_0-rmse:1149.33435\tvalidation_1-rmse:2492.94043\n",
      "\n",
      "Seed-24 | Fold-3 | OOF Score: 19.089540916974723\n",
      "\n",
      "[0]\tvalidation_0-rmse:4706.97754\tvalidation_1-rmse:4770.77295\n",
      "[50]\tvalidation_0-rmse:1733.36829\tvalidation_1-rmse:2552.51587\n",
      "[99]\tvalidation_0-rmse:1164.70618\tvalidation_1-rmse:2527.26831\n",
      "\n",
      "Seed-24 | Fold-4 | OOF Score: 15.048874940167966\n",
      "\n",
      "\n",
      "Seed: 24 | Aggregate OOF Score: 15.817002515804678\n",
      "\n",
      "\n",
      "[0]\tvalidation_0-rmse:4718.57812\tvalidation_1-rmse:4708.45850\n",
      "[50]\tvalidation_0-rmse:1762.31995\tvalidation_1-rmse:2468.93530\n",
      "[99]\tvalidation_0-rmse:1187.27966\tvalidation_1-rmse:2446.83325\n",
      "\n",
      "Seed-3 | Fold-0 | OOF Score: 17.084156887403733\n",
      "\n",
      "[0]\tvalidation_0-rmse:4709.79834\tvalidation_1-rmse:4758.47754\n",
      "[50]\tvalidation_0-rmse:1743.92871\tvalidation_1-rmse:2537.88184\n",
      "[99]\tvalidation_0-rmse:1194.25293\tvalidation_1-rmse:2527.11084\n",
      "\n",
      "Seed-3 | Fold-1 | OOF Score: 16.584135360860795\n",
      "\n",
      "[0]\tvalidation_0-rmse:4708.46826\tvalidation_1-rmse:4751.93897\n",
      "[50]\tvalidation_0-rmse:1759.94775\tvalidation_1-rmse:2478.80176\n",
      "[99]\tvalidation_0-rmse:1185.80383\tvalidation_1-rmse:2455.23267\n",
      "\n",
      "Seed-3 | Fold-2 | OOF Score: 19.184882547601923\n",
      "\n",
      "[0]\tvalidation_0-rmse:4720.58838\tvalidation_1-rmse:4698.52881\n",
      "[50]\tvalidation_0-rmse:1741.00293\tvalidation_1-rmse:2464.69897\n",
      "[99]\tvalidation_0-rmse:1176.07727\tvalidation_1-rmse:2455.38232\n",
      "\n",
      "Seed-3 | Fold-3 | OOF Score: 18.247090533303446\n",
      "\n",
      "[0]\tvalidation_0-rmse:4716.08350\tvalidation_1-rmse:4695.12402\n",
      "[50]\tvalidation_0-rmse:1729.49841\tvalidation_1-rmse:2462.80762\n",
      "[99]\tvalidation_0-rmse:1144.15356\tvalidation_1-rmse:2433.73731\n",
      "\n",
      "Seed-3 | Fold-4 | OOF Score: 17.991314222759712\n",
      "\n",
      "\n",
      "Seed: 3 | Aggregate OOF Score: 17.818315910385923\n",
      "\n",
      "\n",
      "[0]\tvalidation_0-rmse:4729.47949\tvalidation_1-rmse:4659.78955\n",
      "[50]\tvalidation_0-rmse:1727.60266\tvalidation_1-rmse:2447.18579\n",
      "[99]\tvalidation_0-rmse:1153.38660\tvalidation_1-rmse:2459.50415\n",
      "\n",
      "Seed-56 | Fold-0 | OOF Score: 15.251822760031619\n",
      "\n",
      "[0]\tvalidation_0-rmse:4691.94971\tvalidation_1-rmse:4797.35156\n",
      "[50]\tvalidation_0-rmse:1754.94959\tvalidation_1-rmse:2572.90356\n",
      "[99]\tvalidation_0-rmse:1173.10266\tvalidation_1-rmse:2504.44336\n",
      "\n",
      "Seed-56 | Fold-1 | OOF Score: 19.103901487124087\n",
      "\n",
      "[0]\tvalidation_0-rmse:4730.59473\tvalidation_1-rmse:4643.61084\n",
      "[50]\tvalidation_0-rmse:1769.00549\tvalidation_1-rmse:2380.60718\n",
      "[99]\tvalidation_0-rmse:1195.10181\tvalidation_1-rmse:2366.12280\n",
      "\n",
      "Seed-56 | Fold-2 | OOF Score: 19.898070239528053\n",
      "\n",
      "[0]\tvalidation_0-rmse:4697.09180\tvalidation_1-rmse:4774.72363\n",
      "[50]\tvalidation_0-rmse:1768.03418\tvalidation_1-rmse:2475.60986\n",
      "[99]\tvalidation_0-rmse:1169.35132\tvalidation_1-rmse:2429.73462\n",
      "\n",
      "Seed-56 | Fold-3 | OOF Score: 23.492741593126187\n",
      "\n",
      "[0]\tvalidation_0-rmse:4713.20996\tvalidation_1-rmse:4724.45508\n",
      "[50]\tvalidation_0-rmse:1751.38342\tvalidation_1-rmse:2521.34863\n",
      "[99]\tvalidation_0-rmse:1178.39001\tvalidation_1-rmse:2500.93579\n",
      "\n",
      "Seed-56 | Fold-4 | OOF Score: 15.522942029483422\n",
      "\n",
      "\n",
      "Seed: 56 | Aggregate OOF Score: 18.653895621858673\n",
      "\n",
      "\n",
      "Aggregate OOF Score: 17.429738016016426\n"
     ]
    }
   ],
   "source": [
    "FOLD = 5\n",
    "NUM_SEED = 3\n",
    "\n",
    "np.random.seed(3)\n",
    "seeds = np.random.randint(0, 100, size=NUM_SEED)\n",
    "\n",
    "oof_score = 0\n",
    "y_pred_meta_xgb = np.zeros((Ytrain.shape[0], 1))\n",
    "y_pred_final_xgb = 0\n",
    "counter = 0\n",
    "\n",
    "\n",
    "for sidx, seed in enumerate(seeds):\n",
    "    seed_score = 0\n",
    "    \n",
    "    kfold = StratifiedKFold(n_splits=FOLD, shuffle=True, random_state=seed)\n",
    "\n",
    "    for idx, (train, val) in enumerate(kfold.split(Xtrain, Ytrain_strat)):\n",
    "        counter += 1\n",
    "\n",
    "        train_x, train_y = Xtrain[train], Ytrain[train]\n",
    "        val_x, val_y = Xtrain[val], Ytrain[val]\n",
    "        \n",
    "        model = XGBRegressor(\n",
    "            objective='reg:squarederror',\n",
    "            eval_metric='rmse',\n",
    "            booster='gbtree',\n",
    "            sample_type='weighted',\n",
    "            tree_method='gpu_hist',\n",
    "            grow_policy='lossguide',\n",
    "            use_label_encoder=False,\n",
    "            num_round=5000,\n",
    "            max_depth=5, \n",
    "            max_leaves=791,\n",
    "            learning_rate=0.044,\n",
    "            subsample=0.5742,\n",
    "            colsample_bytree=0.7187,\n",
    "            min_child_weight=1,\n",
    "            reg_lambda=0.963,\n",
    "            verbosity=0\n",
    "        )\n",
    "\n",
    "        model.fit(train_x, train_y, eval_set=[(train_x, train_y), (val_x, val_y)], \n",
    "                  early_stopping_rounds=200, verbose=50)\n",
    "\n",
    "        y_pred = model.predict(val_x, iteration_range=(0, model.best_iteration))\n",
    "        y_pred_meta_xgb[val] += np.array([y_pred]).T\n",
    "        y_pred_final_xgb += model.predict(Xtest, iteration_range=(0, model.best_iteration))\n",
    "        \n",
    "        score = 100 * r2_score(val_y, y_pred)\n",
    "        oof_score += score\n",
    "        seed_score += score\n",
    "        print(\"\\nSeed-{} | Fold-{} | OOF Score: {}\\n\".format(seed, idx, score))\n",
    "    \n",
    "    print(\"\\nSeed: {} | Aggregate OOF Score: {}\\n\\n\".format(seed, (seed_score / FOLD)))\n",
    "\n",
    "\n",
    "y_pred_meta_xgb = y_pred_meta_xgb / float(NUM_SEED)\n",
    "y_pred_final_xgb = y_pred_final_xgb / float(counter)\n",
    "oof_score /= float(counter)\n",
    "print(\"Aggregate OOF Score: {}\".format(oof_score))"
   ]
  },
  {
   "cell_type": "code",
   "execution_count": 6,
   "id": "color-today",
   "metadata": {
    "execution": {
     "iopub.execute_input": "2021-05-31T15:32:18.650211Z",
     "iopub.status.busy": "2021-05-31T15:32:18.649497Z",
     "iopub.status.idle": "2021-05-31T15:32:18.654679Z",
     "shell.execute_reply": "2021-05-31T15:32:18.654254Z"
    },
    "id": "uLzmS7LzXvXy",
    "papermill": {
     "duration": 0.031228,
     "end_time": "2021-05-31T15:32:18.654812",
     "exception": false,
     "start_time": "2021-05-31T15:32:18.623584",
     "status": "completed"
    },
    "tags": []
   },
   "outputs": [],
   "source": [
    "np.savez_compressed('./XGB_Meta_Features.npz',\n",
    "                    y_pred_meta_xgb=y_pred_meta_xgb, \n",
    "                    oof_score=oof_score,\n",
    "                    y_pred_final_xgb=y_pred_final_xgb)"
   ]
  },
  {
   "cell_type": "markdown",
   "id": "worse-rally",
   "metadata": {
    "id": "nZvoU4TpWxmY",
    "papermill": {
     "duration": 0.022745,
     "end_time": "2021-05-31T15:32:18.700331",
     "exception": false,
     "start_time": "2021-05-31T15:32:18.677586",
     "status": "completed"
    },
    "tags": []
   },
   "source": [
    "## Create submission file"
   ]
  },
  {
   "cell_type": "code",
   "execution_count": 7,
   "id": "warming-handbook",
   "metadata": {
    "execution": {
     "iopub.execute_input": "2021-05-31T15:32:18.749847Z",
     "iopub.status.busy": "2021-05-31T15:32:18.749305Z",
     "iopub.status.idle": "2021-05-31T15:32:18.886281Z",
     "shell.execute_reply": "2021-05-31T15:32:18.885550Z"
    },
    "executionInfo": {
     "elapsed": 3141,
     "status": "ok",
     "timestamp": 1616223489651,
     "user": {
      "displayName": "TAPAS DAS",
      "photoUrl": "https://lh3.googleusercontent.com/a-/AOh14GiyffdGKiPCR_UwVittzTcbBFms70IkGfU15fatCA=s64",
      "userId": "10798398878324948542"
     },
     "user_tz": -330
    },
    "id": "zGEGOAJHVoHV",
    "outputId": "11f9ca4c-9cca-46f6-b9a6-907ad0a09927",
    "papermill": {
     "duration": 0.163322,
     "end_time": "2021-05-31T15:32:18.886406",
     "exception": false,
     "start_time": "2021-05-31T15:32:18.723084",
     "status": "completed"
    },
    "tags": []
   },
   "outputs": [
    {
     "data": {
      "text/plain": [
       "733"
      ]
     },
     "execution_count": 7,
     "metadata": {},
     "output_type": "execute_result"
    }
   ],
   "source": [
    "with open(\"../input/he-ffi-preprocess-data/HE_FFI_Dataset.txt\", 'rb') as handle: \n",
    "    data = handle.read()\n",
    "\n",
    "processed_data = pickle.loads(data)\n",
    "test_df = processed_data['test_df']\n",
    "\n",
    "del processed_data\n",
    "gc.collect()"
   ]
  },
  {
   "cell_type": "code",
   "execution_count": 8,
   "id": "automatic-motor",
   "metadata": {
    "execution": {
     "iopub.execute_input": "2021-05-31T15:32:18.946496Z",
     "iopub.status.busy": "2021-05-31T15:32:18.945982Z",
     "iopub.status.idle": "2021-05-31T15:32:19.081853Z",
     "shell.execute_reply": "2021-05-31T15:32:19.082231Z"
    },
    "id": "KDIsotrKVoJN",
    "papermill": {
     "duration": 0.171946,
     "end_time": "2021-05-31T15:32:19.082378",
     "exception": false,
     "start_time": "2021-05-31T15:32:18.910432",
     "status": "completed"
    },
    "tags": []
   },
   "outputs": [
    {
     "data": {
      "text/html": [
       "<div>\n",
       "<style scoped>\n",
       "    .dataframe tbody tr th:only-of-type {\n",
       "        vertical-align: middle;\n",
       "    }\n",
       "\n",
       "    .dataframe tbody tr th {\n",
       "        vertical-align: top;\n",
       "    }\n",
       "\n",
       "    .dataframe thead th {\n",
       "        text-align: right;\n",
       "    }\n",
       "</style>\n",
       "<table border=\"1\" class=\"dataframe\">\n",
       "  <thead>\n",
       "    <tr style=\"text-align: right;\">\n",
       "      <th></th>\n",
       "      <th>Image_path</th>\n",
       "      <th>Condition</th>\n",
       "      <th>Amount</th>\n",
       "    </tr>\n",
       "  </thead>\n",
       "  <tbody>\n",
       "    <tr>\n",
       "      <th>0</th>\n",
       "      <td>img_4538519.jpg</td>\n",
       "      <td>1.0</td>\n",
       "      <td>2991.954834</td>\n",
       "    </tr>\n",
       "    <tr>\n",
       "      <th>1</th>\n",
       "      <td>img_7766002.jpg</td>\n",
       "      <td>1.0</td>\n",
       "      <td>3872.228271</td>\n",
       "    </tr>\n",
       "    <tr>\n",
       "      <th>2</th>\n",
       "      <td>img_4637390.jpg</td>\n",
       "      <td>1.0</td>\n",
       "      <td>4151.862305</td>\n",
       "    </tr>\n",
       "    <tr>\n",
       "      <th>3</th>\n",
       "      <td>img_4516108.jpg</td>\n",
       "      <td>1.0</td>\n",
       "      <td>3747.242432</td>\n",
       "    </tr>\n",
       "    <tr>\n",
       "      <th>4</th>\n",
       "      <td>img_4517008.jpg</td>\n",
       "      <td>1.0</td>\n",
       "      <td>3605.582275</td>\n",
       "    </tr>\n",
       "  </tbody>\n",
       "</table>\n",
       "</div>"
      ],
      "text/plain": [
       "        Image_path  Condition       Amount\n",
       "0  img_4538519.jpg        1.0  2991.954834\n",
       "1  img_7766002.jpg        1.0  3872.228271\n",
       "2  img_4637390.jpg        1.0  4151.862305\n",
       "3  img_4516108.jpg        1.0  3747.242432\n",
       "4  img_4517008.jpg        1.0  3605.582275"
      ]
     },
     "execution_count": 8,
     "metadata": {},
     "output_type": "execute_result"
    }
   ],
   "source": [
    "test_df1 = pd.read_csv(\"../input/he-fast-furious-insured/dataset/test.csv\")\n",
    "\n",
    "submit_df = pd.DataFrame()\n",
    "submit_df['Image_path'] = test_df1['Image_path']\n",
    "submit_df['Condition'] = test_df['Condition']\n",
    "submit_df['Amount'] = y_pred_final_xgb\n",
    "\n",
    "submit_df.to_csv(\"./XGB_Submission_wo_Adjustment.csv\", index=False)\n",
    "submit_df.head()"
   ]
  },
  {
   "cell_type": "code",
   "execution_count": 9,
   "id": "charged-relevance",
   "metadata": {
    "execution": {
     "iopub.execute_input": "2021-05-31T15:32:19.137035Z",
     "iopub.status.busy": "2021-05-31T15:32:19.136219Z",
     "iopub.status.idle": "2021-05-31T15:32:19.167241Z",
     "shell.execute_reply": "2021-05-31T15:32:19.167942Z"
    },
    "id": "W2c88MvxXm65",
    "papermill": {
     "duration": 0.061571,
     "end_time": "2021-05-31T15:32:19.168083",
     "exception": false,
     "start_time": "2021-05-31T15:32:19.106512",
     "status": "completed"
    },
    "tags": []
   },
   "outputs": [
    {
     "data": {
      "text/html": [
       "<div>\n",
       "<style scoped>\n",
       "    .dataframe tbody tr th:only-of-type {\n",
       "        vertical-align: middle;\n",
       "    }\n",
       "\n",
       "    .dataframe tbody tr th {\n",
       "        vertical-align: top;\n",
       "    }\n",
       "\n",
       "    .dataframe thead th {\n",
       "        text-align: right;\n",
       "    }\n",
       "</style>\n",
       "<table border=\"1\" class=\"dataframe\">\n",
       "  <thead>\n",
       "    <tr style=\"text-align: right;\">\n",
       "      <th></th>\n",
       "      <th>Image_path</th>\n",
       "      <th>Condition</th>\n",
       "      <th>Amount</th>\n",
       "    </tr>\n",
       "  </thead>\n",
       "  <tbody>\n",
       "    <tr>\n",
       "      <th>0</th>\n",
       "      <td>img_4538519.jpg</td>\n",
       "      <td>1.0</td>\n",
       "      <td>2991.954834</td>\n",
       "    </tr>\n",
       "    <tr>\n",
       "      <th>1</th>\n",
       "      <td>img_7766002.jpg</td>\n",
       "      <td>1.0</td>\n",
       "      <td>3872.228271</td>\n",
       "    </tr>\n",
       "    <tr>\n",
       "      <th>2</th>\n",
       "      <td>img_4637390.jpg</td>\n",
       "      <td>1.0</td>\n",
       "      <td>4151.862305</td>\n",
       "    </tr>\n",
       "    <tr>\n",
       "      <th>3</th>\n",
       "      <td>img_4516108.jpg</td>\n",
       "      <td>1.0</td>\n",
       "      <td>3747.242432</td>\n",
       "    </tr>\n",
       "    <tr>\n",
       "      <th>4</th>\n",
       "      <td>img_4517008.jpg</td>\n",
       "      <td>1.0</td>\n",
       "      <td>3605.582275</td>\n",
       "    </tr>\n",
       "  </tbody>\n",
       "</table>\n",
       "</div>"
      ],
      "text/plain": [
       "        Image_path  Condition       Amount\n",
       "0  img_4538519.jpg        1.0  2991.954834\n",
       "1  img_7766002.jpg        1.0  3872.228271\n",
       "2  img_4637390.jpg        1.0  4151.862305\n",
       "3  img_4516108.jpg        1.0  3747.242432\n",
       "4  img_4517008.jpg        1.0  3605.582275"
      ]
     },
     "execution_count": 9,
     "metadata": {},
     "output_type": "execute_result"
    }
   ],
   "source": [
    "test_df1 = pd.read_csv(\"../input/he-fast-furious-insured/dataset/test.csv\")\n",
    "\n",
    "submit_df = pd.DataFrame()\n",
    "submit_df['Image_path'] = test_df1['Image_path']\n",
    "submit_df['Condition'] = test_df['Condition']\n",
    "submit_df['Amount'] = y_pred_final_xgb\n",
    "submit_df.loc[test_df['Condition']==0, 'Amount'] = 0\n",
    "\n",
    "submit_df.to_csv(\"./XGB_Submission_w_Adjustment.csv\", index=False)\n",
    "submit_df.head()"
   ]
  },
  {
   "cell_type": "code",
   "execution_count": null,
   "id": "original-violation",
   "metadata": {
    "papermill": {
     "duration": 0.02407,
     "end_time": "2021-05-31T15:32:19.216627",
     "exception": false,
     "start_time": "2021-05-31T15:32:19.192557",
     "status": "completed"
    },
    "tags": []
   },
   "outputs": [],
   "source": []
  }
 ],
 "metadata": {
  "kernelspec": {
   "display_name": "Python 3",
   "language": "python",
   "name": "python3"
  },
  "language_info": {
   "codemirror_mode": {
    "name": "ipython",
    "version": 3
   },
   "file_extension": ".py",
   "mimetype": "text/x-python",
   "name": "python",
   "nbconvert_exporter": "python",
   "pygments_lexer": "ipython3",
   "version": "3.7.10"
  },
  "papermill": {
   "default_parameters": {},
   "duration": 33.5088,
   "end_time": "2021-05-31T15:32:20.250211",
   "environment_variables": {},
   "exception": null,
   "input_path": "__notebook__.ipynb",
   "output_path": "__notebook__.ipynb",
   "parameters": {},
   "start_time": "2021-05-31T15:31:46.741411",
   "version": "2.3.3"
  }
 },
 "nbformat": 4,
 "nbformat_minor": 5
}
