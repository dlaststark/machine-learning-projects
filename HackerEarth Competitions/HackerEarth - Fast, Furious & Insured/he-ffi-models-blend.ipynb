{
 "cells": [
  {
   "cell_type": "markdown",
   "id": "animal-cleaner",
   "metadata": {
    "papermill": {
     "duration": 0.019668,
     "end_time": "2021-06-12T04:52:25.351458",
     "exception": false,
     "start_time": "2021-06-12T04:52:25.331790",
     "status": "completed"
    },
    "tags": []
   },
   "source": [
    "## Import libraries"
   ]
  },
  {
   "cell_type": "code",
   "execution_count": 1,
   "id": "eligible-kentucky",
   "metadata": {
    "execution": {
     "iopub.execute_input": "2021-06-12T04:52:25.391174Z",
     "iopub.status.busy": "2021-06-12T04:52:25.390015Z",
     "iopub.status.idle": "2021-06-12T04:52:26.738365Z",
     "shell.execute_reply": "2021-06-12T04:52:26.737583Z",
     "shell.execute_reply.started": "2021-06-12T04:46:30.777257Z"
    },
    "papermill": {
     "duration": 1.369714,
     "end_time": "2021-06-12T04:52:26.738566",
     "exception": false,
     "start_time": "2021-06-12T04:52:25.368852",
     "status": "completed"
    },
    "tags": []
   },
   "outputs": [],
   "source": [
    "import warnings\n",
    "warnings.filterwarnings(\"ignore\")\n",
    "\n",
    "import gc\n",
    "import pickle\n",
    "import numpy as np\n",
    "import pandas as pd\n",
    "from sklearn.metrics import r2_score\n",
    "from sklearn.model_selection import StratifiedKFold\n",
    "\n",
    "from sklearn.ensemble import VotingRegressor\n",
    "from sklearn.linear_model import BayesianRidge\n",
    "from sklearn.neural_network import MLPRegressor\n",
    "from sklearn.ensemble import RandomForestRegressor"
   ]
  },
  {
   "cell_type": "markdown",
   "id": "turned-granny",
   "metadata": {
    "papermill": {
     "duration": 0.017603,
     "end_time": "2021-06-12T04:52:26.774841",
     "exception": false,
     "start_time": "2021-06-12T04:52:26.757238",
     "status": "completed"
    },
    "tags": []
   },
   "source": [
    "## Prepare data"
   ]
  },
  {
   "cell_type": "code",
   "execution_count": 2,
   "id": "bulgarian-today",
   "metadata": {
    "execution": {
     "iopub.execute_input": "2021-06-12T04:52:26.820673Z",
     "iopub.status.busy": "2021-06-12T04:52:26.819975Z",
     "iopub.status.idle": "2021-06-12T04:52:27.068266Z",
     "shell.execute_reply": "2021-06-12T04:52:27.069035Z",
     "shell.execute_reply.started": "2021-06-12T04:46:31.924259Z"
    },
    "papermill": {
     "duration": 0.275307,
     "end_time": "2021-06-12T04:52:27.069303",
     "exception": false,
     "start_time": "2021-06-12T04:52:26.793996",
     "status": "completed"
    },
    "tags": []
   },
   "outputs": [
    {
     "name": "stdout",
     "output_type": "stream",
     "text": [
      "Xtrain: (1382, 155) \n",
      "Xtest:(600, 155)\n"
     ]
    },
    {
     "data": {
      "text/plain": [
       "0"
      ]
     },
     "execution_count": 2,
     "metadata": {},
     "output_type": "execute_result"
    }
   ],
   "source": [
    "with open(\"../input/he-ffi-preprocess-data/HE_FFI_Dataset.txt\", 'rb') as handle: \n",
    "    data = handle.read()\n",
    "\n",
    "processed_data = pickle.loads(data)\n",
    "train_df = processed_data['train_df']\n",
    "test_df = processed_data['test_df']\n",
    "\n",
    "Ytrain_meta = train_df['Amount'].values\n",
    "Ytrain_strat = pd.qcut(train_df['Amount'].values, q=5, labels=range(0,5))\n",
    "train_df.drop(['Amount', 'Image_path'], inplace=True, axis=1)\n",
    "test_df.drop(['Image_path'], inplace=True, axis=1)\n",
    "\n",
    "Xtrain = train_df.values\n",
    "Xtest = test_df.values\n",
    "print(f\"Xtrain: {Xtrain.shape} \\nXtest:{Xtest.shape}\")\n",
    "\n",
    "del train_df\n",
    "del test_df\n",
    "del processed_data\n",
    "gc.collect()"
   ]
  },
  {
   "cell_type": "code",
   "execution_count": 3,
   "id": "greater-brazil",
   "metadata": {
    "execution": {
     "iopub.execute_input": "2021-06-12T04:52:27.120941Z",
     "iopub.status.busy": "2021-06-12T04:52:27.115428Z",
     "iopub.status.idle": "2021-06-12T04:52:27.325878Z",
     "shell.execute_reply": "2021-06-12T04:52:27.326427Z",
     "shell.execute_reply.started": "2021-06-12T04:46:32.106570Z"
    },
    "papermill": {
     "duration": 0.238586,
     "end_time": "2021-06-12T04:52:27.326621",
     "exception": false,
     "start_time": "2021-06-12T04:52:27.088035",
     "status": "completed"
    },
    "tags": []
   },
   "outputs": [],
   "source": [
    "ds = np.load('../input/he-ffi-lgb-model/LGB_Meta_Features.npz', allow_pickle=True)\n",
    "y_pred_meta_lgb1, oof_score_lgb1, y_pred_final_lgb1 = ds['y_pred_meta_lgb'], ds['oof_score'], ds['y_pred_final_lgb']\n",
    "\n",
    "ds = np.load('../input/he-ffi-lgb-model-v2/LGB_Meta_Features.npz', allow_pickle=True)\n",
    "y_pred_meta_lgb2, oof_score_lgb2, y_pred_final_lgb2 = ds['y_pred_meta_lgb'], ds['oof_score'], ds['y_pred_final_lgb']\n",
    "\n",
    "ds = np.load('../input/he-ffi-lgb-model-v3/LGB_Meta_Features.npz', allow_pickle=True)\n",
    "y_pred_meta_lgb3, oof_score_lgb3, y_pred_final_lgb3 = ds['y_pred_meta_lgb'], ds['oof_score'], ds['y_pred_final_lgb']\n",
    "\n",
    "ds = np.load('../input/he-ffi-lgb-model-v4/LGB_Meta_Features.npz', allow_pickle=True)\n",
    "y_pred_meta_lgb4, oof_score_lgb4, y_pred_final_lgb4 = ds['y_pred_meta_lgb'], ds['oof_score'], ds['y_pred_final_lgb']\n",
    "\n",
    "ds = np.load('../input/he-ffi-lgb-model-v5/LGB_Meta_Features.npz', allow_pickle=True)\n",
    "y_pred_meta_lgb5, oof_score_lgb5, y_pred_final_lgb5 = ds['y_pred_meta_lgb'], ds['oof_score'], ds['y_pred_final_lgb']\n",
    "\n",
    "ds = np.load('../input/he-ffi-xgb-model/XGB_Meta_Features.npz', allow_pickle=True)\n",
    "y_pred_meta_xgb1, oof_score_xgb1, y_pred_final_xgb1 = ds['y_pred_meta_xgb'], ds['oof_score'], ds['y_pred_final_xgb']\n",
    "\n",
    "ds = np.load('../input/he-ffi-xgb-model-v2/XGB_Meta_Features.npz', allow_pickle=True)\n",
    "y_pred_meta_xgb2, oof_score_xgb2, y_pred_final_xgb2 = ds['y_pred_meta_xgb'], ds['oof_score'], ds['y_pred_final_xgb']\n",
    "\n",
    "ds = np.load('../input/he-ffi-xgb-model-v3/XGB_Meta_Features.npz', allow_pickle=True)\n",
    "y_pred_meta_xgb3, oof_score_xgb3, y_pred_final_xgb3 = ds['y_pred_meta_xgb'], ds['oof_score'], ds['y_pred_final_xgb']\n",
    "\n",
    "ds = np.load('../input/he-ffi-xgb-model-v4/XGB_Meta_Features.npz', allow_pickle=True)\n",
    "y_pred_meta_xgb4, oof_score_xgb4, y_pred_final_xgb4 = ds['y_pred_meta_xgb'], ds['oof_score'], ds['y_pred_final_xgb']\n",
    "\n",
    "ds = np.load('../input/he-ffi-xgb-model-v5/XGB_Meta_Features.npz', allow_pickle=True)\n",
    "y_pred_meta_xgb5, oof_score_xgb5, y_pred_final_xgb5 = ds['y_pred_meta_xgb'], ds['oof_score'], ds['y_pred_final_xgb']\n",
    "\n",
    "ds = np.load('../input/he-ffi-cb-model/CB_Meta_Features.npz', allow_pickle=True)\n",
    "y_pred_meta_cb1, oof_score_cb1, y_pred_final_cb1 = ds['y_pred_meta_cb'], ds['oof_score'], ds['y_pred_final_cb']\n",
    "\n",
    "ds = np.load('../input/he-ffi-cb-model-v2/CB_Meta_Features.npz', allow_pickle=True)\n",
    "y_pred_meta_cb2, oof_score_cb2, y_pred_final_cb2 = ds['y_pred_meta_cb'], ds['oof_score'], ds['y_pred_final_cb']\n",
    "\n",
    "ds = np.load('../input/he-ffi-cb-model-v3/CB_Meta_Features.npz', allow_pickle=True)\n",
    "y_pred_meta_cb3, oof_score_cb3, y_pred_final_cb3 = ds['y_pred_meta_cb'], ds['oof_score'], ds['y_pred_final_cb']\n",
    "\n",
    "ds = np.load('../input/he-ffi-cb-model-v4/CB_Meta_Features.npz', allow_pickle=True)\n",
    "y_pred_meta_cb4, oof_score_cb4, y_pred_final_cb4 = ds['y_pred_meta_cb'], ds['oof_score'], ds['y_pred_final_cb']\n",
    "\n",
    "ds = np.load('../input/he-ffi-cb-model-v5/CB_Meta_Features.npz', allow_pickle=True)\n",
    "y_pred_meta_cb5, oof_score_cb5, y_pred_final_cb5 = ds['y_pred_meta_cb'], ds['oof_score'], ds['y_pred_final_cb']"
   ]
  },
  {
   "cell_type": "code",
   "execution_count": 4,
   "id": "challenging-climate",
   "metadata": {
    "execution": {
     "iopub.execute_input": "2021-06-12T04:52:27.365635Z",
     "iopub.status.busy": "2021-06-12T04:52:27.364748Z",
     "iopub.status.idle": "2021-06-12T04:52:27.372759Z",
     "shell.execute_reply": "2021-06-12T04:52:27.373275Z",
     "shell.execute_reply.started": "2021-06-12T04:46:32.401567Z"
    },
    "papermill": {
     "duration": 0.028936,
     "end_time": "2021-06-12T04:52:27.373441",
     "exception": false,
     "start_time": "2021-06-12T04:52:27.344505",
     "status": "completed"
    },
    "tags": []
   },
   "outputs": [],
   "source": [
    "y_pred_final_cb1 = np.array([y_pred_final_cb1]).T\n",
    "y_pred_final_cb2 = np.array([y_pred_final_cb2]).T\n",
    "y_pred_final_cb3 = np.array([y_pred_final_cb3]).T\n",
    "y_pred_final_cb4 = np.array([y_pred_final_cb4]).T\n",
    "y_pred_final_cb5 = np.array([y_pred_final_cb5]).T\n",
    "\n",
    "y_pred_final_lgb1 = np.array([y_pred_final_lgb1]).T\n",
    "y_pred_final_lgb2 = np.array([y_pred_final_lgb2]).T\n",
    "y_pred_final_lgb3 = np.array([y_pred_final_lgb3]).T\n",
    "y_pred_final_lgb4 = np.array([y_pred_final_lgb4]).T\n",
    "y_pred_final_lgb5 = np.array([y_pred_final_lgb5]).T\n",
    "\n",
    "y_pred_final_xgb1 = np.array([y_pred_final_xgb1]).T\n",
    "y_pred_final_xgb2 = np.array([y_pred_final_xgb2]).T\n",
    "y_pred_final_xgb3 = np.array([y_pred_final_xgb3]).T\n",
    "y_pred_final_xgb4 = np.array([y_pred_final_xgb4]).T\n",
    "y_pred_final_xgb5 = np.array([y_pred_final_xgb5]).T"
   ]
  },
  {
   "cell_type": "code",
   "execution_count": 5,
   "id": "biblical-induction",
   "metadata": {
    "execution": {
     "iopub.execute_input": "2021-06-12T04:52:27.412450Z",
     "iopub.status.busy": "2021-06-12T04:52:27.411527Z",
     "iopub.status.idle": "2021-06-12T04:52:27.422461Z",
     "shell.execute_reply": "2021-06-12T04:52:27.422973Z",
     "shell.execute_reply.started": "2021-06-12T04:46:32.701590Z"
    },
    "papermill": {
     "duration": 0.031965,
     "end_time": "2021-06-12T04:52:27.423152",
     "exception": false,
     "start_time": "2021-06-12T04:52:27.391187",
     "status": "completed"
    },
    "tags": []
   },
   "outputs": [
    {
     "name": "stdout",
     "output_type": "stream",
     "text": [
      "Xtrain_meta shape: (1382, 170)\n",
      "Ytrain_meta shape: (1382,)\n",
      "Xtest_meta shape: (600, 170)\n"
     ]
    }
   ],
   "source": [
    "Xtrain_meta = np.concatenate((Xtrain, y_pred_meta_cb1, y_pred_meta_cb2, y_pred_meta_cb3, y_pred_meta_cb4, y_pred_meta_cb5, \n",
    "                              y_pred_meta_lgb1, y_pred_meta_lgb2, y_pred_meta_lgb3, y_pred_meta_lgb4, y_pred_meta_lgb5, \n",
    "                              y_pred_meta_xgb1, y_pred_meta_xgb2, y_pred_meta_xgb3, y_pred_meta_xgb4, y_pred_meta_xgb5), \n",
    "                             axis=1)\n",
    "\n",
    "Xtest_meta = np.concatenate((Xtest, y_pred_final_cb1, y_pred_final_cb2, y_pred_final_cb3, y_pred_final_cb4, y_pred_final_cb5, \n",
    "                             y_pred_final_lgb1, y_pred_final_lgb2, y_pred_final_lgb3, y_pred_final_lgb4, y_pred_final_lgb5, \n",
    "                             y_pred_final_xgb1, y_pred_final_xgb2, y_pred_final_xgb3, y_pred_final_xgb4, y_pred_final_xgb5), \n",
    "                            axis=1)\n",
    "\n",
    "print(\"Xtrain_meta shape: {}\".format(Xtrain_meta.shape))\n",
    "print(\"Ytrain_meta shape: {}\".format(Ytrain_meta.shape))\n",
    "print(\"Xtest_meta shape: {}\".format(Xtest_meta.shape))"
   ]
  },
  {
   "cell_type": "markdown",
   "id": "computational-liabilities",
   "metadata": {
    "papermill": {
     "duration": 0.017621,
     "end_time": "2021-06-12T04:52:27.458632",
     "exception": false,
     "start_time": "2021-06-12T04:52:27.441011",
     "status": "completed"
    },
    "tags": []
   },
   "source": [
    "## RandomForestRegressor"
   ]
  },
  {
   "cell_type": "code",
   "execution_count": 6,
   "id": "racial-crazy",
   "metadata": {
    "execution": {
     "iopub.execute_input": "2021-06-12T04:52:27.507316Z",
     "iopub.status.busy": "2021-06-12T04:52:27.506068Z",
     "iopub.status.idle": "2021-06-12T04:54:23.302983Z",
     "shell.execute_reply": "2021-06-12T04:54:23.302243Z",
     "shell.execute_reply.started": "2021-06-12T04:46:41.732480Z"
    },
    "papermill": {
     "duration": 115.826548,
     "end_time": "2021-06-12T04:54:23.303161",
     "exception": false,
     "start_time": "2021-06-12T04:52:27.476613",
     "status": "completed"
    },
    "tags": []
   },
   "outputs": [
    {
     "name": "stdout",
     "output_type": "stream",
     "text": [
      "Seed-24 | Fold-0 | OOF Score: 23.1461161892475\n",
      "Seed-24 | Fold-1 | OOF Score: 22.272555461856903\n",
      "Seed-24 | Fold-2 | OOF Score: 19.12405896874978\n",
      "Seed-24 | Fold-3 | OOF Score: 26.1692260540341\n",
      "Seed-24 | Fold-4 | OOF Score: 18.751185723025987\n",
      "\n",
      "Seed: 24 | Aggregate OOF Score: 21.892628479382854\n",
      "\n",
      "\n",
      "Seed-3 | Fold-0 | OOF Score: 22.556017088722278\n",
      "Seed-3 | Fold-1 | OOF Score: 19.397084092857785\n",
      "Seed-3 | Fold-2 | OOF Score: 24.161442327936566\n",
      "Seed-3 | Fold-3 | OOF Score: 18.235715070812496\n",
      "Seed-3 | Fold-4 | OOF Score: 20.453665077923834\n",
      "\n",
      "Seed: 3 | Aggregate OOF Score: 20.96078473165059\n",
      "\n",
      "\n",
      "Seed-56 | Fold-0 | OOF Score: 18.892563702821818\n",
      "Seed-56 | Fold-1 | OOF Score: 21.233413685237668\n",
      "Seed-56 | Fold-2 | OOF Score: 21.870433574153157\n",
      "Seed-56 | Fold-3 | OOF Score: 25.074695882209706\n",
      "Seed-56 | Fold-4 | OOF Score: 18.062085889852398\n",
      "\n",
      "Seed: 56 | Aggregate OOF Score: 21.026638546854947\n",
      "\n",
      "\n",
      "Aggregate OOF Score: 21.2933505859628\n"
     ]
    }
   ],
   "source": [
    "FOLD = 5\n",
    "NUM_SEED = 3\n",
    "\n",
    "np.random.seed(3)\n",
    "seeds = np.random.randint(0, 100, size=NUM_SEED)\n",
    "\n",
    "oof_score = 0\n",
    "y_pred_final_rf = 0\n",
    "counter = 0\n",
    "\n",
    "\n",
    "for sidx, seed in enumerate(seeds):\n",
    "    seed_score = 0\n",
    "    \n",
    "    kfold = StratifiedKFold(n_splits=FOLD, shuffle=True, random_state=seed)\n",
    "\n",
    "    for idx, (train, val) in enumerate(kfold.split(Xtrain_meta, Ytrain_strat)):\n",
    "        counter += 1\n",
    "\n",
    "        train_x, train_y = Xtrain_meta[train], Ytrain_meta[train]\n",
    "        val_x, val_y = Xtrain_meta[val], Ytrain_meta[val]\n",
    "\n",
    "        model = RandomForestRegressor(\n",
    "            n_estimators=300,\n",
    "            max_depth=6, \n",
    "            random_state=0\n",
    "        )\n",
    "\n",
    "        model.fit(train_x, train_y)\n",
    "\n",
    "        y_pred = model.predict(val_x)\n",
    "        y_pred_final_rf += model.predict(Xtest_meta)\n",
    "        \n",
    "        score = 100 * r2_score(val_y, y_pred)\n",
    "        oof_score += score\n",
    "        seed_score += score\n",
    "        print(\"Seed-{} | Fold-{} | OOF Score: {}\".format(seed, idx, score))\n",
    "    \n",
    "    print(\"\\nSeed: {} | Aggregate OOF Score: {}\\n\\n\".format(seed, (seed_score / FOLD)))\n",
    "\n",
    "\n",
    "y_pred_final_rf = y_pred_final_rf / float(counter)\n",
    "oof_score /= float(counter)\n",
    "print(\"Aggregate OOF Score: {}\".format(oof_score))"
   ]
  },
  {
   "cell_type": "markdown",
   "id": "classical-hartford",
   "metadata": {
    "papermill": {
     "duration": 0.023554,
     "end_time": "2021-06-12T04:54:23.351185",
     "exception": false,
     "start_time": "2021-06-12T04:54:23.327631",
     "status": "completed"
    },
    "tags": []
   },
   "source": [
    "## MLP Regressor"
   ]
  },
  {
   "cell_type": "code",
   "execution_count": 7,
   "id": "tough-judges",
   "metadata": {
    "execution": {
     "iopub.execute_input": "2021-06-12T04:54:23.413158Z",
     "iopub.status.busy": "2021-06-12T04:54:23.412006Z",
     "iopub.status.idle": "2021-06-12T04:54:58.188783Z",
     "shell.execute_reply": "2021-06-12T04:54:58.189802Z",
     "shell.execute_reply.started": "2021-06-12T04:48:32.715407Z"
    },
    "papermill": {
     "duration": 34.814958,
     "end_time": "2021-06-12T04:54:58.190124",
     "exception": false,
     "start_time": "2021-06-12T04:54:23.375166",
     "status": "completed"
    },
    "tags": []
   },
   "outputs": [
    {
     "name": "stdout",
     "output_type": "stream",
     "text": [
      "Seed-24 | Fold-0 | OOF Score: 22.39957433243952\n",
      "Seed-24 | Fold-1 | OOF Score: 20.994611132141927\n",
      "Seed-24 | Fold-2 | OOF Score: 19.450320855192015\n",
      "Seed-24 | Fold-3 | OOF Score: 24.2881722986653\n",
      "Seed-24 | Fold-4 | OOF Score: 17.62288340829724\n",
      "\n",
      "Seed: 24 | Aggregate OOF Score: 20.9511124053472\n",
      "\n",
      "\n",
      "Seed-3 | Fold-0 | OOF Score: 22.12903553586637\n",
      "Seed-3 | Fold-1 | OOF Score: 20.08686922046329\n",
      "Seed-3 | Fold-2 | OOF Score: 22.30693166968869\n",
      "Seed-3 | Fold-3 | OOF Score: 18.85928590006539\n",
      "Seed-3 | Fold-4 | OOF Score: 19.957905468286754\n",
      "\n",
      "Seed: 3 | Aggregate OOF Score: 20.6680055588741\n",
      "\n",
      "\n",
      "Seed-56 | Fold-0 | OOF Score: 18.784450372619578\n",
      "Seed-56 | Fold-1 | OOF Score: 22.56572224959138\n",
      "Seed-56 | Fold-2 | OOF Score: 22.532316473965842\n",
      "Seed-56 | Fold-3 | OOF Score: 23.30213833974961\n",
      "Seed-56 | Fold-4 | OOF Score: 17.455061129256187\n",
      "\n",
      "Seed: 56 | Aggregate OOF Score: 20.92793771303652\n",
      "\n",
      "\n",
      "Aggregate OOF Score: 20.84901855908594\n"
     ]
    }
   ],
   "source": [
    "FOLD = 5\n",
    "NUM_SEED = 3\n",
    "\n",
    "np.random.seed(3)\n",
    "seeds = np.random.randint(0, 100, size=NUM_SEED)\n",
    "\n",
    "oof_score = 0\n",
    "y_pred_final_mlp = 0\n",
    "counter = 0\n",
    "\n",
    "\n",
    "for sidx, seed in enumerate(seeds):\n",
    "    seed_score = 0\n",
    "    \n",
    "    kfold = StratifiedKFold(n_splits=FOLD, shuffle=True, random_state=seed)\n",
    "\n",
    "    for idx, (train, val) in enumerate(kfold.split(Xtrain_meta, Ytrain_strat)):\n",
    "        counter += 1\n",
    "\n",
    "        train_x, train_y = Xtrain_meta[train], Ytrain_meta[train]\n",
    "        val_x, val_y = Xtrain_meta[val], Ytrain_meta[val]\n",
    "\n",
    "        model = MLPRegressor(\n",
    "            hidden_layer_sizes=(192, 96, 48),\n",
    "            learning_rate='adaptive',\n",
    "            early_stopping=True,\n",
    "            n_iter_no_change=30,\n",
    "            random_state=0, \n",
    "            max_iter=1000,\n",
    "            verbose=False\n",
    "        )\n",
    "\n",
    "        model.fit(train_x, train_y)\n",
    "\n",
    "        y_pred = model.predict(val_x)\n",
    "        y_pred_final_mlp += model.predict(Xtest_meta)\n",
    "        \n",
    "        score = 100 * r2_score(val_y, y_pred)\n",
    "        oof_score += score\n",
    "        seed_score += score\n",
    "        print(\"Seed-{} | Fold-{} | OOF Score: {}\".format(seed, idx, score))\n",
    "    \n",
    "    print(\"\\nSeed: {} | Aggregate OOF Score: {}\\n\\n\".format(seed, (seed_score / FOLD)))\n",
    "\n",
    "\n",
    "y_pred_final_mlp = y_pred_final_mlp / float(counter)\n",
    "oof_score /= float(counter)\n",
    "print(\"Aggregate OOF Score: {}\".format(oof_score))"
   ]
  },
  {
   "cell_type": "markdown",
   "id": "emerging-spectrum",
   "metadata": {
    "papermill": {
     "duration": 0.047346,
     "end_time": "2021-06-12T04:54:58.285119",
     "exception": false,
     "start_time": "2021-06-12T04:54:58.237773",
     "status": "completed"
    },
    "tags": []
   },
   "source": [
    "## Bayesian Ridge"
   ]
  },
  {
   "cell_type": "code",
   "execution_count": 8,
   "id": "polish-unknown",
   "metadata": {
    "execution": {
     "iopub.execute_input": "2021-06-12T04:54:58.359383Z",
     "iopub.status.busy": "2021-06-12T04:54:58.358705Z",
     "iopub.status.idle": "2021-06-12T04:54:59.547302Z",
     "shell.execute_reply": "2021-06-12T04:54:59.548620Z",
     "shell.execute_reply.started": "2021-06-12T04:49:00.556781Z"
    },
    "papermill": {
     "duration": 1.228637,
     "end_time": "2021-06-12T04:54:59.548934",
     "exception": false,
     "start_time": "2021-06-12T04:54:58.320297",
     "status": "completed"
    },
    "tags": []
   },
   "outputs": [
    {
     "name": "stdout",
     "output_type": "stream",
     "text": [
      "Seed-24 | Fold-0 | OOF Score: 23.251320600848835\n",
      "Seed-24 | Fold-1 | OOF Score: 21.709776716130868\n",
      "Seed-24 | Fold-2 | OOF Score: 19.39165842981907\n",
      "Seed-24 | Fold-3 | OOF Score: 25.558197235371484\n",
      "Seed-24 | Fold-4 | OOF Score: 20.802632561656743\n",
      "\n",
      "Seed: 24 | Aggregate OOF Score: 22.142717108765403\n",
      "\n",
      "\n",
      "Seed-3 | Fold-0 | OOF Score: 25.42396520137308\n",
      "Seed-3 | Fold-1 | OOF Score: 21.194233951105\n",
      "Seed-3 | Fold-2 | OOF Score: 23.002677566711192\n",
      "Seed-3 | Fold-3 | OOF Score: 19.80387667119141\n",
      "Seed-3 | Fold-4 | OOF Score: 20.564238804576497\n",
      "\n",
      "Seed: 3 | Aggregate OOF Score: 21.997798438991435\n",
      "\n",
      "\n",
      "Seed-56 | Fold-0 | OOF Score: 18.898032627201967\n",
      "Seed-56 | Fold-1 | OOF Score: 23.038608871796697\n",
      "Seed-56 | Fold-2 | OOF Score: 23.151931542407755\n",
      "Seed-56 | Fold-3 | OOF Score: 26.473516674104424\n",
      "Seed-56 | Fold-4 | OOF Score: 17.55704063304333\n",
      "\n",
      "Seed: 56 | Aggregate OOF Score: 21.823826069710833\n",
      "\n",
      "\n",
      "Aggregate OOF Score: 21.98811387248922\n"
     ]
    }
   ],
   "source": [
    "FOLD = 5\n",
    "NUM_SEED = 3\n",
    "\n",
    "np.random.seed(3)\n",
    "seeds = np.random.randint(0, 100, size=NUM_SEED)\n",
    "\n",
    "oof_score = 0\n",
    "y_pred_final_ridge = 0\n",
    "counter = 0\n",
    "\n",
    "\n",
    "for sidx, seed in enumerate(seeds):\n",
    "    seed_score = 0\n",
    "    \n",
    "    kfold = StratifiedKFold(n_splits=FOLD, shuffle=True, random_state=seed)\n",
    "\n",
    "    for idx, (train, val) in enumerate(kfold.split(Xtrain_meta, Ytrain_strat)):\n",
    "        counter += 1\n",
    "\n",
    "        train_x, train_y = Xtrain_meta[train], Ytrain_meta[train]\n",
    "        val_x, val_y = Xtrain_meta[val], Ytrain_meta[val]\n",
    "\n",
    "        model = BayesianRidge()\n",
    "\n",
    "        model.fit(train_x, train_y)\n",
    "\n",
    "        y_pred = model.predict(val_x)\n",
    "        y_pred_final_ridge += model.predict(Xtest_meta)\n",
    "        \n",
    "        score = 100 * r2_score(val_y, y_pred)\n",
    "        oof_score += score\n",
    "        seed_score += score\n",
    "        print(\"Seed-{} | Fold-{} | OOF Score: {}\".format(seed, idx, score))\n",
    "    \n",
    "    print(\"\\nSeed: {} | Aggregate OOF Score: {}\\n\\n\".format(seed, (seed_score / FOLD)))\n",
    "\n",
    "\n",
    "y_pred_final_ridge = y_pred_final_ridge / float(counter)\n",
    "oof_score /= float(counter)\n",
    "print(\"Aggregate OOF Score: {}\".format(oof_score))"
   ]
  },
  {
   "cell_type": "markdown",
   "id": "cardiovascular-thesaurus",
   "metadata": {
    "papermill": {
     "duration": 0.069465,
     "end_time": "2021-06-12T04:54:59.680845",
     "exception": false,
     "start_time": "2021-06-12T04:54:59.611380",
     "status": "completed"
    },
    "tags": []
   },
   "source": [
    "## Voting Regressor"
   ]
  },
  {
   "cell_type": "code",
   "execution_count": 9,
   "id": "confident-warrior",
   "metadata": {
    "execution": {
     "iopub.execute_input": "2021-06-12T04:54:59.768029Z",
     "iopub.status.busy": "2021-06-12T04:54:59.767327Z",
     "iopub.status.idle": "2021-06-12T04:57:31.201482Z",
     "shell.execute_reply": "2021-06-12T04:57:31.202431Z",
     "shell.execute_reply.started": "2021-06-12T04:49:01.542787Z"
    },
    "papermill": {
     "duration": 151.484586,
     "end_time": "2021-06-12T04:57:31.202764",
     "exception": false,
     "start_time": "2021-06-12T04:54:59.718178",
     "status": "completed"
    },
    "tags": []
   },
   "outputs": [
    {
     "name": "stdout",
     "output_type": "stream",
     "text": [
      "Seed-24 | Fold-0 | OOF Score: 23.66387199776543\n",
      "Seed-24 | Fold-1 | OOF Score: 22.367645526439052\n",
      "Seed-24 | Fold-2 | OOF Score: 19.838555248263834\n",
      "Seed-24 | Fold-3 | OOF Score: 26.17982839259315\n",
      "Seed-24 | Fold-4 | OOF Score: 19.797395409470486\n",
      "\n",
      "Seed: 24 | Aggregate OOF Score: 22.36945931490639\n",
      "\n",
      "\n",
      "Seed-3 | Fold-0 | OOF Score: 24.719699144880003\n",
      "Seed-3 | Fold-1 | OOF Score: 20.80168222852641\n",
      "Seed-3 | Fold-2 | OOF Score: 23.98803891363347\n",
      "Seed-3 | Fold-3 | OOF Score: 19.423179093474907\n",
      "Seed-3 | Fold-4 | OOF Score: 20.952014234280668\n",
      "\n",
      "Seed: 3 | Aggregate OOF Score: 21.976922722959095\n",
      "\n",
      "\n",
      "Seed-56 | Fold-0 | OOF Score: 19.57256771966549\n",
      "Seed-56 | Fold-1 | OOF Score: 22.579513281030415\n",
      "Seed-56 | Fold-2 | OOF Score: 22.865113563283234\n",
      "Seed-56 | Fold-3 | OOF Score: 26.11028428419707\n",
      "Seed-56 | Fold-4 | OOF Score: 18.384362400605035\n",
      "\n",
      "Seed: 56 | Aggregate OOF Score: 21.902368249756243\n",
      "\n",
      "\n",
      "Aggregate OOF Score: 22.08291676254057\n"
     ]
    }
   ],
   "source": [
    "FOLD = 5\n",
    "NUM_SEED = 3\n",
    "\n",
    "np.random.seed(3)\n",
    "seeds = np.random.randint(0, 100, size=NUM_SEED)\n",
    "\n",
    "oof_score = 0\n",
    "y_pred_final_vr = 0\n",
    "counter = 0\n",
    "\n",
    "\n",
    "for sidx, seed in enumerate(seeds):\n",
    "    seed_score = 0\n",
    "    \n",
    "    kfold = StratifiedKFold(n_splits=FOLD, shuffle=True, random_state=seed)\n",
    "\n",
    "    for idx, (train, val) in enumerate(kfold.split(Xtrain_meta, Ytrain_strat)):\n",
    "        counter += 1\n",
    "\n",
    "        train_x, train_y = Xtrain_meta[train], Ytrain_meta[train]\n",
    "        val_x, val_y = Xtrain_meta[val], Ytrain_meta[val]\n",
    "        \n",
    "        rf = RandomForestRegressor(n_estimators=300, max_depth=6, random_state=0)\n",
    "        ridge = BayesianRidge()\n",
    "        mlp = MLPRegressor(\n",
    "            hidden_layer_sizes=(192, 96, 48),\n",
    "            learning_rate='adaptive',\n",
    "            early_stopping=True,\n",
    "            n_iter_no_change=30,\n",
    "            random_state=0, \n",
    "            max_iter=1000,\n",
    "            verbose=False\n",
    "        )\n",
    "        \n",
    "        model = VotingRegressor([('rf', rf), ('ridge', ridge), ('mlp', mlp)],\n",
    "                                weights=[3,1.5,1.5])\n",
    "\n",
    "        model.fit(train_x, train_y)\n",
    "\n",
    "        y_pred = model.predict(val_x)\n",
    "        y_pred_final_vr += model.predict(Xtest_meta)\n",
    "        \n",
    "        score = 100 * r2_score(val_y, y_pred)\n",
    "        oof_score += score\n",
    "        seed_score += score\n",
    "        print(\"Seed-{} | Fold-{} | OOF Score: {}\".format(seed, idx, score))\n",
    "    \n",
    "    print(\"\\nSeed: {} | Aggregate OOF Score: {}\\n\\n\".format(seed, (seed_score / FOLD)))\n",
    "\n",
    "\n",
    "y_pred_final_vr = y_pred_final_vr / float(counter)\n",
    "oof_score /= float(counter)\n",
    "print(\"Aggregate OOF Score: {}\".format(oof_score))"
   ]
  },
  {
   "cell_type": "markdown",
   "id": "bearing-childhood",
   "metadata": {
    "papermill": {
     "duration": 0.057434,
     "end_time": "2021-06-12T04:57:31.317631",
     "exception": false,
     "start_time": "2021-06-12T04:57:31.260197",
     "status": "completed"
    },
    "tags": []
   },
   "source": [
    "## Create submission file"
   ]
  },
  {
   "cell_type": "code",
   "execution_count": 10,
   "id": "bulgarian-venice",
   "metadata": {
    "execution": {
     "iopub.execute_input": "2021-06-12T04:57:31.391029Z",
     "iopub.status.busy": "2021-06-12T04:57:31.390163Z",
     "iopub.status.idle": "2021-06-12T04:57:31.561008Z",
     "shell.execute_reply": "2021-06-12T04:57:31.561515Z",
     "shell.execute_reply.started": "2021-06-12T04:51:36.647389Z"
    },
    "papermill": {
     "duration": 0.209991,
     "end_time": "2021-06-12T04:57:31.561720",
     "exception": false,
     "start_time": "2021-06-12T04:57:31.351729",
     "status": "completed"
    },
    "tags": []
   },
   "outputs": [
    {
     "data": {
      "text/plain": [
       "524"
      ]
     },
     "execution_count": 10,
     "metadata": {},
     "output_type": "execute_result"
    }
   ],
   "source": [
    "with open(\"../input/he-ffi-preprocess-data/HE_FFI_Dataset.txt\", 'rb') as handle: \n",
    "    data = handle.read()\n",
    "\n",
    "processed_data = pickle.loads(data)\n",
    "test_df = processed_data['test_df']\n",
    "\n",
    "del processed_data\n",
    "gc.collect()"
   ]
  },
  {
   "cell_type": "code",
   "execution_count": 11,
   "id": "psychological-radar",
   "metadata": {
    "execution": {
     "iopub.execute_input": "2021-06-12T04:57:31.636928Z",
     "iopub.status.busy": "2021-06-12T04:57:31.636268Z",
     "iopub.status.idle": "2021-06-12T04:57:31.702731Z",
     "shell.execute_reply": "2021-06-12T04:57:31.701889Z",
     "shell.execute_reply.started": "2021-06-12T04:51:37.186648Z"
    },
    "papermill": {
     "duration": 0.107472,
     "end_time": "2021-06-12T04:57:31.702883",
     "exception": false,
     "start_time": "2021-06-12T04:57:31.595411",
     "status": "completed"
    },
    "tags": []
   },
   "outputs": [
    {
     "data": {
      "text/html": [
       "<div>\n",
       "<style scoped>\n",
       "    .dataframe tbody tr th:only-of-type {\n",
       "        vertical-align: middle;\n",
       "    }\n",
       "\n",
       "    .dataframe tbody tr th {\n",
       "        vertical-align: top;\n",
       "    }\n",
       "\n",
       "    .dataframe thead th {\n",
       "        text-align: right;\n",
       "    }\n",
       "</style>\n",
       "<table border=\"1\" class=\"dataframe\">\n",
       "  <thead>\n",
       "    <tr style=\"text-align: right;\">\n",
       "      <th></th>\n",
       "      <th>Image_path</th>\n",
       "      <th>Condition</th>\n",
       "      <th>Amount</th>\n",
       "    </tr>\n",
       "  </thead>\n",
       "  <tbody>\n",
       "    <tr>\n",
       "      <th>0</th>\n",
       "      <td>img_4538519.jpg</td>\n",
       "      <td>1.0</td>\n",
       "      <td>4544.717743</td>\n",
       "    </tr>\n",
       "    <tr>\n",
       "      <th>1</th>\n",
       "      <td>img_7766002.jpg</td>\n",
       "      <td>1.0</td>\n",
       "      <td>4570.450234</td>\n",
       "    </tr>\n",
       "    <tr>\n",
       "      <th>2</th>\n",
       "      <td>img_4637390.jpg</td>\n",
       "      <td>1.0</td>\n",
       "      <td>4738.967772</td>\n",
       "    </tr>\n",
       "    <tr>\n",
       "      <th>3</th>\n",
       "      <td>img_4516108.jpg</td>\n",
       "      <td>1.0</td>\n",
       "      <td>4124.245711</td>\n",
       "    </tr>\n",
       "    <tr>\n",
       "      <th>4</th>\n",
       "      <td>img_4517008.jpg</td>\n",
       "      <td>1.0</td>\n",
       "      <td>4630.086471</td>\n",
       "    </tr>\n",
       "  </tbody>\n",
       "</table>\n",
       "</div>"
      ],
      "text/plain": [
       "        Image_path  Condition       Amount\n",
       "0  img_4538519.jpg        1.0  4544.717743\n",
       "1  img_7766002.jpg        1.0  4570.450234\n",
       "2  img_4637390.jpg        1.0  4738.967772\n",
       "3  img_4516108.jpg        1.0  4124.245711\n",
       "4  img_4517008.jpg        1.0  4630.086471"
      ]
     },
     "execution_count": 11,
     "metadata": {},
     "output_type": "execute_result"
    }
   ],
   "source": [
    "test_df1 = pd.read_csv(\"../input/he-fast-furious-insured/dataset/test.csv\")\n",
    "\n",
    "submit_df = pd.DataFrame()\n",
    "submit_df['Image_path'] = test_df1['Image_path']\n",
    "submit_df['Condition'] = test_df['Condition']\n",
    "submit_df['Amount'] = y_pred_final_rf\n",
    "submit_df.loc[test_df['Condition']==0, 'Amount'] = 0\n",
    "\n",
    "submit_df.to_csv(\"./RF_Submission.csv\", index=False)\n",
    "submit_df.head()"
   ]
  },
  {
   "cell_type": "code",
   "execution_count": 12,
   "id": "extended-frost",
   "metadata": {
    "execution": {
     "iopub.execute_input": "2021-06-12T04:57:31.773984Z",
     "iopub.status.busy": "2021-06-12T04:57:31.773365Z",
     "iopub.status.idle": "2021-06-12T04:57:31.790453Z",
     "shell.execute_reply": "2021-06-12T04:57:31.790988Z",
     "shell.execute_reply.started": "2021-06-12T04:51:37.486749Z"
    },
    "papermill": {
     "duration": 0.054469,
     "end_time": "2021-06-12T04:57:31.791168",
     "exception": false,
     "start_time": "2021-06-12T04:57:31.736699",
     "status": "completed"
    },
    "tags": []
   },
   "outputs": [
    {
     "data": {
      "text/html": [
       "<div>\n",
       "<style scoped>\n",
       "    .dataframe tbody tr th:only-of-type {\n",
       "        vertical-align: middle;\n",
       "    }\n",
       "\n",
       "    .dataframe tbody tr th {\n",
       "        vertical-align: top;\n",
       "    }\n",
       "\n",
       "    .dataframe thead th {\n",
       "        text-align: right;\n",
       "    }\n",
       "</style>\n",
       "<table border=\"1\" class=\"dataframe\">\n",
       "  <thead>\n",
       "    <tr style=\"text-align: right;\">\n",
       "      <th></th>\n",
       "      <th>Image_path</th>\n",
       "      <th>Condition</th>\n",
       "      <th>Amount</th>\n",
       "    </tr>\n",
       "  </thead>\n",
       "  <tbody>\n",
       "    <tr>\n",
       "      <th>0</th>\n",
       "      <td>img_4538519.jpg</td>\n",
       "      <td>1.0</td>\n",
       "      <td>3158.897056</td>\n",
       "    </tr>\n",
       "    <tr>\n",
       "      <th>1</th>\n",
       "      <td>img_7766002.jpg</td>\n",
       "      <td>1.0</td>\n",
       "      <td>4245.312165</td>\n",
       "    </tr>\n",
       "    <tr>\n",
       "      <th>2</th>\n",
       "      <td>img_4637390.jpg</td>\n",
       "      <td>1.0</td>\n",
       "      <td>4506.042102</td>\n",
       "    </tr>\n",
       "    <tr>\n",
       "      <th>3</th>\n",
       "      <td>img_4516108.jpg</td>\n",
       "      <td>1.0</td>\n",
       "      <td>4438.684797</td>\n",
       "    </tr>\n",
       "    <tr>\n",
       "      <th>4</th>\n",
       "      <td>img_4517008.jpg</td>\n",
       "      <td>1.0</td>\n",
       "      <td>4292.223096</td>\n",
       "    </tr>\n",
       "  </tbody>\n",
       "</table>\n",
       "</div>"
      ],
      "text/plain": [
       "        Image_path  Condition       Amount\n",
       "0  img_4538519.jpg        1.0  3158.897056\n",
       "1  img_7766002.jpg        1.0  4245.312165\n",
       "2  img_4637390.jpg        1.0  4506.042102\n",
       "3  img_4516108.jpg        1.0  4438.684797\n",
       "4  img_4517008.jpg        1.0  4292.223096"
      ]
     },
     "execution_count": 12,
     "metadata": {},
     "output_type": "execute_result"
    }
   ],
   "source": [
    "submit_df['Amount'] = y_pred_final_mlp\n",
    "submit_df.loc[test_df['Condition']==0, 'Amount'] = 0\n",
    "\n",
    "submit_df.to_csv(\"./MLP_submission.csv\", index=False)\n",
    "submit_df.head()"
   ]
  },
  {
   "cell_type": "code",
   "execution_count": 13,
   "id": "descending-albuquerque",
   "metadata": {
    "execution": {
     "iopub.execute_input": "2021-06-12T04:57:31.863331Z",
     "iopub.status.busy": "2021-06-12T04:57:31.862708Z",
     "iopub.status.idle": "2021-06-12T04:57:31.879795Z",
     "shell.execute_reply": "2021-06-12T04:57:31.880325Z",
     "shell.execute_reply.started": "2021-06-12T04:51:37.776075Z"
    },
    "papermill": {
     "duration": 0.055022,
     "end_time": "2021-06-12T04:57:31.880498",
     "exception": false,
     "start_time": "2021-06-12T04:57:31.825476",
     "status": "completed"
    },
    "tags": []
   },
   "outputs": [
    {
     "data": {
      "text/html": [
       "<div>\n",
       "<style scoped>\n",
       "    .dataframe tbody tr th:only-of-type {\n",
       "        vertical-align: middle;\n",
       "    }\n",
       "\n",
       "    .dataframe tbody tr th {\n",
       "        vertical-align: top;\n",
       "    }\n",
       "\n",
       "    .dataframe thead th {\n",
       "        text-align: right;\n",
       "    }\n",
       "</style>\n",
       "<table border=\"1\" class=\"dataframe\">\n",
       "  <thead>\n",
       "    <tr style=\"text-align: right;\">\n",
       "      <th></th>\n",
       "      <th>Image_path</th>\n",
       "      <th>Condition</th>\n",
       "      <th>Amount</th>\n",
       "    </tr>\n",
       "  </thead>\n",
       "  <tbody>\n",
       "    <tr>\n",
       "      <th>0</th>\n",
       "      <td>img_4538519.jpg</td>\n",
       "      <td>1.0</td>\n",
       "      <td>3086.262690</td>\n",
       "    </tr>\n",
       "    <tr>\n",
       "      <th>1</th>\n",
       "      <td>img_7766002.jpg</td>\n",
       "      <td>1.0</td>\n",
       "      <td>4621.254792</td>\n",
       "    </tr>\n",
       "    <tr>\n",
       "      <th>2</th>\n",
       "      <td>img_4637390.jpg</td>\n",
       "      <td>1.0</td>\n",
       "      <td>4687.724855</td>\n",
       "    </tr>\n",
       "    <tr>\n",
       "      <th>3</th>\n",
       "      <td>img_4516108.jpg</td>\n",
       "      <td>1.0</td>\n",
       "      <td>4651.451337</td>\n",
       "    </tr>\n",
       "    <tr>\n",
       "      <th>4</th>\n",
       "      <td>img_4517008.jpg</td>\n",
       "      <td>1.0</td>\n",
       "      <td>4436.196084</td>\n",
       "    </tr>\n",
       "  </tbody>\n",
       "</table>\n",
       "</div>"
      ],
      "text/plain": [
       "        Image_path  Condition       Amount\n",
       "0  img_4538519.jpg        1.0  3086.262690\n",
       "1  img_7766002.jpg        1.0  4621.254792\n",
       "2  img_4637390.jpg        1.0  4687.724855\n",
       "3  img_4516108.jpg        1.0  4651.451337\n",
       "4  img_4517008.jpg        1.0  4436.196084"
      ]
     },
     "execution_count": 13,
     "metadata": {},
     "output_type": "execute_result"
    }
   ],
   "source": [
    "submit_df['Amount'] = y_pred_final_ridge\n",
    "submit_df.loc[test_df['Condition']==0, 'Amount'] = 0\n",
    "\n",
    "submit_df.to_csv(\"./BayesianRidge_submission.csv\", index=False)\n",
    "submit_df.head()"
   ]
  },
  {
   "cell_type": "code",
   "execution_count": 14,
   "id": "mounted-theory",
   "metadata": {
    "execution": {
     "iopub.execute_input": "2021-06-12T04:57:31.956118Z",
     "iopub.status.busy": "2021-06-12T04:57:31.955484Z",
     "iopub.status.idle": "2021-06-12T04:57:31.972204Z",
     "shell.execute_reply": "2021-06-12T04:57:31.972661Z",
     "shell.execute_reply.started": "2021-06-12T04:51:38.081674Z"
    },
    "papermill": {
     "duration": 0.056446,
     "end_time": "2021-06-12T04:57:31.972837",
     "exception": false,
     "start_time": "2021-06-12T04:57:31.916391",
     "status": "completed"
    },
    "tags": []
   },
   "outputs": [
    {
     "data": {
      "text/html": [
       "<div>\n",
       "<style scoped>\n",
       "    .dataframe tbody tr th:only-of-type {\n",
       "        vertical-align: middle;\n",
       "    }\n",
       "\n",
       "    .dataframe tbody tr th {\n",
       "        vertical-align: top;\n",
       "    }\n",
       "\n",
       "    .dataframe thead th {\n",
       "        text-align: right;\n",
       "    }\n",
       "</style>\n",
       "<table border=\"1\" class=\"dataframe\">\n",
       "  <thead>\n",
       "    <tr style=\"text-align: right;\">\n",
       "      <th></th>\n",
       "      <th>Image_path</th>\n",
       "      <th>Condition</th>\n",
       "      <th>Amount</th>\n",
       "    </tr>\n",
       "  </thead>\n",
       "  <tbody>\n",
       "    <tr>\n",
       "      <th>0</th>\n",
       "      <td>img_4538519.jpg</td>\n",
       "      <td>1.0</td>\n",
       "      <td>3833.648808</td>\n",
       "    </tr>\n",
       "    <tr>\n",
       "      <th>1</th>\n",
       "      <td>img_7766002.jpg</td>\n",
       "      <td>1.0</td>\n",
       "      <td>4501.866856</td>\n",
       "    </tr>\n",
       "    <tr>\n",
       "      <th>2</th>\n",
       "      <td>img_4637390.jpg</td>\n",
       "      <td>1.0</td>\n",
       "      <td>4667.925625</td>\n",
       "    </tr>\n",
       "    <tr>\n",
       "      <th>3</th>\n",
       "      <td>img_4516108.jpg</td>\n",
       "      <td>1.0</td>\n",
       "      <td>4334.656889</td>\n",
       "    </tr>\n",
       "    <tr>\n",
       "      <th>4</th>\n",
       "      <td>img_4517008.jpg</td>\n",
       "      <td>1.0</td>\n",
       "      <td>4497.148031</td>\n",
       "    </tr>\n",
       "  </tbody>\n",
       "</table>\n",
       "</div>"
      ],
      "text/plain": [
       "        Image_path  Condition       Amount\n",
       "0  img_4538519.jpg        1.0  3833.648808\n",
       "1  img_7766002.jpg        1.0  4501.866856\n",
       "2  img_4637390.jpg        1.0  4667.925625\n",
       "3  img_4516108.jpg        1.0  4334.656889\n",
       "4  img_4517008.jpg        1.0  4497.148031"
      ]
     },
     "execution_count": 14,
     "metadata": {},
     "output_type": "execute_result"
    }
   ],
   "source": [
    "submit_df['Amount'] = y_pred_final_vr\n",
    "submit_df.loc[test_df['Condition']==0, 'Amount'] = 0\n",
    "\n",
    "submit_df.to_csv(\"./VR_submission.csv\", index=False)\n",
    "submit_df.head()"
   ]
  },
  {
   "cell_type": "code",
   "execution_count": 15,
   "id": "bound-korean",
   "metadata": {
    "execution": {
     "iopub.execute_input": "2021-06-12T04:57:32.048415Z",
     "iopub.status.busy": "2021-06-12T04:57:32.047785Z",
     "iopub.status.idle": "2021-06-12T04:57:32.067771Z",
     "shell.execute_reply": "2021-06-12T04:57:32.067101Z",
     "shell.execute_reply.started": "2021-06-12T04:51:38.736261Z"
    },
    "papermill": {
     "duration": 0.059655,
     "end_time": "2021-06-12T04:57:32.067926",
     "exception": false,
     "start_time": "2021-06-12T04:57:32.008271",
     "status": "completed"
    },
    "tags": []
   },
   "outputs": [
    {
     "data": {
      "text/html": [
       "<div>\n",
       "<style scoped>\n",
       "    .dataframe tbody tr th:only-of-type {\n",
       "        vertical-align: middle;\n",
       "    }\n",
       "\n",
       "    .dataframe tbody tr th {\n",
       "        vertical-align: top;\n",
       "    }\n",
       "\n",
       "    .dataframe thead th {\n",
       "        text-align: right;\n",
       "    }\n",
       "</style>\n",
       "<table border=\"1\" class=\"dataframe\">\n",
       "  <thead>\n",
       "    <tr style=\"text-align: right;\">\n",
       "      <th></th>\n",
       "      <th>Image_path</th>\n",
       "      <th>Condition</th>\n",
       "      <th>Amount</th>\n",
       "    </tr>\n",
       "  </thead>\n",
       "  <tbody>\n",
       "    <tr>\n",
       "      <th>0</th>\n",
       "      <td>img_4538519.jpg</td>\n",
       "      <td>1.0</td>\n",
       "      <td>3655.881574</td>\n",
       "    </tr>\n",
       "    <tr>\n",
       "      <th>1</th>\n",
       "      <td>img_7766002.jpg</td>\n",
       "      <td>1.0</td>\n",
       "      <td>4484.721012</td>\n",
       "    </tr>\n",
       "    <tr>\n",
       "      <th>2</th>\n",
       "      <td>img_4637390.jpg</td>\n",
       "      <td>1.0</td>\n",
       "      <td>4650.165089</td>\n",
       "    </tr>\n",
       "    <tr>\n",
       "      <th>3</th>\n",
       "      <td>img_4516108.jpg</td>\n",
       "      <td>1.0</td>\n",
       "      <td>4387.259684</td>\n",
       "    </tr>\n",
       "    <tr>\n",
       "      <th>4</th>\n",
       "      <td>img_4517008.jpg</td>\n",
       "      <td>1.0</td>\n",
       "      <td>4463.913420</td>\n",
       "    </tr>\n",
       "  </tbody>\n",
       "</table>\n",
       "</div>"
      ],
      "text/plain": [
       "        Image_path  Condition       Amount\n",
       "0  img_4538519.jpg        1.0  3655.881574\n",
       "1  img_7766002.jpg        1.0  4484.721012\n",
       "2  img_4637390.jpg        1.0  4650.165089\n",
       "3  img_4516108.jpg        1.0  4387.259684\n",
       "4  img_4517008.jpg        1.0  4463.913420"
      ]
     },
     "execution_count": 15,
     "metadata": {},
     "output_type": "execute_result"
    }
   ],
   "source": [
    "y_pred_final = (y_pred_final_rf * 0.25) + \\\n",
    "               (y_pred_final_mlp * 0.25) + \\\n",
    "               (y_pred_final_ridge * 0.25) + \\\n",
    "               (y_pred_final_vr * 0.25)\n",
    "\n",
    "submit_df['Amount'] = y_pred_final\n",
    "submit_df.loc[test_df['Condition']==0, 'Amount'] = 0\n",
    "\n",
    "submit_df.to_csv(\"./Final_Blend_submission.csv\", index=False)\n",
    "submit_df.head()"
   ]
  },
  {
   "cell_type": "code",
   "execution_count": null,
   "id": "sustainable-auction",
   "metadata": {
    "papermill": {
     "duration": 0.035679,
     "end_time": "2021-06-12T04:57:32.140552",
     "exception": false,
     "start_time": "2021-06-12T04:57:32.104873",
     "status": "completed"
    },
    "tags": []
   },
   "outputs": [],
   "source": []
  }
 ],
 "metadata": {
  "kernelspec": {
   "display_name": "Python 3",
   "language": "python",
   "name": "python3"
  },
  "language_info": {
   "codemirror_mode": {
    "name": "ipython",
    "version": 3
   },
   "file_extension": ".py",
   "mimetype": "text/x-python",
   "name": "python",
   "nbconvert_exporter": "python",
   "pygments_lexer": "ipython3",
   "version": "3.7.10"
  },
  "papermill": {
   "default_parameters": {},
   "duration": 317.032169,
   "end_time": "2021-06-12T04:57:33.902783",
   "environment_variables": {},
   "exception": null,
   "input_path": "__notebook__.ipynb",
   "output_path": "__notebook__.ipynb",
   "parameters": {},
   "start_time": "2021-06-12T04:52:16.870614",
   "version": "2.3.3"
  }
 },
 "nbformat": 4,
 "nbformat_minor": 5
}
