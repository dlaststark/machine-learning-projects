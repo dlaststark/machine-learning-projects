{
 "cells": [
  {
   "cell_type": "markdown",
   "id": "cubic-lawrence",
   "metadata": {
    "id": "uLz9OcH8SeET",
    "papermill": {
     "duration": 0.013303,
     "end_time": "2021-06-11T16:29:10.325073",
     "exception": false,
     "start_time": "2021-06-11T16:29:10.311770",
     "status": "completed"
    },
    "tags": []
   },
   "source": [
    "## Import libraries"
   ]
  },
  {
   "cell_type": "code",
   "execution_count": 1,
   "id": "comprehensive-audit",
   "metadata": {
    "execution": {
     "iopub.execute_input": "2021-06-11T16:29:10.354648Z",
     "iopub.status.busy": "2021-06-11T16:29:10.353438Z",
     "iopub.status.idle": "2021-06-11T16:29:12.404275Z",
     "shell.execute_reply": "2021-06-11T16:29:12.403621Z",
     "shell.execute_reply.started": "2021-06-11T16:27:19.353304Z"
    },
    "executionInfo": {
     "elapsed": 23727,
     "status": "ok",
     "timestamp": 1616326442041,
     "user": {
      "displayName": "TAPAS DAS",
      "photoUrl": "https://lh3.googleusercontent.com/a-/AOh14GiyffdGKiPCR_UwVittzTcbBFms70IkGfU15fatCA=s64",
      "userId": "10798398878324948542"
     },
     "user_tz": -330
    },
    "id": "E9svswc9SUuX",
    "papermill": {
     "duration": 2.066663,
     "end_time": "2021-06-11T16:29:12.404447",
     "exception": false,
     "start_time": "2021-06-11T16:29:10.337784",
     "status": "completed"
    },
    "tags": []
   },
   "outputs": [
    {
     "data": {
      "text/html": [
       "<style type='text/css'>\n",
       ".datatable table.frame { margin-bottom: 0; }\n",
       ".datatable table.frame thead { border-bottom: none; }\n",
       ".datatable table.frame tr.coltypes td {  color: #FFFFFF;  line-height: 6px;  padding: 0 0.5em;}\n",
       ".datatable .bool    { background: #DDDD99; }\n",
       ".datatable .object  { background: #565656; }\n",
       ".datatable .int     { background: #5D9E5D; }\n",
       ".datatable .float   { background: #4040CC; }\n",
       ".datatable .str     { background: #CC4040; }\n",
       ".datatable .row_index {  background: var(--jp-border-color3);  border-right: 1px solid var(--jp-border-color0);  color: var(--jp-ui-font-color3);  font-size: 9px;}\n",
       ".datatable .frame tr.coltypes .row_index {  background: var(--jp-border-color0);}\n",
       ".datatable th:nth-child(2) { padding-left: 12px; }\n",
       ".datatable .hellipsis {  color: var(--jp-cell-editor-border-color);}\n",
       ".datatable .vellipsis {  background: var(--jp-layout-color0);  color: var(--jp-cell-editor-border-color);}\n",
       ".datatable .na {  color: var(--jp-cell-editor-border-color);  font-size: 80%;}\n",
       ".datatable .footer { font-size: 9px; }\n",
       ".datatable .frame_dimensions {  background: var(--jp-border-color3);  border-top: 1px solid var(--jp-border-color0);  color: var(--jp-ui-font-color3);  display: inline-block;  opacity: 0.6;  padding: 1px 10px 1px 5px;}\n",
       "</style>\n"
      ],
      "text/plain": [
       "<IPython.core.display.HTML object>"
      ]
     },
     "metadata": {},
     "output_type": "display_data"
    }
   ],
   "source": [
    "import warnings\n",
    "warnings.filterwarnings(\"ignore\")\n",
    "\n",
    "import gc\n",
    "import pickle\n",
    "import numpy as np\n",
    "import pandas as pd\n",
    "import lightgbm as lgb\n",
    "from sklearn.metrics import r2_score\n",
    "from sklearn.model_selection import StratifiedKFold"
   ]
  },
  {
   "cell_type": "markdown",
   "id": "medieval-cornwall",
   "metadata": {
    "id": "hg85SpW-S6hl",
    "papermill": {
     "duration": 0.01217,
     "end_time": "2021-06-11T16:29:12.429828",
     "exception": false,
     "start_time": "2021-06-11T16:29:12.417658",
     "status": "completed"
    },
    "tags": []
   },
   "source": [
    "## Prepare data for model training"
   ]
  },
  {
   "cell_type": "code",
   "execution_count": 2,
   "id": "charitable-history",
   "metadata": {
    "execution": {
     "iopub.execute_input": "2021-06-11T16:29:12.468211Z",
     "iopub.status.busy": "2021-06-11T16:29:12.467095Z",
     "iopub.status.idle": "2021-06-11T16:29:13.052117Z",
     "shell.execute_reply": "2021-06-11T16:29:13.051569Z",
     "shell.execute_reply.started": "2021-06-11T16:27:21.776234Z"
    },
    "executionInfo": {
     "elapsed": 10043,
     "status": "ok",
     "timestamp": 1616326444482,
     "user": {
      "displayName": "TAPAS DAS",
      "photoUrl": "https://lh3.googleusercontent.com/a-/AOh14GiyffdGKiPCR_UwVittzTcbBFms70IkGfU15fatCA=s64",
      "userId": "10798398878324948542"
     },
     "user_tz": -330
    },
    "id": "VdhgoIAmSUxK",
    "outputId": "7897cfad-c8d4-46d9-86ea-04de37e11444",
    "papermill": {
     "duration": 0.608294,
     "end_time": "2021-06-11T16:29:13.052257",
     "exception": false,
     "start_time": "2021-06-11T16:29:12.443963",
     "status": "completed"
    },
    "tags": []
   },
   "outputs": [
    {
     "data": {
      "text/plain": [
       "0"
      ]
     },
     "execution_count": 2,
     "metadata": {},
     "output_type": "execute_result"
    }
   ],
   "source": [
    "with open(\"../input/he-ffi-preprocess-data-v2-4/HE_FFI_Dataset.txt\", 'rb') as handle: \n",
    "    data = handle.read()\n",
    "\n",
    "processed_data = pickle.loads(data)\n",
    "train_df = processed_data['train_df']\n",
    "test_df = processed_data['test_df']\n",
    "\n",
    "del processed_data\n",
    "gc.collect()"
   ]
  },
  {
   "cell_type": "code",
   "execution_count": 3,
   "id": "returning-siemens",
   "metadata": {
    "execution": {
     "iopub.execute_input": "2021-06-11T16:29:13.094384Z",
     "iopub.status.busy": "2021-06-11T16:29:13.087598Z",
     "iopub.status.idle": "2021-06-11T16:29:13.106624Z",
     "shell.execute_reply": "2021-06-11T16:29:13.105629Z",
     "shell.execute_reply.started": "2021-06-11T16:27:22.397966Z"
    },
    "papermill": {
     "duration": 0.04155,
     "end_time": "2021-06-11T16:29:13.106818",
     "exception": false,
     "start_time": "2021-06-11T16:29:13.065268",
     "status": "completed"
    },
    "tags": []
   },
   "outputs": [
    {
     "name": "stdout",
     "output_type": "stream",
     "text": [
      "[0, 6, 7, 3, 8, 12, 13]\n"
     ]
    }
   ],
   "source": [
    "cat_cols = ['Insurance_company','expiry_dt_year','expiry_dt_quarter','Condition',\n",
    "            'expiry_dt_month','expiry_dt_day_week','expiry_dt_day_weekend']\n",
    "\n",
    "train_df[cat_cols] = train_df[cat_cols].astype(int)\n",
    "test_df[cat_cols] = test_df[cat_cols].astype(int)\n",
    "cat_cols_indices = [train_df.columns.get_loc(col) for col in cat_cols]\n",
    "print(cat_cols_indices)"
   ]
  },
  {
   "cell_type": "code",
   "execution_count": 4,
   "id": "enclosed-script",
   "metadata": {
    "execution": {
     "iopub.execute_input": "2021-06-11T16:29:13.142606Z",
     "iopub.status.busy": "2021-06-11T16:29:13.141936Z",
     "iopub.status.idle": "2021-06-11T16:29:13.279107Z",
     "shell.execute_reply": "2021-06-11T16:29:13.278500Z",
     "shell.execute_reply.started": "2021-06-11T16:27:22.426153Z"
    },
    "executionInfo": {
     "elapsed": 2058,
     "status": "ok",
     "timestamp": 1616326525321,
     "user": {
      "displayName": "TAPAS DAS",
      "photoUrl": "https://lh3.googleusercontent.com/a-/AOh14GiyffdGKiPCR_UwVittzTcbBFms70IkGfU15fatCA=s64",
      "userId": "10798398878324948542"
     },
     "user_tz": -330
    },
    "id": "UAfyHbeASU7C",
    "outputId": "14c429a7-7b43-4065-afae-da7d4f6679a9",
    "papermill": {
     "duration": 0.158003,
     "end_time": "2021-06-11T16:29:13.279245",
     "exception": false,
     "start_time": "2021-06-11T16:29:13.121242",
     "status": "completed"
    },
    "tags": []
   },
   "outputs": [
    {
     "name": "stdout",
     "output_type": "stream",
     "text": [
      "Xtrain: (1382, 1691) \n",
      "Ytrain: (1382,) \n",
      "Xtest: (600, 1691)\n"
     ]
    },
    {
     "data": {
      "text/plain": [
       "0"
      ]
     },
     "execution_count": 4,
     "metadata": {},
     "output_type": "execute_result"
    }
   ],
   "source": [
    "Xtrain = train_df.loc[:, ~train_df.columns.isin(['Image_path','Amount'])].values\n",
    "Ytrain = train_df['Amount'].values\n",
    "Ytrain_strat = pd.qcut(train_df['Amount'].values, q=5, labels=range(0,5))\n",
    "Xtest = test_df.loc[:, ~test_df.columns.isin(['Image_path'])].values\n",
    "\n",
    "print(\"Xtrain: {} \\nYtrain: {} \\nXtest: {}\".format(Xtrain.shape, Ytrain.shape, Xtest.shape))\n",
    "\n",
    "del train_df\n",
    "del test_df\n",
    "gc.collect()"
   ]
  },
  {
   "cell_type": "markdown",
   "id": "extraordinary-niagara",
   "metadata": {
    "id": "9wNC5rWEVnjd",
    "papermill": {
     "duration": 0.013461,
     "end_time": "2021-06-11T16:29:13.306356",
     "exception": false,
     "start_time": "2021-06-11T16:29:13.292895",
     "status": "completed"
    },
    "tags": []
   },
   "source": [
    "## Build and validate the model"
   ]
  },
  {
   "cell_type": "code",
   "execution_count": 5,
   "id": "comparable-mouth",
   "metadata": {
    "execution": {
     "iopub.execute_input": "2021-06-11T16:29:13.341086Z",
     "iopub.status.busy": "2021-06-11T16:29:13.340095Z",
     "iopub.status.idle": "2021-06-11T16:29:13.342539Z",
     "shell.execute_reply": "2021-06-11T16:29:13.343018Z",
     "shell.execute_reply.started": "2021-06-11T16:27:25.631578Z"
    },
    "papermill": {
     "duration": 0.023104,
     "end_time": "2021-06-11T16:29:13.343194",
     "exception": false,
     "start_time": "2021-06-11T16:29:13.320090",
     "status": "completed"
    },
    "tags": []
   },
   "outputs": [],
   "source": [
    "params = {}\n",
    "params[\"objective\"] = 'regression'\n",
    "params[\"metric\"] = 'rmse'\n",
    "params[\"boosting\"] = 'gbdt'\n",
    "#params[\"device_type\"] = 'gpu'\n",
    "params[\"learning_rate\"] = 0.0195\n",
    "params[\"lambda_l2\"] = 0.1192\n",
    "params[\"num_leaves\"] = 300\n",
    "params[\"max_depth\"] = 7\n",
    "params[\"feature_fraction\"] = 0.8466\n",
    "params[\"bagging_fraction\"] = 0.7914\n",
    "params[\"bagging_freq\"] = 3\n",
    "params[\"min_data_in_leaf\"] = 12\n",
    "params[\"verbosity\"] = -1\n",
    "num_rounds = 8000"
   ]
  },
  {
   "cell_type": "code",
   "execution_count": 6,
   "id": "offensive-indication",
   "metadata": {
    "execution": {
     "iopub.execute_input": "2021-06-11T16:29:13.374879Z",
     "iopub.status.busy": "2021-06-11T16:29:13.374255Z",
     "iopub.status.idle": "2021-06-11T16:32:33.940760Z",
     "shell.execute_reply": "2021-06-11T16:32:33.941750Z",
     "shell.execute_reply.started": "2021-06-11T16:27:26.134425Z"
    },
    "id": "uWPosEORSVBp",
    "outputId": "d70ac047-a86b-4f36-84cc-960b1b5316be",
    "papermill": {
     "duration": 200.584191,
     "end_time": "2021-06-11T16:32:33.941977",
     "exception": false,
     "start_time": "2021-06-11T16:29:13.357786",
     "status": "completed"
    },
    "tags": []
   },
   "outputs": [
    {
     "name": "stdout",
     "output_type": "stream",
     "text": [
      "Training until validation scores don't improve for 100 rounds\n",
      "Early stopping, best iteration is:\n",
      "[86]\ttraining's rmse: 1538.28\tvalid_1's rmse: 2446.3\n",
      "\n",
      "Seed-24 | Fold-0 | OOF Score: 19.182328993266097\n",
      "\n",
      "Training until validation scores don't improve for 100 rounds\n",
      "Early stopping, best iteration is:\n",
      "[82]\ttraining's rmse: 1517.38\tvalid_1's rmse: 2392.51\n",
      "\n",
      "Seed-24 | Fold-1 | OOF Score: 18.969427623780998\n",
      "\n",
      "Training until validation scores don't improve for 100 rounds\n",
      "[200]\ttraining's rmse: 801.799\tvalid_1's rmse: 2435.38\n",
      "Early stopping, best iteration is:\n",
      "[149]\ttraining's rmse: 1047.13\tvalid_1's rmse: 2426.02\n",
      "\n",
      "Seed-24 | Fold-2 | OOF Score: 17.47163532438847\n",
      "\n",
      "Training until validation scores don't improve for 100 rounds\n",
      "[200]\ttraining's rmse: 826.036\tvalid_1's rmse: 2442.92\n",
      "Early stopping, best iteration is:\n",
      "[108]\ttraining's rmse: 1297.32\tvalid_1's rmse: 2414.39\n",
      "\n",
      "Seed-24 | Fold-3 | OOF Score: 22.97577801748748\n",
      "\n",
      "Training until validation scores don't improve for 100 rounds\n",
      "[200]\ttraining's rmse: 824.533\tvalid_1's rmse: 2495.63\n",
      "Early stopping, best iteration is:\n",
      "[101]\ttraining's rmse: 1391.54\tvalid_1's rmse: 2476.77\n",
      "\n",
      "Seed-24 | Fold-4 | OOF Score: 18.010545603284854\n",
      "\n",
      "\n",
      "Seed: 24 | Aggregate OOF Score: 19.32194311244158\n",
      "\n",
      "\n",
      "Training until validation scores don't improve for 100 rounds\n",
      "[200]\ttraining's rmse: 817.801\tvalid_1's rmse: 2379.61\n",
      "Early stopping, best iteration is:\n",
      "[233]\ttraining's rmse: 696.175\tvalid_1's rmse: 2375.25\n",
      "\n",
      "Seed-3 | Fold-0 | OOF Score: 21.507582984755214\n",
      "\n",
      "Training until validation scores don't improve for 100 rounds\n",
      "[200]\ttraining's rmse: 798.261\tvalid_1's rmse: 2448.82\n",
      "Early stopping, best iteration is:\n",
      "[168]\ttraining's rmse: 947.059\tvalid_1's rmse: 2441.53\n",
      "\n",
      "Seed-3 | Fold-1 | OOF Score: 21.915720055498966\n",
      "\n",
      "Training until validation scores don't improve for 100 rounds\n",
      "[200]\ttraining's rmse: 819.826\tvalid_1's rmse: 2420.07\n",
      "Early stopping, best iteration is:\n",
      "[100]\ttraining's rmse: 1377.37\tvalid_1's rmse: 2402.26\n",
      "\n",
      "Seed-3 | Fold-2 | OOF Score: 21.939710629460983\n",
      "\n",
      "Training until validation scores don't improve for 100 rounds\n",
      "[200]\ttraining's rmse: 777.946\tvalid_1's rmse: 2426.99\n",
      "Early stopping, best iteration is:\n",
      "[150]\ttraining's rmse: 1021.41\tvalid_1's rmse: 2424.85\n",
      "\n",
      "Seed-3 | Fold-3 | OOF Score: 18.797813511373562\n",
      "\n",
      "Training until validation scores don't improve for 100 rounds\n",
      "[200]\ttraining's rmse: 780.94\tvalid_1's rmse: 2431.28\n",
      "Early stopping, best iteration is:\n",
      "[101]\ttraining's rmse: 1335.19\tvalid_1's rmse: 2413.5\n",
      "\n",
      "Seed-3 | Fold-4 | OOF Score: 19.060883740478086\n",
      "\n",
      "\n",
      "Seed: 3 | Aggregate OOF Score: 20.644342184313366\n",
      "\n",
      "\n",
      "Training until validation scores don't improve for 100 rounds\n",
      "Early stopping, best iteration is:\n",
      "[99]\ttraining's rmse: 1404.5\tvalid_1's rmse: 2389.71\n",
      "\n",
      "Seed-56 | Fold-0 | OOF Score: 17.9020495510837\n",
      "\n",
      "Training until validation scores don't improve for 100 rounds\n",
      "[200]\ttraining's rmse: 817.754\tvalid_1's rmse: 2454.48\n",
      "Early stopping, best iteration is:\n",
      "[210]\ttraining's rmse: 782.506\tvalid_1's rmse: 2453.61\n",
      "\n",
      "Seed-56 | Fold-1 | OOF Score: 22.557534376247546\n",
      "\n",
      "Training until validation scores don't improve for 100 rounds\n",
      "[200]\ttraining's rmse: 791.992\tvalid_1's rmse: 2372.39\n",
      "Early stopping, best iteration is:\n",
      "[130]\ttraining's rmse: 1161.87\tvalid_1's rmse: 2358.98\n",
      "\n",
      "Seed-56 | Fold-2 | OOF Score: 19.944622705130733\n",
      "\n",
      "Training until validation scores don't improve for 100 rounds\n",
      "Early stopping, best iteration is:\n",
      "[96]\ttraining's rmse: 1439.24\tvalid_1's rmse: 2387.19\n",
      "\n",
      "Seed-56 | Fold-3 | OOF Score: 25.836947443372228\n",
      "\n",
      "Training until validation scores don't improve for 100 rounds\n",
      "[200]\ttraining's rmse: 807.042\tvalid_1's rmse: 2477.64\n",
      "Early stopping, best iteration is:\n",
      "[107]\ttraining's rmse: 1317.62\tvalid_1's rmse: 2466.05\n",
      "\n",
      "Seed-56 | Fold-4 | OOF Score: 16.515017341977543\n",
      "\n",
      "\n",
      "Seed: 56 | Aggregate OOF Score: 20.551234283562348\n",
      "\n",
      "\n",
      "Aggregate OOF Score: 20.172506526772437\n"
     ]
    }
   ],
   "source": [
    "FOLD = 5\n",
    "NUM_SEED = 3\n",
    "\n",
    "np.random.seed(3)\n",
    "seeds = np.random.randint(0, 100, size=NUM_SEED)\n",
    "\n",
    "oof_score = 0\n",
    "y_pred_meta_lgb = np.zeros((Ytrain.shape[0], 1))\n",
    "y_pred_final_lgb = 0\n",
    "counter = 0\n",
    "\n",
    "\n",
    "for sidx, seed in enumerate(seeds):\n",
    "    seed_score = 0\n",
    "    \n",
    "    kfold = StratifiedKFold(n_splits=FOLD, shuffle=True, random_state=seed)\n",
    "\n",
    "    for idx, (train, val) in enumerate(kfold.split(Xtrain, Ytrain_strat)):\n",
    "        counter += 1\n",
    "\n",
    "        train_x, train_y = Xtrain[train], Ytrain[train]\n",
    "        val_x, val_y = Xtrain[val], Ytrain[val]\n",
    "\n",
    "        lgtrain = lgb.Dataset(train_x, label=train_y)\n",
    "        lgvalidation = lgb.Dataset(val_x, label=val_y)\n",
    "\n",
    "        model = lgb.train(params, lgtrain, num_rounds, \n",
    "                          valid_sets=[lgtrain, lgvalidation], \n",
    "                          categorical_feature=cat_cols_indices,\n",
    "                          early_stopping_rounds=100, verbose_eval=200)\n",
    "\n",
    "        y_pred = model.predict(val_x, num_iteration=model.best_iteration)\n",
    "        y_pred_meta_lgb[val] += np.array([y_pred]).T\n",
    "        y_pred_final_lgb += model.predict(Xtest, num_iteration=model.best_iteration)\n",
    "        \n",
    "        score = 100 * r2_score(val_y, y_pred)\n",
    "        oof_score += score\n",
    "        seed_score += score\n",
    "        print(\"\\nSeed-{} | Fold-{} | OOF Score: {}\\n\".format(seed, idx, score))\n",
    "    \n",
    "    print(\"\\nSeed: {} | Aggregate OOF Score: {}\\n\\n\".format(seed, (seed_score / FOLD)))\n",
    "\n",
    "\n",
    "y_pred_meta_lgb = y_pred_meta_lgb / float(NUM_SEED)\n",
    "y_pred_final_lgb = y_pred_final_lgb / float(counter)\n",
    "oof_score /= float(counter)\n",
    "print(\"Aggregate OOF Score: {}\".format(oof_score))"
   ]
  },
  {
   "cell_type": "code",
   "execution_count": 7,
   "id": "minus-chemistry",
   "metadata": {
    "execution": {
     "iopub.execute_input": "2021-06-11T16:32:34.000852Z",
     "iopub.status.busy": "2021-06-11T16:32:34.000234Z",
     "iopub.status.idle": "2021-06-11T16:32:34.005315Z",
     "shell.execute_reply": "2021-06-11T16:32:34.004739Z",
     "shell.execute_reply.started": "2021-05-26T09:36:00.251819Z"
    },
    "id": "uLzmS7LzXvXy",
    "papermill": {
     "duration": 0.036181,
     "end_time": "2021-06-11T16:32:34.005450",
     "exception": false,
     "start_time": "2021-06-11T16:32:33.969269",
     "status": "completed"
    },
    "tags": []
   },
   "outputs": [],
   "source": [
    "np.savez_compressed('./LGB_Meta_Features.npz',\n",
    "                    y_pred_meta_lgb=y_pred_meta_lgb, \n",
    "                    oof_score=oof_score,\n",
    "                    y_pred_final_lgb=y_pred_final_lgb)"
   ]
  },
  {
   "cell_type": "markdown",
   "id": "considered-funds",
   "metadata": {
    "papermill": {
     "duration": 0.025216,
     "end_time": "2021-06-11T16:32:34.056040",
     "exception": false,
     "start_time": "2021-06-11T16:32:34.030824",
     "status": "completed"
    },
    "tags": []
   },
   "source": [
    "## Create submission file"
   ]
  },
  {
   "cell_type": "code",
   "execution_count": 8,
   "id": "promotional-house",
   "metadata": {
    "execution": {
     "iopub.execute_input": "2021-06-11T16:32:34.112259Z",
     "iopub.status.busy": "2021-06-11T16:32:34.111593Z",
     "iopub.status.idle": "2021-06-11T16:32:34.268299Z",
     "shell.execute_reply": "2021-06-11T16:32:34.268780Z",
     "shell.execute_reply.started": "2021-05-31T11:01:45.982189Z"
    },
    "papermill": {
     "duration": 0.187489,
     "end_time": "2021-06-11T16:32:34.268954",
     "exception": false,
     "start_time": "2021-06-11T16:32:34.081465",
     "status": "completed"
    },
    "tags": []
   },
   "outputs": [
    {
     "data": {
      "text/plain": [
       "671"
      ]
     },
     "execution_count": 8,
     "metadata": {},
     "output_type": "execute_result"
    }
   ],
   "source": [
    "with open(\"../input/he-ffi-preprocess-data/HE_FFI_Dataset.txt\", 'rb') as handle: \n",
    "    data = handle.read()\n",
    "\n",
    "processed_data = pickle.loads(data)\n",
    "test_df = processed_data['test_df']\n",
    "\n",
    "del processed_data\n",
    "gc.collect()"
   ]
  },
  {
   "cell_type": "code",
   "execution_count": 9,
   "id": "initial-university",
   "metadata": {
    "execution": {
     "iopub.execute_input": "2021-06-11T16:32:34.325850Z",
     "iopub.status.busy": "2021-06-11T16:32:34.325232Z",
     "iopub.status.idle": "2021-06-11T16:32:34.367689Z",
     "shell.execute_reply": "2021-06-11T16:32:34.367183Z"
    },
    "papermill": {
     "duration": 0.073282,
     "end_time": "2021-06-11T16:32:34.367834",
     "exception": false,
     "start_time": "2021-06-11T16:32:34.294552",
     "status": "completed"
    },
    "tags": []
   },
   "outputs": [
    {
     "data": {
      "text/html": [
       "<div>\n",
       "<style scoped>\n",
       "    .dataframe tbody tr th:only-of-type {\n",
       "        vertical-align: middle;\n",
       "    }\n",
       "\n",
       "    .dataframe tbody tr th {\n",
       "        vertical-align: top;\n",
       "    }\n",
       "\n",
       "    .dataframe thead th {\n",
       "        text-align: right;\n",
       "    }\n",
       "</style>\n",
       "<table border=\"1\" class=\"dataframe\">\n",
       "  <thead>\n",
       "    <tr style=\"text-align: right;\">\n",
       "      <th></th>\n",
       "      <th>Image_path</th>\n",
       "      <th>Condition</th>\n",
       "      <th>Amount</th>\n",
       "    </tr>\n",
       "  </thead>\n",
       "  <tbody>\n",
       "    <tr>\n",
       "      <th>0</th>\n",
       "      <td>img_4538519.jpg</td>\n",
       "      <td>1.0</td>\n",
       "      <td>2936.505117</td>\n",
       "    </tr>\n",
       "    <tr>\n",
       "      <th>1</th>\n",
       "      <td>img_7766002.jpg</td>\n",
       "      <td>1.0</td>\n",
       "      <td>4017.941745</td>\n",
       "    </tr>\n",
       "    <tr>\n",
       "      <th>2</th>\n",
       "      <td>img_4637390.jpg</td>\n",
       "      <td>1.0</td>\n",
       "      <td>3933.751453</td>\n",
       "    </tr>\n",
       "    <tr>\n",
       "      <th>3</th>\n",
       "      <td>img_4516108.jpg</td>\n",
       "      <td>1.0</td>\n",
       "      <td>3979.017343</td>\n",
       "    </tr>\n",
       "    <tr>\n",
       "      <th>4</th>\n",
       "      <td>img_4517008.jpg</td>\n",
       "      <td>1.0</td>\n",
       "      <td>4143.055319</td>\n",
       "    </tr>\n",
       "  </tbody>\n",
       "</table>\n",
       "</div>"
      ],
      "text/plain": [
       "        Image_path  Condition       Amount\n",
       "0  img_4538519.jpg        1.0  2936.505117\n",
       "1  img_7766002.jpg        1.0  4017.941745\n",
       "2  img_4637390.jpg        1.0  3933.751453\n",
       "3  img_4516108.jpg        1.0  3979.017343\n",
       "4  img_4517008.jpg        1.0  4143.055319"
      ]
     },
     "execution_count": 9,
     "metadata": {},
     "output_type": "execute_result"
    }
   ],
   "source": [
    "test_df1 = pd.read_csv(\"../input/he-fast-furious-insured/dataset/test.csv\")\n",
    "\n",
    "submit_df = pd.DataFrame()\n",
    "submit_df['Image_path'] = test_df1['Image_path']\n",
    "submit_df['Condition'] = test_df['Condition']\n",
    "submit_df['Amount'] = y_pred_final_lgb\n",
    "\n",
    "submit_df.to_csv(\"./LGB_Submission_wo_Adjustment.csv\", index=False)\n",
    "submit_df.head()"
   ]
  },
  {
   "cell_type": "code",
   "execution_count": 10,
   "id": "cellular-communications",
   "metadata": {
    "execution": {
     "iopub.execute_input": "2021-06-11T16:32:34.425796Z",
     "iopub.status.busy": "2021-06-11T16:32:34.425176Z",
     "iopub.status.idle": "2021-06-11T16:32:34.445822Z",
     "shell.execute_reply": "2021-06-11T16:32:34.445320Z",
     "shell.execute_reply.started": "2021-05-31T11:02:23.948495Z"
    },
    "executionInfo": {
     "elapsed": 3141,
     "status": "ok",
     "timestamp": 1616223489651,
     "user": {
      "displayName": "TAPAS DAS",
      "photoUrl": "https://lh3.googleusercontent.com/a-/AOh14GiyffdGKiPCR_UwVittzTcbBFms70IkGfU15fatCA=s64",
      "userId": "10798398878324948542"
     },
     "user_tz": -330
    },
    "id": "zGEGOAJHVoHV",
    "outputId": "11f9ca4c-9cca-46f6-b9a6-907ad0a09927",
    "papermill": {
     "duration": 0.051904,
     "end_time": "2021-06-11T16:32:34.445966",
     "exception": false,
     "start_time": "2021-06-11T16:32:34.394062",
     "status": "completed"
    },
    "tags": []
   },
   "outputs": [
    {
     "data": {
      "text/html": [
       "<div>\n",
       "<style scoped>\n",
       "    .dataframe tbody tr th:only-of-type {\n",
       "        vertical-align: middle;\n",
       "    }\n",
       "\n",
       "    .dataframe tbody tr th {\n",
       "        vertical-align: top;\n",
       "    }\n",
       "\n",
       "    .dataframe thead th {\n",
       "        text-align: right;\n",
       "    }\n",
       "</style>\n",
       "<table border=\"1\" class=\"dataframe\">\n",
       "  <thead>\n",
       "    <tr style=\"text-align: right;\">\n",
       "      <th></th>\n",
       "      <th>Image_path</th>\n",
       "      <th>Condition</th>\n",
       "      <th>Amount</th>\n",
       "    </tr>\n",
       "  </thead>\n",
       "  <tbody>\n",
       "    <tr>\n",
       "      <th>0</th>\n",
       "      <td>img_4538519.jpg</td>\n",
       "      <td>1.0</td>\n",
       "      <td>2936.505117</td>\n",
       "    </tr>\n",
       "    <tr>\n",
       "      <th>1</th>\n",
       "      <td>img_7766002.jpg</td>\n",
       "      <td>1.0</td>\n",
       "      <td>4017.941745</td>\n",
       "    </tr>\n",
       "    <tr>\n",
       "      <th>2</th>\n",
       "      <td>img_4637390.jpg</td>\n",
       "      <td>1.0</td>\n",
       "      <td>3933.751453</td>\n",
       "    </tr>\n",
       "    <tr>\n",
       "      <th>3</th>\n",
       "      <td>img_4516108.jpg</td>\n",
       "      <td>1.0</td>\n",
       "      <td>3979.017343</td>\n",
       "    </tr>\n",
       "    <tr>\n",
       "      <th>4</th>\n",
       "      <td>img_4517008.jpg</td>\n",
       "      <td>1.0</td>\n",
       "      <td>4143.055319</td>\n",
       "    </tr>\n",
       "  </tbody>\n",
       "</table>\n",
       "</div>"
      ],
      "text/plain": [
       "        Image_path  Condition       Amount\n",
       "0  img_4538519.jpg        1.0  2936.505117\n",
       "1  img_7766002.jpg        1.0  4017.941745\n",
       "2  img_4637390.jpg        1.0  3933.751453\n",
       "3  img_4516108.jpg        1.0  3979.017343\n",
       "4  img_4517008.jpg        1.0  4143.055319"
      ]
     },
     "execution_count": 10,
     "metadata": {},
     "output_type": "execute_result"
    }
   ],
   "source": [
    "test_df1 = pd.read_csv(\"../input/he-fast-furious-insured/dataset/test.csv\")\n",
    "\n",
    "submit_df = pd.DataFrame()\n",
    "submit_df['Image_path'] = test_df1['Image_path']\n",
    "submit_df['Condition'] = test_df['Condition']\n",
    "submit_df['Amount'] = y_pred_final_lgb\n",
    "submit_df.loc[test_df['Condition']==0, 'Amount'] = 0\n",
    "\n",
    "submit_df.to_csv(\"./LGB_Submission_w_Adjustment.csv\", index=False)\n",
    "submit_df.head()"
   ]
  },
  {
   "cell_type": "code",
   "execution_count": null,
   "id": "fresh-decline",
   "metadata": {
    "id": "W2c88MvxXm65",
    "papermill": {
     "duration": 0.026102,
     "end_time": "2021-06-11T16:32:34.498667",
     "exception": false,
     "start_time": "2021-06-11T16:32:34.472565",
     "status": "completed"
    },
    "tags": []
   },
   "outputs": [],
   "source": []
  }
 ],
 "metadata": {
  "kernelspec": {
   "display_name": "Python 3",
   "language": "python",
   "name": "python3"
  },
  "language_info": {
   "codemirror_mode": {
    "name": "ipython",
    "version": 3
   },
   "file_extension": ".py",
   "mimetype": "text/x-python",
   "name": "python",
   "nbconvert_exporter": "python",
   "pygments_lexer": "ipython3",
   "version": "3.7.10"
  },
  "papermill": {
   "default_parameters": {},
   "duration": 213.882944,
   "end_time": "2021-06-11T16:32:36.195448",
   "environment_variables": {},
   "exception": null,
   "input_path": "__notebook__.ipynb",
   "output_path": "__notebook__.ipynb",
   "parameters": {},
   "start_time": "2021-06-11T16:29:02.312504",
   "version": "2.3.3"
  }
 },
 "nbformat": 4,
 "nbformat_minor": 5
}
