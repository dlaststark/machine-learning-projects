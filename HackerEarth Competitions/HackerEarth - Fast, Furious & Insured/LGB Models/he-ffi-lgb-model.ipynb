{
 "cells": [
  {
   "cell_type": "markdown",
   "id": "regulation-tobago",
   "metadata": {
    "id": "uLz9OcH8SeET",
    "papermill": {
     "duration": 0.01363,
     "end_time": "2021-05-31T17:22:20.336918",
     "exception": false,
     "start_time": "2021-05-31T17:22:20.323288",
     "status": "completed"
    },
    "tags": []
   },
   "source": [
    "## Import libraries"
   ]
  },
  {
   "cell_type": "code",
   "execution_count": 1,
   "id": "lucky-preserve",
   "metadata": {
    "execution": {
     "iopub.execute_input": "2021-05-31T17:22:20.366536Z",
     "iopub.status.busy": "2021-05-31T17:22:20.365358Z",
     "iopub.status.idle": "2021-05-31T17:22:22.623005Z",
     "shell.execute_reply": "2021-05-31T17:22:22.623749Z",
     "shell.execute_reply.started": "2021-05-31T13:54:04.591676Z"
    },
    "executionInfo": {
     "elapsed": 23727,
     "status": "ok",
     "timestamp": 1616326442041,
     "user": {
      "displayName": "TAPAS DAS",
      "photoUrl": "https://lh3.googleusercontent.com/a-/AOh14GiyffdGKiPCR_UwVittzTcbBFms70IkGfU15fatCA=s64",
      "userId": "10798398878324948542"
     },
     "user_tz": -330
    },
    "id": "E9svswc9SUuX",
    "papermill": {
     "duration": 2.274551,
     "end_time": "2021-05-31T17:22:22.624106",
     "exception": false,
     "start_time": "2021-05-31T17:22:20.349555",
     "status": "completed"
    },
    "tags": []
   },
   "outputs": [
    {
     "data": {
      "text/html": [
       "<style type='text/css'>\n",
       ".datatable table.frame { margin-bottom: 0; }\n",
       ".datatable table.frame thead { border-bottom: none; }\n",
       ".datatable table.frame tr.coltypes td {  color: #FFFFFF;  line-height: 6px;  padding: 0 0.5em;}\n",
       ".datatable .bool    { background: #DDDD99; }\n",
       ".datatable .object  { background: #565656; }\n",
       ".datatable .int     { background: #5D9E5D; }\n",
       ".datatable .float   { background: #4040CC; }\n",
       ".datatable .str     { background: #CC4040; }\n",
       ".datatable .row_index {  background: var(--jp-border-color3);  border-right: 1px solid var(--jp-border-color0);  color: var(--jp-ui-font-color3);  font-size: 9px;}\n",
       ".datatable .frame tr.coltypes .row_index {  background: var(--jp-border-color0);}\n",
       ".datatable th:nth-child(2) { padding-left: 12px; }\n",
       ".datatable .hellipsis {  color: var(--jp-cell-editor-border-color);}\n",
       ".datatable .vellipsis {  background: var(--jp-layout-color0);  color: var(--jp-cell-editor-border-color);}\n",
       ".datatable .na {  color: var(--jp-cell-editor-border-color);  font-size: 80%;}\n",
       ".datatable .footer { font-size: 9px; }\n",
       ".datatable .frame_dimensions {  background: var(--jp-border-color3);  border-top: 1px solid var(--jp-border-color0);  color: var(--jp-ui-font-color3);  display: inline-block;  opacity: 0.6;  padding: 1px 10px 1px 5px;}\n",
       "</style>\n"
      ],
      "text/plain": [
       "<IPython.core.display.HTML object>"
      ]
     },
     "metadata": {},
     "output_type": "display_data"
    }
   ],
   "source": [
    "import warnings\n",
    "warnings.filterwarnings(\"ignore\")\n",
    "\n",
    "import gc\n",
    "import pickle\n",
    "import numpy as np\n",
    "import pandas as pd\n",
    "import lightgbm as lgb\n",
    "from sklearn.metrics import r2_score\n",
    "from sklearn.model_selection import StratifiedKFold"
   ]
  },
  {
   "cell_type": "markdown",
   "id": "olive-happiness",
   "metadata": {
    "id": "hg85SpW-S6hl",
    "papermill": {
     "duration": 0.012297,
     "end_time": "2021-05-31T17:22:22.649797",
     "exception": false,
     "start_time": "2021-05-31T17:22:22.637500",
     "status": "completed"
    },
    "tags": []
   },
   "source": [
    "## Prepare data for model training"
   ]
  },
  {
   "cell_type": "code",
   "execution_count": 2,
   "id": "gross-journalist",
   "metadata": {
    "execution": {
     "iopub.execute_input": "2021-05-31T17:22:22.678103Z",
     "iopub.status.busy": "2021-05-31T17:22:22.677453Z",
     "iopub.status.idle": "2021-05-31T17:22:23.146766Z",
     "shell.execute_reply": "2021-05-31T17:22:23.146226Z",
     "shell.execute_reply.started": "2021-05-31T13:54:19.703632Z"
    },
    "executionInfo": {
     "elapsed": 10043,
     "status": "ok",
     "timestamp": 1616326444482,
     "user": {
      "displayName": "TAPAS DAS",
      "photoUrl": "https://lh3.googleusercontent.com/a-/AOh14GiyffdGKiPCR_UwVittzTcbBFms70IkGfU15fatCA=s64",
      "userId": "10798398878324948542"
     },
     "user_tz": -330
    },
    "id": "VdhgoIAmSUxK",
    "outputId": "7897cfad-c8d4-46d9-86ea-04de37e11444",
    "papermill": {
     "duration": 0.484452,
     "end_time": "2021-05-31T17:22:23.146914",
     "exception": false,
     "start_time": "2021-05-31T17:22:22.662462",
     "status": "completed"
    },
    "tags": []
   },
   "outputs": [
    {
     "data": {
      "text/plain": [
       "0"
      ]
     },
     "execution_count": 2,
     "metadata": {},
     "output_type": "execute_result"
    }
   ],
   "source": [
    "with open(\"../input/he-ffi-preprocess-data-v2-2/HE_FFI_Dataset.txt\", 'rb') as handle: \n",
    "    data = handle.read()\n",
    "\n",
    "processed_data = pickle.loads(data)\n",
    "train_df = processed_data['train_df']\n",
    "test_df = processed_data['test_df']\n",
    "\n",
    "del processed_data\n",
    "gc.collect()"
   ]
  },
  {
   "cell_type": "code",
   "execution_count": 3,
   "id": "unusual-bubble",
   "metadata": {
    "execution": {
     "iopub.execute_input": "2021-05-31T17:22:23.176752Z",
     "iopub.status.busy": "2021-05-31T17:22:23.175818Z",
     "iopub.status.idle": "2021-05-31T17:22:23.202142Z",
     "shell.execute_reply": "2021-05-31T17:22:23.201488Z",
     "shell.execute_reply.started": "2021-05-31T13:54:20.385998Z"
    },
    "papermill": {
     "duration": 0.042362,
     "end_time": "2021-05-31T17:22:23.202296",
     "exception": false,
     "start_time": "2021-05-31T17:22:23.159934",
     "status": "completed"
    },
    "tags": []
   },
   "outputs": [
    {
     "name": "stdout",
     "output_type": "stream",
     "text": [
      "[0, 6, 7, 3, 8, 12, 13]\n"
     ]
    }
   ],
   "source": [
    "cat_cols = ['Insurance_company','expiry_dt_year','expiry_dt_quarter','Condition',\n",
    "            'expiry_dt_month','expiry_dt_day_week','expiry_dt_day_weekend']\n",
    "\n",
    "train_df[cat_cols] = train_df[cat_cols].astype(int)\n",
    "test_df[cat_cols] = test_df[cat_cols].astype(int)\n",
    "cat_cols_indices = [train_df.columns.get_loc(col) for col in cat_cols]\n",
    "print(cat_cols_indices)"
   ]
  },
  {
   "cell_type": "code",
   "execution_count": 4,
   "id": "known-blowing",
   "metadata": {
    "execution": {
     "iopub.execute_input": "2021-05-31T17:22:23.237055Z",
     "iopub.status.busy": "2021-05-31T17:22:23.236399Z",
     "iopub.status.idle": "2021-05-31T17:22:23.384712Z",
     "shell.execute_reply": "2021-05-31T17:22:23.385231Z",
     "shell.execute_reply.started": "2021-05-31T13:54:20.413942Z"
    },
    "executionInfo": {
     "elapsed": 2058,
     "status": "ok",
     "timestamp": 1616326525321,
     "user": {
      "displayName": "TAPAS DAS",
      "photoUrl": "https://lh3.googleusercontent.com/a-/AOh14GiyffdGKiPCR_UwVittzTcbBFms70IkGfU15fatCA=s64",
      "userId": "10798398878324948542"
     },
     "user_tz": -330
    },
    "id": "UAfyHbeASU7C",
    "outputId": "14c429a7-7b43-4065-afae-da7d4f6679a9",
    "papermill": {
     "duration": 0.169787,
     "end_time": "2021-05-31T17:22:23.385417",
     "exception": false,
     "start_time": "2021-05-31T17:22:23.215630",
     "status": "completed"
    },
    "tags": []
   },
   "outputs": [
    {
     "name": "stdout",
     "output_type": "stream",
     "text": [
      "Xtrain: (1382, 1691) \n",
      "Ytrain: (1382,) \n",
      "Xtest: (600, 1691)\n"
     ]
    },
    {
     "data": {
      "text/plain": [
       "0"
      ]
     },
     "execution_count": 4,
     "metadata": {},
     "output_type": "execute_result"
    }
   ],
   "source": [
    "Xtrain = train_df.loc[:, ~train_df.columns.isin(['Image_path','Amount'])].values\n",
    "Ytrain = train_df['Amount'].values\n",
    "Ytrain_strat = pd.qcut(train_df['Amount'].values, q=5, labels=range(0,5))\n",
    "Xtest = test_df.loc[:, ~test_df.columns.isin(['Image_path'])].values\n",
    "\n",
    "print(\"Xtrain: {} \\nYtrain: {} \\nXtest: {}\".format(Xtrain.shape, Ytrain.shape, Xtest.shape))\n",
    "\n",
    "del train_df\n",
    "del test_df\n",
    "gc.collect()"
   ]
  },
  {
   "cell_type": "markdown",
   "id": "stunning-story",
   "metadata": {
    "id": "9wNC5rWEVnjd",
    "papermill": {
     "duration": 0.013553,
     "end_time": "2021-05-31T17:22:23.413052",
     "exception": false,
     "start_time": "2021-05-31T17:22:23.399499",
     "status": "completed"
    },
    "tags": []
   },
   "source": [
    "## Build and validate the model"
   ]
  },
  {
   "cell_type": "code",
   "execution_count": 5,
   "id": "taken-crazy",
   "metadata": {
    "execution": {
     "iopub.execute_input": "2021-05-31T17:22:23.449077Z",
     "iopub.status.busy": "2021-05-31T17:22:23.448389Z",
     "iopub.status.idle": "2021-05-31T17:22:23.451605Z",
     "shell.execute_reply": "2021-05-31T17:22:23.451087Z",
     "shell.execute_reply.started": "2021-05-31T13:54:37.559601Z"
    },
    "papermill": {
     "duration": 0.024913,
     "end_time": "2021-05-31T17:22:23.451747",
     "exception": false,
     "start_time": "2021-05-31T17:22:23.426834",
     "status": "completed"
    },
    "tags": []
   },
   "outputs": [],
   "source": [
    "params = {}\n",
    "params[\"objective\"] = 'regression'\n",
    "params[\"metric\"] = 'rmse'\n",
    "params[\"boosting\"] = 'gbdt'\n",
    "#params[\"device_type\"] = 'gpu'\n",
    "params[\"learning_rate\"] = 0.0235\n",
    "params[\"lambda_l2\"] = 0.008\n",
    "params[\"num_leaves\"] = 149\n",
    "params[\"max_depth\"] = 7\n",
    "params[\"feature_fraction\"] = 0.64\n",
    "params[\"bagging_fraction\"] = 0.696\n",
    "params[\"bagging_freq\"] = 3\n",
    "params[\"min_data_in_leaf\"] = 7\n",
    "params[\"verbosity\"] = -1\n",
    "num_rounds = 8000"
   ]
  },
  {
   "cell_type": "code",
   "execution_count": 6,
   "id": "general-science",
   "metadata": {
    "execution": {
     "iopub.execute_input": "2021-05-31T17:22:23.494567Z",
     "iopub.status.busy": "2021-05-31T17:22:23.493820Z",
     "iopub.status.idle": "2021-05-31T17:25:09.777901Z",
     "shell.execute_reply": "2021-05-31T17:25:09.778871Z",
     "shell.execute_reply.started": "2021-05-31T13:56:27.826408Z"
    },
    "id": "uWPosEORSVBp",
    "outputId": "d70ac047-a86b-4f36-84cc-960b1b5316be",
    "papermill": {
     "duration": 166.313278,
     "end_time": "2021-05-31T17:25:09.779098",
     "exception": false,
     "start_time": "2021-05-31T17:22:23.465820",
     "status": "completed"
    },
    "tags": []
   },
   "outputs": [
    {
     "name": "stdout",
     "output_type": "stream",
     "text": [
      "Training until validation scores don't improve for 100 rounds\n",
      "Early stopping, best iteration is:\n",
      "[85]\ttraining's rmse: 1360.82\tvalid_1's rmse: 2470.48\n",
      "\n",
      "Seed-24 | Fold-0 | OOF Score: 17.576371496698307\n",
      "\n",
      "Training until validation scores don't improve for 100 rounds\n",
      "[200]\ttraining's rmse: 653.943\tvalid_1's rmse: 2418.04\n",
      "Early stopping, best iteration is:\n",
      "[103]\ttraining's rmse: 1221.88\tvalid_1's rmse: 2391.67\n",
      "\n",
      "Seed-24 | Fold-1 | OOF Score: 19.026593399358084\n",
      "\n",
      "Training until validation scores don't improve for 100 rounds\n",
      "[200]\ttraining's rmse: 663.891\tvalid_1's rmse: 2453.47\n",
      "Early stopping, best iteration is:\n",
      "[128]\ttraining's rmse: 1016.35\tvalid_1's rmse: 2451.37\n",
      "\n",
      "Seed-24 | Fold-2 | OOF Score: 15.738202994185013\n",
      "\n",
      "Training until validation scores don't improve for 100 rounds\n",
      "Early stopping, best iteration is:\n",
      "[69]\ttraining's rmse: 1504.68\tvalid_1's rmse: 2441.42\n",
      "\n",
      "Seed-24 | Fold-3 | OOF Score: 21.241816952495498\n",
      "\n",
      "Training until validation scores don't improve for 100 rounds\n",
      "Early stopping, best iteration is:\n",
      "[96]\ttraining's rmse: 1239.78\tvalid_1's rmse: 2473.88\n",
      "\n",
      "Seed-24 | Fold-4 | OOF Score: 18.201438897638578\n",
      "\n",
      "\n",
      "Seed: 24 | Aggregate OOF Score: 18.356884748075096\n",
      "\n",
      "\n",
      "Training until validation scores don't improve for 100 rounds\n",
      "Early stopping, best iteration is:\n",
      "[57]\ttraining's rmse: 1685.45\tvalid_1's rmse: 2413.41\n",
      "\n",
      "Seed-3 | Fold-0 | OOF Score: 18.964874359713424\n",
      "\n",
      "Training until validation scores don't improve for 100 rounds\n",
      "[200]\ttraining's rmse: 638.025\tvalid_1's rmse: 2450.44\n",
      "Early stopping, best iteration is:\n",
      "[120]\ttraining's rmse: 1070.94\tvalid_1's rmse: 2447.63\n",
      "\n",
      "Seed-3 | Fold-1 | OOF Score: 21.524880493894116\n",
      "\n",
      "Training until validation scores don't improve for 100 rounds\n",
      "[200]\ttraining's rmse: 646.239\tvalid_1's rmse: 2420.53\n",
      "Early stopping, best iteration is:\n",
      "[206]\ttraining's rmse: 627.766\tvalid_1's rmse: 2419.78\n",
      "\n",
      "Seed-3 | Fold-2 | OOF Score: 20.796935075545854\n",
      "\n",
      "Training until validation scores don't improve for 100 rounds\n",
      "Early stopping, best iteration is:\n",
      "[76]\ttraining's rmse: 1444.84\tvalid_1's rmse: 2436.99\n",
      "\n",
      "Seed-3 | Fold-3 | OOF Score: 17.982753430663866\n",
      "\n",
      "Training until validation scores don't improve for 100 rounds\n",
      "[200]\ttraining's rmse: 649.572\tvalid_1's rmse: 2382.77\n",
      "Early stopping, best iteration is:\n",
      "[112]\ttraining's rmse: 1152.47\tvalid_1's rmse: 2369.43\n",
      "\n",
      "Seed-3 | Fold-4 | OOF Score: 21.989527596261947\n",
      "\n",
      "\n",
      "Seed: 3 | Aggregate OOF Score: 20.251794191215843\n",
      "\n",
      "\n",
      "Training until validation scores don't improve for 100 rounds\n",
      "Early stopping, best iteration is:\n",
      "[62]\ttraining's rmse: 1550.4\tvalid_1's rmse: 2426.24\n",
      "\n",
      "Seed-56 | Fold-0 | OOF Score: 15.373592435998207\n",
      "\n",
      "Training until validation scores don't improve for 100 rounds\n",
      "[200]\ttraining's rmse: 646.324\tvalid_1's rmse: 2496.93\n",
      "Early stopping, best iteration is:\n",
      "[110]\ttraining's rmse: 1154.1\tvalid_1's rmse: 2472.84\n",
      "\n",
      "Seed-56 | Fold-1 | OOF Score: 21.33923818183563\n",
      "\n",
      "Training until validation scores don't improve for 100 rounds\n",
      "[200]\ttraining's rmse: 683.417\tvalid_1's rmse: 2397.61\n",
      "Early stopping, best iteration is:\n",
      "[116]\ttraining's rmse: 1156.27\tvalid_1's rmse: 2387.62\n",
      "\n",
      "Seed-56 | Fold-2 | OOF Score: 17.989048686173813\n",
      "\n",
      "Training until validation scores don't improve for 100 rounds\n",
      "Early stopping, best iteration is:\n",
      "[88]\ttraining's rmse: 1336.3\tvalid_1's rmse: 2357.97\n",
      "\n",
      "Seed-56 | Fold-3 | OOF Score: 27.64086260086851\n",
      "\n",
      "Training until validation scores don't improve for 100 rounds\n",
      "[200]\ttraining's rmse: 643.351\tvalid_1's rmse: 2490.54\n",
      "Early stopping, best iteration is:\n",
      "[106]\ttraining's rmse: 1192.07\tvalid_1's rmse: 2469.51\n",
      "\n",
      "Seed-56 | Fold-4 | OOF Score: 16.280505473607\n",
      "\n",
      "\n",
      "Seed: 56 | Aggregate OOF Score: 19.724649475696634\n",
      "\n",
      "\n",
      "Aggregate OOF Score: 19.44444280499586\n"
     ]
    }
   ],
   "source": [
    "FOLD = 5\n",
    "NUM_SEED = 3\n",
    "\n",
    "np.random.seed(3)\n",
    "seeds = np.random.randint(0, 100, size=NUM_SEED)\n",
    "\n",
    "oof_score = 0\n",
    "y_pred_meta_lgb = np.zeros((Ytrain.shape[0], 1))\n",
    "y_pred_final_lgb = 0\n",
    "counter = 0\n",
    "\n",
    "\n",
    "for sidx, seed in enumerate(seeds):\n",
    "    seed_score = 0\n",
    "    \n",
    "    kfold = StratifiedKFold(n_splits=FOLD, shuffle=True, random_state=seed)\n",
    "\n",
    "    for idx, (train, val) in enumerate(kfold.split(Xtrain, Ytrain_strat)):\n",
    "        counter += 1\n",
    "\n",
    "        train_x, train_y = Xtrain[train], Ytrain[train]\n",
    "        val_x, val_y = Xtrain[val], Ytrain[val]\n",
    "\n",
    "        lgtrain = lgb.Dataset(train_x, label=train_y)\n",
    "        lgvalidation = lgb.Dataset(val_x, label=val_y)\n",
    "\n",
    "        model = lgb.train(params, lgtrain, num_rounds, \n",
    "                          valid_sets=[lgtrain, lgvalidation], \n",
    "                          categorical_feature=cat_cols_indices,\n",
    "                          early_stopping_rounds=100, verbose_eval=200)\n",
    "\n",
    "        y_pred = model.predict(val_x, num_iteration=model.best_iteration)\n",
    "        y_pred_meta_lgb[val] += np.array([y_pred]).T\n",
    "        y_pred_final_lgb += model.predict(Xtest, num_iteration=model.best_iteration)\n",
    "        \n",
    "        score = 100 * r2_score(val_y, y_pred)\n",
    "        oof_score += score\n",
    "        seed_score += score\n",
    "        print(\"\\nSeed-{} | Fold-{} | OOF Score: {}\\n\".format(seed, idx, score))\n",
    "    \n",
    "    print(\"\\nSeed: {} | Aggregate OOF Score: {}\\n\\n\".format(seed, (seed_score / FOLD)))\n",
    "\n",
    "\n",
    "y_pred_meta_lgb = y_pred_meta_lgb / float(NUM_SEED)\n",
    "y_pred_final_lgb = y_pred_final_lgb / float(counter)\n",
    "oof_score /= float(counter)\n",
    "print(\"Aggregate OOF Score: {}\".format(oof_score))"
   ]
  },
  {
   "cell_type": "code",
   "execution_count": 7,
   "id": "modified-reaction",
   "metadata": {
    "execution": {
     "iopub.execute_input": "2021-05-31T17:25:09.839940Z",
     "iopub.status.busy": "2021-05-31T17:25:09.838178Z",
     "iopub.status.idle": "2021-05-31T17:25:09.845271Z",
     "shell.execute_reply": "2021-05-31T17:25:09.844497Z",
     "shell.execute_reply.started": "2021-05-26T09:36:00.251819Z"
    },
    "id": "uLzmS7LzXvXy",
    "papermill": {
     "duration": 0.039032,
     "end_time": "2021-05-31T17:25:09.845441",
     "exception": false,
     "start_time": "2021-05-31T17:25:09.806409",
     "status": "completed"
    },
    "tags": []
   },
   "outputs": [],
   "source": [
    "np.savez_compressed('./LGB_Meta_Features.npz',\n",
    "                    y_pred_meta_lgb=y_pred_meta_lgb, \n",
    "                    oof_score=oof_score,\n",
    "                    y_pred_final_lgb=y_pred_final_lgb)"
   ]
  },
  {
   "cell_type": "markdown",
   "id": "abstract-horizontal",
   "metadata": {
    "papermill": {
     "duration": 0.025801,
     "end_time": "2021-05-31T17:25:09.898567",
     "exception": false,
     "start_time": "2021-05-31T17:25:09.872766",
     "status": "completed"
    },
    "tags": []
   },
   "source": [
    "## Create submission file"
   ]
  },
  {
   "cell_type": "code",
   "execution_count": 8,
   "id": "warming-visiting",
   "metadata": {
    "execution": {
     "iopub.execute_input": "2021-05-31T17:25:09.957018Z",
     "iopub.status.busy": "2021-05-31T17:25:09.955806Z",
     "iopub.status.idle": "2021-05-31T17:25:10.128193Z",
     "shell.execute_reply": "2021-05-31T17:25:10.127693Z",
     "shell.execute_reply.started": "2021-05-31T11:01:45.982189Z"
    },
    "papermill": {
     "duration": 0.204606,
     "end_time": "2021-05-31T17:25:10.128357",
     "exception": false,
     "start_time": "2021-05-31T17:25:09.923751",
     "status": "completed"
    },
    "tags": []
   },
   "outputs": [
    {
     "data": {
      "text/plain": [
       "673"
      ]
     },
     "execution_count": 8,
     "metadata": {},
     "output_type": "execute_result"
    }
   ],
   "source": [
    "with open(\"../input/he-ffi-preprocess-data/HE_FFI_Dataset.txt\", 'rb') as handle: \n",
    "    data = handle.read()\n",
    "\n",
    "processed_data = pickle.loads(data)\n",
    "test_df = processed_data['test_df']\n",
    "\n",
    "del processed_data\n",
    "gc.collect()"
   ]
  },
  {
   "cell_type": "code",
   "execution_count": 9,
   "id": "enormous-boutique",
   "metadata": {
    "execution": {
     "iopub.execute_input": "2021-05-31T17:25:10.186478Z",
     "iopub.status.busy": "2021-05-31T17:25:10.185772Z",
     "iopub.status.idle": "2021-05-31T17:25:10.226928Z",
     "shell.execute_reply": "2021-05-31T17:25:10.227443Z"
    },
    "papermill": {
     "duration": 0.07355,
     "end_time": "2021-05-31T17:25:10.227614",
     "exception": false,
     "start_time": "2021-05-31T17:25:10.154064",
     "status": "completed"
    },
    "tags": []
   },
   "outputs": [
    {
     "data": {
      "text/html": [
       "<div>\n",
       "<style scoped>\n",
       "    .dataframe tbody tr th:only-of-type {\n",
       "        vertical-align: middle;\n",
       "    }\n",
       "\n",
       "    .dataframe tbody tr th {\n",
       "        vertical-align: top;\n",
       "    }\n",
       "\n",
       "    .dataframe thead th {\n",
       "        text-align: right;\n",
       "    }\n",
       "</style>\n",
       "<table border=\"1\" class=\"dataframe\">\n",
       "  <thead>\n",
       "    <tr style=\"text-align: right;\">\n",
       "      <th></th>\n",
       "      <th>Image_path</th>\n",
       "      <th>Condition</th>\n",
       "      <th>Amount</th>\n",
       "    </tr>\n",
       "  </thead>\n",
       "  <tbody>\n",
       "    <tr>\n",
       "      <th>0</th>\n",
       "      <td>img_4538519.jpg</td>\n",
       "      <td>1.0</td>\n",
       "      <td>3179.437720</td>\n",
       "    </tr>\n",
       "    <tr>\n",
       "      <th>1</th>\n",
       "      <td>img_7766002.jpg</td>\n",
       "      <td>1.0</td>\n",
       "      <td>4048.453142</td>\n",
       "    </tr>\n",
       "    <tr>\n",
       "      <th>2</th>\n",
       "      <td>img_4637390.jpg</td>\n",
       "      <td>1.0</td>\n",
       "      <td>4310.281828</td>\n",
       "    </tr>\n",
       "    <tr>\n",
       "      <th>3</th>\n",
       "      <td>img_4516108.jpg</td>\n",
       "      <td>1.0</td>\n",
       "      <td>4212.673558</td>\n",
       "    </tr>\n",
       "    <tr>\n",
       "      <th>4</th>\n",
       "      <td>img_4517008.jpg</td>\n",
       "      <td>1.0</td>\n",
       "      <td>4092.744581</td>\n",
       "    </tr>\n",
       "  </tbody>\n",
       "</table>\n",
       "</div>"
      ],
      "text/plain": [
       "        Image_path  Condition       Amount\n",
       "0  img_4538519.jpg        1.0  3179.437720\n",
       "1  img_7766002.jpg        1.0  4048.453142\n",
       "2  img_4637390.jpg        1.0  4310.281828\n",
       "3  img_4516108.jpg        1.0  4212.673558\n",
       "4  img_4517008.jpg        1.0  4092.744581"
      ]
     },
     "execution_count": 9,
     "metadata": {},
     "output_type": "execute_result"
    }
   ],
   "source": [
    "test_df1 = pd.read_csv(\"../input/he-fast-furious-insured/dataset/test.csv\")\n",
    "\n",
    "submit_df = pd.DataFrame()\n",
    "submit_df['Image_path'] = test_df1['Image_path']\n",
    "submit_df['Condition'] = test_df['Condition']\n",
    "submit_df['Amount'] = y_pred_final_lgb\n",
    "\n",
    "submit_df.to_csv(\"./LGB_Submission_wo_Adjustment.csv\", index=False)\n",
    "submit_df.head()"
   ]
  },
  {
   "cell_type": "code",
   "execution_count": 10,
   "id": "sought-training",
   "metadata": {
    "execution": {
     "iopub.execute_input": "2021-05-31T17:25:10.286154Z",
     "iopub.status.busy": "2021-05-31T17:25:10.285522Z",
     "iopub.status.idle": "2021-05-31T17:25:10.306805Z",
     "shell.execute_reply": "2021-05-31T17:25:10.307415Z",
     "shell.execute_reply.started": "2021-05-31T11:02:23.948495Z"
    },
    "executionInfo": {
     "elapsed": 3141,
     "status": "ok",
     "timestamp": 1616223489651,
     "user": {
      "displayName": "TAPAS DAS",
      "photoUrl": "https://lh3.googleusercontent.com/a-/AOh14GiyffdGKiPCR_UwVittzTcbBFms70IkGfU15fatCA=s64",
      "userId": "10798398878324948542"
     },
     "user_tz": -330
    },
    "id": "zGEGOAJHVoHV",
    "outputId": "11f9ca4c-9cca-46f6-b9a6-907ad0a09927",
    "papermill": {
     "duration": 0.054229,
     "end_time": "2021-05-31T17:25:10.307601",
     "exception": false,
     "start_time": "2021-05-31T17:25:10.253372",
     "status": "completed"
    },
    "tags": []
   },
   "outputs": [
    {
     "data": {
      "text/html": [
       "<div>\n",
       "<style scoped>\n",
       "    .dataframe tbody tr th:only-of-type {\n",
       "        vertical-align: middle;\n",
       "    }\n",
       "\n",
       "    .dataframe tbody tr th {\n",
       "        vertical-align: top;\n",
       "    }\n",
       "\n",
       "    .dataframe thead th {\n",
       "        text-align: right;\n",
       "    }\n",
       "</style>\n",
       "<table border=\"1\" class=\"dataframe\">\n",
       "  <thead>\n",
       "    <tr style=\"text-align: right;\">\n",
       "      <th></th>\n",
       "      <th>Image_path</th>\n",
       "      <th>Condition</th>\n",
       "      <th>Amount</th>\n",
       "    </tr>\n",
       "  </thead>\n",
       "  <tbody>\n",
       "    <tr>\n",
       "      <th>0</th>\n",
       "      <td>img_4538519.jpg</td>\n",
       "      <td>1.0</td>\n",
       "      <td>3179.437720</td>\n",
       "    </tr>\n",
       "    <tr>\n",
       "      <th>1</th>\n",
       "      <td>img_7766002.jpg</td>\n",
       "      <td>1.0</td>\n",
       "      <td>4048.453142</td>\n",
       "    </tr>\n",
       "    <tr>\n",
       "      <th>2</th>\n",
       "      <td>img_4637390.jpg</td>\n",
       "      <td>1.0</td>\n",
       "      <td>4310.281828</td>\n",
       "    </tr>\n",
       "    <tr>\n",
       "      <th>3</th>\n",
       "      <td>img_4516108.jpg</td>\n",
       "      <td>1.0</td>\n",
       "      <td>4212.673558</td>\n",
       "    </tr>\n",
       "    <tr>\n",
       "      <th>4</th>\n",
       "      <td>img_4517008.jpg</td>\n",
       "      <td>1.0</td>\n",
       "      <td>4092.744581</td>\n",
       "    </tr>\n",
       "  </tbody>\n",
       "</table>\n",
       "</div>"
      ],
      "text/plain": [
       "        Image_path  Condition       Amount\n",
       "0  img_4538519.jpg        1.0  3179.437720\n",
       "1  img_7766002.jpg        1.0  4048.453142\n",
       "2  img_4637390.jpg        1.0  4310.281828\n",
       "3  img_4516108.jpg        1.0  4212.673558\n",
       "4  img_4517008.jpg        1.0  4092.744581"
      ]
     },
     "execution_count": 10,
     "metadata": {},
     "output_type": "execute_result"
    }
   ],
   "source": [
    "test_df1 = pd.read_csv(\"../input/he-fast-furious-insured/dataset/test.csv\")\n",
    "\n",
    "submit_df = pd.DataFrame()\n",
    "submit_df['Image_path'] = test_df1['Image_path']\n",
    "submit_df['Condition'] = test_df['Condition']\n",
    "submit_df['Amount'] = y_pred_final_lgb\n",
    "submit_df.loc[test_df['Condition']==0, 'Amount'] = 0\n",
    "\n",
    "submit_df.to_csv(\"./LGB_Submission_w_Adjustment.csv\", index=False)\n",
    "submit_df.head()"
   ]
  },
  {
   "cell_type": "code",
   "execution_count": null,
   "id": "straight-spanking",
   "metadata": {
    "id": "W2c88MvxXm65",
    "papermill": {
     "duration": 0.026597,
     "end_time": "2021-05-31T17:25:10.360589",
     "exception": false,
     "start_time": "2021-05-31T17:25:10.333992",
     "status": "completed"
    },
    "tags": []
   },
   "outputs": [],
   "source": []
  }
 ],
 "metadata": {
  "kernelspec": {
   "display_name": "Python 3",
   "language": "python",
   "name": "python3"
  },
  "language_info": {
   "codemirror_mode": {
    "name": "ipython",
    "version": 3
   },
   "file_extension": ".py",
   "mimetype": "text/x-python",
   "name": "python",
   "nbconvert_exporter": "python",
   "pygments_lexer": "ipython3",
   "version": "3.7.10"
  },
  "papermill": {
   "default_parameters": {},
   "duration": 179.876209,
   "end_time": "2021-05-31T17:25:11.953342",
   "environment_variables": {},
   "exception": null,
   "input_path": "__notebook__.ipynb",
   "output_path": "__notebook__.ipynb",
   "parameters": {},
   "start_time": "2021-05-31T17:22:12.077133",
   "version": "2.3.3"
  }
 },
 "nbformat": 4,
 "nbformat_minor": 5
}
