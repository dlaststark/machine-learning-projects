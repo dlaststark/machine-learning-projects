{
 "cells": [
  {
   "cell_type": "markdown",
   "id": "joint-service",
   "metadata": {
    "id": "uLz9OcH8SeET",
    "papermill": {
     "duration": 0.009678,
     "end_time": "2021-06-12T03:34:10.996361",
     "exception": false,
     "start_time": "2021-06-12T03:34:10.986683",
     "status": "completed"
    },
    "tags": []
   },
   "source": [
    "## Import libraries"
   ]
  },
  {
   "cell_type": "code",
   "execution_count": 1,
   "id": "sustained-opening",
   "metadata": {
    "execution": {
     "iopub.execute_input": "2021-06-12T03:34:11.017826Z",
     "iopub.status.busy": "2021-06-12T03:34:11.016855Z",
     "iopub.status.idle": "2021-06-12T03:34:12.889319Z",
     "shell.execute_reply": "2021-06-12T03:34:12.889735Z",
     "shell.execute_reply.started": "2021-06-11T16:27:19.353304Z"
    },
    "executionInfo": {
     "elapsed": 23727,
     "status": "ok",
     "timestamp": 1616326442041,
     "user": {
      "displayName": "TAPAS DAS",
      "photoUrl": "https://lh3.googleusercontent.com/a-/AOh14GiyffdGKiPCR_UwVittzTcbBFms70IkGfU15fatCA=s64",
      "userId": "10798398878324948542"
     },
     "user_tz": -330
    },
    "id": "E9svswc9SUuX",
    "papermill": {
     "duration": 1.884691,
     "end_time": "2021-06-12T03:34:12.890032",
     "exception": false,
     "start_time": "2021-06-12T03:34:11.005341",
     "status": "completed"
    },
    "tags": []
   },
   "outputs": [
    {
     "data": {
      "text/html": [
       "<style type='text/css'>\n",
       ".datatable table.frame { margin-bottom: 0; }\n",
       ".datatable table.frame thead { border-bottom: none; }\n",
       ".datatable table.frame tr.coltypes td {  color: #FFFFFF;  line-height: 6px;  padding: 0 0.5em;}\n",
       ".datatable .bool    { background: #DDDD99; }\n",
       ".datatable .object  { background: #565656; }\n",
       ".datatable .int     { background: #5D9E5D; }\n",
       ".datatable .float   { background: #4040CC; }\n",
       ".datatable .str     { background: #CC4040; }\n",
       ".datatable .row_index {  background: var(--jp-border-color3);  border-right: 1px solid var(--jp-border-color0);  color: var(--jp-ui-font-color3);  font-size: 9px;}\n",
       ".datatable .frame tr.coltypes .row_index {  background: var(--jp-border-color0);}\n",
       ".datatable th:nth-child(2) { padding-left: 12px; }\n",
       ".datatable .hellipsis {  color: var(--jp-cell-editor-border-color);}\n",
       ".datatable .vellipsis {  background: var(--jp-layout-color0);  color: var(--jp-cell-editor-border-color);}\n",
       ".datatable .na {  color: var(--jp-cell-editor-border-color);  font-size: 80%;}\n",
       ".datatable .footer { font-size: 9px; }\n",
       ".datatable .frame_dimensions {  background: var(--jp-border-color3);  border-top: 1px solid var(--jp-border-color0);  color: var(--jp-ui-font-color3);  display: inline-block;  opacity: 0.6;  padding: 1px 10px 1px 5px;}\n",
       "</style>\n"
      ],
      "text/plain": [
       "<IPython.core.display.HTML object>"
      ]
     },
     "metadata": {},
     "output_type": "display_data"
    }
   ],
   "source": [
    "import warnings\n",
    "warnings.filterwarnings(\"ignore\")\n",
    "\n",
    "import gc\n",
    "import pickle\n",
    "import numpy as np\n",
    "import pandas as pd\n",
    "import lightgbm as lgb\n",
    "from sklearn.metrics import r2_score\n",
    "from sklearn.model_selection import StratifiedKFold"
   ]
  },
  {
   "cell_type": "markdown",
   "id": "dedicated-edward",
   "metadata": {
    "id": "hg85SpW-S6hl",
    "papermill": {
     "duration": 0.008537,
     "end_time": "2021-06-12T03:34:12.907832",
     "exception": false,
     "start_time": "2021-06-12T03:34:12.899295",
     "status": "completed"
    },
    "tags": []
   },
   "source": [
    "## Prepare data for model training"
   ]
  },
  {
   "cell_type": "code",
   "execution_count": 2,
   "id": "breeding-interval",
   "metadata": {
    "execution": {
     "iopub.execute_input": "2021-06-12T03:34:12.928298Z",
     "iopub.status.busy": "2021-06-12T03:34:12.927756Z",
     "iopub.status.idle": "2021-06-12T03:34:13.628970Z",
     "shell.execute_reply": "2021-06-12T03:34:13.629389Z",
     "shell.execute_reply.started": "2021-06-11T16:27:21.776234Z"
    },
    "executionInfo": {
     "elapsed": 10043,
     "status": "ok",
     "timestamp": 1616326444482,
     "user": {
      "displayName": "TAPAS DAS",
      "photoUrl": "https://lh3.googleusercontent.com/a-/AOh14GiyffdGKiPCR_UwVittzTcbBFms70IkGfU15fatCA=s64",
      "userId": "10798398878324948542"
     },
     "user_tz": -330
    },
    "id": "VdhgoIAmSUxK",
    "outputId": "7897cfad-c8d4-46d9-86ea-04de37e11444",
    "papermill": {
     "duration": 0.712883,
     "end_time": "2021-06-12T03:34:13.629541",
     "exception": false,
     "start_time": "2021-06-12T03:34:12.916658",
     "status": "completed"
    },
    "tags": []
   },
   "outputs": [
    {
     "data": {
      "text/plain": [
       "0"
      ]
     },
     "execution_count": 2,
     "metadata": {},
     "output_type": "execute_result"
    }
   ],
   "source": [
    "with open(\"../input/he-ffi-preprocess-data-v2-5/HE_FFI_Dataset.txt\", 'rb') as handle: \n",
    "    data = handle.read()\n",
    "\n",
    "processed_data = pickle.loads(data)\n",
    "train_df = processed_data['train_df']\n",
    "test_df = processed_data['test_df']\n",
    "\n",
    "del processed_data\n",
    "gc.collect()"
   ]
  },
  {
   "cell_type": "code",
   "execution_count": 3,
   "id": "motivated-lecture",
   "metadata": {
    "execution": {
     "iopub.execute_input": "2021-06-12T03:34:13.662607Z",
     "iopub.status.busy": "2021-06-12T03:34:13.662053Z",
     "iopub.status.idle": "2021-06-12T03:34:13.672384Z",
     "shell.execute_reply": "2021-06-12T03:34:13.671814Z",
     "shell.execute_reply.started": "2021-06-11T16:27:22.397966Z"
    },
    "papermill": {
     "duration": 0.033811,
     "end_time": "2021-06-12T03:34:13.672509",
     "exception": false,
     "start_time": "2021-06-12T03:34:13.638698",
     "status": "completed"
    },
    "tags": []
   },
   "outputs": [
    {
     "name": "stdout",
     "output_type": "stream",
     "text": [
      "[0, 6, 7, 3, 8, 12, 13]\n"
     ]
    }
   ],
   "source": [
    "cat_cols = ['Insurance_company','expiry_dt_year','expiry_dt_quarter','Condition',\n",
    "            'expiry_dt_month','expiry_dt_day_week','expiry_dt_day_weekend']\n",
    "\n",
    "train_df[cat_cols] = train_df[cat_cols].astype(int)\n",
    "test_df[cat_cols] = test_df[cat_cols].astype(int)\n",
    "cat_cols_indices = [train_df.columns.get_loc(col) for col in cat_cols]\n",
    "print(cat_cols_indices)"
   ]
  },
  {
   "cell_type": "code",
   "execution_count": 4,
   "id": "going-conference",
   "metadata": {
    "execution": {
     "iopub.execute_input": "2021-06-12T03:34:13.698158Z",
     "iopub.status.busy": "2021-06-12T03:34:13.697569Z",
     "iopub.status.idle": "2021-06-12T03:34:13.835491Z",
     "shell.execute_reply": "2021-06-12T03:34:13.835034Z",
     "shell.execute_reply.started": "2021-06-11T16:27:22.426153Z"
    },
    "executionInfo": {
     "elapsed": 2058,
     "status": "ok",
     "timestamp": 1616326525321,
     "user": {
      "displayName": "TAPAS DAS",
      "photoUrl": "https://lh3.googleusercontent.com/a-/AOh14GiyffdGKiPCR_UwVittzTcbBFms70IkGfU15fatCA=s64",
      "userId": "10798398878324948542"
     },
     "user_tz": -330
    },
    "id": "UAfyHbeASU7C",
    "outputId": "14c429a7-7b43-4065-afae-da7d4f6679a9",
    "papermill": {
     "duration": 0.153386,
     "end_time": "2021-06-12T03:34:13.835622",
     "exception": false,
     "start_time": "2021-06-12T03:34:13.682236",
     "status": "completed"
    },
    "tags": []
   },
   "outputs": [
    {
     "name": "stdout",
     "output_type": "stream",
     "text": [
      "Xtrain: (1382, 2203) \n",
      "Ytrain: (1382,) \n",
      "Xtest: (600, 2203)\n"
     ]
    },
    {
     "data": {
      "text/plain": [
       "0"
      ]
     },
     "execution_count": 4,
     "metadata": {},
     "output_type": "execute_result"
    }
   ],
   "source": [
    "Xtrain = train_df.loc[:, ~train_df.columns.isin(['Image_path','Amount'])].values\n",
    "Ytrain = train_df['Amount'].values\n",
    "Ytrain_strat = pd.qcut(train_df['Amount'].values, q=5, labels=range(0,5))\n",
    "Xtest = test_df.loc[:, ~test_df.columns.isin(['Image_path'])].values\n",
    "\n",
    "print(\"Xtrain: {} \\nYtrain: {} \\nXtest: {}\".format(Xtrain.shape, Ytrain.shape, Xtest.shape))\n",
    "\n",
    "del train_df\n",
    "del test_df\n",
    "gc.collect()"
   ]
  },
  {
   "cell_type": "markdown",
   "id": "phantom-jenny",
   "metadata": {
    "id": "9wNC5rWEVnjd",
    "papermill": {
     "duration": 0.01001,
     "end_time": "2021-06-12T03:34:13.855771",
     "exception": false,
     "start_time": "2021-06-12T03:34:13.845761",
     "status": "completed"
    },
    "tags": []
   },
   "source": [
    "## Build and validate the model"
   ]
  },
  {
   "cell_type": "code",
   "execution_count": 5,
   "id": "incorporate-divorce",
   "metadata": {
    "execution": {
     "iopub.execute_input": "2021-06-12T03:34:13.882756Z",
     "iopub.status.busy": "2021-06-12T03:34:13.882183Z",
     "iopub.status.idle": "2021-06-12T03:34:13.884896Z",
     "shell.execute_reply": "2021-06-12T03:34:13.884372Z",
     "shell.execute_reply.started": "2021-06-11T16:27:25.631578Z"
    },
    "papermill": {
     "duration": 0.018655,
     "end_time": "2021-06-12T03:34:13.885055",
     "exception": false,
     "start_time": "2021-06-12T03:34:13.866400",
     "status": "completed"
    },
    "tags": []
   },
   "outputs": [],
   "source": [
    "params = {}\n",
    "params[\"objective\"] = 'regression'\n",
    "params[\"metric\"] = 'rmse'\n",
    "params[\"boosting\"] = 'gbdt'\n",
    "#params[\"device_type\"] = 'gpu'\n",
    "params[\"learning_rate\"] = 0.0195\n",
    "params[\"lambda_l2\"] = 0.1192\n",
    "params[\"num_leaves\"] = 300\n",
    "params[\"max_depth\"] = 7\n",
    "params[\"feature_fraction\"] = 0.8466\n",
    "params[\"bagging_fraction\"] = 0.7914\n",
    "params[\"bagging_freq\"] = 3\n",
    "params[\"min_data_in_leaf\"] = 12\n",
    "params[\"verbosity\"] = -1\n",
    "num_rounds = 8000"
   ]
  },
  {
   "cell_type": "code",
   "execution_count": 6,
   "id": "governing-following",
   "metadata": {
    "execution": {
     "iopub.execute_input": "2021-06-12T03:34:13.914910Z",
     "iopub.status.busy": "2021-06-12T03:34:13.914324Z",
     "iopub.status.idle": "2021-06-12T03:38:32.386114Z",
     "shell.execute_reply": "2021-06-12T03:38:32.385661Z",
     "shell.execute_reply.started": "2021-06-11T16:27:26.134425Z"
    },
    "id": "uWPosEORSVBp",
    "outputId": "d70ac047-a86b-4f36-84cc-960b1b5316be",
    "papermill": {
     "duration": 258.491139,
     "end_time": "2021-06-12T03:38:32.386266",
     "exception": false,
     "start_time": "2021-06-12T03:34:13.895127",
     "status": "completed"
    },
    "tags": []
   },
   "outputs": [
    {
     "name": "stdout",
     "output_type": "stream",
     "text": [
      "Training until validation scores don't improve for 100 rounds\n",
      "Early stopping, best iteration is:\n",
      "[85]\ttraining's rmse: 1494.62\tvalid_1's rmse: 2470.89\n",
      "\n",
      "Seed-24 | Fold-0 | OOF Score: 17.54919902789561\n",
      "\n",
      "Training until validation scores don't improve for 100 rounds\n",
      "[200]\ttraining's rmse: 781.718\tvalid_1's rmse: 2397.12\n",
      "Early stopping, best iteration is:\n",
      "[108]\ttraining's rmse: 1285\tvalid_1's rmse: 2378.96\n",
      "\n",
      "Seed-24 | Fold-1 | OOF Score: 19.88435344460249\n",
      "\n",
      "Training until validation scores don't improve for 100 rounds\n",
      "[200]\ttraining's rmse: 860.352\tvalid_1's rmse: 2422.97\n",
      "Early stopping, best iteration is:\n",
      "[140]\ttraining's rmse: 1141.13\tvalid_1's rmse: 2410.93\n",
      "\n",
      "Seed-24 | Fold-2 | OOF Score: 18.495180028056435\n",
      "\n",
      "Training until validation scores don't improve for 100 rounds\n",
      "Early stopping, best iteration is:\n",
      "[88]\ttraining's rmse: 1479.16\tvalid_1's rmse: 2427.34\n",
      "\n",
      "Seed-24 | Fold-3 | OOF Score: 22.147766153134206\n",
      "\n",
      "Training until validation scores don't improve for 100 rounds\n",
      "[200]\ttraining's rmse: 852.346\tvalid_1's rmse: 2466.79\n",
      "Early stopping, best iteration is:\n",
      "[112]\ttraining's rmse: 1327.68\tvalid_1's rmse: 2436.38\n",
      "\n",
      "Seed-24 | Fold-4 | OOF Score: 20.662804401060875\n",
      "\n",
      "\n",
      "Seed: 24 | Aggregate OOF Score: 19.74786061094992\n",
      "\n",
      "\n",
      "Training until validation scores don't improve for 100 rounds\n",
      "[200]\ttraining's rmse: 848.067\tvalid_1's rmse: 2381.65\n",
      "Early stopping, best iteration is:\n",
      "[130]\ttraining's rmse: 1190.12\tvalid_1's rmse: 2367.56\n",
      "\n",
      "Seed-3 | Fold-0 | OOF Score: 22.01494682902433\n",
      "\n",
      "Training until validation scores don't improve for 100 rounds\n",
      "Early stopping, best iteration is:\n",
      "[82]\ttraining's rmse: 1522.72\tvalid_1's rmse: 2488.81\n",
      "\n",
      "Seed-3 | Fold-1 | OOF Score: 18.86219709761242\n",
      "\n",
      "Training until validation scores don't improve for 100 rounds\n",
      "[200]\ttraining's rmse: 802.107\tvalid_1's rmse: 2419.03\n",
      "Early stopping, best iteration is:\n",
      "[129]\ttraining's rmse: 1145.12\tvalid_1's rmse: 2410.71\n",
      "\n",
      "Seed-3 | Fold-2 | OOF Score: 21.38918944749111\n",
      "\n",
      "Training until validation scores don't improve for 100 rounds\n",
      "Early stopping, best iteration is:\n",
      "[96]\ttraining's rmse: 1396.78\tvalid_1's rmse: 2411.36\n",
      "\n",
      "Seed-3 | Fold-3 | OOF Score: 19.69895178101384\n",
      "\n",
      "Training until validation scores don't improve for 100 rounds\n",
      "[200]\ttraining's rmse: 823.62\tvalid_1's rmse: 2399.85\n",
      "Early stopping, best iteration is:\n",
      "[149]\ttraining's rmse: 1073.98\tvalid_1's rmse: 2383.16\n",
      "\n",
      "Seed-3 | Fold-4 | OOF Score: 21.082843781829773\n",
      "\n",
      "\n",
      "Seed: 3 | Aggregate OOF Score: 20.609625787394293\n",
      "\n",
      "\n",
      "Training until validation scores don't improve for 100 rounds\n",
      "[200]\ttraining's rmse: 809.633\tvalid_1's rmse: 2389.38\n",
      "Early stopping, best iteration is:\n",
      "[181]\ttraining's rmse: 891.128\tvalid_1's rmse: 2385.56\n",
      "\n",
      "Seed-56 | Fold-0 | OOF Score: 18.187359585063923\n",
      "\n",
      "Training until validation scores don't improve for 100 rounds\n",
      "[200]\ttraining's rmse: 848.37\tvalid_1's rmse: 2431.13\n",
      "Early stopping, best iteration is:\n",
      "[233]\ttraining's rmse: 730.717\tvalid_1's rmse: 2428.68\n",
      "\n",
      "Seed-56 | Fold-1 | OOF Score: 24.123432671277545\n",
      "\n",
      "Training until validation scores don't improve for 100 rounds\n",
      "Early stopping, best iteration is:\n",
      "[89]\ttraining's rmse: 1454.95\tvalid_1's rmse: 2341.22\n",
      "\n",
      "Seed-56 | Fold-2 | OOF Score: 21.14514372601104\n",
      "\n",
      "Training until validation scores don't improve for 100 rounds\n",
      "[200]\ttraining's rmse: 807.971\tvalid_1's rmse: 2442.16\n",
      "Early stopping, best iteration is:\n",
      "[105]\ttraining's rmse: 1315.85\tvalid_1's rmse: 2395.41\n",
      "\n",
      "Seed-56 | Fold-3 | OOF Score: 25.325220735454746\n",
      "\n",
      "Training until validation scores don't improve for 100 rounds\n",
      "[200]\ttraining's rmse: 827.133\tvalid_1's rmse: 2459.46\n",
      "Early stopping, best iteration is:\n",
      "[108]\ttraining's rmse: 1360.25\tvalid_1's rmse: 2449.56\n",
      "\n",
      "Seed-56 | Fold-4 | OOF Score: 17.627898547649057\n",
      "\n",
      "\n",
      "Seed: 56 | Aggregate OOF Score: 21.281811053091264\n",
      "\n",
      "\n",
      "Aggregate OOF Score: 20.546432483811827\n"
     ]
    }
   ],
   "source": [
    "FOLD = 5\n",
    "NUM_SEED = 3\n",
    "\n",
    "np.random.seed(3)\n",
    "seeds = np.random.randint(0, 100, size=NUM_SEED)\n",
    "\n",
    "oof_score = 0\n",
    "y_pred_meta_lgb = np.zeros((Ytrain.shape[0], 1))\n",
    "y_pred_final_lgb = 0\n",
    "counter = 0\n",
    "\n",
    "\n",
    "for sidx, seed in enumerate(seeds):\n",
    "    seed_score = 0\n",
    "    \n",
    "    kfold = StratifiedKFold(n_splits=FOLD, shuffle=True, random_state=seed)\n",
    "\n",
    "    for idx, (train, val) in enumerate(kfold.split(Xtrain, Ytrain_strat)):\n",
    "        counter += 1\n",
    "\n",
    "        train_x, train_y = Xtrain[train], Ytrain[train]\n",
    "        val_x, val_y = Xtrain[val], Ytrain[val]\n",
    "\n",
    "        lgtrain = lgb.Dataset(train_x, label=train_y)\n",
    "        lgvalidation = lgb.Dataset(val_x, label=val_y)\n",
    "\n",
    "        model = lgb.train(params, lgtrain, num_rounds, \n",
    "                          valid_sets=[lgtrain, lgvalidation], \n",
    "                          categorical_feature=cat_cols_indices,\n",
    "                          early_stopping_rounds=100, verbose_eval=200)\n",
    "\n",
    "        y_pred = model.predict(val_x, num_iteration=model.best_iteration)\n",
    "        y_pred_meta_lgb[val] += np.array([y_pred]).T\n",
    "        y_pred_final_lgb += model.predict(Xtest, num_iteration=model.best_iteration)\n",
    "        \n",
    "        score = 100 * r2_score(val_y, y_pred)\n",
    "        oof_score += score\n",
    "        seed_score += score\n",
    "        print(\"\\nSeed-{} | Fold-{} | OOF Score: {}\\n\".format(seed, idx, score))\n",
    "    \n",
    "    print(\"\\nSeed: {} | Aggregate OOF Score: {}\\n\\n\".format(seed, (seed_score / FOLD)))\n",
    "\n",
    "\n",
    "y_pred_meta_lgb = y_pred_meta_lgb / float(NUM_SEED)\n",
    "y_pred_final_lgb = y_pred_final_lgb / float(counter)\n",
    "oof_score /= float(counter)\n",
    "print(\"Aggregate OOF Score: {}\".format(oof_score))"
   ]
  },
  {
   "cell_type": "code",
   "execution_count": 7,
   "id": "medieval-accreditation",
   "metadata": {
    "execution": {
     "iopub.execute_input": "2021-06-12T03:38:32.426920Z",
     "iopub.status.busy": "2021-06-12T03:38:32.426097Z",
     "iopub.status.idle": "2021-06-12T03:38:32.431660Z",
     "shell.execute_reply": "2021-06-12T03:38:32.432068Z",
     "shell.execute_reply.started": "2021-05-26T09:36:00.251819Z"
    },
    "id": "uLzmS7LzXvXy",
    "papermill": {
     "duration": 0.027639,
     "end_time": "2021-06-12T03:38:32.432252",
     "exception": false,
     "start_time": "2021-06-12T03:38:32.404613",
     "status": "completed"
    },
    "tags": []
   },
   "outputs": [],
   "source": [
    "np.savez_compressed('./LGB_Meta_Features.npz',\n",
    "                    y_pred_meta_lgb=y_pred_meta_lgb, \n",
    "                    oof_score=oof_score,\n",
    "                    y_pred_final_lgb=y_pred_final_lgb)"
   ]
  },
  {
   "cell_type": "markdown",
   "id": "tough-theorem",
   "metadata": {
    "papermill": {
     "duration": 0.018152,
     "end_time": "2021-06-12T03:38:32.468769",
     "exception": false,
     "start_time": "2021-06-12T03:38:32.450617",
     "status": "completed"
    },
    "tags": []
   },
   "source": [
    "## Create submission file"
   ]
  },
  {
   "cell_type": "code",
   "execution_count": 8,
   "id": "coated-baseball",
   "metadata": {
    "execution": {
     "iopub.execute_input": "2021-06-12T03:38:32.509289Z",
     "iopub.status.busy": "2021-06-12T03:38:32.508416Z",
     "iopub.status.idle": "2021-06-12T03:38:32.673489Z",
     "shell.execute_reply": "2021-06-12T03:38:32.672971Z",
     "shell.execute_reply.started": "2021-05-31T11:01:45.982189Z"
    },
    "papermill": {
     "duration": 0.18623,
     "end_time": "2021-06-12T03:38:32.673625",
     "exception": false,
     "start_time": "2021-06-12T03:38:32.487395",
     "status": "completed"
    },
    "tags": []
   },
   "outputs": [
    {
     "data": {
      "text/plain": [
       "333"
      ]
     },
     "execution_count": 8,
     "metadata": {},
     "output_type": "execute_result"
    }
   ],
   "source": [
    "with open(\"../input/he-ffi-preprocess-data/HE_FFI_Dataset.txt\", 'rb') as handle: \n",
    "    data = handle.read()\n",
    "\n",
    "processed_data = pickle.loads(data)\n",
    "test_df = processed_data['test_df']\n",
    "\n",
    "del processed_data\n",
    "gc.collect()"
   ]
  },
  {
   "cell_type": "code",
   "execution_count": 9,
   "id": "virgin-romance",
   "metadata": {
    "execution": {
     "iopub.execute_input": "2021-06-12T03:38:32.716161Z",
     "iopub.status.busy": "2021-06-12T03:38:32.715479Z",
     "iopub.status.idle": "2021-06-12T03:38:32.772310Z",
     "shell.execute_reply": "2021-06-12T03:38:32.771701Z"
    },
    "papermill": {
     "duration": 0.07994,
     "end_time": "2021-06-12T03:38:32.772457",
     "exception": false,
     "start_time": "2021-06-12T03:38:32.692517",
     "status": "completed"
    },
    "tags": []
   },
   "outputs": [
    {
     "data": {
      "text/html": [
       "<div>\n",
       "<style scoped>\n",
       "    .dataframe tbody tr th:only-of-type {\n",
       "        vertical-align: middle;\n",
       "    }\n",
       "\n",
       "    .dataframe tbody tr th {\n",
       "        vertical-align: top;\n",
       "    }\n",
       "\n",
       "    .dataframe thead th {\n",
       "        text-align: right;\n",
       "    }\n",
       "</style>\n",
       "<table border=\"1\" class=\"dataframe\">\n",
       "  <thead>\n",
       "    <tr style=\"text-align: right;\">\n",
       "      <th></th>\n",
       "      <th>Image_path</th>\n",
       "      <th>Condition</th>\n",
       "      <th>Amount</th>\n",
       "    </tr>\n",
       "  </thead>\n",
       "  <tbody>\n",
       "    <tr>\n",
       "      <th>0</th>\n",
       "      <td>img_4538519.jpg</td>\n",
       "      <td>1.0</td>\n",
       "      <td>2864.800172</td>\n",
       "    </tr>\n",
       "    <tr>\n",
       "      <th>1</th>\n",
       "      <td>img_7766002.jpg</td>\n",
       "      <td>1.0</td>\n",
       "      <td>4176.236122</td>\n",
       "    </tr>\n",
       "    <tr>\n",
       "      <th>2</th>\n",
       "      <td>img_4637390.jpg</td>\n",
       "      <td>1.0</td>\n",
       "      <td>4083.862105</td>\n",
       "    </tr>\n",
       "    <tr>\n",
       "      <th>3</th>\n",
       "      <td>img_4516108.jpg</td>\n",
       "      <td>1.0</td>\n",
       "      <td>3796.520192</td>\n",
       "    </tr>\n",
       "    <tr>\n",
       "      <th>4</th>\n",
       "      <td>img_4517008.jpg</td>\n",
       "      <td>1.0</td>\n",
       "      <td>3851.595545</td>\n",
       "    </tr>\n",
       "  </tbody>\n",
       "</table>\n",
       "</div>"
      ],
      "text/plain": [
       "        Image_path  Condition       Amount\n",
       "0  img_4538519.jpg        1.0  2864.800172\n",
       "1  img_7766002.jpg        1.0  4176.236122\n",
       "2  img_4637390.jpg        1.0  4083.862105\n",
       "3  img_4516108.jpg        1.0  3796.520192\n",
       "4  img_4517008.jpg        1.0  3851.595545"
      ]
     },
     "execution_count": 9,
     "metadata": {},
     "output_type": "execute_result"
    }
   ],
   "source": [
    "test_df1 = pd.read_csv(\"../input/he-fast-furious-insured/dataset/test.csv\")\n",
    "\n",
    "submit_df = pd.DataFrame()\n",
    "submit_df['Image_path'] = test_df1['Image_path']\n",
    "submit_df['Condition'] = test_df['Condition']\n",
    "submit_df['Amount'] = y_pred_final_lgb\n",
    "\n",
    "submit_df.to_csv(\"./LGB_Submission_wo_Adjustment.csv\", index=False)\n",
    "submit_df.head()"
   ]
  },
  {
   "cell_type": "code",
   "execution_count": 10,
   "id": "vertical-possible",
   "metadata": {
    "execution": {
     "iopub.execute_input": "2021-06-12T03:38:32.817880Z",
     "iopub.status.busy": "2021-06-12T03:38:32.817292Z",
     "iopub.status.idle": "2021-06-12T03:38:32.834508Z",
     "shell.execute_reply": "2021-06-12T03:38:32.834914Z",
     "shell.execute_reply.started": "2021-05-31T11:02:23.948495Z"
    },
    "executionInfo": {
     "elapsed": 3141,
     "status": "ok",
     "timestamp": 1616223489651,
     "user": {
      "displayName": "TAPAS DAS",
      "photoUrl": "https://lh3.googleusercontent.com/a-/AOh14GiyffdGKiPCR_UwVittzTcbBFms70IkGfU15fatCA=s64",
      "userId": "10798398878324948542"
     },
     "user_tz": -330
    },
    "id": "zGEGOAJHVoHV",
    "outputId": "11f9ca4c-9cca-46f6-b9a6-907ad0a09927",
    "papermill": {
     "duration": 0.042688,
     "end_time": "2021-06-12T03:38:32.835086",
     "exception": false,
     "start_time": "2021-06-12T03:38:32.792398",
     "status": "completed"
    },
    "tags": []
   },
   "outputs": [
    {
     "data": {
      "text/html": [
       "<div>\n",
       "<style scoped>\n",
       "    .dataframe tbody tr th:only-of-type {\n",
       "        vertical-align: middle;\n",
       "    }\n",
       "\n",
       "    .dataframe tbody tr th {\n",
       "        vertical-align: top;\n",
       "    }\n",
       "\n",
       "    .dataframe thead th {\n",
       "        text-align: right;\n",
       "    }\n",
       "</style>\n",
       "<table border=\"1\" class=\"dataframe\">\n",
       "  <thead>\n",
       "    <tr style=\"text-align: right;\">\n",
       "      <th></th>\n",
       "      <th>Image_path</th>\n",
       "      <th>Condition</th>\n",
       "      <th>Amount</th>\n",
       "    </tr>\n",
       "  </thead>\n",
       "  <tbody>\n",
       "    <tr>\n",
       "      <th>0</th>\n",
       "      <td>img_4538519.jpg</td>\n",
       "      <td>1.0</td>\n",
       "      <td>2864.800172</td>\n",
       "    </tr>\n",
       "    <tr>\n",
       "      <th>1</th>\n",
       "      <td>img_7766002.jpg</td>\n",
       "      <td>1.0</td>\n",
       "      <td>4176.236122</td>\n",
       "    </tr>\n",
       "    <tr>\n",
       "      <th>2</th>\n",
       "      <td>img_4637390.jpg</td>\n",
       "      <td>1.0</td>\n",
       "      <td>4083.862105</td>\n",
       "    </tr>\n",
       "    <tr>\n",
       "      <th>3</th>\n",
       "      <td>img_4516108.jpg</td>\n",
       "      <td>1.0</td>\n",
       "      <td>3796.520192</td>\n",
       "    </tr>\n",
       "    <tr>\n",
       "      <th>4</th>\n",
       "      <td>img_4517008.jpg</td>\n",
       "      <td>1.0</td>\n",
       "      <td>3851.595545</td>\n",
       "    </tr>\n",
       "  </tbody>\n",
       "</table>\n",
       "</div>"
      ],
      "text/plain": [
       "        Image_path  Condition       Amount\n",
       "0  img_4538519.jpg        1.0  2864.800172\n",
       "1  img_7766002.jpg        1.0  4176.236122\n",
       "2  img_4637390.jpg        1.0  4083.862105\n",
       "3  img_4516108.jpg        1.0  3796.520192\n",
       "4  img_4517008.jpg        1.0  3851.595545"
      ]
     },
     "execution_count": 10,
     "metadata": {},
     "output_type": "execute_result"
    }
   ],
   "source": [
    "test_df1 = pd.read_csv(\"../input/he-fast-furious-insured/dataset/test.csv\")\n",
    "\n",
    "submit_df = pd.DataFrame()\n",
    "submit_df['Image_path'] = test_df1['Image_path']\n",
    "submit_df['Condition'] = test_df['Condition']\n",
    "submit_df['Amount'] = y_pred_final_lgb\n",
    "submit_df.loc[test_df['Condition']==0, 'Amount'] = 0\n",
    "\n",
    "submit_df.to_csv(\"./LGB_Submission_w_Adjustment.csv\", index=False)\n",
    "submit_df.head()"
   ]
  },
  {
   "cell_type": "code",
   "execution_count": null,
   "id": "prostate-serial",
   "metadata": {
    "id": "W2c88MvxXm65",
    "papermill": {
     "duration": 0.01899,
     "end_time": "2021-06-12T03:38:32.873582",
     "exception": false,
     "start_time": "2021-06-12T03:38:32.854592",
     "status": "completed"
    },
    "tags": []
   },
   "outputs": [],
   "source": []
  }
 ],
 "metadata": {
  "kernelspec": {
   "display_name": "Python 3",
   "language": "python",
   "name": "python3"
  },
  "language_info": {
   "codemirror_mode": {
    "name": "ipython",
    "version": 3
   },
   "file_extension": ".py",
   "mimetype": "text/x-python",
   "name": "python",
   "nbconvert_exporter": "python",
   "pygments_lexer": "ipython3",
   "version": "3.7.10"
  },
  "papermill": {
   "default_parameters": {},
   "duration": 269.908969,
   "end_time": "2021-06-12T03:38:34.162157",
   "environment_variables": {},
   "exception": null,
   "input_path": "__notebook__.ipynb",
   "output_path": "__notebook__.ipynb",
   "parameters": {},
   "start_time": "2021-06-12T03:34:04.253188",
   "version": "2.3.3"
  }
 },
 "nbformat": 4,
 "nbformat_minor": 5
}
