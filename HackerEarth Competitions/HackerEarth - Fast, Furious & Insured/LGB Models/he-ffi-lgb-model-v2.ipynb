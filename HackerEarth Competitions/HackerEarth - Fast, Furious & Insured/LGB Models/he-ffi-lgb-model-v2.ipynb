{
 "cells": [
  {
   "cell_type": "markdown",
   "id": "northern-surgeon",
   "metadata": {
    "id": "uLz9OcH8SeET",
    "papermill": {
     "duration": 0.012824,
     "end_time": "2021-06-02T02:53:01.723741",
     "exception": false,
     "start_time": "2021-06-02T02:53:01.710917",
     "status": "completed"
    },
    "tags": []
   },
   "source": [
    "## Import libraries"
   ]
  },
  {
   "cell_type": "code",
   "execution_count": 1,
   "id": "sustained-investment",
   "metadata": {
    "execution": {
     "iopub.execute_input": "2021-06-02T02:53:01.759002Z",
     "iopub.status.busy": "2021-06-02T02:53:01.758385Z",
     "iopub.status.idle": "2021-06-02T02:53:03.814510Z",
     "shell.execute_reply": "2021-06-02T02:53:03.813745Z",
     "shell.execute_reply.started": "2021-05-31T13:54:04.591676Z"
    },
    "executionInfo": {
     "elapsed": 23727,
     "status": "ok",
     "timestamp": 1616326442041,
     "user": {
      "displayName": "TAPAS DAS",
      "photoUrl": "https://lh3.googleusercontent.com/a-/AOh14GiyffdGKiPCR_UwVittzTcbBFms70IkGfU15fatCA=s64",
      "userId": "10798398878324948542"
     },
     "user_tz": -330
    },
    "id": "E9svswc9SUuX",
    "papermill": {
     "duration": 2.078679,
     "end_time": "2021-06-02T02:53:03.814681",
     "exception": false,
     "start_time": "2021-06-02T02:53:01.736002",
     "status": "completed"
    },
    "tags": []
   },
   "outputs": [
    {
     "data": {
      "text/html": [
       "<style type='text/css'>\n",
       ".datatable table.frame { margin-bottom: 0; }\n",
       ".datatable table.frame thead { border-bottom: none; }\n",
       ".datatable table.frame tr.coltypes td {  color: #FFFFFF;  line-height: 6px;  padding: 0 0.5em;}\n",
       ".datatable .bool    { background: #DDDD99; }\n",
       ".datatable .object  { background: #565656; }\n",
       ".datatable .int     { background: #5D9E5D; }\n",
       ".datatable .float   { background: #4040CC; }\n",
       ".datatable .str     { background: #CC4040; }\n",
       ".datatable .row_index {  background: var(--jp-border-color3);  border-right: 1px solid var(--jp-border-color0);  color: var(--jp-ui-font-color3);  font-size: 9px;}\n",
       ".datatable .frame tr.coltypes .row_index {  background: var(--jp-border-color0);}\n",
       ".datatable th:nth-child(2) { padding-left: 12px; }\n",
       ".datatable .hellipsis {  color: var(--jp-cell-editor-border-color);}\n",
       ".datatable .vellipsis {  background: var(--jp-layout-color0);  color: var(--jp-cell-editor-border-color);}\n",
       ".datatable .na {  color: var(--jp-cell-editor-border-color);  font-size: 80%;}\n",
       ".datatable .footer { font-size: 9px; }\n",
       ".datatable .frame_dimensions {  background: var(--jp-border-color3);  border-top: 1px solid var(--jp-border-color0);  color: var(--jp-ui-font-color3);  display: inline-block;  opacity: 0.6;  padding: 1px 10px 1px 5px;}\n",
       "</style>\n"
      ],
      "text/plain": [
       "<IPython.core.display.HTML object>"
      ]
     },
     "metadata": {},
     "output_type": "display_data"
    }
   ],
   "source": [
    "import warnings\n",
    "warnings.filterwarnings(\"ignore\")\n",
    "\n",
    "import gc\n",
    "import pickle\n",
    "import numpy as np\n",
    "import pandas as pd\n",
    "import lightgbm as lgb\n",
    "from sklearn.metrics import r2_score\n",
    "from sklearn.model_selection import StratifiedKFold"
   ]
  },
  {
   "cell_type": "markdown",
   "id": "loving-wagner",
   "metadata": {
    "id": "hg85SpW-S6hl",
    "papermill": {
     "duration": 0.012354,
     "end_time": "2021-06-02T02:53:03.840117",
     "exception": false,
     "start_time": "2021-06-02T02:53:03.827763",
     "status": "completed"
    },
    "tags": []
   },
   "source": [
    "## Prepare data for model training"
   ]
  },
  {
   "cell_type": "code",
   "execution_count": 2,
   "id": "reverse-monthly",
   "metadata": {
    "execution": {
     "iopub.execute_input": "2021-06-02T02:53:03.869226Z",
     "iopub.status.busy": "2021-06-02T02:53:03.868275Z",
     "iopub.status.idle": "2021-06-02T02:53:04.650541Z",
     "shell.execute_reply": "2021-06-02T02:53:04.649885Z",
     "shell.execute_reply.started": "2021-05-31T13:54:19.703632Z"
    },
    "executionInfo": {
     "elapsed": 10043,
     "status": "ok",
     "timestamp": 1616326444482,
     "user": {
      "displayName": "TAPAS DAS",
      "photoUrl": "https://lh3.googleusercontent.com/a-/AOh14GiyffdGKiPCR_UwVittzTcbBFms70IkGfU15fatCA=s64",
      "userId": "10798398878324948542"
     },
     "user_tz": -330
    },
    "id": "VdhgoIAmSUxK",
    "outputId": "7897cfad-c8d4-46d9-86ea-04de37e11444",
    "papermill": {
     "duration": 0.797764,
     "end_time": "2021-06-02T02:53:04.650678",
     "exception": false,
     "start_time": "2021-06-02T02:53:03.852914",
     "status": "completed"
    },
    "tags": []
   },
   "outputs": [
    {
     "data": {
      "text/plain": [
       "0"
      ]
     },
     "execution_count": 2,
     "metadata": {},
     "output_type": "execute_result"
    }
   ],
   "source": [
    "with open(\"../input/he-ffi-preprocess-data-v2-2/HE_FFI_Dataset.txt\", 'rb') as handle: \n",
    "    data = handle.read()\n",
    "\n",
    "processed_data = pickle.loads(data)\n",
    "train_df = processed_data['train_df']\n",
    "test_df = processed_data['test_df']\n",
    "\n",
    "del processed_data\n",
    "gc.collect()"
   ]
  },
  {
   "cell_type": "code",
   "execution_count": 3,
   "id": "vocational-recovery",
   "metadata": {
    "execution": {
     "iopub.execute_input": "2021-06-02T02:53:04.693715Z",
     "iopub.status.busy": "2021-06-02T02:53:04.692419Z",
     "iopub.status.idle": "2021-06-02T02:53:04.704696Z",
     "shell.execute_reply": "2021-06-02T02:53:04.704165Z",
     "shell.execute_reply.started": "2021-05-31T13:54:20.385998Z"
    },
    "papermill": {
     "duration": 0.041187,
     "end_time": "2021-06-02T02:53:04.704863",
     "exception": false,
     "start_time": "2021-06-02T02:53:04.663676",
     "status": "completed"
    },
    "tags": []
   },
   "outputs": [
    {
     "name": "stdout",
     "output_type": "stream",
     "text": [
      "[0, 6, 7, 3, 8, 12, 13]\n"
     ]
    }
   ],
   "source": [
    "cat_cols = ['Insurance_company','expiry_dt_year','expiry_dt_quarter','Condition',\n",
    "            'expiry_dt_month','expiry_dt_day_week','expiry_dt_day_weekend']\n",
    "\n",
    "train_df[cat_cols] = train_df[cat_cols].astype(int)\n",
    "test_df[cat_cols] = test_df[cat_cols].astype(int)\n",
    "cat_cols_indices = [train_df.columns.get_loc(col) for col in cat_cols]\n",
    "print(cat_cols_indices)"
   ]
  },
  {
   "cell_type": "code",
   "execution_count": 4,
   "id": "documentary-ontario",
   "metadata": {
    "execution": {
     "iopub.execute_input": "2021-06-02T02:53:04.746955Z",
     "iopub.status.busy": "2021-06-02T02:53:04.739753Z",
     "iopub.status.idle": "2021-06-02T02:53:04.879839Z",
     "shell.execute_reply": "2021-06-02T02:53:04.879188Z",
     "shell.execute_reply.started": "2021-05-31T13:54:20.413942Z"
    },
    "executionInfo": {
     "elapsed": 2058,
     "status": "ok",
     "timestamp": 1616326525321,
     "user": {
      "displayName": "TAPAS DAS",
      "photoUrl": "https://lh3.googleusercontent.com/a-/AOh14GiyffdGKiPCR_UwVittzTcbBFms70IkGfU15fatCA=s64",
      "userId": "10798398878324948542"
     },
     "user_tz": -330
    },
    "id": "UAfyHbeASU7C",
    "outputId": "14c429a7-7b43-4065-afae-da7d4f6679a9",
    "papermill": {
     "duration": 0.161829,
     "end_time": "2021-06-02T02:53:04.879980",
     "exception": false,
     "start_time": "2021-06-02T02:53:04.718151",
     "status": "completed"
    },
    "tags": []
   },
   "outputs": [
    {
     "name": "stdout",
     "output_type": "stream",
     "text": [
      "Xtrain: (1382, 1691) \n",
      "Ytrain: (1382,) \n",
      "Xtest: (600, 1691)\n"
     ]
    },
    {
     "data": {
      "text/plain": [
       "0"
      ]
     },
     "execution_count": 4,
     "metadata": {},
     "output_type": "execute_result"
    }
   ],
   "source": [
    "Xtrain = train_df.loc[:, ~train_df.columns.isin(['Image_path','Amount'])].values\n",
    "Ytrain = train_df['Amount'].values\n",
    "Ytrain_strat = pd.qcut(train_df['Amount'].values, q=5, labels=range(0,5))\n",
    "Xtest = test_df.loc[:, ~test_df.columns.isin(['Image_path'])].values\n",
    "\n",
    "print(\"Xtrain: {} \\nYtrain: {} \\nXtest: {}\".format(Xtrain.shape, Ytrain.shape, Xtest.shape))\n",
    "\n",
    "del train_df\n",
    "del test_df\n",
    "gc.collect()"
   ]
  },
  {
   "cell_type": "markdown",
   "id": "headed-baptist",
   "metadata": {
    "id": "9wNC5rWEVnjd",
    "papermill": {
     "duration": 0.013536,
     "end_time": "2021-06-02T02:53:04.907427",
     "exception": false,
     "start_time": "2021-06-02T02:53:04.893891",
     "status": "completed"
    },
    "tags": []
   },
   "source": [
    "## Build and validate the model"
   ]
  },
  {
   "cell_type": "code",
   "execution_count": 5,
   "id": "shared-extra",
   "metadata": {
    "execution": {
     "iopub.execute_input": "2021-06-02T02:53:04.942313Z",
     "iopub.status.busy": "2021-06-02T02:53:04.941533Z",
     "iopub.status.idle": "2021-06-02T02:53:04.946119Z",
     "shell.execute_reply": "2021-06-02T02:53:04.945557Z",
     "shell.execute_reply.started": "2021-05-31T13:54:37.559601Z"
    },
    "papermill": {
     "duration": 0.024976,
     "end_time": "2021-06-02T02:53:04.946258",
     "exception": false,
     "start_time": "2021-06-02T02:53:04.921282",
     "status": "completed"
    },
    "tags": []
   },
   "outputs": [],
   "source": [
    "params = {}\n",
    "params[\"objective\"] = 'regression'\n",
    "params[\"metric\"] = 'rmse'\n",
    "params[\"boosting\"] = 'gbdt'\n",
    "#params[\"device_type\"] = 'gpu'\n",
    "params[\"learning_rate\"] = 0.0195\n",
    "params[\"lambda_l2\"] = 0.1192\n",
    "params[\"num_leaves\"] = 300\n",
    "params[\"max_depth\"] = 7\n",
    "params[\"feature_fraction\"] = 0.9466\n",
    "params[\"bagging_fraction\"] = 0.7914\n",
    "params[\"bagging_freq\"] = 3\n",
    "params[\"min_data_in_leaf\"] = 12\n",
    "params[\"verbosity\"] = -1\n",
    "num_rounds = 8000"
   ]
  },
  {
   "cell_type": "code",
   "execution_count": 6,
   "id": "considerable-tongue",
   "metadata": {
    "execution": {
     "iopub.execute_input": "2021-06-02T02:53:04.988074Z",
     "iopub.status.busy": "2021-06-02T02:53:04.987422Z",
     "iopub.status.idle": "2021-06-02T02:56:26.914746Z",
     "shell.execute_reply": "2021-06-02T02:56:26.915766Z",
     "shell.execute_reply.started": "2021-05-31T13:56:27.826408Z"
    },
    "id": "uWPosEORSVBp",
    "outputId": "d70ac047-a86b-4f36-84cc-960b1b5316be",
    "papermill": {
     "duration": 201.955583,
     "end_time": "2021-06-02T02:56:26.916000",
     "exception": false,
     "start_time": "2021-06-02T02:53:04.960417",
     "status": "completed"
    },
    "tags": []
   },
   "outputs": [
    {
     "name": "stdout",
     "output_type": "stream",
     "text": [
      "Training until validation scores don't improve for 100 rounds\n",
      "Early stopping, best iteration is:\n",
      "[99]\ttraining's rmse: 1387.32\tvalid_1's rmse: 2454.87\n",
      "\n",
      "Seed-24 | Fold-0 | OOF Score: 18.614958113275183\n",
      "\n",
      "Training until validation scores don't improve for 100 rounds\n",
      "Early stopping, best iteration is:\n",
      "[99]\ttraining's rmse: 1406.01\tvalid_1's rmse: 2366.22\n",
      "\n",
      "Seed-24 | Fold-1 | OOF Score: 20.740184993392962\n",
      "\n",
      "Training until validation scores don't improve for 100 rounds\n",
      "[200]\ttraining's rmse: 823.523\tvalid_1's rmse: 2436.8\n",
      "Early stopping, best iteration is:\n",
      "[170]\ttraining's rmse: 959.253\tvalid_1's rmse: 2434.37\n",
      "\n",
      "Seed-24 | Fold-2 | OOF Score: 16.902680246317935\n",
      "\n",
      "Training until validation scores don't improve for 100 rounds\n",
      "[200]\ttraining's rmse: 838.956\tvalid_1's rmse: 2444.87\n",
      "Early stopping, best iteration is:\n",
      "[124]\ttraining's rmse: 1222.95\tvalid_1's rmse: 2425.24\n",
      "\n",
      "Seed-24 | Fold-3 | OOF Score: 22.28238214410837\n",
      "\n",
      "Training until validation scores don't improve for 100 rounds\n",
      "[200]\ttraining's rmse: 867.506\tvalid_1's rmse: 2500.95\n",
      "Early stopping, best iteration is:\n",
      "[102]\ttraining's rmse: 1424.73\tvalid_1's rmse: 2471.43\n",
      "\n",
      "Seed-24 | Fold-4 | OOF Score: 18.363469625939043\n",
      "\n",
      "\n",
      "Seed: 24 | Aggregate OOF Score: 19.3807350246067\n",
      "\n",
      "\n",
      "Training until validation scores don't improve for 100 rounds\n",
      "[200]\ttraining's rmse: 848.078\tvalid_1's rmse: 2390.47\n",
      "Early stopping, best iteration is:\n",
      "[106]\ttraining's rmse: 1365.83\tvalid_1's rmse: 2387.74\n",
      "\n",
      "Seed-3 | Fold-0 | OOF Score: 20.679979610993914\n",
      "\n",
      "Training until validation scores don't improve for 100 rounds\n",
      "Early stopping, best iteration is:\n",
      "[85]\ttraining's rmse: 1475.19\tvalid_1's rmse: 2453.47\n",
      "\n",
      "Seed-3 | Fold-1 | OOF Score: 21.15028584320111\n",
      "\n",
      "Training until validation scores don't improve for 100 rounds\n",
      "[200]\ttraining's rmse: 827.679\tvalid_1's rmse: 2472.51\n",
      "Early stopping, best iteration is:\n",
      "[101]\ttraining's rmse: 1368.38\tvalid_1's rmse: 2452.62\n",
      "\n",
      "Seed-3 | Fold-2 | OOF Score: 18.632084907585288\n",
      "\n",
      "Training until validation scores don't improve for 100 rounds\n",
      "[200]\ttraining's rmse: 819.505\tvalid_1's rmse: 2459.7\n",
      "Early stopping, best iteration is:\n",
      "[120]\ttraining's rmse: 1251.29\tvalid_1's rmse: 2446.51\n",
      "\n",
      "Seed-3 | Fold-3 | OOF Score: 17.340731971285816\n",
      "\n",
      "Training until validation scores don't improve for 100 rounds\n",
      "Early stopping, best iteration is:\n",
      "[93]\ttraining's rmse: 1470.05\tvalid_1's rmse: 2407.16\n",
      "\n",
      "Seed-3 | Fold-4 | OOF Score: 19.48592237900334\n",
      "\n",
      "\n",
      "Seed: 3 | Aggregate OOF Score: 19.457800942413893\n",
      "\n",
      "\n",
      "Training until validation scores don't improve for 100 rounds\n",
      "[200]\ttraining's rmse: 783.587\tvalid_1's rmse: 2416.84\n",
      "Early stopping, best iteration is:\n",
      "[119]\ttraining's rmse: 1198.86\tvalid_1's rmse: 2384.9\n",
      "\n",
      "Seed-56 | Fold-0 | OOF Score: 18.232775464434138\n",
      "\n",
      "Training until validation scores don't improve for 100 rounds\n",
      "[200]\ttraining's rmse: 856.002\tvalid_1's rmse: 2525.8\n",
      "Early stopping, best iteration is:\n",
      "[154]\ttraining's rmse: 1064.35\tvalid_1's rmse: 2514\n",
      "\n",
      "Seed-56 | Fold-1 | OOF Score: 18.69869879570355\n",
      "\n",
      "Training until validation scores don't improve for 100 rounds\n",
      "Early stopping, best iteration is:\n",
      "[87]\ttraining's rmse: 1533.01\tvalid_1's rmse: 2383.83\n",
      "\n",
      "Seed-56 | Fold-2 | OOF Score: 18.249018600666133\n",
      "\n",
      "Training until validation scores don't improve for 100 rounds\n",
      "[200]\ttraining's rmse: 846.025\tvalid_1's rmse: 2415.5\n",
      "Early stopping, best iteration is:\n",
      "[135]\ttraining's rmse: 1187.11\tvalid_1's rmse: 2392.4\n",
      "\n",
      "Seed-56 | Fold-3 | OOF Score: 25.512874353423097\n",
      "\n",
      "Training until validation scores don't improve for 100 rounds\n",
      "[200]\ttraining's rmse: 839.852\tvalid_1's rmse: 2503.18\n",
      "Early stopping, best iteration is:\n",
      "[120]\ttraining's rmse: 1270.88\tvalid_1's rmse: 2478.51\n",
      "\n",
      "Seed-56 | Fold-4 | OOF Score: 15.669068612609284\n",
      "\n",
      "\n",
      "Seed: 56 | Aggregate OOF Score: 19.27248716536724\n",
      "\n",
      "\n",
      "Aggregate OOF Score: 19.37034104412928\n"
     ]
    }
   ],
   "source": [
    "FOLD = 5\n",
    "NUM_SEED = 3\n",
    "\n",
    "np.random.seed(3)\n",
    "seeds = np.random.randint(0, 100, size=NUM_SEED)\n",
    "\n",
    "oof_score = 0\n",
    "y_pred_meta_lgb = np.zeros((Ytrain.shape[0], 1))\n",
    "y_pred_final_lgb = 0\n",
    "counter = 0\n",
    "\n",
    "\n",
    "for sidx, seed in enumerate(seeds):\n",
    "    seed_score = 0\n",
    "    \n",
    "    kfold = StratifiedKFold(n_splits=FOLD, shuffle=True, random_state=seed)\n",
    "\n",
    "    for idx, (train, val) in enumerate(kfold.split(Xtrain, Ytrain_strat)):\n",
    "        counter += 1\n",
    "\n",
    "        train_x, train_y = Xtrain[train], Ytrain[train]\n",
    "        val_x, val_y = Xtrain[val], Ytrain[val]\n",
    "\n",
    "        lgtrain = lgb.Dataset(train_x, label=train_y)\n",
    "        lgvalidation = lgb.Dataset(val_x, label=val_y)\n",
    "\n",
    "        model = lgb.train(params, lgtrain, num_rounds, \n",
    "                          valid_sets=[lgtrain, lgvalidation], \n",
    "                          categorical_feature=cat_cols_indices,\n",
    "                          early_stopping_rounds=100, verbose_eval=200)\n",
    "\n",
    "        y_pred = model.predict(val_x, num_iteration=model.best_iteration)\n",
    "        y_pred_meta_lgb[val] += np.array([y_pred]).T\n",
    "        y_pred_final_lgb += model.predict(Xtest, num_iteration=model.best_iteration)\n",
    "        \n",
    "        score = 100 * r2_score(val_y, y_pred)\n",
    "        oof_score += score\n",
    "        seed_score += score\n",
    "        print(\"\\nSeed-{} | Fold-{} | OOF Score: {}\\n\".format(seed, idx, score))\n",
    "    \n",
    "    print(\"\\nSeed: {} | Aggregate OOF Score: {}\\n\\n\".format(seed, (seed_score / FOLD)))\n",
    "\n",
    "\n",
    "y_pred_meta_lgb = y_pred_meta_lgb / float(NUM_SEED)\n",
    "y_pred_final_lgb = y_pred_final_lgb / float(counter)\n",
    "oof_score /= float(counter)\n",
    "print(\"Aggregate OOF Score: {}\".format(oof_score))"
   ]
  },
  {
   "cell_type": "code",
   "execution_count": 7,
   "id": "demographic-pharmacy",
   "metadata": {
    "execution": {
     "iopub.execute_input": "2021-06-02T02:56:26.976038Z",
     "iopub.status.busy": "2021-06-02T02:56:26.974740Z",
     "iopub.status.idle": "2021-06-02T02:56:26.979900Z",
     "shell.execute_reply": "2021-06-02T02:56:26.979342Z",
     "shell.execute_reply.started": "2021-05-26T09:36:00.251819Z"
    },
    "id": "uLzmS7LzXvXy",
    "papermill": {
     "duration": 0.035928,
     "end_time": "2021-06-02T02:56:26.980042",
     "exception": false,
     "start_time": "2021-06-02T02:56:26.944114",
     "status": "completed"
    },
    "tags": []
   },
   "outputs": [],
   "source": [
    "np.savez_compressed('./LGB_Meta_Features.npz',\n",
    "                    y_pred_meta_lgb=y_pred_meta_lgb, \n",
    "                    oof_score=oof_score,\n",
    "                    y_pred_final_lgb=y_pred_final_lgb)"
   ]
  },
  {
   "cell_type": "markdown",
   "id": "afraid-roberts",
   "metadata": {
    "papermill": {
     "duration": 0.025218,
     "end_time": "2021-06-02T02:56:27.030685",
     "exception": false,
     "start_time": "2021-06-02T02:56:27.005467",
     "status": "completed"
    },
    "tags": []
   },
   "source": [
    "## Create submission file"
   ]
  },
  {
   "cell_type": "code",
   "execution_count": 8,
   "id": "amateur-harmony",
   "metadata": {
    "execution": {
     "iopub.execute_input": "2021-06-02T02:56:27.085016Z",
     "iopub.status.busy": "2021-06-02T02:56:27.084070Z",
     "iopub.status.idle": "2021-06-02T02:56:27.275058Z",
     "shell.execute_reply": "2021-06-02T02:56:27.274542Z",
     "shell.execute_reply.started": "2021-05-31T11:01:45.982189Z"
    },
    "papermill": {
     "duration": 0.219181,
     "end_time": "2021-06-02T02:56:27.275210",
     "exception": false,
     "start_time": "2021-06-02T02:56:27.056029",
     "status": "completed"
    },
    "tags": []
   },
   "outputs": [
    {
     "data": {
      "text/plain": [
       "615"
      ]
     },
     "execution_count": 8,
     "metadata": {},
     "output_type": "execute_result"
    }
   ],
   "source": [
    "with open(\"../input/he-ffi-preprocess-data/HE_FFI_Dataset.txt\", 'rb') as handle: \n",
    "    data = handle.read()\n",
    "\n",
    "processed_data = pickle.loads(data)\n",
    "test_df = processed_data['test_df']\n",
    "\n",
    "del processed_data\n",
    "gc.collect()"
   ]
  },
  {
   "cell_type": "code",
   "execution_count": 9,
   "id": "intellectual-demographic",
   "metadata": {
    "execution": {
     "iopub.execute_input": "2021-06-02T02:56:27.330301Z",
     "iopub.status.busy": "2021-06-02T02:56:27.329359Z",
     "iopub.status.idle": "2021-06-02T02:56:27.382685Z",
     "shell.execute_reply": "2021-06-02T02:56:27.383279Z"
    },
    "papermill": {
     "duration": 0.082588,
     "end_time": "2021-06-02T02:56:27.383451",
     "exception": false,
     "start_time": "2021-06-02T02:56:27.300863",
     "status": "completed"
    },
    "tags": []
   },
   "outputs": [
    {
     "data": {
      "text/html": [
       "<div>\n",
       "<style scoped>\n",
       "    .dataframe tbody tr th:only-of-type {\n",
       "        vertical-align: middle;\n",
       "    }\n",
       "\n",
       "    .dataframe tbody tr th {\n",
       "        vertical-align: top;\n",
       "    }\n",
       "\n",
       "    .dataframe thead th {\n",
       "        text-align: right;\n",
       "    }\n",
       "</style>\n",
       "<table border=\"1\" class=\"dataframe\">\n",
       "  <thead>\n",
       "    <tr style=\"text-align: right;\">\n",
       "      <th></th>\n",
       "      <th>Image_path</th>\n",
       "      <th>Condition</th>\n",
       "      <th>Amount</th>\n",
       "    </tr>\n",
       "  </thead>\n",
       "  <tbody>\n",
       "    <tr>\n",
       "      <th>0</th>\n",
       "      <td>img_4538519.jpg</td>\n",
       "      <td>1.0</td>\n",
       "      <td>3165.103089</td>\n",
       "    </tr>\n",
       "    <tr>\n",
       "      <th>1</th>\n",
       "      <td>img_7766002.jpg</td>\n",
       "      <td>1.0</td>\n",
       "      <td>4079.704448</td>\n",
       "    </tr>\n",
       "    <tr>\n",
       "      <th>2</th>\n",
       "      <td>img_4637390.jpg</td>\n",
       "      <td>1.0</td>\n",
       "      <td>4347.967711</td>\n",
       "    </tr>\n",
       "    <tr>\n",
       "      <th>3</th>\n",
       "      <td>img_4516108.jpg</td>\n",
       "      <td>1.0</td>\n",
       "      <td>3919.984807</td>\n",
       "    </tr>\n",
       "    <tr>\n",
       "      <th>4</th>\n",
       "      <td>img_4517008.jpg</td>\n",
       "      <td>1.0</td>\n",
       "      <td>3968.145748</td>\n",
       "    </tr>\n",
       "  </tbody>\n",
       "</table>\n",
       "</div>"
      ],
      "text/plain": [
       "        Image_path  Condition       Amount\n",
       "0  img_4538519.jpg        1.0  3165.103089\n",
       "1  img_7766002.jpg        1.0  4079.704448\n",
       "2  img_4637390.jpg        1.0  4347.967711\n",
       "3  img_4516108.jpg        1.0  3919.984807\n",
       "4  img_4517008.jpg        1.0  3968.145748"
      ]
     },
     "execution_count": 9,
     "metadata": {},
     "output_type": "execute_result"
    }
   ],
   "source": [
    "test_df1 = pd.read_csv(\"../input/he-fast-furious-insured/dataset/test.csv\")\n",
    "\n",
    "submit_df = pd.DataFrame()\n",
    "submit_df['Image_path'] = test_df1['Image_path']\n",
    "submit_df['Condition'] = test_df['Condition']\n",
    "submit_df['Amount'] = y_pred_final_lgb\n",
    "\n",
    "submit_df.to_csv(\"./LGB_Submission_wo_Adjustment.csv\", index=False)\n",
    "submit_df.head()"
   ]
  },
  {
   "cell_type": "code",
   "execution_count": 10,
   "id": "monetary-torture",
   "metadata": {
    "execution": {
     "iopub.execute_input": "2021-06-02T02:56:27.439874Z",
     "iopub.status.busy": "2021-06-02T02:56:27.438942Z",
     "iopub.status.idle": "2021-06-02T02:56:27.463455Z",
     "shell.execute_reply": "2021-06-02T02:56:27.462939Z",
     "shell.execute_reply.started": "2021-05-31T11:02:23.948495Z"
    },
    "executionInfo": {
     "elapsed": 3141,
     "status": "ok",
     "timestamp": 1616223489651,
     "user": {
      "displayName": "TAPAS DAS",
      "photoUrl": "https://lh3.googleusercontent.com/a-/AOh14GiyffdGKiPCR_UwVittzTcbBFms70IkGfU15fatCA=s64",
      "userId": "10798398878324948542"
     },
     "user_tz": -330
    },
    "id": "zGEGOAJHVoHV",
    "outputId": "11f9ca4c-9cca-46f6-b9a6-907ad0a09927",
    "papermill": {
     "duration": 0.053686,
     "end_time": "2021-06-02T02:56:27.463610",
     "exception": false,
     "start_time": "2021-06-02T02:56:27.409924",
     "status": "completed"
    },
    "tags": []
   },
   "outputs": [
    {
     "data": {
      "text/html": [
       "<div>\n",
       "<style scoped>\n",
       "    .dataframe tbody tr th:only-of-type {\n",
       "        vertical-align: middle;\n",
       "    }\n",
       "\n",
       "    .dataframe tbody tr th {\n",
       "        vertical-align: top;\n",
       "    }\n",
       "\n",
       "    .dataframe thead th {\n",
       "        text-align: right;\n",
       "    }\n",
       "</style>\n",
       "<table border=\"1\" class=\"dataframe\">\n",
       "  <thead>\n",
       "    <tr style=\"text-align: right;\">\n",
       "      <th></th>\n",
       "      <th>Image_path</th>\n",
       "      <th>Condition</th>\n",
       "      <th>Amount</th>\n",
       "    </tr>\n",
       "  </thead>\n",
       "  <tbody>\n",
       "    <tr>\n",
       "      <th>0</th>\n",
       "      <td>img_4538519.jpg</td>\n",
       "      <td>1.0</td>\n",
       "      <td>3165.103089</td>\n",
       "    </tr>\n",
       "    <tr>\n",
       "      <th>1</th>\n",
       "      <td>img_7766002.jpg</td>\n",
       "      <td>1.0</td>\n",
       "      <td>4079.704448</td>\n",
       "    </tr>\n",
       "    <tr>\n",
       "      <th>2</th>\n",
       "      <td>img_4637390.jpg</td>\n",
       "      <td>1.0</td>\n",
       "      <td>4347.967711</td>\n",
       "    </tr>\n",
       "    <tr>\n",
       "      <th>3</th>\n",
       "      <td>img_4516108.jpg</td>\n",
       "      <td>1.0</td>\n",
       "      <td>3919.984807</td>\n",
       "    </tr>\n",
       "    <tr>\n",
       "      <th>4</th>\n",
       "      <td>img_4517008.jpg</td>\n",
       "      <td>1.0</td>\n",
       "      <td>3968.145748</td>\n",
       "    </tr>\n",
       "  </tbody>\n",
       "</table>\n",
       "</div>"
      ],
      "text/plain": [
       "        Image_path  Condition       Amount\n",
       "0  img_4538519.jpg        1.0  3165.103089\n",
       "1  img_7766002.jpg        1.0  4079.704448\n",
       "2  img_4637390.jpg        1.0  4347.967711\n",
       "3  img_4516108.jpg        1.0  3919.984807\n",
       "4  img_4517008.jpg        1.0  3968.145748"
      ]
     },
     "execution_count": 10,
     "metadata": {},
     "output_type": "execute_result"
    }
   ],
   "source": [
    "test_df1 = pd.read_csv(\"../input/he-fast-furious-insured/dataset/test.csv\")\n",
    "\n",
    "submit_df = pd.DataFrame()\n",
    "submit_df['Image_path'] = test_df1['Image_path']\n",
    "submit_df['Condition'] = test_df['Condition']\n",
    "submit_df['Amount'] = y_pred_final_lgb\n",
    "submit_df.loc[test_df['Condition']==0, 'Amount'] = 0\n",
    "\n",
    "submit_df.to_csv(\"./LGB_Submission_w_Adjustment.csv\", index=False)\n",
    "submit_df.head()"
   ]
  },
  {
   "cell_type": "code",
   "execution_count": null,
   "id": "optional-buyer",
   "metadata": {
    "id": "W2c88MvxXm65",
    "papermill": {
     "duration": 0.026631,
     "end_time": "2021-06-02T02:56:27.516981",
     "exception": false,
     "start_time": "2021-06-02T02:56:27.490350",
     "status": "completed"
    },
    "tags": []
   },
   "outputs": [],
   "source": []
  }
 ],
 "metadata": {
  "kernelspec": {
   "display_name": "Python 3",
   "language": "python",
   "name": "python3"
  },
  "language_info": {
   "codemirror_mode": {
    "name": "ipython",
    "version": 3
   },
   "file_extension": ".py",
   "mimetype": "text/x-python",
   "name": "python",
   "nbconvert_exporter": "python",
   "pygments_lexer": "ipython3",
   "version": "3.7.10"
  },
  "papermill": {
   "default_parameters": {},
   "duration": 214.406058,
   "end_time": "2021-06-02T02:56:28.354244",
   "environment_variables": {},
   "exception": null,
   "input_path": "__notebook__.ipynb",
   "output_path": "__notebook__.ipynb",
   "parameters": {},
   "start_time": "2021-06-02T02:52:53.948186",
   "version": "2.3.3"
  }
 },
 "nbformat": 4,
 "nbformat_minor": 5
}
