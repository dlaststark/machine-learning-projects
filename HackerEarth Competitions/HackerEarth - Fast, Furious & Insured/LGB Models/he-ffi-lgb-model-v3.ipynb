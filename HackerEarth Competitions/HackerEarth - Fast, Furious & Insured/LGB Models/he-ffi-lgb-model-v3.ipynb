{
 "cells": [
  {
   "cell_type": "markdown",
   "id": "corporate-photograph",
   "metadata": {
    "id": "uLz9OcH8SeET",
    "papermill": {
     "duration": 0.013142,
     "end_time": "2021-06-11T12:18:54.499285",
     "exception": false,
     "start_time": "2021-06-11T12:18:54.486143",
     "status": "completed"
    },
    "tags": []
   },
   "source": [
    "## Import libraries"
   ]
  },
  {
   "cell_type": "code",
   "execution_count": 1,
   "id": "general-danish",
   "metadata": {
    "execution": {
     "iopub.execute_input": "2021-06-11T12:18:54.534429Z",
     "iopub.status.busy": "2021-06-11T12:18:54.533826Z",
     "iopub.status.idle": "2021-06-11T12:18:56.677615Z",
     "shell.execute_reply": "2021-06-11T12:18:56.676821Z",
     "shell.execute_reply.started": "2021-06-11T12:04:36.046975Z"
    },
    "executionInfo": {
     "elapsed": 23727,
     "status": "ok",
     "timestamp": 1616326442041,
     "user": {
      "displayName": "TAPAS DAS",
      "photoUrl": "https://lh3.googleusercontent.com/a-/AOh14GiyffdGKiPCR_UwVittzTcbBFms70IkGfU15fatCA=s64",
      "userId": "10798398878324948542"
     },
     "user_tz": -330
    },
    "id": "E9svswc9SUuX",
    "papermill": {
     "duration": 2.166049,
     "end_time": "2021-06-11T12:18:56.677781",
     "exception": false,
     "start_time": "2021-06-11T12:18:54.511732",
     "status": "completed"
    },
    "tags": []
   },
   "outputs": [
    {
     "data": {
      "text/html": [
       "<style type='text/css'>\n",
       ".datatable table.frame { margin-bottom: 0; }\n",
       ".datatable table.frame thead { border-bottom: none; }\n",
       ".datatable table.frame tr.coltypes td {  color: #FFFFFF;  line-height: 6px;  padding: 0 0.5em;}\n",
       ".datatable .bool    { background: #DDDD99; }\n",
       ".datatable .object  { background: #565656; }\n",
       ".datatable .int     { background: #5D9E5D; }\n",
       ".datatable .float   { background: #4040CC; }\n",
       ".datatable .str     { background: #CC4040; }\n",
       ".datatable .row_index {  background: var(--jp-border-color3);  border-right: 1px solid var(--jp-border-color0);  color: var(--jp-ui-font-color3);  font-size: 9px;}\n",
       ".datatable .frame tr.coltypes .row_index {  background: var(--jp-border-color0);}\n",
       ".datatable th:nth-child(2) { padding-left: 12px; }\n",
       ".datatable .hellipsis {  color: var(--jp-cell-editor-border-color);}\n",
       ".datatable .vellipsis {  background: var(--jp-layout-color0);  color: var(--jp-cell-editor-border-color);}\n",
       ".datatable .na {  color: var(--jp-cell-editor-border-color);  font-size: 80%;}\n",
       ".datatable .footer { font-size: 9px; }\n",
       ".datatable .frame_dimensions {  background: var(--jp-border-color3);  border-top: 1px solid var(--jp-border-color0);  color: var(--jp-ui-font-color3);  display: inline-block;  opacity: 0.6;  padding: 1px 10px 1px 5px;}\n",
       "</style>\n"
      ],
      "text/plain": [
       "<IPython.core.display.HTML object>"
      ]
     },
     "metadata": {},
     "output_type": "display_data"
    }
   ],
   "source": [
    "import warnings\n",
    "warnings.filterwarnings(\"ignore\")\n",
    "\n",
    "import gc\n",
    "import pickle\n",
    "import numpy as np\n",
    "import pandas as pd\n",
    "import lightgbm as lgb\n",
    "from sklearn.metrics import r2_score\n",
    "from sklearn.model_selection import StratifiedKFold"
   ]
  },
  {
   "cell_type": "markdown",
   "id": "excited-consultation",
   "metadata": {
    "id": "hg85SpW-S6hl",
    "papermill": {
     "duration": 0.012161,
     "end_time": "2021-06-11T12:18:56.703012",
     "exception": false,
     "start_time": "2021-06-11T12:18:56.690851",
     "status": "completed"
    },
    "tags": []
   },
   "source": [
    "## Prepare data for model training"
   ]
  },
  {
   "cell_type": "code",
   "execution_count": 2,
   "id": "wooden-aviation",
   "metadata": {
    "execution": {
     "iopub.execute_input": "2021-06-11T12:18:56.733309Z",
     "iopub.status.busy": "2021-06-11T12:18:56.732593Z",
     "iopub.status.idle": "2021-06-11T12:18:57.407919Z",
     "shell.execute_reply": "2021-06-11T12:18:57.407377Z",
     "shell.execute_reply.started": "2021-06-11T12:04:38.283593Z"
    },
    "executionInfo": {
     "elapsed": 10043,
     "status": "ok",
     "timestamp": 1616326444482,
     "user": {
      "displayName": "TAPAS DAS",
      "photoUrl": "https://lh3.googleusercontent.com/a-/AOh14GiyffdGKiPCR_UwVittzTcbBFms70IkGfU15fatCA=s64",
      "userId": "10798398878324948542"
     },
     "user_tz": -330
    },
    "id": "VdhgoIAmSUxK",
    "outputId": "7897cfad-c8d4-46d9-86ea-04de37e11444",
    "papermill": {
     "duration": 0.69257,
     "end_time": "2021-06-11T12:18:57.408062",
     "exception": false,
     "start_time": "2021-06-11T12:18:56.715492",
     "status": "completed"
    },
    "tags": []
   },
   "outputs": [
    {
     "data": {
      "text/plain": [
       "0"
      ]
     },
     "execution_count": 2,
     "metadata": {},
     "output_type": "execute_result"
    }
   ],
   "source": [
    "with open(\"../input/he-ffi-preprocess-data-v2-3/HE_FFI_Dataset.txt\", 'rb') as handle: \n",
    "    data = handle.read()\n",
    "\n",
    "processed_data = pickle.loads(data)\n",
    "train_df = processed_data['train_df']\n",
    "test_df = processed_data['test_df']\n",
    "\n",
    "del processed_data\n",
    "gc.collect()"
   ]
  },
  {
   "cell_type": "code",
   "execution_count": 3,
   "id": "productive-medicine",
   "metadata": {
    "execution": {
     "iopub.execute_input": "2021-06-11T12:18:57.450825Z",
     "iopub.status.busy": "2021-06-11T12:18:57.450167Z",
     "iopub.status.idle": "2021-06-11T12:18:57.460952Z",
     "shell.execute_reply": "2021-06-11T12:18:57.461667Z",
     "shell.execute_reply.started": "2021-06-11T12:04:38.687474Z"
    },
    "papermill": {
     "duration": 0.040817,
     "end_time": "2021-06-11T12:18:57.461965",
     "exception": false,
     "start_time": "2021-06-11T12:18:57.421148",
     "status": "completed"
    },
    "tags": []
   },
   "outputs": [
    {
     "name": "stdout",
     "output_type": "stream",
     "text": [
      "[0, 6, 7, 3, 8, 12, 13]\n"
     ]
    }
   ],
   "source": [
    "cat_cols = ['Insurance_company','expiry_dt_year','expiry_dt_quarter','Condition',\n",
    "            'expiry_dt_month','expiry_dt_day_week','expiry_dt_day_weekend']\n",
    "\n",
    "train_df[cat_cols] = train_df[cat_cols].astype(int)\n",
    "test_df[cat_cols] = test_df[cat_cols].astype(int)\n",
    "cat_cols_indices = [train_df.columns.get_loc(col) for col in cat_cols]\n",
    "print(cat_cols_indices)"
   ]
  },
  {
   "cell_type": "code",
   "execution_count": 4,
   "id": "activated-lotus",
   "metadata": {
    "execution": {
     "iopub.execute_input": "2021-06-11T12:18:57.497624Z",
     "iopub.status.busy": "2021-06-11T12:18:57.496927Z",
     "iopub.status.idle": "2021-06-11T12:18:57.637726Z",
     "shell.execute_reply": "2021-06-11T12:18:57.636862Z",
     "shell.execute_reply.started": "2021-06-11T12:04:38.714918Z"
    },
    "executionInfo": {
     "elapsed": 2058,
     "status": "ok",
     "timestamp": 1616326525321,
     "user": {
      "displayName": "TAPAS DAS",
      "photoUrl": "https://lh3.googleusercontent.com/a-/AOh14GiyffdGKiPCR_UwVittzTcbBFms70IkGfU15fatCA=s64",
      "userId": "10798398878324948542"
     },
     "user_tz": -330
    },
    "id": "UAfyHbeASU7C",
    "outputId": "14c429a7-7b43-4065-afae-da7d4f6679a9",
    "papermill": {
     "duration": 0.161431,
     "end_time": "2021-06-11T12:18:57.637911",
     "exception": false,
     "start_time": "2021-06-11T12:18:57.476480",
     "status": "completed"
    },
    "tags": []
   },
   "outputs": [
    {
     "name": "stdout",
     "output_type": "stream",
     "text": [
      "Xtrain: (1382, 1691) \n",
      "Ytrain: (1382,) \n",
      "Xtest: (600, 1691)\n"
     ]
    },
    {
     "data": {
      "text/plain": [
       "0"
      ]
     },
     "execution_count": 4,
     "metadata": {},
     "output_type": "execute_result"
    }
   ],
   "source": [
    "Xtrain = train_df.loc[:, ~train_df.columns.isin(['Image_path','Amount'])].values\n",
    "Ytrain = train_df['Amount'].values\n",
    "Ytrain_strat = pd.qcut(train_df['Amount'].values, q=5, labels=range(0,5))\n",
    "Xtest = test_df.loc[:, ~test_df.columns.isin(['Image_path'])].values\n",
    "\n",
    "print(\"Xtrain: {} \\nYtrain: {} \\nXtest: {}\".format(Xtrain.shape, Ytrain.shape, Xtest.shape))\n",
    "\n",
    "del train_df\n",
    "del test_df\n",
    "gc.collect()"
   ]
  },
  {
   "cell_type": "markdown",
   "id": "proud-brain",
   "metadata": {
    "id": "9wNC5rWEVnjd",
    "papermill": {
     "duration": 0.013793,
     "end_time": "2021-06-11T12:18:57.666596",
     "exception": false,
     "start_time": "2021-06-11T12:18:57.652803",
     "status": "completed"
    },
    "tags": []
   },
   "source": [
    "## Build and validate the model"
   ]
  },
  {
   "cell_type": "code",
   "execution_count": 5,
   "id": "circular-jacket",
   "metadata": {
    "execution": {
     "iopub.execute_input": "2021-06-11T12:18:57.701380Z",
     "iopub.status.busy": "2021-06-11T12:18:57.700709Z",
     "iopub.status.idle": "2021-06-11T12:18:57.703730Z",
     "shell.execute_reply": "2021-06-11T12:18:57.703095Z",
     "shell.execute_reply.started": "2021-06-11T12:11:24.047608Z"
    },
    "papermill": {
     "duration": 0.023302,
     "end_time": "2021-06-11T12:18:57.703865",
     "exception": false,
     "start_time": "2021-06-11T12:18:57.680563",
     "status": "completed"
    },
    "tags": []
   },
   "outputs": [],
   "source": [
    "params = {}\n",
    "params[\"objective\"] = 'regression'\n",
    "params[\"metric\"] = 'rmse'\n",
    "params[\"boosting\"] = 'gbdt'\n",
    "#params[\"device_type\"] = 'gpu'\n",
    "params[\"learning_rate\"] = 0.0195\n",
    "params[\"lambda_l2\"] = 0.1192\n",
    "params[\"num_leaves\"] = 300\n",
    "params[\"max_depth\"] = 7\n",
    "params[\"feature_fraction\"] = 0.8466\n",
    "params[\"bagging_fraction\"] = 0.7914\n",
    "params[\"bagging_freq\"] = 3\n",
    "params[\"min_data_in_leaf\"] = 12\n",
    "params[\"verbosity\"] = -1\n",
    "num_rounds = 8000"
   ]
  },
  {
   "cell_type": "code",
   "execution_count": 6,
   "id": "occasional-framing",
   "metadata": {
    "execution": {
     "iopub.execute_input": "2021-06-11T12:18:57.734808Z",
     "iopub.status.busy": "2021-06-11T12:18:57.734144Z",
     "iopub.status.idle": "2021-06-11T12:22:20.716161Z",
     "shell.execute_reply": "2021-06-11T12:22:20.716743Z",
     "shell.execute_reply.started": "2021-06-11T12:11:24.606799Z"
    },
    "id": "uWPosEORSVBp",
    "outputId": "d70ac047-a86b-4f36-84cc-960b1b5316be",
    "papermill": {
     "duration": 202.999114,
     "end_time": "2021-06-11T12:22:20.716959",
     "exception": false,
     "start_time": "2021-06-11T12:18:57.717845",
     "status": "completed"
    },
    "tags": []
   },
   "outputs": [
    {
     "name": "stdout",
     "output_type": "stream",
     "text": [
      "Training until validation scores don't improve for 100 rounds\n",
      "[200]\ttraining's rmse: 773.36\tvalid_1's rmse: 2445.45\n",
      "Early stopping, best iteration is:\n",
      "[107]\ttraining's rmse: 1299.35\tvalid_1's rmse: 2423.22\n",
      "\n",
      "Seed-24 | Fold-0 | OOF Score: 20.700223917608252\n",
      "\n",
      "Training until validation scores don't improve for 100 rounds\n",
      "Early stopping, best iteration is:\n",
      "[78]\ttraining's rmse: 1539.14\tvalid_1's rmse: 2387.42\n",
      "\n",
      "Seed-24 | Fold-1 | OOF Score: 19.313964317021316\n",
      "\n",
      "Training until validation scores don't improve for 100 rounds\n",
      "[200]\ttraining's rmse: 804.822\tvalid_1's rmse: 2441.17\n",
      "Early stopping, best iteration is:\n",
      "[172]\ttraining's rmse: 946.905\tvalid_1's rmse: 2437.02\n",
      "\n",
      "Seed-24 | Fold-2 | OOF Score: 16.7221021342997\n",
      "\n",
      "Training until validation scores don't improve for 100 rounds\n",
      "[200]\ttraining's rmse: 768.247\tvalid_1's rmse: 2409.25\n",
      "Early stopping, best iteration is:\n",
      "[123]\ttraining's rmse: 1207.2\tvalid_1's rmse: 2390.71\n",
      "\n",
      "Seed-24 | Fold-3 | OOF Score: 24.479208309831\n",
      "\n",
      "Training until validation scores don't improve for 100 rounds\n",
      "Early stopping, best iteration is:\n",
      "[77]\ttraining's rmse: 1531.08\tvalid_1's rmse: 2500.26\n",
      "\n",
      "Seed-24 | Fold-4 | OOF Score: 16.447521985402346\n",
      "\n",
      "\n",
      "Seed: 24 | Aggregate OOF Score: 19.532604132832525\n",
      "\n",
      "\n",
      "Training until validation scores don't improve for 100 rounds\n",
      "[200]\ttraining's rmse: 812.734\tvalid_1's rmse: 2390.86\n",
      "Early stopping, best iteration is:\n",
      "[280]\ttraining's rmse: 552.439\tvalid_1's rmse: 2383.07\n",
      "\n",
      "Seed-3 | Fold-0 | OOF Score: 20.989902564183225\n",
      "\n",
      "Training until validation scores don't improve for 100 rounds\n",
      "[200]\ttraining's rmse: 776.653\tvalid_1's rmse: 2486.26\n",
      "Early stopping, best iteration is:\n",
      "[126]\ttraining's rmse: 1151.44\tvalid_1's rmse: 2464.32\n",
      "\n",
      "Seed-3 | Fold-1 | OOF Score: 20.451172862310585\n",
      "\n",
      "Training until validation scores don't improve for 100 rounds\n",
      "[200]\ttraining's rmse: 791.648\tvalid_1's rmse: 2426.74\n",
      "Early stopping, best iteration is:\n",
      "[101]\ttraining's rmse: 1371.37\tvalid_1's rmse: 2418.39\n",
      "\n",
      "Seed-3 | Fold-2 | OOF Score: 20.88785520546771\n",
      "\n",
      "Training until validation scores don't improve for 100 rounds\n",
      "[200]\ttraining's rmse: 772.673\tvalid_1's rmse: 2459.15\n",
      "Early stopping, best iteration is:\n",
      "[106]\ttraining's rmse: 1301.32\tvalid_1's rmse: 2436.75\n",
      "\n",
      "Seed-3 | Fold-3 | OOF Score: 17.998948442672745\n",
      "\n",
      "Training until validation scores don't improve for 100 rounds\n",
      "[200]\ttraining's rmse: 790.326\tvalid_1's rmse: 2412.93\n",
      "Early stopping, best iteration is:\n",
      "[115]\ttraining's rmse: 1265.63\tvalid_1's rmse: 2402.4\n",
      "\n",
      "Seed-3 | Fold-4 | OOF Score: 19.8036997409757\n",
      "\n",
      "\n",
      "Seed: 3 | Aggregate OOF Score: 20.026315763121993\n",
      "\n",
      "\n",
      "Training until validation scores don't improve for 100 rounds\n",
      "[200]\ttraining's rmse: 743.874\tvalid_1's rmse: 2401.33\n",
      "Early stopping, best iteration is:\n",
      "[127]\ttraining's rmse: 1136.79\tvalid_1's rmse: 2394\n",
      "\n",
      "Seed-56 | Fold-0 | OOF Score: 17.607588769481765\n",
      "\n",
      "Training until validation scores don't improve for 100 rounds\n",
      "[200]\ttraining's rmse: 834.208\tvalid_1's rmse: 2500.31\n",
      "Early stopping, best iteration is:\n",
      "[132]\ttraining's rmse: 1170.5\tvalid_1's rmse: 2484.86\n",
      "\n",
      "Seed-56 | Fold-1 | OOF Score: 20.572483786131446\n",
      "\n",
      "Training until validation scores don't improve for 100 rounds\n",
      "[200]\ttraining's rmse: 735.047\tvalid_1's rmse: 2384.27\n",
      "Early stopping, best iteration is:\n",
      "[108]\ttraining's rmse: 1286.32\tvalid_1's rmse: 2364.58\n",
      "\n",
      "Seed-56 | Fold-2 | OOF Score: 19.563712816354737\n",
      "\n",
      "Training until validation scores don't improve for 100 rounds\n",
      "[200]\ttraining's rmse: 816.623\tvalid_1's rmse: 2402.86\n",
      "Early stopping, best iteration is:\n",
      "[125]\ttraining's rmse: 1220.69\tvalid_1's rmse: 2390.23\n",
      "\n",
      "Seed-56 | Fold-3 | OOF Score: 25.647518956345827\n",
      "\n",
      "Training until validation scores don't improve for 100 rounds\n",
      "[200]\ttraining's rmse: 793.795\tvalid_1's rmse: 2468.1\n",
      "Early stopping, best iteration is:\n",
      "[110]\ttraining's rmse: 1292.32\tvalid_1's rmse: 2447.93\n",
      "\n",
      "Seed-56 | Fold-4 | OOF Score: 17.73731785668363\n",
      "\n",
      "\n",
      "Seed: 56 | Aggregate OOF Score: 20.225724436999478\n",
      "\n",
      "\n",
      "Aggregate OOF Score: 19.928214777651327\n"
     ]
    }
   ],
   "source": [
    "FOLD = 5\n",
    "NUM_SEED = 3\n",
    "\n",
    "np.random.seed(3)\n",
    "seeds = np.random.randint(0, 100, size=NUM_SEED)\n",
    "\n",
    "oof_score = 0\n",
    "y_pred_meta_lgb = np.zeros((Ytrain.shape[0], 1))\n",
    "y_pred_final_lgb = 0\n",
    "counter = 0\n",
    "\n",
    "\n",
    "for sidx, seed in enumerate(seeds):\n",
    "    seed_score = 0\n",
    "    \n",
    "    kfold = StratifiedKFold(n_splits=FOLD, shuffle=True, random_state=seed)\n",
    "\n",
    "    for idx, (train, val) in enumerate(kfold.split(Xtrain, Ytrain_strat)):\n",
    "        counter += 1\n",
    "\n",
    "        train_x, train_y = Xtrain[train], Ytrain[train]\n",
    "        val_x, val_y = Xtrain[val], Ytrain[val]\n",
    "\n",
    "        lgtrain = lgb.Dataset(train_x, label=train_y)\n",
    "        lgvalidation = lgb.Dataset(val_x, label=val_y)\n",
    "\n",
    "        model = lgb.train(params, lgtrain, num_rounds, \n",
    "                          valid_sets=[lgtrain, lgvalidation], \n",
    "                          categorical_feature=cat_cols_indices,\n",
    "                          early_stopping_rounds=100, verbose_eval=200)\n",
    "\n",
    "        y_pred = model.predict(val_x, num_iteration=model.best_iteration)\n",
    "        y_pred_meta_lgb[val] += np.array([y_pred]).T\n",
    "        y_pred_final_lgb += model.predict(Xtest, num_iteration=model.best_iteration)\n",
    "        \n",
    "        score = 100 * r2_score(val_y, y_pred)\n",
    "        oof_score += score\n",
    "        seed_score += score\n",
    "        print(\"\\nSeed-{} | Fold-{} | OOF Score: {}\\n\".format(seed, idx, score))\n",
    "    \n",
    "    print(\"\\nSeed: {} | Aggregate OOF Score: {}\\n\\n\".format(seed, (seed_score / FOLD)))\n",
    "\n",
    "\n",
    "y_pred_meta_lgb = y_pred_meta_lgb / float(NUM_SEED)\n",
    "y_pred_final_lgb = y_pred_final_lgb / float(counter)\n",
    "oof_score /= float(counter)\n",
    "print(\"Aggregate OOF Score: {}\".format(oof_score))"
   ]
  },
  {
   "cell_type": "code",
   "execution_count": 7,
   "id": "assured-cartridge",
   "metadata": {
    "execution": {
     "iopub.execute_input": "2021-06-11T12:22:20.778421Z",
     "iopub.status.busy": "2021-06-11T12:22:20.777686Z",
     "iopub.status.idle": "2021-06-11T12:22:20.781338Z",
     "shell.execute_reply": "2021-06-11T12:22:20.780714Z",
     "shell.execute_reply.started": "2021-05-26T09:36:00.251819Z"
    },
    "id": "uLzmS7LzXvXy",
    "papermill": {
     "duration": 0.036342,
     "end_time": "2021-06-11T12:22:20.781500",
     "exception": false,
     "start_time": "2021-06-11T12:22:20.745158",
     "status": "completed"
    },
    "tags": []
   },
   "outputs": [],
   "source": [
    "np.savez_compressed('./LGB_Meta_Features.npz',\n",
    "                    y_pred_meta_lgb=y_pred_meta_lgb, \n",
    "                    oof_score=oof_score,\n",
    "                    y_pred_final_lgb=y_pred_final_lgb)"
   ]
  },
  {
   "cell_type": "markdown",
   "id": "empty-alfred",
   "metadata": {
    "papermill": {
     "duration": 0.026903,
     "end_time": "2021-06-11T12:22:20.835152",
     "exception": false,
     "start_time": "2021-06-11T12:22:20.808249",
     "status": "completed"
    },
    "tags": []
   },
   "source": [
    "## Create submission file"
   ]
  },
  {
   "cell_type": "code",
   "execution_count": 8,
   "id": "several-tract",
   "metadata": {
    "execution": {
     "iopub.execute_input": "2021-06-11T12:22:20.893583Z",
     "iopub.status.busy": "2021-06-11T12:22:20.892913Z",
     "iopub.status.idle": "2021-06-11T12:22:21.095503Z",
     "shell.execute_reply": "2021-06-11T12:22:21.094869Z",
     "shell.execute_reply.started": "2021-05-31T11:01:45.982189Z"
    },
    "papermill": {
     "duration": 0.234023,
     "end_time": "2021-06-11T12:22:21.095656",
     "exception": false,
     "start_time": "2021-06-11T12:22:20.861633",
     "status": "completed"
    },
    "tags": []
   },
   "outputs": [
    {
     "data": {
      "text/plain": [
       "559"
      ]
     },
     "execution_count": 8,
     "metadata": {},
     "output_type": "execute_result"
    }
   ],
   "source": [
    "with open(\"../input/he-ffi-preprocess-data/HE_FFI_Dataset.txt\", 'rb') as handle: \n",
    "    data = handle.read()\n",
    "\n",
    "processed_data = pickle.loads(data)\n",
    "test_df = processed_data['test_df']\n",
    "\n",
    "del processed_data\n",
    "gc.collect()"
   ]
  },
  {
   "cell_type": "code",
   "execution_count": 9,
   "id": "broken-northeast",
   "metadata": {
    "execution": {
     "iopub.execute_input": "2021-06-11T12:22:21.158950Z",
     "iopub.status.busy": "2021-06-11T12:22:21.158163Z",
     "iopub.status.idle": "2021-06-11T12:22:21.223989Z",
     "shell.execute_reply": "2021-06-11T12:22:21.224487Z"
    },
    "papermill": {
     "duration": 0.100355,
     "end_time": "2021-06-11T12:22:21.224684",
     "exception": false,
     "start_time": "2021-06-11T12:22:21.124329",
     "status": "completed"
    },
    "tags": []
   },
   "outputs": [
    {
     "data": {
      "text/html": [
       "<div>\n",
       "<style scoped>\n",
       "    .dataframe tbody tr th:only-of-type {\n",
       "        vertical-align: middle;\n",
       "    }\n",
       "\n",
       "    .dataframe tbody tr th {\n",
       "        vertical-align: top;\n",
       "    }\n",
       "\n",
       "    .dataframe thead th {\n",
       "        text-align: right;\n",
       "    }\n",
       "</style>\n",
       "<table border=\"1\" class=\"dataframe\">\n",
       "  <thead>\n",
       "    <tr style=\"text-align: right;\">\n",
       "      <th></th>\n",
       "      <th>Image_path</th>\n",
       "      <th>Condition</th>\n",
       "      <th>Amount</th>\n",
       "    </tr>\n",
       "  </thead>\n",
       "  <tbody>\n",
       "    <tr>\n",
       "      <th>0</th>\n",
       "      <td>img_4538519.jpg</td>\n",
       "      <td>1.0</td>\n",
       "      <td>2836.598877</td>\n",
       "    </tr>\n",
       "    <tr>\n",
       "      <th>1</th>\n",
       "      <td>img_7766002.jpg</td>\n",
       "      <td>1.0</td>\n",
       "      <td>3756.360259</td>\n",
       "    </tr>\n",
       "    <tr>\n",
       "      <th>2</th>\n",
       "      <td>img_4637390.jpg</td>\n",
       "      <td>1.0</td>\n",
       "      <td>4218.733507</td>\n",
       "    </tr>\n",
       "    <tr>\n",
       "      <th>3</th>\n",
       "      <td>img_4516108.jpg</td>\n",
       "      <td>1.0</td>\n",
       "      <td>3959.950351</td>\n",
       "    </tr>\n",
       "    <tr>\n",
       "      <th>4</th>\n",
       "      <td>img_4517008.jpg</td>\n",
       "      <td>1.0</td>\n",
       "      <td>3941.642869</td>\n",
       "    </tr>\n",
       "  </tbody>\n",
       "</table>\n",
       "</div>"
      ],
      "text/plain": [
       "        Image_path  Condition       Amount\n",
       "0  img_4538519.jpg        1.0  2836.598877\n",
       "1  img_7766002.jpg        1.0  3756.360259\n",
       "2  img_4637390.jpg        1.0  4218.733507\n",
       "3  img_4516108.jpg        1.0  3959.950351\n",
       "4  img_4517008.jpg        1.0  3941.642869"
      ]
     },
     "execution_count": 9,
     "metadata": {},
     "output_type": "execute_result"
    }
   ],
   "source": [
    "test_df1 = pd.read_csv(\"../input/he-fast-furious-insured/dataset/test.csv\")\n",
    "\n",
    "submit_df = pd.DataFrame()\n",
    "submit_df['Image_path'] = test_df1['Image_path']\n",
    "submit_df['Condition'] = test_df['Condition']\n",
    "submit_df['Amount'] = y_pred_final_lgb\n",
    "\n",
    "submit_df.to_csv(\"./LGB_Submission_wo_Adjustment.csv\", index=False)\n",
    "submit_df.head()"
   ]
  },
  {
   "cell_type": "code",
   "execution_count": 10,
   "id": "duplicate-playback",
   "metadata": {
    "execution": {
     "iopub.execute_input": "2021-06-11T12:22:21.285797Z",
     "iopub.status.busy": "2021-06-11T12:22:21.285134Z",
     "iopub.status.idle": "2021-06-11T12:22:21.306497Z",
     "shell.execute_reply": "2021-06-11T12:22:21.305917Z",
     "shell.execute_reply.started": "2021-05-31T11:02:23.948495Z"
    },
    "executionInfo": {
     "elapsed": 3141,
     "status": "ok",
     "timestamp": 1616223489651,
     "user": {
      "displayName": "TAPAS DAS",
      "photoUrl": "https://lh3.googleusercontent.com/a-/AOh14GiyffdGKiPCR_UwVittzTcbBFms70IkGfU15fatCA=s64",
      "userId": "10798398878324948542"
     },
     "user_tz": -330
    },
    "id": "zGEGOAJHVoHV",
    "outputId": "11f9ca4c-9cca-46f6-b9a6-907ad0a09927",
    "papermill": {
     "duration": 0.054456,
     "end_time": "2021-06-11T12:22:21.306634",
     "exception": false,
     "start_time": "2021-06-11T12:22:21.252178",
     "status": "completed"
    },
    "tags": []
   },
   "outputs": [
    {
     "data": {
      "text/html": [
       "<div>\n",
       "<style scoped>\n",
       "    .dataframe tbody tr th:only-of-type {\n",
       "        vertical-align: middle;\n",
       "    }\n",
       "\n",
       "    .dataframe tbody tr th {\n",
       "        vertical-align: top;\n",
       "    }\n",
       "\n",
       "    .dataframe thead th {\n",
       "        text-align: right;\n",
       "    }\n",
       "</style>\n",
       "<table border=\"1\" class=\"dataframe\">\n",
       "  <thead>\n",
       "    <tr style=\"text-align: right;\">\n",
       "      <th></th>\n",
       "      <th>Image_path</th>\n",
       "      <th>Condition</th>\n",
       "      <th>Amount</th>\n",
       "    </tr>\n",
       "  </thead>\n",
       "  <tbody>\n",
       "    <tr>\n",
       "      <th>0</th>\n",
       "      <td>img_4538519.jpg</td>\n",
       "      <td>1.0</td>\n",
       "      <td>2836.598877</td>\n",
       "    </tr>\n",
       "    <tr>\n",
       "      <th>1</th>\n",
       "      <td>img_7766002.jpg</td>\n",
       "      <td>1.0</td>\n",
       "      <td>3756.360259</td>\n",
       "    </tr>\n",
       "    <tr>\n",
       "      <th>2</th>\n",
       "      <td>img_4637390.jpg</td>\n",
       "      <td>1.0</td>\n",
       "      <td>4218.733507</td>\n",
       "    </tr>\n",
       "    <tr>\n",
       "      <th>3</th>\n",
       "      <td>img_4516108.jpg</td>\n",
       "      <td>1.0</td>\n",
       "      <td>3959.950351</td>\n",
       "    </tr>\n",
       "    <tr>\n",
       "      <th>4</th>\n",
       "      <td>img_4517008.jpg</td>\n",
       "      <td>1.0</td>\n",
       "      <td>3941.642869</td>\n",
       "    </tr>\n",
       "  </tbody>\n",
       "</table>\n",
       "</div>"
      ],
      "text/plain": [
       "        Image_path  Condition       Amount\n",
       "0  img_4538519.jpg        1.0  2836.598877\n",
       "1  img_7766002.jpg        1.0  3756.360259\n",
       "2  img_4637390.jpg        1.0  4218.733507\n",
       "3  img_4516108.jpg        1.0  3959.950351\n",
       "4  img_4517008.jpg        1.0  3941.642869"
      ]
     },
     "execution_count": 10,
     "metadata": {},
     "output_type": "execute_result"
    }
   ],
   "source": [
    "test_df1 = pd.read_csv(\"../input/he-fast-furious-insured/dataset/test.csv\")\n",
    "\n",
    "submit_df = pd.DataFrame()\n",
    "submit_df['Image_path'] = test_df1['Image_path']\n",
    "submit_df['Condition'] = test_df['Condition']\n",
    "submit_df['Amount'] = y_pred_final_lgb\n",
    "submit_df.loc[test_df['Condition']==0, 'Amount'] = 0\n",
    "\n",
    "submit_df.to_csv(\"./LGB_Submission_w_Adjustment.csv\", index=False)\n",
    "submit_df.head()"
   ]
  },
  {
   "cell_type": "code",
   "execution_count": null,
   "id": "domestic-sunday",
   "metadata": {
    "id": "W2c88MvxXm65",
    "papermill": {
     "duration": 0.027394,
     "end_time": "2021-06-11T12:22:21.361880",
     "exception": false,
     "start_time": "2021-06-11T12:22:21.334486",
     "status": "completed"
    },
    "tags": []
   },
   "outputs": [],
   "source": []
  }
 ],
 "metadata": {
  "kernelspec": {
   "display_name": "Python 3",
   "language": "python",
   "name": "python3"
  },
  "language_info": {
   "codemirror_mode": {
    "name": "ipython",
    "version": 3
   },
   "file_extension": ".py",
   "mimetype": "text/x-python",
   "name": "python",
   "nbconvert_exporter": "python",
   "pygments_lexer": "ipython3",
   "version": "3.7.10"
  },
  "papermill": {
   "default_parameters": {},
   "duration": 216.999703,
   "end_time": "2021-06-11T12:22:23.117990",
   "environment_variables": {},
   "exception": null,
   "input_path": "__notebook__.ipynb",
   "output_path": "__notebook__.ipynb",
   "parameters": {},
   "start_time": "2021-06-11T12:18:46.118287",
   "version": "2.3.3"
  }
 },
 "nbformat": 4,
 "nbformat_minor": 5
}
