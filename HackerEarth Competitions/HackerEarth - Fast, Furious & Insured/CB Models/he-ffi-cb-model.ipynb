{
 "cells": [
  {
   "cell_type": "markdown",
   "id": "mexican-shopper",
   "metadata": {
    "id": "uLz9OcH8SeET",
    "papermill": {
     "duration": 0.013869,
     "end_time": "2021-05-31T16:43:11.505661",
     "exception": false,
     "start_time": "2021-05-31T16:43:11.491792",
     "status": "completed"
    },
    "tags": []
   },
   "source": [
    "## Import libraries"
   ]
  },
  {
   "cell_type": "code",
   "execution_count": 1,
   "id": "median-desire",
   "metadata": {
    "execution": {
     "iopub.execute_input": "2021-05-31T16:43:11.537171Z",
     "iopub.status.busy": "2021-05-31T16:43:11.535125Z",
     "iopub.status.idle": "2021-05-31T16:43:12.802624Z",
     "shell.execute_reply": "2021-05-31T16:43:12.803165Z",
     "shell.execute_reply.started": "2021-05-31T14:32:11.148155Z"
    },
    "executionInfo": {
     "elapsed": 23727,
     "status": "ok",
     "timestamp": 1616326442041,
     "user": {
      "displayName": "TAPAS DAS",
      "photoUrl": "https://lh3.googleusercontent.com/a-/AOh14GiyffdGKiPCR_UwVittzTcbBFms70IkGfU15fatCA=s64",
      "userId": "10798398878324948542"
     },
     "user_tz": -330
    },
    "id": "E9svswc9SUuX",
    "papermill": {
     "duration": 1.285447,
     "end_time": "2021-05-31T16:43:12.803485",
     "exception": false,
     "start_time": "2021-05-31T16:43:11.518038",
     "status": "completed"
    },
    "tags": []
   },
   "outputs": [],
   "source": [
    "import gc\n",
    "import pickle\n",
    "import numpy as np\n",
    "import pandas as pd\n",
    "from sklearn.metrics import r2_score\n",
    "from catboost import CatBoostRegressor\n",
    "from sklearn.model_selection import StratifiedKFold"
   ]
  },
  {
   "cell_type": "markdown",
   "id": "celtic-blackberry",
   "metadata": {
    "id": "hg85SpW-S6hl",
    "papermill": {
     "duration": 0.012873,
     "end_time": "2021-05-31T16:43:12.830004",
     "exception": false,
     "start_time": "2021-05-31T16:43:12.817131",
     "status": "completed"
    },
    "tags": []
   },
   "source": [
    "## Prepare data for model training"
   ]
  },
  {
   "cell_type": "code",
   "execution_count": 2,
   "id": "primary-montgomery",
   "metadata": {
    "execution": {
     "iopub.execute_input": "2021-05-31T16:43:12.860552Z",
     "iopub.status.busy": "2021-05-31T16:43:12.859879Z",
     "iopub.status.idle": "2021-05-31T16:43:13.127307Z",
     "shell.execute_reply": "2021-05-31T16:43:13.127901Z",
     "shell.execute_reply.started": "2021-05-31T14:32:12.065599Z"
    },
    "executionInfo": {
     "elapsed": 10043,
     "status": "ok",
     "timestamp": 1616326444482,
     "user": {
      "displayName": "TAPAS DAS",
      "photoUrl": "https://lh3.googleusercontent.com/a-/AOh14GiyffdGKiPCR_UwVittzTcbBFms70IkGfU15fatCA=s64",
      "userId": "10798398878324948542"
     },
     "user_tz": -330
    },
    "id": "VdhgoIAmSUxK",
    "outputId": "7897cfad-c8d4-46d9-86ea-04de37e11444",
    "papermill": {
     "duration": 0.285768,
     "end_time": "2021-05-31T16:43:13.128076",
     "exception": false,
     "start_time": "2021-05-31T16:43:12.842308",
     "status": "completed"
    },
    "tags": []
   },
   "outputs": [
    {
     "data": {
      "text/plain": [
       "0"
      ]
     },
     "execution_count": 2,
     "metadata": {},
     "output_type": "execute_result"
    }
   ],
   "source": [
    "with open(\"../input/he-ffi-preprocess-data-v2-2/HE_FFI_Dataset.txt\", 'rb') as handle: \n",
    "    data = handle.read()\n",
    "\n",
    "processed_data = pickle.loads(data)\n",
    "train_df = processed_data['train_df']\n",
    "test_df = processed_data['test_df']\n",
    "\n",
    "del processed_data\n",
    "gc.collect()"
   ]
  },
  {
   "cell_type": "code",
   "execution_count": 3,
   "id": "settled-barbados",
   "metadata": {
    "execution": {
     "iopub.execute_input": "2021-05-31T16:43:13.168440Z",
     "iopub.status.busy": "2021-05-31T16:43:13.167386Z",
     "iopub.status.idle": "2021-05-31T16:43:13.182505Z",
     "shell.execute_reply": "2021-05-31T16:43:13.181907Z",
     "shell.execute_reply.started": "2021-05-31T14:32:12.674568Z"
    },
    "papermill": {
     "duration": 0.041263,
     "end_time": "2021-05-31T16:43:13.182663",
     "exception": false,
     "start_time": "2021-05-31T16:43:13.141400",
     "status": "completed"
    },
    "tags": []
   },
   "outputs": [
    {
     "name": "stdout",
     "output_type": "stream",
     "text": [
      "[0, 6, 7, 3, 8, 12, 13]\n"
     ]
    }
   ],
   "source": [
    "cat_cols = ['Insurance_company','expiry_dt_year','expiry_dt_quarter','Condition',\n",
    "            'expiry_dt_month','expiry_dt_day_week','expiry_dt_day_weekend']\n",
    "\n",
    "train_df[cat_cols] = train_df[cat_cols].astype(int)\n",
    "test_df[cat_cols] = test_df[cat_cols].astype(int)\n",
    "cat_cols_indices = [train_df.columns.get_loc(col) for col in cat_cols]\n",
    "print(cat_cols_indices)"
   ]
  },
  {
   "cell_type": "code",
   "execution_count": 4,
   "id": "generic-toronto",
   "metadata": {
    "execution": {
     "iopub.execute_input": "2021-05-31T16:43:13.225353Z",
     "iopub.status.busy": "2021-05-31T16:43:13.224061Z",
     "iopub.status.idle": "2021-05-31T16:43:13.327032Z",
     "shell.execute_reply": "2021-05-31T16:43:13.327576Z",
     "shell.execute_reply.started": "2021-05-31T14:32:12.70046Z"
    },
    "executionInfo": {
     "elapsed": 2058,
     "status": "ok",
     "timestamp": 1616326525321,
     "user": {
      "displayName": "TAPAS DAS",
      "photoUrl": "https://lh3.googleusercontent.com/a-/AOh14GiyffdGKiPCR_UwVittzTcbBFms70IkGfU15fatCA=s64",
      "userId": "10798398878324948542"
     },
     "user_tz": -330
    },
    "id": "UAfyHbeASU7C",
    "outputId": "14c429a7-7b43-4065-afae-da7d4f6679a9",
    "papermill": {
     "duration": 0.131913,
     "end_time": "2021-05-31T16:43:13.327754",
     "exception": false,
     "start_time": "2021-05-31T16:43:13.195841",
     "status": "completed"
    },
    "tags": []
   },
   "outputs": [
    {
     "name": "stdout",
     "output_type": "stream",
     "text": [
      "Xtrain: (1382, 1691) \n",
      "Ytrain: (1382,) \n",
      "Xtest: (600, 1691)\n"
     ]
    },
    {
     "data": {
      "text/plain": [
       "0"
      ]
     },
     "execution_count": 4,
     "metadata": {},
     "output_type": "execute_result"
    }
   ],
   "source": [
    "Xtrain = train_df.loc[:, ~train_df.columns.isin(['Image_path','Amount'])].copy()\n",
    "Ytrain = train_df['Amount'].copy()\n",
    "Ytrain_strat = pd.qcut(train_df['Amount'].values, q=5, labels=range(0,5))\n",
    "Xtest = test_df.loc[:, ~test_df.columns.isin(['Image_path'])].copy()\n",
    "\n",
    "print(\"Xtrain: {} \\nYtrain: {} \\nXtest: {}\".format(Xtrain.shape, Ytrain.shape, Xtest.shape))\n",
    "\n",
    "del train_df\n",
    "del test_df\n",
    "gc.collect()"
   ]
  },
  {
   "cell_type": "markdown",
   "id": "fossil-directory",
   "metadata": {
    "id": "9wNC5rWEVnjd",
    "papermill": {
     "duration": 0.013469,
     "end_time": "2021-05-31T16:43:13.355168",
     "exception": false,
     "start_time": "2021-05-31T16:43:13.341699",
     "status": "completed"
    },
    "tags": []
   },
   "source": [
    "## Build and validate the model"
   ]
  },
  {
   "cell_type": "code",
   "execution_count": 5,
   "id": "cultural-terror",
   "metadata": {
    "execution": {
     "iopub.execute_input": "2021-05-31T16:43:13.397957Z",
     "iopub.status.busy": "2021-05-31T16:43:13.397228Z",
     "iopub.status.idle": "2021-05-31T16:48:38.767275Z",
     "shell.execute_reply": "2021-05-31T16:48:38.768472Z",
     "shell.execute_reply.started": "2021-05-31T14:32:13.811186Z"
    },
    "id": "uWPosEORSVBp",
    "outputId": "d70ac047-a86b-4f36-84cc-960b1b5316be",
    "papermill": {
     "duration": 325.399346,
     "end_time": "2021-05-31T16:48:38.768741",
     "exception": false,
     "start_time": "2021-05-31T16:43:13.369395",
     "status": "completed"
    },
    "tags": []
   },
   "outputs": [
    {
     "name": "stdout",
     "output_type": "stream",
     "text": [
      "0:\tlearn: 2676.2045874\ttest: 2712.9200701\tbest: 2712.9200701 (0)\ttotal: 54ms\tremaining: 7m 11s\n",
      "200:\tlearn: 544.6360136\ttest: 2463.3699790\tbest: 2457.2884354 (107)\ttotal: 8.4s\tremaining: 5m 25s\n",
      "bestTest = 2457.288435\n",
      "bestIteration = 107\n",
      "Shrink model to first 108 iterations.\n",
      "Seed-24 | Fold-0 | OOF Score: 18.454469795539573\n",
      "0:\tlearn: 2691.6699790\ttest: 2650.2673988\tbest: 2650.2673988 (0)\ttotal: 52ms\tremaining: 6m 55s\n",
      "200:\tlearn: 564.4449322\ttest: 2366.0247396\tbest: 2365.3293556 (192)\ttotal: 9.15s\tremaining: 5m 55s\n",
      "400:\tlearn: 179.8114951\ttest: 2370.7925772\tbest: 2364.4112722 (229)\ttotal: 18s\tremaining: 5m 40s\n",
      "bestTest = 2364.411272\n",
      "bestIteration = 229\n",
      "Shrink model to first 230 iterations.\n",
      "Seed-24 | Fold-1 | OOF Score: 20.861542976719093\n",
      "0:\tlearn: 2689.1118858\ttest: 2664.4220408\tbest: 2664.4220408 (0)\ttotal: 52.8ms\tremaining: 7m 1s\n",
      "200:\tlearn: 552.1501748\ttest: 2432.7933489\tbest: 2430.3771282 (164)\ttotal: 9.22s\tremaining: 5m 57s\n",
      "bestTest = 2430.377128\n",
      "bestIteration = 164\n",
      "Shrink model to first 165 iterations.\n",
      "Seed-24 | Fold-2 | OOF Score: 17.1752525448847\n",
      "0:\tlearn: 2669.9210329\ttest: 2740.5010015\tbest: 2740.5010015 (0)\ttotal: 54.1ms\tremaining: 7m 12s\n",
      "200:\tlearn: 530.9801371\ttest: 2416.8625008\tbest: 2404.0578256 (126)\ttotal: 8.84s\tremaining: 5m 43s\n",
      "bestTest = 2404.057826\n",
      "bestIteration = 126\n",
      "Shrink model to first 127 iterations.\n",
      "Seed-24 | Fold-3 | OOF Score: 23.633867360808647\n",
      "0:\tlearn: 2673.4255707\ttest: 2726.4481114\tbest: 2726.4481114 (0)\ttotal: 52.7ms\tremaining: 7m 1s\n",
      "200:\tlearn: 547.0942740\ttest: 2490.2033210\tbest: 2466.6856247 (102)\ttotal: 10s\tremaining: 6m 29s\n",
      "bestTest = 2466.685625\n",
      "bestIteration = 102\n",
      "Shrink model to first 103 iterations.\n",
      "Seed-24 | Fold-4 | OOF Score: 18.67660732580313\n",
      "\n",
      "Seed: 24 | Aggregate OOF Score: 19.76034800075103\n",
      "\n",
      "\n",
      "0:\tlearn: 2686.4800702\ttest: 2673.8009020\tbest: 2673.8009020 (0)\ttotal: 52.1ms\tremaining: 6m 56s\n",
      "200:\tlearn: 557.4779406\ttest: 2398.1470585\tbest: 2386.4372491 (113)\ttotal: 8.59s\tremaining: 5m 33s\n",
      "bestTest = 2386.437249\n",
      "bestIteration = 113\n",
      "Shrink model to first 114 iterations.\n",
      "Seed-3 | Fold-0 | OOF Score: 20.766278100087387\n",
      "0:\tlearn: 2666.2860953\ttest: 2753.8413788\tbest: 2753.8413788 (0)\ttotal: 51.9ms\tremaining: 6m 55s\n",
      "200:\tlearn: 546.9990793\ttest: 2480.6395821\tbest: 2478.5649511 (121)\ttotal: 10.1s\tremaining: 6m 30s\n",
      "bestTest = 2478.564951\n",
      "bestIteration = 121\n",
      "Shrink model to first 122 iterations.\n",
      "Seed-3 | Fold-1 | OOF Score: 19.52877825183603\n",
      "0:\tlearn: 2677.5682363\ttest: 2711.2460155\tbest: 2711.2460155 (0)\ttotal: 73.7ms\tremaining: 9m 49s\n",
      "200:\tlearn: 561.0133430\ttest: 2443.5477178\tbest: 2433.7536584 (126)\ttotal: 8.34s\tremaining: 5m 23s\n",
      "bestTest = 2433.753658\n",
      "bestIteration = 126\n",
      "Shrink model to first 127 iterations.\n",
      "Seed-3 | Fold-2 | OOF Score: 19.879244684837772\n",
      "0:\tlearn: 2683.9641622\ttest: 2684.8083191\tbest: 2684.8083191 (0)\ttotal: 52ms\tremaining: 6m 56s\n",
      "200:\tlearn: 542.4182141\ttest: 2457.4229933\tbest: 2448.5144861 (124)\ttotal: 9.24s\tremaining: 5m 58s\n",
      "bestTest = 2448.514486\n",
      "bestIteration = 124\n",
      "Shrink model to first 125 iterations.\n",
      "Seed-3 | Fold-3 | OOF Score: 17.20528802426633\n",
      "0:\tlearn: 2686.5260748\ttest: 2672.5183043\tbest: 2672.5183043 (0)\ttotal: 50.1ms\tremaining: 6m 41s\n",
      "200:\tlearn: 543.9140449\ttest: 2414.5484650\tbest: 2410.4984871 (107)\ttotal: 8.8s\tremaining: 5m 41s\n",
      "bestTest = 2410.498487\n",
      "bestIteration = 107\n",
      "Shrink model to first 108 iterations.\n",
      "Seed-3 | Fold-4 | OOF Score: 19.26215936388578\n",
      "\n",
      "Seed: 3 | Aggregate OOF Score: 19.328349684982662\n",
      "\n",
      "\n",
      "0:\tlearn: 2696.0820536\ttest: 2624.7720974\tbest: 2624.7720974 (0)\ttotal: 52.4ms\tremaining: 6m 59s\n",
      "200:\tlearn: 535.6227483\ttest: 2392.1799915\tbest: 2384.6073900 (156)\ttotal: 9.25s\tremaining: 5m 58s\n",
      "bestTest = 2384.60739\n",
      "bestIteration = 156\n",
      "Shrink model to first 157 iterations.\n",
      "Seed-56 | Fold-0 | OOF Score: 18.25259847777915\n",
      "0:\tlearn: 2660.1965647\ttest: 2778.3552052\tbest: 2778.3552052 (0)\ttotal: 162ms\tremaining: 21m 39s\n",
      "200:\tlearn: 559.9047107\ttest: 2514.5858061\tbest: 2511.2344484 (93)\ttotal: 8.7s\tremaining: 5m 37s\n",
      "bestTest = 2511.234448\n",
      "bestIteration = 93\n",
      "Shrink model to first 94 iterations.\n",
      "Seed-56 | Fold-1 | OOF Score: 18.87737018384269\n",
      "0:\tlearn: 2696.7646653\ttest: 2625.5640443\tbest: 2625.5640443 (0)\ttotal: 51.4ms\tremaining: 6m 51s\n",
      "200:\tlearn: 543.3641109\ttest: 2352.9829357\tbest: 2344.6293857 (127)\ttotal: 8.98s\tremaining: 5m 48s\n",
      "bestTest = 2344.629386\n",
      "bestIteration = 127\n",
      "Shrink model to first 128 iterations.\n",
      "Seed-56 | Fold-2 | OOF Score: 20.91560455869127\n",
      "0:\tlearn: 2665.6235597\ttest: 2760.2434675\tbest: 2760.2434675 (0)\ttotal: 57.5ms\tremaining: 7m 39s\n",
      "200:\tlearn: 556.5649750\ttest: 2419.6562218\tbest: 2405.0083973 (133)\ttotal: 8.88s\tremaining: 5m 44s\n",
      "bestTest = 2405.008397\n",
      "bestIteration = 133\n",
      "Shrink model to first 134 iterations.\n",
      "Seed-56 | Fold-3 | OOF Score: 24.725390370832034\n",
      "0:\tlearn: 2682.9430603\ttest: 2691.2597557\tbest: 2691.2597557 (0)\ttotal: 51.4ms\tremaining: 6m 50s\n",
      "200:\tlearn: 555.3235637\ttest: 2494.8583417\tbest: 2477.8512430 (91)\ttotal: 8.92s\tremaining: 5m 46s\n",
      "bestTest = 2477.851243\n",
      "bestIteration = 91\n",
      "Shrink model to first 92 iterations.\n",
      "Seed-56 | Fold-4 | OOF Score: 15.714165595074881\n",
      "\n",
      "Seed: 56 | Aggregate OOF Score: 19.697025837244006\n",
      "\n",
      "\n",
      "Aggregate OOF Score: 19.5952411743259\n"
     ]
    }
   ],
   "source": [
    "FOLD = 5\n",
    "NUM_SEED = 3\n",
    "\n",
    "np.random.seed(3)\n",
    "seeds = np.random.randint(0, 100, size=NUM_SEED)\n",
    "\n",
    "oof_score = 0\n",
    "y_pred_meta_cb = np.zeros((Ytrain.shape[0], 1))\n",
    "y_pred_final_cb = 0\n",
    "counter = 0\n",
    "\n",
    "\n",
    "for sidx, seed in enumerate(seeds):\n",
    "    seed_score = 0\n",
    "    \n",
    "    kfold = StratifiedKFold(n_splits=FOLD, shuffle=True, random_state=seed)\n",
    "\n",
    "    for idx, (train, val) in enumerate(kfold.split(Xtrain.values, Ytrain_strat)):\n",
    "        counter += 1\n",
    "\n",
    "        train_x, train_y = Xtrain.iloc[train], Ytrain.iloc[train]\n",
    "        val_x, val_y = Xtrain.iloc[val], Ytrain.iloc[val]\n",
    "\n",
    "        model = CatBoostRegressor(\n",
    "            objective='RMSE',\n",
    "            eval_metric='RMSE',\n",
    "            num_boost_round=8000,\n",
    "            learning_rate=0.0177,\n",
    "            reg_lambda=0.8454,\n",
    "            bootstrap_type='Poisson',\n",
    "            subsample=0.9221,\n",
    "            max_depth=11, \n",
    "            grow_policy='Lossguide',\n",
    "            min_data_in_leaf=7, \n",
    "            max_leaves=54,\n",
    "            task_type='GPU',\n",
    "            verbose=0\n",
    "        )\n",
    "\n",
    "        model.fit(train_x, train_y, eval_set=[(val_x, val_y)], \n",
    "                  cat_features=cat_cols_indices,\n",
    "                  early_stopping_rounds=200, verbose=200)\n",
    "\n",
    "        y_pred = model.predict(val_x)\n",
    "        y_pred_meta_cb[val] += np.array([y_pred]).T\n",
    "        y_pred_final_cb += model.predict(Xtest)\n",
    "        \n",
    "        score = 100 * r2_score(val_y, y_pred)\n",
    "        oof_score += score\n",
    "        seed_score += score\n",
    "        print(\"Seed-{} | Fold-{} | OOF Score: {}\".format(seed, idx, score))\n",
    "    \n",
    "    print(\"\\nSeed: {} | Aggregate OOF Score: {}\\n\\n\".format(seed, (seed_score / FOLD)))\n",
    "\n",
    "\n",
    "y_pred_meta_cb = y_pred_meta_cb / float(counter)\n",
    "y_pred_final_cb = y_pred_final_cb / float(counter)\n",
    "oof_score /= float(counter)\n",
    "print(\"Aggregate OOF Score: {}\".format(oof_score))"
   ]
  },
  {
   "cell_type": "code",
   "execution_count": 6,
   "id": "friendly-stadium",
   "metadata": {
    "execution": {
     "iopub.execute_input": "2021-05-31T16:48:38.880734Z",
     "iopub.status.busy": "2021-05-31T16:48:38.879789Z",
     "iopub.status.idle": "2021-05-31T16:48:38.884652Z",
     "shell.execute_reply": "2021-05-31T16:48:38.885337Z",
     "shell.execute_reply.started": "2021-05-26T09:02:14.574835Z"
    },
    "id": "uLzmS7LzXvXy",
    "papermill": {
     "duration": 0.065601,
     "end_time": "2021-05-31T16:48:38.885558",
     "exception": false,
     "start_time": "2021-05-31T16:48:38.819957",
     "status": "completed"
    },
    "tags": []
   },
   "outputs": [],
   "source": [
    "np.savez_compressed('./CB_Meta_Features.npz',\n",
    "                    y_pred_meta_cb=y_pred_meta_cb, \n",
    "                    oof_score=oof_score,\n",
    "                    y_pred_final_cb=y_pred_final_cb)"
   ]
  },
  {
   "cell_type": "markdown",
   "id": "manual-cattle",
   "metadata": {
    "papermill": {
     "duration": 0.05049,
     "end_time": "2021-05-31T16:48:38.986906",
     "exception": false,
     "start_time": "2021-05-31T16:48:38.936416",
     "status": "completed"
    },
    "tags": []
   },
   "source": [
    "## Create submission file"
   ]
  },
  {
   "cell_type": "code",
   "execution_count": 7,
   "id": "mineral-diamond",
   "metadata": {
    "execution": {
     "iopub.execute_input": "2021-05-31T16:48:39.094199Z",
     "iopub.status.busy": "2021-05-31T16:48:39.092934Z",
     "iopub.status.idle": "2021-05-31T16:48:39.243048Z",
     "shell.execute_reply": "2021-05-31T16:48:39.244109Z",
     "shell.execute_reply.started": "2021-05-26T09:02:19.50546Z"
    },
    "executionInfo": {
     "elapsed": 3141,
     "status": "ok",
     "timestamp": 1616223489651,
     "user": {
      "displayName": "TAPAS DAS",
      "photoUrl": "https://lh3.googleusercontent.com/a-/AOh14GiyffdGKiPCR_UwVittzTcbBFms70IkGfU15fatCA=s64",
      "userId": "10798398878324948542"
     },
     "user_tz": -330
    },
    "id": "zGEGOAJHVoHV",
    "outputId": "11f9ca4c-9cca-46f6-b9a6-907ad0a09927",
    "papermill": {
     "duration": 0.206789,
     "end_time": "2021-05-31T16:48:39.244341",
     "exception": false,
     "start_time": "2021-05-31T16:48:39.037552",
     "status": "completed"
    },
    "tags": []
   },
   "outputs": [
    {
     "data": {
      "text/plain": [
       "40"
      ]
     },
     "execution_count": 7,
     "metadata": {},
     "output_type": "execute_result"
    }
   ],
   "source": [
    "with open(\"../input/he-ffi-preprocess-data/HE_FFI_Dataset.txt\", 'rb') as handle: \n",
    "    data = handle.read()\n",
    "\n",
    "processed_data = pickle.loads(data)\n",
    "test_df = processed_data['test_df']\n",
    "\n",
    "del processed_data\n",
    "gc.collect()"
   ]
  },
  {
   "cell_type": "code",
   "execution_count": 8,
   "id": "desirable-atmosphere",
   "metadata": {
    "execution": {
     "iopub.execute_input": "2021-05-31T16:48:39.361208Z",
     "iopub.status.busy": "2021-05-31T16:48:39.360269Z",
     "iopub.status.idle": "2021-05-31T16:48:39.625541Z",
     "shell.execute_reply": "2021-05-31T16:48:39.626353Z",
     "shell.execute_reply.started": "2021-05-26T09:02:22.534683Z"
    },
    "papermill": {
     "duration": 0.330752,
     "end_time": "2021-05-31T16:48:39.626528",
     "exception": false,
     "start_time": "2021-05-31T16:48:39.295776",
     "status": "completed"
    },
    "tags": []
   },
   "outputs": [
    {
     "data": {
      "text/html": [
       "<div>\n",
       "<style scoped>\n",
       "    .dataframe tbody tr th:only-of-type {\n",
       "        vertical-align: middle;\n",
       "    }\n",
       "\n",
       "    .dataframe tbody tr th {\n",
       "        vertical-align: top;\n",
       "    }\n",
       "\n",
       "    .dataframe thead th {\n",
       "        text-align: right;\n",
       "    }\n",
       "</style>\n",
       "<table border=\"1\" class=\"dataframe\">\n",
       "  <thead>\n",
       "    <tr style=\"text-align: right;\">\n",
       "      <th></th>\n",
       "      <th>Image_path</th>\n",
       "      <th>Condition</th>\n",
       "      <th>Amount</th>\n",
       "    </tr>\n",
       "  </thead>\n",
       "  <tbody>\n",
       "    <tr>\n",
       "      <th>0</th>\n",
       "      <td>img_4538519.jpg</td>\n",
       "      <td>1.0</td>\n",
       "      <td>3056.054086</td>\n",
       "    </tr>\n",
       "    <tr>\n",
       "      <th>1</th>\n",
       "      <td>img_7766002.jpg</td>\n",
       "      <td>1.0</td>\n",
       "      <td>4120.957088</td>\n",
       "    </tr>\n",
       "    <tr>\n",
       "      <th>2</th>\n",
       "      <td>img_4637390.jpg</td>\n",
       "      <td>1.0</td>\n",
       "      <td>4368.545914</td>\n",
       "    </tr>\n",
       "    <tr>\n",
       "      <th>3</th>\n",
       "      <td>img_4516108.jpg</td>\n",
       "      <td>1.0</td>\n",
       "      <td>4222.799556</td>\n",
       "    </tr>\n",
       "    <tr>\n",
       "      <th>4</th>\n",
       "      <td>img_4517008.jpg</td>\n",
       "      <td>1.0</td>\n",
       "      <td>3933.760296</td>\n",
       "    </tr>\n",
       "  </tbody>\n",
       "</table>\n",
       "</div>"
      ],
      "text/plain": [
       "        Image_path  Condition       Amount\n",
       "0  img_4538519.jpg        1.0  3056.054086\n",
       "1  img_7766002.jpg        1.0  4120.957088\n",
       "2  img_4637390.jpg        1.0  4368.545914\n",
       "3  img_4516108.jpg        1.0  4222.799556\n",
       "4  img_4517008.jpg        1.0  3933.760296"
      ]
     },
     "execution_count": 8,
     "metadata": {},
     "output_type": "execute_result"
    }
   ],
   "source": [
    "test_df1 = pd.read_csv(\"../input/he-fast-furious-insured/dataset/test.csv\")\n",
    "\n",
    "submit_df = pd.DataFrame()\n",
    "submit_df['Image_path'] = test_df1['Image_path']\n",
    "submit_df['Condition'] = test_df['Condition']\n",
    "submit_df['Amount'] = y_pred_final_cb\n",
    "\n",
    "submit_df.to_csv(\"./CB_Submission_wo_Adjustment.csv\", index=False)\n",
    "submit_df.head()"
   ]
  },
  {
   "cell_type": "code",
   "execution_count": 9,
   "id": "handed-might",
   "metadata": {
    "execution": {
     "iopub.execute_input": "2021-05-31T16:48:39.704843Z",
     "iopub.status.busy": "2021-05-31T16:48:39.703747Z",
     "iopub.status.idle": "2021-05-31T16:48:39.744568Z",
     "shell.execute_reply": "2021-05-31T16:48:39.743616Z"
    },
    "id": "W2c88MvxXm65",
    "papermill": {
     "duration": 0.082948,
     "end_time": "2021-05-31T16:48:39.744824",
     "exception": false,
     "start_time": "2021-05-31T16:48:39.661876",
     "status": "completed"
    },
    "tags": []
   },
   "outputs": [
    {
     "data": {
      "text/html": [
       "<div>\n",
       "<style scoped>\n",
       "    .dataframe tbody tr th:only-of-type {\n",
       "        vertical-align: middle;\n",
       "    }\n",
       "\n",
       "    .dataframe tbody tr th {\n",
       "        vertical-align: top;\n",
       "    }\n",
       "\n",
       "    .dataframe thead th {\n",
       "        text-align: right;\n",
       "    }\n",
       "</style>\n",
       "<table border=\"1\" class=\"dataframe\">\n",
       "  <thead>\n",
       "    <tr style=\"text-align: right;\">\n",
       "      <th></th>\n",
       "      <th>Image_path</th>\n",
       "      <th>Condition</th>\n",
       "      <th>Amount</th>\n",
       "    </tr>\n",
       "  </thead>\n",
       "  <tbody>\n",
       "    <tr>\n",
       "      <th>0</th>\n",
       "      <td>img_4538519.jpg</td>\n",
       "      <td>1.0</td>\n",
       "      <td>3056.054086</td>\n",
       "    </tr>\n",
       "    <tr>\n",
       "      <th>1</th>\n",
       "      <td>img_7766002.jpg</td>\n",
       "      <td>1.0</td>\n",
       "      <td>4120.957088</td>\n",
       "    </tr>\n",
       "    <tr>\n",
       "      <th>2</th>\n",
       "      <td>img_4637390.jpg</td>\n",
       "      <td>1.0</td>\n",
       "      <td>4368.545914</td>\n",
       "    </tr>\n",
       "    <tr>\n",
       "      <th>3</th>\n",
       "      <td>img_4516108.jpg</td>\n",
       "      <td>1.0</td>\n",
       "      <td>4222.799556</td>\n",
       "    </tr>\n",
       "    <tr>\n",
       "      <th>4</th>\n",
       "      <td>img_4517008.jpg</td>\n",
       "      <td>1.0</td>\n",
       "      <td>3933.760296</td>\n",
       "    </tr>\n",
       "  </tbody>\n",
       "</table>\n",
       "</div>"
      ],
      "text/plain": [
       "        Image_path  Condition       Amount\n",
       "0  img_4538519.jpg        1.0  3056.054086\n",
       "1  img_7766002.jpg        1.0  4120.957088\n",
       "2  img_4637390.jpg        1.0  4368.545914\n",
       "3  img_4516108.jpg        1.0  4222.799556\n",
       "4  img_4517008.jpg        1.0  3933.760296"
      ]
     },
     "execution_count": 9,
     "metadata": {},
     "output_type": "execute_result"
    }
   ],
   "source": [
    "test_df1 = pd.read_csv(\"../input/he-fast-furious-insured/dataset/test.csv\")\n",
    "\n",
    "submit_df = pd.DataFrame()\n",
    "submit_df['Image_path'] = test_df1['Image_path']\n",
    "submit_df['Condition'] = test_df['Condition']\n",
    "submit_df['Amount'] = y_pred_final_cb\n",
    "submit_df.loc[test_df['Condition']==0, 'Amount'] = 0\n",
    "\n",
    "submit_df.to_csv(\"./CB_Submission_w_Adjustment.csv\", index=False)\n",
    "submit_df.head()"
   ]
  },
  {
   "cell_type": "code",
   "execution_count": null,
   "id": "unusual-melissa",
   "metadata": {
    "papermill": {
     "duration": 0.035404,
     "end_time": "2021-05-31T16:48:39.816682",
     "exception": false,
     "start_time": "2021-05-31T16:48:39.781278",
     "status": "completed"
    },
    "tags": []
   },
   "outputs": [],
   "source": []
  }
 ],
 "metadata": {
  "kernelspec": {
   "display_name": "Python 3",
   "language": "python",
   "name": "python3"
  },
  "language_info": {
   "codemirror_mode": {
    "name": "ipython",
    "version": 3
   },
   "file_extension": ".py",
   "mimetype": "text/x-python",
   "name": "python",
   "nbconvert_exporter": "python",
   "pygments_lexer": "ipython3",
   "version": "3.7.10"
  },
  "papermill": {
   "default_parameters": {},
   "duration": 337.709051,
   "end_time": "2021-05-31T16:48:40.562728",
   "environment_variables": {},
   "exception": null,
   "input_path": "__notebook__.ipynb",
   "output_path": "__notebook__.ipynb",
   "parameters": {},
   "start_time": "2021-05-31T16:43:02.853677",
   "version": "2.3.3"
  }
 },
 "nbformat": 4,
 "nbformat_minor": 5
}
