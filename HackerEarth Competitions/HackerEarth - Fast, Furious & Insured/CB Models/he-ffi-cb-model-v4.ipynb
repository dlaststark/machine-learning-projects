{
 "cells": [
  {
   "cell_type": "markdown",
   "id": "affecting-industry",
   "metadata": {
    "id": "uLz9OcH8SeET",
    "papermill": {
     "duration": 0.010198,
     "end_time": "2021-06-11T16:30:54.840773",
     "exception": false,
     "start_time": "2021-06-11T16:30:54.830575",
     "status": "completed"
    },
    "tags": []
   },
   "source": [
    "## Import libraries"
   ]
  },
  {
   "cell_type": "code",
   "execution_count": 1,
   "id": "utility-surgery",
   "metadata": {
    "execution": {
     "iopub.execute_input": "2021-06-11T16:30:54.868973Z",
     "iopub.status.busy": "2021-06-11T16:30:54.868335Z",
     "iopub.status.idle": "2021-06-11T16:30:55.750585Z",
     "shell.execute_reply": "2021-06-11T16:30:55.749983Z",
     "shell.execute_reply.started": "2021-06-11T16:29:14.034963Z"
    },
    "executionInfo": {
     "elapsed": 23727,
     "status": "ok",
     "timestamp": 1616326442041,
     "user": {
      "displayName": "TAPAS DAS",
      "photoUrl": "https://lh3.googleusercontent.com/a-/AOh14GiyffdGKiPCR_UwVittzTcbBFms70IkGfU15fatCA=s64",
      "userId": "10798398878324948542"
     },
     "user_tz": -330
    },
    "id": "E9svswc9SUuX",
    "papermill": {
     "duration": 0.900808,
     "end_time": "2021-06-11T16:30:55.750756",
     "exception": false,
     "start_time": "2021-06-11T16:30:54.849948",
     "status": "completed"
    },
    "tags": []
   },
   "outputs": [],
   "source": [
    "import gc\n",
    "import pickle\n",
    "import numpy as np\n",
    "import pandas as pd\n",
    "from sklearn.metrics import r2_score\n",
    "from catboost import CatBoostRegressor\n",
    "from sklearn.model_selection import StratifiedKFold"
   ]
  },
  {
   "cell_type": "markdown",
   "id": "hired-wyoming",
   "metadata": {
    "id": "hg85SpW-S6hl",
    "papermill": {
     "duration": 0.008962,
     "end_time": "2021-06-11T16:30:55.769217",
     "exception": false,
     "start_time": "2021-06-11T16:30:55.760255",
     "status": "completed"
    },
    "tags": []
   },
   "source": [
    "## Prepare data for model training"
   ]
  },
  {
   "cell_type": "code",
   "execution_count": 2,
   "id": "likely-affiliate",
   "metadata": {
    "execution": {
     "iopub.execute_input": "2021-06-11T16:30:55.802380Z",
     "iopub.status.busy": "2021-06-11T16:30:55.801867Z",
     "iopub.status.idle": "2021-06-11T16:30:56.426513Z",
     "shell.execute_reply": "2021-06-11T16:30:56.427012Z",
     "shell.execute_reply.started": "2021-06-11T16:29:14.961369Z"
    },
    "executionInfo": {
     "elapsed": 10043,
     "status": "ok",
     "timestamp": 1616326444482,
     "user": {
      "displayName": "TAPAS DAS",
      "photoUrl": "https://lh3.googleusercontent.com/a-/AOh14GiyffdGKiPCR_UwVittzTcbBFms70IkGfU15fatCA=s64",
      "userId": "10798398878324948542"
     },
     "user_tz": -330
    },
    "id": "VdhgoIAmSUxK",
    "outputId": "7897cfad-c8d4-46d9-86ea-04de37e11444",
    "papermill": {
     "duration": 0.643323,
     "end_time": "2021-06-11T16:30:56.427172",
     "exception": false,
     "start_time": "2021-06-11T16:30:55.783849",
     "status": "completed"
    },
    "tags": []
   },
   "outputs": [
    {
     "data": {
      "text/plain": [
       "0"
      ]
     },
     "execution_count": 2,
     "metadata": {},
     "output_type": "execute_result"
    }
   ],
   "source": [
    "with open(\"../input/he-ffi-preprocess-data-v2-4/HE_FFI_Dataset.txt\", 'rb') as handle: \n",
    "    data = handle.read()\n",
    "\n",
    "processed_data = pickle.loads(data)\n",
    "train_df = processed_data['train_df']\n",
    "test_df = processed_data['test_df']\n",
    "\n",
    "del processed_data\n",
    "gc.collect()"
   ]
  },
  {
   "cell_type": "code",
   "execution_count": 3,
   "id": "scheduled-identifier",
   "metadata": {
    "execution": {
     "iopub.execute_input": "2021-06-11T16:30:56.461508Z",
     "iopub.status.busy": "2021-06-11T16:30:56.460552Z",
     "iopub.status.idle": "2021-06-11T16:30:56.471427Z",
     "shell.execute_reply": "2021-06-11T16:30:56.471838Z",
     "shell.execute_reply.started": "2021-06-11T16:29:15.627527Z"
    },
    "papermill": {
     "duration": 0.033325,
     "end_time": "2021-06-11T16:30:56.471974",
     "exception": false,
     "start_time": "2021-06-11T16:30:56.438649",
     "status": "completed"
    },
    "tags": []
   },
   "outputs": [
    {
     "name": "stdout",
     "output_type": "stream",
     "text": [
      "[0, 6, 7, 3, 8, 12, 13]\n"
     ]
    }
   ],
   "source": [
    "cat_cols = ['Insurance_company','expiry_dt_year','expiry_dt_quarter','Condition',\n",
    "            'expiry_dt_month','expiry_dt_day_week','expiry_dt_day_weekend']\n",
    "\n",
    "train_df[cat_cols] = train_df[cat_cols].astype(int)\n",
    "test_df[cat_cols] = test_df[cat_cols].astype(int)\n",
    "cat_cols_indices = [train_df.columns.get_loc(col) for col in cat_cols]\n",
    "print(cat_cols_indices)"
   ]
  },
  {
   "cell_type": "code",
   "execution_count": 4,
   "id": "under-advocate",
   "metadata": {
    "execution": {
     "iopub.execute_input": "2021-06-11T16:30:56.501069Z",
     "iopub.status.busy": "2021-06-11T16:30:56.500166Z",
     "iopub.status.idle": "2021-06-11T16:30:56.604603Z",
     "shell.execute_reply": "2021-06-11T16:30:56.605041Z",
     "shell.execute_reply.started": "2021-06-11T16:29:15.650773Z"
    },
    "executionInfo": {
     "elapsed": 2058,
     "status": "ok",
     "timestamp": 1616326525321,
     "user": {
      "displayName": "TAPAS DAS",
      "photoUrl": "https://lh3.googleusercontent.com/a-/AOh14GiyffdGKiPCR_UwVittzTcbBFms70IkGfU15fatCA=s64",
      "userId": "10798398878324948542"
     },
     "user_tz": -330
    },
    "id": "UAfyHbeASU7C",
    "outputId": "14c429a7-7b43-4065-afae-da7d4f6679a9",
    "papermill": {
     "duration": 0.122637,
     "end_time": "2021-06-11T16:30:56.605187",
     "exception": false,
     "start_time": "2021-06-11T16:30:56.482550",
     "status": "completed"
    },
    "tags": []
   },
   "outputs": [
    {
     "name": "stdout",
     "output_type": "stream",
     "text": [
      "Xtrain: (1382, 1691) \n",
      "Ytrain: (1382,) \n",
      "Xtest: (600, 1691)\n"
     ]
    },
    {
     "data": {
      "text/plain": [
       "0"
      ]
     },
     "execution_count": 4,
     "metadata": {},
     "output_type": "execute_result"
    }
   ],
   "source": [
    "Xtrain = train_df.loc[:, ~train_df.columns.isin(['Image_path','Amount'])].copy()\n",
    "Ytrain = train_df['Amount'].copy()\n",
    "Ytrain_strat = pd.qcut(train_df['Amount'].values, q=5, labels=range(0,5))\n",
    "Xtest = test_df.loc[:, ~test_df.columns.isin(['Image_path'])].copy()\n",
    "\n",
    "print(\"Xtrain: {} \\nYtrain: {} \\nXtest: {}\".format(Xtrain.shape, Ytrain.shape, Xtest.shape))\n",
    "\n",
    "del train_df\n",
    "del test_df\n",
    "gc.collect()"
   ]
  },
  {
   "cell_type": "markdown",
   "id": "dominant-element",
   "metadata": {
    "id": "9wNC5rWEVnjd",
    "papermill": {
     "duration": 0.010892,
     "end_time": "2021-06-11T16:30:56.627508",
     "exception": false,
     "start_time": "2021-06-11T16:30:56.616616",
     "status": "completed"
    },
    "tags": []
   },
   "source": [
    "## Build and validate the model"
   ]
  },
  {
   "cell_type": "code",
   "execution_count": 5,
   "id": "secondary-cosmetic",
   "metadata": {
    "execution": {
     "iopub.execute_input": "2021-06-11T16:30:56.661605Z",
     "iopub.status.busy": "2021-06-11T16:30:56.660496Z",
     "iopub.status.idle": "2021-06-11T16:34:52.087481Z",
     "shell.execute_reply": "2021-06-11T16:34:52.088373Z"
    },
    "id": "uWPosEORSVBp",
    "outputId": "d70ac047-a86b-4f36-84cc-960b1b5316be",
    "papermill": {
     "duration": 235.450313,
     "end_time": "2021-06-11T16:34:52.088574",
     "exception": false,
     "start_time": "2021-06-11T16:30:56.638261",
     "status": "completed"
    },
    "tags": []
   },
   "outputs": [
    {
     "name": "stdout",
     "output_type": "stream",
     "text": [
      "0:\tlearn: 2686.9946838\ttest: 2712.5538342\tbest: 2712.5538342 (0)\ttotal: 30.4ms\tremaining: 4m 3s\n",
      "200:\tlearn: 1058.8115595\ttest: 2420.4895766\tbest: 2418.1074797 (149)\ttotal: 4.83s\tremaining: 3m 7s\n",
      "bestTest = 2418.10748\n",
      "bestIteration = 149\n",
      "Shrink model to first 150 iterations.\n",
      "Seed-24 | Fold-0 | OOF Score: 21.03418960145579\n",
      "0:\tlearn: 2700.5373637\ttest: 2648.5682639\tbest: 2648.5682639 (0)\ttotal: 27.9ms\tremaining: 3m 42s\n",
      "200:\tlearn: 1040.4330181\ttest: 2379.4188533\tbest: 2374.0864312 (141)\ttotal: 4.78s\tremaining: 3m 5s\n",
      "bestTest = 2374.086431\n",
      "bestIteration = 141\n",
      "Shrink model to first 142 iterations.\n",
      "Seed-24 | Fold-1 | OOF Score: 20.212543397730986\n",
      "0:\tlearn: 2699.4689452\ttest: 2662.4766502\tbest: 2662.4766502 (0)\ttotal: 25.5ms\tremaining: 3m 23s\n",
      "200:\tlearn: 1029.1391160\ttest: 2427.2711462\tbest: 2426.1910029 (123)\ttotal: 4.78s\tremaining: 3m 5s\n",
      "400:\tlearn: 480.9610331\ttest: 2423.2213797\tbest: 2423.2213797 (400)\ttotal: 9.96s\tremaining: 3m 8s\n",
      "600:\tlearn: 241.3081213\ttest: 2424.1356446\tbest: 2422.5409106 (546)\ttotal: 14.5s\tremaining: 2m 58s\n",
      "bestTest = 2422.540911\n",
      "bestIteration = 546\n",
      "Shrink model to first 547 iterations.\n",
      "Seed-24 | Fold-2 | OOF Score: 17.70849014559571\n",
      "0:\tlearn: 2680.5381663\ttest: 2741.4864898\tbest: 2741.4864898 (0)\ttotal: 26.6ms\tremaining: 3m 32s\n",
      "200:\tlearn: 1050.4428826\ttest: 2398.5019479\tbest: 2386.7883703 (146)\ttotal: 5.22s\tremaining: 3m 22s\n",
      "bestTest = 2386.78837\n",
      "bestIteration = 146\n",
      "Shrink model to first 147 iterations.\n",
      "Seed-24 | Fold-3 | OOF Score: 24.727068433026254\n",
      "0:\tlearn: 2683.4433090\ttest: 2726.7832724\tbest: 2726.7832724 (0)\ttotal: 27.9ms\tremaining: 3m 43s\n",
      "200:\tlearn: 1052.5071282\ttest: 2448.2063946\tbest: 2433.6043526 (136)\ttotal: 5.01s\tremaining: 3m 14s\n",
      "bestTest = 2433.604353\n",
      "bestIteration = 136\n",
      "Shrink model to first 137 iterations.\n",
      "Seed-24 | Fold-4 | OOF Score: 20.843266358453917\n",
      "\n",
      "Seed: 24 | Aggregate OOF Score: 20.90511158725253\n",
      "\n",
      "\n",
      "0:\tlearn: 2695.4774686\ttest: 2671.3455175\tbest: 2671.3455175 (0)\ttotal: 26.8ms\tremaining: 3m 34s\n",
      "200:\tlearn: 1065.4393965\ttest: 2381.5797566\tbest: 2379.7417935 (159)\ttotal: 4.99s\tremaining: 3m 13s\n",
      "400:\tlearn: 494.4489542\ttest: 2385.5480158\tbest: 2378.6586154 (267)\ttotal: 9.76s\tremaining: 3m 4s\n",
      "bestTest = 2378.658615\n",
      "bestIteration = 267\n",
      "Shrink model to first 268 iterations.\n",
      "Seed-3 | Fold-0 | OOF Score: 21.281957771189695\n",
      "0:\tlearn: 2674.7250742\ttest: 2753.4299870\tbest: 2753.4299870 (0)\ttotal: 27.5ms\tremaining: 3m 39s\n",
      "200:\tlearn: 1038.1617447\ttest: 2468.1420481\tbest: 2464.0241923 (166)\ttotal: 5.75s\tremaining: 3m 43s\n",
      "400:\tlearn: 465.9082154\ttest: 2474.7283904\tbest: 2459.2433810 (262)\ttotal: 10.5s\tremaining: 3m 18s\n",
      "bestTest = 2459.243381\n",
      "bestIteration = 262\n",
      "Shrink model to first 263 iterations.\n",
      "Seed-3 | Fold-1 | OOF Score: 20.77851381196931\n",
      "0:\tlearn: 2686.2625919\ttest: 2709.9743621\tbest: 2709.9743621 (0)\ttotal: 28.3ms\tremaining: 3m 46s\n",
      "200:\tlearn: 1037.8577463\ttest: 2423.5141810\tbest: 2414.2333497 (148)\ttotal: 4.75s\tremaining: 3m 4s\n",
      "bestTest = 2414.23335\n",
      "bestIteration = 148\n",
      "Shrink model to first 149 iterations.\n",
      "Seed-3 | Fold-2 | OOF Score: 21.159316281175467\n",
      "0:\tlearn: 2693.6284824\ttest: 2683.4178509\tbest: 2683.4178509 (0)\ttotal: 28ms\tremaining: 3m 44s\n",
      "200:\tlearn: 1034.4732269\ttest: 2448.0167661\tbest: 2442.8827827 (151)\ttotal: 4.88s\tremaining: 3m 9s\n",
      "bestTest = 2442.882783\n",
      "bestIteration = 151\n",
      "Shrink model to first 152 iterations.\n",
      "Seed-3 | Fold-3 | OOF Score: 17.585716779923764\n",
      "0:\tlearn: 2694.0388551\ttest: 2674.2336407\tbest: 2674.2336407 (0)\ttotal: 49.3ms\tremaining: 6m 34s\n",
      "200:\tlearn: 1013.6391531\ttest: 2427.9187724\tbest: 2416.4861782 (159)\ttotal: 5.32s\tremaining: 3m 26s\n",
      "bestTest = 2416.486178\n",
      "bestIteration = 159\n",
      "Shrink model to first 160 iterations.\n",
      "Seed-3 | Fold-4 | OOF Score: 18.860552787270425\n",
      "\n",
      "Seed: 3 | Aggregate OOF Score: 19.93321148630573\n",
      "\n",
      "\n",
      "0:\tlearn: 2705.8577677\ttest: 2630.1313415\tbest: 2630.1313415 (0)\ttotal: 27.5ms\tremaining: 3m 39s\n",
      "200:\tlearn: 1024.9773051\ttest: 2391.8215405\tbest: 2385.0383221 (170)\ttotal: 5.12s\tremaining: 3m 18s\n",
      "bestTest = 2385.038322\n",
      "bestIteration = 170\n",
      "Shrink model to first 171 iterations.\n",
      "Seed-56 | Fold-0 | OOF Score: 18.223061427716214\n",
      "0:\tlearn: 2670.3792196\ttest: 2779.4123785\tbest: 2779.4123785 (0)\ttotal: 27.8ms\tremaining: 3m 42s\n",
      "200:\tlearn: 1043.0617791\ttest: 2471.8741454\tbest: 2471.8741454 (200)\ttotal: 4.86s\tremaining: 3m 8s\n",
      "400:\tlearn: 478.5497700\ttest: 2466.6304118\tbest: 2465.5137176 (360)\ttotal: 9.56s\tremaining: 3m 1s\n",
      "bestTest = 2465.513718\n",
      "bestIteration = 360\n",
      "Shrink model to first 361 iterations.\n",
      "Seed-56 | Fold-1 | OOF Score: 21.804403578763132\n",
      "0:\tlearn: 2710.2650598\ttest: 2630.9979150\tbest: 2630.9979150 (0)\ttotal: 26.5ms\tremaining: 3m 31s\n",
      "200:\tlearn: 1041.3584118\ttest: 2332.7537500\tbest: 2331.4927730 (198)\ttotal: 4.76s\tremaining: 3m 4s\n",
      "400:\tlearn: 453.7028207\ttest: 2340.1645427\tbest: 2327.5729475 (237)\ttotal: 9.99s\tremaining: 3m 9s\n",
      "bestTest = 2327.572948\n",
      "bestIteration = 237\n",
      "Shrink model to first 238 iterations.\n",
      "Seed-56 | Fold-2 | OOF Score: 22.062051676636763\n",
      "0:\tlearn: 2675.9928154\ttest: 2760.5401698\tbest: 2760.5401698 (0)\ttotal: 25.3ms\tremaining: 3m 22s\n",
      "200:\tlearn: 1045.2253207\ttest: 2394.9916825\tbest: 2391.0514333 (165)\ttotal: 4.85s\tremaining: 3m 8s\n",
      "bestTest = 2391.051433\n",
      "bestIteration = 165\n",
      "Shrink model to first 166 iterations.\n",
      "Seed-56 | Fold-3 | OOF Score: 25.596548537386454\n",
      "0:\tlearn: 2689.8641603\ttest: 2690.8533855\tbest: 2690.8533855 (0)\ttotal: 28.3ms\tremaining: 3m 46s\n",
      "200:\tlearn: 1013.9006946\ttest: 2471.2954298\tbest: 2463.9344053 (128)\ttotal: 4.9s\tremaining: 3m 10s\n",
      "bestTest = 2463.934405\n",
      "bestIteration = 128\n",
      "Shrink model to first 129 iterations.\n",
      "Seed-56 | Fold-4 | OOF Score: 16.65827004952377\n",
      "\n",
      "Seed: 56 | Aggregate OOF Score: 20.868867054005268\n",
      "\n",
      "\n",
      "Aggregate OOF Score: 20.56906337585451\n"
     ]
    }
   ],
   "source": [
    "FOLD = 5\n",
    "NUM_SEED = 3\n",
    "\n",
    "np.random.seed(3)\n",
    "seeds = np.random.randint(0, 100, size=NUM_SEED)\n",
    "\n",
    "oof_score = 0\n",
    "y_pred_meta_cb = np.zeros((Ytrain.shape[0], 1))\n",
    "y_pred_final_cb = 0\n",
    "counter = 0\n",
    "\n",
    "\n",
    "for sidx, seed in enumerate(seeds):\n",
    "    seed_score = 0\n",
    "    \n",
    "    kfold = StratifiedKFold(n_splits=FOLD, shuffle=True, random_state=seed)\n",
    "\n",
    "    for idx, (train, val) in enumerate(kfold.split(Xtrain.values, Ytrain_strat)):\n",
    "        counter += 1\n",
    "\n",
    "        train_x, train_y = Xtrain.iloc[train], Ytrain.iloc[train]\n",
    "        val_x, val_y = Xtrain.iloc[val], Ytrain.iloc[val]\n",
    "\n",
    "        model = CatBoostRegressor(\n",
    "            objective='RMSE',\n",
    "            eval_metric='RMSE',\n",
    "            num_boost_round=8000,\n",
    "            learning_rate=0.0173,\n",
    "            reg_lambda=0.00044,\n",
    "            bootstrap_type='Poisson',\n",
    "            subsample=0.8602,\n",
    "            max_depth=6, \n",
    "            grow_policy='Lossguide',\n",
    "            min_data_in_leaf=3, \n",
    "            max_leaves=373,\n",
    "            task_type='GPU',\n",
    "            verbose=0\n",
    "        )\n",
    "\n",
    "        model.fit(train_x, train_y, eval_set=[(val_x, val_y)], \n",
    "                  cat_features=cat_cols_indices,\n",
    "                  early_stopping_rounds=200, verbose=200)\n",
    "\n",
    "        y_pred = model.predict(val_x)\n",
    "        y_pred_meta_cb[val] += np.array([y_pred]).T\n",
    "        y_pred_final_cb += model.predict(Xtest)\n",
    "        \n",
    "        score = 100 * r2_score(val_y, y_pred)\n",
    "        oof_score += score\n",
    "        seed_score += score\n",
    "        print(\"Seed-{} | Fold-{} | OOF Score: {}\".format(seed, idx, score))\n",
    "    \n",
    "    print(\"\\nSeed: {} | Aggregate OOF Score: {}\\n\\n\".format(seed, (seed_score / FOLD)))\n",
    "\n",
    "\n",
    "y_pred_meta_cb = y_pred_meta_cb / float(counter)\n",
    "y_pred_final_cb = y_pred_final_cb / float(counter)\n",
    "oof_score /= float(counter)\n",
    "print(\"Aggregate OOF Score: {}\".format(oof_score))"
   ]
  },
  {
   "cell_type": "code",
   "execution_count": 6,
   "id": "rapid-marketing",
   "metadata": {
    "execution": {
     "iopub.execute_input": "2021-06-11T16:34:52.173819Z",
     "iopub.status.busy": "2021-06-11T16:34:52.173151Z",
     "iopub.status.idle": "2021-06-11T16:34:52.176129Z",
     "shell.execute_reply": "2021-06-11T16:34:52.176629Z",
     "shell.execute_reply.started": "2021-05-26T09:02:14.574835Z"
    },
    "id": "uLzmS7LzXvXy",
    "papermill": {
     "duration": 0.048948,
     "end_time": "2021-06-11T16:34:52.176818",
     "exception": false,
     "start_time": "2021-06-11T16:34:52.127870",
     "status": "completed"
    },
    "tags": []
   },
   "outputs": [],
   "source": [
    "np.savez_compressed('./CB_Meta_Features.npz',\n",
    "                    y_pred_meta_cb=y_pred_meta_cb, \n",
    "                    oof_score=oof_score,\n",
    "                    y_pred_final_cb=y_pred_final_cb)"
   ]
  },
  {
   "cell_type": "markdown",
   "id": "settled-riverside",
   "metadata": {
    "papermill": {
     "duration": 0.037536,
     "end_time": "2021-06-11T16:34:52.253070",
     "exception": false,
     "start_time": "2021-06-11T16:34:52.215534",
     "status": "completed"
    },
    "tags": []
   },
   "source": [
    "## Create submission file"
   ]
  },
  {
   "cell_type": "code",
   "execution_count": 7,
   "id": "continent-inflation",
   "metadata": {
    "execution": {
     "iopub.execute_input": "2021-06-11T16:34:52.335775Z",
     "iopub.status.busy": "2021-06-11T16:34:52.334975Z",
     "iopub.status.idle": "2021-06-11T16:34:52.496547Z",
     "shell.execute_reply": "2021-06-11T16:34:52.497422Z",
     "shell.execute_reply.started": "2021-05-26T09:02:19.50546Z"
    },
    "executionInfo": {
     "elapsed": 3141,
     "status": "ok",
     "timestamp": 1616223489651,
     "user": {
      "displayName": "TAPAS DAS",
      "photoUrl": "https://lh3.googleusercontent.com/a-/AOh14GiyffdGKiPCR_UwVittzTcbBFms70IkGfU15fatCA=s64",
      "userId": "10798398878324948542"
     },
     "user_tz": -330
    },
    "id": "zGEGOAJHVoHV",
    "outputId": "11f9ca4c-9cca-46f6-b9a6-907ad0a09927",
    "papermill": {
     "duration": 0.205759,
     "end_time": "2021-06-11T16:34:52.497614",
     "exception": false,
     "start_time": "2021-06-11T16:34:52.291855",
     "status": "completed"
    },
    "tags": []
   },
   "outputs": [
    {
     "data": {
      "text/plain": [
       "40"
      ]
     },
     "execution_count": 7,
     "metadata": {},
     "output_type": "execute_result"
    }
   ],
   "source": [
    "with open(\"../input/he-ffi-preprocess-data/HE_FFI_Dataset.txt\", 'rb') as handle: \n",
    "    data = handle.read()\n",
    "\n",
    "processed_data = pickle.loads(data)\n",
    "test_df = processed_data['test_df']\n",
    "\n",
    "del processed_data\n",
    "gc.collect()"
   ]
  },
  {
   "cell_type": "code",
   "execution_count": 8,
   "id": "metallic-fleece",
   "metadata": {
    "execution": {
     "iopub.execute_input": "2021-06-11T16:34:52.585300Z",
     "iopub.status.busy": "2021-06-11T16:34:52.584582Z",
     "iopub.status.idle": "2021-06-11T16:34:52.766965Z",
     "shell.execute_reply": "2021-06-11T16:34:52.767992Z",
     "shell.execute_reply.started": "2021-05-26T09:02:22.534683Z"
    },
    "papermill": {
     "duration": 0.232124,
     "end_time": "2021-06-11T16:34:52.768207",
     "exception": false,
     "start_time": "2021-06-11T16:34:52.536083",
     "status": "completed"
    },
    "tags": []
   },
   "outputs": [
    {
     "data": {
      "text/html": [
       "<div>\n",
       "<style scoped>\n",
       "    .dataframe tbody tr th:only-of-type {\n",
       "        vertical-align: middle;\n",
       "    }\n",
       "\n",
       "    .dataframe tbody tr th {\n",
       "        vertical-align: top;\n",
       "    }\n",
       "\n",
       "    .dataframe thead th {\n",
       "        text-align: right;\n",
       "    }\n",
       "</style>\n",
       "<table border=\"1\" class=\"dataframe\">\n",
       "  <thead>\n",
       "    <tr style=\"text-align: right;\">\n",
       "      <th></th>\n",
       "      <th>Image_path</th>\n",
       "      <th>Condition</th>\n",
       "      <th>Amount</th>\n",
       "    </tr>\n",
       "  </thead>\n",
       "  <tbody>\n",
       "    <tr>\n",
       "      <th>0</th>\n",
       "      <td>img_4538519.jpg</td>\n",
       "      <td>1.0</td>\n",
       "      <td>2978.280753</td>\n",
       "    </tr>\n",
       "    <tr>\n",
       "      <th>1</th>\n",
       "      <td>img_7766002.jpg</td>\n",
       "      <td>1.0</td>\n",
       "      <td>4001.314023</td>\n",
       "    </tr>\n",
       "    <tr>\n",
       "      <th>2</th>\n",
       "      <td>img_4637390.jpg</td>\n",
       "      <td>1.0</td>\n",
       "      <td>4015.824295</td>\n",
       "    </tr>\n",
       "    <tr>\n",
       "      <th>3</th>\n",
       "      <td>img_4516108.jpg</td>\n",
       "      <td>1.0</td>\n",
       "      <td>4320.231089</td>\n",
       "    </tr>\n",
       "    <tr>\n",
       "      <th>4</th>\n",
       "      <td>img_4517008.jpg</td>\n",
       "      <td>1.0</td>\n",
       "      <td>4045.051878</td>\n",
       "    </tr>\n",
       "  </tbody>\n",
       "</table>\n",
       "</div>"
      ],
      "text/plain": [
       "        Image_path  Condition       Amount\n",
       "0  img_4538519.jpg        1.0  2978.280753\n",
       "1  img_7766002.jpg        1.0  4001.314023\n",
       "2  img_4637390.jpg        1.0  4015.824295\n",
       "3  img_4516108.jpg        1.0  4320.231089\n",
       "4  img_4517008.jpg        1.0  4045.051878"
      ]
     },
     "execution_count": 8,
     "metadata": {},
     "output_type": "execute_result"
    }
   ],
   "source": [
    "test_df1 = pd.read_csv(\"../input/he-fast-furious-insured/dataset/test.csv\")\n",
    "\n",
    "submit_df = pd.DataFrame()\n",
    "submit_df['Image_path'] = test_df1['Image_path']\n",
    "submit_df['Condition'] = test_df['Condition']\n",
    "submit_df['Amount'] = y_pred_final_cb\n",
    "\n",
    "submit_df.to_csv(\"./CB_Submission_wo_Adjustment.csv\", index=False)\n",
    "submit_df.head()"
   ]
  },
  {
   "cell_type": "code",
   "execution_count": 9,
   "id": "smart-association",
   "metadata": {
    "execution": {
     "iopub.execute_input": "2021-06-11T16:34:52.860207Z",
     "iopub.status.busy": "2021-06-11T16:34:52.859440Z",
     "iopub.status.idle": "2021-06-11T16:34:52.893022Z",
     "shell.execute_reply": "2021-06-11T16:34:52.893905Z"
    },
    "id": "W2c88MvxXm65",
    "papermill": {
     "duration": 0.08428,
     "end_time": "2021-06-11T16:34:52.894065",
     "exception": false,
     "start_time": "2021-06-11T16:34:52.809785",
     "status": "completed"
    },
    "tags": []
   },
   "outputs": [
    {
     "data": {
      "text/html": [
       "<div>\n",
       "<style scoped>\n",
       "    .dataframe tbody tr th:only-of-type {\n",
       "        vertical-align: middle;\n",
       "    }\n",
       "\n",
       "    .dataframe tbody tr th {\n",
       "        vertical-align: top;\n",
       "    }\n",
       "\n",
       "    .dataframe thead th {\n",
       "        text-align: right;\n",
       "    }\n",
       "</style>\n",
       "<table border=\"1\" class=\"dataframe\">\n",
       "  <thead>\n",
       "    <tr style=\"text-align: right;\">\n",
       "      <th></th>\n",
       "      <th>Image_path</th>\n",
       "      <th>Condition</th>\n",
       "      <th>Amount</th>\n",
       "    </tr>\n",
       "  </thead>\n",
       "  <tbody>\n",
       "    <tr>\n",
       "      <th>0</th>\n",
       "      <td>img_4538519.jpg</td>\n",
       "      <td>1.0</td>\n",
       "      <td>2978.280753</td>\n",
       "    </tr>\n",
       "    <tr>\n",
       "      <th>1</th>\n",
       "      <td>img_7766002.jpg</td>\n",
       "      <td>1.0</td>\n",
       "      <td>4001.314023</td>\n",
       "    </tr>\n",
       "    <tr>\n",
       "      <th>2</th>\n",
       "      <td>img_4637390.jpg</td>\n",
       "      <td>1.0</td>\n",
       "      <td>4015.824295</td>\n",
       "    </tr>\n",
       "    <tr>\n",
       "      <th>3</th>\n",
       "      <td>img_4516108.jpg</td>\n",
       "      <td>1.0</td>\n",
       "      <td>4320.231089</td>\n",
       "    </tr>\n",
       "    <tr>\n",
       "      <th>4</th>\n",
       "      <td>img_4517008.jpg</td>\n",
       "      <td>1.0</td>\n",
       "      <td>4045.051878</td>\n",
       "    </tr>\n",
       "  </tbody>\n",
       "</table>\n",
       "</div>"
      ],
      "text/plain": [
       "        Image_path  Condition       Amount\n",
       "0  img_4538519.jpg        1.0  2978.280753\n",
       "1  img_7766002.jpg        1.0  4001.314023\n",
       "2  img_4637390.jpg        1.0  4015.824295\n",
       "3  img_4516108.jpg        1.0  4320.231089\n",
       "4  img_4517008.jpg        1.0  4045.051878"
      ]
     },
     "execution_count": 9,
     "metadata": {},
     "output_type": "execute_result"
    }
   ],
   "source": [
    "test_df1 = pd.read_csv(\"../input/he-fast-furious-insured/dataset/test.csv\")\n",
    "\n",
    "submit_df = pd.DataFrame()\n",
    "submit_df['Image_path'] = test_df1['Image_path']\n",
    "submit_df['Condition'] = test_df['Condition']\n",
    "submit_df['Amount'] = y_pred_final_cb\n",
    "submit_df.loc[test_df['Condition']==0, 'Amount'] = 0\n",
    "\n",
    "submit_df.to_csv(\"./CB_Submission_w_Adjustment.csv\", index=False)\n",
    "submit_df.head()"
   ]
  },
  {
   "cell_type": "code",
   "execution_count": null,
   "id": "statewide-minutes",
   "metadata": {
    "papermill": {
     "duration": 0.036767,
     "end_time": "2021-06-11T16:34:52.972610",
     "exception": false,
     "start_time": "2021-06-11T16:34:52.935843",
     "status": "completed"
    },
    "tags": []
   },
   "outputs": [],
   "source": []
  }
 ],
 "metadata": {
  "kernelspec": {
   "display_name": "Python 3",
   "language": "python",
   "name": "python3"
  },
  "language_info": {
   "codemirror_mode": {
    "name": "ipython",
    "version": 3
   },
   "file_extension": ".py",
   "mimetype": "text/x-python",
   "name": "python",
   "nbconvert_exporter": "python",
   "pygments_lexer": "ipython3",
   "version": "3.7.10"
  },
  "papermill": {
   "default_parameters": {},
   "duration": 245.284329,
   "end_time": "2021-06-11T16:34:53.607939",
   "environment_variables": {},
   "exception": null,
   "input_path": "__notebook__.ipynb",
   "output_path": "__notebook__.ipynb",
   "parameters": {},
   "start_time": "2021-06-11T16:30:48.323610",
   "version": "2.3.3"
  }
 },
 "nbformat": 4,
 "nbformat_minor": 5
}
