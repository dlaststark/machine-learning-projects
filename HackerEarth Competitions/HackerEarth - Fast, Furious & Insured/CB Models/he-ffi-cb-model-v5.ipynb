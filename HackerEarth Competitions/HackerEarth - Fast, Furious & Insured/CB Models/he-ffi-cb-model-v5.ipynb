{
 "cells": [
  {
   "cell_type": "markdown",
   "id": "sweet-textbook",
   "metadata": {
    "id": "uLz9OcH8SeET",
    "papermill": {
     "duration": 0.010243,
     "end_time": "2021-06-12T03:35:06.673442",
     "exception": false,
     "start_time": "2021-06-12T03:35:06.663199",
     "status": "completed"
    },
    "tags": []
   },
   "source": [
    "## Import libraries"
   ]
  },
  {
   "cell_type": "code",
   "execution_count": 1,
   "id": "useful-ceramic",
   "metadata": {
    "execution": {
     "iopub.execute_input": "2021-06-12T03:35:06.701763Z",
     "iopub.status.busy": "2021-06-12T03:35:06.701152Z",
     "iopub.status.idle": "2021-06-12T03:35:07.624780Z",
     "shell.execute_reply": "2021-06-12T03:35:07.625474Z",
     "shell.execute_reply.started": "2021-06-11T16:29:14.034963Z"
    },
    "executionInfo": {
     "elapsed": 23727,
     "status": "ok",
     "timestamp": 1616326442041,
     "user": {
      "displayName": "TAPAS DAS",
      "photoUrl": "https://lh3.googleusercontent.com/a-/AOh14GiyffdGKiPCR_UwVittzTcbBFms70IkGfU15fatCA=s64",
      "userId": "10798398878324948542"
     },
     "user_tz": -330
    },
    "id": "E9svswc9SUuX",
    "papermill": {
     "duration": 0.943083,
     "end_time": "2021-06-12T03:35:07.625752",
     "exception": false,
     "start_time": "2021-06-12T03:35:06.682669",
     "status": "completed"
    },
    "tags": []
   },
   "outputs": [],
   "source": [
    "import gc\n",
    "import pickle\n",
    "import numpy as np\n",
    "import pandas as pd\n",
    "from sklearn.metrics import r2_score\n",
    "from catboost import CatBoostRegressor\n",
    "from sklearn.model_selection import StratifiedKFold"
   ]
  },
  {
   "cell_type": "markdown",
   "id": "geological-wesley",
   "metadata": {
    "id": "hg85SpW-S6hl",
    "papermill": {
     "duration": 0.018654,
     "end_time": "2021-06-12T03:35:07.659684",
     "exception": false,
     "start_time": "2021-06-12T03:35:07.641030",
     "status": "completed"
    },
    "tags": []
   },
   "source": [
    "## Prepare data for model training"
   ]
  },
  {
   "cell_type": "code",
   "execution_count": 2,
   "id": "comic-massage",
   "metadata": {
    "execution": {
     "iopub.execute_input": "2021-06-12T03:35:07.700671Z",
     "iopub.status.busy": "2021-06-12T03:35:07.699251Z",
     "iopub.status.idle": "2021-06-12T03:35:08.461109Z",
     "shell.execute_reply": "2021-06-12T03:35:08.460660Z",
     "shell.execute_reply.started": "2021-06-11T16:29:14.961369Z"
    },
    "executionInfo": {
     "elapsed": 10043,
     "status": "ok",
     "timestamp": 1616326444482,
     "user": {
      "displayName": "TAPAS DAS",
      "photoUrl": "https://lh3.googleusercontent.com/a-/AOh14GiyffdGKiPCR_UwVittzTcbBFms70IkGfU15fatCA=s64",
      "userId": "10798398878324948542"
     },
     "user_tz": -330
    },
    "id": "VdhgoIAmSUxK",
    "outputId": "7897cfad-c8d4-46d9-86ea-04de37e11444",
    "papermill": {
     "duration": 0.785939,
     "end_time": "2021-06-12T03:35:08.461244",
     "exception": false,
     "start_time": "2021-06-12T03:35:07.675305",
     "status": "completed"
    },
    "tags": []
   },
   "outputs": [
    {
     "data": {
      "text/plain": [
       "0"
      ]
     },
     "execution_count": 2,
     "metadata": {},
     "output_type": "execute_result"
    }
   ],
   "source": [
    "with open(\"../input/he-ffi-preprocess-data-v2-5/HE_FFI_Dataset.txt\", 'rb') as handle: \n",
    "    data = handle.read()\n",
    "\n",
    "processed_data = pickle.loads(data)\n",
    "train_df = processed_data['train_df']\n",
    "test_df = processed_data['test_df']\n",
    "\n",
    "del processed_data\n",
    "gc.collect()"
   ]
  },
  {
   "cell_type": "code",
   "execution_count": 3,
   "id": "breeding-brake",
   "metadata": {
    "execution": {
     "iopub.execute_input": "2021-06-12T03:35:08.493450Z",
     "iopub.status.busy": "2021-06-12T03:35:08.492690Z",
     "iopub.status.idle": "2021-06-12T03:35:08.504783Z",
     "shell.execute_reply": "2021-06-12T03:35:08.505650Z",
     "shell.execute_reply.started": "2021-06-11T16:29:15.627527Z"
    },
    "papermill": {
     "duration": 0.034584,
     "end_time": "2021-06-12T03:35:08.505843",
     "exception": false,
     "start_time": "2021-06-12T03:35:08.471259",
     "status": "completed"
    },
    "tags": []
   },
   "outputs": [
    {
     "name": "stdout",
     "output_type": "stream",
     "text": [
      "[0, 6, 7, 3, 8, 12, 13]\n"
     ]
    }
   ],
   "source": [
    "cat_cols = ['Insurance_company','expiry_dt_year','expiry_dt_quarter','Condition',\n",
    "            'expiry_dt_month','expiry_dt_day_week','expiry_dt_day_weekend']\n",
    "\n",
    "train_df[cat_cols] = train_df[cat_cols].astype(int)\n",
    "test_df[cat_cols] = test_df[cat_cols].astype(int)\n",
    "cat_cols_indices = [train_df.columns.get_loc(col) for col in cat_cols]\n",
    "print(cat_cols_indices)"
   ]
  },
  {
   "cell_type": "code",
   "execution_count": 4,
   "id": "blank-buffer",
   "metadata": {
    "execution": {
     "iopub.execute_input": "2021-06-12T03:35:08.533796Z",
     "iopub.status.busy": "2021-06-12T03:35:08.532980Z",
     "iopub.status.idle": "2021-06-12T03:35:08.636899Z",
     "shell.execute_reply": "2021-06-12T03:35:08.637472Z",
     "shell.execute_reply.started": "2021-06-11T16:29:15.650773Z"
    },
    "executionInfo": {
     "elapsed": 2058,
     "status": "ok",
     "timestamp": 1616326525321,
     "user": {
      "displayName": "TAPAS DAS",
      "photoUrl": "https://lh3.googleusercontent.com/a-/AOh14GiyffdGKiPCR_UwVittzTcbBFms70IkGfU15fatCA=s64",
      "userId": "10798398878324948542"
     },
     "user_tz": -330
    },
    "id": "UAfyHbeASU7C",
    "outputId": "14c429a7-7b43-4065-afae-da7d4f6679a9",
    "papermill": {
     "duration": 0.121264,
     "end_time": "2021-06-12T03:35:08.637655",
     "exception": false,
     "start_time": "2021-06-12T03:35:08.516391",
     "status": "completed"
    },
    "tags": []
   },
   "outputs": [
    {
     "name": "stdout",
     "output_type": "stream",
     "text": [
      "Xtrain: (1382, 2203) \n",
      "Ytrain: (1382,) \n",
      "Xtest: (600, 2203)\n"
     ]
    },
    {
     "data": {
      "text/plain": [
       "0"
      ]
     },
     "execution_count": 4,
     "metadata": {},
     "output_type": "execute_result"
    }
   ],
   "source": [
    "Xtrain = train_df.loc[:, ~train_df.columns.isin(['Image_path','Amount'])].copy()\n",
    "Ytrain = train_df['Amount'].copy()\n",
    "Ytrain_strat = pd.qcut(train_df['Amount'].values, q=5, labels=range(0,5))\n",
    "Xtest = test_df.loc[:, ~test_df.columns.isin(['Image_path'])].copy()\n",
    "\n",
    "print(\"Xtrain: {} \\nYtrain: {} \\nXtest: {}\".format(Xtrain.shape, Ytrain.shape, Xtest.shape))\n",
    "\n",
    "del train_df\n",
    "del test_df\n",
    "gc.collect()"
   ]
  },
  {
   "cell_type": "markdown",
   "id": "covered-questionnaire",
   "metadata": {
    "id": "9wNC5rWEVnjd",
    "papermill": {
     "duration": 0.010014,
     "end_time": "2021-06-12T03:35:08.658342",
     "exception": false,
     "start_time": "2021-06-12T03:35:08.648328",
     "status": "completed"
    },
    "tags": []
   },
   "source": [
    "## Build and validate the model"
   ]
  },
  {
   "cell_type": "code",
   "execution_count": 5,
   "id": "significant-spain",
   "metadata": {
    "execution": {
     "iopub.execute_input": "2021-06-12T03:35:08.690014Z",
     "iopub.status.busy": "2021-06-12T03:35:08.689438Z",
     "iopub.status.idle": "2021-06-12T03:39:02.102456Z",
     "shell.execute_reply": "2021-06-12T03:39:02.103185Z"
    },
    "id": "uWPosEORSVBp",
    "outputId": "d70ac047-a86b-4f36-84cc-960b1b5316be",
    "papermill": {
     "duration": 233.434944,
     "end_time": "2021-06-12T03:39:02.103382",
     "exception": false,
     "start_time": "2021-06-12T03:35:08.668438",
     "status": "completed"
    },
    "tags": []
   },
   "outputs": [
    {
     "name": "stdout",
     "output_type": "stream",
     "text": [
      "0:\tlearn: 2686.1899530\ttest: 2710.3086640\tbest: 2710.3086640 (0)\ttotal: 34.9ms\tremaining: 4m 39s\n",
      "200:\tlearn: 1044.0483684\ttest: 2454.2548157\tbest: 2445.3790268 (122)\ttotal: 6.49s\tremaining: 4m 11s\n",
      "bestTest = 2445.379027\n",
      "bestIteration = 122\n",
      "Shrink model to first 123 iterations.\n",
      "Seed-24 | Fold-0 | OOF Score: 19.242985621357377\n",
      "0:\tlearn: 2704.1762774\ttest: 2647.8515342\tbest: 2647.8515342 (0)\ttotal: 29.9ms\tremaining: 3m 58s\n",
      "200:\tlearn: 1029.9766197\ttest: 2377.2197334\tbest: 2371.9974066 (93)\ttotal: 5.2s\tremaining: 3m 21s\n",
      "bestTest = 2371.997407\n",
      "bestIteration = 93\n",
      "Shrink model to first 94 iterations.\n",
      "Seed-24 | Fold-1 | OOF Score: 20.3528848166155\n",
      "0:\tlearn: 2699.0786078\ttest: 2663.2196272\tbest: 2663.2196272 (0)\ttotal: 29.9ms\tremaining: 3m 58s\n",
      "200:\tlearn: 1038.6646595\ttest: 2434.0450021\tbest: 2424.2096815 (127)\ttotal: 4.91s\tremaining: 3m 10s\n",
      "bestTest = 2424.209681\n",
      "bestIteration = 127\n",
      "Shrink model to first 128 iterations.\n",
      "Seed-24 | Fold-2 | OOF Score: 17.595099160616513\n",
      "0:\tlearn: 2678.0410535\ttest: 2740.0884784\tbest: 2740.0884784 (0)\ttotal: 31.2ms\tremaining: 4m 9s\n",
      "200:\tlearn: 1011.6884782\ttest: 2415.5361874\tbest: 2408.6990174 (104)\ttotal: 5.83s\tremaining: 3m 46s\n",
      "bestTest = 2408.699017\n",
      "bestIteration = 104\n",
      "Shrink model to first 105 iterations.\n",
      "Seed-24 | Fold-3 | OOF Score: 23.338720652825007\n",
      "0:\tlearn: 2681.8087659\ttest: 2727.9386282\tbest: 2727.9386282 (0)\ttotal: 30.1ms\tremaining: 4m\n",
      "200:\tlearn: 1039.7122985\ttest: 2448.1902929\tbest: 2439.5379938 (125)\ttotal: 4.88s\tremaining: 3m 9s\n",
      "bestTest = 2439.537994\n",
      "bestIteration = 125\n",
      "Shrink model to first 126 iterations.\n",
      "Seed-24 | Fold-4 | OOF Score: 20.456791770259375\n",
      "\n",
      "Seed: 24 | Aggregate OOF Score: 20.197296404334754\n",
      "\n",
      "\n",
      "0:\tlearn: 2697.3888175\ttest: 2672.5082203\tbest: 2672.5082203 (0)\ttotal: 29.3ms\tremaining: 3m 54s\n",
      "200:\tlearn: 1057.0794976\ttest: 2387.2361434\tbest: 2385.1724881 (152)\ttotal: 4.93s\tremaining: 3m 11s\n",
      "400:\tlearn: 476.9961666\ttest: 2387.7434327\tbest: 2382.8518545 (280)\ttotal: 10.4s\tremaining: 3m 17s\n",
      "bestTest = 2382.851854\n",
      "bestIteration = 280\n",
      "Shrink model to first 281 iterations.\n",
      "Seed-3 | Fold-0 | OOF Score: 21.00419166209114\n",
      "0:\tlearn: 2676.4654047\ttest: 2753.1989664\tbest: 2753.1989664 (0)\ttotal: 61.6ms\tremaining: 8m 12s\n",
      "200:\tlearn: 1029.8486819\ttest: 2468.1460734\tbest: 2459.5716219 (159)\ttotal: 5.25s\tremaining: 3m 23s\n",
      "bestTest = 2459.571622\n",
      "bestIteration = 159\n",
      "Shrink model to first 160 iterations.\n",
      "Seed-3 | Fold-1 | OOF Score: 20.757356515360158\n",
      "0:\tlearn: 2686.3391924\ttest: 2707.4879314\tbest: 2707.4879314 (0)\ttotal: 31.7ms\tremaining: 4m 13s\n",
      "200:\tlearn: 1015.8399441\ttest: 2423.7168247\tbest: 2415.6076080 (113)\ttotal: 5s\tremaining: 3m 13s\n",
      "bestTest = 2415.607608\n",
      "bestIteration = 113\n",
      "Shrink model to first 114 iterations.\n",
      "Seed-3 | Fold-2 | OOF Score: 21.06954100819364\n",
      "0:\tlearn: 2693.4119290\ttest: 2681.4613364\tbest: 2681.4613364 (0)\ttotal: 30.2ms\tremaining: 4m 1s\n",
      "200:\tlearn: 1016.4648166\ttest: 2369.9478867\tbest: 2369.6445523 (198)\ttotal: 5.24s\tremaining: 3m 23s\n",
      "400:\tlearn: 434.5461102\ttest: 2388.2691082\tbest: 2368.9269631 (214)\ttotal: 10.8s\tremaining: 3m 25s\n",
      "bestTest = 2368.926963\n",
      "bestIteration = 214\n",
      "Shrink model to first 215 iterations.\n",
      "Seed-3 | Fold-3 | OOF Score: 22.500197363068043\n",
      "0:\tlearn: 2694.2256330\ttest: 2673.6507094\tbest: 2673.6507094 (0)\ttotal: 32ms\tremaining: 4m 15s\n",
      "200:\tlearn: 1021.2768946\ttest: 2371.2658639\tbest: 2370.6158681 (196)\ttotal: 5.22s\tremaining: 3m 22s\n",
      "400:\tlearn: 450.4583962\ttest: 2379.1819810\tbest: 2366.7191993 (255)\ttotal: 10.6s\tremaining: 3m 20s\n",
      "bestTest = 2366.719199\n",
      "bestIteration = 255\n",
      "Shrink model to first 256 iterations.\n",
      "Seed-3 | Fold-4 | OOF Score: 22.168229222676473\n",
      "\n",
      "Seed: 3 | Aggregate OOF Score: 21.49990315427789\n",
      "\n",
      "\n",
      "0:\tlearn: 2706.6836130\ttest: 2630.4393121\tbest: 2630.4393121 (0)\ttotal: 31.8ms\tremaining: 4m 14s\n",
      "200:\tlearn: 1024.8242723\ttest: 2410.6063590\tbest: 2407.5303283 (165)\ttotal: 5.41s\tremaining: 3m 29s\n",
      "400:\tlearn: 457.6522262\ttest: 2414.3029878\tbest: 2404.7892528 (279)\ttotal: 10.9s\tremaining: 3m 27s\n",
      "bestTest = 2404.789253\n",
      "bestIteration = 279\n",
      "Shrink model to first 280 iterations.\n",
      "Seed-56 | Fold-0 | OOF Score: 16.86301290792269\n",
      "0:\tlearn: 2669.3103324\ttest: 2778.7921746\tbest: 2778.7921746 (0)\ttotal: 31.5ms\tremaining: 4m 11s\n",
      "200:\tlearn: 1052.3344581\ttest: 2449.5175684\tbest: 2446.3813813 (179)\ttotal: 5.46s\tremaining: 3m 32s\n",
      "bestTest = 2446.381381\n",
      "bestIteration = 179\n",
      "Shrink model to first 180 iterations.\n",
      "Seed-56 | Fold-1 | OOF Score: 23.013281158920616\n",
      "0:\tlearn: 2708.2408509\ttest: 2627.5267039\tbest: 2627.5267039 (0)\ttotal: 31ms\tremaining: 4m 7s\n",
      "200:\tlearn: 1047.4084163\ttest: 2395.4796077\tbest: 2382.3683746 (113)\ttotal: 5.11s\tremaining: 3m 18s\n",
      "bestTest = 2382.368375\n",
      "bestIteration = 113\n",
      "Shrink model to first 114 iterations.\n",
      "Seed-56 | Fold-2 | OOF Score: 18.34925734165346\n",
      "0:\tlearn: 2673.8459693\ttest: 2760.0119302\tbest: 2760.0119302 (0)\ttotal: 31.5ms\tremaining: 4m 11s\n",
      "200:\tlearn: 1042.2099763\ttest: 2409.1937914\tbest: 2404.0446112 (172)\ttotal: 4.91s\tremaining: 3m 10s\n",
      "bestTest = 2404.044611\n",
      "bestIteration = 172\n",
      "Shrink model to first 173 iterations.\n",
      "Seed-56 | Fold-3 | OOF Score: 24.78571578890708\n",
      "0:\tlearn: 2689.8001378\ttest: 2690.7254988\tbest: 2690.7254988 (0)\ttotal: 32ms\tremaining: 4m 16s\n",
      "200:\tlearn: 1044.5720063\ttest: 2461.3219966\tbest: 2457.6122735 (172)\ttotal: 5.51s\tremaining: 3m 34s\n",
      "bestTest = 2457.612274\n",
      "bestIteration = 172\n",
      "Shrink model to first 173 iterations.\n",
      "Seed-56 | Fold-4 | OOF Score: 17.085418064622825\n",
      "\n",
      "Seed: 56 | Aggregate OOF Score: 20.019337052405337\n",
      "\n",
      "\n",
      "Aggregate OOF Score: 20.57217887033933\n"
     ]
    }
   ],
   "source": [
    "FOLD = 5\n",
    "NUM_SEED = 3\n",
    "\n",
    "np.random.seed(3)\n",
    "seeds = np.random.randint(0, 100, size=NUM_SEED)\n",
    "\n",
    "oof_score = 0\n",
    "y_pred_meta_cb = np.zeros((Ytrain.shape[0], 1))\n",
    "y_pred_final_cb = 0\n",
    "counter = 0\n",
    "\n",
    "\n",
    "for sidx, seed in enumerate(seeds):\n",
    "    seed_score = 0\n",
    "    \n",
    "    kfold = StratifiedKFold(n_splits=FOLD, shuffle=True, random_state=seed)\n",
    "\n",
    "    for idx, (train, val) in enumerate(kfold.split(Xtrain.values, Ytrain_strat)):\n",
    "        counter += 1\n",
    "\n",
    "        train_x, train_y = Xtrain.iloc[train], Ytrain.iloc[train]\n",
    "        val_x, val_y = Xtrain.iloc[val], Ytrain.iloc[val]\n",
    "\n",
    "        model = CatBoostRegressor(\n",
    "            objective='RMSE',\n",
    "            eval_metric='RMSE',\n",
    "            num_boost_round=8000,\n",
    "            learning_rate=0.0173,\n",
    "            reg_lambda=0.00044,\n",
    "            bootstrap_type='Poisson',\n",
    "            subsample=0.8602,\n",
    "            max_depth=6, \n",
    "            grow_policy='Lossguide',\n",
    "            min_data_in_leaf=3, \n",
    "            max_leaves=373,\n",
    "            task_type='GPU',\n",
    "            verbose=0\n",
    "        )\n",
    "\n",
    "        model.fit(train_x, train_y, eval_set=[(val_x, val_y)], \n",
    "                  cat_features=cat_cols_indices,\n",
    "                  early_stopping_rounds=200, verbose=200)\n",
    "\n",
    "        y_pred = model.predict(val_x)\n",
    "        y_pred_meta_cb[val] += np.array([y_pred]).T\n",
    "        y_pred_final_cb += model.predict(Xtest)\n",
    "        \n",
    "        score = 100 * r2_score(val_y, y_pred)\n",
    "        oof_score += score\n",
    "        seed_score += score\n",
    "        print(\"Seed-{} | Fold-{} | OOF Score: {}\".format(seed, idx, score))\n",
    "    \n",
    "    print(\"\\nSeed: {} | Aggregate OOF Score: {}\\n\\n\".format(seed, (seed_score / FOLD)))\n",
    "\n",
    "\n",
    "y_pred_meta_cb = y_pred_meta_cb / float(counter)\n",
    "y_pred_final_cb = y_pred_final_cb / float(counter)\n",
    "oof_score /= float(counter)\n",
    "print(\"Aggregate OOF Score: {}\".format(oof_score))"
   ]
  },
  {
   "cell_type": "code",
   "execution_count": 6,
   "id": "mighty-challenge",
   "metadata": {
    "execution": {
     "iopub.execute_input": "2021-06-12T03:39:02.189676Z",
     "iopub.status.busy": "2021-06-12T03:39:02.186371Z",
     "iopub.status.idle": "2021-06-12T03:39:02.192999Z",
     "shell.execute_reply": "2021-06-12T03:39:02.193482Z",
     "shell.execute_reply.started": "2021-05-26T09:02:14.574835Z"
    },
    "id": "uLzmS7LzXvXy",
    "papermill": {
     "duration": 0.050553,
     "end_time": "2021-06-12T03:39:02.193682",
     "exception": false,
     "start_time": "2021-06-12T03:39:02.143129",
     "status": "completed"
    },
    "tags": []
   },
   "outputs": [],
   "source": [
    "np.savez_compressed('./CB_Meta_Features.npz',\n",
    "                    y_pred_meta_cb=y_pred_meta_cb, \n",
    "                    oof_score=oof_score,\n",
    "                    y_pred_final_cb=y_pred_final_cb)"
   ]
  },
  {
   "cell_type": "markdown",
   "id": "occupied-sugar",
   "metadata": {
    "papermill": {
     "duration": 0.038124,
     "end_time": "2021-06-12T03:39:02.269937",
     "exception": false,
     "start_time": "2021-06-12T03:39:02.231813",
     "status": "completed"
    },
    "tags": []
   },
   "source": [
    "## Create submission file"
   ]
  },
  {
   "cell_type": "code",
   "execution_count": 7,
   "id": "judicial-regard",
   "metadata": {
    "execution": {
     "iopub.execute_input": "2021-06-12T03:39:02.351415Z",
     "iopub.status.busy": "2021-06-12T03:39:02.350706Z",
     "iopub.status.idle": "2021-06-12T03:39:02.515990Z",
     "shell.execute_reply": "2021-06-12T03:39:02.516839Z",
     "shell.execute_reply.started": "2021-05-26T09:02:19.50546Z"
    },
    "executionInfo": {
     "elapsed": 3141,
     "status": "ok",
     "timestamp": 1616223489651,
     "user": {
      "displayName": "TAPAS DAS",
      "photoUrl": "https://lh3.googleusercontent.com/a-/AOh14GiyffdGKiPCR_UwVittzTcbBFms70IkGfU15fatCA=s64",
      "userId": "10798398878324948542"
     },
     "user_tz": -330
    },
    "id": "zGEGOAJHVoHV",
    "outputId": "11f9ca4c-9cca-46f6-b9a6-907ad0a09927",
    "papermill": {
     "duration": 0.208697,
     "end_time": "2021-06-12T03:39:02.517041",
     "exception": false,
     "start_time": "2021-06-12T03:39:02.308344",
     "status": "completed"
    },
    "tags": []
   },
   "outputs": [
    {
     "data": {
      "text/plain": [
       "40"
      ]
     },
     "execution_count": 7,
     "metadata": {},
     "output_type": "execute_result"
    }
   ],
   "source": [
    "with open(\"../input/he-ffi-preprocess-data/HE_FFI_Dataset.txt\", 'rb') as handle: \n",
    "    data = handle.read()\n",
    "\n",
    "processed_data = pickle.loads(data)\n",
    "test_df = processed_data['test_df']\n",
    "\n",
    "del processed_data\n",
    "gc.collect()"
   ]
  },
  {
   "cell_type": "code",
   "execution_count": 8,
   "id": "convertible-arkansas",
   "metadata": {
    "execution": {
     "iopub.execute_input": "2021-06-12T03:39:02.603167Z",
     "iopub.status.busy": "2021-06-12T03:39:02.602465Z",
     "iopub.status.idle": "2021-06-12T03:39:02.788440Z",
     "shell.execute_reply": "2021-06-12T03:39:02.789345Z",
     "shell.execute_reply.started": "2021-05-26T09:02:22.534683Z"
    },
    "papermill": {
     "duration": 0.23444,
     "end_time": "2021-06-12T03:39:02.789562",
     "exception": false,
     "start_time": "2021-06-12T03:39:02.555122",
     "status": "completed"
    },
    "tags": []
   },
   "outputs": [
    {
     "data": {
      "text/html": [
       "<div>\n",
       "<style scoped>\n",
       "    .dataframe tbody tr th:only-of-type {\n",
       "        vertical-align: middle;\n",
       "    }\n",
       "\n",
       "    .dataframe tbody tr th {\n",
       "        vertical-align: top;\n",
       "    }\n",
       "\n",
       "    .dataframe thead th {\n",
       "        text-align: right;\n",
       "    }\n",
       "</style>\n",
       "<table border=\"1\" class=\"dataframe\">\n",
       "  <thead>\n",
       "    <tr style=\"text-align: right;\">\n",
       "      <th></th>\n",
       "      <th>Image_path</th>\n",
       "      <th>Condition</th>\n",
       "      <th>Amount</th>\n",
       "    </tr>\n",
       "  </thead>\n",
       "  <tbody>\n",
       "    <tr>\n",
       "      <th>0</th>\n",
       "      <td>img_4538519.jpg</td>\n",
       "      <td>1.0</td>\n",
       "      <td>3002.689565</td>\n",
       "    </tr>\n",
       "    <tr>\n",
       "      <th>1</th>\n",
       "      <td>img_7766002.jpg</td>\n",
       "      <td>1.0</td>\n",
       "      <td>4248.755225</td>\n",
       "    </tr>\n",
       "    <tr>\n",
       "      <th>2</th>\n",
       "      <td>img_4637390.jpg</td>\n",
       "      <td>1.0</td>\n",
       "      <td>4103.788020</td>\n",
       "    </tr>\n",
       "    <tr>\n",
       "      <th>3</th>\n",
       "      <td>img_4516108.jpg</td>\n",
       "      <td>1.0</td>\n",
       "      <td>4169.496958</td>\n",
       "    </tr>\n",
       "    <tr>\n",
       "      <th>4</th>\n",
       "      <td>img_4517008.jpg</td>\n",
       "      <td>1.0</td>\n",
       "      <td>3624.393398</td>\n",
       "    </tr>\n",
       "  </tbody>\n",
       "</table>\n",
       "</div>"
      ],
      "text/plain": [
       "        Image_path  Condition       Amount\n",
       "0  img_4538519.jpg        1.0  3002.689565\n",
       "1  img_7766002.jpg        1.0  4248.755225\n",
       "2  img_4637390.jpg        1.0  4103.788020\n",
       "3  img_4516108.jpg        1.0  4169.496958\n",
       "4  img_4517008.jpg        1.0  3624.393398"
      ]
     },
     "execution_count": 8,
     "metadata": {},
     "output_type": "execute_result"
    }
   ],
   "source": [
    "test_df1 = pd.read_csv(\"../input/he-fast-furious-insured/dataset/test.csv\")\n",
    "\n",
    "submit_df = pd.DataFrame()\n",
    "submit_df['Image_path'] = test_df1['Image_path']\n",
    "submit_df['Condition'] = test_df['Condition']\n",
    "submit_df['Amount'] = y_pred_final_cb\n",
    "\n",
    "submit_df.to_csv(\"./CB_Submission_wo_Adjustment.csv\", index=False)\n",
    "submit_df.head()"
   ]
  },
  {
   "cell_type": "code",
   "execution_count": 9,
   "id": "modern-melissa",
   "metadata": {
    "execution": {
     "iopub.execute_input": "2021-06-12T03:39:02.880365Z",
     "iopub.status.busy": "2021-06-12T03:39:02.879664Z",
     "iopub.status.idle": "2021-06-12T03:39:02.915551Z",
     "shell.execute_reply": "2021-06-12T03:39:02.916436Z"
    },
    "id": "W2c88MvxXm65",
    "papermill": {
     "duration": 0.086621,
     "end_time": "2021-06-12T03:39:02.916618",
     "exception": false,
     "start_time": "2021-06-12T03:39:02.829997",
     "status": "completed"
    },
    "tags": []
   },
   "outputs": [
    {
     "data": {
      "text/html": [
       "<div>\n",
       "<style scoped>\n",
       "    .dataframe tbody tr th:only-of-type {\n",
       "        vertical-align: middle;\n",
       "    }\n",
       "\n",
       "    .dataframe tbody tr th {\n",
       "        vertical-align: top;\n",
       "    }\n",
       "\n",
       "    .dataframe thead th {\n",
       "        text-align: right;\n",
       "    }\n",
       "</style>\n",
       "<table border=\"1\" class=\"dataframe\">\n",
       "  <thead>\n",
       "    <tr style=\"text-align: right;\">\n",
       "      <th></th>\n",
       "      <th>Image_path</th>\n",
       "      <th>Condition</th>\n",
       "      <th>Amount</th>\n",
       "    </tr>\n",
       "  </thead>\n",
       "  <tbody>\n",
       "    <tr>\n",
       "      <th>0</th>\n",
       "      <td>img_4538519.jpg</td>\n",
       "      <td>1.0</td>\n",
       "      <td>3002.689565</td>\n",
       "    </tr>\n",
       "    <tr>\n",
       "      <th>1</th>\n",
       "      <td>img_7766002.jpg</td>\n",
       "      <td>1.0</td>\n",
       "      <td>4248.755225</td>\n",
       "    </tr>\n",
       "    <tr>\n",
       "      <th>2</th>\n",
       "      <td>img_4637390.jpg</td>\n",
       "      <td>1.0</td>\n",
       "      <td>4103.788020</td>\n",
       "    </tr>\n",
       "    <tr>\n",
       "      <th>3</th>\n",
       "      <td>img_4516108.jpg</td>\n",
       "      <td>1.0</td>\n",
       "      <td>4169.496958</td>\n",
       "    </tr>\n",
       "    <tr>\n",
       "      <th>4</th>\n",
       "      <td>img_4517008.jpg</td>\n",
       "      <td>1.0</td>\n",
       "      <td>3624.393398</td>\n",
       "    </tr>\n",
       "  </tbody>\n",
       "</table>\n",
       "</div>"
      ],
      "text/plain": [
       "        Image_path  Condition       Amount\n",
       "0  img_4538519.jpg        1.0  3002.689565\n",
       "1  img_7766002.jpg        1.0  4248.755225\n",
       "2  img_4637390.jpg        1.0  4103.788020\n",
       "3  img_4516108.jpg        1.0  4169.496958\n",
       "4  img_4517008.jpg        1.0  3624.393398"
      ]
     },
     "execution_count": 9,
     "metadata": {},
     "output_type": "execute_result"
    }
   ],
   "source": [
    "test_df1 = pd.read_csv(\"../input/he-fast-furious-insured/dataset/test.csv\")\n",
    "\n",
    "submit_df = pd.DataFrame()\n",
    "submit_df['Image_path'] = test_df1['Image_path']\n",
    "submit_df['Condition'] = test_df['Condition']\n",
    "submit_df['Amount'] = y_pred_final_cb\n",
    "submit_df.loc[test_df['Condition']==0, 'Amount'] = 0\n",
    "\n",
    "submit_df.to_csv(\"./CB_Submission_w_Adjustment.csv\", index=False)\n",
    "submit_df.head()"
   ]
  },
  {
   "cell_type": "code",
   "execution_count": null,
   "id": "stretch-specification",
   "metadata": {
    "papermill": {
     "duration": 0.026979,
     "end_time": "2021-06-12T03:39:02.979905",
     "exception": false,
     "start_time": "2021-06-12T03:39:02.952926",
     "status": "completed"
    },
    "tags": []
   },
   "outputs": [],
   "source": []
  }
 ],
 "metadata": {
  "kernelspec": {
   "display_name": "Python 3",
   "language": "python",
   "name": "python3"
  },
  "language_info": {
   "codemirror_mode": {
    "name": "ipython",
    "version": 3
   },
   "file_extension": ".py",
   "mimetype": "text/x-python",
   "name": "python",
   "nbconvert_exporter": "python",
   "pygments_lexer": "ipython3",
   "version": "3.7.10"
  },
  "papermill": {
   "default_parameters": {},
   "duration": 243.591782,
   "end_time": "2021-06-12T03:39:03.615034",
   "environment_variables": {},
   "exception": null,
   "input_path": "__notebook__.ipynb",
   "output_path": "__notebook__.ipynb",
   "parameters": {},
   "start_time": "2021-06-12T03:35:00.023252",
   "version": "2.3.3"
  }
 },
 "nbformat": 4,
 "nbformat_minor": 5
}
