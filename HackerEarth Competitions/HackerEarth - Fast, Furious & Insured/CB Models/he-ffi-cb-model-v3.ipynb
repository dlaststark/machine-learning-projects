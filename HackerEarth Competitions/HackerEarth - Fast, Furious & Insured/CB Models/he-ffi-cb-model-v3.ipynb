{
 "cells": [
  {
   "cell_type": "markdown",
   "id": "removable-victoria",
   "metadata": {
    "id": "uLz9OcH8SeET",
    "papermill": {
     "duration": 0.013576,
     "end_time": "2021-06-11T12:20:03.253361",
     "exception": false,
     "start_time": "2021-06-11T12:20:03.239785",
     "status": "completed"
    },
    "tags": []
   },
   "source": [
    "## Import libraries"
   ]
  },
  {
   "cell_type": "code",
   "execution_count": 1,
   "id": "powerful-compilation",
   "metadata": {
    "execution": {
     "iopub.execute_input": "2021-06-11T12:20:03.291972Z",
     "iopub.status.busy": "2021-06-11T12:20:03.291168Z",
     "iopub.status.idle": "2021-06-11T12:20:04.376479Z",
     "shell.execute_reply": "2021-06-11T12:20:04.375717Z",
     "shell.execute_reply.started": "2021-06-11T12:11:36.565444Z"
    },
    "executionInfo": {
     "elapsed": 23727,
     "status": "ok",
     "timestamp": 1616326442041,
     "user": {
      "displayName": "TAPAS DAS",
      "photoUrl": "https://lh3.googleusercontent.com/a-/AOh14GiyffdGKiPCR_UwVittzTcbBFms70IkGfU15fatCA=s64",
      "userId": "10798398878324948542"
     },
     "user_tz": -330
    },
    "id": "E9svswc9SUuX",
    "papermill": {
     "duration": 1.110859,
     "end_time": "2021-06-11T12:20:04.376723",
     "exception": false,
     "start_time": "2021-06-11T12:20:03.265864",
     "status": "completed"
    },
    "tags": []
   },
   "outputs": [],
   "source": [
    "import gc\n",
    "import pickle\n",
    "import numpy as np\n",
    "import pandas as pd\n",
    "from sklearn.metrics import r2_score\n",
    "from catboost import CatBoostRegressor\n",
    "from sklearn.model_selection import StratifiedKFold"
   ]
  },
  {
   "cell_type": "markdown",
   "id": "united-cambridge",
   "metadata": {
    "id": "hg85SpW-S6hl",
    "papermill": {
     "duration": 0.011883,
     "end_time": "2021-06-11T12:20:04.401373",
     "exception": false,
     "start_time": "2021-06-11T12:20:04.389490",
     "status": "completed"
    },
    "tags": []
   },
   "source": [
    "## Prepare data for model training"
   ]
  },
  {
   "cell_type": "code",
   "execution_count": 2,
   "id": "hybrid-charleston",
   "metadata": {
    "execution": {
     "iopub.execute_input": "2021-06-11T12:20:04.432125Z",
     "iopub.status.busy": "2021-06-11T12:20:04.431502Z",
     "iopub.status.idle": "2021-06-11T12:20:05.230485Z",
     "shell.execute_reply": "2021-06-11T12:20:05.232862Z",
     "shell.execute_reply.started": "2021-06-11T12:11:37.478384Z"
    },
    "executionInfo": {
     "elapsed": 10043,
     "status": "ok",
     "timestamp": 1616326444482,
     "user": {
      "displayName": "TAPAS DAS",
      "photoUrl": "https://lh3.googleusercontent.com/a-/AOh14GiyffdGKiPCR_UwVittzTcbBFms70IkGfU15fatCA=s64",
      "userId": "10798398878324948542"
     },
     "user_tz": -330
    },
    "id": "VdhgoIAmSUxK",
    "outputId": "7897cfad-c8d4-46d9-86ea-04de37e11444",
    "papermill": {
     "duration": 0.819319,
     "end_time": "2021-06-11T12:20:05.233141",
     "exception": false,
     "start_time": "2021-06-11T12:20:04.413822",
     "status": "completed"
    },
    "tags": []
   },
   "outputs": [
    {
     "data": {
      "text/plain": [
       "0"
      ]
     },
     "execution_count": 2,
     "metadata": {},
     "output_type": "execute_result"
    }
   ],
   "source": [
    "with open(\"../input/he-ffi-preprocess-data-v2-3/HE_FFI_Dataset.txt\", 'rb') as handle: \n",
    "    data = handle.read()\n",
    "\n",
    "processed_data = pickle.loads(data)\n",
    "train_df = processed_data['train_df']\n",
    "test_df = processed_data['test_df']\n",
    "\n",
    "del processed_data\n",
    "gc.collect()"
   ]
  },
  {
   "cell_type": "code",
   "execution_count": 3,
   "id": "rotary-knife",
   "metadata": {
    "execution": {
     "iopub.execute_input": "2021-06-11T12:20:05.291572Z",
     "iopub.status.busy": "2021-06-11T12:20:05.290606Z",
     "iopub.status.idle": "2021-06-11T12:20:05.318735Z",
     "shell.execute_reply": "2021-06-11T12:20:05.318163Z",
     "shell.execute_reply.started": "2021-06-11T12:11:38.090878Z"
    },
    "papermill": {
     "duration": 0.06355,
     "end_time": "2021-06-11T12:20:05.318865",
     "exception": false,
     "start_time": "2021-06-11T12:20:05.255315",
     "status": "completed"
    },
    "tags": []
   },
   "outputs": [
    {
     "name": "stdout",
     "output_type": "stream",
     "text": [
      "[0, 6, 7, 3, 8, 12, 13]\n"
     ]
    }
   ],
   "source": [
    "cat_cols = ['Insurance_company','expiry_dt_year','expiry_dt_quarter','Condition',\n",
    "            'expiry_dt_month','expiry_dt_day_week','expiry_dt_day_weekend']\n",
    "\n",
    "train_df[cat_cols] = train_df[cat_cols].astype(int)\n",
    "test_df[cat_cols] = test_df[cat_cols].astype(int)\n",
    "cat_cols_indices = [train_df.columns.get_loc(col) for col in cat_cols]\n",
    "print(cat_cols_indices)"
   ]
  },
  {
   "cell_type": "code",
   "execution_count": 4,
   "id": "direct-convenience",
   "metadata": {
    "execution": {
     "iopub.execute_input": "2021-06-11T12:20:05.354009Z",
     "iopub.status.busy": "2021-06-11T12:20:05.352932Z",
     "iopub.status.idle": "2021-06-11T12:20:05.469490Z",
     "shell.execute_reply": "2021-06-11T12:20:05.470152Z",
     "shell.execute_reply.started": "2021-06-11T12:11:40.674359Z"
    },
    "executionInfo": {
     "elapsed": 2058,
     "status": "ok",
     "timestamp": 1616326525321,
     "user": {
      "displayName": "TAPAS DAS",
      "photoUrl": "https://lh3.googleusercontent.com/a-/AOh14GiyffdGKiPCR_UwVittzTcbBFms70IkGfU15fatCA=s64",
      "userId": "10798398878324948542"
     },
     "user_tz": -330
    },
    "id": "UAfyHbeASU7C",
    "outputId": "14c429a7-7b43-4065-afae-da7d4f6679a9",
    "papermill": {
     "duration": 0.138754,
     "end_time": "2021-06-11T12:20:05.470352",
     "exception": false,
     "start_time": "2021-06-11T12:20:05.331598",
     "status": "completed"
    },
    "tags": []
   },
   "outputs": [
    {
     "name": "stdout",
     "output_type": "stream",
     "text": [
      "Xtrain: (1382, 1691) \n",
      "Ytrain: (1382,) \n",
      "Xtest: (600, 1691)\n"
     ]
    },
    {
     "data": {
      "text/plain": [
       "0"
      ]
     },
     "execution_count": 4,
     "metadata": {},
     "output_type": "execute_result"
    }
   ],
   "source": [
    "Xtrain = train_df.loc[:, ~train_df.columns.isin(['Image_path','Amount'])].copy()\n",
    "Ytrain = train_df['Amount'].copy()\n",
    "Ytrain_strat = pd.qcut(train_df['Amount'].values, q=5, labels=range(0,5))\n",
    "Xtest = test_df.loc[:, ~test_df.columns.isin(['Image_path'])].copy()\n",
    "\n",
    "print(\"Xtrain: {} \\nYtrain: {} \\nXtest: {}\".format(Xtrain.shape, Ytrain.shape, Xtest.shape))\n",
    "\n",
    "del train_df\n",
    "del test_df\n",
    "gc.collect()"
   ]
  },
  {
   "cell_type": "markdown",
   "id": "immune-learning",
   "metadata": {
    "id": "9wNC5rWEVnjd",
    "papermill": {
     "duration": 0.013393,
     "end_time": "2021-06-11T12:20:05.497930",
     "exception": false,
     "start_time": "2021-06-11T12:20:05.484537",
     "status": "completed"
    },
    "tags": []
   },
   "source": [
    "## Build and validate the model"
   ]
  },
  {
   "cell_type": "code",
   "execution_count": 5,
   "id": "personal-packaging",
   "metadata": {
    "execution": {
     "iopub.execute_input": "2021-06-11T12:20:05.539964Z",
     "iopub.status.busy": "2021-06-11T12:20:05.538623Z",
     "iopub.status.idle": "2021-06-11T12:25:02.057812Z",
     "shell.execute_reply": "2021-06-11T12:25:02.059263Z",
     "shell.execute_reply.started": "2021-06-11T12:11:43.221977Z"
    },
    "id": "uWPosEORSVBp",
    "outputId": "d70ac047-a86b-4f36-84cc-960b1b5316be",
    "papermill": {
     "duration": 296.547691,
     "end_time": "2021-06-11T12:25:02.059606",
     "exception": false,
     "start_time": "2021-06-11T12:20:05.511915",
     "status": "completed"
    },
    "tags": []
   },
   "outputs": [
    {
     "name": "stdout",
     "output_type": "stream",
     "text": [
      "0:\tlearn: 2686.8353435\ttest: 2712.5778539\tbest: 2712.5778539 (0)\ttotal: 40.9ms\tremaining: 5m 27s\n",
      "200:\tlearn: 1038.6311075\ttest: 2431.3791721\tbest: 2422.3676814 (123)\ttotal: 7.07s\tremaining: 4m 34s\n",
      "bestTest = 2422.367681\n",
      "bestIteration = 123\n",
      "Shrink model to first 124 iterations.\n",
      "Seed-24 | Fold-0 | OOF Score: 20.755705309708674\n",
      "0:\tlearn: 2699.7292038\ttest: 2650.0766449\tbest: 2650.0766449 (0)\ttotal: 36.4ms\tremaining: 4m 51s\n",
      "200:\tlearn: 1042.7332826\ttest: 2384.7954479\tbest: 2378.9981691 (135)\ttotal: 6.56s\tremaining: 4m 14s\n",
      "bestTest = 2378.998169\n",
      "bestIteration = 135\n",
      "Shrink model to first 136 iterations.\n",
      "Seed-24 | Fold-1 | OOF Score: 19.882052213407043\n",
      "0:\tlearn: 2700.3073109\ttest: 2662.8120257\tbest: 2662.8120257 (0)\ttotal: 33.8ms\tremaining: 4m 30s\n",
      "200:\tlearn: 1033.3829835\ttest: 2457.0975219\tbest: 2446.0930339 (141)\ttotal: 7.49s\tremaining: 4m 50s\n",
      "bestTest = 2446.093034\n",
      "bestIteration = 141\n",
      "Shrink model to first 142 iterations.\n",
      "Seed-24 | Fold-2 | OOF Score: 16.100630152968996\n",
      "0:\tlearn: 2680.0782262\ttest: 2740.3156065\tbest: 2740.3156065 (0)\ttotal: 37.9ms\tremaining: 5m 3s\n",
      "200:\tlearn: 1039.4302515\ttest: 2428.9868825\tbest: 2428.1995477 (192)\ttotal: 6.9s\tremaining: 4m 27s\n",
      "bestTest = 2428.199548\n",
      "bestIteration = 192\n",
      "Shrink model to first 193 iterations.\n",
      "Seed-24 | Fold-3 | OOF Score: 22.09241707758327\n",
      "0:\tlearn: 2684.1030910\ttest: 2725.3328795\tbest: 2725.3328795 (0)\ttotal: 36.5ms\tremaining: 4m 52s\n",
      "200:\tlearn: 1022.9241636\ttest: 2464.2648079\tbest: 2444.5494295 (128)\ttotal: 6.88s\tremaining: 4m 27s\n",
      "bestTest = 2444.549429\n",
      "bestIteration = 128\n",
      "Shrink model to first 129 iterations.\n",
      "Seed-24 | Fold-4 | OOF Score: 20.129661040054447\n",
      "\n",
      "Seed: 24 | Aggregate OOF Score: 19.792093158744485\n",
      "\n",
      "\n",
      "0:\tlearn: 2698.6432683\ttest: 2670.7301507\tbest: 2670.7301507 (0)\ttotal: 34.6ms\tremaining: 4m 36s\n",
      "200:\tlearn: 1064.1931985\ttest: 2407.3837800\tbest: 2405.2455792 (194)\ttotal: 6.39s\tremaining: 4m 8s\n",
      "400:\tlearn: 473.8032278\ttest: 2401.0508409\tbest: 2399.6066104 (330)\ttotal: 13.8s\tremaining: 4m 22s\n",
      "bestTest = 2399.60661\n",
      "bestIteration = 330\n",
      "Shrink model to first 331 iterations.\n",
      "Seed-3 | Fold-0 | OOF Score: 19.88937395499444\n",
      "0:\tlearn: 2674.1880006\ttest: 2753.0808892\tbest: 2753.0808892 (0)\ttotal: 37.3ms\tremaining: 4m 58s\n",
      "200:\tlearn: 1021.2645023\ttest: 2469.2632614\tbest: 2459.3508580 (158)\ttotal: 6.43s\tremaining: 4m 9s\n",
      "bestTest = 2459.350858\n",
      "bestIteration = 158\n",
      "Shrink model to first 159 iterations.\n",
      "Seed-3 | Fold-1 | OOF Score: 20.77157779392057\n",
      "0:\tlearn: 2685.5629183\ttest: 2710.5448621\tbest: 2710.5448621 (0)\ttotal: 37.2ms\tremaining: 4m 57s\n",
      "200:\tlearn: 1036.4470120\ttest: 2415.4546846\tbest: 2413.2544146 (130)\ttotal: 7.27s\tremaining: 4m 42s\n",
      "bestTest = 2413.254415\n",
      "bestIteration = 130\n",
      "Shrink model to first 131 iterations.\n",
      "Seed-3 | Fold-2 | OOF Score: 21.22324192826489\n",
      "0:\tlearn: 2692.4208888\ttest: 2682.6520298\tbest: 2682.6520298 (0)\ttotal: 37.3ms\tremaining: 4m 58s\n",
      "200:\tlearn: 1020.4178983\ttest: 2432.9500433\tbest: 2426.6959705 (147)\ttotal: 6.97s\tremaining: 4m 30s\n",
      "bestTest = 2426.695971\n",
      "bestIteration = 147\n",
      "Shrink model to first 148 iterations.\n",
      "Seed-3 | Fold-3 | OOF Score: 18.67427398881487\n",
      "0:\tlearn: 2695.1469613\ttest: 2673.6310218\tbest: 2673.6310218 (0)\ttotal: 35.4ms\tremaining: 4m 43s\n",
      "200:\tlearn: 1030.8936133\ttest: 2413.9924474\tbest: 2409.8963114 (179)\ttotal: 6.73s\tremaining: 4m 21s\n",
      "bestTest = 2409.896311\n",
      "bestIteration = 179\n",
      "Shrink model to first 180 iterations.\n",
      "Seed-3 | Fold-4 | OOF Score: 19.30248431768893\n",
      "\n",
      "Seed: 3 | Aggregate OOF Score: 19.97219039673674\n",
      "\n",
      "\n",
      "0:\tlearn: 2707.8689930\ttest: 2630.6966586\tbest: 2630.6966586 (0)\ttotal: 39.1ms\tremaining: 5m 12s\n",
      "200:\tlearn: 997.2645591\ttest: 2406.8108413\tbest: 2393.7576581 (135)\ttotal: 6.8s\tremaining: 4m 23s\n",
      "bestTest = 2393.757658\n",
      "bestIteration = 135\n",
      "Shrink model to first 136 iterations.\n",
      "Seed-56 | Fold-0 | OOF Score: 17.62404498497474\n",
      "0:\tlearn: 2672.7117051\ttest: 2778.9749246\tbest: 2778.9749246 (0)\ttotal: 33.2ms\tremaining: 4m 25s\n",
      "200:\tlearn: 1034.0238460\ttest: 2470.3950020\tbest: 2468.0753957 (171)\ttotal: 7.59s\tremaining: 4m 54s\n",
      "bestTest = 2468.075396\n",
      "bestIteration = 171\n",
      "Shrink model to first 172 iterations.\n",
      "Seed-56 | Fold-1 | OOF Score: 21.64181846477652\n",
      "0:\tlearn: 2709.1944927\ttest: 2630.5187674\tbest: 2630.5187674 (0)\ttotal: 34.8ms\tremaining: 4m 37s\n",
      "200:\tlearn: 1034.1262982\ttest: 2385.2083311\tbest: 2384.8936172 (199)\ttotal: 6.74s\tremaining: 4m 21s\n",
      "bestTest = 2384.893617\n",
      "bestIteration = 199\n",
      "Shrink model to first 200 iterations.\n",
      "Seed-56 | Fold-2 | OOF Score: 18.176078863989474\n",
      "0:\tlearn: 2677.1691724\ttest: 2760.9141943\tbest: 2760.9141943 (0)\ttotal: 35.2ms\tremaining: 4m 41s\n",
      "200:\tlearn: 1038.0777339\ttest: 2384.3655006\tbest: 2382.9080273 (165)\ttotal: 7.88s\tremaining: 5m 5s\n",
      "400:\tlearn: 459.3215376\ttest: 2401.4416926\tbest: 2381.6467327 (210)\ttotal: 15.2s\tremaining: 4m 47s\n",
      "bestTest = 2381.646733\n",
      "bestIteration = 210\n",
      "Shrink model to first 211 iterations.\n",
      "Seed-56 | Fold-3 | OOF Score: 26.180678321944196\n",
      "0:\tlearn: 2692.4326665\ttest: 2691.0466688\tbest: 2691.0466688 (0)\ttotal: 37.2ms\tremaining: 4m 57s\n",
      "200:\tlearn: 1050.8671353\ttest: 2463.7425049\tbest: 2457.7628569 (144)\ttotal: 7s\tremaining: 4m 31s\n",
      "bestTest = 2457.762857\n",
      "bestIteration = 144\n",
      "Shrink model to first 145 iterations.\n",
      "Seed-56 | Fold-4 | OOF Score: 17.07526072358121\n",
      "\n",
      "Seed: 56 | Aggregate OOF Score: 20.13957627185323\n",
      "\n",
      "\n",
      "Aggregate OOF Score: 19.96795327577815\n"
     ]
    }
   ],
   "source": [
    "FOLD = 5\n",
    "NUM_SEED = 3\n",
    "\n",
    "np.random.seed(3)\n",
    "seeds = np.random.randint(0, 100, size=NUM_SEED)\n",
    "\n",
    "oof_score = 0\n",
    "y_pred_meta_cb = np.zeros((Ytrain.shape[0], 1))\n",
    "y_pred_final_cb = 0\n",
    "counter = 0\n",
    "\n",
    "\n",
    "for sidx, seed in enumerate(seeds):\n",
    "    seed_score = 0\n",
    "    \n",
    "    kfold = StratifiedKFold(n_splits=FOLD, shuffle=True, random_state=seed)\n",
    "\n",
    "    for idx, (train, val) in enumerate(kfold.split(Xtrain.values, Ytrain_strat)):\n",
    "        counter += 1\n",
    "\n",
    "        train_x, train_y = Xtrain.iloc[train], Ytrain.iloc[train]\n",
    "        val_x, val_y = Xtrain.iloc[val], Ytrain.iloc[val]\n",
    "\n",
    "        model = CatBoostRegressor(\n",
    "            objective='RMSE',\n",
    "            eval_metric='RMSE',\n",
    "            num_boost_round=8000,\n",
    "            learning_rate=0.0173,\n",
    "            reg_lambda=0.00044,\n",
    "            bootstrap_type='Poisson',\n",
    "            subsample=0.8602,\n",
    "            max_depth=6, \n",
    "            grow_policy='Lossguide',\n",
    "            min_data_in_leaf=3, \n",
    "            max_leaves=373,\n",
    "            task_type='GPU',\n",
    "            verbose=0\n",
    "        )\n",
    "\n",
    "        model.fit(train_x, train_y, eval_set=[(val_x, val_y)], \n",
    "                  cat_features=cat_cols_indices,\n",
    "                  early_stopping_rounds=200, verbose=200)\n",
    "\n",
    "        y_pred = model.predict(val_x)\n",
    "        y_pred_meta_cb[val] += np.array([y_pred]).T\n",
    "        y_pred_final_cb += model.predict(Xtest)\n",
    "        \n",
    "        score = 100 * r2_score(val_y, y_pred)\n",
    "        oof_score += score\n",
    "        seed_score += score\n",
    "        print(\"Seed-{} | Fold-{} | OOF Score: {}\".format(seed, idx, score))\n",
    "    \n",
    "    print(\"\\nSeed: {} | Aggregate OOF Score: {}\\n\\n\".format(seed, (seed_score / FOLD)))\n",
    "\n",
    "\n",
    "y_pred_meta_cb = y_pred_meta_cb / float(counter)\n",
    "y_pred_final_cb = y_pred_final_cb / float(counter)\n",
    "oof_score /= float(counter)\n",
    "print(\"Aggregate OOF Score: {}\".format(oof_score))"
   ]
  },
  {
   "cell_type": "code",
   "execution_count": 6,
   "id": "silver-preserve",
   "metadata": {
    "execution": {
     "iopub.execute_input": "2021-06-11T12:25:02.223746Z",
     "iopub.status.busy": "2021-06-11T12:25:02.221783Z",
     "iopub.status.idle": "2021-06-11T12:25:02.224782Z",
     "shell.execute_reply": "2021-06-11T12:25:02.222760Z",
     "shell.execute_reply.started": "2021-05-26T09:02:14.574835Z"
    },
    "id": "uLzmS7LzXvXy",
    "papermill": {
     "duration": 0.075416,
     "end_time": "2021-06-11T12:25:02.225005",
     "exception": false,
     "start_time": "2021-06-11T12:25:02.149589",
     "status": "completed"
    },
    "tags": []
   },
   "outputs": [],
   "source": [
    "np.savez_compressed('./CB_Meta_Features.npz',\n",
    "                    y_pred_meta_cb=y_pred_meta_cb, \n",
    "                    oof_score=oof_score,\n",
    "                    y_pred_final_cb=y_pred_final_cb)"
   ]
  },
  {
   "cell_type": "markdown",
   "id": "coordinate-competition",
   "metadata": {
    "papermill": {
     "duration": 0.072571,
     "end_time": "2021-06-11T12:25:02.413352",
     "exception": false,
     "start_time": "2021-06-11T12:25:02.340781",
     "status": "completed"
    },
    "tags": []
   },
   "source": [
    "## Create submission file"
   ]
  },
  {
   "cell_type": "code",
   "execution_count": 7,
   "id": "marked-glossary",
   "metadata": {
    "execution": {
     "iopub.execute_input": "2021-06-11T12:25:02.611379Z",
     "iopub.status.busy": "2021-06-11T12:25:02.610315Z",
     "iopub.status.idle": "2021-06-11T12:25:02.781555Z",
     "shell.execute_reply": "2021-06-11T12:25:02.780875Z",
     "shell.execute_reply.started": "2021-05-26T09:02:19.50546Z"
    },
    "executionInfo": {
     "elapsed": 3141,
     "status": "ok",
     "timestamp": 1616223489651,
     "user": {
      "displayName": "TAPAS DAS",
      "photoUrl": "https://lh3.googleusercontent.com/a-/AOh14GiyffdGKiPCR_UwVittzTcbBFms70IkGfU15fatCA=s64",
      "userId": "10798398878324948542"
     },
     "user_tz": -330
    },
    "id": "zGEGOAJHVoHV",
    "outputId": "11f9ca4c-9cca-46f6-b9a6-907ad0a09927",
    "papermill": {
     "duration": 0.29322,
     "end_time": "2021-06-11T12:25:02.781702",
     "exception": false,
     "start_time": "2021-06-11T12:25:02.488482",
     "status": "completed"
    },
    "tags": []
   },
   "outputs": [
    {
     "data": {
      "text/plain": [
       "40"
      ]
     },
     "execution_count": 7,
     "metadata": {},
     "output_type": "execute_result"
    }
   ],
   "source": [
    "with open(\"../input/he-ffi-preprocess-data/HE_FFI_Dataset.txt\", 'rb') as handle: \n",
    "    data = handle.read()\n",
    "\n",
    "processed_data = pickle.loads(data)\n",
    "test_df = processed_data['test_df']\n",
    "\n",
    "del processed_data\n",
    "gc.collect()"
   ]
  },
  {
   "cell_type": "code",
   "execution_count": 8,
   "id": "through-leone",
   "metadata": {
    "execution": {
     "iopub.execute_input": "2021-06-11T12:25:02.878027Z",
     "iopub.status.busy": "2021-06-11T12:25:02.877384Z",
     "iopub.status.idle": "2021-06-11T12:25:03.071042Z",
     "shell.execute_reply": "2021-06-11T12:25:03.071635Z",
     "shell.execute_reply.started": "2021-05-26T09:02:22.534683Z"
    },
    "papermill": {
     "duration": 0.240563,
     "end_time": "2021-06-11T12:25:03.071809",
     "exception": false,
     "start_time": "2021-06-11T12:25:02.831246",
     "status": "completed"
    },
    "tags": []
   },
   "outputs": [
    {
     "data": {
      "text/html": [
       "<div>\n",
       "<style scoped>\n",
       "    .dataframe tbody tr th:only-of-type {\n",
       "        vertical-align: middle;\n",
       "    }\n",
       "\n",
       "    .dataframe tbody tr th {\n",
       "        vertical-align: top;\n",
       "    }\n",
       "\n",
       "    .dataframe thead th {\n",
       "        text-align: right;\n",
       "    }\n",
       "</style>\n",
       "<table border=\"1\" class=\"dataframe\">\n",
       "  <thead>\n",
       "    <tr style=\"text-align: right;\">\n",
       "      <th></th>\n",
       "      <th>Image_path</th>\n",
       "      <th>Condition</th>\n",
       "      <th>Amount</th>\n",
       "    </tr>\n",
       "  </thead>\n",
       "  <tbody>\n",
       "    <tr>\n",
       "      <th>0</th>\n",
       "      <td>img_4538519.jpg</td>\n",
       "      <td>1.0</td>\n",
       "      <td>2968.476652</td>\n",
       "    </tr>\n",
       "    <tr>\n",
       "      <th>1</th>\n",
       "      <td>img_7766002.jpg</td>\n",
       "      <td>1.0</td>\n",
       "      <td>3864.228406</td>\n",
       "    </tr>\n",
       "    <tr>\n",
       "      <th>2</th>\n",
       "      <td>img_4637390.jpg</td>\n",
       "      <td>1.0</td>\n",
       "      <td>4273.881793</td>\n",
       "    </tr>\n",
       "    <tr>\n",
       "      <th>3</th>\n",
       "      <td>img_4516108.jpg</td>\n",
       "      <td>1.0</td>\n",
       "      <td>4261.546559</td>\n",
       "    </tr>\n",
       "    <tr>\n",
       "      <th>4</th>\n",
       "      <td>img_4517008.jpg</td>\n",
       "      <td>1.0</td>\n",
       "      <td>3759.097767</td>\n",
       "    </tr>\n",
       "  </tbody>\n",
       "</table>\n",
       "</div>"
      ],
      "text/plain": [
       "        Image_path  Condition       Amount\n",
       "0  img_4538519.jpg        1.0  2968.476652\n",
       "1  img_7766002.jpg        1.0  3864.228406\n",
       "2  img_4637390.jpg        1.0  4273.881793\n",
       "3  img_4516108.jpg        1.0  4261.546559\n",
       "4  img_4517008.jpg        1.0  3759.097767"
      ]
     },
     "execution_count": 8,
     "metadata": {},
     "output_type": "execute_result"
    }
   ],
   "source": [
    "test_df1 = pd.read_csv(\"../input/he-fast-furious-insured/dataset/test.csv\")\n",
    "\n",
    "submit_df = pd.DataFrame()\n",
    "submit_df['Image_path'] = test_df1['Image_path']\n",
    "submit_df['Condition'] = test_df['Condition']\n",
    "submit_df['Amount'] = y_pred_final_cb\n",
    "\n",
    "submit_df.to_csv(\"./CB_Submission_wo_Adjustment.csv\", index=False)\n",
    "submit_df.head()"
   ]
  },
  {
   "cell_type": "code",
   "execution_count": 9,
   "id": "incredible-elements",
   "metadata": {
    "execution": {
     "iopub.execute_input": "2021-06-11T12:25:03.147297Z",
     "iopub.status.busy": "2021-06-11T12:25:03.146643Z",
     "iopub.status.idle": "2021-06-11T12:25:03.188486Z",
     "shell.execute_reply": "2021-06-11T12:25:03.187848Z"
    },
    "id": "W2c88MvxXm65",
    "papermill": {
     "duration": 0.081733,
     "end_time": "2021-06-11T12:25:03.188645",
     "exception": false,
     "start_time": "2021-06-11T12:25:03.106912",
     "status": "completed"
    },
    "tags": []
   },
   "outputs": [
    {
     "data": {
      "text/html": [
       "<div>\n",
       "<style scoped>\n",
       "    .dataframe tbody tr th:only-of-type {\n",
       "        vertical-align: middle;\n",
       "    }\n",
       "\n",
       "    .dataframe tbody tr th {\n",
       "        vertical-align: top;\n",
       "    }\n",
       "\n",
       "    .dataframe thead th {\n",
       "        text-align: right;\n",
       "    }\n",
       "</style>\n",
       "<table border=\"1\" class=\"dataframe\">\n",
       "  <thead>\n",
       "    <tr style=\"text-align: right;\">\n",
       "      <th></th>\n",
       "      <th>Image_path</th>\n",
       "      <th>Condition</th>\n",
       "      <th>Amount</th>\n",
       "    </tr>\n",
       "  </thead>\n",
       "  <tbody>\n",
       "    <tr>\n",
       "      <th>0</th>\n",
       "      <td>img_4538519.jpg</td>\n",
       "      <td>1.0</td>\n",
       "      <td>2968.476652</td>\n",
       "    </tr>\n",
       "    <tr>\n",
       "      <th>1</th>\n",
       "      <td>img_7766002.jpg</td>\n",
       "      <td>1.0</td>\n",
       "      <td>3864.228406</td>\n",
       "    </tr>\n",
       "    <tr>\n",
       "      <th>2</th>\n",
       "      <td>img_4637390.jpg</td>\n",
       "      <td>1.0</td>\n",
       "      <td>4273.881793</td>\n",
       "    </tr>\n",
       "    <tr>\n",
       "      <th>3</th>\n",
       "      <td>img_4516108.jpg</td>\n",
       "      <td>1.0</td>\n",
       "      <td>4261.546559</td>\n",
       "    </tr>\n",
       "    <tr>\n",
       "      <th>4</th>\n",
       "      <td>img_4517008.jpg</td>\n",
       "      <td>1.0</td>\n",
       "      <td>3759.097767</td>\n",
       "    </tr>\n",
       "  </tbody>\n",
       "</table>\n",
       "</div>"
      ],
      "text/plain": [
       "        Image_path  Condition       Amount\n",
       "0  img_4538519.jpg        1.0  2968.476652\n",
       "1  img_7766002.jpg        1.0  3864.228406\n",
       "2  img_4637390.jpg        1.0  4273.881793\n",
       "3  img_4516108.jpg        1.0  4261.546559\n",
       "4  img_4517008.jpg        1.0  3759.097767"
      ]
     },
     "execution_count": 9,
     "metadata": {},
     "output_type": "execute_result"
    }
   ],
   "source": [
    "test_df1 = pd.read_csv(\"../input/he-fast-furious-insured/dataset/test.csv\")\n",
    "\n",
    "submit_df = pd.DataFrame()\n",
    "submit_df['Image_path'] = test_df1['Image_path']\n",
    "submit_df['Condition'] = test_df['Condition']\n",
    "submit_df['Amount'] = y_pred_final_cb\n",
    "submit_df.loc[test_df['Condition']==0, 'Amount'] = 0\n",
    "\n",
    "submit_df.to_csv(\"./CB_Submission_w_Adjustment.csv\", index=False)\n",
    "submit_df.head()"
   ]
  },
  {
   "cell_type": "code",
   "execution_count": null,
   "id": "union-summer",
   "metadata": {
    "papermill": {
     "duration": 0.035578,
     "end_time": "2021-06-11T12:25:03.260193",
     "exception": false,
     "start_time": "2021-06-11T12:25:03.224615",
     "status": "completed"
    },
    "tags": []
   },
   "outputs": [],
   "source": []
  }
 ],
 "metadata": {
  "kernelspec": {
   "display_name": "Python 3",
   "language": "python",
   "name": "python3"
  },
  "language_info": {
   "codemirror_mode": {
    "name": "ipython",
    "version": 3
   },
   "file_extension": ".py",
   "mimetype": "text/x-python",
   "name": "python",
   "nbconvert_exporter": "python",
   "pygments_lexer": "ipython3",
   "version": "3.7.10"
  },
  "papermill": {
   "default_parameters": {},
   "duration": 308.732506,
   "end_time": "2021-06-11T12:25:04.017095",
   "environment_variables": {},
   "exception": null,
   "input_path": "__notebook__.ipynb",
   "output_path": "__notebook__.ipynb",
   "parameters": {},
   "start_time": "2021-06-11T12:19:55.284589",
   "version": "2.3.3"
  }
 },
 "nbformat": 4,
 "nbformat_minor": 5
}
