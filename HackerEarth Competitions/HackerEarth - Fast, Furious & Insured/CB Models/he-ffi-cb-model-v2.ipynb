{
 "cells": [
  {
   "cell_type": "markdown",
   "id": "surprising-power",
   "metadata": {
    "id": "uLz9OcH8SeET",
    "papermill": {
     "duration": 0.010392,
     "end_time": "2021-06-02T02:54:53.856546",
     "exception": false,
     "start_time": "2021-06-02T02:54:53.846154",
     "status": "completed"
    },
    "tags": []
   },
   "source": [
    "## Import libraries"
   ]
  },
  {
   "cell_type": "code",
   "execution_count": 1,
   "id": "proof-ready",
   "metadata": {
    "execution": {
     "iopub.execute_input": "2021-06-02T02:54:53.886590Z",
     "iopub.status.busy": "2021-06-02T02:54:53.885946Z",
     "iopub.status.idle": "2021-06-02T02:54:55.003831Z",
     "shell.execute_reply": "2021-06-02T02:54:55.002824Z",
     "shell.execute_reply.started": "2021-05-31T14:32:11.148155Z"
    },
    "executionInfo": {
     "elapsed": 23727,
     "status": "ok",
     "timestamp": 1616326442041,
     "user": {
      "displayName": "TAPAS DAS",
      "photoUrl": "https://lh3.googleusercontent.com/a-/AOh14GiyffdGKiPCR_UwVittzTcbBFms70IkGfU15fatCA=s64",
      "userId": "10798398878324948542"
     },
     "user_tz": -330
    },
    "id": "E9svswc9SUuX",
    "papermill": {
     "duration": 1.137716,
     "end_time": "2021-06-02T02:54:55.004016",
     "exception": false,
     "start_time": "2021-06-02T02:54:53.866300",
     "status": "completed"
    },
    "tags": []
   },
   "outputs": [],
   "source": [
    "import gc\n",
    "import pickle\n",
    "import numpy as np\n",
    "import pandas as pd\n",
    "from sklearn.metrics import r2_score\n",
    "from catboost import CatBoostRegressor\n",
    "from sklearn.model_selection import StratifiedKFold"
   ]
  },
  {
   "cell_type": "markdown",
   "id": "artistic-boundary",
   "metadata": {
    "id": "hg85SpW-S6hl",
    "papermill": {
     "duration": 0.009066,
     "end_time": "2021-06-02T02:54:55.022628",
     "exception": false,
     "start_time": "2021-06-02T02:54:55.013562",
     "status": "completed"
    },
    "tags": []
   },
   "source": [
    "## Prepare data for model training"
   ]
  },
  {
   "cell_type": "code",
   "execution_count": 2,
   "id": "moral-pharmacy",
   "metadata": {
    "execution": {
     "iopub.execute_input": "2021-06-02T02:54:55.046352Z",
     "iopub.status.busy": "2021-06-02T02:54:55.045769Z",
     "iopub.status.idle": "2021-06-02T02:54:55.656840Z",
     "shell.execute_reply": "2021-06-02T02:54:55.657796Z",
     "shell.execute_reply.started": "2021-05-31T14:32:12.065599Z"
    },
    "executionInfo": {
     "elapsed": 10043,
     "status": "ok",
     "timestamp": 1616326444482,
     "user": {
      "displayName": "TAPAS DAS",
      "photoUrl": "https://lh3.googleusercontent.com/a-/AOh14GiyffdGKiPCR_UwVittzTcbBFms70IkGfU15fatCA=s64",
      "userId": "10798398878324948542"
     },
     "user_tz": -330
    },
    "id": "VdhgoIAmSUxK",
    "outputId": "7897cfad-c8d4-46d9-86ea-04de37e11444",
    "papermill": {
     "duration": 0.626106,
     "end_time": "2021-06-02T02:54:55.657994",
     "exception": false,
     "start_time": "2021-06-02T02:54:55.031888",
     "status": "completed"
    },
    "tags": []
   },
   "outputs": [
    {
     "data": {
      "text/plain": [
       "0"
      ]
     },
     "execution_count": 2,
     "metadata": {},
     "output_type": "execute_result"
    }
   ],
   "source": [
    "with open(\"../input/he-ffi-preprocess-data-v2-2/HE_FFI_Dataset.txt\", 'rb') as handle: \n",
    "    data = handle.read()\n",
    "\n",
    "processed_data = pickle.loads(data)\n",
    "train_df = processed_data['train_df']\n",
    "test_df = processed_data['test_df']\n",
    "\n",
    "del processed_data\n",
    "gc.collect()"
   ]
  },
  {
   "cell_type": "code",
   "execution_count": 3,
   "id": "editorial-civilian",
   "metadata": {
    "execution": {
     "iopub.execute_input": "2021-06-02T02:54:55.702660Z",
     "iopub.status.busy": "2021-06-02T02:54:55.700659Z",
     "iopub.status.idle": "2021-06-02T02:54:55.722310Z",
     "shell.execute_reply": "2021-06-02T02:54:55.722839Z",
     "shell.execute_reply.started": "2021-05-31T14:32:12.674568Z"
    },
    "papermill": {
     "duration": 0.04667,
     "end_time": "2021-06-02T02:54:55.723017",
     "exception": false,
     "start_time": "2021-06-02T02:54:55.676347",
     "status": "completed"
    },
    "tags": []
   },
   "outputs": [
    {
     "name": "stdout",
     "output_type": "stream",
     "text": [
      "[0, 6, 7, 3, 8, 12, 13]\n"
     ]
    }
   ],
   "source": [
    "cat_cols = ['Insurance_company','expiry_dt_year','expiry_dt_quarter','Condition',\n",
    "            'expiry_dt_month','expiry_dt_day_week','expiry_dt_day_weekend']\n",
    "\n",
    "train_df[cat_cols] = train_df[cat_cols].astype(int)\n",
    "test_df[cat_cols] = test_df[cat_cols].astype(int)\n",
    "cat_cols_indices = [train_df.columns.get_loc(col) for col in cat_cols]\n",
    "print(cat_cols_indices)"
   ]
  },
  {
   "cell_type": "code",
   "execution_count": 4,
   "id": "compatible-dictionary",
   "metadata": {
    "execution": {
     "iopub.execute_input": "2021-06-02T02:54:55.750989Z",
     "iopub.status.busy": "2021-06-02T02:54:55.750206Z",
     "iopub.status.idle": "2021-06-02T02:54:55.852213Z",
     "shell.execute_reply": "2021-06-02T02:54:55.852616Z",
     "shell.execute_reply.started": "2021-05-31T14:32:12.70046Z"
    },
    "executionInfo": {
     "elapsed": 2058,
     "status": "ok",
     "timestamp": 1616326525321,
     "user": {
      "displayName": "TAPAS DAS",
      "photoUrl": "https://lh3.googleusercontent.com/a-/AOh14GiyffdGKiPCR_UwVittzTcbBFms70IkGfU15fatCA=s64",
      "userId": "10798398878324948542"
     },
     "user_tz": -330
    },
    "id": "UAfyHbeASU7C",
    "outputId": "14c429a7-7b43-4065-afae-da7d4f6679a9",
    "papermill": {
     "duration": 0.119307,
     "end_time": "2021-06-02T02:54:55.852757",
     "exception": false,
     "start_time": "2021-06-02T02:54:55.733450",
     "status": "completed"
    },
    "tags": []
   },
   "outputs": [
    {
     "name": "stdout",
     "output_type": "stream",
     "text": [
      "Xtrain: (1382, 1691) \n",
      "Ytrain: (1382,) \n",
      "Xtest: (600, 1691)\n"
     ]
    },
    {
     "data": {
      "text/plain": [
       "0"
      ]
     },
     "execution_count": 4,
     "metadata": {},
     "output_type": "execute_result"
    }
   ],
   "source": [
    "Xtrain = train_df.loc[:, ~train_df.columns.isin(['Image_path','Amount'])].copy()\n",
    "Ytrain = train_df['Amount'].copy()\n",
    "Ytrain_strat = pd.qcut(train_df['Amount'].values, q=5, labels=range(0,5))\n",
    "Xtest = test_df.loc[:, ~test_df.columns.isin(['Image_path'])].copy()\n",
    "\n",
    "print(\"Xtrain: {} \\nYtrain: {} \\nXtest: {}\".format(Xtrain.shape, Ytrain.shape, Xtest.shape))\n",
    "\n",
    "del train_df\n",
    "del test_df\n",
    "gc.collect()"
   ]
  },
  {
   "cell_type": "markdown",
   "id": "acquired-mining",
   "metadata": {
    "id": "9wNC5rWEVnjd",
    "papermill": {
     "duration": 0.010379,
     "end_time": "2021-06-02T02:54:55.873959",
     "exception": false,
     "start_time": "2021-06-02T02:54:55.863580",
     "status": "completed"
    },
    "tags": []
   },
   "source": [
    "## Build and validate the model"
   ]
  },
  {
   "cell_type": "code",
   "execution_count": 5,
   "id": "forty-england",
   "metadata": {
    "execution": {
     "iopub.execute_input": "2021-06-02T02:54:55.905844Z",
     "iopub.status.busy": "2021-06-02T02:54:55.904991Z",
     "iopub.status.idle": "2021-06-02T02:58:39.938493Z",
     "shell.execute_reply": "2021-06-02T02:58:39.939068Z",
     "shell.execute_reply.started": "2021-05-31T14:32:13.811186Z"
    },
    "id": "uWPosEORSVBp",
    "outputId": "d70ac047-a86b-4f36-84cc-960b1b5316be",
    "papermill": {
     "duration": 224.05481,
     "end_time": "2021-06-02T02:58:39.939289",
     "exception": false,
     "start_time": "2021-06-02T02:54:55.884479",
     "status": "completed"
    },
    "tags": []
   },
   "outputs": [
    {
     "name": "stdout",
     "output_type": "stream",
     "text": [
      "0:\tlearn: 2688.4990702\ttest: 2712.1589253\tbest: 2712.1589253 (0)\ttotal: 29.6ms\tremaining: 3m 56s\n",
      "200:\tlearn: 1077.9607092\ttest: 2453.2356178\tbest: 2450.3355933 (154)\ttotal: 4.96s\tremaining: 3m 12s\n",
      "400:\tlearn: 487.4716820\ttest: 2453.5591064\tbest: 2444.5149209 (237)\ttotal: 11s\tremaining: 3m 28s\n",
      "bestTest = 2444.514921\n",
      "bestIteration = 237\n",
      "Shrink model to first 238 iterations.\n",
      "Seed-24 | Fold-0 | OOF Score: 19.30004363233576\n",
      "0:\tlearn: 2702.0106313\ttest: 2648.7919241\tbest: 2648.7919241 (0)\ttotal: 26.5ms\tremaining: 3m 31s\n",
      "200:\tlearn: 1079.5616875\ttest: 2388.4895579\tbest: 2386.0813244 (171)\ttotal: 4.83s\tremaining: 3m 7s\n",
      "bestTest = 2386.081324\n",
      "bestIteration = 171\n",
      "Shrink model to first 172 iterations.\n",
      "Seed-24 | Fold-1 | OOF Score: 19.40426577872689\n",
      "0:\tlearn: 2702.4880372\ttest: 2661.6547103\tbest: 2661.6547103 (0)\ttotal: 22.7ms\tremaining: 3m 1s\n",
      "200:\tlearn: 1061.2803486\ttest: 2411.3324719\tbest: 2410.0635388 (199)\ttotal: 5.02s\tremaining: 3m 14s\n",
      "400:\tlearn: 487.1189242\ttest: 2412.4215749\tbest: 2409.4051464 (205)\ttotal: 9.75s\tremaining: 3m 4s\n",
      "bestTest = 2409.405146\n",
      "bestIteration = 205\n",
      "Shrink model to first 206 iterations.\n",
      "Seed-24 | Fold-2 | OOF Score: 18.598503966722436\n",
      "0:\tlearn: 2678.6555911\ttest: 2740.6391722\tbest: 2740.6391722 (0)\ttotal: 28ms\tremaining: 3m 43s\n",
      "200:\tlearn: 1061.8046394\ttest: 2437.9242299\tbest: 2427.5623128 (144)\ttotal: 5.71s\tremaining: 3m 41s\n",
      "bestTest = 2427.562313\n",
      "bestIteration = 144\n",
      "Shrink model to first 145 iterations.\n",
      "Seed-24 | Fold-3 | OOF Score: 22.133292247163805\n",
      "0:\tlearn: 2683.6880941\ttest: 2725.2740003\tbest: 2725.2740003 (0)\ttotal: 29.8ms\tremaining: 3m 58s\n",
      "200:\tlearn: 1067.6487221\ttest: 2491.9441220\tbest: 2480.5077554 (101)\ttotal: 5.2s\tremaining: 3m 21s\n",
      "bestTest = 2480.507755\n",
      "bestIteration = 101\n",
      "Shrink model to first 102 iterations.\n",
      "Seed-24 | Fold-4 | OOF Score: 17.76266758446601\n",
      "\n",
      "Seed: 24 | Aggregate OOF Score: 19.439754641882978\n",
      "\n",
      "\n",
      "0:\tlearn: 2696.4023815\ttest: 2671.2986390\tbest: 2671.2986390 (0)\ttotal: 27.5ms\tremaining: 3m 40s\n",
      "200:\tlearn: 1097.3643851\ttest: 2421.6465920\tbest: 2421.2878275 (199)\ttotal: 4.69s\tremaining: 3m 1s\n",
      "400:\tlearn: 518.6323539\ttest: 2425.2456082\tbest: 2419.5144066 (282)\ttotal: 9.64s\tremaining: 3m 2s\n",
      "bestTest = 2419.514407\n",
      "bestIteration = 282\n",
      "Shrink model to first 283 iterations.\n",
      "Seed-3 | Fold-0 | OOF Score: 18.554611430596037\n",
      "0:\tlearn: 2676.1871871\ttest: 2754.3076548\tbest: 2754.3076548 (0)\ttotal: 27.5ms\tremaining: 3m 40s\n",
      "200:\tlearn: 1051.9289139\ttest: 2480.3497133\tbest: 2465.4889777 (127)\ttotal: 5.77s\tremaining: 3m 43s\n",
      "bestTest = 2465.488978\n",
      "bestIteration = 127\n",
      "Shrink model to first 128 iterations.\n",
      "Seed-3 | Fold-1 | OOF Score: 20.375596232250793\n",
      "0:\tlearn: 2687.9218967\ttest: 2710.5125244\tbest: 2710.5125244 (0)\ttotal: 29ms\tremaining: 3m 52s\n",
      "200:\tlearn: 1079.3035059\ttest: 2428.4562282\tbest: 2426.1801073 (194)\ttotal: 4.72s\tremaining: 3m 3s\n",
      "400:\tlearn: 509.1717204\ttest: 2429.0434928\tbest: 2425.9271050 (343)\ttotal: 9.75s\tremaining: 3m 4s\n",
      "bestTest = 2425.927105\n",
      "bestIteration = 343\n",
      "Shrink model to first 344 iterations.\n",
      "Seed-3 | Fold-2 | OOF Score: 20.3937076743443\n",
      "0:\tlearn: 2695.2944167\ttest: 2682.9664742\tbest: 2682.9664742 (0)\ttotal: 27.9ms\tremaining: 3m 42s\n",
      "200:\tlearn: 1065.6098442\ttest: 2438.2775579\tbest: 2425.9699271 (139)\ttotal: 5.12s\tremaining: 3m 18s\n",
      "bestTest = 2425.969927\n",
      "bestIteration = 139\n",
      "Shrink model to first 140 iterations.\n",
      "Seed-3 | Fold-3 | OOF Score: 18.722920574832045\n",
      "0:\tlearn: 2696.7396027\ttest: 2673.0149942\tbest: 2673.0149942 (0)\ttotal: 27.9ms\tremaining: 3m 42s\n",
      "200:\tlearn: 1068.9008669\ttest: 2402.5146247\tbest: 2402.5146247 (200)\ttotal: 5.55s\tremaining: 3m 35s\n",
      "400:\tlearn: 491.7106134\ttest: 2404.0309145\tbest: 2397.9367943 (247)\ttotal: 10.3s\tremaining: 3m 14s\n",
      "bestTest = 2397.936794\n",
      "bestIteration = 247\n",
      "Shrink model to first 248 iterations.\n",
      "Seed-3 | Fold-4 | OOF Score: 20.10145405621363\n",
      "\n",
      "Seed: 3 | Aggregate OOF Score: 19.62965799364736\n",
      "\n",
      "\n",
      "0:\tlearn: 2706.7609027\ttest: 2627.5415037\tbest: 2627.5415037 (0)\ttotal: 28.3ms\tremaining: 3m 46s\n",
      "200:\tlearn: 1040.0492853\ttest: 2395.9392843\tbest: 2392.2040409 (152)\ttotal: 5.15s\tremaining: 3m 19s\n",
      "bestTest = 2392.204041\n",
      "bestIteration = 152\n",
      "Shrink model to first 153 iterations.\n",
      "Seed-56 | Fold-0 | OOF Score: 17.73093172034428\n",
      "0:\tlearn: 2669.5089046\ttest: 2781.3156069\tbest: 2781.3156069 (0)\ttotal: 27.8ms\tremaining: 3m 42s\n",
      "200:\tlearn: 1069.5582105\ttest: 2508.7701649\tbest: 2505.5177232 (191)\ttotal: 5.17s\tremaining: 3m 20s\n",
      "bestTest = 2505.517723\n",
      "bestIteration = 191\n",
      "Shrink model to first 192 iterations.\n",
      "Seed-56 | Fold-1 | OOF Score: 19.246290401424314\n",
      "0:\tlearn: 2706.6187176\ttest: 2628.2385350\tbest: 2628.2385350 (0)\ttotal: 26.3ms\tremaining: 3m 30s\n",
      "200:\tlearn: 1119.4342151\ttest: 2369.7891792\tbest: 2368.6536505 (197)\ttotal: 5.7s\tremaining: 3m 41s\n",
      "bestTest = 2368.65365\n",
      "bestIteration = 197\n",
      "Shrink model to first 198 iterations.\n",
      "Seed-56 | Fold-2 | OOF Score: 19.286630740989217\n",
      "0:\tlearn: 2675.5640165\ttest: 2761.7318658\tbest: 2761.7318658 (0)\ttotal: 26.9ms\tremaining: 3m 35s\n",
      "200:\tlearn: 1070.8120594\ttest: 2397.9951046\tbest: 2391.8268562 (121)\ttotal: 4.98s\tremaining: 3m 13s\n",
      "bestTest = 2391.826856\n",
      "bestIteration = 121\n",
      "Shrink model to first 122 iterations.\n",
      "Seed-56 | Fold-3 | OOF Score: 25.54826612370138\n",
      "0:\tlearn: 2691.2671955\ttest: 2690.7508354\tbest: 2690.7508354 (0)\ttotal: 27.3ms\tremaining: 3m 38s\n",
      "200:\tlearn: 1077.4283763\ttest: 2459.2935477\tbest: 2451.7625721 (113)\ttotal: 4.95s\tremaining: 3m 11s\n",
      "bestTest = 2451.762572\n",
      "bestIteration = 113\n",
      "Shrink model to first 114 iterations.\n",
      "Seed-56 | Fold-4 | OOF Score: 17.479664148727192\n",
      "\n",
      "Seed: 56 | Aggregate OOF Score: 19.858356627037274\n",
      "\n",
      "\n",
      "Aggregate OOF Score: 19.642589754189206\n"
     ]
    }
   ],
   "source": [
    "FOLD = 5\n",
    "NUM_SEED = 3\n",
    "\n",
    "np.random.seed(3)\n",
    "seeds = np.random.randint(0, 100, size=NUM_SEED)\n",
    "\n",
    "oof_score = 0\n",
    "y_pred_meta_cb = np.zeros((Ytrain.shape[0], 1))\n",
    "y_pred_final_cb = 0\n",
    "counter = 0\n",
    "\n",
    "\n",
    "for sidx, seed in enumerate(seeds):\n",
    "    seed_score = 0\n",
    "    \n",
    "    kfold = StratifiedKFold(n_splits=FOLD, shuffle=True, random_state=seed)\n",
    "\n",
    "    for idx, (train, val) in enumerate(kfold.split(Xtrain.values, Ytrain_strat)):\n",
    "        counter += 1\n",
    "\n",
    "        train_x, train_y = Xtrain.iloc[train], Ytrain.iloc[train]\n",
    "        val_x, val_y = Xtrain.iloc[val], Ytrain.iloc[val]\n",
    "\n",
    "        model = CatBoostRegressor(\n",
    "            objective='RMSE',\n",
    "            eval_metric='RMSE',\n",
    "            num_boost_round=8000,\n",
    "            learning_rate=0.0173,\n",
    "            reg_lambda=0.00044,\n",
    "            bootstrap_type='Poisson',\n",
    "            subsample=0.8602,\n",
    "            max_depth=6, \n",
    "            grow_policy='Lossguide',\n",
    "            min_data_in_leaf=3, \n",
    "            max_leaves=373,\n",
    "            task_type='GPU',\n",
    "            verbose=0\n",
    "        )\n",
    "\n",
    "        model.fit(train_x, train_y, eval_set=[(val_x, val_y)], \n",
    "                  cat_features=cat_cols_indices,\n",
    "                  early_stopping_rounds=200, verbose=200)\n",
    "\n",
    "        y_pred = model.predict(val_x)\n",
    "        y_pred_meta_cb[val] += np.array([y_pred]).T\n",
    "        y_pred_final_cb += model.predict(Xtest)\n",
    "        \n",
    "        score = 100 * r2_score(val_y, y_pred)\n",
    "        oof_score += score\n",
    "        seed_score += score\n",
    "        print(\"Seed-{} | Fold-{} | OOF Score: {}\".format(seed, idx, score))\n",
    "    \n",
    "    print(\"\\nSeed: {} | Aggregate OOF Score: {}\\n\\n\".format(seed, (seed_score / FOLD)))\n",
    "\n",
    "\n",
    "y_pred_meta_cb = y_pred_meta_cb / float(counter)\n",
    "y_pred_final_cb = y_pred_final_cb / float(counter)\n",
    "oof_score /= float(counter)\n",
    "print(\"Aggregate OOF Score: {}\".format(oof_score))"
   ]
  },
  {
   "cell_type": "code",
   "execution_count": 6,
   "id": "english-zealand",
   "metadata": {
    "execution": {
     "iopub.execute_input": "2021-06-02T02:58:40.027680Z",
     "iopub.status.busy": "2021-06-02T02:58:40.026980Z",
     "iopub.status.idle": "2021-06-02T02:58:40.030824Z",
     "shell.execute_reply": "2021-06-02T02:58:40.031353Z",
     "shell.execute_reply.started": "2021-05-26T09:02:14.574835Z"
    },
    "id": "uLzmS7LzXvXy",
    "papermill": {
     "duration": 0.051436,
     "end_time": "2021-06-02T02:58:40.031526",
     "exception": false,
     "start_time": "2021-06-02T02:58:39.980090",
     "status": "completed"
    },
    "tags": []
   },
   "outputs": [],
   "source": [
    "np.savez_compressed('./CB_Meta_Features.npz',\n",
    "                    y_pred_meta_cb=y_pred_meta_cb, \n",
    "                    oof_score=oof_score,\n",
    "                    y_pred_final_cb=y_pred_final_cb)"
   ]
  },
  {
   "cell_type": "markdown",
   "id": "blond-smoke",
   "metadata": {
    "papermill": {
     "duration": 0.039002,
     "end_time": "2021-06-02T02:58:40.109306",
     "exception": false,
     "start_time": "2021-06-02T02:58:40.070304",
     "status": "completed"
    },
    "tags": []
   },
   "source": [
    "## Create submission file"
   ]
  },
  {
   "cell_type": "code",
   "execution_count": 7,
   "id": "magnetic-jaguar",
   "metadata": {
    "execution": {
     "iopub.execute_input": "2021-06-02T02:58:40.191894Z",
     "iopub.status.busy": "2021-06-02T02:58:40.191070Z",
     "iopub.status.idle": "2021-06-02T02:58:40.360106Z",
     "shell.execute_reply": "2021-06-02T02:58:40.360976Z",
     "shell.execute_reply.started": "2021-05-26T09:02:19.50546Z"
    },
    "executionInfo": {
     "elapsed": 3141,
     "status": "ok",
     "timestamp": 1616223489651,
     "user": {
      "displayName": "TAPAS DAS",
      "photoUrl": "https://lh3.googleusercontent.com/a-/AOh14GiyffdGKiPCR_UwVittzTcbBFms70IkGfU15fatCA=s64",
      "userId": "10798398878324948542"
     },
     "user_tz": -330
    },
    "id": "zGEGOAJHVoHV",
    "outputId": "11f9ca4c-9cca-46f6-b9a6-907ad0a09927",
    "papermill": {
     "duration": 0.213173,
     "end_time": "2021-06-02T02:58:40.361161",
     "exception": false,
     "start_time": "2021-06-02T02:58:40.147988",
     "status": "completed"
    },
    "tags": []
   },
   "outputs": [
    {
     "data": {
      "text/plain": [
       "40"
      ]
     },
     "execution_count": 7,
     "metadata": {},
     "output_type": "execute_result"
    }
   ],
   "source": [
    "with open(\"../input/he-ffi-preprocess-data/HE_FFI_Dataset.txt\", 'rb') as handle: \n",
    "    data = handle.read()\n",
    "\n",
    "processed_data = pickle.loads(data)\n",
    "test_df = processed_data['test_df']\n",
    "\n",
    "del processed_data\n",
    "gc.collect()"
   ]
  },
  {
   "cell_type": "code",
   "execution_count": 8,
   "id": "removed-squad",
   "metadata": {
    "execution": {
     "iopub.execute_input": "2021-06-02T02:58:40.471465Z",
     "iopub.status.busy": "2021-06-02T02:58:40.470797Z",
     "iopub.status.idle": "2021-06-02T02:58:40.665129Z",
     "shell.execute_reply": "2021-06-02T02:58:40.666003Z",
     "shell.execute_reply.started": "2021-05-26T09:02:22.534683Z"
    },
    "papermill": {
     "duration": 0.26509,
     "end_time": "2021-06-02T02:58:40.666207",
     "exception": false,
     "start_time": "2021-06-02T02:58:40.401117",
     "status": "completed"
    },
    "tags": []
   },
   "outputs": [
    {
     "data": {
      "text/html": [
       "<div>\n",
       "<style scoped>\n",
       "    .dataframe tbody tr th:only-of-type {\n",
       "        vertical-align: middle;\n",
       "    }\n",
       "\n",
       "    .dataframe tbody tr th {\n",
       "        vertical-align: top;\n",
       "    }\n",
       "\n",
       "    .dataframe thead th {\n",
       "        text-align: right;\n",
       "    }\n",
       "</style>\n",
       "<table border=\"1\" class=\"dataframe\">\n",
       "  <thead>\n",
       "    <tr style=\"text-align: right;\">\n",
       "      <th></th>\n",
       "      <th>Image_path</th>\n",
       "      <th>Condition</th>\n",
       "      <th>Amount</th>\n",
       "    </tr>\n",
       "  </thead>\n",
       "  <tbody>\n",
       "    <tr>\n",
       "      <th>0</th>\n",
       "      <td>img_4538519.jpg</td>\n",
       "      <td>1.0</td>\n",
       "      <td>3237.261992</td>\n",
       "    </tr>\n",
       "    <tr>\n",
       "      <th>1</th>\n",
       "      <td>img_7766002.jpg</td>\n",
       "      <td>1.0</td>\n",
       "      <td>4054.056072</td>\n",
       "    </tr>\n",
       "    <tr>\n",
       "      <th>2</th>\n",
       "      <td>img_4637390.jpg</td>\n",
       "      <td>1.0</td>\n",
       "      <td>4236.826324</td>\n",
       "    </tr>\n",
       "    <tr>\n",
       "      <th>3</th>\n",
       "      <td>img_4516108.jpg</td>\n",
       "      <td>1.0</td>\n",
       "      <td>4310.172791</td>\n",
       "    </tr>\n",
       "    <tr>\n",
       "      <th>4</th>\n",
       "      <td>img_4517008.jpg</td>\n",
       "      <td>1.0</td>\n",
       "      <td>3712.736451</td>\n",
       "    </tr>\n",
       "  </tbody>\n",
       "</table>\n",
       "</div>"
      ],
      "text/plain": [
       "        Image_path  Condition       Amount\n",
       "0  img_4538519.jpg        1.0  3237.261992\n",
       "1  img_7766002.jpg        1.0  4054.056072\n",
       "2  img_4637390.jpg        1.0  4236.826324\n",
       "3  img_4516108.jpg        1.0  4310.172791\n",
       "4  img_4517008.jpg        1.0  3712.736451"
      ]
     },
     "execution_count": 8,
     "metadata": {},
     "output_type": "execute_result"
    }
   ],
   "source": [
    "test_df1 = pd.read_csv(\"../input/he-fast-furious-insured/dataset/test.csv\")\n",
    "\n",
    "submit_df = pd.DataFrame()\n",
    "submit_df['Image_path'] = test_df1['Image_path']\n",
    "submit_df['Condition'] = test_df['Condition']\n",
    "submit_df['Amount'] = y_pred_final_cb\n",
    "\n",
    "submit_df.to_csv(\"./CB_Submission_wo_Adjustment.csv\", index=False)\n",
    "submit_df.head()"
   ]
  },
  {
   "cell_type": "code",
   "execution_count": 9,
   "id": "parliamentary-telling",
   "metadata": {
    "execution": {
     "iopub.execute_input": "2021-06-02T02:58:40.751135Z",
     "iopub.status.busy": "2021-06-02T02:58:40.750361Z",
     "iopub.status.idle": "2021-06-02T02:58:40.791248Z",
     "shell.execute_reply": "2021-06-02T02:58:40.792076Z"
    },
    "id": "W2c88MvxXm65",
    "papermill": {
     "duration": 0.086918,
     "end_time": "2021-06-02T02:58:40.792254",
     "exception": false,
     "start_time": "2021-06-02T02:58:40.705336",
     "status": "completed"
    },
    "tags": []
   },
   "outputs": [
    {
     "data": {
      "text/html": [
       "<div>\n",
       "<style scoped>\n",
       "    .dataframe tbody tr th:only-of-type {\n",
       "        vertical-align: middle;\n",
       "    }\n",
       "\n",
       "    .dataframe tbody tr th {\n",
       "        vertical-align: top;\n",
       "    }\n",
       "\n",
       "    .dataframe thead th {\n",
       "        text-align: right;\n",
       "    }\n",
       "</style>\n",
       "<table border=\"1\" class=\"dataframe\">\n",
       "  <thead>\n",
       "    <tr style=\"text-align: right;\">\n",
       "      <th></th>\n",
       "      <th>Image_path</th>\n",
       "      <th>Condition</th>\n",
       "      <th>Amount</th>\n",
       "    </tr>\n",
       "  </thead>\n",
       "  <tbody>\n",
       "    <tr>\n",
       "      <th>0</th>\n",
       "      <td>img_4538519.jpg</td>\n",
       "      <td>1.0</td>\n",
       "      <td>3237.261992</td>\n",
       "    </tr>\n",
       "    <tr>\n",
       "      <th>1</th>\n",
       "      <td>img_7766002.jpg</td>\n",
       "      <td>1.0</td>\n",
       "      <td>4054.056072</td>\n",
       "    </tr>\n",
       "    <tr>\n",
       "      <th>2</th>\n",
       "      <td>img_4637390.jpg</td>\n",
       "      <td>1.0</td>\n",
       "      <td>4236.826324</td>\n",
       "    </tr>\n",
       "    <tr>\n",
       "      <th>3</th>\n",
       "      <td>img_4516108.jpg</td>\n",
       "      <td>1.0</td>\n",
       "      <td>4310.172791</td>\n",
       "    </tr>\n",
       "    <tr>\n",
       "      <th>4</th>\n",
       "      <td>img_4517008.jpg</td>\n",
       "      <td>1.0</td>\n",
       "      <td>3712.736451</td>\n",
       "    </tr>\n",
       "  </tbody>\n",
       "</table>\n",
       "</div>"
      ],
      "text/plain": [
       "        Image_path  Condition       Amount\n",
       "0  img_4538519.jpg        1.0  3237.261992\n",
       "1  img_7766002.jpg        1.0  4054.056072\n",
       "2  img_4637390.jpg        1.0  4236.826324\n",
       "3  img_4516108.jpg        1.0  4310.172791\n",
       "4  img_4517008.jpg        1.0  3712.736451"
      ]
     },
     "execution_count": 9,
     "metadata": {},
     "output_type": "execute_result"
    }
   ],
   "source": [
    "test_df1 = pd.read_csv(\"../input/he-fast-furious-insured/dataset/test.csv\")\n",
    "\n",
    "submit_df = pd.DataFrame()\n",
    "submit_df['Image_path'] = test_df1['Image_path']\n",
    "submit_df['Condition'] = test_df['Condition']\n",
    "submit_df['Amount'] = y_pred_final_cb\n",
    "submit_df.loc[test_df['Condition']==0, 'Amount'] = 0\n",
    "\n",
    "submit_df.to_csv(\"./CB_Submission_w_Adjustment.csv\", index=False)\n",
    "submit_df.head()"
   ]
  },
  {
   "cell_type": "code",
   "execution_count": null,
   "id": "annoying-voice",
   "metadata": {
    "papermill": {
     "duration": 0.027102,
     "end_time": "2021-06-02T02:58:40.854696",
     "exception": false,
     "start_time": "2021-06-02T02:58:40.827594",
     "status": "completed"
    },
    "tags": []
   },
   "outputs": [],
   "source": []
  }
 ],
 "metadata": {
  "kernelspec": {
   "display_name": "Python 3",
   "language": "python",
   "name": "python3"
  },
  "language_info": {
   "codemirror_mode": {
    "name": "ipython",
    "version": 3
   },
   "file_extension": ".py",
   "mimetype": "text/x-python",
   "name": "python",
   "nbconvert_exporter": "python",
   "pygments_lexer": "ipython3",
   "version": "3.7.10"
  },
  "papermill": {
   "default_parameters": {},
   "duration": 234.576976,
   "end_time": "2021-06-02T02:58:41.489430",
   "environment_variables": {},
   "exception": null,
   "input_path": "__notebook__.ipynb",
   "output_path": "__notebook__.ipynb",
   "parameters": {},
   "start_time": "2021-06-02T02:54:46.912454",
   "version": "2.3.3"
  }
 },
 "nbformat": 4,
 "nbformat_minor": 5
}
