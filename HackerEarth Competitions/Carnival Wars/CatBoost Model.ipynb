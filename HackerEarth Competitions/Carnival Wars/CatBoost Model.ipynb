{
 "cells": [
  {
   "cell_type": "code",
   "execution_count": 1,
   "metadata": {
    "colab": {
     "base_uri": "https://localhost:8080/"
    },
    "executionInfo": {
     "elapsed": 111057,
     "status": "ok",
     "timestamp": 1606810464570,
     "user": {
      "displayName": "TAPAS DAS",
      "photoUrl": "https://lh3.googleusercontent.com/a-/AOh14GiyffdGKiPCR_UwVittzTcbBFms70IkGfU15fatCA=s64",
      "userId": "10798398878324948542"
     },
     "user_tz": -330
    },
    "id": "Wn3claY6X8M1",
    "outputId": "b8e7c45a-ce61-40ec-ff1e-dbccfb711087"
   },
   "outputs": [
    {
     "name": "stdout",
     "output_type": "stream",
     "text": [
      "Mounted at /content/drive/\n"
     ]
    }
   ],
   "source": [
    "from google.colab import drive\n",
    "drive.mount('/content/drive/', force_remount=True)"
   ]
  },
  {
   "cell_type": "markdown",
   "metadata": {
    "id": "gcOJogQsYDkG"
   },
   "source": [
    "## Import Packages"
   ]
  },
  {
   "cell_type": "code",
   "execution_count": 2,
   "metadata": {
    "colab": {
     "base_uri": "https://localhost:8080/"
    },
    "executionInfo": {
     "elapsed": 18464,
     "status": "ok",
     "timestamp": 1606810474674,
     "user": {
      "displayName": "TAPAS DAS",
      "photoUrl": "https://lh3.googleusercontent.com/a-/AOh14GiyffdGKiPCR_UwVittzTcbBFms70IkGfU15fatCA=s64",
      "userId": "10798398878324948542"
     },
     "user_tz": -330
    },
    "id": "R3BhSNeuYBhF",
    "outputId": "da96e531-2f0a-439a-abc9-0a7b81416f47"
   },
   "outputs": [
    {
     "name": "stdout",
     "output_type": "stream",
     "text": [
      "Collecting catboost\n",
      "\u001b[?25l  Downloading https://files.pythonhosted.org/packages/7e/c1/c1c4707013f9e2f8a96899dd3a87f66c9167d6d776a6dc8fe7ec8678d446/catboost-0.24.3-cp36-none-manylinux1_x86_64.whl (66.3MB)\n",
      "\u001b[K     |████████████████████████████████| 66.3MB 43kB/s \n",
      "\u001b[?25hRequirement already satisfied: plotly in /usr/local/lib/python3.6/dist-packages (from catboost) (4.4.1)\n",
      "Requirement already satisfied: six in /usr/local/lib/python3.6/dist-packages (from catboost) (1.15.0)\n",
      "Requirement already satisfied: pandas>=0.24.0 in /usr/local/lib/python3.6/dist-packages (from catboost) (1.1.4)\n",
      "Requirement already satisfied: graphviz in /usr/local/lib/python3.6/dist-packages (from catboost) (0.10.1)\n",
      "Requirement already satisfied: numpy>=1.16.0 in /usr/local/lib/python3.6/dist-packages (from catboost) (1.18.5)\n",
      "Requirement already satisfied: matplotlib in /usr/local/lib/python3.6/dist-packages (from catboost) (3.2.2)\n",
      "Requirement already satisfied: scipy in /usr/local/lib/python3.6/dist-packages (from catboost) (1.4.1)\n",
      "Requirement already satisfied: retrying>=1.3.3 in /usr/local/lib/python3.6/dist-packages (from plotly->catboost) (1.3.3)\n",
      "Requirement already satisfied: python-dateutil>=2.7.3 in /usr/local/lib/python3.6/dist-packages (from pandas>=0.24.0->catboost) (2.8.1)\n",
      "Requirement already satisfied: pytz>=2017.2 in /usr/local/lib/python3.6/dist-packages (from pandas>=0.24.0->catboost) (2018.9)\n",
      "Requirement already satisfied: cycler>=0.10 in /usr/local/lib/python3.6/dist-packages (from matplotlib->catboost) (0.10.0)\n",
      "Requirement already satisfied: kiwisolver>=1.0.1 in /usr/local/lib/python3.6/dist-packages (from matplotlib->catboost) (1.3.1)\n",
      "Requirement already satisfied: pyparsing!=2.0.4,!=2.1.2,!=2.1.6,>=2.0.1 in /usr/local/lib/python3.6/dist-packages (from matplotlib->catboost) (2.4.7)\n",
      "Installing collected packages: catboost\n",
      "Successfully installed catboost-0.24.3\n"
     ]
    }
   ],
   "source": [
    "! pip install catboost"
   ]
  },
  {
   "cell_type": "code",
   "execution_count": 3,
   "metadata": {
    "colab": {
     "base_uri": "https://localhost:8080/"
    },
    "executionInfo": {
     "elapsed": 32072,
     "status": "ok",
     "timestamp": 1606810488491,
     "user": {
      "displayName": "TAPAS DAS",
      "photoUrl": "https://lh3.googleusercontent.com/a-/AOh14GiyffdGKiPCR_UwVittzTcbBFms70IkGfU15fatCA=s64",
      "userId": "10798398878324948542"
     },
     "user_tz": -330
    },
    "id": "ExPKobZLYBjs",
    "outputId": "f4eed452-a603-4788-940a-1982af24a31c"
   },
   "outputs": [
    {
     "name": "stdout",
     "output_type": "stream",
     "text": [
      "Collecting optuna\n",
      "\u001b[?25l  Downloading https://files.pythonhosted.org/packages/87/10/06b58f4120f26b603d905a594650440ea1fd74476b8b360dbf01e111469b/optuna-2.3.0.tar.gz (258kB)\n",
      "\r",
      "\u001b[K     |█▎                              | 10kB 23.5MB/s eta 0:00:01\r",
      "\u001b[K     |██▌                             | 20kB 17.6MB/s eta 0:00:01\r",
      "\u001b[K     |███▉                            | 30kB 15.4MB/s eta 0:00:01\r",
      "\u001b[K     |█████                           | 40kB 14.7MB/s eta 0:00:01\r",
      "\u001b[K     |██████▍                         | 51kB 11.3MB/s eta 0:00:01\r",
      "\u001b[K     |███████▋                        | 61kB 11.4MB/s eta 0:00:01\r",
      "\u001b[K     |████████▉                       | 71kB 11.5MB/s eta 0:00:01\r",
      "\u001b[K     |██████████▏                     | 81kB 12.2MB/s eta 0:00:01\r",
      "\u001b[K     |███████████▍                    | 92kB 13.0MB/s eta 0:00:01\r",
      "\u001b[K     |████████████▊                   | 102kB 12.8MB/s eta 0:00:01\r",
      "\u001b[K     |██████████████                  | 112kB 12.8MB/s eta 0:00:01\r",
      "\u001b[K     |███████████████▏                | 122kB 12.8MB/s eta 0:00:01\r",
      "\u001b[K     |████████████████▌               | 133kB 12.8MB/s eta 0:00:01\r",
      "\u001b[K     |█████████████████▊              | 143kB 12.8MB/s eta 0:00:01\r",
      "\u001b[K     |███████████████████             | 153kB 12.8MB/s eta 0:00:01\r",
      "\u001b[K     |████████████████████▎           | 163kB 12.8MB/s eta 0:00:01\r",
      "\u001b[K     |█████████████████████▌          | 174kB 12.8MB/s eta 0:00:01\r",
      "\u001b[K     |██████████████████████▉         | 184kB 12.8MB/s eta 0:00:01\r",
      "\u001b[K     |████████████████████████        | 194kB 12.8MB/s eta 0:00:01\r",
      "\u001b[K     |█████████████████████████▍      | 204kB 12.8MB/s eta 0:00:01\r",
      "\u001b[K     |██████████████████████████▋     | 215kB 12.8MB/s eta 0:00:01\r",
      "\u001b[K     |███████████████████████████▉    | 225kB 12.8MB/s eta 0:00:01\r",
      "\u001b[K     |█████████████████████████████▏  | 235kB 12.8MB/s eta 0:00:01\r",
      "\u001b[K     |██████████████████████████████▍ | 245kB 12.8MB/s eta 0:00:01\r",
      "\u001b[K     |███████████████████████████████▊| 256kB 12.8MB/s eta 0:00:01\r",
      "\u001b[K     |████████████████████████████████| 266kB 12.8MB/s \n",
      "\u001b[?25h  Installing build dependencies ... \u001b[?25l\u001b[?25hdone\n",
      "  Getting requirements to build wheel ... \u001b[?25l\u001b[?25hdone\n",
      "    Preparing wheel metadata ... \u001b[?25l\u001b[?25hdone\n",
      "Requirement already satisfied: tqdm in /usr/local/lib/python3.6/dist-packages (from optuna) (4.41.1)\n",
      "Collecting colorlog\n",
      "  Downloading https://files.pythonhosted.org/packages/4e/c8/c16d30bbed11a1722060014c246d124582d1f781b26f5859d8dacc3e08e1/colorlog-4.6.2-py2.py3-none-any.whl\n",
      "Requirement already satisfied: sqlalchemy>=1.1.0 in /usr/local/lib/python3.6/dist-packages (from optuna) (1.3.20)\n",
      "Collecting cmaes>=0.6.0\n",
      "  Downloading https://files.pythonhosted.org/packages/8d/3c/06c76ec8b54b9b1fad7f35e903fd25010fe3e0d41bd94cea5e6f12e0d651/cmaes-0.7.0-py3-none-any.whl\n",
      "Requirement already satisfied: packaging>=20.0 in /usr/local/lib/python3.6/dist-packages (from optuna) (20.4)\n",
      "Requirement already satisfied: scipy!=1.4.0 in /usr/local/lib/python3.6/dist-packages (from optuna) (1.4.1)\n",
      "Collecting cliff\n",
      "\u001b[?25l  Downloading https://files.pythonhosted.org/packages/8a/61/5b64d73b01c1218f55c894b5ec0fb89b32c6960b7f7b3ad9f5ac0c373b9d/cliff-3.5.0-py3-none-any.whl (81kB)\n",
      "\u001b[K     |████████████████████████████████| 81kB 12.2MB/s \n",
      "\u001b[?25hRequirement already satisfied: joblib in /usr/local/lib/python3.6/dist-packages (from optuna) (0.17.0)\n",
      "Collecting alembic\n",
      "\u001b[?25l  Downloading https://files.pythonhosted.org/packages/12/aa/c261dfd7f4ba6ce4701846a2689a46e2a172e012171de4378fc2926e3bf0/alembic-1.4.3-py2.py3-none-any.whl (159kB)\n",
      "\u001b[K     |████████████████████████████████| 163kB 50.3MB/s \n",
      "\u001b[?25hRequirement already satisfied: numpy in /usr/local/lib/python3.6/dist-packages (from optuna) (1.18.5)\n",
      "Requirement already satisfied: pyparsing>=2.0.2 in /usr/local/lib/python3.6/dist-packages (from packaging>=20.0->optuna) (2.4.7)\n",
      "Requirement already satisfied: six in /usr/local/lib/python3.6/dist-packages (from packaging>=20.0->optuna) (1.15.0)\n",
      "Collecting PrettyTable<0.8,>=0.7.2\n",
      "  Downloading https://files.pythonhosted.org/packages/ef/30/4b0746848746ed5941f052479e7c23d2b56d174b82f4fd34a25e389831f5/prettytable-0.7.2.tar.bz2\n",
      "Collecting pbr!=2.1.0,>=2.0.0\n",
      "\u001b[?25l  Downloading https://files.pythonhosted.org/packages/fb/48/69046506f6ac61c1eaa9a0d42d22d54673b69e176d30ca98e3f61513e980/pbr-5.5.1-py2.py3-none-any.whl (106kB)\n",
      "\u001b[K     |████████████████████████████████| 112kB 48.2MB/s \n",
      "\u001b[?25hRequirement already satisfied: PyYAML>=3.12 in /usr/local/lib/python3.6/dist-packages (from cliff->optuna) (3.13)\n",
      "Collecting cmd2!=0.8.3,>=0.8.0\n",
      "\u001b[?25l  Downloading https://files.pythonhosted.org/packages/27/54/af6e2703f064485d717cb311d3f9440cd302a823ba6d80a020b59eae166d/cmd2-1.4.0-py3-none-any.whl (133kB)\n",
      "\u001b[K     |████████████████████████████████| 133kB 51.0MB/s \n",
      "\u001b[?25hCollecting stevedore>=2.0.1\n",
      "\u001b[?25l  Downloading https://files.pythonhosted.org/packages/d4/49/b602307aeac3df3384ff1fcd05da9c0376c622a6c48bb5325f28ab165b57/stevedore-3.3.0-py3-none-any.whl (49kB)\n",
      "\u001b[K     |████████████████████████████████| 51kB 7.7MB/s \n",
      "\u001b[?25hRequirement already satisfied: python-dateutil in /usr/local/lib/python3.6/dist-packages (from alembic->optuna) (2.8.1)\n",
      "Collecting Mako\n",
      "\u001b[?25l  Downloading https://files.pythonhosted.org/packages/a6/37/0e706200d22172eb8fa17d68a7ae22dec7631a0a92266634fb518a88a5b2/Mako-1.1.3-py2.py3-none-any.whl (75kB)\n",
      "\u001b[K     |████████████████████████████████| 81kB 10.4MB/s \n",
      "\u001b[?25hCollecting python-editor>=0.3\n",
      "  Downloading https://files.pythonhosted.org/packages/c6/d3/201fc3abe391bbae6606e6f1d598c15d367033332bd54352b12f35513717/python_editor-1.0.4-py3-none-any.whl\n",
      "Requirement already satisfied: attrs>=16.3.0 in /usr/local/lib/python3.6/dist-packages (from cmd2!=0.8.3,>=0.8.0->cliff->optuna) (20.3.0)\n",
      "Requirement already satisfied: importlib-metadata>=1.6.0; python_version < \"3.8\" in /usr/local/lib/python3.6/dist-packages (from cmd2!=0.8.3,>=0.8.0->cliff->optuna) (2.0.0)\n",
      "Collecting colorama>=0.3.7\n",
      "  Downloading https://files.pythonhosted.org/packages/44/98/5b86278fbbf250d239ae0ecb724f8572af1c91f4a11edf4d36a206189440/colorama-0.4.4-py2.py3-none-any.whl\n",
      "Collecting pyperclip>=1.6\n",
      "  Downloading https://files.pythonhosted.org/packages/6f/4c/0b1d507ad7e8bc31d690d04b4f475e74c2002d060f7994ce8c09612df707/pyperclip-1.8.1.tar.gz\n",
      "Requirement already satisfied: wcwidth>=0.1.7 in /usr/local/lib/python3.6/dist-packages (from cmd2!=0.8.3,>=0.8.0->cliff->optuna) (0.2.5)\n",
      "Requirement already satisfied: MarkupSafe>=0.9.2 in /usr/local/lib/python3.6/dist-packages (from Mako->alembic->optuna) (1.1.1)\n",
      "Requirement already satisfied: zipp>=0.5 in /usr/local/lib/python3.6/dist-packages (from importlib-metadata>=1.6.0; python_version < \"3.8\"->cmd2!=0.8.3,>=0.8.0->cliff->optuna) (3.4.0)\n",
      "Building wheels for collected packages: optuna\n",
      "  Building wheel for optuna (PEP 517) ... \u001b[?25l\u001b[?25hdone\n",
      "  Created wheel for optuna: filename=optuna-2.3.0-cp36-none-any.whl size=359761 sha256=1d74d534d66c72f0f47f7043badb748f4aa1301078c33b4cb28945a1acc07a37\n",
      "  Stored in directory: /root/.cache/pip/wheels/fa/91/19/64b0ec6b964f89c0695a9dc6db6f851d0b54c5381a5c9cadfb\n",
      "Successfully built optuna\n",
      "Building wheels for collected packages: PrettyTable, pyperclip\n",
      "  Building wheel for PrettyTable (setup.py) ... \u001b[?25l\u001b[?25hdone\n",
      "  Created wheel for PrettyTable: filename=prettytable-0.7.2-cp36-none-any.whl size=13700 sha256=e128dffb34d4c686789e5ec64426cd373c43139b2f6073c53a9cd01d5fad9fec\n",
      "  Stored in directory: /root/.cache/pip/wheels/80/34/1c/3967380d9676d162cb59513bd9dc862d0584e045a162095606\n",
      "  Building wheel for pyperclip (setup.py) ... \u001b[?25l\u001b[?25hdone\n",
      "  Created wheel for pyperclip: filename=pyperclip-1.8.1-cp36-none-any.whl size=11119 sha256=ccbb73d529d61caae412f6287f0303594b8787dc437ec27b9d742805cf0c1ede\n",
      "  Stored in directory: /root/.cache/pip/wheels/44/10/3a/c830e9bb3db2c93274ea1f213a41fabde0d8cf3794251fad0c\n",
      "Successfully built PrettyTable pyperclip\n",
      "Installing collected packages: colorlog, cmaes, PrettyTable, pbr, colorama, pyperclip, cmd2, stevedore, cliff, Mako, python-editor, alembic, optuna\n",
      "  Found existing installation: prettytable 2.0.0\n",
      "    Uninstalling prettytable-2.0.0:\n",
      "      Successfully uninstalled prettytable-2.0.0\n",
      "Successfully installed Mako-1.1.3 PrettyTable-0.7.2 alembic-1.4.3 cliff-3.5.0 cmaes-0.7.0 cmd2-1.4.0 colorama-0.4.4 colorlog-4.6.2 optuna-2.3.0 pbr-5.5.1 pyperclip-1.8.1 python-editor-1.0.4 stevedore-3.3.0\n"
     ]
    }
   ],
   "source": [
    "! pip install optuna"
   ]
  },
  {
   "cell_type": "code",
   "execution_count": 4,
   "metadata": {
    "executionInfo": {
     "elapsed": 31709,
     "status": "ok",
     "timestamp": 1606810489334,
     "user": {
      "displayName": "TAPAS DAS",
      "photoUrl": "https://lh3.googleusercontent.com/a-/AOh14GiyffdGKiPCR_UwVittzTcbBFms70IkGfU15fatCA=s64",
      "userId": "10798398878324948542"
     },
     "user_tz": -330
    },
    "id": "dnYTm_ShYBln"
   },
   "outputs": [],
   "source": [
    "import pandas as pd\n",
    "import numpy as np\n",
    "from sklearn.model_selection import KFold\n",
    "from sklearn.metrics import mean_squared_log_error\n",
    "from catboost import CatBoostRegressor\n",
    "import optuna\n",
    "import pickle\n",
    "import warnings\n",
    "warnings.filterwarnings('ignore')"
   ]
  },
  {
   "cell_type": "markdown",
   "metadata": {
    "id": "gB1VDy1sYQF2"
   },
   "source": [
    "## Load processed dataset"
   ]
  },
  {
   "cell_type": "code",
   "execution_count": 5,
   "metadata": {
    "colab": {
     "base_uri": "https://localhost:8080/"
    },
    "executionInfo": {
     "elapsed": 1832,
     "status": "ok",
     "timestamp": 1606810492928,
     "user": {
      "displayName": "TAPAS DAS",
      "photoUrl": "https://lh3.googleusercontent.com/a-/AOh14GiyffdGKiPCR_UwVittzTcbBFms70IkGfU15fatCA=s64",
      "userId": "10798398878324948542"
     },
     "user_tz": -330
    },
    "id": "g3A8chXUYBoz",
    "outputId": "7a1d0c9a-3a3d-47cb-ea09-02c0b17d917e"
   },
   "outputs": [
    {
     "name": "stdout",
     "output_type": "stream",
     "text": [
      "Xtrain shape: (6313, 716)\n",
      "Ytrain shape: (6313,)\n",
      "Xpredict shape: (3430, 716)\n"
     ]
    }
   ],
   "source": [
    "with open(\"/content/drive/My Drive/Colab Notebooks/Carnival Wars/Carnival_Wars_Dataset.txt\", 'rb') as handle: \n",
    "    data = handle.read()\n",
    "\n",
    "processed_data = pickle.loads(data)\n",
    "Xtrain = processed_data['Xtrain']\n",
    "Ytrain = processed_data['Ytrain']\n",
    "Xpredict = processed_data['Xpredict']\n",
    "\n",
    "Ytrain = np.cbrt(Ytrain)\n",
    "\n",
    "print(\"Xtrain shape: {}\".format(Xtrain.shape))\n",
    "print(\"Ytrain shape: {}\".format(Ytrain.shape))\n",
    "print(\"Xpredict shape: {}\".format(Xpredict.shape))"
   ]
  },
  {
   "cell_type": "code",
   "execution_count": 6,
   "metadata": {
    "colab": {
     "base_uri": "https://localhost:8080/"
    },
    "executionInfo": {
     "elapsed": 2896,
     "status": "ok",
     "timestamp": 1606810494647,
     "user": {
      "displayName": "TAPAS DAS",
      "photoUrl": "https://lh3.googleusercontent.com/a-/AOh14GiyffdGKiPCR_UwVittzTcbBFms70IkGfU15fatCA=s64",
      "userId": "10798398878324948542"
     },
     "user_tz": -330
    },
    "id": "o8RThN5K_2wp",
    "outputId": "49fbadf4-bea2-4a3c-92ac-4f6708f91dd3"
   },
   "outputs": [
    {
     "name": "stdout",
     "output_type": "stream",
     "text": [
      "[0, 1, 2, 3, 4, 5, 6, 7, 8, 9, 10, 11, 12, 13, 14, 15, 16]\n"
     ]
    }
   ],
   "source": [
    "categorical_columns = ['Stall_no','Market_Category','Loyalty_customer',\n",
    "                       'Product_Category','instock_time','Grade_Bin','Grade',\n",
    "                       'Demand','Discount_avail','instock_date_year','charges_2 (%)',\n",
    "                       'instock_date_quarter','Market_Bin','instock_date_month',\n",
    "                       'instock_date_day_week','instock_date_day_weekend',\n",
    "                       'clusters_k']\n",
    "categorical_columns_indices = [Xtrain.columns.get_loc(col) for col in categorical_columns]\n",
    "print(categorical_columns_indices)"
   ]
  },
  {
   "cell_type": "markdown",
   "metadata": {
    "id": "5iWk2gZbZvWL"
   },
   "source": [
    "## Hyperparameter search using Optuna"
   ]
  },
  {
   "cell_type": "code",
   "execution_count": 7,
   "metadata": {
    "executionInfo": {
     "elapsed": 3069,
     "status": "ok",
     "timestamp": 1606810499296,
     "user": {
      "displayName": "TAPAS DAS",
      "photoUrl": "https://lh3.googleusercontent.com/a-/AOh14GiyffdGKiPCR_UwVittzTcbBFms70IkGfU15fatCA=s64",
      "userId": "10798398878324948542"
     },
     "user_tz": -330
    },
    "id": "-ZFEFm6LYBsv"
   },
   "outputs": [],
   "source": [
    "def objective(trial):\n",
    "    \n",
    "    # Define K-fold cross validation test harness\n",
    "    kfold = KFold(n_splits=7, shuffle=True, random_state=10)\n",
    "    counter = 0\n",
    "    rmsle = 0\n",
    "\n",
    "    for train, val in kfold.split(Xtrain.values, Ytrain.values):\n",
    "        counter += 1\n",
    "\n",
    "        train_x, train_y = Xtrain.iloc[train], Ytrain.iloc[train]\n",
    "        val_x, val_y = Xtrain.iloc[val], Ytrain.iloc[val]\n",
    "\n",
    "        model = CatBoostRegressor(\n",
    "            objective='RMSE',\n",
    "            eval_metric='RMSE',\n",
    "            num_boost_round=5000,\n",
    "            learning_rate=trial.suggest_loguniform(\"learning_rate\", 1e-2, 1e-1),\n",
    "            reg_lambda=trial.suggest_loguniform(\"reg_lambda\", 1e-4, 1.0),\n",
    "            bootstrap_type='Poisson',\n",
    "            subsample=trial.suggest_uniform(\"subsample\", 0.5, 1.0),\n",
    "            max_depth=trial.suggest_int(\"max_depth\", 6, 15), \n",
    "            grow_policy='Lossguide',\n",
    "            min_data_in_leaf=trial.suggest_int(\"min_data_in_leaf\", 1, 15), \n",
    "            max_leaves=trial.suggest_int(\"max_leaves\", 40, 1500),\n",
    "            task_type='GPU',\n",
    "            verbose=0\n",
    "        )\n",
    "\n",
    "        model.fit(train_x, train_y, eval_set=[(val_x, val_y)], \n",
    "                  cat_features=categorical_columns_indices,\n",
    "                  early_stopping_rounds=200, verbose=False)\n",
    "        y_pred = model.predict(val_x)\n",
    "        rmsle += np.sqrt(mean_squared_log_error(val_y, y_pred))\n",
    "    \n",
    "    score = rmsle / float(counter)\n",
    "    return score"
   ]
  },
  {
   "cell_type": "code",
   "execution_count": 8,
   "metadata": {
    "colab": {
     "base_uri": "https://localhost:8080/",
     "height": 809
    },
    "executionInfo": {
     "elapsed": 9374199,
     "status": "error",
     "timestamp": 1606819871039,
     "user": {
      "displayName": "TAPAS DAS",
      "photoUrl": "https://lh3.googleusercontent.com/a-/AOh14GiyffdGKiPCR_UwVittzTcbBFms70IkGfU15fatCA=s64",
      "userId": "10798398878324948542"
     },
     "user_tz": -330
    },
    "id": "mQTiW1zZYByu",
    "outputId": "231f05cf-5b87-450f-c68e-8125583986fe"
   },
   "outputs": [
    {
     "name": "stderr",
     "output_type": "stream",
     "text": [
      "\u001b[32m[I 2020-12-01 08:14:58,146]\u001b[0m A new study created in memory with name: no-name-899196c1-1b65-453b-b982-dc8916c75132\u001b[0m\n",
      "\u001b[32m[I 2020-12-01 08:18:33,944]\u001b[0m Trial 0 finished with value: 0.03154559920383443 and parameters: {'learning_rate': 0.021258939742412126, 'reg_lambda': 0.0011615221130014577, 'subsample': 0.5602265935953359, 'max_depth': 9, 'min_data_in_leaf': 9, 'max_leaves': 667}. Best is trial 0 with value: 0.03154559920383443.\u001b[0m\n",
      "\u001b[32m[I 2020-12-01 08:28:02,846]\u001b[0m Trial 1 finished with value: 0.03509306048268023 and parameters: {'learning_rate': 0.023524513386969894, 'reg_lambda': 0.0005252172702328468, 'subsample': 0.9592659720473466, 'max_depth': 8, 'min_data_in_leaf': 1, 'max_leaves': 1400}. Best is trial 0 with value: 0.03154559920383443.\u001b[0m\n",
      "\u001b[32m[I 2020-12-01 08:28:59,505]\u001b[0m Trial 2 finished with value: 0.03149660654238146 and parameters: {'learning_rate': 0.07148744280909876, 'reg_lambda': 0.18312665913254556, 'subsample': 0.7050094261736793, 'max_depth': 6, 'min_data_in_leaf': 7, 'max_leaves': 957}. Best is trial 2 with value: 0.03149660654238146.\u001b[0m\n",
      "\u001b[32m[I 2020-12-01 09:04:18,209]\u001b[0m Trial 3 finished with value: 0.03979635021599077 and parameters: {'learning_rate': 0.08522599692888017, 'reg_lambda': 0.02108175595787603, 'subsample': 0.9811289184727707, 'max_depth': 14, 'min_data_in_leaf': 2, 'max_leaves': 1420}. Best is trial 2 with value: 0.03149660654238146.\u001b[0m\n",
      "\u001b[32m[I 2020-12-01 09:06:09,398]\u001b[0m Trial 4 finished with value: 0.03259230210580941 and parameters: {'learning_rate': 0.08664410220638222, 'reg_lambda': 0.0010560012456678944, 'subsample': 0.9727127529275288, 'max_depth': 8, 'min_data_in_leaf': 11, 'max_leaves': 259}. Best is trial 2 with value: 0.03149660654238146.\u001b[0m\n",
      "\u001b[32m[I 2020-12-01 09:08:14,739]\u001b[0m Trial 5 finished with value: 0.03164206034068898 and parameters: {'learning_rate': 0.049247281046565713, 'reg_lambda': 0.4218087231215407, 'subsample': 0.7996920160729342, 'max_depth': 8, 'min_data_in_leaf': 5, 'max_leaves': 107}. Best is trial 2 with value: 0.03149660654238146.\u001b[0m\n",
      "\u001b[32m[I 2020-12-01 09:12:09,561]\u001b[0m Trial 6 finished with value: 0.03173670033605546 and parameters: {'learning_rate': 0.025955667817771245, 'reg_lambda': 0.5328877811461441, 'subsample': 0.726377757680495, 'max_depth': 10, 'min_data_in_leaf': 11, 'max_leaves': 1273}. Best is trial 2 with value: 0.03149660654238146.\u001b[0m\n",
      "\u001b[32m[I 2020-12-01 10:08:27,515]\u001b[0m Trial 7 finished with value: 0.033951499139172926 and parameters: {'learning_rate': 0.016191178344793448, 'reg_lambda': 0.007557658038813281, 'subsample': 0.723714670113361, 'max_depth': 13, 'min_data_in_leaf': 2, 'max_leaves': 852}. Best is trial 2 with value: 0.03149660654238146.\u001b[0m\n",
      "\u001b[32m[I 2020-12-01 10:18:44,371]\u001b[0m Trial 8 finished with value: 0.03268448773042996 and parameters: {'learning_rate': 0.025787355554168077, 'reg_lambda': 0.010120299399214926, 'subsample': 0.7578022309265893, 'max_depth': 10, 'min_data_in_leaf': 3, 'max_leaves': 710}. Best is trial 2 with value: 0.03149660654238146.\u001b[0m\n",
      "\u001b[32m[I 2020-12-01 10:28:35,823]\u001b[0m Trial 9 finished with value: 0.036373919860511104 and parameters: {'learning_rate': 0.07661315782185964, 'reg_lambda': 0.0033481633348676557, 'subsample': 0.8811464036568284, 'max_depth': 12, 'min_data_in_leaf': 4, 'max_leaves': 811}. Best is trial 2 with value: 0.03149660654238146.\u001b[0m\n",
      "\u001b[32m[I 2020-12-01 10:29:25,221]\u001b[0m Trial 10 finished with value: 0.03172121528409597 and parameters: {'learning_rate': 0.04861820746758573, 'reg_lambda': 0.08165711898573112, 'subsample': 0.5909798871548843, 'max_depth': 6, 'min_data_in_leaf': 15, 'max_leaves': 1082}. Best is trial 2 with value: 0.03149660654238146.\u001b[0m\n",
      "\u001b[32m[I 2020-12-01 10:31:20,368]\u001b[0m Trial 11 finished with value: 0.03125005566092428 and parameters: {'learning_rate': 0.013264771870718988, 'reg_lambda': 0.00017638097042118911, 'subsample': 0.5065462449656796, 'max_depth': 6, 'min_data_in_leaf': 8, 'max_leaves': 453}. Best is trial 11 with value: 0.03125005566092428.\u001b[0m\n",
      "\u001b[32m[I 2020-12-01 10:33:33,415]\u001b[0m Trial 12 finished with value: 0.03136265678515378 and parameters: {'learning_rate': 0.010517096517645796, 'reg_lambda': 0.00010353187086939287, 'subsample': 0.5040397892686859, 'max_depth': 6, 'min_data_in_leaf': 7, 'max_leaves': 416}. Best is trial 11 with value: 0.03125005566092428.\u001b[0m\n",
      "\u001b[32m[I 2020-12-01 10:36:24,942]\u001b[0m Trial 13 finished with value: 0.0312884542741861 and parameters: {'learning_rate': 0.010081708556163091, 'reg_lambda': 0.00011120967640176652, 'subsample': 0.5285883255096829, 'max_depth': 6, 'min_data_in_leaf': 7, 'max_leaves': 385}. Best is trial 11 with value: 0.03125005566092428.\u001b[0m\n",
      "\u001b[32m[I 2020-12-01 10:39:26,816]\u001b[0m Trial 14 finished with value: 0.03132444566268434 and parameters: {'learning_rate': 0.010646422788520918, 'reg_lambda': 0.00010050058606923351, 'subsample': 0.500897491716707, 'max_depth': 7, 'min_data_in_leaf': 10, 'max_leaves': 475}. Best is trial 11 with value: 0.03125005566092428.\u001b[0m\n",
      "\u001b[32m[I 2020-12-01 10:41:28,947]\u001b[0m Trial 15 finished with value: 0.03157481498041908 and parameters: {'learning_rate': 0.01376516395689807, 'reg_lambda': 0.00024947371329823455, 'subsample': 0.6311203217514227, 'max_depth': 6, 'min_data_in_leaf': 13, 'max_leaves': 71}. Best is trial 11 with value: 0.03125005566092428.\u001b[0m\n",
      "\u001b[32m[I 2020-12-01 10:44:41,364]\u001b[0m Trial 16 finished with value: 0.03157727626249646 and parameters: {'learning_rate': 0.013286988291259263, 'reg_lambda': 0.00022215467455022033, 'subsample': 0.6420992862834174, 'max_depth': 7, 'min_data_in_leaf': 6, 'max_leaves': 533}. Best is trial 11 with value: 0.03125005566092428.\u001b[0m\n",
      "\u001b[32m[I 2020-12-01 10:49:50,050]\u001b[0m Trial 17 finished with value: 0.03167272011950915 and parameters: {'learning_rate': 0.01743999406279698, 'reg_lambda': 0.0002288898588745052, 'subsample': 0.5482394682726277, 'max_depth': 11, 'min_data_in_leaf': 8, 'max_leaves': 297}. Best is trial 11 with value: 0.03125005566092428.\u001b[0m\n"
     ]
    },
    {
     "ename": "KeyboardInterrupt",
     "evalue": "ignored",
     "output_type": "error",
     "traceback": [
      "\u001b[0;31m---------------------------------------------------------------------------\u001b[0m",
      "\u001b[0;31mKeyboardInterrupt\u001b[0m                         Traceback (most recent call last)",
      "\u001b[0;32m<ipython-input-8-dc92947633ff>\u001b[0m in \u001b[0;36m<module>\u001b[0;34m()\u001b[0m\n\u001b[1;32m      1\u001b[0m \u001b[0mstudy\u001b[0m \u001b[0;34m=\u001b[0m \u001b[0moptuna\u001b[0m\u001b[0;34m.\u001b[0m\u001b[0mcreate_study\u001b[0m\u001b[0;34m(\u001b[0m\u001b[0;34m)\u001b[0m\u001b[0;34m\u001b[0m\u001b[0;34m\u001b[0m\u001b[0m\n\u001b[0;32m----> 2\u001b[0;31m \u001b[0mstudy\u001b[0m\u001b[0;34m.\u001b[0m\u001b[0moptimize\u001b[0m\u001b[0;34m(\u001b[0m\u001b[0mobjective\u001b[0m\u001b[0;34m,\u001b[0m \u001b[0mn_trials\u001b[0m\u001b[0;34m=\u001b[0m\u001b[0;36m250\u001b[0m\u001b[0;34m)\u001b[0m\u001b[0;34m\u001b[0m\u001b[0;34m\u001b[0m\u001b[0m\n\u001b[0m",
      "\u001b[0;32m/usr/local/lib/python3.6/dist-packages/optuna/study.py\u001b[0m in \u001b[0;36moptimize\u001b[0;34m(self, func, n_trials, timeout, n_jobs, catch, callbacks, gc_after_trial, show_progress_bar)\u001b[0m\n\u001b[1;32m    313\u001b[0m             \u001b[0mcallbacks\u001b[0m\u001b[0;34m=\u001b[0m\u001b[0mcallbacks\u001b[0m\u001b[0;34m,\u001b[0m\u001b[0;34m\u001b[0m\u001b[0;34m\u001b[0m\u001b[0m\n\u001b[1;32m    314\u001b[0m             \u001b[0mgc_after_trial\u001b[0m\u001b[0;34m=\u001b[0m\u001b[0mgc_after_trial\u001b[0m\u001b[0;34m,\u001b[0m\u001b[0;34m\u001b[0m\u001b[0;34m\u001b[0m\u001b[0m\n\u001b[0;32m--> 315\u001b[0;31m             \u001b[0mshow_progress_bar\u001b[0m\u001b[0;34m=\u001b[0m\u001b[0mshow_progress_bar\u001b[0m\u001b[0;34m,\u001b[0m\u001b[0;34m\u001b[0m\u001b[0;34m\u001b[0m\u001b[0m\n\u001b[0m\u001b[1;32m    316\u001b[0m         )\n\u001b[1;32m    317\u001b[0m \u001b[0;34m\u001b[0m\u001b[0m\n",
      "\u001b[0;32m/usr/local/lib/python3.6/dist-packages/optuna/_optimize.py\u001b[0m in \u001b[0;36m_optimize\u001b[0;34m(study, func, n_trials, timeout, n_jobs, catch, callbacks, gc_after_trial, show_progress_bar)\u001b[0m\n\u001b[1;32m     63\u001b[0m                 \u001b[0mreseed_sampler_rng\u001b[0m\u001b[0;34m=\u001b[0m\u001b[0;32mFalse\u001b[0m\u001b[0;34m,\u001b[0m\u001b[0;34m\u001b[0m\u001b[0;34m\u001b[0m\u001b[0m\n\u001b[1;32m     64\u001b[0m                 \u001b[0mtime_start\u001b[0m\u001b[0;34m=\u001b[0m\u001b[0;32mNone\u001b[0m\u001b[0;34m,\u001b[0m\u001b[0;34m\u001b[0m\u001b[0;34m\u001b[0m\u001b[0m\n\u001b[0;32m---> 65\u001b[0;31m                 \u001b[0mprogress_bar\u001b[0m\u001b[0;34m=\u001b[0m\u001b[0mprogress_bar\u001b[0m\u001b[0;34m,\u001b[0m\u001b[0;34m\u001b[0m\u001b[0;34m\u001b[0m\u001b[0m\n\u001b[0m\u001b[1;32m     66\u001b[0m             )\n\u001b[1;32m     67\u001b[0m         \u001b[0;32melse\u001b[0m\u001b[0;34m:\u001b[0m\u001b[0;34m\u001b[0m\u001b[0;34m\u001b[0m\u001b[0m\n",
      "\u001b[0;32m/usr/local/lib/python3.6/dist-packages/optuna/_optimize.py\u001b[0m in \u001b[0;36m_optimize_sequential\u001b[0;34m(study, func, n_trials, timeout, catch, callbacks, gc_after_trial, reseed_sampler_rng, time_start, progress_bar)\u001b[0m\n\u001b[1;32m    154\u001b[0m \u001b[0;34m\u001b[0m\u001b[0m\n\u001b[1;32m    155\u001b[0m         \u001b[0;32mtry\u001b[0m\u001b[0;34m:\u001b[0m\u001b[0;34m\u001b[0m\u001b[0;34m\u001b[0m\u001b[0m\n\u001b[0;32m--> 156\u001b[0;31m             \u001b[0mtrial\u001b[0m \u001b[0;34m=\u001b[0m \u001b[0m_run_trial\u001b[0m\u001b[0;34m(\u001b[0m\u001b[0mstudy\u001b[0m\u001b[0;34m,\u001b[0m \u001b[0mfunc\u001b[0m\u001b[0;34m,\u001b[0m \u001b[0mcatch\u001b[0m\u001b[0;34m)\u001b[0m\u001b[0;34m\u001b[0m\u001b[0;34m\u001b[0m\u001b[0m\n\u001b[0m\u001b[1;32m    157\u001b[0m         \u001b[0;32mexcept\u001b[0m \u001b[0mException\u001b[0m\u001b[0;34m:\u001b[0m\u001b[0;34m\u001b[0m\u001b[0;34m\u001b[0m\u001b[0m\n\u001b[1;32m    158\u001b[0m             \u001b[0;32mraise\u001b[0m\u001b[0;34m\u001b[0m\u001b[0;34m\u001b[0m\u001b[0m\n",
      "\u001b[0;32m/usr/local/lib/python3.6/dist-packages/optuna/_optimize.py\u001b[0m in \u001b[0;36m_run_trial\u001b[0;34m(study, func, catch)\u001b[0m\n\u001b[1;32m    187\u001b[0m \u001b[0;34m\u001b[0m\u001b[0m\n\u001b[1;32m    188\u001b[0m     \u001b[0;32mtry\u001b[0m\u001b[0;34m:\u001b[0m\u001b[0;34m\u001b[0m\u001b[0;34m\u001b[0m\u001b[0m\n\u001b[0;32m--> 189\u001b[0;31m         \u001b[0mvalue\u001b[0m \u001b[0;34m=\u001b[0m \u001b[0mfunc\u001b[0m\u001b[0;34m(\u001b[0m\u001b[0mtrial\u001b[0m\u001b[0;34m)\u001b[0m\u001b[0;34m\u001b[0m\u001b[0;34m\u001b[0m\u001b[0m\n\u001b[0m\u001b[1;32m    190\u001b[0m     \u001b[0;32mexcept\u001b[0m \u001b[0mexceptions\u001b[0m\u001b[0;34m.\u001b[0m\u001b[0mTrialPruned\u001b[0m \u001b[0;32mas\u001b[0m \u001b[0me\u001b[0m\u001b[0;34m:\u001b[0m\u001b[0;34m\u001b[0m\u001b[0;34m\u001b[0m\u001b[0m\n\u001b[1;32m    191\u001b[0m         \u001b[0;31m# Register the last intermediate value if present as the value of the trial.\u001b[0m\u001b[0;34m\u001b[0m\u001b[0;34m\u001b[0m\u001b[0;34m\u001b[0m\u001b[0m\n",
      "\u001b[0;32m<ipython-input-7-3561bf327ec8>\u001b[0m in \u001b[0;36mobjective\u001b[0;34m(trial)\u001b[0m\n\u001b[1;32m     30\u001b[0m         model.fit(train_x, train_y, eval_set=[(val_x, val_y)], \n\u001b[1;32m     31\u001b[0m                   \u001b[0mcat_features\u001b[0m\u001b[0;34m=\u001b[0m\u001b[0mcategorical_columns_indices\u001b[0m\u001b[0;34m,\u001b[0m\u001b[0;34m\u001b[0m\u001b[0;34m\u001b[0m\u001b[0m\n\u001b[0;32m---> 32\u001b[0;31m                   early_stopping_rounds=200, verbose=False)\n\u001b[0m\u001b[1;32m     33\u001b[0m         \u001b[0my_pred\u001b[0m \u001b[0;34m=\u001b[0m \u001b[0mmodel\u001b[0m\u001b[0;34m.\u001b[0m\u001b[0mpredict\u001b[0m\u001b[0;34m(\u001b[0m\u001b[0mval_x\u001b[0m\u001b[0;34m)\u001b[0m\u001b[0;34m\u001b[0m\u001b[0;34m\u001b[0m\u001b[0m\n\u001b[1;32m     34\u001b[0m         \u001b[0mrmsle\u001b[0m \u001b[0;34m+=\u001b[0m \u001b[0mnp\u001b[0m\u001b[0;34m.\u001b[0m\u001b[0msqrt\u001b[0m\u001b[0;34m(\u001b[0m\u001b[0mmean_squared_log_error\u001b[0m\u001b[0;34m(\u001b[0m\u001b[0mval_y\u001b[0m\u001b[0;34m,\u001b[0m \u001b[0my_pred\u001b[0m\u001b[0;34m)\u001b[0m\u001b[0;34m)\u001b[0m\u001b[0;34m\u001b[0m\u001b[0;34m\u001b[0m\u001b[0m\n",
      "\u001b[0;32m/usr/local/lib/python3.6/dist-packages/catboost/core.py\u001b[0m in \u001b[0;36mfit\u001b[0;34m(self, X, y, cat_features, sample_weight, baseline, use_best_model, eval_set, verbose, logging_level, plot, column_description, verbose_eval, metric_period, silent, early_stopping_rounds, save_snapshot, snapshot_file, snapshot_interval, init_model)\u001b[0m\n\u001b[1;32m   4848\u001b[0m                          \u001b[0muse_best_model\u001b[0m\u001b[0;34m,\u001b[0m \u001b[0meval_set\u001b[0m\u001b[0;34m,\u001b[0m \u001b[0mverbose\u001b[0m\u001b[0;34m,\u001b[0m \u001b[0mlogging_level\u001b[0m\u001b[0;34m,\u001b[0m \u001b[0mplot\u001b[0m\u001b[0;34m,\u001b[0m \u001b[0mcolumn_description\u001b[0m\u001b[0;34m,\u001b[0m\u001b[0;34m\u001b[0m\u001b[0;34m\u001b[0m\u001b[0m\n\u001b[1;32m   4849\u001b[0m                          \u001b[0mverbose_eval\u001b[0m\u001b[0;34m,\u001b[0m \u001b[0mmetric_period\u001b[0m\u001b[0;34m,\u001b[0m \u001b[0msilent\u001b[0m\u001b[0;34m,\u001b[0m \u001b[0mearly_stopping_rounds\u001b[0m\u001b[0;34m,\u001b[0m\u001b[0;34m\u001b[0m\u001b[0;34m\u001b[0m\u001b[0m\n\u001b[0;32m-> 4850\u001b[0;31m                          save_snapshot, snapshot_file, snapshot_interval, init_model)\n\u001b[0m\u001b[1;32m   4851\u001b[0m \u001b[0;34m\u001b[0m\u001b[0m\n\u001b[1;32m   4852\u001b[0m     \u001b[0;32mdef\u001b[0m \u001b[0mpredict\u001b[0m\u001b[0;34m(\u001b[0m\u001b[0mself\u001b[0m\u001b[0;34m,\u001b[0m \u001b[0mdata\u001b[0m\u001b[0;34m,\u001b[0m \u001b[0mprediction_type\u001b[0m\u001b[0;34m=\u001b[0m\u001b[0;32mNone\u001b[0m\u001b[0;34m,\u001b[0m \u001b[0mntree_start\u001b[0m\u001b[0;34m=\u001b[0m\u001b[0;36m0\u001b[0m\u001b[0;34m,\u001b[0m \u001b[0mntree_end\u001b[0m\u001b[0;34m=\u001b[0m\u001b[0;36m0\u001b[0m\u001b[0;34m,\u001b[0m \u001b[0mthread_count\u001b[0m\u001b[0;34m=\u001b[0m\u001b[0;34m-\u001b[0m\u001b[0;36m1\u001b[0m\u001b[0;34m,\u001b[0m \u001b[0mverbose\u001b[0m\u001b[0;34m=\u001b[0m\u001b[0;32mNone\u001b[0m\u001b[0;34m)\u001b[0m\u001b[0;34m:\u001b[0m\u001b[0;34m\u001b[0m\u001b[0;34m\u001b[0m\u001b[0m\n",
      "\u001b[0;32m/usr/local/lib/python3.6/dist-packages/catboost/core.py\u001b[0m in \u001b[0;36m_fit\u001b[0;34m(self, X, y, cat_features, text_features, embedding_features, pairs, sample_weight, group_id, group_weight, subgroup_id, pairs_weight, baseline, use_best_model, eval_set, verbose, logging_level, plot, column_description, verbose_eval, metric_period, silent, early_stopping_rounds, save_snapshot, snapshot_file, snapshot_interval, init_model)\u001b[0m\n\u001b[1;32m   1807\u001b[0m                 \u001b[0mparams\u001b[0m\u001b[0;34m,\u001b[0m\u001b[0;34m\u001b[0m\u001b[0;34m\u001b[0m\u001b[0m\n\u001b[1;32m   1808\u001b[0m                 \u001b[0mallow_clear_pool\u001b[0m\u001b[0;34m,\u001b[0m\u001b[0;34m\u001b[0m\u001b[0;34m\u001b[0m\u001b[0m\n\u001b[0;32m-> 1809\u001b[0;31m                 \u001b[0mtrain_params\u001b[0m\u001b[0;34m[\u001b[0m\u001b[0;34m\"init_model\"\u001b[0m\u001b[0;34m]\u001b[0m\u001b[0;34m\u001b[0m\u001b[0;34m\u001b[0m\u001b[0m\n\u001b[0m\u001b[1;32m   1810\u001b[0m             )\n\u001b[1;32m   1811\u001b[0m \u001b[0;34m\u001b[0m\u001b[0m\n",
      "\u001b[0;32m/usr/local/lib/python3.6/dist-packages/catboost/core.py\u001b[0m in \u001b[0;36m_train\u001b[0;34m(self, train_pool, test_pool, params, allow_clear_pool, init_model)\u001b[0m\n\u001b[1;32m   1256\u001b[0m \u001b[0;34m\u001b[0m\u001b[0m\n\u001b[1;32m   1257\u001b[0m     \u001b[0;32mdef\u001b[0m \u001b[0m_train\u001b[0m\u001b[0;34m(\u001b[0m\u001b[0mself\u001b[0m\u001b[0;34m,\u001b[0m \u001b[0mtrain_pool\u001b[0m\u001b[0;34m,\u001b[0m \u001b[0mtest_pool\u001b[0m\u001b[0;34m,\u001b[0m \u001b[0mparams\u001b[0m\u001b[0;34m,\u001b[0m \u001b[0mallow_clear_pool\u001b[0m\u001b[0;34m,\u001b[0m \u001b[0minit_model\u001b[0m\u001b[0;34m)\u001b[0m\u001b[0;34m:\u001b[0m\u001b[0;34m\u001b[0m\u001b[0;34m\u001b[0m\u001b[0m\n\u001b[0;32m-> 1258\u001b[0;31m         \u001b[0mself\u001b[0m\u001b[0;34m.\u001b[0m\u001b[0m_object\u001b[0m\u001b[0;34m.\u001b[0m\u001b[0m_train\u001b[0m\u001b[0;34m(\u001b[0m\u001b[0mtrain_pool\u001b[0m\u001b[0;34m,\u001b[0m \u001b[0mtest_pool\u001b[0m\u001b[0;34m,\u001b[0m \u001b[0mparams\u001b[0m\u001b[0;34m,\u001b[0m \u001b[0mallow_clear_pool\u001b[0m\u001b[0;34m,\u001b[0m \u001b[0minit_model\u001b[0m\u001b[0;34m.\u001b[0m\u001b[0m_object\u001b[0m \u001b[0;32mif\u001b[0m \u001b[0minit_model\u001b[0m \u001b[0;32melse\u001b[0m \u001b[0;32mNone\u001b[0m\u001b[0;34m)\u001b[0m\u001b[0;34m\u001b[0m\u001b[0;34m\u001b[0m\u001b[0m\n\u001b[0m\u001b[1;32m   1259\u001b[0m         \u001b[0mself\u001b[0m\u001b[0;34m.\u001b[0m\u001b[0m_set_trained_model_attributes\u001b[0m\u001b[0;34m(\u001b[0m\u001b[0;34m)\u001b[0m\u001b[0;34m\u001b[0m\u001b[0;34m\u001b[0m\u001b[0m\n\u001b[1;32m   1260\u001b[0m \u001b[0;34m\u001b[0m\u001b[0m\n",
      "\u001b[0;32m_catboost.pyx\u001b[0m in \u001b[0;36m_catboost._CatBoost._train\u001b[0;34m()\u001b[0m\n",
      "\u001b[0;32m_catboost.pyx\u001b[0m in \u001b[0;36m_catboost._CatBoost._train\u001b[0;34m()\u001b[0m\n",
      "\u001b[0;31mKeyboardInterrupt\u001b[0m: "
     ]
    }
   ],
   "source": [
    "study = optuna.create_study()\n",
    "study.optimize(objective, n_trials=250)"
   ]
  },
  {
   "cell_type": "code",
   "execution_count": 9,
   "metadata": {
    "colab": {
     "base_uri": "https://localhost:8080/"
    },
    "executionInfo": {
     "elapsed": 2298,
     "status": "ok",
     "timestamp": 1606819873900,
     "user": {
      "displayName": "TAPAS DAS",
      "photoUrl": "https://lh3.googleusercontent.com/a-/AOh14GiyffdGKiPCR_UwVittzTcbBFms70IkGfU15fatCA=s64",
      "userId": "10798398878324948542"
     },
     "user_tz": -330
    },
    "id": "w3ycyNBUYB1b",
    "outputId": "f9a8ae29-b11a-4ea9-8f45-c50c6809cc2d"
   },
   "outputs": [
    {
     "name": "stdout",
     "output_type": "stream",
     "text": [
      "Number of finished trials: 19\n",
      "Best trial:\n",
      " Value: 0.03125005566092428\n",
      "Params: \n",
      " learning_rate: 0.013264771870718988\n",
      " reg_lambda: 0.00017638097042118911\n",
      " subsample: 0.5065462449656796\n",
      " max_depth: 6\n",
      " min_data_in_leaf: 8\n",
      " max_leaves: 453\n"
     ]
    }
   ],
   "source": [
    "print(\"Number of finished trials: {}\".format(len(study.trials)))\n",
    "\n",
    "print(\"Best trial:\")\n",
    "trial = study.best_trial\n",
    "\n",
    "print(\" Value: {}\".format(trial.value))\n",
    "\n",
    "print(\"Params: \")\n",
    "for key, value in trial.params.items():\n",
    "    print(\" {}: {}\".format(key, value))"
   ]
  },
  {
   "cell_type": "markdown",
   "metadata": {
    "id": "eVLHuPtoaIwr"
   },
   "source": [
    "## Build and validate the model"
   ]
  },
  {
   "cell_type": "code",
   "execution_count": 10,
   "metadata": {
    "colab": {
     "base_uri": "https://localhost:8080/"
    },
    "executionInfo": {
     "elapsed": 678735,
     "status": "ok",
     "timestamp": 1606820595948,
     "user": {
      "displayName": "TAPAS DAS",
      "photoUrl": "https://lh3.googleusercontent.com/a-/AOh14GiyffdGKiPCR_UwVittzTcbBFms70IkGfU15fatCA=s64",
      "userId": "10798398878324948542"
     },
     "user_tz": -330
    },
    "id": "YasJCcWmYBxp",
    "outputId": "028f37e8-facf-4f65-9f33-85eee9075b7b"
   },
   "outputs": [
    {
     "name": "stdout",
     "output_type": "stream",
     "text": [
      "0:\tlearn: 3.9041867\ttest: 3.7495454\tbest: 3.7495454 (0)\ttotal: 47.1ms\tremaining: 6m 17s\n",
      "500:\tlearn: 0.2275996\ttest: 0.4285438\tbest: 0.4279851 (459)\ttotal: 12.7s\tremaining: 3m 9s\n",
      "bestTest = 0.4274603387\n",
      "bestIteration = 782\n",
      "Shrink model to first 783 iterations.\n",
      "Seed-37 | Fold-0 | RMSE Score: 0.028050202102291453\n",
      "0:\tlearn: 3.8812845\ttest: 3.8878992\tbest: 3.8878992 (0)\ttotal: 37.4ms\tremaining: 4m 59s\n",
      "500:\tlearn: 0.2298898\ttest: 0.4388140\tbest: 0.4383449 (494)\ttotal: 12.1s\tremaining: 3m 1s\n",
      "1000:\tlearn: 0.1869744\ttest: 0.4346938\tbest: 0.4343060 (872)\ttotal: 20.1s\tremaining: 2m 20s\n",
      "bestTest = 0.4343059673\n",
      "bestIteration = 872\n",
      "Shrink model to first 873 iterations.\n",
      "Seed-37 | Fold-1 | RMSE Score: 0.03408406124836107\n",
      "0:\tlearn: 3.8566235\ttest: 4.0320213\tbest: 4.0320213 (0)\ttotal: 37.1ms\tremaining: 4m 56s\n",
      "500:\tlearn: 0.2259235\ttest: 0.5010876\tbest: 0.5007385 (443)\ttotal: 12.5s\tremaining: 3m 7s\n",
      "bestTest = 0.5003851107\n",
      "bestIteration = 648\n",
      "Shrink model to first 649 iterations.\n",
      "Seed-37 | Fold-2 | RMSE Score: 0.03513015270879151\n",
      "0:\tlearn: 3.8685183\ttest: 3.9629163\tbest: 3.9629163 (0)\ttotal: 36.2ms\tremaining: 4m 49s\n",
      "500:\tlearn: 0.2229824\ttest: 0.5168723\tbest: 0.5145049 (458)\ttotal: 12.1s\tremaining: 3m\n",
      "bestTest = 0.5145049327\n",
      "bestIteration = 458\n",
      "Shrink model to first 459 iterations.\n",
      "Seed-37 | Fold-3 | RMSE Score: 0.049125427739441126\n",
      "0:\tlearn: 3.9067871\ttest: 3.7314215\tbest: 3.7314215 (0)\ttotal: 40.1ms\tremaining: 5m 20s\n",
      "500:\tlearn: 0.2345276\ttest: 0.3946019\tbest: 0.3937602 (421)\ttotal: 12.3s\tremaining: 3m 4s\n",
      "bestTest = 0.3937602405\n",
      "bestIteration = 421\n",
      "Shrink model to first 422 iterations.\n",
      "Seed-37 | Fold-4 | RMSE Score: 0.02741203865039248\n",
      "0:\tlearn: 3.8708662\ttest: 3.9499823\tbest: 3.9499823 (0)\ttotal: 39.2ms\tremaining: 5m 13s\n",
      "500:\tlearn: 0.2318229\ttest: 0.4220473\tbest: 0.4218135 (484)\ttotal: 12.6s\tremaining: 3m 8s\n",
      "1000:\tlearn: 0.1893016\ttest: 0.4212869\tbest: 0.4210412 (801)\ttotal: 20.7s\tremaining: 2m 24s\n",
      "bestTest = 0.4210412068\n",
      "bestIteration = 801\n",
      "Shrink model to first 802 iterations.\n",
      "Seed-37 | Fold-5 | RMSE Score: 0.027517165959595923\n",
      "0:\tlearn: 3.8862874\ttest: 3.8579552\tbest: 3.8579552 (0)\ttotal: 40.1ms\tremaining: 5m 20s\n",
      "500:\tlearn: 0.2387685\ttest: 0.2467799\tbest: 0.2467344 (488)\ttotal: 12.1s\tremaining: 3m\n",
      "1000:\tlearn: 0.1957135\ttest: 0.2470400\tbest: 0.2459991 (857)\ttotal: 19.9s\tremaining: 2m 18s\n",
      "bestTest = 0.2459991345\n",
      "bestIteration = 857\n",
      "Shrink model to first 858 iterations.\n",
      "Seed-37 | Fold-6 | RMSE Score: 0.014807454267718116\n",
      "\n",
      "Seed: 37 | Aggregate Log Loss: 0.030875214668084523\n",
      "\n",
      "\n",
      "0:\tlearn: 3.8892833\ttest: 3.8400618\tbest: 3.8400618 (0)\ttotal: 39.9ms\tremaining: 5m 18s\n",
      "500:\tlearn: 0.2386434\ttest: 0.2893144\tbest: 0.2892792 (499)\ttotal: 12.8s\tremaining: 3m 11s\n",
      "1000:\tlearn: 0.1956072\ttest: 0.2885922\tbest: 0.2879002 (833)\ttotal: 20.9s\tremaining: 2m 26s\n",
      "bestTest = 0.2879001623\n",
      "bestIteration = 833\n",
      "Shrink model to first 834 iterations.\n",
      "Seed-12 | Fold-0 | RMSE Score: 0.017858255167541547\n",
      "0:\tlearn: 3.8733975\ttest: 3.9339797\tbest: 3.9339797 (0)\ttotal: 39ms\tremaining: 5m 11s\n",
      "500:\tlearn: 0.2180290\ttest: 0.5565964\tbest: 0.5565581 (489)\ttotal: 13.3s\tremaining: 3m 18s\n",
      "bestTest = 0.5562452934\n",
      "bestIteration = 699\n",
      "Shrink model to first 700 iterations.\n",
      "Seed-12 | Fold-1 | RMSE Score: 0.039986182860352965\n",
      "0:\tlearn: 3.8907104\ttest: 3.8302897\tbest: 3.8302897 (0)\ttotal: 39.5ms\tremaining: 5m 16s\n",
      "500:\tlearn: 0.2348574\ttest: 0.3545007\tbest: 0.3544469 (494)\ttotal: 12.6s\tremaining: 3m 8s\n",
      "bestTest = 0.3525995815\n",
      "bestIteration = 754\n",
      "Shrink model to first 755 iterations.\n",
      "Seed-12 | Fold-2 | RMSE Score: 0.02490062846860676\n",
      "0:\tlearn: 3.8845564\ttest: 3.8681031\tbest: 3.8681031 (0)\ttotal: 41ms\tremaining: 5m 27s\n",
      "500:\tlearn: 0.2379416\ttest: 0.3101592\tbest: 0.3099957 (485)\ttotal: 11.7s\tremaining: 2m 55s\n",
      "bestTest = 0.3092130699\n",
      "bestIteration = 693\n",
      "Shrink model to first 694 iterations.\n",
      "Seed-12 | Fold-3 | RMSE Score: 0.01892686811020256\n",
      "0:\tlearn: 3.8804225\ttest: 3.8925141\tbest: 3.8925141 (0)\ttotal: 40.4ms\tremaining: 5m 23s\n",
      "500:\tlearn: 0.2152177\ttest: 0.6164894\tbest: 0.6161146 (449)\ttotal: 12.5s\tremaining: 3m 7s\n",
      "bestTest = 0.6161145935\n",
      "bestIteration = 449\n",
      "Shrink model to first 450 iterations.\n",
      "Seed-12 | Fold-4 | RMSE Score: 0.055408469361268226\n",
      "0:\tlearn: 3.8805217\ttest: 3.8934585\tbest: 3.8934585 (0)\ttotal: 40.2ms\tremaining: 5m 21s\n",
      "500:\tlearn: 0.2338463\ttest: 0.3801713\tbest: 0.3791921 (417)\ttotal: 12.3s\tremaining: 3m 4s\n",
      "bestTest = 0.3791920993\n",
      "bestIteration = 417\n",
      "Shrink model to first 418 iterations.\n",
      "Seed-12 | Fold-5 | RMSE Score: 0.02440640971650616\n",
      "0:\tlearn: 3.8756647\ttest: 3.9209984\tbest: 3.9209984 (0)\ttotal: 39ms\tremaining: 5m 11s\n",
      "500:\tlearn: 0.2370139\ttest: 0.3983620\tbest: 0.3919523 (330)\ttotal: 12.5s\tremaining: 3m 7s\n",
      "bestTest = 0.3919523007\n",
      "bestIteration = 330\n",
      "Shrink model to first 331 iterations.\n",
      "Seed-12 | Fold-6 | RMSE Score: 0.027947126782114366\n",
      "\n",
      "Seed: 12 | Aggregate Log Loss: 0.029919134352370366\n",
      "\n",
      "\n",
      "0:\tlearn: 3.8539542\ttest: 4.0486195\tbest: 4.0486195 (0)\ttotal: 40.6ms\tremaining: 5m 25s\n",
      "500:\tlearn: 0.2337876\ttest: 0.3129565\tbest: 0.3129338 (495)\ttotal: 12.5s\tremaining: 3m 7s\n",
      "1000:\tlearn: 0.1863630\ttest: 0.3104426\tbest: 0.3102431 (887)\ttotal: 20.6s\tremaining: 2m 24s\n",
      "bestTest = 0.3102431313\n",
      "bestIteration = 887\n",
      "Shrink model to first 888 iterations.\n",
      "Seed-72 | Fold-0 | RMSE Score: 0.018681362492438996\n",
      "0:\tlearn: 3.8634128\ttest: 3.9930503\tbest: 3.9930503 (0)\ttotal: 38.4ms\tremaining: 5m 6s\n",
      "500:\tlearn: 0.2238145\ttest: 0.5178554\tbest: 0.5117782 (302)\ttotal: 12.6s\tremaining: 3m 8s\n",
      "bestTest = 0.5117781525\n",
      "bestIteration = 302\n",
      "Shrink model to first 303 iterations.\n",
      "Seed-72 | Fold-1 | RMSE Score: 0.034475387462368265\n",
      "0:\tlearn: 3.8839722\ttest: 3.8726333\tbest: 3.8726333 (0)\ttotal: 38ms\tremaining: 5m 3s\n",
      "500:\tlearn: 0.2501144\ttest: 0.2828940\tbest: 0.2827803 (499)\ttotal: 11.7s\tremaining: 2m 55s\n",
      "1000:\tlearn: 0.2046906\ttest: 0.2797865\tbest: 0.2794530 (812)\ttotal: 19.3s\tremaining: 2m 14s\n",
      "bestTest = 0.2794529772\n",
      "bestIteration = 812\n",
      "Shrink model to first 813 iterations.\n",
      "Seed-72 | Fold-2 | RMSE Score: 0.01908973354526294\n",
      "0:\tlearn: 3.8835348\ttest: 3.8755501\tbest: 3.8755501 (0)\ttotal: 41.9ms\tremaining: 5m 35s\n",
      "500:\tlearn: 0.2199154\ttest: 0.4743297\tbest: 0.4735920 (391)\ttotal: 12.9s\tremaining: 3m 13s\n",
      "bestTest = 0.473591962\n",
      "bestIteration = 391\n",
      "Shrink model to first 392 iterations.\n",
      "Seed-72 | Fold-3 | RMSE Score: 0.03292489081406786\n",
      "0:\tlearn: 3.9114420\ttest: 3.7023983\tbest: 3.7023983 (0)\ttotal: 40.2ms\tremaining: 5m 21s\n",
      "500:\tlearn: 0.2384087\ttest: 0.3992166\tbest: 0.3939332 (328)\ttotal: 12.6s\tremaining: 3m 9s\n",
      "bestTest = 0.3939332093\n",
      "bestIteration = 328\n",
      "Shrink model to first 329 iterations.\n",
      "Seed-72 | Fold-4 | RMSE Score: 0.028580090693054838\n",
      "0:\tlearn: 3.8875493\ttest: 3.8503908\tbest: 3.8503908 (0)\ttotal: 41.8ms\tremaining: 5m 34s\n",
      "500:\tlearn: 0.2323139\ttest: 0.3724299\tbest: 0.3722144 (477)\ttotal: 12.6s\tremaining: 3m 8s\n",
      "1000:\tlearn: 0.1868809\ttest: 0.3691977\tbest: 0.3691304 (994)\ttotal: 20.7s\tremaining: 2m 24s\n",
      "1500:\tlearn: 0.1549453\ttest: 0.3686906\tbest: 0.3685068 (1360)\ttotal: 29.3s\tremaining: 2m 6s\n",
      "bestTest = 0.3685067512\n",
      "bestIteration = 1360\n",
      "Shrink model to first 1361 iterations.\n",
      "Seed-72 | Fold-5 | RMSE Score: 0.02742521744406837\n",
      "0:\tlearn: 3.8905981\ttest: 3.8323410\tbest: 3.8323410 (0)\ttotal: 39.1ms\tremaining: 5m 12s\n",
      "500:\tlearn: 0.2128030\ttest: 0.6098074\tbest: 0.6083692 (331)\ttotal: 12.8s\tremaining: 3m 11s\n",
      "bestTest = 0.6083692325\n",
      "bestIteration = 331\n",
      "Shrink model to first 332 iterations.\n",
      "Seed-72 | Fold-6 | RMSE Score: 0.053998936033113766\n",
      "\n",
      "Seed: 72 | Aggregate Log Loss: 0.030739374069196433\n",
      "\n",
      "\n",
      "0:\tlearn: 3.8761407\ttest: 3.9185642\tbest: 3.9185642 (0)\ttotal: 39.9ms\tremaining: 5m 19s\n",
      "500:\tlearn: 0.2175027\ttest: 0.5489886\tbest: 0.5489477 (496)\ttotal: 12.9s\tremaining: 3m 13s\n",
      "bestTest = 0.5487957983\n",
      "bestIteration = 592\n",
      "Shrink model to first 593 iterations.\n",
      "Seed-9 | Fold-0 | RMSE Score: 0.051156318252762865\n",
      "0:\tlearn: 3.8888278\ttest: 3.8417757\tbest: 3.8417757 (0)\ttotal: 43.9ms\tremaining: 5m 51s\n",
      "500:\tlearn: 0.2402535\ttest: 0.3763535\tbest: 0.3748144 (392)\ttotal: 12.4s\tremaining: 3m 6s\n",
      "bestTest = 0.37481439\n",
      "bestIteration = 392\n",
      "Shrink model to first 393 iterations.\n",
      "Seed-9 | Fold-1 | RMSE Score: 0.023671541859917853\n",
      "0:\tlearn: 3.8745219\ttest: 3.9289365\tbest: 3.9289365 (0)\ttotal: 39.9ms\tremaining: 5m 19s\n",
      "500:\tlearn: 0.2387276\ttest: 0.3195485\tbest: 0.3194293 (491)\ttotal: 12.5s\tremaining: 3m 7s\n",
      "1000:\tlearn: 0.1966948\ttest: 0.3165028\tbest: 0.3163811 (947)\ttotal: 20.6s\tremaining: 2m 24s\n",
      "bestTest = 0.315873184\n",
      "bestIteration = 1289\n",
      "Shrink model to first 1290 iterations.\n",
      "Seed-9 | Fold-2 | RMSE Score: 0.020646984948905423\n",
      "0:\tlearn: 3.8823645\ttest: 3.8812240\tbest: 3.8812240 (0)\ttotal: 39.7ms\tremaining: 5m 17s\n",
      "500:\tlearn: 0.2325504\ttest: 0.3645408\tbest: 0.3645408 (500)\ttotal: 12.4s\tremaining: 3m 6s\n",
      "1000:\tlearn: 0.1877199\ttest: 0.3566731\tbest: 0.3566573 (994)\ttotal: 20.3s\tremaining: 2m 22s\n",
      "bestTest = 0.3557230136\n",
      "bestIteration = 1258\n",
      "Shrink model to first 1259 iterations.\n",
      "Seed-9 | Fold-3 | RMSE Score: 0.027453602292714218\n",
      "0:\tlearn: 3.8781092\ttest: 3.9061042\tbest: 3.9061042 (0)\ttotal: 39.5ms\tremaining: 5m 15s\n",
      "500:\tlearn: 0.2248729\ttest: 0.4969371\tbest: 0.4967011 (464)\ttotal: 12.7s\tremaining: 3m 10s\n",
      "bestTest = 0.496701136\n",
      "bestIteration = 464\n",
      "Shrink model to first 465 iterations.\n",
      "Seed-9 | Fold-4 | RMSE Score: 0.03494307383862653\n",
      "0:\tlearn: 3.8833473\ttest: 3.8755655\tbest: 3.8755655 (0)\ttotal: 39.2ms\tremaining: 5m 13s\n",
      "500:\tlearn: 0.2244303\ttest: 0.4357278\tbest: 0.4352338 (381)\ttotal: 12.7s\tremaining: 3m 9s\n",
      "bestTest = 0.4352337999\n",
      "bestIteration = 381\n",
      "Shrink model to first 382 iterations.\n",
      "Seed-9 | Fold-5 | RMSE Score: 0.02938089586430332\n",
      "0:\tlearn: 3.8917426\ttest: 3.8239295\tbest: 3.8239295 (0)\ttotal: 33.9ms\tremaining: 4m 30s\n",
      "500:\tlearn: 0.2345537\ttest: 0.4203067\tbest: 0.4196630 (449)\ttotal: 11.8s\tremaining: 2m 57s\n",
      "bestTest = 0.4196630338\n",
      "bestIteration = 449\n",
      "Shrink model to first 450 iterations.\n",
      "Seed-9 | Fold-6 | RMSE Score: 0.02920116521044488\n",
      "\n",
      "Seed: 9 | Aggregate Log Loss: 0.030921940323953585\n",
      "\n",
      "\n",
      "0:\tlearn: 3.8889458\ttest: 3.8424451\tbest: 3.8424451 (0)\ttotal: 39.7ms\tremaining: 5m 17s\n",
      "500:\tlearn: 0.2207086\ttest: 0.5068665\tbest: 0.5068631 (494)\ttotal: 12.7s\tremaining: 3m 10s\n",
      "1000:\tlearn: 0.1814645\ttest: 0.5055000\tbest: 0.5054705 (902)\ttotal: 20.7s\tremaining: 2m 24s\n",
      "bestTest = 0.5053540998\n",
      "bestIteration = 1121\n",
      "Shrink model to first 1122 iterations.\n",
      "Seed-75 | Fold-0 | RMSE Score: 0.04849105392076815\n",
      "0:\tlearn: 3.9039989\ttest: 3.7481144\tbest: 3.7481144 (0)\ttotal: 41.4ms\tremaining: 5m 31s\n",
      "500:\tlearn: 0.2288288\ttest: 0.3550341\tbest: 0.3542534 (463)\ttotal: 12.3s\tremaining: 3m 4s\n",
      "bestTest = 0.3542534469\n",
      "bestIteration = 463\n",
      "Shrink model to first 464 iterations.\n",
      "Seed-75 | Fold-1 | RMSE Score: 0.021088438962258715\n",
      "0:\tlearn: 3.8619782\ttest: 4.0018160\tbest: 4.0018160 (0)\ttotal: 40ms\tremaining: 5m 20s\n",
      "500:\tlearn: 0.2334568\ttest: 0.4824108\tbest: 0.4782370 (380)\ttotal: 12.2s\tremaining: 3m 2s\n",
      "bestTest = 0.4782369768\n",
      "bestIteration = 380\n",
      "Shrink model to first 381 iterations.\n",
      "Seed-75 | Fold-2 | RMSE Score: 0.03156543735457438\n",
      "0:\tlearn: 3.9100191\ttest: 3.7110412\tbest: 3.7110412 (0)\ttotal: 41.2ms\tremaining: 5m 29s\n",
      "500:\tlearn: 0.2248548\ttest: 0.4318146\tbest: 0.4279410 (323)\ttotal: 12.1s\tremaining: 3m 1s\n",
      "bestTest = 0.4279409606\n",
      "bestIteration = 323\n",
      "Shrink model to first 324 iterations.\n",
      "Seed-75 | Fold-3 | RMSE Score: 0.02931118495036896\n",
      "0:\tlearn: 3.8735855\ttest: 3.9327579\tbest: 3.9327579 (0)\ttotal: 40.4ms\tremaining: 5m 22s\n",
      "500:\tlearn: 0.2268329\ttest: 0.4550250\tbest: 0.4535780 (424)\ttotal: 12.5s\tremaining: 3m 7s\n",
      "bestTest = 0.4535779989\n",
      "bestIteration = 424\n",
      "Shrink model to first 425 iterations.\n",
      "Seed-75 | Fold-4 | RMSE Score: 0.03063624558080993\n",
      "0:\tlearn: 3.8581690\ttest: 4.0229479\tbest: 4.0229479 (0)\ttotal: 37.3ms\tremaining: 4m 58s\n",
      "500:\tlearn: 0.2257149\ttest: 0.4687711\tbest: 0.4687220 (491)\ttotal: 13.4s\tremaining: 3m 20s\n",
      "1000:\tlearn: 0.1838213\ttest: 0.4661119\tbest: 0.4659608 (894)\ttotal: 21.5s\tremaining: 2m 30s\n",
      "bestTest = 0.4659608446\n",
      "bestIteration = 894\n",
      "Shrink model to first 895 iterations.\n",
      "Seed-75 | Fold-5 | RMSE Score: 0.03692341985501857\n",
      "0:\tlearn: 3.8777889\ttest: 3.9086198\tbest: 3.9086198 (0)\ttotal: 41.7ms\tremaining: 5m 33s\n",
      "500:\tlearn: 0.2427288\ttest: 0.3144499\tbest: 0.3144233 (499)\ttotal: 12.3s\tremaining: 3m 4s\n",
      "1000:\tlearn: 0.2009085\ttest: 0.3118786\tbest: 0.3109550 (891)\ttotal: 20s\tremaining: 2m 19s\n",
      "bestTest = 0.3109550331\n",
      "bestIteration = 891\n",
      "Shrink model to first 892 iterations.\n",
      "Seed-75 | Fold-6 | RMSE Score: 0.022739046510438916\n",
      "\n",
      "Seed: 75 | Aggregate Log Loss: 0.03153640387631966\n",
      "\n",
      "\n",
      "Aggregate RMSE Score: 0.030798413457984918\n"
     ]
    }
   ],
   "source": [
    "# Set number of K-Folds and seeds\n",
    "FOLD = 7\n",
    "NUM_SEED = 5\n",
    "\n",
    "# Set seeds for model training\n",
    "np.random.seed(1)\n",
    "seeds = np.random.randint(0, 100, size=NUM_SEED)\n",
    "\n",
    "oof_rmsle_score = 0\n",
    "y_pred_meta_cb = np.zeros((Ytrain.shape[0], NUM_SEED))\n",
    "y_pred_final_cb = 0\n",
    "counter = 0\n",
    "\n",
    "\n",
    "for sidx, seed in enumerate(seeds):\n",
    "    seed_rmsle_score = 0\n",
    "    \n",
    "    # Define K-fold cross validation test harness\n",
    "    kfold = KFold(n_splits=FOLD, shuffle=True, random_state=seed)\n",
    "    \n",
    "    for idx, (train, val) in enumerate(kfold.split(Xtrain.values, Ytrain.values)):\n",
    "        counter += 1\n",
    "\n",
    "        train_x, train_y = Xtrain.iloc[train], Ytrain.iloc[train]\n",
    "        val_x, val_y = Xtrain.iloc[val], Ytrain.iloc[val]\n",
    "\n",
    "        model = CatBoostRegressor(\n",
    "            objective='RMSE',\n",
    "            eval_metric='RMSE',\n",
    "            num_boost_round=8000,\n",
    "            learning_rate=0.013265,\n",
    "            reg_lambda=0.0001764,\n",
    "            bootstrap_type='Poisson',\n",
    "            subsample=0.50655,\n",
    "            max_depth=6, \n",
    "            grow_policy='Lossguide',\n",
    "            min_data_in_leaf=8, \n",
    "            max_leaves=453,\n",
    "            task_type='GPU',\n",
    "            verbose=0\n",
    "        )\n",
    "\n",
    "        model.fit(train_x, train_y, eval_set=[(val_x, val_y)], \n",
    "                  cat_features=categorical_columns_indices,\n",
    "                  early_stopping_rounds=200, verbose=500)\n",
    "\n",
    "        y_pred = model.predict(val_x)\n",
    "        y_pred_meta_cb[val, sidx] = y_pred\n",
    "        y_pred_final_cb += model.predict(Xpredict)\n",
    "        \n",
    "        score = np.sqrt(mean_squared_log_error(val_y, y_pred))\n",
    "        seed_rmsle_score += score\n",
    "        oof_rmsle_score += score\n",
    "        print(\"Seed-{} | Fold-{} | RMSE Score: {}\".format(seed, idx, score))\n",
    "    \n",
    "    print(\"\\nSeed: {} | Aggregate Log Loss: {}\\n\\n\".format(seed, (seed_rmsle_score / FOLD)))\n",
    "\n",
    "y_pred_final_cb /= float(counter)\n",
    "oof_rmsle_score /= float(counter)\n",
    "print(\"Aggregate RMSE Score: {}\".format(oof_rmsle_score))"
   ]
  },
  {
   "cell_type": "markdown",
   "metadata": {
    "id": "m8WFE2cKdFvF"
   },
   "source": [
    "## Create submission file"
   ]
  },
  {
   "cell_type": "code",
   "execution_count": 11,
   "metadata": {
    "colab": {
     "base_uri": "https://localhost:8080/",
     "height": 204
    },
    "executionInfo": {
     "elapsed": 1410,
     "status": "ok",
     "timestamp": 1606820731164,
     "user": {
      "displayName": "TAPAS DAS",
      "photoUrl": "https://lh3.googleusercontent.com/a-/AOh14GiyffdGKiPCR_UwVittzTcbBFms70IkGfU15fatCA=s64",
      "userId": "10798398878324948542"
     },
     "user_tz": -330
    },
    "id": "95XgXAO7YBvl",
    "outputId": "79feda91-d2db-454e-96f0-bdf25f573470"
   },
   "outputs": [
    {
     "data": {
      "text/html": [
       "<div>\n",
       "<style scoped>\n",
       "    .dataframe tbody tr th:only-of-type {\n",
       "        vertical-align: middle;\n",
       "    }\n",
       "\n",
       "    .dataframe tbody tr th {\n",
       "        vertical-align: top;\n",
       "    }\n",
       "\n",
       "    .dataframe thead th {\n",
       "        text-align: right;\n",
       "    }\n",
       "</style>\n",
       "<table border=\"1\" class=\"dataframe\">\n",
       "  <thead>\n",
       "    <tr style=\"text-align: right;\">\n",
       "      <th></th>\n",
       "      <th>Product_id</th>\n",
       "      <th>Selling_Price</th>\n",
       "    </tr>\n",
       "  </thead>\n",
       "  <tbody>\n",
       "    <tr>\n",
       "      <th>0</th>\n",
       "      <td>SCHE4YSTDVPVZVXW</td>\n",
       "      <td>3278.202048</td>\n",
       "    </tr>\n",
       "    <tr>\n",
       "      <th>1</th>\n",
       "      <td>ACCEGCATKHNRXUHW</td>\n",
       "      <td>2013.485979</td>\n",
       "    </tr>\n",
       "    <tr>\n",
       "      <th>2</th>\n",
       "      <td>NKCE6GJ5XVJDXNNZ</td>\n",
       "      <td>11836.869245</td>\n",
       "    </tr>\n",
       "    <tr>\n",
       "      <th>3</th>\n",
       "      <td>NKCEB8BK3ZXDHDHM</td>\n",
       "      <td>9432.953072</td>\n",
       "    </tr>\n",
       "    <tr>\n",
       "      <th>4</th>\n",
       "      <td>TOPEFDXSAHRNPF94</td>\n",
       "      <td>5698.348741</td>\n",
       "    </tr>\n",
       "  </tbody>\n",
       "</table>\n",
       "</div>"
      ],
      "text/plain": [
       "         Product_id  Selling_Price\n",
       "0  SCHE4YSTDVPVZVXW    3278.202048\n",
       "1  ACCEGCATKHNRXUHW    2013.485979\n",
       "2  NKCE6GJ5XVJDXNNZ   11836.869245\n",
       "3  NKCEB8BK3ZXDHDHM    9432.953072\n",
       "4  TOPEFDXSAHRNPF94    5698.348741"
      ]
     },
     "execution_count": 11,
     "metadata": {
      "tags": []
     },
     "output_type": "execute_result"
    }
   ],
   "source": [
    "predict_df = pd.read_csv(\"/content/drive/My Drive/Colab Notebooks/Carnival Wars/Dataset/test.csv\")\n",
    "submit_df = pd.DataFrame()\n",
    "submit_df['Product_id'] = predict_df['Product_id']\n",
    "submit_df['Selling_Price'] = y_pred_final_cb ** 3\n",
    "submit_df.head()"
   ]
  },
  {
   "cell_type": "code",
   "execution_count": 12,
   "metadata": {
    "executionInfo": {
     "elapsed": 1637,
     "status": "ok",
     "timestamp": 1606820732870,
     "user": {
      "displayName": "TAPAS DAS",
      "photoUrl": "https://lh3.googleusercontent.com/a-/AOh14GiyffdGKiPCR_UwVittzTcbBFms70IkGfU15fatCA=s64",
      "userId": "10798398878324948542"
     },
     "user_tz": -330
    },
    "id": "9ToGJmnFYBnl"
   },
   "outputs": [],
   "source": [
    "submit_df.to_csv(\"/content/drive/My Drive/Colab Notebooks/Carnival Wars/Predictions/prediction_v9_CB.csv\", index=False)"
   ]
  },
  {
   "cell_type": "code",
   "execution_count": null,
   "metadata": {
    "id": "MO7uo59kd54E"
   },
   "outputs": [],
   "source": []
  }
 ],
 "metadata": {
  "accelerator": "GPU",
  "colab": {
   "authorship_tag": "ABX9TyP7dRjGYG/Q2eiSHRzw7Ecs",
   "collapsed_sections": [],
   "name": "CatBoost Model.ipynb",
   "provenance": []
  },
  "kernelspec": {
   "display_name": "Python 3",
   "language": "python",
   "name": "python3"
  },
  "language_info": {
   "codemirror_mode": {
    "name": "ipython",
    "version": 3
   },
   "file_extension": ".py",
   "mimetype": "text/x-python",
   "name": "python",
   "nbconvert_exporter": "python",
   "pygments_lexer": "ipython3",
   "version": "3.8.5"
  }
 },
 "nbformat": 4,
 "nbformat_minor": 1
}
