{
 "cells": [
  {
   "cell_type": "code",
   "execution_count": 1,
   "metadata": {
    "colab": {
     "base_uri": "https://localhost:8080/"
    },
    "executionInfo": {
     "elapsed": 27896,
     "status": "ok",
     "timestamp": 1606819215596,
     "user": {
      "displayName": "TAPAS DAS",
      "photoUrl": "https://lh3.googleusercontent.com/a-/AOh14GiyffdGKiPCR_UwVittzTcbBFms70IkGfU15fatCA=s64",
      "userId": "10798398878324948542"
     },
     "user_tz": -330
    },
    "id": "Wn3claY6X8M1",
    "outputId": "6004eee5-59e8-46d7-bb02-1deba50064ef"
   },
   "outputs": [
    {
     "name": "stdout",
     "output_type": "stream",
     "text": [
      "Mounted at /content/drive/\n"
     ]
    }
   ],
   "source": [
    "from google.colab import drive\n",
    "drive.mount('/content/drive/', force_remount=True)"
   ]
  },
  {
   "cell_type": "markdown",
   "metadata": {
    "id": "gcOJogQsYDkG"
   },
   "source": [
    "## Import Packages"
   ]
  },
  {
   "cell_type": "code",
   "execution_count": 2,
   "metadata": {
    "colab": {
     "base_uri": "https://localhost:8080/"
    },
    "executionInfo": {
     "elapsed": 31019,
     "status": "ok",
     "timestamp": 1606819241996,
     "user": {
      "displayName": "TAPAS DAS",
      "photoUrl": "https://lh3.googleusercontent.com/a-/AOh14GiyffdGKiPCR_UwVittzTcbBFms70IkGfU15fatCA=s64",
      "userId": "10798398878324948542"
     },
     "user_tz": -330
    },
    "id": "jymiCgm3dRk5",
    "outputId": "2004505b-0df8-4204-d3fe-a0b1d0b396bf"
   },
   "outputs": [
    {
     "name": "stdout",
     "output_type": "stream",
     "text": [
      "Collecting xgboost==1.2.0-SNAPSHOT+4729458a363c64291e84da28b408a0ac8d7851fa\n",
      "\u001b[?25l  Downloading https://s3-us-west-2.amazonaws.com/xgboost-nightly-builds/xgboost-1.2.0_SNAPSHOT%2B4729458a363c64291e84da28b408a0ac8d7851fa-py3-none-manylinux2010_x86_64.whl (149.3MB)\n",
      "\u001b[K     |████████████████████████████████| 149.3MB 81kB/s \n",
      "\u001b[?25hRequirement already satisfied: numpy in /usr/local/lib/python3.6/dist-packages (from xgboost==1.2.0-SNAPSHOT+4729458a363c64291e84da28b408a0ac8d7851fa) (1.18.5)\n",
      "Requirement already satisfied: scipy in /usr/local/lib/python3.6/dist-packages (from xgboost==1.2.0-SNAPSHOT+4729458a363c64291e84da28b408a0ac8d7851fa) (1.4.1)\n",
      "Installing collected packages: xgboost\n",
      "  Found existing installation: xgboost 0.90\n",
      "    Uninstalling xgboost-0.90:\n",
      "      Successfully uninstalled xgboost-0.90\n",
      "Successfully installed xgboost-1.2.0-SNAPSHOT\n"
     ]
    }
   ],
   "source": [
    "! pip install https://s3-us-west-2.amazonaws.com/xgboost-nightly-builds/xgboost-1.2.0_SNAPSHOT%2B4729458a363c64291e84da28b408a0ac8d7851fa-py3-none-manylinux2010_x86_64.whl"
   ]
  },
  {
   "cell_type": "code",
   "execution_count": 3,
   "metadata": {
    "colab": {
     "base_uri": "https://localhost:8080/"
    },
    "executionInfo": {
     "elapsed": 43763,
     "status": "ok",
     "timestamp": 1606819254993,
     "user": {
      "displayName": "TAPAS DAS",
      "photoUrl": "https://lh3.googleusercontent.com/a-/AOh14GiyffdGKiPCR_UwVittzTcbBFms70IkGfU15fatCA=s64",
      "userId": "10798398878324948542"
     },
     "user_tz": -330
    },
    "id": "ExPKobZLYBjs",
    "outputId": "bbc10599-1791-4009-9137-fa06f0ffca0f"
   },
   "outputs": [
    {
     "name": "stdout",
     "output_type": "stream",
     "text": [
      "Collecting optuna\n",
      "\u001b[?25l  Downloading https://files.pythonhosted.org/packages/87/10/06b58f4120f26b603d905a594650440ea1fd74476b8b360dbf01e111469b/optuna-2.3.0.tar.gz (258kB)\n",
      "\r",
      "\u001b[K     |█▎                              | 10kB 21.4MB/s eta 0:00:01\r",
      "\u001b[K     |██▌                             | 20kB 27.5MB/s eta 0:00:01\r",
      "\u001b[K     |███▉                            | 30kB 23.6MB/s eta 0:00:01\r",
      "\u001b[K     |█████                           | 40kB 18.1MB/s eta 0:00:01\r",
      "\u001b[K     |██████▍                         | 51kB 15.9MB/s eta 0:00:01\r",
      "\u001b[K     |███████▋                        | 61kB 17.1MB/s eta 0:00:01\r",
      "\u001b[K     |████████▉                       | 71kB 14.0MB/s eta 0:00:01\r",
      "\u001b[K     |██████████▏                     | 81kB 14.3MB/s eta 0:00:01\r",
      "\u001b[K     |███████████▍                    | 92kB 14.8MB/s eta 0:00:01\r",
      "\u001b[K     |████████████▊                   | 102kB 13.9MB/s eta 0:00:01\r",
      "\u001b[K     |██████████████                  | 112kB 13.9MB/s eta 0:00:01\r",
      "\u001b[K     |███████████████▏                | 122kB 13.9MB/s eta 0:00:01\r",
      "\u001b[K     |████████████████▌               | 133kB 13.9MB/s eta 0:00:01\r",
      "\u001b[K     |█████████████████▊              | 143kB 13.9MB/s eta 0:00:01\r",
      "\u001b[K     |███████████████████             | 153kB 13.9MB/s eta 0:00:01\r",
      "\u001b[K     |████████████████████▎           | 163kB 13.9MB/s eta 0:00:01\r",
      "\u001b[K     |█████████████████████▌          | 174kB 13.9MB/s eta 0:00:01\r",
      "\u001b[K     |██████████████████████▉         | 184kB 13.9MB/s eta 0:00:01\r",
      "\u001b[K     |████████████████████████        | 194kB 13.9MB/s eta 0:00:01\r",
      "\u001b[K     |█████████████████████████▍      | 204kB 13.9MB/s eta 0:00:01\r",
      "\u001b[K     |██████████████████████████▋     | 215kB 13.9MB/s eta 0:00:01\r",
      "\u001b[K     |███████████████████████████▉    | 225kB 13.9MB/s eta 0:00:01\r",
      "\u001b[K     |█████████████████████████████▏  | 235kB 13.9MB/s eta 0:00:01\r",
      "\u001b[K     |██████████████████████████████▍ | 245kB 13.9MB/s eta 0:00:01\r",
      "\u001b[K     |███████████████████████████████▊| 256kB 13.9MB/s eta 0:00:01\r",
      "\u001b[K     |████████████████████████████████| 266kB 13.9MB/s \n",
      "\u001b[?25h  Installing build dependencies ... \u001b[?25l\u001b[?25hdone\n",
      "  Getting requirements to build wheel ... \u001b[?25l\u001b[?25hdone\n",
      "    Preparing wheel metadata ... \u001b[?25l\u001b[?25hdone\n",
      "Requirement already satisfied: tqdm in /usr/local/lib/python3.6/dist-packages (from optuna) (4.41.1)\n",
      "Collecting cliff\n",
      "\u001b[?25l  Downloading https://files.pythonhosted.org/packages/8a/61/5b64d73b01c1218f55c894b5ec0fb89b32c6960b7f7b3ad9f5ac0c373b9d/cliff-3.5.0-py3-none-any.whl (81kB)\n",
      "\u001b[K     |████████████████████████████████| 81kB 8.8MB/s \n",
      "\u001b[?25hCollecting colorlog\n",
      "  Downloading https://files.pythonhosted.org/packages/4e/c8/c16d30bbed11a1722060014c246d124582d1f781b26f5859d8dacc3e08e1/colorlog-4.6.2-py2.py3-none-any.whl\n",
      "Requirement already satisfied: sqlalchemy>=1.1.0 in /usr/local/lib/python3.6/dist-packages (from optuna) (1.3.20)\n",
      "Requirement already satisfied: joblib in /usr/local/lib/python3.6/dist-packages (from optuna) (0.17.0)\n",
      "Collecting alembic\n",
      "\u001b[?25l  Downloading https://files.pythonhosted.org/packages/12/aa/c261dfd7f4ba6ce4701846a2689a46e2a172e012171de4378fc2926e3bf0/alembic-1.4.3-py2.py3-none-any.whl (159kB)\n",
      "\u001b[K     |████████████████████████████████| 163kB 26.1MB/s \n",
      "\u001b[?25hRequirement already satisfied: packaging>=20.0 in /usr/local/lib/python3.6/dist-packages (from optuna) (20.4)\n",
      "Requirement already satisfied: numpy in /usr/local/lib/python3.6/dist-packages (from optuna) (1.18.5)\n",
      "Collecting cmaes>=0.6.0\n",
      "  Downloading https://files.pythonhosted.org/packages/8d/3c/06c76ec8b54b9b1fad7f35e903fd25010fe3e0d41bd94cea5e6f12e0d651/cmaes-0.7.0-py3-none-any.whl\n",
      "Requirement already satisfied: scipy!=1.4.0 in /usr/local/lib/python3.6/dist-packages (from optuna) (1.4.1)\n",
      "Collecting stevedore>=2.0.1\n",
      "\u001b[?25l  Downloading https://files.pythonhosted.org/packages/d4/49/b602307aeac3df3384ff1fcd05da9c0376c622a6c48bb5325f28ab165b57/stevedore-3.3.0-py3-none-any.whl (49kB)\n",
      "\u001b[K     |████████████████████████████████| 51kB 7.0MB/s \n",
      "\u001b[?25hRequirement already satisfied: six>=1.10.0 in /usr/local/lib/python3.6/dist-packages (from cliff->optuna) (1.15.0)\n",
      "Requirement already satisfied: PyYAML>=3.12 in /usr/local/lib/python3.6/dist-packages (from cliff->optuna) (3.13)\n",
      "Collecting pbr!=2.1.0,>=2.0.0\n",
      "\u001b[?25l  Downloading https://files.pythonhosted.org/packages/fb/48/69046506f6ac61c1eaa9a0d42d22d54673b69e176d30ca98e3f61513e980/pbr-5.5.1-py2.py3-none-any.whl (106kB)\n",
      "\u001b[K     |████████████████████████████████| 112kB 14.3MB/s \n",
      "\u001b[?25hRequirement already satisfied: pyparsing>=2.1.0 in /usr/local/lib/python3.6/dist-packages (from cliff->optuna) (2.4.7)\n",
      "Collecting cmd2!=0.8.3,>=0.8.0\n",
      "\u001b[?25l  Downloading https://files.pythonhosted.org/packages/27/54/af6e2703f064485d717cb311d3f9440cd302a823ba6d80a020b59eae166d/cmd2-1.4.0-py3-none-any.whl (133kB)\n",
      "\u001b[K     |████████████████████████████████| 133kB 19.2MB/s \n",
      "\u001b[?25hCollecting PrettyTable<0.8,>=0.7.2\n",
      "  Downloading https://files.pythonhosted.org/packages/ef/30/4b0746848746ed5941f052479e7c23d2b56d174b82f4fd34a25e389831f5/prettytable-0.7.2.tar.bz2\n",
      "Collecting Mako\n",
      "\u001b[?25l  Downloading https://files.pythonhosted.org/packages/a6/37/0e706200d22172eb8fa17d68a7ae22dec7631a0a92266634fb518a88a5b2/Mako-1.1.3-py2.py3-none-any.whl (75kB)\n",
      "\u001b[K     |████████████████████████████████| 81kB 10.3MB/s \n",
      "\u001b[?25hRequirement already satisfied: python-dateutil in /usr/local/lib/python3.6/dist-packages (from alembic->optuna) (2.8.1)\n",
      "Collecting python-editor>=0.3\n",
      "  Downloading https://files.pythonhosted.org/packages/c6/d3/201fc3abe391bbae6606e6f1d598c15d367033332bd54352b12f35513717/python_editor-1.0.4-py3-none-any.whl\n",
      "Requirement already satisfied: importlib-metadata>=1.7.0; python_version < \"3.8\" in /usr/local/lib/python3.6/dist-packages (from stevedore>=2.0.1->cliff->optuna) (2.0.0)\n",
      "Requirement already satisfied: attrs>=16.3.0 in /usr/local/lib/python3.6/dist-packages (from cmd2!=0.8.3,>=0.8.0->cliff->optuna) (20.3.0)\n",
      "Requirement already satisfied: wcwidth>=0.1.7 in /usr/local/lib/python3.6/dist-packages (from cmd2!=0.8.3,>=0.8.0->cliff->optuna) (0.2.5)\n",
      "Collecting pyperclip>=1.6\n",
      "  Downloading https://files.pythonhosted.org/packages/6f/4c/0b1d507ad7e8bc31d690d04b4f475e74c2002d060f7994ce8c09612df707/pyperclip-1.8.1.tar.gz\n",
      "Collecting colorama>=0.3.7\n",
      "  Downloading https://files.pythonhosted.org/packages/44/98/5b86278fbbf250d239ae0ecb724f8572af1c91f4a11edf4d36a206189440/colorama-0.4.4-py2.py3-none-any.whl\n",
      "Requirement already satisfied: MarkupSafe>=0.9.2 in /usr/local/lib/python3.6/dist-packages (from Mako->alembic->optuna) (1.1.1)\n",
      "Requirement already satisfied: zipp>=0.5 in /usr/local/lib/python3.6/dist-packages (from importlib-metadata>=1.7.0; python_version < \"3.8\"->stevedore>=2.0.1->cliff->optuna) (3.4.0)\n",
      "Building wheels for collected packages: optuna\n",
      "  Building wheel for optuna (PEP 517) ... \u001b[?25l\u001b[?25hdone\n",
      "  Created wheel for optuna: filename=optuna-2.3.0-cp36-none-any.whl size=359761 sha256=18d094aec1833c5c6359b2ce13f04360ed376825b1397a9e0e60ca9e907c66ec\n",
      "  Stored in directory: /root/.cache/pip/wheels/fa/91/19/64b0ec6b964f89c0695a9dc6db6f851d0b54c5381a5c9cadfb\n",
      "Successfully built optuna\n",
      "Building wheels for collected packages: PrettyTable, pyperclip\n",
      "  Building wheel for PrettyTable (setup.py) ... \u001b[?25l\u001b[?25hdone\n",
      "  Created wheel for PrettyTable: filename=prettytable-0.7.2-cp36-none-any.whl size=13700 sha256=1601c30edfa46bdd99301025a6fe048b80ebe15ab826138ef9d13edc0c051c7d\n",
      "  Stored in directory: /root/.cache/pip/wheels/80/34/1c/3967380d9676d162cb59513bd9dc862d0584e045a162095606\n",
      "  Building wheel for pyperclip (setup.py) ... \u001b[?25l\u001b[?25hdone\n",
      "  Created wheel for pyperclip: filename=pyperclip-1.8.1-cp36-none-any.whl size=11119 sha256=f874fb39db78c65b29d8b081e09cc0bab911905439a6a197693df1b9c1aa6691\n",
      "  Stored in directory: /root/.cache/pip/wheels/44/10/3a/c830e9bb3db2c93274ea1f213a41fabde0d8cf3794251fad0c\n",
      "Successfully built PrettyTable pyperclip\n",
      "Installing collected packages: pbr, stevedore, pyperclip, colorama, cmd2, PrettyTable, cliff, colorlog, Mako, python-editor, alembic, cmaes, optuna\n",
      "  Found existing installation: prettytable 2.0.0\n",
      "    Uninstalling prettytable-2.0.0:\n",
      "      Successfully uninstalled prettytable-2.0.0\n",
      "Successfully installed Mako-1.1.3 PrettyTable-0.7.2 alembic-1.4.3 cliff-3.5.0 cmaes-0.7.0 cmd2-1.4.0 colorama-0.4.4 colorlog-4.6.2 optuna-2.3.0 pbr-5.5.1 pyperclip-1.8.1 python-editor-1.0.4 stevedore-3.3.0\n"
     ]
    }
   ],
   "source": [
    "! pip install optuna"
   ]
  },
  {
   "cell_type": "code",
   "execution_count": 4,
   "metadata": {
    "executionInfo": {
     "elapsed": 45694,
     "status": "ok",
     "timestamp": 1606819257548,
     "user": {
      "displayName": "TAPAS DAS",
      "photoUrl": "https://lh3.googleusercontent.com/a-/AOh14GiyffdGKiPCR_UwVittzTcbBFms70IkGfU15fatCA=s64",
      "userId": "10798398878324948542"
     },
     "user_tz": -330
    },
    "id": "dnYTm_ShYBln"
   },
   "outputs": [],
   "source": [
    "import pandas as pd\n",
    "import numpy as np\n",
    "from sklearn.model_selection import KFold\n",
    "from sklearn.metrics import mean_squared_log_error\n",
    "from xgboost import XGBRegressor\n",
    "import optuna\n",
    "import pickle\n",
    "import warnings\n",
    "warnings.filterwarnings('ignore')"
   ]
  },
  {
   "cell_type": "markdown",
   "metadata": {
    "id": "gB1VDy1sYQF2"
   },
   "source": [
    "## Load processed dataset"
   ]
  },
  {
   "cell_type": "code",
   "execution_count": 5,
   "metadata": {
    "colab": {
     "base_uri": "https://localhost:8080/"
    },
    "executionInfo": {
     "elapsed": 44566,
     "status": "ok",
     "timestamp": 1606819258884,
     "user": {
      "displayName": "TAPAS DAS",
      "photoUrl": "https://lh3.googleusercontent.com/a-/AOh14GiyffdGKiPCR_UwVittzTcbBFms70IkGfU15fatCA=s64",
      "userId": "10798398878324948542"
     },
     "user_tz": -330
    },
    "id": "g3A8chXUYBoz",
    "outputId": "ca666960-9d25-4ee5-d386-24d5eacacb94"
   },
   "outputs": [
    {
     "name": "stdout",
     "output_type": "stream",
     "text": [
      "Xtrain shape: (6313, 716)\n",
      "Ytrain shape: (6313,)\n",
      "Xpredict shape: (3430, 716)\n"
     ]
    }
   ],
   "source": [
    "with open(\"/content/drive/My Drive/Colab Notebooks/Carnival Wars/Carnival_Wars_Dataset.txt\", 'rb') as handle: \n",
    "    data = handle.read()\n",
    "\n",
    "processed_data = pickle.loads(data)\n",
    "Xtrain = processed_data['Xtrain'].values\n",
    "Ytrain = processed_data['Ytrain'].values\n",
    "Xpredict = processed_data['Xpredict'].values\n",
    "\n",
    "Ytrain = np.cbrt(Ytrain)\n",
    "\n",
    "print(\"Xtrain shape: {}\".format(Xtrain.shape))\n",
    "print(\"Ytrain shape: {}\".format(Ytrain.shape))\n",
    "print(\"Xpredict shape: {}\".format(Xpredict.shape))"
   ]
  },
  {
   "cell_type": "markdown",
   "metadata": {
    "id": "5iWk2gZbZvWL"
   },
   "source": [
    "## Hyperparameter search using Optuna"
   ]
  },
  {
   "cell_type": "code",
   "execution_count": 7,
   "metadata": {
    "executionInfo": {
     "elapsed": 3209,
     "status": "ok",
     "timestamp": 1606819279265,
     "user": {
      "displayName": "TAPAS DAS",
      "photoUrl": "https://lh3.googleusercontent.com/a-/AOh14GiyffdGKiPCR_UwVittzTcbBFms70IkGfU15fatCA=s64",
      "userId": "10798398878324948542"
     },
     "user_tz": -330
    },
    "id": "-ZFEFm6LYBsv"
   },
   "outputs": [],
   "source": [
    "def objective(trial):\n",
    "    \n",
    "    # Define K-fold cross validation test harness\n",
    "    kfold = KFold(n_splits=7, shuffle=True, random_state=10)\n",
    "    counter = 0\n",
    "    rmsle = 0\n",
    "\n",
    "    for train, val in kfold.split(Xtrain, Ytrain):\n",
    "        counter += 1\n",
    "\n",
    "        train_x, train_y = Xtrain[train], Ytrain[train]\n",
    "        val_x, val_y = Xtrain[val], Ytrain[val]\n",
    "\n",
    "        model = XGBRegressor(\n",
    "            objective='reg:squaredlogerror',\n",
    "            eval_metric='rmsle',\n",
    "            booster='gbtree',\n",
    "            sample_type='uniform',\n",
    "            tree_method='gpu_hist',\n",
    "            grow_policy='lossguide',\n",
    "            num_round=5000,\n",
    "            max_depth=trial.suggest_int(\"max_depth\", 6, 25), \n",
    "            max_leaves=trial.suggest_int(\"max_leaves\", 40, 1500),\n",
    "            learning_rate=trial.suggest_loguniform(\"learning_rate\", 1e-2, 1e-1),\n",
    "            subsample=trial.suggest_uniform(\"subsample\", 0.5, 1.0),\n",
    "            colsample_bytree=trial.suggest_uniform(\"colsample_bytree\", 0.5, 1.0),\n",
    "            min_child_weight=trial.suggest_int(\"min_child_weight\", 1, 15),\n",
    "            reg_lambda=trial.suggest_loguniform(\"reg_lambda\", 1e-4, 1.0),\n",
    "            verbosity=0\n",
    "        )\n",
    "\n",
    "        model.fit(train_x, train_y, eval_set=[(val_x, val_y)], \n",
    "                  early_stopping_rounds=200, verbose=False)\n",
    "        y_pred = model.predict(val_x, ntree_limit=model.best_ntree_limit)\n",
    "        rmsle += np.sqrt(mean_squared_log_error(val_y, y_pred))\n",
    "    \n",
    "    score = rmsle / float(counter)\n",
    "    return score"
   ]
  },
  {
   "cell_type": "code",
   "execution_count": 8,
   "metadata": {
    "colab": {
     "base_uri": "https://localhost:8080/"
    },
    "executionInfo": {
     "elapsed": 3419683,
     "status": "ok",
     "timestamp": 1606822698882,
     "user": {
      "displayName": "TAPAS DAS",
      "photoUrl": "https://lh3.googleusercontent.com/a-/AOh14GiyffdGKiPCR_UwVittzTcbBFms70IkGfU15fatCA=s64",
      "userId": "10798398878324948542"
     },
     "user_tz": -330
    },
    "id": "mQTiW1zZYByu",
    "outputId": "6edbb62f-6273-4688-c2bb-555c1493ff45"
   },
   "outputs": [
    {
     "name": "stderr",
     "output_type": "stream",
     "text": [
      "\u001b[32m[I 2020-12-01 10:41:19,634]\u001b[0m A new study created in memory with name: no-name-a7410402-8423-46f9-ab1b-0a2914073f73\u001b[0m\n",
      "\u001b[32m[I 2020-12-01 10:41:38,124]\u001b[0m Trial 0 finished with value: 1.365730436628372 and parameters: {'max_depth': 23, 'max_leaves': 299, 'learning_rate': 0.016099611764171233, 'subsample': 0.8932557349467992, 'colsample_bytree': 0.5820546465043828, 'min_child_weight': 12, 'reg_lambda': 0.00026508141247835184}. Best is trial 0 with value: 1.365730436628372.\u001b[0m\n",
      "\u001b[32m[I 2020-12-01 10:41:43,693]\u001b[0m Trial 1 finished with value: 1.3210434158768154 and parameters: {'max_depth': 21, 'max_leaves': 121, 'learning_rate': 0.016897284297527137, 'subsample': 0.5533359827721653, 'colsample_bytree': 0.5654198607426001, 'min_child_weight': 2, 'reg_lambda': 0.009060014483351074}. Best is trial 1 with value: 1.3210434158768154.\u001b[0m\n",
      "\u001b[32m[I 2020-12-01 10:41:47,668]\u001b[0m Trial 2 finished with value: 0.2575745281098617 and parameters: {'max_depth': 8, 'max_leaves': 482, 'learning_rate': 0.04499850479459146, 'subsample': 0.7534822596407261, 'colsample_bytree': 0.8492030278481142, 'min_child_weight': 4, 'reg_lambda': 0.08134019717149743}. Best is trial 2 with value: 0.2575745281098617.\u001b[0m\n",
      "\u001b[32m[I 2020-12-01 10:41:51,357]\u001b[0m Trial 3 finished with value: 0.07984156042669378 and parameters: {'max_depth': 13, 'max_leaves': 913, 'learning_rate': 0.061590682971201335, 'subsample': 0.9926540782993623, 'colsample_bytree': 0.6855064140098464, 'min_child_weight': 1, 'reg_lambda': 0.26975209592434496}. Best is trial 3 with value: 0.07984156042669378.\u001b[0m\n",
      "\u001b[32m[I 2020-12-01 10:42:10,838]\u001b[0m Trial 4 finished with value: 0.06639283839009287 and parameters: {'max_depth': 24, 'max_leaves': 1236, 'learning_rate': 0.06173698710745925, 'subsample': 0.7100997228640347, 'colsample_bytree': 0.6132296745004091, 'min_child_weight': 1, 'reg_lambda': 0.0001321498110797422}. Best is trial 4 with value: 0.06639283839009287.\u001b[0m\n",
      "\u001b[32m[I 2020-12-01 10:42:14,589]\u001b[0m Trial 5 finished with value: 1.2239587129002127 and parameters: {'max_depth': 18, 'max_leaves': 153, 'learning_rate': 0.018684650535043867, 'subsample': 0.5486980903115101, 'colsample_bytree': 0.9094812965754008, 'min_child_weight': 12, 'reg_lambda': 0.09363313663228989}. Best is trial 4 with value: 0.06639283839009287.\u001b[0m\n",
      "\u001b[32m[I 2020-12-01 10:42:26,553]\u001b[0m Trial 6 finished with value: 0.838987610158046 and parameters: {'max_depth': 22, 'max_leaves': 1029, 'learning_rate': 0.026495324233691456, 'subsample': 0.5617536982732542, 'colsample_bytree': 0.5840635057218153, 'min_child_weight': 12, 'reg_lambda': 0.00015342733954178583}. Best is trial 4 with value: 0.06639283839009287.\u001b[0m\n",
      "\u001b[32m[I 2020-12-01 10:42:31,406]\u001b[0m Trial 7 finished with value: 1.0981969757603323 and parameters: {'max_depth': 20, 'max_leaves': 469, 'learning_rate': 0.02107367825673037, 'subsample': 0.8399688627311894, 'colsample_bytree': 0.6295022230210672, 'min_child_weight': 7, 'reg_lambda': 0.037766712238072146}. Best is trial 4 with value: 0.06639283839009287.\u001b[0m\n",
      "\u001b[32m[I 2020-12-01 10:42:36,041]\u001b[0m Trial 8 finished with value: 0.04067597763619043 and parameters: {'max_depth': 22, 'max_leaves': 437, 'learning_rate': 0.0779352078527299, 'subsample': 0.7124934566520988, 'colsample_bytree': 0.5294524698371018, 'min_child_weight': 2, 'reg_lambda': 0.01201781967374307}. Best is trial 8 with value: 0.04067597763619043.\u001b[0m\n",
      "\u001b[32m[I 2020-12-01 10:42:43,416]\u001b[0m Trial 9 finished with value: 0.24348975193985528 and parameters: {'max_depth': 10, 'max_leaves': 485, 'learning_rate': 0.048731339060036544, 'subsample': 0.6081678272699633, 'colsample_bytree': 0.6387737370980101, 'min_child_weight': 13, 'reg_lambda': 0.0003598532626211135}. Best is trial 8 with value: 0.04067597763619043.\u001b[0m\n",
      "\u001b[32m[I 2020-12-01 10:42:48,029]\u001b[0m Trial 10 finished with value: 0.06700872038709088 and parameters: {'max_depth': 16, 'max_leaves': 674, 'learning_rate': 0.09706035189437533, 'subsample': 0.6809926191314435, 'colsample_bytree': 0.7979521087474627, 'min_child_weight': 6, 'reg_lambda': 0.0026387365617959765}. Best is trial 8 with value: 0.04067597763619043.\u001b[0m\n",
      "\u001b[32m[I 2020-12-01 10:42:55,128]\u001b[0m Trial 11 finished with value: 0.03371306478356128 and parameters: {'max_depth': 25, 'max_leaves': 1461, 'learning_rate': 0.09155861178928554, 'subsample': 0.7063069651646698, 'colsample_bytree': 0.506235843430786, 'min_child_weight': 1, 'reg_lambda': 0.0019511858786376592}. Best is trial 11 with value: 0.03371306478356128.\u001b[0m\n",
      "\u001b[32m[I 2020-12-01 10:43:00,129]\u001b[0m Trial 12 finished with value: 0.04267618052685112 and parameters: {'max_depth': 25, 'max_leaves': 1424, 'learning_rate': 0.09697338327713041, 'subsample': 0.798276544577279, 'colsample_bytree': 0.5112030046792625, 'min_child_weight': 4, 'reg_lambda': 0.002053377273076176}. Best is trial 11 with value: 0.03371306478356128.\u001b[0m\n",
      "\u001b[32m[I 2020-12-01 10:43:09,304]\u001b[0m Trial 13 finished with value: 1.7078415145778731 and parameters: {'max_depth': 25, 'max_leaves': 1472, 'learning_rate': 0.010340627836871468, 'subsample': 0.6491659731067289, 'colsample_bytree': 0.50796286608833, 'min_child_weight': 3, 'reg_lambda': 0.001836332079418619}. Best is trial 11 with value: 0.03371306478356128.\u001b[0m\n",
      "\u001b[32m[I 2020-12-01 10:43:12,852]\u001b[0m Trial 14 finished with value: 0.1134798058806596 and parameters: {'max_depth': 19, 'max_leaves': 718, 'learning_rate': 0.08189645685636193, 'subsample': 0.7432601945641183, 'colsample_bytree': 0.7092855799501181, 'min_child_weight': 9, 'reg_lambda': 0.013376266824826762}. Best is trial 11 with value: 0.03371306478356128.\u001b[0m\n",
      "\u001b[32m[I 2020-12-01 10:43:18,775]\u001b[0m Trial 15 finished with value: 0.053048144709519636 and parameters: {'max_depth': 16, 'max_leaves': 1137, 'learning_rate': 0.07403289196639748, 'subsample': 0.8816351402884632, 'colsample_bytree': 0.9923860908241977, 'min_child_weight': 5, 'reg_lambda': 0.007034350321329433}. Best is trial 11 with value: 0.03371306478356128.\u001b[0m\n",
      "\u001b[32m[I 2020-12-01 10:43:31,314]\u001b[0m Trial 16 finished with value: 0.448465194004728 and parameters: {'max_depth': 25, 'max_leaves': 342, 'learning_rate': 0.03693746785958946, 'subsample': 0.631646994566858, 'colsample_bytree': 0.5312744008952544, 'min_child_weight': 1, 'reg_lambda': 0.0007393806298858874}. Best is trial 11 with value: 0.03371306478356128.\u001b[0m\n",
      "\u001b[32m[I 2020-12-01 10:43:34,479]\u001b[0m Trial 17 finished with value: 0.08428535285051376 and parameters: {'max_depth': 22, 'max_leaves': 810, 'learning_rate': 0.09947130034844352, 'subsample': 0.7758692219974953, 'colsample_bytree': 0.5095618690886875, 'min_child_weight': 8, 'reg_lambda': 0.017299785271747168}. Best is trial 11 with value: 0.03371306478356128.\u001b[0m\n",
      "\u001b[32m[I 2020-12-01 10:43:36,858]\u001b[0m Trial 18 finished with value: 0.191308389999501 and parameters: {'max_depth': 13, 'max_leaves': 1308, 'learning_rate': 0.06638871162179918, 'subsample': 0.6893811813490388, 'colsample_bytree': 0.7505234762778936, 'min_child_weight': 15, 'reg_lambda': 0.7641581511604294}. Best is trial 11 with value: 0.03371306478356128.\u001b[0m\n",
      "\u001b[32m[I 2020-12-01 10:43:48,815]\u001b[0m Trial 19 finished with value: 0.20212973643205817 and parameters: {'max_depth': 17, 'max_leaves': 598, 'learning_rate': 0.04779003778557914, 'subsample': 0.831545040613778, 'colsample_bytree': 0.6741336596741967, 'min_child_weight': 3, 'reg_lambda': 0.0007138999271705897}. Best is trial 11 with value: 0.03371306478356128.\u001b[0m\n",
      "\u001b[32m[I 2020-12-01 10:43:51,648]\u001b[0m Trial 20 finished with value: 0.1711116780708736 and parameters: {'max_depth': 14, 'max_leaves': 301, 'learning_rate': 0.0838619331708621, 'subsample': 0.5057586906475104, 'colsample_bytree': 0.5549748357522666, 'min_child_weight': 10, 'reg_lambda': 0.03407988396104023}. Best is trial 11 with value: 0.03371306478356128.\u001b[0m\n",
      "\u001b[32m[I 2020-12-01 10:43:56,199]\u001b[0m Trial 21 finished with value: 0.04268884909280043 and parameters: {'max_depth': 24, 'max_leaves': 1440, 'learning_rate': 0.09833225996027999, 'subsample': 0.791906224012632, 'colsample_bytree': 0.5085955416407995, 'min_child_weight': 4, 'reg_lambda': 0.0033197698222886705}. Best is trial 11 with value: 0.03371306478356128.\u001b[0m\n",
      "\u001b[32m[I 2020-12-01 10:44:02,436]\u001b[0m Trial 22 finished with value: 0.03624208856611443 and parameters: {'max_depth': 25, 'max_leaves': 1362, 'learning_rate': 0.09913770770368356, 'subsample': 0.7105776148100907, 'colsample_bytree': 0.506485078935982, 'min_child_weight': 2, 'reg_lambda': 0.0012527975225560782}. Best is trial 11 with value: 0.03371306478356128.\u001b[0m\n",
      "\u001b[32m[I 2020-12-01 10:44:11,650]\u001b[0m Trial 23 finished with value: 0.10822081969543461 and parameters: {'max_depth': 23, 'max_leaves': 1296, 'learning_rate': 0.055582948557800584, 'subsample': 0.7181539123190117, 'colsample_bytree': 0.5443696004454871, 'min_child_weight': 2, 'reg_lambda': 0.0009167579276995198}. Best is trial 11 with value: 0.03371306478356128.\u001b[0m\n",
      "\u001b[32m[I 2020-12-01 10:44:17,175]\u001b[0m Trial 24 finished with value: 0.04233923133626295 and parameters: {'max_depth': 20, 'max_leaves': 1029, 'learning_rate': 0.07602796985104004, 'subsample': 0.6509211019758792, 'colsample_bytree': 0.5970958150969513, 'min_child_weight': 2, 'reg_lambda': 0.004774143621107224}. Best is trial 11 with value: 0.03371306478356128.\u001b[0m\n",
      "\u001b[32m[I 2020-12-01 10:44:24,340]\u001b[0m Trial 25 finished with value: 0.485223579819015 and parameters: {'max_depth': 25, 'max_leaves': 1142, 'learning_rate': 0.03579533385994687, 'subsample': 0.5931498430565845, 'colsample_bytree': 0.5094487873806667, 'min_child_weight': 6, 'reg_lambda': 0.0013513934220153586}. Best is trial 11 with value: 0.03371306478356128.\u001b[0m\n",
      "\u001b[32m[I 2020-12-01 10:44:34,828]\u001b[0m Trial 26 finished with value: 0.034104642494848854 and parameters: {'max_depth': 22, 'max_leaves': 854, 'learning_rate': 0.08648418978542363, 'subsample': 0.6724319285784249, 'colsample_bytree': 0.5433274536627049, 'min_child_weight': 1, 'reg_lambda': 0.0004041955544071519}. Best is trial 11 with value: 0.03371306478356128.\u001b[0m\n",
      "\u001b[32m[I 2020-12-01 10:44:46,192]\u001b[0m Trial 27 finished with value: 0.03339082046854106 and parameters: {'max_depth': 23, 'max_leaves': 1343, 'learning_rate': 0.0991577862340401, 'subsample': 0.6756773228767833, 'colsample_bytree': 0.6507927937305283, 'min_child_weight': 1, 'reg_lambda': 0.00031661141358399296}. Best is trial 27 with value: 0.03339082046854106.\u001b[0m\n",
      "\u001b[32m[I 2020-12-01 10:45:06,952]\u001b[0m Trial 28 finished with value: 1.5718163436913843 and parameters: {'max_depth': 20, 'max_leaves': 882, 'learning_rate': 0.012567163862126826, 'subsample': 0.6688099700568844, 'colsample_bytree': 0.6418464561462248, 'min_child_weight': 1, 'reg_lambda': 0.00038668572892679506}. Best is trial 27 with value: 0.03339082046854106.\u001b[0m\n",
      "\u001b[32m[I 2020-12-01 10:45:16,464]\u001b[0m Trial 29 finished with value: 0.044011106067245225 and parameters: {'max_depth': 23, 'max_leaves': 1190, 'learning_rate': 0.08680520558611192, 'subsample': 0.6129325746971236, 'colsample_bytree': 0.7354279087017286, 'min_child_weight': 3, 'reg_lambda': 0.00022500324755691435}. Best is trial 27 with value: 0.03339082046854106.\u001b[0m\n",
      "\u001b[32m[I 2020-12-01 10:45:30,700]\u001b[0m Trial 30 finished with value: 0.05430846430967581 and parameters: {'max_depth': 23, 'max_leaves': 987, 'learning_rate': 0.07041633106437133, 'subsample': 0.9869961484196519, 'colsample_bytree': 0.6673351478855698, 'min_child_weight': 5, 'reg_lambda': 0.00010093444185533676}. Best is trial 27 with value: 0.03339082046854106.\u001b[0m\n",
      "\u001b[32m[I 2020-12-01 10:45:41,082]\u001b[0m Trial 31 finished with value: 0.03314911731755739 and parameters: {'max_depth': 24, 'max_leaves': 1354, 'learning_rate': 0.09643694166802373, 'subsample': 0.7469748319223679, 'colsample_bytree': 0.5821354255084726, 'min_child_weight': 1, 'reg_lambda': 0.0005226363917945485}. Best is trial 31 with value: 0.03314911731755739.\u001b[0m\n",
      "\u001b[32m[I 2020-12-01 10:45:52,173]\u001b[0m Trial 32 finished with value: 0.033835228478648095 and parameters: {'max_depth': 21, 'max_leaves': 1489, 'learning_rate': 0.08630015976393067, 'subsample': 0.7488524197883589, 'colsample_bytree': 0.5819145990245536, 'min_child_weight': 1, 'reg_lambda': 0.0004794633114730604}. Best is trial 31 with value: 0.03314911731755739.\u001b[0m\n",
      "\u001b[32m[I 2020-12-01 10:46:04,462]\u001b[0m Trial 33 finished with value: 0.0944466597585537 and parameters: {'max_depth': 21, 'max_leaves': 1367, 'learning_rate': 0.05769878788433987, 'subsample': 0.7529379705508011, 'colsample_bytree': 0.5733624564281038, 'min_child_weight': 3, 'reg_lambda': 0.00022444591582072024}. Best is trial 31 with value: 0.03314911731755739.\u001b[0m\n",
      "\u001b[32m[I 2020-12-01 10:46:15,986]\u001b[0m Trial 34 finished with value: 0.03365533529152652 and parameters: {'max_depth': 24, 'max_leaves': 1460, 'learning_rate': 0.08627455600622091, 'subsample': 0.816512605311311, 'colsample_bytree': 0.6050606575204162, 'min_child_weight': 1, 'reg_lambda': 0.0005538061424867643}. Best is trial 31 with value: 0.03314911731755739.\u001b[0m\n",
      "\u001b[32m[I 2020-12-01 10:46:29,303]\u001b[0m Trial 35 finished with value: 0.045711528507465723 and parameters: {'max_depth': 24, 'max_leaves': 1255, 'learning_rate': 0.06804225993406622, 'subsample': 0.9073773464166486, 'colsample_bytree': 0.6117246462031746, 'min_child_weight': 1, 'reg_lambda': 0.0006414023415167938}. Best is trial 31 with value: 0.03314911731755739.\u001b[0m\n",
      "\u001b[32m[I 2020-12-01 10:46:34,751]\u001b[0m Trial 36 finished with value: 0.03810978526083903 and parameters: {'max_depth': 24, 'max_leaves': 1499, 'learning_rate': 0.09959267571221325, 'subsample': 0.8414443649440001, 'colsample_bytree': 0.704402967892913, 'min_child_weight': 3, 'reg_lambda': 0.004470703615932332}. Best is trial 31 with value: 0.03314911731755739.\u001b[0m\n",
      "\u001b[32m[I 2020-12-01 10:46:52,852]\u001b[0m Trial 37 finished with value: 0.12241080746469814 and parameters: {'max_depth': 23, 'max_leaves': 1376, 'learning_rate': 0.05396307125018101, 'subsample': 0.8158197308383323, 'colsample_bytree': 0.6540894538563711, 'min_child_weight': 2, 'reg_lambda': 0.00017317633440248846}. Best is trial 31 with value: 0.03314911731755739.\u001b[0m\n",
      "\u001b[32m[I 2020-12-01 10:46:59,210]\u001b[0m Trial 38 finished with value: 0.06754712054578878 and parameters: {'max_depth': 6, 'max_leaves': 1118, 'learning_rate': 0.0635138050551445, 'subsample': 0.8730474721814327, 'colsample_bytree': 0.6106999328538604, 'min_child_weight': 4, 'reg_lambda': 0.00011016673997998792}. Best is trial 31 with value: 0.03314911731755739.\u001b[0m\n",
      "\u001b[32m[I 2020-12-01 10:47:10,615]\u001b[0m Trial 39 finished with value: 0.3153612460831982 and parameters: {'max_depth': 18, 'max_leaves': 1342, 'learning_rate': 0.041935094848142444, 'subsample': 0.7745762609021523, 'colsample_bytree': 0.5743900316366306, 'min_child_weight': 1, 'reg_lambda': 0.0012399081847005355}. Best is trial 31 with value: 0.03314911731755739.\u001b[0m\n",
      "\u001b[32m[I 2020-12-01 10:47:37,683]\u001b[0m Trial 40 finished with value: 0.8039743947817303 and parameters: {'max_depth': 24, 'max_leaves': 1216, 'learning_rate': 0.027277007894817667, 'subsample': 0.9050670067005225, 'colsample_bytree': 0.7814992933005819, 'min_child_weight': 2, 'reg_lambda': 0.00025464339039758365}. Best is trial 31 with value: 0.03314911731755739.\u001b[0m\n",
      "\u001b[32m[I 2020-12-01 10:47:48,330]\u001b[0m Trial 41 finished with value: 0.0336002434803426 and parameters: {'max_depth': 21, 'max_leaves': 1493, 'learning_rate': 0.08926711723992342, 'subsample': 0.7232475316577692, 'colsample_bytree': 0.5819447820339483, 'min_child_weight': 1, 'reg_lambda': 0.0004982600069019745}. Best is trial 31 with value: 0.03314911731755739.\u001b[0m\n",
      "\u001b[32m[I 2020-12-01 10:47:59,273]\u001b[0m Trial 42 finished with value: 0.03352334159631186 and parameters: {'max_depth': 21, 'max_leaves': 1499, 'learning_rate': 0.09119772523640071, 'subsample': 0.7353325519463553, 'colsample_bytree': 0.6234995177424506, 'min_child_weight': 1, 'reg_lambda': 0.0005118163366118878}. Best is trial 31 with value: 0.03314911731755739.\u001b[0m\n",
      "\u001b[32m[I 2020-12-01 10:48:08,841]\u001b[0m Trial 43 finished with value: 0.040024624285794 and parameters: {'max_depth': 19, 'max_leaves': 1421, 'learning_rate': 0.07715484888442199, 'subsample': 0.7420584215165447, 'colsample_bytree': 0.629277030771985, 'min_child_weight': 2, 'reg_lambda': 0.0005798228052215922}. Best is trial 31 with value: 0.03314911731755739.\u001b[0m\n",
      "\u001b[32m[I 2020-12-01 10:48:21,195]\u001b[0m Trial 44 finished with value: 0.033527347493658086 and parameters: {'max_depth': 21, 'max_leaves': 1270, 'learning_rate': 0.08887770773704083, 'subsample': 0.7754440462804125, 'colsample_bytree': 0.6046476575901472, 'min_child_weight': 1, 'reg_lambda': 0.0003270518430588935}. Best is trial 31 with value: 0.03314911731755739.\u001b[0m\n",
      "\u001b[32m[I 2020-12-01 10:48:33,657]\u001b[0m Trial 45 finished with value: 0.05003170659237065 and parameters: {'max_depth': 21, 'max_leaves': 1287, 'learning_rate': 0.07125895789396859, 'subsample': 0.7286612843867246, 'colsample_bytree': 0.6312839014841891, 'min_child_weight': 3, 'reg_lambda': 0.0001552924659912996}. Best is trial 31 with value: 0.03314911731755739.\u001b[0m\n",
      "\u001b[32m[I 2020-12-01 10:48:41,645]\u001b[0m Trial 46 finished with value: 0.04351128960496697 and parameters: {'max_depth': 19, 'max_leaves': 1390, 'learning_rate': 0.09420490362288503, 'subsample': 0.771152013414684, 'colsample_bytree': 0.6575568310917655, 'min_child_weight': 4, 'reg_lambda': 0.0003661574831792314}. Best is trial 31 with value: 0.03314911731755739.\u001b[0m\n",
      "\u001b[32m[I 2020-12-01 10:48:54,553]\u001b[0m Trial 47 finished with value: 0.0679847628562166 and parameters: {'max_depth': 20, 'max_leaves': 1081, 'learning_rate': 0.06216030569486875, 'subsample': 0.6891852492269088, 'colsample_bytree': 0.6995629992209952, 'min_child_weight': 2, 'reg_lambda': 0.0002906801138274273}. Best is trial 31 with value: 0.03314911731755739.\u001b[0m\n",
      "\u001b[32m[I 2020-12-01 10:49:00,799]\u001b[0m Trial 48 finished with value: 0.055060143564793315 and parameters: {'max_depth': 22, 'max_leaves': 1213, 'learning_rate': 0.07836127599776084, 'subsample': 0.723414512948412, 'colsample_bytree': 0.5930535751657396, 'min_child_weight': 5, 'reg_lambda': 0.0009343847689241687}. Best is trial 31 with value: 0.03314911731755739.\u001b[0m\n",
      "\u001b[32m[I 2020-12-01 10:49:14,236]\u001b[0m Trial 49 finished with value: 0.03367675084867703 and parameters: {'max_depth': 18, 'max_leaves': 1488, 'learning_rate': 0.09079945782062591, 'subsample': 0.696420952634521, 'colsample_bytree': 0.5621543930122621, 'min_child_weight': 1, 'reg_lambda': 0.00017520086354329994}. Best is trial 31 with value: 0.03314911731755739.\u001b[0m\n",
      "\u001b[32m[I 2020-12-01 10:49:20,572]\u001b[0m Trial 50 finished with value: 0.18366926541617992 and parameters: {'max_depth': 21, 'max_leaves': 1320, 'learning_rate': 0.07990851212417426, 'subsample': 0.654279267792965, 'colsample_bytree': 0.854137198212366, 'min_child_weight': 15, 'reg_lambda': 0.00026758147573885686}. Best is trial 31 with value: 0.03314911731755739.\u001b[0m\n",
      "\u001b[32m[I 2020-12-01 10:49:31,902]\u001b[0m Trial 51 finished with value: 0.03332380547423846 and parameters: {'max_depth': 23, 'max_leaves': 1426, 'learning_rate': 0.09110723252278351, 'subsample': 0.800213756943086, 'colsample_bytree': 0.6158804663998559, 'min_child_weight': 1, 'reg_lambda': 0.0005368812351915576}. Best is trial 31 with value: 0.03314911731755739.\u001b[0m\n",
      "\u001b[32m[I 2020-12-01 10:49:48,998]\u001b[0m Trial 52 finished with value: 0.03328613217733493 and parameters: {'max_depth': 23, 'max_leaves': 1402, 'learning_rate': 0.09226844926101907, 'subsample': 0.7680824549313782, 'colsample_bytree': 0.6251538382026812, 'min_child_weight': 1, 'reg_lambda': 0.0001022902744105984}. Best is trial 31 with value: 0.03314911731755739.\u001b[0m\n",
      "\u001b[32m[I 2020-12-01 10:50:01,727]\u001b[0m Trial 53 finished with value: 0.035768099413519654 and parameters: {'max_depth': 23, 'max_leaves': 1410, 'learning_rate': 0.09696643946244698, 'subsample': 0.7915976870941455, 'colsample_bytree': 0.6229339046472514, 'min_child_weight': 2, 'reg_lambda': 0.00013124666693882473}. Best is trial 31 with value: 0.03314911731755739.\u001b[0m\n",
      "\u001b[32m[I 2020-12-01 10:50:13,247]\u001b[0m Trial 54 finished with value: 0.03979850848582287 and parameters: {'max_depth': 22, 'max_leaves': 1257, 'learning_rate': 0.07221059087284493, 'subsample': 0.8050784339390719, 'colsample_bytree': 0.684913776780283, 'min_child_weight': 1, 'reg_lambda': 0.0009467369351674723}. Best is trial 31 with value: 0.03314911731755739.\u001b[0m\n",
      "\u001b[32m[I 2020-12-01 10:50:27,222]\u001b[0m Trial 55 finished with value: 0.04101076621303031 and parameters: {'max_depth': 22, 'max_leaves': 1165, 'learning_rate': 0.08096338514400202, 'subsample': 0.8551393213510078, 'colsample_bytree': 0.6431780714596661, 'min_child_weight': 3, 'reg_lambda': 0.00010354565844330567}. Best is trial 31 with value: 0.03314911731755739.\u001b[0m\n",
      "\u001b[32m[I 2020-12-01 10:50:36,169]\u001b[0m Trial 56 finished with value: 0.03625684839352639 and parameters: {'max_depth': 25, 'max_leaves': 64, 'learning_rate': 0.09226704877004813, 'subsample': 0.7665144607185538, 'colsample_bytree': 0.6750538302563819, 'min_child_weight': 2, 'reg_lambda': 0.00031725701230880246}. Best is trial 31 with value: 0.03314911731755739.\u001b[0m\n",
      "\u001b[32m[I 2020-12-01 10:50:45,073]\u001b[0m Trial 57 finished with value: 1.1182568122963823 and parameters: {'max_depth': 23, 'max_leaves': 1317, 'learning_rate': 0.020673855729260174, 'subsample': 0.784889667782482, 'colsample_bytree': 0.5958303477914867, 'min_child_weight': 11, 'reg_lambda': 0.0017837708318605477}. Best is trial 31 with value: 0.03314911731755739.\u001b[0m\n",
      "\u001b[32m[I 2020-12-01 10:50:49,664]\u001b[0m Trial 58 finished with value: 0.03567958532717574 and parameters: {'max_depth': 24, 'max_leaves': 1426, 'learning_rate': 0.09889145084319291, 'subsample': 0.7588187575653126, 'colsample_bytree': 0.7286293536173826, 'min_child_weight': 1, 'reg_lambda': 0.12640193760751608}. Best is trial 31 with value: 0.03314911731755739.\u001b[0m\n",
      "\u001b[32m[I 2020-12-01 10:51:00,413]\u001b[0m Trial 59 finished with value: 0.0614834212440515 and parameters: {'max_depth': 9, 'max_leaves': 1257, 'learning_rate': 0.06677321950019686, 'subsample': 0.7416814963698352, 'colsample_bytree': 0.6519048051334704, 'min_child_weight': 4, 'reg_lambda': 0.00018906581285118838}. Best is trial 31 with value: 0.03314911731755739.\u001b[0m\n",
      "\u001b[32m[I 2020-12-01 10:51:09,689]\u001b[0m Trial 60 finished with value: 0.08496866513677305 and parameters: {'max_depth': 20, 'max_leaves': 1356, 'learning_rate': 0.05912048173230887, 'subsample': 0.8200280476761538, 'colsample_bytree': 0.5503301123351609, 'min_child_weight': 3, 'reg_lambda': 0.0007719317899442592}. Best is trial 31 with value: 0.03314911731755739.\u001b[0m\n",
      "\u001b[32m[I 2020-12-01 10:51:18,758]\u001b[0m Trial 61 finished with value: 0.03671114143379668 and parameters: {'max_depth': 21, 'max_leaves': 1477, 'learning_rate': 0.0900999302032263, 'subsample': 0.7305337491190563, 'colsample_bytree': 0.6202646682590173, 'min_child_weight': 2, 'reg_lambda': 0.0004599552149044633}. Best is trial 31 with value: 0.03314911731755739.\u001b[0m\n",
      "\u001b[32m[I 2020-12-01 10:51:29,480]\u001b[0m Trial 62 finished with value: 0.03516491782136503 and parameters: {'max_depth': 22, 'max_leaves': 1409, 'learning_rate': 0.08022161204076628, 'subsample': 0.7049779463821915, 'colsample_bytree': 0.5256367750665414, 'min_child_weight': 1, 'reg_lambda': 0.0004559343861217878}. Best is trial 31 with value: 0.03314911731755739.\u001b[0m\n",
      "\u001b[32m[I 2020-12-01 10:51:36,479]\u001b[0m Trial 63 finished with value: 0.036697296488221086 and parameters: {'max_depth': 23, 'max_leaves': 1496, 'learning_rate': 0.09132115889535536, 'subsample': 0.7314464480539586, 'colsample_bytree': 0.5895810524219521, 'min_child_weight': 2, 'reg_lambda': 0.0011460845194007036}. Best is trial 31 with value: 0.03314911731755739.\u001b[0m\n",
      "\u001b[32m[I 2020-12-01 10:51:48,099]\u001b[0m Trial 64 finished with value: 0.03843431974635655 and parameters: {'max_depth': 22, 'max_leaves': 1445, 'learning_rate': 0.07347137502253753, 'subsample': 0.8007763873779026, 'colsample_bytree': 0.5681399701333331, 'min_child_weight': 1, 'reg_lambda': 0.0006237501995240619}. Best is trial 31 with value: 0.03314911731755739.\u001b[0m\n",
      "\u001b[32m[I 2020-12-01 10:51:53,666]\u001b[0m Trial 65 finished with value: 0.0358632277442261 and parameters: {'max_depth': 19, 'max_leaves': 1299, 'learning_rate': 0.0999945323098044, 'subsample': 0.7652125476350414, 'colsample_bytree': 0.5288840490405428, 'min_child_weight': 2, 'reg_lambda': 0.002951751057545286}. Best is trial 31 with value: 0.03314911731755739.\u001b[0m\n",
      "\u001b[32m[I 2020-12-01 10:52:05,941]\u001b[0m Trial 66 finished with value: 0.034347898022207835 and parameters: {'max_depth': 20, 'max_leaves': 1353, 'learning_rate': 0.08498784246007397, 'subsample': 0.6650761959697329, 'colsample_bytree': 0.5998022021385438, 'min_child_weight': 1, 'reg_lambda': 0.0002495344170834088}. Best is trial 31 with value: 0.03314911731755739.\u001b[0m\n",
      "\u001b[32m[I 2020-12-01 10:52:19,030]\u001b[0m Trial 67 finished with value: 0.03354661853533637 and parameters: {'max_depth': 11, 'max_leaves': 1500, 'learning_rate': 0.09916254918418309, 'subsample': 0.6378021714624573, 'colsample_bytree': 0.5790703974574329, 'min_child_weight': 1, 'reg_lambda': 0.0001306780010959878}. Best is trial 31 with value: 0.03314911731755739.\u001b[0m\n",
      "\u001b[32m[I 2020-12-01 10:52:25,400]\u001b[0m Trial 68 finished with value: 0.12893021553617237 and parameters: {'max_depth': 12, 'max_leaves': 944, 'learning_rate': 0.0996477950719993, 'subsample': 0.5923699581739985, 'colsample_bytree': 0.6155707555815105, 'min_child_weight': 8, 'reg_lambda': 0.00012850822955439635}. Best is trial 31 with value: 0.03314911731755739.\u001b[0m\n",
      "\u001b[32m[I 2020-12-01 10:52:57,157]\u001b[0m Trial 69 finished with value: 1.3966936467933013 and parameters: {'max_depth': 15, 'max_leaves': 1084, 'learning_rate': 0.015554532782121449, 'subsample': 0.6392116263307925, 'colsample_bytree': 0.6408827140947079, 'min_child_weight': 3, 'reg_lambda': 0.0001006501074031423}. Best is trial 31 with value: 0.03314911731755739.\u001b[0m\n",
      "\u001b[32m[I 2020-12-01 10:53:07,989]\u001b[0m Trial 70 finished with value: 0.03483236581596867 and parameters: {'max_depth': 11, 'max_leaves': 586, 'learning_rate': 0.0833994495794005, 'subsample': 0.6143571455984477, 'colsample_bytree': 0.5579687822253181, 'min_child_weight': 1, 'reg_lambda': 0.0003212787564631707}. Best is trial 31 with value: 0.03314911731755739.\u001b[0m\n",
      "\u001b[32m[I 2020-12-01 10:53:14,842]\u001b[0m Trial 71 finished with value: 0.03361082200321324 and parameters: {'max_depth': 6, 'max_leaves': 1397, 'learning_rate': 0.09223630640426636, 'subsample': 0.7057729577638432, 'colsample_bytree': 0.5794359454332353, 'min_child_weight': 1, 'reg_lambda': 0.00020235373176297246}. Best is trial 31 with value: 0.03314911731755739.\u001b[0m\n",
      "\u001b[32m[I 2020-12-01 10:53:20,509]\u001b[0m Trial 72 finished with value: 0.1756109656557168 and parameters: {'max_depth': 21, 'max_leaves': 1451, 'learning_rate': 0.07556699787547407, 'subsample': 0.6805783568270757, 'colsample_bytree': 0.605137509938644, 'min_child_weight': 14, 'reg_lambda': 0.0003786972207077446}. Best is trial 31 with value: 0.03314911731755739.\u001b[0m\n",
      "\u001b[32m[I 2020-12-01 10:53:26,820]\u001b[0m Trial 73 finished with value: 0.03590408991630602 and parameters: {'max_depth': 17, 'max_leaves': 1490, 'learning_rate': 0.09986698428889465, 'subsample': 0.7836042105173311, 'colsample_bytree': 0.5411795697230469, 'min_child_weight': 2, 'reg_lambda': 0.0015838151918743518}. Best is trial 31 with value: 0.03314911731755739.\u001b[0m\n",
      "\u001b[32m[I 2020-12-01 10:53:36,724]\u001b[0m Trial 74 finished with value: 0.03373270109276479 and parameters: {'max_depth': 7, 'max_leaves': 1382, 'learning_rate': 0.08768853152442893, 'subsample': 0.752038475921369, 'colsample_bytree': 0.6638491159840506, 'min_child_weight': 1, 'reg_lambda': 0.0004988899731676791}. Best is trial 31 with value: 0.03314911731755739.\u001b[0m\n",
      "\u001b[32m[I 2020-12-01 10:53:48,060]\u001b[0m Trial 75 finished with value: 0.0365838127648036 and parameters: {'max_depth': 25, 'max_leaves': 1500, 'learning_rate': 0.0936724122942069, 'subsample': 0.6887167133955567, 'colsample_bytree': 0.5791381588151814, 'min_child_weight': 2, 'reg_lambda': 0.00014178139464002848}. Best is trial 31 with value: 0.03314911731755739.\u001b[0m\n",
      "\u001b[32m[I 2020-12-01 10:53:57,253]\u001b[0m Trial 76 finished with value: 0.03509690925042909 and parameters: {'max_depth': 24, 'max_leaves': 1338, 'learning_rate': 0.08216652846281294, 'subsample': 0.6311214808245191, 'colsample_bytree': 0.6264352095617667, 'min_child_weight': 1, 'reg_lambda': 0.0008517335407858815}. Best is trial 31 with value: 0.03314911731755739.\u001b[0m\n",
      "\u001b[32m[I 2020-12-01 10:54:06,612]\u001b[0m Trial 77 finished with value: 0.04723610142144781 and parameters: {'max_depth': 22, 'max_leaves': 1262, 'learning_rate': 0.06983627787349507, 'subsample': 0.7160129121565989, 'colsample_bytree': 0.589409501672292, 'min_child_weight': 2, 'reg_lambda': 0.0006661187151736738}. Best is trial 31 with value: 0.03314911731755739.\u001b[0m\n",
      "\u001b[32m[I 2020-12-01 10:54:14,165]\u001b[0m Trial 78 finished with value: 0.04497971444761317 and parameters: {'max_depth': 23, 'max_leaves': 1443, 'learning_rate': 0.0878130710446788, 'subsample': 0.5664559541022253, 'colsample_bytree': 0.5658487991844668, 'min_child_weight': 3, 'reg_lambda': 0.0003192488707913263}. Best is trial 31 with value: 0.03314911731755739.\u001b[0m\n",
      "\u001b[32m[I 2020-12-01 10:54:30,909]\u001b[0m Trial 79 finished with value: 0.05627445791148938 and parameters: {'max_depth': 9, 'max_leaves': 1217, 'learning_rate': 0.064182660983704, 'subsample': 0.8337774029206209, 'colsample_bytree': 0.6405166007498369, 'min_child_weight': 1, 'reg_lambda': 0.00020415269403645307}. Best is trial 31 with value: 0.03314911731755739.\u001b[0m\n",
      "\u001b[32m[I 2020-12-01 10:54:33,343]\u001b[0m Trial 80 finished with value: 0.12296760363894267 and parameters: {'max_depth': 14, 'max_leaves': 1310, 'learning_rate': 0.07809398969418992, 'subsample': 0.7428844461629487, 'colsample_bytree': 0.6147038140197795, 'min_child_weight': 9, 'reg_lambda': 0.8917650716454373}. Best is trial 31 with value: 0.03314911731755739.\u001b[0m\n",
      "\u001b[32m[I 2020-12-01 10:54:45,864]\u001b[0m Trial 81 finished with value: 0.03356125382176117 and parameters: {'max_depth': 23, 'max_leaves': 1397, 'learning_rate': 0.09234945944586372, 'subsample': 0.709121569453327, 'colsample_bytree': 0.5850822628910737, 'min_child_weight': 1, 'reg_lambda': 0.0002173657491756245}. Best is trial 31 with value: 0.03314911731755739.\u001b[0m\n",
      "\u001b[32m[I 2020-12-01 10:54:57,637]\u001b[0m Trial 82 finished with value: 0.03358638887811734 and parameters: {'max_depth': 24, 'max_leaves': 1392, 'learning_rate': 0.09530226413260964, 'subsample': 0.6728013957685791, 'colsample_bytree': 0.6045008582203847, 'min_child_weight': 1, 'reg_lambda': 0.0002457203177701032}. Best is trial 31 with value: 0.03314911731755739.\u001b[0m\n",
      "\u001b[32m[I 2020-12-01 10:55:11,250]\u001b[0m Trial 83 finished with value: 0.033520174213210595 and parameters: {'max_depth': 24, 'max_leaves': 1399, 'learning_rate': 0.09542823631618935, 'subsample': 0.6693560248275249, 'colsample_bytree': 0.6046600832653874, 'min_child_weight': 1, 'reg_lambda': 0.00015579583023724416}. Best is trial 31 with value: 0.03314911731755739.\u001b[0m\n",
      "\u001b[32m[I 2020-12-01 10:55:22,748]\u001b[0m Trial 84 finished with value: 0.03639781914587792 and parameters: {'max_depth': 23, 'max_leaves': 1289, 'learning_rate': 0.09989388043450204, 'subsample': 0.6587899590050152, 'colsample_bytree': 0.6280731651294967, 'min_child_weight': 2, 'reg_lambda': 0.00011973649444653093}. Best is trial 31 with value: 0.03314911731755739.\u001b[0m\n",
      "\u001b[32m[I 2020-12-01 10:55:38,480]\u001b[0m Trial 85 finished with value: 0.034315988933538336 and parameters: {'max_depth': 25, 'max_leaves': 1449, 'learning_rate': 0.08422195513012816, 'subsample': 0.7003392793821341, 'colsample_bytree': 0.6501576748388174, 'min_child_weight': 1, 'reg_lambda': 0.00015198208460134855}. Best is trial 31 with value: 0.03314911731755739.\u001b[0m\n",
      "\u001b[32m[I 2020-12-01 10:55:51,342]\u001b[0m Trial 86 finished with value: 0.03721415661099312 and parameters: {'max_depth': 24, 'max_leaves': 1182, 'learning_rate': 0.09507188738337964, 'subsample': 0.6288544402964134, 'colsample_bytree': 0.9896943850369622, 'min_child_weight': 2, 'reg_lambda': 0.0001785266271153176}. Best is trial 31 with value: 0.03314911731755739.\u001b[0m\n",
      "\u001b[32m[I 2020-12-01 10:56:01,084]\u001b[0m Trial 87 finished with value: 0.0979842026382922 and parameters: {'max_depth': 24, 'max_leaves': 1349, 'learning_rate': 0.07521844149563951, 'subsample': 0.6419991203553328, 'colsample_bytree': 0.6921042627745406, 'min_child_weight': 7, 'reg_lambda': 0.0001006977193393188}. Best is trial 31 with value: 0.03314911731755739.\u001b[0m\n",
      "\u001b[32m[I 2020-12-01 10:56:19,511]\u001b[0m Trial 88 finished with value: 0.7240326728695932 and parameters: {'max_depth': 23, 'max_leaves': 1419, 'learning_rate': 0.029174565784830044, 'subsample': 0.781193757316752, 'colsample_bytree': 0.5394672302047216, 'min_child_weight': 1, 'reg_lambda': 0.0003829855808145902}. Best is trial 31 with value: 0.03314911731755739.\u001b[0m\n",
      "\u001b[32m[I 2020-12-01 10:56:28,519]\u001b[0m Trial 89 finished with value: 0.041986343101701885 and parameters: {'max_depth': 25, 'max_leaves': 1359, 'learning_rate': 0.08861970471750995, 'subsample': 0.6845597556851438, 'colsample_bytree': 0.6744287969310923, 'min_child_weight': 3, 'reg_lambda': 0.0002838070956135636}. Best is trial 31 with value: 0.03314911731755739.\u001b[0m\n",
      "\u001b[32m[I 2020-12-01 10:56:39,330]\u001b[0m Trial 90 finished with value: 0.03805370852423001 and parameters: {'max_depth': 23, 'max_leaves': 1277, 'learning_rate': 0.08237093855755644, 'subsample': 0.7329062872089676, 'colsample_bytree': 0.5691534203050981, 'min_child_weight': 2, 'reg_lambda': 0.0002215085618449593}. Best is trial 31 with value: 0.03314911731755739.\u001b[0m\n",
      "\u001b[32m[I 2020-12-01 10:56:54,099]\u001b[0m Trial 91 finished with value: 0.033172819891949305 and parameters: {'max_depth': 24, 'max_leaves': 1386, 'learning_rate': 0.0957271467823966, 'subsample': 0.7613276794458035, 'colsample_bytree': 0.6049753981197652, 'min_child_weight': 1, 'reg_lambda': 0.000154159326095103}. Best is trial 31 with value: 0.03314911731755739.\u001b[0m\n",
      "\u001b[32m[I 2020-12-01 10:57:08,754]\u001b[0m Trial 92 finished with value: 0.03320409285008315 and parameters: {'max_depth': 25, 'max_leaves': 1325, 'learning_rate': 0.09474831685334781, 'subsample': 0.7617674663871543, 'colsample_bytree': 0.5895488051094828, 'min_child_weight': 1, 'reg_lambda': 0.00015034005227095606}. Best is trial 31 with value: 0.03314911731755739.\u001b[0m\n",
      "\u001b[32m[I 2020-12-01 10:57:23,870]\u001b[0m Trial 93 finished with value: 0.033005692191683145 and parameters: {'max_depth': 25, 'max_leaves': 1324, 'learning_rate': 0.09740074358341014, 'subsample': 0.8113306361197232, 'colsample_bytree': 0.6015280577246329, 'min_child_weight': 1, 'reg_lambda': 0.00015337858887130807}. Best is trial 93 with value: 0.033005692191683145.\u001b[0m\n",
      "\u001b[32m[I 2020-12-01 10:57:36,151]\u001b[0m Trial 94 finished with value: 0.035730271859187035 and parameters: {'max_depth': 25, 'max_leaves': 1222, 'learning_rate': 0.09515653793712582, 'subsample': 0.8114007049909333, 'colsample_bytree': 0.6072273431546755, 'min_child_weight': 2, 'reg_lambda': 0.000157892850865666}. Best is trial 93 with value: 0.033005692191683145.\u001b[0m\n",
      "\u001b[32m[I 2020-12-01 10:57:40,607]\u001b[0m Trial 95 finished with value: 0.03913717176547609 and parameters: {'max_depth': 24, 'max_leaves': 1332, 'learning_rate': 0.08646790319338148, 'subsample': 0.7647430882971566, 'colsample_bytree': 0.6319998587731477, 'min_child_weight': 2, 'reg_lambda': 0.028706973745720732}. Best is trial 93 with value: 0.033005692191683145.\u001b[0m\n",
      "\u001b[32m[I 2020-12-01 10:57:53,293]\u001b[0m Trial 96 finished with value: 0.03539415332887564 and parameters: {'max_depth': 25, 'max_leaves': 1243, 'learning_rate': 0.0784889871800865, 'subsample': 0.7933183198191476, 'colsample_bytree': 0.6194252958791849, 'min_child_weight': 1, 'reg_lambda': 0.0004182458124617712}. Best is trial 93 with value: 0.033005692191683145.\u001b[0m\n",
      "\u001b[32m[I 2020-12-01 10:58:06,089]\u001b[0m Trial 97 finished with value: 0.032928174079318355 and parameters: {'max_depth': 24, 'max_leaves': 1330, 'learning_rate': 0.09584468337225814, 'subsample': 0.862002650521727, 'colsample_bytree': 0.5953422872147573, 'min_child_weight': 1, 'reg_lambda': 0.000290892706279472}. Best is trial 97 with value: 0.032928174079318355.\u001b[0m\n",
      "\u001b[32m[I 2020-12-01 10:58:15,383]\u001b[0m Trial 98 finished with value: 0.035464001650236374 and parameters: {'max_depth': 24, 'max_leaves': 1321, 'learning_rate': 0.09928409235425749, 'subsample': 0.8621898742269714, 'colsample_bytree': 0.6628594723814323, 'min_child_weight': 2, 'reg_lambda': 0.0005489843995565393}. Best is trial 97 with value: 0.032928174079318355.\u001b[0m\n",
      "\u001b[32m[I 2020-12-01 10:58:32,573]\u001b[0m Trial 99 finished with value: 0.032879369934587704 and parameters: {'max_depth': 25, 'max_leaves': 1375, 'learning_rate': 0.09333634592112244, 'subsample': 0.9352465193059899, 'colsample_bytree': 0.5561336914968704, 'min_child_weight': 1, 'reg_lambda': 0.00011729957401737625}. Best is trial 99 with value: 0.032879369934587704.\u001b[0m\n",
      "\u001b[32m[I 2020-12-01 10:58:49,869]\u001b[0m Trial 100 finished with value: 0.03280017428127872 and parameters: {'max_depth': 25, 'max_leaves': 1372, 'learning_rate': 0.09544351367004401, 'subsample': 0.9541592030951439, 'colsample_bytree': 0.5493866759333408, 'min_child_weight': 1, 'reg_lambda': 0.00011044090404066739}. Best is trial 100 with value: 0.03280017428127872.\u001b[0m\n",
      "\u001b[32m[I 2020-12-01 10:59:06,915]\u001b[0m Trial 101 finished with value: 0.03281772540842689 and parameters: {'max_depth': 25, 'max_leaves': 1367, 'learning_rate': 0.09441071017867372, 'subsample': 0.9711661031968968, 'colsample_bytree': 0.5187067728408459, 'min_child_weight': 1, 'reg_lambda': 0.00011282124060870399}. Best is trial 100 with value: 0.03280017428127872.\u001b[0m\n",
      "\u001b[32m[I 2020-12-01 10:59:25,841]\u001b[0m Trial 102 finished with value: 0.03352389706110311 and parameters: {'max_depth': 25, 'max_leaves': 1368, 'learning_rate': 0.08420161920106109, 'subsample': 0.9417463524846227, 'colsample_bytree': 0.5519685736365753, 'min_child_weight': 1, 'reg_lambda': 0.0001022031257624984}. Best is trial 100 with value: 0.03280017428127872.\u001b[0m\n",
      "\u001b[32m[I 2020-12-01 10:59:42,794]\u001b[0m Trial 103 finished with value: 0.03266331627577718 and parameters: {'max_depth': 25, 'max_leaves': 1302, 'learning_rate': 0.09984749337171145, 'subsample': 0.9779778169453892, 'colsample_bytree': 0.5577743714940528, 'min_child_weight': 1, 'reg_lambda': 0.00011863439441843871}. Best is trial 103 with value: 0.03266331627577718.\u001b[0m\n",
      "\u001b[32m[I 2020-12-01 11:00:00,106]\u001b[0m Trial 104 finished with value: 0.03288312026152225 and parameters: {'max_depth': 25, 'max_leaves': 1295, 'learning_rate': 0.09047217649342619, 'subsample': 0.9771842634659524, 'colsample_bytree': 0.5210718536069436, 'min_child_weight': 1, 'reg_lambda': 0.00012157439142830726}. Best is trial 103 with value: 0.03266331627577718.\u001b[0m\n",
      "\u001b[32m[I 2020-12-01 11:00:13,545]\u001b[0m Trial 105 finished with value: 0.035130440425006 and parameters: {'max_depth': 25, 'max_leaves': 1145, 'learning_rate': 0.09449944658592391, 'subsample': 0.9805816191630595, 'colsample_bytree': 0.5174150515135021, 'min_child_weight': 2, 'reg_lambda': 0.00011984007329532001}. Best is trial 103 with value: 0.03266331627577718.\u001b[0m\n",
      "\u001b[32m[I 2020-12-01 11:00:28,048]\u001b[0m Trial 106 finished with value: 0.03570398437093056 and parameters: {'max_depth': 25, 'max_leaves': 1192, 'learning_rate': 0.08741451896125517, 'subsample': 0.968816252011735, 'colsample_bytree': 0.5350207168929976, 'min_child_weight': 2, 'reg_lambda': 0.00011453635610272687}. Best is trial 103 with value: 0.03266331627577718.\u001b[0m\n",
      "\u001b[32m[I 2020-12-01 11:00:44,847]\u001b[0m Trial 107 finished with value: 0.034319880239154096 and parameters: {'max_depth': 25, 'max_leaves': 1291, 'learning_rate': 0.08034127245011558, 'subsample': 0.9394589962340184, 'colsample_bytree': 0.5534363034597793, 'min_child_weight': 1, 'reg_lambda': 0.00017763932044645114}. Best is trial 103 with value: 0.03266331627577718.\u001b[0m\n",
      "\u001b[32m[I 2020-12-01 11:01:05,350]\u001b[0m Trial 108 finished with value: 0.3847103817782579 and parameters: {'max_depth': 24, 'max_leaves': 1317, 'learning_rate': 0.039174952636163746, 'subsample': 0.9532595928462894, 'colsample_bytree': 0.522310816870033, 'min_child_weight': 3, 'reg_lambda': 0.00013754234059892688}. Best is trial 103 with value: 0.03266331627577718.\u001b[0m\n",
      "\u001b[32m[I 2020-12-01 11:01:08,538]\u001b[0m Trial 109 finished with value: 0.05027944441088998 and parameters: {'max_depth': 25, 'max_leaves': 1250, 'learning_rate': 0.07415530579939857, 'subsample': 0.9983973210201927, 'colsample_bytree': 0.5171388417455176, 'min_child_weight': 1, 'reg_lambda': 0.5273045278772933}. Best is trial 103 with value: 0.03266331627577718.\u001b[0m\n",
      "\u001b[32m[I 2020-12-01 11:01:33,841]\u001b[0m Trial 110 finished with value: 0.9448244170009712 and parameters: {'max_depth': 24, 'max_leaves': 227, 'learning_rate': 0.02417426844245195, 'subsample': 0.9191334807790401, 'colsample_bytree': 0.5043699512186288, 'min_child_weight': 2, 'reg_lambda': 0.0001875663038631132}. Best is trial 103 with value: 0.03266331627577718.\u001b[0m\n",
      "\u001b[32m[I 2020-12-01 11:01:52,482]\u001b[0m Trial 111 finished with value: 0.03296236303529462 and parameters: {'max_depth': 25, 'max_leaves': 1465, 'learning_rate': 0.0908765877283687, 'subsample': 0.9587612321866312, 'colsample_bytree': 0.5619437090155045, 'min_child_weight': 1, 'reg_lambda': 0.00010072184726398418}. Best is trial 103 with value: 0.03266331627577718.\u001b[0m\n",
      "\u001b[32m[I 2020-12-01 11:02:10,033]\u001b[0m Trial 112 finished with value: 0.03267421333508252 and parameters: {'max_depth': 25, 'max_leaves': 1468, 'learning_rate': 0.09585356502885553, 'subsample': 0.9758453096410474, 'colsample_bytree': 0.5594609746772673, 'min_child_weight': 1, 'reg_lambda': 0.00011626665147061804}. Best is trial 103 with value: 0.03266331627577718.\u001b[0m\n",
      "\u001b[32m[I 2020-12-01 11:02:26,244]\u001b[0m Trial 113 finished with value: 0.03269691402539886 and parameters: {'max_depth': 25, 'max_leaves': 1374, 'learning_rate': 0.09717871871096784, 'subsample': 0.9655560013331722, 'colsample_bytree': 0.500257237312686, 'min_child_weight': 1, 'reg_lambda': 0.00012390180331449586}. Best is trial 103 with value: 0.03266331627577718.\u001b[0m\n",
      "\u001b[32m[I 2020-12-01 11:02:44,878]\u001b[0m Trial 114 finished with value: 0.032916828962110116 and parameters: {'max_depth': 25, 'max_leaves': 1364, 'learning_rate': 0.08943724673198139, 'subsample': 0.9727812093276357, 'colsample_bytree': 0.5447953736883451, 'min_child_weight': 1, 'reg_lambda': 0.00010087643556589474}. Best is trial 103 with value: 0.03266331627577718.\u001b[0m\n",
      "\u001b[32m[I 2020-12-01 11:02:58,179]\u001b[0m Trial 115 finished with value: 0.03504082536096676 and parameters: {'max_depth': 25, 'max_leaves': 1447, 'learning_rate': 0.09985553700122629, 'subsample': 0.9687397743104368, 'colsample_bytree': 0.5015355119292192, 'min_child_weight': 2, 'reg_lambda': 0.0001023393999570993}. Best is trial 103 with value: 0.03266331627577718.\u001b[0m\n",
      "\u001b[32m[I 2020-12-01 11:03:15,835]\u001b[0m Trial 116 finished with value: 0.03297690381747109 and parameters: {'max_depth': 25, 'max_leaves': 1466, 'learning_rate': 0.08928472315703312, 'subsample': 0.977750684761756, 'colsample_bytree': 0.5459044934177065, 'min_child_weight': 1, 'reg_lambda': 0.00012567024744687352}. Best is trial 103 with value: 0.03266331627577718.\u001b[0m\n",
      "\u001b[32m[I 2020-12-01 11:03:34,458]\u001b[0m Trial 117 finished with value: 0.03354496876604486 and parameters: {'max_depth': 25, 'max_leaves': 1373, 'learning_rate': 0.08387728097021367, 'subsample': 0.9803980532608466, 'colsample_bytree': 0.5451833344040155, 'min_child_weight': 1, 'reg_lambda': 0.00012052490908729672}. Best is trial 103 with value: 0.03266331627577718.\u001b[0m\n",
      "\u001b[32m[I 2020-12-01 11:03:48,854]\u001b[0m Trial 118 finished with value: 0.035575096010786324 and parameters: {'max_depth': 25, 'max_leaves': 1460, 'learning_rate': 0.08961990407305997, 'subsample': 0.9592464820448328, 'colsample_bytree': 0.5270281955386515, 'min_child_weight': 2, 'reg_lambda': 0.0001046614394726812}. Best is trial 103 with value: 0.03266331627577718.\u001b[0m\n",
      "\u001b[32m[I 2020-12-01 11:04:07,962]\u001b[0m Trial 119 finished with value: 0.035145957595792206 and parameters: {'max_depth': 24, 'max_leaves': 1476, 'learning_rate': 0.07785973885113737, 'subsample': 0.9329716628846535, 'colsample_bytree': 0.5631245416022673, 'min_child_weight': 1, 'reg_lambda': 0.00012824558256414555}. Best is trial 103 with value: 0.03266331627577718.\u001b[0m\n",
      "\u001b[32m[I 2020-12-01 11:04:23,918]\u001b[0m Trial 120 finished with value: 0.033190059691167624 and parameters: {'max_depth': 25, 'max_leaves': 1428, 'learning_rate': 0.08612241083634486, 'subsample': 0.9882217676715637, 'colsample_bytree': 0.5329424027288462, 'min_child_weight': 1, 'reg_lambda': 0.0002056820176264063}. Best is trial 103 with value: 0.03266331627577718.\u001b[0m\n",
      "\u001b[32m[I 2020-12-01 11:04:42,528]\u001b[0m Trial 121 finished with value: 0.03297041204260556 and parameters: {'max_depth': 25, 'max_leaves': 1347, 'learning_rate': 0.0901843680317396, 'subsample': 0.9642462642082268, 'colsample_bytree': 0.5476308730904624, 'min_child_weight': 1, 'reg_lambda': 0.00010085910567326573}. Best is trial 103 with value: 0.03266331627577718.\u001b[0m\n",
      "\u001b[32m[I 2020-12-01 11:05:01,467]\u001b[0m Trial 122 finished with value: 0.032890282702816395 and parameters: {'max_depth': 25, 'max_leaves': 1288, 'learning_rate': 0.08997588506106217, 'subsample': 0.9974285146134367, 'colsample_bytree': 0.5483255669293132, 'min_child_weight': 1, 'reg_lambda': 0.00010077558169411606}. Best is trial 103 with value: 0.03266331627577718.\u001b[0m\n",
      "\u001b[32m[I 2020-12-01 11:05:19,668]\u001b[0m Trial 123 finished with value: 0.0329024087180467 and parameters: {'max_depth': 25, 'max_leaves': 1278, 'learning_rate': 0.09013511712905574, 'subsample': 0.9980467900512552, 'colsample_bytree': 0.5429286117651947, 'min_child_weight': 1, 'reg_lambda': 0.00011411497223466619}. Best is trial 103 with value: 0.03266331627577718.\u001b[0m\n",
      "\u001b[32m[I 2020-12-01 11:05:34,900]\u001b[0m Trial 124 finished with value: 0.03632755061620165 and parameters: {'max_depth': 24, 'max_leaves': 1285, 'learning_rate': 0.08238295573701335, 'subsample': 0.9993706283654484, 'colsample_bytree': 0.5163909089902505, 'min_child_weight': 2, 'reg_lambda': 0.00010513205644206055}. Best is trial 103 with value: 0.03266331627577718.\u001b[0m\n",
      "\u001b[32m[I 2020-12-01 11:05:53,310]\u001b[0m Trial 125 finished with value: 0.03298551909287177 and parameters: {'max_depth': 25, 'max_leaves': 1234, 'learning_rate': 0.09039643689397692, 'subsample': 0.9551101130219138, 'colsample_bytree': 0.5576307940803523, 'min_child_weight': 1, 'reg_lambda': 0.00010259440365331053}. Best is trial 103 with value: 0.03266331627577718.\u001b[0m\n",
      "\u001b[32m[I 2020-12-01 11:06:06,965]\u001b[0m Trial 126 finished with value: 0.03682624805602266 and parameters: {'max_depth': 25, 'max_leaves': 1365, 'learning_rate': 0.0812886535024096, 'subsample': 0.9675951438454684, 'colsample_bytree': 0.5365706245806349, 'min_child_weight': 2, 'reg_lambda': 0.0001743939751162038}. Best is trial 103 with value: 0.03266331627577718.\u001b[0m\n",
      "\u001b[32m[I 2020-12-01 11:06:27,217]\u001b[0m Trial 127 finished with value: 0.040908136312150456 and parameters: {'max_depth': 24, 'max_leaves': 1292, 'learning_rate': 0.07079868143015555, 'subsample': 0.9248060102638783, 'colsample_bytree': 0.5026885022281639, 'min_child_weight': 1, 'reg_lambda': 0.00010017035160265057}. Best is trial 103 with value: 0.03266331627577718.\u001b[0m\n",
      "\u001b[32m[I 2020-12-01 11:06:44,166]\u001b[0m Trial 128 finished with value: 0.032942839295580215 and parameters: {'max_depth': 24, 'max_leaves': 1263, 'learning_rate': 0.09119982595804554, 'subsample': 0.948799432446733, 'colsample_bytree': 0.5495143694041495, 'min_child_weight': 1, 'reg_lambda': 0.00013177022346178192}. Best is trial 103 with value: 0.03266331627577718.\u001b[0m\n",
      "\u001b[32m[I 2020-12-01 11:06:57,317]\u001b[0m Trial 129 finished with value: 0.03509076616316029 and parameters: {'max_depth': 24, 'max_leaves': 1266, 'learning_rate': 0.0988900115533011, 'subsample': 0.9462921196807688, 'colsample_bytree': 0.5702332109831125, 'min_child_weight': 2, 'reg_lambda': 0.00013739997833981117}. Best is trial 103 with value: 0.03266331627577718.\u001b[0m\n",
      "\u001b[32m[I 2020-12-01 11:07:12,125]\u001b[0m Trial 130 finished with value: 0.033227061152973594 and parameters: {'max_depth': 24, 'max_leaves': 1197, 'learning_rate': 0.08605000551840883, 'subsample': 0.9975523728966078, 'colsample_bytree': 0.529722478862858, 'min_child_weight': 1, 'reg_lambda': 0.00026542764819883954}. Best is trial 103 with value: 0.03266331627577718.\u001b[0m\n",
      "\u001b[32m[I 2020-12-01 11:07:53,615]\u001b[0m Trial 131 finished with value: 1.723525949535171 and parameters: {'max_depth': 25, 'max_leaves': 1338, 'learning_rate': 0.01008783452667989, 'subsample': 0.9654891813672487, 'colsample_bytree': 0.5463113432219959, 'min_child_weight': 1, 'reg_lambda': 0.00012109481656673925}. Best is trial 103 with value: 0.03266331627577718.\u001b[0m\n",
      "\u001b[32m[I 2020-12-01 11:08:10,053]\u001b[0m Trial 132 finished with value: 0.03274390400081883 and parameters: {'max_depth': 25, 'max_leaves': 1417, 'learning_rate': 0.09216018404025667, 'subsample': 0.9898263520181141, 'colsample_bytree': 0.5619086834038883, 'min_child_weight': 1, 'reg_lambda': 0.0001795759481516989}. Best is trial 103 with value: 0.03266331627577718.\u001b[0m\n",
      "\u001b[32m[I 2020-12-01 11:08:24,637]\u001b[0m Trial 133 finished with value: 0.032790718740132986 and parameters: {'max_depth': 24, 'max_leaves': 1423, 'learning_rate': 0.0999680625641501, 'subsample': 0.8980921902454314, 'colsample_bytree': 0.5601268480311249, 'min_child_weight': 1, 'reg_lambda': 0.00018398507740553108}. Best is trial 103 with value: 0.03266331627577718.\u001b[0m\n",
      "\u001b[32m[I 2020-12-01 11:08:36,155]\u001b[0m Trial 134 finished with value: 0.03511188463843567 and parameters: {'max_depth': 24, 'max_leaves': 1405, 'learning_rate': 0.09550873617880243, 'subsample': 0.9873194470844681, 'colsample_bytree': 0.5090582820368159, 'min_child_weight': 2, 'reg_lambda': 0.00022852321774014837}. Best is trial 103 with value: 0.03266331627577718.\u001b[0m\n",
      "\u001b[32m[I 2020-12-01 11:08:50,756]\u001b[0m Trial 135 finished with value: 0.032791103039420115 and parameters: {'max_depth': 24, 'max_leaves': 784, 'learning_rate': 0.09969786904783709, 'subsample': 0.8854477667498946, 'colsample_bytree': 0.5582451837802914, 'min_child_weight': 1, 'reg_lambda': 0.00017610399907704865}. Best is trial 103 with value: 0.03266331627577718.\u001b[0m\n",
      "\u001b[32m[I 2020-12-01 11:09:05,599]\u001b[0m Trial 136 finished with value: 0.0328705680604384 and parameters: {'max_depth': 23, 'max_leaves': 678, 'learning_rate': 0.09772376405458957, 'subsample': 0.8986019503030551, 'colsample_bytree': 0.5709613059325713, 'min_child_weight': 1, 'reg_lambda': 0.000194888804045076}. Best is trial 103 with value: 0.03266331627577718.\u001b[0m\n",
      "\u001b[32m[I 2020-12-01 11:09:20,568]\u001b[0m Trial 137 finished with value: 0.03273434300570342 and parameters: {'max_depth': 23, 'max_leaves': 721, 'learning_rate': 0.09893692212047973, 'subsample': 0.8992119854564475, 'colsample_bytree': 0.5735794291897239, 'min_child_weight': 1, 'reg_lambda': 0.00018499170741015115}. Best is trial 103 with value: 0.03266331627577718.\u001b[0m\n",
      "\u001b[32m[I 2020-12-01 11:09:32,384]\u001b[0m Trial 138 finished with value: 0.035356045142071094 and parameters: {'max_depth': 23, 'max_leaves': 700, 'learning_rate': 0.0991256587237869, 'subsample': 0.8866369684270969, 'colsample_bytree': 0.5762502603702152, 'min_child_weight': 2, 'reg_lambda': 0.00019110915809644478}. Best is trial 103 with value: 0.03266331627577718.\u001b[0m\n",
      "\u001b[32m[I 2020-12-01 11:09:47,194]\u001b[0m Trial 139 finished with value: 0.03272819106749707 and parameters: {'max_depth': 23, 'max_leaves': 626, 'learning_rate': 0.0993762949486375, 'subsample': 0.8989662251553996, 'colsample_bytree': 0.5587945287678895, 'min_child_weight': 1, 'reg_lambda': 0.00017486980784856527}. Best is trial 103 with value: 0.03266331627577718.\u001b[0m\n",
      "\u001b[32m[I 2020-12-01 11:10:00,720]\u001b[0m Trial 140 finished with value: 0.03276320911962456 and parameters: {'max_depth': 23, 'max_leaves': 595, 'learning_rate': 0.09966428954102327, 'subsample': 0.8998019714587996, 'colsample_bytree': 0.5605822220412512, 'min_child_weight': 1, 'reg_lambda': 0.00024592165123192626}. Best is trial 103 with value: 0.03266331627577718.\u001b[0m\n",
      "\u001b[32m[I 2020-12-01 11:10:14,672]\u001b[0m Trial 141 finished with value: 0.032646197948486784 and parameters: {'max_depth': 23, 'max_leaves': 642, 'learning_rate': 0.0993060292598731, 'subsample': 0.9099804655555166, 'colsample_bytree': 0.5590526176158671, 'min_child_weight': 1, 'reg_lambda': 0.00022874554040709855}. Best is trial 141 with value: 0.032646197948486784.\u001b[0m\n",
      "\u001b[32m[I 2020-12-01 11:10:28,619]\u001b[0m Trial 142 finished with value: 0.03269556598707339 and parameters: {'max_depth': 23, 'max_leaves': 620, 'learning_rate': 0.09982228254466062, 'subsample': 0.9064157968747882, 'colsample_bytree': 0.5618746897763931, 'min_child_weight': 1, 'reg_lambda': 0.00022986962775503584}. Best is trial 141 with value: 0.032646197948486784.\u001b[0m\n",
      "\u001b[32m[I 2020-12-01 11:10:42,139]\u001b[0m Trial 143 finished with value: 0.032757281209471516 and parameters: {'max_depth': 22, 'max_leaves': 629, 'learning_rate': 0.09934530233397369, 'subsample': 0.9007265366750732, 'colsample_bytree': 0.5697271988046405, 'min_child_weight': 1, 'reg_lambda': 0.0002613162314624036}. Best is trial 141 with value: 0.032646197948486784.\u001b[0m\n",
      "\u001b[32m[I 2020-12-01 11:10:52,969]\u001b[0m Trial 144 finished with value: 0.03538707314461267 and parameters: {'max_depth': 22, 'max_leaves': 621, 'learning_rate': 0.09946330876726407, 'subsample': 0.8925695613948424, 'colsample_bytree': 0.5672955248890463, 'min_child_weight': 2, 'reg_lambda': 0.0002379815043264344}. Best is trial 141 with value: 0.032646197948486784.\u001b[0m\n",
      "\u001b[32m[I 2020-12-01 11:11:05,401]\u001b[0m Trial 145 finished with value: 0.032759234968311665 and parameters: {'max_depth': 22, 'max_leaves': 788, 'learning_rate': 0.09855435817853381, 'subsample': 0.9007890484143365, 'colsample_bytree': 0.57279588411702, 'min_child_weight': 1, 'reg_lambda': 0.0003408206732555584}. Best is trial 141 with value: 0.032646197948486784.\u001b[0m\n",
      "\u001b[32m[I 2020-12-01 11:11:18,158]\u001b[0m Trial 146 finished with value: 0.032637420759913376 and parameters: {'max_depth': 22, 'max_leaves': 756, 'learning_rate': 0.0996344655225503, 'subsample': 0.9125319535144517, 'colsample_bytree': 0.580471221153372, 'min_child_weight': 1, 'reg_lambda': 0.00030859556985622904}. Best is trial 146 with value: 0.032637420759913376.\u001b[0m\n",
      "\u001b[32m[I 2020-12-01 11:11:28,209]\u001b[0m Trial 147 finished with value: 0.03515687432292044 and parameters: {'max_depth': 22, 'max_leaves': 754, 'learning_rate': 0.09997312914808318, 'subsample': 0.9151487833156757, 'colsample_bytree': 0.5798944802875567, 'min_child_weight': 2, 'reg_lambda': 0.0003347185270080102}. Best is trial 146 with value: 0.032637420759913376.\u001b[0m\n",
      "\u001b[32m[I 2020-12-01 11:11:40,999]\u001b[0m Trial 148 finished with value: 0.032810905416344606 and parameters: {'max_depth': 22, 'max_leaves': 543, 'learning_rate': 0.09948176310433322, 'subsample': 0.8727917397994156, 'colsample_bytree': 0.5582813987932875, 'min_child_weight': 1, 'reg_lambda': 0.0002675428545887822}. Best is trial 146 with value: 0.032637420759913376.\u001b[0m\n",
      "\u001b[32m[I 2020-12-01 11:11:51,710]\u001b[0m Trial 149 finished with value: 0.035305286050713716 and parameters: {'max_depth': 22, 'max_leaves': 825, 'learning_rate': 0.09915993711881216, 'subsample': 0.9000354394115789, 'colsample_bytree': 0.5862100695439535, 'min_child_weight': 2, 'reg_lambda': 0.0002540772472674151}. Best is trial 146 with value: 0.032637420759913376.\u001b[0m\n",
      "\u001b[32m[I 2020-12-01 11:12:04,230]\u001b[0m Trial 150 finished with value: 0.03285330742667743 and parameters: {'max_depth': 23, 'max_leaves': 763, 'learning_rate': 0.0944100337214962, 'subsample': 0.9104193419478195, 'colsample_bytree': 0.5724693965525558, 'min_child_weight': 1, 'reg_lambda': 0.00036800267603181384}. Best is trial 146 with value: 0.032637420759913376.\u001b[0m\n",
      "\u001b[32m[I 2020-12-01 11:12:16,767]\u001b[0m Trial 151 finished with value: 0.03278138630828122 and parameters: {'max_depth': 22, 'max_leaves': 526, 'learning_rate': 0.0989824218088196, 'subsample': 0.876766566253651, 'colsample_bytree': 0.5602589502614176, 'min_child_weight': 1, 'reg_lambda': 0.0002830777668839511}. Best is trial 146 with value: 0.032637420759913376.\u001b[0m\n",
      "\u001b[32m[I 2020-12-01 11:12:29,051]\u001b[0m Trial 152 finished with value: 0.03281038041006617 and parameters: {'max_depth': 22, 'max_leaves': 645, 'learning_rate': 0.09952625413758705, 'subsample': 0.8784398058003404, 'colsample_bytree': 0.5621991787032703, 'min_child_weight': 1, 'reg_lambda': 0.0003125557759011249}. Best is trial 146 with value: 0.032637420759913376.\u001b[0m\n",
      "\u001b[32m[I 2020-12-01 11:13:00,421]\u001b[0m Trial 153 finished with value: 1.6635398376080583 and parameters: {'max_depth': 21, 'max_leaves': 598, 'learning_rate': 0.011057247201774346, 'subsample': 0.8885817041217856, 'colsample_bytree': 0.5882620205416366, 'min_child_weight': 1, 'reg_lambda': 0.00021823585346664794}. Best is trial 146 with value: 0.032637420759913376.\u001b[0m\n",
      "\u001b[32m[I 2020-12-01 11:13:15,738]\u001b[0m Trial 154 finished with value: 0.03270261149517244 and parameters: {'max_depth': 23, 'max_leaves': 519, 'learning_rate': 0.09958939260410606, 'subsample': 0.922741555998026, 'colsample_bytree': 0.5729805723052263, 'min_child_weight': 1, 'reg_lambda': 0.00017540514201172834}. Best is trial 146 with value: 0.032637420759913376.\u001b[0m\n",
      "\u001b[32m[I 2020-12-01 11:13:25,306]\u001b[0m Trial 155 finished with value: 0.03514498259750896 and parameters: {'max_depth': 23, 'max_leaves': 521, 'learning_rate': 0.09948832983559494, 'subsample': 0.9232082679754963, 'colsample_bytree': 0.5802468740378939, 'min_child_weight': 2, 'reg_lambda': 0.0004227841791635471}. Best is trial 146 with value: 0.032637420759913376.\u001b[0m\n",
      "\u001b[32m[I 2020-12-01 11:13:40,577]\u001b[0m Trial 156 finished with value: 0.03290726705286804 and parameters: {'max_depth': 23, 'max_leaves': 416, 'learning_rate': 0.0933824219662066, 'subsample': 0.9060678591599459, 'colsample_bytree': 0.5581882839506093, 'min_child_weight': 1, 'reg_lambda': 0.0001729107664886275}. Best is trial 146 with value: 0.032637420759913376.\u001b[0m\n",
      "\u001b[32m[I 2020-12-01 11:13:53,822]\u001b[0m Trial 157 finished with value: 0.03276547484348843 and parameters: {'max_depth': 22, 'max_leaves': 559, 'learning_rate': 0.09997305533829558, 'subsample': 0.8986169653439214, 'colsample_bytree': 0.5939741015971693, 'min_child_weight': 1, 'reg_lambda': 0.00027440718865666435}. Best is trial 146 with value: 0.032637420759913376.\u001b[0m\n",
      "\u001b[32m[I 2020-12-01 11:14:04,957]\u001b[0m Trial 158 finished with value: 0.03626128198364811 and parameters: {'max_depth': 22, 'max_leaves': 565, 'learning_rate': 0.08557857721217535, 'subsample': 0.8999819265146369, 'colsample_bytree': 0.5946414309089092, 'min_child_weight': 2, 'reg_lambda': 0.0002992483237101256}. Best is trial 146 with value: 0.032637420759913376.\u001b[0m\n",
      "\u001b[32m[I 2020-12-01 11:14:26,319]\u001b[0m Trial 159 finished with value: 0.20993617010283858 and parameters: {'max_depth': 21, 'max_leaves': 471, 'learning_rate': 0.047205342061586074, 'subsample': 0.9299572210334105, 'colsample_bytree': 0.5714807048103452, 'min_child_weight': 1, 'reg_lambda': 0.00024085225008978412}. Best is trial 146 with value: 0.032637420759913376.\u001b[0m\n",
      "\u001b[32m[I 2020-12-01 11:14:35,875]\u001b[0m Trial 160 finished with value: 0.035353330021941624 and parameters: {'max_depth': 22, 'max_leaves': 500, 'learning_rate': 0.0998495178858056, 'subsample': 0.8743056775761101, 'colsample_bytree': 0.5792960820283493, 'min_child_weight': 2, 'reg_lambda': 0.0003595979651757928}. Best is trial 146 with value: 0.032637420759913376.\u001b[0m\n",
      "\u001b[32m[I 2020-12-01 11:14:50,209]\u001b[0m Trial 161 finished with value: 0.03274534495128929 and parameters: {'max_depth': 23, 'max_leaves': 643, 'learning_rate': 0.09935339039889898, 'subsample': 0.9140544936033724, 'colsample_bytree': 0.5594302538811209, 'min_child_weight': 1, 'reg_lambda': 0.000206352531908256}. Best is trial 146 with value: 0.032637420759913376.\u001b[0m\n",
      "\u001b[32m[I 2020-12-01 11:15:03,567]\u001b[0m Trial 162 finished with value: 0.0328499134502857 and parameters: {'max_depth': 23, 'max_leaves': 636, 'learning_rate': 0.09507492343679526, 'subsample': 0.9130718940931578, 'colsample_bytree': 0.5639753531589788, 'min_child_weight': 1, 'reg_lambda': 0.00027602451321145254}. Best is trial 146 with value: 0.032637420759913376.\u001b[0m\n",
      "\u001b[32m[I 2020-12-01 11:15:17,281]\u001b[0m Trial 163 finished with value: 0.0327838318644875 and parameters: {'max_depth': 22, 'max_leaves': 733, 'learning_rate': 0.09974834990492785, 'subsample': 0.8950234602269308, 'colsample_bytree': 0.5357629239063361, 'min_child_weight': 1, 'reg_lambda': 0.00021502187798449327}. Best is trial 146 with value: 0.032637420759913376.\u001b[0m\n",
      "\u001b[32m[I 2020-12-01 11:15:31,548]\u001b[0m Trial 164 finished with value: 0.03287916079638994 and parameters: {'max_depth': 22, 'max_leaves': 712, 'learning_rate': 0.09409226742587073, 'subsample': 0.9171136244697248, 'colsample_bytree': 0.5388616778238882, 'min_child_weight': 1, 'reg_lambda': 0.0002199131322464424}. Best is trial 146 with value: 0.032637420759913376.\u001b[0m\n",
      "\u001b[32m[I 2020-12-01 11:15:37,973]\u001b[0m Trial 165 finished with value: 0.03319132372181423 and parameters: {'max_depth': 21, 'max_leaves': 430, 'learning_rate': 0.09998165083736177, 'subsample': 0.8636732693976841, 'colsample_bytree': 0.5696585311148903, 'min_child_weight': 1, 'reg_lambda': 0.007946621551743492}. Best is trial 146 with value: 0.032637420759913376.\u001b[0m\n",
      "\u001b[32m[I 2020-12-01 11:15:53,547]\u001b[0m Trial 166 finished with value: 0.032643755993377384 and parameters: {'max_depth': 22, 'max_leaves': 563, 'learning_rate': 0.09979081152981494, 'subsample': 0.9081569063583913, 'colsample_bytree': 0.5852465740988146, 'min_child_weight': 1, 'reg_lambda': 0.0001578091848653741}. Best is trial 146 with value: 0.032637420759913376.\u001b[0m\n",
      "\u001b[32m[I 2020-12-01 11:16:06,413]\u001b[0m Trial 167 finished with value: 0.03538626071132044 and parameters: {'max_depth': 22, 'max_leaves': 664, 'learning_rate': 0.09397388862604636, 'subsample': 0.9096642464224521, 'colsample_bytree': 0.5920025283373622, 'min_child_weight': 2, 'reg_lambda': 0.00016351487975352247}. Best is trial 146 with value: 0.032637420759913376.\u001b[0m\n",
      "\u001b[32m[I 2020-12-01 11:16:20,211]\u001b[0m Trial 168 finished with value: 0.03320125475915227 and parameters: {'max_depth': 23, 'max_leaves': 585, 'learning_rate': 0.08739188911834007, 'subsample': 0.9277708587035429, 'colsample_bytree': 0.5826547662243007, 'min_child_weight': 1, 'reg_lambda': 0.00030318419849602947}. Best is trial 146 with value: 0.032637420759913376.\u001b[0m\n",
      "\u001b[32m[I 2020-12-01 11:16:25,632]\u001b[0m Trial 169 finished with value: 0.13236635311218667 and parameters: {'max_depth': 21, 'max_leaves': 551, 'learning_rate': 0.09999841424217297, 'subsample': 0.8508491791266339, 'colsample_bytree': 0.5734470752420563, 'min_child_weight': 12, 'reg_lambda': 0.0004041555673199142}. Best is trial 146 with value: 0.032637420759913376.\u001b[0m\n",
      "\u001b[32m[I 2020-12-01 11:16:41,686]\u001b[0m Trial 170 finished with value: 0.03293050045275329 and parameters: {'max_depth': 23, 'max_leaves': 612, 'learning_rate': 0.09440833787186124, 'subsample': 0.8814800639475596, 'colsample_bytree': 0.5971008050890695, 'min_child_weight': 1, 'reg_lambda': 0.00015153305318520616}. Best is trial 146 with value: 0.032637420759913376.\u001b[0m\n",
      "\u001b[32m[I 2020-12-01 11:16:55,622]\u001b[0m Trial 171 finished with value: 0.032825803064408264 and parameters: {'max_depth': 22, 'max_leaves': 744, 'learning_rate': 0.0998169185889302, 'subsample': 0.8925174681067799, 'colsample_bytree': 0.5524631327819932, 'min_child_weight': 1, 'reg_lambda': 0.0002054405724174732}. Best is trial 146 with value: 0.032637420759913376.\u001b[0m\n",
      "\u001b[32m[I 2020-12-01 11:17:09,310]\u001b[0m Trial 172 finished with value: 0.032859704111376724 and parameters: {'max_depth': 22, 'max_leaves': 525, 'learning_rate': 0.09561074958774837, 'subsample': 0.9052970508001177, 'colsample_bytree': 0.533911875379098, 'min_child_weight': 1, 'reg_lambda': 0.0002454675415400645}. Best is trial 146 with value: 0.032637420759913376.\u001b[0m\n",
      "\u001b[32m[I 2020-12-01 11:17:23,549]\u001b[0m Trial 173 finished with value: 0.03273769959998285 and parameters: {'max_depth': 23, 'max_leaves': 681, 'learning_rate': 0.0999433647236274, 'subsample': 0.9230099595289083, 'colsample_bytree': 0.5661452098849723, 'min_child_weight': 1, 'reg_lambda': 0.00022221891362444362}. Best is trial 146 with value: 0.032637420759913376.\u001b[0m\n",
      "\u001b[32m[I 2020-12-01 11:17:36,589]\u001b[0m Trial 174 finished with value: 0.03292164143995326 and parameters: {'max_depth': 23, 'max_leaves': 679, 'learning_rate': 0.09224193632043945, 'subsample': 0.9200000743977259, 'colsample_bytree': 0.585389698143194, 'min_child_weight': 1, 'reg_lambda': 0.0003362369399471961}. Best is trial 146 with value: 0.032637420759913376.\u001b[0m\n",
      "\u001b[32m[I 2020-12-01 11:17:53,657]\u001b[0m Trial 175 finished with value: 0.032724915558393755 and parameters: {'max_depth': 23, 'max_leaves': 577, 'learning_rate': 0.09979412483460841, 'subsample': 0.937098155590973, 'colsample_bytree': 0.8386343604932893, 'min_child_weight': 1, 'reg_lambda': 0.00025480468631143224}. Best is trial 146 with value: 0.032637420759913376.\u001b[0m\n",
      "\u001b[32m[I 2020-12-01 11:18:15,867]\u001b[0m Trial 176 finished with value: 0.03338336744395829 and parameters: {'max_depth': 23, 'max_leaves': 575, 'learning_rate': 0.086355285124893, 'subsample': 0.9376509613260694, 'colsample_bytree': 0.9140484722097177, 'min_child_weight': 1, 'reg_lambda': 0.00016115023029384594}. Best is trial 146 with value: 0.032637420759913376.\u001b[0m\n",
      "\u001b[32m[I 2020-12-01 11:18:30,958]\u001b[0m Trial 177 finished with value: 0.035675475493339215 and parameters: {'max_depth': 23, 'max_leaves': 639, 'learning_rate': 0.0919514943315488, 'subsample': 0.9259104425935293, 'colsample_bytree': 0.8227426705607725, 'min_child_weight': 2, 'reg_lambda': 0.00019895666948883302}. Best is trial 146 with value: 0.032637420759913376.\u001b[0m\n",
      "\u001b[32m[I 2020-12-01 11:19:05,328]\u001b[0m Trial 178 finished with value: 1.379741507124255 and parameters: {'max_depth': 23, 'max_leaves': 700, 'learning_rate': 0.01585198013342383, 'subsample': 0.9087505048109482, 'colsample_bytree': 0.7765872344639595, 'min_child_weight': 1, 'reg_lambda': 0.00024614311906588957}. Best is trial 146 with value: 0.032637420759913376.\u001b[0m\n",
      "\u001b[32m[I 2020-12-01 11:19:16,284]\u001b[0m Trial 179 finished with value: 0.04742341557405821 and parameters: {'max_depth': 23, 'max_leaves': 609, 'learning_rate': 0.0953210837511698, 'subsample': 0.9383237186227794, 'colsample_bytree': 0.8413331412666273, 'min_child_weight': 6, 'reg_lambda': 0.0001543966775933383}. Best is trial 146 with value: 0.032637420759913376.\u001b[0m\n",
      "\u001b[32m[I 2020-12-01 11:19:37,900]\u001b[0m Trial 180 finished with value: 0.14366714073635994 and parameters: {'max_depth': 21, 'max_leaves': 659, 'learning_rate': 0.051883065681458146, 'subsample': 0.9168830449284889, 'colsample_bytree': 0.9484877923554751, 'min_child_weight': 1, 'reg_lambda': 0.0004463241067515168}. Best is trial 146 with value: 0.032637420759913376.\u001b[0m\n",
      "\u001b[32m[I 2020-12-01 11:19:50,958]\u001b[0m Trial 181 finished with value: 0.0326911666017984 and parameters: {'max_depth': 22, 'max_leaves': 508, 'learning_rate': 0.09977871661579425, 'subsample': 0.9056427704338967, 'colsample_bytree': 0.5667555354019306, 'min_child_weight': 1, 'reg_lambda': 0.00027773288440937423}. Best is trial 146 with value: 0.032637420759913376.\u001b[0m\n",
      "\u001b[32m[I 2020-12-01 11:20:04,085]\u001b[0m Trial 182 finished with value: 0.03276369047084141 and parameters: {'max_depth': 23, 'max_leaves': 501, 'learning_rate': 0.09985920431219361, 'subsample': 0.9035739542747535, 'colsample_bytree': 0.5697941867516078, 'min_child_weight': 1, 'reg_lambda': 0.00027315898585367963}. Best is trial 146 with value: 0.032637420759913376.\u001b[0m\n",
      "\u001b[32m[I 2020-12-01 11:20:19,332]\u001b[0m Trial 183 finished with value: 0.0327665534130301 and parameters: {'max_depth': 23, 'max_leaves': 509, 'learning_rate': 0.09676508085631554, 'subsample': 0.9302677625633065, 'colsample_bytree': 0.5680907761435854, 'min_child_weight': 1, 'reg_lambda': 0.00020079143090195458}. Best is trial 146 with value: 0.032637420759913376.\u001b[0m\n",
      "\u001b[32m[I 2020-12-01 11:20:32,332]\u001b[0m Trial 184 finished with value: 0.03306472985753352 and parameters: {'max_depth': 23, 'max_leaves': 462, 'learning_rate': 0.08907659823115094, 'subsample': 0.9060015807837632, 'colsample_bytree': 0.574086572771465, 'min_child_weight': 1, 'reg_lambda': 0.0003533983175542254}. Best is trial 146 with value: 0.032637420759913376.\u001b[0m\n",
      "\u001b[32m[I 2020-12-01 11:20:58,990]\u001b[0m Trial 186 finished with value: 0.03533589351036722 and parameters: {'max_depth': 22, 'max_leaves': 684, 'learning_rate': 0.0930176805327879, 'subsample': 0.9486440200194058, 'colsample_bytree': 0.5526965853280336, 'min_child_weight': 2, 'reg_lambda': 0.00017660861388644447}. Best is trial 146 with value: 0.032637420759913376.\u001b[0m\n",
      "\u001b[32m[I 2020-12-01 11:21:14,672]\u001b[0m Trial 187 finished with value: 0.03281342467484393 and parameters: {'max_depth': 23, 'max_leaves': 811, 'learning_rate': 0.09987247546701564, 'subsample': 0.8869818007141496, 'colsample_bytree': 0.5816025064686682, 'min_child_weight': 1, 'reg_lambda': 0.00014828550264707428}. Best is trial 146 with value: 0.032637420759913376.\u001b[0m\n",
      "\u001b[32m[I 2020-12-01 11:21:25,524]\u001b[0m Trial 188 finished with value: 0.03538705336403255 and parameters: {'max_depth': 22, 'max_leaves': 583, 'learning_rate': 0.09554462798399606, 'subsample': 0.9237091844329952, 'colsample_bytree': 0.5760016682485984, 'min_child_weight': 2, 'reg_lambda': 0.0002718103820829948}. Best is trial 146 with value: 0.032637420759913376.\u001b[0m\n",
      "\u001b[32m[I 2020-12-01 11:21:45,399]\u001b[0m Trial 189 finished with value: 0.03321719082548771 and parameters: {'max_depth': 23, 'max_leaves': 477, 'learning_rate': 0.08939871141718357, 'subsample': 0.9040379476597105, 'colsample_bytree': 0.8864673003411878, 'min_child_weight': 1, 'reg_lambda': 0.00019650553063425952}. Best is trial 146 with value: 0.032637420759913376.\u001b[0m\n",
      "\u001b[32m[I 2020-12-01 11:22:11,464]\u001b[0m Trial 190 finished with value: 0.6000664783128643 and parameters: {'max_depth': 21, 'max_leaves': 398, 'learning_rate': 0.03237723393346259, 'subsample': 0.9354109183928322, 'colsample_bytree': 0.7526891835081035, 'min_child_weight': 1, 'reg_lambda': 0.0003129849100230009}. Best is trial 146 with value: 0.032637420759913376.\u001b[0m\n",
      "\u001b[32m[I 2020-12-01 11:22:25,197]\u001b[0m Trial 191 finished with value: 0.032913413938198376 and parameters: {'max_depth': 22, 'max_leaves': 550, 'learning_rate': 0.09615715097286108, 'subsample': 0.8938763414973547, 'colsample_bytree': 0.5909911626862886, 'min_child_weight': 1, 'reg_lambda': 0.00026122737242863594}. Best is trial 146 with value: 0.032637420759913376.\u001b[0m\n",
      "\u001b[32m[I 2020-12-01 11:22:39,138]\u001b[0m Trial 192 finished with value: 0.03276165235167242 and parameters: {'max_depth': 20, 'max_leaves': 563, 'learning_rate': 0.09980848931702797, 'subsample': 0.9012717346988118, 'colsample_bytree': 0.5633230449117869, 'min_child_weight': 1, 'reg_lambda': 0.00022914289138842}. Best is trial 146 with value: 0.032637420759913376.\u001b[0m\n",
      "\u001b[32m[I 2020-12-01 11:22:53,678]\u001b[0m Trial 193 finished with value: 0.03295885358165023 and parameters: {'max_depth': 20, 'max_leaves': 654, 'learning_rate': 0.09227750229519786, 'subsample': 0.9146691537969114, 'colsample_bytree': 0.5521831613695141, 'min_child_weight': 1, 'reg_lambda': 0.0002211616292354907}. Best is trial 146 with value: 0.032637420759913376.\u001b[0m\n",
      "\u001b[32m[I 2020-12-01 11:23:09,418]\u001b[0m Trial 194 finished with value: 0.03273109571589737 and parameters: {'max_depth': 23, 'max_leaves': 604, 'learning_rate': 0.09984616034430517, 'subsample': 0.9027996591415122, 'colsample_bytree': 0.5662753813152478, 'min_child_weight': 1, 'reg_lambda': 0.0001459006541565198}. Best is trial 146 with value: 0.032637420759913376.\u001b[0m\n",
      "\u001b[32m[I 2020-12-01 11:23:24,718]\u001b[0m Trial 195 finished with value: 0.03287136444327427 and parameters: {'max_depth': 22, 'max_leaves': 604, 'learning_rate': 0.0963964553140846, 'subsample': 0.8869650443133988, 'colsample_bytree': 0.5570406709287188, 'min_child_weight': 1, 'reg_lambda': 0.00015564955194630897}. Best is trial 146 with value: 0.032637420759913376.\u001b[0m\n",
      "\u001b[32m[I 2020-12-01 11:23:42,334]\u001b[0m Trial 196 finished with value: 0.033268158105689 and parameters: {'max_depth': 24, 'max_leaves': 631, 'learning_rate': 0.08668032971383509, 'subsample': 0.9216392458639227, 'colsample_bytree': 0.5646802723438867, 'min_child_weight': 1, 'reg_lambda': 0.00013591845946944926}. Best is trial 146 with value: 0.032637420759913376.\u001b[0m\n",
      "\u001b[32m[I 2020-12-01 11:23:53,794]\u001b[0m Trial 197 finished with value: 0.03538977544124779 and parameters: {'max_depth': 23, 'max_leaves': 723, 'learning_rate': 0.09955199118655934, 'subsample': 0.8716188748718299, 'colsample_bytree': 0.5439996908467533, 'min_child_weight': 2, 'reg_lambda': 0.0001756416515560648}. Best is trial 146 with value: 0.032637420759913376.\u001b[0m\n",
      "\u001b[32m[I 2020-12-01 11:24:10,432]\u001b[0m Trial 198 finished with value: 0.03295432604506804 and parameters: {'max_depth': 24, 'max_leaves': 579, 'learning_rate': 0.09275291810602401, 'subsample': 0.8932703040782352, 'colsample_bytree': 0.5768595977934662, 'min_child_weight': 1, 'reg_lambda': 0.00013822528755728323}. Best is trial 146 with value: 0.032637420759913376.\u001b[0m\n",
      "\u001b[32m[I 2020-12-01 11:24:22,249]\u001b[0m Trial 199 finished with value: 0.03520466189090723 and parameters: {'max_depth': 23, 'max_leaves': 665, 'learning_rate': 0.09948431134399259, 'subsample': 0.9111188892254056, 'colsample_bytree': 0.562154311353295, 'min_child_weight': 2, 'reg_lambda': 0.00018565133779866637}. Best is trial 146 with value: 0.032637420759913376.\u001b[0m\n",
      "\u001b[32m[I 2020-12-01 11:24:36,517]\u001b[0m Trial 200 finished with value: 0.03281236049458599 and parameters: {'max_depth': 20, 'max_leaves': 544, 'learning_rate': 0.09535487405649681, 'subsample': 0.9314357427490703, 'colsample_bytree': 0.5508286793195786, 'min_child_weight': 1, 'reg_lambda': 0.00022911294432216613}. Best is trial 146 with value: 0.032637420759913376.\u001b[0m\n",
      "\u001b[32m[I 2020-12-01 11:24:48,799]\u001b[0m Trial 201 finished with value: 0.0327250487116323 and parameters: {'max_depth': 23, 'max_leaves': 508, 'learning_rate': 0.09978123686843499, 'subsample': 0.9035747995800212, 'colsample_bytree': 0.5685872159174297, 'min_child_weight': 1, 'reg_lambda': 0.00034861262956962846}. Best is trial 146 with value: 0.032637420759913376.\u001b[0m\n",
      "\u001b[32m[I 2020-12-01 11:25:11,735]\u001b[0m Trial 202 finished with value: 1.2778583845411817 and parameters: {'max_depth': 23, 'max_leaves': 783, 'learning_rate': 0.017675122915127333, 'subsample': 0.906315052268606, 'colsample_bytree': 0.5680374776563026, 'min_child_weight': 1, 'reg_lambda': 0.0003577223470297348}. Best is trial 146 with value: 0.032637420759913376.\u001b[0m\n",
      "\u001b[32m[I 2020-12-01 11:25:26,277]\u001b[0m Trial 203 finished with value: 0.03269950673295813 and parameters: {'max_depth': 22, 'max_leaves': 593, 'learning_rate': 0.09999599030099128, 'subsample': 0.9450845636210911, 'colsample_bytree': 0.5828532186592872, 'min_child_weight': 1, 'reg_lambda': 0.0002330810210913712}. Best is trial 146 with value: 0.032637420759913376.\u001b[0m\n",
      "\u001b[32m[I 2020-12-01 11:25:41,639]\u001b[0m Trial 204 finished with value: 0.03271690404763024 and parameters: {'max_depth': 22, 'max_leaves': 632, 'learning_rate': 0.09999657675084953, 'subsample': 0.9547874528098038, 'colsample_bytree': 0.5852715337717734, 'min_child_weight': 1, 'reg_lambda': 0.00019215024707402488}. Best is trial 146 with value: 0.032637420759913376.\u001b[0m\n",
      "\u001b[32m[I 2020-12-01 11:25:48,239]\u001b[0m Trial 205 finished with value: 0.13027646726586 and parameters: {'max_depth': 22, 'max_leaves': 637, 'learning_rate': 0.0907803637593488, 'subsample': 0.9447278140198616, 'colsample_bytree': 0.5815502229980598, 'min_child_weight': 13, 'reg_lambda': 0.00019626448054234417}. Best is trial 146 with value: 0.032637420759913376.\u001b[0m\n",
      "\u001b[32m[I 2020-12-01 11:26:04,542]\u001b[0m Trial 206 finished with value: 0.03267528792678264 and parameters: {'max_depth': 21, 'max_leaves': 701, 'learning_rate': 0.09993115139645836, 'subsample': 0.9556859556155851, 'colsample_bytree': 0.5850329730780268, 'min_child_weight': 1, 'reg_lambda': 0.00015180081209435818}. Best is trial 146 with value: 0.032637420759913376.\u001b[0m\n",
      "\u001b[32m[I 2020-12-01 11:26:37,778]\u001b[0m Trial 208 finished with value: 0.03263940346366108 and parameters: {'max_depth': 22, 'max_leaves': 619, 'learning_rate': 0.09996374547591588, 'subsample': 0.9853777170146686, 'colsample_bytree': 0.5939020023906691, 'min_child_weight': 1, 'reg_lambda': 0.0001718134935125477}. Best is trial 146 with value: 0.032637420759913376.\u001b[0m\n",
      "\u001b[32m[I 2020-12-01 11:26:54,680]\u001b[0m Trial 209 finished with value: 0.0326214251996198 and parameters: {'max_depth': 22, 'max_leaves': 710, 'learning_rate': 0.09993014784609691, 'subsample': 0.9825100767287727, 'colsample_bytree': 0.5855540441574119, 'min_child_weight': 1, 'reg_lambda': 0.00014053902423994362}. Best is trial 209 with value: 0.0326214251996198.\u001b[0m\n",
      "\u001b[32m[I 2020-12-01 11:27:08,981]\u001b[0m Trial 210 finished with value: 0.035341381519529744 and parameters: {'max_depth': 21, 'max_leaves': 728, 'learning_rate': 0.09150289151835524, 'subsample': 0.9832663491318725, 'colsample_bytree': 0.5889856835789105, 'min_child_weight': 2, 'reg_lambda': 0.00013461144482289784}. Best is trial 209 with value: 0.0326214251996198.\u001b[0m\n",
      "\u001b[32m[I 2020-12-01 11:27:25,386]\u001b[0m Trial 211 finished with value: 0.03268368184383321 and parameters: {'max_depth': 22, 'max_leaves': 706, 'learning_rate': 0.09974670678861411, 'subsample': 0.989846969081657, 'colsample_bytree': 0.597053906642143, 'min_child_weight': 1, 'reg_lambda': 0.00016474878320736053}. Best is trial 209 with value: 0.0326214251996198.\u001b[0m\n",
      "\u001b[32m[I 2020-12-01 11:27:41,685]\u001b[0m Trial 212 finished with value: 0.03264910514949207 and parameters: {'max_depth': 22, 'max_leaves': 729, 'learning_rate': 0.09976024496293957, 'subsample': 0.9890117034158569, 'colsample_bytree': 0.5968681003681102, 'min_child_weight': 1, 'reg_lambda': 0.00016632795139852024}. Best is trial 209 with value: 0.0326214251996198.\u001b[0m\n",
      "\u001b[32m[I 2020-12-01 11:27:59,428]\u001b[0m Trial 213 finished with value: 0.03277939304690203 and parameters: {'max_depth': 22, 'max_leaves': 719, 'learning_rate': 0.09615933052422365, 'subsample': 0.9757897830542241, 'colsample_bytree': 0.6063744284646974, 'min_child_weight': 1, 'reg_lambda': 0.00013202315760975656}. Best is trial 209 with value: 0.0326214251996198.\u001b[0m\n",
      "\u001b[32m[I 2020-12-01 11:28:16,097]\u001b[0m Trial 214 finished with value: 0.03269406144558543 and parameters: {'max_depth': 22, 'max_leaves': 698, 'learning_rate': 0.09937270777970403, 'subsample': 0.9865810040862051, 'colsample_bytree': 0.5952539264707765, 'min_child_weight': 1, 'reg_lambda': 0.00015107869842528442}. Best is trial 209 with value: 0.0326214251996198.\u001b[0m\n",
      "\u001b[32m[I 2020-12-01 11:28:33,264]\u001b[0m Trial 215 finished with value: 0.03273611944383496 and parameters: {'max_depth': 21, 'max_leaves': 844, 'learning_rate': 0.09573582375258997, 'subsample': 0.9905832950896812, 'colsample_bytree': 0.6176703504785471, 'min_child_weight': 1, 'reg_lambda': 0.00016027865583413103}. Best is trial 209 with value: 0.0326214251996198.\u001b[0m\n",
      "\u001b[32m[I 2020-12-01 11:29:13,094]\u001b[0m Trial 216 finished with value: 1.4397108582207974 and parameters: {'max_depth': 22, 'max_leaves': 709, 'learning_rate': 0.014806297949863323, 'subsample': 0.9669276212950193, 'colsample_bytree': 0.5960733348955617, 'min_child_weight': 1, 'reg_lambda': 0.00013278608284067448}. Best is trial 209 with value: 0.0326214251996198.\u001b[0m\n",
      "\u001b[32m[I 2020-12-01 11:29:30,262]\u001b[0m Trial 217 finished with value: 0.03270062549298312 and parameters: {'max_depth': 22, 'max_leaves': 740, 'learning_rate': 0.09602775811220912, 'subsample': 0.9893130020951797, 'colsample_bytree': 0.6148376036357214, 'min_child_weight': 1, 'reg_lambda': 0.00015642081788294236}. Best is trial 209 with value: 0.0326214251996198.\u001b[0m\n",
      "\u001b[32m[I 2020-12-01 11:29:47,168]\u001b[0m Trial 218 finished with value: 0.032628673605178266 and parameters: {'max_depth': 22, 'max_leaves': 611, 'learning_rate': 0.09987524685904708, 'subsample': 0.9826035084441859, 'colsample_bytree': 0.6138990238254185, 'min_child_weight': 1, 'reg_lambda': 0.00014864694890855476}. Best is trial 209 with value: 0.0326214251996198.\u001b[0m\n",
      "\u001b[32m[I 2020-12-01 11:30:06,114]\u001b[0m Trial 219 finished with value: 0.03310470639848619 and parameters: {'max_depth': 22, 'max_leaves': 666, 'learning_rate': 0.08802226715026035, 'subsample': 0.9839580767663174, 'colsample_bytree': 0.6043420760042584, 'min_child_weight': 1, 'reg_lambda': 0.00012105357366559812}. Best is trial 209 with value: 0.0326214251996198.\u001b[0m\n",
      "\u001b[32m[I 2020-12-01 11:30:19,629]\u001b[0m Trial 220 finished with value: 0.03513369003972043 and parameters: {'max_depth': 21, 'max_leaves': 757, 'learning_rate': 0.09528458655496792, 'subsample': 0.9988783760695056, 'colsample_bytree': 0.6150359910781253, 'min_child_weight': 2, 'reg_lambda': 0.0001684384657445482}. Best is trial 209 with value: 0.0326214251996198.\u001b[0m\n",
      "\u001b[32m[I 2020-12-01 11:30:36,905]\u001b[0m Trial 221 finished with value: 0.03278592860023265 and parameters: {'max_depth': 22, 'max_leaves': 593, 'learning_rate': 0.09593303483700201, 'subsample': 0.9780953178643119, 'colsample_bytree': 0.6124215621970599, 'min_child_weight': 1, 'reg_lambda': 0.0001453772356800995}. Best is trial 209 with value: 0.0326214251996198.\u001b[0m\n",
      "\u001b[32m[I 2020-12-01 11:30:52,810]\u001b[0m Trial 222 finished with value: 0.03263490997931281 and parameters: {'max_depth': 22, 'max_leaves': 618, 'learning_rate': 0.09988439899983158, 'subsample': 0.9626765898372228, 'colsample_bytree': 0.5896407538899405, 'min_child_weight': 1, 'reg_lambda': 0.00015979670674632287}. Best is trial 209 with value: 0.0326214251996198.\u001b[0m\n",
      "\u001b[32m[I 2020-12-01 11:31:08,722]\u001b[0m Trial 223 finished with value: 0.03268483350000134 and parameters: {'max_depth': 22, 'max_leaves': 750, 'learning_rate': 0.09969436559285999, 'subsample': 0.9605124570714928, 'colsample_bytree': 0.5981517361170364, 'min_child_weight': 1, 'reg_lambda': 0.00016377942628569326}. Best is trial 209 with value: 0.0326214251996198.\u001b[0m\n",
      "\u001b[32m[I 2020-12-01 11:31:25,904]\u001b[0m Trial 224 finished with value: 0.03274914349553219 and parameters: {'max_depth': 22, 'max_leaves': 750, 'learning_rate': 0.09975407791950408, 'subsample': 0.9616172886820051, 'colsample_bytree': 0.5956680455470216, 'min_child_weight': 1, 'reg_lambda': 0.0001201119598233199}. Best is trial 209 with value: 0.0326214251996198.\u001b[0m\n",
      "\u001b[32m[I 2020-12-01 11:31:42,027]\u001b[0m Trial 225 finished with value: 0.03273566070450084 and parameters: {'max_depth': 21, 'max_leaves': 781, 'learning_rate': 0.09983399639854049, 'subsample': 0.9712609880596834, 'colsample_bytree': 0.6025095266597751, 'min_child_weight': 1, 'reg_lambda': 0.00016406199905175093}. Best is trial 209 with value: 0.0326214251996198.\u001b[0m\n",
      "\u001b[32m[I 2020-12-01 11:32:00,318]\u001b[0m Trial 226 finished with value: 0.0327703194846964 and parameters: {'max_depth': 22, 'max_leaves': 686, 'learning_rate': 0.09192205220718284, 'subsample': 0.990127782199782, 'colsample_bytree': 0.5891167572121799, 'min_child_weight': 1, 'reg_lambda': 0.00012027879792366403}. Best is trial 209 with value: 0.0326214251996198.\u001b[0m\n",
      "\u001b[32m[I 2020-12-01 11:32:17,760]\u001b[0m Trial 227 finished with value: 0.03295790157931936 and parameters: {'max_depth': 22, 'max_leaves': 741, 'learning_rate': 0.09235064117903143, 'subsample': 0.9517954885955648, 'colsample_bytree': 0.6114959353249496, 'min_child_weight': 1, 'reg_lambda': 0.00014376477084382071}. Best is trial 209 with value: 0.0326214251996198.\u001b[0m\n",
      "\u001b[32m[I 2020-12-01 11:32:22,308]\u001b[0m Trial 228 finished with value: 0.03518291783107377 and parameters: {'max_depth': 21, 'max_leaves': 703, 'learning_rate': 0.09566381662468913, 'subsample': 0.9602170086374837, 'colsample_bytree': 0.5859227079464506, 'min_child_weight': 1, 'reg_lambda': 0.11360312553776365}. Best is trial 209 with value: 0.0326214251996198.\u001b[0m\n",
      "\u001b[32m[I 2020-12-01 11:32:38,016]\u001b[0m Trial 229 finished with value: 0.03265134983074305 and parameters: {'max_depth': 22, 'max_leaves': 525, 'learning_rate': 0.09993843044714706, 'subsample': 0.9774128820022124, 'colsample_bytree': 0.5983500104707072, 'min_child_weight': 1, 'reg_lambda': 0.0001812505884005285}. Best is trial 209 with value: 0.0326214251996198.\u001b[0m\n",
      "\u001b[32m[I 2020-12-01 11:32:51,788]\u001b[0m Trial 230 finished with value: 0.03560971735785543 and parameters: {'max_depth': 22, 'max_leaves': 887, 'learning_rate': 0.08897982589850792, 'subsample': 0.9752311286300096, 'colsample_bytree': 0.625947775226217, 'min_child_weight': 2, 'reg_lambda': 0.00018351584977178254}. Best is trial 209 with value: 0.0326214251996198.\u001b[0m\n",
      "\u001b[32m[I 2020-12-01 11:33:08,022]\u001b[0m Trial 231 finished with value: 0.03266664436034044 and parameters: {'max_depth': 22, 'max_leaves': 528, 'learning_rate': 0.09996577994523018, 'subsample': 0.9862687224384987, 'colsample_bytree': 0.6026453603801131, 'min_child_weight': 1, 'reg_lambda': 0.00016539115083561302}. Best is trial 209 with value: 0.0326214251996198.\u001b[0m\n",
      "\u001b[32m[I 2020-12-01 11:33:24,637]\u001b[0m Trial 232 finished with value: 0.03270550885116422 and parameters: {'max_depth': 22, 'max_leaves': 535, 'learning_rate': 0.09563868226374354, 'subsample': 0.9912316780741174, 'colsample_bytree': 0.5969171430239657, 'min_child_weight': 1, 'reg_lambda': 0.00016301267005824056}. Best is trial 209 with value: 0.0326214251996198.\u001b[0m\n",
      "\u001b[32m[I 2020-12-01 11:33:41,406]\u001b[0m Trial 233 finished with value: 0.032835652968946104 and parameters: {'max_depth': 22, 'max_leaves': 542, 'learning_rate': 0.09432331499017677, 'subsample': 0.9869095923064478, 'colsample_bytree': 0.5979896163414149, 'min_child_weight': 1, 'reg_lambda': 0.00016164708933981336}. Best is trial 209 with value: 0.0326214251996198.\u001b[0m\n",
      "\u001b[32m[I 2020-12-01 11:33:59,093]\u001b[0m Trial 234 finished with value: 0.03264534004299976 and parameters: {'max_depth': 21, 'max_leaves': 455, 'learning_rate': 0.0996387117158517, 'subsample': 0.9998504356035971, 'colsample_bytree': 0.6099278077905639, 'min_child_weight': 1, 'reg_lambda': 0.00013120956036827977}. Best is trial 209 with value: 0.0326214251996198.\u001b[0m\n",
      "\u001b[32m[I 2020-12-01 11:34:17,634]\u001b[0m Trial 235 finished with value: 0.03270107793842157 and parameters: {'max_depth': 21, 'max_leaves': 469, 'learning_rate': 0.09569489038366465, 'subsample': 0.9894337309337803, 'colsample_bytree': 0.6110664367249133, 'min_child_weight': 1, 'reg_lambda': 0.00011412773169376443}. Best is trial 209 with value: 0.0326214251996198.\u001b[0m\n",
      "\u001b[32m[I 2020-12-01 11:34:36,266]\u001b[0m Trial 236 finished with value: 0.03271356527435361 and parameters: {'max_depth': 21, 'max_leaves': 488, 'learning_rate': 0.0996799692319659, 'subsample': 0.9984962700479036, 'colsample_bytree': 0.6103508401967476, 'min_child_weight': 1, 'reg_lambda': 0.00010283509351820941}. Best is trial 209 with value: 0.0326214251996198.\u001b[0m\n",
      "\u001b[32m[I 2020-12-01 11:34:54,906]\u001b[0m Trial 237 finished with value: 0.032845319487659314 and parameters: {'max_depth': 21, 'max_leaves': 466, 'learning_rate': 0.09165742957853795, 'subsample': 0.9790522904899956, 'colsample_bytree': 0.6214168551085381, 'min_child_weight': 1, 'reg_lambda': 0.00012063842897734824}. Best is trial 209 with value: 0.0326214251996198.\u001b[0m\n",
      "\u001b[32m[I 2020-12-01 11:35:12,560]\u001b[0m Trial 238 finished with value: 0.032596680990013144 and parameters: {'max_depth': 21, 'max_leaves': 442, 'learning_rate': 0.0999325081790808, 'subsample': 0.998894987379509, 'colsample_bytree': 0.6348458028905883, 'min_child_weight': 1, 'reg_lambda': 0.00013286971052919094}. Best is trial 238 with value: 0.032596680990013144.\u001b[0m\n",
      "\u001b[32m[I 2020-12-01 11:35:30,695]\u001b[0m Trial 239 finished with value: 0.03264426080127941 and parameters: {'max_depth': 21, 'max_leaves': 385, 'learning_rate': 0.09531095294164162, 'subsample': 0.997414162313132, 'colsample_bytree': 0.6292386576671787, 'min_child_weight': 1, 'reg_lambda': 0.00013069772349282564}. Best is trial 238 with value: 0.032596680990013144.\u001b[0m\n",
      "\u001b[32m[I 2020-12-01 11:35:45,673]\u001b[0m Trial 240 finished with value: 0.034926818724628696 and parameters: {'max_depth': 20, 'max_leaves': 442, 'learning_rate': 0.09984461716464316, 'subsample': 0.9998247329518649, 'colsample_bytree': 0.6409370740389696, 'min_child_weight': 2, 'reg_lambda': 0.00010095253107183147}. Best is trial 238 with value: 0.032596680990013144.\u001b[0m\n",
      "\u001b[32m[I 2020-12-01 11:36:03,706]\u001b[0m Trial 241 finished with value: 0.03276412971819899 and parameters: {'max_depth': 21, 'max_leaves': 443, 'learning_rate': 0.09542701448044823, 'subsample': 0.9850419021347367, 'colsample_bytree': 0.6315484988534213, 'min_child_weight': 1, 'reg_lambda': 0.00013030310031061378}. Best is trial 238 with value: 0.032596680990013144.\u001b[0m\n",
      "\u001b[32m[I 2020-12-01 11:36:22,589]\u001b[0m Trial 242 finished with value: 0.03281019241403042 and parameters: {'max_depth': 21, 'max_leaves': 368, 'learning_rate': 0.09573716412625827, 'subsample': 0.9709109601694218, 'colsample_bytree': 0.6092812713863066, 'min_child_weight': 1, 'reg_lambda': 0.00010076201216705883}. Best is trial 238 with value: 0.032596680990013144.\u001b[0m\n",
      "\u001b[32m[I 2020-12-01 11:36:41,027]\u001b[0m Trial 243 finished with value: 0.03282400917647581 and parameters: {'max_depth': 21, 'max_leaves': 377, 'learning_rate': 0.09053801818398001, 'subsample': 0.9997682811047882, 'colsample_bytree': 0.6163789016032961, 'min_child_weight': 1, 'reg_lambda': 0.00013613085988028775}. Best is trial 238 with value: 0.032596680990013144.\u001b[0m\n",
      "\u001b[32m[I 2020-12-01 11:36:58,564]\u001b[0m Trial 244 finished with value: 0.03263618334255595 and parameters: {'max_depth': 21, 'max_leaves': 399, 'learning_rate': 0.09994705571874662, 'subsample': 0.9906560234800255, 'colsample_bytree': 0.6073319543986571, 'min_child_weight': 1, 'reg_lambda': 0.00012672976043171915}. Best is trial 238 with value: 0.032596680990013144.\u001b[0m\n",
      "\u001b[32m[I 2020-12-01 11:37:15,551]\u001b[0m Trial 245 finished with value: 0.032720358010597604 and parameters: {'max_depth': 20, 'max_leaves': 403, 'learning_rate': 0.09994116978575657, 'subsample': 0.9797286579459539, 'colsample_bytree': 0.6327435527053668, 'min_child_weight': 1, 'reg_lambda': 0.0001469625246254663}. Best is trial 238 with value: 0.032596680990013144.\u001b[0m\n",
      "\u001b[32m[I 2020-12-01 11:37:32,520]\u001b[0m Trial 246 finished with value: 0.0326267469817785 and parameters: {'max_depth': 21, 'max_leaves': 283, 'learning_rate': 0.09986170508156607, 'subsample': 0.9689496952760451, 'colsample_bytree': 0.5998523527724304, 'min_child_weight': 1, 'reg_lambda': 0.0001287342936741992}. Best is trial 238 with value: 0.032596680990013144.\u001b[0m\n",
      "\u001b[32m[I 2020-12-01 11:37:49,694]\u001b[0m Trial 247 finished with value: 0.0327298222672225 and parameters: {'max_depth': 21, 'max_leaves': 309, 'learning_rate': 0.09980151659669474, 'subsample': 0.9673280772582674, 'colsample_bytree': 0.6013421635856409, 'min_child_weight': 1, 'reg_lambda': 0.00012298183455709198}. Best is trial 238 with value: 0.032596680990013144.\u001b[0m\n",
      "\u001b[32m[I 2020-12-01 11:38:07,046]\u001b[0m Trial 248 finished with value: 0.03267614629245839 and parameters: {'max_depth': 20, 'max_leaves': 242, 'learning_rate': 0.0997618247833909, 'subsample': 0.9760835617757927, 'colsample_bytree': 0.5944149835587733, 'min_child_weight': 1, 'reg_lambda': 0.00011698042887984433}. Best is trial 238 with value: 0.032596680990013144.\u001b[0m\n",
      "\u001b[32m[I 2020-12-01 11:38:15,469]\u001b[0m Trial 249 finished with value: 0.0711627243646455 and parameters: {'max_depth': 21, 'max_leaves': 188, 'learning_rate': 0.09991744444213815, 'subsample': 0.9755242847697708, 'colsample_bytree': 0.5958622614387173, 'min_child_weight': 9, 'reg_lambda': 0.00010365744565307408}. Best is trial 238 with value: 0.032596680990013144.\u001b[0m\n"
     ]
    }
   ],
   "source": [
    "study = optuna.create_study()\n",
    "study.optimize(objective, n_trials=250)"
   ]
  },
  {
   "cell_type": "code",
   "execution_count": 9,
   "metadata": {
    "colab": {
     "base_uri": "https://localhost:8080/"
    },
    "executionInfo": {
     "elapsed": 2080,
     "status": "ok",
     "timestamp": 1606822760821,
     "user": {
      "displayName": "TAPAS DAS",
      "photoUrl": "https://lh3.googleusercontent.com/a-/AOh14GiyffdGKiPCR_UwVittzTcbBFms70IkGfU15fatCA=s64",
      "userId": "10798398878324948542"
     },
     "user_tz": -330
    },
    "id": "w3ycyNBUYB1b",
    "outputId": "c73c3e9c-2491-4324-f519-4201484f7759"
   },
   "outputs": [
    {
     "name": "stdout",
     "output_type": "stream",
     "text": [
      "Number of finished trials: 250\n",
      "Best trial:\n",
      " Value: 0.032596680990013144\n",
      "Params: \n",
      " max_depth: 21\n",
      " max_leaves: 442\n",
      " learning_rate: 0.0999325081790808\n",
      " subsample: 0.998894987379509\n",
      " colsample_bytree: 0.6348458028905883\n",
      " min_child_weight: 1\n",
      " reg_lambda: 0.00013286971052919094\n"
     ]
    }
   ],
   "source": [
    "print(\"Number of finished trials: {}\".format(len(study.trials)))\n",
    "\n",
    "print(\"Best trial:\")\n",
    "trial = study.best_trial\n",
    "\n",
    "print(\" Value: {}\".format(trial.value))\n",
    "\n",
    "print(\"Params: \")\n",
    "for key, value in trial.params.items():\n",
    "    print(\" {}: {}\".format(key, value))"
   ]
  },
  {
   "cell_type": "markdown",
   "metadata": {
    "id": "eVLHuPtoaIwr"
   },
   "source": [
    "## Build and validate the model"
   ]
  },
  {
   "cell_type": "code",
   "execution_count": 10,
   "metadata": {
    "colab": {
     "base_uri": "https://localhost:8080/"
    },
    "executionInfo": {
     "elapsed": 91747,
     "status": "ok",
     "timestamp": 1606822905652,
     "user": {
      "displayName": "TAPAS DAS",
      "photoUrl": "https://lh3.googleusercontent.com/a-/AOh14GiyffdGKiPCR_UwVittzTcbBFms70IkGfU15fatCA=s64",
      "userId": "10798398878324948542"
     },
     "user_tz": -330
    },
    "id": "YasJCcWmYBxp",
    "outputId": "4a03c540-cbd2-4938-e7dc-171d0c2520e9"
   },
   "outputs": [
    {
     "name": "stdout",
     "output_type": "stream",
     "text": [
      "[0]\tvalidation_0-rmsle:2.30827\n",
      "Will train until validation_0-rmsle hasn't improved in 200 rounds.\n",
      "[99]\tvalidation_0-rmsle:0.06442\n",
      "Seed-24 | Fold-0 | RMSE Score: 0.06442229813818282\n",
      "[0]\tvalidation_0-rmsle:2.33372\n",
      "Will train until validation_0-rmsle hasn't improved in 200 rounds.\n",
      "[99]\tvalidation_0-rmsle:0.02263\n",
      "Seed-24 | Fold-1 | RMSE Score: 0.022633675062865177\n",
      "[0]\tvalidation_0-rmsle:2.33512\n",
      "Will train until validation_0-rmsle hasn't improved in 200 rounds.\n",
      "[99]\tvalidation_0-rmsle:0.03190\n",
      "Seed-24 | Fold-2 | RMSE Score: 0.03188666392474331\n",
      "[0]\tvalidation_0-rmsle:2.31618\n",
      "Will train until validation_0-rmsle hasn't improved in 200 rounds.\n",
      "[99]\tvalidation_0-rmsle:0.02476\n",
      "Seed-24 | Fold-3 | RMSE Score: 0.024761215918117446\n",
      "[0]\tvalidation_0-rmsle:2.33543\n",
      "Will train until validation_0-rmsle hasn't improved in 200 rounds.\n",
      "[99]\tvalidation_0-rmsle:0.01952\n",
      "Seed-24 | Fold-4 | RMSE Score: 0.01952345069534827\n",
      "[0]\tvalidation_0-rmsle:2.32525\n",
      "Will train until validation_0-rmsle hasn't improved in 200 rounds.\n",
      "[99]\tvalidation_0-rmsle:0.02673\n",
      "Seed-24 | Fold-5 | RMSE Score: 0.026727304268892287\n",
      "[0]\tvalidation_0-rmsle:2.32328\n",
      "Will train until validation_0-rmsle hasn't improved in 200 rounds.\n",
      "[99]\tvalidation_0-rmsle:0.02272\n",
      "Seed-24 | Fold-6 | RMSE Score: 0.02272344726374239\n",
      "\n",
      "Seed: 24 | Aggregate Log Loss: 0.03038257932455596\n",
      "\n",
      "\n",
      "[0]\tvalidation_0-rmsle:2.33364\n",
      "Will train until validation_0-rmsle hasn't improved in 200 rounds.\n",
      "[99]\tvalidation_0-rmsle:0.03736\n",
      "Seed-3 | Fold-0 | RMSE Score: 0.03736305805082886\n",
      "[0]\tvalidation_0-rmsle:2.32837\n",
      "Will train until validation_0-rmsle hasn't improved in 200 rounds.\n",
      "[99]\tvalidation_0-rmsle:0.05202\n",
      "Seed-3 | Fold-1 | RMSE Score: 0.05202320365114306\n",
      "[0]\tvalidation_0-rmsle:2.31663\n",
      "Will train until validation_0-rmsle hasn't improved in 200 rounds.\n",
      "[99]\tvalidation_0-rmsle:0.02024\n",
      "Seed-3 | Fold-2 | RMSE Score: 0.020242053863424724\n",
      "[0]\tvalidation_0-rmsle:2.31770\n",
      "Will train until validation_0-rmsle hasn't improved in 200 rounds.\n",
      "[99]\tvalidation_0-rmsle:0.02897\n",
      "Seed-3 | Fold-3 | RMSE Score: 0.02894185561298812\n",
      "[0]\tvalidation_0-rmsle:2.33286\n",
      "Will train until validation_0-rmsle hasn't improved in 200 rounds.\n",
      "[99]\tvalidation_0-rmsle:0.03242\n",
      "Seed-3 | Fold-4 | RMSE Score: 0.03242207321645106\n",
      "[0]\tvalidation_0-rmsle:2.33418\n",
      "Will train until validation_0-rmsle hasn't improved in 200 rounds.\n",
      "[99]\tvalidation_0-rmsle:0.02790\n",
      "Seed-3 | Fold-5 | RMSE Score: 0.027896035800297574\n",
      "[0]\tvalidation_0-rmsle:2.31388\n",
      "Will train until validation_0-rmsle hasn't improved in 200 rounds.\n",
      "[99]\tvalidation_0-rmsle:0.02849\n",
      "Seed-3 | Fold-6 | RMSE Score: 0.02849353189444845\n",
      "\n",
      "Seed: 3 | Aggregate Log Loss: 0.03248311601279741\n",
      "\n",
      "\n",
      "[0]\tvalidation_0-rmsle:2.32621\n",
      "Will train until validation_0-rmsle hasn't improved in 200 rounds.\n",
      "[99]\tvalidation_0-rmsle:0.03970\n",
      "Seed-56 | Fold-0 | RMSE Score: 0.039671151634582735\n",
      "[0]\tvalidation_0-rmsle:2.33273\n",
      "Will train until validation_0-rmsle hasn't improved in 200 rounds.\n",
      "[99]\tvalidation_0-rmsle:0.02773\n",
      "Seed-56 | Fold-1 | RMSE Score: 0.027733454979546778\n",
      "[0]\tvalidation_0-rmsle:2.33147\n",
      "Will train until validation_0-rmsle hasn't improved in 200 rounds.\n",
      "[99]\tvalidation_0-rmsle:0.03298\n",
      "Seed-56 | Fold-2 | RMSE Score: 0.03298017444344572\n",
      "[0]\tvalidation_0-rmsle:2.33114\n",
      "Will train until validation_0-rmsle hasn't improved in 200 rounds.\n",
      "[99]\tvalidation_0-rmsle:0.02285\n",
      "Seed-56 | Fold-3 | RMSE Score: 0.02285018467506179\n",
      "[0]\tvalidation_0-rmsle:2.31145\n",
      "Will train until validation_0-rmsle hasn't improved in 200 rounds.\n",
      "[99]\tvalidation_0-rmsle:0.05396\n",
      "Seed-56 | Fold-4 | RMSE Score: 0.053958906445536\n",
      "[0]\tvalidation_0-rmsle:2.31594\n",
      "Will train until validation_0-rmsle hasn't improved in 200 rounds.\n",
      "[99]\tvalidation_0-rmsle:0.01832\n",
      "Seed-56 | Fold-5 | RMSE Score: 0.018322839093590823\n",
      "[0]\tvalidation_0-rmsle:2.32836\n",
      "Will train until validation_0-rmsle hasn't improved in 200 rounds.\n",
      "[99]\tvalidation_0-rmsle:0.02940\n",
      "Seed-56 | Fold-6 | RMSE Score: 0.02939931442131526\n",
      "\n",
      "Seed: 56 | Aggregate Log Loss: 0.03213086081329702\n",
      "\n",
      "\n",
      "[0]\tvalidation_0-rmsle:2.31224\n",
      "Will train until validation_0-rmsle hasn't improved in 200 rounds.\n",
      "[99]\tvalidation_0-rmsle:0.02419\n",
      "Seed-72 | Fold-0 | RMSE Score: 0.02418949482405923\n",
      "[0]\tvalidation_0-rmsle:2.32608\n",
      "Will train until validation_0-rmsle hasn't improved in 200 rounds.\n",
      "[99]\tvalidation_0-rmsle:0.03390\n",
      "Seed-72 | Fold-1 | RMSE Score: 0.033903954225746026\n",
      "[0]\tvalidation_0-rmsle:2.32898\n",
      "Will train until validation_0-rmsle hasn't improved in 200 rounds.\n",
      "[99]\tvalidation_0-rmsle:0.02282\n",
      "Seed-72 | Fold-2 | RMSE Score: 0.022806349850113948\n",
      "[0]\tvalidation_0-rmsle:2.31071\n",
      "Will train until validation_0-rmsle hasn't improved in 200 rounds.\n",
      "[99]\tvalidation_0-rmsle:0.03236\n",
      "Seed-72 | Fold-3 | RMSE Score: 0.03235398963432713\n",
      "[0]\tvalidation_0-rmsle:2.32715\n",
      "Will train until validation_0-rmsle hasn't improved in 200 rounds.\n",
      "[99]\tvalidation_0-rmsle:0.02859\n",
      "Seed-72 | Fold-4 | RMSE Score: 0.028586176329371226\n",
      "[0]\tvalidation_0-rmsle:2.32941\n",
      "Will train until validation_0-rmsle hasn't improved in 200 rounds.\n",
      "[99]\tvalidation_0-rmsle:0.02728\n",
      "Seed-72 | Fold-5 | RMSE Score: 0.0272822568085359\n",
      "[0]\tvalidation_0-rmsle:2.34270\n",
      "Will train until validation_0-rmsle hasn't improved in 200 rounds.\n",
      "[99]\tvalidation_0-rmsle:0.05589\n",
      "Seed-72 | Fold-6 | RMSE Score: 0.055887068646849815\n",
      "\n",
      "Seed: 72 | Aggregate Log Loss: 0.03214418433128618\n",
      "\n",
      "\n",
      "[0]\tvalidation_0-rmsle:2.32537\n",
      "Will train until validation_0-rmsle hasn't improved in 200 rounds.\n",
      "[99]\tvalidation_0-rmsle:0.02636\n",
      "Seed-0 | Fold-0 | RMSE Score: 0.02635720330628572\n",
      "[0]\tvalidation_0-rmsle:2.32946\n",
      "Will train until validation_0-rmsle hasn't improved in 200 rounds.\n",
      "[99]\tvalidation_0-rmsle:0.02210\n",
      "Seed-0 | Fold-1 | RMSE Score: 0.022095249482971376\n",
      "[0]\tvalidation_0-rmsle:2.33602\n",
      "Will train until validation_0-rmsle hasn't improved in 200 rounds.\n",
      "[99]\tvalidation_0-rmsle:0.03600\n",
      "Seed-0 | Fold-2 | RMSE Score: 0.03598582331558503\n",
      "[0]\tvalidation_0-rmsle:2.31922\n",
      "Will train until validation_0-rmsle hasn't improved in 200 rounds.\n",
      "[99]\tvalidation_0-rmsle:0.05209\n",
      "Seed-0 | Fold-3 | RMSE Score: 0.05208314006480866\n",
      "[0]\tvalidation_0-rmsle:2.31460\n",
      "Will train until validation_0-rmsle hasn't improved in 200 rounds.\n",
      "[99]\tvalidation_0-rmsle:0.03193\n",
      "Seed-0 | Fold-4 | RMSE Score: 0.03193212475076483\n",
      "[0]\tvalidation_0-rmsle:2.32789\n",
      "Will train until validation_0-rmsle hasn't improved in 200 rounds.\n",
      "[99]\tvalidation_0-rmsle:0.03394\n",
      "Seed-0 | Fold-5 | RMSE Score: 0.03394000589064402\n",
      "[0]\tvalidation_0-rmsle:2.32477\n",
      "Will train until validation_0-rmsle hasn't improved in 200 rounds.\n",
      "[99]\tvalidation_0-rmsle:0.02568\n",
      "Seed-0 | Fold-6 | RMSE Score: 0.025676959235924886\n",
      "\n",
      "Seed: 0 | Aggregate Log Loss: 0.03258150086385494\n",
      "\n",
      "\n",
      "Aggregate RMSE Score: 0.03194444826915831\n"
     ]
    }
   ],
   "source": [
    "# Set number of K-Folds and seeds\n",
    "FOLD = 7\n",
    "NUM_SEED = 5\n",
    "\n",
    "# Set seeds for model training\n",
    "np.random.seed(3)\n",
    "seeds = np.random.randint(0, 100, size=NUM_SEED)\n",
    "\n",
    "oof_rmsle_score = 0\n",
    "y_pred_meta_xgb = np.zeros((Ytrain.shape[0], NUM_SEED))\n",
    "y_pred_final_xgb = 0\n",
    "counter = 0\n",
    "\n",
    "\n",
    "for sidx, seed in enumerate(seeds):\n",
    "    seed_rmsle_score = 0\n",
    "    \n",
    "    # Define K-fold cross validation test harness\n",
    "    kfold = KFold(n_splits=FOLD, shuffle=True, random_state=seed)\n",
    "\n",
    "    for idx, (train, val) in enumerate(kfold.split(Xtrain, Ytrain)):\n",
    "        counter += 1\n",
    "\n",
    "        train_x, train_y = Xtrain[train], Ytrain[train]\n",
    "        val_x, val_y = Xtrain[val], Ytrain[val]\n",
    "\n",
    "        model = XGBRegressor(\n",
    "            objective='reg:squaredlogerror',\n",
    "            eval_metric='rmsle',\n",
    "            booster='gbtree',\n",
    "            sample_type='uniform',\n",
    "            tree_method='gpu_hist',\n",
    "            grow_policy='lossguide',\n",
    "            num_round=8000,\n",
    "            max_depth=21, \n",
    "            max_leaves=442,\n",
    "            learning_rate=0.0999,\n",
    "            subsample=0.999,\n",
    "            colsample_bytree=0.63485,\n",
    "            min_child_weight=1,\n",
    "            reg_lambda=0.000133,\n",
    "            verbosity=0\n",
    "        )\n",
    "\n",
    "        model.fit(train_x, train_y, eval_set=[(val_x, val_y)], \n",
    "                  early_stopping_rounds=200, verbose=500)\n",
    "\n",
    "        y_pred = model.predict(val_x, ntree_limit=model.best_ntree_limit)\n",
    "        y_pred_meta_xgb[val, sidx] = y_pred\n",
    "        y_pred_final_xgb += model.predict(Xpredict, ntree_limit=model.best_ntree_limit)\n",
    "        \n",
    "        score = np.sqrt(mean_squared_log_error(val_y, y_pred))\n",
    "        oof_rmsle_score += score\n",
    "        seed_rmsle_score += score\n",
    "        print(\"Seed-{} | Fold-{} | RMSE Score: {}\".format(seed, idx, score))\n",
    "    \n",
    "    print(\"\\nSeed: {} | Aggregate Log Loss: {}\\n\\n\".format(seed, (seed_rmsle_score / FOLD)))\n",
    "\n",
    "y_pred_final_xgb /= float(counter)\n",
    "oof_rmsle_score /= float(counter)\n",
    "print(\"Aggregate RMSE Score: {}\".format(oof_rmsle_score))"
   ]
  },
  {
   "cell_type": "markdown",
   "metadata": {
    "id": "m8WFE2cKdFvF"
   },
   "source": [
    "## Create submission file"
   ]
  },
  {
   "cell_type": "code",
   "execution_count": 11,
   "metadata": {
    "colab": {
     "base_uri": "https://localhost:8080/",
     "height": 204
    },
    "executionInfo": {
     "elapsed": 3616,
     "status": "ok",
     "timestamp": 1606823169955,
     "user": {
      "displayName": "TAPAS DAS",
      "photoUrl": "https://lh3.googleusercontent.com/a-/AOh14GiyffdGKiPCR_UwVittzTcbBFms70IkGfU15fatCA=s64",
      "userId": "10798398878324948542"
     },
     "user_tz": -330
    },
    "id": "95XgXAO7YBvl",
    "outputId": "08125a72-ad97-44da-a1db-99353c2d44d9"
   },
   "outputs": [
    {
     "data": {
      "text/html": [
       "<div>\n",
       "<style scoped>\n",
       "    .dataframe tbody tr th:only-of-type {\n",
       "        vertical-align: middle;\n",
       "    }\n",
       "\n",
       "    .dataframe tbody tr th {\n",
       "        vertical-align: top;\n",
       "    }\n",
       "\n",
       "    .dataframe thead th {\n",
       "        text-align: right;\n",
       "    }\n",
       "</style>\n",
       "<table border=\"1\" class=\"dataframe\">\n",
       "  <thead>\n",
       "    <tr style=\"text-align: right;\">\n",
       "      <th></th>\n",
       "      <th>Product_id</th>\n",
       "      <th>Selling_Price</th>\n",
       "    </tr>\n",
       "  </thead>\n",
       "  <tbody>\n",
       "    <tr>\n",
       "      <th>0</th>\n",
       "      <td>SCHE4YSTDVPVZVXW</td>\n",
       "      <td>3241.267090</td>\n",
       "    </tr>\n",
       "    <tr>\n",
       "      <th>1</th>\n",
       "      <td>ACCEGCATKHNRXUHW</td>\n",
       "      <td>1985.520264</td>\n",
       "    </tr>\n",
       "    <tr>\n",
       "      <th>2</th>\n",
       "      <td>NKCE6GJ5XVJDXNNZ</td>\n",
       "      <td>11674.480469</td>\n",
       "    </tr>\n",
       "    <tr>\n",
       "      <th>3</th>\n",
       "      <td>NKCEB8BK3ZXDHDHM</td>\n",
       "      <td>9985.947266</td>\n",
       "    </tr>\n",
       "    <tr>\n",
       "      <th>4</th>\n",
       "      <td>TOPEFDXSAHRNPF94</td>\n",
       "      <td>5532.263184</td>\n",
       "    </tr>\n",
       "  </tbody>\n",
       "</table>\n",
       "</div>"
      ],
      "text/plain": [
       "         Product_id  Selling_Price\n",
       "0  SCHE4YSTDVPVZVXW    3241.267090\n",
       "1  ACCEGCATKHNRXUHW    1985.520264\n",
       "2  NKCE6GJ5XVJDXNNZ   11674.480469\n",
       "3  NKCEB8BK3ZXDHDHM    9985.947266\n",
       "4  TOPEFDXSAHRNPF94    5532.263184"
      ]
     },
     "execution_count": 11,
     "metadata": {
      "tags": []
     },
     "output_type": "execute_result"
    }
   ],
   "source": [
    "predict_df = pd.read_csv(\"/content/drive/My Drive/Colab Notebooks/Carnival Wars/Dataset/test.csv\")\n",
    "submit_df = pd.DataFrame()\n",
    "submit_df['Product_id'] = predict_df['Product_id']\n",
    "submit_df['Selling_Price'] = y_pred_final_xgb ** 3\n",
    "submit_df.head()"
   ]
  },
  {
   "cell_type": "code",
   "execution_count": 12,
   "metadata": {
    "executionInfo": {
     "elapsed": 3863,
     "status": "ok",
     "timestamp": 1606823172090,
     "user": {
      "displayName": "TAPAS DAS",
      "photoUrl": "https://lh3.googleusercontent.com/a-/AOh14GiyffdGKiPCR_UwVittzTcbBFms70IkGfU15fatCA=s64",
      "userId": "10798398878324948542"
     },
     "user_tz": -330
    },
    "id": "9ToGJmnFYBnl"
   },
   "outputs": [],
   "source": [
    "submit_df.to_csv(\"/content/drive/My Drive/Colab Notebooks/Carnival Wars/Predictions/prediction_v9_XGB.csv\", index=False)"
   ]
  },
  {
   "cell_type": "code",
   "execution_count": null,
   "metadata": {
    "id": "MO7uo59kd54E"
   },
   "outputs": [],
   "source": []
  }
 ],
 "metadata": {
  "accelerator": "GPU",
  "colab": {
   "authorship_tag": "ABX9TyM8oRr5pBWLEI1BAwKrI78/",
   "collapsed_sections": [],
   "name": "XGBoost Model.ipynb",
   "provenance": []
  },
  "kernelspec": {
   "display_name": "Python 3",
   "language": "python",
   "name": "python3"
  },
  "language_info": {
   "codemirror_mode": {
    "name": "ipython",
    "version": 3
   },
   "file_extension": ".py",
   "mimetype": "text/x-python",
   "name": "python",
   "nbconvert_exporter": "python",
   "pygments_lexer": "ipython3",
   "version": "3.7.10"
  }
 },
 "nbformat": 4,
 "nbformat_minor": 1
}
