{
 "cells": [
  {
   "cell_type": "code",
   "execution_count": 1,
   "metadata": {
    "colab": {
     "base_uri": "https://localhost:8080/"
    },
    "executionInfo": {
     "elapsed": 53807,
     "status": "ok",
     "timestamp": 1606999171772,
     "user": {
      "displayName": "TAPAS DAS",
      "photoUrl": "https://lh3.googleusercontent.com/a-/AOh14GiyffdGKiPCR_UwVittzTcbBFms70IkGfU15fatCA=s64",
      "userId": "10798398878324948542"
     },
     "user_tz": -330
    },
    "id": "RM5j8WusHcZL",
    "outputId": "1df04ece-3fd6-4737-e368-eca9b7952bc3"
   },
   "outputs": [
    {
     "name": "stdout",
     "output_type": "stream",
     "text": [
      "Mounted at /content/drive/\n"
     ]
    }
   ],
   "source": [
    "from google.colab import drive\n",
    "drive.mount('/content/drive/', force_remount=True)"
   ]
  },
  {
   "cell_type": "markdown",
   "metadata": {
    "id": "GgSEuKpxH_Sf"
   },
   "source": [
    "## Download Packages"
   ]
  },
  {
   "cell_type": "code",
   "execution_count": 2,
   "metadata": {
    "colab": {
     "base_uri": "https://localhost:8080/"
    },
    "executionInfo": {
     "elapsed": 14379,
     "status": "ok",
     "timestamp": 1606999183497,
     "user": {
      "displayName": "TAPAS DAS",
      "photoUrl": "https://lh3.googleusercontent.com/a-/AOh14GiyffdGKiPCR_UwVittzTcbBFms70IkGfU15fatCA=s64",
      "userId": "10798398878324948542"
     },
     "user_tz": -330
    },
    "id": "OVvAF-PwH-lp",
    "outputId": "a7564bbf-5632-470d-cf88-d32b58930bef"
   },
   "outputs": [
    {
     "name": "stdout",
     "output_type": "stream",
     "text": [
      "Collecting catboost\n",
      "\u001b[?25l  Downloading https://files.pythonhosted.org/packages/7e/c1/c1c4707013f9e2f8a96899dd3a87f66c9167d6d776a6dc8fe7ec8678d446/catboost-0.24.3-cp36-none-manylinux1_x86_64.whl (66.3MB)\n",
      "\u001b[K     |████████████████████████████████| 66.3MB 48kB/s \n",
      "\u001b[?25hRequirement already satisfied: scipy in /usr/local/lib/python3.6/dist-packages (from catboost) (1.4.1)\n",
      "Requirement already satisfied: plotly in /usr/local/lib/python3.6/dist-packages (from catboost) (4.4.1)\n",
      "Requirement already satisfied: pandas>=0.24.0 in /usr/local/lib/python3.6/dist-packages (from catboost) (1.1.4)\n",
      "Requirement already satisfied: graphviz in /usr/local/lib/python3.6/dist-packages (from catboost) (0.10.1)\n",
      "Requirement already satisfied: six in /usr/local/lib/python3.6/dist-packages (from catboost) (1.15.0)\n",
      "Requirement already satisfied: numpy>=1.16.0 in /usr/local/lib/python3.6/dist-packages (from catboost) (1.18.5)\n",
      "Requirement already satisfied: matplotlib in /usr/local/lib/python3.6/dist-packages (from catboost) (3.2.2)\n",
      "Requirement already satisfied: retrying>=1.3.3 in /usr/local/lib/python3.6/dist-packages (from plotly->catboost) (1.3.3)\n",
      "Requirement already satisfied: pytz>=2017.2 in /usr/local/lib/python3.6/dist-packages (from pandas>=0.24.0->catboost) (2018.9)\n",
      "Requirement already satisfied: python-dateutil>=2.7.3 in /usr/local/lib/python3.6/dist-packages (from pandas>=0.24.0->catboost) (2.8.1)\n",
      "Requirement already satisfied: cycler>=0.10 in /usr/local/lib/python3.6/dist-packages (from matplotlib->catboost) (0.10.0)\n",
      "Requirement already satisfied: pyparsing!=2.0.4,!=2.1.2,!=2.1.6,>=2.0.1 in /usr/local/lib/python3.6/dist-packages (from matplotlib->catboost) (2.4.7)\n",
      "Requirement already satisfied: kiwisolver>=1.0.1 in /usr/local/lib/python3.6/dist-packages (from matplotlib->catboost) (1.3.1)\n",
      "Installing collected packages: catboost\n",
      "Successfully installed catboost-0.24.3\n"
     ]
    }
   ],
   "source": [
    "! pip install catboost"
   ]
  },
  {
   "cell_type": "code",
   "execution_count": 3,
   "metadata": {
    "colab": {
     "base_uri": "https://localhost:8080/"
    },
    "executionInfo": {
     "elapsed": 231801,
     "status": "ok",
     "timestamp": 1606999401243,
     "user": {
      "displayName": "TAPAS DAS",
      "photoUrl": "https://lh3.googleusercontent.com/a-/AOh14GiyffdGKiPCR_UwVittzTcbBFms70IkGfU15fatCA=s64",
      "userId": "10798398878324948542"
     },
     "user_tz": -330
    },
    "id": "9nLKK7gUH-o8",
    "outputId": "6dfe34ff-c0c2-4e41-9cba-e6a5d4a3ed60"
   },
   "outputs": [
    {
     "name": "stdout",
     "output_type": "stream",
     "text": [
      "Cloning into 'LightGBM'...\n",
      "remote: Enumerating objects: 51, done.\u001b[K\n",
      "remote: Counting objects: 100% (51/51), done.\u001b[K\n",
      "remote: Compressing objects: 100% (40/40), done.\u001b[K\n",
      "remote: Total 20757 (delta 22), reused 19 (delta 11), pack-reused 20706\u001b[K\n",
      "Receiving objects: 100% (20757/20757), 16.17 MiB | 30.38 MiB/s, done.\n",
      "Resolving deltas: 100% (15141/15141), done.\n",
      "Submodule 'include/boost/compute' (https://github.com/boostorg/compute) registered for path 'compute'\n",
      "Cloning into '/content/LightGBM/compute'...\n",
      "remote: Enumerating objects: 21728, done.        \n",
      "remote: Total 21728 (delta 0), reused 0 (delta 0), pack-reused 21728        \n",
      "Receiving objects: 100% (21728/21728), 8.50 MiB | 29.93 MiB/s, done.\n",
      "Resolving deltas: 100% (17565/17565), done.\n",
      "Submodule path 'compute': checked out '36c89134d4013b2e5e45bc55656a18bd6141995a'\n",
      "/content/LightGBM\n",
      "-- The C compiler identification is GNU 7.5.0\n",
      "-- The CXX compiler identification is GNU 7.5.0\n",
      "-- Check for working C compiler: /usr/bin/cc\n",
      "-- Check for working C compiler: /usr/bin/cc -- works\n",
      "-- Detecting C compiler ABI info\n",
      "-- Detecting C compiler ABI info - done\n",
      "-- Detecting C compile features\n",
      "-- Detecting C compile features - done\n",
      "-- Check for working CXX compiler: /usr/bin/c++\n",
      "-- Check for working CXX compiler: /usr/bin/c++ -- works\n",
      "-- Detecting CXX compiler ABI info\n",
      "-- Detecting CXX compiler ABI info - done\n",
      "-- Detecting CXX compile features\n",
      "-- Detecting CXX compile features - done\n",
      "-- Found OpenMP_C: -fopenmp (found version \"4.5\") \n",
      "-- Found OpenMP_CXX: -fopenmp (found version \"4.5\") \n",
      "-- Found OpenMP: TRUE (found version \"4.5\")  \n",
      "-- Looking for CL_VERSION_2_2\n",
      "-- Looking for CL_VERSION_2_2 - found\n",
      "-- Found OpenCL: /usr/lib/x86_64-linux-gnu/libOpenCL.so (found version \"2.2\") \n",
      "-- OpenCL include directory: /usr/include\n",
      "-- Boost version: 1.65.1\n",
      "-- Found the following Boost libraries:\n",
      "--   filesystem\n",
      "--   system\n",
      "-- Performing Test MM_PREFETCH\n",
      "-- Performing Test MM_PREFETCH - Success\n",
      "-- Using _mm_prefetch\n",
      "-- Performing Test MM_MALLOC\n",
      "-- Performing Test MM_MALLOC - Success\n",
      "-- Using _mm_malloc\n",
      "-- Configuring done\n",
      "-- Generating done\n",
      "-- Build files have been written to: /content/LightGBM\n",
      "\u001b[35m\u001b[1mScanning dependencies of target lightgbm\u001b[0m\n",
      "\u001b[35m\u001b[1mScanning dependencies of target _lightgbm\u001b[0m\n",
      "[  2%] \u001b[32mBuilding CXX object CMakeFiles/_lightgbm.dir/src/boosting/boosting.cpp.o\u001b[0m\n",
      "[  2%] \u001b[32mBuilding CXX object CMakeFiles/lightgbm.dir/src/main.cpp.o\u001b[0m\n",
      "[  4%] \u001b[32mBuilding CXX object CMakeFiles/lightgbm.dir/src/application/application.cpp.o\u001b[0m\n",
      "[  5%] \u001b[32mBuilding CXX object CMakeFiles/lightgbm.dir/src/boosting/boosting.cpp.o\u001b[0m\n",
      "[  7%] \u001b[32mBuilding CXX object CMakeFiles/_lightgbm.dir/src/boosting/gbdt.cpp.o\u001b[0m\n",
      "[  8%] \u001b[32mBuilding CXX object CMakeFiles/_lightgbm.dir/src/boosting/gbdt_model_text.cpp.o\u001b[0m\n",
      "[ 10%] \u001b[32mBuilding CXX object CMakeFiles/lightgbm.dir/src/boosting/gbdt.cpp.o\u001b[0m\n",
      "[ 11%] \u001b[32mBuilding CXX object CMakeFiles/_lightgbm.dir/src/boosting/gbdt_prediction.cpp.o\u001b[0m\n",
      "[ 13%] \u001b[32mBuilding CXX object CMakeFiles/lightgbm.dir/src/boosting/gbdt_model_text.cpp.o\u001b[0m\n",
      "[ 14%] \u001b[32mBuilding CXX object CMakeFiles/_lightgbm.dir/src/boosting/prediction_early_stop.cpp.o\u001b[0m\n",
      "[ 16%] \u001b[32mBuilding CXX object CMakeFiles/_lightgbm.dir/src/io/bin.cpp.o\u001b[0m\n",
      "[ 17%] \u001b[32mBuilding CXX object CMakeFiles/lightgbm.dir/src/boosting/gbdt_prediction.cpp.o\u001b[0m\n",
      "[ 19%] \u001b[32mBuilding CXX object CMakeFiles/lightgbm.dir/src/boosting/prediction_early_stop.cpp.o\u001b[0m\n",
      "[ 20%] \u001b[32mBuilding CXX object CMakeFiles/lightgbm.dir/src/io/bin.cpp.o\u001b[0m\n",
      "[ 22%] \u001b[32mBuilding CXX object CMakeFiles/_lightgbm.dir/src/io/config.cpp.o\u001b[0m\n",
      "[ 23%] \u001b[32mBuilding CXX object CMakeFiles/_lightgbm.dir/src/io/config_auto.cpp.o\u001b[0m\n",
      "[ 25%] \u001b[32mBuilding CXX object CMakeFiles/lightgbm.dir/src/io/config.cpp.o\u001b[0m\n",
      "[ 26%] \u001b[32mBuilding CXX object CMakeFiles/_lightgbm.dir/src/io/dataset.cpp.o\u001b[0m\n",
      "[ 28%] \u001b[32mBuilding CXX object CMakeFiles/lightgbm.dir/src/io/config_auto.cpp.o\u001b[0m\n",
      "[ 29%] \u001b[32mBuilding CXX object CMakeFiles/lightgbm.dir/src/io/dataset.cpp.o\u001b[0m\n",
      "[ 31%] \u001b[32mBuilding CXX object CMakeFiles/_lightgbm.dir/src/io/dataset_loader.cpp.o\u001b[0m\n",
      "[ 32%] \u001b[32mBuilding CXX object CMakeFiles/lightgbm.dir/src/io/dataset_loader.cpp.o\u001b[0m\n",
      "[ 34%] \u001b[32mBuilding CXX object CMakeFiles/_lightgbm.dir/src/io/file_io.cpp.o\u001b[0m\n",
      "[ 35%] \u001b[32mBuilding CXX object CMakeFiles/_lightgbm.dir/src/io/json11.cpp.o\u001b[0m\n",
      "[ 37%] \u001b[32mBuilding CXX object CMakeFiles/_lightgbm.dir/src/io/metadata.cpp.o\u001b[0m\n",
      "[ 38%] \u001b[32mBuilding CXX object CMakeFiles/lightgbm.dir/src/io/file_io.cpp.o\u001b[0m\n",
      "[ 40%] \u001b[32mBuilding CXX object CMakeFiles/lightgbm.dir/src/io/json11.cpp.o\u001b[0m\n",
      "[ 41%] \u001b[32mBuilding CXX object CMakeFiles/_lightgbm.dir/src/io/parser.cpp.o\u001b[0m\n",
      "[ 43%] \u001b[32mBuilding CXX object CMakeFiles/lightgbm.dir/src/io/metadata.cpp.o\u001b[0m\n",
      "[ 44%] \u001b[32mBuilding CXX object CMakeFiles/_lightgbm.dir/src/io/train_share_states.cpp.o\u001b[0m\n",
      "[ 46%] \u001b[32mBuilding CXX object CMakeFiles/_lightgbm.dir/src/io/tree.cpp.o\u001b[0m\n",
      "[ 47%] \u001b[32mBuilding CXX object CMakeFiles/lightgbm.dir/src/io/parser.cpp.o\u001b[0m\n",
      "[ 49%] \u001b[32mBuilding CXX object CMakeFiles/lightgbm.dir/src/io/train_share_states.cpp.o\u001b[0m\n",
      "[ 50%] \u001b[32mBuilding CXX object CMakeFiles/_lightgbm.dir/src/metric/dcg_calculator.cpp.o\u001b[0m\n",
      "[ 52%] \u001b[32mBuilding CXX object CMakeFiles/lightgbm.dir/src/io/tree.cpp.o\u001b[0m\n",
      "[ 53%] \u001b[32mBuilding CXX object CMakeFiles/_lightgbm.dir/src/metric/metric.cpp.o\u001b[0m\n",
      "[ 55%] \u001b[32mBuilding CXX object CMakeFiles/lightgbm.dir/src/metric/dcg_calculator.cpp.o\u001b[0m\n",
      "[ 56%] \u001b[32mBuilding CXX object CMakeFiles/lightgbm.dir/src/metric/metric.cpp.o\u001b[0m\n",
      "[ 58%] \u001b[32mBuilding CXX object CMakeFiles/_lightgbm.dir/src/network/ifaddrs_patch.cpp.o\u001b[0m\n",
      "[ 59%] \u001b[32mBuilding CXX object CMakeFiles/_lightgbm.dir/src/network/linker_topo.cpp.o\u001b[0m\n",
      "[ 61%] \u001b[32mBuilding CXX object CMakeFiles/_lightgbm.dir/src/network/linkers_mpi.cpp.o\u001b[0m\n",
      "[ 62%] \u001b[32mBuilding CXX object CMakeFiles/_lightgbm.dir/src/network/linkers_socket.cpp.o\u001b[0m\n",
      "[ 64%] \u001b[32mBuilding CXX object CMakeFiles/_lightgbm.dir/src/network/network.cpp.o\u001b[0m\n",
      "[ 65%] \u001b[32mBuilding CXX object CMakeFiles/lightgbm.dir/src/network/ifaddrs_patch.cpp.o\u001b[0m\n",
      "[ 67%] \u001b[32mBuilding CXX object CMakeFiles/lightgbm.dir/src/network/linker_topo.cpp.o\u001b[0m\n",
      "[ 68%] \u001b[32mBuilding CXX object CMakeFiles/_lightgbm.dir/src/objective/objective_function.cpp.o\u001b[0m\n",
      "[ 70%] \u001b[32mBuilding CXX object CMakeFiles/lightgbm.dir/src/network/linkers_mpi.cpp.o\u001b[0m\n",
      "[ 71%] \u001b[32mBuilding CXX object CMakeFiles/lightgbm.dir/src/network/linkers_socket.cpp.o\u001b[0m\n",
      "[ 73%] \u001b[32mBuilding CXX object CMakeFiles/lightgbm.dir/src/network/network.cpp.o\u001b[0m\n",
      "[ 74%] \u001b[32mBuilding CXX object CMakeFiles/lightgbm.dir/src/objective/objective_function.cpp.o\u001b[0m\n",
      "[ 76%] \u001b[32mBuilding CXX object CMakeFiles/_lightgbm.dir/src/treelearner/cuda_tree_learner.cpp.o\u001b[0m\n",
      "[ 77%] \u001b[32mBuilding CXX object CMakeFiles/_lightgbm.dir/src/treelearner/data_parallel_tree_learner.cpp.o\u001b[0m\n",
      "[ 79%] \u001b[32mBuilding CXX object CMakeFiles/lightgbm.dir/src/treelearner/cuda_tree_learner.cpp.o\u001b[0m\n",
      "[ 80%] \u001b[32mBuilding CXX object CMakeFiles/lightgbm.dir/src/treelearner/data_parallel_tree_learner.cpp.o\u001b[0m\n",
      "[ 82%] \u001b[32mBuilding CXX object CMakeFiles/_lightgbm.dir/src/treelearner/feature_parallel_tree_learner.cpp.o\u001b[0m\n",
      "[ 83%] \u001b[32mBuilding CXX object CMakeFiles/lightgbm.dir/src/treelearner/feature_parallel_tree_learner.cpp.o\u001b[0m\n",
      "[ 85%] \u001b[32mBuilding CXX object CMakeFiles/_lightgbm.dir/src/treelearner/gpu_tree_learner.cpp.o\u001b[0m\n",
      "[ 86%] \u001b[32mBuilding CXX object CMakeFiles/lightgbm.dir/src/treelearner/gpu_tree_learner.cpp.o\u001b[0m\n",
      "[ 88%] \u001b[32mBuilding CXX object CMakeFiles/_lightgbm.dir/src/treelearner/serial_tree_learner.cpp.o\u001b[0m\n",
      "[ 89%] \u001b[32mBuilding CXX object CMakeFiles/lightgbm.dir/src/treelearner/serial_tree_learner.cpp.o\u001b[0m\n",
      "[ 91%] \u001b[32mBuilding CXX object CMakeFiles/_lightgbm.dir/src/treelearner/tree_learner.cpp.o\u001b[0m\n",
      "[ 92%] \u001b[32mBuilding CXX object CMakeFiles/lightgbm.dir/src/treelearner/tree_learner.cpp.o\u001b[0m\n",
      "[ 94%] \u001b[32mBuilding CXX object CMakeFiles/_lightgbm.dir/src/treelearner/voting_parallel_tree_learner.cpp.o\u001b[0m\n",
      "[ 95%] \u001b[32mBuilding CXX object CMakeFiles/lightgbm.dir/src/treelearner/voting_parallel_tree_learner.cpp.o\u001b[0m\n",
      "[ 97%] \u001b[32mBuilding CXX object CMakeFiles/_lightgbm.dir/src/c_api.cpp.o\u001b[0m\n",
      "[ 98%] \u001b[32m\u001b[1mLinking CXX executable lightgbm\u001b[0m\n",
      "[ 98%] Built target lightgbm\n",
      "[100%] \u001b[32m\u001b[1mLinking CXX shared library lib_lightgbm.so\u001b[0m\n",
      "[100%] Built target _lightgbm\n",
      "/content/LightGBM/python-package\n",
      "running install\n",
      "running build\n",
      "running build_py\n",
      "INFO:root:Generating grammar tables from /usr/lib/python3.6/lib2to3/Grammar.txt\n",
      "INFO:root:Generating grammar tables from /usr/lib/python3.6/lib2to3/PatternGrammar.txt\n",
      "creating build\n",
      "creating build/lib\n",
      "creating build/lib/lightgbm\n",
      "copying lightgbm/engine.py -> build/lib/lightgbm\n",
      "copying lightgbm/plotting.py -> build/lib/lightgbm\n",
      "copying lightgbm/libpath.py -> build/lib/lightgbm\n",
      "copying lightgbm/callback.py -> build/lib/lightgbm\n",
      "copying lightgbm/sklearn.py -> build/lib/lightgbm\n",
      "copying lightgbm/basic.py -> build/lib/lightgbm\n",
      "copying lightgbm/__init__.py -> build/lib/lightgbm\n",
      "copying lightgbm/compat.py -> build/lib/lightgbm\n",
      "running egg_info\n",
      "creating lightgbm.egg-info\n",
      "writing lightgbm.egg-info/PKG-INFO\n",
      "writing dependency_links to lightgbm.egg-info/dependency_links.txt\n",
      "writing requirements to lightgbm.egg-info/requires.txt\n",
      "writing top-level names to lightgbm.egg-info/top_level.txt\n",
      "writing manifest file 'lightgbm.egg-info/SOURCES.txt'\n",
      "reading manifest template 'MANIFEST.in'\n",
      "no previously-included directories found matching 'build'\n",
      "warning: no files found matching 'LICENSE'\n",
      "warning: no files found matching '*.txt'\n",
      "warning: no files found matching '*.so' under directory 'lightgbm'\n",
      "warning: no files found matching '*.txt' under directory 'compile'\n",
      "warning: no files found matching '*.so' under directory 'compile'\n",
      "warning: no files found matching '*.dll' under directory 'compile/Release'\n",
      "warning: no files found matching '*.txt' under directory 'compile/compute'\n",
      "warning: no files found matching '*' under directory 'compile/compute/cmake'\n",
      "warning: no files found matching '*' under directory 'compile/compute/include'\n",
      "warning: no files found matching '*' under directory 'compile/compute/meta'\n",
      "warning: no files found matching '*' under directory 'compile/include'\n",
      "warning: no files found matching '*' under directory 'compile/src'\n",
      "warning: no files found matching 'LightGBM.sln' under directory 'compile/windows'\n",
      "warning: no files found matching 'LightGBM.vcxproj' under directory 'compile/windows'\n",
      "warning: no files found matching '*.dll' under directory 'compile/windows/x64/DLL'\n",
      "warning: no previously-included files matching '*.py[co]' found anywhere in distribution\n",
      "warning: no previously-included files found matching 'compile/compute/.git'\n",
      "writing manifest file 'lightgbm.egg-info/SOURCES.txt'\n",
      "copying lightgbm/VERSION.txt -> build/lib/lightgbm\n",
      "running install_lib\n",
      "copying build/lib/lightgbm/engine.py -> /usr/local/lib/python3.6/dist-packages/lightgbm\n",
      "copying build/lib/lightgbm/plotting.py -> /usr/local/lib/python3.6/dist-packages/lightgbm\n",
      "copying build/lib/lightgbm/libpath.py -> /usr/local/lib/python3.6/dist-packages/lightgbm\n",
      "copying build/lib/lightgbm/callback.py -> /usr/local/lib/python3.6/dist-packages/lightgbm\n",
      "copying build/lib/lightgbm/sklearn.py -> /usr/local/lib/python3.6/dist-packages/lightgbm\n",
      "copying build/lib/lightgbm/basic.py -> /usr/local/lib/python3.6/dist-packages/lightgbm\n",
      "copying build/lib/lightgbm/VERSION.txt -> /usr/local/lib/python3.6/dist-packages/lightgbm\n",
      "copying build/lib/lightgbm/__init__.py -> /usr/local/lib/python3.6/dist-packages/lightgbm\n",
      "copying build/lib/lightgbm/compat.py -> /usr/local/lib/python3.6/dist-packages/lightgbm\n",
      "INFO:LightGBM:Installing lib_lightgbm from: ['../lib_lightgbm.so']\n",
      "copying ../lib_lightgbm.so -> /usr/local/lib/python3.6/dist-packages/lightgbm\n",
      "byte-compiling /usr/local/lib/python3.6/dist-packages/lightgbm/engine.py to engine.cpython-36.pyc\n",
      "byte-compiling /usr/local/lib/python3.6/dist-packages/lightgbm/plotting.py to plotting.cpython-36.pyc\n",
      "byte-compiling /usr/local/lib/python3.6/dist-packages/lightgbm/libpath.py to libpath.cpython-36.pyc\n",
      "byte-compiling /usr/local/lib/python3.6/dist-packages/lightgbm/callback.py to callback.cpython-36.pyc\n",
      "byte-compiling /usr/local/lib/python3.6/dist-packages/lightgbm/sklearn.py to sklearn.cpython-36.pyc\n",
      "byte-compiling /usr/local/lib/python3.6/dist-packages/lightgbm/basic.py to basic.cpython-36.pyc\n",
      "byte-compiling /usr/local/lib/python3.6/dist-packages/lightgbm/__init__.py to __init__.cpython-36.pyc\n",
      "byte-compiling /usr/local/lib/python3.6/dist-packages/lightgbm/compat.py to compat.cpython-36.pyc\n",
      "running install_egg_info\n",
      "Copying lightgbm.egg-info to /usr/local/lib/python3.6/dist-packages/lightgbm-3.1.0.99-py3.6.egg-info\n",
      "running install_scripts\n"
     ]
    }
   ],
   "source": [
    "!git clone --recursive https://github.com/Microsoft/LightGBM\n",
    "%cd /content/LightGBM\n",
    "!mkdir build\n",
    "!cmake -DUSE_GPU=1\n",
    "!make -j$(nproc)\n",
    "%cd /content/LightGBM/python-package\n",
    "!sudo python setup.py install --precompile"
   ]
  },
  {
   "cell_type": "code",
   "execution_count": 4,
   "metadata": {
    "colab": {
     "base_uri": "https://localhost:8080/"
    },
    "executionInfo": {
     "elapsed": 254861,
     "status": "ok",
     "timestamp": 1606999424900,
     "user": {
      "displayName": "TAPAS DAS",
      "photoUrl": "https://lh3.googleusercontent.com/a-/AOh14GiyffdGKiPCR_UwVittzTcbBFms70IkGfU15fatCA=s64",
      "userId": "10798398878324948542"
     },
     "user_tz": -330
    },
    "id": "uyNsnTSSIDYN",
    "outputId": "cf991e45-0d52-45c3-cd68-346a0653989f"
   },
   "outputs": [
    {
     "name": "stdout",
     "output_type": "stream",
     "text": [
      "Collecting xgboost==1.2.0-SNAPSHOT+4729458a363c64291e84da28b408a0ac8d7851fa\n",
      "\u001b[?25l  Downloading https://s3-us-west-2.amazonaws.com/xgboost-nightly-builds/xgboost-1.2.0_SNAPSHOT%2B4729458a363c64291e84da28b408a0ac8d7851fa-py3-none-manylinux2010_x86_64.whl (149.3MB)\n",
      "\u001b[K     |████████████████████████████████| 149.3MB 97kB/s \n",
      "\u001b[?25hRequirement already satisfied: scipy in /usr/local/lib/python3.6/dist-packages (from xgboost==1.2.0-SNAPSHOT+4729458a363c64291e84da28b408a0ac8d7851fa) (1.4.1)\n",
      "Requirement already satisfied: numpy in /usr/local/lib/python3.6/dist-packages (from xgboost==1.2.0-SNAPSHOT+4729458a363c64291e84da28b408a0ac8d7851fa) (1.18.5)\n",
      "Installing collected packages: xgboost\n",
      "  Found existing installation: xgboost 0.90\n",
      "    Uninstalling xgboost-0.90:\n",
      "      Successfully uninstalled xgboost-0.90\n",
      "Successfully installed xgboost-1.2.0-SNAPSHOT\n"
     ]
    }
   ],
   "source": [
    "! pip install https://s3-us-west-2.amazonaws.com/xgboost-nightly-builds/xgboost-1.2.0_SNAPSHOT%2B4729458a363c64291e84da28b408a0ac8d7851fa-py3-none-manylinux2010_x86_64.whl"
   ]
  },
  {
   "cell_type": "markdown",
   "metadata": {
    "id": "7u4alDLDIHWn"
   },
   "source": [
    "## Import Packages"
   ]
  },
  {
   "cell_type": "code",
   "execution_count": 5,
   "metadata": {
    "executionInfo": {
     "elapsed": 6100,
     "status": "ok",
     "timestamp": 1606999431028,
     "user": {
      "displayName": "TAPAS DAS",
      "photoUrl": "https://lh3.googleusercontent.com/a-/AOh14GiyffdGKiPCR_UwVittzTcbBFms70IkGfU15fatCA=s64",
      "userId": "10798398878324948542"
     },
     "user_tz": -330
    },
    "id": "auD8hqsbIDaS"
   },
   "outputs": [],
   "source": [
    "import pandas as pd\n",
    "import numpy as np\n",
    "import seaborn as sns\n",
    "import matplotlib.pyplot as plt\n",
    "from sklearn.model_selection import KFold\n",
    "from sklearn.metrics import mean_squared_log_error\n",
    "from sklearn.linear_model import ElasticNet, Lasso, LinearRegression\n",
    "from sklearn.ensemble import VotingRegressor, StackingRegressor\n",
    "from sklearn.ensemble import GradientBoostingRegressor\n",
    "from sklearn.neighbors import KNeighborsRegressor\n",
    "from sklearn.svm import SVR\n",
    "from catboost import CatBoostRegressor\n",
    "from xgboost import XGBRegressor\n",
    "import lightgbm as lgb\n",
    "import pickle\n",
    "import warnings\n",
    "warnings.filterwarnings('ignore')"
   ]
  },
  {
   "cell_type": "markdown",
   "metadata": {
    "id": "M1euDsbYITwA"
   },
   "source": [
    "## Load processed dataset"
   ]
  },
  {
   "cell_type": "code",
   "execution_count": 6,
   "metadata": {
    "colab": {
     "base_uri": "https://localhost:8080/"
    },
    "executionInfo": {
     "elapsed": 6806,
     "status": "ok",
     "timestamp": 1606999431745,
     "user": {
      "displayName": "TAPAS DAS",
      "photoUrl": "https://lh3.googleusercontent.com/a-/AOh14GiyffdGKiPCR_UwVittzTcbBFms70IkGfU15fatCA=s64",
      "userId": "10798398878324948542"
     },
     "user_tz": -330
    },
    "id": "p7-9wgI3IDdf",
    "outputId": "9e8d4b07-68c3-4a5e-854b-47078d430e1f"
   },
   "outputs": [
    {
     "name": "stdout",
     "output_type": "stream",
     "text": [
      "Xtrain shape: (6313, 716)\n",
      "Ytrain shape: (6313,)\n",
      "Xpredict shape: (3430, 716)\n"
     ]
    }
   ],
   "source": [
    "with open(\"/content/drive/My Drive/Colab Notebooks/Carnival Wars/Carnival_Wars_Dataset.txt\", 'rb') as handle: \n",
    "    data = handle.read()\n",
    "\n",
    "processed_data = pickle.loads(data)\n",
    "Xtrain = processed_data['Xtrain']\n",
    "Ytrain = processed_data['Ytrain']\n",
    "Xpredict = processed_data['Xpredict']\n",
    "\n",
    "Ytrain = np.cbrt(Ytrain)\n",
    "\n",
    "print(\"Xtrain shape: {}\".format(Xtrain.shape))\n",
    "print(\"Ytrain shape: {}\".format(Ytrain.shape))\n",
    "print(\"Xpredict shape: {}\".format(Xpredict.shape))"
   ]
  },
  {
   "cell_type": "code",
   "execution_count": 7,
   "metadata": {
    "colab": {
     "base_uri": "https://localhost:8080/"
    },
    "executionInfo": {
     "elapsed": 6799,
     "status": "ok",
     "timestamp": 1606999431746,
     "user": {
      "displayName": "TAPAS DAS",
      "photoUrl": "https://lh3.googleusercontent.com/a-/AOh14GiyffdGKiPCR_UwVittzTcbBFms70IkGfU15fatCA=s64",
      "userId": "10798398878324948542"
     },
     "user_tz": -330
    },
    "id": "dtusEAQXIDfp",
    "outputId": "48030ad5-4817-4fb8-98d7-c76500981440"
   },
   "outputs": [
    {
     "name": "stdout",
     "output_type": "stream",
     "text": [
      "[0, 1, 2, 3, 4, 5, 6, 7, 8, 9, 10, 11, 12, 13, 14, 15, 16]\n"
     ]
    }
   ],
   "source": [
    "categorical_columns = ['Stall_no','Market_Category','Loyalty_customer',\n",
    "                       'Product_Category','instock_time','Grade_Bin','Grade',\n",
    "                       'Demand','Discount_avail','instock_date_year','charges_2 (%)',\n",
    "                       'instock_date_quarter','Market_Bin','instock_date_month',\n",
    "                       'instock_date_day_week','instock_date_day_weekend',\n",
    "                       'clusters_k']\n",
    "categorical_columns_indices = [Xtrain.columns.get_loc(col) for col in categorical_columns]\n",
    "print(categorical_columns_indices)"
   ]
  },
  {
   "cell_type": "markdown",
   "metadata": {
    "id": "FKWuQvlxJUft"
   },
   "source": [
    "## Base Models"
   ]
  },
  {
   "cell_type": "markdown",
   "metadata": {
    "id": "mWhkhSDwXQY7"
   },
   "source": [
    "### Support Vector Regressor"
   ]
  },
  {
   "cell_type": "code",
   "execution_count": 8,
   "metadata": {
    "colab": {
     "base_uri": "https://localhost:8080/"
    },
    "executionInfo": {
     "elapsed": 1207555,
     "status": "ok",
     "timestamp": 1607000632511,
     "user": {
      "displayName": "TAPAS DAS",
      "photoUrl": "https://lh3.googleusercontent.com/a-/AOh14GiyffdGKiPCR_UwVittzTcbBFms70IkGfU15fatCA=s64",
      "userId": "10798398878324948542"
     },
     "user_tz": -330
    },
    "id": "teu-kDyeXUjr",
    "outputId": "66aef667-791c-4644-d163-64405cdb5962"
   },
   "outputs": [
    {
     "name": "stdout",
     "output_type": "stream",
     "text": [
      "Seed-57 | Fold-0 | RMSLE Score: 0.057325111960314167\n",
      "Seed-57 | Fold-1 | RMSLE Score: 0.05384219904685639\n",
      "Seed-57 | Fold-2 | RMSLE Score: 0.067634901123683\n",
      "Seed-57 | Fold-3 | RMSLE Score: 0.05073628755738372\n",
      "Seed-57 | Fold-4 | RMSLE Score: 0.04890549321929021\n",
      "Seed-57 | Fold-5 | RMSLE Score: 0.039977281314995804\n",
      "Seed-57 | Fold-6 | RMSLE Score: 0.04040844726166522\n",
      "\n",
      "Seed: 57 | Aggregate RMSLE Score: 0.05126138878345549\n",
      "\n",
      "\n",
      "Seed-96 | Fold-0 | RMSLE Score: 0.05256516597042344\n",
      "Seed-96 | Fold-1 | RMSLE Score: 0.054415574222729135\n",
      "Seed-96 | Fold-2 | RMSLE Score: 0.06222980892951043\n",
      "Seed-96 | Fold-3 | RMSLE Score: 0.04407896390697256\n",
      "Seed-96 | Fold-4 | RMSLE Score: 0.05121151259694824\n",
      "Seed-96 | Fold-5 | RMSLE Score: 0.053140615980023474\n",
      "Seed-96 | Fold-6 | RMSLE Score: 0.04192806890780631\n",
      "\n",
      "Seed: 96 | Aggregate RMSLE Score: 0.05136710150205908\n",
      "\n",
      "\n",
      "Seed-73 | Fold-0 | RMSLE Score: 0.05112837819195662\n",
      "Seed-73 | Fold-1 | RMSLE Score: 0.04874117544615895\n",
      "Seed-73 | Fold-2 | RMSLE Score: 0.0707918966831899\n",
      "Seed-73 | Fold-3 | RMSLE Score: 0.050649543868819535\n",
      "Seed-73 | Fold-4 | RMSLE Score: 0.04568639911251201\n",
      "Seed-73 | Fold-5 | RMSLE Score: 0.046246363562598806\n",
      "Seed-73 | Fold-6 | RMSLE Score: 0.047893906000825694\n",
      "\n",
      "Seed: 73 | Aggregate RMSLE Score: 0.05159109469515165\n",
      "\n",
      "\n",
      "Aggregate RMSLE Score: 0.05140652832688873\n"
     ]
    }
   ],
   "source": [
    "# Set number of K-Folds and seeds\n",
    "FOLD = 7\n",
    "NUM_SEED = 3\n",
    "\n",
    "# Set seeds for model training\n",
    "np.random.seed(51)\n",
    "seeds = np.random.randint(0, 100, size=NUM_SEED)\n",
    "\n",
    "y_pred_final_svr = 0\n",
    "y_pred_meta_svr = np.zeros((Ytrain.shape[0], NUM_SEED))\n",
    "oof_rmsle_score_svr = 0\n",
    "counter = 0\n",
    "\n",
    "\n",
    "for sidx, seed in enumerate(seeds):\n",
    "    seed_rmsle_score = 0\n",
    "\n",
    "    # Define K-fold cross validation test harness\n",
    "    kfold = KFold(n_splits=FOLD, shuffle=True, random_state=seed)\n",
    "\n",
    "    for idx, (train, val) in enumerate(kfold.split(Xtrain.values, Ytrain.values)):\n",
    "        counter += 1\n",
    "\n",
    "        train_x, train_y = Xtrain.values[train], Ytrain.values[train]\n",
    "        val_x, val_y = Xtrain.values[val], Ytrain.values[val]\n",
    "\n",
    "        model = SVR(C=20, epsilon=0.01, gamma=0.0001)\n",
    "        model.fit(train_x, train_y.ravel())\n",
    "\n",
    "        y_pred = model.predict(val_x)\n",
    "        y_pred_meta_svr[val, sidx] = y_pred\n",
    "        y_pred_final_svr += model.predict(Xpredict.values)\n",
    "        \n",
    "        score = np.sqrt(mean_squared_log_error(val_y, y_pred))\n",
    "        oof_rmsle_score_svr += score\n",
    "        seed_rmsle_score += score\n",
    "        print(\"Seed-{} | Fold-{} | RMSLE Score: {}\".format(seed, idx, score))\n",
    "    \n",
    "    print(\"\\nSeed: {} | Aggregate RMSLE Score: {}\\n\\n\".format(seed, (seed_rmsle_score / FOLD)))\n",
    "\n",
    "y_pred_meta_svr = np.mean(y_pred_meta_svr, axis=1)\n",
    "y_pred_final_svr /= float(counter)\n",
    "oof_rmsle_score_svr /= float(counter)\n",
    "print(\"Aggregate RMSLE Score: {}\".format(oof_rmsle_score_svr))"
   ]
  },
  {
   "cell_type": "markdown",
   "metadata": {
    "id": "PI9VzPUFJWGU"
   },
   "source": [
    "### CatBoost"
   ]
  },
  {
   "cell_type": "code",
   "execution_count": 9,
   "metadata": {
    "colab": {
     "base_uri": "https://localhost:8080/"
    },
    "executionInfo": {
     "elapsed": 449023,
     "status": "ok",
     "timestamp": 1607001092545,
     "user": {
      "displayName": "TAPAS DAS",
      "photoUrl": "https://lh3.googleusercontent.com/a-/AOh14GiyffdGKiPCR_UwVittzTcbBFms70IkGfU15fatCA=s64",
      "userId": "10798398878324948542"
     },
     "user_tz": -330
    },
    "id": "hdjHujz6JRbK",
    "outputId": "915b2568-a43b-46a3-d13e-29891031b012"
   },
   "outputs": [
    {
     "name": "stdout",
     "output_type": "stream",
     "text": [
      "0:\tlearn: 3.8976661\ttest: 3.7861431\tbest: 3.7861431 (0)\ttotal: 50.4ms\tremaining: 6m 43s\n",
      "500:\tlearn: 0.2465197\ttest: 0.3645905\tbest: 0.3645905 (500)\ttotal: 13.2s\tremaining: 3m 17s\n",
      "1000:\tlearn: 0.1982681\ttest: 0.3612073\tbest: 0.3610339 (983)\ttotal: 20.8s\tremaining: 2m 25s\n",
      "1500:\tlearn: 0.1704696\ttest: 0.3616646\tbest: 0.3608981 (1311)\ttotal: 29.1s\tremaining: 2m 5s\n",
      "bestTest = 0.3608981161\n",
      "bestIteration = 1311\n",
      "Shrink model to first 1312 iterations.\n",
      "Seed-28 | Fold-0 | RMSLE Score: 0.021351622960133973\n",
      "0:\tlearn: 3.8998285\ttest: 3.7740906\tbest: 3.7740906 (0)\ttotal: 39.9ms\tremaining: 5m 18s\n",
      "500:\tlearn: 0.2428322\ttest: 0.3013561\tbest: 0.3013561 (500)\ttotal: 12.2s\tremaining: 3m 2s\n",
      "bestTest = 0.3001354016\n",
      "bestIteration = 798\n",
      "Shrink model to first 799 iterations.\n",
      "Seed-28 | Fold-1 | RMSLE Score: 0.0190921800079547\n",
      "0:\tlearn: 3.8637715\ttest: 3.9899798\tbest: 3.9899798 (0)\ttotal: 41.3ms\tremaining: 5m 30s\n",
      "500:\tlearn: 0.2095841\ttest: 0.5584477\tbest: 0.5584477 (500)\ttotal: 13.3s\tremaining: 3m 19s\n",
      "bestTest = 0.5578977164\n",
      "bestIteration = 708\n",
      "Shrink model to first 709 iterations.\n",
      "Seed-28 | Fold-2 | RMSLE Score: 0.05264425696856317\n",
      "0:\tlearn: 3.8742081\ttest: 3.9283364\tbest: 3.9283364 (0)\ttotal: 38.9ms\tremaining: 5m 11s\n",
      "500:\tlearn: 0.2332915\ttest: 0.3659507\tbest: 0.3658511 (490)\ttotal: 12.9s\tremaining: 3m 12s\n",
      "1000:\tlearn: 0.1848688\ttest: 0.3614175\tbest: 0.3610051 (927)\ttotal: 21.3s\tremaining: 2m 29s\n",
      "bestTest = 0.3610051479\n",
      "bestIteration = 927\n",
      "Shrink model to first 928 iterations.\n",
      "Seed-28 | Fold-3 | RMSLE Score: 0.025560965196070182\n",
      "0:\tlearn: 3.8990931\ttest: 3.7772335\tbest: 3.7772335 (0)\ttotal: 38.7ms\tremaining: 5m 9s\n",
      "500:\tlearn: 0.2568383\ttest: 0.3883627\tbest: 0.3880026 (439)\ttotal: 12.4s\tremaining: 3m 5s\n",
      "bestTest = 0.388002648\n",
      "bestIteration = 439\n",
      "Shrink model to first 440 iterations.\n",
      "Seed-28 | Fold-4 | RMSLE Score: 0.025134328362357967\n",
      "0:\tlearn: 3.8713144\ttest: 3.9468711\tbest: 3.9468711 (0)\ttotal: 39.3ms\tremaining: 5m 14s\n",
      "500:\tlearn: 0.2452468\ttest: 0.4624440\tbest: 0.4624440 (500)\ttotal: 13.6s\tremaining: 3m 22s\n",
      "bestTest = 0.4604145705\n",
      "bestIteration = 799\n",
      "Shrink model to first 800 iterations.\n",
      "Seed-28 | Fold-5 | RMSLE Score: 0.03306592040974581\n",
      "0:\tlearn: 3.8677315\ttest: 3.9670811\tbest: 3.9670811 (0)\ttotal: 43.3ms\tremaining: 5m 46s\n",
      "500:\tlearn: 0.2216373\ttest: 0.5036623\tbest: 0.5033342 (421)\ttotal: 13.1s\tremaining: 3m 16s\n",
      "bestTest = 0.503264748\n",
      "bestIteration = 564\n",
      "Shrink model to first 565 iterations.\n",
      "Seed-28 | Fold-6 | RMSLE Score: 0.03546764915355135\n",
      "\n",
      "Seed: 28 | Aggregate RMSLE Score: 0.030330989008339592\n",
      "\n",
      "\n",
      "0:\tlearn: 3.8914661\ttest: 3.8243806\tbest: 3.8243806 (0)\ttotal: 39.5ms\tremaining: 5m 15s\n",
      "500:\tlearn: 0.2443486\ttest: 0.4278116\tbest: 0.4273101 (492)\ttotal: 12.5s\tremaining: 3m 7s\n",
      "bestTest = 0.4273100867\n",
      "bestIteration = 492\n",
      "Shrink model to first 493 iterations.\n",
      "Seed-11 | Fold-0 | RMSLE Score: 0.025840065715900765\n",
      "0:\tlearn: 3.8872590\ttest: 3.8506922\tbest: 3.8506922 (0)\ttotal: 39.6ms\tremaining: 5m 16s\n",
      "500:\tlearn: 0.2506043\ttest: 0.3912848\tbest: 0.3909999 (488)\ttotal: 12.8s\tremaining: 3m 11s\n",
      "1000:\tlearn: 0.2020771\ttest: 0.3875203\tbest: 0.3875203 (1000)\ttotal: 20.9s\tremaining: 2m 26s\n",
      "bestTest = 0.3873650085\n",
      "bestIteration = 1240\n",
      "Shrink model to first 1241 iterations.\n",
      "Seed-11 | Fold-1 | RMSLE Score: 0.029291960537694964\n",
      "0:\tlearn: 3.9039806\ttest: 3.7470557\tbest: 3.7470557 (0)\ttotal: 42.3ms\tremaining: 5m 37s\n",
      "500:\tlearn: 0.2373362\ttest: 0.3317012\tbest: 0.3316748 (494)\ttotal: 13.4s\tremaining: 3m 20s\n",
      "bestTest = 0.3299455265\n",
      "bestIteration = 563\n",
      "Shrink model to first 564 iterations.\n",
      "Seed-11 | Fold-2 | RMSLE Score: 0.02465235987148259\n",
      "0:\tlearn: 3.8513804\ttest: 4.0607826\tbest: 4.0607826 (0)\ttotal: 40.7ms\tremaining: 5m 25s\n",
      "500:\tlearn: 0.2128543\ttest: 0.5771324\tbest: 0.5771324 (500)\ttotal: 13.7s\tremaining: 3m 24s\n",
      "1000:\tlearn: 0.1746595\ttest: 0.5757227\tbest: 0.5757227 (1000)\ttotal: 22.5s\tremaining: 2m 37s\n",
      "bestTest = 0.5757017191\n",
      "bestIteration = 1029\n",
      "Shrink model to first 1030 iterations.\n",
      "Seed-11 | Fold-3 | RMSLE Score: 0.053100745432276615\n",
      "0:\tlearn: 3.8602175\ttest: 4.0106725\tbest: 4.0106725 (0)\ttotal: 40ms\tremaining: 5m 20s\n",
      "500:\tlearn: 0.2365201\ttest: 0.3957807\tbest: 0.3917547 (418)\ttotal: 12.5s\tremaining: 3m 7s\n",
      "bestTest = 0.3917547497\n",
      "bestIteration = 418\n",
      "Shrink model to first 419 iterations.\n",
      "Seed-11 | Fold-4 | RMSLE Score: 0.024898767176407006\n",
      "0:\tlearn: 3.9047873\ttest: 3.7423615\tbest: 3.7423615 (0)\ttotal: 44.7ms\tremaining: 5m 57s\n",
      "500:\tlearn: 0.2433516\ttest: 0.3092701\tbest: 0.3078144 (370)\ttotal: 12.9s\tremaining: 3m 13s\n",
      "bestTest = 0.3078144268\n",
      "bestIteration = 370\n",
      "Shrink model to first 371 iterations.\n",
      "Seed-11 | Fold-5 | RMSLE Score: 0.019291661614988857\n",
      "0:\tlearn: 3.8742996\ttest: 3.9278351\tbest: 3.9278351 (0)\ttotal: 43.8ms\tremaining: 5m 50s\n",
      "500:\tlearn: 0.2369285\ttest: 0.4944526\tbest: 0.4944526 (500)\ttotal: 12.9s\tremaining: 3m 13s\n",
      "bestTest = 0.4936625806\n",
      "bestIteration = 609\n",
      "Shrink model to first 610 iterations.\n",
      "Seed-11 | Fold-6 | RMSLE Score: 0.038285191167903396\n",
      "\n",
      "Seed: 11 | Aggregate RMSLE Score: 0.03076582164523631\n",
      "\n",
      "\n",
      "0:\tlearn: 3.8766523\ttest: 3.9138161\tbest: 3.9138161 (0)\ttotal: 39.7ms\tremaining: 5m 17s\n",
      "500:\tlearn: 0.2305504\ttest: 0.3385632\tbest: 0.3385488 (499)\ttotal: 13.1s\tremaining: 3m 15s\n",
      "bestTest = 0.3362091765\n",
      "bestIteration = 715\n",
      "Shrink model to first 716 iterations.\n",
      "Seed-13 | Fold-0 | RMSLE Score: 0.019533437417721494\n",
      "0:\tlearn: 3.9020103\ttest: 3.7587847\tbest: 3.7587847 (0)\ttotal: 40.4ms\tremaining: 5m 23s\n",
      "500:\tlearn: 0.2427772\ttest: 0.3580545\tbest: 0.3579615 (496)\ttotal: 14s\tremaining: 3m 29s\n",
      "bestTest = 0.3579614978\n",
      "bestIteration = 496\n",
      "Shrink model to first 497 iterations.\n",
      "Seed-13 | Fold-1 | RMSLE Score: 0.025931925845085534\n",
      "0:\tlearn: 3.8756958\ttest: 3.9204457\tbest: 3.9204457 (0)\ttotal: 39.1ms\tremaining: 5m 12s\n",
      "500:\tlearn: 0.2418623\ttest: 0.3497307\tbest: 0.3495629 (495)\ttotal: 13.4s\tremaining: 3m 20s\n",
      "bestTest = 0.3492622181\n",
      "bestIteration = 576\n",
      "Shrink model to first 577 iterations.\n",
      "Seed-13 | Fold-2 | RMSLE Score: 0.028643399050170312\n",
      "0:\tlearn: 3.8757101\ttest: 3.9213189\tbest: 3.9213189 (0)\ttotal: 36.1ms\tremaining: 4m 48s\n",
      "500:\tlearn: 0.2278992\ttest: 0.5674086\tbest: 0.5669274 (472)\ttotal: 13.6s\tremaining: 3m 22s\n",
      "bestTest = 0.566498142\n",
      "bestIteration = 559\n",
      "Shrink model to first 560 iterations.\n",
      "Seed-13 | Fold-3 | RMSLE Score: 0.04057097383804967\n",
      "0:\tlearn: 3.8661349\ttest: 3.9758022\tbest: 3.9758022 (0)\ttotal: 45.2ms\tremaining: 6m 1s\n",
      "500:\tlearn: 0.2322812\ttest: 0.5010495\tbest: 0.5000274 (431)\ttotal: 13.9s\tremaining: 3m 28s\n",
      "bestTest = 0.500027438\n",
      "bestIteration = 431\n",
      "Shrink model to first 432 iterations.\n",
      "Seed-13 | Fold-4 | RMSLE Score: 0.033920493701073834\n",
      "0:\tlearn: 3.8952944\ttest: 3.8012169\tbest: 3.8012169 (0)\ttotal: 41.6ms\tremaining: 5m 32s\n",
      "500:\tlearn: 0.2436496\ttest: 0.2823895\tbest: 0.2823895 (500)\ttotal: 13.4s\tremaining: 3m 20s\n",
      "1000:\tlearn: 0.1954821\ttest: 0.2796957\tbest: 0.2790391 (835)\ttotal: 22s\tremaining: 2m 34s\n",
      "bestTest = 0.279039067\n",
      "bestIteration = 835\n",
      "Shrink model to first 836 iterations.\n",
      "Seed-13 | Fold-5 | RMSLE Score: 0.017527784397946326\n",
      "0:\tlearn: 3.8821958\ttest: 3.8807043\tbest: 3.8807043 (0)\ttotal: 45.7ms\tremaining: 6m 5s\n",
      "500:\tlearn: 0.2168826\ttest: 0.5275818\tbest: 0.5275543 (499)\ttotal: 13.2s\tremaining: 3m 16s\n",
      "1000:\tlearn: 0.1714719\ttest: 0.5263504\tbest: 0.5261515 (841)\ttotal: 22.5s\tremaining: 2m 37s\n",
      "bestTest = 0.5261514511\n",
      "bestIteration = 841\n",
      "Shrink model to first 842 iterations.\n",
      "Seed-13 | Fold-6 | RMSLE Score: 0.04904930403683845\n",
      "\n",
      "Seed: 13 | Aggregate RMSLE Score: 0.03073961689812652\n",
      "\n",
      "\n",
      "Aggregate RMSLE Score: 0.03061214251723414\n"
     ]
    }
   ],
   "source": [
    "# Set number of K-Folds and seeds\n",
    "FOLD = 7\n",
    "NUM_SEED = 3\n",
    "\n",
    "# Set seeds for model training\n",
    "np.random.seed(52)\n",
    "seeds = np.random.randint(0, 100, size=NUM_SEED)\n",
    "\n",
    "oof_rmsle_score_cb = 0\n",
    "y_pred_meta_cb = np.zeros((Ytrain.shape[0], NUM_SEED))\n",
    "y_pred_final_cb = 0\n",
    "counter = 0\n",
    "\n",
    "\n",
    "for sidx, seed in enumerate(seeds):\n",
    "    seed_rmsle_score = 0\n",
    "    \n",
    "    # Define K-fold cross validation test harness\n",
    "    kfold = KFold(n_splits=FOLD, shuffle=True, random_state=seed)\n",
    "    \n",
    "    for idx, (train, val) in enumerate(kfold.split(Xtrain.values, Ytrain.values)):\n",
    "        counter += 1\n",
    "\n",
    "        train_x, train_y = Xtrain.iloc[train], Ytrain.iloc[train]\n",
    "        val_x, val_y = Xtrain.iloc[val], Ytrain.iloc[val]\n",
    "\n",
    "        model = CatBoostRegressor(\n",
    "            objective='RMSE',\n",
    "            eval_metric='RMSE',\n",
    "            num_boost_round=8000,\n",
    "            learning_rate=0.013265,\n",
    "            reg_lambda=0.0001764,\n",
    "            bootstrap_type='Poisson',\n",
    "            subsample=0.50655,\n",
    "            max_depth=6, \n",
    "            grow_policy='Lossguide',\n",
    "            min_data_in_leaf=8, \n",
    "            max_leaves=453,\n",
    "            task_type='GPU',\n",
    "            verbose=0\n",
    "        )\n",
    "\n",
    "        model.fit(train_x, train_y, eval_set=[(val_x, val_y)], \n",
    "                  cat_features=categorical_columns_indices,\n",
    "                  early_stopping_rounds=200, verbose=500)\n",
    "\n",
    "        y_pred = model.predict(val_x)\n",
    "        y_pred_meta_cb[val, sidx] = y_pred\n",
    "        y_pred_final_cb += model.predict(Xpredict)\n",
    "        \n",
    "        score = np.sqrt(mean_squared_log_error(val_y, y_pred))\n",
    "        seed_rmsle_score += score\n",
    "        oof_rmsle_score_cb += score\n",
    "        print(\"Seed-{} | Fold-{} | RMSLE Score: {}\".format(seed, idx, score))\n",
    "    \n",
    "    print(\"\\nSeed: {} | Aggregate RMSLE Score: {}\\n\\n\".format(seed, (seed_rmsle_score / FOLD)))\n",
    "\n",
    "y_pred_meta_cb = np.mean(y_pred_meta_cb, axis=1)\n",
    "y_pred_final_cb /= float(counter)\n",
    "oof_rmsle_score_cb /= float(counter)\n",
    "print(\"Aggregate RMSLE Score: {}\".format(oof_rmsle_score_cb))"
   ]
  },
  {
   "cell_type": "markdown",
   "metadata": {
    "id": "VdrMbRryBF1p"
   },
   "source": [
    "### Lasso"
   ]
  },
  {
   "cell_type": "code",
   "execution_count": 10,
   "metadata": {
    "colab": {
     "base_uri": "https://localhost:8080/"
    },
    "executionInfo": {
     "elapsed": 40060,
     "status": "ok",
     "timestamp": 1607001165531,
     "user": {
      "displayName": "TAPAS DAS",
      "photoUrl": "https://lh3.googleusercontent.com/a-/AOh14GiyffdGKiPCR_UwVittzTcbBFms70IkGfU15fatCA=s64",
      "userId": "10798398878324948542"
     },
     "user_tz": -330
    },
    "id": "XnuKUtPiMJyN",
    "outputId": "565bc0d9-ce38-4c5f-a0a6-1a578086a347"
   },
   "outputs": [
    {
     "name": "stdout",
     "output_type": "stream",
     "text": [
      "Seed-25 | Fold-0 | RMSLE Score: 0.064404296639979\n",
      "Seed-25 | Fold-1 | RMSLE Score: 0.06507736215493017\n",
      "Seed-25 | Fold-2 | RMSLE Score: 0.058047683490048956\n",
      "Seed-25 | Fold-3 | RMSLE Score: 0.05115486359199724\n",
      "Seed-25 | Fold-4 | RMSLE Score: 0.06081179622989832\n",
      "Seed-25 | Fold-5 | RMSLE Score: 0.07280230264931184\n",
      "Seed-25 | Fold-6 | RMSLE Score: 0.05625332697278897\n",
      "\n",
      "Seed: 25 | Aggregate RMSLE Score: 0.06122166167556493\n",
      "\n",
      "\n",
      "Seed-29 | Fold-0 | RMSLE Score: 0.06747738015110046\n",
      "Seed-29 | Fold-1 | RMSLE Score: 0.06226968781593914\n",
      "Seed-29 | Fold-2 | RMSLE Score: 0.0768393809248281\n",
      "Seed-29 | Fold-3 | RMSLE Score: 0.05062639257858949\n",
      "Seed-29 | Fold-4 | RMSLE Score: 0.05460357444702045\n",
      "Seed-29 | Fold-5 | RMSLE Score: 0.05592470176498878\n",
      "Seed-29 | Fold-6 | RMSLE Score: 0.05905135344448405\n",
      "\n",
      "Seed: 29 | Aggregate RMSLE Score: 0.06097035301813578\n",
      "\n",
      "\n",
      "Seed-37 | Fold-0 | RMSLE Score: 0.06153134248263519\n",
      "Seed-37 | Fold-1 | RMSLE Score: 0.06583024783215242\n",
      "Seed-37 | Fold-2 | RMSLE Score: 0.0646799921859883\n",
      "Seed-37 | Fold-3 | RMSLE Score: 0.07374304292244432\n",
      "Seed-37 | Fold-4 | RMSLE Score: 0.057336074474830634\n",
      "Seed-37 | Fold-5 | RMSLE Score: 0.05381716003792781\n",
      "Seed-37 | Fold-6 | RMSLE Score: 0.050082347647172495\n",
      "\n",
      "Seed: 37 | Aggregate RMSLE Score: 0.061002886797593026\n",
      "\n",
      "\n",
      "Aggregate RMSLE Score: 0.06106496716376458\n"
     ]
    }
   ],
   "source": [
    "# Set number of K-Folds and seeds\n",
    "FOLD = 7\n",
    "NUM_SEED = 3\n",
    "\n",
    "# Set seeds for model training\n",
    "np.random.seed(53)\n",
    "seeds = np.random.randint(0, 100, size=NUM_SEED)\n",
    "\n",
    "y_pred_final_lasso = 0\n",
    "y_pred_meta_lasso = np.zeros((Ytrain.shape[0], NUM_SEED))\n",
    "oof_rmsle_score_lasso = 0\n",
    "counter = 0\n",
    "\n",
    "\n",
    "for sidx, seed in enumerate(seeds):\n",
    "    seed_rmsle_score = 0\n",
    "\n",
    "    # Define K-fold cross validation test harness\n",
    "    kfold = KFold(n_splits=FOLD, shuffle=True, random_state=seed)\n",
    "\n",
    "    for idx, (train, val) in enumerate(kfold.split(Xtrain.values, Ytrain.values)):\n",
    "        counter += 1\n",
    "\n",
    "        train_x, train_y = Xtrain.values[train], Ytrain.values[train]\n",
    "        val_x, val_y = Xtrain.values[val], Ytrain.values[val]\n",
    "\n",
    "        model = Lasso(alpha=0.09747, random_state=51)\n",
    "        model.fit(train_x, train_y.ravel())\n",
    "\n",
    "        y_pred = model.predict(val_x)\n",
    "        y_pred_meta_lasso[val, sidx] = y_pred\n",
    "        y_pred_final_lasso += model.predict(Xpredict.values)\n",
    "        \n",
    "        score = np.sqrt(mean_squared_log_error(val_y, y_pred))\n",
    "        oof_rmsle_score_lasso += score\n",
    "        seed_rmsle_score += score\n",
    "        print(\"Seed-{} | Fold-{} | RMSLE Score: {}\".format(seed, idx, score))\n",
    "    \n",
    "    print(\"\\nSeed: {} | Aggregate RMSLE Score: {}\\n\\n\".format(seed, (seed_rmsle_score / FOLD)))\n",
    "\n",
    "y_pred_meta_lasso = np.mean(y_pred_meta_lasso, axis=1)\n",
    "y_pred_final_lasso /= float(counter)\n",
    "oof_rmsle_score_lasso /= float(counter)\n",
    "print(\"Aggregate RMSLE Score: {}\".format(oof_rmsle_score_lasso))"
   ]
  },
  {
   "cell_type": "markdown",
   "metadata": {
    "id": "s7t381z5KLtD"
   },
   "source": [
    "### LightGBM"
   ]
  },
  {
   "cell_type": "code",
   "execution_count": 11,
   "metadata": {
    "executionInfo": {
     "elapsed": 37167,
     "status": "ok",
     "timestamp": 1607001165533,
     "user": {
      "displayName": "TAPAS DAS",
      "photoUrl": "https://lh3.googleusercontent.com/a-/AOh14GiyffdGKiPCR_UwVittzTcbBFms70IkGfU15fatCA=s64",
      "userId": "10798398878324948542"
     },
     "user_tz": -330
    },
    "id": "tg0gGjE4JRdX"
   },
   "outputs": [],
   "source": [
    "# Define model hyperparameters\n",
    "params = {}\n",
    "params[\"objective\"] = 'regression'\n",
    "params[\"metric\"] = 'rmse'\n",
    "params[\"boosting\"] = 'gbdt'\n",
    "params[\"device_type\"] = 'gpu'\n",
    "params[\"learning_rate\"] = 0.01252\n",
    "params[\"lambda_l2\"] = 0.416361\n",
    "params[\"num_leaves\"] = 911\n",
    "params[\"max_depth\"] = 22\n",
    "params[\"feature_fraction\"] = 0.685\n",
    "params[\"bagging_fraction\"] = 0.689\n",
    "params[\"bagging_freq\"] = 10\n",
    "params[\"min_data_in_leaf\"] = 10\n",
    "params[\"verbosity\"] = -1\n",
    "num_rounds = 8000"
   ]
  },
  {
   "cell_type": "code",
   "execution_count": 12,
   "metadata": {
    "colab": {
     "base_uri": "https://localhost:8080/"
    },
    "executionInfo": {
     "elapsed": 1079745,
     "status": "ok",
     "timestamp": 1607003002075,
     "user": {
      "displayName": "TAPAS DAS",
      "photoUrl": "https://lh3.googleusercontent.com/a-/AOh14GiyffdGKiPCR_UwVittzTcbBFms70IkGfU15fatCA=s64",
      "userId": "10798398878324948542"
     },
     "user_tz": -330
    },
    "id": "8yxtVKr3JRf-",
    "outputId": "ba70373c-7f20-4257-ebf5-50a1ce12f48e"
   },
   "outputs": [
    {
     "name": "stdout",
     "output_type": "stream",
     "text": [
      "Training until validation scores don't improve for 100 rounds\n",
      "[500]\ttraining's rmse: 0.202841\tvalid_1's rmse: 0.42473\n",
      "Early stopping, best iteration is:\n",
      "[653]\ttraining's rmse: 0.16676\tvalid_1's rmse: 0.422381\n",
      "Seed-69 | Fold-0 | RMSLE Score: 0.030455232510151975\n",
      "Training until validation scores don't improve for 100 rounds\n",
      "[500]\ttraining's rmse: 0.165993\tvalid_1's rmse: 0.594719\n",
      "Early stopping, best iteration is:\n",
      "[404]\ttraining's rmse: 0.193819\tvalid_1's rmse: 0.59174\n",
      "Seed-69 | Fold-1 | RMSLE Score: 0.05308237431329139\n",
      "Training until validation scores don't improve for 100 rounds\n",
      "Early stopping, best iteration is:\n",
      "[391]\ttraining's rmse: 0.241306\tvalid_1's rmse: 0.349569\n",
      "Seed-69 | Fold-2 | RMSLE Score: 0.026265192338100162\n",
      "Training until validation scores don't improve for 100 rounds\n",
      "[500]\ttraining's rmse: 0.188757\tvalid_1's rmse: 0.453141\n",
      "Early stopping, best iteration is:\n",
      "[418]\ttraining's rmse: 0.208409\tvalid_1's rmse: 0.452595\n",
      "Seed-69 | Fold-3 | RMSLE Score: 0.031018736623113122\n",
      "Training until validation scores don't improve for 100 rounds\n",
      "[500]\ttraining's rmse: 0.209817\tvalid_1's rmse: 0.302005\n",
      "Early stopping, best iteration is:\n",
      "[550]\ttraining's rmse: 0.197305\tvalid_1's rmse: 0.299595\n",
      "Seed-69 | Fold-4 | RMSLE Score: 0.022802116658807617\n",
      "Training until validation scores don't improve for 100 rounds\n",
      "[500]\ttraining's rmse: 0.207258\tvalid_1's rmse: 0.345566\n",
      "Early stopping, best iteration is:\n",
      "[530]\ttraining's rmse: 0.199407\tvalid_1's rmse: 0.343656\n",
      "Seed-69 | Fold-5 | RMSLE Score: 0.02398047403911039\n",
      "Training until validation scores don't improve for 100 rounds\n",
      "Early stopping, best iteration is:\n",
      "[358]\ttraining's rmse: 0.257738\tvalid_1's rmse: 0.368477\n",
      "Seed-69 | Fold-6 | RMSLE Score: 0.025468653886394955\n",
      "\n",
      "Seed: 69 | Aggregate RMSLE Score: 0.03043896862413852\n",
      "\n",
      "\n",
      "Training until validation scores don't improve for 100 rounds\n",
      "[500]\ttraining's rmse: 0.202731\tvalid_1's rmse: 0.302957\n",
      "Early stopping, best iteration is:\n",
      "[521]\ttraining's rmse: 0.196217\tvalid_1's rmse: 0.302191\n",
      "Seed-2 | Fold-0 | RMSLE Score: 0.02356795738056367\n",
      "Training until validation scores don't improve for 100 rounds\n",
      "[500]\ttraining's rmse: 0.199508\tvalid_1's rmse: 0.431784\n",
      "Early stopping, best iteration is:\n",
      "[580]\ttraining's rmse: 0.179708\tvalid_1's rmse: 0.426814\n",
      "Seed-2 | Fold-1 | RMSLE Score: 0.03275381861060728\n",
      "Training until validation scores don't improve for 100 rounds\n",
      "[500]\ttraining's rmse: 0.180453\tvalid_1's rmse: 0.548645\n",
      "Early stopping, best iteration is:\n",
      "[409]\ttraining's rmse: 0.210271\tvalid_1's rmse: 0.546423\n",
      "Seed-2 | Fold-2 | RMSLE Score: 0.051319256035108195\n",
      "Training until validation scores don't improve for 100 rounds\n",
      "Early stopping, best iteration is:\n",
      "[375]\ttraining's rmse: 0.234418\tvalid_1's rmse: 0.49361\n",
      "Seed-2 | Fold-3 | RMSLE Score: 0.033360637783421354\n",
      "Training until validation scores don't improve for 100 rounds\n",
      "[500]\ttraining's rmse: 0.195837\tvalid_1's rmse: 0.465338\n",
      "Early stopping, best iteration is:\n",
      "[406]\ttraining's rmse: 0.217946\tvalid_1's rmse: 0.458619\n",
      "Seed-2 | Fold-4 | RMSLE Score: 0.0305578819923048\n",
      "Training until validation scores don't improve for 100 rounds\n",
      "[500]\ttraining's rmse: 0.203643\tvalid_1's rmse: 0.302178\n",
      "Early stopping, best iteration is:\n",
      "[420]\ttraining's rmse: 0.230703\tvalid_1's rmse: 0.301221\n",
      "Seed-2 | Fold-5 | RMSLE Score: 0.019064692310682144\n",
      "Training until validation scores don't improve for 100 rounds\n",
      "Early stopping, best iteration is:\n",
      "[370]\ttraining's rmse: 0.252493\tvalid_1's rmse: 0.31909\n",
      "Seed-2 | Fold-6 | RMSLE Score: 0.02260611116703209\n",
      "\n",
      "Seed: 2 | Aggregate RMSLE Score: 0.03046147932567422\n",
      "\n",
      "\n",
      "Training until validation scores don't improve for 100 rounds\n",
      "Early stopping, best iteration is:\n",
      "[397]\ttraining's rmse: 0.242912\tvalid_1's rmse: 0.372258\n",
      "Seed-15 | Fold-0 | RMSLE Score: 0.023618222900063462\n",
      "Training until validation scores don't improve for 100 rounds\n",
      "[500]\ttraining's rmse: 0.201428\tvalid_1's rmse: 0.366438\n",
      "Early stopping, best iteration is:\n",
      "[490]\ttraining's rmse: 0.204796\tvalid_1's rmse: 0.366093\n",
      "Seed-15 | Fold-1 | RMSLE Score: 0.02540054300789646\n",
      "Training until validation scores don't improve for 100 rounds\n",
      "[500]\ttraining's rmse: 0.191066\tvalid_1's rmse: 0.447335\n",
      "Early stopping, best iteration is:\n",
      "[462]\ttraining's rmse: 0.199424\tvalid_1's rmse: 0.447256\n",
      "Seed-15 | Fold-2 | RMSLE Score: 0.03133796046539255\n",
      "Training until validation scores don't improve for 100 rounds\n",
      "[500]\ttraining's rmse: 0.21101\tvalid_1's rmse: 0.313863\n",
      "Early stopping, best iteration is:\n",
      "[617]\ttraining's rmse: 0.18637\tvalid_1's rmse: 0.312219\n",
      "Seed-15 | Fold-3 | RMSLE Score: 0.021860030770377844\n",
      "Training until validation scores don't improve for 100 rounds\n",
      "[500]\ttraining's rmse: 0.200381\tvalid_1's rmse: 0.401407\n",
      "Early stopping, best iteration is:\n",
      "[620]\ttraining's rmse: 0.174916\tvalid_1's rmse: 0.398704\n",
      "Seed-15 | Fold-4 | RMSLE Score: 0.03067861323610533\n",
      "Training until validation scores don't improve for 100 rounds\n",
      "[500]\ttraining's rmse: 0.202666\tvalid_1's rmse: 0.29852\n",
      "Early stopping, best iteration is:\n",
      "[410]\ttraining's rmse: 0.232932\tvalid_1's rmse: 0.296759\n",
      "Seed-15 | Fold-5 | RMSLE Score: 0.0185013711290416\n",
      "Training until validation scores don't improve for 100 rounds\n",
      "Early stopping, best iteration is:\n",
      "[380]\ttraining's rmse: 0.196533\tvalid_1's rmse: 0.629554\n",
      "Seed-15 | Fold-6 | RMSLE Score: 0.05685322059225338\n",
      "\n",
      "Seed: 15 | Aggregate RMSLE Score: 0.0297499945858758\n",
      "\n",
      "\n",
      "Aggregate RMSLE Score: 0.030216814178562843\n"
     ]
    }
   ],
   "source": [
    "# Set number of K-Folds and seeds\n",
    "FOLD = 7\n",
    "NUM_SEED = 3\n",
    "\n",
    "# Set seeds for model training\n",
    "np.random.seed(54)\n",
    "seeds = np.random.randint(0, 100, size=NUM_SEED)\n",
    "\n",
    "oof_rmsle_score_lgb = 0\n",
    "y_pred_meta_lgb = np.zeros((Ytrain.shape[0], NUM_SEED))\n",
    "y_pred_final_lgb = 0\n",
    "counter = 0\n",
    "\n",
    "\n",
    "for sidx, seed in enumerate(seeds):\n",
    "    seed_rmsle_score = 0\n",
    "    \n",
    "    # Define K-fold cross validation test harness\n",
    "    kfold = KFold(n_splits=FOLD, shuffle=True, random_state=seed)\n",
    "    \n",
    "    for idx, (train, val) in enumerate(kfold.split(Xtrain.values, Ytrain.values)):\n",
    "        counter += 1\n",
    "\n",
    "        train_x, train_y = Xtrain.iloc[train], Ytrain.iloc[train]\n",
    "        val_x, val_y = Xtrain.iloc[val], Ytrain.iloc[val]\n",
    "\n",
    "        lgtrain = lgb.Dataset(train_x, label=train_y)\n",
    "        lgvalidation = lgb.Dataset(val_x, label=val_y)\n",
    "\n",
    "        model = lgb.train(params, lgtrain, num_rounds, \n",
    "                          valid_sets=[lgtrain, lgvalidation], \n",
    "                          categorical_feature=categorical_columns_indices,\n",
    "                          early_stopping_rounds=100, verbose_eval=500)\n",
    "\n",
    "        y_pred = model.predict(val_x, num_iteration=model.best_iteration)\n",
    "        y_pred_meta_lgb[val, sidx] = y_pred\n",
    "        y_pred_final_lgb += model.predict(Xpredict, num_iteration=model.best_iteration)\n",
    "\n",
    "        score = np.sqrt(mean_squared_log_error(val_y, y_pred))\n",
    "        oof_rmsle_score_lgb += score\n",
    "        seed_rmsle_score += score\n",
    "        print(\"Seed-{} | Fold-{} | RMSLE Score: {}\".format(seed, idx, score))\n",
    "    \n",
    "    print(\"\\nSeed: {} | Aggregate RMSLE Score: {}\\n\\n\".format(seed, (seed_rmsle_score / FOLD)))\n",
    "\n",
    "y_pred_meta_lgb = np.mean(y_pred_meta_lgb, axis=1)\n",
    "y_pred_final_lgb /= float(counter)\n",
    "oof_rmsle_score_lgb /= float(counter)\n",
    "print(\"Aggregate RMSLE Score: {}\".format(oof_rmsle_score_lgb))"
   ]
  },
  {
   "cell_type": "markdown",
   "metadata": {
    "id": "d4ZjxjchBTSp"
   },
   "source": [
    "### ElasticNet\n",
    "\n"
   ]
  },
  {
   "cell_type": "code",
   "execution_count": 13,
   "metadata": {
    "colab": {
     "base_uri": "https://localhost:8080/"
    },
    "executionInfo": {
     "elapsed": 61041,
     "status": "ok",
     "timestamp": 1607003227563,
     "user": {
      "displayName": "TAPAS DAS",
      "photoUrl": "https://lh3.googleusercontent.com/a-/AOh14GiyffdGKiPCR_UwVittzTcbBFms70IkGfU15fatCA=s64",
      "userId": "10798398878324948542"
     },
     "user_tz": -330
    },
    "id": "1F-pByymBU4B",
    "outputId": "a6a4968b-1882-4464-f38e-038e86367855"
   },
   "outputs": [
    {
     "name": "stdout",
     "output_type": "stream",
     "text": [
      "Seed-77 | Fold-0 | RMSLE Score: 0.0730599791918475\n",
      "Seed-77 | Fold-1 | RMSLE Score: 0.05029655120170804\n",
      "Seed-77 | Fold-2 | RMSLE Score: 0.06609814933418906\n",
      "Seed-77 | Fold-3 | RMSLE Score: 0.05705350967842584\n",
      "Seed-77 | Fold-4 | RMSLE Score: 0.08094064126749961\n",
      "Seed-77 | Fold-5 | RMSLE Score: 0.05524008523702592\n",
      "Seed-77 | Fold-6 | RMSLE Score: 0.06280992803484209\n",
      "\n",
      "Seed: 77 | Aggregate RMSLE Score: 0.06364269199221972\n",
      "\n",
      "\n",
      "Seed-26 | Fold-0 | RMSLE Score: 0.05617919245688858\n",
      "Seed-26 | Fold-1 | RMSLE Score: 0.06365788151869976\n",
      "Seed-26 | Fold-2 | RMSLE Score: 0.06848881088830198\n",
      "Seed-26 | Fold-3 | RMSLE Score: 0.07369046140644546\n",
      "Seed-26 | Fold-4 | RMSLE Score: 0.06119319932692207\n",
      "Seed-26 | Fold-5 | RMSLE Score: 0.06028466364133685\n",
      "Seed-26 | Fold-6 | RMSLE Score: 0.06314866302830803\n",
      "\n",
      "Seed: 26 | Aggregate RMSLE Score: 0.06380612460955754\n",
      "\n",
      "\n",
      "Seed-39 | Fold-0 | RMSLE Score: 0.06893415835900726\n",
      "Seed-39 | Fold-1 | RMSLE Score: 0.05807123052705822\n",
      "Seed-39 | Fold-2 | RMSLE Score: 0.056138024577307925\n",
      "Seed-39 | Fold-3 | RMSLE Score: 0.07091264229194767\n",
      "Seed-39 | Fold-4 | RMSLE Score: 0.05227240092556603\n",
      "Seed-39 | Fold-5 | RMSLE Score: 0.08509670105622294\n",
      "Seed-39 | Fold-6 | RMSLE Score: 0.05289483409382525\n",
      "\n",
      "Seed: 39 | Aggregate RMSLE Score: 0.06347428454727647\n",
      "\n",
      "\n",
      "Aggregate RMSLE Score: 0.06364103371635126\n"
     ]
    }
   ],
   "source": [
    "# Set number of K-Folds and seeds\n",
    "FOLD = 7\n",
    "NUM_SEED = 3\n",
    "\n",
    "# Set seeds for model training\n",
    "np.random.seed(55)\n",
    "seeds = np.random.randint(0, 100, size=NUM_SEED)\n",
    "\n",
    "y_pred_final_enet = 0\n",
    "y_pred_meta_enet = np.zeros((Ytrain.shape[0], NUM_SEED))\n",
    "oof_rmsle_score_enet = 0\n",
    "counter = 0\n",
    "\n",
    "\n",
    "for sidx, seed in enumerate(seeds):\n",
    "    seed_rmsle_score = 0\n",
    "\n",
    "    # Define K-fold cross validation test harness\n",
    "    kfold = KFold(n_splits=FOLD, shuffle=True, random_state=seed)\n",
    "\n",
    "    for idx, (train, val) in enumerate(kfold.split(Xtrain.values, Ytrain.values)):\n",
    "        counter += 1\n",
    "\n",
    "        train_x, train_y = Xtrain.values[train], Ytrain.values[train]\n",
    "        val_x, val_y = Xtrain.values[val], Ytrain.values[val]\n",
    "\n",
    "        model = ElasticNet(alpha=0.01642, l1_ratio=0.00463, random_state=53)\n",
    "        model.fit(train_x, train_y.ravel())\n",
    "\n",
    "        y_pred = model.predict(val_x)\n",
    "        y_pred_meta_enet[val, sidx] = y_pred\n",
    "        y_pred_final_enet += model.predict(Xpredict.values)\n",
    "        \n",
    "        score = np.sqrt(mean_squared_log_error(val_y, y_pred))\n",
    "        oof_rmsle_score_enet += score\n",
    "        seed_rmsle_score += score\n",
    "        print(\"Seed-{} | Fold-{} | RMSLE Score: {}\".format(seed, idx, score))\n",
    "    \n",
    "    print(\"\\nSeed: {} | Aggregate RMSLE Score: {}\\n\\n\".format(seed, (seed_rmsle_score / FOLD)))\n",
    "\n",
    "y_pred_meta_enet = np.mean(y_pred_meta_enet, axis=1)\n",
    "y_pred_final_enet /= float(counter)\n",
    "oof_rmsle_score_enet /= float(counter)\n",
    "print(\"Aggregate RMSLE Score: {}\".format(oof_rmsle_score_enet))"
   ]
  },
  {
   "cell_type": "markdown",
   "metadata": {
    "id": "u2EPIQarKhIh"
   },
   "source": [
    "### XGBoost"
   ]
  },
  {
   "cell_type": "code",
   "execution_count": 14,
   "metadata": {
    "colab": {
     "base_uri": "https://localhost:8080/"
    },
    "executionInfo": {
     "elapsed": 92447,
     "status": "ok",
     "timestamp": 1607003450877,
     "user": {
      "displayName": "TAPAS DAS",
      "photoUrl": "https://lh3.googleusercontent.com/a-/AOh14GiyffdGKiPCR_UwVittzTcbBFms70IkGfU15fatCA=s64",
      "userId": "10798398878324948542"
     },
     "user_tz": -330
    },
    "id": "UU7L1t7lJRZa",
    "outputId": "b51239cd-a850-42c8-f95e-c2f9a4a9f780"
   },
   "outputs": [
    {
     "name": "stdout",
     "output_type": "stream",
     "text": [
      "[0]\tvalidation_0-rmsle:2.32289\n",
      "Will train until validation_0-rmsle hasn't improved in 200 rounds.\n",
      "[99]\tvalidation_0-rmsle:0.02604\n",
      "Seed-85 | Fold-0 | RMSLE Score: 0.026033289491927385\n",
      "[0]\tvalidation_0-rmsle:2.31987\n",
      "Will train until validation_0-rmsle hasn't improved in 200 rounds.\n",
      "[99]\tvalidation_0-rmsle:0.02277\n",
      "Seed-85 | Fold-1 | RMSLE Score: 0.022771400728328374\n",
      "[0]\tvalidation_0-rmsle:2.33352\n",
      "Will train until validation_0-rmsle hasn't improved in 200 rounds.\n",
      "[99]\tvalidation_0-rmsle:0.03001\n",
      "Seed-85 | Fold-2 | RMSLE Score: 0.030004550678789606\n",
      "[0]\tvalidation_0-rmsle:2.32388\n",
      "Will train until validation_0-rmsle hasn't improved in 200 rounds.\n",
      "[99]\tvalidation_0-rmsle:0.01970\n",
      "Seed-85 | Fold-3 | RMSLE Score: 0.019698974333509648\n",
      "[0]\tvalidation_0-rmsle:2.31822\n",
      "Will train until validation_0-rmsle hasn't improved in 200 rounds.\n",
      "[99]\tvalidation_0-rmsle:0.05522\n",
      "Seed-85 | Fold-4 | RMSLE Score: 0.055216553700566155\n",
      "[0]\tvalidation_0-rmsle:2.33157\n",
      "Will train until validation_0-rmsle hasn't improved in 200 rounds.\n",
      "[99]\tvalidation_0-rmsle:0.03062\n",
      "Seed-85 | Fold-5 | RMSLE Score: 0.030612537776935542\n",
      "[0]\tvalidation_0-rmsle:2.32738\n",
      "Will train until validation_0-rmsle hasn't improved in 200 rounds.\n",
      "[99]\tvalidation_0-rmsle:0.03917\n",
      "Seed-85 | Fold-6 | RMSLE Score: 0.03915397721723889\n",
      "\n",
      "Seed: 85 | Aggregate RMSLE Score: 0.03192732627532795\n",
      "\n",
      "\n",
      "[0]\tvalidation_0-rmsle:2.32855\n",
      "Will train until validation_0-rmsle hasn't improved in 200 rounds.\n",
      "[99]\tvalidation_0-rmsle:0.02533\n",
      "Seed-15 | Fold-0 | RMSLE Score: 0.025324536163968167\n",
      "[0]\tvalidation_0-rmsle:2.32682\n",
      "Will train until validation_0-rmsle hasn't improved in 200 rounds.\n",
      "[99]\tvalidation_0-rmsle:0.02931\n",
      "Seed-15 | Fold-1 | RMSLE Score: 0.02931200177071397\n",
      "[0]\tvalidation_0-rmsle:2.31438\n",
      "Will train until validation_0-rmsle hasn't improved in 200 rounds.\n",
      "[99]\tvalidation_0-rmsle:0.03284\n",
      "Seed-15 | Fold-2 | RMSLE Score: 0.03283649800356499\n",
      "[0]\tvalidation_0-rmsle:2.32206\n",
      "Will train until validation_0-rmsle hasn't improved in 200 rounds.\n",
      "[99]\tvalidation_0-rmsle:0.02482\n",
      "Seed-15 | Fold-3 | RMSLE Score: 0.024818541842429594\n",
      "[0]\tvalidation_0-rmsle:2.34033\n",
      "Will train until validation_0-rmsle hasn't improved in 200 rounds.\n",
      "[99]\tvalidation_0-rmsle:0.03237\n",
      "Seed-15 | Fold-4 | RMSLE Score: 0.03237053880368264\n",
      "[0]\tvalidation_0-rmsle:2.32009\n",
      "Will train until validation_0-rmsle hasn't improved in 200 rounds.\n",
      "[99]\tvalidation_0-rmsle:0.02242\n",
      "Seed-15 | Fold-5 | RMSLE Score: 0.022416112704174606\n",
      "[0]\tvalidation_0-rmsle:2.32506\n",
      "Will train until validation_0-rmsle hasn't improved in 200 rounds.\n",
      "[99]\tvalidation_0-rmsle:0.05656\n",
      "Seed-15 | Fold-6 | RMSLE Score: 0.05654861960566005\n",
      "\n",
      "Seed: 15 | Aggregate RMSLE Score: 0.03194669269917057\n",
      "\n",
      "\n",
      "[0]\tvalidation_0-rmsle:2.33108\n",
      "Will train until validation_0-rmsle hasn't improved in 200 rounds.\n",
      "[99]\tvalidation_0-rmsle:0.02625\n",
      "Seed-64 | Fold-0 | RMSLE Score: 0.026248480177210053\n",
      "[0]\tvalidation_0-rmsle:2.32521\n",
      "Will train until validation_0-rmsle hasn't improved in 200 rounds.\n",
      "[99]\tvalidation_0-rmsle:0.02351\n",
      "Seed-64 | Fold-1 | RMSLE Score: 0.02351335033837687\n",
      "[0]\tvalidation_0-rmsle:2.31880\n",
      "Will train until validation_0-rmsle hasn't improved in 200 rounds.\n",
      "[99]\tvalidation_0-rmsle:0.04050\n",
      "Seed-64 | Fold-2 | RMSLE Score: 0.04049241353979688\n",
      "[0]\tvalidation_0-rmsle:2.31113\n",
      "Will train until validation_0-rmsle hasn't improved in 200 rounds.\n",
      "[99]\tvalidation_0-rmsle:0.02300\n",
      "Seed-64 | Fold-3 | RMSLE Score: 0.02300322783778136\n",
      "[0]\tvalidation_0-rmsle:2.33135\n",
      "Will train until validation_0-rmsle hasn't improved in 200 rounds.\n",
      "[99]\tvalidation_0-rmsle:0.05756\n",
      "Seed-64 | Fold-4 | RMSLE Score: 0.0575639940906023\n",
      "[0]\tvalidation_0-rmsle:2.32226\n",
      "Will train until validation_0-rmsle hasn't improved in 200 rounds.\n",
      "[99]\tvalidation_0-rmsle:0.02840\n",
      "Seed-64 | Fold-5 | RMSLE Score: 0.02839903267434272\n",
      "[0]\tvalidation_0-rmsle:2.33742\n",
      "Will train until validation_0-rmsle hasn't improved in 200 rounds.\n",
      "[99]\tvalidation_0-rmsle:0.02183\n",
      "Seed-64 | Fold-6 | RMSLE Score: 0.021830580365119343\n",
      "\n",
      "Seed: 64 | Aggregate RMSLE Score: 0.03157872557474707\n",
      "\n",
      "\n",
      "Aggregate RMSLE Score: 0.0318175815164152\n"
     ]
    }
   ],
   "source": [
    "# Set number of K-Folds and seeds\n",
    "FOLD = 7\n",
    "NUM_SEED = 3\n",
    "\n",
    "# Set seeds for model training\n",
    "np.random.seed(56)\n",
    "seeds = np.random.randint(0, 100, size=NUM_SEED)\n",
    "\n",
    "oof_rmsle_score_xgb = 0\n",
    "y_pred_meta_xgb = np.zeros((Ytrain.shape[0], NUM_SEED))\n",
    "y_pred_final_xgb = 0\n",
    "counter = 0\n",
    "\n",
    "\n",
    "for sidx, seed in enumerate(seeds):\n",
    "    seed_rmsle_score = 0\n",
    "    \n",
    "    # Define K-fold cross validation test harness\n",
    "    kfold = KFold(n_splits=FOLD, shuffle=True, random_state=seed)\n",
    "\n",
    "    for idx, (train, val) in enumerate(kfold.split(Xtrain, Ytrain)):\n",
    "        counter += 1\n",
    "\n",
    "        train_x, train_y = Xtrain.values[train], Ytrain.values[train]\n",
    "        val_x, val_y = Xtrain.values[val], Ytrain.values[val]\n",
    "\n",
    "        model = XGBRegressor(\n",
    "            objective='reg:squaredlogerror',\n",
    "            eval_metric='rmsle',\n",
    "            booster='gbtree',\n",
    "            sample_type='uniform',\n",
    "            tree_method='gpu_hist',\n",
    "            grow_policy='lossguide',\n",
    "            num_round=8000,\n",
    "            max_depth=21, \n",
    "            max_leaves=442,\n",
    "            learning_rate=0.0999,\n",
    "            subsample=0.999,\n",
    "            colsample_bytree=0.63485,\n",
    "            min_child_weight=1,\n",
    "            reg_lambda=0.000133,\n",
    "            verbosity=0\n",
    "        )\n",
    "\n",
    "        model.fit(train_x, train_y, eval_set=[(val_x, val_y)], \n",
    "                  early_stopping_rounds=200, verbose=500)\n",
    "\n",
    "        y_pred = model.predict(val_x, ntree_limit=model.best_ntree_limit)\n",
    "        y_pred_meta_xgb[val, sidx] = y_pred\n",
    "        y_pred_final_xgb += model.predict(Xpredict.values, ntree_limit=model.best_ntree_limit)\n",
    "        \n",
    "        score = np.sqrt(mean_squared_log_error(val_y, y_pred))\n",
    "        oof_rmsle_score_xgb += score\n",
    "        seed_rmsle_score += score\n",
    "        print(\"Seed-{} | Fold-{} | RMSLE Score: {}\".format(seed, idx, score))\n",
    "    \n",
    "    print(\"\\nSeed: {} | Aggregate RMSLE Score: {}\\n\\n\".format(seed, (seed_rmsle_score / FOLD)))\n",
    "\n",
    "y_pred_meta_xgb = np.mean(y_pred_meta_xgb, axis=1)\n",
    "y_pred_final_xgb /= float(counter)\n",
    "oof_rmsle_score_xgb /= float(counter)\n",
    "print(\"Aggregate RMSLE Score: {}\".format(oof_rmsle_score_xgb))"
   ]
  },
  {
   "cell_type": "markdown",
   "metadata": {
    "id": "-j4P8pU_RXa8"
   },
   "source": [
    "### Voting Regressor"
   ]
  },
  {
   "cell_type": "code",
   "execution_count": 15,
   "metadata": {
    "colab": {
     "base_uri": "https://localhost:8080/"
    },
    "executionInfo": {
     "elapsed": 1177742,
     "status": "ok",
     "timestamp": 1607004839914,
     "user": {
      "displayName": "TAPAS DAS",
      "photoUrl": "https://lh3.googleusercontent.com/a-/AOh14GiyffdGKiPCR_UwVittzTcbBFms70IkGfU15fatCA=s64",
      "userId": "10798398878324948542"
     },
     "user_tz": -330
    },
    "id": "7_ct1SPrSaCX",
    "outputId": "2374bba7-7864-49d1-e906-bff0d42d390e"
   },
   "outputs": [
    {
     "name": "stdout",
     "output_type": "stream",
     "text": [
      "Seed-79 | Fold-0 | RMSLE Score: 0.04674990220699526\n",
      "Seed-79 | Fold-1 | RMSLE Score: 0.039606393064488786\n",
      "Seed-79 | Fold-2 | RMSLE Score: 0.04544401130048777\n",
      "Seed-79 | Fold-3 | RMSLE Score: 0.04392685401062558\n",
      "Seed-79 | Fold-4 | RMSLE Score: 0.03854827502062195\n",
      "Seed-79 | Fold-5 | RMSLE Score: 0.05882290108555516\n",
      "Seed-79 | Fold-6 | RMSLE Score: 0.0384825951213576\n",
      "\n",
      "Seed: 79 | Aggregate RMSLE Score: 0.04451156168716173\n",
      "\n",
      "\n",
      "Seed-86 | Fold-0 | RMSLE Score: 0.04401444270723484\n",
      "Seed-86 | Fold-1 | RMSLE Score: 0.04583478259418768\n",
      "Seed-86 | Fold-2 | RMSLE Score: 0.04465432820746868\n",
      "Seed-86 | Fold-3 | RMSLE Score: 0.03376201739322519\n",
      "Seed-86 | Fold-4 | RMSLE Score: 0.05823449473856114\n",
      "Seed-86 | Fold-5 | RMSLE Score: 0.04362691459149827\n",
      "Seed-86 | Fold-6 | RMSLE Score: 0.040784398716563336\n",
      "\n",
      "Seed: 86 | Aggregate RMSLE Score: 0.0444159112783913\n",
      "\n",
      "\n",
      "Seed-5 | Fold-0 | RMSLE Score: 0.038730528308098304\n",
      "Seed-5 | Fold-1 | RMSLE Score: 0.04164759062848645\n",
      "Seed-5 | Fold-2 | RMSLE Score: 0.04065591476797509\n",
      "Seed-5 | Fold-3 | RMSLE Score: 0.0490138801165885\n",
      "Seed-5 | Fold-4 | RMSLE Score: 0.04204410829198259\n",
      "Seed-5 | Fold-5 | RMSLE Score: 0.05802910918149638\n",
      "Seed-5 | Fold-6 | RMSLE Score: 0.04173002097189623\n",
      "\n",
      "Seed: 5 | Aggregate RMSLE Score: 0.04455016460950336\n",
      "\n",
      "\n",
      "Aggregate RMSLE Score: 0.04449254585835213\n"
     ]
    }
   ],
   "source": [
    "# Set number of K-Folds and seeds\n",
    "FOLD = 7\n",
    "NUM_SEED = 3\n",
    "\n",
    "# Set seeds for model training\n",
    "np.random.seed(57)\n",
    "seeds = np.random.randint(0, 100, size=NUM_SEED)\n",
    "\n",
    "y_pred_final_vr = 0\n",
    "y_pred_meta_vr = np.zeros((Ytrain.shape[0], NUM_SEED))\n",
    "oof_rmsle_score_vr = 0\n",
    "counter = 0\n",
    "\n",
    "\n",
    "for sidx, seed in enumerate(seeds):\n",
    "    seed_rmsle_score = 0\n",
    "\n",
    "    # Define K-fold cross validation test harness\n",
    "    kfold = KFold(n_splits=FOLD, shuffle=True, random_state=seed)\n",
    "\n",
    "    for idx, (train, val) in enumerate(kfold.split(Xtrain.values, Ytrain.values)):\n",
    "        counter += 1\n",
    "\n",
    "        train_x, train_y = Xtrain.values[train], Ytrain.values[train]\n",
    "        val_x, val_y = Xtrain.values[val], Ytrain.values[val]\n",
    "\n",
    "        m1 = SVR(C=20, epsilon=0.01, gamma=0.0001)\n",
    "        m2 = Lasso(alpha=0.09747, random_state=51)\n",
    "        m3 = ElasticNet(alpha=0.01642, l1_ratio=0.00463, random_state=53)\n",
    "\n",
    "        model = VotingRegressor([('svr', m1), ('lasso', m2), ('enet', m3)])\n",
    "        model.fit(train_x, train_y.ravel())\n",
    "\n",
    "        y_pred = model.predict(val_x)\n",
    "        y_pred_meta_vr[val, sidx] = y_pred\n",
    "        y_pred_final_vr += model.predict(Xpredict.values)\n",
    "        \n",
    "        score = np.sqrt(mean_squared_log_error(val_y, y_pred))\n",
    "        oof_rmsle_score_vr += score\n",
    "        seed_rmsle_score += score\n",
    "        print(\"Seed-{} | Fold-{} | RMSLE Score: {}\".format(seed, idx, score))\n",
    "    \n",
    "    print(\"\\nSeed: {} | Aggregate RMSLE Score: {}\\n\\n\".format(seed, (seed_rmsle_score / FOLD)))\n",
    "\n",
    "y_pred_meta_vr = np.mean(y_pred_meta_vr, axis=1)\n",
    "y_pred_final_vr /= float(counter)\n",
    "oof_rmsle_score_vr /= float(counter)\n",
    "print(\"Aggregate RMSLE Score: {}\".format(oof_rmsle_score_vr))"
   ]
  },
  {
   "cell_type": "markdown",
   "metadata": {
    "id": "5Vdyqw-AZ2DE"
   },
   "source": [
    "### Base Models Performance"
   ]
  },
  {
   "cell_type": "code",
   "execution_count": 16,
   "metadata": {
    "executionInfo": {
     "elapsed": 1491,
     "status": "ok",
     "timestamp": 1607004887587,
     "user": {
      "displayName": "TAPAS DAS",
      "photoUrl": "https://lh3.googleusercontent.com/a-/AOh14GiyffdGKiPCR_UwVittzTcbBFms70IkGfU15fatCA=s64",
      "userId": "10798398878324948542"
     },
     "user_tz": -330
    },
    "id": "tJOMrL1ieTXK"
   },
   "outputs": [],
   "source": [
    "scores={\n",
    "    'Lasso': oof_rmsle_score_lasso,\n",
    "    'ElasticNet': oof_rmsle_score_enet,\n",
    "    'SVR': oof_rmsle_score_svr,\n",
    "    'VotingR': oof_rmsle_score_vr,\n",
    "    'CatBoost': oof_rmsle_score_cb,\n",
    "    'LightGBM': oof_rmsle_score_lgb,\n",
    "    'XGBoost': oof_rmsle_score_xgb\n",
    "}"
   ]
  },
  {
   "cell_type": "code",
   "execution_count": 17,
   "metadata": {
    "colab": {
     "base_uri": "https://localhost:8080/",
     "height": 627
    },
    "executionInfo": {
     "elapsed": 1660,
     "status": "ok",
     "timestamp": 1607004888507,
     "user": {
      "displayName": "TAPAS DAS",
      "photoUrl": "https://lh3.googleusercontent.com/a-/AOh14GiyffdGKiPCR_UwVittzTcbBFms70IkGfU15fatCA=s64",
      "userId": "10798398878324948542"
     },
     "user_tz": -330
    },
    "id": "vewGRsj_fJRS",
    "outputId": "009c0e85-c39c-426b-e434-2dc5b399c7f5"
   },
   "outputs": [
    {
     "data": {
      "image/png": "[encoded data removed]",
      "text/plain": [
       "<Figure size 1296x720 with 1 Axes>"
      ]
     },
     "metadata": {
      "tags": []
     },
     "output_type": "display_data"
    }
   ],
   "source": [
    "# Plot the RMSLE score for each base model\n",
    "sns.set_style(\"white\")\n",
    "fig = plt.figure(figsize=(18, 10))\n",
    "\n",
    "ax = sns.pointplot(x=list(scores.keys()), y=[score for score in list(scores.values())], markers=['o'], linestyles=['-'])\n",
    "for i, score in enumerate(list(scores.values())):\n",
    "    ax.text(i, score, '{:.6f}'.format(score), horizontalalignment='left', size='large', color='black', weight='semibold')\n",
    "\n",
    "plt.ylabel('Score (RMSLE)', size=20, labelpad=12.5)\n",
    "plt.xlabel('Base Models', size=20, labelpad=12.5)\n",
    "plt.tick_params(axis='x', labelsize=13.5)\n",
    "plt.tick_params(axis='y', labelsize=12.5)\n",
    "plt.show()"
   ]
  },
  {
   "cell_type": "markdown",
   "metadata": {
    "id": "HEUWJEqvWywT"
   },
   "source": [
    "## Stacking Models"
   ]
  },
  {
   "cell_type": "markdown",
   "metadata": {
    "id": "ZoV9cNNMXAjY"
   },
   "source": [
    "### Prepare Data"
   ]
  },
  {
   "cell_type": "code",
   "execution_count": 18,
   "metadata": {
    "executionInfo": {
     "elapsed": 1606,
     "status": "ok",
     "timestamp": 1607004897114,
     "user": {
      "displayName": "TAPAS DAS",
      "photoUrl": "https://lh3.googleusercontent.com/a-/AOh14GiyffdGKiPCR_UwVittzTcbBFms70IkGfU15fatCA=s64",
      "userId": "10798398878324948542"
     },
     "user_tz": -330
    },
    "id": "Tag9S071W1h7"
   },
   "outputs": [],
   "source": [
    "y_pred_meta_cb = np.array([y_pred_meta_cb]).T\n",
    "y_pred_meta_lgb = np.array([y_pred_meta_lgb]).T\n",
    "y_pred_meta_xgb = np.array([y_pred_meta_xgb]).T\n",
    "y_pred_meta_lasso = np.array([y_pred_meta_lasso]).T\n",
    "y_pred_meta_enet = np.array([y_pred_meta_enet]).T\n",
    "y_pred_meta_svr = np.array([y_pred_meta_svr]).T\n",
    "y_pred_meta_vr = np.array([y_pred_meta_vr]).T\n",
    "\n",
    "y_pred_final_cb = np.array([y_pred_final_cb]).T\n",
    "y_pred_final_lgb = np.array([y_pred_final_lgb]).T\n",
    "y_pred_final_xgb = np.array([y_pred_final_xgb]).T\n",
    "y_pred_final_lasso = np.array([y_pred_final_lasso]).T\n",
    "y_pred_final_enet = np.array([y_pred_final_enet]).T\n",
    "y_pred_final_svr = np.array([y_pred_final_svr]).T\n",
    "y_pred_final_vr = np.array([y_pred_final_vr]).T"
   ]
  },
  {
   "cell_type": "code",
   "execution_count": 19,
   "metadata": {
    "colab": {
     "base_uri": "https://localhost:8080/"
    },
    "executionInfo": {
     "elapsed": 1666,
     "status": "ok",
     "timestamp": 1607004897923,
     "user": {
      "displayName": "TAPAS DAS",
      "photoUrl": "https://lh3.googleusercontent.com/a-/AOh14GiyffdGKiPCR_UwVittzTcbBFms70IkGfU15fatCA=s64",
      "userId": "10798398878324948542"
     },
     "user_tz": -330
    },
    "id": "k2wNX3C8XXW3",
    "outputId": "7f278cd1-09b1-4891-8757-dd4e774672d9"
   },
   "outputs": [
    {
     "name": "stdout",
     "output_type": "stream",
     "text": [
      "Xtrain_meta shape: (6313, 7)\n",
      "Ytrain_meta shape: (6313,)\n",
      "Xpredict_meta shape: (3430, 7)\n"
     ]
    }
   ],
   "source": [
    "Xtrain_meta = np.concatenate((y_pred_meta_cb, y_pred_meta_lgb, y_pred_meta_xgb, \n",
    "                              y_pred_meta_lasso, y_pred_meta_enet, \n",
    "                              y_pred_meta_svr, y_pred_meta_vr), axis=1)\n",
    "Ytrain_meta = Ytrain.values\n",
    "Xpredict_meta = np.concatenate((y_pred_final_cb, y_pred_final_lgb, y_pred_final_xgb, \n",
    "                                y_pred_final_lasso, y_pred_final_enet, \n",
    "                                y_pred_final_svr, y_pred_final_vr), axis=1)\n",
    "\n",
    "print(\"Xtrain_meta shape: {}\".format(Xtrain_meta.shape))\n",
    "print(\"Ytrain_meta shape: {}\".format(Ytrain_meta.shape))\n",
    "print(\"Xpredict_meta shape: {}\".format(Xpredict_meta.shape))"
   ]
  },
  {
   "cell_type": "markdown",
   "metadata": {
    "id": "pbBUXp8haz3c"
   },
   "source": [
    "### Stacking Regressor"
   ]
  },
  {
   "cell_type": "code",
   "execution_count": 20,
   "metadata": {
    "colab": {
     "base_uri": "https://localhost:8080/"
    },
    "executionInfo": {
     "elapsed": 185463,
     "status": "ok",
     "timestamp": 1607005084666,
     "user": {
      "displayName": "TAPAS DAS",
      "photoUrl": "https://lh3.googleusercontent.com/a-/AOh14GiyffdGKiPCR_UwVittzTcbBFms70IkGfU15fatCA=s64",
      "userId": "10798398878324948542"
     },
     "user_tz": -330
    },
    "id": "k26Ehzeqmj4O",
    "outputId": "6f379280-4016-47e1-a846-ef77ed27ee07"
   },
   "outputs": [
    {
     "name": "stdout",
     "output_type": "stream",
     "text": [
      "Seed-35 | Fold-0 | RMSE Score: 0.03324913813737262\n",
      "Seed-35 | Fold-1 | RMSE Score: 0.049757184736720486\n",
      "Seed-35 | Fold-2 | RMSE Score: 0.018268030134095295\n",
      "Seed-35 | Fold-3 | RMSE Score: 0.03205632351742105\n",
      "Seed-35 | Fold-4 | RMSE Score: 0.014294382740429929\n",
      "Seed-35 | Fold-5 | RMSE Score: 0.032909871882809055\n",
      "Seed-35 | Fold-6 | RMSE Score: 0.026297587371745902\n",
      "\n",
      "Seed: 35 | Aggregate Log Loss: 0.029547502645799188\n",
      "\n",
      "\n",
      "Seed-32 | Fold-0 | RMSE Score: 0.021232198981051015\n",
      "Seed-32 | Fold-1 | RMSE Score: 0.02811013583842308\n",
      "Seed-32 | Fold-2 | RMSE Score: 0.022098938198530763\n",
      "Seed-32 | Fold-3 | RMSE Score: 0.02131971478339332\n",
      "Seed-32 | Fold-4 | RMSE Score: 0.025387152028502332\n",
      "Seed-32 | Fold-5 | RMSE Score: 0.03180447059601578\n",
      "Seed-32 | Fold-6 | RMSE Score: 0.05570109586434927\n",
      "\n",
      "Seed: 32 | Aggregate Log Loss: 0.029379100898609366\n",
      "\n",
      "\n",
      "Seed-23 | Fold-0 | RMSE Score: 0.015168095607218324\n",
      "Seed-23 | Fold-1 | RMSE Score: 0.056228382106537945\n",
      "Seed-23 | Fold-2 | RMSE Score: 0.03046131015567713\n",
      "Seed-23 | Fold-3 | RMSE Score: 0.024995153940624872\n",
      "Seed-23 | Fold-4 | RMSE Score: 0.02731106611813472\n",
      "Seed-23 | Fold-5 | RMSE Score: 0.031312957699489254\n",
      "Seed-23 | Fold-6 | RMSE Score: 0.015928777371519404\n",
      "\n",
      "Seed: 23 | Aggregate Log Loss: 0.02877224899988595\n",
      "\n",
      "\n",
      "Aggregate RMSE Score: 0.029232950848098172\n"
     ]
    }
   ],
   "source": [
    "# Set number of K-Folds\n",
    "FOLD = 7\n",
    "\n",
    "# Set seeds for model training\n",
    "np.random.seed(58)\n",
    "seeds = np.random.randint(0, 100, size=3)\n",
    "\n",
    "y_pred_final_sr = 0\n",
    "oof_rmse_score = 0\n",
    "counter = 0\n",
    "\n",
    "\n",
    "for seed in seeds:\n",
    "    seed_rmse_score = 0\n",
    "\n",
    "    # Define K-fold cross validation test harness\n",
    "    kfold = KFold(n_splits=FOLD, shuffle=True, random_state=seed)\n",
    "\n",
    "    for idx, (train, val) in enumerate(kfold.split(Xtrain_meta, Ytrain_meta)):\n",
    "        counter += 1\n",
    "\n",
    "        train_x, train_y = Xtrain_meta[train], Ytrain_meta[train]\n",
    "        val_x, val_y = Xtrain_meta[val], Ytrain_meta[val]\n",
    "\n",
    "        m1 = SVR(C=20, epsilon=0.01, gamma=0.0001)\n",
    "        m2 = Lasso(alpha=0.09747, random_state=51)\n",
    "        m3 = ElasticNet(alpha=0.01642, l1_ratio=0.00463, random_state=53)\n",
    "\n",
    "        model = StackingRegressor(estimators=[('svr', m1), \n",
    "                                              ('lasso', m2), \n",
    "                                              ('enet', m3)],\n",
    "                                  final_estimator=LinearRegression(),\n",
    "                                  n_jobs=-1,\n",
    "                                  verbose=0)\n",
    "        model.fit(train_x, train_y.ravel())\n",
    "\n",
    "        y_pred = model.predict(val_x)\n",
    "        y_pred_final_sr += model.predict(Xpredict_meta)\n",
    "        \n",
    "        score = np.sqrt(mean_squared_log_error(val_y, y_pred))\n",
    "        oof_rmse_score += score\n",
    "        seed_rmse_score += score\n",
    "        print(\"Seed-{} | Fold-{} | RMSE Score: {}\".format(seed, idx, score))\n",
    "    \n",
    "    print(\"\\nSeed: {} | Aggregate Log Loss: {}\\n\\n\".format(seed, (seed_rmse_score / FOLD)))\n",
    "\n",
    "y_pred_final_sr /= float(counter)\n",
    "oof_rmse_score /= float(counter)\n",
    "print(\"Aggregate RMSE Score: {}\".format(oof_rmse_score))"
   ]
  },
  {
   "cell_type": "markdown",
   "metadata": {
    "id": "O2AFR6_vXdbw"
   },
   "source": [
    "### LinearRegression"
   ]
  },
  {
   "cell_type": "code",
   "execution_count": 21,
   "metadata": {
    "colab": {
     "base_uri": "https://localhost:8080/"
    },
    "executionInfo": {
     "elapsed": 1263,
     "status": "ok",
     "timestamp": 1607005094732,
     "user": {
      "displayName": "TAPAS DAS",
      "photoUrl": "https://lh3.googleusercontent.com/a-/AOh14GiyffdGKiPCR_UwVittzTcbBFms70IkGfU15fatCA=s64",
      "userId": "10798398878324948542"
     },
     "user_tz": -330
    },
    "id": "wgAStoSbXXQf",
    "outputId": "23451cb9-9eb0-4fec-c7c8-66fe201768d1"
   },
   "outputs": [
    {
     "name": "stdout",
     "output_type": "stream",
     "text": [
      "Seed-49 | Fold-0 | RMSE Score: 0.023819140760118807\n",
      "Seed-49 | Fold-1 | RMSE Score: 0.06075352799114239\n",
      "Seed-49 | Fold-2 | RMSE Score: 0.02544125418699536\n",
      "Seed-49 | Fold-3 | RMSE Score: 0.014409230679233226\n",
      "Seed-49 | Fold-4 | RMSE Score: 0.02452165843611369\n",
      "Seed-49 | Fold-5 | RMSE Score: 0.02646045067595241\n",
      "Seed-49 | Fold-6 | RMSE Score: 0.02321066996504055\n",
      "\n",
      "Seed: 49 | Aggregate Log Loss: 0.028373704670656634\n",
      "\n",
      "\n",
      "Seed-44 | Fold-0 | RMSE Score: 0.018460669958643032\n",
      "Seed-44 | Fold-1 | RMSE Score: 0.036457429233516435\n",
      "Seed-44 | Fold-2 | RMSE Score: 0.027613721008769097\n",
      "Seed-44 | Fold-3 | RMSE Score: 0.019822734337685062\n",
      "Seed-44 | Fold-4 | RMSE Score: 0.051564229939364166\n",
      "Seed-44 | Fold-5 | RMSE Score: 0.017178963352183104\n",
      "Seed-44 | Fold-6 | RMSE Score: 0.03414037725940715\n",
      "\n",
      "Seed: 44 | Aggregate Log Loss: 0.029319732155652572\n",
      "\n",
      "\n",
      "Seed-77 | Fold-0 | RMSE Score: 0.029520322038094217\n",
      "Seed-77 | Fold-1 | RMSE Score: 0.020553162727528176\n",
      "Seed-77 | Fold-2 | RMSE Score: 0.029957787145386463\n",
      "Seed-77 | Fold-3 | RMSE Score: 0.016236648048826647\n",
      "Seed-77 | Fold-4 | RMSE Score: 0.04990174335757968\n",
      "Seed-77 | Fold-5 | RMSE Score: 0.027681710151048648\n",
      "Seed-77 | Fold-6 | RMSE Score: 0.03539296426220484\n",
      "\n",
      "Seed: 77 | Aggregate Log Loss: 0.02989204824723838\n",
      "\n",
      "\n",
      "Seed-23 | Fold-0 | RMSE Score: 0.015379588110623134\n",
      "Seed-23 | Fold-1 | RMSE Score: 0.05608181306692729\n",
      "Seed-23 | Fold-2 | RMSE Score: 0.030584574673435186\n",
      "Seed-23 | Fold-3 | RMSE Score: 0.024880225107737304\n",
      "Seed-23 | Fold-4 | RMSE Score: 0.027278129177832098\n",
      "Seed-23 | Fold-5 | RMSE Score: 0.03150802685083079\n",
      "Seed-23 | Fold-6 | RMSE Score: 0.01587927211038708\n",
      "\n",
      "Seed: 23 | Aggregate Log Loss: 0.0287988041568247\n",
      "\n",
      "\n",
      "Seed-79 | Fold-0 | RMSE Score: 0.0347449730244197\n",
      "Seed-79 | Fold-1 | RMSE Score: 0.019845095807518462\n",
      "Seed-79 | Fold-2 | RMSE Score: 0.02625888442265714\n",
      "Seed-79 | Fold-3 | RMSE Score: 0.033118907671867384\n",
      "Seed-79 | Fold-4 | RMSE Score: 0.028059334627544365\n",
      "Seed-79 | Fold-5 | RMSE Score: 0.04818916946182239\n",
      "Seed-79 | Fold-6 | RMSE Score: 0.020572225356223918\n",
      "\n",
      "Seed: 79 | Aggregate Log Loss: 0.030112655767436193\n",
      "\n",
      "\n",
      "Aggregate RMSE Score: 0.0292993889995617\n"
     ]
    }
   ],
   "source": [
    "# Set number of K-Folds\n",
    "FOLD = 7\n",
    "\n",
    "# Set seeds for model training\n",
    "np.random.seed(59)\n",
    "seeds = np.random.randint(0, 100, size=5)\n",
    "\n",
    "y_pred_final_lr = 0\n",
    "oof_rmse_score = 0\n",
    "counter = 0\n",
    "\n",
    "\n",
    "for seed in seeds:\n",
    "    seed_rmse_score = 0\n",
    "\n",
    "    # Define K-fold cross validation test harness\n",
    "    kfold = KFold(n_splits=FOLD, shuffle=True, random_state=seed)\n",
    "\n",
    "    for idx, (train, val) in enumerate(kfold.split(Xtrain_meta, Ytrain_meta)):\n",
    "        counter += 1\n",
    "\n",
    "        train_x, train_y = Xtrain_meta[train], Ytrain_meta[train]\n",
    "        val_x, val_y = Xtrain_meta[val], Ytrain_meta[val]\n",
    "\n",
    "        model = LinearRegression()\n",
    "        model.fit(train_x, train_y.ravel())\n",
    "\n",
    "        y_pred = model.predict(val_x)\n",
    "        y_pred_final_lr += model.predict(Xpredict_meta)\n",
    "        \n",
    "        score = np.sqrt(mean_squared_log_error(val_y, y_pred))\n",
    "        oof_rmse_score += score\n",
    "        seed_rmse_score += score\n",
    "        print(\"Seed-{} | Fold-{} | RMSE Score: {}\".format(seed, idx, score))\n",
    "    \n",
    "    print(\"\\nSeed: {} | Aggregate Log Loss: {}\\n\\n\".format(seed, (seed_rmse_score / FOLD)))\n",
    "\n",
    "y_pred_final_lr /= float(counter)\n",
    "oof_rmse_score /= float(counter)\n",
    "print(\"Aggregate RMSE Score: {}\".format(oof_rmse_score))"
   ]
  },
  {
   "cell_type": "markdown",
   "metadata": {
    "id": "X8blFpOcX8Fe"
   },
   "source": [
    "### GradientBoostingRegressor"
   ]
  },
  {
   "cell_type": "code",
   "execution_count": 22,
   "metadata": {
    "colab": {
     "base_uri": "https://localhost:8080/"
    },
    "executionInfo": {
     "elapsed": 965080,
     "status": "ok",
     "timestamp": 1607006063024,
     "user": {
      "displayName": "TAPAS DAS",
      "photoUrl": "https://lh3.googleusercontent.com/a-/AOh14GiyffdGKiPCR_UwVittzTcbBFms70IkGfU15fatCA=s64",
      "userId": "10798398878324948542"
     },
     "user_tz": -330
    },
    "id": "K83WoRBmXf49",
    "outputId": "c417fc9b-339e-4575-ed98-04e6d295945a"
   },
   "outputs": [
    {
     "name": "stdout",
     "output_type": "stream",
     "text": [
      "Seed-77 | Fold-0 | RMSE Score: 0.02974081016212521\n",
      "Seed-77 | Fold-1 | RMSE Score: 0.020367381333840407\n",
      "Seed-77 | Fold-2 | RMSE Score: 0.0299480520669458\n",
      "Seed-77 | Fold-3 | RMSE Score: 0.016628101886689443\n",
      "Seed-77 | Fold-4 | RMSE Score: 0.05001111373771292\n",
      "Seed-77 | Fold-5 | RMSE Score: 0.02704305042425835\n",
      "Seed-77 | Fold-6 | RMSE Score: 0.03479641629892097\n",
      "\n",
      "Seed: 77 | Aggregate Log Loss: 0.02979070370149901\n",
      "\n",
      "\n",
      "Seed-65 | Fold-0 | RMSE Score: 0.01953949251589909\n",
      "Seed-65 | Fold-1 | RMSE Score: 0.0347865364637586\n",
      "Seed-65 | Fold-2 | RMSE Score: 0.033993923585949305\n",
      "Seed-65 | Fold-3 | RMSE Score: 0.01709834858869578\n",
      "Seed-65 | Fold-4 | RMSE Score: 0.05200353276580003\n",
      "Seed-65 | Fold-5 | RMSE Score: 0.024467355396082954\n",
      "Seed-65 | Fold-6 | RMSE Score: 0.024599796154176727\n",
      "\n",
      "Seed: 65 | Aggregate Log Loss: 0.02949842649576607\n",
      "\n",
      "\n",
      "Seed-70 | Fold-0 | RMSE Score: 0.014047961043948938\n",
      "Seed-70 | Fold-1 | RMSE Score: 0.027756449833141565\n",
      "Seed-70 | Fold-2 | RMSE Score: 0.02731432611891643\n",
      "Seed-70 | Fold-3 | RMSE Score: 0.027686663711553355\n",
      "Seed-70 | Fold-4 | RMSE Score: 0.02566508080489985\n",
      "Seed-70 | Fold-5 | RMSE Score: 0.05428350306720382\n",
      "Seed-70 | Fold-6 | RMSE Score: 0.02822023514538978\n",
      "\n",
      "Seed: 70 | Aggregate Log Loss: 0.029282031389293393\n",
      "\n",
      "\n",
      "Aggregate RMSE Score: 0.02952372052885283\n"
     ]
    }
   ],
   "source": [
    "# Set number of K-Folds\n",
    "FOLD = 7\n",
    "\n",
    "# Set seeds for model training\n",
    "np.random.seed(60)\n",
    "seeds = np.random.randint(0, 100, size=3)\n",
    "\n",
    "y_pred_final_gbr = 0\n",
    "oof_rmse_score = 0\n",
    "counter = 0\n",
    "\n",
    "\n",
    "for seed in seeds:\n",
    "    seed_rmse_score = 0\n",
    "\n",
    "    # Define K-fold cross validation test harness\n",
    "    kfold = KFold(n_splits=FOLD, shuffle=True, random_state=seed)\n",
    "\n",
    "    for idx, (train, val) in enumerate(kfold.split(Xtrain_meta, Ytrain_meta)):\n",
    "        counter += 1\n",
    "\n",
    "        train_x, train_y = Xtrain_meta[train], Ytrain_meta[train]\n",
    "        val_x, val_y = Xtrain_meta[val], Ytrain_meta[val]\n",
    "\n",
    "        model = GradientBoostingRegressor(\n",
    "            n_estimators=6000,\n",
    "            learning_rate=0.01,\n",
    "            max_depth=4,\n",
    "            max_features='sqrt',\n",
    "            min_samples_leaf=15,\n",
    "            min_samples_split=10,\n",
    "            loss='huber',\n",
    "            random_state=42\n",
    "        )\n",
    "        model.fit(train_x, train_y.ravel())\n",
    "\n",
    "        y_pred = model.predict(val_x)\n",
    "        y_pred_final_gbr += model.predict(Xpredict_meta)\n",
    "        \n",
    "        score = np.sqrt(mean_squared_log_error(val_y, y_pred))\n",
    "        oof_rmse_score += score\n",
    "        seed_rmse_score += score\n",
    "        print(\"Seed-{} | Fold-{} | RMSE Score: {}\".format(seed, idx, score))\n",
    "    \n",
    "    print(\"\\nSeed: {} | Aggregate Log Loss: {}\\n\\n\".format(seed, (seed_rmse_score / FOLD)))\n",
    "\n",
    "y_pred_final_gbr /= float(counter)\n",
    "oof_rmse_score /= float(counter)\n",
    "print(\"Aggregate RMSE Score: {}\".format(oof_rmse_score))"
   ]
  },
  {
   "cell_type": "markdown",
   "metadata": {
    "id": "hswCAwoUX_7H"
   },
   "source": [
    "### KNeighborsRegressor"
   ]
  },
  {
   "cell_type": "code",
   "execution_count": 23,
   "metadata": {
    "colab": {
     "base_uri": "https://localhost:8080/"
    },
    "executionInfo": {
     "elapsed": 2415,
     "status": "ok",
     "timestamp": 1607006086915,
     "user": {
      "displayName": "TAPAS DAS",
      "photoUrl": "https://lh3.googleusercontent.com/a-/AOh14GiyffdGKiPCR_UwVittzTcbBFms70IkGfU15fatCA=s64",
      "userId": "10798398878324948542"
     },
     "user_tz": -330
    },
    "id": "KecW0T2EXf7g",
    "outputId": "a2456d46-13f6-40cc-c084-c4e530d5435c"
   },
   "outputs": [
    {
     "name": "stdout",
     "output_type": "stream",
     "text": [
      "Seed-99 | Fold-0 | RMSE Score: 0.024108490040038427\n",
      "Seed-99 | Fold-1 | RMSE Score: 0.030101054073397325\n",
      "Seed-99 | Fold-2 | RMSE Score: 0.02469646468764956\n",
      "Seed-99 | Fold-3 | RMSE Score: 0.01831413316644572\n",
      "Seed-99 | Fold-4 | RMSE Score: 0.03335532394697121\n",
      "Seed-99 | Fold-5 | RMSE Score: 0.034604418085589346\n",
      "Seed-99 | Fold-6 | RMSE Score: 0.048973521735093846\n",
      "\n",
      "Seed: 99 | Aggregate Log Loss: 0.03059334367645506\n",
      "\n",
      "\n",
      "Seed-18 | Fold-0 | RMSE Score: 0.03308166997648901\n",
      "Seed-18 | Fold-1 | RMSE Score: 0.03022468909151733\n",
      "Seed-18 | Fold-2 | RMSE Score: 0.02471832334728743\n",
      "Seed-18 | Fold-3 | RMSE Score: 0.027394612111568135\n",
      "Seed-18 | Fold-4 | RMSE Score: 0.03083447192212148\n",
      "Seed-18 | Fold-5 | RMSE Score: 0.049358187857056764\n",
      "Seed-18 | Fold-6 | RMSE Score: 0.019496779685893743\n",
      "\n",
      "Seed: 18 | Aggregate Log Loss: 0.030729819141704837\n",
      "\n",
      "\n",
      "Seed-34 | Fold-0 | RMSE Score: 0.026517898970405247\n",
      "Seed-34 | Fold-1 | RMSE Score: 0.03491597894674534\n",
      "Seed-34 | Fold-2 | RMSE Score: 0.02892367594877129\n",
      "Seed-34 | Fold-3 | RMSE Score: 0.031081322137935494\n",
      "Seed-34 | Fold-4 | RMSE Score: 0.04959211608383983\n",
      "Seed-34 | Fold-5 | RMSE Score: 0.021529789493571157\n",
      "Seed-34 | Fold-6 | RMSE Score: 0.024522025156887006\n",
      "\n",
      "Seed: 34 | Aggregate Log Loss: 0.031011829534022196\n",
      "\n",
      "\n",
      "Seed-16 | Fold-0 | RMSE Score: 0.028234540000541635\n",
      "Seed-16 | Fold-1 | RMSE Score: 0.024524643187723166\n",
      "Seed-16 | Fold-2 | RMSE Score: 0.02153919264692211\n",
      "Seed-16 | Fold-3 | RMSE Score: 0.023370186320748342\n",
      "Seed-16 | Fold-4 | RMSE Score: 0.051893553182440884\n",
      "Seed-16 | Fold-5 | RMSE Score: 0.03556685557293572\n",
      "Seed-16 | Fold-6 | RMSE Score: 0.02600552287174058\n",
      "\n",
      "Seed: 16 | Aggregate Log Loss: 0.030162070540436063\n",
      "\n",
      "\n",
      "Seed-47 | Fold-0 | RMSE Score: 0.02740524908043976\n",
      "Seed-47 | Fold-1 | RMSE Score: 0.01814914027739925\n",
      "Seed-47 | Fold-2 | RMSE Score: 0.03113594808038614\n",
      "Seed-47 | Fold-3 | RMSE Score: 0.05420242992504692\n",
      "Seed-47 | Fold-4 | RMSE Score: 0.026271135111795418\n",
      "Seed-47 | Fold-5 | RMSE Score: 0.030780599867636597\n",
      "Seed-47 | Fold-6 | RMSE Score: 0.022125882898354158\n",
      "\n",
      "Seed: 47 | Aggregate Log Loss: 0.030010055034436888\n",
      "\n",
      "\n",
      "Aggregate RMSE Score: 0.03050142358541101\n"
     ]
    }
   ],
   "source": [
    "# Set number of K-Folds\n",
    "FOLD = 7\n",
    "\n",
    "# Set seeds for model training\n",
    "np.random.seed(61)\n",
    "seeds = np.random.randint(0, 100, size=5)\n",
    "\n",
    "y_pred_final_knr = 0\n",
    "oof_rmse_score = 0\n",
    "counter = 0\n",
    "\n",
    "\n",
    "for seed in seeds:\n",
    "    seed_rmse_score = 0\n",
    "\n",
    "    # Define K-fold cross validation test harness\n",
    "    kfold = KFold(n_splits=FOLD, shuffle=True, random_state=seed)\n",
    "\n",
    "    for idx, (train, val) in enumerate(kfold.split(Xtrain_meta, Ytrain_meta)):\n",
    "        counter += 1\n",
    "\n",
    "        train_x, train_y = Xtrain_meta[train], Ytrain_meta[train]\n",
    "        val_x, val_y = Xtrain_meta[val], Ytrain_meta[val]\n",
    "\n",
    "        model = KNeighborsRegressor(n_neighbors=10)\n",
    "        model.fit(train_x, train_y.ravel())\n",
    "\n",
    "        y_pred = model.predict(val_x)\n",
    "        y_pred_final_knr += model.predict(Xpredict_meta)\n",
    "        \n",
    "        score = np.sqrt(mean_squared_log_error(val_y, y_pred))\n",
    "        oof_rmse_score += score\n",
    "        seed_rmse_score += score\n",
    "        print(\"Seed-{} | Fold-{} | RMSE Score: {}\".format(seed, idx, score))\n",
    "    \n",
    "    print(\"\\nSeed: {} | Aggregate Log Loss: {}\\n\\n\".format(seed, (seed_rmse_score / FOLD)))\n",
    "\n",
    "y_pred_final_knr /= float(counter)\n",
    "oof_rmse_score /= float(counter)\n",
    "print(\"Aggregate RMSE Score: {}\".format(oof_rmse_score))"
   ]
  },
  {
   "cell_type": "markdown",
   "metadata": {
    "id": "F1RDW3TGMaPg"
   },
   "source": [
    "## Create submission file"
   ]
  },
  {
   "cell_type": "code",
   "execution_count": 44,
   "metadata": {
    "executionInfo": {
     "elapsed": 1689,
     "status": "ok",
     "timestamp": 1607006742364,
     "user": {
      "displayName": "TAPAS DAS",
      "photoUrl": "https://lh3.googleusercontent.com/a-/AOh14GiyffdGKiPCR_UwVittzTcbBFms70IkGfU15fatCA=s64",
      "userId": "10798398878324948542"
     },
     "user_tz": -330
    },
    "id": "OtyAODEeBc_D"
   },
   "outputs": [],
   "source": [
    "y_pred_final = (y_pred_final_lr*0.25) + (y_pred_final_gbr*0.35) + (y_pred_final_knr*0.1) + (y_pred_final_sr*0.3)"
   ]
  },
  {
   "cell_type": "code",
   "execution_count": 45,
   "metadata": {
    "colab": {
     "base_uri": "https://localhost:8080/",
     "height": 204
    },
    "executionInfo": {
     "elapsed": 1463,
     "status": "ok",
     "timestamp": 1607006746837,
     "user": {
      "displayName": "TAPAS DAS",
      "photoUrl": "https://lh3.googleusercontent.com/a-/AOh14GiyffdGKiPCR_UwVittzTcbBFms70IkGfU15fatCA=s64",
      "userId": "10798398878324948542"
     },
     "user_tz": -330
    },
    "id": "ahzYORsSMJ17",
    "outputId": "e2055631-5f5a-4057-bbf7-9ee3171ddbc1"
   },
   "outputs": [
    {
     "data": {
      "text/html": [
       "<div>\n",
       "<style scoped>\n",
       "    .dataframe tbody tr th:only-of-type {\n",
       "        vertical-align: middle;\n",
       "    }\n",
       "\n",
       "    .dataframe tbody tr th {\n",
       "        vertical-align: top;\n",
       "    }\n",
       "\n",
       "    .dataframe thead th {\n",
       "        text-align: right;\n",
       "    }\n",
       "</style>\n",
       "<table border=\"1\" class=\"dataframe\">\n",
       "  <thead>\n",
       "    <tr style=\"text-align: right;\">\n",
       "      <th></th>\n",
       "      <th>Product_id</th>\n",
       "      <th>Selling_Price</th>\n",
       "    </tr>\n",
       "  </thead>\n",
       "  <tbody>\n",
       "    <tr>\n",
       "      <th>0</th>\n",
       "      <td>SCHE4YSTDVPVZVXW</td>\n",
       "      <td>3331.342154</td>\n",
       "    </tr>\n",
       "    <tr>\n",
       "      <th>1</th>\n",
       "      <td>ACCEGCATKHNRXUHW</td>\n",
       "      <td>1987.756298</td>\n",
       "    </tr>\n",
       "    <tr>\n",
       "      <th>2</th>\n",
       "      <td>NKCE6GJ5XVJDXNNZ</td>\n",
       "      <td>11756.022061</td>\n",
       "    </tr>\n",
       "    <tr>\n",
       "      <th>3</th>\n",
       "      <td>NKCEB8BK3ZXDHDHM</td>\n",
       "      <td>9579.963172</td>\n",
       "    </tr>\n",
       "    <tr>\n",
       "      <th>4</th>\n",
       "      <td>TOPEFDXSAHRNPF94</td>\n",
       "      <td>5685.364627</td>\n",
       "    </tr>\n",
       "  </tbody>\n",
       "</table>\n",
       "</div>"
      ],
      "text/plain": [
       "         Product_id  Selling_Price\n",
       "0  SCHE4YSTDVPVZVXW    3331.342154\n",
       "1  ACCEGCATKHNRXUHW    1987.756298\n",
       "2  NKCE6GJ5XVJDXNNZ   11756.022061\n",
       "3  NKCEB8BK3ZXDHDHM    9579.963172\n",
       "4  TOPEFDXSAHRNPF94    5685.364627"
      ]
     },
     "execution_count": 45,
     "metadata": {
      "tags": []
     },
     "output_type": "execute_result"
    }
   ],
   "source": [
    "predict_df = pd.read_csv(\"/content/drive/My Drive/Colab Notebooks/Carnival Wars/Dataset/test.csv\")\n",
    "submit_df = pd.DataFrame()\n",
    "submit_df['Product_id'] = predict_df['Product_id']\n",
    "submit_df['Selling_Price'] = y_pred_final ** 3\n",
    "submit_df.head()"
   ]
  },
  {
   "cell_type": "code",
   "execution_count": 46,
   "metadata": {
    "executionInfo": {
     "elapsed": 1280,
     "status": "ok",
     "timestamp": 1607006750679,
     "user": {
      "displayName": "TAPAS DAS",
      "photoUrl": "https://lh3.googleusercontent.com/a-/AOh14GiyffdGKiPCR_UwVittzTcbBFms70IkGfU15fatCA=s64",
      "userId": "10798398878324948542"
     },
     "user_tz": -330
    },
    "id": "BYQKP0M2MJw9"
   },
   "outputs": [],
   "source": [
    "submit_df.to_csv(\"/content/drive/My Drive/Colab Notebooks/Carnival Wars/Predictions/prediction_v13_STACK.csv\", index=False)"
   ]
  },
  {
   "cell_type": "code",
   "execution_count": null,
   "metadata": {
    "id": "WZbmowH9e3jL"
   },
   "outputs": [],
   "source": []
  }
 ],
 "metadata": {
  "accelerator": "GPU",
  "colab": {
   "authorship_tag": "ABX9TyPKk9+Qnj1TDnpzwn68MwUv",
   "collapsed_sections": [
    "mWhkhSDwXQY7",
    "PI9VzPUFJWGU",
    "VdrMbRryBF1p",
    "s7t381z5KLtD",
    "d4ZjxjchBTSp",
    "u2EPIQarKhIh",
    "pbBUXp8haz3c",
    "O2AFR6_vXdbw",
    "X8blFpOcX8Fe",
    "hswCAwoUX_7H"
   ],
   "name": "Stacking Models.ipynb",
   "provenance": []
  },
  "kernelspec": {
   "display_name": "Python 3",
   "language": "python",
   "name": "python3"
  },
  "language_info": {
   "codemirror_mode": {
    "name": "ipython",
    "version": 3
   },
   "file_extension": ".py",
   "mimetype": "text/x-python",
   "name": "python",
   "nbconvert_exporter": "python",
   "pygments_lexer": "ipython3",
   "version": "3.7.9"
  }
 },
 "nbformat": 4,
 "nbformat_minor": 1
}
