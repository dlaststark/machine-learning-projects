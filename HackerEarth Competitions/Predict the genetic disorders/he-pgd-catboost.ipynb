{
 "cells": [
  {
   "cell_type": "markdown",
   "id": "29a25375",
   "metadata": {
    "id": "uLz9OcH8SeET",
    "papermill": {
     "duration": 0.019339,
     "end_time": "2021-08-02T16:43:18.889514",
     "exception": false,
     "start_time": "2021-08-02T16:43:18.870175",
     "status": "completed"
    },
    "tags": []
   },
   "source": [
    "## Import libraries"
   ]
  },
  {
   "cell_type": "code",
   "execution_count": 1,
   "id": "5859b319",
   "metadata": {
    "execution": {
     "iopub.execute_input": "2021-08-02T16:43:19.020725Z",
     "iopub.status.busy": "2021-08-02T16:43:19.019853Z",
     "iopub.status.idle": "2021-08-02T16:43:20.522160Z",
     "shell.execute_reply": "2021-08-02T16:43:20.521456Z",
     "shell.execute_reply.started": "2021-07-22T05:27:44.062409Z"
    },
    "executionInfo": {
     "elapsed": 23727,
     "status": "ok",
     "timestamp": 1616326442041,
     "user": {
      "displayName": "TAPAS DAS",
      "photoUrl": "https://lh3.googleusercontent.com/a-/AOh14GiyffdGKiPCR_UwVittzTcbBFms70IkGfU15fatCA=s64",
      "userId": "10798398878324948542"
     },
     "user_tz": -330
    },
    "id": "E9svswc9SUuX",
    "papermill": {
     "duration": 1.614714,
     "end_time": "2021-08-02T16:43:20.522373",
     "exception": false,
     "start_time": "2021-08-02T16:43:18.907659",
     "status": "completed"
    },
    "tags": []
   },
   "outputs": [],
   "source": [
    "import gc\n",
    "import pickle\n",
    "import itertools\n",
    "import numpy as np\n",
    "import pandas as pd\n",
    "import seaborn as sns\n",
    "import matplotlib.pyplot as plt\n",
    "from sklearn.metrics import f1_score\n",
    "from catboost import CatBoostClassifier\n",
    "from sklearn.metrics import confusion_matrix\n",
    "from sklearn.metrics import classification_report\n",
    "from sklearn.model_selection import StratifiedKFold"
   ]
  },
  {
   "cell_type": "markdown",
   "id": "1b4b3376",
   "metadata": {
    "id": "hg85SpW-S6hl",
    "papermill": {
     "duration": 0.017168,
     "end_time": "2021-08-02T16:43:20.557503",
     "exception": false,
     "start_time": "2021-08-02T16:43:20.540335",
     "status": "completed"
    },
    "tags": []
   },
   "source": [
    "## Prepare data for model training"
   ]
  },
  {
   "cell_type": "code",
   "execution_count": 2,
   "id": "4567bc12",
   "metadata": {
    "execution": {
     "iopub.execute_input": "2021-08-02T16:43:20.598367Z",
     "iopub.status.busy": "2021-08-02T16:43:20.597648Z",
     "iopub.status.idle": "2021-08-02T16:43:22.246210Z",
     "shell.execute_reply": "2021-08-02T16:43:22.246721Z",
     "shell.execute_reply.started": "2021-07-22T05:27:45.127081Z"
    },
    "executionInfo": {
     "elapsed": 10043,
     "status": "ok",
     "timestamp": 1616326444482,
     "user": {
      "displayName": "TAPAS DAS",
      "photoUrl": "https://lh3.googleusercontent.com/a-/AOh14GiyffdGKiPCR_UwVittzTcbBFms70IkGfU15fatCA=s64",
      "userId": "10798398878324948542"
     },
     "user_tz": -330
    },
    "id": "VdhgoIAmSUxK",
    "outputId": "7897cfad-c8d4-46d9-86ea-04de37e11444",
    "papermill": {
     "duration": 1.671955,
     "end_time": "2021-08-02T16:43:22.246907",
     "exception": false,
     "start_time": "2021-08-02T16:43:20.574952",
     "status": "completed"
    },
    "tags": []
   },
   "outputs": [
    {
     "data": {
      "text/plain": [
       "0"
      ]
     },
     "execution_count": 2,
     "metadata": {},
     "output_type": "execute_result"
    }
   ],
   "source": [
    "with open(\"../input/he-pgd-turkey-ham/MathCoThon_Ready_Sandwich.txt\", 'rb') as handle: \n",
    "    data = handle.read()\n",
    "\n",
    "processed_data = pickle.loads(data)\n",
    "train_df = processed_data['train_df']\n",
    "test_df = processed_data['test_df']\n",
    "\n",
    "del processed_data\n",
    "gc.collect()"
   ]
  },
  {
   "cell_type": "code",
   "execution_count": 3,
   "id": "2504cb66",
   "metadata": {
    "execution": {
     "iopub.execute_input": "2021-08-02T16:43:22.308498Z",
     "iopub.status.busy": "2021-08-02T16:43:22.307188Z",
     "iopub.status.idle": "2021-08-02T16:43:24.718892Z",
     "shell.execute_reply": "2021-08-02T16:43:24.719462Z",
     "shell.execute_reply.started": "2021-07-22T05:27:46.596797Z"
    },
    "papermill": {
     "duration": 2.452646,
     "end_time": "2021-08-02T16:43:24.719652",
     "exception": false,
     "start_time": "2021-08-02T16:43:22.267006",
     "status": "completed"
    },
    "tags": []
   },
   "outputs": [
    {
     "name": "stdout",
     "output_type": "stream",
     "text": [
      "[1, 2, 3, 4, 9, 10, 11, 18, 19, 20, 21, 22, 23, 24, 25, 26, 27, 28, 30, 32, 17, 12, 13, 14, 15, 16, 8, 41, 42, 43, 29, 33, 34, 35, 36, 37]\n"
     ]
    }
   ],
   "source": [
    "cat_cols = [\n",
    "    \"Genes in mother's side\",\n",
    "    'Inherited from father',\n",
    "    'Maternal gene',\n",
    "    'Paternal gene',\n",
    "    'Status',\n",
    "    'Respiratory Rate (breaths/min)',\n",
    "    'Heart Rate (rates/min',\n",
    "    'Follow-up',\n",
    "    'Gender',\n",
    "    'Birth asphyxia',\n",
    "    'Autopsy shows birth defect (if applicable)',\n",
    "    'Place of birth',\n",
    "    'Folic acid details (peri-conceptional)',\n",
    "    'H/O serious maternal illness',\n",
    "    'H/O radiation exposure (x-ray)',\n",
    "    'H/O substance abuse',\n",
    "    'Assisted conception IVF/ART',\n",
    "    'History of anomalies in previous pregnancies',\n",
    "    'Birth defects',\n",
    "    'Blood test result',\n",
    "    'Parental consent',\n",
    "    'Test 1','Test 2','Test 3','Test 4','Test 5',\n",
    "    'Institute Name',\n",
    "    'Institute Addr',\n",
    "    'Institute State',\n",
    "    'Institute Zipcode',\n",
    "    \"No. of previous abortion\",\n",
    "    'Symptom 1','Symptom 2','Symptom 3','Symptom 4','Symptom 5'\n",
    "]\n",
    "\n",
    "train_df[cat_cols] = train_df[cat_cols].astype(int)\n",
    "test_df[cat_cols] = test_df[cat_cols].astype(int)\n",
    "cat_cols_indices = [train_df.columns.get_loc(col) for col in cat_cols]\n",
    "print(cat_cols_indices)"
   ]
  },
  {
   "cell_type": "code",
   "execution_count": 4,
   "id": "34890515",
   "metadata": {
    "execution": {
     "iopub.execute_input": "2021-08-02T16:43:24.765584Z",
     "iopub.status.busy": "2021-08-02T16:43:24.764542Z",
     "iopub.status.idle": "2021-08-02T16:43:24.796470Z",
     "shell.execute_reply": "2021-08-02T16:43:24.795924Z",
     "shell.execute_reply.started": "2021-07-22T05:27:48.629719Z"
    },
    "papermill": {
     "duration": 0.058156,
     "end_time": "2021-08-02T16:43:24.796646",
     "exception": false,
     "start_time": "2021-08-02T16:43:24.738490",
     "status": "completed"
    },
    "tags": []
   },
   "outputs": [
    {
     "data": {
      "text/plain": [
       "{0: 0.15502555366269166,\n",
       " 1: 0.019431988041853514,\n",
       " 2: 0.022916142029715435,\n",
       " 3: 0.6842105263157895,\n",
       " 4: 1.0,\n",
       " 5: 0.05505142165759225,\n",
       " 6: 0.02893481717011128,\n",
       " 7: 0.07410423452768729,\n",
       " 8: 0.03560250391236306}"
      ]
     },
     "execution_count": 4,
     "metadata": {},
     "output_type": "execute_result"
    }
   ],
   "source": [
    "temp_df = train_df.groupby(['target']).size().reset_index().rename(columns={0:'count'})\n",
    "total_count = np.sum(temp_df['count'].values)\n",
    "temp_df['class%'] = (temp_df['count'] / total_count) * 100\n",
    "lowest_pct = min(temp_df['class%'])\n",
    "temp_df['class_weight'] = lowest_pct / temp_df['class%']\n",
    "class_weight = temp_df[['target', 'class_weight']].to_dict()['class_weight']\n",
    "class_weight"
   ]
  },
  {
   "cell_type": "code",
   "execution_count": 5,
   "id": "dbadfb33",
   "metadata": {
    "execution": {
     "iopub.execute_input": "2021-08-02T16:43:24.843692Z",
     "iopub.status.busy": "2021-08-02T16:43:24.842022Z",
     "iopub.status.idle": "2021-08-02T16:43:25.062836Z",
     "shell.execute_reply": "2021-08-02T16:43:25.063414Z",
     "shell.execute_reply.started": "2021-07-22T05:27:48.669653Z"
    },
    "executionInfo": {
     "elapsed": 2058,
     "status": "ok",
     "timestamp": 1616326525321,
     "user": {
      "displayName": "TAPAS DAS",
      "photoUrl": "https://lh3.googleusercontent.com/a-/AOh14GiyffdGKiPCR_UwVittzTcbBFms70IkGfU15fatCA=s64",
      "userId": "10798398878324948542"
     },
     "user_tz": -330
    },
    "id": "UAfyHbeASU7C",
    "outputId": "14c429a7-7b43-4065-afae-da7d4f6679a9",
    "papermill": {
     "duration": 0.247858,
     "end_time": "2021-08-02T16:43:25.063607",
     "exception": false,
     "start_time": "2021-08-02T16:43:24.815749",
     "status": "completed"
    },
    "tags": []
   },
   "outputs": [
    {
     "name": "stdout",
     "output_type": "stream",
     "text": [
      "Xtrain: (18047, 791) \n",
      "Ytrain: (18047,) \n",
      "Xtest: (9465, 791)\n"
     ]
    },
    {
     "data": {
      "text/plain": [
       "20"
      ]
     },
     "execution_count": 5,
     "metadata": {},
     "output_type": "execute_result"
    }
   ],
   "source": [
    "Xtrain = train_df.loc[:, ~train_df.columns.isin(['target'])].copy()\n",
    "Ytrain = train_df['target'].copy()\n",
    "Xtest = test_df.copy()\n",
    "\n",
    "print(f\"Xtrain: {Xtrain.shape} \\nYtrain: {Ytrain.shape} \\nXtest: {Xtest.shape}\")\n",
    "\n",
    "del train_df\n",
    "del test_df\n",
    "gc.collect()"
   ]
  },
  {
   "cell_type": "markdown",
   "id": "89c7c4f8",
   "metadata": {
    "id": "9wNC5rWEVnjd",
    "papermill": {
     "duration": 0.019483,
     "end_time": "2021-08-02T16:43:25.102943",
     "exception": false,
     "start_time": "2021-08-02T16:43:25.083460",
     "status": "completed"
    },
    "tags": []
   },
   "source": [
    "## Build and validate the model"
   ]
  },
  {
   "cell_type": "code",
   "execution_count": 6,
   "id": "6d877bda",
   "metadata": {
    "execution": {
     "iopub.execute_input": "2021-08-02T16:43:25.159756Z",
     "iopub.status.busy": "2021-08-02T16:43:25.158392Z",
     "iopub.status.idle": "2021-08-02T18:06:43.867878Z",
     "shell.execute_reply": "2021-08-02T18:06:43.866861Z",
     "shell.execute_reply.started": "2021-07-22T05:27:58.938169Z"
    },
    "id": "uWPosEORSVBp",
    "outputId": "d70ac047-a86b-4f36-84cc-960b1b5316be",
    "papermill": {
     "duration": 4998.745299,
     "end_time": "2021-08-02T18:06:43.868082",
     "exception": false,
     "start_time": "2021-08-02T16:43:25.122783",
     "status": "completed"
    },
    "tags": []
   },
   "outputs": [
    {
     "name": "stdout",
     "output_type": "stream",
     "text": [
      "0:\tlearn: 2.1786827\ttest: 2.1851834\tbest: 2.1851834 (0)\ttotal: 487ms\tremaining: 40m 36s\n",
      "100:\tlearn: 1.3489600\ttest: 1.6949927\tbest: 1.6949927 (100)\ttotal: 47.1s\tremaining: 38m 5s\n",
      "200:\tlearn: 1.0582266\ttest: 1.5640118\tbest: 1.5640118 (200)\ttotal: 1m 32s\tremaining: 36m 49s\n",
      "300:\tlearn: 0.9022682\ttest: 1.5109236\tbest: 1.5109236 (300)\ttotal: 2m 14s\tremaining: 35m 5s\n",
      "400:\tlearn: 0.8065907\ttest: 1.4847863\tbest: 1.4847720 (399)\ttotal: 2m 51s\tremaining: 32m 44s\n",
      "500:\tlearn: 0.7436799\ttest: 1.4770557\tbest: 1.4770557 (500)\ttotal: 3m 19s\tremaining: 29m 47s\n",
      "600:\tlearn: 0.7020478\ttest: 1.4769120\tbest: 1.4762417 (573)\ttotal: 3m 39s\tremaining: 26m 43s\n",
      "700:\tlearn: 0.6750317\ttest: 1.4800895\tbest: 1.4762417 (573)\ttotal: 3m 55s\tremaining: 24m 2s\n",
      "bestTest = 1.476241699\n",
      "bestIteration = 573\n",
      "Shrink model to first 574 iterations.\n",
      "Seed-2020 | Fold-0 | OOF Score: 32.95726889687477\n",
      "0:\tlearn: 2.1782682\ttest: 2.1858736\tbest: 2.1858736 (0)\ttotal: 440ms\tremaining: 36m 38s\n",
      "100:\tlearn: 1.3484427\ttest: 1.6992523\tbest: 1.6992523 (100)\ttotal: 46.8s\tremaining: 37m 49s\n",
      "200:\tlearn: 1.0594176\ttest: 1.5686687\tbest: 1.5686687 (200)\ttotal: 1m 32s\tremaining: 36m 43s\n",
      "300:\tlearn: 0.9064805\ttest: 1.5204671\tbest: 1.5204671 (300)\ttotal: 2m 14s\tremaining: 35m 1s\n",
      "400:\tlearn: 0.8115639\ttest: 1.5019209\tbest: 1.5019209 (400)\ttotal: 2m 50s\tremaining: 32m 29s\n",
      "500:\tlearn: 0.7474999\ttest: 1.4982099\tbest: 1.4974832 (445)\ttotal: 3m 19s\tremaining: 29m 50s\n",
      "600:\tlearn: 0.7044271\ttest: 1.4986779\tbest: 1.4973377 (559)\ttotal: 3m 40s\tremaining: 26m 57s\n",
      "700:\tlearn: 0.6749276\ttest: 1.5027163\tbest: 1.4973377 (559)\ttotal: 3m 58s\tremaining: 24m 21s\n",
      "bestTest = 1.497337722\n",
      "bestIteration = 559\n",
      "Shrink model to first 560 iterations.\n",
      "Seed-2020 | Fold-1 | OOF Score: 33.69625599553665\n",
      "0:\tlearn: 2.1778775\ttest: 2.1846365\tbest: 2.1846365 (0)\ttotal: 423ms\tremaining: 35m 16s\n",
      "100:\tlearn: 1.3451720\ttest: 1.7236501\tbest: 1.7236501 (100)\ttotal: 47.8s\tremaining: 38m 36s\n",
      "200:\tlearn: 1.0536690\ttest: 1.5985209\tbest: 1.5985209 (200)\ttotal: 1m 34s\tremaining: 37m 30s\n",
      "300:\tlearn: 0.9020378\ttest: 1.5546656\tbest: 1.5546656 (300)\ttotal: 2m 17s\tremaining: 35m 42s\n",
      "400:\tlearn: 0.8071385\ttest: 1.5406813\tbest: 1.5406581 (395)\ttotal: 2m 52s\tremaining: 33m 3s\n",
      "500:\tlearn: 0.7441308\ttest: 1.5396107\tbest: 1.5382023 (453)\ttotal: 3m 23s\tremaining: 30m 23s\n",
      "600:\tlearn: 0.7027738\ttest: 1.5445916\tbest: 1.5382023 (453)\ttotal: 3m 45s\tremaining: 27m 30s\n",
      "bestTest = 1.538202273\n",
      "bestIteration = 453\n",
      "Shrink model to first 454 iterations.\n",
      "Seed-2020 | Fold-2 | OOF Score: 34.03161082143055\n",
      "0:\tlearn: 2.1789933\ttest: 2.1853059\tbest: 2.1853059 (0)\ttotal: 427ms\tremaining: 35m 36s\n",
      "100:\tlearn: 1.3521839\ttest: 1.7282443\tbest: 1.7282443 (100)\ttotal: 46.8s\tremaining: 37m 51s\n",
      "200:\tlearn: 1.0617052\ttest: 1.6070186\tbest: 1.6070186 (200)\ttotal: 1m 32s\tremaining: 36m 56s\n",
      "300:\tlearn: 0.9062131\ttest: 1.5629754\tbest: 1.5629754 (300)\ttotal: 2m 16s\tremaining: 35m 29s\n",
      "400:\tlearn: 0.8095926\ttest: 1.5479075\tbest: 1.5479075 (400)\ttotal: 2m 52s\tremaining: 32m 59s\n",
      "500:\tlearn: 0.7446419\ttest: 1.5435678\tbest: 1.5432341 (495)\ttotal: 3m 21s\tremaining: 30m 13s\n",
      "600:\tlearn: 0.7018014\ttest: 1.5481355\tbest: 1.5432341 (495)\ttotal: 3m 45s\tremaining: 27m 27s\n",
      "bestTest = 1.543234078\n",
      "bestIteration = 495\n",
      "Shrink model to first 496 iterations.\n",
      "Seed-2020 | Fold-3 | OOF Score: 34.068012996771316\n",
      "0:\tlearn: 2.1783833\ttest: 2.1840468\tbest: 2.1840468 (0)\ttotal: 435ms\tremaining: 36m 15s\n",
      "100:\tlearn: 1.3513267\ttest: 1.6833331\tbest: 1.6833331 (100)\ttotal: 48s\tremaining: 38m 47s\n",
      "200:\tlearn: 1.0578759\ttest: 1.5570993\tbest: 1.5570993 (200)\ttotal: 1m 34s\tremaining: 37m 38s\n",
      "300:\tlearn: 0.9011085\ttest: 1.5089063\tbest: 1.5089063 (300)\ttotal: 2m 17s\tremaining: 35m 41s\n",
      "400:\tlearn: 0.8057433\ttest: 1.4871313\tbest: 1.4871313 (400)\ttotal: 2m 53s\tremaining: 33m 13s\n",
      "500:\tlearn: 0.7425948\ttest: 1.4807730\tbest: 1.4805598 (494)\ttotal: 3m 21s\tremaining: 30m 10s\n",
      "600:\tlearn: 0.6999480\ttest: 1.4809724\tbest: 1.4793808 (565)\ttotal: 3m 44s\tremaining: 27m 20s\n",
      "700:\tlearn: 0.6705204\ttest: 1.4851794\tbest: 1.4793808 (565)\ttotal: 4m 1s\tremaining: 24m 38s\n",
      "bestTest = 1.479380803\n",
      "bestIteration = 565\n",
      "Shrink model to first 566 iterations.\n",
      "Seed-2020 | Fold-4 | OOF Score: 34.14660349755503\n",
      "0:\tlearn: 2.1792127\ttest: 2.1884692\tbest: 2.1884692 (0)\ttotal: 414ms\tremaining: 34m 32s\n",
      "100:\tlearn: 1.3541325\ttest: 1.7774139\tbest: 1.7774139 (100)\ttotal: 48.1s\tremaining: 38m 53s\n",
      "200:\tlearn: 1.0691128\ttest: 1.6664935\tbest: 1.6664935 (200)\ttotal: 1m 35s\tremaining: 37m 55s\n",
      "300:\tlearn: 0.9174661\ttest: 1.6266121\tbest: 1.6264986 (299)\ttotal: 2m 17s\tremaining: 35m 52s\n",
      "400:\tlearn: 0.8231084\ttest: 1.6174492\tbest: 1.6162778 (390)\ttotal: 2m 55s\tremaining: 33m 27s\n",
      "500:\tlearn: 0.7606161\ttest: 1.6189762\tbest: 1.6157472 (459)\ttotal: 3m 24s\tremaining: 30m 36s\n",
      "600:\tlearn: 0.7200548\ttest: 1.6266080\tbest: 1.6157472 (459)\ttotal: 3m 45s\tremaining: 27m 29s\n",
      "bestTest = 1.615747214\n",
      "bestIteration = 459\n",
      "Shrink model to first 460 iterations.\n",
      "Seed-2020 | Fold-5 | OOF Score: 30.855936054470916\n",
      "0:\tlearn: 2.1784287\ttest: 2.1855361\tbest: 2.1855361 (0)\ttotal: 436ms\tremaining: 36m 19s\n",
      "100:\tlearn: 1.3439953\ttest: 1.7825663\tbest: 1.7825663 (100)\ttotal: 48.5s\tremaining: 39m 10s\n",
      "200:\tlearn: 1.0542712\ttest: 1.6785194\tbest: 1.6785194 (200)\ttotal: 1m 36s\tremaining: 38m 23s\n",
      "300:\tlearn: 0.9003761\ttest: 1.6415311\tbest: 1.6415311 (300)\ttotal: 2m 20s\tremaining: 36m 32s\n",
      "400:\tlearn: 0.8059748\ttest: 1.6316306\tbest: 1.6315311 (391)\ttotal: 2m 57s\tremaining: 33m 52s\n",
      "500:\tlearn: 0.7431586\ttest: 1.6333764\tbest: 1.6312380 (466)\ttotal: 3m 27s\tremaining: 31m\n",
      "600:\tlearn: 0.7009333\ttest: 1.6401266\tbest: 1.6312380 (466)\ttotal: 3m 49s\tremaining: 27m 56s\n",
      "bestTest = 1.631237966\n",
      "bestIteration = 466\n",
      "Shrink model to first 467 iterations.\n",
      "Seed-2020 | Fold-6 | OOF Score: 28.965469534361777\n",
      "0:\tlearn: 2.1789420\ttest: 2.1873048\tbest: 2.1873048 (0)\ttotal: 445ms\tremaining: 37m 4s\n",
      "100:\tlearn: 1.3534184\ttest: 1.7252247\tbest: 1.7252247 (100)\ttotal: 47.3s\tremaining: 38m 12s\n",
      "200:\tlearn: 1.0637071\ttest: 1.6009060\tbest: 1.6009060 (200)\ttotal: 1m 34s\tremaining: 37m 26s\n",
      "300:\tlearn: 0.9067874\ttest: 1.5585826\tbest: 1.5585826 (300)\ttotal: 2m 17s\tremaining: 35m 38s\n",
      "400:\tlearn: 0.8115526\ttest: 1.5415299\tbest: 1.5415299 (400)\ttotal: 2m 53s\tremaining: 33m 7s\n",
      "500:\tlearn: 0.7488180\ttest: 1.5363724\tbest: 1.5363228 (499)\ttotal: 3m 22s\tremaining: 30m 14s\n",
      "600:\tlearn: 0.7063332\ttest: 1.5402952\tbest: 1.5356240 (513)\ttotal: 3m 43s\tremaining: 27m 18s\n",
      "700:\tlearn: 0.6772038\ttest: 1.5430772\tbest: 1.5356240 (513)\ttotal: 4m 1s\tremaining: 24m 41s\n",
      "bestTest = 1.535623964\n",
      "bestIteration = 513\n",
      "Shrink model to first 514 iterations.\n",
      "Seed-2020 | Fold-7 | OOF Score: 29.39208362478275\n",
      "0:\tlearn: 2.1798878\ttest: 2.1859640\tbest: 2.1859640 (0)\ttotal: 417ms\tremaining: 34m 45s\n",
      "100:\tlearn: 1.3526092\ttest: 1.7139034\tbest: 1.7139034 (100)\ttotal: 46.6s\tremaining: 37m 38s\n",
      "200:\tlearn: 1.0630629\ttest: 1.5924462\tbest: 1.5924462 (200)\ttotal: 1m 32s\tremaining: 36m 48s\n",
      "300:\tlearn: 0.9083961\ttest: 1.5474074\tbest: 1.5474074 (300)\ttotal: 2m 15s\tremaining: 35m 15s\n",
      "400:\tlearn: 0.8129949\ttest: 1.5316601\tbest: 1.5316601 (400)\ttotal: 2m 51s\tremaining: 32m 44s\n",
      "500:\tlearn: 0.7490848\ttest: 1.5280181\tbest: 1.5280181 (500)\ttotal: 3m 20s\tremaining: 29m 58s\n",
      "600:\tlearn: 0.7077034\ttest: 1.5301950\tbest: 1.5275782 (540)\ttotal: 3m 40s\tremaining: 26m 53s\n",
      "700:\tlearn: 0.6788136\ttest: 1.5338409\tbest: 1.5275782 (540)\ttotal: 3m 57s\tremaining: 24m 16s\n",
      "bestTest = 1.527578223\n",
      "bestIteration = 540\n",
      "Shrink model to first 541 iterations.\n",
      "Seed-2020 | Fold-8 | OOF Score: 32.040117368986316\n",
      "0:\tlearn: 2.1782100\ttest: 2.1873662\tbest: 2.1873662 (0)\ttotal: 418ms\tremaining: 34m 51s\n",
      "100:\tlearn: 1.3606390\ttest: 1.7195581\tbest: 1.7195581 (100)\ttotal: 45.5s\tremaining: 36m 45s\n",
      "200:\tlearn: 1.0715414\ttest: 1.5947905\tbest: 1.5947905 (200)\ttotal: 1m 30s\tremaining: 35m 52s\n",
      "300:\tlearn: 0.9149716\ttest: 1.5503021\tbest: 1.5503021 (300)\ttotal: 2m 13s\tremaining: 34m 39s\n",
      "400:\tlearn: 0.8169853\ttest: 1.5359442\tbest: 1.5359442 (400)\ttotal: 2m 50s\tremaining: 32m 38s\n",
      "500:\tlearn: 0.7516757\ttest: 1.5302480\tbest: 1.5301680 (498)\ttotal: 3m 20s\tremaining: 29m 58s\n",
      "600:\tlearn: 0.7077665\ttest: 1.5352311\tbest: 1.5301680 (498)\ttotal: 3m 44s\tremaining: 27m 21s\n",
      "bestTest = 1.530167983\n",
      "bestIteration = 498\n",
      "Shrink model to first 499 iterations.\n",
      "Seed-2020 | Fold-9 | OOF Score: 32.31384970197897\n",
      "\n",
      "Seed: 2020 | Aggregate OOF Score: 32.2467208492749\n",
      "\n",
      "\n",
      "0:\tlearn: 2.1783405\ttest: 2.1842362\tbest: 2.1842362 (0)\ttotal: 484ms\tremaining: 40m 20s\n",
      "100:\tlearn: 1.3621006\ttest: 1.6729817\tbest: 1.6729817 (100)\ttotal: 46.9s\tremaining: 37m 54s\n",
      "200:\tlearn: 1.0721381\ttest: 1.5395816\tbest: 1.5395816 (200)\ttotal: 1m 32s\tremaining: 36m 52s\n",
      "300:\tlearn: 0.9162095\ttest: 1.4937009\tbest: 1.4937009 (300)\ttotal: 2m 16s\tremaining: 35m 23s\n",
      "400:\tlearn: 0.8198001\ttest: 1.4773970\tbest: 1.4773970 (400)\ttotal: 2m 53s\tremaining: 33m 6s\n",
      "500:\tlearn: 0.7559301\ttest: 1.4710732\tbest: 1.4710732 (500)\ttotal: 3m 23s\tremaining: 30m 25s\n",
      "600:\tlearn: 0.7112261\ttest: 1.4712246\tbest: 1.4696327 (542)\ttotal: 3m 46s\tremaining: 27m 39s\n",
      "700:\tlearn: 0.6823106\ttest: 1.4757769\tbest: 1.4696327 (542)\ttotal: 4m 4s\tremaining: 24m 56s\n",
      "bestTest = 1.469632723\n",
      "bestIteration = 542\n",
      "Shrink model to first 543 iterations.\n",
      "Seed-2022 | Fold-0 | OOF Score: 34.906621726768016\n",
      "0:\tlearn: 2.1792130\ttest: 2.1847987\tbest: 2.1847987 (0)\ttotal: 422ms\tremaining: 35m 11s\n",
      "100:\tlearn: 1.3482959\ttest: 1.6835139\tbest: 1.6835139 (100)\ttotal: 47.1s\tremaining: 38m 4s\n",
      "200:\tlearn: 1.0556172\ttest: 1.5503088\tbest: 1.5503088 (200)\ttotal: 1m 34s\tremaining: 37m 46s\n",
      "300:\tlearn: 0.8996761\ttest: 1.5037030\tbest: 1.5037030 (300)\ttotal: 2m 18s\tremaining: 35m 55s\n",
      "400:\tlearn: 0.8035751\ttest: 1.4899026\tbest: 1.4899026 (400)\ttotal: 2m 55s\tremaining: 33m 31s\n",
      "500:\tlearn: 0.7387016\ttest: 1.4901147\tbest: 1.4881014 (470)\ttotal: 3m 25s\tremaining: 30m 42s\n",
      "600:\tlearn: 0.6955408\ttest: 1.4949813\tbest: 1.4881014 (470)\ttotal: 3m 47s\tremaining: 27m 44s\n",
      "bestTest = 1.488101414\n",
      "bestIteration = 470\n",
      "Shrink model to first 471 iterations.\n",
      "Seed-2022 | Fold-1 | OOF Score: 35.18578503563996\n",
      "0:\tlearn: 2.1780514\ttest: 2.1886478\tbest: 2.1886478 (0)\ttotal: 443ms\tremaining: 36m 55s\n",
      "100:\tlearn: 1.3428974\ttest: 1.8117553\tbest: 1.8117553 (100)\ttotal: 47.6s\tremaining: 38m 30s\n",
      "200:\tlearn: 1.0523677\ttest: 1.7199708\tbest: 1.7199708 (200)\ttotal: 1m 34s\tremaining: 37m 46s\n",
      "300:\tlearn: 0.8988793\ttest: 1.6919832\tbest: 1.6919832 (300)\ttotal: 2m 19s\tremaining: 36m 13s\n",
      "400:\tlearn: 0.8052098\ttest: 1.6840153\tbest: 1.6837888 (396)\ttotal: 2m 56s\tremaining: 33m 42s\n",
      "500:\tlearn: 0.7413019\ttest: 1.6911303\tbest: 1.6837888 (396)\ttotal: 3m 27s\tremaining: 30m 59s\n",
      "bestTest = 1.68378877\n",
      "bestIteration = 396\n",
      "Shrink model to first 397 iterations.\n",
      "Seed-2022 | Fold-2 | OOF Score: 29.69061347821932\n",
      "0:\tlearn: 2.1786178\ttest: 2.1875735\tbest: 2.1875735 (0)\ttotal: 448ms\tremaining: 37m 21s\n",
      "100:\tlearn: 1.3625586\ttest: 1.7004250\tbest: 1.7004250 (100)\ttotal: 47.5s\tremaining: 38m 24s\n",
      "200:\tlearn: 1.0742527\ttest: 1.5711320\tbest: 1.5711320 (200)\ttotal: 1m 31s\tremaining: 36m 27s\n",
      "300:\tlearn: 0.9189673\ttest: 1.5201893\tbest: 1.5201893 (300)\ttotal: 2m 14s\tremaining: 35m 1s\n",
      "400:\tlearn: 0.8219720\ttest: 1.5008944\tbest: 1.5008944 (400)\ttotal: 2m 51s\tremaining: 32m 48s\n",
      "500:\tlearn: 0.7564041\ttest: 1.4952235\tbest: 1.4951174 (482)\ttotal: 3m 22s\tremaining: 30m 17s\n",
      "600:\tlearn: 0.7119662\ttest: 1.4979434\tbest: 1.4950262 (508)\ttotal: 3m 44s\tremaining: 27m 25s\n",
      "700:\tlearn: 0.6809800\ttest: 1.5022846\tbest: 1.4950262 (508)\ttotal: 4m 2s\tremaining: 24m 47s\n",
      "bestTest = 1.495026205\n",
      "bestIteration = 508\n",
      "Shrink model to first 509 iterations.\n",
      "Seed-2022 | Fold-3 | OOF Score: 32.55094862420962\n",
      "0:\tlearn: 2.1788073\ttest: 2.1839113\tbest: 2.1839113 (0)\ttotal: 471ms\tremaining: 39m 15s\n",
      "100:\tlearn: 1.3544182\ttest: 1.6991372\tbest: 1.6991372 (100)\ttotal: 46.5s\tremaining: 37m 36s\n",
      "200:\tlearn: 1.0630125\ttest: 1.5723366\tbest: 1.5723366 (200)\ttotal: 1m 32s\tremaining: 36m 58s\n",
      "300:\tlearn: 0.9077573\ttest: 1.5241287\tbest: 1.5241287 (300)\ttotal: 2m 15s\tremaining: 35m 9s\n",
      "400:\tlearn: 0.8115464\ttest: 1.5070860\tbest: 1.5070860 (400)\ttotal: 2m 51s\tremaining: 32m 50s\n",
      "500:\tlearn: 0.7474103\ttest: 1.5055557\tbest: 1.5048827 (454)\ttotal: 3m 21s\tremaining: 30m 6s\n",
      "600:\tlearn: 0.7036023\ttest: 1.5084064\tbest: 1.5048827 (454)\ttotal: 3m 43s\tremaining: 27m 18s\n",
      "bestTest = 1.504882724\n",
      "bestIteration = 454\n",
      "Shrink model to first 455 iterations.\n",
      "Seed-2022 | Fold-4 | OOF Score: 32.39897055831814\n",
      "0:\tlearn: 2.1782075\ttest: 2.1860933\tbest: 2.1860933 (0)\ttotal: 468ms\tremaining: 38m 57s\n",
      "100:\tlearn: 1.3580785\ttest: 1.7289435\tbest: 1.7289435 (100)\ttotal: 47.4s\tremaining: 38m 19s\n",
      "200:\tlearn: 1.0677061\ttest: 1.6049387\tbest: 1.6049387 (200)\ttotal: 1m 33s\tremaining: 37m 23s\n",
      "300:\tlearn: 0.9100088\ttest: 1.5575280\tbest: 1.5575280 (300)\ttotal: 2m 17s\tremaining: 35m 47s\n",
      "400:\tlearn: 0.8123840\ttest: 1.5391344\tbest: 1.5391344 (400)\ttotal: 2m 54s\tremaining: 33m 17s\n",
      "500:\tlearn: 0.7470024\ttest: 1.5321853\tbest: 1.5319941 (493)\ttotal: 3m 24s\tremaining: 30m 39s\n",
      "600:\tlearn: 0.7048442\ttest: 1.5321552\tbest: 1.5307696 (559)\ttotal: 3m 47s\tremaining: 27m 42s\n",
      "700:\tlearn: 0.6764625\ttest: 1.5356596\tbest: 1.5307696 (559)\ttotal: 4m 3s\tremaining: 24m 53s\n",
      "bestTest = 1.53076961\n",
      "bestIteration = 559\n",
      "Shrink model to first 560 iterations.\n",
      "Seed-2022 | Fold-5 | OOF Score: 34.905153000063\n",
      "0:\tlearn: 2.1791741\ttest: 2.1845476\tbest: 2.1845476 (0)\ttotal: 408ms\tremaining: 34m\n",
      "100:\tlearn: 1.3586671\ttest: 1.7124124\tbest: 1.7124124 (100)\ttotal: 46.4s\tremaining: 37m 29s\n",
      "200:\tlearn: 1.0712871\ttest: 1.5831047\tbest: 1.5831047 (200)\ttotal: 1m 32s\tremaining: 36m 49s\n",
      "300:\tlearn: 0.9156844\ttest: 1.5348214\tbest: 1.5348214 (300)\ttotal: 2m 16s\tremaining: 35m 31s\n",
      "400:\tlearn: 0.8188620\ttest: 1.5191443\tbest: 1.5191443 (400)\ttotal: 2m 52s\tremaining: 32m 58s\n",
      "500:\tlearn: 0.7555795\ttest: 1.5135881\tbest: 1.5129870 (488)\ttotal: 3m 20s\tremaining: 30m 1s\n",
      "600:\tlearn: 0.7125486\ttest: 1.5159922\tbest: 1.5127737 (525)\ttotal: 3m 43s\tremaining: 27m 16s\n",
      "700:\tlearn: 0.6822388\ttest: 1.5220765\tbest: 1.5127737 (525)\ttotal: 4m 2s\tremaining: 24m 45s\n",
      "bestTest = 1.51277366\n",
      "bestIteration = 525\n",
      "Shrink model to first 526 iterations.\n",
      "Seed-2022 | Fold-6 | OOF Score: 31.78356841614503\n",
      "0:\tlearn: 2.1788897\ttest: 2.1868154\tbest: 2.1868154 (0)\ttotal: 716ms\tremaining: 59m 39s\n",
      "100:\tlearn: 1.3593355\ttest: 1.7443169\tbest: 1.7443169 (100)\ttotal: 47.2s\tremaining: 38m 7s\n",
      "200:\tlearn: 1.0651618\ttest: 1.6242202\tbest: 1.6242202 (200)\ttotal: 1m 34s\tremaining: 37m 41s\n",
      "300:\tlearn: 0.9059204\ttest: 1.5810688\tbest: 1.5810688 (300)\ttotal: 2m 18s\tremaining: 35m 57s\n",
      "400:\tlearn: 0.8082486\ttest: 1.5606925\tbest: 1.5606925 (400)\ttotal: 2m 55s\tremaining: 33m 38s\n",
      "500:\tlearn: 0.7437370\ttest: 1.5541629\tbest: 1.5537310 (488)\ttotal: 3m 25s\tremaining: 30m 48s\n",
      "600:\tlearn: 0.7020068\ttest: 1.5544274\tbest: 1.5535995 (532)\ttotal: 3m 46s\tremaining: 27m 40s\n",
      "700:\tlearn: 0.6720953\ttest: 1.5583338\tbest: 1.5535995 (532)\ttotal: 4m 3s\tremaining: 24m 52s\n",
      "bestTest = 1.553599536\n",
      "bestIteration = 532\n",
      "Shrink model to first 533 iterations.\n",
      "Seed-2022 | Fold-7 | OOF Score: 31.895580199715816\n",
      "0:\tlearn: 2.1777239\ttest: 2.1863686\tbest: 2.1863686 (0)\ttotal: 429ms\tremaining: 35m 45s\n",
      "100:\tlearn: 1.3550191\ttest: 1.7509928\tbest: 1.7509928 (100)\ttotal: 45.9s\tremaining: 37m 6s\n",
      "200:\tlearn: 1.0648367\ttest: 1.6385791\tbest: 1.6385791 (200)\ttotal: 1m 31s\tremaining: 36m 12s\n",
      "300:\tlearn: 0.9094409\ttest: 1.5994820\tbest: 1.5994820 (300)\ttotal: 2m 13s\tremaining: 34m 40s\n",
      "400:\tlearn: 0.8151198\ttest: 1.5872564\tbest: 1.5872564 (400)\ttotal: 2m 49s\tremaining: 32m 21s\n",
      "500:\tlearn: 0.7526117\ttest: 1.5823484\tbest: 1.5821295 (499)\ttotal: 3m 18s\tremaining: 29m 41s\n",
      "600:\tlearn: 0.7117210\ttest: 1.5859814\tbest: 1.5821295 (499)\ttotal: 3m 38s\tremaining: 26m 38s\n",
      "bestTest = 1.582129461\n",
      "bestIteration = 499\n",
      "Shrink model to first 500 iterations.\n",
      "Seed-2022 | Fold-8 | OOF Score: 29.730736770126576\n",
      "0:\tlearn: 2.1784990\ttest: 2.1835421\tbest: 2.1835421 (0)\ttotal: 449ms\tremaining: 37m 24s\n",
      "100:\tlearn: 1.3507936\ttest: 1.7082488\tbest: 1.7082488 (100)\ttotal: 45.8s\tremaining: 36m 59s\n",
      "200:\tlearn: 1.0602361\ttest: 1.5803331\tbest: 1.5803331 (200)\ttotal: 1m 30s\tremaining: 36m 12s\n",
      "300:\tlearn: 0.9086071\ttest: 1.5332233\tbest: 1.5332233 (300)\ttotal: 2m 13s\tremaining: 34m 36s\n",
      "400:\tlearn: 0.8159980\ttest: 1.5123759\tbest: 1.5117998 (397)\ttotal: 2m 47s\tremaining: 32m 3s\n",
      "500:\tlearn: 0.7547760\ttest: 1.5059266\tbest: 1.5058066 (496)\ttotal: 3m 14s\tremaining: 29m 3s\n",
      "600:\tlearn: 0.7149225\ttest: 1.5081215\tbest: 1.5058066 (496)\ttotal: 3m 35s\tremaining: 26m 17s\n",
      "bestTest = 1.505806553\n",
      "bestIteration = 496\n",
      "Shrink model to first 497 iterations.\n",
      "Seed-2022 | Fold-9 | OOF Score: 32.575271287329116\n",
      "\n",
      "Seed: 2022 | Aggregate OOF Score: 32.562324909653455\n",
      "\n",
      "\n",
      "Aggregate OOF Score: 32.40452287946418\n"
     ]
    }
   ],
   "source": [
    "FOLD = 10\n",
    "SEEDS = [2020, 2022]\n",
    "\n",
    "fet_imp = 0\n",
    "counter = 0\n",
    "oof_score = 0\n",
    "y_pred_meta_cb = np.zeros((Xtrain.shape[0], 9))\n",
    "y_pred_final_cb = 0\n",
    "\n",
    "\n",
    "for sidx, seed in enumerate(SEEDS):\n",
    "    seed_score = 0\n",
    "    \n",
    "    kfold = StratifiedKFold(n_splits=FOLD, shuffle=True, random_state=seed)\n",
    "\n",
    "    for idx, (train, val) in enumerate(kfold.split(Xtrain.values, Ytrain)):\n",
    "        counter += 1\n",
    "        \n",
    "        train_x, train_y = Xtrain.iloc[train], Ytrain.iloc[train]\n",
    "        val_x, val_y = Xtrain.iloc[val], Ytrain.iloc[val]\n",
    "        \n",
    "        model = CatBoostClassifier(\n",
    "            objective='MultiClass',\n",
    "            eval_metric='MultiClass',\n",
    "            num_boost_round=5000,\n",
    "            class_weights=class_weight,\n",
    "            use_best_model=True,\n",
    "            learning_rate=0.0102,\n",
    "            reg_lambda=0.1756,\n",
    "            bootstrap_type='Poisson',\n",
    "            subsample=0.948,\n",
    "            max_depth=10, \n",
    "            grow_policy='Lossguide',\n",
    "            min_data_in_leaf=9, \n",
    "            max_leaves=848,\n",
    "            task_type='GPU',\n",
    "            verbose=0,\n",
    "            random_state=(seed+idx)\n",
    "        )\n",
    "\n",
    "        model.fit(train_x, train_y, eval_set=[(val_x, val_y)], \n",
    "                  cat_features=cat_cols_indices,\n",
    "                  early_stopping_rounds=200, verbose=100)\n",
    "\n",
    "        y_pred = model.predict_proba(val_x)\n",
    "        y_pred_meta_cb[val] += y_pred\n",
    "        y_pred_final_cb += model.predict_proba(Xtest)\n",
    "        \n",
    "        y_pred = np.array([np.argmax(y_pred, axis=1)]).T\n",
    "        score = 100 * f1_score(val_y, y_pred, average='macro')\n",
    "        oof_score += score\n",
    "        seed_score += score\n",
    "        fet_imp += model.feature_importances_\n",
    "        print(\"Seed-{} | Fold-{} | OOF Score: {}\".format(seed, idx, score))\n",
    "    \n",
    "    print(\"\\nSeed: {} | Aggregate OOF Score: {}\\n\\n\".format(seed, (seed_score / FOLD)))\n",
    "\n",
    "\n",
    "y_pred_meta_cb = y_pred_meta_cb / float(len(SEEDS))\n",
    "y_pred_final_cb = y_pred_final_cb / float(counter)\n",
    "fet_imp = fet_imp / float(counter)\n",
    "oof_score /= float(counter)\n",
    "print(\"Aggregate OOF Score: {}\".format(oof_score))"
   ]
  },
  {
   "cell_type": "code",
   "execution_count": 7,
   "id": "caa429c7",
   "metadata": {
    "execution": {
     "iopub.execute_input": "2021-08-02T18:06:44.043102Z",
     "iopub.status.busy": "2021-08-02T18:06:44.042049Z",
     "iopub.status.idle": "2021-08-02T18:06:44.148511Z",
     "shell.execute_reply": "2021-08-02T18:06:44.147788Z",
     "shell.execute_reply.started": "2021-05-26T09:02:14.574835Z"
    },
    "id": "uLzmS7LzXvXy",
    "papermill": {
     "duration": 0.195926,
     "end_time": "2021-08-02T18:06:44.148657",
     "exception": false,
     "start_time": "2021-08-02T18:06:43.952731",
     "status": "completed"
    },
    "tags": []
   },
   "outputs": [],
   "source": [
    "np.savez_compressed('./CB_Meta_Features.npz',\n",
    "                    y_pred_meta_cb=y_pred_meta_cb, \n",
    "                    oof_score=oof_score,\n",
    "                    y_pred_final_cb=y_pred_final_cb)"
   ]
  },
  {
   "cell_type": "markdown",
   "id": "278db143",
   "metadata": {
    "papermill": {
     "duration": 0.084269,
     "end_time": "2021-08-02T18:06:44.317069",
     "exception": false,
     "start_time": "2021-08-02T18:06:44.232800",
     "status": "completed"
    },
    "tags": []
   },
   "source": [
    "## Create submission file"
   ]
  },
  {
   "cell_type": "code",
   "execution_count": 8,
   "id": "7b58c08e",
   "metadata": {
    "execution": {
     "iopub.execute_input": "2021-08-02T18:06:44.515405Z",
     "iopub.status.busy": "2021-08-02T18:06:44.513722Z",
     "iopub.status.idle": "2021-08-02T18:06:44.719527Z",
     "shell.execute_reply": "2021-08-02T18:06:44.720884Z",
     "shell.execute_reply.started": "2021-07-20T06:03:16.80777Z"
    },
    "papermill": {
     "duration": 0.31765,
     "end_time": "2021-08-02T18:06:44.721371",
     "exception": false,
     "start_time": "2021-08-02T18:06:44.403721",
     "status": "completed"
    },
    "tags": []
   },
   "outputs": [
    {
     "data": {
      "text/html": [
       "<div>\n",
       "<style scoped>\n",
       "    .dataframe tbody tr th:only-of-type {\n",
       "        vertical-align: middle;\n",
       "    }\n",
       "\n",
       "    .dataframe tbody tr th {\n",
       "        vertical-align: top;\n",
       "    }\n",
       "\n",
       "    .dataframe thead th {\n",
       "        text-align: right;\n",
       "    }\n",
       "</style>\n",
       "<table border=\"1\" class=\"dataframe\">\n",
       "  <thead>\n",
       "    <tr style=\"text-align: right;\">\n",
       "      <th></th>\n",
       "      <th>target</th>\n",
       "      <th>Count</th>\n",
       "    </tr>\n",
       "  </thead>\n",
       "  <tbody>\n",
       "    <tr>\n",
       "      <th>0</th>\n",
       "      <td>Mitochondrial genetic inheritance disorders//L...</td>\n",
       "      <td>860</td>\n",
       "    </tr>\n",
       "    <tr>\n",
       "      <th>1</th>\n",
       "      <td>Mitochondrial genetic inheritance disorders//L...</td>\n",
       "      <td>2303</td>\n",
       "    </tr>\n",
       "    <tr>\n",
       "      <th>2</th>\n",
       "      <td>Mitochondrial genetic inheritance disorders//M...</td>\n",
       "      <td>1262</td>\n",
       "    </tr>\n",
       "    <tr>\n",
       "      <th>3</th>\n",
       "      <td>Multifactorial genetic inheritance disorders//...</td>\n",
       "      <td>97</td>\n",
       "    </tr>\n",
       "    <tr>\n",
       "      <th>4</th>\n",
       "      <td>Multifactorial genetic inheritance disorders//...</td>\n",
       "      <td>16</td>\n",
       "    </tr>\n",
       "    <tr>\n",
       "      <th>5</th>\n",
       "      <td>Multifactorial genetic inheritance disorders//...</td>\n",
       "      <td>1249</td>\n",
       "    </tr>\n",
       "    <tr>\n",
       "      <th>6</th>\n",
       "      <td>Single-gene inheritance diseases//Cystic fibrosis</td>\n",
       "      <td>2066</td>\n",
       "    </tr>\n",
       "    <tr>\n",
       "      <th>7</th>\n",
       "      <td>Single-gene inheritance diseases//Hemochromatosis</td>\n",
       "      <td>529</td>\n",
       "    </tr>\n",
       "    <tr>\n",
       "      <th>8</th>\n",
       "      <td>Single-gene inheritance diseases//Tay-Sachs</td>\n",
       "      <td>1083</td>\n",
       "    </tr>\n",
       "  </tbody>\n",
       "</table>\n",
       "</div>"
      ],
      "text/plain": [
       "                                              target  Count\n",
       "0  Mitochondrial genetic inheritance disorders//L...    860\n",
       "1  Mitochondrial genetic inheritance disorders//L...   2303\n",
       "2  Mitochondrial genetic inheritance disorders//M...   1262\n",
       "3  Multifactorial genetic inheritance disorders//...     97\n",
       "4  Multifactorial genetic inheritance disorders//...     16\n",
       "5  Multifactorial genetic inheritance disorders//...   1249\n",
       "6  Single-gene inheritance diseases//Cystic fibrosis   2066\n",
       "7  Single-gene inheritance diseases//Hemochromatosis    529\n",
       "8        Single-gene inheritance diseases//Tay-Sachs   1083"
      ]
     },
     "execution_count": 8,
     "metadata": {},
     "output_type": "execute_result"
    }
   ],
   "source": [
    "test_df = pd.read_csv(\"../input/predict-generic-disorder/dataset/test.csv\")\n",
    "submit_df = pd.DataFrame()\n",
    "submit_df['Patient Id'] = test_df['Patient Id']\n",
    "submit_df['target'] = np.array([np.argmax(y_pred_final_cb, axis=1)]).T\n",
    "\n",
    "submit_df['target'] = submit_df['target'].map({\n",
    "    0: \"Mitochondrial genetic inheritance disorders//Leber's hereditary optic neuropathy\",\n",
    "    1: 'Mitochondrial genetic inheritance disorders//Leigh syndrome',\n",
    "    2: 'Mitochondrial genetic inheritance disorders//Mitochondrial myopathy',\n",
    "    3: \"Multifactorial genetic inheritance disorders//Alzheimer's\",\n",
    "    4: 'Multifactorial genetic inheritance disorders//Cancer',\n",
    "    5: 'Multifactorial genetic inheritance disorders//Diabetes',\n",
    "    6: 'Single-gene inheritance diseases//Cystic fibrosis',\n",
    "    7: 'Single-gene inheritance diseases//Hemochromatosis',\n",
    "    8: 'Single-gene inheritance diseases//Tay-Sachs'\n",
    "})\n",
    "\n",
    "submit_df.groupby(['target']).size().reset_index().rename(columns={0:'Count'})"
   ]
  },
  {
   "cell_type": "code",
   "execution_count": 9,
   "id": "c5996833",
   "metadata": {
    "execution": {
     "iopub.execute_input": "2021-08-02T18:06:45.050733Z",
     "iopub.status.busy": "2021-08-02T18:06:45.049680Z",
     "iopub.status.idle": "2021-08-02T18:06:45.087706Z",
     "shell.execute_reply": "2021-08-02T18:06:45.088518Z",
     "shell.execute_reply.started": "2021-07-20T06:03:17.377675Z"
    },
    "papermill": {
     "duration": 0.193754,
     "end_time": "2021-08-02T18:06:45.088766",
     "exception": false,
     "start_time": "2021-08-02T18:06:44.895012",
     "status": "completed"
    },
    "tags": []
   },
   "outputs": [
    {
     "data": {
      "text/html": [
       "<div>\n",
       "<style scoped>\n",
       "    .dataframe tbody tr th:only-of-type {\n",
       "        vertical-align: middle;\n",
       "    }\n",
       "\n",
       "    .dataframe tbody tr th {\n",
       "        vertical-align: top;\n",
       "    }\n",
       "\n",
       "    .dataframe thead th {\n",
       "        text-align: right;\n",
       "    }\n",
       "</style>\n",
       "<table border=\"1\" class=\"dataframe\">\n",
       "  <thead>\n",
       "    <tr style=\"text-align: right;\">\n",
       "      <th></th>\n",
       "      <th>Patient Id</th>\n",
       "      <th>Genetic Disorder</th>\n",
       "      <th>Disorder Subclass</th>\n",
       "    </tr>\n",
       "  </thead>\n",
       "  <tbody>\n",
       "    <tr>\n",
       "      <th>0</th>\n",
       "      <td>PID0x4175</td>\n",
       "      <td>Multifactorial genetic inheritance disorders</td>\n",
       "      <td>Diabetes</td>\n",
       "    </tr>\n",
       "    <tr>\n",
       "      <th>1</th>\n",
       "      <td>PID0x21f5</td>\n",
       "      <td>Single-gene inheritance diseases</td>\n",
       "      <td>Hemochromatosis</td>\n",
       "    </tr>\n",
       "    <tr>\n",
       "      <th>2</th>\n",
       "      <td>PID0x49b8</td>\n",
       "      <td>Single-gene inheritance diseases</td>\n",
       "      <td>Tay-Sachs</td>\n",
       "    </tr>\n",
       "    <tr>\n",
       "      <th>3</th>\n",
       "      <td>PID0x2d97</td>\n",
       "      <td>Mitochondrial genetic inheritance disorders</td>\n",
       "      <td>Leigh syndrome</td>\n",
       "    </tr>\n",
       "    <tr>\n",
       "      <th>4</th>\n",
       "      <td>PID0x58da</td>\n",
       "      <td>Single-gene inheritance diseases</td>\n",
       "      <td>Cystic fibrosis</td>\n",
       "    </tr>\n",
       "  </tbody>\n",
       "</table>\n",
       "</div>"
      ],
      "text/plain": [
       "  Patient Id                              Genetic Disorder Disorder Subclass\n",
       "0  PID0x4175  Multifactorial genetic inheritance disorders          Diabetes\n",
       "1  PID0x21f5              Single-gene inheritance diseases   Hemochromatosis\n",
       "2  PID0x49b8              Single-gene inheritance diseases         Tay-Sachs\n",
       "3  PID0x2d97   Mitochondrial genetic inheritance disorders    Leigh syndrome\n",
       "4  PID0x58da              Single-gene inheritance diseases   Cystic fibrosis"
      ]
     },
     "execution_count": 9,
     "metadata": {},
     "output_type": "execute_result"
    }
   ],
   "source": [
    "submit_df['Genetic Disorder'] = submit_df['target'].apply(lambda x: x.split('//')[0])\n",
    "submit_df['Disorder Subclass'] = submit_df['target'].apply(lambda x: x.split('//')[1])\n",
    "submit_df.drop(['target'], axis=1, inplace=True)\n",
    "submit_df.head()"
   ]
  },
  {
   "cell_type": "code",
   "execution_count": 10,
   "id": "68ee68b8",
   "metadata": {
    "execution": {
     "iopub.execute_input": "2021-08-02T18:06:45.305629Z",
     "iopub.status.busy": "2021-08-02T18:06:45.304442Z",
     "iopub.status.idle": "2021-08-02T18:06:45.347384Z",
     "shell.execute_reply": "2021-08-02T18:06:45.347881Z",
     "shell.execute_reply.started": "2021-07-18T10:52:36.182652Z"
    },
    "papermill": {
     "duration": 0.137286,
     "end_time": "2021-08-02T18:06:45.348039",
     "exception": false,
     "start_time": "2021-08-02T18:06:45.210753",
     "status": "completed"
    },
    "tags": []
   },
   "outputs": [],
   "source": [
    "submit_df.to_csv(\"./CB_Submission.csv\", index=False)"
   ]
  },
  {
   "cell_type": "markdown",
   "id": "8fb2d04f",
   "metadata": {
    "papermill": {
     "duration": 0.085954,
     "end_time": "2021-08-02T18:06:45.520536",
     "exception": false,
     "start_time": "2021-08-02T18:06:45.434582",
     "status": "completed"
    },
    "tags": []
   },
   "source": [
    "## Classification Report"
   ]
  },
  {
   "cell_type": "code",
   "execution_count": 11,
   "id": "7b31526e",
   "metadata": {
    "execution": {
     "iopub.execute_input": "2021-08-02T18:06:45.699888Z",
     "iopub.status.busy": "2021-08-02T18:06:45.698976Z",
     "iopub.status.idle": "2021-08-02T18:06:45.703198Z",
     "shell.execute_reply": "2021-08-02T18:06:45.702643Z",
     "shell.execute_reply.started": "2021-07-20T06:06:04.528093Z"
    },
    "papermill": {
     "duration": 0.098572,
     "end_time": "2021-08-02T18:06:45.703512",
     "exception": false,
     "start_time": "2021-08-02T18:06:45.604940",
     "status": "completed"
    },
    "tags": []
   },
   "outputs": [],
   "source": [
    "def plot_confusion_matrix(cm, classes):\n",
    "\n",
    "    plt.imshow(cm, interpolation='nearest', cmap=plt.cm.Paired)\n",
    "    plt.title('Confusion matrix', fontweight='bold')\n",
    "    plt.colorbar()\n",
    "    tick_marks = np.arange(len(classes))\n",
    "    plt.xticks(tick_marks, classes, rotation=0)\n",
    "    plt.yticks(tick_marks, classes)\n",
    "\n",
    "    thresh = cm.max() / 2.\n",
    "    for i, j in itertools.product(range(cm.shape[0]), range(cm.shape[1])):\n",
    "        plt.text(j, i, format(cm[i, j], 'd'),\n",
    "                 horizontalalignment=\"center\",\n",
    "                 color=\"white\" if cm[i, j] > thresh else \"black\")\n",
    "\n",
    "    plt.ylabel('True label')\n",
    "    plt.xlabel('Predicted label')\n",
    "    plt.tight_layout()"
   ]
  },
  {
   "cell_type": "code",
   "execution_count": 12,
   "id": "1da07f8e",
   "metadata": {
    "execution": {
     "iopub.execute_input": "2021-08-02T18:06:45.878616Z",
     "iopub.status.busy": "2021-08-02T18:06:45.877571Z",
     "iopub.status.idle": "2021-08-02T18:06:45.918528Z",
     "shell.execute_reply": "2021-08-02T18:06:45.917938Z",
     "shell.execute_reply.started": "2021-07-20T06:03:21.015724Z"
    },
    "papermill": {
     "duration": 0.133137,
     "end_time": "2021-08-02T18:06:45.918665",
     "exception": false,
     "start_time": "2021-08-02T18:06:45.785528",
     "status": "completed"
    },
    "tags": []
   },
   "outputs": [
    {
     "name": "stdout",
     "output_type": "stream",
     "text": [
      "              precision    recall  f1-score   support\n",
      "\n",
      "           0       0.23      0.43      0.30       587\n",
      "           1       0.46      0.38      0.42      4683\n",
      "           2       0.37      0.29      0.32      3971\n",
      "           3       0.20      0.29      0.24       133\n",
      "           4       0.20      0.26      0.23        91\n",
      "           5       0.32      0.36      0.33      1653\n",
      "           6       0.41      0.42      0.41      3145\n",
      "           7       0.30      0.46      0.36      1228\n",
      "           8       0.30      0.33      0.32      2556\n",
      "\n",
      "    accuracy                           0.36     18047\n",
      "   macro avg       0.31      0.36      0.33     18047\n",
      "weighted avg       0.38      0.36      0.36     18047\n",
      "\n"
     ]
    }
   ],
   "source": [
    "y_pred = np.array([np.argmax(y_pred_meta_cb, axis=1)]).T\n",
    "print(classification_report(Ytrain, y_pred))"
   ]
  },
  {
   "cell_type": "code",
   "execution_count": 13,
   "id": "355d52f4",
   "metadata": {
    "execution": {
     "iopub.execute_input": "2021-08-02T18:06:46.096596Z",
     "iopub.status.busy": "2021-08-02T18:06:46.095520Z",
     "iopub.status.idle": "2021-08-02T18:06:47.065284Z",
     "shell.execute_reply": "2021-08-02T18:06:47.064698Z",
     "shell.execute_reply.started": "2021-07-20T06:06:07.316331Z"
    },
    "papermill": {
     "duration": 1.060742,
     "end_time": "2021-08-02T18:06:47.065437",
     "exception": false,
     "start_time": "2021-08-02T18:06:46.004695",
     "status": "completed"
    },
    "tags": []
   },
   "outputs": [
    {
     "data": {
      "image/png": "[encoded data removed]",
      "text/plain": [
       "<Figure size 1008x720 with 2 Axes>"
      ]
     },
     "metadata": {
      "needs_background": "light"
     },
     "output_type": "display_data"
    }
   ],
   "source": [
    "cnf_matrix = confusion_matrix(Ytrain, y_pred, labels=list(range(9)))\n",
    "np.set_printoptions(precision=2)\n",
    "plt.figure(figsize=(14,10))\n",
    "plot_confusion_matrix(cnf_matrix, classes=list(range(9)))"
   ]
  },
  {
   "cell_type": "markdown",
   "id": "73d59260",
   "metadata": {
    "papermill": {
     "duration": 0.085801,
     "end_time": "2021-08-02T18:06:47.236233",
     "exception": false,
     "start_time": "2021-08-02T18:06:47.150432",
     "status": "completed"
    },
    "tags": []
   },
   "source": [
    "## Features Importance"
   ]
  },
  {
   "cell_type": "code",
   "execution_count": 14,
   "id": "3876bcd1",
   "metadata": {
    "execution": {
     "iopub.execute_input": "2021-08-02T18:06:47.417262Z",
     "iopub.status.busy": "2021-08-02T18:06:47.416074Z",
     "iopub.status.idle": "2021-08-02T18:06:49.264899Z",
     "shell.execute_reply": "2021-08-02T18:06:49.265496Z",
     "shell.execute_reply.started": "2021-07-18T10:52:38.121352Z"
    },
    "papermill": {
     "duration": 1.943955,
     "end_time": "2021-08-02T18:06:49.265730",
     "exception": false,
     "start_time": "2021-08-02T18:06:47.321775",
     "status": "completed"
    },
    "tags": []
   },
   "outputs": [
    {
     "data": {
      "image/png": "[encoded data removed]",
      "text/plain": [
       "<Figure size 1440x1440 with 1 Axes>"
      ]
     },
     "metadata": {
      "needs_background": "light"
     },
     "output_type": "display_data"
    }
   ],
   "source": [
    "feature_imp = pd.DataFrame(sorted(zip(fet_imp[0:60], Xtrain.columns[0:60])), columns=['Value','Feature'])\n",
    "\n",
    "plt.figure(figsize=(20, 20))\n",
    "sns.barplot(x=\"Value\", y=\"Feature\", data=feature_imp.sort_values(by=\"Value\", ascending=False))\n",
    "plt.title('CatBoost Features Importance', fontweight='bold')\n",
    "plt.tight_layout()\n",
    "plt.show()"
   ]
  },
  {
   "cell_type": "code",
   "execution_count": null,
   "id": "0c5b156a",
   "metadata": {
    "papermill": {
     "duration": 0.090015,
     "end_time": "2021-08-02T18:06:49.445059",
     "exception": false,
     "start_time": "2021-08-02T18:06:49.355044",
     "status": "completed"
    },
    "tags": []
   },
   "outputs": [],
   "source": []
  }
 ],
 "metadata": {
  "kernelspec": {
   "display_name": "Python 3",
   "language": "python",
   "name": "python3"
  },
  "language_info": {
   "codemirror_mode": {
    "name": "ipython",
    "version": 3
   },
   "file_extension": ".py",
   "mimetype": "text/x-python",
   "name": "python",
   "nbconvert_exporter": "python",
   "pygments_lexer": "ipython3",
   "version": "3.7.10"
  },
  "papermill": {
   "default_parameters": {},
   "duration": 5020.472795,
   "end_time": "2021-08-02T18:06:50.872764",
   "environment_variables": {},
   "exception": null,
   "input_path": "__notebook__.ipynb",
   "output_path": "__notebook__.ipynb",
   "parameters": {},
   "start_time": "2021-08-02T16:43:10.399969",
   "version": "2.3.3"
  }
 },
 "nbformat": 4,
 "nbformat_minor": 5
}
