{
 "cells": [
  {
   "cell_type": "markdown",
   "id": "23ff22cf",
   "metadata": {
    "papermill": {
     "duration": 0.01742,
     "end_time": "2021-08-03T04:01:24.028118",
     "exception": false,
     "start_time": "2021-08-03T04:01:24.010698",
     "status": "completed"
    },
    "tags": []
   },
   "source": [
    "## Import libraries"
   ]
  },
  {
   "cell_type": "code",
   "execution_count": 1,
   "id": "ee7039b1",
   "metadata": {
    "execution": {
     "iopub.execute_input": "2021-08-03T04:01:24.065839Z",
     "iopub.status.busy": "2021-08-03T04:01:24.064667Z",
     "iopub.status.idle": "2021-08-03T04:01:25.227388Z",
     "shell.execute_reply": "2021-08-03T04:01:25.226641Z",
     "shell.execute_reply.started": "2021-07-21T16:25:01.993993Z"
    },
    "papermill": {
     "duration": 1.182168,
     "end_time": "2021-08-03T04:01:25.227579",
     "exception": false,
     "start_time": "2021-08-03T04:01:24.045411",
     "status": "completed"
    },
    "tags": []
   },
   "outputs": [],
   "source": [
    "import gc\n",
    "import pickle\n",
    "import numpy as np\n",
    "import pandas as pd\n",
    "from sklearn.metrics import f1_score\n",
    "from sklearn.model_selection import StratifiedKFold\n",
    "\n",
    "from sklearn.ensemble import VotingClassifier\n",
    "from sklearn.neural_network import MLPClassifier\n",
    "from sklearn.ensemble import RandomForestClassifier\n",
    "from sklearn.linear_model import LogisticRegression"
   ]
  },
  {
   "cell_type": "markdown",
   "id": "66d80786",
   "metadata": {
    "papermill": {
     "duration": 0.022046,
     "end_time": "2021-08-03T04:01:25.267674",
     "exception": false,
     "start_time": "2021-08-03T04:01:25.245628",
     "status": "completed"
    },
    "tags": []
   },
   "source": [
    "## Prepare data"
   ]
  },
  {
   "cell_type": "code",
   "execution_count": 2,
   "id": "a8a2c456",
   "metadata": {
    "execution": {
     "iopub.execute_input": "2021-08-03T04:01:25.312499Z",
     "iopub.status.busy": "2021-08-03T04:01:25.311662Z",
     "iopub.status.idle": "2021-08-03T04:01:28.092847Z",
     "shell.execute_reply": "2021-08-03T04:01:28.092344Z",
     "shell.execute_reply.started": "2021-07-21T16:25:03.797165Z"
    },
    "papermill": {
     "duration": 2.806895,
     "end_time": "2021-08-03T04:01:28.092987",
     "exception": false,
     "start_time": "2021-08-03T04:01:25.286092",
     "status": "completed"
    },
    "tags": []
   },
   "outputs": [
    {
     "data": {
      "text/plain": [
       "0"
      ]
     },
     "execution_count": 2,
     "metadata": {},
     "output_type": "execute_result"
    }
   ],
   "source": [
    "with open(\"../input/he-pgd-turkey-ham/MathCoThon_Ready_Sandwich.txt\", 'rb') as handle: \n",
    "    data = handle.read()\n",
    "\n",
    "processed_data = pickle.loads(data)\n",
    "train_df = processed_data['train_df']\n",
    "\n",
    "del processed_data\n",
    "gc.collect()"
   ]
  },
  {
   "cell_type": "code",
   "execution_count": 3,
   "id": "f21ed2e2",
   "metadata": {
    "execution": {
     "iopub.execute_input": "2021-08-03T04:01:28.141455Z",
     "iopub.status.busy": "2021-08-03T04:01:28.140712Z",
     "iopub.status.idle": "2021-08-03T04:01:28.168676Z",
     "shell.execute_reply": "2021-08-03T04:01:28.168176Z",
     "shell.execute_reply.started": "2021-07-21T16:25:05.829835Z"
    },
    "papermill": {
     "duration": 0.058641,
     "end_time": "2021-08-03T04:01:28.168815",
     "exception": false,
     "start_time": "2021-08-03T04:01:28.110174",
     "status": "completed"
    },
    "tags": []
   },
   "outputs": [
    {
     "data": {
      "text/plain": [
       "{0: 0.15502555366269166,\n",
       " 1: 0.019431988041853514,\n",
       " 2: 0.022916142029715435,\n",
       " 3: 0.6842105263157895,\n",
       " 4: 1.0,\n",
       " 5: 0.05505142165759225,\n",
       " 6: 0.02893481717011128,\n",
       " 7: 0.07410423452768729,\n",
       " 8: 0.03560250391236306}"
      ]
     },
     "execution_count": 3,
     "metadata": {},
     "output_type": "execute_result"
    }
   ],
   "source": [
    "temp_df = train_df.groupby(['target']).size().reset_index().rename(columns={0:'count'})\n",
    "total_count = np.sum(temp_df['count'].values)\n",
    "temp_df['class%'] = (temp_df['count'] / total_count) * 100\n",
    "lowest_pct = min(temp_df['class%'])\n",
    "temp_df['class_weight'] = lowest_pct / temp_df['class%']\n",
    "class_weight = temp_df[['target', 'class_weight']].to_dict()['class_weight']\n",
    "class_weight"
   ]
  },
  {
   "cell_type": "code",
   "execution_count": 4,
   "id": "de7ea0eb",
   "metadata": {
    "execution": {
     "iopub.execute_input": "2021-08-03T04:01:28.209231Z",
     "iopub.status.busy": "2021-08-03T04:01:28.208559Z",
     "iopub.status.idle": "2021-08-03T04:01:28.378628Z",
     "shell.execute_reply": "2021-08-03T04:01:28.379132Z",
     "shell.execute_reply.started": "2021-07-21T16:27:06.101226Z"
    },
    "papermill": {
     "duration": 0.193459,
     "end_time": "2021-08-03T04:01:28.379317",
     "exception": false,
     "start_time": "2021-08-03T04:01:28.185858",
     "status": "completed"
    },
    "tags": []
   },
   "outputs": [],
   "source": [
    "ds = np.load('../input/he-pgd-deep-neural/DNN_Meta_Features.npz', allow_pickle=True)\n",
    "y_pred_meta_dnn, y_pred_final_dnn = ds['y_pred_meta_dnn'], ds['y_pred_final_dnn']\n",
    "\n",
    "ds = np.load('../input/he-pgd-xgboost/XGB_Meta_Features.npz', allow_pickle=True)\n",
    "y_pred_meta_xgb, y_pred_final_xgb = ds['y_pred_meta_xgb'], ds['y_pred_final_xgb']\n",
    "\n",
    "ds = np.load('../input/he-pgd-lightgbm/LGB_Meta_Features.npz', allow_pickle=True)\n",
    "y_pred_meta_lgb, y_pred_final_lgb = ds['y_pred_meta_lgb'], ds['y_pred_final_lgb']\n",
    "\n",
    "ds = np.load('../input/he-pgd-catboost/CB_Meta_Features.npz', allow_pickle=True)\n",
    "y_pred_meta_cb, y_pred_final_cb = ds['y_pred_meta_cb'], ds['y_pred_final_cb']"
   ]
  },
  {
   "cell_type": "code",
   "execution_count": 5,
   "id": "68f0d5a5",
   "metadata": {
    "execution": {
     "iopub.execute_input": "2021-08-03T04:01:28.417018Z",
     "iopub.status.busy": "2021-08-03T04:01:28.416092Z",
     "iopub.status.idle": "2021-08-03T04:01:28.429639Z",
     "shell.execute_reply": "2021-08-03T04:01:28.428961Z",
     "shell.execute_reply.started": "2021-07-21T16:27:07.761244Z"
    },
    "papermill": {
     "duration": 0.03335,
     "end_time": "2021-08-03T04:01:28.429778",
     "exception": false,
     "start_time": "2021-08-03T04:01:28.396428",
     "status": "completed"
    },
    "tags": []
   },
   "outputs": [
    {
     "name": "stdout",
     "output_type": "stream",
     "text": [
      "Xtrain_meta shape: (18047, 27)\n",
      "Ytrain_meta shape: (18047,)\n",
      "Xtest_meta shape: (9465, 27)\n"
     ]
    }
   ],
   "source": [
    "Xtrain_meta = np.concatenate((y_pred_meta_dnn, y_pred_meta_lgb, y_pred_meta_cb), axis=1)\n",
    "Xtest_meta = np.concatenate((y_pred_final_dnn, y_pred_final_lgb, y_pred_final_cb), axis=1)\n",
    "Ytrain_meta = train_df['target'].values\n",
    "\n",
    "print(\"Xtrain_meta shape: {}\".format(Xtrain_meta.shape))\n",
    "print(\"Ytrain_meta shape: {}\".format(Ytrain_meta.shape))\n",
    "print(\"Xtest_meta shape: {}\".format(Xtest_meta.shape))"
   ]
  },
  {
   "cell_type": "markdown",
   "id": "387efafc",
   "metadata": {
    "papermill": {
     "duration": 0.016723,
     "end_time": "2021-08-03T04:01:28.463958",
     "exception": false,
     "start_time": "2021-08-03T04:01:28.447235",
     "status": "completed"
    },
    "tags": []
   },
   "source": [
    "## Logistic Regression"
   ]
  },
  {
   "cell_type": "code",
   "execution_count": 6,
   "id": "4d1f69a1",
   "metadata": {
    "execution": {
     "iopub.execute_input": "2021-08-03T04:01:28.510452Z",
     "iopub.status.busy": "2021-08-03T04:01:28.507204Z",
     "iopub.status.idle": "2021-08-03T04:01:52.856845Z",
     "shell.execute_reply": "2021-08-03T04:01:52.858301Z",
     "shell.execute_reply.started": "2021-07-21T16:27:09.871336Z"
    },
    "papermill": {
     "duration": 24.377081,
     "end_time": "2021-08-03T04:01:52.858633",
     "exception": false,
     "start_time": "2021-08-03T04:01:28.481552",
     "status": "completed"
    },
    "tags": []
   },
   "outputs": [
    {
     "name": "stdout",
     "output_type": "stream",
     "text": [
      "Seed-2020 | Fold-0 | OOF Score: 29.65413440371789\n",
      "Seed-2020 | Fold-1 | OOF Score: 30.35679427772333\n",
      "Seed-2020 | Fold-2 | OOF Score: 29.74534817174276\n",
      "Seed-2020 | Fold-3 | OOF Score: 29.510301390992183\n",
      "Seed-2020 | Fold-4 | OOF Score: 30.605977137406647\n",
      "Seed-2020 | Fold-5 | OOF Score: 30.210733953630303\n",
      "Seed-2020 | Fold-6 | OOF Score: 28.77085713671726\n",
      "Seed-2020 | Fold-7 | OOF Score: 31.11383917155333\n",
      "Seed-2020 | Fold-8 | OOF Score: 31.411960466487226\n",
      "Seed-2020 | Fold-9 | OOF Score: 30.815236123460142\n",
      "\n",
      "Seed: 2020 | Aggregate OOF Score: 30.21951822334311\n",
      "\n",
      "\n",
      "Seed-2022 | Fold-0 | OOF Score: 30.458694407545373\n",
      "Seed-2022 | Fold-1 | OOF Score: 30.70083307132585\n",
      "Seed-2022 | Fold-2 | OOF Score: 29.492536182632893\n",
      "Seed-2022 | Fold-3 | OOF Score: 31.80135558730197\n",
      "Seed-2022 | Fold-4 | OOF Score: 31.228988837982392\n",
      "Seed-2022 | Fold-5 | OOF Score: 30.067224133561204\n",
      "Seed-2022 | Fold-6 | OOF Score: 29.751537510523708\n",
      "Seed-2022 | Fold-7 | OOF Score: 30.587469258004134\n",
      "Seed-2022 | Fold-8 | OOF Score: 28.1786459474407\n",
      "Seed-2022 | Fold-9 | OOF Score: 31.062632962557757\n",
      "\n",
      "Seed: 2022 | Aggregate OOF Score: 30.332991789887604\n",
      "\n",
      "\n",
      "Aggregate OOF Score: 30.27625500661535\n"
     ]
    }
   ],
   "source": [
    "FOLD = 10\n",
    "SEEDS = [2020, 2022]\n",
    "\n",
    "counter = 0\n",
    "oof_score = 0\n",
    "y_pred_meta_lr = np.zeros((Ytrain_meta.shape[0], 9))\n",
    "y_pred_final_lr = np.zeros((Xtest_meta.shape[0], 9))\n",
    "\n",
    "\n",
    "for sidx, seed in enumerate(SEEDS):\n",
    "    seed_score = 0\n",
    "    \n",
    "    kfold = StratifiedKFold(n_splits=FOLD, shuffle=True, random_state=seed)\n",
    "\n",
    "    for idx, (train, val) in enumerate(kfold.split(Xtrain_meta, Ytrain_meta)):\n",
    "        counter += 1\n",
    "\n",
    "        train_x, train_y = Xtrain_meta[train], Ytrain_meta[train]\n",
    "        val_x, val_y = Xtrain_meta[val], Ytrain_meta[val]\n",
    "\n",
    "        model = LogisticRegression(\n",
    "            max_iter=2000,\n",
    "            class_weight=class_weight, \n",
    "            random_state=seed+idx\n",
    "        )\n",
    "\n",
    "        model.fit(train_x, train_y)\n",
    "\n",
    "        y_pred = model.predict_proba(val_x)\n",
    "        y_pred_meta_lr[val] += y_pred\n",
    "        y_pred_final_lr += model.predict_proba(Xtest_meta)\n",
    "        \n",
    "        y_pred = np.array([np.argmax(y_pred, axis=1)]).T\n",
    "        score = 100 * f1_score(val_y, y_pred, average='macro')\n",
    "        oof_score += score\n",
    "        seed_score += score\n",
    "        print(\"Seed-{} | Fold-{} | OOF Score: {}\".format(seed, idx, score))\n",
    "    \n",
    "    print(\"\\nSeed: {} | Aggregate OOF Score: {}\\n\\n\".format(seed, (seed_score / FOLD)))\n",
    "\n",
    "\n",
    "y_pred_meta_lr = y_pred_meta_lr / float(len(SEEDS))\n",
    "y_pred_final_lr = y_pred_final_lr / float(counter)\n",
    "oof_score /= float(counter)\n",
    "print(\"Aggregate OOF Score: {}\".format(oof_score))"
   ]
  },
  {
   "cell_type": "code",
   "execution_count": 7,
   "id": "820a4bc6",
   "metadata": {
    "execution": {
     "iopub.execute_input": "2021-08-03T04:01:52.955729Z",
     "iopub.status.busy": "2021-08-03T04:01:52.954608Z",
     "iopub.status.idle": "2021-08-03T04:01:53.164462Z",
     "shell.execute_reply": "2021-08-03T04:01:53.165021Z",
     "shell.execute_reply.started": "2021-07-21T16:28:11.243538Z"
    },
    "papermill": {
     "duration": 0.264978,
     "end_time": "2021-08-03T04:01:53.165306",
     "exception": false,
     "start_time": "2021-08-03T04:01:52.900328",
     "status": "completed"
    },
    "tags": []
   },
   "outputs": [
    {
     "data": {
      "text/html": [
       "<div>\n",
       "<style scoped>\n",
       "    .dataframe tbody tr th:only-of-type {\n",
       "        vertical-align: middle;\n",
       "    }\n",
       "\n",
       "    .dataframe tbody tr th {\n",
       "        vertical-align: top;\n",
       "    }\n",
       "\n",
       "    .dataframe thead th {\n",
       "        text-align: right;\n",
       "    }\n",
       "</style>\n",
       "<table border=\"1\" class=\"dataframe\">\n",
       "  <thead>\n",
       "    <tr style=\"text-align: right;\">\n",
       "      <th></th>\n",
       "      <th>Patient Id</th>\n",
       "      <th>Genetic Disorder</th>\n",
       "      <th>Disorder Subclass</th>\n",
       "    </tr>\n",
       "  </thead>\n",
       "  <tbody>\n",
       "    <tr>\n",
       "      <th>0</th>\n",
       "      <td>PID0x4175</td>\n",
       "      <td>Multifactorial genetic inheritance disorders</td>\n",
       "      <td>Diabetes</td>\n",
       "    </tr>\n",
       "    <tr>\n",
       "      <th>1</th>\n",
       "      <td>PID0x21f5</td>\n",
       "      <td>Single-gene inheritance diseases</td>\n",
       "      <td>Hemochromatosis</td>\n",
       "    </tr>\n",
       "    <tr>\n",
       "      <th>2</th>\n",
       "      <td>PID0x49b8</td>\n",
       "      <td>Single-gene inheritance diseases</td>\n",
       "      <td>Hemochromatosis</td>\n",
       "    </tr>\n",
       "    <tr>\n",
       "      <th>3</th>\n",
       "      <td>PID0x2d97</td>\n",
       "      <td>Mitochondrial genetic inheritance disorders</td>\n",
       "      <td>Leigh syndrome</td>\n",
       "    </tr>\n",
       "    <tr>\n",
       "      <th>4</th>\n",
       "      <td>PID0x58da</td>\n",
       "      <td>Single-gene inheritance diseases</td>\n",
       "      <td>Cystic fibrosis</td>\n",
       "    </tr>\n",
       "  </tbody>\n",
       "</table>\n",
       "</div>"
      ],
      "text/plain": [
       "  Patient Id                              Genetic Disorder Disorder Subclass\n",
       "0  PID0x4175  Multifactorial genetic inheritance disorders          Diabetes\n",
       "1  PID0x21f5              Single-gene inheritance diseases   Hemochromatosis\n",
       "2  PID0x49b8              Single-gene inheritance diseases   Hemochromatosis\n",
       "3  PID0x2d97   Mitochondrial genetic inheritance disorders    Leigh syndrome\n",
       "4  PID0x58da              Single-gene inheritance diseases   Cystic fibrosis"
      ]
     },
     "execution_count": 7,
     "metadata": {},
     "output_type": "execute_result"
    }
   ],
   "source": [
    "test_df = pd.read_csv(\"../input/predict-generic-disorder/dataset/test.csv\")\n",
    "submit_df = pd.DataFrame()\n",
    "submit_df['Patient Id'] = test_df['Patient Id']\n",
    "submit_df['target'] = np.array([np.argmax(y_pred_final_lr, axis=1)]).T\n",
    "\n",
    "submit_df['target'] = submit_df['target'].map({\n",
    "    0: \"Mitochondrial genetic inheritance disorders//Leber's hereditary optic neuropathy\",\n",
    "    1: 'Mitochondrial genetic inheritance disorders//Leigh syndrome',\n",
    "    2: 'Mitochondrial genetic inheritance disorders//Mitochondrial myopathy',\n",
    "    3: \"Multifactorial genetic inheritance disorders//Alzheimer's\",\n",
    "    4: 'Multifactorial genetic inheritance disorders//Cancer',\n",
    "    5: 'Multifactorial genetic inheritance disorders//Diabetes',\n",
    "    6: 'Single-gene inheritance diseases//Cystic fibrosis',\n",
    "    7: 'Single-gene inheritance diseases//Hemochromatosis',\n",
    "    8: 'Single-gene inheritance diseases//Tay-Sachs'\n",
    "})\n",
    "\n",
    "submit_df['Genetic Disorder'] = submit_df['target'].apply(lambda x: x.split('//')[0])\n",
    "submit_df['Disorder Subclass'] = submit_df['target'].apply(lambda x: x.split('//')[1])\n",
    "submit_df.drop(['target'], axis=1, inplace=True)\n",
    "submit_df.to_csv(\"./LR_Submission.csv\", index=False)\n",
    "submit_df.head()"
   ]
  },
  {
   "cell_type": "markdown",
   "id": "584d7712",
   "metadata": {
    "papermill": {
     "duration": 0.02375,
     "end_time": "2021-08-03T04:01:53.213591",
     "exception": false,
     "start_time": "2021-08-03T04:01:53.189841",
     "status": "completed"
    },
    "tags": []
   },
   "source": [
    "## RandomForest Classifier"
   ]
  },
  {
   "cell_type": "code",
   "execution_count": 8,
   "id": "bdda2bf6",
   "metadata": {
    "execution": {
     "iopub.execute_input": "2021-08-03T04:01:53.269444Z",
     "iopub.status.busy": "2021-08-03T04:01:53.268417Z",
     "iopub.status.idle": "2021-08-03T04:03:30.864715Z",
     "shell.execute_reply": "2021-08-03T04:03:30.864024Z",
     "shell.execute_reply.started": "2021-07-21T16:28:14.606262Z"
    },
    "papermill": {
     "duration": 97.627222,
     "end_time": "2021-08-03T04:03:30.864867",
     "exception": false,
     "start_time": "2021-08-03T04:01:53.237645",
     "status": "completed"
    },
    "tags": []
   },
   "outputs": [
    {
     "name": "stdout",
     "output_type": "stream",
     "text": [
      "Seed-2020 | Fold-0 | OOF Score: 30.519664400400252\n",
      "Seed-2020 | Fold-1 | OOF Score: 31.787670238319404\n",
      "Seed-2020 | Fold-2 | OOF Score: 31.78132616874037\n",
      "Seed-2020 | Fold-3 | OOF Score: 30.746176571453216\n",
      "Seed-2020 | Fold-4 | OOF Score: 31.35915344585007\n",
      "Seed-2020 | Fold-5 | OOF Score: 32.79611337244707\n",
      "Seed-2020 | Fold-6 | OOF Score: 29.77961796608295\n",
      "Seed-2020 | Fold-7 | OOF Score: 33.93239815619239\n",
      "Seed-2020 | Fold-8 | OOF Score: 32.33700234053873\n",
      "Seed-2020 | Fold-9 | OOF Score: 33.707819164729734\n",
      "\n",
      "Seed: 2020 | Aggregate OOF Score: 31.874694182475416\n",
      "\n",
      "\n",
      "Seed-2022 | Fold-0 | OOF Score: 31.3886443997786\n",
      "Seed-2022 | Fold-1 | OOF Score: 33.69699289872547\n",
      "Seed-2022 | Fold-2 | OOF Score: 32.129990315646694\n",
      "Seed-2022 | Fold-3 | OOF Score: 31.960558664829513\n",
      "Seed-2022 | Fold-4 | OOF Score: 34.428922489465194\n",
      "Seed-2022 | Fold-5 | OOF Score: 30.855717260036723\n",
      "Seed-2022 | Fold-6 | OOF Score: 31.227813230671725\n",
      "Seed-2022 | Fold-7 | OOF Score: 33.398012310958805\n",
      "Seed-2022 | Fold-8 | OOF Score: 28.882184826362888\n",
      "Seed-2022 | Fold-9 | OOF Score: 31.512902042905367\n",
      "\n",
      "Seed: 2022 | Aggregate OOF Score: 31.9481738439381\n",
      "\n",
      "\n",
      "Aggregate OOF Score: 31.91143401320675\n"
     ]
    }
   ],
   "source": [
    "FOLD = 10\n",
    "SEEDS = [2020, 2022]\n",
    "\n",
    "counter = 0\n",
    "oof_score = 0\n",
    "y_pred_meta_rfc = np.zeros((Ytrain_meta.shape[0], 9))\n",
    "y_pred_final_rfc = np.zeros((Xtest_meta.shape[0], 9))\n",
    "\n",
    "\n",
    "for sidx, seed in enumerate(SEEDS):\n",
    "    seed_score = 0\n",
    "    \n",
    "    kfold = StratifiedKFold(n_splits=FOLD, shuffle=True, random_state=seed)\n",
    "\n",
    "    for idx, (train, val) in enumerate(kfold.split(Xtrain_meta, Ytrain_meta)):\n",
    "        counter += 1\n",
    "\n",
    "        train_x, train_y = Xtrain_meta[train], Ytrain_meta[train]\n",
    "        val_x, val_y = Xtrain_meta[val], Ytrain_meta[val]\n",
    "\n",
    "        model = RandomForestClassifier(\n",
    "            max_depth=6, \n",
    "            class_weight=class_weight,\n",
    "            random_state=seed+idx\n",
    "        )\n",
    "\n",
    "        model.fit(train_x, train_y)\n",
    "\n",
    "        y_pred = model.predict_proba(val_x)\n",
    "        y_pred_meta_rfc[val] += y_pred\n",
    "        y_pred_final_rfc += model.predict_proba(Xtest_meta)\n",
    "        \n",
    "        y_pred = np.array([np.argmax(y_pred, axis=1)]).T\n",
    "        score = 100 * f1_score(val_y, y_pred, average='macro')\n",
    "        oof_score += score\n",
    "        seed_score += score\n",
    "        print(\"Seed-{} | Fold-{} | OOF Score: {}\".format(seed, idx, score))\n",
    "    \n",
    "    print(\"\\nSeed: {} | Aggregate OOF Score: {}\\n\\n\".format(seed, (seed_score / FOLD)))\n",
    "\n",
    "\n",
    "y_pred_meta_rfc = y_pred_meta_rfc / float(len(SEEDS))\n",
    "y_pred_final_rfc = y_pred_final_rfc / float(counter)\n",
    "oof_score /= float(counter)\n",
    "print(\"Aggregate OOF Score: {}\".format(oof_score))"
   ]
  },
  {
   "cell_type": "code",
   "execution_count": 9,
   "id": "ace47553",
   "metadata": {
    "execution": {
     "iopub.execute_input": "2021-08-03T04:03:30.933092Z",
     "iopub.status.busy": "2021-08-03T04:03:30.932437Z",
     "iopub.status.idle": "2021-08-03T04:03:31.086590Z",
     "shell.execute_reply": "2021-08-03T04:03:31.087083Z",
     "shell.execute_reply.started": "2021-07-21T16:30:05.786922Z"
    },
    "papermill": {
     "duration": 0.192599,
     "end_time": "2021-08-03T04:03:31.087278",
     "exception": false,
     "start_time": "2021-08-03T04:03:30.894679",
     "status": "completed"
    },
    "tags": []
   },
   "outputs": [
    {
     "data": {
      "text/html": [
       "<div>\n",
       "<style scoped>\n",
       "    .dataframe tbody tr th:only-of-type {\n",
       "        vertical-align: middle;\n",
       "    }\n",
       "\n",
       "    .dataframe tbody tr th {\n",
       "        vertical-align: top;\n",
       "    }\n",
       "\n",
       "    .dataframe thead th {\n",
       "        text-align: right;\n",
       "    }\n",
       "</style>\n",
       "<table border=\"1\" class=\"dataframe\">\n",
       "  <thead>\n",
       "    <tr style=\"text-align: right;\">\n",
       "      <th></th>\n",
       "      <th>Patient Id</th>\n",
       "      <th>Genetic Disorder</th>\n",
       "      <th>Disorder Subclass</th>\n",
       "    </tr>\n",
       "  </thead>\n",
       "  <tbody>\n",
       "    <tr>\n",
       "      <th>0</th>\n",
       "      <td>PID0x4175</td>\n",
       "      <td>Multifactorial genetic inheritance disorders</td>\n",
       "      <td>Diabetes</td>\n",
       "    </tr>\n",
       "    <tr>\n",
       "      <th>1</th>\n",
       "      <td>PID0x21f5</td>\n",
       "      <td>Single-gene inheritance diseases</td>\n",
       "      <td>Hemochromatosis</td>\n",
       "    </tr>\n",
       "    <tr>\n",
       "      <th>2</th>\n",
       "      <td>PID0x49b8</td>\n",
       "      <td>Single-gene inheritance diseases</td>\n",
       "      <td>Tay-Sachs</td>\n",
       "    </tr>\n",
       "    <tr>\n",
       "      <th>3</th>\n",
       "      <td>PID0x2d97</td>\n",
       "      <td>Mitochondrial genetic inheritance disorders</td>\n",
       "      <td>Leigh syndrome</td>\n",
       "    </tr>\n",
       "    <tr>\n",
       "      <th>4</th>\n",
       "      <td>PID0x58da</td>\n",
       "      <td>Single-gene inheritance diseases</td>\n",
       "      <td>Cystic fibrosis</td>\n",
       "    </tr>\n",
       "  </tbody>\n",
       "</table>\n",
       "</div>"
      ],
      "text/plain": [
       "  Patient Id                              Genetic Disorder Disorder Subclass\n",
       "0  PID0x4175  Multifactorial genetic inheritance disorders          Diabetes\n",
       "1  PID0x21f5              Single-gene inheritance diseases   Hemochromatosis\n",
       "2  PID0x49b8              Single-gene inheritance diseases         Tay-Sachs\n",
       "3  PID0x2d97   Mitochondrial genetic inheritance disorders    Leigh syndrome\n",
       "4  PID0x58da              Single-gene inheritance diseases   Cystic fibrosis"
      ]
     },
     "execution_count": 9,
     "metadata": {},
     "output_type": "execute_result"
    }
   ],
   "source": [
    "test_df = pd.read_csv(\"../input/predict-generic-disorder/dataset/test.csv\")\n",
    "submit_df = pd.DataFrame()\n",
    "submit_df['Patient Id'] = test_df['Patient Id']\n",
    "submit_df['target'] = np.array([np.argmax(y_pred_final_rfc, axis=1)]).T\n",
    "\n",
    "submit_df['target'] = submit_df['target'].map({\n",
    "    0: \"Mitochondrial genetic inheritance disorders//Leber's hereditary optic neuropathy\",\n",
    "    1: 'Mitochondrial genetic inheritance disorders//Leigh syndrome',\n",
    "    2: 'Mitochondrial genetic inheritance disorders//Mitochondrial myopathy',\n",
    "    3: \"Multifactorial genetic inheritance disorders//Alzheimer's\",\n",
    "    4: 'Multifactorial genetic inheritance disorders//Cancer',\n",
    "    5: 'Multifactorial genetic inheritance disorders//Diabetes',\n",
    "    6: 'Single-gene inheritance diseases//Cystic fibrosis',\n",
    "    7: 'Single-gene inheritance diseases//Hemochromatosis',\n",
    "    8: 'Single-gene inheritance diseases//Tay-Sachs'\n",
    "})\n",
    "\n",
    "submit_df['Genetic Disorder'] = submit_df['target'].apply(lambda x: x.split('//')[0])\n",
    "submit_df['Disorder Subclass'] = submit_df['target'].apply(lambda x: x.split('//')[1])\n",
    "submit_df.drop(['target'], axis=1, inplace=True)\n",
    "submit_df.to_csv(\"./RFC_Submission.csv\", index=False)\n",
    "submit_df.head()"
   ]
  },
  {
   "cell_type": "markdown",
   "id": "89605c3c",
   "metadata": {
    "papermill": {
     "duration": 0.029847,
     "end_time": "2021-08-03T04:03:31.147864",
     "exception": false,
     "start_time": "2021-08-03T04:03:31.118017",
     "status": "completed"
    },
    "tags": []
   },
   "source": [
    "## MLP Classifier"
   ]
  },
  {
   "cell_type": "code",
   "execution_count": 10,
   "id": "2be926f0",
   "metadata": {
    "execution": {
     "iopub.execute_input": "2021-08-03T04:03:31.220965Z",
     "iopub.status.busy": "2021-08-03T04:03:31.220292Z",
     "iopub.status.idle": "2021-08-03T04:06:02.632741Z",
     "shell.execute_reply": "2021-08-03T04:06:02.633639Z",
     "shell.execute_reply.started": "2021-07-21T16:30:12.597293Z"
    },
    "papermill": {
     "duration": 151.455955,
     "end_time": "2021-08-03T04:06:02.633919",
     "exception": false,
     "start_time": "2021-08-03T04:03:31.177964",
     "status": "completed"
    },
    "tags": []
   },
   "outputs": [
    {
     "name": "stdout",
     "output_type": "stream",
     "text": [
      "Seed-2020 | Fold-0 | OOF Score: 31.166992847353303\n",
      "Seed-2020 | Fold-1 | OOF Score: 29.142757239501098\n",
      "Seed-2020 | Fold-2 | OOF Score: 31.915232720436048\n",
      "Seed-2020 | Fold-3 | OOF Score: 28.103258917497275\n",
      "Seed-2020 | Fold-4 | OOF Score: 27.959852322377166\n",
      "Seed-2020 | Fold-5 | OOF Score: 29.434728287080347\n",
      "Seed-2020 | Fold-6 | OOF Score: 28.938343130557577\n",
      "Seed-2020 | Fold-7 | OOF Score: 27.47965573342881\n",
      "Seed-2020 | Fold-8 | OOF Score: 31.525196462618677\n",
      "Seed-2020 | Fold-9 | OOF Score: 31.710410510111313\n",
      "\n",
      "Seed: 2020 | Aggregate OOF Score: 29.737642817096162\n",
      "\n",
      "\n",
      "Seed-2022 | Fold-0 | OOF Score: 30.759824537363567\n",
      "Seed-2022 | Fold-1 | OOF Score: 26.423333134068482\n",
      "Seed-2022 | Fold-2 | OOF Score: 30.444281690311424\n",
      "Seed-2022 | Fold-3 | OOF Score: 30.895202744492956\n",
      "Seed-2022 | Fold-4 | OOF Score: 30.8211062239709\n",
      "Seed-2022 | Fold-5 | OOF Score: 33.899643727674004\n",
      "Seed-2022 | Fold-6 | OOF Score: 29.794382895925963\n",
      "Seed-2022 | Fold-7 | OOF Score: 27.216958729202084\n",
      "Seed-2022 | Fold-8 | OOF Score: 30.079331536216102\n",
      "Seed-2022 | Fold-9 | OOF Score: 29.671439278121287\n",
      "\n",
      "Seed: 2022 | Aggregate OOF Score: 30.000550449734675\n",
      "\n",
      "\n",
      "Aggregate OOF Score: 29.86909663341542\n"
     ]
    }
   ],
   "source": [
    "FOLD = 10\n",
    "SEEDS = [2020, 2022]\n",
    "\n",
    "counter = 0\n",
    "oof_score = 0\n",
    "y_pred_meta_mlp = np.zeros((Ytrain_meta.shape[0], 9))\n",
    "y_pred_final_mlp = np.zeros((Xtest_meta.shape[0], 9))\n",
    "\n",
    "\n",
    "for sidx, seed in enumerate(SEEDS):\n",
    "    seed_score = 0\n",
    "    \n",
    "    kfold = StratifiedKFold(n_splits=FOLD, shuffle=True, random_state=seed)\n",
    "\n",
    "    for idx, (train, val) in enumerate(kfold.split(Xtrain_meta, Ytrain_meta)):\n",
    "        counter += 1\n",
    "\n",
    "        train_x, train_y = Xtrain_meta[train], Ytrain_meta[train]\n",
    "        val_x, val_y = Xtrain_meta[val], Ytrain_meta[val]\n",
    "\n",
    "        model = MLPClassifier(\n",
    "            #hidden_layer_sizes=(64, 32),\n",
    "            learning_rate='adaptive',\n",
    "            early_stopping=True,\n",
    "            n_iter_no_change=30,\n",
    "            random_state=seed+idx, \n",
    "            max_iter=1000,\n",
    "            verbose=False\n",
    "        )\n",
    "\n",
    "        model.fit(train_x, train_y)\n",
    "\n",
    "        y_pred = model.predict_proba(val_x)\n",
    "        y_pred_meta_mlp[val] += y_pred\n",
    "        y_pred_final_mlp += model.predict_proba(Xtest_meta)\n",
    "        \n",
    "        y_pred = np.array([np.argmax(y_pred, axis=1)]).T\n",
    "        score = 100 * f1_score(val_y, y_pred, average='macro')\n",
    "        oof_score += score\n",
    "        seed_score += score\n",
    "        print(\"Seed-{} | Fold-{} | OOF Score: {}\".format(seed, idx, score))\n",
    "    \n",
    "    print(\"\\nSeed: {} | Aggregate OOF Score: {}\\n\\n\".format(seed, (seed_score / FOLD)))\n",
    "\n",
    "\n",
    "y_pred_meta_mlp = y_pred_meta_mlp / float(len(SEEDS))\n",
    "y_pred_final_mlp = y_pred_final_mlp / float(counter)\n",
    "oof_score /= float(counter)\n",
    "print(\"Aggregate OOF Score: {}\".format(oof_score))"
   ]
  },
  {
   "cell_type": "code",
   "execution_count": 11,
   "id": "670bf42d",
   "metadata": {
    "execution": {
     "iopub.execute_input": "2021-08-03T04:06:02.760380Z",
     "iopub.status.busy": "2021-08-03T04:06:02.759635Z",
     "iopub.status.idle": "2021-08-03T04:06:02.910599Z",
     "shell.execute_reply": "2021-08-03T04:06:02.910019Z",
     "shell.execute_reply.started": "2021-07-21T16:33:14.622593Z"
    },
    "papermill": {
     "duration": 0.212623,
     "end_time": "2021-08-03T04:06:02.910739",
     "exception": false,
     "start_time": "2021-08-03T04:06:02.698116",
     "status": "completed"
    },
    "tags": []
   },
   "outputs": [
    {
     "data": {
      "text/html": [
       "<div>\n",
       "<style scoped>\n",
       "    .dataframe tbody tr th:only-of-type {\n",
       "        vertical-align: middle;\n",
       "    }\n",
       "\n",
       "    .dataframe tbody tr th {\n",
       "        vertical-align: top;\n",
       "    }\n",
       "\n",
       "    .dataframe thead th {\n",
       "        text-align: right;\n",
       "    }\n",
       "</style>\n",
       "<table border=\"1\" class=\"dataframe\">\n",
       "  <thead>\n",
       "    <tr style=\"text-align: right;\">\n",
       "      <th></th>\n",
       "      <th>Patient Id</th>\n",
       "      <th>Genetic Disorder</th>\n",
       "      <th>Disorder Subclass</th>\n",
       "    </tr>\n",
       "  </thead>\n",
       "  <tbody>\n",
       "    <tr>\n",
       "      <th>0</th>\n",
       "      <td>PID0x4175</td>\n",
       "      <td>Single-gene inheritance diseases</td>\n",
       "      <td>Cystic fibrosis</td>\n",
       "    </tr>\n",
       "    <tr>\n",
       "      <th>1</th>\n",
       "      <td>PID0x21f5</td>\n",
       "      <td>Single-gene inheritance diseases</td>\n",
       "      <td>Tay-Sachs</td>\n",
       "    </tr>\n",
       "    <tr>\n",
       "      <th>2</th>\n",
       "      <td>PID0x49b8</td>\n",
       "      <td>Single-gene inheritance diseases</td>\n",
       "      <td>Tay-Sachs</td>\n",
       "    </tr>\n",
       "    <tr>\n",
       "      <th>3</th>\n",
       "      <td>PID0x2d97</td>\n",
       "      <td>Mitochondrial genetic inheritance disorders</td>\n",
       "      <td>Leigh syndrome</td>\n",
       "    </tr>\n",
       "    <tr>\n",
       "      <th>4</th>\n",
       "      <td>PID0x58da</td>\n",
       "      <td>Single-gene inheritance diseases</td>\n",
       "      <td>Cystic fibrosis</td>\n",
       "    </tr>\n",
       "  </tbody>\n",
       "</table>\n",
       "</div>"
      ],
      "text/plain": [
       "  Patient Id                             Genetic Disorder Disorder Subclass\n",
       "0  PID0x4175             Single-gene inheritance diseases   Cystic fibrosis\n",
       "1  PID0x21f5             Single-gene inheritance diseases         Tay-Sachs\n",
       "2  PID0x49b8             Single-gene inheritance diseases         Tay-Sachs\n",
       "3  PID0x2d97  Mitochondrial genetic inheritance disorders    Leigh syndrome\n",
       "4  PID0x58da             Single-gene inheritance diseases   Cystic fibrosis"
      ]
     },
     "execution_count": 11,
     "metadata": {},
     "output_type": "execute_result"
    }
   ],
   "source": [
    "test_df = pd.read_csv(\"../input/predict-generic-disorder/dataset/test.csv\")\n",
    "submit_df = pd.DataFrame()\n",
    "submit_df['Patient Id'] = test_df['Patient Id']\n",
    "submit_df['target'] = np.array([np.argmax(y_pred_final_mlp, axis=1)]).T\n",
    "\n",
    "submit_df['target'] = submit_df['target'].map({\n",
    "    0: \"Mitochondrial genetic inheritance disorders//Leber's hereditary optic neuropathy\",\n",
    "    1: 'Mitochondrial genetic inheritance disorders//Leigh syndrome',\n",
    "    2: 'Mitochondrial genetic inheritance disorders//Mitochondrial myopathy',\n",
    "    3: \"Multifactorial genetic inheritance disorders//Alzheimer's\",\n",
    "    4: 'Multifactorial genetic inheritance disorders//Cancer',\n",
    "    5: 'Multifactorial genetic inheritance disorders//Diabetes',\n",
    "    6: 'Single-gene inheritance diseases//Cystic fibrosis',\n",
    "    7: 'Single-gene inheritance diseases//Hemochromatosis',\n",
    "    8: 'Single-gene inheritance diseases//Tay-Sachs'\n",
    "})\n",
    "\n",
    "submit_df['Genetic Disorder'] = submit_df['target'].apply(lambda x: x.split('//')[0])\n",
    "submit_df['Disorder Subclass'] = submit_df['target'].apply(lambda x: x.split('//')[1])\n",
    "submit_df.drop(['target'], axis=1, inplace=True)\n",
    "submit_df.to_csv(\"./MLP_Submission.csv\", index=False)\n",
    "submit_df.head()"
   ]
  },
  {
   "cell_type": "markdown",
   "id": "1855ff6c",
   "metadata": {
    "papermill": {
     "duration": 0.036352,
     "end_time": "2021-08-03T04:06:02.983677",
     "exception": false,
     "start_time": "2021-08-03T04:06:02.947325",
     "status": "completed"
    },
    "tags": []
   },
   "source": [
    "## Voting Classifier"
   ]
  },
  {
   "cell_type": "code",
   "execution_count": 12,
   "id": "339f8877",
   "metadata": {
    "execution": {
     "iopub.execute_input": "2021-08-03T04:06:03.070281Z",
     "iopub.status.busy": "2021-08-03T04:06:03.065218Z",
     "iopub.status.idle": "2021-08-03T04:10:35.427652Z",
     "shell.execute_reply": "2021-08-03T04:10:35.428772Z",
     "shell.execute_reply.started": "2021-07-21T16:33:17.639676Z"
    },
    "papermill": {
     "duration": 272.40845,
     "end_time": "2021-08-03T04:10:35.429073",
     "exception": false,
     "start_time": "2021-08-03T04:06:03.020623",
     "status": "completed"
    },
    "tags": []
   },
   "outputs": [
    {
     "name": "stdout",
     "output_type": "stream",
     "text": [
      "Seed-2020 | Fold-0 | OOF Score: 32.128077573744214\n",
      "Seed-2020 | Fold-1 | OOF Score: 33.70375023484866\n",
      "Seed-2020 | Fold-2 | OOF Score: 32.91977360295026\n",
      "Seed-2020 | Fold-3 | OOF Score: 32.53283587263253\n",
      "Seed-2020 | Fold-4 | OOF Score: 33.99153365529575\n",
      "Seed-2020 | Fold-5 | OOF Score: 33.92071394572671\n",
      "Seed-2020 | Fold-6 | OOF Score: 30.322924686034348\n",
      "Seed-2020 | Fold-7 | OOF Score: 35.78377449771109\n",
      "Seed-2020 | Fold-8 | OOF Score: 34.75058823422075\n",
      "Seed-2020 | Fold-9 | OOF Score: 34.436327421873095\n",
      "\n",
      "Seed: 2020 | Aggregate OOF Score: 33.44902997250374\n",
      "\n",
      "\n",
      "Seed-2022 | Fold-0 | OOF Score: 34.398318604338165\n",
      "Seed-2022 | Fold-1 | OOF Score: 34.77879393769285\n",
      "Seed-2022 | Fold-2 | OOF Score: 34.70379482477941\n",
      "Seed-2022 | Fold-3 | OOF Score: 33.926004868256804\n",
      "Seed-2022 | Fold-4 | OOF Score: 36.701164242674125\n",
      "Seed-2022 | Fold-5 | OOF Score: 32.816322508867835\n",
      "Seed-2022 | Fold-6 | OOF Score: 32.79577338455168\n",
      "Seed-2022 | Fold-7 | OOF Score: 33.86724113105243\n",
      "Seed-2022 | Fold-8 | OOF Score: 28.88524576541561\n",
      "Seed-2022 | Fold-9 | OOF Score: 33.408545030274865\n",
      "\n",
      "Seed: 2022 | Aggregate OOF Score: 33.62812042979037\n",
      "\n",
      "\n",
      "Aggregate OOF Score: 33.538575201147054\n"
     ]
    }
   ],
   "source": [
    "FOLD = 10\n",
    "SEEDS = [2020, 2022]\n",
    "\n",
    "counter = 0\n",
    "oof_score = 0\n",
    "y_pred_meta_vc = np.zeros((Ytrain_meta.shape[0], 9))\n",
    "y_pred_final_vc = np.zeros((Xtest_meta.shape[0], 9))\n",
    "\n",
    "\n",
    "for sidx, seed in enumerate(SEEDS):\n",
    "    seed_score = 0\n",
    "    \n",
    "    kfold = StratifiedKFold(n_splits=FOLD, shuffle=True, random_state=seed)\n",
    "\n",
    "    for idx, (train, val) in enumerate(kfold.split(Xtrain_meta, Ytrain_meta)):\n",
    "        counter += 1\n",
    "\n",
    "        train_x, train_y = Xtrain_meta[train], Ytrain_meta[train]\n",
    "        val_x, val_y = Xtrain_meta[val], Ytrain_meta[val]\n",
    "\n",
    "        m1 = LogisticRegression(\n",
    "            max_iter=2000,\n",
    "            class_weight=class_weight, \n",
    "            random_state=seed+idx\n",
    "        )\n",
    "        m2 = RandomForestClassifier(\n",
    "            max_depth=6, \n",
    "            class_weight=class_weight,\n",
    "            random_state=seed+idx\n",
    "        )\n",
    "        m3 = MLPClassifier(\n",
    "            #hidden_layer_sizes=(64, 32),\n",
    "            learning_rate='adaptive',\n",
    "            early_stopping=True,\n",
    "            n_iter_no_change=30,\n",
    "            random_state=seed+idx, \n",
    "            max_iter=1000,\n",
    "            verbose=False\n",
    "        )\n",
    "\n",
    "        model = VotingClassifier([('lr', m1), ('rfc', m2), ('mlp', m3)],\n",
    "                                 voting='soft', weights=[1,3,1])\n",
    "\n",
    "        model.fit(train_x, train_y)\n",
    "\n",
    "        y_pred = model.predict_proba(val_x)\n",
    "        y_pred_meta_vc[val] += y_pred\n",
    "        y_pred_final_vc += model.predict_proba(Xtest_meta)\n",
    "        \n",
    "        y_pred = np.array([np.argmax(y_pred, axis=1)]).T\n",
    "        score = 100 * f1_score(val_y, y_pred, average='macro')\n",
    "        oof_score += score\n",
    "        seed_score += score\n",
    "        print(\"Seed-{} | Fold-{} | OOF Score: {}\".format(seed, idx, score))\n",
    "    \n",
    "    print(\"\\nSeed: {} | Aggregate OOF Score: {}\\n\\n\".format(seed, (seed_score / FOLD)))\n",
    "\n",
    "\n",
    "y_pred_meta_vc = y_pred_meta_vc / float(len(SEEDS))\n",
    "y_pred_final_vc = y_pred_final_vc / float(counter)\n",
    "oof_score /= float(counter)\n",
    "print(\"Aggregate OOF Score: {}\".format(oof_score))"
   ]
  },
  {
   "cell_type": "code",
   "execution_count": 13,
   "id": "58512147",
   "metadata": {
    "execution": {
     "iopub.execute_input": "2021-08-03T04:10:35.567621Z",
     "iopub.status.busy": "2021-08-03T04:10:35.566874Z",
     "iopub.status.idle": "2021-08-03T04:10:35.723029Z",
     "shell.execute_reply": "2021-08-03T04:10:35.722379Z",
     "shell.execute_reply.started": "2021-07-21T16:38:05.954685Z"
    },
    "papermill": {
     "duration": 0.218936,
     "end_time": "2021-08-03T04:10:35.723185",
     "exception": false,
     "start_time": "2021-08-03T04:10:35.504249",
     "status": "completed"
    },
    "tags": []
   },
   "outputs": [
    {
     "data": {
      "text/html": [
       "<div>\n",
       "<style scoped>\n",
       "    .dataframe tbody tr th:only-of-type {\n",
       "        vertical-align: middle;\n",
       "    }\n",
       "\n",
       "    .dataframe tbody tr th {\n",
       "        vertical-align: top;\n",
       "    }\n",
       "\n",
       "    .dataframe thead th {\n",
       "        text-align: right;\n",
       "    }\n",
       "</style>\n",
       "<table border=\"1\" class=\"dataframe\">\n",
       "  <thead>\n",
       "    <tr style=\"text-align: right;\">\n",
       "      <th></th>\n",
       "      <th>Patient Id</th>\n",
       "      <th>Genetic Disorder</th>\n",
       "      <th>Disorder Subclass</th>\n",
       "    </tr>\n",
       "  </thead>\n",
       "  <tbody>\n",
       "    <tr>\n",
       "      <th>0</th>\n",
       "      <td>PID0x4175</td>\n",
       "      <td>Multifactorial genetic inheritance disorders</td>\n",
       "      <td>Diabetes</td>\n",
       "    </tr>\n",
       "    <tr>\n",
       "      <th>1</th>\n",
       "      <td>PID0x21f5</td>\n",
       "      <td>Single-gene inheritance diseases</td>\n",
       "      <td>Hemochromatosis</td>\n",
       "    </tr>\n",
       "    <tr>\n",
       "      <th>2</th>\n",
       "      <td>PID0x49b8</td>\n",
       "      <td>Single-gene inheritance diseases</td>\n",
       "      <td>Tay-Sachs</td>\n",
       "    </tr>\n",
       "    <tr>\n",
       "      <th>3</th>\n",
       "      <td>PID0x2d97</td>\n",
       "      <td>Mitochondrial genetic inheritance disorders</td>\n",
       "      <td>Leigh syndrome</td>\n",
       "    </tr>\n",
       "    <tr>\n",
       "      <th>4</th>\n",
       "      <td>PID0x58da</td>\n",
       "      <td>Single-gene inheritance diseases</td>\n",
       "      <td>Cystic fibrosis</td>\n",
       "    </tr>\n",
       "  </tbody>\n",
       "</table>\n",
       "</div>"
      ],
      "text/plain": [
       "  Patient Id                              Genetic Disorder Disorder Subclass\n",
       "0  PID0x4175  Multifactorial genetic inheritance disorders          Diabetes\n",
       "1  PID0x21f5              Single-gene inheritance diseases   Hemochromatosis\n",
       "2  PID0x49b8              Single-gene inheritance diseases         Tay-Sachs\n",
       "3  PID0x2d97   Mitochondrial genetic inheritance disorders    Leigh syndrome\n",
       "4  PID0x58da              Single-gene inheritance diseases   Cystic fibrosis"
      ]
     },
     "execution_count": 13,
     "metadata": {},
     "output_type": "execute_result"
    }
   ],
   "source": [
    "test_df = pd.read_csv(\"../input/predict-generic-disorder/dataset/test.csv\")\n",
    "submit_df = pd.DataFrame()\n",
    "submit_df['Patient Id'] = test_df['Patient Id']\n",
    "submit_df['target'] = np.array([np.argmax(y_pred_final_vc, axis=1)]).T\n",
    "\n",
    "submit_df['target'] = submit_df['target'].map({\n",
    "    0: \"Mitochondrial genetic inheritance disorders//Leber's hereditary optic neuropathy\",\n",
    "    1: 'Mitochondrial genetic inheritance disorders//Leigh syndrome',\n",
    "    2: 'Mitochondrial genetic inheritance disorders//Mitochondrial myopathy',\n",
    "    3: \"Multifactorial genetic inheritance disorders//Alzheimer's\",\n",
    "    4: 'Multifactorial genetic inheritance disorders//Cancer',\n",
    "    5: 'Multifactorial genetic inheritance disorders//Diabetes',\n",
    "    6: 'Single-gene inheritance diseases//Cystic fibrosis',\n",
    "    7: 'Single-gene inheritance diseases//Hemochromatosis',\n",
    "    8: 'Single-gene inheritance diseases//Tay-Sachs'\n",
    "})\n",
    "\n",
    "submit_df['Genetic Disorder'] = submit_df['target'].apply(lambda x: x.split('//')[0])\n",
    "submit_df['Disorder Subclass'] = submit_df['target'].apply(lambda x: x.split('//')[1])\n",
    "submit_df.drop(['target'], axis=1, inplace=True)\n",
    "submit_df.to_csv(\"./VC_Submission.csv\", index=False)\n",
    "submit_df.head()"
   ]
  },
  {
   "cell_type": "code",
   "execution_count": 14,
   "id": "e85f2c3d",
   "metadata": {
    "execution": {
     "iopub.execute_input": "2021-08-03T04:10:35.821637Z",
     "iopub.status.busy": "2021-08-03T04:10:35.820932Z",
     "iopub.status.idle": "2021-08-03T04:10:35.978850Z",
     "shell.execute_reply": "2021-08-03T04:10:35.978353Z",
     "shell.execute_reply.started": "2021-07-21T16:39:22.385199Z"
    },
    "papermill": {
     "duration": 0.211304,
     "end_time": "2021-08-03T04:10:35.979100",
     "exception": false,
     "start_time": "2021-08-03T04:10:35.767796",
     "status": "completed"
    },
    "tags": []
   },
   "outputs": [
    {
     "data": {
      "text/html": [
       "<div>\n",
       "<style scoped>\n",
       "    .dataframe tbody tr th:only-of-type {\n",
       "        vertical-align: middle;\n",
       "    }\n",
       "\n",
       "    .dataframe tbody tr th {\n",
       "        vertical-align: top;\n",
       "    }\n",
       "\n",
       "    .dataframe thead th {\n",
       "        text-align: right;\n",
       "    }\n",
       "</style>\n",
       "<table border=\"1\" class=\"dataframe\">\n",
       "  <thead>\n",
       "    <tr style=\"text-align: right;\">\n",
       "      <th></th>\n",
       "      <th>Patient Id</th>\n",
       "      <th>Genetic Disorder</th>\n",
       "      <th>Disorder Subclass</th>\n",
       "    </tr>\n",
       "  </thead>\n",
       "  <tbody>\n",
       "    <tr>\n",
       "      <th>0</th>\n",
       "      <td>PID0x4175</td>\n",
       "      <td>Multifactorial genetic inheritance disorders</td>\n",
       "      <td>Diabetes</td>\n",
       "    </tr>\n",
       "    <tr>\n",
       "      <th>1</th>\n",
       "      <td>PID0x21f5</td>\n",
       "      <td>Single-gene inheritance diseases</td>\n",
       "      <td>Hemochromatosis</td>\n",
       "    </tr>\n",
       "    <tr>\n",
       "      <th>2</th>\n",
       "      <td>PID0x49b8</td>\n",
       "      <td>Single-gene inheritance diseases</td>\n",
       "      <td>Tay-Sachs</td>\n",
       "    </tr>\n",
       "    <tr>\n",
       "      <th>3</th>\n",
       "      <td>PID0x2d97</td>\n",
       "      <td>Mitochondrial genetic inheritance disorders</td>\n",
       "      <td>Leigh syndrome</td>\n",
       "    </tr>\n",
       "    <tr>\n",
       "      <th>4</th>\n",
       "      <td>PID0x58da</td>\n",
       "      <td>Single-gene inheritance diseases</td>\n",
       "      <td>Cystic fibrosis</td>\n",
       "    </tr>\n",
       "  </tbody>\n",
       "</table>\n",
       "</div>"
      ],
      "text/plain": [
       "  Patient Id                              Genetic Disorder Disorder Subclass\n",
       "0  PID0x4175  Multifactorial genetic inheritance disorders          Diabetes\n",
       "1  PID0x21f5              Single-gene inheritance diseases   Hemochromatosis\n",
       "2  PID0x49b8              Single-gene inheritance diseases         Tay-Sachs\n",
       "3  PID0x2d97   Mitochondrial genetic inheritance disorders    Leigh syndrome\n",
       "4  PID0x58da              Single-gene inheritance diseases   Cystic fibrosis"
      ]
     },
     "execution_count": 14,
     "metadata": {},
     "output_type": "execute_result"
    }
   ],
   "source": [
    "y_pred_final = (y_pred_final_lr * 0.1) + \\\n",
    "               (y_pred_final_rfc * 0.35) + \\\n",
    "               (y_pred_final_mlp * 0.05) + \\\n",
    "               (y_pred_final_vc * 0.5)\n",
    "\n",
    "test_df = pd.read_csv(\"../input/predict-generic-disorder/dataset/test.csv\")\n",
    "submit_df = pd.DataFrame()\n",
    "submit_df['Patient Id'] = test_df['Patient Id']\n",
    "submit_df['target'] = np.array([np.argmax(y_pred_final, axis=1)]).T\n",
    "\n",
    "submit_df['target'] = submit_df['target'].map({\n",
    "    0: \"Mitochondrial genetic inheritance disorders//Leber's hereditary optic neuropathy\",\n",
    "    1: 'Mitochondrial genetic inheritance disorders//Leigh syndrome',\n",
    "    2: 'Mitochondrial genetic inheritance disorders//Mitochondrial myopathy',\n",
    "    3: \"Multifactorial genetic inheritance disorders//Alzheimer's\",\n",
    "    4: 'Multifactorial genetic inheritance disorders//Cancer',\n",
    "    5: 'Multifactorial genetic inheritance disorders//Diabetes',\n",
    "    6: 'Single-gene inheritance diseases//Cystic fibrosis',\n",
    "    7: 'Single-gene inheritance diseases//Hemochromatosis',\n",
    "    8: 'Single-gene inheritance diseases//Tay-Sachs'\n",
    "})\n",
    "\n",
    "submit_df['Genetic Disorder'] = submit_df['target'].apply(lambda x: x.split('//')[0])\n",
    "submit_df['Disorder Subclass'] = submit_df['target'].apply(lambda x: x.split('//')[1])\n",
    "submit_df.drop(['target'], axis=1, inplace=True)\n",
    "submit_df.to_csv(\"./BLEND_Submission.csv\", index=False)\n",
    "submit_df.head()"
   ]
  },
  {
   "cell_type": "code",
   "execution_count": null,
   "id": "d2ebd406",
   "metadata": {
    "papermill": {
     "duration": 0.043158,
     "end_time": "2021-08-03T04:10:36.066245",
     "exception": false,
     "start_time": "2021-08-03T04:10:36.023087",
     "status": "completed"
    },
    "tags": []
   },
   "outputs": [],
   "source": []
  }
 ],
 "metadata": {
  "kernelspec": {
   "display_name": "Python 3",
   "language": "python",
   "name": "python3"
  },
  "language_info": {
   "codemirror_mode": {
    "name": "ipython",
    "version": 3
   },
   "file_extension": ".py",
   "mimetype": "text/x-python",
   "name": "python",
   "nbconvert_exporter": "python",
   "pygments_lexer": "ipython3",
   "version": "3.7.10"
  },
  "papermill": {
   "default_parameters": {},
   "duration": 560.853913,
   "end_time": "2021-08-03T04:10:36.922337",
   "environment_variables": {},
   "exception": null,
   "input_path": "__notebook__.ipynb",
   "output_path": "__notebook__.ipynb",
   "parameters": {},
   "start_time": "2021-08-03T04:01:16.068424",
   "version": "2.3.3"
  }
 },
 "nbformat": 4,
 "nbformat_minor": 5
}
