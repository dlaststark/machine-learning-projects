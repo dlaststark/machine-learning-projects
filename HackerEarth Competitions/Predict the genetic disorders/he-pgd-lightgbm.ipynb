{
 "cells": [
  {
   "cell_type": "markdown",
   "id": "d8009532",
   "metadata": {
    "id": "uLz9OcH8SeET",
    "papermill": {
     "duration": 0.016559,
     "end_time": "2021-07-21T14:57:19.203679",
     "exception": false,
     "start_time": "2021-07-21T14:57:19.187120",
     "status": "completed"
    },
    "tags": []
   },
   "source": [
    "## Import libraries"
   ]
  },
  {
   "cell_type": "code",
   "execution_count": 1,
   "id": "21dbf805",
   "metadata": {
    "execution": {
     "iopub.execute_input": "2021-07-21T14:57:19.240470Z",
     "iopub.status.busy": "2021-07-21T14:57:19.239259Z",
     "iopub.status.idle": "2021-07-21T14:57:22.102105Z",
     "shell.execute_reply": "2021-07-21T14:57:22.101166Z",
     "shell.execute_reply.started": "2021-07-19T14:17:00.395845Z"
    },
    "executionInfo": {
     "elapsed": 23727,
     "status": "ok",
     "timestamp": 1616326442041,
     "user": {
      "displayName": "TAPAS DAS",
      "photoUrl": "https://lh3.googleusercontent.com/a-/AOh14GiyffdGKiPCR_UwVittzTcbBFms70IkGfU15fatCA=s64",
      "userId": "10798398878324948542"
     },
     "user_tz": -330
    },
    "id": "E9svswc9SUuX",
    "papermill": {
     "duration": 2.881932,
     "end_time": "2021-07-21T14:57:22.102349",
     "exception": false,
     "start_time": "2021-07-21T14:57:19.220417",
     "status": "completed"
    },
    "tags": []
   },
   "outputs": [
    {
     "data": {
      "text/html": [
       "<style type='text/css'>\n",
       ".datatable table.frame { margin-bottom: 0; }\n",
       ".datatable table.frame thead { border-bottom: none; }\n",
       ".datatable table.frame tr.coltypes td {  color: #FFFFFF;  line-height: 6px;  padding: 0 0.5em;}\n",
       ".datatable .bool    { background: #DDDD99; }\n",
       ".datatable .object  { background: #565656; }\n",
       ".datatable .int     { background: #5D9E5D; }\n",
       ".datatable .float   { background: #4040CC; }\n",
       ".datatable .str     { background: #CC4040; }\n",
       ".datatable .time    { background: #40CC40; }\n",
       ".datatable .row_index {  background: var(--jp-border-color3);  border-right: 1px solid var(--jp-border-color0);  color: var(--jp-ui-font-color3);  font-size: 9px;}\n",
       ".datatable .frame tbody td { text-align: left; }\n",
       ".datatable .frame tr.coltypes .row_index {  background: var(--jp-border-color0);}\n",
       ".datatable th:nth-child(2) { padding-left: 12px; }\n",
       ".datatable .hellipsis {  color: var(--jp-cell-editor-border-color);}\n",
       ".datatable .vellipsis {  background: var(--jp-layout-color0);  color: var(--jp-cell-editor-border-color);}\n",
       ".datatable .na {  color: var(--jp-cell-editor-border-color);  font-size: 80%;}\n",
       ".datatable .sp {  opacity: 0.25;}\n",
       ".datatable .footer { font-size: 9px; }\n",
       ".datatable .frame_dimensions {  background: var(--jp-border-color3);  border-top: 1px solid var(--jp-border-color0);  color: var(--jp-ui-font-color3);  display: inline-block;  opacity: 0.6;  padding: 1px 10px 1px 5px;}\n",
       "</style>\n"
      ],
      "text/plain": [
       "<IPython.core.display.HTML object>"
      ]
     },
     "metadata": {},
     "output_type": "display_data"
    }
   ],
   "source": [
    "import warnings\n",
    "warnings.filterwarnings(\"ignore\")\n",
    "\n",
    "import gc\n",
    "import pickle\n",
    "import itertools\n",
    "import numpy as np\n",
    "import pandas as pd\n",
    "import seaborn as sns\n",
    "import matplotlib.pyplot as plt\n",
    "from lightgbm import LGBMClassifier\n",
    "from sklearn.metrics import f1_score\n",
    "from sklearn.metrics import confusion_matrix\n",
    "from sklearn.metrics import classification_report\n",
    "from sklearn.model_selection import StratifiedKFold"
   ]
  },
  {
   "cell_type": "markdown",
   "id": "4ee14493",
   "metadata": {
    "id": "hg85SpW-S6hl",
    "papermill": {
     "duration": 0.01593,
     "end_time": "2021-07-21T14:57:22.135366",
     "exception": false,
     "start_time": "2021-07-21T14:57:22.119436",
     "status": "completed"
    },
    "tags": []
   },
   "source": [
    "## Prepare data for model training"
   ]
  },
  {
   "cell_type": "code",
   "execution_count": 2,
   "id": "8b495bc8",
   "metadata": {
    "execution": {
     "iopub.execute_input": "2021-07-21T14:57:22.174672Z",
     "iopub.status.busy": "2021-07-21T14:57:22.173913Z",
     "iopub.status.idle": "2021-07-21T14:57:24.612351Z",
     "shell.execute_reply": "2021-07-21T14:57:24.611804Z",
     "shell.execute_reply.started": "2021-07-19T14:17:02.909829Z"
    },
    "executionInfo": {
     "elapsed": 10043,
     "status": "ok",
     "timestamp": 1616326444482,
     "user": {
      "displayName": "TAPAS DAS",
      "photoUrl": "https://lh3.googleusercontent.com/a-/AOh14GiyffdGKiPCR_UwVittzTcbBFms70IkGfU15fatCA=s64",
      "userId": "10798398878324948542"
     },
     "user_tz": -330
    },
    "id": "VdhgoIAmSUxK",
    "outputId": "7897cfad-c8d4-46d9-86ea-04de37e11444",
    "papermill": {
     "duration": 2.460765,
     "end_time": "2021-07-21T14:57:24.612507",
     "exception": false,
     "start_time": "2021-07-21T14:57:22.151742",
     "status": "completed"
    },
    "tags": []
   },
   "outputs": [
    {
     "data": {
      "text/plain": [
       "0"
      ]
     },
     "execution_count": 2,
     "metadata": {},
     "output_type": "execute_result"
    }
   ],
   "source": [
    "with open(\"../input/he-pgd-turkey-ham/MathCoThon_Ready_Sandwich.txt\", 'rb') as handle: \n",
    "    data = handle.read()\n",
    "\n",
    "processed_data = pickle.loads(data)\n",
    "train_df = processed_data['train_df']\n",
    "test_df = processed_data['test_df']\n",
    "\n",
    "del processed_data\n",
    "gc.collect()"
   ]
  },
  {
   "cell_type": "code",
   "execution_count": 3,
   "id": "47df4dcf",
   "metadata": {
    "execution": {
     "iopub.execute_input": "2021-07-21T14:57:24.671532Z",
     "iopub.status.busy": "2021-07-21T14:57:24.663703Z",
     "iopub.status.idle": "2021-07-21T14:57:27.194743Z",
     "shell.execute_reply": "2021-07-21T14:57:27.193994Z",
     "shell.execute_reply.started": "2021-07-19T14:17:04.384592Z"
    },
    "papermill": {
     "duration": 2.564244,
     "end_time": "2021-07-21T14:57:27.194916",
     "exception": false,
     "start_time": "2021-07-21T14:57:24.630672",
     "status": "completed"
    },
    "tags": []
   },
   "outputs": [
    {
     "name": "stdout",
     "output_type": "stream",
     "text": [
      "[1, 2, 3, 4, 9, 10, 11, 18, 19, 20, 21, 22, 23, 24, 25, 26, 27, 28, 30, 32, 17, 12, 13, 14, 15, 16, 8, 41, 42, 43, 29, 33, 34, 35, 36, 37]\n"
     ]
    }
   ],
   "source": [
    "cat_cols = [\n",
    "    \"Genes in mother's side\",\n",
    "    'Inherited from father',\n",
    "    'Maternal gene',\n",
    "    'Paternal gene',\n",
    "    'Status',\n",
    "    'Respiratory Rate (breaths/min)',\n",
    "    'Heart Rate (rates/min',\n",
    "    'Follow-up',\n",
    "    'Gender',\n",
    "    'Birth asphyxia',\n",
    "    'Autopsy shows birth defect (if applicable)',\n",
    "    'Place of birth',\n",
    "    'Folic acid details (peri-conceptional)',\n",
    "    'H/O serious maternal illness',\n",
    "    'H/O radiation exposure (x-ray)',\n",
    "    'H/O substance abuse',\n",
    "    'Assisted conception IVF/ART',\n",
    "    'History of anomalies in previous pregnancies',\n",
    "    'Birth defects',\n",
    "    'Blood test result',\n",
    "    'Parental consent',\n",
    "    'Test 1','Test 2','Test 3','Test 4','Test 5',\n",
    "    'Institute Name',\n",
    "    'Institute Addr',\n",
    "    'Institute State',\n",
    "    'Institute Zipcode',\n",
    "    \"No. of previous abortion\",\n",
    "    'Symptom 1','Symptom 2','Symptom 3','Symptom 4','Symptom 5'\n",
    "]\n",
    "\n",
    "train_df[cat_cols] = train_df[cat_cols].astype(int)\n",
    "test_df[cat_cols] = test_df[cat_cols].astype(int)\n",
    "cat_cols_indices = [train_df.columns.get_loc(col) for col in cat_cols]\n",
    "print(cat_cols_indices)"
   ]
  },
  {
   "cell_type": "code",
   "execution_count": 4,
   "id": "b23734e5",
   "metadata": {
    "execution": {
     "iopub.execute_input": "2021-07-21T14:57:27.238982Z",
     "iopub.status.busy": "2021-07-21T14:57:27.238319Z",
     "iopub.status.idle": "2021-07-21T14:57:27.252615Z",
     "shell.execute_reply": "2021-07-21T14:57:27.251852Z",
     "shell.execute_reply.started": "2021-07-19T14:17:05.830715Z"
    },
    "papermill": {
     "duration": 0.040212,
     "end_time": "2021-07-21T14:57:27.252771",
     "exception": false,
     "start_time": "2021-07-21T14:57:27.212559",
     "status": "completed"
    },
    "tags": []
   },
   "outputs": [
    {
     "data": {
      "text/plain": [
       "{0: 0.15502555366269166,\n",
       " 1: 0.019431988041853514,\n",
       " 2: 0.022916142029715435,\n",
       " 3: 0.6842105263157895,\n",
       " 4: 1.0,\n",
       " 5: 0.05505142165759225,\n",
       " 6: 0.02893481717011128,\n",
       " 7: 0.07410423452768729,\n",
       " 8: 0.03560250391236306}"
      ]
     },
     "execution_count": 4,
     "metadata": {},
     "output_type": "execute_result"
    }
   ],
   "source": [
    "temp_df = train_df.groupby(['target']).size().reset_index().rename(columns={0:'count'})\n",
    "total_count = np.sum(temp_df['count'].values)\n",
    "temp_df['class%'] = (temp_df['count'] / total_count) * 100\n",
    "lowest_pct = min(temp_df['class%'])\n",
    "temp_df['class_weight'] = lowest_pct / temp_df['class%']\n",
    "class_weight = temp_df[['target', 'class_weight']].to_dict()['class_weight']\n",
    "class_weight"
   ]
  },
  {
   "cell_type": "code",
   "execution_count": 5,
   "id": "0d0eb33b",
   "metadata": {
    "execution": {
     "iopub.execute_input": "2021-07-21T14:57:27.297344Z",
     "iopub.status.busy": "2021-07-21T14:57:27.295921Z",
     "iopub.status.idle": "2021-07-21T14:57:27.573601Z",
     "shell.execute_reply": "2021-07-21T14:57:27.573051Z",
     "shell.execute_reply.started": "2021-07-19T14:17:05.853347Z"
    },
    "executionInfo": {
     "elapsed": 2058,
     "status": "ok",
     "timestamp": 1616326525321,
     "user": {
      "displayName": "TAPAS DAS",
      "photoUrl": "https://lh3.googleusercontent.com/a-/AOh14GiyffdGKiPCR_UwVittzTcbBFms70IkGfU15fatCA=s64",
      "userId": "10798398878324948542"
     },
     "user_tz": -330
    },
    "id": "UAfyHbeASU7C",
    "outputId": "14c429a7-7b43-4065-afae-da7d4f6679a9",
    "papermill": {
     "duration": 0.303325,
     "end_time": "2021-07-21T14:57:27.573754",
     "exception": false,
     "start_time": "2021-07-21T14:57:27.270429",
     "status": "completed"
    },
    "tags": []
   },
   "outputs": [
    {
     "name": "stdout",
     "output_type": "stream",
     "text": [
      "Xtrain: (18047, 991) \n",
      "Ytrain: (18047,) \n",
      "Xtest: (9465, 991)\n"
     ]
    },
    {
     "data": {
      "text/plain": [
       "20"
      ]
     },
     "execution_count": 5,
     "metadata": {},
     "output_type": "execute_result"
    }
   ],
   "source": [
    "Xtrain = train_df.loc[:, ~train_df.columns.isin(['target'])].copy()\n",
    "Ytrain = train_df['target'].copy()\n",
    "Xtest = test_df.copy()\n",
    "\n",
    "print(f\"Xtrain: {Xtrain.shape} \\nYtrain: {Ytrain.shape} \\nXtest: {Xtest.shape}\")\n",
    "\n",
    "del train_df\n",
    "del test_df\n",
    "gc.collect()"
   ]
  },
  {
   "cell_type": "markdown",
   "id": "99679a95",
   "metadata": {
    "id": "9wNC5rWEVnjd",
    "papermill": {
     "duration": 0.017721,
     "end_time": "2021-07-21T14:57:27.609448",
     "exception": false,
     "start_time": "2021-07-21T14:57:27.591727",
     "status": "completed"
    },
    "tags": []
   },
   "source": [
    "## Build and validate the model"
   ]
  },
  {
   "cell_type": "code",
   "execution_count": 6,
   "id": "ea04fe08",
   "metadata": {
    "execution": {
     "iopub.execute_input": "2021-07-21T14:57:27.662169Z",
     "iopub.status.busy": "2021-07-21T14:57:27.660599Z",
     "iopub.status.idle": "2021-07-21T15:54:05.795490Z",
     "shell.execute_reply": "2021-07-21T15:54:05.796411Z",
     "shell.execute_reply.started": "2021-07-19T14:19:46.638491Z"
    },
    "id": "uWPosEORSVBp",
    "outputId": "d70ac047-a86b-4f36-84cc-960b1b5316be",
    "papermill": {
     "duration": 3398.168289,
     "end_time": "2021-07-21T15:54:05.796614",
     "exception": false,
     "start_time": "2021-07-21T14:57:27.628325",
     "status": "completed"
    },
    "tags": []
   },
   "outputs": [
    {
     "name": "stdout",
     "output_type": "stream",
     "text": [
      "Training until validation scores don't improve for 200 rounds\n",
      "[200]\ttraining's multi_logloss: 0.746196\tvalid_1's multi_logloss: 1.52364\n",
      "[400]\ttraining's multi_logloss: 0.450655\tvalid_1's multi_logloss: 1.4288\n",
      "[600]\ttraining's multi_logloss: 0.300487\tvalid_1's multi_logloss: 1.40694\n",
      "[800]\ttraining's multi_logloss: 0.209663\tvalid_1's multi_logloss: 1.41365\n",
      "Early stopping, best iteration is:\n",
      "[617]\ttraining's multi_logloss: 0.290205\tvalid_1's multi_logloss: 1.40637\n",
      "Seed-2020 | Fold-0 | OOF Score: 30.089790520682534\n",
      "Training until validation scores don't improve for 200 rounds\n",
      "[200]\ttraining's multi_logloss: 0.757003\tvalid_1's multi_logloss: 1.53494\n",
      "[400]\ttraining's multi_logloss: 0.449748\tvalid_1's multi_logloss: 1.44916\n",
      "[600]\ttraining's multi_logloss: 0.300413\tvalid_1's multi_logloss: 1.43599\n",
      "[800]\ttraining's multi_logloss: 0.211148\tvalid_1's multi_logloss: 1.4426\n",
      "Early stopping, best iteration is:\n",
      "[669]\ttraining's multi_logloss: 0.263421\tvalid_1's multi_logloss: 1.4348\n",
      "Seed-2020 | Fold-1 | OOF Score: 30.43079619370585\n",
      "Training until validation scores don't improve for 200 rounds\n",
      "[200]\ttraining's multi_logloss: 0.749053\tvalid_1's multi_logloss: 1.52933\n",
      "[400]\ttraining's multi_logloss: 0.455645\tvalid_1's multi_logloss: 1.44172\n",
      "[600]\ttraining's multi_logloss: 0.306268\tvalid_1's multi_logloss: 1.42502\n",
      "Early stopping, best iteration is:\n",
      "[575]\ttraining's multi_logloss: 0.321667\tvalid_1's multi_logloss: 1.42442\n",
      "Seed-2020 | Fold-2 | OOF Score: 30.35866646357468\n",
      "Training until validation scores don't improve for 200 rounds\n",
      "[200]\ttraining's multi_logloss: 0.747623\tvalid_1's multi_logloss: 1.50816\n",
      "[400]\ttraining's multi_logloss: 0.447852\tvalid_1's multi_logloss: 1.41545\n",
      "[600]\ttraining's multi_logloss: 0.301775\tvalid_1's multi_logloss: 1.39434\n",
      "[800]\ttraining's multi_logloss: 0.211882\tvalid_1's multi_logloss: 1.39882\n",
      "Early stopping, best iteration is:\n",
      "[652]\ttraining's multi_logloss: 0.273787\tvalid_1's multi_logloss: 1.39241\n",
      "Seed-2020 | Fold-3 | OOF Score: 31.968455072980166\n",
      "Training until validation scores don't improve for 200 rounds\n",
      "[200]\ttraining's multi_logloss: 0.756979\tvalid_1's multi_logloss: 1.52677\n",
      "[400]\ttraining's multi_logloss: 0.45504\tvalid_1's multi_logloss: 1.43396\n",
      "[600]\ttraining's multi_logloss: 0.305141\tvalid_1's multi_logloss: 1.41055\n",
      "[800]\ttraining's multi_logloss: 0.213474\tvalid_1's multi_logloss: 1.41702\n",
      "Early stopping, best iteration is:\n",
      "[625]\ttraining's multi_logloss: 0.291539\tvalid_1's multi_logloss: 1.40942\n",
      "Seed-2020 | Fold-4 | OOF Score: 29.934239737642333\n",
      "Training until validation scores don't improve for 200 rounds\n",
      "[200]\ttraining's multi_logloss: 0.755432\tvalid_1's multi_logloss: 1.51496\n",
      "[400]\ttraining's multi_logloss: 0.460325\tvalid_1's multi_logloss: 1.43248\n",
      "[600]\ttraining's multi_logloss: 0.309089\tvalid_1's multi_logloss: 1.41215\n",
      "[800]\ttraining's multi_logloss: 0.218481\tvalid_1's multi_logloss: 1.41836\n",
      "Early stopping, best iteration is:\n",
      "[609]\ttraining's multi_logloss: 0.303724\tvalid_1's multi_logloss: 1.41091\n",
      "Seed-2020 | Fold-5 | OOF Score: 30.262000453883807\n",
      "Training until validation scores don't improve for 200 rounds\n",
      "[200]\ttraining's multi_logloss: 0.756266\tvalid_1's multi_logloss: 1.54669\n",
      "[400]\ttraining's multi_logloss: 0.453191\tvalid_1's multi_logloss: 1.46711\n",
      "[600]\ttraining's multi_logloss: 0.305872\tvalid_1's multi_logloss: 1.44995\n",
      "[800]\ttraining's multi_logloss: 0.216263\tvalid_1's multi_logloss: 1.45802\n",
      "Early stopping, best iteration is:\n",
      "[640]\ttraining's multi_logloss: 0.284589\tvalid_1's multi_logloss: 1.44787\n",
      "Seed-2020 | Fold-6 | OOF Score: 27.110140750243144\n",
      "Training until validation scores don't improve for 200 rounds\n",
      "[200]\ttraining's multi_logloss: 0.757215\tvalid_1's multi_logloss: 1.53977\n",
      "[400]\ttraining's multi_logloss: 0.451255\tvalid_1's multi_logloss: 1.45531\n",
      "[600]\ttraining's multi_logloss: 0.3\tvalid_1's multi_logloss: 1.44336\n",
      "Early stopping, best iteration is:\n",
      "[588]\ttraining's multi_logloss: 0.306127\tvalid_1's multi_logloss: 1.44267\n",
      "Seed-2020 | Fold-7 | OOF Score: 29.375300531639393\n",
      "Training until validation scores don't improve for 200 rounds\n",
      "[200]\ttraining's multi_logloss: 0.745287\tvalid_1's multi_logloss: 1.52496\n",
      "[400]\ttraining's multi_logloss: 0.45225\tvalid_1's multi_logloss: 1.43689\n",
      "[600]\ttraining's multi_logloss: 0.302834\tvalid_1's multi_logloss: 1.4203\n",
      "[800]\ttraining's multi_logloss: 0.213612\tvalid_1's multi_logloss: 1.42716\n",
      "Early stopping, best iteration is:\n",
      "[624]\ttraining's multi_logloss: 0.289311\tvalid_1's multi_logloss: 1.41906\n",
      "Seed-2020 | Fold-8 | OOF Score: 30.129572450193255\n",
      "Training until validation scores don't improve for 200 rounds\n",
      "[200]\ttraining's multi_logloss: 0.753998\tvalid_1's multi_logloss: 1.51935\n",
      "[400]\ttraining's multi_logloss: 0.451057\tvalid_1's multi_logloss: 1.42668\n",
      "[600]\ttraining's multi_logloss: 0.303974\tvalid_1's multi_logloss: 1.40671\n",
      "[800]\ttraining's multi_logloss: 0.212299\tvalid_1's multi_logloss: 1.41091\n",
      "Early stopping, best iteration is:\n",
      "[661]\ttraining's multi_logloss: 0.271514\tvalid_1's multi_logloss: 1.40657\n",
      "Seed-2020 | Fold-9 | OOF Score: 33.40329773448343\n",
      "\n",
      "Seed: 2020 | Aggregate OOF Score: 30.306225990902863\n",
      "\n",
      "\n",
      "Training until validation scores don't improve for 200 rounds\n",
      "[200]\ttraining's multi_logloss: 0.754003\tvalid_1's multi_logloss: 1.52035\n",
      "[400]\ttraining's multi_logloss: 0.451648\tvalid_1's multi_logloss: 1.42416\n",
      "[600]\ttraining's multi_logloss: 0.303205\tvalid_1's multi_logloss: 1.40678\n",
      "[800]\ttraining's multi_logloss: 0.213684\tvalid_1's multi_logloss: 1.41349\n",
      "Early stopping, best iteration is:\n",
      "[653]\ttraining's multi_logloss: 0.276552\tvalid_1's multi_logloss: 1.40538\n",
      "Seed-2022 | Fold-0 | OOF Score: 33.121101350323116\n",
      "Training until validation scores don't improve for 200 rounds\n",
      "[200]\ttraining's multi_logloss: 0.751172\tvalid_1's multi_logloss: 1.54556\n",
      "[400]\ttraining's multi_logloss: 0.452884\tvalid_1's multi_logloss: 1.45625\n",
      "[600]\ttraining's multi_logloss: 0.307037\tvalid_1's multi_logloss: 1.43785\n",
      "[800]\ttraining's multi_logloss: 0.212405\tvalid_1's multi_logloss: 1.44578\n",
      "Early stopping, best iteration is:\n",
      "[670]\ttraining's multi_logloss: 0.268021\tvalid_1's multi_logloss: 1.43703\n",
      "Seed-2022 | Fold-1 | OOF Score: 31.715717732315873\n",
      "Training until validation scores don't improve for 200 rounds\n",
      "[200]\ttraining's multi_logloss: 0.746518\tvalid_1's multi_logloss: 1.53083\n",
      "[400]\ttraining's multi_logloss: 0.447435\tvalid_1's multi_logloss: 1.45425\n",
      "[600]\ttraining's multi_logloss: 0.30167\tvalid_1's multi_logloss: 1.4365\n",
      "Early stopping, best iteration is:\n",
      "[580]\ttraining's multi_logloss: 0.31349\tvalid_1's multi_logloss: 1.43522\n",
      "Seed-2022 | Fold-2 | OOF Score: 26.384286777893152\n",
      "Training until validation scores don't improve for 200 rounds\n",
      "[200]\ttraining's multi_logloss: 0.760535\tvalid_1's multi_logloss: 1.52417\n",
      "[400]\ttraining's multi_logloss: 0.449506\tvalid_1's multi_logloss: 1.43231\n",
      "[600]\ttraining's multi_logloss: 0.300679\tvalid_1's multi_logloss: 1.41398\n",
      "[800]\ttraining's multi_logloss: 0.212288\tvalid_1's multi_logloss: 1.41772\n",
      "Early stopping, best iteration is:\n",
      "[631]\ttraining's multi_logloss: 0.282702\tvalid_1's multi_logloss: 1.41306\n",
      "Seed-2022 | Fold-3 | OOF Score: 31.364996350496092\n",
      "Training until validation scores don't improve for 200 rounds\n",
      "[200]\ttraining's multi_logloss: 0.749395\tvalid_1's multi_logloss: 1.5237\n",
      "[400]\ttraining's multi_logloss: 0.455169\tvalid_1's multi_logloss: 1.437\n",
      "[600]\ttraining's multi_logloss: 0.302835\tvalid_1's multi_logloss: 1.4183\n",
      "[800]\ttraining's multi_logloss: 0.209341\tvalid_1's multi_logloss: 1.42203\n",
      "Early stopping, best iteration is:\n",
      "[650]\ttraining's multi_logloss: 0.275738\tvalid_1's multi_logloss: 1.41784\n",
      "Seed-2022 | Fold-4 | OOF Score: 28.88593620663647\n",
      "Training until validation scores don't improve for 200 rounds\n",
      "[200]\ttraining's multi_logloss: 0.761758\tvalid_1's multi_logloss: 1.52178\n",
      "[400]\ttraining's multi_logloss: 0.453889\tvalid_1's multi_logloss: 1.43226\n",
      "[600]\ttraining's multi_logloss: 0.307496\tvalid_1's multi_logloss: 1.4148\n",
      "[800]\ttraining's multi_logloss: 0.21787\tvalid_1's multi_logloss: 1.42185\n",
      "Early stopping, best iteration is:\n",
      "[674]\ttraining's multi_logloss: 0.269649\tvalid_1's multi_logloss: 1.41429\n",
      "Seed-2022 | Fold-5 | OOF Score: 32.026047665029964\n",
      "Training until validation scores don't improve for 200 rounds\n",
      "[200]\ttraining's multi_logloss: 0.747794\tvalid_1's multi_logloss: 1.53565\n",
      "[400]\ttraining's multi_logloss: 0.447751\tvalid_1's multi_logloss: 1.45063\n",
      "[600]\ttraining's multi_logloss: 0.298158\tvalid_1's multi_logloss: 1.43611\n",
      "Early stopping, best iteration is:\n",
      "[578]\ttraining's multi_logloss: 0.311657\tvalid_1's multi_logloss: 1.43433\n",
      "Seed-2022 | Fold-6 | OOF Score: 26.935172698241853\n",
      "Training until validation scores don't improve for 200 rounds\n",
      "[200]\ttraining's multi_logloss: 0.757852\tvalid_1's multi_logloss: 1.53121\n",
      "[400]\ttraining's multi_logloss: 0.451196\tvalid_1's multi_logloss: 1.45026\n",
      "[600]\ttraining's multi_logloss: 0.298343\tvalid_1's multi_logloss: 1.4344\n",
      "[800]\ttraining's multi_logloss: 0.208271\tvalid_1's multi_logloss: 1.43938\n",
      "Early stopping, best iteration is:\n",
      "[610]\ttraining's multi_logloss: 0.292947\tvalid_1's multi_logloss: 1.43403\n",
      "Seed-2022 | Fold-7 | OOF Score: 28.999556409091525\n",
      "Training until validation scores don't improve for 200 rounds\n",
      "[200]\ttraining's multi_logloss: 0.751093\tvalid_1's multi_logloss: 1.52683\n",
      "[400]\ttraining's multi_logloss: 0.453667\tvalid_1's multi_logloss: 1.4359\n",
      "[600]\ttraining's multi_logloss: 0.307167\tvalid_1's multi_logloss: 1.41618\n",
      "[800]\ttraining's multi_logloss: 0.215687\tvalid_1's multi_logloss: 1.41877\n",
      "Early stopping, best iteration is:\n",
      "[660]\ttraining's multi_logloss: 0.274123\tvalid_1's multi_logloss: 1.41371\n",
      "Seed-2022 | Fold-8 | OOF Score: 30.039725523102433\n",
      "Training until validation scores don't improve for 200 rounds\n",
      "[200]\ttraining's multi_logloss: 0.743395\tvalid_1's multi_logloss: 1.52808\n",
      "[400]\ttraining's multi_logloss: 0.447584\tvalid_1's multi_logloss: 1.44631\n",
      "[600]\ttraining's multi_logloss: 0.29879\tvalid_1's multi_logloss: 1.42883\n",
      "[800]\ttraining's multi_logloss: 0.210452\tvalid_1's multi_logloss: 1.43587\n",
      "Early stopping, best iteration is:\n",
      "[663]\ttraining's multi_logloss: 0.265747\tvalid_1's multi_logloss: 1.42761\n",
      "Seed-2022 | Fold-9 | OOF Score: 29.926487845288452\n",
      "\n",
      "Seed: 2022 | Aggregate OOF Score: 29.939902855841893\n",
      "\n",
      "\n",
      "Aggregate OOF Score: 30.123064423372377\n"
     ]
    }
   ],
   "source": [
    "FOLD = 10\n",
    "SEEDS = [2020, 2022]\n",
    "\n",
    "fet_imp = 0\n",
    "counter = 0\n",
    "oof_score = 0\n",
    "y_pred_meta_lgb = np.zeros((Xtrain.shape[0], 9))\n",
    "y_pred_final_lgb = 0\n",
    "\n",
    "\n",
    "for sidx, seed in enumerate(SEEDS):\n",
    "    seed_score = 0\n",
    "    \n",
    "    kfold = StratifiedKFold(n_splits=FOLD, shuffle=True, random_state=seed)\n",
    "\n",
    "    for idx, (train, val) in enumerate(kfold.split(Xtrain.values, Ytrain)):\n",
    "        counter += 1\n",
    "        \n",
    "        train_x, train_y = Xtrain.iloc[train], Ytrain.iloc[train]\n",
    "        val_x, val_y = Xtrain.iloc[val], Ytrain.iloc[val]\n",
    "        \n",
    "        model = LGBMClassifier(\n",
    "            boosting_type='gbdt', \n",
    "            num_leaves=175, \n",
    "            max_depth=8, \n",
    "            learning_rate=0.012, \n",
    "            n_estimators=5000,\n",
    "            objective='multiclass', \n",
    "            class_weight=class_weight,\n",
    "            min_child_samples=1, \n",
    "            subsample=0.75, \n",
    "            subsample_freq=10, \n",
    "            colsample_bytree=0.725, \n",
    "            reg_lambda=0.00489,\n",
    "            random_state=(seed+idx)\n",
    "        )\n",
    "        \n",
    "        model.fit(train_x, train_y, eval_metric='multi_logloss',\n",
    "                  eval_set=[(train_x, train_y),(val_x, val_y)],\n",
    "                  early_stopping_rounds=200, verbose=200,\n",
    "                  categorical_feature=cat_cols_indices)\n",
    "\n",
    "        y_pred = model.predict_proba(val_x, num_iteration=model.best_iteration_)\n",
    "        y_pred_meta_lgb[val] += y_pred\n",
    "        y_pred_final_lgb += model.predict_proba(Xtest, num_iteration=model.best_iteration_)\n",
    "        \n",
    "        y_pred = np.array([np.argmax(y_pred, axis=1)]).T\n",
    "        score = 100 * f1_score(val_y, y_pred, average='macro')\n",
    "        oof_score += score\n",
    "        seed_score += score\n",
    "        fet_imp += model.feature_importances_\n",
    "        print(\"Seed-{} | Fold-{} | OOF Score: {}\".format(seed, idx, score))\n",
    "    \n",
    "    print(\"\\nSeed: {} | Aggregate OOF Score: {}\\n\\n\".format(seed, (seed_score / FOLD)))\n",
    "\n",
    "\n",
    "y_pred_meta_lgb = y_pred_meta_lgb / float(len(SEEDS))\n",
    "y_pred_final_lgb = y_pred_final_lgb / float(counter)\n",
    "fet_imp = fet_imp / float(counter)\n",
    "oof_score /= float(counter)\n",
    "print(\"Aggregate OOF Score: {}\".format(oof_score))"
   ]
  },
  {
   "cell_type": "code",
   "execution_count": 7,
   "id": "fcc1835c",
   "metadata": {
    "execution": {
     "iopub.execute_input": "2021-07-21T15:54:05.918541Z",
     "iopub.status.busy": "2021-07-21T15:54:05.917870Z",
     "iopub.status.idle": "2021-07-21T15:54:06.029684Z",
     "shell.execute_reply": "2021-07-21T15:54:06.030159Z",
     "shell.execute_reply.started": "2021-07-06T13:11:33.570716Z"
    },
    "id": "uLzmS7LzXvXy",
    "papermill": {
     "duration": 0.174948,
     "end_time": "2021-07-21T15:54:06.030354",
     "exception": false,
     "start_time": "2021-07-21T15:54:05.855406",
     "status": "completed"
    },
    "tags": []
   },
   "outputs": [],
   "source": [
    "np.savez_compressed('./LGB_Meta_Features.npz',\n",
    "                    y_pred_meta_lgb=y_pred_meta_lgb,\n",
    "                    oof_score=oof_score,\n",
    "                    y_pred_final_lgb=y_pred_final_lgb)"
   ]
  },
  {
   "cell_type": "markdown",
   "id": "4595cc2a",
   "metadata": {
    "papermill": {
     "duration": 0.058431,
     "end_time": "2021-07-21T15:54:06.146547",
     "exception": false,
     "start_time": "2021-07-21T15:54:06.088116",
     "status": "completed"
    },
    "tags": []
   },
   "source": [
    "## Create submission file"
   ]
  },
  {
   "cell_type": "code",
   "execution_count": 8,
   "id": "b810b1a5",
   "metadata": {
    "execution": {
     "iopub.execute_input": "2021-07-21T15:54:06.269817Z",
     "iopub.status.busy": "2021-07-21T15:54:06.269133Z",
     "iopub.status.idle": "2021-07-21T15:54:06.440795Z",
     "shell.execute_reply": "2021-07-21T15:54:06.440144Z",
     "shell.execute_reply.started": "2021-07-19T07:10:01.482866Z"
    },
    "papermill": {
     "duration": 0.236612,
     "end_time": "2021-07-21T15:54:06.440935",
     "exception": false,
     "start_time": "2021-07-21T15:54:06.204323",
     "status": "completed"
    },
    "tags": []
   },
   "outputs": [
    {
     "data": {
      "text/html": [
       "<div>\n",
       "<style scoped>\n",
       "    .dataframe tbody tr th:only-of-type {\n",
       "        vertical-align: middle;\n",
       "    }\n",
       "\n",
       "    .dataframe tbody tr th {\n",
       "        vertical-align: top;\n",
       "    }\n",
       "\n",
       "    .dataframe thead th {\n",
       "        text-align: right;\n",
       "    }\n",
       "</style>\n",
       "<table border=\"1\" class=\"dataframe\">\n",
       "  <thead>\n",
       "    <tr style=\"text-align: right;\">\n",
       "      <th></th>\n",
       "      <th>target</th>\n",
       "      <th>Count</th>\n",
       "    </tr>\n",
       "  </thead>\n",
       "  <tbody>\n",
       "    <tr>\n",
       "      <th>0</th>\n",
       "      <td>Mitochondrial genetic inheritance disorders//L...</td>\n",
       "      <td>292</td>\n",
       "    </tr>\n",
       "    <tr>\n",
       "      <th>1</th>\n",
       "      <td>Mitochondrial genetic inheritance disorders//L...</td>\n",
       "      <td>2678</td>\n",
       "    </tr>\n",
       "    <tr>\n",
       "      <th>2</th>\n",
       "      <td>Mitochondrial genetic inheritance disorders//M...</td>\n",
       "      <td>1748</td>\n",
       "    </tr>\n",
       "    <tr>\n",
       "      <th>3</th>\n",
       "      <td>Multifactorial genetic inheritance disorders//...</td>\n",
       "      <td>24</td>\n",
       "    </tr>\n",
       "    <tr>\n",
       "      <th>4</th>\n",
       "      <td>Multifactorial genetic inheritance disorders//...</td>\n",
       "      <td>2</td>\n",
       "    </tr>\n",
       "    <tr>\n",
       "      <th>5</th>\n",
       "      <td>Multifactorial genetic inheritance disorders//...</td>\n",
       "      <td>1027</td>\n",
       "    </tr>\n",
       "    <tr>\n",
       "      <th>6</th>\n",
       "      <td>Single-gene inheritance diseases//Cystic fibrosis</td>\n",
       "      <td>2503</td>\n",
       "    </tr>\n",
       "    <tr>\n",
       "      <th>7</th>\n",
       "      <td>Single-gene inheritance diseases//Hemochromatosis</td>\n",
       "      <td>260</td>\n",
       "    </tr>\n",
       "    <tr>\n",
       "      <th>8</th>\n",
       "      <td>Single-gene inheritance diseases//Tay-Sachs</td>\n",
       "      <td>931</td>\n",
       "    </tr>\n",
       "  </tbody>\n",
       "</table>\n",
       "</div>"
      ],
      "text/plain": [
       "                                              target  Count\n",
       "0  Mitochondrial genetic inheritance disorders//L...    292\n",
       "1  Mitochondrial genetic inheritance disorders//L...   2678\n",
       "2  Mitochondrial genetic inheritance disorders//M...   1748\n",
       "3  Multifactorial genetic inheritance disorders//...     24\n",
       "4  Multifactorial genetic inheritance disorders//...      2\n",
       "5  Multifactorial genetic inheritance disorders//...   1027\n",
       "6  Single-gene inheritance diseases//Cystic fibrosis   2503\n",
       "7  Single-gene inheritance diseases//Hemochromatosis    260\n",
       "8        Single-gene inheritance diseases//Tay-Sachs    931"
      ]
     },
     "execution_count": 8,
     "metadata": {},
     "output_type": "execute_result"
    }
   ],
   "source": [
    "test_df = pd.read_csv(\"../input/predict-generic-disorder/dataset/test.csv\")\n",
    "submit_df = pd.DataFrame()\n",
    "submit_df['Patient Id'] = test_df['Patient Id']\n",
    "submit_df['target'] = np.array([np.argmax(y_pred_final_lgb, axis=1)]).T\n",
    "\n",
    "submit_df['target'] = submit_df['target'].map({\n",
    "    0: \"Mitochondrial genetic inheritance disorders//Leber's hereditary optic neuropathy\",\n",
    "    1: 'Mitochondrial genetic inheritance disorders//Leigh syndrome',\n",
    "    2: 'Mitochondrial genetic inheritance disorders//Mitochondrial myopathy',\n",
    "    3: \"Multifactorial genetic inheritance disorders//Alzheimer's\",\n",
    "    4: 'Multifactorial genetic inheritance disorders//Cancer',\n",
    "    5: 'Multifactorial genetic inheritance disorders//Diabetes',\n",
    "    6: 'Single-gene inheritance diseases//Cystic fibrosis',\n",
    "    7: 'Single-gene inheritance diseases//Hemochromatosis',\n",
    "    8: 'Single-gene inheritance diseases//Tay-Sachs'\n",
    "})\n",
    "\n",
    "submit_df.groupby(['target']).size().reset_index().rename(columns={0:'Count'})"
   ]
  },
  {
   "cell_type": "code",
   "execution_count": 9,
   "id": "b461ad23",
   "metadata": {
    "execution": {
     "iopub.execute_input": "2021-07-21T15:54:06.577495Z",
     "iopub.status.busy": "2021-07-21T15:54:06.576143Z",
     "iopub.status.idle": "2021-07-21T15:54:06.590413Z",
     "shell.execute_reply": "2021-07-21T15:54:06.589884Z",
     "shell.execute_reply.started": "2021-07-19T07:10:03.579902Z"
    },
    "papermill": {
     "duration": 0.090836,
     "end_time": "2021-07-21T15:54:06.590559",
     "exception": false,
     "start_time": "2021-07-21T15:54:06.499723",
     "status": "completed"
    },
    "tags": []
   },
   "outputs": [
    {
     "data": {
      "text/html": [
       "<div>\n",
       "<style scoped>\n",
       "    .dataframe tbody tr th:only-of-type {\n",
       "        vertical-align: middle;\n",
       "    }\n",
       "\n",
       "    .dataframe tbody tr th {\n",
       "        vertical-align: top;\n",
       "    }\n",
       "\n",
       "    .dataframe thead th {\n",
       "        text-align: right;\n",
       "    }\n",
       "</style>\n",
       "<table border=\"1\" class=\"dataframe\">\n",
       "  <thead>\n",
       "    <tr style=\"text-align: right;\">\n",
       "      <th></th>\n",
       "      <th>Patient Id</th>\n",
       "      <th>Genetic Disorder</th>\n",
       "      <th>Disorder Subclass</th>\n",
       "    </tr>\n",
       "  </thead>\n",
       "  <tbody>\n",
       "    <tr>\n",
       "      <th>0</th>\n",
       "      <td>PID0x4175</td>\n",
       "      <td>Single-gene inheritance diseases</td>\n",
       "      <td>Cystic fibrosis</td>\n",
       "    </tr>\n",
       "    <tr>\n",
       "      <th>1</th>\n",
       "      <td>PID0x21f5</td>\n",
       "      <td>Single-gene inheritance diseases</td>\n",
       "      <td>Tay-Sachs</td>\n",
       "    </tr>\n",
       "    <tr>\n",
       "      <th>2</th>\n",
       "      <td>PID0x49b8</td>\n",
       "      <td>Single-gene inheritance diseases</td>\n",
       "      <td>Tay-Sachs</td>\n",
       "    </tr>\n",
       "    <tr>\n",
       "      <th>3</th>\n",
       "      <td>PID0x2d97</td>\n",
       "      <td>Mitochondrial genetic inheritance disorders</td>\n",
       "      <td>Leigh syndrome</td>\n",
       "    </tr>\n",
       "    <tr>\n",
       "      <th>4</th>\n",
       "      <td>PID0x58da</td>\n",
       "      <td>Multifactorial genetic inheritance disorders</td>\n",
       "      <td>Diabetes</td>\n",
       "    </tr>\n",
       "  </tbody>\n",
       "</table>\n",
       "</div>"
      ],
      "text/plain": [
       "  Patient Id                              Genetic Disorder Disorder Subclass\n",
       "0  PID0x4175              Single-gene inheritance diseases   Cystic fibrosis\n",
       "1  PID0x21f5              Single-gene inheritance diseases         Tay-Sachs\n",
       "2  PID0x49b8              Single-gene inheritance diseases         Tay-Sachs\n",
       "3  PID0x2d97   Mitochondrial genetic inheritance disorders    Leigh syndrome\n",
       "4  PID0x58da  Multifactorial genetic inheritance disorders          Diabetes"
      ]
     },
     "execution_count": 9,
     "metadata": {},
     "output_type": "execute_result"
    }
   ],
   "source": [
    "submit_df['Genetic Disorder'] = submit_df['target'].apply(lambda x: x.split('//')[0])\n",
    "submit_df['Disorder Subclass'] = submit_df['target'].apply(lambda x: x.split('//')[1])\n",
    "submit_df.drop(['target'], axis=1, inplace=True)\n",
    "submit_df.head()"
   ]
  },
  {
   "cell_type": "code",
   "execution_count": 10,
   "id": "6718236a",
   "metadata": {
    "execution": {
     "iopub.execute_input": "2021-07-21T15:54:06.718453Z",
     "iopub.status.busy": "2021-07-21T15:54:06.717772Z",
     "iopub.status.idle": "2021-07-21T15:54:06.764380Z",
     "shell.execute_reply": "2021-07-21T15:54:06.764896Z"
    },
    "papermill": {
     "duration": 0.11193,
     "end_time": "2021-07-21T15:54:06.765069",
     "exception": false,
     "start_time": "2021-07-21T15:54:06.653139",
     "status": "completed"
    },
    "tags": []
   },
   "outputs": [],
   "source": [
    "submit_df.to_csv(\"./LGB_Submission.csv\", index=False)"
   ]
  },
  {
   "cell_type": "markdown",
   "id": "0f5216e1",
   "metadata": {
    "papermill": {
     "duration": 0.058555,
     "end_time": "2021-07-21T15:54:06.882564",
     "exception": false,
     "start_time": "2021-07-21T15:54:06.824009",
     "status": "completed"
    },
    "tags": []
   },
   "source": [
    "## Classification Report"
   ]
  },
  {
   "cell_type": "code",
   "execution_count": 11,
   "id": "9ce68950",
   "metadata": {
    "execution": {
     "iopub.execute_input": "2021-07-21T15:54:07.004427Z",
     "iopub.status.busy": "2021-07-21T15:54:07.003724Z",
     "iopub.status.idle": "2021-07-21T15:54:07.011771Z",
     "shell.execute_reply": "2021-07-21T15:54:07.012294Z"
    },
    "papermill": {
     "duration": 0.070401,
     "end_time": "2021-07-21T15:54:07.012473",
     "exception": false,
     "start_time": "2021-07-21T15:54:06.942072",
     "status": "completed"
    },
    "tags": []
   },
   "outputs": [],
   "source": [
    "def plot_confusion_matrix(cm, classes):\n",
    "\n",
    "    plt.imshow(cm, interpolation='nearest', cmap=plt.cm.Paired)\n",
    "    plt.title('Confusion matrix', fontweight='bold')\n",
    "    plt.colorbar()\n",
    "    tick_marks = np.arange(len(classes))\n",
    "    plt.xticks(tick_marks, classes, rotation=0)\n",
    "    plt.yticks(tick_marks, classes)\n",
    "\n",
    "    thresh = cm.max() / 2.\n",
    "    for i, j in itertools.product(range(cm.shape[0]), range(cm.shape[1])):\n",
    "        plt.text(j, i, format(cm[i, j], 'd'),\n",
    "                 horizontalalignment=\"center\",\n",
    "                 color=\"white\" if cm[i, j] > thresh else \"black\")\n",
    "\n",
    "    plt.ylabel('True label')\n",
    "    plt.xlabel('Predicted label')\n",
    "    plt.tight_layout()"
   ]
  },
  {
   "cell_type": "code",
   "execution_count": 12,
   "id": "59553aba",
   "metadata": {
    "execution": {
     "iopub.execute_input": "2021-07-21T15:54:07.136799Z",
     "iopub.status.busy": "2021-07-21T15:54:07.135811Z",
     "iopub.status.idle": "2021-07-21T15:54:07.182918Z",
     "shell.execute_reply": "2021-07-21T15:54:07.183526Z"
    },
    "papermill": {
     "duration": 0.110777,
     "end_time": "2021-07-21T15:54:07.183693",
     "exception": false,
     "start_time": "2021-07-21T15:54:07.072916",
     "status": "completed"
    },
    "tags": []
   },
   "outputs": [
    {
     "name": "stdout",
     "output_type": "stream",
     "text": [
      "              precision    recall  f1-score   support\n",
      "\n",
      "           0       0.22      0.21      0.22       587\n",
      "           1       0.42      0.38      0.40      4683\n",
      "           2       0.36      0.36      0.36      3971\n",
      "           3       0.25      0.13      0.17       133\n",
      "           4       0.39      0.13      0.20        91\n",
      "           5       0.33      0.34      0.33      1653\n",
      "           6       0.41      0.49      0.45      3145\n",
      "           7       0.33      0.31      0.32      1228\n",
      "           8       0.32      0.31      0.31      2556\n",
      "\n",
      "    accuracy                           0.37     18047\n",
      "   macro avg       0.34      0.30      0.31     18047\n",
      "weighted avg       0.37      0.37      0.37     18047\n",
      "\n"
     ]
    }
   ],
   "source": [
    "y_pred = np.array([np.argmax(y_pred_meta_lgb, axis=1)]).T\n",
    "print(classification_report(Ytrain, y_pred))"
   ]
  },
  {
   "cell_type": "code",
   "execution_count": 13,
   "id": "c7eb4d85",
   "metadata": {
    "execution": {
     "iopub.execute_input": "2021-07-21T15:54:07.308936Z",
     "iopub.status.busy": "2021-07-21T15:54:07.308220Z",
     "iopub.status.idle": "2021-07-21T15:54:08.143842Z",
     "shell.execute_reply": "2021-07-21T15:54:08.144418Z"
    },
    "papermill": {
     "duration": 0.901308,
     "end_time": "2021-07-21T15:54:08.144593",
     "exception": false,
     "start_time": "2021-07-21T15:54:07.243285",
     "status": "completed"
    },
    "tags": []
   },
   "outputs": [
    {
     "data": {
      "image/png": "[encoded data removed]",
      "text/plain": [
       "<Figure size 1008x720 with 2 Axes>"
      ]
     },
     "metadata": {
      "needs_background": "light"
     },
     "output_type": "display_data"
    }
   ],
   "source": [
    "cnf_matrix = confusion_matrix(Ytrain, y_pred, labels=list(range(9)))\n",
    "np.set_printoptions(precision=2)\n",
    "plt.figure(figsize=(14,10))\n",
    "plot_confusion_matrix(cnf_matrix, classes=list(range(9)))"
   ]
  },
  {
   "cell_type": "markdown",
   "id": "4dbeaef6",
   "metadata": {
    "papermill": {
     "duration": 0.061233,
     "end_time": "2021-07-21T15:54:08.268129",
     "exception": false,
     "start_time": "2021-07-21T15:54:08.206896",
     "status": "completed"
    },
    "tags": []
   },
   "source": [
    "## Features Importance"
   ]
  },
  {
   "cell_type": "code",
   "execution_count": 14,
   "id": "3909cda7",
   "metadata": {
    "execution": {
     "iopub.execute_input": "2021-07-21T15:54:08.406460Z",
     "iopub.status.busy": "2021-07-21T15:54:08.399739Z",
     "iopub.status.idle": "2021-07-21T15:54:09.942647Z",
     "shell.execute_reply": "2021-07-21T15:54:09.943104Z",
     "shell.execute_reply.started": "2021-07-18T10:32:06.328483Z"
    },
    "papermill": {
     "duration": 1.613742,
     "end_time": "2021-07-21T15:54:09.943290",
     "exception": false,
     "start_time": "2021-07-21T15:54:08.329548",
     "status": "completed"
    },
    "tags": []
   },
   "outputs": [
    {
     "data": {
      "image/png": "[encoded data removed]",
      "text/plain": [
       "<Figure size 1440x1440 with 1 Axes>"
      ]
     },
     "metadata": {
      "needs_background": "light"
     },
     "output_type": "display_data"
    }
   ],
   "source": [
    "feature_imp = pd.DataFrame(sorted(zip(fet_imp[0:60], Xtrain.columns[0:60])), columns=['Value','Feature'])\n",
    "\n",
    "plt.figure(figsize=(20, 20))\n",
    "sns.barplot(x=\"Value\", y=\"Feature\", data=feature_imp.sort_values(by=\"Value\", ascending=False))\n",
    "plt.title('LightGBM Features Importance', fontweight='bold')\n",
    "plt.tight_layout()\n",
    "plt.show()"
   ]
  },
  {
   "cell_type": "code",
   "execution_count": null,
   "id": "10a82391",
   "metadata": {
    "papermill": {
     "duration": 0.065033,
     "end_time": "2021-07-21T15:54:10.072972",
     "exception": false,
     "start_time": "2021-07-21T15:54:10.007939",
     "status": "completed"
    },
    "tags": []
   },
   "outputs": [],
   "source": []
  }
 ],
 "metadata": {
  "kernelspec": {
   "display_name": "Python 3",
   "language": "python",
   "name": "python3"
  },
  "language_info": {
   "codemirror_mode": {
    "name": "ipython",
    "version": 3
   },
   "file_extension": ".py",
   "mimetype": "text/x-python",
   "name": "python",
   "nbconvert_exporter": "python",
   "pygments_lexer": "ipython3",
   "version": "3.7.10"
  },
  "papermill": {
   "default_parameters": {},
   "duration": 3421.872679,
   "end_time": "2021-07-21T15:54:11.654758",
   "environment_variables": {},
   "exception": null,
   "input_path": "__notebook__.ipynb",
   "output_path": "__notebook__.ipynb",
   "parameters": {},
   "start_time": "2021-07-21T14:57:09.782079",
   "version": "2.3.3"
  }
 },
 "nbformat": 4,
 "nbformat_minor": 5
}
