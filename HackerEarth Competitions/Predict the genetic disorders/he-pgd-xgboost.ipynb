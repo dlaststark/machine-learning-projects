{
 "cells": [
  {
   "cell_type": "markdown",
   "id": "b78cd1da",
   "metadata": {
    "id": "uLz9OcH8SeET",
    "papermill": {
     "duration": 0.016842,
     "end_time": "2021-07-21T15:13:31.683532",
     "exception": false,
     "start_time": "2021-07-21T15:13:31.666690",
     "status": "completed"
    },
    "tags": []
   },
   "source": [
    "## Import libraries"
   ]
  },
  {
   "cell_type": "code",
   "execution_count": 1,
   "id": "d7f5618e",
   "metadata": {
    "execution": {
     "iopub.execute_input": "2021-07-21T15:13:31.722597Z",
     "iopub.status.busy": "2021-07-21T15:13:31.720496Z",
     "iopub.status.idle": "2021-07-21T15:13:33.460836Z",
     "shell.execute_reply": "2021-07-21T15:13:33.460155Z",
     "shell.execute_reply.started": "2021-07-21T15:10:08.718626Z"
    },
    "executionInfo": {
     "elapsed": 23727,
     "status": "ok",
     "timestamp": 1616326442041,
     "user": {
      "displayName": "TAPAS DAS",
      "photoUrl": "https://lh3.googleusercontent.com/a-/AOh14GiyffdGKiPCR_UwVittzTcbBFms70IkGfU15fatCA=s64",
      "userId": "10798398878324948542"
     },
     "user_tz": -330
    },
    "id": "E9svswc9SUuX",
    "papermill": {
     "duration": 1.761781,
     "end_time": "2021-07-21T15:13:33.461088",
     "exception": false,
     "start_time": "2021-07-21T15:13:31.699307",
     "status": "completed"
    },
    "tags": []
   },
   "outputs": [],
   "source": [
    "import warnings\n",
    "warnings.filterwarnings(\"ignore\")\n",
    "\n",
    "import gc\n",
    "import pickle\n",
    "import itertools\n",
    "import numpy as np\n",
    "import pandas as pd\n",
    "from tqdm import tqdm\n",
    "import seaborn as sns\n",
    "import matplotlib.pyplot as plt\n",
    "from xgboost import XGBClassifier\n",
    "from sklearn.metrics import f1_score\n",
    "from sklearn.metrics import confusion_matrix\n",
    "from sklearn.metrics import classification_report\n",
    "from sklearn.model_selection import StratifiedKFold"
   ]
  },
  {
   "cell_type": "markdown",
   "id": "98a5ab54",
   "metadata": {
    "id": "hg85SpW-S6hl",
    "papermill": {
     "duration": 0.015557,
     "end_time": "2021-07-21T15:13:33.492878",
     "exception": false,
     "start_time": "2021-07-21T15:13:33.477321",
     "status": "completed"
    },
    "tags": []
   },
   "source": [
    "## Prepare data for model training"
   ]
  },
  {
   "cell_type": "code",
   "execution_count": 2,
   "id": "2b696d32",
   "metadata": {
    "execution": {
     "iopub.execute_input": "2021-07-21T15:13:33.529362Z",
     "iopub.status.busy": "2021-07-21T15:13:33.528494Z",
     "iopub.status.idle": "2021-07-21T15:13:35.071729Z",
     "shell.execute_reply": "2021-07-21T15:13:35.070682Z",
     "shell.execute_reply.started": "2021-07-21T15:10:09.725697Z"
    },
    "executionInfo": {
     "elapsed": 10043,
     "status": "ok",
     "timestamp": 1616326444482,
     "user": {
      "displayName": "TAPAS DAS",
      "photoUrl": "https://lh3.googleusercontent.com/a-/AOh14GiyffdGKiPCR_UwVittzTcbBFms70IkGfU15fatCA=s64",
      "userId": "10798398878324948542"
     },
     "user_tz": -330
    },
    "id": "VdhgoIAmSUxK",
    "outputId": "7897cfad-c8d4-46d9-86ea-04de37e11444",
    "papermill": {
     "duration": 1.56348,
     "end_time": "2021-07-21T15:13:35.071903",
     "exception": false,
     "start_time": "2021-07-21T15:13:33.508423",
     "status": "completed"
    },
    "tags": []
   },
   "outputs": [
    {
     "data": {
      "text/plain": [
       "20"
      ]
     },
     "execution_count": 2,
     "metadata": {},
     "output_type": "execute_result"
    }
   ],
   "source": [
    "with open(\"../input/he-pgd-turkey-ham/MathCoThon_Ready_Sandwich.txt\", 'rb') as handle: \n",
    "    data = handle.read()\n",
    "\n",
    "processed_data = pickle.loads(data)\n",
    "train_df = processed_data['train_df']\n",
    "test_df = processed_data['test_df']\n",
    "\n",
    "del processed_data\n",
    "gc.collect()"
   ]
  },
  {
   "cell_type": "code",
   "execution_count": 3,
   "id": "57d1344a",
   "metadata": {
    "execution": {
     "iopub.execute_input": "2021-07-21T15:13:35.127031Z",
     "iopub.status.busy": "2021-07-21T15:13:35.119414Z",
     "iopub.status.idle": "2021-07-21T15:13:44.144938Z",
     "shell.execute_reply": "2021-07-21T15:13:44.143608Z"
    },
    "papermill": {
     "duration": 9.055965,
     "end_time": "2021-07-21T15:13:44.145382",
     "exception": false,
     "start_time": "2021-07-21T15:13:35.089417",
     "status": "completed"
    },
    "tags": []
   },
   "outputs": [
    {
     "name": "stderr",
     "output_type": "stream",
     "text": [
      "100%|██████████| 21/21 [00:04<00:00,  4.47it/s]\n",
      "  5%|▍         | 1/21 [00:00<00:02,  8.11it/s]"
     ]
    },
    {
     "name": "stdout",
     "output_type": "stream",
     "text": [
      "train_df: (18047, 1101)\n"
     ]
    },
    {
     "name": "stderr",
     "output_type": "stream",
     "text": [
      "100%|██████████| 21/21 [00:02<00:00,  8.16it/s]"
     ]
    },
    {
     "name": "stdout",
     "output_type": "stream",
     "text": [
      "test_df: (9465, 1100)\n"
     ]
    },
    {
     "name": "stderr",
     "output_type": "stream",
     "text": [
      "\n"
     ]
    }
   ],
   "source": [
    "cat_cols = [\n",
    " 'Inherited from father',\n",
    " 'Maternal gene',\n",
    " 'Respiratory Rate (breaths/min)',\n",
    " 'Heart Rate (rates/min',\n",
    " 'Follow-up',\n",
    " 'Gender',\n",
    " 'Birth asphyxia',\n",
    " 'Autopsy shows birth defect (if applicable)',\n",
    " 'Place of birth',\n",
    " 'Folic acid details (peri-conceptional)',\n",
    " 'H/O serious maternal illness',\n",
    " 'H/O radiation exposure (x-ray)',\n",
    " 'H/O substance abuse',\n",
    " 'Assisted conception IVF/ART',\n",
    " 'History of anomalies in previous pregnancies',\n",
    " 'Birth defects',\n",
    " 'Blood test result',\n",
    " 'Institute Name',\n",
    " 'Institute Addr',\n",
    " 'Institute Zipcode',\n",
    " 'No. of previous abortion'\n",
    "]\n",
    "\n",
    "train_df[cat_cols] = train_df[cat_cols].astype(int)\n",
    "test_df[cat_cols] = test_df[cat_cols].astype(int)\n",
    "\n",
    "for col in tqdm(cat_cols):\n",
    "    dummy_val = pd.get_dummies(train_df[col], prefix=col)\n",
    "    train_df = pd.concat([train_df, dummy_val], axis=1)\n",
    "    train_df.drop([col], inplace=True, axis=1)\n",
    "\n",
    "print(\"train_df: {}\".format(train_df.shape))\n",
    "\n",
    "for col in tqdm(cat_cols):\n",
    "    dummy_val = pd.get_dummies(test_df[col], prefix=col)\n",
    "    test_df = pd.concat([test_df, dummy_val], axis=1)\n",
    "    test_df.drop([col], inplace=True, axis=1)\n",
    "\n",
    "print(\"test_df: {}\".format(test_df.shape))"
   ]
  },
  {
   "cell_type": "code",
   "execution_count": 4,
   "id": "451fe472",
   "metadata": {
    "execution": {
     "iopub.execute_input": "2021-07-21T15:13:44.332218Z",
     "iopub.status.busy": "2021-07-21T15:13:44.330612Z",
     "iopub.status.idle": "2021-07-21T15:13:44.515521Z",
     "shell.execute_reply": "2021-07-21T15:13:44.516169Z",
     "shell.execute_reply.started": "2021-07-21T15:10:11.536604Z"
    },
    "executionInfo": {
     "elapsed": 2058,
     "status": "ok",
     "timestamp": 1616326525321,
     "user": {
      "displayName": "TAPAS DAS",
      "photoUrl": "https://lh3.googleusercontent.com/a-/AOh14GiyffdGKiPCR_UwVittzTcbBFms70IkGfU15fatCA=s64",
      "userId": "10798398878324948542"
     },
     "user_tz": -330
    },
    "id": "UAfyHbeASU7C",
    "outputId": "14c429a7-7b43-4065-afae-da7d4f6679a9",
    "papermill": {
     "duration": 0.308718,
     "end_time": "2021-07-21T15:13:44.516380",
     "exception": false,
     "start_time": "2021-07-21T15:13:44.207662",
     "status": "completed"
    },
    "tags": []
   },
   "outputs": [
    {
     "name": "stdout",
     "output_type": "stream",
     "text": [
      "Xtrain: (18047, 1100) \n",
      "Ytrain: (18047,) \n",
      "Xtest: (9465, 1100)\n"
     ]
    },
    {
     "data": {
      "text/plain": [
       "72"
      ]
     },
     "execution_count": 4,
     "metadata": {},
     "output_type": "execute_result"
    }
   ],
   "source": [
    "Xtrain = train_df.loc[:, ~train_df.columns.isin(['target'])].copy()\n",
    "Ytrain = train_df['target'].copy()\n",
    "Xtest = test_df.copy()\n",
    "\n",
    "print(f\"Xtrain: {Xtrain.shape} \\nYtrain: {Ytrain.shape} \\nXtest: {Xtest.shape}\")\n",
    "\n",
    "del train_df\n",
    "del test_df\n",
    "gc.collect()"
   ]
  },
  {
   "cell_type": "markdown",
   "id": "01b7275e",
   "metadata": {
    "id": "9wNC5rWEVnjd",
    "papermill": {
     "duration": 0.033757,
     "end_time": "2021-07-21T15:13:44.584084",
     "exception": false,
     "start_time": "2021-07-21T15:13:44.550327",
     "status": "completed"
    },
    "tags": []
   },
   "source": [
    "## Build and validate the model"
   ]
  },
  {
   "cell_type": "code",
   "execution_count": 5,
   "id": "310baba0",
   "metadata": {
    "execution": {
     "iopub.execute_input": "2021-07-21T15:13:44.666050Z",
     "iopub.status.busy": "2021-07-21T15:13:44.664723Z",
     "iopub.status.idle": "2021-07-21T16:04:08.253031Z",
     "shell.execute_reply": "2021-07-21T16:04:08.252071Z",
     "shell.execute_reply.started": "2021-07-21T15:10:13.200173Z"
    },
    "id": "uWPosEORSVBp",
    "outputId": "d70ac047-a86b-4f36-84cc-960b1b5316be",
    "papermill": {
     "duration": 3023.635987,
     "end_time": "2021-07-21T16:04:08.253182",
     "exception": false,
     "start_time": "2021-07-21T15:13:44.617195",
     "status": "completed"
    },
    "tags": []
   },
   "outputs": [
    {
     "name": "stdout",
     "output_type": "stream",
     "text": [
      "[0]\tvalidation_0-mlogloss:2.12984\tvalidation_1-mlogloss:2.15897\n",
      "[50]\tvalidation_0-mlogloss:0.77845\tvalidation_1-mlogloss:1.54999\n",
      "[99]\tvalidation_0-mlogloss:0.40653\tvalidation_1-mlogloss:1.46354\n",
      "Seed-2020 | Fold-0 | OOF Score: 28.065249425955972\n",
      "[0]\tvalidation_0-mlogloss:2.12748\tvalidation_1-mlogloss:2.15740\n",
      "[50]\tvalidation_0-mlogloss:0.76573\tvalidation_1-mlogloss:1.54445\n",
      "[99]\tvalidation_0-mlogloss:0.39990\tvalidation_1-mlogloss:1.46428\n",
      "Seed-2020 | Fold-1 | OOF Score: 24.746943541124267\n",
      "[0]\tvalidation_0-mlogloss:2.12882\tvalidation_1-mlogloss:2.15786\n",
      "[50]\tvalidation_0-mlogloss:0.76363\tvalidation_1-mlogloss:1.54938\n",
      "[99]\tvalidation_0-mlogloss:0.39768\tvalidation_1-mlogloss:1.47459\n",
      "Seed-2020 | Fold-2 | OOF Score: 27.374520696585225\n",
      "[0]\tvalidation_0-mlogloss:2.12932\tvalidation_1-mlogloss:2.15727\n",
      "[50]\tvalidation_0-mlogloss:0.76336\tvalidation_1-mlogloss:1.53763\n",
      "[99]\tvalidation_0-mlogloss:0.39850\tvalidation_1-mlogloss:1.45310\n",
      "Seed-2020 | Fold-3 | OOF Score: 25.94068310921005\n",
      "[0]\tvalidation_0-mlogloss:2.12930\tvalidation_1-mlogloss:2.15957\n",
      "[50]\tvalidation_0-mlogloss:0.76828\tvalidation_1-mlogloss:1.55056\n",
      "[99]\tvalidation_0-mlogloss:0.39863\tvalidation_1-mlogloss:1.46988\n",
      "Seed-2020 | Fold-4 | OOF Score: 24.925978764334456\n",
      "[0]\tvalidation_0-mlogloss:2.12820\tvalidation_1-mlogloss:2.15822\n",
      "[50]\tvalidation_0-mlogloss:0.75775\tvalidation_1-mlogloss:1.55115\n",
      "[99]\tvalidation_0-mlogloss:0.39341\tvalidation_1-mlogloss:1.47138\n",
      "Seed-2020 | Fold-5 | OOF Score: 26.386358582021174\n",
      "[0]\tvalidation_0-mlogloss:2.12908\tvalidation_1-mlogloss:2.15845\n",
      "[50]\tvalidation_0-mlogloss:0.77062\tvalidation_1-mlogloss:1.56438\n",
      "[99]\tvalidation_0-mlogloss:0.40435\tvalidation_1-mlogloss:1.48139\n",
      "Seed-2020 | Fold-6 | OOF Score: 25.300183619800244\n",
      "[0]\tvalidation_0-mlogloss:2.13404\tvalidation_1-mlogloss:2.15965\n",
      "[50]\tvalidation_0-mlogloss:0.77139\tvalidation_1-mlogloss:1.56336\n",
      "[99]\tvalidation_0-mlogloss:0.40227\tvalidation_1-mlogloss:1.48597\n",
      "Seed-2020 | Fold-7 | OOF Score: 24.339310404210217\n",
      "[0]\tvalidation_0-mlogloss:2.12863\tvalidation_1-mlogloss:2.15806\n",
      "[50]\tvalidation_0-mlogloss:0.76232\tvalidation_1-mlogloss:1.56306\n",
      "[99]\tvalidation_0-mlogloss:0.39899\tvalidation_1-mlogloss:1.48090\n",
      "Seed-2020 | Fold-8 | OOF Score: 27.000433774434907\n",
      "[0]\tvalidation_0-mlogloss:2.12810\tvalidation_1-mlogloss:2.15642\n",
      "[50]\tvalidation_0-mlogloss:0.77058\tvalidation_1-mlogloss:1.53485\n",
      "[99]\tvalidation_0-mlogloss:0.39999\tvalidation_1-mlogloss:1.45274\n",
      "Seed-2020 | Fold-9 | OOF Score: 29.780724994592955\n",
      "\n",
      "Seed: 2020 | Aggregate OOF Score: 26.38603869122694\n",
      "\n",
      "\n",
      "[0]\tvalidation_0-mlogloss:2.12911\tvalidation_1-mlogloss:2.15513\n",
      "[50]\tvalidation_0-mlogloss:0.76730\tvalidation_1-mlogloss:1.54026\n",
      "[99]\tvalidation_0-mlogloss:0.40471\tvalidation_1-mlogloss:1.45791\n",
      "Seed-2022 | Fold-0 | OOF Score: 31.83789443420133\n",
      "[0]\tvalidation_0-mlogloss:2.12814\tvalidation_1-mlogloss:2.15742\n",
      "[50]\tvalidation_0-mlogloss:0.76963\tvalidation_1-mlogloss:1.56288\n",
      "[99]\tvalidation_0-mlogloss:0.40403\tvalidation_1-mlogloss:1.48599\n",
      "Seed-2022 | Fold-1 | OOF Score: 27.975311592323138\n",
      "[0]\tvalidation_0-mlogloss:2.12371\tvalidation_1-mlogloss:2.15324\n",
      "[50]\tvalidation_0-mlogloss:0.76704\tvalidation_1-mlogloss:1.55993\n",
      "[99]\tvalidation_0-mlogloss:0.40239\tvalidation_1-mlogloss:1.48467\n",
      "Seed-2022 | Fold-2 | OOF Score: 25.889484862601474\n",
      "[0]\tvalidation_0-mlogloss:2.12864\tvalidation_1-mlogloss:2.16002\n",
      "[50]\tvalidation_0-mlogloss:0.75861\tvalidation_1-mlogloss:1.54931\n",
      "[99]\tvalidation_0-mlogloss:0.39846\tvalidation_1-mlogloss:1.46436\n",
      "Seed-2022 | Fold-3 | OOF Score: 23.188994826735172\n",
      "[0]\tvalidation_0-mlogloss:2.13196\tvalidation_1-mlogloss:2.15680\n",
      "[50]\tvalidation_0-mlogloss:0.76746\tvalidation_1-mlogloss:1.54587\n",
      "[99]\tvalidation_0-mlogloss:0.39801\tvalidation_1-mlogloss:1.46843\n",
      "Seed-2022 | Fold-4 | OOF Score: 25.955068980045894\n",
      "[0]\tvalidation_0-mlogloss:2.12403\tvalidation_1-mlogloss:2.15689\n",
      "[50]\tvalidation_0-mlogloss:0.76205\tvalidation_1-mlogloss:1.54019\n",
      "[99]\tvalidation_0-mlogloss:0.40052\tvalidation_1-mlogloss:1.45613\n",
      "Seed-2022 | Fold-5 | OOF Score: 29.256376967503993\n",
      "[0]\tvalidation_0-mlogloss:2.12958\tvalidation_1-mlogloss:2.15896\n",
      "[50]\tvalidation_0-mlogloss:0.76885\tvalidation_1-mlogloss:1.56888\n",
      "[99]\tvalidation_0-mlogloss:0.40146\tvalidation_1-mlogloss:1.49438\n",
      "Seed-2022 | Fold-6 | OOF Score: 23.406850642732266\n",
      "[0]\tvalidation_0-mlogloss:2.12745\tvalidation_1-mlogloss:2.15765\n",
      "[50]\tvalidation_0-mlogloss:0.77084\tvalidation_1-mlogloss:1.55918\n",
      "[99]\tvalidation_0-mlogloss:0.39749\tvalidation_1-mlogloss:1.47919\n",
      "Seed-2022 | Fold-7 | OOF Score: 26.969948817632872\n",
      "[0]\tvalidation_0-mlogloss:2.12988\tvalidation_1-mlogloss:2.15681\n",
      "[50]\tvalidation_0-mlogloss:0.76695\tvalidation_1-mlogloss:1.55900\n",
      "[99]\tvalidation_0-mlogloss:0.40042\tvalidation_1-mlogloss:1.47799\n",
      "Seed-2022 | Fold-8 | OOF Score: 28.66326950017352\n",
      "[0]\tvalidation_0-mlogloss:2.12539\tvalidation_1-mlogloss:2.15762\n",
      "[50]\tvalidation_0-mlogloss:0.76100\tvalidation_1-mlogloss:1.55691\n",
      "[99]\tvalidation_0-mlogloss:0.39697\tvalidation_1-mlogloss:1.48011\n",
      "Seed-2022 | Fold-9 | OOF Score: 24.366910155848977\n",
      "\n",
      "Seed: 2022 | Aggregate OOF Score: 26.751011077979864\n",
      "\n",
      "\n",
      "Aggregate OOF Score: 26.5685248846034\n"
     ]
    }
   ],
   "source": [
    "FOLD = 10\n",
    "SEEDS = [2020, 2022]\n",
    "\n",
    "fet_imp = 0\n",
    "counter = 0\n",
    "oof_score = 0\n",
    "y_pred_meta_xgb = np.zeros((Xtrain.shape[0], 9))\n",
    "y_pred_final_xgb = 0\n",
    "\n",
    "\n",
    "for sidx, seed in enumerate(SEEDS):\n",
    "    seed_score = 0\n",
    "    \n",
    "    kfold = StratifiedKFold(n_splits=FOLD, shuffle=True, random_state=seed)\n",
    "\n",
    "    for idx, (train, val) in enumerate(kfold.split(Xtrain.values, Ytrain)):\n",
    "        counter += 1\n",
    "        \n",
    "        train_x, train_y = Xtrain.iloc[train], Ytrain.iloc[train]\n",
    "        val_x, val_y = Xtrain.iloc[val], Ytrain.iloc[val]\n",
    "        \n",
    "        model = XGBClassifier(\n",
    "            objective='multi:softmax',\n",
    "            eval_metric='mlogloss',\n",
    "            booster='gbtree',\n",
    "            sample_type='weighted',\n",
    "            tree_method='gpu_hist',\n",
    "            grow_policy='lossguide',\n",
    "            use_label_encoder=False,\n",
    "            num_round=5000,\n",
    "            num_class=3,\n",
    "            max_depth=15, \n",
    "            max_leaves=512,\n",
    "            learning_rate=0.05,\n",
    "            subsample=0.75,\n",
    "            colsample_bytree=0.95,\n",
    "            min_child_weight=3,\n",
    "            reg_lambda=0.01,\n",
    "            verbosity=0,\n",
    "            random_state=(seed+idx)\n",
    "        )\n",
    "\n",
    "        model.fit(train_x, train_y, eval_set=[(train_x, train_y),(val_x, val_y)], \n",
    "                  early_stopping_rounds=200, verbose=50)\n",
    "\n",
    "        y_pred = model.predict_proba(val_x, iteration_range=(0, model.best_iteration))\n",
    "        y_pred_meta_xgb[val] += y_pred\n",
    "        y_pred_final_xgb += model.predict_proba(Xtest, iteration_range=(0, model.best_iteration))\n",
    "        \n",
    "        y_pred = np.array([np.argmax(y_pred, axis=1)]).T\n",
    "        score = 100 * f1_score(val_y, y_pred, average='macro')\n",
    "        oof_score += score\n",
    "        seed_score += score\n",
    "        fet_imp += model.feature_importances_\n",
    "        print(\"Seed-{} | Fold-{} | OOF Score: {}\".format(seed, idx, score))\n",
    "    \n",
    "    print(\"\\nSeed: {} | Aggregate OOF Score: {}\\n\\n\".format(seed, (seed_score / FOLD)))\n",
    "\n",
    "\n",
    "y_pred_meta_xgb = y_pred_meta_xgb / float(len(SEEDS))\n",
    "y_pred_final_xgb = y_pred_final_xgb / float(counter)\n",
    "fet_imp = fet_imp / float(counter)\n",
    "oof_score /= float(counter)\n",
    "print(\"Aggregate OOF Score: {}\".format(oof_score))"
   ]
  },
  {
   "cell_type": "code",
   "execution_count": 6,
   "id": "26953601",
   "metadata": {
    "execution": {
     "iopub.execute_input": "2021-07-21T16:04:08.381451Z",
     "iopub.status.busy": "2021-07-21T16:04:08.380369Z",
     "iopub.status.idle": "2021-07-21T16:04:08.582556Z",
     "shell.execute_reply": "2021-07-21T16:04:08.583118Z"
    },
    "id": "uLzmS7LzXvXy",
    "papermill": {
     "duration": 0.268963,
     "end_time": "2021-07-21T16:04:08.583347",
     "exception": false,
     "start_time": "2021-07-21T16:04:08.314384",
     "status": "completed"
    },
    "tags": []
   },
   "outputs": [],
   "source": [
    "np.savez_compressed('./XGB_Meta_Features.npz',\n",
    "                    y_pred_meta_xgb=y_pred_meta_xgb, \n",
    "                    oof_score=oof_score,\n",
    "                    y_pred_final_xgb=y_pred_final_xgb)"
   ]
  },
  {
   "cell_type": "markdown",
   "id": "863d9ecd",
   "metadata": {
    "papermill": {
     "duration": 0.140702,
     "end_time": "2021-07-21T16:04:08.862830",
     "exception": false,
     "start_time": "2021-07-21T16:04:08.722128",
     "status": "completed"
    },
    "tags": []
   },
   "source": [
    "## Create submission file"
   ]
  },
  {
   "cell_type": "code",
   "execution_count": 7,
   "id": "2ed1e976",
   "metadata": {
    "execution": {
     "iopub.execute_input": "2021-07-21T16:04:09.099175Z",
     "iopub.status.busy": "2021-07-21T16:04:09.098113Z",
     "iopub.status.idle": "2021-07-21T16:04:09.279053Z",
     "shell.execute_reply": "2021-07-21T16:04:09.279591Z"
    },
    "papermill": {
     "duration": 0.297378,
     "end_time": "2021-07-21T16:04:09.279779",
     "exception": false,
     "start_time": "2021-07-21T16:04:08.982401",
     "status": "completed"
    },
    "tags": []
   },
   "outputs": [
    {
     "data": {
      "text/html": [
       "<div>\n",
       "<style scoped>\n",
       "    .dataframe tbody tr th:only-of-type {\n",
       "        vertical-align: middle;\n",
       "    }\n",
       "\n",
       "    .dataframe tbody tr th {\n",
       "        vertical-align: top;\n",
       "    }\n",
       "\n",
       "    .dataframe thead th {\n",
       "        text-align: right;\n",
       "    }\n",
       "</style>\n",
       "<table border=\"1\" class=\"dataframe\">\n",
       "  <thead>\n",
       "    <tr style=\"text-align: right;\">\n",
       "      <th></th>\n",
       "      <th>target</th>\n",
       "      <th>Count</th>\n",
       "    </tr>\n",
       "  </thead>\n",
       "  <tbody>\n",
       "    <tr>\n",
       "      <th>0</th>\n",
       "      <td>Mitochondrial genetic inheritance disorders//L...</td>\n",
       "      <td>72</td>\n",
       "    </tr>\n",
       "    <tr>\n",
       "      <th>1</th>\n",
       "      <td>Mitochondrial genetic inheritance disorders//L...</td>\n",
       "      <td>3420</td>\n",
       "    </tr>\n",
       "    <tr>\n",
       "      <th>2</th>\n",
       "      <td>Mitochondrial genetic inheritance disorders//M...</td>\n",
       "      <td>1599</td>\n",
       "    </tr>\n",
       "    <tr>\n",
       "      <th>3</th>\n",
       "      <td>Multifactorial genetic inheritance disorders//...</td>\n",
       "      <td>9</td>\n",
       "    </tr>\n",
       "    <tr>\n",
       "      <th>4</th>\n",
       "      <td>Multifactorial genetic inheritance disorders//...</td>\n",
       "      <td>1</td>\n",
       "    </tr>\n",
       "    <tr>\n",
       "      <th>5</th>\n",
       "      <td>Multifactorial genetic inheritance disorders//...</td>\n",
       "      <td>694</td>\n",
       "    </tr>\n",
       "    <tr>\n",
       "      <th>6</th>\n",
       "      <td>Single-gene inheritance diseases//Cystic fibrosis</td>\n",
       "      <td>2763</td>\n",
       "    </tr>\n",
       "    <tr>\n",
       "      <th>7</th>\n",
       "      <td>Single-gene inheritance diseases//Hemochromatosis</td>\n",
       "      <td>197</td>\n",
       "    </tr>\n",
       "    <tr>\n",
       "      <th>8</th>\n",
       "      <td>Single-gene inheritance diseases//Tay-Sachs</td>\n",
       "      <td>710</td>\n",
       "    </tr>\n",
       "  </tbody>\n",
       "</table>\n",
       "</div>"
      ],
      "text/plain": [
       "                                              target  Count\n",
       "0  Mitochondrial genetic inheritance disorders//L...     72\n",
       "1  Mitochondrial genetic inheritance disorders//L...   3420\n",
       "2  Mitochondrial genetic inheritance disorders//M...   1599\n",
       "3  Multifactorial genetic inheritance disorders//...      9\n",
       "4  Multifactorial genetic inheritance disorders//...      1\n",
       "5  Multifactorial genetic inheritance disorders//...    694\n",
       "6  Single-gene inheritance diseases//Cystic fibrosis   2763\n",
       "7  Single-gene inheritance diseases//Hemochromatosis    197\n",
       "8        Single-gene inheritance diseases//Tay-Sachs    710"
      ]
     },
     "execution_count": 7,
     "metadata": {},
     "output_type": "execute_result"
    }
   ],
   "source": [
    "test_df = pd.read_csv(\"../input/predict-generic-disorder/dataset/test.csv\")\n",
    "submit_df = pd.DataFrame()\n",
    "submit_df['Patient Id'] = test_df['Patient Id']\n",
    "submit_df['target'] = np.array([np.argmax(y_pred_final_xgb, axis=1)]).T\n",
    "\n",
    "submit_df['target'] = submit_df['target'].map({\n",
    "    0: \"Mitochondrial genetic inheritance disorders//Leber's hereditary optic neuropathy\",\n",
    "    1: 'Mitochondrial genetic inheritance disorders//Leigh syndrome',\n",
    "    2: 'Mitochondrial genetic inheritance disorders//Mitochondrial myopathy',\n",
    "    3: \"Multifactorial genetic inheritance disorders//Alzheimer's\",\n",
    "    4: 'Multifactorial genetic inheritance disorders//Cancer',\n",
    "    5: 'Multifactorial genetic inheritance disorders//Diabetes',\n",
    "    6: 'Single-gene inheritance diseases//Cystic fibrosis',\n",
    "    7: 'Single-gene inheritance diseases//Hemochromatosis',\n",
    "    8: 'Single-gene inheritance diseases//Tay-Sachs'\n",
    "})\n",
    "\n",
    "submit_df.groupby(['target']).size().reset_index().rename(columns={0:'Count'})"
   ]
  },
  {
   "cell_type": "code",
   "execution_count": 8,
   "id": "210aa808",
   "metadata": {
    "execution": {
     "iopub.execute_input": "2021-07-21T16:04:09.436923Z",
     "iopub.status.busy": "2021-07-21T16:04:09.436033Z",
     "iopub.status.idle": "2021-07-21T16:04:09.440526Z",
     "shell.execute_reply": "2021-07-21T16:04:09.441099Z"
    },
    "papermill": {
     "duration": 0.096049,
     "end_time": "2021-07-21T16:04:09.441290",
     "exception": false,
     "start_time": "2021-07-21T16:04:09.345241",
     "status": "completed"
    },
    "tags": []
   },
   "outputs": [
    {
     "data": {
      "text/html": [
       "<div>\n",
       "<style scoped>\n",
       "    .dataframe tbody tr th:only-of-type {\n",
       "        vertical-align: middle;\n",
       "    }\n",
       "\n",
       "    .dataframe tbody tr th {\n",
       "        vertical-align: top;\n",
       "    }\n",
       "\n",
       "    .dataframe thead th {\n",
       "        text-align: right;\n",
       "    }\n",
       "</style>\n",
       "<table border=\"1\" class=\"dataframe\">\n",
       "  <thead>\n",
       "    <tr style=\"text-align: right;\">\n",
       "      <th></th>\n",
       "      <th>Patient Id</th>\n",
       "      <th>Genetic Disorder</th>\n",
       "      <th>Disorder Subclass</th>\n",
       "    </tr>\n",
       "  </thead>\n",
       "  <tbody>\n",
       "    <tr>\n",
       "      <th>0</th>\n",
       "      <td>PID0x4175</td>\n",
       "      <td>Single-gene inheritance diseases</td>\n",
       "      <td>Cystic fibrosis</td>\n",
       "    </tr>\n",
       "    <tr>\n",
       "      <th>1</th>\n",
       "      <td>PID0x21f5</td>\n",
       "      <td>Single-gene inheritance diseases</td>\n",
       "      <td>Hemochromatosis</td>\n",
       "    </tr>\n",
       "    <tr>\n",
       "      <th>2</th>\n",
       "      <td>PID0x49b8</td>\n",
       "      <td>Single-gene inheritance diseases</td>\n",
       "      <td>Tay-Sachs</td>\n",
       "    </tr>\n",
       "    <tr>\n",
       "      <th>3</th>\n",
       "      <td>PID0x2d97</td>\n",
       "      <td>Mitochondrial genetic inheritance disorders</td>\n",
       "      <td>Leigh syndrome</td>\n",
       "    </tr>\n",
       "    <tr>\n",
       "      <th>4</th>\n",
       "      <td>PID0x58da</td>\n",
       "      <td>Mitochondrial genetic inheritance disorders</td>\n",
       "      <td>Leigh syndrome</td>\n",
       "    </tr>\n",
       "  </tbody>\n",
       "</table>\n",
       "</div>"
      ],
      "text/plain": [
       "  Patient Id                             Genetic Disorder Disorder Subclass\n",
       "0  PID0x4175             Single-gene inheritance diseases   Cystic fibrosis\n",
       "1  PID0x21f5             Single-gene inheritance diseases   Hemochromatosis\n",
       "2  PID0x49b8             Single-gene inheritance diseases         Tay-Sachs\n",
       "3  PID0x2d97  Mitochondrial genetic inheritance disorders    Leigh syndrome\n",
       "4  PID0x58da  Mitochondrial genetic inheritance disorders    Leigh syndrome"
      ]
     },
     "execution_count": 8,
     "metadata": {},
     "output_type": "execute_result"
    }
   ],
   "source": [
    "submit_df['Genetic Disorder'] = submit_df['target'].apply(lambda x: x.split('//')[0])\n",
    "submit_df['Disorder Subclass'] = submit_df['target'].apply(lambda x: x.split('//')[1])\n",
    "submit_df.drop(['target'], axis=1, inplace=True)\n",
    "submit_df.head()"
   ]
  },
  {
   "cell_type": "code",
   "execution_count": 9,
   "id": "afb3d057",
   "metadata": {
    "execution": {
     "iopub.execute_input": "2021-07-21T16:04:09.569821Z",
     "iopub.status.busy": "2021-07-21T16:04:09.569148Z",
     "iopub.status.idle": "2021-07-21T16:04:09.614078Z",
     "shell.execute_reply": "2021-07-21T16:04:09.613512Z"
    },
    "papermill": {
     "duration": 0.111323,
     "end_time": "2021-07-21T16:04:09.614251",
     "exception": false,
     "start_time": "2021-07-21T16:04:09.502928",
     "status": "completed"
    },
    "tags": []
   },
   "outputs": [],
   "source": [
    "submit_df.to_csv(\"./XGB_Submission.csv\", index=False)"
   ]
  },
  {
   "cell_type": "markdown",
   "id": "ba10e19e",
   "metadata": {
    "papermill": {
     "duration": 0.062592,
     "end_time": "2021-07-21T16:04:09.739463",
     "exception": false,
     "start_time": "2021-07-21T16:04:09.676871",
     "status": "completed"
    },
    "tags": []
   },
   "source": [
    "## Classification Report"
   ]
  },
  {
   "cell_type": "code",
   "execution_count": 10,
   "id": "83e8318f",
   "metadata": {
    "execution": {
     "iopub.execute_input": "2021-07-21T16:04:09.870855Z",
     "iopub.status.busy": "2021-07-21T16:04:09.869948Z",
     "iopub.status.idle": "2021-07-21T16:04:09.873772Z",
     "shell.execute_reply": "2021-07-21T16:04:09.874305Z"
    },
    "papermill": {
     "duration": 0.074247,
     "end_time": "2021-07-21T16:04:09.874485",
     "exception": false,
     "start_time": "2021-07-21T16:04:09.800238",
     "status": "completed"
    },
    "tags": []
   },
   "outputs": [],
   "source": [
    "def plot_confusion_matrix(cm, classes):\n",
    "\n",
    "    plt.imshow(cm, interpolation='nearest', cmap=plt.cm.Paired)\n",
    "    plt.title('Confusion matrix', fontweight='bold')\n",
    "    plt.colorbar()\n",
    "    tick_marks = np.arange(len(classes))\n",
    "    plt.xticks(tick_marks, classes, rotation=0)\n",
    "    plt.yticks(tick_marks, classes)\n",
    "\n",
    "    thresh = cm.max() / 2.\n",
    "    for i, j in itertools.product(range(cm.shape[0]), range(cm.shape[1])):\n",
    "        plt.text(j, i, format(cm[i, j], 'd'),\n",
    "                 horizontalalignment=\"center\",\n",
    "                 color=\"white\" if cm[i, j] > thresh else \"black\")\n",
    "\n",
    "    plt.ylabel('True label')\n",
    "    plt.xlabel('Predicted label')\n",
    "    plt.tight_layout()"
   ]
  },
  {
   "cell_type": "code",
   "execution_count": 11,
   "id": "8bd08ae0",
   "metadata": {
    "execution": {
     "iopub.execute_input": "2021-07-21T16:04:10.002622Z",
     "iopub.status.busy": "2021-07-21T16:04:10.001594Z",
     "iopub.status.idle": "2021-07-21T16:04:10.040760Z",
     "shell.execute_reply": "2021-07-21T16:04:10.040195Z"
    },
    "papermill": {
     "duration": 0.104379,
     "end_time": "2021-07-21T16:04:10.040915",
     "exception": false,
     "start_time": "2021-07-21T16:04:09.936536",
     "status": "completed"
    },
    "tags": []
   },
   "outputs": [
    {
     "name": "stdout",
     "output_type": "stream",
     "text": [
      "              precision    recall  f1-score   support\n",
      "\n",
      "           0       0.23      0.08      0.12       587\n",
      "           1       0.38      0.47      0.42      4683\n",
      "           2       0.34      0.35      0.35      3971\n",
      "           3       0.14      0.02      0.04       133\n",
      "           4       0.46      0.07      0.12        91\n",
      "           5       0.35      0.26      0.30      1653\n",
      "           6       0.40      0.52      0.45      3145\n",
      "           7       0.39      0.24      0.30      1228\n",
      "           8       0.34      0.26      0.29      2556\n",
      "\n",
      "    accuracy                           0.37     18047\n",
      "   macro avg       0.34      0.25      0.26     18047\n",
      "weighted avg       0.36      0.37      0.36     18047\n",
      "\n"
     ]
    }
   ],
   "source": [
    "y_pred = np.array([np.argmax(y_pred_meta_xgb, axis=1)]).T\n",
    "print(classification_report(Ytrain, y_pred))"
   ]
  },
  {
   "cell_type": "code",
   "execution_count": 12,
   "id": "87355d53",
   "metadata": {
    "execution": {
     "iopub.execute_input": "2021-07-21T16:04:10.173987Z",
     "iopub.status.busy": "2021-07-21T16:04:10.172896Z",
     "iopub.status.idle": "2021-07-21T16:04:11.179378Z",
     "shell.execute_reply": "2021-07-21T16:04:11.178773Z"
    },
    "papermill": {
     "duration": 1.075031,
     "end_time": "2021-07-21T16:04:11.179528",
     "exception": false,
     "start_time": "2021-07-21T16:04:10.104497",
     "status": "completed"
    },
    "tags": []
   },
   "outputs": [
    {
     "data": {
      "image/png": "[encoded data removed]",
      "text/plain": [
       "<Figure size 1008x720 with 2 Axes>"
      ]
     },
     "metadata": {
      "needs_background": "light"
     },
     "output_type": "display_data"
    }
   ],
   "source": [
    "cnf_matrix = confusion_matrix(Ytrain, y_pred, labels=list(range(9)))\n",
    "np.set_printoptions(precision=2)\n",
    "plt.figure(figsize=(14,10))\n",
    "plot_confusion_matrix(cnf_matrix, classes=list(range(9)))"
   ]
  },
  {
   "cell_type": "markdown",
   "id": "1b76c14f",
   "metadata": {
    "papermill": {
     "duration": 0.064177,
     "end_time": "2021-07-21T16:04:11.308980",
     "exception": false,
     "start_time": "2021-07-21T16:04:11.244803",
     "status": "completed"
    },
    "tags": []
   },
   "source": [
    "## Features Importance"
   ]
  },
  {
   "cell_type": "code",
   "execution_count": 13,
   "id": "3f0c31a0",
   "metadata": {
    "execution": {
     "iopub.execute_input": "2021-07-21T16:04:11.449008Z",
     "iopub.status.busy": "2021-07-21T16:04:11.446810Z",
     "iopub.status.idle": "2021-07-21T16:04:13.266573Z",
     "shell.execute_reply": "2021-07-21T16:04:13.267192Z"
    },
    "papermill": {
     "duration": 1.893867,
     "end_time": "2021-07-21T16:04:13.267369",
     "exception": false,
     "start_time": "2021-07-21T16:04:11.373502",
     "status": "completed"
    },
    "tags": []
   },
   "outputs": [
    {
     "data": {
      "image/png": "[encoded data removed]",
      "text/plain": [
       "<Figure size 1440x1440 with 1 Axes>"
      ]
     },
     "metadata": {
      "needs_background": "light"
     },
     "output_type": "display_data"
    }
   ],
   "source": [
    "feature_imp = pd.DataFrame(sorted(zip(fet_imp[0:60], Xtrain.columns[0:60])), columns=['Value','Feature'])\n",
    "\n",
    "plt.figure(figsize=(20, 20))\n",
    "sns.barplot(x=\"Value\", y=\"Feature\", data=feature_imp.sort_values(by=\"Value\", ascending=False))\n",
    "plt.title('XGBoost Features Importance', fontweight='bold')\n",
    "plt.tight_layout()\n",
    "plt.show()"
   ]
  },
  {
   "cell_type": "code",
   "execution_count": null,
   "id": "c310c74a",
   "metadata": {
    "papermill": {
     "duration": 0.068222,
     "end_time": "2021-07-21T16:04:13.404561",
     "exception": false,
     "start_time": "2021-07-21T16:04:13.336339",
     "status": "completed"
    },
    "tags": []
   },
   "outputs": [],
   "source": []
  }
 ],
 "metadata": {
  "kernelspec": {
   "display_name": "Python 3",
   "language": "python",
   "name": "python3"
  },
  "language_info": {
   "codemirror_mode": {
    "name": "ipython",
    "version": 3
   },
   "file_extension": ".py",
   "mimetype": "text/x-python",
   "name": "python",
   "nbconvert_exporter": "python",
   "pygments_lexer": "ipython3",
   "version": "3.7.10"
  },
  "papermill": {
   "default_parameters": {},
   "duration": 3051.761833,
   "end_time": "2021-07-21T16:04:14.904615",
   "environment_variables": {},
   "exception": null,
   "input_path": "__notebook__.ipynb",
   "output_path": "__notebook__.ipynb",
   "parameters": {},
   "start_time": "2021-07-21T15:13:23.142782",
   "version": "2.3.3"
  }
 },
 "nbformat": 4,
 "nbformat_minor": 5
}
