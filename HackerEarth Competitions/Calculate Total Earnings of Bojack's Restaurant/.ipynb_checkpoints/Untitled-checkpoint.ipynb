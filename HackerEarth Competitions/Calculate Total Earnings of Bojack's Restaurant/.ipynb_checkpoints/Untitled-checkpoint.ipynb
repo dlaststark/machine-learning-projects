{
 "cells": [
  {
   "cell_type": "code",
   "execution_count": 21,
   "metadata": {},
   "outputs": [],
   "source": [
    "import os\n",
    "import re\n",
    "from pdf2image import convert_from_path\n",
    "from tqdm import tqdm\n",
    "import PIL\n",
    "PIL.Image.MAX_IMAGE_PIXELS = None"
   ]
  },
  {
   "cell_type": "code",
   "execution_count": 10,
   "metadata": {},
   "outputs": [],
   "source": [
    "train_pdfs = \"Dataset/Train\"\n",
    "test_pdfs = \"Dataset/Test\"\n",
    "\n",
    "train_imgs = \"Dataset/Train_Images\"\n",
    "test_imgs = \"Dataset/Test_Images\""
   ]
  },
  {
   "cell_type": "code",
   "execution_count": 24,
   "metadata": {},
   "outputs": [],
   "source": [
    "def pdf2image(pdf_path, img_path):\n",
    "    \n",
    "    if not os.path.exists(img_path):\n",
    "        os.makedirs(img_path)\n",
    "    \n",
    "    pdf_list = sorted(os.listdir(pdf_path))\n",
    "    pdf_list.sort(key=lambda f: int(re.sub('\\D', '', f)))\n",
    "    \n",
    "    for pdf in tqdm(pdf_list):\n",
    "        src_file = os.path.join(pdf_path, pdf)\n",
    "        tgt_file = os.path.join(img_path, pdf.split('.')[0] + \".jpg\")\n",
    "        \n",
    "        pages = convert_from_path(src_file)\n",
    "        for page in pages:\n",
    "            page.save(tgt_file, 'JPEG')    "
   ]
  },
  {
   "cell_type": "code",
   "execution_count": 25,
   "metadata": {},
   "outputs": [
    {
     "name": "stderr",
     "output_type": "stream",
     "text": [
      "100%|██████████| 190/190 [03:25<00:00,  1.08s/it]\n"
     ]
    }
   ],
   "source": [
    "pdf2image(train_pdfs, train_imgs)"
   ]
  },
  {
   "cell_type": "code",
   "execution_count": null,
   "metadata": {},
   "outputs": [],
   "source": [
    "pdf2image(test_pdfs, test_imgs)"
   ]
  }
 ],
 "metadata": {
  "kernelspec": {
   "display_name": "Python 3",
   "language": "python",
   "name": "python3"
  },
  "language_info": {
   "codemirror_mode": {
    "name": "ipython",
    "version": 3
   },
   "file_extension": ".py",
   "mimetype": "text/x-python",
   "name": "python",
   "nbconvert_exporter": "python",
   "pygments_lexer": "ipython3",
   "version": "3.7.7"
  }
 },
 "nbformat": 4,
 "nbformat_minor": 4
}
