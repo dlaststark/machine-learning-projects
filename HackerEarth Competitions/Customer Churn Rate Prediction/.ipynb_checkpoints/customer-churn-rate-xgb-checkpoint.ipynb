{
 "cells": [
  {
   "cell_type": "markdown",
   "metadata": {
    "id": "uLz9OcH8SeET",
    "papermill": {
     "duration": 0.012231,
     "end_time": "2021-03-26T07:34:14.653657",
     "exception": false,
     "start_time": "2021-03-26T07:34:14.641426",
     "status": "completed"
    },
    "tags": []
   },
   "source": [
    "## Import libraries"
   ]
  },
  {
   "cell_type": "code",
   "execution_count": 1,
   "metadata": {
    "execution": {
     "iopub.execute_input": "2021-03-26T07:34:14.681065Z",
     "iopub.status.busy": "2021-03-26T07:34:14.680441Z",
     "iopub.status.idle": "2021-03-26T07:34:23.860230Z",
     "shell.execute_reply": "2021-03-26T07:34:23.858778Z"
    },
    "executionInfo": {
     "elapsed": 23727,
     "status": "ok",
     "timestamp": 1616326442041,
     "user": {
      "displayName": "TAPAS DAS",
      "photoUrl": "https://lh3.googleusercontent.com/a-/AOh14GiyffdGKiPCR_UwVittzTcbBFms70IkGfU15fatCA=s64",
      "userId": "10798398878324948542"
     },
     "user_tz": -330
    },
    "id": "E9svswc9SUuX",
    "papermill": {
     "duration": 9.195547,
     "end_time": "2021-03-26T07:34:23.860417",
     "exception": false,
     "start_time": "2021-03-26T07:34:14.664870",
     "status": "completed"
    },
    "tags": []
   },
   "outputs": [],
   "source": [
    "import gc\n",
    "import pickle\n",
    "import optuna\n",
    "import numpy as np\n",
    "import pandas as pd\n",
    "from xgboost import XGBClassifier\n",
    "from sklearn.metrics import f1_score\n",
    "from sklearn.model_selection import StratifiedKFold\n",
    "from tensorflow.keras.models import Model, load_model\n",
    "from tensorflow_addons.optimizers import AdamW, Lookahead"
   ]
  },
  {
   "cell_type": "markdown",
   "metadata": {
    "id": "iDv0VFRMS7z2",
    "papermill": {
     "duration": 0.011029,
     "end_time": "2021-03-26T07:34:23.883252",
     "exception": false,
     "start_time": "2021-03-26T07:34:23.872223",
     "status": "completed"
    },
    "tags": []
   },
   "source": [
    "## Load autoencoder model"
   ]
  },
  {
   "cell_type": "code",
   "execution_count": 2,
   "metadata": {
    "execution": {
     "iopub.execute_input": "2021-03-26T07:34:23.913528Z",
     "iopub.status.busy": "2021-03-26T07:34:23.913002Z",
     "iopub.status.idle": "2021-03-26T07:34:28.344704Z",
     "shell.execute_reply": "2021-03-26T07:34:28.345201Z"
    },
    "executionInfo": {
     "elapsed": 10377,
     "status": "ok",
     "timestamp": 1616146204698,
     "user": {
      "displayName": "TAPAS DAS",
      "photoUrl": "https://lh3.googleusercontent.com/a-/AOh14GiyffdGKiPCR_UwVittzTcbBFms70IkGfU15fatCA=s64",
      "userId": "10798398878324948542"
     },
     "user_tz": -330
    },
    "id": "w0IPQ0HLS-mk",
    "outputId": "45f6cc13-90f3-4992-9203-23ea39710d41",
    "papermill": {
     "duration": 4.450802,
     "end_time": "2021-03-26T07:34:28.345373",
     "exception": false,
     "start_time": "2021-03-26T07:34:23.894571",
     "status": "completed"
    },
    "tags": []
   },
   "outputs": [
    {
     "name": "stdout",
     "output_type": "stream",
     "text": [
      "Model: \"model\"\n",
      "__________________________________________________________________________________________________\n",
      "Layer (type)                    Output Shape         Param #     Connected to                     \n",
      "==================================================================================================\n",
      "Encoder-Input (InputLayer)      [(None, 142)]        0                                            \n",
      "__________________________________________________________________________________________________\n",
      "Encoder-Dense-1 (Dense)         (None, 128)          18304       Encoder-Input[0][0]              \n",
      "__________________________________________________________________________________________________\n",
      "Encoder-BatchNorm-1 (BatchNorma (None, 128)          512         Encoder-Dense-1[0][0]            \n",
      "__________________________________________________________________________________________________\n",
      "Encoder-Swish-1 (Activation)    (None, 128)          0           Encoder-BatchNorm-1[0][0]        \n",
      "__________________________________________________________________________________________________\n",
      "Encoder-Dense-2 (Dense)         (None, 96)           12384       Encoder-Swish-1[0][0]            \n",
      "__________________________________________________________________________________________________\n",
      "Encoder-BatchNorm-2 (BatchNorma (None, 96)           384         Encoder-Dense-2[0][0]            \n",
      "__________________________________________________________________________________________________\n",
      "Encoder-Swish-2 (Activation)    (None, 96)           0           Encoder-BatchNorm-2[0][0]        \n",
      "__________________________________________________________________________________________________\n",
      "Encoder-Dense-3 (Dense)         (None, 128)          12416       Encoder-Swish-2[0][0]            \n",
      "__________________________________________________________________________________________________\n",
      "Encoder-BatchNorm-3 (BatchNorma (None, 128)          512         Encoder-Dense-3[0][0]            \n",
      "__________________________________________________________________________________________________\n",
      "Encoder-Swish-3 (Activation)    (None, 128)          0           Encoder-BatchNorm-3[0][0]        \n",
      "__________________________________________________________________________________________________\n",
      "Encoder-Add-3 (Add)             (None, 128)          0           Encoder-Swish-1[0][0]            \n",
      "                                                                 Encoder-Swish-3[0][0]            \n",
      "__________________________________________________________________________________________________\n",
      "Embed-Dense (Dense)             (None, 64)           8256        Encoder-Add-3[0][0]              \n",
      "__________________________________________________________________________________________________\n",
      "Embed-BatchNorm (BatchNormaliza (None, 64)           256         Embed-Dense[0][0]                \n",
      "__________________________________________________________________________________________________\n",
      "Embedding (Activation)          (None, 64)           0           Embed-BatchNorm[0][0]            \n",
      "==================================================================================================\n",
      "Total params: 53,024\n",
      "Trainable params: 52,192\n",
      "Non-trainable params: 832\n",
      "__________________________________________________________________________________________________\n"
     ]
    }
   ],
   "source": [
    "autoencoder = load_model('../input/customer-churn-rate-dae/DAE_model.h5')\n",
    "feature_model = Model(inputs=autoencoder.input,\n",
    "                      outputs=autoencoder.get_layer('Embedding').output)\n",
    "feature_model.summary()"
   ]
  },
  {
   "cell_type": "markdown",
   "metadata": {
    "id": "hg85SpW-S6hl",
    "papermill": {
     "duration": 0.012494,
     "end_time": "2021-03-26T07:34:28.372998",
     "exception": false,
     "start_time": "2021-03-26T07:34:28.360504",
     "status": "completed"
    },
    "tags": []
   },
   "source": [
    "## Prepare data for model training"
   ]
  },
  {
   "cell_type": "code",
   "execution_count": 3,
   "metadata": {
    "execution": {
     "iopub.execute_input": "2021-03-26T07:34:28.401877Z",
     "iopub.status.busy": "2021-03-26T07:34:28.401326Z",
     "iopub.status.idle": "2021-03-26T07:34:29.490357Z",
     "shell.execute_reply": "2021-03-26T07:34:29.489435Z"
    },
    "executionInfo": {
     "elapsed": 10043,
     "status": "ok",
     "timestamp": 1616326444482,
     "user": {
      "displayName": "TAPAS DAS",
      "photoUrl": "https://lh3.googleusercontent.com/a-/AOh14GiyffdGKiPCR_UwVittzTcbBFms70IkGfU15fatCA=s64",
      "userId": "10798398878324948542"
     },
     "user_tz": -330
    },
    "id": "VdhgoIAmSUxK",
    "outputId": "7897cfad-c8d4-46d9-86ea-04de37e11444",
    "papermill": {
     "duration": 1.105094,
     "end_time": "2021-03-26T07:34:29.490486",
     "exception": false,
     "start_time": "2021-03-26T07:34:28.385392",
     "status": "completed"
    },
    "tags": []
   },
   "outputs": [
    {
     "data": {
      "text/plain": [
       "221"
      ]
     },
     "execution_count": 3,
     "metadata": {},
     "output_type": "execute_result"
    }
   ],
   "source": [
    "with open(\"../input/customer-churn-rate-preprocess-data/Churn_Risk_Rate_Dataset.txt\", 'rb') as handle: \n",
    "    data = handle.read()\n",
    "\n",
    "processed_data = pickle.loads(data)\n",
    "train_df = processed_data['train_df']\n",
    "test_df = processed_data['test_df']\n",
    "\n",
    "del processed_data\n",
    "gc.collect()"
   ]
  },
  {
   "cell_type": "code",
   "execution_count": 4,
   "metadata": {
    "execution": {
     "iopub.execute_input": "2021-03-26T07:34:29.529116Z",
     "iopub.status.busy": "2021-03-26T07:34:29.528587Z",
     "iopub.status.idle": "2021-03-26T07:34:30.154329Z",
     "shell.execute_reply": "2021-03-26T07:34:30.154934Z"
    },
    "executionInfo": {
     "elapsed": 2199,
     "status": "ok",
     "timestamp": 1616326521567,
     "user": {
      "displayName": "TAPAS DAS",
      "photoUrl": "https://lh3.googleusercontent.com/a-/AOh14GiyffdGKiPCR_UwVittzTcbBFms70IkGfU15fatCA=s64",
      "userId": "10798398878324948542"
     },
     "user_tz": -330
    },
    "id": "kX_wj8gESUz3",
    "papermill": {
     "duration": 0.652111,
     "end_time": "2021-03-26T07:34:30.155129",
     "exception": false,
     "start_time": "2021-03-26T07:34:29.503018",
     "status": "completed"
    },
    "tags": []
   },
   "outputs": [
    {
     "name": "stdout",
     "output_type": "stream",
     "text": [
      "train_df: (36987, 143)\n",
      "test_df: (19919, 142)\n"
     ]
    }
   ],
   "source": [
    "cat_cols = ['region_category','membership_category','preferred_offer_types','internet_option',\n",
    "            'complaint_status','feedback','age_category','joining_dt_year','time_category',\n",
    "            'complaint_category','feedback_category','last_login_category']\n",
    "\n",
    "for col in cat_cols:\n",
    "    dummy_val = pd.get_dummies(train_df[col], prefix='col')\n",
    "    train_df = pd.concat([train_df, dummy_val], axis=1)\n",
    "    train_df.drop([col], inplace=True, axis=1)\n",
    "\n",
    "print(\"train_df: {}\".format(train_df.shape))\n",
    "\n",
    "for col in cat_cols:\n",
    "    dummy_val = pd.get_dummies(test_df[col], prefix='col')\n",
    "    test_df = pd.concat([test_df, dummy_val], axis=1)\n",
    "    test_df.drop([col], inplace=True, axis=1)\n",
    "\n",
    "print(\"test_df: {}\".format(test_df.shape))"
   ]
  },
  {
   "cell_type": "code",
   "execution_count": 5,
   "metadata": {
    "execution": {
     "iopub.execute_input": "2021-03-26T07:34:30.193090Z",
     "iopub.status.busy": "2021-03-26T07:34:30.192406Z",
     "iopub.status.idle": "2021-03-26T07:34:33.119960Z",
     "shell.execute_reply": "2021-03-26T07:34:33.119502Z"
    },
    "papermill": {
     "duration": 2.951332,
     "end_time": "2021-03-26T07:34:33.120087",
     "exception": false,
     "start_time": "2021-03-26T07:34:30.168755",
     "status": "completed"
    },
    "tags": []
   },
   "outputs": [
    {
     "name": "stdout",
     "output_type": "stream",
     "text": [
      "Xtrain_embed_df: (36987, 64) \n",
      "Xtest_embed_df: (19919, 64)\n",
      "train_df: (36987, 207) \n",
      "test_df: (19919, 206)\n"
     ]
    },
    {
     "data": {
      "text/plain": [
       "1393"
      ]
     },
     "execution_count": 5,
     "metadata": {},
     "output_type": "execute_result"
    }
   ],
   "source": [
    "Xtrain_embed = feature_model.predict(train_df.loc[:, train_df.columns != 'churn_risk_score'].values)\n",
    "Xtest_embed = feature_model.predict(test_df.values)\n",
    "Xtrain_embed_df = pd.DataFrame(Xtrain_embed, index=train_df.index)\n",
    "Xtest_embed_df = pd.DataFrame(Xtest_embed, index=test_df.index)\n",
    "print(\"Xtrain_embed_df: {} \\nXtest_embed_df: {}\".format(Xtrain_embed_df.shape, Xtest_embed_df.shape))\n",
    "\n",
    "train_df = pd.merge(train_df, Xtrain_embed_df, on='customer_id', sort=False)\n",
    "test_df = pd.merge(test_df, Xtest_embed_df, on='customer_id', sort=False)\n",
    "print(\"train_df: {} \\ntest_df: {}\".format(train_df.shape, test_df.shape))\n",
    "\n",
    "del Xtrain_embed\n",
    "del Xtest_embed\n",
    "del Xtrain_embed_df\n",
    "del Xtest_embed_df\n",
    "gc.collect()"
   ]
  },
  {
   "cell_type": "code",
   "execution_count": 6,
   "metadata": {
    "execution": {
     "iopub.execute_input": "2021-03-26T07:34:33.172298Z",
     "iopub.status.busy": "2021-03-26T07:34:33.158268Z",
     "iopub.status.idle": "2021-03-26T07:34:33.184988Z",
     "shell.execute_reply": "2021-03-26T07:34:33.185381Z"
    },
    "papermill": {
     "duration": 0.050987,
     "end_time": "2021-03-26T07:34:33.185522",
     "exception": false,
     "start_time": "2021-03-26T07:34:33.134535",
     "status": "completed"
    },
    "tags": []
   },
   "outputs": [
    {
     "data": {
      "text/html": [
       "<div>\n",
       "<style scoped>\n",
       "    .dataframe tbody tr th:only-of-type {\n",
       "        vertical-align: middle;\n",
       "    }\n",
       "\n",
       "    .dataframe tbody tr th {\n",
       "        vertical-align: top;\n",
       "    }\n",
       "\n",
       "    .dataframe thead th {\n",
       "        text-align: right;\n",
       "    }\n",
       "</style>\n",
       "<table border=\"1\" class=\"dataframe\">\n",
       "  <thead>\n",
       "    <tr style=\"text-align: right;\">\n",
       "      <th></th>\n",
       "      <th>churn_risk_score</th>\n",
       "      <th>count</th>\n",
       "    </tr>\n",
       "  </thead>\n",
       "  <tbody>\n",
       "    <tr>\n",
       "      <th>0</th>\n",
       "      <td>0</td>\n",
       "      <td>9825</td>\n",
       "    </tr>\n",
       "    <tr>\n",
       "      <th>1</th>\n",
       "      <td>1</td>\n",
       "      <td>3815</td>\n",
       "    </tr>\n",
       "    <tr>\n",
       "      <th>2</th>\n",
       "      <td>2</td>\n",
       "      <td>2741</td>\n",
       "    </tr>\n",
       "    <tr>\n",
       "      <th>3</th>\n",
       "      <td>3</td>\n",
       "      <td>10422</td>\n",
       "    </tr>\n",
       "    <tr>\n",
       "      <th>4</th>\n",
       "      <td>4</td>\n",
       "      <td>10184</td>\n",
       "    </tr>\n",
       "  </tbody>\n",
       "</table>\n",
       "</div>"
      ],
      "text/plain": [
       "   churn_risk_score  count\n",
       "0                 0   9825\n",
       "1                 1   3815\n",
       "2                 2   2741\n",
       "3                 3  10422\n",
       "4                 4  10184"
      ]
     },
     "execution_count": 6,
     "metadata": {},
     "output_type": "execute_result"
    }
   ],
   "source": [
    "train_df['churn_risk_score'] = train_df['churn_risk_score'].apply(lambda x: 0 if x==5 else 1 if x==-1 else x)\n",
    "train_df.groupby(['churn_risk_score']).size().reset_index().rename(columns={0:'count'})"
   ]
  },
  {
   "cell_type": "code",
   "execution_count": 7,
   "metadata": {
    "execution": {
     "iopub.execute_input": "2021-03-26T07:34:33.224825Z",
     "iopub.status.busy": "2021-03-26T07:34:33.223364Z",
     "iopub.status.idle": "2021-03-26T07:34:33.254149Z",
     "shell.execute_reply": "2021-03-26T07:34:33.253714Z"
    },
    "executionInfo": {
     "elapsed": 2058,
     "status": "ok",
     "timestamp": 1616326525321,
     "user": {
      "displayName": "TAPAS DAS",
      "photoUrl": "https://lh3.googleusercontent.com/a-/AOh14GiyffdGKiPCR_UwVittzTcbBFms70IkGfU15fatCA=s64",
      "userId": "10798398878324948542"
     },
     "user_tz": -330
    },
    "id": "UAfyHbeASU7C",
    "outputId": "14c429a7-7b43-4065-afae-da7d4f6679a9",
    "papermill": {
     "duration": 0.055324,
     "end_time": "2021-03-26T07:34:33.254274",
     "exception": false,
     "start_time": "2021-03-26T07:34:33.198950",
     "status": "completed"
    },
    "tags": []
   },
   "outputs": [
    {
     "name": "stdout",
     "output_type": "stream",
     "text": [
      "Xtrain: (36987, 206) \n",
      "Ytrain: (36987,) \n",
      "Xtest: (19919, 206)\n"
     ]
    }
   ],
   "source": [
    "Xtrain = train_df.loc[:, train_df.columns != 'churn_risk_score'].values\n",
    "Ytrain = train_df['churn_risk_score'].values\n",
    "Xtest = test_df.values\n",
    "\n",
    "print(\"Xtrain: {} \\nYtrain: {} \\nXtest: {}\".format(Xtrain.shape, Ytrain.shape, Xtest.shape))"
   ]
  },
  {
   "cell_type": "markdown",
   "metadata": {
    "id": "xpiNySOqUcHd",
    "papermill": {
     "duration": 0.01368,
     "end_time": "2021-03-26T07:34:33.282049",
     "exception": false,
     "start_time": "2021-03-26T07:34:33.268369",
     "status": "completed"
    },
    "tags": []
   },
   "source": [
    "## Hyperparameters search using Optuna"
   ]
  },
  {
   "cell_type": "code",
   "execution_count": 8,
   "metadata": {
    "execution": {
     "iopub.execute_input": "2021-03-26T07:34:33.314650Z",
     "iopub.status.busy": "2021-03-26T07:34:33.314145Z",
     "iopub.status.idle": "2021-03-26T07:34:33.319636Z",
     "shell.execute_reply": "2021-03-26T07:34:33.320011Z"
    },
    "id": "uhoBIFXtSU80",
    "papermill": {
     "duration": 0.024254,
     "end_time": "2021-03-26T07:34:33.320129",
     "exception": false,
     "start_time": "2021-03-26T07:34:33.295875",
     "status": "completed"
    },
    "tags": []
   },
   "outputs": [
    {
     "data": {
      "text/plain": [
       "'\\ndef objective(trial):\\n\\n    kfold = StratifiedKFold(n_splits=5, shuffle=True, random_state=0)\\n    counter = 0\\n    oof_score = 0\\n\\n    for train, val in kfold.split(Xtrain, Ytrain):\\n        counter += 1\\n\\n        train_x, train_y = Xtrain[train], Ytrain[train]\\n        val_x, val_y = Xtrain[val], Ytrain[val]\\n\\n        model = XGBClassifier(\\n            objective=\\'multi:softmax\\',\\n            eval_metric=\\'mlogloss\\',\\n            booster=\\'gbtree\\',\\n            sample_type=\\'uniform\\',\\n            tree_method=\\'gpu_hist\\',\\n            grow_policy=\\'lossguide\\',\\n            use_label_encoder=False,\\n            num_round=5000,\\n            num_class=5,\\n            max_depth=trial.suggest_int(\"max_depth\", 7, 15), \\n            max_leaves=trial.suggest_int(\"max_leaves\", 45, 2000),\\n            learning_rate=0.05,\\n            subsample=trial.suggest_uniform(\"subsample\", 0.5, 1.0),\\n            colsample_bytree=trial.suggest_uniform(\"colsample_bytree\", 0.5, 1.0),\\n            min_child_weight=trial.suggest_int(\"min_child_weight\", 1, 15),\\n            reg_lambda=trial.suggest_loguniform(\"reg_lambda\", 1e-4, 1.0),\\n            verbosity=0\\n        )\\n\\n        model.fit(train_x, train_y, eval_set=[(val_x, val_y)], \\n                  early_stopping_rounds=200, verbose=False)\\n        y_pred = model.predict(val_x, ntree_limit=model.best_ntree_limit)\\n        oof_score += 100 * f1_score(val_y, y_pred, average=\\'macro\\')\\n        \\n        del model\\n        del y_pred\\n        gc.collect()\\n    \\n    oof_score /= float(counter)\\n    return oof_score\\n'"
      ]
     },
     "execution_count": 8,
     "metadata": {},
     "output_type": "execute_result"
    }
   ],
   "source": [
    "'''\n",
    "def objective(trial):\n",
    "\n",
    "    kfold = StratifiedKFold(n_splits=5, shuffle=True, random_state=0)\n",
    "    counter = 0\n",
    "    oof_score = 0\n",
    "\n",
    "    for train, val in kfold.split(Xtrain, Ytrain):\n",
    "        counter += 1\n",
    "\n",
    "        train_x, train_y = Xtrain[train], Ytrain[train]\n",
    "        val_x, val_y = Xtrain[val], Ytrain[val]\n",
    "\n",
    "        model = XGBClassifier(\n",
    "            objective='multi:softmax',\n",
    "            eval_metric='mlogloss',\n",
    "            booster='gbtree',\n",
    "            sample_type='uniform',\n",
    "            tree_method='gpu_hist',\n",
    "            grow_policy='lossguide',\n",
    "            use_label_encoder=False,\n",
    "            num_round=5000,\n",
    "            num_class=5,\n",
    "            max_depth=trial.suggest_int(\"max_depth\", 7, 15), \n",
    "            max_leaves=trial.suggest_int(\"max_leaves\", 45, 2000),\n",
    "            learning_rate=0.05,\n",
    "            subsample=trial.suggest_uniform(\"subsample\", 0.5, 1.0),\n",
    "            colsample_bytree=trial.suggest_uniform(\"colsample_bytree\", 0.5, 1.0),\n",
    "            min_child_weight=trial.suggest_int(\"min_child_weight\", 1, 15),\n",
    "            reg_lambda=trial.suggest_loguniform(\"reg_lambda\", 1e-4, 1.0),\n",
    "            verbosity=0\n",
    "        )\n",
    "\n",
    "        model.fit(train_x, train_y, eval_set=[(val_x, val_y)], \n",
    "                  early_stopping_rounds=200, verbose=False)\n",
    "        y_pred = model.predict(val_x, ntree_limit=model.best_ntree_limit)\n",
    "        oof_score += 100 * f1_score(val_y, y_pred, average='macro')\n",
    "        \n",
    "        del model\n",
    "        del y_pred\n",
    "        gc.collect()\n",
    "    \n",
    "    oof_score /= float(counter)\n",
    "    return oof_score\n",
    "'''"
   ]
  },
  {
   "cell_type": "code",
   "execution_count": 9,
   "metadata": {
    "execution": {
     "iopub.execute_input": "2021-03-26T07:34:33.352064Z",
     "iopub.status.busy": "2021-03-26T07:34:33.351533Z",
     "iopub.status.idle": "2021-03-26T07:34:33.357161Z",
     "shell.execute_reply": "2021-03-26T07:34:33.356744Z"
    },
    "executionInfo": {
     "elapsed": 2638606,
     "status": "error",
     "timestamp": 1616171907645,
     "user": {
      "displayName": "TAPAS DAS",
      "photoUrl": "https://lh3.googleusercontent.com/a-/AOh14GiyffdGKiPCR_UwVittzTcbBFms70IkGfU15fatCA=s64",
      "userId": "10798398878324948542"
     },
     "user_tz": -330
    },
    "id": "9GjR1u1_SU-a",
    "outputId": "db975070-a48c-48a7-a083-229bbf02fe8d",
    "papermill": {
     "duration": 0.023036,
     "end_time": "2021-03-26T07:34:33.357264",
     "exception": false,
     "start_time": "2021-03-26T07:34:33.334228",
     "status": "completed"
    },
    "tags": []
   },
   "outputs": [
    {
     "data": {
      "text/plain": [
       "\"\\nstudy = optuna.create_study(direction='maximize')\\nstudy.optimize(objective, n_trials=100)\\n\""
      ]
     },
     "execution_count": 9,
     "metadata": {},
     "output_type": "execute_result"
    }
   ],
   "source": [
    "'''\n",
    "study = optuna.create_study(direction='maximize')\n",
    "study.optimize(objective, n_trials=100)\n",
    "'''"
   ]
  },
  {
   "cell_type": "code",
   "execution_count": 10,
   "metadata": {
    "execution": {
     "iopub.execute_input": "2021-03-26T07:34:33.389865Z",
     "iopub.status.busy": "2021-03-26T07:34:33.389340Z",
     "iopub.status.idle": "2021-03-26T07:34:33.394658Z",
     "shell.execute_reply": "2021-03-26T07:34:33.394239Z"
    },
    "executionInfo": {
     "elapsed": 984,
     "status": "ok",
     "timestamp": 1616171909309,
     "user": {
      "displayName": "TAPAS DAS",
      "photoUrl": "https://lh3.googleusercontent.com/a-/AOh14GiyffdGKiPCR_UwVittzTcbBFms70IkGfU15fatCA=s64",
      "userId": "10798398878324948542"
     },
     "user_tz": -330
    },
    "id": "BlABOYHXSU_1",
    "outputId": "e936410a-fd0e-4df5-ec07-f642cdb5597d",
    "papermill": {
     "duration": 0.022899,
     "end_time": "2021-03-26T07:34:33.394755",
     "exception": false,
     "start_time": "2021-03-26T07:34:33.371856",
     "status": "completed"
    },
    "tags": []
   },
   "outputs": [
    {
     "data": {
      "text/plain": [
       "'\\nprint(\"Number of finished trials: {}\".format(len(study.trials)))\\n\\nprint(\"Best trial:\")\\ntrial = study.best_trial\\n\\nprint(\"Value: {}\".format(trial.value))\\n\\nprint(\"Params: \")\\nfor key, value in trial.params.items():\\n    print(\" {}: {}\".format(key, value))\\n'"
      ]
     },
     "execution_count": 10,
     "metadata": {},
     "output_type": "execute_result"
    }
   ],
   "source": [
    "'''\n",
    "print(\"Number of finished trials: {}\".format(len(study.trials)))\n",
    "\n",
    "print(\"Best trial:\")\n",
    "trial = study.best_trial\n",
    "\n",
    "print(\"Value: {}\".format(trial.value))\n",
    "\n",
    "print(\"Params: \")\n",
    "for key, value in trial.params.items():\n",
    "    print(\" {}: {}\".format(key, value))\n",
    "'''"
   ]
  },
  {
   "cell_type": "markdown",
   "metadata": {
    "id": "9wNC5rWEVnjd",
    "papermill": {
     "duration": 0.014777,
     "end_time": "2021-03-26T07:34:33.424833",
     "exception": false,
     "start_time": "2021-03-26T07:34:33.410056",
     "status": "completed"
    },
    "tags": []
   },
   "source": [
    "## Build and validate the model"
   ]
  },
  {
   "cell_type": "code",
   "execution_count": 11,
   "metadata": {
    "execution": {
     "iopub.execute_input": "2021-03-26T07:34:33.461267Z",
     "iopub.status.busy": "2021-03-26T07:34:33.459967Z",
     "iopub.status.idle": "2021-03-26T07:34:33.462267Z",
     "shell.execute_reply": "2021-03-26T07:34:33.462744Z"
    },
    "papermill": {
     "duration": 0.023094,
     "end_time": "2021-03-26T07:34:33.462874",
     "exception": false,
     "start_time": "2021-03-26T07:34:33.439780",
     "status": "completed"
    },
    "tags": []
   },
   "outputs": [],
   "source": [
    "def BalancedSampleWeights(y_train, class_weight_coef):\n",
    "    classes = np.unique(y_train, axis=0)\n",
    "    classes.sort()\n",
    "    class_samples = np.bincount(y_train)\n",
    "    total_samples = class_samples.sum()\n",
    "    n_classes = len(class_samples)\n",
    "    weights = total_samples / (n_classes * class_samples * 1.0)\n",
    "    class_weight_dict = {key : value for (key, value) in zip(classes, weights)}\n",
    "    class_weight_dict[classes[1]] = class_weight_dict[classes[1]] * class_weight_coef\n",
    "    sample_weights = [class_weight_dict[i] for i in y_train]\n",
    "    return sample_weights"
   ]
  },
  {
   "cell_type": "code",
   "execution_count": 12,
   "metadata": {
    "execution": {
     "iopub.execute_input": "2021-03-26T07:34:33.506186Z",
     "iopub.status.busy": "2021-03-26T07:34:33.505494Z",
     "iopub.status.idle": "2021-03-26T07:49:57.981142Z",
     "shell.execute_reply": "2021-03-26T07:49:57.981953Z"
    },
    "id": "uWPosEORSVBp",
    "outputId": "d70ac047-a86b-4f36-84cc-960b1b5316be",
    "papermill": {
     "duration": 924.504235,
     "end_time": "2021-03-26T07:49:57.982175",
     "exception": false,
     "start_time": "2021-03-26T07:34:33.477940",
     "status": "completed"
    },
    "tags": []
   },
   "outputs": [
    {
     "name": "stdout",
     "output_type": "stream",
     "text": [
      "[0]\tvalidation_0-mlogloss:1.52290\tvalidation_1-mlogloss:1.53101\n",
      "[50]\tvalidation_0-mlogloss:0.36678\tvalidation_1-mlogloss:0.58002\n",
      "[99]\tvalidation_0-mlogloss:0.19711\tvalidation_1-mlogloss:0.51944\n",
      "Seed-24 | Fold-0 | OOF Score: 70.55235857625337\n",
      "[0]\tvalidation_0-mlogloss:1.52378\tvalidation_1-mlogloss:1.53100\n",
      "[50]\tvalidation_0-mlogloss:0.36753\tvalidation_1-mlogloss:0.58102\n",
      "[99]\tvalidation_0-mlogloss:0.19726\tvalidation_1-mlogloss:0.52532\n",
      "Seed-24 | Fold-1 | OOF Score: 72.08929182433923\n",
      "[0]\tvalidation_0-mlogloss:1.52382\tvalidation_1-mlogloss:1.53041\n",
      "[50]\tvalidation_0-mlogloss:0.36698\tvalidation_1-mlogloss:0.56842\n",
      "[99]\tvalidation_0-mlogloss:0.19736\tvalidation_1-mlogloss:0.50812\n",
      "Seed-24 | Fold-2 | OOF Score: 71.73089398583204\n",
      "[0]\tvalidation_0-mlogloss:1.52379\tvalidation_1-mlogloss:1.53007\n",
      "[50]\tvalidation_0-mlogloss:0.36937\tvalidation_1-mlogloss:0.57217\n",
      "[99]\tvalidation_0-mlogloss:0.19907\tvalidation_1-mlogloss:0.51155\n",
      "Seed-24 | Fold-3 | OOF Score: 72.07481541249514\n",
      "[0]\tvalidation_0-mlogloss:1.52349\tvalidation_1-mlogloss:1.53107\n",
      "[50]\tvalidation_0-mlogloss:0.36777\tvalidation_1-mlogloss:0.57418\n",
      "[99]\tvalidation_0-mlogloss:0.19763\tvalidation_1-mlogloss:0.51465\n",
      "Seed-24 | Fold-4 | OOF Score: 71.83725338835242\n",
      "[0]\tvalidation_0-mlogloss:1.52325\tvalidation_1-mlogloss:1.53122\n",
      "[50]\tvalidation_0-mlogloss:0.36591\tvalidation_1-mlogloss:0.57166\n",
      "[99]\tvalidation_0-mlogloss:0.19366\tvalidation_1-mlogloss:0.50738\n",
      "Seed-24 | Fold-5 | OOF Score: 71.84274297730389\n",
      "[0]\tvalidation_0-mlogloss:1.52396\tvalidation_1-mlogloss:1.53180\n",
      "[50]\tvalidation_0-mlogloss:0.36749\tvalidation_1-mlogloss:0.58234\n",
      "[99]\tvalidation_0-mlogloss:0.19973\tvalidation_1-mlogloss:0.52156\n",
      "Seed-24 | Fold-6 | OOF Score: 71.3024235255325\n",
      "\n",
      "Seed: 24 | Aggregate OOF Score: 71.6328256700155\n",
      "\n",
      "\n",
      "[0]\tvalidation_0-mlogloss:1.52427\tvalidation_1-mlogloss:1.53058\n",
      "[50]\tvalidation_0-mlogloss:0.36830\tvalidation_1-mlogloss:0.56208\n",
      "[99]\tvalidation_0-mlogloss:0.19916\tvalidation_1-mlogloss:0.50102\n",
      "Seed-3 | Fold-0 | OOF Score: 73.13404821035859\n",
      "[0]\tvalidation_0-mlogloss:1.52316\tvalidation_1-mlogloss:1.52994\n",
      "[50]\tvalidation_0-mlogloss:0.36963\tvalidation_1-mlogloss:0.55956\n",
      "[99]\tvalidation_0-mlogloss:0.19973\tvalidation_1-mlogloss:0.49843\n",
      "Seed-3 | Fold-1 | OOF Score: 71.55348703179445\n",
      "[0]\tvalidation_0-mlogloss:1.52310\tvalidation_1-mlogloss:1.53141\n",
      "[50]\tvalidation_0-mlogloss:0.36304\tvalidation_1-mlogloss:0.58130\n",
      "[99]\tvalidation_0-mlogloss:0.19497\tvalidation_1-mlogloss:0.52434\n",
      "Seed-3 | Fold-2 | OOF Score: 71.81694797726145\n",
      "[0]\tvalidation_0-mlogloss:1.52367\tvalidation_1-mlogloss:1.53074\n",
      "[50]\tvalidation_0-mlogloss:0.36873\tvalidation_1-mlogloss:0.57104\n",
      "[99]\tvalidation_0-mlogloss:0.19922\tvalidation_1-mlogloss:0.51204\n",
      "Seed-3 | Fold-3 | OOF Score: 72.1012593426736\n",
      "[0]\tvalidation_0-mlogloss:1.52354\tvalidation_1-mlogloss:1.53154\n",
      "[50]\tvalidation_0-mlogloss:0.36453\tvalidation_1-mlogloss:0.58936\n",
      "[99]\tvalidation_0-mlogloss:0.19602\tvalidation_1-mlogloss:0.52780\n",
      "Seed-3 | Fold-4 | OOF Score: 71.19973395677968\n",
      "[0]\tvalidation_0-mlogloss:1.52418\tvalidation_1-mlogloss:1.53100\n",
      "[50]\tvalidation_0-mlogloss:0.36884\tvalidation_1-mlogloss:0.57647\n",
      "[99]\tvalidation_0-mlogloss:0.20026\tvalidation_1-mlogloss:0.51945\n",
      "Seed-3 | Fold-5 | OOF Score: 71.1033228810693\n",
      "[0]\tvalidation_0-mlogloss:1.52309\tvalidation_1-mlogloss:1.53153\n",
      "[50]\tvalidation_0-mlogloss:0.36984\tvalidation_1-mlogloss:0.58096\n",
      "[99]\tvalidation_0-mlogloss:0.19809\tvalidation_1-mlogloss:0.52233\n",
      "Seed-3 | Fold-6 | OOF Score: 71.11230249926518\n",
      "\n",
      "Seed: 3 | Aggregate OOF Score: 71.7173002713146\n",
      "\n",
      "\n",
      "[0]\tvalidation_0-mlogloss:1.52354\tvalidation_1-mlogloss:1.53097\n",
      "[50]\tvalidation_0-mlogloss:0.36564\tvalidation_1-mlogloss:0.57433\n",
      "[99]\tvalidation_0-mlogloss:0.19729\tvalidation_1-mlogloss:0.51658\n",
      "Seed-56 | Fold-0 | OOF Score: 72.74211287549389\n",
      "[0]\tvalidation_0-mlogloss:1.52340\tvalidation_1-mlogloss:1.53156\n",
      "[50]\tvalidation_0-mlogloss:0.36982\tvalidation_1-mlogloss:0.58341\n",
      "[99]\tvalidation_0-mlogloss:0.20018\tvalidation_1-mlogloss:0.52582\n",
      "Seed-56 | Fold-1 | OOF Score: 71.18392359929156\n",
      "[0]\tvalidation_0-mlogloss:1.52359\tvalidation_1-mlogloss:1.53142\n",
      "[50]\tvalidation_0-mlogloss:0.36738\tvalidation_1-mlogloss:0.58351\n",
      "[99]\tvalidation_0-mlogloss:0.19552\tvalidation_1-mlogloss:0.52308\n",
      "Seed-56 | Fold-2 | OOF Score: 71.49967257340735\n",
      "[0]\tvalidation_0-mlogloss:1.52288\tvalidation_1-mlogloss:1.53154\n",
      "[50]\tvalidation_0-mlogloss:0.36498\tvalidation_1-mlogloss:0.58357\n",
      "[99]\tvalidation_0-mlogloss:0.19767\tvalidation_1-mlogloss:0.52490\n",
      "Seed-56 | Fold-3 | OOF Score: 71.24237420881695\n",
      "[0]\tvalidation_0-mlogloss:1.52324\tvalidation_1-mlogloss:1.53018\n",
      "[50]\tvalidation_0-mlogloss:0.36552\tvalidation_1-mlogloss:0.57126\n",
      "[99]\tvalidation_0-mlogloss:0.19696\tvalidation_1-mlogloss:0.51161\n",
      "Seed-56 | Fold-4 | OOF Score: 72.3346468950392\n",
      "[0]\tvalidation_0-mlogloss:1.52413\tvalidation_1-mlogloss:1.53062\n",
      "[50]\tvalidation_0-mlogloss:0.36677\tvalidation_1-mlogloss:0.56463\n",
      "[99]\tvalidation_0-mlogloss:0.19684\tvalidation_1-mlogloss:0.50357\n",
      "Seed-56 | Fold-5 | OOF Score: 72.16380790313524\n",
      "[0]\tvalidation_0-mlogloss:1.52367\tvalidation_1-mlogloss:1.53104\n",
      "[50]\tvalidation_0-mlogloss:0.36897\tvalidation_1-mlogloss:0.57129\n",
      "[99]\tvalidation_0-mlogloss:0.19854\tvalidation_1-mlogloss:0.51021\n",
      "Seed-56 | Fold-6 | OOF Score: 71.08393587072797\n",
      "\n",
      "Seed: 56 | Aggregate OOF Score: 71.75006770370173\n",
      "\n",
      "\n",
      "[0]\tvalidation_0-mlogloss:1.52413\tvalidation_1-mlogloss:1.53148\n",
      "[50]\tvalidation_0-mlogloss:0.36390\tvalidation_1-mlogloss:0.57671\n",
      "[99]\tvalidation_0-mlogloss:0.19381\tvalidation_1-mlogloss:0.51567\n",
      "Seed-72 | Fold-0 | OOF Score: 70.83187463741346\n",
      "[0]\tvalidation_0-mlogloss:1.52409\tvalidation_1-mlogloss:1.53128\n",
      "[50]\tvalidation_0-mlogloss:0.36679\tvalidation_1-mlogloss:0.58422\n",
      "[99]\tvalidation_0-mlogloss:0.19709\tvalidation_1-mlogloss:0.52490\n",
      "Seed-72 | Fold-1 | OOF Score: 70.27620727083072\n",
      "[0]\tvalidation_0-mlogloss:1.52377\tvalidation_1-mlogloss:1.53170\n",
      "[50]\tvalidation_0-mlogloss:0.36589\tvalidation_1-mlogloss:0.57811\n",
      "[99]\tvalidation_0-mlogloss:0.19882\tvalidation_1-mlogloss:0.51971\n",
      "Seed-72 | Fold-2 | OOF Score: 71.80611695106145\n",
      "[0]\tvalidation_0-mlogloss:1.52360\tvalidation_1-mlogloss:1.53062\n",
      "[50]\tvalidation_0-mlogloss:0.36639\tvalidation_1-mlogloss:0.57897\n",
      "[99]\tvalidation_0-mlogloss:0.19775\tvalidation_1-mlogloss:0.51855\n",
      "Seed-72 | Fold-3 | OOF Score: 71.1642185551937\n",
      "[0]\tvalidation_0-mlogloss:1.52374\tvalidation_1-mlogloss:1.53085\n",
      "[50]\tvalidation_0-mlogloss:0.36678\tvalidation_1-mlogloss:0.57476\n",
      "[99]\tvalidation_0-mlogloss:0.19813\tvalidation_1-mlogloss:0.51499\n",
      "Seed-72 | Fold-4 | OOF Score: 71.19391100845868\n",
      "[0]\tvalidation_0-mlogloss:1.52380\tvalidation_1-mlogloss:1.53116\n",
      "[50]\tvalidation_0-mlogloss:0.36719\tvalidation_1-mlogloss:0.57734\n",
      "[99]\tvalidation_0-mlogloss:0.19815\tvalidation_1-mlogloss:0.51838\n",
      "Seed-72 | Fold-5 | OOF Score: 71.5997548868445\n",
      "[0]\tvalidation_0-mlogloss:1.52400\tvalidation_1-mlogloss:1.53115\n",
      "[50]\tvalidation_0-mlogloss:0.36799\tvalidation_1-mlogloss:0.56761\n",
      "[99]\tvalidation_0-mlogloss:0.19995\tvalidation_1-mlogloss:0.50658\n",
      "Seed-72 | Fold-6 | OOF Score: 72.84276900310523\n",
      "\n",
      "Seed: 72 | Aggregate OOF Score: 71.3878360447011\n",
      "\n",
      "\n",
      "[0]\tvalidation_0-mlogloss:1.52386\tvalidation_1-mlogloss:1.53168\n",
      "[50]\tvalidation_0-mlogloss:0.36601\tvalidation_1-mlogloss:0.58307\n",
      "[99]\tvalidation_0-mlogloss:0.19636\tvalidation_1-mlogloss:0.52678\n",
      "Seed-0 | Fold-0 | OOF Score: 69.98942042133169\n",
      "[0]\tvalidation_0-mlogloss:1.52320\tvalidation_1-mlogloss:1.53073\n",
      "[50]\tvalidation_0-mlogloss:0.36736\tvalidation_1-mlogloss:0.57687\n",
      "[99]\tvalidation_0-mlogloss:0.19703\tvalidation_1-mlogloss:0.51634\n",
      "Seed-0 | Fold-1 | OOF Score: 70.3136469755277\n",
      "[0]\tvalidation_0-mlogloss:1.52322\tvalidation_1-mlogloss:1.53118\n",
      "[50]\tvalidation_0-mlogloss:0.36493\tvalidation_1-mlogloss:0.57873\n",
      "[99]\tvalidation_0-mlogloss:0.19659\tvalidation_1-mlogloss:0.51879\n",
      "Seed-0 | Fold-2 | OOF Score: 71.00329191217446\n",
      "[0]\tvalidation_0-mlogloss:1.52392\tvalidation_1-mlogloss:1.53026\n",
      "[50]\tvalidation_0-mlogloss:0.36874\tvalidation_1-mlogloss:0.56681\n",
      "[99]\tvalidation_0-mlogloss:0.20020\tvalidation_1-mlogloss:0.50499\n",
      "Seed-0 | Fold-3 | OOF Score: 73.03026989697443\n",
      "[0]\tvalidation_0-mlogloss:1.52317\tvalidation_1-mlogloss:1.53035\n",
      "[50]\tvalidation_0-mlogloss:0.36890\tvalidation_1-mlogloss:0.56685\n",
      "[99]\tvalidation_0-mlogloss:0.19591\tvalidation_1-mlogloss:0.50650\n",
      "Seed-0 | Fold-4 | OOF Score: 72.21156504931032\n",
      "[0]\tvalidation_0-mlogloss:1.52315\tvalidation_1-mlogloss:1.52990\n",
      "[50]\tvalidation_0-mlogloss:0.36443\tvalidation_1-mlogloss:0.57523\n",
      "[99]\tvalidation_0-mlogloss:0.19821\tvalidation_1-mlogloss:0.51506\n",
      "Seed-0 | Fold-5 | OOF Score: 70.93797135019318\n",
      "[0]\tvalidation_0-mlogloss:1.52243\tvalidation_1-mlogloss:1.53083\n",
      "[50]\tvalidation_0-mlogloss:0.36514\tvalidation_1-mlogloss:0.58408\n",
      "[99]\tvalidation_0-mlogloss:0.19610\tvalidation_1-mlogloss:0.52812\n",
      "Seed-0 | Fold-6 | OOF Score: 71.6255465842691\n",
      "\n",
      "Seed: 0 | Aggregate OOF Score: 71.30167316996871\n",
      "\n",
      "\n",
      "Aggregate OOF Score: 71.55794057194034\n"
     ]
    }
   ],
   "source": [
    "FOLD = 7\n",
    "NUM_SEED = 5\n",
    "\n",
    "np.random.seed(3)\n",
    "seeds = np.random.randint(0, 100, size=NUM_SEED)\n",
    "\n",
    "oof_score = 0\n",
    "y_pred_meta_xgb = np.zeros((Ytrain.shape[0], 5))\n",
    "y_pred_final_xgb = np.zeros((Xtest.shape[0], 5))\n",
    "counter = 0\n",
    "\n",
    "\n",
    "for sidx, seed in enumerate(seeds):\n",
    "    seed_score = 0\n",
    "    \n",
    "    kfold = StratifiedKFold(n_splits=FOLD, shuffle=True, random_state=seed)\n",
    "\n",
    "    for idx, (train, val) in enumerate(kfold.split(Xtrain, Ytrain)):\n",
    "        counter += 1\n",
    "\n",
    "        train_x, train_y = Xtrain[train], Ytrain[train]\n",
    "        val_x, val_y = Xtrain[val], Ytrain[val]\n",
    "        \n",
    "        largest_class_weight_coef = max(np.bincount(train_y))/train_y.shape[0]\n",
    "        weight = BalancedSampleWeights(train_y, largest_class_weight_coef)\n",
    "\n",
    "        model = XGBClassifier(\n",
    "            objective='multi:softmax',\n",
    "            eval_metric='mlogloss',\n",
    "            booster='gbtree',\n",
    "            sample_type='uniform',\n",
    "            tree_method='gpu_hist',\n",
    "            grow_policy='lossguide',\n",
    "            use_label_encoder=False,\n",
    "            num_round=5000,\n",
    "            num_class=5,\n",
    "            max_depth=15, \n",
    "            max_leaves=512,\n",
    "            learning_rate=0.05,\n",
    "            subsample=0.75,\n",
    "            colsample_bytree=0.95,\n",
    "            min_child_weight=3,\n",
    "            reg_lambda=0.01,\n",
    "            verbosity=0\n",
    "        )\n",
    "\n",
    "        model.fit(train_x, train_y, sample_weight=weight,\n",
    "                  eval_set=[(train_x, train_y), (val_x, val_y)], \n",
    "                  early_stopping_rounds=200, verbose=50)\n",
    "\n",
    "        y_pred = model.predict(val_x, ntree_limit=model.best_ntree_limit)\n",
    "        y_pred_meta_xgb[val] += model.predict_proba(val_x, ntree_limit=model.best_ntree_limit)\n",
    "        y_pred_final_xgb += model.predict_proba(Xtest, ntree_limit=model.best_ntree_limit)\n",
    "        \n",
    "        score = 100 * f1_score(val_y, y_pred, average='macro')\n",
    "        oof_score += score\n",
    "        seed_score += score\n",
    "        print(\"Seed-{} | Fold-{} | OOF Score: {}\".format(seed, idx, score))\n",
    "    \n",
    "    print(\"\\nSeed: {} | Aggregate OOF Score: {}\\n\\n\".format(seed, (seed_score / FOLD)))\n",
    "\n",
    "\n",
    "y_pred_meta_xgb = y_pred_meta_xgb / float(NUM_SEED)\n",
    "y_pred_final_xgb = y_pred_final_xgb / float(counter)\n",
    "oof_score /= float(counter)\n",
    "print(\"Aggregate OOF Score: {}\".format(oof_score))"
   ]
  },
  {
   "cell_type": "code",
   "execution_count": 13,
   "metadata": {
    "execution": {
     "iopub.execute_input": "2021-03-26T07:49:58.088525Z",
     "iopub.status.busy": "2021-03-26T07:49:58.087790Z",
     "iopub.status.idle": "2021-03-26T07:49:58.304655Z",
     "shell.execute_reply": "2021-03-26T07:49:58.304250Z"
    },
    "id": "uLzmS7LzXvXy",
    "papermill": {
     "duration": 0.271698,
     "end_time": "2021-03-26T07:49:58.304772",
     "exception": false,
     "start_time": "2021-03-26T07:49:58.033074",
     "status": "completed"
    },
    "tags": []
   },
   "outputs": [],
   "source": [
    "np.savez_compressed('./XGB_Meta_Features.npz',\n",
    "                    y_pred_meta_xgb=y_pred_meta_xgb, \n",
    "                    oof_score=oof_score,\n",
    "                    y_pred_final_xgb=y_pred_final_xgb)"
   ]
  },
  {
   "cell_type": "markdown",
   "metadata": {
    "id": "nZvoU4TpWxmY",
    "papermill": {
     "duration": 0.049455,
     "end_time": "2021-03-26T07:49:58.404350",
     "exception": false,
     "start_time": "2021-03-26T07:49:58.354895",
     "status": "completed"
    },
    "tags": []
   },
   "source": [
    "## Create submission file"
   ]
  },
  {
   "cell_type": "code",
   "execution_count": 14,
   "metadata": {
    "execution": {
     "iopub.execute_input": "2021-03-26T07:49:58.529798Z",
     "iopub.status.busy": "2021-03-26T07:49:58.529267Z",
     "iopub.status.idle": "2021-03-26T07:49:58.695598Z",
     "shell.execute_reply": "2021-03-26T07:49:58.694633Z"
    },
    "executionInfo": {
     "elapsed": 3141,
     "status": "ok",
     "timestamp": 1616223489651,
     "user": {
      "displayName": "TAPAS DAS",
      "photoUrl": "https://lh3.googleusercontent.com/a-/AOh14GiyffdGKiPCR_UwVittzTcbBFms70IkGfU15fatCA=s64",
      "userId": "10798398878324948542"
     },
     "user_tz": -330
    },
    "id": "zGEGOAJHVoHV",
    "outputId": "11f9ca4c-9cca-46f6-b9a6-907ad0a09927",
    "papermill": {
     "duration": 0.232236,
     "end_time": "2021-03-26T07:49:58.695727",
     "exception": false,
     "start_time": "2021-03-26T07:49:58.463491",
     "status": "completed"
    },
    "tags": []
   },
   "outputs": [
    {
     "data": {
      "text/html": [
       "<div>\n",
       "<style scoped>\n",
       "    .dataframe tbody tr th:only-of-type {\n",
       "        vertical-align: middle;\n",
       "    }\n",
       "\n",
       "    .dataframe tbody tr th {\n",
       "        vertical-align: top;\n",
       "    }\n",
       "\n",
       "    .dataframe thead th {\n",
       "        text-align: right;\n",
       "    }\n",
       "</style>\n",
       "<table border=\"1\" class=\"dataframe\">\n",
       "  <thead>\n",
       "    <tr style=\"text-align: right;\">\n",
       "      <th></th>\n",
       "      <th>customer_id</th>\n",
       "      <th>churn_risk_score</th>\n",
       "    </tr>\n",
       "  </thead>\n",
       "  <tbody>\n",
       "    <tr>\n",
       "      <th>0</th>\n",
       "      <td>fffe43004900440031003700300030003400</td>\n",
       "      <td>3</td>\n",
       "    </tr>\n",
       "    <tr>\n",
       "      <th>1</th>\n",
       "      <td>fffe43004900440031003900370037003300</td>\n",
       "      <td>3</td>\n",
       "    </tr>\n",
       "    <tr>\n",
       "      <th>2</th>\n",
       "      <td>fffe43004900440034003800360037003000</td>\n",
       "      <td>4</td>\n",
       "    </tr>\n",
       "    <tr>\n",
       "      <th>3</th>\n",
       "      <td>fffe43004900440036003200370033003400</td>\n",
       "      <td>3</td>\n",
       "    </tr>\n",
       "    <tr>\n",
       "      <th>4</th>\n",
       "      <td>fffe43004900440035003000370031003900</td>\n",
       "      <td>5</td>\n",
       "    </tr>\n",
       "  </tbody>\n",
       "</table>\n",
       "</div>"
      ],
      "text/plain": [
       "                            customer_id  churn_risk_score\n",
       "0  fffe43004900440031003700300030003400                 3\n",
       "1  fffe43004900440031003900370037003300                 3\n",
       "2  fffe43004900440034003800360037003000                 4\n",
       "3  fffe43004900440036003200370033003400                 3\n",
       "4  fffe43004900440035003000370031003900                 5"
      ]
     },
     "execution_count": 14,
     "metadata": {},
     "output_type": "execute_result"
    }
   ],
   "source": [
    "test_df = pd.read_csv(\"../input/customer-churn-rate-prediction/dataset/test.csv\")\n",
    "submit_df = pd.DataFrame()\n",
    "submit_df['customer_id'] = test_df['customer_id']\n",
    "submit_df['churn_risk_score'] = np.array([np.argmax(y_pred_final_xgb, axis=1)]).T\n",
    "submit_df['churn_risk_score'] = submit_df['churn_risk_score'].apply(lambda x: 5 if x==0 else x)\n",
    "submit_df.head()"
   ]
  },
  {
   "cell_type": "code",
   "execution_count": 15,
   "metadata": {
    "execution": {
     "iopub.execute_input": "2021-03-26T07:49:58.802050Z",
     "iopub.status.busy": "2021-03-26T07:49:58.801227Z",
     "iopub.status.idle": "2021-03-26T07:49:58.939438Z",
     "shell.execute_reply": "2021-03-26T07:49:58.938973Z"
    },
    "id": "KDIsotrKVoJN",
    "papermill": {
     "duration": 0.192643,
     "end_time": "2021-03-26T07:49:58.939553",
     "exception": false,
     "start_time": "2021-03-26T07:49:58.746910",
     "status": "completed"
    },
    "tags": []
   },
   "outputs": [],
   "source": [
    "submit_df.to_csv(\"./XGB_submission.csv\", index=False)"
   ]
  },
  {
   "cell_type": "code",
   "execution_count": null,
   "metadata": {
    "id": "W2c88MvxXm65",
    "papermill": {
     "duration": 0.050316,
     "end_time": "2021-03-26T07:49:59.040411",
     "exception": false,
     "start_time": "2021-03-26T07:49:58.990095",
     "status": "completed"
    },
    "tags": []
   },
   "outputs": [],
   "source": []
  }
 ],
 "metadata": {
  "kernelspec": {
   "display_name": "Python 3",
   "language": "python",
   "name": "python3"
  },
  "language_info": {
   "codemirror_mode": {
    "name": "ipython",
    "version": 3
   },
   "file_extension": ".py",
   "mimetype": "text/x-python",
   "name": "python",
   "nbconvert_exporter": "python",
   "pygments_lexer": "ipython3",
   "version": "3.8.5"
  },
  "papermill": {
   "default_parameters": {},
   "duration": 951.904435,
   "end_time": "2021-03-26T07:50:01.846194",
   "environment_variables": {},
   "exception": null,
   "input_path": "__notebook__.ipynb",
   "output_path": "__notebook__.ipynb",
   "parameters": {},
   "start_time": "2021-03-26T07:34:09.941759",
   "version": "2.2.2"
  }
 },
 "nbformat": 4,
 "nbformat_minor": 4
}
