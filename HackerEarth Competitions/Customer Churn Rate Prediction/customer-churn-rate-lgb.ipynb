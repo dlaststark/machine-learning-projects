{
 "cells": [
  {
   "cell_type": "markdown",
   "id": "plastic-bloom",
   "metadata": {
    "id": "uLz9OcH8SeET",
    "papermill": {
     "duration": 0.025023,
     "end_time": "2021-03-26T10:01:57.948601",
     "exception": false,
     "start_time": "2021-03-26T10:01:57.923578",
     "status": "completed"
    },
    "tags": []
   },
   "source": [
    "## Import libraries"
   ]
  },
  {
   "cell_type": "code",
   "execution_count": 1,
   "id": "median-diabetes",
   "metadata": {
    "execution": {
     "iopub.execute_input": "2021-03-26T10:01:57.981550Z",
     "iopub.status.busy": "2021-03-26T10:01:57.980912Z",
     "iopub.status.idle": "2021-03-26T10:02:05.503183Z",
     "shell.execute_reply": "2021-03-26T10:02:05.501898Z"
    },
    "executionInfo": {
     "elapsed": 18546,
     "status": "ok",
     "timestamp": 1616326755679,
     "user": {
      "displayName": "TAPAS DAS",
      "photoUrl": "https://lh3.googleusercontent.com/a-/AOh14GiyffdGKiPCR_UwVittzTcbBFms70IkGfU15fatCA=s64",
      "userId": "10798398878324948542"
     },
     "user_tz": -330
    },
    "id": "E9svswc9SUuX",
    "papermill": {
     "duration": 7.541377,
     "end_time": "2021-03-26T10:02:05.503336",
     "exception": false,
     "start_time": "2021-03-26T10:01:57.961959",
     "status": "completed"
    },
    "tags": []
   },
   "outputs": [
    {
     "data": {
      "text/html": [
       "<style type='text/css'>\n",
       ".datatable table.frame { margin-bottom: 0; }\n",
       ".datatable table.frame thead { border-bottom: none; }\n",
       ".datatable table.frame tr.coltypes td {  color: #FFFFFF;  line-height: 6px;  padding: 0 0.5em;}\n",
       ".datatable .bool    { background: #DDDD99; }\n",
       ".datatable .object  { background: #565656; }\n",
       ".datatable .int     { background: #5D9E5D; }\n",
       ".datatable .float   { background: #4040CC; }\n",
       ".datatable .str     { background: #CC4040; }\n",
       ".datatable .row_index {  background: var(--jp-border-color3);  border-right: 1px solid var(--jp-border-color0);  color: var(--jp-ui-font-color3);  font-size: 9px;}\n",
       ".datatable .frame tr.coltypes .row_index {  background: var(--jp-border-color0);}\n",
       ".datatable th:nth-child(2) { padding-left: 12px; }\n",
       ".datatable .hellipsis {  color: var(--jp-cell-editor-border-color);}\n",
       ".datatable .vellipsis {  background: var(--jp-layout-color0);  color: var(--jp-cell-editor-border-color);}\n",
       ".datatable .na {  color: var(--jp-cell-editor-border-color);  font-size: 80%;}\n",
       ".datatable .footer { font-size: 9px; }\n",
       ".datatable .frame_dimensions {  background: var(--jp-border-color3);  border-top: 1px solid var(--jp-border-color0);  color: var(--jp-ui-font-color3);  display: inline-block;  opacity: 0.6;  padding: 1px 10px 1px 5px;}\n",
       "</style>\n"
      ],
      "text/plain": [
       "<IPython.core.display.HTML object>"
      ]
     },
     "metadata": {},
     "output_type": "display_data"
    }
   ],
   "source": [
    "import gc\n",
    "import pickle\n",
    "import optuna\n",
    "import numpy as np\n",
    "import pandas as pd\n",
    "import lightgbm as lgb\n",
    "from sklearn.metrics import f1_score\n",
    "from sklearn.model_selection import StratifiedKFold\n",
    "from tensorflow.keras.models import Model, load_model\n",
    "from tensorflow_addons.optimizers import AdamW, Lookahead"
   ]
  },
  {
   "cell_type": "markdown",
   "id": "visible-distinction",
   "metadata": {
    "id": "iDv0VFRMS7z2",
    "papermill": {
     "duration": 0.014692,
     "end_time": "2021-03-26T10:02:05.533201",
     "exception": false,
     "start_time": "2021-03-26T10:02:05.518509",
     "status": "completed"
    },
    "tags": []
   },
   "source": [
    "## Load autoencoder model"
   ]
  },
  {
   "cell_type": "code",
   "execution_count": 2,
   "id": "transsexual-notebook",
   "metadata": {
    "execution": {
     "iopub.execute_input": "2021-03-26T10:02:05.573870Z",
     "iopub.status.busy": "2021-03-26T10:02:05.573244Z",
     "iopub.status.idle": "2021-03-26T10:02:09.253681Z",
     "shell.execute_reply": "2021-03-26T10:02:09.253091Z"
    },
    "executionInfo": {
     "elapsed": 20250,
     "status": "ok",
     "timestamp": 1615988849940,
     "user": {
      "displayName": "TAPAS DAS",
      "photoUrl": "https://lh3.googleusercontent.com/a-/AOh14GiyffdGKiPCR_UwVittzTcbBFms70IkGfU15fatCA=s64",
      "userId": "10798398878324948542"
     },
     "user_tz": -330
    },
    "id": "w0IPQ0HLS-mk",
    "outputId": "981f1ee7-7fc6-4e94-fe76-77610f75b11b",
    "papermill": {
     "duration": 3.705299,
     "end_time": "2021-03-26T10:02:09.253815",
     "exception": false,
     "start_time": "2021-03-26T10:02:05.548516",
     "status": "completed"
    },
    "tags": []
   },
   "outputs": [
    {
     "name": "stdout",
     "output_type": "stream",
     "text": [
      "Model: \"model\"\n",
      "__________________________________________________________________________________________________\n",
      "Layer (type)                    Output Shape         Param #     Connected to                     \n",
      "==================================================================================================\n",
      "Encoder-Input (InputLayer)      [(None, 142)]        0                                            \n",
      "__________________________________________________________________________________________________\n",
      "Encoder-Dense-1 (Dense)         (None, 128)          18304       Encoder-Input[0][0]              \n",
      "__________________________________________________________________________________________________\n",
      "Encoder-BatchNorm-1 (BatchNorma (None, 128)          512         Encoder-Dense-1[0][0]            \n",
      "__________________________________________________________________________________________________\n",
      "Encoder-Swish-1 (Activation)    (None, 128)          0           Encoder-BatchNorm-1[0][0]        \n",
      "__________________________________________________________________________________________________\n",
      "Encoder-Dense-2 (Dense)         (None, 96)           12384       Encoder-Swish-1[0][0]            \n",
      "__________________________________________________________________________________________________\n",
      "Encoder-BatchNorm-2 (BatchNorma (None, 96)           384         Encoder-Dense-2[0][0]            \n",
      "__________________________________________________________________________________________________\n",
      "Encoder-Swish-2 (Activation)    (None, 96)           0           Encoder-BatchNorm-2[0][0]        \n",
      "__________________________________________________________________________________________________\n",
      "Encoder-Dense-3 (Dense)         (None, 128)          12416       Encoder-Swish-2[0][0]            \n",
      "__________________________________________________________________________________________________\n",
      "Encoder-BatchNorm-3 (BatchNorma (None, 128)          512         Encoder-Dense-3[0][0]            \n",
      "__________________________________________________________________________________________________\n",
      "Encoder-Swish-3 (Activation)    (None, 128)          0           Encoder-BatchNorm-3[0][0]        \n",
      "__________________________________________________________________________________________________\n",
      "Encoder-Add-3 (Add)             (None, 128)          0           Encoder-Swish-1[0][0]            \n",
      "                                                                 Encoder-Swish-3[0][0]            \n",
      "__________________________________________________________________________________________________\n",
      "Embed-Dense (Dense)             (None, 64)           8256        Encoder-Add-3[0][0]              \n",
      "__________________________________________________________________________________________________\n",
      "Embed-BatchNorm (BatchNormaliza (None, 64)           256         Embed-Dense[0][0]                \n",
      "__________________________________________________________________________________________________\n",
      "Embedding (Activation)          (None, 64)           0           Embed-BatchNorm[0][0]            \n",
      "==================================================================================================\n",
      "Total params: 53,024\n",
      "Trainable params: 52,192\n",
      "Non-trainable params: 832\n",
      "__________________________________________________________________________________________________\n"
     ]
    }
   ],
   "source": [
    "autoencoder = load_model('../input/customer-churn-rate-dae/DAE_model.h5')\n",
    "feature_model = Model(inputs=autoencoder.input,\n",
    "                      outputs=autoencoder.get_layer('Embedding').output)\n",
    "feature_model.summary()"
   ]
  },
  {
   "cell_type": "markdown",
   "id": "analyzed-establishment",
   "metadata": {
    "id": "hg85SpW-S6hl",
    "papermill": {
     "duration": 0.015593,
     "end_time": "2021-03-26T10:02:09.284882",
     "exception": false,
     "start_time": "2021-03-26T10:02:09.269289",
     "status": "completed"
    },
    "tags": []
   },
   "source": [
    "## Prepare data for model training"
   ]
  },
  {
   "cell_type": "code",
   "execution_count": 3,
   "id": "overall-parts",
   "metadata": {
    "execution": {
     "iopub.execute_input": "2021-03-26T10:02:09.318274Z",
     "iopub.status.busy": "2021-03-26T10:02:09.317730Z",
     "iopub.status.idle": "2021-03-26T10:02:10.427662Z",
     "shell.execute_reply": "2021-03-26T10:02:10.427228Z"
    },
    "executionInfo": {
     "elapsed": 15266,
     "status": "ok",
     "timestamp": 1616326759527,
     "user": {
      "displayName": "TAPAS DAS",
      "photoUrl": "https://lh3.googleusercontent.com/a-/AOh14GiyffdGKiPCR_UwVittzTcbBFms70IkGfU15fatCA=s64",
      "userId": "10798398878324948542"
     },
     "user_tz": -330
    },
    "id": "VdhgoIAmSUxK",
    "outputId": "593389e9-9839-415d-bc72-10af58db79f5",
    "papermill": {
     "duration": 1.12828,
     "end_time": "2021-03-26T10:02:10.427780",
     "exception": false,
     "start_time": "2021-03-26T10:02:09.299500",
     "status": "completed"
    },
    "tags": []
   },
   "outputs": [
    {
     "data": {
      "text/plain": [
       "226"
      ]
     },
     "execution_count": 3,
     "metadata": {},
     "output_type": "execute_result"
    }
   ],
   "source": [
    "with open(\"../input/customer-churn-rate-preprocess-data/Churn_Risk_Rate_Dataset.txt\", 'rb') as handle: \n",
    "    data = handle.read()\n",
    "\n",
    "processed_data = pickle.loads(data)\n",
    "train_df = processed_data['train_df']\n",
    "test_df = processed_data['test_df']\n",
    "\n",
    "del processed_data\n",
    "gc.collect()"
   ]
  },
  {
   "cell_type": "code",
   "execution_count": 4,
   "id": "joined-ukraine",
   "metadata": {
    "execution": {
     "iopub.execute_input": "2021-03-26T10:02:10.465782Z",
     "iopub.status.busy": "2021-03-26T10:02:10.464588Z",
     "iopub.status.idle": "2021-03-26T10:02:11.121161Z",
     "shell.execute_reply": "2021-03-26T10:02:11.120593Z"
    },
    "executionInfo": {
     "elapsed": 1737,
     "status": "ok",
     "timestamp": 1616326761273,
     "user": {
      "displayName": "TAPAS DAS",
      "photoUrl": "https://lh3.googleusercontent.com/a-/AOh14GiyffdGKiPCR_UwVittzTcbBFms70IkGfU15fatCA=s64",
      "userId": "10798398878324948542"
     },
     "user_tz": -330
    },
    "id": "kX_wj8gESUz3",
    "papermill": {
     "duration": 0.678711,
     "end_time": "2021-03-26T10:02:11.121318",
     "exception": false,
     "start_time": "2021-03-26T10:02:10.442607",
     "status": "completed"
    },
    "tags": []
   },
   "outputs": [
    {
     "name": "stdout",
     "output_type": "stream",
     "text": [
      "train_df1: (36987, 143)\n",
      "test_df1: (19919, 142)\n"
     ]
    }
   ],
   "source": [
    "cat_cols = ['region_category','membership_category','preferred_offer_types','internet_option',\n",
    "            'complaint_status','feedback','age_category','joining_dt_year','time_category',\n",
    "            'complaint_category','feedback_category','last_login_category']\n",
    "\n",
    "train_df1, test_df1 = train_df.copy(), test_df.copy()\n",
    "\n",
    "for col in cat_cols:\n",
    "    dummy_val = pd.get_dummies(train_df1[col], prefix='col')\n",
    "    train_df1 = pd.concat([train_df1, dummy_val], axis=1)\n",
    "    train_df1.drop([col], inplace=True, axis=1)\n",
    "\n",
    "print(\"train_df1: {}\".format(train_df1.shape))\n",
    "\n",
    "for col in cat_cols:\n",
    "    dummy_val = pd.get_dummies(test_df1[col], prefix='col')\n",
    "    test_df1 = pd.concat([test_df1, dummy_val], axis=1)\n",
    "    test_df1.drop([col], inplace=True, axis=1)\n",
    "\n",
    "print(\"test_df1: {}\".format(test_df1.shape))"
   ]
  },
  {
   "cell_type": "code",
   "execution_count": 5,
   "id": "settled-xerox",
   "metadata": {
    "execution": {
     "iopub.execute_input": "2021-03-26T10:02:11.167362Z",
     "iopub.status.busy": "2021-03-26T10:02:11.165882Z",
     "iopub.status.idle": "2021-03-26T10:02:14.248581Z",
     "shell.execute_reply": "2021-03-26T10:02:14.248164Z"
    },
    "papermill": {
     "duration": 3.111533,
     "end_time": "2021-03-26T10:02:14.248743",
     "exception": false,
     "start_time": "2021-03-26T10:02:11.137210",
     "status": "completed"
    },
    "tags": []
   },
   "outputs": [
    {
     "name": "stdout",
     "output_type": "stream",
     "text": [
      "Xtrain_embed_df: (36987, 64) \n",
      "Xtest_embed_df: (19919, 64)\n",
      "train_df: (36987, 170) \n",
      "test_df: (19919, 169)\n"
     ]
    },
    {
     "data": {
      "text/html": [
       "<div>\n",
       "<style scoped>\n",
       "    .dataframe tbody tr th:only-of-type {\n",
       "        vertical-align: middle;\n",
       "    }\n",
       "\n",
       "    .dataframe tbody tr th {\n",
       "        vertical-align: top;\n",
       "    }\n",
       "\n",
       "    .dataframe thead th {\n",
       "        text-align: right;\n",
       "    }\n",
       "</style>\n",
       "<table border=\"1\" class=\"dataframe\">\n",
       "  <thead>\n",
       "    <tr style=\"text-align: right;\">\n",
       "      <th></th>\n",
       "      <th>age</th>\n",
       "      <th>gender</th>\n",
       "      <th>region_category</th>\n",
       "      <th>membership_category</th>\n",
       "      <th>joined_through_referral</th>\n",
       "      <th>preferred_offer_types</th>\n",
       "      <th>internet_option</th>\n",
       "      <th>days_since_last_login</th>\n",
       "      <th>avg_time_spent</th>\n",
       "      <th>avg_transaction_value</th>\n",
       "      <th>...</th>\n",
       "      <th>54</th>\n",
       "      <th>55</th>\n",
       "      <th>56</th>\n",
       "      <th>57</th>\n",
       "      <th>58</th>\n",
       "      <th>59</th>\n",
       "      <th>60</th>\n",
       "      <th>61</th>\n",
       "      <th>62</th>\n",
       "      <th>63</th>\n",
       "    </tr>\n",
       "    <tr>\n",
       "      <th>customer_id</th>\n",
       "      <th></th>\n",
       "      <th></th>\n",
       "      <th></th>\n",
       "      <th></th>\n",
       "      <th></th>\n",
       "      <th></th>\n",
       "      <th></th>\n",
       "      <th></th>\n",
       "      <th></th>\n",
       "      <th></th>\n",
       "      <th></th>\n",
       "      <th></th>\n",
       "      <th></th>\n",
       "      <th></th>\n",
       "      <th></th>\n",
       "      <th></th>\n",
       "      <th></th>\n",
       "      <th></th>\n",
       "      <th></th>\n",
       "      <th></th>\n",
       "      <th></th>\n",
       "    </tr>\n",
       "  </thead>\n",
       "  <tbody>\n",
       "    <tr>\n",
       "      <th>fffe4300490044003600300030003800</th>\n",
       "      <td>-1.023003</td>\n",
       "      <td>0.0</td>\n",
       "      <td>2.0</td>\n",
       "      <td>4.0</td>\n",
       "      <td>0.0</td>\n",
       "      <td>2.0</td>\n",
       "      <td>2.0</td>\n",
       "      <td>0.766391</td>\n",
       "      <td>0.393377</td>\n",
       "      <td>1.453128</td>\n",
       "      <td>...</td>\n",
       "      <td>-0.210364</td>\n",
       "      <td>-0.135798</td>\n",
       "      <td>0.847136</td>\n",
       "      <td>-0.257103</td>\n",
       "      <td>-0.186361</td>\n",
       "      <td>0.517744</td>\n",
       "      <td>-0.186296</td>\n",
       "      <td>0.219591</td>\n",
       "      <td>0.613333</td>\n",
       "      <td>1.880162</td>\n",
       "    </tr>\n",
       "    <tr>\n",
       "      <th>fffe43004900440032003100300035003700</th>\n",
       "      <td>-0.239380</td>\n",
       "      <td>0.0</td>\n",
       "      <td>0.0</td>\n",
       "      <td>5.0</td>\n",
       "      <td>1.0</td>\n",
       "      <td>2.0</td>\n",
       "      <td>1.0</td>\n",
       "      <td>0.602943</td>\n",
       "      <td>0.410020</td>\n",
       "      <td>-0.748954</td>\n",
       "      <td>...</td>\n",
       "      <td>-0.257802</td>\n",
       "      <td>0.250188</td>\n",
       "      <td>0.379453</td>\n",
       "      <td>-0.233873</td>\n",
       "      <td>-0.169573</td>\n",
       "      <td>0.528861</td>\n",
       "      <td>-0.141722</td>\n",
       "      <td>0.307829</td>\n",
       "      <td>-0.266601</td>\n",
       "      <td>-0.277287</td>\n",
       "    </tr>\n",
       "    <tr>\n",
       "      <th>fffe4300490044003100390032003600</th>\n",
       "      <td>0.318969</td>\n",
       "      <td>0.0</td>\n",
       "      <td>1.0</td>\n",
       "      <td>0.0</td>\n",
       "      <td>1.0</td>\n",
       "      <td>2.0</td>\n",
       "      <td>2.0</td>\n",
       "      <td>0.256198</td>\n",
       "      <td>0.861089</td>\n",
       "      <td>-0.308575</td>\n",
       "      <td>...</td>\n",
       "      <td>-0.031088</td>\n",
       "      <td>-0.175070</td>\n",
       "      <td>0.196698</td>\n",
       "      <td>-0.150829</td>\n",
       "      <td>0.502340</td>\n",
       "      <td>0.120173</td>\n",
       "      <td>0.368638</td>\n",
       "      <td>0.110437</td>\n",
       "      <td>-0.262967</td>\n",
       "      <td>1.640988</td>\n",
       "    </tr>\n",
       "    <tr>\n",
       "      <th>fffe43004900440036003000330031003600</th>\n",
       "      <td>-0.006273</td>\n",
       "      <td>1.0</td>\n",
       "      <td>0.0</td>\n",
       "      <td>0.0</td>\n",
       "      <td>1.0</td>\n",
       "      <td>2.0</td>\n",
       "      <td>1.0</td>\n",
       "      <td>-0.350817</td>\n",
       "      <td>-0.905214</td>\n",
       "      <td>-0.108067</td>\n",
       "      <td>...</td>\n",
       "      <td>-0.109337</td>\n",
       "      <td>1.044451</td>\n",
       "      <td>0.008078</td>\n",
       "      <td>-0.078969</td>\n",
       "      <td>0.503134</td>\n",
       "      <td>0.407935</td>\n",
       "      <td>0.506297</td>\n",
       "      <td>0.133632</td>\n",
       "      <td>-0.265814</td>\n",
       "      <td>1.485688</td>\n",
       "    </tr>\n",
       "    <tr>\n",
       "      <th>fffe43004900440031003900350030003600</th>\n",
       "      <td>-0.286135</td>\n",
       "      <td>0.0</td>\n",
       "      <td>0.0</td>\n",
       "      <td>0.0</td>\n",
       "      <td>0.0</td>\n",
       "      <td>1.0</td>\n",
       "      <td>1.0</td>\n",
       "      <td>1.239352</td>\n",
       "      <td>-0.387680</td>\n",
       "      <td>-0.147029</td>\n",
       "      <td>...</td>\n",
       "      <td>-0.259821</td>\n",
       "      <td>-0.043998</td>\n",
       "      <td>0.312016</td>\n",
       "      <td>-0.237858</td>\n",
       "      <td>-0.206758</td>\n",
       "      <td>0.514125</td>\n",
       "      <td>1.489388</td>\n",
       "      <td>0.136695</td>\n",
       "      <td>-0.268102</td>\n",
       "      <td>-0.259220</td>\n",
       "    </tr>\n",
       "  </tbody>\n",
       "</table>\n",
       "<p>5 rows × 170 columns</p>\n",
       "</div>"
      ],
      "text/plain": [
       "                                           age  gender  region_category  \\\n",
       "customer_id                                                               \n",
       "fffe4300490044003600300030003800     -1.023003     0.0              2.0   \n",
       "fffe43004900440032003100300035003700 -0.239380     0.0              0.0   \n",
       "fffe4300490044003100390032003600      0.318969     0.0              1.0   \n",
       "fffe43004900440036003000330031003600 -0.006273     1.0              0.0   \n",
       "fffe43004900440031003900350030003600 -0.286135     0.0              0.0   \n",
       "\n",
       "                                      membership_category  \\\n",
       "customer_id                                                 \n",
       "fffe4300490044003600300030003800                      4.0   \n",
       "fffe43004900440032003100300035003700                  5.0   \n",
       "fffe4300490044003100390032003600                      0.0   \n",
       "fffe43004900440036003000330031003600                  0.0   \n",
       "fffe43004900440031003900350030003600                  0.0   \n",
       "\n",
       "                                      joined_through_referral  \\\n",
       "customer_id                                                     \n",
       "fffe4300490044003600300030003800                          0.0   \n",
       "fffe43004900440032003100300035003700                      1.0   \n",
       "fffe4300490044003100390032003600                          1.0   \n",
       "fffe43004900440036003000330031003600                      1.0   \n",
       "fffe43004900440031003900350030003600                      0.0   \n",
       "\n",
       "                                      preferred_offer_types  internet_option  \\\n",
       "customer_id                                                                    \n",
       "fffe4300490044003600300030003800                        2.0              2.0   \n",
       "fffe43004900440032003100300035003700                    2.0              1.0   \n",
       "fffe4300490044003100390032003600                        2.0              2.0   \n",
       "fffe43004900440036003000330031003600                    2.0              1.0   \n",
       "fffe43004900440031003900350030003600                    1.0              1.0   \n",
       "\n",
       "                                      days_since_last_login  avg_time_spent  \\\n",
       "customer_id                                                                   \n",
       "fffe4300490044003600300030003800                   0.766391        0.393377   \n",
       "fffe43004900440032003100300035003700               0.602943        0.410020   \n",
       "fffe4300490044003100390032003600                   0.256198        0.861089   \n",
       "fffe43004900440036003000330031003600              -0.350817       -0.905214   \n",
       "fffe43004900440031003900350030003600               1.239352       -0.387680   \n",
       "\n",
       "                                      avg_transaction_value  ...        54  \\\n",
       "customer_id                                                  ...             \n",
       "fffe4300490044003600300030003800                   1.453128  ... -0.210364   \n",
       "fffe43004900440032003100300035003700              -0.748954  ... -0.257802   \n",
       "fffe4300490044003100390032003600                  -0.308575  ... -0.031088   \n",
       "fffe43004900440036003000330031003600              -0.108067  ... -0.109337   \n",
       "fffe43004900440031003900350030003600              -0.147029  ... -0.259821   \n",
       "\n",
       "                                            55        56        57        58  \\\n",
       "customer_id                                                                    \n",
       "fffe4300490044003600300030003800     -0.135798  0.847136 -0.257103 -0.186361   \n",
       "fffe43004900440032003100300035003700  0.250188  0.379453 -0.233873 -0.169573   \n",
       "fffe4300490044003100390032003600     -0.175070  0.196698 -0.150829  0.502340   \n",
       "fffe43004900440036003000330031003600  1.044451  0.008078 -0.078969  0.503134   \n",
       "fffe43004900440031003900350030003600 -0.043998  0.312016 -0.237858 -0.206758   \n",
       "\n",
       "                                            59        60        61        62  \\\n",
       "customer_id                                                                    \n",
       "fffe4300490044003600300030003800      0.517744 -0.186296  0.219591  0.613333   \n",
       "fffe43004900440032003100300035003700  0.528861 -0.141722  0.307829 -0.266601   \n",
       "fffe4300490044003100390032003600      0.120173  0.368638  0.110437 -0.262967   \n",
       "fffe43004900440036003000330031003600  0.407935  0.506297  0.133632 -0.265814   \n",
       "fffe43004900440031003900350030003600  0.514125  1.489388  0.136695 -0.268102   \n",
       "\n",
       "                                            63  \n",
       "customer_id                                     \n",
       "fffe4300490044003600300030003800      1.880162  \n",
       "fffe43004900440032003100300035003700 -0.277287  \n",
       "fffe4300490044003100390032003600      1.640988  \n",
       "fffe43004900440036003000330031003600  1.485688  \n",
       "fffe43004900440031003900350030003600 -0.259220  \n",
       "\n",
       "[5 rows x 170 columns]"
      ]
     },
     "execution_count": 5,
     "metadata": {},
     "output_type": "execute_result"
    }
   ],
   "source": [
    "Xtrain_embed = feature_model.predict(train_df1.loc[:, train_df1.columns != 'churn_risk_score'].values)\n",
    "Xtest_embed = feature_model.predict(test_df1.values)\n",
    "Xtrain_embed_df = pd.DataFrame(Xtrain_embed, index=train_df1.index)\n",
    "Xtest_embed_df = pd.DataFrame(Xtest_embed, index=test_df1.index)\n",
    "print(\"Xtrain_embed_df: {} \\nXtest_embed_df: {}\".format(Xtrain_embed_df.shape, Xtest_embed_df.shape))\n",
    "\n",
    "train_df = pd.merge(train_df, Xtrain_embed_df, on='customer_id', sort=False)\n",
    "test_df = pd.merge(test_df, Xtest_embed_df, on='customer_id', sort=False)\n",
    "print(\"train_df: {} \\ntest_df: {}\".format(train_df.shape, test_df.shape))\n",
    "\n",
    "del train_df1\n",
    "del test_df1\n",
    "del Xtrain_embed\n",
    "del Xtest_embed\n",
    "del Xtrain_embed_df\n",
    "del Xtest_embed_df\n",
    "gc.collect()\n",
    "\n",
    "train_df.head()"
   ]
  },
  {
   "cell_type": "code",
   "execution_count": 6,
   "id": "buried-article",
   "metadata": {
    "execution": {
     "iopub.execute_input": "2021-03-26T10:02:14.289142Z",
     "iopub.status.busy": "2021-03-26T10:02:14.288413Z",
     "iopub.status.idle": "2021-03-26T10:02:14.317985Z",
     "shell.execute_reply": "2021-03-26T10:02:14.317577Z"
    },
    "papermill": {
     "duration": 0.051111,
     "end_time": "2021-03-26T10:02:14.318128",
     "exception": false,
     "start_time": "2021-03-26T10:02:14.267017",
     "status": "completed"
    },
    "tags": []
   },
   "outputs": [
    {
     "data": {
      "text/html": [
       "<div>\n",
       "<style scoped>\n",
       "    .dataframe tbody tr th:only-of-type {\n",
       "        vertical-align: middle;\n",
       "    }\n",
       "\n",
       "    .dataframe tbody tr th {\n",
       "        vertical-align: top;\n",
       "    }\n",
       "\n",
       "    .dataframe thead th {\n",
       "        text-align: right;\n",
       "    }\n",
       "</style>\n",
       "<table border=\"1\" class=\"dataframe\">\n",
       "  <thead>\n",
       "    <tr style=\"text-align: right;\">\n",
       "      <th></th>\n",
       "      <th>churn_risk_score</th>\n",
       "      <th>count</th>\n",
       "    </tr>\n",
       "  </thead>\n",
       "  <tbody>\n",
       "    <tr>\n",
       "      <th>0</th>\n",
       "      <td>0</td>\n",
       "      <td>9825</td>\n",
       "    </tr>\n",
       "    <tr>\n",
       "      <th>1</th>\n",
       "      <td>1</td>\n",
       "      <td>3815</td>\n",
       "    </tr>\n",
       "    <tr>\n",
       "      <th>2</th>\n",
       "      <td>2</td>\n",
       "      <td>2741</td>\n",
       "    </tr>\n",
       "    <tr>\n",
       "      <th>3</th>\n",
       "      <td>3</td>\n",
       "      <td>10422</td>\n",
       "    </tr>\n",
       "    <tr>\n",
       "      <th>4</th>\n",
       "      <td>4</td>\n",
       "      <td>10184</td>\n",
       "    </tr>\n",
       "  </tbody>\n",
       "</table>\n",
       "</div>"
      ],
      "text/plain": [
       "   churn_risk_score  count\n",
       "0                 0   9825\n",
       "1                 1   3815\n",
       "2                 2   2741\n",
       "3                 3  10422\n",
       "4                 4  10184"
      ]
     },
     "execution_count": 6,
     "metadata": {},
     "output_type": "execute_result"
    }
   ],
   "source": [
    "train_df['churn_risk_score'] = train_df['churn_risk_score'].apply(lambda x: 0 if x==5 else 1 if x==-1 else x)\n",
    "train_df.groupby(['churn_risk_score']).size().reset_index().rename(columns={0:'count'})"
   ]
  },
  {
   "cell_type": "code",
   "execution_count": 7,
   "id": "assigned-clause",
   "metadata": {
    "execution": {
     "iopub.execute_input": "2021-03-26T10:02:14.358659Z",
     "iopub.status.busy": "2021-03-26T10:02:14.357163Z",
     "iopub.status.idle": "2021-03-26T10:02:14.506053Z",
     "shell.execute_reply": "2021-03-26T10:02:14.506662Z"
    },
    "papermill": {
     "duration": 0.17226,
     "end_time": "2021-03-26T10:02:14.506856",
     "exception": false,
     "start_time": "2021-03-26T10:02:14.334596",
     "status": "completed"
    },
    "tags": []
   },
   "outputs": [
    {
     "name": "stdout",
     "output_type": "stream",
     "text": [
      "[1, 4, 12, 13, 14, 19, 32, 37, 38, 2, 3, 5, 6, 15, 16, 17, 18, 33, 34, 35, 36]\n"
     ]
    }
   ],
   "source": [
    "cat_cols = ['gender','joined_through_referral','used_special_discount','offer_application_preference',\n",
    "            'past_complaint','joining_dt_day_weekend','referral_id_present','has_desktop','has_smartphone',\n",
    "            'region_category','membership_category','preferred_offer_types','internet_option','complaint_status',\n",
    "            'feedback','age_category','joining_dt_year','time_category','complaint_category','feedback_category',\n",
    "            'last_login_category']\n",
    "\n",
    "train_df[cat_cols] = train_df[cat_cols].astype(int)\n",
    "test_df[cat_cols] = test_df[cat_cols].astype(int)\n",
    "cat_cols_indices = [train_df.columns.get_loc(col) for col in cat_cols]\n",
    "print(cat_cols_indices)"
   ]
  },
  {
   "cell_type": "code",
   "execution_count": 8,
   "id": "permanent-catalog",
   "metadata": {
    "execution": {
     "iopub.execute_input": "2021-03-26T10:02:14.546840Z",
     "iopub.status.busy": "2021-03-26T10:02:14.546345Z",
     "iopub.status.idle": "2021-03-26T10:02:14.585946Z",
     "shell.execute_reply": "2021-03-26T10:02:14.585355Z"
    },
    "executionInfo": {
     "elapsed": 4738,
     "status": "ok",
     "timestamp": 1616326764348,
     "user": {
      "displayName": "TAPAS DAS",
      "photoUrl": "https://lh3.googleusercontent.com/a-/AOh14GiyffdGKiPCR_UwVittzTcbBFms70IkGfU15fatCA=s64",
      "userId": "10798398878324948542"
     },
     "user_tz": -330
    },
    "id": "UAfyHbeASU7C",
    "outputId": "5f1e7e87-752b-4928-fab4-2f907d8c1e0c",
    "papermill": {
     "duration": 0.0613,
     "end_time": "2021-03-26T10:02:14.586123",
     "exception": false,
     "start_time": "2021-03-26T10:02:14.524823",
     "status": "completed"
    },
    "tags": []
   },
   "outputs": [
    {
     "name": "stdout",
     "output_type": "stream",
     "text": [
      "Xtrain: (36987, 169) \n",
      "Ytrain: (36987,) \n",
      "Xtest: (19919, 169)\n"
     ]
    }
   ],
   "source": [
    "Xtrain = train_df.loc[:, train_df.columns != 'churn_risk_score'].values\n",
    "Ytrain = train_df['churn_risk_score'].values\n",
    "Xtest = test_df.values\n",
    "\n",
    "print(\"Xtrain: {} \\nYtrain: {} \\nXtest: {}\".format(Xtrain.shape, Ytrain.shape, Xtest.shape))"
   ]
  },
  {
   "cell_type": "markdown",
   "id": "isolated-comedy",
   "metadata": {
    "id": "xpiNySOqUcHd",
    "papermill": {
     "duration": 0.017202,
     "end_time": "2021-03-26T10:02:14.621700",
     "exception": false,
     "start_time": "2021-03-26T10:02:14.604498",
     "status": "completed"
    },
    "tags": []
   },
   "source": [
    "## Hyperparameters search using Optuna"
   ]
  },
  {
   "cell_type": "code",
   "execution_count": 9,
   "id": "practical-credit",
   "metadata": {
    "execution": {
     "iopub.execute_input": "2021-03-26T10:02:14.662253Z",
     "iopub.status.busy": "2021-03-26T10:02:14.661685Z",
     "iopub.status.idle": "2021-03-26T10:02:14.667732Z",
     "shell.execute_reply": "2021-03-26T10:02:14.667307Z"
    },
    "id": "uhoBIFXtSU80",
    "papermill": {
     "duration": 0.028356,
     "end_time": "2021-03-26T10:02:14.667842",
     "exception": false,
     "start_time": "2021-03-26T10:02:14.639486",
     "status": "completed"
    },
    "tags": []
   },
   "outputs": [
    {
     "data": {
      "text/plain": [
       "'\\ndef objective(trial):\\n\\n    kfold = StratifiedKFold(n_splits=5, shuffle=True, random_state=0)\\n    counter = 0\\n    oof_score = 0\\n\\n    params = {\\n        \"objective\": \"multiclass\",\\n        \"metric\": \"multi_logloss\",\\n        \"verbosity\": -1,\\n        \"boosting_type\": \"gbdt\",\\n        \"device_type\": \"gpu\",\\n        \"num_class\": 5,\\n        \"is_unbalance\": True,\\n        \"learning_rate\": trial.suggest_loguniform(\"learning_rate\", 1e-3, 1e-1),\\n        \"lambda_l2\": trial.suggest_loguniform(\"lambda_l2\", 1e-4, 1.0),\\n        \"num_leaves\": trial.suggest_int(\"num_leaves\", 45, 2000),\\n        \"max_depth\": trial.suggest_int(\"max_depth\", 7, 16),\\n        \"feature_fraction\": trial.suggest_uniform(\"feature_fraction\", 0.5, 1.0),\\n        \"bagging_fraction\": trial.suggest_uniform(\"bagging_fraction\", 0.5, 1.0),\\n        \"bagging_freq\": trial.suggest_int(\"bagging_freq\", 3, 15),\\n        \"min_child_samples\": trial.suggest_int(\"min_child_samples\", 3, 15)\\n    }\\n\\n    for train, val in kfold.split(Xtrain, Ytrain):\\n        counter += 1\\n\\n        train_x, train_y = Xtrain[train], Ytrain[train]\\n        val_x, val_y = Xtrain[val], Ytrain[val]\\n\\n        lgtrain = lgb.Dataset(train_x, label=train_y.ravel())\\n        lgvalidation = lgb.Dataset(val_x, label=val_y.ravel())\\n\\n        model = lgb.train(params, lgtrain, valid_sets=[lgvalidation], \\n                          num_boost_round=5000, early_stopping_rounds=200, \\n                          verbose_eval=False)\\n\\n        y_pred = model.predict(val_x, num_iteration=model.best_iteration)\\n        y_pred = np.array([np.argmax(y_pred, axis=1)]).T\\n        oof_score += 100 * f1_score(val_y, y_pred, average=\\'macro\\')\\n    \\n    oof_score /= float(counter)\\n    return oof_score\\n'"
      ]
     },
     "execution_count": 9,
     "metadata": {},
     "output_type": "execute_result"
    }
   ],
   "source": [
    "'''\n",
    "def objective(trial):\n",
    "\n",
    "    kfold = StratifiedKFold(n_splits=5, shuffle=True, random_state=0)\n",
    "    counter = 0\n",
    "    oof_score = 0\n",
    "\n",
    "    params = {\n",
    "        \"objective\": \"multiclass\",\n",
    "        \"metric\": \"multi_logloss\",\n",
    "        \"verbosity\": -1,\n",
    "        \"boosting_type\": \"gbdt\",\n",
    "        \"device_type\": \"gpu\",\n",
    "        \"num_class\": 5,\n",
    "        \"is_unbalance\": True,\n",
    "        \"learning_rate\": trial.suggest_loguniform(\"learning_rate\", 1e-3, 1e-1),\n",
    "        \"lambda_l2\": trial.suggest_loguniform(\"lambda_l2\", 1e-4, 1.0),\n",
    "        \"num_leaves\": trial.suggest_int(\"num_leaves\", 45, 2000),\n",
    "        \"max_depth\": trial.suggest_int(\"max_depth\", 7, 16),\n",
    "        \"feature_fraction\": trial.suggest_uniform(\"feature_fraction\", 0.5, 1.0),\n",
    "        \"bagging_fraction\": trial.suggest_uniform(\"bagging_fraction\", 0.5, 1.0),\n",
    "        \"bagging_freq\": trial.suggest_int(\"bagging_freq\", 3, 15),\n",
    "        \"min_child_samples\": trial.suggest_int(\"min_child_samples\", 3, 15)\n",
    "    }\n",
    "\n",
    "    for train, val in kfold.split(Xtrain, Ytrain):\n",
    "        counter += 1\n",
    "\n",
    "        train_x, train_y = Xtrain[train], Ytrain[train]\n",
    "        val_x, val_y = Xtrain[val], Ytrain[val]\n",
    "\n",
    "        lgtrain = lgb.Dataset(train_x, label=train_y.ravel())\n",
    "        lgvalidation = lgb.Dataset(val_x, label=val_y.ravel())\n",
    "\n",
    "        model = lgb.train(params, lgtrain, valid_sets=[lgvalidation], \n",
    "                          num_boost_round=5000, early_stopping_rounds=200, \n",
    "                          verbose_eval=False)\n",
    "\n",
    "        y_pred = model.predict(val_x, num_iteration=model.best_iteration)\n",
    "        y_pred = np.array([np.argmax(y_pred, axis=1)]).T\n",
    "        oof_score += 100 * f1_score(val_y, y_pred, average='macro')\n",
    "    \n",
    "    oof_score /= float(counter)\n",
    "    return oof_score\n",
    "'''"
   ]
  },
  {
   "cell_type": "code",
   "execution_count": 10,
   "id": "empty-board",
   "metadata": {
    "execution": {
     "iopub.execute_input": "2021-03-26T10:02:14.708380Z",
     "iopub.status.busy": "2021-03-26T10:02:14.707726Z",
     "iopub.status.idle": "2021-03-26T10:02:14.710851Z",
     "shell.execute_reply": "2021-03-26T10:02:14.711266Z"
    },
    "executionInfo": {
     "elapsed": 796026,
     "status": "error",
     "timestamp": 1615990007277,
     "user": {
      "displayName": "TAPAS DAS",
      "photoUrl": "https://lh3.googleusercontent.com/a-/AOh14GiyffdGKiPCR_UwVittzTcbBFms70IkGfU15fatCA=s64",
      "userId": "10798398878324948542"
     },
     "user_tz": -330
    },
    "id": "9GjR1u1_SU-a",
    "outputId": "469f4b0b-96f4-4570-bc9b-55eb18d96b2e",
    "papermill": {
     "duration": 0.025671,
     "end_time": "2021-03-26T10:02:14.711381",
     "exception": false,
     "start_time": "2021-03-26T10:02:14.685710",
     "status": "completed"
    },
    "tags": []
   },
   "outputs": [
    {
     "data": {
      "text/plain": [
       "\"\\nstudy = optuna.create_study(direction='maximize')\\nstudy.optimize(objective, n_trials=500)\\n\""
      ]
     },
     "execution_count": 10,
     "metadata": {},
     "output_type": "execute_result"
    }
   ],
   "source": [
    "'''\n",
    "study = optuna.create_study(direction='maximize')\n",
    "study.optimize(objective, n_trials=500)\n",
    "'''"
   ]
  },
  {
   "cell_type": "code",
   "execution_count": 11,
   "id": "specific-argument",
   "metadata": {
    "execution": {
     "iopub.execute_input": "2021-03-26T10:02:14.753139Z",
     "iopub.status.busy": "2021-03-26T10:02:14.751549Z",
     "iopub.status.idle": "2021-03-26T10:02:14.755061Z",
     "shell.execute_reply": "2021-03-26T10:02:14.754653Z"
    },
    "id": "BlABOYHXSU_1",
    "papermill": {
     "duration": 0.026027,
     "end_time": "2021-03-26T10:02:14.755183",
     "exception": false,
     "start_time": "2021-03-26T10:02:14.729156",
     "status": "completed"
    },
    "tags": []
   },
   "outputs": [
    {
     "data": {
      "text/plain": [
       "'\\nprint(\"Number of finished trials: {}\".format(len(study.trials)))\\n\\nprint(\"Best trial:\")\\ntrial = study.best_trial\\n\\nprint(\"Value: {}\".format(trial.value))\\n\\nprint(\"Params: \")\\nfor key, value in trial.params.items():\\n    print(\" {}: {}\".format(key, value))\\n'"
      ]
     },
     "execution_count": 11,
     "metadata": {},
     "output_type": "execute_result"
    }
   ],
   "source": [
    "'''\n",
    "print(\"Number of finished trials: {}\".format(len(study.trials)))\n",
    "\n",
    "print(\"Best trial:\")\n",
    "trial = study.best_trial\n",
    "\n",
    "print(\"Value: {}\".format(trial.value))\n",
    "\n",
    "print(\"Params: \")\n",
    "for key, value in trial.params.items():\n",
    "    print(\" {}: {}\".format(key, value))\n",
    "'''"
   ]
  },
  {
   "cell_type": "markdown",
   "id": "historical-manhattan",
   "metadata": {
    "id": "9wNC5rWEVnjd",
    "papermill": {
     "duration": 0.018681,
     "end_time": "2021-03-26T10:02:14.792130",
     "exception": false,
     "start_time": "2021-03-26T10:02:14.773449",
     "status": "completed"
    },
    "tags": []
   },
   "source": [
    "## Build and validate the model"
   ]
  },
  {
   "cell_type": "code",
   "execution_count": 12,
   "id": "quiet-louisville",
   "metadata": {
    "execution": {
     "iopub.execute_input": "2021-03-26T10:02:14.837424Z",
     "iopub.status.busy": "2021-03-26T10:02:14.835655Z",
     "iopub.status.idle": "2021-03-26T10:02:14.838016Z",
     "shell.execute_reply": "2021-03-26T10:02:14.838442Z"
    },
    "executionInfo": {
     "elapsed": 1340,
     "status": "ok",
     "timestamp": 1616326770908,
     "user": {
      "displayName": "TAPAS DAS",
      "photoUrl": "https://lh3.googleusercontent.com/a-/AOh14GiyffdGKiPCR_UwVittzTcbBFms70IkGfU15fatCA=s64",
      "userId": "10798398878324948542"
     },
     "user_tz": -330
    },
    "id": "IhtH9c5va7WY",
    "papermill": {
     "duration": 0.027398,
     "end_time": "2021-03-26T10:02:14.838555",
     "exception": false,
     "start_time": "2021-03-26T10:02:14.811157",
     "status": "completed"
    },
    "tags": []
   },
   "outputs": [],
   "source": [
    "params = {}\n",
    "params[\"objective\"] = 'multiclass'\n",
    "params['metric'] = 'multi_logloss'\n",
    "params['boosting'] = 'gbdt'\n",
    "params[\"device_type\"] = 'gpu'\n",
    "params['num_class'] = 5\n",
    "params['is_unbalance'] = True\n",
    "params[\"learning_rate\"] = 0.05\n",
    "params[\"lambda_l2\"] = 0.001\n",
    "params[\"num_leaves\"] = 225\n",
    "params[\"max_depth\"] = 8\n",
    "params[\"feature_fraction\"] = 0.758\n",
    "params[\"bagging_fraction\"] = 0.856\n",
    "params[\"bagging_freq\"] = 7\n",
    "params[\"bagging_seed\"] = 10\n",
    "params[\"min_data_in_leaf\"] = 3\n",
    "params[\"verbosity\"] = -1\n",
    "num_rounds = 5000"
   ]
  },
  {
   "cell_type": "code",
   "execution_count": 13,
   "id": "frequent-blend",
   "metadata": {
    "execution": {
     "iopub.execute_input": "2021-03-26T10:02:14.891477Z",
     "iopub.status.busy": "2021-03-26T10:02:14.890475Z",
     "iopub.status.idle": "2021-03-26T10:23:53.913167Z",
     "shell.execute_reply": "2021-03-26T10:23:53.912652Z"
    },
    "executionInfo": {
     "elapsed": 226745,
     "status": "error",
     "timestamp": 1616326997825,
     "user": {
      "displayName": "TAPAS DAS",
      "photoUrl": "https://lh3.googleusercontent.com/a-/AOh14GiyffdGKiPCR_UwVittzTcbBFms70IkGfU15fatCA=s64",
      "userId": "10798398878324948542"
     },
     "user_tz": -330
    },
    "id": "uWPosEORSVBp",
    "outputId": "ecad76e6-e82d-4e4a-ef18-937bc0235495",
    "papermill": {
     "duration": 1299.056551,
     "end_time": "2021-03-26T10:23:53.913327",
     "exception": false,
     "start_time": "2021-03-26T10:02:14.856776",
     "status": "completed"
    },
    "tags": []
   },
   "outputs": [
    {
     "name": "stderr",
     "output_type": "stream",
     "text": [
      "/opt/conda/lib/python3.7/site-packages/lightgbm/basic.py:1555: UserWarning: categorical_feature in Dataset is overridden.\n",
      "New categorical_feature is [1, 2, 3, 4, 5, 6, 12, 13, 14, 15, 16, 17, 18, 19, 32, 33, 34, 35, 36, 37, 38]\n",
      "  'New categorical_feature is {}'.format(sorted(list(categorical_feature))))\n",
      "/opt/conda/lib/python3.7/site-packages/lightgbm/basic.py:1286: UserWarning: Overriding the parameters from Reference Dataset.\n",
      "  warnings.warn('Overriding the parameters from Reference Dataset.')\n",
      "/opt/conda/lib/python3.7/site-packages/lightgbm/basic.py:1098: UserWarning: categorical_column in param dict is overridden.\n",
      "  warnings.warn('{} in param dict is overridden.'.format(cat_alias))\n"
     ]
    },
    {
     "name": "stdout",
     "output_type": "stream",
     "text": [
      "Training until validation scores don't improve for 200 rounds\n",
      "[100]\ttraining's multi_logloss: 0.254827\tvalid_1's multi_logloss: 0.490971\n",
      "[200]\ttraining's multi_logloss: 0.136596\tvalid_1's multi_logloss: 0.505856\n",
      "[300]\ttraining's multi_logloss: 0.0650251\tvalid_1's multi_logloss: 0.537042\n",
      "Early stopping, best iteration is:\n",
      "[114]\ttraining's multi_logloss: 0.234411\tvalid_1's multi_logloss: 0.49089\n",
      "Seed-24 | Fold-0 | OOF Score: 72.75309380002307\n"
     ]
    },
    {
     "name": "stderr",
     "output_type": "stream",
     "text": [
      "/opt/conda/lib/python3.7/site-packages/lightgbm/basic.py:1555: UserWarning: categorical_feature in Dataset is overridden.\n",
      "New categorical_feature is [1, 2, 3, 4, 5, 6, 12, 13, 14, 15, 16, 17, 18, 19, 32, 33, 34, 35, 36, 37, 38]\n",
      "  'New categorical_feature is {}'.format(sorted(list(categorical_feature))))\n",
      "/opt/conda/lib/python3.7/site-packages/lightgbm/basic.py:1286: UserWarning: Overriding the parameters from Reference Dataset.\n",
      "  warnings.warn('Overriding the parameters from Reference Dataset.')\n",
      "/opt/conda/lib/python3.7/site-packages/lightgbm/basic.py:1098: UserWarning: categorical_column in param dict is overridden.\n",
      "  warnings.warn('{} in param dict is overridden.'.format(cat_alias))\n"
     ]
    },
    {
     "name": "stdout",
     "output_type": "stream",
     "text": [
      "Training until validation scores don't improve for 200 rounds\n",
      "[100]\ttraining's multi_logloss: 0.259152\tvalid_1's multi_logloss: 0.497978\n",
      "[200]\ttraining's multi_logloss: 0.142623\tvalid_1's multi_logloss: 0.51175\n",
      "[300]\ttraining's multi_logloss: 0.0682251\tvalid_1's multi_logloss: 0.539503\n",
      "Early stopping, best iteration is:\n",
      "[106]\ttraining's multi_logloss: 0.250254\tvalid_1's multi_logloss: 0.496914\n",
      "Seed-24 | Fold-1 | OOF Score: 72.98621828022915\n"
     ]
    },
    {
     "name": "stderr",
     "output_type": "stream",
     "text": [
      "/opt/conda/lib/python3.7/site-packages/lightgbm/basic.py:1555: UserWarning: categorical_feature in Dataset is overridden.\n",
      "New categorical_feature is [1, 2, 3, 4, 5, 6, 12, 13, 14, 15, 16, 17, 18, 19, 32, 33, 34, 35, 36, 37, 38]\n",
      "  'New categorical_feature is {}'.format(sorted(list(categorical_feature))))\n",
      "/opt/conda/lib/python3.7/site-packages/lightgbm/basic.py:1286: UserWarning: Overriding the parameters from Reference Dataset.\n",
      "  warnings.warn('Overriding the parameters from Reference Dataset.')\n",
      "/opt/conda/lib/python3.7/site-packages/lightgbm/basic.py:1098: UserWarning: categorical_column in param dict is overridden.\n",
      "  warnings.warn('{} in param dict is overridden.'.format(cat_alias))\n"
     ]
    },
    {
     "name": "stdout",
     "output_type": "stream",
     "text": [
      "Training until validation scores don't improve for 200 rounds\n",
      "[100]\ttraining's multi_logloss: 0.256554\tvalid_1's multi_logloss: 0.488986\n",
      "[200]\ttraining's multi_logloss: 0.133604\tvalid_1's multi_logloss: 0.504431\n",
      "[300]\ttraining's multi_logloss: 0.0631808\tvalid_1's multi_logloss: 0.53379\n",
      "Early stopping, best iteration is:\n",
      "[105]\ttraining's multi_logloss: 0.250287\tvalid_1's multi_logloss: 0.48876\n",
      "Seed-24 | Fold-2 | OOF Score: 72.88013478562536\n"
     ]
    },
    {
     "name": "stderr",
     "output_type": "stream",
     "text": [
      "/opt/conda/lib/python3.7/site-packages/lightgbm/basic.py:1555: UserWarning: categorical_feature in Dataset is overridden.\n",
      "New categorical_feature is [1, 2, 3, 4, 5, 6, 12, 13, 14, 15, 16, 17, 18, 19, 32, 33, 34, 35, 36, 37, 38]\n",
      "  'New categorical_feature is {}'.format(sorted(list(categorical_feature))))\n",
      "/opt/conda/lib/python3.7/site-packages/lightgbm/basic.py:1286: UserWarning: Overriding the parameters from Reference Dataset.\n",
      "  warnings.warn('Overriding the parameters from Reference Dataset.')\n",
      "/opt/conda/lib/python3.7/site-packages/lightgbm/basic.py:1098: UserWarning: categorical_column in param dict is overridden.\n",
      "  warnings.warn('{} in param dict is overridden.'.format(cat_alias))\n"
     ]
    },
    {
     "name": "stdout",
     "output_type": "stream",
     "text": [
      "Training until validation scores don't improve for 200 rounds\n",
      "[100]\ttraining's multi_logloss: 0.250621\tvalid_1's multi_logloss: 0.490005\n",
      "[200]\ttraining's multi_logloss: 0.133523\tvalid_1's multi_logloss: 0.505979\n",
      "[300]\ttraining's multi_logloss: 0.0634938\tvalid_1's multi_logloss: 0.535856\n",
      "Early stopping, best iteration is:\n",
      "[107]\ttraining's multi_logloss: 0.239692\tvalid_1's multi_logloss: 0.489607\n",
      "Seed-24 | Fold-3 | OOF Score: 73.16546828421994\n"
     ]
    },
    {
     "name": "stderr",
     "output_type": "stream",
     "text": [
      "/opt/conda/lib/python3.7/site-packages/lightgbm/basic.py:1555: UserWarning: categorical_feature in Dataset is overridden.\n",
      "New categorical_feature is [1, 2, 3, 4, 5, 6, 12, 13, 14, 15, 16, 17, 18, 19, 32, 33, 34, 35, 36, 37, 38]\n",
      "  'New categorical_feature is {}'.format(sorted(list(categorical_feature))))\n",
      "/opt/conda/lib/python3.7/site-packages/lightgbm/basic.py:1286: UserWarning: Overriding the parameters from Reference Dataset.\n",
      "  warnings.warn('Overriding the parameters from Reference Dataset.')\n",
      "/opt/conda/lib/python3.7/site-packages/lightgbm/basic.py:1098: UserWarning: categorical_column in param dict is overridden.\n",
      "  warnings.warn('{} in param dict is overridden.'.format(cat_alias))\n"
     ]
    },
    {
     "name": "stdout",
     "output_type": "stream",
     "text": [
      "Training until validation scores don't improve for 200 rounds\n",
      "[100]\ttraining's multi_logloss: 0.259883\tvalid_1's multi_logloss: 0.495004\n",
      "[200]\ttraining's multi_logloss: 0.139591\tvalid_1's multi_logloss: 0.512387\n",
      "[300]\ttraining's multi_logloss: 0.0654688\tvalid_1's multi_logloss: 0.545563\n",
      "Early stopping, best iteration is:\n",
      "[111]\ttraining's multi_logloss: 0.245098\tvalid_1's multi_logloss: 0.494873\n",
      "Seed-24 | Fold-4 | OOF Score: 72.5703680743426\n"
     ]
    },
    {
     "name": "stderr",
     "output_type": "stream",
     "text": [
      "/opt/conda/lib/python3.7/site-packages/lightgbm/basic.py:1555: UserWarning: categorical_feature in Dataset is overridden.\n",
      "New categorical_feature is [1, 2, 3, 4, 5, 6, 12, 13, 14, 15, 16, 17, 18, 19, 32, 33, 34, 35, 36, 37, 38]\n",
      "  'New categorical_feature is {}'.format(sorted(list(categorical_feature))))\n",
      "/opt/conda/lib/python3.7/site-packages/lightgbm/basic.py:1286: UserWarning: Overriding the parameters from Reference Dataset.\n",
      "  warnings.warn('Overriding the parameters from Reference Dataset.')\n",
      "/opt/conda/lib/python3.7/site-packages/lightgbm/basic.py:1098: UserWarning: categorical_column in param dict is overridden.\n",
      "  warnings.warn('{} in param dict is overridden.'.format(cat_alias))\n"
     ]
    },
    {
     "name": "stdout",
     "output_type": "stream",
     "text": [
      "Training until validation scores don't improve for 200 rounds\n",
      "[100]\ttraining's multi_logloss: 0.254458\tvalid_1's multi_logloss: 0.483532\n",
      "[200]\ttraining's multi_logloss: 0.135342\tvalid_1's multi_logloss: 0.493058\n",
      "[300]\ttraining's multi_logloss: 0.0637028\tvalid_1's multi_logloss: 0.521439\n",
      "Early stopping, best iteration is:\n",
      "[132]\ttraining's multi_logloss: 0.213463\tvalid_1's multi_logloss: 0.481718\n",
      "Seed-24 | Fold-5 | OOF Score: 73.71447451851108\n"
     ]
    },
    {
     "name": "stderr",
     "output_type": "stream",
     "text": [
      "/opt/conda/lib/python3.7/site-packages/lightgbm/basic.py:1555: UserWarning: categorical_feature in Dataset is overridden.\n",
      "New categorical_feature is [1, 2, 3, 4, 5, 6, 12, 13, 14, 15, 16, 17, 18, 19, 32, 33, 34, 35, 36, 37, 38]\n",
      "  'New categorical_feature is {}'.format(sorted(list(categorical_feature))))\n",
      "/opt/conda/lib/python3.7/site-packages/lightgbm/basic.py:1286: UserWarning: Overriding the parameters from Reference Dataset.\n",
      "  warnings.warn('Overriding the parameters from Reference Dataset.')\n",
      "/opt/conda/lib/python3.7/site-packages/lightgbm/basic.py:1098: UserWarning: categorical_column in param dict is overridden.\n",
      "  warnings.warn('{} in param dict is overridden.'.format(cat_alias))\n"
     ]
    },
    {
     "name": "stdout",
     "output_type": "stream",
     "text": [
      "Training until validation scores don't improve for 200 rounds\n",
      "[100]\ttraining's multi_logloss: 0.253979\tvalid_1's multi_logloss: 0.497415\n",
      "[200]\ttraining's multi_logloss: 0.138759\tvalid_1's multi_logloss: 0.511176\n",
      "[300]\ttraining's multi_logloss: 0.0665445\tvalid_1's multi_logloss: 0.539595\n",
      "Early stopping, best iteration is:\n",
      "[106]\ttraining's multi_logloss: 0.24618\tvalid_1's multi_logloss: 0.497208\n",
      "Seed-24 | Fold-6 | OOF Score: 71.91519611080807\n",
      "\n",
      "Seed: 24 | Aggregate OOF Score: 72.8549934076799\n",
      "\n",
      "\n"
     ]
    },
    {
     "name": "stderr",
     "output_type": "stream",
     "text": [
      "/opt/conda/lib/python3.7/site-packages/lightgbm/basic.py:1555: UserWarning: categorical_feature in Dataset is overridden.\n",
      "New categorical_feature is [1, 2, 3, 4, 5, 6, 12, 13, 14, 15, 16, 17, 18, 19, 32, 33, 34, 35, 36, 37, 38]\n",
      "  'New categorical_feature is {}'.format(sorted(list(categorical_feature))))\n",
      "/opt/conda/lib/python3.7/site-packages/lightgbm/basic.py:1286: UserWarning: Overriding the parameters from Reference Dataset.\n",
      "  warnings.warn('Overriding the parameters from Reference Dataset.')\n",
      "/opt/conda/lib/python3.7/site-packages/lightgbm/basic.py:1098: UserWarning: categorical_column in param dict is overridden.\n",
      "  warnings.warn('{} in param dict is overridden.'.format(cat_alias))\n"
     ]
    },
    {
     "name": "stdout",
     "output_type": "stream",
     "text": [
      "Training until validation scores don't improve for 200 rounds\n",
      "[100]\ttraining's multi_logloss: 0.255161\tvalid_1's multi_logloss: 0.476579\n",
      "[200]\ttraining's multi_logloss: 0.138684\tvalid_1's multi_logloss: 0.48814\n",
      "[300]\ttraining's multi_logloss: 0.06472\tvalid_1's multi_logloss: 0.51646\n",
      "Early stopping, best iteration is:\n",
      "[114]\ttraining's multi_logloss: 0.235389\tvalid_1's multi_logloss: 0.476176\n",
      "Seed-3 | Fold-0 | OOF Score: 74.02647534952196\n"
     ]
    },
    {
     "name": "stderr",
     "output_type": "stream",
     "text": [
      "/opt/conda/lib/python3.7/site-packages/lightgbm/basic.py:1555: UserWarning: categorical_feature in Dataset is overridden.\n",
      "New categorical_feature is [1, 2, 3, 4, 5, 6, 12, 13, 14, 15, 16, 17, 18, 19, 32, 33, 34, 35, 36, 37, 38]\n",
      "  'New categorical_feature is {}'.format(sorted(list(categorical_feature))))\n",
      "/opt/conda/lib/python3.7/site-packages/lightgbm/basic.py:1286: UserWarning: Overriding the parameters from Reference Dataset.\n",
      "  warnings.warn('Overriding the parameters from Reference Dataset.')\n",
      "/opt/conda/lib/python3.7/site-packages/lightgbm/basic.py:1098: UserWarning: categorical_column in param dict is overridden.\n",
      "  warnings.warn('{} in param dict is overridden.'.format(cat_alias))\n"
     ]
    },
    {
     "name": "stdout",
     "output_type": "stream",
     "text": [
      "Training until validation scores don't improve for 200 rounds\n",
      "[100]\ttraining's multi_logloss: 0.256675\tvalid_1's multi_logloss: 0.473569\n",
      "[200]\ttraining's multi_logloss: 0.134564\tvalid_1's multi_logloss: 0.483111\n",
      "[300]\ttraining's multi_logloss: 0.062188\tvalid_1's multi_logloss: 0.509103\n",
      "Early stopping, best iteration is:\n",
      "[113]\ttraining's multi_logloss: 0.237807\tvalid_1's multi_logloss: 0.473192\n",
      "Seed-3 | Fold-1 | OOF Score: 74.18149613294906\n"
     ]
    },
    {
     "name": "stderr",
     "output_type": "stream",
     "text": [
      "/opt/conda/lib/python3.7/site-packages/lightgbm/basic.py:1555: UserWarning: categorical_feature in Dataset is overridden.\n",
      "New categorical_feature is [1, 2, 3, 4, 5, 6, 12, 13, 14, 15, 16, 17, 18, 19, 32, 33, 34, 35, 36, 37, 38]\n",
      "  'New categorical_feature is {}'.format(sorted(list(categorical_feature))))\n",
      "/opt/conda/lib/python3.7/site-packages/lightgbm/basic.py:1286: UserWarning: Overriding the parameters from Reference Dataset.\n",
      "  warnings.warn('Overriding the parameters from Reference Dataset.')\n",
      "/opt/conda/lib/python3.7/site-packages/lightgbm/basic.py:1098: UserWarning: categorical_column in param dict is overridden.\n",
      "  warnings.warn('{} in param dict is overridden.'.format(cat_alias))\n"
     ]
    },
    {
     "name": "stdout",
     "output_type": "stream",
     "text": [
      "Training until validation scores don't improve for 200 rounds\n",
      "[100]\ttraining's multi_logloss: 0.251848\tvalid_1's multi_logloss: 0.505871\n",
      "[200]\ttraining's multi_logloss: 0.134861\tvalid_1's multi_logloss: 0.522285\n",
      "[300]\ttraining's multi_logloss: 0.0655412\tvalid_1's multi_logloss: 0.554065\n",
      "Early stopping, best iteration is:\n",
      "[100]\ttraining's multi_logloss: 0.251848\tvalid_1's multi_logloss: 0.505871\n",
      "Seed-3 | Fold-2 | OOF Score: 72.27554856956138\n"
     ]
    },
    {
     "name": "stderr",
     "output_type": "stream",
     "text": [
      "/opt/conda/lib/python3.7/site-packages/lightgbm/basic.py:1555: UserWarning: categorical_feature in Dataset is overridden.\n",
      "New categorical_feature is [1, 2, 3, 4, 5, 6, 12, 13, 14, 15, 16, 17, 18, 19, 32, 33, 34, 35, 36, 37, 38]\n",
      "  'New categorical_feature is {}'.format(sorted(list(categorical_feature))))\n",
      "/opt/conda/lib/python3.7/site-packages/lightgbm/basic.py:1286: UserWarning: Overriding the parameters from Reference Dataset.\n",
      "  warnings.warn('Overriding the parameters from Reference Dataset.')\n",
      "/opt/conda/lib/python3.7/site-packages/lightgbm/basic.py:1098: UserWarning: categorical_column in param dict is overridden.\n",
      "  warnings.warn('{} in param dict is overridden.'.format(cat_alias))\n"
     ]
    },
    {
     "name": "stdout",
     "output_type": "stream",
     "text": [
      "Training until validation scores don't improve for 200 rounds\n",
      "[100]\ttraining's multi_logloss: 0.258179\tvalid_1's multi_logloss: 0.487955\n",
      "[200]\ttraining's multi_logloss: 0.138351\tvalid_1's multi_logloss: 0.502045\n",
      "[300]\ttraining's multi_logloss: 0.0645365\tvalid_1's multi_logloss: 0.532074\n",
      "Early stopping, best iteration is:\n",
      "[112]\ttraining's multi_logloss: 0.242382\tvalid_1's multi_logloss: 0.487421\n",
      "Seed-3 | Fold-3 | OOF Score: 72.45914795597422\n"
     ]
    },
    {
     "name": "stderr",
     "output_type": "stream",
     "text": [
      "/opt/conda/lib/python3.7/site-packages/lightgbm/basic.py:1555: UserWarning: categorical_feature in Dataset is overridden.\n",
      "New categorical_feature is [1, 2, 3, 4, 5, 6, 12, 13, 14, 15, 16, 17, 18, 19, 32, 33, 34, 35, 36, 37, 38]\n",
      "  'New categorical_feature is {}'.format(sorted(list(categorical_feature))))\n",
      "/opt/conda/lib/python3.7/site-packages/lightgbm/basic.py:1286: UserWarning: Overriding the parameters from Reference Dataset.\n",
      "  warnings.warn('Overriding the parameters from Reference Dataset.')\n",
      "/opt/conda/lib/python3.7/site-packages/lightgbm/basic.py:1098: UserWarning: categorical_column in param dict is overridden.\n",
      "  warnings.warn('{} in param dict is overridden.'.format(cat_alias))\n"
     ]
    },
    {
     "name": "stdout",
     "output_type": "stream",
     "text": [
      "Training until validation scores don't improve for 200 rounds\n",
      "[100]\ttraining's multi_logloss: 0.252197\tvalid_1's multi_logloss: 0.503165\n",
      "[200]\ttraining's multi_logloss: 0.134301\tvalid_1's multi_logloss: 0.51561\n",
      "[300]\ttraining's multi_logloss: 0.0644815\tvalid_1's multi_logloss: 0.543646\n",
      "Early stopping, best iteration is:\n",
      "[114]\ttraining's multi_logloss: 0.232583\tvalid_1's multi_logloss: 0.502228\n",
      "Seed-3 | Fold-4 | OOF Score: 72.811461217035\n"
     ]
    },
    {
     "name": "stderr",
     "output_type": "stream",
     "text": [
      "/opt/conda/lib/python3.7/site-packages/lightgbm/basic.py:1555: UserWarning: categorical_feature in Dataset is overridden.\n",
      "New categorical_feature is [1, 2, 3, 4, 5, 6, 12, 13, 14, 15, 16, 17, 18, 19, 32, 33, 34, 35, 36, 37, 38]\n",
      "  'New categorical_feature is {}'.format(sorted(list(categorical_feature))))\n",
      "/opt/conda/lib/python3.7/site-packages/lightgbm/basic.py:1286: UserWarning: Overriding the parameters from Reference Dataset.\n",
      "  warnings.warn('Overriding the parameters from Reference Dataset.')\n",
      "/opt/conda/lib/python3.7/site-packages/lightgbm/basic.py:1098: UserWarning: categorical_column in param dict is overridden.\n",
      "  warnings.warn('{} in param dict is overridden.'.format(cat_alias))\n"
     ]
    },
    {
     "name": "stdout",
     "output_type": "stream",
     "text": [
      "Training until validation scores don't improve for 200 rounds\n",
      "[100]\ttraining's multi_logloss: 0.256416\tvalid_1's multi_logloss: 0.491848\n",
      "[200]\ttraining's multi_logloss: 0.135176\tvalid_1's multi_logloss: 0.506954\n",
      "[300]\ttraining's multi_logloss: 0.0633759\tvalid_1's multi_logloss: 0.535953\n",
      "Early stopping, best iteration is:\n",
      "[101]\ttraining's multi_logloss: 0.254807\tvalid_1's multi_logloss: 0.491837\n",
      "Seed-3 | Fold-5 | OOF Score: 73.16940493868594\n"
     ]
    },
    {
     "name": "stderr",
     "output_type": "stream",
     "text": [
      "/opt/conda/lib/python3.7/site-packages/lightgbm/basic.py:1555: UserWarning: categorical_feature in Dataset is overridden.\n",
      "New categorical_feature is [1, 2, 3, 4, 5, 6, 12, 13, 14, 15, 16, 17, 18, 19, 32, 33, 34, 35, 36, 37, 38]\n",
      "  'New categorical_feature is {}'.format(sorted(list(categorical_feature))))\n",
      "/opt/conda/lib/python3.7/site-packages/lightgbm/basic.py:1286: UserWarning: Overriding the parameters from Reference Dataset.\n",
      "  warnings.warn('Overriding the parameters from Reference Dataset.')\n",
      "/opt/conda/lib/python3.7/site-packages/lightgbm/basic.py:1098: UserWarning: categorical_column in param dict is overridden.\n",
      "  warnings.warn('{} in param dict is overridden.'.format(cat_alias))\n"
     ]
    },
    {
     "name": "stdout",
     "output_type": "stream",
     "text": [
      "Training until validation scores don't improve for 200 rounds\n",
      "[100]\ttraining's multi_logloss: 0.251539\tvalid_1's multi_logloss: 0.497777\n",
      "[200]\ttraining's multi_logloss: 0.139272\tvalid_1's multi_logloss: 0.512603\n",
      "[300]\ttraining's multi_logloss: 0.0648664\tvalid_1's multi_logloss: 0.542571\n",
      "Early stopping, best iteration is:\n",
      "[102]\ttraining's multi_logloss: 0.248751\tvalid_1's multi_logloss: 0.497753\n",
      "Seed-3 | Fold-6 | OOF Score: 72.6634601302364\n",
      "\n",
      "Seed: 3 | Aggregate OOF Score: 73.08385632770913\n",
      "\n",
      "\n"
     ]
    },
    {
     "name": "stderr",
     "output_type": "stream",
     "text": [
      "/opt/conda/lib/python3.7/site-packages/lightgbm/basic.py:1555: UserWarning: categorical_feature in Dataset is overridden.\n",
      "New categorical_feature is [1, 2, 3, 4, 5, 6, 12, 13, 14, 15, 16, 17, 18, 19, 32, 33, 34, 35, 36, 37, 38]\n",
      "  'New categorical_feature is {}'.format(sorted(list(categorical_feature))))\n",
      "/opt/conda/lib/python3.7/site-packages/lightgbm/basic.py:1286: UserWarning: Overriding the parameters from Reference Dataset.\n",
      "  warnings.warn('Overriding the parameters from Reference Dataset.')\n",
      "/opt/conda/lib/python3.7/site-packages/lightgbm/basic.py:1098: UserWarning: categorical_column in param dict is overridden.\n",
      "  warnings.warn('{} in param dict is overridden.'.format(cat_alias))\n"
     ]
    },
    {
     "name": "stdout",
     "output_type": "stream",
     "text": [
      "Training until validation scores don't improve for 200 rounds\n",
      "[100]\ttraining's multi_logloss: 0.251916\tvalid_1's multi_logloss: 0.492731\n",
      "[200]\ttraining's multi_logloss: 0.135249\tvalid_1's multi_logloss: 0.505783\n",
      "[300]\ttraining's multi_logloss: 0.0635475\tvalid_1's multi_logloss: 0.537612\n",
      "Early stopping, best iteration is:\n",
      "[112]\ttraining's multi_logloss: 0.234009\tvalid_1's multi_logloss: 0.492049\n",
      "Seed-56 | Fold-0 | OOF Score: 73.44618780604624\n"
     ]
    },
    {
     "name": "stderr",
     "output_type": "stream",
     "text": [
      "/opt/conda/lib/python3.7/site-packages/lightgbm/basic.py:1555: UserWarning: categorical_feature in Dataset is overridden.\n",
      "New categorical_feature is [1, 2, 3, 4, 5, 6, 12, 13, 14, 15, 16, 17, 18, 19, 32, 33, 34, 35, 36, 37, 38]\n",
      "  'New categorical_feature is {}'.format(sorted(list(categorical_feature))))\n",
      "/opt/conda/lib/python3.7/site-packages/lightgbm/basic.py:1286: UserWarning: Overriding the parameters from Reference Dataset.\n",
      "  warnings.warn('Overriding the parameters from Reference Dataset.')\n",
      "/opt/conda/lib/python3.7/site-packages/lightgbm/basic.py:1098: UserWarning: categorical_column in param dict is overridden.\n",
      "  warnings.warn('{} in param dict is overridden.'.format(cat_alias))\n"
     ]
    },
    {
     "name": "stdout",
     "output_type": "stream",
     "text": [
      "Training until validation scores don't improve for 200 rounds\n",
      "[100]\ttraining's multi_logloss: 0.252189\tvalid_1's multi_logloss: 0.496783\n",
      "[200]\ttraining's multi_logloss: 0.134013\tvalid_1's multi_logloss: 0.509427\n",
      "[300]\ttraining's multi_logloss: 0.0635461\tvalid_1's multi_logloss: 0.538726\n",
      "Early stopping, best iteration is:\n",
      "[116]\ttraining's multi_logloss: 0.230062\tvalid_1's multi_logloss: 0.495927\n",
      "Seed-56 | Fold-1 | OOF Score: 72.24385404295953\n"
     ]
    },
    {
     "name": "stderr",
     "output_type": "stream",
     "text": [
      "/opt/conda/lib/python3.7/site-packages/lightgbm/basic.py:1555: UserWarning: categorical_feature in Dataset is overridden.\n",
      "New categorical_feature is [1, 2, 3, 4, 5, 6, 12, 13, 14, 15, 16, 17, 18, 19, 32, 33, 34, 35, 36, 37, 38]\n",
      "  'New categorical_feature is {}'.format(sorted(list(categorical_feature))))\n",
      "/opt/conda/lib/python3.7/site-packages/lightgbm/basic.py:1286: UserWarning: Overriding the parameters from Reference Dataset.\n",
      "  warnings.warn('Overriding the parameters from Reference Dataset.')\n",
      "/opt/conda/lib/python3.7/site-packages/lightgbm/basic.py:1098: UserWarning: categorical_column in param dict is overridden.\n",
      "  warnings.warn('{} in param dict is overridden.'.format(cat_alias))\n"
     ]
    },
    {
     "name": "stdout",
     "output_type": "stream",
     "text": [
      "Training until validation scores don't improve for 200 rounds\n",
      "[100]\ttraining's multi_logloss: 0.255201\tvalid_1's multi_logloss: 0.495359\n",
      "[200]\ttraining's multi_logloss: 0.132597\tvalid_1's multi_logloss: 0.507623\n",
      "[300]\ttraining's multi_logloss: 0.0645114\tvalid_1's multi_logloss: 0.53533\n",
      "Early stopping, best iteration is:\n",
      "[104]\ttraining's multi_logloss: 0.249727\tvalid_1's multi_logloss: 0.495031\n",
      "Seed-56 | Fold-2 | OOF Score: 73.77515963639227\n"
     ]
    },
    {
     "name": "stderr",
     "output_type": "stream",
     "text": [
      "/opt/conda/lib/python3.7/site-packages/lightgbm/basic.py:1555: UserWarning: categorical_feature in Dataset is overridden.\n",
      "New categorical_feature is [1, 2, 3, 4, 5, 6, 12, 13, 14, 15, 16, 17, 18, 19, 32, 33, 34, 35, 36, 37, 38]\n",
      "  'New categorical_feature is {}'.format(sorted(list(categorical_feature))))\n",
      "/opt/conda/lib/python3.7/site-packages/lightgbm/basic.py:1286: UserWarning: Overriding the parameters from Reference Dataset.\n",
      "  warnings.warn('Overriding the parameters from Reference Dataset.')\n",
      "/opt/conda/lib/python3.7/site-packages/lightgbm/basic.py:1098: UserWarning: categorical_column in param dict is overridden.\n",
      "  warnings.warn('{} in param dict is overridden.'.format(cat_alias))\n"
     ]
    },
    {
     "name": "stdout",
     "output_type": "stream",
     "text": [
      "Training until validation scores don't improve for 200 rounds\n",
      "[100]\ttraining's multi_logloss: 0.254463\tvalid_1's multi_logloss: 0.497141\n",
      "[200]\ttraining's multi_logloss: 0.138184\tvalid_1's multi_logloss: 0.511389\n",
      "[300]\ttraining's multi_logloss: 0.0651732\tvalid_1's multi_logloss: 0.539833\n",
      "Early stopping, best iteration is:\n",
      "[110]\ttraining's multi_logloss: 0.241621\tvalid_1's multi_logloss: 0.496344\n",
      "Seed-56 | Fold-3 | OOF Score: 72.78758621380798\n"
     ]
    },
    {
     "name": "stderr",
     "output_type": "stream",
     "text": [
      "/opt/conda/lib/python3.7/site-packages/lightgbm/basic.py:1555: UserWarning: categorical_feature in Dataset is overridden.\n",
      "New categorical_feature is [1, 2, 3, 4, 5, 6, 12, 13, 14, 15, 16, 17, 18, 19, 32, 33, 34, 35, 36, 37, 38]\n",
      "  'New categorical_feature is {}'.format(sorted(list(categorical_feature))))\n",
      "/opt/conda/lib/python3.7/site-packages/lightgbm/basic.py:1286: UserWarning: Overriding the parameters from Reference Dataset.\n",
      "  warnings.warn('Overriding the parameters from Reference Dataset.')\n",
      "/opt/conda/lib/python3.7/site-packages/lightgbm/basic.py:1098: UserWarning: categorical_column in param dict is overridden.\n",
      "  warnings.warn('{} in param dict is overridden.'.format(cat_alias))\n"
     ]
    },
    {
     "name": "stdout",
     "output_type": "stream",
     "text": [
      "Training until validation scores don't improve for 200 rounds\n",
      "[100]\ttraining's multi_logloss: 0.255113\tvalid_1's multi_logloss: 0.490547\n",
      "[200]\ttraining's multi_logloss: 0.139873\tvalid_1's multi_logloss: 0.502686\n",
      "[300]\ttraining's multi_logloss: 0.0665022\tvalid_1's multi_logloss: 0.532037\n",
      "Early stopping, best iteration is:\n",
      "[103]\ttraining's multi_logloss: 0.250527\tvalid_1's multi_logloss: 0.490382\n",
      "Seed-56 | Fold-4 | OOF Score: 73.34550547456286\n"
     ]
    },
    {
     "name": "stderr",
     "output_type": "stream",
     "text": [
      "/opt/conda/lib/python3.7/site-packages/lightgbm/basic.py:1555: UserWarning: categorical_feature in Dataset is overridden.\n",
      "New categorical_feature is [1, 2, 3, 4, 5, 6, 12, 13, 14, 15, 16, 17, 18, 19, 32, 33, 34, 35, 36, 37, 38]\n",
      "  'New categorical_feature is {}'.format(sorted(list(categorical_feature))))\n",
      "/opt/conda/lib/python3.7/site-packages/lightgbm/basic.py:1286: UserWarning: Overriding the parameters from Reference Dataset.\n",
      "  warnings.warn('Overriding the parameters from Reference Dataset.')\n",
      "/opt/conda/lib/python3.7/site-packages/lightgbm/basic.py:1098: UserWarning: categorical_column in param dict is overridden.\n",
      "  warnings.warn('{} in param dict is overridden.'.format(cat_alias))\n"
     ]
    },
    {
     "name": "stdout",
     "output_type": "stream",
     "text": [
      "Training until validation scores don't improve for 200 rounds\n",
      "[100]\ttraining's multi_logloss: 0.258104\tvalid_1's multi_logloss: 0.476033\n",
      "[200]\ttraining's multi_logloss: 0.136855\tvalid_1's multi_logloss: 0.487304\n",
      "[300]\ttraining's multi_logloss: 0.0660169\tvalid_1's multi_logloss: 0.512899\n",
      "Early stopping, best iteration is:\n",
      "[108]\ttraining's multi_logloss: 0.24638\tvalid_1's multi_logloss: 0.475578\n",
      "Seed-56 | Fold-5 | OOF Score: 73.29290472097085\n"
     ]
    },
    {
     "name": "stderr",
     "output_type": "stream",
     "text": [
      "/opt/conda/lib/python3.7/site-packages/lightgbm/basic.py:1555: UserWarning: categorical_feature in Dataset is overridden.\n",
      "New categorical_feature is [1, 2, 3, 4, 5, 6, 12, 13, 14, 15, 16, 17, 18, 19, 32, 33, 34, 35, 36, 37, 38]\n",
      "  'New categorical_feature is {}'.format(sorted(list(categorical_feature))))\n",
      "/opt/conda/lib/python3.7/site-packages/lightgbm/basic.py:1286: UserWarning: Overriding the parameters from Reference Dataset.\n",
      "  warnings.warn('Overriding the parameters from Reference Dataset.')\n",
      "/opt/conda/lib/python3.7/site-packages/lightgbm/basic.py:1098: UserWarning: categorical_column in param dict is overridden.\n",
      "  warnings.warn('{} in param dict is overridden.'.format(cat_alias))\n"
     ]
    },
    {
     "name": "stdout",
     "output_type": "stream",
     "text": [
      "Training until validation scores don't improve for 200 rounds\n",
      "[100]\ttraining's multi_logloss: 0.256358\tvalid_1's multi_logloss: 0.48427\n",
      "[200]\ttraining's multi_logloss: 0.13961\tvalid_1's multi_logloss: 0.498571\n",
      "[300]\ttraining's multi_logloss: 0.0657096\tvalid_1's multi_logloss: 0.527054\n",
      "Early stopping, best iteration is:\n",
      "[106]\ttraining's multi_logloss: 0.248382\tvalid_1's multi_logloss: 0.483984\n",
      "Seed-56 | Fold-6 | OOF Score: 72.80442590101825\n",
      "\n",
      "Seed: 56 | Aggregate OOF Score: 73.09937482796542\n",
      "\n",
      "\n",
      "Aggregate OOF Score: 73.01274152111817\n"
     ]
    }
   ],
   "source": [
    "FOLD = 7\n",
    "NUM_SEED = 3\n",
    "\n",
    "np.random.seed(3)\n",
    "seeds = np.random.randint(0, 100, size=NUM_SEED)\n",
    "\n",
    "oof_score = 0\n",
    "y_pred_meta_lgb = np.zeros((Ytrain.shape[0], 5))\n",
    "y_pred_final_lgb = np.zeros((Xtest.shape[0], 5))\n",
    "counter = 0\n",
    "\n",
    "\n",
    "for sidx, seed in enumerate(seeds):\n",
    "    seed_score = 0\n",
    "    \n",
    "    kfold = StratifiedKFold(n_splits=FOLD, shuffle=True, random_state=seed)\n",
    "\n",
    "    for idx, (train, val) in enumerate(kfold.split(Xtrain, Ytrain)):\n",
    "        counter += 1\n",
    "\n",
    "        train_x, train_y = Xtrain[train], Ytrain[train]\n",
    "        val_x, val_y = Xtrain[val], Ytrain[val]\n",
    "\n",
    "        lgtrain = lgb.Dataset(train_x, label=train_y.ravel())\n",
    "        lgvalidation = lgb.Dataset(val_x, label=val_y.ravel())\n",
    "\n",
    "        model = lgb.train(params, lgtrain, num_rounds, \n",
    "                          valid_sets=[lgtrain, lgvalidation], \n",
    "                          categorical_feature=cat_cols_indices,\n",
    "                          early_stopping_rounds=200, verbose_eval=100)\n",
    "\n",
    "        y_pred = model.predict(val_x, num_iteration=model.best_iteration)\n",
    "        y_pred = np.array([np.argmax(y_pred, axis=1)]).T\n",
    "        y_pred_meta_lgb[val] += model.predict(val_x, num_iteration=model.best_iteration)\n",
    "        y_pred_final_lgb += model.predict(Xtest, num_iteration=model.best_iteration)\n",
    "        \n",
    "        score = 100 * f1_score(val_y, y_pred, average='macro')\n",
    "        oof_score += score\n",
    "        seed_score += score\n",
    "        print(\"Seed-{} | Fold-{} | OOF Score: {}\".format(seed, idx, score))\n",
    "    \n",
    "    print(\"\\nSeed: {} | Aggregate OOF Score: {}\\n\\n\".format(seed, (seed_score / FOLD)))\n",
    "\n",
    "\n",
    "y_pred_meta_lgb = y_pred_meta_lgb / float(NUM_SEED)\n",
    "y_pred_final_lgb = y_pred_final_lgb / float(counter)\n",
    "oof_score /= float(counter)\n",
    "print(\"Aggregate OOF Score: {}\".format(oof_score))"
   ]
  },
  {
   "cell_type": "code",
   "execution_count": 14,
   "id": "apart-patent",
   "metadata": {
    "execution": {
     "iopub.execute_input": "2021-03-26T10:23:54.049543Z",
     "iopub.status.busy": "2021-03-26T10:23:54.048745Z",
     "iopub.status.idle": "2021-03-26T10:23:54.159446Z",
     "shell.execute_reply": "2021-03-26T10:23:54.158945Z"
    },
    "id": "uLzmS7LzXvXy",
    "papermill": {
     "duration": 0.178377,
     "end_time": "2021-03-26T10:23:54.159568",
     "exception": false,
     "start_time": "2021-03-26T10:23:53.981191",
     "status": "completed"
    },
    "tags": []
   },
   "outputs": [],
   "source": [
    "np.savez_compressed('./LGB_Meta_Features.npz',\n",
    "                    y_pred_meta_lgb=y_pred_meta_lgb, \n",
    "                    oof_score=oof_score,\n",
    "                    y_pred_final_lgb=y_pred_final_lgb)"
   ]
  },
  {
   "cell_type": "markdown",
   "id": "medieval-secretariat",
   "metadata": {
    "id": "nZvoU4TpWxmY",
    "papermill": {
     "duration": 0.071172,
     "end_time": "2021-03-26T10:23:54.298228",
     "exception": false,
     "start_time": "2021-03-26T10:23:54.227056",
     "status": "completed"
    },
    "tags": []
   },
   "source": [
    "## Create submission file"
   ]
  },
  {
   "cell_type": "code",
   "execution_count": 15,
   "id": "invisible-coordinator",
   "metadata": {
    "execution": {
     "iopub.execute_input": "2021-03-26T10:23:54.442847Z",
     "iopub.status.busy": "2021-03-26T10:23:54.442335Z",
     "iopub.status.idle": "2021-03-26T10:23:54.620731Z",
     "shell.execute_reply": "2021-03-26T10:23:54.619812Z"
    },
    "executionInfo": {
     "elapsed": 1417,
     "status": "ok",
     "timestamp": 1616078535765,
     "user": {
      "displayName": "TAPAS DAS",
      "photoUrl": "https://lh3.googleusercontent.com/a-/AOh14GiyffdGKiPCR_UwVittzTcbBFms70IkGfU15fatCA=s64",
      "userId": "10798398878324948542"
     },
     "user_tz": -330
    },
    "id": "zGEGOAJHVoHV",
    "outputId": "53ab44cf-755f-435d-c1af-f4184f2114dd",
    "papermill": {
     "duration": 0.255433,
     "end_time": "2021-03-26T10:23:54.620858",
     "exception": false,
     "start_time": "2021-03-26T10:23:54.365425",
     "status": "completed"
    },
    "tags": []
   },
   "outputs": [
    {
     "data": {
      "text/html": [
       "<div>\n",
       "<style scoped>\n",
       "    .dataframe tbody tr th:only-of-type {\n",
       "        vertical-align: middle;\n",
       "    }\n",
       "\n",
       "    .dataframe tbody tr th {\n",
       "        vertical-align: top;\n",
       "    }\n",
       "\n",
       "    .dataframe thead th {\n",
       "        text-align: right;\n",
       "    }\n",
       "</style>\n",
       "<table border=\"1\" class=\"dataframe\">\n",
       "  <thead>\n",
       "    <tr style=\"text-align: right;\">\n",
       "      <th></th>\n",
       "      <th>customer_id</th>\n",
       "      <th>churn_risk_score</th>\n",
       "    </tr>\n",
       "  </thead>\n",
       "  <tbody>\n",
       "    <tr>\n",
       "      <th>0</th>\n",
       "      <td>fffe43004900440031003700300030003400</td>\n",
       "      <td>3</td>\n",
       "    </tr>\n",
       "    <tr>\n",
       "      <th>1</th>\n",
       "      <td>fffe43004900440031003900370037003300</td>\n",
       "      <td>3</td>\n",
       "    </tr>\n",
       "    <tr>\n",
       "      <th>2</th>\n",
       "      <td>fffe43004900440034003800360037003000</td>\n",
       "      <td>3</td>\n",
       "    </tr>\n",
       "    <tr>\n",
       "      <th>3</th>\n",
       "      <td>fffe43004900440036003200370033003400</td>\n",
       "      <td>3</td>\n",
       "    </tr>\n",
       "    <tr>\n",
       "      <th>4</th>\n",
       "      <td>fffe43004900440035003000370031003900</td>\n",
       "      <td>5</td>\n",
       "    </tr>\n",
       "  </tbody>\n",
       "</table>\n",
       "</div>"
      ],
      "text/plain": [
       "                            customer_id  churn_risk_score\n",
       "0  fffe43004900440031003700300030003400                 3\n",
       "1  fffe43004900440031003900370037003300                 3\n",
       "2  fffe43004900440034003800360037003000                 3\n",
       "3  fffe43004900440036003200370033003400                 3\n",
       "4  fffe43004900440035003000370031003900                 5"
      ]
     },
     "execution_count": 15,
     "metadata": {},
     "output_type": "execute_result"
    }
   ],
   "source": [
    "test_df = pd.read_csv(\"../input/customer-churn-rate-prediction/dataset/test.csv\")\n",
    "submit_df = pd.DataFrame()\n",
    "submit_df['customer_id'] = test_df['customer_id']\n",
    "submit_df['churn_risk_score'] = np.array([np.argmax(y_pred_final_lgb, axis=1)]).T\n",
    "submit_df['churn_risk_score'] = submit_df['churn_risk_score'].apply(lambda x: 5 if x==0 else x)\n",
    "submit_df.head()"
   ]
  },
  {
   "cell_type": "code",
   "execution_count": 16,
   "id": "robust-intro",
   "metadata": {
    "execution": {
     "iopub.execute_input": "2021-03-26T10:23:54.747249Z",
     "iopub.status.busy": "2021-03-26T10:23:54.746731Z",
     "iopub.status.idle": "2021-03-26T10:23:54.914249Z",
     "shell.execute_reply": "2021-03-26T10:23:54.913473Z"
    },
    "id": "KDIsotrKVoJN",
    "papermill": {
     "duration": 0.231873,
     "end_time": "2021-03-26T10:23:54.914378",
     "exception": false,
     "start_time": "2021-03-26T10:23:54.682505",
     "status": "completed"
    },
    "tags": []
   },
   "outputs": [],
   "source": [
    "submit_df.to_csv(\"./LGB_submission.csv\", index=False)"
   ]
  },
  {
   "cell_type": "code",
   "execution_count": null,
   "id": "patient-fifth",
   "metadata": {
    "id": "W2c88MvxXm65",
    "papermill": {
     "duration": 0.061031,
     "end_time": "2021-03-26T10:23:55.037515",
     "exception": false,
     "start_time": "2021-03-26T10:23:54.976484",
     "status": "completed"
    },
    "tags": []
   },
   "outputs": [],
   "source": []
  }
 ],
 "metadata": {
  "kernelspec": {
   "display_name": "Python 3",
   "language": "python",
   "name": "python3"
  },
  "language_info": {
   "codemirror_mode": {
    "name": "ipython",
    "version": 3
   },
   "file_extension": ".py",
   "mimetype": "text/x-python",
   "name": "python",
   "nbconvert_exporter": "python",
   "pygments_lexer": "ipython3",
   "version": "3.7.9"
  },
  "papermill": {
   "default_parameters": {},
   "duration": 1325.213345,
   "end_time": "2021-03-26T10:23:57.636971",
   "environment_variables": {},
   "exception": null,
   "input_path": "__notebook__.ipynb",
   "output_path": "__notebook__.ipynb",
   "parameters": {},
   "start_time": "2021-03-26T10:01:52.423626",
   "version": "2.3.2"
  }
 },
 "nbformat": 4,
 "nbformat_minor": 5
}
