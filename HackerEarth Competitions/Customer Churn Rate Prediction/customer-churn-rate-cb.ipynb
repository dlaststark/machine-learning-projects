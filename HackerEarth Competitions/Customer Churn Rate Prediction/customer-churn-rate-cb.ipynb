{
 "cells": [
  {
   "cell_type": "markdown",
   "metadata": {
    "id": "uLz9OcH8SeET",
    "papermill": {
     "duration": 0.013368,
     "end_time": "2021-03-26T07:30:41.794391",
     "exception": false,
     "start_time": "2021-03-26T07:30:41.781023",
     "status": "completed"
    },
    "tags": []
   },
   "source": [
    "## Import libraries"
   ]
  },
  {
   "cell_type": "code",
   "execution_count": 1,
   "metadata": {
    "execution": {
     "iopub.execute_input": "2021-03-26T07:30:41.825335Z",
     "iopub.status.busy": "2021-03-26T07:30:41.824589Z",
     "iopub.status.idle": "2021-03-26T07:30:49.605505Z",
     "shell.execute_reply": "2021-03-26T07:30:49.604183Z"
    },
    "executionInfo": {
     "elapsed": 25675,
     "status": "ok",
     "timestamp": 1615993018008,
     "user": {
      "displayName": "TAPAS DAS",
      "photoUrl": "https://lh3.googleusercontent.com/a-/AOh14GiyffdGKiPCR_UwVittzTcbBFms70IkGfU15fatCA=s64",
      "userId": "10798398878324948542"
     },
     "user_tz": -330
    },
    "id": "E9svswc9SUuX",
    "papermill": {
     "duration": 7.798165,
     "end_time": "2021-03-26T07:30:49.605692",
     "exception": false,
     "start_time": "2021-03-26T07:30:41.807527",
     "status": "completed"
    },
    "tags": []
   },
   "outputs": [],
   "source": [
    "import gc\n",
    "import pickle\n",
    "import optuna\n",
    "import numpy as np\n",
    "import pandas as pd\n",
    "from sklearn.metrics import f1_score\n",
    "from catboost import CatBoostClassifier\n",
    "from sklearn.model_selection import StratifiedKFold\n",
    "from tensorflow.keras.models import Model, load_model\n",
    "from tensorflow_addons.optimizers import AdamW, Lookahead"
   ]
  },
  {
   "cell_type": "markdown",
   "metadata": {
    "id": "iDv0VFRMS7z2",
    "papermill": {
     "duration": 0.012127,
     "end_time": "2021-03-26T07:30:49.631762",
     "exception": false,
     "start_time": "2021-03-26T07:30:49.619635",
     "status": "completed"
    },
    "tags": []
   },
   "source": [
    "## Load autoencoder model"
   ]
  },
  {
   "cell_type": "code",
   "execution_count": 2,
   "metadata": {
    "execution": {
     "iopub.execute_input": "2021-03-26T07:30:49.659941Z",
     "iopub.status.busy": "2021-03-26T07:30:49.659436Z",
     "iopub.status.idle": "2021-03-26T07:30:53.374663Z",
     "shell.execute_reply": "2021-03-26T07:30:53.374201Z"
    },
    "executionInfo": {
     "elapsed": 8802,
     "status": "ok",
     "timestamp": 1615993030793,
     "user": {
      "displayName": "TAPAS DAS",
      "photoUrl": "https://lh3.googleusercontent.com/a-/AOh14GiyffdGKiPCR_UwVittzTcbBFms70IkGfU15fatCA=s64",
      "userId": "10798398878324948542"
     },
     "user_tz": -330
    },
    "id": "w0IPQ0HLS-mk",
    "outputId": "b667f154-0ad5-45dd-dcc5-0b2eab031002",
    "papermill": {
     "duration": 3.730969,
     "end_time": "2021-03-26T07:30:53.374824",
     "exception": false,
     "start_time": "2021-03-26T07:30:49.643855",
     "status": "completed"
    },
    "tags": []
   },
   "outputs": [
    {
     "name": "stdout",
     "output_type": "stream",
     "text": [
      "Model: \"model\"\n",
      "__________________________________________________________________________________________________\n",
      "Layer (type)                    Output Shape         Param #     Connected to                     \n",
      "==================================================================================================\n",
      "Encoder-Input (InputLayer)      [(None, 142)]        0                                            \n",
      "__________________________________________________________________________________________________\n",
      "Encoder-Dense-1 (Dense)         (None, 128)          18304       Encoder-Input[0][0]              \n",
      "__________________________________________________________________________________________________\n",
      "Encoder-BatchNorm-1 (BatchNorma (None, 128)          512         Encoder-Dense-1[0][0]            \n",
      "__________________________________________________________________________________________________\n",
      "Encoder-Swish-1 (Activation)    (None, 128)          0           Encoder-BatchNorm-1[0][0]        \n",
      "__________________________________________________________________________________________________\n",
      "Encoder-Dense-2 (Dense)         (None, 96)           12384       Encoder-Swish-1[0][0]            \n",
      "__________________________________________________________________________________________________\n",
      "Encoder-BatchNorm-2 (BatchNorma (None, 96)           384         Encoder-Dense-2[0][0]            \n",
      "__________________________________________________________________________________________________\n",
      "Encoder-Swish-2 (Activation)    (None, 96)           0           Encoder-BatchNorm-2[0][0]        \n",
      "__________________________________________________________________________________________________\n",
      "Encoder-Dense-3 (Dense)         (None, 128)          12416       Encoder-Swish-2[0][0]            \n",
      "__________________________________________________________________________________________________\n",
      "Encoder-BatchNorm-3 (BatchNorma (None, 128)          512         Encoder-Dense-3[0][0]            \n",
      "__________________________________________________________________________________________________\n",
      "Encoder-Swish-3 (Activation)    (None, 128)          0           Encoder-BatchNorm-3[0][0]        \n",
      "__________________________________________________________________________________________________\n",
      "Encoder-Add-3 (Add)             (None, 128)          0           Encoder-Swish-1[0][0]            \n",
      "                                                                 Encoder-Swish-3[0][0]            \n",
      "__________________________________________________________________________________________________\n",
      "Embed-Dense (Dense)             (None, 64)           8256        Encoder-Add-3[0][0]              \n",
      "__________________________________________________________________________________________________\n",
      "Embed-BatchNorm (BatchNormaliza (None, 64)           256         Embed-Dense[0][0]                \n",
      "__________________________________________________________________________________________________\n",
      "Embedding (Activation)          (None, 64)           0           Embed-BatchNorm[0][0]            \n",
      "==================================================================================================\n",
      "Total params: 53,024\n",
      "Trainable params: 52,192\n",
      "Non-trainable params: 832\n",
      "__________________________________________________________________________________________________\n"
     ]
    }
   ],
   "source": [
    "autoencoder = load_model('../input/customer-churn-rate-dae/DAE_model.h5')\n",
    "feature_model = Model(inputs=autoencoder.input,\n",
    "                      outputs=autoencoder.get_layer('Embedding').output)\n",
    "feature_model.summary()"
   ]
  },
  {
   "cell_type": "markdown",
   "metadata": {
    "id": "hg85SpW-S6hl",
    "papermill": {
     "duration": 0.023183,
     "end_time": "2021-03-26T07:30:53.422991",
     "exception": false,
     "start_time": "2021-03-26T07:30:53.399808",
     "status": "completed"
    },
    "tags": []
   },
   "source": [
    "## Prepare data for model training"
   ]
  },
  {
   "cell_type": "code",
   "execution_count": 3,
   "metadata": {
    "execution": {
     "iopub.execute_input": "2021-03-26T07:30:53.470609Z",
     "iopub.status.busy": "2021-03-26T07:30:53.469687Z",
     "iopub.status.idle": "2021-03-26T07:30:54.714669Z",
     "shell.execute_reply": "2021-03-26T07:30:54.715101Z"
    },
    "executionInfo": {
     "elapsed": 7891,
     "status": "ok",
     "timestamp": 1615993031631,
     "user": {
      "displayName": "TAPAS DAS",
      "photoUrl": "https://lh3.googleusercontent.com/a-/AOh14GiyffdGKiPCR_UwVittzTcbBFms70IkGfU15fatCA=s64",
      "userId": "10798398878324948542"
     },
     "user_tz": -330
    },
    "id": "VdhgoIAmSUxK",
    "outputId": "926e0feb-029c-4888-c1ca-fcc067d41b71",
    "papermill": {
     "duration": 1.273094,
     "end_time": "2021-03-26T07:30:54.715260",
     "exception": false,
     "start_time": "2021-03-26T07:30:53.442166",
     "status": "completed"
    },
    "tags": []
   },
   "outputs": [
    {
     "data": {
      "text/plain": [
       "302"
      ]
     },
     "execution_count": 3,
     "metadata": {},
     "output_type": "execute_result"
    }
   ],
   "source": [
    "with open(\"../input/customer-churn-rate-preprocess-data/Churn_Risk_Rate_Dataset.txt\", 'rb') as handle: \n",
    "    data = handle.read()\n",
    "\n",
    "processed_data = pickle.loads(data)\n",
    "train_df = processed_data['train_df']\n",
    "test_df = processed_data['test_df']\n",
    "\n",
    "del processed_data\n",
    "gc.collect()"
   ]
  },
  {
   "cell_type": "code",
   "execution_count": 4,
   "metadata": {
    "execution": {
     "iopub.execute_input": "2021-03-26T07:30:54.753705Z",
     "iopub.status.busy": "2021-03-26T07:30:54.752474Z",
     "iopub.status.idle": "2021-03-26T07:30:55.460553Z",
     "shell.execute_reply": "2021-03-26T07:30:55.461280Z"
    },
    "papermill": {
     "duration": 0.730361,
     "end_time": "2021-03-26T07:30:55.461448",
     "exception": false,
     "start_time": "2021-03-26T07:30:54.731087",
     "status": "completed"
    },
    "tags": []
   },
   "outputs": [
    {
     "name": "stdout",
     "output_type": "stream",
     "text": [
      "train_df1: (36987, 143)\n",
      "test_df1: (19919, 142)\n"
     ]
    }
   ],
   "source": [
    "cat_cols = ['region_category','membership_category','preferred_offer_types','internet_option',\n",
    "            'complaint_status','feedback','age_category','joining_dt_year','time_category',\n",
    "            'complaint_category','feedback_category','last_login_category']\n",
    "\n",
    "train_df1, test_df1 = train_df.copy(), test_df.copy()\n",
    "\n",
    "for col in cat_cols:\n",
    "    dummy_val = pd.get_dummies(train_df1[col], prefix='col')\n",
    "    train_df1 = pd.concat([train_df1, dummy_val], axis=1)\n",
    "    train_df1.drop([col], inplace=True, axis=1)\n",
    "\n",
    "print(\"train_df1: {}\".format(train_df1.shape))\n",
    "\n",
    "for col in cat_cols:\n",
    "    dummy_val = pd.get_dummies(test_df1[col], prefix='col')\n",
    "    test_df1 = pd.concat([test_df1, dummy_val], axis=1)\n",
    "    test_df1.drop([col], inplace=True, axis=1)\n",
    "\n",
    "print(\"test_df1: {}\".format(test_df1.shape))"
   ]
  },
  {
   "cell_type": "code",
   "execution_count": 5,
   "metadata": {
    "execution": {
     "iopub.execute_input": "2021-03-26T07:30:55.504897Z",
     "iopub.status.busy": "2021-03-26T07:30:55.503947Z",
     "iopub.status.idle": "2021-03-26T07:30:58.595527Z",
     "shell.execute_reply": "2021-03-26T07:30:58.594596Z"
    },
    "papermill": {
     "duration": 3.119716,
     "end_time": "2021-03-26T07:30:58.595668",
     "exception": false,
     "start_time": "2021-03-26T07:30:55.475952",
     "status": "completed"
    },
    "tags": []
   },
   "outputs": [
    {
     "name": "stdout",
     "output_type": "stream",
     "text": [
      "Xtrain_embed_df: (36987, 64) \n",
      "Xtest_embed_df: (19919, 64)\n",
      "train_df: (36987, 170) \n",
      "test_df: (19919, 169)\n"
     ]
    },
    {
     "data": {
      "text/plain": [
       "1393"
      ]
     },
     "execution_count": 5,
     "metadata": {},
     "output_type": "execute_result"
    }
   ],
   "source": [
    "Xtrain_embed = feature_model.predict(train_df1.loc[:, train_df1.columns != 'churn_risk_score'].values)\n",
    "Xtest_embed = feature_model.predict(test_df1.values)\n",
    "Xtrain_embed_df = pd.DataFrame(Xtrain_embed, index=train_df1.index)\n",
    "Xtest_embed_df = pd.DataFrame(Xtest_embed, index=test_df1.index)\n",
    "print(\"Xtrain_embed_df: {} \\nXtest_embed_df: {}\".format(Xtrain_embed_df.shape, Xtest_embed_df.shape))\n",
    "\n",
    "train_df = pd.merge(train_df, Xtrain_embed_df, on='customer_id', sort=False)\n",
    "test_df = pd.merge(test_df, Xtest_embed_df, on='customer_id', sort=False)\n",
    "print(\"train_df: {} \\ntest_df: {}\".format(train_df.shape, test_df.shape))\n",
    "\n",
    "del train_df1\n",
    "del test_df1\n",
    "del Xtrain_embed\n",
    "del Xtest_embed\n",
    "del Xtrain_embed_df\n",
    "del Xtest_embed_df\n",
    "gc.collect()"
   ]
  },
  {
   "cell_type": "code",
   "execution_count": 6,
   "metadata": {
    "execution": {
     "iopub.execute_input": "2021-03-26T07:30:58.652019Z",
     "iopub.status.busy": "2021-03-26T07:30:58.651187Z",
     "iopub.status.idle": "2021-03-26T07:30:58.663605Z",
     "shell.execute_reply": "2021-03-26T07:30:58.664027Z"
    },
    "papermill": {
     "duration": 0.053422,
     "end_time": "2021-03-26T07:30:58.664158",
     "exception": false,
     "start_time": "2021-03-26T07:30:58.610736",
     "status": "completed"
    },
    "tags": []
   },
   "outputs": [
    {
     "data": {
      "text/html": [
       "<div>\n",
       "<style scoped>\n",
       "    .dataframe tbody tr th:only-of-type {\n",
       "        vertical-align: middle;\n",
       "    }\n",
       "\n",
       "    .dataframe tbody tr th {\n",
       "        vertical-align: top;\n",
       "    }\n",
       "\n",
       "    .dataframe thead th {\n",
       "        text-align: right;\n",
       "    }\n",
       "</style>\n",
       "<table border=\"1\" class=\"dataframe\">\n",
       "  <thead>\n",
       "    <tr style=\"text-align: right;\">\n",
       "      <th></th>\n",
       "      <th>churn_risk_score</th>\n",
       "      <th>count</th>\n",
       "    </tr>\n",
       "  </thead>\n",
       "  <tbody>\n",
       "    <tr>\n",
       "      <th>0</th>\n",
       "      <td>0</td>\n",
       "      <td>9825</td>\n",
       "    </tr>\n",
       "    <tr>\n",
       "      <th>1</th>\n",
       "      <td>1</td>\n",
       "      <td>3815</td>\n",
       "    </tr>\n",
       "    <tr>\n",
       "      <th>2</th>\n",
       "      <td>2</td>\n",
       "      <td>2741</td>\n",
       "    </tr>\n",
       "    <tr>\n",
       "      <th>3</th>\n",
       "      <td>3</td>\n",
       "      <td>10422</td>\n",
       "    </tr>\n",
       "    <tr>\n",
       "      <th>4</th>\n",
       "      <td>4</td>\n",
       "      <td>10184</td>\n",
       "    </tr>\n",
       "  </tbody>\n",
       "</table>\n",
       "</div>"
      ],
      "text/plain": [
       "   churn_risk_score  count\n",
       "0                 0   9825\n",
       "1                 1   3815\n",
       "2                 2   2741\n",
       "3                 3  10422\n",
       "4                 4  10184"
      ]
     },
     "execution_count": 6,
     "metadata": {},
     "output_type": "execute_result"
    }
   ],
   "source": [
    "train_df['churn_risk_score'] = train_df['churn_risk_score'].apply(lambda x: 0 if x==5 else 1 if x==-1 else x)\n",
    "train_df.groupby(['churn_risk_score']).size().reset_index().rename(columns={0:'count'})"
   ]
  },
  {
   "cell_type": "code",
   "execution_count": 7,
   "metadata": {
    "execution": {
     "iopub.execute_input": "2021-03-26T07:30:58.703253Z",
     "iopub.status.busy": "2021-03-26T07:30:58.701485Z",
     "iopub.status.idle": "2021-03-26T07:30:58.856246Z",
     "shell.execute_reply": "2021-03-26T07:30:58.856691Z"
    },
    "executionInfo": {
     "elapsed": 6911,
     "status": "ok",
     "timestamp": 1615993031634,
     "user": {
      "displayName": "TAPAS DAS",
      "photoUrl": "https://lh3.googleusercontent.com/a-/AOh14GiyffdGKiPCR_UwVittzTcbBFms70IkGfU15fatCA=s64",
      "userId": "10798398878324948542"
     },
     "user_tz": -330
    },
    "id": "kX_wj8gESUz3",
    "outputId": "bec5e442-212b-4895-f9a2-b93c9f0a1873",
    "papermill": {
     "duration": 0.177383,
     "end_time": "2021-03-26T07:30:58.856865",
     "exception": false,
     "start_time": "2021-03-26T07:30:58.679482",
     "status": "completed"
    },
    "tags": []
   },
   "outputs": [
    {
     "name": "stdout",
     "output_type": "stream",
     "text": [
      "[1, 4, 12, 13, 14, 19, 32, 37, 38, 2, 3, 5, 6, 15, 16, 17, 18, 33, 34, 35, 36]\n"
     ]
    }
   ],
   "source": [
    "cat_cols = ['gender','joined_through_referral','used_special_discount','offer_application_preference',\n",
    "            'past_complaint','joining_dt_day_weekend','referral_id_present','has_desktop','has_smartphone',\n",
    "            'region_category','membership_category','preferred_offer_types','internet_option','complaint_status',\n",
    "            'feedback','age_category','joining_dt_year','time_category','complaint_category','feedback_category',\n",
    "            'last_login_category']\n",
    "\n",
    "train_df[cat_cols] = train_df[cat_cols].astype(int)\n",
    "test_df[cat_cols] = test_df[cat_cols].astype(int)\n",
    "cat_cols_indices = [train_df.columns.get_loc(col) for col in cat_cols]\n",
    "print(cat_cols_indices)"
   ]
  },
  {
   "cell_type": "code",
   "execution_count": 8,
   "metadata": {
    "execution": {
     "iopub.execute_input": "2021-03-26T07:30:58.896172Z",
     "iopub.status.busy": "2021-03-26T07:30:58.895249Z",
     "iopub.status.idle": "2021-03-26T07:30:58.923658Z",
     "shell.execute_reply": "2021-03-26T07:30:58.924127Z"
    },
    "executionInfo": {
     "elapsed": 1892,
     "status": "ok",
     "timestamp": 1615993035421,
     "user": {
      "displayName": "TAPAS DAS",
      "photoUrl": "https://lh3.googleusercontent.com/a-/AOh14GiyffdGKiPCR_UwVittzTcbBFms70IkGfU15fatCA=s64",
      "userId": "10798398878324948542"
     },
     "user_tz": -330
    },
    "id": "UAfyHbeASU7C",
    "outputId": "c1932bca-1541-4436-bdec-f57f53eca432",
    "papermill": {
     "duration": 0.051058,
     "end_time": "2021-03-26T07:30:58.924276",
     "exception": false,
     "start_time": "2021-03-26T07:30:58.873218",
     "status": "completed"
    },
    "tags": []
   },
   "outputs": [
    {
     "name": "stdout",
     "output_type": "stream",
     "text": [
      "Xtrain: (36987, 169) \n",
      "Ytrain: (36987,) \n",
      "Xtest: (19919, 169)\n"
     ]
    }
   ],
   "source": [
    "Xtrain = train_df.loc[:, train_df.columns != 'churn_risk_score'].copy()\n",
    "Ytrain = train_df['churn_risk_score'].copy()\n",
    "Xtest = test_df.copy()\n",
    "\n",
    "print(\"Xtrain: {} \\nYtrain: {} \\nXtest: {}\".format(Xtrain.shape, Ytrain.shape, Xtest.shape))"
   ]
  },
  {
   "cell_type": "code",
   "execution_count": 9,
   "metadata": {
    "execution": {
     "iopub.execute_input": "2021-03-26T07:30:58.966553Z",
     "iopub.status.busy": "2021-03-26T07:30:58.965789Z",
     "iopub.status.idle": "2021-03-26T07:30:58.993604Z",
     "shell.execute_reply": "2021-03-26T07:30:58.992896Z"
    },
    "executionInfo": {
     "elapsed": 1678,
     "status": "ok",
     "timestamp": 1615993037028,
     "user": {
      "displayName": "TAPAS DAS",
      "photoUrl": "https://lh3.googleusercontent.com/a-/AOh14GiyffdGKiPCR_UwVittzTcbBFms70IkGfU15fatCA=s64",
      "userId": "10798398878324948542"
     },
     "user_tz": -330
    },
    "id": "SjPNCVNhrKv5",
    "outputId": "9438fdf9-fcbd-488b-b73b-a86c63592987",
    "papermill": {
     "duration": 0.051622,
     "end_time": "2021-03-26T07:30:58.993734",
     "exception": false,
     "start_time": "2021-03-26T07:30:58.942112",
     "status": "completed"
    },
    "tags": []
   },
   "outputs": [
    {
     "data": {
      "text/plain": [
       "{0: 0.2789821882951654,\n",
       " 1: 0.7184796854521627,\n",
       " 2: 1.0,\n",
       " 3: 0.26300134331222413,\n",
       " 4: 0.2691476826394344}"
      ]
     },
     "execution_count": 9,
     "metadata": {},
     "output_type": "execute_result"
    }
   ],
   "source": [
    "temp_df = train_df.groupby(['churn_risk_score']).size().reset_index().rename(columns={0:'count'})\n",
    "total_count = np.sum(temp_df['count'].values)\n",
    "temp_df['class%'] = (temp_df['count'] / total_count) * 100\n",
    "lowest_pct = min(temp_df['class%'])\n",
    "temp_df['class_weight'] = lowest_pct / temp_df['class%']\n",
    "class_weight = temp_df[['churn_risk_score', 'class_weight']].to_dict()['class_weight']\n",
    "class_weight"
   ]
  },
  {
   "cell_type": "markdown",
   "metadata": {
    "id": "xpiNySOqUcHd",
    "papermill": {
     "duration": 0.016732,
     "end_time": "2021-03-26T07:30:59.026949",
     "exception": false,
     "start_time": "2021-03-26T07:30:59.010217",
     "status": "completed"
    },
    "tags": []
   },
   "source": [
    "## Hyperparameters search using Optuna"
   ]
  },
  {
   "cell_type": "code",
   "execution_count": 10,
   "metadata": {
    "execution": {
     "iopub.execute_input": "2021-03-26T07:30:59.068021Z",
     "iopub.status.busy": "2021-03-26T07:30:59.066416Z",
     "iopub.status.idle": "2021-03-26T07:30:59.070399Z",
     "shell.execute_reply": "2021-03-26T07:30:59.069986Z"
    },
    "executionInfo": {
     "elapsed": 2721,
     "status": "ok",
     "timestamp": 1615993052111,
     "user": {
      "displayName": "TAPAS DAS",
      "photoUrl": "https://lh3.googleusercontent.com/a-/AOh14GiyffdGKiPCR_UwVittzTcbBFms70IkGfU15fatCA=s64",
      "userId": "10798398878324948542"
     },
     "user_tz": -330
    },
    "id": "uhoBIFXtSU80",
    "papermill": {
     "duration": 0.026626,
     "end_time": "2021-03-26T07:30:59.070502",
     "exception": false,
     "start_time": "2021-03-26T07:30:59.043876",
     "status": "completed"
    },
    "tags": []
   },
   "outputs": [
    {
     "data": {
      "text/plain": [
       "'\\ndef objective(trial):\\n\\n    kfold = StratifiedKFold(n_splits=5, shuffle=True, random_state=0)\\n    counter = 0\\n    oof_score = 0\\n\\n    for train, val in kfold.split(Xtrain.values, Ytrain.values):\\n        counter += 1\\n\\n        train_x, train_y = Xtrain.iloc[train], Ytrain.iloc[train]\\n        val_x, val_y = Xtrain.iloc[val], Ytrain.iloc[val]\\n\\n        model = CatBoostClassifier(\\n            objective=\\'MultiClass\\',\\n            eval_metric=\\'MultiClass\\',\\n            num_boost_round=5000,\\n            class_weights=class_weight,\\n            learning_rate=0.075,\\n            reg_lambda=trial.suggest_loguniform(\"reg_lambda\", 1e-4, 1.0),\\n            bootstrap_type=\\'Poisson\\',\\n            subsample=trial.suggest_uniform(\"subsample\", 0.5, 1.0),\\n            max_depth=trial.suggest_int(\"max_depth\", 7, 16), \\n            grow_policy=\\'Lossguide\\',\\n            min_data_in_leaf=trial.suggest_int(\"min_data_in_leaf\", 1, 15), \\n            max_leaves=trial.suggest_int(\"max_leaves\", 50, 2000),\\n            task_type=\\'GPU\\',\\n            verbose=0\\n        )\\n\\n        model.fit(train_x, train_y, eval_set=[(val_x, val_y)], \\n                  cat_features=cat_cols_indices,\\n                  early_stopping_rounds=200, verbose=False)\\n        y_pred = model.predict(val_x)\\n        oof_score += 100 * f1_score(val_y, y_pred, average=\\'macro\\')\\n    \\n    oof_score /= float(counter)\\n    return oof_score\\n'"
      ]
     },
     "execution_count": 10,
     "metadata": {},
     "output_type": "execute_result"
    }
   ],
   "source": [
    "'''\n",
    "def objective(trial):\n",
    "\n",
    "    kfold = StratifiedKFold(n_splits=5, shuffle=True, random_state=0)\n",
    "    counter = 0\n",
    "    oof_score = 0\n",
    "\n",
    "    for train, val in kfold.split(Xtrain.values, Ytrain.values):\n",
    "        counter += 1\n",
    "\n",
    "        train_x, train_y = Xtrain.iloc[train], Ytrain.iloc[train]\n",
    "        val_x, val_y = Xtrain.iloc[val], Ytrain.iloc[val]\n",
    "\n",
    "        model = CatBoostClassifier(\n",
    "            objective='MultiClass',\n",
    "            eval_metric='MultiClass',\n",
    "            num_boost_round=5000,\n",
    "            class_weights=class_weight,\n",
    "            learning_rate=0.075,\n",
    "            reg_lambda=trial.suggest_loguniform(\"reg_lambda\", 1e-4, 1.0),\n",
    "            bootstrap_type='Poisson',\n",
    "            subsample=trial.suggest_uniform(\"subsample\", 0.5, 1.0),\n",
    "            max_depth=trial.suggest_int(\"max_depth\", 7, 16), \n",
    "            grow_policy='Lossguide',\n",
    "            min_data_in_leaf=trial.suggest_int(\"min_data_in_leaf\", 1, 15), \n",
    "            max_leaves=trial.suggest_int(\"max_leaves\", 50, 2000),\n",
    "            task_type='GPU',\n",
    "            verbose=0\n",
    "        )\n",
    "\n",
    "        model.fit(train_x, train_y, eval_set=[(val_x, val_y)], \n",
    "                  cat_features=cat_cols_indices,\n",
    "                  early_stopping_rounds=200, verbose=False)\n",
    "        y_pred = model.predict(val_x)\n",
    "        oof_score += 100 * f1_score(val_y, y_pred, average='macro')\n",
    "    \n",
    "    oof_score /= float(counter)\n",
    "    return oof_score\n",
    "'''"
   ]
  },
  {
   "cell_type": "code",
   "execution_count": 11,
   "metadata": {
    "execution": {
     "iopub.execute_input": "2021-03-26T07:30:59.108085Z",
     "iopub.status.busy": "2021-03-26T07:30:59.107556Z",
     "iopub.status.idle": "2021-03-26T07:30:59.113353Z",
     "shell.execute_reply": "2021-03-26T07:30:59.112799Z"
    },
    "executionInfo": {
     "elapsed": 508280,
     "status": "error",
     "timestamp": 1615993561295,
     "user": {
      "displayName": "TAPAS DAS",
      "photoUrl": "https://lh3.googleusercontent.com/a-/AOh14GiyffdGKiPCR_UwVittzTcbBFms70IkGfU15fatCA=s64",
      "userId": "10798398878324948542"
     },
     "user_tz": -330
    },
    "id": "9GjR1u1_SU-a",
    "outputId": "1401c851-fb71-430d-c2cb-d91fe240aff0",
    "papermill": {
     "duration": 0.025893,
     "end_time": "2021-03-26T07:30:59.113475",
     "exception": false,
     "start_time": "2021-03-26T07:30:59.087582",
     "status": "completed"
    },
    "tags": []
   },
   "outputs": [
    {
     "data": {
      "text/plain": [
       "\"\\nstudy = optuna.create_study(direction='maximize')\\nstudy.optimize(objective, n_trials=100)\\n\""
      ]
     },
     "execution_count": 11,
     "metadata": {},
     "output_type": "execute_result"
    }
   ],
   "source": [
    "'''\n",
    "study = optuna.create_study(direction='maximize')\n",
    "study.optimize(objective, n_trials=100)\n",
    "'''"
   ]
  },
  {
   "cell_type": "code",
   "execution_count": 12,
   "metadata": {
    "execution": {
     "iopub.execute_input": "2021-03-26T07:30:59.153971Z",
     "iopub.status.busy": "2021-03-26T07:30:59.153438Z",
     "iopub.status.idle": "2021-03-26T07:30:59.159040Z",
     "shell.execute_reply": "2021-03-26T07:30:59.158530Z"
    },
    "executionInfo": {
     "elapsed": 1842,
     "status": "ok",
     "timestamp": 1615993563240,
     "user": {
      "displayName": "TAPAS DAS",
      "photoUrl": "https://lh3.googleusercontent.com/a-/AOh14GiyffdGKiPCR_UwVittzTcbBFms70IkGfU15fatCA=s64",
      "userId": "10798398878324948542"
     },
     "user_tz": -330
    },
    "id": "BlABOYHXSU_1",
    "outputId": "de91ed48-711c-458e-e5ce-160a1ef02853",
    "papermill": {
     "duration": 0.027085,
     "end_time": "2021-03-26T07:30:59.159178",
     "exception": false,
     "start_time": "2021-03-26T07:30:59.132093",
     "status": "completed"
    },
    "tags": []
   },
   "outputs": [
    {
     "data": {
      "text/plain": [
       "'\\nprint(\"Number of finished trials: {}\".format(len(study.trials)))\\n\\nprint(\"Best trial:\")\\ntrial = study.best_trial\\n\\nprint(\"Value: {}\".format(trial.value))\\n\\nprint(\"Params: \")\\nfor key, value in trial.params.items():\\n    print(\" {}: {}\".format(key, value))\\n'"
      ]
     },
     "execution_count": 12,
     "metadata": {},
     "output_type": "execute_result"
    }
   ],
   "source": [
    "'''\n",
    "print(\"Number of finished trials: {}\".format(len(study.trials)))\n",
    "\n",
    "print(\"Best trial:\")\n",
    "trial = study.best_trial\n",
    "\n",
    "print(\"Value: {}\".format(trial.value))\n",
    "\n",
    "print(\"Params: \")\n",
    "for key, value in trial.params.items():\n",
    "    print(\" {}: {}\".format(key, value))\n",
    "'''"
   ]
  },
  {
   "cell_type": "markdown",
   "metadata": {
    "id": "9wNC5rWEVnjd",
    "papermill": {
     "duration": 0.017606,
     "end_time": "2021-03-26T07:30:59.194357",
     "exception": false,
     "start_time": "2021-03-26T07:30:59.176751",
     "status": "completed"
    },
    "tags": []
   },
   "source": [
    "## Build and validate the model"
   ]
  },
  {
   "cell_type": "code",
   "execution_count": 13,
   "metadata": {
    "execution": {
     "iopub.execute_input": "2021-03-26T07:30:59.244467Z",
     "iopub.status.busy": "2021-03-26T07:30:59.243361Z",
     "iopub.status.idle": "2021-03-26T07:41:06.884752Z",
     "shell.execute_reply": "2021-03-26T07:41:06.885560Z"
    },
    "executionInfo": {
     "elapsed": 1915532,
     "status": "ok",
     "timestamp": 1615995530882,
     "user": {
      "displayName": "TAPAS DAS",
      "photoUrl": "https://lh3.googleusercontent.com/a-/AOh14GiyffdGKiPCR_UwVittzTcbBFms70IkGfU15fatCA=s64",
      "userId": "10798398878324948542"
     },
     "user_tz": -330
    },
    "id": "uWPosEORSVBp",
    "outputId": "30cb3e2a-3ecb-425e-ef84-aabc94049146",
    "papermill": {
     "duration": 607.673795,
     "end_time": "2021-03-26T07:41:06.885779",
     "exception": false,
     "start_time": "2021-03-26T07:30:59.211984",
     "status": "completed"
    },
    "tags": []
   },
   "outputs": [
    {
     "name": "stderr",
     "output_type": "stream",
     "text": [
      "Warning: less than 75% gpu memory available for training. Free: 895.75 Total: 16280.875\n"
     ]
    },
    {
     "name": "stdout",
     "output_type": "stream",
     "text": [
      "0:\tlearn: 1.4311264\ttest: 1.4358972\tbest: 1.4358972 (0)\ttotal: 97.1ms\tremaining: 8m 5s\n",
      "100:\tlearn: 0.4348872\ttest: 0.5690128\tbest: 0.5681166 (82)\ttotal: 4.13s\tremaining: 3m 20s\n",
      "200:\tlearn: 0.3634371\ttest: 0.5731835\tbest: 0.5681166 (82)\ttotal: 7.87s\tremaining: 3m 7s\n",
      "bestTest = 0.5681166189\n",
      "bestIteration = 82\n",
      "Shrink model to first 83 iterations.\n",
      "Seed-24 | Fold-0 | OOF Score: 72.2076768307455\n"
     ]
    },
    {
     "name": "stderr",
     "output_type": "stream",
     "text": [
      "Warning: less than 75% gpu memory available for training. Free: 895.75 Total: 16280.875\n"
     ]
    },
    {
     "name": "stdout",
     "output_type": "stream",
     "text": [
      "0:\tlearn: 1.4323463\ttest: 1.4336982\tbest: 1.4336982 (0)\ttotal: 56.1ms\tremaining: 4m 40s\n",
      "100:\tlearn: 0.4336165\ttest: 0.5624492\tbest: 0.5621323 (89)\ttotal: 4.31s\tremaining: 3m 29s\n",
      "200:\tlearn: 0.3627438\ttest: 0.5623917\tbest: 0.5611208 (152)\ttotal: 8.5s\tremaining: 3m 23s\n",
      "300:\tlearn: 0.3058763\ttest: 0.5662300\tbest: 0.5611208 (152)\ttotal: 13.7s\tremaining: 3m 33s\n",
      "bestTest = 0.5611207963\n",
      "bestIteration = 152\n",
      "Shrink model to first 153 iterations.\n",
      "Seed-24 | Fold-1 | OOF Score: 72.91464103802619\n"
     ]
    },
    {
     "name": "stderr",
     "output_type": "stream",
     "text": [
      "Warning: less than 75% gpu memory available for training. Free: 895.75 Total: 16280.875\n"
     ]
    },
    {
     "name": "stdout",
     "output_type": "stream",
     "text": [
      "0:\tlearn: 1.4314860\ttest: 1.4335520\tbest: 1.4335520 (0)\ttotal: 52.9ms\tremaining: 4m 24s\n",
      "100:\tlearn: 0.4361763\ttest: 0.5576705\tbest: 0.5571326 (86)\ttotal: 4.69s\tremaining: 3m 47s\n",
      "200:\tlearn: 0.3652428\ttest: 0.5589103\tbest: 0.5566511 (107)\ttotal: 8.44s\tremaining: 3m 21s\n",
      "300:\tlearn: 0.3115595\ttest: 0.5632189\tbest: 0.5566511 (107)\ttotal: 12.8s\tremaining: 3m 19s\n",
      "bestTest = 0.5566510757\n",
      "bestIteration = 107\n",
      "Shrink model to first 108 iterations.\n",
      "Seed-24 | Fold-2 | OOF Score: 73.23759101715265\n"
     ]
    },
    {
     "name": "stderr",
     "output_type": "stream",
     "text": [
      "Warning: less than 75% gpu memory available for training. Free: 895.75 Total: 16280.875\n"
     ]
    },
    {
     "name": "stdout",
     "output_type": "stream",
     "text": [
      "0:\tlearn: 1.4311574\ttest: 1.4335921\tbest: 1.4335921 (0)\ttotal: 55.2ms\tremaining: 4m 36s\n",
      "100:\tlearn: 0.4313804\ttest: 0.5582578\tbest: 0.5582578 (100)\ttotal: 4.24s\tremaining: 3m 25s\n",
      "200:\tlearn: 0.3587709\ttest: 0.5616041\tbest: 0.5578264 (121)\ttotal: 8.22s\tremaining: 3m 16s\n",
      "300:\tlearn: 0.3026800\ttest: 0.5650809\tbest: 0.5578264 (121)\ttotal: 13.2s\tremaining: 3m 25s\n",
      "bestTest = 0.5578263882\n",
      "bestIteration = 121\n",
      "Shrink model to first 122 iterations.\n",
      "Seed-24 | Fold-3 | OOF Score: 72.66449599634626\n"
     ]
    },
    {
     "name": "stderr",
     "output_type": "stream",
     "text": [
      "Warning: less than 75% gpu memory available for training. Free: 895.75 Total: 16280.875\n"
     ]
    },
    {
     "name": "stdout",
     "output_type": "stream",
     "text": [
      "0:\tlearn: 1.4311823\ttest: 1.4345928\tbest: 1.4345928 (0)\ttotal: 51.1ms\tremaining: 4m 15s\n",
      "100:\tlearn: 0.4353306\ttest: 0.5568694\tbest: 0.5563466 (89)\ttotal: 4.72s\tremaining: 3m 48s\n",
      "200:\tlearn: 0.3668084\ttest: 0.5597136\tbest: 0.5562718 (133)\ttotal: 8.32s\tremaining: 3m 18s\n",
      "300:\tlearn: 0.3102801\ttest: 0.5647263\tbest: 0.5562718 (133)\ttotal: 12.3s\tremaining: 3m 11s\n",
      "bestTest = 0.5562718053\n",
      "bestIteration = 133\n",
      "Shrink model to first 134 iterations.\n",
      "Seed-24 | Fold-4 | OOF Score: 73.26273915344981\n"
     ]
    },
    {
     "name": "stderr",
     "output_type": "stream",
     "text": [
      "Warning: less than 75% gpu memory available for training. Free: 895.75 Total: 16280.875\n"
     ]
    },
    {
     "name": "stdout",
     "output_type": "stream",
     "text": [
      "0:\tlearn: 1.4314002\ttest: 1.4338495\tbest: 1.4338495 (0)\ttotal: 53.8ms\tremaining: 4m 29s\n",
      "100:\tlearn: 0.4347643\ttest: 0.5534757\tbest: 0.5531097 (86)\ttotal: 4.63s\tremaining: 3m 44s\n",
      "200:\tlearn: 0.3624955\ttest: 0.5540556\tbest: 0.5531097 (86)\ttotal: 8.69s\tremaining: 3m 27s\n",
      "bestTest = 0.5531097263\n",
      "bestIteration = 86\n",
      "Shrink model to first 87 iterations.\n",
      "Seed-24 | Fold-5 | OOF Score: 73.15121989326572\n"
     ]
    },
    {
     "name": "stderr",
     "output_type": "stream",
     "text": [
      "Warning: less than 75% gpu memory available for training. Free: 895.75 Total: 16280.875\n"
     ]
    },
    {
     "name": "stdout",
     "output_type": "stream",
     "text": [
      "0:\tlearn: 1.4310568\ttest: 1.4354963\tbest: 1.4354963 (0)\ttotal: 49ms\tremaining: 4m 4s\n",
      "100:\tlearn: 0.4308297\ttest: 0.5638959\tbest: 0.5632384 (79)\ttotal: 4.25s\tremaining: 3m 26s\n",
      "200:\tlearn: 0.3584447\ttest: 0.5649974\tbest: 0.5627207 (150)\ttotal: 8.51s\tremaining: 3m 23s\n",
      "300:\tlearn: 0.3035942\ttest: 0.5704897\tbest: 0.5627207 (150)\ttotal: 12.5s\tremaining: 3m 14s\n",
      "bestTest = 0.5627206866\n",
      "bestIteration = 150\n",
      "Shrink model to first 151 iterations.\n",
      "Seed-24 | Fold-6 | OOF Score: 73.26700217916394\n",
      "\n",
      "Seed: 24 | Aggregate OOF Score: 72.95790944402144\n",
      "\n",
      "\n"
     ]
    },
    {
     "name": "stderr",
     "output_type": "stream",
     "text": [
      "Warning: less than 75% gpu memory available for training. Free: 895.75 Total: 16280.875\n"
     ]
    },
    {
     "name": "stdout",
     "output_type": "stream",
     "text": [
      "0:\tlearn: 1.4314182\ttest: 1.4315785\tbest: 1.4315785 (0)\ttotal: 71ms\tremaining: 5m 54s\n",
      "100:\tlearn: 0.4360209\ttest: 0.5495328\tbest: 0.5490086 (96)\ttotal: 4.57s\tremaining: 3m 41s\n",
      "200:\tlearn: 0.3676433\ttest: 0.5498889\tbest: 0.5484679 (160)\ttotal: 8.26s\tremaining: 3m 17s\n",
      "300:\tlearn: 0.3130715\ttest: 0.5536603\tbest: 0.5484679 (160)\ttotal: 13.4s\tremaining: 3m 28s\n",
      "bestTest = 0.5484678519\n",
      "bestIteration = 160\n",
      "Shrink model to first 161 iterations.\n",
      "Seed-3 | Fold-0 | OOF Score: 74.71210918188635\n"
     ]
    },
    {
     "name": "stderr",
     "output_type": "stream",
     "text": [
      "Warning: less than 75% gpu memory available for training. Free: 895.75 Total: 16280.875\n"
     ]
    },
    {
     "name": "stdout",
     "output_type": "stream",
     "text": [
      "0:\tlearn: 1.4317910\ttest: 1.4332425\tbest: 1.4332425 (0)\ttotal: 56.1ms\tremaining: 4m 40s\n",
      "100:\tlearn: 0.4348691\ttest: 0.5450839\tbest: 0.5450516 (85)\ttotal: 4.64s\tremaining: 3m 45s\n",
      "200:\tlearn: 0.3641413\ttest: 0.5471907\tbest: 0.5450516 (85)\ttotal: 8.46s\tremaining: 3m 21s\n",
      "bestTest = 0.5450515703\n",
      "bestIteration = 85\n",
      "Shrink model to first 86 iterations.\n",
      "Seed-3 | Fold-1 | OOF Score: 73.70456009681693\n"
     ]
    },
    {
     "name": "stderr",
     "output_type": "stream",
     "text": [
      "Warning: less than 75% gpu memory available for training. Free: 895.75 Total: 16280.875\n"
     ]
    },
    {
     "name": "stdout",
     "output_type": "stream",
     "text": [
      "0:\tlearn: 1.4307103\ttest: 1.4361171\tbest: 1.4361171 (0)\ttotal: 51.8ms\tremaining: 4m 19s\n",
      "100:\tlearn: 0.4348715\ttest: 0.5737912\tbest: 0.5722059 (80)\ttotal: 4.68s\tremaining: 3m 46s\n",
      "200:\tlearn: 0.3620981\ttest: 0.5780543\tbest: 0.5722059 (80)\ttotal: 8.44s\tremaining: 3m 21s\n",
      "bestTest = 0.5722058544\n",
      "bestIteration = 80\n",
      "Shrink model to first 81 iterations.\n",
      "Seed-3 | Fold-2 | OOF Score: 72.53025505702246\n"
     ]
    },
    {
     "name": "stderr",
     "output_type": "stream",
     "text": [
      "Warning: less than 75% gpu memory available for training. Free: 895.75 Total: 16280.875\n"
     ]
    },
    {
     "name": "stdout",
     "output_type": "stream",
     "text": [
      "0:\tlearn: 1.4315071\ttest: 1.4332982\tbest: 1.4332982 (0)\ttotal: 48ms\tremaining: 3m 59s\n",
      "100:\tlearn: 0.4405557\ttest: 0.5563905\tbest: 0.5562729 (99)\ttotal: 4.06s\tremaining: 3m 16s\n",
      "200:\tlearn: 0.3691027\ttest: 0.5588676\tbest: 0.5559472 (139)\ttotal: 7.8s\tremaining: 3m 6s\n",
      "300:\tlearn: 0.3134761\ttest: 0.5639301\tbest: 0.5559472 (139)\ttotal: 12.1s\tremaining: 3m 8s\n",
      "bestTest = 0.5559471556\n",
      "bestIteration = 139\n",
      "Shrink model to first 140 iterations.\n",
      "Seed-3 | Fold-3 | OOF Score: 73.22743557243221\n"
     ]
    },
    {
     "name": "stderr",
     "output_type": "stream",
     "text": [
      "Warning: less than 75% gpu memory available for training. Free: 895.75 Total: 16280.875\n"
     ]
    },
    {
     "name": "stdout",
     "output_type": "stream",
     "text": [
      "0:\tlearn: 1.4300209\ttest: 1.4371434\tbest: 1.4371434 (0)\ttotal: 60.5ms\tremaining: 5m 2s\n",
      "100:\tlearn: 0.4330695\ttest: 0.5725130\tbest: 0.5724228 (88)\ttotal: 4.68s\tremaining: 3m 47s\n",
      "200:\tlearn: 0.3601534\ttest: 0.5725619\tbest: 0.5716427 (163)\ttotal: 8.56s\tremaining: 3m 24s\n",
      "300:\tlearn: 0.3073198\ttest: 0.5747824\tbest: 0.5716427 (163)\ttotal: 12.4s\tremaining: 3m 13s\n",
      "bestTest = 0.5716426653\n",
      "bestIteration = 163\n",
      "Shrink model to first 164 iterations.\n",
      "Seed-3 | Fold-4 | OOF Score: 72.6329156699056\n"
     ]
    },
    {
     "name": "stderr",
     "output_type": "stream",
     "text": [
      "Warning: less than 75% gpu memory available for training. Free: 895.75 Total: 16280.875\n"
     ]
    },
    {
     "name": "stdout",
     "output_type": "stream",
     "text": [
      "0:\tlearn: 1.4311069\ttest: 1.4334711\tbest: 1.4334711 (0)\ttotal: 48.7ms\tremaining: 4m 3s\n",
      "100:\tlearn: 0.4295340\ttest: 0.5599943\tbest: 0.5599943 (100)\ttotal: 4.33s\tremaining: 3m 30s\n",
      "200:\tlearn: 0.3557205\ttest: 0.5625752\tbest: 0.5594721 (107)\ttotal: 8.65s\tremaining: 3m 26s\n",
      "300:\tlearn: 0.3025471\ttest: 0.5674301\tbest: 0.5594721 (107)\ttotal: 12.5s\tremaining: 3m 15s\n",
      "bestTest = 0.5594721324\n",
      "bestIteration = 107\n",
      "Shrink model to first 108 iterations.\n",
      "Seed-3 | Fold-5 | OOF Score: 72.7537455912288\n"
     ]
    },
    {
     "name": "stderr",
     "output_type": "stream",
     "text": [
      "Warning: less than 75% gpu memory available for training. Free: 895.75 Total: 16280.875\n"
     ]
    },
    {
     "name": "stdout",
     "output_type": "stream",
     "text": [
      "0:\tlearn: 1.4323061\ttest: 1.4357881\tbest: 1.4357881 (0)\ttotal: 56.6ms\tremaining: 4m 42s\n",
      "100:\tlearn: 0.4349718\ttest: 0.5646308\tbest: 0.5646308 (100)\ttotal: 4.63s\tremaining: 3m 44s\n",
      "200:\tlearn: 0.3625124\ttest: 0.5647574\tbest: 0.5636323 (155)\ttotal: 8.61s\tremaining: 3m 25s\n",
      "300:\tlearn: 0.3078918\ttest: 0.5682114\tbest: 0.5636323 (155)\ttotal: 12.5s\tremaining: 3m 14s\n",
      "bestTest = 0.563632279\n",
      "bestIteration = 155\n",
      "Shrink model to first 156 iterations.\n",
      "Seed-3 | Fold-6 | OOF Score: 72.70786937375995\n",
      "\n",
      "Seed: 3 | Aggregate OOF Score: 73.18127007757892\n",
      "\n",
      "\n"
     ]
    },
    {
     "name": "stderr",
     "output_type": "stream",
     "text": [
      "Warning: less than 75% gpu memory available for training. Free: 895.75 Total: 16280.875\n"
     ]
    },
    {
     "name": "stdout",
     "output_type": "stream",
     "text": [
      "0:\tlearn: 1.4314433\ttest: 1.4328222\tbest: 1.4328222 (0)\ttotal: 50.7ms\tremaining: 4m 13s\n",
      "100:\tlearn: 0.4330640\ttest: 0.5586481\tbest: 0.5579032 (92)\ttotal: 4.35s\tremaining: 3m 31s\n",
      "200:\tlearn: 0.3621223\ttest: 0.5612758\tbest: 0.5578512 (123)\ttotal: 8.31s\tremaining: 3m 18s\n",
      "300:\tlearn: 0.3066420\ttest: 0.5659648\tbest: 0.5578512 (123)\ttotal: 12.7s\tremaining: 3m 18s\n",
      "bestTest = 0.5578512286\n",
      "bestIteration = 123\n",
      "Shrink model to first 124 iterations.\n",
      "Seed-56 | Fold-0 | OOF Score: 73.50303336486516\n"
     ]
    },
    {
     "name": "stderr",
     "output_type": "stream",
     "text": [
      "Warning: less than 75% gpu memory available for training. Free: 895.75 Total: 16280.875\n"
     ]
    },
    {
     "name": "stdout",
     "output_type": "stream",
     "text": [
      "0:\tlearn: 1.4312375\ttest: 1.4355647\tbest: 1.4355647 (0)\ttotal: 51.2ms\tremaining: 4m 15s\n",
      "100:\tlearn: 0.4346152\ttest: 0.5661061\tbest: 0.5661026 (90)\ttotal: 4.58s\tremaining: 3m 42s\n",
      "200:\tlearn: 0.3677287\ttest: 0.5675488\tbest: 0.5645403 (147)\ttotal: 8.23s\tremaining: 3m 16s\n",
      "300:\tlearn: 0.3134215\ttest: 0.5711711\tbest: 0.5645403 (147)\ttotal: 12.2s\tremaining: 3m 9s\n",
      "bestTest = 0.5645403172\n",
      "bestIteration = 147\n",
      "Shrink model to first 148 iterations.\n",
      "Seed-56 | Fold-1 | OOF Score: 72.37878399322442\n"
     ]
    },
    {
     "name": "stderr",
     "output_type": "stream",
     "text": [
      "Warning: less than 75% gpu memory available for training. Free: 895.75 Total: 16280.875\n"
     ]
    },
    {
     "name": "stdout",
     "output_type": "stream",
     "text": [
      "0:\tlearn: 1.4306969\ttest: 1.4365101\tbest: 1.4365101 (0)\ttotal: 55.7ms\tremaining: 4m 38s\n",
      "100:\tlearn: 0.4324839\ttest: 0.5659964\tbest: 0.5652906 (88)\ttotal: 4.57s\tremaining: 3m 41s\n",
      "200:\tlearn: 0.3579400\ttest: 0.5657098\tbest: 0.5648558 (130)\ttotal: 9.08s\tremaining: 3m 36s\n",
      "300:\tlearn: 0.3008989\ttest: 0.5705723\tbest: 0.5648558 (130)\ttotal: 13.3s\tremaining: 3m 27s\n",
      "bestTest = 0.5648558095\n",
      "bestIteration = 130\n",
      "Shrink model to first 131 iterations.\n",
      "Seed-56 | Fold-2 | OOF Score: 72.71510947070709\n"
     ]
    },
    {
     "name": "stderr",
     "output_type": "stream",
     "text": [
      "Warning: less than 75% gpu memory available for training. Free: 895.75 Total: 16280.875\n"
     ]
    },
    {
     "name": "stdout",
     "output_type": "stream",
     "text": [
      "0:\tlearn: 1.4309720\ttest: 1.4350467\tbest: 1.4350467 (0)\ttotal: 55.7ms\tremaining: 4m 38s\n",
      "100:\tlearn: 0.4337879\ttest: 0.5714075\tbest: 0.5714075 (100)\ttotal: 4.71s\tremaining: 3m 48s\n",
      "200:\tlearn: 0.3649658\ttest: 0.5736053\tbest: 0.5713894 (102)\ttotal: 8.39s\tremaining: 3m 20s\n",
      "300:\tlearn: 0.3076946\ttest: 0.5792872\tbest: 0.5713894 (102)\ttotal: 13.2s\tremaining: 3m 25s\n",
      "bestTest = 0.5713894143\n",
      "bestIteration = 102\n",
      "Shrink model to first 103 iterations.\n",
      "Seed-56 | Fold-3 | OOF Score: 71.8633835589407\n"
     ]
    },
    {
     "name": "stderr",
     "output_type": "stream",
     "text": [
      "Warning: less than 75% gpu memory available for training. Free: 895.75 Total: 16280.875\n"
     ]
    },
    {
     "name": "stdout",
     "output_type": "stream",
     "text": [
      "0:\tlearn: 1.4307329\ttest: 1.4333944\tbest: 1.4333944 (0)\ttotal: 50ms\tremaining: 4m 9s\n",
      "100:\tlearn: 0.4313772\ttest: 0.5568263\tbest: 0.5565058 (97)\ttotal: 4.27s\tremaining: 3m 27s\n",
      "200:\tlearn: 0.3574710\ttest: 0.5601487\tbest: 0.5565058 (97)\ttotal: 8.11s\tremaining: 3m 13s\n",
      "bestTest = 0.5565058111\n",
      "bestIteration = 97\n",
      "Shrink model to first 98 iterations.\n",
      "Seed-56 | Fold-4 | OOF Score: 74.08999817262605\n"
     ]
    },
    {
     "name": "stderr",
     "output_type": "stream",
     "text": [
      "Warning: less than 75% gpu memory available for training. Free: 895.75 Total: 16280.875\n"
     ]
    },
    {
     "name": "stdout",
     "output_type": "stream",
     "text": [
      "0:\tlearn: 1.4317158\ttest: 1.4328203\tbest: 1.4328203 (0)\ttotal: 55.2ms\tremaining: 4m 35s\n",
      "100:\tlearn: 0.4391014\ttest: 0.5500885\tbest: 0.5495700 (90)\ttotal: 4.23s\tremaining: 3m 25s\n",
      "200:\tlearn: 0.3643165\ttest: 0.5518880\tbest: 0.5494701 (116)\ttotal: 8.33s\tremaining: 3m 18s\n",
      "300:\tlearn: 0.3078408\ttest: 0.5537385\tbest: 0.5494701 (116)\ttotal: 12.4s\tremaining: 3m 13s\n",
      "bestTest = 0.5494700945\n",
      "bestIteration = 116\n",
      "Shrink model to first 117 iterations.\n",
      "Seed-56 | Fold-5 | OOF Score: 72.97400800599232\n"
     ]
    },
    {
     "name": "stderr",
     "output_type": "stream",
     "text": [
      "Warning: less than 75% gpu memory available for training. Free: 895.75 Total: 16280.875\n"
     ]
    },
    {
     "name": "stdout",
     "output_type": "stream",
     "text": [
      "0:\tlearn: 1.4315724\ttest: 1.4340409\tbest: 1.4340409 (0)\ttotal: 54.6ms\tremaining: 4m 32s\n",
      "100:\tlearn: 0.4384476\ttest: 0.5547045\tbest: 0.5544381 (94)\ttotal: 4.6s\tremaining: 3m 43s\n",
      "200:\tlearn: 0.3697850\ttest: 0.5548941\tbest: 0.5538309 (136)\ttotal: 8.22s\tremaining: 3m 16s\n",
      "300:\tlearn: 0.3128126\ttest: 0.5583028\tbest: 0.5538309 (136)\ttotal: 12.1s\tremaining: 3m 8s\n",
      "bestTest = 0.5538309079\n",
      "bestIteration = 136\n",
      "Shrink model to first 137 iterations.\n",
      "Seed-56 | Fold-6 | OOF Score: 73.46315118258401\n",
      "\n",
      "Seed: 56 | Aggregate OOF Score: 72.99820967841997\n",
      "\n",
      "\n"
     ]
    },
    {
     "name": "stderr",
     "output_type": "stream",
     "text": [
      "Warning: less than 75% gpu memory available for training. Free: 895.75 Total: 16280.875\n"
     ]
    },
    {
     "name": "stdout",
     "output_type": "stream",
     "text": [
      "0:\tlearn: 1.4310739\ttest: 1.4340341\tbest: 1.4340341 (0)\ttotal: 54.6ms\tremaining: 4m 33s\n",
      "100:\tlearn: 0.4305293\ttest: 0.5557666\tbest: 0.5557222 (98)\ttotal: 4.42s\tremaining: 3m 34s\n",
      "200:\tlearn: 0.3599262\ttest: 0.5568007\tbest: 0.5554840 (104)\ttotal: 8.47s\tremaining: 3m 22s\n",
      "300:\tlearn: 0.3037583\ttest: 0.5606228\tbest: 0.5554840 (104)\ttotal: 12.9s\tremaining: 3m 21s\n",
      "bestTest = 0.5554839991\n",
      "bestIteration = 104\n",
      "Shrink model to first 105 iterations.\n",
      "Seed-72 | Fold-0 | OOF Score: 72.87092755731511\n"
     ]
    },
    {
     "name": "stderr",
     "output_type": "stream",
     "text": [
      "Warning: less than 75% gpu memory available for training. Free: 895.75 Total: 16280.875\n"
     ]
    },
    {
     "name": "stdout",
     "output_type": "stream",
     "text": [
      "0:\tlearn: 1.4314504\ttest: 1.4345240\tbest: 1.4345240 (0)\ttotal: 55.3ms\tremaining: 4m 36s\n",
      "100:\tlearn: 0.4353914\ttest: 0.5663271\tbest: 0.5658926 (89)\ttotal: 4.88s\tremaining: 3m 56s\n",
      "200:\tlearn: 0.3646415\ttest: 0.5675224\tbest: 0.5658926 (89)\ttotal: 8.59s\tremaining: 3m 25s\n",
      "bestTest = 0.565892579\n",
      "bestIteration = 89\n",
      "Shrink model to first 90 iterations.\n",
      "Seed-72 | Fold-1 | OOF Score: 73.03438447287834\n"
     ]
    },
    {
     "name": "stderr",
     "output_type": "stream",
     "text": [
      "Warning: less than 75% gpu memory available for training. Free: 895.75 Total: 16280.875\n"
     ]
    },
    {
     "name": "stdout",
     "output_type": "stream",
     "text": [
      "0:\tlearn: 1.4313820\ttest: 1.4341196\tbest: 1.4341196 (0)\ttotal: 56.8ms\tremaining: 4m 44s\n",
      "100:\tlearn: 0.4358182\ttest: 0.5626989\tbest: 0.5626526 (98)\ttotal: 4.5s\tremaining: 3m 38s\n",
      "200:\tlearn: 0.3642106\ttest: 0.5647191\tbest: 0.5621947 (104)\ttotal: 8.3s\tremaining: 3m 18s\n",
      "300:\tlearn: 0.3075565\ttest: 0.5671383\tbest: 0.5621947 (104)\ttotal: 12.7s\tremaining: 3m 17s\n",
      "bestTest = 0.5621946921\n",
      "bestIteration = 104\n",
      "Shrink model to first 105 iterations.\n",
      "Seed-72 | Fold-2 | OOF Score: 73.48731091681094\n"
     ]
    },
    {
     "name": "stderr",
     "output_type": "stream",
     "text": [
      "Warning: less than 75% gpu memory available for training. Free: 895.75 Total: 16280.875\n"
     ]
    },
    {
     "name": "stdout",
     "output_type": "stream",
     "text": [
      "0:\tlearn: 1.4317481\ttest: 1.4326265\tbest: 1.4326265 (0)\ttotal: 54.1ms\tremaining: 4m 30s\n",
      "100:\tlearn: 0.4405315\ttest: 0.5565391\tbest: 0.5565391 (100)\ttotal: 5.55s\tremaining: 4m 29s\n",
      "200:\tlearn: 0.3681809\ttest: 0.5593158\tbest: 0.5561764 (102)\ttotal: 9.85s\tremaining: 3m 55s\n",
      "300:\tlearn: 0.3111618\ttest: 0.5626200\tbest: 0.5561764 (102)\ttotal: 13.9s\tremaining: 3m 37s\n",
      "bestTest = 0.5561763999\n",
      "bestIteration = 102\n",
      "Shrink model to first 103 iterations.\n",
      "Seed-72 | Fold-3 | OOF Score: 73.02995252064541\n"
     ]
    },
    {
     "name": "stderr",
     "output_type": "stream",
     "text": [
      "Warning: less than 75% gpu memory available for training. Free: 895.75 Total: 16280.875\n"
     ]
    },
    {
     "name": "stdout",
     "output_type": "stream",
     "text": [
      "0:\tlearn: 1.4310000\ttest: 1.4351857\tbest: 1.4351857 (0)\ttotal: 55ms\tremaining: 4m 34s\n",
      "100:\tlearn: 0.4379847\ttest: 0.5554800\tbest: 0.5549336 (92)\ttotal: 4.71s\tremaining: 3m 48s\n",
      "200:\tlearn: 0.3632041\ttest: 0.5558216\tbest: 0.5542554 (114)\ttotal: 8.49s\tremaining: 3m 22s\n",
      "300:\tlearn: 0.3046248\ttest: 0.5598812\tbest: 0.5542554 (114)\ttotal: 12.5s\tremaining: 3m 15s\n",
      "bestTest = 0.554255393\n",
      "bestIteration = 114\n",
      "Shrink model to first 115 iterations.\n",
      "Seed-72 | Fold-4 | OOF Score: 73.45919333727491\n"
     ]
    },
    {
     "name": "stderr",
     "output_type": "stream",
     "text": [
      "Warning: less than 75% gpu memory available for training. Free: 895.75 Total: 16280.875\n"
     ]
    },
    {
     "name": "stdout",
     "output_type": "stream",
     "text": [
      "0:\tlearn: 1.4316313\ttest: 1.4360198\tbest: 1.4360198 (0)\ttotal: 50.7ms\tremaining: 4m 13s\n",
      "100:\tlearn: 0.4379342\ttest: 0.5652857\tbest: 0.5650288 (80)\ttotal: 4.84s\tremaining: 3m 54s\n",
      "200:\tlearn: 0.3688075\ttest: 0.5666581\tbest: 0.5646251 (114)\ttotal: 8.51s\tremaining: 3m 23s\n",
      "300:\tlearn: 0.3110111\ttest: 0.5705894\tbest: 0.5646251 (114)\ttotal: 13s\tremaining: 3m 22s\n",
      "bestTest = 0.5646251037\n",
      "bestIteration = 114\n",
      "Shrink model to first 115 iterations.\n",
      "Seed-72 | Fold-5 | OOF Score: 72.7131741629281\n"
     ]
    },
    {
     "name": "stderr",
     "output_type": "stream",
     "text": [
      "Warning: less than 75% gpu memory available for training. Free: 895.75 Total: 16280.875\n"
     ]
    },
    {
     "name": "stdout",
     "output_type": "stream",
     "text": [
      "0:\tlearn: 1.4321788\ttest: 1.4344336\tbest: 1.4344336 (0)\ttotal: 56.9ms\tremaining: 4m 44s\n",
      "100:\tlearn: 0.4329476\ttest: 0.5562701\tbest: 0.5558632 (91)\ttotal: 4.31s\tremaining: 3m 28s\n",
      "200:\tlearn: 0.3620538\ttest: 0.5583223\tbest: 0.5558632 (91)\ttotal: 8.61s\tremaining: 3m 25s\n",
      "bestTest = 0.5558632242\n",
      "bestIteration = 91\n",
      "Shrink model to first 92 iterations.\n",
      "Seed-72 | Fold-6 | OOF Score: 74.17461967723409\n",
      "\n",
      "Seed: 72 | Aggregate OOF Score: 73.25279466358384\n",
      "\n",
      "\n"
     ]
    },
    {
     "name": "stderr",
     "output_type": "stream",
     "text": [
      "Warning: less than 75% gpu memory available for training. Free: 895.75 Total: 16280.875\n"
     ]
    },
    {
     "name": "stdout",
     "output_type": "stream",
     "text": [
      "0:\tlearn: 1.4309648\ttest: 1.4356905\tbest: 1.4356905 (0)\ttotal: 48.7ms\tremaining: 4m 3s\n",
      "100:\tlearn: 0.4323715\ttest: 0.5707364\tbest: 0.5704447 (93)\ttotal: 4.62s\tremaining: 3m 43s\n",
      "200:\tlearn: 0.3621660\ttest: 0.5734088\tbest: 0.5704447 (93)\ttotal: 9.07s\tremaining: 3m 36s\n",
      "bestTest = 0.5704446997\n",
      "bestIteration = 93\n",
      "Shrink model to first 94 iterations.\n",
      "Seed-0 | Fold-0 | OOF Score: 72.19010567981124\n"
     ]
    },
    {
     "name": "stderr",
     "output_type": "stream",
     "text": [
      "Warning: less than 75% gpu memory available for training. Free: 895.75 Total: 16280.875\n"
     ]
    },
    {
     "name": "stdout",
     "output_type": "stream",
     "text": [
      "0:\tlearn: 1.4314227\ttest: 1.4353319\tbest: 1.4353319 (0)\ttotal: 48.5ms\tremaining: 4m 2s\n",
      "100:\tlearn: 0.4354347\ttest: 0.5669420\tbest: 0.5667616 (95)\ttotal: 4.12s\tremaining: 3m 19s\n",
      "200:\tlearn: 0.3623041\ttest: 0.5701988\tbest: 0.5662267 (115)\ttotal: 8s\tremaining: 3m 11s\n",
      "300:\tlearn: 0.3059771\ttest: 0.5743508\tbest: 0.5662267 (115)\ttotal: 12.5s\tremaining: 3m 15s\n",
      "bestTest = 0.5662267104\n",
      "bestIteration = 115\n",
      "Shrink model to first 116 iterations.\n",
      "Seed-0 | Fold-1 | OOF Score: 72.32046500877833\n"
     ]
    },
    {
     "name": "stderr",
     "output_type": "stream",
     "text": [
      "Warning: less than 75% gpu memory available for training. Free: 895.75 Total: 16280.875\n"
     ]
    },
    {
     "name": "stdout",
     "output_type": "stream",
     "text": [
      "0:\tlearn: 1.4315993\ttest: 1.4350382\tbest: 1.4350382 (0)\ttotal: 52ms\tremaining: 4m 20s\n",
      "100:\tlearn: 0.4308615\ttest: 0.5596073\tbest: 0.5592802 (91)\ttotal: 4.45s\tremaining: 3m 35s\n",
      "200:\tlearn: 0.3655053\ttest: 0.5595013\tbest: 0.5577763 (150)\ttotal: 9.29s\tremaining: 3m 41s\n",
      "300:\tlearn: 0.3092579\ttest: 0.5627224\tbest: 0.5577763 (150)\ttotal: 13.5s\tremaining: 3m 31s\n",
      "bestTest = 0.5577763033\n",
      "bestIteration = 150\n",
      "Shrink model to first 151 iterations.\n",
      "Seed-0 | Fold-2 | OOF Score: 73.07382761149161\n"
     ]
    },
    {
     "name": "stderr",
     "output_type": "stream",
     "text": [
      "Warning: less than 75% gpu memory available for training. Free: 895.75 Total: 16280.875\n"
     ]
    },
    {
     "name": "stdout",
     "output_type": "stream",
     "text": [
      "0:\tlearn: 1.4321834\ttest: 1.4337962\tbest: 1.4337962 (0)\ttotal: 53.6ms\tremaining: 4m 28s\n",
      "100:\tlearn: 0.4359459\ttest: 0.5478941\tbest: 0.5475108 (97)\ttotal: 4.27s\tremaining: 3m 27s\n",
      "200:\tlearn: 0.3621337\ttest: 0.5518086\tbest: 0.5475108 (97)\ttotal: 8.08s\tremaining: 3m 12s\n",
      "bestTest = 0.5475108304\n",
      "bestIteration = 97\n",
      "Shrink model to first 98 iterations.\n",
      "Seed-0 | Fold-3 | OOF Score: 73.66194271071856\n"
     ]
    },
    {
     "name": "stderr",
     "output_type": "stream",
     "text": [
      "Warning: less than 75% gpu memory available for training. Free: 895.75 Total: 16280.875\n"
     ]
    },
    {
     "name": "stdout",
     "output_type": "stream",
     "text": [
      "0:\tlearn: 1.4319805\ttest: 1.4317275\tbest: 1.4317275 (0)\ttotal: 52.6ms\tremaining: 4m 22s\n",
      "100:\tlearn: 0.4343653\ttest: 0.5471680\tbest: 0.5461976 (84)\ttotal: 4.68s\tremaining: 3m 47s\n",
      "200:\tlearn: 0.3647875\ttest: 0.5495385\tbest: 0.5461976 (84)\ttotal: 9.72s\tremaining: 3m 52s\n",
      "bestTest = 0.5461975813\n",
      "bestIteration = 84\n",
      "Shrink model to first 85 iterations.\n",
      "Seed-0 | Fold-4 | OOF Score: 73.44463715569961\n"
     ]
    },
    {
     "name": "stderr",
     "output_type": "stream",
     "text": [
      "Warning: less than 75% gpu memory available for training. Free: 895.75 Total: 16280.875\n"
     ]
    },
    {
     "name": "stdout",
     "output_type": "stream",
     "text": [
      "0:\tlearn: 1.4315251\ttest: 1.4339110\tbest: 1.4339110 (0)\ttotal: 56.7ms\tremaining: 4m 43s\n",
      "100:\tlearn: 0.4365039\ttest: 0.5620790\tbest: 0.5618524 (74)\ttotal: 4.6s\tremaining: 3m 43s\n",
      "200:\tlearn: 0.3627241\ttest: 0.5653401\tbest: 0.5616403 (118)\ttotal: 8.43s\tremaining: 3m 21s\n",
      "300:\tlearn: 0.3086669\ttest: 0.5705097\tbest: 0.5616403 (118)\ttotal: 12.4s\tremaining: 3m 13s\n",
      "bestTest = 0.5616402691\n",
      "bestIteration = 118\n",
      "Shrink model to first 119 iterations.\n",
      "Seed-0 | Fold-5 | OOF Score: 72.39127006839958\n"
     ]
    },
    {
     "name": "stderr",
     "output_type": "stream",
     "text": [
      "Warning: less than 75% gpu memory available for training. Free: 895.75 Total: 16280.875\n"
     ]
    },
    {
     "name": "stdout",
     "output_type": "stream",
     "text": [
      "0:\tlearn: 1.4306597\ttest: 1.4353142\tbest: 1.4353142 (0)\ttotal: 55ms\tremaining: 4m 35s\n",
      "100:\tlearn: 0.4347986\ttest: 0.5770535\tbest: 0.5762758 (83)\ttotal: 4.45s\tremaining: 3m 35s\n",
      "200:\tlearn: 0.3647363\ttest: 0.5807941\tbest: 0.5762758 (83)\ttotal: 8.55s\tremaining: 3m 24s\n",
      "bestTest = 0.5762758208\n",
      "bestIteration = 83\n",
      "Shrink model to first 84 iterations.\n",
      "Seed-0 | Fold-6 | OOF Score: 71.28595641106543\n",
      "\n",
      "Seed: 0 | Aggregate OOF Score: 72.62402923513777\n",
      "\n",
      "\n",
      "Aggregate OOF Score: 73.00284261974838\n"
     ]
    }
   ],
   "source": [
    "FOLD = 7\n",
    "NUM_SEED = 5\n",
    "\n",
    "np.random.seed(3)\n",
    "seeds = np.random.randint(0, 100, size=NUM_SEED)\n",
    "\n",
    "oof_score = 0\n",
    "y_pred_meta_cb = np.zeros((Ytrain.shape[0], 5))\n",
    "y_pred_final_cb = np.zeros((Xtest.shape[0], 5))\n",
    "counter = 0\n",
    "\n",
    "\n",
    "for sidx, seed in enumerate(seeds):\n",
    "    seed_score = 0\n",
    "    \n",
    "    kfold = StratifiedKFold(n_splits=FOLD, shuffle=True, random_state=seed)\n",
    "\n",
    "    for idx, (train, val) in enumerate(kfold.split(Xtrain.values, Ytrain.values)):\n",
    "        counter += 1\n",
    "\n",
    "        train_x, train_y = Xtrain.iloc[train], Ytrain.iloc[train]\n",
    "        val_x, val_y = Xtrain.iloc[val], Ytrain.iloc[val]\n",
    "\n",
    "        model = CatBoostClassifier(\n",
    "            objective='MultiClass',\n",
    "            eval_metric='MultiClass',\n",
    "            num_boost_round=5000,\n",
    "            class_weights=class_weight,\n",
    "            learning_rate=0.07964,\n",
    "            reg_lambda=0.95,\n",
    "            bootstrap_type='Poisson',\n",
    "            subsample=0.81,\n",
    "            max_depth=7, \n",
    "            grow_policy='Lossguide',\n",
    "            min_data_in_leaf=10, \n",
    "            max_leaves=152,\n",
    "            task_type='GPU',\n",
    "            verbose=0\n",
    "        )\n",
    "\n",
    "        model.fit(train_x, train_y, eval_set=[(val_x, val_y)], \n",
    "                  cat_features=cat_cols_indices,\n",
    "                  early_stopping_rounds=200, verbose=100)\n",
    "\n",
    "        y_pred = model.predict(val_x)\n",
    "        y_pred_meta_cb[val] += model.predict_proba(val_x)\n",
    "        y_pred_final_cb += model.predict_proba(Xtest)\n",
    "        \n",
    "        score = 100 * f1_score(val_y, y_pred, average='macro')\n",
    "        oof_score += score\n",
    "        seed_score += score\n",
    "        print(\"Seed-{} | Fold-{} | OOF Score: {}\".format(seed, idx, score))\n",
    "    \n",
    "    print(\"\\nSeed: {} | Aggregate OOF Score: {}\\n\\n\".format(seed, (seed_score / FOLD)))\n",
    "\n",
    "\n",
    "y_pred_meta_cb = y_pred_meta_cb / float(NUM_SEED)\n",
    "y_pred_final_cb = y_pred_final_cb / float(counter)\n",
    "oof_score /= float(counter)\n",
    "print(\"Aggregate OOF Score: {}\".format(oof_score))"
   ]
  },
  {
   "cell_type": "code",
   "execution_count": 14,
   "metadata": {
    "execution": {
     "iopub.execute_input": "2021-03-26T07:41:07.115276Z",
     "iopub.status.busy": "2021-03-26T07:41:07.114441Z",
     "iopub.status.idle": "2021-03-26T07:41:07.258077Z",
     "shell.execute_reply": "2021-03-26T07:41:07.258660Z"
    },
    "executionInfo": {
     "elapsed": 2280,
     "status": "ok",
     "timestamp": 1615995536839,
     "user": {
      "displayName": "TAPAS DAS",
      "photoUrl": "https://lh3.googleusercontent.com/a-/AOh14GiyffdGKiPCR_UwVittzTcbBFms70IkGfU15fatCA=s64",
      "userId": "10798398878324948542"
     },
     "user_tz": -330
    },
    "id": "uLzmS7LzXvXy",
    "papermill": {
     "duration": 0.260832,
     "end_time": "2021-03-26T07:41:07.258866",
     "exception": false,
     "start_time": "2021-03-26T07:41:06.998034",
     "status": "completed"
    },
    "tags": []
   },
   "outputs": [],
   "source": [
    "np.savez_compressed('./CB_Meta_Features.npz',\n",
    "                    y_pred_meta_cb=y_pred_meta_cb, \n",
    "                    oof_score=oof_score,\n",
    "                    y_pred_final_cb=y_pred_final_cb)"
   ]
  },
  {
   "cell_type": "markdown",
   "metadata": {
    "id": "nZvoU4TpWxmY",
    "papermill": {
     "duration": 0.075692,
     "end_time": "2021-03-26T07:41:07.419336",
     "exception": false,
     "start_time": "2021-03-26T07:41:07.343644",
     "status": "completed"
    },
    "tags": []
   },
   "source": [
    "## Create submission file"
   ]
  },
  {
   "cell_type": "code",
   "execution_count": 15,
   "metadata": {
    "execution": {
     "iopub.execute_input": "2021-03-26T07:41:07.581792Z",
     "iopub.status.busy": "2021-03-26T07:41:07.581260Z",
     "iopub.status.idle": "2021-03-26T07:41:07.750674Z",
     "shell.execute_reply": "2021-03-26T07:41:07.749677Z"
    },
    "executionInfo": {
     "elapsed": 1981,
     "status": "ok",
     "timestamp": 1615995537649,
     "user": {
      "displayName": "TAPAS DAS",
      "photoUrl": "https://lh3.googleusercontent.com/a-/AOh14GiyffdGKiPCR_UwVittzTcbBFms70IkGfU15fatCA=s64",
      "userId": "10798398878324948542"
     },
     "user_tz": -330
    },
    "id": "zGEGOAJHVoHV",
    "outputId": "3c49eaf5-b556-457f-e1bd-4d96f1c53afe",
    "papermill": {
     "duration": 0.255719,
     "end_time": "2021-03-26T07:41:07.750844",
     "exception": false,
     "start_time": "2021-03-26T07:41:07.495125",
     "status": "completed"
    },
    "tags": []
   },
   "outputs": [
    {
     "data": {
      "text/html": [
       "<div>\n",
       "<style scoped>\n",
       "    .dataframe tbody tr th:only-of-type {\n",
       "        vertical-align: middle;\n",
       "    }\n",
       "\n",
       "    .dataframe tbody tr th {\n",
       "        vertical-align: top;\n",
       "    }\n",
       "\n",
       "    .dataframe thead th {\n",
       "        text-align: right;\n",
       "    }\n",
       "</style>\n",
       "<table border=\"1\" class=\"dataframe\">\n",
       "  <thead>\n",
       "    <tr style=\"text-align: right;\">\n",
       "      <th></th>\n",
       "      <th>customer_id</th>\n",
       "      <th>churn_risk_score</th>\n",
       "    </tr>\n",
       "  </thead>\n",
       "  <tbody>\n",
       "    <tr>\n",
       "      <th>0</th>\n",
       "      <td>fffe43004900440031003700300030003400</td>\n",
       "      <td>3</td>\n",
       "    </tr>\n",
       "    <tr>\n",
       "      <th>1</th>\n",
       "      <td>fffe43004900440031003900370037003300</td>\n",
       "      <td>3</td>\n",
       "    </tr>\n",
       "    <tr>\n",
       "      <th>2</th>\n",
       "      <td>fffe43004900440034003800360037003000</td>\n",
       "      <td>3</td>\n",
       "    </tr>\n",
       "    <tr>\n",
       "      <th>3</th>\n",
       "      <td>fffe43004900440036003200370033003400</td>\n",
       "      <td>3</td>\n",
       "    </tr>\n",
       "    <tr>\n",
       "      <th>4</th>\n",
       "      <td>fffe43004900440035003000370031003900</td>\n",
       "      <td>5</td>\n",
       "    </tr>\n",
       "  </tbody>\n",
       "</table>\n",
       "</div>"
      ],
      "text/plain": [
       "                            customer_id  churn_risk_score\n",
       "0  fffe43004900440031003700300030003400                 3\n",
       "1  fffe43004900440031003900370037003300                 3\n",
       "2  fffe43004900440034003800360037003000                 3\n",
       "3  fffe43004900440036003200370033003400                 3\n",
       "4  fffe43004900440035003000370031003900                 5"
      ]
     },
     "execution_count": 15,
     "metadata": {},
     "output_type": "execute_result"
    }
   ],
   "source": [
    "test_df = pd.read_csv(\"../input/customer-churn-rate-prediction/dataset/test.csv\")\n",
    "submit_df = pd.DataFrame()\n",
    "submit_df['customer_id'] = test_df['customer_id']\n",
    "submit_df['churn_risk_score'] = np.array([np.argmax(y_pred_final_cb, axis=1)]).T\n",
    "submit_df['churn_risk_score'] = submit_df['churn_risk_score'].apply(lambda x: 5 if x==0 else x)\n",
    "submit_df.head()"
   ]
  },
  {
   "cell_type": "code",
   "execution_count": 16,
   "metadata": {
    "execution": {
     "iopub.execute_input": "2021-03-26T07:41:07.907288Z",
     "iopub.status.busy": "2021-03-26T07:41:07.906627Z",
     "iopub.status.idle": "2021-03-26T07:41:08.077260Z",
     "shell.execute_reply": "2021-03-26T07:41:08.076792Z"
    },
    "executionInfo": {
     "elapsed": 940,
     "status": "ok",
     "timestamp": 1615995537653,
     "user": {
      "displayName": "TAPAS DAS",
      "photoUrl": "https://lh3.googleusercontent.com/a-/AOh14GiyffdGKiPCR_UwVittzTcbBFms70IkGfU15fatCA=s64",
      "userId": "10798398878324948542"
     },
     "user_tz": -330
    },
    "id": "KDIsotrKVoJN",
    "papermill": {
     "duration": 0.250227,
     "end_time": "2021-03-26T07:41:08.077385",
     "exception": false,
     "start_time": "2021-03-26T07:41:07.827158",
     "status": "completed"
    },
    "tags": []
   },
   "outputs": [],
   "source": [
    "submit_df.to_csv(\"./CB_submission.csv\", index=False)"
   ]
  },
  {
   "cell_type": "code",
   "execution_count": null,
   "metadata": {
    "id": "W2c88MvxXm65",
    "papermill": {
     "duration": 0.075419,
     "end_time": "2021-03-26T07:41:08.242047",
     "exception": false,
     "start_time": "2021-03-26T07:41:08.166628",
     "status": "completed"
    },
    "tags": []
   },
   "outputs": [],
   "source": []
  }
 ],
 "metadata": {
  "kernelspec": {
   "display_name": "Python 3",
   "language": "python",
   "name": "python3"
  },
  "language_info": {
   "codemirror_mode": {
    "name": "ipython",
    "version": 3
   },
   "file_extension": ".py",
   "mimetype": "text/x-python",
   "name": "python",
   "nbconvert_exporter": "python",
   "pygments_lexer": "ipython3",
   "version": "3.7.9"
  },
  "papermill": {
   "default_parameters": {},
   "duration": 634.991488,
   "end_time": "2021-03-26T07:41:11.488559",
   "environment_variables": {},
   "exception": null,
   "input_path": "__notebook__.ipynb",
   "output_path": "__notebook__.ipynb",
   "parameters": {},
   "start_time": "2021-03-26T07:30:36.497071",
   "version": "2.2.2"
  }
 },
 "nbformat": 4,
 "nbformat_minor": 4
}
