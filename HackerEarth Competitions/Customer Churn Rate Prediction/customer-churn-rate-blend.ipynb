{
 "cells": [
  {
   "cell_type": "markdown",
   "metadata": {
    "papermill": {
     "duration": 0.019159,
     "end_time": "2021-03-26T13:42:37.161670",
     "exception": false,
     "start_time": "2021-03-26T13:42:37.142511",
     "status": "completed"
    },
    "tags": []
   },
   "source": [
    "## Import libraries"
   ]
  },
  {
   "cell_type": "code",
   "execution_count": 1,
   "metadata": {
    "execution": {
     "iopub.execute_input": "2021-03-26T13:42:37.202538Z",
     "iopub.status.busy": "2021-03-26T13:42:37.201423Z",
     "iopub.status.idle": "2021-03-26T13:42:38.844369Z",
     "shell.execute_reply": "2021-03-26T13:42:38.843396Z"
    },
    "papermill": {
     "duration": 1.664721,
     "end_time": "2021-03-26T13:42:38.844671",
     "exception": false,
     "start_time": "2021-03-26T13:42:37.179950",
     "status": "completed"
    },
    "tags": []
   },
   "outputs": [],
   "source": [
    "import gc\n",
    "import pickle\n",
    "import numpy as np\n",
    "import pandas as pd\n",
    "import seaborn as sns\n",
    "import matplotlib.pyplot as plt\n",
    "from sklearn.metrics import f1_score\n",
    "from sklearn.model_selection import StratifiedKFold\n",
    "\n",
    "from sklearn.ensemble import VotingClassifier\n",
    "from sklearn.neighbors import KNeighborsClassifier\n",
    "from sklearn.linear_model import LogisticRegression\n",
    "from sklearn.ensemble import GradientBoostingClassifier"
   ]
  },
  {
   "cell_type": "markdown",
   "metadata": {
    "papermill": {
     "duration": 0.01695,
     "end_time": "2021-03-26T13:42:38.879308",
     "exception": false,
     "start_time": "2021-03-26T13:42:38.862358",
     "status": "completed"
    },
    "tags": []
   },
   "source": [
    "## Prepare data"
   ]
  },
  {
   "cell_type": "code",
   "execution_count": 2,
   "metadata": {
    "execution": {
     "iopub.execute_input": "2021-03-26T13:42:38.921253Z",
     "iopub.status.busy": "2021-03-26T13:42:38.920452Z",
     "iopub.status.idle": "2021-03-26T13:42:40.584026Z",
     "shell.execute_reply": "2021-03-26T13:42:40.583310Z"
    },
    "papermill": {
     "duration": 1.687614,
     "end_time": "2021-03-26T13:42:40.584186",
     "exception": false,
     "start_time": "2021-03-26T13:42:38.896572",
     "status": "completed"
    },
    "tags": []
   },
   "outputs": [
    {
     "data": {
      "text/plain": [
       "20"
      ]
     },
     "execution_count": 2,
     "metadata": {},
     "output_type": "execute_result"
    }
   ],
   "source": [
    "with open(\"../input/customer-churn-rate-preprocess-data/Churn_Risk_Rate_Dataset.txt\", 'rb') as handle: \n",
    "    data = handle.read()\n",
    "\n",
    "processed_data = pickle.loads(data)\n",
    "train_df = processed_data['train_df']\n",
    "test_df = processed_data['test_df']\n",
    "\n",
    "del processed_data\n",
    "gc.collect()"
   ]
  },
  {
   "cell_type": "code",
   "execution_count": 3,
   "metadata": {
    "execution": {
     "iopub.execute_input": "2021-03-26T13:42:40.636821Z",
     "iopub.status.busy": "2021-03-26T13:42:40.632794Z",
     "iopub.status.idle": "2021-03-26T13:42:40.688059Z",
     "shell.execute_reply": "2021-03-26T13:42:40.687394Z"
    },
    "papermill": {
     "duration": 0.085544,
     "end_time": "2021-03-26T13:42:40.688226",
     "exception": false,
     "start_time": "2021-03-26T13:42:40.602682",
     "status": "completed"
    },
    "tags": []
   },
   "outputs": [
    {
     "data": {
      "text/html": [
       "<div>\n",
       "<style scoped>\n",
       "    .dataframe tbody tr th:only-of-type {\n",
       "        vertical-align: middle;\n",
       "    }\n",
       "\n",
       "    .dataframe tbody tr th {\n",
       "        vertical-align: top;\n",
       "    }\n",
       "\n",
       "    .dataframe thead th {\n",
       "        text-align: right;\n",
       "    }\n",
       "</style>\n",
       "<table border=\"1\" class=\"dataframe\">\n",
       "  <thead>\n",
       "    <tr style=\"text-align: right;\">\n",
       "      <th></th>\n",
       "      <th>churn_risk_score</th>\n",
       "      <th>count</th>\n",
       "    </tr>\n",
       "  </thead>\n",
       "  <tbody>\n",
       "    <tr>\n",
       "      <th>0</th>\n",
       "      <td>0</td>\n",
       "      <td>9825</td>\n",
       "    </tr>\n",
       "    <tr>\n",
       "      <th>1</th>\n",
       "      <td>1</td>\n",
       "      <td>3815</td>\n",
       "    </tr>\n",
       "    <tr>\n",
       "      <th>2</th>\n",
       "      <td>2</td>\n",
       "      <td>2741</td>\n",
       "    </tr>\n",
       "    <tr>\n",
       "      <th>3</th>\n",
       "      <td>3</td>\n",
       "      <td>10422</td>\n",
       "    </tr>\n",
       "    <tr>\n",
       "      <th>4</th>\n",
       "      <td>4</td>\n",
       "      <td>10184</td>\n",
       "    </tr>\n",
       "  </tbody>\n",
       "</table>\n",
       "</div>"
      ],
      "text/plain": [
       "   churn_risk_score  count\n",
       "0                 0   9825\n",
       "1                 1   3815\n",
       "2                 2   2741\n",
       "3                 3  10422\n",
       "4                 4  10184"
      ]
     },
     "execution_count": 3,
     "metadata": {},
     "output_type": "execute_result"
    }
   ],
   "source": [
    "train_df['churn_risk_score'] = train_df['churn_risk_score'].apply(lambda x: 0 if x==5 else 1 if x==-1 else x)\n",
    "train_df.groupby(['churn_risk_score']).size().reset_index().rename(columns={0:'count'})"
   ]
  },
  {
   "cell_type": "code",
   "execution_count": 4,
   "metadata": {
    "execution": {
     "iopub.execute_input": "2021-03-26T13:42:40.735662Z",
     "iopub.status.busy": "2021-03-26T13:42:40.734564Z",
     "iopub.status.idle": "2021-03-26T13:42:41.206347Z",
     "shell.execute_reply": "2021-03-26T13:42:41.206985Z"
    },
    "papermill": {
     "duration": 0.500352,
     "end_time": "2021-03-26T13:42:41.207191",
     "exception": false,
     "start_time": "2021-03-26T13:42:40.706839",
     "status": "completed"
    },
    "tags": []
   },
   "outputs": [],
   "source": [
    "ds = np.load('../input/customer-churn-rate-lgb/LGB_Meta_Features.npz', allow_pickle=True)\n",
    "y_pred_meta_lgb, oof_score_lgb, y_pred_final_lgb = ds['y_pred_meta_lgb'], ds['oof_score'], ds['y_pred_final_lgb']\n",
    "\n",
    "ds = np.load('../input/customer-churn-rate-xgb/XGB_Meta_Features.npz', allow_pickle=True)\n",
    "y_pred_meta_xgb, oof_score_xgb, y_pred_final_xgb = ds['y_pred_meta_xgb'], ds['oof_score'], ds['y_pred_final_xgb']\n",
    "\n",
    "ds = np.load('../input/customer-churn-rate-dnn-v2/DNN_Meta_Features.npz', allow_pickle=True)\n",
    "y_pred_meta_dnn2, oof_score_dnn2, y_pred_final_dnn2 = ds['y_pred_meta_dnn'], ds['oof_score'], ds['y_pred_final_dnn']\n",
    "\n",
    "ds = np.load('../input/customer-churn-rate-cb/CB_Meta_Features.npz', allow_pickle=True)\n",
    "y_pred_meta_cb, oof_score_cb, y_pred_final_cb = ds['y_pred_meta_cb'], ds['oof_score'], ds['y_pred_final_cb']\n",
    "\n",
    "ds = np.load('../input/customer-churn-rate-dnn/DNN_Meta_Features.npz', allow_pickle=True)\n",
    "y_pred_meta_dnn1, oof_score_dnn1, y_pred_final_dnn1 = ds['y_pred_meta_dnn'], ds['oof_score'], ds['y_pred_final_dnn']\n",
    "\n",
    "ds = np.load('../input/customer-churn-rate-cnn-blend/CNN_Meta_Features.npz', allow_pickle=True)\n",
    "y_pred_meta_cnn, oof_score_cnn, y_pred_final_cnn = ds['y_pred_meta_cnn'], ds['oof_score'], ds['y_pred_final_cnn']"
   ]
  },
  {
   "cell_type": "code",
   "execution_count": 5,
   "metadata": {
    "execution": {
     "iopub.execute_input": "2021-03-26T13:42:41.248311Z",
     "iopub.status.busy": "2021-03-26T13:42:41.247623Z",
     "iopub.status.idle": "2021-03-26T13:42:41.273253Z",
     "shell.execute_reply": "2021-03-26T13:42:41.272515Z"
    },
    "papermill": {
     "duration": 0.047671,
     "end_time": "2021-03-26T13:42:41.273430",
     "exception": false,
     "start_time": "2021-03-26T13:42:41.225759",
     "status": "completed"
    },
    "tags": []
   },
   "outputs": [
    {
     "name": "stdout",
     "output_type": "stream",
     "text": [
      "Xtrain_meta shape: (36987, 30)\n",
      "Ytrain_meta shape: (36987,)\n",
      "Xtest_meta shape: (19919, 30)\n"
     ]
    }
   ],
   "source": [
    "Xtrain_meta = np.concatenate((y_pred_meta_cb, y_pred_meta_lgb, y_pred_meta_xgb, \n",
    "                              y_pred_meta_dnn1, y_pred_meta_dnn2, y_pred_meta_cnn), \n",
    "                             axis=1)\n",
    "Ytrain_meta = train_df['churn_risk_score'].values\n",
    "Xtest_meta = np.concatenate((y_pred_final_cb, y_pred_final_lgb, y_pred_final_xgb, \n",
    "                             y_pred_final_dnn1, y_pred_final_dnn2, y_pred_final_cnn), \n",
    "                            axis=1)\n",
    "\n",
    "print(\"Xtrain_meta shape: {}\".format(Xtrain_meta.shape))\n",
    "print(\"Ytrain_meta shape: {}\".format(Ytrain_meta.shape))\n",
    "print(\"Xtest_meta shape: {}\".format(Xtest_meta.shape))"
   ]
  },
  {
   "cell_type": "code",
   "execution_count": 6,
   "metadata": {
    "execution": {
     "iopub.execute_input": "2021-03-26T13:42:41.321795Z",
     "iopub.status.busy": "2021-03-26T13:42:41.320594Z",
     "iopub.status.idle": "2021-03-26T13:42:41.349990Z",
     "shell.execute_reply": "2021-03-26T13:42:41.350496Z"
    },
    "papermill": {
     "duration": 0.056982,
     "end_time": "2021-03-26T13:42:41.350820",
     "exception": false,
     "start_time": "2021-03-26T13:42:41.293838",
     "status": "completed"
    },
    "tags": []
   },
   "outputs": [
    {
     "data": {
      "text/plain": [
       "{0: 0.2789821882951654,\n",
       " 1: 0.7184796854521627,\n",
       " 2: 1.0,\n",
       " 3: 0.26300134331222413,\n",
       " 4: 0.2691476826394344}"
      ]
     },
     "execution_count": 6,
     "metadata": {},
     "output_type": "execute_result"
    }
   ],
   "source": [
    "temp_df = train_df.groupby(['churn_risk_score']).size().reset_index().rename(columns={0:'count'})\n",
    "total_count = np.sum(temp_df['count'].values)\n",
    "temp_df['class%'] = (temp_df['count'] / total_count) * 100\n",
    "lowest_pct = min(temp_df['class%'])\n",
    "temp_df['class_weight'] = lowest_pct / temp_df['class%']\n",
    "class_weight = temp_df[['churn_risk_score', 'class_weight']].to_dict()['class_weight']\n",
    "class_weight"
   ]
  },
  {
   "cell_type": "markdown",
   "metadata": {
    "papermill": {
     "duration": 0.019066,
     "end_time": "2021-03-26T13:42:41.389385",
     "exception": false,
     "start_time": "2021-03-26T13:42:41.370319",
     "status": "completed"
    },
    "tags": []
   },
   "source": [
    "## Base Models Performance"
   ]
  },
  {
   "cell_type": "code",
   "execution_count": 7,
   "metadata": {
    "execution": {
     "iopub.execute_input": "2021-03-26T13:42:41.432895Z",
     "iopub.status.busy": "2021-03-26T13:42:41.432153Z",
     "iopub.status.idle": "2021-03-26T13:42:41.744003Z",
     "shell.execute_reply": "2021-03-26T13:42:41.743432Z"
    },
    "papermill": {
     "duration": 0.335331,
     "end_time": "2021-03-26T13:42:41.744168",
     "exception": false,
     "start_time": "2021-03-26T13:42:41.408837",
     "status": "completed"
    },
    "tags": []
   },
   "outputs": [
    {
     "data": {
      "image/png": "[encoded data removed]",
      "text/plain": [
       "<Figure size 1080x576 with 1 Axes>"
      ]
     },
     "metadata": {},
     "output_type": "display_data"
    }
   ],
   "source": [
    "scores={\n",
    "    'CatBoost': float(oof_score_cb),\n",
    "    'LightGBM': float(oof_score_lgb),\n",
    "    'XGBoost': float(oof_score_xgb),\n",
    "    'DNNv1': float(oof_score_dnn1),\n",
    "    'DNNv2': float(oof_score_dnn2),\n",
    "    'CNN_Blend': float(oof_score_cnn)\n",
    "}\n",
    "\n",
    "sns.set_style(\"white\")\n",
    "fig = plt.figure(figsize=(15, 8))\n",
    "\n",
    "ax = sns.pointplot(x=list(scores.keys()), y=[score for score in list(scores.values())], markers=['o'], linestyles=['-'])\n",
    "for i, score in enumerate(list(scores.values())):\n",
    "    ax.text(i, score, '{:.6f}'.format(score), horizontalalignment='left', size='large', color='black', weight='semibold')\n",
    "\n",
    "plt.ylabel('Score (RMSLE)', size=20, labelpad=12.5)\n",
    "plt.xlabel('Base Models', size=20, labelpad=12.5)\n",
    "plt.tick_params(axis='x', labelsize=13.5)\n",
    "plt.tick_params(axis='y', labelsize=12.5)\n",
    "plt.show()"
   ]
  },
  {
   "cell_type": "markdown",
   "metadata": {
    "papermill": {
     "duration": 0.021498,
     "end_time": "2021-03-26T13:42:41.787906",
     "exception": false,
     "start_time": "2021-03-26T13:42:41.766408",
     "status": "completed"
    },
    "tags": []
   },
   "source": [
    "## Logistic Regression"
   ]
  },
  {
   "cell_type": "code",
   "execution_count": 8,
   "metadata": {
    "execution": {
     "iopub.execute_input": "2021-03-26T13:42:41.845865Z",
     "iopub.status.busy": "2021-03-26T13:42:41.845089Z",
     "iopub.status.idle": "2021-03-26T13:45:38.194615Z",
     "shell.execute_reply": "2021-03-26T13:45:38.194000Z"
    },
    "papermill": {
     "duration": 176.385158,
     "end_time": "2021-03-26T13:45:38.194806",
     "exception": false,
     "start_time": "2021-03-26T13:42:41.809648",
     "status": "completed"
    },
    "tags": []
   },
   "outputs": [
    {
     "name": "stdout",
     "output_type": "stream",
     "text": [
      "Seed-24 | Fold-0 | OOF Score: 73.11467336347323\n",
      "Seed-24 | Fold-1 | OOF Score: 72.68421131068878\n",
      "Seed-24 | Fold-2 | OOF Score: 72.72382578079196\n",
      "Seed-24 | Fold-3 | OOF Score: 74.103792296842\n",
      "Seed-24 | Fold-4 | OOF Score: 73.05891607532676\n",
      "Seed-24 | Fold-5 | OOF Score: 74.37034676249709\n",
      "Seed-24 | Fold-6 | OOF Score: 72.22345118906162\n",
      "\n",
      "Seed: 24 | Aggregate OOF Score: 73.18274525409736\n",
      "\n",
      "\n",
      "Seed-3 | Fold-0 | OOF Score: 74.44392988405708\n",
      "Seed-3 | Fold-1 | OOF Score: 73.38373628835406\n",
      "Seed-3 | Fold-2 | OOF Score: 72.5108564899004\n",
      "Seed-3 | Fold-3 | OOF Score: 73.32300387402275\n",
      "Seed-3 | Fold-4 | OOF Score: 71.29549674679076\n",
      "Seed-3 | Fold-5 | OOF Score: 74.08452737000243\n",
      "Seed-3 | Fold-6 | OOF Score: 72.47883189661361\n",
      "\n",
      "Seed: 3 | Aggregate OOF Score: 73.07434036424873\n",
      "\n",
      "\n",
      "Seed-56 | Fold-0 | OOF Score: 73.30670707196502\n",
      "Seed-56 | Fold-1 | OOF Score: 73.20044433272524\n",
      "Seed-56 | Fold-2 | OOF Score: 73.34900539850409\n",
      "Seed-56 | Fold-3 | OOF Score: 72.01857925409469\n",
      "Seed-56 | Fold-4 | OOF Score: 73.85674731099793\n",
      "Seed-56 | Fold-5 | OOF Score: 73.33452889997574\n",
      "Seed-56 | Fold-6 | OOF Score: 73.59182340397201\n",
      "\n",
      "Seed: 56 | Aggregate OOF Score: 73.23683366746211\n",
      "\n",
      "\n",
      "Seed-72 | Fold-0 | OOF Score: 73.43901415681879\n",
      "Seed-72 | Fold-1 | OOF Score: 72.56197849149981\n",
      "Seed-72 | Fold-2 | OOF Score: 73.28972751623112\n",
      "Seed-72 | Fold-3 | OOF Score: 73.16411820485996\n",
      "Seed-72 | Fold-4 | OOF Score: 73.26757766683859\n",
      "Seed-72 | Fold-5 | OOF Score: 73.06075583717\n",
      "Seed-72 | Fold-6 | OOF Score: 74.0124615153727\n",
      "\n",
      "Seed: 72 | Aggregate OOF Score: 73.25651905554157\n",
      "\n",
      "\n",
      "Seed-0 | Fold-0 | OOF Score: 72.43887597258392\n",
      "Seed-0 | Fold-1 | OOF Score: 73.59800857459882\n",
      "Seed-0 | Fold-2 | OOF Score: 73.42910822972918\n",
      "Seed-0 | Fold-3 | OOF Score: 73.8926366488772\n",
      "Seed-0 | Fold-4 | OOF Score: 73.872550196078\n",
      "Seed-0 | Fold-5 | OOF Score: 72.59034349940822\n",
      "Seed-0 | Fold-6 | OOF Score: 72.88536977986013\n",
      "\n",
      "Seed: 0 | Aggregate OOF Score: 73.24384184301935\n",
      "\n",
      "\n",
      "Aggregate OOF Score: 73.19885603687382\n"
     ]
    }
   ],
   "source": [
    "FOLD = 7\n",
    "NUM_SEED = 5\n",
    "\n",
    "np.random.seed(3)\n",
    "seeds = np.random.randint(0, 100, size=NUM_SEED)\n",
    "\n",
    "oof_score = 0\n",
    "y_pred_meta_lr = np.zeros((Ytrain_meta.shape[0], 5))\n",
    "y_pred_final_lr = np.zeros((Xtest_meta.shape[0], 5))\n",
    "counter = 0\n",
    "\n",
    "\n",
    "for sidx, seed in enumerate(seeds):\n",
    "    seed_score = 0\n",
    "    \n",
    "    kfold = StratifiedKFold(n_splits=FOLD, shuffle=True, random_state=seed)\n",
    "\n",
    "    for idx, (train, val) in enumerate(kfold.split(Xtrain_meta, Ytrain_meta)):\n",
    "        counter += 1\n",
    "\n",
    "        train_x, train_y = Xtrain_meta[train], Ytrain_meta[train]\n",
    "        val_x, val_y = Xtrain_meta[val], Ytrain_meta[val]\n",
    "\n",
    "        model = LogisticRegression(\n",
    "            max_iter=1000,\n",
    "            class_weight=class_weight, \n",
    "            random_state=0\n",
    "        )\n",
    "\n",
    "        model.fit(train_x, train_y)\n",
    "\n",
    "        y_pred = model.predict(val_x)\n",
    "        y_pred_meta_lr[val] += model.predict_proba(val_x)\n",
    "        y_pred_final_lr += model.predict_proba(Xtest_meta)\n",
    "        \n",
    "        score = 100 * f1_score(val_y, y_pred, average='macro')\n",
    "        oof_score += score\n",
    "        seed_score += score\n",
    "        print(\"Seed-{} | Fold-{} | OOF Score: {}\".format(seed, idx, score))\n",
    "    \n",
    "    print(\"\\nSeed: {} | Aggregate OOF Score: {}\\n\\n\".format(seed, (seed_score / FOLD)))\n",
    "\n",
    "\n",
    "y_pred_meta_lr = y_pred_meta_lr / float(NUM_SEED)\n",
    "y_pred_final_lr = y_pred_final_lr / float(counter)\n",
    "oof_score /= float(counter)\n",
    "print(\"Aggregate OOF Score: {}\".format(oof_score))"
   ]
  },
  {
   "cell_type": "code",
   "execution_count": 9,
   "metadata": {
    "execution": {
     "iopub.execute_input": "2021-03-26T13:45:38.267264Z",
     "iopub.status.busy": "2021-03-26T13:45:38.266177Z",
     "iopub.status.idle": "2021-03-26T13:45:38.397030Z",
     "shell.execute_reply": "2021-03-26T13:45:38.396204Z"
    },
    "papermill": {
     "duration": 0.168742,
     "end_time": "2021-03-26T13:45:38.397205",
     "exception": false,
     "start_time": "2021-03-26T13:45:38.228463",
     "status": "completed"
    },
    "tags": []
   },
   "outputs": [],
   "source": [
    "np.savez_compressed('./LR_Meta_Features.npz',\n",
    "                    y_pred_meta_lr=y_pred_meta_lr, \n",
    "                    oof_score=oof_score,\n",
    "                    y_pred_final_lr=y_pred_final_lr)"
   ]
  },
  {
   "cell_type": "markdown",
   "metadata": {
    "papermill": {
     "duration": 0.032092,
     "end_time": "2021-03-26T13:45:38.461483",
     "exception": false,
     "start_time": "2021-03-26T13:45:38.429391",
     "status": "completed"
    },
    "tags": []
   },
   "source": [
    "## KNeighborsClassifier"
   ]
  },
  {
   "cell_type": "code",
   "execution_count": 10,
   "metadata": {
    "execution": {
     "iopub.execute_input": "2021-03-26T13:45:38.540153Z",
     "iopub.status.busy": "2021-03-26T13:45:38.538973Z",
     "iopub.status.idle": "2021-03-26T14:01:21.417950Z",
     "shell.execute_reply": "2021-03-26T14:01:21.418536Z"
    },
    "papermill": {
     "duration": 942.924717,
     "end_time": "2021-03-26T14:01:21.418862",
     "exception": false,
     "start_time": "2021-03-26T13:45:38.494145",
     "status": "completed"
    },
    "tags": []
   },
   "outputs": [
    {
     "name": "stdout",
     "output_type": "stream",
     "text": [
      "Seed-24 | Fold-0 | OOF Score: 73.32638308660131\n",
      "Seed-24 | Fold-1 | OOF Score: 74.28782915128544\n",
      "Seed-24 | Fold-2 | OOF Score: 74.03498824689862\n",
      "Seed-24 | Fold-3 | OOF Score: 73.92761022603372\n",
      "Seed-24 | Fold-4 | OOF Score: 74.50552831747375\n",
      "Seed-24 | Fold-5 | OOF Score: 74.87741653312462\n",
      "Seed-24 | Fold-6 | OOF Score: 73.46396078726539\n",
      "\n",
      "Seed: 24 | Aggregate OOF Score: 74.0605309069547\n",
      "\n",
      "\n",
      "Seed-3 | Fold-0 | OOF Score: 75.35414639328881\n",
      "Seed-3 | Fold-1 | OOF Score: 74.1581036490507\n",
      "Seed-3 | Fold-2 | OOF Score: 72.99512642301009\n",
      "Seed-3 | Fold-3 | OOF Score: 73.60598606996727\n",
      "Seed-3 | Fold-4 | OOF Score: 73.59095351005423\n",
      "Seed-3 | Fold-5 | OOF Score: 74.29743863374873\n",
      "Seed-3 | Fold-6 | OOF Score: 73.07953489964687\n",
      "\n",
      "Seed: 3 | Aggregate OOF Score: 73.86875565410955\n",
      "\n",
      "\n",
      "Seed-56 | Fold-0 | OOF Score: 74.03552843033874\n",
      "Seed-56 | Fold-1 | OOF Score: 73.30800038458742\n",
      "Seed-56 | Fold-2 | OOF Score: 73.8012241976566\n",
      "Seed-56 | Fold-3 | OOF Score: 72.7554168129377\n",
      "Seed-56 | Fold-4 | OOF Score: 74.87587439657855\n",
      "Seed-56 | Fold-5 | OOF Score: 74.95542496247703\n",
      "Seed-56 | Fold-6 | OOF Score: 74.21833294145443\n",
      "\n",
      "Seed: 56 | Aggregate OOF Score: 73.99282887514721\n",
      "\n",
      "\n",
      "Aggregate OOF Score: 73.97403847873714\n"
     ]
    }
   ],
   "source": [
    "FOLD = 7\n",
    "NUM_SEED = 3\n",
    "\n",
    "np.random.seed(3)\n",
    "seeds = np.random.randint(0, 100, size=NUM_SEED)\n",
    "\n",
    "oof_score = 0\n",
    "y_pred_meta_knc = np.zeros((Ytrain_meta.shape[0], 5))\n",
    "y_pred_final_knc = np.zeros((Xtest_meta.shape[0], 5))\n",
    "counter = 0\n",
    "\n",
    "\n",
    "for sidx, seed in enumerate(seeds):\n",
    "    seed_score = 0\n",
    "    \n",
    "    kfold = StratifiedKFold(n_splits=FOLD, shuffle=True, random_state=seed)\n",
    "\n",
    "    for idx, (train, val) in enumerate(kfold.split(Xtrain_meta, Ytrain_meta)):\n",
    "        counter += 1\n",
    "\n",
    "        train_x, train_y = Xtrain_meta[train], Ytrain_meta[train]\n",
    "        val_x, val_y = Xtrain_meta[val], Ytrain_meta[val]\n",
    "\n",
    "        model = KNeighborsClassifier(\n",
    "            n_neighbors=100\n",
    "        )\n",
    "\n",
    "        model.fit(train_x, train_y)\n",
    "\n",
    "        y_pred = model.predict(val_x)\n",
    "        y_pred_meta_knc[val] += model.predict_proba(val_x)\n",
    "        y_pred_final_knc += model.predict_proba(Xtest_meta)\n",
    "        \n",
    "        score = 100 * f1_score(val_y, y_pred, average='macro')\n",
    "        oof_score += score\n",
    "        seed_score += score\n",
    "        print(\"Seed-{} | Fold-{} | OOF Score: {}\".format(seed, idx, score))\n",
    "    \n",
    "    print(\"\\nSeed: {} | Aggregate OOF Score: {}\\n\\n\".format(seed, (seed_score / FOLD)))\n",
    "\n",
    "\n",
    "y_pred_meta_knc = y_pred_meta_knc / float(NUM_SEED)\n",
    "y_pred_final_knc = y_pred_final_knc / float(counter)\n",
    "oof_score /= float(counter)\n",
    "print(\"Aggregate OOF Score: {}\".format(oof_score))"
   ]
  },
  {
   "cell_type": "code",
   "execution_count": 11,
   "metadata": {
    "execution": {
     "iopub.execute_input": "2021-03-26T14:01:21.502165Z",
     "iopub.status.busy": "2021-03-26T14:01:21.501342Z",
     "iopub.status.idle": "2021-03-26T14:01:21.587876Z",
     "shell.execute_reply": "2021-03-26T14:01:21.588464Z"
    },
    "papermill": {
     "duration": 0.130327,
     "end_time": "2021-03-26T14:01:21.588718",
     "exception": false,
     "start_time": "2021-03-26T14:01:21.458391",
     "status": "completed"
    },
    "tags": []
   },
   "outputs": [],
   "source": [
    "np.savez_compressed('./KNC_Meta_Features.npz',\n",
    "                    y_pred_meta_knc=y_pred_meta_knc, \n",
    "                    oof_score=oof_score,\n",
    "                    y_pred_final_knc=y_pred_final_knc)"
   ]
  },
  {
   "cell_type": "markdown",
   "metadata": {
    "papermill": {
     "duration": 0.04102,
     "end_time": "2021-03-26T14:01:21.669258",
     "exception": false,
     "start_time": "2021-03-26T14:01:21.628238",
     "status": "completed"
    },
    "tags": []
   },
   "source": [
    "## GradientBoostingClassifier"
   ]
  },
  {
   "cell_type": "code",
   "execution_count": 12,
   "metadata": {
    "execution": {
     "iopub.execute_input": "2021-03-26T14:01:21.755898Z",
     "iopub.status.busy": "2021-03-26T14:01:21.755119Z",
     "iopub.status.idle": "2021-03-26T17:58:13.924388Z",
     "shell.execute_reply": "2021-03-26T17:58:13.924995Z"
    },
    "papermill": {
     "duration": 14212.21477,
     "end_time": "2021-03-26T17:58:13.925269",
     "exception": false,
     "start_time": "2021-03-26T14:01:21.710499",
     "status": "completed"
    },
    "tags": []
   },
   "outputs": [
    {
     "name": "stdout",
     "output_type": "stream",
     "text": [
      "Seed-24 | Fold-0 | OOF Score: 72.90416147847758\n",
      "Seed-24 | Fold-1 | OOF Score: 74.13185113461041\n",
      "Seed-24 | Fold-2 | OOF Score: 74.23734057195357\n",
      "Seed-24 | Fold-3 | OOF Score: 72.78612258096382\n",
      "Seed-24 | Fold-4 | OOF Score: 73.82670482444797\n",
      "Seed-24 | Fold-5 | OOF Score: 72.55301582108844\n",
      "Seed-24 | Fold-6 | OOF Score: 72.92535059275782\n",
      "\n",
      "Seed: 24 | Aggregate OOF Score: 73.33779242918567\n",
      "\n",
      "\n",
      "Seed-3 | Fold-0 | OOF Score: 73.75309709973558\n",
      "Seed-3 | Fold-1 | OOF Score: 73.37061617511078\n",
      "Seed-3 | Fold-2 | OOF Score: 72.49340617576419\n",
      "Seed-3 | Fold-3 | OOF Score: 73.49697557139\n",
      "Seed-3 | Fold-4 | OOF Score: 72.1079196230112\n",
      "Seed-3 | Fold-5 | OOF Score: 73.46196732000398\n",
      "Seed-3 | Fold-6 | OOF Score: 72.45750171908263\n",
      "\n",
      "Seed: 3 | Aggregate OOF Score: 73.02021195487119\n",
      "\n",
      "\n",
      "Seed-56 | Fold-0 | OOF Score: 73.72105554636886\n",
      "Seed-56 | Fold-1 | OOF Score: 72.9627833967663\n",
      "Seed-56 | Fold-2 | OOF Score: 73.26881814569204\n",
      "Seed-56 | Fold-3 | OOF Score: 72.36105572919105\n",
      "Seed-56 | Fold-4 | OOF Score: 73.47978053065555\n",
      "Seed-56 | Fold-5 | OOF Score: 73.9070673727561\n",
      "Seed-56 | Fold-6 | OOF Score: 72.29935361606081\n",
      "\n",
      "Seed: 56 | Aggregate OOF Score: 73.14284490535582\n",
      "\n",
      "\n",
      "Aggregate OOF Score: 73.16694976313755\n"
     ]
    }
   ],
   "source": [
    "FOLD = 7\n",
    "NUM_SEED = 3\n",
    "\n",
    "np.random.seed(3)\n",
    "seeds = np.random.randint(0, 100, size=NUM_SEED)\n",
    "\n",
    "oof_score = 0\n",
    "y_pred_meta_gbc = np.zeros((Ytrain_meta.shape[0], 5))\n",
    "y_pred_final_gbc = np.zeros((Xtest_meta.shape[0], 5))\n",
    "counter = 0\n",
    "\n",
    "\n",
    "for sidx, seed in enumerate(seeds):\n",
    "    seed_score = 0\n",
    "    \n",
    "    kfold = StratifiedKFold(n_splits=FOLD, shuffle=True, random_state=seed)\n",
    "\n",
    "    for idx, (train, val) in enumerate(kfold.split(Xtrain_meta, Ytrain_meta)):\n",
    "        counter += 1\n",
    "\n",
    "        train_x, train_y = Xtrain_meta[train], Ytrain_meta[train]\n",
    "        val_x, val_y = Xtrain_meta[val], Ytrain_meta[val]\n",
    "\n",
    "        model = GradientBoostingClassifier(\n",
    "            n_estimators=6000,\n",
    "            learning_rate=0.07,\n",
    "            max_depth=8,\n",
    "            max_leaf_nodes=225,\n",
    "            n_iter_no_change=100,\n",
    "            random_state=0\n",
    "        )\n",
    "\n",
    "        model.fit(train_x, train_y)\n",
    "\n",
    "        y_pred = model.predict(val_x)\n",
    "        y_pred_meta_gbc[val] += model.predict_proba(val_x)\n",
    "        y_pred_final_gbc += model.predict_proba(Xtest_meta)\n",
    "        \n",
    "        score = 100 * f1_score(val_y, y_pred, average='macro')\n",
    "        oof_score += score\n",
    "        seed_score += score\n",
    "        print(\"Seed-{} | Fold-{} | OOF Score: {}\".format(seed, idx, score))\n",
    "    \n",
    "    print(\"\\nSeed: {} | Aggregate OOF Score: {}\\n\\n\".format(seed, (seed_score / FOLD)))\n",
    "\n",
    "\n",
    "y_pred_meta_gbc = y_pred_meta_gbc / float(NUM_SEED)\n",
    "y_pred_final_gbc = y_pred_final_gbc / float(counter)\n",
    "oof_score /= float(counter)\n",
    "print(\"Aggregate OOF Score: {}\".format(oof_score))"
   ]
  },
  {
   "cell_type": "code",
   "execution_count": 13,
   "metadata": {
    "execution": {
     "iopub.execute_input": "2021-03-26T17:58:14.028120Z",
     "iopub.status.busy": "2021-03-26T17:58:14.027116Z",
     "iopub.status.idle": "2021-03-26T17:58:14.160133Z",
     "shell.execute_reply": "2021-03-26T17:58:14.159209Z"
    },
    "papermill": {
     "duration": 0.189172,
     "end_time": "2021-03-26T17:58:14.160328",
     "exception": false,
     "start_time": "2021-03-26T17:58:13.971156",
     "status": "completed"
    },
    "tags": []
   },
   "outputs": [],
   "source": [
    "np.savez_compressed('./GBC_Meta_Features.npz',\n",
    "                    y_pred_meta_gbc=y_pred_meta_gbc, \n",
    "                    oof_score=oof_score,\n",
    "                    y_pred_final_gbc=y_pred_final_gbc)"
   ]
  },
  {
   "cell_type": "markdown",
   "metadata": {
    "papermill": {
     "duration": 0.045156,
     "end_time": "2021-03-26T17:58:14.251793",
     "exception": false,
     "start_time": "2021-03-26T17:58:14.206637",
     "status": "completed"
    },
    "tags": []
   },
   "source": [
    "## Voting Classifier"
   ]
  },
  {
   "cell_type": "code",
   "execution_count": 14,
   "metadata": {
    "execution": {
     "iopub.execute_input": "2021-03-26T17:58:14.358742Z",
     "iopub.status.busy": "2021-03-26T17:58:14.357830Z",
     "iopub.status.idle": "2021-03-26T22:09:57.260681Z",
     "shell.execute_reply": "2021-03-26T22:09:57.261216Z"
    },
    "papermill": {
     "duration": 15102.964211,
     "end_time": "2021-03-26T22:09:57.261465",
     "exception": false,
     "start_time": "2021-03-26T17:58:14.297254",
     "status": "completed"
    },
    "tags": []
   },
   "outputs": [
    {
     "name": "stdout",
     "output_type": "stream",
     "text": [
      "Seed-24 | Fold-0 | OOF Score: 73.55861636080093\n",
      "Seed-24 | Fold-1 | OOF Score: 74.30801812427373\n",
      "Seed-24 | Fold-2 | OOF Score: 74.2368791497293\n",
      "Seed-24 | Fold-3 | OOF Score: 73.60859993416616\n",
      "Seed-24 | Fold-4 | OOF Score: 74.70954327957699\n",
      "Seed-24 | Fold-5 | OOF Score: 74.09825465882751\n",
      "Seed-24 | Fold-6 | OOF Score: 73.21845800701132\n",
      "\n",
      "Seed: 24 | Aggregate OOF Score: 73.96262421634086\n",
      "\n",
      "\n",
      "Seed-3 | Fold-0 | OOF Score: 74.63462571957787\n",
      "Seed-3 | Fold-1 | OOF Score: 74.04838279728395\n",
      "Seed-3 | Fold-2 | OOF Score: 73.10190338144936\n",
      "Seed-3 | Fold-3 | OOF Score: 73.61815717896974\n",
      "Seed-3 | Fold-4 | OOF Score: 72.98369267903502\n",
      "Seed-3 | Fold-5 | OOF Score: 73.7814085820426\n",
      "Seed-3 | Fold-6 | OOF Score: 73.16420344415711\n",
      "\n",
      "Seed: 3 | Aggregate OOF Score: 73.61891054035938\n",
      "\n",
      "\n",
      "Seed-56 | Fold-0 | OOF Score: 73.74735208215951\n",
      "Seed-56 | Fold-1 | OOF Score: 73.40541750240897\n",
      "Seed-56 | Fold-2 | OOF Score: 73.94585836091471\n",
      "Seed-56 | Fold-3 | OOF Score: 73.23047725827657\n",
      "Seed-56 | Fold-4 | OOF Score: 74.4717631580382\n",
      "Seed-56 | Fold-5 | OOF Score: 74.50885607320697\n",
      "Seed-56 | Fold-6 | OOF Score: 73.24001685963971\n",
      "\n",
      "Seed: 56 | Aggregate OOF Score: 73.79282018494924\n",
      "\n",
      "\n",
      "Aggregate OOF Score: 73.79145164721649\n"
     ]
    }
   ],
   "source": [
    "FOLD = 7\n",
    "NUM_SEED = 3\n",
    "\n",
    "np.random.seed(3)\n",
    "seeds = np.random.randint(0, 100, size=NUM_SEED)\n",
    "\n",
    "oof_score = 0\n",
    "y_pred_meta_vc = np.zeros((Ytrain_meta.shape[0], 5))\n",
    "y_pred_final_vc = np.zeros((Xtest_meta.shape[0], 5))\n",
    "counter = 0\n",
    "\n",
    "\n",
    "for sidx, seed in enumerate(seeds):\n",
    "    seed_score = 0\n",
    "    \n",
    "    kfold = StratifiedKFold(n_splits=FOLD, shuffle=True, random_state=seed)\n",
    "\n",
    "    for idx, (train, val) in enumerate(kfold.split(Xtrain_meta, Ytrain_meta)):\n",
    "        counter += 1\n",
    "\n",
    "        train_x, train_y = Xtrain_meta[train], Ytrain_meta[train]\n",
    "        val_x, val_y = Xtrain_meta[val], Ytrain_meta[val]\n",
    "\n",
    "        m1 = LogisticRegression(\n",
    "            max_iter=1000,\n",
    "            class_weight=class_weight, \n",
    "            random_state=0\n",
    "        )\n",
    "        m2 = KNeighborsClassifier(\n",
    "            n_neighbors=100\n",
    "        )\n",
    "        m3 = GradientBoostingClassifier(\n",
    "            n_estimators=6000,\n",
    "            learning_rate=0.07,\n",
    "            max_depth=8,\n",
    "            max_leaf_nodes=225,\n",
    "            n_iter_no_change=100,\n",
    "            random_state=0\n",
    "        )\n",
    "\n",
    "        model = VotingClassifier([('lr', m1), ('knc', m2), ('gbc', m3)],\n",
    "                                 voting='soft')\n",
    "\n",
    "        model.fit(train_x, train_y)\n",
    "\n",
    "        y_pred = model.predict(val_x)\n",
    "        y_pred_meta_vc[val] += model.predict_proba(val_x)\n",
    "        y_pred_final_vc += model.predict_proba(Xtest_meta)\n",
    "        \n",
    "        score = 100 * f1_score(val_y, y_pred, average='macro')\n",
    "        oof_score += score\n",
    "        seed_score += score\n",
    "        print(\"Seed-{} | Fold-{} | OOF Score: {}\".format(seed, idx, score))\n",
    "    \n",
    "    print(\"\\nSeed: {} | Aggregate OOF Score: {}\\n\\n\".format(seed, (seed_score / FOLD)))\n",
    "\n",
    "\n",
    "y_pred_meta_vc = y_pred_meta_vc / float(NUM_SEED)\n",
    "y_pred_final_vc = y_pred_final_vc / float(counter)\n",
    "oof_score /= float(counter)\n",
    "print(\"Aggregate OOF Score: {}\".format(oof_score))"
   ]
  },
  {
   "cell_type": "code",
   "execution_count": 15,
   "metadata": {
    "execution": {
     "iopub.execute_input": "2021-03-26T22:09:57.373553Z",
     "iopub.status.busy": "2021-03-26T22:09:57.372879Z",
     "iopub.status.idle": "2021-03-26T22:09:57.502881Z",
     "shell.execute_reply": "2021-03-26T22:09:57.502149Z"
    },
    "papermill": {
     "duration": 0.188792,
     "end_time": "2021-03-26T22:09:57.503035",
     "exception": false,
     "start_time": "2021-03-26T22:09:57.314243",
     "status": "completed"
    },
    "tags": []
   },
   "outputs": [],
   "source": [
    "np.savez_compressed('./VC_Meta_Features.npz',\n",
    "                    y_pred_meta_vc=y_pred_meta_vc, \n",
    "                    oof_score=oof_score,\n",
    "                    y_pred_final_vc=y_pred_final_vc)"
   ]
  },
  {
   "cell_type": "markdown",
   "metadata": {
    "papermill": {
     "duration": 0.051456,
     "end_time": "2021-03-26T22:09:57.606622",
     "exception": false,
     "start_time": "2021-03-26T22:09:57.555166",
     "status": "completed"
    },
    "tags": []
   },
   "source": [
    "## Create submission file"
   ]
  },
  {
   "cell_type": "code",
   "execution_count": 16,
   "metadata": {
    "execution": {
     "iopub.execute_input": "2021-03-26T22:09:57.719569Z",
     "iopub.status.busy": "2021-03-26T22:09:57.718920Z",
     "iopub.status.idle": "2021-03-26T22:09:57.943025Z",
     "shell.execute_reply": "2021-03-26T22:09:57.941284Z"
    },
    "papermill": {
     "duration": 0.2835,
     "end_time": "2021-03-26T22:09:57.943191",
     "exception": false,
     "start_time": "2021-03-26T22:09:57.659691",
     "status": "completed"
    },
    "tags": []
   },
   "outputs": [],
   "source": [
    "test_df = pd.read_csv(\"../input/customer-churn-rate-prediction/dataset/test.csv\")\n",
    "submit_df = pd.DataFrame()\n",
    "submit_df['customer_id'] = test_df['customer_id']"
   ]
  },
  {
   "cell_type": "code",
   "execution_count": 17,
   "metadata": {
    "execution": {
     "iopub.execute_input": "2021-03-26T22:09:58.054902Z",
     "iopub.status.busy": "2021-03-26T22:09:58.053899Z",
     "iopub.status.idle": "2021-03-26T22:09:58.162737Z",
     "shell.execute_reply": "2021-03-26T22:09:58.162117Z"
    },
    "papermill": {
     "duration": 0.167419,
     "end_time": "2021-03-26T22:09:58.162893",
     "exception": false,
     "start_time": "2021-03-26T22:09:57.995474",
     "status": "completed"
    },
    "tags": []
   },
   "outputs": [
    {
     "data": {
      "text/html": [
       "<div>\n",
       "<style scoped>\n",
       "    .dataframe tbody tr th:only-of-type {\n",
       "        vertical-align: middle;\n",
       "    }\n",
       "\n",
       "    .dataframe tbody tr th {\n",
       "        vertical-align: top;\n",
       "    }\n",
       "\n",
       "    .dataframe thead th {\n",
       "        text-align: right;\n",
       "    }\n",
       "</style>\n",
       "<table border=\"1\" class=\"dataframe\">\n",
       "  <thead>\n",
       "    <tr style=\"text-align: right;\">\n",
       "      <th></th>\n",
       "      <th>customer_id</th>\n",
       "      <th>churn_risk_score</th>\n",
       "    </tr>\n",
       "  </thead>\n",
       "  <tbody>\n",
       "    <tr>\n",
       "      <th>0</th>\n",
       "      <td>fffe43004900440031003700300030003400</td>\n",
       "      <td>3</td>\n",
       "    </tr>\n",
       "    <tr>\n",
       "      <th>1</th>\n",
       "      <td>fffe43004900440031003900370037003300</td>\n",
       "      <td>3</td>\n",
       "    </tr>\n",
       "    <tr>\n",
       "      <th>2</th>\n",
       "      <td>fffe43004900440034003800360037003000</td>\n",
       "      <td>3</td>\n",
       "    </tr>\n",
       "    <tr>\n",
       "      <th>3</th>\n",
       "      <td>fffe43004900440036003200370033003400</td>\n",
       "      <td>3</td>\n",
       "    </tr>\n",
       "    <tr>\n",
       "      <th>4</th>\n",
       "      <td>fffe43004900440035003000370031003900</td>\n",
       "      <td>5</td>\n",
       "    </tr>\n",
       "  </tbody>\n",
       "</table>\n",
       "</div>"
      ],
      "text/plain": [
       "                            customer_id  churn_risk_score\n",
       "0  fffe43004900440031003700300030003400                 3\n",
       "1  fffe43004900440031003900370037003300                 3\n",
       "2  fffe43004900440034003800360037003000                 3\n",
       "3  fffe43004900440036003200370033003400                 3\n",
       "4  fffe43004900440035003000370031003900                 5"
      ]
     },
     "execution_count": 17,
     "metadata": {},
     "output_type": "execute_result"
    }
   ],
   "source": [
    "submit_df['churn_risk_score'] = np.array([np.argmax(y_pred_final_lr, axis=1)]).T\n",
    "submit_df['churn_risk_score'] = submit_df['churn_risk_score'].apply(lambda x: 5 if x==0 else x)\n",
    "submit_df.to_csv(\"./LR_submission.csv\", index=False)\n",
    "submit_df.head()"
   ]
  },
  {
   "cell_type": "code",
   "execution_count": 18,
   "metadata": {
    "execution": {
     "iopub.execute_input": "2021-03-26T22:09:58.277113Z",
     "iopub.status.busy": "2021-03-26T22:09:58.276401Z",
     "iopub.status.idle": "2021-03-26T22:09:58.363933Z",
     "shell.execute_reply": "2021-03-26T22:09:58.363255Z"
    },
    "papermill": {
     "duration": 0.148369,
     "end_time": "2021-03-26T22:09:58.364089",
     "exception": false,
     "start_time": "2021-03-26T22:09:58.215720",
     "status": "completed"
    },
    "tags": []
   },
   "outputs": [
    {
     "data": {
      "text/html": [
       "<div>\n",
       "<style scoped>\n",
       "    .dataframe tbody tr th:only-of-type {\n",
       "        vertical-align: middle;\n",
       "    }\n",
       "\n",
       "    .dataframe tbody tr th {\n",
       "        vertical-align: top;\n",
       "    }\n",
       "\n",
       "    .dataframe thead th {\n",
       "        text-align: right;\n",
       "    }\n",
       "</style>\n",
       "<table border=\"1\" class=\"dataframe\">\n",
       "  <thead>\n",
       "    <tr style=\"text-align: right;\">\n",
       "      <th></th>\n",
       "      <th>customer_id</th>\n",
       "      <th>churn_risk_score</th>\n",
       "    </tr>\n",
       "  </thead>\n",
       "  <tbody>\n",
       "    <tr>\n",
       "      <th>0</th>\n",
       "      <td>fffe43004900440031003700300030003400</td>\n",
       "      <td>3</td>\n",
       "    </tr>\n",
       "    <tr>\n",
       "      <th>1</th>\n",
       "      <td>fffe43004900440031003900370037003300</td>\n",
       "      <td>3</td>\n",
       "    </tr>\n",
       "    <tr>\n",
       "      <th>2</th>\n",
       "      <td>fffe43004900440034003800360037003000</td>\n",
       "      <td>3</td>\n",
       "    </tr>\n",
       "    <tr>\n",
       "      <th>3</th>\n",
       "      <td>fffe43004900440036003200370033003400</td>\n",
       "      <td>3</td>\n",
       "    </tr>\n",
       "    <tr>\n",
       "      <th>4</th>\n",
       "      <td>fffe43004900440035003000370031003900</td>\n",
       "      <td>5</td>\n",
       "    </tr>\n",
       "  </tbody>\n",
       "</table>\n",
       "</div>"
      ],
      "text/plain": [
       "                            customer_id  churn_risk_score\n",
       "0  fffe43004900440031003700300030003400                 3\n",
       "1  fffe43004900440031003900370037003300                 3\n",
       "2  fffe43004900440034003800360037003000                 3\n",
       "3  fffe43004900440036003200370033003400                 3\n",
       "4  fffe43004900440035003000370031003900                 5"
      ]
     },
     "execution_count": 18,
     "metadata": {},
     "output_type": "execute_result"
    }
   ],
   "source": [
    "submit_df['churn_risk_score'] = np.array([np.argmax(y_pred_final_knc, axis=1)]).T\n",
    "submit_df['churn_risk_score'] = submit_df['churn_risk_score'].apply(lambda x: 5 if x==0 else x)\n",
    "submit_df.to_csv(\"./KNC_submission.csv\", index=False)\n",
    "submit_df.head()"
   ]
  },
  {
   "cell_type": "code",
   "execution_count": 19,
   "metadata": {
    "execution": {
     "iopub.execute_input": "2021-03-26T22:09:58.478110Z",
     "iopub.status.busy": "2021-03-26T22:09:58.477265Z",
     "iopub.status.idle": "2021-03-26T22:09:58.564261Z",
     "shell.execute_reply": "2021-03-26T22:09:58.563596Z"
    },
    "papermill": {
     "duration": 0.147176,
     "end_time": "2021-03-26T22:09:58.564408",
     "exception": false,
     "start_time": "2021-03-26T22:09:58.417232",
     "status": "completed"
    },
    "tags": []
   },
   "outputs": [
    {
     "data": {
      "text/html": [
       "<div>\n",
       "<style scoped>\n",
       "    .dataframe tbody tr th:only-of-type {\n",
       "        vertical-align: middle;\n",
       "    }\n",
       "\n",
       "    .dataframe tbody tr th {\n",
       "        vertical-align: top;\n",
       "    }\n",
       "\n",
       "    .dataframe thead th {\n",
       "        text-align: right;\n",
       "    }\n",
       "</style>\n",
       "<table border=\"1\" class=\"dataframe\">\n",
       "  <thead>\n",
       "    <tr style=\"text-align: right;\">\n",
       "      <th></th>\n",
       "      <th>customer_id</th>\n",
       "      <th>churn_risk_score</th>\n",
       "    </tr>\n",
       "  </thead>\n",
       "  <tbody>\n",
       "    <tr>\n",
       "      <th>0</th>\n",
       "      <td>fffe43004900440031003700300030003400</td>\n",
       "      <td>3</td>\n",
       "    </tr>\n",
       "    <tr>\n",
       "      <th>1</th>\n",
       "      <td>fffe43004900440031003900370037003300</td>\n",
       "      <td>3</td>\n",
       "    </tr>\n",
       "    <tr>\n",
       "      <th>2</th>\n",
       "      <td>fffe43004900440034003800360037003000</td>\n",
       "      <td>3</td>\n",
       "    </tr>\n",
       "    <tr>\n",
       "      <th>3</th>\n",
       "      <td>fffe43004900440036003200370033003400</td>\n",
       "      <td>3</td>\n",
       "    </tr>\n",
       "    <tr>\n",
       "      <th>4</th>\n",
       "      <td>fffe43004900440035003000370031003900</td>\n",
       "      <td>5</td>\n",
       "    </tr>\n",
       "  </tbody>\n",
       "</table>\n",
       "</div>"
      ],
      "text/plain": [
       "                            customer_id  churn_risk_score\n",
       "0  fffe43004900440031003700300030003400                 3\n",
       "1  fffe43004900440031003900370037003300                 3\n",
       "2  fffe43004900440034003800360037003000                 3\n",
       "3  fffe43004900440036003200370033003400                 3\n",
       "4  fffe43004900440035003000370031003900                 5"
      ]
     },
     "execution_count": 19,
     "metadata": {},
     "output_type": "execute_result"
    }
   ],
   "source": [
    "submit_df['churn_risk_score'] = np.array([np.argmax(y_pred_final_gbc, axis=1)]).T\n",
    "submit_df['churn_risk_score'] = submit_df['churn_risk_score'].apply(lambda x: 5 if x==0 else x)\n",
    "submit_df.to_csv(\"./GBC_submission.csv\", index=False)\n",
    "submit_df.head()"
   ]
  },
  {
   "cell_type": "code",
   "execution_count": 20,
   "metadata": {
    "execution": {
     "iopub.execute_input": "2021-03-26T22:09:58.677983Z",
     "iopub.status.busy": "2021-03-26T22:09:58.677313Z",
     "iopub.status.idle": "2021-03-26T22:09:58.763956Z",
     "shell.execute_reply": "2021-03-26T22:09:58.763283Z"
    },
    "papermill": {
     "duration": 0.145941,
     "end_time": "2021-03-26T22:09:58.764104",
     "exception": false,
     "start_time": "2021-03-26T22:09:58.618163",
     "status": "completed"
    },
    "tags": []
   },
   "outputs": [
    {
     "data": {
      "text/html": [
       "<div>\n",
       "<style scoped>\n",
       "    .dataframe tbody tr th:only-of-type {\n",
       "        vertical-align: middle;\n",
       "    }\n",
       "\n",
       "    .dataframe tbody tr th {\n",
       "        vertical-align: top;\n",
       "    }\n",
       "\n",
       "    .dataframe thead th {\n",
       "        text-align: right;\n",
       "    }\n",
       "</style>\n",
       "<table border=\"1\" class=\"dataframe\">\n",
       "  <thead>\n",
       "    <tr style=\"text-align: right;\">\n",
       "      <th></th>\n",
       "      <th>customer_id</th>\n",
       "      <th>churn_risk_score</th>\n",
       "    </tr>\n",
       "  </thead>\n",
       "  <tbody>\n",
       "    <tr>\n",
       "      <th>0</th>\n",
       "      <td>fffe43004900440031003700300030003400</td>\n",
       "      <td>3</td>\n",
       "    </tr>\n",
       "    <tr>\n",
       "      <th>1</th>\n",
       "      <td>fffe43004900440031003900370037003300</td>\n",
       "      <td>3</td>\n",
       "    </tr>\n",
       "    <tr>\n",
       "      <th>2</th>\n",
       "      <td>fffe43004900440034003800360037003000</td>\n",
       "      <td>3</td>\n",
       "    </tr>\n",
       "    <tr>\n",
       "      <th>3</th>\n",
       "      <td>fffe43004900440036003200370033003400</td>\n",
       "      <td>3</td>\n",
       "    </tr>\n",
       "    <tr>\n",
       "      <th>4</th>\n",
       "      <td>fffe43004900440035003000370031003900</td>\n",
       "      <td>5</td>\n",
       "    </tr>\n",
       "  </tbody>\n",
       "</table>\n",
       "</div>"
      ],
      "text/plain": [
       "                            customer_id  churn_risk_score\n",
       "0  fffe43004900440031003700300030003400                 3\n",
       "1  fffe43004900440031003900370037003300                 3\n",
       "2  fffe43004900440034003800360037003000                 3\n",
       "3  fffe43004900440036003200370033003400                 3\n",
       "4  fffe43004900440035003000370031003900                 5"
      ]
     },
     "execution_count": 20,
     "metadata": {},
     "output_type": "execute_result"
    }
   ],
   "source": [
    "submit_df['churn_risk_score'] = np.array([np.argmax(y_pred_final_vc, axis=1)]).T\n",
    "submit_df['churn_risk_score'] = submit_df['churn_risk_score'].apply(lambda x: 5 if x==0 else x)\n",
    "submit_df.to_csv(\"./VC_submission.csv\", index=False)\n",
    "submit_df.head()"
   ]
  },
  {
   "cell_type": "code",
   "execution_count": 21,
   "metadata": {
    "execution": {
     "iopub.execute_input": "2021-03-26T22:09:58.880262Z",
     "iopub.status.busy": "2021-03-26T22:09:58.879447Z",
     "iopub.status.idle": "2021-03-26T22:09:58.968194Z",
     "shell.execute_reply": "2021-03-26T22:09:58.967612Z"
    },
    "papermill": {
     "duration": 0.15017,
     "end_time": "2021-03-26T22:09:58.968396",
     "exception": false,
     "start_time": "2021-03-26T22:09:58.818226",
     "status": "completed"
    },
    "tags": []
   },
   "outputs": [
    {
     "data": {
      "text/html": [
       "<div>\n",
       "<style scoped>\n",
       "    .dataframe tbody tr th:only-of-type {\n",
       "        vertical-align: middle;\n",
       "    }\n",
       "\n",
       "    .dataframe tbody tr th {\n",
       "        vertical-align: top;\n",
       "    }\n",
       "\n",
       "    .dataframe thead th {\n",
       "        text-align: right;\n",
       "    }\n",
       "</style>\n",
       "<table border=\"1\" class=\"dataframe\">\n",
       "  <thead>\n",
       "    <tr style=\"text-align: right;\">\n",
       "      <th></th>\n",
       "      <th>customer_id</th>\n",
       "      <th>churn_risk_score</th>\n",
       "    </tr>\n",
       "  </thead>\n",
       "  <tbody>\n",
       "    <tr>\n",
       "      <th>0</th>\n",
       "      <td>fffe43004900440031003700300030003400</td>\n",
       "      <td>3</td>\n",
       "    </tr>\n",
       "    <tr>\n",
       "      <th>1</th>\n",
       "      <td>fffe43004900440031003900370037003300</td>\n",
       "      <td>3</td>\n",
       "    </tr>\n",
       "    <tr>\n",
       "      <th>2</th>\n",
       "      <td>fffe43004900440034003800360037003000</td>\n",
       "      <td>3</td>\n",
       "    </tr>\n",
       "    <tr>\n",
       "      <th>3</th>\n",
       "      <td>fffe43004900440036003200370033003400</td>\n",
       "      <td>3</td>\n",
       "    </tr>\n",
       "    <tr>\n",
       "      <th>4</th>\n",
       "      <td>fffe43004900440035003000370031003900</td>\n",
       "      <td>5</td>\n",
       "    </tr>\n",
       "  </tbody>\n",
       "</table>\n",
       "</div>"
      ],
      "text/plain": [
       "                            customer_id  churn_risk_score\n",
       "0  fffe43004900440031003700300030003400                 3\n",
       "1  fffe43004900440031003900370037003300                 3\n",
       "2  fffe43004900440034003800360037003000                 3\n",
       "3  fffe43004900440036003200370033003400                 3\n",
       "4  fffe43004900440035003000370031003900                 5"
      ]
     },
     "execution_count": 21,
     "metadata": {},
     "output_type": "execute_result"
    }
   ],
   "source": [
    "y_pred_final = (y_pred_final_lr * 0.1) + \\\n",
    "               (y_pred_final_knc * 0.4) + \\\n",
    "               (y_pred_final_gbc * 0.25) + \\\n",
    "               (y_pred_final_vc * 0.25)\n",
    "\n",
    "submit_df['churn_risk_score'] = np.array([np.argmax(y_pred_final, axis=1)]).T\n",
    "submit_df['churn_risk_score'] = submit_df['churn_risk_score'].apply(lambda x: 5 if x==0 else x)\n",
    "submit_df.to_csv(\"./BLEND_submission.csv\", index=False)\n",
    "submit_df.head()"
   ]
  },
  {
   "cell_type": "code",
   "execution_count": null,
   "metadata": {
    "papermill": {
     "duration": 0.054911,
     "end_time": "2021-03-26T22:09:59.078351",
     "exception": false,
     "start_time": "2021-03-26T22:09:59.023440",
     "status": "completed"
    },
    "tags": []
   },
   "outputs": [],
   "source": []
  }
 ],
 "metadata": {
  "kernelspec": {
   "display_name": "Python 3",
   "language": "python",
   "name": "python3"
  },
  "language_info": {
   "codemirror_mode": {
    "name": "ipython",
    "version": 3
   },
   "file_extension": ".py",
   "mimetype": "text/x-python",
   "name": "python",
   "nbconvert_exporter": "python",
   "pygments_lexer": "ipython3",
   "version": "3.7.9"
  },
  "papermill": {
   "default_parameters": {},
   "duration": 30449.912545,
   "end_time": "2021-03-26T22:10:00.046960",
   "environment_variables": {},
   "exception": null,
   "input_path": "__notebook__.ipynb",
   "output_path": "__notebook__.ipynb",
   "parameters": {},
   "start_time": "2021-03-26T13:42:30.134415",
   "version": "2.2.2"
  }
 },
 "nbformat": 4,
 "nbformat_minor": 4
}
