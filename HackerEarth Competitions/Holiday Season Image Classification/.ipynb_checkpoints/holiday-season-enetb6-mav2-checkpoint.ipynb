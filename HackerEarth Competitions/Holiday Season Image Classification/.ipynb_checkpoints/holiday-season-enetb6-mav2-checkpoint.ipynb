{
 "cells": [
  {
   "cell_type": "markdown",
   "metadata": {
    "papermill": {
     "duration": 0.024086,
     "end_time": "2021-01-22T20:32:18.700936",
     "exception": false,
     "start_time": "2021-01-22T20:32:18.676850",
     "status": "completed"
    },
    "tags": []
   },
   "source": [
    "## Import Packages"
   ]
  },
  {
   "cell_type": "code",
   "execution_count": 1,
   "metadata": {
    "execution": {
     "iopub.execute_input": "2021-01-22T20:32:18.758051Z",
     "iopub.status.busy": "2021-01-22T20:32:18.757387Z",
     "iopub.status.idle": "2021-01-22T20:32:24.082274Z",
     "shell.execute_reply": "2021-01-22T20:32:24.081543Z"
    },
    "papermill": {
     "duration": 5.358203,
     "end_time": "2021-01-22T20:32:24.082395",
     "exception": false,
     "start_time": "2021-01-22T20:32:18.724192",
     "status": "completed"
    },
    "tags": []
   },
   "outputs": [],
   "source": [
    "import os\n",
    "import itertools\n",
    "import numpy as np\n",
    "import pandas as pd\n",
    "import seaborn as sns\n",
    "from tqdm import tqdm\n",
    "import matplotlib.pyplot as plt\n",
    "from sklearn.metrics import confusion_matrix\n",
    "from sklearn.metrics import classification_report\n",
    "from sklearn.model_selection import StratifiedShuffleSplit\n",
    "\n",
    "import tensorflow as tf\n",
    "from tensorflow.keras import backend as K\n",
    "from tensorflow.keras.regularizers import l2\n",
    "from tensorflow_addons.metrics import F1Score\n",
    "from tensorflow.keras.utils  import plot_model\n",
    "from tensorflow.keras.models import Model, load_model\n",
    "from tensorflow_addons.optimizers import AdamW, Lookahead\n",
    "from tensorflow.keras.callbacks import EarlyStopping\n",
    "from tensorflow.keras.callbacks import ReduceLROnPlateau\n",
    "from tensorflow.keras.callbacks import ModelCheckpoint\n",
    "from tensorflow.keras.applications import EfficientNetB6\n",
    "from tensorflow.keras.layers import Dense, Dropout, Flatten\n",
    "from tensorflow.keras.layers import BatchNormalization, Input\n",
    "from tensorflow.keras.layers import ZeroPadding2D, MaxPooling2D\n",
    "from tensorflow.keras.layers import GlobalAveragePooling2D, Add\n",
    "from tensorflow.keras.layers import GlobalMaxPooling2D, Reshape\n",
    "from tensorflow.keras.layers import Activation, Conv2D, Average\n",
    "from tensorflow.keras.preprocessing.image import ImageDataGenerator"
   ]
  },
  {
   "cell_type": "markdown",
   "metadata": {
    "papermill": {
     "duration": 0.023223,
     "end_time": "2021-01-22T20:32:24.127229",
     "exception": false,
     "start_time": "2021-01-22T20:32:24.104006",
     "status": "completed"
    },
    "tags": []
   },
   "source": [
    "## Helper Functions"
   ]
  },
  {
   "cell_type": "code",
   "execution_count": 2,
   "metadata": {
    "execution": {
     "iopub.execute_input": "2021-01-22T20:32:24.183264Z",
     "iopub.status.busy": "2021-01-22T20:32:24.181993Z",
     "iopub.status.idle": "2021-01-22T20:32:24.189970Z",
     "shell.execute_reply": "2021-01-22T20:32:24.188575Z"
    },
    "papermill": {
     "duration": 0.039263,
     "end_time": "2021-01-22T20:32:24.190098",
     "exception": false,
     "start_time": "2021-01-22T20:32:24.150835",
     "status": "completed"
    },
    "tags": []
   },
   "outputs": [],
   "source": [
    "def plot_confusion_matrix(cm, classes):\n",
    "\n",
    "    plt.imshow(cm, interpolation='nearest', cmap=plt.cm.Blues)\n",
    "    plt.title('Confusion matrix')\n",
    "    plt.colorbar()\n",
    "    tick_marks = np.arange(len(classes))\n",
    "    plt.xticks(tick_marks, classes, rotation=0)\n",
    "    plt.yticks(tick_marks, classes)\n",
    "\n",
    "    thresh = cm.max() / 2.\n",
    "    for i, j in itertools.product(range(cm.shape[0]), range(cm.shape[1])):\n",
    "        plt.text(j, i, format(cm[i, j], 'd'),\n",
    "                 horizontalalignment=\"center\",\n",
    "                 color=\"white\" if cm[i, j] > thresh else \"black\")\n",
    "\n",
    "    plt.ylabel('True label')\n",
    "    plt.xlabel('Predicted label')\n",
    "    plt.tight_layout()"
   ]
  },
  {
   "cell_type": "markdown",
   "metadata": {
    "papermill": {
     "duration": 0.037147,
     "end_time": "2021-01-22T20:32:24.264014",
     "exception": false,
     "start_time": "2021-01-22T20:32:24.226867",
     "status": "completed"
    },
    "tags": []
   },
   "source": [
    "## Read true labels + Basic EDA"
   ]
  },
  {
   "cell_type": "code",
   "execution_count": 3,
   "metadata": {
    "execution": {
     "iopub.execute_input": "2021-01-22T20:32:24.353492Z",
     "iopub.status.busy": "2021-01-22T20:32:24.351472Z",
     "iopub.status.idle": "2021-01-22T20:32:24.422405Z",
     "shell.execute_reply": "2021-01-22T20:32:24.423545Z"
    },
    "papermill": {
     "duration": 0.116947,
     "end_time": "2021-01-22T20:32:24.423724",
     "exception": false,
     "start_time": "2021-01-22T20:32:24.306777",
     "status": "completed"
    },
    "tags": []
   },
   "outputs": [
    {
     "data": {
      "text/html": [
       "<div>\n",
       "<style scoped>\n",
       "    .dataframe tbody tr th:only-of-type {\n",
       "        vertical-align: middle;\n",
       "    }\n",
       "\n",
       "    .dataframe tbody tr th {\n",
       "        vertical-align: top;\n",
       "    }\n",
       "\n",
       "    .dataframe thead th {\n",
       "        text-align: right;\n",
       "    }\n",
       "</style>\n",
       "<table border=\"1\" class=\"dataframe\">\n",
       "  <thead>\n",
       "    <tr style=\"text-align: right;\">\n",
       "      <th></th>\n",
       "      <th>Image</th>\n",
       "      <th>Class</th>\n",
       "    </tr>\n",
       "  </thead>\n",
       "  <tbody>\n",
       "    <tr>\n",
       "      <th>0</th>\n",
       "      <td>image3476.jpg</td>\n",
       "      <td>Miscellaneous</td>\n",
       "    </tr>\n",
       "    <tr>\n",
       "      <th>1</th>\n",
       "      <td>image5198.jpg</td>\n",
       "      <td>Candle</td>\n",
       "    </tr>\n",
       "    <tr>\n",
       "      <th>2</th>\n",
       "      <td>image4183.jpg</td>\n",
       "      <td>Snowman</td>\n",
       "    </tr>\n",
       "    <tr>\n",
       "      <th>3</th>\n",
       "      <td>image1806.jpg</td>\n",
       "      <td>Miscellaneous</td>\n",
       "    </tr>\n",
       "    <tr>\n",
       "      <th>4</th>\n",
       "      <td>image7831.jpg</td>\n",
       "      <td>Miscellaneous</td>\n",
       "    </tr>\n",
       "  </tbody>\n",
       "</table>\n",
       "</div>"
      ],
      "text/plain": [
       "           Image          Class\n",
       "0  image3476.jpg  Miscellaneous\n",
       "1  image5198.jpg         Candle\n",
       "2  image4183.jpg        Snowman\n",
       "3  image1806.jpg  Miscellaneous\n",
       "4  image7831.jpg  Miscellaneous"
      ]
     },
     "execution_count": 3,
     "metadata": {},
     "output_type": "execute_result"
    }
   ],
   "source": [
    "train_df = pd.read_csv(\"../input/hackereath-holiday-season-deep-learning-contest/dataset/train.csv\")\n",
    "train_df.head()"
   ]
  },
  {
   "cell_type": "code",
   "execution_count": 4,
   "metadata": {
    "execution": {
     "iopub.execute_input": "2021-01-22T20:32:24.506467Z",
     "iopub.status.busy": "2021-01-22T20:32:24.505455Z",
     "iopub.status.idle": "2021-01-22T20:32:24.507878Z",
     "shell.execute_reply": "2021-01-22T20:32:24.507206Z"
    },
    "papermill": {
     "duration": 0.045454,
     "end_time": "2021-01-22T20:32:24.508002",
     "exception": false,
     "start_time": "2021-01-22T20:32:24.462548",
     "status": "completed"
    },
    "tags": []
   },
   "outputs": [],
   "source": [
    "class_map = {\n",
    "    'Airplane': 0,\n",
    "    'Candle': 1,\n",
    "    'Christmas_Tree': 2,\n",
    "    'Jacket': 3,\n",
    "    'Miscellaneous': 4,\n",
    "    'Snowman': 5\n",
    "}"
   ]
  },
  {
   "cell_type": "code",
   "execution_count": 5,
   "metadata": {
    "execution": {
     "iopub.execute_input": "2021-01-22T20:32:24.587884Z",
     "iopub.status.busy": "2021-01-22T20:32:24.587046Z",
     "iopub.status.idle": "2021-01-22T20:32:24.626259Z",
     "shell.execute_reply": "2021-01-22T20:32:24.627329Z"
    },
    "papermill": {
     "duration": 0.084609,
     "end_time": "2021-01-22T20:32:24.627493",
     "exception": false,
     "start_time": "2021-01-22T20:32:24.542884",
     "status": "completed"
    },
    "tags": []
   },
   "outputs": [
    {
     "data": {
      "text/html": [
       "<div>\n",
       "<style scoped>\n",
       "    .dataframe tbody tr th:only-of-type {\n",
       "        vertical-align: middle;\n",
       "    }\n",
       "\n",
       "    .dataframe tbody tr th {\n",
       "        vertical-align: top;\n",
       "    }\n",
       "\n",
       "    .dataframe thead th {\n",
       "        text-align: right;\n",
       "    }\n",
       "</style>\n",
       "<table border=\"1\" class=\"dataframe\">\n",
       "  <thead>\n",
       "    <tr style=\"text-align: right;\">\n",
       "      <th></th>\n",
       "      <th>Class</th>\n",
       "      <th>Class_enc</th>\n",
       "      <th>Count</th>\n",
       "    </tr>\n",
       "  </thead>\n",
       "  <tbody>\n",
       "    <tr>\n",
       "      <th>0</th>\n",
       "      <td>Airplane</td>\n",
       "      <td>0</td>\n",
       "      <td>535</td>\n",
       "    </tr>\n",
       "    <tr>\n",
       "      <th>1</th>\n",
       "      <td>Candle</td>\n",
       "      <td>1</td>\n",
       "      <td>593</td>\n",
       "    </tr>\n",
       "    <tr>\n",
       "      <th>2</th>\n",
       "      <td>Christmas_Tree</td>\n",
       "      <td>2</td>\n",
       "      <td>1539</td>\n",
       "    </tr>\n",
       "    <tr>\n",
       "      <th>3</th>\n",
       "      <td>Jacket</td>\n",
       "      <td>3</td>\n",
       "      <td>640</td>\n",
       "    </tr>\n",
       "    <tr>\n",
       "      <th>4</th>\n",
       "      <td>Miscellaneous</td>\n",
       "      <td>4</td>\n",
       "      <td>2801</td>\n",
       "    </tr>\n",
       "    <tr>\n",
       "      <th>5</th>\n",
       "      <td>Snowman</td>\n",
       "      <td>5</td>\n",
       "      <td>361</td>\n",
       "    </tr>\n",
       "  </tbody>\n",
       "</table>\n",
       "</div>"
      ],
      "text/plain": [
       "            Class Class_enc  Count\n",
       "0        Airplane         0    535\n",
       "1          Candle         1    593\n",
       "2  Christmas_Tree         2   1539\n",
       "3          Jacket         3    640\n",
       "4   Miscellaneous         4   2801\n",
       "5         Snowman         5    361"
      ]
     },
     "execution_count": 5,
     "metadata": {},
     "output_type": "execute_result"
    }
   ],
   "source": [
    "train_df['Class_enc'] = train_df['Class'].map(class_map)\n",
    "train_df['Class_enc'] = train_df['Class_enc'].astype('str')\n",
    "train_df.groupby(['Class','Class_enc']).size().reset_index().rename(columns={0:'Count'})"
   ]
  },
  {
   "cell_type": "code",
   "execution_count": 6,
   "metadata": {
    "execution": {
     "iopub.execute_input": "2021-01-22T20:32:24.707189Z",
     "iopub.status.busy": "2021-01-22T20:32:24.706394Z",
     "iopub.status.idle": "2021-01-22T20:32:25.035804Z",
     "shell.execute_reply": "2021-01-22T20:32:25.033338Z"
    },
    "papermill": {
     "duration": 0.370917,
     "end_time": "2021-01-22T20:32:25.035937",
     "exception": false,
     "start_time": "2021-01-22T20:32:24.665020",
     "status": "completed"
    },
    "tags": []
   },
   "outputs": [
    {
     "data": {
      "image/png": "[encoded data removed]",
      "text/plain": [
       "<Figure size 864x504 with 1 Axes>"
      ]
     },
     "metadata": {
      "needs_background": "light"
     },
     "output_type": "display_data"
    }
   ],
   "source": [
    "plt.figure(figsize=(12,7))\n",
    "sns.set(style=\"darkgrid\")\n",
    "ax = sns.countplot(x=\"Class\", data=train_df)"
   ]
  },
  {
   "cell_type": "code",
   "execution_count": 7,
   "metadata": {
    "execution": {
     "iopub.execute_input": "2021-01-22T20:32:25.095719Z",
     "iopub.status.busy": "2021-01-22T20:32:25.094952Z",
     "iopub.status.idle": "2021-01-22T20:32:25.397367Z",
     "shell.execute_reply": "2021-01-22T20:32:25.397996Z"
    },
    "papermill": {
     "duration": 0.333124,
     "end_time": "2021-01-22T20:32:25.398161",
     "exception": false,
     "start_time": "2021-01-22T20:32:25.065037",
     "status": "completed"
    },
    "tags": []
   },
   "outputs": [
    {
     "name": "stderr",
     "output_type": "stream",
     "text": [
      "100%|██████████| 3489/3489 [00:00<00:00, 813809.74it/s]\n"
     ]
    },
    {
     "data": {
      "text/html": [
       "<div>\n",
       "<style scoped>\n",
       "    .dataframe tbody tr th:only-of-type {\n",
       "        vertical-align: middle;\n",
       "    }\n",
       "\n",
       "    .dataframe tbody tr th {\n",
       "        vertical-align: top;\n",
       "    }\n",
       "\n",
       "    .dataframe thead th {\n",
       "        text-align: right;\n",
       "    }\n",
       "</style>\n",
       "<table border=\"1\" class=\"dataframe\">\n",
       "  <thead>\n",
       "    <tr style=\"text-align: right;\">\n",
       "      <th></th>\n",
       "      <th>Image</th>\n",
       "      <th>Class</th>\n",
       "    </tr>\n",
       "  </thead>\n",
       "  <tbody>\n",
       "    <tr>\n",
       "      <th>0</th>\n",
       "      <td>image7761.jpg</td>\n",
       "      <td>0</td>\n",
       "    </tr>\n",
       "    <tr>\n",
       "      <th>1</th>\n",
       "      <td>image3202.jpg</td>\n",
       "      <td>0</td>\n",
       "    </tr>\n",
       "    <tr>\n",
       "      <th>2</th>\n",
       "      <td>image688.jpg</td>\n",
       "      <td>0</td>\n",
       "    </tr>\n",
       "    <tr>\n",
       "      <th>3</th>\n",
       "      <td>image233.jpg</td>\n",
       "      <td>0</td>\n",
       "    </tr>\n",
       "    <tr>\n",
       "      <th>4</th>\n",
       "      <td>image4332.jpg</td>\n",
       "      <td>0</td>\n",
       "    </tr>\n",
       "  </tbody>\n",
       "</table>\n",
       "</div>"
      ],
      "text/plain": [
       "           Image Class\n",
       "0  image7761.jpg     0\n",
       "1  image3202.jpg     0\n",
       "2   image688.jpg     0\n",
       "3   image233.jpg     0\n",
       "4  image4332.jpg     0"
      ]
     },
     "execution_count": 7,
     "metadata": {},
     "output_type": "execute_result"
    }
   ],
   "source": [
    "test_dir = \"../input/hackereath-holiday-season-deep-learning-contest/dataset/test\"\n",
    "test_files = []\n",
    "\n",
    "for file in tqdm(os.listdir(test_dir)):\n",
    "    test_files.append(file)\n",
    "\n",
    "test_df = pd.DataFrame(test_files, columns=['Image'])\n",
    "test_df['Class'] = '0'\n",
    "test_df.head()"
   ]
  },
  {
   "cell_type": "markdown",
   "metadata": {
    "papermill": {
     "duration": 0.024983,
     "end_time": "2021-01-22T20:32:25.458675",
     "exception": false,
     "start_time": "2021-01-22T20:32:25.433692",
     "status": "completed"
    },
    "tags": []
   },
   "source": [
    "## Calculate class-weights"
   ]
  },
  {
   "cell_type": "code",
   "execution_count": 8,
   "metadata": {
    "execution": {
     "iopub.execute_input": "2021-01-22T20:32:25.519184Z",
     "iopub.status.busy": "2021-01-22T20:32:25.518348Z",
     "iopub.status.idle": "2021-01-22T20:32:25.545105Z",
     "shell.execute_reply": "2021-01-22T20:32:25.544659Z"
    },
    "papermill": {
     "duration": 0.062006,
     "end_time": "2021-01-22T20:32:25.545236",
     "exception": false,
     "start_time": "2021-01-22T20:32:25.483230",
     "status": "completed"
    },
    "tags": []
   },
   "outputs": [
    {
     "data": {
      "text/plain": [
       "{0: 0.6747663551401869,\n",
       " 1: 0.6087689713322091,\n",
       " 2: 0.23456790123456786,\n",
       " 3: 0.5640625,\n",
       " 4: 0.12888254194930382,\n",
       " 5: 1.0}"
      ]
     },
     "execution_count": 8,
     "metadata": {},
     "output_type": "execute_result"
    }
   ],
   "source": [
    "temp_df = train_df.groupby(['Class_enc']).size().reset_index().rename(columns={0:'count'})\n",
    "total_count = np.sum(temp_df['count'].values)\n",
    "temp_df['class%'] = (temp_df['count'] / total_count) * 100\n",
    "lowest_pct = min(temp_df['class%'])\n",
    "temp_df['class_weight'] = lowest_pct / temp_df['class%']\n",
    "class_weight = temp_df[['Class_enc', 'class_weight']].to_dict()['class_weight']\n",
    "class_weight"
   ]
  },
  {
   "cell_type": "markdown",
   "metadata": {
    "papermill": {
     "duration": 0.025974,
     "end_time": "2021-01-22T20:32:25.597865",
     "exception": false,
     "start_time": "2021-01-22T20:32:25.571891",
     "status": "completed"
    },
    "tags": []
   },
   "source": [
    "## Split training data into train/validation datasets"
   ]
  },
  {
   "cell_type": "code",
   "execution_count": 9,
   "metadata": {
    "execution": {
     "iopub.execute_input": "2021-01-22T20:32:25.660563Z",
     "iopub.status.busy": "2021-01-22T20:32:25.659977Z",
     "iopub.status.idle": "2021-01-22T20:32:25.673224Z",
     "shell.execute_reply": "2021-01-22T20:32:25.672760Z"
    },
    "papermill": {
     "duration": 0.050647,
     "end_time": "2021-01-22T20:32:25.673309",
     "exception": false,
     "start_time": "2021-01-22T20:32:25.622662",
     "status": "completed"
    },
    "tags": []
   },
   "outputs": [
    {
     "name": "stdout",
     "output_type": "stream",
     "text": [
      "train_df shape: (5498, 3)\n",
      "validation_df shape: (971, 3)\n"
     ]
    }
   ],
   "source": [
    "sss = StratifiedShuffleSplit(n_splits=1, test_size=0.15, random_state=1)\n",
    "for train_index, validation_index in sss.split(train_df['Image'], train_df['Class_enc']):\n",
    "    train_df, validation_df = train_df.iloc[train_index], train_df.iloc[validation_index]\n",
    "\n",
    "print(\"train_df shape: {}\".format(train_df.shape))\n",
    "print(\"validation_df shape: {}\".format(validation_df.shape))"
   ]
  },
  {
   "cell_type": "code",
   "execution_count": 10,
   "metadata": {
    "execution": {
     "iopub.execute_input": "2021-01-22T20:32:25.762388Z",
     "iopub.status.busy": "2021-01-22T20:32:25.761771Z",
     "iopub.status.idle": "2021-01-22T20:32:25.775621Z",
     "shell.execute_reply": "2021-01-22T20:32:25.775171Z"
    },
    "papermill": {
     "duration": 0.044332,
     "end_time": "2021-01-22T20:32:25.775712",
     "exception": false,
     "start_time": "2021-01-22T20:32:25.731380",
     "status": "completed"
    },
    "tags": []
   },
   "outputs": [
    {
     "data": {
      "text/html": [
       "<div>\n",
       "<style scoped>\n",
       "    .dataframe tbody tr th:only-of-type {\n",
       "        vertical-align: middle;\n",
       "    }\n",
       "\n",
       "    .dataframe tbody tr th {\n",
       "        vertical-align: top;\n",
       "    }\n",
       "\n",
       "    .dataframe thead th {\n",
       "        text-align: right;\n",
       "    }\n",
       "</style>\n",
       "<table border=\"1\" class=\"dataframe\">\n",
       "  <thead>\n",
       "    <tr style=\"text-align: right;\">\n",
       "      <th></th>\n",
       "      <th>Class</th>\n",
       "      <th>Class_enc</th>\n",
       "      <th>Count</th>\n",
       "    </tr>\n",
       "  </thead>\n",
       "  <tbody>\n",
       "    <tr>\n",
       "      <th>0</th>\n",
       "      <td>Airplane</td>\n",
       "      <td>0</td>\n",
       "      <td>455</td>\n",
       "    </tr>\n",
       "    <tr>\n",
       "      <th>1</th>\n",
       "      <td>Candle</td>\n",
       "      <td>1</td>\n",
       "      <td>504</td>\n",
       "    </tr>\n",
       "    <tr>\n",
       "      <th>2</th>\n",
       "      <td>Christmas_Tree</td>\n",
       "      <td>2</td>\n",
       "      <td>1308</td>\n",
       "    </tr>\n",
       "    <tr>\n",
       "      <th>3</th>\n",
       "      <td>Jacket</td>\n",
       "      <td>3</td>\n",
       "      <td>544</td>\n",
       "    </tr>\n",
       "    <tr>\n",
       "      <th>4</th>\n",
       "      <td>Miscellaneous</td>\n",
       "      <td>4</td>\n",
       "      <td>2380</td>\n",
       "    </tr>\n",
       "    <tr>\n",
       "      <th>5</th>\n",
       "      <td>Snowman</td>\n",
       "      <td>5</td>\n",
       "      <td>307</td>\n",
       "    </tr>\n",
       "  </tbody>\n",
       "</table>\n",
       "</div>"
      ],
      "text/plain": [
       "            Class Class_enc  Count\n",
       "0        Airplane         0    455\n",
       "1          Candle         1    504\n",
       "2  Christmas_Tree         2   1308\n",
       "3          Jacket         3    544\n",
       "4   Miscellaneous         4   2380\n",
       "5         Snowman         5    307"
      ]
     },
     "execution_count": 10,
     "metadata": {},
     "output_type": "execute_result"
    }
   ],
   "source": [
    "train_df.groupby(['Class','Class_enc']).size().reset_index().rename(columns={0:'Count'})"
   ]
  },
  {
   "cell_type": "code",
   "execution_count": 11,
   "metadata": {
    "execution": {
     "iopub.execute_input": "2021-01-22T20:32:25.837607Z",
     "iopub.status.busy": "2021-01-22T20:32:25.835397Z",
     "iopub.status.idle": "2021-01-22T20:32:25.847689Z",
     "shell.execute_reply": "2021-01-22T20:32:25.848083Z"
    },
    "papermill": {
     "duration": 0.044709,
     "end_time": "2021-01-22T20:32:25.848206",
     "exception": false,
     "start_time": "2021-01-22T20:32:25.803497",
     "status": "completed"
    },
    "tags": []
   },
   "outputs": [
    {
     "data": {
      "text/html": [
       "<div>\n",
       "<style scoped>\n",
       "    .dataframe tbody tr th:only-of-type {\n",
       "        vertical-align: middle;\n",
       "    }\n",
       "\n",
       "    .dataframe tbody tr th {\n",
       "        vertical-align: top;\n",
       "    }\n",
       "\n",
       "    .dataframe thead th {\n",
       "        text-align: right;\n",
       "    }\n",
       "</style>\n",
       "<table border=\"1\" class=\"dataframe\">\n",
       "  <thead>\n",
       "    <tr style=\"text-align: right;\">\n",
       "      <th></th>\n",
       "      <th>Class</th>\n",
       "      <th>Class_enc</th>\n",
       "      <th>Count</th>\n",
       "    </tr>\n",
       "  </thead>\n",
       "  <tbody>\n",
       "    <tr>\n",
       "      <th>0</th>\n",
       "      <td>Airplane</td>\n",
       "      <td>0</td>\n",
       "      <td>80</td>\n",
       "    </tr>\n",
       "    <tr>\n",
       "      <th>1</th>\n",
       "      <td>Candle</td>\n",
       "      <td>1</td>\n",
       "      <td>89</td>\n",
       "    </tr>\n",
       "    <tr>\n",
       "      <th>2</th>\n",
       "      <td>Christmas_Tree</td>\n",
       "      <td>2</td>\n",
       "      <td>231</td>\n",
       "    </tr>\n",
       "    <tr>\n",
       "      <th>3</th>\n",
       "      <td>Jacket</td>\n",
       "      <td>3</td>\n",
       "      <td>96</td>\n",
       "    </tr>\n",
       "    <tr>\n",
       "      <th>4</th>\n",
       "      <td>Miscellaneous</td>\n",
       "      <td>4</td>\n",
       "      <td>421</td>\n",
       "    </tr>\n",
       "    <tr>\n",
       "      <th>5</th>\n",
       "      <td>Snowman</td>\n",
       "      <td>5</td>\n",
       "      <td>54</td>\n",
       "    </tr>\n",
       "  </tbody>\n",
       "</table>\n",
       "</div>"
      ],
      "text/plain": [
       "            Class Class_enc  Count\n",
       "0        Airplane         0     80\n",
       "1          Candle         1     89\n",
       "2  Christmas_Tree         2    231\n",
       "3          Jacket         3     96\n",
       "4   Miscellaneous         4    421\n",
       "5         Snowman         5     54"
      ]
     },
     "execution_count": 11,
     "metadata": {},
     "output_type": "execute_result"
    }
   ],
   "source": [
    "validation_df.groupby(['Class','Class_enc']).size().reset_index().rename(columns={0:'Count'})"
   ]
  },
  {
   "cell_type": "markdown",
   "metadata": {
    "papermill": {
     "duration": 0.026105,
     "end_time": "2021-01-22T20:32:25.901031",
     "exception": false,
     "start_time": "2021-01-22T20:32:25.874926",
     "status": "completed"
    },
    "tags": []
   },
   "source": [
    "## Model Hyperparameters"
   ]
  },
  {
   "cell_type": "code",
   "execution_count": 12,
   "metadata": {
    "execution": {
     "iopub.execute_input": "2021-01-22T20:32:25.959188Z",
     "iopub.status.busy": "2021-01-22T20:32:25.958528Z",
     "iopub.status.idle": "2021-01-22T20:32:25.961075Z",
     "shell.execute_reply": "2021-01-22T20:32:25.961636Z"
    },
    "papermill": {
     "duration": 0.034759,
     "end_time": "2021-01-22T20:32:25.961752",
     "exception": false,
     "start_time": "2021-01-22T20:32:25.926993",
     "status": "completed"
    },
    "tags": []
   },
   "outputs": [],
   "source": [
    "dataset_dir = \"../input/hackereath-holiday-season-deep-learning-contest/dataset/\"\n",
    "mini_batch_size = 128\n",
    "steps_per_epoch = int(np.ceil(train_df.shape[0] / float(mini_batch_size)))\n",
    "validation_steps = int(np.ceil(validation_df.shape[0] / float(mini_batch_size)))\n",
    "test_steps = int(np.ceil(test_df.shape[0] / float(mini_batch_size)))\n",
    "image_dim = (240, 240, 3)"
   ]
  },
  {
   "cell_type": "markdown",
   "metadata": {
    "papermill": {
     "duration": 0.026695,
     "end_time": "2021-01-22T20:32:26.014759",
     "exception": false,
     "start_time": "2021-01-22T20:32:25.988064",
     "status": "completed"
    },
    "tags": []
   },
   "source": [
    "## Configure image generators"
   ]
  },
  {
   "cell_type": "code",
   "execution_count": 13,
   "metadata": {
    "execution": {
     "iopub.execute_input": "2021-01-22T20:32:26.094300Z",
     "iopub.status.busy": "2021-01-22T20:32:26.093674Z",
     "iopub.status.idle": "2021-01-22T20:32:42.222799Z",
     "shell.execute_reply": "2021-01-22T20:32:42.219187Z"
    },
    "papermill": {
     "duration": 16.182734,
     "end_time": "2021-01-22T20:32:42.223531",
     "exception": false,
     "start_time": "2021-01-22T20:32:26.040797",
     "status": "completed"
    },
    "tags": []
   },
   "outputs": [
    {
     "name": "stdout",
     "output_type": "stream",
     "text": [
      "Found 5498 validated image filenames belonging to 6 classes.\n",
      "Found 971 validated image filenames belonging to 6 classes.\n",
      "Found 3489 validated image filenames belonging to 1 classes.\n"
     ]
    }
   ],
   "source": [
    "train_datagen = ImageDataGenerator(rotation_range = 45,\n",
    "                                   zoom_range = 0.2,\n",
    "                                   horizontal_flip = True,\n",
    "                                   vertical_flip = True,\n",
    "                                   fill_mode = 'nearest',\n",
    "                                   shear_range = 0.1,\n",
    "                                   height_shift_range = 0.1,\n",
    "                                   width_shift_range = 0.1)\n",
    "\n",
    "train_generator = train_datagen.flow_from_dataframe(train_df,\n",
    "                                                    directory = os.path.join(dataset_dir,\"train\"),\n",
    "                                                    x_col = \"Image\", \n",
    "                                                    y_col = \"Class_enc\",\n",
    "                                                    target_size = (image_dim[0], image_dim[1]),\n",
    "                                                    batch_size = mini_batch_size,\n",
    "                                                    class_mode = \"categorical\",\n",
    "                                                    interpolation=\"bicubic\")\n",
    "\n",
    "validation_datagen = ImageDataGenerator()\n",
    "\n",
    "validation_generator = validation_datagen.flow_from_dataframe(validation_df,\n",
    "                                                              directory = os.path.join(dataset_dir,\"train\"),\n",
    "                                                              x_col = \"Image\",\n",
    "                                                              y_col = \"Class_enc\",\n",
    "                                                              shuffle=False,\n",
    "                                                              target_size = (image_dim[0], image_dim[1]),\n",
    "                                                              batch_size = mini_batch_size,\n",
    "                                                              class_mode = \"categorical\",\n",
    "                                                              interpolation=\"bicubic\")\n",
    "\n",
    "test_datagen = ImageDataGenerator()\n",
    "\n",
    "test_generator = test_datagen.flow_from_dataframe(test_df,\n",
    "                                                  directory = os.path.join(dataset_dir,\"test\"),\n",
    "                                                  x_col = \"Image\",\n",
    "                                                  y_col = \"Class\",\n",
    "                                                  shuffle=False,\n",
    "                                                  target_size = (image_dim[0], image_dim[1]),\n",
    "                                                  batch_size = mini_batch_size,\n",
    "                                                  class_mode = \"categorical\",\n",
    "                                                  interpolation=\"bicubic\")"
   ]
  },
  {
   "cell_type": "markdown",
   "metadata": {
    "papermill": {
     "duration": 0.025931,
     "end_time": "2021-01-22T20:32:42.276934",
     "exception": false,
     "start_time": "2021-01-22T20:32:42.251003",
     "status": "completed"
    },
    "tags": []
   },
   "source": [
    "## Build and validate the model"
   ]
  },
  {
   "cell_type": "code",
   "execution_count": 14,
   "metadata": {
    "execution": {
     "iopub.execute_input": "2021-01-22T20:32:42.333013Z",
     "iopub.status.busy": "2021-01-22T20:32:42.332179Z",
     "iopub.status.idle": "2021-01-22T20:32:42.361018Z",
     "shell.execute_reply": "2021-01-22T20:32:42.360616Z"
    },
    "papermill": {
     "duration": 0.057764,
     "end_time": "2021-01-22T20:32:42.361104",
     "exception": false,
     "start_time": "2021-01-22T20:32:42.303340",
     "status": "completed"
    },
    "tags": []
   },
   "outputs": [],
   "source": [
    "def head(x_input, input_shape=2304, ratio=8):\n",
    "    \n",
    "    #=======================================================\n",
    "    #                    Channel Attention\n",
    "    #=======================================================\n",
    "    gapavg = GlobalAveragePooling2D()(x_input)\n",
    "    gapavg = Reshape((1, 1, gapavg.shape[1]))(gapavg)\n",
    "    gapavg = Conv2D(input_shape//ratio, \n",
    "                    kernel_size=1, strides=1, use_bias=True, \n",
    "                    padding='same', kernel_regularizer=l2(0.001), \n",
    "                    kernel_initializer='he_normal')(gapavg)\n",
    "    gapavg = BatchNormalization()(gapavg)\n",
    "    gapavg = Activation('relu')(gapavg)\n",
    "    gapavg_out = Conv2D(input_shape, kernel_size=1, \n",
    "                        strides=1, padding='same', use_bias=True, \n",
    "                        kernel_regularizer=l2(0.001), \n",
    "                        kernel_initializer='he_normal')(gapavg)\n",
    "    gapavg_out = BatchNormalization()(gapavg_out)\n",
    "    gapavg_out = Activation('relu')(gapavg_out)\n",
    "\n",
    "\n",
    "    gmpmax = GlobalMaxPooling2D()(x_input)\n",
    "    gmpmax = Reshape((1, 1, gmpmax.shape[1]))(gmpmax)\n",
    "    gmpmax = Conv2D(input_shape//ratio, \n",
    "                    kernel_size=1, strides=1, use_bias=True, \n",
    "                    padding='same', kernel_regularizer=l2(0.001), \n",
    "                    kernel_initializer='he_normal')(gmpmax)\n",
    "    gmpmax = BatchNormalization()(gmpmax)\n",
    "    gmpmax = Activation('relu')(gmpmax)\n",
    "    gmpmax_out = Conv2D(input_shape, kernel_size=1, \n",
    "                        strides=1, padding='same', use_bias=True, \n",
    "                        kernel_regularizer=l2(0.001), \n",
    "                        kernel_initializer='he_normal')(gmpmax)\n",
    "    gmpmax_out = BatchNormalization()(gmpmax_out)\n",
    "    gmpmax_out = Activation('relu')(gmpmax_out)\n",
    "    canx = x_input * tf.math.sigmoid(gapavg_out + gmpmax_out)\n",
    "\n",
    "\n",
    "    #=======================================================\n",
    "    #                    Spatial Attention\n",
    "    #=======================================================\n",
    "    avg_out = tf.reduce_mean(canx, axis=3)\n",
    "    max_out = tf.reduce_max(canx,  axis=3)\n",
    "    x = tf.stack([avg_out, max_out], axis=3)\n",
    "    \n",
    "    x = Conv2D(filters=64, kernel_size=3, strides=1, \n",
    "               padding='same', use_bias=False, \n",
    "               kernel_regularizer=l2(0.001), \n",
    "               kernel_initializer='he_normal')(x)\n",
    "    x = BatchNormalization()(x)\n",
    "    x = Activation('relu')(x)\n",
    "\n",
    "    x = Conv2D(filters=32, kernel_size=3, strides=1, \n",
    "               padding='same', use_bias=False, \n",
    "               kernel_regularizer=l2(0.001), \n",
    "               kernel_initializer='he_normal')(x)\n",
    "    x = BatchNormalization()(x)\n",
    "    x = Activation('relu')(x)\n",
    "\n",
    "    x = Conv2D(filters=16, kernel_size=3, strides=1, \n",
    "               padding='same', use_bias=False, \n",
    "               kernel_regularizer=l2(0.001), \n",
    "               kernel_initializer='he_normal')(x)\n",
    "    x = BatchNormalization()(x)\n",
    "    x = Activation('relu')(x)\n",
    "\n",
    "    x = Conv2D(filters=1, kernel_size=3, strides=1, \n",
    "               padding='same', use_bias=False, \n",
    "               kernel_regularizer=l2(0.001), \n",
    "               kernel_initializer='he_normal')(x)\n",
    "    x = BatchNormalization()(x)\n",
    "    x = Activation('sigmoid')(x)\n",
    "    spnx1 = canx * x\n",
    "    spnx2 = x\n",
    "    \n",
    "    gapx   = GlobalAveragePooling2D()(spnx1)\n",
    "    wvgx   = GlobalAveragePooling2D()(spnx2)\n",
    "    gapavg = Average()([gapx, wvgx])\n",
    "    x = BatchNormalization()(gapavg)\n",
    "\n",
    "\n",
    "    #=======================================================\n",
    "    #                    Tail of the model\n",
    "    #=======================================================\n",
    "\n",
    "    x = Dense(units=2048, kernel_regularizer=l2(0.0001), \n",
    "              kernel_initializer='he_uniform')(x)\n",
    "    x = BatchNormalization()(x)\n",
    "    x = Activation('relu')(x)\n",
    "    x = Dropout(rate=0.5)(x)\n",
    "    \n",
    "    x = Dense(units=1024, kernel_regularizer=l2(0.0001), \n",
    "              kernel_initializer='he_uniform')(x)\n",
    "    x = BatchNormalization()(x)\n",
    "    x = Activation('relu')(x)\n",
    "    x = Dropout(rate=0.5)(x)\n",
    "    \n",
    "    x = Dense(units=1024, kernel_regularizer=l2(0.0001), \n",
    "              kernel_initializer='he_uniform')(x)\n",
    "    x = BatchNormalization()(x)\n",
    "    x = Activation('relu')(x)\n",
    "    x = Dropout(rate=0.5)(x)\n",
    "    \n",
    "    x = Dense(units=512, kernel_regularizer=l2(0.0001), \n",
    "              kernel_initializer='he_uniform')(x)\n",
    "    x = BatchNormalization()(x)\n",
    "    x = Activation('relu')(x)\n",
    "    x = Dropout(rate=0.5)(x)\n",
    "    \n",
    "    x = Dense(units=6, activation='softmax', \n",
    "              kernel_initializer='he_uniform')(x)\n",
    "\n",
    "    return x"
   ]
  },
  {
   "cell_type": "code",
   "execution_count": 15,
   "metadata": {
    "execution": {
     "iopub.execute_input": "2021-01-22T20:32:42.423362Z",
     "iopub.status.busy": "2021-01-22T20:32:42.422824Z",
     "iopub.status.idle": "2021-01-22T20:33:07.112263Z",
     "shell.execute_reply": "2021-01-22T20:33:07.111618Z"
    },
    "papermill": {
     "duration": 24.725091,
     "end_time": "2021-01-22T20:33:07.112391",
     "exception": false,
     "start_time": "2021-01-22T20:32:42.387300",
     "status": "completed"
    },
    "tags": []
   },
   "outputs": [
    {
     "name": "stdout",
     "output_type": "stream",
     "text": [
      "Downloading data from https://storage.googleapis.com/keras-applications/efficientnetb6_notop.h5\n",
      "165240832/165234480 [==============================] - 1s 0us/step\n"
     ]
    }
   ],
   "source": [
    "# Build the model\n",
    "base_model = EfficientNetB6(weights='imagenet', \n",
    "                            input_tensor=Input(shape=image_dim), \n",
    "                            include_top=False)\n",
    "\n",
    "model = Model(base_model.input, head(base_model.output),\n",
    "              name='HackerEarth_Holiday_Season_Model')\n",
    "\n",
    "# Load the pre-trained model\n",
    "pretrain_model = load_model('../input/holiday-season-enetb6-mav1/hackerearth_holiday_season_model.h5')\n",
    "\n",
    "# Transfer weights from pre-trained model\n",
    "model.set_weights(pretrain_model.get_weights())\n",
    "\n",
    "# Freeze weights for base model\n",
    "base_model.trainable = False\n",
    "for layer in base_model.layers[-33:]:\n",
    "    if not isinstance(layer, BatchNormalization):\n",
    "        layer.trainable = True\n",
    "\n",
    "# Compile the final model\n",
    "model.compile(loss='categorical_crossentropy', \n",
    "              metrics=[F1Score(num_classes=6, average='weighted'), \n",
    "                       'categorical_accuracy'],\n",
    "              optimizer=Lookahead(AdamW(lr=1e-2, \n",
    "                                        weight_decay=1e-5, \n",
    "                                        clipvalue=700), \n",
    "                                  sync_period=10))\n",
    "\n",
    "early = EarlyStopping(monitor=\"val_loss\", mode=\"min\", patience=10, \n",
    "                      restore_best_weights=True, verbose=1)\n",
    "\n",
    "reduce_lr = ReduceLROnPlateau(monitor=\"val_loss\", factor=0.1, \n",
    "                              min_lr=1e-6, patience=7, \n",
    "                              verbose=1, mode='min')\n",
    "\n",
    "chk_point = ModelCheckpoint('hackerearth_holiday_season_model.h5', \n",
    "                            monitor='val_loss', verbose=1, \n",
    "                            save_best_only=True, mode='min')"
   ]
  },
  {
   "cell_type": "code",
   "execution_count": 16,
   "metadata": {
    "execution": {
     "iopub.execute_input": "2021-01-22T20:33:07.185240Z",
     "iopub.status.busy": "2021-01-22T20:33:07.184658Z",
     "iopub.status.idle": "2021-01-22T20:33:07.188405Z",
     "shell.execute_reply": "2021-01-22T20:33:07.188804Z"
    },
    "papermill": {
     "duration": 0.041679,
     "end_time": "2021-01-22T20:33:07.188912",
     "exception": false,
     "start_time": "2021-01-22T20:33:07.147233",
     "status": "completed"
    },
    "tags": []
   },
   "outputs": [],
   "source": [
    "# plot_model(model, to_file='HE_Holiday_Season_Model.png', show_shapes=True, show_layer_names=True)"
   ]
  },
  {
   "cell_type": "code",
   "execution_count": 17,
   "metadata": {
    "execution": {
     "iopub.execute_input": "2021-01-22T20:33:07.296409Z",
     "iopub.status.busy": "2021-01-22T20:33:07.294772Z",
     "iopub.status.idle": "2021-01-22T21:34:09.236759Z",
     "shell.execute_reply": "2021-01-22T21:34:09.235924Z"
    },
    "papermill": {
     "duration": 3662.0133,
     "end_time": "2021-01-22T21:34:09.236904",
     "exception": false,
     "start_time": "2021-01-22T20:33:07.223604",
     "status": "completed"
    },
    "tags": []
   },
   "outputs": [
    {
     "name": "stdout",
     "output_type": "stream",
     "text": [
      "Epoch 1/275\n",
      "43/43 [==============================] - ETA: 0s - loss: 0.4898 - f1_score: 0.7416 - categorical_accuracy: 0.7403\n",
      "Epoch 00001: val_loss improved from inf to 1.63463, saving model to hackerearth_holiday_season_model.h5\n",
      "43/43 [==============================] - 98s 2s/step - loss: 0.4898 - f1_score: 0.7416 - categorical_accuracy: 0.7403 - val_loss: 1.6346 - val_f1_score: 0.7572 - val_categorical_accuracy: 0.7539\n",
      "Epoch 2/275\n",
      "43/43 [==============================] - ETA: 0s - loss: 0.4190 - f1_score: 0.7836 - categorical_accuracy: 0.7823\n",
      "Epoch 00002: val_loss improved from 1.63463 to 1.27459, saving model to hackerearth_holiday_season_model.h5\n",
      "43/43 [==============================] - 92s 2s/step - loss: 0.4190 - f1_score: 0.7836 - categorical_accuracy: 0.7823 - val_loss: 1.2746 - val_f1_score: 0.8179 - val_categorical_accuracy: 0.8136\n",
      "Epoch 3/275\n",
      "43/43 [==============================] - ETA: 0s - loss: 0.4670 - f1_score: 0.8014 - categorical_accuracy: 0.8005\n",
      "Epoch 00003: val_loss improved from 1.27459 to 1.00912, saving model to hackerearth_holiday_season_model.h5\n",
      "43/43 [==============================] - 89s 2s/step - loss: 0.4670 - f1_score: 0.8014 - categorical_accuracy: 0.8005 - val_loss: 1.0091 - val_f1_score: 0.8027 - val_categorical_accuracy: 0.7981\n",
      "Epoch 4/275\n",
      "43/43 [==============================] - ETA: 0s - loss: 0.4939 - f1_score: 0.7778 - categorical_accuracy: 0.7761\n",
      "Epoch 00004: val_loss improved from 1.00912 to 0.96887, saving model to hackerearth_holiday_season_model.h5\n",
      "43/43 [==============================] - 93s 2s/step - loss: 0.4939 - f1_score: 0.7778 - categorical_accuracy: 0.7761 - val_loss: 0.9689 - val_f1_score: 0.7682 - val_categorical_accuracy: 0.7631\n",
      "Epoch 5/275\n",
      "43/43 [==============================] - ETA: 0s - loss: 0.4648 - f1_score: 0.7907 - categorical_accuracy: 0.7887\n",
      "Epoch 00005: val_loss improved from 0.96887 to 0.68298, saving model to hackerearth_holiday_season_model.h5\n",
      "43/43 [==============================] - 94s 2s/step - loss: 0.4648 - f1_score: 0.7907 - categorical_accuracy: 0.7887 - val_loss: 0.6830 - val_f1_score: 0.8809 - val_categorical_accuracy: 0.8805\n",
      "Epoch 6/275\n",
      "43/43 [==============================] - ETA: 0s - loss: 0.4851 - f1_score: 0.7895 - categorical_accuracy: 0.7885\n",
      "Epoch 00006: val_loss did not improve from 0.68298\n",
      "43/43 [==============================] - 81s 2s/step - loss: 0.4851 - f1_score: 0.7895 - categorical_accuracy: 0.7885 - val_loss: 0.7243 - val_f1_score: 0.8761 - val_categorical_accuracy: 0.8754\n",
      "Epoch 7/275\n",
      "43/43 [==============================] - ETA: 0s - loss: 0.4536 - f1_score: 0.8020 - categorical_accuracy: 0.7996\n",
      "Epoch 00007: val_loss improved from 0.68298 to 0.56084, saving model to hackerearth_holiday_season_model.h5\n",
      "43/43 [==============================] - 90s 2s/step - loss: 0.4536 - f1_score: 0.8020 - categorical_accuracy: 0.7996 - val_loss: 0.5608 - val_f1_score: 0.8968 - val_categorical_accuracy: 0.8960\n",
      "Epoch 8/275\n",
      "43/43 [==============================] - ETA: 0s - loss: 0.4366 - f1_score: 0.8036 - categorical_accuracy: 0.8010\n",
      "Epoch 00008: val_loss did not improve from 0.56084\n",
      "43/43 [==============================] - 84s 2s/step - loss: 0.4366 - f1_score: 0.8036 - categorical_accuracy: 0.8010 - val_loss: 2.2090 - val_f1_score: 0.8542 - val_categorical_accuracy: 0.8507\n",
      "Epoch 9/275\n",
      "43/43 [==============================] - ETA: 0s - loss: 0.4585 - f1_score: 0.8001 - categorical_accuracy: 0.7967\n",
      "Epoch 00009: val_loss did not improve from 0.56084\n",
      "43/43 [==============================] - 80s 2s/step - loss: 0.4585 - f1_score: 0.8001 - categorical_accuracy: 0.7967 - val_loss: 0.7061 - val_f1_score: 0.8906 - val_categorical_accuracy: 0.8888\n",
      "Epoch 10/275\n",
      "43/43 [==============================] - ETA: 0s - loss: 0.4088 - f1_score: 0.7955 - categorical_accuracy: 0.7943\n",
      "Epoch 00010: val_loss did not improve from 0.56084\n",
      "43/43 [==============================] - 80s 2s/step - loss: 0.4088 - f1_score: 0.7955 - categorical_accuracy: 0.7943 - val_loss: 0.6301 - val_f1_score: 0.8737 - val_categorical_accuracy: 0.8723\n",
      "Epoch 11/275\n",
      "43/43 [==============================] - ETA: 0s - loss: 0.4477 - f1_score: 0.7981 - categorical_accuracy: 0.7957\n",
      "Epoch 00011: val_loss did not improve from 0.56084\n",
      "43/43 [==============================] - 80s 2s/step - loss: 0.4477 - f1_score: 0.7981 - categorical_accuracy: 0.7957 - val_loss: 0.7093 - val_f1_score: 0.8575 - val_categorical_accuracy: 0.8558\n",
      "Epoch 12/275\n",
      "43/43 [==============================] - ETA: 0s - loss: 0.4384 - f1_score: 0.8142 - categorical_accuracy: 0.8117\n",
      "Epoch 00012: val_loss did not improve from 0.56084\n",
      "43/43 [==============================] - 81s 2s/step - loss: 0.4384 - f1_score: 0.8142 - categorical_accuracy: 0.8117 - val_loss: 0.9248 - val_f1_score: 0.8045 - val_categorical_accuracy: 0.7951\n",
      "Epoch 13/275\n",
      "43/43 [==============================] - ETA: 0s - loss: 0.4024 - f1_score: 0.8052 - categorical_accuracy: 0.8039\n",
      "Epoch 00013: val_loss did not improve from 0.56084\n",
      "43/43 [==============================] - 80s 2s/step - loss: 0.4024 - f1_score: 0.8052 - categorical_accuracy: 0.8039 - val_loss: 0.8985 - val_f1_score: 0.8343 - val_categorical_accuracy: 0.8321\n",
      "Epoch 14/275\n",
      "43/43 [==============================] - ETA: 0s - loss: 0.3926 - f1_score: 0.7943 - categorical_accuracy: 0.7927\n",
      "Epoch 00014: ReduceLROnPlateau reducing learning rate to 0.0009999999776482583.\n",
      "\n",
      "Epoch 00014: val_loss did not improve from 0.56084\n",
      "43/43 [==============================] - 80s 2s/step - loss: 0.3926 - f1_score: 0.7943 - categorical_accuracy: 0.7927 - val_loss: 0.6848 - val_f1_score: 0.8605 - val_categorical_accuracy: 0.8589\n",
      "Epoch 15/275\n",
      "43/43 [==============================] - ETA: 0s - loss: 0.3113 - f1_score: 0.8219 - categorical_accuracy: 0.8216\n",
      "Epoch 00015: val_loss improved from 0.56084 to 0.54934, saving model to hackerearth_holiday_season_model.h5\n",
      "43/43 [==============================] - 89s 2s/step - loss: 0.3113 - f1_score: 0.8219 - categorical_accuracy: 0.8216 - val_loss: 0.5493 - val_f1_score: 0.8848 - val_categorical_accuracy: 0.8836\n",
      "Epoch 16/275\n",
      "43/43 [==============================] - ETA: 0s - loss: 0.2668 - f1_score: 0.8358 - categorical_accuracy: 0.8343\n",
      "Epoch 00016: val_loss improved from 0.54934 to 0.50120, saving model to hackerearth_holiday_season_model.h5\n",
      "43/43 [==============================] - 89s 2s/step - loss: 0.2668 - f1_score: 0.8358 - categorical_accuracy: 0.8343 - val_loss: 0.5012 - val_f1_score: 0.8975 - val_categorical_accuracy: 0.8970\n",
      "Epoch 17/275\n",
      "43/43 [==============================] - ETA: 0s - loss: 0.2402 - f1_score: 0.8311 - categorical_accuracy: 0.8298\n",
      "Epoch 00017: val_loss improved from 0.50120 to 0.47997, saving model to hackerearth_holiday_season_model.h5\n",
      "43/43 [==============================] - 89s 2s/step - loss: 0.2402 - f1_score: 0.8311 - categorical_accuracy: 0.8298 - val_loss: 0.4800 - val_f1_score: 0.8903 - val_categorical_accuracy: 0.8898\n",
      "Epoch 18/275\n",
      "43/43 [==============================] - ETA: 0s - loss: 0.2167 - f1_score: 0.8547 - categorical_accuracy: 0.8536\n",
      "Epoch 00018: val_loss improved from 0.47997 to 0.45550, saving model to hackerearth_holiday_season_model.h5\n",
      "43/43 [==============================] - 88s 2s/step - loss: 0.2167 - f1_score: 0.8547 - categorical_accuracy: 0.8536 - val_loss: 0.4555 - val_f1_score: 0.8942 - val_categorical_accuracy: 0.8939\n",
      "Epoch 19/275\n",
      "43/43 [==============================] - ETA: 0s - loss: 0.2103 - f1_score: 0.8471 - categorical_accuracy: 0.8461\n",
      "Epoch 00019: val_loss improved from 0.45550 to 0.43354, saving model to hackerearth_holiday_season_model.h5\n",
      "43/43 [==============================] - 88s 2s/step - loss: 0.2103 - f1_score: 0.8471 - categorical_accuracy: 0.8461 - val_loss: 0.4335 - val_f1_score: 0.8905 - val_categorical_accuracy: 0.8898\n",
      "Epoch 20/275\n",
      "43/43 [==============================] - ETA: 0s - loss: 0.1998 - f1_score: 0.8509 - categorical_accuracy: 0.8496\n",
      "Epoch 00020: val_loss improved from 0.43354 to 0.41921, saving model to hackerearth_holiday_season_model.h5\n",
      "43/43 [==============================] - 88s 2s/step - loss: 0.1998 - f1_score: 0.8509 - categorical_accuracy: 0.8496 - val_loss: 0.4192 - val_f1_score: 0.8905 - val_categorical_accuracy: 0.8898\n",
      "Epoch 21/275\n",
      "43/43 [==============================] - ETA: 0s - loss: 0.1902 - f1_score: 0.8474 - categorical_accuracy: 0.8467\n",
      "Epoch 00021: val_loss improved from 0.41921 to 0.41226, saving model to hackerearth_holiday_season_model.h5\n",
      "43/43 [==============================] - 87s 2s/step - loss: 0.1902 - f1_score: 0.8474 - categorical_accuracy: 0.8467 - val_loss: 0.4123 - val_f1_score: 0.8985 - val_categorical_accuracy: 0.8980\n",
      "Epoch 22/275\n",
      "43/43 [==============================] - ETA: 0s - loss: 0.1750 - f1_score: 0.8629 - categorical_accuracy: 0.8621\n",
      "Epoch 00022: val_loss did not improve from 0.41226\n",
      "43/43 [==============================] - 80s 2s/step - loss: 0.1750 - f1_score: 0.8629 - categorical_accuracy: 0.8621 - val_loss: 0.4134 - val_f1_score: 0.8936 - val_categorical_accuracy: 0.8929\n",
      "Epoch 23/275\n",
      "43/43 [==============================] - ETA: 0s - loss: 0.1674 - f1_score: 0.8562 - categorical_accuracy: 0.8561\n",
      "Epoch 00023: val_loss improved from 0.41226 to 0.38985, saving model to hackerearth_holiday_season_model.h5\n",
      "43/43 [==============================] - 88s 2s/step - loss: 0.1674 - f1_score: 0.8562 - categorical_accuracy: 0.8561 - val_loss: 0.3898 - val_f1_score: 0.9044 - val_categorical_accuracy: 0.9042\n",
      "Epoch 24/275\n",
      "43/43 [==============================] - ETA: 0s - loss: 0.1648 - f1_score: 0.8578 - categorical_accuracy: 0.8569\n",
      "Epoch 00024: val_loss improved from 0.38985 to 0.38400, saving model to hackerearth_holiday_season_model.h5\n",
      "43/43 [==============================] - 90s 2s/step - loss: 0.1648 - f1_score: 0.8578 - categorical_accuracy: 0.8569 - val_loss: 0.3840 - val_f1_score: 0.8933 - val_categorical_accuracy: 0.8929\n",
      "Epoch 25/275\n",
      "43/43 [==============================] - ETA: 0s - loss: 0.1545 - f1_score: 0.8639 - categorical_accuracy: 0.8634\n",
      "Epoch 00025: val_loss improved from 0.38400 to 0.38095, saving model to hackerearth_holiday_season_model.h5\n",
      "43/43 [==============================] - 89s 2s/step - loss: 0.1545 - f1_score: 0.8639 - categorical_accuracy: 0.8634 - val_loss: 0.3809 - val_f1_score: 0.8949 - val_categorical_accuracy: 0.8939\n",
      "Epoch 26/275\n",
      "43/43 [==============================] - ETA: 0s - loss: 0.1527 - f1_score: 0.8598 - categorical_accuracy: 0.8596\n",
      "Epoch 00026: val_loss did not improve from 0.38095\n",
      "43/43 [==============================] - 78s 2s/step - loss: 0.1527 - f1_score: 0.8598 - categorical_accuracy: 0.8596 - val_loss: 0.3895 - val_f1_score: 0.8929 - val_categorical_accuracy: 0.8919\n",
      "Epoch 27/275\n",
      "43/43 [==============================] - ETA: 0s - loss: 0.1503 - f1_score: 0.8594 - categorical_accuracy: 0.8585\n",
      "Epoch 00027: val_loss improved from 0.38095 to 0.36808, saving model to hackerearth_holiday_season_model.h5\n",
      "43/43 [==============================] - 89s 2s/step - loss: 0.1503 - f1_score: 0.8594 - categorical_accuracy: 0.8585 - val_loss: 0.3681 - val_f1_score: 0.8928 - val_categorical_accuracy: 0.8919\n",
      "Epoch 28/275\n",
      "43/43 [==============================] - ETA: 0s - loss: 0.1473 - f1_score: 0.8695 - categorical_accuracy: 0.8685\n",
      "Epoch 00028: val_loss improved from 0.36808 to 0.35408, saving model to hackerearth_holiday_season_model.h5\n",
      "43/43 [==============================] - 89s 2s/step - loss: 0.1473 - f1_score: 0.8695 - categorical_accuracy: 0.8685 - val_loss: 0.3541 - val_f1_score: 0.8976 - val_categorical_accuracy: 0.8970\n",
      "Epoch 29/275\n",
      "43/43 [==============================] - ETA: 0s - loss: 0.1458 - f1_score: 0.8552 - categorical_accuracy: 0.8545\n",
      "Epoch 00029: val_loss did not improve from 0.35408\n",
      "43/43 [==============================] - 78s 2s/step - loss: 0.1458 - f1_score: 0.8552 - categorical_accuracy: 0.8545 - val_loss: 0.3620 - val_f1_score: 0.9007 - val_categorical_accuracy: 0.9001\n",
      "Epoch 30/275\n",
      "43/43 [==============================] - ETA: 0s - loss: 0.1442 - f1_score: 0.8630 - categorical_accuracy: 0.8627\n",
      "Epoch 00030: val_loss did not improve from 0.35408\n",
      "43/43 [==============================] - 81s 2s/step - loss: 0.1442 - f1_score: 0.8630 - categorical_accuracy: 0.8627 - val_loss: 0.3692 - val_f1_score: 0.8918 - val_categorical_accuracy: 0.8908\n",
      "Epoch 31/275\n",
      "43/43 [==============================] - ETA: 0s - loss: 0.1350 - f1_score: 0.8736 - categorical_accuracy: 0.8729\n",
      "Epoch 00031: val_loss did not improve from 0.35408\n",
      "43/43 [==============================] - 80s 2s/step - loss: 0.1350 - f1_score: 0.8736 - categorical_accuracy: 0.8729 - val_loss: 0.3875 - val_f1_score: 0.8823 - val_categorical_accuracy: 0.8795\n",
      "Epoch 32/275\n",
      "43/43 [==============================] - ETA: 0s - loss: 0.1446 - f1_score: 0.8616 - categorical_accuracy: 0.8610\n",
      "Epoch 00032: val_loss did not improve from 0.35408\n",
      "43/43 [==============================] - 80s 2s/step - loss: 0.1446 - f1_score: 0.8616 - categorical_accuracy: 0.8610 - val_loss: 0.3880 - val_f1_score: 0.8823 - val_categorical_accuracy: 0.8795\n",
      "Epoch 33/275\n",
      "43/43 [==============================] - ETA: 0s - loss: 0.1420 - f1_score: 0.8625 - categorical_accuracy: 0.8618\n",
      "Epoch 00033: val_loss did not improve from 0.35408\n",
      "43/43 [==============================] - 79s 2s/step - loss: 0.1420 - f1_score: 0.8625 - categorical_accuracy: 0.8618 - val_loss: 0.3803 - val_f1_score: 0.8844 - val_categorical_accuracy: 0.8826\n",
      "Epoch 34/275\n",
      "43/43 [==============================] - ETA: 0s - loss: 0.1365 - f1_score: 0.8705 - categorical_accuracy: 0.8694\n",
      "Epoch 00034: val_loss did not improve from 0.35408\n",
      "43/43 [==============================] - 80s 2s/step - loss: 0.1365 - f1_score: 0.8705 - categorical_accuracy: 0.8694 - val_loss: 0.3724 - val_f1_score: 0.8825 - val_categorical_accuracy: 0.8805\n",
      "Epoch 35/275\n",
      "43/43 [==============================] - ETA: 0s - loss: 0.1385 - f1_score: 0.8647 - categorical_accuracy: 0.8638\n",
      "Epoch 00035: ReduceLROnPlateau reducing learning rate to 9.999999310821295e-05.\n",
      "\n",
      "Epoch 00035: val_loss did not improve from 0.35408\n",
      "43/43 [==============================] - 79s 2s/step - loss: 0.1385 - f1_score: 0.8647 - categorical_accuracy: 0.8638 - val_loss: 0.3980 - val_f1_score: 0.8751 - val_categorical_accuracy: 0.8723\n",
      "Epoch 36/275\n",
      "43/43 [==============================] - ETA: 0s - loss: 0.1283 - f1_score: 0.8721 - categorical_accuracy: 0.8714\n",
      "Epoch 00036: val_loss did not improve from 0.35408\n",
      "43/43 [==============================] - 80s 2s/step - loss: 0.1283 - f1_score: 0.8721 - categorical_accuracy: 0.8714 - val_loss: 0.3928 - val_f1_score: 0.8758 - val_categorical_accuracy: 0.8733\n",
      "Epoch 37/275\n",
      "43/43 [==============================] - ETA: 0s - loss: 0.1339 - f1_score: 0.8731 - categorical_accuracy: 0.8723\n",
      "Epoch 00037: val_loss did not improve from 0.35408\n",
      "43/43 [==============================] - 80s 2s/step - loss: 0.1339 - f1_score: 0.8731 - categorical_accuracy: 0.8723 - val_loss: 0.3956 - val_f1_score: 0.8713 - val_categorical_accuracy: 0.8682\n",
      "Epoch 38/275\n",
      "43/43 [==============================] - ETA: 0s - loss: 0.1327 - f1_score: 0.8659 - categorical_accuracy: 0.8647Restoring model weights from the end of the best epoch.\n",
      "\n",
      "Epoch 00038: val_loss did not improve from 0.35408\n",
      "43/43 [==============================] - 83s 2s/step - loss: 0.1327 - f1_score: 0.8659 - categorical_accuracy: 0.8647 - val_loss: 0.3909 - val_f1_score: 0.8751 - val_categorical_accuracy: 0.8723\n",
      "Epoch 00038: early stopping\n"
     ]
    }
   ],
   "source": [
    "history = model.fit(\n",
    "    train_generator, \n",
    "    steps_per_epoch=steps_per_epoch,\n",
    "    class_weight=class_weight, \n",
    "    epochs=275, \n",
    "    verbose=1, \n",
    "    workers=5,\n",
    "    callbacks=[reduce_lr, early, chk_point], \n",
    "    validation_data=validation_generator,\n",
    "    validation_steps=validation_steps\n",
    ")"
   ]
  },
  {
   "cell_type": "code",
   "execution_count": 18,
   "metadata": {
    "execution": {
     "iopub.execute_input": "2021-01-22T21:34:15.602047Z",
     "iopub.status.busy": "2021-01-22T21:34:15.601149Z",
     "iopub.status.idle": "2021-01-22T21:34:19.314965Z",
     "shell.execute_reply": "2021-01-22T21:34:19.315614Z"
    },
    "papermill": {
     "duration": 6.567346,
     "end_time": "2021-01-22T21:34:19.315778",
     "exception": false,
     "start_time": "2021-01-22T21:34:12.748432",
     "status": "completed"
    },
    "tags": []
   },
   "outputs": [
    {
     "data": {
      "image/png": "[encoded data removed]",
      "text/plain": [
       "<Figure size 2160x720 with 3 Axes>"
      ]
     },
     "metadata": {},
     "output_type": "display_data"
    }
   ],
   "source": [
    "_, ax = plt.subplots(1, 3, figsize=(30, 10))\n",
    "\n",
    "ax[0].plot(history.history['loss'], label='train_loss')\n",
    "ax[0].plot(history.history['val_loss'], label='val_loss')\n",
    "ax[0].set_ylabel('Loss')\n",
    "ax[0].set_xlabel('Epoch')\n",
    "ax[0].set_title(\"Model Loss Curve\")\n",
    "ax[0].legend()\n",
    "ax[0].grid()\n",
    "\n",
    "ax[1].plot(history.history['f1_score'], label='train_f1_score')\n",
    "ax[1].plot(history.history['val_f1_score'], label='val_f1_score')\n",
    "ax[1].set_ylabel('F1-Score')\n",
    "ax[1].set_xlabel('Epoch')\n",
    "ax[1].set_title(\"Model F1-Score Curve\")\n",
    "ax[1].legend()\n",
    "ax[1].grid()\n",
    "\n",
    "ax[2].plot(history.history['categorical_accuracy'], label='train_accuracy')\n",
    "ax[2].plot(history.history['val_categorical_accuracy'], label='val_accuracy')\n",
    "ax[2].set_ylabel('Accuracy')\n",
    "ax[2].set_xlabel('Epoch')\n",
    "ax[2].set_title(\"Model Accuracy Curve\")\n",
    "ax[2].legend()\n",
    "ax[2].grid()"
   ]
  },
  {
   "cell_type": "markdown",
   "metadata": {
    "papermill": {
     "duration": 0.824754,
     "end_time": "2021-01-22T21:34:20.959841",
     "exception": false,
     "start_time": "2021-01-22T21:34:20.135087",
     "status": "completed"
    },
    "tags": []
   },
   "source": [
    "## Check classification report"
   ]
  },
  {
   "cell_type": "code",
   "execution_count": 19,
   "metadata": {
    "execution": {
     "iopub.execute_input": "2021-01-22T21:34:22.514059Z",
     "iopub.status.busy": "2021-01-22T21:34:22.513180Z",
     "iopub.status.idle": "2021-01-22T21:34:28.619837Z",
     "shell.execute_reply": "2021-01-22T21:34:28.618663Z"
    },
    "papermill": {
     "duration": 6.841006,
     "end_time": "2021-01-22T21:34:28.619971",
     "exception": false,
     "start_time": "2021-01-22T21:34:21.778965",
     "status": "completed"
    },
    "tags": []
   },
   "outputs": [],
   "source": [
    "model = load_model('./hackerearth_holiday_season_model.h5')"
   ]
  },
  {
   "cell_type": "code",
   "execution_count": 20,
   "metadata": {
    "execution": {
     "iopub.execute_input": "2021-01-22T21:34:29.662278Z",
     "iopub.status.busy": "2021-01-22T21:34:29.660916Z",
     "iopub.status.idle": "2021-01-22T21:34:39.629806Z",
     "shell.execute_reply": "2021-01-22T21:34:39.630259Z"
    },
    "papermill": {
     "duration": 10.497433,
     "end_time": "2021-01-22T21:34:39.630393",
     "exception": false,
     "start_time": "2021-01-22T21:34:29.132960",
     "status": "completed"
    },
    "tags": []
   },
   "outputs": [
    {
     "name": "stdout",
     "output_type": "stream",
     "text": [
      "8/8 [==============================] - 5s 588ms/step\n",
      "\n",
      "y_true: (971,)\n",
      "y_pred: (971,)\n"
     ]
    }
   ],
   "source": [
    "y_true = np.array([validation_generator.classes]).ravel()\n",
    "y_pred = model.predict(validation_generator, verbose=1)\n",
    "y_pred = np.argmax(y_pred, axis=1)\n",
    "\n",
    "print(\"\\ny_true: {}\".format(y_true.shape))\n",
    "print(\"y_pred: {}\".format(y_pred.shape))"
   ]
  },
  {
   "cell_type": "code",
   "execution_count": 21,
   "metadata": {
    "execution": {
     "iopub.execute_input": "2021-01-22T21:34:40.672862Z",
     "iopub.status.busy": "2021-01-22T21:34:40.671966Z",
     "iopub.status.idle": "2021-01-22T21:34:40.683546Z",
     "shell.execute_reply": "2021-01-22T21:34:40.683140Z"
    },
    "papermill": {
     "duration": 0.53171,
     "end_time": "2021-01-22T21:34:40.683646",
     "exception": false,
     "start_time": "2021-01-22T21:34:40.151936",
     "status": "completed"
    },
    "tags": []
   },
   "outputs": [
    {
     "name": "stdout",
     "output_type": "stream",
     "text": [
      "              precision    recall  f1-score   support\n",
      "\n",
      "           0       0.84      0.88      0.86        80\n",
      "           1       0.81      0.89      0.84        89\n",
      "           2       0.95      0.90      0.92       231\n",
      "           3       0.94      0.95      0.94        96\n",
      "           4       0.90      0.89      0.90       421\n",
      "           5       0.81      0.89      0.85        54\n",
      "\n",
      "    accuracy                           0.90       971\n",
      "   macro avg       0.88      0.90      0.89       971\n",
      "weighted avg       0.90      0.90      0.90       971\n",
      "\n"
     ]
    }
   ],
   "source": [
    "print(classification_report(y_true, y_pred))"
   ]
  },
  {
   "cell_type": "code",
   "execution_count": 22,
   "metadata": {
    "execution": {
     "iopub.execute_input": "2021-01-22T21:34:41.763391Z",
     "iopub.status.busy": "2021-01-22T21:34:41.762824Z",
     "iopub.status.idle": "2021-01-22T21:34:42.147136Z",
     "shell.execute_reply": "2021-01-22T21:34:42.147593Z"
    },
    "papermill": {
     "duration": 0.925682,
     "end_time": "2021-01-22T21:34:42.147760",
     "exception": false,
     "start_time": "2021-01-22T21:34:41.222078",
     "status": "completed"
    },
    "tags": []
   },
   "outputs": [
    {
     "data": {
      "image/png": "[encoded data removed]",
      "text/plain": [
       "<Figure size 864x504 with 2 Axes>"
      ]
     },
     "metadata": {},
     "output_type": "display_data"
    }
   ],
   "source": [
    "cnf_matrix = confusion_matrix(y_true, y_pred, labels=[0, 1, 2, 3, 4, 5])\n",
    "np.set_printoptions(precision=2)\n",
    "plt.figure(figsize=(12,7))\n",
    "plot_confusion_matrix(cnf_matrix, classes=[0, 1, 2, 3, 4, 5])"
   ]
  },
  {
   "cell_type": "markdown",
   "metadata": {
    "papermill": {
     "duration": 0.521704,
     "end_time": "2021-01-22T21:34:43.223088",
     "exception": false,
     "start_time": "2021-01-22T21:34:42.701384",
     "status": "completed"
    },
    "tags": []
   },
   "source": [
    "## Create submission file"
   ]
  },
  {
   "cell_type": "code",
   "execution_count": 23,
   "metadata": {
    "execution": {
     "iopub.execute_input": "2021-01-22T21:34:44.579937Z",
     "iopub.status.busy": "2021-01-22T21:34:44.579104Z",
     "iopub.status.idle": "2021-01-22T21:34:44.586478Z",
     "shell.execute_reply": "2021-01-22T21:34:44.587078Z"
    },
    "papermill": {
     "duration": 0.83993,
     "end_time": "2021-01-22T21:34:44.587272",
     "exception": false,
     "start_time": "2021-01-22T21:34:43.747342",
     "status": "completed"
    },
    "tags": []
   },
   "outputs": [],
   "source": [
    "rev_class_map = {\n",
    "    0: 'Airplane',\n",
    "    1: 'Candle',\n",
    "    2: 'Christmas_Tree',\n",
    "    3: 'Jacket',\n",
    "    4: 'Miscellaneous',\n",
    "    5: 'Snowman'\n",
    "}"
   ]
  },
  {
   "cell_type": "code",
   "execution_count": 24,
   "metadata": {
    "execution": {
     "iopub.execute_input": "2021-01-22T21:34:46.136735Z",
     "iopub.status.busy": "2021-01-22T21:34:46.135289Z",
     "iopub.status.idle": "2021-01-22T21:35:17.660044Z",
     "shell.execute_reply": "2021-01-22T21:35:17.656510Z"
    },
    "papermill": {
     "duration": 32.052717,
     "end_time": "2021-01-22T21:35:17.660212",
     "exception": false,
     "start_time": "2021-01-22T21:34:45.607495",
     "status": "completed"
    },
    "tags": []
   },
   "outputs": [
    {
     "name": "stdout",
     "output_type": "stream",
     "text": [
      "28/28 [==============================] - 29s 1s/step\n",
      "(3489,)\n"
     ]
    }
   ],
   "source": [
    "y_pred_final = model.predict(test_generator, verbose=1)\n",
    "y_pred_final = np.argmax(y_pred_final, axis=1)\n",
    "print(y_pred_final.shape)"
   ]
  },
  {
   "cell_type": "code",
   "execution_count": 25,
   "metadata": {
    "execution": {
     "iopub.execute_input": "2021-01-22T21:35:18.862296Z",
     "iopub.status.busy": "2021-01-22T21:35:18.861653Z",
     "iopub.status.idle": "2021-01-22T21:35:18.866902Z",
     "shell.execute_reply": "2021-01-22T21:35:18.866479Z"
    },
    "papermill": {
     "duration": 0.541778,
     "end_time": "2021-01-22T21:35:18.866997",
     "exception": false,
     "start_time": "2021-01-22T21:35:18.325219",
     "status": "completed"
    },
    "tags": []
   },
   "outputs": [
    {
     "data": {
      "text/html": [
       "<div>\n",
       "<style scoped>\n",
       "    .dataframe tbody tr th:only-of-type {\n",
       "        vertical-align: middle;\n",
       "    }\n",
       "\n",
       "    .dataframe tbody tr th {\n",
       "        vertical-align: top;\n",
       "    }\n",
       "\n",
       "    .dataframe thead th {\n",
       "        text-align: right;\n",
       "    }\n",
       "</style>\n",
       "<table border=\"1\" class=\"dataframe\">\n",
       "  <thead>\n",
       "    <tr style=\"text-align: right;\">\n",
       "      <th></th>\n",
       "      <th>Image</th>\n",
       "      <th>Class</th>\n",
       "    </tr>\n",
       "  </thead>\n",
       "  <tbody>\n",
       "    <tr>\n",
       "      <th>0</th>\n",
       "      <td>image7761.jpg</td>\n",
       "      <td>Miscellaneous</td>\n",
       "    </tr>\n",
       "    <tr>\n",
       "      <th>1</th>\n",
       "      <td>image3202.jpg</td>\n",
       "      <td>Jacket</td>\n",
       "    </tr>\n",
       "    <tr>\n",
       "      <th>2</th>\n",
       "      <td>image688.jpg</td>\n",
       "      <td>Snowman</td>\n",
       "    </tr>\n",
       "    <tr>\n",
       "      <th>3</th>\n",
       "      <td>image233.jpg</td>\n",
       "      <td>Candle</td>\n",
       "    </tr>\n",
       "    <tr>\n",
       "      <th>4</th>\n",
       "      <td>image4332.jpg</td>\n",
       "      <td>Christmas_Tree</td>\n",
       "    </tr>\n",
       "  </tbody>\n",
       "</table>\n",
       "</div>"
      ],
      "text/plain": [
       "           Image           Class\n",
       "0  image7761.jpg   Miscellaneous\n",
       "1  image3202.jpg          Jacket\n",
       "2   image688.jpg         Snowman\n",
       "3   image233.jpg          Candle\n",
       "4  image4332.jpg  Christmas_Tree"
      ]
     },
     "execution_count": 25,
     "metadata": {},
     "output_type": "execute_result"
    }
   ],
   "source": [
    "test_df['Class'] = y_pred_final\n",
    "test_df['Class'] = test_df['Class'].map(rev_class_map)\n",
    "test_df.head()"
   ]
  },
  {
   "cell_type": "code",
   "execution_count": 26,
   "metadata": {
    "execution": {
     "iopub.execute_input": "2021-01-22T21:35:19.937427Z",
     "iopub.status.busy": "2021-01-22T21:35:19.936877Z",
     "iopub.status.idle": "2021-01-22T21:35:20.235304Z",
     "shell.execute_reply": "2021-01-22T21:35:20.234317Z"
    },
    "papermill": {
     "duration": 0.839933,
     "end_time": "2021-01-22T21:35:20.235410",
     "exception": false,
     "start_time": "2021-01-22T21:35:19.395477",
     "status": "completed"
    },
    "tags": []
   },
   "outputs": [],
   "source": [
    "test_df.to_csv(\"/kaggle/working/submission.csv\", index=False)"
   ]
  },
  {
   "cell_type": "code",
   "execution_count": null,
   "metadata": {
    "papermill": {
     "duration": 0.529874,
     "end_time": "2021-01-22T21:35:21.295943",
     "exception": false,
     "start_time": "2021-01-22T21:35:20.766069",
     "status": "completed"
    },
    "tags": []
   },
   "outputs": [],
   "source": []
  }
 ],
 "metadata": {
  "kernelspec": {
   "display_name": "Python 3",
   "language": "python",
   "name": "python3"
  },
  "language_info": {
   "codemirror_mode": {
    "name": "ipython",
    "version": 3
   },
   "file_extension": ".py",
   "mimetype": "text/x-python",
   "name": "python",
   "nbconvert_exporter": "python",
   "pygments_lexer": "ipython3",
   "version": "3.7.9"
  },
  "papermill": {
   "duration": 3788.855736,
   "end_time": "2021-01-22T21:35:23.534241",
   "environment_variables": {},
   "exception": null,
   "input_path": "__notebook__.ipynb",
   "output_path": "__notebook__.ipynb",
   "parameters": {},
   "start_time": "2021-01-22T20:32:14.678505",
   "version": "2.1.0"
  }
 },
 "nbformat": 4,
 "nbformat_minor": 4
}
