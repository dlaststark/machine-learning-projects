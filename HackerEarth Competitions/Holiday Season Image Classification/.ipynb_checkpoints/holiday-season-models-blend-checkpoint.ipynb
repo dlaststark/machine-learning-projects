{
 "cells": [
  {
   "cell_type": "markdown",
   "metadata": {
    "papermill": {
     "duration": 0.013865,
     "end_time": "2021-01-21T10:43:14.663992",
     "exception": false,
     "start_time": "2021-01-21T10:43:14.650127",
     "status": "completed"
    },
    "tags": []
   },
   "source": [
    "## Import Packages"
   ]
  },
  {
   "cell_type": "code",
   "execution_count": 1,
   "metadata": {
    "execution": {
     "iopub.execute_input": "2021-01-21T10:43:14.699476Z",
     "iopub.status.busy": "2021-01-21T10:43:14.698853Z",
     "iopub.status.idle": "2021-01-21T10:43:20.986114Z",
     "shell.execute_reply": "2021-01-21T10:43:20.987111Z"
    },
    "papermill": {
     "duration": 6.310596,
     "end_time": "2021-01-21T10:43:20.987346",
     "exception": false,
     "start_time": "2021-01-21T10:43:14.676750",
     "status": "completed"
    },
    "tags": []
   },
   "outputs": [],
   "source": [
    "import os\n",
    "import cv2\n",
    "import itertools\n",
    "import numpy as np\n",
    "import pandas as pd\n",
    "import seaborn as sns\n",
    "from tqdm import tqdm\n",
    "import matplotlib.pyplot as plt\n",
    "from sklearn.metrics import confusion_matrix\n",
    "from sklearn.metrics import classification_report\n",
    "from sklearn.model_selection import StratifiedShuffleSplit\n",
    "from tensorflow.keras.models import Model, load_model\n",
    "from tensorflow.keras.regularizers import l2\n",
    "from tensorflow_addons.metrics import F1Score\n",
    "from tensorflow_addons.optimizers import AdamW, Lookahead\n",
    "from tensorflow.keras.layers import Dense, Dropout, Flatten\n",
    "from tensorflow.keras.layers import BatchNormalization, Input\n",
    "from tensorflow.keras.layers import ZeroPadding2D, MaxPooling2D\n",
    "from tensorflow.keras.layers import Activation, Add, Conv2D\n",
    "from tensorflow.keras.layers import GlobalAveragePooling2D\n",
    "from tensorflow.keras.layers import multiply, Lambda, Concatenate\n",
    "from tensorflow.keras.preprocessing.image import ImageDataGenerator\n",
    "from tensorflow.keras.callbacks import EarlyStopping, ReduceLROnPlateau"
   ]
  },
  {
   "cell_type": "markdown",
   "metadata": {
    "papermill": {
     "duration": 0.020381,
     "end_time": "2021-01-21T10:43:21.028654",
     "exception": false,
     "start_time": "2021-01-21T10:43:21.008273",
     "status": "completed"
    },
    "tags": []
   },
   "source": [
    "## Read true labels + Basic EDA"
   ]
  },
  {
   "cell_type": "code",
   "execution_count": 2,
   "metadata": {
    "execution": {
     "iopub.execute_input": "2021-01-21T10:43:21.082026Z",
     "iopub.status.busy": "2021-01-21T10:43:21.081096Z",
     "iopub.status.idle": "2021-01-21T10:43:21.085107Z",
     "shell.execute_reply": "2021-01-21T10:43:21.085820Z"
    },
    "papermill": {
     "duration": 0.036683,
     "end_time": "2021-01-21T10:43:21.086025",
     "exception": false,
     "start_time": "2021-01-21T10:43:21.049342",
     "status": "completed"
    },
    "tags": []
   },
   "outputs": [],
   "source": [
    "class_map = {\n",
    "    'Airplane': 0,\n",
    "    'Candle': 1,\n",
    "    'Christmas_Tree': 2,\n",
    "    'Jacket': 3,\n",
    "    'Miscellaneous': 4,\n",
    "    'Snowman': 5\n",
    "}\n",
    "\n",
    "rev_class_map = {\n",
    "    0: 'Airplane',\n",
    "    1: 'Candle',\n",
    "    2: 'Christmas_Tree',\n",
    "    3: 'Jacket',\n",
    "    4: 'Miscellaneous',\n",
    "    5: 'Snowman'\n",
    "}"
   ]
  },
  {
   "cell_type": "code",
   "execution_count": 3,
   "metadata": {
    "execution": {
     "iopub.execute_input": "2021-01-21T10:43:21.127962Z",
     "iopub.status.busy": "2021-01-21T10:43:21.127439Z",
     "iopub.status.idle": "2021-01-21T10:43:21.171715Z",
     "shell.execute_reply": "2021-01-21T10:43:21.172140Z"
    },
    "papermill": {
     "duration": 0.065639,
     "end_time": "2021-01-21T10:43:21.172248",
     "exception": false,
     "start_time": "2021-01-21T10:43:21.106609",
     "status": "completed"
    },
    "tags": []
   },
   "outputs": [
    {
     "data": {
      "text/html": [
       "<div>\n",
       "<style scoped>\n",
       "    .dataframe tbody tr th:only-of-type {\n",
       "        vertical-align: middle;\n",
       "    }\n",
       "\n",
       "    .dataframe tbody tr th {\n",
       "        vertical-align: top;\n",
       "    }\n",
       "\n",
       "    .dataframe thead th {\n",
       "        text-align: right;\n",
       "    }\n",
       "</style>\n",
       "<table border=\"1\" class=\"dataframe\">\n",
       "  <thead>\n",
       "    <tr style=\"text-align: right;\">\n",
       "      <th></th>\n",
       "      <th>Image</th>\n",
       "      <th>Class</th>\n",
       "      <th>Class_enc</th>\n",
       "    </tr>\n",
       "  </thead>\n",
       "  <tbody>\n",
       "    <tr>\n",
       "      <th>0</th>\n",
       "      <td>image3476.jpg</td>\n",
       "      <td>Miscellaneous</td>\n",
       "      <td>4</td>\n",
       "    </tr>\n",
       "    <tr>\n",
       "      <th>1</th>\n",
       "      <td>image5198.jpg</td>\n",
       "      <td>Candle</td>\n",
       "      <td>1</td>\n",
       "    </tr>\n",
       "    <tr>\n",
       "      <th>2</th>\n",
       "      <td>image4183.jpg</td>\n",
       "      <td>Snowman</td>\n",
       "      <td>5</td>\n",
       "    </tr>\n",
       "    <tr>\n",
       "      <th>3</th>\n",
       "      <td>image1806.jpg</td>\n",
       "      <td>Miscellaneous</td>\n",
       "      <td>4</td>\n",
       "    </tr>\n",
       "    <tr>\n",
       "      <th>4</th>\n",
       "      <td>image7831.jpg</td>\n",
       "      <td>Miscellaneous</td>\n",
       "      <td>4</td>\n",
       "    </tr>\n",
       "  </tbody>\n",
       "</table>\n",
       "</div>"
      ],
      "text/plain": [
       "           Image          Class Class_enc\n",
       "0  image3476.jpg  Miscellaneous         4\n",
       "1  image5198.jpg         Candle         1\n",
       "2  image4183.jpg        Snowman         5\n",
       "3  image1806.jpg  Miscellaneous         4\n",
       "4  image7831.jpg  Miscellaneous         4"
      ]
     },
     "execution_count": 3,
     "metadata": {},
     "output_type": "execute_result"
    }
   ],
   "source": [
    "train_df = pd.read_csv(\"../input/hackereath-holiday-season-deep-learning-contest/dataset/train.csv\")\n",
    "train_df['Class_enc'] = train_df['Class'].map(class_map)\n",
    "train_df['Class_enc'] = train_df['Class_enc'].astype('str')\n",
    "train_df.head()"
   ]
  },
  {
   "cell_type": "code",
   "execution_count": 4,
   "metadata": {
    "execution": {
     "iopub.execute_input": "2021-01-21T10:43:21.203346Z",
     "iopub.status.busy": "2021-01-21T10:43:21.202692Z",
     "iopub.status.idle": "2021-01-21T10:43:21.296143Z",
     "shell.execute_reply": "2021-01-21T10:43:21.295675Z"
    },
    "papermill": {
     "duration": 0.110716,
     "end_time": "2021-01-21T10:43:21.296231",
     "exception": false,
     "start_time": "2021-01-21T10:43:21.185515",
     "status": "completed"
    },
    "tags": []
   },
   "outputs": [
    {
     "name": "stderr",
     "output_type": "stream",
     "text": [
      "100%|██████████| 3489/3489 [00:00<00:00, 1037352.14it/s]\n"
     ]
    },
    {
     "data": {
      "text/html": [
       "<div>\n",
       "<style scoped>\n",
       "    .dataframe tbody tr th:only-of-type {\n",
       "        vertical-align: middle;\n",
       "    }\n",
       "\n",
       "    .dataframe tbody tr th {\n",
       "        vertical-align: top;\n",
       "    }\n",
       "\n",
       "    .dataframe thead th {\n",
       "        text-align: right;\n",
       "    }\n",
       "</style>\n",
       "<table border=\"1\" class=\"dataframe\">\n",
       "  <thead>\n",
       "    <tr style=\"text-align: right;\">\n",
       "      <th></th>\n",
       "      <th>Image</th>\n",
       "      <th>Class</th>\n",
       "    </tr>\n",
       "  </thead>\n",
       "  <tbody>\n",
       "    <tr>\n",
       "      <th>0</th>\n",
       "      <td>image7761.jpg</td>\n",
       "      <td>0</td>\n",
       "    </tr>\n",
       "    <tr>\n",
       "      <th>1</th>\n",
       "      <td>image3202.jpg</td>\n",
       "      <td>0</td>\n",
       "    </tr>\n",
       "    <tr>\n",
       "      <th>2</th>\n",
       "      <td>image688.jpg</td>\n",
       "      <td>0</td>\n",
       "    </tr>\n",
       "    <tr>\n",
       "      <th>3</th>\n",
       "      <td>image233.jpg</td>\n",
       "      <td>0</td>\n",
       "    </tr>\n",
       "    <tr>\n",
       "      <th>4</th>\n",
       "      <td>image4332.jpg</td>\n",
       "      <td>0</td>\n",
       "    </tr>\n",
       "  </tbody>\n",
       "</table>\n",
       "</div>"
      ],
      "text/plain": [
       "           Image Class\n",
       "0  image7761.jpg     0\n",
       "1  image3202.jpg     0\n",
       "2   image688.jpg     0\n",
       "3   image233.jpg     0\n",
       "4  image4332.jpg     0"
      ]
     },
     "execution_count": 4,
     "metadata": {},
     "output_type": "execute_result"
    }
   ],
   "source": [
    "test_dir = \"../input/hackereath-holiday-season-deep-learning-contest/dataset/test\"\n",
    "test_files = []\n",
    "\n",
    "for file in tqdm(os.listdir(test_dir)):\n",
    "    test_files.append(file)\n",
    "\n",
    "test_df = pd.DataFrame(test_files, columns=['Image'])\n",
    "test_df['Class'] = '0'\n",
    "test_df.head()"
   ]
  },
  {
   "cell_type": "markdown",
   "metadata": {
    "papermill": {
     "duration": 0.013996,
     "end_time": "2021-01-21T10:43:21.325108",
     "exception": false,
     "start_time": "2021-01-21T10:43:21.311112",
     "status": "completed"
    },
    "tags": []
   },
   "source": [
    "## Model Hyperparameters"
   ]
  },
  {
   "cell_type": "code",
   "execution_count": 5,
   "metadata": {
    "execution": {
     "iopub.execute_input": "2021-01-21T10:43:21.363173Z",
     "iopub.status.busy": "2021-01-21T10:43:21.361600Z",
     "iopub.status.idle": "2021-01-21T10:43:21.363796Z",
     "shell.execute_reply": "2021-01-21T10:43:21.364209Z"
    },
    "papermill": {
     "duration": 0.025022,
     "end_time": "2021-01-21T10:43:21.364305",
     "exception": false,
     "start_time": "2021-01-21T10:43:21.339283",
     "status": "completed"
    },
    "tags": []
   },
   "outputs": [],
   "source": [
    "dataset_dir = \"../input/hackereath-holiday-season-deep-learning-contest/dataset/\"\n",
    "mini_batch_size = 64\n",
    "train_steps = int(np.ceil(train_df.shape[0] / float(mini_batch_size)))\n",
    "test_steps = int(np.ceil(test_df.shape[0] / float(mini_batch_size)))\n",
    "image_dim1 = (375, 375, 3)\n",
    "image_dim2 = (380, 380, 3)\n",
    "image_dim3 = (456, 456, 3)\n",
    "image_dim4 = (464, 464, 3)"
   ]
  },
  {
   "cell_type": "markdown",
   "metadata": {
    "papermill": {
     "duration": 0.014039,
     "end_time": "2021-01-21T10:43:21.392462",
     "exception": false,
     "start_time": "2021-01-21T10:43:21.378423",
     "status": "completed"
    },
    "tags": []
   },
   "source": [
    "## Configure image generators"
   ]
  },
  {
   "cell_type": "code",
   "execution_count": 6,
   "metadata": {
    "execution": {
     "iopub.execute_input": "2021-01-21T10:43:21.429268Z",
     "iopub.status.busy": "2021-01-21T10:43:21.428523Z",
     "iopub.status.idle": "2021-01-21T10:43:30.407803Z",
     "shell.execute_reply": "2021-01-21T10:43:30.407117Z"
    },
    "papermill": {
     "duration": 9.001325,
     "end_time": "2021-01-21T10:43:30.407941",
     "exception": false,
     "start_time": "2021-01-21T10:43:21.406616",
     "status": "completed"
    },
    "tags": []
   },
   "outputs": [
    {
     "name": "stdout",
     "output_type": "stream",
     "text": [
      "Found 6469 validated image filenames belonging to 6 classes.\n",
      "Found 6469 validated image filenames belonging to 6 classes.\n"
     ]
    }
   ],
   "source": [
    "train_datagen = ImageDataGenerator()\n",
    "\n",
    "train_generator1 = train_datagen.flow_from_dataframe(train_df,\n",
    "                                                     directory = os.path.join(dataset_dir,\"train\"),\n",
    "                                                     x_col = \"Image\", \n",
    "                                                     y_col = \"Class_enc\",\n",
    "                                                     shuffle=False,\n",
    "                                                     target_size = (image_dim1[0], image_dim1[1]),\n",
    "                                                     batch_size = mini_batch_size,\n",
    "                                                     class_mode = \"categorical\",\n",
    "                                                     interpolation=\"bicubic\")\n",
    "\n",
    "train_generator2 = train_datagen.flow_from_dataframe(train_df,\n",
    "                                                     directory = os.path.join(dataset_dir,\"train\"),\n",
    "                                                     x_col = \"Image\", \n",
    "                                                     y_col = \"Class_enc\",\n",
    "                                                     shuffle=False,\n",
    "                                                     target_size = (image_dim2[0], image_dim2[1]),\n",
    "                                                     batch_size = mini_batch_size,\n",
    "                                                     class_mode = \"categorical\",\n",
    "                                                     interpolation=\"bicubic\")"
   ]
  },
  {
   "cell_type": "code",
   "execution_count": 7,
   "metadata": {
    "execution": {
     "iopub.execute_input": "2021-01-21T10:43:30.462643Z",
     "iopub.status.busy": "2021-01-21T10:43:30.461948Z",
     "iopub.status.idle": "2021-01-21T10:43:30.468591Z",
     "shell.execute_reply": "2021-01-21T10:43:30.469515Z"
    },
    "papermill": {
     "duration": 0.038639,
     "end_time": "2021-01-21T10:43:30.469650",
     "exception": false,
     "start_time": "2021-01-21T10:43:30.431011",
     "status": "completed"
    },
    "tags": []
   },
   "outputs": [],
   "source": [
    "def train_generator3():\n",
    "\n",
    "    while True:\n",
    "        train_datagen = ImageDataGenerator()\n",
    "\n",
    "        batches = train_datagen.flow_from_dataframe(train_df,\n",
    "                                                    directory = os.path.join(dataset_dir,\"train\"),\n",
    "                                                    x_col = \"Image\", \n",
    "                                                    y_col = \"Class_enc\",\n",
    "                                                    shuffle=False,\n",
    "                                                    target_size = (image_dim3[0], image_dim3[1]),\n",
    "                                                    batch_size = mini_batch_size,\n",
    "                                                    class_mode = \"categorical\",\n",
    "                                                    interpolation=\"bicubic\")\n",
    "\n",
    "        idx0 = 0\n",
    "        for batch in batches:\n",
    "            idx1 = idx0 + batch[0].shape[0]\n",
    "\n",
    "            yield [batch[0], batch[0], batch[0]], batch[1]\n",
    "\n",
    "            idx0 = idx1\n",
    "            if idx1 >= train_df.shape[0]:\n",
    "                break"
   ]
  },
  {
   "cell_type": "code",
   "execution_count": 8,
   "metadata": {
    "execution": {
     "iopub.execute_input": "2021-01-21T10:43:30.539941Z",
     "iopub.status.busy": "2021-01-21T10:43:30.536041Z",
     "iopub.status.idle": "2021-01-21T10:43:30.540803Z",
     "shell.execute_reply": "2021-01-21T10:43:30.542018Z"
    },
    "papermill": {
     "duration": 0.042207,
     "end_time": "2021-01-21T10:43:30.542179",
     "exception": false,
     "start_time": "2021-01-21T10:43:30.499972",
     "status": "completed"
    },
    "tags": []
   },
   "outputs": [],
   "source": [
    "def train_generator4():\n",
    "\n",
    "    while True:\n",
    "        train_datagen = ImageDataGenerator()\n",
    "\n",
    "        batches = train_datagen.flow_from_dataframe(train_df,\n",
    "                                                    directory = os.path.join(dataset_dir,\"train\"),\n",
    "                                                    x_col = \"Image\", \n",
    "                                                    y_col = \"Class_enc\",\n",
    "                                                    shuffle=False,\n",
    "                                                    target_size = (image_dim4[0], image_dim4[1]),\n",
    "                                                    batch_size = mini_batch_size,\n",
    "                                                    class_mode = \"categorical\",\n",
    "                                                    interpolation=\"bicubic\")\n",
    "\n",
    "        idx0 = 0\n",
    "        for batch in batches:\n",
    "            idx1 = idx0 + batch[0].shape[0]\n",
    "\n",
    "            yield [batch[0], batch[0]], batch[1]\n",
    "\n",
    "            idx0 = idx1\n",
    "            if idx1 >= train_df.shape[0]:\n",
    "                break"
   ]
  },
  {
   "cell_type": "code",
   "execution_count": 9,
   "metadata": {
    "execution": {
     "iopub.execute_input": "2021-01-21T10:43:30.592549Z",
     "iopub.status.busy": "2021-01-21T10:43:30.591924Z",
     "iopub.status.idle": "2021-01-21T10:43:40.104670Z",
     "shell.execute_reply": "2021-01-21T10:43:40.104021Z"
    },
    "papermill": {
     "duration": 9.545365,
     "end_time": "2021-01-21T10:43:40.104823",
     "exception": false,
     "start_time": "2021-01-21T10:43:30.559458",
     "status": "completed"
    },
    "tags": []
   },
   "outputs": [
    {
     "name": "stdout",
     "output_type": "stream",
     "text": [
      "Found 3489 validated image filenames belonging to 1 classes.\n",
      "Found 3489 validated image filenames belonging to 1 classes.\n"
     ]
    }
   ],
   "source": [
    "test_datagen = ImageDataGenerator()\n",
    "\n",
    "test_generator1 = test_datagen.flow_from_dataframe(test_df,\n",
    "                                                   directory = os.path.join(dataset_dir,\"test\"),\n",
    "                                                   x_col = \"Image\",\n",
    "                                                   y_col = \"Class\",\n",
    "                                                   shuffle=False,\n",
    "                                                   target_size = (image_dim1[0], image_dim1[1]),\n",
    "                                                   batch_size = mini_batch_size,\n",
    "                                                   class_mode = \"categorical\",\n",
    "                                                   interpolation=\"bicubic\")\n",
    "\n",
    "test_generator2 = test_datagen.flow_from_dataframe(test_df,\n",
    "                                                   directory = os.path.join(dataset_dir,\"test\"),\n",
    "                                                   x_col = \"Image\",\n",
    "                                                   y_col = \"Class\",\n",
    "                                                   shuffle=False,\n",
    "                                                   target_size = (image_dim2[0], image_dim2[1]),\n",
    "                                                   batch_size = mini_batch_size,\n",
    "                                                   class_mode = \"categorical\",\n",
    "                                                   interpolation=\"bicubic\")"
   ]
  },
  {
   "cell_type": "code",
   "execution_count": 10,
   "metadata": {
    "execution": {
     "iopub.execute_input": "2021-01-21T10:43:40.147273Z",
     "iopub.status.busy": "2021-01-21T10:43:40.146579Z",
     "iopub.status.idle": "2021-01-21T10:43:40.149578Z",
     "shell.execute_reply": "2021-01-21T10:43:40.149163Z"
    },
    "papermill": {
     "duration": 0.028054,
     "end_time": "2021-01-21T10:43:40.149665",
     "exception": false,
     "start_time": "2021-01-21T10:43:40.121611",
     "status": "completed"
    },
    "tags": []
   },
   "outputs": [],
   "source": [
    "def test_generator3(tta=False):\n",
    "\n",
    "    while True:\n",
    "        if tta is False:\n",
    "            test_datagen = ImageDataGenerator()\n",
    "        else:\n",
    "            test_datagen = ImageDataGenerator(rotation_range = 45,\n",
    "                                              zoom_range = 0.2,\n",
    "                                              horizontal_flip = True,\n",
    "                                              vertical_flip = True,\n",
    "                                              fill_mode = 'nearest',\n",
    "                                              shear_range = 0.1,\n",
    "                                              height_shift_range = 0.1,\n",
    "                                              width_shift_range = 0.1)\n",
    "\n",
    "        batches = test_datagen.flow_from_dataframe(test_df,\n",
    "                                                   directory = os.path.join(dataset_dir,\"test\"),\n",
    "                                                   x_col = \"Image\",\n",
    "                                                   y_col = \"Class\",\n",
    "                                                   shuffle=False,\n",
    "                                                   target_size = (image_dim3[0], image_dim3[1]),\n",
    "                                                   batch_size = mini_batch_size,\n",
    "                                                   class_mode = \"categorical\",\n",
    "                                                   interpolation=\"bicubic\")\n",
    "\n",
    "        idx0 = 0\n",
    "        for batch in batches:\n",
    "            idx1 = idx0 + batch[0].shape[0]\n",
    "\n",
    "            yield [batch[0], batch[0], batch[0]], batch[1]\n",
    "\n",
    "            idx0 = idx1\n",
    "            if idx1 >= test_df.shape[0]:\n",
    "                break"
   ]
  },
  {
   "cell_type": "code",
   "execution_count": 11,
   "metadata": {
    "execution": {
     "iopub.execute_input": "2021-01-21T10:43:40.190995Z",
     "iopub.status.busy": "2021-01-21T10:43:40.190248Z",
     "iopub.status.idle": "2021-01-21T10:43:40.192970Z",
     "shell.execute_reply": "2021-01-21T10:43:40.192553Z"
    },
    "papermill": {
     "duration": 0.027156,
     "end_time": "2021-01-21T10:43:40.193056",
     "exception": false,
     "start_time": "2021-01-21T10:43:40.165900",
     "status": "completed"
    },
    "tags": []
   },
   "outputs": [],
   "source": [
    "def test_generator4():\n",
    "\n",
    "    while True:\n",
    "        test_datagen = ImageDataGenerator()\n",
    "\n",
    "        batches = test_datagen.flow_from_dataframe(test_df,\n",
    "                                                   directory = os.path.join(dataset_dir,\"test\"),\n",
    "                                                   x_col = \"Image\",\n",
    "                                                   y_col = \"Class\",\n",
    "                                                   shuffle=False,\n",
    "                                                   target_size = (image_dim4[0], image_dim4[1]),\n",
    "                                                   batch_size = mini_batch_size,\n",
    "                                                   class_mode = \"categorical\",\n",
    "                                                   interpolation=\"bicubic\")\n",
    "\n",
    "        idx0 = 0\n",
    "        for batch in batches:\n",
    "            idx1 = idx0 + batch[0].shape[0]\n",
    "\n",
    "            yield [batch[0], batch[0]], batch[1]\n",
    "\n",
    "            idx0 = idx1\n",
    "            if idx1 >= test_df.shape[0]:\n",
    "                break"
   ]
  },
  {
   "cell_type": "markdown",
   "metadata": {
    "papermill": {
     "duration": 0.016089,
     "end_time": "2021-01-21T10:43:40.226098",
     "exception": false,
     "start_time": "2021-01-21T10:43:40.210009",
     "status": "completed"
    },
    "tags": []
   },
   "source": [
    "## Blend the models"
   ]
  },
  {
   "cell_type": "code",
   "execution_count": 12,
   "metadata": {
    "execution": {
     "iopub.execute_input": "2021-01-21T10:43:40.262016Z",
     "iopub.status.busy": "2021-01-21T10:43:40.261486Z",
     "iopub.status.idle": "2021-01-21T10:45:16.155596Z",
     "shell.execute_reply": "2021-01-21T10:45:16.155079Z"
    },
    "papermill": {
     "duration": 95.913481,
     "end_time": "2021-01-21T10:45:16.155717",
     "exception": false,
     "start_time": "2021-01-21T10:43:40.242236",
     "status": "completed"
    },
    "tags": []
   },
   "outputs": [],
   "source": [
    "# Load the pre-trained models\n",
    "base_model1 = load_model('../input/hackerearth-holiday-season-v4/hackerearth_holiday_season_model.h5')\n",
    "base_model2 = load_model('../input/holiday-season-enet5-v4/hackerearth_holiday_season_model.h5')\n",
    "base_model3 = load_model('../input/fork-of-hackerearth-holiday-season-enet57/hackerearth_holiday_season_model.h5')\n",
    "base_model4 = load_model('../input/holiday-season-enet6-v4/hackerearth_holiday_season_model.h5')\n",
    "base_model5 = load_model('../input/hackerearth-holiday-season-enet-b567/hackerearth_holiday_season_model.h5')"
   ]
  },
  {
   "cell_type": "code",
   "execution_count": 13,
   "metadata": {
    "execution": {
     "iopub.execute_input": "2021-01-21T10:45:16.195462Z",
     "iopub.status.busy": "2021-01-21T10:45:16.194828Z",
     "iopub.status.idle": "2021-01-21T11:01:33.381613Z",
     "shell.execute_reply": "2021-01-21T11:01:33.381121Z"
    },
    "papermill": {
     "duration": 977.209103,
     "end_time": "2021-01-21T11:01:33.381727",
     "exception": false,
     "start_time": "2021-01-21T10:45:16.172624",
     "status": "completed"
    },
    "tags": []
   },
   "outputs": [
    {
     "name": "stdout",
     "output_type": "stream",
     "text": [
      "102/102 [==============================] - 114s 1s/step\n",
      "102/102 [==============================] - 67s 654ms/step\n",
      "Found 6469 validated image filenames belonging to 6 classes.\n",
      "102/102 [==============================] - 264s 3s/step\n",
      "Found 6469 validated image filenames belonging to 6 classes.\n",
      "102/102 [==============================] - 88s 859ms/step\n",
      "Found 6469 validated image filenames belonging to 6 classes.\n",
      "102/102 [==============================] - 382s 4s/step\n",
      "Found 6469 validated image filenames belonging to 6 classes.\n"
     ]
    }
   ],
   "source": [
    "# Make predictions on training set\n",
    "y_meta_pred1 = base_model1.predict(train_generator1, verbose=1)\n",
    "y_meta_pred2 = base_model2.predict(train_generator1, verbose=1)\n",
    "y_meta_pred3 = base_model3.predict(train_generator4(), steps=train_steps, verbose=1)\n",
    "y_meta_pred4 = base_model4.predict(train_generator2, verbose=1)\n",
    "y_meta_pred5 = base_model5.predict(train_generator3(), steps=train_steps, verbose=1)"
   ]
  },
  {
   "cell_type": "code",
   "execution_count": 14,
   "metadata": {
    "execution": {
     "iopub.execute_input": "2021-01-21T11:01:33.704539Z",
     "iopub.status.busy": "2021-01-21T11:01:33.703813Z",
     "iopub.status.idle": "2021-01-21T11:10:02.523740Z",
     "shell.execute_reply": "2021-01-21T11:10:02.523278Z"
    },
    "papermill": {
     "duration": 508.984641,
     "end_time": "2021-01-21T11:10:02.523849",
     "exception": false,
     "start_time": "2021-01-21T11:01:33.539208",
     "status": "completed"
    },
    "tags": []
   },
   "outputs": [
    {
     "name": "stdout",
     "output_type": "stream",
     "text": [
      "55/55 [==============================] - 62s 1s/step\n",
      "55/55 [==============================] - 37s 676ms/step\n",
      "Found 3489 validated image filenames belonging to 1 classes.\n",
      "54/55 [============================>.] - ETA: 2sFound 3489 validated image filenames belonging to 1 classes.\n",
      "55/55 [==============================] - 143s 3s/step\n",
      "55/55 [==============================] - 48s 878ms/step\n",
      "Found 3489 validated image filenames belonging to 1 classes.\n",
      "54/55 [============================>.] - ETA: 3sFound 3489 validated image filenames belonging to 1 classes.\n",
      "55/55 [==============================] - 206s 4s/step\n"
     ]
    }
   ],
   "source": [
    "# Make predictions on test set\n",
    "y_pred1 = base_model1.predict(test_generator1, verbose=1)\n",
    "y_pred2 = base_model2.predict(test_generator1, verbose=1)\n",
    "y_pred3 = base_model3.predict(test_generator4(), steps=test_steps, verbose=1)\n",
    "y_pred4 = base_model4.predict(test_generator2, verbose=1)\n",
    "y_pred5 = base_model5.predict(test_generator3(), steps=test_steps, verbose=1)"
   ]
  },
  {
   "cell_type": "code",
   "execution_count": 15,
   "metadata": {
    "execution": {
     "iopub.execute_input": "2021-01-21T11:10:03.003041Z",
     "iopub.status.busy": "2021-01-21T11:10:03.002251Z",
     "iopub.status.idle": "2021-01-21T11:10:03.061417Z",
     "shell.execute_reply": "2021-01-21T11:10:03.060854Z"
    },
    "papermill": {
     "duration": 0.301586,
     "end_time": "2021-01-21T11:10:03.061511",
     "exception": false,
     "start_time": "2021-01-21T11:10:02.759925",
     "status": "completed"
    },
    "tags": []
   },
   "outputs": [],
   "source": [
    "np.savez_compressed('Holiday_Season_Meta_Features_dataset.npz',\n",
    "                    y_meta_pred1=y_meta_pred1, y_pred1=y_pred1, \n",
    "                    y_meta_pred2=y_meta_pred2, y_pred2=y_pred2, \n",
    "                    y_meta_pred3=y_meta_pred3, y_pred3=y_pred3, \n",
    "                    y_meta_pred4=y_meta_pred4, y_pred4=y_pred4, \n",
    "                    y_meta_pred5=y_meta_pred5, y_pred5=y_pred5)"
   ]
  },
  {
   "cell_type": "markdown",
   "metadata": {
    "papermill": {
     "duration": 0.235226,
     "end_time": "2021-01-21T11:10:03.531019",
     "exception": false,
     "start_time": "2021-01-21T11:10:03.295793",
     "status": "completed"
    },
    "tags": []
   },
   "source": [
    "## Create submission file"
   ]
  },
  {
   "cell_type": "code",
   "execution_count": 16,
   "metadata": {
    "execution": {
     "iopub.execute_input": "2021-01-21T11:10:04.009395Z",
     "iopub.status.busy": "2021-01-21T11:10:04.008561Z",
     "iopub.status.idle": "2021-01-21T11:10:04.242509Z",
     "shell.execute_reply": "2021-01-21T11:10:04.242065Z"
    },
    "papermill": {
     "duration": 0.476289,
     "end_time": "2021-01-21T11:10:04.242608",
     "exception": false,
     "start_time": "2021-01-21T11:10:03.766319",
     "status": "completed"
    },
    "tags": []
   },
   "outputs": [
    {
     "data": {
      "text/html": [
       "<div>\n",
       "<style scoped>\n",
       "    .dataframe tbody tr th:only-of-type {\n",
       "        vertical-align: middle;\n",
       "    }\n",
       "\n",
       "    .dataframe tbody tr th {\n",
       "        vertical-align: top;\n",
       "    }\n",
       "\n",
       "    .dataframe thead th {\n",
       "        text-align: right;\n",
       "    }\n",
       "</style>\n",
       "<table border=\"1\" class=\"dataframe\">\n",
       "  <thead>\n",
       "    <tr style=\"text-align: right;\">\n",
       "      <th></th>\n",
       "      <th>Image</th>\n",
       "      <th>Class</th>\n",
       "    </tr>\n",
       "  </thead>\n",
       "  <tbody>\n",
       "    <tr>\n",
       "      <th>0</th>\n",
       "      <td>image7761.jpg</td>\n",
       "      <td>Airplane</td>\n",
       "    </tr>\n",
       "    <tr>\n",
       "      <th>1</th>\n",
       "      <td>image3202.jpg</td>\n",
       "      <td>Miscellaneous</td>\n",
       "    </tr>\n",
       "    <tr>\n",
       "      <th>2</th>\n",
       "      <td>image688.jpg</td>\n",
       "      <td>Snowman</td>\n",
       "    </tr>\n",
       "    <tr>\n",
       "      <th>3</th>\n",
       "      <td>image233.jpg</td>\n",
       "      <td>Candle</td>\n",
       "    </tr>\n",
       "    <tr>\n",
       "      <th>4</th>\n",
       "      <td>image4332.jpg</td>\n",
       "      <td>Christmas_Tree</td>\n",
       "    </tr>\n",
       "  </tbody>\n",
       "</table>\n",
       "</div>"
      ],
      "text/plain": [
       "           Image           Class\n",
       "0  image7761.jpg        Airplane\n",
       "1  image3202.jpg   Miscellaneous\n",
       "2   image688.jpg         Snowman\n",
       "3   image233.jpg          Candle\n",
       "4  image4332.jpg  Christmas_Tree"
      ]
     },
     "execution_count": 16,
     "metadata": {},
     "output_type": "execute_result"
    }
   ],
   "source": [
    "y_pred_final = (y_pred1 * 0.15) + (y_pred2 * 0.15) + (y_pred3 * 0.35) + (y_pred5 * 0.35)\n",
    "\n",
    "test_df['Class'] = np.argmax(y_pred_final, axis=1)\n",
    "test_df['Class'] = test_df['Class'].map(rev_class_map)\n",
    "test_df.to_csv(\"/kaggle/working/submission.csv\", index=False)\n",
    "test_df.head()"
   ]
  },
  {
   "cell_type": "code",
   "execution_count": null,
   "metadata": {
    "papermill": {
     "duration": 0.366138,
     "end_time": "2021-01-21T11:10:04.846952",
     "exception": false,
     "start_time": "2021-01-21T11:10:04.480814",
     "status": "completed"
    },
    "tags": []
   },
   "outputs": [],
   "source": []
  }
 ],
 "metadata": {
  "kernelspec": {
   "display_name": "Python 3",
   "language": "python",
   "name": "python3"
  },
  "language_info": {
   "codemirror_mode": {
    "name": "ipython",
    "version": 3
   },
   "file_extension": ".py",
   "mimetype": "text/x-python",
   "name": "python",
   "nbconvert_exporter": "python",
   "pygments_lexer": "ipython3",
   "version": "3.7.9"
  },
  "papermill": {
   "duration": 1616.48425,
   "end_time": "2021-01-21T11:10:06.793947",
   "environment_variables": {},
   "exception": null,
   "input_path": "__notebook__.ipynb",
   "output_path": "__notebook__.ipynb",
   "parameters": {},
   "start_time": "2021-01-21T10:43:10.309697",
   "version": "2.1.0"
  }
 },
 "nbformat": 4,
 "nbformat_minor": 4
}
