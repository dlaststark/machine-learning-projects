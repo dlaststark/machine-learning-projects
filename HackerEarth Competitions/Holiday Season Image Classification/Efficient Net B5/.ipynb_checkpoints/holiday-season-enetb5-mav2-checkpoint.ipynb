{
 "cells": [
  {
   "cell_type": "markdown",
   "metadata": {
    "papermill": {
     "duration": 0.027048,
     "end_time": "2021-01-23T13:36:16.680482",
     "exception": false,
     "start_time": "2021-01-23T13:36:16.653434",
     "status": "completed"
    },
    "tags": []
   },
   "source": [
    "## Import Packages"
   ]
  },
  {
   "cell_type": "code",
   "execution_count": 1,
   "metadata": {
    "execution": {
     "iopub.execute_input": "2021-01-23T13:36:16.745872Z",
     "iopub.status.busy": "2021-01-23T13:36:16.745095Z",
     "iopub.status.idle": "2021-01-23T13:36:22.041503Z",
     "shell.execute_reply": "2021-01-23T13:36:22.040885Z"
    },
    "papermill": {
     "duration": 5.334618,
     "end_time": "2021-01-23T13:36:22.041628",
     "exception": false,
     "start_time": "2021-01-23T13:36:16.707010",
     "status": "completed"
    },
    "tags": []
   },
   "outputs": [],
   "source": [
    "import os\n",
    "import itertools\n",
    "import numpy as np\n",
    "import pandas as pd\n",
    "import seaborn as sns\n",
    "from tqdm import tqdm\n",
    "import matplotlib.pyplot as plt\n",
    "from sklearn.metrics import confusion_matrix\n",
    "from sklearn.metrics import classification_report\n",
    "from sklearn.model_selection import StratifiedShuffleSplit\n",
    "\n",
    "import tensorflow as tf\n",
    "from tensorflow.keras import backend as K\n",
    "from tensorflow.keras.regularizers import l2\n",
    "from tensorflow_addons.metrics import F1Score\n",
    "from tensorflow.keras.models import Model, load_model\n",
    "from tensorflow_addons.optimizers import AdamW, Lookahead\n",
    "from tensorflow.keras.callbacks import EarlyStopping\n",
    "from tensorflow.keras.callbacks import ReduceLROnPlateau\n",
    "from tensorflow.keras.callbacks import ModelCheckpoint\n",
    "from tensorflow.keras.applications import EfficientNetB5\n",
    "from tensorflow.keras.layers import Dense, Dropout, Flatten\n",
    "from tensorflow.keras.layers import BatchNormalization, Input\n",
    "from tensorflow.keras.layers import ZeroPadding2D, MaxPooling2D\n",
    "from tensorflow.keras.layers import GlobalAveragePooling2D, Add\n",
    "from tensorflow.keras.layers import GlobalMaxPooling2D, Reshape\n",
    "from tensorflow.keras.layers import Activation, Conv2D, Average\n",
    "from tensorflow.keras.preprocessing.image import ImageDataGenerator"
   ]
  },
  {
   "cell_type": "markdown",
   "metadata": {
    "papermill": {
     "duration": 0.047757,
     "end_time": "2021-01-23T13:36:22.115343",
     "exception": false,
     "start_time": "2021-01-23T13:36:22.067586",
     "status": "completed"
    },
    "tags": []
   },
   "source": [
    "## Helper Functions"
   ]
  },
  {
   "cell_type": "code",
   "execution_count": 2,
   "metadata": {
    "execution": {
     "iopub.execute_input": "2021-01-23T13:36:22.218130Z",
     "iopub.status.busy": "2021-01-23T13:36:22.215887Z",
     "iopub.status.idle": "2021-01-23T13:36:22.219107Z",
     "shell.execute_reply": "2021-01-23T13:36:22.217079Z"
    },
    "papermill": {
     "duration": 0.061992,
     "end_time": "2021-01-23T13:36:22.219268",
     "exception": false,
     "start_time": "2021-01-23T13:36:22.157276",
     "status": "completed"
    },
    "tags": []
   },
   "outputs": [],
   "source": [
    "def plot_confusion_matrix(cm, classes):\n",
    "\n",
    "    plt.imshow(cm, interpolation='nearest', cmap=plt.cm.Blues)\n",
    "    plt.title('Confusion matrix')\n",
    "    plt.colorbar()\n",
    "    tick_marks = np.arange(len(classes))\n",
    "    plt.xticks(tick_marks, classes, rotation=0)\n",
    "    plt.yticks(tick_marks, classes)\n",
    "\n",
    "    thresh = cm.max() / 2.\n",
    "    for i, j in itertools.product(range(cm.shape[0]), range(cm.shape[1])):\n",
    "        plt.text(j, i, format(cm[i, j], 'd'),\n",
    "                 horizontalalignment=\"center\",\n",
    "                 color=\"white\" if cm[i, j] > thresh else \"black\")\n",
    "\n",
    "    plt.ylabel('True label')\n",
    "    plt.xlabel('Predicted label')\n",
    "    plt.tight_layout()"
   ]
  },
  {
   "cell_type": "markdown",
   "metadata": {
    "papermill": {
     "duration": 0.038082,
     "end_time": "2021-01-23T13:36:22.299149",
     "exception": false,
     "start_time": "2021-01-23T13:36:22.261067",
     "status": "completed"
    },
    "tags": []
   },
   "source": [
    "## Read true labels + Basic EDA"
   ]
  },
  {
   "cell_type": "code",
   "execution_count": 3,
   "metadata": {
    "execution": {
     "iopub.execute_input": "2021-01-23T13:36:22.385885Z",
     "iopub.status.busy": "2021-01-23T13:36:22.384822Z",
     "iopub.status.idle": "2021-01-23T13:36:22.425627Z",
     "shell.execute_reply": "2021-01-23T13:36:22.426731Z"
    },
    "papermill": {
     "duration": 0.090636,
     "end_time": "2021-01-23T13:36:22.426891",
     "exception": false,
     "start_time": "2021-01-23T13:36:22.336255",
     "status": "completed"
    },
    "tags": []
   },
   "outputs": [
    {
     "data": {
      "text/html": [
       "<div>\n",
       "<style scoped>\n",
       "    .dataframe tbody tr th:only-of-type {\n",
       "        vertical-align: middle;\n",
       "    }\n",
       "\n",
       "    .dataframe tbody tr th {\n",
       "        vertical-align: top;\n",
       "    }\n",
       "\n",
       "    .dataframe thead th {\n",
       "        text-align: right;\n",
       "    }\n",
       "</style>\n",
       "<table border=\"1\" class=\"dataframe\">\n",
       "  <thead>\n",
       "    <tr style=\"text-align: right;\">\n",
       "      <th></th>\n",
       "      <th>Image</th>\n",
       "      <th>Class</th>\n",
       "    </tr>\n",
       "  </thead>\n",
       "  <tbody>\n",
       "    <tr>\n",
       "      <th>0</th>\n",
       "      <td>image3476.jpg</td>\n",
       "      <td>Miscellaneous</td>\n",
       "    </tr>\n",
       "    <tr>\n",
       "      <th>1</th>\n",
       "      <td>image5198.jpg</td>\n",
       "      <td>Candle</td>\n",
       "    </tr>\n",
       "    <tr>\n",
       "      <th>2</th>\n",
       "      <td>image4183.jpg</td>\n",
       "      <td>Snowman</td>\n",
       "    </tr>\n",
       "    <tr>\n",
       "      <th>3</th>\n",
       "      <td>image1806.jpg</td>\n",
       "      <td>Miscellaneous</td>\n",
       "    </tr>\n",
       "    <tr>\n",
       "      <th>4</th>\n",
       "      <td>image7831.jpg</td>\n",
       "      <td>Miscellaneous</td>\n",
       "    </tr>\n",
       "  </tbody>\n",
       "</table>\n",
       "</div>"
      ],
      "text/plain": [
       "           Image          Class\n",
       "0  image3476.jpg  Miscellaneous\n",
       "1  image5198.jpg         Candle\n",
       "2  image4183.jpg        Snowman\n",
       "3  image1806.jpg  Miscellaneous\n",
       "4  image7831.jpg  Miscellaneous"
      ]
     },
     "execution_count": 3,
     "metadata": {},
     "output_type": "execute_result"
    }
   ],
   "source": [
    "train_df = pd.read_csv(\"../input/hackereath-holiday-season-deep-learning-contest/dataset/train.csv\")\n",
    "train_df.head()"
   ]
  },
  {
   "cell_type": "code",
   "execution_count": 4,
   "metadata": {
    "execution": {
     "iopub.execute_input": "2021-01-23T13:36:22.510762Z",
     "iopub.status.busy": "2021-01-23T13:36:22.509803Z",
     "iopub.status.idle": "2021-01-23T13:36:22.512273Z",
     "shell.execute_reply": "2021-01-23T13:36:22.511567Z"
    },
    "papermill": {
     "duration": 0.046593,
     "end_time": "2021-01-23T13:36:22.512399",
     "exception": false,
     "start_time": "2021-01-23T13:36:22.465806",
     "status": "completed"
    },
    "tags": []
   },
   "outputs": [],
   "source": [
    "class_map = {\n",
    "    'Airplane': 0,\n",
    "    'Candle': 1,\n",
    "    'Christmas_Tree': 2,\n",
    "    'Jacket': 3,\n",
    "    'Miscellaneous': 4,\n",
    "    'Snowman': 5\n",
    "}"
   ]
  },
  {
   "cell_type": "code",
   "execution_count": 5,
   "metadata": {
    "execution": {
     "iopub.execute_input": "2021-01-23T13:36:22.596306Z",
     "iopub.status.busy": "2021-01-23T13:36:22.595398Z",
     "iopub.status.idle": "2021-01-23T13:36:22.629807Z",
     "shell.execute_reply": "2021-01-23T13:36:22.630790Z"
    },
    "papermill": {
     "duration": 0.080524,
     "end_time": "2021-01-23T13:36:22.631002",
     "exception": false,
     "start_time": "2021-01-23T13:36:22.550478",
     "status": "completed"
    },
    "tags": []
   },
   "outputs": [
    {
     "data": {
      "text/html": [
       "<div>\n",
       "<style scoped>\n",
       "    .dataframe tbody tr th:only-of-type {\n",
       "        vertical-align: middle;\n",
       "    }\n",
       "\n",
       "    .dataframe tbody tr th {\n",
       "        vertical-align: top;\n",
       "    }\n",
       "\n",
       "    .dataframe thead th {\n",
       "        text-align: right;\n",
       "    }\n",
       "</style>\n",
       "<table border=\"1\" class=\"dataframe\">\n",
       "  <thead>\n",
       "    <tr style=\"text-align: right;\">\n",
       "      <th></th>\n",
       "      <th>Class</th>\n",
       "      <th>Class_enc</th>\n",
       "      <th>Count</th>\n",
       "    </tr>\n",
       "  </thead>\n",
       "  <tbody>\n",
       "    <tr>\n",
       "      <th>0</th>\n",
       "      <td>Airplane</td>\n",
       "      <td>0</td>\n",
       "      <td>535</td>\n",
       "    </tr>\n",
       "    <tr>\n",
       "      <th>1</th>\n",
       "      <td>Candle</td>\n",
       "      <td>1</td>\n",
       "      <td>593</td>\n",
       "    </tr>\n",
       "    <tr>\n",
       "      <th>2</th>\n",
       "      <td>Christmas_Tree</td>\n",
       "      <td>2</td>\n",
       "      <td>1539</td>\n",
       "    </tr>\n",
       "    <tr>\n",
       "      <th>3</th>\n",
       "      <td>Jacket</td>\n",
       "      <td>3</td>\n",
       "      <td>640</td>\n",
       "    </tr>\n",
       "    <tr>\n",
       "      <th>4</th>\n",
       "      <td>Miscellaneous</td>\n",
       "      <td>4</td>\n",
       "      <td>2801</td>\n",
       "    </tr>\n",
       "    <tr>\n",
       "      <th>5</th>\n",
       "      <td>Snowman</td>\n",
       "      <td>5</td>\n",
       "      <td>361</td>\n",
       "    </tr>\n",
       "  </tbody>\n",
       "</table>\n",
       "</div>"
      ],
      "text/plain": [
       "            Class Class_enc  Count\n",
       "0        Airplane         0    535\n",
       "1          Candle         1    593\n",
       "2  Christmas_Tree         2   1539\n",
       "3          Jacket         3    640\n",
       "4   Miscellaneous         4   2801\n",
       "5         Snowman         5    361"
      ]
     },
     "execution_count": 5,
     "metadata": {},
     "output_type": "execute_result"
    }
   ],
   "source": [
    "train_df['Class_enc'] = train_df['Class'].map(class_map)\n",
    "train_df['Class_enc'] = train_df['Class_enc'].astype('str')\n",
    "train_df.groupby(['Class','Class_enc']).size().reset_index().rename(columns={0:'Count'})"
   ]
  },
  {
   "cell_type": "code",
   "execution_count": 6,
   "metadata": {
    "execution": {
     "iopub.execute_input": "2021-01-23T13:36:22.733023Z",
     "iopub.status.busy": "2021-01-23T13:36:22.732147Z",
     "iopub.status.idle": "2021-01-23T13:36:23.211978Z",
     "shell.execute_reply": "2021-01-23T13:36:23.213083Z"
    },
    "papermill": {
     "duration": 0.543935,
     "end_time": "2021-01-23T13:36:23.213257",
     "exception": false,
     "start_time": "2021-01-23T13:36:22.669322",
     "status": "completed"
    },
    "tags": []
   },
   "outputs": [
    {
     "data": {
      "image/png": "[encoded data removed]",
      "text/plain": [
       "<Figure size 864x504 with 1 Axes>"
      ]
     },
     "metadata": {
      "needs_background": "light"
     },
     "output_type": "display_data"
    }
   ],
   "source": [
    "plt.figure(figsize=(12,7))\n",
    "sns.set(style=\"darkgrid\")\n",
    "ax = sns.countplot(x=\"Class\", data=train_df)"
   ]
  },
  {
   "cell_type": "code",
   "execution_count": 7,
   "metadata": {
    "execution": {
     "iopub.execute_input": "2021-01-23T13:36:23.318199Z",
     "iopub.status.busy": "2021-01-23T13:36:23.317549Z",
     "iopub.status.idle": "2021-01-23T13:36:23.417368Z",
     "shell.execute_reply": "2021-01-23T13:36:23.416794Z"
    },
    "papermill": {
     "duration": 0.153649,
     "end_time": "2021-01-23T13:36:23.417488",
     "exception": false,
     "start_time": "2021-01-23T13:36:23.263839",
     "status": "completed"
    },
    "tags": []
   },
   "outputs": [
    {
     "name": "stderr",
     "output_type": "stream",
     "text": [
      "100%|██████████| 3489/3489 [00:00<00:00, 909843.74it/s]\n"
     ]
    },
    {
     "data": {
      "text/html": [
       "<div>\n",
       "<style scoped>\n",
       "    .dataframe tbody tr th:only-of-type {\n",
       "        vertical-align: middle;\n",
       "    }\n",
       "\n",
       "    .dataframe tbody tr th {\n",
       "        vertical-align: top;\n",
       "    }\n",
       "\n",
       "    .dataframe thead th {\n",
       "        text-align: right;\n",
       "    }\n",
       "</style>\n",
       "<table border=\"1\" class=\"dataframe\">\n",
       "  <thead>\n",
       "    <tr style=\"text-align: right;\">\n",
       "      <th></th>\n",
       "      <th>Image</th>\n",
       "      <th>Class</th>\n",
       "    </tr>\n",
       "  </thead>\n",
       "  <tbody>\n",
       "    <tr>\n",
       "      <th>0</th>\n",
       "      <td>image7761.jpg</td>\n",
       "      <td>0</td>\n",
       "    </tr>\n",
       "    <tr>\n",
       "      <th>1</th>\n",
       "      <td>image3202.jpg</td>\n",
       "      <td>0</td>\n",
       "    </tr>\n",
       "    <tr>\n",
       "      <th>2</th>\n",
       "      <td>image688.jpg</td>\n",
       "      <td>0</td>\n",
       "    </tr>\n",
       "    <tr>\n",
       "      <th>3</th>\n",
       "      <td>image233.jpg</td>\n",
       "      <td>0</td>\n",
       "    </tr>\n",
       "    <tr>\n",
       "      <th>4</th>\n",
       "      <td>image4332.jpg</td>\n",
       "      <td>0</td>\n",
       "    </tr>\n",
       "  </tbody>\n",
       "</table>\n",
       "</div>"
      ],
      "text/plain": [
       "           Image Class\n",
       "0  image7761.jpg     0\n",
       "1  image3202.jpg     0\n",
       "2   image688.jpg     0\n",
       "3   image233.jpg     0\n",
       "4  image4332.jpg     0"
      ]
     },
     "execution_count": 7,
     "metadata": {},
     "output_type": "execute_result"
    }
   ],
   "source": [
    "test_dir = \"../input/hackereath-holiday-season-deep-learning-contest/dataset/test\"\n",
    "test_files = []\n",
    "\n",
    "for file in tqdm(os.listdir(test_dir)):\n",
    "    test_files.append(file)\n",
    "\n",
    "test_df = pd.DataFrame(test_files, columns=['Image'])\n",
    "test_df['Class'] = '0'\n",
    "test_df.head()"
   ]
  },
  {
   "cell_type": "markdown",
   "metadata": {
    "papermill": {
     "duration": 0.031231,
     "end_time": "2021-01-23T13:36:23.478495",
     "exception": false,
     "start_time": "2021-01-23T13:36:23.447264",
     "status": "completed"
    },
    "tags": []
   },
   "source": [
    "## Calculate class-weights"
   ]
  },
  {
   "cell_type": "code",
   "execution_count": 8,
   "metadata": {
    "execution": {
     "iopub.execute_input": "2021-01-23T13:36:23.544955Z",
     "iopub.status.busy": "2021-01-23T13:36:23.544035Z",
     "iopub.status.idle": "2021-01-23T13:36:23.571963Z",
     "shell.execute_reply": "2021-01-23T13:36:23.571489Z"
    },
    "papermill": {
     "duration": 0.064287,
     "end_time": "2021-01-23T13:36:23.572061",
     "exception": false,
     "start_time": "2021-01-23T13:36:23.507774",
     "status": "completed"
    },
    "tags": []
   },
   "outputs": [
    {
     "data": {
      "text/plain": [
       "{0: 0.6747663551401869,\n",
       " 1: 0.6087689713322091,\n",
       " 2: 0.23456790123456786,\n",
       " 3: 0.5640625,\n",
       " 4: 0.12888254194930382,\n",
       " 5: 1.0}"
      ]
     },
     "execution_count": 8,
     "metadata": {},
     "output_type": "execute_result"
    }
   ],
   "source": [
    "temp_df = train_df.groupby(['Class_enc']).size().reset_index().rename(columns={0:'count'})\n",
    "total_count = np.sum(temp_df['count'].values)\n",
    "temp_df['class%'] = (temp_df['count'] / total_count) * 100\n",
    "lowest_pct = min(temp_df['class%'])\n",
    "temp_df['class_weight'] = lowest_pct / temp_df['class%']\n",
    "class_weight = temp_df[['Class_enc', 'class_weight']].to_dict()['class_weight']\n",
    "class_weight"
   ]
  },
  {
   "cell_type": "markdown",
   "metadata": {
    "papermill": {
     "duration": 0.030362,
     "end_time": "2021-01-23T13:36:23.632392",
     "exception": false,
     "start_time": "2021-01-23T13:36:23.602030",
     "status": "completed"
    },
    "tags": []
   },
   "source": [
    "## Split training data into train/validation datasets"
   ]
  },
  {
   "cell_type": "code",
   "execution_count": 9,
   "metadata": {
    "execution": {
     "iopub.execute_input": "2021-01-23T13:36:23.707145Z",
     "iopub.status.busy": "2021-01-23T13:36:23.706566Z",
     "iopub.status.idle": "2021-01-23T13:36:23.720277Z",
     "shell.execute_reply": "2021-01-23T13:36:23.719405Z"
    },
    "papermill": {
     "duration": 0.057527,
     "end_time": "2021-01-23T13:36:23.720444",
     "exception": false,
     "start_time": "2021-01-23T13:36:23.662917",
     "status": "completed"
    },
    "tags": []
   },
   "outputs": [
    {
     "name": "stdout",
     "output_type": "stream",
     "text": [
      "train_df shape: (5498, 3)\n",
      "validation_df shape: (971, 3)\n"
     ]
    }
   ],
   "source": [
    "sss = StratifiedShuffleSplit(n_splits=1, test_size=0.15, random_state=1)\n",
    "for train_index, validation_index in sss.split(train_df['Image'], train_df['Class_enc']):\n",
    "    train_df, validation_df = train_df.iloc[train_index], train_df.iloc[validation_index]\n",
    "\n",
    "print(\"train_df shape: {}\".format(train_df.shape))\n",
    "print(\"validation_df shape: {}\".format(validation_df.shape))"
   ]
  },
  {
   "cell_type": "code",
   "execution_count": 10,
   "metadata": {
    "execution": {
     "iopub.execute_input": "2021-01-23T13:36:23.823656Z",
     "iopub.status.busy": "2021-01-23T13:36:23.822803Z",
     "iopub.status.idle": "2021-01-23T13:36:23.836718Z",
     "shell.execute_reply": "2021-01-23T13:36:23.836196Z"
    },
    "papermill": {
     "duration": 0.050897,
     "end_time": "2021-01-23T13:36:23.836815",
     "exception": false,
     "start_time": "2021-01-23T13:36:23.785918",
     "status": "completed"
    },
    "tags": []
   },
   "outputs": [
    {
     "data": {
      "text/html": [
       "<div>\n",
       "<style scoped>\n",
       "    .dataframe tbody tr th:only-of-type {\n",
       "        vertical-align: middle;\n",
       "    }\n",
       "\n",
       "    .dataframe tbody tr th {\n",
       "        vertical-align: top;\n",
       "    }\n",
       "\n",
       "    .dataframe thead th {\n",
       "        text-align: right;\n",
       "    }\n",
       "</style>\n",
       "<table border=\"1\" class=\"dataframe\">\n",
       "  <thead>\n",
       "    <tr style=\"text-align: right;\">\n",
       "      <th></th>\n",
       "      <th>Class</th>\n",
       "      <th>Class_enc</th>\n",
       "      <th>Count</th>\n",
       "    </tr>\n",
       "  </thead>\n",
       "  <tbody>\n",
       "    <tr>\n",
       "      <th>0</th>\n",
       "      <td>Airplane</td>\n",
       "      <td>0</td>\n",
       "      <td>455</td>\n",
       "    </tr>\n",
       "    <tr>\n",
       "      <th>1</th>\n",
       "      <td>Candle</td>\n",
       "      <td>1</td>\n",
       "      <td>504</td>\n",
       "    </tr>\n",
       "    <tr>\n",
       "      <th>2</th>\n",
       "      <td>Christmas_Tree</td>\n",
       "      <td>2</td>\n",
       "      <td>1308</td>\n",
       "    </tr>\n",
       "    <tr>\n",
       "      <th>3</th>\n",
       "      <td>Jacket</td>\n",
       "      <td>3</td>\n",
       "      <td>544</td>\n",
       "    </tr>\n",
       "    <tr>\n",
       "      <th>4</th>\n",
       "      <td>Miscellaneous</td>\n",
       "      <td>4</td>\n",
       "      <td>2380</td>\n",
       "    </tr>\n",
       "    <tr>\n",
       "      <th>5</th>\n",
       "      <td>Snowman</td>\n",
       "      <td>5</td>\n",
       "      <td>307</td>\n",
       "    </tr>\n",
       "  </tbody>\n",
       "</table>\n",
       "</div>"
      ],
      "text/plain": [
       "            Class Class_enc  Count\n",
       "0        Airplane         0    455\n",
       "1          Candle         1    504\n",
       "2  Christmas_Tree         2   1308\n",
       "3          Jacket         3    544\n",
       "4   Miscellaneous         4   2380\n",
       "5         Snowman         5    307"
      ]
     },
     "execution_count": 10,
     "metadata": {},
     "output_type": "execute_result"
    }
   ],
   "source": [
    "train_df.groupby(['Class','Class_enc']).size().reset_index().rename(columns={0:'Count'})"
   ]
  },
  {
   "cell_type": "code",
   "execution_count": 11,
   "metadata": {
    "execution": {
     "iopub.execute_input": "2021-01-23T13:36:23.903262Z",
     "iopub.status.busy": "2021-01-23T13:36:23.902335Z",
     "iopub.status.idle": "2021-01-23T13:36:23.915572Z",
     "shell.execute_reply": "2021-01-23T13:36:23.914950Z"
    },
    "papermill": {
     "duration": 0.048484,
     "end_time": "2021-01-23T13:36:23.915679",
     "exception": false,
     "start_time": "2021-01-23T13:36:23.867195",
     "status": "completed"
    },
    "tags": []
   },
   "outputs": [
    {
     "data": {
      "text/html": [
       "<div>\n",
       "<style scoped>\n",
       "    .dataframe tbody tr th:only-of-type {\n",
       "        vertical-align: middle;\n",
       "    }\n",
       "\n",
       "    .dataframe tbody tr th {\n",
       "        vertical-align: top;\n",
       "    }\n",
       "\n",
       "    .dataframe thead th {\n",
       "        text-align: right;\n",
       "    }\n",
       "</style>\n",
       "<table border=\"1\" class=\"dataframe\">\n",
       "  <thead>\n",
       "    <tr style=\"text-align: right;\">\n",
       "      <th></th>\n",
       "      <th>Class</th>\n",
       "      <th>Class_enc</th>\n",
       "      <th>Count</th>\n",
       "    </tr>\n",
       "  </thead>\n",
       "  <tbody>\n",
       "    <tr>\n",
       "      <th>0</th>\n",
       "      <td>Airplane</td>\n",
       "      <td>0</td>\n",
       "      <td>80</td>\n",
       "    </tr>\n",
       "    <tr>\n",
       "      <th>1</th>\n",
       "      <td>Candle</td>\n",
       "      <td>1</td>\n",
       "      <td>89</td>\n",
       "    </tr>\n",
       "    <tr>\n",
       "      <th>2</th>\n",
       "      <td>Christmas_Tree</td>\n",
       "      <td>2</td>\n",
       "      <td>231</td>\n",
       "    </tr>\n",
       "    <tr>\n",
       "      <th>3</th>\n",
       "      <td>Jacket</td>\n",
       "      <td>3</td>\n",
       "      <td>96</td>\n",
       "    </tr>\n",
       "    <tr>\n",
       "      <th>4</th>\n",
       "      <td>Miscellaneous</td>\n",
       "      <td>4</td>\n",
       "      <td>421</td>\n",
       "    </tr>\n",
       "    <tr>\n",
       "      <th>5</th>\n",
       "      <td>Snowman</td>\n",
       "      <td>5</td>\n",
       "      <td>54</td>\n",
       "    </tr>\n",
       "  </tbody>\n",
       "</table>\n",
       "</div>"
      ],
      "text/plain": [
       "            Class Class_enc  Count\n",
       "0        Airplane         0     80\n",
       "1          Candle         1     89\n",
       "2  Christmas_Tree         2    231\n",
       "3          Jacket         3     96\n",
       "4   Miscellaneous         4    421\n",
       "5         Snowman         5     54"
      ]
     },
     "execution_count": 11,
     "metadata": {},
     "output_type": "execute_result"
    }
   ],
   "source": [
    "validation_df.groupby(['Class','Class_enc']).size().reset_index().rename(columns={0:'Count'})"
   ]
  },
  {
   "cell_type": "markdown",
   "metadata": {
    "papermill": {
     "duration": 0.031056,
     "end_time": "2021-01-23T13:36:23.977750",
     "exception": false,
     "start_time": "2021-01-23T13:36:23.946694",
     "status": "completed"
    },
    "tags": []
   },
   "source": [
    "## Model Hyperparameters"
   ]
  },
  {
   "cell_type": "code",
   "execution_count": 12,
   "metadata": {
    "execution": {
     "iopub.execute_input": "2021-01-23T13:36:24.046102Z",
     "iopub.status.busy": "2021-01-23T13:36:24.045301Z",
     "iopub.status.idle": "2021-01-23T13:36:24.047718Z",
     "shell.execute_reply": "2021-01-23T13:36:24.048291Z"
    },
    "papermill": {
     "duration": 0.03961,
     "end_time": "2021-01-23T13:36:24.048398",
     "exception": false,
     "start_time": "2021-01-23T13:36:24.008788",
     "status": "completed"
    },
    "tags": []
   },
   "outputs": [],
   "source": [
    "dataset_dir = \"../input/hackereath-holiday-season-deep-learning-contest/dataset/\"\n",
    "mini_batch_size = 128\n",
    "steps_per_epoch = int(np.ceil(train_df.shape[0] / float(mini_batch_size)))\n",
    "validation_steps = int(np.ceil(validation_df.shape[0] / float(mini_batch_size)))\n",
    "test_steps = int(np.ceil(test_df.shape[0] / float(mini_batch_size)))\n",
    "image_dim = (240, 240, 3)"
   ]
  },
  {
   "cell_type": "markdown",
   "metadata": {
    "papermill": {
     "duration": 0.031909,
     "end_time": "2021-01-23T13:36:24.111140",
     "exception": false,
     "start_time": "2021-01-23T13:36:24.079231",
     "status": "completed"
    },
    "tags": []
   },
   "source": [
    "## Configure image generators"
   ]
  },
  {
   "cell_type": "code",
   "execution_count": 13,
   "metadata": {
    "execution": {
     "iopub.execute_input": "2021-01-23T13:36:24.207284Z",
     "iopub.status.busy": "2021-01-23T13:36:24.206595Z",
     "iopub.status.idle": "2021-01-23T13:36:29.672735Z",
     "shell.execute_reply": "2021-01-23T13:36:29.673378Z"
    },
    "papermill": {
     "duration": 5.53053,
     "end_time": "2021-01-23T13:36:29.673582",
     "exception": false,
     "start_time": "2021-01-23T13:36:24.143052",
     "status": "completed"
    },
    "tags": []
   },
   "outputs": [
    {
     "name": "stdout",
     "output_type": "stream",
     "text": [
      "Found 5498 validated image filenames belonging to 6 classes.\n",
      "Found 971 validated image filenames belonging to 6 classes.\n",
      "Found 3489 validated image filenames belonging to 1 classes.\n"
     ]
    }
   ],
   "source": [
    "train_datagen = ImageDataGenerator(rotation_range = 30,\n",
    "                                   zoom_range = 0.2,\n",
    "                                   horizontal_flip = True,\n",
    "                                   fill_mode = 'nearest',\n",
    "                                   height_shift_range = 0.1,\n",
    "                                   width_shift_range = 0.1)\n",
    "\n",
    "train_generator = train_datagen.flow_from_dataframe(train_df,\n",
    "                                                    directory = os.path.join(dataset_dir,\"train\"),\n",
    "                                                    x_col = \"Image\", \n",
    "                                                    y_col = \"Class_enc\",\n",
    "                                                    target_size = (image_dim[0], image_dim[1]),\n",
    "                                                    batch_size = mini_batch_size,\n",
    "                                                    class_mode = \"categorical\",\n",
    "                                                    interpolation=\"bicubic\")\n",
    "\n",
    "validation_datagen = ImageDataGenerator()\n",
    "\n",
    "validation_generator = validation_datagen.flow_from_dataframe(validation_df,\n",
    "                                                              directory = os.path.join(dataset_dir,\"train\"),\n",
    "                                                              x_col = \"Image\",\n",
    "                                                              y_col = \"Class_enc\",\n",
    "                                                              shuffle=False,\n",
    "                                                              target_size = (image_dim[0], image_dim[1]),\n",
    "                                                              batch_size = mini_batch_size,\n",
    "                                                              class_mode = \"categorical\",\n",
    "                                                              interpolation=\"bicubic\")\n",
    "\n",
    "test_datagen = ImageDataGenerator()\n",
    "\n",
    "test_generator = test_datagen.flow_from_dataframe(test_df,\n",
    "                                                  directory = os.path.join(dataset_dir,\"test\"),\n",
    "                                                  x_col = \"Image\",\n",
    "                                                  y_col = \"Class\",\n",
    "                                                  shuffle=False,\n",
    "                                                  target_size = (image_dim[0], image_dim[1]),\n",
    "                                                  batch_size = mini_batch_size,\n",
    "                                                  class_mode = \"categorical\",\n",
    "                                                  interpolation=\"bicubic\")"
   ]
  },
  {
   "cell_type": "markdown",
   "metadata": {
    "papermill": {
     "duration": 0.03226,
     "end_time": "2021-01-23T13:36:29.739356",
     "exception": false,
     "start_time": "2021-01-23T13:36:29.707096",
     "status": "completed"
    },
    "tags": []
   },
   "source": [
    "## Build and validate the model"
   ]
  },
  {
   "cell_type": "code",
   "execution_count": 14,
   "metadata": {
    "execution": {
     "iopub.execute_input": "2021-01-23T13:36:29.840558Z",
     "iopub.status.busy": "2021-01-23T13:36:29.828787Z",
     "iopub.status.idle": "2021-01-23T13:36:29.842807Z",
     "shell.execute_reply": "2021-01-23T13:36:29.843232Z"
    },
    "papermill": {
     "duration": 0.071432,
     "end_time": "2021-01-23T13:36:29.843349",
     "exception": false,
     "start_time": "2021-01-23T13:36:29.771917",
     "status": "completed"
    },
    "tags": []
   },
   "outputs": [],
   "source": [
    "def head(x_input, input_shape=2048, ratio=8):\n",
    "    \n",
    "    #=======================================================\n",
    "    #                    Channel Attention\n",
    "    #=======================================================\n",
    "    gapavg = GlobalAveragePooling2D()(x_input)\n",
    "    gapavg = Reshape((1, 1, gapavg.shape[1]))(gapavg)\n",
    "    gapavg = Conv2D(input_shape//ratio, \n",
    "                    kernel_size=1, strides=1, use_bias=True, \n",
    "                    padding='same', kernel_regularizer=l2(0.001), \n",
    "                    kernel_initializer='he_normal')(gapavg)\n",
    "    gapavg = BatchNormalization()(gapavg)\n",
    "    gapavg = Activation('relu')(gapavg)\n",
    "    gapavg_out = Conv2D(input_shape, kernel_size=1, \n",
    "                        strides=1, padding='same', use_bias=True, \n",
    "                        kernel_regularizer=l2(0.001), \n",
    "                        kernel_initializer='he_normal')(gapavg)\n",
    "    gapavg_out = BatchNormalization()(gapavg_out)\n",
    "    gapavg_out = Activation('relu')(gapavg_out)\n",
    "\n",
    "\n",
    "    gmpmax = GlobalMaxPooling2D()(x_input)\n",
    "    gmpmax = Reshape((1, 1, gmpmax.shape[1]))(gmpmax)\n",
    "    gmpmax = Conv2D(input_shape//ratio, \n",
    "                    kernel_size=1, strides=1, use_bias=True, \n",
    "                    padding='same', kernel_regularizer=l2(0.001), \n",
    "                    kernel_initializer='he_normal')(gmpmax)\n",
    "    gmpmax = BatchNormalization()(gmpmax)\n",
    "    gmpmax = Activation('relu')(gmpmax)\n",
    "    gmpmax_out = Conv2D(input_shape, kernel_size=1, \n",
    "                        strides=1, padding='same', use_bias=True, \n",
    "                        kernel_regularizer=l2(0.001), \n",
    "                        kernel_initializer='he_normal')(gmpmax)\n",
    "    gmpmax_out = BatchNormalization()(gmpmax_out)\n",
    "    gmpmax_out = Activation('relu')(gmpmax_out)\n",
    "    canx = x_input * tf.math.sigmoid(gapavg_out + gmpmax_out)\n",
    "\n",
    "\n",
    "    #=======================================================\n",
    "    #                    Spatial Attention\n",
    "    #=======================================================\n",
    "    avg_out = tf.reduce_mean(canx, axis=3)\n",
    "    max_out = tf.reduce_max(canx,  axis=3)\n",
    "    x = tf.stack([avg_out, max_out], axis=3)\n",
    "    \n",
    "    x = Conv2D(filters=64, kernel_size=3, strides=1, \n",
    "               padding='same', use_bias=False, \n",
    "               kernel_regularizer=l2(0.001), \n",
    "               kernel_initializer='he_normal')(x)\n",
    "    x = BatchNormalization()(x)\n",
    "    x = Activation('relu')(x)\n",
    "\n",
    "    x = Conv2D(filters=32, kernel_size=3, strides=1, \n",
    "               padding='same', use_bias=False, \n",
    "               kernel_regularizer=l2(0.001), \n",
    "               kernel_initializer='he_normal')(x)\n",
    "    x = BatchNormalization()(x)\n",
    "    x = Activation('relu')(x)\n",
    "\n",
    "    x = Conv2D(filters=16, kernel_size=3, strides=1, \n",
    "               padding='same', use_bias=False, \n",
    "               kernel_regularizer=l2(0.001), \n",
    "               kernel_initializer='he_normal')(x)\n",
    "    x = BatchNormalization()(x)\n",
    "    x = Activation('relu')(x)\n",
    "\n",
    "    x = Conv2D(filters=1, kernel_size=3, strides=1, \n",
    "               padding='same', use_bias=False, \n",
    "               kernel_regularizer=l2(0.001), \n",
    "               kernel_initializer='he_normal')(x)\n",
    "    x = BatchNormalization()(x)\n",
    "    x = Activation('sigmoid')(x)\n",
    "    spnx1 = canx * x\n",
    "    spnx2 = x\n",
    "    \n",
    "    gapx   = GlobalAveragePooling2D()(spnx1)\n",
    "    wvgx   = GlobalAveragePooling2D()(spnx2)\n",
    "    gapavg = Average()([gapx, wvgx])\n",
    "    x = BatchNormalization()(gapavg)\n",
    "\n",
    "\n",
    "    #=======================================================\n",
    "    #                    Tail of the model\n",
    "    #=======================================================\n",
    "\n",
    "    x = Dense(units=2048, kernel_regularizer=l2(0.0001), \n",
    "              kernel_initializer='he_uniform')(x)\n",
    "    x = BatchNormalization()(x)\n",
    "    x = Activation('relu')(x)\n",
    "    x = Dropout(rate=0.5)(x)\n",
    "    \n",
    "    x = Dense(units=1024, kernel_regularizer=l2(0.0001), \n",
    "              kernel_initializer='he_uniform')(x)\n",
    "    x = BatchNormalization()(x)\n",
    "    x = Activation('relu')(x)\n",
    "    x = Dropout(rate=0.5)(x)\n",
    "    \n",
    "    x = Dense(units=1024, kernel_regularizer=l2(0.0001), \n",
    "              kernel_initializer='he_uniform')(x)\n",
    "    x = BatchNormalization()(x)\n",
    "    x = Activation('relu')(x)\n",
    "    x = Dropout(rate=0.5)(x)\n",
    "    \n",
    "    x = Dense(units=512, kernel_regularizer=l2(0.0001), \n",
    "              kernel_initializer='he_uniform')(x)\n",
    "    x = BatchNormalization()(x)\n",
    "    x = Activation('relu')(x)\n",
    "    x = Dropout(rate=0.5)(x)\n",
    "    \n",
    "    x = Dense(units=6, activation='softmax', \n",
    "              kernel_initializer='he_uniform')(x)\n",
    "\n",
    "    return x"
   ]
  },
  {
   "cell_type": "code",
   "execution_count": 15,
   "metadata": {
    "execution": {
     "iopub.execute_input": "2021-01-23T13:36:29.920509Z",
     "iopub.status.busy": "2021-01-23T13:36:29.919921Z",
     "iopub.status.idle": "2021-01-23T13:36:51.535232Z",
     "shell.execute_reply": "2021-01-23T13:36:51.534043Z"
    },
    "papermill": {
     "duration": 21.658802,
     "end_time": "2021-01-23T13:36:51.535365",
     "exception": false,
     "start_time": "2021-01-23T13:36:29.876563",
     "status": "completed"
    },
    "tags": []
   },
   "outputs": [
    {
     "name": "stdout",
     "output_type": "stream",
     "text": [
      "Downloading data from https://storage.googleapis.com/keras-applications/efficientnetb5_notop.h5\n",
      "115269632/115263384 [==============================] - 1s 0us/step\n"
     ]
    }
   ],
   "source": [
    "# Build the model\n",
    "base_model = EfficientNetB5(weights='imagenet', \n",
    "                            input_tensor=Input(shape=image_dim), \n",
    "                            include_top=False)\n",
    "\n",
    "model = Model(base_model.input, head(base_model.output),\n",
    "              name='HackerEarth_Holiday_Season_Model')\n",
    "\n",
    "# Load the pre-trained model\n",
    "pretrain_model = load_model('../input/holiday-season-enetb5-mav1/hackerearth_holiday_season_model.h5')\n",
    "\n",
    "# Transfer weights from pre-trained model\n",
    "model.set_weights(pretrain_model.get_weights())\n",
    "\n",
    "# Freeze weights for base model\n",
    "base_model.trainable = False\n",
    "for layer in base_model.layers[-18:]:\n",
    "    if not isinstance(layer, BatchNormalization):\n",
    "        layer.trainable = True\n",
    "\n",
    "# Compile the final model\n",
    "model.compile(loss='categorical_crossentropy', \n",
    "              metrics=[F1Score(num_classes=6, average='weighted'), \n",
    "                       'categorical_accuracy'],\n",
    "              optimizer=Lookahead(AdamW(lr=1e-2, \n",
    "                                        weight_decay=1e-5, \n",
    "                                        clipvalue=700), \n",
    "                                  sync_period=10))\n",
    "\n",
    "early = EarlyStopping(monitor=\"val_loss\", mode=\"min\", patience=10, \n",
    "                      restore_best_weights=True, verbose=1)\n",
    "\n",
    "reduce_lr = ReduceLROnPlateau(monitor=\"val_loss\", factor=0.1, \n",
    "                              min_lr=1e-6, patience=7, \n",
    "                              verbose=1, mode='min')\n",
    "\n",
    "chk_point = ModelCheckpoint('hackerearth_holiday_season_model.h5', \n",
    "                            monitor='val_loss', verbose=1, \n",
    "                            save_best_only=True, mode='min')"
   ]
  },
  {
   "cell_type": "code",
   "execution_count": 16,
   "metadata": {
    "execution": {
     "iopub.execute_input": "2021-01-23T13:36:51.641364Z",
     "iopub.status.busy": "2021-01-23T13:36:51.640530Z",
     "iopub.status.idle": "2021-01-23T14:50:08.622853Z",
     "shell.execute_reply": "2021-01-23T14:50:08.620276Z"
    },
    "papermill": {
     "duration": 4397.041566,
     "end_time": "2021-01-23T14:50:08.623012",
     "exception": false,
     "start_time": "2021-01-23T13:36:51.581446",
     "status": "completed"
    },
    "tags": []
   },
   "outputs": [
    {
     "name": "stdout",
     "output_type": "stream",
     "text": [
      "Epoch 1/275\n",
      "43/43 [==============================] - ETA: 0s - loss: 0.5721 - f1_score: 0.8577 - categorical_accuracy: 0.8552\n",
      "Epoch 00001: val_loss improved from inf to 1.03465, saving model to hackerearth_holiday_season_model.h5\n",
      "43/43 [==============================] - 101s 2s/step - loss: 0.5721 - f1_score: 0.8577 - categorical_accuracy: 0.8552 - val_loss: 1.0346 - val_f1_score: 0.8714 - val_categorical_accuracy: 0.8702\n",
      "Epoch 2/275\n",
      "43/43 [==============================] - ETA: 0s - loss: 0.3836 - f1_score: 0.8892 - categorical_accuracy: 0.8880\n",
      "Epoch 00002: val_loss improved from 1.03465 to 0.73755, saving model to hackerearth_holiday_season_model.h5\n",
      "43/43 [==============================] - 94s 2s/step - loss: 0.3836 - f1_score: 0.8892 - categorical_accuracy: 0.8880 - val_loss: 0.7376 - val_f1_score: 0.8936 - val_categorical_accuracy: 0.8908\n",
      "Epoch 3/275\n",
      "43/43 [==============================] - ETA: 0s - loss: 0.3593 - f1_score: 0.8923 - categorical_accuracy: 0.8918\n",
      "Epoch 00003: val_loss did not improve from 0.73755\n",
      "43/43 [==============================] - 83s 2s/step - loss: 0.3593 - f1_score: 0.8923 - categorical_accuracy: 0.8918 - val_loss: 0.7924 - val_f1_score: 0.8663 - val_categorical_accuracy: 0.8641\n",
      "Epoch 4/275\n",
      "43/43 [==============================] - ETA: 0s - loss: 0.3289 - f1_score: 0.8956 - categorical_accuracy: 0.8947\n",
      "Epoch 00004: val_loss improved from 0.73755 to 0.53969, saving model to hackerearth_holiday_season_model.h5\n",
      "43/43 [==============================] - 89s 2s/step - loss: 0.3289 - f1_score: 0.8956 - categorical_accuracy: 0.8947 - val_loss: 0.5397 - val_f1_score: 0.9071 - val_categorical_accuracy: 0.9063\n",
      "Epoch 5/275\n",
      "43/43 [==============================] - ETA: 0s - loss: 0.3254 - f1_score: 0.8926 - categorical_accuracy: 0.8916\n",
      "Epoch 00005: val_loss did not improve from 0.53969\n",
      "43/43 [==============================] - 83s 2s/step - loss: 0.3254 - f1_score: 0.8926 - categorical_accuracy: 0.8916 - val_loss: 0.5925 - val_f1_score: 0.9005 - val_categorical_accuracy: 0.9001\n",
      "Epoch 6/275\n",
      "43/43 [==============================] - ETA: 0s - loss: 0.3293 - f1_score: 0.8939 - categorical_accuracy: 0.8929\n",
      "Epoch 00006: val_loss did not improve from 0.53969\n",
      "43/43 [==============================] - 80s 2s/step - loss: 0.3293 - f1_score: 0.8939 - categorical_accuracy: 0.8929 - val_loss: 0.6787 - val_f1_score: 0.8767 - val_categorical_accuracy: 0.8744\n",
      "Epoch 7/275\n",
      "43/43 [==============================] - ETA: 0s - loss: 0.2718 - f1_score: 0.9090 - categorical_accuracy: 0.9085\n",
      "Epoch 00007: val_loss improved from 0.53969 to 0.48801, saving model to hackerearth_holiday_season_model.h5\n",
      "43/43 [==============================] - 89s 2s/step - loss: 0.2718 - f1_score: 0.9090 - categorical_accuracy: 0.9085 - val_loss: 0.4880 - val_f1_score: 0.9071 - val_categorical_accuracy: 0.9063\n",
      "Epoch 8/275\n",
      "43/43 [==============================] - ETA: 0s - loss: 0.4119 - f1_score: 0.8937 - categorical_accuracy: 0.8931\n",
      "Epoch 00008: val_loss did not improve from 0.48801\n",
      "43/43 [==============================] - 80s 2s/step - loss: 0.4119 - f1_score: 0.8937 - categorical_accuracy: 0.8931 - val_loss: 0.9242 - val_f1_score: 0.8665 - val_categorical_accuracy: 0.8641\n",
      "Epoch 9/275\n",
      "43/43 [==============================] - ETA: 0s - loss: 0.3549 - f1_score: 0.9020 - categorical_accuracy: 0.9009\n",
      "Epoch 00009: val_loss did not improve from 0.48801\n",
      "43/43 [==============================] - 81s 2s/step - loss: 0.3549 - f1_score: 0.9020 - categorical_accuracy: 0.9009 - val_loss: 0.6597 - val_f1_score: 0.9009 - val_categorical_accuracy: 0.8991\n",
      "Epoch 10/275\n",
      "43/43 [==============================] - ETA: 0s - loss: 0.3163 - f1_score: 0.9030 - categorical_accuracy: 0.9023\n",
      "Epoch 00010: val_loss did not improve from 0.48801\n",
      "43/43 [==============================] - 81s 2s/step - loss: 0.3163 - f1_score: 0.9030 - categorical_accuracy: 0.9023 - val_loss: 0.5142 - val_f1_score: 0.9132 - val_categorical_accuracy: 0.9125\n",
      "Epoch 11/275\n",
      "43/43 [==============================] - ETA: 0s - loss: 0.3122 - f1_score: 0.9000 - categorical_accuracy: 0.8991\n",
      "Epoch 00011: val_loss did not improve from 0.48801\n",
      "43/43 [==============================] - 80s 2s/step - loss: 0.3122 - f1_score: 0.9000 - categorical_accuracy: 0.8991 - val_loss: 0.5192 - val_f1_score: 0.9030 - val_categorical_accuracy: 0.9032\n",
      "Epoch 12/275\n",
      "43/43 [==============================] - ETA: 0s - loss: 0.3154 - f1_score: 0.9028 - categorical_accuracy: 0.9020\n",
      "Epoch 00012: val_loss did not improve from 0.48801\n",
      "43/43 [==============================] - 79s 2s/step - loss: 0.3154 - f1_score: 0.9028 - categorical_accuracy: 0.9020 - val_loss: 0.5777 - val_f1_score: 0.9018 - val_categorical_accuracy: 0.9011\n",
      "Epoch 13/275\n",
      "43/43 [==============================] - ETA: 0s - loss: 0.2873 - f1_score: 0.9147 - categorical_accuracy: 0.9138\n",
      "Epoch 00013: val_loss did not improve from 0.48801\n",
      "43/43 [==============================] - 78s 2s/step - loss: 0.2873 - f1_score: 0.9147 - categorical_accuracy: 0.9138 - val_loss: 1.6698 - val_f1_score: 0.8081 - val_categorical_accuracy: 0.8301\n",
      "Epoch 14/275\n",
      "43/43 [==============================] - ETA: 0s - loss: 0.3632 - f1_score: 0.9216 - categorical_accuracy: 0.9209\n",
      "Epoch 00014: ReduceLROnPlateau reducing learning rate to 0.0009999999776482583.\n",
      "\n",
      "Epoch 00014: val_loss did not improve from 0.48801\n",
      "43/43 [==============================] - 79s 2s/step - loss: 0.3632 - f1_score: 0.9216 - categorical_accuracy: 0.9209 - val_loss: 0.5375 - val_f1_score: 0.9083 - val_categorical_accuracy: 0.9083\n",
      "Epoch 15/275\n",
      "43/43 [==============================] - ETA: 0s - loss: 0.2607 - f1_score: 0.9265 - categorical_accuracy: 0.9262\n",
      "Epoch 00015: val_loss improved from 0.48801 to 0.45173, saving model to hackerearth_holiday_season_model.h5\n",
      "43/43 [==============================] - 86s 2s/step - loss: 0.2607 - f1_score: 0.9265 - categorical_accuracy: 0.9262 - val_loss: 0.4517 - val_f1_score: 0.9168 - val_categorical_accuracy: 0.9166\n",
      "Epoch 16/275\n",
      "43/43 [==============================] - ETA: 0s - loss: 0.2173 - f1_score: 0.9392 - categorical_accuracy: 0.9389\n",
      "Epoch 00016: val_loss improved from 0.45173 to 0.42247, saving model to hackerearth_holiday_season_model.h5\n",
      "43/43 [==============================] - 87s 2s/step - loss: 0.2173 - f1_score: 0.9392 - categorical_accuracy: 0.9389 - val_loss: 0.4225 - val_f1_score: 0.9114 - val_categorical_accuracy: 0.9114\n",
      "Epoch 17/275\n",
      "43/43 [==============================] - ETA: 0s - loss: 0.1930 - f1_score: 0.9353 - categorical_accuracy: 0.9351\n",
      "Epoch 00017: val_loss improved from 0.42247 to 0.40306, saving model to hackerearth_holiday_season_model.h5\n",
      "43/43 [==============================] - 86s 2s/step - loss: 0.1930 - f1_score: 0.9353 - categorical_accuracy: 0.9351 - val_loss: 0.4031 - val_f1_score: 0.9146 - val_categorical_accuracy: 0.9145\n",
      "Epoch 18/275\n",
      "43/43 [==============================] - ETA: 0s - loss: 0.1701 - f1_score: 0.9399 - categorical_accuracy: 0.9394\n",
      "Epoch 00018: val_loss improved from 0.40306 to 0.38429, saving model to hackerearth_holiday_season_model.h5\n",
      "43/43 [==============================] - 86s 2s/step - loss: 0.1701 - f1_score: 0.9399 - categorical_accuracy: 0.9394 - val_loss: 0.3843 - val_f1_score: 0.9134 - val_categorical_accuracy: 0.9135\n",
      "Epoch 19/275\n",
      "43/43 [==============================] - ETA: 0s - loss: 0.1574 - f1_score: 0.9373 - categorical_accuracy: 0.9369\n",
      "Epoch 00019: val_loss improved from 0.38429 to 0.37846, saving model to hackerearth_holiday_season_model.h5\n",
      "43/43 [==============================] - 86s 2s/step - loss: 0.1574 - f1_score: 0.9373 - categorical_accuracy: 0.9369 - val_loss: 0.3785 - val_f1_score: 0.9137 - val_categorical_accuracy: 0.9135\n",
      "Epoch 20/275\n",
      "43/43 [==============================] - ETA: 0s - loss: 0.1447 - f1_score: 0.9396 - categorical_accuracy: 0.9394\n",
      "Epoch 00020: val_loss improved from 0.37846 to 0.36610, saving model to hackerearth_holiday_season_model.h5\n",
      "43/43 [==============================] - 86s 2s/step - loss: 0.1447 - f1_score: 0.9396 - categorical_accuracy: 0.9394 - val_loss: 0.3661 - val_f1_score: 0.9104 - val_categorical_accuracy: 0.9104\n",
      "Epoch 21/275\n",
      "43/43 [==============================] - ETA: 0s - loss: 0.1307 - f1_score: 0.9404 - categorical_accuracy: 0.9402\n",
      "Epoch 00021: val_loss improved from 0.36610 to 0.35714, saving model to hackerearth_holiday_season_model.h5\n",
      "43/43 [==============================] - 86s 2s/step - loss: 0.1307 - f1_score: 0.9404 - categorical_accuracy: 0.9402 - val_loss: 0.3571 - val_f1_score: 0.9113 - val_categorical_accuracy: 0.9114\n",
      "Epoch 22/275\n",
      "43/43 [==============================] - ETA: 0s - loss: 0.1236 - f1_score: 0.9429 - categorical_accuracy: 0.9425\n",
      "Epoch 00022: val_loss did not improve from 0.35714\n",
      "43/43 [==============================] - 80s 2s/step - loss: 0.1236 - f1_score: 0.9429 - categorical_accuracy: 0.9425 - val_loss: 0.3580 - val_f1_score: 0.9123 - val_categorical_accuracy: 0.9125\n",
      "Epoch 23/275\n",
      "43/43 [==============================] - ETA: 0s - loss: 0.1254 - f1_score: 0.9386 - categorical_accuracy: 0.9382\n",
      "Epoch 00023: val_loss improved from 0.35714 to 0.33948, saving model to hackerearth_holiday_season_model.h5\n",
      "43/43 [==============================] - 87s 2s/step - loss: 0.1254 - f1_score: 0.9386 - categorical_accuracy: 0.9382 - val_loss: 0.3395 - val_f1_score: 0.9155 - val_categorical_accuracy: 0.9156\n",
      "Epoch 24/275\n",
      "43/43 [==============================] - ETA: 0s - loss: 0.1106 - f1_score: 0.9451 - categorical_accuracy: 0.9449\n",
      "Epoch 00024: val_loss improved from 0.33948 to 0.32786, saving model to hackerearth_holiday_season_model.h5\n",
      "43/43 [==============================] - 88s 2s/step - loss: 0.1106 - f1_score: 0.9451 - categorical_accuracy: 0.9449 - val_loss: 0.3279 - val_f1_score: 0.9164 - val_categorical_accuracy: 0.9166\n",
      "Epoch 25/275\n",
      "43/43 [==============================] - ETA: 0s - loss: 0.1122 - f1_score: 0.9430 - categorical_accuracy: 0.9427\n",
      "Epoch 00025: val_loss did not improve from 0.32786\n",
      "43/43 [==============================] - 80s 2s/step - loss: 0.1122 - f1_score: 0.9430 - categorical_accuracy: 0.9427 - val_loss: 0.3316 - val_f1_score: 0.9155 - val_categorical_accuracy: 0.9156\n",
      "Epoch 26/275\n",
      "43/43 [==============================] - ETA: 0s - loss: 0.1071 - f1_score: 0.9435 - categorical_accuracy: 0.9431\n",
      "Epoch 00026: val_loss did not improve from 0.32786\n",
      "43/43 [==============================] - 78s 2s/step - loss: 0.1071 - f1_score: 0.9435 - categorical_accuracy: 0.9431 - val_loss: 0.3310 - val_f1_score: 0.9174 - val_categorical_accuracy: 0.9176\n",
      "Epoch 27/275\n",
      "43/43 [==============================] - ETA: 0s - loss: 0.0997 - f1_score: 0.9389 - categorical_accuracy: 0.9383\n",
      "Epoch 00027: val_loss improved from 0.32786 to 0.32314, saving model to hackerearth_holiday_season_model.h5\n",
      "43/43 [==============================] - 89s 2s/step - loss: 0.0997 - f1_score: 0.9389 - categorical_accuracy: 0.9383 - val_loss: 0.3231 - val_f1_score: 0.9165 - val_categorical_accuracy: 0.9166\n",
      "Epoch 28/275\n",
      "43/43 [==============================] - ETA: 0s - loss: 0.0885 - f1_score: 0.9503 - categorical_accuracy: 0.9500\n",
      "Epoch 00028: val_loss did not improve from 0.32314\n",
      "43/43 [==============================] - 79s 2s/step - loss: 0.0885 - f1_score: 0.9503 - categorical_accuracy: 0.9500 - val_loss: 0.3252 - val_f1_score: 0.9164 - val_categorical_accuracy: 0.9166\n",
      "Epoch 29/275\n",
      "43/43 [==============================] - ETA: 0s - loss: 0.0919 - f1_score: 0.9466 - categorical_accuracy: 0.9463\n",
      "Epoch 00029: val_loss did not improve from 0.32314\n",
      "43/43 [==============================] - 80s 2s/step - loss: 0.0919 - f1_score: 0.9466 - categorical_accuracy: 0.9463 - val_loss: 0.3382 - val_f1_score: 0.9123 - val_categorical_accuracy: 0.9125\n",
      "Epoch 30/275\n",
      "43/43 [==============================] - ETA: 0s - loss: 0.0838 - f1_score: 0.9528 - categorical_accuracy: 0.9527\n",
      "Epoch 00030: val_loss improved from 0.32314 to 0.31941, saving model to hackerearth_holiday_season_model.h5\n",
      "43/43 [==============================] - 89s 2s/step - loss: 0.0838 - f1_score: 0.9528 - categorical_accuracy: 0.9527 - val_loss: 0.3194 - val_f1_score: 0.9101 - val_categorical_accuracy: 0.9104\n",
      "Epoch 31/275\n",
      "43/43 [==============================] - ETA: 0s - loss: 0.0892 - f1_score: 0.9423 - categorical_accuracy: 0.9418\n",
      "Epoch 00031: val_loss did not improve from 0.31941\n",
      "43/43 [==============================] - 80s 2s/step - loss: 0.0892 - f1_score: 0.9423 - categorical_accuracy: 0.9418 - val_loss: 0.3229 - val_f1_score: 0.9164 - val_categorical_accuracy: 0.9166\n",
      "Epoch 32/275\n",
      "43/43 [==============================] - ETA: 0s - loss: 0.0794 - f1_score: 0.9472 - categorical_accuracy: 0.9471\n",
      "Epoch 00032: val_loss improved from 0.31941 to 0.31552, saving model to hackerearth_holiday_season_model.h5\n",
      "43/43 [==============================] - 89s 2s/step - loss: 0.0794 - f1_score: 0.9472 - categorical_accuracy: 0.9471 - val_loss: 0.3155 - val_f1_score: 0.9205 - val_categorical_accuracy: 0.9207\n",
      "Epoch 33/275\n",
      "43/43 [==============================] - ETA: 0s - loss: 0.0731 - f1_score: 0.9523 - categorical_accuracy: 0.9520\n",
      "Epoch 00033: val_loss did not improve from 0.31552\n",
      "43/43 [==============================] - 80s 2s/step - loss: 0.0731 - f1_score: 0.9523 - categorical_accuracy: 0.9520 - val_loss: 0.3223 - val_f1_score: 0.9132 - val_categorical_accuracy: 0.9135\n",
      "Epoch 34/275\n",
      "43/43 [==============================] - ETA: 0s - loss: 0.0702 - f1_score: 0.9541 - categorical_accuracy: 0.9540\n",
      "Epoch 00034: val_loss improved from 0.31552 to 0.31371, saving model to hackerearth_holiday_season_model.h5\n",
      "43/43 [==============================] - 89s 2s/step - loss: 0.0702 - f1_score: 0.9541 - categorical_accuracy: 0.9540 - val_loss: 0.3137 - val_f1_score: 0.9185 - val_categorical_accuracy: 0.9186\n",
      "Epoch 35/275\n",
      "43/43 [==============================] - ETA: 0s - loss: 0.0741 - f1_score: 0.9503 - categorical_accuracy: 0.9502\n",
      "Epoch 00035: val_loss improved from 0.31371 to 0.30436, saving model to hackerearth_holiday_season_model.h5\n",
      "43/43 [==============================] - 89s 2s/step - loss: 0.0741 - f1_score: 0.9503 - categorical_accuracy: 0.9502 - val_loss: 0.3044 - val_f1_score: 0.9225 - val_categorical_accuracy: 0.9228\n",
      "Epoch 36/275\n",
      "43/43 [==============================] - ETA: 0s - loss: 0.0676 - f1_score: 0.9564 - categorical_accuracy: 0.9563\n",
      "Epoch 00036: val_loss did not improve from 0.30436\n",
      "43/43 [==============================] - 80s 2s/step - loss: 0.0676 - f1_score: 0.9564 - categorical_accuracy: 0.9563 - val_loss: 0.3320 - val_f1_score: 0.9110 - val_categorical_accuracy: 0.9114\n",
      "Epoch 37/275\n",
      "43/43 [==============================] - ETA: 0s - loss: 0.0723 - f1_score: 0.9485 - categorical_accuracy: 0.9485\n",
      "Epoch 00037: val_loss did not improve from 0.30436\n",
      "43/43 [==============================] - 91s 2s/step - loss: 0.0723 - f1_score: 0.9485 - categorical_accuracy: 0.9485 - val_loss: 0.3189 - val_f1_score: 0.9207 - val_categorical_accuracy: 0.9207\n",
      "Epoch 38/275\n",
      "43/43 [==============================] - ETA: 0s - loss: 0.0741 - f1_score: 0.9488 - categorical_accuracy: 0.9483\n",
      "Epoch 00038: val_loss did not improve from 0.30436\n",
      "43/43 [==============================] - 85s 2s/step - loss: 0.0741 - f1_score: 0.9488 - categorical_accuracy: 0.9483 - val_loss: 0.3569 - val_f1_score: 0.9199 - val_categorical_accuracy: 0.9197\n",
      "Epoch 39/275\n",
      "43/43 [==============================] - ETA: 0s - loss: 0.0715 - f1_score: 0.9509 - categorical_accuracy: 0.9505\n",
      "Epoch 00039: val_loss did not improve from 0.30436\n",
      "43/43 [==============================] - 82s 2s/step - loss: 0.0715 - f1_score: 0.9509 - categorical_accuracy: 0.9505 - val_loss: 0.3463 - val_f1_score: 0.9124 - val_categorical_accuracy: 0.9125\n",
      "Epoch 40/275\n",
      "43/43 [==============================] - ETA: 0s - loss: 0.0689 - f1_score: 0.9534 - categorical_accuracy: 0.9533\n",
      "Epoch 00040: val_loss did not improve from 0.30436\n",
      "43/43 [==============================] - 83s 2s/step - loss: 0.0689 - f1_score: 0.9534 - categorical_accuracy: 0.9533 - val_loss: 0.3308 - val_f1_score: 0.9166 - val_categorical_accuracy: 0.9166\n",
      "Epoch 41/275\n",
      "43/43 [==============================] - ETA: 0s - loss: 0.0664 - f1_score: 0.9525 - categorical_accuracy: 0.9523\n",
      "Epoch 00041: val_loss did not improve from 0.30436\n",
      "43/43 [==============================] - 83s 2s/step - loss: 0.0664 - f1_score: 0.9525 - categorical_accuracy: 0.9523 - val_loss: 0.3095 - val_f1_score: 0.9229 - val_categorical_accuracy: 0.9228\n",
      "Epoch 42/275\n",
      "43/43 [==============================] - ETA: 0s - loss: 0.0680 - f1_score: 0.9561 - categorical_accuracy: 0.9560\n",
      "Epoch 00042: ReduceLROnPlateau reducing learning rate to 9.999999310821295e-05.\n",
      "\n",
      "Epoch 00042: val_loss did not improve from 0.30436\n",
      "43/43 [==============================] - 82s 2s/step - loss: 0.0680 - f1_score: 0.9561 - categorical_accuracy: 0.9560 - val_loss: 0.3326 - val_f1_score: 0.9198 - val_categorical_accuracy: 0.9197\n",
      "Epoch 43/275\n",
      "43/43 [==============================] - ETA: 0s - loss: 0.0642 - f1_score: 0.9575 - categorical_accuracy: 0.9574\n",
      "Epoch 00043: val_loss did not improve from 0.30436\n",
      "43/43 [==============================] - 82s 2s/step - loss: 0.0642 - f1_score: 0.9575 - categorical_accuracy: 0.9574 - val_loss: 0.3202 - val_f1_score: 0.9290 - val_categorical_accuracy: 0.9289\n",
      "Epoch 44/275\n",
      "43/43 [==============================] - ETA: 0s - loss: 0.0617 - f1_score: 0.9584 - categorical_accuracy: 0.9583\n",
      "Epoch 00044: val_loss did not improve from 0.30436\n",
      "43/43 [==============================] - 82s 2s/step - loss: 0.0617 - f1_score: 0.9584 - categorical_accuracy: 0.9583 - val_loss: 0.3178 - val_f1_score: 0.9249 - val_categorical_accuracy: 0.9248\n",
      "Epoch 45/275\n",
      "43/43 [==============================] - ETA: 0s - loss: 0.0593 - f1_score: 0.9553 - categorical_accuracy: 0.9553Restoring model weights from the end of the best epoch.\n",
      "\n",
      "Epoch 00045: val_loss did not improve from 0.30436\n",
      "43/43 [==============================] - 84s 2s/step - loss: 0.0593 - f1_score: 0.9553 - categorical_accuracy: 0.9553 - val_loss: 0.3176 - val_f1_score: 0.9249 - val_categorical_accuracy: 0.9248\n",
      "Epoch 00045: early stopping\n"
     ]
    }
   ],
   "source": [
    "history = model.fit(\n",
    "    train_generator, \n",
    "    steps_per_epoch=steps_per_epoch,\n",
    "    class_weight=class_weight, \n",
    "    epochs=275, \n",
    "    verbose=1, \n",
    "    workers=5,\n",
    "    callbacks=[reduce_lr, early, chk_point], \n",
    "    validation_data=validation_generator,\n",
    "    validation_steps=validation_steps\n",
    ")"
   ]
  },
  {
   "cell_type": "code",
   "execution_count": 17,
   "metadata": {
    "execution": {
     "iopub.execute_input": "2021-01-23T14:50:16.026330Z",
     "iopub.status.busy": "2021-01-23T14:50:16.025462Z",
     "iopub.status.idle": "2021-01-23T14:50:18.810264Z",
     "shell.execute_reply": "2021-01-23T14:50:18.810912Z"
    },
    "papermill": {
     "duration": 6.23424,
     "end_time": "2021-01-23T14:50:18.811095",
     "exception": false,
     "start_time": "2021-01-23T14:50:12.576855",
     "status": "completed"
    },
    "tags": []
   },
   "outputs": [
    {
     "data": {
      "image/png": "[encoded data removed]",
      "text/plain": [
       "<Figure size 2160x720 with 3 Axes>"
      ]
     },
     "metadata": {},
     "output_type": "display_data"
    }
   ],
   "source": [
    "_, ax = plt.subplots(1, 3, figsize=(30, 10))\n",
    "\n",
    "ax[0].plot(history.history['loss'], label='train_loss')\n",
    "ax[0].plot(history.history['val_loss'], label='val_loss')\n",
    "ax[0].set_ylabel('Loss')\n",
    "ax[0].set_xlabel('Epoch')\n",
    "ax[0].set_title(\"Model Loss Curve\")\n",
    "ax[0].legend()\n",
    "ax[0].grid()\n",
    "\n",
    "ax[1].plot(history.history['f1_score'], label='train_f1_score')\n",
    "ax[1].plot(history.history['val_f1_score'], label='val_f1_score')\n",
    "ax[1].set_ylabel('F1-Score')\n",
    "ax[1].set_xlabel('Epoch')\n",
    "ax[1].set_title(\"Model F1-Score Curve\")\n",
    "ax[1].legend()\n",
    "ax[1].grid()\n",
    "\n",
    "ax[2].plot(history.history['categorical_accuracy'], label='train_accuracy')\n",
    "ax[2].plot(history.history['val_categorical_accuracy'], label='val_accuracy')\n",
    "ax[2].set_ylabel('Accuracy')\n",
    "ax[2].set_xlabel('Epoch')\n",
    "ax[2].set_title(\"Model Accuracy Curve\")\n",
    "ax[2].legend()\n",
    "ax[2].grid()"
   ]
  },
  {
   "cell_type": "markdown",
   "metadata": {
    "papermill": {
     "duration": 1.083917,
     "end_time": "2021-01-23T14:50:20.995227",
     "exception": false,
     "start_time": "2021-01-23T14:50:19.911310",
     "status": "completed"
    },
    "tags": []
   },
   "source": [
    "## Check classification report"
   ]
  },
  {
   "cell_type": "code",
   "execution_count": 18,
   "metadata": {
    "execution": {
     "iopub.execute_input": "2021-01-23T14:50:22.582998Z",
     "iopub.status.busy": "2021-01-23T14:50:22.566781Z",
     "iopub.status.idle": "2021-01-23T14:50:28.651435Z",
     "shell.execute_reply": "2021-01-23T14:50:28.650720Z"
    },
    "papermill": {
     "duration": 6.836359,
     "end_time": "2021-01-23T14:50:28.651583",
     "exception": false,
     "start_time": "2021-01-23T14:50:21.815224",
     "status": "completed"
    },
    "tags": []
   },
   "outputs": [],
   "source": [
    "model = load_model('./hackerearth_holiday_season_model.h5')"
   ]
  },
  {
   "cell_type": "code",
   "execution_count": 19,
   "metadata": {
    "execution": {
     "iopub.execute_input": "2021-01-23T14:50:30.162434Z",
     "iopub.status.busy": "2021-01-23T14:50:30.161730Z",
     "iopub.status.idle": "2021-01-23T14:50:38.092729Z",
     "shell.execute_reply": "2021-01-23T14:50:38.093391Z"
    },
    "papermill": {
     "duration": 8.693677,
     "end_time": "2021-01-23T14:50:38.093582",
     "exception": false,
     "start_time": "2021-01-23T14:50:29.399905",
     "status": "completed"
    },
    "tags": []
   },
   "outputs": [
    {
     "name": "stdout",
     "output_type": "stream",
     "text": [
      "8/8 [==============================] - 4s 476ms/step\n",
      "\n",
      "y_true: (971,)\n",
      "y_pred: (971,)\n"
     ]
    }
   ],
   "source": [
    "y_true = np.array([validation_generator.classes]).ravel()\n",
    "y_pred = model.predict(validation_generator, verbose=1)\n",
    "y_pred = np.argmax(y_pred, axis=1)\n",
    "\n",
    "print(\"\\ny_true: {}\".format(y_true.shape))\n",
    "print(\"y_pred: {}\".format(y_pred.shape))"
   ]
  },
  {
   "cell_type": "code",
   "execution_count": 20,
   "metadata": {
    "execution": {
     "iopub.execute_input": "2021-01-23T14:50:39.581669Z",
     "iopub.status.busy": "2021-01-23T14:50:39.580768Z",
     "iopub.status.idle": "2021-01-23T14:50:39.592777Z",
     "shell.execute_reply": "2021-01-23T14:50:39.592181Z"
    },
    "papermill": {
     "duration": 0.748791,
     "end_time": "2021-01-23T14:50:39.592876",
     "exception": false,
     "start_time": "2021-01-23T14:50:38.844085",
     "status": "completed"
    },
    "tags": []
   },
   "outputs": [
    {
     "name": "stdout",
     "output_type": "stream",
     "text": [
      "              precision    recall  f1-score   support\n",
      "\n",
      "           0       0.97      0.91      0.94        80\n",
      "           1       0.92      0.82      0.87        89\n",
      "           2       0.95      0.91      0.93       231\n",
      "           3       0.97      0.89      0.92        96\n",
      "           4       0.89      0.96      0.93       421\n",
      "           5       0.89      0.91      0.90        54\n",
      "\n",
      "    accuracy                           0.92       971\n",
      "   macro avg       0.93      0.90      0.92       971\n",
      "weighted avg       0.92      0.92      0.92       971\n",
      "\n"
     ]
    }
   ],
   "source": [
    "print(classification_report(y_true, y_pred))"
   ]
  },
  {
   "cell_type": "code",
   "execution_count": 21,
   "metadata": {
    "execution": {
     "iopub.execute_input": "2021-01-23T14:50:41.246851Z",
     "iopub.status.busy": "2021-01-23T14:50:41.245957Z",
     "iopub.status.idle": "2021-01-23T14:50:41.844551Z",
     "shell.execute_reply": "2021-01-23T14:50:41.845169Z"
    },
    "papermill": {
     "duration": 1.492089,
     "end_time": "2021-01-23T14:50:41.845340",
     "exception": false,
     "start_time": "2021-01-23T14:50:40.353251",
     "status": "completed"
    },
    "tags": []
   },
   "outputs": [
    {
     "data": {
      "image/png": "[encoded data removed]",
      "text/plain": [
       "<Figure size 864x504 with 2 Axes>"
      ]
     },
     "metadata": {},
     "output_type": "display_data"
    }
   ],
   "source": [
    "cnf_matrix = confusion_matrix(y_true, y_pred, labels=[0, 1, 2, 3, 4, 5])\n",
    "np.set_printoptions(precision=2)\n",
    "plt.figure(figsize=(12,7))\n",
    "plot_confusion_matrix(cnf_matrix, classes=[0, 1, 2, 3, 4, 5])"
   ]
  },
  {
   "cell_type": "markdown",
   "metadata": {
    "papermill": {
     "duration": 0.735735,
     "end_time": "2021-01-23T14:50:43.381628",
     "exception": false,
     "start_time": "2021-01-23T14:50:42.645893",
     "status": "completed"
    },
    "tags": []
   },
   "source": [
    "## Create submission file"
   ]
  },
  {
   "cell_type": "code",
   "execution_count": 22,
   "metadata": {
    "execution": {
     "iopub.execute_input": "2021-01-23T14:50:44.862762Z",
     "iopub.status.busy": "2021-01-23T14:50:44.860861Z",
     "iopub.status.idle": "2021-01-23T14:50:44.863434Z",
     "shell.execute_reply": "2021-01-23T14:50:44.863897Z"
    },
    "papermill": {
     "duration": 0.745746,
     "end_time": "2021-01-23T14:50:44.864018",
     "exception": false,
     "start_time": "2021-01-23T14:50:44.118272",
     "status": "completed"
    },
    "tags": []
   },
   "outputs": [],
   "source": [
    "rev_class_map = {\n",
    "    0: 'Airplane',\n",
    "    1: 'Candle',\n",
    "    2: 'Christmas_Tree',\n",
    "    3: 'Jacket',\n",
    "    4: 'Miscellaneous',\n",
    "    5: 'Snowman'\n",
    "}"
   ]
  },
  {
   "cell_type": "code",
   "execution_count": 23,
   "metadata": {
    "execution": {
     "iopub.execute_input": "2021-01-23T14:50:46.864467Z",
     "iopub.status.busy": "2021-01-23T14:50:46.863817Z",
     "iopub.status.idle": "2021-01-23T14:51:09.462671Z",
     "shell.execute_reply": "2021-01-23T14:51:09.462009Z"
    },
    "papermill": {
     "duration": 23.533263,
     "end_time": "2021-01-23T14:51:09.462787",
     "exception": false,
     "start_time": "2021-01-23T14:50:45.929524",
     "status": "completed"
    },
    "tags": []
   },
   "outputs": [
    {
     "name": "stdout",
     "output_type": "stream",
     "text": [
      "28/28 [==============================] - 21s 754ms/step\n",
      "(3489,)\n"
     ]
    }
   ],
   "source": [
    "y_pred_final = model.predict(test_generator, verbose=1)\n",
    "y_pred_final = np.argmax(y_pred_final, axis=1)\n",
    "print(y_pred_final.shape)"
   ]
  },
  {
   "cell_type": "code",
   "execution_count": 24,
   "metadata": {
    "execution": {
     "iopub.execute_input": "2021-01-23T14:51:11.252744Z",
     "iopub.status.busy": "2021-01-23T14:51:11.251684Z",
     "iopub.status.idle": "2021-01-23T14:51:11.256372Z",
     "shell.execute_reply": "2021-01-23T14:51:11.255916Z"
    },
    "papermill": {
     "duration": 0.980984,
     "end_time": "2021-01-23T14:51:11.256496",
     "exception": false,
     "start_time": "2021-01-23T14:51:10.275512",
     "status": "completed"
    },
    "tags": []
   },
   "outputs": [
    {
     "data": {
      "text/html": [
       "<div>\n",
       "<style scoped>\n",
       "    .dataframe tbody tr th:only-of-type {\n",
       "        vertical-align: middle;\n",
       "    }\n",
       "\n",
       "    .dataframe tbody tr th {\n",
       "        vertical-align: top;\n",
       "    }\n",
       "\n",
       "    .dataframe thead th {\n",
       "        text-align: right;\n",
       "    }\n",
       "</style>\n",
       "<table border=\"1\" class=\"dataframe\">\n",
       "  <thead>\n",
       "    <tr style=\"text-align: right;\">\n",
       "      <th></th>\n",
       "      <th>Image</th>\n",
       "      <th>Class</th>\n",
       "    </tr>\n",
       "  </thead>\n",
       "  <tbody>\n",
       "    <tr>\n",
       "      <th>0</th>\n",
       "      <td>image7761.jpg</td>\n",
       "      <td>Miscellaneous</td>\n",
       "    </tr>\n",
       "    <tr>\n",
       "      <th>1</th>\n",
       "      <td>image3202.jpg</td>\n",
       "      <td>Miscellaneous</td>\n",
       "    </tr>\n",
       "    <tr>\n",
       "      <th>2</th>\n",
       "      <td>image688.jpg</td>\n",
       "      <td>Snowman</td>\n",
       "    </tr>\n",
       "    <tr>\n",
       "      <th>3</th>\n",
       "      <td>image233.jpg</td>\n",
       "      <td>Candle</td>\n",
       "    </tr>\n",
       "    <tr>\n",
       "      <th>4</th>\n",
       "      <td>image4332.jpg</td>\n",
       "      <td>Christmas_Tree</td>\n",
       "    </tr>\n",
       "  </tbody>\n",
       "</table>\n",
       "</div>"
      ],
      "text/plain": [
       "           Image           Class\n",
       "0  image7761.jpg   Miscellaneous\n",
       "1  image3202.jpg   Miscellaneous\n",
       "2   image688.jpg         Snowman\n",
       "3   image233.jpg          Candle\n",
       "4  image4332.jpg  Christmas_Tree"
      ]
     },
     "execution_count": 24,
     "metadata": {},
     "output_type": "execute_result"
    }
   ],
   "source": [
    "test_df['Class'] = y_pred_final\n",
    "test_df['Class'] = test_df['Class'].map(rev_class_map)\n",
    "test_df.head()"
   ]
  },
  {
   "cell_type": "code",
   "execution_count": 25,
   "metadata": {
    "execution": {
     "iopub.execute_input": "2021-01-23T14:51:12.777218Z",
     "iopub.status.busy": "2021-01-23T14:51:12.776605Z",
     "iopub.status.idle": "2021-01-23T14:51:13.132327Z",
     "shell.execute_reply": "2021-01-23T14:51:13.132984Z"
    },
    "papermill": {
     "duration": 1.115213,
     "end_time": "2021-01-23T14:51:13.133143",
     "exception": false,
     "start_time": "2021-01-23T14:51:12.017930",
     "status": "completed"
    },
    "tags": []
   },
   "outputs": [],
   "source": [
    "test_df.to_csv(\"/kaggle/working/submission.csv\", index=False)"
   ]
  },
  {
   "cell_type": "code",
   "execution_count": null,
   "metadata": {
    "papermill": {
     "duration": 0.763507,
     "end_time": "2021-01-23T14:51:14.892134",
     "exception": false,
     "start_time": "2021-01-23T14:51:14.128627",
     "status": "completed"
    },
    "tags": []
   },
   "outputs": [],
   "source": []
  }
 ],
 "metadata": {
  "kernelspec": {
   "display_name": "Python 3",
   "language": "python",
   "name": "python3"
  },
  "language_info": {
   "codemirror_mode": {
    "name": "ipython",
    "version": 3
   },
   "file_extension": ".py",
   "mimetype": "text/x-python",
   "name": "python",
   "nbconvert_exporter": "python",
   "pygments_lexer": "ipython3",
   "version": "3.7.9"
  },
  "papermill": {
   "duration": 4505.009773,
   "end_time": "2021-01-23T14:51:17.545770",
   "environment_variables": {},
   "exception": null,
   "input_path": "__notebook__.ipynb",
   "output_path": "__notebook__.ipynb",
   "parameters": {},
   "start_time": "2021-01-23T13:36:12.535997",
   "version": "2.1.0"
  }
 },
 "nbformat": 4,
 "nbformat_minor": 4
}
