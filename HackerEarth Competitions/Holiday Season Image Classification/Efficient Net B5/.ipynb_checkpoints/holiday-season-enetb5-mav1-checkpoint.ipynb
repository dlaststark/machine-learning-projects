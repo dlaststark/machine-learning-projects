{
 "cells": [
  {
   "cell_type": "markdown",
   "metadata": {
    "papermill": {
     "duration": 0.028055,
     "end_time": "2021-01-23T12:13:47.108195",
     "exception": false,
     "start_time": "2021-01-23T12:13:47.080140",
     "status": "completed"
    },
    "tags": []
   },
   "source": [
    "## Import Packages"
   ]
  },
  {
   "cell_type": "code",
   "execution_count": 1,
   "metadata": {
    "execution": {
     "iopub.execute_input": "2021-01-23T12:13:47.178192Z",
     "iopub.status.busy": "2021-01-23T12:13:47.177482Z",
     "iopub.status.idle": "2021-01-23T12:13:53.394976Z",
     "shell.execute_reply": "2021-01-23T12:13:53.394329Z"
    },
    "papermill": {
     "duration": 6.257265,
     "end_time": "2021-01-23T12:13:53.395103",
     "exception": false,
     "start_time": "2021-01-23T12:13:47.137838",
     "status": "completed"
    },
    "tags": []
   },
   "outputs": [],
   "source": [
    "import os\n",
    "import itertools\n",
    "import numpy as np\n",
    "import pandas as pd\n",
    "import seaborn as sns\n",
    "from tqdm import tqdm\n",
    "import matplotlib.pyplot as plt\n",
    "from sklearn.metrics import confusion_matrix\n",
    "from sklearn.metrics import classification_report\n",
    "from sklearn.model_selection import StratifiedShuffleSplit\n",
    "\n",
    "import tensorflow as tf\n",
    "from tensorflow.keras import backend as K\n",
    "from tensorflow.keras.regularizers import l2\n",
    "from tensorflow_addons.metrics import F1Score\n",
    "from tensorflow.keras.models import Model, load_model\n",
    "from tensorflow_addons.optimizers import AdamW, Lookahead\n",
    "from tensorflow.keras.callbacks import EarlyStopping\n",
    "from tensorflow.keras.callbacks import ReduceLROnPlateau\n",
    "from tensorflow.keras.callbacks import ModelCheckpoint\n",
    "from tensorflow.keras.applications import EfficientNetB5\n",
    "from tensorflow.keras.layers import Dense, Dropout, Flatten\n",
    "from tensorflow.keras.layers import BatchNormalization, Input\n",
    "from tensorflow.keras.layers import ZeroPadding2D, MaxPooling2D\n",
    "from tensorflow.keras.layers import GlobalAveragePooling2D, Add\n",
    "from tensorflow.keras.layers import GlobalMaxPooling2D, Reshape\n",
    "from tensorflow.keras.layers import Activation, Conv2D, Average\n",
    "from tensorflow.keras.preprocessing.image import ImageDataGenerator"
   ]
  },
  {
   "cell_type": "markdown",
   "metadata": {
    "papermill": {
     "duration": 0.026806,
     "end_time": "2021-01-23T12:13:53.449182",
     "exception": false,
     "start_time": "2021-01-23T12:13:53.422376",
     "status": "completed"
    },
    "tags": []
   },
   "source": [
    "## Helper Functions"
   ]
  },
  {
   "cell_type": "code",
   "execution_count": 2,
   "metadata": {
    "execution": {
     "iopub.execute_input": "2021-01-23T12:13:53.518107Z",
     "iopub.status.busy": "2021-01-23T12:13:53.516198Z",
     "iopub.status.idle": "2021-01-23T12:13:53.518820Z",
     "shell.execute_reply": "2021-01-23T12:13:53.519329Z"
    },
    "papermill": {
     "duration": 0.043783,
     "end_time": "2021-01-23T12:13:53.519455",
     "exception": false,
     "start_time": "2021-01-23T12:13:53.475672",
     "status": "completed"
    },
    "tags": []
   },
   "outputs": [],
   "source": [
    "def plot_confusion_matrix(cm, classes):\n",
    "\n",
    "    plt.imshow(cm, interpolation='nearest', cmap=plt.cm.Blues)\n",
    "    plt.title('Confusion matrix')\n",
    "    plt.colorbar()\n",
    "    tick_marks = np.arange(len(classes))\n",
    "    plt.xticks(tick_marks, classes, rotation=0)\n",
    "    plt.yticks(tick_marks, classes)\n",
    "\n",
    "    thresh = cm.max() / 2.\n",
    "    for i, j in itertools.product(range(cm.shape[0]), range(cm.shape[1])):\n",
    "        plt.text(j, i, format(cm[i, j], 'd'),\n",
    "                 horizontalalignment=\"center\",\n",
    "                 color=\"white\" if cm[i, j] > thresh else \"black\")\n",
    "\n",
    "    plt.ylabel('True label')\n",
    "    plt.xlabel('Predicted label')\n",
    "    plt.tight_layout()"
   ]
  },
  {
   "cell_type": "markdown",
   "metadata": {
    "papermill": {
     "duration": 0.027404,
     "end_time": "2021-01-23T12:13:53.574063",
     "exception": false,
     "start_time": "2021-01-23T12:13:53.546659",
     "status": "completed"
    },
    "tags": []
   },
   "source": [
    "## Read true labels + Basic EDA"
   ]
  },
  {
   "cell_type": "code",
   "execution_count": 3,
   "metadata": {
    "execution": {
     "iopub.execute_input": "2021-01-23T12:13:53.646157Z",
     "iopub.status.busy": "2021-01-23T12:13:53.645398Z",
     "iopub.status.idle": "2021-01-23T12:13:53.684166Z",
     "shell.execute_reply": "2021-01-23T12:13:53.683172Z"
    },
    "papermill": {
     "duration": 0.083311,
     "end_time": "2021-01-23T12:13:53.684276",
     "exception": false,
     "start_time": "2021-01-23T12:13:53.600965",
     "status": "completed"
    },
    "tags": []
   },
   "outputs": [
    {
     "data": {
      "text/html": [
       "<div>\n",
       "<style scoped>\n",
       "    .dataframe tbody tr th:only-of-type {\n",
       "        vertical-align: middle;\n",
       "    }\n",
       "\n",
       "    .dataframe tbody tr th {\n",
       "        vertical-align: top;\n",
       "    }\n",
       "\n",
       "    .dataframe thead th {\n",
       "        text-align: right;\n",
       "    }\n",
       "</style>\n",
       "<table border=\"1\" class=\"dataframe\">\n",
       "  <thead>\n",
       "    <tr style=\"text-align: right;\">\n",
       "      <th></th>\n",
       "      <th>Image</th>\n",
       "      <th>Class</th>\n",
       "    </tr>\n",
       "  </thead>\n",
       "  <tbody>\n",
       "    <tr>\n",
       "      <th>0</th>\n",
       "      <td>image3476.jpg</td>\n",
       "      <td>Miscellaneous</td>\n",
       "    </tr>\n",
       "    <tr>\n",
       "      <th>1</th>\n",
       "      <td>image5198.jpg</td>\n",
       "      <td>Candle</td>\n",
       "    </tr>\n",
       "    <tr>\n",
       "      <th>2</th>\n",
       "      <td>image4183.jpg</td>\n",
       "      <td>Snowman</td>\n",
       "    </tr>\n",
       "    <tr>\n",
       "      <th>3</th>\n",
       "      <td>image1806.jpg</td>\n",
       "      <td>Miscellaneous</td>\n",
       "    </tr>\n",
       "    <tr>\n",
       "      <th>4</th>\n",
       "      <td>image7831.jpg</td>\n",
       "      <td>Miscellaneous</td>\n",
       "    </tr>\n",
       "  </tbody>\n",
       "</table>\n",
       "</div>"
      ],
      "text/plain": [
       "           Image          Class\n",
       "0  image3476.jpg  Miscellaneous\n",
       "1  image5198.jpg         Candle\n",
       "2  image4183.jpg        Snowman\n",
       "3  image1806.jpg  Miscellaneous\n",
       "4  image7831.jpg  Miscellaneous"
      ]
     },
     "execution_count": 3,
     "metadata": {},
     "output_type": "execute_result"
    }
   ],
   "source": [
    "train_df = pd.read_csv(\"../input/hackereath-holiday-season-deep-learning-contest/dataset/train.csv\")\n",
    "train_df.head()"
   ]
  },
  {
   "cell_type": "code",
   "execution_count": 4,
   "metadata": {
    "execution": {
     "iopub.execute_input": "2021-01-23T12:13:53.746308Z",
     "iopub.status.busy": "2021-01-23T12:13:53.744610Z",
     "iopub.status.idle": "2021-01-23T12:13:53.746961Z",
     "shell.execute_reply": "2021-01-23T12:13:53.747424Z"
    },
    "papermill": {
     "duration": 0.035444,
     "end_time": "2021-01-23T12:13:53.747534",
     "exception": false,
     "start_time": "2021-01-23T12:13:53.712090",
     "status": "completed"
    },
    "tags": []
   },
   "outputs": [],
   "source": [
    "class_map = {\n",
    "    'Airplane': 0,\n",
    "    'Candle': 1,\n",
    "    'Christmas_Tree': 2,\n",
    "    'Jacket': 3,\n",
    "    'Miscellaneous': 4,\n",
    "    'Snowman': 5\n",
    "}"
   ]
  },
  {
   "cell_type": "code",
   "execution_count": 5,
   "metadata": {
    "execution": {
     "iopub.execute_input": "2021-01-23T12:13:53.818482Z",
     "iopub.status.busy": "2021-01-23T12:13:53.817370Z",
     "iopub.status.idle": "2021-01-23T12:13:53.832337Z",
     "shell.execute_reply": "2021-01-23T12:13:53.832800Z"
    },
    "papermill": {
     "duration": 0.058188,
     "end_time": "2021-01-23T12:13:53.832926",
     "exception": false,
     "start_time": "2021-01-23T12:13:53.774738",
     "status": "completed"
    },
    "tags": []
   },
   "outputs": [
    {
     "data": {
      "text/html": [
       "<div>\n",
       "<style scoped>\n",
       "    .dataframe tbody tr th:only-of-type {\n",
       "        vertical-align: middle;\n",
       "    }\n",
       "\n",
       "    .dataframe tbody tr th {\n",
       "        vertical-align: top;\n",
       "    }\n",
       "\n",
       "    .dataframe thead th {\n",
       "        text-align: right;\n",
       "    }\n",
       "</style>\n",
       "<table border=\"1\" class=\"dataframe\">\n",
       "  <thead>\n",
       "    <tr style=\"text-align: right;\">\n",
       "      <th></th>\n",
       "      <th>Class</th>\n",
       "      <th>Class_enc</th>\n",
       "      <th>Count</th>\n",
       "    </tr>\n",
       "  </thead>\n",
       "  <tbody>\n",
       "    <tr>\n",
       "      <th>0</th>\n",
       "      <td>Airplane</td>\n",
       "      <td>0</td>\n",
       "      <td>535</td>\n",
       "    </tr>\n",
       "    <tr>\n",
       "      <th>1</th>\n",
       "      <td>Candle</td>\n",
       "      <td>1</td>\n",
       "      <td>593</td>\n",
       "    </tr>\n",
       "    <tr>\n",
       "      <th>2</th>\n",
       "      <td>Christmas_Tree</td>\n",
       "      <td>2</td>\n",
       "      <td>1539</td>\n",
       "    </tr>\n",
       "    <tr>\n",
       "      <th>3</th>\n",
       "      <td>Jacket</td>\n",
       "      <td>3</td>\n",
       "      <td>640</td>\n",
       "    </tr>\n",
       "    <tr>\n",
       "      <th>4</th>\n",
       "      <td>Miscellaneous</td>\n",
       "      <td>4</td>\n",
       "      <td>2801</td>\n",
       "    </tr>\n",
       "    <tr>\n",
       "      <th>5</th>\n",
       "      <td>Snowman</td>\n",
       "      <td>5</td>\n",
       "      <td>361</td>\n",
       "    </tr>\n",
       "  </tbody>\n",
       "</table>\n",
       "</div>"
      ],
      "text/plain": [
       "            Class Class_enc  Count\n",
       "0        Airplane         0    535\n",
       "1          Candle         1    593\n",
       "2  Christmas_Tree         2   1539\n",
       "3          Jacket         3    640\n",
       "4   Miscellaneous         4   2801\n",
       "5         Snowman         5    361"
      ]
     },
     "execution_count": 5,
     "metadata": {},
     "output_type": "execute_result"
    }
   ],
   "source": [
    "train_df['Class_enc'] = train_df['Class'].map(class_map)\n",
    "train_df['Class_enc'] = train_df['Class_enc'].astype('str')\n",
    "train_df.groupby(['Class','Class_enc']).size().reset_index().rename(columns={0:'Count'})"
   ]
  },
  {
   "cell_type": "code",
   "execution_count": 6,
   "metadata": {
    "execution": {
     "iopub.execute_input": "2021-01-23T12:13:53.892036Z",
     "iopub.status.busy": "2021-01-23T12:13:53.891246Z",
     "iopub.status.idle": "2021-01-23T12:13:54.145395Z",
     "shell.execute_reply": "2021-01-23T12:13:54.144353Z"
    },
    "papermill": {
     "duration": 0.285443,
     "end_time": "2021-01-23T12:13:54.145516",
     "exception": false,
     "start_time": "2021-01-23T12:13:53.860073",
     "status": "completed"
    },
    "tags": []
   },
   "outputs": [
    {
     "data": {
      "image/png": "[encoded data removed]",
      "text/plain": [
       "<Figure size 864x504 with 1 Axes>"
      ]
     },
     "metadata": {
      "needs_background": "light"
     },
     "output_type": "display_data"
    }
   ],
   "source": [
    "plt.figure(figsize=(12,7))\n",
    "sns.set(style=\"darkgrid\")\n",
    "ax = sns.countplot(x=\"Class\", data=train_df)"
   ]
  },
  {
   "cell_type": "code",
   "execution_count": 7,
   "metadata": {
    "execution": {
     "iopub.execute_input": "2021-01-23T12:13:54.217262Z",
     "iopub.status.busy": "2021-01-23T12:13:54.216615Z",
     "iopub.status.idle": "2021-01-23T12:13:54.737003Z",
     "shell.execute_reply": "2021-01-23T12:13:54.736432Z"
    },
    "papermill": {
     "duration": 0.557534,
     "end_time": "2021-01-23T12:13:54.737125",
     "exception": false,
     "start_time": "2021-01-23T12:13:54.179591",
     "status": "completed"
    },
    "tags": []
   },
   "outputs": [
    {
     "name": "stderr",
     "output_type": "stream",
     "text": [
      "100%|██████████| 3489/3489 [00:00<00:00, 811418.17it/s]\n"
     ]
    },
    {
     "data": {
      "text/html": [
       "<div>\n",
       "<style scoped>\n",
       "    .dataframe tbody tr th:only-of-type {\n",
       "        vertical-align: middle;\n",
       "    }\n",
       "\n",
       "    .dataframe tbody tr th {\n",
       "        vertical-align: top;\n",
       "    }\n",
       "\n",
       "    .dataframe thead th {\n",
       "        text-align: right;\n",
       "    }\n",
       "</style>\n",
       "<table border=\"1\" class=\"dataframe\">\n",
       "  <thead>\n",
       "    <tr style=\"text-align: right;\">\n",
       "      <th></th>\n",
       "      <th>Image</th>\n",
       "      <th>Class</th>\n",
       "    </tr>\n",
       "  </thead>\n",
       "  <tbody>\n",
       "    <tr>\n",
       "      <th>0</th>\n",
       "      <td>image7761.jpg</td>\n",
       "      <td>0</td>\n",
       "    </tr>\n",
       "    <tr>\n",
       "      <th>1</th>\n",
       "      <td>image3202.jpg</td>\n",
       "      <td>0</td>\n",
       "    </tr>\n",
       "    <tr>\n",
       "      <th>2</th>\n",
       "      <td>image688.jpg</td>\n",
       "      <td>0</td>\n",
       "    </tr>\n",
       "    <tr>\n",
       "      <th>3</th>\n",
       "      <td>image233.jpg</td>\n",
       "      <td>0</td>\n",
       "    </tr>\n",
       "    <tr>\n",
       "      <th>4</th>\n",
       "      <td>image4332.jpg</td>\n",
       "      <td>0</td>\n",
       "    </tr>\n",
       "  </tbody>\n",
       "</table>\n",
       "</div>"
      ],
      "text/plain": [
       "           Image Class\n",
       "0  image7761.jpg     0\n",
       "1  image3202.jpg     0\n",
       "2   image688.jpg     0\n",
       "3   image233.jpg     0\n",
       "4  image4332.jpg     0"
      ]
     },
     "execution_count": 7,
     "metadata": {},
     "output_type": "execute_result"
    }
   ],
   "source": [
    "test_dir = \"../input/hackereath-holiday-season-deep-learning-contest/dataset/test\"\n",
    "test_files = []\n",
    "\n",
    "for file in tqdm(os.listdir(test_dir)):\n",
    "    test_files.append(file)\n",
    "\n",
    "test_df = pd.DataFrame(test_files, columns=['Image'])\n",
    "test_df['Class'] = '0'\n",
    "test_df.head()"
   ]
  },
  {
   "cell_type": "markdown",
   "metadata": {
    "papermill": {
     "duration": 0.030163,
     "end_time": "2021-01-23T12:13:54.798950",
     "exception": false,
     "start_time": "2021-01-23T12:13:54.768787",
     "status": "completed"
    },
    "tags": []
   },
   "source": [
    "## Calculate class-weights"
   ]
  },
  {
   "cell_type": "code",
   "execution_count": 8,
   "metadata": {
    "execution": {
     "iopub.execute_input": "2021-01-23T12:13:54.869495Z",
     "iopub.status.busy": "2021-01-23T12:13:54.868585Z",
     "iopub.status.idle": "2021-01-23T12:13:54.898714Z",
     "shell.execute_reply": "2021-01-23T12:13:54.898163Z"
    },
    "papermill": {
     "duration": 0.068573,
     "end_time": "2021-01-23T12:13:54.898815",
     "exception": false,
     "start_time": "2021-01-23T12:13:54.830242",
     "status": "completed"
    },
    "tags": []
   },
   "outputs": [
    {
     "data": {
      "text/plain": [
       "{0: 0.6747663551401869,\n",
       " 1: 0.6087689713322091,\n",
       " 2: 0.23456790123456786,\n",
       " 3: 0.5640625,\n",
       " 4: 0.12888254194930382,\n",
       " 5: 1.0}"
      ]
     },
     "execution_count": 8,
     "metadata": {},
     "output_type": "execute_result"
    }
   ],
   "source": [
    "temp_df = train_df.groupby(['Class_enc']).size().reset_index().rename(columns={0:'count'})\n",
    "total_count = np.sum(temp_df['count'].values)\n",
    "temp_df['class%'] = (temp_df['count'] / total_count) * 100\n",
    "lowest_pct = min(temp_df['class%'])\n",
    "temp_df['class_weight'] = lowest_pct / temp_df['class%']\n",
    "class_weight = temp_df[['Class_enc', 'class_weight']].to_dict()['class_weight']\n",
    "class_weight"
   ]
  },
  {
   "cell_type": "markdown",
   "metadata": {
    "papermill": {
     "duration": 0.030663,
     "end_time": "2021-01-23T12:13:54.961878",
     "exception": false,
     "start_time": "2021-01-23T12:13:54.931215",
     "status": "completed"
    },
    "tags": []
   },
   "source": [
    "## Split training data into train/validation datasets"
   ]
  },
  {
   "cell_type": "code",
   "execution_count": 9,
   "metadata": {
    "execution": {
     "iopub.execute_input": "2021-01-23T12:13:55.072049Z",
     "iopub.status.busy": "2021-01-23T12:13:55.071438Z",
     "iopub.status.idle": "2021-01-23T12:13:55.085800Z",
     "shell.execute_reply": "2021-01-23T12:13:55.085307Z"
    },
    "papermill": {
     "duration": 0.092966,
     "end_time": "2021-01-23T12:13:55.085913",
     "exception": false,
     "start_time": "2021-01-23T12:13:54.992947",
     "status": "completed"
    },
    "tags": []
   },
   "outputs": [
    {
     "name": "stdout",
     "output_type": "stream",
     "text": [
      "train_df shape: (5498, 3)\n",
      "validation_df shape: (971, 3)\n"
     ]
    }
   ],
   "source": [
    "sss = StratifiedShuffleSplit(n_splits=1, test_size=0.15, random_state=1)\n",
    "for train_index, validation_index in sss.split(train_df['Image'], train_df['Class_enc']):\n",
    "    train_df, validation_df = train_df.iloc[train_index], train_df.iloc[validation_index]\n",
    "\n",
    "print(\"train_df shape: {}\".format(train_df.shape))\n",
    "print(\"validation_df shape: {}\".format(validation_df.shape))"
   ]
  },
  {
   "cell_type": "code",
   "execution_count": 10,
   "metadata": {
    "execution": {
     "iopub.execute_input": "2021-01-23T12:13:55.155775Z",
     "iopub.status.busy": "2021-01-23T12:13:55.155131Z",
     "iopub.status.idle": "2021-01-23T12:13:55.170427Z",
     "shell.execute_reply": "2021-01-23T12:13:55.169319Z"
    },
    "papermill": {
     "duration": 0.053376,
     "end_time": "2021-01-23T12:13:55.170533",
     "exception": false,
     "start_time": "2021-01-23T12:13:55.117157",
     "status": "completed"
    },
    "tags": []
   },
   "outputs": [
    {
     "data": {
      "text/html": [
       "<div>\n",
       "<style scoped>\n",
       "    .dataframe tbody tr th:only-of-type {\n",
       "        vertical-align: middle;\n",
       "    }\n",
       "\n",
       "    .dataframe tbody tr th {\n",
       "        vertical-align: top;\n",
       "    }\n",
       "\n",
       "    .dataframe thead th {\n",
       "        text-align: right;\n",
       "    }\n",
       "</style>\n",
       "<table border=\"1\" class=\"dataframe\">\n",
       "  <thead>\n",
       "    <tr style=\"text-align: right;\">\n",
       "      <th></th>\n",
       "      <th>Class</th>\n",
       "      <th>Class_enc</th>\n",
       "      <th>Count</th>\n",
       "    </tr>\n",
       "  </thead>\n",
       "  <tbody>\n",
       "    <tr>\n",
       "      <th>0</th>\n",
       "      <td>Airplane</td>\n",
       "      <td>0</td>\n",
       "      <td>455</td>\n",
       "    </tr>\n",
       "    <tr>\n",
       "      <th>1</th>\n",
       "      <td>Candle</td>\n",
       "      <td>1</td>\n",
       "      <td>504</td>\n",
       "    </tr>\n",
       "    <tr>\n",
       "      <th>2</th>\n",
       "      <td>Christmas_Tree</td>\n",
       "      <td>2</td>\n",
       "      <td>1308</td>\n",
       "    </tr>\n",
       "    <tr>\n",
       "      <th>3</th>\n",
       "      <td>Jacket</td>\n",
       "      <td>3</td>\n",
       "      <td>544</td>\n",
       "    </tr>\n",
       "    <tr>\n",
       "      <th>4</th>\n",
       "      <td>Miscellaneous</td>\n",
       "      <td>4</td>\n",
       "      <td>2380</td>\n",
       "    </tr>\n",
       "    <tr>\n",
       "      <th>5</th>\n",
       "      <td>Snowman</td>\n",
       "      <td>5</td>\n",
       "      <td>307</td>\n",
       "    </tr>\n",
       "  </tbody>\n",
       "</table>\n",
       "</div>"
      ],
      "text/plain": [
       "            Class Class_enc  Count\n",
       "0        Airplane         0    455\n",
       "1          Candle         1    504\n",
       "2  Christmas_Tree         2   1308\n",
       "3          Jacket         3    544\n",
       "4   Miscellaneous         4   2380\n",
       "5         Snowman         5    307"
      ]
     },
     "execution_count": 10,
     "metadata": {},
     "output_type": "execute_result"
    }
   ],
   "source": [
    "train_df.groupby(['Class','Class_enc']).size().reset_index().rename(columns={0:'Count'})"
   ]
  },
  {
   "cell_type": "code",
   "execution_count": 11,
   "metadata": {
    "execution": {
     "iopub.execute_input": "2021-01-23T12:13:55.243075Z",
     "iopub.status.busy": "2021-01-23T12:13:55.242073Z",
     "iopub.status.idle": "2021-01-23T12:13:55.255408Z",
     "shell.execute_reply": "2021-01-23T12:13:55.256020Z"
    },
    "papermill": {
     "duration": 0.053458,
     "end_time": "2021-01-23T12:13:55.256149",
     "exception": false,
     "start_time": "2021-01-23T12:13:55.202691",
     "status": "completed"
    },
    "tags": []
   },
   "outputs": [
    {
     "data": {
      "text/html": [
       "<div>\n",
       "<style scoped>\n",
       "    .dataframe tbody tr th:only-of-type {\n",
       "        vertical-align: middle;\n",
       "    }\n",
       "\n",
       "    .dataframe tbody tr th {\n",
       "        vertical-align: top;\n",
       "    }\n",
       "\n",
       "    .dataframe thead th {\n",
       "        text-align: right;\n",
       "    }\n",
       "</style>\n",
       "<table border=\"1\" class=\"dataframe\">\n",
       "  <thead>\n",
       "    <tr style=\"text-align: right;\">\n",
       "      <th></th>\n",
       "      <th>Class</th>\n",
       "      <th>Class_enc</th>\n",
       "      <th>Count</th>\n",
       "    </tr>\n",
       "  </thead>\n",
       "  <tbody>\n",
       "    <tr>\n",
       "      <th>0</th>\n",
       "      <td>Airplane</td>\n",
       "      <td>0</td>\n",
       "      <td>80</td>\n",
       "    </tr>\n",
       "    <tr>\n",
       "      <th>1</th>\n",
       "      <td>Candle</td>\n",
       "      <td>1</td>\n",
       "      <td>89</td>\n",
       "    </tr>\n",
       "    <tr>\n",
       "      <th>2</th>\n",
       "      <td>Christmas_Tree</td>\n",
       "      <td>2</td>\n",
       "      <td>231</td>\n",
       "    </tr>\n",
       "    <tr>\n",
       "      <th>3</th>\n",
       "      <td>Jacket</td>\n",
       "      <td>3</td>\n",
       "      <td>96</td>\n",
       "    </tr>\n",
       "    <tr>\n",
       "      <th>4</th>\n",
       "      <td>Miscellaneous</td>\n",
       "      <td>4</td>\n",
       "      <td>421</td>\n",
       "    </tr>\n",
       "    <tr>\n",
       "      <th>5</th>\n",
       "      <td>Snowman</td>\n",
       "      <td>5</td>\n",
       "      <td>54</td>\n",
       "    </tr>\n",
       "  </tbody>\n",
       "</table>\n",
       "</div>"
      ],
      "text/plain": [
       "            Class Class_enc  Count\n",
       "0        Airplane         0     80\n",
       "1          Candle         1     89\n",
       "2  Christmas_Tree         2    231\n",
       "3          Jacket         3     96\n",
       "4   Miscellaneous         4    421\n",
       "5         Snowman         5     54"
      ]
     },
     "execution_count": 11,
     "metadata": {},
     "output_type": "execute_result"
    }
   ],
   "source": [
    "validation_df.groupby(['Class','Class_enc']).size().reset_index().rename(columns={0:'Count'})"
   ]
  },
  {
   "cell_type": "markdown",
   "metadata": {
    "papermill": {
     "duration": 0.031721,
     "end_time": "2021-01-23T12:13:55.320924",
     "exception": false,
     "start_time": "2021-01-23T12:13:55.289203",
     "status": "completed"
    },
    "tags": []
   },
   "source": [
    "## Model Hyperparameters"
   ]
  },
  {
   "cell_type": "code",
   "execution_count": 12,
   "metadata": {
    "execution": {
     "iopub.execute_input": "2021-01-23T12:13:55.403981Z",
     "iopub.status.busy": "2021-01-23T12:13:55.402695Z",
     "iopub.status.idle": "2021-01-23T12:13:55.404643Z",
     "shell.execute_reply": "2021-01-23T12:13:55.405210Z"
    },
    "papermill": {
     "duration": 0.04765,
     "end_time": "2021-01-23T12:13:55.405339",
     "exception": false,
     "start_time": "2021-01-23T12:13:55.357689",
     "status": "completed"
    },
    "tags": []
   },
   "outputs": [],
   "source": [
    "dataset_dir = \"../input/hackereath-holiday-season-deep-learning-contest/dataset/\"\n",
    "mini_batch_size = 128\n",
    "steps_per_epoch = int(np.ceil(train_df.shape[0] / float(mini_batch_size)))\n",
    "validation_steps = int(np.ceil(validation_df.shape[0] / float(mini_batch_size)))\n",
    "test_steps = int(np.ceil(test_df.shape[0] / float(mini_batch_size)))\n",
    "image_dim = (160, 160, 3)"
   ]
  },
  {
   "cell_type": "markdown",
   "metadata": {
    "papermill": {
     "duration": 0.031716,
     "end_time": "2021-01-23T12:13:55.468973",
     "exception": false,
     "start_time": "2021-01-23T12:13:55.437257",
     "status": "completed"
    },
    "tags": []
   },
   "source": [
    "## Configure image generators"
   ]
  },
  {
   "cell_type": "code",
   "execution_count": 13,
   "metadata": {
    "execution": {
     "iopub.execute_input": "2021-01-23T12:13:55.568336Z",
     "iopub.status.busy": "2021-01-23T12:13:55.567490Z",
     "iopub.status.idle": "2021-01-23T12:14:22.534967Z",
     "shell.execute_reply": "2021-01-23T12:14:22.533931Z"
    },
    "papermill": {
     "duration": 27.033559,
     "end_time": "2021-01-23T12:14:22.535099",
     "exception": false,
     "start_time": "2021-01-23T12:13:55.501540",
     "status": "completed"
    },
    "tags": []
   },
   "outputs": [
    {
     "name": "stdout",
     "output_type": "stream",
     "text": [
      "Found 5498 validated image filenames belonging to 6 classes.\n",
      "Found 971 validated image filenames belonging to 6 classes.\n",
      "Found 3489 validated image filenames belonging to 1 classes.\n"
     ]
    }
   ],
   "source": [
    "train_datagen = ImageDataGenerator(rotation_range = 30,\n",
    "                                   zoom_range = 0.2,\n",
    "                                   horizontal_flip = True,\n",
    "                                   fill_mode = 'nearest',\n",
    "                                   height_shift_range = 0.1,\n",
    "                                   width_shift_range = 0.1)\n",
    "\n",
    "train_generator = train_datagen.flow_from_dataframe(train_df,\n",
    "                                                    directory = os.path.join(dataset_dir,\"train\"),\n",
    "                                                    x_col = \"Image\", \n",
    "                                                    y_col = \"Class_enc\",\n",
    "                                                    target_size = (image_dim[0], image_dim[1]),\n",
    "                                                    batch_size = mini_batch_size,\n",
    "                                                    class_mode = \"categorical\",\n",
    "                                                    interpolation=\"bicubic\")\n",
    "\n",
    "validation_datagen = ImageDataGenerator()\n",
    "\n",
    "validation_generator = validation_datagen.flow_from_dataframe(validation_df,\n",
    "                                                              directory = os.path.join(dataset_dir,\"train\"),\n",
    "                                                              x_col = \"Image\",\n",
    "                                                              y_col = \"Class_enc\",\n",
    "                                                              shuffle=False,\n",
    "                                                              target_size = (image_dim[0], image_dim[1]),\n",
    "                                                              batch_size = mini_batch_size,\n",
    "                                                              class_mode = \"categorical\",\n",
    "                                                              interpolation=\"bicubic\")\n",
    "\n",
    "test_datagen = ImageDataGenerator()\n",
    "\n",
    "test_generator = test_datagen.flow_from_dataframe(test_df,\n",
    "                                                  directory = os.path.join(dataset_dir,\"test\"),\n",
    "                                                  x_col = \"Image\",\n",
    "                                                  y_col = \"Class\",\n",
    "                                                  shuffle=False,\n",
    "                                                  target_size = (image_dim[0], image_dim[1]),\n",
    "                                                  batch_size = mini_batch_size,\n",
    "                                                  class_mode = \"categorical\",\n",
    "                                                  interpolation=\"bicubic\")"
   ]
  },
  {
   "cell_type": "markdown",
   "metadata": {
    "papermill": {
     "duration": 0.033476,
     "end_time": "2021-01-23T12:14:22.603499",
     "exception": false,
     "start_time": "2021-01-23T12:14:22.570023",
     "status": "completed"
    },
    "tags": []
   },
   "source": [
    "## Build and validate the model"
   ]
  },
  {
   "cell_type": "code",
   "execution_count": 14,
   "metadata": {
    "execution": {
     "iopub.execute_input": "2021-01-23T12:14:22.707006Z",
     "iopub.status.busy": "2021-01-23T12:14:22.701756Z",
     "iopub.status.idle": "2021-01-23T12:14:22.726624Z",
     "shell.execute_reply": "2021-01-23T12:14:22.726122Z"
    },
    "papermill": {
     "duration": 0.073197,
     "end_time": "2021-01-23T12:14:22.726718",
     "exception": false,
     "start_time": "2021-01-23T12:14:22.653521",
     "status": "completed"
    },
    "tags": []
   },
   "outputs": [],
   "source": [
    "def head(x_input, input_shape=2048, ratio=8):\n",
    "    \n",
    "    #=======================================================\n",
    "    #                    Channel Attention\n",
    "    #=======================================================\n",
    "    gapavg = GlobalAveragePooling2D()(x_input)\n",
    "    gapavg = Reshape((1, 1, gapavg.shape[1]))(gapavg)\n",
    "    gapavg = Conv2D(input_shape//ratio, \n",
    "                    kernel_size=1, strides=1, use_bias=True, \n",
    "                    padding='same', kernel_regularizer=l2(0.001), \n",
    "                    kernel_initializer='he_normal')(gapavg)\n",
    "    gapavg = BatchNormalization()(gapavg)\n",
    "    gapavg = Activation('relu')(gapavg)\n",
    "    gapavg_out = Conv2D(input_shape, kernel_size=1, \n",
    "                        strides=1, padding='same', use_bias=True, \n",
    "                        kernel_regularizer=l2(0.001), \n",
    "                        kernel_initializer='he_normal')(gapavg)\n",
    "    gapavg_out = BatchNormalization()(gapavg_out)\n",
    "    gapavg_out = Activation('relu')(gapavg_out)\n",
    "\n",
    "\n",
    "    gmpmax = GlobalMaxPooling2D()(x_input)\n",
    "    gmpmax = Reshape((1, 1, gmpmax.shape[1]))(gmpmax)\n",
    "    gmpmax = Conv2D(input_shape//ratio, \n",
    "                    kernel_size=1, strides=1, use_bias=True, \n",
    "                    padding='same', kernel_regularizer=l2(0.001), \n",
    "                    kernel_initializer='he_normal')(gmpmax)\n",
    "    gmpmax = BatchNormalization()(gmpmax)\n",
    "    gmpmax = Activation('relu')(gmpmax)\n",
    "    gmpmax_out = Conv2D(input_shape, kernel_size=1, \n",
    "                        strides=1, padding='same', use_bias=True, \n",
    "                        kernel_regularizer=l2(0.001), \n",
    "                        kernel_initializer='he_normal')(gmpmax)\n",
    "    gmpmax_out = BatchNormalization()(gmpmax_out)\n",
    "    gmpmax_out = Activation('relu')(gmpmax_out)\n",
    "    canx = x_input * tf.math.sigmoid(gapavg_out + gmpmax_out)\n",
    "\n",
    "\n",
    "    #=======================================================\n",
    "    #                    Spatial Attention\n",
    "    #=======================================================\n",
    "    avg_out = tf.reduce_mean(canx, axis=3)\n",
    "    max_out = tf.reduce_max(canx,  axis=3)\n",
    "    x = tf.stack([avg_out, max_out], axis=3)\n",
    "    \n",
    "    x = Conv2D(filters=64, kernel_size=3, strides=1, \n",
    "               padding='same', use_bias=False, \n",
    "               kernel_regularizer=l2(0.001), \n",
    "               kernel_initializer='he_normal')(x)\n",
    "    x = BatchNormalization()(x)\n",
    "    x = Activation('relu')(x)\n",
    "\n",
    "    x = Conv2D(filters=32, kernel_size=3, strides=1, \n",
    "               padding='same', use_bias=False, \n",
    "               kernel_regularizer=l2(0.001), \n",
    "               kernel_initializer='he_normal')(x)\n",
    "    x = BatchNormalization()(x)\n",
    "    x = Activation('relu')(x)\n",
    "\n",
    "    x = Conv2D(filters=16, kernel_size=3, strides=1, \n",
    "               padding='same', use_bias=False, \n",
    "               kernel_regularizer=l2(0.001), \n",
    "               kernel_initializer='he_normal')(x)\n",
    "    x = BatchNormalization()(x)\n",
    "    x = Activation('relu')(x)\n",
    "\n",
    "    x = Conv2D(filters=1, kernel_size=3, strides=1, \n",
    "               padding='same', use_bias=False, \n",
    "               kernel_regularizer=l2(0.001), \n",
    "               kernel_initializer='he_normal')(x)\n",
    "    x = BatchNormalization()(x)\n",
    "    x = Activation('sigmoid')(x)\n",
    "    spnx1 = canx * x\n",
    "    spnx2 = x\n",
    "    \n",
    "    gapx   = GlobalAveragePooling2D()(spnx1)\n",
    "    wvgx   = GlobalAveragePooling2D()(spnx2)\n",
    "    gapavg = Average()([gapx, wvgx])\n",
    "    x = BatchNormalization()(gapavg)\n",
    "\n",
    "\n",
    "    #=======================================================\n",
    "    #                    Tail of the model\n",
    "    #=======================================================\n",
    "\n",
    "    x = Dense(units=2048, kernel_regularizer=l2(0.0001), \n",
    "              kernel_initializer='he_uniform')(x)\n",
    "    x = BatchNormalization()(x)\n",
    "    x = Activation('relu')(x)\n",
    "    x = Dropout(rate=0.5)(x)\n",
    "    \n",
    "    x = Dense(units=1024, kernel_regularizer=l2(0.0001), \n",
    "              kernel_initializer='he_uniform')(x)\n",
    "    x = BatchNormalization()(x)\n",
    "    x = Activation('relu')(x)\n",
    "    x = Dropout(rate=0.5)(x)\n",
    "    \n",
    "    x = Dense(units=1024, kernel_regularizer=l2(0.0001), \n",
    "              kernel_initializer='he_uniform')(x)\n",
    "    x = BatchNormalization()(x)\n",
    "    x = Activation('relu')(x)\n",
    "    x = Dropout(rate=0.5)(x)\n",
    "    \n",
    "    x = Dense(units=512, kernel_regularizer=l2(0.0001), \n",
    "              kernel_initializer='he_uniform')(x)\n",
    "    x = BatchNormalization()(x)\n",
    "    x = Activation('relu')(x)\n",
    "    x = Dropout(rate=0.5)(x)\n",
    "    \n",
    "    x = Dense(units=6, activation='softmax', \n",
    "              kernel_initializer='he_uniform')(x)\n",
    "\n",
    "    return x"
   ]
  },
  {
   "cell_type": "code",
   "execution_count": 15,
   "metadata": {
    "execution": {
     "iopub.execute_input": "2021-01-23T12:14:22.805914Z",
     "iopub.status.busy": "2021-01-23T12:14:22.805273Z",
     "iopub.status.idle": "2021-01-23T12:14:33.798982Z",
     "shell.execute_reply": "2021-01-23T12:14:33.797818Z"
    },
    "papermill": {
     "duration": 11.038998,
     "end_time": "2021-01-23T12:14:33.799119",
     "exception": false,
     "start_time": "2021-01-23T12:14:22.760121",
     "status": "completed"
    },
    "tags": []
   },
   "outputs": [
    {
     "name": "stdout",
     "output_type": "stream",
     "text": [
      "Downloading data from https://storage.googleapis.com/keras-applications/efficientnetb5_notop.h5\n",
      "115269632/115263384 [==============================] - 1s 0us/step\n"
     ]
    }
   ],
   "source": [
    "# Build the model\n",
    "base_model = EfficientNetB5(weights='imagenet', \n",
    "                            input_tensor=Input(shape=image_dim), \n",
    "                            include_top=False)\n",
    "\n",
    "model = Model(base_model.input, head(base_model.output),\n",
    "              name='HackerEarth_Holiday_Season_Model')\n",
    "\n",
    "# Freeze weights for base model\n",
    "base_model.trainable = False\n",
    "for layer in base_model.layers[-18:]:\n",
    "    if not isinstance(layer, BatchNormalization):\n",
    "        layer.trainable = True\n",
    "\n",
    "# Compile the final model\n",
    "model.compile(loss='categorical_crossentropy', \n",
    "              metrics=[F1Score(num_classes=6, average='weighted'), \n",
    "                       'categorical_accuracy'],\n",
    "              optimizer=Lookahead(AdamW(lr=1e-2, \n",
    "                                        weight_decay=1e-5, \n",
    "                                        clipvalue=700), \n",
    "                                  sync_period=10))\n",
    "\n",
    "early = EarlyStopping(monitor=\"val_loss\", mode=\"min\", patience=10, \n",
    "                      restore_best_weights=True, verbose=1)\n",
    "\n",
    "reduce_lr = ReduceLROnPlateau(monitor=\"val_loss\", factor=0.1, \n",
    "                              min_lr=1e-6, patience=7, \n",
    "                              verbose=1, mode='min')\n",
    "\n",
    "chk_point = ModelCheckpoint('hackerearth_holiday_season_model.h5', \n",
    "                            monitor='val_loss', verbose=1, \n",
    "                            save_best_only=True, mode='min')"
   ]
  },
  {
   "cell_type": "code",
   "execution_count": 16,
   "metadata": {
    "execution": {
     "iopub.execute_input": "2021-01-23T12:14:33.889404Z",
     "iopub.status.busy": "2021-01-23T12:14:33.888758Z",
     "iopub.status.idle": "2021-01-23T13:11:16.028633Z",
     "shell.execute_reply": "2021-01-23T13:11:16.030884Z"
    },
    "papermill": {
     "duration": 3402.191863,
     "end_time": "2021-01-23T13:11:16.031114",
     "exception": false,
     "start_time": "2021-01-23T12:14:33.839251",
     "status": "completed"
    },
    "tags": []
   },
   "outputs": [
    {
     "name": "stdout",
     "output_type": "stream",
     "text": [
      "Epoch 1/275\n",
      "43/43 [==============================] - ETA: 0s - loss: 3.9434 - f1_score: 0.4385 - categorical_accuracy: 0.4360\n",
      "Epoch 00001: val_loss improved from inf to 17.17633, saving model to hackerearth_holiday_season_model.h5\n",
      "43/43 [==============================] - 54s 1s/step - loss: 3.9434 - f1_score: 0.4385 - categorical_accuracy: 0.4360 - val_loss: 17.1763 - val_f1_score: 0.0886 - val_categorical_accuracy: 0.2194\n",
      "Epoch 2/275\n",
      "43/43 [==============================] - ETA: 0s - loss: 1.2426 - f1_score: 0.6786 - categorical_accuracy: 0.6755\n",
      "Epoch 00002: val_loss improved from 17.17633 to 2.29669, saving model to hackerearth_holiday_season_model.h5\n",
      "43/43 [==============================] - 52s 1s/step - loss: 1.2426 - f1_score: 0.6786 - categorical_accuracy: 0.6755 - val_loss: 2.2967 - val_f1_score: 0.6714 - val_categorical_accuracy: 0.6715\n",
      "Epoch 3/275\n",
      "43/43 [==============================] - ETA: 0s - loss: 0.8803 - f1_score: 0.7402 - categorical_accuracy: 0.7377\n",
      "Epoch 00003: val_loss improved from 2.29669 to 1.36767, saving model to hackerearth_holiday_season_model.h5\n",
      "43/43 [==============================] - 51s 1s/step - loss: 0.8803 - f1_score: 0.7402 - categorical_accuracy: 0.7377 - val_loss: 1.3677 - val_f1_score: 0.8040 - val_categorical_accuracy: 0.7940\n",
      "Epoch 4/275\n",
      "43/43 [==============================] - ETA: 0s - loss: 0.6898 - f1_score: 0.7641 - categorical_accuracy: 0.7630\n",
      "Epoch 00004: val_loss improved from 1.36767 to 0.88236, saving model to hackerearth_holiday_season_model.h5\n",
      "43/43 [==============================] - 51s 1s/step - loss: 0.6898 - f1_score: 0.7641 - categorical_accuracy: 0.7630 - val_loss: 0.8824 - val_f1_score: 0.8477 - val_categorical_accuracy: 0.8496\n",
      "Epoch 5/275\n",
      "43/43 [==============================] - ETA: 0s - loss: 0.5553 - f1_score: 0.7838 - categorical_accuracy: 0.7834\n",
      "Epoch 00005: val_loss improved from 0.88236 to 0.85993, saving model to hackerearth_holiday_season_model.h5\n",
      "43/43 [==============================] - 51s 1s/step - loss: 0.5553 - f1_score: 0.7838 - categorical_accuracy: 0.7834 - val_loss: 0.8599 - val_f1_score: 0.8618 - val_categorical_accuracy: 0.8589\n",
      "Epoch 6/275\n",
      "43/43 [==============================] - ETA: 0s - loss: 0.7377 - f1_score: 0.7742 - categorical_accuracy: 0.7734\n",
      "Epoch 00006: val_loss did not improve from 0.85993\n",
      "43/43 [==============================] - 44s 1s/step - loss: 0.7377 - f1_score: 0.7742 - categorical_accuracy: 0.7734 - val_loss: 1.4465 - val_f1_score: 0.7479 - val_categorical_accuracy: 0.7755\n",
      "Epoch 7/275\n",
      "43/43 [==============================] - ETA: 0s - loss: 0.5888 - f1_score: 0.8026 - categorical_accuracy: 0.8016\n",
      "Epoch 00007: val_loss improved from 0.85993 to 0.78823, saving model to hackerearth_holiday_season_model.h5\n",
      "43/43 [==============================] - 51s 1s/step - loss: 0.5888 - f1_score: 0.8026 - categorical_accuracy: 0.8016 - val_loss: 0.7882 - val_f1_score: 0.8690 - val_categorical_accuracy: 0.8661\n",
      "Epoch 8/275\n",
      "43/43 [==============================] - ETA: 0s - loss: 0.5001 - f1_score: 0.7970 - categorical_accuracy: 0.7945\n",
      "Epoch 00008: val_loss improved from 0.78823 to 0.73983, saving model to hackerearth_holiday_season_model.h5\n",
      "43/43 [==============================] - 51s 1s/step - loss: 0.5001 - f1_score: 0.7970 - categorical_accuracy: 0.7945 - val_loss: 0.7398 - val_f1_score: 0.8754 - val_categorical_accuracy: 0.8744\n",
      "Epoch 9/275\n",
      "43/43 [==============================] - ETA: 0s - loss: 0.4722 - f1_score: 0.8114 - categorical_accuracy: 0.8079\n",
      "Epoch 00009: val_loss did not improve from 0.73983\n",
      "43/43 [==============================] - 43s 1s/step - loss: 0.4722 - f1_score: 0.8114 - categorical_accuracy: 0.8079 - val_loss: 0.8471 - val_f1_score: 0.8265 - val_categorical_accuracy: 0.8301\n",
      "Epoch 10/275\n",
      "43/43 [==============================] - ETA: 0s - loss: 0.4642 - f1_score: 0.8163 - categorical_accuracy: 0.8147\n",
      "Epoch 00010: val_loss did not improve from 0.73983\n",
      "43/43 [==============================] - 42s 969ms/step - loss: 0.4642 - f1_score: 0.8163 - categorical_accuracy: 0.8147 - val_loss: 0.7458 - val_f1_score: 0.8721 - val_categorical_accuracy: 0.8713\n",
      "Epoch 11/275\n",
      "43/43 [==============================] - ETA: 0s - loss: 0.4329 - f1_score: 0.8199 - categorical_accuracy: 0.8185\n",
      "Epoch 00011: val_loss did not improve from 0.73983\n",
      "43/43 [==============================] - 43s 1s/step - loss: 0.4329 - f1_score: 0.8199 - categorical_accuracy: 0.8185 - val_loss: 0.7429 - val_f1_score: 0.8678 - val_categorical_accuracy: 0.8671\n",
      "Epoch 12/275\n",
      "43/43 [==============================] - ETA: 0s - loss: 0.4178 - f1_score: 0.8257 - categorical_accuracy: 0.8232\n",
      "Epoch 00012: val_loss improved from 0.73983 to 0.69749, saving model to hackerearth_holiday_season_model.h5\n",
      "43/43 [==============================] - 51s 1s/step - loss: 0.4178 - f1_score: 0.8257 - categorical_accuracy: 0.8232 - val_loss: 0.6975 - val_f1_score: 0.8656 - val_categorical_accuracy: 0.8641\n",
      "Epoch 13/275\n",
      "43/43 [==============================] - ETA: 0s - loss: 0.4243 - f1_score: 0.8275 - categorical_accuracy: 0.8259\n",
      "Epoch 00013: val_loss did not improve from 0.69749\n",
      "43/43 [==============================] - 44s 1s/step - loss: 0.4243 - f1_score: 0.8275 - categorical_accuracy: 0.8259 - val_loss: 0.8137 - val_f1_score: 0.8451 - val_categorical_accuracy: 0.8404\n",
      "Epoch 14/275\n",
      "43/43 [==============================] - ETA: 0s - loss: 0.4044 - f1_score: 0.8318 - categorical_accuracy: 0.8298\n",
      "Epoch 00014: val_loss did not improve from 0.69749\n",
      "43/43 [==============================] - 44s 1s/step - loss: 0.4044 - f1_score: 0.8318 - categorical_accuracy: 0.8298 - val_loss: 0.7051 - val_f1_score: 0.8524 - val_categorical_accuracy: 0.8589\n",
      "Epoch 15/275\n",
      "43/43 [==============================] - ETA: 0s - loss: 0.3840 - f1_score: 0.8489 - categorical_accuracy: 0.8481\n",
      "Epoch 00015: val_loss improved from 0.69749 to 0.64238, saving model to hackerearth_holiday_season_model.h5\n",
      "43/43 [==============================] - 51s 1s/step - loss: 0.3840 - f1_score: 0.8489 - categorical_accuracy: 0.8481 - val_loss: 0.6424 - val_f1_score: 0.8873 - val_categorical_accuracy: 0.8877\n",
      "Epoch 16/275\n",
      "43/43 [==============================] - ETA: 0s - loss: 0.3852 - f1_score: 0.8255 - categorical_accuracy: 0.8238\n",
      "Epoch 00016: val_loss did not improve from 0.64238\n",
      "43/43 [==============================] - 45s 1s/step - loss: 0.3852 - f1_score: 0.8255 - categorical_accuracy: 0.8238 - val_loss: 0.8750 - val_f1_score: 0.8210 - val_categorical_accuracy: 0.8208\n",
      "Epoch 17/275\n",
      "43/43 [==============================] - ETA: 0s - loss: 0.3787 - f1_score: 0.8452 - categorical_accuracy: 0.8438\n",
      "Epoch 00017: val_loss did not improve from 0.64238\n",
      "43/43 [==============================] - 43s 999ms/step - loss: 0.3787 - f1_score: 0.8452 - categorical_accuracy: 0.8438 - val_loss: 0.7206 - val_f1_score: 0.8384 - val_categorical_accuracy: 0.8435\n",
      "Epoch 18/275\n",
      "43/43 [==============================] - ETA: 0s - loss: 0.3846 - f1_score: 0.8455 - categorical_accuracy: 0.8438\n",
      "Epoch 00018: val_loss did not improve from 0.64238\n",
      "43/43 [==============================] - 42s 974ms/step - loss: 0.3846 - f1_score: 0.8455 - categorical_accuracy: 0.8438 - val_loss: 0.7048 - val_f1_score: 0.8746 - val_categorical_accuracy: 0.8744\n",
      "Epoch 19/275\n",
      "43/43 [==============================] - ETA: 0s - loss: 0.3662 - f1_score: 0.8531 - categorical_accuracy: 0.8521\n",
      "Epoch 00019: val_loss did not improve from 0.64238\n",
      "43/43 [==============================] - 44s 1s/step - loss: 0.3662 - f1_score: 0.8531 - categorical_accuracy: 0.8521 - val_loss: 0.8876 - val_f1_score: 0.8459 - val_categorical_accuracy: 0.8476\n",
      "Epoch 20/275\n",
      "43/43 [==============================] - ETA: 0s - loss: 0.3749 - f1_score: 0.8489 - categorical_accuracy: 0.8469\n",
      "Epoch 00020: val_loss improved from 0.64238 to 0.62778, saving model to hackerearth_holiday_season_model.h5\n",
      "43/43 [==============================] - 51s 1s/step - loss: 0.3749 - f1_score: 0.8489 - categorical_accuracy: 0.8469 - val_loss: 0.6278 - val_f1_score: 0.8762 - val_categorical_accuracy: 0.8764\n",
      "Epoch 21/275\n",
      "43/43 [==============================] - ETA: 0s - loss: 0.3649 - f1_score: 0.8612 - categorical_accuracy: 0.8598\n",
      "Epoch 00021: val_loss did not improve from 0.62778\n",
      "43/43 [==============================] - 45s 1s/step - loss: 0.3649 - f1_score: 0.8612 - categorical_accuracy: 0.8598 - val_loss: 0.8526 - val_f1_score: 0.8509 - val_categorical_accuracy: 0.8465\n",
      "Epoch 22/275\n",
      "43/43 [==============================] - ETA: 0s - loss: 0.4317 - f1_score: 0.8476 - categorical_accuracy: 0.8465\n",
      "Epoch 00022: val_loss did not improve from 0.62778\n",
      "43/43 [==============================] - 44s 1s/step - loss: 0.4317 - f1_score: 0.8476 - categorical_accuracy: 0.8465 - val_loss: 0.6913 - val_f1_score: 0.8867 - val_categorical_accuracy: 0.8867\n",
      "Epoch 23/275\n",
      "43/43 [==============================] - ETA: 0s - loss: 0.4208 - f1_score: 0.8481 - categorical_accuracy: 0.8459\n",
      "Epoch 00023: val_loss did not improve from 0.62778\n",
      "43/43 [==============================] - 44s 1s/step - loss: 0.4208 - f1_score: 0.8481 - categorical_accuracy: 0.8459 - val_loss: 0.9174 - val_f1_score: 0.8412 - val_categorical_accuracy: 0.8383\n",
      "Epoch 24/275\n",
      "43/43 [==============================] - ETA: 0s - loss: 0.3815 - f1_score: 0.8540 - categorical_accuracy: 0.8529\n",
      "Epoch 00024: val_loss did not improve from 0.62778\n",
      "43/43 [==============================] - 44s 1s/step - loss: 0.3815 - f1_score: 0.8540 - categorical_accuracy: 0.8529 - val_loss: 0.6812 - val_f1_score: 0.8540 - val_categorical_accuracy: 0.8538\n",
      "Epoch 25/275\n",
      "43/43 [==============================] - ETA: 0s - loss: 0.3596 - f1_score: 0.8520 - categorical_accuracy: 0.8510\n",
      "Epoch 00025: val_loss did not improve from 0.62778\n",
      "43/43 [==============================] - 43s 991ms/step - loss: 0.3596 - f1_score: 0.8520 - categorical_accuracy: 0.8510 - val_loss: 0.6679 - val_f1_score: 0.8658 - val_categorical_accuracy: 0.8661\n",
      "Epoch 26/275\n",
      "43/43 [==============================] - ETA: 0s - loss: 0.3485 - f1_score: 0.8601 - categorical_accuracy: 0.8589\n",
      "Epoch 00026: val_loss did not improve from 0.62778\n",
      "43/43 [==============================] - 44s 1s/step - loss: 0.3485 - f1_score: 0.8601 - categorical_accuracy: 0.8589 - val_loss: 0.8242 - val_f1_score: 0.8544 - val_categorical_accuracy: 0.8527\n",
      "Epoch 27/275\n",
      "43/43 [==============================] - ETA: 0s - loss: 0.3736 - f1_score: 0.8561 - categorical_accuracy: 0.8543\n",
      "Epoch 00027: val_loss improved from 0.62778 to 0.57451, saving model to hackerearth_holiday_season_model.h5\n",
      "43/43 [==============================] - 51s 1s/step - loss: 0.3736 - f1_score: 0.8561 - categorical_accuracy: 0.8543 - val_loss: 0.5745 - val_f1_score: 0.8776 - val_categorical_accuracy: 0.8764\n",
      "Epoch 28/275\n",
      "43/43 [==============================] - ETA: 0s - loss: 0.3695 - f1_score: 0.8659 - categorical_accuracy: 0.8650\n",
      "Epoch 00028: val_loss did not improve from 0.57451\n",
      "43/43 [==============================] - 45s 1s/step - loss: 0.3695 - f1_score: 0.8659 - categorical_accuracy: 0.8650 - val_loss: 0.6227 - val_f1_score: 0.8824 - val_categorical_accuracy: 0.8816\n",
      "Epoch 29/275\n",
      "43/43 [==============================] - ETA: 0s - loss: 0.3359 - f1_score: 0.8755 - categorical_accuracy: 0.8749\n",
      "Epoch 00029: val_loss did not improve from 0.57451\n",
      "43/43 [==============================] - 44s 1s/step - loss: 0.3359 - f1_score: 0.8755 - categorical_accuracy: 0.8749 - val_loss: 0.8829 - val_f1_score: 0.8358 - val_categorical_accuracy: 0.8321\n",
      "Epoch 30/275\n",
      "43/43 [==============================] - ETA: 0s - loss: 0.4586 - f1_score: 0.8569 - categorical_accuracy: 0.8552\n",
      "Epoch 00030: val_loss did not improve from 0.57451\n",
      "43/43 [==============================] - 44s 1s/step - loss: 0.4586 - f1_score: 0.8569 - categorical_accuracy: 0.8552 - val_loss: 0.8824 - val_f1_score: 0.8468 - val_categorical_accuracy: 0.8435\n",
      "Epoch 31/275\n",
      "43/43 [==============================] - ETA: 0s - loss: 0.3848 - f1_score: 0.8805 - categorical_accuracy: 0.8796\n",
      "Epoch 00031: val_loss did not improve from 0.57451\n",
      "43/43 [==============================] - 43s 996ms/step - loss: 0.3848 - f1_score: 0.8805 - categorical_accuracy: 0.8796 - val_loss: 0.7257 - val_f1_score: 0.8760 - val_categorical_accuracy: 0.8754\n",
      "Epoch 32/275\n",
      "43/43 [==============================] - ETA: 0s - loss: 0.3919 - f1_score: 0.8708 - categorical_accuracy: 0.8696\n",
      "Epoch 00032: val_loss did not improve from 0.57451\n",
      "43/43 [==============================] - 43s 1s/step - loss: 0.3919 - f1_score: 0.8708 - categorical_accuracy: 0.8696 - val_loss: 0.6917 - val_f1_score: 0.8843 - val_categorical_accuracy: 0.8847\n",
      "Epoch 33/275\n",
      "43/43 [==============================] - ETA: 0s - loss: 0.3318 - f1_score: 0.8626 - categorical_accuracy: 0.8610\n",
      "Epoch 00033: val_loss did not improve from 0.57451\n",
      "43/43 [==============================] - 44s 1s/step - loss: 0.3318 - f1_score: 0.8626 - categorical_accuracy: 0.8610 - val_loss: 0.8801 - val_f1_score: 0.8124 - val_categorical_accuracy: 0.8146\n",
      "Epoch 34/275\n",
      "43/43 [==============================] - ETA: 0s - loss: 0.3878 - f1_score: 0.8768 - categorical_accuracy: 0.8758\n",
      "Epoch 00034: ReduceLROnPlateau reducing learning rate to 0.0009999999776482583.\n",
      "\n",
      "Epoch 00034: val_loss did not improve from 0.57451\n",
      "43/43 [==============================] - 44s 1s/step - loss: 0.3878 - f1_score: 0.8768 - categorical_accuracy: 0.8758 - val_loss: 0.8699 - val_f1_score: 0.8428 - val_categorical_accuracy: 0.8404\n",
      "Epoch 35/275\n",
      "43/43 [==============================] - ETA: 0s - loss: 0.3536 - f1_score: 0.8836 - categorical_accuracy: 0.8829\n",
      "Epoch 00035: val_loss did not improve from 0.57451\n",
      "43/43 [==============================] - 45s 1s/step - loss: 0.3536 - f1_score: 0.8836 - categorical_accuracy: 0.8829 - val_loss: 0.6312 - val_f1_score: 0.8866 - val_categorical_accuracy: 0.8857\n",
      "Epoch 36/275\n",
      "43/43 [==============================] - ETA: 0s - loss: 0.2868 - f1_score: 0.9010 - categorical_accuracy: 0.9003\n",
      "Epoch 00036: val_loss improved from 0.57451 to 0.56228, saving model to hackerearth_holiday_season_model.h5\n",
      "43/43 [==============================] - 53s 1s/step - loss: 0.2868 - f1_score: 0.9010 - categorical_accuracy: 0.9003 - val_loss: 0.5623 - val_f1_score: 0.8937 - val_categorical_accuracy: 0.8929\n",
      "Epoch 37/275\n",
      "43/43 [==============================] - ETA: 0s - loss: 0.2624 - f1_score: 0.8949 - categorical_accuracy: 0.8943\n",
      "Epoch 00037: val_loss improved from 0.56228 to 0.53768, saving model to hackerearth_holiday_season_model.h5\n",
      "43/43 [==============================] - 52s 1s/step - loss: 0.2624 - f1_score: 0.8949 - categorical_accuracy: 0.8943 - val_loss: 0.5377 - val_f1_score: 0.8891 - val_categorical_accuracy: 0.8888\n",
      "Epoch 38/275\n",
      "43/43 [==============================] - ETA: 0s - loss: 0.2299 - f1_score: 0.9084 - categorical_accuracy: 0.9078\n",
      "Epoch 00038: val_loss improved from 0.53768 to 0.50804, saving model to hackerearth_holiday_season_model.h5\n",
      "43/43 [==============================] - 52s 1s/step - loss: 0.2299 - f1_score: 0.9084 - categorical_accuracy: 0.9078 - val_loss: 0.5080 - val_f1_score: 0.8889 - val_categorical_accuracy: 0.8888\n",
      "Epoch 39/275\n",
      "43/43 [==============================] - ETA: 0s - loss: 0.2089 - f1_score: 0.9124 - categorical_accuracy: 0.9120\n",
      "Epoch 00039: val_loss improved from 0.50804 to 0.48291, saving model to hackerearth_holiday_season_model.h5\n",
      "43/43 [==============================] - 53s 1s/step - loss: 0.2089 - f1_score: 0.9124 - categorical_accuracy: 0.9120 - val_loss: 0.4829 - val_f1_score: 0.8858 - val_categorical_accuracy: 0.8857\n",
      "Epoch 40/275\n",
      "43/43 [==============================] - ETA: 0s - loss: 0.1988 - f1_score: 0.9042 - categorical_accuracy: 0.9034\n",
      "Epoch 00040: val_loss improved from 0.48291 to 0.47583, saving model to hackerearth_holiday_season_model.h5\n",
      "43/43 [==============================] - 53s 1s/step - loss: 0.1988 - f1_score: 0.9042 - categorical_accuracy: 0.9034 - val_loss: 0.4758 - val_f1_score: 0.8857 - val_categorical_accuracy: 0.8857\n",
      "Epoch 41/275\n",
      "43/43 [==============================] - ETA: 0s - loss: 0.1829 - f1_score: 0.9081 - categorical_accuracy: 0.9076\n",
      "Epoch 00041: val_loss improved from 0.47583 to 0.44512, saving model to hackerearth_holiday_season_model.h5\n",
      "43/43 [==============================] - 52s 1s/step - loss: 0.1829 - f1_score: 0.9081 - categorical_accuracy: 0.9076 - val_loss: 0.4451 - val_f1_score: 0.8899 - val_categorical_accuracy: 0.8898\n",
      "Epoch 42/275\n",
      "43/43 [==============================] - ETA: 0s - loss: 0.1739 - f1_score: 0.9072 - categorical_accuracy: 0.9067\n",
      "Epoch 00042: val_loss improved from 0.44512 to 0.43421, saving model to hackerearth_holiday_season_model.h5\n",
      "43/43 [==============================] - 52s 1s/step - loss: 0.1739 - f1_score: 0.9072 - categorical_accuracy: 0.9067 - val_loss: 0.4342 - val_f1_score: 0.8952 - val_categorical_accuracy: 0.8950\n",
      "Epoch 43/275\n",
      "43/43 [==============================] - ETA: 0s - loss: 0.1556 - f1_score: 0.9103 - categorical_accuracy: 0.9100\n",
      "Epoch 00043: val_loss did not improve from 0.43421\n",
      "43/43 [==============================] - 44s 1s/step - loss: 0.1556 - f1_score: 0.9103 - categorical_accuracy: 0.9100 - val_loss: 0.4365 - val_f1_score: 0.8918 - val_categorical_accuracy: 0.8919\n",
      "Epoch 44/275\n",
      "43/43 [==============================] - ETA: 0s - loss: 0.1431 - f1_score: 0.9172 - categorical_accuracy: 0.9169\n",
      "Epoch 00044: val_loss improved from 0.43421 to 0.41075, saving model to hackerearth_holiday_season_model.h5\n",
      "43/43 [==============================] - 52s 1s/step - loss: 0.1431 - f1_score: 0.9172 - categorical_accuracy: 0.9169 - val_loss: 0.4107 - val_f1_score: 0.8937 - val_categorical_accuracy: 0.8939\n",
      "Epoch 45/275\n",
      "43/43 [==============================] - ETA: 0s - loss: 0.1386 - f1_score: 0.9122 - categorical_accuracy: 0.9120\n",
      "Epoch 00045: val_loss improved from 0.41075 to 0.40151, saving model to hackerearth_holiday_season_model.h5\n",
      "43/43 [==============================] - 51s 1s/step - loss: 0.1386 - f1_score: 0.9122 - categorical_accuracy: 0.9120 - val_loss: 0.4015 - val_f1_score: 0.8949 - val_categorical_accuracy: 0.8950\n",
      "Epoch 46/275\n",
      "43/43 [==============================] - ETA: 0s - loss: 0.1294 - f1_score: 0.9187 - categorical_accuracy: 0.9183\n",
      "Epoch 00046: val_loss did not improve from 0.40151\n",
      "43/43 [==============================] - 43s 1s/step - loss: 0.1294 - f1_score: 0.9187 - categorical_accuracy: 0.9183 - val_loss: 0.4056 - val_f1_score: 0.8968 - val_categorical_accuracy: 0.8970\n",
      "Epoch 47/275\n",
      "43/43 [==============================] - ETA: 0s - loss: 0.1324 - f1_score: 0.9157 - categorical_accuracy: 0.9151\n",
      "Epoch 00047: val_loss improved from 0.40151 to 0.38992, saving model to hackerearth_holiday_season_model.h5\n",
      "43/43 [==============================] - 52s 1s/step - loss: 0.1324 - f1_score: 0.9157 - categorical_accuracy: 0.9151 - val_loss: 0.3899 - val_f1_score: 0.9021 - val_categorical_accuracy: 0.9022\n",
      "Epoch 48/275\n",
      "43/43 [==============================] - ETA: 0s - loss: 0.1191 - f1_score: 0.9176 - categorical_accuracy: 0.9172\n",
      "Epoch 00048: val_loss improved from 0.38992 to 0.38093, saving model to hackerearth_holiday_season_model.h5\n",
      "43/43 [==============================] - 50s 1s/step - loss: 0.1191 - f1_score: 0.9176 - categorical_accuracy: 0.9172 - val_loss: 0.3809 - val_f1_score: 0.9025 - val_categorical_accuracy: 0.9022\n",
      "Epoch 49/275\n",
      "43/43 [==============================] - ETA: 0s - loss: 0.1235 - f1_score: 0.9182 - categorical_accuracy: 0.9176\n",
      "Epoch 00049: val_loss did not improve from 0.38093\n",
      "43/43 [==============================] - 44s 1s/step - loss: 0.1235 - f1_score: 0.9182 - categorical_accuracy: 0.9176 - val_loss: 0.3922 - val_f1_score: 0.9047 - val_categorical_accuracy: 0.9042\n",
      "Epoch 50/275\n",
      "43/43 [==============================] - ETA: 0s - loss: 0.1206 - f1_score: 0.9098 - categorical_accuracy: 0.9092\n",
      "Epoch 00050: val_loss improved from 0.38093 to 0.37459, saving model to hackerearth_holiday_season_model.h5\n",
      "43/43 [==============================] - 52s 1s/step - loss: 0.1206 - f1_score: 0.9098 - categorical_accuracy: 0.9092 - val_loss: 0.3746 - val_f1_score: 0.9027 - val_categorical_accuracy: 0.9022\n",
      "Epoch 51/275\n",
      "43/43 [==============================] - ETA: 0s - loss: 0.1178 - f1_score: 0.9129 - categorical_accuracy: 0.9125\n",
      "Epoch 00051: val_loss improved from 0.37459 to 0.37444, saving model to hackerearth_holiday_season_model.h5\n",
      "43/43 [==============================] - 51s 1s/step - loss: 0.1178 - f1_score: 0.9129 - categorical_accuracy: 0.9125 - val_loss: 0.3744 - val_f1_score: 0.8996 - val_categorical_accuracy: 0.8991\n",
      "Epoch 52/275\n",
      "43/43 [==============================] - ETA: 0s - loss: 0.1137 - f1_score: 0.9130 - categorical_accuracy: 0.9127\n",
      "Epoch 00052: val_loss did not improve from 0.37444\n",
      "43/43 [==============================] - 44s 1s/step - loss: 0.1137 - f1_score: 0.9130 - categorical_accuracy: 0.9127 - val_loss: 0.3809 - val_f1_score: 0.9024 - val_categorical_accuracy: 0.9022\n",
      "Epoch 53/275\n",
      "43/43 [==============================] - ETA: 0s - loss: 0.1141 - f1_score: 0.9130 - categorical_accuracy: 0.9127\n",
      "Epoch 00053: val_loss improved from 0.37444 to 0.36359, saving model to hackerearth_holiday_season_model.h5\n",
      "43/43 [==============================] - 51s 1s/step - loss: 0.1141 - f1_score: 0.9130 - categorical_accuracy: 0.9127 - val_loss: 0.3636 - val_f1_score: 0.8982 - val_categorical_accuracy: 0.8980\n",
      "Epoch 54/275\n",
      "43/43 [==============================] - ETA: 0s - loss: 0.1051 - f1_score: 0.9233 - categorical_accuracy: 0.9229\n",
      "Epoch 00054: val_loss did not improve from 0.36359\n",
      "43/43 [==============================] - 43s 1s/step - loss: 0.1051 - f1_score: 0.9233 - categorical_accuracy: 0.9229 - val_loss: 0.3772 - val_f1_score: 0.8991 - val_categorical_accuracy: 0.8991\n",
      "Epoch 55/275\n",
      "43/43 [==============================] - ETA: 0s - loss: 0.1024 - f1_score: 0.9198 - categorical_accuracy: 0.9196\n",
      "Epoch 00055: val_loss did not improve from 0.36359\n",
      "43/43 [==============================] - 43s 1s/step - loss: 0.1024 - f1_score: 0.9198 - categorical_accuracy: 0.9196 - val_loss: 0.3922 - val_f1_score: 0.8929 - val_categorical_accuracy: 0.8929\n",
      "Epoch 56/275\n",
      "43/43 [==============================] - ETA: 0s - loss: 0.1017 - f1_score: 0.9188 - categorical_accuracy: 0.9183\n",
      "Epoch 00056: val_loss did not improve from 0.36359\n",
      "43/43 [==============================] - 43s 1s/step - loss: 0.1017 - f1_score: 0.9188 - categorical_accuracy: 0.9183 - val_loss: 0.3853 - val_f1_score: 0.9026 - val_categorical_accuracy: 0.9022\n",
      "Epoch 57/275\n",
      "43/43 [==============================] - ETA: 0s - loss: 0.0956 - f1_score: 0.9287 - categorical_accuracy: 0.9283\n",
      "Epoch 00057: val_loss did not improve from 0.36359\n",
      "43/43 [==============================] - 45s 1s/step - loss: 0.0956 - f1_score: 0.9287 - categorical_accuracy: 0.9283 - val_loss: 0.3731 - val_f1_score: 0.8929 - val_categorical_accuracy: 0.8929\n",
      "Epoch 58/275\n",
      "43/43 [==============================] - ETA: 0s - loss: 0.1073 - f1_score: 0.9152 - categorical_accuracy: 0.9147\n",
      "Epoch 00058: val_loss did not improve from 0.36359\n",
      "43/43 [==============================] - 45s 1s/step - loss: 0.1073 - f1_score: 0.9152 - categorical_accuracy: 0.9147 - val_loss: 0.3919 - val_f1_score: 0.8974 - val_categorical_accuracy: 0.8970\n",
      "Epoch 59/275\n",
      "43/43 [==============================] - ETA: 0s - loss: 0.1011 - f1_score: 0.9249 - categorical_accuracy: 0.9245\n",
      "Epoch 00059: val_loss did not improve from 0.36359\n",
      "43/43 [==============================] - 46s 1s/step - loss: 0.1011 - f1_score: 0.9249 - categorical_accuracy: 0.9245 - val_loss: 0.3782 - val_f1_score: 0.9013 - val_categorical_accuracy: 0.9011\n",
      "Epoch 60/275\n",
      "43/43 [==============================] - ETA: 0s - loss: 0.0934 - f1_score: 0.9299 - categorical_accuracy: 0.9298\n",
      "Epoch 00060: ReduceLROnPlateau reducing learning rate to 9.999999310821295e-05.\n",
      "\n",
      "Epoch 00060: val_loss did not improve from 0.36359\n",
      "43/43 [==============================] - 44s 1s/step - loss: 0.0934 - f1_score: 0.9299 - categorical_accuracy: 0.9298 - val_loss: 0.3899 - val_f1_score: 0.8993 - val_categorical_accuracy: 0.8991\n",
      "Epoch 61/275\n",
      "43/43 [==============================] - ETA: 0s - loss: 0.0884 - f1_score: 0.9309 - categorical_accuracy: 0.9309\n",
      "Epoch 00061: val_loss did not improve from 0.36359\n",
      "43/43 [==============================] - 44s 1s/step - loss: 0.0884 - f1_score: 0.9309 - categorical_accuracy: 0.9309 - val_loss: 0.3890 - val_f1_score: 0.8984 - val_categorical_accuracy: 0.8980\n",
      "Epoch 62/275\n",
      "43/43 [==============================] - ETA: 0s - loss: 0.0851 - f1_score: 0.9331 - categorical_accuracy: 0.9329\n",
      "Epoch 00062: val_loss did not improve from 0.36359\n",
      "43/43 [==============================] - 44s 1s/step - loss: 0.0851 - f1_score: 0.9331 - categorical_accuracy: 0.9329 - val_loss: 0.3860 - val_f1_score: 0.8995 - val_categorical_accuracy: 0.8991\n",
      "Epoch 63/275\n",
      "43/43 [==============================] - ETA: 0s - loss: 0.0829 - f1_score: 0.9346 - categorical_accuracy: 0.9345Restoring model weights from the end of the best epoch.\n",
      "\n",
      "Epoch 00063: val_loss did not improve from 0.36359\n",
      "43/43 [==============================] - 46s 1s/step - loss: 0.0829 - f1_score: 0.9346 - categorical_accuracy: 0.9345 - val_loss: 0.3870 - val_f1_score: 0.9015 - val_categorical_accuracy: 0.9011\n",
      "Epoch 00063: early stopping\n"
     ]
    }
   ],
   "source": [
    "history = model.fit(\n",
    "    train_generator, \n",
    "    steps_per_epoch=steps_per_epoch,\n",
    "    class_weight=class_weight, \n",
    "    epochs=275, \n",
    "    verbose=1, \n",
    "    workers=5,\n",
    "    callbacks=[reduce_lr, early, chk_point], \n",
    "    validation_data=validation_generator,\n",
    "    validation_steps=validation_steps\n",
    ")"
   ]
  },
  {
   "cell_type": "code",
   "execution_count": 17,
   "metadata": {
    "execution": {
     "iopub.execute_input": "2021-01-23T13:11:24.391666Z",
     "iopub.status.busy": "2021-01-23T13:11:24.390605Z",
     "iopub.status.idle": "2021-01-23T13:11:26.130981Z",
     "shell.execute_reply": "2021-01-23T13:11:26.132088Z"
    },
    "papermill": {
     "duration": 4.489766,
     "end_time": "2021-01-23T13:11:26.132295",
     "exception": false,
     "start_time": "2021-01-23T13:11:21.642529",
     "status": "completed"
    },
    "tags": []
   },
   "outputs": [
    {
     "data": {
      "image/png": "[encoded data removed]",
      "text/plain": [
       "<Figure size 2160x720 with 3 Axes>"
      ]
     },
     "metadata": {},
     "output_type": "display_data"
    }
   ],
   "source": [
    "_, ax = plt.subplots(1, 3, figsize=(30, 10))\n",
    "\n",
    "ax[0].plot(history.history['loss'], label='train_loss')\n",
    "ax[0].plot(history.history['val_loss'], label='val_loss')\n",
    "ax[0].set_ylabel('Loss')\n",
    "ax[0].set_xlabel('Epoch')\n",
    "ax[0].set_title(\"Model Loss Curve\")\n",
    "ax[0].legend()\n",
    "ax[0].grid()\n",
    "\n",
    "ax[1].plot(history.history['f1_score'], label='train_f1_score')\n",
    "ax[1].plot(history.history['val_f1_score'], label='val_f1_score')\n",
    "ax[1].set_ylabel('F1-Score')\n",
    "ax[1].set_xlabel('Epoch')\n",
    "ax[1].set_title(\"Model F1-Score Curve\")\n",
    "ax[1].legend()\n",
    "ax[1].grid()\n",
    "\n",
    "ax[2].plot(history.history['categorical_accuracy'], label='train_accuracy')\n",
    "ax[2].plot(history.history['val_categorical_accuracy'], label='val_accuracy')\n",
    "ax[2].set_ylabel('Accuracy')\n",
    "ax[2].set_xlabel('Epoch')\n",
    "ax[2].set_title(\"Model Accuracy Curve\")\n",
    "ax[2].legend()\n",
    "ax[2].grid()"
   ]
  },
  {
   "cell_type": "markdown",
   "metadata": {
    "papermill": {
     "duration": 1.155198,
     "end_time": "2021-01-23T13:11:28.755371",
     "exception": false,
     "start_time": "2021-01-23T13:11:27.600173",
     "status": "completed"
    },
    "tags": []
   },
   "source": [
    "## Check classification report"
   ]
  },
  {
   "cell_type": "code",
   "execution_count": 18,
   "metadata": {
    "execution": {
     "iopub.execute_input": "2021-01-23T13:11:31.090028Z",
     "iopub.status.busy": "2021-01-23T13:11:31.052614Z",
     "iopub.status.idle": "2021-01-23T13:11:37.808156Z",
     "shell.execute_reply": "2021-01-23T13:11:37.808663Z"
    },
    "papermill": {
     "duration": 7.911143,
     "end_time": "2021-01-23T13:11:37.808823",
     "exception": false,
     "start_time": "2021-01-23T13:11:29.897680",
     "status": "completed"
    },
    "tags": []
   },
   "outputs": [],
   "source": [
    "model = load_model('./hackerearth_holiday_season_model.h5')"
   ]
  },
  {
   "cell_type": "code",
   "execution_count": 19,
   "metadata": {
    "execution": {
     "iopub.execute_input": "2021-01-23T13:11:40.081002Z",
     "iopub.status.busy": "2021-01-23T13:11:40.080050Z",
     "iopub.status.idle": "2021-01-23T13:11:46.177959Z",
     "shell.execute_reply": "2021-01-23T13:11:46.178650Z"
    },
    "papermill": {
     "duration": 7.247826,
     "end_time": "2021-01-23T13:11:46.178817",
     "exception": false,
     "start_time": "2021-01-23T13:11:38.930991",
     "status": "completed"
    },
    "tags": []
   },
   "outputs": [
    {
     "name": "stdout",
     "output_type": "stream",
     "text": [
      "8/8 [==============================] - 2s 263ms/step\n",
      "\n",
      "y_true: (971,)\n",
      "y_pred: (971,)\n"
     ]
    }
   ],
   "source": [
    "y_true = np.array([validation_generator.classes]).ravel()\n",
    "y_pred = model.predict(validation_generator, verbose=1)\n",
    "y_pred = np.argmax(y_pred, axis=1)\n",
    "\n",
    "print(\"\\ny_true: {}\".format(y_true.shape))\n",
    "print(\"y_pred: {}\".format(y_pred.shape))"
   ]
  },
  {
   "cell_type": "code",
   "execution_count": 20,
   "metadata": {
    "execution": {
     "iopub.execute_input": "2021-01-23T13:11:48.728831Z",
     "iopub.status.busy": "2021-01-23T13:11:48.727886Z",
     "iopub.status.idle": "2021-01-23T13:11:48.738597Z",
     "shell.execute_reply": "2021-01-23T13:11:48.737935Z"
    },
    "papermill": {
     "duration": 1.379829,
     "end_time": "2021-01-23T13:11:48.738741",
     "exception": false,
     "start_time": "2021-01-23T13:11:47.358912",
     "status": "completed"
    },
    "tags": []
   },
   "outputs": [
    {
     "name": "stdout",
     "output_type": "stream",
     "text": [
      "              precision    recall  f1-score   support\n",
      "\n",
      "           0       0.88      0.84      0.86        80\n",
      "           1       0.91      0.87      0.89        89\n",
      "           2       0.90      0.92      0.91       231\n",
      "           3       0.97      0.89      0.92        96\n",
      "           4       0.90      0.91      0.90       421\n",
      "           5       0.78      0.87      0.82        54\n",
      "\n",
      "    accuracy                           0.90       971\n",
      "   macro avg       0.89      0.88      0.88       971\n",
      "weighted avg       0.90      0.90      0.90       971\n",
      "\n"
     ]
    }
   ],
   "source": [
    "print(classification_report(y_true, y_pred))"
   ]
  },
  {
   "cell_type": "code",
   "execution_count": 21,
   "metadata": {
    "execution": {
     "iopub.execute_input": "2021-01-23T13:11:51.006546Z",
     "iopub.status.busy": "2021-01-23T13:11:50.997312Z",
     "iopub.status.idle": "2021-01-23T13:11:51.499396Z",
     "shell.execute_reply": "2021-01-23T13:11:51.500049Z"
    },
    "papermill": {
     "duration": 1.636432,
     "end_time": "2021-01-23T13:11:51.500218",
     "exception": false,
     "start_time": "2021-01-23T13:11:49.863786",
     "status": "completed"
    },
    "tags": []
   },
   "outputs": [
    {
     "data": {
      "image/png": "[encoded data removed]",
      "text/plain": [
       "<Figure size 864x504 with 2 Axes>"
      ]
     },
     "metadata": {},
     "output_type": "display_data"
    }
   ],
   "source": [
    "cnf_matrix = confusion_matrix(y_true, y_pred, labels=[0, 1, 2, 3, 4, 5])\n",
    "np.set_printoptions(precision=2)\n",
    "plt.figure(figsize=(12,7))\n",
    "plot_confusion_matrix(cnf_matrix, classes=[0, 1, 2, 3, 4, 5])"
   ]
  },
  {
   "cell_type": "markdown",
   "metadata": {
    "papermill": {
     "duration": 1.120447,
     "end_time": "2021-01-23T13:11:53.828161",
     "exception": false,
     "start_time": "2021-01-23T13:11:52.707714",
     "status": "completed"
    },
    "tags": []
   },
   "source": [
    "## Create submission file"
   ]
  },
  {
   "cell_type": "code",
   "execution_count": 22,
   "metadata": {
    "execution": {
     "iopub.execute_input": "2021-01-23T13:11:56.098206Z",
     "iopub.status.busy": "2021-01-23T13:11:56.096419Z",
     "iopub.status.idle": "2021-01-23T13:11:56.098948Z",
     "shell.execute_reply": "2021-01-23T13:11:56.099509Z"
    },
    "papermill": {
     "duration": 1.135933,
     "end_time": "2021-01-23T13:11:56.099644",
     "exception": false,
     "start_time": "2021-01-23T13:11:54.963711",
     "status": "completed"
    },
    "tags": []
   },
   "outputs": [],
   "source": [
    "rev_class_map = {\n",
    "    0: 'Airplane',\n",
    "    1: 'Candle',\n",
    "    2: 'Christmas_Tree',\n",
    "    3: 'Jacket',\n",
    "    4: 'Miscellaneous',\n",
    "    5: 'Snowman'\n",
    "}"
   ]
  },
  {
   "cell_type": "code",
   "execution_count": 23,
   "metadata": {
    "execution": {
     "iopub.execute_input": "2021-01-23T13:11:59.109073Z",
     "iopub.status.busy": "2021-01-23T13:11:59.108190Z",
     "iopub.status.idle": "2021-01-23T13:12:31.233818Z",
     "shell.execute_reply": "2021-01-23T13:12:31.230392Z"
    },
    "papermill": {
     "duration": 33.850157,
     "end_time": "2021-01-23T13:12:31.233976",
     "exception": false,
     "start_time": "2021-01-23T13:11:57.383819",
     "status": "completed"
    },
    "tags": []
   },
   "outputs": [
    {
     "name": "stdout",
     "output_type": "stream",
     "text": [
      "28/28 [==============================] - 30s 1s/step\n",
      "(3489,)\n"
     ]
    }
   ],
   "source": [
    "y_pred_final = model.predict(test_generator, verbose=1)\n",
    "y_pred_final = np.argmax(y_pred_final, axis=1)\n",
    "print(y_pred_final.shape)"
   ]
  },
  {
   "cell_type": "code",
   "execution_count": 24,
   "metadata": {
    "execution": {
     "iopub.execute_input": "2021-01-23T13:12:33.819428Z",
     "iopub.status.busy": "2021-01-23T13:12:33.818238Z",
     "iopub.status.idle": "2021-01-23T13:12:33.822783Z",
     "shell.execute_reply": "2021-01-23T13:12:33.823332Z"
    },
    "papermill": {
     "duration": 1.165227,
     "end_time": "2021-01-23T13:12:33.823476",
     "exception": false,
     "start_time": "2021-01-23T13:12:32.658249",
     "status": "completed"
    },
    "tags": []
   },
   "outputs": [
    {
     "data": {
      "text/html": [
       "<div>\n",
       "<style scoped>\n",
       "    .dataframe tbody tr th:only-of-type {\n",
       "        vertical-align: middle;\n",
       "    }\n",
       "\n",
       "    .dataframe tbody tr th {\n",
       "        vertical-align: top;\n",
       "    }\n",
       "\n",
       "    .dataframe thead th {\n",
       "        text-align: right;\n",
       "    }\n",
       "</style>\n",
       "<table border=\"1\" class=\"dataframe\">\n",
       "  <thead>\n",
       "    <tr style=\"text-align: right;\">\n",
       "      <th></th>\n",
       "      <th>Image</th>\n",
       "      <th>Class</th>\n",
       "    </tr>\n",
       "  </thead>\n",
       "  <tbody>\n",
       "    <tr>\n",
       "      <th>0</th>\n",
       "      <td>image7761.jpg</td>\n",
       "      <td>Miscellaneous</td>\n",
       "    </tr>\n",
       "    <tr>\n",
       "      <th>1</th>\n",
       "      <td>image3202.jpg</td>\n",
       "      <td>Miscellaneous</td>\n",
       "    </tr>\n",
       "    <tr>\n",
       "      <th>2</th>\n",
       "      <td>image688.jpg</td>\n",
       "      <td>Snowman</td>\n",
       "    </tr>\n",
       "    <tr>\n",
       "      <th>3</th>\n",
       "      <td>image233.jpg</td>\n",
       "      <td>Candle</td>\n",
       "    </tr>\n",
       "    <tr>\n",
       "      <th>4</th>\n",
       "      <td>image4332.jpg</td>\n",
       "      <td>Christmas_Tree</td>\n",
       "    </tr>\n",
       "  </tbody>\n",
       "</table>\n",
       "</div>"
      ],
      "text/plain": [
       "           Image           Class\n",
       "0  image7761.jpg   Miscellaneous\n",
       "1  image3202.jpg   Miscellaneous\n",
       "2   image688.jpg         Snowman\n",
       "3   image233.jpg          Candle\n",
       "4  image4332.jpg  Christmas_Tree"
      ]
     },
     "execution_count": 24,
     "metadata": {},
     "output_type": "execute_result"
    }
   ],
   "source": [
    "test_df['Class'] = y_pred_final\n",
    "test_df['Class'] = test_df['Class'].map(rev_class_map)\n",
    "test_df.head()"
   ]
  },
  {
   "cell_type": "code",
   "execution_count": 25,
   "metadata": {
    "execution": {
     "iopub.execute_input": "2021-01-23T13:12:36.112066Z",
     "iopub.status.busy": "2021-01-23T13:12:36.111311Z",
     "iopub.status.idle": "2021-01-23T13:12:36.463607Z",
     "shell.execute_reply": "2021-01-23T13:12:36.462229Z"
    },
    "papermill": {
     "duration": 1.501866,
     "end_time": "2021-01-23T13:12:36.463777",
     "exception": false,
     "start_time": "2021-01-23T13:12:34.961911",
     "status": "completed"
    },
    "tags": []
   },
   "outputs": [],
   "source": [
    "test_df.to_csv(\"/kaggle/working/submission.csv\", index=False)"
   ]
  },
  {
   "cell_type": "code",
   "execution_count": null,
   "metadata": {
    "papermill": {
     "duration": 1.151201,
     "end_time": "2021-01-23T13:12:38.781895",
     "exception": false,
     "start_time": "2021-01-23T13:12:37.630694",
     "status": "completed"
    },
    "tags": []
   },
   "outputs": [],
   "source": []
  }
 ],
 "metadata": {
  "kernelspec": {
   "display_name": "Python 3",
   "language": "python",
   "name": "python3"
  },
  "language_info": {
   "codemirror_mode": {
    "name": "ipython",
    "version": 3
   },
   "file_extension": ".py",
   "mimetype": "text/x-python",
   "name": "python",
   "nbconvert_exporter": "python",
   "pygments_lexer": "ipython3",
   "version": "3.7.9"
  },
  "papermill": {
   "duration": 3539.022199,
   "end_time": "2021-01-23T13:12:41.693038",
   "environment_variables": {},
   "exception": null,
   "input_path": "__notebook__.ipynb",
   "output_path": "__notebook__.ipynb",
   "parameters": {},
   "start_time": "2021-01-23T12:13:42.670839",
   "version": "2.1.0"
  }
 },
 "nbformat": 4,
 "nbformat_minor": 4
}
