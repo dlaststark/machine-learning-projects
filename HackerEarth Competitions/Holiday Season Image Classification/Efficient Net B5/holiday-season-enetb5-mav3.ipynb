{
 "cells": [
  {
   "cell_type": "markdown",
   "metadata": {
    "papermill": {
     "duration": 0.02176,
     "end_time": "2021-01-23T15:19:10.776886",
     "exception": false,
     "start_time": "2021-01-23T15:19:10.755126",
     "status": "completed"
    },
    "tags": []
   },
   "source": [
    "## Import Packages"
   ]
  },
  {
   "cell_type": "code",
   "execution_count": 1,
   "metadata": {
    "execution": {
     "iopub.execute_input": "2021-01-23T15:19:10.829773Z",
     "iopub.status.busy": "2021-01-23T15:19:10.829189Z",
     "iopub.status.idle": "2021-01-23T15:19:15.953042Z",
     "shell.execute_reply": "2021-01-23T15:19:15.951958Z"
    },
    "papermill": {
     "duration": 5.154832,
     "end_time": "2021-01-23T15:19:15.953168",
     "exception": false,
     "start_time": "2021-01-23T15:19:10.798336",
     "status": "completed"
    },
    "tags": []
   },
   "outputs": [],
   "source": [
    "import os\n",
    "import itertools\n",
    "import numpy as np\n",
    "import pandas as pd\n",
    "import seaborn as sns\n",
    "from tqdm import tqdm\n",
    "import matplotlib.pyplot as plt\n",
    "from sklearn.metrics import confusion_matrix\n",
    "from sklearn.metrics import classification_report\n",
    "from sklearn.model_selection import StratifiedShuffleSplit\n",
    "\n",
    "import tensorflow as tf\n",
    "from tensorflow.keras import backend as K\n",
    "from tensorflow.keras.regularizers import l2\n",
    "from tensorflow_addons.metrics import F1Score\n",
    "from tensorflow.keras.models import Model, load_model\n",
    "from tensorflow_addons.optimizers import AdamW, Lookahead\n",
    "from tensorflow.keras.callbacks import EarlyStopping\n",
    "from tensorflow.keras.callbacks import ReduceLROnPlateau\n",
    "from tensorflow.keras.callbacks import ModelCheckpoint\n",
    "from tensorflow.keras.applications import EfficientNetB5\n",
    "from tensorflow.keras.layers import Dense, Dropout, Flatten\n",
    "from tensorflow.keras.layers import BatchNormalization, Input\n",
    "from tensorflow.keras.layers import ZeroPadding2D, MaxPooling2D\n",
    "from tensorflow.keras.layers import GlobalAveragePooling2D, Add\n",
    "from tensorflow.keras.layers import GlobalMaxPooling2D, Reshape\n",
    "from tensorflow.keras.layers import Activation, Conv2D, Average\n",
    "from tensorflow.keras.preprocessing.image import ImageDataGenerator"
   ]
  },
  {
   "cell_type": "markdown",
   "metadata": {
    "papermill": {
     "duration": 0.021001,
     "end_time": "2021-01-23T15:19:15.995165",
     "exception": false,
     "start_time": "2021-01-23T15:19:15.974164",
     "status": "completed"
    },
    "tags": []
   },
   "source": [
    "## Helper Functions"
   ]
  },
  {
   "cell_type": "code",
   "execution_count": 2,
   "metadata": {
    "execution": {
     "iopub.execute_input": "2021-01-23T15:19:16.046744Z",
     "iopub.status.busy": "2021-01-23T15:19:16.045974Z",
     "iopub.status.idle": "2021-01-23T15:19:16.048833Z",
     "shell.execute_reply": "2021-01-23T15:19:16.048408Z"
    },
    "papermill": {
     "duration": 0.033184,
     "end_time": "2021-01-23T15:19:16.048922",
     "exception": false,
     "start_time": "2021-01-23T15:19:16.015738",
     "status": "completed"
    },
    "tags": []
   },
   "outputs": [],
   "source": [
    "def plot_confusion_matrix(cm, classes):\n",
    "\n",
    "    plt.imshow(cm, interpolation='nearest', cmap=plt.cm.Blues)\n",
    "    plt.title('Confusion matrix')\n",
    "    plt.colorbar()\n",
    "    tick_marks = np.arange(len(classes))\n",
    "    plt.xticks(tick_marks, classes, rotation=0)\n",
    "    plt.yticks(tick_marks, classes)\n",
    "\n",
    "    thresh = cm.max() / 2.\n",
    "    for i, j in itertools.product(range(cm.shape[0]), range(cm.shape[1])):\n",
    "        plt.text(j, i, format(cm[i, j], 'd'),\n",
    "                 horizontalalignment=\"center\",\n",
    "                 color=\"white\" if cm[i, j] > thresh else \"black\")\n",
    "\n",
    "    plt.ylabel('True label')\n",
    "    plt.xlabel('Predicted label')\n",
    "    plt.tight_layout()"
   ]
  },
  {
   "cell_type": "markdown",
   "metadata": {
    "papermill": {
     "duration": 0.020378,
     "end_time": "2021-01-23T15:19:16.093024",
     "exception": false,
     "start_time": "2021-01-23T15:19:16.072646",
     "status": "completed"
    },
    "tags": []
   },
   "source": [
    "## Read true labels + Basic EDA"
   ]
  },
  {
   "cell_type": "code",
   "execution_count": 3,
   "metadata": {
    "execution": {
     "iopub.execute_input": "2021-01-23T15:19:16.148151Z",
     "iopub.status.busy": "2021-01-23T15:19:16.147659Z",
     "iopub.status.idle": "2021-01-23T15:19:16.185400Z",
     "shell.execute_reply": "2021-01-23T15:19:16.184971Z"
    },
    "papermill": {
     "duration": 0.071887,
     "end_time": "2021-01-23T15:19:16.185489",
     "exception": false,
     "start_time": "2021-01-23T15:19:16.113602",
     "status": "completed"
    },
    "tags": []
   },
   "outputs": [
    {
     "data": {
      "text/html": [
       "<div>\n",
       "<style scoped>\n",
       "    .dataframe tbody tr th:only-of-type {\n",
       "        vertical-align: middle;\n",
       "    }\n",
       "\n",
       "    .dataframe tbody tr th {\n",
       "        vertical-align: top;\n",
       "    }\n",
       "\n",
       "    .dataframe thead th {\n",
       "        text-align: right;\n",
       "    }\n",
       "</style>\n",
       "<table border=\"1\" class=\"dataframe\">\n",
       "  <thead>\n",
       "    <tr style=\"text-align: right;\">\n",
       "      <th></th>\n",
       "      <th>Image</th>\n",
       "      <th>Class</th>\n",
       "    </tr>\n",
       "  </thead>\n",
       "  <tbody>\n",
       "    <tr>\n",
       "      <th>0</th>\n",
       "      <td>image3476.jpg</td>\n",
       "      <td>Miscellaneous</td>\n",
       "    </tr>\n",
       "    <tr>\n",
       "      <th>1</th>\n",
       "      <td>image5198.jpg</td>\n",
       "      <td>Candle</td>\n",
       "    </tr>\n",
       "    <tr>\n",
       "      <th>2</th>\n",
       "      <td>image4183.jpg</td>\n",
       "      <td>Snowman</td>\n",
       "    </tr>\n",
       "    <tr>\n",
       "      <th>3</th>\n",
       "      <td>image1806.jpg</td>\n",
       "      <td>Miscellaneous</td>\n",
       "    </tr>\n",
       "    <tr>\n",
       "      <th>4</th>\n",
       "      <td>image7831.jpg</td>\n",
       "      <td>Miscellaneous</td>\n",
       "    </tr>\n",
       "  </tbody>\n",
       "</table>\n",
       "</div>"
      ],
      "text/plain": [
       "           Image          Class\n",
       "0  image3476.jpg  Miscellaneous\n",
       "1  image5198.jpg         Candle\n",
       "2  image4183.jpg        Snowman\n",
       "3  image1806.jpg  Miscellaneous\n",
       "4  image7831.jpg  Miscellaneous"
      ]
     },
     "execution_count": 3,
     "metadata": {},
     "output_type": "execute_result"
    }
   ],
   "source": [
    "train_df = pd.read_csv(\"../input/hackereath-holiday-season-deep-learning-contest/dataset/train.csv\")\n",
    "train_df.head()"
   ]
  },
  {
   "cell_type": "code",
   "execution_count": 4,
   "metadata": {
    "execution": {
     "iopub.execute_input": "2021-01-23T15:19:16.232416Z",
     "iopub.status.busy": "2021-01-23T15:19:16.231793Z",
     "iopub.status.idle": "2021-01-23T15:19:16.234780Z",
     "shell.execute_reply": "2021-01-23T15:19:16.234362Z"
    },
    "papermill": {
     "duration": 0.027796,
     "end_time": "2021-01-23T15:19:16.234867",
     "exception": false,
     "start_time": "2021-01-23T15:19:16.207071",
     "status": "completed"
    },
    "tags": []
   },
   "outputs": [],
   "source": [
    "class_map = {\n",
    "    'Airplane': 0,\n",
    "    'Candle': 1,\n",
    "    'Christmas_Tree': 2,\n",
    "    'Jacket': 3,\n",
    "    'Miscellaneous': 4,\n",
    "    'Snowman': 5\n",
    "}"
   ]
  },
  {
   "cell_type": "code",
   "execution_count": 5,
   "metadata": {
    "execution": {
     "iopub.execute_input": "2021-01-23T15:19:16.292693Z",
     "iopub.status.busy": "2021-01-23T15:19:16.291856Z",
     "iopub.status.idle": "2021-01-23T15:19:16.304338Z",
     "shell.execute_reply": "2021-01-23T15:19:16.303807Z"
    },
    "papermill": {
     "duration": 0.048648,
     "end_time": "2021-01-23T15:19:16.304422",
     "exception": false,
     "start_time": "2021-01-23T15:19:16.255774",
     "status": "completed"
    },
    "tags": []
   },
   "outputs": [
    {
     "data": {
      "text/html": [
       "<div>\n",
       "<style scoped>\n",
       "    .dataframe tbody tr th:only-of-type {\n",
       "        vertical-align: middle;\n",
       "    }\n",
       "\n",
       "    .dataframe tbody tr th {\n",
       "        vertical-align: top;\n",
       "    }\n",
       "\n",
       "    .dataframe thead th {\n",
       "        text-align: right;\n",
       "    }\n",
       "</style>\n",
       "<table border=\"1\" class=\"dataframe\">\n",
       "  <thead>\n",
       "    <tr style=\"text-align: right;\">\n",
       "      <th></th>\n",
       "      <th>Class</th>\n",
       "      <th>Class_enc</th>\n",
       "      <th>Count</th>\n",
       "    </tr>\n",
       "  </thead>\n",
       "  <tbody>\n",
       "    <tr>\n",
       "      <th>0</th>\n",
       "      <td>Airplane</td>\n",
       "      <td>0</td>\n",
       "      <td>535</td>\n",
       "    </tr>\n",
       "    <tr>\n",
       "      <th>1</th>\n",
       "      <td>Candle</td>\n",
       "      <td>1</td>\n",
       "      <td>593</td>\n",
       "    </tr>\n",
       "    <tr>\n",
       "      <th>2</th>\n",
       "      <td>Christmas_Tree</td>\n",
       "      <td>2</td>\n",
       "      <td>1539</td>\n",
       "    </tr>\n",
       "    <tr>\n",
       "      <th>3</th>\n",
       "      <td>Jacket</td>\n",
       "      <td>3</td>\n",
       "      <td>640</td>\n",
       "    </tr>\n",
       "    <tr>\n",
       "      <th>4</th>\n",
       "      <td>Miscellaneous</td>\n",
       "      <td>4</td>\n",
       "      <td>2801</td>\n",
       "    </tr>\n",
       "    <tr>\n",
       "      <th>5</th>\n",
       "      <td>Snowman</td>\n",
       "      <td>5</td>\n",
       "      <td>361</td>\n",
       "    </tr>\n",
       "  </tbody>\n",
       "</table>\n",
       "</div>"
      ],
      "text/plain": [
       "            Class Class_enc  Count\n",
       "0        Airplane         0    535\n",
       "1          Candle         1    593\n",
       "2  Christmas_Tree         2   1539\n",
       "3          Jacket         3    640\n",
       "4   Miscellaneous         4   2801\n",
       "5         Snowman         5    361"
      ]
     },
     "execution_count": 5,
     "metadata": {},
     "output_type": "execute_result"
    }
   ],
   "source": [
    "train_df['Class_enc'] = train_df['Class'].map(class_map)\n",
    "train_df['Class_enc'] = train_df['Class_enc'].astype('str')\n",
    "train_df.groupby(['Class','Class_enc']).size().reset_index().rename(columns={0:'Count'})"
   ]
  },
  {
   "cell_type": "code",
   "execution_count": 6,
   "metadata": {
    "execution": {
     "iopub.execute_input": "2021-01-23T15:19:16.361830Z",
     "iopub.status.busy": "2021-01-23T15:19:16.361232Z",
     "iopub.status.idle": "2021-01-23T15:19:16.554597Z",
     "shell.execute_reply": "2021-01-23T15:19:16.555021Z"
    },
    "papermill": {
     "duration": 0.229323,
     "end_time": "2021-01-23T15:19:16.555134",
     "exception": false,
     "start_time": "2021-01-23T15:19:16.325811",
     "status": "completed"
    },
    "tags": []
   },
   "outputs": [
    {
     "data": {
      "image/png": "[encoded data removed]",
      "text/plain": [
       "<Figure size 864x504 with 1 Axes>"
      ]
     },
     "metadata": {
      "needs_background": "light"
     },
     "output_type": "display_data"
    }
   ],
   "source": [
    "plt.figure(figsize=(12,7))\n",
    "sns.set(style=\"darkgrid\")\n",
    "ax = sns.countplot(x=\"Class\", data=train_df)"
   ]
  },
  {
   "cell_type": "code",
   "execution_count": 7,
   "metadata": {
    "execution": {
     "iopub.execute_input": "2021-01-23T15:19:16.605893Z",
     "iopub.status.busy": "2021-01-23T15:19:16.605385Z",
     "iopub.status.idle": "2021-01-23T15:19:17.086583Z",
     "shell.execute_reply": "2021-01-23T15:19:17.086994Z"
    },
    "papermill": {
     "duration": 0.508696,
     "end_time": "2021-01-23T15:19:17.087121",
     "exception": false,
     "start_time": "2021-01-23T15:19:16.578425",
     "status": "completed"
    },
    "tags": []
   },
   "outputs": [
    {
     "name": "stderr",
     "output_type": "stream",
     "text": [
      "100%|██████████| 3489/3489 [00:00<00:00, 965808.25it/s]\n"
     ]
    },
    {
     "data": {
      "text/html": [
       "<div>\n",
       "<style scoped>\n",
       "    .dataframe tbody tr th:only-of-type {\n",
       "        vertical-align: middle;\n",
       "    }\n",
       "\n",
       "    .dataframe tbody tr th {\n",
       "        vertical-align: top;\n",
       "    }\n",
       "\n",
       "    .dataframe thead th {\n",
       "        text-align: right;\n",
       "    }\n",
       "</style>\n",
       "<table border=\"1\" class=\"dataframe\">\n",
       "  <thead>\n",
       "    <tr style=\"text-align: right;\">\n",
       "      <th></th>\n",
       "      <th>Image</th>\n",
       "      <th>Class</th>\n",
       "    </tr>\n",
       "  </thead>\n",
       "  <tbody>\n",
       "    <tr>\n",
       "      <th>0</th>\n",
       "      <td>image7761.jpg</td>\n",
       "      <td>0</td>\n",
       "    </tr>\n",
       "    <tr>\n",
       "      <th>1</th>\n",
       "      <td>image3202.jpg</td>\n",
       "      <td>0</td>\n",
       "    </tr>\n",
       "    <tr>\n",
       "      <th>2</th>\n",
       "      <td>image688.jpg</td>\n",
       "      <td>0</td>\n",
       "    </tr>\n",
       "    <tr>\n",
       "      <th>3</th>\n",
       "      <td>image233.jpg</td>\n",
       "      <td>0</td>\n",
       "    </tr>\n",
       "    <tr>\n",
       "      <th>4</th>\n",
       "      <td>image4332.jpg</td>\n",
       "      <td>0</td>\n",
       "    </tr>\n",
       "  </tbody>\n",
       "</table>\n",
       "</div>"
      ],
      "text/plain": [
       "           Image Class\n",
       "0  image7761.jpg     0\n",
       "1  image3202.jpg     0\n",
       "2   image688.jpg     0\n",
       "3   image233.jpg     0\n",
       "4  image4332.jpg     0"
      ]
     },
     "execution_count": 7,
     "metadata": {},
     "output_type": "execute_result"
    }
   ],
   "source": [
    "test_dir = \"../input/hackereath-holiday-season-deep-learning-contest/dataset/test\"\n",
    "test_files = []\n",
    "\n",
    "for file in tqdm(os.listdir(test_dir)):\n",
    "    test_files.append(file)\n",
    "\n",
    "test_df = pd.DataFrame(test_files, columns=['Image'])\n",
    "test_df['Class'] = '0'\n",
    "test_df.head()"
   ]
  },
  {
   "cell_type": "markdown",
   "metadata": {
    "papermill": {
     "duration": 0.023133,
     "end_time": "2021-01-23T15:19:17.133813",
     "exception": false,
     "start_time": "2021-01-23T15:19:17.110680",
     "status": "completed"
    },
    "tags": []
   },
   "source": [
    "## Calculate class-weights"
   ]
  },
  {
   "cell_type": "code",
   "execution_count": 8,
   "metadata": {
    "execution": {
     "iopub.execute_input": "2021-01-23T15:19:17.187402Z",
     "iopub.status.busy": "2021-01-23T15:19:17.186584Z",
     "iopub.status.idle": "2021-01-23T15:19:17.211485Z",
     "shell.execute_reply": "2021-01-23T15:19:17.211919Z"
    },
    "papermill": {
     "duration": 0.054785,
     "end_time": "2021-01-23T15:19:17.212021",
     "exception": false,
     "start_time": "2021-01-23T15:19:17.157236",
     "status": "completed"
    },
    "tags": []
   },
   "outputs": [
    {
     "data": {
      "text/plain": [
       "{0: 0.6747663551401869,\n",
       " 1: 0.6087689713322091,\n",
       " 2: 0.23456790123456786,\n",
       " 3: 0.5640625,\n",
       " 4: 0.12888254194930382,\n",
       " 5: 1.0}"
      ]
     },
     "execution_count": 8,
     "metadata": {},
     "output_type": "execute_result"
    }
   ],
   "source": [
    "temp_df = train_df.groupby(['Class_enc']).size().reset_index().rename(columns={0:'count'})\n",
    "total_count = np.sum(temp_df['count'].values)\n",
    "temp_df['class%'] = (temp_df['count'] / total_count) * 100\n",
    "lowest_pct = min(temp_df['class%'])\n",
    "temp_df['class_weight'] = lowest_pct / temp_df['class%']\n",
    "class_weight = temp_df[['Class_enc', 'class_weight']].to_dict()['class_weight']\n",
    "class_weight"
   ]
  },
  {
   "cell_type": "markdown",
   "metadata": {
    "papermill": {
     "duration": 0.02375,
     "end_time": "2021-01-23T15:19:17.259351",
     "exception": false,
     "start_time": "2021-01-23T15:19:17.235601",
     "status": "completed"
    },
    "tags": []
   },
   "source": [
    "## Split training data into train/validation datasets"
   ]
  },
  {
   "cell_type": "code",
   "execution_count": 9,
   "metadata": {
    "execution": {
     "iopub.execute_input": "2021-01-23T15:19:17.354594Z",
     "iopub.status.busy": "2021-01-23T15:19:17.353977Z",
     "iopub.status.idle": "2021-01-23T15:19:17.367963Z",
     "shell.execute_reply": "2021-01-23T15:19:17.368708Z"
    },
    "papermill": {
     "duration": 0.08416,
     "end_time": "2021-01-23T15:19:17.368852",
     "exception": false,
     "start_time": "2021-01-23T15:19:17.284692",
     "status": "completed"
    },
    "tags": []
   },
   "outputs": [
    {
     "name": "stdout",
     "output_type": "stream",
     "text": [
      "train_df shape: (5498, 3)\n",
      "validation_df shape: (971, 3)\n"
     ]
    }
   ],
   "source": [
    "sss = StratifiedShuffleSplit(n_splits=1, test_size=0.15, random_state=1)\n",
    "for train_index, validation_index in sss.split(train_df['Image'], train_df['Class_enc']):\n",
    "    train_df, validation_df = train_df.iloc[train_index], train_df.iloc[validation_index]\n",
    "\n",
    "print(\"train_df shape: {}\".format(train_df.shape))\n",
    "print(\"validation_df shape: {}\".format(validation_df.shape))"
   ]
  },
  {
   "cell_type": "code",
   "execution_count": 10,
   "metadata": {
    "execution": {
     "iopub.execute_input": "2021-01-23T15:19:17.422402Z",
     "iopub.status.busy": "2021-01-23T15:19:17.421586Z",
     "iopub.status.idle": "2021-01-23T15:19:17.433642Z",
     "shell.execute_reply": "2021-01-23T15:19:17.433104Z"
    },
    "papermill": {
     "duration": 0.040691,
     "end_time": "2021-01-23T15:19:17.433726",
     "exception": false,
     "start_time": "2021-01-23T15:19:17.393035",
     "status": "completed"
    },
    "tags": []
   },
   "outputs": [
    {
     "data": {
      "text/html": [
       "<div>\n",
       "<style scoped>\n",
       "    .dataframe tbody tr th:only-of-type {\n",
       "        vertical-align: middle;\n",
       "    }\n",
       "\n",
       "    .dataframe tbody tr th {\n",
       "        vertical-align: top;\n",
       "    }\n",
       "\n",
       "    .dataframe thead th {\n",
       "        text-align: right;\n",
       "    }\n",
       "</style>\n",
       "<table border=\"1\" class=\"dataframe\">\n",
       "  <thead>\n",
       "    <tr style=\"text-align: right;\">\n",
       "      <th></th>\n",
       "      <th>Class</th>\n",
       "      <th>Class_enc</th>\n",
       "      <th>Count</th>\n",
       "    </tr>\n",
       "  </thead>\n",
       "  <tbody>\n",
       "    <tr>\n",
       "      <th>0</th>\n",
       "      <td>Airplane</td>\n",
       "      <td>0</td>\n",
       "      <td>455</td>\n",
       "    </tr>\n",
       "    <tr>\n",
       "      <th>1</th>\n",
       "      <td>Candle</td>\n",
       "      <td>1</td>\n",
       "      <td>504</td>\n",
       "    </tr>\n",
       "    <tr>\n",
       "      <th>2</th>\n",
       "      <td>Christmas_Tree</td>\n",
       "      <td>2</td>\n",
       "      <td>1308</td>\n",
       "    </tr>\n",
       "    <tr>\n",
       "      <th>3</th>\n",
       "      <td>Jacket</td>\n",
       "      <td>3</td>\n",
       "      <td>544</td>\n",
       "    </tr>\n",
       "    <tr>\n",
       "      <th>4</th>\n",
       "      <td>Miscellaneous</td>\n",
       "      <td>4</td>\n",
       "      <td>2380</td>\n",
       "    </tr>\n",
       "    <tr>\n",
       "      <th>5</th>\n",
       "      <td>Snowman</td>\n",
       "      <td>5</td>\n",
       "      <td>307</td>\n",
       "    </tr>\n",
       "  </tbody>\n",
       "</table>\n",
       "</div>"
      ],
      "text/plain": [
       "            Class Class_enc  Count\n",
       "0        Airplane         0    455\n",
       "1          Candle         1    504\n",
       "2  Christmas_Tree         2   1308\n",
       "3          Jacket         3    544\n",
       "4   Miscellaneous         4   2380\n",
       "5         Snowman         5    307"
      ]
     },
     "execution_count": 10,
     "metadata": {},
     "output_type": "execute_result"
    }
   ],
   "source": [
    "train_df.groupby(['Class','Class_enc']).size().reset_index().rename(columns={0:'Count'})"
   ]
  },
  {
   "cell_type": "code",
   "execution_count": 11,
   "metadata": {
    "execution": {
     "iopub.execute_input": "2021-01-23T15:19:17.487987Z",
     "iopub.status.busy": "2021-01-23T15:19:17.487164Z",
     "iopub.status.idle": "2021-01-23T15:19:17.498045Z",
     "shell.execute_reply": "2021-01-23T15:19:17.497630Z"
    },
    "papermill": {
     "duration": 0.039952,
     "end_time": "2021-01-23T15:19:17.498133",
     "exception": false,
     "start_time": "2021-01-23T15:19:17.458181",
     "status": "completed"
    },
    "tags": []
   },
   "outputs": [
    {
     "data": {
      "text/html": [
       "<div>\n",
       "<style scoped>\n",
       "    .dataframe tbody tr th:only-of-type {\n",
       "        vertical-align: middle;\n",
       "    }\n",
       "\n",
       "    .dataframe tbody tr th {\n",
       "        vertical-align: top;\n",
       "    }\n",
       "\n",
       "    .dataframe thead th {\n",
       "        text-align: right;\n",
       "    }\n",
       "</style>\n",
       "<table border=\"1\" class=\"dataframe\">\n",
       "  <thead>\n",
       "    <tr style=\"text-align: right;\">\n",
       "      <th></th>\n",
       "      <th>Class</th>\n",
       "      <th>Class_enc</th>\n",
       "      <th>Count</th>\n",
       "    </tr>\n",
       "  </thead>\n",
       "  <tbody>\n",
       "    <tr>\n",
       "      <th>0</th>\n",
       "      <td>Airplane</td>\n",
       "      <td>0</td>\n",
       "      <td>80</td>\n",
       "    </tr>\n",
       "    <tr>\n",
       "      <th>1</th>\n",
       "      <td>Candle</td>\n",
       "      <td>1</td>\n",
       "      <td>89</td>\n",
       "    </tr>\n",
       "    <tr>\n",
       "      <th>2</th>\n",
       "      <td>Christmas_Tree</td>\n",
       "      <td>2</td>\n",
       "      <td>231</td>\n",
       "    </tr>\n",
       "    <tr>\n",
       "      <th>3</th>\n",
       "      <td>Jacket</td>\n",
       "      <td>3</td>\n",
       "      <td>96</td>\n",
       "    </tr>\n",
       "    <tr>\n",
       "      <th>4</th>\n",
       "      <td>Miscellaneous</td>\n",
       "      <td>4</td>\n",
       "      <td>421</td>\n",
       "    </tr>\n",
       "    <tr>\n",
       "      <th>5</th>\n",
       "      <td>Snowman</td>\n",
       "      <td>5</td>\n",
       "      <td>54</td>\n",
       "    </tr>\n",
       "  </tbody>\n",
       "</table>\n",
       "</div>"
      ],
      "text/plain": [
       "            Class Class_enc  Count\n",
       "0        Airplane         0     80\n",
       "1          Candle         1     89\n",
       "2  Christmas_Tree         2    231\n",
       "3          Jacket         3     96\n",
       "4   Miscellaneous         4    421\n",
       "5         Snowman         5     54"
      ]
     },
     "execution_count": 11,
     "metadata": {},
     "output_type": "execute_result"
    }
   ],
   "source": [
    "validation_df.groupby(['Class','Class_enc']).size().reset_index().rename(columns={0:'Count'})"
   ]
  },
  {
   "cell_type": "markdown",
   "metadata": {
    "papermill": {
     "duration": 0.025051,
     "end_time": "2021-01-23T15:19:17.547675",
     "exception": false,
     "start_time": "2021-01-23T15:19:17.522624",
     "status": "completed"
    },
    "tags": []
   },
   "source": [
    "## Model Hyperparameters"
   ]
  },
  {
   "cell_type": "code",
   "execution_count": 12,
   "metadata": {
    "execution": {
     "iopub.execute_input": "2021-01-23T15:19:17.603378Z",
     "iopub.status.busy": "2021-01-23T15:19:17.602678Z",
     "iopub.status.idle": "2021-01-23T15:19:17.605591Z",
     "shell.execute_reply": "2021-01-23T15:19:17.605062Z"
    },
    "papermill": {
     "duration": 0.032946,
     "end_time": "2021-01-23T15:19:17.605673",
     "exception": false,
     "start_time": "2021-01-23T15:19:17.572727",
     "status": "completed"
    },
    "tags": []
   },
   "outputs": [],
   "source": [
    "dataset_dir = \"../input/hackereath-holiday-season-deep-learning-contest/dataset/\"\n",
    "mini_batch_size = 128\n",
    "steps_per_epoch = int(np.ceil(train_df.shape[0] / float(mini_batch_size)))\n",
    "validation_steps = int(np.ceil(validation_df.shape[0] / float(mini_batch_size)))\n",
    "test_steps = int(np.ceil(test_df.shape[0] / float(mini_batch_size)))\n",
    "image_dim = (320, 320, 3)"
   ]
  },
  {
   "cell_type": "markdown",
   "metadata": {
    "papermill": {
     "duration": 0.025058,
     "end_time": "2021-01-23T15:19:17.655249",
     "exception": false,
     "start_time": "2021-01-23T15:19:17.630191",
     "status": "completed"
    },
    "tags": []
   },
   "source": [
    "## Configure image generators"
   ]
  },
  {
   "cell_type": "code",
   "execution_count": 13,
   "metadata": {
    "execution": {
     "iopub.execute_input": "2021-01-23T15:19:17.730533Z",
     "iopub.status.busy": "2021-01-23T15:19:17.729983Z",
     "iopub.status.idle": "2021-01-23T15:19:44.532973Z",
     "shell.execute_reply": "2021-01-23T15:19:44.533432Z"
    },
    "papermill": {
     "duration": 26.853698,
     "end_time": "2021-01-23T15:19:44.533575",
     "exception": false,
     "start_time": "2021-01-23T15:19:17.679877",
     "status": "completed"
    },
    "tags": []
   },
   "outputs": [
    {
     "name": "stdout",
     "output_type": "stream",
     "text": [
      "Found 5498 validated image filenames belonging to 6 classes.\n",
      "Found 971 validated image filenames belonging to 6 classes.\n",
      "Found 3489 validated image filenames belonging to 1 classes.\n"
     ]
    }
   ],
   "source": [
    "train_datagen = ImageDataGenerator(rotation_range = 30,\n",
    "                                   zoom_range = 0.2,\n",
    "                                   horizontal_flip = True,\n",
    "                                   fill_mode = 'nearest',\n",
    "                                   height_shift_range = 0.1,\n",
    "                                   width_shift_range = 0.1)\n",
    "\n",
    "train_generator = train_datagen.flow_from_dataframe(train_df,\n",
    "                                                    directory = os.path.join(dataset_dir,\"train\"),\n",
    "                                                    x_col = \"Image\", \n",
    "                                                    y_col = \"Class_enc\",\n",
    "                                                    target_size = (image_dim[0], image_dim[1]),\n",
    "                                                    batch_size = mini_batch_size,\n",
    "                                                    class_mode = \"categorical\",\n",
    "                                                    interpolation=\"bicubic\")\n",
    "\n",
    "validation_datagen = ImageDataGenerator()\n",
    "\n",
    "validation_generator = validation_datagen.flow_from_dataframe(validation_df,\n",
    "                                                              directory = os.path.join(dataset_dir,\"train\"),\n",
    "                                                              x_col = \"Image\",\n",
    "                                                              y_col = \"Class_enc\",\n",
    "                                                              shuffle=False,\n",
    "                                                              target_size = (image_dim[0], image_dim[1]),\n",
    "                                                              batch_size = mini_batch_size,\n",
    "                                                              class_mode = \"categorical\",\n",
    "                                                              interpolation=\"bicubic\")\n",
    "\n",
    "test_datagen = ImageDataGenerator()\n",
    "\n",
    "test_generator = test_datagen.flow_from_dataframe(test_df,\n",
    "                                                  directory = os.path.join(dataset_dir,\"test\"),\n",
    "                                                  x_col = \"Image\",\n",
    "                                                  y_col = \"Class\",\n",
    "                                                  shuffle=False,\n",
    "                                                  target_size = (image_dim[0], image_dim[1]),\n",
    "                                                  batch_size = mini_batch_size,\n",
    "                                                  class_mode = \"categorical\",\n",
    "                                                  interpolation=\"bicubic\")"
   ]
  },
  {
   "cell_type": "markdown",
   "metadata": {
    "papermill": {
     "duration": 0.025535,
     "end_time": "2021-01-23T15:19:44.585086",
     "exception": false,
     "start_time": "2021-01-23T15:19:44.559551",
     "status": "completed"
    },
    "tags": []
   },
   "source": [
    "## Build and validate the model"
   ]
  },
  {
   "cell_type": "code",
   "execution_count": 14,
   "metadata": {
    "execution": {
     "iopub.execute_input": "2021-01-23T15:19:44.667406Z",
     "iopub.status.busy": "2021-01-23T15:19:44.666216Z",
     "iopub.status.idle": "2021-01-23T15:19:44.669214Z",
     "shell.execute_reply": "2021-01-23T15:19:44.668780Z"
    },
    "papermill": {
     "duration": 0.058434,
     "end_time": "2021-01-23T15:19:44.669304",
     "exception": false,
     "start_time": "2021-01-23T15:19:44.610870",
     "status": "completed"
    },
    "tags": []
   },
   "outputs": [],
   "source": [
    "def head(x_input, input_shape=2048, ratio=8):\n",
    "    \n",
    "    #=======================================================\n",
    "    #                    Channel Attention\n",
    "    #=======================================================\n",
    "    gapavg = GlobalAveragePooling2D()(x_input)\n",
    "    gapavg = Reshape((1, 1, gapavg.shape[1]))(gapavg)\n",
    "    gapavg = Conv2D(input_shape//ratio, \n",
    "                    kernel_size=1, strides=1, use_bias=True, \n",
    "                    padding='same', kernel_regularizer=l2(0.001), \n",
    "                    kernel_initializer='he_normal')(gapavg)\n",
    "    gapavg = BatchNormalization()(gapavg)\n",
    "    gapavg = Activation('relu')(gapavg)\n",
    "    gapavg_out = Conv2D(input_shape, kernel_size=1, \n",
    "                        strides=1, padding='same', use_bias=True, \n",
    "                        kernel_regularizer=l2(0.001), \n",
    "                        kernel_initializer='he_normal')(gapavg)\n",
    "    gapavg_out = BatchNormalization()(gapavg_out)\n",
    "    gapavg_out = Activation('relu')(gapavg_out)\n",
    "\n",
    "\n",
    "    gmpmax = GlobalMaxPooling2D()(x_input)\n",
    "    gmpmax = Reshape((1, 1, gmpmax.shape[1]))(gmpmax)\n",
    "    gmpmax = Conv2D(input_shape//ratio, \n",
    "                    kernel_size=1, strides=1, use_bias=True, \n",
    "                    padding='same', kernel_regularizer=l2(0.001), \n",
    "                    kernel_initializer='he_normal')(gmpmax)\n",
    "    gmpmax = BatchNormalization()(gmpmax)\n",
    "    gmpmax = Activation('relu')(gmpmax)\n",
    "    gmpmax_out = Conv2D(input_shape, kernel_size=1, \n",
    "                        strides=1, padding='same', use_bias=True, \n",
    "                        kernel_regularizer=l2(0.001), \n",
    "                        kernel_initializer='he_normal')(gmpmax)\n",
    "    gmpmax_out = BatchNormalization()(gmpmax_out)\n",
    "    gmpmax_out = Activation('relu')(gmpmax_out)\n",
    "    canx = x_input * tf.math.sigmoid(gapavg_out + gmpmax_out)\n",
    "\n",
    "\n",
    "    #=======================================================\n",
    "    #                    Spatial Attention\n",
    "    #=======================================================\n",
    "    avg_out = tf.reduce_mean(canx, axis=3)\n",
    "    max_out = tf.reduce_max(canx,  axis=3)\n",
    "    x = tf.stack([avg_out, max_out], axis=3)\n",
    "    \n",
    "    x = Conv2D(filters=64, kernel_size=3, strides=1, \n",
    "               padding='same', use_bias=False, \n",
    "               kernel_regularizer=l2(0.001), \n",
    "               kernel_initializer='he_normal')(x)\n",
    "    x = BatchNormalization()(x)\n",
    "    x = Activation('relu')(x)\n",
    "\n",
    "    x = Conv2D(filters=32, kernel_size=3, strides=1, \n",
    "               padding='same', use_bias=False, \n",
    "               kernel_regularizer=l2(0.001), \n",
    "               kernel_initializer='he_normal')(x)\n",
    "    x = BatchNormalization()(x)\n",
    "    x = Activation('relu')(x)\n",
    "\n",
    "    x = Conv2D(filters=16, kernel_size=3, strides=1, \n",
    "               padding='same', use_bias=False, \n",
    "               kernel_regularizer=l2(0.001), \n",
    "               kernel_initializer='he_normal')(x)\n",
    "    x = BatchNormalization()(x)\n",
    "    x = Activation('relu')(x)\n",
    "\n",
    "    x = Conv2D(filters=1, kernel_size=3, strides=1, \n",
    "               padding='same', use_bias=False, \n",
    "               kernel_regularizer=l2(0.001), \n",
    "               kernel_initializer='he_normal')(x)\n",
    "    x = BatchNormalization()(x)\n",
    "    x = Activation('sigmoid')(x)\n",
    "    spnx1 = canx * x\n",
    "    spnx2 = x\n",
    "    \n",
    "    gapx   = GlobalAveragePooling2D()(spnx1)\n",
    "    wvgx   = GlobalAveragePooling2D()(spnx2)\n",
    "    gapavg = Average()([gapx, wvgx])\n",
    "    x = BatchNormalization()(gapavg)\n",
    "\n",
    "\n",
    "    #=======================================================\n",
    "    #                    Tail of the model\n",
    "    #=======================================================\n",
    "\n",
    "    x = Dense(units=2048, kernel_regularizer=l2(0.0001), \n",
    "              kernel_initializer='he_uniform')(x)\n",
    "    x = BatchNormalization()(x)\n",
    "    x = Activation('relu')(x)\n",
    "    x = Dropout(rate=0.5)(x)\n",
    "    \n",
    "    x = Dense(units=1024, kernel_regularizer=l2(0.0001), \n",
    "              kernel_initializer='he_uniform')(x)\n",
    "    x = BatchNormalization()(x)\n",
    "    x = Activation('relu')(x)\n",
    "    x = Dropout(rate=0.5)(x)\n",
    "    \n",
    "    x = Dense(units=1024, kernel_regularizer=l2(0.0001), \n",
    "              kernel_initializer='he_uniform')(x)\n",
    "    x = BatchNormalization()(x)\n",
    "    x = Activation('relu')(x)\n",
    "    x = Dropout(rate=0.5)(x)\n",
    "    \n",
    "    x = Dense(units=512, kernel_regularizer=l2(0.0001), \n",
    "              kernel_initializer='he_uniform')(x)\n",
    "    x = BatchNormalization()(x)\n",
    "    x = Activation('relu')(x)\n",
    "    x = Dropout(rate=0.5)(x)\n",
    "    \n",
    "    x = Dense(units=6, activation='softmax', \n",
    "              kernel_initializer='he_uniform')(x)\n",
    "\n",
    "    return x"
   ]
  },
  {
   "cell_type": "code",
   "execution_count": 15,
   "metadata": {
    "execution": {
     "iopub.execute_input": "2021-01-23T15:19:44.730796Z",
     "iopub.status.busy": "2021-01-23T15:19:44.730270Z",
     "iopub.status.idle": "2021-01-23T15:20:10.669504Z",
     "shell.execute_reply": "2021-01-23T15:20:10.668851Z"
    },
    "papermill": {
     "duration": 25.974612,
     "end_time": "2021-01-23T15:20:10.669618",
     "exception": false,
     "start_time": "2021-01-23T15:19:44.695006",
     "status": "completed"
    },
    "tags": []
   },
   "outputs": [
    {
     "name": "stdout",
     "output_type": "stream",
     "text": [
      "Downloading data from https://storage.googleapis.com/keras-applications/efficientnetb5_notop.h5\n",
      "115269632/115263384 [==============================] - 4s 0us/step\n"
     ]
    }
   ],
   "source": [
    "# Build the model\n",
    "base_model = EfficientNetB5(weights='imagenet', \n",
    "                            input_tensor=Input(shape=image_dim), \n",
    "                            include_top=False)\n",
    "\n",
    "model = Model(base_model.input, head(base_model.output),\n",
    "              name='HackerEarth_Holiday_Season_Model')\n",
    "\n",
    "# Load the pre-trained model\n",
    "pretrain_model = load_model('../input/holiday-season-enetb5-mav2/hackerearth_holiday_season_model.h5')\n",
    "\n",
    "# Transfer weights from pre-trained model\n",
    "model.set_weights(pretrain_model.get_weights())\n",
    "\n",
    "# Freeze weights for base model\n",
    "base_model.trainable = False\n",
    "for layer in base_model.layers[-18:]:\n",
    "    if not isinstance(layer, BatchNormalization):\n",
    "        layer.trainable = True\n",
    "\n",
    "# Compile the final model\n",
    "model.compile(loss='categorical_crossentropy', \n",
    "              metrics=[F1Score(num_classes=6, average='weighted'), \n",
    "                       'categorical_accuracy'],\n",
    "              optimizer=Lookahead(AdamW(lr=1e-3, \n",
    "                                        weight_decay=1e-5, \n",
    "                                        clipvalue=700), \n",
    "                                  sync_period=10))\n",
    "\n",
    "early = EarlyStopping(monitor=\"val_loss\", mode=\"min\", patience=10, \n",
    "                      restore_best_weights=True, verbose=1)\n",
    "\n",
    "reduce_lr = ReduceLROnPlateau(monitor=\"val_loss\", factor=0.1, \n",
    "                              min_lr=1e-6, patience=7, \n",
    "                              verbose=1, mode='min')\n",
    "\n",
    "chk_point = ModelCheckpoint('hackerearth_holiday_season_model.h5', \n",
    "                            monitor='val_loss', verbose=1, \n",
    "                            save_best_only=True, mode='min')"
   ]
  },
  {
   "cell_type": "code",
   "execution_count": 16,
   "metadata": {
    "execution": {
     "iopub.execute_input": "2021-01-23T15:20:10.746484Z",
     "iopub.status.busy": "2021-01-23T15:20:10.745718Z",
     "iopub.status.idle": "2021-01-23T15:55:19.595311Z",
     "shell.execute_reply": "2021-01-23T15:55:19.596079Z"
    },
    "papermill": {
     "duration": 2108.893074,
     "end_time": "2021-01-23T15:55:19.596324",
     "exception": false,
     "start_time": "2021-01-23T15:20:10.703250",
     "status": "completed"
    },
    "tags": []
   },
   "outputs": [
    {
     "name": "stdout",
     "output_type": "stream",
     "text": [
      "Epoch 1/275\n",
      "43/43 [==============================] - ETA: 0s - loss: 0.0809 - f1_score: 0.9447 - categorical_accuracy: 0.9443\n",
      "Epoch 00001: val_loss improved from inf to 0.28564, saving model to hackerearth_holiday_season_model.h5\n",
      "43/43 [==============================] - 158s 4s/step - loss: 0.0809 - f1_score: 0.9447 - categorical_accuracy: 0.9443 - val_loss: 0.2856 - val_f1_score: 0.9258 - val_categorical_accuracy: 0.9258\n",
      "Epoch 2/275\n",
      "43/43 [==============================] - ETA: 0s - loss: 0.0724 - f1_score: 0.9518 - categorical_accuracy: 0.9516\n",
      "Epoch 00002: val_loss did not improve from 0.28564\n",
      "43/43 [==============================] - 137s 3s/step - loss: 0.0724 - f1_score: 0.9518 - categorical_accuracy: 0.9516 - val_loss: 0.2903 - val_f1_score: 0.9310 - val_categorical_accuracy: 0.9310\n",
      "Epoch 3/275\n",
      "43/43 [==============================] - ETA: 0s - loss: 0.0748 - f1_score: 0.9445 - categorical_accuracy: 0.9442\n",
      "Epoch 00003: val_loss improved from 0.28564 to 0.26574, saving model to hackerearth_holiday_season_model.h5\n",
      "43/43 [==============================] - 145s 3s/step - loss: 0.0748 - f1_score: 0.9445 - categorical_accuracy: 0.9442 - val_loss: 0.2657 - val_f1_score: 0.9270 - val_categorical_accuracy: 0.9269\n",
      "Epoch 4/275\n",
      "43/43 [==============================] - ETA: 0s - loss: 0.0710 - f1_score: 0.9449 - categorical_accuracy: 0.9447\n",
      "Epoch 00004: val_loss did not improve from 0.26574\n",
      "43/43 [==============================] - 136s 3s/step - loss: 0.0710 - f1_score: 0.9449 - categorical_accuracy: 0.9447 - val_loss: 0.2823 - val_f1_score: 0.9261 - val_categorical_accuracy: 0.9258\n",
      "Epoch 5/275\n",
      "43/43 [==============================] - ETA: 0s - loss: 0.0695 - f1_score: 0.9470 - categorical_accuracy: 0.9467\n",
      "Epoch 00005: val_loss did not improve from 0.26574\n",
      "43/43 [==============================] - 141s 3s/step - loss: 0.0695 - f1_score: 0.9470 - categorical_accuracy: 0.9467 - val_loss: 0.2761 - val_f1_score: 0.9271 - val_categorical_accuracy: 0.9269\n",
      "Epoch 6/275\n",
      "43/43 [==============================] - ETA: 0s - loss: 0.0682 - f1_score: 0.9468 - categorical_accuracy: 0.9465\n",
      "Epoch 00006: val_loss did not improve from 0.26574\n",
      "43/43 [==============================] - 135s 3s/step - loss: 0.0682 - f1_score: 0.9468 - categorical_accuracy: 0.9465 - val_loss: 0.2913 - val_f1_score: 0.9232 - val_categorical_accuracy: 0.9228\n",
      "Epoch 7/275\n",
      "43/43 [==============================] - ETA: 0s - loss: 0.0698 - f1_score: 0.9493 - categorical_accuracy: 0.9491\n",
      "Epoch 00007: val_loss did not improve from 0.26574\n",
      "43/43 [==============================] - 136s 3s/step - loss: 0.0698 - f1_score: 0.9493 - categorical_accuracy: 0.9491 - val_loss: 0.2946 - val_f1_score: 0.9264 - val_categorical_accuracy: 0.9258\n",
      "Epoch 8/275\n",
      "43/43 [==============================] - ETA: 0s - loss: 0.0708 - f1_score: 0.9477 - categorical_accuracy: 0.9474\n",
      "Epoch 00008: val_loss did not improve from 0.26574\n",
      "43/43 [==============================] - 137s 3s/step - loss: 0.0708 - f1_score: 0.9477 - categorical_accuracy: 0.9474 - val_loss: 0.3162 - val_f1_score: 0.9152 - val_categorical_accuracy: 0.9145\n",
      "Epoch 9/275\n",
      "43/43 [==============================] - ETA: 0s - loss: 0.0691 - f1_score: 0.9480 - categorical_accuracy: 0.9478\n",
      "Epoch 00009: val_loss did not improve from 0.26574\n",
      "43/43 [==============================] - 138s 3s/step - loss: 0.0691 - f1_score: 0.9480 - categorical_accuracy: 0.9478 - val_loss: 0.3053 - val_f1_score: 0.9212 - val_categorical_accuracy: 0.9207\n",
      "Epoch 10/275\n",
      "43/43 [==============================] - ETA: 0s - loss: 0.0734 - f1_score: 0.9364 - categorical_accuracy: 0.9362\n",
      "Epoch 00010: ReduceLROnPlateau reducing learning rate to 0.00010000000474974513.\n",
      "\n",
      "Epoch 00010: val_loss did not improve from 0.26574\n",
      "43/43 [==============================] - 135s 3s/step - loss: 0.0734 - f1_score: 0.9364 - categorical_accuracy: 0.9362 - val_loss: 0.3148 - val_f1_score: 0.9191 - val_categorical_accuracy: 0.9186\n",
      "Epoch 11/275\n",
      "43/43 [==============================] - ETA: 0s - loss: 0.0672 - f1_score: 0.9463 - categorical_accuracy: 0.9462\n",
      "Epoch 00011: val_loss did not improve from 0.26574\n",
      "43/43 [==============================] - 136s 3s/step - loss: 0.0672 - f1_score: 0.9463 - categorical_accuracy: 0.9462 - val_loss: 0.3083 - val_f1_score: 0.9159 - val_categorical_accuracy: 0.9156\n",
      "Epoch 12/275\n",
      "43/43 [==============================] - ETA: 0s - loss: 0.0651 - f1_score: 0.9516 - categorical_accuracy: 0.9514\n",
      "Epoch 00012: val_loss did not improve from 0.26574\n",
      "43/43 [==============================] - 136s 3s/step - loss: 0.0651 - f1_score: 0.9516 - categorical_accuracy: 0.9514 - val_loss: 0.2974 - val_f1_score: 0.9179 - val_categorical_accuracy: 0.9176\n",
      "Epoch 13/275\n",
      "43/43 [==============================] - ETA: 0s - loss: 0.0654 - f1_score: 0.9500 - categorical_accuracy: 0.9498Restoring model weights from the end of the best epoch.\n",
      "\n",
      "Epoch 00013: val_loss did not improve from 0.26574\n",
      "43/43 [==============================] - 140s 3s/step - loss: 0.0654 - f1_score: 0.9500 - categorical_accuracy: 0.9498 - val_loss: 0.2935 - val_f1_score: 0.9199 - val_categorical_accuracy: 0.9197\n",
      "Epoch 00013: early stopping\n"
     ]
    }
   ],
   "source": [
    "history = model.fit(\n",
    "    train_generator, \n",
    "    steps_per_epoch=steps_per_epoch,\n",
    "    class_weight=class_weight, \n",
    "    epochs=275, \n",
    "    verbose=1, \n",
    "    workers=5,\n",
    "    callbacks=[reduce_lr, early, chk_point], \n",
    "    validation_data=validation_generator,\n",
    "    validation_steps=validation_steps\n",
    ")"
   ]
  },
  {
   "cell_type": "code",
   "execution_count": 17,
   "metadata": {
    "execution": {
     "iopub.execute_input": "2021-01-23T15:55:21.780931Z",
     "iopub.status.busy": "2021-01-23T15:55:21.780044Z",
     "iopub.status.idle": "2021-01-23T15:55:25.876953Z",
     "shell.execute_reply": "2021-01-23T15:55:25.876289Z"
    },
    "papermill": {
     "duration": 5.180886,
     "end_time": "2021-01-23T15:55:25.877080",
     "exception": false,
     "start_time": "2021-01-23T15:55:20.696194",
     "status": "completed"
    },
    "tags": []
   },
   "outputs": [
    {
     "data": {
      "image/png": "[encoded data removed]",
      "text/plain": [
       "<Figure size 2160x720 with 3 Axes>"
      ]
     },
     "metadata": {},
     "output_type": "display_data"
    }
   ],
   "source": [
    "_, ax = plt.subplots(1, 3, figsize=(30, 10))\n",
    "\n",
    "ax[0].plot(history.history['loss'], label='train_loss')\n",
    "ax[0].plot(history.history['val_loss'], label='val_loss')\n",
    "ax[0].set_ylabel('Loss')\n",
    "ax[0].set_xlabel('Epoch')\n",
    "ax[0].set_title(\"Model Loss Curve\")\n",
    "ax[0].legend()\n",
    "ax[0].grid()\n",
    "\n",
    "ax[1].plot(history.history['f1_score'], label='train_f1_score')\n",
    "ax[1].plot(history.history['val_f1_score'], label='val_f1_score')\n",
    "ax[1].set_ylabel('F1-Score')\n",
    "ax[1].set_xlabel('Epoch')\n",
    "ax[1].set_title(\"Model F1-Score Curve\")\n",
    "ax[1].legend()\n",
    "ax[1].grid()\n",
    "\n",
    "ax[2].plot(history.history['categorical_accuracy'], label='train_accuracy')\n",
    "ax[2].plot(history.history['val_categorical_accuracy'], label='val_accuracy')\n",
    "ax[2].set_ylabel('Accuracy')\n",
    "ax[2].set_xlabel('Epoch')\n",
    "ax[2].set_title(\"Model Accuracy Curve\")\n",
    "ax[2].legend()\n",
    "ax[2].grid()"
   ]
  },
  {
   "cell_type": "markdown",
   "metadata": {
    "papermill": {
     "duration": 1.009968,
     "end_time": "2021-01-23T15:55:28.074455",
     "exception": false,
     "start_time": "2021-01-23T15:55:27.064487",
     "status": "completed"
    },
    "tags": []
   },
   "source": [
    "## Check classification report"
   ]
  },
  {
   "cell_type": "code",
   "execution_count": 18,
   "metadata": {
    "execution": {
     "iopub.execute_input": "2021-01-23T15:55:30.037948Z",
     "iopub.status.busy": "2021-01-23T15:55:30.037187Z",
     "iopub.status.idle": "2021-01-23T15:55:44.108401Z",
     "shell.execute_reply": "2021-01-23T15:55:44.109483Z"
    },
    "papermill": {
     "duration": 15.024232,
     "end_time": "2021-01-23T15:55:44.109689",
     "exception": false,
     "start_time": "2021-01-23T15:55:29.085457",
     "status": "completed"
    },
    "tags": []
   },
   "outputs": [],
   "source": [
    "model = load_model('./hackerearth_holiday_season_model.h5')"
   ]
  },
  {
   "cell_type": "code",
   "execution_count": 19,
   "metadata": {
    "execution": {
     "iopub.execute_input": "2021-01-23T15:55:44.764929Z",
     "iopub.status.busy": "2021-01-23T15:55:44.761980Z",
     "iopub.status.idle": "2021-01-23T15:55:56.879230Z",
     "shell.execute_reply": "2021-01-23T15:55:56.878782Z"
    },
    "papermill": {
     "duration": 12.449112,
     "end_time": "2021-01-23T15:55:56.879340",
     "exception": false,
     "start_time": "2021-01-23T15:55:44.430228",
     "status": "completed"
    },
    "tags": []
   },
   "outputs": [
    {
     "name": "stdout",
     "output_type": "stream",
     "text": [
      "8/8 [==============================] - 7s 851ms/step\n",
      "\n",
      "y_true: (971,)\n",
      "y_pred: (971,)\n"
     ]
    }
   ],
   "source": [
    "y_true = np.array([validation_generator.classes]).ravel()\n",
    "y_pred = model.predict(validation_generator, verbose=1)\n",
    "y_pred = np.argmax(y_pred, axis=1)\n",
    "\n",
    "print(\"\\ny_true: {}\".format(y_true.shape))\n",
    "print(\"y_pred: {}\".format(y_pred.shape))"
   ]
  },
  {
   "cell_type": "code",
   "execution_count": 20,
   "metadata": {
    "execution": {
     "iopub.execute_input": "2021-01-23T15:55:57.288261Z",
     "iopub.status.busy": "2021-01-23T15:55:57.286849Z",
     "iopub.status.idle": "2021-01-23T15:55:57.298388Z",
     "shell.execute_reply": "2021-01-23T15:55:57.298820Z"
    },
    "papermill": {
     "duration": 0.218301,
     "end_time": "2021-01-23T15:55:57.298935",
     "exception": false,
     "start_time": "2021-01-23T15:55:57.080634",
     "status": "completed"
    },
    "tags": []
   },
   "outputs": [
    {
     "name": "stdout",
     "output_type": "stream",
     "text": [
      "              precision    recall  f1-score   support\n",
      "\n",
      "           0       0.93      0.94      0.93        80\n",
      "           1       0.89      0.88      0.88        89\n",
      "           2       0.94      0.92      0.93       231\n",
      "           3       0.93      0.96      0.94        96\n",
      "           4       0.94      0.93      0.93       421\n",
      "           5       0.85      0.93      0.88        54\n",
      "\n",
      "    accuracy                           0.93       971\n",
      "   macro avg       0.91      0.93      0.92       971\n",
      "weighted avg       0.93      0.93      0.93       971\n",
      "\n"
     ]
    }
   ],
   "source": [
    "print(classification_report(y_true, y_pred))"
   ]
  },
  {
   "cell_type": "code",
   "execution_count": 21,
   "metadata": {
    "execution": {
     "iopub.execute_input": "2021-01-23T15:55:57.715620Z",
     "iopub.status.busy": "2021-01-23T15:55:57.707346Z",
     "iopub.status.idle": "2021-01-23T15:55:58.080180Z",
     "shell.execute_reply": "2021-01-23T15:55:58.080719Z"
    },
    "papermill": {
     "duration": 0.579786,
     "end_time": "2021-01-23T15:55:58.080909",
     "exception": false,
     "start_time": "2021-01-23T15:55:57.501123",
     "status": "completed"
    },
    "tags": []
   },
   "outputs": [
    {
     "data": {
      "image/png": "[encoded data removed]",
      "text/plain": [
       "<Figure size 864x504 with 2 Axes>"
      ]
     },
     "metadata": {},
     "output_type": "display_data"
    }
   ],
   "source": [
    "cnf_matrix = confusion_matrix(y_true, y_pred, labels=[0, 1, 2, 3, 4, 5])\n",
    "np.set_printoptions(precision=2)\n",
    "plt.figure(figsize=(12,7))\n",
    "plot_confusion_matrix(cnf_matrix, classes=[0, 1, 2, 3, 4, 5])"
   ]
  },
  {
   "cell_type": "markdown",
   "metadata": {
    "papermill": {
     "duration": 0.338768,
     "end_time": "2021-01-23T15:55:58.628179",
     "exception": false,
     "start_time": "2021-01-23T15:55:58.289411",
     "status": "completed"
    },
    "tags": []
   },
   "source": [
    "## Create submission file"
   ]
  },
  {
   "cell_type": "code",
   "execution_count": 22,
   "metadata": {
    "execution": {
     "iopub.execute_input": "2021-01-23T15:55:59.194156Z",
     "iopub.status.busy": "2021-01-23T15:55:59.192423Z",
     "iopub.status.idle": "2021-01-23T15:55:59.194787Z",
     "shell.execute_reply": "2021-01-23T15:55:59.195213Z"
    },
    "papermill": {
     "duration": 0.223197,
     "end_time": "2021-01-23T15:55:59.195326",
     "exception": false,
     "start_time": "2021-01-23T15:55:58.972129",
     "status": "completed"
    },
    "tags": []
   },
   "outputs": [],
   "source": [
    "rev_class_map = {\n",
    "    0: 'Airplane',\n",
    "    1: 'Candle',\n",
    "    2: 'Christmas_Tree',\n",
    "    3: 'Jacket',\n",
    "    4: 'Miscellaneous',\n",
    "    5: 'Snowman'\n",
    "}"
   ]
  },
  {
   "cell_type": "code",
   "execution_count": 23,
   "metadata": {
    "execution": {
     "iopub.execute_input": "2021-01-23T15:55:59.622508Z",
     "iopub.status.busy": "2021-01-23T15:55:59.621729Z",
     "iopub.status.idle": "2021-01-23T15:56:46.286551Z",
     "shell.execute_reply": "2021-01-23T15:56:46.286054Z"
    },
    "papermill": {
     "duration": 46.873763,
     "end_time": "2021-01-23T15:56:46.286655",
     "exception": false,
     "start_time": "2021-01-23T15:55:59.412892",
     "status": "completed"
    },
    "tags": []
   },
   "outputs": [
    {
     "name": "stdout",
     "output_type": "stream",
     "text": [
      "28/28 [==============================] - 44s 2s/step\n",
      "(3489,)\n"
     ]
    }
   ],
   "source": [
    "y_pred_final = model.predict(test_generator, verbose=1)\n",
    "y_pred_final = np.argmax(y_pred_final, axis=1)\n",
    "print(y_pred_final.shape)"
   ]
  },
  {
   "cell_type": "code",
   "execution_count": 24,
   "metadata": {
    "execution": {
     "iopub.execute_input": "2021-01-23T15:56:46.727249Z",
     "iopub.status.busy": "2021-01-23T15:56:46.726702Z",
     "iopub.status.idle": "2021-01-23T15:56:46.732712Z",
     "shell.execute_reply": "2021-01-23T15:56:46.732285Z"
    },
    "papermill": {
     "duration": 0.228099,
     "end_time": "2021-01-23T15:56:46.732807",
     "exception": false,
     "start_time": "2021-01-23T15:56:46.504708",
     "status": "completed"
    },
    "tags": []
   },
   "outputs": [
    {
     "data": {
      "text/html": [
       "<div>\n",
       "<style scoped>\n",
       "    .dataframe tbody tr th:only-of-type {\n",
       "        vertical-align: middle;\n",
       "    }\n",
       "\n",
       "    .dataframe tbody tr th {\n",
       "        vertical-align: top;\n",
       "    }\n",
       "\n",
       "    .dataframe thead th {\n",
       "        text-align: right;\n",
       "    }\n",
       "</style>\n",
       "<table border=\"1\" class=\"dataframe\">\n",
       "  <thead>\n",
       "    <tr style=\"text-align: right;\">\n",
       "      <th></th>\n",
       "      <th>Image</th>\n",
       "      <th>Class</th>\n",
       "    </tr>\n",
       "  </thead>\n",
       "  <tbody>\n",
       "    <tr>\n",
       "      <th>0</th>\n",
       "      <td>image7761.jpg</td>\n",
       "      <td>Miscellaneous</td>\n",
       "    </tr>\n",
       "    <tr>\n",
       "      <th>1</th>\n",
       "      <td>image3202.jpg</td>\n",
       "      <td>Miscellaneous</td>\n",
       "    </tr>\n",
       "    <tr>\n",
       "      <th>2</th>\n",
       "      <td>image688.jpg</td>\n",
       "      <td>Snowman</td>\n",
       "    </tr>\n",
       "    <tr>\n",
       "      <th>3</th>\n",
       "      <td>image233.jpg</td>\n",
       "      <td>Candle</td>\n",
       "    </tr>\n",
       "    <tr>\n",
       "      <th>4</th>\n",
       "      <td>image4332.jpg</td>\n",
       "      <td>Christmas_Tree</td>\n",
       "    </tr>\n",
       "  </tbody>\n",
       "</table>\n",
       "</div>"
      ],
      "text/plain": [
       "           Image           Class\n",
       "0  image7761.jpg   Miscellaneous\n",
       "1  image3202.jpg   Miscellaneous\n",
       "2   image688.jpg         Snowman\n",
       "3   image233.jpg          Candle\n",
       "4  image4332.jpg  Christmas_Tree"
      ]
     },
     "execution_count": 24,
     "metadata": {},
     "output_type": "execute_result"
    }
   ],
   "source": [
    "test_df['Class'] = y_pred_final\n",
    "test_df['Class'] = test_df['Class'].map(rev_class_map)\n",
    "test_df.head()"
   ]
  },
  {
   "cell_type": "code",
   "execution_count": 25,
   "metadata": {
    "execution": {
     "iopub.execute_input": "2021-01-23T15:56:47.156965Z",
     "iopub.status.busy": "2021-01-23T15:56:47.156445Z",
     "iopub.status.idle": "2021-01-23T15:56:47.368353Z",
     "shell.execute_reply": "2021-01-23T15:56:47.366926Z"
    },
    "papermill": {
     "duration": 0.425783,
     "end_time": "2021-01-23T15:56:47.368468",
     "exception": false,
     "start_time": "2021-01-23T15:56:46.942685",
     "status": "completed"
    },
    "tags": []
   },
   "outputs": [],
   "source": [
    "test_df.to_csv(\"/kaggle/working/submission.csv\", index=False)"
   ]
  },
  {
   "cell_type": "code",
   "execution_count": null,
   "metadata": {
    "papermill": {
     "duration": 0.211127,
     "end_time": "2021-01-23T15:56:47.789268",
     "exception": false,
     "start_time": "2021-01-23T15:56:47.578141",
     "status": "completed"
    },
    "tags": []
   },
   "outputs": [],
   "source": []
  }
 ],
 "metadata": {
  "kernelspec": {
   "display_name": "Python 3",
   "language": "python",
   "name": "python3"
  },
  "language_info": {
   "codemirror_mode": {
    "name": "ipython",
    "version": 3
   },
   "file_extension": ".py",
   "mimetype": "text/x-python",
   "name": "python",
   "nbconvert_exporter": "python",
   "pygments_lexer": "ipython3",
   "version": "3.7.6"
  },
  "papermill": {
   "duration": 2262.160564,
   "end_time": "2021-01-23T15:56:49.116877",
   "environment_variables": {},
   "exception": null,
   "input_path": "__notebook__.ipynb",
   "output_path": "__notebook__.ipynb",
   "parameters": {},
   "start_time": "2021-01-23T15:19:06.956313",
   "version": "2.1.0"
  }
 },
 "nbformat": 4,
 "nbformat_minor": 4
}
