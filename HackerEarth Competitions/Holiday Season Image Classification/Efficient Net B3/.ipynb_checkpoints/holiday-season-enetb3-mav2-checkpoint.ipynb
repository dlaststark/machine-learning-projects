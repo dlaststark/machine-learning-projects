{
 "cells": [
  {
   "cell_type": "markdown",
   "metadata": {
    "papermill": {
     "duration": 0.020681,
     "end_time": "2021-01-26T17:42:32.935084",
     "exception": false,
     "start_time": "2021-01-26T17:42:32.914403",
     "status": "completed"
    },
    "tags": []
   },
   "source": [
    "## Import Packages"
   ]
  },
  {
   "cell_type": "code",
   "execution_count": 1,
   "metadata": {
    "execution": {
     "iopub.execute_input": "2021-01-26T17:42:32.982750Z",
     "iopub.status.busy": "2021-01-26T17:42:32.982103Z",
     "iopub.status.idle": "2021-01-26T17:42:38.001485Z",
     "shell.execute_reply": "2021-01-26T17:42:38.000869Z"
    },
    "papermill": {
     "duration": 5.047221,
     "end_time": "2021-01-26T17:42:38.001673",
     "exception": false,
     "start_time": "2021-01-26T17:42:32.954452",
     "status": "completed"
    },
    "tags": []
   },
   "outputs": [],
   "source": [
    "import os\n",
    "import itertools\n",
    "import numpy as np\n",
    "import pandas as pd\n",
    "import seaborn as sns\n",
    "from tqdm import tqdm\n",
    "import matplotlib.pyplot as plt\n",
    "from sklearn.metrics import confusion_matrix\n",
    "from sklearn.metrics import classification_report\n",
    "from sklearn.model_selection import StratifiedShuffleSplit\n",
    "\n",
    "import tensorflow as tf\n",
    "from tensorflow.keras import backend as K\n",
    "from tensorflow.keras.regularizers import l2\n",
    "from tensorflow_addons.metrics import F1Score\n",
    "from tensorflow.keras.models import Model, load_model\n",
    "from tensorflow_addons.optimizers import AdamW, Lookahead\n",
    "from tensorflow.keras.callbacks import EarlyStopping\n",
    "from tensorflow.keras.callbacks import ReduceLROnPlateau\n",
    "from tensorflow.keras.callbacks import ModelCheckpoint\n",
    "from tensorflow.keras.applications import EfficientNetB3\n",
    "from tensorflow.keras.layers import Dense, Dropout, Flatten\n",
    "from tensorflow.keras.layers import BatchNormalization, Input\n",
    "from tensorflow.keras.layers import ZeroPadding2D, MaxPooling2D\n",
    "from tensorflow.keras.layers import GlobalAveragePooling2D, Add\n",
    "from tensorflow.keras.layers import GlobalMaxPooling2D, Reshape\n",
    "from tensorflow.keras.layers import Activation, Conv2D, Average\n",
    "from tensorflow.keras.preprocessing.image import ImageDataGenerator"
   ]
  },
  {
   "cell_type": "markdown",
   "metadata": {
    "papermill": {
     "duration": 0.021051,
     "end_time": "2021-01-26T17:42:38.044496",
     "exception": false,
     "start_time": "2021-01-26T17:42:38.023445",
     "status": "completed"
    },
    "tags": []
   },
   "source": [
    "## Helper Functions"
   ]
  },
  {
   "cell_type": "code",
   "execution_count": 2,
   "metadata": {
    "execution": {
     "iopub.execute_input": "2021-01-26T17:42:38.095284Z",
     "iopub.status.busy": "2021-01-26T17:42:38.094359Z",
     "iopub.status.idle": "2021-01-26T17:42:38.097068Z",
     "shell.execute_reply": "2021-01-26T17:42:38.096572Z"
    },
    "papermill": {
     "duration": 0.031518,
     "end_time": "2021-01-26T17:42:38.097226",
     "exception": false,
     "start_time": "2021-01-26T17:42:38.065708",
     "status": "completed"
    },
    "tags": []
   },
   "outputs": [],
   "source": [
    "def plot_confusion_matrix(cm, classes):\n",
    "\n",
    "    plt.imshow(cm, interpolation='nearest', cmap=plt.cm.Blues)\n",
    "    plt.title('Confusion matrix')\n",
    "    plt.colorbar()\n",
    "    tick_marks = np.arange(len(classes))\n",
    "    plt.xticks(tick_marks, classes, rotation=0)\n",
    "    plt.yticks(tick_marks, classes)\n",
    "\n",
    "    thresh = cm.max() / 2.\n",
    "    for i, j in itertools.product(range(cm.shape[0]), range(cm.shape[1])):\n",
    "        plt.text(j, i, format(cm[i, j], 'd'),\n",
    "                 horizontalalignment=\"center\",\n",
    "                 color=\"white\" if cm[i, j] > thresh else \"black\")\n",
    "\n",
    "    plt.ylabel('True label')\n",
    "    plt.xlabel('Predicted label')\n",
    "    plt.tight_layout()"
   ]
  },
  {
   "cell_type": "markdown",
   "metadata": {
    "papermill": {
     "duration": 0.020372,
     "end_time": "2021-01-26T17:42:38.139286",
     "exception": false,
     "start_time": "2021-01-26T17:42:38.118914",
     "status": "completed"
    },
    "tags": []
   },
   "source": [
    "## Read true labels + Basic EDA"
   ]
  },
  {
   "cell_type": "code",
   "execution_count": 3,
   "metadata": {
    "execution": {
     "iopub.execute_input": "2021-01-26T17:42:38.193659Z",
     "iopub.status.busy": "2021-01-26T17:42:38.193073Z",
     "iopub.status.idle": "2021-01-26T17:42:38.226662Z",
     "shell.execute_reply": "2021-01-26T17:42:38.227183Z"
    },
    "papermill": {
     "duration": 0.067143,
     "end_time": "2021-01-26T17:42:38.227356",
     "exception": false,
     "start_time": "2021-01-26T17:42:38.160213",
     "status": "completed"
    },
    "tags": []
   },
   "outputs": [
    {
     "data": {
      "text/html": [
       "<div>\n",
       "<style scoped>\n",
       "    .dataframe tbody tr th:only-of-type {\n",
       "        vertical-align: middle;\n",
       "    }\n",
       "\n",
       "    .dataframe tbody tr th {\n",
       "        vertical-align: top;\n",
       "    }\n",
       "\n",
       "    .dataframe thead th {\n",
       "        text-align: right;\n",
       "    }\n",
       "</style>\n",
       "<table border=\"1\" class=\"dataframe\">\n",
       "  <thead>\n",
       "    <tr style=\"text-align: right;\">\n",
       "      <th></th>\n",
       "      <th>Image</th>\n",
       "      <th>Class</th>\n",
       "    </tr>\n",
       "  </thead>\n",
       "  <tbody>\n",
       "    <tr>\n",
       "      <th>0</th>\n",
       "      <td>image3476.jpg</td>\n",
       "      <td>Miscellaneous</td>\n",
       "    </tr>\n",
       "    <tr>\n",
       "      <th>1</th>\n",
       "      <td>image5198.jpg</td>\n",
       "      <td>Candle</td>\n",
       "    </tr>\n",
       "    <tr>\n",
       "      <th>2</th>\n",
       "      <td>image4183.jpg</td>\n",
       "      <td>Snowman</td>\n",
       "    </tr>\n",
       "    <tr>\n",
       "      <th>3</th>\n",
       "      <td>image1806.jpg</td>\n",
       "      <td>Miscellaneous</td>\n",
       "    </tr>\n",
       "    <tr>\n",
       "      <th>4</th>\n",
       "      <td>image7831.jpg</td>\n",
       "      <td>Miscellaneous</td>\n",
       "    </tr>\n",
       "  </tbody>\n",
       "</table>\n",
       "</div>"
      ],
      "text/plain": [
       "           Image          Class\n",
       "0  image3476.jpg  Miscellaneous\n",
       "1  image5198.jpg         Candle\n",
       "2  image4183.jpg        Snowman\n",
       "3  image1806.jpg  Miscellaneous\n",
       "4  image7831.jpg  Miscellaneous"
      ]
     },
     "execution_count": 3,
     "metadata": {},
     "output_type": "execute_result"
    }
   ],
   "source": [
    "train_df = pd.read_csv(\"../input/hackereath-holiday-season-deep-learning-contest/dataset/train.csv\")\n",
    "train_df.head()"
   ]
  },
  {
   "cell_type": "code",
   "execution_count": 4,
   "metadata": {
    "execution": {
     "iopub.execute_input": "2021-01-26T17:42:38.274615Z",
     "iopub.status.busy": "2021-01-26T17:42:38.273886Z",
     "iopub.status.idle": "2021-01-26T17:42:38.276429Z",
     "shell.execute_reply": "2021-01-26T17:42:38.277046Z"
    },
    "papermill": {
     "duration": 0.028408,
     "end_time": "2021-01-26T17:42:38.277191",
     "exception": false,
     "start_time": "2021-01-26T17:42:38.248783",
     "status": "completed"
    },
    "tags": []
   },
   "outputs": [],
   "source": [
    "class_map = {\n",
    "    'Airplane': 0,\n",
    "    'Candle': 1,\n",
    "    'Christmas_Tree': 2,\n",
    "    'Jacket': 3,\n",
    "    'Miscellaneous': 4,\n",
    "    'Snowman': 5\n",
    "}"
   ]
  },
  {
   "cell_type": "code",
   "execution_count": 5,
   "metadata": {
    "execution": {
     "iopub.execute_input": "2021-01-26T17:42:38.337696Z",
     "iopub.status.busy": "2021-01-26T17:42:38.336804Z",
     "iopub.status.idle": "2021-01-26T17:42:38.351082Z",
     "shell.execute_reply": "2021-01-26T17:42:38.350624Z"
    },
    "papermill": {
     "duration": 0.05205,
     "end_time": "2021-01-26T17:42:38.351203",
     "exception": false,
     "start_time": "2021-01-26T17:42:38.299153",
     "status": "completed"
    },
    "tags": []
   },
   "outputs": [
    {
     "data": {
      "text/html": [
       "<div>\n",
       "<style scoped>\n",
       "    .dataframe tbody tr th:only-of-type {\n",
       "        vertical-align: middle;\n",
       "    }\n",
       "\n",
       "    .dataframe tbody tr th {\n",
       "        vertical-align: top;\n",
       "    }\n",
       "\n",
       "    .dataframe thead th {\n",
       "        text-align: right;\n",
       "    }\n",
       "</style>\n",
       "<table border=\"1\" class=\"dataframe\">\n",
       "  <thead>\n",
       "    <tr style=\"text-align: right;\">\n",
       "      <th></th>\n",
       "      <th>Class</th>\n",
       "      <th>Class_enc</th>\n",
       "      <th>Count</th>\n",
       "    </tr>\n",
       "  </thead>\n",
       "  <tbody>\n",
       "    <tr>\n",
       "      <th>0</th>\n",
       "      <td>Airplane</td>\n",
       "      <td>0</td>\n",
       "      <td>535</td>\n",
       "    </tr>\n",
       "    <tr>\n",
       "      <th>1</th>\n",
       "      <td>Candle</td>\n",
       "      <td>1</td>\n",
       "      <td>593</td>\n",
       "    </tr>\n",
       "    <tr>\n",
       "      <th>2</th>\n",
       "      <td>Christmas_Tree</td>\n",
       "      <td>2</td>\n",
       "      <td>1539</td>\n",
       "    </tr>\n",
       "    <tr>\n",
       "      <th>3</th>\n",
       "      <td>Jacket</td>\n",
       "      <td>3</td>\n",
       "      <td>640</td>\n",
       "    </tr>\n",
       "    <tr>\n",
       "      <th>4</th>\n",
       "      <td>Miscellaneous</td>\n",
       "      <td>4</td>\n",
       "      <td>2801</td>\n",
       "    </tr>\n",
       "    <tr>\n",
       "      <th>5</th>\n",
       "      <td>Snowman</td>\n",
       "      <td>5</td>\n",
       "      <td>361</td>\n",
       "    </tr>\n",
       "  </tbody>\n",
       "</table>\n",
       "</div>"
      ],
      "text/plain": [
       "            Class Class_enc  Count\n",
       "0        Airplane         0    535\n",
       "1          Candle         1    593\n",
       "2  Christmas_Tree         2   1539\n",
       "3          Jacket         3    640\n",
       "4   Miscellaneous         4   2801\n",
       "5         Snowman         5    361"
      ]
     },
     "execution_count": 5,
     "metadata": {},
     "output_type": "execute_result"
    }
   ],
   "source": [
    "train_df['Class_enc'] = train_df['Class'].map(class_map)\n",
    "train_df['Class_enc'] = train_df['Class_enc'].astype('str')\n",
    "train_df.groupby(['Class','Class_enc']).size().reset_index().rename(columns={0:'Count'})"
   ]
  },
  {
   "cell_type": "code",
   "execution_count": 6,
   "metadata": {
    "execution": {
     "iopub.execute_input": "2021-01-26T17:42:38.408519Z",
     "iopub.status.busy": "2021-01-26T17:42:38.407730Z",
     "iopub.status.idle": "2021-01-26T17:42:38.587853Z",
     "shell.execute_reply": "2021-01-26T17:42:38.588296Z"
    },
    "papermill": {
     "duration": 0.212095,
     "end_time": "2021-01-26T17:42:38.588449",
     "exception": false,
     "start_time": "2021-01-26T17:42:38.376354",
     "status": "completed"
    },
    "tags": []
   },
   "outputs": [
    {
     "data": {
      "image/png": "[encoded data removed]",
      "text/plain": [
       "<Figure size 864x504 with 1 Axes>"
      ]
     },
     "metadata": {
      "needs_background": "light"
     },
     "output_type": "display_data"
    }
   ],
   "source": [
    "plt.figure(figsize=(12,7))\n",
    "sns.set(style=\"darkgrid\")\n",
    "ax = sns.countplot(x=\"Class\", data=train_df)"
   ]
  },
  {
   "cell_type": "code",
   "execution_count": 7,
   "metadata": {
    "execution": {
     "iopub.execute_input": "2021-01-26T17:42:38.635432Z",
     "iopub.status.busy": "2021-01-26T17:42:38.634869Z",
     "iopub.status.idle": "2021-01-26T17:42:38.786672Z",
     "shell.execute_reply": "2021-01-26T17:42:38.786204Z"
    },
    "papermill": {
     "duration": 0.176899,
     "end_time": "2021-01-26T17:42:38.786821",
     "exception": false,
     "start_time": "2021-01-26T17:42:38.609922",
     "status": "completed"
    },
    "tags": []
   },
   "outputs": [
    {
     "name": "stderr",
     "output_type": "stream",
     "text": [
      "100%|██████████| 3489/3489 [00:00<00:00, 1614154.72it/s]\n"
     ]
    },
    {
     "data": {
      "text/html": [
       "<div>\n",
       "<style scoped>\n",
       "    .dataframe tbody tr th:only-of-type {\n",
       "        vertical-align: middle;\n",
       "    }\n",
       "\n",
       "    .dataframe tbody tr th {\n",
       "        vertical-align: top;\n",
       "    }\n",
       "\n",
       "    .dataframe thead th {\n",
       "        text-align: right;\n",
       "    }\n",
       "</style>\n",
       "<table border=\"1\" class=\"dataframe\">\n",
       "  <thead>\n",
       "    <tr style=\"text-align: right;\">\n",
       "      <th></th>\n",
       "      <th>Image</th>\n",
       "      <th>Class</th>\n",
       "    </tr>\n",
       "  </thead>\n",
       "  <tbody>\n",
       "    <tr>\n",
       "      <th>0</th>\n",
       "      <td>image7761.jpg</td>\n",
       "      <td>0</td>\n",
       "    </tr>\n",
       "    <tr>\n",
       "      <th>1</th>\n",
       "      <td>image3202.jpg</td>\n",
       "      <td>0</td>\n",
       "    </tr>\n",
       "    <tr>\n",
       "      <th>2</th>\n",
       "      <td>image688.jpg</td>\n",
       "      <td>0</td>\n",
       "    </tr>\n",
       "    <tr>\n",
       "      <th>3</th>\n",
       "      <td>image233.jpg</td>\n",
       "      <td>0</td>\n",
       "    </tr>\n",
       "    <tr>\n",
       "      <th>4</th>\n",
       "      <td>image4332.jpg</td>\n",
       "      <td>0</td>\n",
       "    </tr>\n",
       "  </tbody>\n",
       "</table>\n",
       "</div>"
      ],
      "text/plain": [
       "           Image Class\n",
       "0  image7761.jpg     0\n",
       "1  image3202.jpg     0\n",
       "2   image688.jpg     0\n",
       "3   image233.jpg     0\n",
       "4  image4332.jpg     0"
      ]
     },
     "execution_count": 7,
     "metadata": {},
     "output_type": "execute_result"
    }
   ],
   "source": [
    "test_dir = \"../input/hackereath-holiday-season-deep-learning-contest/dataset/test\"\n",
    "test_files = []\n",
    "\n",
    "for file in tqdm(os.listdir(test_dir)):\n",
    "    test_files.append(file)\n",
    "\n",
    "test_df = pd.DataFrame(test_files, columns=['Image'])\n",
    "test_df['Class'] = '0'\n",
    "test_df.head()"
   ]
  },
  {
   "cell_type": "markdown",
   "metadata": {
    "papermill": {
     "duration": 0.022609,
     "end_time": "2021-01-26T17:42:38.832289",
     "exception": false,
     "start_time": "2021-01-26T17:42:38.809680",
     "status": "completed"
    },
    "tags": []
   },
   "source": [
    "## Calculate class-weights"
   ]
  },
  {
   "cell_type": "code",
   "execution_count": 8,
   "metadata": {
    "execution": {
     "iopub.execute_input": "2021-01-26T17:42:38.884894Z",
     "iopub.status.busy": "2021-01-26T17:42:38.882494Z",
     "iopub.status.idle": "2021-01-26T17:42:38.906085Z",
     "shell.execute_reply": "2021-01-26T17:42:38.905609Z"
    },
    "papermill": {
     "duration": 0.051911,
     "end_time": "2021-01-26T17:42:38.906212",
     "exception": false,
     "start_time": "2021-01-26T17:42:38.854301",
     "status": "completed"
    },
    "tags": []
   },
   "outputs": [
    {
     "data": {
      "text/plain": [
       "{0: 0.6747663551401869,\n",
       " 1: 0.6087689713322091,\n",
       " 2: 0.23456790123456786,\n",
       " 3: 0.5640625,\n",
       " 4: 0.12888254194930382,\n",
       " 5: 1.0}"
      ]
     },
     "execution_count": 8,
     "metadata": {},
     "output_type": "execute_result"
    }
   ],
   "source": [
    "temp_df = train_df.groupby(['Class_enc']).size().reset_index().rename(columns={0:'count'})\n",
    "total_count = np.sum(temp_df['count'].values)\n",
    "temp_df['class%'] = (temp_df['count'] / total_count) * 100\n",
    "lowest_pct = min(temp_df['class%'])\n",
    "temp_df['class_weight'] = lowest_pct / temp_df['class%']\n",
    "class_weight = temp_df[['Class_enc', 'class_weight']].to_dict()['class_weight']\n",
    "class_weight"
   ]
  },
  {
   "cell_type": "markdown",
   "metadata": {
    "papermill": {
     "duration": 0.022821,
     "end_time": "2021-01-26T17:42:38.952615",
     "exception": false,
     "start_time": "2021-01-26T17:42:38.929794",
     "status": "completed"
    },
    "tags": []
   },
   "source": [
    "## Split training data into train/validation datasets"
   ]
  },
  {
   "cell_type": "code",
   "execution_count": 9,
   "metadata": {
    "execution": {
     "iopub.execute_input": "2021-01-26T17:42:39.009756Z",
     "iopub.status.busy": "2021-01-26T17:42:39.009257Z",
     "iopub.status.idle": "2021-01-26T17:42:39.021885Z",
     "shell.execute_reply": "2021-01-26T17:42:39.022681Z"
    },
    "papermill": {
     "duration": 0.047395,
     "end_time": "2021-01-26T17:42:39.022910",
     "exception": false,
     "start_time": "2021-01-26T17:42:38.975515",
     "status": "completed"
    },
    "tags": []
   },
   "outputs": [
    {
     "name": "stdout",
     "output_type": "stream",
     "text": [
      "train_df shape: (5498, 3)\n",
      "validation_df shape: (971, 3)\n"
     ]
    }
   ],
   "source": [
    "sss = StratifiedShuffleSplit(n_splits=1, test_size=0.15, random_state=1)\n",
    "for train_index, validation_index in sss.split(train_df['Image'], train_df['Class_enc']):\n",
    "    train_df, validation_df = train_df.iloc[train_index], train_df.iloc[validation_index]\n",
    "\n",
    "print(\"train_df shape: {}\".format(train_df.shape))\n",
    "print(\"validation_df shape: {}\".format(validation_df.shape))"
   ]
  },
  {
   "cell_type": "code",
   "execution_count": 10,
   "metadata": {
    "execution": {
     "iopub.execute_input": "2021-01-26T17:42:39.074163Z",
     "iopub.status.busy": "2021-01-26T17:42:39.073357Z",
     "iopub.status.idle": "2021-01-26T17:42:39.084857Z",
     "shell.execute_reply": "2021-01-26T17:42:39.085252Z"
    },
    "papermill": {
     "duration": 0.03915,
     "end_time": "2021-01-26T17:42:39.085379",
     "exception": false,
     "start_time": "2021-01-26T17:42:39.046229",
     "status": "completed"
    },
    "tags": []
   },
   "outputs": [
    {
     "data": {
      "text/html": [
       "<div>\n",
       "<style scoped>\n",
       "    .dataframe tbody tr th:only-of-type {\n",
       "        vertical-align: middle;\n",
       "    }\n",
       "\n",
       "    .dataframe tbody tr th {\n",
       "        vertical-align: top;\n",
       "    }\n",
       "\n",
       "    .dataframe thead th {\n",
       "        text-align: right;\n",
       "    }\n",
       "</style>\n",
       "<table border=\"1\" class=\"dataframe\">\n",
       "  <thead>\n",
       "    <tr style=\"text-align: right;\">\n",
       "      <th></th>\n",
       "      <th>Class</th>\n",
       "      <th>Class_enc</th>\n",
       "      <th>Count</th>\n",
       "    </tr>\n",
       "  </thead>\n",
       "  <tbody>\n",
       "    <tr>\n",
       "      <th>0</th>\n",
       "      <td>Airplane</td>\n",
       "      <td>0</td>\n",
       "      <td>455</td>\n",
       "    </tr>\n",
       "    <tr>\n",
       "      <th>1</th>\n",
       "      <td>Candle</td>\n",
       "      <td>1</td>\n",
       "      <td>504</td>\n",
       "    </tr>\n",
       "    <tr>\n",
       "      <th>2</th>\n",
       "      <td>Christmas_Tree</td>\n",
       "      <td>2</td>\n",
       "      <td>1308</td>\n",
       "    </tr>\n",
       "    <tr>\n",
       "      <th>3</th>\n",
       "      <td>Jacket</td>\n",
       "      <td>3</td>\n",
       "      <td>544</td>\n",
       "    </tr>\n",
       "    <tr>\n",
       "      <th>4</th>\n",
       "      <td>Miscellaneous</td>\n",
       "      <td>4</td>\n",
       "      <td>2380</td>\n",
       "    </tr>\n",
       "    <tr>\n",
       "      <th>5</th>\n",
       "      <td>Snowman</td>\n",
       "      <td>5</td>\n",
       "      <td>307</td>\n",
       "    </tr>\n",
       "  </tbody>\n",
       "</table>\n",
       "</div>"
      ],
      "text/plain": [
       "            Class Class_enc  Count\n",
       "0        Airplane         0    455\n",
       "1          Candle         1    504\n",
       "2  Christmas_Tree         2   1308\n",
       "3          Jacket         3    544\n",
       "4   Miscellaneous         4   2380\n",
       "5         Snowman         5    307"
      ]
     },
     "execution_count": 10,
     "metadata": {},
     "output_type": "execute_result"
    }
   ],
   "source": [
    "train_df.groupby(['Class','Class_enc']).size().reset_index().rename(columns={0:'Count'})"
   ]
  },
  {
   "cell_type": "code",
   "execution_count": 11,
   "metadata": {
    "execution": {
     "iopub.execute_input": "2021-01-26T17:42:39.136419Z",
     "iopub.status.busy": "2021-01-26T17:42:39.135573Z",
     "iopub.status.idle": "2021-01-26T17:42:39.146610Z",
     "shell.execute_reply": "2021-01-26T17:42:39.146089Z"
    },
    "papermill": {
     "duration": 0.0385,
     "end_time": "2021-01-26T17:42:39.146720",
     "exception": false,
     "start_time": "2021-01-26T17:42:39.108220",
     "status": "completed"
    },
    "tags": []
   },
   "outputs": [
    {
     "data": {
      "text/html": [
       "<div>\n",
       "<style scoped>\n",
       "    .dataframe tbody tr th:only-of-type {\n",
       "        vertical-align: middle;\n",
       "    }\n",
       "\n",
       "    .dataframe tbody tr th {\n",
       "        vertical-align: top;\n",
       "    }\n",
       "\n",
       "    .dataframe thead th {\n",
       "        text-align: right;\n",
       "    }\n",
       "</style>\n",
       "<table border=\"1\" class=\"dataframe\">\n",
       "  <thead>\n",
       "    <tr style=\"text-align: right;\">\n",
       "      <th></th>\n",
       "      <th>Class</th>\n",
       "      <th>Class_enc</th>\n",
       "      <th>Count</th>\n",
       "    </tr>\n",
       "  </thead>\n",
       "  <tbody>\n",
       "    <tr>\n",
       "      <th>0</th>\n",
       "      <td>Airplane</td>\n",
       "      <td>0</td>\n",
       "      <td>80</td>\n",
       "    </tr>\n",
       "    <tr>\n",
       "      <th>1</th>\n",
       "      <td>Candle</td>\n",
       "      <td>1</td>\n",
       "      <td>89</td>\n",
       "    </tr>\n",
       "    <tr>\n",
       "      <th>2</th>\n",
       "      <td>Christmas_Tree</td>\n",
       "      <td>2</td>\n",
       "      <td>231</td>\n",
       "    </tr>\n",
       "    <tr>\n",
       "      <th>3</th>\n",
       "      <td>Jacket</td>\n",
       "      <td>3</td>\n",
       "      <td>96</td>\n",
       "    </tr>\n",
       "    <tr>\n",
       "      <th>4</th>\n",
       "      <td>Miscellaneous</td>\n",
       "      <td>4</td>\n",
       "      <td>421</td>\n",
       "    </tr>\n",
       "    <tr>\n",
       "      <th>5</th>\n",
       "      <td>Snowman</td>\n",
       "      <td>5</td>\n",
       "      <td>54</td>\n",
       "    </tr>\n",
       "  </tbody>\n",
       "</table>\n",
       "</div>"
      ],
      "text/plain": [
       "            Class Class_enc  Count\n",
       "0        Airplane         0     80\n",
       "1          Candle         1     89\n",
       "2  Christmas_Tree         2    231\n",
       "3          Jacket         3     96\n",
       "4   Miscellaneous         4    421\n",
       "5         Snowman         5     54"
      ]
     },
     "execution_count": 11,
     "metadata": {},
     "output_type": "execute_result"
    }
   ],
   "source": [
    "validation_df.groupby(['Class','Class_enc']).size().reset_index().rename(columns={0:'Count'})"
   ]
  },
  {
   "cell_type": "markdown",
   "metadata": {
    "papermill": {
     "duration": 0.023262,
     "end_time": "2021-01-26T17:42:39.193541",
     "exception": false,
     "start_time": "2021-01-26T17:42:39.170279",
     "status": "completed"
    },
    "tags": []
   },
   "source": [
    "## Model Hyperparameters"
   ]
  },
  {
   "cell_type": "code",
   "execution_count": 12,
   "metadata": {
    "execution": {
     "iopub.execute_input": "2021-01-26T17:42:39.248129Z",
     "iopub.status.busy": "2021-01-26T17:42:39.247385Z",
     "iopub.status.idle": "2021-01-26T17:42:39.250369Z",
     "shell.execute_reply": "2021-01-26T17:42:39.249836Z"
    },
    "papermill": {
     "duration": 0.032469,
     "end_time": "2021-01-26T17:42:39.250479",
     "exception": false,
     "start_time": "2021-01-26T17:42:39.218010",
     "status": "completed"
    },
    "tags": []
   },
   "outputs": [],
   "source": [
    "dataset_dir = \"../input/hackereath-holiday-season-deep-learning-contest/dataset/\"\n",
    "mini_batch_size = 128\n",
    "steps_per_epoch = int(np.ceil(train_df.shape[0] / float(mini_batch_size)))\n",
    "validation_steps = int(np.ceil(validation_df.shape[0] / float(mini_batch_size)))\n",
    "test_steps = int(np.ceil(test_df.shape[0] / float(mini_batch_size)))\n",
    "image_dim = (240, 240, 3)"
   ]
  },
  {
   "cell_type": "markdown",
   "metadata": {
    "papermill": {
     "duration": 0.02373,
     "end_time": "2021-01-26T17:42:39.297918",
     "exception": false,
     "start_time": "2021-01-26T17:42:39.274188",
     "status": "completed"
    },
    "tags": []
   },
   "source": [
    "## Configure image generators"
   ]
  },
  {
   "cell_type": "code",
   "execution_count": 13,
   "metadata": {
    "execution": {
     "iopub.execute_input": "2021-01-26T17:42:39.376066Z",
     "iopub.status.busy": "2021-01-26T17:42:39.375188Z",
     "iopub.status.idle": "2021-01-26T17:42:47.870988Z",
     "shell.execute_reply": "2021-01-26T17:42:47.870535Z"
    },
    "papermill": {
     "duration": 8.549524,
     "end_time": "2021-01-26T17:42:47.871122",
     "exception": false,
     "start_time": "2021-01-26T17:42:39.321598",
     "status": "completed"
    },
    "tags": []
   },
   "outputs": [
    {
     "name": "stdout",
     "output_type": "stream",
     "text": [
      "Found 5498 validated image filenames belonging to 6 classes.\n",
      "Found 971 validated image filenames belonging to 6 classes.\n",
      "Found 3489 validated image filenames belonging to 1 classes.\n"
     ]
    }
   ],
   "source": [
    "train_datagen = ImageDataGenerator(rotation_range = 30,\n",
    "                                   zoom_range = 0.2,\n",
    "                                   horizontal_flip = True,\n",
    "                                   fill_mode = 'nearest',\n",
    "                                   height_shift_range = 0.1,\n",
    "                                   width_shift_range = 0.1)\n",
    "\n",
    "train_generator = train_datagen.flow_from_dataframe(train_df,\n",
    "                                                    directory = os.path.join(dataset_dir,\"train\"),\n",
    "                                                    x_col = \"Image\", \n",
    "                                                    y_col = \"Class_enc\",\n",
    "                                                    target_size = (image_dim[0], image_dim[1]),\n",
    "                                                    batch_size = mini_batch_size,\n",
    "                                                    class_mode = \"categorical\",\n",
    "                                                    interpolation=\"bicubic\")\n",
    "\n",
    "validation_datagen = ImageDataGenerator()\n",
    "\n",
    "validation_generator = validation_datagen.flow_from_dataframe(validation_df,\n",
    "                                                              directory = os.path.join(dataset_dir,\"train\"),\n",
    "                                                              x_col = \"Image\",\n",
    "                                                              y_col = \"Class_enc\",\n",
    "                                                              shuffle=False,\n",
    "                                                              target_size = (image_dim[0], image_dim[1]),\n",
    "                                                              batch_size = mini_batch_size,\n",
    "                                                              class_mode = \"categorical\",\n",
    "                                                              interpolation=\"bicubic\")\n",
    "\n",
    "test_datagen = ImageDataGenerator()\n",
    "\n",
    "test_generator = test_datagen.flow_from_dataframe(test_df,\n",
    "                                                  directory = os.path.join(dataset_dir,\"test\"),\n",
    "                                                  x_col = \"Image\",\n",
    "                                                  y_col = \"Class\",\n",
    "                                                  shuffle=False,\n",
    "                                                  target_size = (image_dim[0], image_dim[1]),\n",
    "                                                  batch_size = mini_batch_size,\n",
    "                                                  class_mode = \"categorical\",\n",
    "                                                  interpolation=\"bicubic\")"
   ]
  },
  {
   "cell_type": "markdown",
   "metadata": {
    "papermill": {
     "duration": 0.024336,
     "end_time": "2021-01-26T17:42:47.921706",
     "exception": false,
     "start_time": "2021-01-26T17:42:47.897370",
     "status": "completed"
    },
    "tags": []
   },
   "source": [
    "## Build and validate the model"
   ]
  },
  {
   "cell_type": "code",
   "execution_count": 14,
   "metadata": {
    "execution": {
     "iopub.execute_input": "2021-01-26T17:42:47.992109Z",
     "iopub.status.busy": "2021-01-26T17:42:47.989111Z",
     "iopub.status.idle": "2021-01-26T17:42:47.994406Z",
     "shell.execute_reply": "2021-01-26T17:42:47.994918Z"
    },
    "papermill": {
     "duration": 0.048851,
     "end_time": "2021-01-26T17:42:47.995065",
     "exception": false,
     "start_time": "2021-01-26T17:42:47.946214",
     "status": "completed"
    },
    "tags": []
   },
   "outputs": [],
   "source": [
    "def head(x_input, input_shape=1536, ratio=8):\n",
    "    \n",
    "    #=======================================================\n",
    "    #                    Channel Attention\n",
    "    #=======================================================\n",
    "    gapavg = GlobalAveragePooling2D()(x_input)\n",
    "    gapavg = Reshape((1, 1, gapavg.shape[1]))(gapavg)\n",
    "    gapavg = Conv2D(input_shape//ratio, \n",
    "                    kernel_size=1, strides=1, use_bias=True, \n",
    "                    padding='same', kernel_regularizer=l2(0.001), \n",
    "                    kernel_initializer='he_normal')(gapavg)\n",
    "    gapavg = BatchNormalization()(gapavg)\n",
    "    gapavg = Activation('relu')(gapavg)\n",
    "    gapavg_out = Conv2D(input_shape, kernel_size=1, \n",
    "                        strides=1, padding='same', use_bias=True, \n",
    "                        kernel_regularizer=l2(0.001), \n",
    "                        kernel_initializer='he_normal')(gapavg)\n",
    "    gapavg_out = BatchNormalization()(gapavg_out)\n",
    "    gapavg_out = Activation('relu')(gapavg_out)\n",
    "\n",
    "\n",
    "    gmpmax = GlobalMaxPooling2D()(x_input)\n",
    "    gmpmax = Reshape((1, 1, gmpmax.shape[1]))(gmpmax)\n",
    "    gmpmax = Conv2D(input_shape//ratio, \n",
    "                    kernel_size=1, strides=1, use_bias=True, \n",
    "                    padding='same', kernel_regularizer=l2(0.001), \n",
    "                    kernel_initializer='he_normal')(gmpmax)\n",
    "    gmpmax = BatchNormalization()(gmpmax)\n",
    "    gmpmax = Activation('relu')(gmpmax)\n",
    "    gmpmax_out = Conv2D(input_shape, kernel_size=1, \n",
    "                        strides=1, padding='same', use_bias=True, \n",
    "                        kernel_regularizer=l2(0.001), \n",
    "                        kernel_initializer='he_normal')(gmpmax)\n",
    "    gmpmax_out = BatchNormalization()(gmpmax_out)\n",
    "    gmpmax_out = Activation('relu')(gmpmax_out)\n",
    "    canx = x_input * tf.math.sigmoid(gapavg_out + gmpmax_out)\n",
    "\n",
    "\n",
    "    #=======================================================\n",
    "    #                    Spatial Attention\n",
    "    #=======================================================\n",
    "    avg_out = tf.reduce_mean(canx, axis=3)\n",
    "    max_out = tf.reduce_max(canx,  axis=3)\n",
    "    x = tf.stack([avg_out, max_out], axis=3)\n",
    "    \n",
    "    x = Conv2D(filters=64, kernel_size=3, strides=1, \n",
    "               padding='same', use_bias=False, \n",
    "               kernel_regularizer=l2(0.001), \n",
    "               kernel_initializer='he_normal')(x)\n",
    "    x = BatchNormalization()(x)\n",
    "    x = Activation('relu')(x)\n",
    "\n",
    "    x = Conv2D(filters=32, kernel_size=3, strides=1, \n",
    "               padding='same', use_bias=False, \n",
    "               kernel_regularizer=l2(0.001), \n",
    "               kernel_initializer='he_normal')(x)\n",
    "    x = BatchNormalization()(x)\n",
    "    x = Activation('relu')(x)\n",
    "\n",
    "    x = Conv2D(filters=16, kernel_size=3, strides=1, \n",
    "               padding='same', use_bias=False, \n",
    "               kernel_regularizer=l2(0.001), \n",
    "               kernel_initializer='he_normal')(x)\n",
    "    x = BatchNormalization()(x)\n",
    "    x = Activation('relu')(x)\n",
    "\n",
    "    x = Conv2D(filters=1, kernel_size=3, strides=1, \n",
    "               padding='same', use_bias=False, \n",
    "               kernel_regularizer=l2(0.001), \n",
    "               kernel_initializer='he_normal')(x)\n",
    "    x = BatchNormalization()(x)\n",
    "    x = Activation('sigmoid')(x)\n",
    "    spnx1 = canx * x\n",
    "    spnx2 = x\n",
    "    \n",
    "    gapx   = GlobalAveragePooling2D()(spnx1)\n",
    "    wvgx   = GlobalAveragePooling2D()(spnx2)\n",
    "    gapavg = Average()([gapx, wvgx])\n",
    "    x = BatchNormalization()(gapavg)\n",
    "\n",
    "\n",
    "    #=======================================================\n",
    "    #                    Tail of the model\n",
    "    #=======================================================\n",
    "\n",
    "    x = Dense(units=2048, kernel_regularizer=l2(0.0001), \n",
    "              kernel_initializer='he_uniform')(x)\n",
    "    x = BatchNormalization()(x)\n",
    "    x = Activation('relu')(x)\n",
    "    x = Dropout(rate=0.5)(x)\n",
    "    \n",
    "    x = Dense(units=1024, kernel_regularizer=l2(0.0001), \n",
    "              kernel_initializer='he_uniform')(x)\n",
    "    x = BatchNormalization()(x)\n",
    "    x = Activation('relu')(x)\n",
    "    x = Dropout(rate=0.5)(x)\n",
    "    \n",
    "    x = Dense(units=1024, kernel_regularizer=l2(0.0001), \n",
    "              kernel_initializer='he_uniform')(x)\n",
    "    x = BatchNormalization()(x)\n",
    "    x = Activation('relu')(x)\n",
    "    x = Dropout(rate=0.5)(x)\n",
    "    \n",
    "    x = Dense(units=512, kernel_regularizer=l2(0.0001), \n",
    "              kernel_initializer='he_uniform')(x)\n",
    "    x = BatchNormalization()(x)\n",
    "    x = Activation('relu')(x)\n",
    "    x = Dropout(rate=0.5)(x)\n",
    "    \n",
    "    x = Dense(units=6, activation='softmax', \n",
    "              kernel_initializer='he_uniform')(x)\n",
    "\n",
    "    return x"
   ]
  },
  {
   "cell_type": "code",
   "execution_count": 15,
   "metadata": {
    "execution": {
     "iopub.execute_input": "2021-01-26T17:42:48.053268Z",
     "iopub.status.busy": "2021-01-26T17:42:48.052711Z",
     "iopub.status.idle": "2021-01-26T17:43:02.610769Z",
     "shell.execute_reply": "2021-01-26T17:43:02.610278Z"
    },
    "papermill": {
     "duration": 14.591412,
     "end_time": "2021-01-26T17:43:02.610907",
     "exception": false,
     "start_time": "2021-01-26T17:42:48.019495",
     "status": "completed"
    },
    "tags": []
   },
   "outputs": [
    {
     "name": "stdout",
     "output_type": "stream",
     "text": [
      "Downloading data from https://storage.googleapis.com/keras-applications/efficientnetb3_notop.h5\n",
      "43941888/43941136 [==============================] - 1s 0us/step\n"
     ]
    }
   ],
   "source": [
    "# Build the model\n",
    "base_model = EfficientNetB3(weights='imagenet', \n",
    "                            input_tensor=Input(shape=image_dim), \n",
    "                            include_top=False)\n",
    "\n",
    "model = Model(base_model.input, head(base_model.output),\n",
    "              name='HackerEarth_Holiday_Season_Model')\n",
    "\n",
    "# Load the pre-trained model\n",
    "pretrain_model = load_model('../input/holiday-season-enetb3-mav1/hackerearth_holiday_season_model.h5')\n",
    "\n",
    "# Transfer weights from pre-trained model\n",
    "model.set_weights(pretrain_model.get_weights())\n",
    "\n",
    "# Freeze weights for base model\n",
    "base_model.trainable = False\n",
    "for layer in base_model.layers[-18:]:\n",
    "    if not isinstance(layer, BatchNormalization):\n",
    "        layer.trainable = True\n",
    "\n",
    "# Compile the final model\n",
    "model.compile(loss='categorical_crossentropy', \n",
    "              metrics=[F1Score(num_classes=6, average='weighted'), \n",
    "                       'categorical_accuracy'],\n",
    "              optimizer=Lookahead(AdamW(lr=1e-2, \n",
    "                                        weight_decay=1e-5, \n",
    "                                        clipvalue=700), \n",
    "                                  sync_period=10))\n",
    "\n",
    "early = EarlyStopping(monitor=\"val_loss\", mode=\"min\", patience=10, \n",
    "                      restore_best_weights=True, verbose=1)\n",
    "\n",
    "reduce_lr = ReduceLROnPlateau(monitor=\"val_loss\", factor=0.1, \n",
    "                              min_lr=1e-6, patience=7, \n",
    "                              verbose=1, mode='min')\n",
    "\n",
    "chk_point = ModelCheckpoint('hackerearth_holiday_season_model.h5', \n",
    "                            monitor='val_loss', verbose=1, \n",
    "                            save_best_only=True, mode='min')"
   ]
  },
  {
   "cell_type": "code",
   "execution_count": 16,
   "metadata": {
    "execution": {
     "iopub.execute_input": "2021-01-26T17:43:02.675634Z",
     "iopub.status.busy": "2021-01-26T17:43:02.674897Z",
     "iopub.status.idle": "2021-01-26T18:48:17.366673Z",
     "shell.execute_reply": "2021-01-26T18:48:17.365644Z"
    },
    "papermill": {
     "duration": 3914.727816,
     "end_time": "2021-01-26T18:48:17.367373",
     "exception": false,
     "start_time": "2021-01-26T17:43:02.639557",
     "status": "completed"
    },
    "tags": []
   },
   "outputs": [
    {
     "name": "stdout",
     "output_type": "stream",
     "text": [
      "Epoch 1/275\n",
      "43/43 [==============================] - 114s 2s/step - loss: 0.4882 - f1_score: 0.8163 - categorical_accuracy: 0.8150 - val_loss: 1.2322 - val_f1_score: 0.8806 - val_categorical_accuracy: 0.8785\n",
      "\n",
      "Epoch 00001: val_loss improved from inf to 1.23221, saving model to hackerearth_holiday_season_model.h5\n",
      "Epoch 2/275\n",
      "43/43 [==============================] - 75s 2s/step - loss: 0.3589 - f1_score: 0.8751 - categorical_accuracy: 0.8746 - val_loss: 0.7921 - val_f1_score: 0.8551 - val_categorical_accuracy: 0.8507\n",
      "\n",
      "Epoch 00002: val_loss improved from 1.23221 to 0.79213, saving model to hackerearth_holiday_season_model.h5\n",
      "Epoch 3/275\n",
      "43/43 [==============================] - 75s 2s/step - loss: 0.3368 - f1_score: 0.8817 - categorical_accuracy: 0.8802 - val_loss: 1.0166 - val_f1_score: 0.7726 - val_categorical_accuracy: 0.7703\n",
      "\n",
      "Epoch 00003: val_loss did not improve from 0.79213\n",
      "Epoch 4/275\n",
      "43/43 [==============================] - 80s 2s/step - loss: 0.3910 - f1_score: 0.8675 - categorical_accuracy: 0.8663 - val_loss: 0.6149 - val_f1_score: 0.9014 - val_categorical_accuracy: 0.9011\n",
      "\n",
      "Epoch 00004: val_loss improved from 0.79213 to 0.61486, saving model to hackerearth_holiday_season_model.h5\n",
      "Epoch 5/275\n",
      "43/43 [==============================] - 79s 2s/step - loss: 0.3787 - f1_score: 0.8762 - categorical_accuracy: 0.8754 - val_loss: 0.7203 - val_f1_score: 0.8868 - val_categorical_accuracy: 0.8836\n",
      "\n",
      "Epoch 00005: val_loss did not improve from 0.61486\n",
      "Epoch 6/275\n",
      "43/43 [==============================] - 80s 2s/step - loss: 0.3313 - f1_score: 0.8938 - categorical_accuracy: 0.8929 - val_loss: 1.0235 - val_f1_score: 0.7970 - val_categorical_accuracy: 0.7786\n",
      "\n",
      "Epoch 00006: val_loss did not improve from 0.61486\n",
      "Epoch 7/275\n",
      "43/43 [==============================] - 81s 2s/step - loss: 0.3555 - f1_score: 0.8760 - categorical_accuracy: 0.8750 - val_loss: 0.5045 - val_f1_score: 0.8997 - val_categorical_accuracy: 0.8991\n",
      "\n",
      "Epoch 00007: val_loss improved from 0.61486 to 0.50453, saving model to hackerearth_holiday_season_model.h5\n",
      "Epoch 8/275\n",
      "43/43 [==============================] - 75s 2s/step - loss: 0.4382 - f1_score: 0.8861 - categorical_accuracy: 0.8841 - val_loss: 0.6165 - val_f1_score: 0.9013 - val_categorical_accuracy: 0.9011\n",
      "\n",
      "Epoch 00008: val_loss did not improve from 0.50453\n",
      "Epoch 9/275\n",
      "43/43 [==============================] - 79s 2s/step - loss: 0.3481 - f1_score: 0.9028 - categorical_accuracy: 0.9023 - val_loss: 0.5810 - val_f1_score: 0.8974 - val_categorical_accuracy: 0.8970\n",
      "\n",
      "Epoch 00009: val_loss did not improve from 0.50453\n",
      "Epoch 10/275\n",
      "43/43 [==============================] - 79s 2s/step - loss: 0.3433 - f1_score: 0.8961 - categorical_accuracy: 0.8946 - val_loss: 0.5007 - val_f1_score: 0.9179 - val_categorical_accuracy: 0.9176\n",
      "\n",
      "Epoch 00010: val_loss improved from 0.50453 to 0.50073, saving model to hackerearth_holiday_season_model.h5\n",
      "Epoch 11/275\n",
      "43/43 [==============================] - 76s 2s/step - loss: 0.3073 - f1_score: 0.8969 - categorical_accuracy: 0.8961 - val_loss: 0.6183 - val_f1_score: 0.9000 - val_categorical_accuracy: 0.8991\n",
      "\n",
      "Epoch 00011: val_loss did not improve from 0.50073\n",
      "Epoch 12/275\n",
      "43/43 [==============================] - 79s 2s/step - loss: 0.3427 - f1_score: 0.8920 - categorical_accuracy: 0.8914 - val_loss: 0.8938 - val_f1_score: 0.8798 - val_categorical_accuracy: 0.8744\n",
      "\n",
      "Epoch 00012: val_loss did not improve from 0.50073\n",
      "Epoch 13/275\n",
      "43/43 [==============================] - 83s 2s/step - loss: 0.3590 - f1_score: 0.8905 - categorical_accuracy: 0.8893 - val_loss: 0.7862 - val_f1_score: 0.8594 - val_categorical_accuracy: 0.8620\n",
      "\n",
      "Epoch 00013: val_loss did not improve from 0.50073\n",
      "Epoch 14/275\n",
      "43/43 [==============================] - 79s 2s/step - loss: 0.3172 - f1_score: 0.8961 - categorical_accuracy: 0.8949 - val_loss: 0.6191 - val_f1_score: 0.9000 - val_categorical_accuracy: 0.8991\n",
      "\n",
      "Epoch 00014: val_loss did not improve from 0.50073\n",
      "Epoch 15/275\n",
      "43/43 [==============================] - 80s 2s/step - loss: 0.3768 - f1_score: 0.8819 - categorical_accuracy: 0.8804 - val_loss: 0.5994 - val_f1_score: 0.8920 - val_categorical_accuracy: 0.8939\n",
      "\n",
      "Epoch 00015: val_loss did not improve from 0.50073\n",
      "Epoch 16/275\n",
      "43/43 [==============================] - 79s 2s/step - loss: 0.3373 - f1_score: 0.8914 - categorical_accuracy: 0.8901 - val_loss: 0.7894 - val_f1_score: 0.8813 - val_categorical_accuracy: 0.8805\n",
      "\n",
      "Epoch 00016: val_loss did not improve from 0.50073\n",
      "Epoch 17/275\n",
      "43/43 [==============================] - 80s 2s/step - loss: 0.3130 - f1_score: 0.8996 - categorical_accuracy: 0.8988 - val_loss: 0.5889 - val_f1_score: 0.9001 - val_categorical_accuracy: 0.8991\n",
      "\n",
      "Epoch 00017: ReduceLROnPlateau reducing learning rate to 0.0009999999776482583.\n",
      "\n",
      "Epoch 00017: val_loss did not improve from 0.50073\n",
      "Epoch 18/275\n",
      "43/43 [==============================] - 79s 2s/step - loss: 0.2326 - f1_score: 0.9066 - categorical_accuracy: 0.9059 - val_loss: 0.4538 - val_f1_score: 0.9098 - val_categorical_accuracy: 0.9094\n",
      "\n",
      "Epoch 00018: val_loss improved from 0.50073 to 0.45383, saving model to hackerearth_holiday_season_model.h5\n",
      "Epoch 19/275\n",
      "43/43 [==============================] - 82s 2s/step - loss: 0.1920 - f1_score: 0.9243 - categorical_accuracy: 0.9237 - val_loss: 0.4004 - val_f1_score: 0.9122 - val_categorical_accuracy: 0.9125\n",
      "\n",
      "Epoch 00019: val_loss improved from 0.45383 to 0.40041, saving model to hackerearth_holiday_season_model.h5\n",
      "Epoch 20/275\n",
      "43/43 [==============================] - 79s 2s/step - loss: 0.1623 - f1_score: 0.9237 - categorical_accuracy: 0.9233 - val_loss: 0.3971 - val_f1_score: 0.9060 - val_categorical_accuracy: 0.9063\n",
      "\n",
      "Epoch 00020: val_loss improved from 0.40041 to 0.39708, saving model to hackerearth_holiday_season_model.h5\n",
      "Epoch 21/275\n",
      "43/43 [==============================] - 77s 2s/step - loss: 0.1428 - f1_score: 0.9293 - categorical_accuracy: 0.9290 - val_loss: 0.3820 - val_f1_score: 0.9080 - val_categorical_accuracy: 0.9083\n",
      "\n",
      "Epoch 00021: val_loss improved from 0.39708 to 0.38196, saving model to hackerearth_holiday_season_model.h5\n",
      "Epoch 22/275\n",
      "43/43 [==============================] - 79s 2s/step - loss: 0.1319 - f1_score: 0.9294 - categorical_accuracy: 0.9293 - val_loss: 0.3717 - val_f1_score: 0.9058 - val_categorical_accuracy: 0.9063\n",
      "\n",
      "Epoch 00022: val_loss improved from 0.38196 to 0.37175, saving model to hackerearth_holiday_season_model.h5\n",
      "Epoch 23/275\n",
      "43/43 [==============================] - 76s 2s/step - loss: 0.1197 - f1_score: 0.9361 - categorical_accuracy: 0.9359 - val_loss: 0.3752 - val_f1_score: 0.9049 - val_categorical_accuracy: 0.9053\n",
      "\n",
      "Epoch 00023: val_loss did not improve from 0.37175\n",
      "Epoch 24/275\n",
      "43/43 [==============================] - 79s 2s/step - loss: 0.1122 - f1_score: 0.9253 - categorical_accuracy: 0.9249 - val_loss: 0.3495 - val_f1_score: 0.9110 - val_categorical_accuracy: 0.9114\n",
      "\n",
      "Epoch 00024: val_loss improved from 0.37175 to 0.34946, saving model to hackerearth_holiday_season_model.h5\n",
      "Epoch 25/275\n",
      "43/43 [==============================] - 79s 2s/step - loss: 0.1110 - f1_score: 0.9385 - categorical_accuracy: 0.9381 - val_loss: 0.3438 - val_f1_score: 0.9121 - val_categorical_accuracy: 0.9125\n",
      "\n",
      "Epoch 00025: val_loss improved from 0.34946 to 0.34376, saving model to hackerearth_holiday_season_model.h5\n",
      "Epoch 26/275\n",
      "43/43 [==============================] - 76s 2s/step - loss: 0.1024 - f1_score: 0.9463 - categorical_accuracy: 0.9459 - val_loss: 0.3495 - val_f1_score: 0.9088 - val_categorical_accuracy: 0.9094\n",
      "\n",
      "Epoch 00026: val_loss did not improve from 0.34376\n",
      "Epoch 27/275\n",
      "43/43 [==============================] - 80s 2s/step - loss: 0.1029 - f1_score: 0.9358 - categorical_accuracy: 0.9356 - val_loss: 0.3385 - val_f1_score: 0.9109 - val_categorical_accuracy: 0.9114\n",
      "\n",
      "Epoch 00027: val_loss improved from 0.34376 to 0.33847, saving model to hackerearth_holiday_season_model.h5\n",
      "Epoch 28/275\n",
      "43/43 [==============================] - 76s 2s/step - loss: 0.0872 - f1_score: 0.9417 - categorical_accuracy: 0.9416 - val_loss: 0.3410 - val_f1_score: 0.9090 - val_categorical_accuracy: 0.9094\n",
      "\n",
      "Epoch 00028: val_loss did not improve from 0.33847\n",
      "Epoch 29/275\n",
      "43/43 [==============================] - 80s 2s/step - loss: 0.0939 - f1_score: 0.9308 - categorical_accuracy: 0.9303 - val_loss: 0.3489 - val_f1_score: 0.9090 - val_categorical_accuracy: 0.9094\n",
      "\n",
      "Epoch 00029: val_loss did not improve from 0.33847\n",
      "Epoch 30/275\n",
      "43/43 [==============================] - 79s 2s/step - loss: 0.0877 - f1_score: 0.9353 - categorical_accuracy: 0.9346 - val_loss: 0.3447 - val_f1_score: 0.9152 - val_categorical_accuracy: 0.9156\n",
      "\n",
      "Epoch 00030: val_loss did not improve from 0.33847\n",
      "Epoch 31/275\n",
      "43/43 [==============================] - 79s 2s/step - loss: 0.0816 - f1_score: 0.9450 - categorical_accuracy: 0.9449 - val_loss: 0.3348 - val_f1_score: 0.9152 - val_categorical_accuracy: 0.9156\n",
      "\n",
      "Epoch 00031: val_loss improved from 0.33847 to 0.33477, saving model to hackerearth_holiday_season_model.h5\n",
      "Epoch 32/275\n",
      "43/43 [==============================] - 78s 2s/step - loss: 0.0856 - f1_score: 0.9431 - categorical_accuracy: 0.9427 - val_loss: 0.3384 - val_f1_score: 0.9173 - val_categorical_accuracy: 0.9176\n",
      "\n",
      "Epoch 00032: val_loss did not improve from 0.33477\n",
      "Epoch 33/275\n",
      "43/43 [==============================] - 80s 2s/step - loss: 0.0883 - f1_score: 0.9380 - categorical_accuracy: 0.9375 - val_loss: 0.3361 - val_f1_score: 0.9155 - val_categorical_accuracy: 0.9156\n",
      "\n",
      "Epoch 00033: val_loss did not improve from 0.33477\n",
      "Epoch 34/275\n",
      "43/43 [==============================] - 79s 2s/step - loss: 0.0789 - f1_score: 0.9451 - categorical_accuracy: 0.9447 - val_loss: 0.3427 - val_f1_score: 0.9154 - val_categorical_accuracy: 0.9156\n",
      "\n",
      "Epoch 00034: val_loss did not improve from 0.33477\n",
      "Epoch 35/275\n",
      "43/43 [==============================] - 82s 2s/step - loss: 0.0790 - f1_score: 0.9477 - categorical_accuracy: 0.9473 - val_loss: 0.3483 - val_f1_score: 0.9173 - val_categorical_accuracy: 0.9176\n",
      "\n",
      "Epoch 00035: val_loss did not improve from 0.33477\n",
      "Epoch 36/275\n",
      "43/43 [==============================] - 80s 2s/step - loss: 0.0820 - f1_score: 0.9382 - categorical_accuracy: 0.9377 - val_loss: 0.3401 - val_f1_score: 0.9200 - val_categorical_accuracy: 0.9197\n",
      "\n",
      "Epoch 00036: val_loss did not improve from 0.33477\n",
      "Epoch 37/275\n",
      "43/43 [==============================] - 80s 2s/step - loss: 0.0738 - f1_score: 0.9451 - categorical_accuracy: 0.9447 - val_loss: 0.3506 - val_f1_score: 0.9154 - val_categorical_accuracy: 0.9156\n",
      "\n",
      "Epoch 00037: val_loss did not improve from 0.33477\n",
      "Epoch 38/275\n",
      "43/43 [==============================] - 79s 2s/step - loss: 0.0779 - f1_score: 0.9406 - categorical_accuracy: 0.9404 - val_loss: 0.3315 - val_f1_score: 0.9165 - val_categorical_accuracy: 0.9166\n",
      "\n",
      "Epoch 00038: val_loss improved from 0.33477 to 0.33145, saving model to hackerearth_holiday_season_model.h5\n",
      "Epoch 39/275\n",
      "43/43 [==============================] - 82s 2s/step - loss: 0.0769 - f1_score: 0.9406 - categorical_accuracy: 0.9402 - val_loss: 0.3520 - val_f1_score: 0.9176 - val_categorical_accuracy: 0.9176\n",
      "\n",
      "Epoch 00039: val_loss did not improve from 0.33145\n",
      "Epoch 40/275\n",
      "43/43 [==============================] - 80s 2s/step - loss: 0.0770 - f1_score: 0.9413 - categorical_accuracy: 0.9408 - val_loss: 0.3590 - val_f1_score: 0.9174 - val_categorical_accuracy: 0.9176\n",
      "\n",
      "Epoch 00040: val_loss did not improve from 0.33145\n",
      "Epoch 41/275\n",
      "43/43 [==============================] - 79s 2s/step - loss: 0.0814 - f1_score: 0.9408 - categorical_accuracy: 0.9406 - val_loss: 0.3782 - val_f1_score: 0.9205 - val_categorical_accuracy: 0.9207\n",
      "\n",
      "Epoch 00041: val_loss did not improve from 0.33145\n",
      "Epoch 42/275\n",
      "43/43 [==============================] - 80s 2s/step - loss: 0.0755 - f1_score: 0.9453 - categorical_accuracy: 0.9451 - val_loss: 0.3857 - val_f1_score: 0.9188 - val_categorical_accuracy: 0.9186\n",
      "\n",
      "Epoch 00042: val_loss did not improve from 0.33145\n",
      "Epoch 43/275\n",
      "43/43 [==============================] - 79s 2s/step - loss: 0.0803 - f1_score: 0.9362 - categorical_accuracy: 0.9359 - val_loss: 0.3614 - val_f1_score: 0.9188 - val_categorical_accuracy: 0.9186\n",
      "\n",
      "Epoch 00043: val_loss did not improve from 0.33145\n",
      "Epoch 44/275\n",
      "43/43 [==============================] - 80s 2s/step - loss: 0.0739 - f1_score: 0.9432 - categorical_accuracy: 0.9430 - val_loss: 0.3374 - val_f1_score: 0.9208 - val_categorical_accuracy: 0.9207\n",
      "\n",
      "Epoch 00044: val_loss did not improve from 0.33145\n",
      "Epoch 45/275\n",
      "43/43 [==============================] - 79s 2s/step - loss: 0.0719 - f1_score: 0.9491 - categorical_accuracy: 0.9489 - val_loss: 0.3386 - val_f1_score: 0.9226 - val_categorical_accuracy: 0.9228\n",
      "\n",
      "Epoch 00045: ReduceLROnPlateau reducing learning rate to 9.999999310821295e-05.\n",
      "\n",
      "Epoch 00045: val_loss did not improve from 0.33145\n",
      "Epoch 46/275\n",
      "43/43 [==============================] - 79s 2s/step - loss: 0.0708 - f1_score: 0.9508 - categorical_accuracy: 0.9502 - val_loss: 0.3426 - val_f1_score: 0.9208 - val_categorical_accuracy: 0.9207\n",
      "\n",
      "Epoch 00046: val_loss did not improve from 0.33145\n",
      "Epoch 47/275\n",
      "43/43 [==============================] - 80s 2s/step - loss: 0.0653 - f1_score: 0.9506 - categorical_accuracy: 0.9505 - val_loss: 0.3446 - val_f1_score: 0.9207 - val_categorical_accuracy: 0.9207\n",
      "\n",
      "Epoch 00047: val_loss did not improve from 0.33145\n",
      "Epoch 48/275\n",
      "43/43 [==============================] - 80s 2s/step - loss: 0.0635 - f1_score: 0.9572 - categorical_accuracy: 0.9570 - val_loss: 0.3486 - val_f1_score: 0.9218 - val_categorical_accuracy: 0.9217\n",
      "Restoring model weights from the end of the best epoch.\n",
      "\n",
      "Epoch 00048: val_loss did not improve from 0.33145\n",
      "Epoch 00048: early stopping\n"
     ]
    }
   ],
   "source": [
    "history = model.fit(\n",
    "    train_generator, \n",
    "    steps_per_epoch=steps_per_epoch,\n",
    "    class_weight=class_weight, \n",
    "    epochs=275, \n",
    "    verbose=1, \n",
    "    workers=5,\n",
    "    callbacks=[reduce_lr, early, chk_point], \n",
    "    validation_data=validation_generator,\n",
    "    validation_steps=validation_steps\n",
    ")"
   ]
  },
  {
   "cell_type": "code",
   "execution_count": 17,
   "metadata": {
    "execution": {
     "iopub.execute_input": "2021-01-26T18:48:23.301262Z",
     "iopub.status.busy": "2021-01-26T18:48:23.288217Z",
     "iopub.status.idle": "2021-01-26T18:48:26.056067Z",
     "shell.execute_reply": "2021-01-26T18:48:26.054965Z"
    },
    "papermill": {
     "duration": 5.456616,
     "end_time": "2021-01-26T18:48:26.056231",
     "exception": false,
     "start_time": "2021-01-26T18:48:20.599615",
     "status": "completed"
    },
    "tags": []
   },
   "outputs": [
    {
     "data": {
      "image/png": "[encoded data removed]",
      "text/plain": [
       "<Figure size 2160x720 with 3 Axes>"
      ]
     },
     "metadata": {},
     "output_type": "display_data"
    }
   ],
   "source": [
    "_, ax = plt.subplots(1, 3, figsize=(30, 10))\n",
    "\n",
    "ax[0].plot(history.history['loss'], label='train_loss')\n",
    "ax[0].plot(history.history['val_loss'], label='val_loss')\n",
    "ax[0].set_ylabel('Loss')\n",
    "ax[0].set_xlabel('Epoch')\n",
    "ax[0].set_title(\"Model Loss Curve\")\n",
    "ax[0].legend()\n",
    "ax[0].grid()\n",
    "\n",
    "ax[1].plot(history.history['f1_score'], label='train_f1_score')\n",
    "ax[1].plot(history.history['val_f1_score'], label='val_f1_score')\n",
    "ax[1].set_ylabel('F1-Score')\n",
    "ax[1].set_xlabel('Epoch')\n",
    "ax[1].set_title(\"Model F1-Score Curve\")\n",
    "ax[1].legend()\n",
    "ax[1].grid()\n",
    "\n",
    "ax[2].plot(history.history['categorical_accuracy'], label='train_accuracy')\n",
    "ax[2].plot(history.history['val_categorical_accuracy'], label='val_accuracy')\n",
    "ax[2].set_ylabel('Accuracy')\n",
    "ax[2].set_xlabel('Epoch')\n",
    "ax[2].set_title(\"Model Accuracy Curve\")\n",
    "ax[2].legend()\n",
    "ax[2].grid()"
   ]
  },
  {
   "cell_type": "markdown",
   "metadata": {
    "papermill": {
     "duration": 1.236128,
     "end_time": "2021-01-26T18:48:30.271992",
     "exception": false,
     "start_time": "2021-01-26T18:48:29.035864",
     "status": "completed"
    },
    "tags": []
   },
   "source": [
    "## Check classification report"
   ]
  },
  {
   "cell_type": "code",
   "execution_count": 18,
   "metadata": {
    "execution": {
     "iopub.execute_input": "2021-01-26T18:48:32.145507Z",
     "iopub.status.busy": "2021-01-26T18:48:32.114411Z",
     "iopub.status.idle": "2021-01-26T18:48:35.655725Z",
     "shell.execute_reply": "2021-01-26T18:48:35.655250Z"
    },
    "papermill": {
     "duration": 4.449697,
     "end_time": "2021-01-26T18:48:35.655864",
     "exception": false,
     "start_time": "2021-01-26T18:48:31.206167",
     "status": "completed"
    },
    "tags": []
   },
   "outputs": [],
   "source": [
    "model = load_model('./hackerearth_holiday_season_model.h5')"
   ]
  },
  {
   "cell_type": "code",
   "execution_count": 19,
   "metadata": {
    "execution": {
     "iopub.execute_input": "2021-01-26T18:48:36.854248Z",
     "iopub.status.busy": "2021-01-26T18:48:36.853373Z",
     "iopub.status.idle": "2021-01-26T18:48:43.448997Z",
     "shell.execute_reply": "2021-01-26T18:48:43.449379Z"
    },
    "papermill": {
     "duration": 7.195454,
     "end_time": "2021-01-26T18:48:43.449551",
     "exception": false,
     "start_time": "2021-01-26T18:48:36.254097",
     "status": "completed"
    },
    "tags": []
   },
   "outputs": [
    {
     "name": "stdout",
     "output_type": "stream",
     "text": [
      "8/8 [==============================] - 6s 433ms/step\n",
      "\n",
      "y_true: (971,)\n",
      "y_pred: (971,)\n"
     ]
    }
   ],
   "source": [
    "y_true = np.array([validation_generator.classes]).ravel()\n",
    "y_pred = model.predict(validation_generator, verbose=1)\n",
    "y_pred = np.argmax(y_pred, axis=1)\n",
    "\n",
    "print(\"\\ny_true: {}\".format(y_true.shape))\n",
    "print(\"y_pred: {}\".format(y_pred.shape))"
   ]
  },
  {
   "cell_type": "code",
   "execution_count": 20,
   "metadata": {
    "execution": {
     "iopub.execute_input": "2021-01-26T18:48:44.655632Z",
     "iopub.status.busy": "2021-01-26T18:48:44.654778Z",
     "iopub.status.idle": "2021-01-26T18:48:44.664319Z",
     "shell.execute_reply": "2021-01-26T18:48:44.663749Z"
    },
    "papermill": {
     "duration": 0.617829,
     "end_time": "2021-01-26T18:48:44.664450",
     "exception": false,
     "start_time": "2021-01-26T18:48:44.046621",
     "status": "completed"
    },
    "tags": []
   },
   "outputs": [
    {
     "name": "stdout",
     "output_type": "stream",
     "text": [
      "              precision    recall  f1-score   support\n",
      "\n",
      "           0       0.89      0.93      0.91        80\n",
      "           1       0.89      0.88      0.88        89\n",
      "           2       0.95      0.92      0.93       231\n",
      "           3       0.94      0.93      0.93        96\n",
      "           4       0.91      0.93      0.92       421\n",
      "           5       0.86      0.81      0.84        54\n",
      "\n",
      "    accuracy                           0.92       971\n",
      "   macro avg       0.91      0.90      0.90       971\n",
      "weighted avg       0.92      0.92      0.92       971\n",
      "\n"
     ]
    }
   ],
   "source": [
    "print(classification_report(y_true, y_pred))"
   ]
  },
  {
   "cell_type": "code",
   "execution_count": 21,
   "metadata": {
    "execution": {
     "iopub.execute_input": "2021-01-26T18:48:45.897418Z",
     "iopub.status.busy": "2021-01-26T18:48:45.879560Z",
     "iopub.status.idle": "2021-01-26T18:48:46.333346Z",
     "shell.execute_reply": "2021-01-26T18:48:46.333892Z"
    },
    "papermill": {
     "duration": 1.064976,
     "end_time": "2021-01-26T18:48:46.334070",
     "exception": false,
     "start_time": "2021-01-26T18:48:45.269094",
     "status": "completed"
    },
    "tags": []
   },
   "outputs": [
    {
     "data": {
      "image/png": "[encoded data removed]",
      "text/plain": [
       "<Figure size 864x504 with 2 Axes>"
      ]
     },
     "metadata": {},
     "output_type": "display_data"
    }
   ],
   "source": [
    "cnf_matrix = confusion_matrix(y_true, y_pred, labels=[0, 1, 2, 3, 4, 5])\n",
    "np.set_printoptions(precision=2)\n",
    "plt.figure(figsize=(12,7))\n",
    "plot_confusion_matrix(cnf_matrix, classes=[0, 1, 2, 3, 4, 5])"
   ]
  },
  {
   "cell_type": "markdown",
   "metadata": {
    "papermill": {
     "duration": 0.607554,
     "end_time": "2021-01-26T18:48:47.586068",
     "exception": false,
     "start_time": "2021-01-26T18:48:46.978514",
     "status": "completed"
    },
    "tags": []
   },
   "source": [
    "## Create submission file"
   ]
  },
  {
   "cell_type": "code",
   "execution_count": 22,
   "metadata": {
    "execution": {
     "iopub.execute_input": "2021-01-26T18:48:48.792662Z",
     "iopub.status.busy": "2021-01-26T18:48:48.792086Z",
     "iopub.status.idle": "2021-01-26T18:48:48.796354Z",
     "shell.execute_reply": "2021-01-26T18:48:48.795757Z"
    },
    "papermill": {
     "duration": 0.606023,
     "end_time": "2021-01-26T18:48:48.796479",
     "exception": false,
     "start_time": "2021-01-26T18:48:48.190456",
     "status": "completed"
    },
    "tags": []
   },
   "outputs": [],
   "source": [
    "rev_class_map = {\n",
    "    0: 'Airplane',\n",
    "    1: 'Candle',\n",
    "    2: 'Christmas_Tree',\n",
    "    3: 'Jacket',\n",
    "    4: 'Miscellaneous',\n",
    "    5: 'Snowman'\n",
    "}"
   ]
  },
  {
   "cell_type": "code",
   "execution_count": 23,
   "metadata": {
    "execution": {
     "iopub.execute_input": "2021-01-26T18:48:50.005042Z",
     "iopub.status.busy": "2021-01-26T18:48:50.004420Z",
     "iopub.status.idle": "2021-01-26T18:49:16.824792Z",
     "shell.execute_reply": "2021-01-26T18:49:16.825366Z"
    },
    "papermill": {
     "duration": 27.429746,
     "end_time": "2021-01-26T18:49:16.825549",
     "exception": false,
     "start_time": "2021-01-26T18:48:49.395803",
     "status": "completed"
    },
    "tags": []
   },
   "outputs": [
    {
     "name": "stdout",
     "output_type": "stream",
     "text": [
      "28/28 [==============================] - 26s 934ms/step\n",
      "(3489,)\n"
     ]
    }
   ],
   "source": [
    "y_pred_final = model.predict(test_generator, verbose=1)\n",
    "y_pred_final = np.argmax(y_pred_final, axis=1)\n",
    "print(y_pred_final.shape)"
   ]
  },
  {
   "cell_type": "code",
   "execution_count": 24,
   "metadata": {
    "execution": {
     "iopub.execute_input": "2021-01-26T18:49:18.081407Z",
     "iopub.status.busy": "2021-01-26T18:49:18.080446Z",
     "iopub.status.idle": "2021-01-26T18:49:18.084080Z",
     "shell.execute_reply": "2021-01-26T18:49:18.084485Z"
    },
    "papermill": {
     "duration": 0.631793,
     "end_time": "2021-01-26T18:49:18.084630",
     "exception": false,
     "start_time": "2021-01-26T18:49:17.452837",
     "status": "completed"
    },
    "tags": []
   },
   "outputs": [
    {
     "data": {
      "text/html": [
       "<div>\n",
       "<style scoped>\n",
       "    .dataframe tbody tr th:only-of-type {\n",
       "        vertical-align: middle;\n",
       "    }\n",
       "\n",
       "    .dataframe tbody tr th {\n",
       "        vertical-align: top;\n",
       "    }\n",
       "\n",
       "    .dataframe thead th {\n",
       "        text-align: right;\n",
       "    }\n",
       "</style>\n",
       "<table border=\"1\" class=\"dataframe\">\n",
       "  <thead>\n",
       "    <tr style=\"text-align: right;\">\n",
       "      <th></th>\n",
       "      <th>Image</th>\n",
       "      <th>Class</th>\n",
       "    </tr>\n",
       "  </thead>\n",
       "  <tbody>\n",
       "    <tr>\n",
       "      <th>0</th>\n",
       "      <td>image7761.jpg</td>\n",
       "      <td>Miscellaneous</td>\n",
       "    </tr>\n",
       "    <tr>\n",
       "      <th>1</th>\n",
       "      <td>image3202.jpg</td>\n",
       "      <td>Miscellaneous</td>\n",
       "    </tr>\n",
       "    <tr>\n",
       "      <th>2</th>\n",
       "      <td>image688.jpg</td>\n",
       "      <td>Snowman</td>\n",
       "    </tr>\n",
       "    <tr>\n",
       "      <th>3</th>\n",
       "      <td>image233.jpg</td>\n",
       "      <td>Candle</td>\n",
       "    </tr>\n",
       "    <tr>\n",
       "      <th>4</th>\n",
       "      <td>image4332.jpg</td>\n",
       "      <td>Christmas_Tree</td>\n",
       "    </tr>\n",
       "  </tbody>\n",
       "</table>\n",
       "</div>"
      ],
      "text/plain": [
       "           Image           Class\n",
       "0  image7761.jpg   Miscellaneous\n",
       "1  image3202.jpg   Miscellaneous\n",
       "2   image688.jpg         Snowman\n",
       "3   image233.jpg          Candle\n",
       "4  image4332.jpg  Christmas_Tree"
      ]
     },
     "execution_count": 24,
     "metadata": {},
     "output_type": "execute_result"
    }
   ],
   "source": [
    "test_df['Class'] = y_pred_final\n",
    "test_df['Class'] = test_df['Class'].map(rev_class_map)\n",
    "test_df.head()"
   ]
  },
  {
   "cell_type": "code",
   "execution_count": 25,
   "metadata": {
    "execution": {
     "iopub.execute_input": "2021-01-26T18:49:19.317281Z",
     "iopub.status.busy": "2021-01-26T18:49:19.316709Z",
     "iopub.status.idle": "2021-01-26T18:49:19.428477Z",
     "shell.execute_reply": "2021-01-26T18:49:19.427918Z"
    },
    "papermill": {
     "duration": 0.729419,
     "end_time": "2021-01-26T18:49:19.428597",
     "exception": false,
     "start_time": "2021-01-26T18:49:18.699178",
     "status": "completed"
    },
    "tags": []
   },
   "outputs": [],
   "source": [
    "test_df.to_csv(\"/kaggle/working/submission.csv\", index=False)"
   ]
  },
  {
   "cell_type": "code",
   "execution_count": null,
   "metadata": {
    "papermill": {
     "duration": 0.612486,
     "end_time": "2021-01-26T18:49:20.657307",
     "exception": false,
     "start_time": "2021-01-26T18:49:20.044821",
     "status": "completed"
    },
    "tags": []
   },
   "outputs": [],
   "source": []
  }
 ],
 "metadata": {
  "kernelspec": {
   "display_name": "Python 3",
   "language": "python",
   "name": "python3"
  },
  "language_info": {
   "codemirror_mode": {
    "name": "ipython",
    "version": 3
   },
   "file_extension": ".py",
   "mimetype": "text/x-python",
   "name": "python",
   "nbconvert_exporter": "python",
   "pygments_lexer": "ipython3",
   "version": "3.8.5"
  },
  "papermill": {
   "default_parameters": {},
   "duration": 4016.952272,
   "end_time": "2021-01-26T18:49:25.053815",
   "environment_variables": {},
   "exception": null,
   "input_path": "__notebook__.ipynb",
   "output_path": "__notebook__.ipynb",
   "parameters": {},
   "start_time": "2021-01-26T17:42:28.101543",
   "version": "2.2.2"
  }
 },
 "nbformat": 4,
 "nbformat_minor": 4
}
