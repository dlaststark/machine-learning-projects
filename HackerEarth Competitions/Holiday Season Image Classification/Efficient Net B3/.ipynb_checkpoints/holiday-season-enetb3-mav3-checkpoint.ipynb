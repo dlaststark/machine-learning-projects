{
 "cells": [
  {
   "cell_type": "markdown",
   "metadata": {
    "papermill": {
     "duration": 0.020265,
     "end_time": "2021-01-28T09:44:34.264014",
     "exception": false,
     "start_time": "2021-01-28T09:44:34.243749",
     "status": "completed"
    },
    "tags": []
   },
   "source": [
    "## Import Packages"
   ]
  },
  {
   "cell_type": "code",
   "execution_count": 1,
   "metadata": {
    "execution": {
     "iopub.execute_input": "2021-01-28T09:44:34.310539Z",
     "iopub.status.busy": "2021-01-28T09:44:34.309936Z",
     "iopub.status.idle": "2021-01-28T09:44:39.994200Z",
     "shell.execute_reply": "2021-01-28T09:44:39.994889Z"
    },
    "papermill": {
     "duration": 5.711994,
     "end_time": "2021-01-28T09:44:39.995306",
     "exception": false,
     "start_time": "2021-01-28T09:44:34.283312",
     "status": "completed"
    },
    "tags": []
   },
   "outputs": [],
   "source": [
    "import os\n",
    "import itertools\n",
    "import numpy as np\n",
    "import pandas as pd\n",
    "import seaborn as sns\n",
    "from tqdm import tqdm\n",
    "import matplotlib.pyplot as plt\n",
    "from sklearn.metrics import confusion_matrix\n",
    "from sklearn.metrics import classification_report\n",
    "from sklearn.model_selection import StratifiedShuffleSplit\n",
    "\n",
    "import tensorflow as tf\n",
    "from tensorflow.keras import backend as K\n",
    "from tensorflow.keras.regularizers import l2\n",
    "from tensorflow_addons.metrics import F1Score\n",
    "from tensorflow.keras.models import Model, load_model\n",
    "from tensorflow_addons.optimizers import AdamW, Lookahead\n",
    "from tensorflow.keras.callbacks import EarlyStopping\n",
    "from tensorflow.keras.callbacks import ReduceLROnPlateau\n",
    "from tensorflow.keras.callbacks import ModelCheckpoint\n",
    "from tensorflow.keras.applications import EfficientNetB3\n",
    "from tensorflow.keras.layers import Dense, Dropout, Flatten\n",
    "from tensorflow.keras.layers import BatchNormalization, Input\n",
    "from tensorflow.keras.layers import ZeroPadding2D, MaxPooling2D\n",
    "from tensorflow.keras.layers import GlobalAveragePooling2D, Add\n",
    "from tensorflow.keras.layers import GlobalMaxPooling2D, Reshape\n",
    "from tensorflow.keras.layers import Activation, Conv2D, Average\n",
    "from tensorflow.keras.preprocessing.image import ImageDataGenerator"
   ]
  },
  {
   "cell_type": "markdown",
   "metadata": {
    "papermill": {
     "duration": 0.019721,
     "end_time": "2021-01-28T09:44:40.054882",
     "exception": false,
     "start_time": "2021-01-28T09:44:40.035161",
     "status": "completed"
    },
    "tags": []
   },
   "source": [
    "## Helper Functions"
   ]
  },
  {
   "cell_type": "code",
   "execution_count": 2,
   "metadata": {
    "execution": {
     "iopub.execute_input": "2021-01-28T09:44:40.102246Z",
     "iopub.status.busy": "2021-01-28T09:44:40.100569Z",
     "iopub.status.idle": "2021-01-28T09:44:40.102816Z",
     "shell.execute_reply": "2021-01-28T09:44:40.103201Z"
    },
    "papermill": {
     "duration": 0.029138,
     "end_time": "2021-01-28T09:44:40.103336",
     "exception": false,
     "start_time": "2021-01-28T09:44:40.074198",
     "status": "completed"
    },
    "tags": []
   },
   "outputs": [],
   "source": [
    "def plot_confusion_matrix(cm, classes):\n",
    "\n",
    "    plt.imshow(cm, interpolation='nearest', cmap=plt.cm.Blues)\n",
    "    plt.title('Confusion matrix')\n",
    "    plt.colorbar()\n",
    "    tick_marks = np.arange(len(classes))\n",
    "    plt.xticks(tick_marks, classes, rotation=0)\n",
    "    plt.yticks(tick_marks, classes)\n",
    "\n",
    "    thresh = cm.max() / 2.\n",
    "    for i, j in itertools.product(range(cm.shape[0]), range(cm.shape[1])):\n",
    "        plt.text(j, i, format(cm[i, j], 'd'),\n",
    "                 horizontalalignment=\"center\",\n",
    "                 color=\"white\" if cm[i, j] > thresh else \"black\")\n",
    "\n",
    "    plt.ylabel('True label')\n",
    "    plt.xlabel('Predicted label')\n",
    "    plt.tight_layout()"
   ]
  },
  {
   "cell_type": "markdown",
   "metadata": {
    "papermill": {
     "duration": 0.019116,
     "end_time": "2021-01-28T09:44:40.142684",
     "exception": false,
     "start_time": "2021-01-28T09:44:40.123568",
     "status": "completed"
    },
    "tags": []
   },
   "source": [
    "## Read true labels + Basic EDA"
   ]
  },
  {
   "cell_type": "code",
   "execution_count": 3,
   "metadata": {
    "execution": {
     "iopub.execute_input": "2021-01-28T09:44:40.190652Z",
     "iopub.status.busy": "2021-01-28T09:44:40.190107Z",
     "iopub.status.idle": "2021-01-28T09:44:40.223052Z",
     "shell.execute_reply": "2021-01-28T09:44:40.222645Z"
    },
    "papermill": {
     "duration": 0.061587,
     "end_time": "2021-01-28T09:44:40.223160",
     "exception": false,
     "start_time": "2021-01-28T09:44:40.161573",
     "status": "completed"
    },
    "tags": []
   },
   "outputs": [
    {
     "data": {
      "text/html": [
       "<div>\n",
       "<style scoped>\n",
       "    .dataframe tbody tr th:only-of-type {\n",
       "        vertical-align: middle;\n",
       "    }\n",
       "\n",
       "    .dataframe tbody tr th {\n",
       "        vertical-align: top;\n",
       "    }\n",
       "\n",
       "    .dataframe thead th {\n",
       "        text-align: right;\n",
       "    }\n",
       "</style>\n",
       "<table border=\"1\" class=\"dataframe\">\n",
       "  <thead>\n",
       "    <tr style=\"text-align: right;\">\n",
       "      <th></th>\n",
       "      <th>Image</th>\n",
       "      <th>Class</th>\n",
       "    </tr>\n",
       "  </thead>\n",
       "  <tbody>\n",
       "    <tr>\n",
       "      <th>0</th>\n",
       "      <td>image3476.jpg</td>\n",
       "      <td>Miscellaneous</td>\n",
       "    </tr>\n",
       "    <tr>\n",
       "      <th>1</th>\n",
       "      <td>image5198.jpg</td>\n",
       "      <td>Candle</td>\n",
       "    </tr>\n",
       "    <tr>\n",
       "      <th>2</th>\n",
       "      <td>image4183.jpg</td>\n",
       "      <td>Snowman</td>\n",
       "    </tr>\n",
       "    <tr>\n",
       "      <th>3</th>\n",
       "      <td>image1806.jpg</td>\n",
       "      <td>Miscellaneous</td>\n",
       "    </tr>\n",
       "    <tr>\n",
       "      <th>4</th>\n",
       "      <td>image7831.jpg</td>\n",
       "      <td>Miscellaneous</td>\n",
       "    </tr>\n",
       "  </tbody>\n",
       "</table>\n",
       "</div>"
      ],
      "text/plain": [
       "           Image          Class\n",
       "0  image3476.jpg  Miscellaneous\n",
       "1  image5198.jpg         Candle\n",
       "2  image4183.jpg        Snowman\n",
       "3  image1806.jpg  Miscellaneous\n",
       "4  image7831.jpg  Miscellaneous"
      ]
     },
     "execution_count": 3,
     "metadata": {},
     "output_type": "execute_result"
    }
   ],
   "source": [
    "train_df = pd.read_csv(\"../input/hackereath-holiday-season-deep-learning-contest/dataset/train.csv\")\n",
    "train_df.head()"
   ]
  },
  {
   "cell_type": "code",
   "execution_count": 4,
   "metadata": {
    "execution": {
     "iopub.execute_input": "2021-01-28T09:44:40.267456Z",
     "iopub.status.busy": "2021-01-28T09:44:40.266356Z",
     "iopub.status.idle": "2021-01-28T09:44:40.269271Z",
     "shell.execute_reply": "2021-01-28T09:44:40.268842Z"
    },
    "papermill": {
     "duration": 0.026046,
     "end_time": "2021-01-28T09:44:40.269369",
     "exception": false,
     "start_time": "2021-01-28T09:44:40.243323",
     "status": "completed"
    },
    "tags": []
   },
   "outputs": [],
   "source": [
    "class_map = {\n",
    "    'Airplane': 0,\n",
    "    'Candle': 1,\n",
    "    'Christmas_Tree': 2,\n",
    "    'Jacket': 3,\n",
    "    'Miscellaneous': 4,\n",
    "    'Snowman': 5\n",
    "}"
   ]
  },
  {
   "cell_type": "code",
   "execution_count": 5,
   "metadata": {
    "execution": {
     "iopub.execute_input": "2021-01-28T09:44:40.324106Z",
     "iopub.status.busy": "2021-01-28T09:44:40.323310Z",
     "iopub.status.idle": "2021-01-28T09:44:40.337254Z",
     "shell.execute_reply": "2021-01-28T09:44:40.336853Z"
    },
    "papermill": {
     "duration": 0.048585,
     "end_time": "2021-01-28T09:44:40.337356",
     "exception": false,
     "start_time": "2021-01-28T09:44:40.288771",
     "status": "completed"
    },
    "tags": []
   },
   "outputs": [
    {
     "data": {
      "text/html": [
       "<div>\n",
       "<style scoped>\n",
       "    .dataframe tbody tr th:only-of-type {\n",
       "        vertical-align: middle;\n",
       "    }\n",
       "\n",
       "    .dataframe tbody tr th {\n",
       "        vertical-align: top;\n",
       "    }\n",
       "\n",
       "    .dataframe thead th {\n",
       "        text-align: right;\n",
       "    }\n",
       "</style>\n",
       "<table border=\"1\" class=\"dataframe\">\n",
       "  <thead>\n",
       "    <tr style=\"text-align: right;\">\n",
       "      <th></th>\n",
       "      <th>Class</th>\n",
       "      <th>Class_enc</th>\n",
       "      <th>Count</th>\n",
       "    </tr>\n",
       "  </thead>\n",
       "  <tbody>\n",
       "    <tr>\n",
       "      <th>0</th>\n",
       "      <td>Airplane</td>\n",
       "      <td>0</td>\n",
       "      <td>535</td>\n",
       "    </tr>\n",
       "    <tr>\n",
       "      <th>1</th>\n",
       "      <td>Candle</td>\n",
       "      <td>1</td>\n",
       "      <td>593</td>\n",
       "    </tr>\n",
       "    <tr>\n",
       "      <th>2</th>\n",
       "      <td>Christmas_Tree</td>\n",
       "      <td>2</td>\n",
       "      <td>1539</td>\n",
       "    </tr>\n",
       "    <tr>\n",
       "      <th>3</th>\n",
       "      <td>Jacket</td>\n",
       "      <td>3</td>\n",
       "      <td>640</td>\n",
       "    </tr>\n",
       "    <tr>\n",
       "      <th>4</th>\n",
       "      <td>Miscellaneous</td>\n",
       "      <td>4</td>\n",
       "      <td>2801</td>\n",
       "    </tr>\n",
       "    <tr>\n",
       "      <th>5</th>\n",
       "      <td>Snowman</td>\n",
       "      <td>5</td>\n",
       "      <td>361</td>\n",
       "    </tr>\n",
       "  </tbody>\n",
       "</table>\n",
       "</div>"
      ],
      "text/plain": [
       "            Class Class_enc  Count\n",
       "0        Airplane         0    535\n",
       "1          Candle         1    593\n",
       "2  Christmas_Tree         2   1539\n",
       "3          Jacket         3    640\n",
       "4   Miscellaneous         4   2801\n",
       "5         Snowman         5    361"
      ]
     },
     "execution_count": 5,
     "metadata": {},
     "output_type": "execute_result"
    }
   ],
   "source": [
    "train_df['Class_enc'] = train_df['Class'].map(class_map)\n",
    "train_df['Class_enc'] = train_df['Class_enc'].astype('str')\n",
    "train_df.groupby(['Class','Class_enc']).size().reset_index().rename(columns={0:'Count'})"
   ]
  },
  {
   "cell_type": "code",
   "execution_count": 6,
   "metadata": {
    "execution": {
     "iopub.execute_input": "2021-01-28T09:44:40.386932Z",
     "iopub.status.busy": "2021-01-28T09:44:40.386184Z",
     "iopub.status.idle": "2021-01-28T09:44:40.563296Z",
     "shell.execute_reply": "2021-01-28T09:44:40.563714Z"
    },
    "papermill": {
     "duration": 0.206804,
     "end_time": "2021-01-28T09:44:40.563872",
     "exception": false,
     "start_time": "2021-01-28T09:44:40.357068",
     "status": "completed"
    },
    "tags": []
   },
   "outputs": [
    {
     "data": {
      "image/png": "[encoded data removed]",
      "text/plain": [
       "<Figure size 864x504 with 1 Axes>"
      ]
     },
     "metadata": {
      "needs_background": "light"
     },
     "output_type": "display_data"
    }
   ],
   "source": [
    "plt.figure(figsize=(12,7))\n",
    "sns.set(style=\"darkgrid\")\n",
    "ax = sns.countplot(x=\"Class\", data=train_df)"
   ]
  },
  {
   "cell_type": "code",
   "execution_count": 7,
   "metadata": {
    "execution": {
     "iopub.execute_input": "2021-01-28T09:44:40.609675Z",
     "iopub.status.busy": "2021-01-28T09:44:40.609099Z",
     "iopub.status.idle": "2021-01-28T09:44:40.707814Z",
     "shell.execute_reply": "2021-01-28T09:44:40.707188Z"
    },
    "papermill": {
     "duration": 0.12329,
     "end_time": "2021-01-28T09:44:40.707966",
     "exception": false,
     "start_time": "2021-01-28T09:44:40.584676",
     "status": "completed"
    },
    "tags": []
   },
   "outputs": [
    {
     "name": "stderr",
     "output_type": "stream",
     "text": [
      "100%|██████████| 3489/3489 [00:00<00:00, 1351489.35it/s]\n"
     ]
    },
    {
     "data": {
      "text/html": [
       "<div>\n",
       "<style scoped>\n",
       "    .dataframe tbody tr th:only-of-type {\n",
       "        vertical-align: middle;\n",
       "    }\n",
       "\n",
       "    .dataframe tbody tr th {\n",
       "        vertical-align: top;\n",
       "    }\n",
       "\n",
       "    .dataframe thead th {\n",
       "        text-align: right;\n",
       "    }\n",
       "</style>\n",
       "<table border=\"1\" class=\"dataframe\">\n",
       "  <thead>\n",
       "    <tr style=\"text-align: right;\">\n",
       "      <th></th>\n",
       "      <th>Image</th>\n",
       "      <th>Class</th>\n",
       "    </tr>\n",
       "  </thead>\n",
       "  <tbody>\n",
       "    <tr>\n",
       "      <th>0</th>\n",
       "      <td>image7761.jpg</td>\n",
       "      <td>0</td>\n",
       "    </tr>\n",
       "    <tr>\n",
       "      <th>1</th>\n",
       "      <td>image3202.jpg</td>\n",
       "      <td>0</td>\n",
       "    </tr>\n",
       "    <tr>\n",
       "      <th>2</th>\n",
       "      <td>image688.jpg</td>\n",
       "      <td>0</td>\n",
       "    </tr>\n",
       "    <tr>\n",
       "      <th>3</th>\n",
       "      <td>image233.jpg</td>\n",
       "      <td>0</td>\n",
       "    </tr>\n",
       "    <tr>\n",
       "      <th>4</th>\n",
       "      <td>image4332.jpg</td>\n",
       "      <td>0</td>\n",
       "    </tr>\n",
       "  </tbody>\n",
       "</table>\n",
       "</div>"
      ],
      "text/plain": [
       "           Image Class\n",
       "0  image7761.jpg     0\n",
       "1  image3202.jpg     0\n",
       "2   image688.jpg     0\n",
       "3   image233.jpg     0\n",
       "4  image4332.jpg     0"
      ]
     },
     "execution_count": 7,
     "metadata": {},
     "output_type": "execute_result"
    }
   ],
   "source": [
    "test_dir = \"../input/hackereath-holiday-season-deep-learning-contest/dataset/test\"\n",
    "test_files = []\n",
    "\n",
    "for file in tqdm(os.listdir(test_dir)):\n",
    "    test_files.append(file)\n",
    "\n",
    "test_df = pd.DataFrame(test_files, columns=['Image'])\n",
    "test_df['Class'] = '0'\n",
    "test_df.head()"
   ]
  },
  {
   "cell_type": "markdown",
   "metadata": {
    "papermill": {
     "duration": 0.02171,
     "end_time": "2021-01-28T09:44:40.751886",
     "exception": false,
     "start_time": "2021-01-28T09:44:40.730176",
     "status": "completed"
    },
    "tags": []
   },
   "source": [
    "## Calculate class-weights"
   ]
  },
  {
   "cell_type": "code",
   "execution_count": 8,
   "metadata": {
    "execution": {
     "iopub.execute_input": "2021-01-28T09:44:40.801406Z",
     "iopub.status.busy": "2021-01-28T09:44:40.800638Z",
     "iopub.status.idle": "2021-01-28T09:44:40.823287Z",
     "shell.execute_reply": "2021-01-28T09:44:40.822779Z"
    },
    "papermill": {
     "duration": 0.04979,
     "end_time": "2021-01-28T09:44:40.823392",
     "exception": false,
     "start_time": "2021-01-28T09:44:40.773602",
     "status": "completed"
    },
    "tags": []
   },
   "outputs": [
    {
     "data": {
      "text/plain": [
       "{0: 0.6747663551401869,\n",
       " 1: 0.6087689713322091,\n",
       " 2: 0.23456790123456786,\n",
       " 3: 0.5640625,\n",
       " 4: 0.12888254194930382,\n",
       " 5: 1.0}"
      ]
     },
     "execution_count": 8,
     "metadata": {},
     "output_type": "execute_result"
    }
   ],
   "source": [
    "temp_df = train_df.groupby(['Class_enc']).size().reset_index().rename(columns={0:'count'})\n",
    "total_count = np.sum(temp_df['count'].values)\n",
    "temp_df['class%'] = (temp_df['count'] / total_count) * 100\n",
    "lowest_pct = min(temp_df['class%'])\n",
    "temp_df['class_weight'] = lowest_pct / temp_df['class%']\n",
    "class_weight = temp_df[['Class_enc', 'class_weight']].to_dict()['class_weight']\n",
    "class_weight"
   ]
  },
  {
   "cell_type": "markdown",
   "metadata": {
    "papermill": {
     "duration": 0.021844,
     "end_time": "2021-01-28T09:44:40.867113",
     "exception": false,
     "start_time": "2021-01-28T09:44:40.845269",
     "status": "completed"
    },
    "tags": []
   },
   "source": [
    "## Split training data into train/validation datasets"
   ]
  },
  {
   "cell_type": "code",
   "execution_count": 9,
   "metadata": {
    "execution": {
     "iopub.execute_input": "2021-01-28T09:44:40.924315Z",
     "iopub.status.busy": "2021-01-28T09:44:40.923805Z",
     "iopub.status.idle": "2021-01-28T09:44:40.937120Z",
     "shell.execute_reply": "2021-01-28T09:44:40.936388Z"
    },
    "papermill": {
     "duration": 0.04736,
     "end_time": "2021-01-28T09:44:40.937310",
     "exception": false,
     "start_time": "2021-01-28T09:44:40.889950",
     "status": "completed"
    },
    "tags": []
   },
   "outputs": [
    {
     "name": "stdout",
     "output_type": "stream",
     "text": [
      "train_df shape: (5498, 3)\n",
      "validation_df shape: (971, 3)\n"
     ]
    }
   ],
   "source": [
    "sss = StratifiedShuffleSplit(n_splits=1, test_size=0.15, random_state=1)\n",
    "for train_index, validation_index in sss.split(train_df['Image'], train_df['Class_enc']):\n",
    "    train_df, validation_df = train_df.iloc[train_index], train_df.iloc[validation_index]\n",
    "\n",
    "print(\"train_df shape: {}\".format(train_df.shape))\n",
    "print(\"validation_df shape: {}\".format(validation_df.shape))"
   ]
  },
  {
   "cell_type": "code",
   "execution_count": 10,
   "metadata": {
    "execution": {
     "iopub.execute_input": "2021-01-28T09:44:40.987394Z",
     "iopub.status.busy": "2021-01-28T09:44:40.986574Z",
     "iopub.status.idle": "2021-01-28T09:44:40.998030Z",
     "shell.execute_reply": "2021-01-28T09:44:40.998511Z"
    },
    "papermill": {
     "duration": 0.038527,
     "end_time": "2021-01-28T09:44:40.998652",
     "exception": false,
     "start_time": "2021-01-28T09:44:40.960125",
     "status": "completed"
    },
    "tags": []
   },
   "outputs": [
    {
     "data": {
      "text/html": [
       "<div>\n",
       "<style scoped>\n",
       "    .dataframe tbody tr th:only-of-type {\n",
       "        vertical-align: middle;\n",
       "    }\n",
       "\n",
       "    .dataframe tbody tr th {\n",
       "        vertical-align: top;\n",
       "    }\n",
       "\n",
       "    .dataframe thead th {\n",
       "        text-align: right;\n",
       "    }\n",
       "</style>\n",
       "<table border=\"1\" class=\"dataframe\">\n",
       "  <thead>\n",
       "    <tr style=\"text-align: right;\">\n",
       "      <th></th>\n",
       "      <th>Class</th>\n",
       "      <th>Class_enc</th>\n",
       "      <th>Count</th>\n",
       "    </tr>\n",
       "  </thead>\n",
       "  <tbody>\n",
       "    <tr>\n",
       "      <th>0</th>\n",
       "      <td>Airplane</td>\n",
       "      <td>0</td>\n",
       "      <td>455</td>\n",
       "    </tr>\n",
       "    <tr>\n",
       "      <th>1</th>\n",
       "      <td>Candle</td>\n",
       "      <td>1</td>\n",
       "      <td>504</td>\n",
       "    </tr>\n",
       "    <tr>\n",
       "      <th>2</th>\n",
       "      <td>Christmas_Tree</td>\n",
       "      <td>2</td>\n",
       "      <td>1308</td>\n",
       "    </tr>\n",
       "    <tr>\n",
       "      <th>3</th>\n",
       "      <td>Jacket</td>\n",
       "      <td>3</td>\n",
       "      <td>544</td>\n",
       "    </tr>\n",
       "    <tr>\n",
       "      <th>4</th>\n",
       "      <td>Miscellaneous</td>\n",
       "      <td>4</td>\n",
       "      <td>2380</td>\n",
       "    </tr>\n",
       "    <tr>\n",
       "      <th>5</th>\n",
       "      <td>Snowman</td>\n",
       "      <td>5</td>\n",
       "      <td>307</td>\n",
       "    </tr>\n",
       "  </tbody>\n",
       "</table>\n",
       "</div>"
      ],
      "text/plain": [
       "            Class Class_enc  Count\n",
       "0        Airplane         0    455\n",
       "1          Candle         1    504\n",
       "2  Christmas_Tree         2   1308\n",
       "3          Jacket         3    544\n",
       "4   Miscellaneous         4   2380\n",
       "5         Snowman         5    307"
      ]
     },
     "execution_count": 10,
     "metadata": {},
     "output_type": "execute_result"
    }
   ],
   "source": [
    "train_df.groupby(['Class','Class_enc']).size().reset_index().rename(columns={0:'Count'})"
   ]
  },
  {
   "cell_type": "code",
   "execution_count": 11,
   "metadata": {
    "execution": {
     "iopub.execute_input": "2021-01-28T09:44:41.048875Z",
     "iopub.status.busy": "2021-01-28T09:44:41.048013Z",
     "iopub.status.idle": "2021-01-28T09:44:41.058526Z",
     "shell.execute_reply": "2021-01-28T09:44:41.058142Z"
    },
    "papermill": {
     "duration": 0.03754,
     "end_time": "2021-01-28T09:44:41.058648",
     "exception": false,
     "start_time": "2021-01-28T09:44:41.021108",
     "status": "completed"
    },
    "tags": []
   },
   "outputs": [
    {
     "data": {
      "text/html": [
       "<div>\n",
       "<style scoped>\n",
       "    .dataframe tbody tr th:only-of-type {\n",
       "        vertical-align: middle;\n",
       "    }\n",
       "\n",
       "    .dataframe tbody tr th {\n",
       "        vertical-align: top;\n",
       "    }\n",
       "\n",
       "    .dataframe thead th {\n",
       "        text-align: right;\n",
       "    }\n",
       "</style>\n",
       "<table border=\"1\" class=\"dataframe\">\n",
       "  <thead>\n",
       "    <tr style=\"text-align: right;\">\n",
       "      <th></th>\n",
       "      <th>Class</th>\n",
       "      <th>Class_enc</th>\n",
       "      <th>Count</th>\n",
       "    </tr>\n",
       "  </thead>\n",
       "  <tbody>\n",
       "    <tr>\n",
       "      <th>0</th>\n",
       "      <td>Airplane</td>\n",
       "      <td>0</td>\n",
       "      <td>80</td>\n",
       "    </tr>\n",
       "    <tr>\n",
       "      <th>1</th>\n",
       "      <td>Candle</td>\n",
       "      <td>1</td>\n",
       "      <td>89</td>\n",
       "    </tr>\n",
       "    <tr>\n",
       "      <th>2</th>\n",
       "      <td>Christmas_Tree</td>\n",
       "      <td>2</td>\n",
       "      <td>231</td>\n",
       "    </tr>\n",
       "    <tr>\n",
       "      <th>3</th>\n",
       "      <td>Jacket</td>\n",
       "      <td>3</td>\n",
       "      <td>96</td>\n",
       "    </tr>\n",
       "    <tr>\n",
       "      <th>4</th>\n",
       "      <td>Miscellaneous</td>\n",
       "      <td>4</td>\n",
       "      <td>421</td>\n",
       "    </tr>\n",
       "    <tr>\n",
       "      <th>5</th>\n",
       "      <td>Snowman</td>\n",
       "      <td>5</td>\n",
       "      <td>54</td>\n",
       "    </tr>\n",
       "  </tbody>\n",
       "</table>\n",
       "</div>"
      ],
      "text/plain": [
       "            Class Class_enc  Count\n",
       "0        Airplane         0     80\n",
       "1          Candle         1     89\n",
       "2  Christmas_Tree         2    231\n",
       "3          Jacket         3     96\n",
       "4   Miscellaneous         4    421\n",
       "5         Snowman         5     54"
      ]
     },
     "execution_count": 11,
     "metadata": {},
     "output_type": "execute_result"
    }
   ],
   "source": [
    "validation_df.groupby(['Class','Class_enc']).size().reset_index().rename(columns={0:'Count'})"
   ]
  },
  {
   "cell_type": "markdown",
   "metadata": {
    "papermill": {
     "duration": 0.022775,
     "end_time": "2021-01-28T09:44:41.104311",
     "exception": false,
     "start_time": "2021-01-28T09:44:41.081536",
     "status": "completed"
    },
    "tags": []
   },
   "source": [
    "## Model Hyperparameters"
   ]
  },
  {
   "cell_type": "code",
   "execution_count": 12,
   "metadata": {
    "execution": {
     "iopub.execute_input": "2021-01-28T09:44:41.156200Z",
     "iopub.status.busy": "2021-01-28T09:44:41.155656Z",
     "iopub.status.idle": "2021-01-28T09:44:41.158512Z",
     "shell.execute_reply": "2021-01-28T09:44:41.158091Z"
    },
    "papermill": {
     "duration": 0.031078,
     "end_time": "2021-01-28T09:44:41.158642",
     "exception": false,
     "start_time": "2021-01-28T09:44:41.127564",
     "status": "completed"
    },
    "tags": []
   },
   "outputs": [],
   "source": [
    "dataset_dir = \"../input/hackereath-holiday-season-deep-learning-contest/dataset/\"\n",
    "mini_batch_size = 128\n",
    "steps_per_epoch = int(np.ceil(train_df.shape[0] / float(mini_batch_size)))\n",
    "validation_steps = int(np.ceil(validation_df.shape[0] / float(mini_batch_size)))\n",
    "test_steps = int(np.ceil(test_df.shape[0] / float(mini_batch_size)))\n",
    "image_dim = (240, 240, 3)"
   ]
  },
  {
   "cell_type": "markdown",
   "metadata": {
    "papermill": {
     "duration": 0.022808,
     "end_time": "2021-01-28T09:44:41.204684",
     "exception": false,
     "start_time": "2021-01-28T09:44:41.181876",
     "status": "completed"
    },
    "tags": []
   },
   "source": [
    "## Configure image generators"
   ]
  },
  {
   "cell_type": "code",
   "execution_count": 13,
   "metadata": {
    "execution": {
     "iopub.execute_input": "2021-01-28T09:44:41.273551Z",
     "iopub.status.busy": "2021-01-28T09:44:41.272969Z",
     "iopub.status.idle": "2021-01-28T09:44:46.540675Z",
     "shell.execute_reply": "2021-01-28T09:44:46.541735Z"
    },
    "papermill": {
     "duration": 5.314391,
     "end_time": "2021-01-28T09:44:46.541946",
     "exception": false,
     "start_time": "2021-01-28T09:44:41.227555",
     "status": "completed"
    },
    "tags": []
   },
   "outputs": [
    {
     "name": "stdout",
     "output_type": "stream",
     "text": [
      "Found 5498 validated image filenames belonging to 6 classes.\n",
      "Found 971 validated image filenames belonging to 6 classes.\n",
      "Found 3489 validated image filenames belonging to 1 classes.\n"
     ]
    }
   ],
   "source": [
    "train_datagen = ImageDataGenerator(rotation_range = 30,\n",
    "                                   zoom_range = 0.2,\n",
    "                                   horizontal_flip = True,\n",
    "                                   fill_mode = 'nearest',\n",
    "                                   height_shift_range = 0.1,\n",
    "                                   width_shift_range = 0.1)\n",
    "\n",
    "train_generator = train_datagen.flow_from_dataframe(train_df,\n",
    "                                                    directory = os.path.join(dataset_dir,\"train\"),\n",
    "                                                    x_col = \"Image\", \n",
    "                                                    y_col = \"Class_enc\",\n",
    "                                                    target_size = (image_dim[0], image_dim[1]),\n",
    "                                                    batch_size = mini_batch_size,\n",
    "                                                    class_mode = \"categorical\",\n",
    "                                                    interpolation=\"bicubic\")\n",
    "\n",
    "validation_datagen = ImageDataGenerator()\n",
    "\n",
    "validation_generator = validation_datagen.flow_from_dataframe(validation_df,\n",
    "                                                              directory = os.path.join(dataset_dir,\"train\"),\n",
    "                                                              x_col = \"Image\",\n",
    "                                                              y_col = \"Class_enc\",\n",
    "                                                              shuffle=False,\n",
    "                                                              target_size = (image_dim[0], image_dim[1]),\n",
    "                                                              batch_size = mini_batch_size,\n",
    "                                                              class_mode = \"categorical\",\n",
    "                                                              interpolation=\"bicubic\")\n",
    "\n",
    "test_datagen = ImageDataGenerator()\n",
    "\n",
    "test_generator = test_datagen.flow_from_dataframe(test_df,\n",
    "                                                  directory = os.path.join(dataset_dir,\"test\"),\n",
    "                                                  x_col = \"Image\",\n",
    "                                                  y_col = \"Class\",\n",
    "                                                  shuffle=False,\n",
    "                                                  target_size = (image_dim[0], image_dim[1]),\n",
    "                                                  batch_size = mini_batch_size,\n",
    "                                                  class_mode = \"categorical\",\n",
    "                                                  interpolation=\"bicubic\")"
   ]
  },
  {
   "cell_type": "markdown",
   "metadata": {
    "papermill": {
     "duration": 0.023653,
     "end_time": "2021-01-28T09:44:46.590441",
     "exception": false,
     "start_time": "2021-01-28T09:44:46.566788",
     "status": "completed"
    },
    "tags": []
   },
   "source": [
    "## Build and validate the model"
   ]
  },
  {
   "cell_type": "code",
   "execution_count": 14,
   "metadata": {
    "execution": {
     "iopub.execute_input": "2021-01-28T09:44:46.659186Z",
     "iopub.status.busy": "2021-01-28T09:44:46.645937Z",
     "iopub.status.idle": "2021-01-28T09:44:46.661812Z",
     "shell.execute_reply": "2021-01-28T09:44:46.661333Z"
    },
    "papermill": {
     "duration": 0.047797,
     "end_time": "2021-01-28T09:44:46.661921",
     "exception": false,
     "start_time": "2021-01-28T09:44:46.614124",
     "status": "completed"
    },
    "tags": []
   },
   "outputs": [],
   "source": [
    "def head(x_input, input_shape=1536, ratio=8):\n",
    "    \n",
    "    #=======================================================\n",
    "    #                    Channel Attention\n",
    "    #=======================================================\n",
    "    gapavg = GlobalAveragePooling2D()(x_input)\n",
    "    gapavg = Reshape((1, 1, gapavg.shape[1]))(gapavg)\n",
    "    gapavg = Conv2D(input_shape//ratio, \n",
    "                    kernel_size=1, strides=1, use_bias=True, \n",
    "                    padding='same', kernel_regularizer=l2(0.001), \n",
    "                    kernel_initializer='he_normal')(gapavg)\n",
    "    gapavg = BatchNormalization()(gapavg)\n",
    "    gapavg = Activation('relu')(gapavg)\n",
    "    gapavg_out = Conv2D(input_shape, kernel_size=1, \n",
    "                        strides=1, padding='same', use_bias=True, \n",
    "                        kernel_regularizer=l2(0.001), \n",
    "                        kernel_initializer='he_normal')(gapavg)\n",
    "    gapavg_out = BatchNormalization()(gapavg_out)\n",
    "    gapavg_out = Activation('relu')(gapavg_out)\n",
    "\n",
    "\n",
    "    gmpmax = GlobalMaxPooling2D()(x_input)\n",
    "    gmpmax = Reshape((1, 1, gmpmax.shape[1]))(gmpmax)\n",
    "    gmpmax = Conv2D(input_shape//ratio, \n",
    "                    kernel_size=1, strides=1, use_bias=True, \n",
    "                    padding='same', kernel_regularizer=l2(0.001), \n",
    "                    kernel_initializer='he_normal')(gmpmax)\n",
    "    gmpmax = BatchNormalization()(gmpmax)\n",
    "    gmpmax = Activation('relu')(gmpmax)\n",
    "    gmpmax_out = Conv2D(input_shape, kernel_size=1, \n",
    "                        strides=1, padding='same', use_bias=True, \n",
    "                        kernel_regularizer=l2(0.001), \n",
    "                        kernel_initializer='he_normal')(gmpmax)\n",
    "    gmpmax_out = BatchNormalization()(gmpmax_out)\n",
    "    gmpmax_out = Activation('relu')(gmpmax_out)\n",
    "    canx = x_input * tf.math.sigmoid(gapavg_out + gmpmax_out)\n",
    "\n",
    "\n",
    "    #=======================================================\n",
    "    #                    Spatial Attention\n",
    "    #=======================================================\n",
    "    avg_out = tf.reduce_mean(canx, axis=3)\n",
    "    max_out = tf.reduce_max(canx,  axis=3)\n",
    "    x = tf.stack([avg_out, max_out], axis=3)\n",
    "    \n",
    "    x = Conv2D(filters=64, kernel_size=3, strides=1, \n",
    "               padding='same', use_bias=False, \n",
    "               kernel_regularizer=l2(0.001), \n",
    "               kernel_initializer='he_normal')(x)\n",
    "    x = BatchNormalization()(x)\n",
    "    x = Activation('relu')(x)\n",
    "\n",
    "    x = Conv2D(filters=32, kernel_size=3, strides=1, \n",
    "               padding='same', use_bias=False, \n",
    "               kernel_regularizer=l2(0.001), \n",
    "               kernel_initializer='he_normal')(x)\n",
    "    x = BatchNormalization()(x)\n",
    "    x = Activation('relu')(x)\n",
    "\n",
    "    x = Conv2D(filters=16, kernel_size=3, strides=1, \n",
    "               padding='same', use_bias=False, \n",
    "               kernel_regularizer=l2(0.001), \n",
    "               kernel_initializer='he_normal')(x)\n",
    "    x = BatchNormalization()(x)\n",
    "    x = Activation('relu')(x)\n",
    "\n",
    "    x = Conv2D(filters=1, kernel_size=3, strides=1, \n",
    "               padding='same', use_bias=False, \n",
    "               kernel_regularizer=l2(0.001), \n",
    "               kernel_initializer='he_normal')(x)\n",
    "    x = BatchNormalization()(x)\n",
    "    x = Activation('sigmoid')(x)\n",
    "    spnx1 = canx * x\n",
    "    spnx2 = x\n",
    "    \n",
    "    gapx   = GlobalAveragePooling2D()(spnx1)\n",
    "    wvgx   = GlobalAveragePooling2D()(spnx2)\n",
    "    gapavg = Average()([gapx, wvgx])\n",
    "    x = BatchNormalization()(gapavg)\n",
    "\n",
    "\n",
    "    #=======================================================\n",
    "    #                    Tail of the model\n",
    "    #=======================================================\n",
    "\n",
    "    x = Dense(units=2048, kernel_regularizer=l2(0.0001), \n",
    "              kernel_initializer='he_uniform')(x)\n",
    "    x = BatchNormalization()(x)\n",
    "    x = Activation('relu')(x)\n",
    "    x = Dropout(rate=0.5)(x)\n",
    "    \n",
    "    x = Dense(units=1024, kernel_regularizer=l2(0.0001), \n",
    "              kernel_initializer='he_uniform')(x)\n",
    "    x = BatchNormalization()(x)\n",
    "    x = Activation('relu')(x)\n",
    "    x = Dropout(rate=0.5)(x)\n",
    "    \n",
    "    x = Dense(units=1024, kernel_regularizer=l2(0.0001), \n",
    "              kernel_initializer='he_uniform')(x)\n",
    "    x = BatchNormalization()(x)\n",
    "    x = Activation('relu')(x)\n",
    "    x = Dropout(rate=0.5)(x)\n",
    "    \n",
    "    x = Dense(units=512, kernel_regularizer=l2(0.0001), \n",
    "              kernel_initializer='he_uniform')(x)\n",
    "    x = BatchNormalization()(x)\n",
    "    x = Activation('relu')(x)\n",
    "    x = Dropout(rate=0.5)(x)\n",
    "    \n",
    "    x = Dense(units=6, activation='softmax', \n",
    "              kernel_initializer='he_uniform')(x)\n",
    "\n",
    "    return x"
   ]
  },
  {
   "cell_type": "code",
   "execution_count": 15,
   "metadata": {
    "execution": {
     "iopub.execute_input": "2021-01-28T09:44:46.718132Z",
     "iopub.status.busy": "2021-01-28T09:44:46.717557Z",
     "iopub.status.idle": "2021-01-28T09:44:59.291375Z",
     "shell.execute_reply": "2021-01-28T09:44:59.290923Z"
    },
    "papermill": {
     "duration": 12.605802,
     "end_time": "2021-01-28T09:44:59.291502",
     "exception": false,
     "start_time": "2021-01-28T09:44:46.685700",
     "status": "completed"
    },
    "tags": []
   },
   "outputs": [
    {
     "name": "stdout",
     "output_type": "stream",
     "text": [
      "Downloading data from https://storage.googleapis.com/keras-applications/efficientnetb3_notop.h5\n",
      "43941888/43941136 [==============================] - 0s 0us/step\n"
     ]
    }
   ],
   "source": [
    "# Build the model\n",
    "base_model = EfficientNetB3(weights='imagenet', \n",
    "                            input_tensor=Input(shape=image_dim), \n",
    "                            include_top=False)\n",
    "\n",
    "model = Model(base_model.input, head(base_model.output),\n",
    "              name='HackerEarth_Holiday_Season_Model')\n",
    "\n",
    "# Load the pre-trained model\n",
    "pretrain_model = load_model('../input/holiday-season-enetb3-mav2/hackerearth_holiday_season_model.h5')\n",
    "\n",
    "# Transfer weights from pre-trained model\n",
    "model.set_weights(pretrain_model.get_weights())\n",
    "\n",
    "# Freeze weights for base model\n",
    "base_model.trainable = False\n",
    "for layer in base_model.layers[-31:]:\n",
    "    if not isinstance(layer, BatchNormalization):\n",
    "        layer.trainable = True\n",
    "\n",
    "# Compile the final model\n",
    "model.compile(loss='categorical_crossentropy', \n",
    "              metrics=[F1Score(num_classes=6, average='weighted'), \n",
    "                       'categorical_accuracy'],\n",
    "              optimizer=Lookahead(AdamW(lr=1e-3, \n",
    "                                        weight_decay=1e-5, \n",
    "                                        clipvalue=700), \n",
    "                                  sync_period=10))\n",
    "\n",
    "early = EarlyStopping(monitor=\"val_loss\", mode=\"min\", patience=10, \n",
    "                      restore_best_weights=True, verbose=1)\n",
    "\n",
    "reduce_lr = ReduceLROnPlateau(monitor=\"val_loss\", factor=0.1, \n",
    "                              min_lr=1e-6, patience=7, \n",
    "                              verbose=1, mode='min')\n",
    "\n",
    "chk_point = ModelCheckpoint('hackerearth_holiday_season_model.h5', \n",
    "                            monitor='val_loss', verbose=1, \n",
    "                            save_best_only=True, mode='min')"
   ]
  },
  {
   "cell_type": "code",
   "execution_count": 16,
   "metadata": {
    "execution": {
     "iopub.execute_input": "2021-01-28T09:44:59.351836Z",
     "iopub.status.busy": "2021-01-28T09:44:59.351224Z",
     "iopub.status.idle": "2021-01-28T10:18:02.322525Z",
     "shell.execute_reply": "2021-01-28T10:18:02.321634Z"
    },
    "papermill": {
     "duration": 1983.00438,
     "end_time": "2021-01-28T10:18:02.322834",
     "exception": false,
     "start_time": "2021-01-28T09:44:59.318454",
     "status": "completed"
    },
    "tags": []
   },
   "outputs": [
    {
     "name": "stdout",
     "output_type": "stream",
     "text": [
      "Epoch 1/275\n",
      "43/43 [==============================] - 112s 2s/step - loss: 0.1130 - f1_score: 0.9036 - categorical_accuracy: 0.9027 - val_loss: 0.3955 - val_f1_score: 0.9085 - val_categorical_accuracy: 0.9083\n",
      "\n",
      "Epoch 00001: val_loss improved from inf to 0.39547, saving model to hackerearth_holiday_season_model.h5\n",
      "Epoch 2/275\n",
      "43/43 [==============================] - 75s 2s/step - loss: 0.0935 - f1_score: 0.9218 - categorical_accuracy: 0.9213 - val_loss: 0.3182 - val_f1_score: 0.9168 - val_categorical_accuracy: 0.9166\n",
      "\n",
      "Epoch 00002: val_loss improved from 0.39547 to 0.31823, saving model to hackerearth_holiday_season_model.h5\n",
      "Epoch 3/275\n",
      "43/43 [==============================] - 82s 2s/step - loss: 0.0924 - f1_score: 0.9319 - categorical_accuracy: 0.9310 - val_loss: 0.3268 - val_f1_score: 0.9214 - val_categorical_accuracy: 0.9217\n",
      "\n",
      "Epoch 00003: val_loss did not improve from 0.31823\n",
      "Epoch 4/275\n",
      "43/43 [==============================] - 79s 2s/step - loss: 0.0742 - f1_score: 0.9402 - categorical_accuracy: 0.9399 - val_loss: 0.3091 - val_f1_score: 0.9213 - val_categorical_accuracy: 0.9217\n",
      "\n",
      "Epoch 00004: val_loss improved from 0.31823 to 0.30912, saving model to hackerearth_holiday_season_model.h5\n",
      "Epoch 5/275\n",
      "43/43 [==============================] - 82s 2s/step - loss: 0.0786 - f1_score: 0.9395 - categorical_accuracy: 0.9394 - val_loss: 0.3229 - val_f1_score: 0.9163 - val_categorical_accuracy: 0.9166\n",
      "\n",
      "Epoch 00005: val_loss did not improve from 0.30912\n",
      "Epoch 6/275\n",
      "43/43 [==============================] - 79s 2s/step - loss: 0.0864 - f1_score: 0.9341 - categorical_accuracy: 0.9336 - val_loss: 0.3986 - val_f1_score: 0.8964 - val_categorical_accuracy: 0.8929\n",
      "\n",
      "Epoch 00006: val_loss did not improve from 0.30912\n",
      "Epoch 7/275\n",
      "43/43 [==============================] - 80s 2s/step - loss: 0.0840 - f1_score: 0.9403 - categorical_accuracy: 0.9397 - val_loss: 0.3023 - val_f1_score: 0.9259 - val_categorical_accuracy: 0.9258\n",
      "\n",
      "Epoch 00007: val_loss improved from 0.30912 to 0.30235, saving model to hackerearth_holiday_season_model.h5\n",
      "Epoch 8/275\n",
      "43/43 [==============================] - 82s 2s/step - loss: 0.0704 - f1_score: 0.9450 - categorical_accuracy: 0.9446 - val_loss: 0.3061 - val_f1_score: 0.9207 - val_categorical_accuracy: 0.9207\n",
      "\n",
      "Epoch 00008: val_loss did not improve from 0.30235\n",
      "Epoch 9/275\n",
      "43/43 [==============================] - 80s 2s/step - loss: 0.0755 - f1_score: 0.9424 - categorical_accuracy: 0.9421 - val_loss: 0.3483 - val_f1_score: 0.9094 - val_categorical_accuracy: 0.9094\n",
      "\n",
      "Epoch 00009: val_loss did not improve from 0.30235\n",
      "Epoch 10/275\n",
      "43/43 [==============================] - 79s 2s/step - loss: 0.0684 - f1_score: 0.9479 - categorical_accuracy: 0.9478 - val_loss: 0.3176 - val_f1_score: 0.9221 - val_categorical_accuracy: 0.9217\n",
      "\n",
      "Epoch 00010: val_loss did not improve from 0.30235\n",
      "Epoch 11/275\n",
      "43/43 [==============================] - 80s 2s/step - loss: 0.0611 - f1_score: 0.9534 - categorical_accuracy: 0.9528 - val_loss: 0.3113 - val_f1_score: 0.9177 - val_categorical_accuracy: 0.9176\n",
      "\n",
      "Epoch 00011: val_loss did not improve from 0.30235\n",
      "Epoch 12/275\n",
      "43/43 [==============================] - 78s 2s/step - loss: 0.0732 - f1_score: 0.9470 - categorical_accuracy: 0.9467 - val_loss: 0.2972 - val_f1_score: 0.9190 - val_categorical_accuracy: 0.9186\n",
      "\n",
      "Epoch 00012: val_loss improved from 0.30235 to 0.29718, saving model to hackerearth_holiday_season_model.h5\n",
      "Epoch 13/275\n",
      "43/43 [==============================] - 77s 2s/step - loss: 0.0643 - f1_score: 0.9557 - categorical_accuracy: 0.9554 - val_loss: 0.3422 - val_f1_score: 0.9108 - val_categorical_accuracy: 0.9104\n",
      "\n",
      "Epoch 00013: val_loss did not improve from 0.29718\n",
      "Epoch 14/275\n",
      "43/43 [==============================] - 81s 2s/step - loss: 0.0617 - f1_score: 0.9575 - categorical_accuracy: 0.9573 - val_loss: 0.2884 - val_f1_score: 0.9219 - val_categorical_accuracy: 0.9217\n",
      "\n",
      "Epoch 00014: val_loss improved from 0.29718 to 0.28841, saving model to hackerearth_holiday_season_model.h5\n",
      "Epoch 15/275\n",
      "43/43 [==============================] - 83s 2s/step - loss: 0.0568 - f1_score: 0.9614 - categorical_accuracy: 0.9612 - val_loss: 0.3311 - val_f1_score: 0.9142 - val_categorical_accuracy: 0.9135\n",
      "\n",
      "Epoch 00015: val_loss did not improve from 0.28841\n",
      "Epoch 16/275\n",
      "43/43 [==============================] - 79s 2s/step - loss: 0.0555 - f1_score: 0.9600 - categorical_accuracy: 0.9599 - val_loss: 0.3771 - val_f1_score: 0.9000 - val_categorical_accuracy: 0.9001\n",
      "\n",
      "Epoch 00016: val_loss did not improve from 0.28841\n",
      "Epoch 17/275\n",
      "43/43 [==============================] - 79s 2s/step - loss: 0.0531 - f1_score: 0.9645 - categorical_accuracy: 0.9644 - val_loss: 0.3181 - val_f1_score: 0.9123 - val_categorical_accuracy: 0.9125\n",
      "\n",
      "Epoch 00017: val_loss did not improve from 0.28841\n",
      "Epoch 18/275\n",
      "43/43 [==============================] - 78s 2s/step - loss: 0.0566 - f1_score: 0.9581 - categorical_accuracy: 0.9577 - val_loss: 0.3161 - val_f1_score: 0.9167 - val_categorical_accuracy: 0.9166\n",
      "\n",
      "Epoch 00018: val_loss did not improve from 0.28841\n",
      "Epoch 19/275\n",
      "43/43 [==============================] - 79s 2s/step - loss: 0.0606 - f1_score: 0.9603 - categorical_accuracy: 0.9596 - val_loss: 0.3197 - val_f1_score: 0.9203 - val_categorical_accuracy: 0.9197\n",
      "\n",
      "Epoch 00019: val_loss did not improve from 0.28841\n",
      "Epoch 20/275\n",
      "43/43 [==============================] - 79s 2s/step - loss: 0.0615 - f1_score: 0.9537 - categorical_accuracy: 0.9534 - val_loss: 0.3311 - val_f1_score: 0.9210 - val_categorical_accuracy: 0.9207\n",
      "\n",
      "Epoch 00020: val_loss did not improve from 0.28841\n",
      "Epoch 21/275\n",
      "43/43 [==============================] - 79s 2s/step - loss: 0.0532 - f1_score: 0.9627 - categorical_accuracy: 0.9624 - val_loss: 0.3069 - val_f1_score: 0.9156 - val_categorical_accuracy: 0.9156\n",
      "\n",
      "Epoch 00021: ReduceLROnPlateau reducing learning rate to 0.00010000000474974513.\n",
      "\n",
      "Epoch 00021: val_loss did not improve from 0.28841\n",
      "Epoch 22/275\n",
      "43/43 [==============================] - 81s 2s/step - loss: 0.0456 - f1_score: 0.9667 - categorical_accuracy: 0.9664 - val_loss: 0.3154 - val_f1_score: 0.9177 - val_categorical_accuracy: 0.9176\n",
      "\n",
      "Epoch 00022: val_loss did not improve from 0.28841\n",
      "Epoch 23/275\n",
      "43/43 [==============================] - 83s 2s/step - loss: 0.0430 - f1_score: 0.9745 - categorical_accuracy: 0.9745 - val_loss: 0.3170 - val_f1_score: 0.9156 - val_categorical_accuracy: 0.9156\n",
      "\n",
      "Epoch 00023: val_loss did not improve from 0.28841\n",
      "Epoch 24/275\n",
      "43/43 [==============================] - 81s 2s/step - loss: 0.0462 - f1_score: 0.9740 - categorical_accuracy: 0.9739 - val_loss: 0.3254 - val_f1_score: 0.9196 - val_categorical_accuracy: 0.9197\n",
      "Restoring model weights from the end of the best epoch.\n",
      "\n",
      "Epoch 00024: val_loss did not improve from 0.28841\n",
      "Epoch 00024: early stopping\n"
     ]
    }
   ],
   "source": [
    "history = model.fit(\n",
    "    train_generator, \n",
    "    steps_per_epoch=steps_per_epoch,\n",
    "    class_weight=class_weight, \n",
    "    epochs=275, \n",
    "    verbose=1, \n",
    "    workers=5,\n",
    "    callbacks=[reduce_lr, early, chk_point], \n",
    "    validation_data=validation_generator,\n",
    "    validation_steps=validation_steps\n",
    ")"
   ]
  },
  {
   "cell_type": "code",
   "execution_count": 17,
   "metadata": {
    "execution": {
     "iopub.execute_input": "2021-01-28T10:18:05.537749Z",
     "iopub.status.busy": "2021-01-28T10:18:05.536909Z",
     "iopub.status.idle": "2021-01-28T10:18:08.492027Z",
     "shell.execute_reply": "2021-01-28T10:18:08.489650Z"
    },
    "papermill": {
     "duration": 4.369616,
     "end_time": "2021-01-28T10:18:08.492214",
     "exception": false,
     "start_time": "2021-01-28T10:18:04.122598",
     "status": "completed"
    },
    "tags": []
   },
   "outputs": [
    {
     "data": {
      "image/png": "[encoded data removed]",
      "text/plain": [
       "<Figure size 2160x720 with 3 Axes>"
      ]
     },
     "metadata": {},
     "output_type": "display_data"
    }
   ],
   "source": [
    "_, ax = plt.subplots(1, 3, figsize=(30, 10))\n",
    "\n",
    "ax[0].plot(history.history['loss'], label='train_loss')\n",
    "ax[0].plot(history.history['val_loss'], label='val_loss')\n",
    "ax[0].set_ylabel('Loss')\n",
    "ax[0].set_xlabel('Epoch')\n",
    "ax[0].set_title(\"Model Loss Curve\")\n",
    "ax[0].legend()\n",
    "ax[0].grid()\n",
    "\n",
    "ax[1].plot(history.history['f1_score'], label='train_f1_score')\n",
    "ax[1].plot(history.history['val_f1_score'], label='val_f1_score')\n",
    "ax[1].set_ylabel('F1-Score')\n",
    "ax[1].set_xlabel('Epoch')\n",
    "ax[1].set_title(\"Model F1-Score Curve\")\n",
    "ax[1].legend()\n",
    "ax[1].grid()\n",
    "\n",
    "ax[2].plot(history.history['categorical_accuracy'], label='train_accuracy')\n",
    "ax[2].plot(history.history['val_categorical_accuracy'], label='val_accuracy')\n",
    "ax[2].set_ylabel('Accuracy')\n",
    "ax[2].set_xlabel('Epoch')\n",
    "ax[2].set_title(\"Model Accuracy Curve\")\n",
    "ax[2].legend()\n",
    "ax[2].grid()"
   ]
  },
  {
   "cell_type": "markdown",
   "metadata": {
    "papermill": {
     "duration": 2.364202,
     "end_time": "2021-01-28T10:18:12.236674",
     "exception": false,
     "start_time": "2021-01-28T10:18:09.872472",
     "status": "completed"
    },
    "tags": []
   },
   "source": [
    "## Check classification report"
   ]
  },
  {
   "cell_type": "code",
   "execution_count": 18,
   "metadata": {
    "execution": {
     "iopub.execute_input": "2021-01-28T10:18:15.150616Z",
     "iopub.status.busy": "2021-01-28T10:18:15.149868Z",
     "iopub.status.idle": "2021-01-28T10:18:19.123094Z",
     "shell.execute_reply": "2021-01-28T10:18:19.122480Z"
    },
    "papermill": {
     "duration": 5.109154,
     "end_time": "2021-01-28T10:18:19.123232",
     "exception": false,
     "start_time": "2021-01-28T10:18:14.014078",
     "status": "completed"
    },
    "tags": []
   },
   "outputs": [],
   "source": [
    "model = load_model('./hackerearth_holiday_season_model.h5')"
   ]
  },
  {
   "cell_type": "code",
   "execution_count": 19,
   "metadata": {
    "execution": {
     "iopub.execute_input": "2021-01-28T10:18:19.749644Z",
     "iopub.status.busy": "2021-01-28T10:18:19.749094Z",
     "iopub.status.idle": "2021-01-28T10:18:26.306546Z",
     "shell.execute_reply": "2021-01-28T10:18:26.305374Z"
    },
    "papermill": {
     "duration": 6.873972,
     "end_time": "2021-01-28T10:18:26.306707",
     "exception": false,
     "start_time": "2021-01-28T10:18:19.432735",
     "status": "completed"
    },
    "tags": []
   },
   "outputs": [
    {
     "name": "stdout",
     "output_type": "stream",
     "text": [
      "8/8 [==============================] - 6s 474ms/step\n",
      "\n",
      "y_true: (971,)\n",
      "y_pred: (971,)\n"
     ]
    }
   ],
   "source": [
    "y_true = np.array([validation_generator.classes]).ravel()\n",
    "y_pred = model.predict(validation_generator, verbose=1)\n",
    "y_pred = np.argmax(y_pred, axis=1)\n",
    "\n",
    "print(\"\\ny_true: {}\".format(y_true.shape))\n",
    "print(\"y_pred: {}\".format(y_pred.shape))"
   ]
  },
  {
   "cell_type": "code",
   "execution_count": 20,
   "metadata": {
    "execution": {
     "iopub.execute_input": "2021-01-28T10:18:26.974898Z",
     "iopub.status.busy": "2021-01-28T10:18:26.974047Z",
     "iopub.status.idle": "2021-01-28T10:18:26.982711Z",
     "shell.execute_reply": "2021-01-28T10:18:26.983112Z"
    },
    "papermill": {
     "duration": 0.349613,
     "end_time": "2021-01-28T10:18:26.983257",
     "exception": false,
     "start_time": "2021-01-28T10:18:26.633644",
     "status": "completed"
    },
    "tags": []
   },
   "outputs": [
    {
     "name": "stdout",
     "output_type": "stream",
     "text": [
      "              precision    recall  f1-score   support\n",
      "\n",
      "           0       0.86      0.94      0.90        80\n",
      "           1       0.89      0.87      0.88        89\n",
      "           2       0.95      0.94      0.94       231\n",
      "           3       0.93      0.93      0.93        96\n",
      "           4       0.94      0.93      0.93       421\n",
      "           5       0.82      0.85      0.84        54\n",
      "\n",
      "    accuracy                           0.92       971\n",
      "   macro avg       0.90      0.91      0.90       971\n",
      "weighted avg       0.92      0.92      0.92       971\n",
      "\n"
     ]
    }
   ],
   "source": [
    "print(classification_report(y_true, y_pred))"
   ]
  },
  {
   "cell_type": "code",
   "execution_count": 21,
   "metadata": {
    "execution": {
     "iopub.execute_input": "2021-01-28T10:18:27.662474Z",
     "iopub.status.busy": "2021-01-28T10:18:27.660279Z",
     "iopub.status.idle": "2021-01-28T10:18:28.128673Z",
     "shell.execute_reply": "2021-01-28T10:18:28.129283Z"
    },
    "papermill": {
     "duration": 0.795791,
     "end_time": "2021-01-28T10:18:28.129456",
     "exception": false,
     "start_time": "2021-01-28T10:18:27.333665",
     "status": "completed"
    },
    "tags": []
   },
   "outputs": [
    {
     "data": {
      "image/png": "[encoded data removed]",
      "text/plain": [
       "<Figure size 864x504 with 2 Axes>"
      ]
     },
     "metadata": {},
     "output_type": "display_data"
    }
   ],
   "source": [
    "cnf_matrix = confusion_matrix(y_true, y_pred, labels=[0, 1, 2, 3, 4, 5])\n",
    "np.set_printoptions(precision=2)\n",
    "plt.figure(figsize=(12,7))\n",
    "plot_confusion_matrix(cnf_matrix, classes=[0, 1, 2, 3, 4, 5])"
   ]
  },
  {
   "cell_type": "markdown",
   "metadata": {
    "papermill": {
     "duration": 0.319407,
     "end_time": "2021-01-28T10:18:28.777636",
     "exception": false,
     "start_time": "2021-01-28T10:18:28.458229",
     "status": "completed"
    },
    "tags": []
   },
   "source": [
    "## Create submission file"
   ]
  },
  {
   "cell_type": "code",
   "execution_count": 22,
   "metadata": {
    "execution": {
     "iopub.execute_input": "2021-01-28T10:18:29.414626Z",
     "iopub.status.busy": "2021-01-28T10:18:29.414051Z",
     "iopub.status.idle": "2021-01-28T10:18:29.418122Z",
     "shell.execute_reply": "2021-01-28T10:18:29.417620Z"
    },
    "papermill": {
     "duration": 0.320762,
     "end_time": "2021-01-28T10:18:29.418250",
     "exception": false,
     "start_time": "2021-01-28T10:18:29.097488",
     "status": "completed"
    },
    "tags": []
   },
   "outputs": [],
   "source": [
    "rev_class_map = {\n",
    "    0: 'Airplane',\n",
    "    1: 'Candle',\n",
    "    2: 'Christmas_Tree',\n",
    "    3: 'Jacket',\n",
    "    4: 'Miscellaneous',\n",
    "    5: 'Snowman'\n",
    "}"
   ]
  },
  {
   "cell_type": "code",
   "execution_count": 23,
   "metadata": {
    "execution": {
     "iopub.execute_input": "2021-01-28T10:18:30.058079Z",
     "iopub.status.busy": "2021-01-28T10:18:30.057318Z",
     "iopub.status.idle": "2021-01-28T10:18:54.765461Z",
     "shell.execute_reply": "2021-01-28T10:18:54.765040Z"
    },
    "papermill": {
     "duration": 25.029943,
     "end_time": "2021-01-28T10:18:54.765610",
     "exception": false,
     "start_time": "2021-01-28T10:18:29.735667",
     "status": "completed"
    },
    "tags": []
   },
   "outputs": [
    {
     "name": "stdout",
     "output_type": "stream",
     "text": [
      "28/28 [==============================] - 24s 863ms/step\n",
      "(3489,)\n"
     ]
    }
   ],
   "source": [
    "y_pred_final = model.predict(test_generator, verbose=1)\n",
    "y_pred_final = np.argmax(y_pred_final, axis=1)\n",
    "print(y_pred_final.shape)"
   ]
  },
  {
   "cell_type": "code",
   "execution_count": 24,
   "metadata": {
    "execution": {
     "iopub.execute_input": "2021-01-28T10:18:55.434275Z",
     "iopub.status.busy": "2021-01-28T10:18:55.433748Z",
     "iopub.status.idle": "2021-01-28T10:18:55.439859Z",
     "shell.execute_reply": "2021-01-28T10:18:55.440339Z"
    },
    "papermill": {
     "duration": 0.346078,
     "end_time": "2021-01-28T10:18:55.440503",
     "exception": false,
     "start_time": "2021-01-28T10:18:55.094425",
     "status": "completed"
    },
    "tags": []
   },
   "outputs": [
    {
     "data": {
      "text/html": [
       "<div>\n",
       "<style scoped>\n",
       "    .dataframe tbody tr th:only-of-type {\n",
       "        vertical-align: middle;\n",
       "    }\n",
       "\n",
       "    .dataframe tbody tr th {\n",
       "        vertical-align: top;\n",
       "    }\n",
       "\n",
       "    .dataframe thead th {\n",
       "        text-align: right;\n",
       "    }\n",
       "</style>\n",
       "<table border=\"1\" class=\"dataframe\">\n",
       "  <thead>\n",
       "    <tr style=\"text-align: right;\">\n",
       "      <th></th>\n",
       "      <th>Image</th>\n",
       "      <th>Class</th>\n",
       "    </tr>\n",
       "  </thead>\n",
       "  <tbody>\n",
       "    <tr>\n",
       "      <th>0</th>\n",
       "      <td>image7761.jpg</td>\n",
       "      <td>Airplane</td>\n",
       "    </tr>\n",
       "    <tr>\n",
       "      <th>1</th>\n",
       "      <td>image3202.jpg</td>\n",
       "      <td>Miscellaneous</td>\n",
       "    </tr>\n",
       "    <tr>\n",
       "      <th>2</th>\n",
       "      <td>image688.jpg</td>\n",
       "      <td>Snowman</td>\n",
       "    </tr>\n",
       "    <tr>\n",
       "      <th>3</th>\n",
       "      <td>image233.jpg</td>\n",
       "      <td>Candle</td>\n",
       "    </tr>\n",
       "    <tr>\n",
       "      <th>4</th>\n",
       "      <td>image4332.jpg</td>\n",
       "      <td>Christmas_Tree</td>\n",
       "    </tr>\n",
       "  </tbody>\n",
       "</table>\n",
       "</div>"
      ],
      "text/plain": [
       "           Image           Class\n",
       "0  image7761.jpg        Airplane\n",
       "1  image3202.jpg   Miscellaneous\n",
       "2   image688.jpg         Snowman\n",
       "3   image233.jpg          Candle\n",
       "4  image4332.jpg  Christmas_Tree"
      ]
     },
     "execution_count": 24,
     "metadata": {},
     "output_type": "execute_result"
    }
   ],
   "source": [
    "test_df['Class'] = y_pred_final\n",
    "test_df['Class'] = test_df['Class'].map(rev_class_map)\n",
    "test_df.head()"
   ]
  },
  {
   "cell_type": "code",
   "execution_count": 25,
   "metadata": {
    "execution": {
     "iopub.execute_input": "2021-01-28T10:18:56.160672Z",
     "iopub.status.busy": "2021-01-28T10:18:56.159555Z",
     "iopub.status.idle": "2021-01-28T10:18:56.337751Z",
     "shell.execute_reply": "2021-01-28T10:18:56.338833Z"
    },
    "papermill": {
     "duration": 0.571978,
     "end_time": "2021-01-28T10:18:56.339041",
     "exception": false,
     "start_time": "2021-01-28T10:18:55.767063",
     "status": "completed"
    },
    "tags": []
   },
   "outputs": [],
   "source": [
    "test_df.to_csv(\"/kaggle/working/submission.csv\", index=False)"
   ]
  },
  {
   "cell_type": "code",
   "execution_count": null,
   "metadata": {
    "papermill": {
     "duration": 0.354718,
     "end_time": "2021-01-28T10:18:57.143692",
     "exception": false,
     "start_time": "2021-01-28T10:18:56.788974",
     "status": "completed"
    },
    "tags": []
   },
   "outputs": [],
   "source": []
  }
 ],
 "metadata": {
  "kernelspec": {
   "display_name": "Python 3 (ipykernel)",
   "language": "python",
   "name": "python3"
  },
  "language_info": {
   "codemirror_mode": {
    "name": "ipython",
    "version": 3
   },
   "file_extension": ".py",
   "mimetype": "text/x-python",
   "name": "python",
   "nbconvert_exporter": "python",
   "pygments_lexer": "ipython3",
   "version": "3.9.7"
  },
  "papermill": {
   "default_parameters": {},
   "duration": 2071.83858,
   "end_time": "2021-01-28T10:19:01.079998",
   "environment_variables": {},
   "exception": null,
   "input_path": "__notebook__.ipynb",
   "output_path": "__notebook__.ipynb",
   "parameters": {},
   "start_time": "2021-01-28T09:44:29.241418",
   "version": "2.2.2"
  }
 },
 "nbformat": 4,
 "nbformat_minor": 4
}
