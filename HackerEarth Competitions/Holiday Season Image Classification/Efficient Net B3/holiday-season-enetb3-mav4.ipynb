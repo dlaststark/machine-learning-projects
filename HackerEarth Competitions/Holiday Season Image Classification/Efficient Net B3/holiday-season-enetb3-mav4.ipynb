{
 "cells": [
  {
   "cell_type": "markdown",
   "metadata": {
    "papermill": {
     "duration": 0.020851,
     "end_time": "2021-01-28T11:41:02.009858",
     "exception": false,
     "start_time": "2021-01-28T11:41:01.989007",
     "status": "completed"
    },
    "tags": []
   },
   "source": [
    "## Import Packages"
   ]
  },
  {
   "cell_type": "code",
   "execution_count": 1,
   "metadata": {
    "execution": {
     "iopub.execute_input": "2021-01-28T11:41:02.059423Z",
     "iopub.status.busy": "2021-01-28T11:41:02.058735Z",
     "iopub.status.idle": "2021-01-28T11:41:08.588643Z",
     "shell.execute_reply": "2021-01-28T11:41:08.587561Z"
    },
    "papermill": {
     "duration": 6.558752,
     "end_time": "2021-01-28T11:41:08.588856",
     "exception": false,
     "start_time": "2021-01-28T11:41:02.030104",
     "status": "completed"
    },
    "tags": []
   },
   "outputs": [],
   "source": [
    "import os\n",
    "import itertools\n",
    "import numpy as np\n",
    "import pandas as pd\n",
    "import seaborn as sns\n",
    "from tqdm import tqdm\n",
    "import matplotlib.pyplot as plt\n",
    "from sklearn.metrics import confusion_matrix\n",
    "from sklearn.metrics import classification_report\n",
    "from sklearn.model_selection import StratifiedShuffleSplit\n",
    "\n",
    "import tensorflow as tf\n",
    "from tensorflow.keras import backend as K\n",
    "from tensorflow.keras.regularizers import l2\n",
    "from tensorflow_addons.metrics import F1Score\n",
    "from tensorflow.keras.models import Model, load_model\n",
    "from tensorflow_addons.optimizers import AdamW, Lookahead\n",
    "from tensorflow.keras.callbacks import EarlyStopping\n",
    "from tensorflow.keras.callbacks import ReduceLROnPlateau\n",
    "from tensorflow.keras.callbacks import ModelCheckpoint\n",
    "from tensorflow.keras.applications import EfficientNetB3\n",
    "from tensorflow.keras.layers import Dense, Dropout, Flatten\n",
    "from tensorflow.keras.layers import BatchNormalization, Input\n",
    "from tensorflow.keras.layers import ZeroPadding2D, MaxPooling2D\n",
    "from tensorflow.keras.layers import GlobalAveragePooling2D, Add\n",
    "from tensorflow.keras.layers import GlobalMaxPooling2D, Reshape\n",
    "from tensorflow.keras.layers import Activation, Conv2D, Average\n",
    "from tensorflow.keras.preprocessing.image import ImageDataGenerator"
   ]
  },
  {
   "cell_type": "markdown",
   "metadata": {
    "papermill": {
     "duration": 0.019458,
     "end_time": "2021-01-28T11:41:08.628104",
     "exception": false,
     "start_time": "2021-01-28T11:41:08.608646",
     "status": "completed"
    },
    "tags": []
   },
   "source": [
    "## Helper Functions"
   ]
  },
  {
   "cell_type": "code",
   "execution_count": 2,
   "metadata": {
    "execution": {
     "iopub.execute_input": "2021-01-28T11:41:08.675312Z",
     "iopub.status.busy": "2021-01-28T11:41:08.674661Z",
     "iopub.status.idle": "2021-01-28T11:41:08.677359Z",
     "shell.execute_reply": "2021-01-28T11:41:08.677732Z"
    },
    "papermill": {
     "duration": 0.02984,
     "end_time": "2021-01-28T11:41:08.677874",
     "exception": false,
     "start_time": "2021-01-28T11:41:08.648034",
     "status": "completed"
    },
    "tags": []
   },
   "outputs": [],
   "source": [
    "def plot_confusion_matrix(cm, classes):\n",
    "\n",
    "    plt.imshow(cm, interpolation='nearest', cmap=plt.cm.Blues)\n",
    "    plt.title('Confusion matrix')\n",
    "    plt.colorbar()\n",
    "    tick_marks = np.arange(len(classes))\n",
    "    plt.xticks(tick_marks, classes, rotation=0)\n",
    "    plt.yticks(tick_marks, classes)\n",
    "\n",
    "    thresh = cm.max() / 2.\n",
    "    for i, j in itertools.product(range(cm.shape[0]), range(cm.shape[1])):\n",
    "        plt.text(j, i, format(cm[i, j], 'd'),\n",
    "                 horizontalalignment=\"center\",\n",
    "                 color=\"white\" if cm[i, j] > thresh else \"black\")\n",
    "\n",
    "    plt.ylabel('True label')\n",
    "    plt.xlabel('Predicted label')\n",
    "    plt.tight_layout()"
   ]
  },
  {
   "cell_type": "markdown",
   "metadata": {
    "papermill": {
     "duration": 0.019209,
     "end_time": "2021-01-28T11:41:08.718571",
     "exception": false,
     "start_time": "2021-01-28T11:41:08.699362",
     "status": "completed"
    },
    "tags": []
   },
   "source": [
    "## Read true labels + Basic EDA"
   ]
  },
  {
   "cell_type": "code",
   "execution_count": 3,
   "metadata": {
    "execution": {
     "iopub.execute_input": "2021-01-28T11:41:08.767362Z",
     "iopub.status.busy": "2021-01-28T11:41:08.766822Z",
     "iopub.status.idle": "2021-01-28T11:41:08.803122Z",
     "shell.execute_reply": "2021-01-28T11:41:08.803565Z"
    },
    "papermill": {
     "duration": 0.065338,
     "end_time": "2021-01-28T11:41:08.803719",
     "exception": false,
     "start_time": "2021-01-28T11:41:08.738381",
     "status": "completed"
    },
    "tags": []
   },
   "outputs": [
    {
     "data": {
      "text/html": [
       "<div>\n",
       "<style scoped>\n",
       "    .dataframe tbody tr th:only-of-type {\n",
       "        vertical-align: middle;\n",
       "    }\n",
       "\n",
       "    .dataframe tbody tr th {\n",
       "        vertical-align: top;\n",
       "    }\n",
       "\n",
       "    .dataframe thead th {\n",
       "        text-align: right;\n",
       "    }\n",
       "</style>\n",
       "<table border=\"1\" class=\"dataframe\">\n",
       "  <thead>\n",
       "    <tr style=\"text-align: right;\">\n",
       "      <th></th>\n",
       "      <th>Image</th>\n",
       "      <th>Class</th>\n",
       "    </tr>\n",
       "  </thead>\n",
       "  <tbody>\n",
       "    <tr>\n",
       "      <th>0</th>\n",
       "      <td>image3476.jpg</td>\n",
       "      <td>Miscellaneous</td>\n",
       "    </tr>\n",
       "    <tr>\n",
       "      <th>1</th>\n",
       "      <td>image5198.jpg</td>\n",
       "      <td>Candle</td>\n",
       "    </tr>\n",
       "    <tr>\n",
       "      <th>2</th>\n",
       "      <td>image4183.jpg</td>\n",
       "      <td>Snowman</td>\n",
       "    </tr>\n",
       "    <tr>\n",
       "      <th>3</th>\n",
       "      <td>image1806.jpg</td>\n",
       "      <td>Miscellaneous</td>\n",
       "    </tr>\n",
       "    <tr>\n",
       "      <th>4</th>\n",
       "      <td>image7831.jpg</td>\n",
       "      <td>Miscellaneous</td>\n",
       "    </tr>\n",
       "  </tbody>\n",
       "</table>\n",
       "</div>"
      ],
      "text/plain": [
       "           Image          Class\n",
       "0  image3476.jpg  Miscellaneous\n",
       "1  image5198.jpg         Candle\n",
       "2  image4183.jpg        Snowman\n",
       "3  image1806.jpg  Miscellaneous\n",
       "4  image7831.jpg  Miscellaneous"
      ]
     },
     "execution_count": 3,
     "metadata": {},
     "output_type": "execute_result"
    }
   ],
   "source": [
    "train_df = pd.read_csv(\"../input/hackereath-holiday-season-deep-learning-contest/dataset/train.csv\")\n",
    "train_df.head()"
   ]
  },
  {
   "cell_type": "code",
   "execution_count": 4,
   "metadata": {
    "execution": {
     "iopub.execute_input": "2021-01-28T11:41:08.848127Z",
     "iopub.status.busy": "2021-01-28T11:41:08.847311Z",
     "iopub.status.idle": "2021-01-28T11:41:08.850341Z",
     "shell.execute_reply": "2021-01-28T11:41:08.849862Z"
    },
    "papermill": {
     "duration": 0.026935,
     "end_time": "2021-01-28T11:41:08.850464",
     "exception": false,
     "start_time": "2021-01-28T11:41:08.823529",
     "status": "completed"
    },
    "tags": []
   },
   "outputs": [],
   "source": [
    "class_map = {\n",
    "    'Airplane': 0,\n",
    "    'Candle': 1,\n",
    "    'Christmas_Tree': 2,\n",
    "    'Jacket': 3,\n",
    "    'Miscellaneous': 4,\n",
    "    'Snowman': 5\n",
    "}"
   ]
  },
  {
   "cell_type": "code",
   "execution_count": 5,
   "metadata": {
    "execution": {
     "iopub.execute_input": "2021-01-28T11:41:08.907607Z",
     "iopub.status.busy": "2021-01-28T11:41:08.906734Z",
     "iopub.status.idle": "2021-01-28T11:41:08.921759Z",
     "shell.execute_reply": "2021-01-28T11:41:08.922289Z"
    },
    "papermill": {
     "duration": 0.05223,
     "end_time": "2021-01-28T11:41:08.922448",
     "exception": false,
     "start_time": "2021-01-28T11:41:08.870218",
     "status": "completed"
    },
    "tags": []
   },
   "outputs": [
    {
     "data": {
      "text/html": [
       "<div>\n",
       "<style scoped>\n",
       "    .dataframe tbody tr th:only-of-type {\n",
       "        vertical-align: middle;\n",
       "    }\n",
       "\n",
       "    .dataframe tbody tr th {\n",
       "        vertical-align: top;\n",
       "    }\n",
       "\n",
       "    .dataframe thead th {\n",
       "        text-align: right;\n",
       "    }\n",
       "</style>\n",
       "<table border=\"1\" class=\"dataframe\">\n",
       "  <thead>\n",
       "    <tr style=\"text-align: right;\">\n",
       "      <th></th>\n",
       "      <th>Class</th>\n",
       "      <th>Class_enc</th>\n",
       "      <th>Count</th>\n",
       "    </tr>\n",
       "  </thead>\n",
       "  <tbody>\n",
       "    <tr>\n",
       "      <th>0</th>\n",
       "      <td>Airplane</td>\n",
       "      <td>0</td>\n",
       "      <td>535</td>\n",
       "    </tr>\n",
       "    <tr>\n",
       "      <th>1</th>\n",
       "      <td>Candle</td>\n",
       "      <td>1</td>\n",
       "      <td>593</td>\n",
       "    </tr>\n",
       "    <tr>\n",
       "      <th>2</th>\n",
       "      <td>Christmas_Tree</td>\n",
       "      <td>2</td>\n",
       "      <td>1539</td>\n",
       "    </tr>\n",
       "    <tr>\n",
       "      <th>3</th>\n",
       "      <td>Jacket</td>\n",
       "      <td>3</td>\n",
       "      <td>640</td>\n",
       "    </tr>\n",
       "    <tr>\n",
       "      <th>4</th>\n",
       "      <td>Miscellaneous</td>\n",
       "      <td>4</td>\n",
       "      <td>2801</td>\n",
       "    </tr>\n",
       "    <tr>\n",
       "      <th>5</th>\n",
       "      <td>Snowman</td>\n",
       "      <td>5</td>\n",
       "      <td>361</td>\n",
       "    </tr>\n",
       "  </tbody>\n",
       "</table>\n",
       "</div>"
      ],
      "text/plain": [
       "            Class Class_enc  Count\n",
       "0        Airplane         0    535\n",
       "1          Candle         1    593\n",
       "2  Christmas_Tree         2   1539\n",
       "3          Jacket         3    640\n",
       "4   Miscellaneous         4   2801\n",
       "5         Snowman         5    361"
      ]
     },
     "execution_count": 5,
     "metadata": {},
     "output_type": "execute_result"
    }
   ],
   "source": [
    "train_df['Class_enc'] = train_df['Class'].map(class_map)\n",
    "train_df['Class_enc'] = train_df['Class_enc'].astype('str')\n",
    "train_df.groupby(['Class','Class_enc']).size().reset_index().rename(columns={0:'Count'})"
   ]
  },
  {
   "cell_type": "code",
   "execution_count": 6,
   "metadata": {
    "execution": {
     "iopub.execute_input": "2021-01-28T11:41:08.973881Z",
     "iopub.status.busy": "2021-01-28T11:41:08.966957Z",
     "iopub.status.idle": "2021-01-28T11:41:09.149449Z",
     "shell.execute_reply": "2021-01-28T11:41:09.149866Z"
    },
    "papermill": {
     "duration": 0.20753,
     "end_time": "2021-01-28T11:41:09.150026",
     "exception": false,
     "start_time": "2021-01-28T11:41:08.942496",
     "status": "completed"
    },
    "tags": []
   },
   "outputs": [
    {
     "data": {
      "image/png": "[encoded data removed]",
      "text/plain": [
       "<Figure size 864x504 with 1 Axes>"
      ]
     },
     "metadata": {
      "needs_background": "light"
     },
     "output_type": "display_data"
    }
   ],
   "source": [
    "plt.figure(figsize=(12,7))\n",
    "sns.set(style=\"darkgrid\")\n",
    "ax = sns.countplot(x=\"Class\", data=train_df)"
   ]
  },
  {
   "cell_type": "code",
   "execution_count": 7,
   "metadata": {
    "execution": {
     "iopub.execute_input": "2021-01-28T11:41:09.197079Z",
     "iopub.status.busy": "2021-01-28T11:41:09.196554Z",
     "iopub.status.idle": "2021-01-28T11:41:09.297803Z",
     "shell.execute_reply": "2021-01-28T11:41:09.298369Z"
    },
    "papermill": {
     "duration": 0.127263,
     "end_time": "2021-01-28T11:41:09.298577",
     "exception": false,
     "start_time": "2021-01-28T11:41:09.171314",
     "status": "completed"
    },
    "tags": []
   },
   "outputs": [
    {
     "name": "stderr",
     "output_type": "stream",
     "text": [
      "100%|██████████| 3489/3489 [00:00<00:00, 1667874.02it/s]\n"
     ]
    },
    {
     "data": {
      "text/html": [
       "<div>\n",
       "<style scoped>\n",
       "    .dataframe tbody tr th:only-of-type {\n",
       "        vertical-align: middle;\n",
       "    }\n",
       "\n",
       "    .dataframe tbody tr th {\n",
       "        vertical-align: top;\n",
       "    }\n",
       "\n",
       "    .dataframe thead th {\n",
       "        text-align: right;\n",
       "    }\n",
       "</style>\n",
       "<table border=\"1\" class=\"dataframe\">\n",
       "  <thead>\n",
       "    <tr style=\"text-align: right;\">\n",
       "      <th></th>\n",
       "      <th>Image</th>\n",
       "      <th>Class</th>\n",
       "    </tr>\n",
       "  </thead>\n",
       "  <tbody>\n",
       "    <tr>\n",
       "      <th>0</th>\n",
       "      <td>image7761.jpg</td>\n",
       "      <td>0</td>\n",
       "    </tr>\n",
       "    <tr>\n",
       "      <th>1</th>\n",
       "      <td>image3202.jpg</td>\n",
       "      <td>0</td>\n",
       "    </tr>\n",
       "    <tr>\n",
       "      <th>2</th>\n",
       "      <td>image688.jpg</td>\n",
       "      <td>0</td>\n",
       "    </tr>\n",
       "    <tr>\n",
       "      <th>3</th>\n",
       "      <td>image233.jpg</td>\n",
       "      <td>0</td>\n",
       "    </tr>\n",
       "    <tr>\n",
       "      <th>4</th>\n",
       "      <td>image4332.jpg</td>\n",
       "      <td>0</td>\n",
       "    </tr>\n",
       "  </tbody>\n",
       "</table>\n",
       "</div>"
      ],
      "text/plain": [
       "           Image Class\n",
       "0  image7761.jpg     0\n",
       "1  image3202.jpg     0\n",
       "2   image688.jpg     0\n",
       "3   image233.jpg     0\n",
       "4  image4332.jpg     0"
      ]
     },
     "execution_count": 7,
     "metadata": {},
     "output_type": "execute_result"
    }
   ],
   "source": [
    "test_dir = \"../input/hackereath-holiday-season-deep-learning-contest/dataset/test\"\n",
    "test_files = []\n",
    "\n",
    "for file in tqdm(os.listdir(test_dir)):\n",
    "    test_files.append(file)\n",
    "\n",
    "test_df = pd.DataFrame(test_files, columns=['Image'])\n",
    "test_df['Class'] = '0'\n",
    "test_df.head()"
   ]
  },
  {
   "cell_type": "markdown",
   "metadata": {
    "papermill": {
     "duration": 0.021712,
     "end_time": "2021-01-28T11:41:09.342898",
     "exception": false,
     "start_time": "2021-01-28T11:41:09.321186",
     "status": "completed"
    },
    "tags": []
   },
   "source": [
    "## Calculate class-weights"
   ]
  },
  {
   "cell_type": "code",
   "execution_count": 8,
   "metadata": {
    "execution": {
     "iopub.execute_input": "2021-01-28T11:41:09.394351Z",
     "iopub.status.busy": "2021-01-28T11:41:09.393504Z",
     "iopub.status.idle": "2021-01-28T11:41:09.418606Z",
     "shell.execute_reply": "2021-01-28T11:41:09.418075Z"
    },
    "papermill": {
     "duration": 0.053726,
     "end_time": "2021-01-28T11:41:09.418723",
     "exception": false,
     "start_time": "2021-01-28T11:41:09.364997",
     "status": "completed"
    },
    "tags": []
   },
   "outputs": [
    {
     "data": {
      "text/plain": [
       "{0: 0.6747663551401869,\n",
       " 1: 0.6087689713322091,\n",
       " 2: 0.23456790123456786,\n",
       " 3: 0.5640625,\n",
       " 4: 0.12888254194930382,\n",
       " 5: 1.0}"
      ]
     },
     "execution_count": 8,
     "metadata": {},
     "output_type": "execute_result"
    }
   ],
   "source": [
    "temp_df = train_df.groupby(['Class_enc']).size().reset_index().rename(columns={0:'count'})\n",
    "total_count = np.sum(temp_df['count'].values)\n",
    "temp_df['class%'] = (temp_df['count'] / total_count) * 100\n",
    "lowest_pct = min(temp_df['class%'])\n",
    "temp_df['class_weight'] = lowest_pct / temp_df['class%']\n",
    "class_weight = temp_df[['Class_enc', 'class_weight']].to_dict()['class_weight']\n",
    "class_weight"
   ]
  },
  {
   "cell_type": "markdown",
   "metadata": {
    "papermill": {
     "duration": 0.021842,
     "end_time": "2021-01-28T11:41:09.462565",
     "exception": false,
     "start_time": "2021-01-28T11:41:09.440723",
     "status": "completed"
    },
    "tags": []
   },
   "source": [
    "## Split training data into train/validation datasets"
   ]
  },
  {
   "cell_type": "code",
   "execution_count": 9,
   "metadata": {
    "execution": {
     "iopub.execute_input": "2021-01-28T11:41:09.518739Z",
     "iopub.status.busy": "2021-01-28T11:41:09.518214Z",
     "iopub.status.idle": "2021-01-28T11:41:09.532048Z",
     "shell.execute_reply": "2021-01-28T11:41:09.531467Z"
    },
    "papermill": {
     "duration": 0.047061,
     "end_time": "2021-01-28T11:41:09.532196",
     "exception": false,
     "start_time": "2021-01-28T11:41:09.485135",
     "status": "completed"
    },
    "tags": []
   },
   "outputs": [
    {
     "name": "stdout",
     "output_type": "stream",
     "text": [
      "train_df shape: (5498, 3)\n",
      "validation_df shape: (971, 3)\n"
     ]
    }
   ],
   "source": [
    "sss = StratifiedShuffleSplit(n_splits=1, test_size=0.15, random_state=1)\n",
    "for train_index, validation_index in sss.split(train_df['Image'], train_df['Class_enc']):\n",
    "    train_df, validation_df = train_df.iloc[train_index], train_df.iloc[validation_index]\n",
    "\n",
    "print(\"train_df shape: {}\".format(train_df.shape))\n",
    "print(\"validation_df shape: {}\".format(validation_df.shape))"
   ]
  },
  {
   "cell_type": "code",
   "execution_count": 10,
   "metadata": {
    "execution": {
     "iopub.execute_input": "2021-01-28T11:41:09.581970Z",
     "iopub.status.busy": "2021-01-28T11:41:09.581193Z",
     "iopub.status.idle": "2021-01-28T11:41:09.592535Z",
     "shell.execute_reply": "2021-01-28T11:41:09.592948Z"
    },
    "papermill": {
     "duration": 0.038326,
     "end_time": "2021-01-28T11:41:09.593075",
     "exception": false,
     "start_time": "2021-01-28T11:41:09.554749",
     "status": "completed"
    },
    "tags": []
   },
   "outputs": [
    {
     "data": {
      "text/html": [
       "<div>\n",
       "<style scoped>\n",
       "    .dataframe tbody tr th:only-of-type {\n",
       "        vertical-align: middle;\n",
       "    }\n",
       "\n",
       "    .dataframe tbody tr th {\n",
       "        vertical-align: top;\n",
       "    }\n",
       "\n",
       "    .dataframe thead th {\n",
       "        text-align: right;\n",
       "    }\n",
       "</style>\n",
       "<table border=\"1\" class=\"dataframe\">\n",
       "  <thead>\n",
       "    <tr style=\"text-align: right;\">\n",
       "      <th></th>\n",
       "      <th>Class</th>\n",
       "      <th>Class_enc</th>\n",
       "      <th>Count</th>\n",
       "    </tr>\n",
       "  </thead>\n",
       "  <tbody>\n",
       "    <tr>\n",
       "      <th>0</th>\n",
       "      <td>Airplane</td>\n",
       "      <td>0</td>\n",
       "      <td>455</td>\n",
       "    </tr>\n",
       "    <tr>\n",
       "      <th>1</th>\n",
       "      <td>Candle</td>\n",
       "      <td>1</td>\n",
       "      <td>504</td>\n",
       "    </tr>\n",
       "    <tr>\n",
       "      <th>2</th>\n",
       "      <td>Christmas_Tree</td>\n",
       "      <td>2</td>\n",
       "      <td>1308</td>\n",
       "    </tr>\n",
       "    <tr>\n",
       "      <th>3</th>\n",
       "      <td>Jacket</td>\n",
       "      <td>3</td>\n",
       "      <td>544</td>\n",
       "    </tr>\n",
       "    <tr>\n",
       "      <th>4</th>\n",
       "      <td>Miscellaneous</td>\n",
       "      <td>4</td>\n",
       "      <td>2380</td>\n",
       "    </tr>\n",
       "    <tr>\n",
       "      <th>5</th>\n",
       "      <td>Snowman</td>\n",
       "      <td>5</td>\n",
       "      <td>307</td>\n",
       "    </tr>\n",
       "  </tbody>\n",
       "</table>\n",
       "</div>"
      ],
      "text/plain": [
       "            Class Class_enc  Count\n",
       "0        Airplane         0    455\n",
       "1          Candle         1    504\n",
       "2  Christmas_Tree         2   1308\n",
       "3          Jacket         3    544\n",
       "4   Miscellaneous         4   2380\n",
       "5         Snowman         5    307"
      ]
     },
     "execution_count": 10,
     "metadata": {},
     "output_type": "execute_result"
    }
   ],
   "source": [
    "train_df.groupby(['Class','Class_enc']).size().reset_index().rename(columns={0:'Count'})"
   ]
  },
  {
   "cell_type": "code",
   "execution_count": 11,
   "metadata": {
    "execution": {
     "iopub.execute_input": "2021-01-28T11:41:09.643320Z",
     "iopub.status.busy": "2021-01-28T11:41:09.642521Z",
     "iopub.status.idle": "2021-01-28T11:41:09.653501Z",
     "shell.execute_reply": "2021-01-28T11:41:09.653080Z"
    },
    "papermill": {
     "duration": 0.038208,
     "end_time": "2021-01-28T11:41:09.653612",
     "exception": false,
     "start_time": "2021-01-28T11:41:09.615404",
     "status": "completed"
    },
    "tags": []
   },
   "outputs": [
    {
     "data": {
      "text/html": [
       "<div>\n",
       "<style scoped>\n",
       "    .dataframe tbody tr th:only-of-type {\n",
       "        vertical-align: middle;\n",
       "    }\n",
       "\n",
       "    .dataframe tbody tr th {\n",
       "        vertical-align: top;\n",
       "    }\n",
       "\n",
       "    .dataframe thead th {\n",
       "        text-align: right;\n",
       "    }\n",
       "</style>\n",
       "<table border=\"1\" class=\"dataframe\">\n",
       "  <thead>\n",
       "    <tr style=\"text-align: right;\">\n",
       "      <th></th>\n",
       "      <th>Class</th>\n",
       "      <th>Class_enc</th>\n",
       "      <th>Count</th>\n",
       "    </tr>\n",
       "  </thead>\n",
       "  <tbody>\n",
       "    <tr>\n",
       "      <th>0</th>\n",
       "      <td>Airplane</td>\n",
       "      <td>0</td>\n",
       "      <td>80</td>\n",
       "    </tr>\n",
       "    <tr>\n",
       "      <th>1</th>\n",
       "      <td>Candle</td>\n",
       "      <td>1</td>\n",
       "      <td>89</td>\n",
       "    </tr>\n",
       "    <tr>\n",
       "      <th>2</th>\n",
       "      <td>Christmas_Tree</td>\n",
       "      <td>2</td>\n",
       "      <td>231</td>\n",
       "    </tr>\n",
       "    <tr>\n",
       "      <th>3</th>\n",
       "      <td>Jacket</td>\n",
       "      <td>3</td>\n",
       "      <td>96</td>\n",
       "    </tr>\n",
       "    <tr>\n",
       "      <th>4</th>\n",
       "      <td>Miscellaneous</td>\n",
       "      <td>4</td>\n",
       "      <td>421</td>\n",
       "    </tr>\n",
       "    <tr>\n",
       "      <th>5</th>\n",
       "      <td>Snowman</td>\n",
       "      <td>5</td>\n",
       "      <td>54</td>\n",
       "    </tr>\n",
       "  </tbody>\n",
       "</table>\n",
       "</div>"
      ],
      "text/plain": [
       "            Class Class_enc  Count\n",
       "0        Airplane         0     80\n",
       "1          Candle         1     89\n",
       "2  Christmas_Tree         2    231\n",
       "3          Jacket         3     96\n",
       "4   Miscellaneous         4    421\n",
       "5         Snowman         5     54"
      ]
     },
     "execution_count": 11,
     "metadata": {},
     "output_type": "execute_result"
    }
   ],
   "source": [
    "validation_df.groupby(['Class','Class_enc']).size().reset_index().rename(columns={0:'Count'})"
   ]
  },
  {
   "cell_type": "markdown",
   "metadata": {
    "papermill": {
     "duration": 0.022698,
     "end_time": "2021-01-28T11:41:09.699111",
     "exception": false,
     "start_time": "2021-01-28T11:41:09.676413",
     "status": "completed"
    },
    "tags": []
   },
   "source": [
    "## Model Hyperparameters"
   ]
  },
  {
   "cell_type": "code",
   "execution_count": 12,
   "metadata": {
    "execution": {
     "iopub.execute_input": "2021-01-28T11:41:09.750739Z",
     "iopub.status.busy": "2021-01-28T11:41:09.749991Z",
     "iopub.status.idle": "2021-01-28T11:41:09.752986Z",
     "shell.execute_reply": "2021-01-28T11:41:09.752536Z"
    },
    "papermill": {
     "duration": 0.031196,
     "end_time": "2021-01-28T11:41:09.753103",
     "exception": false,
     "start_time": "2021-01-28T11:41:09.721907",
     "status": "completed"
    },
    "tags": []
   },
   "outputs": [],
   "source": [
    "dataset_dir = \"../input/hackereath-holiday-season-deep-learning-contest/dataset/\"\n",
    "mini_batch_size = 128\n",
    "steps_per_epoch = int(np.ceil(train_df.shape[0] / float(mini_batch_size)))\n",
    "validation_steps = int(np.ceil(validation_df.shape[0] / float(mini_batch_size)))\n",
    "test_steps = int(np.ceil(test_df.shape[0] / float(mini_batch_size)))\n",
    "image_dim = (320, 320, 3)"
   ]
  },
  {
   "cell_type": "markdown",
   "metadata": {
    "papermill": {
     "duration": 0.022605,
     "end_time": "2021-01-28T11:41:09.798302",
     "exception": false,
     "start_time": "2021-01-28T11:41:09.775697",
     "status": "completed"
    },
    "tags": []
   },
   "source": [
    "## Configure image generators"
   ]
  },
  {
   "cell_type": "code",
   "execution_count": 13,
   "metadata": {
    "execution": {
     "iopub.execute_input": "2021-01-28T11:41:09.867317Z",
     "iopub.status.busy": "2021-01-28T11:41:09.866650Z",
     "iopub.status.idle": "2021-01-28T11:41:27.666761Z",
     "shell.execute_reply": "2021-01-28T11:41:27.667531Z"
    },
    "papermill": {
     "duration": 17.846504,
     "end_time": "2021-01-28T11:41:27.667696",
     "exception": false,
     "start_time": "2021-01-28T11:41:09.821192",
     "status": "completed"
    },
    "tags": []
   },
   "outputs": [
    {
     "name": "stdout",
     "output_type": "stream",
     "text": [
      "Found 5498 validated image filenames belonging to 6 classes.\n",
      "Found 971 validated image filenames belonging to 6 classes.\n",
      "Found 3489 validated image filenames belonging to 1 classes.\n"
     ]
    }
   ],
   "source": [
    "train_datagen = ImageDataGenerator(rotation_range = 30,\n",
    "                                   zoom_range = 0.2,\n",
    "                                   horizontal_flip = True,\n",
    "                                   fill_mode = 'nearest',\n",
    "                                   height_shift_range = 0.1,\n",
    "                                   width_shift_range = 0.1)\n",
    "\n",
    "train_generator = train_datagen.flow_from_dataframe(train_df,\n",
    "                                                    directory = os.path.join(dataset_dir,\"train\"),\n",
    "                                                    x_col = \"Image\", \n",
    "                                                    y_col = \"Class_enc\",\n",
    "                                                    target_size = (image_dim[0], image_dim[1]),\n",
    "                                                    batch_size = mini_batch_size,\n",
    "                                                    class_mode = \"categorical\",\n",
    "                                                    interpolation=\"bicubic\")\n",
    "\n",
    "validation_datagen = ImageDataGenerator()\n",
    "\n",
    "validation_generator = validation_datagen.flow_from_dataframe(validation_df,\n",
    "                                                              directory = os.path.join(dataset_dir,\"train\"),\n",
    "                                                              x_col = \"Image\",\n",
    "                                                              y_col = \"Class_enc\",\n",
    "                                                              shuffle=False,\n",
    "                                                              target_size = (image_dim[0], image_dim[1]),\n",
    "                                                              batch_size = mini_batch_size,\n",
    "                                                              class_mode = \"categorical\",\n",
    "                                                              interpolation=\"bicubic\")\n",
    "\n",
    "test_datagen = ImageDataGenerator()\n",
    "\n",
    "test_generator = test_datagen.flow_from_dataframe(test_df,\n",
    "                                                  directory = os.path.join(dataset_dir,\"test\"),\n",
    "                                                  x_col = \"Image\",\n",
    "                                                  y_col = \"Class\",\n",
    "                                                  shuffle=False,\n",
    "                                                  target_size = (image_dim[0], image_dim[1]),\n",
    "                                                  batch_size = mini_batch_size,\n",
    "                                                  class_mode = \"categorical\",\n",
    "                                                  interpolation=\"bicubic\")"
   ]
  },
  {
   "cell_type": "markdown",
   "metadata": {
    "papermill": {
     "duration": 0.043666,
     "end_time": "2021-01-28T11:41:27.757775",
     "exception": false,
     "start_time": "2021-01-28T11:41:27.714109",
     "status": "completed"
    },
    "tags": []
   },
   "source": [
    "## Build and validate the model"
   ]
  },
  {
   "cell_type": "code",
   "execution_count": 14,
   "metadata": {
    "execution": {
     "iopub.execute_input": "2021-01-28T11:41:27.840334Z",
     "iopub.status.busy": "2021-01-28T11:41:27.839534Z",
     "iopub.status.idle": "2021-01-28T11:41:27.862361Z",
     "shell.execute_reply": "2021-01-28T11:41:27.863197Z"
    },
    "papermill": {
     "duration": 0.069569,
     "end_time": "2021-01-28T11:41:27.863392",
     "exception": false,
     "start_time": "2021-01-28T11:41:27.793823",
     "status": "completed"
    },
    "tags": []
   },
   "outputs": [],
   "source": [
    "def head(x_input, input_shape=1536, ratio=8):\n",
    "    \n",
    "    #=======================================================\n",
    "    #                    Channel Attention\n",
    "    #=======================================================\n",
    "    gapavg = GlobalAveragePooling2D()(x_input)\n",
    "    gapavg = Reshape((1, 1, gapavg.shape[1]))(gapavg)\n",
    "    gapavg = Conv2D(input_shape//ratio, \n",
    "                    kernel_size=1, strides=1, use_bias=True, \n",
    "                    padding='same', kernel_regularizer=l2(0.001), \n",
    "                    kernel_initializer='he_normal')(gapavg)\n",
    "    gapavg = BatchNormalization()(gapavg)\n",
    "    gapavg = Activation('relu')(gapavg)\n",
    "    gapavg_out = Conv2D(input_shape, kernel_size=1, \n",
    "                        strides=1, padding='same', use_bias=True, \n",
    "                        kernel_regularizer=l2(0.001), \n",
    "                        kernel_initializer='he_normal')(gapavg)\n",
    "    gapavg_out = BatchNormalization()(gapavg_out)\n",
    "    gapavg_out = Activation('relu')(gapavg_out)\n",
    "\n",
    "\n",
    "    gmpmax = GlobalMaxPooling2D()(x_input)\n",
    "    gmpmax = Reshape((1, 1, gmpmax.shape[1]))(gmpmax)\n",
    "    gmpmax = Conv2D(input_shape//ratio, \n",
    "                    kernel_size=1, strides=1, use_bias=True, \n",
    "                    padding='same', kernel_regularizer=l2(0.001), \n",
    "                    kernel_initializer='he_normal')(gmpmax)\n",
    "    gmpmax = BatchNormalization()(gmpmax)\n",
    "    gmpmax = Activation('relu')(gmpmax)\n",
    "    gmpmax_out = Conv2D(input_shape, kernel_size=1, \n",
    "                        strides=1, padding='same', use_bias=True, \n",
    "                        kernel_regularizer=l2(0.001), \n",
    "                        kernel_initializer='he_normal')(gmpmax)\n",
    "    gmpmax_out = BatchNormalization()(gmpmax_out)\n",
    "    gmpmax_out = Activation('relu')(gmpmax_out)\n",
    "    canx = x_input * tf.math.sigmoid(gapavg_out + gmpmax_out)\n",
    "\n",
    "\n",
    "    #=======================================================\n",
    "    #                    Spatial Attention\n",
    "    #=======================================================\n",
    "    avg_out = tf.reduce_mean(canx, axis=3)\n",
    "    max_out = tf.reduce_max(canx,  axis=3)\n",
    "    x = tf.stack([avg_out, max_out], axis=3)\n",
    "    \n",
    "    x = Conv2D(filters=64, kernel_size=3, strides=1, \n",
    "               padding='same', use_bias=False, \n",
    "               kernel_regularizer=l2(0.001), \n",
    "               kernel_initializer='he_normal')(x)\n",
    "    x = BatchNormalization()(x)\n",
    "    x = Activation('relu')(x)\n",
    "\n",
    "    x = Conv2D(filters=32, kernel_size=3, strides=1, \n",
    "               padding='same', use_bias=False, \n",
    "               kernel_regularizer=l2(0.001), \n",
    "               kernel_initializer='he_normal')(x)\n",
    "    x = BatchNormalization()(x)\n",
    "    x = Activation('relu')(x)\n",
    "\n",
    "    x = Conv2D(filters=16, kernel_size=3, strides=1, \n",
    "               padding='same', use_bias=False, \n",
    "               kernel_regularizer=l2(0.001), \n",
    "               kernel_initializer='he_normal')(x)\n",
    "    x = BatchNormalization()(x)\n",
    "    x = Activation('relu')(x)\n",
    "\n",
    "    x = Conv2D(filters=1, kernel_size=3, strides=1, \n",
    "               padding='same', use_bias=False, \n",
    "               kernel_regularizer=l2(0.001), \n",
    "               kernel_initializer='he_normal')(x)\n",
    "    x = BatchNormalization()(x)\n",
    "    x = Activation('sigmoid')(x)\n",
    "    spnx1 = canx * x\n",
    "    spnx2 = x\n",
    "    \n",
    "    gapx   = GlobalAveragePooling2D()(spnx1)\n",
    "    wvgx   = GlobalAveragePooling2D()(spnx2)\n",
    "    gapavg = Average()([gapx, wvgx])\n",
    "    x = BatchNormalization()(gapavg)\n",
    "\n",
    "\n",
    "    #=======================================================\n",
    "    #                    Tail of the model\n",
    "    #=======================================================\n",
    "\n",
    "    x = Dense(units=2048, kernel_regularizer=l2(0.0001), \n",
    "              kernel_initializer='he_uniform')(x)\n",
    "    x = BatchNormalization()(x)\n",
    "    x = Activation('relu')(x)\n",
    "    x = Dropout(rate=0.5)(x)\n",
    "    \n",
    "    x = Dense(units=1024, kernel_regularizer=l2(0.0001), \n",
    "              kernel_initializer='he_uniform')(x)\n",
    "    x = BatchNormalization()(x)\n",
    "    x = Activation('relu')(x)\n",
    "    x = Dropout(rate=0.5)(x)\n",
    "    \n",
    "    x = Dense(units=1024, kernel_regularizer=l2(0.0001), \n",
    "              kernel_initializer='he_uniform')(x)\n",
    "    x = BatchNormalization()(x)\n",
    "    x = Activation('relu')(x)\n",
    "    x = Dropout(rate=0.5)(x)\n",
    "    \n",
    "    x = Dense(units=512, kernel_regularizer=l2(0.0001), \n",
    "              kernel_initializer='he_uniform')(x)\n",
    "    x = BatchNormalization()(x)\n",
    "    x = Activation('relu')(x)\n",
    "    x = Dropout(rate=0.5)(x)\n",
    "    \n",
    "    x = Dense(units=6, activation='softmax', \n",
    "              kernel_initializer='he_uniform')(x)\n",
    "\n",
    "    return x"
   ]
  },
  {
   "cell_type": "code",
   "execution_count": 15,
   "metadata": {
    "execution": {
     "iopub.execute_input": "2021-01-28T11:41:27.946656Z",
     "iopub.status.busy": "2021-01-28T11:41:27.946105Z",
     "iopub.status.idle": "2021-01-28T11:41:42.335476Z",
     "shell.execute_reply": "2021-01-28T11:41:42.334929Z"
    },
    "papermill": {
     "duration": 14.435755,
     "end_time": "2021-01-28T11:41:42.335616",
     "exception": false,
     "start_time": "2021-01-28T11:41:27.899861",
     "status": "completed"
    },
    "tags": []
   },
   "outputs": [
    {
     "name": "stdout",
     "output_type": "stream",
     "text": [
      "Downloading data from https://storage.googleapis.com/keras-applications/efficientnetb3_notop.h5\n",
      "43941888/43941136 [==============================] - 0s 0us/step\n"
     ]
    }
   ],
   "source": [
    "# Build the model\n",
    "base_model = EfficientNetB3(weights='imagenet', \n",
    "                            input_tensor=Input(shape=image_dim), \n",
    "                            include_top=False)\n",
    "\n",
    "model = Model(base_model.input, head(base_model.output),\n",
    "              name='HackerEarth_Holiday_Season_Model')\n",
    "\n",
    "# Load the pre-trained model\n",
    "pretrain_model = load_model('../input/holiday-season-enetb3-mav3/hackerearth_holiday_season_model.h5')\n",
    "\n",
    "# Transfer weights from pre-trained model\n",
    "model.set_weights(pretrain_model.get_weights())\n",
    "\n",
    "# Freeze weights for base model\n",
    "base_model.trainable = False\n",
    "for layer in base_model.layers[-31:]:\n",
    "    if not isinstance(layer, BatchNormalization):\n",
    "        layer.trainable = True\n",
    "\n",
    "# Compile the final model\n",
    "model.compile(loss='categorical_crossentropy', \n",
    "              metrics=[F1Score(num_classes=6, average='weighted'), \n",
    "                       'categorical_accuracy'],\n",
    "              optimizer=Lookahead(AdamW(lr=1e-3, \n",
    "                                        weight_decay=1e-5, \n",
    "                                        clipvalue=700), \n",
    "                                  sync_period=10))\n",
    "\n",
    "early = EarlyStopping(monitor=\"val_loss\", mode=\"min\", patience=10, \n",
    "                      restore_best_weights=True, verbose=1)\n",
    "\n",
    "reduce_lr = ReduceLROnPlateau(monitor=\"val_loss\", factor=0.1, \n",
    "                              min_lr=1e-6, patience=7, \n",
    "                              verbose=1, mode='min')\n",
    "\n",
    "chk_point = ModelCheckpoint('hackerearth_holiday_season_model.h5', \n",
    "                            monitor='val_loss', verbose=1, \n",
    "                            save_best_only=True, mode='min')"
   ]
  },
  {
   "cell_type": "code",
   "execution_count": 16,
   "metadata": {
    "execution": {
     "iopub.execute_input": "2021-01-28T11:41:42.395757Z",
     "iopub.status.busy": "2021-01-28T11:41:42.395012Z",
     "iopub.status.idle": "2021-01-28T12:24:00.842445Z",
     "shell.execute_reply": "2021-01-28T12:24:00.843352Z"
    },
    "papermill": {
     "duration": 2538.481512,
     "end_time": "2021-01-28T12:24:00.843577",
     "exception": false,
     "start_time": "2021-01-28T11:41:42.362065",
     "status": "completed"
    },
    "tags": []
   },
   "outputs": [
    {
     "name": "stdout",
     "output_type": "stream",
     "text": [
      "Epoch 1/275\n",
      "43/43 [==============================] - 175s 3s/step - loss: 0.0761 - f1_score: 0.9290 - categorical_accuracy: 0.9284 - val_loss: 0.2972 - val_f1_score: 0.9204 - val_categorical_accuracy: 0.9207\n",
      "\n",
      "Epoch 00001: val_loss improved from inf to 0.29720, saving model to hackerearth_holiday_season_model.h5\n",
      "Epoch 2/275\n",
      "43/43 [==============================] - 134s 3s/step - loss: 0.0686 - f1_score: 0.9444 - categorical_accuracy: 0.9442 - val_loss: 0.3612 - val_f1_score: 0.9093 - val_categorical_accuracy: 0.9073\n",
      "\n",
      "Epoch 00002: val_loss did not improve from 0.29720\n",
      "Epoch 3/275\n",
      "43/43 [==============================] - 140s 3s/step - loss: 0.0669 - f1_score: 0.9475 - categorical_accuracy: 0.9472 - val_loss: 0.2994 - val_f1_score: 0.9293 - val_categorical_accuracy: 0.9300\n",
      "\n",
      "Epoch 00003: val_loss did not improve from 0.29720\n",
      "Epoch 4/275\n",
      "43/43 [==============================] - 141s 3s/step - loss: 0.0571 - f1_score: 0.9581 - categorical_accuracy: 0.9579 - val_loss: 0.2991 - val_f1_score: 0.9253 - val_categorical_accuracy: 0.9248\n",
      "\n",
      "Epoch 00004: val_loss did not improve from 0.29720\n",
      "Epoch 5/275\n",
      "43/43 [==============================] - 140s 3s/step - loss: 0.0601 - f1_score: 0.9552 - categorical_accuracy: 0.9549 - val_loss: 0.2853 - val_f1_score: 0.9202 - val_categorical_accuracy: 0.9197\n",
      "\n",
      "Epoch 00005: val_loss improved from 0.29720 to 0.28530, saving model to hackerearth_holiday_season_model.h5\n",
      "Epoch 6/275\n",
      "43/43 [==============================] - 136s 3s/step - loss: 0.0573 - f1_score: 0.9627 - categorical_accuracy: 0.9625 - val_loss: 0.3014 - val_f1_score: 0.9230 - val_categorical_accuracy: 0.9228\n",
      "\n",
      "Epoch 00006: val_loss did not improve from 0.28530\n",
      "Epoch 7/275\n",
      "43/43 [==============================] - 139s 3s/step - loss: 0.0527 - f1_score: 0.9644 - categorical_accuracy: 0.9642 - val_loss: 0.2925 - val_f1_score: 0.9255 - val_categorical_accuracy: 0.9258\n",
      "\n",
      "Epoch 00007: val_loss did not improve from 0.28530\n",
      "Epoch 8/275\n",
      "43/43 [==============================] - 138s 3s/step - loss: 0.0571 - f1_score: 0.9624 - categorical_accuracy: 0.9621 - val_loss: 0.2673 - val_f1_score: 0.9241 - val_categorical_accuracy: 0.9238\n",
      "\n",
      "Epoch 00008: val_loss improved from 0.28530 to 0.26728, saving model to hackerearth_holiday_season_model.h5\n",
      "Epoch 9/275\n",
      "43/43 [==============================] - 133s 3s/step - loss: 0.0503 - f1_score: 0.9660 - categorical_accuracy: 0.9657 - val_loss: 0.3256 - val_f1_score: 0.9091 - val_categorical_accuracy: 0.9083\n",
      "\n",
      "Epoch 00009: val_loss did not improve from 0.26728\n",
      "Epoch 10/275\n",
      "43/43 [==============================] - 137s 3s/step - loss: 0.0572 - f1_score: 0.9574 - categorical_accuracy: 0.9572 - val_loss: 0.2754 - val_f1_score: 0.9341 - val_categorical_accuracy: 0.9341\n",
      "\n",
      "Epoch 00010: val_loss did not improve from 0.26728\n",
      "Epoch 11/275\n",
      "43/43 [==============================] - 137s 3s/step - loss: 0.0480 - f1_score: 0.9723 - categorical_accuracy: 0.9721 - val_loss: 0.2826 - val_f1_score: 0.9230 - val_categorical_accuracy: 0.9228\n",
      "\n",
      "Epoch 00011: val_loss did not improve from 0.26728\n",
      "Epoch 12/275\n",
      "43/43 [==============================] - 137s 3s/step - loss: 0.0423 - f1_score: 0.9747 - categorical_accuracy: 0.9747 - val_loss: 0.3094 - val_f1_score: 0.9089 - val_categorical_accuracy: 0.9094\n",
      "\n",
      "Epoch 00012: val_loss did not improve from 0.26728\n",
      "Epoch 13/275\n",
      "43/43 [==============================] - 137s 3s/step - loss: 0.0576 - f1_score: 0.9705 - categorical_accuracy: 0.9705 - val_loss: 0.2964 - val_f1_score: 0.9221 - val_categorical_accuracy: 0.9217\n",
      "\n",
      "Epoch 00013: val_loss did not improve from 0.26728\n",
      "Epoch 14/275\n",
      "43/43 [==============================] - 137s 3s/step - loss: 0.0498 - f1_score: 0.9671 - categorical_accuracy: 0.9668 - val_loss: 0.3124 - val_f1_score: 0.9199 - val_categorical_accuracy: 0.9197\n",
      "\n",
      "Epoch 00014: val_loss did not improve from 0.26728\n",
      "Epoch 15/275\n",
      "43/43 [==============================] - 138s 3s/step - loss: 0.0645 - f1_score: 0.9572 - categorical_accuracy: 0.9569 - val_loss: 0.3304 - val_f1_score: 0.9223 - val_categorical_accuracy: 0.9217\n",
      "\n",
      "Epoch 00015: ReduceLROnPlateau reducing learning rate to 0.00010000000474974513.\n",
      "\n",
      "Epoch 00015: val_loss did not improve from 0.26728\n",
      "Epoch 16/275\n",
      "43/43 [==============================] - 136s 3s/step - loss: 0.0546 - f1_score: 0.9699 - categorical_accuracy: 0.9697 - val_loss: 0.3061 - val_f1_score: 0.9252 - val_categorical_accuracy: 0.9248\n",
      "\n",
      "Epoch 00016: val_loss did not improve from 0.26728\n",
      "Epoch 17/275\n",
      "43/43 [==============================] - 137s 3s/step - loss: 0.0474 - f1_score: 0.9763 - categorical_accuracy: 0.9761 - val_loss: 0.2948 - val_f1_score: 0.9231 - val_categorical_accuracy: 0.9228\n",
      "\n",
      "Epoch 00017: val_loss did not improve from 0.26728\n",
      "Epoch 18/275\n",
      "43/43 [==============================] - 137s 3s/step - loss: 0.0432 - f1_score: 0.9763 - categorical_accuracy: 0.9763 - val_loss: 0.2900 - val_f1_score: 0.9250 - val_categorical_accuracy: 0.9248\n",
      "Restoring model weights from the end of the best epoch.\n",
      "\n",
      "Epoch 00018: val_loss did not improve from 0.26728\n",
      "Epoch 00018: early stopping\n"
     ]
    }
   ],
   "source": [
    "history = model.fit(\n",
    "    train_generator, \n",
    "    steps_per_epoch=steps_per_epoch,\n",
    "    class_weight=class_weight, \n",
    "    epochs=275, \n",
    "    verbose=1, \n",
    "    workers=5,\n",
    "    callbacks=[reduce_lr, early, chk_point], \n",
    "    validation_data=validation_generator,\n",
    "    validation_steps=validation_steps\n",
    ")"
   ]
  },
  {
   "cell_type": "code",
   "execution_count": 17,
   "metadata": {
    "execution": {
     "iopub.execute_input": "2021-01-28T12:24:03.827872Z",
     "iopub.status.busy": "2021-01-28T12:24:03.827129Z",
     "iopub.status.idle": "2021-01-28T12:24:06.906616Z",
     "shell.execute_reply": "2021-01-28T12:24:06.907204Z"
    },
    "papermill": {
     "duration": 4.22682,
     "end_time": "2021-01-28T12:24:06.909315",
     "exception": false,
     "start_time": "2021-01-28T12:24:02.682495",
     "status": "completed"
    },
    "tags": []
   },
   "outputs": [
    {
     "data": {
      "image/png": "[encoded data removed]",
      "text/plain": [
       "<Figure size 2160x720 with 3 Axes>"
      ]
     },
     "metadata": {},
     "output_type": "display_data"
    }
   ],
   "source": [
    "_, ax = plt.subplots(1, 3, figsize=(30, 10))\n",
    "\n",
    "ax[0].plot(history.history['loss'], label='train_loss')\n",
    "ax[0].plot(history.history['val_loss'], label='val_loss')\n",
    "ax[0].set_ylabel('Loss')\n",
    "ax[0].set_xlabel('Epoch')\n",
    "ax[0].set_title(\"Model Loss Curve\")\n",
    "ax[0].legend()\n",
    "ax[0].grid()\n",
    "\n",
    "ax[1].plot(history.history['f1_score'], label='train_f1_score')\n",
    "ax[1].plot(history.history['val_f1_score'], label='val_f1_score')\n",
    "ax[1].set_ylabel('F1-Score')\n",
    "ax[1].set_xlabel('Epoch')\n",
    "ax[1].set_title(\"Model F1-Score Curve\")\n",
    "ax[1].legend()\n",
    "ax[1].grid()\n",
    "\n",
    "ax[2].plot(history.history['categorical_accuracy'], label='train_accuracy')\n",
    "ax[2].plot(history.history['val_categorical_accuracy'], label='val_accuracy')\n",
    "ax[2].set_ylabel('Accuracy')\n",
    "ax[2].set_xlabel('Epoch')\n",
    "ax[2].set_title(\"Model Accuracy Curve\")\n",
    "ax[2].legend()\n",
    "ax[2].grid()"
   ]
  },
  {
   "cell_type": "markdown",
   "metadata": {
    "papermill": {
     "duration": 1.198976,
     "end_time": "2021-01-28T12:24:09.265412",
     "exception": false,
     "start_time": "2021-01-28T12:24:08.066436",
     "status": "completed"
    },
    "tags": []
   },
   "source": [
    "## Check classification report"
   ]
  },
  {
   "cell_type": "code",
   "execution_count": 18,
   "metadata": {
    "execution": {
     "iopub.execute_input": "2021-01-28T12:24:12.400139Z",
     "iopub.status.busy": "2021-01-28T12:24:12.399400Z",
     "iopub.status.idle": "2021-01-28T12:24:24.236772Z",
     "shell.execute_reply": "2021-01-28T12:24:24.237535Z"
    },
    "papermill": {
     "duration": 13.538565,
     "end_time": "2021-01-28T12:24:24.237701",
     "exception": false,
     "start_time": "2021-01-28T12:24:10.699136",
     "status": "completed"
    },
    "tags": []
   },
   "outputs": [],
   "source": [
    "model = load_model('./hackerearth_holiday_season_model.h5')"
   ]
  },
  {
   "cell_type": "code",
   "execution_count": 19,
   "metadata": {
    "execution": {
     "iopub.execute_input": "2021-01-28T12:24:24.987606Z",
     "iopub.status.busy": "2021-01-28T12:24:24.986782Z",
     "iopub.status.idle": "2021-01-28T12:24:34.626736Z",
     "shell.execute_reply": "2021-01-28T12:24:34.625724Z"
    },
    "papermill": {
     "duration": 10.018575,
     "end_time": "2021-01-28T12:24:34.626915",
     "exception": false,
     "start_time": "2021-01-28T12:24:24.608340",
     "status": "completed"
    },
    "tags": []
   },
   "outputs": [
    {
     "name": "stdout",
     "output_type": "stream",
     "text": [
      "8/8 [==============================] - 9s 736ms/step\n",
      "\n",
      "y_true: (971,)\n",
      "y_pred: (971,)\n"
     ]
    }
   ],
   "source": [
    "y_true = np.array([validation_generator.classes]).ravel()\n",
    "y_pred = model.predict(validation_generator, verbose=1)\n",
    "y_pred = np.argmax(y_pred, axis=1)\n",
    "\n",
    "print(\"\\ny_true: {}\".format(y_true.shape))\n",
    "print(\"y_pred: {}\".format(y_pred.shape))"
   ]
  },
  {
   "cell_type": "code",
   "execution_count": 20,
   "metadata": {
    "execution": {
     "iopub.execute_input": "2021-01-28T12:24:35.115524Z",
     "iopub.status.busy": "2021-01-28T12:24:35.113876Z",
     "iopub.status.idle": "2021-01-28T12:24:35.123588Z",
     "shell.execute_reply": "2021-01-28T12:24:35.122777Z"
    },
    "papermill": {
     "duration": 0.254842,
     "end_time": "2021-01-28T12:24:35.123707",
     "exception": false,
     "start_time": "2021-01-28T12:24:34.868865",
     "status": "completed"
    },
    "tags": []
   },
   "outputs": [
    {
     "name": "stdout",
     "output_type": "stream",
     "text": [
      "              precision    recall  f1-score   support\n",
      "\n",
      "           0       0.97      0.88      0.92        80\n",
      "           1       0.88      0.91      0.90        89\n",
      "           2       0.96      0.92      0.94       231\n",
      "           3       0.95      0.94      0.94        96\n",
      "           4       0.92      0.94      0.93       421\n",
      "           5       0.79      0.85      0.82        54\n",
      "\n",
      "    accuracy                           0.92       971\n",
      "   macro avg       0.91      0.91      0.91       971\n",
      "weighted avg       0.93      0.92      0.92       971\n",
      "\n"
     ]
    }
   ],
   "source": [
    "print(classification_report(y_true, y_pred))"
   ]
  },
  {
   "cell_type": "code",
   "execution_count": 21,
   "metadata": {
    "execution": {
     "iopub.execute_input": "2021-01-28T12:24:35.607215Z",
     "iopub.status.busy": "2021-01-28T12:24:35.606346Z",
     "iopub.status.idle": "2021-01-28T12:24:36.038250Z",
     "shell.execute_reply": "2021-01-28T12:24:36.038758Z"
    },
    "papermill": {
     "duration": 0.676813,
     "end_time": "2021-01-28T12:24:36.038932",
     "exception": false,
     "start_time": "2021-01-28T12:24:35.362119",
     "status": "completed"
    },
    "tags": []
   },
   "outputs": [
    {
     "data": {
      "image/png": "[encoded data removed]",
      "text/plain": [
       "<Figure size 864x504 with 2 Axes>"
      ]
     },
     "metadata": {},
     "output_type": "display_data"
    }
   ],
   "source": [
    "cnf_matrix = confusion_matrix(y_true, y_pred, labels=[0, 1, 2, 3, 4, 5])\n",
    "np.set_printoptions(precision=2)\n",
    "plt.figure(figsize=(12,7))\n",
    "plot_confusion_matrix(cnf_matrix, classes=[0, 1, 2, 3, 4, 5])"
   ]
  },
  {
   "cell_type": "markdown",
   "metadata": {
    "papermill": {
     "duration": 0.239463,
     "end_time": "2021-01-28T12:24:36.518938",
     "exception": false,
     "start_time": "2021-01-28T12:24:36.279475",
     "status": "completed"
    },
    "tags": []
   },
   "source": [
    "## Create submission file"
   ]
  },
  {
   "cell_type": "code",
   "execution_count": 22,
   "metadata": {
    "execution": {
     "iopub.execute_input": "2021-01-28T12:24:37.004947Z",
     "iopub.status.busy": "2021-01-28T12:24:37.004111Z",
     "iopub.status.idle": "2021-01-28T12:24:37.006203Z",
     "shell.execute_reply": "2021-01-28T12:24:37.006590Z"
    },
    "papermill": {
     "duration": 0.24792,
     "end_time": "2021-01-28T12:24:37.006727",
     "exception": false,
     "start_time": "2021-01-28T12:24:36.758807",
     "status": "completed"
    },
    "tags": []
   },
   "outputs": [],
   "source": [
    "rev_class_map = {\n",
    "    0: 'Airplane',\n",
    "    1: 'Candle',\n",
    "    2: 'Christmas_Tree',\n",
    "    3: 'Jacket',\n",
    "    4: 'Miscellaneous',\n",
    "    5: 'Snowman'\n",
    "}"
   ]
  },
  {
   "cell_type": "code",
   "execution_count": 23,
   "metadata": {
    "execution": {
     "iopub.execute_input": "2021-01-28T12:24:37.492581Z",
     "iopub.status.busy": "2021-01-28T12:24:37.492009Z",
     "iopub.status.idle": "2021-01-28T12:25:13.787054Z",
     "shell.execute_reply": "2021-01-28T12:25:13.786544Z"
    },
    "papermill": {
     "duration": 36.54029,
     "end_time": "2021-01-28T12:25:13.787179",
     "exception": false,
     "start_time": "2021-01-28T12:24:37.246889",
     "status": "completed"
    },
    "tags": []
   },
   "outputs": [
    {
     "name": "stdout",
     "output_type": "stream",
     "text": [
      "28/28 [==============================] - 34s 1s/step\n",
      "(3489,)\n"
     ]
    }
   ],
   "source": [
    "y_pred_final = model.predict(test_generator, verbose=1)\n",
    "y_pred_final = np.argmax(y_pred_final, axis=1)\n",
    "print(y_pred_final.shape)"
   ]
  },
  {
   "cell_type": "code",
   "execution_count": 24,
   "metadata": {
    "execution": {
     "iopub.execute_input": "2021-01-28T12:25:14.295968Z",
     "iopub.status.busy": "2021-01-28T12:25:14.295443Z",
     "iopub.status.idle": "2021-01-28T12:25:14.301183Z",
     "shell.execute_reply": "2021-01-28T12:25:14.300794Z"
    },
    "papermill": {
     "duration": 0.264208,
     "end_time": "2021-01-28T12:25:14.301346",
     "exception": false,
     "start_time": "2021-01-28T12:25:14.037138",
     "status": "completed"
    },
    "tags": []
   },
   "outputs": [
    {
     "data": {
      "text/html": [
       "<div>\n",
       "<style scoped>\n",
       "    .dataframe tbody tr th:only-of-type {\n",
       "        vertical-align: middle;\n",
       "    }\n",
       "\n",
       "    .dataframe tbody tr th {\n",
       "        vertical-align: top;\n",
       "    }\n",
       "\n",
       "    .dataframe thead th {\n",
       "        text-align: right;\n",
       "    }\n",
       "</style>\n",
       "<table border=\"1\" class=\"dataframe\">\n",
       "  <thead>\n",
       "    <tr style=\"text-align: right;\">\n",
       "      <th></th>\n",
       "      <th>Image</th>\n",
       "      <th>Class</th>\n",
       "    </tr>\n",
       "  </thead>\n",
       "  <tbody>\n",
       "    <tr>\n",
       "      <th>0</th>\n",
       "      <td>image7761.jpg</td>\n",
       "      <td>Miscellaneous</td>\n",
       "    </tr>\n",
       "    <tr>\n",
       "      <th>1</th>\n",
       "      <td>image3202.jpg</td>\n",
       "      <td>Miscellaneous</td>\n",
       "    </tr>\n",
       "    <tr>\n",
       "      <th>2</th>\n",
       "      <td>image688.jpg</td>\n",
       "      <td>Snowman</td>\n",
       "    </tr>\n",
       "    <tr>\n",
       "      <th>3</th>\n",
       "      <td>image233.jpg</td>\n",
       "      <td>Candle</td>\n",
       "    </tr>\n",
       "    <tr>\n",
       "      <th>4</th>\n",
       "      <td>image4332.jpg</td>\n",
       "      <td>Christmas_Tree</td>\n",
       "    </tr>\n",
       "  </tbody>\n",
       "</table>\n",
       "</div>"
      ],
      "text/plain": [
       "           Image           Class\n",
       "0  image7761.jpg   Miscellaneous\n",
       "1  image3202.jpg   Miscellaneous\n",
       "2   image688.jpg         Snowman\n",
       "3   image233.jpg          Candle\n",
       "4  image4332.jpg  Christmas_Tree"
      ]
     },
     "execution_count": 24,
     "metadata": {},
     "output_type": "execute_result"
    }
   ],
   "source": [
    "test_df['Class'] = y_pred_final\n",
    "test_df['Class'] = test_df['Class'].map(rev_class_map)\n",
    "test_df.head()"
   ]
  },
  {
   "cell_type": "code",
   "execution_count": 25,
   "metadata": {
    "execution": {
     "iopub.execute_input": "2021-01-28T12:25:14.802820Z",
     "iopub.status.busy": "2021-01-28T12:25:14.802236Z",
     "iopub.status.idle": "2021-01-28T12:25:14.919906Z",
     "shell.execute_reply": "2021-01-28T12:25:14.919182Z"
    },
    "papermill": {
     "duration": 0.370653,
     "end_time": "2021-01-28T12:25:14.920038",
     "exception": false,
     "start_time": "2021-01-28T12:25:14.549385",
     "status": "completed"
    },
    "tags": []
   },
   "outputs": [],
   "source": [
    "test_df.to_csv(\"/kaggle/working/submission.csv\", index=False)"
   ]
  },
  {
   "cell_type": "code",
   "execution_count": null,
   "metadata": {
    "papermill": {
     "duration": 0.2493,
     "end_time": "2021-01-28T12:25:15.418361",
     "exception": false,
     "start_time": "2021-01-28T12:25:15.169061",
     "status": "completed"
    },
    "tags": []
   },
   "outputs": [],
   "source": []
  }
 ],
 "metadata": {
  "kernelspec": {
   "display_name": "Python 3",
   "language": "python",
   "name": "python3"
  },
  "language_info": {
   "codemirror_mode": {
    "name": "ipython",
    "version": 3
   },
   "file_extension": ".py",
   "mimetype": "text/x-python",
   "name": "python",
   "nbconvert_exporter": "python",
   "pygments_lexer": "ipython3",
   "version": "3.7.9"
  },
  "papermill": {
   "default_parameters": {},
   "duration": 2664.254957,
   "end_time": "2021-01-28T12:25:20.950310",
   "environment_variables": {},
   "exception": null,
   "input_path": "__notebook__.ipynb",
   "output_path": "__notebook__.ipynb",
   "parameters": {},
   "start_time": "2021-01-28T11:40:56.695353",
   "version": "2.2.2"
  }
 },
 "nbformat": 4,
 "nbformat_minor": 4
}
