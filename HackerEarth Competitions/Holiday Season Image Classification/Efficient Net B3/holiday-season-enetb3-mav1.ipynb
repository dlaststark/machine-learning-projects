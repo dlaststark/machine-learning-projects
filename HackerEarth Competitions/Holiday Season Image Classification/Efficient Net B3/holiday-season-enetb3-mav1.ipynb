{
 "cells": [
  {
   "cell_type": "markdown",
   "metadata": {
    "papermill": {
     "duration": 0.021262,
     "end_time": "2021-01-26T16:30:00.930629",
     "exception": false,
     "start_time": "2021-01-26T16:30:00.909367",
     "status": "completed"
    },
    "tags": []
   },
   "source": [
    "## Import Packages"
   ]
  },
  {
   "cell_type": "code",
   "execution_count": 1,
   "metadata": {
    "execution": {
     "iopub.execute_input": "2021-01-26T16:30:00.976955Z",
     "iopub.status.busy": "2021-01-26T16:30:00.976289Z",
     "iopub.status.idle": "2021-01-26T16:30:06.327128Z",
     "shell.execute_reply": "2021-01-26T16:30:06.328111Z"
    },
    "papermill": {
     "duration": 5.378724,
     "end_time": "2021-01-26T16:30:06.328493",
     "exception": false,
     "start_time": "2021-01-26T16:30:00.949769",
     "status": "completed"
    },
    "tags": []
   },
   "outputs": [],
   "source": [
    "import os\n",
    "import itertools\n",
    "import numpy as np\n",
    "import pandas as pd\n",
    "import seaborn as sns\n",
    "from tqdm import tqdm\n",
    "import matplotlib.pyplot as plt\n",
    "from sklearn.metrics import confusion_matrix\n",
    "from sklearn.metrics import classification_report\n",
    "from sklearn.model_selection import StratifiedShuffleSplit\n",
    "\n",
    "import tensorflow as tf\n",
    "from tensorflow.keras import backend as K\n",
    "from tensorflow.keras.regularizers import l2\n",
    "from tensorflow_addons.metrics import F1Score\n",
    "from tensorflow.keras.models import Model, load_model\n",
    "from tensorflow_addons.optimizers import AdamW, Lookahead\n",
    "from tensorflow.keras.callbacks import EarlyStopping\n",
    "from tensorflow.keras.callbacks import ReduceLROnPlateau\n",
    "from tensorflow.keras.callbacks import ModelCheckpoint\n",
    "from tensorflow.keras.applications import EfficientNetB3\n",
    "from tensorflow.keras.layers import Dense, Dropout, Flatten\n",
    "from tensorflow.keras.layers import BatchNormalization, Input\n",
    "from tensorflow.keras.layers import ZeroPadding2D, MaxPooling2D\n",
    "from tensorflow.keras.layers import GlobalAveragePooling2D, Add\n",
    "from tensorflow.keras.layers import GlobalMaxPooling2D, Reshape\n",
    "from tensorflow.keras.layers import Activation, Conv2D, Average\n",
    "from tensorflow.keras.preprocessing.image import ImageDataGenerator"
   ]
  },
  {
   "cell_type": "markdown",
   "metadata": {
    "papermill": {
     "duration": 0.038323,
     "end_time": "2021-01-26T16:30:06.405013",
     "exception": false,
     "start_time": "2021-01-26T16:30:06.366690",
     "status": "completed"
    },
    "tags": []
   },
   "source": [
    "## Helper Functions"
   ]
  },
  {
   "cell_type": "code",
   "execution_count": 2,
   "metadata": {
    "execution": {
     "iopub.execute_input": "2021-01-26T16:30:06.493202Z",
     "iopub.status.busy": "2021-01-26T16:30:06.492458Z",
     "iopub.status.idle": "2021-01-26T16:30:06.496000Z",
     "shell.execute_reply": "2021-01-26T16:30:06.497187Z"
    },
    "papermill": {
     "duration": 0.055296,
     "end_time": "2021-01-26T16:30:06.497357",
     "exception": false,
     "start_time": "2021-01-26T16:30:06.442061",
     "status": "completed"
    },
    "tags": []
   },
   "outputs": [],
   "source": [
    "def plot_confusion_matrix(cm, classes):\n",
    "\n",
    "    plt.imshow(cm, interpolation='nearest', cmap=plt.cm.Blues)\n",
    "    plt.title('Confusion matrix')\n",
    "    plt.colorbar()\n",
    "    tick_marks = np.arange(len(classes))\n",
    "    plt.xticks(tick_marks, classes, rotation=0)\n",
    "    plt.yticks(tick_marks, classes)\n",
    "\n",
    "    thresh = cm.max() / 2.\n",
    "    for i, j in itertools.product(range(cm.shape[0]), range(cm.shape[1])):\n",
    "        plt.text(j, i, format(cm[i, j], 'd'),\n",
    "                 horizontalalignment=\"center\",\n",
    "                 color=\"white\" if cm[i, j] > thresh else \"black\")\n",
    "\n",
    "    plt.ylabel('True label')\n",
    "    plt.xlabel('Predicted label')\n",
    "    plt.tight_layout()"
   ]
  },
  {
   "cell_type": "markdown",
   "metadata": {
    "papermill": {
     "duration": 0.028608,
     "end_time": "2021-01-26T16:30:06.556428",
     "exception": false,
     "start_time": "2021-01-26T16:30:06.527820",
     "status": "completed"
    },
    "tags": []
   },
   "source": [
    "## Read true labels + Basic EDA"
   ]
  },
  {
   "cell_type": "code",
   "execution_count": 3,
   "metadata": {
    "execution": {
     "iopub.execute_input": "2021-01-26T16:30:06.627681Z",
     "iopub.status.busy": "2021-01-26T16:30:06.627113Z",
     "iopub.status.idle": "2021-01-26T16:30:06.665318Z",
     "shell.execute_reply": "2021-01-26T16:30:06.664903Z"
    },
    "papermill": {
     "duration": 0.081761,
     "end_time": "2021-01-26T16:30:06.665428",
     "exception": false,
     "start_time": "2021-01-26T16:30:06.583667",
     "status": "completed"
    },
    "tags": []
   },
   "outputs": [
    {
     "data": {
      "text/html": [
       "<div>\n",
       "<style scoped>\n",
       "    .dataframe tbody tr th:only-of-type {\n",
       "        vertical-align: middle;\n",
       "    }\n",
       "\n",
       "    .dataframe tbody tr th {\n",
       "        vertical-align: top;\n",
       "    }\n",
       "\n",
       "    .dataframe thead th {\n",
       "        text-align: right;\n",
       "    }\n",
       "</style>\n",
       "<table border=\"1\" class=\"dataframe\">\n",
       "  <thead>\n",
       "    <tr style=\"text-align: right;\">\n",
       "      <th></th>\n",
       "      <th>Image</th>\n",
       "      <th>Class</th>\n",
       "    </tr>\n",
       "  </thead>\n",
       "  <tbody>\n",
       "    <tr>\n",
       "      <th>0</th>\n",
       "      <td>image3476.jpg</td>\n",
       "      <td>Miscellaneous</td>\n",
       "    </tr>\n",
       "    <tr>\n",
       "      <th>1</th>\n",
       "      <td>image5198.jpg</td>\n",
       "      <td>Candle</td>\n",
       "    </tr>\n",
       "    <tr>\n",
       "      <th>2</th>\n",
       "      <td>image4183.jpg</td>\n",
       "      <td>Snowman</td>\n",
       "    </tr>\n",
       "    <tr>\n",
       "      <th>3</th>\n",
       "      <td>image1806.jpg</td>\n",
       "      <td>Miscellaneous</td>\n",
       "    </tr>\n",
       "    <tr>\n",
       "      <th>4</th>\n",
       "      <td>image7831.jpg</td>\n",
       "      <td>Miscellaneous</td>\n",
       "    </tr>\n",
       "  </tbody>\n",
       "</table>\n",
       "</div>"
      ],
      "text/plain": [
       "           Image          Class\n",
       "0  image3476.jpg  Miscellaneous\n",
       "1  image5198.jpg         Candle\n",
       "2  image4183.jpg        Snowman\n",
       "3  image1806.jpg  Miscellaneous\n",
       "4  image7831.jpg  Miscellaneous"
      ]
     },
     "execution_count": 3,
     "metadata": {},
     "output_type": "execute_result"
    }
   ],
   "source": [
    "train_df = pd.read_csv(\"../input/hackereath-holiday-season-deep-learning-contest/dataset/train.csv\")\n",
    "train_df.head()"
   ]
  },
  {
   "cell_type": "code",
   "execution_count": 4,
   "metadata": {
    "execution": {
     "iopub.execute_input": "2021-01-26T16:30:06.746563Z",
     "iopub.status.busy": "2021-01-26T16:30:06.745805Z",
     "iopub.status.idle": "2021-01-26T16:30:06.747863Z",
     "shell.execute_reply": "2021-01-26T16:30:06.747262Z"
    },
    "papermill": {
     "duration": 0.056716,
     "end_time": "2021-01-26T16:30:06.747997",
     "exception": false,
     "start_time": "2021-01-26T16:30:06.691281",
     "status": "completed"
    },
    "tags": []
   },
   "outputs": [],
   "source": [
    "class_map = {\n",
    "    'Airplane': 0,\n",
    "    'Candle': 1,\n",
    "    'Christmas_Tree': 2,\n",
    "    'Jacket': 3,\n",
    "    'Miscellaneous': 4,\n",
    "    'Snowman': 5\n",
    "}"
   ]
  },
  {
   "cell_type": "code",
   "execution_count": 5,
   "metadata": {
    "execution": {
     "iopub.execute_input": "2021-01-26T16:30:06.820146Z",
     "iopub.status.busy": "2021-01-26T16:30:06.819436Z",
     "iopub.status.idle": "2021-01-26T16:30:06.846233Z",
     "shell.execute_reply": "2021-01-26T16:30:06.847197Z"
    },
    "papermill": {
     "duration": 0.069947,
     "end_time": "2021-01-26T16:30:06.847356",
     "exception": false,
     "start_time": "2021-01-26T16:30:06.777409",
     "status": "completed"
    },
    "tags": []
   },
   "outputs": [
    {
     "data": {
      "text/html": [
       "<div>\n",
       "<style scoped>\n",
       "    .dataframe tbody tr th:only-of-type {\n",
       "        vertical-align: middle;\n",
       "    }\n",
       "\n",
       "    .dataframe tbody tr th {\n",
       "        vertical-align: top;\n",
       "    }\n",
       "\n",
       "    .dataframe thead th {\n",
       "        text-align: right;\n",
       "    }\n",
       "</style>\n",
       "<table border=\"1\" class=\"dataframe\">\n",
       "  <thead>\n",
       "    <tr style=\"text-align: right;\">\n",
       "      <th></th>\n",
       "      <th>Class</th>\n",
       "      <th>Class_enc</th>\n",
       "      <th>Count</th>\n",
       "    </tr>\n",
       "  </thead>\n",
       "  <tbody>\n",
       "    <tr>\n",
       "      <th>0</th>\n",
       "      <td>Airplane</td>\n",
       "      <td>0</td>\n",
       "      <td>535</td>\n",
       "    </tr>\n",
       "    <tr>\n",
       "      <th>1</th>\n",
       "      <td>Candle</td>\n",
       "      <td>1</td>\n",
       "      <td>593</td>\n",
       "    </tr>\n",
       "    <tr>\n",
       "      <th>2</th>\n",
       "      <td>Christmas_Tree</td>\n",
       "      <td>2</td>\n",
       "      <td>1539</td>\n",
       "    </tr>\n",
       "    <tr>\n",
       "      <th>3</th>\n",
       "      <td>Jacket</td>\n",
       "      <td>3</td>\n",
       "      <td>640</td>\n",
       "    </tr>\n",
       "    <tr>\n",
       "      <th>4</th>\n",
       "      <td>Miscellaneous</td>\n",
       "      <td>4</td>\n",
       "      <td>2801</td>\n",
       "    </tr>\n",
       "    <tr>\n",
       "      <th>5</th>\n",
       "      <td>Snowman</td>\n",
       "      <td>5</td>\n",
       "      <td>361</td>\n",
       "    </tr>\n",
       "  </tbody>\n",
       "</table>\n",
       "</div>"
      ],
      "text/plain": [
       "            Class Class_enc  Count\n",
       "0        Airplane         0    535\n",
       "1          Candle         1    593\n",
       "2  Christmas_Tree         2   1539\n",
       "3          Jacket         3    640\n",
       "4   Miscellaneous         4   2801\n",
       "5         Snowman         5    361"
      ]
     },
     "execution_count": 5,
     "metadata": {},
     "output_type": "execute_result"
    }
   ],
   "source": [
    "train_df['Class_enc'] = train_df['Class'].map(class_map)\n",
    "train_df['Class_enc'] = train_df['Class_enc'].astype('str')\n",
    "train_df.groupby(['Class','Class_enc']).size().reset_index().rename(columns={0:'Count'})"
   ]
  },
  {
   "cell_type": "code",
   "execution_count": 6,
   "metadata": {
    "execution": {
     "iopub.execute_input": "2021-01-26T16:30:06.920146Z",
     "iopub.status.busy": "2021-01-26T16:30:06.919438Z",
     "iopub.status.idle": "2021-01-26T16:30:07.133448Z",
     "shell.execute_reply": "2021-01-26T16:30:07.132563Z"
    },
    "papermill": {
     "duration": 0.253574,
     "end_time": "2021-01-26T16:30:07.133582",
     "exception": false,
     "start_time": "2021-01-26T16:30:06.880008",
     "status": "completed"
    },
    "tags": []
   },
   "outputs": [
    {
     "data": {
      "image/png": "[encoded data removed]",
      "text/plain": [
       "<Figure size 864x504 with 1 Axes>"
      ]
     },
     "metadata": {
      "needs_background": "light"
     },
     "output_type": "display_data"
    }
   ],
   "source": [
    "plt.figure(figsize=(12,7))\n",
    "sns.set(style=\"darkgrid\")\n",
    "ax = sns.countplot(x=\"Class\", data=train_df)"
   ]
  },
  {
   "cell_type": "code",
   "execution_count": 7,
   "metadata": {
    "execution": {
     "iopub.execute_input": "2021-01-26T16:30:07.179606Z",
     "iopub.status.busy": "2021-01-26T16:30:07.178966Z",
     "iopub.status.idle": "2021-01-26T16:30:07.276760Z",
     "shell.execute_reply": "2021-01-26T16:30:07.276315Z"
    },
    "papermill": {
     "duration": 0.122507,
     "end_time": "2021-01-26T16:30:07.276873",
     "exception": false,
     "start_time": "2021-01-26T16:30:07.154366",
     "status": "completed"
    },
    "tags": []
   },
   "outputs": [
    {
     "name": "stderr",
     "output_type": "stream",
     "text": [
      "100%|██████████| 3489/3489 [00:00<00:00, 1658047.43it/s]\n"
     ]
    },
    {
     "data": {
      "text/html": [
       "<div>\n",
       "<style scoped>\n",
       "    .dataframe tbody tr th:only-of-type {\n",
       "        vertical-align: middle;\n",
       "    }\n",
       "\n",
       "    .dataframe tbody tr th {\n",
       "        vertical-align: top;\n",
       "    }\n",
       "\n",
       "    .dataframe thead th {\n",
       "        text-align: right;\n",
       "    }\n",
       "</style>\n",
       "<table border=\"1\" class=\"dataframe\">\n",
       "  <thead>\n",
       "    <tr style=\"text-align: right;\">\n",
       "      <th></th>\n",
       "      <th>Image</th>\n",
       "      <th>Class</th>\n",
       "    </tr>\n",
       "  </thead>\n",
       "  <tbody>\n",
       "    <tr>\n",
       "      <th>0</th>\n",
       "      <td>image7761.jpg</td>\n",
       "      <td>0</td>\n",
       "    </tr>\n",
       "    <tr>\n",
       "      <th>1</th>\n",
       "      <td>image3202.jpg</td>\n",
       "      <td>0</td>\n",
       "    </tr>\n",
       "    <tr>\n",
       "      <th>2</th>\n",
       "      <td>image688.jpg</td>\n",
       "      <td>0</td>\n",
       "    </tr>\n",
       "    <tr>\n",
       "      <th>3</th>\n",
       "      <td>image233.jpg</td>\n",
       "      <td>0</td>\n",
       "    </tr>\n",
       "    <tr>\n",
       "      <th>4</th>\n",
       "      <td>image4332.jpg</td>\n",
       "      <td>0</td>\n",
       "    </tr>\n",
       "  </tbody>\n",
       "</table>\n",
       "</div>"
      ],
      "text/plain": [
       "           Image Class\n",
       "0  image7761.jpg     0\n",
       "1  image3202.jpg     0\n",
       "2   image688.jpg     0\n",
       "3   image233.jpg     0\n",
       "4  image4332.jpg     0"
      ]
     },
     "execution_count": 7,
     "metadata": {},
     "output_type": "execute_result"
    }
   ],
   "source": [
    "test_dir = \"../input/hackereath-holiday-season-deep-learning-contest/dataset/test\"\n",
    "test_files = []\n",
    "\n",
    "for file in tqdm(os.listdir(test_dir)):\n",
    "    test_files.append(file)\n",
    "\n",
    "test_df = pd.DataFrame(test_files, columns=['Image'])\n",
    "test_df['Class'] = '0'\n",
    "test_df.head()"
   ]
  },
  {
   "cell_type": "markdown",
   "metadata": {
    "papermill": {
     "duration": 0.021927,
     "end_time": "2021-01-26T16:30:07.320455",
     "exception": false,
     "start_time": "2021-01-26T16:30:07.298528",
     "status": "completed"
    },
    "tags": []
   },
   "source": [
    "## Calculate class-weights"
   ]
  },
  {
   "cell_type": "code",
   "execution_count": 8,
   "metadata": {
    "execution": {
     "iopub.execute_input": "2021-01-26T16:30:07.370322Z",
     "iopub.status.busy": "2021-01-26T16:30:07.369546Z",
     "iopub.status.idle": "2021-01-26T16:30:07.394778Z",
     "shell.execute_reply": "2021-01-26T16:30:07.394342Z"
    },
    "papermill": {
     "duration": 0.052782,
     "end_time": "2021-01-26T16:30:07.394891",
     "exception": false,
     "start_time": "2021-01-26T16:30:07.342109",
     "status": "completed"
    },
    "tags": []
   },
   "outputs": [
    {
     "data": {
      "text/plain": [
       "{0: 0.6747663551401869,\n",
       " 1: 0.6087689713322091,\n",
       " 2: 0.23456790123456786,\n",
       " 3: 0.5640625,\n",
       " 4: 0.12888254194930382,\n",
       " 5: 1.0}"
      ]
     },
     "execution_count": 8,
     "metadata": {},
     "output_type": "execute_result"
    }
   ],
   "source": [
    "temp_df = train_df.groupby(['Class_enc']).size().reset_index().rename(columns={0:'count'})\n",
    "total_count = np.sum(temp_df['count'].values)\n",
    "temp_df['class%'] = (temp_df['count'] / total_count) * 100\n",
    "lowest_pct = min(temp_df['class%'])\n",
    "temp_df['class_weight'] = lowest_pct / temp_df['class%']\n",
    "class_weight = temp_df[['Class_enc', 'class_weight']].to_dict()['class_weight']\n",
    "class_weight"
   ]
  },
  {
   "cell_type": "markdown",
   "metadata": {
    "papermill": {
     "duration": 0.021524,
     "end_time": "2021-01-26T16:30:07.438268",
     "exception": false,
     "start_time": "2021-01-26T16:30:07.416744",
     "status": "completed"
    },
    "tags": []
   },
   "source": [
    "## Split training data into train/validation datasets"
   ]
  },
  {
   "cell_type": "code",
   "execution_count": 9,
   "metadata": {
    "execution": {
     "iopub.execute_input": "2021-01-26T16:30:07.494258Z",
     "iopub.status.busy": "2021-01-26T16:30:07.493750Z",
     "iopub.status.idle": "2021-01-26T16:30:07.506145Z",
     "shell.execute_reply": "2021-01-26T16:30:07.505717Z"
    },
    "papermill": {
     "duration": 0.045947,
     "end_time": "2021-01-26T16:30:07.506245",
     "exception": false,
     "start_time": "2021-01-26T16:30:07.460298",
     "status": "completed"
    },
    "tags": []
   },
   "outputs": [
    {
     "name": "stdout",
     "output_type": "stream",
     "text": [
      "train_df shape: (5498, 3)\n",
      "validation_df shape: (971, 3)\n"
     ]
    }
   ],
   "source": [
    "sss = StratifiedShuffleSplit(n_splits=1, test_size=0.15, random_state=1)\n",
    "for train_index, validation_index in sss.split(train_df['Image'], train_df['Class_enc']):\n",
    "    train_df, validation_df = train_df.iloc[train_index], train_df.iloc[validation_index]\n",
    "\n",
    "print(\"train_df shape: {}\".format(train_df.shape))\n",
    "print(\"validation_df shape: {}\".format(validation_df.shape))"
   ]
  },
  {
   "cell_type": "code",
   "execution_count": 10,
   "metadata": {
    "execution": {
     "iopub.execute_input": "2021-01-26T16:30:07.555587Z",
     "iopub.status.busy": "2021-01-26T16:30:07.555103Z",
     "iopub.status.idle": "2021-01-26T16:30:07.568315Z",
     "shell.execute_reply": "2021-01-26T16:30:07.567496Z"
    },
    "papermill": {
     "duration": 0.039596,
     "end_time": "2021-01-26T16:30:07.568422",
     "exception": false,
     "start_time": "2021-01-26T16:30:07.528826",
     "status": "completed"
    },
    "tags": []
   },
   "outputs": [
    {
     "data": {
      "text/html": [
       "<div>\n",
       "<style scoped>\n",
       "    .dataframe tbody tr th:only-of-type {\n",
       "        vertical-align: middle;\n",
       "    }\n",
       "\n",
       "    .dataframe tbody tr th {\n",
       "        vertical-align: top;\n",
       "    }\n",
       "\n",
       "    .dataframe thead th {\n",
       "        text-align: right;\n",
       "    }\n",
       "</style>\n",
       "<table border=\"1\" class=\"dataframe\">\n",
       "  <thead>\n",
       "    <tr style=\"text-align: right;\">\n",
       "      <th></th>\n",
       "      <th>Class</th>\n",
       "      <th>Class_enc</th>\n",
       "      <th>Count</th>\n",
       "    </tr>\n",
       "  </thead>\n",
       "  <tbody>\n",
       "    <tr>\n",
       "      <th>0</th>\n",
       "      <td>Airplane</td>\n",
       "      <td>0</td>\n",
       "      <td>455</td>\n",
       "    </tr>\n",
       "    <tr>\n",
       "      <th>1</th>\n",
       "      <td>Candle</td>\n",
       "      <td>1</td>\n",
       "      <td>504</td>\n",
       "    </tr>\n",
       "    <tr>\n",
       "      <th>2</th>\n",
       "      <td>Christmas_Tree</td>\n",
       "      <td>2</td>\n",
       "      <td>1308</td>\n",
       "    </tr>\n",
       "    <tr>\n",
       "      <th>3</th>\n",
       "      <td>Jacket</td>\n",
       "      <td>3</td>\n",
       "      <td>544</td>\n",
       "    </tr>\n",
       "    <tr>\n",
       "      <th>4</th>\n",
       "      <td>Miscellaneous</td>\n",
       "      <td>4</td>\n",
       "      <td>2380</td>\n",
       "    </tr>\n",
       "    <tr>\n",
       "      <th>5</th>\n",
       "      <td>Snowman</td>\n",
       "      <td>5</td>\n",
       "      <td>307</td>\n",
       "    </tr>\n",
       "  </tbody>\n",
       "</table>\n",
       "</div>"
      ],
      "text/plain": [
       "            Class Class_enc  Count\n",
       "0        Airplane         0    455\n",
       "1          Candle         1    504\n",
       "2  Christmas_Tree         2   1308\n",
       "3          Jacket         3    544\n",
       "4   Miscellaneous         4   2380\n",
       "5         Snowman         5    307"
      ]
     },
     "execution_count": 10,
     "metadata": {},
     "output_type": "execute_result"
    }
   ],
   "source": [
    "train_df.groupby(['Class','Class_enc']).size().reset_index().rename(columns={0:'Count'})"
   ]
  },
  {
   "cell_type": "code",
   "execution_count": 11,
   "metadata": {
    "execution": {
     "iopub.execute_input": "2021-01-26T16:30:07.619963Z",
     "iopub.status.busy": "2021-01-26T16:30:07.619044Z",
     "iopub.status.idle": "2021-01-26T16:30:07.629670Z",
     "shell.execute_reply": "2021-01-26T16:30:07.629278Z"
    },
    "papermill": {
     "duration": 0.038438,
     "end_time": "2021-01-26T16:30:07.629790",
     "exception": false,
     "start_time": "2021-01-26T16:30:07.591352",
     "status": "completed"
    },
    "tags": []
   },
   "outputs": [
    {
     "data": {
      "text/html": [
       "<div>\n",
       "<style scoped>\n",
       "    .dataframe tbody tr th:only-of-type {\n",
       "        vertical-align: middle;\n",
       "    }\n",
       "\n",
       "    .dataframe tbody tr th {\n",
       "        vertical-align: top;\n",
       "    }\n",
       "\n",
       "    .dataframe thead th {\n",
       "        text-align: right;\n",
       "    }\n",
       "</style>\n",
       "<table border=\"1\" class=\"dataframe\">\n",
       "  <thead>\n",
       "    <tr style=\"text-align: right;\">\n",
       "      <th></th>\n",
       "      <th>Class</th>\n",
       "      <th>Class_enc</th>\n",
       "      <th>Count</th>\n",
       "    </tr>\n",
       "  </thead>\n",
       "  <tbody>\n",
       "    <tr>\n",
       "      <th>0</th>\n",
       "      <td>Airplane</td>\n",
       "      <td>0</td>\n",
       "      <td>80</td>\n",
       "    </tr>\n",
       "    <tr>\n",
       "      <th>1</th>\n",
       "      <td>Candle</td>\n",
       "      <td>1</td>\n",
       "      <td>89</td>\n",
       "    </tr>\n",
       "    <tr>\n",
       "      <th>2</th>\n",
       "      <td>Christmas_Tree</td>\n",
       "      <td>2</td>\n",
       "      <td>231</td>\n",
       "    </tr>\n",
       "    <tr>\n",
       "      <th>3</th>\n",
       "      <td>Jacket</td>\n",
       "      <td>3</td>\n",
       "      <td>96</td>\n",
       "    </tr>\n",
       "    <tr>\n",
       "      <th>4</th>\n",
       "      <td>Miscellaneous</td>\n",
       "      <td>4</td>\n",
       "      <td>421</td>\n",
       "    </tr>\n",
       "    <tr>\n",
       "      <th>5</th>\n",
       "      <td>Snowman</td>\n",
       "      <td>5</td>\n",
       "      <td>54</td>\n",
       "    </tr>\n",
       "  </tbody>\n",
       "</table>\n",
       "</div>"
      ],
      "text/plain": [
       "            Class Class_enc  Count\n",
       "0        Airplane         0     80\n",
       "1          Candle         1     89\n",
       "2  Christmas_Tree         2    231\n",
       "3          Jacket         3     96\n",
       "4   Miscellaneous         4    421\n",
       "5         Snowman         5     54"
      ]
     },
     "execution_count": 11,
     "metadata": {},
     "output_type": "execute_result"
    }
   ],
   "source": [
    "validation_df.groupby(['Class','Class_enc']).size().reset_index().rename(columns={0:'Count'})"
   ]
  },
  {
   "cell_type": "markdown",
   "metadata": {
    "papermill": {
     "duration": 0.022611,
     "end_time": "2021-01-26T16:30:07.675025",
     "exception": false,
     "start_time": "2021-01-26T16:30:07.652414",
     "status": "completed"
    },
    "tags": []
   },
   "source": [
    "## Model Hyperparameters"
   ]
  },
  {
   "cell_type": "code",
   "execution_count": 12,
   "metadata": {
    "execution": {
     "iopub.execute_input": "2021-01-26T16:30:07.725905Z",
     "iopub.status.busy": "2021-01-26T16:30:07.725299Z",
     "iopub.status.idle": "2021-01-26T16:30:07.728668Z",
     "shell.execute_reply": "2021-01-26T16:30:07.729240Z"
    },
    "papermill": {
     "duration": 0.031418,
     "end_time": "2021-01-26T16:30:07.729369",
     "exception": false,
     "start_time": "2021-01-26T16:30:07.697951",
     "status": "completed"
    },
    "tags": []
   },
   "outputs": [],
   "source": [
    "dataset_dir = \"../input/hackereath-holiday-season-deep-learning-contest/dataset/\"\n",
    "mini_batch_size = 128\n",
    "steps_per_epoch = int(np.ceil(train_df.shape[0] / float(mini_batch_size)))\n",
    "validation_steps = int(np.ceil(validation_df.shape[0] / float(mini_batch_size)))\n",
    "test_steps = int(np.ceil(test_df.shape[0] / float(mini_batch_size)))\n",
    "image_dim = (160, 160, 3)"
   ]
  },
  {
   "cell_type": "markdown",
   "metadata": {
    "papermill": {
     "duration": 0.023153,
     "end_time": "2021-01-26T16:30:07.775367",
     "exception": false,
     "start_time": "2021-01-26T16:30:07.752214",
     "status": "completed"
    },
    "tags": []
   },
   "source": [
    "## Configure image generators"
   ]
  },
  {
   "cell_type": "code",
   "execution_count": 13,
   "metadata": {
    "execution": {
     "iopub.execute_input": "2021-01-26T16:30:07.844069Z",
     "iopub.status.busy": "2021-01-26T16:30:07.843336Z",
     "iopub.status.idle": "2021-01-26T16:30:13.518866Z",
     "shell.execute_reply": "2021-01-26T16:30:13.519453Z"
    },
    "papermill": {
     "duration": 5.721455,
     "end_time": "2021-01-26T16:30:13.519654",
     "exception": false,
     "start_time": "2021-01-26T16:30:07.798199",
     "status": "completed"
    },
    "tags": []
   },
   "outputs": [
    {
     "name": "stdout",
     "output_type": "stream",
     "text": [
      "Found 5498 validated image filenames belonging to 6 classes.\n",
      "Found 971 validated image filenames belonging to 6 classes.\n",
      "Found 3489 validated image filenames belonging to 1 classes.\n"
     ]
    }
   ],
   "source": [
    "train_datagen = ImageDataGenerator(rotation_range = 30,\n",
    "                                   zoom_range = 0.2,\n",
    "                                   horizontal_flip = True,\n",
    "                                   fill_mode = 'nearest',\n",
    "                                   height_shift_range = 0.1,\n",
    "                                   width_shift_range = 0.1)\n",
    "\n",
    "train_generator = train_datagen.flow_from_dataframe(train_df,\n",
    "                                                    directory = os.path.join(dataset_dir,\"train\"),\n",
    "                                                    x_col = \"Image\", \n",
    "                                                    y_col = \"Class_enc\",\n",
    "                                                    target_size = (image_dim[0], image_dim[1]),\n",
    "                                                    batch_size = mini_batch_size,\n",
    "                                                    class_mode = \"categorical\",\n",
    "                                                    interpolation=\"bicubic\")\n",
    "\n",
    "validation_datagen = ImageDataGenerator()\n",
    "\n",
    "validation_generator = validation_datagen.flow_from_dataframe(validation_df,\n",
    "                                                              directory = os.path.join(dataset_dir,\"train\"),\n",
    "                                                              x_col = \"Image\",\n",
    "                                                              y_col = \"Class_enc\",\n",
    "                                                              shuffle=False,\n",
    "                                                              target_size = (image_dim[0], image_dim[1]),\n",
    "                                                              batch_size = mini_batch_size,\n",
    "                                                              class_mode = \"categorical\",\n",
    "                                                              interpolation=\"bicubic\")\n",
    "\n",
    "test_datagen = ImageDataGenerator()\n",
    "\n",
    "test_generator = test_datagen.flow_from_dataframe(test_df,\n",
    "                                                  directory = os.path.join(dataset_dir,\"test\"),\n",
    "                                                  x_col = \"Image\",\n",
    "                                                  y_col = \"Class\",\n",
    "                                                  shuffle=False,\n",
    "                                                  target_size = (image_dim[0], image_dim[1]),\n",
    "                                                  batch_size = mini_batch_size,\n",
    "                                                  class_mode = \"categorical\",\n",
    "                                                  interpolation=\"bicubic\")"
   ]
  },
  {
   "cell_type": "markdown",
   "metadata": {
    "papermill": {
     "duration": 0.023686,
     "end_time": "2021-01-26T16:30:13.568472",
     "exception": false,
     "start_time": "2021-01-26T16:30:13.544786",
     "status": "completed"
    },
    "tags": []
   },
   "source": [
    "## Build and validate the model"
   ]
  },
  {
   "cell_type": "code",
   "execution_count": 14,
   "metadata": {
    "execution": {
     "iopub.execute_input": "2021-01-26T16:30:13.636527Z",
     "iopub.status.busy": "2021-01-26T16:30:13.623518Z",
     "iopub.status.idle": "2021-01-26T16:30:13.639132Z",
     "shell.execute_reply": "2021-01-26T16:30:13.638724Z"
    },
    "papermill": {
     "duration": 0.047108,
     "end_time": "2021-01-26T16:30:13.639238",
     "exception": false,
     "start_time": "2021-01-26T16:30:13.592130",
     "status": "completed"
    },
    "tags": []
   },
   "outputs": [],
   "source": [
    "def head(x_input, input_shape=1536, ratio=8):\n",
    "    \n",
    "    #=======================================================\n",
    "    #                    Channel Attention\n",
    "    #=======================================================\n",
    "    gapavg = GlobalAveragePooling2D()(x_input)\n",
    "    gapavg = Reshape((1, 1, gapavg.shape[1]))(gapavg)\n",
    "    gapavg = Conv2D(input_shape//ratio, \n",
    "                    kernel_size=1, strides=1, use_bias=True, \n",
    "                    padding='same', kernel_regularizer=l2(0.001), \n",
    "                    kernel_initializer='he_normal')(gapavg)\n",
    "    gapavg = BatchNormalization()(gapavg)\n",
    "    gapavg = Activation('relu')(gapavg)\n",
    "    gapavg_out = Conv2D(input_shape, kernel_size=1, \n",
    "                        strides=1, padding='same', use_bias=True, \n",
    "                        kernel_regularizer=l2(0.001), \n",
    "                        kernel_initializer='he_normal')(gapavg)\n",
    "    gapavg_out = BatchNormalization()(gapavg_out)\n",
    "    gapavg_out = Activation('relu')(gapavg_out)\n",
    "\n",
    "\n",
    "    gmpmax = GlobalMaxPooling2D()(x_input)\n",
    "    gmpmax = Reshape((1, 1, gmpmax.shape[1]))(gmpmax)\n",
    "    gmpmax = Conv2D(input_shape//ratio, \n",
    "                    kernel_size=1, strides=1, use_bias=True, \n",
    "                    padding='same', kernel_regularizer=l2(0.001), \n",
    "                    kernel_initializer='he_normal')(gmpmax)\n",
    "    gmpmax = BatchNormalization()(gmpmax)\n",
    "    gmpmax = Activation('relu')(gmpmax)\n",
    "    gmpmax_out = Conv2D(input_shape, kernel_size=1, \n",
    "                        strides=1, padding='same', use_bias=True, \n",
    "                        kernel_regularizer=l2(0.001), \n",
    "                        kernel_initializer='he_normal')(gmpmax)\n",
    "    gmpmax_out = BatchNormalization()(gmpmax_out)\n",
    "    gmpmax_out = Activation('relu')(gmpmax_out)\n",
    "    canx = x_input * tf.math.sigmoid(gapavg_out + gmpmax_out)\n",
    "\n",
    "\n",
    "    #=======================================================\n",
    "    #                    Spatial Attention\n",
    "    #=======================================================\n",
    "    avg_out = tf.reduce_mean(canx, axis=3)\n",
    "    max_out = tf.reduce_max(canx,  axis=3)\n",
    "    x = tf.stack([avg_out, max_out], axis=3)\n",
    "    \n",
    "    x = Conv2D(filters=64, kernel_size=3, strides=1, \n",
    "               padding='same', use_bias=False, \n",
    "               kernel_regularizer=l2(0.001), \n",
    "               kernel_initializer='he_normal')(x)\n",
    "    x = BatchNormalization()(x)\n",
    "    x = Activation('relu')(x)\n",
    "\n",
    "    x = Conv2D(filters=32, kernel_size=3, strides=1, \n",
    "               padding='same', use_bias=False, \n",
    "               kernel_regularizer=l2(0.001), \n",
    "               kernel_initializer='he_normal')(x)\n",
    "    x = BatchNormalization()(x)\n",
    "    x = Activation('relu')(x)\n",
    "\n",
    "    x = Conv2D(filters=16, kernel_size=3, strides=1, \n",
    "               padding='same', use_bias=False, \n",
    "               kernel_regularizer=l2(0.001), \n",
    "               kernel_initializer='he_normal')(x)\n",
    "    x = BatchNormalization()(x)\n",
    "    x = Activation('relu')(x)\n",
    "\n",
    "    x = Conv2D(filters=1, kernel_size=3, strides=1, \n",
    "               padding='same', use_bias=False, \n",
    "               kernel_regularizer=l2(0.001), \n",
    "               kernel_initializer='he_normal')(x)\n",
    "    x = BatchNormalization()(x)\n",
    "    x = Activation('sigmoid')(x)\n",
    "    spnx1 = canx * x\n",
    "    spnx2 = x\n",
    "    \n",
    "    gapx   = GlobalAveragePooling2D()(spnx1)\n",
    "    wvgx   = GlobalAveragePooling2D()(spnx2)\n",
    "    gapavg = Average()([gapx, wvgx])\n",
    "    x = BatchNormalization()(gapavg)\n",
    "\n",
    "\n",
    "    #=======================================================\n",
    "    #                    Tail of the model\n",
    "    #=======================================================\n",
    "\n",
    "    x = Dense(units=2048, kernel_regularizer=l2(0.0001), \n",
    "              kernel_initializer='he_uniform')(x)\n",
    "    x = BatchNormalization()(x)\n",
    "    x = Activation('relu')(x)\n",
    "    x = Dropout(rate=0.5)(x)\n",
    "    \n",
    "    x = Dense(units=1024, kernel_regularizer=l2(0.0001), \n",
    "              kernel_initializer='he_uniform')(x)\n",
    "    x = BatchNormalization()(x)\n",
    "    x = Activation('relu')(x)\n",
    "    x = Dropout(rate=0.5)(x)\n",
    "    \n",
    "    x = Dense(units=1024, kernel_regularizer=l2(0.0001), \n",
    "              kernel_initializer='he_uniform')(x)\n",
    "    x = BatchNormalization()(x)\n",
    "    x = Activation('relu')(x)\n",
    "    x = Dropout(rate=0.5)(x)\n",
    "    \n",
    "    x = Dense(units=512, kernel_regularizer=l2(0.0001), \n",
    "              kernel_initializer='he_uniform')(x)\n",
    "    x = BatchNormalization()(x)\n",
    "    x = Activation('relu')(x)\n",
    "    x = Dropout(rate=0.5)(x)\n",
    "    \n",
    "    x = Dense(units=6, activation='softmax', \n",
    "              kernel_initializer='he_uniform')(x)\n",
    "\n",
    "    return x"
   ]
  },
  {
   "cell_type": "code",
   "execution_count": 15,
   "metadata": {
    "execution": {
     "iopub.execute_input": "2021-01-26T16:30:13.693659Z",
     "iopub.status.busy": "2021-01-26T16:30:13.693141Z",
     "iopub.status.idle": "2021-01-26T16:30:19.775949Z",
     "shell.execute_reply": "2021-01-26T16:30:19.775044Z"
    },
    "papermill": {
     "duration": 6.113218,
     "end_time": "2021-01-26T16:30:19.776098",
     "exception": false,
     "start_time": "2021-01-26T16:30:13.662880",
     "status": "completed"
    },
    "tags": []
   },
   "outputs": [
    {
     "name": "stdout",
     "output_type": "stream",
     "text": [
      "Downloading data from https://storage.googleapis.com/keras-applications/efficientnetb3_notop.h5\n",
      "43941888/43941136 [==============================] - 0s 0us/step\n"
     ]
    }
   ],
   "source": [
    "# Build the model\n",
    "base_model = EfficientNetB3(weights='imagenet', \n",
    "                            input_tensor=Input(shape=image_dim), \n",
    "                            include_top=False)\n",
    "\n",
    "model = Model(base_model.input, head(base_model.output),\n",
    "              name='HackerEarth_Holiday_Season_Model')\n",
    "\n",
    "# Freeze weights for base model\n",
    "base_model.trainable = False\n",
    "for layer in base_model.layers[-18:]:\n",
    "    if not isinstance(layer, BatchNormalization):\n",
    "        layer.trainable = True\n",
    "\n",
    "# Compile the final model\n",
    "model.compile(loss='categorical_crossentropy', \n",
    "              metrics=[F1Score(num_classes=6, average='weighted'), \n",
    "                       'categorical_accuracy'],\n",
    "              optimizer=Lookahead(AdamW(lr=1e-2, \n",
    "                                        weight_decay=1e-5, \n",
    "                                        clipvalue=700), \n",
    "                                  sync_period=10))\n",
    "\n",
    "early = EarlyStopping(monitor=\"val_loss\", mode=\"min\", patience=10, \n",
    "                      restore_best_weights=True, verbose=1)\n",
    "\n",
    "reduce_lr = ReduceLROnPlateau(monitor=\"val_loss\", factor=0.1, \n",
    "                              min_lr=1e-6, patience=7, \n",
    "                              verbose=1, mode='min')\n",
    "\n",
    "chk_point = ModelCheckpoint('hackerearth_holiday_season_model.h5', \n",
    "                            monitor='val_loss', verbose=1, \n",
    "                            save_best_only=True, mode='min')"
   ]
  },
  {
   "cell_type": "code",
   "execution_count": 16,
   "metadata": {
    "execution": {
     "iopub.execute_input": "2021-01-26T16:30:19.838623Z",
     "iopub.status.busy": "2021-01-26T16:30:19.838062Z",
     "iopub.status.idle": "2021-01-26T17:06:00.121405Z",
     "shell.execute_reply": "2021-01-26T17:06:00.120373Z"
    },
    "papermill": {
     "duration": 2140.317349,
     "end_time": "2021-01-26T17:06:00.121573",
     "exception": false,
     "start_time": "2021-01-26T16:30:19.804224",
     "status": "completed"
    },
    "tags": []
   },
   "outputs": [
    {
     "name": "stdout",
     "output_type": "stream",
     "text": [
      "Epoch 1/275\n",
      "43/43 [==============================] - 67s 947ms/step - loss: 5.5728 - f1_score: 0.4341 - categorical_accuracy: 0.4271 - val_loss: 3.2101 - val_f1_score: 0.6599 - val_categorical_accuracy: 0.6931\n",
      "\n",
      "Epoch 00001: val_loss improved from inf to 3.21010, saving model to hackerearth_holiday_season_model.h5\n",
      "Epoch 2/275\n",
      "43/43 [==============================] - 37s 802ms/step - loss: 1.4810 - f1_score: 0.7520 - categorical_accuracy: 0.7488 - val_loss: 1.9196 - val_f1_score: 0.7179 - val_categorical_accuracy: 0.7116\n",
      "\n",
      "Epoch 00002: val_loss improved from 3.21010 to 1.91958, saving model to hackerearth_holiday_season_model.h5\n",
      "Epoch 3/275\n",
      "43/43 [==============================] - 39s 782ms/step - loss: 0.9721 - f1_score: 0.7833 - categorical_accuracy: 0.7791 - val_loss: 1.1243 - val_f1_score: 0.8757 - val_categorical_accuracy: 0.8733\n",
      "\n",
      "Epoch 00003: val_loss improved from 1.91958 to 1.12427, saving model to hackerearth_holiday_season_model.h5\n",
      "Epoch 4/275\n",
      "43/43 [==============================] - 37s 759ms/step - loss: 0.7062 - f1_score: 0.8075 - categorical_accuracy: 0.8050 - val_loss: 1.1125 - val_f1_score: 0.7813 - val_categorical_accuracy: 0.7796\n",
      "\n",
      "Epoch 00004: val_loss improved from 1.12427 to 1.11249, saving model to hackerearth_holiday_season_model.h5\n",
      "Epoch 5/275\n",
      "43/43 [==============================] - 38s 777ms/step - loss: 0.6169 - f1_score: 0.7982 - categorical_accuracy: 0.7962 - val_loss: 0.8896 - val_f1_score: 0.8258 - val_categorical_accuracy: 0.8218\n",
      "\n",
      "Epoch 00005: val_loss improved from 1.11249 to 0.88958, saving model to hackerearth_holiday_season_model.h5\n",
      "Epoch 6/275\n",
      "43/43 [==============================] - 38s 753ms/step - loss: 0.5239 - f1_score: 0.8117 - categorical_accuracy: 0.8086 - val_loss: 0.8408 - val_f1_score: 0.8328 - val_categorical_accuracy: 0.8280\n",
      "\n",
      "Epoch 00006: val_loss improved from 0.88958 to 0.84078, saving model to hackerearth_holiday_season_model.h5\n",
      "Epoch 7/275\n",
      "43/43 [==============================] - 38s 769ms/step - loss: 0.4730 - f1_score: 0.8222 - categorical_accuracy: 0.8192 - val_loss: 0.7586 - val_f1_score: 0.8450 - val_categorical_accuracy: 0.8383\n",
      "\n",
      "Epoch 00007: val_loss improved from 0.84078 to 0.75856, saving model to hackerearth_holiday_season_model.h5\n",
      "Epoch 8/275\n",
      "43/43 [==============================] - 40s 812ms/step - loss: 0.4031 - f1_score: 0.8171 - categorical_accuracy: 0.8141 - val_loss: 0.7348 - val_f1_score: 0.8352 - val_categorical_accuracy: 0.8290\n",
      "\n",
      "Epoch 00008: val_loss improved from 0.75856 to 0.73485, saving model to hackerearth_holiday_season_model.h5\n",
      "Epoch 9/275\n",
      "43/43 [==============================] - 39s 794ms/step - loss: 0.3906 - f1_score: 0.8137 - categorical_accuracy: 0.8121 - val_loss: 0.7501 - val_f1_score: 0.8298 - val_categorical_accuracy: 0.8260\n",
      "\n",
      "Epoch 00009: val_loss did not improve from 0.73485\n",
      "Epoch 10/275\n",
      "43/43 [==============================] - 38s 783ms/step - loss: 0.3596 - f1_score: 0.8184 - categorical_accuracy: 0.8165 - val_loss: 0.6016 - val_f1_score: 0.8823 - val_categorical_accuracy: 0.8805\n",
      "\n",
      "Epoch 00010: val_loss improved from 0.73485 to 0.60157, saving model to hackerearth_holiday_season_model.h5\n",
      "Epoch 11/275\n",
      "43/43 [==============================] - 38s 765ms/step - loss: 0.3459 - f1_score: 0.8321 - categorical_accuracy: 0.8301 - val_loss: 0.6103 - val_f1_score: 0.8695 - val_categorical_accuracy: 0.8671\n",
      "\n",
      "Epoch 00011: val_loss did not improve from 0.60157\n",
      "Epoch 12/275\n",
      "43/43 [==============================] - 37s 778ms/step - loss: 0.3209 - f1_score: 0.8428 - categorical_accuracy: 0.8416 - val_loss: 0.7992 - val_f1_score: 0.8383 - val_categorical_accuracy: 0.8301\n",
      "\n",
      "Epoch 00012: val_loss did not improve from 0.60157\n",
      "Epoch 13/275\n",
      "43/43 [==============================] - 37s 772ms/step - loss: 0.3308 - f1_score: 0.8329 - categorical_accuracy: 0.8300 - val_loss: 0.8601 - val_f1_score: 0.8660 - val_categorical_accuracy: 0.8620\n",
      "\n",
      "Epoch 00013: val_loss did not improve from 0.60157\n",
      "Epoch 14/275\n",
      "43/43 [==============================] - 38s 780ms/step - loss: 0.3551 - f1_score: 0.8503 - categorical_accuracy: 0.8484 - val_loss: 0.7617 - val_f1_score: 0.8404 - val_categorical_accuracy: 0.8363\n",
      "\n",
      "Epoch 00014: val_loss did not improve from 0.60157\n",
      "Epoch 15/275\n",
      "43/43 [==============================] - 38s 768ms/step - loss: 0.4395 - f1_score: 0.8268 - categorical_accuracy: 0.8239 - val_loss: 0.7263 - val_f1_score: 0.8573 - val_categorical_accuracy: 0.8517\n",
      "\n",
      "Epoch 00015: val_loss did not improve from 0.60157\n",
      "Epoch 16/275\n",
      "43/43 [==============================] - 37s 760ms/step - loss: 0.3495 - f1_score: 0.8517 - categorical_accuracy: 0.8500 - val_loss: 0.7476 - val_f1_score: 0.8511 - val_categorical_accuracy: 0.8476\n",
      "\n",
      "Epoch 00016: val_loss did not improve from 0.60157\n",
      "Epoch 17/275\n",
      "43/43 [==============================] - 37s 768ms/step - loss: 0.3331 - f1_score: 0.8480 - categorical_accuracy: 0.8467 - val_loss: 0.5816 - val_f1_score: 0.8825 - val_categorical_accuracy: 0.8816\n",
      "\n",
      "Epoch 00017: val_loss improved from 0.60157 to 0.58159, saving model to hackerearth_holiday_season_model.h5\n",
      "Epoch 18/275\n",
      "43/43 [==============================] - 38s 779ms/step - loss: 0.3231 - f1_score: 0.8388 - categorical_accuracy: 0.8369 - val_loss: 0.7789 - val_f1_score: 0.8465 - val_categorical_accuracy: 0.8424\n",
      "\n",
      "Epoch 00018: val_loss did not improve from 0.58159\n",
      "Epoch 19/275\n",
      "43/43 [==============================] - 38s 778ms/step - loss: 0.3535 - f1_score: 0.8381 - categorical_accuracy: 0.8359 - val_loss: 0.7249 - val_f1_score: 0.8598 - val_categorical_accuracy: 0.8568\n",
      "\n",
      "Epoch 00019: val_loss did not improve from 0.58159\n",
      "Epoch 20/275\n",
      "43/43 [==============================] - 39s 783ms/step - loss: 0.3643 - f1_score: 0.8549 - categorical_accuracy: 0.8530 - val_loss: 0.7288 - val_f1_score: 0.8552 - val_categorical_accuracy: 0.8507\n",
      "\n",
      "Epoch 00020: val_loss did not improve from 0.58159\n",
      "Epoch 21/275\n",
      "43/43 [==============================] - 38s 785ms/step - loss: 0.3165 - f1_score: 0.8617 - categorical_accuracy: 0.8604 - val_loss: 0.5580 - val_f1_score: 0.8745 - val_categorical_accuracy: 0.8733\n",
      "\n",
      "Epoch 00021: val_loss improved from 0.58159 to 0.55803, saving model to hackerearth_holiday_season_model.h5\n",
      "Epoch 22/275\n",
      "43/43 [==============================] - 38s 775ms/step - loss: 0.3050 - f1_score: 0.8581 - categorical_accuracy: 0.8566 - val_loss: 0.6903 - val_f1_score: 0.8611 - val_categorical_accuracy: 0.8579\n",
      "\n",
      "Epoch 00022: val_loss did not improve from 0.55803\n",
      "Epoch 23/275\n",
      "43/43 [==============================] - 38s 772ms/step - loss: 0.3511 - f1_score: 0.8532 - categorical_accuracy: 0.8510 - val_loss: 0.6932 - val_f1_score: 0.8720 - val_categorical_accuracy: 0.8713\n",
      "\n",
      "Epoch 00023: val_loss did not improve from 0.55803\n",
      "Epoch 24/275\n",
      "43/43 [==============================] - 37s 762ms/step - loss: 0.3490 - f1_score: 0.8537 - categorical_accuracy: 0.8522 - val_loss: 0.5786 - val_f1_score: 0.8813 - val_categorical_accuracy: 0.8785\n",
      "\n",
      "Epoch 00024: val_loss did not improve from 0.55803\n",
      "Epoch 25/275\n",
      "43/43 [==============================] - 37s 744ms/step - loss: 0.3151 - f1_score: 0.8559 - categorical_accuracy: 0.8536 - val_loss: 0.6791 - val_f1_score: 0.8734 - val_categorical_accuracy: 0.8733\n",
      "\n",
      "Epoch 00025: val_loss did not improve from 0.55803\n",
      "Epoch 26/275\n",
      "43/43 [==============================] - 38s 772ms/step - loss: 0.3587 - f1_score: 0.8521 - categorical_accuracy: 0.8505 - val_loss: 0.8728 - val_f1_score: 0.8461 - val_categorical_accuracy: 0.8445\n",
      "\n",
      "Epoch 00026: val_loss did not improve from 0.55803\n",
      "Epoch 27/275\n",
      "43/43 [==============================] - 37s 760ms/step - loss: 0.3363 - f1_score: 0.8637 - categorical_accuracy: 0.8624 - val_loss: 0.6441 - val_f1_score: 0.8609 - val_categorical_accuracy: 0.8579\n",
      "\n",
      "Epoch 00027: val_loss did not improve from 0.55803\n",
      "Epoch 28/275\n",
      "43/43 [==============================] - 37s 764ms/step - loss: 0.3461 - f1_score: 0.8665 - categorical_accuracy: 0.8644 - val_loss: 0.5640 - val_f1_score: 0.8818 - val_categorical_accuracy: 0.8816\n",
      "\n",
      "Epoch 00028: ReduceLROnPlateau reducing learning rate to 0.0009999999776482583.\n",
      "\n",
      "Epoch 00028: val_loss did not improve from 0.55803\n",
      "Epoch 29/275\n",
      "43/43 [==============================] - 37s 769ms/step - loss: 0.2618 - f1_score: 0.8946 - categorical_accuracy: 0.8934 - val_loss: 0.4568 - val_f1_score: 0.8952 - val_categorical_accuracy: 0.8950\n",
      "\n",
      "Epoch 00029: val_loss improved from 0.55803 to 0.45685, saving model to hackerearth_holiday_season_model.h5\n",
      "Epoch 30/275\n",
      "43/43 [==============================] - 38s 787ms/step - loss: 0.2149 - f1_score: 0.8925 - categorical_accuracy: 0.8920 - val_loss: 0.4300 - val_f1_score: 0.9014 - val_categorical_accuracy: 0.9011\n",
      "\n",
      "Epoch 00030: val_loss improved from 0.45685 to 0.42996, saving model to hackerearth_holiday_season_model.h5\n",
      "Epoch 31/275\n",
      "43/43 [==============================] - 39s 781ms/step - loss: 0.1916 - f1_score: 0.8963 - categorical_accuracy: 0.8956 - val_loss: 0.4113 - val_f1_score: 0.9003 - val_categorical_accuracy: 0.9001\n",
      "\n",
      "Epoch 00031: val_loss improved from 0.42996 to 0.41131, saving model to hackerearth_holiday_season_model.h5\n",
      "Epoch 32/275\n",
      "43/43 [==============================] - 38s 785ms/step - loss: 0.1708 - f1_score: 0.9060 - categorical_accuracy: 0.9053 - val_loss: 0.3978 - val_f1_score: 0.9002 - val_categorical_accuracy: 0.9001\n",
      "\n",
      "Epoch 00032: val_loss improved from 0.41131 to 0.39785, saving model to hackerearth_holiday_season_model.h5\n",
      "Epoch 33/275\n",
      "43/43 [==============================] - 38s 771ms/step - loss: 0.1656 - f1_score: 0.9041 - categorical_accuracy: 0.9034 - val_loss: 0.3921 - val_f1_score: 0.9022 - val_categorical_accuracy: 0.9022\n",
      "\n",
      "Epoch 00033: val_loss improved from 0.39785 to 0.39207, saving model to hackerearth_holiday_season_model.h5\n",
      "Epoch 34/275\n",
      "43/43 [==============================] - 39s 790ms/step - loss: 0.1587 - f1_score: 0.9053 - categorical_accuracy: 0.9047 - val_loss: 0.3844 - val_f1_score: 0.8981 - val_categorical_accuracy: 0.8980\n",
      "\n",
      "Epoch 00034: val_loss improved from 0.39207 to 0.38442, saving model to hackerearth_holiday_season_model.h5\n",
      "Epoch 35/275\n",
      "43/43 [==============================] - 38s 785ms/step - loss: 0.1420 - f1_score: 0.9065 - categorical_accuracy: 0.9063 - val_loss: 0.3642 - val_f1_score: 0.9043 - val_categorical_accuracy: 0.9042\n",
      "\n",
      "Epoch 00035: val_loss improved from 0.38442 to 0.36425, saving model to hackerearth_holiday_season_model.h5\n",
      "Epoch 36/275\n",
      "43/43 [==============================] - 39s 801ms/step - loss: 0.1343 - f1_score: 0.9040 - categorical_accuracy: 0.9035 - val_loss: 0.3802 - val_f1_score: 0.9002 - val_categorical_accuracy: 0.9001\n",
      "\n",
      "Epoch 00036: val_loss did not improve from 0.36425\n",
      "Epoch 37/275\n",
      "43/43 [==============================] - 39s 786ms/step - loss: 0.1311 - f1_score: 0.9091 - categorical_accuracy: 0.9087 - val_loss: 0.3656 - val_f1_score: 0.9052 - val_categorical_accuracy: 0.9053\n",
      "\n",
      "Epoch 00037: val_loss did not improve from 0.36425\n",
      "Epoch 38/275\n",
      "43/43 [==============================] - 39s 791ms/step - loss: 0.1275 - f1_score: 0.9110 - categorical_accuracy: 0.9107 - val_loss: 0.3463 - val_f1_score: 0.9054 - val_categorical_accuracy: 0.9053\n",
      "\n",
      "Epoch 00038: val_loss improved from 0.36425 to 0.34631, saving model to hackerearth_holiday_season_model.h5\n",
      "Epoch 39/275\n",
      "43/43 [==============================] - 38s 786ms/step - loss: 0.1182 - f1_score: 0.9112 - categorical_accuracy: 0.9109 - val_loss: 0.3566 - val_f1_score: 0.9042 - val_categorical_accuracy: 0.9042\n",
      "\n",
      "Epoch 00039: val_loss did not improve from 0.34631\n",
      "Epoch 40/275\n",
      "43/43 [==============================] - 39s 809ms/step - loss: 0.1167 - f1_score: 0.9096 - categorical_accuracy: 0.9094 - val_loss: 0.3409 - val_f1_score: 0.9013 - val_categorical_accuracy: 0.9011\n",
      "\n",
      "Epoch 00040: val_loss improved from 0.34631 to 0.34094, saving model to hackerearth_holiday_season_model.h5\n",
      "Epoch 41/275\n",
      "43/43 [==============================] - 39s 791ms/step - loss: 0.1116 - f1_score: 0.9043 - categorical_accuracy: 0.9038 - val_loss: 0.3597 - val_f1_score: 0.8977 - val_categorical_accuracy: 0.8970\n",
      "\n",
      "Epoch 00041: val_loss did not improve from 0.34094\n",
      "Epoch 42/275\n",
      "43/43 [==============================] - 38s 792ms/step - loss: 0.1055 - f1_score: 0.9221 - categorical_accuracy: 0.9218 - val_loss: 0.3451 - val_f1_score: 0.9012 - val_categorical_accuracy: 0.9011\n",
      "\n",
      "Epoch 00042: val_loss did not improve from 0.34094\n",
      "Epoch 43/275\n",
      "43/43 [==============================] - 38s 793ms/step - loss: 0.1049 - f1_score: 0.9113 - categorical_accuracy: 0.9105 - val_loss: 0.3366 - val_f1_score: 0.9051 - val_categorical_accuracy: 0.9053\n",
      "\n",
      "Epoch 00043: val_loss improved from 0.34094 to 0.33656, saving model to hackerearth_holiday_season_model.h5\n",
      "Epoch 44/275\n",
      "43/43 [==============================] - 38s 767ms/step - loss: 0.1101 - f1_score: 0.9141 - categorical_accuracy: 0.9132 - val_loss: 0.3504 - val_f1_score: 0.9026 - val_categorical_accuracy: 0.9022\n",
      "\n",
      "Epoch 00044: val_loss did not improve from 0.33656\n",
      "Epoch 45/275\n",
      "43/43 [==============================] - 38s 774ms/step - loss: 0.1086 - f1_score: 0.9052 - categorical_accuracy: 0.9046 - val_loss: 0.3393 - val_f1_score: 0.9058 - val_categorical_accuracy: 0.9053\n",
      "\n",
      "Epoch 00045: val_loss did not improve from 0.33656\n",
      "Epoch 46/275\n",
      "43/43 [==============================] - 39s 772ms/step - loss: 0.1092 - f1_score: 0.8998 - categorical_accuracy: 0.8985 - val_loss: 0.3447 - val_f1_score: 0.9066 - val_categorical_accuracy: 0.9063\n",
      "\n",
      "Epoch 00046: val_loss did not improve from 0.33656\n",
      "Epoch 47/275\n",
      "43/43 [==============================] - 38s 781ms/step - loss: 0.0983 - f1_score: 0.9099 - categorical_accuracy: 0.9093 - val_loss: 0.3523 - val_f1_score: 0.9044 - val_categorical_accuracy: 0.9042\n",
      "\n",
      "Epoch 00047: val_loss did not improve from 0.33656\n",
      "Epoch 48/275\n",
      "43/43 [==============================] - 38s 778ms/step - loss: 0.1001 - f1_score: 0.9191 - categorical_accuracy: 0.9185 - val_loss: 0.3745 - val_f1_score: 0.9016 - val_categorical_accuracy: 0.9011\n",
      "\n",
      "Epoch 00048: val_loss did not improve from 0.33656\n",
      "Epoch 49/275\n",
      "43/43 [==============================] - 39s 799ms/step - loss: 0.1040 - f1_score: 0.9258 - categorical_accuracy: 0.9253 - val_loss: 0.3618 - val_f1_score: 0.8935 - val_categorical_accuracy: 0.8929\n",
      "\n",
      "Epoch 00049: val_loss did not improve from 0.33656\n",
      "Epoch 50/275\n",
      "43/43 [==============================] - 38s 799ms/step - loss: 0.0980 - f1_score: 0.9174 - categorical_accuracy: 0.9170 - val_loss: 0.3537 - val_f1_score: 0.8990 - val_categorical_accuracy: 0.8980\n",
      "\n",
      "Epoch 00050: ReduceLROnPlateau reducing learning rate to 9.999999310821295e-05.\n",
      "\n",
      "Epoch 00050: val_loss did not improve from 0.33656\n",
      "Epoch 51/275\n",
      "43/43 [==============================] - 39s 800ms/step - loss: 0.0975 - f1_score: 0.9209 - categorical_accuracy: 0.9206 - val_loss: 0.3521 - val_f1_score: 0.9018 - val_categorical_accuracy: 0.9011\n",
      "\n",
      "Epoch 00051: val_loss did not improve from 0.33656\n",
      "Epoch 52/275\n",
      "43/43 [==============================] - 39s 796ms/step - loss: 0.0948 - f1_score: 0.9195 - categorical_accuracy: 0.9192 - val_loss: 0.3507 - val_f1_score: 0.9036 - val_categorical_accuracy: 0.9032\n",
      "\n",
      "Epoch 00052: val_loss did not improve from 0.33656\n",
      "Epoch 53/275\n",
      "43/43 [==============================] - 38s 795ms/step - loss: 0.0866 - f1_score: 0.9305 - categorical_accuracy: 0.9302 - val_loss: 0.3535 - val_f1_score: 0.9056 - val_categorical_accuracy: 0.9053\n",
      "Restoring model weights from the end of the best epoch.\n",
      "\n",
      "Epoch 00053: val_loss did not improve from 0.33656\n",
      "Epoch 00053: early stopping\n"
     ]
    }
   ],
   "source": [
    "history = model.fit(\n",
    "    train_generator, \n",
    "    steps_per_epoch=steps_per_epoch,\n",
    "    class_weight=class_weight, \n",
    "    epochs=275, \n",
    "    verbose=1, \n",
    "    workers=5,\n",
    "    callbacks=[reduce_lr, early, chk_point], \n",
    "    validation_data=validation_generator,\n",
    "    validation_steps=validation_steps\n",
    ")"
   ]
  },
  {
   "cell_type": "code",
   "execution_count": 17,
   "metadata": {
    "execution": {
     "iopub.execute_input": "2021-01-26T17:06:05.592172Z",
     "iopub.status.busy": "2021-01-26T17:06:05.591336Z",
     "iopub.status.idle": "2021-01-26T17:06:06.501325Z",
     "shell.execute_reply": "2021-01-26T17:06:06.502960Z"
    },
    "papermill": {
     "duration": 3.611163,
     "end_time": "2021-01-26T17:06:06.503159",
     "exception": false,
     "start_time": "2021-01-26T17:06:02.891996",
     "status": "completed"
    },
    "tags": []
   },
   "outputs": [
    {
     "data": {
      "image/png": "[encoded data removed]",
      "text/plain": [
       "<Figure size 2160x720 with 3 Axes>"
      ]
     },
     "metadata": {},
     "output_type": "display_data"
    }
   ],
   "source": [
    "_, ax = plt.subplots(1, 3, figsize=(30, 10))\n",
    "\n",
    "ax[0].plot(history.history['loss'], label='train_loss')\n",
    "ax[0].plot(history.history['val_loss'], label='val_loss')\n",
    "ax[0].set_ylabel('Loss')\n",
    "ax[0].set_xlabel('Epoch')\n",
    "ax[0].set_title(\"Model Loss Curve\")\n",
    "ax[0].legend()\n",
    "ax[0].grid()\n",
    "\n",
    "ax[1].plot(history.history['f1_score'], label='train_f1_score')\n",
    "ax[1].plot(history.history['val_f1_score'], label='val_f1_score')\n",
    "ax[1].set_ylabel('F1-Score')\n",
    "ax[1].set_xlabel('Epoch')\n",
    "ax[1].set_title(\"Model F1-Score Curve\")\n",
    "ax[1].legend()\n",
    "ax[1].grid()\n",
    "\n",
    "ax[2].plot(history.history['categorical_accuracy'], label='train_accuracy')\n",
    "ax[2].plot(history.history['val_categorical_accuracy'], label='val_accuracy')\n",
    "ax[2].set_ylabel('Accuracy')\n",
    "ax[2].set_xlabel('Epoch')\n",
    "ax[2].set_title(\"Model Accuracy Curve\")\n",
    "ax[2].legend()\n",
    "ax[2].grid()"
   ]
  },
  {
   "cell_type": "markdown",
   "metadata": {
    "papermill": {
     "duration": 0.652573,
     "end_time": "2021-01-26T17:06:08.129538",
     "exception": false,
     "start_time": "2021-01-26T17:06:07.476965",
     "status": "completed"
    },
    "tags": []
   },
   "source": [
    "## Check classification report"
   ]
  },
  {
   "cell_type": "code",
   "execution_count": 18,
   "metadata": {
    "execution": {
     "iopub.execute_input": "2021-01-26T17:06:09.457614Z",
     "iopub.status.busy": "2021-01-26T17:06:09.452552Z",
     "iopub.status.idle": "2021-01-26T17:06:12.609874Z",
     "shell.execute_reply": "2021-01-26T17:06:12.610548Z"
    },
    "papermill": {
     "duration": 3.834125,
     "end_time": "2021-01-26T17:06:12.610759",
     "exception": false,
     "start_time": "2021-01-26T17:06:08.776634",
     "status": "completed"
    },
    "tags": []
   },
   "outputs": [],
   "source": [
    "model = load_model('./hackerearth_holiday_season_model.h5')"
   ]
  },
  {
   "cell_type": "code",
   "execution_count": 19,
   "metadata": {
    "execution": {
     "iopub.execute_input": "2021-01-26T17:06:14.208345Z",
     "iopub.status.busy": "2021-01-26T17:06:14.207802Z",
     "iopub.status.idle": "2021-01-26T17:06:19.059923Z",
     "shell.execute_reply": "2021-01-26T17:06:19.058972Z"
    },
    "papermill": {
     "duration": 5.526313,
     "end_time": "2021-01-26T17:06:19.060058",
     "exception": false,
     "start_time": "2021-01-26T17:06:13.533745",
     "status": "completed"
    },
    "tags": []
   },
   "outputs": [
    {
     "name": "stdout",
     "output_type": "stream",
     "text": [
      "8/8 [==============================] - 5s 266ms/step\n",
      "\n",
      "y_true: (971,)\n",
      "y_pred: (971,)\n"
     ]
    }
   ],
   "source": [
    "y_true = np.array([validation_generator.classes]).ravel()\n",
    "y_pred = model.predict(validation_generator, verbose=1)\n",
    "y_pred = np.argmax(y_pred, axis=1)\n",
    "\n",
    "print(\"\\ny_true: {}\".format(y_true.shape))\n",
    "print(\"y_pred: {}\".format(y_pred.shape))"
   ]
  },
  {
   "cell_type": "code",
   "execution_count": 20,
   "metadata": {
    "execution": {
     "iopub.execute_input": "2021-01-26T17:06:20.424390Z",
     "iopub.status.busy": "2021-01-26T17:06:20.423554Z",
     "iopub.status.idle": "2021-01-26T17:06:20.432152Z",
     "shell.execute_reply": "2021-01-26T17:06:20.432522Z"
    },
    "papermill": {
     "duration": 0.702276,
     "end_time": "2021-01-26T17:06:20.432659",
     "exception": false,
     "start_time": "2021-01-26T17:06:19.730383",
     "status": "completed"
    },
    "tags": []
   },
   "outputs": [
    {
     "name": "stdout",
     "output_type": "stream",
     "text": [
      "              precision    recall  f1-score   support\n",
      "\n",
      "           0       0.87      0.84      0.85        80\n",
      "           1       0.87      0.89      0.88        89\n",
      "           2       0.92      0.93      0.93       231\n",
      "           3       0.95      0.92      0.93        96\n",
      "           4       0.91      0.92      0.91       421\n",
      "           5       0.85      0.81      0.83        54\n",
      "\n",
      "    accuracy                           0.91       971\n",
      "   macro avg       0.89      0.88      0.89       971\n",
      "weighted avg       0.91      0.91      0.91       971\n",
      "\n"
     ]
    }
   ],
   "source": [
    "print(classification_report(y_true, y_pred))"
   ]
  },
  {
   "cell_type": "code",
   "execution_count": 21,
   "metadata": {
    "execution": {
     "iopub.execute_input": "2021-01-26T17:06:21.746455Z",
     "iopub.status.busy": "2021-01-26T17:06:21.744832Z",
     "iopub.status.idle": "2021-01-26T17:06:22.200540Z",
     "shell.execute_reply": "2021-01-26T17:06:22.199738Z"
    },
    "papermill": {
     "duration": 1.113217,
     "end_time": "2021-01-26T17:06:22.200677",
     "exception": false,
     "start_time": "2021-01-26T17:06:21.087460",
     "status": "completed"
    },
    "tags": []
   },
   "outputs": [
    {
     "data": {
      "image/png": "[encoded data removed]",
      "text/plain": [
       "<Figure size 864x504 with 2 Axes>"
      ]
     },
     "metadata": {},
     "output_type": "display_data"
    }
   ],
   "source": [
    "cnf_matrix = confusion_matrix(y_true, y_pred, labels=[0, 1, 2, 3, 4, 5])\n",
    "np.set_printoptions(precision=2)\n",
    "plt.figure(figsize=(12,7))\n",
    "plot_confusion_matrix(cnf_matrix, classes=[0, 1, 2, 3, 4, 5])"
   ]
  },
  {
   "cell_type": "markdown",
   "metadata": {
    "papermill": {
     "duration": 1.094317,
     "end_time": "2021-01-26T17:06:23.954301",
     "exception": false,
     "start_time": "2021-01-26T17:06:22.859984",
     "status": "completed"
    },
    "tags": []
   },
   "source": [
    "## Create submission file"
   ]
  },
  {
   "cell_type": "code",
   "execution_count": 22,
   "metadata": {
    "execution": {
     "iopub.execute_input": "2021-01-26T17:06:25.640537Z",
     "iopub.status.busy": "2021-01-26T17:06:25.638646Z",
     "iopub.status.idle": "2021-01-26T17:06:25.641110Z",
     "shell.execute_reply": "2021-01-26T17:06:25.641509Z"
    },
    "papermill": {
     "duration": 0.683751,
     "end_time": "2021-01-26T17:06:25.641644",
     "exception": false,
     "start_time": "2021-01-26T17:06:24.957893",
     "status": "completed"
    },
    "tags": []
   },
   "outputs": [],
   "source": [
    "rev_class_map = {\n",
    "    0: 'Airplane',\n",
    "    1: 'Candle',\n",
    "    2: 'Christmas_Tree',\n",
    "    3: 'Jacket',\n",
    "    4: 'Miscellaneous',\n",
    "    5: 'Snowman'\n",
    "}"
   ]
  },
  {
   "cell_type": "code",
   "execution_count": 23,
   "metadata": {
    "execution": {
     "iopub.execute_input": "2021-01-26T17:06:27.049109Z",
     "iopub.status.busy": "2021-01-26T17:06:27.048533Z",
     "iopub.status.idle": "2021-01-26T17:06:49.545105Z",
     "shell.execute_reply": "2021-01-26T17:06:49.544636Z"
    },
    "papermill": {
     "duration": 23.186021,
     "end_time": "2021-01-26T17:06:49.545230",
     "exception": false,
     "start_time": "2021-01-26T17:06:26.359209",
     "status": "completed"
    },
    "tags": []
   },
   "outputs": [
    {
     "name": "stdout",
     "output_type": "stream",
     "text": [
      "28/28 [==============================] - 22s 787ms/step\n",
      "(3489,)\n"
     ]
    }
   ],
   "source": [
    "y_pred_final = model.predict(test_generator, verbose=1)\n",
    "y_pred_final = np.argmax(y_pred_final, axis=1)\n",
    "print(y_pred_final.shape)"
   ]
  },
  {
   "cell_type": "code",
   "execution_count": 24,
   "metadata": {
    "execution": {
     "iopub.execute_input": "2021-01-26T17:06:50.890510Z",
     "iopub.status.busy": "2021-01-26T17:06:50.889343Z",
     "iopub.status.idle": "2021-01-26T17:06:50.893050Z",
     "shell.execute_reply": "2021-01-26T17:06:50.893545Z"
    },
    "papermill": {
     "duration": 0.6854,
     "end_time": "2021-01-26T17:06:50.893730",
     "exception": false,
     "start_time": "2021-01-26T17:06:50.208330",
     "status": "completed"
    },
    "tags": []
   },
   "outputs": [
    {
     "data": {
      "text/html": [
       "<div>\n",
       "<style scoped>\n",
       "    .dataframe tbody tr th:only-of-type {\n",
       "        vertical-align: middle;\n",
       "    }\n",
       "\n",
       "    .dataframe tbody tr th {\n",
       "        vertical-align: top;\n",
       "    }\n",
       "\n",
       "    .dataframe thead th {\n",
       "        text-align: right;\n",
       "    }\n",
       "</style>\n",
       "<table border=\"1\" class=\"dataframe\">\n",
       "  <thead>\n",
       "    <tr style=\"text-align: right;\">\n",
       "      <th></th>\n",
       "      <th>Image</th>\n",
       "      <th>Class</th>\n",
       "    </tr>\n",
       "  </thead>\n",
       "  <tbody>\n",
       "    <tr>\n",
       "      <th>0</th>\n",
       "      <td>image7761.jpg</td>\n",
       "      <td>Miscellaneous</td>\n",
       "    </tr>\n",
       "    <tr>\n",
       "      <th>1</th>\n",
       "      <td>image3202.jpg</td>\n",
       "      <td>Miscellaneous</td>\n",
       "    </tr>\n",
       "    <tr>\n",
       "      <th>2</th>\n",
       "      <td>image688.jpg</td>\n",
       "      <td>Snowman</td>\n",
       "    </tr>\n",
       "    <tr>\n",
       "      <th>3</th>\n",
       "      <td>image233.jpg</td>\n",
       "      <td>Candle</td>\n",
       "    </tr>\n",
       "    <tr>\n",
       "      <th>4</th>\n",
       "      <td>image4332.jpg</td>\n",
       "      <td>Christmas_Tree</td>\n",
       "    </tr>\n",
       "  </tbody>\n",
       "</table>\n",
       "</div>"
      ],
      "text/plain": [
       "           Image           Class\n",
       "0  image7761.jpg   Miscellaneous\n",
       "1  image3202.jpg   Miscellaneous\n",
       "2   image688.jpg         Snowman\n",
       "3   image233.jpg          Candle\n",
       "4  image4332.jpg  Christmas_Tree"
      ]
     },
     "execution_count": 24,
     "metadata": {},
     "output_type": "execute_result"
    }
   ],
   "source": [
    "test_df['Class'] = y_pred_final\n",
    "test_df['Class'] = test_df['Class'].map(rev_class_map)\n",
    "test_df.head()"
   ]
  },
  {
   "cell_type": "code",
   "execution_count": 25,
   "metadata": {
    "execution": {
     "iopub.execute_input": "2021-01-26T17:06:52.209680Z",
     "iopub.status.busy": "2021-01-26T17:06:52.209132Z",
     "iopub.status.idle": "2021-01-26T17:06:52.318614Z",
     "shell.execute_reply": "2021-01-26T17:06:52.317818Z"
    },
    "papermill": {
     "duration": 0.767469,
     "end_time": "2021-01-26T17:06:52.318795",
     "exception": false,
     "start_time": "2021-01-26T17:06:51.551326",
     "status": "completed"
    },
    "tags": []
   },
   "outputs": [],
   "source": [
    "test_df.to_csv(\"/kaggle/working/submission.csv\", index=False)"
   ]
  },
  {
   "cell_type": "code",
   "execution_count": null,
   "metadata": {
    "papermill": {
     "duration": 0.65549,
     "end_time": "2021-01-26T17:06:53.648214",
     "exception": false,
     "start_time": "2021-01-26T17:06:52.992724",
     "status": "completed"
    },
    "tags": []
   },
   "outputs": [],
   "source": []
  }
 ],
 "metadata": {
  "kernelspec": {
   "display_name": "Python 3",
   "language": "python",
   "name": "python3"
  },
  "language_info": {
   "codemirror_mode": {
    "name": "ipython",
    "version": 3
   },
   "file_extension": ".py",
   "mimetype": "text/x-python",
   "name": "python",
   "nbconvert_exporter": "python",
   "pygments_lexer": "ipython3",
   "version": "3.8.8"
  },
  "papermill": {
   "default_parameters": {},
   "duration": 2222.467969,
   "end_time": "2021-01-26T17:06:58.565481",
   "environment_variables": {},
   "exception": null,
   "input_path": "__notebook__.ipynb",
   "output_path": "__notebook__.ipynb",
   "parameters": {},
   "start_time": "2021-01-26T16:29:56.097512",
   "version": "2.2.2"
  }
 },
 "nbformat": 4,
 "nbformat_minor": 4
}
