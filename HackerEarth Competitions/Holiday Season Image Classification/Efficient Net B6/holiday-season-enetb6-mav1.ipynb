{
 "cells": [
  {
   "cell_type": "markdown",
   "metadata": {
    "papermill": {
     "duration": 0.022011,
     "end_time": "2021-01-23T12:23:53.922919",
     "exception": false,
     "start_time": "2021-01-23T12:23:53.900908",
     "status": "completed"
    },
    "tags": []
   },
   "source": [
    "## Import Packages"
   ]
  },
  {
   "cell_type": "code",
   "execution_count": 1,
   "metadata": {
    "execution": {
     "iopub.execute_input": "2021-01-23T12:23:53.978216Z",
     "iopub.status.busy": "2021-01-23T12:23:53.977528Z",
     "iopub.status.idle": "2021-01-23T12:23:59.048584Z",
     "shell.execute_reply": "2021-01-23T12:23:59.047989Z"
    },
    "papermill": {
     "duration": 5.104664,
     "end_time": "2021-01-23T12:23:59.048716",
     "exception": false,
     "start_time": "2021-01-23T12:23:53.944052",
     "status": "completed"
    },
    "tags": []
   },
   "outputs": [],
   "source": [
    "import os\n",
    "import itertools\n",
    "import numpy as np\n",
    "import pandas as pd\n",
    "import seaborn as sns\n",
    "from tqdm import tqdm\n",
    "import matplotlib.pyplot as plt\n",
    "from sklearn.metrics import confusion_matrix\n",
    "from sklearn.metrics import classification_report\n",
    "from sklearn.model_selection import StratifiedShuffleSplit\n",
    "\n",
    "import tensorflow as tf\n",
    "from tensorflow.keras import backend as K\n",
    "from tensorflow.keras.regularizers import l2\n",
    "from tensorflow_addons.metrics import F1Score\n",
    "from tensorflow.keras.models import Model, load_model\n",
    "from tensorflow_addons.optimizers import AdamW, Lookahead\n",
    "from tensorflow.keras.callbacks import EarlyStopping\n",
    "from tensorflow.keras.callbacks import ReduceLROnPlateau\n",
    "from tensorflow.keras.callbacks import ModelCheckpoint\n",
    "from tensorflow.keras.applications import EfficientNetB6\n",
    "from tensorflow.keras.layers import Dense, Dropout, Flatten\n",
    "from tensorflow.keras.layers import BatchNormalization, Input\n",
    "from tensorflow.keras.layers import ZeroPadding2D, MaxPooling2D\n",
    "from tensorflow.keras.layers import GlobalAveragePooling2D, Add\n",
    "from tensorflow.keras.layers import GlobalMaxPooling2D, Reshape\n",
    "from tensorflow.keras.layers import Activation, Conv2D, Average\n",
    "from tensorflow.keras.preprocessing.image import ImageDataGenerator"
   ]
  },
  {
   "cell_type": "markdown",
   "metadata": {
    "papermill": {
     "duration": 0.0212,
     "end_time": "2021-01-23T12:23:59.091466",
     "exception": false,
     "start_time": "2021-01-23T12:23:59.070266",
     "status": "completed"
    },
    "tags": []
   },
   "source": [
    "## Helper Functions"
   ]
  },
  {
   "cell_type": "code",
   "execution_count": 2,
   "metadata": {
    "execution": {
     "iopub.execute_input": "2021-01-23T12:23:59.143357Z",
     "iopub.status.busy": "2021-01-23T12:23:59.142551Z",
     "iopub.status.idle": "2021-01-23T12:23:59.145460Z",
     "shell.execute_reply": "2021-01-23T12:23:59.145018Z"
    },
    "papermill": {
     "duration": 0.03312,
     "end_time": "2021-01-23T12:23:59.145555",
     "exception": false,
     "start_time": "2021-01-23T12:23:59.112435",
     "status": "completed"
    },
    "tags": []
   },
   "outputs": [],
   "source": [
    "def plot_confusion_matrix(cm, classes):\n",
    "\n",
    "    plt.imshow(cm, interpolation='nearest', cmap=plt.cm.Blues)\n",
    "    plt.title('Confusion matrix')\n",
    "    plt.colorbar()\n",
    "    tick_marks = np.arange(len(classes))\n",
    "    plt.xticks(tick_marks, classes, rotation=0)\n",
    "    plt.yticks(tick_marks, classes)\n",
    "\n",
    "    thresh = cm.max() / 2.\n",
    "    for i, j in itertools.product(range(cm.shape[0]), range(cm.shape[1])):\n",
    "        plt.text(j, i, format(cm[i, j], 'd'),\n",
    "                 horizontalalignment=\"center\",\n",
    "                 color=\"white\" if cm[i, j] > thresh else \"black\")\n",
    "\n",
    "    plt.ylabel('True label')\n",
    "    plt.xlabel('Predicted label')\n",
    "    plt.tight_layout()"
   ]
  },
  {
   "cell_type": "markdown",
   "metadata": {
    "papermill": {
     "duration": 0.020706,
     "end_time": "2021-01-23T12:23:59.187029",
     "exception": false,
     "start_time": "2021-01-23T12:23:59.166323",
     "status": "completed"
    },
    "tags": []
   },
   "source": [
    "## Read true labels + Basic EDA"
   ]
  },
  {
   "cell_type": "code",
   "execution_count": 3,
   "metadata": {
    "execution": {
     "iopub.execute_input": "2021-01-23T12:23:59.241642Z",
     "iopub.status.busy": "2021-01-23T12:23:59.241092Z",
     "iopub.status.idle": "2021-01-23T12:23:59.272632Z",
     "shell.execute_reply": "2021-01-23T12:23:59.273035Z"
    },
    "papermill": {
     "duration": 0.064442,
     "end_time": "2021-01-23T12:23:59.273150",
     "exception": false,
     "start_time": "2021-01-23T12:23:59.208708",
     "status": "completed"
    },
    "tags": []
   },
   "outputs": [
    {
     "data": {
      "text/html": [
       "<div>\n",
       "<style scoped>\n",
       "    .dataframe tbody tr th:only-of-type {\n",
       "        vertical-align: middle;\n",
       "    }\n",
       "\n",
       "    .dataframe tbody tr th {\n",
       "        vertical-align: top;\n",
       "    }\n",
       "\n",
       "    .dataframe thead th {\n",
       "        text-align: right;\n",
       "    }\n",
       "</style>\n",
       "<table border=\"1\" class=\"dataframe\">\n",
       "  <thead>\n",
       "    <tr style=\"text-align: right;\">\n",
       "      <th></th>\n",
       "      <th>Image</th>\n",
       "      <th>Class</th>\n",
       "    </tr>\n",
       "  </thead>\n",
       "  <tbody>\n",
       "    <tr>\n",
       "      <th>0</th>\n",
       "      <td>image3476.jpg</td>\n",
       "      <td>Miscellaneous</td>\n",
       "    </tr>\n",
       "    <tr>\n",
       "      <th>1</th>\n",
       "      <td>image5198.jpg</td>\n",
       "      <td>Candle</td>\n",
       "    </tr>\n",
       "    <tr>\n",
       "      <th>2</th>\n",
       "      <td>image4183.jpg</td>\n",
       "      <td>Snowman</td>\n",
       "    </tr>\n",
       "    <tr>\n",
       "      <th>3</th>\n",
       "      <td>image1806.jpg</td>\n",
       "      <td>Miscellaneous</td>\n",
       "    </tr>\n",
       "    <tr>\n",
       "      <th>4</th>\n",
       "      <td>image7831.jpg</td>\n",
       "      <td>Miscellaneous</td>\n",
       "    </tr>\n",
       "  </tbody>\n",
       "</table>\n",
       "</div>"
      ],
      "text/plain": [
       "           Image          Class\n",
       "0  image3476.jpg  Miscellaneous\n",
       "1  image5198.jpg         Candle\n",
       "2  image4183.jpg        Snowman\n",
       "3  image1806.jpg  Miscellaneous\n",
       "4  image7831.jpg  Miscellaneous"
      ]
     },
     "execution_count": 3,
     "metadata": {},
     "output_type": "execute_result"
    }
   ],
   "source": [
    "train_df = pd.read_csv(\"../input/hackereath-holiday-season-deep-learning-contest/dataset/train.csv\")\n",
    "train_df.head()"
   ]
  },
  {
   "cell_type": "code",
   "execution_count": 4,
   "metadata": {
    "execution": {
     "iopub.execute_input": "2021-01-23T12:23:59.320940Z",
     "iopub.status.busy": "2021-01-23T12:23:59.320409Z",
     "iopub.status.idle": "2021-01-23T12:23:59.324551Z",
     "shell.execute_reply": "2021-01-23T12:23:59.323999Z"
    },
    "papermill": {
     "duration": 0.029742,
     "end_time": "2021-01-23T12:23:59.324655",
     "exception": false,
     "start_time": "2021-01-23T12:23:59.294913",
     "status": "completed"
    },
    "tags": []
   },
   "outputs": [],
   "source": [
    "class_map = {\n",
    "    'Airplane': 0,\n",
    "    'Candle': 1,\n",
    "    'Christmas_Tree': 2,\n",
    "    'Jacket': 3,\n",
    "    'Miscellaneous': 4,\n",
    "    'Snowman': 5\n",
    "}"
   ]
  },
  {
   "cell_type": "code",
   "execution_count": 5,
   "metadata": {
    "execution": {
     "iopub.execute_input": "2021-01-23T12:23:59.389481Z",
     "iopub.status.busy": "2021-01-23T12:23:59.388491Z",
     "iopub.status.idle": "2021-01-23T12:23:59.402717Z",
     "shell.execute_reply": "2021-01-23T12:23:59.403212Z"
    },
    "papermill": {
     "duration": 0.056899,
     "end_time": "2021-01-23T12:23:59.403343",
     "exception": false,
     "start_time": "2021-01-23T12:23:59.346444",
     "status": "completed"
    },
    "tags": []
   },
   "outputs": [
    {
     "data": {
      "text/html": [
       "<div>\n",
       "<style scoped>\n",
       "    .dataframe tbody tr th:only-of-type {\n",
       "        vertical-align: middle;\n",
       "    }\n",
       "\n",
       "    .dataframe tbody tr th {\n",
       "        vertical-align: top;\n",
       "    }\n",
       "\n",
       "    .dataframe thead th {\n",
       "        text-align: right;\n",
       "    }\n",
       "</style>\n",
       "<table border=\"1\" class=\"dataframe\">\n",
       "  <thead>\n",
       "    <tr style=\"text-align: right;\">\n",
       "      <th></th>\n",
       "      <th>Class</th>\n",
       "      <th>Class_enc</th>\n",
       "      <th>Count</th>\n",
       "    </tr>\n",
       "  </thead>\n",
       "  <tbody>\n",
       "    <tr>\n",
       "      <th>0</th>\n",
       "      <td>Airplane</td>\n",
       "      <td>0</td>\n",
       "      <td>535</td>\n",
       "    </tr>\n",
       "    <tr>\n",
       "      <th>1</th>\n",
       "      <td>Candle</td>\n",
       "      <td>1</td>\n",
       "      <td>593</td>\n",
       "    </tr>\n",
       "    <tr>\n",
       "      <th>2</th>\n",
       "      <td>Christmas_Tree</td>\n",
       "      <td>2</td>\n",
       "      <td>1539</td>\n",
       "    </tr>\n",
       "    <tr>\n",
       "      <th>3</th>\n",
       "      <td>Jacket</td>\n",
       "      <td>3</td>\n",
       "      <td>640</td>\n",
       "    </tr>\n",
       "    <tr>\n",
       "      <th>4</th>\n",
       "      <td>Miscellaneous</td>\n",
       "      <td>4</td>\n",
       "      <td>2801</td>\n",
       "    </tr>\n",
       "    <tr>\n",
       "      <th>5</th>\n",
       "      <td>Snowman</td>\n",
       "      <td>5</td>\n",
       "      <td>361</td>\n",
       "    </tr>\n",
       "  </tbody>\n",
       "</table>\n",
       "</div>"
      ],
      "text/plain": [
       "            Class Class_enc  Count\n",
       "0        Airplane         0    535\n",
       "1          Candle         1    593\n",
       "2  Christmas_Tree         2   1539\n",
       "3          Jacket         3    640\n",
       "4   Miscellaneous         4   2801\n",
       "5         Snowman         5    361"
      ]
     },
     "execution_count": 5,
     "metadata": {},
     "output_type": "execute_result"
    }
   ],
   "source": [
    "train_df['Class_enc'] = train_df['Class'].map(class_map)\n",
    "train_df['Class_enc'] = train_df['Class_enc'].astype('str')\n",
    "train_df.groupby(['Class','Class_enc']).size().reset_index().rename(columns={0:'Count'})"
   ]
  },
  {
   "cell_type": "code",
   "execution_count": 6,
   "metadata": {
    "execution": {
     "iopub.execute_input": "2021-01-23T12:23:59.454388Z",
     "iopub.status.busy": "2021-01-23T12:23:59.453835Z",
     "iopub.status.idle": "2021-01-23T12:23:59.665277Z",
     "shell.execute_reply": "2021-01-23T12:23:59.665738Z"
    },
    "papermill": {
     "duration": 0.237839,
     "end_time": "2021-01-23T12:23:59.665863",
     "exception": false,
     "start_time": "2021-01-23T12:23:59.428024",
     "status": "completed"
    },
    "tags": []
   },
   "outputs": [
    {
     "data": {
      "image/png": "[encoded data removed]",
      "text/plain": [
       "<Figure size 864x504 with 1 Axes>"
      ]
     },
     "metadata": {
      "needs_background": "light"
     },
     "output_type": "display_data"
    }
   ],
   "source": [
    "plt.figure(figsize=(12,7))\n",
    "sns.set(style=\"darkgrid\")\n",
    "ax = sns.countplot(x=\"Class\", data=train_df)"
   ]
  },
  {
   "cell_type": "code",
   "execution_count": 7,
   "metadata": {
    "execution": {
     "iopub.execute_input": "2021-01-23T12:23:59.744921Z",
     "iopub.status.busy": "2021-01-23T12:23:59.744147Z",
     "iopub.status.idle": "2021-01-23T12:23:59.961766Z",
     "shell.execute_reply": "2021-01-23T12:23:59.962843Z"
    },
    "papermill": {
     "duration": 0.267252,
     "end_time": "2021-01-23T12:23:59.963021",
     "exception": false,
     "start_time": "2021-01-23T12:23:59.695769",
     "status": "completed"
    },
    "tags": []
   },
   "outputs": [
    {
     "name": "stderr",
     "output_type": "stream",
     "text": [
      "100%|██████████| 3489/3489 [00:00<00:00, 478326.69it/s]\n"
     ]
    },
    {
     "data": {
      "text/html": [
       "<div>\n",
       "<style scoped>\n",
       "    .dataframe tbody tr th:only-of-type {\n",
       "        vertical-align: middle;\n",
       "    }\n",
       "\n",
       "    .dataframe tbody tr th {\n",
       "        vertical-align: top;\n",
       "    }\n",
       "\n",
       "    .dataframe thead th {\n",
       "        text-align: right;\n",
       "    }\n",
       "</style>\n",
       "<table border=\"1\" class=\"dataframe\">\n",
       "  <thead>\n",
       "    <tr style=\"text-align: right;\">\n",
       "      <th></th>\n",
       "      <th>Image</th>\n",
       "      <th>Class</th>\n",
       "    </tr>\n",
       "  </thead>\n",
       "  <tbody>\n",
       "    <tr>\n",
       "      <th>0</th>\n",
       "      <td>image7761.jpg</td>\n",
       "      <td>0</td>\n",
       "    </tr>\n",
       "    <tr>\n",
       "      <th>1</th>\n",
       "      <td>image3202.jpg</td>\n",
       "      <td>0</td>\n",
       "    </tr>\n",
       "    <tr>\n",
       "      <th>2</th>\n",
       "      <td>image688.jpg</td>\n",
       "      <td>0</td>\n",
       "    </tr>\n",
       "    <tr>\n",
       "      <th>3</th>\n",
       "      <td>image233.jpg</td>\n",
       "      <td>0</td>\n",
       "    </tr>\n",
       "    <tr>\n",
       "      <th>4</th>\n",
       "      <td>image4332.jpg</td>\n",
       "      <td>0</td>\n",
       "    </tr>\n",
       "  </tbody>\n",
       "</table>\n",
       "</div>"
      ],
      "text/plain": [
       "           Image Class\n",
       "0  image7761.jpg     0\n",
       "1  image3202.jpg     0\n",
       "2   image688.jpg     0\n",
       "3   image233.jpg     0\n",
       "4  image4332.jpg     0"
      ]
     },
     "execution_count": 7,
     "metadata": {},
     "output_type": "execute_result"
    }
   ],
   "source": [
    "test_dir = \"../input/hackereath-holiday-season-deep-learning-contest/dataset/test\"\n",
    "test_files = []\n",
    "\n",
    "for file in tqdm(os.listdir(test_dir)):\n",
    "    test_files.append(file)\n",
    "\n",
    "test_df = pd.DataFrame(test_files, columns=['Image'])\n",
    "test_df['Class'] = '0'\n",
    "test_df.head()"
   ]
  },
  {
   "cell_type": "markdown",
   "metadata": {
    "papermill": {
     "duration": 0.042976,
     "end_time": "2021-01-23T12:24:00.051286",
     "exception": false,
     "start_time": "2021-01-23T12:24:00.008310",
     "status": "completed"
    },
    "tags": []
   },
   "source": [
    "## Calculate class-weights"
   ]
  },
  {
   "cell_type": "code",
   "execution_count": 8,
   "metadata": {
    "execution": {
     "iopub.execute_input": "2021-01-23T12:24:00.150513Z",
     "iopub.status.busy": "2021-01-23T12:24:00.149686Z",
     "iopub.status.idle": "2021-01-23T12:24:00.181271Z",
     "shell.execute_reply": "2021-01-23T12:24:00.182388Z"
    },
    "papermill": {
     "duration": 0.087791,
     "end_time": "2021-01-23T12:24:00.182577",
     "exception": false,
     "start_time": "2021-01-23T12:24:00.094786",
     "status": "completed"
    },
    "tags": []
   },
   "outputs": [
    {
     "data": {
      "text/plain": [
       "{0: 0.6747663551401869,\n",
       " 1: 0.6087689713322091,\n",
       " 2: 0.23456790123456786,\n",
       " 3: 0.5640625,\n",
       " 4: 0.12888254194930382,\n",
       " 5: 1.0}"
      ]
     },
     "execution_count": 8,
     "metadata": {},
     "output_type": "execute_result"
    }
   ],
   "source": [
    "temp_df = train_df.groupby(['Class_enc']).size().reset_index().rename(columns={0:'count'})\n",
    "total_count = np.sum(temp_df['count'].values)\n",
    "temp_df['class%'] = (temp_df['count'] / total_count) * 100\n",
    "lowest_pct = min(temp_df['class%'])\n",
    "temp_df['class_weight'] = lowest_pct / temp_df['class%']\n",
    "class_weight = temp_df[['Class_enc', 'class_weight']].to_dict()['class_weight']\n",
    "class_weight"
   ]
  },
  {
   "cell_type": "markdown",
   "metadata": {
    "papermill": {
     "duration": 0.047624,
     "end_time": "2021-01-23T12:24:00.275617",
     "exception": false,
     "start_time": "2021-01-23T12:24:00.227993",
     "status": "completed"
    },
    "tags": []
   },
   "source": [
    "## Split training data into train/validation datasets"
   ]
  },
  {
   "cell_type": "code",
   "execution_count": 9,
   "metadata": {
    "execution": {
     "iopub.execute_input": "2021-01-23T12:24:00.410879Z",
     "iopub.status.busy": "2021-01-23T12:24:00.410061Z",
     "iopub.status.idle": "2021-01-23T12:24:00.436140Z",
     "shell.execute_reply": "2021-01-23T12:24:00.437568Z"
    },
    "papermill": {
     "duration": 0.118186,
     "end_time": "2021-01-23T12:24:00.437769",
     "exception": false,
     "start_time": "2021-01-23T12:24:00.319583",
     "status": "completed"
    },
    "tags": []
   },
   "outputs": [
    {
     "name": "stdout",
     "output_type": "stream",
     "text": [
      "train_df shape: (5498, 3)\n",
      "validation_df shape: (971, 3)\n"
     ]
    }
   ],
   "source": [
    "sss = StratifiedShuffleSplit(n_splits=1, test_size=0.15, random_state=1)\n",
    "for train_index, validation_index in sss.split(train_df['Image'], train_df['Class_enc']):\n",
    "    train_df, validation_df = train_df.iloc[train_index], train_df.iloc[validation_index]\n",
    "\n",
    "print(\"train_df shape: {}\".format(train_df.shape))\n",
    "print(\"validation_df shape: {}\".format(validation_df.shape))"
   ]
  },
  {
   "cell_type": "code",
   "execution_count": 10,
   "metadata": {
    "execution": {
     "iopub.execute_input": "2021-01-23T12:24:00.515102Z",
     "iopub.status.busy": "2021-01-23T12:24:00.514312Z",
     "iopub.status.idle": "2021-01-23T12:24:00.526645Z",
     "shell.execute_reply": "2021-01-23T12:24:00.526207Z"
    },
    "papermill": {
     "duration": 0.04813,
     "end_time": "2021-01-23T12:24:00.526739",
     "exception": false,
     "start_time": "2021-01-23T12:24:00.478609",
     "status": "completed"
    },
    "tags": []
   },
   "outputs": [
    {
     "data": {
      "text/html": [
       "<div>\n",
       "<style scoped>\n",
       "    .dataframe tbody tr th:only-of-type {\n",
       "        vertical-align: middle;\n",
       "    }\n",
       "\n",
       "    .dataframe tbody tr th {\n",
       "        vertical-align: top;\n",
       "    }\n",
       "\n",
       "    .dataframe thead th {\n",
       "        text-align: right;\n",
       "    }\n",
       "</style>\n",
       "<table border=\"1\" class=\"dataframe\">\n",
       "  <thead>\n",
       "    <tr style=\"text-align: right;\">\n",
       "      <th></th>\n",
       "      <th>Class</th>\n",
       "      <th>Class_enc</th>\n",
       "      <th>Count</th>\n",
       "    </tr>\n",
       "  </thead>\n",
       "  <tbody>\n",
       "    <tr>\n",
       "      <th>0</th>\n",
       "      <td>Airplane</td>\n",
       "      <td>0</td>\n",
       "      <td>455</td>\n",
       "    </tr>\n",
       "    <tr>\n",
       "      <th>1</th>\n",
       "      <td>Candle</td>\n",
       "      <td>1</td>\n",
       "      <td>504</td>\n",
       "    </tr>\n",
       "    <tr>\n",
       "      <th>2</th>\n",
       "      <td>Christmas_Tree</td>\n",
       "      <td>2</td>\n",
       "      <td>1308</td>\n",
       "    </tr>\n",
       "    <tr>\n",
       "      <th>3</th>\n",
       "      <td>Jacket</td>\n",
       "      <td>3</td>\n",
       "      <td>544</td>\n",
       "    </tr>\n",
       "    <tr>\n",
       "      <th>4</th>\n",
       "      <td>Miscellaneous</td>\n",
       "      <td>4</td>\n",
       "      <td>2380</td>\n",
       "    </tr>\n",
       "    <tr>\n",
       "      <th>5</th>\n",
       "      <td>Snowman</td>\n",
       "      <td>5</td>\n",
       "      <td>307</td>\n",
       "    </tr>\n",
       "  </tbody>\n",
       "</table>\n",
       "</div>"
      ],
      "text/plain": [
       "            Class Class_enc  Count\n",
       "0        Airplane         0    455\n",
       "1          Candle         1    504\n",
       "2  Christmas_Tree         2   1308\n",
       "3          Jacket         3    544\n",
       "4   Miscellaneous         4   2380\n",
       "5         Snowman         5    307"
      ]
     },
     "execution_count": 10,
     "metadata": {},
     "output_type": "execute_result"
    }
   ],
   "source": [
    "train_df.groupby(['Class','Class_enc']).size().reset_index().rename(columns={0:'Count'})"
   ]
  },
  {
   "cell_type": "code",
   "execution_count": 11,
   "metadata": {
    "execution": {
     "iopub.execute_input": "2021-01-23T12:24:00.607186Z",
     "iopub.status.busy": "2021-01-23T12:24:00.606256Z",
     "iopub.status.idle": "2021-01-23T12:24:00.612917Z",
     "shell.execute_reply": "2021-01-23T12:24:00.613939Z"
    },
    "papermill": {
     "duration": 0.059855,
     "end_time": "2021-01-23T12:24:00.614126",
     "exception": false,
     "start_time": "2021-01-23T12:24:00.554271",
     "status": "completed"
    },
    "tags": []
   },
   "outputs": [
    {
     "data": {
      "text/html": [
       "<div>\n",
       "<style scoped>\n",
       "    .dataframe tbody tr th:only-of-type {\n",
       "        vertical-align: middle;\n",
       "    }\n",
       "\n",
       "    .dataframe tbody tr th {\n",
       "        vertical-align: top;\n",
       "    }\n",
       "\n",
       "    .dataframe thead th {\n",
       "        text-align: right;\n",
       "    }\n",
       "</style>\n",
       "<table border=\"1\" class=\"dataframe\">\n",
       "  <thead>\n",
       "    <tr style=\"text-align: right;\">\n",
       "      <th></th>\n",
       "      <th>Class</th>\n",
       "      <th>Class_enc</th>\n",
       "      <th>Count</th>\n",
       "    </tr>\n",
       "  </thead>\n",
       "  <tbody>\n",
       "    <tr>\n",
       "      <th>0</th>\n",
       "      <td>Airplane</td>\n",
       "      <td>0</td>\n",
       "      <td>80</td>\n",
       "    </tr>\n",
       "    <tr>\n",
       "      <th>1</th>\n",
       "      <td>Candle</td>\n",
       "      <td>1</td>\n",
       "      <td>89</td>\n",
       "    </tr>\n",
       "    <tr>\n",
       "      <th>2</th>\n",
       "      <td>Christmas_Tree</td>\n",
       "      <td>2</td>\n",
       "      <td>231</td>\n",
       "    </tr>\n",
       "    <tr>\n",
       "      <th>3</th>\n",
       "      <td>Jacket</td>\n",
       "      <td>3</td>\n",
       "      <td>96</td>\n",
       "    </tr>\n",
       "    <tr>\n",
       "      <th>4</th>\n",
       "      <td>Miscellaneous</td>\n",
       "      <td>4</td>\n",
       "      <td>421</td>\n",
       "    </tr>\n",
       "    <tr>\n",
       "      <th>5</th>\n",
       "      <td>Snowman</td>\n",
       "      <td>5</td>\n",
       "      <td>54</td>\n",
       "    </tr>\n",
       "  </tbody>\n",
       "</table>\n",
       "</div>"
      ],
      "text/plain": [
       "            Class Class_enc  Count\n",
       "0        Airplane         0     80\n",
       "1          Candle         1     89\n",
       "2  Christmas_Tree         2    231\n",
       "3          Jacket         3     96\n",
       "4   Miscellaneous         4    421\n",
       "5         Snowman         5     54"
      ]
     },
     "execution_count": 11,
     "metadata": {},
     "output_type": "execute_result"
    }
   ],
   "source": [
    "validation_df.groupby(['Class','Class_enc']).size().reset_index().rename(columns={0:'Count'})"
   ]
  },
  {
   "cell_type": "markdown",
   "metadata": {
    "papermill": {
     "duration": 0.046838,
     "end_time": "2021-01-23T12:24:00.700260",
     "exception": false,
     "start_time": "2021-01-23T12:24:00.653422",
     "status": "completed"
    },
    "tags": []
   },
   "source": [
    "## Model Hyperparameters"
   ]
  },
  {
   "cell_type": "code",
   "execution_count": 12,
   "metadata": {
    "execution": {
     "iopub.execute_input": "2021-01-23T12:24:00.805595Z",
     "iopub.status.busy": "2021-01-23T12:24:00.804845Z",
     "iopub.status.idle": "2021-01-23T12:24:00.808162Z",
     "shell.execute_reply": "2021-01-23T12:24:00.808751Z"
    },
    "papermill": {
     "duration": 0.050483,
     "end_time": "2021-01-23T12:24:00.808978",
     "exception": false,
     "start_time": "2021-01-23T12:24:00.758495",
     "status": "completed"
    },
    "tags": []
   },
   "outputs": [],
   "source": [
    "dataset_dir = \"../input/hackereath-holiday-season-deep-learning-contest/dataset/\"\n",
    "mini_batch_size = 128\n",
    "steps_per_epoch = int(np.ceil(train_df.shape[0] / float(mini_batch_size)))\n",
    "validation_steps = int(np.ceil(validation_df.shape[0] / float(mini_batch_size)))\n",
    "test_steps = int(np.ceil(test_df.shape[0] / float(mini_batch_size)))\n",
    "image_dim = (160, 160, 3)"
   ]
  },
  {
   "cell_type": "markdown",
   "metadata": {
    "papermill": {
     "duration": 0.034441,
     "end_time": "2021-01-23T12:24:00.892533",
     "exception": false,
     "start_time": "2021-01-23T12:24:00.858092",
     "status": "completed"
    },
    "tags": []
   },
   "source": [
    "## Configure image generators"
   ]
  },
  {
   "cell_type": "code",
   "execution_count": 13,
   "metadata": {
    "execution": {
     "iopub.execute_input": "2021-01-23T12:24:00.969770Z",
     "iopub.status.busy": "2021-01-23T12:24:00.969123Z",
     "iopub.status.idle": "2021-01-23T12:24:14.483077Z",
     "shell.execute_reply": "2021-01-23T12:24:14.482210Z"
    },
    "papermill": {
     "duration": 13.565461,
     "end_time": "2021-01-23T12:24:14.483230",
     "exception": false,
     "start_time": "2021-01-23T12:24:00.917769",
     "status": "completed"
    },
    "tags": []
   },
   "outputs": [
    {
     "name": "stdout",
     "output_type": "stream",
     "text": [
      "Found 5498 validated image filenames belonging to 6 classes.\n",
      "Found 971 validated image filenames belonging to 6 classes.\n",
      "Found 3489 validated image filenames belonging to 1 classes.\n"
     ]
    }
   ],
   "source": [
    "train_datagen = ImageDataGenerator(rotation_range = 30,\n",
    "                                   zoom_range = 0.2,\n",
    "                                   horizontal_flip = True,\n",
    "                                   fill_mode = 'nearest',\n",
    "                                   height_shift_range = 0.1,\n",
    "                                   width_shift_range = 0.1)\n",
    "\n",
    "train_generator = train_datagen.flow_from_dataframe(train_df,\n",
    "                                                    directory = os.path.join(dataset_dir,\"train\"),\n",
    "                                                    x_col = \"Image\", \n",
    "                                                    y_col = \"Class_enc\",\n",
    "                                                    target_size = (image_dim[0], image_dim[1]),\n",
    "                                                    batch_size = mini_batch_size,\n",
    "                                                    class_mode = \"categorical\",\n",
    "                                                    interpolation=\"bicubic\")\n",
    "\n",
    "validation_datagen = ImageDataGenerator()\n",
    "\n",
    "validation_generator = validation_datagen.flow_from_dataframe(validation_df,\n",
    "                                                              directory = os.path.join(dataset_dir,\"train\"),\n",
    "                                                              x_col = \"Image\",\n",
    "                                                              y_col = \"Class_enc\",\n",
    "                                                              shuffle=False,\n",
    "                                                              target_size = (image_dim[0], image_dim[1]),\n",
    "                                                              batch_size = mini_batch_size,\n",
    "                                                              class_mode = \"categorical\",\n",
    "                                                              interpolation=\"bicubic\")\n",
    "\n",
    "test_datagen = ImageDataGenerator()\n",
    "\n",
    "test_generator = test_datagen.flow_from_dataframe(test_df,\n",
    "                                                  directory = os.path.join(dataset_dir,\"test\"),\n",
    "                                                  x_col = \"Image\",\n",
    "                                                  y_col = \"Class\",\n",
    "                                                  shuffle=False,\n",
    "                                                  target_size = (image_dim[0], image_dim[1]),\n",
    "                                                  batch_size = mini_batch_size,\n",
    "                                                  class_mode = \"categorical\",\n",
    "                                                  interpolation=\"bicubic\")"
   ]
  },
  {
   "cell_type": "markdown",
   "metadata": {
    "papermill": {
     "duration": 0.02614,
     "end_time": "2021-01-23T12:24:14.536536",
     "exception": false,
     "start_time": "2021-01-23T12:24:14.510396",
     "status": "completed"
    },
    "tags": []
   },
   "source": [
    "## Build and validate the model"
   ]
  },
  {
   "cell_type": "code",
   "execution_count": 14,
   "metadata": {
    "execution": {
     "iopub.execute_input": "2021-01-23T12:24:14.616567Z",
     "iopub.status.busy": "2021-01-23T12:24:14.605942Z",
     "iopub.status.idle": "2021-01-23T12:24:14.626849Z",
     "shell.execute_reply": "2021-01-23T12:24:14.626349Z"
    },
    "papermill": {
     "duration": 0.064276,
     "end_time": "2021-01-23T12:24:14.626954",
     "exception": false,
     "start_time": "2021-01-23T12:24:14.562678",
     "status": "completed"
    },
    "tags": []
   },
   "outputs": [],
   "source": [
    "def head(x_input, input_shape=2304, ratio=8):\n",
    "    \n",
    "    #=======================================================\n",
    "    #                    Channel Attention\n",
    "    #=======================================================\n",
    "    gapavg = GlobalAveragePooling2D()(x_input)\n",
    "    gapavg = Reshape((1, 1, gapavg.shape[1]))(gapavg)\n",
    "    gapavg = Conv2D(input_shape//ratio, \n",
    "                    kernel_size=1, strides=1, use_bias=True, \n",
    "                    padding='same', kernel_regularizer=l2(0.001), \n",
    "                    kernel_initializer='he_normal')(gapavg)\n",
    "    gapavg = BatchNormalization()(gapavg)\n",
    "    gapavg = Activation('relu')(gapavg)\n",
    "    gapavg_out = Conv2D(input_shape, kernel_size=1, \n",
    "                        strides=1, padding='same', use_bias=True, \n",
    "                        kernel_regularizer=l2(0.001), \n",
    "                        kernel_initializer='he_normal')(gapavg)\n",
    "    gapavg_out = BatchNormalization()(gapavg_out)\n",
    "    gapavg_out = Activation('relu')(gapavg_out)\n",
    "\n",
    "\n",
    "    gmpmax = GlobalMaxPooling2D()(x_input)\n",
    "    gmpmax = Reshape((1, 1, gmpmax.shape[1]))(gmpmax)\n",
    "    gmpmax = Conv2D(input_shape//ratio, \n",
    "                    kernel_size=1, strides=1, use_bias=True, \n",
    "                    padding='same', kernel_regularizer=l2(0.001), \n",
    "                    kernel_initializer='he_normal')(gmpmax)\n",
    "    gmpmax = BatchNormalization()(gmpmax)\n",
    "    gmpmax = Activation('relu')(gmpmax)\n",
    "    gmpmax_out = Conv2D(input_shape, kernel_size=1, \n",
    "                        strides=1, padding='same', use_bias=True, \n",
    "                        kernel_regularizer=l2(0.001), \n",
    "                        kernel_initializer='he_normal')(gmpmax)\n",
    "    gmpmax_out = BatchNormalization()(gmpmax_out)\n",
    "    gmpmax_out = Activation('relu')(gmpmax_out)\n",
    "    canx = x_input * tf.math.sigmoid(gapavg_out + gmpmax_out)\n",
    "\n",
    "\n",
    "    #=======================================================\n",
    "    #                    Spatial Attention\n",
    "    #=======================================================\n",
    "    avg_out = tf.reduce_mean(canx, axis=3)\n",
    "    max_out = tf.reduce_max(canx,  axis=3)\n",
    "    x = tf.stack([avg_out, max_out], axis=3)\n",
    "    \n",
    "    x = Conv2D(filters=64, kernel_size=3, strides=1, \n",
    "               padding='same', use_bias=False, \n",
    "               kernel_regularizer=l2(0.001), \n",
    "               kernel_initializer='he_normal')(x)\n",
    "    x = BatchNormalization()(x)\n",
    "    x = Activation('relu')(x)\n",
    "\n",
    "    x = Conv2D(filters=32, kernel_size=3, strides=1, \n",
    "               padding='same', use_bias=False, \n",
    "               kernel_regularizer=l2(0.001), \n",
    "               kernel_initializer='he_normal')(x)\n",
    "    x = BatchNormalization()(x)\n",
    "    x = Activation('relu')(x)\n",
    "\n",
    "    x = Conv2D(filters=16, kernel_size=3, strides=1, \n",
    "               padding='same', use_bias=False, \n",
    "               kernel_regularizer=l2(0.001), \n",
    "               kernel_initializer='he_normal')(x)\n",
    "    x = BatchNormalization()(x)\n",
    "    x = Activation('relu')(x)\n",
    "\n",
    "    x = Conv2D(filters=1, kernel_size=3, strides=1, \n",
    "               padding='same', use_bias=False, \n",
    "               kernel_regularizer=l2(0.001), \n",
    "               kernel_initializer='he_normal')(x)\n",
    "    x = BatchNormalization()(x)\n",
    "    x = Activation('sigmoid')(x)\n",
    "    spnx1 = canx * x\n",
    "    spnx2 = x\n",
    "    \n",
    "    gapx   = GlobalAveragePooling2D()(spnx1)\n",
    "    wvgx   = GlobalAveragePooling2D()(spnx2)\n",
    "    gapavg = Average()([gapx, wvgx])\n",
    "    x = BatchNormalization()(gapavg)\n",
    "\n",
    "\n",
    "    #=======================================================\n",
    "    #                    Tail of the model\n",
    "    #=======================================================\n",
    "\n",
    "    x = Dense(units=2048, kernel_regularizer=l2(0.0001), \n",
    "              kernel_initializer='he_uniform')(x)\n",
    "    x = BatchNormalization()(x)\n",
    "    x = Activation('relu')(x)\n",
    "    x = Dropout(rate=0.5)(x)\n",
    "    \n",
    "    x = Dense(units=1024, kernel_regularizer=l2(0.0001), \n",
    "              kernel_initializer='he_uniform')(x)\n",
    "    x = BatchNormalization()(x)\n",
    "    x = Activation('relu')(x)\n",
    "    x = Dropout(rate=0.5)(x)\n",
    "    \n",
    "    x = Dense(units=1024, kernel_regularizer=l2(0.0001), \n",
    "              kernel_initializer='he_uniform')(x)\n",
    "    x = BatchNormalization()(x)\n",
    "    x = Activation('relu')(x)\n",
    "    x = Dropout(rate=0.5)(x)\n",
    "    \n",
    "    x = Dense(units=512, kernel_regularizer=l2(0.0001), \n",
    "              kernel_initializer='he_uniform')(x)\n",
    "    x = BatchNormalization()(x)\n",
    "    x = Activation('relu')(x)\n",
    "    x = Dropout(rate=0.5)(x)\n",
    "    \n",
    "    x = Dense(units=6, activation='softmax', \n",
    "              kernel_initializer='he_uniform')(x)\n",
    "\n",
    "    return x"
   ]
  },
  {
   "cell_type": "code",
   "execution_count": 15,
   "metadata": {
    "execution": {
     "iopub.execute_input": "2021-01-23T12:24:14.689609Z",
     "iopub.status.busy": "2021-01-23T12:24:14.689046Z",
     "iopub.status.idle": "2021-01-23T12:24:25.429978Z",
     "shell.execute_reply": "2021-01-23T12:24:25.429285Z"
    },
    "papermill": {
     "duration": 10.776864,
     "end_time": "2021-01-23T12:24:25.430083",
     "exception": false,
     "start_time": "2021-01-23T12:24:14.653219",
     "status": "completed"
    },
    "tags": []
   },
   "outputs": [
    {
     "name": "stdout",
     "output_type": "stream",
     "text": [
      "Downloading data from https://storage.googleapis.com/keras-applications/efficientnetb6_notop.h5\n",
      "165240832/165234480 [==============================] - 1s 0us/step\n"
     ]
    }
   ],
   "source": [
    "# Build the model\n",
    "base_model = EfficientNetB6(weights='imagenet', \n",
    "                            input_tensor=Input(shape=image_dim), \n",
    "                            include_top=False)\n",
    "\n",
    "model = Model(base_model.input, head(base_model.output),\n",
    "              name='HackerEarth_Holiday_Season_Model')\n",
    "\n",
    "# Freeze weights for base model\n",
    "base_model.trainable = False\n",
    "for layer in base_model.layers[-18:]:\n",
    "    if not isinstance(layer, BatchNormalization):\n",
    "        layer.trainable = True\n",
    "\n",
    "# Compile the final model\n",
    "model.compile(loss='categorical_crossentropy', \n",
    "              metrics=[F1Score(num_classes=6, average='weighted'), \n",
    "                       'categorical_accuracy'],\n",
    "              optimizer=Lookahead(AdamW(lr=1e-2, \n",
    "                                        weight_decay=1e-5, \n",
    "                                        clipvalue=700), \n",
    "                                  sync_period=10))\n",
    "\n",
    "early = EarlyStopping(monitor=\"val_loss\", mode=\"min\", patience=10, \n",
    "                      restore_best_weights=True, verbose=1)\n",
    "\n",
    "reduce_lr = ReduceLROnPlateau(monitor=\"val_loss\", factor=0.1, \n",
    "                              min_lr=1e-6, patience=7, \n",
    "                              verbose=1, mode='min')\n",
    "\n",
    "chk_point = ModelCheckpoint('hackerearth_holiday_season_model.h5', \n",
    "                            monitor='val_loss', verbose=1, \n",
    "                            save_best_only=True, mode='min')"
   ]
  },
  {
   "cell_type": "code",
   "execution_count": 16,
   "metadata": {
    "execution": {
     "iopub.execute_input": "2021-01-23T12:24:25.504623Z",
     "iopub.status.busy": "2021-01-23T12:24:25.503898Z",
     "iopub.status.idle": "2021-01-23T13:07:45.242191Z",
     "shell.execute_reply": "2021-01-23T13:07:45.241419Z"
    },
    "papermill": {
     "duration": 2599.779444,
     "end_time": "2021-01-23T13:07:45.242356",
     "exception": false,
     "start_time": "2021-01-23T12:24:25.462912",
     "status": "completed"
    },
    "tags": []
   },
   "outputs": [
    {
     "name": "stdout",
     "output_type": "stream",
     "text": [
      "Epoch 1/275\n",
      "43/43 [==============================] - ETA: 0s - loss: 4.3922 - f1_score: 0.2535 - categorical_accuracy: 0.2585\n",
      "Epoch 00001: val_loss improved from inf to 9.20834, saving model to hackerearth_holiday_season_model.h5\n",
      "43/43 [==============================] - 50s 1s/step - loss: 4.3922 - f1_score: 0.2535 - categorical_accuracy: 0.2585 - val_loss: 9.2083 - val_f1_score: 0.1859 - val_categorical_accuracy: 0.2019\n",
      "Epoch 2/275\n",
      "43/43 [==============================] - ETA: 0s - loss: 1.4800 - f1_score: 0.4443 - categorical_accuracy: 0.4614\n",
      "Epoch 00002: val_loss improved from 9.20834 to 2.84930, saving model to hackerearth_holiday_season_model.h5\n",
      "43/43 [==============================] - 45s 1s/step - loss: 1.4800 - f1_score: 0.4443 - categorical_accuracy: 0.4614 - val_loss: 2.8493 - val_f1_score: 0.3540 - val_categorical_accuracy: 0.4047\n",
      "Epoch 3/275\n",
      "43/43 [==============================] - ETA: 0s - loss: 1.0411 - f1_score: 0.6729 - categorical_accuracy: 0.6775\n",
      "Epoch 00003: val_loss did not improve from 2.84930\n",
      "43/43 [==============================] - 38s 891ms/step - loss: 1.0411 - f1_score: 0.6729 - categorical_accuracy: 0.6775 - val_loss: 3.0036 - val_f1_score: 0.5879 - val_categorical_accuracy: 0.6045\n",
      "Epoch 4/275\n",
      "43/43 [==============================] - ETA: 0s - loss: 0.8230 - f1_score: 0.7265 - categorical_accuracy: 0.7263\n",
      "Epoch 00004: val_loss improved from 2.84930 to 1.23464, saving model to hackerearth_holiday_season_model.h5\n",
      "43/43 [==============================] - 46s 1s/step - loss: 0.8230 - f1_score: 0.7265 - categorical_accuracy: 0.7263 - val_loss: 1.2346 - val_f1_score: 0.7996 - val_categorical_accuracy: 0.7878\n",
      "Epoch 5/275\n",
      "43/43 [==============================] - ETA: 0s - loss: 0.6683 - f1_score: 0.7545 - categorical_accuracy: 0.7539\n",
      "Epoch 00005: val_loss improved from 1.23464 to 1.06961, saving model to hackerearth_holiday_season_model.h5\n",
      "43/43 [==============================] - 46s 1s/step - loss: 0.6683 - f1_score: 0.7545 - categorical_accuracy: 0.7539 - val_loss: 1.0696 - val_f1_score: 0.8319 - val_categorical_accuracy: 0.8280\n",
      "Epoch 6/275\n",
      "43/43 [==============================] - ETA: 0s - loss: 0.5629 - f1_score: 0.7805 - categorical_accuracy: 0.7777\n",
      "Epoch 00006: val_loss did not improve from 1.06961\n",
      "43/43 [==============================] - 41s 955ms/step - loss: 0.5629 - f1_score: 0.7805 - categorical_accuracy: 0.7777 - val_loss: 1.0874 - val_f1_score: 0.7807 - val_categorical_accuracy: 0.7786\n",
      "Epoch 7/275\n",
      "43/43 [==============================] - ETA: 0s - loss: 0.5078 - f1_score: 0.7909 - categorical_accuracy: 0.7883\n",
      "Epoch 00007: val_loss improved from 1.06961 to 0.95578, saving model to hackerearth_holiday_season_model.h5\n",
      "43/43 [==============================] - 46s 1s/step - loss: 0.5078 - f1_score: 0.7909 - categorical_accuracy: 0.7883 - val_loss: 0.9558 - val_f1_score: 0.8171 - val_categorical_accuracy: 0.8167\n",
      "Epoch 8/275\n",
      "43/43 [==============================] - ETA: 0s - loss: 0.5248 - f1_score: 0.7755 - categorical_accuracy: 0.7746\n",
      "Epoch 00008: val_loss did not improve from 0.95578\n",
      "43/43 [==============================] - 38s 890ms/step - loss: 0.5248 - f1_score: 0.7755 - categorical_accuracy: 0.7746 - val_loss: 0.9827 - val_f1_score: 0.8075 - val_categorical_accuracy: 0.8023\n",
      "Epoch 9/275\n",
      "43/43 [==============================] - ETA: 0s - loss: 0.4875 - f1_score: 0.7940 - categorical_accuracy: 0.7936\n",
      "Epoch 00009: val_loss improved from 0.95578 to 0.88040, saving model to hackerearth_holiday_season_model.h5\n",
      "43/43 [==============================] - 45s 1s/step - loss: 0.4875 - f1_score: 0.7940 - categorical_accuracy: 0.7936 - val_loss: 0.8804 - val_f1_score: 0.8299 - val_categorical_accuracy: 0.8270\n",
      "Epoch 10/275\n",
      "43/43 [==============================] - ETA: 0s - loss: 0.4429 - f1_score: 0.7962 - categorical_accuracy: 0.7943\n",
      "Epoch 00010: val_loss improved from 0.88040 to 0.85500, saving model to hackerearth_holiday_season_model.h5\n",
      "43/43 [==============================] - 45s 1s/step - loss: 0.4429 - f1_score: 0.7962 - categorical_accuracy: 0.7943 - val_loss: 0.8550 - val_f1_score: 0.8308 - val_categorical_accuracy: 0.8260\n",
      "Epoch 11/275\n",
      "43/43 [==============================] - ETA: 0s - loss: 0.4184 - f1_score: 0.7982 - categorical_accuracy: 0.7970\n",
      "Epoch 00011: val_loss improved from 0.85500 to 0.74591, saving model to hackerearth_holiday_season_model.h5\n",
      "43/43 [==============================] - 45s 1s/step - loss: 0.4184 - f1_score: 0.7982 - categorical_accuracy: 0.7970 - val_loss: 0.7459 - val_f1_score: 0.8512 - val_categorical_accuracy: 0.8507\n",
      "Epoch 12/275\n",
      "43/43 [==============================] - ETA: 0s - loss: 0.4059 - f1_score: 0.8087 - categorical_accuracy: 0.8074\n",
      "Epoch 00012: val_loss did not improve from 0.74591\n",
      "43/43 [==============================] - 38s 872ms/step - loss: 0.4059 - f1_score: 0.8087 - categorical_accuracy: 0.8074 - val_loss: 1.2605 - val_f1_score: 0.7296 - val_categorical_accuracy: 0.7116\n",
      "Epoch 13/275\n",
      "43/43 [==============================] - ETA: 0s - loss: 0.4014 - f1_score: 0.8243 - categorical_accuracy: 0.8227\n",
      "Epoch 00013: val_loss improved from 0.74591 to 0.74172, saving model to hackerearth_holiday_season_model.h5\n",
      "43/43 [==============================] - 46s 1s/step - loss: 0.4014 - f1_score: 0.8243 - categorical_accuracy: 0.8227 - val_loss: 0.7417 - val_f1_score: 0.8529 - val_categorical_accuracy: 0.8507\n",
      "Epoch 14/275\n",
      "43/43 [==============================] - ETA: 0s - loss: 0.3970 - f1_score: 0.8223 - categorical_accuracy: 0.8198\n",
      "Epoch 00014: val_loss did not improve from 0.74172\n",
      "43/43 [==============================] - 38s 895ms/step - loss: 0.3970 - f1_score: 0.8223 - categorical_accuracy: 0.8198 - val_loss: 0.7568 - val_f1_score: 0.8417 - val_categorical_accuracy: 0.8414\n",
      "Epoch 15/275\n",
      "43/43 [==============================] - ETA: 0s - loss: 0.3935 - f1_score: 0.8183 - categorical_accuracy: 0.8172\n",
      "Epoch 00015: val_loss did not improve from 0.74172\n",
      "43/43 [==============================] - 38s 890ms/step - loss: 0.3935 - f1_score: 0.8183 - categorical_accuracy: 0.8172 - val_loss: 0.7568 - val_f1_score: 0.8343 - val_categorical_accuracy: 0.8321\n",
      "Epoch 16/275\n",
      "43/43 [==============================] - ETA: 0s - loss: 0.3822 - f1_score: 0.8119 - categorical_accuracy: 0.8108\n",
      "Epoch 00016: val_loss did not improve from 0.74172\n",
      "43/43 [==============================] - 37s 858ms/step - loss: 0.3822 - f1_score: 0.8119 - categorical_accuracy: 0.8108 - val_loss: 1.0573 - val_f1_score: 0.8154 - val_categorical_accuracy: 0.8043\n",
      "Epoch 17/275\n",
      "43/43 [==============================] - ETA: 0s - loss: 0.3931 - f1_score: 0.8310 - categorical_accuracy: 0.8290\n",
      "Epoch 00017: val_loss improved from 0.74172 to 0.58440, saving model to hackerearth_holiday_season_model.h5\n",
      "43/43 [==============================] - 45s 1s/step - loss: 0.3931 - f1_score: 0.8310 - categorical_accuracy: 0.8290 - val_loss: 0.5844 - val_f1_score: 0.8680 - val_categorical_accuracy: 0.8671\n",
      "Epoch 18/275\n",
      "43/43 [==============================] - ETA: 0s - loss: 0.3619 - f1_score: 0.8206 - categorical_accuracy: 0.8194\n",
      "Epoch 00018: val_loss did not improve from 0.58440\n",
      "43/43 [==============================] - 39s 909ms/step - loss: 0.3619 - f1_score: 0.8206 - categorical_accuracy: 0.8194 - val_loss: 0.7434 - val_f1_score: 0.8462 - val_categorical_accuracy: 0.8414\n",
      "Epoch 19/275\n",
      "43/43 [==============================] - ETA: 0s - loss: 0.4014 - f1_score: 0.8260 - categorical_accuracy: 0.8238\n",
      "Epoch 00019: val_loss did not improve from 0.58440\n",
      "43/43 [==============================] - 38s 893ms/step - loss: 0.4014 - f1_score: 0.8260 - categorical_accuracy: 0.8238 - val_loss: 1.2574 - val_f1_score: 0.6090 - val_categorical_accuracy: 0.6684\n",
      "Epoch 20/275\n",
      "43/43 [==============================] - ETA: 0s - loss: 0.3718 - f1_score: 0.8254 - categorical_accuracy: 0.8239\n",
      "Epoch 00020: val_loss did not improve from 0.58440\n",
      "43/43 [==============================] - 38s 880ms/step - loss: 0.3718 - f1_score: 0.8254 - categorical_accuracy: 0.8239 - val_loss: 0.7159 - val_f1_score: 0.8536 - val_categorical_accuracy: 0.8517\n",
      "Epoch 21/275\n",
      "43/43 [==============================] - ETA: 0s - loss: 0.4160 - f1_score: 0.8325 - categorical_accuracy: 0.8299\n",
      "Epoch 00021: val_loss did not improve from 0.58440\n",
      "43/43 [==============================] - 38s 887ms/step - loss: 0.4160 - f1_score: 0.8325 - categorical_accuracy: 0.8299 - val_loss: 0.9423 - val_f1_score: 0.7967 - val_categorical_accuracy: 0.7930\n",
      "Epoch 22/275\n",
      "43/43 [==============================] - ETA: 0s - loss: 0.3886 - f1_score: 0.8290 - categorical_accuracy: 0.8285\n",
      "Epoch 00022: val_loss did not improve from 0.58440\n",
      "43/43 [==============================] - 39s 897ms/step - loss: 0.3886 - f1_score: 0.8290 - categorical_accuracy: 0.8285 - val_loss: 1.0398 - val_f1_score: 0.8528 - val_categorical_accuracy: 0.8507\n",
      "Epoch 23/275\n",
      "43/43 [==============================] - ETA: 0s - loss: 0.4303 - f1_score: 0.8334 - categorical_accuracy: 0.8323\n",
      "Epoch 00023: val_loss did not improve from 0.58440\n",
      "43/43 [==============================] - 38s 875ms/step - loss: 0.4303 - f1_score: 0.8334 - categorical_accuracy: 0.8323 - val_loss: 0.7979 - val_f1_score: 0.8357 - val_categorical_accuracy: 0.8352\n",
      "Epoch 24/275\n",
      "43/43 [==============================] - ETA: 0s - loss: 0.3467 - f1_score: 0.8423 - categorical_accuracy: 0.8414\n",
      "Epoch 00024: ReduceLROnPlateau reducing learning rate to 0.0009999999776482583.\n",
      "\n",
      "Epoch 00024: val_loss did not improve from 0.58440\n",
      "43/43 [==============================] - 37s 870ms/step - loss: 0.3467 - f1_score: 0.8423 - categorical_accuracy: 0.8414 - val_loss: 0.6628 - val_f1_score: 0.8420 - val_categorical_accuracy: 0.8393\n",
      "Epoch 25/275\n",
      "43/43 [==============================] - ETA: 0s - loss: 0.2616 - f1_score: 0.8638 - categorical_accuracy: 0.8629\n",
      "Epoch 00025: val_loss improved from 0.58440 to 0.53581, saving model to hackerearth_holiday_season_model.h5\n",
      "43/43 [==============================] - 46s 1s/step - loss: 0.2616 - f1_score: 0.8638 - categorical_accuracy: 0.8629 - val_loss: 0.5358 - val_f1_score: 0.8729 - val_categorical_accuracy: 0.8723\n",
      "Epoch 26/275\n",
      "43/43 [==============================] - ETA: 0s - loss: 0.2281 - f1_score: 0.8706 - categorical_accuracy: 0.8696\n",
      "Epoch 00026: val_loss improved from 0.53581 to 0.49831, saving model to hackerearth_holiday_season_model.h5\n",
      "43/43 [==============================] - 44s 1s/step - loss: 0.2281 - f1_score: 0.8706 - categorical_accuracy: 0.8696 - val_loss: 0.4983 - val_f1_score: 0.8838 - val_categorical_accuracy: 0.8836\n",
      "Epoch 27/275\n",
      "43/43 [==============================] - ETA: 0s - loss: 0.2070 - f1_score: 0.8665 - categorical_accuracy: 0.8658\n",
      "Epoch 00027: val_loss improved from 0.49831 to 0.48203, saving model to hackerearth_holiday_season_model.h5\n",
      "43/43 [==============================] - 46s 1s/step - loss: 0.2070 - f1_score: 0.8665 - categorical_accuracy: 0.8658 - val_loss: 0.4820 - val_f1_score: 0.8827 - val_categorical_accuracy: 0.8826\n",
      "Epoch 28/275\n",
      "43/43 [==============================] - ETA: 0s - loss: 0.1884 - f1_score: 0.8746 - categorical_accuracy: 0.8741\n",
      "Epoch 00028: val_loss improved from 0.48203 to 0.47674, saving model to hackerearth_holiday_season_model.h5\n",
      "43/43 [==============================] - 48s 1s/step - loss: 0.1884 - f1_score: 0.8746 - categorical_accuracy: 0.8741 - val_loss: 0.4767 - val_f1_score: 0.8865 - val_categorical_accuracy: 0.8867\n",
      "Epoch 29/275\n",
      "43/43 [==============================] - ETA: 0s - loss: 0.1768 - f1_score: 0.8780 - categorical_accuracy: 0.8774\n",
      "Epoch 00029: val_loss improved from 0.47674 to 0.46025, saving model to hackerearth_holiday_season_model.h5\n",
      "43/43 [==============================] - 46s 1s/step - loss: 0.1768 - f1_score: 0.8780 - categorical_accuracy: 0.8774 - val_loss: 0.4602 - val_f1_score: 0.8966 - val_categorical_accuracy: 0.8970\n",
      "Epoch 30/275\n",
      "43/43 [==============================] - ETA: 0s - loss: 0.1678 - f1_score: 0.8797 - categorical_accuracy: 0.8792\n",
      "Epoch 00030: val_loss improved from 0.46025 to 0.44880, saving model to hackerearth_holiday_season_model.h5\n",
      "43/43 [==============================] - 45s 1s/step - loss: 0.1678 - f1_score: 0.8797 - categorical_accuracy: 0.8792 - val_loss: 0.4488 - val_f1_score: 0.8876 - val_categorical_accuracy: 0.8877\n",
      "Epoch 31/275\n",
      "43/43 [==============================] - ETA: 0s - loss: 0.1655 - f1_score: 0.8750 - categorical_accuracy: 0.8745\n",
      "Epoch 00031: val_loss improved from 0.44880 to 0.43537, saving model to hackerearth_holiday_season_model.h5\n",
      "43/43 [==============================] - 45s 1s/step - loss: 0.1655 - f1_score: 0.8750 - categorical_accuracy: 0.8745 - val_loss: 0.4354 - val_f1_score: 0.8879 - val_categorical_accuracy: 0.8877\n",
      "Epoch 32/275\n",
      "43/43 [==============================] - ETA: 0s - loss: 0.1499 - f1_score: 0.8885 - categorical_accuracy: 0.8880\n",
      "Epoch 00032: val_loss improved from 0.43537 to 0.42327, saving model to hackerearth_holiday_season_model.h5\n",
      "43/43 [==============================] - 46s 1s/step - loss: 0.1499 - f1_score: 0.8885 - categorical_accuracy: 0.8880 - val_loss: 0.4233 - val_f1_score: 0.8898 - val_categorical_accuracy: 0.8898\n",
      "Epoch 33/275\n",
      "43/43 [==============================] - ETA: 0s - loss: 0.1662 - f1_score: 0.8733 - categorical_accuracy: 0.8725\n",
      "Epoch 00033: val_loss improved from 0.42327 to 0.42031, saving model to hackerearth_holiday_season_model.h5\n",
      "43/43 [==============================] - 46s 1s/step - loss: 0.1662 - f1_score: 0.8733 - categorical_accuracy: 0.8725 - val_loss: 0.4203 - val_f1_score: 0.8922 - val_categorical_accuracy: 0.8919\n",
      "Epoch 34/275\n",
      "43/43 [==============================] - ETA: 0s - loss: 0.1404 - f1_score: 0.8896 - categorical_accuracy: 0.8892\n",
      "Epoch 00034: val_loss improved from 0.42031 to 0.40704, saving model to hackerearth_holiday_season_model.h5\n",
      "43/43 [==============================] - 46s 1s/step - loss: 0.1404 - f1_score: 0.8896 - categorical_accuracy: 0.8892 - val_loss: 0.4070 - val_f1_score: 0.8911 - val_categorical_accuracy: 0.8908\n",
      "Epoch 35/275\n",
      "43/43 [==============================] - ETA: 0s - loss: 0.1434 - f1_score: 0.8833 - categorical_accuracy: 0.8827\n",
      "Epoch 00035: val_loss did not improve from 0.40704\n",
      "43/43 [==============================] - 38s 877ms/step - loss: 0.1434 - f1_score: 0.8833 - categorical_accuracy: 0.8827 - val_loss: 0.4152 - val_f1_score: 0.8830 - val_categorical_accuracy: 0.8826\n",
      "Epoch 36/275\n",
      "43/43 [==============================] - ETA: 0s - loss: 0.1343 - f1_score: 0.8806 - categorical_accuracy: 0.8803\n",
      "Epoch 00036: val_loss did not improve from 0.40704\n",
      "43/43 [==============================] - 38s 885ms/step - loss: 0.1343 - f1_score: 0.8806 - categorical_accuracy: 0.8803 - val_loss: 0.4309 - val_f1_score: 0.8792 - val_categorical_accuracy: 0.8785\n",
      "Epoch 37/275\n",
      "43/43 [==============================] - ETA: 0s - loss: 0.1346 - f1_score: 0.8875 - categorical_accuracy: 0.8870\n",
      "Epoch 00037: val_loss did not improve from 0.40704\n",
      "43/43 [==============================] - 39s 912ms/step - loss: 0.1346 - f1_score: 0.8875 - categorical_accuracy: 0.8870 - val_loss: 0.4089 - val_f1_score: 0.8880 - val_categorical_accuracy: 0.8877\n",
      "Epoch 38/275\n",
      "43/43 [==============================] - ETA: 0s - loss: 0.1319 - f1_score: 0.8877 - categorical_accuracy: 0.8869\n",
      "Epoch 00038: val_loss improved from 0.40704 to 0.39423, saving model to hackerearth_holiday_season_model.h5\n",
      "43/43 [==============================] - 45s 1s/step - loss: 0.1319 - f1_score: 0.8877 - categorical_accuracy: 0.8869 - val_loss: 0.3942 - val_f1_score: 0.8836 - val_categorical_accuracy: 0.8836\n",
      "Epoch 39/275\n",
      "43/43 [==============================] - ETA: 0s - loss: 0.1272 - f1_score: 0.8876 - categorical_accuracy: 0.8872\n",
      "Epoch 00039: val_loss did not improve from 0.39423\n",
      "43/43 [==============================] - 38s 880ms/step - loss: 0.1272 - f1_score: 0.8876 - categorical_accuracy: 0.8872 - val_loss: 0.4110 - val_f1_score: 0.8868 - val_categorical_accuracy: 0.8867\n",
      "Epoch 40/275\n",
      "43/43 [==============================] - ETA: 0s - loss: 0.1321 - f1_score: 0.8893 - categorical_accuracy: 0.8889\n",
      "Epoch 00040: val_loss did not improve from 0.39423\n",
      "43/43 [==============================] - 38s 885ms/step - loss: 0.1321 - f1_score: 0.8893 - categorical_accuracy: 0.8889 - val_loss: 0.4007 - val_f1_score: 0.8809 - val_categorical_accuracy: 0.8805\n",
      "Epoch 41/275\n",
      "43/43 [==============================] - ETA: 0s - loss: 0.1272 - f1_score: 0.8906 - categorical_accuracy: 0.8900\n",
      "Epoch 00041: val_loss did not improve from 0.39423\n",
      "43/43 [==============================] - 38s 892ms/step - loss: 0.1272 - f1_score: 0.8906 - categorical_accuracy: 0.8900 - val_loss: 0.4006 - val_f1_score: 0.8891 - val_categorical_accuracy: 0.8888\n",
      "Epoch 42/275\n",
      "43/43 [==============================] - ETA: 0s - loss: 0.1225 - f1_score: 0.8924 - categorical_accuracy: 0.8918\n",
      "Epoch 00042: val_loss did not improve from 0.39423\n",
      "43/43 [==============================] - 39s 896ms/step - loss: 0.1225 - f1_score: 0.8924 - categorical_accuracy: 0.8918 - val_loss: 0.4016 - val_f1_score: 0.8826 - val_categorical_accuracy: 0.8826\n",
      "Epoch 43/275\n",
      "43/43 [==============================] - ETA: 0s - loss: 0.1213 - f1_score: 0.8967 - categorical_accuracy: 0.8965\n",
      "Epoch 00043: val_loss did not improve from 0.39423\n",
      "43/43 [==============================] - 37s 870ms/step - loss: 0.1213 - f1_score: 0.8967 - categorical_accuracy: 0.8965 - val_loss: 0.4470 - val_f1_score: 0.8792 - val_categorical_accuracy: 0.8785\n",
      "Epoch 44/275\n",
      "43/43 [==============================] - ETA: 0s - loss: 0.1275 - f1_score: 0.8878 - categorical_accuracy: 0.8870\n",
      "Epoch 00044: val_loss did not improve from 0.39423\n",
      "43/43 [==============================] - 39s 901ms/step - loss: 0.1275 - f1_score: 0.8878 - categorical_accuracy: 0.8870 - val_loss: 0.4060 - val_f1_score: 0.8841 - val_categorical_accuracy: 0.8836\n",
      "Epoch 45/275\n",
      "43/43 [==============================] - ETA: 0s - loss: 0.1164 - f1_score: 0.8938 - categorical_accuracy: 0.8934\n",
      "Epoch 00045: val_loss improved from 0.39423 to 0.39300, saving model to hackerearth_holiday_season_model.h5\n",
      "43/43 [==============================] - 45s 1s/step - loss: 0.1164 - f1_score: 0.8938 - categorical_accuracy: 0.8934 - val_loss: 0.3930 - val_f1_score: 0.8878 - val_categorical_accuracy: 0.8877\n",
      "Epoch 46/275\n",
      "43/43 [==============================] - ETA: 0s - loss: 0.1213 - f1_score: 0.9006 - categorical_accuracy: 0.9005\n",
      "Epoch 00046: val_loss did not improve from 0.39300\n",
      "43/43 [==============================] - 38s 892ms/step - loss: 0.1213 - f1_score: 0.9006 - categorical_accuracy: 0.9005 - val_loss: 0.3970 - val_f1_score: 0.8849 - val_categorical_accuracy: 0.8847\n",
      "Epoch 47/275\n",
      "43/43 [==============================] - ETA: 0s - loss: 0.1148 - f1_score: 0.9025 - categorical_accuracy: 0.9021\n",
      "Epoch 00047: val_loss did not improve from 0.39300\n",
      "43/43 [==============================] - 38s 879ms/step - loss: 0.1148 - f1_score: 0.9025 - categorical_accuracy: 0.9021 - val_loss: 0.3991 - val_f1_score: 0.8829 - val_categorical_accuracy: 0.8826\n",
      "Epoch 48/275\n",
      "43/43 [==============================] - ETA: 0s - loss: 0.1219 - f1_score: 0.8933 - categorical_accuracy: 0.8927\n",
      "Epoch 00048: val_loss did not improve from 0.39300\n",
      "43/43 [==============================] - 40s 938ms/step - loss: 0.1219 - f1_score: 0.8933 - categorical_accuracy: 0.8927 - val_loss: 0.4094 - val_f1_score: 0.8828 - val_categorical_accuracy: 0.8826\n",
      "Epoch 49/275\n",
      "43/43 [==============================] - ETA: 0s - loss: 0.1173 - f1_score: 0.8954 - categorical_accuracy: 0.8952\n",
      "Epoch 00049: val_loss did not improve from 0.39300\n",
      "43/43 [==============================] - 41s 943ms/step - loss: 0.1173 - f1_score: 0.8954 - categorical_accuracy: 0.8952 - val_loss: 0.4156 - val_f1_score: 0.8838 - val_categorical_accuracy: 0.8836\n",
      "Epoch 50/275\n",
      "43/43 [==============================] - ETA: 0s - loss: 0.1158 - f1_score: 0.8934 - categorical_accuracy: 0.8925\n",
      "Epoch 00050: val_loss did not improve from 0.39300\n",
      "43/43 [==============================] - 41s 958ms/step - loss: 0.1158 - f1_score: 0.8934 - categorical_accuracy: 0.8925 - val_loss: 0.3997 - val_f1_score: 0.8772 - val_categorical_accuracy: 0.8764\n",
      "Epoch 51/275\n",
      "43/43 [==============================] - ETA: 0s - loss: 0.1166 - f1_score: 0.8989 - categorical_accuracy: 0.8981\n",
      "Epoch 00051: val_loss did not improve from 0.39300\n",
      "43/43 [==============================] - 39s 917ms/step - loss: 0.1166 - f1_score: 0.8989 - categorical_accuracy: 0.8981 - val_loss: 0.4356 - val_f1_score: 0.8841 - val_categorical_accuracy: 0.8836\n",
      "Epoch 52/275\n",
      "43/43 [==============================] - ETA: 0s - loss: 0.1201 - f1_score: 0.8954 - categorical_accuracy: 0.8951\n",
      "Epoch 00052: ReduceLROnPlateau reducing learning rate to 9.999999310821295e-05.\n",
      "\n",
      "Epoch 00052: val_loss did not improve from 0.39300\n",
      "43/43 [==============================] - 39s 909ms/step - loss: 0.1201 - f1_score: 0.8954 - categorical_accuracy: 0.8951 - val_loss: 0.4420 - val_f1_score: 0.8656 - val_categorical_accuracy: 0.8641\n",
      "Epoch 53/275\n",
      "43/43 [==============================] - ETA: 0s - loss: 0.1092 - f1_score: 0.8943 - categorical_accuracy: 0.8936\n",
      "Epoch 00053: val_loss did not improve from 0.39300\n",
      "43/43 [==============================] - 40s 937ms/step - loss: 0.1092 - f1_score: 0.8943 - categorical_accuracy: 0.8936 - val_loss: 0.4100 - val_f1_score: 0.8844 - val_categorical_accuracy: 0.8836\n",
      "Epoch 54/275\n",
      "43/43 [==============================] - ETA: 0s - loss: 0.1062 - f1_score: 0.9041 - categorical_accuracy: 0.9038\n",
      "Epoch 00054: val_loss did not improve from 0.39300\n",
      "43/43 [==============================] - 44s 1s/step - loss: 0.1062 - f1_score: 0.9041 - categorical_accuracy: 0.9038 - val_loss: 0.4033 - val_f1_score: 0.8885 - val_categorical_accuracy: 0.8877\n",
      "Epoch 55/275\n",
      "43/43 [==============================] - ETA: 0s - loss: 0.1039 - f1_score: 0.9054 - categorical_accuracy: 0.9051Restoring model weights from the end of the best epoch.\n",
      "\n",
      "Epoch 00055: val_loss did not improve from 0.39300\n",
      "43/43 [==============================] - 40s 939ms/step - loss: 0.1039 - f1_score: 0.9054 - categorical_accuracy: 0.9051 - val_loss: 0.4035 - val_f1_score: 0.8894 - val_categorical_accuracy: 0.8888\n",
      "Epoch 00055: early stopping\n"
     ]
    }
   ],
   "source": [
    "history = model.fit(\n",
    "    train_generator, \n",
    "    steps_per_epoch=steps_per_epoch,\n",
    "    class_weight=class_weight, \n",
    "    epochs=275, \n",
    "    verbose=1, \n",
    "    workers=5,\n",
    "    callbacks=[reduce_lr, early, chk_point], \n",
    "    validation_data=validation_generator,\n",
    "    validation_steps=validation_steps\n",
    ")"
   ]
  },
  {
   "cell_type": "code",
   "execution_count": 17,
   "metadata": {
    "execution": {
     "iopub.execute_input": "2021-01-23T13:07:51.214153Z",
     "iopub.status.busy": "2021-01-23T13:07:51.213598Z",
     "iopub.status.idle": "2021-01-23T13:07:52.224098Z",
     "shell.execute_reply": "2021-01-23T13:07:52.223204Z"
    },
    "papermill": {
     "duration": 4.062427,
     "end_time": "2021-01-23T13:07:52.224235",
     "exception": false,
     "start_time": "2021-01-23T13:07:48.161808",
     "status": "completed"
    },
    "tags": []
   },
   "outputs": [
    {
     "data": {
      "image/png": "[encoded data removed]",
      "text/plain": [
       "<Figure size 2160x720 with 3 Axes>"
      ]
     },
     "metadata": {},
     "output_type": "display_data"
    }
   ],
   "source": [
    "_, ax = plt.subplots(1, 3, figsize=(30, 10))\n",
    "\n",
    "ax[0].plot(history.history['loss'], label='train_loss')\n",
    "ax[0].plot(history.history['val_loss'], label='val_loss')\n",
    "ax[0].set_ylabel('Loss')\n",
    "ax[0].set_xlabel('Epoch')\n",
    "ax[0].set_title(\"Model Loss Curve\")\n",
    "ax[0].legend()\n",
    "ax[0].grid()\n",
    "\n",
    "ax[1].plot(history.history['f1_score'], label='train_f1_score')\n",
    "ax[1].plot(history.history['val_f1_score'], label='val_f1_score')\n",
    "ax[1].set_ylabel('F1-Score')\n",
    "ax[1].set_xlabel('Epoch')\n",
    "ax[1].set_title(\"Model F1-Score Curve\")\n",
    "ax[1].legend()\n",
    "ax[1].grid()\n",
    "\n",
    "ax[2].plot(history.history['categorical_accuracy'], label='train_accuracy')\n",
    "ax[2].plot(history.history['val_categorical_accuracy'], label='val_accuracy')\n",
    "ax[2].set_ylabel('Accuracy')\n",
    "ax[2].set_xlabel('Epoch')\n",
    "ax[2].set_title(\"Model Accuracy Curve\")\n",
    "ax[2].legend()\n",
    "ax[2].grid()"
   ]
  },
  {
   "cell_type": "markdown",
   "metadata": {
    "papermill": {
     "duration": 0.759903,
     "end_time": "2021-01-23T13:07:53.722739",
     "exception": false,
     "start_time": "2021-01-23T13:07:52.962836",
     "status": "completed"
    },
    "tags": []
   },
   "source": [
    "## Check classification report"
   ]
  },
  {
   "cell_type": "code",
   "execution_count": 18,
   "metadata": {
    "execution": {
     "iopub.execute_input": "2021-01-23T13:07:55.290588Z",
     "iopub.status.busy": "2021-01-23T13:07:55.289720Z",
     "iopub.status.idle": "2021-01-23T13:08:01.554832Z",
     "shell.execute_reply": "2021-01-23T13:08:01.554318Z"
    },
    "papermill": {
     "duration": 7.068446,
     "end_time": "2021-01-23T13:08:01.554942",
     "exception": false,
     "start_time": "2021-01-23T13:07:54.486496",
     "status": "completed"
    },
    "tags": []
   },
   "outputs": [],
   "source": [
    "model = load_model('./hackerearth_holiday_season_model.h5')"
   ]
  },
  {
   "cell_type": "code",
   "execution_count": 19,
   "metadata": {
    "execution": {
     "iopub.execute_input": "2021-01-23T13:08:03.026497Z",
     "iopub.status.busy": "2021-01-23T13:08:03.025480Z",
     "iopub.status.idle": "2021-01-23T13:08:09.405455Z",
     "shell.execute_reply": "2021-01-23T13:08:09.406017Z"
    },
    "papermill": {
     "duration": 7.119675,
     "end_time": "2021-01-23T13:08:09.406161",
     "exception": false,
     "start_time": "2021-01-23T13:08:02.286486",
     "status": "completed"
    },
    "tags": []
   },
   "outputs": [
    {
     "name": "stdout",
     "output_type": "stream",
     "text": [
      "8/8 [==============================] - 2s 294ms/step\n",
      "\n",
      "y_true: (971,)\n",
      "y_pred: (971,)\n"
     ]
    }
   ],
   "source": [
    "y_true = np.array([validation_generator.classes]).ravel()\n",
    "y_pred = model.predict(validation_generator, verbose=1)\n",
    "y_pred = np.argmax(y_pred, axis=1)\n",
    "\n",
    "print(\"\\ny_true: {}\".format(y_true.shape))\n",
    "print(\"y_pred: {}\".format(y_pred.shape))"
   ]
  },
  {
   "cell_type": "code",
   "execution_count": 20,
   "metadata": {
    "execution": {
     "iopub.execute_input": "2021-01-23T13:08:11.048059Z",
     "iopub.status.busy": "2021-01-23T13:08:11.047148Z",
     "iopub.status.idle": "2021-01-23T13:08:11.063734Z",
     "shell.execute_reply": "2021-01-23T13:08:11.064307Z"
    },
    "papermill": {
     "duration": 0.889863,
     "end_time": "2021-01-23T13:08:11.064476",
     "exception": false,
     "start_time": "2021-01-23T13:08:10.174613",
     "status": "completed"
    },
    "tags": []
   },
   "outputs": [
    {
     "name": "stdout",
     "output_type": "stream",
     "text": [
      "              precision    recall  f1-score   support\n",
      "\n",
      "           0       0.89      0.81      0.85        80\n",
      "           1       0.79      0.89      0.84        89\n",
      "           2       0.89      0.93      0.91       231\n",
      "           3       0.93      0.91      0.92        96\n",
      "           4       0.91      0.88      0.90       421\n",
      "           5       0.85      0.81      0.83        54\n",
      "\n",
      "    accuracy                           0.89       971\n",
      "   macro avg       0.87      0.87      0.87       971\n",
      "weighted avg       0.89      0.89      0.89       971\n",
      "\n"
     ]
    }
   ],
   "source": [
    "print(classification_report(y_true, y_pred))"
   ]
  },
  {
   "cell_type": "code",
   "execution_count": 21,
   "metadata": {
    "execution": {
     "iopub.execute_input": "2021-01-23T13:08:12.731396Z",
     "iopub.status.busy": "2021-01-23T13:08:12.730576Z",
     "iopub.status.idle": "2021-01-23T13:08:13.123237Z",
     "shell.execute_reply": "2021-01-23T13:08:13.122766Z"
    },
    "papermill": {
     "duration": 1.158061,
     "end_time": "2021-01-23T13:08:13.123332",
     "exception": false,
     "start_time": "2021-01-23T13:08:11.965271",
     "status": "completed"
    },
    "tags": []
   },
   "outputs": [
    {
     "data": {
      "image/png": "[encoded data removed]",
      "text/plain": [
       "<Figure size 864x504 with 2 Axes>"
      ]
     },
     "metadata": {},
     "output_type": "display_data"
    }
   ],
   "source": [
    "cnf_matrix = confusion_matrix(y_true, y_pred, labels=[0, 1, 2, 3, 4, 5])\n",
    "np.set_printoptions(precision=2)\n",
    "plt.figure(figsize=(12,7))\n",
    "plot_confusion_matrix(cnf_matrix, classes=[0, 1, 2, 3, 4, 5])"
   ]
  },
  {
   "cell_type": "markdown",
   "metadata": {
    "papermill": {
     "duration": 0.796581,
     "end_time": "2021-01-23T13:08:14.706231",
     "exception": false,
     "start_time": "2021-01-23T13:08:13.909650",
     "status": "completed"
    },
    "tags": []
   },
   "source": [
    "## Create submission file"
   ]
  },
  {
   "cell_type": "code",
   "execution_count": 22,
   "metadata": {
    "execution": {
     "iopub.execute_input": "2021-01-23T13:08:16.223417Z",
     "iopub.status.busy": "2021-01-23T13:08:16.221958Z",
     "iopub.status.idle": "2021-01-23T13:08:16.224528Z",
     "shell.execute_reply": "2021-01-23T13:08:16.224938Z"
    },
    "papermill": {
     "duration": 0.745859,
     "end_time": "2021-01-23T13:08:16.225058",
     "exception": false,
     "start_time": "2021-01-23T13:08:15.479199",
     "status": "completed"
    },
    "tags": []
   },
   "outputs": [],
   "source": [
    "rev_class_map = {\n",
    "    0: 'Airplane',\n",
    "    1: 'Candle',\n",
    "    2: 'Christmas_Tree',\n",
    "    3: 'Jacket',\n",
    "    4: 'Miscellaneous',\n",
    "    5: 'Snowman'\n",
    "}"
   ]
  },
  {
   "cell_type": "code",
   "execution_count": 23,
   "metadata": {
    "execution": {
     "iopub.execute_input": "2021-01-23T13:08:17.735761Z",
     "iopub.status.busy": "2021-01-23T13:08:17.735159Z",
     "iopub.status.idle": "2021-01-23T13:08:38.715679Z",
     "shell.execute_reply": "2021-01-23T13:08:38.716064Z"
    },
    "papermill": {
     "duration": 21.757249,
     "end_time": "2021-01-23T13:08:38.716224",
     "exception": false,
     "start_time": "2021-01-23T13:08:16.958975",
     "status": "completed"
    },
    "tags": []
   },
   "outputs": [
    {
     "name": "stdout",
     "output_type": "stream",
     "text": [
      "28/28 [==============================] - 20s 709ms/step\n",
      "(3489,)\n"
     ]
    }
   ],
   "source": [
    "y_pred_final = model.predict(test_generator, verbose=1)\n",
    "y_pred_final = np.argmax(y_pred_final, axis=1)\n",
    "print(y_pred_final.shape)"
   ]
  },
  {
   "cell_type": "code",
   "execution_count": 24,
   "metadata": {
    "execution": {
     "iopub.execute_input": "2021-01-23T13:08:40.246617Z",
     "iopub.status.busy": "2021-01-23T13:08:40.245659Z",
     "iopub.status.idle": "2021-01-23T13:08:40.250032Z",
     "shell.execute_reply": "2021-01-23T13:08:40.249628Z"
    },
    "papermill": {
     "duration": 0.788667,
     "end_time": "2021-01-23T13:08:40.250123",
     "exception": false,
     "start_time": "2021-01-23T13:08:39.461456",
     "status": "completed"
    },
    "tags": []
   },
   "outputs": [
    {
     "data": {
      "text/html": [
       "<div>\n",
       "<style scoped>\n",
       "    .dataframe tbody tr th:only-of-type {\n",
       "        vertical-align: middle;\n",
       "    }\n",
       "\n",
       "    .dataframe tbody tr th {\n",
       "        vertical-align: top;\n",
       "    }\n",
       "\n",
       "    .dataframe thead th {\n",
       "        text-align: right;\n",
       "    }\n",
       "</style>\n",
       "<table border=\"1\" class=\"dataframe\">\n",
       "  <thead>\n",
       "    <tr style=\"text-align: right;\">\n",
       "      <th></th>\n",
       "      <th>Image</th>\n",
       "      <th>Class</th>\n",
       "    </tr>\n",
       "  </thead>\n",
       "  <tbody>\n",
       "    <tr>\n",
       "      <th>0</th>\n",
       "      <td>image7761.jpg</td>\n",
       "      <td>Miscellaneous</td>\n",
       "    </tr>\n",
       "    <tr>\n",
       "      <th>1</th>\n",
       "      <td>image3202.jpg</td>\n",
       "      <td>Jacket</td>\n",
       "    </tr>\n",
       "    <tr>\n",
       "      <th>2</th>\n",
       "      <td>image688.jpg</td>\n",
       "      <td>Snowman</td>\n",
       "    </tr>\n",
       "    <tr>\n",
       "      <th>3</th>\n",
       "      <td>image233.jpg</td>\n",
       "      <td>Candle</td>\n",
       "    </tr>\n",
       "    <tr>\n",
       "      <th>4</th>\n",
       "      <td>image4332.jpg</td>\n",
       "      <td>Christmas_Tree</td>\n",
       "    </tr>\n",
       "  </tbody>\n",
       "</table>\n",
       "</div>"
      ],
      "text/plain": [
       "           Image           Class\n",
       "0  image7761.jpg   Miscellaneous\n",
       "1  image3202.jpg          Jacket\n",
       "2   image688.jpg         Snowman\n",
       "3   image233.jpg          Candle\n",
       "4  image4332.jpg  Christmas_Tree"
      ]
     },
     "execution_count": 24,
     "metadata": {},
     "output_type": "execute_result"
    }
   ],
   "source": [
    "test_df['Class'] = y_pred_final\n",
    "test_df['Class'] = test_df['Class'].map(rev_class_map)\n",
    "test_df.head()"
   ]
  },
  {
   "cell_type": "code",
   "execution_count": 25,
   "metadata": {
    "execution": {
     "iopub.execute_input": "2021-01-23T13:08:41.740589Z",
     "iopub.status.busy": "2021-01-23T13:08:41.739955Z",
     "iopub.status.idle": "2021-01-23T13:08:42.030433Z",
     "shell.execute_reply": "2021-01-23T13:08:42.028904Z"
    },
    "papermill": {
     "duration": 1.03783,
     "end_time": "2021-01-23T13:08:42.030550",
     "exception": false,
     "start_time": "2021-01-23T13:08:40.992720",
     "status": "completed"
    },
    "tags": []
   },
   "outputs": [],
   "source": [
    "test_df.to_csv(\"/kaggle/working/submission.csv\", index=False)"
   ]
  },
  {
   "cell_type": "code",
   "execution_count": null,
   "metadata": {
    "papermill": {
     "duration": 0.748693,
     "end_time": "2021-01-23T13:08:43.525704",
     "exception": false,
     "start_time": "2021-01-23T13:08:42.777011",
     "status": "completed"
    },
    "tags": []
   },
   "outputs": [],
   "source": []
  }
 ],
 "metadata": {
  "kernelspec": {
   "display_name": "Python 3",
   "language": "python",
   "name": "python3"
  },
  "language_info": {
   "codemirror_mode": {
    "name": "ipython",
    "version": 3
   },
   "file_extension": ".py",
   "mimetype": "text/x-python",
   "name": "python",
   "nbconvert_exporter": "python",
   "pygments_lexer": "ipython3",
   "version": "3.7.6"
  },
  "papermill": {
   "duration": 2696.312875,
   "end_time": "2021-01-23T13:08:46.465083",
   "environment_variables": {},
   "exception": null,
   "input_path": "__notebook__.ipynb",
   "output_path": "__notebook__.ipynb",
   "parameters": {},
   "start_time": "2021-01-23T12:23:50.152208",
   "version": "2.1.0"
  }
 },
 "nbformat": 4,
 "nbformat_minor": 4
}
