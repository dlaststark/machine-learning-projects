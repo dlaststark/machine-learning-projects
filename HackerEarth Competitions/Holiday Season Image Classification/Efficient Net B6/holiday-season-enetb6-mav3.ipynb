{
 "cells": [
  {
   "cell_type": "markdown",
   "metadata": {
    "papermill": {
     "duration": 0.02745,
     "end_time": "2021-01-23T15:21:31.611364",
     "exception": false,
     "start_time": "2021-01-23T15:21:31.583914",
     "status": "completed"
    },
    "tags": []
   },
   "source": [
    "## Import Packages"
   ]
  },
  {
   "cell_type": "code",
   "execution_count": 1,
   "metadata": {
    "execution": {
     "iopub.execute_input": "2021-01-23T15:21:31.679305Z",
     "iopub.status.busy": "2021-01-23T15:21:31.678569Z",
     "iopub.status.idle": "2021-01-23T15:21:37.497506Z",
     "shell.execute_reply": "2021-01-23T15:21:37.496527Z"
    },
    "papermill": {
     "duration": 5.859867,
     "end_time": "2021-01-23T15:21:37.497664",
     "exception": false,
     "start_time": "2021-01-23T15:21:31.637797",
     "status": "completed"
    },
    "tags": []
   },
   "outputs": [],
   "source": [
    "import os\n",
    "import itertools\n",
    "import numpy as np\n",
    "import pandas as pd\n",
    "import seaborn as sns\n",
    "from tqdm import tqdm\n",
    "import matplotlib.pyplot as plt\n",
    "from sklearn.metrics import confusion_matrix\n",
    "from sklearn.metrics import classification_report\n",
    "from sklearn.model_selection import StratifiedShuffleSplit\n",
    "\n",
    "import tensorflow as tf\n",
    "from tensorflow.keras import backend as K\n",
    "from tensorflow.keras.regularizers import l2\n",
    "from tensorflow_addons.metrics import F1Score\n",
    "from tensorflow.keras.models import Model, load_model\n",
    "from tensorflow_addons.optimizers import AdamW, Lookahead\n",
    "from tensorflow.keras.callbacks import EarlyStopping\n",
    "from tensorflow.keras.callbacks import ReduceLROnPlateau\n",
    "from tensorflow.keras.callbacks import ModelCheckpoint\n",
    "from tensorflow.keras.applications import EfficientNetB6\n",
    "from tensorflow.keras.layers import Dense, Dropout, Flatten\n",
    "from tensorflow.keras.layers import BatchNormalization, Input\n",
    "from tensorflow.keras.layers import ZeroPadding2D, MaxPooling2D\n",
    "from tensorflow.keras.layers import GlobalAveragePooling2D, Add\n",
    "from tensorflow.keras.layers import GlobalMaxPooling2D, Reshape\n",
    "from tensorflow.keras.layers import Activation, Conv2D, Average\n",
    "from tensorflow.keras.preprocessing.image import ImageDataGenerator"
   ]
  },
  {
   "cell_type": "markdown",
   "metadata": {
    "papermill": {
     "duration": 0.034107,
     "end_time": "2021-01-23T15:21:37.566494",
     "exception": false,
     "start_time": "2021-01-23T15:21:37.532387",
     "status": "completed"
    },
    "tags": []
   },
   "source": [
    "## Helper Functions"
   ]
  },
  {
   "cell_type": "code",
   "execution_count": 2,
   "metadata": {
    "execution": {
     "iopub.execute_input": "2021-01-23T15:21:37.647027Z",
     "iopub.status.busy": "2021-01-23T15:21:37.646192Z",
     "iopub.status.idle": "2021-01-23T15:21:37.653534Z",
     "shell.execute_reply": "2021-01-23T15:21:37.654546Z"
    },
    "papermill": {
     "duration": 0.053738,
     "end_time": "2021-01-23T15:21:37.654693",
     "exception": false,
     "start_time": "2021-01-23T15:21:37.600955",
     "status": "completed"
    },
    "tags": []
   },
   "outputs": [],
   "source": [
    "def plot_confusion_matrix(cm, classes):\n",
    "\n",
    "    plt.imshow(cm, interpolation='nearest', cmap=plt.cm.Blues)\n",
    "    plt.title('Confusion matrix')\n",
    "    plt.colorbar()\n",
    "    tick_marks = np.arange(len(classes))\n",
    "    plt.xticks(tick_marks, classes, rotation=0)\n",
    "    plt.yticks(tick_marks, classes)\n",
    "\n",
    "    thresh = cm.max() / 2.\n",
    "    for i, j in itertools.product(range(cm.shape[0]), range(cm.shape[1])):\n",
    "        plt.text(j, i, format(cm[i, j], 'd'),\n",
    "                 horizontalalignment=\"center\",\n",
    "                 color=\"white\" if cm[i, j] > thresh else \"black\")\n",
    "\n",
    "    plt.ylabel('True label')\n",
    "    plt.xlabel('Predicted label')\n",
    "    plt.tight_layout()"
   ]
  },
  {
   "cell_type": "markdown",
   "metadata": {
    "papermill": {
     "duration": 0.034798,
     "end_time": "2021-01-23T15:21:37.727631",
     "exception": false,
     "start_time": "2021-01-23T15:21:37.692833",
     "status": "completed"
    },
    "tags": []
   },
   "source": [
    "## Read true labels + Basic EDA"
   ]
  },
  {
   "cell_type": "code",
   "execution_count": 3,
   "metadata": {
    "execution": {
     "iopub.execute_input": "2021-01-23T15:21:37.821077Z",
     "iopub.status.busy": "2021-01-23T15:21:37.820364Z",
     "iopub.status.idle": "2021-01-23T15:21:37.855316Z",
     "shell.execute_reply": "2021-01-23T15:21:37.855863Z"
    },
    "papermill": {
     "duration": 0.08131,
     "end_time": "2021-01-23T15:21:37.856018",
     "exception": false,
     "start_time": "2021-01-23T15:21:37.774708",
     "status": "completed"
    },
    "tags": []
   },
   "outputs": [
    {
     "data": {
      "text/html": [
       "<div>\n",
       "<style scoped>\n",
       "    .dataframe tbody tr th:only-of-type {\n",
       "        vertical-align: middle;\n",
       "    }\n",
       "\n",
       "    .dataframe tbody tr th {\n",
       "        vertical-align: top;\n",
       "    }\n",
       "\n",
       "    .dataframe thead th {\n",
       "        text-align: right;\n",
       "    }\n",
       "</style>\n",
       "<table border=\"1\" class=\"dataframe\">\n",
       "  <thead>\n",
       "    <tr style=\"text-align: right;\">\n",
       "      <th></th>\n",
       "      <th>Image</th>\n",
       "      <th>Class</th>\n",
       "    </tr>\n",
       "  </thead>\n",
       "  <tbody>\n",
       "    <tr>\n",
       "      <th>0</th>\n",
       "      <td>image3476.jpg</td>\n",
       "      <td>Miscellaneous</td>\n",
       "    </tr>\n",
       "    <tr>\n",
       "      <th>1</th>\n",
       "      <td>image5198.jpg</td>\n",
       "      <td>Candle</td>\n",
       "    </tr>\n",
       "    <tr>\n",
       "      <th>2</th>\n",
       "      <td>image4183.jpg</td>\n",
       "      <td>Snowman</td>\n",
       "    </tr>\n",
       "    <tr>\n",
       "      <th>3</th>\n",
       "      <td>image1806.jpg</td>\n",
       "      <td>Miscellaneous</td>\n",
       "    </tr>\n",
       "    <tr>\n",
       "      <th>4</th>\n",
       "      <td>image7831.jpg</td>\n",
       "      <td>Miscellaneous</td>\n",
       "    </tr>\n",
       "  </tbody>\n",
       "</table>\n",
       "</div>"
      ],
      "text/plain": [
       "           Image          Class\n",
       "0  image3476.jpg  Miscellaneous\n",
       "1  image5198.jpg         Candle\n",
       "2  image4183.jpg        Snowman\n",
       "3  image1806.jpg  Miscellaneous\n",
       "4  image7831.jpg  Miscellaneous"
      ]
     },
     "execution_count": 3,
     "metadata": {},
     "output_type": "execute_result"
    }
   ],
   "source": [
    "train_df = pd.read_csv(\"../input/hackereath-holiday-season-deep-learning-contest/dataset/train.csv\")\n",
    "train_df.head()"
   ]
  },
  {
   "cell_type": "code",
   "execution_count": 4,
   "metadata": {
    "execution": {
     "iopub.execute_input": "2021-01-23T15:21:37.916529Z",
     "iopub.status.busy": "2021-01-23T15:21:37.914626Z",
     "iopub.status.idle": "2021-01-23T15:21:37.917256Z",
     "shell.execute_reply": "2021-01-23T15:21:37.917717Z"
    },
    "papermill": {
     "duration": 0.03439,
     "end_time": "2021-01-23T15:21:37.917871",
     "exception": false,
     "start_time": "2021-01-23T15:21:37.883481",
     "status": "completed"
    },
    "tags": []
   },
   "outputs": [],
   "source": [
    "class_map = {\n",
    "    'Airplane': 0,\n",
    "    'Candle': 1,\n",
    "    'Christmas_Tree': 2,\n",
    "    'Jacket': 3,\n",
    "    'Miscellaneous': 4,\n",
    "    'Snowman': 5\n",
    "}"
   ]
  },
  {
   "cell_type": "code",
   "execution_count": 5,
   "metadata": {
    "execution": {
     "iopub.execute_input": "2021-01-23T15:21:37.988338Z",
     "iopub.status.busy": "2021-01-23T15:21:37.987400Z",
     "iopub.status.idle": "2021-01-23T15:21:38.002572Z",
     "shell.execute_reply": "2021-01-23T15:21:38.002077Z"
    },
    "papermill": {
     "duration": 0.058888,
     "end_time": "2021-01-23T15:21:38.002672",
     "exception": false,
     "start_time": "2021-01-23T15:21:37.943784",
     "status": "completed"
    },
    "tags": []
   },
   "outputs": [
    {
     "data": {
      "text/html": [
       "<div>\n",
       "<style scoped>\n",
       "    .dataframe tbody tr th:only-of-type {\n",
       "        vertical-align: middle;\n",
       "    }\n",
       "\n",
       "    .dataframe tbody tr th {\n",
       "        vertical-align: top;\n",
       "    }\n",
       "\n",
       "    .dataframe thead th {\n",
       "        text-align: right;\n",
       "    }\n",
       "</style>\n",
       "<table border=\"1\" class=\"dataframe\">\n",
       "  <thead>\n",
       "    <tr style=\"text-align: right;\">\n",
       "      <th></th>\n",
       "      <th>Class</th>\n",
       "      <th>Class_enc</th>\n",
       "      <th>Count</th>\n",
       "    </tr>\n",
       "  </thead>\n",
       "  <tbody>\n",
       "    <tr>\n",
       "      <th>0</th>\n",
       "      <td>Airplane</td>\n",
       "      <td>0</td>\n",
       "      <td>535</td>\n",
       "    </tr>\n",
       "    <tr>\n",
       "      <th>1</th>\n",
       "      <td>Candle</td>\n",
       "      <td>1</td>\n",
       "      <td>593</td>\n",
       "    </tr>\n",
       "    <tr>\n",
       "      <th>2</th>\n",
       "      <td>Christmas_Tree</td>\n",
       "      <td>2</td>\n",
       "      <td>1539</td>\n",
       "    </tr>\n",
       "    <tr>\n",
       "      <th>3</th>\n",
       "      <td>Jacket</td>\n",
       "      <td>3</td>\n",
       "      <td>640</td>\n",
       "    </tr>\n",
       "    <tr>\n",
       "      <th>4</th>\n",
       "      <td>Miscellaneous</td>\n",
       "      <td>4</td>\n",
       "      <td>2801</td>\n",
       "    </tr>\n",
       "    <tr>\n",
       "      <th>5</th>\n",
       "      <td>Snowman</td>\n",
       "      <td>5</td>\n",
       "      <td>361</td>\n",
       "    </tr>\n",
       "  </tbody>\n",
       "</table>\n",
       "</div>"
      ],
      "text/plain": [
       "            Class Class_enc  Count\n",
       "0        Airplane         0    535\n",
       "1          Candle         1    593\n",
       "2  Christmas_Tree         2   1539\n",
       "3          Jacket         3    640\n",
       "4   Miscellaneous         4   2801\n",
       "5         Snowman         5    361"
      ]
     },
     "execution_count": 5,
     "metadata": {},
     "output_type": "execute_result"
    }
   ],
   "source": [
    "train_df['Class_enc'] = train_df['Class'].map(class_map)\n",
    "train_df['Class_enc'] = train_df['Class_enc'].astype('str')\n",
    "train_df.groupby(['Class','Class_enc']).size().reset_index().rename(columns={0:'Count'})"
   ]
  },
  {
   "cell_type": "code",
   "execution_count": 6,
   "metadata": {
    "execution": {
     "iopub.execute_input": "2021-01-23T15:21:38.062673Z",
     "iopub.status.busy": "2021-01-23T15:21:38.061980Z",
     "iopub.status.idle": "2021-01-23T15:21:38.305661Z",
     "shell.execute_reply": "2021-01-23T15:21:38.306224Z"
    },
    "papermill": {
     "duration": 0.276091,
     "end_time": "2021-01-23T15:21:38.306395",
     "exception": false,
     "start_time": "2021-01-23T15:21:38.030304",
     "status": "completed"
    },
    "tags": []
   },
   "outputs": [
    {
     "data": {
      "image/png": "[encoded data removed]",
      "text/plain": [
       "<Figure size 864x504 with 1 Axes>"
      ]
     },
     "metadata": {
      "needs_background": "light"
     },
     "output_type": "display_data"
    }
   ],
   "source": [
    "plt.figure(figsize=(12,7))\n",
    "sns.set(style=\"darkgrid\")\n",
    "ax = sns.countplot(x=\"Class\", data=train_df)"
   ]
  },
  {
   "cell_type": "code",
   "execution_count": 7,
   "metadata": {
    "execution": {
     "iopub.execute_input": "2021-01-23T15:21:38.371223Z",
     "iopub.status.busy": "2021-01-23T15:21:38.370459Z",
     "iopub.status.idle": "2021-01-23T15:21:38.665375Z",
     "shell.execute_reply": "2021-01-23T15:21:38.665922Z"
    },
    "papermill": {
     "duration": 0.327857,
     "end_time": "2021-01-23T15:21:38.666060",
     "exception": false,
     "start_time": "2021-01-23T15:21:38.338203",
     "status": "completed"
    },
    "tags": []
   },
   "outputs": [
    {
     "name": "stderr",
     "output_type": "stream",
     "text": [
      "100%|██████████| 3489/3489 [00:00<00:00, 842871.02it/s]\n"
     ]
    },
    {
     "data": {
      "text/html": [
       "<div>\n",
       "<style scoped>\n",
       "    .dataframe tbody tr th:only-of-type {\n",
       "        vertical-align: middle;\n",
       "    }\n",
       "\n",
       "    .dataframe tbody tr th {\n",
       "        vertical-align: top;\n",
       "    }\n",
       "\n",
       "    .dataframe thead th {\n",
       "        text-align: right;\n",
       "    }\n",
       "</style>\n",
       "<table border=\"1\" class=\"dataframe\">\n",
       "  <thead>\n",
       "    <tr style=\"text-align: right;\">\n",
       "      <th></th>\n",
       "      <th>Image</th>\n",
       "      <th>Class</th>\n",
       "    </tr>\n",
       "  </thead>\n",
       "  <tbody>\n",
       "    <tr>\n",
       "      <th>0</th>\n",
       "      <td>image7761.jpg</td>\n",
       "      <td>0</td>\n",
       "    </tr>\n",
       "    <tr>\n",
       "      <th>1</th>\n",
       "      <td>image3202.jpg</td>\n",
       "      <td>0</td>\n",
       "    </tr>\n",
       "    <tr>\n",
       "      <th>2</th>\n",
       "      <td>image688.jpg</td>\n",
       "      <td>0</td>\n",
       "    </tr>\n",
       "    <tr>\n",
       "      <th>3</th>\n",
       "      <td>image233.jpg</td>\n",
       "      <td>0</td>\n",
       "    </tr>\n",
       "    <tr>\n",
       "      <th>4</th>\n",
       "      <td>image4332.jpg</td>\n",
       "      <td>0</td>\n",
       "    </tr>\n",
       "  </tbody>\n",
       "</table>\n",
       "</div>"
      ],
      "text/plain": [
       "           Image Class\n",
       "0  image7761.jpg     0\n",
       "1  image3202.jpg     0\n",
       "2   image688.jpg     0\n",
       "3   image233.jpg     0\n",
       "4  image4332.jpg     0"
      ]
     },
     "execution_count": 7,
     "metadata": {},
     "output_type": "execute_result"
    }
   ],
   "source": [
    "test_dir = \"../input/hackereath-holiday-season-deep-learning-contest/dataset/test\"\n",
    "test_files = []\n",
    "\n",
    "for file in tqdm(os.listdir(test_dir)):\n",
    "    test_files.append(file)\n",
    "\n",
    "test_df = pd.DataFrame(test_files, columns=['Image'])\n",
    "test_df['Class'] = '0'\n",
    "test_df.head()"
   ]
  },
  {
   "cell_type": "markdown",
   "metadata": {
    "papermill": {
     "duration": 0.029245,
     "end_time": "2021-01-23T15:21:38.724917",
     "exception": false,
     "start_time": "2021-01-23T15:21:38.695672",
     "status": "completed"
    },
    "tags": []
   },
   "source": [
    "## Calculate class-weights"
   ]
  },
  {
   "cell_type": "code",
   "execution_count": 8,
   "metadata": {
    "execution": {
     "iopub.execute_input": "2021-01-23T15:21:38.792860Z",
     "iopub.status.busy": "2021-01-23T15:21:38.791961Z",
     "iopub.status.idle": "2021-01-23T15:21:38.819089Z",
     "shell.execute_reply": "2021-01-23T15:21:38.818207Z"
    },
    "papermill": {
     "duration": 0.064867,
     "end_time": "2021-01-23T15:21:38.819195",
     "exception": false,
     "start_time": "2021-01-23T15:21:38.754328",
     "status": "completed"
    },
    "tags": []
   },
   "outputs": [
    {
     "data": {
      "text/plain": [
       "{0: 0.6747663551401869,\n",
       " 1: 0.6087689713322091,\n",
       " 2: 0.23456790123456786,\n",
       " 3: 0.5640625,\n",
       " 4: 0.12888254194930382,\n",
       " 5: 1.0}"
      ]
     },
     "execution_count": 8,
     "metadata": {},
     "output_type": "execute_result"
    }
   ],
   "source": [
    "temp_df = train_df.groupby(['Class_enc']).size().reset_index().rename(columns={0:'count'})\n",
    "total_count = np.sum(temp_df['count'].values)\n",
    "temp_df['class%'] = (temp_df['count'] / total_count) * 100\n",
    "lowest_pct = min(temp_df['class%'])\n",
    "temp_df['class_weight'] = lowest_pct / temp_df['class%']\n",
    "class_weight = temp_df[['Class_enc', 'class_weight']].to_dict()['class_weight']\n",
    "class_weight"
   ]
  },
  {
   "cell_type": "markdown",
   "metadata": {
    "papermill": {
     "duration": 0.029952,
     "end_time": "2021-01-23T15:21:38.878926",
     "exception": false,
     "start_time": "2021-01-23T15:21:38.848974",
     "status": "completed"
    },
    "tags": []
   },
   "source": [
    "## Split training data into train/validation datasets"
   ]
  },
  {
   "cell_type": "code",
   "execution_count": 9,
   "metadata": {
    "execution": {
     "iopub.execute_input": "2021-01-23T15:21:38.986062Z",
     "iopub.status.busy": "2021-01-23T15:21:38.985427Z",
     "iopub.status.idle": "2021-01-23T15:21:38.999545Z",
     "shell.execute_reply": "2021-01-23T15:21:39.000249Z"
    },
    "papermill": {
     "duration": 0.091538,
     "end_time": "2021-01-23T15:21:39.000379",
     "exception": false,
     "start_time": "2021-01-23T15:21:38.908841",
     "status": "completed"
    },
    "tags": []
   },
   "outputs": [
    {
     "name": "stdout",
     "output_type": "stream",
     "text": [
      "train_df shape: (5498, 3)\n",
      "validation_df shape: (971, 3)\n"
     ]
    }
   ],
   "source": [
    "sss = StratifiedShuffleSplit(n_splits=1, test_size=0.15, random_state=1)\n",
    "for train_index, validation_index in sss.split(train_df['Image'], train_df['Class_enc']):\n",
    "    train_df, validation_df = train_df.iloc[train_index], train_df.iloc[validation_index]\n",
    "\n",
    "print(\"train_df shape: {}\".format(train_df.shape))\n",
    "print(\"validation_df shape: {}\".format(validation_df.shape))"
   ]
  },
  {
   "cell_type": "code",
   "execution_count": 10,
   "metadata": {
    "execution": {
     "iopub.execute_input": "2021-01-23T15:21:39.067146Z",
     "iopub.status.busy": "2021-01-23T15:21:39.066296Z",
     "iopub.status.idle": "2021-01-23T15:21:39.080015Z",
     "shell.execute_reply": "2021-01-23T15:21:39.079321Z"
    },
    "papermill": {
     "duration": 0.049815,
     "end_time": "2021-01-23T15:21:39.080127",
     "exception": false,
     "start_time": "2021-01-23T15:21:39.030312",
     "status": "completed"
    },
    "tags": []
   },
   "outputs": [
    {
     "data": {
      "text/html": [
       "<div>\n",
       "<style scoped>\n",
       "    .dataframe tbody tr th:only-of-type {\n",
       "        vertical-align: middle;\n",
       "    }\n",
       "\n",
       "    .dataframe tbody tr th {\n",
       "        vertical-align: top;\n",
       "    }\n",
       "\n",
       "    .dataframe thead th {\n",
       "        text-align: right;\n",
       "    }\n",
       "</style>\n",
       "<table border=\"1\" class=\"dataframe\">\n",
       "  <thead>\n",
       "    <tr style=\"text-align: right;\">\n",
       "      <th></th>\n",
       "      <th>Class</th>\n",
       "      <th>Class_enc</th>\n",
       "      <th>Count</th>\n",
       "    </tr>\n",
       "  </thead>\n",
       "  <tbody>\n",
       "    <tr>\n",
       "      <th>0</th>\n",
       "      <td>Airplane</td>\n",
       "      <td>0</td>\n",
       "      <td>455</td>\n",
       "    </tr>\n",
       "    <tr>\n",
       "      <th>1</th>\n",
       "      <td>Candle</td>\n",
       "      <td>1</td>\n",
       "      <td>504</td>\n",
       "    </tr>\n",
       "    <tr>\n",
       "      <th>2</th>\n",
       "      <td>Christmas_Tree</td>\n",
       "      <td>2</td>\n",
       "      <td>1308</td>\n",
       "    </tr>\n",
       "    <tr>\n",
       "      <th>3</th>\n",
       "      <td>Jacket</td>\n",
       "      <td>3</td>\n",
       "      <td>544</td>\n",
       "    </tr>\n",
       "    <tr>\n",
       "      <th>4</th>\n",
       "      <td>Miscellaneous</td>\n",
       "      <td>4</td>\n",
       "      <td>2380</td>\n",
       "    </tr>\n",
       "    <tr>\n",
       "      <th>5</th>\n",
       "      <td>Snowman</td>\n",
       "      <td>5</td>\n",
       "      <td>307</td>\n",
       "    </tr>\n",
       "  </tbody>\n",
       "</table>\n",
       "</div>"
      ],
      "text/plain": [
       "            Class Class_enc  Count\n",
       "0        Airplane         0    455\n",
       "1          Candle         1    504\n",
       "2  Christmas_Tree         2   1308\n",
       "3          Jacket         3    544\n",
       "4   Miscellaneous         4   2380\n",
       "5         Snowman         5    307"
      ]
     },
     "execution_count": 10,
     "metadata": {},
     "output_type": "execute_result"
    }
   ],
   "source": [
    "train_df.groupby(['Class','Class_enc']).size().reset_index().rename(columns={0:'Count'})"
   ]
  },
  {
   "cell_type": "code",
   "execution_count": 11,
   "metadata": {
    "execution": {
     "iopub.execute_input": "2021-01-23T15:21:39.148164Z",
     "iopub.status.busy": "2021-01-23T15:21:39.147271Z",
     "iopub.status.idle": "2021-01-23T15:21:39.159776Z",
     "shell.execute_reply": "2021-01-23T15:21:39.159197Z"
    },
    "papermill": {
     "duration": 0.04903,
     "end_time": "2021-01-23T15:21:39.159889",
     "exception": false,
     "start_time": "2021-01-23T15:21:39.110859",
     "status": "completed"
    },
    "tags": []
   },
   "outputs": [
    {
     "data": {
      "text/html": [
       "<div>\n",
       "<style scoped>\n",
       "    .dataframe tbody tr th:only-of-type {\n",
       "        vertical-align: middle;\n",
       "    }\n",
       "\n",
       "    .dataframe tbody tr th {\n",
       "        vertical-align: top;\n",
       "    }\n",
       "\n",
       "    .dataframe thead th {\n",
       "        text-align: right;\n",
       "    }\n",
       "</style>\n",
       "<table border=\"1\" class=\"dataframe\">\n",
       "  <thead>\n",
       "    <tr style=\"text-align: right;\">\n",
       "      <th></th>\n",
       "      <th>Class</th>\n",
       "      <th>Class_enc</th>\n",
       "      <th>Count</th>\n",
       "    </tr>\n",
       "  </thead>\n",
       "  <tbody>\n",
       "    <tr>\n",
       "      <th>0</th>\n",
       "      <td>Airplane</td>\n",
       "      <td>0</td>\n",
       "      <td>80</td>\n",
       "    </tr>\n",
       "    <tr>\n",
       "      <th>1</th>\n",
       "      <td>Candle</td>\n",
       "      <td>1</td>\n",
       "      <td>89</td>\n",
       "    </tr>\n",
       "    <tr>\n",
       "      <th>2</th>\n",
       "      <td>Christmas_Tree</td>\n",
       "      <td>2</td>\n",
       "      <td>231</td>\n",
       "    </tr>\n",
       "    <tr>\n",
       "      <th>3</th>\n",
       "      <td>Jacket</td>\n",
       "      <td>3</td>\n",
       "      <td>96</td>\n",
       "    </tr>\n",
       "    <tr>\n",
       "      <th>4</th>\n",
       "      <td>Miscellaneous</td>\n",
       "      <td>4</td>\n",
       "      <td>421</td>\n",
       "    </tr>\n",
       "    <tr>\n",
       "      <th>5</th>\n",
       "      <td>Snowman</td>\n",
       "      <td>5</td>\n",
       "      <td>54</td>\n",
       "    </tr>\n",
       "  </tbody>\n",
       "</table>\n",
       "</div>"
      ],
      "text/plain": [
       "            Class Class_enc  Count\n",
       "0        Airplane         0     80\n",
       "1          Candle         1     89\n",
       "2  Christmas_Tree         2    231\n",
       "3          Jacket         3     96\n",
       "4   Miscellaneous         4    421\n",
       "5         Snowman         5     54"
      ]
     },
     "execution_count": 11,
     "metadata": {},
     "output_type": "execute_result"
    }
   ],
   "source": [
    "validation_df.groupby(['Class','Class_enc']).size().reset_index().rename(columns={0:'Count'})"
   ]
  },
  {
   "cell_type": "markdown",
   "metadata": {
    "papermill": {
     "duration": 0.03328,
     "end_time": "2021-01-23T15:21:39.224071",
     "exception": false,
     "start_time": "2021-01-23T15:21:39.190791",
     "status": "completed"
    },
    "tags": []
   },
   "source": [
    "## Model Hyperparameters"
   ]
  },
  {
   "cell_type": "code",
   "execution_count": 12,
   "metadata": {
    "execution": {
     "iopub.execute_input": "2021-01-23T15:21:39.294642Z",
     "iopub.status.busy": "2021-01-23T15:21:39.293749Z",
     "iopub.status.idle": "2021-01-23T15:21:39.296246Z",
     "shell.execute_reply": "2021-01-23T15:21:39.296801Z"
    },
    "papermill": {
     "duration": 0.0408,
     "end_time": "2021-01-23T15:21:39.296932",
     "exception": false,
     "start_time": "2021-01-23T15:21:39.256132",
     "status": "completed"
    },
    "tags": []
   },
   "outputs": [],
   "source": [
    "dataset_dir = \"../input/hackereath-holiday-season-deep-learning-contest/dataset/\"\n",
    "mini_batch_size = 128\n",
    "steps_per_epoch = int(np.ceil(train_df.shape[0] / float(mini_batch_size)))\n",
    "validation_steps = int(np.ceil(validation_df.shape[0] / float(mini_batch_size)))\n",
    "test_steps = int(np.ceil(test_df.shape[0] / float(mini_batch_size)))\n",
    "image_dim = (320, 320, 3)"
   ]
  },
  {
   "cell_type": "markdown",
   "metadata": {
    "papermill": {
     "duration": 0.030851,
     "end_time": "2021-01-23T15:21:39.359396",
     "exception": false,
     "start_time": "2021-01-23T15:21:39.328545",
     "status": "completed"
    },
    "tags": []
   },
   "source": [
    "## Configure image generators"
   ]
  },
  {
   "cell_type": "code",
   "execution_count": 13,
   "metadata": {
    "execution": {
     "iopub.execute_input": "2021-01-23T15:21:39.454669Z",
     "iopub.status.busy": "2021-01-23T15:21:39.453961Z",
     "iopub.status.idle": "2021-01-23T15:21:55.703470Z",
     "shell.execute_reply": "2021-01-23T15:21:55.702189Z"
    },
    "papermill": {
     "duration": 16.312691,
     "end_time": "2021-01-23T15:21:55.703599",
     "exception": false,
     "start_time": "2021-01-23T15:21:39.390908",
     "status": "completed"
    },
    "tags": []
   },
   "outputs": [
    {
     "name": "stdout",
     "output_type": "stream",
     "text": [
      "Found 5498 validated image filenames belonging to 6 classes.\n",
      "Found 971 validated image filenames belonging to 6 classes.\n",
      "Found 3489 validated image filenames belonging to 1 classes.\n"
     ]
    }
   ],
   "source": [
    "train_datagen = ImageDataGenerator(rotation_range = 30,\n",
    "                                   zoom_range = 0.2,\n",
    "                                   horizontal_flip = True,\n",
    "                                   fill_mode = 'nearest',\n",
    "                                   height_shift_range = 0.1,\n",
    "                                   width_shift_range = 0.1)\n",
    "\n",
    "train_generator = train_datagen.flow_from_dataframe(train_df,\n",
    "                                                    directory = os.path.join(dataset_dir,\"train\"),\n",
    "                                                    x_col = \"Image\", \n",
    "                                                    y_col = \"Class_enc\",\n",
    "                                                    target_size = (image_dim[0], image_dim[1]),\n",
    "                                                    batch_size = mini_batch_size,\n",
    "                                                    class_mode = \"categorical\",\n",
    "                                                    interpolation=\"bicubic\")\n",
    "\n",
    "validation_datagen = ImageDataGenerator()\n",
    "\n",
    "validation_generator = validation_datagen.flow_from_dataframe(validation_df,\n",
    "                                                              directory = os.path.join(dataset_dir,\"train\"),\n",
    "                                                              x_col = \"Image\",\n",
    "                                                              y_col = \"Class_enc\",\n",
    "                                                              shuffle=False,\n",
    "                                                              target_size = (image_dim[0], image_dim[1]),\n",
    "                                                              batch_size = mini_batch_size,\n",
    "                                                              class_mode = \"categorical\",\n",
    "                                                              interpolation=\"bicubic\")\n",
    "\n",
    "test_datagen = ImageDataGenerator()\n",
    "\n",
    "test_generator = test_datagen.flow_from_dataframe(test_df,\n",
    "                                                  directory = os.path.join(dataset_dir,\"test\"),\n",
    "                                                  x_col = \"Image\",\n",
    "                                                  y_col = \"Class\",\n",
    "                                                  shuffle=False,\n",
    "                                                  target_size = (image_dim[0], image_dim[1]),\n",
    "                                                  batch_size = mini_batch_size,\n",
    "                                                  class_mode = \"categorical\",\n",
    "                                                  interpolation=\"bicubic\")"
   ]
  },
  {
   "cell_type": "markdown",
   "metadata": {
    "papermill": {
     "duration": 0.033515,
     "end_time": "2021-01-23T15:21:55.770424",
     "exception": false,
     "start_time": "2021-01-23T15:21:55.736909",
     "status": "completed"
    },
    "tags": []
   },
   "source": [
    "## Build and validate the model"
   ]
  },
  {
   "cell_type": "code",
   "execution_count": 14,
   "metadata": {
    "execution": {
     "iopub.execute_input": "2021-01-23T15:21:55.872283Z",
     "iopub.status.busy": "2021-01-23T15:21:55.870783Z",
     "iopub.status.idle": "2021-01-23T15:21:55.873455Z",
     "shell.execute_reply": "2021-01-23T15:21:55.873944Z"
    },
    "papermill": {
     "duration": 0.07096,
     "end_time": "2021-01-23T15:21:55.874061",
     "exception": false,
     "start_time": "2021-01-23T15:21:55.803101",
     "status": "completed"
    },
    "tags": []
   },
   "outputs": [],
   "source": [
    "def head(x_input, input_shape=2304, ratio=8):\n",
    "    \n",
    "    #=======================================================\n",
    "    #                    Channel Attention\n",
    "    #=======================================================\n",
    "    gapavg = GlobalAveragePooling2D()(x_input)\n",
    "    gapavg = Reshape((1, 1, gapavg.shape[1]))(gapavg)\n",
    "    gapavg = Conv2D(input_shape//ratio, \n",
    "                    kernel_size=1, strides=1, use_bias=True, \n",
    "                    padding='same', kernel_regularizer=l2(0.001), \n",
    "                    kernel_initializer='he_normal')(gapavg)\n",
    "    gapavg = BatchNormalization()(gapavg)\n",
    "    gapavg = Activation('relu')(gapavg)\n",
    "    gapavg_out = Conv2D(input_shape, kernel_size=1, \n",
    "                        strides=1, padding='same', use_bias=True, \n",
    "                        kernel_regularizer=l2(0.001), \n",
    "                        kernel_initializer='he_normal')(gapavg)\n",
    "    gapavg_out = BatchNormalization()(gapavg_out)\n",
    "    gapavg_out = Activation('relu')(gapavg_out)\n",
    "\n",
    "\n",
    "    gmpmax = GlobalMaxPooling2D()(x_input)\n",
    "    gmpmax = Reshape((1, 1, gmpmax.shape[1]))(gmpmax)\n",
    "    gmpmax = Conv2D(input_shape//ratio, \n",
    "                    kernel_size=1, strides=1, use_bias=True, \n",
    "                    padding='same', kernel_regularizer=l2(0.001), \n",
    "                    kernel_initializer='he_normal')(gmpmax)\n",
    "    gmpmax = BatchNormalization()(gmpmax)\n",
    "    gmpmax = Activation('relu')(gmpmax)\n",
    "    gmpmax_out = Conv2D(input_shape, kernel_size=1, \n",
    "                        strides=1, padding='same', use_bias=True, \n",
    "                        kernel_regularizer=l2(0.001), \n",
    "                        kernel_initializer='he_normal')(gmpmax)\n",
    "    gmpmax_out = BatchNormalization()(gmpmax_out)\n",
    "    gmpmax_out = Activation('relu')(gmpmax_out)\n",
    "    canx = x_input * tf.math.sigmoid(gapavg_out + gmpmax_out)\n",
    "\n",
    "\n",
    "    #=======================================================\n",
    "    #                    Spatial Attention\n",
    "    #=======================================================\n",
    "    avg_out = tf.reduce_mean(canx, axis=3)\n",
    "    max_out = tf.reduce_max(canx,  axis=3)\n",
    "    x = tf.stack([avg_out, max_out], axis=3)\n",
    "    \n",
    "    x = Conv2D(filters=64, kernel_size=3, strides=1, \n",
    "               padding='same', use_bias=False, \n",
    "               kernel_regularizer=l2(0.001), \n",
    "               kernel_initializer='he_normal')(x)\n",
    "    x = BatchNormalization()(x)\n",
    "    x = Activation('relu')(x)\n",
    "\n",
    "    x = Conv2D(filters=32, kernel_size=3, strides=1, \n",
    "               padding='same', use_bias=False, \n",
    "               kernel_regularizer=l2(0.001), \n",
    "               kernel_initializer='he_normal')(x)\n",
    "    x = BatchNormalization()(x)\n",
    "    x = Activation('relu')(x)\n",
    "\n",
    "    x = Conv2D(filters=16, kernel_size=3, strides=1, \n",
    "               padding='same', use_bias=False, \n",
    "               kernel_regularizer=l2(0.001), \n",
    "               kernel_initializer='he_normal')(x)\n",
    "    x = BatchNormalization()(x)\n",
    "    x = Activation('relu')(x)\n",
    "\n",
    "    x = Conv2D(filters=1, kernel_size=3, strides=1, \n",
    "               padding='same', use_bias=False, \n",
    "               kernel_regularizer=l2(0.001), \n",
    "               kernel_initializer='he_normal')(x)\n",
    "    x = BatchNormalization()(x)\n",
    "    x = Activation('sigmoid')(x)\n",
    "    spnx1 = canx * x\n",
    "    spnx2 = x\n",
    "    \n",
    "    gapx   = GlobalAveragePooling2D()(spnx1)\n",
    "    wvgx   = GlobalAveragePooling2D()(spnx2)\n",
    "    gapavg = Average()([gapx, wvgx])\n",
    "    x = BatchNormalization()(gapavg)\n",
    "\n",
    "\n",
    "    #=======================================================\n",
    "    #                    Tail of the model\n",
    "    #=======================================================\n",
    "\n",
    "    x = Dense(units=2048, kernel_regularizer=l2(0.0001), \n",
    "              kernel_initializer='he_uniform')(x)\n",
    "    x = BatchNormalization()(x)\n",
    "    x = Activation('relu')(x)\n",
    "    x = Dropout(rate=0.5)(x)\n",
    "    \n",
    "    x = Dense(units=1024, kernel_regularizer=l2(0.0001), \n",
    "              kernel_initializer='he_uniform')(x)\n",
    "    x = BatchNormalization()(x)\n",
    "    x = Activation('relu')(x)\n",
    "    x = Dropout(rate=0.5)(x)\n",
    "    \n",
    "    x = Dense(units=1024, kernel_regularizer=l2(0.0001), \n",
    "              kernel_initializer='he_uniform')(x)\n",
    "    x = BatchNormalization()(x)\n",
    "    x = Activation('relu')(x)\n",
    "    x = Dropout(rate=0.5)(x)\n",
    "    \n",
    "    x = Dense(units=512, kernel_regularizer=l2(0.0001), \n",
    "              kernel_initializer='he_uniform')(x)\n",
    "    x = BatchNormalization()(x)\n",
    "    x = Activation('relu')(x)\n",
    "    x = Dropout(rate=0.5)(x)\n",
    "    \n",
    "    x = Dense(units=6, activation='softmax', \n",
    "              kernel_initializer='he_uniform')(x)\n",
    "\n",
    "    return x"
   ]
  },
  {
   "cell_type": "code",
   "execution_count": 15,
   "metadata": {
    "execution": {
     "iopub.execute_input": "2021-01-23T15:21:55.952927Z",
     "iopub.status.busy": "2021-01-23T15:21:55.952319Z",
     "iopub.status.idle": "2021-01-23T15:22:21.876773Z",
     "shell.execute_reply": "2021-01-23T15:22:21.877358Z"
    },
    "papermill": {
     "duration": 25.970167,
     "end_time": "2021-01-23T15:22:21.877516",
     "exception": false,
     "start_time": "2021-01-23T15:21:55.907349",
     "status": "completed"
    },
    "tags": []
   },
   "outputs": [
    {
     "name": "stdout",
     "output_type": "stream",
     "text": [
      "Downloading data from https://storage.googleapis.com/keras-applications/efficientnetb6_notop.h5\n",
      "165240832/165234480 [==============================] - 2s 0us/step\n"
     ]
    }
   ],
   "source": [
    "# Build the model\n",
    "base_model = EfficientNetB6(weights='imagenet', \n",
    "                            input_tensor=Input(shape=image_dim), \n",
    "                            include_top=False)\n",
    "\n",
    "model = Model(base_model.input, head(base_model.output),\n",
    "              name='HackerEarth_Holiday_Season_Model')\n",
    "\n",
    "# Load the pre-trained model\n",
    "pretrain_model = load_model('../input/holiday-season-enetb6-mav2/hackerearth_holiday_season_model.h5')\n",
    "\n",
    "# Transfer weights from pre-trained model\n",
    "model.set_weights(pretrain_model.get_weights())\n",
    "\n",
    "# Freeze weights for base model\n",
    "base_model.trainable = False\n",
    "for layer in base_model.layers[-18:]:\n",
    "    if not isinstance(layer, BatchNormalization):\n",
    "        layer.trainable = True\n",
    "\n",
    "# Compile the final model\n",
    "model.compile(loss='categorical_crossentropy', \n",
    "              metrics=[F1Score(num_classes=6, average='weighted'), \n",
    "                       'categorical_accuracy'],\n",
    "              optimizer=Lookahead(AdamW(lr=1e-3, \n",
    "                                        weight_decay=1e-5, \n",
    "                                        clipvalue=700), \n",
    "                                  sync_period=10))\n",
    "\n",
    "early = EarlyStopping(monitor=\"val_loss\", mode=\"min\", patience=10, \n",
    "                      restore_best_weights=True, verbose=1)\n",
    "\n",
    "reduce_lr = ReduceLROnPlateau(monitor=\"val_loss\", factor=0.1, \n",
    "                              min_lr=1e-6, patience=7, \n",
    "                              verbose=1, mode='min')\n",
    "\n",
    "chk_point = ModelCheckpoint('hackerearth_holiday_season_model.h5', \n",
    "                            monitor='val_loss', verbose=1, \n",
    "                            save_best_only=True, mode='min')"
   ]
  },
  {
   "cell_type": "code",
   "execution_count": 16,
   "metadata": {
    "execution": {
     "iopub.execute_input": "2021-01-23T15:22:21.976143Z",
     "iopub.status.busy": "2021-01-23T15:22:21.975460Z",
     "iopub.status.idle": "2021-01-23T16:14:10.720183Z",
     "shell.execute_reply": "2021-01-23T16:14:10.720878Z"
    },
    "papermill": {
     "duration": 3108.798937,
     "end_time": "2021-01-23T16:14:10.721098",
     "exception": false,
     "start_time": "2021-01-23T15:22:21.922161",
     "status": "completed"
    },
    "tags": []
   },
   "outputs": [
    {
     "name": "stdout",
     "output_type": "stream",
     "text": [
      "Epoch 1/275\n",
      "43/43 [==============================] - ETA: 0s - loss: 0.1177 - f1_score: 0.9175 - categorical_accuracy: 0.9171\n",
      "Epoch 00001: val_loss improved from inf to 0.34388, saving model to hackerearth_holiday_season_model.h5\n",
      "43/43 [==============================] - 184s 4s/step - loss: 0.1177 - f1_score: 0.9175 - categorical_accuracy: 0.9171 - val_loss: 0.3439 - val_f1_score: 0.9060 - val_categorical_accuracy: 0.9063\n",
      "Epoch 2/275\n",
      "43/43 [==============================] - ETA: 0s - loss: 0.1170 - f1_score: 0.9118 - categorical_accuracy: 0.9112\n",
      "Epoch 00002: val_loss improved from 0.34388 to 0.32541, saving model to hackerearth_holiday_season_model.h5\n",
      "43/43 [==============================] - 165s 4s/step - loss: 0.1170 - f1_score: 0.9118 - categorical_accuracy: 0.9112 - val_loss: 0.3254 - val_f1_score: 0.9202 - val_categorical_accuracy: 0.9207\n",
      "Epoch 3/275\n",
      "43/43 [==============================] - ETA: 0s - loss: 0.1164 - f1_score: 0.9179 - categorical_accuracy: 0.9169\n",
      "Epoch 00003: val_loss did not improve from 0.32541\n",
      "43/43 [==============================] - 154s 4s/step - loss: 0.1164 - f1_score: 0.9179 - categorical_accuracy: 0.9169 - val_loss: 0.3441 - val_f1_score: 0.9123 - val_categorical_accuracy: 0.9125\n",
      "Epoch 4/275\n",
      "43/43 [==============================] - ETA: 0s - loss: 0.1112 - f1_score: 0.9203 - categorical_accuracy: 0.9196\n",
      "Epoch 00004: val_loss improved from 0.32541 to 0.32521, saving model to hackerearth_holiday_season_model.h5\n",
      "43/43 [==============================] - 163s 4s/step - loss: 0.1112 - f1_score: 0.9203 - categorical_accuracy: 0.9196 - val_loss: 0.3252 - val_f1_score: 0.9186 - val_categorical_accuracy: 0.9186\n",
      "Epoch 5/275\n",
      "43/43 [==============================] - ETA: 0s - loss: 0.1026 - f1_score: 0.9239 - categorical_accuracy: 0.9236\n",
      "Epoch 00005: val_loss improved from 0.32521 to 0.30310, saving model to hackerearth_holiday_season_model.h5\n",
      "43/43 [==============================] - 159s 4s/step - loss: 0.1026 - f1_score: 0.9239 - categorical_accuracy: 0.9236 - val_loss: 0.3031 - val_f1_score: 0.9184 - val_categorical_accuracy: 0.9186\n",
      "Epoch 6/275\n",
      "43/43 [==============================] - ETA: 0s - loss: 0.1038 - f1_score: 0.9268 - categorical_accuracy: 0.9263\n",
      "Epoch 00006: val_loss did not improve from 0.30310\n",
      "43/43 [==============================] - 152s 4s/step - loss: 0.1038 - f1_score: 0.9268 - categorical_accuracy: 0.9263 - val_loss: 0.3166 - val_f1_score: 0.9125 - val_categorical_accuracy: 0.9125\n",
      "Epoch 7/275\n",
      "43/43 [==============================] - ETA: 0s - loss: 0.1006 - f1_score: 0.9285 - categorical_accuracy: 0.9282\n",
      "Epoch 00007: val_loss improved from 0.30310 to 0.28562, saving model to hackerearth_holiday_season_model.h5\n",
      "43/43 [==============================] - 163s 4s/step - loss: 0.1006 - f1_score: 0.9285 - categorical_accuracy: 0.9282 - val_loss: 0.2856 - val_f1_score: 0.9262 - val_categorical_accuracy: 0.9258\n",
      "Epoch 8/275\n",
      "43/43 [==============================] - ETA: 0s - loss: 0.1020 - f1_score: 0.9255 - categorical_accuracy: 0.9251\n",
      "Epoch 00008: val_loss did not improve from 0.28562\n",
      "43/43 [==============================] - 153s 4s/step - loss: 0.1020 - f1_score: 0.9255 - categorical_accuracy: 0.9251 - val_loss: 0.3034 - val_f1_score: 0.9229 - val_categorical_accuracy: 0.9228\n",
      "Epoch 9/275\n",
      "43/43 [==============================] - ETA: 0s - loss: 0.1007 - f1_score: 0.9286 - categorical_accuracy: 0.9280\n",
      "Epoch 00009: val_loss did not improve from 0.28562\n",
      "43/43 [==============================] - 154s 4s/step - loss: 0.1007 - f1_score: 0.9286 - categorical_accuracy: 0.9280 - val_loss: 0.3150 - val_f1_score: 0.9139 - val_categorical_accuracy: 0.9135\n",
      "Epoch 10/275\n",
      "43/43 [==============================] - ETA: 0s - loss: 0.0918 - f1_score: 0.9318 - categorical_accuracy: 0.9314\n",
      "Epoch 00010: val_loss did not improve from 0.28562\n",
      "43/43 [==============================] - 155s 4s/step - loss: 0.0918 - f1_score: 0.9318 - categorical_accuracy: 0.9314 - val_loss: 0.2943 - val_f1_score: 0.9292 - val_categorical_accuracy: 0.9289\n",
      "Epoch 11/275\n",
      "43/43 [==============================] - ETA: 0s - loss: 0.0934 - f1_score: 0.9299 - categorical_accuracy: 0.9296\n",
      "Epoch 00011: val_loss did not improve from 0.28562\n",
      "43/43 [==============================] - 152s 4s/step - loss: 0.0934 - f1_score: 0.9299 - categorical_accuracy: 0.9296 - val_loss: 0.3322 - val_f1_score: 0.9123 - val_categorical_accuracy: 0.9125\n",
      "Epoch 12/275\n",
      "43/43 [==============================] - ETA: 0s - loss: 0.0909 - f1_score: 0.9279 - categorical_accuracy: 0.9276\n",
      "Epoch 00012: val_loss did not improve from 0.28562\n",
      "43/43 [==============================] - 153s 4s/step - loss: 0.0909 - f1_score: 0.9279 - categorical_accuracy: 0.9276 - val_loss: 0.3068 - val_f1_score: 0.9198 - val_categorical_accuracy: 0.9197\n",
      "Epoch 13/275\n",
      "43/43 [==============================] - ETA: 0s - loss: 0.0908 - f1_score: 0.9258 - categorical_accuracy: 0.9254\n",
      "Epoch 00013: val_loss did not improve from 0.28562\n",
      "43/43 [==============================] - 154s 4s/step - loss: 0.0908 - f1_score: 0.9258 - categorical_accuracy: 0.9254 - val_loss: 0.3182 - val_f1_score: 0.9152 - val_categorical_accuracy: 0.9156\n",
      "Epoch 14/275\n",
      "43/43 [==============================] - ETA: 0s - loss: 0.0931 - f1_score: 0.9329 - categorical_accuracy: 0.9327\n",
      "Epoch 00014: ReduceLROnPlateau reducing learning rate to 0.00010000000474974513.\n",
      "\n",
      "Epoch 00014: val_loss did not improve from 0.28562\n",
      "43/43 [==============================] - 153s 4s/step - loss: 0.0931 - f1_score: 0.9329 - categorical_accuracy: 0.9327 - val_loss: 0.3049 - val_f1_score: 0.9220 - val_categorical_accuracy: 0.9217\n",
      "Epoch 15/275\n",
      "43/43 [==============================] - ETA: 0s - loss: 0.0854 - f1_score: 0.9403 - categorical_accuracy: 0.9400\n",
      "Epoch 00015: val_loss did not improve from 0.28562\n",
      "43/43 [==============================] - 153s 4s/step - loss: 0.0854 - f1_score: 0.9403 - categorical_accuracy: 0.9400 - val_loss: 0.2961 - val_f1_score: 0.9239 - val_categorical_accuracy: 0.9238\n",
      "Epoch 16/275\n",
      "43/43 [==============================] - ETA: 0s - loss: 0.0815 - f1_score: 0.9359 - categorical_accuracy: 0.9356\n",
      "Epoch 00016: val_loss did not improve from 0.28562\n",
      "43/43 [==============================] - 154s 4s/step - loss: 0.0815 - f1_score: 0.9359 - categorical_accuracy: 0.9356 - val_loss: 0.2970 - val_f1_score: 0.9240 - val_categorical_accuracy: 0.9238\n",
      "Epoch 17/275\n",
      "43/43 [==============================] - ETA: 0s - loss: 0.0793 - f1_score: 0.9400 - categorical_accuracy: 0.9398Restoring model weights from the end of the best epoch.\n",
      "\n",
      "Epoch 00017: val_loss did not improve from 0.28562\n",
      "43/43 [==============================] - 156s 4s/step - loss: 0.0793 - f1_score: 0.9400 - categorical_accuracy: 0.9398 - val_loss: 0.2951 - val_f1_score: 0.9221 - val_categorical_accuracy: 0.9217\n",
      "Epoch 00017: early stopping\n"
     ]
    }
   ],
   "source": [
    "history = model.fit(\n",
    "    train_generator, \n",
    "    steps_per_epoch=steps_per_epoch,\n",
    "    class_weight=class_weight, \n",
    "    epochs=275, \n",
    "    verbose=1, \n",
    "    workers=5,\n",
    "    callbacks=[reduce_lr, early, chk_point], \n",
    "    validation_data=validation_generator,\n",
    "    validation_steps=validation_steps\n",
    ")"
   ]
  },
  {
   "cell_type": "code",
   "execution_count": 17,
   "metadata": {
    "execution": {
     "iopub.execute_input": "2021-01-23T16:14:13.935088Z",
     "iopub.status.busy": "2021-01-23T16:14:13.933972Z",
     "iopub.status.idle": "2021-01-23T16:14:18.695530Z",
     "shell.execute_reply": "2021-01-23T16:14:18.696222Z"
    },
    "papermill": {
     "duration": 6.366782,
     "end_time": "2021-01-23T16:14:18.696388",
     "exception": false,
     "start_time": "2021-01-23T16:14:12.329606",
     "status": "completed"
    },
    "tags": []
   },
   "outputs": [
    {
     "data": {
      "image/png": "[encoded data removed]",
      "text/plain": [
       "<Figure size 2160x720 with 3 Axes>"
      ]
     },
     "metadata": {},
     "output_type": "display_data"
    }
   ],
   "source": [
    "_, ax = plt.subplots(1, 3, figsize=(30, 10))\n",
    "\n",
    "ax[0].plot(history.history['loss'], label='train_loss')\n",
    "ax[0].plot(history.history['val_loss'], label='val_loss')\n",
    "ax[0].set_ylabel('Loss')\n",
    "ax[0].set_xlabel('Epoch')\n",
    "ax[0].set_title(\"Model Loss Curve\")\n",
    "ax[0].legend()\n",
    "ax[0].grid()\n",
    "\n",
    "ax[1].plot(history.history['f1_score'], label='train_f1_score')\n",
    "ax[1].plot(history.history['val_f1_score'], label='val_f1_score')\n",
    "ax[1].set_ylabel('F1-Score')\n",
    "ax[1].set_xlabel('Epoch')\n",
    "ax[1].set_title(\"Model F1-Score Curve\")\n",
    "ax[1].legend()\n",
    "ax[1].grid()\n",
    "\n",
    "ax[2].plot(history.history['categorical_accuracy'], label='train_accuracy')\n",
    "ax[2].plot(history.history['val_categorical_accuracy'], label='val_accuracy')\n",
    "ax[2].set_ylabel('Accuracy')\n",
    "ax[2].set_xlabel('Epoch')\n",
    "ax[2].set_title(\"Model Accuracy Curve\")\n",
    "ax[2].legend()\n",
    "ax[2].grid()"
   ]
  },
  {
   "cell_type": "markdown",
   "metadata": {
    "papermill": {
     "duration": 1.449988,
     "end_time": "2021-01-23T16:14:21.647755",
     "exception": false,
     "start_time": "2021-01-23T16:14:20.197767",
     "status": "completed"
    },
    "tags": []
   },
   "source": [
    "## Check classification report"
   ]
  },
  {
   "cell_type": "code",
   "execution_count": 18,
   "metadata": {
    "execution": {
     "iopub.execute_input": "2021-01-23T16:14:25.030136Z",
     "iopub.status.busy": "2021-01-23T16:14:25.026854Z",
     "iopub.status.idle": "2021-01-23T16:14:39.103296Z",
     "shell.execute_reply": "2021-01-23T16:14:39.102433Z"
    },
    "papermill": {
     "duration": 15.536972,
     "end_time": "2021-01-23T16:14:39.103418",
     "exception": false,
     "start_time": "2021-01-23T16:14:23.566446",
     "status": "completed"
    },
    "tags": []
   },
   "outputs": [],
   "source": [
    "model = load_model('./hackerearth_holiday_season_model.h5')"
   ]
  },
  {
   "cell_type": "code",
   "execution_count": 19,
   "metadata": {
    "execution": {
     "iopub.execute_input": "2021-01-23T16:14:40.004286Z",
     "iopub.status.busy": "2021-01-23T16:14:40.003419Z",
     "iopub.status.idle": "2021-01-23T16:14:54.276377Z",
     "shell.execute_reply": "2021-01-23T16:14:54.276914Z"
    },
    "papermill": {
     "duration": 14.750282,
     "end_time": "2021-01-23T16:14:54.277069",
     "exception": false,
     "start_time": "2021-01-23T16:14:39.526787",
     "status": "completed"
    },
    "tags": []
   },
   "outputs": [
    {
     "name": "stdout",
     "output_type": "stream",
     "text": [
      "8/8 [==============================] - 9s 1s/step\n",
      "\n",
      "y_true: (971,)\n",
      "y_pred: (971,)\n"
     ]
    }
   ],
   "source": [
    "y_true = np.array([validation_generator.classes]).ravel()\n",
    "y_pred = model.predict(validation_generator, verbose=1)\n",
    "y_pred = np.argmax(y_pred, axis=1)\n",
    "\n",
    "print(\"\\ny_true: {}\".format(y_true.shape))\n",
    "print(\"y_pred: {}\".format(y_pred.shape))"
   ]
  },
  {
   "cell_type": "code",
   "execution_count": 20,
   "metadata": {
    "execution": {
     "iopub.execute_input": "2021-01-23T16:14:54.939123Z",
     "iopub.status.busy": "2021-01-23T16:14:54.938221Z",
     "iopub.status.idle": "2021-01-23T16:14:54.950692Z",
     "shell.execute_reply": "2021-01-23T16:14:54.950053Z"
    },
    "papermill": {
     "duration": 0.349413,
     "end_time": "2021-01-23T16:14:54.950792",
     "exception": false,
     "start_time": "2021-01-23T16:14:54.601379",
     "status": "completed"
    },
    "tags": []
   },
   "outputs": [
    {
     "name": "stdout",
     "output_type": "stream",
     "text": [
      "              precision    recall  f1-score   support\n",
      "\n",
      "           0       0.97      0.91      0.94        80\n",
      "           1       0.87      0.90      0.88        89\n",
      "           2       0.94      0.94      0.94       231\n",
      "           3       0.95      0.94      0.94        96\n",
      "           4       0.93      0.93      0.93       421\n",
      "           5       0.80      0.89      0.84        54\n",
      "\n",
      "    accuracy                           0.93       971\n",
      "   macro avg       0.91      0.92      0.91       971\n",
      "weighted avg       0.93      0.93      0.93       971\n",
      "\n"
     ]
    }
   ],
   "source": [
    "print(classification_report(y_true, y_pred))"
   ]
  },
  {
   "cell_type": "code",
   "execution_count": 21,
   "metadata": {
    "execution": {
     "iopub.execute_input": "2021-01-23T16:14:55.600336Z",
     "iopub.status.busy": "2021-01-23T16:14:55.599376Z",
     "iopub.status.idle": "2021-01-23T16:14:56.061306Z",
     "shell.execute_reply": "2021-01-23T16:14:56.061892Z"
    },
    "papermill": {
     "duration": 0.793328,
     "end_time": "2021-01-23T16:14:56.062074",
     "exception": false,
     "start_time": "2021-01-23T16:14:55.268746",
     "status": "completed"
    },
    "tags": []
   },
   "outputs": [
    {
     "data": {
      "image/png": "[encoded data removed]",
      "text/plain": [
       "<Figure size 864x504 with 2 Axes>"
      ]
     },
     "metadata": {},
     "output_type": "display_data"
    }
   ],
   "source": [
    "cnf_matrix = confusion_matrix(y_true, y_pred, labels=[0, 1, 2, 3, 4, 5])\n",
    "np.set_printoptions(precision=2)\n",
    "plt.figure(figsize=(12,7))\n",
    "plot_confusion_matrix(cnf_matrix, classes=[0, 1, 2, 3, 4, 5])"
   ]
  },
  {
   "cell_type": "markdown",
   "metadata": {
    "papermill": {
     "duration": 0.334358,
     "end_time": "2021-01-23T16:14:56.715483",
     "exception": false,
     "start_time": "2021-01-23T16:14:56.381125",
     "status": "completed"
    },
    "tags": []
   },
   "source": [
    "## Create submission file"
   ]
  },
  {
   "cell_type": "code",
   "execution_count": 22,
   "metadata": {
    "execution": {
     "iopub.execute_input": "2021-01-23T16:14:57.352051Z",
     "iopub.status.busy": "2021-01-23T16:14:57.350289Z",
     "iopub.status.idle": "2021-01-23T16:14:57.352694Z",
     "shell.execute_reply": "2021-01-23T16:14:57.353174Z"
    },
    "papermill": {
     "duration": 0.321038,
     "end_time": "2021-01-23T16:14:57.353293",
     "exception": false,
     "start_time": "2021-01-23T16:14:57.032255",
     "status": "completed"
    },
    "tags": []
   },
   "outputs": [],
   "source": [
    "rev_class_map = {\n",
    "    0: 'Airplane',\n",
    "    1: 'Candle',\n",
    "    2: 'Christmas_Tree',\n",
    "    3: 'Jacket',\n",
    "    4: 'Miscellaneous',\n",
    "    5: 'Snowman'\n",
    "}"
   ]
  },
  {
   "cell_type": "code",
   "execution_count": 23,
   "metadata": {
    "execution": {
     "iopub.execute_input": "2021-01-23T16:14:58.156593Z",
     "iopub.status.busy": "2021-01-23T16:14:58.155724Z",
     "iopub.status.idle": "2021-01-23T16:15:37.847313Z",
     "shell.execute_reply": "2021-01-23T16:15:37.847803Z"
    },
    "papermill": {
     "duration": 40.175273,
     "end_time": "2021-01-23T16:15:37.847993",
     "exception": false,
     "start_time": "2021-01-23T16:14:57.672720",
     "status": "completed"
    },
    "tags": []
   },
   "outputs": [
    {
     "name": "stdout",
     "output_type": "stream",
     "text": [
      "28/28 [==============================] - 37s 1s/step\n",
      "(3489,)\n"
     ]
    }
   ],
   "source": [
    "y_pred_final = model.predict(test_generator, verbose=1)\n",
    "y_pred_final = np.argmax(y_pred_final, axis=1)\n",
    "print(y_pred_final.shape)"
   ]
  },
  {
   "cell_type": "code",
   "execution_count": 24,
   "metadata": {
    "execution": {
     "iopub.execute_input": "2021-01-23T16:15:38.511652Z",
     "iopub.status.busy": "2021-01-23T16:15:38.510670Z",
     "iopub.status.idle": "2021-01-23T16:15:38.516726Z",
     "shell.execute_reply": "2021-01-23T16:15:38.517213Z"
    },
    "papermill": {
     "duration": 0.345852,
     "end_time": "2021-01-23T16:15:38.517374",
     "exception": false,
     "start_time": "2021-01-23T16:15:38.171522",
     "status": "completed"
    },
    "tags": []
   },
   "outputs": [
    {
     "data": {
      "text/html": [
       "<div>\n",
       "<style scoped>\n",
       "    .dataframe tbody tr th:only-of-type {\n",
       "        vertical-align: middle;\n",
       "    }\n",
       "\n",
       "    .dataframe tbody tr th {\n",
       "        vertical-align: top;\n",
       "    }\n",
       "\n",
       "    .dataframe thead th {\n",
       "        text-align: right;\n",
       "    }\n",
       "</style>\n",
       "<table border=\"1\" class=\"dataframe\">\n",
       "  <thead>\n",
       "    <tr style=\"text-align: right;\">\n",
       "      <th></th>\n",
       "      <th>Image</th>\n",
       "      <th>Class</th>\n",
       "    </tr>\n",
       "  </thead>\n",
       "  <tbody>\n",
       "    <tr>\n",
       "      <th>0</th>\n",
       "      <td>image7761.jpg</td>\n",
       "      <td>Miscellaneous</td>\n",
       "    </tr>\n",
       "    <tr>\n",
       "      <th>1</th>\n",
       "      <td>image3202.jpg</td>\n",
       "      <td>Miscellaneous</td>\n",
       "    </tr>\n",
       "    <tr>\n",
       "      <th>2</th>\n",
       "      <td>image688.jpg</td>\n",
       "      <td>Snowman</td>\n",
       "    </tr>\n",
       "    <tr>\n",
       "      <th>3</th>\n",
       "      <td>image233.jpg</td>\n",
       "      <td>Candle</td>\n",
       "    </tr>\n",
       "    <tr>\n",
       "      <th>4</th>\n",
       "      <td>image4332.jpg</td>\n",
       "      <td>Christmas_Tree</td>\n",
       "    </tr>\n",
       "  </tbody>\n",
       "</table>\n",
       "</div>"
      ],
      "text/plain": [
       "           Image           Class\n",
       "0  image7761.jpg   Miscellaneous\n",
       "1  image3202.jpg   Miscellaneous\n",
       "2   image688.jpg         Snowman\n",
       "3   image233.jpg          Candle\n",
       "4  image4332.jpg  Christmas_Tree"
      ]
     },
     "execution_count": 24,
     "metadata": {},
     "output_type": "execute_result"
    }
   ],
   "source": [
    "test_df['Class'] = y_pred_final\n",
    "test_df['Class'] = test_df['Class'].map(rev_class_map)\n",
    "test_df.head()"
   ]
  },
  {
   "cell_type": "code",
   "execution_count": 25,
   "metadata": {
    "execution": {
     "iopub.execute_input": "2021-01-23T16:15:39.183480Z",
     "iopub.status.busy": "2021-01-23T16:15:39.182802Z",
     "iopub.status.idle": "2021-01-23T16:15:39.496849Z",
     "shell.execute_reply": "2021-01-23T16:15:39.496142Z"
    },
    "papermill": {
     "duration": 0.655524,
     "end_time": "2021-01-23T16:15:39.497006",
     "exception": false,
     "start_time": "2021-01-23T16:15:38.841482",
     "status": "completed"
    },
    "tags": []
   },
   "outputs": [],
   "source": [
    "test_df.to_csv(\"/kaggle/working/submission.csv\", index=False)"
   ]
  },
  {
   "cell_type": "code",
   "execution_count": null,
   "metadata": {
    "papermill": {
     "duration": 0.324562,
     "end_time": "2021-01-23T16:15:40.152062",
     "exception": false,
     "start_time": "2021-01-23T16:15:39.827500",
     "status": "completed"
    },
    "tags": []
   },
   "outputs": [],
   "source": []
  }
 ],
 "metadata": {
  "kernelspec": {
   "display_name": "Python 3",
   "language": "python",
   "name": "python3"
  },
  "language_info": {
   "codemirror_mode": {
    "name": "ipython",
    "version": 3
   },
   "file_extension": ".py",
   "mimetype": "text/x-python",
   "name": "python",
   "nbconvert_exporter": "python",
   "pygments_lexer": "ipython3",
   "version": "3.7.6"
  },
  "papermill": {
   "duration": 3255.114271,
   "end_time": "2021-01-23T16:15:42.214608",
   "environment_variables": {},
   "exception": null,
   "input_path": "__notebook__.ipynb",
   "output_path": "__notebook__.ipynb",
   "parameters": {},
   "start_time": "2021-01-23T15:21:27.100337",
   "version": "2.1.0"
  }
 },
 "nbformat": 4,
 "nbformat_minor": 4
}
