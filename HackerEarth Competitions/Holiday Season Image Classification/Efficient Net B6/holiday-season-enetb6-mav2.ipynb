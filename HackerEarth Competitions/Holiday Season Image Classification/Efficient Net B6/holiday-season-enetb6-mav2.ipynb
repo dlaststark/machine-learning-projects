{
 "cells": [
  {
   "cell_type": "markdown",
   "metadata": {
    "papermill": {
     "duration": 0.022059,
     "end_time": "2021-01-23T13:32:15.991659",
     "exception": false,
     "start_time": "2021-01-23T13:32:15.969600",
     "status": "completed"
    },
    "tags": []
   },
   "source": [
    "## Import Packages"
   ]
  },
  {
   "cell_type": "code",
   "execution_count": 1,
   "metadata": {
    "execution": {
     "iopub.execute_input": "2021-01-23T13:32:16.046009Z",
     "iopub.status.busy": "2021-01-23T13:32:16.045416Z",
     "iopub.status.idle": "2021-01-23T13:32:21.998244Z",
     "shell.execute_reply": "2021-01-23T13:32:21.997313Z"
    },
    "papermill": {
     "duration": 5.985467,
     "end_time": "2021-01-23T13:32:21.998374",
     "exception": false,
     "start_time": "2021-01-23T13:32:16.012907",
     "status": "completed"
    },
    "tags": []
   },
   "outputs": [],
   "source": [
    "import os\n",
    "import itertools\n",
    "import numpy as np\n",
    "import pandas as pd\n",
    "import seaborn as sns\n",
    "from tqdm import tqdm\n",
    "import matplotlib.pyplot as plt\n",
    "from sklearn.metrics import confusion_matrix\n",
    "from sklearn.metrics import classification_report\n",
    "from sklearn.model_selection import StratifiedShuffleSplit\n",
    "\n",
    "import tensorflow as tf\n",
    "from tensorflow.keras import backend as K\n",
    "from tensorflow.keras.regularizers import l2\n",
    "from tensorflow_addons.metrics import F1Score\n",
    "from tensorflow.keras.models import Model, load_model\n",
    "from tensorflow_addons.optimizers import AdamW, Lookahead\n",
    "from tensorflow.keras.callbacks import EarlyStopping\n",
    "from tensorflow.keras.callbacks import ReduceLROnPlateau\n",
    "from tensorflow.keras.callbacks import ModelCheckpoint\n",
    "from tensorflow.keras.applications import EfficientNetB6\n",
    "from tensorflow.keras.layers import Dense, Dropout, Flatten\n",
    "from tensorflow.keras.layers import BatchNormalization, Input\n",
    "from tensorflow.keras.layers import ZeroPadding2D, MaxPooling2D\n",
    "from tensorflow.keras.layers import GlobalAveragePooling2D, Add\n",
    "from tensorflow.keras.layers import GlobalMaxPooling2D, Reshape\n",
    "from tensorflow.keras.layers import Activation, Conv2D, Average\n",
    "from tensorflow.keras.preprocessing.image import ImageDataGenerator"
   ]
  },
  {
   "cell_type": "markdown",
   "metadata": {
    "papermill": {
     "duration": 0.020929,
     "end_time": "2021-01-23T13:32:22.040570",
     "exception": false,
     "start_time": "2021-01-23T13:32:22.019641",
     "status": "completed"
    },
    "tags": []
   },
   "source": [
    "## Helper Functions"
   ]
  },
  {
   "cell_type": "code",
   "execution_count": 2,
   "metadata": {
    "execution": {
     "iopub.execute_input": "2021-01-23T13:32:22.126138Z",
     "iopub.status.busy": "2021-01-23T13:32:22.125386Z",
     "iopub.status.idle": "2021-01-23T13:32:22.128206Z",
     "shell.execute_reply": "2021-01-23T13:32:22.129125Z"
    },
    "papermill": {
     "duration": 0.057766,
     "end_time": "2021-01-23T13:32:22.129277",
     "exception": false,
     "start_time": "2021-01-23T13:32:22.071511",
     "status": "completed"
    },
    "tags": []
   },
   "outputs": [],
   "source": [
    "def plot_confusion_matrix(cm, classes):\n",
    "\n",
    "    plt.imshow(cm, interpolation='nearest', cmap=plt.cm.Blues)\n",
    "    plt.title('Confusion matrix')\n",
    "    plt.colorbar()\n",
    "    tick_marks = np.arange(len(classes))\n",
    "    plt.xticks(tick_marks, classes, rotation=0)\n",
    "    plt.yticks(tick_marks, classes)\n",
    "\n",
    "    thresh = cm.max() / 2.\n",
    "    for i, j in itertools.product(range(cm.shape[0]), range(cm.shape[1])):\n",
    "        plt.text(j, i, format(cm[i, j], 'd'),\n",
    "                 horizontalalignment=\"center\",\n",
    "                 color=\"white\" if cm[i, j] > thresh else \"black\")\n",
    "\n",
    "    plt.ylabel('True label')\n",
    "    plt.xlabel('Predicted label')\n",
    "    plt.tight_layout()"
   ]
  },
  {
   "cell_type": "markdown",
   "metadata": {
    "papermill": {
     "duration": 0.032076,
     "end_time": "2021-01-23T13:32:22.193538",
     "exception": false,
     "start_time": "2021-01-23T13:32:22.161462",
     "status": "completed"
    },
    "tags": []
   },
   "source": [
    "## Read true labels + Basic EDA"
   ]
  },
  {
   "cell_type": "code",
   "execution_count": 3,
   "metadata": {
    "execution": {
     "iopub.execute_input": "2021-01-23T13:32:22.331158Z",
     "iopub.status.busy": "2021-01-23T13:32:22.330316Z",
     "iopub.status.idle": "2021-01-23T13:32:22.383638Z",
     "shell.execute_reply": "2021-01-23T13:32:22.382783Z"
    },
    "papermill": {
     "duration": 0.158333,
     "end_time": "2021-01-23T13:32:22.383755",
     "exception": false,
     "start_time": "2021-01-23T13:32:22.225422",
     "status": "completed"
    },
    "tags": []
   },
   "outputs": [
    {
     "data": {
      "text/html": [
       "<div>\n",
       "<style scoped>\n",
       "    .dataframe tbody tr th:only-of-type {\n",
       "        vertical-align: middle;\n",
       "    }\n",
       "\n",
       "    .dataframe tbody tr th {\n",
       "        vertical-align: top;\n",
       "    }\n",
       "\n",
       "    .dataframe thead th {\n",
       "        text-align: right;\n",
       "    }\n",
       "</style>\n",
       "<table border=\"1\" class=\"dataframe\">\n",
       "  <thead>\n",
       "    <tr style=\"text-align: right;\">\n",
       "      <th></th>\n",
       "      <th>Image</th>\n",
       "      <th>Class</th>\n",
       "    </tr>\n",
       "  </thead>\n",
       "  <tbody>\n",
       "    <tr>\n",
       "      <th>0</th>\n",
       "      <td>image3476.jpg</td>\n",
       "      <td>Miscellaneous</td>\n",
       "    </tr>\n",
       "    <tr>\n",
       "      <th>1</th>\n",
       "      <td>image5198.jpg</td>\n",
       "      <td>Candle</td>\n",
       "    </tr>\n",
       "    <tr>\n",
       "      <th>2</th>\n",
       "      <td>image4183.jpg</td>\n",
       "      <td>Snowman</td>\n",
       "    </tr>\n",
       "    <tr>\n",
       "      <th>3</th>\n",
       "      <td>image1806.jpg</td>\n",
       "      <td>Miscellaneous</td>\n",
       "    </tr>\n",
       "    <tr>\n",
       "      <th>4</th>\n",
       "      <td>image7831.jpg</td>\n",
       "      <td>Miscellaneous</td>\n",
       "    </tr>\n",
       "  </tbody>\n",
       "</table>\n",
       "</div>"
      ],
      "text/plain": [
       "           Image          Class\n",
       "0  image3476.jpg  Miscellaneous\n",
       "1  image5198.jpg         Candle\n",
       "2  image4183.jpg        Snowman\n",
       "3  image1806.jpg  Miscellaneous\n",
       "4  image7831.jpg  Miscellaneous"
      ]
     },
     "execution_count": 3,
     "metadata": {},
     "output_type": "execute_result"
    }
   ],
   "source": [
    "train_df = pd.read_csv(\"../input/hackereath-holiday-season-deep-learning-contest/dataset/train.csv\")\n",
    "train_df.head()"
   ]
  },
  {
   "cell_type": "code",
   "execution_count": 4,
   "metadata": {
    "execution": {
     "iopub.execute_input": "2021-01-23T13:32:22.432259Z",
     "iopub.status.busy": "2021-01-23T13:32:22.431420Z",
     "iopub.status.idle": "2021-01-23T13:32:22.438254Z",
     "shell.execute_reply": "2021-01-23T13:32:22.437824Z"
    },
    "papermill": {
     "duration": 0.032535,
     "end_time": "2021-01-23T13:32:22.438340",
     "exception": false,
     "start_time": "2021-01-23T13:32:22.405805",
     "status": "completed"
    },
    "tags": []
   },
   "outputs": [],
   "source": [
    "class_map = {\n",
    "    'Airplane': 0,\n",
    "    'Candle': 1,\n",
    "    'Christmas_Tree': 2,\n",
    "    'Jacket': 3,\n",
    "    'Miscellaneous': 4,\n",
    "    'Snowman': 5\n",
    "}"
   ]
  },
  {
   "cell_type": "code",
   "execution_count": 5,
   "metadata": {
    "execution": {
     "iopub.execute_input": "2021-01-23T13:32:22.499476Z",
     "iopub.status.busy": "2021-01-23T13:32:22.498560Z",
     "iopub.status.idle": "2021-01-23T13:32:22.511456Z",
     "shell.execute_reply": "2021-01-23T13:32:22.511054Z"
    },
    "papermill": {
     "duration": 0.051595,
     "end_time": "2021-01-23T13:32:22.511572",
     "exception": false,
     "start_time": "2021-01-23T13:32:22.459977",
     "status": "completed"
    },
    "tags": []
   },
   "outputs": [
    {
     "data": {
      "text/html": [
       "<div>\n",
       "<style scoped>\n",
       "    .dataframe tbody tr th:only-of-type {\n",
       "        vertical-align: middle;\n",
       "    }\n",
       "\n",
       "    .dataframe tbody tr th {\n",
       "        vertical-align: top;\n",
       "    }\n",
       "\n",
       "    .dataframe thead th {\n",
       "        text-align: right;\n",
       "    }\n",
       "</style>\n",
       "<table border=\"1\" class=\"dataframe\">\n",
       "  <thead>\n",
       "    <tr style=\"text-align: right;\">\n",
       "      <th></th>\n",
       "      <th>Class</th>\n",
       "      <th>Class_enc</th>\n",
       "      <th>Count</th>\n",
       "    </tr>\n",
       "  </thead>\n",
       "  <tbody>\n",
       "    <tr>\n",
       "      <th>0</th>\n",
       "      <td>Airplane</td>\n",
       "      <td>0</td>\n",
       "      <td>535</td>\n",
       "    </tr>\n",
       "    <tr>\n",
       "      <th>1</th>\n",
       "      <td>Candle</td>\n",
       "      <td>1</td>\n",
       "      <td>593</td>\n",
       "    </tr>\n",
       "    <tr>\n",
       "      <th>2</th>\n",
       "      <td>Christmas_Tree</td>\n",
       "      <td>2</td>\n",
       "      <td>1539</td>\n",
       "    </tr>\n",
       "    <tr>\n",
       "      <th>3</th>\n",
       "      <td>Jacket</td>\n",
       "      <td>3</td>\n",
       "      <td>640</td>\n",
       "    </tr>\n",
       "    <tr>\n",
       "      <th>4</th>\n",
       "      <td>Miscellaneous</td>\n",
       "      <td>4</td>\n",
       "      <td>2801</td>\n",
       "    </tr>\n",
       "    <tr>\n",
       "      <th>5</th>\n",
       "      <td>Snowman</td>\n",
       "      <td>5</td>\n",
       "      <td>361</td>\n",
       "    </tr>\n",
       "  </tbody>\n",
       "</table>\n",
       "</div>"
      ],
      "text/plain": [
       "            Class Class_enc  Count\n",
       "0        Airplane         0    535\n",
       "1          Candle         1    593\n",
       "2  Christmas_Tree         2   1539\n",
       "3          Jacket         3    640\n",
       "4   Miscellaneous         4   2801\n",
       "5         Snowman         5    361"
      ]
     },
     "execution_count": 5,
     "metadata": {},
     "output_type": "execute_result"
    }
   ],
   "source": [
    "train_df['Class_enc'] = train_df['Class'].map(class_map)\n",
    "train_df['Class_enc'] = train_df['Class_enc'].astype('str')\n",
    "train_df.groupby(['Class','Class_enc']).size().reset_index().rename(columns={0:'Count'})"
   ]
  },
  {
   "cell_type": "code",
   "execution_count": 6,
   "metadata": {
    "execution": {
     "iopub.execute_input": "2021-01-23T13:32:22.560218Z",
     "iopub.status.busy": "2021-01-23T13:32:22.559674Z",
     "iopub.status.idle": "2021-01-23T13:32:22.781690Z",
     "shell.execute_reply": "2021-01-23T13:32:22.782119Z"
    },
    "papermill": {
     "duration": 0.248954,
     "end_time": "2021-01-23T13:32:22.782254",
     "exception": false,
     "start_time": "2021-01-23T13:32:22.533300",
     "status": "completed"
    },
    "tags": []
   },
   "outputs": [
    {
     "data": {
      "image/png": "[encoded data removed]",
      "text/plain": [
       "<Figure size 864x504 with 1 Axes>"
      ]
     },
     "metadata": {
      "needs_background": "light"
     },
     "output_type": "display_data"
    }
   ],
   "source": [
    "plt.figure(figsize=(12,7))\n",
    "sns.set(style=\"darkgrid\")\n",
    "ax = sns.countplot(x=\"Class\", data=train_df)"
   ]
  },
  {
   "cell_type": "code",
   "execution_count": 7,
   "metadata": {
    "execution": {
     "iopub.execute_input": "2021-01-23T13:32:22.834676Z",
     "iopub.status.busy": "2021-01-23T13:32:22.834004Z",
     "iopub.status.idle": "2021-01-23T13:32:23.004278Z",
     "shell.execute_reply": "2021-01-23T13:32:23.003825Z"
    },
    "papermill": {
     "duration": 0.198354,
     "end_time": "2021-01-23T13:32:23.004372",
     "exception": false,
     "start_time": "2021-01-23T13:32:22.806018",
     "status": "completed"
    },
    "tags": []
   },
   "outputs": [
    {
     "name": "stderr",
     "output_type": "stream",
     "text": [
      "100%|██████████| 3489/3489 [00:00<00:00, 1135645.40it/s]\n"
     ]
    },
    {
     "data": {
      "text/html": [
       "<div>\n",
       "<style scoped>\n",
       "    .dataframe tbody tr th:only-of-type {\n",
       "        vertical-align: middle;\n",
       "    }\n",
       "\n",
       "    .dataframe tbody tr th {\n",
       "        vertical-align: top;\n",
       "    }\n",
       "\n",
       "    .dataframe thead th {\n",
       "        text-align: right;\n",
       "    }\n",
       "</style>\n",
       "<table border=\"1\" class=\"dataframe\">\n",
       "  <thead>\n",
       "    <tr style=\"text-align: right;\">\n",
       "      <th></th>\n",
       "      <th>Image</th>\n",
       "      <th>Class</th>\n",
       "    </tr>\n",
       "  </thead>\n",
       "  <tbody>\n",
       "    <tr>\n",
       "      <th>0</th>\n",
       "      <td>image7761.jpg</td>\n",
       "      <td>0</td>\n",
       "    </tr>\n",
       "    <tr>\n",
       "      <th>1</th>\n",
       "      <td>image3202.jpg</td>\n",
       "      <td>0</td>\n",
       "    </tr>\n",
       "    <tr>\n",
       "      <th>2</th>\n",
       "      <td>image688.jpg</td>\n",
       "      <td>0</td>\n",
       "    </tr>\n",
       "    <tr>\n",
       "      <th>3</th>\n",
       "      <td>image233.jpg</td>\n",
       "      <td>0</td>\n",
       "    </tr>\n",
       "    <tr>\n",
       "      <th>4</th>\n",
       "      <td>image4332.jpg</td>\n",
       "      <td>0</td>\n",
       "    </tr>\n",
       "  </tbody>\n",
       "</table>\n",
       "</div>"
      ],
      "text/plain": [
       "           Image Class\n",
       "0  image7761.jpg     0\n",
       "1  image3202.jpg     0\n",
       "2   image688.jpg     0\n",
       "3   image233.jpg     0\n",
       "4  image4332.jpg     0"
      ]
     },
     "execution_count": 7,
     "metadata": {},
     "output_type": "execute_result"
    }
   ],
   "source": [
    "test_dir = \"../input/hackereath-holiday-season-deep-learning-contest/dataset/test\"\n",
    "test_files = []\n",
    "\n",
    "for file in tqdm(os.listdir(test_dir)):\n",
    "    test_files.append(file)\n",
    "\n",
    "test_df = pd.DataFrame(test_files, columns=['Image'])\n",
    "test_df['Class'] = '0'\n",
    "test_df.head()"
   ]
  },
  {
   "cell_type": "markdown",
   "metadata": {
    "papermill": {
     "duration": 0.023516,
     "end_time": "2021-01-23T13:32:23.051467",
     "exception": false,
     "start_time": "2021-01-23T13:32:23.027951",
     "status": "completed"
    },
    "tags": []
   },
   "source": [
    "## Calculate class-weights"
   ]
  },
  {
   "cell_type": "code",
   "execution_count": 8,
   "metadata": {
    "execution": {
     "iopub.execute_input": "2021-01-23T13:32:23.109704Z",
     "iopub.status.busy": "2021-01-23T13:32:23.106831Z",
     "iopub.status.idle": "2021-01-23T13:32:23.138789Z",
     "shell.execute_reply": "2021-01-23T13:32:23.138227Z"
    },
    "papermill": {
     "duration": 0.063657,
     "end_time": "2021-01-23T13:32:23.138895",
     "exception": false,
     "start_time": "2021-01-23T13:32:23.075238",
     "status": "completed"
    },
    "tags": []
   },
   "outputs": [
    {
     "data": {
      "text/plain": [
       "{0: 0.6747663551401869,\n",
       " 1: 0.6087689713322091,\n",
       " 2: 0.23456790123456786,\n",
       " 3: 0.5640625,\n",
       " 4: 0.12888254194930382,\n",
       " 5: 1.0}"
      ]
     },
     "execution_count": 8,
     "metadata": {},
     "output_type": "execute_result"
    }
   ],
   "source": [
    "temp_df = train_df.groupby(['Class_enc']).size().reset_index().rename(columns={0:'count'})\n",
    "total_count = np.sum(temp_df['count'].values)\n",
    "temp_df['class%'] = (temp_df['count'] / total_count) * 100\n",
    "lowest_pct = min(temp_df['class%'])\n",
    "temp_df['class_weight'] = lowest_pct / temp_df['class%']\n",
    "class_weight = temp_df[['Class_enc', 'class_weight']].to_dict()['class_weight']\n",
    "class_weight"
   ]
  },
  {
   "cell_type": "markdown",
   "metadata": {
    "papermill": {
     "duration": 0.024431,
     "end_time": "2021-01-23T13:32:23.187230",
     "exception": false,
     "start_time": "2021-01-23T13:32:23.162799",
     "status": "completed"
    },
    "tags": []
   },
   "source": [
    "## Split training data into train/validation datasets"
   ]
  },
  {
   "cell_type": "code",
   "execution_count": 9,
   "metadata": {
    "execution": {
     "iopub.execute_input": "2021-01-23T13:32:23.249013Z",
     "iopub.status.busy": "2021-01-23T13:32:23.248463Z",
     "iopub.status.idle": "2021-01-23T13:32:23.263084Z",
     "shell.execute_reply": "2021-01-23T13:32:23.263744Z"
    },
    "papermill": {
     "duration": 0.052514,
     "end_time": "2021-01-23T13:32:23.263905",
     "exception": false,
     "start_time": "2021-01-23T13:32:23.211391",
     "status": "completed"
    },
    "tags": []
   },
   "outputs": [
    {
     "name": "stdout",
     "output_type": "stream",
     "text": [
      "train_df shape: (5498, 3)\n",
      "validation_df shape: (971, 3)\n"
     ]
    }
   ],
   "source": [
    "sss = StratifiedShuffleSplit(n_splits=1, test_size=0.15, random_state=1)\n",
    "for train_index, validation_index in sss.split(train_df['Image'], train_df['Class_enc']):\n",
    "    train_df, validation_df = train_df.iloc[train_index], train_df.iloc[validation_index]\n",
    "\n",
    "print(\"train_df shape: {}\".format(train_df.shape))\n",
    "print(\"validation_df shape: {}\".format(validation_df.shape))"
   ]
  },
  {
   "cell_type": "code",
   "execution_count": 10,
   "metadata": {
    "execution": {
     "iopub.execute_input": "2021-01-23T13:32:23.357456Z",
     "iopub.status.busy": "2021-01-23T13:32:23.356453Z",
     "iopub.status.idle": "2021-01-23T13:32:23.370315Z",
     "shell.execute_reply": "2021-01-23T13:32:23.370718Z"
    },
    "papermill": {
     "duration": 0.044123,
     "end_time": "2021-01-23T13:32:23.370842",
     "exception": false,
     "start_time": "2021-01-23T13:32:23.326719",
     "status": "completed"
    },
    "tags": []
   },
   "outputs": [
    {
     "data": {
      "text/html": [
       "<div>\n",
       "<style scoped>\n",
       "    .dataframe tbody tr th:only-of-type {\n",
       "        vertical-align: middle;\n",
       "    }\n",
       "\n",
       "    .dataframe tbody tr th {\n",
       "        vertical-align: top;\n",
       "    }\n",
       "\n",
       "    .dataframe thead th {\n",
       "        text-align: right;\n",
       "    }\n",
       "</style>\n",
       "<table border=\"1\" class=\"dataframe\">\n",
       "  <thead>\n",
       "    <tr style=\"text-align: right;\">\n",
       "      <th></th>\n",
       "      <th>Class</th>\n",
       "      <th>Class_enc</th>\n",
       "      <th>Count</th>\n",
       "    </tr>\n",
       "  </thead>\n",
       "  <tbody>\n",
       "    <tr>\n",
       "      <th>0</th>\n",
       "      <td>Airplane</td>\n",
       "      <td>0</td>\n",
       "      <td>455</td>\n",
       "    </tr>\n",
       "    <tr>\n",
       "      <th>1</th>\n",
       "      <td>Candle</td>\n",
       "      <td>1</td>\n",
       "      <td>504</td>\n",
       "    </tr>\n",
       "    <tr>\n",
       "      <th>2</th>\n",
       "      <td>Christmas_Tree</td>\n",
       "      <td>2</td>\n",
       "      <td>1308</td>\n",
       "    </tr>\n",
       "    <tr>\n",
       "      <th>3</th>\n",
       "      <td>Jacket</td>\n",
       "      <td>3</td>\n",
       "      <td>544</td>\n",
       "    </tr>\n",
       "    <tr>\n",
       "      <th>4</th>\n",
       "      <td>Miscellaneous</td>\n",
       "      <td>4</td>\n",
       "      <td>2380</td>\n",
       "    </tr>\n",
       "    <tr>\n",
       "      <th>5</th>\n",
       "      <td>Snowman</td>\n",
       "      <td>5</td>\n",
       "      <td>307</td>\n",
       "    </tr>\n",
       "  </tbody>\n",
       "</table>\n",
       "</div>"
      ],
      "text/plain": [
       "            Class Class_enc  Count\n",
       "0        Airplane         0    455\n",
       "1          Candle         1    504\n",
       "2  Christmas_Tree         2   1308\n",
       "3          Jacket         3    544\n",
       "4   Miscellaneous         4   2380\n",
       "5         Snowman         5    307"
      ]
     },
     "execution_count": 10,
     "metadata": {},
     "output_type": "execute_result"
    }
   ],
   "source": [
    "train_df.groupby(['Class','Class_enc']).size().reset_index().rename(columns={0:'Count'})"
   ]
  },
  {
   "cell_type": "code",
   "execution_count": 11,
   "metadata": {
    "execution": {
     "iopub.execute_input": "2021-01-23T13:32:23.429201Z",
     "iopub.status.busy": "2021-01-23T13:32:23.428200Z",
     "iopub.status.idle": "2021-01-23T13:32:23.443437Z",
     "shell.execute_reply": "2021-01-23T13:32:23.443947Z"
    },
    "papermill": {
     "duration": 0.048155,
     "end_time": "2021-01-23T13:32:23.444075",
     "exception": false,
     "start_time": "2021-01-23T13:32:23.395920",
     "status": "completed"
    },
    "tags": []
   },
   "outputs": [
    {
     "data": {
      "text/html": [
       "<div>\n",
       "<style scoped>\n",
       "    .dataframe tbody tr th:only-of-type {\n",
       "        vertical-align: middle;\n",
       "    }\n",
       "\n",
       "    .dataframe tbody tr th {\n",
       "        vertical-align: top;\n",
       "    }\n",
       "\n",
       "    .dataframe thead th {\n",
       "        text-align: right;\n",
       "    }\n",
       "</style>\n",
       "<table border=\"1\" class=\"dataframe\">\n",
       "  <thead>\n",
       "    <tr style=\"text-align: right;\">\n",
       "      <th></th>\n",
       "      <th>Class</th>\n",
       "      <th>Class_enc</th>\n",
       "      <th>Count</th>\n",
       "    </tr>\n",
       "  </thead>\n",
       "  <tbody>\n",
       "    <tr>\n",
       "      <th>0</th>\n",
       "      <td>Airplane</td>\n",
       "      <td>0</td>\n",
       "      <td>80</td>\n",
       "    </tr>\n",
       "    <tr>\n",
       "      <th>1</th>\n",
       "      <td>Candle</td>\n",
       "      <td>1</td>\n",
       "      <td>89</td>\n",
       "    </tr>\n",
       "    <tr>\n",
       "      <th>2</th>\n",
       "      <td>Christmas_Tree</td>\n",
       "      <td>2</td>\n",
       "      <td>231</td>\n",
       "    </tr>\n",
       "    <tr>\n",
       "      <th>3</th>\n",
       "      <td>Jacket</td>\n",
       "      <td>3</td>\n",
       "      <td>96</td>\n",
       "    </tr>\n",
       "    <tr>\n",
       "      <th>4</th>\n",
       "      <td>Miscellaneous</td>\n",
       "      <td>4</td>\n",
       "      <td>421</td>\n",
       "    </tr>\n",
       "    <tr>\n",
       "      <th>5</th>\n",
       "      <td>Snowman</td>\n",
       "      <td>5</td>\n",
       "      <td>54</td>\n",
       "    </tr>\n",
       "  </tbody>\n",
       "</table>\n",
       "</div>"
      ],
      "text/plain": [
       "            Class Class_enc  Count\n",
       "0        Airplane         0     80\n",
       "1          Candle         1     89\n",
       "2  Christmas_Tree         2    231\n",
       "3          Jacket         3     96\n",
       "4   Miscellaneous         4    421\n",
       "5         Snowman         5     54"
      ]
     },
     "execution_count": 11,
     "metadata": {},
     "output_type": "execute_result"
    }
   ],
   "source": [
    "validation_df.groupby(['Class','Class_enc']).size().reset_index().rename(columns={0:'Count'})"
   ]
  },
  {
   "cell_type": "markdown",
   "metadata": {
    "papermill": {
     "duration": 0.025061,
     "end_time": "2021-01-23T13:32:23.494643",
     "exception": false,
     "start_time": "2021-01-23T13:32:23.469582",
     "status": "completed"
    },
    "tags": []
   },
   "source": [
    "## Model Hyperparameters"
   ]
  },
  {
   "cell_type": "code",
   "execution_count": 12,
   "metadata": {
    "execution": {
     "iopub.execute_input": "2021-01-23T13:32:23.553974Z",
     "iopub.status.busy": "2021-01-23T13:32:23.552107Z",
     "iopub.status.idle": "2021-01-23T13:32:23.554568Z",
     "shell.execute_reply": "2021-01-23T13:32:23.554983Z"
    },
    "papermill": {
     "duration": 0.034642,
     "end_time": "2021-01-23T13:32:23.555095",
     "exception": false,
     "start_time": "2021-01-23T13:32:23.520453",
     "status": "completed"
    },
    "tags": []
   },
   "outputs": [],
   "source": [
    "dataset_dir = \"../input/hackereath-holiday-season-deep-learning-contest/dataset/\"\n",
    "mini_batch_size = 128\n",
    "steps_per_epoch = int(np.ceil(train_df.shape[0] / float(mini_batch_size)))\n",
    "validation_steps = int(np.ceil(validation_df.shape[0] / float(mini_batch_size)))\n",
    "test_steps = int(np.ceil(test_df.shape[0] / float(mini_batch_size)))\n",
    "image_dim = (240, 240, 3)"
   ]
  },
  {
   "cell_type": "markdown",
   "metadata": {
    "papermill": {
     "duration": 0.025209,
     "end_time": "2021-01-23T13:32:23.606259",
     "exception": false,
     "start_time": "2021-01-23T13:32:23.581050",
     "status": "completed"
    },
    "tags": []
   },
   "source": [
    "## Configure image generators"
   ]
  },
  {
   "cell_type": "code",
   "execution_count": 13,
   "metadata": {
    "execution": {
     "iopub.execute_input": "2021-01-23T13:32:23.685444Z",
     "iopub.status.busy": "2021-01-23T13:32:23.684740Z",
     "iopub.status.idle": "2021-01-23T13:32:33.331714Z",
     "shell.execute_reply": "2021-01-23T13:32:33.330636Z"
    },
    "papermill": {
     "duration": 9.700407,
     "end_time": "2021-01-23T13:32:33.331817",
     "exception": false,
     "start_time": "2021-01-23T13:32:23.631410",
     "status": "completed"
    },
    "tags": []
   },
   "outputs": [
    {
     "name": "stdout",
     "output_type": "stream",
     "text": [
      "Found 5498 validated image filenames belonging to 6 classes.\n",
      "Found 971 validated image filenames belonging to 6 classes.\n",
      "Found 3489 validated image filenames belonging to 1 classes.\n"
     ]
    }
   ],
   "source": [
    "train_datagen = ImageDataGenerator(rotation_range = 30,\n",
    "                                   zoom_range = 0.2,\n",
    "                                   horizontal_flip = True,\n",
    "                                   fill_mode = 'nearest',\n",
    "                                   height_shift_range = 0.1,\n",
    "                                   width_shift_range = 0.1)\n",
    "\n",
    "train_generator = train_datagen.flow_from_dataframe(train_df,\n",
    "                                                    directory = os.path.join(dataset_dir,\"train\"),\n",
    "                                                    x_col = \"Image\", \n",
    "                                                    y_col = \"Class_enc\",\n",
    "                                                    target_size = (image_dim[0], image_dim[1]),\n",
    "                                                    batch_size = mini_batch_size,\n",
    "                                                    class_mode = \"categorical\",\n",
    "                                                    interpolation=\"bicubic\")\n",
    "\n",
    "validation_datagen = ImageDataGenerator()\n",
    "\n",
    "validation_generator = validation_datagen.flow_from_dataframe(validation_df,\n",
    "                                                              directory = os.path.join(dataset_dir,\"train\"),\n",
    "                                                              x_col = \"Image\",\n",
    "                                                              y_col = \"Class_enc\",\n",
    "                                                              shuffle=False,\n",
    "                                                              target_size = (image_dim[0], image_dim[1]),\n",
    "                                                              batch_size = mini_batch_size,\n",
    "                                                              class_mode = \"categorical\",\n",
    "                                                              interpolation=\"bicubic\")\n",
    "\n",
    "test_datagen = ImageDataGenerator()\n",
    "\n",
    "test_generator = test_datagen.flow_from_dataframe(test_df,\n",
    "                                                  directory = os.path.join(dataset_dir,\"test\"),\n",
    "                                                  x_col = \"Image\",\n",
    "                                                  y_col = \"Class\",\n",
    "                                                  shuffle=False,\n",
    "                                                  target_size = (image_dim[0], image_dim[1]),\n",
    "                                                  batch_size = mini_batch_size,\n",
    "                                                  class_mode = \"categorical\",\n",
    "                                                  interpolation=\"bicubic\")"
   ]
  },
  {
   "cell_type": "markdown",
   "metadata": {
    "papermill": {
     "duration": 0.025421,
     "end_time": "2021-01-23T13:32:33.383505",
     "exception": false,
     "start_time": "2021-01-23T13:32:33.358084",
     "status": "completed"
    },
    "tags": []
   },
   "source": [
    "## Build and validate the model"
   ]
  },
  {
   "cell_type": "code",
   "execution_count": 14,
   "metadata": {
    "execution": {
     "iopub.execute_input": "2021-01-23T13:32:33.467005Z",
     "iopub.status.busy": "2021-01-23T13:32:33.450004Z",
     "iopub.status.idle": "2021-01-23T13:32:33.469469Z",
     "shell.execute_reply": "2021-01-23T13:32:33.470052Z"
    },
    "papermill": {
     "duration": 0.060717,
     "end_time": "2021-01-23T13:32:33.470181",
     "exception": false,
     "start_time": "2021-01-23T13:32:33.409464",
     "status": "completed"
    },
    "tags": []
   },
   "outputs": [],
   "source": [
    "def head(x_input, input_shape=2304, ratio=8):\n",
    "    \n",
    "    #=======================================================\n",
    "    #                    Channel Attention\n",
    "    #=======================================================\n",
    "    gapavg = GlobalAveragePooling2D()(x_input)\n",
    "    gapavg = Reshape((1, 1, gapavg.shape[1]))(gapavg)\n",
    "    gapavg = Conv2D(input_shape//ratio, \n",
    "                    kernel_size=1, strides=1, use_bias=True, \n",
    "                    padding='same', kernel_regularizer=l2(0.001), \n",
    "                    kernel_initializer='he_normal')(gapavg)\n",
    "    gapavg = BatchNormalization()(gapavg)\n",
    "    gapavg = Activation('relu')(gapavg)\n",
    "    gapavg_out = Conv2D(input_shape, kernel_size=1, \n",
    "                        strides=1, padding='same', use_bias=True, \n",
    "                        kernel_regularizer=l2(0.001), \n",
    "                        kernel_initializer='he_normal')(gapavg)\n",
    "    gapavg_out = BatchNormalization()(gapavg_out)\n",
    "    gapavg_out = Activation('relu')(gapavg_out)\n",
    "\n",
    "\n",
    "    gmpmax = GlobalMaxPooling2D()(x_input)\n",
    "    gmpmax = Reshape((1, 1, gmpmax.shape[1]))(gmpmax)\n",
    "    gmpmax = Conv2D(input_shape//ratio, \n",
    "                    kernel_size=1, strides=1, use_bias=True, \n",
    "                    padding='same', kernel_regularizer=l2(0.001), \n",
    "                    kernel_initializer='he_normal')(gmpmax)\n",
    "    gmpmax = BatchNormalization()(gmpmax)\n",
    "    gmpmax = Activation('relu')(gmpmax)\n",
    "    gmpmax_out = Conv2D(input_shape, kernel_size=1, \n",
    "                        strides=1, padding='same', use_bias=True, \n",
    "                        kernel_regularizer=l2(0.001), \n",
    "                        kernel_initializer='he_normal')(gmpmax)\n",
    "    gmpmax_out = BatchNormalization()(gmpmax_out)\n",
    "    gmpmax_out = Activation('relu')(gmpmax_out)\n",
    "    canx = x_input * tf.math.sigmoid(gapavg_out + gmpmax_out)\n",
    "\n",
    "\n",
    "    #=======================================================\n",
    "    #                    Spatial Attention\n",
    "    #=======================================================\n",
    "    avg_out = tf.reduce_mean(canx, axis=3)\n",
    "    max_out = tf.reduce_max(canx,  axis=3)\n",
    "    x = tf.stack([avg_out, max_out], axis=3)\n",
    "    \n",
    "    x = Conv2D(filters=64, kernel_size=3, strides=1, \n",
    "               padding='same', use_bias=False, \n",
    "               kernel_regularizer=l2(0.001), \n",
    "               kernel_initializer='he_normal')(x)\n",
    "    x = BatchNormalization()(x)\n",
    "    x = Activation('relu')(x)\n",
    "\n",
    "    x = Conv2D(filters=32, kernel_size=3, strides=1, \n",
    "               padding='same', use_bias=False, \n",
    "               kernel_regularizer=l2(0.001), \n",
    "               kernel_initializer='he_normal')(x)\n",
    "    x = BatchNormalization()(x)\n",
    "    x = Activation('relu')(x)\n",
    "\n",
    "    x = Conv2D(filters=16, kernel_size=3, strides=1, \n",
    "               padding='same', use_bias=False, \n",
    "               kernel_regularizer=l2(0.001), \n",
    "               kernel_initializer='he_normal')(x)\n",
    "    x = BatchNormalization()(x)\n",
    "    x = Activation('relu')(x)\n",
    "\n",
    "    x = Conv2D(filters=1, kernel_size=3, strides=1, \n",
    "               padding='same', use_bias=False, \n",
    "               kernel_regularizer=l2(0.001), \n",
    "               kernel_initializer='he_normal')(x)\n",
    "    x = BatchNormalization()(x)\n",
    "    x = Activation('sigmoid')(x)\n",
    "    spnx1 = canx * x\n",
    "    spnx2 = x\n",
    "    \n",
    "    gapx   = GlobalAveragePooling2D()(spnx1)\n",
    "    wvgx   = GlobalAveragePooling2D()(spnx2)\n",
    "    gapavg = Average()([gapx, wvgx])\n",
    "    x = BatchNormalization()(gapavg)\n",
    "\n",
    "\n",
    "    #=======================================================\n",
    "    #                    Tail of the model\n",
    "    #=======================================================\n",
    "\n",
    "    x = Dense(units=2048, kernel_regularizer=l2(0.0001), \n",
    "              kernel_initializer='he_uniform')(x)\n",
    "    x = BatchNormalization()(x)\n",
    "    x = Activation('relu')(x)\n",
    "    x = Dropout(rate=0.5)(x)\n",
    "    \n",
    "    x = Dense(units=1024, kernel_regularizer=l2(0.0001), \n",
    "              kernel_initializer='he_uniform')(x)\n",
    "    x = BatchNormalization()(x)\n",
    "    x = Activation('relu')(x)\n",
    "    x = Dropout(rate=0.5)(x)\n",
    "    \n",
    "    x = Dense(units=1024, kernel_regularizer=l2(0.0001), \n",
    "              kernel_initializer='he_uniform')(x)\n",
    "    x = BatchNormalization()(x)\n",
    "    x = Activation('relu')(x)\n",
    "    x = Dropout(rate=0.5)(x)\n",
    "    \n",
    "    x = Dense(units=512, kernel_regularizer=l2(0.0001), \n",
    "              kernel_initializer='he_uniform')(x)\n",
    "    x = BatchNormalization()(x)\n",
    "    x = Activation('relu')(x)\n",
    "    x = Dropout(rate=0.5)(x)\n",
    "    \n",
    "    x = Dense(units=6, activation='softmax', \n",
    "              kernel_initializer='he_uniform')(x)\n",
    "\n",
    "    return x"
   ]
  },
  {
   "cell_type": "code",
   "execution_count": 15,
   "metadata": {
    "execution": {
     "iopub.execute_input": "2021-01-23T13:32:33.532377Z",
     "iopub.status.busy": "2021-01-23T13:32:33.531824Z",
     "iopub.status.idle": "2021-01-23T13:32:59.288383Z",
     "shell.execute_reply": "2021-01-23T13:32:59.289035Z"
    },
    "papermill": {
     "duration": 25.793294,
     "end_time": "2021-01-23T13:32:59.289222",
     "exception": false,
     "start_time": "2021-01-23T13:32:33.495928",
     "status": "completed"
    },
    "tags": []
   },
   "outputs": [
    {
     "name": "stdout",
     "output_type": "stream",
     "text": [
      "Downloading data from https://storage.googleapis.com/keras-applications/efficientnetb6_notop.h5\n",
      "165240832/165234480 [==============================] - 1s 0us/step\n"
     ]
    }
   ],
   "source": [
    "# Build the model\n",
    "base_model = EfficientNetB6(weights='imagenet', \n",
    "                            input_tensor=Input(shape=image_dim), \n",
    "                            include_top=False)\n",
    "\n",
    "model = Model(base_model.input, head(base_model.output),\n",
    "              name='HackerEarth_Holiday_Season_Model')\n",
    "\n",
    "# Load the pre-trained model\n",
    "pretrain_model = load_model('../input/holiday-season-enetb6-mav1/hackerearth_holiday_season_model.h5')\n",
    "\n",
    "# Transfer weights from pre-trained model\n",
    "model.set_weights(pretrain_model.get_weights())\n",
    "\n",
    "# Freeze weights for base model\n",
    "base_model.trainable = False\n",
    "for layer in base_model.layers[-18:]:\n",
    "    if not isinstance(layer, BatchNormalization):\n",
    "        layer.trainable = True\n",
    "\n",
    "# Compile the final model\n",
    "model.compile(loss='categorical_crossentropy', \n",
    "              metrics=[F1Score(num_classes=6, average='weighted'), \n",
    "                       'categorical_accuracy'],\n",
    "              optimizer=Lookahead(AdamW(lr=1e-2, \n",
    "                                        weight_decay=1e-5, \n",
    "                                        clipvalue=700), \n",
    "                                  sync_period=10))\n",
    "\n",
    "early = EarlyStopping(monitor=\"val_loss\", mode=\"min\", patience=10, \n",
    "                      restore_best_weights=True, verbose=1)\n",
    "\n",
    "reduce_lr = ReduceLROnPlateau(monitor=\"val_loss\", factor=0.1, \n",
    "                              min_lr=1e-6, patience=7, \n",
    "                              verbose=1, mode='min')\n",
    "\n",
    "chk_point = ModelCheckpoint('hackerearth_holiday_season_model.h5', \n",
    "                            monitor='val_loss', verbose=1, \n",
    "                            save_best_only=True, mode='min')"
   ]
  },
  {
   "cell_type": "code",
   "execution_count": 16,
   "metadata": {
    "execution": {
     "iopub.execute_input": "2021-01-23T13:32:59.414728Z",
     "iopub.status.busy": "2021-01-23T13:32:59.413749Z",
     "iopub.status.idle": "2021-01-23T14:23:03.754603Z",
     "shell.execute_reply": "2021-01-23T14:23:03.753807Z"
    },
    "papermill": {
     "duration": 3004.411013,
     "end_time": "2021-01-23T14:23:03.754760",
     "exception": false,
     "start_time": "2021-01-23T13:32:59.343747",
     "status": "completed"
    },
    "tags": []
   },
   "outputs": [
    {
     "name": "stdout",
     "output_type": "stream",
     "text": [
      "Epoch 1/275\n",
      "43/43 [==============================] - ETA: 0s - loss: 0.5484 - f1_score: 0.8016 - categorical_accuracy: 0.8016\n",
      "Epoch 00001: val_loss improved from inf to 1.38645, saving model to hackerearth_holiday_season_model.h5\n",
      "43/43 [==============================] - 99s 2s/step - loss: 0.5484 - f1_score: 0.8016 - categorical_accuracy: 0.8016 - val_loss: 1.3865 - val_f1_score: 0.8158 - val_categorical_accuracy: 0.8033\n",
      "Epoch 2/275\n",
      "43/43 [==============================] - ETA: 0s - loss: 0.4006 - f1_score: 0.8558 - categorical_accuracy: 0.8539\n",
      "Epoch 00002: val_loss improved from 1.38645 to 0.85597, saving model to hackerearth_holiday_season_model.h5\n",
      "43/43 [==============================] - 91s 2s/step - loss: 0.4006 - f1_score: 0.8558 - categorical_accuracy: 0.8539 - val_loss: 0.8560 - val_f1_score: 0.8598 - val_categorical_accuracy: 0.8579\n",
      "Epoch 3/275\n",
      "43/43 [==============================] - ETA: 0s - loss: 0.4232 - f1_score: 0.8595 - categorical_accuracy: 0.8585\n",
      "Epoch 00003: val_loss did not improve from 0.85597\n",
      "43/43 [==============================] - 82s 2s/step - loss: 0.4232 - f1_score: 0.8595 - categorical_accuracy: 0.8585 - val_loss: 1.0899 - val_f1_score: 0.8481 - val_categorical_accuracy: 0.8435\n",
      "Epoch 4/275\n",
      "43/43 [==============================] - ETA: 0s - loss: 0.4704 - f1_score: 0.8646 - categorical_accuracy: 0.8630\n",
      "Epoch 00004: val_loss improved from 0.85597 to 0.74230, saving model to hackerearth_holiday_season_model.h5\n",
      "43/43 [==============================] - 90s 2s/step - loss: 0.4704 - f1_score: 0.8646 - categorical_accuracy: 0.8630 - val_loss: 0.7423 - val_f1_score: 0.8726 - val_categorical_accuracy: 0.8713\n",
      "Epoch 5/275\n",
      "43/43 [==============================] - ETA: 0s - loss: 0.3945 - f1_score: 0.8638 - categorical_accuracy: 0.8632\n",
      "Epoch 00005: val_loss did not improve from 0.74230\n",
      "43/43 [==============================] - 80s 2s/step - loss: 0.3945 - f1_score: 0.8638 - categorical_accuracy: 0.8632 - val_loss: 1.0242 - val_f1_score: 0.8380 - val_categorical_accuracy: 0.8321\n",
      "Epoch 6/275\n",
      "43/43 [==============================] - ETA: 0s - loss: 0.3675 - f1_score: 0.8798 - categorical_accuracy: 0.8783\n",
      "Epoch 00006: val_loss did not improve from 0.74230\n",
      "43/43 [==============================] - 81s 2s/step - loss: 0.3675 - f1_score: 0.8798 - categorical_accuracy: 0.8783 - val_loss: 0.8687 - val_f1_score: 0.8611 - val_categorical_accuracy: 0.8610\n",
      "Epoch 7/275\n",
      "43/43 [==============================] - ETA: 0s - loss: 0.3612 - f1_score: 0.8781 - categorical_accuracy: 0.8769\n",
      "Epoch 00007: val_loss did not improve from 0.74230\n",
      "43/43 [==============================] - 80s 2s/step - loss: 0.3612 - f1_score: 0.8781 - categorical_accuracy: 0.8769 - val_loss: 2.9449 - val_f1_score: 0.7393 - val_categorical_accuracy: 0.7477\n",
      "Epoch 8/275\n",
      "43/43 [==============================] - ETA: 0s - loss: 0.4125 - f1_score: 0.8750 - categorical_accuracy: 0.8738\n",
      "Epoch 00008: val_loss did not improve from 0.74230\n",
      "43/43 [==============================] - 80s 2s/step - loss: 0.4125 - f1_score: 0.8750 - categorical_accuracy: 0.8738 - val_loss: 0.7728 - val_f1_score: 0.8650 - val_categorical_accuracy: 0.8641\n",
      "Epoch 9/275\n",
      "43/43 [==============================] - ETA: 0s - loss: 0.3752 - f1_score: 0.8804 - categorical_accuracy: 0.8794\n",
      "Epoch 00009: val_loss did not improve from 0.74230\n",
      "43/43 [==============================] - 80s 2s/step - loss: 0.3752 - f1_score: 0.8804 - categorical_accuracy: 0.8794 - val_loss: 0.7473 - val_f1_score: 0.8796 - val_categorical_accuracy: 0.8795\n",
      "Epoch 10/275\n",
      "43/43 [==============================] - ETA: 0s - loss: 0.4252 - f1_score: 0.8791 - categorical_accuracy: 0.8783\n",
      "Epoch 00010: val_loss did not improve from 0.74230\n",
      "43/43 [==============================] - 81s 2s/step - loss: 0.4252 - f1_score: 0.8791 - categorical_accuracy: 0.8783 - val_loss: 0.7570 - val_f1_score: 0.8770 - val_categorical_accuracy: 0.8744\n",
      "Epoch 11/275\n",
      "43/43 [==============================] - ETA: 0s - loss: 0.3824 - f1_score: 0.8878 - categorical_accuracy: 0.8870\n",
      "Epoch 00011: ReduceLROnPlateau reducing learning rate to 0.0009999999776482583.\n",
      "\n",
      "Epoch 00011: val_loss did not improve from 0.74230\n",
      "43/43 [==============================] - 81s 2s/step - loss: 0.3824 - f1_score: 0.8878 - categorical_accuracy: 0.8870 - val_loss: 0.7553 - val_f1_score: 0.8866 - val_categorical_accuracy: 0.8836\n",
      "Epoch 12/275\n",
      "43/43 [==============================] - ETA: 0s - loss: 0.2809 - f1_score: 0.9018 - categorical_accuracy: 0.9009\n",
      "Epoch 00012: val_loss improved from 0.74230 to 0.47679, saving model to hackerearth_holiday_season_model.h5\n",
      "43/43 [==============================] - 89s 2s/step - loss: 0.2809 - f1_score: 0.9018 - categorical_accuracy: 0.9009 - val_loss: 0.4768 - val_f1_score: 0.8974 - val_categorical_accuracy: 0.8970\n",
      "Epoch 13/275\n",
      "43/43 [==============================] - ETA: 0s - loss: 0.2129 - f1_score: 0.9102 - categorical_accuracy: 0.9098\n",
      "Epoch 00013: val_loss improved from 0.47679 to 0.46178, saving model to hackerearth_holiday_season_model.h5\n",
      "43/43 [==============================] - 89s 2s/step - loss: 0.2129 - f1_score: 0.9102 - categorical_accuracy: 0.9098 - val_loss: 0.4618 - val_f1_score: 0.8961 - val_categorical_accuracy: 0.8960\n",
      "Epoch 14/275\n",
      "43/43 [==============================] - ETA: 0s - loss: 0.1897 - f1_score: 0.9194 - categorical_accuracy: 0.9191\n",
      "Epoch 00014: val_loss improved from 0.46178 to 0.43859, saving model to hackerearth_holiday_season_model.h5\n",
      "43/43 [==============================] - 89s 2s/step - loss: 0.1897 - f1_score: 0.9194 - categorical_accuracy: 0.9191 - val_loss: 0.4386 - val_f1_score: 0.8969 - val_categorical_accuracy: 0.8970\n",
      "Epoch 15/275\n",
      "43/43 [==============================] - ETA: 0s - loss: 0.1737 - f1_score: 0.9117 - categorical_accuracy: 0.9112\n",
      "Epoch 00015: val_loss improved from 0.43859 to 0.42604, saving model to hackerearth_holiday_season_model.h5\n",
      "43/43 [==============================] - 89s 2s/step - loss: 0.1737 - f1_score: 0.9117 - categorical_accuracy: 0.9112 - val_loss: 0.4260 - val_f1_score: 0.8991 - val_categorical_accuracy: 0.8991\n",
      "Epoch 16/275\n",
      "43/43 [==============================] - ETA: 0s - loss: 0.1566 - f1_score: 0.9154 - categorical_accuracy: 0.9151\n",
      "Epoch 00016: val_loss improved from 0.42604 to 0.41944, saving model to hackerearth_holiday_season_model.h5\n",
      "43/43 [==============================] - 90s 2s/step - loss: 0.1566 - f1_score: 0.9154 - categorical_accuracy: 0.9151 - val_loss: 0.4194 - val_f1_score: 0.8921 - val_categorical_accuracy: 0.8929\n",
      "Epoch 17/275\n",
      "43/43 [==============================] - ETA: 0s - loss: 0.1543 - f1_score: 0.9163 - categorical_accuracy: 0.9158\n",
      "Epoch 00017: val_loss improved from 0.41944 to 0.37847, saving model to hackerearth_holiday_season_model.h5\n",
      "43/43 [==============================] - 88s 2s/step - loss: 0.1543 - f1_score: 0.9163 - categorical_accuracy: 0.9158 - val_loss: 0.3785 - val_f1_score: 0.9072 - val_categorical_accuracy: 0.9073\n",
      "Epoch 18/275\n",
      "43/43 [==============================] - ETA: 0s - loss: 0.1397 - f1_score: 0.9221 - categorical_accuracy: 0.9218\n",
      "Epoch 00018: val_loss improved from 0.37847 to 0.37586, saving model to hackerearth_holiday_season_model.h5\n",
      "43/43 [==============================] - 88s 2s/step - loss: 0.1397 - f1_score: 0.9221 - categorical_accuracy: 0.9218 - val_loss: 0.3759 - val_f1_score: 0.9085 - val_categorical_accuracy: 0.9083\n",
      "Epoch 19/275\n",
      "43/43 [==============================] - ETA: 0s - loss: 0.1322 - f1_score: 0.9175 - categorical_accuracy: 0.9171\n",
      "Epoch 00019: val_loss did not improve from 0.37586\n",
      "43/43 [==============================] - 80s 2s/step - loss: 0.1322 - f1_score: 0.9175 - categorical_accuracy: 0.9171 - val_loss: 0.3814 - val_f1_score: 0.9002 - val_categorical_accuracy: 0.9001\n",
      "Epoch 20/275\n",
      "43/43 [==============================] - ETA: 0s - loss: 0.1245 - f1_score: 0.9148 - categorical_accuracy: 0.9145\n",
      "Epoch 00020: val_loss improved from 0.37586 to 0.36462, saving model to hackerearth_holiday_season_model.h5\n",
      "43/43 [==============================] - 89s 2s/step - loss: 0.1245 - f1_score: 0.9148 - categorical_accuracy: 0.9145 - val_loss: 0.3646 - val_f1_score: 0.9010 - val_categorical_accuracy: 0.9011\n",
      "Epoch 21/275\n",
      "43/43 [==============================] - ETA: 0s - loss: 0.1184 - f1_score: 0.9226 - categorical_accuracy: 0.9223\n",
      "Epoch 00021: val_loss improved from 0.36462 to 0.35920, saving model to hackerearth_holiday_season_model.h5\n",
      "43/43 [==============================] - 90s 2s/step - loss: 0.1184 - f1_score: 0.9226 - categorical_accuracy: 0.9223 - val_loss: 0.3592 - val_f1_score: 0.9074 - val_categorical_accuracy: 0.9073\n",
      "Epoch 22/275\n",
      "43/43 [==============================] - ETA: 0s - loss: 0.1196 - f1_score: 0.9188 - categorical_accuracy: 0.9183\n",
      "Epoch 00022: val_loss did not improve from 0.35920\n",
      "43/43 [==============================] - 80s 2s/step - loss: 0.1196 - f1_score: 0.9188 - categorical_accuracy: 0.9183 - val_loss: 0.3635 - val_f1_score: 0.9073 - val_categorical_accuracy: 0.9073\n",
      "Epoch 23/275\n",
      "43/43 [==============================] - ETA: 0s - loss: 0.1062 - f1_score: 0.9306 - categorical_accuracy: 0.9302\n",
      "Epoch 00023: val_loss did not improve from 0.35920\n",
      "43/43 [==============================] - 81s 2s/step - loss: 0.1062 - f1_score: 0.9306 - categorical_accuracy: 0.9302 - val_loss: 0.3920 - val_f1_score: 0.8990 - val_categorical_accuracy: 0.8991\n",
      "Epoch 24/275\n",
      "43/43 [==============================] - ETA: 0s - loss: 0.1055 - f1_score: 0.9264 - categorical_accuracy: 0.9263\n",
      "Epoch 00024: val_loss did not improve from 0.35920\n",
      "43/43 [==============================] - 84s 2s/step - loss: 0.1055 - f1_score: 0.9264 - categorical_accuracy: 0.9263 - val_loss: 0.3795 - val_f1_score: 0.8983 - val_categorical_accuracy: 0.8980\n",
      "Epoch 25/275\n",
      "43/43 [==============================] - ETA: 0s - loss: 0.1100 - f1_score: 0.9206 - categorical_accuracy: 0.9200\n",
      "Epoch 00025: val_loss did not improve from 0.35920\n",
      "43/43 [==============================] - 84s 2s/step - loss: 0.1100 - f1_score: 0.9206 - categorical_accuracy: 0.9200 - val_loss: 0.4046 - val_f1_score: 0.8968 - val_categorical_accuracy: 0.8970\n",
      "Epoch 26/275\n",
      "43/43 [==============================] - ETA: 0s - loss: 0.0988 - f1_score: 0.9306 - categorical_accuracy: 0.9305\n",
      "Epoch 00026: val_loss did not improve from 0.35920\n",
      "43/43 [==============================] - 81s 2s/step - loss: 0.0988 - f1_score: 0.9306 - categorical_accuracy: 0.9305 - val_loss: 0.3920 - val_f1_score: 0.9003 - val_categorical_accuracy: 0.9001\n",
      "Epoch 27/275\n",
      "43/43 [==============================] - ETA: 0s - loss: 0.1024 - f1_score: 0.9245 - categorical_accuracy: 0.9243\n",
      "Epoch 00027: val_loss did not improve from 0.35920\n",
      "43/43 [==============================] - 80s 2s/step - loss: 0.1024 - f1_score: 0.9245 - categorical_accuracy: 0.9243 - val_loss: 0.3767 - val_f1_score: 0.9085 - val_categorical_accuracy: 0.9083\n",
      "Epoch 28/275\n",
      "43/43 [==============================] - ETA: 0s - loss: 0.1044 - f1_score: 0.9236 - categorical_accuracy: 0.9232\n",
      "Epoch 00028: ReduceLROnPlateau reducing learning rate to 9.999999310821295e-05.\n",
      "\n",
      "Epoch 00028: val_loss did not improve from 0.35920\n",
      "43/43 [==============================] - 82s 2s/step - loss: 0.1044 - f1_score: 0.9236 - categorical_accuracy: 0.9232 - val_loss: 0.3794 - val_f1_score: 0.8983 - val_categorical_accuracy: 0.8980\n",
      "Epoch 29/275\n",
      "43/43 [==============================] - ETA: 0s - loss: 0.0923 - f1_score: 0.9357 - categorical_accuracy: 0.9354\n",
      "Epoch 00029: val_loss did not improve from 0.35920\n",
      "43/43 [==============================] - 82s 2s/step - loss: 0.0923 - f1_score: 0.9357 - categorical_accuracy: 0.9354 - val_loss: 0.3651 - val_f1_score: 0.9065 - val_categorical_accuracy: 0.9063\n",
      "Epoch 30/275\n",
      "43/43 [==============================] - ETA: 0s - loss: 0.0896 - f1_score: 0.9357 - categorical_accuracy: 0.9354\n",
      "Epoch 00030: val_loss did not improve from 0.35920\n",
      "43/43 [==============================] - 82s 2s/step - loss: 0.0896 - f1_score: 0.9357 - categorical_accuracy: 0.9354 - val_loss: 0.3680 - val_f1_score: 0.9044 - val_categorical_accuracy: 0.9042\n",
      "Epoch 31/275\n",
      "43/43 [==============================] - ETA: 0s - loss: 0.0884 - f1_score: 0.9356 - categorical_accuracy: 0.9352Restoring model weights from the end of the best epoch.\n",
      "\n",
      "Epoch 00031: val_loss did not improve from 0.35920\n",
      "43/43 [==============================] - 83s 2s/step - loss: 0.0884 - f1_score: 0.9356 - categorical_accuracy: 0.9352 - val_loss: 0.3641 - val_f1_score: 0.9055 - val_categorical_accuracy: 0.9053\n",
      "Epoch 00031: early stopping\n"
     ]
    }
   ],
   "source": [
    "history = model.fit(\n",
    "    train_generator, \n",
    "    steps_per_epoch=steps_per_epoch,\n",
    "    class_weight=class_weight, \n",
    "    epochs=275, \n",
    "    verbose=1, \n",
    "    workers=5,\n",
    "    callbacks=[reduce_lr, early, chk_point], \n",
    "    validation_data=validation_generator,\n",
    "    validation_steps=validation_steps\n",
    ")"
   ]
  },
  {
   "cell_type": "code",
   "execution_count": 17,
   "metadata": {
    "execution": {
     "iopub.execute_input": "2021-01-23T14:23:08.271017Z",
     "iopub.status.busy": "2021-01-23T14:23:08.270194Z",
     "iopub.status.idle": "2021-01-23T14:23:12.824258Z",
     "shell.execute_reply": "2021-01-23T14:23:12.827019Z"
    },
    "papermill": {
     "duration": 6.964543,
     "end_time": "2021-01-23T14:23:12.827192",
     "exception": false,
     "start_time": "2021-01-23T14:23:05.862649",
     "status": "completed"
    },
    "tags": []
   },
   "outputs": [
    {
     "data": {
      "image/png": "[encoded data removed]",
      "text/plain": [
       "<Figure size 2160x720 with 3 Axes>"
      ]
     },
     "metadata": {},
     "output_type": "display_data"
    }
   ],
   "source": [
    "_, ax = plt.subplots(1, 3, figsize=(30, 10))\n",
    "\n",
    "ax[0].plot(history.history['loss'], label='train_loss')\n",
    "ax[0].plot(history.history['val_loss'], label='val_loss')\n",
    "ax[0].set_ylabel('Loss')\n",
    "ax[0].set_xlabel('Epoch')\n",
    "ax[0].set_title(\"Model Loss Curve\")\n",
    "ax[0].legend()\n",
    "ax[0].grid()\n",
    "\n",
    "ax[1].plot(history.history['f1_score'], label='train_f1_score')\n",
    "ax[1].plot(history.history['val_f1_score'], label='val_f1_score')\n",
    "ax[1].set_ylabel('F1-Score')\n",
    "ax[1].set_xlabel('Epoch')\n",
    "ax[1].set_title(\"Model F1-Score Curve\")\n",
    "ax[1].legend()\n",
    "ax[1].grid()\n",
    "\n",
    "ax[2].plot(history.history['categorical_accuracy'], label='train_accuracy')\n",
    "ax[2].plot(history.history['val_categorical_accuracy'], label='val_accuracy')\n",
    "ax[2].set_ylabel('Accuracy')\n",
    "ax[2].set_xlabel('Epoch')\n",
    "ax[2].set_title(\"Model Accuracy Curve\")\n",
    "ax[2].legend()\n",
    "ax[2].grid()"
   ]
  },
  {
   "cell_type": "markdown",
   "metadata": {
    "papermill": {
     "duration": 0.671009,
     "end_time": "2021-01-23T14:23:15.218390",
     "exception": false,
     "start_time": "2021-01-23T14:23:14.547381",
     "status": "completed"
    },
    "tags": []
   },
   "source": [
    "## Check classification report"
   ]
  },
  {
   "cell_type": "code",
   "execution_count": 18,
   "metadata": {
    "execution": {
     "iopub.execute_input": "2021-01-23T14:23:16.599349Z",
     "iopub.status.busy": "2021-01-23T14:23:16.598376Z",
     "iopub.status.idle": "2021-01-23T14:23:22.886453Z",
     "shell.execute_reply": "2021-01-23T14:23:22.885489Z"
    },
    "papermill": {
     "duration": 6.973424,
     "end_time": "2021-01-23T14:23:22.886597",
     "exception": false,
     "start_time": "2021-01-23T14:23:15.913173",
     "status": "completed"
    },
    "tags": []
   },
   "outputs": [],
   "source": [
    "model = load_model('./hackerearth_holiday_season_model.h5')"
   ]
  },
  {
   "cell_type": "code",
   "execution_count": 19,
   "metadata": {
    "execution": {
     "iopub.execute_input": "2021-01-23T14:23:23.754146Z",
     "iopub.status.busy": "2021-01-23T14:23:23.753378Z",
     "iopub.status.idle": "2021-01-23T14:23:33.671056Z",
     "shell.execute_reply": "2021-01-23T14:23:33.672088Z"
    },
    "papermill": {
     "duration": 10.359531,
     "end_time": "2021-01-23T14:23:33.672259",
     "exception": false,
     "start_time": "2021-01-23T14:23:23.312728",
     "status": "completed"
    },
    "tags": []
   },
   "outputs": [
    {
     "name": "stdout",
     "output_type": "stream",
     "text": [
      "8/8 [==============================] - 5s 608ms/step\n",
      "\n",
      "y_true: (971,)\n",
      "y_pred: (971,)\n"
     ]
    }
   ],
   "source": [
    "y_true = np.array([validation_generator.classes]).ravel()\n",
    "y_pred = model.predict(validation_generator, verbose=1)\n",
    "y_pred = np.argmax(y_pred, axis=1)\n",
    "\n",
    "print(\"\\ny_true: {}\".format(y_true.shape))\n",
    "print(\"y_pred: {}\".format(y_pred.shape))"
   ]
  },
  {
   "cell_type": "code",
   "execution_count": 20,
   "metadata": {
    "execution": {
     "iopub.execute_input": "2021-01-23T14:23:34.929481Z",
     "iopub.status.busy": "2021-01-23T14:23:34.928594Z",
     "iopub.status.idle": "2021-01-23T14:23:34.941008Z",
     "shell.execute_reply": "2021-01-23T14:23:34.940428Z"
    },
    "papermill": {
     "duration": 0.546899,
     "end_time": "2021-01-23T14:23:34.941116",
     "exception": false,
     "start_time": "2021-01-23T14:23:34.394217",
     "status": "completed"
    },
    "tags": []
   },
   "outputs": [
    {
     "name": "stdout",
     "output_type": "stream",
     "text": [
      "              precision    recall  f1-score   support\n",
      "\n",
      "           0       0.97      0.88      0.92        80\n",
      "           1       0.94      0.83      0.88        89\n",
      "           2       0.93      0.90      0.92       231\n",
      "           3       0.95      0.86      0.91        96\n",
      "           4       0.89      0.94      0.91       421\n",
      "           5       0.79      0.89      0.83        54\n",
      "\n",
      "    accuracy                           0.91       971\n",
      "   macro avg       0.91      0.88      0.90       971\n",
      "weighted avg       0.91      0.91      0.91       971\n",
      "\n"
     ]
    }
   ],
   "source": [
    "print(classification_report(y_true, y_pred))"
   ]
  },
  {
   "cell_type": "code",
   "execution_count": 21,
   "metadata": {
    "execution": {
     "iopub.execute_input": "2021-01-23T14:23:35.844743Z",
     "iopub.status.busy": "2021-01-23T14:23:35.843794Z",
     "iopub.status.idle": "2021-01-23T14:23:36.267483Z",
     "shell.execute_reply": "2021-01-23T14:23:36.266505Z"
    },
    "papermill": {
     "duration": 0.872309,
     "end_time": "2021-01-23T14:23:36.267605",
     "exception": false,
     "start_time": "2021-01-23T14:23:35.395296",
     "status": "completed"
    },
    "tags": []
   },
   "outputs": [
    {
     "data": {
      "image/png": "[encoded data removed]",
      "text/plain": [
       "<Figure size 864x504 with 2 Axes>"
      ]
     },
     "metadata": {},
     "output_type": "display_data"
    }
   ],
   "source": [
    "cnf_matrix = confusion_matrix(y_true, y_pred, labels=[0, 1, 2, 3, 4, 5])\n",
    "np.set_printoptions(precision=2)\n",
    "plt.figure(figsize=(12,7))\n",
    "plot_confusion_matrix(cnf_matrix, classes=[0, 1, 2, 3, 4, 5])"
   ]
  },
  {
   "cell_type": "markdown",
   "metadata": {
    "papermill": {
     "duration": 0.434926,
     "end_time": "2021-01-23T14:23:37.153458",
     "exception": false,
     "start_time": "2021-01-23T14:23:36.718532",
     "status": "completed"
    },
    "tags": []
   },
   "source": [
    "## Create submission file"
   ]
  },
  {
   "cell_type": "code",
   "execution_count": 22,
   "metadata": {
    "execution": {
     "iopub.execute_input": "2021-01-23T14:23:38.017295Z",
     "iopub.status.busy": "2021-01-23T14:23:38.015502Z",
     "iopub.status.idle": "2021-01-23T14:23:38.018360Z",
     "shell.execute_reply": "2021-01-23T14:23:38.018738Z"
    },
    "papermill": {
     "duration": 0.437369,
     "end_time": "2021-01-23T14:23:38.018857",
     "exception": false,
     "start_time": "2021-01-23T14:23:37.581488",
     "status": "completed"
    },
    "tags": []
   },
   "outputs": [],
   "source": [
    "rev_class_map = {\n",
    "    0: 'Airplane',\n",
    "    1: 'Candle',\n",
    "    2: 'Christmas_Tree',\n",
    "    3: 'Jacket',\n",
    "    4: 'Miscellaneous',\n",
    "    5: 'Snowman'\n",
    "}"
   ]
  },
  {
   "cell_type": "code",
   "execution_count": 23,
   "metadata": {
    "execution": {
     "iopub.execute_input": "2021-01-23T14:23:38.890221Z",
     "iopub.status.busy": "2021-01-23T14:23:38.889644Z",
     "iopub.status.idle": "2021-01-23T14:24:14.384853Z",
     "shell.execute_reply": "2021-01-23T14:24:14.383889Z"
    },
    "papermill": {
     "duration": 35.937476,
     "end_time": "2021-01-23T14:24:14.385019",
     "exception": false,
     "start_time": "2021-01-23T14:23:38.447543",
     "status": "completed"
    },
    "tags": []
   },
   "outputs": [
    {
     "name": "stdout",
     "output_type": "stream",
     "text": [
      "28/28 [==============================] - 33s 1s/step\n",
      "(3489,)\n"
     ]
    }
   ],
   "source": [
    "y_pred_final = model.predict(test_generator, verbose=1)\n",
    "y_pred_final = np.argmax(y_pred_final, axis=1)\n",
    "print(y_pred_final.shape)"
   ]
  },
  {
   "cell_type": "code",
   "execution_count": 24,
   "metadata": {
    "execution": {
     "iopub.execute_input": "2021-01-23T14:24:15.587828Z",
     "iopub.status.busy": "2021-01-23T14:24:15.587075Z",
     "iopub.status.idle": "2021-01-23T14:24:15.590235Z",
     "shell.execute_reply": "2021-01-23T14:24:15.590654Z"
    },
    "papermill": {
     "duration": 0.460479,
     "end_time": "2021-01-23T14:24:15.590770",
     "exception": false,
     "start_time": "2021-01-23T14:24:15.130291",
     "status": "completed"
    },
    "tags": []
   },
   "outputs": [
    {
     "data": {
      "text/html": [
       "<div>\n",
       "<style scoped>\n",
       "    .dataframe tbody tr th:only-of-type {\n",
       "        vertical-align: middle;\n",
       "    }\n",
       "\n",
       "    .dataframe tbody tr th {\n",
       "        vertical-align: top;\n",
       "    }\n",
       "\n",
       "    .dataframe thead th {\n",
       "        text-align: right;\n",
       "    }\n",
       "</style>\n",
       "<table border=\"1\" class=\"dataframe\">\n",
       "  <thead>\n",
       "    <tr style=\"text-align: right;\">\n",
       "      <th></th>\n",
       "      <th>Image</th>\n",
       "      <th>Class</th>\n",
       "    </tr>\n",
       "  </thead>\n",
       "  <tbody>\n",
       "    <tr>\n",
       "      <th>0</th>\n",
       "      <td>image7761.jpg</td>\n",
       "      <td>Miscellaneous</td>\n",
       "    </tr>\n",
       "    <tr>\n",
       "      <th>1</th>\n",
       "      <td>image3202.jpg</td>\n",
       "      <td>Miscellaneous</td>\n",
       "    </tr>\n",
       "    <tr>\n",
       "      <th>2</th>\n",
       "      <td>image688.jpg</td>\n",
       "      <td>Snowman</td>\n",
       "    </tr>\n",
       "    <tr>\n",
       "      <th>3</th>\n",
       "      <td>image233.jpg</td>\n",
       "      <td>Candle</td>\n",
       "    </tr>\n",
       "    <tr>\n",
       "      <th>4</th>\n",
       "      <td>image4332.jpg</td>\n",
       "      <td>Christmas_Tree</td>\n",
       "    </tr>\n",
       "  </tbody>\n",
       "</table>\n",
       "</div>"
      ],
      "text/plain": [
       "           Image           Class\n",
       "0  image7761.jpg   Miscellaneous\n",
       "1  image3202.jpg   Miscellaneous\n",
       "2   image688.jpg         Snowman\n",
       "3   image233.jpg          Candle\n",
       "4  image4332.jpg  Christmas_Tree"
      ]
     },
     "execution_count": 24,
     "metadata": {},
     "output_type": "execute_result"
    }
   ],
   "source": [
    "test_df['Class'] = y_pred_final\n",
    "test_df['Class'] = test_df['Class'].map(rev_class_map)\n",
    "test_df.head()"
   ]
  },
  {
   "cell_type": "code",
   "execution_count": 25,
   "metadata": {
    "execution": {
     "iopub.execute_input": "2021-01-23T14:24:16.478069Z",
     "iopub.status.busy": "2021-01-23T14:24:16.477492Z",
     "iopub.status.idle": "2021-01-23T14:24:16.774625Z",
     "shell.execute_reply": "2021-01-23T14:24:16.773157Z"
    },
    "papermill": {
     "duration": 0.743852,
     "end_time": "2021-01-23T14:24:16.774740",
     "exception": false,
     "start_time": "2021-01-23T14:24:16.030888",
     "status": "completed"
    },
    "tags": []
   },
   "outputs": [],
   "source": [
    "test_df.to_csv(\"/kaggle/working/submission.csv\", index=False)"
   ]
  },
  {
   "cell_type": "code",
   "execution_count": null,
   "metadata": {
    "papermill": {
     "duration": 0.436051,
     "end_time": "2021-01-23T14:24:17.652115",
     "exception": false,
     "start_time": "2021-01-23T14:24:17.216064",
     "status": "completed"
    },
    "tags": []
   },
   "outputs": [],
   "source": []
  }
 ],
 "metadata": {
  "kernelspec": {
   "display_name": "Python 3",
   "language": "python",
   "name": "python3"
  },
  "language_info": {
   "codemirror_mode": {
    "name": "ipython",
    "version": 3
   },
   "file_extension": ".py",
   "mimetype": "text/x-python",
   "name": "python",
   "nbconvert_exporter": "python",
   "pygments_lexer": "ipython3",
   "version": "3.7.6"
  },
  "papermill": {
   "duration": 3128.164577,
   "end_time": "2021-01-23T14:24:20.145444",
   "environment_variables": {},
   "exception": null,
   "input_path": "__notebook__.ipynb",
   "output_path": "__notebook__.ipynb",
   "parameters": {},
   "start_time": "2021-01-23T13:32:11.980867",
   "version": "2.1.0"
  }
 },
 "nbformat": 4,
 "nbformat_minor": 4
}
