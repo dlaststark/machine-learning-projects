{
 "cells": [
  {
   "cell_type": "markdown",
   "metadata": {
    "papermill": {
     "duration": 0.022023,
     "end_time": "2021-01-23T18:35:15.020714",
     "exception": false,
     "start_time": "2021-01-23T18:35:14.998691",
     "status": "completed"
    },
    "tags": []
   },
   "source": [
    "## Import Packages"
   ]
  },
  {
   "cell_type": "code",
   "execution_count": 1,
   "metadata": {
    "execution": {
     "iopub.execute_input": "2021-01-23T18:35:15.070032Z",
     "iopub.status.busy": "2021-01-23T18:35:15.068466Z",
     "iopub.status.idle": "2021-01-23T18:35:20.254406Z",
     "shell.execute_reply": "2021-01-23T18:35:20.253522Z"
    },
    "papermill": {
     "duration": 5.212992,
     "end_time": "2021-01-23T18:35:20.254520",
     "exception": false,
     "start_time": "2021-01-23T18:35:15.041528",
     "status": "completed"
    },
    "tags": []
   },
   "outputs": [],
   "source": [
    "import os\n",
    "import itertools\n",
    "import numpy as np\n",
    "import pandas as pd\n",
    "import seaborn as sns\n",
    "from tqdm import tqdm\n",
    "import matplotlib.pyplot as plt\n",
    "from sklearn.metrics import confusion_matrix\n",
    "from sklearn.metrics import classification_report\n",
    "from sklearn.model_selection import StratifiedShuffleSplit\n",
    "\n",
    "import tensorflow as tf\n",
    "from tensorflow.keras import backend as K\n",
    "from tensorflow.keras.regularizers import l2\n",
    "from tensorflow_addons.metrics import F1Score\n",
    "from tensorflow.keras.models import Model, load_model\n",
    "from tensorflow_addons.optimizers import AdamW, Lookahead\n",
    "from tensorflow.keras.callbacks import EarlyStopping\n",
    "from tensorflow.keras.callbacks import ReduceLROnPlateau\n",
    "from tensorflow.keras.callbacks import ModelCheckpoint\n",
    "from tensorflow.keras.applications import EfficientNetB6\n",
    "from tensorflow.keras.layers import Dense, Dropout, Flatten\n",
    "from tensorflow.keras.layers import BatchNormalization, Input\n",
    "from tensorflow.keras.layers import ZeroPadding2D, MaxPooling2D\n",
    "from tensorflow.keras.layers import GlobalAveragePooling2D, Add\n",
    "from tensorflow.keras.layers import GlobalMaxPooling2D, Reshape\n",
    "from tensorflow.keras.layers import Activation, Conv2D, Average\n",
    "from tensorflow.keras.preprocessing.image import ImageDataGenerator"
   ]
  },
  {
   "cell_type": "markdown",
   "metadata": {
    "papermill": {
     "duration": 0.022138,
     "end_time": "2021-01-23T18:35:20.299357",
     "exception": false,
     "start_time": "2021-01-23T18:35:20.277219",
     "status": "completed"
    },
    "tags": []
   },
   "source": [
    "## Helper Functions"
   ]
  },
  {
   "cell_type": "code",
   "execution_count": 2,
   "metadata": {
    "execution": {
     "iopub.execute_input": "2021-01-23T18:35:20.357758Z",
     "iopub.status.busy": "2021-01-23T18:35:20.355851Z",
     "iopub.status.idle": "2021-01-23T18:35:20.358360Z",
     "shell.execute_reply": "2021-01-23T18:35:20.358788Z"
    },
    "papermill": {
     "duration": 0.036912,
     "end_time": "2021-01-23T18:35:20.358919",
     "exception": false,
     "start_time": "2021-01-23T18:35:20.322007",
     "status": "completed"
    },
    "tags": []
   },
   "outputs": [],
   "source": [
    "def plot_confusion_matrix(cm, classes):\n",
    "\n",
    "    plt.imshow(cm, interpolation='nearest', cmap=plt.cm.Blues)\n",
    "    plt.title('Confusion matrix')\n",
    "    plt.colorbar()\n",
    "    tick_marks = np.arange(len(classes))\n",
    "    plt.xticks(tick_marks, classes, rotation=0)\n",
    "    plt.yticks(tick_marks, classes)\n",
    "\n",
    "    thresh = cm.max() / 2.\n",
    "    for i, j in itertools.product(range(cm.shape[0]), range(cm.shape[1])):\n",
    "        plt.text(j, i, format(cm[i, j], 'd'),\n",
    "                 horizontalalignment=\"center\",\n",
    "                 color=\"white\" if cm[i, j] > thresh else \"black\")\n",
    "\n",
    "    plt.ylabel('True label')\n",
    "    plt.xlabel('Predicted label')\n",
    "    plt.tight_layout()"
   ]
  },
  {
   "cell_type": "markdown",
   "metadata": {
    "papermill": {
     "duration": 0.021262,
     "end_time": "2021-01-23T18:35:20.402252",
     "exception": false,
     "start_time": "2021-01-23T18:35:20.380990",
     "status": "completed"
    },
    "tags": []
   },
   "source": [
    "## Read true labels + Basic EDA"
   ]
  },
  {
   "cell_type": "code",
   "execution_count": 3,
   "metadata": {
    "execution": {
     "iopub.execute_input": "2021-01-23T18:35:20.457587Z",
     "iopub.status.busy": "2021-01-23T18:35:20.456990Z",
     "iopub.status.idle": "2021-01-23T18:35:20.497451Z",
     "shell.execute_reply": "2021-01-23T18:35:20.497016Z"
    },
    "papermill": {
     "duration": 0.073353,
     "end_time": "2021-01-23T18:35:20.497554",
     "exception": false,
     "start_time": "2021-01-23T18:35:20.424201",
     "status": "completed"
    },
    "tags": []
   },
   "outputs": [
    {
     "data": {
      "text/html": [
       "<div>\n",
       "<style scoped>\n",
       "    .dataframe tbody tr th:only-of-type {\n",
       "        vertical-align: middle;\n",
       "    }\n",
       "\n",
       "    .dataframe tbody tr th {\n",
       "        vertical-align: top;\n",
       "    }\n",
       "\n",
       "    .dataframe thead th {\n",
       "        text-align: right;\n",
       "    }\n",
       "</style>\n",
       "<table border=\"1\" class=\"dataframe\">\n",
       "  <thead>\n",
       "    <tr style=\"text-align: right;\">\n",
       "      <th></th>\n",
       "      <th>Image</th>\n",
       "      <th>Class</th>\n",
       "    </tr>\n",
       "  </thead>\n",
       "  <tbody>\n",
       "    <tr>\n",
       "      <th>0</th>\n",
       "      <td>image3476.jpg</td>\n",
       "      <td>Miscellaneous</td>\n",
       "    </tr>\n",
       "    <tr>\n",
       "      <th>1</th>\n",
       "      <td>image5198.jpg</td>\n",
       "      <td>Candle</td>\n",
       "    </tr>\n",
       "    <tr>\n",
       "      <th>2</th>\n",
       "      <td>image4183.jpg</td>\n",
       "      <td>Snowman</td>\n",
       "    </tr>\n",
       "    <tr>\n",
       "      <th>3</th>\n",
       "      <td>image1806.jpg</td>\n",
       "      <td>Miscellaneous</td>\n",
       "    </tr>\n",
       "    <tr>\n",
       "      <th>4</th>\n",
       "      <td>image7831.jpg</td>\n",
       "      <td>Miscellaneous</td>\n",
       "    </tr>\n",
       "  </tbody>\n",
       "</table>\n",
       "</div>"
      ],
      "text/plain": [
       "           Image          Class\n",
       "0  image3476.jpg  Miscellaneous\n",
       "1  image5198.jpg         Candle\n",
       "2  image4183.jpg        Snowman\n",
       "3  image1806.jpg  Miscellaneous\n",
       "4  image7831.jpg  Miscellaneous"
      ]
     },
     "execution_count": 3,
     "metadata": {},
     "output_type": "execute_result"
    }
   ],
   "source": [
    "train_df = pd.read_csv(\"../input/hackereath-holiday-season-deep-learning-contest/dataset/train.csv\")\n",
    "train_df.head()"
   ]
  },
  {
   "cell_type": "code",
   "execution_count": 4,
   "metadata": {
    "execution": {
     "iopub.execute_input": "2021-01-23T18:35:20.545319Z",
     "iopub.status.busy": "2021-01-23T18:35:20.544759Z",
     "iopub.status.idle": "2021-01-23T18:35:20.548672Z",
     "shell.execute_reply": "2021-01-23T18:35:20.548259Z"
    },
    "papermill": {
     "duration": 0.029453,
     "end_time": "2021-01-23T18:35:20.548755",
     "exception": false,
     "start_time": "2021-01-23T18:35:20.519302",
     "status": "completed"
    },
    "tags": []
   },
   "outputs": [],
   "source": [
    "class_map = {\n",
    "    'Airplane': 0,\n",
    "    'Candle': 1,\n",
    "    'Christmas_Tree': 2,\n",
    "    'Jacket': 3,\n",
    "    'Miscellaneous': 4,\n",
    "    'Snowman': 5\n",
    "}"
   ]
  },
  {
   "cell_type": "code",
   "execution_count": 5,
   "metadata": {
    "execution": {
     "iopub.execute_input": "2021-01-23T18:35:20.609295Z",
     "iopub.status.busy": "2021-01-23T18:35:20.608467Z",
     "iopub.status.idle": "2021-01-23T18:35:20.621029Z",
     "shell.execute_reply": "2021-01-23T18:35:20.620601Z"
    },
    "papermill": {
     "duration": 0.050319,
     "end_time": "2021-01-23T18:35:20.621115",
     "exception": false,
     "start_time": "2021-01-23T18:35:20.570796",
     "status": "completed"
    },
    "tags": []
   },
   "outputs": [
    {
     "data": {
      "text/html": [
       "<div>\n",
       "<style scoped>\n",
       "    .dataframe tbody tr th:only-of-type {\n",
       "        vertical-align: middle;\n",
       "    }\n",
       "\n",
       "    .dataframe tbody tr th {\n",
       "        vertical-align: top;\n",
       "    }\n",
       "\n",
       "    .dataframe thead th {\n",
       "        text-align: right;\n",
       "    }\n",
       "</style>\n",
       "<table border=\"1\" class=\"dataframe\">\n",
       "  <thead>\n",
       "    <tr style=\"text-align: right;\">\n",
       "      <th></th>\n",
       "      <th>Class</th>\n",
       "      <th>Class_enc</th>\n",
       "      <th>Count</th>\n",
       "    </tr>\n",
       "  </thead>\n",
       "  <tbody>\n",
       "    <tr>\n",
       "      <th>0</th>\n",
       "      <td>Airplane</td>\n",
       "      <td>0</td>\n",
       "      <td>535</td>\n",
       "    </tr>\n",
       "    <tr>\n",
       "      <th>1</th>\n",
       "      <td>Candle</td>\n",
       "      <td>1</td>\n",
       "      <td>593</td>\n",
       "    </tr>\n",
       "    <tr>\n",
       "      <th>2</th>\n",
       "      <td>Christmas_Tree</td>\n",
       "      <td>2</td>\n",
       "      <td>1539</td>\n",
       "    </tr>\n",
       "    <tr>\n",
       "      <th>3</th>\n",
       "      <td>Jacket</td>\n",
       "      <td>3</td>\n",
       "      <td>640</td>\n",
       "    </tr>\n",
       "    <tr>\n",
       "      <th>4</th>\n",
       "      <td>Miscellaneous</td>\n",
       "      <td>4</td>\n",
       "      <td>2801</td>\n",
       "    </tr>\n",
       "    <tr>\n",
       "      <th>5</th>\n",
       "      <td>Snowman</td>\n",
       "      <td>5</td>\n",
       "      <td>361</td>\n",
       "    </tr>\n",
       "  </tbody>\n",
       "</table>\n",
       "</div>"
      ],
      "text/plain": [
       "            Class Class_enc  Count\n",
       "0        Airplane         0    535\n",
       "1          Candle         1    593\n",
       "2  Christmas_Tree         2   1539\n",
       "3          Jacket         3    640\n",
       "4   Miscellaneous         4   2801\n",
       "5         Snowman         5    361"
      ]
     },
     "execution_count": 5,
     "metadata": {},
     "output_type": "execute_result"
    }
   ],
   "source": [
    "train_df['Class_enc'] = train_df['Class'].map(class_map)\n",
    "train_df['Class_enc'] = train_df['Class_enc'].astype('str')\n",
    "train_df.groupby(['Class','Class_enc']).size().reset_index().rename(columns={0:'Count'})"
   ]
  },
  {
   "cell_type": "code",
   "execution_count": 6,
   "metadata": {
    "execution": {
     "iopub.execute_input": "2021-01-23T18:35:20.670886Z",
     "iopub.status.busy": "2021-01-23T18:35:20.670322Z",
     "iopub.status.idle": "2021-01-23T18:35:20.872361Z",
     "shell.execute_reply": "2021-01-23T18:35:20.871426Z"
    },
    "papermill": {
     "duration": 0.228797,
     "end_time": "2021-01-23T18:35:20.872452",
     "exception": false,
     "start_time": "2021-01-23T18:35:20.643655",
     "status": "completed"
    },
    "tags": []
   },
   "outputs": [
    {
     "data": {
      "image/png": "[encoded data removed]",
      "text/plain": [
       "<Figure size 864x504 with 1 Axes>"
      ]
     },
     "metadata": {
      "needs_background": "light"
     },
     "output_type": "display_data"
    }
   ],
   "source": [
    "plt.figure(figsize=(12,7))\n",
    "sns.set(style=\"darkgrid\")\n",
    "ax = sns.countplot(x=\"Class\", data=train_df)"
   ]
  },
  {
   "cell_type": "code",
   "execution_count": 7,
   "metadata": {
    "execution": {
     "iopub.execute_input": "2021-01-23T18:35:20.924600Z",
     "iopub.status.busy": "2021-01-23T18:35:20.924085Z",
     "iopub.status.idle": "2021-01-23T18:35:21.391182Z",
     "shell.execute_reply": "2021-01-23T18:35:21.391679Z"
    },
    "papermill": {
     "duration": 0.495124,
     "end_time": "2021-01-23T18:35:21.391788",
     "exception": false,
     "start_time": "2021-01-23T18:35:20.896664",
     "status": "completed"
    },
    "tags": []
   },
   "outputs": [
    {
     "name": "stderr",
     "output_type": "stream",
     "text": [
      "100%|██████████| 3489/3489 [00:00<00:00, 1079357.33it/s]\n"
     ]
    },
    {
     "data": {
      "text/html": [
       "<div>\n",
       "<style scoped>\n",
       "    .dataframe tbody tr th:only-of-type {\n",
       "        vertical-align: middle;\n",
       "    }\n",
       "\n",
       "    .dataframe tbody tr th {\n",
       "        vertical-align: top;\n",
       "    }\n",
       "\n",
       "    .dataframe thead th {\n",
       "        text-align: right;\n",
       "    }\n",
       "</style>\n",
       "<table border=\"1\" class=\"dataframe\">\n",
       "  <thead>\n",
       "    <tr style=\"text-align: right;\">\n",
       "      <th></th>\n",
       "      <th>Image</th>\n",
       "      <th>Class</th>\n",
       "    </tr>\n",
       "  </thead>\n",
       "  <tbody>\n",
       "    <tr>\n",
       "      <th>0</th>\n",
       "      <td>image7761.jpg</td>\n",
       "      <td>0</td>\n",
       "    </tr>\n",
       "    <tr>\n",
       "      <th>1</th>\n",
       "      <td>image3202.jpg</td>\n",
       "      <td>0</td>\n",
       "    </tr>\n",
       "    <tr>\n",
       "      <th>2</th>\n",
       "      <td>image688.jpg</td>\n",
       "      <td>0</td>\n",
       "    </tr>\n",
       "    <tr>\n",
       "      <th>3</th>\n",
       "      <td>image233.jpg</td>\n",
       "      <td>0</td>\n",
       "    </tr>\n",
       "    <tr>\n",
       "      <th>4</th>\n",
       "      <td>image4332.jpg</td>\n",
       "      <td>0</td>\n",
       "    </tr>\n",
       "  </tbody>\n",
       "</table>\n",
       "</div>"
      ],
      "text/plain": [
       "           Image Class\n",
       "0  image7761.jpg     0\n",
       "1  image3202.jpg     0\n",
       "2   image688.jpg     0\n",
       "3   image233.jpg     0\n",
       "4  image4332.jpg     0"
      ]
     },
     "execution_count": 7,
     "metadata": {},
     "output_type": "execute_result"
    }
   ],
   "source": [
    "test_dir = \"../input/hackereath-holiday-season-deep-learning-contest/dataset/test\"\n",
    "test_files = []\n",
    "\n",
    "for file in tqdm(os.listdir(test_dir)):\n",
    "    test_files.append(file)\n",
    "\n",
    "test_df = pd.DataFrame(test_files, columns=['Image'])\n",
    "test_df['Class'] = '0'\n",
    "test_df.head()"
   ]
  },
  {
   "cell_type": "markdown",
   "metadata": {
    "papermill": {
     "duration": 0.023153,
     "end_time": "2021-01-23T18:35:21.438735",
     "exception": false,
     "start_time": "2021-01-23T18:35:21.415582",
     "status": "completed"
    },
    "tags": []
   },
   "source": [
    "## Calculate class-weights"
   ]
  },
  {
   "cell_type": "code",
   "execution_count": 8,
   "metadata": {
    "execution": {
     "iopub.execute_input": "2021-01-23T18:35:21.494401Z",
     "iopub.status.busy": "2021-01-23T18:35:21.491743Z",
     "iopub.status.idle": "2021-01-23T18:35:21.517716Z",
     "shell.execute_reply": "2021-01-23T18:35:21.518140Z"
    },
    "papermill": {
     "duration": 0.056291,
     "end_time": "2021-01-23T18:35:21.518248",
     "exception": false,
     "start_time": "2021-01-23T18:35:21.461957",
     "status": "completed"
    },
    "tags": []
   },
   "outputs": [
    {
     "data": {
      "text/plain": [
       "{0: 0.6747663551401869,\n",
       " 1: 0.6087689713322091,\n",
       " 2: 0.23456790123456786,\n",
       " 3: 0.5640625,\n",
       " 4: 0.12888254194930382,\n",
       " 5: 1.0}"
      ]
     },
     "execution_count": 8,
     "metadata": {},
     "output_type": "execute_result"
    }
   ],
   "source": [
    "temp_df = train_df.groupby(['Class_enc']).size().reset_index().rename(columns={0:'count'})\n",
    "total_count = np.sum(temp_df['count'].values)\n",
    "temp_df['class%'] = (temp_df['count'] / total_count) * 100\n",
    "lowest_pct = min(temp_df['class%'])\n",
    "temp_df['class_weight'] = lowest_pct / temp_df['class%']\n",
    "class_weight = temp_df[['Class_enc', 'class_weight']].to_dict()['class_weight']\n",
    "class_weight"
   ]
  },
  {
   "cell_type": "markdown",
   "metadata": {
    "papermill": {
     "duration": 0.023447,
     "end_time": "2021-01-23T18:35:21.565759",
     "exception": false,
     "start_time": "2021-01-23T18:35:21.542312",
     "status": "completed"
    },
    "tags": []
   },
   "source": [
    "## Split training data into train/validation datasets"
   ]
  },
  {
   "cell_type": "code",
   "execution_count": 9,
   "metadata": {
    "execution": {
     "iopub.execute_input": "2021-01-23T18:35:21.625713Z",
     "iopub.status.busy": "2021-01-23T18:35:21.625193Z",
     "iopub.status.idle": "2021-01-23T18:35:21.638354Z",
     "shell.execute_reply": "2021-01-23T18:35:21.639240Z"
    },
    "papermill": {
     "duration": 0.049733,
     "end_time": "2021-01-23T18:35:21.639377",
     "exception": false,
     "start_time": "2021-01-23T18:35:21.589644",
     "status": "completed"
    },
    "tags": []
   },
   "outputs": [
    {
     "name": "stdout",
     "output_type": "stream",
     "text": [
      "train_df shape: (5498, 3)\n",
      "validation_df shape: (971, 3)\n"
     ]
    }
   ],
   "source": [
    "sss = StratifiedShuffleSplit(n_splits=1, test_size=0.15, random_state=1)\n",
    "for train_index, validation_index in sss.split(train_df['Image'], train_df['Class_enc']):\n",
    "    train_df, validation_df = train_df.iloc[train_index], train_df.iloc[validation_index]\n",
    "\n",
    "print(\"train_df shape: {}\".format(train_df.shape))\n",
    "print(\"validation_df shape: {}\".format(validation_df.shape))"
   ]
  },
  {
   "cell_type": "code",
   "execution_count": 10,
   "metadata": {
    "execution": {
     "iopub.execute_input": "2021-01-23T18:35:21.724515Z",
     "iopub.status.busy": "2021-01-23T18:35:21.723740Z",
     "iopub.status.idle": "2021-01-23T18:35:21.735554Z",
     "shell.execute_reply": "2021-01-23T18:35:21.735984Z"
    },
    "papermill": {
     "duration": 0.041013,
     "end_time": "2021-01-23T18:35:21.736083",
     "exception": false,
     "start_time": "2021-01-23T18:35:21.695070",
     "status": "completed"
    },
    "tags": []
   },
   "outputs": [
    {
     "data": {
      "text/html": [
       "<div>\n",
       "<style scoped>\n",
       "    .dataframe tbody tr th:only-of-type {\n",
       "        vertical-align: middle;\n",
       "    }\n",
       "\n",
       "    .dataframe tbody tr th {\n",
       "        vertical-align: top;\n",
       "    }\n",
       "\n",
       "    .dataframe thead th {\n",
       "        text-align: right;\n",
       "    }\n",
       "</style>\n",
       "<table border=\"1\" class=\"dataframe\">\n",
       "  <thead>\n",
       "    <tr style=\"text-align: right;\">\n",
       "      <th></th>\n",
       "      <th>Class</th>\n",
       "      <th>Class_enc</th>\n",
       "      <th>Count</th>\n",
       "    </tr>\n",
       "  </thead>\n",
       "  <tbody>\n",
       "    <tr>\n",
       "      <th>0</th>\n",
       "      <td>Airplane</td>\n",
       "      <td>0</td>\n",
       "      <td>455</td>\n",
       "    </tr>\n",
       "    <tr>\n",
       "      <th>1</th>\n",
       "      <td>Candle</td>\n",
       "      <td>1</td>\n",
       "      <td>504</td>\n",
       "    </tr>\n",
       "    <tr>\n",
       "      <th>2</th>\n",
       "      <td>Christmas_Tree</td>\n",
       "      <td>2</td>\n",
       "      <td>1308</td>\n",
       "    </tr>\n",
       "    <tr>\n",
       "      <th>3</th>\n",
       "      <td>Jacket</td>\n",
       "      <td>3</td>\n",
       "      <td>544</td>\n",
       "    </tr>\n",
       "    <tr>\n",
       "      <th>4</th>\n",
       "      <td>Miscellaneous</td>\n",
       "      <td>4</td>\n",
       "      <td>2380</td>\n",
       "    </tr>\n",
       "    <tr>\n",
       "      <th>5</th>\n",
       "      <td>Snowman</td>\n",
       "      <td>5</td>\n",
       "      <td>307</td>\n",
       "    </tr>\n",
       "  </tbody>\n",
       "</table>\n",
       "</div>"
      ],
      "text/plain": [
       "            Class Class_enc  Count\n",
       "0        Airplane         0    455\n",
       "1          Candle         1    504\n",
       "2  Christmas_Tree         2   1308\n",
       "3          Jacket         3    544\n",
       "4   Miscellaneous         4   2380\n",
       "5         Snowman         5    307"
      ]
     },
     "execution_count": 10,
     "metadata": {},
     "output_type": "execute_result"
    }
   ],
   "source": [
    "train_df.groupby(['Class','Class_enc']).size().reset_index().rename(columns={0:'Count'})"
   ]
  },
  {
   "cell_type": "code",
   "execution_count": 11,
   "metadata": {
    "execution": {
     "iopub.execute_input": "2021-01-23T18:35:21.790742Z",
     "iopub.status.busy": "2021-01-23T18:35:21.789935Z",
     "iopub.status.idle": "2021-01-23T18:35:21.800898Z",
     "shell.execute_reply": "2021-01-23T18:35:21.800499Z"
    },
    "papermill": {
     "duration": 0.040602,
     "end_time": "2021-01-23T18:35:21.801009",
     "exception": false,
     "start_time": "2021-01-23T18:35:21.760407",
     "status": "completed"
    },
    "tags": []
   },
   "outputs": [
    {
     "data": {
      "text/html": [
       "<div>\n",
       "<style scoped>\n",
       "    .dataframe tbody tr th:only-of-type {\n",
       "        vertical-align: middle;\n",
       "    }\n",
       "\n",
       "    .dataframe tbody tr th {\n",
       "        vertical-align: top;\n",
       "    }\n",
       "\n",
       "    .dataframe thead th {\n",
       "        text-align: right;\n",
       "    }\n",
       "</style>\n",
       "<table border=\"1\" class=\"dataframe\">\n",
       "  <thead>\n",
       "    <tr style=\"text-align: right;\">\n",
       "      <th></th>\n",
       "      <th>Class</th>\n",
       "      <th>Class_enc</th>\n",
       "      <th>Count</th>\n",
       "    </tr>\n",
       "  </thead>\n",
       "  <tbody>\n",
       "    <tr>\n",
       "      <th>0</th>\n",
       "      <td>Airplane</td>\n",
       "      <td>0</td>\n",
       "      <td>80</td>\n",
       "    </tr>\n",
       "    <tr>\n",
       "      <th>1</th>\n",
       "      <td>Candle</td>\n",
       "      <td>1</td>\n",
       "      <td>89</td>\n",
       "    </tr>\n",
       "    <tr>\n",
       "      <th>2</th>\n",
       "      <td>Christmas_Tree</td>\n",
       "      <td>2</td>\n",
       "      <td>231</td>\n",
       "    </tr>\n",
       "    <tr>\n",
       "      <th>3</th>\n",
       "      <td>Jacket</td>\n",
       "      <td>3</td>\n",
       "      <td>96</td>\n",
       "    </tr>\n",
       "    <tr>\n",
       "      <th>4</th>\n",
       "      <td>Miscellaneous</td>\n",
       "      <td>4</td>\n",
       "      <td>421</td>\n",
       "    </tr>\n",
       "    <tr>\n",
       "      <th>5</th>\n",
       "      <td>Snowman</td>\n",
       "      <td>5</td>\n",
       "      <td>54</td>\n",
       "    </tr>\n",
       "  </tbody>\n",
       "</table>\n",
       "</div>"
      ],
      "text/plain": [
       "            Class Class_enc  Count\n",
       "0        Airplane         0     80\n",
       "1          Candle         1     89\n",
       "2  Christmas_Tree         2    231\n",
       "3          Jacket         3     96\n",
       "4   Miscellaneous         4    421\n",
       "5         Snowman         5     54"
      ]
     },
     "execution_count": 11,
     "metadata": {},
     "output_type": "execute_result"
    }
   ],
   "source": [
    "validation_df.groupby(['Class','Class_enc']).size().reset_index().rename(columns={0:'Count'})"
   ]
  },
  {
   "cell_type": "markdown",
   "metadata": {
    "papermill": {
     "duration": 0.033393,
     "end_time": "2021-01-23T18:35:21.859402",
     "exception": false,
     "start_time": "2021-01-23T18:35:21.826009",
     "status": "completed"
    },
    "tags": []
   },
   "source": [
    "## Model Hyperparameters"
   ]
  },
  {
   "cell_type": "code",
   "execution_count": 12,
   "metadata": {
    "execution": {
     "iopub.execute_input": "2021-01-23T18:35:21.959730Z",
     "iopub.status.busy": "2021-01-23T18:35:21.958857Z",
     "iopub.status.idle": "2021-01-23T18:35:21.961352Z",
     "shell.execute_reply": "2021-01-23T18:35:21.963355Z"
    },
    "papermill": {
     "duration": 0.06019,
     "end_time": "2021-01-23T18:35:21.963517",
     "exception": false,
     "start_time": "2021-01-23T18:35:21.903327",
     "status": "completed"
    },
    "tags": []
   },
   "outputs": [],
   "source": [
    "dataset_dir = \"../input/hackereath-holiday-season-deep-learning-contest/dataset/\"\n",
    "mini_batch_size = 128\n",
    "steps_per_epoch = int(np.ceil(train_df.shape[0] / float(mini_batch_size)))\n",
    "validation_steps = int(np.ceil(validation_df.shape[0] / float(mini_batch_size)))\n",
    "test_steps = int(np.ceil(test_df.shape[0] / float(mini_batch_size)))\n",
    "image_dim = (320, 320, 3)"
   ]
  },
  {
   "cell_type": "markdown",
   "metadata": {
    "papermill": {
     "duration": 0.041309,
     "end_time": "2021-01-23T18:35:22.056863",
     "exception": false,
     "start_time": "2021-01-23T18:35:22.015554",
     "status": "completed"
    },
    "tags": []
   },
   "source": [
    "## Configure image generators"
   ]
  },
  {
   "cell_type": "code",
   "execution_count": 13,
   "metadata": {
    "execution": {
     "iopub.execute_input": "2021-01-23T18:35:22.158547Z",
     "iopub.status.busy": "2021-01-23T18:35:22.155795Z",
     "iopub.status.idle": "2021-01-23T18:35:45.171469Z",
     "shell.execute_reply": "2021-01-23T18:35:45.170892Z"
    },
    "papermill": {
     "duration": 23.071237,
     "end_time": "2021-01-23T18:35:45.171591",
     "exception": false,
     "start_time": "2021-01-23T18:35:22.100354",
     "status": "completed"
    },
    "tags": []
   },
   "outputs": [
    {
     "name": "stdout",
     "output_type": "stream",
     "text": [
      "Found 5498 validated image filenames belonging to 6 classes.\n",
      "Found 971 validated image filenames belonging to 6 classes.\n",
      "Found 3489 validated image filenames belonging to 1 classes.\n"
     ]
    }
   ],
   "source": [
    "train_datagen = ImageDataGenerator(rotation_range = 30,\n",
    "                                   zoom_range = 0.2,\n",
    "                                   horizontal_flip = True,\n",
    "                                   fill_mode = 'nearest',\n",
    "                                   height_shift_range = 0.1,\n",
    "                                   width_shift_range = 0.1)\n",
    "\n",
    "train_generator = train_datagen.flow_from_dataframe(train_df,\n",
    "                                                    directory = os.path.join(dataset_dir,\"train\"),\n",
    "                                                    x_col = \"Image\", \n",
    "                                                    y_col = \"Class_enc\",\n",
    "                                                    target_size = (image_dim[0], image_dim[1]),\n",
    "                                                    batch_size = mini_batch_size,\n",
    "                                                    class_mode = \"categorical\",\n",
    "                                                    interpolation=\"bicubic\")\n",
    "\n",
    "validation_datagen = ImageDataGenerator()\n",
    "\n",
    "validation_generator = validation_datagen.flow_from_dataframe(validation_df,\n",
    "                                                              directory = os.path.join(dataset_dir,\"train\"),\n",
    "                                                              x_col = \"Image\",\n",
    "                                                              y_col = \"Class_enc\",\n",
    "                                                              shuffle=False,\n",
    "                                                              target_size = (image_dim[0], image_dim[1]),\n",
    "                                                              batch_size = mini_batch_size,\n",
    "                                                              class_mode = \"categorical\",\n",
    "                                                              interpolation=\"bicubic\")\n",
    "\n",
    "test_datagen = ImageDataGenerator()\n",
    "\n",
    "test_generator = test_datagen.flow_from_dataframe(test_df,\n",
    "                                                  directory = os.path.join(dataset_dir,\"test\"),\n",
    "                                                  x_col = \"Image\",\n",
    "                                                  y_col = \"Class\",\n",
    "                                                  shuffle=False,\n",
    "                                                  target_size = (image_dim[0], image_dim[1]),\n",
    "                                                  batch_size = mini_batch_size,\n",
    "                                                  class_mode = \"categorical\",\n",
    "                                                  interpolation=\"bicubic\")"
   ]
  },
  {
   "cell_type": "markdown",
   "metadata": {
    "papermill": {
     "duration": 0.02568,
     "end_time": "2021-01-23T18:35:45.223724",
     "exception": false,
     "start_time": "2021-01-23T18:35:45.198044",
     "status": "completed"
    },
    "tags": []
   },
   "source": [
    "## Build and validate the model"
   ]
  },
  {
   "cell_type": "code",
   "execution_count": 14,
   "metadata": {
    "execution": {
     "iopub.execute_input": "2021-01-23T18:35:45.289173Z",
     "iopub.status.busy": "2021-01-23T18:35:45.283899Z",
     "iopub.status.idle": "2021-01-23T18:35:45.308543Z",
     "shell.execute_reply": "2021-01-23T18:35:45.308012Z"
    },
    "papermill": {
     "duration": 0.05893,
     "end_time": "2021-01-23T18:35:45.308628",
     "exception": false,
     "start_time": "2021-01-23T18:35:45.249698",
     "status": "completed"
    },
    "tags": []
   },
   "outputs": [],
   "source": [
    "def head(x_input, input_shape=2304, ratio=8):\n",
    "    \n",
    "    #=======================================================\n",
    "    #                    Channel Attention\n",
    "    #=======================================================\n",
    "    gapavg = GlobalAveragePooling2D()(x_input)\n",
    "    gapavg = Reshape((1, 1, gapavg.shape[1]))(gapavg)\n",
    "    gapavg = Conv2D(input_shape//ratio, \n",
    "                    kernel_size=1, strides=1, use_bias=True, \n",
    "                    padding='same', kernel_regularizer=l2(0.001), \n",
    "                    kernel_initializer='he_normal')(gapavg)\n",
    "    gapavg = BatchNormalization()(gapavg)\n",
    "    gapavg = Activation('relu')(gapavg)\n",
    "    gapavg_out = Conv2D(input_shape, kernel_size=1, \n",
    "                        strides=1, padding='same', use_bias=True, \n",
    "                        kernel_regularizer=l2(0.001), \n",
    "                        kernel_initializer='he_normal')(gapavg)\n",
    "    gapavg_out = BatchNormalization()(gapavg_out)\n",
    "    gapavg_out = Activation('relu')(gapavg_out)\n",
    "\n",
    "\n",
    "    gmpmax = GlobalMaxPooling2D()(x_input)\n",
    "    gmpmax = Reshape((1, 1, gmpmax.shape[1]))(gmpmax)\n",
    "    gmpmax = Conv2D(input_shape//ratio, \n",
    "                    kernel_size=1, strides=1, use_bias=True, \n",
    "                    padding='same', kernel_regularizer=l2(0.001), \n",
    "                    kernel_initializer='he_normal')(gmpmax)\n",
    "    gmpmax = BatchNormalization()(gmpmax)\n",
    "    gmpmax = Activation('relu')(gmpmax)\n",
    "    gmpmax_out = Conv2D(input_shape, kernel_size=1, \n",
    "                        strides=1, padding='same', use_bias=True, \n",
    "                        kernel_regularizer=l2(0.001), \n",
    "                        kernel_initializer='he_normal')(gmpmax)\n",
    "    gmpmax_out = BatchNormalization()(gmpmax_out)\n",
    "    gmpmax_out = Activation('relu')(gmpmax_out)\n",
    "    canx = x_input * tf.math.sigmoid(gapavg_out + gmpmax_out)\n",
    "\n",
    "\n",
    "    #=======================================================\n",
    "    #                    Spatial Attention\n",
    "    #=======================================================\n",
    "    avg_out = tf.reduce_mean(canx, axis=3)\n",
    "    max_out = tf.reduce_max(canx,  axis=3)\n",
    "    x = tf.stack([avg_out, max_out], axis=3)\n",
    "    \n",
    "    x = Conv2D(filters=64, kernel_size=3, strides=1, \n",
    "               padding='same', use_bias=False, \n",
    "               kernel_regularizer=l2(0.001), \n",
    "               kernel_initializer='he_normal')(x)\n",
    "    x = BatchNormalization()(x)\n",
    "    x = Activation('relu')(x)\n",
    "\n",
    "    x = Conv2D(filters=32, kernel_size=3, strides=1, \n",
    "               padding='same', use_bias=False, \n",
    "               kernel_regularizer=l2(0.001), \n",
    "               kernel_initializer='he_normal')(x)\n",
    "    x = BatchNormalization()(x)\n",
    "    x = Activation('relu')(x)\n",
    "\n",
    "    x = Conv2D(filters=16, kernel_size=3, strides=1, \n",
    "               padding='same', use_bias=False, \n",
    "               kernel_regularizer=l2(0.001), \n",
    "               kernel_initializer='he_normal')(x)\n",
    "    x = BatchNormalization()(x)\n",
    "    x = Activation('relu')(x)\n",
    "\n",
    "    x = Conv2D(filters=1, kernel_size=3, strides=1, \n",
    "               padding='same', use_bias=False, \n",
    "               kernel_regularizer=l2(0.001), \n",
    "               kernel_initializer='he_normal')(x)\n",
    "    x = BatchNormalization()(x)\n",
    "    x = Activation('sigmoid')(x)\n",
    "    spnx1 = canx * x\n",
    "    spnx2 = x\n",
    "    \n",
    "    gapx   = GlobalAveragePooling2D()(spnx1)\n",
    "    wvgx   = GlobalAveragePooling2D()(spnx2)\n",
    "    gapavg = Average()([gapx, wvgx])\n",
    "    x = BatchNormalization()(gapavg)\n",
    "\n",
    "\n",
    "    #=======================================================\n",
    "    #                    Tail of the model\n",
    "    #=======================================================\n",
    "\n",
    "    x = Dense(units=2048, kernel_regularizer=l2(0.0001), \n",
    "              kernel_initializer='he_uniform')(x)\n",
    "    x = BatchNormalization()(x)\n",
    "    x = Activation('relu')(x)\n",
    "    x = Dropout(rate=0.5)(x)\n",
    "    \n",
    "    x = Dense(units=1024, kernel_regularizer=l2(0.0001), \n",
    "              kernel_initializer='he_uniform')(x)\n",
    "    x = BatchNormalization()(x)\n",
    "    x = Activation('relu')(x)\n",
    "    x = Dropout(rate=0.5)(x)\n",
    "    \n",
    "    x = Dense(units=1024, kernel_regularizer=l2(0.0001), \n",
    "              kernel_initializer='he_uniform')(x)\n",
    "    x = BatchNormalization()(x)\n",
    "    x = Activation('relu')(x)\n",
    "    x = Dropout(rate=0.5)(x)\n",
    "    \n",
    "    x = Dense(units=512, kernel_regularizer=l2(0.0001), \n",
    "              kernel_initializer='he_uniform')(x)\n",
    "    x = BatchNormalization()(x)\n",
    "    x = Activation('relu')(x)\n",
    "    x = Dropout(rate=0.5)(x)\n",
    "    \n",
    "    x = Dense(units=6, activation='softmax', \n",
    "              kernel_initializer='he_uniform')(x)\n",
    "\n",
    "    return x"
   ]
  },
  {
   "cell_type": "code",
   "execution_count": 15,
   "metadata": {
    "execution": {
     "iopub.execute_input": "2021-01-23T18:35:45.370211Z",
     "iopub.status.busy": "2021-01-23T18:35:45.369671Z",
     "iopub.status.idle": "2021-01-23T18:36:13.293847Z",
     "shell.execute_reply": "2021-01-23T18:36:13.293376Z"
    },
    "papermill": {
     "duration": 27.95959,
     "end_time": "2021-01-23T18:36:13.293967",
     "exception": false,
     "start_time": "2021-01-23T18:35:45.334377",
     "status": "completed"
    },
    "tags": []
   },
   "outputs": [
    {
     "name": "stdout",
     "output_type": "stream",
     "text": [
      "Downloading data from https://storage.googleapis.com/keras-applications/efficientnetb6_notop.h5\n",
      "165240832/165234480 [==============================] - 4s 0us/step\n"
     ]
    }
   ],
   "source": [
    "# Build the model\n",
    "base_model = EfficientNetB6(weights='imagenet', \n",
    "                            input_tensor=Input(shape=image_dim), \n",
    "                            include_top=False)\n",
    "\n",
    "model = Model(base_model.input, head(base_model.output),\n",
    "              name='HackerEarth_Holiday_Season_Model')\n",
    "\n",
    "# Load the pre-trained model\n",
    "pretrain_model = load_model('../input/holiday-season-enetb6-mav3/hackerearth_holiday_season_model.h5')\n",
    "\n",
    "# Transfer weights from pre-trained model\n",
    "model.set_weights(pretrain_model.get_weights())\n",
    "\n",
    "# Freeze weights for base model\n",
    "base_model.trainable = False\n",
    "for layer in base_model.layers[-33:]:\n",
    "    if not isinstance(layer, BatchNormalization):\n",
    "        layer.trainable = True\n",
    "\n",
    "# Compile the final model\n",
    "model.compile(loss='categorical_crossentropy', \n",
    "              metrics=[F1Score(num_classes=6, average='weighted'), \n",
    "                       'categorical_accuracy'],\n",
    "              optimizer=Lookahead(AdamW(lr=1e-4, \n",
    "                                        weight_decay=1e-5, \n",
    "                                        clipvalue=700), \n",
    "                                  sync_period=10))\n",
    "\n",
    "early = EarlyStopping(monitor=\"val_loss\", mode=\"min\", patience=7, \n",
    "                      restore_best_weights=True, verbose=1)\n",
    "\n",
    "reduce_lr = ReduceLROnPlateau(monitor=\"val_loss\", factor=0.1, \n",
    "                              min_lr=1e-6, patience=5, \n",
    "                              verbose=1, mode='min')\n",
    "\n",
    "chk_point = ModelCheckpoint('hackerearth_holiday_season_model.h5', \n",
    "                            monitor='val_loss', verbose=1, \n",
    "                            save_best_only=True, mode='min')"
   ]
  },
  {
   "cell_type": "code",
   "execution_count": 16,
   "metadata": {
    "execution": {
     "iopub.execute_input": "2021-01-23T18:36:13.369326Z",
     "iopub.status.busy": "2021-01-23T18:36:13.368589Z",
     "iopub.status.idle": "2021-01-23T19:24:49.116732Z",
     "shell.execute_reply": "2021-01-23T19:24:49.117503Z"
    },
    "papermill": {
     "duration": 2915.790508,
     "end_time": "2021-01-23T19:24:49.117678",
     "exception": false,
     "start_time": "2021-01-23T18:36:13.327170",
     "status": "completed"
    },
    "tags": []
   },
   "outputs": [
    {
     "name": "stdout",
     "output_type": "stream",
     "text": [
      "Epoch 1/50\n",
      "43/43 [==============================] - ETA: 0s - loss: 0.0920 - f1_score: 0.9315 - categorical_accuracy: 0.9312\n",
      "Epoch 00001: val_loss improved from inf to 0.28980, saving model to hackerearth_holiday_season_model.h5\n",
      "43/43 [==============================] - 159s 4s/step - loss: 0.0920 - f1_score: 0.9315 - categorical_accuracy: 0.9312 - val_loss: 0.2898 - val_f1_score: 0.9322 - val_categorical_accuracy: 0.9320\n",
      "Epoch 2/50\n",
      "43/43 [==============================] - ETA: 0s - loss: 0.0877 - f1_score: 0.9376 - categorical_accuracy: 0.9372\n",
      "Epoch 00002: val_loss did not improve from 0.28980\n",
      "43/43 [==============================] - 136s 3s/step - loss: 0.0877 - f1_score: 0.9376 - categorical_accuracy: 0.9372 - val_loss: 0.2919 - val_f1_score: 0.9263 - val_categorical_accuracy: 0.9258\n",
      "Epoch 3/50\n",
      "43/43 [==============================] - ETA: 0s - loss: 0.0892 - f1_score: 0.9333 - categorical_accuracy: 0.9329\n",
      "Epoch 00003: val_loss improved from 0.28980 to 0.28774, saving model to hackerearth_holiday_season_model.h5\n",
      "43/43 [==============================] - 147s 3s/step - loss: 0.0892 - f1_score: 0.9333 - categorical_accuracy: 0.9329 - val_loss: 0.2877 - val_f1_score: 0.9219 - val_categorical_accuracy: 0.9217\n",
      "Epoch 4/50\n",
      "43/43 [==============================] - ETA: 0s - loss: 0.0853 - f1_score: 0.9389 - categorical_accuracy: 0.9385\n",
      "Epoch 00004: val_loss improved from 0.28774 to 0.28272, saving model to hackerearth_holiday_season_model.h5\n",
      "43/43 [==============================] - 147s 3s/step - loss: 0.0853 - f1_score: 0.9389 - categorical_accuracy: 0.9385 - val_loss: 0.2827 - val_f1_score: 0.9313 - val_categorical_accuracy: 0.9310\n",
      "Epoch 5/50\n",
      "43/43 [==============================] - ETA: 0s - loss: 0.0825 - f1_score: 0.9383 - categorical_accuracy: 0.9380\n",
      "Epoch 00005: val_loss did not improve from 0.28272\n",
      "43/43 [==============================] - 138s 3s/step - loss: 0.0825 - f1_score: 0.9383 - categorical_accuracy: 0.9380 - val_loss: 0.2849 - val_f1_score: 0.9293 - val_categorical_accuracy: 0.9289\n",
      "Epoch 6/50\n",
      "43/43 [==============================] - ETA: 0s - loss: 0.0783 - f1_score: 0.9394 - categorical_accuracy: 0.9391\n",
      "Epoch 00006: val_loss improved from 0.28272 to 0.28255, saving model to hackerearth_holiday_season_model.h5\n",
      "43/43 [==============================] - 146s 3s/step - loss: 0.0783 - f1_score: 0.9394 - categorical_accuracy: 0.9391 - val_loss: 0.2826 - val_f1_score: 0.9314 - val_categorical_accuracy: 0.9310\n",
      "Epoch 7/50\n",
      "43/43 [==============================] - ETA: 0s - loss: 0.0792 - f1_score: 0.9367 - categorical_accuracy: 0.9365\n",
      "Epoch 00007: val_loss did not improve from 0.28255\n",
      "43/43 [==============================] - 136s 3s/step - loss: 0.0792 - f1_score: 0.9367 - categorical_accuracy: 0.9365 - val_loss: 0.2839 - val_f1_score: 0.9314 - val_categorical_accuracy: 0.9310\n",
      "Epoch 8/50\n",
      "43/43 [==============================] - ETA: 0s - loss: 0.0785 - f1_score: 0.9396 - categorical_accuracy: 0.9393\n",
      "Epoch 00008: val_loss improved from 0.28255 to 0.27622, saving model to hackerearth_holiday_season_model.h5\n",
      "43/43 [==============================] - 147s 3s/step - loss: 0.0785 - f1_score: 0.9396 - categorical_accuracy: 0.9393 - val_loss: 0.2762 - val_f1_score: 0.9314 - val_categorical_accuracy: 0.9310\n",
      "Epoch 9/50\n",
      "43/43 [==============================] - ETA: 0s - loss: 0.0768 - f1_score: 0.9400 - categorical_accuracy: 0.9398\n",
      "Epoch 00009: val_loss did not improve from 0.27622\n",
      "43/43 [==============================] - 136s 3s/step - loss: 0.0768 - f1_score: 0.9400 - categorical_accuracy: 0.9398 - val_loss: 0.2863 - val_f1_score: 0.9283 - val_categorical_accuracy: 0.9279\n",
      "Epoch 10/50\n",
      "43/43 [==============================] - ETA: 0s - loss: 0.0763 - f1_score: 0.9399 - categorical_accuracy: 0.9396\n",
      "Epoch 00010: val_loss did not improve from 0.27622\n",
      "43/43 [==============================] - 137s 3s/step - loss: 0.0763 - f1_score: 0.9399 - categorical_accuracy: 0.9396 - val_loss: 0.2802 - val_f1_score: 0.9263 - val_categorical_accuracy: 0.9258\n",
      "Epoch 11/50\n",
      "43/43 [==============================] - ETA: 0s - loss: 0.0729 - f1_score: 0.9443 - categorical_accuracy: 0.9442\n",
      "Epoch 00011: val_loss improved from 0.27622 to 0.27351, saving model to hackerearth_holiday_season_model.h5\n",
      "43/43 [==============================] - 146s 3s/step - loss: 0.0729 - f1_score: 0.9443 - categorical_accuracy: 0.9442 - val_loss: 0.2735 - val_f1_score: 0.9323 - val_categorical_accuracy: 0.9320\n",
      "Epoch 12/50\n",
      "43/43 [==============================] - ETA: 0s - loss: 0.0729 - f1_score: 0.9459 - categorical_accuracy: 0.9458\n",
      "Epoch 00012: val_loss did not improve from 0.27351\n",
      "43/43 [==============================] - 137s 3s/step - loss: 0.0729 - f1_score: 0.9459 - categorical_accuracy: 0.9458 - val_loss: 0.2775 - val_f1_score: 0.9293 - val_categorical_accuracy: 0.9289\n",
      "Epoch 13/50\n",
      "43/43 [==============================] - ETA: 0s - loss: 0.0699 - f1_score: 0.9451 - categorical_accuracy: 0.9447\n",
      "Epoch 00013: val_loss did not improve from 0.27351\n",
      "43/43 [==============================] - 137s 3s/step - loss: 0.0699 - f1_score: 0.9451 - categorical_accuracy: 0.9447 - val_loss: 0.2831 - val_f1_score: 0.9323 - val_categorical_accuracy: 0.9320\n",
      "Epoch 14/50\n",
      "43/43 [==============================] - ETA: 0s - loss: 0.0681 - f1_score: 0.9476 - categorical_accuracy: 0.9474\n",
      "Epoch 00014: val_loss did not improve from 0.27351\n",
      "43/43 [==============================] - 138s 3s/step - loss: 0.0681 - f1_score: 0.9476 - categorical_accuracy: 0.9474 - val_loss: 0.2821 - val_f1_score: 0.9264 - val_categorical_accuracy: 0.9258\n",
      "Epoch 15/50\n",
      "43/43 [==============================] - ETA: 0s - loss: 0.0692 - f1_score: 0.9527 - categorical_accuracy: 0.9525\n",
      "Epoch 00015: val_loss did not improve from 0.27351\n",
      "43/43 [==============================] - 137s 3s/step - loss: 0.0692 - f1_score: 0.9527 - categorical_accuracy: 0.9525 - val_loss: 0.2793 - val_f1_score: 0.9303 - val_categorical_accuracy: 0.9300\n",
      "Epoch 16/50\n",
      "43/43 [==============================] - ETA: 0s - loss: 0.0654 - f1_score: 0.9516 - categorical_accuracy: 0.9514\n",
      "Epoch 00016: ReduceLROnPlateau reducing learning rate to 9.999999747378752e-06.\n",
      "\n",
      "Epoch 00016: val_loss did not improve from 0.27351\n",
      "43/43 [==============================] - 138s 3s/step - loss: 0.0654 - f1_score: 0.9516 - categorical_accuracy: 0.9514 - val_loss: 0.2766 - val_f1_score: 0.9362 - val_categorical_accuracy: 0.9361\n",
      "Epoch 17/50\n",
      "43/43 [==============================] - ETA: 0s - loss: 0.0688 - f1_score: 0.9463 - categorical_accuracy: 0.9460\n",
      "Epoch 00017: val_loss did not improve from 0.27351\n",
      "43/43 [==============================] - 136s 3s/step - loss: 0.0688 - f1_score: 0.9463 - categorical_accuracy: 0.9460 - val_loss: 0.2777 - val_f1_score: 0.9352 - val_categorical_accuracy: 0.9351\n",
      "Epoch 18/50\n",
      "43/43 [==============================] - ETA: 0s - loss: 0.0652 - f1_score: 0.9469 - categorical_accuracy: 0.9467Restoring model weights from the end of the best epoch.\n",
      "\n",
      "Epoch 00018: val_loss did not improve from 0.27351\n",
      "43/43 [==============================] - 140s 3s/step - loss: 0.0652 - f1_score: 0.9469 - categorical_accuracy: 0.9467 - val_loss: 0.2784 - val_f1_score: 0.9363 - val_categorical_accuracy: 0.9361\n",
      "Epoch 00018: early stopping\n"
     ]
    }
   ],
   "source": [
    "history = model.fit(\n",
    "    train_generator, \n",
    "    steps_per_epoch=steps_per_epoch,\n",
    "    class_weight=class_weight, \n",
    "    epochs=50, \n",
    "    verbose=1, \n",
    "    workers=5,\n",
    "    callbacks=[reduce_lr, early, chk_point], \n",
    "    validation_data=validation_generator,\n",
    "    validation_steps=validation_steps\n",
    ")"
   ]
  },
  {
   "cell_type": "code",
   "execution_count": 17,
   "metadata": {
    "execution": {
     "iopub.execute_input": "2021-01-23T19:24:51.651953Z",
     "iopub.status.busy": "2021-01-23T19:24:51.651179Z",
     "iopub.status.idle": "2021-01-23T19:24:55.755231Z",
     "shell.execute_reply": "2021-01-23T19:24:55.756394Z"
    },
    "papermill": {
     "duration": 5.3604,
     "end_time": "2021-01-23T19:24:55.756564",
     "exception": false,
     "start_time": "2021-01-23T19:24:50.396164",
     "status": "completed"
    },
    "tags": []
   },
   "outputs": [
    {
     "data": {
      "image/png": "[encoded data removed]",
      "text/plain": [
       "<Figure size 2160x720 with 3 Axes>"
      ]
     },
     "metadata": {},
     "output_type": "display_data"
    }
   ],
   "source": [
    "_, ax = plt.subplots(1, 3, figsize=(30, 10))\n",
    "\n",
    "ax[0].plot(history.history['loss'], label='train_loss')\n",
    "ax[0].plot(history.history['val_loss'], label='val_loss')\n",
    "ax[0].set_ylabel('Loss')\n",
    "ax[0].set_xlabel('Epoch')\n",
    "ax[0].set_title(\"Model Loss Curve\")\n",
    "ax[0].legend()\n",
    "ax[0].grid()\n",
    "\n",
    "ax[1].plot(history.history['f1_score'], label='train_f1_score')\n",
    "ax[1].plot(history.history['val_f1_score'], label='val_f1_score')\n",
    "ax[1].set_ylabel('F1-Score')\n",
    "ax[1].set_xlabel('Epoch')\n",
    "ax[1].set_title(\"Model F1-Score Curve\")\n",
    "ax[1].legend()\n",
    "ax[1].grid()\n",
    "\n",
    "ax[2].plot(history.history['categorical_accuracy'], label='train_accuracy')\n",
    "ax[2].plot(history.history['val_categorical_accuracy'], label='val_accuracy')\n",
    "ax[2].set_ylabel('Accuracy')\n",
    "ax[2].set_xlabel('Epoch')\n",
    "ax[2].set_title(\"Model Accuracy Curve\")\n",
    "ax[2].legend()\n",
    "ax[2].grid()"
   ]
  },
  {
   "cell_type": "markdown",
   "metadata": {
    "papermill": {
     "duration": 1.317348,
     "end_time": "2021-01-23T19:24:58.359133",
     "exception": false,
     "start_time": "2021-01-23T19:24:57.041785",
     "status": "completed"
    },
    "tags": []
   },
   "source": [
    "## Check classification report"
   ]
  },
  {
   "cell_type": "code",
   "execution_count": 18,
   "metadata": {
    "execution": {
     "iopub.execute_input": "2021-01-23T19:25:00.943663Z",
     "iopub.status.busy": "2021-01-23T19:25:00.942924Z",
     "iopub.status.idle": "2021-01-23T19:25:12.410930Z",
     "shell.execute_reply": "2021-01-23T19:25:12.410435Z"
    },
    "papermill": {
     "duration": 12.778872,
     "end_time": "2021-01-23T19:25:12.411064",
     "exception": false,
     "start_time": "2021-01-23T19:24:59.632192",
     "status": "completed"
    },
    "tags": []
   },
   "outputs": [],
   "source": [
    "model = load_model('./hackerearth_holiday_season_model.h5')"
   ]
  },
  {
   "cell_type": "code",
   "execution_count": 19,
   "metadata": {
    "execution": {
     "iopub.execute_input": "2021-01-23T19:25:12.956695Z",
     "iopub.status.busy": "2021-01-23T19:25:12.955846Z",
     "iopub.status.idle": "2021-01-23T19:25:26.985984Z",
     "shell.execute_reply": "2021-01-23T19:25:26.985429Z"
    },
    "papermill": {
     "duration": 14.31202,
     "end_time": "2021-01-23T19:25:26.986083",
     "exception": false,
     "start_time": "2021-01-23T19:25:12.674063",
     "status": "completed"
    },
    "tags": []
   },
   "outputs": [
    {
     "name": "stdout",
     "output_type": "stream",
     "text": [
      "8/8 [==============================] - 9s 1s/step\n",
      "\n",
      "y_true: (971,)\n",
      "y_pred: (971,)\n"
     ]
    }
   ],
   "source": [
    "y_true = np.array([validation_generator.classes]).ravel()\n",
    "y_pred = model.predict(validation_generator, verbose=1)\n",
    "y_pred = np.argmax(y_pred, axis=1)\n",
    "\n",
    "print(\"\\ny_true: {}\".format(y_true.shape))\n",
    "print(\"y_pred: {}\".format(y_pred.shape))"
   ]
  },
  {
   "cell_type": "code",
   "execution_count": 20,
   "metadata": {
    "execution": {
     "iopub.execute_input": "2021-01-23T19:25:27.517381Z",
     "iopub.status.busy": "2021-01-23T19:25:27.516567Z",
     "iopub.status.idle": "2021-01-23T19:25:27.531697Z",
     "shell.execute_reply": "2021-01-23T19:25:27.531205Z"
    },
    "papermill": {
     "duration": 0.282054,
     "end_time": "2021-01-23T19:25:27.531782",
     "exception": false,
     "start_time": "2021-01-23T19:25:27.249728",
     "status": "completed"
    },
    "tags": []
   },
   "outputs": [
    {
     "name": "stdout",
     "output_type": "stream",
     "text": [
      "              precision    recall  f1-score   support\n",
      "\n",
      "           0       0.97      0.94      0.96        80\n",
      "           1       0.92      0.89      0.90        89\n",
      "           2       0.94      0.94      0.94       231\n",
      "           3       0.96      0.93      0.94        96\n",
      "           4       0.93      0.94      0.94       421\n",
      "           5       0.80      0.91      0.85        54\n",
      "\n",
      "    accuracy                           0.93       971\n",
      "   macro avg       0.92      0.92      0.92       971\n",
      "weighted avg       0.93      0.93      0.93       971\n",
      "\n"
     ]
    }
   ],
   "source": [
    "print(classification_report(y_true, y_pred))"
   ]
  },
  {
   "cell_type": "code",
   "execution_count": 21,
   "metadata": {
    "execution": {
     "iopub.execute_input": "2021-01-23T19:25:28.109711Z",
     "iopub.status.busy": "2021-01-23T19:25:28.107630Z",
     "iopub.status.idle": "2021-01-23T19:25:28.481951Z",
     "shell.execute_reply": "2021-01-23T19:25:28.481499Z"
    },
    "papermill": {
     "duration": 0.684953,
     "end_time": "2021-01-23T19:25:28.482093",
     "exception": false,
     "start_time": "2021-01-23T19:25:27.797140",
     "status": "completed"
    },
    "tags": []
   },
   "outputs": [
    {
     "data": {
      "image/png": "[encoded data removed]",
      "text/plain": [
       "<Figure size 864x504 with 2 Axes>"
      ]
     },
     "metadata": {},
     "output_type": "display_data"
    }
   ],
   "source": [
    "cnf_matrix = confusion_matrix(y_true, y_pred, labels=[0, 1, 2, 3, 4, 5])\n",
    "np.set_printoptions(precision=2)\n",
    "plt.figure(figsize=(12,7))\n",
    "plot_confusion_matrix(cnf_matrix, classes=[0, 1, 2, 3, 4, 5])"
   ]
  },
  {
   "cell_type": "markdown",
   "metadata": {
    "papermill": {
     "duration": 0.26684,
     "end_time": "2021-01-23T19:25:29.021556",
     "exception": false,
     "start_time": "2021-01-23T19:25:28.754716",
     "status": "completed"
    },
    "tags": []
   },
   "source": [
    "## Create submission file"
   ]
  },
  {
   "cell_type": "code",
   "execution_count": 22,
   "metadata": {
    "execution": {
     "iopub.execute_input": "2021-01-23T19:25:29.559218Z",
     "iopub.status.busy": "2021-01-23T19:25:29.558641Z",
     "iopub.status.idle": "2021-01-23T19:25:29.562703Z",
     "shell.execute_reply": "2021-01-23T19:25:29.562268Z"
    },
    "papermill": {
     "duration": 0.273599,
     "end_time": "2021-01-23T19:25:29.562792",
     "exception": false,
     "start_time": "2021-01-23T19:25:29.289193",
     "status": "completed"
    },
    "tags": []
   },
   "outputs": [],
   "source": [
    "rev_class_map = {\n",
    "    0: 'Airplane',\n",
    "    1: 'Candle',\n",
    "    2: 'Christmas_Tree',\n",
    "    3: 'Jacket',\n",
    "    4: 'Miscellaneous',\n",
    "    5: 'Snowman'\n",
    "}"
   ]
  },
  {
   "cell_type": "code",
   "execution_count": 23,
   "metadata": {
    "execution": {
     "iopub.execute_input": "2021-01-23T19:25:30.137248Z",
     "iopub.status.busy": "2021-01-23T19:25:30.136648Z",
     "iopub.status.idle": "2021-01-23T19:26:08.874269Z",
     "shell.execute_reply": "2021-01-23T19:26:08.873597Z"
    },
    "papermill": {
     "duration": 39.041075,
     "end_time": "2021-01-23T19:26:08.874403",
     "exception": false,
     "start_time": "2021-01-23T19:25:29.833328",
     "status": "completed"
    },
    "tags": []
   },
   "outputs": [
    {
     "name": "stdout",
     "output_type": "stream",
     "text": [
      "28/28 [==============================] - 36s 1s/step\n",
      "(3489,)\n"
     ]
    }
   ],
   "source": [
    "y_pred_final = model.predict(test_generator, verbose=1)\n",
    "y_pred_final = np.argmax(y_pred_final, axis=1)\n",
    "print(y_pred_final.shape)"
   ]
  },
  {
   "cell_type": "code",
   "execution_count": 24,
   "metadata": {
    "execution": {
     "iopub.execute_input": "2021-01-23T19:26:09.727495Z",
     "iopub.status.busy": "2021-01-23T19:26:09.726527Z",
     "iopub.status.idle": "2021-01-23T19:26:09.730133Z",
     "shell.execute_reply": "2021-01-23T19:26:09.730518Z"
    },
    "papermill": {
     "duration": 0.346919,
     "end_time": "2021-01-23T19:26:09.730633",
     "exception": false,
     "start_time": "2021-01-23T19:26:09.383714",
     "status": "completed"
    },
    "tags": []
   },
   "outputs": [
    {
     "data": {
      "text/html": [
       "<div>\n",
       "<style scoped>\n",
       "    .dataframe tbody tr th:only-of-type {\n",
       "        vertical-align: middle;\n",
       "    }\n",
       "\n",
       "    .dataframe tbody tr th {\n",
       "        vertical-align: top;\n",
       "    }\n",
       "\n",
       "    .dataframe thead th {\n",
       "        text-align: right;\n",
       "    }\n",
       "</style>\n",
       "<table border=\"1\" class=\"dataframe\">\n",
       "  <thead>\n",
       "    <tr style=\"text-align: right;\">\n",
       "      <th></th>\n",
       "      <th>Image</th>\n",
       "      <th>Class</th>\n",
       "    </tr>\n",
       "  </thead>\n",
       "  <tbody>\n",
       "    <tr>\n",
       "      <th>0</th>\n",
       "      <td>image7761.jpg</td>\n",
       "      <td>Miscellaneous</td>\n",
       "    </tr>\n",
       "    <tr>\n",
       "      <th>1</th>\n",
       "      <td>image3202.jpg</td>\n",
       "      <td>Miscellaneous</td>\n",
       "    </tr>\n",
       "    <tr>\n",
       "      <th>2</th>\n",
       "      <td>image688.jpg</td>\n",
       "      <td>Snowman</td>\n",
       "    </tr>\n",
       "    <tr>\n",
       "      <th>3</th>\n",
       "      <td>image233.jpg</td>\n",
       "      <td>Candle</td>\n",
       "    </tr>\n",
       "    <tr>\n",
       "      <th>4</th>\n",
       "      <td>image4332.jpg</td>\n",
       "      <td>Christmas_Tree</td>\n",
       "    </tr>\n",
       "  </tbody>\n",
       "</table>\n",
       "</div>"
      ],
      "text/plain": [
       "           Image           Class\n",
       "0  image7761.jpg   Miscellaneous\n",
       "1  image3202.jpg   Miscellaneous\n",
       "2   image688.jpg         Snowman\n",
       "3   image233.jpg          Candle\n",
       "4  image4332.jpg  Christmas_Tree"
      ]
     },
     "execution_count": 24,
     "metadata": {},
     "output_type": "execute_result"
    }
   ],
   "source": [
    "test_df['Class'] = y_pred_final\n",
    "test_df['Class'] = test_df['Class'].map(rev_class_map)\n",
    "test_df.head()"
   ]
  },
  {
   "cell_type": "code",
   "execution_count": 25,
   "metadata": {
    "execution": {
     "iopub.execute_input": "2021-01-23T19:26:10.314033Z",
     "iopub.status.busy": "2021-01-23T19:26:10.313522Z",
     "iopub.status.idle": "2021-01-23T19:26:10.592648Z",
     "shell.execute_reply": "2021-01-23T19:26:10.592164Z"
    },
    "papermill": {
     "duration": 0.56109,
     "end_time": "2021-01-23T19:26:10.592740",
     "exception": false,
     "start_time": "2021-01-23T19:26:10.031650",
     "status": "completed"
    },
    "tags": []
   },
   "outputs": [],
   "source": [
    "test_df.to_csv(\"/kaggle/working/submission.csv\", index=False)"
   ]
  },
  {
   "cell_type": "code",
   "execution_count": null,
   "metadata": {
    "papermill": {
     "duration": 0.495111,
     "end_time": "2021-01-23T19:26:11.425517",
     "exception": false,
     "start_time": "2021-01-23T19:26:10.930406",
     "status": "completed"
    },
    "tags": []
   },
   "outputs": [],
   "source": []
  }
 ],
 "metadata": {
  "kernelspec": {
   "display_name": "Python 3",
   "language": "python",
   "name": "python3"
  },
  "language_info": {
   "codemirror_mode": {
    "name": "ipython",
    "version": 3
   },
   "file_extension": ".py",
   "mimetype": "text/x-python",
   "name": "python",
   "nbconvert_exporter": "python",
   "pygments_lexer": "ipython3",
   "version": "3.7.6"
  },
  "papermill": {
   "duration": 3062.497247,
   "end_time": "2021-01-23T19:26:13.672699",
   "environment_variables": {},
   "exception": null,
   "input_path": "__notebook__.ipynb",
   "output_path": "__notebook__.ipynb",
   "parameters": {},
   "start_time": "2021-01-23T18:35:11.175452",
   "version": "2.1.0"
  }
 },
 "nbformat": 4,
 "nbformat_minor": 4
}
