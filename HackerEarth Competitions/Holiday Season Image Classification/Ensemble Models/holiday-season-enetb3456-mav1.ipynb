{
 "cells": [
  {
   "cell_type": "markdown",
   "metadata": {
    "papermill": {
     "duration": 0.027249,
     "end_time": "2021-01-28T12:53:29.271819",
     "exception": false,
     "start_time": "2021-01-28T12:53:29.244570",
     "status": "completed"
    },
    "tags": []
   },
   "source": [
    "## Import Packages"
   ]
  },
  {
   "cell_type": "code",
   "execution_count": 1,
   "metadata": {
    "execution": {
     "iopub.execute_input": "2021-01-28T12:53:29.339412Z",
     "iopub.status.busy": "2021-01-28T12:53:29.338602Z",
     "iopub.status.idle": "2021-01-28T12:53:35.569846Z",
     "shell.execute_reply": "2021-01-28T12:53:35.568686Z"
    },
    "papermill": {
     "duration": 6.272225,
     "end_time": "2021-01-28T12:53:35.570007",
     "exception": false,
     "start_time": "2021-01-28T12:53:29.297782",
     "status": "completed"
    },
    "tags": []
   },
   "outputs": [],
   "source": [
    "import os\n",
    "import itertools\n",
    "import numpy as np\n",
    "import pandas as pd\n",
    "import seaborn as sns\n",
    "from tqdm import tqdm\n",
    "import matplotlib.pyplot as plt\n",
    "from sklearn.metrics import confusion_matrix\n",
    "from sklearn.metrics import classification_report\n",
    "from sklearn.model_selection import StratifiedShuffleSplit\n",
    "\n",
    "import tensorflow as tf\n",
    "from tensorflow.keras import backend as K\n",
    "from tensorflow.keras.regularizers import l2\n",
    "from tensorflow_addons.metrics import F1Score\n",
    "from tensorflow.keras.models import Model, load_model\n",
    "from tensorflow_addons.optimizers import AdamW, Lookahead\n",
    "from tensorflow.keras.callbacks import EarlyStopping\n",
    "from tensorflow.keras.callbacks import ReduceLROnPlateau\n",
    "from tensorflow.keras.callbacks import ModelCheckpoint\n",
    "from tensorflow.keras.layers import Concatenate\n",
    "from tensorflow.keras.layers import Dense, Dropout, Flatten\n",
    "from tensorflow.keras.layers import BatchNormalization, Input\n",
    "from tensorflow.keras.layers import ZeroPadding2D, MaxPooling2D\n",
    "from tensorflow.keras.layers import GlobalAveragePooling2D, Add\n",
    "from tensorflow.keras.layers import GlobalMaxPooling2D, Reshape\n",
    "from tensorflow.keras.layers import Activation, Conv2D, Average\n",
    "from tensorflow.keras.preprocessing.image import ImageDataGenerator"
   ]
  },
  {
   "cell_type": "markdown",
   "metadata": {
    "papermill": {
     "duration": 0.0278,
     "end_time": "2021-01-28T12:53:35.625459",
     "exception": false,
     "start_time": "2021-01-28T12:53:35.597659",
     "status": "completed"
    },
    "tags": []
   },
   "source": [
    "## Helper Functions"
   ]
  },
  {
   "cell_type": "code",
   "execution_count": 2,
   "metadata": {
    "execution": {
     "iopub.execute_input": "2021-01-28T12:53:35.691247Z",
     "iopub.status.busy": "2021-01-28T12:53:35.690494Z",
     "iopub.status.idle": "2021-01-28T12:53:35.694478Z",
     "shell.execute_reply": "2021-01-28T12:53:35.693687Z"
    },
    "papermill": {
     "duration": 0.041692,
     "end_time": "2021-01-28T12:53:35.694595",
     "exception": false,
     "start_time": "2021-01-28T12:53:35.652903",
     "status": "completed"
    },
    "tags": []
   },
   "outputs": [],
   "source": [
    "def plot_confusion_matrix(cm, classes):\n",
    "\n",
    "    plt.imshow(cm, interpolation='nearest', cmap=plt.cm.Blues)\n",
    "    plt.title('Confusion matrix')\n",
    "    plt.colorbar()\n",
    "    tick_marks = np.arange(len(classes))\n",
    "    plt.xticks(tick_marks, classes, rotation=0)\n",
    "    plt.yticks(tick_marks, classes)\n",
    "\n",
    "    thresh = cm.max() / 2.\n",
    "    for i, j in itertools.product(range(cm.shape[0]), range(cm.shape[1])):\n",
    "        plt.text(j, i, format(cm[i, j], 'd'),\n",
    "                 horizontalalignment=\"center\",\n",
    "                 color=\"white\" if cm[i, j] > thresh else \"black\")\n",
    "\n",
    "    plt.ylabel('True label')\n",
    "    plt.xlabel('Predicted label')\n",
    "    plt.tight_layout()"
   ]
  },
  {
   "cell_type": "markdown",
   "metadata": {
    "papermill": {
     "duration": 0.027267,
     "end_time": "2021-01-28T12:53:35.750494",
     "exception": false,
     "start_time": "2021-01-28T12:53:35.723227",
     "status": "completed"
    },
    "tags": []
   },
   "source": [
    "## Read true labels + Basic EDA"
   ]
  },
  {
   "cell_type": "code",
   "execution_count": 3,
   "metadata": {
    "execution": {
     "iopub.execute_input": "2021-01-28T12:53:35.816997Z",
     "iopub.status.busy": "2021-01-28T12:53:35.816339Z",
     "iopub.status.idle": "2021-01-28T12:53:35.859618Z",
     "shell.execute_reply": "2021-01-28T12:53:35.860156Z"
    },
    "papermill": {
     "duration": 0.082422,
     "end_time": "2021-01-28T12:53:35.860371",
     "exception": false,
     "start_time": "2021-01-28T12:53:35.777949",
     "status": "completed"
    },
    "tags": []
   },
   "outputs": [
    {
     "data": {
      "text/html": [
       "<div>\n",
       "<style scoped>\n",
       "    .dataframe tbody tr th:only-of-type {\n",
       "        vertical-align: middle;\n",
       "    }\n",
       "\n",
       "    .dataframe tbody tr th {\n",
       "        vertical-align: top;\n",
       "    }\n",
       "\n",
       "    .dataframe thead th {\n",
       "        text-align: right;\n",
       "    }\n",
       "</style>\n",
       "<table border=\"1\" class=\"dataframe\">\n",
       "  <thead>\n",
       "    <tr style=\"text-align: right;\">\n",
       "      <th></th>\n",
       "      <th>Image</th>\n",
       "      <th>Class</th>\n",
       "    </tr>\n",
       "  </thead>\n",
       "  <tbody>\n",
       "    <tr>\n",
       "      <th>0</th>\n",
       "      <td>image3476.jpg</td>\n",
       "      <td>Miscellaneous</td>\n",
       "    </tr>\n",
       "    <tr>\n",
       "      <th>1</th>\n",
       "      <td>image5198.jpg</td>\n",
       "      <td>Candle</td>\n",
       "    </tr>\n",
       "    <tr>\n",
       "      <th>2</th>\n",
       "      <td>image4183.jpg</td>\n",
       "      <td>Snowman</td>\n",
       "    </tr>\n",
       "    <tr>\n",
       "      <th>3</th>\n",
       "      <td>image1806.jpg</td>\n",
       "      <td>Miscellaneous</td>\n",
       "    </tr>\n",
       "    <tr>\n",
       "      <th>4</th>\n",
       "      <td>image7831.jpg</td>\n",
       "      <td>Miscellaneous</td>\n",
       "    </tr>\n",
       "  </tbody>\n",
       "</table>\n",
       "</div>"
      ],
      "text/plain": [
       "           Image          Class\n",
       "0  image3476.jpg  Miscellaneous\n",
       "1  image5198.jpg         Candle\n",
       "2  image4183.jpg        Snowman\n",
       "3  image1806.jpg  Miscellaneous\n",
       "4  image7831.jpg  Miscellaneous"
      ]
     },
     "execution_count": 3,
     "metadata": {},
     "output_type": "execute_result"
    }
   ],
   "source": [
    "train_df = pd.read_csv(\"../input/hackereath-holiday-season-deep-learning-contest/dataset/train.csv\")\n",
    "train_df.head()"
   ]
  },
  {
   "cell_type": "code",
   "execution_count": 4,
   "metadata": {
    "execution": {
     "iopub.execute_input": "2021-01-28T12:53:35.924394Z",
     "iopub.status.busy": "2021-01-28T12:53:35.922828Z",
     "iopub.status.idle": "2021-01-28T12:53:35.925567Z",
     "shell.execute_reply": "2021-01-28T12:53:35.925055Z"
    },
    "papermill": {
     "duration": 0.037149,
     "end_time": "2021-01-28T12:53:35.925674",
     "exception": false,
     "start_time": "2021-01-28T12:53:35.888525",
     "status": "completed"
    },
    "tags": []
   },
   "outputs": [],
   "source": [
    "class_map = {\n",
    "    'Airplane': 0,\n",
    "    'Candle': 1,\n",
    "    'Christmas_Tree': 2,\n",
    "    'Jacket': 3,\n",
    "    'Miscellaneous': 4,\n",
    "    'Snowman': 5\n",
    "}"
   ]
  },
  {
   "cell_type": "code",
   "execution_count": 5,
   "metadata": {
    "execution": {
     "iopub.execute_input": "2021-01-28T12:53:35.989120Z",
     "iopub.status.busy": "2021-01-28T12:53:35.987969Z",
     "iopub.status.idle": "2021-01-28T12:53:36.014834Z",
     "shell.execute_reply": "2021-01-28T12:53:36.015375Z"
    },
    "papermill": {
     "duration": 0.062787,
     "end_time": "2021-01-28T12:53:36.015525",
     "exception": false,
     "start_time": "2021-01-28T12:53:35.952738",
     "status": "completed"
    },
    "tags": []
   },
   "outputs": [
    {
     "data": {
      "text/html": [
       "<div>\n",
       "<style scoped>\n",
       "    .dataframe tbody tr th:only-of-type {\n",
       "        vertical-align: middle;\n",
       "    }\n",
       "\n",
       "    .dataframe tbody tr th {\n",
       "        vertical-align: top;\n",
       "    }\n",
       "\n",
       "    .dataframe thead th {\n",
       "        text-align: right;\n",
       "    }\n",
       "</style>\n",
       "<table border=\"1\" class=\"dataframe\">\n",
       "  <thead>\n",
       "    <tr style=\"text-align: right;\">\n",
       "      <th></th>\n",
       "      <th>Class</th>\n",
       "      <th>Class_enc</th>\n",
       "      <th>Count</th>\n",
       "    </tr>\n",
       "  </thead>\n",
       "  <tbody>\n",
       "    <tr>\n",
       "      <th>0</th>\n",
       "      <td>Airplane</td>\n",
       "      <td>0</td>\n",
       "      <td>535</td>\n",
       "    </tr>\n",
       "    <tr>\n",
       "      <th>1</th>\n",
       "      <td>Candle</td>\n",
       "      <td>1</td>\n",
       "      <td>593</td>\n",
       "    </tr>\n",
       "    <tr>\n",
       "      <th>2</th>\n",
       "      <td>Christmas_Tree</td>\n",
       "      <td>2</td>\n",
       "      <td>1539</td>\n",
       "    </tr>\n",
       "    <tr>\n",
       "      <th>3</th>\n",
       "      <td>Jacket</td>\n",
       "      <td>3</td>\n",
       "      <td>640</td>\n",
       "    </tr>\n",
       "    <tr>\n",
       "      <th>4</th>\n",
       "      <td>Miscellaneous</td>\n",
       "      <td>4</td>\n",
       "      <td>2801</td>\n",
       "    </tr>\n",
       "    <tr>\n",
       "      <th>5</th>\n",
       "      <td>Snowman</td>\n",
       "      <td>5</td>\n",
       "      <td>361</td>\n",
       "    </tr>\n",
       "  </tbody>\n",
       "</table>\n",
       "</div>"
      ],
      "text/plain": [
       "            Class Class_enc  Count\n",
       "0        Airplane         0    535\n",
       "1          Candle         1    593\n",
       "2  Christmas_Tree         2   1539\n",
       "3          Jacket         3    640\n",
       "4   Miscellaneous         4   2801\n",
       "5         Snowman         5    361"
      ]
     },
     "execution_count": 5,
     "metadata": {},
     "output_type": "execute_result"
    }
   ],
   "source": [
    "train_df['Class_enc'] = train_df['Class'].map(class_map)\n",
    "train_df['Class_enc'] = train_df['Class_enc'].astype('str')\n",
    "train_df.groupby(['Class','Class_enc']).size().reset_index().rename(columns={0:'Count'})"
   ]
  },
  {
   "cell_type": "code",
   "execution_count": 6,
   "metadata": {
    "execution": {
     "iopub.execute_input": "2021-01-28T12:53:36.080639Z",
     "iopub.status.busy": "2021-01-28T12:53:36.079778Z",
     "iopub.status.idle": "2021-01-28T12:53:36.336777Z",
     "shell.execute_reply": "2021-01-28T12:53:36.336181Z"
    },
    "papermill": {
     "duration": 0.292031,
     "end_time": "2021-01-28T12:53:36.336900",
     "exception": false,
     "start_time": "2021-01-28T12:53:36.044869",
     "status": "completed"
    },
    "tags": []
   },
   "outputs": [
    {
     "data": {
      "image/png": "[encoded data removed]",
      "text/plain": [
       "<Figure size 864x504 with 1 Axes>"
      ]
     },
     "metadata": {
      "needs_background": "light"
     },
     "output_type": "display_data"
    }
   ],
   "source": [
    "plt.figure(figsize=(12,7))\n",
    "sns.set(style=\"darkgrid\")\n",
    "ax = sns.countplot(x=\"Class\", data=train_df)"
   ]
  },
  {
   "cell_type": "code",
   "execution_count": 7,
   "metadata": {
    "execution": {
     "iopub.execute_input": "2021-01-28T12:53:36.408298Z",
     "iopub.status.busy": "2021-01-28T12:53:36.407528Z",
     "iopub.status.idle": "2021-01-28T12:53:36.505557Z",
     "shell.execute_reply": "2021-01-28T12:53:36.504820Z"
    },
    "papermill": {
     "duration": 0.136792,
     "end_time": "2021-01-28T12:53:36.505713",
     "exception": false,
     "start_time": "2021-01-28T12:53:36.368921",
     "status": "completed"
    },
    "tags": []
   },
   "outputs": [
    {
     "name": "stderr",
     "output_type": "stream",
     "text": [
      "100%|██████████| 3489/3489 [00:00<00:00, 824446.57it/s]\n"
     ]
    },
    {
     "data": {
      "text/html": [
       "<div>\n",
       "<style scoped>\n",
       "    .dataframe tbody tr th:only-of-type {\n",
       "        vertical-align: middle;\n",
       "    }\n",
       "\n",
       "    .dataframe tbody tr th {\n",
       "        vertical-align: top;\n",
       "    }\n",
       "\n",
       "    .dataframe thead th {\n",
       "        text-align: right;\n",
       "    }\n",
       "</style>\n",
       "<table border=\"1\" class=\"dataframe\">\n",
       "  <thead>\n",
       "    <tr style=\"text-align: right;\">\n",
       "      <th></th>\n",
       "      <th>Image</th>\n",
       "      <th>Class</th>\n",
       "    </tr>\n",
       "  </thead>\n",
       "  <tbody>\n",
       "    <tr>\n",
       "      <th>0</th>\n",
       "      <td>image7761.jpg</td>\n",
       "      <td>0</td>\n",
       "    </tr>\n",
       "    <tr>\n",
       "      <th>1</th>\n",
       "      <td>image3202.jpg</td>\n",
       "      <td>0</td>\n",
       "    </tr>\n",
       "    <tr>\n",
       "      <th>2</th>\n",
       "      <td>image688.jpg</td>\n",
       "      <td>0</td>\n",
       "    </tr>\n",
       "    <tr>\n",
       "      <th>3</th>\n",
       "      <td>image233.jpg</td>\n",
       "      <td>0</td>\n",
       "    </tr>\n",
       "    <tr>\n",
       "      <th>4</th>\n",
       "      <td>image4332.jpg</td>\n",
       "      <td>0</td>\n",
       "    </tr>\n",
       "  </tbody>\n",
       "</table>\n",
       "</div>"
      ],
      "text/plain": [
       "           Image Class\n",
       "0  image7761.jpg     0\n",
       "1  image3202.jpg     0\n",
       "2   image688.jpg     0\n",
       "3   image233.jpg     0\n",
       "4  image4332.jpg     0"
      ]
     },
     "execution_count": 7,
     "metadata": {},
     "output_type": "execute_result"
    }
   ],
   "source": [
    "test_dir = \"../input/hackereath-holiday-season-deep-learning-contest/dataset/test\"\n",
    "test_files = []\n",
    "\n",
    "for file in tqdm(os.listdir(test_dir)):\n",
    "    test_files.append(file)\n",
    "\n",
    "test_df = pd.DataFrame(test_files, columns=['Image'])\n",
    "test_df['Class'] = '0'\n",
    "test_df.head()"
   ]
  },
  {
   "cell_type": "markdown",
   "metadata": {
    "papermill": {
     "duration": 0.029905,
     "end_time": "2021-01-28T12:53:36.566815",
     "exception": false,
     "start_time": "2021-01-28T12:53:36.536910",
     "status": "completed"
    },
    "tags": []
   },
   "source": [
    "## Calculate class-weights"
   ]
  },
  {
   "cell_type": "code",
   "execution_count": 8,
   "metadata": {
    "execution": {
     "iopub.execute_input": "2021-01-28T12:53:36.640103Z",
     "iopub.status.busy": "2021-01-28T12:53:36.636850Z",
     "iopub.status.idle": "2021-01-28T12:53:36.669128Z",
     "shell.execute_reply": "2021-01-28T12:53:36.668619Z"
    },
    "papermill": {
     "duration": 0.071985,
     "end_time": "2021-01-28T12:53:36.669237",
     "exception": false,
     "start_time": "2021-01-28T12:53:36.597252",
     "status": "completed"
    },
    "tags": []
   },
   "outputs": [
    {
     "data": {
      "text/plain": [
       "{0: 0.6747663551401869,\n",
       " 1: 0.6087689713322091,\n",
       " 2: 0.23456790123456786,\n",
       " 3: 0.5640625,\n",
       " 4: 0.12888254194930382,\n",
       " 5: 1.0}"
      ]
     },
     "execution_count": 8,
     "metadata": {},
     "output_type": "execute_result"
    }
   ],
   "source": [
    "temp_df = train_df.groupby(['Class_enc']).size().reset_index().rename(columns={0:'count'})\n",
    "total_count = np.sum(temp_df['count'].values)\n",
    "temp_df['class%'] = (temp_df['count'] / total_count) * 100\n",
    "lowest_pct = min(temp_df['class%'])\n",
    "temp_df['class_weight'] = lowest_pct / temp_df['class%']\n",
    "class_weight = temp_df[['Class_enc', 'class_weight']].to_dict()['class_weight']\n",
    "class_weight"
   ]
  },
  {
   "cell_type": "markdown",
   "metadata": {
    "papermill": {
     "duration": 0.031361,
     "end_time": "2021-01-28T12:53:36.732793",
     "exception": false,
     "start_time": "2021-01-28T12:53:36.701432",
     "status": "completed"
    },
    "tags": []
   },
   "source": [
    "## Split training data into train/validation datasets"
   ]
  },
  {
   "cell_type": "code",
   "execution_count": 9,
   "metadata": {
    "execution": {
     "iopub.execute_input": "2021-01-28T12:53:36.851496Z",
     "iopub.status.busy": "2021-01-28T12:53:36.850747Z",
     "iopub.status.idle": "2021-01-28T12:53:36.864882Z",
     "shell.execute_reply": "2021-01-28T12:53:36.864383Z"
    },
    "papermill": {
     "duration": 0.100738,
     "end_time": "2021-01-28T12:53:36.865004",
     "exception": false,
     "start_time": "2021-01-28T12:53:36.764266",
     "status": "completed"
    },
    "tags": []
   },
   "outputs": [
    {
     "name": "stdout",
     "output_type": "stream",
     "text": [
      "train_df shape: (5498, 3)\n",
      "validation_df shape: (971, 3)\n"
     ]
    }
   ],
   "source": [
    "sss = StratifiedShuffleSplit(n_splits=1, test_size=0.15, random_state=1)\n",
    "for train_index, validation_index in sss.split(train_df['Image'], train_df['Class_enc']):\n",
    "    train_df, validation_df = train_df.iloc[train_index], train_df.iloc[validation_index]\n",
    "\n",
    "print(\"train_df shape: {}\".format(train_df.shape))\n",
    "print(\"validation_df shape: {}\".format(validation_df.shape))"
   ]
  },
  {
   "cell_type": "code",
   "execution_count": 10,
   "metadata": {
    "execution": {
     "iopub.execute_input": "2021-01-28T12:53:36.939897Z",
     "iopub.status.busy": "2021-01-28T12:53:36.938923Z",
     "iopub.status.idle": "2021-01-28T12:53:36.955073Z",
     "shell.execute_reply": "2021-01-28T12:53:36.955619Z"
    },
    "papermill": {
     "duration": 0.059859,
     "end_time": "2021-01-28T12:53:36.955776",
     "exception": false,
     "start_time": "2021-01-28T12:53:36.895917",
     "status": "completed"
    },
    "tags": []
   },
   "outputs": [
    {
     "data": {
      "text/html": [
       "<div>\n",
       "<style scoped>\n",
       "    .dataframe tbody tr th:only-of-type {\n",
       "        vertical-align: middle;\n",
       "    }\n",
       "\n",
       "    .dataframe tbody tr th {\n",
       "        vertical-align: top;\n",
       "    }\n",
       "\n",
       "    .dataframe thead th {\n",
       "        text-align: right;\n",
       "    }\n",
       "</style>\n",
       "<table border=\"1\" class=\"dataframe\">\n",
       "  <thead>\n",
       "    <tr style=\"text-align: right;\">\n",
       "      <th></th>\n",
       "      <th>Class</th>\n",
       "      <th>Class_enc</th>\n",
       "      <th>Count</th>\n",
       "    </tr>\n",
       "  </thead>\n",
       "  <tbody>\n",
       "    <tr>\n",
       "      <th>0</th>\n",
       "      <td>Airplane</td>\n",
       "      <td>0</td>\n",
       "      <td>455</td>\n",
       "    </tr>\n",
       "    <tr>\n",
       "      <th>1</th>\n",
       "      <td>Candle</td>\n",
       "      <td>1</td>\n",
       "      <td>504</td>\n",
       "    </tr>\n",
       "    <tr>\n",
       "      <th>2</th>\n",
       "      <td>Christmas_Tree</td>\n",
       "      <td>2</td>\n",
       "      <td>1308</td>\n",
       "    </tr>\n",
       "    <tr>\n",
       "      <th>3</th>\n",
       "      <td>Jacket</td>\n",
       "      <td>3</td>\n",
       "      <td>544</td>\n",
       "    </tr>\n",
       "    <tr>\n",
       "      <th>4</th>\n",
       "      <td>Miscellaneous</td>\n",
       "      <td>4</td>\n",
       "      <td>2380</td>\n",
       "    </tr>\n",
       "    <tr>\n",
       "      <th>5</th>\n",
       "      <td>Snowman</td>\n",
       "      <td>5</td>\n",
       "      <td>307</td>\n",
       "    </tr>\n",
       "  </tbody>\n",
       "</table>\n",
       "</div>"
      ],
      "text/plain": [
       "            Class Class_enc  Count\n",
       "0        Airplane         0    455\n",
       "1          Candle         1    504\n",
       "2  Christmas_Tree         2   1308\n",
       "3          Jacket         3    544\n",
       "4   Miscellaneous         4   2380\n",
       "5         Snowman         5    307"
      ]
     },
     "execution_count": 10,
     "metadata": {},
     "output_type": "execute_result"
    }
   ],
   "source": [
    "train_df.groupby(['Class','Class_enc']).size().reset_index().rename(columns={0:'Count'})"
   ]
  },
  {
   "cell_type": "code",
   "execution_count": 11,
   "metadata": {
    "execution": {
     "iopub.execute_input": "2021-01-28T12:53:37.046720Z",
     "iopub.status.busy": "2021-01-28T12:53:37.038232Z",
     "iopub.status.idle": "2021-01-28T12:53:37.050595Z",
     "shell.execute_reply": "2021-01-28T12:53:37.050043Z"
    },
    "papermill": {
     "duration": 0.058004,
     "end_time": "2021-01-28T12:53:37.050711",
     "exception": false,
     "start_time": "2021-01-28T12:53:36.992707",
     "status": "completed"
    },
    "tags": []
   },
   "outputs": [
    {
     "data": {
      "text/html": [
       "<div>\n",
       "<style scoped>\n",
       "    .dataframe tbody tr th:only-of-type {\n",
       "        vertical-align: middle;\n",
       "    }\n",
       "\n",
       "    .dataframe tbody tr th {\n",
       "        vertical-align: top;\n",
       "    }\n",
       "\n",
       "    .dataframe thead th {\n",
       "        text-align: right;\n",
       "    }\n",
       "</style>\n",
       "<table border=\"1\" class=\"dataframe\">\n",
       "  <thead>\n",
       "    <tr style=\"text-align: right;\">\n",
       "      <th></th>\n",
       "      <th>Class</th>\n",
       "      <th>Class_enc</th>\n",
       "      <th>Count</th>\n",
       "    </tr>\n",
       "  </thead>\n",
       "  <tbody>\n",
       "    <tr>\n",
       "      <th>0</th>\n",
       "      <td>Airplane</td>\n",
       "      <td>0</td>\n",
       "      <td>80</td>\n",
       "    </tr>\n",
       "    <tr>\n",
       "      <th>1</th>\n",
       "      <td>Candle</td>\n",
       "      <td>1</td>\n",
       "      <td>89</td>\n",
       "    </tr>\n",
       "    <tr>\n",
       "      <th>2</th>\n",
       "      <td>Christmas_Tree</td>\n",
       "      <td>2</td>\n",
       "      <td>231</td>\n",
       "    </tr>\n",
       "    <tr>\n",
       "      <th>3</th>\n",
       "      <td>Jacket</td>\n",
       "      <td>3</td>\n",
       "      <td>96</td>\n",
       "    </tr>\n",
       "    <tr>\n",
       "      <th>4</th>\n",
       "      <td>Miscellaneous</td>\n",
       "      <td>4</td>\n",
       "      <td>421</td>\n",
       "    </tr>\n",
       "    <tr>\n",
       "      <th>5</th>\n",
       "      <td>Snowman</td>\n",
       "      <td>5</td>\n",
       "      <td>54</td>\n",
       "    </tr>\n",
       "  </tbody>\n",
       "</table>\n",
       "</div>"
      ],
      "text/plain": [
       "            Class Class_enc  Count\n",
       "0        Airplane         0     80\n",
       "1          Candle         1     89\n",
       "2  Christmas_Tree         2    231\n",
       "3          Jacket         3     96\n",
       "4   Miscellaneous         4    421\n",
       "5         Snowman         5     54"
      ]
     },
     "execution_count": 11,
     "metadata": {},
     "output_type": "execute_result"
    }
   ],
   "source": [
    "validation_df.groupby(['Class','Class_enc']).size().reset_index().rename(columns={0:'Count'})"
   ]
  },
  {
   "cell_type": "markdown",
   "metadata": {
    "papermill": {
     "duration": 0.031959,
     "end_time": "2021-01-28T12:53:37.115126",
     "exception": false,
     "start_time": "2021-01-28T12:53:37.083167",
     "status": "completed"
    },
    "tags": []
   },
   "source": [
    "## Model Hyperparameters"
   ]
  },
  {
   "cell_type": "code",
   "execution_count": 12,
   "metadata": {
    "execution": {
     "iopub.execute_input": "2021-01-28T12:53:37.188120Z",
     "iopub.status.busy": "2021-01-28T12:53:37.187409Z",
     "iopub.status.idle": "2021-01-28T12:53:37.191652Z",
     "shell.execute_reply": "2021-01-28T12:53:37.192355Z"
    },
    "papermill": {
     "duration": 0.044452,
     "end_time": "2021-01-28T12:53:37.192521",
     "exception": false,
     "start_time": "2021-01-28T12:53:37.148069",
     "status": "completed"
    },
    "tags": []
   },
   "outputs": [],
   "source": [
    "dataset_dir = \"../input/hackereath-holiday-season-deep-learning-contest/dataset/\"\n",
    "mini_batch_size = 64\n",
    "steps_per_epoch = int(np.ceil(train_df.shape[0] / float(mini_batch_size)))\n",
    "validation_steps = int(np.ceil(validation_df.shape[0] / float(mini_batch_size)))\n",
    "test_steps = int(np.ceil(test_df.shape[0] / float(mini_batch_size)))\n",
    "image_dim = (320, 320, 3)"
   ]
  },
  {
   "cell_type": "markdown",
   "metadata": {
    "papermill": {
     "duration": 0.03175,
     "end_time": "2021-01-28T12:53:37.257673",
     "exception": false,
     "start_time": "2021-01-28T12:53:37.225923",
     "status": "completed"
    },
    "tags": []
   },
   "source": [
    "## Configure image generators"
   ]
  },
  {
   "cell_type": "code",
   "execution_count": 13,
   "metadata": {
    "execution": {
     "iopub.execute_input": "2021-01-28T12:53:37.334588Z",
     "iopub.status.busy": "2021-01-28T12:53:37.332632Z",
     "iopub.status.idle": "2021-01-28T12:53:37.338700Z",
     "shell.execute_reply": "2021-01-28T12:53:37.338154Z"
    },
    "papermill": {
     "duration": 0.048068,
     "end_time": "2021-01-28T12:53:37.338805",
     "exception": false,
     "start_time": "2021-01-28T12:53:37.290737",
     "status": "completed"
    },
    "tags": []
   },
   "outputs": [],
   "source": [
    "def train_generator():\n",
    "\n",
    "    while True:\n",
    "        train_datagen = ImageDataGenerator(rotation_range = 30,\n",
    "                                           zoom_range = 0.2,\n",
    "                                           horizontal_flip = True,\n",
    "                                           fill_mode = 'nearest',\n",
    "                                           height_shift_range = 0.1,\n",
    "                                           width_shift_range = 0.1)\n",
    "\n",
    "        batches = train_datagen.flow_from_dataframe(train_df,\n",
    "                                                    directory = os.path.join(dataset_dir,\"train\"),\n",
    "                                                    x_col = \"Image\", \n",
    "                                                    y_col = \"Class_enc\",\n",
    "                                                    target_size = (image_dim[0], image_dim[1]),\n",
    "                                                    batch_size = mini_batch_size,\n",
    "                                                    class_mode = \"categorical\",\n",
    "                                                    interpolation=\"bicubic\")\n",
    "\n",
    "        idx0 = 0\n",
    "        for batch in batches:\n",
    "            idx1 = idx0 + batch[0].shape[0]\n",
    "\n",
    "            yield [batch[0], batch[0], batch[0], batch[0]], batch[1]\n",
    "\n",
    "            idx0 = idx1\n",
    "            if idx1 >= train_df.shape[0]:\n",
    "                break"
   ]
  },
  {
   "cell_type": "code",
   "execution_count": 14,
   "metadata": {
    "execution": {
     "iopub.execute_input": "2021-01-28T12:53:37.415135Z",
     "iopub.status.busy": "2021-01-28T12:53:37.414021Z",
     "iopub.status.idle": "2021-01-28T12:53:37.417199Z",
     "shell.execute_reply": "2021-01-28T12:53:37.416670Z"
    },
    "papermill": {
     "duration": 0.046242,
     "end_time": "2021-01-28T12:53:37.417302",
     "exception": false,
     "start_time": "2021-01-28T12:53:37.371060",
     "status": "completed"
    },
    "tags": []
   },
   "outputs": [],
   "source": [
    "def validation_generator():\n",
    "\n",
    "    while True:\n",
    "        validation_datagen = ImageDataGenerator()\n",
    "\n",
    "        batches = validation_datagen.flow_from_dataframe(validation_df,\n",
    "                                                         directory = os.path.join(dataset_dir,\"train\"),\n",
    "                                                         x_col = \"Image\",\n",
    "                                                         y_col = \"Class_enc\",\n",
    "                                                         shuffle=False,\n",
    "                                                         target_size = (image_dim[0], image_dim[1]),\n",
    "                                                         batch_size = mini_batch_size,\n",
    "                                                         class_mode = \"categorical\",\n",
    "                                                         interpolation=\"bicubic\")\n",
    "\n",
    "        idx0 = 0\n",
    "        for batch in batches:\n",
    "            idx1 = idx0 + batch[0].shape[0]\n",
    "\n",
    "            yield [batch[0], batch[0], batch[0], batch[0]], batch[1]\n",
    "\n",
    "            idx0 = idx1\n",
    "            if idx1 >= validation_df.shape[0]:\n",
    "                break"
   ]
  },
  {
   "cell_type": "code",
   "execution_count": 15,
   "metadata": {
    "execution": {
     "iopub.execute_input": "2021-01-28T12:53:37.496583Z",
     "iopub.status.busy": "2021-01-28T12:53:37.495384Z",
     "iopub.status.idle": "2021-01-28T12:53:37.497497Z",
     "shell.execute_reply": "2021-01-28T12:53:37.498074Z"
    },
    "papermill": {
     "duration": 0.048418,
     "end_time": "2021-01-28T12:53:37.498296",
     "exception": false,
     "start_time": "2021-01-28T12:53:37.449878",
     "status": "completed"
    },
    "tags": []
   },
   "outputs": [],
   "source": [
    "def test_generator():\n",
    "\n",
    "    while True:\n",
    "        test_datagen = ImageDataGenerator()\n",
    "\n",
    "        batches = test_datagen.flow_from_dataframe(test_df,\n",
    "                                                   directory = os.path.join(dataset_dir,\"test\"),\n",
    "                                                   x_col = \"Image\",\n",
    "                                                   y_col = \"Class\",\n",
    "                                                   shuffle=False,\n",
    "                                                   target_size = (image_dim[0], image_dim[1]),\n",
    "                                                   batch_size = mini_batch_size,\n",
    "                                                   class_mode = \"categorical\",\n",
    "                                                   interpolation=\"bicubic\")\n",
    "\n",
    "        idx0 = 0\n",
    "        for batch in batches:\n",
    "            idx1 = idx0 + batch[0].shape[0]\n",
    "\n",
    "            yield [batch[0], batch[0], batch[0], batch[0]], batch[1]\n",
    "\n",
    "            idx0 = idx1\n",
    "            if idx1 >= test_df.shape[0]:\n",
    "                break"
   ]
  },
  {
   "cell_type": "markdown",
   "metadata": {
    "papermill": {
     "duration": 0.034213,
     "end_time": "2021-01-28T12:53:37.565477",
     "exception": false,
     "start_time": "2021-01-28T12:53:37.531264",
     "status": "completed"
    },
    "tags": []
   },
   "source": [
    "## Build and validate the model"
   ]
  },
  {
   "cell_type": "code",
   "execution_count": 16,
   "metadata": {
    "execution": {
     "iopub.execute_input": "2021-01-28T12:53:37.645783Z",
     "iopub.status.busy": "2021-01-28T12:53:37.645008Z",
     "iopub.status.idle": "2021-01-28T12:53:37.649079Z",
     "shell.execute_reply": "2021-01-28T12:53:37.648530Z"
    },
    "papermill": {
     "duration": 0.050318,
     "end_time": "2021-01-28T12:53:37.649185",
     "exception": false,
     "start_time": "2021-01-28T12:53:37.598867",
     "status": "completed"
    },
    "tags": []
   },
   "outputs": [],
   "source": [
    "def head(x1, x2, x3, x4):\n",
    "    \n",
    "    x = Concatenate()([x1, x2, x3, x4])\n",
    "    \n",
    "    x = Dense(units=2048, kernel_regularizer=l2(0.0001), \n",
    "              kernel_initializer='he_uniform')(x)\n",
    "    x = BatchNormalization()(x)\n",
    "    x = Activation('relu')(x)\n",
    "    x = Dropout(rate=0.5)(x)\n",
    "    \n",
    "    x = Dense(units=1024, kernel_regularizer=l2(0.0001), \n",
    "              kernel_initializer='he_uniform')(x)\n",
    "    x = BatchNormalization()(x)\n",
    "    x = Activation('relu')(x)\n",
    "    x = Dropout(rate=0.5)(x)\n",
    "    \n",
    "    x = Dense(units=1024, kernel_regularizer=l2(0.0001), \n",
    "              kernel_initializer='he_uniform')(x)\n",
    "    x = BatchNormalization()(x)\n",
    "    x = Activation('relu')(x)\n",
    "    x = Dropout(rate=0.5)(x)\n",
    "    \n",
    "    x = Dense(units=512, kernel_regularizer=l2(0.0001), \n",
    "              kernel_initializer='he_uniform')(x)\n",
    "    x = BatchNormalization()(x)\n",
    "    x = Activation('relu')(x)\n",
    "    x = Dropout(rate=0.5)(x)\n",
    "    \n",
    "    x = Dense(units=6, activation='softmax', \n",
    "              kernel_initializer='he_uniform')(x)\n",
    "\n",
    "    return x"
   ]
  },
  {
   "cell_type": "code",
   "execution_count": 17,
   "metadata": {
    "execution": {
     "iopub.execute_input": "2021-01-28T12:53:37.734318Z",
     "iopub.status.busy": "2021-01-28T12:53:37.733466Z",
     "iopub.status.idle": "2021-01-28T12:54:23.226042Z",
     "shell.execute_reply": "2021-01-28T12:54:23.224440Z"
    },
    "papermill": {
     "duration": 45.544266,
     "end_time": "2021-01-28T12:54:23.226181",
     "exception": false,
     "start_time": "2021-01-28T12:53:37.681915",
     "status": "completed"
    },
    "tags": []
   },
   "outputs": [
    {
     "name": "stderr",
     "output_type": "stream",
     "text": [
      "100%|██████████| 440/440 [00:00<00:00, 13428.32it/s]\n",
      "100%|██████████| 530/530 [00:00<00:00, 16749.15it/s]\n",
      "100%|██████████| 632/632 [00:00<00:00, 22161.84it/s]\n",
      "100%|██████████| 722/722 [00:00<00:00, 28364.58it/s]\n"
     ]
    }
   ],
   "source": [
    "# Load the pre-trained models\n",
    "base_model1 = load_model('../input/holiday-season-enetb3-mav4/hackerearth_holiday_season_model.h5')\n",
    "base_model2 = load_model('../input/holiday-season-enetb4-mav34/hackerearth_holiday_season_model.h5')\n",
    "base_model3 = load_model('../input/holiday-season-enetb5-mav4/hackerearth_holiday_season_model.h5')\n",
    "base_model4 = load_model('../input/holiday-season-enetb6-mav4/hackerearth_holiday_season_model.h5')\n",
    "\n",
    "# Freeze weights for base models\n",
    "for layer in base_model1.layers:\n",
    "    layer.trainable = False\n",
    "\n",
    "for layer in base_model2.layers:\n",
    "    layer.trainable = False\n",
    "    \n",
    "for layer in base_model3.layers:\n",
    "    layer.trainable = False\n",
    "\n",
    "for layer in base_model4.layers:\n",
    "    layer.trainable = False\n",
    "\n",
    "# Update layer names for base models\n",
    "for layer in tqdm(base_model1.layers):\n",
    "    layer._name = 'm1_' + layer.name\n",
    "\n",
    "for layer in tqdm(base_model2.layers):\n",
    "    layer._name = 'm2_' + layer.name\n",
    "\n",
    "for layer in tqdm(base_model3.layers):\n",
    "    layer._name = 'm3_' + layer.name\n",
    "\n",
    "for layer in tqdm(base_model4.layers):\n",
    "    layer._name = 'm4_' + layer.name\n",
    "\n",
    "# Build the model\n",
    "model = Model(inputs=[base_model1.input, base_model2.input, \n",
    "                      base_model3.input, base_model4.input], \n",
    "              outputs=head(base_model1.get_layer('m1_activation_11').output, \n",
    "                           base_model2.get_layer('m2_activation_11').output,\n",
    "                           base_model3.get_layer('m3_activation_11').output,\n",
    "                           base_model4.get_layer('m4_activation_11').output),\n",
    "              name='HackerEarth_Holiday_Season_Model')\n",
    "\n",
    "# Compile the final model\n",
    "model.compile(loss='categorical_crossentropy', \n",
    "              metrics=[F1Score(num_classes=6, average='weighted'), \n",
    "                       'categorical_accuracy'],\n",
    "              optimizer=Lookahead(AdamW(lr=1e-3, \n",
    "                                        weight_decay=1e-5, \n",
    "                                        clipvalue=700), \n",
    "                                  sync_period=10))\n",
    "\n",
    "# Configure model callbacks\n",
    "early = EarlyStopping(monitor=\"val_loss\", mode=\"min\", patience=5, \n",
    "                      restore_best_weights=True, verbose=1)\n",
    "\n",
    "reduce_lr = ReduceLROnPlateau(monitor=\"val_loss\", factor=0.1, \n",
    "                              min_lr=1e-6, patience=3, \n",
    "                              verbose=1, mode='min')\n",
    "\n",
    "chk_point = ModelCheckpoint('hackerearth_holiday_season_model.h5', \n",
    "                            monitor='val_loss', verbose=1, \n",
    "                            save_best_only=True, mode='min')"
   ]
  },
  {
   "cell_type": "code",
   "execution_count": 18,
   "metadata": {
    "execution": {
     "iopub.execute_input": "2021-01-28T12:54:23.320789Z",
     "iopub.status.busy": "2021-01-28T12:54:23.319713Z",
     "iopub.status.idle": "2021-01-28T15:35:00.747979Z",
     "shell.execute_reply": "2021-01-28T15:35:00.746903Z"
    },
    "papermill": {
     "duration": 9637.485823,
     "end_time": "2021-01-28T15:35:00.748135",
     "exception": false,
     "start_time": "2021-01-28T12:54:23.262312",
     "status": "completed"
    },
    "tags": []
   },
   "outputs": [
    {
     "name": "stdout",
     "output_type": "stream",
     "text": [
      "Found 5498 validated image filenames belonging to 6 classes.\n",
      "Epoch 1/35\n",
      "85/86 [============================>.] - ETA: 3s - loss: 1.0969 - f1_score: 0.9390 - categorical_accuracy: 0.9375Found 5498 validated image filenames belonging to 6 classes.\n",
      "86/86 [==============================] - ETA: 0s - loss: 1.0966 - f1_score: 0.9390 - categorical_accuracy: 0.9376Found 971 validated image filenames belonging to 6 classes.\n",
      "Found 971 validated image filenames belonging to 6 classes.\n",
      "\n",
      "Epoch 00001: val_loss improved from inf to 1.27783, saving model to hackerearth_holiday_season_model.h5\n",
      "86/86 [==============================] - 316s 4s/step - loss: 1.0966 - f1_score: 0.9390 - categorical_accuracy: 0.9376 - val_loss: 1.2778 - val_f1_score: 0.9496 - val_categorical_accuracy: 0.9495\n",
      "Epoch 2/35\n",
      "86/86 [==============================] - ETA: 0s - loss: 0.9866 - f1_score: 0.9784 - categorical_accuracy: 0.9784Found 5498 validated image filenames belonging to 6 classes.\n",
      "Found 971 validated image filenames belonging to 6 classes.\n",
      "\n",
      "Epoch 00002: val_loss improved from 1.27783 to 1.19009, saving model to hackerearth_holiday_season_model.h5\n",
      "86/86 [==============================] - 280s 3s/step - loss: 0.9866 - f1_score: 0.9784 - categorical_accuracy: 0.9784 - val_loss: 1.1901 - val_f1_score: 0.9472 - val_categorical_accuracy: 0.9475\n",
      "Epoch 3/35\n",
      "85/86 [============================>.] - ETA: 2s - loss: 0.9157 - f1_score: 0.9818 - categorical_accuracy: 0.9818Found 5498 validated image filenames belonging to 6 classes.\n",
      "86/86 [==============================] - ETA: 0s - loss: 0.9159 - f1_score: 0.9817 - categorical_accuracy: 0.9816Found 971 validated image filenames belonging to 6 classes.\n",
      "\n",
      "Epoch 00003: val_loss improved from 1.19009 to 1.09587, saving model to hackerearth_holiday_season_model.h5\n",
      "86/86 [==============================] - 279s 3s/step - loss: 0.9159 - f1_score: 0.9817 - categorical_accuracy: 0.9816 - val_loss: 1.0959 - val_f1_score: 0.9493 - val_categorical_accuracy: 0.9495\n",
      "Epoch 4/35\n",
      "85/86 [============================>.] - ETA: 2s - loss: 0.8454 - f1_score: 0.9835 - categorical_accuracy: 0.9835Found 5498 validated image filenames belonging to 6 classes.\n",
      "86/86 [==============================] - ETA: 0s - loss: 0.8450 - f1_score: 0.9835 - categorical_accuracy: 0.9834Found 971 validated image filenames belonging to 6 classes.\n",
      "\n",
      "Epoch 00004: val_loss improved from 1.09587 to 1.05499, saving model to hackerearth_holiday_season_model.h5\n",
      "86/86 [==============================] - 285s 3s/step - loss: 0.8450 - f1_score: 0.9835 - categorical_accuracy: 0.9834 - val_loss: 1.0550 - val_f1_score: 0.9441 - val_categorical_accuracy: 0.9444\n",
      "Epoch 5/35\n",
      "85/86 [============================>.] - ETA: 2s - loss: 0.7816 - f1_score: 0.9820 - categorical_accuracy: 0.9820Found 5498 validated image filenames belonging to 6 classes.\n",
      "86/86 [==============================] - ETA: 0s - loss: 0.7812 - f1_score: 0.9822 - categorical_accuracy: 0.9822Found 971 validated image filenames belonging to 6 classes.\n",
      "\n",
      "Epoch 00005: val_loss improved from 1.05499 to 0.98610, saving model to hackerearth_holiday_season_model.h5\n",
      "86/86 [==============================] - 284s 3s/step - loss: 0.7812 - f1_score: 0.9822 - categorical_accuracy: 0.9822 - val_loss: 0.9861 - val_f1_score: 0.9462 - val_categorical_accuracy: 0.9464\n",
      "Epoch 6/35\n",
      "85/86 [============================>.] - ETA: 2s - loss: 0.7217 - f1_score: 0.9824 - categorical_accuracy: 0.9824Found 5498 validated image filenames belonging to 6 classes.\n",
      "86/86 [==============================] - ETA: 0s - loss: 0.7213 - f1_score: 0.9826 - categorical_accuracy: 0.9825Found 971 validated image filenames belonging to 6 classes.\n",
      "\n",
      "Epoch 00006: val_loss improved from 0.98610 to 0.92308, saving model to hackerearth_holiday_season_model.h5\n",
      "86/86 [==============================] - 285s 3s/step - loss: 0.7213 - f1_score: 0.9826 - categorical_accuracy: 0.9825 - val_loss: 0.9231 - val_f1_score: 0.9474 - val_categorical_accuracy: 0.9475\n",
      "Epoch 7/35\n",
      "86/86 [==============================] - ETA: 0s - loss: 0.6618 - f1_score: 0.9851 - categorical_accuracy: 0.9851Found 5498 validated image filenames belonging to 6 classes.\n",
      "Found 971 validated image filenames belonging to 6 classes.\n",
      "\n",
      "Epoch 00007: val_loss improved from 0.92308 to 0.88231, saving model to hackerearth_holiday_season_model.h5\n",
      "86/86 [==============================] - 285s 3s/step - loss: 0.6618 - f1_score: 0.9851 - categorical_accuracy: 0.9851 - val_loss: 0.8823 - val_f1_score: 0.9473 - val_categorical_accuracy: 0.9475\n",
      "Epoch 8/35\n",
      "85/86 [============================>.] - ETA: 2s - loss: 0.6079 - f1_score: 0.9873 - categorical_accuracy: 0.9873Found 5498 validated image filenames belonging to 6 classes.\n",
      "86/86 [==============================] - ETA: 0s - loss: 0.6076 - f1_score: 0.9875 - categorical_accuracy: 0.9875Found 971 validated image filenames belonging to 6 classes.\n",
      "\n",
      "Epoch 00008: val_loss did not improve from 0.88231\n",
      "86/86 [==============================] - 278s 3s/step - loss: 0.6076 - f1_score: 0.9875 - categorical_accuracy: 0.9875 - val_loss: 0.8901 - val_f1_score: 0.9452 - val_categorical_accuracy: 0.9454\n",
      "Epoch 9/35\n",
      "85/86 [============================>.] - ETA: 2s - loss: 0.5631 - f1_score: 0.9848 - categorical_accuracy: 0.9847Found 5498 validated image filenames belonging to 6 classes.\n",
      "86/86 [==============================] - ETA: 0s - loss: 0.5629 - f1_score: 0.9847 - categorical_accuracy: 0.9847Found 971 validated image filenames belonging to 6 classes.\n",
      "\n",
      "Epoch 00009: val_loss improved from 0.88231 to 0.79155, saving model to hackerearth_holiday_season_model.h5\n",
      "86/86 [==============================] - 283s 3s/step - loss: 0.5629 - f1_score: 0.9847 - categorical_accuracy: 0.9847 - val_loss: 0.7916 - val_f1_score: 0.9452 - val_categorical_accuracy: 0.9454\n",
      "Epoch 10/35\n",
      "86/86 [==============================] - ETA: 0s - loss: 0.5199 - f1_score: 0.9858 - categorical_accuracy: 0.9858Found 5498 validated image filenames belonging to 6 classes.\n",
      "Found 971 validated image filenames belonging to 6 classes.\n",
      "\n",
      "Epoch 00010: val_loss improved from 0.79155 to 0.78255, saving model to hackerearth_holiday_season_model.h5\n",
      "86/86 [==============================] - 290s 3s/step - loss: 0.5199 - f1_score: 0.9858 - categorical_accuracy: 0.9858 - val_loss: 0.7826 - val_f1_score: 0.9422 - val_categorical_accuracy: 0.9423\n",
      "Epoch 11/35\n",
      "85/86 [============================>.] - ETA: 2s - loss: 0.4823 - f1_score: 0.9831 - categorical_accuracy: 0.9831Found 5498 validated image filenames belonging to 6 classes.\n",
      "86/86 [==============================] - ETA: 0s - loss: 0.4820 - f1_score: 0.9833 - categorical_accuracy: 0.9833Found 971 validated image filenames belonging to 6 classes.\n",
      "\n",
      "Epoch 00011: val_loss improved from 0.78255 to 0.71362, saving model to hackerearth_holiday_season_model.h5\n",
      "86/86 [==============================] - 289s 3s/step - loss: 0.4820 - f1_score: 0.9833 - categorical_accuracy: 0.9833 - val_loss: 0.7136 - val_f1_score: 0.9482 - val_categorical_accuracy: 0.9485\n",
      "Epoch 12/35\n",
      "86/86 [==============================] - ETA: 0s - loss: 0.4456 - f1_score: 0.9855 - categorical_accuracy: 0.9854Found 5498 validated image filenames belonging to 6 classes.\n",
      "Found 971 validated image filenames belonging to 6 classes.\n",
      "\n",
      "Epoch 00012: val_loss improved from 0.71362 to 0.68225, saving model to hackerearth_holiday_season_model.h5\n",
      "86/86 [==============================] - 288s 3s/step - loss: 0.4456 - f1_score: 0.9855 - categorical_accuracy: 0.9854 - val_loss: 0.6822 - val_f1_score: 0.9461 - val_categorical_accuracy: 0.9464\n",
      "Epoch 13/35\n",
      "86/86 [==============================] - ETA: 0s - loss: 0.4153 - f1_score: 0.9835 - categorical_accuracy: 0.9834Found 5498 validated image filenames belonging to 6 classes.\n",
      "Found 971 validated image filenames belonging to 6 classes.\n",
      "\n",
      "Epoch 00013: val_loss improved from 0.68225 to 0.65649, saving model to hackerearth_holiday_season_model.h5\n",
      "86/86 [==============================] - 288s 3s/step - loss: 0.4153 - f1_score: 0.9835 - categorical_accuracy: 0.9834 - val_loss: 0.6565 - val_f1_score: 0.9461 - val_categorical_accuracy: 0.9464\n",
      "Epoch 14/35\n",
      "85/86 [============================>.] - ETA: 2s - loss: 0.3860 - f1_score: 0.9848 - categorical_accuracy: 0.9847Found 5498 validated image filenames belonging to 6 classes.\n",
      "86/86 [==============================] - ETA: 0s - loss: 0.3860 - f1_score: 0.9847 - categorical_accuracy: 0.9847Found 971 validated image filenames belonging to 6 classes.\n",
      "\n",
      "Epoch 00014: val_loss improved from 0.65649 to 0.59606, saving model to hackerearth_holiday_season_model.h5\n",
      "86/86 [==============================] - 290s 3s/step - loss: 0.3860 - f1_score: 0.9847 - categorical_accuracy: 0.9847 - val_loss: 0.5961 - val_f1_score: 0.9431 - val_categorical_accuracy: 0.9434\n",
      "Epoch 15/35\n",
      "85/86 [============================>.] - ETA: 2s - loss: 0.3629 - f1_score: 0.9811 - categorical_accuracy: 0.9811Found 5498 validated image filenames belonging to 6 classes.\n",
      "86/86 [==============================] - ETA: 0s - loss: 0.3630 - f1_score: 0.9806 - categorical_accuracy: 0.9805Found 971 validated image filenames belonging to 6 classes.\n",
      "\n",
      "Epoch 00015: val_loss did not improve from 0.59606\n",
      "86/86 [==============================] - 281s 3s/step - loss: 0.3630 - f1_score: 0.9806 - categorical_accuracy: 0.9805 - val_loss: 0.6146 - val_f1_score: 0.9451 - val_categorical_accuracy: 0.9454\n",
      "Epoch 16/35\n",
      "85/86 [============================>.] - ETA: 2s - loss: 0.3370 - f1_score: 0.9842 - categorical_accuracy: 0.9842Found 5498 validated image filenames belonging to 6 classes.\n",
      "86/86 [==============================] - ETA: 0s - loss: 0.3369 - f1_score: 0.9842 - categorical_accuracy: 0.9842Found 971 validated image filenames belonging to 6 classes.\n",
      "\n",
      "Epoch 00016: val_loss improved from 0.59606 to 0.56894, saving model to hackerearth_holiday_season_model.h5\n",
      "86/86 [==============================] - 289s 3s/step - loss: 0.3369 - f1_score: 0.9842 - categorical_accuracy: 0.9842 - val_loss: 0.5689 - val_f1_score: 0.9515 - val_categorical_accuracy: 0.9516\n",
      "Epoch 17/35\n",
      "85/86 [============================>.] - ETA: 2s - loss: 0.3161 - f1_score: 0.9842 - categorical_accuracy: 0.9842Found 5498 validated image filenames belonging to 6 classes.\n",
      "86/86 [==============================] - ETA: 0s - loss: 0.3160 - f1_score: 0.9842 - categorical_accuracy: 0.9842Found 971 validated image filenames belonging to 6 classes.\n",
      "Found 971 validated image filenames belonging to 6 classes.\n",
      "\n",
      "Epoch 00017: val_loss improved from 0.56894 to 0.54595, saving model to hackerearth_holiday_season_model.h5\n",
      "86/86 [==============================] - 291s 3s/step - loss: 0.3160 - f1_score: 0.9842 - categorical_accuracy: 0.9842 - val_loss: 0.5459 - val_f1_score: 0.9474 - val_categorical_accuracy: 0.9475\n",
      "Epoch 18/35\n",
      "86/86 [==============================] - ETA: 0s - loss: 0.2960 - f1_score: 0.9875 - categorical_accuracy: 0.9875Found 5498 validated image filenames belonging to 6 classes.\n",
      "Found 971 validated image filenames belonging to 6 classes.\n",
      "\n",
      "Epoch 00018: val_loss improved from 0.54595 to 0.52669, saving model to hackerearth_holiday_season_model.h5\n",
      "86/86 [==============================] - 291s 3s/step - loss: 0.2960 - f1_score: 0.9875 - categorical_accuracy: 0.9875 - val_loss: 0.5267 - val_f1_score: 0.9482 - val_categorical_accuracy: 0.9485\n",
      "Epoch 19/35\n",
      "85/86 [============================>.] - ETA: 2s - loss: 0.2834 - f1_score: 0.9826 - categorical_accuracy: 0.9825Found 5498 validated image filenames belonging to 6 classes.\n",
      "86/86 [==============================] - ETA: 0s - loss: 0.2834 - f1_score: 0.9822 - categorical_accuracy: 0.9822Found 971 validated image filenames belonging to 6 classes.\n",
      "\n",
      "Epoch 00019: val_loss did not improve from 0.52669\n",
      "86/86 [==============================] - 283s 3s/step - loss: 0.2834 - f1_score: 0.9822 - categorical_accuracy: 0.9822 - val_loss: 0.5354 - val_f1_score: 0.9482 - val_categorical_accuracy: 0.9485\n",
      "Epoch 20/35\n",
      "85/86 [============================>.] - ETA: 2s - loss: 0.2720 - f1_score: 0.9837 - categorical_accuracy: 0.9836Found 5498 validated image filenames belonging to 6 classes.\n",
      "86/86 [==============================] - ETA: 0s - loss: 0.2718 - f1_score: 0.9837 - categorical_accuracy: 0.9836Found 971 validated image filenames belonging to 6 classes.\n",
      "\n",
      "Epoch 00020: val_loss improved from 0.52669 to 0.51686, saving model to hackerearth_holiday_season_model.h5\n",
      "86/86 [==============================] - 291s 3s/step - loss: 0.2718 - f1_score: 0.9837 - categorical_accuracy: 0.9836 - val_loss: 0.5169 - val_f1_score: 0.9495 - val_categorical_accuracy: 0.9495\n",
      "Epoch 21/35\n",
      "86/86 [==============================] - ETA: 0s - loss: 0.2606 - f1_score: 0.9813 - categorical_accuracy: 0.9813Found 5498 validated image filenames belonging to 6 classes.\n",
      "Found 971 validated image filenames belonging to 6 classes.\n",
      "\n",
      "Epoch 00021: val_loss improved from 0.51686 to 0.46650, saving model to hackerearth_holiday_season_model.h5\n",
      "86/86 [==============================] - 291s 3s/step - loss: 0.2606 - f1_score: 0.9813 - categorical_accuracy: 0.9813 - val_loss: 0.4665 - val_f1_score: 0.9484 - val_categorical_accuracy: 0.9485\n",
      "Epoch 22/35\n",
      "85/86 [============================>.] - ETA: 2s - loss: 0.2515 - f1_score: 0.9811 - categorical_accuracy: 0.9811Found 5498 validated image filenames belonging to 6 classes.\n",
      "86/86 [==============================] - ETA: 0s - loss: 0.2514 - f1_score: 0.9811 - categorical_accuracy: 0.9811Found 971 validated image filenames belonging to 6 classes.\n",
      "\n",
      "Epoch 00022: val_loss improved from 0.46650 to 0.45135, saving model to hackerearth_holiday_season_model.h5\n",
      "86/86 [==============================] - 291s 3s/step - loss: 0.2514 - f1_score: 0.9811 - categorical_accuracy: 0.9811 - val_loss: 0.4513 - val_f1_score: 0.9505 - val_categorical_accuracy: 0.9506\n",
      "Epoch 23/35\n",
      "85/86 [============================>.] - ETA: 2s - loss: 0.2414 - f1_score: 0.9796 - categorical_accuracy: 0.9796Found 5498 validated image filenames belonging to 6 classes.\n",
      "86/86 [==============================] - ETA: 0s - loss: 0.2413 - f1_score: 0.9797 - categorical_accuracy: 0.9796Found 971 validated image filenames belonging to 6 classes.\n",
      "\n",
      "Epoch 00023: val_loss did not improve from 0.45135\n",
      "86/86 [==============================] - 283s 3s/step - loss: 0.2413 - f1_score: 0.9797 - categorical_accuracy: 0.9796 - val_loss: 0.4864 - val_f1_score: 0.9464 - val_categorical_accuracy: 0.9464\n",
      "Epoch 24/35\n",
      "85/86 [============================>.] - ETA: 2s - loss: 0.2316 - f1_score: 0.9826 - categorical_accuracy: 0.9825Found 5498 validated image filenames belonging to 6 classes.\n",
      "86/86 [==============================] - ETA: 0s - loss: 0.2318 - f1_score: 0.9824 - categorical_accuracy: 0.9824Found 971 validated image filenames belonging to 6 classes.\n",
      "\n",
      "Epoch 00024: val_loss did not improve from 0.45135\n",
      "86/86 [==============================] - 282s 3s/step - loss: 0.2318 - f1_score: 0.9824 - categorical_accuracy: 0.9824 - val_loss: 0.4847 - val_f1_score: 0.9474 - val_categorical_accuracy: 0.9475\n",
      "Epoch 25/35\n",
      "85/86 [============================>.] - ETA: 2s - loss: 0.2236 - f1_score: 0.9814 - categorical_accuracy: 0.9814Found 5498 validated image filenames belonging to 6 classes.\n",
      "86/86 [==============================] - ETA: 0s - loss: 0.2234 - f1_score: 0.9815 - categorical_accuracy: 0.9814Found 971 validated image filenames belonging to 6 classes.\n",
      "\n",
      "Epoch 00025: ReduceLROnPlateau reducing learning rate to 0.00010000000474974513.\n",
      "\n",
      "Epoch 00025: val_loss did not improve from 0.45135\n",
      "86/86 [==============================] - 285s 3s/step - loss: 0.2234 - f1_score: 0.9815 - categorical_accuracy: 0.9814 - val_loss: 0.4698 - val_f1_score: 0.9474 - val_categorical_accuracy: 0.9475\n",
      "Epoch 26/35\n",
      "85/86 [============================>.] - ETA: 2s - loss: 0.2183 - f1_score: 0.9853 - categorical_accuracy: 0.9853Found 5498 validated image filenames belonging to 6 classes.\n",
      "86/86 [==============================] - ETA: 0s - loss: 0.2182 - f1_score: 0.9853 - categorical_accuracy: 0.9853Found 971 validated image filenames belonging to 6 classes.\n",
      "\n",
      "Epoch 00026: val_loss improved from 0.45135 to 0.44551, saving model to hackerearth_holiday_season_model.h5\n",
      "86/86 [==============================] - 292s 3s/step - loss: 0.2182 - f1_score: 0.9853 - categorical_accuracy: 0.9853 - val_loss: 0.4455 - val_f1_score: 0.9495 - val_categorical_accuracy: 0.9495\n",
      "Epoch 27/35\n",
      "85/86 [============================>.] - ETA: 3s - loss: 0.2171 - f1_score: 0.9835 - categorical_accuracy: 0.9835Found 5498 validated image filenames belonging to 6 classes.\n",
      "86/86 [==============================] - ETA: 0s - loss: 0.2170 - f1_score: 0.9837 - categorical_accuracy: 0.9836Found 971 validated image filenames belonging to 6 classes.\n",
      "\n",
      "Epoch 00027: val_loss improved from 0.44551 to 0.43906, saving model to hackerearth_holiday_season_model.h5\n",
      "86/86 [==============================] - 295s 3s/step - loss: 0.2170 - f1_score: 0.9837 - categorical_accuracy: 0.9836 - val_loss: 0.4391 - val_f1_score: 0.9505 - val_categorical_accuracy: 0.9506\n",
      "Epoch 28/35\n",
      "85/86 [============================>.] - ETA: 3s - loss: 0.2116 - f1_score: 0.9862 - categorical_accuracy: 0.9862Found 5498 validated image filenames belonging to 6 classes.\n",
      "86/86 [==============================] - ETA: 0s - loss: 0.2116 - f1_score: 0.9864 - categorical_accuracy: 0.9864Found 971 validated image filenames belonging to 6 classes.\n",
      "\n",
      "Epoch 00028: val_loss improved from 0.43906 to 0.43038, saving model to hackerearth_holiday_season_model.h5\n",
      "86/86 [==============================] - 294s 3s/step - loss: 0.2116 - f1_score: 0.9864 - categorical_accuracy: 0.9864 - val_loss: 0.4304 - val_f1_score: 0.9484 - val_categorical_accuracy: 0.9485\n",
      "Epoch 29/35\n",
      "85/86 [============================>.] - ETA: 3s - loss: 0.2107 - f1_score: 0.9879 - categorical_accuracy: 0.9879Found 5498 validated image filenames belonging to 6 classes.\n",
      "86/86 [==============================] - ETA: 0s - loss: 0.2108 - f1_score: 0.9877 - categorical_accuracy: 0.9876Found 971 validated image filenames belonging to 6 classes.\n",
      "\n",
      "Epoch 00029: val_loss did not improve from 0.43038\n",
      "86/86 [==============================] - 291s 3s/step - loss: 0.2108 - f1_score: 0.9877 - categorical_accuracy: 0.9876 - val_loss: 0.4394 - val_f1_score: 0.9485 - val_categorical_accuracy: 0.9485\n",
      "Epoch 30/35\n",
      "85/86 [============================>.] - ETA: 3s - loss: 0.2098 - f1_score: 0.9859 - categorical_accuracy: 0.9858Found 5498 validated image filenames belonging to 6 classes.\n",
      "86/86 [==============================] - ETA: 0s - loss: 0.2098 - f1_score: 0.9860 - categorical_accuracy: 0.9860Found 971 validated image filenames belonging to 6 classes.\n",
      "\n",
      "Epoch 00030: val_loss did not improve from 0.43038\n",
      "86/86 [==============================] - 290s 3s/step - loss: 0.2098 - f1_score: 0.9860 - categorical_accuracy: 0.9860 - val_loss: 0.4416 - val_f1_score: 0.9495 - val_categorical_accuracy: 0.9495\n",
      "Epoch 31/35\n",
      "85/86 [============================>.] - ETA: 3s - loss: 0.2072 - f1_score: 0.9870 - categorical_accuracy: 0.9869Found 5498 validated image filenames belonging to 6 classes.\n",
      "86/86 [==============================] - ETA: 0s - loss: 0.2072 - f1_score: 0.9871 - categorical_accuracy: 0.9871Found 971 validated image filenames belonging to 6 classes.\n",
      "\n",
      "Epoch 00031: ReduceLROnPlateau reducing learning rate to 1.0000000474974514e-05.\n",
      "\n",
      "Epoch 00031: val_loss did not improve from 0.43038\n",
      "86/86 [==============================] - 288s 3s/step - loss: 0.2072 - f1_score: 0.9871 - categorical_accuracy: 0.9871 - val_loss: 0.4339 - val_f1_score: 0.9474 - val_categorical_accuracy: 0.9475\n",
      "Epoch 32/35\n",
      "85/86 [============================>.] - ETA: 2s - loss: 0.2088 - f1_score: 0.9857 - categorical_accuracy: 0.9857Found 5498 validated image filenames belonging to 6 classes.\n",
      "86/86 [==============================] - ETA: 0s - loss: 0.2090 - f1_score: 0.9851 - categorical_accuracy: 0.9851Found 971 validated image filenames belonging to 6 classes.\n",
      "\n",
      "Epoch 00032: val_loss did not improve from 0.43038\n",
      "86/86 [==============================] - 286s 3s/step - loss: 0.2090 - f1_score: 0.9851 - categorical_accuracy: 0.9851 - val_loss: 0.4392 - val_f1_score: 0.9495 - val_categorical_accuracy: 0.9495\n",
      "Epoch 33/35\n",
      "85/86 [============================>.] - ETA: 3s - loss: 0.2080 - f1_score: 0.9859 - categorical_accuracy: 0.9858Found 5498 validated image filenames belonging to 6 classes.\n",
      "86/86 [==============================] - ETA: 0s - loss: 0.2079 - f1_score: 0.9860 - categorical_accuracy: 0.9860Found 971 validated image filenames belonging to 6 classes.\n",
      "Found 971 validated image filenames belonging to 6 classes.\n",
      "Restoring model weights from the end of the best epoch.\n",
      "\n",
      "Epoch 00033: val_loss did not improve from 0.43038\n",
      "86/86 [==============================] - 289s 3s/step - loss: 0.2079 - f1_score: 0.9860 - categorical_accuracy: 0.9860 - val_loss: 0.4392 - val_f1_score: 0.9495 - val_categorical_accuracy: 0.9495\n",
      "Epoch 00033: early stopping\n"
     ]
    }
   ],
   "source": [
    "history = model.fit(\n",
    "    train_generator(), \n",
    "    steps_per_epoch=steps_per_epoch,\n",
    "    class_weight=class_weight, \n",
    "    epochs=35, \n",
    "    verbose=1, \n",
    "    callbacks=[reduce_lr, early, chk_point], \n",
    "    validation_data=validation_generator(),\n",
    "    validation_steps=validation_steps\n",
    ")"
   ]
  },
  {
   "cell_type": "code",
   "execution_count": 19,
   "metadata": {
    "execution": {
     "iopub.execute_input": "2021-01-28T15:35:03.198115Z",
     "iopub.status.busy": "2021-01-28T15:35:03.196973Z",
     "iopub.status.idle": "2021-01-28T15:35:04.272135Z",
     "shell.execute_reply": "2021-01-28T15:35:04.272680Z"
    },
    "papermill": {
     "duration": 2.300512,
     "end_time": "2021-01-28T15:35:04.272822",
     "exception": false,
     "start_time": "2021-01-28T15:35:01.972310",
     "status": "completed"
    },
    "tags": []
   },
   "outputs": [
    {
     "data": {
      "image/png": "[encoded data removed]",
      "text/plain": [
       "<Figure size 2160x720 with 3 Axes>"
      ]
     },
     "metadata": {},
     "output_type": "display_data"
    }
   ],
   "source": [
    "_, ax = plt.subplots(1, 3, figsize=(30, 10))\n",
    "\n",
    "ax[0].plot(history.history['loss'], label='train_loss')\n",
    "ax[0].plot(history.history['val_loss'], label='val_loss')\n",
    "ax[0].set_ylabel('Loss')\n",
    "ax[0].set_xlabel('Epoch')\n",
    "ax[0].set_title(\"Model Loss Curve\")\n",
    "ax[0].legend()\n",
    "ax[0].grid()\n",
    "\n",
    "ax[1].plot(history.history['f1_score'], label='train_f1_score')\n",
    "ax[1].plot(history.history['val_f1_score'], label='val_f1_score')\n",
    "ax[1].set_ylabel('F1-Score')\n",
    "ax[1].set_xlabel('Epoch')\n",
    "ax[1].set_title(\"Model F1-Score Curve\")\n",
    "ax[1].legend()\n",
    "ax[1].grid()\n",
    "\n",
    "ax[2].plot(history.history['categorical_accuracy'], label='train_accuracy')\n",
    "ax[2].plot(history.history['val_categorical_accuracy'], label='val_accuracy')\n",
    "ax[2].set_ylabel('Accuracy')\n",
    "ax[2].set_xlabel('Epoch')\n",
    "ax[2].set_title(\"Model Accuracy Curve\")\n",
    "ax[2].legend()\n",
    "ax[2].grid()"
   ]
  },
  {
   "cell_type": "markdown",
   "metadata": {
    "papermill": {
     "duration": 1.412325,
     "end_time": "2021-01-28T15:35:06.985784",
     "exception": false,
     "start_time": "2021-01-28T15:35:05.573459",
     "status": "completed"
    },
    "tags": []
   },
   "source": [
    "## Check classification report"
   ]
  },
  {
   "cell_type": "code",
   "execution_count": 20,
   "metadata": {
    "execution": {
     "iopub.execute_input": "2021-01-28T15:35:09.383537Z",
     "iopub.status.busy": "2021-01-28T15:35:09.382501Z",
     "iopub.status.idle": "2021-01-28T15:35:13.951377Z",
     "shell.execute_reply": "2021-01-28T15:35:13.950629Z"
    },
    "papermill": {
     "duration": 5.757654,
     "end_time": "2021-01-28T15:35:13.951513",
     "exception": false,
     "start_time": "2021-01-28T15:35:08.193859",
     "status": "completed"
    },
    "tags": []
   },
   "outputs": [],
   "source": [
    "# Build the model\n",
    "model = Model(inputs=[base_model1.input, base_model2.input, \n",
    "                      base_model3.input, base_model4.input], \n",
    "              outputs=head(base_model1.get_layer('m1_activation_11').output, \n",
    "                           base_model2.get_layer('m2_activation_11').output,\n",
    "                           base_model3.get_layer('m3_activation_11').output,\n",
    "                           base_model4.get_layer('m4_activation_11').output),\n",
    "              name='HackerEarth_Holiday_Season_Model')\n",
    "\n",
    "# Compile the final model\n",
    "model.compile(loss='categorical_crossentropy', \n",
    "              metrics=[F1Score(num_classes=6, average='weighted'), \n",
    "                       'categorical_accuracy'],\n",
    "              optimizer=Lookahead(AdamW(lr=1e-3, \n",
    "                                        weight_decay=1e-5, \n",
    "                                        clipvalue=700), \n",
    "                                  sync_period=10))\n",
    "\n",
    "model.load_weights('./hackerearth_holiday_season_model.h5')"
   ]
  },
  {
   "cell_type": "code",
   "execution_count": 21,
   "metadata": {
    "execution": {
     "iopub.execute_input": "2021-01-28T15:35:16.977753Z",
     "iopub.status.busy": "2021-01-28T15:35:16.976700Z",
     "iopub.status.idle": "2021-01-28T15:36:00.956319Z",
     "shell.execute_reply": "2021-01-28T15:36:00.957514Z"
    },
    "papermill": {
     "duration": 45.555665,
     "end_time": "2021-01-28T15:36:00.957721",
     "exception": false,
     "start_time": "2021-01-28T15:35:15.402056",
     "status": "completed"
    },
    "tags": []
   },
   "outputs": [
    {
     "name": "stdout",
     "output_type": "stream",
     "text": [
      "Found 971 validated image filenames belonging to 6 classes.\n",
      "15/16 [===========================>..] - ETA: 1sFound 971 validated image filenames belonging to 6 classes.\n",
      "16/16 [==============================] - 25s 2s/step\n",
      "              precision    recall  f1-score   support\n",
      "\n",
      "           0       1.00      0.94      0.97        80\n",
      "           1       0.93      0.89      0.91        89\n",
      "           2       0.96      0.94      0.95       231\n",
      "           3       0.96      0.96      0.96        96\n",
      "           4       0.94      0.97      0.96       421\n",
      "           5       0.89      0.91      0.90        54\n",
      "\n",
      "    accuracy                           0.95       971\n",
      "   macro avg       0.95      0.93      0.94       971\n",
      "weighted avg       0.95      0.95      0.95       971\n",
      "\n"
     ]
    }
   ],
   "source": [
    "y_true = validation_df['Class_enc'].values\n",
    "y_pred = model.predict(validation_generator(), steps=validation_steps, verbose=1)\n",
    "y_pred = np.argmax(y_pred, axis=1)\n",
    "\n",
    "print(classification_report(y_true.astype(int), y_pred))"
   ]
  },
  {
   "cell_type": "code",
   "execution_count": 22,
   "metadata": {
    "execution": {
     "iopub.execute_input": "2021-01-28T15:36:03.409498Z",
     "iopub.status.busy": "2021-01-28T15:36:03.406442Z",
     "iopub.status.idle": "2021-01-28T15:36:03.908068Z",
     "shell.execute_reply": "2021-01-28T15:36:03.908750Z"
    },
    "papermill": {
     "duration": 1.696123,
     "end_time": "2021-01-28T15:36:03.908955",
     "exception": false,
     "start_time": "2021-01-28T15:36:02.212832",
     "status": "completed"
    },
    "tags": []
   },
   "outputs": [
    {
     "data": {
      "image/png": "[encoded data removed]",
      "text/plain": [
       "<Figure size 864x504 with 2 Axes>"
      ]
     },
     "metadata": {},
     "output_type": "display_data"
    }
   ],
   "source": [
    "cnf_matrix = confusion_matrix(y_true.astype(int), y_pred, labels=[0, 1, 2, 3, 4, 5])\n",
    "np.set_printoptions(precision=2)\n",
    "plt.figure(figsize=(12,7))\n",
    "plot_confusion_matrix(cnf_matrix, classes=[0, 1, 2, 3, 4, 5])"
   ]
  },
  {
   "cell_type": "markdown",
   "metadata": {
    "papermill": {
     "duration": 1.181681,
     "end_time": "2021-01-28T15:36:06.279522",
     "exception": false,
     "start_time": "2021-01-28T15:36:05.097841",
     "status": "completed"
    },
    "tags": []
   },
   "source": [
    "## Create submission file"
   ]
  },
  {
   "cell_type": "code",
   "execution_count": 23,
   "metadata": {
    "execution": {
     "iopub.execute_input": "2021-01-28T15:36:08.658476Z",
     "iopub.status.busy": "2021-01-28T15:36:08.657382Z",
     "iopub.status.idle": "2021-01-28T15:36:08.660650Z",
     "shell.execute_reply": "2021-01-28T15:36:08.660120Z"
    },
    "papermill": {
     "duration": 1.197243,
     "end_time": "2021-01-28T15:36:08.660778",
     "exception": false,
     "start_time": "2021-01-28T15:36:07.463535",
     "status": "completed"
    },
    "tags": []
   },
   "outputs": [],
   "source": [
    "rev_class_map = {\n",
    "    0: 'Airplane',\n",
    "    1: 'Candle',\n",
    "    2: 'Christmas_Tree',\n",
    "    3: 'Jacket',\n",
    "    4: 'Miscellaneous',\n",
    "    5: 'Snowman'\n",
    "}"
   ]
  },
  {
   "cell_type": "code",
   "execution_count": 24,
   "metadata": {
    "execution": {
     "iopub.execute_input": "2021-01-28T15:36:11.063905Z",
     "iopub.status.busy": "2021-01-28T15:36:11.062875Z",
     "iopub.status.idle": "2021-01-28T15:37:50.466053Z",
     "shell.execute_reply": "2021-01-28T15:37:50.466972Z"
    },
    "papermill": {
     "duration": 100.584208,
     "end_time": "2021-01-28T15:37:50.467215",
     "exception": false,
     "start_time": "2021-01-28T15:36:09.883007",
     "status": "completed"
    },
    "tags": []
   },
   "outputs": [
    {
     "name": "stdout",
     "output_type": "stream",
     "text": [
      "Found 3489 validated image filenames belonging to 1 classes.\n",
      "54/55 [============================>.] - ETA: 1sFound 3489 validated image filenames belonging to 1 classes.\n",
      "55/55 [==============================] - 95s 2s/step\n",
      "(3489,)\n"
     ]
    }
   ],
   "source": [
    "y_pred_final = model.predict(test_generator(), steps=test_steps, verbose=1)\n",
    "y_pred_final = np.argmax(y_pred_final, axis=1)\n",
    "print(y_pred_final.shape)"
   ]
  },
  {
   "cell_type": "code",
   "execution_count": 25,
   "metadata": {
    "execution": {
     "iopub.execute_input": "2021-01-28T15:37:53.209613Z",
     "iopub.status.busy": "2021-01-28T15:37:53.208480Z",
     "iopub.status.idle": "2021-01-28T15:37:53.213402Z",
     "shell.execute_reply": "2021-01-28T15:37:53.212821Z"
    },
    "papermill": {
     "duration": 1.289615,
     "end_time": "2021-01-28T15:37:53.213514",
     "exception": false,
     "start_time": "2021-01-28T15:37:51.923899",
     "status": "completed"
    },
    "tags": []
   },
   "outputs": [
    {
     "data": {
      "text/html": [
       "<div>\n",
       "<style scoped>\n",
       "    .dataframe tbody tr th:only-of-type {\n",
       "        vertical-align: middle;\n",
       "    }\n",
       "\n",
       "    .dataframe tbody tr th {\n",
       "        vertical-align: top;\n",
       "    }\n",
       "\n",
       "    .dataframe thead th {\n",
       "        text-align: right;\n",
       "    }\n",
       "</style>\n",
       "<table border=\"1\" class=\"dataframe\">\n",
       "  <thead>\n",
       "    <tr style=\"text-align: right;\">\n",
       "      <th></th>\n",
       "      <th>Image</th>\n",
       "      <th>Class</th>\n",
       "    </tr>\n",
       "  </thead>\n",
       "  <tbody>\n",
       "    <tr>\n",
       "      <th>0</th>\n",
       "      <td>image7761.jpg</td>\n",
       "      <td>Miscellaneous</td>\n",
       "    </tr>\n",
       "    <tr>\n",
       "      <th>1</th>\n",
       "      <td>image3202.jpg</td>\n",
       "      <td>Miscellaneous</td>\n",
       "    </tr>\n",
       "    <tr>\n",
       "      <th>2</th>\n",
       "      <td>image688.jpg</td>\n",
       "      <td>Snowman</td>\n",
       "    </tr>\n",
       "    <tr>\n",
       "      <th>3</th>\n",
       "      <td>image233.jpg</td>\n",
       "      <td>Candle</td>\n",
       "    </tr>\n",
       "    <tr>\n",
       "      <th>4</th>\n",
       "      <td>image4332.jpg</td>\n",
       "      <td>Christmas_Tree</td>\n",
       "    </tr>\n",
       "  </tbody>\n",
       "</table>\n",
       "</div>"
      ],
      "text/plain": [
       "           Image           Class\n",
       "0  image7761.jpg   Miscellaneous\n",
       "1  image3202.jpg   Miscellaneous\n",
       "2   image688.jpg         Snowman\n",
       "3   image233.jpg          Candle\n",
       "4  image4332.jpg  Christmas_Tree"
      ]
     },
     "execution_count": 25,
     "metadata": {},
     "output_type": "execute_result"
    }
   ],
   "source": [
    "test_df['Class'] = y_pred_final\n",
    "test_df['Class'] = test_df['Class'].map(rev_class_map)\n",
    "test_df.head()"
   ]
  },
  {
   "cell_type": "code",
   "execution_count": 26,
   "metadata": {
    "execution": {
     "iopub.execute_input": "2021-01-28T15:37:55.700651Z",
     "iopub.status.busy": "2021-01-28T15:37:55.699925Z",
     "iopub.status.idle": "2021-01-28T15:37:56.045534Z",
     "shell.execute_reply": "2021-01-28T15:37:56.044178Z"
    },
    "papermill": {
     "duration": 1.595841,
     "end_time": "2021-01-28T15:37:56.045672",
     "exception": false,
     "start_time": "2021-01-28T15:37:54.449831",
     "status": "completed"
    },
    "tags": []
   },
   "outputs": [],
   "source": [
    "test_df.to_csv(\"/kaggle/working/submission.csv\", index=False)"
   ]
  }
 ],
 "metadata": {
  "kernelspec": {
   "display_name": "Python 3",
   "language": "python",
   "name": "python3"
  },
  "language_info": {
   "codemirror_mode": {
    "name": "ipython",
    "version": 3
   },
   "file_extension": ".py",
   "mimetype": "text/x-python",
   "name": "python",
   "nbconvert_exporter": "python",
   "pygments_lexer": "ipython3",
   "version": "3.7.10"
  },
  "papermill": {
   "duration": 9874.045939,
   "end_time": "2021-01-28T15:37:59.022988",
   "environment_variables": {},
   "exception": null,
   "input_path": "__notebook__.ipynb",
   "output_path": "__notebook__.ipynb",
   "parameters": {},
   "start_time": "2021-01-28T12:53:24.977049",
   "version": "2.1.0"
  }
 },
 "nbformat": 4,
 "nbformat_minor": 4
}
