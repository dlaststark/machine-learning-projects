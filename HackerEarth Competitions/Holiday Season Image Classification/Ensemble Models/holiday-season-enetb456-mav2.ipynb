{
 "cells": [
  {
   "cell_type": "markdown",
   "metadata": {
    "papermill": {
     "duration": 0.022539,
     "end_time": "2021-01-25T15:47:54.664625",
     "exception": false,
     "start_time": "2021-01-25T15:47:54.642086",
     "status": "completed"
    },
    "tags": []
   },
   "source": [
    "## Import Packages"
   ]
  },
  {
   "cell_type": "code",
   "execution_count": 1,
   "metadata": {
    "execution": {
     "iopub.execute_input": "2021-01-25T15:47:54.718465Z",
     "iopub.status.busy": "2021-01-25T15:47:54.717804Z",
     "iopub.status.idle": "2021-01-25T15:47:59.757226Z",
     "shell.execute_reply": "2021-01-25T15:47:59.756176Z"
    },
    "papermill": {
     "duration": 5.071434,
     "end_time": "2021-01-25T15:47:59.757344",
     "exception": false,
     "start_time": "2021-01-25T15:47:54.685910",
     "status": "completed"
    },
    "tags": []
   },
   "outputs": [],
   "source": [
    "import os\n",
    "import itertools\n",
    "import numpy as np\n",
    "import pandas as pd\n",
    "import seaborn as sns\n",
    "from tqdm import tqdm\n",
    "import matplotlib.pyplot as plt\n",
    "from sklearn.metrics import confusion_matrix\n",
    "from sklearn.metrics import classification_report\n",
    "from sklearn.model_selection import StratifiedShuffleSplit\n",
    "\n",
    "import tensorflow as tf\n",
    "from tensorflow.keras import backend as K\n",
    "from tensorflow.keras.regularizers import l2\n",
    "from tensorflow_addons.metrics import F1Score\n",
    "from tensorflow.keras.models import Model, load_model\n",
    "from tensorflow_addons.optimizers import AdamW, Lookahead\n",
    "from tensorflow.keras.callbacks import EarlyStopping\n",
    "from tensorflow.keras.callbacks import ReduceLROnPlateau\n",
    "from tensorflow.keras.callbacks import ModelCheckpoint\n",
    "from tensorflow.keras.layers import Concatenate\n",
    "from tensorflow.keras.layers import Dense, Dropout, Flatten\n",
    "from tensorflow.keras.layers import BatchNormalization, Input\n",
    "from tensorflow.keras.layers import ZeroPadding2D, MaxPooling2D\n",
    "from tensorflow.keras.layers import GlobalAveragePooling2D, Add\n",
    "from tensorflow.keras.layers import GlobalMaxPooling2D, Reshape\n",
    "from tensorflow.keras.layers import Activation, Conv2D, Average\n",
    "from tensorflow.keras.preprocessing.image import ImageDataGenerator"
   ]
  },
  {
   "cell_type": "markdown",
   "metadata": {
    "papermill": {
     "duration": 0.021165,
     "end_time": "2021-01-25T15:47:59.800954",
     "exception": false,
     "start_time": "2021-01-25T15:47:59.779789",
     "status": "completed"
    },
    "tags": []
   },
   "source": [
    "## Helper Functions"
   ]
  },
  {
   "cell_type": "code",
   "execution_count": 2,
   "metadata": {
    "execution": {
     "iopub.execute_input": "2021-01-25T15:47:59.851620Z",
     "iopub.status.busy": "2021-01-25T15:47:59.850858Z",
     "iopub.status.idle": "2021-01-25T15:47:59.853664Z",
     "shell.execute_reply": "2021-01-25T15:47:59.853235Z"
    },
    "papermill": {
     "duration": 0.032195,
     "end_time": "2021-01-25T15:47:59.853754",
     "exception": false,
     "start_time": "2021-01-25T15:47:59.821559",
     "status": "completed"
    },
    "tags": []
   },
   "outputs": [],
   "source": [
    "def plot_confusion_matrix(cm, classes):\n",
    "\n",
    "    plt.imshow(cm, interpolation='nearest', cmap=plt.cm.Blues)\n",
    "    plt.title('Confusion matrix')\n",
    "    plt.colorbar()\n",
    "    tick_marks = np.arange(len(classes))\n",
    "    plt.xticks(tick_marks, classes, rotation=0)\n",
    "    plt.yticks(tick_marks, classes)\n",
    "\n",
    "    thresh = cm.max() / 2.\n",
    "    for i, j in itertools.product(range(cm.shape[0]), range(cm.shape[1])):\n",
    "        plt.text(j, i, format(cm[i, j], 'd'),\n",
    "                 horizontalalignment=\"center\",\n",
    "                 color=\"white\" if cm[i, j] > thresh else \"black\")\n",
    "\n",
    "    plt.ylabel('True label')\n",
    "    plt.xlabel('Predicted label')\n",
    "    plt.tight_layout()"
   ]
  },
  {
   "cell_type": "markdown",
   "metadata": {
    "papermill": {
     "duration": 0.02044,
     "end_time": "2021-01-25T15:47:59.894764",
     "exception": false,
     "start_time": "2021-01-25T15:47:59.874324",
     "status": "completed"
    },
    "tags": []
   },
   "source": [
    "## Read true labels + Basic EDA"
   ]
  },
  {
   "cell_type": "code",
   "execution_count": 3,
   "metadata": {
    "execution": {
     "iopub.execute_input": "2021-01-25T15:47:59.948705Z",
     "iopub.status.busy": "2021-01-25T15:47:59.948164Z",
     "iopub.status.idle": "2021-01-25T15:47:59.981283Z",
     "shell.execute_reply": "2021-01-25T15:47:59.980875Z"
    },
    "papermill": {
     "duration": 0.066104,
     "end_time": "2021-01-25T15:47:59.981369",
     "exception": false,
     "start_time": "2021-01-25T15:47:59.915265",
     "status": "completed"
    },
    "tags": []
   },
   "outputs": [
    {
     "data": {
      "text/html": [
       "<div>\n",
       "<style scoped>\n",
       "    .dataframe tbody tr th:only-of-type {\n",
       "        vertical-align: middle;\n",
       "    }\n",
       "\n",
       "    .dataframe tbody tr th {\n",
       "        vertical-align: top;\n",
       "    }\n",
       "\n",
       "    .dataframe thead th {\n",
       "        text-align: right;\n",
       "    }\n",
       "</style>\n",
       "<table border=\"1\" class=\"dataframe\">\n",
       "  <thead>\n",
       "    <tr style=\"text-align: right;\">\n",
       "      <th></th>\n",
       "      <th>Image</th>\n",
       "      <th>Class</th>\n",
       "    </tr>\n",
       "  </thead>\n",
       "  <tbody>\n",
       "    <tr>\n",
       "      <th>0</th>\n",
       "      <td>image3476.jpg</td>\n",
       "      <td>Miscellaneous</td>\n",
       "    </tr>\n",
       "    <tr>\n",
       "      <th>1</th>\n",
       "      <td>image5198.jpg</td>\n",
       "      <td>Candle</td>\n",
       "    </tr>\n",
       "    <tr>\n",
       "      <th>2</th>\n",
       "      <td>image4183.jpg</td>\n",
       "      <td>Snowman</td>\n",
       "    </tr>\n",
       "    <tr>\n",
       "      <th>3</th>\n",
       "      <td>image1806.jpg</td>\n",
       "      <td>Miscellaneous</td>\n",
       "    </tr>\n",
       "    <tr>\n",
       "      <th>4</th>\n",
       "      <td>image7831.jpg</td>\n",
       "      <td>Miscellaneous</td>\n",
       "    </tr>\n",
       "  </tbody>\n",
       "</table>\n",
       "</div>"
      ],
      "text/plain": [
       "           Image          Class\n",
       "0  image3476.jpg  Miscellaneous\n",
       "1  image5198.jpg         Candle\n",
       "2  image4183.jpg        Snowman\n",
       "3  image1806.jpg  Miscellaneous\n",
       "4  image7831.jpg  Miscellaneous"
      ]
     },
     "execution_count": 3,
     "metadata": {},
     "output_type": "execute_result"
    }
   ],
   "source": [
    "train_df = pd.read_csv(\"../input/hackereath-holiday-season-deep-learning-contest/dataset/train.csv\")\n",
    "train_df.head()"
   ]
  },
  {
   "cell_type": "code",
   "execution_count": 4,
   "metadata": {
    "execution": {
     "iopub.execute_input": "2021-01-25T15:48:00.028323Z",
     "iopub.status.busy": "2021-01-25T15:48:00.027571Z",
     "iopub.status.idle": "2021-01-25T15:48:00.030445Z",
     "shell.execute_reply": "2021-01-25T15:48:00.030028Z"
    },
    "papermill": {
     "duration": 0.027651,
     "end_time": "2021-01-25T15:48:00.030531",
     "exception": false,
     "start_time": "2021-01-25T15:48:00.002880",
     "status": "completed"
    },
    "tags": []
   },
   "outputs": [],
   "source": [
    "class_map = {\n",
    "    'Airplane': 0,\n",
    "    'Candle': 1,\n",
    "    'Christmas_Tree': 2,\n",
    "    'Jacket': 3,\n",
    "    'Miscellaneous': 4,\n",
    "    'Snowman': 5\n",
    "}"
   ]
  },
  {
   "cell_type": "code",
   "execution_count": 5,
   "metadata": {
    "execution": {
     "iopub.execute_input": "2021-01-25T15:48:00.087763Z",
     "iopub.status.busy": "2021-01-25T15:48:00.086935Z",
     "iopub.status.idle": "2021-01-25T15:48:00.099427Z",
     "shell.execute_reply": "2021-01-25T15:48:00.099014Z"
    },
    "papermill": {
     "duration": 0.048107,
     "end_time": "2021-01-25T15:48:00.099511",
     "exception": false,
     "start_time": "2021-01-25T15:48:00.051404",
     "status": "completed"
    },
    "tags": []
   },
   "outputs": [
    {
     "data": {
      "text/html": [
       "<div>\n",
       "<style scoped>\n",
       "    .dataframe tbody tr th:only-of-type {\n",
       "        vertical-align: middle;\n",
       "    }\n",
       "\n",
       "    .dataframe tbody tr th {\n",
       "        vertical-align: top;\n",
       "    }\n",
       "\n",
       "    .dataframe thead th {\n",
       "        text-align: right;\n",
       "    }\n",
       "</style>\n",
       "<table border=\"1\" class=\"dataframe\">\n",
       "  <thead>\n",
       "    <tr style=\"text-align: right;\">\n",
       "      <th></th>\n",
       "      <th>Class</th>\n",
       "      <th>Class_enc</th>\n",
       "      <th>Count</th>\n",
       "    </tr>\n",
       "  </thead>\n",
       "  <tbody>\n",
       "    <tr>\n",
       "      <th>0</th>\n",
       "      <td>Airplane</td>\n",
       "      <td>0</td>\n",
       "      <td>535</td>\n",
       "    </tr>\n",
       "    <tr>\n",
       "      <th>1</th>\n",
       "      <td>Candle</td>\n",
       "      <td>1</td>\n",
       "      <td>593</td>\n",
       "    </tr>\n",
       "    <tr>\n",
       "      <th>2</th>\n",
       "      <td>Christmas_Tree</td>\n",
       "      <td>2</td>\n",
       "      <td>1539</td>\n",
       "    </tr>\n",
       "    <tr>\n",
       "      <th>3</th>\n",
       "      <td>Jacket</td>\n",
       "      <td>3</td>\n",
       "      <td>640</td>\n",
       "    </tr>\n",
       "    <tr>\n",
       "      <th>4</th>\n",
       "      <td>Miscellaneous</td>\n",
       "      <td>4</td>\n",
       "      <td>2801</td>\n",
       "    </tr>\n",
       "    <tr>\n",
       "      <th>5</th>\n",
       "      <td>Snowman</td>\n",
       "      <td>5</td>\n",
       "      <td>361</td>\n",
       "    </tr>\n",
       "  </tbody>\n",
       "</table>\n",
       "</div>"
      ],
      "text/plain": [
       "            Class Class_enc  Count\n",
       "0        Airplane         0    535\n",
       "1          Candle         1    593\n",
       "2  Christmas_Tree         2   1539\n",
       "3          Jacket         3    640\n",
       "4   Miscellaneous         4   2801\n",
       "5         Snowman         5    361"
      ]
     },
     "execution_count": 5,
     "metadata": {},
     "output_type": "execute_result"
    }
   ],
   "source": [
    "train_df['Class_enc'] = train_df['Class'].map(class_map)\n",
    "train_df['Class_enc'] = train_df['Class_enc'].astype('str')\n",
    "train_df.groupby(['Class','Class_enc']).size().reset_index().rename(columns={0:'Count'})"
   ]
  },
  {
   "cell_type": "code",
   "execution_count": 6,
   "metadata": {
    "execution": {
     "iopub.execute_input": "2021-01-25T15:48:00.146221Z",
     "iopub.status.busy": "2021-01-25T15:48:00.145615Z",
     "iopub.status.idle": "2021-01-25T15:48:00.339268Z",
     "shell.execute_reply": "2021-01-25T15:48:00.338401Z"
    },
    "papermill": {
     "duration": 0.218628,
     "end_time": "2021-01-25T15:48:00.339378",
     "exception": false,
     "start_time": "2021-01-25T15:48:00.120750",
     "status": "completed"
    },
    "tags": []
   },
   "outputs": [
    {
     "data": {
      "image/png": "[encoded data removed]",
      "text/plain": [
       "<Figure size 864x504 with 1 Axes>"
      ]
     },
     "metadata": {
      "needs_background": "light"
     },
     "output_type": "display_data"
    }
   ],
   "source": [
    "plt.figure(figsize=(12,7))\n",
    "sns.set(style=\"darkgrid\")\n",
    "ax = sns.countplot(x=\"Class\", data=train_df)"
   ]
  },
  {
   "cell_type": "code",
   "execution_count": 7,
   "metadata": {
    "execution": {
     "iopub.execute_input": "2021-01-25T15:48:00.395020Z",
     "iopub.status.busy": "2021-01-25T15:48:00.394298Z",
     "iopub.status.idle": "2021-01-25T15:48:00.515262Z",
     "shell.execute_reply": "2021-01-25T15:48:00.515641Z"
    },
    "papermill": {
     "duration": 0.154022,
     "end_time": "2021-01-25T15:48:00.515814",
     "exception": false,
     "start_time": "2021-01-25T15:48:00.361792",
     "status": "completed"
    },
    "tags": []
   },
   "outputs": [
    {
     "name": "stderr",
     "output_type": "stream",
     "text": [
      "100%|██████████| 3489/3489 [00:00<00:00, 465826.09it/s]\n"
     ]
    },
    {
     "data": {
      "text/html": [
       "<div>\n",
       "<style scoped>\n",
       "    .dataframe tbody tr th:only-of-type {\n",
       "        vertical-align: middle;\n",
       "    }\n",
       "\n",
       "    .dataframe tbody tr th {\n",
       "        vertical-align: top;\n",
       "    }\n",
       "\n",
       "    .dataframe thead th {\n",
       "        text-align: right;\n",
       "    }\n",
       "</style>\n",
       "<table border=\"1\" class=\"dataframe\">\n",
       "  <thead>\n",
       "    <tr style=\"text-align: right;\">\n",
       "      <th></th>\n",
       "      <th>Image</th>\n",
       "      <th>Class</th>\n",
       "    </tr>\n",
       "  </thead>\n",
       "  <tbody>\n",
       "    <tr>\n",
       "      <th>0</th>\n",
       "      <td>image7761.jpg</td>\n",
       "      <td>0</td>\n",
       "    </tr>\n",
       "    <tr>\n",
       "      <th>1</th>\n",
       "      <td>image3202.jpg</td>\n",
       "      <td>0</td>\n",
       "    </tr>\n",
       "    <tr>\n",
       "      <th>2</th>\n",
       "      <td>image688.jpg</td>\n",
       "      <td>0</td>\n",
       "    </tr>\n",
       "    <tr>\n",
       "      <th>3</th>\n",
       "      <td>image233.jpg</td>\n",
       "      <td>0</td>\n",
       "    </tr>\n",
       "    <tr>\n",
       "      <th>4</th>\n",
       "      <td>image4332.jpg</td>\n",
       "      <td>0</td>\n",
       "    </tr>\n",
       "  </tbody>\n",
       "</table>\n",
       "</div>"
      ],
      "text/plain": [
       "           Image Class\n",
       "0  image7761.jpg     0\n",
       "1  image3202.jpg     0\n",
       "2   image688.jpg     0\n",
       "3   image233.jpg     0\n",
       "4  image4332.jpg     0"
      ]
     },
     "execution_count": 7,
     "metadata": {},
     "output_type": "execute_result"
    }
   ],
   "source": [
    "test_dir = \"../input/hackereath-holiday-season-deep-learning-contest/dataset/test\"\n",
    "test_files = []\n",
    "\n",
    "for file in tqdm(os.listdir(test_dir)):\n",
    "    test_files.append(file)\n",
    "\n",
    "test_df = pd.DataFrame(test_files, columns=['Image'])\n",
    "test_df['Class'] = '0'\n",
    "test_df.head()"
   ]
  },
  {
   "cell_type": "markdown",
   "metadata": {
    "papermill": {
     "duration": 0.051018,
     "end_time": "2021-01-25T15:48:00.608347",
     "exception": false,
     "start_time": "2021-01-25T15:48:00.557329",
     "status": "completed"
    },
    "tags": []
   },
   "source": [
    "## Calculate class-weights"
   ]
  },
  {
   "cell_type": "code",
   "execution_count": 8,
   "metadata": {
    "execution": {
     "iopub.execute_input": "2021-01-25T15:48:00.713367Z",
     "iopub.status.busy": "2021-01-25T15:48:00.712566Z",
     "iopub.status.idle": "2021-01-25T15:48:00.747895Z",
     "shell.execute_reply": "2021-01-25T15:48:00.748903Z"
    },
    "papermill": {
     "duration": 0.091922,
     "end_time": "2021-01-25T15:48:00.749072",
     "exception": false,
     "start_time": "2021-01-25T15:48:00.657150",
     "status": "completed"
    },
    "tags": []
   },
   "outputs": [
    {
     "data": {
      "text/plain": [
       "{0: 0.6747663551401869,\n",
       " 1: 0.6087689713322091,\n",
       " 2: 0.23456790123456786,\n",
       " 3: 0.5640625,\n",
       " 4: 0.12888254194930382,\n",
       " 5: 1.0}"
      ]
     },
     "execution_count": 8,
     "metadata": {},
     "output_type": "execute_result"
    }
   ],
   "source": [
    "temp_df = train_df.groupby(['Class_enc']).size().reset_index().rename(columns={0:'count'})\n",
    "total_count = np.sum(temp_df['count'].values)\n",
    "temp_df['class%'] = (temp_df['count'] / total_count) * 100\n",
    "lowest_pct = min(temp_df['class%'])\n",
    "temp_df['class_weight'] = lowest_pct / temp_df['class%']\n",
    "class_weight = temp_df[['Class_enc', 'class_weight']].to_dict()['class_weight']\n",
    "class_weight"
   ]
  },
  {
   "cell_type": "markdown",
   "metadata": {
    "papermill": {
     "duration": 0.040748,
     "end_time": "2021-01-25T15:48:00.857832",
     "exception": false,
     "start_time": "2021-01-25T15:48:00.817084",
     "status": "completed"
    },
    "tags": []
   },
   "source": [
    "## Split training data into train/validation datasets"
   ]
  },
  {
   "cell_type": "code",
   "execution_count": 9,
   "metadata": {
    "execution": {
     "iopub.execute_input": "2021-01-25T15:48:00.951041Z",
     "iopub.status.busy": "2021-01-25T15:48:00.950343Z",
     "iopub.status.idle": "2021-01-25T15:48:00.983867Z",
     "shell.execute_reply": "2021-01-25T15:48:00.985010Z"
    },
    "papermill": {
     "duration": 0.086454,
     "end_time": "2021-01-25T15:48:00.985180",
     "exception": false,
     "start_time": "2021-01-25T15:48:00.898726",
     "status": "completed"
    },
    "tags": []
   },
   "outputs": [
    {
     "name": "stdout",
     "output_type": "stream",
     "text": [
      "train_df shape: (5498, 3)\n",
      "validation_df shape: (971, 3)\n"
     ]
    }
   ],
   "source": [
    "sss = StratifiedShuffleSplit(n_splits=1, test_size=0.15, random_state=1)\n",
    "for train_index, validation_index in sss.split(train_df['Image'], train_df['Class_enc']):\n",
    "    train_df, validation_df = train_df.iloc[train_index], train_df.iloc[validation_index]\n",
    "\n",
    "print(\"train_df shape: {}\".format(train_df.shape))\n",
    "print(\"validation_df shape: {}\".format(validation_df.shape))"
   ]
  },
  {
   "cell_type": "code",
   "execution_count": 10,
   "metadata": {
    "execution": {
     "iopub.execute_input": "2021-01-25T15:48:01.116536Z",
     "iopub.status.busy": "2021-01-25T15:48:01.115818Z",
     "iopub.status.idle": "2021-01-25T15:48:01.132065Z",
     "shell.execute_reply": "2021-01-25T15:48:01.132967Z"
    },
    "papermill": {
     "duration": 0.062675,
     "end_time": "2021-01-25T15:48:01.133100",
     "exception": false,
     "start_time": "2021-01-25T15:48:01.070425",
     "status": "completed"
    },
    "tags": []
   },
   "outputs": [
    {
     "data": {
      "text/html": [
       "<div>\n",
       "<style scoped>\n",
       "    .dataframe tbody tr th:only-of-type {\n",
       "        vertical-align: middle;\n",
       "    }\n",
       "\n",
       "    .dataframe tbody tr th {\n",
       "        vertical-align: top;\n",
       "    }\n",
       "\n",
       "    .dataframe thead th {\n",
       "        text-align: right;\n",
       "    }\n",
       "</style>\n",
       "<table border=\"1\" class=\"dataframe\">\n",
       "  <thead>\n",
       "    <tr style=\"text-align: right;\">\n",
       "      <th></th>\n",
       "      <th>Class</th>\n",
       "      <th>Class_enc</th>\n",
       "      <th>Count</th>\n",
       "    </tr>\n",
       "  </thead>\n",
       "  <tbody>\n",
       "    <tr>\n",
       "      <th>0</th>\n",
       "      <td>Airplane</td>\n",
       "      <td>0</td>\n",
       "      <td>455</td>\n",
       "    </tr>\n",
       "    <tr>\n",
       "      <th>1</th>\n",
       "      <td>Candle</td>\n",
       "      <td>1</td>\n",
       "      <td>504</td>\n",
       "    </tr>\n",
       "    <tr>\n",
       "      <th>2</th>\n",
       "      <td>Christmas_Tree</td>\n",
       "      <td>2</td>\n",
       "      <td>1308</td>\n",
       "    </tr>\n",
       "    <tr>\n",
       "      <th>3</th>\n",
       "      <td>Jacket</td>\n",
       "      <td>3</td>\n",
       "      <td>544</td>\n",
       "    </tr>\n",
       "    <tr>\n",
       "      <th>4</th>\n",
       "      <td>Miscellaneous</td>\n",
       "      <td>4</td>\n",
       "      <td>2380</td>\n",
       "    </tr>\n",
       "    <tr>\n",
       "      <th>5</th>\n",
       "      <td>Snowman</td>\n",
       "      <td>5</td>\n",
       "      <td>307</td>\n",
       "    </tr>\n",
       "  </tbody>\n",
       "</table>\n",
       "</div>"
      ],
      "text/plain": [
       "            Class Class_enc  Count\n",
       "0        Airplane         0    455\n",
       "1          Candle         1    504\n",
       "2  Christmas_Tree         2   1308\n",
       "3          Jacket         3    544\n",
       "4   Miscellaneous         4   2380\n",
       "5         Snowman         5    307"
      ]
     },
     "execution_count": 10,
     "metadata": {},
     "output_type": "execute_result"
    }
   ],
   "source": [
    "train_df.groupby(['Class','Class_enc']).size().reset_index().rename(columns={0:'Count'})"
   ]
  },
  {
   "cell_type": "code",
   "execution_count": 11,
   "metadata": {
    "execution": {
     "iopub.execute_input": "2021-01-25T15:48:01.216232Z",
     "iopub.status.busy": "2021-01-25T15:48:01.215412Z",
     "iopub.status.idle": "2021-01-25T15:48:01.226447Z",
     "shell.execute_reply": "2021-01-25T15:48:01.226029Z"
    },
    "papermill": {
     "duration": 0.055523,
     "end_time": "2021-01-25T15:48:01.226531",
     "exception": false,
     "start_time": "2021-01-25T15:48:01.171008",
     "status": "completed"
    },
    "tags": []
   },
   "outputs": [
    {
     "data": {
      "text/html": [
       "<div>\n",
       "<style scoped>\n",
       "    .dataframe tbody tr th:only-of-type {\n",
       "        vertical-align: middle;\n",
       "    }\n",
       "\n",
       "    .dataframe tbody tr th {\n",
       "        vertical-align: top;\n",
       "    }\n",
       "\n",
       "    .dataframe thead th {\n",
       "        text-align: right;\n",
       "    }\n",
       "</style>\n",
       "<table border=\"1\" class=\"dataframe\">\n",
       "  <thead>\n",
       "    <tr style=\"text-align: right;\">\n",
       "      <th></th>\n",
       "      <th>Class</th>\n",
       "      <th>Class_enc</th>\n",
       "      <th>Count</th>\n",
       "    </tr>\n",
       "  </thead>\n",
       "  <tbody>\n",
       "    <tr>\n",
       "      <th>0</th>\n",
       "      <td>Airplane</td>\n",
       "      <td>0</td>\n",
       "      <td>80</td>\n",
       "    </tr>\n",
       "    <tr>\n",
       "      <th>1</th>\n",
       "      <td>Candle</td>\n",
       "      <td>1</td>\n",
       "      <td>89</td>\n",
       "    </tr>\n",
       "    <tr>\n",
       "      <th>2</th>\n",
       "      <td>Christmas_Tree</td>\n",
       "      <td>2</td>\n",
       "      <td>231</td>\n",
       "    </tr>\n",
       "    <tr>\n",
       "      <th>3</th>\n",
       "      <td>Jacket</td>\n",
       "      <td>3</td>\n",
       "      <td>96</td>\n",
       "    </tr>\n",
       "    <tr>\n",
       "      <th>4</th>\n",
       "      <td>Miscellaneous</td>\n",
       "      <td>4</td>\n",
       "      <td>421</td>\n",
       "    </tr>\n",
       "    <tr>\n",
       "      <th>5</th>\n",
       "      <td>Snowman</td>\n",
       "      <td>5</td>\n",
       "      <td>54</td>\n",
       "    </tr>\n",
       "  </tbody>\n",
       "</table>\n",
       "</div>"
      ],
      "text/plain": [
       "            Class Class_enc  Count\n",
       "0        Airplane         0     80\n",
       "1          Candle         1     89\n",
       "2  Christmas_Tree         2    231\n",
       "3          Jacket         3     96\n",
       "4   Miscellaneous         4    421\n",
       "5         Snowman         5     54"
      ]
     },
     "execution_count": 11,
     "metadata": {},
     "output_type": "execute_result"
    }
   ],
   "source": [
    "validation_df.groupby(['Class','Class_enc']).size().reset_index().rename(columns={0:'Count'})"
   ]
  },
  {
   "cell_type": "markdown",
   "metadata": {
    "papermill": {
     "duration": 0.032682,
     "end_time": "2021-01-25T15:48:01.284192",
     "exception": false,
     "start_time": "2021-01-25T15:48:01.251510",
     "status": "completed"
    },
    "tags": []
   },
   "source": [
    "## Model Hyperparameters"
   ]
  },
  {
   "cell_type": "code",
   "execution_count": 12,
   "metadata": {
    "execution": {
     "iopub.execute_input": "2021-01-25T15:48:01.368466Z",
     "iopub.status.busy": "2021-01-25T15:48:01.367755Z",
     "iopub.status.idle": "2021-01-25T15:48:01.370956Z",
     "shell.execute_reply": "2021-01-25T15:48:01.371497Z"
    },
    "papermill": {
     "duration": 0.051082,
     "end_time": "2021-01-25T15:48:01.371631",
     "exception": false,
     "start_time": "2021-01-25T15:48:01.320549",
     "status": "completed"
    },
    "tags": []
   },
   "outputs": [],
   "source": [
    "dataset_dir = \"../input/hackereath-holiday-season-deep-learning-contest/dataset/\"\n",
    "mini_batch_size = 64\n",
    "steps_per_epoch = int(np.ceil(train_df.shape[0] / float(mini_batch_size)))\n",
    "validation_steps = int(np.ceil(validation_df.shape[0] / float(mini_batch_size)))\n",
    "test_steps = int(np.ceil(test_df.shape[0] / float(mini_batch_size)))\n",
    "image_dim = (320, 320, 3)"
   ]
  },
  {
   "cell_type": "markdown",
   "metadata": {
    "papermill": {
     "duration": 0.037808,
     "end_time": "2021-01-25T15:48:01.447188",
     "exception": false,
     "start_time": "2021-01-25T15:48:01.409380",
     "status": "completed"
    },
    "tags": []
   },
   "source": [
    "## Configure image generators"
   ]
  },
  {
   "cell_type": "code",
   "execution_count": 13,
   "metadata": {
    "execution": {
     "iopub.execute_input": "2021-01-25T15:48:01.539377Z",
     "iopub.status.busy": "2021-01-25T15:48:01.538495Z",
     "iopub.status.idle": "2021-01-25T15:48:01.543516Z",
     "shell.execute_reply": "2021-01-25T15:48:01.544082Z"
    },
    "papermill": {
     "duration": 0.058918,
     "end_time": "2021-01-25T15:48:01.544215",
     "exception": false,
     "start_time": "2021-01-25T15:48:01.485297",
     "status": "completed"
    },
    "tags": []
   },
   "outputs": [],
   "source": [
    "def train_generator():\n",
    "\n",
    "    while True:\n",
    "        train_datagen = ImageDataGenerator(rotation_range = 30,\n",
    "                                           zoom_range = 0.2,\n",
    "                                           horizontal_flip = True,\n",
    "                                           fill_mode = 'nearest',\n",
    "                                           height_shift_range = 0.1,\n",
    "                                           width_shift_range = 0.1)\n",
    "\n",
    "        batches = train_datagen.flow_from_dataframe(train_df,\n",
    "                                                    directory = os.path.join(dataset_dir,\"train\"),\n",
    "                                                    x_col = \"Image\", \n",
    "                                                    y_col = \"Class_enc\",\n",
    "                                                    target_size = (image_dim[0], image_dim[1]),\n",
    "                                                    batch_size = mini_batch_size,\n",
    "                                                    class_mode = \"categorical\",\n",
    "                                                    interpolation=\"bicubic\")\n",
    "\n",
    "        idx0 = 0\n",
    "        for batch in batches:\n",
    "            idx1 = idx0 + batch[0].shape[0]\n",
    "\n",
    "            yield [batch[0], batch[0], batch[0]], batch[1]\n",
    "\n",
    "            idx0 = idx1\n",
    "            if idx1 >= train_df.shape[0]:\n",
    "                break"
   ]
  },
  {
   "cell_type": "code",
   "execution_count": 14,
   "metadata": {
    "execution": {
     "iopub.execute_input": "2021-01-25T15:48:01.622298Z",
     "iopub.status.busy": "2021-01-25T15:48:01.621523Z",
     "iopub.status.idle": "2021-01-25T15:48:01.623910Z",
     "shell.execute_reply": "2021-01-25T15:48:01.624305Z"
    },
    "papermill": {
     "duration": 0.035049,
     "end_time": "2021-01-25T15:48:01.624409",
     "exception": false,
     "start_time": "2021-01-25T15:48:01.589360",
     "status": "completed"
    },
    "tags": []
   },
   "outputs": [],
   "source": [
    "def validation_generator():\n",
    "\n",
    "    while True:\n",
    "        validation_datagen = ImageDataGenerator()\n",
    "\n",
    "        batches = validation_datagen.flow_from_dataframe(validation_df,\n",
    "                                                         directory = os.path.join(dataset_dir,\"train\"),\n",
    "                                                         x_col = \"Image\",\n",
    "                                                         y_col = \"Class_enc\",\n",
    "                                                         shuffle=False,\n",
    "                                                         target_size = (image_dim[0], image_dim[1]),\n",
    "                                                         batch_size = mini_batch_size,\n",
    "                                                         class_mode = \"categorical\",\n",
    "                                                         interpolation=\"bicubic\")\n",
    "\n",
    "        idx0 = 0\n",
    "        for batch in batches:\n",
    "            idx1 = idx0 + batch[0].shape[0]\n",
    "\n",
    "            yield [batch[0], batch[0], batch[0]], batch[1]\n",
    "\n",
    "            idx0 = idx1\n",
    "            if idx1 >= validation_df.shape[0]:\n",
    "                break"
   ]
  },
  {
   "cell_type": "code",
   "execution_count": 15,
   "metadata": {
    "execution": {
     "iopub.execute_input": "2021-01-25T15:48:01.682119Z",
     "iopub.status.busy": "2021-01-25T15:48:01.681374Z",
     "iopub.status.idle": "2021-01-25T15:48:01.684123Z",
     "shell.execute_reply": "2021-01-25T15:48:01.683590Z"
    },
    "papermill": {
     "duration": 0.035064,
     "end_time": "2021-01-25T15:48:01.684205",
     "exception": false,
     "start_time": "2021-01-25T15:48:01.649141",
     "status": "completed"
    },
    "tags": []
   },
   "outputs": [],
   "source": [
    "def test_generator():\n",
    "\n",
    "    while True:\n",
    "        test_datagen = ImageDataGenerator()\n",
    "\n",
    "        batches = test_datagen.flow_from_dataframe(test_df,\n",
    "                                                   directory = os.path.join(dataset_dir,\"test\"),\n",
    "                                                   x_col = \"Image\",\n",
    "                                                   y_col = \"Class\",\n",
    "                                                   shuffle=False,\n",
    "                                                   target_size = (image_dim[0], image_dim[1]),\n",
    "                                                   batch_size = mini_batch_size,\n",
    "                                                   class_mode = \"categorical\",\n",
    "                                                   interpolation=\"bicubic\")\n",
    "\n",
    "        idx0 = 0\n",
    "        for batch in batches:\n",
    "            idx1 = idx0 + batch[0].shape[0]\n",
    "\n",
    "            yield [batch[0], batch[0], batch[0]], batch[1]\n",
    "\n",
    "            idx0 = idx1\n",
    "            if idx1 >= test_df.shape[0]:\n",
    "                break"
   ]
  },
  {
   "cell_type": "markdown",
   "metadata": {
    "papermill": {
     "duration": 0.025003,
     "end_time": "2021-01-25T15:48:01.733963",
     "exception": false,
     "start_time": "2021-01-25T15:48:01.708960",
     "status": "completed"
    },
    "tags": []
   },
   "source": [
    "## Build and validate the model"
   ]
  },
  {
   "cell_type": "code",
   "execution_count": 16,
   "metadata": {
    "execution": {
     "iopub.execute_input": "2021-01-25T15:48:01.798133Z",
     "iopub.status.busy": "2021-01-25T15:48:01.797288Z",
     "iopub.status.idle": "2021-01-25T15:48:01.800287Z",
     "shell.execute_reply": "2021-01-25T15:48:01.799745Z"
    },
    "papermill": {
     "duration": 0.041477,
     "end_time": "2021-01-25T15:48:01.800382",
     "exception": false,
     "start_time": "2021-01-25T15:48:01.758905",
     "status": "completed"
    },
    "tags": []
   },
   "outputs": [],
   "source": [
    "def head(x1, x2, x3):\n",
    "    \n",
    "    x = Concatenate()([x1, x2, x3])\n",
    "    \n",
    "    x = Dense(units=2048, kernel_regularizer=l2(0.0001), \n",
    "              kernel_initializer='he_uniform')(x)\n",
    "    x = BatchNormalization()(x)\n",
    "    x = Activation('relu')(x)\n",
    "    x = Dropout(rate=0.5)(x)\n",
    "    \n",
    "    x = Dense(units=512, kernel_regularizer=l2(0.0001), \n",
    "              kernel_initializer='he_uniform')(x)\n",
    "    x = BatchNormalization()(x)\n",
    "    x = Activation('relu')(x)\n",
    "    x = Dropout(rate=0.5)(x)\n",
    "    \n",
    "    x = Dense(units=512, kernel_regularizer=l2(0.0001), \n",
    "              kernel_initializer='he_uniform')(x)\n",
    "    x = BatchNormalization()(x)\n",
    "    x = Activation('relu')(x)\n",
    "    x = Dropout(rate=0.5)(x)\n",
    "    \n",
    "    x = Dense(units=128, kernel_regularizer=l2(0.0001), \n",
    "              kernel_initializer='he_uniform')(x)\n",
    "    x = BatchNormalization()(x)\n",
    "    x = Activation('relu')(x)\n",
    "    x = Dropout(rate=0.5)(x)\n",
    "    \n",
    "    x = Dense(units=6, activation='softmax', \n",
    "              kernel_initializer='he_uniform')(x)\n",
    "\n",
    "    return x"
   ]
  },
  {
   "cell_type": "code",
   "execution_count": 17,
   "metadata": {
    "execution": {
     "iopub.execute_input": "2021-01-25T15:48:01.866000Z",
     "iopub.status.busy": "2021-01-25T15:48:01.865386Z",
     "iopub.status.idle": "2021-01-25T15:48:47.705137Z",
     "shell.execute_reply": "2021-01-25T15:48:47.704024Z"
    },
    "papermill": {
     "duration": 45.879721,
     "end_time": "2021-01-25T15:48:47.705266",
     "exception": false,
     "start_time": "2021-01-25T15:48:01.825545",
     "status": "completed"
    },
    "tags": []
   },
   "outputs": [
    {
     "name": "stderr",
     "output_type": "stream",
     "text": [
      "100%|██████████| 530/530 [00:00<00:00, 35319.61it/s]\n",
      "100%|██████████| 632/632 [00:00<00:00, 23352.39it/s]\n",
      "100%|██████████| 722/722 [00:00<00:00, 28667.73it/s]\n"
     ]
    }
   ],
   "source": [
    "# Load the pre-trained models\n",
    "base_model1 = load_model('../input/holiday-season-enetb4-mav34/hackerearth_holiday_season_model.h5')\n",
    "base_model2 = load_model('../input/holiday-season-enetb5-mav4/hackerearth_holiday_season_model.h5')\n",
    "base_model3 = load_model('../input/holiday-season-enetb6-mav4/hackerearth_holiday_season_model.h5')\n",
    "\n",
    "# Freeze weights for base models\n",
    "base_model1.trainable = False\n",
    "for layer in base_model1.layers[-17:]:\n",
    "    if not isinstance(layer, BatchNormalization):\n",
    "        layer.trainable = True\n",
    "\n",
    "base_model2.trainable = False\n",
    "for layer in base_model2.layers[-17:]:\n",
    "    if not isinstance(layer, BatchNormalization):\n",
    "        layer.trainable = True\n",
    "\n",
    "base_model3.trainable = False\n",
    "for layer in base_model3.layers[-17:]:\n",
    "    if not isinstance(layer, BatchNormalization):\n",
    "        layer.trainable = True\n",
    "\n",
    "# Update layer names for base models\n",
    "for layer in tqdm(base_model1.layers):\n",
    "    layer._name = 'm1_' + layer.name\n",
    "\n",
    "for layer in tqdm(base_model2.layers):\n",
    "    layer._name = 'm2_' + layer.name\n",
    "\n",
    "for layer in tqdm(base_model3.layers):\n",
    "    layer._name = 'm3_' + layer.name\n",
    "\n",
    "# Build the model\n",
    "model = Model(inputs=[base_model1.input, base_model2.input, base_model3.input], \n",
    "              outputs=head(base_model1.get_layer('m1_activation_11').output, \n",
    "                           base_model2.get_layer('m2_activation_11').output,\n",
    "                           base_model3.get_layer('m3_activation_11').output),\n",
    "              name='HackerEarth_Holiday_Season_Model')\n",
    "\n",
    "# Compile the final model\n",
    "model.compile(loss='categorical_crossentropy', \n",
    "              metrics=[F1Score(num_classes=6, average='weighted'), \n",
    "                       'categorical_accuracy'],\n",
    "              optimizer=Lookahead(AdamW(lr=1e-4, \n",
    "                                        weight_decay=1e-5, \n",
    "                                        clipvalue=700), \n",
    "                                  sync_period=10))\n",
    "\n",
    "# Load best weights from pre-trained model\n",
    "model.load_weights('../input/holiday-season-enetb456-mav1/hackerearth_holiday_season_model.h5')\n",
    "\n",
    "# Configure model callbacks\n",
    "early = EarlyStopping(monitor=\"val_loss\", mode=\"min\", patience=5, \n",
    "                      restore_best_weights=True, verbose=1)\n",
    "\n",
    "reduce_lr = ReduceLROnPlateau(monitor=\"val_loss\", factor=0.1, \n",
    "                              min_lr=1e-6, patience=3, \n",
    "                              verbose=1, mode='min')\n",
    "\n",
    "chk_point = ModelCheckpoint('hackerearth_holiday_season_model.h5', \n",
    "                            monitor='val_loss', verbose=1, \n",
    "                            save_best_only=True, mode='min')"
   ]
  },
  {
   "cell_type": "code",
   "execution_count": 18,
   "metadata": {
    "execution": {
     "iopub.execute_input": "2021-01-25T15:48:47.778502Z",
     "iopub.status.busy": "2021-01-25T15:48:47.777601Z",
     "iopub.status.idle": "2021-01-25T17:28:37.096862Z",
     "shell.execute_reply": "2021-01-25T17:28:37.096347Z"
    },
    "papermill": {
     "duration": 5989.363858,
     "end_time": "2021-01-25T17:28:37.096986",
     "exception": false,
     "start_time": "2021-01-25T15:48:47.733128",
     "status": "completed"
    },
    "tags": []
   },
   "outputs": [
    {
     "name": "stdout",
     "output_type": "stream",
     "text": [
      "Found 5498 validated image filenames belonging to 6 classes.\n",
      "Epoch 1/25\n",
      "85/86 [============================>.] - ETA: 2s - loss: 0.1946 - f1_score: 0.9813 - categorical_accuracy: 0.9812Found 5498 validated image filenames belonging to 6 classes.\n",
      "86/86 [==============================] - ETA: 0s - loss: 0.1945 - f1_score: 0.9811 - categorical_accuracy: 0.9811Found 971 validated image filenames belonging to 6 classes.\n",
      "Found 971 validated image filenames belonging to 6 classes.\n",
      "\n",
      "Epoch 00001: val_loss improved from inf to 0.44531, saving model to hackerearth_holiday_season_model.h5\n",
      "86/86 [==============================] - 267s 3s/step - loss: 0.1945 - f1_score: 0.9811 - categorical_accuracy: 0.9811 - val_loss: 0.4453 - val_f1_score: 0.9319 - val_categorical_accuracy: 0.9320\n",
      "Epoch 2/25\n",
      "86/86 [==============================] - ETA: 0s - loss: 0.1785 - f1_score: 0.9789 - categorical_accuracy: 0.9789Found 5498 validated image filenames belonging to 6 classes.\n",
      "Found 971 validated image filenames belonging to 6 classes.\n",
      "\n",
      "Epoch 00002: val_loss improved from 0.44531 to 0.41761, saving model to hackerearth_holiday_season_model.h5\n",
      "86/86 [==============================] - 234s 3s/step - loss: 0.1785 - f1_score: 0.9789 - categorical_accuracy: 0.9789 - val_loss: 0.4176 - val_f1_score: 0.9360 - val_categorical_accuracy: 0.9361\n",
      "Epoch 3/25\n",
      "85/86 [============================>.] - ETA: 2s - loss: 0.1668 - f1_score: 0.9813 - categorical_accuracy: 0.9812Found 5498 validated image filenames belonging to 6 classes.\n",
      "86/86 [==============================] - ETA: 0s - loss: 0.1668 - f1_score: 0.9813 - categorical_accuracy: 0.9813Found 971 validated image filenames belonging to 6 classes.\n",
      "\n",
      "Epoch 00003: val_loss improved from 0.41761 to 0.39848, saving model to hackerearth_holiday_season_model.h5\n",
      "86/86 [==============================] - 236s 3s/step - loss: 0.1668 - f1_score: 0.9813 - categorical_accuracy: 0.9813 - val_loss: 0.3985 - val_f1_score: 0.9391 - val_categorical_accuracy: 0.9392\n",
      "Epoch 4/25\n",
      "85/86 [============================>.] - ETA: 2s - loss: 0.1657 - f1_score: 0.9762 - categorical_accuracy: 0.9761Found 5498 validated image filenames belonging to 6 classes.\n",
      "86/86 [==============================] - ETA: 0s - loss: 0.1657 - f1_score: 0.9763 - categorical_accuracy: 0.9762Found 971 validated image filenames belonging to 6 classes.\n",
      "\n",
      "Epoch 00004: val_loss did not improve from 0.39848\n",
      "86/86 [==============================] - 233s 3s/step - loss: 0.1657 - f1_score: 0.9763 - categorical_accuracy: 0.9762 - val_loss: 0.4054 - val_f1_score: 0.9392 - val_categorical_accuracy: 0.9392\n",
      "Epoch 5/25\n",
      "86/86 [==============================] - ETA: 0s - loss: 0.1608 - f1_score: 0.9755 - categorical_accuracy: 0.9754Found 5498 validated image filenames belonging to 6 classes.\n",
      "Found 971 validated image filenames belonging to 6 classes.\n",
      "\n",
      "Epoch 00005: val_loss improved from 0.39848 to 0.39461, saving model to hackerearth_holiday_season_model.h5\n",
      "86/86 [==============================] - 240s 3s/step - loss: 0.1608 - f1_score: 0.9755 - categorical_accuracy: 0.9754 - val_loss: 0.3946 - val_f1_score: 0.9358 - val_categorical_accuracy: 0.9361\n",
      "Epoch 6/25\n",
      "85/86 [============================>.] - ETA: 2s - loss: 0.1552 - f1_score: 0.9789 - categorical_accuracy: 0.9789Found 5498 validated image filenames belonging to 6 classes.\n",
      "86/86 [==============================] - ETA: 0s - loss: 0.1551 - f1_score: 0.9790 - categorical_accuracy: 0.9789Found 971 validated image filenames belonging to 6 classes.\n",
      "\n",
      "Epoch 00006: val_loss improved from 0.39461 to 0.37051, saving model to hackerearth_holiday_season_model.h5\n",
      "86/86 [==============================] - 238s 3s/step - loss: 0.1551 - f1_score: 0.9790 - categorical_accuracy: 0.9789 - val_loss: 0.3705 - val_f1_score: 0.9403 - val_categorical_accuracy: 0.9403\n",
      "Epoch 7/25\n",
      "85/86 [============================>.] - ETA: 2s - loss: 0.1454 - f1_score: 0.9798 - categorical_accuracy: 0.9798Found 5498 validated image filenames belonging to 6 classes.\n",
      "86/86 [==============================] - ETA: 0s - loss: 0.1453 - f1_score: 0.9798 - categorical_accuracy: 0.9798Found 971 validated image filenames belonging to 6 classes.\n",
      "\n",
      "Epoch 00007: val_loss improved from 0.37051 to 0.36150, saving model to hackerearth_holiday_season_model.h5\n",
      "86/86 [==============================] - 235s 3s/step - loss: 0.1453 - f1_score: 0.9798 - categorical_accuracy: 0.9798 - val_loss: 0.3615 - val_f1_score: 0.9475 - val_categorical_accuracy: 0.9475\n",
      "Epoch 8/25\n",
      "85/86 [============================>.] - ETA: 2s - loss: 0.1414 - f1_score: 0.9804 - categorical_accuracy: 0.9803Found 5498 validated image filenames belonging to 6 classes.\n",
      "86/86 [==============================] - ETA: 0s - loss: 0.1414 - f1_score: 0.9804 - categorical_accuracy: 0.9804Found 971 validated image filenames belonging to 6 classes.\n",
      "\n",
      "Epoch 00008: val_loss did not improve from 0.36150\n",
      "86/86 [==============================] - 230s 3s/step - loss: 0.1414 - f1_score: 0.9804 - categorical_accuracy: 0.9804 - val_loss: 0.3667 - val_f1_score: 0.9412 - val_categorical_accuracy: 0.9413\n",
      "Epoch 9/25\n",
      "85/86 [============================>.] - ETA: 2s - loss: 0.1384 - f1_score: 0.9787 - categorical_accuracy: 0.9787Found 5498 validated image filenames belonging to 6 classes.\n",
      "86/86 [==============================] - ETA: 0s - loss: 0.1384 - f1_score: 0.9788 - categorical_accuracy: 0.9787Found 971 validated image filenames belonging to 6 classes.\n",
      "\n",
      "Epoch 00009: val_loss improved from 0.36150 to 0.35573, saving model to hackerearth_holiday_season_model.h5\n",
      "86/86 [==============================] - 237s 3s/step - loss: 0.1384 - f1_score: 0.9788 - categorical_accuracy: 0.9787 - val_loss: 0.3557 - val_f1_score: 0.9465 - val_categorical_accuracy: 0.9464\n",
      "Epoch 10/25\n",
      "86/86 [==============================] - ETA: 0s - loss: 0.1351 - f1_score: 0.9795 - categorical_accuracy: 0.9794Found 5498 validated image filenames belonging to 6 classes.\n",
      "Found 971 validated image filenames belonging to 6 classes.\n",
      "\n",
      "Epoch 00010: val_loss improved from 0.35573 to 0.34651, saving model to hackerearth_holiday_season_model.h5\n",
      "86/86 [==============================] - 234s 3s/step - loss: 0.1351 - f1_score: 0.9795 - categorical_accuracy: 0.9794 - val_loss: 0.3465 - val_f1_score: 0.9464 - val_categorical_accuracy: 0.9464\n",
      "Epoch 11/25\n",
      "85/86 [============================>.] - ETA: 2s - loss: 0.1314 - f1_score: 0.9791 - categorical_accuracy: 0.9790Found 5498 validated image filenames belonging to 6 classes.\n",
      "86/86 [==============================] - ETA: 0s - loss: 0.1313 - f1_score: 0.9791 - categorical_accuracy: 0.9791Found 971 validated image filenames belonging to 6 classes.\n",
      "\n",
      "Epoch 00011: val_loss did not improve from 0.34651\n",
      "86/86 [==============================] - 229s 3s/step - loss: 0.1313 - f1_score: 0.9791 - categorical_accuracy: 0.9791 - val_loss: 0.3554 - val_f1_score: 0.9432 - val_categorical_accuracy: 0.9434\n",
      "Epoch 12/25\n",
      "85/86 [============================>.] - ETA: 2s - loss: 0.1294 - f1_score: 0.9767 - categorical_accuracy: 0.9767Found 5498 validated image filenames belonging to 6 classes.\n",
      "86/86 [==============================] - ETA: 0s - loss: 0.1293 - f1_score: 0.9770 - categorical_accuracy: 0.9769Found 971 validated image filenames belonging to 6 classes.\n",
      "\n",
      "Epoch 00012: val_loss improved from 0.34651 to 0.34552, saving model to hackerearth_holiday_season_model.h5\n",
      "86/86 [==============================] - 236s 3s/step - loss: 0.1293 - f1_score: 0.9770 - categorical_accuracy: 0.9769 - val_loss: 0.3455 - val_f1_score: 0.9453 - val_categorical_accuracy: 0.9454\n",
      "Epoch 13/25\n",
      "85/86 [============================>.] - ETA: 2s - loss: 0.1225 - f1_score: 0.9794 - categorical_accuracy: 0.9794Found 5498 validated image filenames belonging to 6 classes.\n",
      "86/86 [==============================] - ETA: 0s - loss: 0.1225 - f1_score: 0.9795 - categorical_accuracy: 0.9794Found 971 validated image filenames belonging to 6 classes.\n",
      "\n",
      "Epoch 00013: val_loss improved from 0.34552 to 0.33511, saving model to hackerearth_holiday_season_model.h5\n",
      "86/86 [==============================] - 234s 3s/step - loss: 0.1225 - f1_score: 0.9795 - categorical_accuracy: 0.9794 - val_loss: 0.3351 - val_f1_score: 0.9421 - val_categorical_accuracy: 0.9423\n",
      "Epoch 14/25\n",
      "85/86 [============================>.] - ETA: 2s - loss: 0.1213 - f1_score: 0.9789 - categorical_accuracy: 0.9789Found 5498 validated image filenames belonging to 6 classes.\n",
      "86/86 [==============================] - ETA: 0s - loss: 0.1212 - f1_score: 0.9791 - categorical_accuracy: 0.9791Found 971 validated image filenames belonging to 6 classes.\n",
      "\n",
      "Epoch 00014: val_loss did not improve from 0.33511\n",
      "86/86 [==============================] - 229s 3s/step - loss: 0.1212 - f1_score: 0.9791 - categorical_accuracy: 0.9791 - val_loss: 0.3448 - val_f1_score: 0.9432 - val_categorical_accuracy: 0.9434\n",
      "Epoch 15/25\n",
      "85/86 [============================>.] - ETA: 2s - loss: 0.1178 - f1_score: 0.9822 - categorical_accuracy: 0.9822Found 5498 validated image filenames belonging to 6 classes.\n",
      "86/86 [==============================] - ETA: 0s - loss: 0.1179 - f1_score: 0.9820 - categorical_accuracy: 0.9820Found 971 validated image filenames belonging to 6 classes.\n",
      "\n",
      "Epoch 00015: val_loss did not improve from 0.33511\n",
      "86/86 [==============================] - 229s 3s/step - loss: 0.1179 - f1_score: 0.9820 - categorical_accuracy: 0.9820 - val_loss: 0.3535 - val_f1_score: 0.9412 - val_categorical_accuracy: 0.9413\n",
      "Epoch 16/25\n",
      "85/86 [============================>.] - ETA: 2s - loss: 0.1178 - f1_score: 0.9791 - categorical_accuracy: 0.9790\b\b\b\b\b\b\b\b\b\b\b\b\b\b\b\b\b\b\b\b\b\b\b\b\b\b\b\b\b\b\b\b\b\b\b\b\b\b\b\b\b\b\b\b\b\b\b\b\b\b\b\b\b\b\b\b\b\b\b\b\b\b\b\b\b\b\b\b\b\b\b\b\b\b\b\b\b\b\b\b\b\b\b\b\b\b\b\b\b\b\b\b\b\b\b\b\b\b\b\b\b\b\b\b\b\b\b\b\b\b\b\b\bFound 5498 validated image filenames belonging to 6 classes.\n",
      "86/86 [==============================] - ETA: 0s - loss: 0.1176 - f1_score: 0.9793 - categorical_accuracy: 0.9793Found 971 validated image filenames belonging to 6 classes.\n",
      "\n",
      "Epoch 00016: val_loss improved from 0.33511 to 0.32875, saving model to hackerearth_holiday_season_model.h5\n",
      "86/86 [==============================] - 237s 3s/step - loss: 0.1176 - f1_score: 0.9793 - categorical_accuracy: 0.9793 - val_loss: 0.3287 - val_f1_score: 0.9495 - val_categorical_accuracy: 0.9495\n",
      "Epoch 17/25\n",
      "86/86 [==============================] - ETA: 0s - loss: 0.1166 - f1_score: 0.9791 - categorical_accuracy: 0.9791Found 5498 validated image filenames belonging to 6 classes.\n",
      "Found 971 validated image filenames belonging to 6 classes.\n",
      "Found 971 validated image filenames belonging to 6 classes.\n",
      "\n",
      "Epoch 00017: val_loss improved from 0.32875 to 0.32871, saving model to hackerearth_holiday_season_model.h5\n",
      "86/86 [==============================] - 237s 3s/step - loss: 0.1166 - f1_score: 0.9791 - categorical_accuracy: 0.9791 - val_loss: 0.3287 - val_f1_score: 0.9463 - val_categorical_accuracy: 0.9464\n",
      "Epoch 18/25\n",
      "86/86 [==============================] - ETA: 0s - loss: 0.1137 - f1_score: 0.9806 - categorical_accuracy: 0.9805Found 5498 validated image filenames belonging to 6 classes.\n",
      "Found 971 validated image filenames belonging to 6 classes.\n",
      "\n",
      "Epoch 00018: val_loss did not improve from 0.32871\n",
      "86/86 [==============================] - 231s 3s/step - loss: 0.1137 - f1_score: 0.9806 - categorical_accuracy: 0.9805 - val_loss: 0.3309 - val_f1_score: 0.9444 - val_categorical_accuracy: 0.9444\n",
      "Epoch 19/25\n",
      "86/86 [==============================] - ETA: 0s - loss: 0.1126 - f1_score: 0.9773 - categorical_accuracy: 0.9773Found 5498 validated image filenames belonging to 6 classes.\n",
      "Found 971 validated image filenames belonging to 6 classes.\n",
      "\n",
      "Epoch 00019: ReduceLROnPlateau reducing learning rate to 9.999999747378752e-06.\n",
      "\n",
      "Epoch 00019: val_loss did not improve from 0.32871\n",
      "86/86 [==============================] - 231s 3s/step - loss: 0.1126 - f1_score: 0.9773 - categorical_accuracy: 0.9773 - val_loss: 0.3296 - val_f1_score: 0.9422 - val_categorical_accuracy: 0.9423\n",
      "Epoch 20/25\n",
      "86/86 [==============================] - ETA: 0s - loss: 0.1101 - f1_score: 0.9786 - categorical_accuracy: 0.9785Found 5498 validated image filenames belonging to 6 classes.\n",
      "Found 971 validated image filenames belonging to 6 classes.\n",
      "\n",
      "Epoch 00020: val_loss improved from 0.32871 to 0.32738, saving model to hackerearth_holiday_season_model.h5\n",
      "86/86 [==============================] - 236s 3s/step - loss: 0.1101 - f1_score: 0.9786 - categorical_accuracy: 0.9785 - val_loss: 0.3274 - val_f1_score: 0.9453 - val_categorical_accuracy: 0.9454\n",
      "Epoch 21/25\n",
      "86/86 [==============================] - ETA: 0s - loss: 0.1114 - f1_score: 0.9788 - categorical_accuracy: 0.9787Found 5498 validated image filenames belonging to 6 classes.\n",
      "Found 971 validated image filenames belonging to 6 classes.\n",
      "\n",
      "Epoch 00021: val_loss improved from 0.32738 to 0.32646, saving model to hackerearth_holiday_season_model.h5\n",
      "86/86 [==============================] - 239s 3s/step - loss: 0.1114 - f1_score: 0.9788 - categorical_accuracy: 0.9787 - val_loss: 0.3265 - val_f1_score: 0.9453 - val_categorical_accuracy: 0.9454\n",
      "Epoch 22/25\n",
      "85/86 [============================>.] - ETA: 2s - loss: 0.1111 - f1_score: 0.9795 - categorical_accuracy: 0.9794Found 5498 validated image filenames belonging to 6 classes.\n",
      "86/86 [==============================] - ETA: 0s - loss: 0.1110 - f1_score: 0.9795 - categorical_accuracy: 0.9794Found 971 validated image filenames belonging to 6 classes.\n",
      "\n",
      "Epoch 00022: val_loss improved from 0.32646 to 0.32379, saving model to hackerearth_holiday_season_model.h5\n",
      "86/86 [==============================] - 239s 3s/step - loss: 0.1110 - f1_score: 0.9795 - categorical_accuracy: 0.9794 - val_loss: 0.3238 - val_f1_score: 0.9443 - val_categorical_accuracy: 0.9444\n",
      "Epoch 23/25\n",
      "86/86 [==============================] - ETA: 0s - loss: 0.1076 - f1_score: 0.9768 - categorical_accuracy: 0.9767Found 5498 validated image filenames belonging to 6 classes.\n",
      "Found 971 validated image filenames belonging to 6 classes.\n",
      "\n",
      "Epoch 00023: val_loss did not improve from 0.32379\n",
      "86/86 [==============================] - 231s 3s/step - loss: 0.1076 - f1_score: 0.9768 - categorical_accuracy: 0.9767 - val_loss: 0.3248 - val_f1_score: 0.9463 - val_categorical_accuracy: 0.9464\n",
      "Epoch 24/25\n",
      "86/86 [==============================] - ETA: 0s - loss: 0.1109 - f1_score: 0.9808 - categorical_accuracy: 0.9807Found 5498 validated image filenames belonging to 6 classes.\n",
      "Found 971 validated image filenames belonging to 6 classes.\n",
      "\n",
      "Epoch 00024: val_loss improved from 0.32379 to 0.32350, saving model to hackerearth_holiday_season_model.h5\n",
      "86/86 [==============================] - 235s 3s/step - loss: 0.1109 - f1_score: 0.9808 - categorical_accuracy: 0.9807 - val_loss: 0.3235 - val_f1_score: 0.9474 - val_categorical_accuracy: 0.9475\n",
      "Epoch 25/25\n",
      "85/86 [============================>.] - ETA: 2s - loss: 0.1062 - f1_score: 0.9800 - categorical_accuracy: 0.9800Found 5498 validated image filenames belonging to 6 classes.\n",
      "86/86 [==============================] - ETA: 0s - loss: 0.1062 - f1_score: 0.9800 - categorical_accuracy: 0.9800Found 971 validated image filenames belonging to 6 classes.\n",
      "\n",
      "Epoch 00025: val_loss improved from 0.32350 to 0.32267, saving model to hackerearth_holiday_season_model.h5\n",
      "86/86 [==============================] - 236s 3s/step - loss: 0.1062 - f1_score: 0.9800 - categorical_accuracy: 0.9800 - val_loss: 0.3227 - val_f1_score: 0.9474 - val_categorical_accuracy: 0.9475\n"
     ]
    }
   ],
   "source": [
    "history = model.fit(\n",
    "    train_generator(), \n",
    "    steps_per_epoch=steps_per_epoch,\n",
    "    class_weight=class_weight, \n",
    "    epochs=25, \n",
    "    verbose=1, \n",
    "    callbacks=[reduce_lr, early, chk_point], \n",
    "    validation_data=validation_generator(),\n",
    "    validation_steps=validation_steps\n",
    ")"
   ]
  },
  {
   "cell_type": "code",
   "execution_count": 19,
   "metadata": {
    "execution": {
     "iopub.execute_input": "2021-01-25T17:28:38.454075Z",
     "iopub.status.busy": "2021-01-25T17:28:38.444953Z",
     "iopub.status.idle": "2021-01-25T17:28:39.279019Z",
     "shell.execute_reply": "2021-01-25T17:28:39.278112Z"
    },
    "papermill": {
     "duration": 1.524291,
     "end_time": "2021-01-25T17:28:39.279119",
     "exception": false,
     "start_time": "2021-01-25T17:28:37.754828",
     "status": "completed"
    },
    "tags": []
   },
   "outputs": [
    {
     "data": {
      "image/png": "[encoded data removed]",
      "text/plain": [
       "<Figure size 2160x720 with 3 Axes>"
      ]
     },
     "metadata": {},
     "output_type": "display_data"
    }
   ],
   "source": [
    "_, ax = plt.subplots(1, 3, figsize=(30, 10))\n",
    "\n",
    "ax[0].plot(history.history['loss'], label='train_loss')\n",
    "ax[0].plot(history.history['val_loss'], label='val_loss')\n",
    "ax[0].set_ylabel('Loss')\n",
    "ax[0].set_xlabel('Epoch')\n",
    "ax[0].set_title(\"Model Loss Curve\")\n",
    "ax[0].legend()\n",
    "ax[0].grid()\n",
    "\n",
    "ax[1].plot(history.history['f1_score'], label='train_f1_score')\n",
    "ax[1].plot(history.history['val_f1_score'], label='val_f1_score')\n",
    "ax[1].set_ylabel('F1-Score')\n",
    "ax[1].set_xlabel('Epoch')\n",
    "ax[1].set_title(\"Model F1-Score Curve\")\n",
    "ax[1].legend()\n",
    "ax[1].grid()\n",
    "\n",
    "ax[2].plot(history.history['categorical_accuracy'], label='train_accuracy')\n",
    "ax[2].plot(history.history['val_categorical_accuracy'], label='val_accuracy')\n",
    "ax[2].set_ylabel('Accuracy')\n",
    "ax[2].set_xlabel('Epoch')\n",
    "ax[2].set_title(\"Model Accuracy Curve\")\n",
    "ax[2].legend()\n",
    "ax[2].grid()"
   ]
  },
  {
   "cell_type": "markdown",
   "metadata": {
    "papermill": {
     "duration": 0.679059,
     "end_time": "2021-01-25T17:28:40.938753",
     "exception": false,
     "start_time": "2021-01-25T17:28:40.259694",
     "status": "completed"
    },
    "tags": []
   },
   "source": [
    "## Check classification report"
   ]
  },
  {
   "cell_type": "code",
   "execution_count": 20,
   "metadata": {
    "execution": {
     "iopub.execute_input": "2021-01-25T17:28:42.332478Z",
     "iopub.status.busy": "2021-01-25T17:28:42.309615Z",
     "iopub.status.idle": "2021-01-25T17:28:53.739945Z",
     "shell.execute_reply": "2021-01-25T17:28:53.740644Z"
    },
    "papermill": {
     "duration": 12.112134,
     "end_time": "2021-01-25T17:28:53.740799",
     "exception": false,
     "start_time": "2021-01-25T17:28:41.628665",
     "status": "completed"
    },
    "tags": []
   },
   "outputs": [
    {
     "ename": "ValueError",
     "evalue": "The name \"tf_op_layer_er_AddV2\" is used 3 times in the model. All layer names should be unique.",
     "output_type": "error",
     "traceback": [
      "\u001b[0;31m---------------------------------------------------------------------------\u001b[0m",
      "\u001b[0;31mValueError\u001b[0m                                Traceback (most recent call last)",
      "\u001b[0;32m<ipython-input-20-5b739f3a5ddd>\u001b[0m in \u001b[0;36m<module>\u001b[0;34m\u001b[0m\n\u001b[0;32m----> 1\u001b[0;31m \u001b[0mmodel\u001b[0m \u001b[0;34m=\u001b[0m \u001b[0mload_model\u001b[0m\u001b[0;34m(\u001b[0m\u001b[0;34m'./hackerearth_holiday_season_model.h5'\u001b[0m\u001b[0;34m)\u001b[0m\u001b[0;34m\u001b[0m\u001b[0;34m\u001b[0m\u001b[0m\n\u001b[0m",
      "\u001b[0;32m/opt/conda/lib/python3.7/site-packages/tensorflow/python/keras/saving/save.py\u001b[0m in \u001b[0;36mload_model\u001b[0;34m(filepath, custom_objects, compile, options)\u001b[0m\n\u001b[1;32m    180\u001b[0m     if (h5py is not None and (\n\u001b[1;32m    181\u001b[0m         isinstance(filepath, h5py.File) or h5py.is_hdf5(filepath))):\n\u001b[0;32m--> 182\u001b[0;31m       \u001b[0;32mreturn\u001b[0m \u001b[0mhdf5_format\u001b[0m\u001b[0;34m.\u001b[0m\u001b[0mload_model_from_hdf5\u001b[0m\u001b[0;34m(\u001b[0m\u001b[0mfilepath\u001b[0m\u001b[0;34m,\u001b[0m \u001b[0mcustom_objects\u001b[0m\u001b[0;34m,\u001b[0m \u001b[0mcompile\u001b[0m\u001b[0;34m)\u001b[0m\u001b[0;34m\u001b[0m\u001b[0;34m\u001b[0m\u001b[0m\n\u001b[0m\u001b[1;32m    183\u001b[0m \u001b[0;34m\u001b[0m\u001b[0m\n\u001b[1;32m    184\u001b[0m     \u001b[0mfilepath\u001b[0m \u001b[0;34m=\u001b[0m \u001b[0mpath_to_string\u001b[0m\u001b[0;34m(\u001b[0m\u001b[0mfilepath\u001b[0m\u001b[0;34m)\u001b[0m\u001b[0;34m\u001b[0m\u001b[0;34m\u001b[0m\u001b[0m\n",
      "\u001b[0;32m/opt/conda/lib/python3.7/site-packages/tensorflow/python/keras/saving/hdf5_format.py\u001b[0m in \u001b[0;36mload_model_from_hdf5\u001b[0;34m(filepath, custom_objects, compile)\u001b[0m\n\u001b[1;32m    176\u001b[0m     \u001b[0mmodel_config\u001b[0m \u001b[0;34m=\u001b[0m \u001b[0mjson\u001b[0m\u001b[0;34m.\u001b[0m\u001b[0mloads\u001b[0m\u001b[0;34m(\u001b[0m\u001b[0mmodel_config\u001b[0m\u001b[0;34m.\u001b[0m\u001b[0mdecode\u001b[0m\u001b[0;34m(\u001b[0m\u001b[0;34m'utf-8'\u001b[0m\u001b[0;34m)\u001b[0m\u001b[0;34m)\u001b[0m\u001b[0;34m\u001b[0m\u001b[0;34m\u001b[0m\u001b[0m\n\u001b[1;32m    177\u001b[0m     model = model_config_lib.model_from_config(model_config,\n\u001b[0;32m--> 178\u001b[0;31m                                                custom_objects=custom_objects)\n\u001b[0m\u001b[1;32m    179\u001b[0m \u001b[0;34m\u001b[0m\u001b[0m\n\u001b[1;32m    180\u001b[0m     \u001b[0;31m# set weights\u001b[0m\u001b[0;34m\u001b[0m\u001b[0;34m\u001b[0m\u001b[0;34m\u001b[0m\u001b[0m\n",
      "\u001b[0;32m/opt/conda/lib/python3.7/site-packages/tensorflow/python/keras/saving/model_config.py\u001b[0m in \u001b[0;36mmodel_from_config\u001b[0;34m(config, custom_objects)\u001b[0m\n\u001b[1;32m     53\u001b[0m                     '`Sequential.from_config(config)`?')\n\u001b[1;32m     54\u001b[0m   \u001b[0;32mfrom\u001b[0m \u001b[0mtensorflow\u001b[0m\u001b[0;34m.\u001b[0m\u001b[0mpython\u001b[0m\u001b[0;34m.\u001b[0m\u001b[0mkeras\u001b[0m\u001b[0;34m.\u001b[0m\u001b[0mlayers\u001b[0m \u001b[0;32mimport\u001b[0m \u001b[0mdeserialize\u001b[0m  \u001b[0;31m# pylint: disable=g-import-not-at-top\u001b[0m\u001b[0;34m\u001b[0m\u001b[0;34m\u001b[0m\u001b[0m\n\u001b[0;32m---> 55\u001b[0;31m   \u001b[0;32mreturn\u001b[0m \u001b[0mdeserialize\u001b[0m\u001b[0;34m(\u001b[0m\u001b[0mconfig\u001b[0m\u001b[0;34m,\u001b[0m \u001b[0mcustom_objects\u001b[0m\u001b[0;34m=\u001b[0m\u001b[0mcustom_objects\u001b[0m\u001b[0;34m)\u001b[0m\u001b[0;34m\u001b[0m\u001b[0;34m\u001b[0m\u001b[0m\n\u001b[0m\u001b[1;32m     56\u001b[0m \u001b[0;34m\u001b[0m\u001b[0m\n\u001b[1;32m     57\u001b[0m \u001b[0;34m\u001b[0m\u001b[0m\n",
      "\u001b[0;32m/opt/conda/lib/python3.7/site-packages/tensorflow/python/keras/layers/serialization.py\u001b[0m in \u001b[0;36mdeserialize\u001b[0;34m(config, custom_objects)\u001b[0m\n\u001b[1;32m    173\u001b[0m       \u001b[0mmodule_objects\u001b[0m\u001b[0;34m=\u001b[0m\u001b[0mLOCAL\u001b[0m\u001b[0;34m.\u001b[0m\u001b[0mALL_OBJECTS\u001b[0m\u001b[0;34m,\u001b[0m\u001b[0;34m\u001b[0m\u001b[0;34m\u001b[0m\u001b[0m\n\u001b[1;32m    174\u001b[0m       \u001b[0mcustom_objects\u001b[0m\u001b[0;34m=\u001b[0m\u001b[0mcustom_objects\u001b[0m\u001b[0;34m,\u001b[0m\u001b[0;34m\u001b[0m\u001b[0;34m\u001b[0m\u001b[0m\n\u001b[0;32m--> 175\u001b[0;31m       printable_module_name='layer')\n\u001b[0m",
      "\u001b[0;32m/opt/conda/lib/python3.7/site-packages/tensorflow/python/keras/utils/generic_utils.py\u001b[0m in \u001b[0;36mdeserialize_keras_object\u001b[0;34m(identifier, module_objects, custom_objects, printable_module_name)\u001b[0m\n\u001b[1;32m    356\u001b[0m             custom_objects=dict(\n\u001b[1;32m    357\u001b[0m                 \u001b[0mlist\u001b[0m\u001b[0;34m(\u001b[0m\u001b[0m_GLOBAL_CUSTOM_OBJECTS\u001b[0m\u001b[0;34m.\u001b[0m\u001b[0mitems\u001b[0m\u001b[0;34m(\u001b[0m\u001b[0;34m)\u001b[0m\u001b[0;34m)\u001b[0m \u001b[0;34m+\u001b[0m\u001b[0;34m\u001b[0m\u001b[0;34m\u001b[0m\u001b[0m\n\u001b[0;32m--> 358\u001b[0;31m                 list(custom_objects.items())))\n\u001b[0m\u001b[1;32m    359\u001b[0m       \u001b[0;32mwith\u001b[0m \u001b[0mCustomObjectScope\u001b[0m\u001b[0;34m(\u001b[0m\u001b[0mcustom_objects\u001b[0m\u001b[0;34m)\u001b[0m\u001b[0;34m:\u001b[0m\u001b[0;34m\u001b[0m\u001b[0;34m\u001b[0m\u001b[0m\n\u001b[1;32m    360\u001b[0m         \u001b[0;32mreturn\u001b[0m \u001b[0mcls\u001b[0m\u001b[0;34m.\u001b[0m\u001b[0mfrom_config\u001b[0m\u001b[0;34m(\u001b[0m\u001b[0mcls_config\u001b[0m\u001b[0;34m)\u001b[0m\u001b[0;34m\u001b[0m\u001b[0;34m\u001b[0m\u001b[0m\n",
      "\u001b[0;32m/opt/conda/lib/python3.7/site-packages/tensorflow/python/keras/engine/functional.py\u001b[0m in \u001b[0;36mfrom_config\u001b[0;34m(cls, config, custom_objects)\u001b[0m\n\u001b[1;32m    617\u001b[0m         config, custom_objects)\n\u001b[1;32m    618\u001b[0m     model = cls(inputs=input_tensors, outputs=output_tensors,\n\u001b[0;32m--> 619\u001b[0;31m                 name=config.get('name'))\n\u001b[0m\u001b[1;32m    620\u001b[0m     \u001b[0mconnect_ancillary_layers\u001b[0m\u001b[0;34m(\u001b[0m\u001b[0mmodel\u001b[0m\u001b[0;34m,\u001b[0m \u001b[0mcreated_layers\u001b[0m\u001b[0;34m)\u001b[0m\u001b[0;34m\u001b[0m\u001b[0;34m\u001b[0m\u001b[0m\n\u001b[1;32m    621\u001b[0m     \u001b[0;32mreturn\u001b[0m \u001b[0mmodel\u001b[0m\u001b[0;34m\u001b[0m\u001b[0;34m\u001b[0m\u001b[0m\n",
      "\u001b[0;32m/opt/conda/lib/python3.7/site-packages/tensorflow/python/training/tracking/base.py\u001b[0m in \u001b[0;36m_method_wrapper\u001b[0;34m(self, *args, **kwargs)\u001b[0m\n\u001b[1;32m    455\u001b[0m     \u001b[0mself\u001b[0m\u001b[0;34m.\u001b[0m\u001b[0m_self_setattr_tracking\u001b[0m \u001b[0;34m=\u001b[0m \u001b[0;32mFalse\u001b[0m  \u001b[0;31m# pylint: disable=protected-access\u001b[0m\u001b[0;34m\u001b[0m\u001b[0;34m\u001b[0m\u001b[0m\n\u001b[1;32m    456\u001b[0m     \u001b[0;32mtry\u001b[0m\u001b[0;34m:\u001b[0m\u001b[0;34m\u001b[0m\u001b[0;34m\u001b[0m\u001b[0m\n\u001b[0;32m--> 457\u001b[0;31m       \u001b[0mresult\u001b[0m \u001b[0;34m=\u001b[0m \u001b[0mmethod\u001b[0m\u001b[0;34m(\u001b[0m\u001b[0mself\u001b[0m\u001b[0;34m,\u001b[0m \u001b[0;34m*\u001b[0m\u001b[0margs\u001b[0m\u001b[0;34m,\u001b[0m \u001b[0;34m**\u001b[0m\u001b[0mkwargs\u001b[0m\u001b[0;34m)\u001b[0m\u001b[0;34m\u001b[0m\u001b[0;34m\u001b[0m\u001b[0m\n\u001b[0m\u001b[1;32m    458\u001b[0m     \u001b[0;32mfinally\u001b[0m\u001b[0;34m:\u001b[0m\u001b[0;34m\u001b[0m\u001b[0;34m\u001b[0m\u001b[0m\n\u001b[1;32m    459\u001b[0m       \u001b[0mself\u001b[0m\u001b[0;34m.\u001b[0m\u001b[0m_self_setattr_tracking\u001b[0m \u001b[0;34m=\u001b[0m \u001b[0mprevious_value\u001b[0m  \u001b[0;31m# pylint: disable=protected-access\u001b[0m\u001b[0;34m\u001b[0m\u001b[0;34m\u001b[0m\u001b[0m\n",
      "\u001b[0;32m/opt/conda/lib/python3.7/site-packages/tensorflow/python/keras/engine/functional.py\u001b[0m in \u001b[0;36m__init__\u001b[0;34m(self, inputs, outputs, name, trainable)\u001b[0m\n\u001b[1;32m    113\u001b[0m     \u001b[0;31m#     'arguments during initialization. Got an unexpected argument:')\u001b[0m\u001b[0;34m\u001b[0m\u001b[0;34m\u001b[0m\u001b[0;34m\u001b[0m\u001b[0m\n\u001b[1;32m    114\u001b[0m     \u001b[0msuper\u001b[0m\u001b[0;34m(\u001b[0m\u001b[0mFunctional\u001b[0m\u001b[0;34m,\u001b[0m \u001b[0mself\u001b[0m\u001b[0;34m)\u001b[0m\u001b[0;34m.\u001b[0m\u001b[0m__init__\u001b[0m\u001b[0;34m(\u001b[0m\u001b[0mname\u001b[0m\u001b[0;34m=\u001b[0m\u001b[0mname\u001b[0m\u001b[0;34m,\u001b[0m \u001b[0mtrainable\u001b[0m\u001b[0;34m=\u001b[0m\u001b[0mtrainable\u001b[0m\u001b[0;34m)\u001b[0m\u001b[0;34m\u001b[0m\u001b[0;34m\u001b[0m\u001b[0m\n\u001b[0;32m--> 115\u001b[0;31m     \u001b[0mself\u001b[0m\u001b[0;34m.\u001b[0m\u001b[0m_init_graph_network\u001b[0m\u001b[0;34m(\u001b[0m\u001b[0minputs\u001b[0m\u001b[0;34m,\u001b[0m \u001b[0moutputs\u001b[0m\u001b[0;34m)\u001b[0m\u001b[0;34m\u001b[0m\u001b[0;34m\u001b[0m\u001b[0m\n\u001b[0m\u001b[1;32m    116\u001b[0m \u001b[0;34m\u001b[0m\u001b[0m\n\u001b[1;32m    117\u001b[0m   \u001b[0;34m@\u001b[0m\u001b[0mtrackable\u001b[0m\u001b[0;34m.\u001b[0m\u001b[0mno_automatic_dependency_tracking\u001b[0m\u001b[0;34m\u001b[0m\u001b[0;34m\u001b[0m\u001b[0m\n",
      "\u001b[0;32m/opt/conda/lib/python3.7/site-packages/tensorflow/python/training/tracking/base.py\u001b[0m in \u001b[0;36m_method_wrapper\u001b[0;34m(self, *args, **kwargs)\u001b[0m\n\u001b[1;32m    455\u001b[0m     \u001b[0mself\u001b[0m\u001b[0;34m.\u001b[0m\u001b[0m_self_setattr_tracking\u001b[0m \u001b[0;34m=\u001b[0m \u001b[0;32mFalse\u001b[0m  \u001b[0;31m# pylint: disable=protected-access\u001b[0m\u001b[0;34m\u001b[0m\u001b[0;34m\u001b[0m\u001b[0m\n\u001b[1;32m    456\u001b[0m     \u001b[0;32mtry\u001b[0m\u001b[0;34m:\u001b[0m\u001b[0;34m\u001b[0m\u001b[0;34m\u001b[0m\u001b[0m\n\u001b[0;32m--> 457\u001b[0;31m       \u001b[0mresult\u001b[0m \u001b[0;34m=\u001b[0m \u001b[0mmethod\u001b[0m\u001b[0;34m(\u001b[0m\u001b[0mself\u001b[0m\u001b[0;34m,\u001b[0m \u001b[0;34m*\u001b[0m\u001b[0margs\u001b[0m\u001b[0;34m,\u001b[0m \u001b[0;34m**\u001b[0m\u001b[0mkwargs\u001b[0m\u001b[0;34m)\u001b[0m\u001b[0;34m\u001b[0m\u001b[0;34m\u001b[0m\u001b[0m\n\u001b[0m\u001b[1;32m    458\u001b[0m     \u001b[0;32mfinally\u001b[0m\u001b[0;34m:\u001b[0m\u001b[0;34m\u001b[0m\u001b[0;34m\u001b[0m\u001b[0m\n\u001b[1;32m    459\u001b[0m       \u001b[0mself\u001b[0m\u001b[0;34m.\u001b[0m\u001b[0m_self_setattr_tracking\u001b[0m \u001b[0;34m=\u001b[0m \u001b[0mprevious_value\u001b[0m  \u001b[0;31m# pylint: disable=protected-access\u001b[0m\u001b[0;34m\u001b[0m\u001b[0;34m\u001b[0m\u001b[0m\n",
      "\u001b[0;32m/opt/conda/lib/python3.7/site-packages/tensorflow/python/keras/engine/functional.py\u001b[0m in \u001b[0;36m_init_graph_network\u001b[0;34m(self, inputs, outputs)\u001b[0m\n\u001b[1;32m    189\u001b[0m     \u001b[0;31m# Keep track of the network's nodes and layers.\u001b[0m\u001b[0;34m\u001b[0m\u001b[0;34m\u001b[0m\u001b[0;34m\u001b[0m\u001b[0m\n\u001b[1;32m    190\u001b[0m     nodes, nodes_by_depth, layers, _ = _map_graph_network(\n\u001b[0;32m--> 191\u001b[0;31m         self.inputs, self.outputs)\n\u001b[0m\u001b[1;32m    192\u001b[0m     \u001b[0mself\u001b[0m\u001b[0;34m.\u001b[0m\u001b[0m_network_nodes\u001b[0m \u001b[0;34m=\u001b[0m \u001b[0mnodes\u001b[0m\u001b[0;34m\u001b[0m\u001b[0;34m\u001b[0m\u001b[0m\n\u001b[1;32m    193\u001b[0m     \u001b[0mself\u001b[0m\u001b[0;34m.\u001b[0m\u001b[0m_nodes_by_depth\u001b[0m \u001b[0;34m=\u001b[0m \u001b[0mnodes_by_depth\u001b[0m\u001b[0;34m\u001b[0m\u001b[0;34m\u001b[0m\u001b[0m\n",
      "\u001b[0;32m/opt/conda/lib/python3.7/site-packages/tensorflow/python/keras/engine/functional.py\u001b[0m in \u001b[0;36m_map_graph_network\u001b[0;34m(inputs, outputs)\u001b[0m\n\u001b[1;32m    940\u001b[0m     \u001b[0;32mif\u001b[0m \u001b[0mall_names\u001b[0m\u001b[0;34m.\u001b[0m\u001b[0mcount\u001b[0m\u001b[0;34m(\u001b[0m\u001b[0mname\u001b[0m\u001b[0;34m)\u001b[0m \u001b[0;34m!=\u001b[0m \u001b[0;36m1\u001b[0m\u001b[0;34m:\u001b[0m\u001b[0;34m\u001b[0m\u001b[0;34m\u001b[0m\u001b[0m\n\u001b[1;32m    941\u001b[0m       raise ValueError('The name \"' + name + '\" is used ' +\n\u001b[0;32m--> 942\u001b[0;31m                        \u001b[0mstr\u001b[0m\u001b[0;34m(\u001b[0m\u001b[0mall_names\u001b[0m\u001b[0;34m.\u001b[0m\u001b[0mcount\u001b[0m\u001b[0;34m(\u001b[0m\u001b[0mname\u001b[0m\u001b[0;34m)\u001b[0m\u001b[0;34m)\u001b[0m \u001b[0;34m+\u001b[0m \u001b[0;34m' times in the model. '\u001b[0m\u001b[0;34m\u001b[0m\u001b[0;34m\u001b[0m\u001b[0m\n\u001b[0m\u001b[1;32m    943\u001b[0m                        'All layer names should be unique.')\n\u001b[1;32m    944\u001b[0m   \u001b[0;32mreturn\u001b[0m \u001b[0mnetwork_nodes\u001b[0m\u001b[0;34m,\u001b[0m \u001b[0mnodes_by_depth\u001b[0m\u001b[0;34m,\u001b[0m \u001b[0mlayers\u001b[0m\u001b[0;34m,\u001b[0m \u001b[0mlayers_by_depth\u001b[0m\u001b[0;34m\u001b[0m\u001b[0;34m\u001b[0m\u001b[0m\n",
      "\u001b[0;31mValueError\u001b[0m: The name \"tf_op_layer_er_AddV2\" is used 3 times in the model. All layer names should be unique."
     ]
    }
   ],
   "source": [
    "model = load_model('./hackerearth_holiday_season_model.h5')"
   ]
  },
  {
   "cell_type": "code",
   "execution_count": 21,
   "metadata": {
    "execution": {
     "iopub.execute_input": "2021-01-25T17:28:55.060863Z",
     "iopub.status.busy": "2021-01-25T17:28:55.059982Z",
     "iopub.status.idle": "2021-01-25T17:29:28.249606Z",
     "shell.execute_reply": "2021-01-25T17:29:28.250343Z"
    },
    "papermill": {
     "duration": 33.845952,
     "end_time": "2021-01-25T17:29:28.250500",
     "exception": false,
     "start_time": "2021-01-25T17:28:54.404548",
     "status": "completed"
    },
    "tags": []
   },
   "outputs": [
    {
     "name": "stdout",
     "output_type": "stream",
     "text": [
      "Found 971 validated image filenames belonging to 6 classes.\n",
      "15/16 [===========================>..] - ETA: 1sFound 971 validated image filenames belonging to 6 classes.\n",
      "16/16 [==============================] - 21s 1s/step\n",
      "              precision    recall  f1-score   support\n",
      "\n",
      "           0       1.00      0.93      0.96        80\n",
      "           1       0.94      0.87      0.90        89\n",
      "           2       0.95      0.94      0.94       231\n",
      "           3       0.97      0.97      0.97        96\n",
      "           4       0.94      0.97      0.96       421\n",
      "           5       0.88      0.94      0.91        54\n",
      "\n",
      "    accuracy                           0.95       971\n",
      "   macro avg       0.95      0.94      0.94       971\n",
      "weighted avg       0.95      0.95      0.95       971\n",
      "\n"
     ]
    }
   ],
   "source": [
    "y_true = validation_df['Class_enc'].values\n",
    "y_pred = model.predict(validation_generator(), steps=validation_steps, verbose=1)\n",
    "y_pred = np.argmax(y_pred, axis=1)\n",
    "\n",
    "print(classification_report(y_true.astype(int), y_pred))"
   ]
  },
  {
   "cell_type": "code",
   "execution_count": 22,
   "metadata": {
    "execution": {
     "iopub.execute_input": "2021-01-25T17:29:29.581479Z",
     "iopub.status.busy": "2021-01-25T17:29:29.580709Z",
     "iopub.status.idle": "2021-01-25T17:29:29.955608Z",
     "shell.execute_reply": "2021-01-25T17:29:29.954677Z"
    },
    "papermill": {
     "duration": 1.036776,
     "end_time": "2021-01-25T17:29:29.955735",
     "exception": false,
     "start_time": "2021-01-25T17:29:28.918959",
     "status": "completed"
    },
    "tags": []
   },
   "outputs": [
    {
     "data": {
      "image/png": "[encoded data removed]",
      "text/plain": [
       "<Figure size 864x504 with 2 Axes>"
      ]
     },
     "metadata": {},
     "output_type": "display_data"
    }
   ],
   "source": [
    "cnf_matrix = confusion_matrix(y_true.astype(int), y_pred, labels=[0, 1, 2, 3, 4, 5])\n",
    "np.set_printoptions(precision=2)\n",
    "plt.figure(figsize=(12,7))\n",
    "plot_confusion_matrix(cnf_matrix, classes=[0, 1, 2, 3, 4, 5])"
   ]
  },
  {
   "cell_type": "markdown",
   "metadata": {
    "papermill": {
     "duration": 0.664999,
     "end_time": "2021-01-25T17:29:31.315758",
     "exception": false,
     "start_time": "2021-01-25T17:29:30.650759",
     "status": "completed"
    },
    "tags": []
   },
   "source": [
    "## Create submission file"
   ]
  },
  {
   "cell_type": "code",
   "execution_count": 23,
   "metadata": {
    "execution": {
     "iopub.execute_input": "2021-01-25T17:29:32.642316Z",
     "iopub.status.busy": "2021-01-25T17:29:32.641062Z",
     "iopub.status.idle": "2021-01-25T17:29:32.642948Z",
     "shell.execute_reply": "2021-01-25T17:29:32.643383Z"
    },
    "papermill": {
     "duration": 0.668362,
     "end_time": "2021-01-25T17:29:32.643501",
     "exception": false,
     "start_time": "2021-01-25T17:29:31.975139",
     "status": "completed"
    },
    "tags": []
   },
   "outputs": [],
   "source": [
    "rev_class_map = {\n",
    "    0: 'Airplane',\n",
    "    1: 'Candle',\n",
    "    2: 'Christmas_Tree',\n",
    "    3: 'Jacket',\n",
    "    4: 'Miscellaneous',\n",
    "    5: 'Snowman'\n",
    "}"
   ]
  },
  {
   "cell_type": "code",
   "execution_count": 24,
   "metadata": {
    "execution": {
     "iopub.execute_input": "2021-01-25T17:29:34.000506Z",
     "iopub.status.busy": "2021-01-25T17:29:33.999674Z",
     "iopub.status.idle": "2021-01-25T17:30:57.976524Z",
     "shell.execute_reply": "2021-01-25T17:30:57.977301Z"
    },
    "papermill": {
     "duration": 84.652229,
     "end_time": "2021-01-25T17:30:57.977442",
     "exception": false,
     "start_time": "2021-01-25T17:29:33.325213",
     "status": "completed"
    },
    "tags": []
   },
   "outputs": [
    {
     "name": "stdout",
     "output_type": "stream",
     "text": [
      "Found 3489 validated image filenames belonging to 1 classes.\n",
      "54/55 [============================>.] - ETA: 1sFound 3489 validated image filenames belonging to 1 classes.\n",
      "55/55 [==============================] - 79s 1s/step\n",
      "(3489,)\n"
     ]
    }
   ],
   "source": [
    "y_pred_final = model.predict(test_generator(), steps=test_steps, verbose=1)\n",
    "y_pred_final = np.argmax(y_pred_final, axis=1)\n",
    "print(y_pred_final.shape)"
   ]
  },
  {
   "cell_type": "code",
   "execution_count": 25,
   "metadata": {
    "execution": {
     "iopub.execute_input": "2021-01-25T17:30:59.366803Z",
     "iopub.status.busy": "2021-01-25T17:30:59.366205Z",
     "iopub.status.idle": "2021-01-25T17:30:59.371356Z",
     "shell.execute_reply": "2021-01-25T17:30:59.371775Z"
    },
    "papermill": {
     "duration": 0.699189,
     "end_time": "2021-01-25T17:30:59.371895",
     "exception": false,
     "start_time": "2021-01-25T17:30:58.672706",
     "status": "completed"
    },
    "tags": []
   },
   "outputs": [
    {
     "data": {
      "text/html": [
       "<div>\n",
       "<style scoped>\n",
       "    .dataframe tbody tr th:only-of-type {\n",
       "        vertical-align: middle;\n",
       "    }\n",
       "\n",
       "    .dataframe tbody tr th {\n",
       "        vertical-align: top;\n",
       "    }\n",
       "\n",
       "    .dataframe thead th {\n",
       "        text-align: right;\n",
       "    }\n",
       "</style>\n",
       "<table border=\"1\" class=\"dataframe\">\n",
       "  <thead>\n",
       "    <tr style=\"text-align: right;\">\n",
       "      <th></th>\n",
       "      <th>Image</th>\n",
       "      <th>Class</th>\n",
       "    </tr>\n",
       "  </thead>\n",
       "  <tbody>\n",
       "    <tr>\n",
       "      <th>0</th>\n",
       "      <td>image7761.jpg</td>\n",
       "      <td>Miscellaneous</td>\n",
       "    </tr>\n",
       "    <tr>\n",
       "      <th>1</th>\n",
       "      <td>image3202.jpg</td>\n",
       "      <td>Miscellaneous</td>\n",
       "    </tr>\n",
       "    <tr>\n",
       "      <th>2</th>\n",
       "      <td>image688.jpg</td>\n",
       "      <td>Snowman</td>\n",
       "    </tr>\n",
       "    <tr>\n",
       "      <th>3</th>\n",
       "      <td>image233.jpg</td>\n",
       "      <td>Candle</td>\n",
       "    </tr>\n",
       "    <tr>\n",
       "      <th>4</th>\n",
       "      <td>image4332.jpg</td>\n",
       "      <td>Christmas_Tree</td>\n",
       "    </tr>\n",
       "  </tbody>\n",
       "</table>\n",
       "</div>"
      ],
      "text/plain": [
       "           Image           Class\n",
       "0  image7761.jpg   Miscellaneous\n",
       "1  image3202.jpg   Miscellaneous\n",
       "2   image688.jpg         Snowman\n",
       "3   image233.jpg          Candle\n",
       "4  image4332.jpg  Christmas_Tree"
      ]
     },
     "execution_count": 25,
     "metadata": {},
     "output_type": "execute_result"
    }
   ],
   "source": [
    "test_df['Class'] = y_pred_final\n",
    "test_df['Class'] = test_df['Class'].map(rev_class_map)\n",
    "test_df.head()"
   ]
  },
  {
   "cell_type": "code",
   "execution_count": 26,
   "metadata": {
    "execution": {
     "iopub.execute_input": "2021-01-25T17:31:00.784079Z",
     "iopub.status.busy": "2021-01-25T17:31:00.783496Z",
     "iopub.status.idle": "2021-01-25T17:31:01.068154Z",
     "shell.execute_reply": "2021-01-25T17:31:01.067115Z"
    },
    "papermill": {
     "duration": 1.010594,
     "end_time": "2021-01-25T17:31:01.068267",
     "exception": false,
     "start_time": "2021-01-25T17:31:00.057673",
     "status": "completed"
    },
    "tags": []
   },
   "outputs": [],
   "source": [
    "test_df.to_csv(\"/kaggle/working/submission.csv\", index=False)"
   ]
  }
 ],
 "metadata": {
  "kernelspec": {
   "display_name": "Python 3",
   "language": "python",
   "name": "python3"
  },
  "language_info": {
   "codemirror_mode": {
    "name": "ipython",
    "version": 3
   },
   "file_extension": ".py",
   "mimetype": "text/x-python",
   "name": "python",
   "nbconvert_exporter": "python",
   "pygments_lexer": "ipython3",
   "version": "3.7.6"
  },
  "papermill": {
   "duration": 6192.560202,
   "end_time": "2021-01-25T17:31:03.356395",
   "environment_variables": {},
   "exception": null,
   "input_path": "__notebook__.ipynb",
   "output_path": "__notebook__.ipynb",
   "parameters": {},
   "start_time": "2021-01-25T15:47:50.796193",
   "version": "2.1.0"
  }
 },
 "nbformat": 4,
 "nbformat_minor": 4
}
