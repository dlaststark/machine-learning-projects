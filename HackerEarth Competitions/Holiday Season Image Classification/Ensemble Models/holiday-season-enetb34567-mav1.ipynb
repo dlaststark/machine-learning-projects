{
 "cells": [
  {
   "cell_type": "markdown",
   "metadata": {
    "papermill": {
     "duration": 0.030563,
     "end_time": "2021-01-29T13:06:16.015677",
     "exception": false,
     "start_time": "2021-01-29T13:06:15.985114",
     "status": "completed"
    },
    "tags": []
   },
   "source": [
    "## Import Packages"
   ]
  },
  {
   "cell_type": "code",
   "execution_count": 1,
   "metadata": {
    "execution": {
     "iopub.execute_input": "2021-01-29T13:06:16.087596Z",
     "iopub.status.busy": "2021-01-29T13:06:16.086694Z",
     "iopub.status.idle": "2021-01-29T13:06:23.487668Z",
     "shell.execute_reply": "2021-01-29T13:06:23.486330Z"
    },
    "papermill": {
     "duration": 7.442905,
     "end_time": "2021-01-29T13:06:23.487848",
     "exception": false,
     "start_time": "2021-01-29T13:06:16.044943",
     "status": "completed"
    },
    "tags": []
   },
   "outputs": [],
   "source": [
    "import os\n",
    "import itertools\n",
    "import numpy as np\n",
    "import pandas as pd\n",
    "import seaborn as sns\n",
    "from tqdm import tqdm\n",
    "import matplotlib.pyplot as plt\n",
    "from sklearn.metrics import confusion_matrix\n",
    "from sklearn.metrics import classification_report\n",
    "from sklearn.model_selection import StratifiedShuffleSplit\n",
    "\n",
    "import tensorflow as tf\n",
    "from tensorflow.keras import backend as K\n",
    "from tensorflow.keras.regularizers import l2\n",
    "from tensorflow_addons.metrics import F1Score\n",
    "from tensorflow.keras.models import Model, load_model\n",
    "from tensorflow_addons.optimizers import AdamW, Lookahead\n",
    "from tensorflow.keras.callbacks import EarlyStopping\n",
    "from tensorflow.keras.callbacks import ReduceLROnPlateau\n",
    "from tensorflow.keras.callbacks import ModelCheckpoint\n",
    "from tensorflow.keras.layers import Concatenate\n",
    "from tensorflow.keras.layers import Dense, Dropout, Flatten\n",
    "from tensorflow.keras.layers import BatchNormalization, Input\n",
    "from tensorflow.keras.layers import ZeroPadding2D, MaxPooling2D\n",
    "from tensorflow.keras.layers import GlobalAveragePooling2D, Add\n",
    "from tensorflow.keras.layers import GlobalMaxPooling2D, Reshape\n",
    "from tensorflow.keras.layers import Activation, Conv2D, Average\n",
    "from tensorflow.keras.preprocessing.image import ImageDataGenerator"
   ]
  },
  {
   "cell_type": "markdown",
   "metadata": {
    "papermill": {
     "duration": 0.028304,
     "end_time": "2021-01-29T13:06:23.546086",
     "exception": false,
     "start_time": "2021-01-29T13:06:23.517782",
     "status": "completed"
    },
    "tags": []
   },
   "source": [
    "## Helper Functions"
   ]
  },
  {
   "cell_type": "code",
   "execution_count": 2,
   "metadata": {
    "execution": {
     "iopub.execute_input": "2021-01-29T13:06:23.616197Z",
     "iopub.status.busy": "2021-01-29T13:06:23.614503Z",
     "iopub.status.idle": "2021-01-29T13:06:23.617022Z",
     "shell.execute_reply": "2021-01-29T13:06:23.617514Z"
    },
    "papermill": {
     "duration": 0.042912,
     "end_time": "2021-01-29T13:06:23.617629",
     "exception": false,
     "start_time": "2021-01-29T13:06:23.574717",
     "status": "completed"
    },
    "tags": []
   },
   "outputs": [],
   "source": [
    "def plot_confusion_matrix(cm, classes):\n",
    "\n",
    "    plt.imshow(cm, interpolation='nearest', cmap=plt.cm.Blues)\n",
    "    plt.title('Confusion matrix')\n",
    "    plt.colorbar()\n",
    "    tick_marks = np.arange(len(classes))\n",
    "    plt.xticks(tick_marks, classes, rotation=0)\n",
    "    plt.yticks(tick_marks, classes)\n",
    "\n",
    "    thresh = cm.max() / 2.\n",
    "    for i, j in itertools.product(range(cm.shape[0]), range(cm.shape[1])):\n",
    "        plt.text(j, i, format(cm[i, j], 'd'),\n",
    "                 horizontalalignment=\"center\",\n",
    "                 color=\"white\" if cm[i, j] > thresh else \"black\")\n",
    "\n",
    "    plt.ylabel('True label')\n",
    "    plt.xlabel('Predicted label')\n",
    "    plt.tight_layout()"
   ]
  },
  {
   "cell_type": "markdown",
   "metadata": {
    "papermill": {
     "duration": 0.028713,
     "end_time": "2021-01-29T13:06:23.674552",
     "exception": false,
     "start_time": "2021-01-29T13:06:23.645839",
     "status": "completed"
    },
    "tags": []
   },
   "source": [
    "## Read true labels + Basic EDA"
   ]
  },
  {
   "cell_type": "code",
   "execution_count": 3,
   "metadata": {
    "execution": {
     "iopub.execute_input": "2021-01-29T13:06:23.741973Z",
     "iopub.status.busy": "2021-01-29T13:06:23.741188Z",
     "iopub.status.idle": "2021-01-29T13:06:23.796834Z",
     "shell.execute_reply": "2021-01-29T13:06:23.797385Z"
    },
    "papermill": {
     "duration": 0.094921,
     "end_time": "2021-01-29T13:06:23.797531",
     "exception": false,
     "start_time": "2021-01-29T13:06:23.702610",
     "status": "completed"
    },
    "tags": []
   },
   "outputs": [
    {
     "data": {
      "text/html": [
       "<div>\n",
       "<style scoped>\n",
       "    .dataframe tbody tr th:only-of-type {\n",
       "        vertical-align: middle;\n",
       "    }\n",
       "\n",
       "    .dataframe tbody tr th {\n",
       "        vertical-align: top;\n",
       "    }\n",
       "\n",
       "    .dataframe thead th {\n",
       "        text-align: right;\n",
       "    }\n",
       "</style>\n",
       "<table border=\"1\" class=\"dataframe\">\n",
       "  <thead>\n",
       "    <tr style=\"text-align: right;\">\n",
       "      <th></th>\n",
       "      <th>Image</th>\n",
       "      <th>Class</th>\n",
       "    </tr>\n",
       "  </thead>\n",
       "  <tbody>\n",
       "    <tr>\n",
       "      <th>0</th>\n",
       "      <td>image3476.jpg</td>\n",
       "      <td>Miscellaneous</td>\n",
       "    </tr>\n",
       "    <tr>\n",
       "      <th>1</th>\n",
       "      <td>image5198.jpg</td>\n",
       "      <td>Candle</td>\n",
       "    </tr>\n",
       "    <tr>\n",
       "      <th>2</th>\n",
       "      <td>image4183.jpg</td>\n",
       "      <td>Snowman</td>\n",
       "    </tr>\n",
       "    <tr>\n",
       "      <th>3</th>\n",
       "      <td>image1806.jpg</td>\n",
       "      <td>Miscellaneous</td>\n",
       "    </tr>\n",
       "    <tr>\n",
       "      <th>4</th>\n",
       "      <td>image7831.jpg</td>\n",
       "      <td>Miscellaneous</td>\n",
       "    </tr>\n",
       "  </tbody>\n",
       "</table>\n",
       "</div>"
      ],
      "text/plain": [
       "           Image          Class\n",
       "0  image3476.jpg  Miscellaneous\n",
       "1  image5198.jpg         Candle\n",
       "2  image4183.jpg        Snowman\n",
       "3  image1806.jpg  Miscellaneous\n",
       "4  image7831.jpg  Miscellaneous"
      ]
     },
     "execution_count": 3,
     "metadata": {},
     "output_type": "execute_result"
    }
   ],
   "source": [
    "train_df = pd.read_csv(\"../input/hackereath-holiday-season-deep-learning-contest/dataset/train.csv\")\n",
    "train_df.head()"
   ]
  },
  {
   "cell_type": "code",
   "execution_count": 4,
   "metadata": {
    "execution": {
     "iopub.execute_input": "2021-01-29T13:06:23.861637Z",
     "iopub.status.busy": "2021-01-29T13:06:23.860783Z",
     "iopub.status.idle": "2021-01-29T13:06:23.863652Z",
     "shell.execute_reply": "2021-01-29T13:06:23.864200Z"
    },
    "papermill": {
     "duration": 0.03723,
     "end_time": "2021-01-29T13:06:23.864358",
     "exception": false,
     "start_time": "2021-01-29T13:06:23.827128",
     "status": "completed"
    },
    "tags": []
   },
   "outputs": [],
   "source": [
    "class_map = {\n",
    "    'Airplane': 0,\n",
    "    'Candle': 1,\n",
    "    'Christmas_Tree': 2,\n",
    "    'Jacket': 3,\n",
    "    'Miscellaneous': 4,\n",
    "    'Snowman': 5\n",
    "}"
   ]
  },
  {
   "cell_type": "code",
   "execution_count": 5,
   "metadata": {
    "execution": {
     "iopub.execute_input": "2021-01-29T13:06:23.942374Z",
     "iopub.status.busy": "2021-01-29T13:06:23.941370Z",
     "iopub.status.idle": "2021-01-29T13:06:23.956815Z",
     "shell.execute_reply": "2021-01-29T13:06:23.956169Z"
    },
    "papermill": {
     "duration": 0.063763,
     "end_time": "2021-01-29T13:06:23.956934",
     "exception": false,
     "start_time": "2021-01-29T13:06:23.893171",
     "status": "completed"
    },
    "tags": []
   },
   "outputs": [
    {
     "data": {
      "text/html": [
       "<div>\n",
       "<style scoped>\n",
       "    .dataframe tbody tr th:only-of-type {\n",
       "        vertical-align: middle;\n",
       "    }\n",
       "\n",
       "    .dataframe tbody tr th {\n",
       "        vertical-align: top;\n",
       "    }\n",
       "\n",
       "    .dataframe thead th {\n",
       "        text-align: right;\n",
       "    }\n",
       "</style>\n",
       "<table border=\"1\" class=\"dataframe\">\n",
       "  <thead>\n",
       "    <tr style=\"text-align: right;\">\n",
       "      <th></th>\n",
       "      <th>Class</th>\n",
       "      <th>Class_enc</th>\n",
       "      <th>Count</th>\n",
       "    </tr>\n",
       "  </thead>\n",
       "  <tbody>\n",
       "    <tr>\n",
       "      <th>0</th>\n",
       "      <td>Airplane</td>\n",
       "      <td>0</td>\n",
       "      <td>535</td>\n",
       "    </tr>\n",
       "    <tr>\n",
       "      <th>1</th>\n",
       "      <td>Candle</td>\n",
       "      <td>1</td>\n",
       "      <td>593</td>\n",
       "    </tr>\n",
       "    <tr>\n",
       "      <th>2</th>\n",
       "      <td>Christmas_Tree</td>\n",
       "      <td>2</td>\n",
       "      <td>1539</td>\n",
       "    </tr>\n",
       "    <tr>\n",
       "      <th>3</th>\n",
       "      <td>Jacket</td>\n",
       "      <td>3</td>\n",
       "      <td>640</td>\n",
       "    </tr>\n",
       "    <tr>\n",
       "      <th>4</th>\n",
       "      <td>Miscellaneous</td>\n",
       "      <td>4</td>\n",
       "      <td>2801</td>\n",
       "    </tr>\n",
       "    <tr>\n",
       "      <th>5</th>\n",
       "      <td>Snowman</td>\n",
       "      <td>5</td>\n",
       "      <td>361</td>\n",
       "    </tr>\n",
       "  </tbody>\n",
       "</table>\n",
       "</div>"
      ],
      "text/plain": [
       "            Class Class_enc  Count\n",
       "0        Airplane         0    535\n",
       "1          Candle         1    593\n",
       "2  Christmas_Tree         2   1539\n",
       "3          Jacket         3    640\n",
       "4   Miscellaneous         4   2801\n",
       "5         Snowman         5    361"
      ]
     },
     "execution_count": 5,
     "metadata": {},
     "output_type": "execute_result"
    }
   ],
   "source": [
    "train_df['Class_enc'] = train_df['Class'].map(class_map)\n",
    "train_df['Class_enc'] = train_df['Class_enc'].astype('str')\n",
    "train_df.groupby(['Class','Class_enc']).size().reset_index().rename(columns={0:'Count'})"
   ]
  },
  {
   "cell_type": "code",
   "execution_count": 6,
   "metadata": {
    "execution": {
     "iopub.execute_input": "2021-01-29T13:06:24.023586Z",
     "iopub.status.busy": "2021-01-29T13:06:24.022859Z",
     "iopub.status.idle": "2021-01-29T13:06:24.294829Z",
     "shell.execute_reply": "2021-01-29T13:06:24.293780Z"
    },
    "papermill": {
     "duration": 0.307715,
     "end_time": "2021-01-29T13:06:24.294962",
     "exception": false,
     "start_time": "2021-01-29T13:06:23.987247",
     "status": "completed"
    },
    "tags": []
   },
   "outputs": [
    {
     "data": {
      "image/png": "[encoded data removed]",
      "text/plain": [
       "<Figure size 864x504 with 1 Axes>"
      ]
     },
     "metadata": {
      "needs_background": "light"
     },
     "output_type": "display_data"
    }
   ],
   "source": [
    "plt.figure(figsize=(12,7))\n",
    "sns.set(style=\"darkgrid\")\n",
    "ax = sns.countplot(x=\"Class\", data=train_df)"
   ]
  },
  {
   "cell_type": "code",
   "execution_count": 7,
   "metadata": {
    "execution": {
     "iopub.execute_input": "2021-01-29T13:06:24.367166Z",
     "iopub.status.busy": "2021-01-29T13:06:24.366509Z",
     "iopub.status.idle": "2021-01-29T13:06:24.473911Z",
     "shell.execute_reply": "2021-01-29T13:06:24.473136Z"
    },
    "papermill": {
     "duration": 0.14346,
     "end_time": "2021-01-29T13:06:24.474053",
     "exception": false,
     "start_time": "2021-01-29T13:06:24.330593",
     "status": "completed"
    },
    "tags": []
   },
   "outputs": [
    {
     "name": "stderr",
     "output_type": "stream",
     "text": [
      "100%|██████████| 3489/3489 [00:00<00:00, 874973.19it/s]\n"
     ]
    },
    {
     "data": {
      "text/html": [
       "<div>\n",
       "<style scoped>\n",
       "    .dataframe tbody tr th:only-of-type {\n",
       "        vertical-align: middle;\n",
       "    }\n",
       "\n",
       "    .dataframe tbody tr th {\n",
       "        vertical-align: top;\n",
       "    }\n",
       "\n",
       "    .dataframe thead th {\n",
       "        text-align: right;\n",
       "    }\n",
       "</style>\n",
       "<table border=\"1\" class=\"dataframe\">\n",
       "  <thead>\n",
       "    <tr style=\"text-align: right;\">\n",
       "      <th></th>\n",
       "      <th>Image</th>\n",
       "      <th>Class</th>\n",
       "    </tr>\n",
       "  </thead>\n",
       "  <tbody>\n",
       "    <tr>\n",
       "      <th>0</th>\n",
       "      <td>image7761.jpg</td>\n",
       "      <td>0</td>\n",
       "    </tr>\n",
       "    <tr>\n",
       "      <th>1</th>\n",
       "      <td>image3202.jpg</td>\n",
       "      <td>0</td>\n",
       "    </tr>\n",
       "    <tr>\n",
       "      <th>2</th>\n",
       "      <td>image688.jpg</td>\n",
       "      <td>0</td>\n",
       "    </tr>\n",
       "    <tr>\n",
       "      <th>3</th>\n",
       "      <td>image233.jpg</td>\n",
       "      <td>0</td>\n",
       "    </tr>\n",
       "    <tr>\n",
       "      <th>4</th>\n",
       "      <td>image4332.jpg</td>\n",
       "      <td>0</td>\n",
       "    </tr>\n",
       "  </tbody>\n",
       "</table>\n",
       "</div>"
      ],
      "text/plain": [
       "           Image Class\n",
       "0  image7761.jpg     0\n",
       "1  image3202.jpg     0\n",
       "2   image688.jpg     0\n",
       "3   image233.jpg     0\n",
       "4  image4332.jpg     0"
      ]
     },
     "execution_count": 7,
     "metadata": {},
     "output_type": "execute_result"
    }
   ],
   "source": [
    "test_dir = \"../input/hackereath-holiday-season-deep-learning-contest/dataset/test\"\n",
    "test_files = []\n",
    "\n",
    "for file in tqdm(os.listdir(test_dir)):\n",
    "    test_files.append(file)\n",
    "\n",
    "test_df = pd.DataFrame(test_files, columns=['Image'])\n",
    "test_df['Class'] = '0'\n",
    "test_df.head()"
   ]
  },
  {
   "cell_type": "markdown",
   "metadata": {
    "papermill": {
     "duration": 0.033098,
     "end_time": "2021-01-29T13:06:24.541013",
     "exception": false,
     "start_time": "2021-01-29T13:06:24.507915",
     "status": "completed"
    },
    "tags": []
   },
   "source": [
    "## Calculate class-weights"
   ]
  },
  {
   "cell_type": "code",
   "execution_count": 8,
   "metadata": {
    "execution": {
     "iopub.execute_input": "2021-01-29T13:06:24.616246Z",
     "iopub.status.busy": "2021-01-29T13:06:24.615318Z",
     "iopub.status.idle": "2021-01-29T13:06:24.656680Z",
     "shell.execute_reply": "2021-01-29T13:06:24.656077Z"
    },
    "papermill": {
     "duration": 0.082845,
     "end_time": "2021-01-29T13:06:24.656791",
     "exception": false,
     "start_time": "2021-01-29T13:06:24.573946",
     "status": "completed"
    },
    "tags": []
   },
   "outputs": [
    {
     "data": {
      "text/plain": [
       "{0: 0.6747663551401869,\n",
       " 1: 0.6087689713322091,\n",
       " 2: 0.23456790123456786,\n",
       " 3: 0.5640625,\n",
       " 4: 0.12888254194930382,\n",
       " 5: 1.0}"
      ]
     },
     "execution_count": 8,
     "metadata": {},
     "output_type": "execute_result"
    }
   ],
   "source": [
    "temp_df = train_df.groupby(['Class_enc']).size().reset_index().rename(columns={0:'count'})\n",
    "total_count = np.sum(temp_df['count'].values)\n",
    "temp_df['class%'] = (temp_df['count'] / total_count) * 100\n",
    "lowest_pct = min(temp_df['class%'])\n",
    "temp_df['class_weight'] = lowest_pct / temp_df['class%']\n",
    "class_weight = temp_df[['Class_enc', 'class_weight']].to_dict()['class_weight']\n",
    "class_weight"
   ]
  },
  {
   "cell_type": "markdown",
   "metadata": {
    "papermill": {
     "duration": 0.032467,
     "end_time": "2021-01-29T13:06:24.721797",
     "exception": false,
     "start_time": "2021-01-29T13:06:24.689330",
     "status": "completed"
    },
    "tags": []
   },
   "source": [
    "## Split training data into train/validation datasets"
   ]
  },
  {
   "cell_type": "code",
   "execution_count": 9,
   "metadata": {
    "execution": {
     "iopub.execute_input": "2021-01-29T13:06:24.802098Z",
     "iopub.status.busy": "2021-01-29T13:06:24.801420Z",
     "iopub.status.idle": "2021-01-29T13:06:24.817189Z",
     "shell.execute_reply": "2021-01-29T13:06:24.818088Z"
    },
    "papermill": {
     "duration": 0.063612,
     "end_time": "2021-01-29T13:06:24.818302",
     "exception": false,
     "start_time": "2021-01-29T13:06:24.754690",
     "status": "completed"
    },
    "tags": []
   },
   "outputs": [
    {
     "name": "stdout",
     "output_type": "stream",
     "text": [
      "train_df shape: (5498, 3)\n",
      "validation_df shape: (971, 3)\n"
     ]
    }
   ],
   "source": [
    "sss = StratifiedShuffleSplit(n_splits=1, test_size=0.15, random_state=1)\n",
    "for train_index, validation_index in sss.split(train_df['Image'], train_df['Class_enc']):\n",
    "    train_df, validation_df = train_df.iloc[train_index], train_df.iloc[validation_index]\n",
    "\n",
    "print(\"train_df shape: {}\".format(train_df.shape))\n",
    "print(\"validation_df shape: {}\".format(validation_df.shape))"
   ]
  },
  {
   "cell_type": "code",
   "execution_count": 10,
   "metadata": {
    "execution": {
     "iopub.execute_input": "2021-01-29T13:06:24.929042Z",
     "iopub.status.busy": "2021-01-29T13:06:24.928085Z",
     "iopub.status.idle": "2021-01-29T13:06:24.943895Z",
     "shell.execute_reply": "2021-01-29T13:06:24.943203Z"
    },
    "papermill": {
     "duration": 0.055624,
     "end_time": "2021-01-29T13:06:24.944023",
     "exception": false,
     "start_time": "2021-01-29T13:06:24.888399",
     "status": "completed"
    },
    "tags": []
   },
   "outputs": [
    {
     "data": {
      "text/html": [
       "<div>\n",
       "<style scoped>\n",
       "    .dataframe tbody tr th:only-of-type {\n",
       "        vertical-align: middle;\n",
       "    }\n",
       "\n",
       "    .dataframe tbody tr th {\n",
       "        vertical-align: top;\n",
       "    }\n",
       "\n",
       "    .dataframe thead th {\n",
       "        text-align: right;\n",
       "    }\n",
       "</style>\n",
       "<table border=\"1\" class=\"dataframe\">\n",
       "  <thead>\n",
       "    <tr style=\"text-align: right;\">\n",
       "      <th></th>\n",
       "      <th>Class</th>\n",
       "      <th>Class_enc</th>\n",
       "      <th>Count</th>\n",
       "    </tr>\n",
       "  </thead>\n",
       "  <tbody>\n",
       "    <tr>\n",
       "      <th>0</th>\n",
       "      <td>Airplane</td>\n",
       "      <td>0</td>\n",
       "      <td>455</td>\n",
       "    </tr>\n",
       "    <tr>\n",
       "      <th>1</th>\n",
       "      <td>Candle</td>\n",
       "      <td>1</td>\n",
       "      <td>504</td>\n",
       "    </tr>\n",
       "    <tr>\n",
       "      <th>2</th>\n",
       "      <td>Christmas_Tree</td>\n",
       "      <td>2</td>\n",
       "      <td>1308</td>\n",
       "    </tr>\n",
       "    <tr>\n",
       "      <th>3</th>\n",
       "      <td>Jacket</td>\n",
       "      <td>3</td>\n",
       "      <td>544</td>\n",
       "    </tr>\n",
       "    <tr>\n",
       "      <th>4</th>\n",
       "      <td>Miscellaneous</td>\n",
       "      <td>4</td>\n",
       "      <td>2380</td>\n",
       "    </tr>\n",
       "    <tr>\n",
       "      <th>5</th>\n",
       "      <td>Snowman</td>\n",
       "      <td>5</td>\n",
       "      <td>307</td>\n",
       "    </tr>\n",
       "  </tbody>\n",
       "</table>\n",
       "</div>"
      ],
      "text/plain": [
       "            Class Class_enc  Count\n",
       "0        Airplane         0    455\n",
       "1          Candle         1    504\n",
       "2  Christmas_Tree         2   1308\n",
       "3          Jacket         3    544\n",
       "4   Miscellaneous         4   2380\n",
       "5         Snowman         5    307"
      ]
     },
     "execution_count": 10,
     "metadata": {},
     "output_type": "execute_result"
    }
   ],
   "source": [
    "train_df.groupby(['Class','Class_enc']).size().reset_index().rename(columns={0:'Count'})"
   ]
  },
  {
   "cell_type": "code",
   "execution_count": 11,
   "metadata": {
    "execution": {
     "iopub.execute_input": "2021-01-29T13:06:25.018696Z",
     "iopub.status.busy": "2021-01-29T13:06:25.017665Z",
     "iopub.status.idle": "2021-01-29T13:06:25.032255Z",
     "shell.execute_reply": "2021-01-29T13:06:25.031583Z"
    },
    "papermill": {
     "duration": 0.054899,
     "end_time": "2021-01-29T13:06:25.032395",
     "exception": false,
     "start_time": "2021-01-29T13:06:24.977496",
     "status": "completed"
    },
    "tags": []
   },
   "outputs": [
    {
     "data": {
      "text/html": [
       "<div>\n",
       "<style scoped>\n",
       "    .dataframe tbody tr th:only-of-type {\n",
       "        vertical-align: middle;\n",
       "    }\n",
       "\n",
       "    .dataframe tbody tr th {\n",
       "        vertical-align: top;\n",
       "    }\n",
       "\n",
       "    .dataframe thead th {\n",
       "        text-align: right;\n",
       "    }\n",
       "</style>\n",
       "<table border=\"1\" class=\"dataframe\">\n",
       "  <thead>\n",
       "    <tr style=\"text-align: right;\">\n",
       "      <th></th>\n",
       "      <th>Class</th>\n",
       "      <th>Class_enc</th>\n",
       "      <th>Count</th>\n",
       "    </tr>\n",
       "  </thead>\n",
       "  <tbody>\n",
       "    <tr>\n",
       "      <th>0</th>\n",
       "      <td>Airplane</td>\n",
       "      <td>0</td>\n",
       "      <td>80</td>\n",
       "    </tr>\n",
       "    <tr>\n",
       "      <th>1</th>\n",
       "      <td>Candle</td>\n",
       "      <td>1</td>\n",
       "      <td>89</td>\n",
       "    </tr>\n",
       "    <tr>\n",
       "      <th>2</th>\n",
       "      <td>Christmas_Tree</td>\n",
       "      <td>2</td>\n",
       "      <td>231</td>\n",
       "    </tr>\n",
       "    <tr>\n",
       "      <th>3</th>\n",
       "      <td>Jacket</td>\n",
       "      <td>3</td>\n",
       "      <td>96</td>\n",
       "    </tr>\n",
       "    <tr>\n",
       "      <th>4</th>\n",
       "      <td>Miscellaneous</td>\n",
       "      <td>4</td>\n",
       "      <td>421</td>\n",
       "    </tr>\n",
       "    <tr>\n",
       "      <th>5</th>\n",
       "      <td>Snowman</td>\n",
       "      <td>5</td>\n",
       "      <td>54</td>\n",
       "    </tr>\n",
       "  </tbody>\n",
       "</table>\n",
       "</div>"
      ],
      "text/plain": [
       "            Class Class_enc  Count\n",
       "0        Airplane         0     80\n",
       "1          Candle         1     89\n",
       "2  Christmas_Tree         2    231\n",
       "3          Jacket         3     96\n",
       "4   Miscellaneous         4    421\n",
       "5         Snowman         5     54"
      ]
     },
     "execution_count": 11,
     "metadata": {},
     "output_type": "execute_result"
    }
   ],
   "source": [
    "validation_df.groupby(['Class','Class_enc']).size().reset_index().rename(columns={0:'Count'})"
   ]
  },
  {
   "cell_type": "markdown",
   "metadata": {
    "papermill": {
     "duration": 0.034387,
     "end_time": "2021-01-29T13:06:25.101248",
     "exception": false,
     "start_time": "2021-01-29T13:06:25.066861",
     "status": "completed"
    },
    "tags": []
   },
   "source": [
    "## Model Hyperparameters"
   ]
  },
  {
   "cell_type": "code",
   "execution_count": 12,
   "metadata": {
    "execution": {
     "iopub.execute_input": "2021-01-29T13:06:25.178018Z",
     "iopub.status.busy": "2021-01-29T13:06:25.176971Z",
     "iopub.status.idle": "2021-01-29T13:06:25.180230Z",
     "shell.execute_reply": "2021-01-29T13:06:25.179695Z"
    },
    "papermill": {
     "duration": 0.045166,
     "end_time": "2021-01-29T13:06:25.180359",
     "exception": false,
     "start_time": "2021-01-29T13:06:25.135193",
     "status": "completed"
    },
    "tags": []
   },
   "outputs": [],
   "source": [
    "dataset_dir = \"../input/hackereath-holiday-season-deep-learning-contest/dataset/\"\n",
    "mini_batch_size = 64\n",
    "steps_per_epoch = int(np.ceil(train_df.shape[0] / float(mini_batch_size)))\n",
    "validation_steps = int(np.ceil(validation_df.shape[0] / float(mini_batch_size)))\n",
    "test_steps = int(np.ceil(test_df.shape[0] / float(mini_batch_size)))\n",
    "image_dim = (320, 320, 3)"
   ]
  },
  {
   "cell_type": "markdown",
   "metadata": {
    "papermill": {
     "duration": 0.034364,
     "end_time": "2021-01-29T13:06:25.249304",
     "exception": false,
     "start_time": "2021-01-29T13:06:25.214940",
     "status": "completed"
    },
    "tags": []
   },
   "source": [
    "## Configure image generators"
   ]
  },
  {
   "cell_type": "code",
   "execution_count": 13,
   "metadata": {
    "execution": {
     "iopub.execute_input": "2021-01-29T13:06:25.330155Z",
     "iopub.status.busy": "2021-01-29T13:06:25.329168Z",
     "iopub.status.idle": "2021-01-29T13:06:25.332577Z",
     "shell.execute_reply": "2021-01-29T13:06:25.331930Z"
    },
    "papermill": {
     "duration": 0.048877,
     "end_time": "2021-01-29T13:06:25.332681",
     "exception": false,
     "start_time": "2021-01-29T13:06:25.283804",
     "status": "completed"
    },
    "tags": []
   },
   "outputs": [],
   "source": [
    "def train_generator():\n",
    "\n",
    "    while True:\n",
    "        train_datagen = ImageDataGenerator(rotation_range = 30,\n",
    "                                           zoom_range = 0.2,\n",
    "                                           horizontal_flip = True,\n",
    "                                           fill_mode = 'nearest',\n",
    "                                           height_shift_range = 0.1,\n",
    "                                           width_shift_range = 0.1)\n",
    "\n",
    "        batches = train_datagen.flow_from_dataframe(train_df,\n",
    "                                                    directory = os.path.join(dataset_dir,\"train\"),\n",
    "                                                    x_col = \"Image\", \n",
    "                                                    y_col = \"Class_enc\",\n",
    "                                                    target_size = (image_dim[0], image_dim[1]),\n",
    "                                                    batch_size = mini_batch_size,\n",
    "                                                    class_mode = \"categorical\",\n",
    "                                                    interpolation=\"bicubic\")\n",
    "\n",
    "        idx0 = 0\n",
    "        for batch in batches:\n",
    "            idx1 = idx0 + batch[0].shape[0]\n",
    "\n",
    "            yield [batch[0], batch[0], batch[0], batch[0], batch[0]], batch[1]\n",
    "\n",
    "            idx0 = idx1\n",
    "            if idx1 >= train_df.shape[0]:\n",
    "                break"
   ]
  },
  {
   "cell_type": "code",
   "execution_count": 14,
   "metadata": {
    "execution": {
     "iopub.execute_input": "2021-01-29T13:06:25.413227Z",
     "iopub.status.busy": "2021-01-29T13:06:25.412243Z",
     "iopub.status.idle": "2021-01-29T13:06:25.415647Z",
     "shell.execute_reply": "2021-01-29T13:06:25.415086Z"
    },
    "papermill": {
     "duration": 0.04809,
     "end_time": "2021-01-29T13:06:25.415743",
     "exception": false,
     "start_time": "2021-01-29T13:06:25.367653",
     "status": "completed"
    },
    "tags": []
   },
   "outputs": [],
   "source": [
    "def validation_generator():\n",
    "\n",
    "    while True:\n",
    "        validation_datagen = ImageDataGenerator()\n",
    "\n",
    "        batches = validation_datagen.flow_from_dataframe(validation_df,\n",
    "                                                         directory = os.path.join(dataset_dir,\"train\"),\n",
    "                                                         x_col = \"Image\",\n",
    "                                                         y_col = \"Class_enc\",\n",
    "                                                         shuffle=False,\n",
    "                                                         target_size = (image_dim[0], image_dim[1]),\n",
    "                                                         batch_size = mini_batch_size,\n",
    "                                                         class_mode = \"categorical\",\n",
    "                                                         interpolation=\"bicubic\")\n",
    "\n",
    "        idx0 = 0\n",
    "        for batch in batches:\n",
    "            idx1 = idx0 + batch[0].shape[0]\n",
    "\n",
    "            yield [batch[0], batch[0], batch[0], batch[0], batch[0]], batch[1]\n",
    "\n",
    "            idx0 = idx1\n",
    "            if idx1 >= validation_df.shape[0]:\n",
    "                break"
   ]
  },
  {
   "cell_type": "code",
   "execution_count": 15,
   "metadata": {
    "execution": {
     "iopub.execute_input": "2021-01-29T13:06:25.494930Z",
     "iopub.status.busy": "2021-01-29T13:06:25.493855Z",
     "iopub.status.idle": "2021-01-29T13:06:25.499558Z",
     "shell.execute_reply": "2021-01-29T13:06:25.498986Z"
    },
    "papermill": {
     "duration": 0.048872,
     "end_time": "2021-01-29T13:06:25.499671",
     "exception": false,
     "start_time": "2021-01-29T13:06:25.450799",
     "status": "completed"
    },
    "tags": []
   },
   "outputs": [],
   "source": [
    "def test_generator():\n",
    "\n",
    "    while True:\n",
    "        test_datagen = ImageDataGenerator()\n",
    "\n",
    "        batches = test_datagen.flow_from_dataframe(test_df,\n",
    "                                                   directory = os.path.join(dataset_dir,\"test\"),\n",
    "                                                   x_col = \"Image\",\n",
    "                                                   y_col = \"Class\",\n",
    "                                                   shuffle=False,\n",
    "                                                   target_size = (image_dim[0], image_dim[1]),\n",
    "                                                   batch_size = mini_batch_size,\n",
    "                                                   class_mode = \"categorical\",\n",
    "                                                   interpolation=\"bicubic\")\n",
    "\n",
    "        idx0 = 0\n",
    "        for batch in batches:\n",
    "            idx1 = idx0 + batch[0].shape[0]\n",
    "\n",
    "            yield [batch[0], batch[0], batch[0], batch[0], batch[0]], batch[1]\n",
    "\n",
    "            idx0 = idx1\n",
    "            if idx1 >= test_df.shape[0]:\n",
    "                break"
   ]
  },
  {
   "cell_type": "markdown",
   "metadata": {
    "papermill": {
     "duration": 0.034397,
     "end_time": "2021-01-29T13:06:25.569532",
     "exception": false,
     "start_time": "2021-01-29T13:06:25.535135",
     "status": "completed"
    },
    "tags": []
   },
   "source": [
    "## Build and validate the model"
   ]
  },
  {
   "cell_type": "code",
   "execution_count": 16,
   "metadata": {
    "execution": {
     "iopub.execute_input": "2021-01-29T13:06:25.656749Z",
     "iopub.status.busy": "2021-01-29T13:06:25.654686Z",
     "iopub.status.idle": "2021-01-29T13:06:25.657545Z",
     "shell.execute_reply": "2021-01-29T13:06:25.658086Z"
    },
    "papermill": {
     "duration": 0.053458,
     "end_time": "2021-01-29T13:06:25.658216",
     "exception": false,
     "start_time": "2021-01-29T13:06:25.604758",
     "status": "completed"
    },
    "tags": []
   },
   "outputs": [],
   "source": [
    "def head(x1, x2, x3, x4, x5):\n",
    "    \n",
    "    x = Concatenate()([x1, x2, x3, x4, x5])\n",
    "    \n",
    "    x = Dense(units=2048, kernel_regularizer=l2(0.0001), \n",
    "              kernel_initializer='he_uniform')(x)\n",
    "    x = BatchNormalization()(x)\n",
    "    x = Activation('relu')(x)\n",
    "    x = Dropout(rate=0.5)(x)\n",
    "    \n",
    "    x = Dense(units=1024, kernel_regularizer=l2(0.0001), \n",
    "              kernel_initializer='he_uniform')(x)\n",
    "    x = BatchNormalization()(x)\n",
    "    x = Activation('relu')(x)\n",
    "    x = Dropout(rate=0.5)(x)\n",
    "    \n",
    "    x = Dense(units=1024, kernel_regularizer=l2(0.0001), \n",
    "              kernel_initializer='he_uniform')(x)\n",
    "    x = BatchNormalization()(x)\n",
    "    x = Activation('relu')(x)\n",
    "    x = Dropout(rate=0.5)(x)\n",
    "    \n",
    "    x = Dense(units=512, kernel_regularizer=l2(0.0001), \n",
    "              kernel_initializer='he_uniform')(x)\n",
    "    x = BatchNormalization()(x)\n",
    "    x = Activation('relu')(x)\n",
    "    x = Dropout(rate=0.5)(x)\n",
    "    \n",
    "    x = Dense(units=6, activation='softmax', \n",
    "              kernel_initializer='he_uniform')(x)\n",
    "\n",
    "    return x"
   ]
  },
  {
   "cell_type": "code",
   "execution_count": 17,
   "metadata": {
    "execution": {
     "iopub.execute_input": "2021-01-29T13:06:25.745591Z",
     "iopub.status.busy": "2021-01-29T13:06:25.734372Z",
     "iopub.status.idle": "2021-01-29T13:07:32.387616Z",
     "shell.execute_reply": "2021-01-29T13:07:32.388173Z"
    },
    "papermill": {
     "duration": 66.695851,
     "end_time": "2021-01-29T13:07:32.388387",
     "exception": false,
     "start_time": "2021-01-29T13:06:25.692536",
     "status": "completed"
    },
    "tags": []
   },
   "outputs": [
    {
     "name": "stderr",
     "output_type": "stream",
     "text": [
      "100%|██████████| 440/440 [00:00<00:00, 27339.03it/s]\n",
      "100%|██████████| 530/530 [00:00<00:00, 18854.48it/s]\n",
      "100%|██████████| 632/632 [00:00<00:00, 23110.72it/s]\n",
      "100%|██████████| 722/722 [00:00<00:00, 27523.13it/s]\n",
      "100%|██████████| 869/869 [00:00<00:00, 26199.89it/s]\n"
     ]
    }
   ],
   "source": [
    "# Load the pre-trained models\n",
    "base_model1 = load_model('../input/holiday-season-enetb3-mav4/hackerearth_holiday_season_model.h5')\n",
    "base_model2 = load_model('../input/holiday-season-enetb4-mav34/hackerearth_holiday_season_model.h5')\n",
    "base_model3 = load_model('../input/holiday-season-enetb5-mav4/hackerearth_holiday_season_model.h5')\n",
    "base_model4 = load_model('../input/holiday-season-enetb6-mav4/hackerearth_holiday_season_model.h5')\n",
    "base_model5 = load_model('../input/holiday-season-enetb7-mav4/hackerearth_holiday_season_model.h5')\n",
    "\n",
    "# Freeze weights for base models\n",
    "for layer in base_model1.layers:\n",
    "    layer.trainable = False\n",
    "\n",
    "for layer in base_model2.layers:\n",
    "    layer.trainable = False\n",
    "    \n",
    "for layer in base_model3.layers:\n",
    "    layer.trainable = False\n",
    "\n",
    "for layer in base_model4.layers:\n",
    "    layer.trainable = False\n",
    "\n",
    "for layer in base_model5.layers:\n",
    "    layer.trainable = False\n",
    "\n",
    "# Update layer names for base models\n",
    "for layer in tqdm(base_model1.layers):\n",
    "    layer._name = 'm1_' + layer.name\n",
    "\n",
    "for layer in tqdm(base_model2.layers):\n",
    "    layer._name = 'm2_' + layer.name\n",
    "\n",
    "for layer in tqdm(base_model3.layers):\n",
    "    layer._name = 'm3_' + layer.name\n",
    "\n",
    "for layer in tqdm(base_model4.layers):\n",
    "    layer._name = 'm4_' + layer.name\n",
    "\n",
    "for layer in tqdm(base_model5.layers):\n",
    "    layer._name = 'm5_' + layer.name\n",
    "\n",
    "# Build the model\n",
    "model = Model(inputs=[base_model1.input, base_model2.input, \n",
    "                      base_model3.input, base_model4.input,\n",
    "                      base_model5.input], \n",
    "              outputs=head(base_model1.get_layer('m1_activation_11').output, \n",
    "                           base_model2.get_layer('m2_activation_11').output,\n",
    "                           base_model3.get_layer('m3_activation_11').output,\n",
    "                           base_model4.get_layer('m4_activation_11').output,\n",
    "                           base_model5.get_layer('m5_activation_11').output),\n",
    "              name='HackerEarth_Holiday_Season_Model')\n",
    "\n",
    "# Compile the final model\n",
    "model.compile(loss='categorical_crossentropy', \n",
    "              metrics=[F1Score(num_classes=6, average='weighted'), \n",
    "                       'categorical_accuracy'],\n",
    "              optimizer=Lookahead(AdamW(lr=1e-3, \n",
    "                                        weight_decay=1e-5, \n",
    "                                        clipvalue=700), \n",
    "                                  sync_period=10))\n",
    "\n",
    "# Configure model callbacks\n",
    "early = EarlyStopping(monitor=\"val_loss\", mode=\"min\", patience=5, \n",
    "                      restore_best_weights=True, verbose=1)\n",
    "\n",
    "reduce_lr = ReduceLROnPlateau(monitor=\"val_loss\", factor=0.1, \n",
    "                              min_lr=1e-6, patience=3, \n",
    "                              verbose=1, mode='min')\n",
    "\n",
    "chk_point = ModelCheckpoint('hackerearth_holiday_season_model.h5', \n",
    "                            monitor='val_loss', verbose=1, \n",
    "                            save_best_only=True, mode='min')"
   ]
  },
  {
   "cell_type": "code",
   "execution_count": 18,
   "metadata": {
    "execution": {
     "iopub.execute_input": "2021-01-29T13:07:32.495514Z",
     "iopub.status.busy": "2021-01-29T13:07:32.485209Z",
     "iopub.status.idle": "2021-01-29T15:54:33.793039Z",
     "shell.execute_reply": "2021-01-29T15:54:33.791359Z"
    },
    "papermill": {
     "duration": 10021.365548,
     "end_time": "2021-01-29T15:54:33.793154",
     "exception": false,
     "start_time": "2021-01-29T13:07:32.427606",
     "status": "completed"
    },
    "tags": []
   },
   "outputs": [
    {
     "name": "stdout",
     "output_type": "stream",
     "text": [
      "Found 5498 validated image filenames belonging to 6 classes.\n",
      "Epoch 1/35\n",
      "85/86 [============================>.] - ETA: 3s - loss: 1.1262 - f1_score: 0.9486 - categorical_accuracy: 0.9482Found 5498 validated image filenames belonging to 6 classes.\n",
      "86/86 [==============================] - ETA: 0s - loss: 1.1254 - f1_score: 0.9491 - categorical_accuracy: 0.9487Found 971 validated image filenames belonging to 6 classes.\n",
      "Found 971 validated image filenames belonging to 6 classes.\n",
      "\n",
      "Epoch 00001: val_loss improved from inf to 1.30517, saving model to hackerearth_holiday_season_model.h5\n",
      "86/86 [==============================] - 397s 5s/step - loss: 1.1254 - f1_score: 0.9491 - categorical_accuracy: 0.9487 - val_loss: 1.3052 - val_f1_score: 0.9516 - val_categorical_accuracy: 0.9516\n",
      "Epoch 2/35\n",
      "85/86 [============================>.] - ETA: 3s - loss: 1.0128 - f1_score: 0.9857 - categorical_accuracy: 0.9857Found 5498 validated image filenames belonging to 6 classes.\n",
      "86/86 [==============================] - ETA: 0s - loss: 1.0124 - f1_score: 0.9856 - categorical_accuracy: 0.9856Found 971 validated image filenames belonging to 6 classes.\n",
      "\n",
      "Epoch 00002: val_loss improved from 1.30517 to 1.24135, saving model to hackerearth_holiday_season_model.h5\n",
      "86/86 [==============================] - 351s 4s/step - loss: 1.0124 - f1_score: 0.9856 - categorical_accuracy: 0.9856 - val_loss: 1.2414 - val_f1_score: 0.9494 - val_categorical_accuracy: 0.9495\n",
      "Epoch 3/35\n",
      "85/86 [============================>.] - ETA: 3s - loss: 0.9405 - f1_score: 0.9857 - categorical_accuracy: 0.9857Found 5498 validated image filenames belonging to 6 classes.\n",
      "86/86 [==============================] - ETA: 0s - loss: 0.9400 - f1_score: 0.9858 - categorical_accuracy: 0.9858Found 971 validated image filenames belonging to 6 classes.\n",
      "\n",
      "Epoch 00003: val_loss improved from 1.24135 to 1.16490, saving model to hackerearth_holiday_season_model.h5\n",
      "86/86 [==============================] - 350s 4s/step - loss: 0.9400 - f1_score: 0.9858 - categorical_accuracy: 0.9858 - val_loss: 1.1649 - val_f1_score: 0.9401 - val_categorical_accuracy: 0.9403\n",
      "Epoch 4/35\n",
      "85/86 [============================>.] - ETA: 3s - loss: 0.8664 - f1_score: 0.9872 - categorical_accuracy: 0.9871Found 5498 validated image filenames belonging to 6 classes.\n",
      "86/86 [==============================] - ETA: 0s - loss: 0.8662 - f1_score: 0.9871 - categorical_accuracy: 0.9871Found 971 validated image filenames belonging to 6 classes.\n",
      "\n",
      "Epoch 00004: val_loss improved from 1.16490 to 1.11284, saving model to hackerearth_holiday_season_model.h5\n",
      "86/86 [==============================] - 351s 4s/step - loss: 0.8662 - f1_score: 0.9871 - categorical_accuracy: 0.9871 - val_loss: 1.1128 - val_f1_score: 0.9474 - val_categorical_accuracy: 0.9475\n",
      "Epoch 5/35\n",
      "85/86 [============================>.] - ETA: 3s - loss: 0.8015 - f1_score: 0.9866 - categorical_accuracy: 0.9866Found 5498 validated image filenames belonging to 6 classes.\n",
      "86/86 [==============================] - ETA: 0s - loss: 0.8010 - f1_score: 0.9867 - categorical_accuracy: 0.9867Found 971 validated image filenames belonging to 6 classes.\n",
      "\n",
      "Epoch 00005: val_loss improved from 1.11284 to 1.05176, saving model to hackerearth_holiday_season_model.h5\n",
      "86/86 [==============================] - 353s 4s/step - loss: 0.8010 - f1_score: 0.9867 - categorical_accuracy: 0.9867 - val_loss: 1.0518 - val_f1_score: 0.9442 - val_categorical_accuracy: 0.9444\n",
      "Epoch 6/35\n",
      "85/86 [============================>.] - ETA: 3s - loss: 0.7367 - f1_score: 0.9861 - categorical_accuracy: 0.9860Found 5498 validated image filenames belonging to 6 classes.\n",
      "86/86 [==============================] - ETA: 0s - loss: 0.7362 - f1_score: 0.9862 - categorical_accuracy: 0.9862Found 971 validated image filenames belonging to 6 classes.\n",
      "\n",
      "Epoch 00006: val_loss improved from 1.05176 to 0.96592, saving model to hackerearth_holiday_season_model.h5\n",
      "86/86 [==============================] - 352s 4s/step - loss: 0.7362 - f1_score: 0.9862 - categorical_accuracy: 0.9862 - val_loss: 0.9659 - val_f1_score: 0.9525 - val_categorical_accuracy: 0.9526\n",
      "Epoch 7/35\n",
      "85/86 [============================>.] - ETA: 3s - loss: 0.6797 - f1_score: 0.9870 - categorical_accuracy: 0.9869Found 5498 validated image filenames belonging to 6 classes.\n",
      "86/86 [==============================] - ETA: 0s - loss: 0.6793 - f1_score: 0.9871 - categorical_accuracy: 0.9871Found 971 validated image filenames belonging to 6 classes.\n",
      "\n",
      "Epoch 00007: val_loss improved from 0.96592 to 0.92940, saving model to hackerearth_holiday_season_model.h5\n",
      "86/86 [==============================] - 351s 4s/step - loss: 0.6793 - f1_score: 0.9871 - categorical_accuracy: 0.9871 - val_loss: 0.9294 - val_f1_score: 0.9474 - val_categorical_accuracy: 0.9475\n",
      "Epoch 8/35\n",
      "85/86 [============================>.] - ETA: 3s - loss: 0.6279 - f1_score: 0.9839 - categorical_accuracy: 0.9838Found 5498 validated image filenames belonging to 6 classes.\n",
      "86/86 [==============================] - ETA: 0s - loss: 0.6275 - f1_score: 0.9840 - categorical_accuracy: 0.9840Found 971 validated image filenames belonging to 6 classes.\n",
      "\n",
      "Epoch 00008: val_loss improved from 0.92940 to 0.85544, saving model to hackerearth_holiday_season_model.h5\n",
      "86/86 [==============================] - 351s 4s/step - loss: 0.6275 - f1_score: 0.9840 - categorical_accuracy: 0.9840 - val_loss: 0.8554 - val_f1_score: 0.9474 - val_categorical_accuracy: 0.9475\n",
      "Epoch 9/35\n",
      "85/86 [============================>.] - ETA: 3s - loss: 0.5802 - f1_score: 0.9849 - categorical_accuracy: 0.9849Found 5498 validated image filenames belonging to 6 classes.\n",
      "86/86 [==============================] - ETA: 0s - loss: 0.5799 - f1_score: 0.9849 - categorical_accuracy: 0.9849Found 971 validated image filenames belonging to 6 classes.\n",
      "\n",
      "Epoch 00009: val_loss improved from 0.85544 to 0.82981, saving model to hackerearth_holiday_season_model.h5\n",
      "86/86 [==============================] - 355s 4s/step - loss: 0.5799 - f1_score: 0.9849 - categorical_accuracy: 0.9849 - val_loss: 0.8298 - val_f1_score: 0.9473 - val_categorical_accuracy: 0.9475\n",
      "Epoch 10/35\n",
      "85/86 [============================>.] - ETA: 3s - loss: 0.5387 - f1_score: 0.9859 - categorical_accuracy: 0.9858Found 5498 validated image filenames belonging to 6 classes.\n",
      "86/86 [==============================] - ETA: 0s - loss: 0.5385 - f1_score: 0.9858 - categorical_accuracy: 0.9858Found 971 validated image filenames belonging to 6 classes.\n",
      "\n",
      "Epoch 00010: val_loss improved from 0.82981 to 0.77796, saving model to hackerearth_holiday_season_model.h5\n",
      "86/86 [==============================] - 353s 4s/step - loss: 0.5385 - f1_score: 0.9858 - categorical_accuracy: 0.9858 - val_loss: 0.7780 - val_f1_score: 0.9484 - val_categorical_accuracy: 0.9485\n",
      "Epoch 11/35\n",
      "85/86 [============================>.] - ETA: 3s - loss: 0.4987 - f1_score: 0.9873 - categorical_accuracy: 0.9873Found 5498 validated image filenames belonging to 6 classes.\n",
      "86/86 [==============================] - ETA: 0s - loss: 0.4984 - f1_score: 0.9875 - categorical_accuracy: 0.9875Found 971 validated image filenames belonging to 6 classes.\n",
      "\n",
      "Epoch 00011: val_loss improved from 0.77796 to 0.70784, saving model to hackerearth_holiday_season_model.h5\n",
      "86/86 [==============================] - 354s 4s/step - loss: 0.4984 - f1_score: 0.9875 - categorical_accuracy: 0.9875 - val_loss: 0.7078 - val_f1_score: 0.9503 - val_categorical_accuracy: 0.9506\n",
      "Epoch 12/35\n",
      "85/86 [============================>.] - ETA: 3s - loss: 0.4647 - f1_score: 0.9842 - categorical_accuracy: 0.9842Found 5498 validated image filenames belonging to 6 classes.\n",
      "86/86 [==============================] - ETA: 0s - loss: 0.4648 - f1_score: 0.9835 - categorical_accuracy: 0.9834Found 971 validated image filenames belonging to 6 classes.\n",
      "\n",
      "Epoch 00012: val_loss did not improve from 0.70784\n",
      "86/86 [==============================] - 344s 4s/step - loss: 0.4648 - f1_score: 0.9835 - categorical_accuracy: 0.9834 - val_loss: 0.7181 - val_f1_score: 0.9441 - val_categorical_accuracy: 0.9444\n",
      "Epoch 13/35\n",
      "85/86 [============================>.] - ETA: 3s - loss: 0.4354 - f1_score: 0.9835 - categorical_accuracy: 0.9835Found 5498 validated image filenames belonging to 6 classes.\n",
      "86/86 [==============================] - ETA: 0s - loss: 0.4351 - f1_score: 0.9836 - categorical_accuracy: 0.9836Found 971 validated image filenames belonging to 6 classes.\n",
      "\n",
      "Epoch 00013: val_loss improved from 0.70784 to 0.66663, saving model to hackerearth_holiday_season_model.h5\n",
      "86/86 [==============================] - 355s 4s/step - loss: 0.4351 - f1_score: 0.9836 - categorical_accuracy: 0.9836 - val_loss: 0.6666 - val_f1_score: 0.9472 - val_categorical_accuracy: 0.9475\n",
      "Epoch 14/35\n",
      "85/86 [============================>.] - ETA: 3s - loss: 0.4047 - f1_score: 0.9860 - categorical_accuracy: 0.9860Found 5498 validated image filenames belonging to 6 classes.\n",
      "86/86 [==============================] - ETA: 0s - loss: 0.4044 - f1_score: 0.9862 - categorical_accuracy: 0.9862Found 971 validated image filenames belonging to 6 classes.\n",
      "\n",
      "Epoch 00014: val_loss improved from 0.66663 to 0.62505, saving model to hackerearth_holiday_season_model.h5\n",
      "86/86 [==============================] - 354s 4s/step - loss: 0.4044 - f1_score: 0.9862 - categorical_accuracy: 0.9862 - val_loss: 0.6251 - val_f1_score: 0.9453 - val_categorical_accuracy: 0.9454\n",
      "Epoch 15/35\n",
      "85/86 [============================>.] - ETA: 3s - loss: 0.3809 - f1_score: 0.9851 - categorical_accuracy: 0.9851Found 5498 validated image filenames belonging to 6 classes.\n",
      "86/86 [==============================] - ETA: 0s - loss: 0.3809 - f1_score: 0.9849 - categorical_accuracy: 0.9849Found 971 validated image filenames belonging to 6 classes.\n",
      "\n",
      "Epoch 00015: val_loss did not improve from 0.62505\n",
      "86/86 [==============================] - 343s 4s/step - loss: 0.3809 - f1_score: 0.9849 - categorical_accuracy: 0.9849 - val_loss: 0.6560 - val_f1_score: 0.9410 - val_categorical_accuracy: 0.9413\n",
      "Epoch 16/35\n",
      "85/86 [============================>.] - ETA: 3s - loss: 0.3625 - f1_score: 0.9818 - categorical_accuracy: 0.9818Found 5498 validated image filenames belonging to 6 classes.\n",
      "86/86 [==============================] - ETA: 0s - loss: 0.3623 - f1_score: 0.9818 - categorical_accuracy: 0.9818Found 971 validated image filenames belonging to 6 classes.\n",
      "\n",
      "Epoch 00016: val_loss improved from 0.62505 to 0.60368, saving model to hackerearth_holiday_season_model.h5\n",
      "86/86 [==============================] - 353s 4s/step - loss: 0.3623 - f1_score: 0.9818 - categorical_accuracy: 0.9818 - val_loss: 0.6037 - val_f1_score: 0.9473 - val_categorical_accuracy: 0.9475\n",
      "Epoch 17/35\n",
      "85/86 [============================>.] - ETA: 3s - loss: 0.3408 - f1_score: 0.9831 - categorical_accuracy: 0.9831Found 5498 validated image filenames belonging to 6 classes.\n",
      "86/86 [==============================] - ETA: 0s - loss: 0.3406 - f1_score: 0.9833 - categorical_accuracy: 0.9833Found 971 validated image filenames belonging to 6 classes.\n",
      "Found 971 validated image filenames belonging to 6 classes.\n",
      "\n",
      "Epoch 00017: val_loss improved from 0.60368 to 0.54367, saving model to hackerearth_holiday_season_model.h5\n",
      "86/86 [==============================] - 355s 4s/step - loss: 0.3406 - f1_score: 0.9833 - categorical_accuracy: 0.9833 - val_loss: 0.5437 - val_f1_score: 0.9413 - val_categorical_accuracy: 0.9413\n",
      "Epoch 18/35\n",
      "85/86 [============================>.] - ETA: 3s - loss: 0.3234 - f1_score: 0.9859 - categorical_accuracy: 0.9858Found 5498 validated image filenames belonging to 6 classes.\n",
      "86/86 [==============================] - ETA: 0s - loss: 0.3232 - f1_score: 0.9860 - categorical_accuracy: 0.9860Found 971 validated image filenames belonging to 6 classes.\n",
      "\n",
      "Epoch 00018: val_loss did not improve from 0.54367\n",
      "86/86 [==============================] - 345s 4s/step - loss: 0.3232 - f1_score: 0.9860 - categorical_accuracy: 0.9860 - val_loss: 0.5746 - val_f1_score: 0.9442 - val_categorical_accuracy: 0.9444\n",
      "Epoch 19/35\n",
      "85/86 [============================>.] - ETA: 3s - loss: 0.3129 - f1_score: 0.9826 - categorical_accuracy: 0.9825Found 5498 validated image filenames belonging to 6 classes.\n",
      "86/86 [==============================] - ETA: 0s - loss: 0.3131 - f1_score: 0.9824 - categorical_accuracy: 0.9824Found 971 validated image filenames belonging to 6 classes.\n",
      "\n",
      "Epoch 00019: val_loss did not improve from 0.54367\n",
      "86/86 [==============================] - 346s 4s/step - loss: 0.3131 - f1_score: 0.9824 - categorical_accuracy: 0.9824 - val_loss: 0.5695 - val_f1_score: 0.9433 - val_categorical_accuracy: 0.9434\n",
      "Epoch 20/35\n",
      "85/86 [============================>.] - ETA: 3s - loss: 0.2970 - f1_score: 0.9873 - categorical_accuracy: 0.9873Found 5498 validated image filenames belonging to 6 classes.\n",
      "86/86 [==============================] - ETA: 0s - loss: 0.2968 - f1_score: 0.9873 - categorical_accuracy: 0.9873Found 971 validated image filenames belonging to 6 classes.\n",
      "\n",
      "Epoch 00020: ReduceLROnPlateau reducing learning rate to 0.00010000000474974513.\n",
      "\n",
      "Epoch 00020: val_loss did not improve from 0.54367\n",
      "86/86 [==============================] - 345s 4s/step - loss: 0.2968 - f1_score: 0.9873 - categorical_accuracy: 0.9873 - val_loss: 0.5537 - val_f1_score: 0.9474 - val_categorical_accuracy: 0.9475\n",
      "Epoch 21/35\n",
      "85/86 [============================>.] - ETA: 3s - loss: 0.2866 - f1_score: 0.9862 - categorical_accuracy: 0.9862Found 5498 validated image filenames belonging to 6 classes.\n",
      "86/86 [==============================] - ETA: 0s - loss: 0.2866 - f1_score: 0.9864 - categorical_accuracy: 0.9864Found 971 validated image filenames belonging to 6 classes.\n",
      "\n",
      "Epoch 00021: val_loss improved from 0.54367 to 0.51502, saving model to hackerearth_holiday_season_model.h5\n",
      "86/86 [==============================] - 354s 4s/step - loss: 0.2866 - f1_score: 0.9864 - categorical_accuracy: 0.9864 - val_loss: 0.5150 - val_f1_score: 0.9495 - val_categorical_accuracy: 0.9495\n",
      "Epoch 22/35\n",
      "85/86 [============================>.] - ETA: 3s - loss: 0.2851 - f1_score: 0.9872 - categorical_accuracy: 0.9871Found 5498 validated image filenames belonging to 6 classes.\n",
      "86/86 [==============================] - ETA: 0s - loss: 0.2850 - f1_score: 0.9873 - categorical_accuracy: 0.9873Found 971 validated image filenames belonging to 6 classes.\n",
      "\n",
      "Epoch 00022: val_loss did not improve from 0.51502\n",
      "86/86 [==============================] - 349s 4s/step - loss: 0.2850 - f1_score: 0.9873 - categorical_accuracy: 0.9873 - val_loss: 0.5158 - val_f1_score: 0.9474 - val_categorical_accuracy: 0.9475\n",
      "Epoch 23/35\n",
      "85/86 [============================>.] - ETA: 3s - loss: 0.2833 - f1_score: 0.9864 - categorical_accuracy: 0.9864Found 5498 validated image filenames belonging to 6 classes.\n",
      "86/86 [==============================] - ETA: 0s - loss: 0.2832 - f1_score: 0.9866 - categorical_accuracy: 0.9865Found 971 validated image filenames belonging to 6 classes.\n",
      "\n",
      "Epoch 00023: val_loss improved from 0.51502 to 0.51224, saving model to hackerearth_holiday_season_model.h5\n",
      "86/86 [==============================] - 354s 4s/step - loss: 0.2832 - f1_score: 0.9866 - categorical_accuracy: 0.9865 - val_loss: 0.5122 - val_f1_score: 0.9474 - val_categorical_accuracy: 0.9475\n",
      "Epoch 24/35\n",
      "85/86 [============================>.] - ETA: 3s - loss: 0.2807 - f1_score: 0.9886 - categorical_accuracy: 0.9886Found 5498 validated image filenames belonging to 6 classes.\n",
      "86/86 [==============================] - ETA: 0s - loss: 0.2806 - f1_score: 0.9887 - categorical_accuracy: 0.9887Found 971 validated image filenames belonging to 6 classes.\n",
      "\n",
      "Epoch 00024: val_loss did not improve from 0.51224\n",
      "86/86 [==============================] - 345s 4s/step - loss: 0.2806 - f1_score: 0.9887 - categorical_accuracy: 0.9887 - val_loss: 0.5198 - val_f1_score: 0.9483 - val_categorical_accuracy: 0.9485\n",
      "Epoch 25/35\n",
      "85/86 [============================>.] - ETA: 3s - loss: 0.2778 - f1_score: 0.9871 - categorical_accuracy: 0.9871Found 5498 validated image filenames belonging to 6 classes.\n",
      "86/86 [==============================] - ETA: 0s - loss: 0.2777 - f1_score: 0.9873 - categorical_accuracy: 0.9873Found 971 validated image filenames belonging to 6 classes.\n",
      "\n",
      "Epoch 00025: val_loss did not improve from 0.51224\n",
      "86/86 [==============================] - 346s 4s/step - loss: 0.2777 - f1_score: 0.9873 - categorical_accuracy: 0.9873 - val_loss: 0.5169 - val_f1_score: 0.9494 - val_categorical_accuracy: 0.9495\n",
      "Epoch 26/35\n",
      "85/86 [============================>.] - ETA: 3s - loss: 0.2769 - f1_score: 0.9897 - categorical_accuracy: 0.9897Found 5498 validated image filenames belonging to 6 classes.\n",
      "86/86 [==============================] - ETA: 0s - loss: 0.2770 - f1_score: 0.9895 - categorical_accuracy: 0.9895Found 971 validated image filenames belonging to 6 classes.\n",
      "\n",
      "Epoch 00026: ReduceLROnPlateau reducing learning rate to 1.0000000474974514e-05.\n",
      "\n",
      "Epoch 00026: val_loss did not improve from 0.51224\n",
      "86/86 [==============================] - 346s 4s/step - loss: 0.2770 - f1_score: 0.9895 - categorical_accuracy: 0.9895 - val_loss: 0.5218 - val_f1_score: 0.9483 - val_categorical_accuracy: 0.9485\n",
      "Epoch 27/35\n",
      "85/86 [============================>.] - ETA: 3s - loss: 0.2759 - f1_score: 0.9855 - categorical_accuracy: 0.9855Found 5498 validated image filenames belonging to 6 classes.\n",
      "86/86 [==============================] - ETA: 0s - loss: 0.2759 - f1_score: 0.9857 - categorical_accuracy: 0.9856Found 971 validated image filenames belonging to 6 classes.\n",
      "\n",
      "Epoch 00027: val_loss did not improve from 0.51224\n",
      "86/86 [==============================] - 346s 4s/step - loss: 0.2759 - f1_score: 0.9857 - categorical_accuracy: 0.9856 - val_loss: 0.5170 - val_f1_score: 0.9473 - val_categorical_accuracy: 0.9475\n",
      "Epoch 28/35\n",
      "85/86 [============================>.] - ETA: 3s - loss: 0.2752 - f1_score: 0.9871 - categorical_accuracy: 0.9871Found 5498 validated image filenames belonging to 6 classes.\n",
      "86/86 [==============================] - ETA: 0s - loss: 0.2751 - f1_score: 0.9873 - categorical_accuracy: 0.9873Found 971 validated image filenames belonging to 6 classes.\n",
      "Restoring model weights from the end of the best epoch.\n",
      "\n",
      "Epoch 00028: val_loss did not improve from 0.51224\n",
      "86/86 [==============================] - 347s 4s/step - loss: 0.2751 - f1_score: 0.9873 - categorical_accuracy: 0.9873 - val_loss: 0.5167 - val_f1_score: 0.9484 - val_categorical_accuracy: 0.9485\n",
      "Epoch 00028: early stopping\n"
     ]
    }
   ],
   "source": [
    "history = model.fit(\n",
    "    train_generator(), \n",
    "    steps_per_epoch=steps_per_epoch,\n",
    "    class_weight=class_weight, \n",
    "    epochs=35, \n",
    "    verbose=1, \n",
    "    callbacks=[reduce_lr, early, chk_point], \n",
    "    validation_data=validation_generator(),\n",
    "    validation_steps=validation_steps\n",
    ")"
   ]
  },
  {
   "cell_type": "code",
   "execution_count": 19,
   "metadata": {
    "execution": {
     "iopub.execute_input": "2021-01-29T15:54:35.808407Z",
     "iopub.status.busy": "2021-01-29T15:54:35.807258Z",
     "iopub.status.idle": "2021-01-29T15:54:36.831045Z",
     "shell.execute_reply": "2021-01-29T15:54:36.831663Z"
    },
    "papermill": {
     "duration": 2.044415,
     "end_time": "2021-01-29T15:54:36.831836",
     "exception": false,
     "start_time": "2021-01-29T15:54:34.787421",
     "status": "completed"
    },
    "tags": []
   },
   "outputs": [
    {
     "data": {
      "image/png": "[encoded data removed]",
      "text/plain": [
       "<Figure size 2160x720 with 3 Axes>"
      ]
     },
     "metadata": {},
     "output_type": "display_data"
    }
   ],
   "source": [
    "_, ax = plt.subplots(1, 3, figsize=(30, 10))\n",
    "\n",
    "ax[0].plot(history.history['loss'], label='train_loss')\n",
    "ax[0].plot(history.history['val_loss'], label='val_loss')\n",
    "ax[0].set_ylabel('Loss')\n",
    "ax[0].set_xlabel('Epoch')\n",
    "ax[0].set_title(\"Model Loss Curve\")\n",
    "ax[0].legend()\n",
    "ax[0].grid()\n",
    "\n",
    "ax[1].plot(history.history['f1_score'], label='train_f1_score')\n",
    "ax[1].plot(history.history['val_f1_score'], label='val_f1_score')\n",
    "ax[1].set_ylabel('F1-Score')\n",
    "ax[1].set_xlabel('Epoch')\n",
    "ax[1].set_title(\"Model F1-Score Curve\")\n",
    "ax[1].legend()\n",
    "ax[1].grid()\n",
    "\n",
    "ax[2].plot(history.history['categorical_accuracy'], label='train_accuracy')\n",
    "ax[2].plot(history.history['val_categorical_accuracy'], label='val_accuracy')\n",
    "ax[2].set_ylabel('Accuracy')\n",
    "ax[2].set_xlabel('Epoch')\n",
    "ax[2].set_title(\"Model Accuracy Curve\")\n",
    "ax[2].legend()\n",
    "ax[2].grid()"
   ]
  },
  {
   "cell_type": "markdown",
   "metadata": {
    "papermill": {
     "duration": 1.013214,
     "end_time": "2021-01-29T15:54:39.139328",
     "exception": false,
     "start_time": "2021-01-29T15:54:38.126114",
     "status": "completed"
    },
    "tags": []
   },
   "source": [
    "## Check classification report"
   ]
  },
  {
   "cell_type": "code",
   "execution_count": 20,
   "metadata": {
    "execution": {
     "iopub.execute_input": "2021-01-29T15:54:41.185715Z",
     "iopub.status.busy": "2021-01-29T15:54:41.184753Z",
     "iopub.status.idle": "2021-01-29T15:54:46.568689Z",
     "shell.execute_reply": "2021-01-29T15:54:46.568047Z"
    },
    "papermill": {
     "duration": 6.414325,
     "end_time": "2021-01-29T15:54:46.568818",
     "exception": false,
     "start_time": "2021-01-29T15:54:40.154493",
     "status": "completed"
    },
    "tags": []
   },
   "outputs": [],
   "source": [
    "# Build the model\n",
    "model = Model(inputs=[base_model1.input, base_model2.input, \n",
    "                      base_model3.input, base_model4.input,\n",
    "                      base_model5.input], \n",
    "              outputs=head(base_model1.get_layer('m1_activation_11').output, \n",
    "                           base_model2.get_layer('m2_activation_11').output,\n",
    "                           base_model3.get_layer('m3_activation_11').output,\n",
    "                           base_model4.get_layer('m4_activation_11').output,\n",
    "                           base_model5.get_layer('m5_activation_11').output),\n",
    "              name='HackerEarth_Holiday_Season_Model')\n",
    "\n",
    "# Compile the final model\n",
    "model.compile(loss='categorical_crossentropy', \n",
    "              metrics=[F1Score(num_classes=6, average='weighted'), \n",
    "                       'categorical_accuracy'],\n",
    "              optimizer=Lookahead(AdamW(lr=1e-3, \n",
    "                                        weight_decay=1e-5, \n",
    "                                        clipvalue=700), \n",
    "                                  sync_period=10))\n",
    "\n",
    "model.load_weights('./hackerearth_holiday_season_model.h5')"
   ]
  },
  {
   "cell_type": "code",
   "execution_count": 21,
   "metadata": {
    "execution": {
     "iopub.execute_input": "2021-01-29T15:54:48.824956Z",
     "iopub.status.busy": "2021-01-29T15:54:48.823955Z",
     "iopub.status.idle": "2021-01-29T15:55:52.266558Z",
     "shell.execute_reply": "2021-01-29T15:55:52.265960Z"
    },
    "papermill": {
     "duration": 64.687872,
     "end_time": "2021-01-29T15:55:52.266693",
     "exception": false,
     "start_time": "2021-01-29T15:54:47.578821",
     "status": "completed"
    },
    "tags": []
   },
   "outputs": [
    {
     "name": "stdout",
     "output_type": "stream",
     "text": [
      "Found 971 validated image filenames belonging to 6 classes.\n",
      "15/16 [===========================>..] - ETA: 2sFound 971 validated image filenames belonging to 6 classes.\n",
      "16/16 [==============================] - 36s 2s/step\n",
      "              precision    recall  f1-score   support\n",
      "\n",
      "           0       1.00      0.93      0.96        80\n",
      "           1       0.93      0.89      0.91        89\n",
      "           2       0.95      0.94      0.95       231\n",
      "           3       0.97      0.95      0.96        96\n",
      "           4       0.94      0.97      0.96       421\n",
      "           5       0.89      0.91      0.90        54\n",
      "\n",
      "    accuracy                           0.95       971\n",
      "   macro avg       0.95      0.93      0.94       971\n",
      "weighted avg       0.95      0.95      0.95       971\n",
      "\n"
     ]
    }
   ],
   "source": [
    "y_true = validation_df['Class_enc'].values\n",
    "y_pred = model.predict(validation_generator(), steps=validation_steps, verbose=1)\n",
    "y_pred = np.argmax(y_pred, axis=1)\n",
    "\n",
    "print(classification_report(y_true.astype(int), y_pred))"
   ]
  },
  {
   "cell_type": "code",
   "execution_count": 22,
   "metadata": {
    "execution": {
     "iopub.execute_input": "2021-01-29T15:55:54.436540Z",
     "iopub.status.busy": "2021-01-29T15:55:54.435502Z",
     "iopub.status.idle": "2021-01-29T15:55:55.226213Z",
     "shell.execute_reply": "2021-01-29T15:55:55.227656Z"
    },
    "papermill": {
     "duration": 1.928861,
     "end_time": "2021-01-29T15:55:55.227889",
     "exception": false,
     "start_time": "2021-01-29T15:55:53.299028",
     "status": "completed"
    },
    "tags": []
   },
   "outputs": [
    {
     "data": {
      "image/png": "[encoded data removed]",
      "text/plain": [
       "<Figure size 864x504 with 2 Axes>"
      ]
     },
     "metadata": {},
     "output_type": "display_data"
    }
   ],
   "source": [
    "cnf_matrix = confusion_matrix(y_true.astype(int), y_pred, labels=[0, 1, 2, 3, 4, 5])\n",
    "np.set_printoptions(precision=2)\n",
    "plt.figure(figsize=(12,7))\n",
    "plot_confusion_matrix(cnf_matrix, classes=[0, 1, 2, 3, 4, 5])"
   ]
  },
  {
   "cell_type": "markdown",
   "metadata": {
    "papermill": {
     "duration": 1.08331,
     "end_time": "2021-01-29T15:55:57.717253",
     "exception": false,
     "start_time": "2021-01-29T15:55:56.633943",
     "status": "completed"
    },
    "tags": []
   },
   "source": [
    "## Create submission file"
   ]
  },
  {
   "cell_type": "code",
   "execution_count": 23,
   "metadata": {
    "execution": {
     "iopub.execute_input": "2021-01-29T15:55:59.771518Z",
     "iopub.status.busy": "2021-01-29T15:55:59.770623Z",
     "iopub.status.idle": "2021-01-29T15:55:59.773328Z",
     "shell.execute_reply": "2021-01-29T15:55:59.773850Z"
    },
    "papermill": {
     "duration": 1.032902,
     "end_time": "2021-01-29T15:55:59.773996",
     "exception": false,
     "start_time": "2021-01-29T15:55:58.741094",
     "status": "completed"
    },
    "tags": []
   },
   "outputs": [],
   "source": [
    "rev_class_map = {\n",
    "    0: 'Airplane',\n",
    "    1: 'Candle',\n",
    "    2: 'Christmas_Tree',\n",
    "    3: 'Jacket',\n",
    "    4: 'Miscellaneous',\n",
    "    5: 'Snowman'\n",
    "}"
   ]
  },
  {
   "cell_type": "code",
   "execution_count": 24,
   "metadata": {
    "execution": {
     "iopub.execute_input": "2021-01-29T15:56:01.834103Z",
     "iopub.status.busy": "2021-01-29T15:56:01.833075Z",
     "iopub.status.idle": "2021-01-29T15:58:27.565213Z",
     "shell.execute_reply": "2021-01-29T15:58:27.564680Z"
    },
    "papermill": {
     "duration": 146.760463,
     "end_time": "2021-01-29T15:58:27.565349",
     "exception": false,
     "start_time": "2021-01-29T15:56:00.804886",
     "status": "completed"
    },
    "tags": []
   },
   "outputs": [
    {
     "name": "stdout",
     "output_type": "stream",
     "text": [
      "Found 3489 validated image filenames belonging to 1 classes.\n",
      "54/55 [============================>.] - ETA: 2sFound 3489 validated image filenames belonging to 1 classes.\n",
      "55/55 [==============================] - 139s 3s/step\n",
      "(3489,)\n"
     ]
    }
   ],
   "source": [
    "y_pred_final = model.predict(test_generator(), steps=test_steps, verbose=1)\n",
    "y_pred_final = np.argmax(y_pred_final, axis=1)\n",
    "print(y_pred_final.shape)"
   ]
  },
  {
   "cell_type": "code",
   "execution_count": 25,
   "metadata": {
    "execution": {
     "iopub.execute_input": "2021-01-29T15:58:29.877915Z",
     "iopub.status.busy": "2021-01-29T15:58:29.876607Z",
     "iopub.status.idle": "2021-01-29T15:58:29.881275Z",
     "shell.execute_reply": "2021-01-29T15:58:29.881740Z"
    },
    "papermill": {
     "duration": 1.051742,
     "end_time": "2021-01-29T15:58:29.881871",
     "exception": false,
     "start_time": "2021-01-29T15:58:28.830129",
     "status": "completed"
    },
    "tags": []
   },
   "outputs": [
    {
     "data": {
      "text/html": [
       "<div>\n",
       "<style scoped>\n",
       "    .dataframe tbody tr th:only-of-type {\n",
       "        vertical-align: middle;\n",
       "    }\n",
       "\n",
       "    .dataframe tbody tr th {\n",
       "        vertical-align: top;\n",
       "    }\n",
       "\n",
       "    .dataframe thead th {\n",
       "        text-align: right;\n",
       "    }\n",
       "</style>\n",
       "<table border=\"1\" class=\"dataframe\">\n",
       "  <thead>\n",
       "    <tr style=\"text-align: right;\">\n",
       "      <th></th>\n",
       "      <th>Image</th>\n",
       "      <th>Class</th>\n",
       "    </tr>\n",
       "  </thead>\n",
       "  <tbody>\n",
       "    <tr>\n",
       "      <th>0</th>\n",
       "      <td>image7761.jpg</td>\n",
       "      <td>Miscellaneous</td>\n",
       "    </tr>\n",
       "    <tr>\n",
       "      <th>1</th>\n",
       "      <td>image3202.jpg</td>\n",
       "      <td>Miscellaneous</td>\n",
       "    </tr>\n",
       "    <tr>\n",
       "      <th>2</th>\n",
       "      <td>image688.jpg</td>\n",
       "      <td>Snowman</td>\n",
       "    </tr>\n",
       "    <tr>\n",
       "      <th>3</th>\n",
       "      <td>image233.jpg</td>\n",
       "      <td>Candle</td>\n",
       "    </tr>\n",
       "    <tr>\n",
       "      <th>4</th>\n",
       "      <td>image4332.jpg</td>\n",
       "      <td>Christmas_Tree</td>\n",
       "    </tr>\n",
       "  </tbody>\n",
       "</table>\n",
       "</div>"
      ],
      "text/plain": [
       "           Image           Class\n",
       "0  image7761.jpg   Miscellaneous\n",
       "1  image3202.jpg   Miscellaneous\n",
       "2   image688.jpg         Snowman\n",
       "3   image233.jpg          Candle\n",
       "4  image4332.jpg  Christmas_Tree"
      ]
     },
     "execution_count": 25,
     "metadata": {},
     "output_type": "execute_result"
    }
   ],
   "source": [
    "test_df['Class'] = y_pred_final\n",
    "test_df['Class'] = test_df['Class'].map(rev_class_map)\n",
    "test_df.head()"
   ]
  },
  {
   "cell_type": "code",
   "execution_count": 26,
   "metadata": {
    "execution": {
     "iopub.execute_input": "2021-01-29T15:58:31.977985Z",
     "iopub.status.busy": "2021-01-29T15:58:31.977219Z",
     "iopub.status.idle": "2021-01-29T15:58:32.493233Z",
     "shell.execute_reply": "2021-01-29T15:58:32.492226Z"
    },
    "papermill": {
     "duration": 1.56384,
     "end_time": "2021-01-29T15:58:32.493404",
     "exception": false,
     "start_time": "2021-01-29T15:58:30.929564",
     "status": "completed"
    },
    "tags": []
   },
   "outputs": [],
   "source": [
    "test_df.to_csv(\"/kaggle/working/submission.csv\", index=False)"
   ]
  }
 ],
 "metadata": {
  "kernelspec": {
   "display_name": "Python 3",
   "language": "python",
   "name": "python3"
  },
  "language_info": {
   "codemirror_mode": {
    "name": "ipython",
    "version": 3
   },
   "file_extension": ".py",
   "mimetype": "text/x-python",
   "name": "python",
   "nbconvert_exporter": "python",
   "pygments_lexer": "ipython3",
   "version": "3.7.6"
  },
  "papermill": {
   "duration": 10343.765084,
   "end_time": "2021-01-29T15:58:34.809206",
   "environment_variables": {},
   "exception": null,
   "input_path": "__notebook__.ipynb",
   "output_path": "__notebook__.ipynb",
   "parameters": {},
   "start_time": "2021-01-29T13:06:11.044122",
   "version": "2.1.0"
  }
 },
 "nbformat": 4,
 "nbformat_minor": 4
}
