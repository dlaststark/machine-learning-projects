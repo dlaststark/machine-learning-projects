{
 "cells": [
  {
   "cell_type": "markdown",
   "metadata": {
    "papermill": {
     "duration": 0.016329,
     "end_time": "2021-01-29T18:48:17.440652",
     "exception": false,
     "start_time": "2021-01-29T18:48:17.424323",
     "status": "completed"
    },
    "tags": []
   },
   "source": [
    "## Import Packages"
   ]
  },
  {
   "cell_type": "code",
   "execution_count": 1,
   "metadata": {
    "execution": {
     "iopub.execute_input": "2021-01-29T18:48:17.481665Z",
     "iopub.status.busy": "2021-01-29T18:48:17.480857Z",
     "iopub.status.idle": "2021-01-29T18:48:22.607715Z",
     "shell.execute_reply": "2021-01-29T18:48:22.607067Z"
    },
    "papermill": {
     "duration": 5.151874,
     "end_time": "2021-01-29T18:48:22.607828",
     "exception": false,
     "start_time": "2021-01-29T18:48:17.455954",
     "status": "completed"
    },
    "tags": []
   },
   "outputs": [],
   "source": [
    "import os\n",
    "import numpy as np\n",
    "import pandas as pd\n",
    "from tqdm import tqdm\n",
    "\n",
    "import tensorflow as tf\n",
    "from tensorflow.keras import backend as K\n",
    "from tensorflow.keras.regularizers import l2\n",
    "from tensorflow_addons.metrics import F1Score\n",
    "from tensorflow.keras.models import Model, load_model\n",
    "from tensorflow_addons.optimizers import AdamW, Lookahead\n",
    "from tensorflow.keras.callbacks import EarlyStopping\n",
    "from tensorflow.keras.callbacks import ReduceLROnPlateau\n",
    "from tensorflow.keras.callbacks import ModelCheckpoint\n",
    "from tensorflow.keras.layers import Concatenate\n",
    "from tensorflow.keras.layers import Dense, Dropout, Flatten\n",
    "from tensorflow.keras.layers import BatchNormalization, Input\n",
    "from tensorflow.keras.layers import ZeroPadding2D, MaxPooling2D\n",
    "from tensorflow.keras.layers import GlobalAveragePooling2D, Add\n",
    "from tensorflow.keras.layers import GlobalMaxPooling2D, Reshape\n",
    "from tensorflow.keras.layers import Activation, Conv2D, Average\n",
    "from tensorflow.keras.preprocessing.image import ImageDataGenerator"
   ]
  },
  {
   "cell_type": "markdown",
   "metadata": {
    "papermill": {
     "duration": 0.015083,
     "end_time": "2021-01-29T18:48:22.638394",
     "exception": false,
     "start_time": "2021-01-29T18:48:22.623311",
     "status": "completed"
    },
    "tags": []
   },
   "source": [
    "## Read true labels + Basic EDA"
   ]
  },
  {
   "cell_type": "code",
   "execution_count": 2,
   "metadata": {
    "execution": {
     "iopub.execute_input": "2021-01-29T18:48:22.673441Z",
     "iopub.status.busy": "2021-01-29T18:48:22.672710Z",
     "iopub.status.idle": "2021-01-29T18:48:22.675105Z",
     "shell.execute_reply": "2021-01-29T18:48:22.675637Z"
    },
    "papermill": {
     "duration": 0.022145,
     "end_time": "2021-01-29T18:48:22.675748",
     "exception": false,
     "start_time": "2021-01-29T18:48:22.653603",
     "status": "completed"
    },
    "tags": []
   },
   "outputs": [],
   "source": [
    "class_map = {\n",
    "    'Airplane': 0,\n",
    "    'Candle': 1,\n",
    "    'Christmas_Tree': 2,\n",
    "    'Jacket': 3,\n",
    "    'Miscellaneous': 4,\n",
    "    'Snowman': 5\n",
    "}"
   ]
  },
  {
   "cell_type": "code",
   "execution_count": 3,
   "metadata": {
    "execution": {
     "iopub.execute_input": "2021-01-29T18:48:22.715335Z",
     "iopub.status.busy": "2021-01-29T18:48:22.714768Z",
     "iopub.status.idle": "2021-01-29T18:48:22.766970Z",
     "shell.execute_reply": "2021-01-29T18:48:22.767415Z"
    },
    "papermill": {
     "duration": 0.076981,
     "end_time": "2021-01-29T18:48:22.767541",
     "exception": false,
     "start_time": "2021-01-29T18:48:22.690560",
     "status": "completed"
    },
    "tags": []
   },
   "outputs": [
    {
     "data": {
      "text/html": [
       "<div>\n",
       "<style scoped>\n",
       "    .dataframe tbody tr th:only-of-type {\n",
       "        vertical-align: middle;\n",
       "    }\n",
       "\n",
       "    .dataframe tbody tr th {\n",
       "        vertical-align: top;\n",
       "    }\n",
       "\n",
       "    .dataframe thead th {\n",
       "        text-align: right;\n",
       "    }\n",
       "</style>\n",
       "<table border=\"1\" class=\"dataframe\">\n",
       "  <thead>\n",
       "    <tr style=\"text-align: right;\">\n",
       "      <th></th>\n",
       "      <th>Image</th>\n",
       "      <th>Class</th>\n",
       "      <th>Class_enc</th>\n",
       "    </tr>\n",
       "  </thead>\n",
       "  <tbody>\n",
       "    <tr>\n",
       "      <th>0</th>\n",
       "      <td>image3476.jpg</td>\n",
       "      <td>Miscellaneous</td>\n",
       "      <td>4</td>\n",
       "    </tr>\n",
       "    <tr>\n",
       "      <th>1</th>\n",
       "      <td>image5198.jpg</td>\n",
       "      <td>Candle</td>\n",
       "      <td>1</td>\n",
       "    </tr>\n",
       "    <tr>\n",
       "      <th>2</th>\n",
       "      <td>image4183.jpg</td>\n",
       "      <td>Snowman</td>\n",
       "      <td>5</td>\n",
       "    </tr>\n",
       "    <tr>\n",
       "      <th>3</th>\n",
       "      <td>image1806.jpg</td>\n",
       "      <td>Miscellaneous</td>\n",
       "      <td>4</td>\n",
       "    </tr>\n",
       "    <tr>\n",
       "      <th>4</th>\n",
       "      <td>image7831.jpg</td>\n",
       "      <td>Miscellaneous</td>\n",
       "      <td>4</td>\n",
       "    </tr>\n",
       "  </tbody>\n",
       "</table>\n",
       "</div>"
      ],
      "text/plain": [
       "           Image          Class Class_enc\n",
       "0  image3476.jpg  Miscellaneous         4\n",
       "1  image5198.jpg         Candle         1\n",
       "2  image4183.jpg        Snowman         5\n",
       "3  image1806.jpg  Miscellaneous         4\n",
       "4  image7831.jpg  Miscellaneous         4"
      ]
     },
     "execution_count": 3,
     "metadata": {},
     "output_type": "execute_result"
    }
   ],
   "source": [
    "train_df = pd.read_csv(\"../input/hackereath-holiday-season-deep-learning-contest/dataset/train.csv\")\n",
    "train_df['Class_enc'] = train_df['Class'].map(class_map)\n",
    "train_df['Class_enc'] = train_df['Class_enc'].astype('str')\n",
    "train_df.head()"
   ]
  },
  {
   "cell_type": "code",
   "execution_count": 4,
   "metadata": {
    "execution": {
     "iopub.execute_input": "2021-01-29T18:48:22.805241Z",
     "iopub.status.busy": "2021-01-29T18:48:22.804646Z",
     "iopub.status.idle": "2021-01-29T18:48:22.900722Z",
     "shell.execute_reply": "2021-01-29T18:48:22.900171Z"
    },
    "papermill": {
     "duration": 0.117036,
     "end_time": "2021-01-29T18:48:22.900824",
     "exception": false,
     "start_time": "2021-01-29T18:48:22.783788",
     "status": "completed"
    },
    "tags": []
   },
   "outputs": [
    {
     "name": "stderr",
     "output_type": "stream",
     "text": [
      "100%|██████████| 3489/3489 [00:00<00:00, 1103198.39it/s]\n"
     ]
    },
    {
     "data": {
      "text/html": [
       "<div>\n",
       "<style scoped>\n",
       "    .dataframe tbody tr th:only-of-type {\n",
       "        vertical-align: middle;\n",
       "    }\n",
       "\n",
       "    .dataframe tbody tr th {\n",
       "        vertical-align: top;\n",
       "    }\n",
       "\n",
       "    .dataframe thead th {\n",
       "        text-align: right;\n",
       "    }\n",
       "</style>\n",
       "<table border=\"1\" class=\"dataframe\">\n",
       "  <thead>\n",
       "    <tr style=\"text-align: right;\">\n",
       "      <th></th>\n",
       "      <th>Image</th>\n",
       "      <th>Class</th>\n",
       "    </tr>\n",
       "  </thead>\n",
       "  <tbody>\n",
       "    <tr>\n",
       "      <th>0</th>\n",
       "      <td>image7761.jpg</td>\n",
       "      <td>0</td>\n",
       "    </tr>\n",
       "    <tr>\n",
       "      <th>1</th>\n",
       "      <td>image3202.jpg</td>\n",
       "      <td>0</td>\n",
       "    </tr>\n",
       "    <tr>\n",
       "      <th>2</th>\n",
       "      <td>image688.jpg</td>\n",
       "      <td>0</td>\n",
       "    </tr>\n",
       "    <tr>\n",
       "      <th>3</th>\n",
       "      <td>image233.jpg</td>\n",
       "      <td>0</td>\n",
       "    </tr>\n",
       "    <tr>\n",
       "      <th>4</th>\n",
       "      <td>image4332.jpg</td>\n",
       "      <td>0</td>\n",
       "    </tr>\n",
       "  </tbody>\n",
       "</table>\n",
       "</div>"
      ],
      "text/plain": [
       "           Image Class\n",
       "0  image7761.jpg     0\n",
       "1  image3202.jpg     0\n",
       "2   image688.jpg     0\n",
       "3   image233.jpg     0\n",
       "4  image4332.jpg     0"
      ]
     },
     "execution_count": 4,
     "metadata": {},
     "output_type": "execute_result"
    }
   ],
   "source": [
    "test_dir = \"../input/hackereath-holiday-season-deep-learning-contest/dataset/test\"\n",
    "test_files = []\n",
    "\n",
    "for file in tqdm(os.listdir(test_dir)):\n",
    "    test_files.append(file)\n",
    "\n",
    "test_df = pd.DataFrame(test_files, columns=['Image'])\n",
    "test_df['Class'] = '0'\n",
    "test_df.head()"
   ]
  },
  {
   "cell_type": "markdown",
   "metadata": {
    "papermill": {
     "duration": 0.027331,
     "end_time": "2021-01-29T18:48:22.945027",
     "exception": false,
     "start_time": "2021-01-29T18:48:22.917696",
     "status": "completed"
    },
    "tags": []
   },
   "source": [
    "## Model Hyperparameters"
   ]
  },
  {
   "cell_type": "code",
   "execution_count": 5,
   "metadata": {
    "execution": {
     "iopub.execute_input": "2021-01-29T18:48:23.010142Z",
     "iopub.status.busy": "2021-01-29T18:48:23.006984Z",
     "iopub.status.idle": "2021-01-29T18:48:23.017800Z",
     "shell.execute_reply": "2021-01-29T18:48:23.018602Z"
    },
    "papermill": {
     "duration": 0.046936,
     "end_time": "2021-01-29T18:48:23.018764",
     "exception": false,
     "start_time": "2021-01-29T18:48:22.971828",
     "status": "completed"
    },
    "tags": []
   },
   "outputs": [],
   "source": [
    "dataset_dir = \"../input/hackereath-holiday-season-deep-learning-contest/dataset/\"\n",
    "mini_batch_size = 64\n",
    "test_steps = int(np.ceil(test_df.shape[0] / float(mini_batch_size)))\n",
    "image_dim = (320, 320, 3)"
   ]
  },
  {
   "cell_type": "markdown",
   "metadata": {
    "papermill": {
     "duration": 0.028858,
     "end_time": "2021-01-29T18:48:23.075563",
     "exception": false,
     "start_time": "2021-01-29T18:48:23.046705",
     "status": "completed"
    },
    "tags": []
   },
   "source": [
    "## Configure image generators"
   ]
  },
  {
   "cell_type": "code",
   "execution_count": 6,
   "metadata": {
    "execution": {
     "iopub.execute_input": "2021-01-29T18:48:23.148345Z",
     "iopub.status.busy": "2021-01-29T18:48:23.145418Z",
     "iopub.status.idle": "2021-01-29T18:48:23.156204Z",
     "shell.execute_reply": "2021-01-29T18:48:23.157298Z"
    },
    "papermill": {
     "duration": 0.052971,
     "end_time": "2021-01-29T18:48:23.157459",
     "exception": false,
     "start_time": "2021-01-29T18:48:23.104488",
     "status": "completed"
    },
    "tags": []
   },
   "outputs": [],
   "source": [
    "def test_generator(tta=False):\n",
    "\n",
    "    while True:\n",
    "        if tta is False:\n",
    "            test_datagen = ImageDataGenerator()\n",
    "        else:\n",
    "            test_datagen = ImageDataGenerator(horizontal_flip = True,\n",
    "                                              fill_mode = 'nearest',\n",
    "                                              #shear_range = 0.1,\n",
    "                                              zoom_range = 0.1,\n",
    "                                              height_shift_range = 0.1,\n",
    "                                              width_shift_range = 0.1)\n",
    "\n",
    "        batches = test_datagen.flow_from_dataframe(test_df,\n",
    "                                                   directory = os.path.join(dataset_dir,\"test\"),\n",
    "                                                   x_col = \"Image\",\n",
    "                                                   y_col = \"Class\",\n",
    "                                                   shuffle=False,\n",
    "                                                   target_size = (image_dim[0], image_dim[1]),\n",
    "                                                   batch_size = mini_batch_size,\n",
    "                                                   class_mode = \"categorical\",\n",
    "                                                   interpolation=\"bicubic\")\n",
    "\n",
    "        idx0 = 0\n",
    "        for batch in batches:\n",
    "            idx1 = idx0 + batch[0].shape[0]\n",
    "\n",
    "            yield [batch[0], batch[0], batch[0]], batch[1]\n",
    "\n",
    "            idx0 = idx1\n",
    "            if idx1 >= test_df.shape[0]:\n",
    "                break"
   ]
  },
  {
   "cell_type": "code",
   "execution_count": 7,
   "metadata": {
    "execution": {
     "iopub.execute_input": "2021-01-29T18:48:23.233446Z",
     "iopub.status.busy": "2021-01-29T18:48:23.232594Z",
     "iopub.status.idle": "2021-01-29T18:48:23.237315Z",
     "shell.execute_reply": "2021-01-29T18:48:23.237824Z"
    },
    "papermill": {
     "duration": 0.04735,
     "end_time": "2021-01-29T18:48:23.237932",
     "exception": false,
     "start_time": "2021-01-29T18:48:23.190582",
     "status": "completed"
    },
    "tags": []
   },
   "outputs": [],
   "source": [
    "def test_generator1(tta=False):\n",
    "\n",
    "    while True:\n",
    "        if tta is False:\n",
    "            test_datagen = ImageDataGenerator()\n",
    "        else:\n",
    "            test_datagen = ImageDataGenerator(horizontal_flip = True,\n",
    "                                              fill_mode = 'nearest',\n",
    "                                              #shear_range = 0.1,\n",
    "                                              zoom_range = 0.1,\n",
    "                                              height_shift_range = 0.1,\n",
    "                                              width_shift_range = 0.1)\n",
    "\n",
    "        batches = test_datagen.flow_from_dataframe(test_df,\n",
    "                                                   directory = os.path.join(dataset_dir,\"test\"),\n",
    "                                                   x_col = \"Image\",\n",
    "                                                   y_col = \"Class\",\n",
    "                                                   shuffle=False,\n",
    "                                                   target_size = (image_dim[0], image_dim[1]),\n",
    "                                                   batch_size = mini_batch_size,\n",
    "                                                   class_mode = \"categorical\",\n",
    "                                                   interpolation=\"bicubic\")\n",
    "\n",
    "        idx0 = 0\n",
    "        for batch in batches:\n",
    "            idx1 = idx0 + batch[0].shape[0]\n",
    "\n",
    "            yield [batch[0], batch[0], batch[0], batch[0]], batch[1]\n",
    "\n",
    "            idx0 = idx1\n",
    "            if idx1 >= test_df.shape[0]:\n",
    "                break"
   ]
  },
  {
   "cell_type": "code",
   "execution_count": 8,
   "metadata": {
    "execution": {
     "iopub.execute_input": "2021-01-29T18:48:23.304629Z",
     "iopub.status.busy": "2021-01-29T18:48:23.303698Z",
     "iopub.status.idle": "2021-01-29T18:48:23.308660Z",
     "shell.execute_reply": "2021-01-29T18:48:23.309177Z"
    },
    "papermill": {
     "duration": 0.044833,
     "end_time": "2021-01-29T18:48:23.309331",
     "exception": false,
     "start_time": "2021-01-29T18:48:23.264498",
     "status": "completed"
    },
    "tags": []
   },
   "outputs": [],
   "source": [
    "def test_generator2(tta=False):\n",
    "\n",
    "    while True:\n",
    "        if tta is False:\n",
    "            test_datagen = ImageDataGenerator()\n",
    "        else:\n",
    "            test_datagen = ImageDataGenerator(horizontal_flip = True,\n",
    "                                              fill_mode = 'nearest',\n",
    "                                              #shear_range = 0.1,\n",
    "                                              zoom_range = 0.1,\n",
    "                                              height_shift_range = 0.1,\n",
    "                                              width_shift_range = 0.1)\n",
    "\n",
    "        batches = test_datagen.flow_from_dataframe(test_df,\n",
    "                                                   directory = os.path.join(dataset_dir,\"test\"),\n",
    "                                                   x_col = \"Image\",\n",
    "                                                   y_col = \"Class\",\n",
    "                                                   shuffle=False,\n",
    "                                                   target_size = (image_dim[0], image_dim[1]),\n",
    "                                                   batch_size = mini_batch_size,\n",
    "                                                   class_mode = \"categorical\",\n",
    "                                                   interpolation=\"bicubic\")\n",
    "\n",
    "        idx0 = 0\n",
    "        for batch in batches:\n",
    "            idx1 = idx0 + batch[0].shape[0]\n",
    "\n",
    "            yield [batch[0], batch[0], batch[0], batch[0], batch[0]], batch[1]\n",
    "\n",
    "            idx0 = idx1\n",
    "            if idx1 >= test_df.shape[0]:\n",
    "                break"
   ]
  },
  {
   "cell_type": "markdown",
   "metadata": {
    "papermill": {
     "duration": 0.026435,
     "end_time": "2021-01-29T18:48:23.362661",
     "exception": false,
     "start_time": "2021-01-29T18:48:23.336226",
     "status": "completed"
    },
    "tags": []
   },
   "source": [
    "## Load pre-trained models"
   ]
  },
  {
   "cell_type": "code",
   "execution_count": 9,
   "metadata": {
    "execution": {
     "iopub.execute_input": "2021-01-29T18:48:23.428871Z",
     "iopub.status.busy": "2021-01-29T18:48:23.427983Z",
     "iopub.status.idle": "2021-01-29T18:48:23.435017Z",
     "shell.execute_reply": "2021-01-29T18:48:23.435737Z"
    },
    "papermill": {
     "duration": 0.045857,
     "end_time": "2021-01-29T18:48:23.435906",
     "exception": false,
     "start_time": "2021-01-29T18:48:23.390049",
     "status": "completed"
    },
    "tags": []
   },
   "outputs": [],
   "source": [
    "def head(x1, x2, x3):\n",
    "    \n",
    "    x = Concatenate()([x1, x2, x3])\n",
    "    \n",
    "    x = Dense(units=2048, kernel_regularizer=l2(0.0001), \n",
    "              kernel_initializer='he_uniform')(x)\n",
    "    x = BatchNormalization()(x)\n",
    "    x = Activation('relu')(x)\n",
    "    x = Dropout(rate=0.5)(x)\n",
    "    \n",
    "    x = Dense(units=512, kernel_regularizer=l2(0.0001), \n",
    "              kernel_initializer='he_uniform')(x)\n",
    "    x = BatchNormalization()(x)\n",
    "    x = Activation('relu')(x)\n",
    "    x = Dropout(rate=0.5)(x)\n",
    "    \n",
    "    x = Dense(units=512, kernel_regularizer=l2(0.0001), \n",
    "              kernel_initializer='he_uniform')(x)\n",
    "    x = BatchNormalization()(x)\n",
    "    x = Activation('relu')(x)\n",
    "    x = Dropout(rate=0.5)(x)\n",
    "    \n",
    "    x = Dense(units=128, kernel_regularizer=l2(0.0001), \n",
    "              kernel_initializer='he_uniform')(x)\n",
    "    x = BatchNormalization()(x)\n",
    "    x = Activation('relu')(x)\n",
    "    x = Dropout(rate=0.5)(x)\n",
    "    \n",
    "    x = Dense(units=6, activation='softmax', \n",
    "              kernel_initializer='he_uniform')(x)\n",
    "\n",
    "    return x"
   ]
  },
  {
   "cell_type": "code",
   "execution_count": 10,
   "metadata": {
    "execution": {
     "iopub.execute_input": "2021-01-29T18:48:23.508947Z",
     "iopub.status.busy": "2021-01-29T18:48:23.508154Z",
     "iopub.status.idle": "2021-01-29T18:48:23.518548Z",
     "shell.execute_reply": "2021-01-29T18:48:23.519021Z"
    },
    "papermill": {
     "duration": 0.05607,
     "end_time": "2021-01-29T18:48:23.519150",
     "exception": false,
     "start_time": "2021-01-29T18:48:23.463080",
     "status": "completed"
    },
    "tags": []
   },
   "outputs": [],
   "source": [
    "def head1(x1, x2, x3, x4):\n",
    "    \n",
    "    x = Concatenate()([x1, x2, x3, x4])\n",
    "    \n",
    "    x = Dense(units=2048, kernel_regularizer=l2(0.0001), \n",
    "              kernel_initializer='he_uniform')(x)\n",
    "    x = BatchNormalization()(x)\n",
    "    x = Activation('relu')(x)\n",
    "    x = Dropout(rate=0.5)(x)\n",
    "    \n",
    "    x = Dense(units=1024, kernel_regularizer=l2(0.0001), \n",
    "              kernel_initializer='he_uniform')(x)\n",
    "    x = BatchNormalization()(x)\n",
    "    x = Activation('relu')(x)\n",
    "    x = Dropout(rate=0.5)(x)\n",
    "    \n",
    "    x = Dense(units=1024, kernel_regularizer=l2(0.0001), \n",
    "              kernel_initializer='he_uniform')(x)\n",
    "    x = BatchNormalization()(x)\n",
    "    x = Activation('relu')(x)\n",
    "    x = Dropout(rate=0.5)(x)\n",
    "    \n",
    "    x = Dense(units=512, kernel_regularizer=l2(0.0001), \n",
    "              kernel_initializer='he_uniform')(x)\n",
    "    x = BatchNormalization()(x)\n",
    "    x = Activation('relu')(x)\n",
    "    x = Dropout(rate=0.5)(x)\n",
    "    \n",
    "    x = Dense(units=6, activation='softmax', \n",
    "              kernel_initializer='he_uniform')(x)\n",
    "\n",
    "    return x"
   ]
  },
  {
   "cell_type": "code",
   "execution_count": 11,
   "metadata": {
    "execution": {
     "iopub.execute_input": "2021-01-29T18:48:23.595565Z",
     "iopub.status.busy": "2021-01-29T18:48:23.594760Z",
     "iopub.status.idle": "2021-01-29T18:48:23.604277Z",
     "shell.execute_reply": "2021-01-29T18:48:23.605171Z"
    },
    "papermill": {
     "duration": 0.052507,
     "end_time": "2021-01-29T18:48:23.605326",
     "exception": false,
     "start_time": "2021-01-29T18:48:23.552819",
     "status": "completed"
    },
    "tags": []
   },
   "outputs": [],
   "source": [
    "def head2(x1, x2, x3, x4, x5):\n",
    "    \n",
    "    x = Concatenate()([x1, x2, x3, x4, x5])\n",
    "    \n",
    "    x = Dense(units=2048, kernel_regularizer=l2(0.0001), \n",
    "              kernel_initializer='he_uniform')(x)\n",
    "    x = BatchNormalization()(x)\n",
    "    x = Activation('relu')(x)\n",
    "    x = Dropout(rate=0.5)(x)\n",
    "    \n",
    "    x = Dense(units=1024, kernel_regularizer=l2(0.0001), \n",
    "              kernel_initializer='he_uniform')(x)\n",
    "    x = BatchNormalization()(x)\n",
    "    x = Activation('relu')(x)\n",
    "    x = Dropout(rate=0.5)(x)\n",
    "    \n",
    "    x = Dense(units=1024, kernel_regularizer=l2(0.0001), \n",
    "              kernel_initializer='he_uniform')(x)\n",
    "    x = BatchNormalization()(x)\n",
    "    x = Activation('relu')(x)\n",
    "    x = Dropout(rate=0.5)(x)\n",
    "    \n",
    "    x = Dense(units=512, kernel_regularizer=l2(0.0001), \n",
    "              kernel_initializer='he_uniform')(x)\n",
    "    x = BatchNormalization()(x)\n",
    "    x = Activation('relu')(x)\n",
    "    x = Dropout(rate=0.5)(x)\n",
    "    \n",
    "    x = Dense(units=6, activation='softmax', \n",
    "              kernel_initializer='he_uniform')(x)\n",
    "\n",
    "    return x"
   ]
  },
  {
   "cell_type": "code",
   "execution_count": 12,
   "metadata": {
    "execution": {
     "iopub.execute_input": "2021-01-29T18:48:23.670922Z",
     "iopub.status.busy": "2021-01-29T18:48:23.669824Z",
     "iopub.status.idle": "2021-01-29T18:49:18.997006Z",
     "shell.execute_reply": "2021-01-29T18:49:18.997425Z"
    },
    "papermill": {
     "duration": 55.365049,
     "end_time": "2021-01-29T18:49:18.997566",
     "exception": false,
     "start_time": "2021-01-29T18:48:23.632517",
     "status": "completed"
    },
    "tags": []
   },
   "outputs": [
    {
     "name": "stderr",
     "output_type": "stream",
     "text": [
      "100%|██████████| 440/440 [00:00<00:00, 35852.93it/s]\n",
      "100%|██████████| 530/530 [00:00<00:00, 22998.66it/s]\n",
      "100%|██████████| 632/632 [00:00<00:00, 32883.85it/s]\n",
      "100%|██████████| 722/722 [00:00<00:00, 36682.06it/s]\n",
      "100%|██████████| 869/869 [00:00<00:00, 36255.98it/s]\n"
     ]
    }
   ],
   "source": [
    "# Load the pre-trained models\n",
    "base_model1 = load_model('../input/holiday-season-enetb3-mav4/hackerearth_holiday_season_model.h5')\n",
    "base_model2 = load_model('../input/holiday-season-enetb4-mav34/hackerearth_holiday_season_model.h5')\n",
    "base_model3 = load_model('../input/holiday-season-enetb5-mav4/hackerearth_holiday_season_model.h5')\n",
    "base_model4 = load_model('../input/holiday-season-enetb6-mav4/hackerearth_holiday_season_model.h5')\n",
    "base_model5 = load_model('../input/holiday-season-enetb7-mav4/hackerearth_holiday_season_model.h5')\n",
    "\n",
    "# Freeze weights for base models\n",
    "base_model1.trainable = False\n",
    "base_model2.trainable = False\n",
    "base_model3.trainable = False\n",
    "base_model4.trainable = False\n",
    "base_model5.trainable = False\n",
    "\n",
    "# Update layer names for base models\n",
    "for layer in tqdm(base_model1.layers):\n",
    "    layer._name = 'm1_' + layer.name\n",
    "\n",
    "for layer in tqdm(base_model2.layers):\n",
    "    layer._name = 'm2_' + layer.name\n",
    "\n",
    "for layer in tqdm(base_model3.layers):\n",
    "    layer._name = 'm3_' + layer.name\n",
    "\n",
    "for layer in tqdm(base_model4.layers):\n",
    "    layer._name = 'm4_' + layer.name\n",
    "\n",
    "for layer in tqdm(base_model5.layers):\n",
    "    layer._name = 'm5_' + layer.name"
   ]
  },
  {
   "cell_type": "markdown",
   "metadata": {
    "papermill": {
     "duration": 0.020049,
     "end_time": "2021-01-29T18:49:19.038167",
     "exception": false,
     "start_time": "2021-01-29T18:49:19.018118",
     "status": "completed"
    },
    "tags": []
   },
   "source": [
    "## Perform TTA"
   ]
  },
  {
   "cell_type": "code",
   "execution_count": 13,
   "metadata": {
    "execution": {
     "iopub.execute_input": "2021-01-29T18:49:19.093712Z",
     "iopub.status.busy": "2021-01-29T18:49:19.092870Z",
     "iopub.status.idle": "2021-01-29T19:10:32.463402Z",
     "shell.execute_reply": "2021-01-29T19:10:32.462590Z"
    },
    "papermill": {
     "duration": 1273.405104,
     "end_time": "2021-01-29T19:10:32.463513",
     "exception": false,
     "start_time": "2021-01-29T18:49:19.058409",
     "status": "completed"
    },
    "tags": []
   },
   "outputs": [
    {
     "name": "stdout",
     "output_type": "stream",
     "text": [
      "Found 3489 validated image filenames belonging to 1 classes.\n",
      "54/55 [============================>.] - ETA: 1sFound 3489 validated image filenames belonging to 1 classes.\n",
      "55/55 [==============================] - 78s 1s/step\n",
      "Found 3489 validated image filenames belonging to 1 classes.\n",
      "55/55 [==============================] - 124s 2s/step\n",
      "Found 3489 validated image filenames belonging to 1 classes.\n",
      "Found 3489 validated image filenames belonging to 1 classes.\n",
      "55/55 [==============================] - ETA: 0sFound 3489 validated image filenames belonging to 1 classes.\n",
      "55/55 [==============================] - 126s 2s/step\n",
      "Found 3489 validated image filenames belonging to 1 classes.\n",
      "55/55 [==============================] - ETA: 0sFound 3489 validated image filenames belonging to 1 classes.\n",
      "55/55 [==============================] - 126s 2s/step\n",
      "Found 3489 validated image filenames belonging to 1 classes.\n",
      "55/55 [==============================] - ETA: 0sFound 3489 validated image filenames belonging to 1 classes.\n",
      "55/55 [==============================] - 125s 2s/step\n",
      "Found 3489 validated image filenames belonging to 1 classes.\n",
      "55/55 [==============================] - ETA: 0sFound 3489 validated image filenames belonging to 1 classes.\n",
      "55/55 [==============================] - 125s 2s/step\n",
      "Found 3489 validated image filenames belonging to 1 classes.\n",
      "55/55 [==============================] - ETA: 0sFound 3489 validated image filenames belonging to 1 classes.\n",
      "55/55 [==============================] - 125s 2s/step\n",
      "Found 3489 validated image filenames belonging to 1 classes.\n",
      "55/55 [==============================] - ETA: 0sFound 3489 validated image filenames belonging to 1 classes.\n",
      "55/55 [==============================] - 125s 2s/step\n",
      "Found 3489 validated image filenames belonging to 1 classes.\n",
      "55/55 [==============================] - ETA: 0sFound 3489 validated image filenames belonging to 1 classes.\n",
      "55/55 [==============================] - 124s 2s/step\n",
      "Found 3489 validated image filenames belonging to 1 classes.\n",
      "55/55 [==============================] - ETA: 0sFound 3489 validated image filenames belonging to 1 classes.\n",
      "55/55 [==============================] - 125s 2s/step\n"
     ]
    }
   ],
   "source": [
    "# Build the model\n",
    "model = Model(inputs=[base_model2.input, base_model3.input, base_model4.input], \n",
    "              outputs=head(base_model2.get_layer('m2_activation_11').output, \n",
    "                           base_model3.get_layer('m3_activation_11').output,\n",
    "                           base_model4.get_layer('m4_activation_11').output),\n",
    "              name='HackerEarth_Holiday_Season_Model')\n",
    "\n",
    "# Compile the final model\n",
    "model.compile(loss='categorical_crossentropy', \n",
    "              metrics=[F1Score(num_classes=6, average='weighted'), \n",
    "                       'categorical_accuracy'],\n",
    "              optimizer=Lookahead(AdamW(lr=1e-4, \n",
    "                                        weight_decay=1e-5, \n",
    "                                        clipvalue=700), \n",
    "                                  sync_period=10))\n",
    "\n",
    "# Load best weights from pre-trained model\n",
    "model.load_weights('../input/holiday-season-enetb456-mav3/hackerearth_holiday_season_model.h5')\n",
    "\n",
    "tta_steps = 9\n",
    "predictions = []\n",
    "\n",
    "preds = model.predict_generator(test_generator(), steps=test_steps, verbose=1)\n",
    "predictions.append(preds)\n",
    "\n",
    "for i in range(tta_steps):\n",
    "    preds = model.predict_generator(test_generator(tta=True), steps=test_steps, verbose=1)\n",
    "    predictions.append(preds)\n",
    "\n",
    "y_pred_final1 = np.mean(predictions, axis=0)"
   ]
  },
  {
   "cell_type": "code",
   "execution_count": 14,
   "metadata": {
    "execution": {
     "iopub.execute_input": "2021-01-29T19:10:32.832314Z",
     "iopub.status.busy": "2021-01-29T19:10:32.831445Z",
     "iopub.status.idle": "2021-01-29T19:33:41.991785Z",
     "shell.execute_reply": "2021-01-29T19:33:41.991190Z"
    },
    "papermill": {
     "duration": 1389.35313,
     "end_time": "2021-01-29T19:33:41.991904",
     "exception": false,
     "start_time": "2021-01-29T19:10:32.638774",
     "status": "completed"
    },
    "tags": []
   },
   "outputs": [
    {
     "name": "stdout",
     "output_type": "stream",
     "text": [
      "Found 3489 validated image filenames belonging to 1 classes.\n",
      "54/55 [============================>.] - ETA: 1sFound 3489 validated image filenames belonging to 1 classes.\n",
      "55/55 [==============================] - 91s 2s/step\n",
      "Found 3489 validated image filenames belonging to 1 classes.\n",
      "54/55 [============================>.] - ETA: 2sFound 3489 validated image filenames belonging to 1 classes.\n",
      "55/55 [==============================] - 136s 2s/step\n",
      "Found 3489 validated image filenames belonging to 1 classes.\n",
      "54/55 [============================>.] - ETA: 2sFound 3489 validated image filenames belonging to 1 classes.\n",
      "55/55 [==============================] - 136s 2s/step\n",
      "Found 3489 validated image filenames belonging to 1 classes.\n",
      "54/55 [============================>.] - ETA: 2sFound 3489 validated image filenames belonging to 1 classes.\n",
      "55/55 [==============================] - 137s 2s/step\n",
      "Found 3489 validated image filenames belonging to 1 classes.\n",
      "54/55 [============================>.] - ETA: 2sFound 3489 validated image filenames belonging to 1 classes.\n",
      "55/55 [==============================] - 135s 2s/step\n",
      "Found 3489 validated image filenames belonging to 1 classes.\n",
      "54/55 [============================>.] - ETA: 2sFound 3489 validated image filenames belonging to 1 classes.\n",
      "55/55 [==============================] - 135s 2s/step\n",
      "Found 3489 validated image filenames belonging to 1 classes.\n",
      "54/55 [============================>.] - ETA: 2sFound 3489 validated image filenames belonging to 1 classes.\n",
      "55/55 [==============================] - 136s 2s/step\n",
      "Found 3489 validated image filenames belonging to 1 classes.\n",
      "54/55 [============================>.] - ETA: 2sFound 3489 validated image filenames belonging to 1 classes.\n",
      "55/55 [==============================] - 137s 2s/step\n",
      "Found 3489 validated image filenames belonging to 1 classes.\n",
      "55/55 [==============================] - ETA: 0sFound 3489 validated image filenames belonging to 1 classes.\n",
      "55/55 [==============================] - 137s 2s/step\n",
      "Found 3489 validated image filenames belonging to 1 classes.\n",
      "54/55 [============================>.] - ETA: 2sFound 3489 validated image filenames belonging to 1 classes.\n",
      "55/55 [==============================] - 136s 2s/step\n"
     ]
    }
   ],
   "source": [
    "# Build the model\n",
    "model = Model(inputs=[base_model1.input, base_model2.input, \n",
    "                      base_model3.input, base_model4.input], \n",
    "              outputs=head1(base_model1.get_layer('m1_activation_11').output, \n",
    "                            base_model2.get_layer('m2_activation_11').output,\n",
    "                            base_model3.get_layer('m3_activation_11').output,\n",
    "                            base_model4.get_layer('m4_activation_11').output),\n",
    "              name='HackerEarth_Holiday_Season_Model')\n",
    "\n",
    "# Compile the final model\n",
    "model.compile(loss='categorical_crossentropy', \n",
    "              metrics=[F1Score(num_classes=6, average='weighted'), \n",
    "                       'categorical_accuracy'],\n",
    "              optimizer=Lookahead(AdamW(lr=1e-3, \n",
    "                                        weight_decay=1e-5, \n",
    "                                        clipvalue=700), \n",
    "                                  sync_period=10))\n",
    "\n",
    "# Load best weights from pre-trained model\n",
    "model.load_weights('../input/holiday-season-enetb3456-mav1/hackerearth_holiday_season_model.h5')\n",
    "\n",
    "tta_steps = 9\n",
    "predictions = []\n",
    "\n",
    "preds = model.predict_generator(test_generator1(), steps=test_steps, verbose=1)\n",
    "predictions.append(preds)\n",
    "\n",
    "for i in range(tta_steps):\n",
    "    preds = model.predict_generator(test_generator1(tta=True), steps=test_steps, verbose=1)\n",
    "    predictions.append(preds)\n",
    "\n",
    "y_pred_final2 = np.mean(predictions, axis=0)"
   ]
  },
  {
   "cell_type": "code",
   "execution_count": 15,
   "metadata": {
    "execution": {
     "iopub.execute_input": "2021-01-29T19:33:42.691747Z",
     "iopub.status.busy": "2021-01-29T19:33:42.690775Z",
     "iopub.status.idle": "2021-01-29T20:02:23.706527Z",
     "shell.execute_reply": "2021-01-29T20:02:23.705155Z"
    },
    "papermill": {
     "duration": 1721.374074,
     "end_time": "2021-01-29T20:02:23.706646",
     "exception": false,
     "start_time": "2021-01-29T19:33:42.332572",
     "status": "completed"
    },
    "tags": []
   },
   "outputs": [
    {
     "name": "stdout",
     "output_type": "stream",
     "text": [
      "Found 3489 validated image filenames belonging to 1 classes.\n",
      "54/55 [============================>.] - ETA: 2sFound 3489 validated image filenames belonging to 1 classes.\n",
      "55/55 [==============================] - 136s 2s/step\n",
      "Found 3489 validated image filenames belonging to 1 classes.\n",
      "54/55 [============================>.] - ETA: 3sFound 3489 validated image filenames belonging to 1 classes.\n",
      "55/55 [==============================] - 164s 3s/step\n",
      "Found 3489 validated image filenames belonging to 1 classes.\n",
      "54/55 [============================>.] - ETA: 3sFound 3489 validated image filenames belonging to 1 classes.\n",
      "55/55 [==============================] - 166s 3s/step\n",
      "Found 3489 validated image filenames belonging to 1 classes.\n",
      "54/55 [============================>.] - ETA: 3sFound 3489 validated image filenames belonging to 1 classes.\n",
      "55/55 [==============================] - 165s 3s/step\n",
      "Found 3489 validated image filenames belonging to 1 classes.\n",
      "54/55 [============================>.] - ETA: 3sFound 3489 validated image filenames belonging to 1 classes.\n",
      "55/55 [==============================] - 165s 3s/step\n",
      "Found 3489 validated image filenames belonging to 1 classes.\n",
      "54/55 [============================>.] - ETA: 3sFound 3489 validated image filenames belonging to 1 classes.\n",
      "55/55 [==============================] - 165s 3s/step\n",
      "Found 3489 validated image filenames belonging to 1 classes.\n",
      "54/55 [============================>.] - ETA: 3sFound 3489 validated image filenames belonging to 1 classes.\n",
      "55/55 [==============================] - 166s 3s/step\n",
      "Found 3489 validated image filenames belonging to 1 classes.\n",
      "54/55 [============================>.] - ETA: 3sFound 3489 validated image filenames belonging to 1 classes.\n",
      "55/55 [==============================] - 167s 3s/step\n",
      "Found 3489 validated image filenames belonging to 1 classes.\n",
      "54/55 [============================>.] - ETA: 3sFound 3489 validated image filenames belonging to 1 classes.\n",
      "55/55 [==============================] - 165s 3s/step\n",
      "Found 3489 validated image filenames belonging to 1 classes.\n",
      "54/55 [============================>.] - ETA: 3sFound 3489 validated image filenames belonging to 1 classes.\n",
      "55/55 [==============================] - 167s 3s/step\n"
     ]
    }
   ],
   "source": [
    "# Build the model\n",
    "model = Model(inputs=[base_model1.input, base_model2.input, \n",
    "                      base_model3.input, base_model4.input,\n",
    "                      base_model5.input], \n",
    "              outputs=head2(base_model1.get_layer('m1_activation_11').output, \n",
    "                            base_model2.get_layer('m2_activation_11').output,\n",
    "                            base_model3.get_layer('m3_activation_11').output,\n",
    "                            base_model4.get_layer('m4_activation_11').output,\n",
    "                            base_model5.get_layer('m5_activation_11').output),\n",
    "              name='HackerEarth_Holiday_Season_Model')\n",
    "\n",
    "# Compile the final model\n",
    "model.compile(loss='categorical_crossentropy', \n",
    "              metrics=[F1Score(num_classes=6, average='weighted'), \n",
    "                       'categorical_accuracy'],\n",
    "              optimizer=Lookahead(AdamW(lr=1e-3, \n",
    "                                        weight_decay=1e-5, \n",
    "                                        clipvalue=700), \n",
    "                                  sync_period=10))\n",
    "\n",
    "# Load best weights from pre-trained model\n",
    "model.load_weights('../input/holiday-season-enetb34567-mav1/hackerearth_holiday_season_model.h5')\n",
    "\n",
    "tta_steps = 9\n",
    "predictions = []\n",
    "\n",
    "preds = model.predict_generator(test_generator2(), steps=test_steps, verbose=1)\n",
    "predictions.append(preds)\n",
    "\n",
    "for i in range(tta_steps):\n",
    "    preds = model.predict_generator(test_generator2(tta=True), steps=test_steps, verbose=1)\n",
    "    predictions.append(preds)\n",
    "\n",
    "y_pred_final3 = np.mean(predictions, axis=0)"
   ]
  },
  {
   "cell_type": "code",
   "execution_count": 16,
   "metadata": {
    "execution": {
     "iopub.execute_input": "2021-01-29T20:02:24.685796Z",
     "iopub.status.busy": "2021-01-29T20:02:24.685162Z",
     "iopub.status.idle": "2021-01-29T20:02:24.703128Z",
     "shell.execute_reply": "2021-01-29T20:02:24.702662Z"
    },
    "papermill": {
     "duration": 0.509216,
     "end_time": "2021-01-29T20:02:24.703221",
     "exception": false,
     "start_time": "2021-01-29T20:02:24.194005",
     "status": "completed"
    },
    "tags": []
   },
   "outputs": [],
   "source": [
    "np.savez_compressed('holiday-season-preds.npz',\n",
    "                    y_pred_final1=y_pred_final1, \n",
    "                    y_pred_final2=y_pred_final2,\n",
    "                    y_pred_final3=y_pred_final3)"
   ]
  },
  {
   "cell_type": "markdown",
   "metadata": {
    "papermill": {
     "duration": 0.491638,
     "end_time": "2021-01-29T20:02:25.687190",
     "exception": false,
     "start_time": "2021-01-29T20:02:25.195552",
     "status": "completed"
    },
    "tags": []
   },
   "source": [
    "## Create submission file"
   ]
  },
  {
   "cell_type": "code",
   "execution_count": 17,
   "metadata": {
    "execution": {
     "iopub.execute_input": "2021-01-29T20:02:26.672071Z",
     "iopub.status.busy": "2021-01-29T20:02:26.670303Z",
     "iopub.status.idle": "2021-01-29T20:02:26.672671Z",
     "shell.execute_reply": "2021-01-29T20:02:26.673076Z"
    },
    "papermill": {
     "duration": 0.496755,
     "end_time": "2021-01-29T20:02:26.673201",
     "exception": false,
     "start_time": "2021-01-29T20:02:26.176446",
     "status": "completed"
    },
    "tags": []
   },
   "outputs": [],
   "source": [
    "rev_class_map = {\n",
    "    0: 'Airplane',\n",
    "    1: 'Candle',\n",
    "    2: 'Christmas_Tree',\n",
    "    3: 'Jacket',\n",
    "    4: 'Miscellaneous',\n",
    "    5: 'Snowman'\n",
    "}"
   ]
  },
  {
   "cell_type": "code",
   "execution_count": 18,
   "metadata": {
    "execution": {
     "iopub.execute_input": "2021-01-29T20:02:27.936211Z",
     "iopub.status.busy": "2021-01-29T20:02:27.935635Z",
     "iopub.status.idle": "2021-01-29T20:02:28.976796Z",
     "shell.execute_reply": "2021-01-29T20:02:28.976370Z"
    },
    "papermill": {
     "duration": 1.605781,
     "end_time": "2021-01-29T20:02:28.976893",
     "exception": false,
     "start_time": "2021-01-29T20:02:27.371112",
     "status": "completed"
    },
    "tags": []
   },
   "outputs": [
    {
     "data": {
      "text/html": [
       "<div>\n",
       "<style scoped>\n",
       "    .dataframe tbody tr th:only-of-type {\n",
       "        vertical-align: middle;\n",
       "    }\n",
       "\n",
       "    .dataframe tbody tr th {\n",
       "        vertical-align: top;\n",
       "    }\n",
       "\n",
       "    .dataframe thead th {\n",
       "        text-align: right;\n",
       "    }\n",
       "</style>\n",
       "<table border=\"1\" class=\"dataframe\">\n",
       "  <thead>\n",
       "    <tr style=\"text-align: right;\">\n",
       "      <th></th>\n",
       "      <th>Image</th>\n",
       "      <th>Class</th>\n",
       "    </tr>\n",
       "  </thead>\n",
       "  <tbody>\n",
       "    <tr>\n",
       "      <th>0</th>\n",
       "      <td>image7761.jpg</td>\n",
       "      <td>Miscellaneous</td>\n",
       "    </tr>\n",
       "    <tr>\n",
       "      <th>1</th>\n",
       "      <td>image3202.jpg</td>\n",
       "      <td>Miscellaneous</td>\n",
       "    </tr>\n",
       "    <tr>\n",
       "      <th>2</th>\n",
       "      <td>image688.jpg</td>\n",
       "      <td>Snowman</td>\n",
       "    </tr>\n",
       "    <tr>\n",
       "      <th>3</th>\n",
       "      <td>image233.jpg</td>\n",
       "      <td>Candle</td>\n",
       "    </tr>\n",
       "    <tr>\n",
       "      <th>4</th>\n",
       "      <td>image4332.jpg</td>\n",
       "      <td>Christmas_Tree</td>\n",
       "    </tr>\n",
       "  </tbody>\n",
       "</table>\n",
       "</div>"
      ],
      "text/plain": [
       "           Image           Class\n",
       "0  image7761.jpg   Miscellaneous\n",
       "1  image3202.jpg   Miscellaneous\n",
       "2   image688.jpg         Snowman\n",
       "3   image233.jpg          Candle\n",
       "4  image4332.jpg  Christmas_Tree"
      ]
     },
     "execution_count": 18,
     "metadata": {},
     "output_type": "execute_result"
    }
   ],
   "source": [
    "test_df['Class'] = np.argmax(y_pred_final3, axis=-1)\n",
    "test_df['Class'] = test_df['Class'].map(rev_class_map)\n",
    "test_df.to_csv(\"/kaggle/working/submission3.csv\", index=False)\n",
    "test_df.head()"
   ]
  },
  {
   "cell_type": "code",
   "execution_count": 19,
   "metadata": {
    "execution": {
     "iopub.execute_input": "2021-01-29T20:02:29.976483Z",
     "iopub.status.busy": "2021-01-29T20:02:29.975611Z",
     "iopub.status.idle": "2021-01-29T20:02:29.995322Z",
     "shell.execute_reply": "2021-01-29T20:02:29.994735Z"
    },
    "papermill": {
     "duration": 0.530647,
     "end_time": "2021-01-29T20:02:29.995417",
     "exception": false,
     "start_time": "2021-01-29T20:02:29.464770",
     "status": "completed"
    },
    "tags": []
   },
   "outputs": [
    {
     "data": {
      "text/html": [
       "<div>\n",
       "<style scoped>\n",
       "    .dataframe tbody tr th:only-of-type {\n",
       "        vertical-align: middle;\n",
       "    }\n",
       "\n",
       "    .dataframe tbody tr th {\n",
       "        vertical-align: top;\n",
       "    }\n",
       "\n",
       "    .dataframe thead th {\n",
       "        text-align: right;\n",
       "    }\n",
       "</style>\n",
       "<table border=\"1\" class=\"dataframe\">\n",
       "  <thead>\n",
       "    <tr style=\"text-align: right;\">\n",
       "      <th></th>\n",
       "      <th>Image</th>\n",
       "      <th>Class</th>\n",
       "    </tr>\n",
       "  </thead>\n",
       "  <tbody>\n",
       "    <tr>\n",
       "      <th>0</th>\n",
       "      <td>image7761.jpg</td>\n",
       "      <td>Miscellaneous</td>\n",
       "    </tr>\n",
       "    <tr>\n",
       "      <th>1</th>\n",
       "      <td>image3202.jpg</td>\n",
       "      <td>Miscellaneous</td>\n",
       "    </tr>\n",
       "    <tr>\n",
       "      <th>2</th>\n",
       "      <td>image688.jpg</td>\n",
       "      <td>Snowman</td>\n",
       "    </tr>\n",
       "    <tr>\n",
       "      <th>3</th>\n",
       "      <td>image233.jpg</td>\n",
       "      <td>Candle</td>\n",
       "    </tr>\n",
       "    <tr>\n",
       "      <th>4</th>\n",
       "      <td>image4332.jpg</td>\n",
       "      <td>Christmas_Tree</td>\n",
       "    </tr>\n",
       "  </tbody>\n",
       "</table>\n",
       "</div>"
      ],
      "text/plain": [
       "           Image           Class\n",
       "0  image7761.jpg   Miscellaneous\n",
       "1  image3202.jpg   Miscellaneous\n",
       "2   image688.jpg         Snowman\n",
       "3   image233.jpg          Candle\n",
       "4  image4332.jpg  Christmas_Tree"
      ]
     },
     "execution_count": 19,
     "metadata": {},
     "output_type": "execute_result"
    }
   ],
   "source": [
    "y_pred_final = (y_pred_final1 * 0.15) + (y_pred_final2 * 0.35) + (y_pred_final3 * 0.5)\n",
    "\n",
    "test_df['Class'] = np.argmax(y_pred_final, axis=-1)\n",
    "test_df['Class'] = test_df['Class'].map(rev_class_map)\n",
    "test_df.to_csv(\"/kaggle/working/submission_blend.csv\", index=False)\n",
    "test_df.head()"
   ]
  },
  {
   "cell_type": "code",
   "execution_count": null,
   "metadata": {
    "papermill": {
     "duration": 0.498492,
     "end_time": "2021-01-29T20:02:30.982159",
     "exception": false,
     "start_time": "2021-01-29T20:02:30.483667",
     "status": "completed"
    },
    "tags": []
   },
   "outputs": [],
   "source": []
  }
 ],
 "metadata": {
  "kernelspec": {
   "display_name": "Python 3",
   "language": "python",
   "name": "python3"
  },
  "language_info": {
   "codemirror_mode": {
    "name": "ipython",
    "version": 3
   },
   "file_extension": ".py",
   "mimetype": "text/x-python",
   "name": "python",
   "nbconvert_exporter": "python",
   "pygments_lexer": "ipython3",
   "version": "3.7.9"
  },
  "papermill": {
   "duration": 4459.661776,
   "end_time": "2021-01-29T20:02:33.218298",
   "environment_variables": {},
   "exception": null,
   "input_path": "__notebook__.ipynb",
   "output_path": "__notebook__.ipynb",
   "parameters": {},
   "start_time": "2021-01-29T18:48:13.556522",
   "version": "2.1.0"
  }
 },
 "nbformat": 4,
 "nbformat_minor": 4
}
