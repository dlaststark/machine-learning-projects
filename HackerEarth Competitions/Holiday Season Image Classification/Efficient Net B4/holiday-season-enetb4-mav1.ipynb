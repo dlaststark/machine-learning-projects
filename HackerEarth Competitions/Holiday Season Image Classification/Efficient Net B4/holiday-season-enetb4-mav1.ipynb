{
 "cells": [
  {
   "cell_type": "markdown",
   "metadata": {
    "papermill": {
     "duration": 0.029513,
     "end_time": "2021-01-23T12:04:07.001239",
     "exception": false,
     "start_time": "2021-01-23T12:04:06.971726",
     "status": "completed"
    },
    "tags": []
   },
   "source": [
    "## Import Packages"
   ]
  },
  {
   "cell_type": "code",
   "execution_count": 1,
   "metadata": {
    "execution": {
     "iopub.execute_input": "2021-01-23T12:04:07.074017Z",
     "iopub.status.busy": "2021-01-23T12:04:07.073079Z",
     "iopub.status.idle": "2021-01-23T12:04:13.848651Z",
     "shell.execute_reply": "2021-01-23T12:04:13.847944Z"
    },
    "papermill": {
     "duration": 6.818771,
     "end_time": "2021-01-23T12:04:13.848794",
     "exception": false,
     "start_time": "2021-01-23T12:04:07.030023",
     "status": "completed"
    },
    "tags": []
   },
   "outputs": [],
   "source": [
    "import os\n",
    "import itertools\n",
    "import numpy as np\n",
    "import pandas as pd\n",
    "import seaborn as sns\n",
    "from tqdm import tqdm\n",
    "import matplotlib.pyplot as plt\n",
    "from sklearn.metrics import confusion_matrix\n",
    "from sklearn.metrics import classification_report\n",
    "from sklearn.model_selection import StratifiedShuffleSplit\n",
    "\n",
    "import tensorflow as tf\n",
    "from tensorflow.keras import backend as K\n",
    "from tensorflow.keras.regularizers import l2\n",
    "from tensorflow_addons.metrics import F1Score\n",
    "from tensorflow.keras.models import Model, load_model\n",
    "from tensorflow_addons.optimizers import AdamW, Lookahead\n",
    "from tensorflow.keras.callbacks import EarlyStopping\n",
    "from tensorflow.keras.callbacks import ReduceLROnPlateau\n",
    "from tensorflow.keras.callbacks import ModelCheckpoint\n",
    "from tensorflow.keras.applications import EfficientNetB4\n",
    "from tensorflow.keras.layers import Dense, Dropout, Flatten\n",
    "from tensorflow.keras.layers import BatchNormalization, Input\n",
    "from tensorflow.keras.layers import ZeroPadding2D, MaxPooling2D\n",
    "from tensorflow.keras.layers import GlobalAveragePooling2D, Add\n",
    "from tensorflow.keras.layers import GlobalMaxPooling2D, Reshape\n",
    "from tensorflow.keras.layers import Activation, Conv2D, Average\n",
    "from tensorflow.keras.preprocessing.image import ImageDataGenerator"
   ]
  },
  {
   "cell_type": "markdown",
   "metadata": {
    "papermill": {
     "duration": 0.027064,
     "end_time": "2021-01-23T12:04:13.904899",
     "exception": false,
     "start_time": "2021-01-23T12:04:13.877835",
     "status": "completed"
    },
    "tags": []
   },
   "source": [
    "## Helper Functions"
   ]
  },
  {
   "cell_type": "code",
   "execution_count": 2,
   "metadata": {
    "execution": {
     "iopub.execute_input": "2021-01-23T12:04:13.971426Z",
     "iopub.status.busy": "2021-01-23T12:04:13.970671Z",
     "iopub.status.idle": "2021-01-23T12:04:13.973565Z",
     "shell.execute_reply": "2021-01-23T12:04:13.973994Z"
    },
    "papermill": {
     "duration": 0.042521,
     "end_time": "2021-01-23T12:04:13.974119",
     "exception": false,
     "start_time": "2021-01-23T12:04:13.931598",
     "status": "completed"
    },
    "tags": []
   },
   "outputs": [],
   "source": [
    "def plot_confusion_matrix(cm, classes):\n",
    "\n",
    "    plt.imshow(cm, interpolation='nearest', cmap=plt.cm.Blues)\n",
    "    plt.title('Confusion matrix')\n",
    "    plt.colorbar()\n",
    "    tick_marks = np.arange(len(classes))\n",
    "    plt.xticks(tick_marks, classes, rotation=0)\n",
    "    plt.yticks(tick_marks, classes)\n",
    "\n",
    "    thresh = cm.max() / 2.\n",
    "    for i, j in itertools.product(range(cm.shape[0]), range(cm.shape[1])):\n",
    "        plt.text(j, i, format(cm[i, j], 'd'),\n",
    "                 horizontalalignment=\"center\",\n",
    "                 color=\"white\" if cm[i, j] > thresh else \"black\")\n",
    "\n",
    "    plt.ylabel('True label')\n",
    "    plt.xlabel('Predicted label')\n",
    "    plt.tight_layout()"
   ]
  },
  {
   "cell_type": "markdown",
   "metadata": {
    "papermill": {
     "duration": 0.025797,
     "end_time": "2021-01-23T12:04:14.026571",
     "exception": false,
     "start_time": "2021-01-23T12:04:14.000774",
     "status": "completed"
    },
    "tags": []
   },
   "source": [
    "## Read true labels + Basic EDA"
   ]
  },
  {
   "cell_type": "code",
   "execution_count": 3,
   "metadata": {
    "execution": {
     "iopub.execute_input": "2021-01-23T12:04:14.095706Z",
     "iopub.status.busy": "2021-01-23T12:04:14.095093Z",
     "iopub.status.idle": "2021-01-23T12:04:14.134762Z",
     "shell.execute_reply": "2021-01-23T12:04:14.135308Z"
    },
    "papermill": {
     "duration": 0.082651,
     "end_time": "2021-01-23T12:04:14.135452",
     "exception": false,
     "start_time": "2021-01-23T12:04:14.052801",
     "status": "completed"
    },
    "tags": []
   },
   "outputs": [
    {
     "data": {
      "text/html": [
       "<div>\n",
       "<style scoped>\n",
       "    .dataframe tbody tr th:only-of-type {\n",
       "        vertical-align: middle;\n",
       "    }\n",
       "\n",
       "    .dataframe tbody tr th {\n",
       "        vertical-align: top;\n",
       "    }\n",
       "\n",
       "    .dataframe thead th {\n",
       "        text-align: right;\n",
       "    }\n",
       "</style>\n",
       "<table border=\"1\" class=\"dataframe\">\n",
       "  <thead>\n",
       "    <tr style=\"text-align: right;\">\n",
       "      <th></th>\n",
       "      <th>Image</th>\n",
       "      <th>Class</th>\n",
       "    </tr>\n",
       "  </thead>\n",
       "  <tbody>\n",
       "    <tr>\n",
       "      <th>0</th>\n",
       "      <td>image3476.jpg</td>\n",
       "      <td>Miscellaneous</td>\n",
       "    </tr>\n",
       "    <tr>\n",
       "      <th>1</th>\n",
       "      <td>image5198.jpg</td>\n",
       "      <td>Candle</td>\n",
       "    </tr>\n",
       "    <tr>\n",
       "      <th>2</th>\n",
       "      <td>image4183.jpg</td>\n",
       "      <td>Snowman</td>\n",
       "    </tr>\n",
       "    <tr>\n",
       "      <th>3</th>\n",
       "      <td>image1806.jpg</td>\n",
       "      <td>Miscellaneous</td>\n",
       "    </tr>\n",
       "    <tr>\n",
       "      <th>4</th>\n",
       "      <td>image7831.jpg</td>\n",
       "      <td>Miscellaneous</td>\n",
       "    </tr>\n",
       "  </tbody>\n",
       "</table>\n",
       "</div>"
      ],
      "text/plain": [
       "           Image          Class\n",
       "0  image3476.jpg  Miscellaneous\n",
       "1  image5198.jpg         Candle\n",
       "2  image4183.jpg        Snowman\n",
       "3  image1806.jpg  Miscellaneous\n",
       "4  image7831.jpg  Miscellaneous"
      ]
     },
     "execution_count": 3,
     "metadata": {},
     "output_type": "execute_result"
    }
   ],
   "source": [
    "train_df = pd.read_csv(\"../input/hackereath-holiday-season-deep-learning-contest/dataset/train.csv\")\n",
    "train_df.head()"
   ]
  },
  {
   "cell_type": "code",
   "execution_count": 4,
   "metadata": {
    "execution": {
     "iopub.execute_input": "2021-01-23T12:04:14.195923Z",
     "iopub.status.busy": "2021-01-23T12:04:14.195109Z",
     "iopub.status.idle": "2021-01-23T12:04:14.199231Z",
     "shell.execute_reply": "2021-01-23T12:04:14.198671Z"
    },
    "papermill": {
     "duration": 0.036056,
     "end_time": "2021-01-23T12:04:14.199339",
     "exception": false,
     "start_time": "2021-01-23T12:04:14.163283",
     "status": "completed"
    },
    "tags": []
   },
   "outputs": [],
   "source": [
    "class_map = {\n",
    "    'Airplane': 0,\n",
    "    'Candle': 1,\n",
    "    'Christmas_Tree': 2,\n",
    "    'Jacket': 3,\n",
    "    'Miscellaneous': 4,\n",
    "    'Snowman': 5\n",
    "}"
   ]
  },
  {
   "cell_type": "code",
   "execution_count": 5,
   "metadata": {
    "execution": {
     "iopub.execute_input": "2021-01-23T12:04:14.273469Z",
     "iopub.status.busy": "2021-01-23T12:04:14.272432Z",
     "iopub.status.idle": "2021-01-23T12:04:14.286947Z",
     "shell.execute_reply": "2021-01-23T12:04:14.287495Z"
    },
    "papermill": {
     "duration": 0.061506,
     "end_time": "2021-01-23T12:04:14.287624",
     "exception": false,
     "start_time": "2021-01-23T12:04:14.226118",
     "status": "completed"
    },
    "tags": []
   },
   "outputs": [
    {
     "data": {
      "text/html": [
       "<div>\n",
       "<style scoped>\n",
       "    .dataframe tbody tr th:only-of-type {\n",
       "        vertical-align: middle;\n",
       "    }\n",
       "\n",
       "    .dataframe tbody tr th {\n",
       "        vertical-align: top;\n",
       "    }\n",
       "\n",
       "    .dataframe thead th {\n",
       "        text-align: right;\n",
       "    }\n",
       "</style>\n",
       "<table border=\"1\" class=\"dataframe\">\n",
       "  <thead>\n",
       "    <tr style=\"text-align: right;\">\n",
       "      <th></th>\n",
       "      <th>Class</th>\n",
       "      <th>Class_enc</th>\n",
       "      <th>Count</th>\n",
       "    </tr>\n",
       "  </thead>\n",
       "  <tbody>\n",
       "    <tr>\n",
       "      <th>0</th>\n",
       "      <td>Airplane</td>\n",
       "      <td>0</td>\n",
       "      <td>535</td>\n",
       "    </tr>\n",
       "    <tr>\n",
       "      <th>1</th>\n",
       "      <td>Candle</td>\n",
       "      <td>1</td>\n",
       "      <td>593</td>\n",
       "    </tr>\n",
       "    <tr>\n",
       "      <th>2</th>\n",
       "      <td>Christmas_Tree</td>\n",
       "      <td>2</td>\n",
       "      <td>1539</td>\n",
       "    </tr>\n",
       "    <tr>\n",
       "      <th>3</th>\n",
       "      <td>Jacket</td>\n",
       "      <td>3</td>\n",
       "      <td>640</td>\n",
       "    </tr>\n",
       "    <tr>\n",
       "      <th>4</th>\n",
       "      <td>Miscellaneous</td>\n",
       "      <td>4</td>\n",
       "      <td>2801</td>\n",
       "    </tr>\n",
       "    <tr>\n",
       "      <th>5</th>\n",
       "      <td>Snowman</td>\n",
       "      <td>5</td>\n",
       "      <td>361</td>\n",
       "    </tr>\n",
       "  </tbody>\n",
       "</table>\n",
       "</div>"
      ],
      "text/plain": [
       "            Class Class_enc  Count\n",
       "0        Airplane         0    535\n",
       "1          Candle         1    593\n",
       "2  Christmas_Tree         2   1539\n",
       "3          Jacket         3    640\n",
       "4   Miscellaneous         4   2801\n",
       "5         Snowman         5    361"
      ]
     },
     "execution_count": 5,
     "metadata": {},
     "output_type": "execute_result"
    }
   ],
   "source": [
    "train_df['Class_enc'] = train_df['Class'].map(class_map)\n",
    "train_df['Class_enc'] = train_df['Class_enc'].astype('str')\n",
    "train_df.groupby(['Class','Class_enc']).size().reset_index().rename(columns={0:'Count'})"
   ]
  },
  {
   "cell_type": "code",
   "execution_count": 6,
   "metadata": {
    "execution": {
     "iopub.execute_input": "2021-01-23T12:04:14.347930Z",
     "iopub.status.busy": "2021-01-23T12:04:14.347270Z",
     "iopub.status.idle": "2021-01-23T12:04:14.634967Z",
     "shell.execute_reply": "2021-01-23T12:04:14.635763Z"
    },
    "papermill": {
     "duration": 0.320567,
     "end_time": "2021-01-23T12:04:14.635926",
     "exception": false,
     "start_time": "2021-01-23T12:04:14.315359",
     "status": "completed"
    },
    "tags": []
   },
   "outputs": [
    {
     "data": {
      "image/png": "[encoded data removed]",
      "text/plain": [
       "<Figure size 864x504 with 1 Axes>"
      ]
     },
     "metadata": {
      "needs_background": "light"
     },
     "output_type": "display_data"
    }
   ],
   "source": [
    "plt.figure(figsize=(12,7))\n",
    "sns.set(style=\"darkgrid\")\n",
    "ax = sns.countplot(x=\"Class\", data=train_df)"
   ]
  },
  {
   "cell_type": "code",
   "execution_count": 7,
   "metadata": {
    "execution": {
     "iopub.execute_input": "2021-01-23T12:04:14.702503Z",
     "iopub.status.busy": "2021-01-23T12:04:14.701827Z",
     "iopub.status.idle": "2021-01-23T12:04:15.153811Z",
     "shell.execute_reply": "2021-01-23T12:04:15.153081Z"
    },
    "papermill": {
     "duration": 0.486112,
     "end_time": "2021-01-23T12:04:15.153933",
     "exception": false,
     "start_time": "2021-01-23T12:04:14.667821",
     "status": "completed"
    },
    "tags": []
   },
   "outputs": [
    {
     "name": "stderr",
     "output_type": "stream",
     "text": [
      "100%|██████████| 3489/3489 [00:00<00:00, 852842.63it/s]\n"
     ]
    },
    {
     "data": {
      "text/html": [
       "<div>\n",
       "<style scoped>\n",
       "    .dataframe tbody tr th:only-of-type {\n",
       "        vertical-align: middle;\n",
       "    }\n",
       "\n",
       "    .dataframe tbody tr th {\n",
       "        vertical-align: top;\n",
       "    }\n",
       "\n",
       "    .dataframe thead th {\n",
       "        text-align: right;\n",
       "    }\n",
       "</style>\n",
       "<table border=\"1\" class=\"dataframe\">\n",
       "  <thead>\n",
       "    <tr style=\"text-align: right;\">\n",
       "      <th></th>\n",
       "      <th>Image</th>\n",
       "      <th>Class</th>\n",
       "    </tr>\n",
       "  </thead>\n",
       "  <tbody>\n",
       "    <tr>\n",
       "      <th>0</th>\n",
       "      <td>image7761.jpg</td>\n",
       "      <td>0</td>\n",
       "    </tr>\n",
       "    <tr>\n",
       "      <th>1</th>\n",
       "      <td>image3202.jpg</td>\n",
       "      <td>0</td>\n",
       "    </tr>\n",
       "    <tr>\n",
       "      <th>2</th>\n",
       "      <td>image688.jpg</td>\n",
       "      <td>0</td>\n",
       "    </tr>\n",
       "    <tr>\n",
       "      <th>3</th>\n",
       "      <td>image233.jpg</td>\n",
       "      <td>0</td>\n",
       "    </tr>\n",
       "    <tr>\n",
       "      <th>4</th>\n",
       "      <td>image4332.jpg</td>\n",
       "      <td>0</td>\n",
       "    </tr>\n",
       "  </tbody>\n",
       "</table>\n",
       "</div>"
      ],
      "text/plain": [
       "           Image Class\n",
       "0  image7761.jpg     0\n",
       "1  image3202.jpg     0\n",
       "2   image688.jpg     0\n",
       "3   image233.jpg     0\n",
       "4  image4332.jpg     0"
      ]
     },
     "execution_count": 7,
     "metadata": {},
     "output_type": "execute_result"
    }
   ],
   "source": [
    "test_dir = \"../input/hackereath-holiday-season-deep-learning-contest/dataset/test\"\n",
    "test_files = []\n",
    "\n",
    "for file in tqdm(os.listdir(test_dir)):\n",
    "    test_files.append(file)\n",
    "\n",
    "test_df = pd.DataFrame(test_files, columns=['Image'])\n",
    "test_df['Class'] = '0'\n",
    "test_df.head()"
   ]
  },
  {
   "cell_type": "markdown",
   "metadata": {
    "papermill": {
     "duration": 0.029769,
     "end_time": "2021-01-23T12:04:15.213980",
     "exception": false,
     "start_time": "2021-01-23T12:04:15.184211",
     "status": "completed"
    },
    "tags": []
   },
   "source": [
    "## Calculate class-weights"
   ]
  },
  {
   "cell_type": "code",
   "execution_count": 8,
   "metadata": {
    "execution": {
     "iopub.execute_input": "2021-01-23T12:04:15.286440Z",
     "iopub.status.busy": "2021-01-23T12:04:15.285460Z",
     "iopub.status.idle": "2021-01-23T12:04:15.315914Z",
     "shell.execute_reply": "2021-01-23T12:04:15.315307Z"
    },
    "papermill": {
     "duration": 0.070922,
     "end_time": "2021-01-23T12:04:15.316024",
     "exception": false,
     "start_time": "2021-01-23T12:04:15.245102",
     "status": "completed"
    },
    "tags": []
   },
   "outputs": [
    {
     "data": {
      "text/plain": [
       "{0: 0.6747663551401869,\n",
       " 1: 0.6087689713322091,\n",
       " 2: 0.23456790123456786,\n",
       " 3: 0.5640625,\n",
       " 4: 0.12888254194930382,\n",
       " 5: 1.0}"
      ]
     },
     "execution_count": 8,
     "metadata": {},
     "output_type": "execute_result"
    }
   ],
   "source": [
    "temp_df = train_df.groupby(['Class_enc']).size().reset_index().rename(columns={0:'count'})\n",
    "total_count = np.sum(temp_df['count'].values)\n",
    "temp_df['class%'] = (temp_df['count'] / total_count) * 100\n",
    "lowest_pct = min(temp_df['class%'])\n",
    "temp_df['class_weight'] = lowest_pct / temp_df['class%']\n",
    "class_weight = temp_df[['Class_enc', 'class_weight']].to_dict()['class_weight']\n",
    "class_weight"
   ]
  },
  {
   "cell_type": "markdown",
   "metadata": {
    "papermill": {
     "duration": 0.029718,
     "end_time": "2021-01-23T12:04:15.375777",
     "exception": false,
     "start_time": "2021-01-23T12:04:15.346059",
     "status": "completed"
    },
    "tags": []
   },
   "source": [
    "## Split training data into train/validation datasets"
   ]
  },
  {
   "cell_type": "code",
   "execution_count": 9,
   "metadata": {
    "execution": {
     "iopub.execute_input": "2021-01-23T12:04:15.486465Z",
     "iopub.status.busy": "2021-01-23T12:04:15.485642Z",
     "iopub.status.idle": "2021-01-23T12:04:15.501042Z",
     "shell.execute_reply": "2021-01-23T12:04:15.501680Z"
    },
    "papermill": {
     "duration": 0.095649,
     "end_time": "2021-01-23T12:04:15.501807",
     "exception": false,
     "start_time": "2021-01-23T12:04:15.406158",
     "status": "completed"
    },
    "tags": []
   },
   "outputs": [
    {
     "name": "stdout",
     "output_type": "stream",
     "text": [
      "train_df shape: (5498, 3)\n",
      "validation_df shape: (971, 3)\n"
     ]
    }
   ],
   "source": [
    "sss = StratifiedShuffleSplit(n_splits=1, test_size=0.15, random_state=1)\n",
    "for train_index, validation_index in sss.split(train_df['Image'], train_df['Class_enc']):\n",
    "    train_df, validation_df = train_df.iloc[train_index], train_df.iloc[validation_index]\n",
    "\n",
    "print(\"train_df shape: {}\".format(train_df.shape))\n",
    "print(\"validation_df shape: {}\".format(validation_df.shape))"
   ]
  },
  {
   "cell_type": "code",
   "execution_count": 10,
   "metadata": {
    "execution": {
     "iopub.execute_input": "2021-01-23T12:04:15.572348Z",
     "iopub.status.busy": "2021-01-23T12:04:15.571490Z",
     "iopub.status.idle": "2021-01-23T12:04:15.584840Z",
     "shell.execute_reply": "2021-01-23T12:04:15.585432Z"
    },
    "papermill": {
     "duration": 0.052587,
     "end_time": "2021-01-23T12:04:15.585545",
     "exception": false,
     "start_time": "2021-01-23T12:04:15.532958",
     "status": "completed"
    },
    "tags": []
   },
   "outputs": [
    {
     "data": {
      "text/html": [
       "<div>\n",
       "<style scoped>\n",
       "    .dataframe tbody tr th:only-of-type {\n",
       "        vertical-align: middle;\n",
       "    }\n",
       "\n",
       "    .dataframe tbody tr th {\n",
       "        vertical-align: top;\n",
       "    }\n",
       "\n",
       "    .dataframe thead th {\n",
       "        text-align: right;\n",
       "    }\n",
       "</style>\n",
       "<table border=\"1\" class=\"dataframe\">\n",
       "  <thead>\n",
       "    <tr style=\"text-align: right;\">\n",
       "      <th></th>\n",
       "      <th>Class</th>\n",
       "      <th>Class_enc</th>\n",
       "      <th>Count</th>\n",
       "    </tr>\n",
       "  </thead>\n",
       "  <tbody>\n",
       "    <tr>\n",
       "      <th>0</th>\n",
       "      <td>Airplane</td>\n",
       "      <td>0</td>\n",
       "      <td>455</td>\n",
       "    </tr>\n",
       "    <tr>\n",
       "      <th>1</th>\n",
       "      <td>Candle</td>\n",
       "      <td>1</td>\n",
       "      <td>504</td>\n",
       "    </tr>\n",
       "    <tr>\n",
       "      <th>2</th>\n",
       "      <td>Christmas_Tree</td>\n",
       "      <td>2</td>\n",
       "      <td>1308</td>\n",
       "    </tr>\n",
       "    <tr>\n",
       "      <th>3</th>\n",
       "      <td>Jacket</td>\n",
       "      <td>3</td>\n",
       "      <td>544</td>\n",
       "    </tr>\n",
       "    <tr>\n",
       "      <th>4</th>\n",
       "      <td>Miscellaneous</td>\n",
       "      <td>4</td>\n",
       "      <td>2380</td>\n",
       "    </tr>\n",
       "    <tr>\n",
       "      <th>5</th>\n",
       "      <td>Snowman</td>\n",
       "      <td>5</td>\n",
       "      <td>307</td>\n",
       "    </tr>\n",
       "  </tbody>\n",
       "</table>\n",
       "</div>"
      ],
      "text/plain": [
       "            Class Class_enc  Count\n",
       "0        Airplane         0    455\n",
       "1          Candle         1    504\n",
       "2  Christmas_Tree         2   1308\n",
       "3          Jacket         3    544\n",
       "4   Miscellaneous         4   2380\n",
       "5         Snowman         5    307"
      ]
     },
     "execution_count": 10,
     "metadata": {},
     "output_type": "execute_result"
    }
   ],
   "source": [
    "train_df.groupby(['Class','Class_enc']).size().reset_index().rename(columns={0:'Count'})"
   ]
  },
  {
   "cell_type": "code",
   "execution_count": 11,
   "metadata": {
    "execution": {
     "iopub.execute_input": "2021-01-23T12:04:15.656474Z",
     "iopub.status.busy": "2021-01-23T12:04:15.655515Z",
     "iopub.status.idle": "2021-01-23T12:04:15.667390Z",
     "shell.execute_reply": "2021-01-23T12:04:15.668050Z"
    },
    "papermill": {
     "duration": 0.051384,
     "end_time": "2021-01-23T12:04:15.668173",
     "exception": false,
     "start_time": "2021-01-23T12:04:15.616789",
     "status": "completed"
    },
    "tags": []
   },
   "outputs": [
    {
     "data": {
      "text/html": [
       "<div>\n",
       "<style scoped>\n",
       "    .dataframe tbody tr th:only-of-type {\n",
       "        vertical-align: middle;\n",
       "    }\n",
       "\n",
       "    .dataframe tbody tr th {\n",
       "        vertical-align: top;\n",
       "    }\n",
       "\n",
       "    .dataframe thead th {\n",
       "        text-align: right;\n",
       "    }\n",
       "</style>\n",
       "<table border=\"1\" class=\"dataframe\">\n",
       "  <thead>\n",
       "    <tr style=\"text-align: right;\">\n",
       "      <th></th>\n",
       "      <th>Class</th>\n",
       "      <th>Class_enc</th>\n",
       "      <th>Count</th>\n",
       "    </tr>\n",
       "  </thead>\n",
       "  <tbody>\n",
       "    <tr>\n",
       "      <th>0</th>\n",
       "      <td>Airplane</td>\n",
       "      <td>0</td>\n",
       "      <td>80</td>\n",
       "    </tr>\n",
       "    <tr>\n",
       "      <th>1</th>\n",
       "      <td>Candle</td>\n",
       "      <td>1</td>\n",
       "      <td>89</td>\n",
       "    </tr>\n",
       "    <tr>\n",
       "      <th>2</th>\n",
       "      <td>Christmas_Tree</td>\n",
       "      <td>2</td>\n",
       "      <td>231</td>\n",
       "    </tr>\n",
       "    <tr>\n",
       "      <th>3</th>\n",
       "      <td>Jacket</td>\n",
       "      <td>3</td>\n",
       "      <td>96</td>\n",
       "    </tr>\n",
       "    <tr>\n",
       "      <th>4</th>\n",
       "      <td>Miscellaneous</td>\n",
       "      <td>4</td>\n",
       "      <td>421</td>\n",
       "    </tr>\n",
       "    <tr>\n",
       "      <th>5</th>\n",
       "      <td>Snowman</td>\n",
       "      <td>5</td>\n",
       "      <td>54</td>\n",
       "    </tr>\n",
       "  </tbody>\n",
       "</table>\n",
       "</div>"
      ],
      "text/plain": [
       "            Class Class_enc  Count\n",
       "0        Airplane         0     80\n",
       "1          Candle         1     89\n",
       "2  Christmas_Tree         2    231\n",
       "3          Jacket         3     96\n",
       "4   Miscellaneous         4    421\n",
       "5         Snowman         5     54"
      ]
     },
     "execution_count": 11,
     "metadata": {},
     "output_type": "execute_result"
    }
   ],
   "source": [
    "validation_df.groupby(['Class','Class_enc']).size().reset_index().rename(columns={0:'Count'})"
   ]
  },
  {
   "cell_type": "markdown",
   "metadata": {
    "papermill": {
     "duration": 0.031677,
     "end_time": "2021-01-23T12:04:15.731621",
     "exception": false,
     "start_time": "2021-01-23T12:04:15.699944",
     "status": "completed"
    },
    "tags": []
   },
   "source": [
    "## Model Hyperparameters"
   ]
  },
  {
   "cell_type": "code",
   "execution_count": 12,
   "metadata": {
    "execution": {
     "iopub.execute_input": "2021-01-23T12:04:15.804691Z",
     "iopub.status.busy": "2021-01-23T12:04:15.803798Z",
     "iopub.status.idle": "2021-01-23T12:04:15.806331Z",
     "shell.execute_reply": "2021-01-23T12:04:15.806884Z"
    },
    "papermill": {
     "duration": 0.04332,
     "end_time": "2021-01-23T12:04:15.807047",
     "exception": false,
     "start_time": "2021-01-23T12:04:15.763727",
     "status": "completed"
    },
    "tags": []
   },
   "outputs": [],
   "source": [
    "dataset_dir = \"../input/hackereath-holiday-season-deep-learning-contest/dataset/\"\n",
    "mini_batch_size = 128\n",
    "steps_per_epoch = int(np.ceil(train_df.shape[0] / float(mini_batch_size)))\n",
    "validation_steps = int(np.ceil(validation_df.shape[0] / float(mini_batch_size)))\n",
    "test_steps = int(np.ceil(test_df.shape[0] / float(mini_batch_size)))\n",
    "image_dim = (160, 160, 3)"
   ]
  },
  {
   "cell_type": "markdown",
   "metadata": {
    "papermill": {
     "duration": 0.034566,
     "end_time": "2021-01-23T12:04:15.877162",
     "exception": false,
     "start_time": "2021-01-23T12:04:15.842596",
     "status": "completed"
    },
    "tags": []
   },
   "source": [
    "## Configure image generators"
   ]
  },
  {
   "cell_type": "code",
   "execution_count": 13,
   "metadata": {
    "execution": {
     "iopub.execute_input": "2021-01-23T12:04:15.979625Z",
     "iopub.status.busy": "2021-01-23T12:04:15.978779Z",
     "iopub.status.idle": "2021-01-23T12:04:40.508404Z",
     "shell.execute_reply": "2021-01-23T12:04:40.509176Z"
    },
    "papermill": {
     "duration": 24.59822,
     "end_time": "2021-01-23T12:04:40.509394",
     "exception": false,
     "start_time": "2021-01-23T12:04:15.911174",
     "status": "completed"
    },
    "tags": []
   },
   "outputs": [
    {
     "name": "stdout",
     "output_type": "stream",
     "text": [
      "Found 5498 validated image filenames belonging to 6 classes.\n",
      "Found 971 validated image filenames belonging to 6 classes.\n",
      "Found 3489 validated image filenames belonging to 1 classes.\n"
     ]
    }
   ],
   "source": [
    "train_datagen = ImageDataGenerator(rotation_range = 30,\n",
    "                                   zoom_range = 0.2,\n",
    "                                   horizontal_flip = True,\n",
    "                                   fill_mode = 'nearest',\n",
    "                                   height_shift_range = 0.1,\n",
    "                                   width_shift_range = 0.1)\n",
    "\n",
    "train_generator = train_datagen.flow_from_dataframe(train_df,\n",
    "                                                    directory = os.path.join(dataset_dir,\"train\"),\n",
    "                                                    x_col = \"Image\", \n",
    "                                                    y_col = \"Class_enc\",\n",
    "                                                    target_size = (image_dim[0], image_dim[1]),\n",
    "                                                    batch_size = mini_batch_size,\n",
    "                                                    class_mode = \"categorical\",\n",
    "                                                    interpolation=\"bicubic\")\n",
    "\n",
    "validation_datagen = ImageDataGenerator()\n",
    "\n",
    "validation_generator = validation_datagen.flow_from_dataframe(validation_df,\n",
    "                                                              directory = os.path.join(dataset_dir,\"train\"),\n",
    "                                                              x_col = \"Image\",\n",
    "                                                              y_col = \"Class_enc\",\n",
    "                                                              shuffle=False,\n",
    "                                                              target_size = (image_dim[0], image_dim[1]),\n",
    "                                                              batch_size = mini_batch_size,\n",
    "                                                              class_mode = \"categorical\",\n",
    "                                                              interpolation=\"bicubic\")\n",
    "\n",
    "test_datagen = ImageDataGenerator()\n",
    "\n",
    "test_generator = test_datagen.flow_from_dataframe(test_df,\n",
    "                                                  directory = os.path.join(dataset_dir,\"test\"),\n",
    "                                                  x_col = \"Image\",\n",
    "                                                  y_col = \"Class\",\n",
    "                                                  shuffle=False,\n",
    "                                                  target_size = (image_dim[0], image_dim[1]),\n",
    "                                                  batch_size = mini_batch_size,\n",
    "                                                  class_mode = \"categorical\",\n",
    "                                                  interpolation=\"bicubic\")"
   ]
  },
  {
   "cell_type": "markdown",
   "metadata": {
    "papermill": {
     "duration": 0.034022,
     "end_time": "2021-01-23T12:04:40.577443",
     "exception": false,
     "start_time": "2021-01-23T12:04:40.543421",
     "status": "completed"
    },
    "tags": []
   },
   "source": [
    "## Build and validate the model"
   ]
  },
  {
   "cell_type": "code",
   "execution_count": 14,
   "metadata": {
    "execution": {
     "iopub.execute_input": "2021-01-23T12:04:40.680051Z",
     "iopub.status.busy": "2021-01-23T12:04:40.668834Z",
     "iopub.status.idle": "2021-01-23T12:04:40.683086Z",
     "shell.execute_reply": "2021-01-23T12:04:40.682515Z"
    },
    "papermill": {
     "duration": 0.07167,
     "end_time": "2021-01-23T12:04:40.683219",
     "exception": false,
     "start_time": "2021-01-23T12:04:40.611549",
     "status": "completed"
    },
    "tags": []
   },
   "outputs": [],
   "source": [
    "def head(x_input, input_shape=1792, ratio=8):\n",
    "    \n",
    "    #=======================================================\n",
    "    #                    Channel Attention\n",
    "    #=======================================================\n",
    "    gapavg = GlobalAveragePooling2D()(x_input)\n",
    "    gapavg = Reshape((1, 1, gapavg.shape[1]))(gapavg)\n",
    "    gapavg = Conv2D(input_shape//ratio, \n",
    "                    kernel_size=1, strides=1, use_bias=True, \n",
    "                    padding='same', kernel_regularizer=l2(0.001), \n",
    "                    kernel_initializer='he_normal')(gapavg)\n",
    "    gapavg = BatchNormalization()(gapavg)\n",
    "    gapavg = Activation('relu')(gapavg)\n",
    "    gapavg_out = Conv2D(input_shape, kernel_size=1, \n",
    "                        strides=1, padding='same', use_bias=True, \n",
    "                        kernel_regularizer=l2(0.001), \n",
    "                        kernel_initializer='he_normal')(gapavg)\n",
    "    gapavg_out = BatchNormalization()(gapavg_out)\n",
    "    gapavg_out = Activation('relu')(gapavg_out)\n",
    "\n",
    "\n",
    "    gmpmax = GlobalMaxPooling2D()(x_input)\n",
    "    gmpmax = Reshape((1, 1, gmpmax.shape[1]))(gmpmax)\n",
    "    gmpmax = Conv2D(input_shape//ratio, \n",
    "                    kernel_size=1, strides=1, use_bias=True, \n",
    "                    padding='same', kernel_regularizer=l2(0.001), \n",
    "                    kernel_initializer='he_normal')(gmpmax)\n",
    "    gmpmax = BatchNormalization()(gmpmax)\n",
    "    gmpmax = Activation('relu')(gmpmax)\n",
    "    gmpmax_out = Conv2D(input_shape, kernel_size=1, \n",
    "                        strides=1, padding='same', use_bias=True, \n",
    "                        kernel_regularizer=l2(0.001), \n",
    "                        kernel_initializer='he_normal')(gmpmax)\n",
    "    gmpmax_out = BatchNormalization()(gmpmax_out)\n",
    "    gmpmax_out = Activation('relu')(gmpmax_out)\n",
    "    canx = x_input * tf.math.sigmoid(gapavg_out + gmpmax_out)\n",
    "\n",
    "\n",
    "    #=======================================================\n",
    "    #                    Spatial Attention\n",
    "    #=======================================================\n",
    "    avg_out = tf.reduce_mean(canx, axis=3)\n",
    "    max_out = tf.reduce_max(canx,  axis=3)\n",
    "    x = tf.stack([avg_out, max_out], axis=3)\n",
    "    \n",
    "    x = Conv2D(filters=64, kernel_size=3, strides=1, \n",
    "               padding='same', use_bias=False, \n",
    "               kernel_regularizer=l2(0.001), \n",
    "               kernel_initializer='he_normal')(x)\n",
    "    x = BatchNormalization()(x)\n",
    "    x = Activation('relu')(x)\n",
    "\n",
    "    x = Conv2D(filters=32, kernel_size=3, strides=1, \n",
    "               padding='same', use_bias=False, \n",
    "               kernel_regularizer=l2(0.001), \n",
    "               kernel_initializer='he_normal')(x)\n",
    "    x = BatchNormalization()(x)\n",
    "    x = Activation('relu')(x)\n",
    "\n",
    "    x = Conv2D(filters=16, kernel_size=3, strides=1, \n",
    "               padding='same', use_bias=False, \n",
    "               kernel_regularizer=l2(0.001), \n",
    "               kernel_initializer='he_normal')(x)\n",
    "    x = BatchNormalization()(x)\n",
    "    x = Activation('relu')(x)\n",
    "\n",
    "    x = Conv2D(filters=1, kernel_size=3, strides=1, \n",
    "               padding='same', use_bias=False, \n",
    "               kernel_regularizer=l2(0.001), \n",
    "               kernel_initializer='he_normal')(x)\n",
    "    x = BatchNormalization()(x)\n",
    "    x = Activation('sigmoid')(x)\n",
    "    spnx1 = canx * x\n",
    "    spnx2 = x\n",
    "    \n",
    "    gapx   = GlobalAveragePooling2D()(spnx1)\n",
    "    wvgx   = GlobalAveragePooling2D()(spnx2)\n",
    "    gapavg = Average()([gapx, wvgx])\n",
    "    x = BatchNormalization()(gapavg)\n",
    "\n",
    "\n",
    "    #=======================================================\n",
    "    #                    Tail of the model\n",
    "    #=======================================================\n",
    "\n",
    "    x = Dense(units=2048, kernel_regularizer=l2(0.0001), \n",
    "              kernel_initializer='he_uniform')(x)\n",
    "    x = BatchNormalization()(x)\n",
    "    x = Activation('relu')(x)\n",
    "    x = Dropout(rate=0.5)(x)\n",
    "    \n",
    "    x = Dense(units=1024, kernel_regularizer=l2(0.0001), \n",
    "              kernel_initializer='he_uniform')(x)\n",
    "    x = BatchNormalization()(x)\n",
    "    x = Activation('relu')(x)\n",
    "    x = Dropout(rate=0.5)(x)\n",
    "    \n",
    "    x = Dense(units=1024, kernel_regularizer=l2(0.0001), \n",
    "              kernel_initializer='he_uniform')(x)\n",
    "    x = BatchNormalization()(x)\n",
    "    x = Activation('relu')(x)\n",
    "    x = Dropout(rate=0.5)(x)\n",
    "    \n",
    "    x = Dense(units=512, kernel_regularizer=l2(0.0001), \n",
    "              kernel_initializer='he_uniform')(x)\n",
    "    x = BatchNormalization()(x)\n",
    "    x = Activation('relu')(x)\n",
    "    x = Dropout(rate=0.5)(x)\n",
    "    \n",
    "    x = Dense(units=6, activation='softmax', \n",
    "              kernel_initializer='he_uniform')(x)\n",
    "\n",
    "    return x"
   ]
  },
  {
   "cell_type": "code",
   "execution_count": 15,
   "metadata": {
    "execution": {
     "iopub.execute_input": "2021-01-23T12:04:40.761150Z",
     "iopub.status.busy": "2021-01-23T12:04:40.760241Z",
     "iopub.status.idle": "2021-01-23T12:04:49.948854Z",
     "shell.execute_reply": "2021-01-23T12:04:49.948176Z"
    },
    "papermill": {
     "duration": 9.231686,
     "end_time": "2021-01-23T12:04:49.948985",
     "exception": false,
     "start_time": "2021-01-23T12:04:40.717299",
     "status": "completed"
    },
    "tags": []
   },
   "outputs": [
    {
     "name": "stdout",
     "output_type": "stream",
     "text": [
      "Downloading data from https://storage.googleapis.com/keras-applications/efficientnetb4_notop.h5\n",
      "71688192/71686520 [==============================] - 1s 0us/step\n"
     ]
    }
   ],
   "source": [
    "# Build the model\n",
    "base_model = EfficientNetB4(weights='imagenet', \n",
    "                            input_tensor=Input(shape=image_dim), \n",
    "                            include_top=False)\n",
    "\n",
    "model = Model(base_model.input, head(base_model.output),\n",
    "              name='HackerEarth_Holiday_Season_Model')\n",
    "\n",
    "# Freeze weights for base model\n",
    "base_model.trainable = False\n",
    "for layer in base_model.layers[-18:]:\n",
    "    if not isinstance(layer, BatchNormalization):\n",
    "        layer.trainable = True\n",
    "\n",
    "# Compile the final model\n",
    "model.compile(loss='categorical_crossentropy', \n",
    "              metrics=[F1Score(num_classes=6, average='weighted'), \n",
    "                       'categorical_accuracy'],\n",
    "              optimizer=Lookahead(AdamW(lr=1e-2, \n",
    "                                        weight_decay=1e-5, \n",
    "                                        clipvalue=700), \n",
    "                                  sync_period=10))\n",
    "\n",
    "early = EarlyStopping(monitor=\"val_loss\", mode=\"min\", patience=10, \n",
    "                      restore_best_weights=True, verbose=1)\n",
    "\n",
    "reduce_lr = ReduceLROnPlateau(monitor=\"val_loss\", factor=0.1, \n",
    "                              min_lr=1e-6, patience=7, \n",
    "                              verbose=1, mode='min')\n",
    "\n",
    "chk_point = ModelCheckpoint('hackerearth_holiday_season_model.h5', \n",
    "                            monitor='val_loss', verbose=1, \n",
    "                            save_best_only=True, mode='min')"
   ]
  },
  {
   "cell_type": "code",
   "execution_count": 16,
   "metadata": {
    "execution": {
     "iopub.execute_input": "2021-01-23T12:04:50.045501Z",
     "iopub.status.busy": "2021-01-23T12:04:50.044773Z",
     "iopub.status.idle": "2021-01-23T12:41:00.245355Z",
     "shell.execute_reply": "2021-01-23T12:41:00.245900Z"
    },
    "papermill": {
     "duration": 2170.254607,
     "end_time": "2021-01-23T12:41:00.246076",
     "exception": false,
     "start_time": "2021-01-23T12:04:49.991469",
     "status": "completed"
    },
    "tags": []
   },
   "outputs": [
    {
     "name": "stdout",
     "output_type": "stream",
     "text": [
      "Epoch 1/275\n",
      "43/43 [==============================] - ETA: 0s - loss: 4.0824 - f1_score: 0.4641 - categorical_accuracy: 0.4543\n",
      "Epoch 00001: val_loss improved from inf to 4.23492, saving model to hackerearth_holiday_season_model.h5\n",
      "43/43 [==============================] - 51s 1s/step - loss: 4.0824 - f1_score: 0.4641 - categorical_accuracy: 0.4543 - val_loss: 4.2349 - val_f1_score: 0.3194 - val_categorical_accuracy: 0.4099\n",
      "Epoch 2/275\n",
      "43/43 [==============================] - ETA: 0s - loss: 1.3367 - f1_score: 0.7252 - categorical_accuracy: 0.7232\n",
      "Epoch 00002: val_loss improved from 4.23492 to 1.72764, saving model to hackerearth_holiday_season_model.h5\n",
      "43/43 [==============================] - 48s 1s/step - loss: 1.3367 - f1_score: 0.7252 - categorical_accuracy: 0.7232 - val_loss: 1.7276 - val_f1_score: 0.7301 - val_categorical_accuracy: 0.7343\n",
      "Epoch 3/275\n",
      "43/43 [==============================] - ETA: 0s - loss: 0.8998 - f1_score: 0.7685 - categorical_accuracy: 0.7641\n",
      "Epoch 00003: val_loss improved from 1.72764 to 1.06003, saving model to hackerearth_holiday_season_model.h5\n",
      "43/43 [==============================] - 47s 1s/step - loss: 0.8998 - f1_score: 0.7685 - categorical_accuracy: 0.7641 - val_loss: 1.0600 - val_f1_score: 0.8462 - val_categorical_accuracy: 0.8455\n",
      "Epoch 4/275\n",
      "43/43 [==============================] - ETA: 0s - loss: 0.6934 - f1_score: 0.7866 - categorical_accuracy: 0.7836\n",
      "Epoch 00004: val_loss improved from 1.06003 to 0.92547, saving model to hackerearth_holiday_season_model.h5\n",
      "43/43 [==============================] - 46s 1s/step - loss: 0.6934 - f1_score: 0.7866 - categorical_accuracy: 0.7836 - val_loss: 0.9255 - val_f1_score: 0.8376 - val_categorical_accuracy: 0.8352\n",
      "Epoch 5/275\n",
      "43/43 [==============================] - ETA: 0s - loss: 0.5611 - f1_score: 0.7843 - categorical_accuracy: 0.7810\n",
      "Epoch 00005: val_loss did not improve from 0.92547\n",
      "43/43 [==============================] - 40s 938ms/step - loss: 0.5611 - f1_score: 0.7843 - categorical_accuracy: 0.7810 - val_loss: 0.9352 - val_f1_score: 0.7923 - val_categorical_accuracy: 0.7848\n",
      "Epoch 6/275\n",
      "43/43 [==============================] - ETA: 0s - loss: 0.5116 - f1_score: 0.8051 - categorical_accuracy: 0.8023\n",
      "Epoch 00006: val_loss did not improve from 0.92547\n",
      "43/43 [==============================] - 39s 904ms/step - loss: 0.5116 - f1_score: 0.8051 - categorical_accuracy: 0.8023 - val_loss: 0.9285 - val_f1_score: 0.8243 - val_categorical_accuracy: 0.8167\n",
      "Epoch 7/275\n",
      "43/43 [==============================] - ETA: 0s - loss: 0.4508 - f1_score: 0.8006 - categorical_accuracy: 0.7963\n",
      "Epoch 00007: val_loss improved from 0.92547 to 0.80814, saving model to hackerearth_holiday_season_model.h5\n",
      "43/43 [==============================] - 47s 1s/step - loss: 0.4508 - f1_score: 0.8006 - categorical_accuracy: 0.7963 - val_loss: 0.8081 - val_f1_score: 0.8112 - val_categorical_accuracy: 0.7981\n",
      "Epoch 8/275\n",
      "43/43 [==============================] - ETA: 0s - loss: 0.3965 - f1_score: 0.8222 - categorical_accuracy: 0.8199\n",
      "Epoch 00008: val_loss improved from 0.80814 to 0.67456, saving model to hackerearth_holiday_season_model.h5\n",
      "43/43 [==============================] - 47s 1s/step - loss: 0.3965 - f1_score: 0.8222 - categorical_accuracy: 0.8199 - val_loss: 0.6746 - val_f1_score: 0.8686 - val_categorical_accuracy: 0.8671\n",
      "Epoch 9/275\n",
      "43/43 [==============================] - ETA: 0s - loss: 0.3593 - f1_score: 0.8328 - categorical_accuracy: 0.8308\n",
      "Epoch 00009: val_loss did not improve from 0.67456\n",
      "43/43 [==============================] - 38s 880ms/step - loss: 0.3593 - f1_score: 0.8328 - categorical_accuracy: 0.8308 - val_loss: 0.7455 - val_f1_score: 0.8533 - val_categorical_accuracy: 0.8507\n",
      "Epoch 10/275\n",
      "43/43 [==============================] - ETA: 0s - loss: 0.3686 - f1_score: 0.8334 - categorical_accuracy: 0.8318\n",
      "Epoch 00010: val_loss improved from 0.67456 to 0.58992, saving model to hackerearth_holiday_season_model.h5\n",
      "43/43 [==============================] - 46s 1s/step - loss: 0.3686 - f1_score: 0.8334 - categorical_accuracy: 0.8318 - val_loss: 0.5899 - val_f1_score: 0.8662 - val_categorical_accuracy: 0.8641\n",
      "Epoch 11/275\n",
      "43/43 [==============================] - ETA: 0s - loss: 0.3405 - f1_score: 0.8283 - categorical_accuracy: 0.8252\n",
      "Epoch 00011: val_loss did not improve from 0.58992\n",
      "43/43 [==============================] - 39s 917ms/step - loss: 0.3405 - f1_score: 0.8283 - categorical_accuracy: 0.8252 - val_loss: 0.6245 - val_f1_score: 0.8612 - val_categorical_accuracy: 0.8589\n",
      "Epoch 12/275\n",
      "43/43 [==============================] - ETA: 0s - loss: 0.3578 - f1_score: 0.8397 - categorical_accuracy: 0.8379\n",
      "Epoch 00012: val_loss did not improve from 0.58992\n",
      "43/43 [==============================] - 40s 923ms/step - loss: 0.3578 - f1_score: 0.8397 - categorical_accuracy: 0.8379 - val_loss: 0.7362 - val_f1_score: 0.8396 - val_categorical_accuracy: 0.8383\n",
      "Epoch 13/275\n",
      "43/43 [==============================] - ETA: 0s - loss: 0.3746 - f1_score: 0.8214 - categorical_accuracy: 0.8199\n",
      "Epoch 00013: val_loss did not improve from 0.58992\n",
      "43/43 [==============================] - 39s 898ms/step - loss: 0.3746 - f1_score: 0.8214 - categorical_accuracy: 0.8199 - val_loss: 0.7466 - val_f1_score: 0.8603 - val_categorical_accuracy: 0.8579\n",
      "Epoch 14/275\n",
      "43/43 [==============================] - ETA: 0s - loss: 0.3380 - f1_score: 0.8361 - categorical_accuracy: 0.8356\n",
      "Epoch 00014: val_loss did not improve from 0.58992\n",
      "43/43 [==============================] - 39s 901ms/step - loss: 0.3380 - f1_score: 0.8361 - categorical_accuracy: 0.8356 - val_loss: 0.6022 - val_f1_score: 0.8685 - val_categorical_accuracy: 0.8671\n",
      "Epoch 15/275\n",
      "43/43 [==============================] - ETA: 0s - loss: 0.3514 - f1_score: 0.8316 - categorical_accuracy: 0.8303\n",
      "Epoch 00015: val_loss did not improve from 0.58992\n",
      "43/43 [==============================] - 40s 935ms/step - loss: 0.3514 - f1_score: 0.8316 - categorical_accuracy: 0.8303 - val_loss: 0.6871 - val_f1_score: 0.8458 - val_categorical_accuracy: 0.8455\n",
      "Epoch 16/275\n",
      "43/43 [==============================] - ETA: 0s - loss: 0.3380 - f1_score: 0.8384 - categorical_accuracy: 0.8363\n",
      "Epoch 00016: val_loss did not improve from 0.58992\n",
      "43/43 [==============================] - 39s 913ms/step - loss: 0.3380 - f1_score: 0.8384 - categorical_accuracy: 0.8363 - val_loss: 0.7395 - val_f1_score: 0.8411 - val_categorical_accuracy: 0.8383\n",
      "Epoch 17/275\n",
      "43/43 [==============================] - ETA: 0s - loss: 0.3349 - f1_score: 0.8361 - categorical_accuracy: 0.8347\n",
      "Epoch 00017: ReduceLROnPlateau reducing learning rate to 0.0009999999776482583.\n",
      "\n",
      "Epoch 00017: val_loss did not improve from 0.58992\n",
      "43/43 [==============================] - 40s 925ms/step - loss: 0.3349 - f1_score: 0.8361 - categorical_accuracy: 0.8347 - val_loss: 0.6571 - val_f1_score: 0.8528 - val_categorical_accuracy: 0.8507\n",
      "Epoch 18/275\n",
      "43/43 [==============================] - ETA: 0s - loss: 0.2750 - f1_score: 0.8678 - categorical_accuracy: 0.8667\n",
      "Epoch 00018: val_loss improved from 0.58992 to 0.52939, saving model to hackerearth_holiday_season_model.h5\n",
      "43/43 [==============================] - 45s 1s/step - loss: 0.2750 - f1_score: 0.8678 - categorical_accuracy: 0.8667 - val_loss: 0.5294 - val_f1_score: 0.8886 - val_categorical_accuracy: 0.8877\n",
      "Epoch 19/275\n",
      "43/43 [==============================] - ETA: 0s - loss: 0.2290 - f1_score: 0.8787 - categorical_accuracy: 0.8783\n",
      "Epoch 00019: val_loss improved from 0.52939 to 0.48018, saving model to hackerearth_holiday_season_model.h5\n",
      "43/43 [==============================] - 47s 1s/step - loss: 0.2290 - f1_score: 0.8787 - categorical_accuracy: 0.8783 - val_loss: 0.4802 - val_f1_score: 0.8919 - val_categorical_accuracy: 0.8919\n",
      "Epoch 20/275\n",
      "43/43 [==============================] - ETA: 0s - loss: 0.2192 - f1_score: 0.8830 - categorical_accuracy: 0.8821\n",
      "Epoch 00020: val_loss improved from 0.48018 to 0.45671, saving model to hackerearth_holiday_season_model.h5\n",
      "43/43 [==============================] - 47s 1s/step - loss: 0.2192 - f1_score: 0.8830 - categorical_accuracy: 0.8821 - val_loss: 0.4567 - val_f1_score: 0.8911 - val_categorical_accuracy: 0.8908\n",
      "Epoch 21/275\n",
      "43/43 [==============================] - ETA: 0s - loss: 0.1983 - f1_score: 0.8917 - categorical_accuracy: 0.8911\n",
      "Epoch 00021: val_loss improved from 0.45671 to 0.44604, saving model to hackerearth_holiday_season_model.h5\n",
      "43/43 [==============================] - 48s 1s/step - loss: 0.1983 - f1_score: 0.8917 - categorical_accuracy: 0.8911 - val_loss: 0.4460 - val_f1_score: 0.8928 - val_categorical_accuracy: 0.8929\n",
      "Epoch 22/275\n",
      "43/43 [==============================] - ETA: 0s - loss: 0.1850 - f1_score: 0.8821 - categorical_accuracy: 0.8814\n",
      "Epoch 00022: val_loss improved from 0.44604 to 0.43213, saving model to hackerearth_holiday_season_model.h5\n",
      "43/43 [==============================] - 46s 1s/step - loss: 0.1850 - f1_score: 0.8821 - categorical_accuracy: 0.8814 - val_loss: 0.4321 - val_f1_score: 0.8911 - val_categorical_accuracy: 0.8908\n",
      "Epoch 23/275\n",
      "43/43 [==============================] - ETA: 0s - loss: 0.1726 - f1_score: 0.8834 - categorical_accuracy: 0.8830\n",
      "Epoch 00023: val_loss improved from 0.43213 to 0.42740, saving model to hackerearth_holiday_season_model.h5\n",
      "43/43 [==============================] - 47s 1s/step - loss: 0.1726 - f1_score: 0.8834 - categorical_accuracy: 0.8830 - val_loss: 0.4274 - val_f1_score: 0.8901 - val_categorical_accuracy: 0.8898\n",
      "Epoch 24/275\n",
      "43/43 [==============================] - ETA: 0s - loss: 0.1622 - f1_score: 0.8965 - categorical_accuracy: 0.8958\n",
      "Epoch 00024: val_loss improved from 0.42740 to 0.41002, saving model to hackerearth_holiday_season_model.h5\n",
      "43/43 [==============================] - 48s 1s/step - loss: 0.1622 - f1_score: 0.8965 - categorical_accuracy: 0.8958 - val_loss: 0.4100 - val_f1_score: 0.8922 - val_categorical_accuracy: 0.8919\n",
      "Epoch 25/275\n",
      "43/43 [==============================] - ETA: 0s - loss: 0.1506 - f1_score: 0.8938 - categorical_accuracy: 0.8934\n",
      "Epoch 00025: val_loss improved from 0.41002 to 0.39187, saving model to hackerearth_holiday_season_model.h5\n",
      "43/43 [==============================] - 47s 1s/step - loss: 0.1506 - f1_score: 0.8938 - categorical_accuracy: 0.8934 - val_loss: 0.3919 - val_f1_score: 0.8878 - val_categorical_accuracy: 0.8877\n",
      "Epoch 26/275\n",
      "43/43 [==============================] - ETA: 0s - loss: 0.1493 - f1_score: 0.8911 - categorical_accuracy: 0.8907\n",
      "Epoch 00026: val_loss did not improve from 0.39187\n",
      "43/43 [==============================] - 39s 916ms/step - loss: 0.1493 - f1_score: 0.8911 - categorical_accuracy: 0.8907 - val_loss: 0.4046 - val_f1_score: 0.8880 - val_categorical_accuracy: 0.8877\n",
      "Epoch 27/275\n",
      "43/43 [==============================] - ETA: 0s - loss: 0.1389 - f1_score: 0.9003 - categorical_accuracy: 0.9000\n",
      "Epoch 00027: val_loss improved from 0.39187 to 0.37943, saving model to hackerearth_holiday_season_model.h5\n",
      "43/43 [==============================] - 47s 1s/step - loss: 0.1389 - f1_score: 0.9003 - categorical_accuracy: 0.9000 - val_loss: 0.3794 - val_f1_score: 0.8880 - val_categorical_accuracy: 0.8877\n",
      "Epoch 28/275\n",
      "43/43 [==============================] - ETA: 0s - loss: 0.1334 - f1_score: 0.8987 - categorical_accuracy: 0.8985\n",
      "Epoch 00028: val_loss improved from 0.37943 to 0.37774, saving model to hackerearth_holiday_season_model.h5\n",
      "43/43 [==============================] - 48s 1s/step - loss: 0.1334 - f1_score: 0.8987 - categorical_accuracy: 0.8985 - val_loss: 0.3777 - val_f1_score: 0.8920 - val_categorical_accuracy: 0.8919\n",
      "Epoch 29/275\n",
      "43/43 [==============================] - ETA: 0s - loss: 0.1379 - f1_score: 0.8922 - categorical_accuracy: 0.8914\n",
      "Epoch 00029: val_loss did not improve from 0.37774\n",
      "43/43 [==============================] - 41s 950ms/step - loss: 0.1379 - f1_score: 0.8922 - categorical_accuracy: 0.8914 - val_loss: 0.3795 - val_f1_score: 0.8891 - val_categorical_accuracy: 0.8888\n",
      "Epoch 30/275\n",
      "43/43 [==============================] - ETA: 0s - loss: 0.1293 - f1_score: 0.8949 - categorical_accuracy: 0.8945\n",
      "Epoch 00030: val_loss improved from 0.37774 to 0.36383, saving model to hackerearth_holiday_season_model.h5\n",
      "43/43 [==============================] - 48s 1s/step - loss: 0.1293 - f1_score: 0.8949 - categorical_accuracy: 0.8945 - val_loss: 0.3638 - val_f1_score: 0.8891 - val_categorical_accuracy: 0.8888\n",
      "Epoch 31/275\n",
      "43/43 [==============================] - ETA: 0s - loss: 0.1253 - f1_score: 0.9021 - categorical_accuracy: 0.9014\n",
      "Epoch 00031: val_loss improved from 0.36383 to 0.36248, saving model to hackerearth_holiday_season_model.h5\n",
      "43/43 [==============================] - 49s 1s/step - loss: 0.1253 - f1_score: 0.9021 - categorical_accuracy: 0.9014 - val_loss: 0.3625 - val_f1_score: 0.8875 - val_categorical_accuracy: 0.8867\n",
      "Epoch 32/275\n",
      "43/43 [==============================] - ETA: 0s - loss: 0.1264 - f1_score: 0.8962 - categorical_accuracy: 0.8958\n",
      "Epoch 00032: val_loss did not improve from 0.36248\n",
      "43/43 [==============================] - 40s 922ms/step - loss: 0.1264 - f1_score: 0.8962 - categorical_accuracy: 0.8958 - val_loss: 0.3858 - val_f1_score: 0.8769 - val_categorical_accuracy: 0.8754\n",
      "Epoch 33/275\n",
      "43/43 [==============================] - ETA: 0s - loss: 0.1199 - f1_score: 0.8958 - categorical_accuracy: 0.8951\n",
      "Epoch 00033: val_loss improved from 0.36248 to 0.35151, saving model to hackerearth_holiday_season_model.h5\n",
      "43/43 [==============================] - 46s 1s/step - loss: 0.1199 - f1_score: 0.8958 - categorical_accuracy: 0.8951 - val_loss: 0.3515 - val_f1_score: 0.8889 - val_categorical_accuracy: 0.8888\n",
      "Epoch 34/275\n",
      "43/43 [==============================] - ETA: 0s - loss: 0.1144 - f1_score: 0.8985 - categorical_accuracy: 0.8980\n",
      "Epoch 00034: val_loss did not improve from 0.35151\n",
      "43/43 [==============================] - 41s 950ms/step - loss: 0.1144 - f1_score: 0.8985 - categorical_accuracy: 0.8980 - val_loss: 0.3673 - val_f1_score: 0.8895 - val_categorical_accuracy: 0.8888\n",
      "Epoch 35/275\n",
      "43/43 [==============================] - ETA: 0s - loss: 0.1171 - f1_score: 0.9042 - categorical_accuracy: 0.9036\n",
      "Epoch 00035: val_loss did not improve from 0.35151\n",
      "43/43 [==============================] - 41s 957ms/step - loss: 0.1171 - f1_score: 0.9042 - categorical_accuracy: 0.9036 - val_loss: 0.3587 - val_f1_score: 0.8943 - val_categorical_accuracy: 0.8939\n",
      "Epoch 36/275\n",
      "43/43 [==============================] - ETA: 0s - loss: 0.1167 - f1_score: 0.9054 - categorical_accuracy: 0.9049\n",
      "Epoch 00036: val_loss did not improve from 0.35151\n",
      "43/43 [==============================] - 42s 973ms/step - loss: 0.1167 - f1_score: 0.9054 - categorical_accuracy: 0.9049 - val_loss: 0.3736 - val_f1_score: 0.8909 - val_categorical_accuracy: 0.8908\n",
      "Epoch 37/275\n",
      "43/43 [==============================] - ETA: 0s - loss: 0.1088 - f1_score: 0.9120 - categorical_accuracy: 0.9116\n",
      "Epoch 00037: val_loss did not improve from 0.35151\n",
      "43/43 [==============================] - 42s 979ms/step - loss: 0.1088 - f1_score: 0.9120 - categorical_accuracy: 0.9116 - val_loss: 0.3563 - val_f1_score: 0.8944 - val_categorical_accuracy: 0.8939\n",
      "Epoch 38/275\n",
      "43/43 [==============================] - ETA: 0s - loss: 0.1130 - f1_score: 0.9066 - categorical_accuracy: 0.9060\n",
      "Epoch 00038: val_loss did not improve from 0.35151\n",
      "43/43 [==============================] - 40s 921ms/step - loss: 0.1130 - f1_score: 0.9066 - categorical_accuracy: 0.9060 - val_loss: 0.3699 - val_f1_score: 0.8807 - val_categorical_accuracy: 0.8795\n",
      "Epoch 39/275\n",
      "43/43 [==============================] - ETA: 0s - loss: 0.1082 - f1_score: 0.9107 - categorical_accuracy: 0.9103\n",
      "Epoch 00039: val_loss did not improve from 0.35151\n",
      "43/43 [==============================] - 40s 937ms/step - loss: 0.1082 - f1_score: 0.9107 - categorical_accuracy: 0.9103 - val_loss: 0.3889 - val_f1_score: 0.8920 - val_categorical_accuracy: 0.8908\n",
      "Epoch 40/275\n",
      "43/43 [==============================] - ETA: 0s - loss: 0.1105 - f1_score: 0.9085 - categorical_accuracy: 0.9078\n",
      "Epoch 00040: ReduceLROnPlateau reducing learning rate to 9.999999310821295e-05.\n",
      "\n",
      "Epoch 00040: val_loss did not improve from 0.35151\n",
      "43/43 [==============================] - 41s 943ms/step - loss: 0.1105 - f1_score: 0.9085 - categorical_accuracy: 0.9078 - val_loss: 0.3657 - val_f1_score: 0.8853 - val_categorical_accuracy: 0.8847\n",
      "Epoch 41/275\n",
      "43/43 [==============================] - ETA: 0s - loss: 0.1045 - f1_score: 0.9161 - categorical_accuracy: 0.9160\n",
      "Epoch 00041: val_loss did not improve from 0.35151\n",
      "43/43 [==============================] - 41s 957ms/step - loss: 0.1045 - f1_score: 0.9161 - categorical_accuracy: 0.9160 - val_loss: 0.3606 - val_f1_score: 0.8854 - val_categorical_accuracy: 0.8847\n",
      "Epoch 42/275\n",
      "43/43 [==============================] - ETA: 0s - loss: 0.0984 - f1_score: 0.9174 - categorical_accuracy: 0.9171\n",
      "Epoch 00042: val_loss did not improve from 0.35151\n",
      "43/43 [==============================] - 41s 952ms/step - loss: 0.0984 - f1_score: 0.9174 - categorical_accuracy: 0.9171 - val_loss: 0.3566 - val_f1_score: 0.8851 - val_categorical_accuracy: 0.8847\n",
      "Epoch 43/275\n",
      "43/43 [==============================] - ETA: 0s - loss: 0.1005 - f1_score: 0.9155 - categorical_accuracy: 0.9149Restoring model weights from the end of the best epoch.\n",
      "\n",
      "Epoch 00043: val_loss did not improve from 0.35151\n",
      "43/43 [==============================] - 42s 978ms/step - loss: 0.1005 - f1_score: 0.9155 - categorical_accuracy: 0.9149 - val_loss: 0.3565 - val_f1_score: 0.8852 - val_categorical_accuracy: 0.8847\n",
      "Epoch 00043: early stopping\n"
     ]
    }
   ],
   "source": [
    "history = model.fit(\n",
    "    train_generator, \n",
    "    steps_per_epoch=steps_per_epoch,\n",
    "    class_weight=class_weight, \n",
    "    epochs=275, \n",
    "    verbose=1, \n",
    "    workers=5,\n",
    "    callbacks=[reduce_lr, early, chk_point], \n",
    "    validation_data=validation_generator,\n",
    "    validation_steps=validation_steps\n",
    ")"
   ]
  },
  {
   "cell_type": "code",
   "execution_count": 17,
   "metadata": {
    "execution": {
     "iopub.execute_input": "2021-01-23T12:41:06.419757Z",
     "iopub.status.busy": "2021-01-23T12:41:06.418587Z",
     "iopub.status.idle": "2021-01-23T12:41:08.718830Z",
     "shell.execute_reply": "2021-01-23T12:41:08.718004Z"
    },
    "papermill": {
     "duration": 5.206933,
     "end_time": "2021-01-23T12:41:08.718993",
     "exception": false,
     "start_time": "2021-01-23T12:41:03.512060",
     "status": "completed"
    },
    "tags": []
   },
   "outputs": [
    {
     "data": {
      "image/png": "[encoded data removed]",
      "text/plain": [
       "<Figure size 2160x720 with 3 Axes>"
      ]
     },
     "metadata": {},
     "output_type": "display_data"
    }
   ],
   "source": [
    "_, ax = plt.subplots(1, 3, figsize=(30, 10))\n",
    "\n",
    "ax[0].plot(history.history['loss'], label='train_loss')\n",
    "ax[0].plot(history.history['val_loss'], label='val_loss')\n",
    "ax[0].set_ylabel('Loss')\n",
    "ax[0].set_xlabel('Epoch')\n",
    "ax[0].set_title(\"Model Loss Curve\")\n",
    "ax[0].legend()\n",
    "ax[0].grid()\n",
    "\n",
    "ax[1].plot(history.history['f1_score'], label='train_f1_score')\n",
    "ax[1].plot(history.history['val_f1_score'], label='val_f1_score')\n",
    "ax[1].set_ylabel('F1-Score')\n",
    "ax[1].set_xlabel('Epoch')\n",
    "ax[1].set_title(\"Model F1-Score Curve\")\n",
    "ax[1].legend()\n",
    "ax[1].grid()\n",
    "\n",
    "ax[2].plot(history.history['categorical_accuracy'], label='train_accuracy')\n",
    "ax[2].plot(history.history['val_categorical_accuracy'], label='val_accuracy')\n",
    "ax[2].set_ylabel('Accuracy')\n",
    "ax[2].set_xlabel('Epoch')\n",
    "ax[2].set_title(\"Model Accuracy Curve\")\n",
    "ax[2].legend()\n",
    "ax[2].grid()"
   ]
  },
  {
   "cell_type": "markdown",
   "metadata": {
    "papermill": {
     "duration": 0.739376,
     "end_time": "2021-01-23T12:41:10.509015",
     "exception": false,
     "start_time": "2021-01-23T12:41:09.769639",
     "status": "completed"
    },
    "tags": []
   },
   "source": [
    "## Check classification report"
   ]
  },
  {
   "cell_type": "code",
   "execution_count": 18,
   "metadata": {
    "execution": {
     "iopub.execute_input": "2021-01-23T12:41:12.017143Z",
     "iopub.status.busy": "2021-01-23T12:41:12.006596Z",
     "iopub.status.idle": "2021-01-23T12:41:17.388037Z",
     "shell.execute_reply": "2021-01-23T12:41:17.387469Z"
    },
    "papermill": {
     "duration": 6.125035,
     "end_time": "2021-01-23T12:41:17.388186",
     "exception": false,
     "start_time": "2021-01-23T12:41:11.263151",
     "status": "completed"
    },
    "tags": []
   },
   "outputs": [],
   "source": [
    "model = load_model('./hackerearth_holiday_season_model.h5')"
   ]
  },
  {
   "cell_type": "code",
   "execution_count": 19,
   "metadata": {
    "execution": {
     "iopub.execute_input": "2021-01-23T12:41:18.947313Z",
     "iopub.status.busy": "2021-01-23T12:41:18.946548Z",
     "iopub.status.idle": "2021-01-23T12:41:24.758613Z",
     "shell.execute_reply": "2021-01-23T12:41:24.759110Z"
    },
    "papermill": {
     "duration": 6.597606,
     "end_time": "2021-01-23T12:41:24.759263",
     "exception": false,
     "start_time": "2021-01-23T12:41:18.161657",
     "status": "completed"
    },
    "tags": []
   },
   "outputs": [
    {
     "name": "stdout",
     "output_type": "stream",
     "text": [
      "8/8 [==============================] - 2s 286ms/step\n",
      "\n",
      "y_true: (971,)\n",
      "y_pred: (971,)\n"
     ]
    }
   ],
   "source": [
    "y_true = np.array([validation_generator.classes]).ravel()\n",
    "y_pred = model.predict(validation_generator, verbose=1)\n",
    "y_pred = np.argmax(y_pred, axis=1)\n",
    "\n",
    "print(\"\\ny_true: {}\".format(y_true.shape))\n",
    "print(\"y_pred: {}\".format(y_pred.shape))"
   ]
  },
  {
   "cell_type": "code",
   "execution_count": 20,
   "metadata": {
    "execution": {
     "iopub.execute_input": "2021-01-23T12:41:26.419259Z",
     "iopub.status.busy": "2021-01-23T12:41:26.415360Z",
     "iopub.status.idle": "2021-01-23T12:41:26.432379Z",
     "shell.execute_reply": "2021-01-23T12:41:26.433112Z"
    },
    "papermill": {
     "duration": 0.934046,
     "end_time": "2021-01-23T12:41:26.433320",
     "exception": false,
     "start_time": "2021-01-23T12:41:25.499274",
     "status": "completed"
    },
    "tags": []
   },
   "outputs": [
    {
     "name": "stdout",
     "output_type": "stream",
     "text": [
      "              precision    recall  f1-score   support\n",
      "\n",
      "           0       0.89      0.89      0.89        80\n",
      "           1       0.87      0.88      0.87        89\n",
      "           2       0.88      0.91      0.89       231\n",
      "           3       0.96      0.91      0.93        96\n",
      "           4       0.90      0.89      0.89       421\n",
      "           5       0.78      0.78      0.78        54\n",
      "\n",
      "    accuracy                           0.89       971\n",
      "   macro avg       0.88      0.87      0.88       971\n",
      "weighted avg       0.89      0.89      0.89       971\n",
      "\n"
     ]
    }
   ],
   "source": [
    "print(classification_report(y_true, y_pred))"
   ]
  },
  {
   "cell_type": "code",
   "execution_count": 21,
   "metadata": {
    "execution": {
     "iopub.execute_input": "2021-01-23T12:41:28.171688Z",
     "iopub.status.busy": "2021-01-23T12:41:28.169405Z",
     "iopub.status.idle": "2021-01-23T12:41:28.685632Z",
     "shell.execute_reply": "2021-01-23T12:41:28.684542Z"
    },
    "papermill": {
     "duration": 1.268012,
     "end_time": "2021-01-23T12:41:28.685764",
     "exception": false,
     "start_time": "2021-01-23T12:41:27.417752",
     "status": "completed"
    },
    "tags": []
   },
   "outputs": [
    {
     "data": {
      "image/png": "[encoded data removed]",
      "text/plain": [
       "<Figure size 864x504 with 2 Axes>"
      ]
     },
     "metadata": {},
     "output_type": "display_data"
    }
   ],
   "source": [
    "cnf_matrix = confusion_matrix(y_true, y_pred, labels=[0, 1, 2, 3, 4, 5])\n",
    "np.set_printoptions(precision=2)\n",
    "plt.figure(figsize=(12,7))\n",
    "plot_confusion_matrix(cnf_matrix, classes=[0, 1, 2, 3, 4, 5])"
   ]
  },
  {
   "cell_type": "markdown",
   "metadata": {
    "papermill": {
     "duration": 0.747044,
     "end_time": "2021-01-23T12:41:30.234393",
     "exception": false,
     "start_time": "2021-01-23T12:41:29.487349",
     "status": "completed"
    },
    "tags": []
   },
   "source": [
    "## Create submission file"
   ]
  },
  {
   "cell_type": "code",
   "execution_count": 22,
   "metadata": {
    "execution": {
     "iopub.execute_input": "2021-01-23T12:41:31.725550Z",
     "iopub.status.busy": "2021-01-23T12:41:31.724610Z",
     "iopub.status.idle": "2021-01-23T12:41:31.726581Z",
     "shell.execute_reply": "2021-01-23T12:41:31.727059Z"
    },
    "papermill": {
     "duration": 0.74828,
     "end_time": "2021-01-23T12:41:31.727184",
     "exception": false,
     "start_time": "2021-01-23T12:41:30.978904",
     "status": "completed"
    },
    "tags": []
   },
   "outputs": [],
   "source": [
    "rev_class_map = {\n",
    "    0: 'Airplane',\n",
    "    1: 'Candle',\n",
    "    2: 'Christmas_Tree',\n",
    "    3: 'Jacket',\n",
    "    4: 'Miscellaneous',\n",
    "    5: 'Snowman'\n",
    "}"
   ]
  },
  {
   "cell_type": "code",
   "execution_count": 23,
   "metadata": {
    "execution": {
     "iopub.execute_input": "2021-01-23T12:41:33.211229Z",
     "iopub.status.busy": "2021-01-23T12:41:33.210484Z",
     "iopub.status.idle": "2021-01-23T12:41:58.891615Z",
     "shell.execute_reply": "2021-01-23T12:41:58.890878Z"
    },
    "papermill": {
     "duration": 26.419142,
     "end_time": "2021-01-23T12:41:58.891767",
     "exception": false,
     "start_time": "2021-01-23T12:41:32.472625",
     "status": "completed"
    },
    "tags": []
   },
   "outputs": [
    {
     "name": "stdout",
     "output_type": "stream",
     "text": [
      "28/28 [==============================] - 24s 863ms/step\n",
      "(3489,)\n"
     ]
    }
   ],
   "source": [
    "y_pred_final = model.predict(test_generator, verbose=1)\n",
    "y_pred_final = np.argmax(y_pred_final, axis=1)\n",
    "print(y_pred_final.shape)"
   ]
  },
  {
   "cell_type": "code",
   "execution_count": 24,
   "metadata": {
    "execution": {
     "iopub.execute_input": "2021-01-23T12:42:00.518410Z",
     "iopub.status.busy": "2021-01-23T12:42:00.517189Z",
     "iopub.status.idle": "2021-01-23T12:42:00.522547Z",
     "shell.execute_reply": "2021-01-23T12:42:00.523059Z"
    },
    "papermill": {
     "duration": 0.799043,
     "end_time": "2021-01-23T12:42:00.523220",
     "exception": false,
     "start_time": "2021-01-23T12:41:59.724177",
     "status": "completed"
    },
    "tags": []
   },
   "outputs": [
    {
     "data": {
      "text/html": [
       "<div>\n",
       "<style scoped>\n",
       "    .dataframe tbody tr th:only-of-type {\n",
       "        vertical-align: middle;\n",
       "    }\n",
       "\n",
       "    .dataframe tbody tr th {\n",
       "        vertical-align: top;\n",
       "    }\n",
       "\n",
       "    .dataframe thead th {\n",
       "        text-align: right;\n",
       "    }\n",
       "</style>\n",
       "<table border=\"1\" class=\"dataframe\">\n",
       "  <thead>\n",
       "    <tr style=\"text-align: right;\">\n",
       "      <th></th>\n",
       "      <th>Image</th>\n",
       "      <th>Class</th>\n",
       "    </tr>\n",
       "  </thead>\n",
       "  <tbody>\n",
       "    <tr>\n",
       "      <th>0</th>\n",
       "      <td>image7761.jpg</td>\n",
       "      <td>Miscellaneous</td>\n",
       "    </tr>\n",
       "    <tr>\n",
       "      <th>1</th>\n",
       "      <td>image3202.jpg</td>\n",
       "      <td>Miscellaneous</td>\n",
       "    </tr>\n",
       "    <tr>\n",
       "      <th>2</th>\n",
       "      <td>image688.jpg</td>\n",
       "      <td>Snowman</td>\n",
       "    </tr>\n",
       "    <tr>\n",
       "      <th>3</th>\n",
       "      <td>image233.jpg</td>\n",
       "      <td>Candle</td>\n",
       "    </tr>\n",
       "    <tr>\n",
       "      <th>4</th>\n",
       "      <td>image4332.jpg</td>\n",
       "      <td>Christmas_Tree</td>\n",
       "    </tr>\n",
       "  </tbody>\n",
       "</table>\n",
       "</div>"
      ],
      "text/plain": [
       "           Image           Class\n",
       "0  image7761.jpg   Miscellaneous\n",
       "1  image3202.jpg   Miscellaneous\n",
       "2   image688.jpg         Snowman\n",
       "3   image233.jpg          Candle\n",
       "4  image4332.jpg  Christmas_Tree"
      ]
     },
     "execution_count": 24,
     "metadata": {},
     "output_type": "execute_result"
    }
   ],
   "source": [
    "test_df['Class'] = y_pred_final\n",
    "test_df['Class'] = test_df['Class'].map(rev_class_map)\n",
    "test_df.head()"
   ]
  },
  {
   "cell_type": "code",
   "execution_count": 25,
   "metadata": {
    "execution": {
     "iopub.execute_input": "2021-01-23T12:42:02.109036Z",
     "iopub.status.busy": "2021-01-23T12:42:02.108317Z",
     "iopub.status.idle": "2021-01-23T12:42:02.449853Z",
     "shell.execute_reply": "2021-01-23T12:42:02.449246Z"
    },
    "papermill": {
     "duration": 1.134517,
     "end_time": "2021-01-23T12:42:02.449992",
     "exception": false,
     "start_time": "2021-01-23T12:42:01.315475",
     "status": "completed"
    },
    "tags": []
   },
   "outputs": [],
   "source": [
    "test_df.to_csv(\"/kaggle/working/submission.csv\", index=False)"
   ]
  },
  {
   "cell_type": "code",
   "execution_count": null,
   "metadata": {
    "papermill": {
     "duration": 0.771014,
     "end_time": "2021-01-23T12:42:04.003073",
     "exception": false,
     "start_time": "2021-01-23T12:42:03.232059",
     "status": "completed"
    },
    "tags": []
   },
   "outputs": [],
   "source": []
  }
 ],
 "metadata": {
  "kernelspec": {
   "display_name": "Python 3",
   "language": "python",
   "name": "python3"
  },
  "language_info": {
   "codemirror_mode": {
    "name": "ipython",
    "version": 3
   },
   "file_extension": ".py",
   "mimetype": "text/x-python",
   "name": "python",
   "nbconvert_exporter": "python",
   "pygments_lexer": "ipython3",
   "version": "3.7.9"
  },
  "papermill": {
   "duration": 2283.998074,
   "end_time": "2021-01-23T12:42:05.885001",
   "environment_variables": {},
   "exception": null,
   "input_path": "__notebook__.ipynb",
   "output_path": "__notebook__.ipynb",
   "parameters": {},
   "start_time": "2021-01-23T12:04:01.886927",
   "version": "2.1.0"
  }
 },
 "nbformat": 4,
 "nbformat_minor": 4
}
