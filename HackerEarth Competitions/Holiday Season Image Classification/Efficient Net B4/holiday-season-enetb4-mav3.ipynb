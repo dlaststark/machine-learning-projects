{
 "cells": [
  {
   "cell_type": "markdown",
   "metadata": {
    "papermill": {
     "duration": 0.022567,
     "end_time": "2021-01-23T15:16:29.995961",
     "exception": false,
     "start_time": "2021-01-23T15:16:29.973394",
     "status": "completed"
    },
    "tags": []
   },
   "source": [
    "## Import Packages"
   ]
  },
  {
   "cell_type": "code",
   "execution_count": 1,
   "metadata": {
    "execution": {
     "iopub.execute_input": "2021-01-23T15:16:30.048622Z",
     "iopub.status.busy": "2021-01-23T15:16:30.048054Z",
     "iopub.status.idle": "2021-01-23T15:16:34.767683Z",
     "shell.execute_reply": "2021-01-23T15:16:34.766687Z"
    },
    "papermill": {
     "duration": 4.751099,
     "end_time": "2021-01-23T15:16:34.767813",
     "exception": false,
     "start_time": "2021-01-23T15:16:30.016714",
     "status": "completed"
    },
    "tags": []
   },
   "outputs": [],
   "source": [
    "import os\n",
    "import itertools\n",
    "import numpy as np\n",
    "import pandas as pd\n",
    "import seaborn as sns\n",
    "from tqdm import tqdm\n",
    "import matplotlib.pyplot as plt\n",
    "from sklearn.metrics import confusion_matrix\n",
    "from sklearn.metrics import classification_report\n",
    "from sklearn.model_selection import StratifiedShuffleSplit\n",
    "\n",
    "import tensorflow as tf\n",
    "from tensorflow.keras import backend as K\n",
    "from tensorflow.keras.regularizers import l2\n",
    "from tensorflow_addons.metrics import F1Score\n",
    "from tensorflow.keras.models import Model, load_model\n",
    "from tensorflow_addons.optimizers import AdamW, Lookahead\n",
    "from tensorflow.keras.callbacks import EarlyStopping\n",
    "from tensorflow.keras.callbacks import ReduceLROnPlateau\n",
    "from tensorflow.keras.callbacks import ModelCheckpoint\n",
    "from tensorflow.keras.applications import EfficientNetB4\n",
    "from tensorflow.keras.layers import Dense, Dropout, Flatten\n",
    "from tensorflow.keras.layers import BatchNormalization, Input\n",
    "from tensorflow.keras.layers import ZeroPadding2D, MaxPooling2D\n",
    "from tensorflow.keras.layers import GlobalAveragePooling2D, Add\n",
    "from tensorflow.keras.layers import GlobalMaxPooling2D, Reshape\n",
    "from tensorflow.keras.layers import Activation, Conv2D, Average\n",
    "from tensorflow.keras.preprocessing.image import ImageDataGenerator"
   ]
  },
  {
   "cell_type": "markdown",
   "metadata": {
    "papermill": {
     "duration": 0.021362,
     "end_time": "2021-01-23T15:16:34.810188",
     "exception": false,
     "start_time": "2021-01-23T15:16:34.788826",
     "status": "completed"
    },
    "tags": []
   },
   "source": [
    "## Helper Functions"
   ]
  },
  {
   "cell_type": "code",
   "execution_count": 2,
   "metadata": {
    "execution": {
     "iopub.execute_input": "2021-01-23T15:16:34.860610Z",
     "iopub.status.busy": "2021-01-23T15:16:34.859859Z",
     "iopub.status.idle": "2021-01-23T15:16:34.862671Z",
     "shell.execute_reply": "2021-01-23T15:16:34.862125Z"
    },
    "papermill": {
     "duration": 0.03204,
     "end_time": "2021-01-23T15:16:34.862756",
     "exception": false,
     "start_time": "2021-01-23T15:16:34.830716",
     "status": "completed"
    },
    "tags": []
   },
   "outputs": [],
   "source": [
    "def plot_confusion_matrix(cm, classes):\n",
    "\n",
    "    plt.imshow(cm, interpolation='nearest', cmap=plt.cm.Blues)\n",
    "    plt.title('Confusion matrix')\n",
    "    plt.colorbar()\n",
    "    tick_marks = np.arange(len(classes))\n",
    "    plt.xticks(tick_marks, classes, rotation=0)\n",
    "    plt.yticks(tick_marks, classes)\n",
    "\n",
    "    thresh = cm.max() / 2.\n",
    "    for i, j in itertools.product(range(cm.shape[0]), range(cm.shape[1])):\n",
    "        plt.text(j, i, format(cm[i, j], 'd'),\n",
    "                 horizontalalignment=\"center\",\n",
    "                 color=\"white\" if cm[i, j] > thresh else \"black\")\n",
    "\n",
    "    plt.ylabel('True label')\n",
    "    plt.xlabel('Predicted label')\n",
    "    plt.tight_layout()"
   ]
  },
  {
   "cell_type": "markdown",
   "metadata": {
    "papermill": {
     "duration": 0.020388,
     "end_time": "2021-01-23T15:16:34.903759",
     "exception": false,
     "start_time": "2021-01-23T15:16:34.883371",
     "status": "completed"
    },
    "tags": []
   },
   "source": [
    "## Read true labels + Basic EDA"
   ]
  },
  {
   "cell_type": "code",
   "execution_count": 3,
   "metadata": {
    "execution": {
     "iopub.execute_input": "2021-01-23T15:16:34.953214Z",
     "iopub.status.busy": "2021-01-23T15:16:34.952711Z",
     "iopub.status.idle": "2021-01-23T15:16:34.985705Z",
     "shell.execute_reply": "2021-01-23T15:16:34.986207Z"
    },
    "papermill": {
     "duration": 0.062178,
     "end_time": "2021-01-23T15:16:34.986311",
     "exception": false,
     "start_time": "2021-01-23T15:16:34.924133",
     "status": "completed"
    },
    "tags": []
   },
   "outputs": [
    {
     "data": {
      "text/html": [
       "<div>\n",
       "<style scoped>\n",
       "    .dataframe tbody tr th:only-of-type {\n",
       "        vertical-align: middle;\n",
       "    }\n",
       "\n",
       "    .dataframe tbody tr th {\n",
       "        vertical-align: top;\n",
       "    }\n",
       "\n",
       "    .dataframe thead th {\n",
       "        text-align: right;\n",
       "    }\n",
       "</style>\n",
       "<table border=\"1\" class=\"dataframe\">\n",
       "  <thead>\n",
       "    <tr style=\"text-align: right;\">\n",
       "      <th></th>\n",
       "      <th>Image</th>\n",
       "      <th>Class</th>\n",
       "    </tr>\n",
       "  </thead>\n",
       "  <tbody>\n",
       "    <tr>\n",
       "      <th>0</th>\n",
       "      <td>image3476.jpg</td>\n",
       "      <td>Miscellaneous</td>\n",
       "    </tr>\n",
       "    <tr>\n",
       "      <th>1</th>\n",
       "      <td>image5198.jpg</td>\n",
       "      <td>Candle</td>\n",
       "    </tr>\n",
       "    <tr>\n",
       "      <th>2</th>\n",
       "      <td>image4183.jpg</td>\n",
       "      <td>Snowman</td>\n",
       "    </tr>\n",
       "    <tr>\n",
       "      <th>3</th>\n",
       "      <td>image1806.jpg</td>\n",
       "      <td>Miscellaneous</td>\n",
       "    </tr>\n",
       "    <tr>\n",
       "      <th>4</th>\n",
       "      <td>image7831.jpg</td>\n",
       "      <td>Miscellaneous</td>\n",
       "    </tr>\n",
       "  </tbody>\n",
       "</table>\n",
       "</div>"
      ],
      "text/plain": [
       "           Image          Class\n",
       "0  image3476.jpg  Miscellaneous\n",
       "1  image5198.jpg         Candle\n",
       "2  image4183.jpg        Snowman\n",
       "3  image1806.jpg  Miscellaneous\n",
       "4  image7831.jpg  Miscellaneous"
      ]
     },
     "execution_count": 3,
     "metadata": {},
     "output_type": "execute_result"
    }
   ],
   "source": [
    "train_df = pd.read_csv(\"../input/hackereath-holiday-season-deep-learning-contest/dataset/train.csv\")\n",
    "train_df.head()"
   ]
  },
  {
   "cell_type": "code",
   "execution_count": 4,
   "metadata": {
    "execution": {
     "iopub.execute_input": "2021-01-23T15:16:35.033872Z",
     "iopub.status.busy": "2021-01-23T15:16:35.033187Z",
     "iopub.status.idle": "2021-01-23T15:16:35.035984Z",
     "shell.execute_reply": "2021-01-23T15:16:35.035538Z"
    },
    "papermill": {
     "duration": 0.028145,
     "end_time": "2021-01-23T15:16:35.036066",
     "exception": false,
     "start_time": "2021-01-23T15:16:35.007921",
     "status": "completed"
    },
    "tags": []
   },
   "outputs": [],
   "source": [
    "class_map = {\n",
    "    'Airplane': 0,\n",
    "    'Candle': 1,\n",
    "    'Christmas_Tree': 2,\n",
    "    'Jacket': 3,\n",
    "    'Miscellaneous': 4,\n",
    "    'Snowman': 5\n",
    "}"
   ]
  },
  {
   "cell_type": "code",
   "execution_count": 5,
   "metadata": {
    "execution": {
     "iopub.execute_input": "2021-01-23T15:16:35.093419Z",
     "iopub.status.busy": "2021-01-23T15:16:35.092604Z",
     "iopub.status.idle": "2021-01-23T15:16:35.105317Z",
     "shell.execute_reply": "2021-01-23T15:16:35.104842Z"
    },
    "papermill": {
     "duration": 0.048474,
     "end_time": "2021-01-23T15:16:35.105427",
     "exception": false,
     "start_time": "2021-01-23T15:16:35.056953",
     "status": "completed"
    },
    "tags": []
   },
   "outputs": [
    {
     "data": {
      "text/html": [
       "<div>\n",
       "<style scoped>\n",
       "    .dataframe tbody tr th:only-of-type {\n",
       "        vertical-align: middle;\n",
       "    }\n",
       "\n",
       "    .dataframe tbody tr th {\n",
       "        vertical-align: top;\n",
       "    }\n",
       "\n",
       "    .dataframe thead th {\n",
       "        text-align: right;\n",
       "    }\n",
       "</style>\n",
       "<table border=\"1\" class=\"dataframe\">\n",
       "  <thead>\n",
       "    <tr style=\"text-align: right;\">\n",
       "      <th></th>\n",
       "      <th>Class</th>\n",
       "      <th>Class_enc</th>\n",
       "      <th>Count</th>\n",
       "    </tr>\n",
       "  </thead>\n",
       "  <tbody>\n",
       "    <tr>\n",
       "      <th>0</th>\n",
       "      <td>Airplane</td>\n",
       "      <td>0</td>\n",
       "      <td>535</td>\n",
       "    </tr>\n",
       "    <tr>\n",
       "      <th>1</th>\n",
       "      <td>Candle</td>\n",
       "      <td>1</td>\n",
       "      <td>593</td>\n",
       "    </tr>\n",
       "    <tr>\n",
       "      <th>2</th>\n",
       "      <td>Christmas_Tree</td>\n",
       "      <td>2</td>\n",
       "      <td>1539</td>\n",
       "    </tr>\n",
       "    <tr>\n",
       "      <th>3</th>\n",
       "      <td>Jacket</td>\n",
       "      <td>3</td>\n",
       "      <td>640</td>\n",
       "    </tr>\n",
       "    <tr>\n",
       "      <th>4</th>\n",
       "      <td>Miscellaneous</td>\n",
       "      <td>4</td>\n",
       "      <td>2801</td>\n",
       "    </tr>\n",
       "    <tr>\n",
       "      <th>5</th>\n",
       "      <td>Snowman</td>\n",
       "      <td>5</td>\n",
       "      <td>361</td>\n",
       "    </tr>\n",
       "  </tbody>\n",
       "</table>\n",
       "</div>"
      ],
      "text/plain": [
       "            Class Class_enc  Count\n",
       "0        Airplane         0    535\n",
       "1          Candle         1    593\n",
       "2  Christmas_Tree         2   1539\n",
       "3          Jacket         3    640\n",
       "4   Miscellaneous         4   2801\n",
       "5         Snowman         5    361"
      ]
     },
     "execution_count": 5,
     "metadata": {},
     "output_type": "execute_result"
    }
   ],
   "source": [
    "train_df['Class_enc'] = train_df['Class'].map(class_map)\n",
    "train_df['Class_enc'] = train_df['Class_enc'].astype('str')\n",
    "train_df.groupby(['Class','Class_enc']).size().reset_index().rename(columns={0:'Count'})"
   ]
  },
  {
   "cell_type": "code",
   "execution_count": 6,
   "metadata": {
    "execution": {
     "iopub.execute_input": "2021-01-23T15:16:35.151945Z",
     "iopub.status.busy": "2021-01-23T15:16:35.151344Z",
     "iopub.status.idle": "2021-01-23T15:16:35.345004Z",
     "shell.execute_reply": "2021-01-23T15:16:35.344170Z"
    },
    "papermill": {
     "duration": 0.218547,
     "end_time": "2021-01-23T15:16:35.345109",
     "exception": false,
     "start_time": "2021-01-23T15:16:35.126562",
     "status": "completed"
    },
    "tags": []
   },
   "outputs": [
    {
     "data": {
      "image/png": "[encoded data removed]",
      "text/plain": [
       "<Figure size 864x504 with 1 Axes>"
      ]
     },
     "metadata": {
      "needs_background": "light"
     },
     "output_type": "display_data"
    }
   ],
   "source": [
    "plt.figure(figsize=(12,7))\n",
    "sns.set(style=\"darkgrid\")\n",
    "ax = sns.countplot(x=\"Class\", data=train_df)"
   ]
  },
  {
   "cell_type": "code",
   "execution_count": 7,
   "metadata": {
    "execution": {
     "iopub.execute_input": "2021-01-23T15:16:35.396675Z",
     "iopub.status.busy": "2021-01-23T15:16:35.396131Z",
     "iopub.status.idle": "2021-01-23T15:16:35.496602Z",
     "shell.execute_reply": "2021-01-23T15:16:35.497014Z"
    },
    "papermill": {
     "duration": 0.128695,
     "end_time": "2021-01-23T15:16:35.497131",
     "exception": false,
     "start_time": "2021-01-23T15:16:35.368436",
     "status": "completed"
    },
    "tags": []
   },
   "outputs": [
    {
     "name": "stderr",
     "output_type": "stream",
     "text": [
      "100%|██████████| 3489/3489 [00:00<00:00, 1078800.34it/s]\n"
     ]
    },
    {
     "data": {
      "text/html": [
       "<div>\n",
       "<style scoped>\n",
       "    .dataframe tbody tr th:only-of-type {\n",
       "        vertical-align: middle;\n",
       "    }\n",
       "\n",
       "    .dataframe tbody tr th {\n",
       "        vertical-align: top;\n",
       "    }\n",
       "\n",
       "    .dataframe thead th {\n",
       "        text-align: right;\n",
       "    }\n",
       "</style>\n",
       "<table border=\"1\" class=\"dataframe\">\n",
       "  <thead>\n",
       "    <tr style=\"text-align: right;\">\n",
       "      <th></th>\n",
       "      <th>Image</th>\n",
       "      <th>Class</th>\n",
       "    </tr>\n",
       "  </thead>\n",
       "  <tbody>\n",
       "    <tr>\n",
       "      <th>0</th>\n",
       "      <td>image7761.jpg</td>\n",
       "      <td>0</td>\n",
       "    </tr>\n",
       "    <tr>\n",
       "      <th>1</th>\n",
       "      <td>image3202.jpg</td>\n",
       "      <td>0</td>\n",
       "    </tr>\n",
       "    <tr>\n",
       "      <th>2</th>\n",
       "      <td>image688.jpg</td>\n",
       "      <td>0</td>\n",
       "    </tr>\n",
       "    <tr>\n",
       "      <th>3</th>\n",
       "      <td>image233.jpg</td>\n",
       "      <td>0</td>\n",
       "    </tr>\n",
       "    <tr>\n",
       "      <th>4</th>\n",
       "      <td>image4332.jpg</td>\n",
       "      <td>0</td>\n",
       "    </tr>\n",
       "  </tbody>\n",
       "</table>\n",
       "</div>"
      ],
      "text/plain": [
       "           Image Class\n",
       "0  image7761.jpg     0\n",
       "1  image3202.jpg     0\n",
       "2   image688.jpg     0\n",
       "3   image233.jpg     0\n",
       "4  image4332.jpg     0"
      ]
     },
     "execution_count": 7,
     "metadata": {},
     "output_type": "execute_result"
    }
   ],
   "source": [
    "test_dir = \"../input/hackereath-holiday-season-deep-learning-contest/dataset/test\"\n",
    "test_files = []\n",
    "\n",
    "for file in tqdm(os.listdir(test_dir)):\n",
    "    test_files.append(file)\n",
    "\n",
    "test_df = pd.DataFrame(test_files, columns=['Image'])\n",
    "test_df['Class'] = '0'\n",
    "test_df.head()"
   ]
  },
  {
   "cell_type": "markdown",
   "metadata": {
    "papermill": {
     "duration": 0.023075,
     "end_time": "2021-01-23T15:16:35.543971",
     "exception": false,
     "start_time": "2021-01-23T15:16:35.520896",
     "status": "completed"
    },
    "tags": []
   },
   "source": [
    "## Calculate class-weights"
   ]
  },
  {
   "cell_type": "code",
   "execution_count": 8,
   "metadata": {
    "execution": {
     "iopub.execute_input": "2021-01-23T15:16:35.599263Z",
     "iopub.status.busy": "2021-01-23T15:16:35.598467Z",
     "iopub.status.idle": "2021-01-23T15:16:35.625795Z",
     "shell.execute_reply": "2021-01-23T15:16:35.625224Z"
    },
    "papermill": {
     "duration": 0.057273,
     "end_time": "2021-01-23T15:16:35.625881",
     "exception": false,
     "start_time": "2021-01-23T15:16:35.568608",
     "status": "completed"
    },
    "tags": []
   },
   "outputs": [
    {
     "data": {
      "text/plain": [
       "{0: 0.6747663551401869,\n",
       " 1: 0.6087689713322091,\n",
       " 2: 0.23456790123456786,\n",
       " 3: 0.5640625,\n",
       " 4: 0.12888254194930382,\n",
       " 5: 1.0}"
      ]
     },
     "execution_count": 8,
     "metadata": {},
     "output_type": "execute_result"
    }
   ],
   "source": [
    "temp_df = train_df.groupby(['Class_enc']).size().reset_index().rename(columns={0:'count'})\n",
    "total_count = np.sum(temp_df['count'].values)\n",
    "temp_df['class%'] = (temp_df['count'] / total_count) * 100\n",
    "lowest_pct = min(temp_df['class%'])\n",
    "temp_df['class_weight'] = lowest_pct / temp_df['class%']\n",
    "class_weight = temp_df[['Class_enc', 'class_weight']].to_dict()['class_weight']\n",
    "class_weight"
   ]
  },
  {
   "cell_type": "markdown",
   "metadata": {
    "papermill": {
     "duration": 0.023478,
     "end_time": "2021-01-23T15:16:35.672970",
     "exception": false,
     "start_time": "2021-01-23T15:16:35.649492",
     "status": "completed"
    },
    "tags": []
   },
   "source": [
    "## Split training data into train/validation datasets"
   ]
  },
  {
   "cell_type": "code",
   "execution_count": 9,
   "metadata": {
    "execution": {
     "iopub.execute_input": "2021-01-23T15:16:35.733079Z",
     "iopub.status.busy": "2021-01-23T15:16:35.732568Z",
     "iopub.status.idle": "2021-01-23T15:16:35.745215Z",
     "shell.execute_reply": "2021-01-23T15:16:35.744797Z"
    },
    "papermill": {
     "duration": 0.048446,
     "end_time": "2021-01-23T15:16:35.745302",
     "exception": false,
     "start_time": "2021-01-23T15:16:35.696856",
     "status": "completed"
    },
    "tags": []
   },
   "outputs": [
    {
     "name": "stdout",
     "output_type": "stream",
     "text": [
      "train_df shape: (5498, 3)\n",
      "validation_df shape: (971, 3)\n"
     ]
    }
   ],
   "source": [
    "sss = StratifiedShuffleSplit(n_splits=1, test_size=0.15, random_state=1)\n",
    "for train_index, validation_index in sss.split(train_df['Image'], train_df['Class_enc']):\n",
    "    train_df, validation_df = train_df.iloc[train_index], train_df.iloc[validation_index]\n",
    "\n",
    "print(\"train_df shape: {}\".format(train_df.shape))\n",
    "print(\"validation_df shape: {}\".format(validation_df.shape))"
   ]
  },
  {
   "cell_type": "code",
   "execution_count": 10,
   "metadata": {
    "execution": {
     "iopub.execute_input": "2021-01-23T15:16:35.831927Z",
     "iopub.status.busy": "2021-01-23T15:16:35.831187Z",
     "iopub.status.idle": "2021-01-23T15:16:35.843633Z",
     "shell.execute_reply": "2021-01-23T15:16:35.843079Z"
    },
    "papermill": {
     "duration": 0.041874,
     "end_time": "2021-01-23T15:16:35.843718",
     "exception": false,
     "start_time": "2021-01-23T15:16:35.801844",
     "status": "completed"
    },
    "tags": []
   },
   "outputs": [
    {
     "data": {
      "text/html": [
       "<div>\n",
       "<style scoped>\n",
       "    .dataframe tbody tr th:only-of-type {\n",
       "        vertical-align: middle;\n",
       "    }\n",
       "\n",
       "    .dataframe tbody tr th {\n",
       "        vertical-align: top;\n",
       "    }\n",
       "\n",
       "    .dataframe thead th {\n",
       "        text-align: right;\n",
       "    }\n",
       "</style>\n",
       "<table border=\"1\" class=\"dataframe\">\n",
       "  <thead>\n",
       "    <tr style=\"text-align: right;\">\n",
       "      <th></th>\n",
       "      <th>Class</th>\n",
       "      <th>Class_enc</th>\n",
       "      <th>Count</th>\n",
       "    </tr>\n",
       "  </thead>\n",
       "  <tbody>\n",
       "    <tr>\n",
       "      <th>0</th>\n",
       "      <td>Airplane</td>\n",
       "      <td>0</td>\n",
       "      <td>455</td>\n",
       "    </tr>\n",
       "    <tr>\n",
       "      <th>1</th>\n",
       "      <td>Candle</td>\n",
       "      <td>1</td>\n",
       "      <td>504</td>\n",
       "    </tr>\n",
       "    <tr>\n",
       "      <th>2</th>\n",
       "      <td>Christmas_Tree</td>\n",
       "      <td>2</td>\n",
       "      <td>1308</td>\n",
       "    </tr>\n",
       "    <tr>\n",
       "      <th>3</th>\n",
       "      <td>Jacket</td>\n",
       "      <td>3</td>\n",
       "      <td>544</td>\n",
       "    </tr>\n",
       "    <tr>\n",
       "      <th>4</th>\n",
       "      <td>Miscellaneous</td>\n",
       "      <td>4</td>\n",
       "      <td>2380</td>\n",
       "    </tr>\n",
       "    <tr>\n",
       "      <th>5</th>\n",
       "      <td>Snowman</td>\n",
       "      <td>5</td>\n",
       "      <td>307</td>\n",
       "    </tr>\n",
       "  </tbody>\n",
       "</table>\n",
       "</div>"
      ],
      "text/plain": [
       "            Class Class_enc  Count\n",
       "0        Airplane         0    455\n",
       "1          Candle         1    504\n",
       "2  Christmas_Tree         2   1308\n",
       "3          Jacket         3    544\n",
       "4   Miscellaneous         4   2380\n",
       "5         Snowman         5    307"
      ]
     },
     "execution_count": 10,
     "metadata": {},
     "output_type": "execute_result"
    }
   ],
   "source": [
    "train_df.groupby(['Class','Class_enc']).size().reset_index().rename(columns={0:'Count'})"
   ]
  },
  {
   "cell_type": "code",
   "execution_count": 11,
   "metadata": {
    "execution": {
     "iopub.execute_input": "2021-01-23T15:16:35.897251Z",
     "iopub.status.busy": "2021-01-23T15:16:35.896439Z",
     "iopub.status.idle": "2021-01-23T15:16:35.907736Z",
     "shell.execute_reply": "2021-01-23T15:16:35.907228Z"
    },
    "papermill": {
     "duration": 0.039708,
     "end_time": "2021-01-23T15:16:35.907821",
     "exception": false,
     "start_time": "2021-01-23T15:16:35.868113",
     "status": "completed"
    },
    "tags": []
   },
   "outputs": [
    {
     "data": {
      "text/html": [
       "<div>\n",
       "<style scoped>\n",
       "    .dataframe tbody tr th:only-of-type {\n",
       "        vertical-align: middle;\n",
       "    }\n",
       "\n",
       "    .dataframe tbody tr th {\n",
       "        vertical-align: top;\n",
       "    }\n",
       "\n",
       "    .dataframe thead th {\n",
       "        text-align: right;\n",
       "    }\n",
       "</style>\n",
       "<table border=\"1\" class=\"dataframe\">\n",
       "  <thead>\n",
       "    <tr style=\"text-align: right;\">\n",
       "      <th></th>\n",
       "      <th>Class</th>\n",
       "      <th>Class_enc</th>\n",
       "      <th>Count</th>\n",
       "    </tr>\n",
       "  </thead>\n",
       "  <tbody>\n",
       "    <tr>\n",
       "      <th>0</th>\n",
       "      <td>Airplane</td>\n",
       "      <td>0</td>\n",
       "      <td>80</td>\n",
       "    </tr>\n",
       "    <tr>\n",
       "      <th>1</th>\n",
       "      <td>Candle</td>\n",
       "      <td>1</td>\n",
       "      <td>89</td>\n",
       "    </tr>\n",
       "    <tr>\n",
       "      <th>2</th>\n",
       "      <td>Christmas_Tree</td>\n",
       "      <td>2</td>\n",
       "      <td>231</td>\n",
       "    </tr>\n",
       "    <tr>\n",
       "      <th>3</th>\n",
       "      <td>Jacket</td>\n",
       "      <td>3</td>\n",
       "      <td>96</td>\n",
       "    </tr>\n",
       "    <tr>\n",
       "      <th>4</th>\n",
       "      <td>Miscellaneous</td>\n",
       "      <td>4</td>\n",
       "      <td>421</td>\n",
       "    </tr>\n",
       "    <tr>\n",
       "      <th>5</th>\n",
       "      <td>Snowman</td>\n",
       "      <td>5</td>\n",
       "      <td>54</td>\n",
       "    </tr>\n",
       "  </tbody>\n",
       "</table>\n",
       "</div>"
      ],
      "text/plain": [
       "            Class Class_enc  Count\n",
       "0        Airplane         0     80\n",
       "1          Candle         1     89\n",
       "2  Christmas_Tree         2    231\n",
       "3          Jacket         3     96\n",
       "4   Miscellaneous         4    421\n",
       "5         Snowman         5     54"
      ]
     },
     "execution_count": 11,
     "metadata": {},
     "output_type": "execute_result"
    }
   ],
   "source": [
    "validation_df.groupby(['Class','Class_enc']).size().reset_index().rename(columns={0:'Count'})"
   ]
  },
  {
   "cell_type": "markdown",
   "metadata": {
    "papermill": {
     "duration": 0.025017,
     "end_time": "2021-01-23T15:16:35.957449",
     "exception": false,
     "start_time": "2021-01-23T15:16:35.932432",
     "status": "completed"
    },
    "tags": []
   },
   "source": [
    "## Model Hyperparameters"
   ]
  },
  {
   "cell_type": "code",
   "execution_count": 12,
   "metadata": {
    "execution": {
     "iopub.execute_input": "2021-01-23T15:16:36.013728Z",
     "iopub.status.busy": "2021-01-23T15:16:36.012968Z",
     "iopub.status.idle": "2021-01-23T15:16:36.015698Z",
     "shell.execute_reply": "2021-01-23T15:16:36.015157Z"
    },
    "papermill": {
     "duration": 0.033314,
     "end_time": "2021-01-23T15:16:36.015781",
     "exception": false,
     "start_time": "2021-01-23T15:16:35.982467",
     "status": "completed"
    },
    "tags": []
   },
   "outputs": [],
   "source": [
    "dataset_dir = \"../input/hackereath-holiday-season-deep-learning-contest/dataset/\"\n",
    "mini_batch_size = 128\n",
    "steps_per_epoch = int(np.ceil(train_df.shape[0] / float(mini_batch_size)))\n",
    "validation_steps = int(np.ceil(validation_df.shape[0] / float(mini_batch_size)))\n",
    "test_steps = int(np.ceil(test_df.shape[0] / float(mini_batch_size)))\n",
    "image_dim = (320, 320, 3)"
   ]
  },
  {
   "cell_type": "markdown",
   "metadata": {
    "papermill": {
     "duration": 0.024637,
     "end_time": "2021-01-23T15:16:36.065059",
     "exception": false,
     "start_time": "2021-01-23T15:16:36.040422",
     "status": "completed"
    },
    "tags": []
   },
   "source": [
    "## Configure image generators"
   ]
  },
  {
   "cell_type": "code",
   "execution_count": 13,
   "metadata": {
    "execution": {
     "iopub.execute_input": "2021-01-23T15:16:36.140760Z",
     "iopub.status.busy": "2021-01-23T15:16:36.140012Z",
     "iopub.status.idle": "2021-01-23T15:16:42.275528Z",
     "shell.execute_reply": "2021-01-23T15:16:42.274853Z"
    },
    "papermill": {
     "duration": 6.186045,
     "end_time": "2021-01-23T15:16:42.275667",
     "exception": false,
     "start_time": "2021-01-23T15:16:36.089622",
     "status": "completed"
    },
    "tags": []
   },
   "outputs": [
    {
     "name": "stdout",
     "output_type": "stream",
     "text": [
      "Found 5498 validated image filenames belonging to 6 classes.\n",
      "Found 971 validated image filenames belonging to 6 classes.\n",
      "Found 3489 validated image filenames belonging to 1 classes.\n"
     ]
    }
   ],
   "source": [
    "train_datagen = ImageDataGenerator(rotation_range = 30,\n",
    "                                   zoom_range = 0.2,\n",
    "                                   horizontal_flip = True,\n",
    "                                   fill_mode = 'nearest',\n",
    "                                   height_shift_range = 0.1,\n",
    "                                   width_shift_range = 0.1)\n",
    "\n",
    "train_generator = train_datagen.flow_from_dataframe(train_df,\n",
    "                                                    directory = os.path.join(dataset_dir,\"train\"),\n",
    "                                                    x_col = \"Image\", \n",
    "                                                    y_col = \"Class_enc\",\n",
    "                                                    target_size = (image_dim[0], image_dim[1]),\n",
    "                                                    batch_size = mini_batch_size,\n",
    "                                                    class_mode = \"categorical\",\n",
    "                                                    interpolation=\"bicubic\")\n",
    "\n",
    "validation_datagen = ImageDataGenerator()\n",
    "\n",
    "validation_generator = validation_datagen.flow_from_dataframe(validation_df,\n",
    "                                                              directory = os.path.join(dataset_dir,\"train\"),\n",
    "                                                              x_col = \"Image\",\n",
    "                                                              y_col = \"Class_enc\",\n",
    "                                                              shuffle=False,\n",
    "                                                              target_size = (image_dim[0], image_dim[1]),\n",
    "                                                              batch_size = mini_batch_size,\n",
    "                                                              class_mode = \"categorical\",\n",
    "                                                              interpolation=\"bicubic\")\n",
    "\n",
    "test_datagen = ImageDataGenerator()\n",
    "\n",
    "test_generator = test_datagen.flow_from_dataframe(test_df,\n",
    "                                                  directory = os.path.join(dataset_dir,\"test\"),\n",
    "                                                  x_col = \"Image\",\n",
    "                                                  y_col = \"Class\",\n",
    "                                                  shuffle=False,\n",
    "                                                  target_size = (image_dim[0], image_dim[1]),\n",
    "                                                  batch_size = mini_batch_size,\n",
    "                                                  class_mode = \"categorical\",\n",
    "                                                  interpolation=\"bicubic\")"
   ]
  },
  {
   "cell_type": "markdown",
   "metadata": {
    "papermill": {
     "duration": 0.026083,
     "end_time": "2021-01-23T15:16:42.328838",
     "exception": false,
     "start_time": "2021-01-23T15:16:42.302755",
     "status": "completed"
    },
    "tags": []
   },
   "source": [
    "## Build and validate the model"
   ]
  },
  {
   "cell_type": "code",
   "execution_count": 14,
   "metadata": {
    "execution": {
     "iopub.execute_input": "2021-01-23T15:16:42.404262Z",
     "iopub.status.busy": "2021-01-23T15:16:42.399097Z",
     "iopub.status.idle": "2021-01-23T15:16:42.414817Z",
     "shell.execute_reply": "2021-01-23T15:16:42.414375Z"
    },
    "papermill": {
     "duration": 0.060144,
     "end_time": "2021-01-23T15:16:42.414910",
     "exception": false,
     "start_time": "2021-01-23T15:16:42.354766",
     "status": "completed"
    },
    "tags": []
   },
   "outputs": [],
   "source": [
    "def head(x_input, input_shape=1792, ratio=8):\n",
    "    \n",
    "    #=======================================================\n",
    "    #                    Channel Attention\n",
    "    #=======================================================\n",
    "    gapavg = GlobalAveragePooling2D()(x_input)\n",
    "    gapavg = Reshape((1, 1, gapavg.shape[1]))(gapavg)\n",
    "    gapavg = Conv2D(input_shape//ratio, \n",
    "                    kernel_size=1, strides=1, use_bias=True, \n",
    "                    padding='same', kernel_regularizer=l2(0.001), \n",
    "                    kernel_initializer='he_normal')(gapavg)\n",
    "    gapavg = BatchNormalization()(gapavg)\n",
    "    gapavg = Activation('relu')(gapavg)\n",
    "    gapavg_out = Conv2D(input_shape, kernel_size=1, \n",
    "                        strides=1, padding='same', use_bias=True, \n",
    "                        kernel_regularizer=l2(0.001), \n",
    "                        kernel_initializer='he_normal')(gapavg)\n",
    "    gapavg_out = BatchNormalization()(gapavg_out)\n",
    "    gapavg_out = Activation('relu')(gapavg_out)\n",
    "\n",
    "\n",
    "    gmpmax = GlobalMaxPooling2D()(x_input)\n",
    "    gmpmax = Reshape((1, 1, gmpmax.shape[1]))(gmpmax)\n",
    "    gmpmax = Conv2D(input_shape//ratio, \n",
    "                    kernel_size=1, strides=1, use_bias=True, \n",
    "                    padding='same', kernel_regularizer=l2(0.001), \n",
    "                    kernel_initializer='he_normal')(gmpmax)\n",
    "    gmpmax = BatchNormalization()(gmpmax)\n",
    "    gmpmax = Activation('relu')(gmpmax)\n",
    "    gmpmax_out = Conv2D(input_shape, kernel_size=1, \n",
    "                        strides=1, padding='same', use_bias=True, \n",
    "                        kernel_regularizer=l2(0.001), \n",
    "                        kernel_initializer='he_normal')(gmpmax)\n",
    "    gmpmax_out = BatchNormalization()(gmpmax_out)\n",
    "    gmpmax_out = Activation('relu')(gmpmax_out)\n",
    "    canx = x_input * tf.math.sigmoid(gapavg_out + gmpmax_out)\n",
    "\n",
    "\n",
    "    #=======================================================\n",
    "    #                    Spatial Attention\n",
    "    #=======================================================\n",
    "    avg_out = tf.reduce_mean(canx, axis=3)\n",
    "    max_out = tf.reduce_max(canx,  axis=3)\n",
    "    x = tf.stack([avg_out, max_out], axis=3)\n",
    "    \n",
    "    x = Conv2D(filters=64, kernel_size=3, strides=1, \n",
    "               padding='same', use_bias=False, \n",
    "               kernel_regularizer=l2(0.001), \n",
    "               kernel_initializer='he_normal')(x)\n",
    "    x = BatchNormalization()(x)\n",
    "    x = Activation('relu')(x)\n",
    "\n",
    "    x = Conv2D(filters=32, kernel_size=3, strides=1, \n",
    "               padding='same', use_bias=False, \n",
    "               kernel_regularizer=l2(0.001), \n",
    "               kernel_initializer='he_normal')(x)\n",
    "    x = BatchNormalization()(x)\n",
    "    x = Activation('relu')(x)\n",
    "\n",
    "    x = Conv2D(filters=16, kernel_size=3, strides=1, \n",
    "               padding='same', use_bias=False, \n",
    "               kernel_regularizer=l2(0.001), \n",
    "               kernel_initializer='he_normal')(x)\n",
    "    x = BatchNormalization()(x)\n",
    "    x = Activation('relu')(x)\n",
    "\n",
    "    x = Conv2D(filters=1, kernel_size=3, strides=1, \n",
    "               padding='same', use_bias=False, \n",
    "               kernel_regularizer=l2(0.001), \n",
    "               kernel_initializer='he_normal')(x)\n",
    "    x = BatchNormalization()(x)\n",
    "    x = Activation('sigmoid')(x)\n",
    "    spnx1 = canx * x\n",
    "    spnx2 = x\n",
    "    \n",
    "    gapx   = GlobalAveragePooling2D()(spnx1)\n",
    "    wvgx   = GlobalAveragePooling2D()(spnx2)\n",
    "    gapavg = Average()([gapx, wvgx])\n",
    "    x = BatchNormalization()(gapavg)\n",
    "\n",
    "\n",
    "    #=======================================================\n",
    "    #                    Tail of the model\n",
    "    #=======================================================\n",
    "\n",
    "    x = Dense(units=2048, kernel_regularizer=l2(0.0001), \n",
    "              kernel_initializer='he_uniform')(x)\n",
    "    x = BatchNormalization()(x)\n",
    "    x = Activation('relu')(x)\n",
    "    x = Dropout(rate=0.5)(x)\n",
    "    \n",
    "    x = Dense(units=1024, kernel_regularizer=l2(0.0001), \n",
    "              kernel_initializer='he_uniform')(x)\n",
    "    x = BatchNormalization()(x)\n",
    "    x = Activation('relu')(x)\n",
    "    x = Dropout(rate=0.5)(x)\n",
    "    \n",
    "    x = Dense(units=1024, kernel_regularizer=l2(0.0001), \n",
    "              kernel_initializer='he_uniform')(x)\n",
    "    x = BatchNormalization()(x)\n",
    "    x = Activation('relu')(x)\n",
    "    x = Dropout(rate=0.5)(x)\n",
    "    \n",
    "    x = Dense(units=512, kernel_regularizer=l2(0.0001), \n",
    "              kernel_initializer='he_uniform')(x)\n",
    "    x = BatchNormalization()(x)\n",
    "    x = Activation('relu')(x)\n",
    "    x = Dropout(rate=0.5)(x)\n",
    "    \n",
    "    x = Dense(units=6, activation='softmax', \n",
    "              kernel_initializer='he_uniform')(x)\n",
    "\n",
    "    return x"
   ]
  },
  {
   "cell_type": "code",
   "execution_count": 15,
   "metadata": {
    "execution": {
     "iopub.execute_input": "2021-01-23T15:16:42.478123Z",
     "iopub.status.busy": "2021-01-23T15:16:42.477532Z",
     "iopub.status.idle": "2021-01-23T15:17:04.086734Z",
     "shell.execute_reply": "2021-01-23T15:17:04.087262Z"
    },
    "papermill": {
     "duration": 21.646157,
     "end_time": "2021-01-23T15:17:04.087408",
     "exception": false,
     "start_time": "2021-01-23T15:16:42.441251",
     "status": "completed"
    },
    "tags": []
   },
   "outputs": [
    {
     "name": "stdout",
     "output_type": "stream",
     "text": [
      "Downloading data from https://storage.googleapis.com/keras-applications/efficientnetb4_notop.h5\n",
      "71688192/71686520 [==============================] - 2s 0us/step\n"
     ]
    }
   ],
   "source": [
    "# Build the model\n",
    "base_model = EfficientNetB4(weights='imagenet', \n",
    "                            input_tensor=Input(shape=image_dim), \n",
    "                            include_top=False)\n",
    "\n",
    "model = Model(base_model.input, head(base_model.output),\n",
    "              name='HackerEarth_Holiday_Season_Model')\n",
    "\n",
    "# Load the pre-trained model\n",
    "pretrain_model = load_model('../input/holiday-season-enetb4-mav2/hackerearth_holiday_season_model.h5')\n",
    "\n",
    "# Transfer weights from pre-trained model\n",
    "model.set_weights(pretrain_model.get_weights())\n",
    "\n",
    "# Freeze weights for base model\n",
    "base_model.trainable = False\n",
    "for layer in base_model.layers[-18:]:\n",
    "    if not isinstance(layer, BatchNormalization):\n",
    "        layer.trainable = True\n",
    "\n",
    "# Compile the final model\n",
    "model.compile(loss='categorical_crossentropy', \n",
    "              metrics=[F1Score(num_classes=6, average='weighted'), \n",
    "                       'categorical_accuracy'],\n",
    "              optimizer=Lookahead(AdamW(lr=1e-3, \n",
    "                                        weight_decay=1e-5, \n",
    "                                        clipvalue=700), \n",
    "                                  sync_period=10))\n",
    "\n",
    "early = EarlyStopping(monitor=\"val_loss\", mode=\"min\", patience=10, \n",
    "                      restore_best_weights=True, verbose=1)\n",
    "\n",
    "reduce_lr = ReduceLROnPlateau(monitor=\"val_loss\", factor=0.1, \n",
    "                              min_lr=1e-6, patience=7, \n",
    "                              verbose=1, mode='min')\n",
    "\n",
    "chk_point = ModelCheckpoint('hackerearth_holiday_season_model.h5', \n",
    "                            monitor='val_loss', verbose=1, \n",
    "                            save_best_only=True, mode='min')"
   ]
  },
  {
   "cell_type": "code",
   "execution_count": 16,
   "metadata": {
    "execution": {
     "iopub.execute_input": "2021-01-23T15:17:04.154448Z",
     "iopub.status.busy": "2021-01-23T15:17:04.153707Z",
     "iopub.status.idle": "2021-01-23T16:23:08.280110Z",
     "shell.execute_reply": "2021-01-23T16:23:08.277651Z"
    },
    "papermill": {
     "duration": 3964.163129,
     "end_time": "2021-01-23T16:23:08.280236",
     "exception": false,
     "start_time": "2021-01-23T15:17:04.117107",
     "status": "completed"
    },
    "tags": []
   },
   "outputs": [
    {
     "name": "stdout",
     "output_type": "stream",
     "text": [
      "Epoch 1/275\n",
      "43/43 [==============================] - ETA: 0s - loss: 0.0956 - f1_score: 0.9343 - categorical_accuracy: 0.9340\n",
      "Epoch 00001: val_loss improved from inf to 0.30545, saving model to hackerearth_holiday_season_model.h5\n",
      "43/43 [==============================] - 153s 4s/step - loss: 0.0956 - f1_score: 0.9343 - categorical_accuracy: 0.9340 - val_loss: 0.3054 - val_f1_score: 0.9132 - val_categorical_accuracy: 0.9135\n",
      "Epoch 2/275\n",
      "43/43 [==============================] - ETA: 0s - loss: 0.0864 - f1_score: 0.9332 - categorical_accuracy: 0.9327\n",
      "Epoch 00002: val_loss did not improve from 0.30545\n",
      "43/43 [==============================] - 133s 3s/step - loss: 0.0864 - f1_score: 0.9332 - categorical_accuracy: 0.9327 - val_loss: 0.3131 - val_f1_score: 0.9205 - val_categorical_accuracy: 0.9207\n",
      "Epoch 3/275\n",
      "43/43 [==============================] - ETA: 0s - loss: 0.0885 - f1_score: 0.9362 - categorical_accuracy: 0.9358\n",
      "Epoch 00003: val_loss improved from 0.30545 to 0.29214, saving model to hackerearth_holiday_season_model.h5\n",
      "43/43 [==============================] - 139s 3s/step - loss: 0.0885 - f1_score: 0.9362 - categorical_accuracy: 0.9358 - val_loss: 0.2921 - val_f1_score: 0.9160 - val_categorical_accuracy: 0.9156\n",
      "Epoch 4/275\n",
      "43/43 [==============================] - ETA: 0s - loss: 0.0829 - f1_score: 0.9361 - categorical_accuracy: 0.9358\n",
      "Epoch 00004: val_loss improved from 0.29214 to 0.27334, saving model to hackerearth_holiday_season_model.h5\n",
      "43/43 [==============================] - 142s 3s/step - loss: 0.0829 - f1_score: 0.9361 - categorical_accuracy: 0.9358 - val_loss: 0.2733 - val_f1_score: 0.9189 - val_categorical_accuracy: 0.9186\n",
      "Epoch 5/275\n",
      "43/43 [==============================] - ETA: 0s - loss: 0.0888 - f1_score: 0.9370 - categorical_accuracy: 0.9365\n",
      "Epoch 00005: val_loss did not improve from 0.27334\n",
      "43/43 [==============================] - 134s 3s/step - loss: 0.0888 - f1_score: 0.9370 - categorical_accuracy: 0.9365 - val_loss: 0.2739 - val_f1_score: 0.9291 - val_categorical_accuracy: 0.9289\n",
      "Epoch 6/275\n",
      "43/43 [==============================] - ETA: 0s - loss: 0.0866 - f1_score: 0.9367 - categorical_accuracy: 0.9363\n",
      "Epoch 00006: val_loss improved from 0.27334 to 0.27163, saving model to hackerearth_holiday_season_model.h5\n",
      "43/43 [==============================] - 140s 3s/step - loss: 0.0866 - f1_score: 0.9367 - categorical_accuracy: 0.9363 - val_loss: 0.2716 - val_f1_score: 0.9274 - val_categorical_accuracy: 0.9269\n",
      "Epoch 7/275\n",
      "43/43 [==============================] - ETA: 0s - loss: 0.0880 - f1_score: 0.9375 - categorical_accuracy: 0.9371\n",
      "Epoch 00007: val_loss did not improve from 0.27163\n",
      "43/43 [==============================] - 132s 3s/step - loss: 0.0880 - f1_score: 0.9375 - categorical_accuracy: 0.9371 - val_loss: 0.3034 - val_f1_score: 0.9220 - val_categorical_accuracy: 0.9217\n",
      "Epoch 8/275\n",
      "43/43 [==============================] - ETA: 0s - loss: 0.0811 - f1_score: 0.9454 - categorical_accuracy: 0.9453\n",
      "Epoch 00008: val_loss did not improve from 0.27163\n",
      "43/43 [==============================] - 134s 3s/step - loss: 0.0811 - f1_score: 0.9454 - categorical_accuracy: 0.9453 - val_loss: 0.2864 - val_f1_score: 0.9247 - val_categorical_accuracy: 0.9248\n",
      "Epoch 9/275\n",
      "43/43 [==============================] - ETA: 0s - loss: 0.0804 - f1_score: 0.9393 - categorical_accuracy: 0.9389\n",
      "Epoch 00009: val_loss did not improve from 0.27163\n",
      "43/43 [==============================] - 134s 3s/step - loss: 0.0804 - f1_score: 0.9393 - categorical_accuracy: 0.9389 - val_loss: 0.3176 - val_f1_score: 0.9227 - val_categorical_accuracy: 0.9228\n",
      "Epoch 10/275\n",
      "43/43 [==============================] - ETA: 0s - loss: 0.0842 - f1_score: 0.9376 - categorical_accuracy: 0.9372\n",
      "Epoch 00010: val_loss did not improve from 0.27163\n",
      "43/43 [==============================] - 134s 3s/step - loss: 0.0842 - f1_score: 0.9376 - categorical_accuracy: 0.9372 - val_loss: 0.2881 - val_f1_score: 0.9228 - val_categorical_accuracy: 0.9228\n",
      "Epoch 11/275\n",
      "43/43 [==============================] - ETA: 0s - loss: 0.0841 - f1_score: 0.9447 - categorical_accuracy: 0.9442\n",
      "Epoch 00011: val_loss did not improve from 0.27163\n",
      "43/43 [==============================] - 133s 3s/step - loss: 0.0841 - f1_score: 0.9447 - categorical_accuracy: 0.9442 - val_loss: 0.3313 - val_f1_score: 0.9274 - val_categorical_accuracy: 0.9269\n",
      "Epoch 12/275\n",
      "43/43 [==============================] - ETA: 0s - loss: 0.0801 - f1_score: 0.9418 - categorical_accuracy: 0.9414\n",
      "Epoch 00012: val_loss did not improve from 0.27163\n",
      "43/43 [==============================] - 135s 3s/step - loss: 0.0801 - f1_score: 0.9418 - categorical_accuracy: 0.9414 - val_loss: 0.2969 - val_f1_score: 0.9230 - val_categorical_accuracy: 0.9228\n",
      "Epoch 13/275\n",
      "43/43 [==============================] - ETA: 0s - loss: 0.0769 - f1_score: 0.9445 - categorical_accuracy: 0.9443\n",
      "Epoch 00013: ReduceLROnPlateau reducing learning rate to 0.00010000000474974513.\n",
      "\n",
      "Epoch 00013: val_loss did not improve from 0.27163\n",
      "43/43 [==============================] - 133s 3s/step - loss: 0.0769 - f1_score: 0.9445 - categorical_accuracy: 0.9443 - val_loss: 0.2834 - val_f1_score: 0.9229 - val_categorical_accuracy: 0.9228\n",
      "Epoch 14/275\n",
      "43/43 [==============================] - ETA: 0s - loss: 0.0708 - f1_score: 0.9529 - categorical_accuracy: 0.9525\n",
      "Epoch 00014: val_loss improved from 0.27163 to 0.27022, saving model to hackerearth_holiday_season_model.h5\n",
      "43/43 [==============================] - 142s 3s/step - loss: 0.0708 - f1_score: 0.9529 - categorical_accuracy: 0.9525 - val_loss: 0.2702 - val_f1_score: 0.9311 - val_categorical_accuracy: 0.9310\n",
      "Epoch 15/275\n",
      "43/43 [==============================] - ETA: 0s - loss: 0.0667 - f1_score: 0.9503 - categorical_accuracy: 0.9502\n",
      "Epoch 00015: val_loss improved from 0.27022 to 0.26907, saving model to hackerearth_holiday_season_model.h5\n",
      "43/43 [==============================] - 142s 3s/step - loss: 0.0667 - f1_score: 0.9503 - categorical_accuracy: 0.9502 - val_loss: 0.2691 - val_f1_score: 0.9321 - val_categorical_accuracy: 0.9320\n",
      "Epoch 16/275\n",
      "43/43 [==============================] - ETA: 0s - loss: 0.0630 - f1_score: 0.9561 - categorical_accuracy: 0.9560\n",
      "Epoch 00016: val_loss did not improve from 0.26907\n",
      "43/43 [==============================] - 133s 3s/step - loss: 0.0630 - f1_score: 0.9561 - categorical_accuracy: 0.9560 - val_loss: 0.2713 - val_f1_score: 0.9250 - val_categorical_accuracy: 0.9248\n",
      "Epoch 17/275\n",
      "43/43 [==============================] - ETA: 0s - loss: 0.0654 - f1_score: 0.9532 - categorical_accuracy: 0.9531\n",
      "Epoch 00017: val_loss did not improve from 0.26907\n",
      "43/43 [==============================] - 135s 3s/step - loss: 0.0654 - f1_score: 0.9532 - categorical_accuracy: 0.9531 - val_loss: 0.2779 - val_f1_score: 0.9282 - val_categorical_accuracy: 0.9279\n",
      "Epoch 18/275\n",
      "43/43 [==============================] - ETA: 0s - loss: 0.0737 - f1_score: 0.9474 - categorical_accuracy: 0.9469\n",
      "Epoch 00018: val_loss did not improve from 0.26907\n",
      "43/43 [==============================] - 134s 3s/step - loss: 0.0737 - f1_score: 0.9474 - categorical_accuracy: 0.9469 - val_loss: 0.2830 - val_f1_score: 0.9251 - val_categorical_accuracy: 0.9248\n",
      "Epoch 19/275\n",
      "43/43 [==============================] - ETA: 0s - loss: 0.0683 - f1_score: 0.9504 - categorical_accuracy: 0.9500\n",
      "Epoch 00019: val_loss did not improve from 0.26907\n",
      "43/43 [==============================] - 134s 3s/step - loss: 0.0683 - f1_score: 0.9504 - categorical_accuracy: 0.9500 - val_loss: 0.2744 - val_f1_score: 0.9281 - val_categorical_accuracy: 0.9279\n",
      "Epoch 20/275\n",
      "43/43 [==============================] - ETA: 0s - loss: 0.0634 - f1_score: 0.9475 - categorical_accuracy: 0.9473\n",
      "Epoch 00020: val_loss did not improve from 0.26907\n",
      "43/43 [==============================] - 136s 3s/step - loss: 0.0634 - f1_score: 0.9475 - categorical_accuracy: 0.9473 - val_loss: 0.2745 - val_f1_score: 0.9261 - val_categorical_accuracy: 0.9258\n",
      "Epoch 21/275\n",
      "43/43 [==============================] - ETA: 0s - loss: 0.0660 - f1_score: 0.9489 - categorical_accuracy: 0.9487\n",
      "Epoch 00021: val_loss did not improve from 0.26907\n",
      "43/43 [==============================] - 136s 3s/step - loss: 0.0660 - f1_score: 0.9489 - categorical_accuracy: 0.9487 - val_loss: 0.2722 - val_f1_score: 0.9282 - val_categorical_accuracy: 0.9279\n",
      "Epoch 22/275\n",
      "43/43 [==============================] - ETA: 0s - loss: 0.0616 - f1_score: 0.9539 - categorical_accuracy: 0.9536\n",
      "Epoch 00022: ReduceLROnPlateau reducing learning rate to 1.0000000474974514e-05.\n",
      "\n",
      "Epoch 00022: val_loss did not improve from 0.26907\n",
      "43/43 [==============================] - 134s 3s/step - loss: 0.0616 - f1_score: 0.9539 - categorical_accuracy: 0.9536 - val_loss: 0.2723 - val_f1_score: 0.9271 - val_categorical_accuracy: 0.9269\n",
      "Epoch 23/275\n",
      "43/43 [==============================] - ETA: 0s - loss: 0.0604 - f1_score: 0.9526 - categorical_accuracy: 0.9523\n",
      "Epoch 00023: val_loss did not improve from 0.26907\n",
      "43/43 [==============================] - 134s 3s/step - loss: 0.0604 - f1_score: 0.9526 - categorical_accuracy: 0.9523 - val_loss: 0.2711 - val_f1_score: 0.9281 - val_categorical_accuracy: 0.9279\n",
      "Epoch 24/275\n",
      "43/43 [==============================] - ETA: 0s - loss: 0.0667 - f1_score: 0.9508 - categorical_accuracy: 0.9505\n",
      "Epoch 00024: val_loss did not improve from 0.26907\n",
      "43/43 [==============================] - 134s 3s/step - loss: 0.0667 - f1_score: 0.9508 - categorical_accuracy: 0.9505 - val_loss: 0.2715 - val_f1_score: 0.9271 - val_categorical_accuracy: 0.9269\n",
      "Epoch 25/275\n",
      "43/43 [==============================] - ETA: 0s - loss: 0.0617 - f1_score: 0.9495 - categorical_accuracy: 0.9493Restoring model weights from the end of the best epoch.\n",
      "\n",
      "Epoch 00025: val_loss did not improve from 0.26907\n",
      "43/43 [==============================] - 136s 3s/step - loss: 0.0617 - f1_score: 0.9495 - categorical_accuracy: 0.9493 - val_loss: 0.2719 - val_f1_score: 0.9261 - val_categorical_accuracy: 0.9258\n",
      "Epoch 00025: early stopping\n"
     ]
    }
   ],
   "source": [
    "history = model.fit(\n",
    "    train_generator, \n",
    "    steps_per_epoch=steps_per_epoch,\n",
    "    class_weight=class_weight, \n",
    "    epochs=275, \n",
    "    verbose=1, \n",
    "    workers=5,\n",
    "    callbacks=[reduce_lr, early, chk_point], \n",
    "    validation_data=validation_generator,\n",
    "    validation_steps=validation_steps\n",
    ")"
   ]
  },
  {
   "cell_type": "code",
   "execution_count": 17,
   "metadata": {
    "execution": {
     "iopub.execute_input": "2021-01-23T16:23:12.339874Z",
     "iopub.status.busy": "2021-01-23T16:23:12.338931Z",
     "iopub.status.idle": "2021-01-23T16:23:15.919987Z",
     "shell.execute_reply": "2021-01-23T16:23:15.920835Z"
    },
    "papermill": {
     "duration": 5.518415,
     "end_time": "2021-01-23T16:23:15.921031",
     "exception": false,
     "start_time": "2021-01-23T16:23:10.402616",
     "status": "completed"
    },
    "tags": []
   },
   "outputs": [
    {
     "data": {
      "image/png": "[encoded data removed]",
      "text/plain": [
       "<Figure size 2160x720 with 3 Axes>"
      ]
     },
     "metadata": {},
     "output_type": "display_data"
    }
   ],
   "source": [
    "_, ax = plt.subplots(1, 3, figsize=(30, 10))\n",
    "\n",
    "ax[0].plot(history.history['loss'], label='train_loss')\n",
    "ax[0].plot(history.history['val_loss'], label='val_loss')\n",
    "ax[0].set_ylabel('Loss')\n",
    "ax[0].set_xlabel('Epoch')\n",
    "ax[0].set_title(\"Model Loss Curve\")\n",
    "ax[0].legend()\n",
    "ax[0].grid()\n",
    "\n",
    "ax[1].plot(history.history['f1_score'], label='train_f1_score')\n",
    "ax[1].plot(history.history['val_f1_score'], label='val_f1_score')\n",
    "ax[1].set_ylabel('F1-Score')\n",
    "ax[1].set_xlabel('Epoch')\n",
    "ax[1].set_title(\"Model F1-Score Curve\")\n",
    "ax[1].legend()\n",
    "ax[1].grid()\n",
    "\n",
    "ax[2].plot(history.history['categorical_accuracy'], label='train_accuracy')\n",
    "ax[2].plot(history.history['val_categorical_accuracy'], label='val_accuracy')\n",
    "ax[2].set_ylabel('Accuracy')\n",
    "ax[2].set_xlabel('Epoch')\n",
    "ax[2].set_title(\"Model Accuracy Curve\")\n",
    "ax[2].legend()\n",
    "ax[2].grid()"
   ]
  },
  {
   "cell_type": "markdown",
   "metadata": {
    "papermill": {
     "duration": 1.706494,
     "end_time": "2021-01-23T16:23:19.431599",
     "exception": false,
     "start_time": "2021-01-23T16:23:17.725105",
     "status": "completed"
    },
    "tags": []
   },
   "source": [
    "## Check classification report"
   ]
  },
  {
   "cell_type": "code",
   "execution_count": 18,
   "metadata": {
    "execution": {
     "iopub.execute_input": "2021-01-23T16:23:23.363263Z",
     "iopub.status.busy": "2021-01-23T16:23:23.362385Z",
     "iopub.status.idle": "2021-01-23T16:23:33.898816Z",
     "shell.execute_reply": "2021-01-23T16:23:33.899523Z"
    },
    "papermill": {
     "duration": 12.494938,
     "end_time": "2021-01-23T16:23:33.899691",
     "exception": false,
     "start_time": "2021-01-23T16:23:21.404753",
     "status": "completed"
    },
    "tags": []
   },
   "outputs": [],
   "source": [
    "model = load_model('./hackerearth_holiday_season_model.h5')"
   ]
  },
  {
   "cell_type": "code",
   "execution_count": 19,
   "metadata": {
    "execution": {
     "iopub.execute_input": "2021-01-23T16:23:35.033040Z",
     "iopub.status.busy": "2021-01-23T16:23:35.032269Z",
     "iopub.status.idle": "2021-01-23T16:23:44.498797Z",
     "shell.execute_reply": "2021-01-23T16:23:44.498317Z"
    },
    "papermill": {
     "duration": 10.04133,
     "end_time": "2021-01-23T16:23:44.498896",
     "exception": false,
     "start_time": "2021-01-23T16:23:34.457566",
     "status": "completed"
    },
    "tags": []
   },
   "outputs": [
    {
     "name": "stdout",
     "output_type": "stream",
     "text": [
      "8/8 [==============================] - 6s 699ms/step\n",
      "\n",
      "y_true: (971,)\n",
      "y_pred: (971,)\n"
     ]
    }
   ],
   "source": [
    "y_true = np.array([validation_generator.classes]).ravel()\n",
    "y_pred = model.predict(validation_generator, verbose=1)\n",
    "y_pred = np.argmax(y_pred, axis=1)\n",
    "\n",
    "print(\"\\ny_true: {}\".format(y_true.shape))\n",
    "print(\"y_pred: {}\".format(y_pred.shape))"
   ]
  },
  {
   "cell_type": "code",
   "execution_count": 20,
   "metadata": {
    "execution": {
     "iopub.execute_input": "2021-01-23T16:23:45.244940Z",
     "iopub.status.busy": "2021-01-23T16:23:45.244105Z",
     "iopub.status.idle": "2021-01-23T16:23:45.255784Z",
     "shell.execute_reply": "2021-01-23T16:23:45.255218Z"
    },
    "papermill": {
     "duration": 0.376017,
     "end_time": "2021-01-23T16:23:45.255956",
     "exception": false,
     "start_time": "2021-01-23T16:23:44.879939",
     "status": "completed"
    },
    "tags": []
   },
   "outputs": [
    {
     "name": "stdout",
     "output_type": "stream",
     "text": [
      "              precision    recall  f1-score   support\n",
      "\n",
      "           0       0.96      0.88      0.92        80\n",
      "           1       0.92      0.92      0.92        89\n",
      "           2       0.94      0.92      0.93       231\n",
      "           3       0.95      0.97      0.96        96\n",
      "           4       0.94      0.95      0.94       421\n",
      "           5       0.82      0.91      0.86        54\n",
      "\n",
      "    accuracy                           0.93       971\n",
      "   macro avg       0.92      0.92      0.92       971\n",
      "weighted avg       0.93      0.93      0.93       971\n",
      "\n"
     ]
    }
   ],
   "source": [
    "print(classification_report(y_true, y_pred))"
   ]
  },
  {
   "cell_type": "code",
   "execution_count": 21,
   "metadata": {
    "execution": {
     "iopub.execute_input": "2021-01-23T16:23:45.984010Z",
     "iopub.status.busy": "2021-01-23T16:23:45.983070Z",
     "iopub.status.idle": "2021-01-23T16:23:46.370792Z",
     "shell.execute_reply": "2021-01-23T16:23:46.370071Z"
    },
    "papermill": {
     "duration": 0.756093,
     "end_time": "2021-01-23T16:23:46.370926",
     "exception": false,
     "start_time": "2021-01-23T16:23:45.614833",
     "status": "completed"
    },
    "tags": []
   },
   "outputs": [
    {
     "data": {
      "image/png": "[encoded data removed]",
      "text/plain": [
       "<Figure size 864x504 with 2 Axes>"
      ]
     },
     "metadata": {},
     "output_type": "display_data"
    }
   ],
   "source": [
    "cnf_matrix = confusion_matrix(y_true, y_pred, labels=[0, 1, 2, 3, 4, 5])\n",
    "np.set_printoptions(precision=2)\n",
    "plt.figure(figsize=(12,7))\n",
    "plot_confusion_matrix(cnf_matrix, classes=[0, 1, 2, 3, 4, 5])"
   ]
  },
  {
   "cell_type": "markdown",
   "metadata": {
    "papermill": {
     "duration": 0.350784,
     "end_time": "2021-01-23T16:23:47.086339",
     "exception": false,
     "start_time": "2021-01-23T16:23:46.735555",
     "status": "completed"
    },
    "tags": []
   },
   "source": [
    "## Create submission file"
   ]
  },
  {
   "cell_type": "code",
   "execution_count": 22,
   "metadata": {
    "execution": {
     "iopub.execute_input": "2021-01-23T16:23:47.787401Z",
     "iopub.status.busy": "2021-01-23T16:23:47.786814Z",
     "iopub.status.idle": "2021-01-23T16:23:47.791148Z",
     "shell.execute_reply": "2021-01-23T16:23:47.790676Z"
    },
    "papermill": {
     "duration": 0.357724,
     "end_time": "2021-01-23T16:23:47.791235",
     "exception": false,
     "start_time": "2021-01-23T16:23:47.433511",
     "status": "completed"
    },
    "tags": []
   },
   "outputs": [],
   "source": [
    "rev_class_map = {\n",
    "    0: 'Airplane',\n",
    "    1: 'Candle',\n",
    "    2: 'Christmas_Tree',\n",
    "    3: 'Jacket',\n",
    "    4: 'Miscellaneous',\n",
    "    5: 'Snowman'\n",
    "}"
   ]
  },
  {
   "cell_type": "code",
   "execution_count": 23,
   "metadata": {
    "execution": {
     "iopub.execute_input": "2021-01-23T16:23:48.502113Z",
     "iopub.status.busy": "2021-01-23T16:23:48.501542Z",
     "iopub.status.idle": "2021-01-23T16:24:27.251780Z",
     "shell.execute_reply": "2021-01-23T16:24:27.252182Z"
    },
    "papermill": {
     "duration": 39.104191,
     "end_time": "2021-01-23T16:24:27.252342",
     "exception": false,
     "start_time": "2021-01-23T16:23:48.148151",
     "status": "completed"
    },
    "tags": []
   },
   "outputs": [
    {
     "name": "stdout",
     "output_type": "stream",
     "text": [
      "28/28 [==============================] - 37s 1s/step\n",
      "(3489,)\n"
     ]
    }
   ],
   "source": [
    "y_pred_final = model.predict(test_generator, verbose=1)\n",
    "y_pred_final = np.argmax(y_pred_final, axis=1)\n",
    "print(y_pred_final.shape)"
   ]
  },
  {
   "cell_type": "code",
   "execution_count": 24,
   "metadata": {
    "execution": {
     "iopub.execute_input": "2021-01-23T16:24:27.985962Z",
     "iopub.status.busy": "2021-01-23T16:24:27.984981Z",
     "iopub.status.idle": "2021-01-23T16:24:27.989339Z",
     "shell.execute_reply": "2021-01-23T16:24:27.988573Z"
    },
    "papermill": {
     "duration": 0.376362,
     "end_time": "2021-01-23T16:24:27.989436",
     "exception": false,
     "start_time": "2021-01-23T16:24:27.613074",
     "status": "completed"
    },
    "tags": []
   },
   "outputs": [
    {
     "data": {
      "text/html": [
       "<div>\n",
       "<style scoped>\n",
       "    .dataframe tbody tr th:only-of-type {\n",
       "        vertical-align: middle;\n",
       "    }\n",
       "\n",
       "    .dataframe tbody tr th {\n",
       "        vertical-align: top;\n",
       "    }\n",
       "\n",
       "    .dataframe thead th {\n",
       "        text-align: right;\n",
       "    }\n",
       "</style>\n",
       "<table border=\"1\" class=\"dataframe\">\n",
       "  <thead>\n",
       "    <tr style=\"text-align: right;\">\n",
       "      <th></th>\n",
       "      <th>Image</th>\n",
       "      <th>Class</th>\n",
       "    </tr>\n",
       "  </thead>\n",
       "  <tbody>\n",
       "    <tr>\n",
       "      <th>0</th>\n",
       "      <td>image7761.jpg</td>\n",
       "      <td>Miscellaneous</td>\n",
       "    </tr>\n",
       "    <tr>\n",
       "      <th>1</th>\n",
       "      <td>image3202.jpg</td>\n",
       "      <td>Miscellaneous</td>\n",
       "    </tr>\n",
       "    <tr>\n",
       "      <th>2</th>\n",
       "      <td>image688.jpg</td>\n",
       "      <td>Snowman</td>\n",
       "    </tr>\n",
       "    <tr>\n",
       "      <th>3</th>\n",
       "      <td>image233.jpg</td>\n",
       "      <td>Candle</td>\n",
       "    </tr>\n",
       "    <tr>\n",
       "      <th>4</th>\n",
       "      <td>image4332.jpg</td>\n",
       "      <td>Christmas_Tree</td>\n",
       "    </tr>\n",
       "  </tbody>\n",
       "</table>\n",
       "</div>"
      ],
      "text/plain": [
       "           Image           Class\n",
       "0  image7761.jpg   Miscellaneous\n",
       "1  image3202.jpg   Miscellaneous\n",
       "2   image688.jpg         Snowman\n",
       "3   image233.jpg          Candle\n",
       "4  image4332.jpg  Christmas_Tree"
      ]
     },
     "execution_count": 24,
     "metadata": {},
     "output_type": "execute_result"
    }
   ],
   "source": [
    "test_df['Class'] = y_pred_final\n",
    "test_df['Class'] = test_df['Class'].map(rev_class_map)\n",
    "test_df.head()"
   ]
  },
  {
   "cell_type": "code",
   "execution_count": 25,
   "metadata": {
    "execution": {
     "iopub.execute_input": "2021-01-23T16:24:28.736003Z",
     "iopub.status.busy": "2021-01-23T16:24:28.735461Z",
     "iopub.status.idle": "2021-01-23T16:24:28.937642Z",
     "shell.execute_reply": "2021-01-23T16:24:28.936659Z"
    },
    "papermill": {
     "duration": 0.583659,
     "end_time": "2021-01-23T16:24:28.937755",
     "exception": false,
     "start_time": "2021-01-23T16:24:28.354096",
     "status": "completed"
    },
    "tags": []
   },
   "outputs": [],
   "source": [
    "test_df.to_csv(\"/kaggle/working/submission.csv\", index=False)"
   ]
  },
  {
   "cell_type": "code",
   "execution_count": null,
   "metadata": {
    "papermill": {
     "duration": 0.360777,
     "end_time": "2021-01-23T16:24:29.659359",
     "exception": false,
     "start_time": "2021-01-23T16:24:29.298582",
     "status": "completed"
    },
    "tags": []
   },
   "outputs": [],
   "source": []
  }
 ],
 "metadata": {
  "kernelspec": {
   "display_name": "Python 3",
   "language": "python",
   "name": "python3"
  },
  "language_info": {
   "codemirror_mode": {
    "name": "ipython",
    "version": 3
   },
   "file_extension": ".py",
   "mimetype": "text/x-python",
   "name": "python",
   "nbconvert_exporter": "python",
   "pygments_lexer": "ipython3",
   "version": "3.7.6"
  },
  "papermill": {
   "duration": 4085.823572,
   "end_time": "2021-01-23T16:24:31.887661",
   "environment_variables": {},
   "exception": null,
   "input_path": "__notebook__.ipynb",
   "output_path": "__notebook__.ipynb",
   "parameters": {},
   "start_time": "2021-01-23T15:16:26.064089",
   "version": "2.1.0"
  }
 },
 "nbformat": 4,
 "nbformat_minor": 4
}
