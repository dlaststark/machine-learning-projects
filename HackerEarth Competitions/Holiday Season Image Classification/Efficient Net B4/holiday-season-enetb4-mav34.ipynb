{
 "cells": [
  {
   "cell_type": "markdown",
   "metadata": {
    "papermill": {
     "duration": 0.031574,
     "end_time": "2021-01-23T18:23:26.100461",
     "exception": false,
     "start_time": "2021-01-23T18:23:26.068887",
     "status": "completed"
    },
    "tags": []
   },
   "source": [
    "## Import Packages"
   ]
  },
  {
   "cell_type": "code",
   "execution_count": 1,
   "metadata": {
    "execution": {
     "iopub.execute_input": "2021-01-23T18:23:26.174144Z",
     "iopub.status.busy": "2021-01-23T18:23:26.168553Z",
     "iopub.status.idle": "2021-01-23T18:23:31.979604Z",
     "shell.execute_reply": "2021-01-23T18:23:31.978272Z"
    },
    "papermill": {
     "duration": 5.849247,
     "end_time": "2021-01-23T18:23:31.979756",
     "exception": false,
     "start_time": "2021-01-23T18:23:26.130509",
     "status": "completed"
    },
    "tags": []
   },
   "outputs": [],
   "source": [
    "import os\n",
    "import itertools\n",
    "import numpy as np\n",
    "import pandas as pd\n",
    "import seaborn as sns\n",
    "from tqdm import tqdm\n",
    "import matplotlib.pyplot as plt\n",
    "from sklearn.metrics import confusion_matrix\n",
    "from sklearn.metrics import classification_report\n",
    "from sklearn.model_selection import StratifiedShuffleSplit\n",
    "\n",
    "import tensorflow as tf\n",
    "from tensorflow.keras import backend as K\n",
    "from tensorflow.keras.regularizers import l2\n",
    "from tensorflow_addons.metrics import F1Score\n",
    "from tensorflow.keras.models import Model, load_model\n",
    "from tensorflow_addons.optimizers import AdamW, Lookahead\n",
    "from tensorflow.keras.callbacks import EarlyStopping\n",
    "from tensorflow.keras.callbacks import ReduceLROnPlateau\n",
    "from tensorflow.keras.callbacks import ModelCheckpoint\n",
    "from tensorflow.keras.applications import EfficientNetB4\n",
    "from tensorflow.keras.layers import Dense, Dropout, Flatten\n",
    "from tensorflow.keras.layers import BatchNormalization, Input\n",
    "from tensorflow.keras.layers import ZeroPadding2D, MaxPooling2D\n",
    "from tensorflow.keras.layers import GlobalAveragePooling2D, Add\n",
    "from tensorflow.keras.layers import GlobalMaxPooling2D, Reshape\n",
    "from tensorflow.keras.layers import Activation, Conv2D, Average\n",
    "from tensorflow.keras.preprocessing.image import ImageDataGenerator"
   ]
  },
  {
   "cell_type": "markdown",
   "metadata": {
    "papermill": {
     "duration": 0.026665,
     "end_time": "2021-01-23T18:23:32.033135",
     "exception": false,
     "start_time": "2021-01-23T18:23:32.006470",
     "status": "completed"
    },
    "tags": []
   },
   "source": [
    "## Helper Functions"
   ]
  },
  {
   "cell_type": "code",
   "execution_count": 2,
   "metadata": {
    "execution": {
     "iopub.execute_input": "2021-01-23T18:23:32.101338Z",
     "iopub.status.busy": "2021-01-23T18:23:32.100639Z",
     "iopub.status.idle": "2021-01-23T18:23:32.104435Z",
     "shell.execute_reply": "2021-01-23T18:23:32.103908Z"
    },
    "papermill": {
     "duration": 0.042719,
     "end_time": "2021-01-23T18:23:32.104534",
     "exception": false,
     "start_time": "2021-01-23T18:23:32.061815",
     "status": "completed"
    },
    "tags": []
   },
   "outputs": [],
   "source": [
    "def plot_confusion_matrix(cm, classes):\n",
    "\n",
    "    plt.imshow(cm, interpolation='nearest', cmap=plt.cm.Blues)\n",
    "    plt.title('Confusion matrix')\n",
    "    plt.colorbar()\n",
    "    tick_marks = np.arange(len(classes))\n",
    "    plt.xticks(tick_marks, classes, rotation=0)\n",
    "    plt.yticks(tick_marks, classes)\n",
    "\n",
    "    thresh = cm.max() / 2.\n",
    "    for i, j in itertools.product(range(cm.shape[0]), range(cm.shape[1])):\n",
    "        plt.text(j, i, format(cm[i, j], 'd'),\n",
    "                 horizontalalignment=\"center\",\n",
    "                 color=\"white\" if cm[i, j] > thresh else \"black\")\n",
    "\n",
    "    plt.ylabel('True label')\n",
    "    plt.xlabel('Predicted label')\n",
    "    plt.tight_layout()"
   ]
  },
  {
   "cell_type": "markdown",
   "metadata": {
    "papermill": {
     "duration": 0.025615,
     "end_time": "2021-01-23T18:23:32.156507",
     "exception": false,
     "start_time": "2021-01-23T18:23:32.130892",
     "status": "completed"
    },
    "tags": []
   },
   "source": [
    "## Read true labels + Basic EDA"
   ]
  },
  {
   "cell_type": "code",
   "execution_count": 3,
   "metadata": {
    "execution": {
     "iopub.execute_input": "2021-01-23T18:23:32.221618Z",
     "iopub.status.busy": "2021-01-23T18:23:32.220923Z",
     "iopub.status.idle": "2021-01-23T18:23:32.256208Z",
     "shell.execute_reply": "2021-01-23T18:23:32.255293Z"
    },
    "papermill": {
     "duration": 0.073244,
     "end_time": "2021-01-23T18:23:32.256331",
     "exception": false,
     "start_time": "2021-01-23T18:23:32.183087",
     "status": "completed"
    },
    "tags": []
   },
   "outputs": [
    {
     "data": {
      "text/html": [
       "<div>\n",
       "<style scoped>\n",
       "    .dataframe tbody tr th:only-of-type {\n",
       "        vertical-align: middle;\n",
       "    }\n",
       "\n",
       "    .dataframe tbody tr th {\n",
       "        vertical-align: top;\n",
       "    }\n",
       "\n",
       "    .dataframe thead th {\n",
       "        text-align: right;\n",
       "    }\n",
       "</style>\n",
       "<table border=\"1\" class=\"dataframe\">\n",
       "  <thead>\n",
       "    <tr style=\"text-align: right;\">\n",
       "      <th></th>\n",
       "      <th>Image</th>\n",
       "      <th>Class</th>\n",
       "    </tr>\n",
       "  </thead>\n",
       "  <tbody>\n",
       "    <tr>\n",
       "      <th>0</th>\n",
       "      <td>image3476.jpg</td>\n",
       "      <td>Miscellaneous</td>\n",
       "    </tr>\n",
       "    <tr>\n",
       "      <th>1</th>\n",
       "      <td>image5198.jpg</td>\n",
       "      <td>Candle</td>\n",
       "    </tr>\n",
       "    <tr>\n",
       "      <th>2</th>\n",
       "      <td>image4183.jpg</td>\n",
       "      <td>Snowman</td>\n",
       "    </tr>\n",
       "    <tr>\n",
       "      <th>3</th>\n",
       "      <td>image1806.jpg</td>\n",
       "      <td>Miscellaneous</td>\n",
       "    </tr>\n",
       "    <tr>\n",
       "      <th>4</th>\n",
       "      <td>image7831.jpg</td>\n",
       "      <td>Miscellaneous</td>\n",
       "    </tr>\n",
       "  </tbody>\n",
       "</table>\n",
       "</div>"
      ],
      "text/plain": [
       "           Image          Class\n",
       "0  image3476.jpg  Miscellaneous\n",
       "1  image5198.jpg         Candle\n",
       "2  image4183.jpg        Snowman\n",
       "3  image1806.jpg  Miscellaneous\n",
       "4  image7831.jpg  Miscellaneous"
      ]
     },
     "execution_count": 3,
     "metadata": {},
     "output_type": "execute_result"
    }
   ],
   "source": [
    "train_df = pd.read_csv(\"../input/hackereath-holiday-season-deep-learning-contest/dataset/train.csv\")\n",
    "train_df.head()"
   ]
  },
  {
   "cell_type": "code",
   "execution_count": 4,
   "metadata": {
    "execution": {
     "iopub.execute_input": "2021-01-23T18:23:32.316983Z",
     "iopub.status.busy": "2021-01-23T18:23:32.316222Z",
     "iopub.status.idle": "2021-01-23T18:23:32.320069Z",
     "shell.execute_reply": "2021-01-23T18:23:32.319551Z"
    },
    "papermill": {
     "duration": 0.035606,
     "end_time": "2021-01-23T18:23:32.320156",
     "exception": false,
     "start_time": "2021-01-23T18:23:32.284550",
     "status": "completed"
    },
    "tags": []
   },
   "outputs": [],
   "source": [
    "class_map = {\n",
    "    'Airplane': 0,\n",
    "    'Candle': 1,\n",
    "    'Christmas_Tree': 2,\n",
    "    'Jacket': 3,\n",
    "    'Miscellaneous': 4,\n",
    "    'Snowman': 5\n",
    "}"
   ]
  },
  {
   "cell_type": "code",
   "execution_count": 5,
   "metadata": {
    "execution": {
     "iopub.execute_input": "2021-01-23T18:23:32.392579Z",
     "iopub.status.busy": "2021-01-23T18:23:32.391572Z",
     "iopub.status.idle": "2021-01-23T18:23:32.405947Z",
     "shell.execute_reply": "2021-01-23T18:23:32.405221Z"
    },
    "papermill": {
     "duration": 0.059464,
     "end_time": "2021-01-23T18:23:32.406053",
     "exception": false,
     "start_time": "2021-01-23T18:23:32.346589",
     "status": "completed"
    },
    "tags": []
   },
   "outputs": [
    {
     "data": {
      "text/html": [
       "<div>\n",
       "<style scoped>\n",
       "    .dataframe tbody tr th:only-of-type {\n",
       "        vertical-align: middle;\n",
       "    }\n",
       "\n",
       "    .dataframe tbody tr th {\n",
       "        vertical-align: top;\n",
       "    }\n",
       "\n",
       "    .dataframe thead th {\n",
       "        text-align: right;\n",
       "    }\n",
       "</style>\n",
       "<table border=\"1\" class=\"dataframe\">\n",
       "  <thead>\n",
       "    <tr style=\"text-align: right;\">\n",
       "      <th></th>\n",
       "      <th>Class</th>\n",
       "      <th>Class_enc</th>\n",
       "      <th>Count</th>\n",
       "    </tr>\n",
       "  </thead>\n",
       "  <tbody>\n",
       "    <tr>\n",
       "      <th>0</th>\n",
       "      <td>Airplane</td>\n",
       "      <td>0</td>\n",
       "      <td>535</td>\n",
       "    </tr>\n",
       "    <tr>\n",
       "      <th>1</th>\n",
       "      <td>Candle</td>\n",
       "      <td>1</td>\n",
       "      <td>593</td>\n",
       "    </tr>\n",
       "    <tr>\n",
       "      <th>2</th>\n",
       "      <td>Christmas_Tree</td>\n",
       "      <td>2</td>\n",
       "      <td>1539</td>\n",
       "    </tr>\n",
       "    <tr>\n",
       "      <th>3</th>\n",
       "      <td>Jacket</td>\n",
       "      <td>3</td>\n",
       "      <td>640</td>\n",
       "    </tr>\n",
       "    <tr>\n",
       "      <th>4</th>\n",
       "      <td>Miscellaneous</td>\n",
       "      <td>4</td>\n",
       "      <td>2801</td>\n",
       "    </tr>\n",
       "    <tr>\n",
       "      <th>5</th>\n",
       "      <td>Snowman</td>\n",
       "      <td>5</td>\n",
       "      <td>361</td>\n",
       "    </tr>\n",
       "  </tbody>\n",
       "</table>\n",
       "</div>"
      ],
      "text/plain": [
       "            Class Class_enc  Count\n",
       "0        Airplane         0    535\n",
       "1          Candle         1    593\n",
       "2  Christmas_Tree         2   1539\n",
       "3          Jacket         3    640\n",
       "4   Miscellaneous         4   2801\n",
       "5         Snowman         5    361"
      ]
     },
     "execution_count": 5,
     "metadata": {},
     "output_type": "execute_result"
    }
   ],
   "source": [
    "train_df['Class_enc'] = train_df['Class'].map(class_map)\n",
    "train_df['Class_enc'] = train_df['Class_enc'].astype('str')\n",
    "train_df.groupby(['Class','Class_enc']).size().reset_index().rename(columns={0:'Count'})"
   ]
  },
  {
   "cell_type": "code",
   "execution_count": 6,
   "metadata": {
    "execution": {
     "iopub.execute_input": "2021-01-23T18:23:32.466182Z",
     "iopub.status.busy": "2021-01-23T18:23:32.465398Z",
     "iopub.status.idle": "2021-01-23T18:23:32.705809Z",
     "shell.execute_reply": "2021-01-23T18:23:32.706463Z"
    },
    "papermill": {
     "duration": 0.272721,
     "end_time": "2021-01-23T18:23:32.706630",
     "exception": false,
     "start_time": "2021-01-23T18:23:32.433909",
     "status": "completed"
    },
    "tags": []
   },
   "outputs": [
    {
     "data": {
      "image/png": "[encoded data removed]",
      "text/plain": [
       "<Figure size 864x504 with 1 Axes>"
      ]
     },
     "metadata": {
      "needs_background": "light"
     },
     "output_type": "display_data"
    }
   ],
   "source": [
    "plt.figure(figsize=(12,7))\n",
    "sns.set(style=\"darkgrid\")\n",
    "ax = sns.countplot(x=\"Class\", data=train_df)"
   ]
  },
  {
   "cell_type": "code",
   "execution_count": 7,
   "metadata": {
    "execution": {
     "iopub.execute_input": "2021-01-23T18:23:32.776289Z",
     "iopub.status.busy": "2021-01-23T18:23:32.775508Z",
     "iopub.status.idle": "2021-01-23T18:23:33.074004Z",
     "shell.execute_reply": "2021-01-23T18:23:33.073401Z"
    },
    "papermill": {
     "duration": 0.335888,
     "end_time": "2021-01-23T18:23:33.074119",
     "exception": false,
     "start_time": "2021-01-23T18:23:32.738231",
     "status": "completed"
    },
    "tags": []
   },
   "outputs": [
    {
     "name": "stderr",
     "output_type": "stream",
     "text": [
      "100%|██████████| 3489/3489 [00:00<00:00, 754559.49it/s]\n"
     ]
    },
    {
     "data": {
      "text/html": [
       "<div>\n",
       "<style scoped>\n",
       "    .dataframe tbody tr th:only-of-type {\n",
       "        vertical-align: middle;\n",
       "    }\n",
       "\n",
       "    .dataframe tbody tr th {\n",
       "        vertical-align: top;\n",
       "    }\n",
       "\n",
       "    .dataframe thead th {\n",
       "        text-align: right;\n",
       "    }\n",
       "</style>\n",
       "<table border=\"1\" class=\"dataframe\">\n",
       "  <thead>\n",
       "    <tr style=\"text-align: right;\">\n",
       "      <th></th>\n",
       "      <th>Image</th>\n",
       "      <th>Class</th>\n",
       "    </tr>\n",
       "  </thead>\n",
       "  <tbody>\n",
       "    <tr>\n",
       "      <th>0</th>\n",
       "      <td>image7761.jpg</td>\n",
       "      <td>0</td>\n",
       "    </tr>\n",
       "    <tr>\n",
       "      <th>1</th>\n",
       "      <td>image3202.jpg</td>\n",
       "      <td>0</td>\n",
       "    </tr>\n",
       "    <tr>\n",
       "      <th>2</th>\n",
       "      <td>image688.jpg</td>\n",
       "      <td>0</td>\n",
       "    </tr>\n",
       "    <tr>\n",
       "      <th>3</th>\n",
       "      <td>image233.jpg</td>\n",
       "      <td>0</td>\n",
       "    </tr>\n",
       "    <tr>\n",
       "      <th>4</th>\n",
       "      <td>image4332.jpg</td>\n",
       "      <td>0</td>\n",
       "    </tr>\n",
       "  </tbody>\n",
       "</table>\n",
       "</div>"
      ],
      "text/plain": [
       "           Image Class\n",
       "0  image7761.jpg     0\n",
       "1  image3202.jpg     0\n",
       "2   image688.jpg     0\n",
       "3   image233.jpg     0\n",
       "4  image4332.jpg     0"
      ]
     },
     "execution_count": 7,
     "metadata": {},
     "output_type": "execute_result"
    }
   ],
   "source": [
    "test_dir = \"../input/hackereath-holiday-season-deep-learning-contest/dataset/test\"\n",
    "test_files = []\n",
    "\n",
    "for file in tqdm(os.listdir(test_dir)):\n",
    "    test_files.append(file)\n",
    "\n",
    "test_df = pd.DataFrame(test_files, columns=['Image'])\n",
    "test_df['Class'] = '0'\n",
    "test_df.head()"
   ]
  },
  {
   "cell_type": "markdown",
   "metadata": {
    "papermill": {
     "duration": 0.032822,
     "end_time": "2021-01-23T18:23:33.141004",
     "exception": false,
     "start_time": "2021-01-23T18:23:33.108182",
     "status": "completed"
    },
    "tags": []
   },
   "source": [
    "## Calculate class-weights"
   ]
  },
  {
   "cell_type": "code",
   "execution_count": 8,
   "metadata": {
    "execution": {
     "iopub.execute_input": "2021-01-23T18:23:33.213559Z",
     "iopub.status.busy": "2021-01-23T18:23:33.211905Z",
     "iopub.status.idle": "2021-01-23T18:23:33.236152Z",
     "shell.execute_reply": "2021-01-23T18:23:33.235540Z"
    },
    "papermill": {
     "duration": 0.064134,
     "end_time": "2021-01-23T18:23:33.236252",
     "exception": false,
     "start_time": "2021-01-23T18:23:33.172118",
     "status": "completed"
    },
    "tags": []
   },
   "outputs": [
    {
     "data": {
      "text/plain": [
       "{0: 0.6747663551401869,\n",
       " 1: 0.6087689713322091,\n",
       " 2: 0.23456790123456786,\n",
       " 3: 0.5640625,\n",
       " 4: 0.12888254194930382,\n",
       " 5: 1.0}"
      ]
     },
     "execution_count": 8,
     "metadata": {},
     "output_type": "execute_result"
    }
   ],
   "source": [
    "temp_df = train_df.groupby(['Class_enc']).size().reset_index().rename(columns={0:'count'})\n",
    "total_count = np.sum(temp_df['count'].values)\n",
    "temp_df['class%'] = (temp_df['count'] / total_count) * 100\n",
    "lowest_pct = min(temp_df['class%'])\n",
    "temp_df['class_weight'] = lowest_pct / temp_df['class%']\n",
    "class_weight = temp_df[['Class_enc', 'class_weight']].to_dict()['class_weight']\n",
    "class_weight"
   ]
  },
  {
   "cell_type": "markdown",
   "metadata": {
    "papermill": {
     "duration": 0.03017,
     "end_time": "2021-01-23T18:23:33.296227",
     "exception": false,
     "start_time": "2021-01-23T18:23:33.266057",
     "status": "completed"
    },
    "tags": []
   },
   "source": [
    "## Split training data into train/validation datasets"
   ]
  },
  {
   "cell_type": "code",
   "execution_count": 9,
   "metadata": {
    "execution": {
     "iopub.execute_input": "2021-01-23T18:23:33.376453Z",
     "iopub.status.busy": "2021-01-23T18:23:33.375721Z",
     "iopub.status.idle": "2021-01-23T18:23:33.390673Z",
     "shell.execute_reply": "2021-01-23T18:23:33.390056Z"
    },
    "papermill": {
     "duration": 0.063027,
     "end_time": "2021-01-23T18:23:33.390782",
     "exception": false,
     "start_time": "2021-01-23T18:23:33.327755",
     "status": "completed"
    },
    "tags": []
   },
   "outputs": [
    {
     "name": "stdout",
     "output_type": "stream",
     "text": [
      "train_df shape: (5498, 3)\n",
      "validation_df shape: (971, 3)\n"
     ]
    }
   ],
   "source": [
    "sss = StratifiedShuffleSplit(n_splits=1, test_size=0.15, random_state=1)\n",
    "for train_index, validation_index in sss.split(train_df['Image'], train_df['Class_enc']):\n",
    "    train_df, validation_df = train_df.iloc[train_index], train_df.iloc[validation_index]\n",
    "\n",
    "print(\"train_df shape: {}\".format(train_df.shape))\n",
    "print(\"validation_df shape: {}\".format(validation_df.shape))"
   ]
  },
  {
   "cell_type": "code",
   "execution_count": 10,
   "metadata": {
    "execution": {
     "iopub.execute_input": "2021-01-23T18:23:33.494732Z",
     "iopub.status.busy": "2021-01-23T18:23:33.493786Z",
     "iopub.status.idle": "2021-01-23T18:23:33.508464Z",
     "shell.execute_reply": "2021-01-23T18:23:33.507811Z"
    },
    "papermill": {
     "duration": 0.051172,
     "end_time": "2021-01-23T18:23:33.508564",
     "exception": false,
     "start_time": "2021-01-23T18:23:33.457392",
     "status": "completed"
    },
    "tags": []
   },
   "outputs": [
    {
     "data": {
      "text/html": [
       "<div>\n",
       "<style scoped>\n",
       "    .dataframe tbody tr th:only-of-type {\n",
       "        vertical-align: middle;\n",
       "    }\n",
       "\n",
       "    .dataframe tbody tr th {\n",
       "        vertical-align: top;\n",
       "    }\n",
       "\n",
       "    .dataframe thead th {\n",
       "        text-align: right;\n",
       "    }\n",
       "</style>\n",
       "<table border=\"1\" class=\"dataframe\">\n",
       "  <thead>\n",
       "    <tr style=\"text-align: right;\">\n",
       "      <th></th>\n",
       "      <th>Class</th>\n",
       "      <th>Class_enc</th>\n",
       "      <th>Count</th>\n",
       "    </tr>\n",
       "  </thead>\n",
       "  <tbody>\n",
       "    <tr>\n",
       "      <th>0</th>\n",
       "      <td>Airplane</td>\n",
       "      <td>0</td>\n",
       "      <td>455</td>\n",
       "    </tr>\n",
       "    <tr>\n",
       "      <th>1</th>\n",
       "      <td>Candle</td>\n",
       "      <td>1</td>\n",
       "      <td>504</td>\n",
       "    </tr>\n",
       "    <tr>\n",
       "      <th>2</th>\n",
       "      <td>Christmas_Tree</td>\n",
       "      <td>2</td>\n",
       "      <td>1308</td>\n",
       "    </tr>\n",
       "    <tr>\n",
       "      <th>3</th>\n",
       "      <td>Jacket</td>\n",
       "      <td>3</td>\n",
       "      <td>544</td>\n",
       "    </tr>\n",
       "    <tr>\n",
       "      <th>4</th>\n",
       "      <td>Miscellaneous</td>\n",
       "      <td>4</td>\n",
       "      <td>2380</td>\n",
       "    </tr>\n",
       "    <tr>\n",
       "      <th>5</th>\n",
       "      <td>Snowman</td>\n",
       "      <td>5</td>\n",
       "      <td>307</td>\n",
       "    </tr>\n",
       "  </tbody>\n",
       "</table>\n",
       "</div>"
      ],
      "text/plain": [
       "            Class Class_enc  Count\n",
       "0        Airplane         0    455\n",
       "1          Candle         1    504\n",
       "2  Christmas_Tree         2   1308\n",
       "3          Jacket         3    544\n",
       "4   Miscellaneous         4   2380\n",
       "5         Snowman         5    307"
      ]
     },
     "execution_count": 10,
     "metadata": {},
     "output_type": "execute_result"
    }
   ],
   "source": [
    "train_df.groupby(['Class','Class_enc']).size().reset_index().rename(columns={0:'Count'})"
   ]
  },
  {
   "cell_type": "code",
   "execution_count": 11,
   "metadata": {
    "execution": {
     "iopub.execute_input": "2021-01-23T18:23:33.575349Z",
     "iopub.status.busy": "2021-01-23T18:23:33.574357Z",
     "iopub.status.idle": "2021-01-23T18:23:33.587135Z",
     "shell.execute_reply": "2021-01-23T18:23:33.586642Z"
    },
    "papermill": {
     "duration": 0.047933,
     "end_time": "2021-01-23T18:23:33.587235",
     "exception": false,
     "start_time": "2021-01-23T18:23:33.539302",
     "status": "completed"
    },
    "tags": []
   },
   "outputs": [
    {
     "data": {
      "text/html": [
       "<div>\n",
       "<style scoped>\n",
       "    .dataframe tbody tr th:only-of-type {\n",
       "        vertical-align: middle;\n",
       "    }\n",
       "\n",
       "    .dataframe tbody tr th {\n",
       "        vertical-align: top;\n",
       "    }\n",
       "\n",
       "    .dataframe thead th {\n",
       "        text-align: right;\n",
       "    }\n",
       "</style>\n",
       "<table border=\"1\" class=\"dataframe\">\n",
       "  <thead>\n",
       "    <tr style=\"text-align: right;\">\n",
       "      <th></th>\n",
       "      <th>Class</th>\n",
       "      <th>Class_enc</th>\n",
       "      <th>Count</th>\n",
       "    </tr>\n",
       "  </thead>\n",
       "  <tbody>\n",
       "    <tr>\n",
       "      <th>0</th>\n",
       "      <td>Airplane</td>\n",
       "      <td>0</td>\n",
       "      <td>80</td>\n",
       "    </tr>\n",
       "    <tr>\n",
       "      <th>1</th>\n",
       "      <td>Candle</td>\n",
       "      <td>1</td>\n",
       "      <td>89</td>\n",
       "    </tr>\n",
       "    <tr>\n",
       "      <th>2</th>\n",
       "      <td>Christmas_Tree</td>\n",
       "      <td>2</td>\n",
       "      <td>231</td>\n",
       "    </tr>\n",
       "    <tr>\n",
       "      <th>3</th>\n",
       "      <td>Jacket</td>\n",
       "      <td>3</td>\n",
       "      <td>96</td>\n",
       "    </tr>\n",
       "    <tr>\n",
       "      <th>4</th>\n",
       "      <td>Miscellaneous</td>\n",
       "      <td>4</td>\n",
       "      <td>421</td>\n",
       "    </tr>\n",
       "    <tr>\n",
       "      <th>5</th>\n",
       "      <td>Snowman</td>\n",
       "      <td>5</td>\n",
       "      <td>54</td>\n",
       "    </tr>\n",
       "  </tbody>\n",
       "</table>\n",
       "</div>"
      ],
      "text/plain": [
       "            Class Class_enc  Count\n",
       "0        Airplane         0     80\n",
       "1          Candle         1     89\n",
       "2  Christmas_Tree         2    231\n",
       "3          Jacket         3     96\n",
       "4   Miscellaneous         4    421\n",
       "5         Snowman         5     54"
      ]
     },
     "execution_count": 11,
     "metadata": {},
     "output_type": "execute_result"
    }
   ],
   "source": [
    "validation_df.groupby(['Class','Class_enc']).size().reset_index().rename(columns={0:'Count'})"
   ]
  },
  {
   "cell_type": "markdown",
   "metadata": {
    "papermill": {
     "duration": 0.030614,
     "end_time": "2021-01-23T18:23:33.648891",
     "exception": false,
     "start_time": "2021-01-23T18:23:33.618277",
     "status": "completed"
    },
    "tags": []
   },
   "source": [
    "## Model Hyperparameters"
   ]
  },
  {
   "cell_type": "code",
   "execution_count": 12,
   "metadata": {
    "execution": {
     "iopub.execute_input": "2021-01-23T18:23:33.718593Z",
     "iopub.status.busy": "2021-01-23T18:23:33.717837Z",
     "iopub.status.idle": "2021-01-23T18:23:33.720962Z",
     "shell.execute_reply": "2021-01-23T18:23:33.720486Z"
    },
    "papermill": {
     "duration": 0.040519,
     "end_time": "2021-01-23T18:23:33.721056",
     "exception": false,
     "start_time": "2021-01-23T18:23:33.680537",
     "status": "completed"
    },
    "tags": []
   },
   "outputs": [],
   "source": [
    "dataset_dir = \"../input/hackereath-holiday-season-deep-learning-contest/dataset/\"\n",
    "mini_batch_size = 128\n",
    "steps_per_epoch = int(np.ceil(train_df.shape[0] / float(mini_batch_size)))\n",
    "validation_steps = int(np.ceil(validation_df.shape[0] / float(mini_batch_size)))\n",
    "test_steps = int(np.ceil(test_df.shape[0] / float(mini_batch_size)))\n",
    "image_dim = (320, 320, 3)"
   ]
  },
  {
   "cell_type": "markdown",
   "metadata": {
    "papermill": {
     "duration": 0.030514,
     "end_time": "2021-01-23T18:23:33.782110",
     "exception": false,
     "start_time": "2021-01-23T18:23:33.751596",
     "status": "completed"
    },
    "tags": []
   },
   "source": [
    "## Configure image generators"
   ]
  },
  {
   "cell_type": "code",
   "execution_count": 13,
   "metadata": {
    "execution": {
     "iopub.execute_input": "2021-01-23T18:23:33.876191Z",
     "iopub.status.busy": "2021-01-23T18:23:33.875534Z",
     "iopub.status.idle": "2021-01-23T18:23:50.781635Z",
     "shell.execute_reply": "2021-01-23T18:23:50.782241Z"
    },
    "papermill": {
     "duration": 16.969225,
     "end_time": "2021-01-23T18:23:50.782447",
     "exception": false,
     "start_time": "2021-01-23T18:23:33.813222",
     "status": "completed"
    },
    "tags": []
   },
   "outputs": [
    {
     "name": "stdout",
     "output_type": "stream",
     "text": [
      "Found 5498 validated image filenames belonging to 6 classes.\n",
      "Found 971 validated image filenames belonging to 6 classes.\n",
      "Found 3489 validated image filenames belonging to 1 classes.\n"
     ]
    }
   ],
   "source": [
    "train_datagen = ImageDataGenerator(rotation_range = 30,\n",
    "                                   zoom_range = 0.2,\n",
    "                                   horizontal_flip = True,\n",
    "                                   fill_mode = 'nearest',\n",
    "                                   height_shift_range = 0.1,\n",
    "                                   width_shift_range = 0.1)\n",
    "\n",
    "train_generator = train_datagen.flow_from_dataframe(train_df,\n",
    "                                                    directory = os.path.join(dataset_dir,\"train\"),\n",
    "                                                    x_col = \"Image\", \n",
    "                                                    y_col = \"Class_enc\",\n",
    "                                                    target_size = (image_dim[0], image_dim[1]),\n",
    "                                                    batch_size = mini_batch_size,\n",
    "                                                    class_mode = \"categorical\",\n",
    "                                                    interpolation=\"bicubic\")\n",
    "\n",
    "validation_datagen = ImageDataGenerator()\n",
    "\n",
    "validation_generator = validation_datagen.flow_from_dataframe(validation_df,\n",
    "                                                              directory = os.path.join(dataset_dir,\"train\"),\n",
    "                                                              x_col = \"Image\",\n",
    "                                                              y_col = \"Class_enc\",\n",
    "                                                              shuffle=False,\n",
    "                                                              target_size = (image_dim[0], image_dim[1]),\n",
    "                                                              batch_size = mini_batch_size,\n",
    "                                                              class_mode = \"categorical\",\n",
    "                                                              interpolation=\"bicubic\")\n",
    "\n",
    "test_datagen = ImageDataGenerator()\n",
    "\n",
    "test_generator = test_datagen.flow_from_dataframe(test_df,\n",
    "                                                  directory = os.path.join(dataset_dir,\"test\"),\n",
    "                                                  x_col = \"Image\",\n",
    "                                                  y_col = \"Class\",\n",
    "                                                  shuffle=False,\n",
    "                                                  target_size = (image_dim[0], image_dim[1]),\n",
    "                                                  batch_size = mini_batch_size,\n",
    "                                                  class_mode = \"categorical\",\n",
    "                                                  interpolation=\"bicubic\")"
   ]
  },
  {
   "cell_type": "markdown",
   "metadata": {
    "papermill": {
     "duration": 0.032911,
     "end_time": "2021-01-23T18:23:50.847948",
     "exception": false,
     "start_time": "2021-01-23T18:23:50.815037",
     "status": "completed"
    },
    "tags": []
   },
   "source": [
    "## Build and validate the model"
   ]
  },
  {
   "cell_type": "code",
   "execution_count": 14,
   "metadata": {
    "execution": {
     "iopub.execute_input": "2021-01-23T18:23:50.947668Z",
     "iopub.status.busy": "2021-01-23T18:23:50.941793Z",
     "iopub.status.idle": "2021-01-23T18:23:50.949750Z",
     "shell.execute_reply": "2021-01-23T18:23:50.950247Z"
    },
    "papermill": {
     "duration": 0.070254,
     "end_time": "2021-01-23T18:23:50.950383",
     "exception": false,
     "start_time": "2021-01-23T18:23:50.880129",
     "status": "completed"
    },
    "tags": []
   },
   "outputs": [],
   "source": [
    "def head(x_input, input_shape=1792, ratio=8):\n",
    "    \n",
    "    #=======================================================\n",
    "    #                    Channel Attention\n",
    "    #=======================================================\n",
    "    gapavg = GlobalAveragePooling2D()(x_input)\n",
    "    gapavg = Reshape((1, 1, gapavg.shape[1]))(gapavg)\n",
    "    gapavg = Conv2D(input_shape//ratio, \n",
    "                    kernel_size=1, strides=1, use_bias=True, \n",
    "                    padding='same', kernel_regularizer=l2(0.001), \n",
    "                    kernel_initializer='he_normal')(gapavg)\n",
    "    gapavg = BatchNormalization()(gapavg)\n",
    "    gapavg = Activation('relu')(gapavg)\n",
    "    gapavg_out = Conv2D(input_shape, kernel_size=1, \n",
    "                        strides=1, padding='same', use_bias=True, \n",
    "                        kernel_regularizer=l2(0.001), \n",
    "                        kernel_initializer='he_normal')(gapavg)\n",
    "    gapavg_out = BatchNormalization()(gapavg_out)\n",
    "    gapavg_out = Activation('relu')(gapavg_out)\n",
    "\n",
    "\n",
    "    gmpmax = GlobalMaxPooling2D()(x_input)\n",
    "    gmpmax = Reshape((1, 1, gmpmax.shape[1]))(gmpmax)\n",
    "    gmpmax = Conv2D(input_shape//ratio, \n",
    "                    kernel_size=1, strides=1, use_bias=True, \n",
    "                    padding='same', kernel_regularizer=l2(0.001), \n",
    "                    kernel_initializer='he_normal')(gmpmax)\n",
    "    gmpmax = BatchNormalization()(gmpmax)\n",
    "    gmpmax = Activation('relu')(gmpmax)\n",
    "    gmpmax_out = Conv2D(input_shape, kernel_size=1, \n",
    "                        strides=1, padding='same', use_bias=True, \n",
    "                        kernel_regularizer=l2(0.001), \n",
    "                        kernel_initializer='he_normal')(gmpmax)\n",
    "    gmpmax_out = BatchNormalization()(gmpmax_out)\n",
    "    gmpmax_out = Activation('relu')(gmpmax_out)\n",
    "    canx = x_input * tf.math.sigmoid(gapavg_out + gmpmax_out)\n",
    "\n",
    "\n",
    "    #=======================================================\n",
    "    #                    Spatial Attention\n",
    "    #=======================================================\n",
    "    avg_out = tf.reduce_mean(canx, axis=3)\n",
    "    max_out = tf.reduce_max(canx,  axis=3)\n",
    "    x = tf.stack([avg_out, max_out], axis=3)\n",
    "    \n",
    "    x = Conv2D(filters=64, kernel_size=3, strides=1, \n",
    "               padding='same', use_bias=False, \n",
    "               kernel_regularizer=l2(0.001), \n",
    "               kernel_initializer='he_normal')(x)\n",
    "    x = BatchNormalization()(x)\n",
    "    x = Activation('relu')(x)\n",
    "\n",
    "    x = Conv2D(filters=32, kernel_size=3, strides=1, \n",
    "               padding='same', use_bias=False, \n",
    "               kernel_regularizer=l2(0.001), \n",
    "               kernel_initializer='he_normal')(x)\n",
    "    x = BatchNormalization()(x)\n",
    "    x = Activation('relu')(x)\n",
    "\n",
    "    x = Conv2D(filters=16, kernel_size=3, strides=1, \n",
    "               padding='same', use_bias=False, \n",
    "               kernel_regularizer=l2(0.001), \n",
    "               kernel_initializer='he_normal')(x)\n",
    "    x = BatchNormalization()(x)\n",
    "    x = Activation('relu')(x)\n",
    "\n",
    "    x = Conv2D(filters=1, kernel_size=3, strides=1, \n",
    "               padding='same', use_bias=False, \n",
    "               kernel_regularizer=l2(0.001), \n",
    "               kernel_initializer='he_normal')(x)\n",
    "    x = BatchNormalization()(x)\n",
    "    x = Activation('sigmoid')(x)\n",
    "    spnx1 = canx * x\n",
    "    spnx2 = x\n",
    "    \n",
    "    gapx   = GlobalAveragePooling2D()(spnx1)\n",
    "    wvgx   = GlobalAveragePooling2D()(spnx2)\n",
    "    gapavg = Average()([gapx, wvgx])\n",
    "    x = BatchNormalization()(gapavg)\n",
    "\n",
    "\n",
    "    #=======================================================\n",
    "    #                    Tail of the model\n",
    "    #=======================================================\n",
    "\n",
    "    x = Dense(units=2048, kernel_regularizer=l2(0.0001), \n",
    "              kernel_initializer='he_uniform')(x)\n",
    "    x = BatchNormalization()(x)\n",
    "    x = Activation('relu')(x)\n",
    "    x = Dropout(rate=0.5)(x)\n",
    "    \n",
    "    x = Dense(units=1024, kernel_regularizer=l2(0.0001), \n",
    "              kernel_initializer='he_uniform')(x)\n",
    "    x = BatchNormalization()(x)\n",
    "    x = Activation('relu')(x)\n",
    "    x = Dropout(rate=0.5)(x)\n",
    "    \n",
    "    x = Dense(units=1024, kernel_regularizer=l2(0.0001), \n",
    "              kernel_initializer='he_uniform')(x)\n",
    "    x = BatchNormalization()(x)\n",
    "    x = Activation('relu')(x)\n",
    "    x = Dropout(rate=0.5)(x)\n",
    "    \n",
    "    x = Dense(units=512, kernel_regularizer=l2(0.0001), \n",
    "              kernel_initializer='he_uniform')(x)\n",
    "    x = BatchNormalization()(x)\n",
    "    x = Activation('relu')(x)\n",
    "    x = Dropout(rate=0.5)(x)\n",
    "    \n",
    "    x = Dense(units=6, activation='softmax', \n",
    "              kernel_initializer='he_uniform')(x)\n",
    "\n",
    "    return x"
   ]
  },
  {
   "cell_type": "code",
   "execution_count": 15,
   "metadata": {
    "execution": {
     "iopub.execute_input": "2021-01-23T18:23:51.028368Z",
     "iopub.status.busy": "2021-01-23T18:23:51.027685Z",
     "iopub.status.idle": "2021-01-23T18:24:09.548191Z",
     "shell.execute_reply": "2021-01-23T18:24:09.547427Z"
    },
    "papermill": {
     "duration": 18.565284,
     "end_time": "2021-01-23T18:24:09.548336",
     "exception": false,
     "start_time": "2021-01-23T18:23:50.983052",
     "status": "completed"
    },
    "tags": []
   },
   "outputs": [
    {
     "name": "stdout",
     "output_type": "stream",
     "text": [
      "Downloading data from https://storage.googleapis.com/keras-applications/efficientnetb4_notop.h5\n",
      "71688192/71686520 [==============================] - 1s 0us/step\n"
     ]
    }
   ],
   "source": [
    "# Build the model\n",
    "base_model = EfficientNetB4(weights='imagenet', \n",
    "                            input_tensor=Input(shape=image_dim), \n",
    "                            include_top=False)\n",
    "\n",
    "model = Model(base_model.input, head(base_model.output),\n",
    "              name='HackerEarth_Holiday_Season_Model')\n",
    "\n",
    "# Load the pre-trained model\n",
    "pretrain_model = load_model('../input/holiday-season-enetb4-mav3/hackerearth_holiday_season_model.h5')\n",
    "\n",
    "# Transfer weights from pre-trained model\n",
    "model.set_weights(pretrain_model.get_weights())\n",
    "\n",
    "# Freeze weights for base model\n",
    "base_model.trainable = False\n",
    "for layer in base_model.layers[-31:]:\n",
    "    if not isinstance(layer, BatchNormalization):\n",
    "        layer.trainable = True\n",
    "\n",
    "# Compile the final model\n",
    "model.compile(loss='categorical_crossentropy', \n",
    "              metrics=[F1Score(num_classes=6, average='weighted'), \n",
    "                       'categorical_accuracy'],\n",
    "              optimizer=Lookahead(AdamW(lr=1e-4, \n",
    "                                        weight_decay=1e-5, \n",
    "                                        clipvalue=700), \n",
    "                                  sync_period=10))\n",
    "\n",
    "early = EarlyStopping(monitor=\"val_loss\", mode=\"min\", patience=7, \n",
    "                      restore_best_weights=True, verbose=1)\n",
    "\n",
    "reduce_lr = ReduceLROnPlateau(monitor=\"val_loss\", factor=0.1, \n",
    "                              min_lr=1e-6, patience=5, \n",
    "                              verbose=1, mode='min')\n",
    "\n",
    "chk_point = ModelCheckpoint('hackerearth_holiday_season_model.h5', \n",
    "                            monitor='val_loss', verbose=1, \n",
    "                            save_best_only=True, mode='min')"
   ]
  },
  {
   "cell_type": "code",
   "execution_count": 16,
   "metadata": {
    "execution": {
     "iopub.execute_input": "2021-01-23T18:24:09.632523Z",
     "iopub.status.busy": "2021-01-23T18:24:09.631650Z",
     "iopub.status.idle": "2021-01-23T18:48:08.247506Z",
     "shell.execute_reply": "2021-01-23T18:48:08.248945Z"
    },
    "papermill": {
     "duration": 1438.663026,
     "end_time": "2021-01-23T18:48:08.249165",
     "exception": false,
     "start_time": "2021-01-23T18:24:09.586139",
     "status": "completed"
    },
    "tags": []
   },
   "outputs": [
    {
     "name": "stdout",
     "output_type": "stream",
     "text": [
      "Epoch 1/50\n",
      "43/43 [==============================] - ETA: 0s - loss: 0.0669 - f1_score: 0.9518 - categorical_accuracy: 0.9516\n",
      "Epoch 00001: val_loss improved from inf to 0.27200, saving model to hackerearth_holiday_season_model.h5\n",
      "43/43 [==============================] - 173s 4s/step - loss: 0.0669 - f1_score: 0.9518 - categorical_accuracy: 0.9516 - val_loss: 0.2720 - val_f1_score: 0.9251 - val_categorical_accuracy: 0.9248\n",
      "Epoch 2/50\n",
      "43/43 [==============================] - ETA: 0s - loss: 0.0643 - f1_score: 0.9525 - categorical_accuracy: 0.9523\n",
      "Epoch 00002: val_loss did not improve from 0.27200\n",
      "43/43 [==============================] - 143s 3s/step - loss: 0.0643 - f1_score: 0.9525 - categorical_accuracy: 0.9523 - val_loss: 0.2823 - val_f1_score: 0.9249 - val_categorical_accuracy: 0.9248\n",
      "Epoch 3/50\n",
      "43/43 [==============================] - ETA: 0s - loss: 0.0638 - f1_score: 0.9491 - categorical_accuracy: 0.9489\n",
      "Epoch 00003: val_loss did not improve from 0.27200\n",
      "43/43 [==============================] - 144s 3s/step - loss: 0.0638 - f1_score: 0.9491 - categorical_accuracy: 0.9489 - val_loss: 0.2817 - val_f1_score: 0.9250 - val_categorical_accuracy: 0.9248\n",
      "Epoch 4/50\n",
      "43/43 [==============================] - ETA: 0s - loss: 0.0591 - f1_score: 0.9581 - categorical_accuracy: 0.9580\n",
      "Epoch 00004: val_loss did not improve from 0.27200\n",
      "43/43 [==============================] - 147s 3s/step - loss: 0.0591 - f1_score: 0.9581 - categorical_accuracy: 0.9580 - val_loss: 0.2812 - val_f1_score: 0.9249 - val_categorical_accuracy: 0.9248\n",
      "Epoch 5/50\n",
      "43/43 [==============================] - ETA: 0s - loss: 0.0620 - f1_score: 0.9550 - categorical_accuracy: 0.9547\n",
      "Epoch 00005: val_loss did not improve from 0.27200\n",
      "43/43 [==============================] - 150s 3s/step - loss: 0.0620 - f1_score: 0.9550 - categorical_accuracy: 0.9547 - val_loss: 0.2883 - val_f1_score: 0.9193 - val_categorical_accuracy: 0.9186\n",
      "Epoch 6/50\n",
      "43/43 [==============================] - ETA: 0s - loss: 0.0572 - f1_score: 0.9577 - categorical_accuracy: 0.9574\n",
      "Epoch 00006: ReduceLROnPlateau reducing learning rate to 9.999999747378752e-06.\n",
      "\n",
      "Epoch 00006: val_loss did not improve from 0.27200\n",
      "43/43 [==============================] - 149s 3s/step - loss: 0.0572 - f1_score: 0.9577 - categorical_accuracy: 0.9574 - val_loss: 0.2732 - val_f1_score: 0.9249 - val_categorical_accuracy: 0.9248\n",
      "Epoch 7/50\n",
      "43/43 [==============================] - ETA: 0s - loss: 0.0557 - f1_score: 0.9601 - categorical_accuracy: 0.9600\n",
      "Epoch 00007: val_loss did not improve from 0.27200\n",
      "43/43 [==============================] - 151s 4s/step - loss: 0.0557 - f1_score: 0.9601 - categorical_accuracy: 0.9600 - val_loss: 0.2754 - val_f1_score: 0.9230 - val_categorical_accuracy: 0.9228\n",
      "Epoch 8/50\n",
      "43/43 [==============================] - ETA: 0s - loss: 0.0583 - f1_score: 0.9515 - categorical_accuracy: 0.9513Restoring model weights from the end of the best epoch.\n",
      "\n",
      "Epoch 00008: val_loss did not improve from 0.27200\n",
      "43/43 [==============================] - 150s 3s/step - loss: 0.0583 - f1_score: 0.9515 - categorical_accuracy: 0.9513 - val_loss: 0.2761 - val_f1_score: 0.9251 - val_categorical_accuracy: 0.9248\n",
      "Epoch 00008: early stopping\n"
     ]
    }
   ],
   "source": [
    "history = model.fit(\n",
    "    train_generator, \n",
    "    steps_per_epoch=steps_per_epoch,\n",
    "    class_weight=class_weight, \n",
    "    epochs=50, \n",
    "    verbose=1, \n",
    "    workers=5,\n",
    "    callbacks=[reduce_lr, early, chk_point], \n",
    "    validation_data=validation_generator,\n",
    "    validation_steps=validation_steps\n",
    ")"
   ]
  },
  {
   "cell_type": "code",
   "execution_count": 17,
   "metadata": {
    "execution": {
     "iopub.execute_input": "2021-01-23T18:48:11.007677Z",
     "iopub.status.busy": "2021-01-23T18:48:11.006700Z",
     "iopub.status.idle": "2021-01-23T18:48:15.647810Z",
     "shell.execute_reply": "2021-01-23T18:48:15.648507Z"
    },
    "papermill": {
     "duration": 5.41066,
     "end_time": "2021-01-23T18:48:15.648702",
     "exception": false,
     "start_time": "2021-01-23T18:48:10.238042",
     "status": "completed"
    },
    "tags": []
   },
   "outputs": [
    {
     "data": {
      "image/png": "[encoded data removed]",
      "text/plain": [
       "<Figure size 2160x720 with 3 Axes>"
      ]
     },
     "metadata": {},
     "output_type": "display_data"
    }
   ],
   "source": [
    "_, ax = plt.subplots(1, 3, figsize=(30, 10))\n",
    "\n",
    "ax[0].plot(history.history['loss'], label='train_loss')\n",
    "ax[0].plot(history.history['val_loss'], label='val_loss')\n",
    "ax[0].set_ylabel('Loss')\n",
    "ax[0].set_xlabel('Epoch')\n",
    "ax[0].set_title(\"Model Loss Curve\")\n",
    "ax[0].legend()\n",
    "ax[0].grid()\n",
    "\n",
    "ax[1].plot(history.history['f1_score'], label='train_f1_score')\n",
    "ax[1].plot(history.history['val_f1_score'], label='val_f1_score')\n",
    "ax[1].set_ylabel('F1-Score')\n",
    "ax[1].set_xlabel('Epoch')\n",
    "ax[1].set_title(\"Model F1-Score Curve\")\n",
    "ax[1].legend()\n",
    "ax[1].grid()\n",
    "\n",
    "ax[2].plot(history.history['categorical_accuracy'], label='train_accuracy')\n",
    "ax[2].plot(history.history['val_categorical_accuracy'], label='val_accuracy')\n",
    "ax[2].set_ylabel('Accuracy')\n",
    "ax[2].set_xlabel('Epoch')\n",
    "ax[2].set_title(\"Model Accuracy Curve\")\n",
    "ax[2].legend()\n",
    "ax[2].grid()"
   ]
  },
  {
   "cell_type": "markdown",
   "metadata": {
    "papermill": {
     "duration": 0.928853,
     "end_time": "2021-01-23T18:48:17.665582",
     "exception": false,
     "start_time": "2021-01-23T18:48:16.736729",
     "status": "completed"
    },
    "tags": []
   },
   "source": [
    "## Check classification report"
   ]
  },
  {
   "cell_type": "code",
   "execution_count": 18,
   "metadata": {
    "execution": {
     "iopub.execute_input": "2021-01-23T18:48:19.259583Z",
     "iopub.status.busy": "2021-01-23T18:48:19.258652Z",
     "iopub.status.idle": "2021-01-23T18:48:37.864599Z",
     "shell.execute_reply": "2021-01-23T18:48:37.863414Z"
    },
    "papermill": {
     "duration": 19.424901,
     "end_time": "2021-01-23T18:48:37.864751",
     "exception": false,
     "start_time": "2021-01-23T18:48:18.439850",
     "status": "completed"
    },
    "tags": []
   },
   "outputs": [],
   "source": [
    "model = load_model('./hackerearth_holiday_season_model.h5')"
   ]
  },
  {
   "cell_type": "code",
   "execution_count": 19,
   "metadata": {
    "execution": {
     "iopub.execute_input": "2021-01-23T18:48:38.648344Z",
     "iopub.status.busy": "2021-01-23T18:48:38.643100Z",
     "iopub.status.idle": "2021-01-23T18:48:51.777060Z",
     "shell.execute_reply": "2021-01-23T18:48:51.776380Z"
    },
    "papermill": {
     "duration": 13.566103,
     "end_time": "2021-01-23T18:48:51.777176",
     "exception": false,
     "start_time": "2021-01-23T18:48:38.211073",
     "status": "completed"
    },
    "tags": []
   },
   "outputs": [
    {
     "name": "stdout",
     "output_type": "stream",
     "text": [
      "8/8 [==============================] - 6s 751ms/step\n",
      "\n",
      "y_true: (971,)\n",
      "y_pred: (971,)\n"
     ]
    }
   ],
   "source": [
    "y_true = np.array([validation_generator.classes]).ravel()\n",
    "y_pred = model.predict(validation_generator, verbose=1)\n",
    "y_pred = np.argmax(y_pred, axis=1)\n",
    "\n",
    "print(\"\\ny_true: {}\".format(y_true.shape))\n",
    "print(\"y_pred: {}\".format(y_pred.shape))"
   ]
  },
  {
   "cell_type": "code",
   "execution_count": 20,
   "metadata": {
    "execution": {
     "iopub.execute_input": "2021-01-23T18:48:52.118398Z",
     "iopub.status.busy": "2021-01-23T18:48:52.116851Z",
     "iopub.status.idle": "2021-01-23T18:48:52.129491Z",
     "shell.execute_reply": "2021-01-23T18:48:52.128860Z"
    },
    "papermill": {
     "duration": 0.183872,
     "end_time": "2021-01-23T18:48:52.129601",
     "exception": false,
     "start_time": "2021-01-23T18:48:51.945729",
     "status": "completed"
    },
    "tags": []
   },
   "outputs": [
    {
     "name": "stdout",
     "output_type": "stream",
     "text": [
      "              precision    recall  f1-score   support\n",
      "\n",
      "           0       0.95      0.89      0.92        80\n",
      "           1       0.92      0.89      0.90        89\n",
      "           2       0.94      0.92      0.93       231\n",
      "           3       0.96      0.94      0.95        96\n",
      "           4       0.93      0.94      0.93       421\n",
      "           5       0.79      0.91      0.84        54\n",
      "\n",
      "    accuracy                           0.92       971\n",
      "   macro avg       0.91      0.91      0.91       971\n",
      "weighted avg       0.93      0.92      0.93       971\n",
      "\n"
     ]
    }
   ],
   "source": [
    "print(classification_report(y_true, y_pred))"
   ]
  },
  {
   "cell_type": "code",
   "execution_count": 21,
   "metadata": {
    "execution": {
     "iopub.execute_input": "2021-01-23T18:48:52.477537Z",
     "iopub.status.busy": "2021-01-23T18:48:52.476655Z",
     "iopub.status.idle": "2021-01-23T18:48:52.931422Z",
     "shell.execute_reply": "2021-01-23T18:48:52.931981Z"
    },
    "papermill": {
     "duration": 0.630645,
     "end_time": "2021-01-23T18:48:52.932110",
     "exception": false,
     "start_time": "2021-01-23T18:48:52.301465",
     "status": "completed"
    },
    "tags": []
   },
   "outputs": [
    {
     "data": {
      "image/png": "[encoded data removed]",
      "text/plain": [
       "<Figure size 864x504 with 2 Axes>"
      ]
     },
     "metadata": {},
     "output_type": "display_data"
    }
   ],
   "source": [
    "cnf_matrix = confusion_matrix(y_true, y_pred, labels=[0, 1, 2, 3, 4, 5])\n",
    "np.set_printoptions(precision=2)\n",
    "plt.figure(figsize=(12,7))\n",
    "plot_confusion_matrix(cnf_matrix, classes=[0, 1, 2, 3, 4, 5])"
   ]
  },
  {
   "cell_type": "markdown",
   "metadata": {
    "papermill": {
     "duration": 0.171069,
     "end_time": "2021-01-23T18:48:53.278211",
     "exception": false,
     "start_time": "2021-01-23T18:48:53.107142",
     "status": "completed"
    },
    "tags": []
   },
   "source": [
    "## Create submission file"
   ]
  },
  {
   "cell_type": "code",
   "execution_count": 22,
   "metadata": {
    "execution": {
     "iopub.execute_input": "2021-01-23T18:48:53.623018Z",
     "iopub.status.busy": "2021-01-23T18:48:53.622226Z",
     "iopub.status.idle": "2021-01-23T18:48:53.626326Z",
     "shell.execute_reply": "2021-01-23T18:48:53.625793Z"
    },
    "papermill": {
     "duration": 0.17899,
     "end_time": "2021-01-23T18:48:53.626424",
     "exception": false,
     "start_time": "2021-01-23T18:48:53.447434",
     "status": "completed"
    },
    "tags": []
   },
   "outputs": [],
   "source": [
    "rev_class_map = {\n",
    "    0: 'Airplane',\n",
    "    1: 'Candle',\n",
    "    2: 'Christmas_Tree',\n",
    "    3: 'Jacket',\n",
    "    4: 'Miscellaneous',\n",
    "    5: 'Snowman'\n",
    "}"
   ]
  },
  {
   "cell_type": "code",
   "execution_count": 23,
   "metadata": {
    "execution": {
     "iopub.execute_input": "2021-01-23T18:48:53.968360Z",
     "iopub.status.busy": "2021-01-23T18:48:53.967555Z",
     "iopub.status.idle": "2021-01-23T18:49:30.987750Z",
     "shell.execute_reply": "2021-01-23T18:49:30.987199Z"
    },
    "papermill": {
     "duration": 37.194143,
     "end_time": "2021-01-23T18:49:30.987870",
     "exception": false,
     "start_time": "2021-01-23T18:48:53.793727",
     "status": "completed"
    },
    "tags": []
   },
   "outputs": [
    {
     "name": "stdout",
     "output_type": "stream",
     "text": [
      "28/28 [==============================] - 35s 1s/step\n",
      "(3489,)\n"
     ]
    }
   ],
   "source": [
    "y_pred_final = model.predict(test_generator, verbose=1)\n",
    "y_pred_final = np.argmax(y_pred_final, axis=1)\n",
    "print(y_pred_final.shape)"
   ]
  },
  {
   "cell_type": "code",
   "execution_count": 24,
   "metadata": {
    "execution": {
     "iopub.execute_input": "2021-01-23T18:49:31.358993Z",
     "iopub.status.busy": "2021-01-23T18:49:31.357986Z",
     "iopub.status.idle": "2021-01-23T18:49:31.362247Z",
     "shell.execute_reply": "2021-01-23T18:49:31.361780Z"
    },
    "papermill": {
     "duration": 0.195142,
     "end_time": "2021-01-23T18:49:31.362365",
     "exception": false,
     "start_time": "2021-01-23T18:49:31.167223",
     "status": "completed"
    },
    "tags": []
   },
   "outputs": [
    {
     "data": {
      "text/html": [
       "<div>\n",
       "<style scoped>\n",
       "    .dataframe tbody tr th:only-of-type {\n",
       "        vertical-align: middle;\n",
       "    }\n",
       "\n",
       "    .dataframe tbody tr th {\n",
       "        vertical-align: top;\n",
       "    }\n",
       "\n",
       "    .dataframe thead th {\n",
       "        text-align: right;\n",
       "    }\n",
       "</style>\n",
       "<table border=\"1\" class=\"dataframe\">\n",
       "  <thead>\n",
       "    <tr style=\"text-align: right;\">\n",
       "      <th></th>\n",
       "      <th>Image</th>\n",
       "      <th>Class</th>\n",
       "    </tr>\n",
       "  </thead>\n",
       "  <tbody>\n",
       "    <tr>\n",
       "      <th>0</th>\n",
       "      <td>image7761.jpg</td>\n",
       "      <td>Miscellaneous</td>\n",
       "    </tr>\n",
       "    <tr>\n",
       "      <th>1</th>\n",
       "      <td>image3202.jpg</td>\n",
       "      <td>Miscellaneous</td>\n",
       "    </tr>\n",
       "    <tr>\n",
       "      <th>2</th>\n",
       "      <td>image688.jpg</td>\n",
       "      <td>Snowman</td>\n",
       "    </tr>\n",
       "    <tr>\n",
       "      <th>3</th>\n",
       "      <td>image233.jpg</td>\n",
       "      <td>Candle</td>\n",
       "    </tr>\n",
       "    <tr>\n",
       "      <th>4</th>\n",
       "      <td>image4332.jpg</td>\n",
       "      <td>Christmas_Tree</td>\n",
       "    </tr>\n",
       "  </tbody>\n",
       "</table>\n",
       "</div>"
      ],
      "text/plain": [
       "           Image           Class\n",
       "0  image7761.jpg   Miscellaneous\n",
       "1  image3202.jpg   Miscellaneous\n",
       "2   image688.jpg         Snowman\n",
       "3   image233.jpg          Candle\n",
       "4  image4332.jpg  Christmas_Tree"
      ]
     },
     "execution_count": 24,
     "metadata": {},
     "output_type": "execute_result"
    }
   ],
   "source": [
    "test_df['Class'] = y_pred_final\n",
    "test_df['Class'] = test_df['Class'].map(rev_class_map)\n",
    "test_df.head()"
   ]
  },
  {
   "cell_type": "code",
   "execution_count": 25,
   "metadata": {
    "execution": {
     "iopub.execute_input": "2021-01-23T18:49:31.725287Z",
     "iopub.status.busy": "2021-01-23T18:49:31.724647Z",
     "iopub.status.idle": "2021-01-23T18:49:31.939883Z",
     "shell.execute_reply": "2021-01-23T18:49:31.939167Z"
    },
    "papermill": {
     "duration": 0.397401,
     "end_time": "2021-01-23T18:49:31.940009",
     "exception": false,
     "start_time": "2021-01-23T18:49:31.542608",
     "status": "completed"
    },
    "tags": []
   },
   "outputs": [],
   "source": [
    "test_df.to_csv(\"/kaggle/working/submission.csv\", index=False)"
   ]
  },
  {
   "cell_type": "code",
   "execution_count": null,
   "metadata": {
    "papermill": {
     "duration": 0.182821,
     "end_time": "2021-01-23T18:49:32.300511",
     "exception": false,
     "start_time": "2021-01-23T18:49:32.117690",
     "status": "completed"
    },
    "tags": []
   },
   "outputs": [],
   "source": []
  }
 ],
 "metadata": {
  "kernelspec": {
   "display_name": "Python 3",
   "language": "python",
   "name": "python3"
  },
  "language_info": {
   "codemirror_mode": {
    "name": "ipython",
    "version": 3
   },
   "file_extension": ".py",
   "mimetype": "text/x-python",
   "name": "python",
   "nbconvert_exporter": "python",
   "pygments_lexer": "ipython3",
   "version": "3.7.6"
  },
  "papermill": {
   "duration": 1572.906804,
   "end_time": "2021-01-23T18:49:34.471951",
   "environment_variables": {},
   "exception": null,
   "input_path": "__notebook__.ipynb",
   "output_path": "__notebook__.ipynb",
   "parameters": {},
   "start_time": "2021-01-23T18:23:21.565147",
   "version": "2.1.0"
  }
 },
 "nbformat": 4,
 "nbformat_minor": 4
}
