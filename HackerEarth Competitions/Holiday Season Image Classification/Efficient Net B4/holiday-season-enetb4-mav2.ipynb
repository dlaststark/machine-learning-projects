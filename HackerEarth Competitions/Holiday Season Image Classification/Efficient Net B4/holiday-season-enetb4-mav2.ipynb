{
 "cells": [
  {
   "cell_type": "markdown",
   "metadata": {
    "papermill": {
     "duration": 0.022485,
     "end_time": "2021-01-23T13:14:02.250764",
     "exception": false,
     "start_time": "2021-01-23T13:14:02.228279",
     "status": "completed"
    },
    "tags": []
   },
   "source": [
    "## Import Packages"
   ]
  },
  {
   "cell_type": "code",
   "execution_count": 1,
   "metadata": {
    "execution": {
     "iopub.execute_input": "2021-01-23T13:14:02.304143Z",
     "iopub.status.busy": "2021-01-23T13:14:02.303434Z",
     "iopub.status.idle": "2021-01-23T13:14:07.341798Z",
     "shell.execute_reply": "2021-01-23T13:14:07.340802Z"
    },
    "papermill": {
     "duration": 5.069956,
     "end_time": "2021-01-23T13:14:07.341915",
     "exception": false,
     "start_time": "2021-01-23T13:14:02.271959",
     "status": "completed"
    },
    "tags": []
   },
   "outputs": [],
   "source": [
    "import os\n",
    "import itertools\n",
    "import numpy as np\n",
    "import pandas as pd\n",
    "import seaborn as sns\n",
    "from tqdm import tqdm\n",
    "import matplotlib.pyplot as plt\n",
    "from sklearn.metrics import confusion_matrix\n",
    "from sklearn.metrics import classification_report\n",
    "from sklearn.model_selection import StratifiedShuffleSplit\n",
    "\n",
    "import tensorflow as tf\n",
    "from tensorflow.keras import backend as K\n",
    "from tensorflow.keras.regularizers import l2\n",
    "from tensorflow_addons.metrics import F1Score\n",
    "from tensorflow.keras.models import Model, load_model\n",
    "from tensorflow_addons.optimizers import AdamW, Lookahead\n",
    "from tensorflow.keras.callbacks import EarlyStopping\n",
    "from tensorflow.keras.callbacks import ReduceLROnPlateau\n",
    "from tensorflow.keras.callbacks import ModelCheckpoint\n",
    "from tensorflow.keras.applications import EfficientNetB4\n",
    "from tensorflow.keras.layers import Dense, Dropout, Flatten\n",
    "from tensorflow.keras.layers import BatchNormalization, Input\n",
    "from tensorflow.keras.layers import ZeroPadding2D, MaxPooling2D\n",
    "from tensorflow.keras.layers import GlobalAveragePooling2D, Add\n",
    "from tensorflow.keras.layers import GlobalMaxPooling2D, Reshape\n",
    "from tensorflow.keras.layers import Activation, Conv2D, Average\n",
    "from tensorflow.keras.preprocessing.image import ImageDataGenerator"
   ]
  },
  {
   "cell_type": "markdown",
   "metadata": {
    "papermill": {
     "duration": 0.021332,
     "end_time": "2021-01-23T13:14:07.385442",
     "exception": false,
     "start_time": "2021-01-23T13:14:07.364110",
     "status": "completed"
    },
    "tags": []
   },
   "source": [
    "## Helper Functions"
   ]
  },
  {
   "cell_type": "code",
   "execution_count": 2,
   "metadata": {
    "execution": {
     "iopub.execute_input": "2021-01-23T13:14:07.442582Z",
     "iopub.status.busy": "2021-01-23T13:14:07.441732Z",
     "iopub.status.idle": "2021-01-23T13:14:07.443916Z",
     "shell.execute_reply": "2021-01-23T13:14:07.444394Z"
    },
    "papermill": {
     "duration": 0.038085,
     "end_time": "2021-01-23T13:14:07.444505",
     "exception": false,
     "start_time": "2021-01-23T13:14:07.406420",
     "status": "completed"
    },
    "tags": []
   },
   "outputs": [],
   "source": [
    "def plot_confusion_matrix(cm, classes):\n",
    "\n",
    "    plt.imshow(cm, interpolation='nearest', cmap=plt.cm.Blues)\n",
    "    plt.title('Confusion matrix')\n",
    "    plt.colorbar()\n",
    "    tick_marks = np.arange(len(classes))\n",
    "    plt.xticks(tick_marks, classes, rotation=0)\n",
    "    plt.yticks(tick_marks, classes)\n",
    "\n",
    "    thresh = cm.max() / 2.\n",
    "    for i, j in itertools.product(range(cm.shape[0]), range(cm.shape[1])):\n",
    "        plt.text(j, i, format(cm[i, j], 'd'),\n",
    "                 horizontalalignment=\"center\",\n",
    "                 color=\"white\" if cm[i, j] > thresh else \"black\")\n",
    "\n",
    "    plt.ylabel('True label')\n",
    "    plt.xlabel('Predicted label')\n",
    "    plt.tight_layout()"
   ]
  },
  {
   "cell_type": "markdown",
   "metadata": {
    "papermill": {
     "duration": 0.020276,
     "end_time": "2021-01-23T13:14:07.485615",
     "exception": false,
     "start_time": "2021-01-23T13:14:07.465339",
     "status": "completed"
    },
    "tags": []
   },
   "source": [
    "## Read true labels + Basic EDA"
   ]
  },
  {
   "cell_type": "code",
   "execution_count": 3,
   "metadata": {
    "execution": {
     "iopub.execute_input": "2021-01-23T13:14:07.539342Z",
     "iopub.status.busy": "2021-01-23T13:14:07.538784Z",
     "iopub.status.idle": "2021-01-23T13:14:07.570158Z",
     "shell.execute_reply": "2021-01-23T13:14:07.570587Z"
    },
    "papermill": {
     "duration": 0.064025,
     "end_time": "2021-01-23T13:14:07.570695",
     "exception": false,
     "start_time": "2021-01-23T13:14:07.506670",
     "status": "completed"
    },
    "tags": []
   },
   "outputs": [
    {
     "data": {
      "text/html": [
       "<div>\n",
       "<style scoped>\n",
       "    .dataframe tbody tr th:only-of-type {\n",
       "        vertical-align: middle;\n",
       "    }\n",
       "\n",
       "    .dataframe tbody tr th {\n",
       "        vertical-align: top;\n",
       "    }\n",
       "\n",
       "    .dataframe thead th {\n",
       "        text-align: right;\n",
       "    }\n",
       "</style>\n",
       "<table border=\"1\" class=\"dataframe\">\n",
       "  <thead>\n",
       "    <tr style=\"text-align: right;\">\n",
       "      <th></th>\n",
       "      <th>Image</th>\n",
       "      <th>Class</th>\n",
       "    </tr>\n",
       "  </thead>\n",
       "  <tbody>\n",
       "    <tr>\n",
       "      <th>0</th>\n",
       "      <td>image3476.jpg</td>\n",
       "      <td>Miscellaneous</td>\n",
       "    </tr>\n",
       "    <tr>\n",
       "      <th>1</th>\n",
       "      <td>image5198.jpg</td>\n",
       "      <td>Candle</td>\n",
       "    </tr>\n",
       "    <tr>\n",
       "      <th>2</th>\n",
       "      <td>image4183.jpg</td>\n",
       "      <td>Snowman</td>\n",
       "    </tr>\n",
       "    <tr>\n",
       "      <th>3</th>\n",
       "      <td>image1806.jpg</td>\n",
       "      <td>Miscellaneous</td>\n",
       "    </tr>\n",
       "    <tr>\n",
       "      <th>4</th>\n",
       "      <td>image7831.jpg</td>\n",
       "      <td>Miscellaneous</td>\n",
       "    </tr>\n",
       "  </tbody>\n",
       "</table>\n",
       "</div>"
      ],
      "text/plain": [
       "           Image          Class\n",
       "0  image3476.jpg  Miscellaneous\n",
       "1  image5198.jpg         Candle\n",
       "2  image4183.jpg        Snowman\n",
       "3  image1806.jpg  Miscellaneous\n",
       "4  image7831.jpg  Miscellaneous"
      ]
     },
     "execution_count": 3,
     "metadata": {},
     "output_type": "execute_result"
    }
   ],
   "source": [
    "train_df = pd.read_csv(\"../input/hackereath-holiday-season-deep-learning-contest/dataset/train.csv\")\n",
    "train_df.head()"
   ]
  },
  {
   "cell_type": "code",
   "execution_count": 4,
   "metadata": {
    "execution": {
     "iopub.execute_input": "2021-01-23T13:14:07.617832Z",
     "iopub.status.busy": "2021-01-23T13:14:07.617141Z",
     "iopub.status.idle": "2021-01-23T13:14:07.619542Z",
     "shell.execute_reply": "2021-01-23T13:14:07.620069Z"
    },
    "papermill": {
     "duration": 0.028082,
     "end_time": "2021-01-23T13:14:07.620169",
     "exception": false,
     "start_time": "2021-01-23T13:14:07.592087",
     "status": "completed"
    },
    "tags": []
   },
   "outputs": [],
   "source": [
    "class_map = {\n",
    "    'Airplane': 0,\n",
    "    'Candle': 1,\n",
    "    'Christmas_Tree': 2,\n",
    "    'Jacket': 3,\n",
    "    'Miscellaneous': 4,\n",
    "    'Snowman': 5\n",
    "}"
   ]
  },
  {
   "cell_type": "code",
   "execution_count": 5,
   "metadata": {
    "execution": {
     "iopub.execute_input": "2021-01-23T13:14:07.676871Z",
     "iopub.status.busy": "2021-01-23T13:14:07.676096Z",
     "iopub.status.idle": "2021-01-23T13:14:07.689625Z",
     "shell.execute_reply": "2021-01-23T13:14:07.689218Z"
    },
    "papermill": {
     "duration": 0.048777,
     "end_time": "2021-01-23T13:14:07.689709",
     "exception": false,
     "start_time": "2021-01-23T13:14:07.640932",
     "status": "completed"
    },
    "tags": []
   },
   "outputs": [
    {
     "data": {
      "text/html": [
       "<div>\n",
       "<style scoped>\n",
       "    .dataframe tbody tr th:only-of-type {\n",
       "        vertical-align: middle;\n",
       "    }\n",
       "\n",
       "    .dataframe tbody tr th {\n",
       "        vertical-align: top;\n",
       "    }\n",
       "\n",
       "    .dataframe thead th {\n",
       "        text-align: right;\n",
       "    }\n",
       "</style>\n",
       "<table border=\"1\" class=\"dataframe\">\n",
       "  <thead>\n",
       "    <tr style=\"text-align: right;\">\n",
       "      <th></th>\n",
       "      <th>Class</th>\n",
       "      <th>Class_enc</th>\n",
       "      <th>Count</th>\n",
       "    </tr>\n",
       "  </thead>\n",
       "  <tbody>\n",
       "    <tr>\n",
       "      <th>0</th>\n",
       "      <td>Airplane</td>\n",
       "      <td>0</td>\n",
       "      <td>535</td>\n",
       "    </tr>\n",
       "    <tr>\n",
       "      <th>1</th>\n",
       "      <td>Candle</td>\n",
       "      <td>1</td>\n",
       "      <td>593</td>\n",
       "    </tr>\n",
       "    <tr>\n",
       "      <th>2</th>\n",
       "      <td>Christmas_Tree</td>\n",
       "      <td>2</td>\n",
       "      <td>1539</td>\n",
       "    </tr>\n",
       "    <tr>\n",
       "      <th>3</th>\n",
       "      <td>Jacket</td>\n",
       "      <td>3</td>\n",
       "      <td>640</td>\n",
       "    </tr>\n",
       "    <tr>\n",
       "      <th>4</th>\n",
       "      <td>Miscellaneous</td>\n",
       "      <td>4</td>\n",
       "      <td>2801</td>\n",
       "    </tr>\n",
       "    <tr>\n",
       "      <th>5</th>\n",
       "      <td>Snowman</td>\n",
       "      <td>5</td>\n",
       "      <td>361</td>\n",
       "    </tr>\n",
       "  </tbody>\n",
       "</table>\n",
       "</div>"
      ],
      "text/plain": [
       "            Class Class_enc  Count\n",
       "0        Airplane         0    535\n",
       "1          Candle         1    593\n",
       "2  Christmas_Tree         2   1539\n",
       "3          Jacket         3    640\n",
       "4   Miscellaneous         4   2801\n",
       "5         Snowman         5    361"
      ]
     },
     "execution_count": 5,
     "metadata": {},
     "output_type": "execute_result"
    }
   ],
   "source": [
    "train_df['Class_enc'] = train_df['Class'].map(class_map)\n",
    "train_df['Class_enc'] = train_df['Class_enc'].astype('str')\n",
    "train_df.groupby(['Class','Class_enc']).size().reset_index().rename(columns={0:'Count'})"
   ]
  },
  {
   "cell_type": "code",
   "execution_count": 6,
   "metadata": {
    "execution": {
     "iopub.execute_input": "2021-01-23T13:14:07.736551Z",
     "iopub.status.busy": "2021-01-23T13:14:07.735989Z",
     "iopub.status.idle": "2021-01-23T13:14:07.930750Z",
     "shell.execute_reply": "2021-01-23T13:14:07.931190Z"
    },
    "papermill": {
     "duration": 0.220396,
     "end_time": "2021-01-23T13:14:07.931335",
     "exception": false,
     "start_time": "2021-01-23T13:14:07.710939",
     "status": "completed"
    },
    "tags": []
   },
   "outputs": [
    {
     "data": {
      "image/png": "[encoded data removed]",
      "text/plain": [
       "<Figure size 864x504 with 1 Axes>"
      ]
     },
     "metadata": {
      "needs_background": "light"
     },
     "output_type": "display_data"
    }
   ],
   "source": [
    "plt.figure(figsize=(12,7))\n",
    "sns.set(style=\"darkgrid\")\n",
    "ax = sns.countplot(x=\"Class\", data=train_df)"
   ]
  },
  {
   "cell_type": "code",
   "execution_count": 7,
   "metadata": {
    "execution": {
     "iopub.execute_input": "2021-01-23T13:14:07.982416Z",
     "iopub.status.busy": "2021-01-23T13:14:07.981782Z",
     "iopub.status.idle": "2021-01-23T13:14:08.272624Z",
     "shell.execute_reply": "2021-01-23T13:14:08.273105Z"
    },
    "papermill": {
     "duration": 0.317999,
     "end_time": "2021-01-23T13:14:08.273226",
     "exception": false,
     "start_time": "2021-01-23T13:14:07.955227",
     "status": "completed"
    },
    "tags": []
   },
   "outputs": [
    {
     "name": "stderr",
     "output_type": "stream",
     "text": [
      "100%|██████████| 3489/3489 [00:00<00:00, 1072318.21it/s]\n"
     ]
    },
    {
     "data": {
      "text/html": [
       "<div>\n",
       "<style scoped>\n",
       "    .dataframe tbody tr th:only-of-type {\n",
       "        vertical-align: middle;\n",
       "    }\n",
       "\n",
       "    .dataframe tbody tr th {\n",
       "        vertical-align: top;\n",
       "    }\n",
       "\n",
       "    .dataframe thead th {\n",
       "        text-align: right;\n",
       "    }\n",
       "</style>\n",
       "<table border=\"1\" class=\"dataframe\">\n",
       "  <thead>\n",
       "    <tr style=\"text-align: right;\">\n",
       "      <th></th>\n",
       "      <th>Image</th>\n",
       "      <th>Class</th>\n",
       "    </tr>\n",
       "  </thead>\n",
       "  <tbody>\n",
       "    <tr>\n",
       "      <th>0</th>\n",
       "      <td>image7761.jpg</td>\n",
       "      <td>0</td>\n",
       "    </tr>\n",
       "    <tr>\n",
       "      <th>1</th>\n",
       "      <td>image3202.jpg</td>\n",
       "      <td>0</td>\n",
       "    </tr>\n",
       "    <tr>\n",
       "      <th>2</th>\n",
       "      <td>image688.jpg</td>\n",
       "      <td>0</td>\n",
       "    </tr>\n",
       "    <tr>\n",
       "      <th>3</th>\n",
       "      <td>image233.jpg</td>\n",
       "      <td>0</td>\n",
       "    </tr>\n",
       "    <tr>\n",
       "      <th>4</th>\n",
       "      <td>image4332.jpg</td>\n",
       "      <td>0</td>\n",
       "    </tr>\n",
       "  </tbody>\n",
       "</table>\n",
       "</div>"
      ],
      "text/plain": [
       "           Image Class\n",
       "0  image7761.jpg     0\n",
       "1  image3202.jpg     0\n",
       "2   image688.jpg     0\n",
       "3   image233.jpg     0\n",
       "4  image4332.jpg     0"
      ]
     },
     "execution_count": 7,
     "metadata": {},
     "output_type": "execute_result"
    }
   ],
   "source": [
    "test_dir = \"../input/hackereath-holiday-season-deep-learning-contest/dataset/test\"\n",
    "test_files = []\n",
    "\n",
    "for file in tqdm(os.listdir(test_dir)):\n",
    "    test_files.append(file)\n",
    "\n",
    "test_df = pd.DataFrame(test_files, columns=['Image'])\n",
    "test_df['Class'] = '0'\n",
    "test_df.head()"
   ]
  },
  {
   "cell_type": "markdown",
   "metadata": {
    "papermill": {
     "duration": 0.023473,
     "end_time": "2021-01-23T13:14:08.320526",
     "exception": false,
     "start_time": "2021-01-23T13:14:08.297053",
     "status": "completed"
    },
    "tags": []
   },
   "source": [
    "## Calculate class-weights"
   ]
  },
  {
   "cell_type": "code",
   "execution_count": 8,
   "metadata": {
    "execution": {
     "iopub.execute_input": "2021-01-23T13:14:08.376241Z",
     "iopub.status.busy": "2021-01-23T13:14:08.375411Z",
     "iopub.status.idle": "2021-01-23T13:14:08.398084Z",
     "shell.execute_reply": "2021-01-23T13:14:08.397639Z"
    },
    "papermill": {
     "duration": 0.053842,
     "end_time": "2021-01-23T13:14:08.398184",
     "exception": false,
     "start_time": "2021-01-23T13:14:08.344342",
     "status": "completed"
    },
    "tags": []
   },
   "outputs": [
    {
     "data": {
      "text/plain": [
       "{0: 0.6747663551401869,\n",
       " 1: 0.6087689713322091,\n",
       " 2: 0.23456790123456786,\n",
       " 3: 0.5640625,\n",
       " 4: 0.12888254194930382,\n",
       " 5: 1.0}"
      ]
     },
     "execution_count": 8,
     "metadata": {},
     "output_type": "execute_result"
    }
   ],
   "source": [
    "temp_df = train_df.groupby(['Class_enc']).size().reset_index().rename(columns={0:'count'})\n",
    "total_count = np.sum(temp_df['count'].values)\n",
    "temp_df['class%'] = (temp_df['count'] / total_count) * 100\n",
    "lowest_pct = min(temp_df['class%'])\n",
    "temp_df['class_weight'] = lowest_pct / temp_df['class%']\n",
    "class_weight = temp_df[['Class_enc', 'class_weight']].to_dict()['class_weight']\n",
    "class_weight"
   ]
  },
  {
   "cell_type": "markdown",
   "metadata": {
    "papermill": {
     "duration": 0.031782,
     "end_time": "2021-01-23T13:14:08.453706",
     "exception": false,
     "start_time": "2021-01-23T13:14:08.421924",
     "status": "completed"
    },
    "tags": []
   },
   "source": [
    "## Split training data into train/validation datasets"
   ]
  },
  {
   "cell_type": "code",
   "execution_count": 9,
   "metadata": {
    "execution": {
     "iopub.execute_input": "2021-01-23T13:14:08.592710Z",
     "iopub.status.busy": "2021-01-23T13:14:08.591896Z",
     "iopub.status.idle": "2021-01-23T13:14:08.621599Z",
     "shell.execute_reply": "2021-01-23T13:14:08.623323Z"
    },
    "papermill": {
     "duration": 0.132465,
     "end_time": "2021-01-23T13:14:08.623497",
     "exception": false,
     "start_time": "2021-01-23T13:14:08.491032",
     "status": "completed"
    },
    "tags": []
   },
   "outputs": [
    {
     "name": "stdout",
     "output_type": "stream",
     "text": [
      "train_df shape: (5498, 3)\n",
      "validation_df shape: (971, 3)\n"
     ]
    }
   ],
   "source": [
    "sss = StratifiedShuffleSplit(n_splits=1, test_size=0.15, random_state=1)\n",
    "for train_index, validation_index in sss.split(train_df['Image'], train_df['Class_enc']):\n",
    "    train_df, validation_df = train_df.iloc[train_index], train_df.iloc[validation_index]\n",
    "\n",
    "print(\"train_df shape: {}\".format(train_df.shape))\n",
    "print(\"validation_df shape: {}\".format(validation_df.shape))"
   ]
  },
  {
   "cell_type": "code",
   "execution_count": 10,
   "metadata": {
    "execution": {
     "iopub.execute_input": "2021-01-23T13:14:08.712744Z",
     "iopub.status.busy": "2021-01-23T13:14:08.711922Z",
     "iopub.status.idle": "2021-01-23T13:14:08.725363Z",
     "shell.execute_reply": "2021-01-23T13:14:08.726390Z"
    },
    "papermill": {
     "duration": 0.063673,
     "end_time": "2021-01-23T13:14:08.726542",
     "exception": false,
     "start_time": "2021-01-23T13:14:08.662869",
     "status": "completed"
    },
    "tags": []
   },
   "outputs": [
    {
     "data": {
      "text/html": [
       "<div>\n",
       "<style scoped>\n",
       "    .dataframe tbody tr th:only-of-type {\n",
       "        vertical-align: middle;\n",
       "    }\n",
       "\n",
       "    .dataframe tbody tr th {\n",
       "        vertical-align: top;\n",
       "    }\n",
       "\n",
       "    .dataframe thead th {\n",
       "        text-align: right;\n",
       "    }\n",
       "</style>\n",
       "<table border=\"1\" class=\"dataframe\">\n",
       "  <thead>\n",
       "    <tr style=\"text-align: right;\">\n",
       "      <th></th>\n",
       "      <th>Class</th>\n",
       "      <th>Class_enc</th>\n",
       "      <th>Count</th>\n",
       "    </tr>\n",
       "  </thead>\n",
       "  <tbody>\n",
       "    <tr>\n",
       "      <th>0</th>\n",
       "      <td>Airplane</td>\n",
       "      <td>0</td>\n",
       "      <td>455</td>\n",
       "    </tr>\n",
       "    <tr>\n",
       "      <th>1</th>\n",
       "      <td>Candle</td>\n",
       "      <td>1</td>\n",
       "      <td>504</td>\n",
       "    </tr>\n",
       "    <tr>\n",
       "      <th>2</th>\n",
       "      <td>Christmas_Tree</td>\n",
       "      <td>2</td>\n",
       "      <td>1308</td>\n",
       "    </tr>\n",
       "    <tr>\n",
       "      <th>3</th>\n",
       "      <td>Jacket</td>\n",
       "      <td>3</td>\n",
       "      <td>544</td>\n",
       "    </tr>\n",
       "    <tr>\n",
       "      <th>4</th>\n",
       "      <td>Miscellaneous</td>\n",
       "      <td>4</td>\n",
       "      <td>2380</td>\n",
       "    </tr>\n",
       "    <tr>\n",
       "      <th>5</th>\n",
       "      <td>Snowman</td>\n",
       "      <td>5</td>\n",
       "      <td>307</td>\n",
       "    </tr>\n",
       "  </tbody>\n",
       "</table>\n",
       "</div>"
      ],
      "text/plain": [
       "            Class Class_enc  Count\n",
       "0        Airplane         0    455\n",
       "1          Candle         1    504\n",
       "2  Christmas_Tree         2   1308\n",
       "3          Jacket         3    544\n",
       "4   Miscellaneous         4   2380\n",
       "5         Snowman         5    307"
      ]
     },
     "execution_count": 10,
     "metadata": {},
     "output_type": "execute_result"
    }
   ],
   "source": [
    "train_df.groupby(['Class','Class_enc']).size().reset_index().rename(columns={0:'Count'})"
   ]
  },
  {
   "cell_type": "code",
   "execution_count": 11,
   "metadata": {
    "execution": {
     "iopub.execute_input": "2021-01-23T13:14:08.825756Z",
     "iopub.status.busy": "2021-01-23T13:14:08.825008Z",
     "iopub.status.idle": "2021-01-23T13:14:08.840010Z",
     "shell.execute_reply": "2021-01-23T13:14:08.841074Z"
    },
    "papermill": {
     "duration": 0.06897,
     "end_time": "2021-01-23T13:14:08.841236",
     "exception": false,
     "start_time": "2021-01-23T13:14:08.772266",
     "status": "completed"
    },
    "tags": []
   },
   "outputs": [
    {
     "data": {
      "text/html": [
       "<div>\n",
       "<style scoped>\n",
       "    .dataframe tbody tr th:only-of-type {\n",
       "        vertical-align: middle;\n",
       "    }\n",
       "\n",
       "    .dataframe tbody tr th {\n",
       "        vertical-align: top;\n",
       "    }\n",
       "\n",
       "    .dataframe thead th {\n",
       "        text-align: right;\n",
       "    }\n",
       "</style>\n",
       "<table border=\"1\" class=\"dataframe\">\n",
       "  <thead>\n",
       "    <tr style=\"text-align: right;\">\n",
       "      <th></th>\n",
       "      <th>Class</th>\n",
       "      <th>Class_enc</th>\n",
       "      <th>Count</th>\n",
       "    </tr>\n",
       "  </thead>\n",
       "  <tbody>\n",
       "    <tr>\n",
       "      <th>0</th>\n",
       "      <td>Airplane</td>\n",
       "      <td>0</td>\n",
       "      <td>80</td>\n",
       "    </tr>\n",
       "    <tr>\n",
       "      <th>1</th>\n",
       "      <td>Candle</td>\n",
       "      <td>1</td>\n",
       "      <td>89</td>\n",
       "    </tr>\n",
       "    <tr>\n",
       "      <th>2</th>\n",
       "      <td>Christmas_Tree</td>\n",
       "      <td>2</td>\n",
       "      <td>231</td>\n",
       "    </tr>\n",
       "    <tr>\n",
       "      <th>3</th>\n",
       "      <td>Jacket</td>\n",
       "      <td>3</td>\n",
       "      <td>96</td>\n",
       "    </tr>\n",
       "    <tr>\n",
       "      <th>4</th>\n",
       "      <td>Miscellaneous</td>\n",
       "      <td>4</td>\n",
       "      <td>421</td>\n",
       "    </tr>\n",
       "    <tr>\n",
       "      <th>5</th>\n",
       "      <td>Snowman</td>\n",
       "      <td>5</td>\n",
       "      <td>54</td>\n",
       "    </tr>\n",
       "  </tbody>\n",
       "</table>\n",
       "</div>"
      ],
      "text/plain": [
       "            Class Class_enc  Count\n",
       "0        Airplane         0     80\n",
       "1          Candle         1     89\n",
       "2  Christmas_Tree         2    231\n",
       "3          Jacket         3     96\n",
       "4   Miscellaneous         4    421\n",
       "5         Snowman         5     54"
      ]
     },
     "execution_count": 11,
     "metadata": {},
     "output_type": "execute_result"
    }
   ],
   "source": [
    "validation_df.groupby(['Class','Class_enc']).size().reset_index().rename(columns={0:'Count'})"
   ]
  },
  {
   "cell_type": "markdown",
   "metadata": {
    "papermill": {
     "duration": 0.044226,
     "end_time": "2021-01-23T13:14:08.931358",
     "exception": false,
     "start_time": "2021-01-23T13:14:08.887132",
     "status": "completed"
    },
    "tags": []
   },
   "source": [
    "## Model Hyperparameters"
   ]
  },
  {
   "cell_type": "code",
   "execution_count": 12,
   "metadata": {
    "execution": {
     "iopub.execute_input": "2021-01-23T13:14:09.026650Z",
     "iopub.status.busy": "2021-01-23T13:14:09.024348Z",
     "iopub.status.idle": "2021-01-23T13:14:09.027949Z",
     "shell.execute_reply": "2021-01-23T13:14:09.028534Z"
    },
    "papermill": {
     "duration": 0.054148,
     "end_time": "2021-01-23T13:14:09.028674",
     "exception": false,
     "start_time": "2021-01-23T13:14:08.974526",
     "status": "completed"
    },
    "tags": []
   },
   "outputs": [],
   "source": [
    "dataset_dir = \"../input/hackereath-holiday-season-deep-learning-contest/dataset/\"\n",
    "mini_batch_size = 128\n",
    "steps_per_epoch = int(np.ceil(train_df.shape[0] / float(mini_batch_size)))\n",
    "validation_steps = int(np.ceil(validation_df.shape[0] / float(mini_batch_size)))\n",
    "test_steps = int(np.ceil(test_df.shape[0] / float(mini_batch_size)))\n",
    "image_dim = (240, 240, 3)"
   ]
  },
  {
   "cell_type": "markdown",
   "metadata": {
    "papermill": {
     "duration": 0.044797,
     "end_time": "2021-01-23T13:14:09.123132",
     "exception": false,
     "start_time": "2021-01-23T13:14:09.078335",
     "status": "completed"
    },
    "tags": []
   },
   "source": [
    "## Configure image generators"
   ]
  },
  {
   "cell_type": "code",
   "execution_count": 13,
   "metadata": {
    "execution": {
     "iopub.execute_input": "2021-01-23T13:14:09.206170Z",
     "iopub.status.busy": "2021-01-23T13:14:09.205419Z",
     "iopub.status.idle": "2021-01-23T13:14:27.140349Z",
     "shell.execute_reply": "2021-01-23T13:14:27.141094Z"
    },
    "papermill": {
     "duration": 17.981377,
     "end_time": "2021-01-23T13:14:27.141240",
     "exception": false,
     "start_time": "2021-01-23T13:14:09.159863",
     "status": "completed"
    },
    "tags": []
   },
   "outputs": [
    {
     "name": "stdout",
     "output_type": "stream",
     "text": [
      "Found 5498 validated image filenames belonging to 6 classes.\n",
      "Found 971 validated image filenames belonging to 6 classes.\n",
      "Found 3489 validated image filenames belonging to 1 classes.\n"
     ]
    }
   ],
   "source": [
    "train_datagen = ImageDataGenerator(rotation_range = 30,\n",
    "                                   zoom_range = 0.2,\n",
    "                                   horizontal_flip = True,\n",
    "                                   fill_mode = 'nearest',\n",
    "                                   height_shift_range = 0.1,\n",
    "                                   width_shift_range = 0.1)\n",
    "\n",
    "train_generator = train_datagen.flow_from_dataframe(train_df,\n",
    "                                                    directory = os.path.join(dataset_dir,\"train\"),\n",
    "                                                    x_col = \"Image\", \n",
    "                                                    y_col = \"Class_enc\",\n",
    "                                                    target_size = (image_dim[0], image_dim[1]),\n",
    "                                                    batch_size = mini_batch_size,\n",
    "                                                    class_mode = \"categorical\",\n",
    "                                                    interpolation=\"bicubic\")\n",
    "\n",
    "validation_datagen = ImageDataGenerator()\n",
    "\n",
    "validation_generator = validation_datagen.flow_from_dataframe(validation_df,\n",
    "                                                              directory = os.path.join(dataset_dir,\"train\"),\n",
    "                                                              x_col = \"Image\",\n",
    "                                                              y_col = \"Class_enc\",\n",
    "                                                              shuffle=False,\n",
    "                                                              target_size = (image_dim[0], image_dim[1]),\n",
    "                                                              batch_size = mini_batch_size,\n",
    "                                                              class_mode = \"categorical\",\n",
    "                                                              interpolation=\"bicubic\")\n",
    "\n",
    "test_datagen = ImageDataGenerator()\n",
    "\n",
    "test_generator = test_datagen.flow_from_dataframe(test_df,\n",
    "                                                  directory = os.path.join(dataset_dir,\"test\"),\n",
    "                                                  x_col = \"Image\",\n",
    "                                                  y_col = \"Class\",\n",
    "                                                  shuffle=False,\n",
    "                                                  target_size = (image_dim[0], image_dim[1]),\n",
    "                                                  batch_size = mini_batch_size,\n",
    "                                                  class_mode = \"categorical\",\n",
    "                                                  interpolation=\"bicubic\")"
   ]
  },
  {
   "cell_type": "markdown",
   "metadata": {
    "papermill": {
     "duration": 0.025775,
     "end_time": "2021-01-23T13:14:27.193790",
     "exception": false,
     "start_time": "2021-01-23T13:14:27.168015",
     "status": "completed"
    },
    "tags": []
   },
   "source": [
    "## Build and validate the model"
   ]
  },
  {
   "cell_type": "code",
   "execution_count": 14,
   "metadata": {
    "execution": {
     "iopub.execute_input": "2021-01-23T13:14:27.278934Z",
     "iopub.status.busy": "2021-01-23T13:14:27.278110Z",
     "iopub.status.idle": "2021-01-23T13:14:27.308541Z",
     "shell.execute_reply": "2021-01-23T13:14:27.308081Z"
    },
    "papermill": {
     "duration": 0.088469,
     "end_time": "2021-01-23T13:14:27.308634",
     "exception": false,
     "start_time": "2021-01-23T13:14:27.220165",
     "status": "completed"
    },
    "tags": []
   },
   "outputs": [],
   "source": [
    "def head(x_input, input_shape=1792, ratio=8):\n",
    "    \n",
    "    #=======================================================\n",
    "    #                    Channel Attention\n",
    "    #=======================================================\n",
    "    gapavg = GlobalAveragePooling2D()(x_input)\n",
    "    gapavg = Reshape((1, 1, gapavg.shape[1]))(gapavg)\n",
    "    gapavg = Conv2D(input_shape//ratio, \n",
    "                    kernel_size=1, strides=1, use_bias=True, \n",
    "                    padding='same', kernel_regularizer=l2(0.001), \n",
    "                    kernel_initializer='he_normal')(gapavg)\n",
    "    gapavg = BatchNormalization()(gapavg)\n",
    "    gapavg = Activation('relu')(gapavg)\n",
    "    gapavg_out = Conv2D(input_shape, kernel_size=1, \n",
    "                        strides=1, padding='same', use_bias=True, \n",
    "                        kernel_regularizer=l2(0.001), \n",
    "                        kernel_initializer='he_normal')(gapavg)\n",
    "    gapavg_out = BatchNormalization()(gapavg_out)\n",
    "    gapavg_out = Activation('relu')(gapavg_out)\n",
    "\n",
    "\n",
    "    gmpmax = GlobalMaxPooling2D()(x_input)\n",
    "    gmpmax = Reshape((1, 1, gmpmax.shape[1]))(gmpmax)\n",
    "    gmpmax = Conv2D(input_shape//ratio, \n",
    "                    kernel_size=1, strides=1, use_bias=True, \n",
    "                    padding='same', kernel_regularizer=l2(0.001), \n",
    "                    kernel_initializer='he_normal')(gmpmax)\n",
    "    gmpmax = BatchNormalization()(gmpmax)\n",
    "    gmpmax = Activation('relu')(gmpmax)\n",
    "    gmpmax_out = Conv2D(input_shape, kernel_size=1, \n",
    "                        strides=1, padding='same', use_bias=True, \n",
    "                        kernel_regularizer=l2(0.001), \n",
    "                        kernel_initializer='he_normal')(gmpmax)\n",
    "    gmpmax_out = BatchNormalization()(gmpmax_out)\n",
    "    gmpmax_out = Activation('relu')(gmpmax_out)\n",
    "    canx = x_input * tf.math.sigmoid(gapavg_out + gmpmax_out)\n",
    "\n",
    "\n",
    "    #=======================================================\n",
    "    #                    Spatial Attention\n",
    "    #=======================================================\n",
    "    avg_out = tf.reduce_mean(canx, axis=3)\n",
    "    max_out = tf.reduce_max(canx,  axis=3)\n",
    "    x = tf.stack([avg_out, max_out], axis=3)\n",
    "    \n",
    "    x = Conv2D(filters=64, kernel_size=3, strides=1, \n",
    "               padding='same', use_bias=False, \n",
    "               kernel_regularizer=l2(0.001), \n",
    "               kernel_initializer='he_normal')(x)\n",
    "    x = BatchNormalization()(x)\n",
    "    x = Activation('relu')(x)\n",
    "\n",
    "    x = Conv2D(filters=32, kernel_size=3, strides=1, \n",
    "               padding='same', use_bias=False, \n",
    "               kernel_regularizer=l2(0.001), \n",
    "               kernel_initializer='he_normal')(x)\n",
    "    x = BatchNormalization()(x)\n",
    "    x = Activation('relu')(x)\n",
    "\n",
    "    x = Conv2D(filters=16, kernel_size=3, strides=1, \n",
    "               padding='same', use_bias=False, \n",
    "               kernel_regularizer=l2(0.001), \n",
    "               kernel_initializer='he_normal')(x)\n",
    "    x = BatchNormalization()(x)\n",
    "    x = Activation('relu')(x)\n",
    "\n",
    "    x = Conv2D(filters=1, kernel_size=3, strides=1, \n",
    "               padding='same', use_bias=False, \n",
    "               kernel_regularizer=l2(0.001), \n",
    "               kernel_initializer='he_normal')(x)\n",
    "    x = BatchNormalization()(x)\n",
    "    x = Activation('sigmoid')(x)\n",
    "    spnx1 = canx * x\n",
    "    spnx2 = x\n",
    "    \n",
    "    gapx   = GlobalAveragePooling2D()(spnx1)\n",
    "    wvgx   = GlobalAveragePooling2D()(spnx2)\n",
    "    gapavg = Average()([gapx, wvgx])\n",
    "    x = BatchNormalization()(gapavg)\n",
    "\n",
    "\n",
    "    #=======================================================\n",
    "    #                    Tail of the model\n",
    "    #=======================================================\n",
    "\n",
    "    x = Dense(units=2048, kernel_regularizer=l2(0.0001), \n",
    "              kernel_initializer='he_uniform')(x)\n",
    "    x = BatchNormalization()(x)\n",
    "    x = Activation('relu')(x)\n",
    "    x = Dropout(rate=0.5)(x)\n",
    "    \n",
    "    x = Dense(units=1024, kernel_regularizer=l2(0.0001), \n",
    "              kernel_initializer='he_uniform')(x)\n",
    "    x = BatchNormalization()(x)\n",
    "    x = Activation('relu')(x)\n",
    "    x = Dropout(rate=0.5)(x)\n",
    "    \n",
    "    x = Dense(units=1024, kernel_regularizer=l2(0.0001), \n",
    "              kernel_initializer='he_uniform')(x)\n",
    "    x = BatchNormalization()(x)\n",
    "    x = Activation('relu')(x)\n",
    "    x = Dropout(rate=0.5)(x)\n",
    "    \n",
    "    x = Dense(units=512, kernel_regularizer=l2(0.0001), \n",
    "              kernel_initializer='he_uniform')(x)\n",
    "    x = BatchNormalization()(x)\n",
    "    x = Activation('relu')(x)\n",
    "    x = Dropout(rate=0.5)(x)\n",
    "    \n",
    "    x = Dense(units=6, activation='softmax', \n",
    "              kernel_initializer='he_uniform')(x)\n",
    "\n",
    "    return x"
   ]
  },
  {
   "cell_type": "code",
   "execution_count": 15,
   "metadata": {
    "execution": {
     "iopub.execute_input": "2021-01-23T13:14:27.380327Z",
     "iopub.status.busy": "2021-01-23T13:14:27.378127Z",
     "iopub.status.idle": "2021-01-23T13:14:44.520029Z",
     "shell.execute_reply": "2021-01-23T13:14:44.519278Z"
    },
    "papermill": {
     "duration": 17.182335,
     "end_time": "2021-01-23T13:14:44.520136",
     "exception": false,
     "start_time": "2021-01-23T13:14:27.337801",
     "status": "completed"
    },
    "tags": []
   },
   "outputs": [
    {
     "name": "stdout",
     "output_type": "stream",
     "text": [
      "Downloading data from https://storage.googleapis.com/keras-applications/efficientnetb4_notop.h5\n",
      "71688192/71686520 [==============================] - 1s 0us/step\n"
     ]
    }
   ],
   "source": [
    "# Build the model\n",
    "base_model = EfficientNetB4(weights='imagenet', \n",
    "                            input_tensor=Input(shape=image_dim), \n",
    "                            include_top=False)\n",
    "\n",
    "model = Model(base_model.input, head(base_model.output),\n",
    "              name='HackerEarth_Holiday_Season_Model')\n",
    "\n",
    "# Load the pre-trained model\n",
    "pretrain_model = load_model('../input/holiday-season-enetb4-mav1/hackerearth_holiday_season_model.h5')\n",
    "\n",
    "# Transfer weights from pre-trained model\n",
    "model.set_weights(pretrain_model.get_weights())\n",
    "\n",
    "# Freeze weights for base model\n",
    "base_model.trainable = False\n",
    "for layer in base_model.layers[-18:]:\n",
    "    if not isinstance(layer, BatchNormalization):\n",
    "        layer.trainable = True\n",
    "\n",
    "# Compile the final model\n",
    "model.compile(loss='categorical_crossentropy', \n",
    "              metrics=[F1Score(num_classes=6, average='weighted'), \n",
    "                       'categorical_accuracy'],\n",
    "              optimizer=Lookahead(AdamW(lr=1e-2, \n",
    "                                        weight_decay=1e-5, \n",
    "                                        clipvalue=700), \n",
    "                                  sync_period=10))\n",
    "\n",
    "early = EarlyStopping(monitor=\"val_loss\", mode=\"min\", patience=10, \n",
    "                      restore_best_weights=True, verbose=1)\n",
    "\n",
    "reduce_lr = ReduceLROnPlateau(monitor=\"val_loss\", factor=0.1, \n",
    "                              min_lr=1e-6, patience=7, \n",
    "                              verbose=1, mode='min')\n",
    "\n",
    "chk_point = ModelCheckpoint('hackerearth_holiday_season_model.h5', \n",
    "                            monitor='val_loss', verbose=1, \n",
    "                            save_best_only=True, mode='min')"
   ]
  },
  {
   "cell_type": "code",
   "execution_count": 16,
   "metadata": {
    "execution": {
     "iopub.execute_input": "2021-01-23T13:14:44.585263Z",
     "iopub.status.busy": "2021-01-23T13:14:44.584534Z",
     "iopub.status.idle": "2021-01-23T14:21:47.331433Z",
     "shell.execute_reply": "2021-01-23T14:21:47.320769Z"
    },
    "papermill": {
     "duration": 4022.782955,
     "end_time": "2021-01-23T14:21:47.331577",
     "exception": false,
     "start_time": "2021-01-23T13:14:44.548622",
     "status": "completed"
    },
    "tags": []
   },
   "outputs": [
    {
     "name": "stdout",
     "output_type": "stream",
     "text": [
      "Epoch 1/275\n",
      "43/43 [==============================] - ETA: 0s - loss: 0.5198 - f1_score: 0.8309 - categorical_accuracy: 0.8308\n",
      "Epoch 00001: val_loss improved from inf to 1.35819, saving model to hackerearth_holiday_season_model.h5\n",
      "43/43 [==============================] - 88s 2s/step - loss: 0.5198 - f1_score: 0.8309 - categorical_accuracy: 0.8308 - val_loss: 1.3582 - val_f1_score: 0.8618 - val_categorical_accuracy: 0.8599\n",
      "Epoch 2/275\n",
      "43/43 [==============================] - ETA: 0s - loss: 0.4445 - f1_score: 0.8496 - categorical_accuracy: 0.8478\n",
      "Epoch 00002: val_loss improved from 1.35819 to 0.92812, saving model to hackerearth_holiday_season_model.h5\n",
      "43/43 [==============================] - 79s 2s/step - loss: 0.4445 - f1_score: 0.8496 - categorical_accuracy: 0.8478 - val_loss: 0.9281 - val_f1_score: 0.8626 - val_categorical_accuracy: 0.8630\n",
      "Epoch 3/275\n",
      "43/43 [==============================] - ETA: 0s - loss: 0.3774 - f1_score: 0.8710 - categorical_accuracy: 0.8700\n",
      "Epoch 00003: val_loss improved from 0.92812 to 0.69764, saving model to hackerearth_holiday_season_model.h5\n",
      "43/43 [==============================] - 80s 2s/step - loss: 0.3774 - f1_score: 0.8710 - categorical_accuracy: 0.8700 - val_loss: 0.6976 - val_f1_score: 0.8703 - val_categorical_accuracy: 0.8682\n",
      "Epoch 4/275\n",
      "43/43 [==============================] - ETA: 0s - loss: 0.4003 - f1_score: 0.8588 - categorical_accuracy: 0.8569\n",
      "Epoch 00004: val_loss did not improve from 0.69764\n",
      "43/43 [==============================] - 75s 2s/step - loss: 0.4003 - f1_score: 0.8588 - categorical_accuracy: 0.8569 - val_loss: 0.8403 - val_f1_score: 0.8686 - val_categorical_accuracy: 0.8651\n",
      "Epoch 5/275\n",
      "43/43 [==============================] - ETA: 0s - loss: 0.3918 - f1_score: 0.8657 - categorical_accuracy: 0.8643\n",
      "Epoch 00005: val_loss improved from 0.69764 to 0.59400, saving model to hackerearth_holiday_season_model.h5\n",
      "43/43 [==============================] - 80s 2s/step - loss: 0.3918 - f1_score: 0.8657 - categorical_accuracy: 0.8643 - val_loss: 0.5940 - val_f1_score: 0.8940 - val_categorical_accuracy: 0.8908\n",
      "Epoch 6/275\n",
      "43/43 [==============================] - ETA: 0s - loss: 0.4020 - f1_score: 0.8689 - categorical_accuracy: 0.8676\n",
      "Epoch 00006: val_loss did not improve from 0.59400\n",
      "43/43 [==============================] - 76s 2s/step - loss: 0.4020 - f1_score: 0.8689 - categorical_accuracy: 0.8676 - val_loss: 0.7348 - val_f1_score: 0.8939 - val_categorical_accuracy: 0.8939\n",
      "Epoch 7/275\n",
      "43/43 [==============================] - ETA: 0s - loss: 0.3754 - f1_score: 0.8698 - categorical_accuracy: 0.8687\n",
      "Epoch 00007: val_loss improved from 0.59400 to 0.52360, saving model to hackerearth_holiday_season_model.h5\n",
      "43/43 [==============================] - 86s 2s/step - loss: 0.3754 - f1_score: 0.8698 - categorical_accuracy: 0.8687 - val_loss: 0.5236 - val_f1_score: 0.9059 - val_categorical_accuracy: 0.9042\n",
      "Epoch 8/275\n",
      "43/43 [==============================] - ETA: 0s - loss: 0.3642 - f1_score: 0.8776 - categorical_accuracy: 0.8761\n",
      "Epoch 00008: val_loss did not improve from 0.52360\n",
      "43/43 [==============================] - 75s 2s/step - loss: 0.3642 - f1_score: 0.8776 - categorical_accuracy: 0.8761 - val_loss: 0.7560 - val_f1_score: 0.8752 - val_categorical_accuracy: 0.8723\n",
      "Epoch 9/275\n",
      "43/43 [==============================] - ETA: 0s - loss: 0.4139 - f1_score: 0.8824 - categorical_accuracy: 0.8818\n",
      "Epoch 00009: val_loss did not improve from 0.52360\n",
      "43/43 [==============================] - 75s 2s/step - loss: 0.4139 - f1_score: 0.8824 - categorical_accuracy: 0.8818 - val_loss: 1.2791 - val_f1_score: 0.7050 - val_categorical_accuracy: 0.6962\n",
      "Epoch 10/275\n",
      "43/43 [==============================] - ETA: 0s - loss: 0.3698 - f1_score: 0.8835 - categorical_accuracy: 0.8821\n",
      "Epoch 00010: val_loss did not improve from 0.52360\n",
      "43/43 [==============================] - 78s 2s/step - loss: 0.3698 - f1_score: 0.8835 - categorical_accuracy: 0.8821 - val_loss: 0.5569 - val_f1_score: 0.9093 - val_categorical_accuracy: 0.9083\n",
      "Epoch 11/275\n",
      "43/43 [==============================] - ETA: 0s - loss: 0.3463 - f1_score: 0.8942 - categorical_accuracy: 0.8934\n",
      "Epoch 00011: val_loss did not improve from 0.52360\n",
      "43/43 [==============================] - 81s 2s/step - loss: 0.3463 - f1_score: 0.8942 - categorical_accuracy: 0.8934 - val_loss: 0.5324 - val_f1_score: 0.9076 - val_categorical_accuracy: 0.9063\n",
      "Epoch 12/275\n",
      "43/43 [==============================] - ETA: 0s - loss: 0.3428 - f1_score: 0.8972 - categorical_accuracy: 0.8963\n",
      "Epoch 00012: val_loss did not improve from 0.52360\n",
      "43/43 [==============================] - 76s 2s/step - loss: 0.3428 - f1_score: 0.8972 - categorical_accuracy: 0.8963 - val_loss: 0.7393 - val_f1_score: 0.8767 - val_categorical_accuracy: 0.8733\n",
      "Epoch 13/275\n",
      "43/43 [==============================] - ETA: 0s - loss: 0.3662 - f1_score: 0.8830 - categorical_accuracy: 0.8820\n",
      "Epoch 00013: val_loss did not improve from 0.52360\n",
      "43/43 [==============================] - 74s 2s/step - loss: 0.3662 - f1_score: 0.8830 - categorical_accuracy: 0.8820 - val_loss: 0.6816 - val_f1_score: 0.9035 - val_categorical_accuracy: 0.9022\n",
      "Epoch 14/275\n",
      "43/43 [==============================] - ETA: 0s - loss: 0.3687 - f1_score: 0.8851 - categorical_accuracy: 0.8840\n",
      "Epoch 00014: ReduceLROnPlateau reducing learning rate to 0.0009999999776482583.\n",
      "\n",
      "Epoch 00014: val_loss did not improve from 0.52360\n",
      "43/43 [==============================] - 76s 2s/step - loss: 0.3687 - f1_score: 0.8851 - categorical_accuracy: 0.8840 - val_loss: 0.9508 - val_f1_score: 0.8660 - val_categorical_accuracy: 0.8620\n",
      "Epoch 15/275\n",
      "43/43 [==============================] - ETA: 0s - loss: 0.2981 - f1_score: 0.9111 - categorical_accuracy: 0.9107\n",
      "Epoch 00015: val_loss improved from 0.52360 to 0.49151, saving model to hackerearth_holiday_season_model.h5\n",
      "43/43 [==============================] - 81s 2s/step - loss: 0.2981 - f1_score: 0.9111 - categorical_accuracy: 0.9107 - val_loss: 0.4915 - val_f1_score: 0.9114 - val_categorical_accuracy: 0.9104\n",
      "Epoch 16/275\n",
      "43/43 [==============================] - ETA: 0s - loss: 0.2279 - f1_score: 0.9178 - categorical_accuracy: 0.9174\n",
      "Epoch 00016: val_loss improved from 0.49151 to 0.42943, saving model to hackerearth_holiday_season_model.h5\n",
      "43/43 [==============================] - 80s 2s/step - loss: 0.2279 - f1_score: 0.9178 - categorical_accuracy: 0.9174 - val_loss: 0.4294 - val_f1_score: 0.9190 - val_categorical_accuracy: 0.9186\n",
      "Epoch 17/275\n",
      "43/43 [==============================] - ETA: 0s - loss: 0.1938 - f1_score: 0.9234 - categorical_accuracy: 0.9231\n",
      "Epoch 00017: val_loss improved from 0.42943 to 0.39502, saving model to hackerearth_holiday_season_model.h5\n",
      "43/43 [==============================] - 79s 2s/step - loss: 0.1938 - f1_score: 0.9234 - categorical_accuracy: 0.9231 - val_loss: 0.3950 - val_f1_score: 0.9116 - val_categorical_accuracy: 0.9114\n",
      "Epoch 18/275\n",
      "43/43 [==============================] - ETA: 0s - loss: 0.1703 - f1_score: 0.9193 - categorical_accuracy: 0.9189\n",
      "Epoch 00018: val_loss improved from 0.39502 to 0.37892, saving model to hackerearth_holiday_season_model.h5\n",
      "43/43 [==============================] - 79s 2s/step - loss: 0.1703 - f1_score: 0.9193 - categorical_accuracy: 0.9189 - val_loss: 0.3789 - val_f1_score: 0.9165 - val_categorical_accuracy: 0.9166\n",
      "Epoch 19/275\n",
      "43/43 [==============================] - ETA: 0s - loss: 0.1540 - f1_score: 0.9240 - categorical_accuracy: 0.9234\n",
      "Epoch 00019: val_loss improved from 0.37892 to 0.37103, saving model to hackerearth_holiday_season_model.h5\n",
      "43/43 [==============================] - 81s 2s/step - loss: 0.1540 - f1_score: 0.9240 - categorical_accuracy: 0.9234 - val_loss: 0.3710 - val_f1_score: 0.9109 - val_categorical_accuracy: 0.9114\n",
      "Epoch 20/275\n",
      "43/43 [==============================] - ETA: 0s - loss: 0.1393 - f1_score: 0.9248 - categorical_accuracy: 0.9245\n",
      "Epoch 00020: val_loss improved from 0.37103 to 0.35227, saving model to hackerearth_holiday_season_model.h5\n",
      "43/43 [==============================] - 80s 2s/step - loss: 0.1393 - f1_score: 0.9248 - categorical_accuracy: 0.9245 - val_loss: 0.3523 - val_f1_score: 0.9160 - val_categorical_accuracy: 0.9166\n",
      "Epoch 21/275\n",
      "43/43 [==============================] - ETA: 0s - loss: 0.1333 - f1_score: 0.9241 - categorical_accuracy: 0.9236\n",
      "Epoch 00021: val_loss improved from 0.35227 to 0.34028, saving model to hackerearth_holiday_season_model.h5\n",
      "43/43 [==============================] - 81s 2s/step - loss: 0.1333 - f1_score: 0.9241 - categorical_accuracy: 0.9236 - val_loss: 0.3403 - val_f1_score: 0.9226 - val_categorical_accuracy: 0.9228\n",
      "Epoch 22/275\n",
      "43/43 [==============================] - ETA: 0s - loss: 0.1254 - f1_score: 0.9218 - categorical_accuracy: 0.9211\n",
      "Epoch 00022: val_loss improved from 0.34028 to 0.33277, saving model to hackerearth_holiday_season_model.h5\n",
      "43/43 [==============================] - 80s 2s/step - loss: 0.1254 - f1_score: 0.9218 - categorical_accuracy: 0.9211 - val_loss: 0.3328 - val_f1_score: 0.9133 - val_categorical_accuracy: 0.9135\n",
      "Epoch 23/275\n",
      "43/43 [==============================] - ETA: 0s - loss: 0.1065 - f1_score: 0.9370 - categorical_accuracy: 0.9367\n",
      "Epoch 00023: val_loss did not improve from 0.33277\n",
      "43/43 [==============================] - 74s 2s/step - loss: 0.1065 - f1_score: 0.9370 - categorical_accuracy: 0.9367 - val_loss: 0.3535 - val_f1_score: 0.9091 - val_categorical_accuracy: 0.9094\n",
      "Epoch 24/275\n",
      "43/43 [==============================] - ETA: 0s - loss: 0.1051 - f1_score: 0.9273 - categorical_accuracy: 0.9271\n",
      "Epoch 00024: val_loss improved from 0.33277 to 0.31245, saving model to hackerearth_holiday_season_model.h5\n",
      "43/43 [==============================] - 78s 2s/step - loss: 0.1051 - f1_score: 0.9273 - categorical_accuracy: 0.9271 - val_loss: 0.3124 - val_f1_score: 0.9156 - val_categorical_accuracy: 0.9156\n",
      "Epoch 25/275\n",
      "43/43 [==============================] - ETA: 0s - loss: 0.1053 - f1_score: 0.9263 - categorical_accuracy: 0.9258\n",
      "Epoch 00025: val_loss did not improve from 0.31245\n",
      "43/43 [==============================] - 74s 2s/step - loss: 0.1053 - f1_score: 0.9263 - categorical_accuracy: 0.9258 - val_loss: 0.3163 - val_f1_score: 0.9184 - val_categorical_accuracy: 0.9186\n",
      "Epoch 26/275\n",
      "43/43 [==============================] - ETA: 0s - loss: 0.0990 - f1_score: 0.9331 - categorical_accuracy: 0.9329\n",
      "Epoch 00026: val_loss did not improve from 0.31245\n",
      "43/43 [==============================] - 73s 2s/step - loss: 0.0990 - f1_score: 0.9331 - categorical_accuracy: 0.9329 - val_loss: 0.3246 - val_f1_score: 0.9155 - val_categorical_accuracy: 0.9156\n",
      "Epoch 27/275\n",
      "43/43 [==============================] - ETA: 0s - loss: 0.0958 - f1_score: 0.9312 - categorical_accuracy: 0.9309\n",
      "Epoch 00027: val_loss improved from 0.31245 to 0.30654, saving model to hackerearth_holiday_season_model.h5\n",
      "43/43 [==============================] - 80s 2s/step - loss: 0.0958 - f1_score: 0.9312 - categorical_accuracy: 0.9309 - val_loss: 0.3065 - val_f1_score: 0.9130 - val_categorical_accuracy: 0.9135\n",
      "Epoch 28/275\n",
      "43/43 [==============================] - ETA: 0s - loss: 0.0928 - f1_score: 0.9366 - categorical_accuracy: 0.9362\n",
      "Epoch 00028: val_loss improved from 0.30654 to 0.30554, saving model to hackerearth_holiday_season_model.h5\n",
      "43/43 [==============================] - 79s 2s/step - loss: 0.0928 - f1_score: 0.9366 - categorical_accuracy: 0.9362 - val_loss: 0.3055 - val_f1_score: 0.9160 - val_categorical_accuracy: 0.9166\n",
      "Epoch 29/275\n",
      "43/43 [==============================] - ETA: 0s - loss: 0.0879 - f1_score: 0.9343 - categorical_accuracy: 0.9342\n",
      "Epoch 00029: val_loss did not improve from 0.30554\n",
      "43/43 [==============================] - 74s 2s/step - loss: 0.0879 - f1_score: 0.9343 - categorical_accuracy: 0.9342 - val_loss: 0.3163 - val_f1_score: 0.9101 - val_categorical_accuracy: 0.9104\n",
      "Epoch 30/275\n",
      "43/43 [==============================] - ETA: 0s - loss: 0.0891 - f1_score: 0.9361 - categorical_accuracy: 0.9358\n",
      "Epoch 00030: val_loss did not improve from 0.30554\n",
      "43/43 [==============================] - 73s 2s/step - loss: 0.0891 - f1_score: 0.9361 - categorical_accuracy: 0.9358 - val_loss: 0.3194 - val_f1_score: 0.9146 - val_categorical_accuracy: 0.9145\n",
      "Epoch 31/275\n",
      "43/43 [==============================] - ETA: 0s - loss: 0.0904 - f1_score: 0.9309 - categorical_accuracy: 0.9305\n",
      "Epoch 00031: val_loss improved from 0.30554 to 0.30286, saving model to hackerearth_holiday_season_model.h5\n",
      "43/43 [==============================] - 80s 2s/step - loss: 0.0904 - f1_score: 0.9309 - categorical_accuracy: 0.9305 - val_loss: 0.3029 - val_f1_score: 0.9175 - val_categorical_accuracy: 0.9176\n",
      "Epoch 32/275\n",
      "43/43 [==============================] - ETA: 0s - loss: 0.0934 - f1_score: 0.9331 - categorical_accuracy: 0.9329\n",
      "Epoch 00032: val_loss did not improve from 0.30286\n",
      "43/43 [==============================] - 74s 2s/step - loss: 0.0934 - f1_score: 0.9331 - categorical_accuracy: 0.9329 - val_loss: 0.3037 - val_f1_score: 0.9187 - val_categorical_accuracy: 0.9186\n",
      "Epoch 33/275\n",
      "43/43 [==============================] - ETA: 0s - loss: 0.0933 - f1_score: 0.9343 - categorical_accuracy: 0.9342\n",
      "Epoch 00033: val_loss improved from 0.30286 to 0.30166, saving model to hackerearth_holiday_season_model.h5\n",
      "43/43 [==============================] - 82s 2s/step - loss: 0.0933 - f1_score: 0.9343 - categorical_accuracy: 0.9342 - val_loss: 0.3017 - val_f1_score: 0.9190 - val_categorical_accuracy: 0.9186\n",
      "Epoch 34/275\n",
      "43/43 [==============================] - ETA: 0s - loss: 0.0869 - f1_score: 0.9356 - categorical_accuracy: 0.9354\n",
      "Epoch 00034: val_loss improved from 0.30166 to 0.29274, saving model to hackerearth_holiday_season_model.h5\n",
      "43/43 [==============================] - 84s 2s/step - loss: 0.0869 - f1_score: 0.9356 - categorical_accuracy: 0.9354 - val_loss: 0.2927 - val_f1_score: 0.9156 - val_categorical_accuracy: 0.9156\n",
      "Epoch 35/275\n",
      "43/43 [==============================] - ETA: 0s - loss: 0.0917 - f1_score: 0.9311 - categorical_accuracy: 0.9305\n",
      "Epoch 00035: val_loss did not improve from 0.29274\n",
      "43/43 [==============================] - 74s 2s/step - loss: 0.0917 - f1_score: 0.9311 - categorical_accuracy: 0.9305 - val_loss: 0.3094 - val_f1_score: 0.9083 - val_categorical_accuracy: 0.9083\n",
      "Epoch 36/275\n",
      "43/43 [==============================] - ETA: 0s - loss: 0.0891 - f1_score: 0.9424 - categorical_accuracy: 0.9420\n",
      "Epoch 00036: val_loss did not improve from 0.29274\n",
      "43/43 [==============================] - 74s 2s/step - loss: 0.0891 - f1_score: 0.9424 - categorical_accuracy: 0.9420 - val_loss: 0.3392 - val_f1_score: 0.9081 - val_categorical_accuracy: 0.9073\n",
      "Epoch 37/275\n",
      "43/43 [==============================] - ETA: 0s - loss: 0.0880 - f1_score: 0.9423 - categorical_accuracy: 0.9422\n",
      "Epoch 00037: val_loss did not improve from 0.29274\n",
      "43/43 [==============================] - 75s 2s/step - loss: 0.0880 - f1_score: 0.9423 - categorical_accuracy: 0.9422 - val_loss: 0.3010 - val_f1_score: 0.9124 - val_categorical_accuracy: 0.9125\n",
      "Epoch 38/275\n",
      "43/43 [==============================] - ETA: 0s - loss: 0.0867 - f1_score: 0.9381 - categorical_accuracy: 0.9376\n",
      "Epoch 00038: val_loss did not improve from 0.29274\n",
      "43/43 [==============================] - 74s 2s/step - loss: 0.0867 - f1_score: 0.9381 - categorical_accuracy: 0.9376 - val_loss: 0.3047 - val_f1_score: 0.9101 - val_categorical_accuracy: 0.9104\n",
      "Epoch 39/275\n",
      "43/43 [==============================] - ETA: 0s - loss: 0.0833 - f1_score: 0.9383 - categorical_accuracy: 0.9378\n",
      "Epoch 00039: val_loss did not improve from 0.29274\n",
      "43/43 [==============================] - 73s 2s/step - loss: 0.0833 - f1_score: 0.9383 - categorical_accuracy: 0.9378 - val_loss: 0.2937 - val_f1_score: 0.9122 - val_categorical_accuracy: 0.9125\n",
      "Epoch 40/275\n",
      "43/43 [==============================] - ETA: 0s - loss: 0.0732 - f1_score: 0.9475 - categorical_accuracy: 0.9473\n",
      "Epoch 00040: val_loss did not improve from 0.29274\n",
      "43/43 [==============================] - 76s 2s/step - loss: 0.0732 - f1_score: 0.9475 - categorical_accuracy: 0.9473 - val_loss: 0.2997 - val_f1_score: 0.9165 - val_categorical_accuracy: 0.9166\n",
      "Epoch 41/275\n",
      "43/43 [==============================] - ETA: 0s - loss: 0.0779 - f1_score: 0.9415 - categorical_accuracy: 0.9411\n",
      "Epoch 00041: ReduceLROnPlateau reducing learning rate to 9.999999310821295e-05.\n",
      "\n",
      "Epoch 00041: val_loss did not improve from 0.29274\n",
      "43/43 [==============================] - 75s 2s/step - loss: 0.0779 - f1_score: 0.9415 - categorical_accuracy: 0.9411 - val_loss: 0.3103 - val_f1_score: 0.9145 - val_categorical_accuracy: 0.9145\n",
      "Epoch 42/275\n",
      "43/43 [==============================] - ETA: 0s - loss: 0.0742 - f1_score: 0.9491 - categorical_accuracy: 0.9489\n",
      "Epoch 00042: val_loss did not improve from 0.29274\n",
      "43/43 [==============================] - 74s 2s/step - loss: 0.0742 - f1_score: 0.9491 - categorical_accuracy: 0.9489 - val_loss: 0.3043 - val_f1_score: 0.9146 - val_categorical_accuracy: 0.9145\n",
      "Epoch 43/275\n",
      "43/43 [==============================] - ETA: 0s - loss: 0.0716 - f1_score: 0.9463 - categorical_accuracy: 0.9460\n",
      "Epoch 00043: val_loss did not improve from 0.29274\n",
      "43/43 [==============================] - 73s 2s/step - loss: 0.0716 - f1_score: 0.9463 - categorical_accuracy: 0.9460 - val_loss: 0.3018 - val_f1_score: 0.9137 - val_categorical_accuracy: 0.9135\n",
      "Epoch 44/275\n",
      "43/43 [==============================] - ETA: 0s - loss: 0.0712 - f1_score: 0.9509 - categorical_accuracy: 0.9505Restoring model weights from the end of the best epoch.\n",
      "\n",
      "Epoch 00044: val_loss did not improve from 0.29274\n",
      "43/43 [==============================] - 76s 2s/step - loss: 0.0712 - f1_score: 0.9509 - categorical_accuracy: 0.9505 - val_loss: 0.2998 - val_f1_score: 0.9137 - val_categorical_accuracy: 0.9135\n",
      "Epoch 00044: early stopping\n"
     ]
    }
   ],
   "source": [
    "history = model.fit(\n",
    "    train_generator, \n",
    "    steps_per_epoch=steps_per_epoch,\n",
    "    class_weight=class_weight, \n",
    "    epochs=275, \n",
    "    verbose=1, \n",
    "    workers=5,\n",
    "    callbacks=[reduce_lr, early, chk_point], \n",
    "    validation_data=validation_generator,\n",
    "    validation_steps=validation_steps\n",
    ")"
   ]
  },
  {
   "cell_type": "code",
   "execution_count": 17,
   "metadata": {
    "execution": {
     "iopub.execute_input": "2021-01-23T14:21:53.054712Z",
     "iopub.status.busy": "2021-01-23T14:21:53.053937Z",
     "iopub.status.idle": "2021-01-23T14:21:56.525372Z",
     "shell.execute_reply": "2021-01-23T14:21:56.528436Z"
    },
    "papermill": {
     "duration": 6.08891,
     "end_time": "2021-01-23T14:21:56.529036",
     "exception": false,
     "start_time": "2021-01-23T14:21:50.440126",
     "status": "completed"
    },
    "tags": []
   },
   "outputs": [
    {
     "data": {
      "image/png": "[encoded data removed]",
      "text/plain": [
       "<Figure size 2160x720 with 3 Axes>"
      ]
     },
     "metadata": {},
     "output_type": "display_data"
    }
   ],
   "source": [
    "_, ax = plt.subplots(1, 3, figsize=(30, 10))\n",
    "\n",
    "ax[0].plot(history.history['loss'], label='train_loss')\n",
    "ax[0].plot(history.history['val_loss'], label='val_loss')\n",
    "ax[0].set_ylabel('Loss')\n",
    "ax[0].set_xlabel('Epoch')\n",
    "ax[0].set_title(\"Model Loss Curve\")\n",
    "ax[0].legend()\n",
    "ax[0].grid()\n",
    "\n",
    "ax[1].plot(history.history['f1_score'], label='train_f1_score')\n",
    "ax[1].plot(history.history['val_f1_score'], label='val_f1_score')\n",
    "ax[1].set_ylabel('F1-Score')\n",
    "ax[1].set_xlabel('Epoch')\n",
    "ax[1].set_title(\"Model F1-Score Curve\")\n",
    "ax[1].legend()\n",
    "ax[1].grid()\n",
    "\n",
    "ax[2].plot(history.history['categorical_accuracy'], label='train_accuracy')\n",
    "ax[2].plot(history.history['val_categorical_accuracy'], label='val_accuracy')\n",
    "ax[2].set_ylabel('Accuracy')\n",
    "ax[2].set_xlabel('Epoch')\n",
    "ax[2].set_title(\"Model Accuracy Curve\")\n",
    "ax[2].legend()\n",
    "ax[2].grid()"
   ]
  },
  {
   "cell_type": "markdown",
   "metadata": {
    "papermill": {
     "duration": 1.405798,
     "end_time": "2021-01-23T14:21:59.548627",
     "exception": false,
     "start_time": "2021-01-23T14:21:58.142829",
     "status": "completed"
    },
    "tags": []
   },
   "source": [
    "## Check classification report"
   ]
  },
  {
   "cell_type": "code",
   "execution_count": 18,
   "metadata": {
    "execution": {
     "iopub.execute_input": "2021-01-23T14:22:01.175151Z",
     "iopub.status.busy": "2021-01-23T14:22:01.144349Z",
     "iopub.status.idle": "2021-01-23T14:22:05.321726Z",
     "shell.execute_reply": "2021-01-23T14:22:05.321072Z"
    },
    "papermill": {
     "duration": 4.810038,
     "end_time": "2021-01-23T14:22:05.321840",
     "exception": false,
     "start_time": "2021-01-23T14:22:00.511802",
     "status": "completed"
    },
    "tags": []
   },
   "outputs": [],
   "source": [
    "model = load_model('./hackerearth_holiday_season_model.h5')"
   ]
  },
  {
   "cell_type": "code",
   "execution_count": 19,
   "metadata": {
    "execution": {
     "iopub.execute_input": "2021-01-23T14:22:06.501897Z",
     "iopub.status.busy": "2021-01-23T14:22:06.501353Z",
     "iopub.status.idle": "2021-01-23T14:22:13.998947Z",
     "shell.execute_reply": "2021-01-23T14:22:13.999380Z"
    },
    "papermill": {
     "duration": 8.095236,
     "end_time": "2021-01-23T14:22:13.999508",
     "exception": false,
     "start_time": "2021-01-23T14:22:05.904272",
     "status": "completed"
    },
    "tags": []
   },
   "outputs": [
    {
     "name": "stdout",
     "output_type": "stream",
     "text": [
      "8/8 [==============================] - 4s 451ms/step\n",
      "\n",
      "y_true: (971,)\n",
      "y_pred: (971,)\n"
     ]
    }
   ],
   "source": [
    "y_true = np.array([validation_generator.classes]).ravel()\n",
    "y_pred = model.predict(validation_generator, verbose=1)\n",
    "y_pred = np.argmax(y_pred, axis=1)\n",
    "\n",
    "print(\"\\ny_true: {}\".format(y_true.shape))\n",
    "print(\"y_pred: {}\".format(y_pred.shape))"
   ]
  },
  {
   "cell_type": "code",
   "execution_count": 20,
   "metadata": {
    "execution": {
     "iopub.execute_input": "2021-01-23T14:22:15.174653Z",
     "iopub.status.busy": "2021-01-23T14:22:15.174106Z",
     "iopub.status.idle": "2021-01-23T14:22:15.185418Z",
     "shell.execute_reply": "2021-01-23T14:22:15.185832Z"
    },
    "papermill": {
     "duration": 0.601604,
     "end_time": "2021-01-23T14:22:15.185943",
     "exception": false,
     "start_time": "2021-01-23T14:22:14.584339",
     "status": "completed"
    },
    "tags": []
   },
   "outputs": [
    {
     "name": "stdout",
     "output_type": "stream",
     "text": [
      "              precision    recall  f1-score   support\n",
      "\n",
      "           0       0.95      0.86      0.90        80\n",
      "           1       0.90      0.88      0.89        89\n",
      "           2       0.92      0.95      0.93       231\n",
      "           3       0.93      0.95      0.94        96\n",
      "           4       0.93      0.92      0.93       421\n",
      "           5       0.77      0.81      0.79        54\n",
      "\n",
      "    accuracy                           0.92       971\n",
      "   macro avg       0.90      0.90      0.90       971\n",
      "weighted avg       0.92      0.92      0.92       971\n",
      "\n"
     ]
    }
   ],
   "source": [
    "print(classification_report(y_true, y_pred))"
   ]
  },
  {
   "cell_type": "code",
   "execution_count": 21,
   "metadata": {
    "execution": {
     "iopub.execute_input": "2021-01-23T14:22:16.360594Z",
     "iopub.status.busy": "2021-01-23T14:22:16.358136Z",
     "iopub.status.idle": "2021-01-23T14:22:16.733173Z",
     "shell.execute_reply": "2021-01-23T14:22:16.733595Z"
    },
    "papermill": {
     "duration": 0.966204,
     "end_time": "2021-01-23T14:22:16.733729",
     "exception": false,
     "start_time": "2021-01-23T14:22:15.767525",
     "status": "completed"
    },
    "tags": []
   },
   "outputs": [
    {
     "data": {
      "image/png": "[encoded data removed]",
      "text/plain": [
       "<Figure size 864x504 with 2 Axes>"
      ]
     },
     "metadata": {},
     "output_type": "display_data"
    }
   ],
   "source": [
    "cnf_matrix = confusion_matrix(y_true, y_pred, labels=[0, 1, 2, 3, 4, 5])\n",
    "np.set_printoptions(precision=2)\n",
    "plt.figure(figsize=(12,7))\n",
    "plot_confusion_matrix(cnf_matrix, classes=[0, 1, 2, 3, 4, 5])"
   ]
  },
  {
   "cell_type": "markdown",
   "metadata": {
    "papermill": {
     "duration": 0.615738,
     "end_time": "2021-01-23T14:22:17.937145",
     "exception": false,
     "start_time": "2021-01-23T14:22:17.321407",
     "status": "completed"
    },
    "tags": []
   },
   "source": [
    "## Create submission file"
   ]
  },
  {
   "cell_type": "code",
   "execution_count": 22,
   "metadata": {
    "execution": {
     "iopub.execute_input": "2021-01-23T14:22:19.122046Z",
     "iopub.status.busy": "2021-01-23T14:22:19.120285Z",
     "iopub.status.idle": "2021-01-23T14:22:19.122673Z",
     "shell.execute_reply": "2021-01-23T14:22:19.123100Z"
    },
    "papermill": {
     "duration": 0.594396,
     "end_time": "2021-01-23T14:22:19.123213",
     "exception": false,
     "start_time": "2021-01-23T14:22:18.528817",
     "status": "completed"
    },
    "tags": []
   },
   "outputs": [],
   "source": [
    "rev_class_map = {\n",
    "    0: 'Airplane',\n",
    "    1: 'Candle',\n",
    "    2: 'Christmas_Tree',\n",
    "    3: 'Jacket',\n",
    "    4: 'Miscellaneous',\n",
    "    5: 'Snowman'\n",
    "}"
   ]
  },
  {
   "cell_type": "code",
   "execution_count": 23,
   "metadata": {
    "execution": {
     "iopub.execute_input": "2021-01-23T14:22:20.303484Z",
     "iopub.status.busy": "2021-01-23T14:22:20.302766Z",
     "iopub.status.idle": "2021-01-23T14:22:46.694802Z",
     "shell.execute_reply": "2021-01-23T14:22:46.695253Z"
    },
    "papermill": {
     "duration": 26.985654,
     "end_time": "2021-01-23T14:22:46.695388",
     "exception": false,
     "start_time": "2021-01-23T14:22:19.709734",
     "status": "completed"
    },
    "tags": []
   },
   "outputs": [
    {
     "name": "stdout",
     "output_type": "stream",
     "text": [
      "28/28 [==============================] - 25s 889ms/step\n",
      "(3489,)\n"
     ]
    }
   ],
   "source": [
    "y_pred_final = model.predict(test_generator, verbose=1)\n",
    "y_pred_final = np.argmax(y_pred_final, axis=1)\n",
    "print(y_pred_final.shape)"
   ]
  },
  {
   "cell_type": "code",
   "execution_count": 24,
   "metadata": {
    "execution": {
     "iopub.execute_input": "2021-01-23T14:22:47.958580Z",
     "iopub.status.busy": "2021-01-23T14:22:47.958011Z",
     "iopub.status.idle": "2021-01-23T14:22:47.963849Z",
     "shell.execute_reply": "2021-01-23T14:22:47.963209Z"
    },
    "papermill": {
     "duration": 0.643143,
     "end_time": "2021-01-23T14:22:47.963957",
     "exception": false,
     "start_time": "2021-01-23T14:22:47.320814",
     "status": "completed"
    },
    "tags": []
   },
   "outputs": [
    {
     "data": {
      "text/html": [
       "<div>\n",
       "<style scoped>\n",
       "    .dataframe tbody tr th:only-of-type {\n",
       "        vertical-align: middle;\n",
       "    }\n",
       "\n",
       "    .dataframe tbody tr th {\n",
       "        vertical-align: top;\n",
       "    }\n",
       "\n",
       "    .dataframe thead th {\n",
       "        text-align: right;\n",
       "    }\n",
       "</style>\n",
       "<table border=\"1\" class=\"dataframe\">\n",
       "  <thead>\n",
       "    <tr style=\"text-align: right;\">\n",
       "      <th></th>\n",
       "      <th>Image</th>\n",
       "      <th>Class</th>\n",
       "    </tr>\n",
       "  </thead>\n",
       "  <tbody>\n",
       "    <tr>\n",
       "      <th>0</th>\n",
       "      <td>image7761.jpg</td>\n",
       "      <td>Miscellaneous</td>\n",
       "    </tr>\n",
       "    <tr>\n",
       "      <th>1</th>\n",
       "      <td>image3202.jpg</td>\n",
       "      <td>Miscellaneous</td>\n",
       "    </tr>\n",
       "    <tr>\n",
       "      <th>2</th>\n",
       "      <td>image688.jpg</td>\n",
       "      <td>Snowman</td>\n",
       "    </tr>\n",
       "    <tr>\n",
       "      <th>3</th>\n",
       "      <td>image233.jpg</td>\n",
       "      <td>Candle</td>\n",
       "    </tr>\n",
       "    <tr>\n",
       "      <th>4</th>\n",
       "      <td>image4332.jpg</td>\n",
       "      <td>Christmas_Tree</td>\n",
       "    </tr>\n",
       "  </tbody>\n",
       "</table>\n",
       "</div>"
      ],
      "text/plain": [
       "           Image           Class\n",
       "0  image7761.jpg   Miscellaneous\n",
       "1  image3202.jpg   Miscellaneous\n",
       "2   image688.jpg         Snowman\n",
       "3   image233.jpg          Candle\n",
       "4  image4332.jpg  Christmas_Tree"
      ]
     },
     "execution_count": 24,
     "metadata": {},
     "output_type": "execute_result"
    }
   ],
   "source": [
    "test_df['Class'] = y_pred_final\n",
    "test_df['Class'] = test_df['Class'].map(rev_class_map)\n",
    "test_df.head()"
   ]
  },
  {
   "cell_type": "code",
   "execution_count": 25,
   "metadata": {
    "execution": {
     "iopub.execute_input": "2021-01-23T14:22:49.193730Z",
     "iopub.status.busy": "2021-01-23T14:22:49.193119Z",
     "iopub.status.idle": "2021-01-23T14:22:49.484288Z",
     "shell.execute_reply": "2021-01-23T14:22:49.483738Z"
    },
    "papermill": {
     "duration": 0.910394,
     "end_time": "2021-01-23T14:22:49.484396",
     "exception": false,
     "start_time": "2021-01-23T14:22:48.574002",
     "status": "completed"
    },
    "tags": []
   },
   "outputs": [],
   "source": [
    "test_df.to_csv(\"/kaggle/working/submission.csv\", index=False)"
   ]
  },
  {
   "cell_type": "code",
   "execution_count": null,
   "metadata": {
    "papermill": {
     "duration": 0.611961,
     "end_time": "2021-01-23T14:22:50.711450",
     "exception": false,
     "start_time": "2021-01-23T14:22:50.099489",
     "status": "completed"
    },
    "tags": []
   },
   "outputs": [],
   "source": []
  }
 ],
 "metadata": {
  "kernelspec": {
   "display_name": "Python 3",
   "language": "python",
   "name": "python3"
  },
  "language_info": {
   "codemirror_mode": {
    "name": "ipython",
    "version": 3
   },
   "file_extension": ".py",
   "mimetype": "text/x-python",
   "name": "python",
   "nbconvert_exporter": "python",
   "pygments_lexer": "ipython3",
   "version": "3.7.6"
  },
  "papermill": {
   "duration": 4134.2279,
   "end_time": "2021-01-23T14:22:52.796248",
   "environment_variables": {},
   "exception": null,
   "input_path": "__notebook__.ipynb",
   "output_path": "__notebook__.ipynb",
   "parameters": {},
   "start_time": "2021-01-23T13:13:58.568348",
   "version": "2.1.0"
  }
 },
 "nbformat": 4,
 "nbformat_minor": 4
}
