{
 "cells": [
  {
   "cell_type": "markdown",
   "metadata": {
    "papermill": {
     "duration": 0.028916,
     "end_time": "2021-01-29T08:13:57.021819",
     "exception": false,
     "start_time": "2021-01-29T08:13:56.992903",
     "status": "completed"
    },
    "tags": []
   },
   "source": [
    "## Import Packages"
   ]
  },
  {
   "cell_type": "code",
   "execution_count": 1,
   "metadata": {
    "execution": {
     "iopub.execute_input": "2021-01-29T08:13:57.090445Z",
     "iopub.status.busy": "2021-01-29T08:13:57.089514Z",
     "iopub.status.idle": "2021-01-29T08:14:03.580433Z",
     "shell.execute_reply": "2021-01-29T08:14:03.579038Z"
    },
    "papermill": {
     "duration": 6.529913,
     "end_time": "2021-01-29T08:14:03.580684",
     "exception": false,
     "start_time": "2021-01-29T08:13:57.050771",
     "status": "completed"
    },
    "tags": []
   },
   "outputs": [],
   "source": [
    "import os\n",
    "import itertools\n",
    "import numpy as np\n",
    "import pandas as pd\n",
    "import seaborn as sns\n",
    "from tqdm import tqdm\n",
    "import matplotlib.pyplot as plt\n",
    "from sklearn.metrics import confusion_matrix\n",
    "from sklearn.metrics import classification_report\n",
    "from sklearn.model_selection import StratifiedShuffleSplit\n",
    "\n",
    "import tensorflow as tf\n",
    "from tensorflow.keras import backend as K\n",
    "from tensorflow.keras.regularizers import l2\n",
    "from tensorflow_addons.metrics import F1Score\n",
    "from tensorflow.keras.models import Model, load_model\n",
    "from tensorflow_addons.optimizers import AdamW, Lookahead\n",
    "from tensorflow.keras.callbacks import EarlyStopping\n",
    "from tensorflow.keras.callbacks import ReduceLROnPlateau\n",
    "from tensorflow.keras.callbacks import ModelCheckpoint\n",
    "from tensorflow.keras.applications import EfficientNetB7\n",
    "from tensorflow.keras.layers import Dense, Dropout, Flatten\n",
    "from tensorflow.keras.layers import BatchNormalization, Input\n",
    "from tensorflow.keras.layers import ZeroPadding2D, MaxPooling2D\n",
    "from tensorflow.keras.layers import GlobalAveragePooling2D, Add\n",
    "from tensorflow.keras.layers import GlobalMaxPooling2D, Reshape\n",
    "from tensorflow.keras.layers import Activation, Conv2D, Average\n",
    "from tensorflow.keras.preprocessing.image import ImageDataGenerator"
   ]
  },
  {
   "cell_type": "markdown",
   "metadata": {
    "papermill": {
     "duration": 0.028338,
     "end_time": "2021-01-29T08:14:03.637748",
     "exception": false,
     "start_time": "2021-01-29T08:14:03.609410",
     "status": "completed"
    },
    "tags": []
   },
   "source": [
    "## Helper Functions"
   ]
  },
  {
   "cell_type": "code",
   "execution_count": 2,
   "metadata": {
    "execution": {
     "iopub.execute_input": "2021-01-29T08:14:03.703981Z",
     "iopub.status.busy": "2021-01-29T08:14:03.702854Z",
     "iopub.status.idle": "2021-01-29T08:14:03.705957Z",
     "shell.execute_reply": "2021-01-29T08:14:03.705415Z"
    },
    "papermill": {
     "duration": 0.040144,
     "end_time": "2021-01-29T08:14:03.706103",
     "exception": false,
     "start_time": "2021-01-29T08:14:03.665959",
     "status": "completed"
    },
    "tags": []
   },
   "outputs": [],
   "source": [
    "def plot_confusion_matrix(cm, classes):\n",
    "\n",
    "    plt.imshow(cm, interpolation='nearest', cmap=plt.cm.Blues)\n",
    "    plt.title('Confusion matrix')\n",
    "    plt.colorbar()\n",
    "    tick_marks = np.arange(len(classes))\n",
    "    plt.xticks(tick_marks, classes, rotation=0)\n",
    "    plt.yticks(tick_marks, classes)\n",
    "\n",
    "    thresh = cm.max() / 2.\n",
    "    for i, j in itertools.product(range(cm.shape[0]), range(cm.shape[1])):\n",
    "        plt.text(j, i, format(cm[i, j], 'd'),\n",
    "                 horizontalalignment=\"center\",\n",
    "                 color=\"white\" if cm[i, j] > thresh else \"black\")\n",
    "\n",
    "    plt.ylabel('True label')\n",
    "    plt.xlabel('Predicted label')\n",
    "    plt.tight_layout()"
   ]
  },
  {
   "cell_type": "markdown",
   "metadata": {
    "papermill": {
     "duration": 0.027604,
     "end_time": "2021-01-29T08:14:03.762857",
     "exception": false,
     "start_time": "2021-01-29T08:14:03.735253",
     "status": "completed"
    },
    "tags": []
   },
   "source": [
    "## Read true labels + Basic EDA"
   ]
  },
  {
   "cell_type": "code",
   "execution_count": 3,
   "metadata": {
    "execution": {
     "iopub.execute_input": "2021-01-29T08:14:03.830565Z",
     "iopub.status.busy": "2021-01-29T08:14:03.829841Z",
     "iopub.status.idle": "2021-01-29T08:14:03.867441Z",
     "shell.execute_reply": "2021-01-29T08:14:03.868019Z"
    },
    "papermill": {
     "duration": 0.077217,
     "end_time": "2021-01-29T08:14:03.868194",
     "exception": false,
     "start_time": "2021-01-29T08:14:03.790977",
     "status": "completed"
    },
    "tags": []
   },
   "outputs": [
    {
     "data": {
      "text/html": [
       "<div>\n",
       "<style scoped>\n",
       "    .dataframe tbody tr th:only-of-type {\n",
       "        vertical-align: middle;\n",
       "    }\n",
       "\n",
       "    .dataframe tbody tr th {\n",
       "        vertical-align: top;\n",
       "    }\n",
       "\n",
       "    .dataframe thead th {\n",
       "        text-align: right;\n",
       "    }\n",
       "</style>\n",
       "<table border=\"1\" class=\"dataframe\">\n",
       "  <thead>\n",
       "    <tr style=\"text-align: right;\">\n",
       "      <th></th>\n",
       "      <th>Image</th>\n",
       "      <th>Class</th>\n",
       "    </tr>\n",
       "  </thead>\n",
       "  <tbody>\n",
       "    <tr>\n",
       "      <th>0</th>\n",
       "      <td>image3476.jpg</td>\n",
       "      <td>Miscellaneous</td>\n",
       "    </tr>\n",
       "    <tr>\n",
       "      <th>1</th>\n",
       "      <td>image5198.jpg</td>\n",
       "      <td>Candle</td>\n",
       "    </tr>\n",
       "    <tr>\n",
       "      <th>2</th>\n",
       "      <td>image4183.jpg</td>\n",
       "      <td>Snowman</td>\n",
       "    </tr>\n",
       "    <tr>\n",
       "      <th>3</th>\n",
       "      <td>image1806.jpg</td>\n",
       "      <td>Miscellaneous</td>\n",
       "    </tr>\n",
       "    <tr>\n",
       "      <th>4</th>\n",
       "      <td>image7831.jpg</td>\n",
       "      <td>Miscellaneous</td>\n",
       "    </tr>\n",
       "  </tbody>\n",
       "</table>\n",
       "</div>"
      ],
      "text/plain": [
       "           Image          Class\n",
       "0  image3476.jpg  Miscellaneous\n",
       "1  image5198.jpg         Candle\n",
       "2  image4183.jpg        Snowman\n",
       "3  image1806.jpg  Miscellaneous\n",
       "4  image7831.jpg  Miscellaneous"
      ]
     },
     "execution_count": 3,
     "metadata": {},
     "output_type": "execute_result"
    }
   ],
   "source": [
    "train_df = pd.read_csv(\"../input/hackereath-holiday-season-deep-learning-contest/dataset/train.csv\")\n",
    "train_df.head()"
   ]
  },
  {
   "cell_type": "code",
   "execution_count": 4,
   "metadata": {
    "execution": {
     "iopub.execute_input": "2021-01-29T08:14:03.931298Z",
     "iopub.status.busy": "2021-01-29T08:14:03.930310Z",
     "iopub.status.idle": "2021-01-29T08:14:03.933478Z",
     "shell.execute_reply": "2021-01-29T08:14:03.932919Z"
    },
    "papermill": {
     "duration": 0.036849,
     "end_time": "2021-01-29T08:14:03.933675",
     "exception": false,
     "start_time": "2021-01-29T08:14:03.896826",
     "status": "completed"
    },
    "tags": []
   },
   "outputs": [],
   "source": [
    "class_map = {\n",
    "    'Airplane': 0,\n",
    "    'Candle': 1,\n",
    "    'Christmas_Tree': 2,\n",
    "    'Jacket': 3,\n",
    "    'Miscellaneous': 4,\n",
    "    'Snowman': 5\n",
    "}"
   ]
  },
  {
   "cell_type": "code",
   "execution_count": 5,
   "metadata": {
    "execution": {
     "iopub.execute_input": "2021-01-29T08:14:03.999735Z",
     "iopub.status.busy": "2021-01-29T08:14:03.998668Z",
     "iopub.status.idle": "2021-01-29T08:14:04.027628Z",
     "shell.execute_reply": "2021-01-29T08:14:04.027008Z"
    },
    "papermill": {
     "duration": 0.066094,
     "end_time": "2021-01-29T08:14:04.027781",
     "exception": false,
     "start_time": "2021-01-29T08:14:03.961687",
     "status": "completed"
    },
    "tags": []
   },
   "outputs": [
    {
     "data": {
      "text/html": [
       "<div>\n",
       "<style scoped>\n",
       "    .dataframe tbody tr th:only-of-type {\n",
       "        vertical-align: middle;\n",
       "    }\n",
       "\n",
       "    .dataframe tbody tr th {\n",
       "        vertical-align: top;\n",
       "    }\n",
       "\n",
       "    .dataframe thead th {\n",
       "        text-align: right;\n",
       "    }\n",
       "</style>\n",
       "<table border=\"1\" class=\"dataframe\">\n",
       "  <thead>\n",
       "    <tr style=\"text-align: right;\">\n",
       "      <th></th>\n",
       "      <th>Class</th>\n",
       "      <th>Class_enc</th>\n",
       "      <th>Count</th>\n",
       "    </tr>\n",
       "  </thead>\n",
       "  <tbody>\n",
       "    <tr>\n",
       "      <th>0</th>\n",
       "      <td>Airplane</td>\n",
       "      <td>0</td>\n",
       "      <td>535</td>\n",
       "    </tr>\n",
       "    <tr>\n",
       "      <th>1</th>\n",
       "      <td>Candle</td>\n",
       "      <td>1</td>\n",
       "      <td>593</td>\n",
       "    </tr>\n",
       "    <tr>\n",
       "      <th>2</th>\n",
       "      <td>Christmas_Tree</td>\n",
       "      <td>2</td>\n",
       "      <td>1539</td>\n",
       "    </tr>\n",
       "    <tr>\n",
       "      <th>3</th>\n",
       "      <td>Jacket</td>\n",
       "      <td>3</td>\n",
       "      <td>640</td>\n",
       "    </tr>\n",
       "    <tr>\n",
       "      <th>4</th>\n",
       "      <td>Miscellaneous</td>\n",
       "      <td>4</td>\n",
       "      <td>2801</td>\n",
       "    </tr>\n",
       "    <tr>\n",
       "      <th>5</th>\n",
       "      <td>Snowman</td>\n",
       "      <td>5</td>\n",
       "      <td>361</td>\n",
       "    </tr>\n",
       "  </tbody>\n",
       "</table>\n",
       "</div>"
      ],
      "text/plain": [
       "            Class Class_enc  Count\n",
       "0        Airplane         0    535\n",
       "1          Candle         1    593\n",
       "2  Christmas_Tree         2   1539\n",
       "3          Jacket         3    640\n",
       "4   Miscellaneous         4   2801\n",
       "5         Snowman         5    361"
      ]
     },
     "execution_count": 5,
     "metadata": {},
     "output_type": "execute_result"
    }
   ],
   "source": [
    "train_df['Class_enc'] = train_df['Class'].map(class_map)\n",
    "train_df['Class_enc'] = train_df['Class_enc'].astype('str')\n",
    "train_df.groupby(['Class','Class_enc']).size().reset_index().rename(columns={0:'Count'})"
   ]
  },
  {
   "cell_type": "code",
   "execution_count": 6,
   "metadata": {
    "execution": {
     "iopub.execute_input": "2021-01-29T08:14:04.098717Z",
     "iopub.status.busy": "2021-01-29T08:14:04.097793Z",
     "iopub.status.idle": "2021-01-29T08:14:04.336967Z",
     "shell.execute_reply": "2021-01-29T08:14:04.337559Z"
    },
    "papermill": {
     "duration": 0.281705,
     "end_time": "2021-01-29T08:14:04.337739",
     "exception": false,
     "start_time": "2021-01-29T08:14:04.056034",
     "status": "completed"
    },
    "tags": []
   },
   "outputs": [
    {
     "data": {
      "image/png": "[encoded data removed]",
      "text/plain": [
       "<Figure size 864x504 with 1 Axes>"
      ]
     },
     "metadata": {
      "needs_background": "light"
     },
     "output_type": "display_data"
    }
   ],
   "source": [
    "plt.figure(figsize=(12,7))\n",
    "sns.set(style=\"darkgrid\")\n",
    "ax = sns.countplot(x=\"Class\", data=train_df)"
   ]
  },
  {
   "cell_type": "code",
   "execution_count": 7,
   "metadata": {
    "execution": {
     "iopub.execute_input": "2021-01-29T08:14:04.403018Z",
     "iopub.status.busy": "2021-01-29T08:14:04.402297Z",
     "iopub.status.idle": "2021-01-29T08:14:04.719024Z",
     "shell.execute_reply": "2021-01-29T08:14:04.718351Z"
    },
    "papermill": {
     "duration": 0.351754,
     "end_time": "2021-01-29T08:14:04.719180",
     "exception": false,
     "start_time": "2021-01-29T08:14:04.367426",
     "status": "completed"
    },
    "tags": []
   },
   "outputs": [
    {
     "name": "stderr",
     "output_type": "stream",
     "text": [
      "100%|██████████| 3489/3489 [00:00<00:00, 984653.93it/s]\n"
     ]
    },
    {
     "data": {
      "text/html": [
       "<div>\n",
       "<style scoped>\n",
       "    .dataframe tbody tr th:only-of-type {\n",
       "        vertical-align: middle;\n",
       "    }\n",
       "\n",
       "    .dataframe tbody tr th {\n",
       "        vertical-align: top;\n",
       "    }\n",
       "\n",
       "    .dataframe thead th {\n",
       "        text-align: right;\n",
       "    }\n",
       "</style>\n",
       "<table border=\"1\" class=\"dataframe\">\n",
       "  <thead>\n",
       "    <tr style=\"text-align: right;\">\n",
       "      <th></th>\n",
       "      <th>Image</th>\n",
       "      <th>Class</th>\n",
       "    </tr>\n",
       "  </thead>\n",
       "  <tbody>\n",
       "    <tr>\n",
       "      <th>0</th>\n",
       "      <td>image7761.jpg</td>\n",
       "      <td>0</td>\n",
       "    </tr>\n",
       "    <tr>\n",
       "      <th>1</th>\n",
       "      <td>image3202.jpg</td>\n",
       "      <td>0</td>\n",
       "    </tr>\n",
       "    <tr>\n",
       "      <th>2</th>\n",
       "      <td>image688.jpg</td>\n",
       "      <td>0</td>\n",
       "    </tr>\n",
       "    <tr>\n",
       "      <th>3</th>\n",
       "      <td>image233.jpg</td>\n",
       "      <td>0</td>\n",
       "    </tr>\n",
       "    <tr>\n",
       "      <th>4</th>\n",
       "      <td>image4332.jpg</td>\n",
       "      <td>0</td>\n",
       "    </tr>\n",
       "  </tbody>\n",
       "</table>\n",
       "</div>"
      ],
      "text/plain": [
       "           Image Class\n",
       "0  image7761.jpg     0\n",
       "1  image3202.jpg     0\n",
       "2   image688.jpg     0\n",
       "3   image233.jpg     0\n",
       "4  image4332.jpg     0"
      ]
     },
     "execution_count": 7,
     "metadata": {},
     "output_type": "execute_result"
    }
   ],
   "source": [
    "test_dir = \"../input/hackereath-holiday-season-deep-learning-contest/dataset/test\"\n",
    "test_files = []\n",
    "\n",
    "for file in tqdm(os.listdir(test_dir)):\n",
    "    test_files.append(file)\n",
    "\n",
    "test_df = pd.DataFrame(test_files, columns=['Image'])\n",
    "test_df['Class'] = '0'\n",
    "test_df.head()"
   ]
  },
  {
   "cell_type": "markdown",
   "metadata": {
    "papermill": {
     "duration": 0.031898,
     "end_time": "2021-01-29T08:14:04.783213",
     "exception": false,
     "start_time": "2021-01-29T08:14:04.751315",
     "status": "completed"
    },
    "tags": []
   },
   "source": [
    "## Calculate class-weights"
   ]
  },
  {
   "cell_type": "code",
   "execution_count": 8,
   "metadata": {
    "execution": {
     "iopub.execute_input": "2021-01-29T08:14:04.856182Z",
     "iopub.status.busy": "2021-01-29T08:14:04.855142Z",
     "iopub.status.idle": "2021-01-29T08:14:04.883662Z",
     "shell.execute_reply": "2021-01-29T08:14:04.882980Z"
    },
    "papermill": {
     "duration": 0.06841,
     "end_time": "2021-01-29T08:14:04.883813",
     "exception": false,
     "start_time": "2021-01-29T08:14:04.815403",
     "status": "completed"
    },
    "tags": []
   },
   "outputs": [
    {
     "data": {
      "text/plain": [
       "{0: 0.6747663551401869,\n",
       " 1: 0.6087689713322091,\n",
       " 2: 0.23456790123456786,\n",
       " 3: 0.5640625,\n",
       " 4: 0.12888254194930382,\n",
       " 5: 1.0}"
      ]
     },
     "execution_count": 8,
     "metadata": {},
     "output_type": "execute_result"
    }
   ],
   "source": [
    "temp_df = train_df.groupby(['Class_enc']).size().reset_index().rename(columns={0:'count'})\n",
    "total_count = np.sum(temp_df['count'].values)\n",
    "temp_df['class%'] = (temp_df['count'] / total_count) * 100\n",
    "lowest_pct = min(temp_df['class%'])\n",
    "temp_df['class_weight'] = lowest_pct / temp_df['class%']\n",
    "class_weight = temp_df[['Class_enc', 'class_weight']].to_dict()['class_weight']\n",
    "class_weight"
   ]
  },
  {
   "cell_type": "markdown",
   "metadata": {
    "papermill": {
     "duration": 0.031456,
     "end_time": "2021-01-29T08:14:04.947604",
     "exception": false,
     "start_time": "2021-01-29T08:14:04.916148",
     "status": "completed"
    },
    "tags": []
   },
   "source": [
    "## Split training data into train/validation datasets"
   ]
  },
  {
   "cell_type": "code",
   "execution_count": 9,
   "metadata": {
    "execution": {
     "iopub.execute_input": "2021-01-29T08:14:05.026781Z",
     "iopub.status.busy": "2021-01-29T08:14:05.025975Z",
     "iopub.status.idle": "2021-01-29T08:14:05.042559Z",
     "shell.execute_reply": "2021-01-29T08:14:05.041936Z"
    },
    "papermill": {
     "duration": 0.06303,
     "end_time": "2021-01-29T08:14:05.042720",
     "exception": false,
     "start_time": "2021-01-29T08:14:04.979690",
     "status": "completed"
    },
    "tags": []
   },
   "outputs": [
    {
     "name": "stdout",
     "output_type": "stream",
     "text": [
      "train_df shape: (5498, 3)\n",
      "validation_df shape: (971, 3)\n"
     ]
    }
   ],
   "source": [
    "sss = StratifiedShuffleSplit(n_splits=1, test_size=0.15, random_state=1)\n",
    "for train_index, validation_index in sss.split(train_df['Image'], train_df['Class_enc']):\n",
    "    train_df, validation_df = train_df.iloc[train_index], train_df.iloc[validation_index]\n",
    "\n",
    "print(\"train_df shape: {}\".format(train_df.shape))\n",
    "print(\"validation_df shape: {}\".format(validation_df.shape))"
   ]
  },
  {
   "cell_type": "code",
   "execution_count": 10,
   "metadata": {
    "execution": {
     "iopub.execute_input": "2021-01-29T08:14:05.115914Z",
     "iopub.status.busy": "2021-01-29T08:14:05.114913Z",
     "iopub.status.idle": "2021-01-29T08:14:05.130394Z",
     "shell.execute_reply": "2021-01-29T08:14:05.129840Z"
    },
    "papermill": {
     "duration": 0.053895,
     "end_time": "2021-01-29T08:14:05.130544",
     "exception": false,
     "start_time": "2021-01-29T08:14:05.076649",
     "status": "completed"
    },
    "tags": []
   },
   "outputs": [
    {
     "data": {
      "text/html": [
       "<div>\n",
       "<style scoped>\n",
       "    .dataframe tbody tr th:only-of-type {\n",
       "        vertical-align: middle;\n",
       "    }\n",
       "\n",
       "    .dataframe tbody tr th {\n",
       "        vertical-align: top;\n",
       "    }\n",
       "\n",
       "    .dataframe thead th {\n",
       "        text-align: right;\n",
       "    }\n",
       "</style>\n",
       "<table border=\"1\" class=\"dataframe\">\n",
       "  <thead>\n",
       "    <tr style=\"text-align: right;\">\n",
       "      <th></th>\n",
       "      <th>Class</th>\n",
       "      <th>Class_enc</th>\n",
       "      <th>Count</th>\n",
       "    </tr>\n",
       "  </thead>\n",
       "  <tbody>\n",
       "    <tr>\n",
       "      <th>0</th>\n",
       "      <td>Airplane</td>\n",
       "      <td>0</td>\n",
       "      <td>455</td>\n",
       "    </tr>\n",
       "    <tr>\n",
       "      <th>1</th>\n",
       "      <td>Candle</td>\n",
       "      <td>1</td>\n",
       "      <td>504</td>\n",
       "    </tr>\n",
       "    <tr>\n",
       "      <th>2</th>\n",
       "      <td>Christmas_Tree</td>\n",
       "      <td>2</td>\n",
       "      <td>1308</td>\n",
       "    </tr>\n",
       "    <tr>\n",
       "      <th>3</th>\n",
       "      <td>Jacket</td>\n",
       "      <td>3</td>\n",
       "      <td>544</td>\n",
       "    </tr>\n",
       "    <tr>\n",
       "      <th>4</th>\n",
       "      <td>Miscellaneous</td>\n",
       "      <td>4</td>\n",
       "      <td>2380</td>\n",
       "    </tr>\n",
       "    <tr>\n",
       "      <th>5</th>\n",
       "      <td>Snowman</td>\n",
       "      <td>5</td>\n",
       "      <td>307</td>\n",
       "    </tr>\n",
       "  </tbody>\n",
       "</table>\n",
       "</div>"
      ],
      "text/plain": [
       "            Class Class_enc  Count\n",
       "0        Airplane         0    455\n",
       "1          Candle         1    504\n",
       "2  Christmas_Tree         2   1308\n",
       "3          Jacket         3    544\n",
       "4   Miscellaneous         4   2380\n",
       "5         Snowman         5    307"
      ]
     },
     "execution_count": 10,
     "metadata": {},
     "output_type": "execute_result"
    }
   ],
   "source": [
    "train_df.groupby(['Class','Class_enc']).size().reset_index().rename(columns={0:'Count'})"
   ]
  },
  {
   "cell_type": "code",
   "execution_count": 11,
   "metadata": {
    "execution": {
     "iopub.execute_input": "2021-01-29T08:14:05.204606Z",
     "iopub.status.busy": "2021-01-29T08:14:05.203464Z",
     "iopub.status.idle": "2021-01-29T08:14:05.218114Z",
     "shell.execute_reply": "2021-01-29T08:14:05.217557Z"
    },
    "papermill": {
     "duration": 0.054096,
     "end_time": "2021-01-29T08:14:05.218284",
     "exception": false,
     "start_time": "2021-01-29T08:14:05.164188",
     "status": "completed"
    },
    "tags": []
   },
   "outputs": [
    {
     "data": {
      "text/html": [
       "<div>\n",
       "<style scoped>\n",
       "    .dataframe tbody tr th:only-of-type {\n",
       "        vertical-align: middle;\n",
       "    }\n",
       "\n",
       "    .dataframe tbody tr th {\n",
       "        vertical-align: top;\n",
       "    }\n",
       "\n",
       "    .dataframe thead th {\n",
       "        text-align: right;\n",
       "    }\n",
       "</style>\n",
       "<table border=\"1\" class=\"dataframe\">\n",
       "  <thead>\n",
       "    <tr style=\"text-align: right;\">\n",
       "      <th></th>\n",
       "      <th>Class</th>\n",
       "      <th>Class_enc</th>\n",
       "      <th>Count</th>\n",
       "    </tr>\n",
       "  </thead>\n",
       "  <tbody>\n",
       "    <tr>\n",
       "      <th>0</th>\n",
       "      <td>Airplane</td>\n",
       "      <td>0</td>\n",
       "      <td>80</td>\n",
       "    </tr>\n",
       "    <tr>\n",
       "      <th>1</th>\n",
       "      <td>Candle</td>\n",
       "      <td>1</td>\n",
       "      <td>89</td>\n",
       "    </tr>\n",
       "    <tr>\n",
       "      <th>2</th>\n",
       "      <td>Christmas_Tree</td>\n",
       "      <td>2</td>\n",
       "      <td>231</td>\n",
       "    </tr>\n",
       "    <tr>\n",
       "      <th>3</th>\n",
       "      <td>Jacket</td>\n",
       "      <td>3</td>\n",
       "      <td>96</td>\n",
       "    </tr>\n",
       "    <tr>\n",
       "      <th>4</th>\n",
       "      <td>Miscellaneous</td>\n",
       "      <td>4</td>\n",
       "      <td>421</td>\n",
       "    </tr>\n",
       "    <tr>\n",
       "      <th>5</th>\n",
       "      <td>Snowman</td>\n",
       "      <td>5</td>\n",
       "      <td>54</td>\n",
       "    </tr>\n",
       "  </tbody>\n",
       "</table>\n",
       "</div>"
      ],
      "text/plain": [
       "            Class Class_enc  Count\n",
       "0        Airplane         0     80\n",
       "1          Candle         1     89\n",
       "2  Christmas_Tree         2    231\n",
       "3          Jacket         3     96\n",
       "4   Miscellaneous         4    421\n",
       "5         Snowman         5     54"
      ]
     },
     "execution_count": 11,
     "metadata": {},
     "output_type": "execute_result"
    }
   ],
   "source": [
    "validation_df.groupby(['Class','Class_enc']).size().reset_index().rename(columns={0:'Count'})"
   ]
  },
  {
   "cell_type": "markdown",
   "metadata": {
    "papermill": {
     "duration": 0.033837,
     "end_time": "2021-01-29T08:14:05.286917",
     "exception": false,
     "start_time": "2021-01-29T08:14:05.253080",
     "status": "completed"
    },
    "tags": []
   },
   "source": [
    "## Model Hyperparameters"
   ]
  },
  {
   "cell_type": "code",
   "execution_count": 12,
   "metadata": {
    "execution": {
     "iopub.execute_input": "2021-01-29T08:14:05.361333Z",
     "iopub.status.busy": "2021-01-29T08:14:05.360294Z",
     "iopub.status.idle": "2021-01-29T08:14:05.363664Z",
     "shell.execute_reply": "2021-01-29T08:14:05.362952Z"
    },
    "papermill": {
     "duration": 0.043137,
     "end_time": "2021-01-29T08:14:05.363824",
     "exception": false,
     "start_time": "2021-01-29T08:14:05.320687",
     "status": "completed"
    },
    "tags": []
   },
   "outputs": [],
   "source": [
    "dataset_dir = \"../input/hackereath-holiday-season-deep-learning-contest/dataset/\"\n",
    "mini_batch_size = 128\n",
    "steps_per_epoch = int(np.ceil(train_df.shape[0] / float(mini_batch_size)))\n",
    "validation_steps = int(np.ceil(validation_df.shape[0] / float(mini_batch_size)))\n",
    "test_steps = int(np.ceil(test_df.shape[0] / float(mini_batch_size)))\n",
    "image_dim = (160, 160, 3)"
   ]
  },
  {
   "cell_type": "markdown",
   "metadata": {
    "papermill": {
     "duration": 0.033966,
     "end_time": "2021-01-29T08:14:05.431768",
     "exception": false,
     "start_time": "2021-01-29T08:14:05.397802",
     "status": "completed"
    },
    "tags": []
   },
   "source": [
    "## Configure image generators"
   ]
  },
  {
   "cell_type": "code",
   "execution_count": 13,
   "metadata": {
    "execution": {
     "iopub.execute_input": "2021-01-29T08:14:05.533103Z",
     "iopub.status.busy": "2021-01-29T08:14:05.532300Z",
     "iopub.status.idle": "2021-01-29T08:14:20.708730Z",
     "shell.execute_reply": "2021-01-29T08:14:20.708162Z"
    },
    "papermill": {
     "duration": 15.242942,
     "end_time": "2021-01-29T08:14:20.708908",
     "exception": false,
     "start_time": "2021-01-29T08:14:05.465966",
     "status": "completed"
    },
    "tags": []
   },
   "outputs": [
    {
     "name": "stdout",
     "output_type": "stream",
     "text": [
      "Found 5498 validated image filenames belonging to 6 classes.\n",
      "Found 971 validated image filenames belonging to 6 classes.\n",
      "Found 3489 validated image filenames belonging to 1 classes.\n"
     ]
    }
   ],
   "source": [
    "train_datagen = ImageDataGenerator(rotation_range = 30,\n",
    "                                   zoom_range = 0.2,\n",
    "                                   horizontal_flip = True,\n",
    "                                   fill_mode = 'nearest',\n",
    "                                   height_shift_range = 0.1,\n",
    "                                   width_shift_range = 0.1)\n",
    "\n",
    "train_generator = train_datagen.flow_from_dataframe(train_df,\n",
    "                                                    directory = os.path.join(dataset_dir,\"train\"),\n",
    "                                                    x_col = \"Image\", \n",
    "                                                    y_col = \"Class_enc\",\n",
    "                                                    target_size = (image_dim[0], image_dim[1]),\n",
    "                                                    batch_size = mini_batch_size,\n",
    "                                                    class_mode = \"categorical\",\n",
    "                                                    interpolation=\"bicubic\")\n",
    "\n",
    "validation_datagen = ImageDataGenerator()\n",
    "\n",
    "validation_generator = validation_datagen.flow_from_dataframe(validation_df,\n",
    "                                                              directory = os.path.join(dataset_dir,\"train\"),\n",
    "                                                              x_col = \"Image\",\n",
    "                                                              y_col = \"Class_enc\",\n",
    "                                                              shuffle=False,\n",
    "                                                              target_size = (image_dim[0], image_dim[1]),\n",
    "                                                              batch_size = mini_batch_size,\n",
    "                                                              class_mode = \"categorical\",\n",
    "                                                              interpolation=\"bicubic\")\n",
    "\n",
    "test_datagen = ImageDataGenerator()\n",
    "\n",
    "test_generator = test_datagen.flow_from_dataframe(test_df,\n",
    "                                                  directory = os.path.join(dataset_dir,\"test\"),\n",
    "                                                  x_col = \"Image\",\n",
    "                                                  y_col = \"Class\",\n",
    "                                                  shuffle=False,\n",
    "                                                  target_size = (image_dim[0], image_dim[1]),\n",
    "                                                  batch_size = mini_batch_size,\n",
    "                                                  class_mode = \"categorical\",\n",
    "                                                  interpolation=\"bicubic\")"
   ]
  },
  {
   "cell_type": "markdown",
   "metadata": {
    "papermill": {
     "duration": 0.034147,
     "end_time": "2021-01-29T08:14:20.777901",
     "exception": false,
     "start_time": "2021-01-29T08:14:20.743754",
     "status": "completed"
    },
    "tags": []
   },
   "source": [
    "## Build and validate the model"
   ]
  },
  {
   "cell_type": "code",
   "execution_count": 14,
   "metadata": {
    "execution": {
     "iopub.execute_input": "2021-01-29T08:14:20.873675Z",
     "iopub.status.busy": "2021-01-29T08:14:20.864878Z",
     "iopub.status.idle": "2021-01-29T08:14:20.876032Z",
     "shell.execute_reply": "2021-01-29T08:14:20.876506Z"
    },
    "papermill": {
     "duration": 0.065493,
     "end_time": "2021-01-29T08:14:20.876681",
     "exception": false,
     "start_time": "2021-01-29T08:14:20.811188",
     "status": "completed"
    },
    "tags": []
   },
   "outputs": [],
   "source": [
    "def head(x_input, input_shape=2560, ratio=8):\n",
    "    \n",
    "    #=======================================================\n",
    "    #                    Channel Attention\n",
    "    #=======================================================\n",
    "    gapavg = GlobalAveragePooling2D()(x_input)\n",
    "    gapavg = Reshape((1, 1, gapavg.shape[1]))(gapavg)\n",
    "    gapavg = Conv2D(input_shape//ratio, \n",
    "                    kernel_size=1, strides=1, use_bias=True, \n",
    "                    padding='same', kernel_regularizer=l2(0.001), \n",
    "                    kernel_initializer='he_normal')(gapavg)\n",
    "    gapavg = BatchNormalization()(gapavg)\n",
    "    gapavg = Activation('relu')(gapavg)\n",
    "    gapavg_out = Conv2D(input_shape, kernel_size=1, \n",
    "                        strides=1, padding='same', use_bias=True, \n",
    "                        kernel_regularizer=l2(0.001), \n",
    "                        kernel_initializer='he_normal')(gapavg)\n",
    "    gapavg_out = BatchNormalization()(gapavg_out)\n",
    "    gapavg_out = Activation('relu')(gapavg_out)\n",
    "\n",
    "\n",
    "    gmpmax = GlobalMaxPooling2D()(x_input)\n",
    "    gmpmax = Reshape((1, 1, gmpmax.shape[1]))(gmpmax)\n",
    "    gmpmax = Conv2D(input_shape//ratio, \n",
    "                    kernel_size=1, strides=1, use_bias=True, \n",
    "                    padding='same', kernel_regularizer=l2(0.001), \n",
    "                    kernel_initializer='he_normal')(gmpmax)\n",
    "    gmpmax = BatchNormalization()(gmpmax)\n",
    "    gmpmax = Activation('relu')(gmpmax)\n",
    "    gmpmax_out = Conv2D(input_shape, kernel_size=1, \n",
    "                        strides=1, padding='same', use_bias=True, \n",
    "                        kernel_regularizer=l2(0.001), \n",
    "                        kernel_initializer='he_normal')(gmpmax)\n",
    "    gmpmax_out = BatchNormalization()(gmpmax_out)\n",
    "    gmpmax_out = Activation('relu')(gmpmax_out)\n",
    "    canx = x_input * tf.math.sigmoid(gapavg_out + gmpmax_out)\n",
    "\n",
    "\n",
    "    #=======================================================\n",
    "    #                    Spatial Attention\n",
    "    #=======================================================\n",
    "    avg_out = tf.reduce_mean(canx, axis=3)\n",
    "    max_out = tf.reduce_max(canx,  axis=3)\n",
    "    x = tf.stack([avg_out, max_out], axis=3)\n",
    "    \n",
    "    x = Conv2D(filters=64, kernel_size=3, strides=1, \n",
    "               padding='same', use_bias=False, \n",
    "               kernel_regularizer=l2(0.001), \n",
    "               kernel_initializer='he_normal')(x)\n",
    "    x = BatchNormalization()(x)\n",
    "    x = Activation('relu')(x)\n",
    "\n",
    "    x = Conv2D(filters=32, kernel_size=3, strides=1, \n",
    "               padding='same', use_bias=False, \n",
    "               kernel_regularizer=l2(0.001), \n",
    "               kernel_initializer='he_normal')(x)\n",
    "    x = BatchNormalization()(x)\n",
    "    x = Activation('relu')(x)\n",
    "\n",
    "    x = Conv2D(filters=16, kernel_size=3, strides=1, \n",
    "               padding='same', use_bias=False, \n",
    "               kernel_regularizer=l2(0.001), \n",
    "               kernel_initializer='he_normal')(x)\n",
    "    x = BatchNormalization()(x)\n",
    "    x = Activation('relu')(x)\n",
    "\n",
    "    x = Conv2D(filters=1, kernel_size=3, strides=1, \n",
    "               padding='same', use_bias=False, \n",
    "               kernel_regularizer=l2(0.001), \n",
    "               kernel_initializer='he_normal')(x)\n",
    "    x = BatchNormalization()(x)\n",
    "    x = Activation('sigmoid')(x)\n",
    "    spnx1 = canx * x\n",
    "    spnx2 = x\n",
    "    \n",
    "    gapx   = GlobalAveragePooling2D()(spnx1)\n",
    "    wvgx   = GlobalAveragePooling2D()(spnx2)\n",
    "    gapavg = Average()([gapx, wvgx])\n",
    "    x = BatchNormalization()(gapavg)\n",
    "\n",
    "\n",
    "    #=======================================================\n",
    "    #                    Tail of the model\n",
    "    #=======================================================\n",
    "\n",
    "    x = Dense(units=2048, kernel_regularizer=l2(0.0001), \n",
    "              kernel_initializer='he_uniform')(x)\n",
    "    x = BatchNormalization()(x)\n",
    "    x = Activation('relu')(x)\n",
    "    x = Dropout(rate=0.5)(x)\n",
    "    \n",
    "    x = Dense(units=1024, kernel_regularizer=l2(0.0001), \n",
    "              kernel_initializer='he_uniform')(x)\n",
    "    x = BatchNormalization()(x)\n",
    "    x = Activation('relu')(x)\n",
    "    x = Dropout(rate=0.5)(x)\n",
    "    \n",
    "    x = Dense(units=1024, kernel_regularizer=l2(0.0001), \n",
    "              kernel_initializer='he_uniform')(x)\n",
    "    x = BatchNormalization()(x)\n",
    "    x = Activation('relu')(x)\n",
    "    x = Dropout(rate=0.5)(x)\n",
    "    \n",
    "    x = Dense(units=512, kernel_regularizer=l2(0.0001), \n",
    "              kernel_initializer='he_uniform')(x)\n",
    "    x = BatchNormalization()(x)\n",
    "    x = Activation('relu')(x)\n",
    "    x = Dropout(rate=0.5)(x)\n",
    "    \n",
    "    x = Dense(units=6, activation='softmax', \n",
    "              kernel_initializer='he_uniform')(x)\n",
    "\n",
    "    return x"
   ]
  },
  {
   "cell_type": "code",
   "execution_count": 15,
   "metadata": {
    "execution": {
     "iopub.execute_input": "2021-01-29T08:14:20.954535Z",
     "iopub.status.busy": "2021-01-29T08:14:20.953733Z",
     "iopub.status.idle": "2021-01-29T08:14:32.504225Z",
     "shell.execute_reply": "2021-01-29T08:14:32.502924Z"
    },
    "papermill": {
     "duration": 11.594192,
     "end_time": "2021-01-29T08:14:32.504429",
     "exception": false,
     "start_time": "2021-01-29T08:14:20.910237",
     "status": "completed"
    },
    "tags": []
   },
   "outputs": [
    {
     "name": "stdout",
     "output_type": "stream",
     "text": [
      "Downloading data from https://storage.googleapis.com/keras-applications/efficientnetb7_notop.h5\n",
      "258080768/258076736 [==============================] - 2s 0us/step\n"
     ]
    }
   ],
   "source": [
    "# Build the model\n",
    "base_model = EfficientNetB7(weights='imagenet', \n",
    "                            input_tensor=Input(shape=image_dim), \n",
    "                            include_top=False)\n",
    "\n",
    "model = Model(base_model.input, head(base_model.output),\n",
    "              name='HackerEarth_Holiday_Season_Model')\n",
    "\n",
    "# Freeze weights for base model\n",
    "base_model.trainable = False\n",
    "for layer in base_model.layers[-18:]:\n",
    "    if not isinstance(layer, BatchNormalization):\n",
    "        layer.trainable = True\n",
    "\n",
    "# Compile the final model\n",
    "model.compile(loss='categorical_crossentropy', \n",
    "              metrics=[F1Score(num_classes=6, average='weighted'), \n",
    "                       'categorical_accuracy'],\n",
    "              optimizer=Lookahead(AdamW(lr=1e-2, \n",
    "                                        weight_decay=1e-5, \n",
    "                                        clipvalue=700), \n",
    "                                  sync_period=10))\n",
    "\n",
    "early = EarlyStopping(monitor=\"val_loss\", mode=\"min\", patience=10, \n",
    "                      restore_best_weights=True, verbose=1)\n",
    "\n",
    "reduce_lr = ReduceLROnPlateau(monitor=\"val_loss\", factor=0.1, \n",
    "                              min_lr=1e-6, patience=7, \n",
    "                              verbose=1, mode='min')\n",
    "\n",
    "chk_point = ModelCheckpoint('hackerearth_holiday_season_model.h5', \n",
    "                            monitor='val_loss', verbose=1, \n",
    "                            save_best_only=True, mode='min')"
   ]
  },
  {
   "cell_type": "code",
   "execution_count": 16,
   "metadata": {
    "execution": {
     "iopub.execute_input": "2021-01-29T08:14:32.609348Z",
     "iopub.status.busy": "2021-01-29T08:14:32.608503Z",
     "iopub.status.idle": "2021-01-29T09:06:26.191527Z",
     "shell.execute_reply": "2021-01-29T09:06:26.192805Z"
    },
    "papermill": {
     "duration": 3113.642727,
     "end_time": "2021-01-29T09:06:26.193074",
     "exception": false,
     "start_time": "2021-01-29T08:14:32.550347",
     "status": "completed"
    },
    "tags": []
   },
   "outputs": [
    {
     "name": "stdout",
     "output_type": "stream",
     "text": [
      "Epoch 1/275\n",
      "43/43 [==============================] - 101s 1s/step - loss: 7.5348 - f1_score: 0.2929 - categorical_accuracy: 0.2747 - val_loss: 4.9345 - val_f1_score: 0.3403 - val_categorical_accuracy: 0.4346\n",
      "\n",
      "Epoch 00001: val_loss improved from inf to 4.93447, saving model to hackerearth_holiday_season_model.h5\n",
      "Epoch 2/275\n",
      "43/43 [==============================] - 49s 1s/step - loss: 1.5095 - f1_score: 0.6704 - categorical_accuracy: 0.6710 - val_loss: 2.7501 - val_f1_score: 0.5101 - val_categorical_accuracy: 0.5819\n",
      "\n",
      "Epoch 00002: val_loss improved from 4.93447 to 2.75013, saving model to hackerearth_holiday_season_model.h5\n",
      "Epoch 3/275\n",
      "43/43 [==============================] - 49s 1s/step - loss: 1.0278 - f1_score: 0.7626 - categorical_accuracy: 0.7619 - val_loss: 1.9976 - val_f1_score: 0.6217 - val_categorical_accuracy: 0.6231\n",
      "\n",
      "Epoch 00003: val_loss improved from 2.75013 to 1.99763, saving model to hackerearth_holiday_season_model.h5\n",
      "Epoch 4/275\n",
      "43/43 [==============================] - 48s 1s/step - loss: 0.7532 - f1_score: 0.7888 - categorical_accuracy: 0.7886 - val_loss: 1.2094 - val_f1_score: 0.8056 - val_categorical_accuracy: 0.8033\n",
      "\n",
      "Epoch 00004: val_loss improved from 1.99763 to 1.20939, saving model to hackerearth_holiday_season_model.h5\n",
      "Epoch 5/275\n",
      "43/43 [==============================] - 48s 1s/step - loss: 0.6279 - f1_score: 0.7930 - categorical_accuracy: 0.7921 - val_loss: 1.2982 - val_f1_score: 0.7357 - val_categorical_accuracy: 0.7106\n",
      "\n",
      "Epoch 00005: val_loss did not improve from 1.20939\n",
      "Epoch 6/275\n",
      "43/43 [==============================] - 52s 1s/step - loss: 0.5497 - f1_score: 0.7949 - categorical_accuracy: 0.7940 - val_loss: 0.9934 - val_f1_score: 0.8255 - val_categorical_accuracy: 0.8218\n",
      "\n",
      "Epoch 00006: val_loss improved from 1.20939 to 0.99338, saving model to hackerearth_holiday_season_model.h5\n",
      "Epoch 7/275\n",
      "43/43 [==============================] - 49s 1s/step - loss: 0.4846 - f1_score: 0.8158 - categorical_accuracy: 0.8154 - val_loss: 0.8686 - val_f1_score: 0.8379 - val_categorical_accuracy: 0.8363\n",
      "\n",
      "Epoch 00007: val_loss improved from 0.99338 to 0.86862, saving model to hackerearth_holiday_season_model.h5\n",
      "Epoch 8/275\n",
      "43/43 [==============================] - 47s 1s/step - loss: 0.5039 - f1_score: 0.8112 - categorical_accuracy: 0.8088 - val_loss: 0.7892 - val_f1_score: 0.8512 - val_categorical_accuracy: 0.8486\n",
      "\n",
      "Epoch 00008: val_loss improved from 0.86862 to 0.78925, saving model to hackerearth_holiday_season_model.h5\n",
      "Epoch 9/275\n",
      "43/43 [==============================] - 47s 1s/step - loss: 0.4378 - f1_score: 0.8319 - categorical_accuracy: 0.8293 - val_loss: 0.8012 - val_f1_score: 0.8548 - val_categorical_accuracy: 0.8527\n",
      "\n",
      "Epoch 00009: val_loss did not improve from 0.78925\n",
      "Epoch 10/275\n",
      "43/43 [==============================] - 49s 997ms/step - loss: 0.4048 - f1_score: 0.8335 - categorical_accuracy: 0.8305 - val_loss: 0.6336 - val_f1_score: 0.8808 - val_categorical_accuracy: 0.8795\n",
      "\n",
      "Epoch 00010: val_loss improved from 0.78925 to 0.63360, saving model to hackerearth_holiday_season_model.h5\n",
      "Epoch 11/275\n",
      "43/43 [==============================] - 48s 1s/step - loss: 0.3565 - f1_score: 0.8264 - categorical_accuracy: 0.8242 - val_loss: 0.6355 - val_f1_score: 0.8775 - val_categorical_accuracy: 0.8774\n",
      "\n",
      "Epoch 00011: val_loss did not improve from 0.63360\n",
      "Epoch 12/275\n",
      "43/43 [==============================] - 49s 1s/step - loss: 0.3609 - f1_score: 0.8438 - categorical_accuracy: 0.8420 - val_loss: 0.9026 - val_f1_score: 0.8063 - val_categorical_accuracy: 0.8033\n",
      "\n",
      "Epoch 00012: val_loss did not improve from 0.63360\n",
      "Epoch 13/275\n",
      "43/43 [==============================] - 51s 1s/step - loss: 0.3838 - f1_score: 0.8392 - categorical_accuracy: 0.8381 - val_loss: 0.8142 - val_f1_score: 0.8448 - val_categorical_accuracy: 0.8414\n",
      "\n",
      "Epoch 00013: val_loss did not improve from 0.63360\n",
      "Epoch 14/275\n",
      "43/43 [==============================] - 51s 1s/step - loss: 0.3815 - f1_score: 0.8412 - categorical_accuracy: 0.8398 - val_loss: 0.8097 - val_f1_score: 0.8426 - val_categorical_accuracy: 0.8373\n",
      "\n",
      "Epoch 00014: val_loss did not improve from 0.63360\n",
      "Epoch 15/275\n",
      "43/43 [==============================] - 52s 1s/step - loss: 0.4625 - f1_score: 0.8410 - categorical_accuracy: 0.8387 - val_loss: 0.7448 - val_f1_score: 0.8407 - val_categorical_accuracy: 0.8363\n",
      "\n",
      "Epoch 00015: val_loss did not improve from 0.63360\n",
      "Epoch 16/275\n",
      "43/43 [==============================] - 51s 1s/step - loss: 0.4308 - f1_score: 0.8309 - categorical_accuracy: 0.8291 - val_loss: 0.8202 - val_f1_score: 0.8470 - val_categorical_accuracy: 0.8455\n",
      "\n",
      "Epoch 00016: val_loss did not improve from 0.63360\n",
      "Epoch 17/275\n",
      "43/43 [==============================] - 52s 1s/step - loss: 0.4388 - f1_score: 0.8560 - categorical_accuracy: 0.8541 - val_loss: 0.8966 - val_f1_score: 0.8645 - val_categorical_accuracy: 0.8610\n",
      "\n",
      "Epoch 00017: ReduceLROnPlateau reducing learning rate to 0.0009999999776482583.\n",
      "\n",
      "Epoch 00017: val_loss did not improve from 0.63360\n",
      "Epoch 18/275\n",
      "43/43 [==============================] - 52s 1s/step - loss: 0.4431 - f1_score: 0.8733 - categorical_accuracy: 0.8728 - val_loss: 0.6491 - val_f1_score: 0.8838 - val_categorical_accuracy: 0.8826\n",
      "\n",
      "Epoch 00018: val_loss did not improve from 0.63360\n",
      "Epoch 19/275\n",
      "43/43 [==============================] - 48s 1s/step - loss: 0.3387 - f1_score: 0.8824 - categorical_accuracy: 0.8810 - val_loss: 0.6003 - val_f1_score: 0.8870 - val_categorical_accuracy: 0.8857\n",
      "\n",
      "Epoch 00019: val_loss improved from 0.63360 to 0.60025, saving model to hackerearth_holiday_season_model.h5\n",
      "Epoch 20/275\n",
      "43/43 [==============================] - 48s 1s/step - loss: 0.3001 - f1_score: 0.8688 - categorical_accuracy: 0.8677 - val_loss: 0.5646 - val_f1_score: 0.8894 - val_categorical_accuracy: 0.8888\n",
      "\n",
      "Epoch 00020: val_loss improved from 0.60025 to 0.56456, saving model to hackerearth_holiday_season_model.h5\n",
      "Epoch 21/275\n",
      "43/43 [==============================] - 47s 989ms/step - loss: 0.2588 - f1_score: 0.8909 - categorical_accuracy: 0.8896 - val_loss: 0.5211 - val_f1_score: 0.8934 - val_categorical_accuracy: 0.8929\n",
      "\n",
      "Epoch 00021: val_loss improved from 0.56456 to 0.52115, saving model to hackerearth_holiday_season_model.h5\n",
      "Epoch 22/275\n",
      "43/43 [==============================] - 47s 996ms/step - loss: 0.2371 - f1_score: 0.8915 - categorical_accuracy: 0.8906 - val_loss: 0.5070 - val_f1_score: 0.8824 - val_categorical_accuracy: 0.8826\n",
      "\n",
      "Epoch 00022: val_loss improved from 0.52115 to 0.50697, saving model to hackerearth_holiday_season_model.h5\n",
      "Epoch 23/275\n",
      "43/43 [==============================] - 48s 1s/step - loss: 0.2137 - f1_score: 0.8886 - categorical_accuracy: 0.8879 - val_loss: 0.4647 - val_f1_score: 0.8980 - val_categorical_accuracy: 0.8980\n",
      "\n",
      "Epoch 00023: val_loss improved from 0.50697 to 0.46466, saving model to hackerearth_holiday_season_model.h5\n",
      "Epoch 24/275\n",
      "43/43 [==============================] - 48s 1s/step - loss: 0.2008 - f1_score: 0.8955 - categorical_accuracy: 0.8952 - val_loss: 0.4596 - val_f1_score: 0.8941 - val_categorical_accuracy: 0.8939\n",
      "\n",
      "Epoch 00024: val_loss improved from 0.46466 to 0.45961, saving model to hackerearth_holiday_season_model.h5\n",
      "Epoch 25/275\n",
      "43/43 [==============================] - 48s 1s/step - loss: 0.1893 - f1_score: 0.8916 - categorical_accuracy: 0.8904 - val_loss: 0.4546 - val_f1_score: 0.8843 - val_categorical_accuracy: 0.8836\n",
      "\n",
      "Epoch 00025: val_loss improved from 0.45961 to 0.45459, saving model to hackerearth_holiday_season_model.h5\n",
      "Epoch 26/275\n",
      "43/43 [==============================] - 49s 1s/step - loss: 0.1782 - f1_score: 0.9021 - categorical_accuracy: 0.9014 - val_loss: 0.4625 - val_f1_score: 0.8790 - val_categorical_accuracy: 0.8774\n",
      "\n",
      "Epoch 00026: val_loss did not improve from 0.45459\n",
      "Epoch 27/275\n",
      "43/43 [==============================] - 50s 1s/step - loss: 0.1684 - f1_score: 0.8891 - categorical_accuracy: 0.8885 - val_loss: 0.4240 - val_f1_score: 0.9017 - val_categorical_accuracy: 0.9011\n",
      "\n",
      "Epoch 00027: val_loss improved from 0.45459 to 0.42396, saving model to hackerearth_holiday_season_model.h5\n",
      "Epoch 28/275\n",
      "43/43 [==============================] - 48s 1s/step - loss: 0.1643 - f1_score: 0.9016 - categorical_accuracy: 0.9008 - val_loss: 0.4146 - val_f1_score: 0.8913 - val_categorical_accuracy: 0.8908\n",
      "\n",
      "Epoch 00028: val_loss improved from 0.42396 to 0.41464, saving model to hackerearth_holiday_season_model.h5\n",
      "Epoch 29/275\n",
      "43/43 [==============================] - 48s 1s/step - loss: 0.1583 - f1_score: 0.9051 - categorical_accuracy: 0.9049 - val_loss: 0.4168 - val_f1_score: 0.8925 - val_categorical_accuracy: 0.8919\n",
      "\n",
      "Epoch 00029: val_loss did not improve from 0.41464\n",
      "Epoch 30/275\n",
      "43/43 [==============================] - 52s 1s/step - loss: 0.1517 - f1_score: 0.9012 - categorical_accuracy: 0.9011 - val_loss: 0.4080 - val_f1_score: 0.8889 - val_categorical_accuracy: 0.8877\n",
      "\n",
      "Epoch 00030: val_loss improved from 0.41464 to 0.40800, saving model to hackerearth_holiday_season_model.h5\n",
      "Epoch 31/275\n",
      "43/43 [==============================] - 47s 1s/step - loss: 0.1496 - f1_score: 0.8909 - categorical_accuracy: 0.8901 - val_loss: 0.4015 - val_f1_score: 0.8927 - val_categorical_accuracy: 0.8919\n",
      "\n",
      "Epoch 00031: val_loss improved from 0.40800 to 0.40147, saving model to hackerearth_holiday_season_model.h5\n",
      "Epoch 32/275\n",
      "43/43 [==============================] - 47s 999ms/step - loss: 0.1424 - f1_score: 0.8949 - categorical_accuracy: 0.8941 - val_loss: 0.4192 - val_f1_score: 0.8870 - val_categorical_accuracy: 0.8857\n",
      "\n",
      "Epoch 00032: val_loss did not improve from 0.40147\n",
      "Epoch 33/275\n",
      "43/43 [==============================] - 51s 1s/step - loss: 0.1352 - f1_score: 0.8980 - categorical_accuracy: 0.8977 - val_loss: 0.3960 - val_f1_score: 0.8895 - val_categorical_accuracy: 0.8888\n",
      "\n",
      "Epoch 00033: val_loss improved from 0.40147 to 0.39601, saving model to hackerearth_holiday_season_model.h5\n",
      "Epoch 34/275\n",
      "43/43 [==============================] - 48s 1s/step - loss: 0.1348 - f1_score: 0.9042 - categorical_accuracy: 0.9038 - val_loss: 0.3788 - val_f1_score: 0.8985 - val_categorical_accuracy: 0.8980\n",
      "\n",
      "Epoch 00034: val_loss improved from 0.39601 to 0.37882, saving model to hackerearth_holiday_season_model.h5\n",
      "Epoch 35/275\n",
      "43/43 [==============================] - 47s 1s/step - loss: 0.1303 - f1_score: 0.8982 - categorical_accuracy: 0.8977 - val_loss: 0.3938 - val_f1_score: 0.8964 - val_categorical_accuracy: 0.8960\n",
      "\n",
      "Epoch 00035: val_loss did not improve from 0.37882\n",
      "Epoch 36/275\n",
      "43/43 [==============================] - 51s 1s/step - loss: 0.1249 - f1_score: 0.9062 - categorical_accuracy: 0.9059 - val_loss: 0.3808 - val_f1_score: 0.8917 - val_categorical_accuracy: 0.8908\n",
      "\n",
      "Epoch 00036: val_loss did not improve from 0.37882\n",
      "Epoch 37/275\n",
      "43/43 [==============================] - 48s 1s/step - loss: 0.1114 - f1_score: 0.9136 - categorical_accuracy: 0.9133 - val_loss: 0.3821 - val_f1_score: 0.8981 - val_categorical_accuracy: 0.8980\n",
      "\n",
      "Epoch 00037: val_loss did not improve from 0.37882\n",
      "Epoch 38/275\n",
      "43/43 [==============================] - 52s 1s/step - loss: 0.1268 - f1_score: 0.9112 - categorical_accuracy: 0.9110 - val_loss: 0.3893 - val_f1_score: 0.8992 - val_categorical_accuracy: 0.8991\n",
      "\n",
      "Epoch 00038: val_loss did not improve from 0.37882\n",
      "Epoch 39/275\n",
      "43/43 [==============================] - 49s 1s/step - loss: 0.1131 - f1_score: 0.9192 - categorical_accuracy: 0.9191 - val_loss: 0.3984 - val_f1_score: 0.8914 - val_categorical_accuracy: 0.8908\n",
      "\n",
      "Epoch 00039: val_loss did not improve from 0.37882\n",
      "Epoch 40/275\n",
      "43/43 [==============================] - 51s 1s/step - loss: 0.1078 - f1_score: 0.9209 - categorical_accuracy: 0.9207 - val_loss: 0.3808 - val_f1_score: 0.8944 - val_categorical_accuracy: 0.8939\n",
      "\n",
      "Epoch 00040: val_loss did not improve from 0.37882\n",
      "Epoch 41/275\n",
      "43/43 [==============================] - 50s 1s/step - loss: 0.1209 - f1_score: 0.9070 - categorical_accuracy: 0.9060 - val_loss: 0.3757 - val_f1_score: 0.9032 - val_categorical_accuracy: 0.9022\n",
      "\n",
      "Epoch 00041: val_loss improved from 0.37882 to 0.37573, saving model to hackerearth_holiday_season_model.h5\n",
      "Epoch 42/275\n",
      "43/43 [==============================] - 49s 1s/step - loss: 0.1169 - f1_score: 0.9131 - categorical_accuracy: 0.9120 - val_loss: 0.4043 - val_f1_score: 0.8960 - val_categorical_accuracy: 0.8950\n",
      "\n",
      "Epoch 00042: val_loss did not improve from 0.37573\n",
      "Epoch 43/275\n",
      "43/43 [==============================] - 51s 1s/step - loss: 0.1047 - f1_score: 0.9237 - categorical_accuracy: 0.9231 - val_loss: 0.3858 - val_f1_score: 0.9099 - val_categorical_accuracy: 0.9094\n",
      "\n",
      "Epoch 00043: val_loss did not improve from 0.37573\n",
      "Epoch 44/275\n",
      "43/43 [==============================] - 50s 996ms/step - loss: 0.1073 - f1_score: 0.9143 - categorical_accuracy: 0.9143 - val_loss: 0.3781 - val_f1_score: 0.9006 - val_categorical_accuracy: 0.9001\n",
      "\n",
      "Epoch 00044: val_loss did not improve from 0.37573\n",
      "Epoch 45/275\n",
      "43/43 [==============================] - 51s 1s/step - loss: 0.1156 - f1_score: 0.9126 - categorical_accuracy: 0.9121 - val_loss: 0.3967 - val_f1_score: 0.8938 - val_categorical_accuracy: 0.8929\n",
      "\n",
      "Epoch 00045: val_loss did not improve from 0.37573\n",
      "Epoch 46/275\n",
      "43/43 [==============================] - 48s 1s/step - loss: 0.1159 - f1_score: 0.9194 - categorical_accuracy: 0.9189 - val_loss: 0.4143 - val_f1_score: 0.8905 - val_categorical_accuracy: 0.8888\n",
      "\n",
      "Epoch 00046: val_loss did not improve from 0.37573\n",
      "Epoch 47/275\n",
      "43/43 [==============================] - 52s 1s/step - loss: 0.1076 - f1_score: 0.9176 - categorical_accuracy: 0.9171 - val_loss: 0.3618 - val_f1_score: 0.8976 - val_categorical_accuracy: 0.8970\n",
      "\n",
      "Epoch 00047: val_loss improved from 0.37573 to 0.36183, saving model to hackerearth_holiday_season_model.h5\n",
      "Epoch 48/275\n",
      "43/43 [==============================] - 47s 1s/step - loss: 0.1136 - f1_score: 0.9127 - categorical_accuracy: 0.9121 - val_loss: 0.3549 - val_f1_score: 0.9002 - val_categorical_accuracy: 0.9001\n",
      "\n",
      "Epoch 00048: val_loss improved from 0.36183 to 0.35492, saving model to hackerearth_holiday_season_model.h5\n",
      "Epoch 49/275\n",
      "43/43 [==============================] - 47s 1s/step - loss: 0.1021 - f1_score: 0.9278 - categorical_accuracy: 0.9274 - val_loss: 0.4086 - val_f1_score: 0.9026 - val_categorical_accuracy: 0.9022\n",
      "\n",
      "Epoch 00049: val_loss did not improve from 0.35492\n",
      "Epoch 50/275\n",
      "43/43 [==============================] - 52s 1s/step - loss: 0.1016 - f1_score: 0.9259 - categorical_accuracy: 0.9256 - val_loss: 0.3718 - val_f1_score: 0.9002 - val_categorical_accuracy: 0.8991\n",
      "\n",
      "Epoch 00050: val_loss did not improve from 0.35492\n",
      "Epoch 51/275\n",
      "43/43 [==============================] - 51s 1s/step - loss: 0.1050 - f1_score: 0.9107 - categorical_accuracy: 0.9098 - val_loss: 0.3768 - val_f1_score: 0.9037 - val_categorical_accuracy: 0.9032\n",
      "\n",
      "Epoch 00051: val_loss did not improve from 0.35492\n",
      "Epoch 52/275\n",
      "43/43 [==============================] - 53s 1s/step - loss: 0.1033 - f1_score: 0.9262 - categorical_accuracy: 0.9259 - val_loss: 0.3787 - val_f1_score: 0.9054 - val_categorical_accuracy: 0.9053\n",
      "\n",
      "Epoch 00052: val_loss did not improve from 0.35492\n",
      "Epoch 53/275\n",
      "43/43 [==============================] - 51s 1s/step - loss: 0.0989 - f1_score: 0.9358 - categorical_accuracy: 0.9356 - val_loss: 0.3983 - val_f1_score: 0.8947 - val_categorical_accuracy: 0.8939\n",
      "\n",
      "Epoch 00053: val_loss did not improve from 0.35492\n",
      "Epoch 54/275\n",
      "43/43 [==============================] - 48s 1s/step - loss: 0.1121 - f1_score: 0.9154 - categorical_accuracy: 0.9146 - val_loss: 0.4188 - val_f1_score: 0.8972 - val_categorical_accuracy: 0.8960\n",
      "\n",
      "Epoch 00054: val_loss did not improve from 0.35492\n",
      "Epoch 55/275\n",
      "43/43 [==============================] - 51s 1s/step - loss: 0.1019 - f1_score: 0.9187 - categorical_accuracy: 0.9177 - val_loss: 0.3981 - val_f1_score: 0.8948 - val_categorical_accuracy: 0.8939\n",
      "\n",
      "Epoch 00055: ReduceLROnPlateau reducing learning rate to 9.999999310821295e-05.\n",
      "\n",
      "Epoch 00055: val_loss did not improve from 0.35492\n",
      "Epoch 56/275\n",
      "43/43 [==============================] - 47s 1s/step - loss: 0.0980 - f1_score: 0.9344 - categorical_accuracy: 0.9341 - val_loss: 0.3800 - val_f1_score: 0.9028 - val_categorical_accuracy: 0.9022\n",
      "\n",
      "Epoch 00056: val_loss did not improve from 0.35492\n",
      "Epoch 57/275\n",
      "43/43 [==============================] - 51s 998ms/step - loss: 0.0893 - f1_score: 0.9273 - categorical_accuracy: 0.9269 - val_loss: 0.3801 - val_f1_score: 0.9068 - val_categorical_accuracy: 0.9063\n",
      "\n",
      "Epoch 00057: val_loss did not improve from 0.35492\n",
      "Epoch 58/275\n",
      "43/43 [==============================] - 49s 1s/step - loss: 0.0844 - f1_score: 0.9373 - categorical_accuracy: 0.9370 - val_loss: 0.3878 - val_f1_score: 0.9060 - val_categorical_accuracy: 0.9053\n",
      "Restoring model weights from the end of the best epoch.\n",
      "\n",
      "Epoch 00058: val_loss did not improve from 0.35492\n",
      "Epoch 00058: early stopping\n"
     ]
    }
   ],
   "source": [
    "history = model.fit(\n",
    "    train_generator, \n",
    "    steps_per_epoch=steps_per_epoch,\n",
    "    class_weight=class_weight, \n",
    "    epochs=275, \n",
    "    verbose=1, \n",
    "    workers=5,\n",
    "    callbacks=[reduce_lr, early, chk_point], \n",
    "    validation_data=validation_generator,\n",
    "    validation_steps=validation_steps\n",
    ")"
   ]
  },
  {
   "cell_type": "code",
   "execution_count": 17,
   "metadata": {
    "execution": {
     "iopub.execute_input": "2021-01-29T09:06:30.904559Z",
     "iopub.status.busy": "2021-01-29T09:06:30.903568Z",
     "iopub.status.idle": "2021-01-29T09:06:31.672519Z",
     "shell.execute_reply": "2021-01-29T09:06:31.671956Z"
    },
    "papermill": {
     "duration": 1.987052,
     "end_time": "2021-01-29T09:06:31.672673",
     "exception": false,
     "start_time": "2021-01-29T09:06:29.685621",
     "status": "completed"
    },
    "tags": []
   },
   "outputs": [
    {
     "data": {
      "image/png": "[encoded data removed]",
      "text/plain": [
       "<Figure size 2160x720 with 3 Axes>"
      ]
     },
     "metadata": {},
     "output_type": "display_data"
    }
   ],
   "source": [
    "_, ax = plt.subplots(1, 3, figsize=(30, 10))\n",
    "\n",
    "ax[0].plot(history.history['loss'], label='train_loss')\n",
    "ax[0].plot(history.history['val_loss'], label='val_loss')\n",
    "ax[0].set_ylabel('Loss')\n",
    "ax[0].set_xlabel('Epoch')\n",
    "ax[0].set_title(\"Model Loss Curve\")\n",
    "ax[0].legend()\n",
    "ax[0].grid()\n",
    "\n",
    "ax[1].plot(history.history['f1_score'], label='train_f1_score')\n",
    "ax[1].plot(history.history['val_f1_score'], label='val_f1_score')\n",
    "ax[1].set_ylabel('F1-Score')\n",
    "ax[1].set_xlabel('Epoch')\n",
    "ax[1].set_title(\"Model F1-Score Curve\")\n",
    "ax[1].legend()\n",
    "ax[1].grid()\n",
    "\n",
    "ax[2].plot(history.history['categorical_accuracy'], label='train_accuracy')\n",
    "ax[2].plot(history.history['val_categorical_accuracy'], label='val_accuracy')\n",
    "ax[2].set_ylabel('Accuracy')\n",
    "ax[2].set_xlabel('Epoch')\n",
    "ax[2].set_title(\"Model Accuracy Curve\")\n",
    "ax[2].legend()\n",
    "ax[2].grid()"
   ]
  },
  {
   "cell_type": "markdown",
   "metadata": {
    "papermill": {
     "duration": 1.05032,
     "end_time": "2021-01-29T09:06:33.775606",
     "exception": false,
     "start_time": "2021-01-29T09:06:32.725286",
     "status": "completed"
    },
    "tags": []
   },
   "source": [
    "## Check classification report"
   ]
  },
  {
   "cell_type": "code",
   "execution_count": 18,
   "metadata": {
    "execution": {
     "iopub.execute_input": "2021-01-29T09:06:35.915246Z",
     "iopub.status.busy": "2021-01-29T09:06:35.910351Z",
     "iopub.status.idle": "2021-01-29T09:06:44.588663Z",
     "shell.execute_reply": "2021-01-29T09:06:44.587562Z"
    },
    "papermill": {
     "duration": 9.759559,
     "end_time": "2021-01-29T09:06:44.588845",
     "exception": false,
     "start_time": "2021-01-29T09:06:34.829286",
     "status": "completed"
    },
    "tags": []
   },
   "outputs": [],
   "source": [
    "model = load_model('./hackerearth_holiday_season_model.h5')"
   ]
  },
  {
   "cell_type": "code",
   "execution_count": 19,
   "metadata": {
    "execution": {
     "iopub.execute_input": "2021-01-29T09:06:46.643052Z",
     "iopub.status.busy": "2021-01-29T09:06:46.641530Z",
     "iopub.status.idle": "2021-01-29T09:06:56.173566Z",
     "shell.execute_reply": "2021-01-29T09:06:56.173042Z"
    },
    "papermill": {
     "duration": 10.566568,
     "end_time": "2021-01-29T09:06:56.173708",
     "exception": false,
     "start_time": "2021-01-29T09:06:45.607140",
     "status": "completed"
    },
    "tags": []
   },
   "outputs": [
    {
     "name": "stdout",
     "output_type": "stream",
     "text": [
      "8/8 [==============================] - 9s 440ms/step\n",
      "\n",
      "y_true: (971,)\n",
      "y_pred: (971,)\n"
     ]
    }
   ],
   "source": [
    "y_true = np.array([validation_generator.classes]).ravel()\n",
    "y_pred = model.predict(validation_generator, verbose=1)\n",
    "y_pred = np.argmax(y_pred, axis=1)\n",
    "\n",
    "print(\"\\ny_true: {}\".format(y_true.shape))\n",
    "print(\"y_pred: {}\".format(y_pred.shape))"
   ]
  },
  {
   "cell_type": "code",
   "execution_count": 20,
   "metadata": {
    "execution": {
     "iopub.execute_input": "2021-01-29T09:06:58.165808Z",
     "iopub.status.busy": "2021-01-29T09:06:58.164832Z",
     "iopub.status.idle": "2021-01-29T09:06:58.175982Z",
     "shell.execute_reply": "2021-01-29T09:06:58.175252Z"
    },
    "papermill": {
     "duration": 1.008094,
     "end_time": "2021-01-29T09:06:58.176123",
     "exception": false,
     "start_time": "2021-01-29T09:06:57.168029",
     "status": "completed"
    },
    "tags": []
   },
   "outputs": [
    {
     "name": "stdout",
     "output_type": "stream",
     "text": [
      "              precision    recall  f1-score   support\n",
      "\n",
      "           0       0.86      0.86      0.86        80\n",
      "           1       0.84      0.89      0.86        89\n",
      "           2       0.93      0.88      0.90       231\n",
      "           3       0.95      0.95      0.95        96\n",
      "           4       0.91      0.92      0.91       421\n",
      "           5       0.82      0.83      0.83        54\n",
      "\n",
      "    accuracy                           0.90       971\n",
      "   macro avg       0.88      0.89      0.89       971\n",
      "weighted avg       0.90      0.90      0.90       971\n",
      "\n"
     ]
    }
   ],
   "source": [
    "print(classification_report(y_true, y_pred))"
   ]
  },
  {
   "cell_type": "code",
   "execution_count": 21,
   "metadata": {
    "execution": {
     "iopub.execute_input": "2021-01-29T09:07:00.400254Z",
     "iopub.status.busy": "2021-01-29T09:07:00.399413Z",
     "iopub.status.idle": "2021-01-29T09:07:00.973865Z",
     "shell.execute_reply": "2021-01-29T09:07:00.974420Z"
    },
    "papermill": {
     "duration": 1.796125,
     "end_time": "2021-01-29T09:07:00.974606",
     "exception": false,
     "start_time": "2021-01-29T09:06:59.178481",
     "status": "completed"
    },
    "tags": []
   },
   "outputs": [
    {
     "data": {
      "image/png": "[encoded data removed]",
      "text/plain": [
       "<Figure size 864x504 with 2 Axes>"
      ]
     },
     "metadata": {},
     "output_type": "display_data"
    }
   ],
   "source": [
    "cnf_matrix = confusion_matrix(y_true, y_pred, labels=[0, 1, 2, 3, 4, 5])\n",
    "np.set_printoptions(precision=2)\n",
    "plt.figure(figsize=(12,7))\n",
    "plot_confusion_matrix(cnf_matrix, classes=[0, 1, 2, 3, 4, 5])"
   ]
  },
  {
   "cell_type": "markdown",
   "metadata": {
    "papermill": {
     "duration": 1.002639,
     "end_time": "2021-01-29T09:07:02.963794",
     "exception": false,
     "start_time": "2021-01-29T09:07:01.961155",
     "status": "completed"
    },
    "tags": []
   },
   "source": [
    "## Create submission file"
   ]
  },
  {
   "cell_type": "code",
   "execution_count": 22,
   "metadata": {
    "execution": {
     "iopub.execute_input": "2021-01-29T09:07:04.967199Z",
     "iopub.status.busy": "2021-01-29T09:07:04.966197Z",
     "iopub.status.idle": "2021-01-29T09:07:04.968682Z",
     "shell.execute_reply": "2021-01-29T09:07:04.969261Z"
    },
    "papermill": {
     "duration": 1.005178,
     "end_time": "2021-01-29T09:07:04.969439",
     "exception": false,
     "start_time": "2021-01-29T09:07:03.964261",
     "status": "completed"
    },
    "tags": []
   },
   "outputs": [],
   "source": [
    "rev_class_map = {\n",
    "    0: 'Airplane',\n",
    "    1: 'Candle',\n",
    "    2: 'Christmas_Tree',\n",
    "    3: 'Jacket',\n",
    "    4: 'Miscellaneous',\n",
    "    5: 'Snowman'\n",
    "}"
   ]
  },
  {
   "cell_type": "code",
   "execution_count": 23,
   "metadata": {
    "execution": {
     "iopub.execute_input": "2021-01-29T09:07:06.999521Z",
     "iopub.status.busy": "2021-01-29T09:07:06.997914Z",
     "iopub.status.idle": "2021-01-29T09:07:31.406018Z",
     "shell.execute_reply": "2021-01-29T09:07:31.406581Z"
    },
    "papermill": {
     "duration": 25.439022,
     "end_time": "2021-01-29T09:07:31.406757",
     "exception": false,
     "start_time": "2021-01-29T09:07:05.967735",
     "status": "completed"
    },
    "tags": []
   },
   "outputs": [
    {
     "name": "stdout",
     "output_type": "stream",
     "text": [
      "28/28 [==============================] - 23s 850ms/step\n",
      "(3489,)\n"
     ]
    }
   ],
   "source": [
    "y_pred_final = model.predict(test_generator, verbose=1)\n",
    "y_pred_final = np.argmax(y_pred_final, axis=1)\n",
    "print(y_pred_final.shape)"
   ]
  },
  {
   "cell_type": "code",
   "execution_count": 24,
   "metadata": {
    "execution": {
     "iopub.execute_input": "2021-01-29T09:07:33.683461Z",
     "iopub.status.busy": "2021-01-29T09:07:33.682252Z",
     "iopub.status.idle": "2021-01-29T09:07:33.687952Z",
     "shell.execute_reply": "2021-01-29T09:07:33.687391Z"
    },
    "papermill": {
     "duration": 1.234955,
     "end_time": "2021-01-29T09:07:33.688111",
     "exception": false,
     "start_time": "2021-01-29T09:07:32.453156",
     "status": "completed"
    },
    "tags": []
   },
   "outputs": [
    {
     "data": {
      "text/html": [
       "<div>\n",
       "<style scoped>\n",
       "    .dataframe tbody tr th:only-of-type {\n",
       "        vertical-align: middle;\n",
       "    }\n",
       "\n",
       "    .dataframe tbody tr th {\n",
       "        vertical-align: top;\n",
       "    }\n",
       "\n",
       "    .dataframe thead th {\n",
       "        text-align: right;\n",
       "    }\n",
       "</style>\n",
       "<table border=\"1\" class=\"dataframe\">\n",
       "  <thead>\n",
       "    <tr style=\"text-align: right;\">\n",
       "      <th></th>\n",
       "      <th>Image</th>\n",
       "      <th>Class</th>\n",
       "    </tr>\n",
       "  </thead>\n",
       "  <tbody>\n",
       "    <tr>\n",
       "      <th>0</th>\n",
       "      <td>image7761.jpg</td>\n",
       "      <td>Miscellaneous</td>\n",
       "    </tr>\n",
       "    <tr>\n",
       "      <th>1</th>\n",
       "      <td>image3202.jpg</td>\n",
       "      <td>Miscellaneous</td>\n",
       "    </tr>\n",
       "    <tr>\n",
       "      <th>2</th>\n",
       "      <td>image688.jpg</td>\n",
       "      <td>Snowman</td>\n",
       "    </tr>\n",
       "    <tr>\n",
       "      <th>3</th>\n",
       "      <td>image233.jpg</td>\n",
       "      <td>Candle</td>\n",
       "    </tr>\n",
       "    <tr>\n",
       "      <th>4</th>\n",
       "      <td>image4332.jpg</td>\n",
       "      <td>Christmas_Tree</td>\n",
       "    </tr>\n",
       "  </tbody>\n",
       "</table>\n",
       "</div>"
      ],
      "text/plain": [
       "           Image           Class\n",
       "0  image7761.jpg   Miscellaneous\n",
       "1  image3202.jpg   Miscellaneous\n",
       "2   image688.jpg         Snowman\n",
       "3   image233.jpg          Candle\n",
       "4  image4332.jpg  Christmas_Tree"
      ]
     },
     "execution_count": 24,
     "metadata": {},
     "output_type": "execute_result"
    }
   ],
   "source": [
    "test_df['Class'] = y_pred_final\n",
    "test_df['Class'] = test_df['Class'].map(rev_class_map)\n",
    "test_df.head()"
   ]
  },
  {
   "cell_type": "code",
   "execution_count": 25,
   "metadata": {
    "execution": {
     "iopub.execute_input": "2021-01-29T09:07:35.720852Z",
     "iopub.status.busy": "2021-01-29T09:07:35.720107Z",
     "iopub.status.idle": "2021-01-29T09:07:35.923564Z",
     "shell.execute_reply": "2021-01-29T09:07:35.922544Z"
    },
    "papermill": {
     "duration": 1.219099,
     "end_time": "2021-01-29T09:07:35.923739",
     "exception": false,
     "start_time": "2021-01-29T09:07:34.704640",
     "status": "completed"
    },
    "tags": []
   },
   "outputs": [],
   "source": [
    "test_df.to_csv(\"/kaggle/working/submission.csv\", index=False)"
   ]
  },
  {
   "cell_type": "code",
   "execution_count": null,
   "metadata": {
    "papermill": {
     "duration": 0.996303,
     "end_time": "2021-01-29T09:07:37.943047",
     "exception": false,
     "start_time": "2021-01-29T09:07:36.946744",
     "status": "completed"
    },
    "tags": []
   },
   "outputs": [],
   "source": []
  }
 ],
 "metadata": {
  "kernelspec": {
   "display_name": "Python 3",
   "language": "python",
   "name": "python3"
  },
  "language_info": {
   "codemirror_mode": {
    "name": "ipython",
    "version": 3
   },
   "file_extension": ".py",
   "mimetype": "text/x-python",
   "name": "python",
   "nbconvert_exporter": "python",
   "pygments_lexer": "ipython3",
   "version": "3.7.9"
  },
  "papermill": {
   "default_parameters": {},
   "duration": 3232.79126,
   "end_time": "2021-01-29T09:07:43.690541",
   "environment_variables": {},
   "exception": null,
   "input_path": "__notebook__.ipynb",
   "output_path": "__notebook__.ipynb",
   "parameters": {},
   "start_time": "2021-01-29T08:13:50.899281",
   "version": "2.2.2"
  }
 },
 "nbformat": 4,
 "nbformat_minor": 4
}
