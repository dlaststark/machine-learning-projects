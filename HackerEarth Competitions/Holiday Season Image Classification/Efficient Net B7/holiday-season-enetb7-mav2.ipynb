{
 "cells": [
  {
   "cell_type": "markdown",
   "metadata": {
    "papermill": {
     "duration": 0.029087,
     "end_time": "2021-01-29T09:17:53.060792",
     "exception": false,
     "start_time": "2021-01-29T09:17:53.031705",
     "status": "completed"
    },
    "tags": []
   },
   "source": [
    "## Import Packages"
   ]
  },
  {
   "cell_type": "code",
   "execution_count": 1,
   "metadata": {
    "execution": {
     "iopub.execute_input": "2021-01-29T09:17:53.128393Z",
     "iopub.status.busy": "2021-01-29T09:17:53.127476Z",
     "iopub.status.idle": "2021-01-29T09:18:00.249834Z",
     "shell.execute_reply": "2021-01-29T09:18:00.248548Z"
    },
    "papermill": {
     "duration": 7.161253,
     "end_time": "2021-01-29T09:18:00.250069",
     "exception": false,
     "start_time": "2021-01-29T09:17:53.088816",
     "status": "completed"
    },
    "tags": []
   },
   "outputs": [],
   "source": [
    "import os\n",
    "import itertools\n",
    "import numpy as np\n",
    "import pandas as pd\n",
    "import seaborn as sns\n",
    "from tqdm import tqdm\n",
    "import matplotlib.pyplot as plt\n",
    "from sklearn.metrics import confusion_matrix\n",
    "from sklearn.metrics import classification_report\n",
    "from sklearn.model_selection import StratifiedShuffleSplit\n",
    "\n",
    "import tensorflow as tf\n",
    "from tensorflow.keras import backend as K\n",
    "from tensorflow.keras.regularizers import l2\n",
    "from tensorflow_addons.metrics import F1Score\n",
    "from tensorflow.keras.models import Model, load_model\n",
    "from tensorflow_addons.optimizers import AdamW, Lookahead\n",
    "from tensorflow.keras.callbacks import EarlyStopping\n",
    "from tensorflow.keras.callbacks import ReduceLROnPlateau\n",
    "from tensorflow.keras.callbacks import ModelCheckpoint\n",
    "from tensorflow.keras.applications import EfficientNetB7\n",
    "from tensorflow.keras.layers import Dense, Dropout, Flatten\n",
    "from tensorflow.keras.layers import BatchNormalization, Input\n",
    "from tensorflow.keras.layers import ZeroPadding2D, MaxPooling2D\n",
    "from tensorflow.keras.layers import GlobalAveragePooling2D, Add\n",
    "from tensorflow.keras.layers import GlobalMaxPooling2D, Reshape\n",
    "from tensorflow.keras.layers import Activation, Conv2D, Average\n",
    "from tensorflow.keras.preprocessing.image import ImageDataGenerator"
   ]
  },
  {
   "cell_type": "markdown",
   "metadata": {
    "papermill": {
     "duration": 0.026542,
     "end_time": "2021-01-29T09:18:00.306151",
     "exception": false,
     "start_time": "2021-01-29T09:18:00.279609",
     "status": "completed"
    },
    "tags": []
   },
   "source": [
    "## Helper Functions"
   ]
  },
  {
   "cell_type": "code",
   "execution_count": 2,
   "metadata": {
    "execution": {
     "iopub.execute_input": "2021-01-29T09:18:00.368749Z",
     "iopub.status.busy": "2021-01-29T09:18:00.367867Z",
     "iopub.status.idle": "2021-01-29T09:18:00.371536Z",
     "shell.execute_reply": "2021-01-29T09:18:00.370973Z"
    },
    "papermill": {
     "duration": 0.03867,
     "end_time": "2021-01-29T09:18:00.371676",
     "exception": false,
     "start_time": "2021-01-29T09:18:00.333006",
     "status": "completed"
    },
    "tags": []
   },
   "outputs": [],
   "source": [
    "def plot_confusion_matrix(cm, classes):\n",
    "\n",
    "    plt.imshow(cm, interpolation='nearest', cmap=plt.cm.Blues)\n",
    "    plt.title('Confusion matrix')\n",
    "    plt.colorbar()\n",
    "    tick_marks = np.arange(len(classes))\n",
    "    plt.xticks(tick_marks, classes, rotation=0)\n",
    "    plt.yticks(tick_marks, classes)\n",
    "\n",
    "    thresh = cm.max() / 2.\n",
    "    for i, j in itertools.product(range(cm.shape[0]), range(cm.shape[1])):\n",
    "        plt.text(j, i, format(cm[i, j], 'd'),\n",
    "                 horizontalalignment=\"center\",\n",
    "                 color=\"white\" if cm[i, j] > thresh else \"black\")\n",
    "\n",
    "    plt.ylabel('True label')\n",
    "    plt.xlabel('Predicted label')\n",
    "    plt.tight_layout()"
   ]
  },
  {
   "cell_type": "markdown",
   "metadata": {
    "papermill": {
     "duration": 0.026126,
     "end_time": "2021-01-29T09:18:00.424881",
     "exception": false,
     "start_time": "2021-01-29T09:18:00.398755",
     "status": "completed"
    },
    "tags": []
   },
   "source": [
    "## Read true labels + Basic EDA"
   ]
  },
  {
   "cell_type": "code",
   "execution_count": 3,
   "metadata": {
    "execution": {
     "iopub.execute_input": "2021-01-29T09:18:00.493288Z",
     "iopub.status.busy": "2021-01-29T09:18:00.492560Z",
     "iopub.status.idle": "2021-01-29T09:18:00.534089Z",
     "shell.execute_reply": "2021-01-29T09:18:00.534612Z"
    },
    "papermill": {
     "duration": 0.083212,
     "end_time": "2021-01-29T09:18:00.534762",
     "exception": false,
     "start_time": "2021-01-29T09:18:00.451550",
     "status": "completed"
    },
    "tags": []
   },
   "outputs": [
    {
     "data": {
      "text/html": [
       "<div>\n",
       "<style scoped>\n",
       "    .dataframe tbody tr th:only-of-type {\n",
       "        vertical-align: middle;\n",
       "    }\n",
       "\n",
       "    .dataframe tbody tr th {\n",
       "        vertical-align: top;\n",
       "    }\n",
       "\n",
       "    .dataframe thead th {\n",
       "        text-align: right;\n",
       "    }\n",
       "</style>\n",
       "<table border=\"1\" class=\"dataframe\">\n",
       "  <thead>\n",
       "    <tr style=\"text-align: right;\">\n",
       "      <th></th>\n",
       "      <th>Image</th>\n",
       "      <th>Class</th>\n",
       "    </tr>\n",
       "  </thead>\n",
       "  <tbody>\n",
       "    <tr>\n",
       "      <th>0</th>\n",
       "      <td>image3476.jpg</td>\n",
       "      <td>Miscellaneous</td>\n",
       "    </tr>\n",
       "    <tr>\n",
       "      <th>1</th>\n",
       "      <td>image5198.jpg</td>\n",
       "      <td>Candle</td>\n",
       "    </tr>\n",
       "    <tr>\n",
       "      <th>2</th>\n",
       "      <td>image4183.jpg</td>\n",
       "      <td>Snowman</td>\n",
       "    </tr>\n",
       "    <tr>\n",
       "      <th>3</th>\n",
       "      <td>image1806.jpg</td>\n",
       "      <td>Miscellaneous</td>\n",
       "    </tr>\n",
       "    <tr>\n",
       "      <th>4</th>\n",
       "      <td>image7831.jpg</td>\n",
       "      <td>Miscellaneous</td>\n",
       "    </tr>\n",
       "  </tbody>\n",
       "</table>\n",
       "</div>"
      ],
      "text/plain": [
       "           Image          Class\n",
       "0  image3476.jpg  Miscellaneous\n",
       "1  image5198.jpg         Candle\n",
       "2  image4183.jpg        Snowman\n",
       "3  image1806.jpg  Miscellaneous\n",
       "4  image7831.jpg  Miscellaneous"
      ]
     },
     "execution_count": 3,
     "metadata": {},
     "output_type": "execute_result"
    }
   ],
   "source": [
    "train_df = pd.read_csv(\"../input/hackereath-holiday-season-deep-learning-contest/dataset/train.csv\")\n",
    "train_df.head()"
   ]
  },
  {
   "cell_type": "code",
   "execution_count": 4,
   "metadata": {
    "execution": {
     "iopub.execute_input": "2021-01-29T09:18:00.595597Z",
     "iopub.status.busy": "2021-01-29T09:18:00.593647Z",
     "iopub.status.idle": "2021-01-29T09:18:00.596320Z",
     "shell.execute_reply": "2021-01-29T09:18:00.596813Z"
    },
    "papermill": {
     "duration": 0.034219,
     "end_time": "2021-01-29T09:18:00.596956",
     "exception": false,
     "start_time": "2021-01-29T09:18:00.562737",
     "status": "completed"
    },
    "tags": []
   },
   "outputs": [],
   "source": [
    "class_map = {\n",
    "    'Airplane': 0,\n",
    "    'Candle': 1,\n",
    "    'Christmas_Tree': 2,\n",
    "    'Jacket': 3,\n",
    "    'Miscellaneous': 4,\n",
    "    'Snowman': 5\n",
    "}"
   ]
  },
  {
   "cell_type": "code",
   "execution_count": 5,
   "metadata": {
    "execution": {
     "iopub.execute_input": "2021-01-29T09:18:00.666889Z",
     "iopub.status.busy": "2021-01-29T09:18:00.665959Z",
     "iopub.status.idle": "2021-01-29T09:18:00.683066Z",
     "shell.execute_reply": "2021-01-29T09:18:00.682597Z"
    },
    "papermill": {
     "duration": 0.060701,
     "end_time": "2021-01-29T09:18:00.683189",
     "exception": false,
     "start_time": "2021-01-29T09:18:00.622488",
     "status": "completed"
    },
    "tags": []
   },
   "outputs": [
    {
     "data": {
      "text/html": [
       "<div>\n",
       "<style scoped>\n",
       "    .dataframe tbody tr th:only-of-type {\n",
       "        vertical-align: middle;\n",
       "    }\n",
       "\n",
       "    .dataframe tbody tr th {\n",
       "        vertical-align: top;\n",
       "    }\n",
       "\n",
       "    .dataframe thead th {\n",
       "        text-align: right;\n",
       "    }\n",
       "</style>\n",
       "<table border=\"1\" class=\"dataframe\">\n",
       "  <thead>\n",
       "    <tr style=\"text-align: right;\">\n",
       "      <th></th>\n",
       "      <th>Class</th>\n",
       "      <th>Class_enc</th>\n",
       "      <th>Count</th>\n",
       "    </tr>\n",
       "  </thead>\n",
       "  <tbody>\n",
       "    <tr>\n",
       "      <th>0</th>\n",
       "      <td>Airplane</td>\n",
       "      <td>0</td>\n",
       "      <td>535</td>\n",
       "    </tr>\n",
       "    <tr>\n",
       "      <th>1</th>\n",
       "      <td>Candle</td>\n",
       "      <td>1</td>\n",
       "      <td>593</td>\n",
       "    </tr>\n",
       "    <tr>\n",
       "      <th>2</th>\n",
       "      <td>Christmas_Tree</td>\n",
       "      <td>2</td>\n",
       "      <td>1539</td>\n",
       "    </tr>\n",
       "    <tr>\n",
       "      <th>3</th>\n",
       "      <td>Jacket</td>\n",
       "      <td>3</td>\n",
       "      <td>640</td>\n",
       "    </tr>\n",
       "    <tr>\n",
       "      <th>4</th>\n",
       "      <td>Miscellaneous</td>\n",
       "      <td>4</td>\n",
       "      <td>2801</td>\n",
       "    </tr>\n",
       "    <tr>\n",
       "      <th>5</th>\n",
       "      <td>Snowman</td>\n",
       "      <td>5</td>\n",
       "      <td>361</td>\n",
       "    </tr>\n",
       "  </tbody>\n",
       "</table>\n",
       "</div>"
      ],
      "text/plain": [
       "            Class Class_enc  Count\n",
       "0        Airplane         0    535\n",
       "1          Candle         1    593\n",
       "2  Christmas_Tree         2   1539\n",
       "3          Jacket         3    640\n",
       "4   Miscellaneous         4   2801\n",
       "5         Snowman         5    361"
      ]
     },
     "execution_count": 5,
     "metadata": {},
     "output_type": "execute_result"
    }
   ],
   "source": [
    "train_df['Class_enc'] = train_df['Class'].map(class_map)\n",
    "train_df['Class_enc'] = train_df['Class_enc'].astype('str')\n",
    "train_df.groupby(['Class','Class_enc']).size().reset_index().rename(columns={0:'Count'})"
   ]
  },
  {
   "cell_type": "code",
   "execution_count": 6,
   "metadata": {
    "execution": {
     "iopub.execute_input": "2021-01-29T09:18:00.748631Z",
     "iopub.status.busy": "2021-01-29T09:18:00.747741Z",
     "iopub.status.idle": "2021-01-29T09:18:00.976927Z",
     "shell.execute_reply": "2021-01-29T09:18:00.977515Z"
    },
    "papermill": {
     "duration": 0.268474,
     "end_time": "2021-01-29T09:18:00.977699",
     "exception": false,
     "start_time": "2021-01-29T09:18:00.709225",
     "status": "completed"
    },
    "tags": []
   },
   "outputs": [
    {
     "data": {
      "image/png": "[encoded data removed]",
      "text/plain": [
       "<Figure size 864x504 with 1 Axes>"
      ]
     },
     "metadata": {
      "needs_background": "light"
     },
     "output_type": "display_data"
    }
   ],
   "source": [
    "plt.figure(figsize=(12,7))\n",
    "sns.set(style=\"darkgrid\")\n",
    "ax = sns.countplot(x=\"Class\", data=train_df)"
   ]
  },
  {
   "cell_type": "code",
   "execution_count": 7,
   "metadata": {
    "execution": {
     "iopub.execute_input": "2021-01-29T09:18:01.042350Z",
     "iopub.status.busy": "2021-01-29T09:18:01.041705Z",
     "iopub.status.idle": "2021-01-29T09:18:01.612057Z",
     "shell.execute_reply": "2021-01-29T09:18:01.612847Z"
    },
    "papermill": {
     "duration": 0.6055,
     "end_time": "2021-01-29T09:18:01.613086",
     "exception": false,
     "start_time": "2021-01-29T09:18:01.007586",
     "status": "completed"
    },
    "tags": []
   },
   "outputs": [
    {
     "name": "stderr",
     "output_type": "stream",
     "text": [
      "100%|██████████| 3489/3489 [00:00<00:00, 946322.21it/s]\n"
     ]
    },
    {
     "data": {
      "text/html": [
       "<div>\n",
       "<style scoped>\n",
       "    .dataframe tbody tr th:only-of-type {\n",
       "        vertical-align: middle;\n",
       "    }\n",
       "\n",
       "    .dataframe tbody tr th {\n",
       "        vertical-align: top;\n",
       "    }\n",
       "\n",
       "    .dataframe thead th {\n",
       "        text-align: right;\n",
       "    }\n",
       "</style>\n",
       "<table border=\"1\" class=\"dataframe\">\n",
       "  <thead>\n",
       "    <tr style=\"text-align: right;\">\n",
       "      <th></th>\n",
       "      <th>Image</th>\n",
       "      <th>Class</th>\n",
       "    </tr>\n",
       "  </thead>\n",
       "  <tbody>\n",
       "    <tr>\n",
       "      <th>0</th>\n",
       "      <td>image7761.jpg</td>\n",
       "      <td>0</td>\n",
       "    </tr>\n",
       "    <tr>\n",
       "      <th>1</th>\n",
       "      <td>image3202.jpg</td>\n",
       "      <td>0</td>\n",
       "    </tr>\n",
       "    <tr>\n",
       "      <th>2</th>\n",
       "      <td>image688.jpg</td>\n",
       "      <td>0</td>\n",
       "    </tr>\n",
       "    <tr>\n",
       "      <th>3</th>\n",
       "      <td>image233.jpg</td>\n",
       "      <td>0</td>\n",
       "    </tr>\n",
       "    <tr>\n",
       "      <th>4</th>\n",
       "      <td>image4332.jpg</td>\n",
       "      <td>0</td>\n",
       "    </tr>\n",
       "  </tbody>\n",
       "</table>\n",
       "</div>"
      ],
      "text/plain": [
       "           Image Class\n",
       "0  image7761.jpg     0\n",
       "1  image3202.jpg     0\n",
       "2   image688.jpg     0\n",
       "3   image233.jpg     0\n",
       "4  image4332.jpg     0"
      ]
     },
     "execution_count": 7,
     "metadata": {},
     "output_type": "execute_result"
    }
   ],
   "source": [
    "test_dir = \"../input/hackereath-holiday-season-deep-learning-contest/dataset/test\"\n",
    "test_files = []\n",
    "\n",
    "for file in tqdm(os.listdir(test_dir)):\n",
    "    test_files.append(file)\n",
    "\n",
    "test_df = pd.DataFrame(test_files, columns=['Image'])\n",
    "test_df['Class'] = '0'\n",
    "test_df.head()"
   ]
  },
  {
   "cell_type": "markdown",
   "metadata": {
    "papermill": {
     "duration": 0.030539,
     "end_time": "2021-01-29T09:18:01.675236",
     "exception": false,
     "start_time": "2021-01-29T09:18:01.644697",
     "status": "completed"
    },
    "tags": []
   },
   "source": [
    "## Calculate class-weights"
   ]
  },
  {
   "cell_type": "code",
   "execution_count": 8,
   "metadata": {
    "execution": {
     "iopub.execute_input": "2021-01-29T09:18:01.743881Z",
     "iopub.status.busy": "2021-01-29T09:18:01.742897Z",
     "iopub.status.idle": "2021-01-29T09:18:01.767987Z",
     "shell.execute_reply": "2021-01-29T09:18:01.768729Z"
    },
    "papermill": {
     "duration": 0.064007,
     "end_time": "2021-01-29T09:18:01.768896",
     "exception": false,
     "start_time": "2021-01-29T09:18:01.704889",
     "status": "completed"
    },
    "tags": []
   },
   "outputs": [
    {
     "data": {
      "text/plain": [
       "{0: 0.6747663551401869,\n",
       " 1: 0.6087689713322091,\n",
       " 2: 0.23456790123456786,\n",
       " 3: 0.5640625,\n",
       " 4: 0.12888254194930382,\n",
       " 5: 1.0}"
      ]
     },
     "execution_count": 8,
     "metadata": {},
     "output_type": "execute_result"
    }
   ],
   "source": [
    "temp_df = train_df.groupby(['Class_enc']).size().reset_index().rename(columns={0:'count'})\n",
    "total_count = np.sum(temp_df['count'].values)\n",
    "temp_df['class%'] = (temp_df['count'] / total_count) * 100\n",
    "lowest_pct = min(temp_df['class%'])\n",
    "temp_df['class_weight'] = lowest_pct / temp_df['class%']\n",
    "class_weight = temp_df[['Class_enc', 'class_weight']].to_dict()['class_weight']\n",
    "class_weight"
   ]
  },
  {
   "cell_type": "markdown",
   "metadata": {
    "papermill": {
     "duration": 0.030501,
     "end_time": "2021-01-29T09:18:01.829975",
     "exception": false,
     "start_time": "2021-01-29T09:18:01.799474",
     "status": "completed"
    },
    "tags": []
   },
   "source": [
    "## Split training data into train/validation datasets"
   ]
  },
  {
   "cell_type": "code",
   "execution_count": 9,
   "metadata": {
    "execution": {
     "iopub.execute_input": "2021-01-29T09:18:01.907556Z",
     "iopub.status.busy": "2021-01-29T09:18:01.906837Z",
     "iopub.status.idle": "2021-01-29T09:18:01.923355Z",
     "shell.execute_reply": "2021-01-29T09:18:01.923935Z"
    },
    "papermill": {
     "duration": 0.063561,
     "end_time": "2021-01-29T09:18:01.924142",
     "exception": false,
     "start_time": "2021-01-29T09:18:01.860581",
     "status": "completed"
    },
    "tags": []
   },
   "outputs": [
    {
     "name": "stdout",
     "output_type": "stream",
     "text": [
      "train_df shape: (5498, 3)\n",
      "validation_df shape: (971, 3)\n"
     ]
    }
   ],
   "source": [
    "sss = StratifiedShuffleSplit(n_splits=1, test_size=0.15, random_state=1)\n",
    "for train_index, validation_index in sss.split(train_df['Image'], train_df['Class_enc']):\n",
    "    train_df, validation_df = train_df.iloc[train_index], train_df.iloc[validation_index]\n",
    "\n",
    "print(\"train_df shape: {}\".format(train_df.shape))\n",
    "print(\"validation_df shape: {}\".format(validation_df.shape))"
   ]
  },
  {
   "cell_type": "code",
   "execution_count": 10,
   "metadata": {
    "execution": {
     "iopub.execute_input": "2021-01-29T09:18:01.997545Z",
     "iopub.status.busy": "2021-01-29T09:18:01.996604Z",
     "iopub.status.idle": "2021-01-29T09:18:02.011325Z",
     "shell.execute_reply": "2021-01-29T09:18:02.010707Z"
    },
    "papermill": {
     "duration": 0.051541,
     "end_time": "2021-01-29T09:18:02.011485",
     "exception": false,
     "start_time": "2021-01-29T09:18:01.959944",
     "status": "completed"
    },
    "tags": []
   },
   "outputs": [
    {
     "data": {
      "text/html": [
       "<div>\n",
       "<style scoped>\n",
       "    .dataframe tbody tr th:only-of-type {\n",
       "        vertical-align: middle;\n",
       "    }\n",
       "\n",
       "    .dataframe tbody tr th {\n",
       "        vertical-align: top;\n",
       "    }\n",
       "\n",
       "    .dataframe thead th {\n",
       "        text-align: right;\n",
       "    }\n",
       "</style>\n",
       "<table border=\"1\" class=\"dataframe\">\n",
       "  <thead>\n",
       "    <tr style=\"text-align: right;\">\n",
       "      <th></th>\n",
       "      <th>Class</th>\n",
       "      <th>Class_enc</th>\n",
       "      <th>Count</th>\n",
       "    </tr>\n",
       "  </thead>\n",
       "  <tbody>\n",
       "    <tr>\n",
       "      <th>0</th>\n",
       "      <td>Airplane</td>\n",
       "      <td>0</td>\n",
       "      <td>455</td>\n",
       "    </tr>\n",
       "    <tr>\n",
       "      <th>1</th>\n",
       "      <td>Candle</td>\n",
       "      <td>1</td>\n",
       "      <td>504</td>\n",
       "    </tr>\n",
       "    <tr>\n",
       "      <th>2</th>\n",
       "      <td>Christmas_Tree</td>\n",
       "      <td>2</td>\n",
       "      <td>1308</td>\n",
       "    </tr>\n",
       "    <tr>\n",
       "      <th>3</th>\n",
       "      <td>Jacket</td>\n",
       "      <td>3</td>\n",
       "      <td>544</td>\n",
       "    </tr>\n",
       "    <tr>\n",
       "      <th>4</th>\n",
       "      <td>Miscellaneous</td>\n",
       "      <td>4</td>\n",
       "      <td>2380</td>\n",
       "    </tr>\n",
       "    <tr>\n",
       "      <th>5</th>\n",
       "      <td>Snowman</td>\n",
       "      <td>5</td>\n",
       "      <td>307</td>\n",
       "    </tr>\n",
       "  </tbody>\n",
       "</table>\n",
       "</div>"
      ],
      "text/plain": [
       "            Class Class_enc  Count\n",
       "0        Airplane         0    455\n",
       "1          Candle         1    504\n",
       "2  Christmas_Tree         2   1308\n",
       "3          Jacket         3    544\n",
       "4   Miscellaneous         4   2380\n",
       "5         Snowman         5    307"
      ]
     },
     "execution_count": 10,
     "metadata": {},
     "output_type": "execute_result"
    }
   ],
   "source": [
    "train_df.groupby(['Class','Class_enc']).size().reset_index().rename(columns={0:'Count'})"
   ]
  },
  {
   "cell_type": "code",
   "execution_count": 11,
   "metadata": {
    "execution": {
     "iopub.execute_input": "2021-01-29T09:18:02.081629Z",
     "iopub.status.busy": "2021-01-29T09:18:02.080652Z",
     "iopub.status.idle": "2021-01-29T09:18:02.093203Z",
     "shell.execute_reply": "2021-01-29T09:18:02.093776Z"
    },
    "papermill": {
     "duration": 0.050792,
     "end_time": "2021-01-29T09:18:02.093938",
     "exception": false,
     "start_time": "2021-01-29T09:18:02.043146",
     "status": "completed"
    },
    "tags": []
   },
   "outputs": [
    {
     "data": {
      "text/html": [
       "<div>\n",
       "<style scoped>\n",
       "    .dataframe tbody tr th:only-of-type {\n",
       "        vertical-align: middle;\n",
       "    }\n",
       "\n",
       "    .dataframe tbody tr th {\n",
       "        vertical-align: top;\n",
       "    }\n",
       "\n",
       "    .dataframe thead th {\n",
       "        text-align: right;\n",
       "    }\n",
       "</style>\n",
       "<table border=\"1\" class=\"dataframe\">\n",
       "  <thead>\n",
       "    <tr style=\"text-align: right;\">\n",
       "      <th></th>\n",
       "      <th>Class</th>\n",
       "      <th>Class_enc</th>\n",
       "      <th>Count</th>\n",
       "    </tr>\n",
       "  </thead>\n",
       "  <tbody>\n",
       "    <tr>\n",
       "      <th>0</th>\n",
       "      <td>Airplane</td>\n",
       "      <td>0</td>\n",
       "      <td>80</td>\n",
       "    </tr>\n",
       "    <tr>\n",
       "      <th>1</th>\n",
       "      <td>Candle</td>\n",
       "      <td>1</td>\n",
       "      <td>89</td>\n",
       "    </tr>\n",
       "    <tr>\n",
       "      <th>2</th>\n",
       "      <td>Christmas_Tree</td>\n",
       "      <td>2</td>\n",
       "      <td>231</td>\n",
       "    </tr>\n",
       "    <tr>\n",
       "      <th>3</th>\n",
       "      <td>Jacket</td>\n",
       "      <td>3</td>\n",
       "      <td>96</td>\n",
       "    </tr>\n",
       "    <tr>\n",
       "      <th>4</th>\n",
       "      <td>Miscellaneous</td>\n",
       "      <td>4</td>\n",
       "      <td>421</td>\n",
       "    </tr>\n",
       "    <tr>\n",
       "      <th>5</th>\n",
       "      <td>Snowman</td>\n",
       "      <td>5</td>\n",
       "      <td>54</td>\n",
       "    </tr>\n",
       "  </tbody>\n",
       "</table>\n",
       "</div>"
      ],
      "text/plain": [
       "            Class Class_enc  Count\n",
       "0        Airplane         0     80\n",
       "1          Candle         1     89\n",
       "2  Christmas_Tree         2    231\n",
       "3          Jacket         3     96\n",
       "4   Miscellaneous         4    421\n",
       "5         Snowman         5     54"
      ]
     },
     "execution_count": 11,
     "metadata": {},
     "output_type": "execute_result"
    }
   ],
   "source": [
    "validation_df.groupby(['Class','Class_enc']).size().reset_index().rename(columns={0:'Count'})"
   ]
  },
  {
   "cell_type": "markdown",
   "metadata": {
    "papermill": {
     "duration": 0.032261,
     "end_time": "2021-01-29T09:18:02.158848",
     "exception": false,
     "start_time": "2021-01-29T09:18:02.126587",
     "status": "completed"
    },
    "tags": []
   },
   "source": [
    "## Model Hyperparameters"
   ]
  },
  {
   "cell_type": "code",
   "execution_count": 12,
   "metadata": {
    "execution": {
     "iopub.execute_input": "2021-01-29T09:18:02.228578Z",
     "iopub.status.busy": "2021-01-29T09:18:02.226643Z",
     "iopub.status.idle": "2021-01-29T09:18:02.229317Z",
     "shell.execute_reply": "2021-01-29T09:18:02.229827Z"
    },
    "papermill": {
     "duration": 0.039462,
     "end_time": "2021-01-29T09:18:02.229975",
     "exception": false,
     "start_time": "2021-01-29T09:18:02.190513",
     "status": "completed"
    },
    "tags": []
   },
   "outputs": [],
   "source": [
    "dataset_dir = \"../input/hackereath-holiday-season-deep-learning-contest/dataset/\"\n",
    "mini_batch_size = 128\n",
    "steps_per_epoch = int(np.ceil(train_df.shape[0] / float(mini_batch_size)))\n",
    "validation_steps = int(np.ceil(validation_df.shape[0] / float(mini_batch_size)))\n",
    "test_steps = int(np.ceil(test_df.shape[0] / float(mini_batch_size)))\n",
    "image_dim = (240, 240, 3)"
   ]
  },
  {
   "cell_type": "markdown",
   "metadata": {
    "papermill": {
     "duration": 0.032609,
     "end_time": "2021-01-29T09:18:02.293929",
     "exception": false,
     "start_time": "2021-01-29T09:18:02.261320",
     "status": "completed"
    },
    "tags": []
   },
   "source": [
    "## Configure image generators"
   ]
  },
  {
   "cell_type": "code",
   "execution_count": 13,
   "metadata": {
    "execution": {
     "iopub.execute_input": "2021-01-29T09:18:02.388495Z",
     "iopub.status.busy": "2021-01-29T09:18:02.387814Z",
     "iopub.status.idle": "2021-01-29T09:18:25.991530Z",
     "shell.execute_reply": "2021-01-29T09:18:25.992178Z"
    },
    "papermill": {
     "duration": 23.66651,
     "end_time": "2021-01-29T09:18:25.992427",
     "exception": false,
     "start_time": "2021-01-29T09:18:02.325917",
     "status": "completed"
    },
    "tags": []
   },
   "outputs": [
    {
     "name": "stdout",
     "output_type": "stream",
     "text": [
      "Found 5498 validated image filenames belonging to 6 classes.\n",
      "Found 971 validated image filenames belonging to 6 classes.\n",
      "Found 3489 validated image filenames belonging to 1 classes.\n"
     ]
    }
   ],
   "source": [
    "train_datagen = ImageDataGenerator(rotation_range = 30,\n",
    "                                   zoom_range = 0.2,\n",
    "                                   horizontal_flip = True,\n",
    "                                   fill_mode = 'nearest',\n",
    "                                   height_shift_range = 0.1,\n",
    "                                   width_shift_range = 0.1)\n",
    "\n",
    "train_generator = train_datagen.flow_from_dataframe(train_df,\n",
    "                                                    directory = os.path.join(dataset_dir,\"train\"),\n",
    "                                                    x_col = \"Image\", \n",
    "                                                    y_col = \"Class_enc\",\n",
    "                                                    target_size = (image_dim[0], image_dim[1]),\n",
    "                                                    batch_size = mini_batch_size,\n",
    "                                                    class_mode = \"categorical\",\n",
    "                                                    interpolation=\"bicubic\")\n",
    "\n",
    "validation_datagen = ImageDataGenerator()\n",
    "\n",
    "validation_generator = validation_datagen.flow_from_dataframe(validation_df,\n",
    "                                                              directory = os.path.join(dataset_dir,\"train\"),\n",
    "                                                              x_col = \"Image\",\n",
    "                                                              y_col = \"Class_enc\",\n",
    "                                                              shuffle=False,\n",
    "                                                              target_size = (image_dim[0], image_dim[1]),\n",
    "                                                              batch_size = mini_batch_size,\n",
    "                                                              class_mode = \"categorical\",\n",
    "                                                              interpolation=\"bicubic\")\n",
    "\n",
    "test_datagen = ImageDataGenerator()\n",
    "\n",
    "test_generator = test_datagen.flow_from_dataframe(test_df,\n",
    "                                                  directory = os.path.join(dataset_dir,\"test\"),\n",
    "                                                  x_col = \"Image\",\n",
    "                                                  y_col = \"Class\",\n",
    "                                                  shuffle=False,\n",
    "                                                  target_size = (image_dim[0], image_dim[1]),\n",
    "                                                  batch_size = mini_batch_size,\n",
    "                                                  class_mode = \"categorical\",\n",
    "                                                  interpolation=\"bicubic\")"
   ]
  },
  {
   "cell_type": "markdown",
   "metadata": {
    "papermill": {
     "duration": 0.031526,
     "end_time": "2021-01-29T09:18:26.055613",
     "exception": false,
     "start_time": "2021-01-29T09:18:26.024087",
     "status": "completed"
    },
    "tags": []
   },
   "source": [
    "## Build and validate the model"
   ]
  },
  {
   "cell_type": "code",
   "execution_count": 14,
   "metadata": {
    "execution": {
     "iopub.execute_input": "2021-01-29T09:18:26.143919Z",
     "iopub.status.busy": "2021-01-29T09:18:26.137102Z",
     "iopub.status.idle": "2021-01-29T09:18:26.146820Z",
     "shell.execute_reply": "2021-01-29T09:18:26.146151Z"
    },
    "papermill": {
     "duration": 0.060229,
     "end_time": "2021-01-29T09:18:26.146965",
     "exception": false,
     "start_time": "2021-01-29T09:18:26.086736",
     "status": "completed"
    },
    "tags": []
   },
   "outputs": [],
   "source": [
    "def head(x_input, input_shape=2560, ratio=8):\n",
    "    \n",
    "    #=======================================================\n",
    "    #                    Channel Attention\n",
    "    #=======================================================\n",
    "    gapavg = GlobalAveragePooling2D()(x_input)\n",
    "    gapavg = Reshape((1, 1, gapavg.shape[1]))(gapavg)\n",
    "    gapavg = Conv2D(input_shape//ratio, \n",
    "                    kernel_size=1, strides=1, use_bias=True, \n",
    "                    padding='same', kernel_regularizer=l2(0.001), \n",
    "                    kernel_initializer='he_normal')(gapavg)\n",
    "    gapavg = BatchNormalization()(gapavg)\n",
    "    gapavg = Activation('relu')(gapavg)\n",
    "    gapavg_out = Conv2D(input_shape, kernel_size=1, \n",
    "                        strides=1, padding='same', use_bias=True, \n",
    "                        kernel_regularizer=l2(0.001), \n",
    "                        kernel_initializer='he_normal')(gapavg)\n",
    "    gapavg_out = BatchNormalization()(gapavg_out)\n",
    "    gapavg_out = Activation('relu')(gapavg_out)\n",
    "\n",
    "\n",
    "    gmpmax = GlobalMaxPooling2D()(x_input)\n",
    "    gmpmax = Reshape((1, 1, gmpmax.shape[1]))(gmpmax)\n",
    "    gmpmax = Conv2D(input_shape//ratio, \n",
    "                    kernel_size=1, strides=1, use_bias=True, \n",
    "                    padding='same', kernel_regularizer=l2(0.001), \n",
    "                    kernel_initializer='he_normal')(gmpmax)\n",
    "    gmpmax = BatchNormalization()(gmpmax)\n",
    "    gmpmax = Activation('relu')(gmpmax)\n",
    "    gmpmax_out = Conv2D(input_shape, kernel_size=1, \n",
    "                        strides=1, padding='same', use_bias=True, \n",
    "                        kernel_regularizer=l2(0.001), \n",
    "                        kernel_initializer='he_normal')(gmpmax)\n",
    "    gmpmax_out = BatchNormalization()(gmpmax_out)\n",
    "    gmpmax_out = Activation('relu')(gmpmax_out)\n",
    "    canx = x_input * tf.math.sigmoid(gapavg_out + gmpmax_out)\n",
    "\n",
    "\n",
    "    #=======================================================\n",
    "    #                    Spatial Attention\n",
    "    #=======================================================\n",
    "    avg_out = tf.reduce_mean(canx, axis=3)\n",
    "    max_out = tf.reduce_max(canx,  axis=3)\n",
    "    x = tf.stack([avg_out, max_out], axis=3)\n",
    "    \n",
    "    x = Conv2D(filters=64, kernel_size=3, strides=1, \n",
    "               padding='same', use_bias=False, \n",
    "               kernel_regularizer=l2(0.001), \n",
    "               kernel_initializer='he_normal')(x)\n",
    "    x = BatchNormalization()(x)\n",
    "    x = Activation('relu')(x)\n",
    "\n",
    "    x = Conv2D(filters=32, kernel_size=3, strides=1, \n",
    "               padding='same', use_bias=False, \n",
    "               kernel_regularizer=l2(0.001), \n",
    "               kernel_initializer='he_normal')(x)\n",
    "    x = BatchNormalization()(x)\n",
    "    x = Activation('relu')(x)\n",
    "\n",
    "    x = Conv2D(filters=16, kernel_size=3, strides=1, \n",
    "               padding='same', use_bias=False, \n",
    "               kernel_regularizer=l2(0.001), \n",
    "               kernel_initializer='he_normal')(x)\n",
    "    x = BatchNormalization()(x)\n",
    "    x = Activation('relu')(x)\n",
    "\n",
    "    x = Conv2D(filters=1, kernel_size=3, strides=1, \n",
    "               padding='same', use_bias=False, \n",
    "               kernel_regularizer=l2(0.001), \n",
    "               kernel_initializer='he_normal')(x)\n",
    "    x = BatchNormalization()(x)\n",
    "    x = Activation('sigmoid')(x)\n",
    "    spnx1 = canx * x\n",
    "    spnx2 = x\n",
    "    \n",
    "    gapx   = GlobalAveragePooling2D()(spnx1)\n",
    "    wvgx   = GlobalAveragePooling2D()(spnx2)\n",
    "    gapavg = Average()([gapx, wvgx])\n",
    "    x = BatchNormalization()(gapavg)\n",
    "\n",
    "\n",
    "    #=======================================================\n",
    "    #                    Tail of the model\n",
    "    #=======================================================\n",
    "\n",
    "    x = Dense(units=2048, kernel_regularizer=l2(0.0001), \n",
    "              kernel_initializer='he_uniform')(x)\n",
    "    x = BatchNormalization()(x)\n",
    "    x = Activation('relu')(x)\n",
    "    x = Dropout(rate=0.5)(x)\n",
    "    \n",
    "    x = Dense(units=1024, kernel_regularizer=l2(0.0001), \n",
    "              kernel_initializer='he_uniform')(x)\n",
    "    x = BatchNormalization()(x)\n",
    "    x = Activation('relu')(x)\n",
    "    x = Dropout(rate=0.5)(x)\n",
    "    \n",
    "    x = Dense(units=1024, kernel_regularizer=l2(0.0001), \n",
    "              kernel_initializer='he_uniform')(x)\n",
    "    x = BatchNormalization()(x)\n",
    "    x = Activation('relu')(x)\n",
    "    x = Dropout(rate=0.5)(x)\n",
    "    \n",
    "    x = Dense(units=512, kernel_regularizer=l2(0.0001), \n",
    "              kernel_initializer='he_uniform')(x)\n",
    "    x = BatchNormalization()(x)\n",
    "    x = Activation('relu')(x)\n",
    "    x = Dropout(rate=0.5)(x)\n",
    "    \n",
    "    x = Dense(units=6, activation='softmax', \n",
    "              kernel_initializer='he_uniform')(x)\n",
    "\n",
    "    return x"
   ]
  },
  {
   "cell_type": "code",
   "execution_count": 15,
   "metadata": {
    "execution": {
     "iopub.execute_input": "2021-01-29T09:18:26.220366Z",
     "iopub.status.busy": "2021-01-29T09:18:26.219724Z",
     "iopub.status.idle": "2021-01-29T09:18:57.604923Z",
     "shell.execute_reply": "2021-01-29T09:18:57.603756Z"
    },
    "papermill": {
     "duration": 31.42632,
     "end_time": "2021-01-29T09:18:57.605113",
     "exception": false,
     "start_time": "2021-01-29T09:18:26.178793",
     "status": "completed"
    },
    "tags": []
   },
   "outputs": [
    {
     "name": "stdout",
     "output_type": "stream",
     "text": [
      "Downloading data from https://storage.googleapis.com/keras-applications/efficientnetb7_notop.h5\n",
      "258080768/258076736 [==============================] - 2s 0us/step\n"
     ]
    }
   ],
   "source": [
    "# Build the model\n",
    "base_model = EfficientNetB7(weights='imagenet', \n",
    "                            input_tensor=Input(shape=image_dim), \n",
    "                            include_top=False)\n",
    "\n",
    "model = Model(base_model.input, head(base_model.output),\n",
    "              name='HackerEarth_Holiday_Season_Model')\n",
    "\n",
    "# Load the pre-trained model\n",
    "pretrain_model = load_model('../input/holiday-season-enetb7-mav1/hackerearth_holiday_season_model.h5')\n",
    "\n",
    "# Transfer weights from pre-trained model\n",
    "model.set_weights(pretrain_model.get_weights())\n",
    "\n",
    "# Freeze weights for base model\n",
    "base_model.trainable = False\n",
    "for layer in base_model.layers[-18:]:\n",
    "    if not isinstance(layer, BatchNormalization):\n",
    "        layer.trainable = True\n",
    "\n",
    "# Compile the final model\n",
    "model.compile(loss='categorical_crossentropy', \n",
    "              metrics=[F1Score(num_classes=6, average='weighted'), \n",
    "                       'categorical_accuracy'],\n",
    "              optimizer=Lookahead(AdamW(lr=1e-2, \n",
    "                                        weight_decay=1e-5, \n",
    "                                        clipvalue=700), \n",
    "                                  sync_period=10))\n",
    "\n",
    "early = EarlyStopping(monitor=\"val_loss\", mode=\"min\", patience=10, \n",
    "                      restore_best_weights=True, verbose=1)\n",
    "\n",
    "reduce_lr = ReduceLROnPlateau(monitor=\"val_loss\", factor=0.1, \n",
    "                              min_lr=1e-6, patience=7, \n",
    "                              verbose=1, mode='min')\n",
    "\n",
    "chk_point = ModelCheckpoint('hackerearth_holiday_season_model.h5', \n",
    "                            monitor='val_loss', verbose=1, \n",
    "                            save_best_only=True, mode='min')"
   ]
  },
  {
   "cell_type": "code",
   "execution_count": 16,
   "metadata": {
    "execution": {
     "iopub.execute_input": "2021-01-29T09:18:57.705151Z",
     "iopub.status.busy": "2021-01-29T09:18:57.703929Z",
     "iopub.status.idle": "2021-01-29T10:38:58.918099Z",
     "shell.execute_reply": "2021-01-29T10:38:58.911158Z"
    },
    "papermill": {
     "duration": 4801.269568,
     "end_time": "2021-01-29T10:38:58.918320",
     "exception": false,
     "start_time": "2021-01-29T09:18:57.648752",
     "status": "completed"
    },
    "tags": []
   },
   "outputs": [
    {
     "name": "stdout",
     "output_type": "stream",
     "text": [
      "Epoch 1/275\n",
      "43/43 [==============================] - 149s 2s/step - loss: 0.6120 - f1_score: 0.7938 - categorical_accuracy: 0.7889 - val_loss: 2.3104 - val_f1_score: 0.8150 - val_categorical_accuracy: 0.8084\n",
      "\n",
      "Epoch 00001: val_loss improved from inf to 2.31040, saving model to hackerearth_holiday_season_model.h5\n",
      "Epoch 2/275\n",
      "43/43 [==============================] - 95s 2s/step - loss: 0.4656 - f1_score: 0.8797 - categorical_accuracy: 0.8767 - val_loss: 1.3761 - val_f1_score: 0.8548 - val_categorical_accuracy: 0.8445\n",
      "\n",
      "Epoch 00002: val_loss improved from 2.31040 to 1.37615, saving model to hackerearth_holiday_season_model.h5\n",
      "Epoch 3/275\n",
      "43/43 [==============================] - 96s 2s/step - loss: 0.4764 - f1_score: 0.8715 - categorical_accuracy: 0.8698 - val_loss: 0.8860 - val_f1_score: 0.8798 - val_categorical_accuracy: 0.8754\n",
      "\n",
      "Epoch 00003: val_loss improved from 1.37615 to 0.88602, saving model to hackerearth_holiday_season_model.h5\n",
      "Epoch 4/275\n",
      "43/43 [==============================] - 96s 2s/step - loss: 0.4424 - f1_score: 0.8933 - categorical_accuracy: 0.8924 - val_loss: 0.9130 - val_f1_score: 0.8483 - val_categorical_accuracy: 0.8465\n",
      "\n",
      "Epoch 00004: val_loss did not improve from 0.88602\n",
      "Epoch 5/275\n",
      "43/43 [==============================] - 96s 2s/step - loss: 0.4772 - f1_score: 0.8877 - categorical_accuracy: 0.8866 - val_loss: 0.9125 - val_f1_score: 0.8550 - val_categorical_accuracy: 0.8496\n",
      "\n",
      "Epoch 00005: val_loss did not improve from 0.88602\n",
      "Epoch 6/275\n",
      "43/43 [==============================] - 94s 2s/step - loss: 0.4808 - f1_score: 0.8792 - categorical_accuracy: 0.8782 - val_loss: 0.8155 - val_f1_score: 0.8837 - val_categorical_accuracy: 0.8816\n",
      "\n",
      "Epoch 00006: val_loss improved from 0.88602 to 0.81554, saving model to hackerearth_holiday_season_model.h5\n",
      "Epoch 7/275\n",
      "43/43 [==============================] - 94s 2s/step - loss: 0.4451 - f1_score: 0.8910 - categorical_accuracy: 0.8897 - val_loss: 0.7114 - val_f1_score: 0.8715 - val_categorical_accuracy: 0.8682\n",
      "\n",
      "Epoch 00007: val_loss improved from 0.81554 to 0.71141, saving model to hackerearth_holiday_season_model.h5\n",
      "Epoch 8/275\n",
      "43/43 [==============================] - 92s 2s/step - loss: 0.4072 - f1_score: 0.8947 - categorical_accuracy: 0.8936 - val_loss: 1.0048 - val_f1_score: 0.8163 - val_categorical_accuracy: 0.8332\n",
      "\n",
      "Epoch 00008: val_loss did not improve from 0.71141\n",
      "Epoch 9/275\n",
      "43/43 [==============================] - 99s 2s/step - loss: 0.4968 - f1_score: 0.8939 - categorical_accuracy: 0.8925 - val_loss: 0.9390 - val_f1_score: 0.8607 - val_categorical_accuracy: 0.8589\n",
      "\n",
      "Epoch 00009: val_loss did not improve from 0.71141\n",
      "Epoch 10/275\n",
      "43/43 [==============================] - 98s 2s/step - loss: 0.3981 - f1_score: 0.9183 - categorical_accuracy: 0.9177 - val_loss: 0.6672 - val_f1_score: 0.8862 - val_categorical_accuracy: 0.8826\n",
      "\n",
      "Epoch 00010: val_loss improved from 0.71141 to 0.66721, saving model to hackerearth_holiday_season_model.h5\n",
      "Epoch 11/275\n",
      "43/43 [==============================] - 93s 2s/step - loss: 0.4972 - f1_score: 0.8865 - categorical_accuracy: 0.8843 - val_loss: 0.8014 - val_f1_score: 0.9010 - val_categorical_accuracy: 0.9001\n",
      "\n",
      "Epoch 00011: val_loss did not improve from 0.66721\n",
      "Epoch 12/275\n",
      "43/43 [==============================] - 96s 2s/step - loss: 0.4150 - f1_score: 0.9010 - categorical_accuracy: 0.9006 - val_loss: 0.9469 - val_f1_score: 0.8548 - val_categorical_accuracy: 0.8455\n",
      "\n",
      "Epoch 00012: val_loss did not improve from 0.66721\n",
      "Epoch 13/275\n",
      "43/43 [==============================] - 98s 2s/step - loss: 0.4138 - f1_score: 0.9086 - categorical_accuracy: 0.9075 - val_loss: 0.9390 - val_f1_score: 0.8547 - val_categorical_accuracy: 0.8538\n",
      "\n",
      "Epoch 00013: val_loss did not improve from 0.66721\n",
      "Epoch 14/275\n",
      "43/43 [==============================] - 104s 2s/step - loss: 0.4906 - f1_score: 0.9088 - categorical_accuracy: 0.9085 - val_loss: 0.6251 - val_f1_score: 0.8915 - val_categorical_accuracy: 0.8908\n",
      "\n",
      "Epoch 00014: val_loss improved from 0.66721 to 0.62512, saving model to hackerearth_holiday_season_model.h5\n",
      "Epoch 15/275\n",
      "43/43 [==============================] - 93s 2s/step - loss: 0.4101 - f1_score: 0.9027 - categorical_accuracy: 0.9009 - val_loss: 0.8425 - val_f1_score: 0.8458 - val_categorical_accuracy: 0.8393\n",
      "\n",
      "Epoch 00015: val_loss did not improve from 0.62512\n",
      "Epoch 16/275\n",
      "43/43 [==============================] - 100s 2s/step - loss: 0.4696 - f1_score: 0.8992 - categorical_accuracy: 0.8983 - val_loss: 0.7499 - val_f1_score: 0.9015 - val_categorical_accuracy: 0.9011\n",
      "\n",
      "Epoch 00016: val_loss did not improve from 0.62512\n",
      "Epoch 17/275\n",
      "43/43 [==============================] - 101s 2s/step - loss: 0.3742 - f1_score: 0.9000 - categorical_accuracy: 0.8995 - val_loss: 0.5372 - val_f1_score: 0.9023 - val_categorical_accuracy: 0.9011\n",
      "\n",
      "Epoch 00017: val_loss improved from 0.62512 to 0.53717, saving model to hackerearth_holiday_season_model.h5\n",
      "Epoch 18/275\n",
      "43/43 [==============================] - 95s 2s/step - loss: 0.3743 - f1_score: 0.8845 - categorical_accuracy: 0.8841 - val_loss: 0.7146 - val_f1_score: 0.8827 - val_categorical_accuracy: 0.8795\n",
      "\n",
      "Epoch 00018: val_loss did not improve from 0.53717\n",
      "Epoch 19/275\n",
      "43/43 [==============================] - 102s 2s/step - loss: 0.4400 - f1_score: 0.8998 - categorical_accuracy: 0.8990 - val_loss: 0.6572 - val_f1_score: 0.9029 - val_categorical_accuracy: 0.9022\n",
      "\n",
      "Epoch 00019: val_loss did not improve from 0.53717\n",
      "Epoch 20/275\n",
      "43/43 [==============================] - 101s 2s/step - loss: 0.3655 - f1_score: 0.9106 - categorical_accuracy: 0.9100 - val_loss: 0.5967 - val_f1_score: 0.9055 - val_categorical_accuracy: 0.9053\n",
      "\n",
      "Epoch 00020: val_loss did not improve from 0.53717\n",
      "Epoch 21/275\n",
      "43/43 [==============================] - 102s 2s/step - loss: 0.3631 - f1_score: 0.9070 - categorical_accuracy: 0.9067 - val_loss: 0.6249 - val_f1_score: 0.8972 - val_categorical_accuracy: 0.8960\n",
      "\n",
      "Epoch 00021: val_loss did not improve from 0.53717\n",
      "Epoch 22/275\n",
      "43/43 [==============================] - 102s 2s/step - loss: 0.3803 - f1_score: 0.9112 - categorical_accuracy: 0.9100 - val_loss: 0.5519 - val_f1_score: 0.9175 - val_categorical_accuracy: 0.9176\n",
      "\n",
      "Epoch 00022: val_loss did not improve from 0.53717\n",
      "Epoch 23/275\n",
      "43/43 [==============================] - 94s 2s/step - loss: 0.3482 - f1_score: 0.9222 - categorical_accuracy: 0.9216 - val_loss: 0.8196 - val_f1_score: 0.8442 - val_categorical_accuracy: 0.8476\n",
      "\n",
      "Epoch 00023: val_loss did not improve from 0.53717\n",
      "Epoch 24/275\n",
      "43/43 [==============================] - 102s 2s/step - loss: 0.3638 - f1_score: 0.9168 - categorical_accuracy: 0.9166 - val_loss: 0.6701 - val_f1_score: 0.8846 - val_categorical_accuracy: 0.8826\n",
      "\n",
      "Epoch 00024: ReduceLROnPlateau reducing learning rate to 0.0009999999776482583.\n",
      "\n",
      "Epoch 00024: val_loss did not improve from 0.53717\n",
      "Epoch 25/275\n",
      "43/43 [==============================] - 96s 2s/step - loss: 0.2561 - f1_score: 0.9185 - categorical_accuracy: 0.9179 - val_loss: 0.4396 - val_f1_score: 0.9159 - val_categorical_accuracy: 0.9156\n",
      "\n",
      "Epoch 00025: val_loss improved from 0.53717 to 0.43964, saving model to hackerearth_holiday_season_model.h5\n",
      "Epoch 26/275\n",
      "43/43 [==============================] - 94s 2s/step - loss: 0.1887 - f1_score: 0.9466 - categorical_accuracy: 0.9461 - val_loss: 0.4139 - val_f1_score: 0.9104 - val_categorical_accuracy: 0.9104\n",
      "\n",
      "Epoch 00026: val_loss improved from 0.43964 to 0.41394, saving model to hackerearth_holiday_season_model.h5\n",
      "Epoch 27/275\n",
      "43/43 [==============================] - 96s 2s/step - loss: 0.1553 - f1_score: 0.9508 - categorical_accuracy: 0.9506 - val_loss: 0.4015 - val_f1_score: 0.9082 - val_categorical_accuracy: 0.9083\n",
      "\n",
      "Epoch 00027: val_loss improved from 0.41394 to 0.40151, saving model to hackerearth_holiday_season_model.h5\n",
      "Epoch 28/275\n",
      "43/43 [==============================] - 95s 2s/step - loss: 0.1488 - f1_score: 0.9415 - categorical_accuracy: 0.9409 - val_loss: 0.4093 - val_f1_score: 0.8997 - val_categorical_accuracy: 0.9001\n",
      "\n",
      "Epoch 00028: val_loss did not improve from 0.40151\n",
      "Epoch 29/275\n",
      "43/43 [==============================] - 100s 2s/step - loss: 0.1263 - f1_score: 0.9533 - categorical_accuracy: 0.9530 - val_loss: 0.4124 - val_f1_score: 0.8914 - val_categorical_accuracy: 0.8919\n",
      "\n",
      "Epoch 00029: val_loss did not improve from 0.40151\n",
      "Epoch 30/275\n",
      "43/43 [==============================] - 99s 2s/step - loss: 0.1213 - f1_score: 0.9441 - categorical_accuracy: 0.9437 - val_loss: 0.3708 - val_f1_score: 0.9029 - val_categorical_accuracy: 0.9032\n",
      "\n",
      "Epoch 00030: val_loss improved from 0.40151 to 0.37080, saving model to hackerearth_holiday_season_model.h5\n",
      "Epoch 31/275\n",
      "43/43 [==============================] - 92s 2s/step - loss: 0.1111 - f1_score: 0.9475 - categorical_accuracy: 0.9471 - val_loss: 0.3784 - val_f1_score: 0.8946 - val_categorical_accuracy: 0.8950\n",
      "\n",
      "Epoch 00031: val_loss did not improve from 0.37080\n",
      "Epoch 32/275\n",
      "43/43 [==============================] - 98s 2s/step - loss: 0.1050 - f1_score: 0.9482 - categorical_accuracy: 0.9480 - val_loss: 0.3796 - val_f1_score: 0.8990 - val_categorical_accuracy: 0.8991\n",
      "\n",
      "Epoch 00032: val_loss did not improve from 0.37080\n",
      "Epoch 33/275\n",
      "43/43 [==============================] - 98s 2s/step - loss: 0.1000 - f1_score: 0.9522 - categorical_accuracy: 0.9520 - val_loss: 0.3646 - val_f1_score: 0.8998 - val_categorical_accuracy: 0.9001\n",
      "\n",
      "Epoch 00033: val_loss improved from 0.37080 to 0.36463, saving model to hackerearth_holiday_season_model.h5\n",
      "Epoch 34/275\n",
      "43/43 [==============================] - 92s 2s/step - loss: 0.0959 - f1_score: 0.9509 - categorical_accuracy: 0.9507 - val_loss: 0.3489 - val_f1_score: 0.9060 - val_categorical_accuracy: 0.9063\n",
      "\n",
      "Epoch 00034: val_loss improved from 0.36463 to 0.34886, saving model to hackerearth_holiday_season_model.h5\n",
      "Epoch 35/275\n",
      "43/43 [==============================] - 93s 2s/step - loss: 0.0879 - f1_score: 0.9561 - categorical_accuracy: 0.9561 - val_loss: 0.3458 - val_f1_score: 0.9053 - val_categorical_accuracy: 0.9053\n",
      "\n",
      "Epoch 00035: val_loss improved from 0.34886 to 0.34585, saving model to hackerearth_holiday_season_model.h5\n",
      "Epoch 36/275\n",
      "43/43 [==============================] - 93s 2s/step - loss: 0.0839 - f1_score: 0.9485 - categorical_accuracy: 0.9485 - val_loss: 0.3614 - val_f1_score: 0.9080 - val_categorical_accuracy: 0.9083\n",
      "\n",
      "Epoch 00036: val_loss did not improve from 0.34585\n",
      "Epoch 37/275\n",
      "43/43 [==============================] - 97s 2s/step - loss: 0.0817 - f1_score: 0.9508 - categorical_accuracy: 0.9506 - val_loss: 0.3380 - val_f1_score: 0.9124 - val_categorical_accuracy: 0.9125\n",
      "\n",
      "Epoch 00037: val_loss improved from 0.34585 to 0.33803, saving model to hackerearth_holiday_season_model.h5\n",
      "Epoch 38/275\n",
      "43/43 [==============================] - 96s 2s/step - loss: 0.0827 - f1_score: 0.9470 - categorical_accuracy: 0.9467 - val_loss: 0.3469 - val_f1_score: 0.9082 - val_categorical_accuracy: 0.9083\n",
      "\n",
      "Epoch 00038: val_loss did not improve from 0.33803\n",
      "Epoch 39/275\n",
      "43/43 [==============================] - 102s 2s/step - loss: 0.0896 - f1_score: 0.9473 - categorical_accuracy: 0.9470 - val_loss: 0.3469 - val_f1_score: 0.9125 - val_categorical_accuracy: 0.9125\n",
      "\n",
      "Epoch 00039: val_loss did not improve from 0.33803\n",
      "Epoch 40/275\n",
      "43/43 [==============================] - 99s 2s/step - loss: 0.0775 - f1_score: 0.9578 - categorical_accuracy: 0.9573 - val_loss: 0.3478 - val_f1_score: 0.9104 - val_categorical_accuracy: 0.9104\n",
      "\n",
      "Epoch 00040: val_loss did not improve from 0.33803\n",
      "Epoch 41/275\n",
      "43/43 [==============================] - 101s 2s/step - loss: 0.0776 - f1_score: 0.9516 - categorical_accuracy: 0.9513 - val_loss: 0.3549 - val_f1_score: 0.9104 - val_categorical_accuracy: 0.9104\n",
      "\n",
      "Epoch 00041: val_loss did not improve from 0.33803\n",
      "Epoch 42/275\n",
      "43/43 [==============================] - 100s 2s/step - loss: 0.0790 - f1_score: 0.9519 - categorical_accuracy: 0.9517 - val_loss: 0.3477 - val_f1_score: 0.9129 - val_categorical_accuracy: 0.9125\n",
      "\n",
      "Epoch 00042: val_loss did not improve from 0.33803\n",
      "Epoch 43/275\n",
      "43/43 [==============================] - 102s 2s/step - loss: 0.0799 - f1_score: 0.9552 - categorical_accuracy: 0.9551 - val_loss: 0.3462 - val_f1_score: 0.9094 - val_categorical_accuracy: 0.9094\n",
      "\n",
      "Epoch 00043: val_loss did not improve from 0.33803\n",
      "Epoch 44/275\n",
      "43/43 [==============================] - 96s 2s/step - loss: 0.0935 - f1_score: 0.9497 - categorical_accuracy: 0.9493 - val_loss: 0.3547 - val_f1_score: 0.9076 - val_categorical_accuracy: 0.9073\n",
      "\n",
      "Epoch 00044: ReduceLROnPlateau reducing learning rate to 9.999999310821295e-05.\n",
      "\n",
      "Epoch 00044: val_loss did not improve from 0.33803\n",
      "Epoch 45/275\n",
      "43/43 [==============================] - 98s 2s/step - loss: 0.0704 - f1_score: 0.9521 - categorical_accuracy: 0.9516 - val_loss: 0.3597 - val_f1_score: 0.9106 - val_categorical_accuracy: 0.9104\n",
      "\n",
      "Epoch 00045: val_loss did not improve from 0.33803\n",
      "Epoch 46/275\n",
      "43/43 [==============================] - 95s 2s/step - loss: 0.0684 - f1_score: 0.9574 - categorical_accuracy: 0.9571 - val_loss: 0.3602 - val_f1_score: 0.9126 - val_categorical_accuracy: 0.9125\n",
      "\n",
      "Epoch 00046: val_loss did not improve from 0.33803\n",
      "Epoch 47/275\n",
      "43/43 [==============================] - 97s 2s/step - loss: 0.0709 - f1_score: 0.9519 - categorical_accuracy: 0.9517 - val_loss: 0.3641 - val_f1_score: 0.9136 - val_categorical_accuracy: 0.9135\n",
      "Restoring model weights from the end of the best epoch.\n",
      "\n",
      "Epoch 00047: val_loss did not improve from 0.33803\n",
      "Epoch 00047: early stopping\n"
     ]
    }
   ],
   "source": [
    "history = model.fit(\n",
    "    train_generator, \n",
    "    steps_per_epoch=steps_per_epoch,\n",
    "    class_weight=class_weight, \n",
    "    epochs=275, \n",
    "    verbose=1, \n",
    "    workers=5,\n",
    "    callbacks=[reduce_lr, early, chk_point], \n",
    "    validation_data=validation_generator,\n",
    "    validation_steps=validation_steps\n",
    ")"
   ]
  },
  {
   "cell_type": "code",
   "execution_count": 17,
   "metadata": {
    "execution": {
     "iopub.execute_input": "2021-01-29T10:39:04.665354Z",
     "iopub.status.busy": "2021-01-29T10:39:04.664461Z",
     "iopub.status.idle": "2021-01-29T10:39:05.786558Z",
     "shell.execute_reply": "2021-01-29T10:39:05.785743Z"
    },
    "papermill": {
     "duration": 3.870999,
     "end_time": "2021-01-29T10:39:05.786739",
     "exception": false,
     "start_time": "2021-01-29T10:39:01.915740",
     "status": "completed"
    },
    "tags": []
   },
   "outputs": [
    {
     "data": {
      "image/png": "[encoded data removed]",
      "text/plain": [
       "<Figure size 2160x720 with 3 Axes>"
      ]
     },
     "metadata": {},
     "output_type": "display_data"
    }
   ],
   "source": [
    "_, ax = plt.subplots(1, 3, figsize=(30, 10))\n",
    "\n",
    "ax[0].plot(history.history['loss'], label='train_loss')\n",
    "ax[0].plot(history.history['val_loss'], label='val_loss')\n",
    "ax[0].set_ylabel('Loss')\n",
    "ax[0].set_xlabel('Epoch')\n",
    "ax[0].set_title(\"Model Loss Curve\")\n",
    "ax[0].legend()\n",
    "ax[0].grid()\n",
    "\n",
    "ax[1].plot(history.history['f1_score'], label='train_f1_score')\n",
    "ax[1].plot(history.history['val_f1_score'], label='val_f1_score')\n",
    "ax[1].set_ylabel('F1-Score')\n",
    "ax[1].set_xlabel('Epoch')\n",
    "ax[1].set_title(\"Model F1-Score Curve\")\n",
    "ax[1].legend()\n",
    "ax[1].grid()\n",
    "\n",
    "ax[2].plot(history.history['categorical_accuracy'], label='train_accuracy')\n",
    "ax[2].plot(history.history['val_categorical_accuracy'], label='val_accuracy')\n",
    "ax[2].set_ylabel('Accuracy')\n",
    "ax[2].set_xlabel('Epoch')\n",
    "ax[2].set_title(\"Model Accuracy Curve\")\n",
    "ax[2].legend()\n",
    "ax[2].grid()"
   ]
  },
  {
   "cell_type": "markdown",
   "metadata": {
    "papermill": {
     "duration": 0.937509,
     "end_time": "2021-01-29T10:39:07.733585",
     "exception": false,
     "start_time": "2021-01-29T10:39:06.796076",
     "status": "completed"
    },
    "tags": []
   },
   "source": [
    "## Check classification report"
   ]
  },
  {
   "cell_type": "code",
   "execution_count": 18,
   "metadata": {
    "execution": {
     "iopub.execute_input": "2021-01-29T10:39:09.329569Z",
     "iopub.status.busy": "2021-01-29T10:39:09.328758Z",
     "iopub.status.idle": "2021-01-29T10:39:16.814527Z",
     "shell.execute_reply": "2021-01-29T10:39:16.813274Z"
    },
    "papermill": {
     "duration": 8.344485,
     "end_time": "2021-01-29T10:39:16.814683",
     "exception": false,
     "start_time": "2021-01-29T10:39:08.470198",
     "status": "completed"
    },
    "tags": []
   },
   "outputs": [],
   "source": [
    "model = load_model('./hackerearth_holiday_season_model.h5')"
   ]
  },
  {
   "cell_type": "code",
   "execution_count": 19,
   "metadata": {
    "execution": {
     "iopub.execute_input": "2021-01-29T10:39:18.334441Z",
     "iopub.status.busy": "2021-01-29T10:39:18.333762Z",
     "iopub.status.idle": "2021-01-29T10:39:31.312799Z",
     "shell.execute_reply": "2021-01-29T10:39:31.313944Z"
    },
    "papermill": {
     "duration": 13.741182,
     "end_time": "2021-01-29T10:39:31.314167",
     "exception": false,
     "start_time": "2021-01-29T10:39:17.572985",
     "status": "completed"
    },
    "tags": []
   },
   "outputs": [
    {
     "name": "stdout",
     "output_type": "stream",
     "text": [
      "8/8 [==============================] - 13s 872ms/step\n",
      "\n",
      "y_true: (971,)\n",
      "y_pred: (971,)\n"
     ]
    }
   ],
   "source": [
    "y_true = np.array([validation_generator.classes]).ravel()\n",
    "y_pred = model.predict(validation_generator, verbose=1)\n",
    "y_pred = np.argmax(y_pred, axis=1)\n",
    "\n",
    "print(\"\\ny_true: {}\".format(y_true.shape))\n",
    "print(\"y_pred: {}\".format(y_pred.shape))"
   ]
  },
  {
   "cell_type": "code",
   "execution_count": 20,
   "metadata": {
    "execution": {
     "iopub.execute_input": "2021-01-29T10:39:32.998083Z",
     "iopub.status.busy": "2021-01-29T10:39:32.997175Z",
     "iopub.status.idle": "2021-01-29T10:39:33.004067Z",
     "shell.execute_reply": "2021-01-29T10:39:33.004573Z"
    },
    "papermill": {
     "duration": 0.781182,
     "end_time": "2021-01-29T10:39:33.004730",
     "exception": false,
     "start_time": "2021-01-29T10:39:32.223548",
     "status": "completed"
    },
    "tags": []
   },
   "outputs": [
    {
     "name": "stdout",
     "output_type": "stream",
     "text": [
      "              precision    recall  f1-score   support\n",
      "\n",
      "           0       0.93      0.84      0.88        80\n",
      "           1       0.87      0.87      0.87        89\n",
      "           2       0.95      0.92      0.93       231\n",
      "           3       0.96      0.91      0.93        96\n",
      "           4       0.90      0.94      0.92       421\n",
      "           5       0.85      0.87      0.86        54\n",
      "\n",
      "    accuracy                           0.91       971\n",
      "   macro avg       0.91      0.89      0.90       971\n",
      "weighted avg       0.91      0.91      0.91       971\n",
      "\n"
     ]
    }
   ],
   "source": [
    "print(classification_report(y_true, y_pred))"
   ]
  },
  {
   "cell_type": "code",
   "execution_count": 21,
   "metadata": {
    "execution": {
     "iopub.execute_input": "2021-01-29T10:39:34.518474Z",
     "iopub.status.busy": "2021-01-29T10:39:34.517546Z",
     "iopub.status.idle": "2021-01-29T10:39:35.039213Z",
     "shell.execute_reply": "2021-01-29T10:39:35.039705Z"
    },
    "papermill": {
     "duration": 1.282062,
     "end_time": "2021-01-29T10:39:35.039870",
     "exception": false,
     "start_time": "2021-01-29T10:39:33.757808",
     "status": "completed"
    },
    "tags": []
   },
   "outputs": [
    {
     "data": {
      "image/png": "[encoded data removed]",
      "text/plain": [
       "<Figure size 864x504 with 2 Axes>"
      ]
     },
     "metadata": {},
     "output_type": "display_data"
    }
   ],
   "source": [
    "cnf_matrix = confusion_matrix(y_true, y_pred, labels=[0, 1, 2, 3, 4, 5])\n",
    "np.set_printoptions(precision=2)\n",
    "plt.figure(figsize=(12,7))\n",
    "plot_confusion_matrix(cnf_matrix, classes=[0, 1, 2, 3, 4, 5])"
   ]
  },
  {
   "cell_type": "markdown",
   "metadata": {
    "papermill": {
     "duration": 0.751395,
     "end_time": "2021-01-29T10:39:36.532022",
     "exception": false,
     "start_time": "2021-01-29T10:39:35.780627",
     "status": "completed"
    },
    "tags": []
   },
   "source": [
    "## Create submission file"
   ]
  },
  {
   "cell_type": "code",
   "execution_count": 22,
   "metadata": {
    "execution": {
     "iopub.execute_input": "2021-01-29T10:39:38.022435Z",
     "iopub.status.busy": "2021-01-29T10:39:38.021267Z",
     "iopub.status.idle": "2021-01-29T10:39:38.023181Z",
     "shell.execute_reply": "2021-01-29T10:39:38.023668Z"
    },
    "papermill": {
     "duration": 0.748085,
     "end_time": "2021-01-29T10:39:38.023822",
     "exception": false,
     "start_time": "2021-01-29T10:39:37.275737",
     "status": "completed"
    },
    "tags": []
   },
   "outputs": [],
   "source": [
    "rev_class_map = {\n",
    "    0: 'Airplane',\n",
    "    1: 'Candle',\n",
    "    2: 'Christmas_Tree',\n",
    "    3: 'Jacket',\n",
    "    4: 'Miscellaneous',\n",
    "    5: 'Snowman'\n",
    "}"
   ]
  },
  {
   "cell_type": "code",
   "execution_count": 23,
   "metadata": {
    "execution": {
     "iopub.execute_input": "2021-01-29T10:39:39.552740Z",
     "iopub.status.busy": "2021-01-29T10:39:39.552068Z",
     "iopub.status.idle": "2021-01-29T10:40:13.489074Z",
     "shell.execute_reply": "2021-01-29T10:40:13.488544Z"
    },
    "papermill": {
     "duration": 34.6857,
     "end_time": "2021-01-29T10:40:13.489231",
     "exception": false,
     "start_time": "2021-01-29T10:39:38.803531",
     "status": "completed"
    },
    "tags": []
   },
   "outputs": [
    {
     "name": "stdout",
     "output_type": "stream",
     "text": [
      "28/28 [==============================] - 33s 1s/step\n",
      "(3489,)\n"
     ]
    }
   ],
   "source": [
    "y_pred_final = model.predict(test_generator, verbose=1)\n",
    "y_pred_final = np.argmax(y_pred_final, axis=1)\n",
    "print(y_pred_final.shape)"
   ]
  },
  {
   "cell_type": "code",
   "execution_count": 24,
   "metadata": {
    "execution": {
     "iopub.execute_input": "2021-01-29T10:40:15.031006Z",
     "iopub.status.busy": "2021-01-29T10:40:15.029583Z",
     "iopub.status.idle": "2021-01-29T10:40:15.043107Z",
     "shell.execute_reply": "2021-01-29T10:40:15.043858Z"
    },
    "papermill": {
     "duration": 0.778902,
     "end_time": "2021-01-29T10:40:15.044081",
     "exception": false,
     "start_time": "2021-01-29T10:40:14.265179",
     "status": "completed"
    },
    "tags": []
   },
   "outputs": [
    {
     "data": {
      "text/html": [
       "<div>\n",
       "<style scoped>\n",
       "    .dataframe tbody tr th:only-of-type {\n",
       "        vertical-align: middle;\n",
       "    }\n",
       "\n",
       "    .dataframe tbody tr th {\n",
       "        vertical-align: top;\n",
       "    }\n",
       "\n",
       "    .dataframe thead th {\n",
       "        text-align: right;\n",
       "    }\n",
       "</style>\n",
       "<table border=\"1\" class=\"dataframe\">\n",
       "  <thead>\n",
       "    <tr style=\"text-align: right;\">\n",
       "      <th></th>\n",
       "      <th>Image</th>\n",
       "      <th>Class</th>\n",
       "    </tr>\n",
       "  </thead>\n",
       "  <tbody>\n",
       "    <tr>\n",
       "      <th>0</th>\n",
       "      <td>image7761.jpg</td>\n",
       "      <td>Miscellaneous</td>\n",
       "    </tr>\n",
       "    <tr>\n",
       "      <th>1</th>\n",
       "      <td>image3202.jpg</td>\n",
       "      <td>Miscellaneous</td>\n",
       "    </tr>\n",
       "    <tr>\n",
       "      <th>2</th>\n",
       "      <td>image688.jpg</td>\n",
       "      <td>Snowman</td>\n",
       "    </tr>\n",
       "    <tr>\n",
       "      <th>3</th>\n",
       "      <td>image233.jpg</td>\n",
       "      <td>Candle</td>\n",
       "    </tr>\n",
       "    <tr>\n",
       "      <th>4</th>\n",
       "      <td>image4332.jpg</td>\n",
       "      <td>Christmas_Tree</td>\n",
       "    </tr>\n",
       "  </tbody>\n",
       "</table>\n",
       "</div>"
      ],
      "text/plain": [
       "           Image           Class\n",
       "0  image7761.jpg   Miscellaneous\n",
       "1  image3202.jpg   Miscellaneous\n",
       "2   image688.jpg         Snowman\n",
       "3   image233.jpg          Candle\n",
       "4  image4332.jpg  Christmas_Tree"
      ]
     },
     "execution_count": 24,
     "metadata": {},
     "output_type": "execute_result"
    }
   ],
   "source": [
    "test_df['Class'] = y_pred_final\n",
    "test_df['Class'] = test_df['Class'].map(rev_class_map)\n",
    "test_df.head()"
   ]
  },
  {
   "cell_type": "code",
   "execution_count": 25,
   "metadata": {
    "execution": {
     "iopub.execute_input": "2021-01-29T10:40:16.768846Z",
     "iopub.status.busy": "2021-01-29T10:40:16.768148Z",
     "iopub.status.idle": "2021-01-29T10:40:16.974052Z",
     "shell.execute_reply": "2021-01-29T10:40:16.973517Z"
    },
    "papermill": {
     "duration": 0.966771,
     "end_time": "2021-01-29T10:40:16.974200",
     "exception": false,
     "start_time": "2021-01-29T10:40:16.007429",
     "status": "completed"
    },
    "tags": []
   },
   "outputs": [],
   "source": [
    "test_df.to_csv(\"/kaggle/working/submission.csv\", index=False)"
   ]
  },
  {
   "cell_type": "code",
   "execution_count": null,
   "metadata": {
    "papermill": {
     "duration": 0.758019,
     "end_time": "2021-01-29T10:40:18.490655",
     "exception": false,
     "start_time": "2021-01-29T10:40:17.732636",
     "status": "completed"
    },
    "tags": []
   },
   "outputs": [],
   "source": []
  }
 ],
 "metadata": {
  "kernelspec": {
   "display_name": "Python 3",
   "language": "python",
   "name": "python3"
  },
  "language_info": {
   "codemirror_mode": {
    "name": "ipython",
    "version": 3
   },
   "file_extension": ".py",
   "mimetype": "text/x-python",
   "name": "python",
   "nbconvert_exporter": "python",
   "pygments_lexer": "ipython3",
   "version": "3.7.9"
  },
  "papermill": {
   "default_parameters": {},
   "duration": 4957.810163,
   "end_time": "2021-01-29T10:40:24.536154",
   "environment_variables": {},
   "exception": null,
   "input_path": "__notebook__.ipynb",
   "output_path": "__notebook__.ipynb",
   "parameters": {},
   "start_time": "2021-01-29T09:17:46.725991",
   "version": "2.2.2"
  }
 },
 "nbformat": 4,
 "nbformat_minor": 4
}
