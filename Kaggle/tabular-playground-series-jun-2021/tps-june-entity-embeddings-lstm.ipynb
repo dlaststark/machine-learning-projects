{
 "cells": [
  {
   "cell_type": "markdown",
   "id": "continuing-contract",
   "metadata": {
    "papermill": {
     "duration": 0.015705,
     "end_time": "2021-06-09T13:18:29.426737",
     "exception": false,
     "start_time": "2021-06-09T13:18:29.411032",
     "status": "completed"
    },
    "tags": []
   },
   "source": [
    "## Import libraries"
   ]
  },
  {
   "cell_type": "code",
   "execution_count": 1,
   "id": "coral-saturn",
   "metadata": {
    "execution": {
     "iopub.execute_input": "2021-06-09T13:18:29.460482Z",
     "iopub.status.busy": "2021-06-09T13:18:29.459253Z",
     "iopub.status.idle": "2021-06-09T13:18:36.369145Z",
     "shell.execute_reply": "2021-06-09T13:18:36.368412Z",
     "shell.execute_reply.started": "2021-06-09T12:56:04.296973Z"
    },
    "papermill": {
     "duration": 6.927707,
     "end_time": "2021-06-09T13:18:36.369333",
     "exception": false,
     "start_time": "2021-06-09T13:18:29.441626",
     "status": "completed"
    },
    "tags": []
   },
   "outputs": [],
   "source": [
    "import gc\n",
    "import pickle\n",
    "import numpy as np\n",
    "import pandas as pd\n",
    "from sklearn.metrics import log_loss\n",
    "from sklearn.model_selection import StratifiedKFold\n",
    "\n",
    "import tensorflow as tf\n",
    "from tensorflow.keras.regularizers import l2\n",
    "from tensorflow.keras.models import Model, load_model\n",
    "from tensorflow.keras.callbacks import EarlyStopping\n",
    "from tensorflow.keras.callbacks import ModelCheckpoint\n",
    "from tensorflow.keras.callbacks import ReduceLROnPlateau\n",
    "from tensorflow_addons.optimizers import AdamW, Lookahead\n",
    "from tensorflow.keras.layers import Activation, Input\n",
    "from tensorflow.keras.layers import Embedding, Conv1D\n",
    "from tensorflow.keras.layers import BatchNormalization\n",
    "from tensorflow.keras.layers import Concatenate, Add, LSTM\n",
    "from tensorflow.keras.layers import Flatten, Dense, Dropout"
   ]
  },
  {
   "cell_type": "markdown",
   "id": "challenging-dublin",
   "metadata": {
    "papermill": {
     "duration": 0.01438,
     "end_time": "2021-06-09T13:18:36.398420",
     "exception": false,
     "start_time": "2021-06-09T13:18:36.384040",
     "status": "completed"
    },
    "tags": []
   },
   "source": [
    "## Prepare data for model training"
   ]
  },
  {
   "cell_type": "code",
   "execution_count": 2,
   "id": "convinced-invasion",
   "metadata": {
    "execution": {
     "iopub.execute_input": "2021-06-09T13:18:36.433125Z",
     "iopub.status.busy": "2021-06-09T13:18:36.432354Z",
     "iopub.status.idle": "2021-06-09T13:18:38.594962Z",
     "shell.execute_reply": "2021-06-09T13:18:38.595471Z",
     "shell.execute_reply.started": "2021-06-09T12:55:31.976283Z"
    },
    "papermill": {
     "duration": 2.182613,
     "end_time": "2021-06-09T13:18:38.595646",
     "exception": false,
     "start_time": "2021-06-09T13:18:36.413033",
     "status": "completed"
    },
    "tags": []
   },
   "outputs": [
    {
     "data": {
      "text/plain": [
       "56"
      ]
     },
     "execution_count": 2,
     "metadata": {},
     "output_type": "execute_result"
    }
   ],
   "source": [
    "with open(\"../input/tps-june-data-preprocess/TPS_June_Dataset_Set1.txt\", 'rb') as handle: \n",
    "    data = handle.read()\n",
    "\n",
    "processed_data = pickle.loads(data)\n",
    "train_df = processed_data['train_df']\n",
    "test_df = processed_data['test_df']\n",
    "\n",
    "col_list = test_df.columns.to_list()\n",
    "\n",
    "del processed_data\n",
    "gc.collect()"
   ]
  },
  {
   "cell_type": "code",
   "execution_count": 3,
   "id": "weighted-advantage",
   "metadata": {
    "execution": {
     "iopub.execute_input": "2021-06-09T13:18:38.631789Z",
     "iopub.status.busy": "2021-06-09T13:18:38.630778Z",
     "iopub.status.idle": "2021-06-09T13:18:39.067216Z",
     "shell.execute_reply": "2021-06-09T13:18:39.067959Z",
     "shell.execute_reply.started": "2021-06-09T12:55:34.116807Z"
    },
    "papermill": {
     "duration": 0.457149,
     "end_time": "2021-06-09T13:18:39.068190",
     "exception": false,
     "start_time": "2021-06-09T13:18:38.611041",
     "status": "completed"
    },
    "tags": []
   },
   "outputs": [
    {
     "name": "stdout",
     "output_type": "stream",
     "text": [
      "Xtrain: (200000, 75) \n",
      "Ytrain: (200000,) \n",
      "Ytrain_oh: (200000, 9) \n",
      "Xtest: (100000, 75)\n"
     ]
    },
    {
     "data": {
      "text/plain": [
       "0"
      ]
     },
     "execution_count": 3,
     "metadata": {},
     "output_type": "execute_result"
    }
   ],
   "source": [
    "Xtrain = train_df.loc[:, train_df.columns != 'target'].copy()\n",
    "Ytrain = train_df['target'].copy()\n",
    "Ytrain_oh = pd.get_dummies(train_df['target']).copy()\n",
    "Xtest = test_df.copy()\n",
    "\n",
    "print(\"Xtrain: {} \\nYtrain: {} \\nYtrain_oh: {} \\nXtest: {}\".format(Xtrain.shape, Ytrain.shape, \n",
    "                                                                   Ytrain_oh.shape, Xtest.shape))\n",
    "\n",
    "del train_df\n",
    "del test_df\n",
    "gc.collect()"
   ]
  },
  {
   "cell_type": "markdown",
   "id": "suitable-investigator",
   "metadata": {
    "papermill": {
     "duration": 0.016142,
     "end_time": "2021-06-09T13:18:39.100788",
     "exception": false,
     "start_time": "2021-06-09T13:18:39.084646",
     "status": "completed"
    },
    "tags": []
   },
   "source": [
    "## Define TPU config"
   ]
  },
  {
   "cell_type": "code",
   "execution_count": 4,
   "id": "nonprofit-sudan",
   "metadata": {
    "execution": {
     "iopub.execute_input": "2021-06-09T13:18:39.203879Z",
     "iopub.status.busy": "2021-06-09T13:18:39.200459Z",
     "iopub.status.idle": "2021-06-09T13:18:44.752593Z",
     "shell.execute_reply": "2021-06-09T13:18:44.752013Z",
     "shell.execute_reply.started": "2021-06-09T12:56:07.367735Z"
    },
    "papermill": {
     "duration": 5.636163,
     "end_time": "2021-06-09T13:18:44.752737",
     "exception": false,
     "start_time": "2021-06-09T13:18:39.116574",
     "status": "completed"
    },
    "tags": []
   },
   "outputs": [
    {
     "name": "stdout",
     "output_type": "stream",
     "text": [
      "Running on TPU: grpc://10.0.0.2:8470\n"
     ]
    }
   ],
   "source": [
    "try:\n",
    "    tpu = tf.distribute.cluster_resolver.TPUClusterResolver()\n",
    "    tf.config.experimental_connect_to_cluster(tpu)\n",
    "    tf.tpu.experimental.initialize_tpu_system(tpu)\n",
    "    strategy = tf.distribute.experimental.TPUStrategy(tpu)\n",
    "    print(\"Running on TPU:\", tpu.master())\n",
    "    \n",
    "except ValueError:\n",
    "    strategy = tf.distribute.get_strategy()\n",
    "    print(f\"Running on {strategy.num_replicas_in_sync} replicas\")"
   ]
  },
  {
   "cell_type": "code",
   "execution_count": 5,
   "id": "chubby-steal",
   "metadata": {
    "execution": {
     "iopub.execute_input": "2021-06-09T13:18:44.789917Z",
     "iopub.status.busy": "2021-06-09T13:18:44.789162Z",
     "iopub.status.idle": "2021-06-09T13:18:44.792292Z",
     "shell.execute_reply": "2021-06-09T13:18:44.792838Z",
     "shell.execute_reply.started": "2021-06-09T13:00:21.807892Z"
    },
    "papermill": {
     "duration": 0.024193,
     "end_time": "2021-06-09T13:18:44.793014",
     "exception": false,
     "start_time": "2021-06-09T13:18:44.768821",
     "status": "completed"
    },
    "tags": []
   },
   "outputs": [
    {
     "name": "stdout",
     "output_type": "stream",
     "text": [
      "batch size: 256\n"
     ]
    }
   ],
   "source": [
    "mini_batch_size = strategy.num_replicas_in_sync * 32\n",
    "print(f'batch size: {mini_batch_size}')"
   ]
  },
  {
   "cell_type": "markdown",
   "id": "documented-leave",
   "metadata": {
    "papermill": {
     "duration": 0.015822,
     "end_time": "2021-06-09T13:18:44.825771",
     "exception": false,
     "start_time": "2021-06-09T13:18:44.809949",
     "status": "completed"
    },
    "tags": []
   },
   "source": [
    "## Build the model"
   ]
  },
  {
   "cell_type": "code",
   "execution_count": 6,
   "id": "proprietary-viewer",
   "metadata": {
    "execution": {
     "iopub.execute_input": "2021-06-09T13:18:44.870766Z",
     "iopub.status.busy": "2021-06-09T13:18:44.870113Z",
     "iopub.status.idle": "2021-06-09T13:18:44.873760Z",
     "shell.execute_reply": "2021-06-09T13:18:44.873113Z",
     "shell.execute_reply.started": "2021-06-09T13:10:51.420155Z"
    },
    "papermill": {
     "duration": 0.031889,
     "end_time": "2021-06-09T13:18:44.873916",
     "exception": false,
     "start_time": "2021-06-09T13:18:44.842027",
     "status": "completed"
    },
    "tags": []
   },
   "outputs": [],
   "source": [
    "def dnn_model(n_features):\n",
    "    \n",
    "    x_input = Input(shape=(n_features,))\n",
    "    \n",
    "    x = Embedding(512, 16)(x_input)\n",
    "    \n",
    "    x = Conv1D(filters=32, kernel_size=3, \n",
    "               strides=2, padding='same', \n",
    "               kernel_regularizer=l2(0.0003),\n",
    "               kernel_initializer='he_uniform')(x)\n",
    "    x = BatchNormalization()(x)\n",
    "    x = Activation('swish')(x)\n",
    "    \n",
    "    x = Conv1D(filters=64, kernel_size=3, \n",
    "               strides=2, padding='same', \n",
    "               kernel_regularizer=l2(0.0003),\n",
    "               kernel_initializer='he_uniform')(x)\n",
    "    x = BatchNormalization()(x)\n",
    "    x = Activation('swish')(x)\n",
    "    \n",
    "    x = LSTM(units=96, activation='swish',\n",
    "             return_sequences=False, dropout=0.1,\n",
    "             kernel_regularizer=l2(0.0003),\n",
    "             kernel_initializer='he_uniform')(x)\n",
    "    x = BatchNormalization()(x)\n",
    "    \n",
    "    x = Dense(units=16, kernel_initializer='he_uniform', \n",
    "                kernel_regularizer=l2(0.0001))(x)\n",
    "    x = BatchNormalization()(x)\n",
    "    x = Activation('swish')(x)\n",
    "    x = Dropout(rate=0.1)(x)\n",
    "\n",
    "    x_output = Dense(units=9, activation='softmax', \n",
    "                     kernel_initializer='he_uniform')(x)\n",
    "\n",
    "    model = Model(inputs=x_input, outputs=x_output, \n",
    "                  name='DNN_Model')\n",
    "    return model"
   ]
  },
  {
   "cell_type": "code",
   "execution_count": 7,
   "id": "complete-workstation",
   "metadata": {
    "execution": {
     "iopub.execute_input": "2021-06-09T13:18:44.913546Z",
     "iopub.status.busy": "2021-06-09T13:18:44.912776Z",
     "iopub.status.idle": "2021-06-09T13:18:45.220506Z",
     "shell.execute_reply": "2021-06-09T13:18:45.221022Z",
     "shell.execute_reply.started": "2021-06-09T13:10:52.299021Z"
    },
    "papermill": {
     "duration": 0.330217,
     "end_time": "2021-06-09T13:18:45.221208",
     "exception": false,
     "start_time": "2021-06-09T13:18:44.890991",
     "status": "completed"
    },
    "tags": []
   },
   "outputs": [
    {
     "name": "stdout",
     "output_type": "stream",
     "text": [
      "Model: \"DNN_Model\"\n",
      "_________________________________________________________________\n",
      "Layer (type)                 Output Shape              Param #   \n",
      "=================================================================\n",
      "input_1 (InputLayer)         [(None, 75)]              0         \n",
      "_________________________________________________________________\n",
      "embedding (Embedding)        (None, 75, 16)            8192      \n",
      "_________________________________________________________________\n",
      "conv1d (Conv1D)              (None, 38, 32)            1568      \n",
      "_________________________________________________________________\n",
      "batch_normalization (BatchNo (None, 38, 32)            128       \n",
      "_________________________________________________________________\n",
      "activation (Activation)      (None, 38, 32)            0         \n",
      "_________________________________________________________________\n",
      "conv1d_1 (Conv1D)            (None, 19, 64)            6208      \n",
      "_________________________________________________________________\n",
      "batch_normalization_1 (Batch (None, 19, 64)            256       \n",
      "_________________________________________________________________\n",
      "activation_1 (Activation)    (None, 19, 64)            0         \n",
      "_________________________________________________________________\n",
      "lstm (LSTM)                  (None, 96)                61824     \n",
      "_________________________________________________________________\n",
      "batch_normalization_2 (Batch (None, 96)                384       \n",
      "_________________________________________________________________\n",
      "dense (Dense)                (None, 16)                1552      \n",
      "_________________________________________________________________\n",
      "batch_normalization_3 (Batch (None, 16)                64        \n",
      "_________________________________________________________________\n",
      "activation_2 (Activation)    (None, 16)                0         \n",
      "_________________________________________________________________\n",
      "dropout (Dropout)            (None, 16)                0         \n",
      "_________________________________________________________________\n",
      "dense_1 (Dense)              (None, 9)                 153       \n",
      "=================================================================\n",
      "Total params: 80,329\n",
      "Trainable params: 79,913\n",
      "Non-trainable params: 416\n",
      "_________________________________________________________________\n"
     ]
    }
   ],
   "source": [
    "model = dnn_model(Xtrain.shape[1])\n",
    "model.compile(loss='categorical_crossentropy',\n",
    "              optimizer=Lookahead(AdamW(lr=1e-2, \n",
    "                                        weight_decay=1e-5, \n",
    "                                        clipvalue=700), \n",
    "                                  sync_period=10))\n",
    "model.summary()"
   ]
  },
  {
   "cell_type": "code",
   "execution_count": 8,
   "id": "determined-gnome",
   "metadata": {
    "execution": {
     "iopub.execute_input": "2021-06-09T13:18:45.261986Z",
     "iopub.status.busy": "2021-06-09T13:18:45.260981Z",
     "iopub.status.idle": "2021-06-09T13:18:45.264313Z",
     "shell.execute_reply": "2021-06-09T13:18:45.263771Z",
     "shell.execute_reply.started": "2021-06-09T13:10:54.268742Z"
    },
    "papermill": {
     "duration": 0.026478,
     "end_time": "2021-06-09T13:18:45.264459",
     "exception": false,
     "start_time": "2021-06-09T13:18:45.237981",
     "status": "completed"
    },
    "tags": []
   },
   "outputs": [],
   "source": [
    "FOLD = 10\n",
    "NUM_SEED = 3\n",
    "VERBOSE = 0\n",
    "\n",
    "np.random.seed(3)\n",
    "seeds = np.random.randint(0, 100, size=NUM_SEED)\n",
    "\n",
    "counter = 0\n",
    "oof_score = 0\n",
    "y_pred_meta_dnn = np.zeros((Xtrain.shape[0], 9))\n",
    "y_pred_final_dnn = np.zeros((Xtest.shape[0], 9))"
   ]
  },
  {
   "cell_type": "code",
   "execution_count": 9,
   "id": "golden-collection",
   "metadata": {
    "execution": {
     "iopub.execute_input": "2021-06-09T13:18:45.313461Z",
     "iopub.status.busy": "2021-06-09T13:18:45.312321Z",
     "iopub.status.idle": "2021-06-09T14:53:12.762606Z",
     "shell.execute_reply": "2021-06-09T14:53:12.763430Z",
     "shell.execute_reply.started": "2021-06-09T13:10:56.175988Z"
    },
    "papermill": {
     "duration": 5667.483579,
     "end_time": "2021-06-09T14:53:12.764749",
     "exception": false,
     "start_time": "2021-06-09T13:18:45.281170",
     "status": "completed"
    },
    "tags": []
   },
   "outputs": [
    {
     "name": "stdout",
     "output_type": "stream",
     "text": [
      "Seed-24 | Fold-0 | OOF Score: 1.745026982709486\n",
      "Seed-24 | Fold-1 | OOF Score: 1.7438636337365956\n",
      "Seed-24 | Fold-2 | OOF Score: 1.7423046417424455\n",
      "Seed-24 | Fold-3 | OOF Score: 1.747009714650456\n",
      "Seed-24 | Fold-4 | OOF Score: 1.7399547610517592\n",
      "Seed-24 | Fold-5 | OOF Score: 1.740110299119912\n",
      "Seed-24 | Fold-6 | OOF Score: 1.7411087128467857\n",
      "Seed-24 | Fold-7 | OOF Score: 1.7428178856097394\n",
      "Seed-24 | Fold-8 | OOF Score: 1.7429018636453897\n",
      "Seed-24 | Fold-9 | OOF Score: 1.7540652961125598\n",
      "\n",
      "Seed: 24 | Aggregate OOF Score: 1.743916379122513\n",
      "\n",
      "\n",
      "Seed-3 | Fold-0 | OOF Score: 1.7540957696548662\n",
      "Seed-3 | Fold-1 | OOF Score: 1.7394100302389357\n",
      "Seed-3 | Fold-2 | OOF Score: 1.8094602603631094\n",
      "Seed-3 | Fold-3 | OOF Score: 1.7462054576586001\n",
      "Seed-3 | Fold-4 | OOF Score: 1.7481049179530703\n",
      "Seed-3 | Fold-5 | OOF Score: 1.7384841560211963\n",
      "Seed-3 | Fold-6 | OOF Score: 1.7879988170266152\n",
      "Seed-3 | Fold-7 | OOF Score: 1.7391841806245036\n",
      "Seed-3 | Fold-8 | OOF Score: 1.7448699129099492\n",
      "Seed-3 | Fold-9 | OOF Score: 1.734511616874393\n",
      "\n",
      "Seed: 3 | Aggregate OOF Score: 1.7542325119325237\n",
      "\n",
      "\n",
      "Seed-56 | Fold-0 | OOF Score: 1.7643385726437903\n",
      "Seed-56 | Fold-1 | OOF Score: 1.7407776444095653\n",
      "Seed-56 | Fold-2 | OOF Score: 1.7439192828255705\n",
      "Seed-56 | Fold-3 | OOF Score: 1.7438317971267738\n",
      "Seed-56 | Fold-4 | OOF Score: 1.7358455137386453\n",
      "Seed-56 | Fold-5 | OOF Score: 1.7427739274115301\n",
      "Seed-56 | Fold-6 | OOF Score: 1.7450119354543276\n",
      "Seed-56 | Fold-7 | OOF Score: 1.7528837455794215\n",
      "Seed-56 | Fold-8 | OOF Score: 1.742448093033582\n",
      "Seed-56 | Fold-9 | OOF Score: 1.7427480032037013\n",
      "\n",
      "Seed: 56 | Aggregate OOF Score: 1.745457851542691\n",
      "\n",
      "\n"
     ]
    }
   ],
   "source": [
    "with strategy.scope():\n",
    "    \n",
    "    for sidx, seed in enumerate(seeds):\n",
    "        seed_score = 0\n",
    "\n",
    "        kfold = StratifiedKFold(n_splits=FOLD, shuffle=True, random_state=seed)\n",
    "\n",
    "        for idx, (train, val) in enumerate(kfold.split(Xtrain, Ytrain)):\n",
    "            counter += 1\n",
    "\n",
    "            train_x, train_y, train_y_oh = Xtrain.iloc[train], Ytrain.iloc[train], Ytrain_oh.iloc[train]\n",
    "            val_x, val_y, val_y_oh = Xtrain.iloc[val], Ytrain.iloc[val], Ytrain_oh.iloc[val]\n",
    "\n",
    "            model = dnn_model(Xtrain.shape[1])\n",
    "            model.compile(loss='categorical_crossentropy',\n",
    "                          optimizer=Lookahead(AdamW(lr=1e-2, \n",
    "                                                    weight_decay=1e-5, \n",
    "                                                    clipvalue=700), \n",
    "                                              sync_period=10))\n",
    "\n",
    "            early = EarlyStopping(monitor=\"val_loss\", mode=\"min\", \n",
    "                                  restore_best_weights=True, \n",
    "                                  patience=7, verbose=VERBOSE)\n",
    "\n",
    "            reduce_lr = ReduceLROnPlateau(monitor=\"val_loss\", factor=0.25, \n",
    "                                          min_lr=1e-6, patience=3, \n",
    "                                          verbose=VERBOSE, mode='min')\n",
    "            \n",
    "            save_locally = tf.saved_model.SaveOptions(experimental_io_device='/job:localhost')\n",
    "\n",
    "            chk_point = ModelCheckpoint('./DNN_model.h5', options=save_locally, \n",
    "                                        monitor='val_loss', verbose=VERBOSE, \n",
    "                                        save_best_only=True, mode='min')\n",
    "\n",
    "            history = model.fit(\n",
    "                train_x, train_y_oh, \n",
    "                batch_size=mini_batch_size,\n",
    "                epochs=250, \n",
    "                verbose=VERBOSE, \n",
    "                callbacks=[reduce_lr, early, chk_point], \n",
    "                validation_data=(val_x, val_y_oh)\n",
    "            )\n",
    "            \n",
    "            load_locally = tf.saved_model.LoadOptions(experimental_io_device='/job:localhost')\n",
    "\n",
    "            model = load_model('./DNN_model.h5', options=load_locally)\n",
    "\n",
    "            y_pred = model.predict(val_x)\n",
    "            y_pred_meta_dnn[val] += y_pred\n",
    "            y_pred_final_dnn += model.predict(Xtest)\n",
    "\n",
    "            score = log_loss(val_y_oh, y_pred)\n",
    "            oof_score += score\n",
    "            seed_score += score\n",
    "            print(\"Seed-{} | Fold-{} | OOF Score: {}\".format(seed, idx, score))\n",
    "\n",
    "        print(\"\\nSeed: {} | Aggregate OOF Score: {}\\n\\n\".format(seed, (seed_score / FOLD)))"
   ]
  },
  {
   "cell_type": "code",
   "execution_count": 10,
   "id": "enclosed-objective",
   "metadata": {
    "execution": {
     "iopub.execute_input": "2021-06-09T14:53:12.833917Z",
     "iopub.status.busy": "2021-06-09T14:53:12.833063Z",
     "iopub.status.idle": "2021-06-09T14:53:12.844445Z",
     "shell.execute_reply": "2021-06-09T14:53:12.845076Z"
    },
    "papermill": {
     "duration": 0.051652,
     "end_time": "2021-06-09T14:53:12.845265",
     "exception": false,
     "start_time": "2021-06-09T14:53:12.793613",
     "status": "completed"
    },
    "tags": []
   },
   "outputs": [
    {
     "name": "stdout",
     "output_type": "stream",
     "text": [
      "Aggregate OOF Score: 1.7478689141992425\n"
     ]
    }
   ],
   "source": [
    "y_pred_meta_dnn = y_pred_meta_dnn / float(NUM_SEED)\n",
    "y_pred_final_dnn = y_pred_final_dnn / float(counter)\n",
    "oof_score /= float(counter)\n",
    "print(\"Aggregate OOF Score: {}\".format(oof_score))"
   ]
  },
  {
   "cell_type": "code",
   "execution_count": 11,
   "id": "measured-supervisor",
   "metadata": {
    "execution": {
     "iopub.execute_input": "2021-06-09T14:53:12.909246Z",
     "iopub.status.busy": "2021-06-09T14:53:12.908342Z",
     "iopub.status.idle": "2021-06-09T14:53:15.210139Z",
     "shell.execute_reply": "2021-06-09T14:53:15.210635Z"
    },
    "papermill": {
     "duration": 2.336952,
     "end_time": "2021-06-09T14:53:15.210871",
     "exception": false,
     "start_time": "2021-06-09T14:53:12.873919",
     "status": "completed"
    },
    "tags": []
   },
   "outputs": [],
   "source": [
    "np.savez_compressed('./DNN_Meta_Features.npz',\n",
    "                    y_pred_meta_dnn=y_pred_meta_dnn, \n",
    "                    oof_score=oof_score,\n",
    "                    y_pred_final_dnn=y_pred_final_dnn)"
   ]
  },
  {
   "cell_type": "markdown",
   "id": "loved-tender",
   "metadata": {
    "papermill": {
     "duration": 0.025747,
     "end_time": "2021-06-09T14:53:15.262903",
     "exception": false,
     "start_time": "2021-06-09T14:53:15.237156",
     "status": "completed"
    },
    "tags": []
   },
   "source": [
    "## Create submission file"
   ]
  },
  {
   "cell_type": "code",
   "execution_count": 12,
   "id": "macro-halifax",
   "metadata": {
    "execution": {
     "iopub.execute_input": "2021-06-09T14:53:15.321776Z",
     "iopub.status.busy": "2021-06-09T14:53:15.321146Z",
     "iopub.status.idle": "2021-06-09T14:53:16.039402Z",
     "shell.execute_reply": "2021-06-09T14:53:16.039869Z"
    },
    "papermill": {
     "duration": 0.751017,
     "end_time": "2021-06-09T14:53:16.040045",
     "exception": false,
     "start_time": "2021-06-09T14:53:15.289028",
     "status": "completed"
    },
    "tags": []
   },
   "outputs": [
    {
     "data": {
      "text/html": [
       "<div>\n",
       "<style scoped>\n",
       "    .dataframe tbody tr th:only-of-type {\n",
       "        vertical-align: middle;\n",
       "    }\n",
       "\n",
       "    .dataframe tbody tr th {\n",
       "        vertical-align: top;\n",
       "    }\n",
       "\n",
       "    .dataframe thead th {\n",
       "        text-align: right;\n",
       "    }\n",
       "</style>\n",
       "<table border=\"1\" class=\"dataframe\">\n",
       "  <thead>\n",
       "    <tr style=\"text-align: right;\">\n",
       "      <th></th>\n",
       "      <th>id</th>\n",
       "      <th>Class_1</th>\n",
       "      <th>Class_2</th>\n",
       "      <th>Class_3</th>\n",
       "      <th>Class_4</th>\n",
       "      <th>Class_5</th>\n",
       "      <th>Class_6</th>\n",
       "      <th>Class_7</th>\n",
       "      <th>Class_8</th>\n",
       "      <th>Class_9</th>\n",
       "    </tr>\n",
       "  </thead>\n",
       "  <tbody>\n",
       "    <tr>\n",
       "      <th>0</th>\n",
       "      <td>200000</td>\n",
       "      <td>0.071561</td>\n",
       "      <td>0.419236</td>\n",
       "      <td>0.149886</td>\n",
       "      <td>0.027044</td>\n",
       "      <td>0.013270</td>\n",
       "      <td>0.138594</td>\n",
       "      <td>0.021158</td>\n",
       "      <td>0.045461</td>\n",
       "      <td>0.113789</td>\n",
       "    </tr>\n",
       "    <tr>\n",
       "      <th>1</th>\n",
       "      <td>200001</td>\n",
       "      <td>0.046774</td>\n",
       "      <td>0.073242</td>\n",
       "      <td>0.055118</td>\n",
       "      <td>0.022567</td>\n",
       "      <td>0.015574</td>\n",
       "      <td>0.269466</td>\n",
       "      <td>0.084715</td>\n",
       "      <td>0.297827</td>\n",
       "      <td>0.134716</td>\n",
       "    </tr>\n",
       "    <tr>\n",
       "      <th>2</th>\n",
       "      <td>200002</td>\n",
       "      <td>0.020690</td>\n",
       "      <td>0.030042</td>\n",
       "      <td>0.022570</td>\n",
       "      <td>0.010699</td>\n",
       "      <td>0.006761</td>\n",
       "      <td>0.705638</td>\n",
       "      <td>0.030276</td>\n",
       "      <td>0.120617</td>\n",
       "      <td>0.052708</td>\n",
       "    </tr>\n",
       "    <tr>\n",
       "      <th>3</th>\n",
       "      <td>200003</td>\n",
       "      <td>0.049545</td>\n",
       "      <td>0.131583</td>\n",
       "      <td>0.090733</td>\n",
       "      <td>0.030573</td>\n",
       "      <td>0.019357</td>\n",
       "      <td>0.223937</td>\n",
       "      <td>0.076532</td>\n",
       "      <td>0.218343</td>\n",
       "      <td>0.159398</td>\n",
       "    </tr>\n",
       "    <tr>\n",
       "      <th>4</th>\n",
       "      <td>200004</td>\n",
       "      <td>0.046459</td>\n",
       "      <td>0.121333</td>\n",
       "      <td>0.083927</td>\n",
       "      <td>0.028118</td>\n",
       "      <td>0.017323</td>\n",
       "      <td>0.264275</td>\n",
       "      <td>0.072163</td>\n",
       "      <td>0.215516</td>\n",
       "      <td>0.150886</td>\n",
       "    </tr>\n",
       "  </tbody>\n",
       "</table>\n",
       "</div>"
      ],
      "text/plain": [
       "       id   Class_1   Class_2   Class_3   Class_4   Class_5   Class_6  \\\n",
       "0  200000  0.071561  0.419236  0.149886  0.027044  0.013270  0.138594   \n",
       "1  200001  0.046774  0.073242  0.055118  0.022567  0.015574  0.269466   \n",
       "2  200002  0.020690  0.030042  0.022570  0.010699  0.006761  0.705638   \n",
       "3  200003  0.049545  0.131583  0.090733  0.030573  0.019357  0.223937   \n",
       "4  200004  0.046459  0.121333  0.083927  0.028118  0.017323  0.264275   \n",
       "\n",
       "    Class_7   Class_8   Class_9  \n",
       "0  0.021158  0.045461  0.113789  \n",
       "1  0.084715  0.297827  0.134716  \n",
       "2  0.030276  0.120617  0.052708  \n",
       "3  0.076532  0.218343  0.159398  \n",
       "4  0.072163  0.215516  0.150886  "
      ]
     },
     "execution_count": 12,
     "metadata": {},
     "output_type": "execute_result"
    }
   ],
   "source": [
    "test_df = pd.read_csv(\"../input/tabular-playground-series-jun-2021/test.csv\")\n",
    "submit_df = pd.DataFrame()\n",
    "submit_df['id'] = test_df['id']\n",
    "submit_df['Class_1'] = y_pred_final_dnn[:,1]\n",
    "submit_df['Class_2'] = y_pred_final_dnn[:,2]\n",
    "submit_df['Class_3'] = y_pred_final_dnn[:,3]\n",
    "submit_df['Class_4'] = y_pred_final_dnn[:,4]\n",
    "submit_df['Class_5'] = y_pred_final_dnn[:,5]\n",
    "submit_df['Class_6'] = y_pred_final_dnn[:,6]\n",
    "submit_df['Class_7'] = y_pred_final_dnn[:,7]\n",
    "submit_df['Class_8'] = y_pred_final_dnn[:,8]\n",
    "submit_df['Class_9'] = y_pred_final_dnn[:,0]\n",
    "submit_df.head()"
   ]
  },
  {
   "cell_type": "code",
   "execution_count": 13,
   "id": "french-perry",
   "metadata": {
    "execution": {
     "iopub.execute_input": "2021-06-09T14:53:16.097104Z",
     "iopub.status.busy": "2021-06-09T14:53:16.096455Z",
     "iopub.status.idle": "2021-06-09T14:53:18.137116Z",
     "shell.execute_reply": "2021-06-09T14:53:18.136456Z"
    },
    "papermill": {
     "duration": 2.070607,
     "end_time": "2021-06-09T14:53:18.137285",
     "exception": false,
     "start_time": "2021-06-09T14:53:16.066678",
     "status": "completed"
    },
    "tags": []
   },
   "outputs": [],
   "source": [
    "submit_df.to_csv(\"./DNN_submission.csv\", index=False)"
   ]
  },
  {
   "cell_type": "code",
   "execution_count": null,
   "id": "convinced-narrow",
   "metadata": {
    "papermill": {
     "duration": 0.02706,
     "end_time": "2021-06-09T14:53:18.191258",
     "exception": false,
     "start_time": "2021-06-09T14:53:18.164198",
     "status": "completed"
    },
    "tags": []
   },
   "outputs": [],
   "source": []
  }
 ],
 "metadata": {
  "kernelspec": {
   "display_name": "Python 3",
   "language": "python",
   "name": "python3"
  },
  "language_info": {
   "codemirror_mode": {
    "name": "ipython",
    "version": 3
   },
   "file_extension": ".py",
   "mimetype": "text/x-python",
   "name": "python",
   "nbconvert_exporter": "python",
   "pygments_lexer": "ipython3",
   "version": "3.7.10"
  },
  "papermill": {
   "default_parameters": {},
   "duration": 5700.421284,
   "end_time": "2021-06-09T14:53:21.414518",
   "environment_variables": {},
   "exception": null,
   "input_path": "__notebook__.ipynb",
   "output_path": "__notebook__.ipynb",
   "parameters": {},
   "start_time": "2021-06-09T13:18:20.993234",
   "version": "2.3.3"
  }
 },
 "nbformat": 4,
 "nbformat_minor": 5
}
