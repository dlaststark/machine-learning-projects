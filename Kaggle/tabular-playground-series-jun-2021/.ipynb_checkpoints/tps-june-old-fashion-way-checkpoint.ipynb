{
 "cells": [
  {
   "cell_type": "markdown",
   "id": "infrared-campbell",
   "metadata": {
    "papermill": {
     "duration": 0.017077,
     "end_time": "2021-06-20T15:58:04.529579",
     "exception": false,
     "start_time": "2021-06-20T15:58:04.512502",
     "status": "completed"
    },
    "tags": []
   },
   "source": [
    "## Import libraries"
   ]
  },
  {
   "cell_type": "code",
   "execution_count": 1,
   "id": "present-opening",
   "metadata": {
    "execution": {
     "iopub.execute_input": "2021-06-20T15:58:04.565779Z",
     "iopub.status.busy": "2021-06-20T15:58:04.564592Z",
     "iopub.status.idle": "2021-06-20T15:58:10.739991Z",
     "shell.execute_reply": "2021-06-20T15:58:10.740682Z",
     "shell.execute_reply.started": "2021-06-13T13:31:52.671668Z"
    },
    "papermill": {
     "duration": 6.19556,
     "end_time": "2021-06-20T15:58:10.741020",
     "exception": false,
     "start_time": "2021-06-20T15:58:04.545460",
     "status": "completed"
    },
    "tags": []
   },
   "outputs": [],
   "source": [
    "import gc\n",
    "import numpy as np\n",
    "import pandas as pd\n",
    "from sklearn.metrics import log_loss\n",
    "from sklearn.model_selection import StratifiedKFold\n",
    "\n",
    "import tensorflow as tf\n",
    "from tensorflow.keras.models import Model\n",
    "from tensorflow.keras.regularizers import l2\n",
    "from tensorflow.keras.utils import plot_model\n",
    "from tensorflow.keras.optimizers import Adamax\n",
    "from tensorflow.keras.callbacks import EarlyStopping\n",
    "from tensorflow.keras.callbacks import ModelCheckpoint\n",
    "from tensorflow.keras.callbacks import ReduceLROnPlateau\n",
    "from tensorflow.keras.layers import Activation, Input\n",
    "from tensorflow.keras.layers import BatchNormalization\n",
    "from tensorflow.keras.layers import GlobalAveragePooling1D\n",
    "from tensorflow.keras.layers import Embedding, Dense, Dropout\n",
    "from tensorflow.keras.layers import Bidirectional, Concatenate\n",
    "from tensorflow.keras.layers import LSTM, GRU, SpatialDropout1D"
   ]
  },
  {
   "cell_type": "markdown",
   "id": "julian-prevention",
   "metadata": {
    "papermill": {
     "duration": 0.015526,
     "end_time": "2021-06-20T15:58:10.772629",
     "exception": false,
     "start_time": "2021-06-20T15:58:10.757103",
     "status": "completed"
    },
    "tags": []
   },
   "source": [
    "## Prepare data for model training"
   ]
  },
  {
   "cell_type": "code",
   "execution_count": 2,
   "id": "emerging-receipt",
   "metadata": {
    "execution": {
     "iopub.execute_input": "2021-06-20T15:58:10.808248Z",
     "iopub.status.busy": "2021-06-20T15:58:10.807570Z",
     "iopub.status.idle": "2021-06-20T15:58:12.600781Z",
     "shell.execute_reply": "2021-06-20T15:58:12.601297Z",
     "shell.execute_reply.started": "2021-06-13T13:31:59.017296Z"
    },
    "papermill": {
     "duration": 1.812915,
     "end_time": "2021-06-20T15:58:12.601461",
     "exception": false,
     "start_time": "2021-06-20T15:58:10.788546",
     "status": "completed"
    },
    "tags": []
   },
   "outputs": [
    {
     "data": {
      "text/html": [
       "<div>\n",
       "<style scoped>\n",
       "    .dataframe tbody tr th:only-of-type {\n",
       "        vertical-align: middle;\n",
       "    }\n",
       "\n",
       "    .dataframe tbody tr th {\n",
       "        vertical-align: top;\n",
       "    }\n",
       "\n",
       "    .dataframe thead th {\n",
       "        text-align: right;\n",
       "    }\n",
       "</style>\n",
       "<table border=\"1\" class=\"dataframe\">\n",
       "  <thead>\n",
       "    <tr style=\"text-align: right;\">\n",
       "      <th></th>\n",
       "      <th>feature_0</th>\n",
       "      <th>feature_1</th>\n",
       "      <th>feature_2</th>\n",
       "      <th>feature_3</th>\n",
       "      <th>feature_4</th>\n",
       "      <th>feature_5</th>\n",
       "      <th>feature_6</th>\n",
       "      <th>feature_7</th>\n",
       "      <th>feature_8</th>\n",
       "      <th>feature_9</th>\n",
       "      <th>...</th>\n",
       "      <th>feature_66</th>\n",
       "      <th>feature_67</th>\n",
       "      <th>feature_68</th>\n",
       "      <th>feature_69</th>\n",
       "      <th>feature_70</th>\n",
       "      <th>feature_71</th>\n",
       "      <th>feature_72</th>\n",
       "      <th>feature_73</th>\n",
       "      <th>feature_74</th>\n",
       "      <th>target</th>\n",
       "    </tr>\n",
       "    <tr>\n",
       "      <th>id</th>\n",
       "      <th></th>\n",
       "      <th></th>\n",
       "      <th></th>\n",
       "      <th></th>\n",
       "      <th></th>\n",
       "      <th></th>\n",
       "      <th></th>\n",
       "      <th></th>\n",
       "      <th></th>\n",
       "      <th></th>\n",
       "      <th></th>\n",
       "      <th></th>\n",
       "      <th></th>\n",
       "      <th></th>\n",
       "      <th></th>\n",
       "      <th></th>\n",
       "      <th></th>\n",
       "      <th></th>\n",
       "      <th></th>\n",
       "      <th></th>\n",
       "      <th></th>\n",
       "    </tr>\n",
       "  </thead>\n",
       "  <tbody>\n",
       "    <tr>\n",
       "      <th>0</th>\n",
       "      <td>0</td>\n",
       "      <td>0</td>\n",
       "      <td>6</td>\n",
       "      <td>1</td>\n",
       "      <td>0</td>\n",
       "      <td>0</td>\n",
       "      <td>0</td>\n",
       "      <td>0</td>\n",
       "      <td>7</td>\n",
       "      <td>0</td>\n",
       "      <td>...</td>\n",
       "      <td>0</td>\n",
       "      <td>0</td>\n",
       "      <td>0</td>\n",
       "      <td>0</td>\n",
       "      <td>0</td>\n",
       "      <td>0</td>\n",
       "      <td>2</td>\n",
       "      <td>0</td>\n",
       "      <td>0</td>\n",
       "      <td>6</td>\n",
       "    </tr>\n",
       "    <tr>\n",
       "      <th>1</th>\n",
       "      <td>0</td>\n",
       "      <td>0</td>\n",
       "      <td>0</td>\n",
       "      <td>0</td>\n",
       "      <td>0</td>\n",
       "      <td>0</td>\n",
       "      <td>0</td>\n",
       "      <td>0</td>\n",
       "      <td>0</td>\n",
       "      <td>0</td>\n",
       "      <td>...</td>\n",
       "      <td>2</td>\n",
       "      <td>0</td>\n",
       "      <td>0</td>\n",
       "      <td>0</td>\n",
       "      <td>0</td>\n",
       "      <td>0</td>\n",
       "      <td>0</td>\n",
       "      <td>1</td>\n",
       "      <td>0</td>\n",
       "      <td>6</td>\n",
       "    </tr>\n",
       "    <tr>\n",
       "      <th>2</th>\n",
       "      <td>0</td>\n",
       "      <td>0</td>\n",
       "      <td>0</td>\n",
       "      <td>0</td>\n",
       "      <td>0</td>\n",
       "      <td>1</td>\n",
       "      <td>0</td>\n",
       "      <td>3</td>\n",
       "      <td>0</td>\n",
       "      <td>0</td>\n",
       "      <td>...</td>\n",
       "      <td>0</td>\n",
       "      <td>0</td>\n",
       "      <td>0</td>\n",
       "      <td>0</td>\n",
       "      <td>1</td>\n",
       "      <td>0</td>\n",
       "      <td>0</td>\n",
       "      <td>0</td>\n",
       "      <td>0</td>\n",
       "      <td>2</td>\n",
       "    </tr>\n",
       "    <tr>\n",
       "      <th>3</th>\n",
       "      <td>0</td>\n",
       "      <td>0</td>\n",
       "      <td>7</td>\n",
       "      <td>0</td>\n",
       "      <td>1</td>\n",
       "      <td>5</td>\n",
       "      <td>2</td>\n",
       "      <td>2</td>\n",
       "      <td>0</td>\n",
       "      <td>1</td>\n",
       "      <td>...</td>\n",
       "      <td>0</td>\n",
       "      <td>4</td>\n",
       "      <td>0</td>\n",
       "      <td>2</td>\n",
       "      <td>2</td>\n",
       "      <td>0</td>\n",
       "      <td>4</td>\n",
       "      <td>3</td>\n",
       "      <td>0</td>\n",
       "      <td>8</td>\n",
       "    </tr>\n",
       "    <tr>\n",
       "      <th>4</th>\n",
       "      <td>1</td>\n",
       "      <td>0</td>\n",
       "      <td>0</td>\n",
       "      <td>0</td>\n",
       "      <td>0</td>\n",
       "      <td>0</td>\n",
       "      <td>0</td>\n",
       "      <td>0</td>\n",
       "      <td>0</td>\n",
       "      <td>0</td>\n",
       "      <td>...</td>\n",
       "      <td>0</td>\n",
       "      <td>0</td>\n",
       "      <td>0</td>\n",
       "      <td>0</td>\n",
       "      <td>0</td>\n",
       "      <td>0</td>\n",
       "      <td>0</td>\n",
       "      <td>0</td>\n",
       "      <td>0</td>\n",
       "      <td>2</td>\n",
       "    </tr>\n",
       "  </tbody>\n",
       "</table>\n",
       "<p>5 rows × 76 columns</p>\n",
       "</div>"
      ],
      "text/plain": [
       "    feature_0  feature_1  feature_2  feature_3  feature_4  feature_5  \\\n",
       "id                                                                     \n",
       "0           0          0          6          1          0          0   \n",
       "1           0          0          0          0          0          0   \n",
       "2           0          0          0          0          0          1   \n",
       "3           0          0          7          0          1          5   \n",
       "4           1          0          0          0          0          0   \n",
       "\n",
       "    feature_6  feature_7  feature_8  feature_9  ...  feature_66  feature_67  \\\n",
       "id                                              ...                           \n",
       "0           0          0          7          0  ...           0           0   \n",
       "1           0          0          0          0  ...           2           0   \n",
       "2           0          3          0          0  ...           0           0   \n",
       "3           2          2          0          1  ...           0           4   \n",
       "4           0          0          0          0  ...           0           0   \n",
       "\n",
       "    feature_68  feature_69  feature_70  feature_71  feature_72  feature_73  \\\n",
       "id                                                                           \n",
       "0            0           0           0           0           2           0   \n",
       "1            0           0           0           0           0           1   \n",
       "2            0           0           1           0           0           0   \n",
       "3            0           2           2           0           4           3   \n",
       "4            0           0           0           0           0           0   \n",
       "\n",
       "    feature_74  target  \n",
       "id                      \n",
       "0            0       6  \n",
       "1            0       6  \n",
       "2            0       2  \n",
       "3            0       8  \n",
       "4            0       2  \n",
       "\n",
       "[5 rows x 76 columns]"
      ]
     },
     "execution_count": 2,
     "metadata": {},
     "output_type": "execute_result"
    }
   ],
   "source": [
    "train_df = pd.read_csv(\"../input/tabular-playground-series-jun-2021/train.csv\")\n",
    "train_df['target'] = train_df['target'].apply(lambda x: int(x.replace(\"Class_\",\"\")))\n",
    "train_df['target'] = train_df['target'].apply(lambda x: 0 if x==9 else x)\n",
    "train_df.set_index(\"id\", inplace=True)\n",
    "train_df.head()"
   ]
  },
  {
   "cell_type": "code",
   "execution_count": 3,
   "id": "covered-discount",
   "metadata": {
    "execution": {
     "iopub.execute_input": "2021-06-20T15:58:12.638101Z",
     "iopub.status.busy": "2021-06-20T15:58:12.637471Z",
     "iopub.status.idle": "2021-06-20T15:58:13.331617Z",
     "shell.execute_reply": "2021-06-20T15:58:13.332098Z"
    },
    "papermill": {
     "duration": 0.714001,
     "end_time": "2021-06-20T15:58:13.332277",
     "exception": false,
     "start_time": "2021-06-20T15:58:12.618276",
     "status": "completed"
    },
    "tags": []
   },
   "outputs": [
    {
     "data": {
      "text/html": [
       "<div>\n",
       "<style scoped>\n",
       "    .dataframe tbody tr th:only-of-type {\n",
       "        vertical-align: middle;\n",
       "    }\n",
       "\n",
       "    .dataframe tbody tr th {\n",
       "        vertical-align: top;\n",
       "    }\n",
       "\n",
       "    .dataframe thead th {\n",
       "        text-align: right;\n",
       "    }\n",
       "</style>\n",
       "<table border=\"1\" class=\"dataframe\">\n",
       "  <thead>\n",
       "    <tr style=\"text-align: right;\">\n",
       "      <th></th>\n",
       "      <th>feature_0</th>\n",
       "      <th>feature_1</th>\n",
       "      <th>feature_2</th>\n",
       "      <th>feature_3</th>\n",
       "      <th>feature_4</th>\n",
       "      <th>feature_5</th>\n",
       "      <th>feature_6</th>\n",
       "      <th>feature_7</th>\n",
       "      <th>feature_8</th>\n",
       "      <th>feature_9</th>\n",
       "      <th>...</th>\n",
       "      <th>feature_65</th>\n",
       "      <th>feature_66</th>\n",
       "      <th>feature_67</th>\n",
       "      <th>feature_68</th>\n",
       "      <th>feature_69</th>\n",
       "      <th>feature_70</th>\n",
       "      <th>feature_71</th>\n",
       "      <th>feature_72</th>\n",
       "      <th>feature_73</th>\n",
       "      <th>feature_74</th>\n",
       "    </tr>\n",
       "    <tr>\n",
       "      <th>id</th>\n",
       "      <th></th>\n",
       "      <th></th>\n",
       "      <th></th>\n",
       "      <th></th>\n",
       "      <th></th>\n",
       "      <th></th>\n",
       "      <th></th>\n",
       "      <th></th>\n",
       "      <th></th>\n",
       "      <th></th>\n",
       "      <th></th>\n",
       "      <th></th>\n",
       "      <th></th>\n",
       "      <th></th>\n",
       "      <th></th>\n",
       "      <th></th>\n",
       "      <th></th>\n",
       "      <th></th>\n",
       "      <th></th>\n",
       "      <th></th>\n",
       "      <th></th>\n",
       "    </tr>\n",
       "  </thead>\n",
       "  <tbody>\n",
       "    <tr>\n",
       "      <th>200000</th>\n",
       "      <td>0</td>\n",
       "      <td>0</td>\n",
       "      <td>0</td>\n",
       "      <td>0</td>\n",
       "      <td>0</td>\n",
       "      <td>0</td>\n",
       "      <td>0</td>\n",
       "      <td>0</td>\n",
       "      <td>0</td>\n",
       "      <td>0</td>\n",
       "      <td>...</td>\n",
       "      <td>0</td>\n",
       "      <td>0</td>\n",
       "      <td>0</td>\n",
       "      <td>0</td>\n",
       "      <td>0</td>\n",
       "      <td>0</td>\n",
       "      <td>0</td>\n",
       "      <td>0</td>\n",
       "      <td>0</td>\n",
       "      <td>0</td>\n",
       "    </tr>\n",
       "    <tr>\n",
       "      <th>200001</th>\n",
       "      <td>1</td>\n",
       "      <td>2</td>\n",
       "      <td>0</td>\n",
       "      <td>0</td>\n",
       "      <td>0</td>\n",
       "      <td>0</td>\n",
       "      <td>0</td>\n",
       "      <td>0</td>\n",
       "      <td>0</td>\n",
       "      <td>0</td>\n",
       "      <td>...</td>\n",
       "      <td>3</td>\n",
       "      <td>1</td>\n",
       "      <td>3</td>\n",
       "      <td>0</td>\n",
       "      <td>0</td>\n",
       "      <td>0</td>\n",
       "      <td>0</td>\n",
       "      <td>3</td>\n",
       "      <td>0</td>\n",
       "      <td>0</td>\n",
       "    </tr>\n",
       "    <tr>\n",
       "      <th>200002</th>\n",
       "      <td>0</td>\n",
       "      <td>1</td>\n",
       "      <td>7</td>\n",
       "      <td>1</td>\n",
       "      <td>0</td>\n",
       "      <td>0</td>\n",
       "      <td>0</td>\n",
       "      <td>0</td>\n",
       "      <td>6</td>\n",
       "      <td>0</td>\n",
       "      <td>...</td>\n",
       "      <td>3</td>\n",
       "      <td>0</td>\n",
       "      <td>0</td>\n",
       "      <td>0</td>\n",
       "      <td>0</td>\n",
       "      <td>3</td>\n",
       "      <td>0</td>\n",
       "      <td>2</td>\n",
       "      <td>0</td>\n",
       "      <td>0</td>\n",
       "    </tr>\n",
       "    <tr>\n",
       "      <th>200003</th>\n",
       "      <td>0</td>\n",
       "      <td>0</td>\n",
       "      <td>0</td>\n",
       "      <td>4</td>\n",
       "      <td>3</td>\n",
       "      <td>1</td>\n",
       "      <td>0</td>\n",
       "      <td>0</td>\n",
       "      <td>0</td>\n",
       "      <td>0</td>\n",
       "      <td>...</td>\n",
       "      <td>0</td>\n",
       "      <td>0</td>\n",
       "      <td>0</td>\n",
       "      <td>1</td>\n",
       "      <td>0</td>\n",
       "      <td>0</td>\n",
       "      <td>0</td>\n",
       "      <td>4</td>\n",
       "      <td>0</td>\n",
       "      <td>0</td>\n",
       "    </tr>\n",
       "    <tr>\n",
       "      <th>200004</th>\n",
       "      <td>0</td>\n",
       "      <td>0</td>\n",
       "      <td>5</td>\n",
       "      <td>0</td>\n",
       "      <td>0</td>\n",
       "      <td>0</td>\n",
       "      <td>0</td>\n",
       "      <td>0</td>\n",
       "      <td>0</td>\n",
       "      <td>8</td>\n",
       "      <td>...</td>\n",
       "      <td>0</td>\n",
       "      <td>0</td>\n",
       "      <td>0</td>\n",
       "      <td>0</td>\n",
       "      <td>0</td>\n",
       "      <td>0</td>\n",
       "      <td>0</td>\n",
       "      <td>0</td>\n",
       "      <td>1</td>\n",
       "      <td>0</td>\n",
       "    </tr>\n",
       "  </tbody>\n",
       "</table>\n",
       "<p>5 rows × 75 columns</p>\n",
       "</div>"
      ],
      "text/plain": [
       "        feature_0  feature_1  feature_2  feature_3  feature_4  feature_5  \\\n",
       "id                                                                         \n",
       "200000          0          0          0          0          0          0   \n",
       "200001          1          2          0          0          0          0   \n",
       "200002          0          1          7          1          0          0   \n",
       "200003          0          0          0          4          3          1   \n",
       "200004          0          0          5          0          0          0   \n",
       "\n",
       "        feature_6  feature_7  feature_8  feature_9  ...  feature_65  \\\n",
       "id                                                  ...               \n",
       "200000          0          0          0          0  ...           0   \n",
       "200001          0          0          0          0  ...           3   \n",
       "200002          0          0          6          0  ...           3   \n",
       "200003          0          0          0          0  ...           0   \n",
       "200004          0          0          0          8  ...           0   \n",
       "\n",
       "        feature_66  feature_67  feature_68  feature_69  feature_70  \\\n",
       "id                                                                   \n",
       "200000           0           0           0           0           0   \n",
       "200001           1           3           0           0           0   \n",
       "200002           0           0           0           0           3   \n",
       "200003           0           0           1           0           0   \n",
       "200004           0           0           0           0           0   \n",
       "\n",
       "        feature_71  feature_72  feature_73  feature_74  \n",
       "id                                                      \n",
       "200000           0           0           0           0  \n",
       "200001           0           3           0           0  \n",
       "200002           0           2           0           0  \n",
       "200003           0           4           0           0  \n",
       "200004           0           0           1           0  \n",
       "\n",
       "[5 rows x 75 columns]"
      ]
     },
     "execution_count": 3,
     "metadata": {},
     "output_type": "execute_result"
    }
   ],
   "source": [
    "test_df = pd.read_csv(\"../input/tabular-playground-series-jun-2021/test.csv\")\n",
    "test_df.set_index(\"id\", inplace=True)\n",
    "test_df.head()"
   ]
  },
  {
   "cell_type": "code",
   "execution_count": 4,
   "id": "enhanced-pendant",
   "metadata": {
    "execution": {
     "iopub.execute_input": "2021-06-20T15:58:13.374691Z",
     "iopub.status.busy": "2021-06-20T15:58:13.373335Z",
     "iopub.status.idle": "2021-06-20T15:58:13.775106Z",
     "shell.execute_reply": "2021-06-20T15:58:13.775609Z",
     "shell.execute_reply.started": "2021-06-13T13:32:01.086296Z"
    },
    "papermill": {
     "duration": 0.426239,
     "end_time": "2021-06-20T15:58:13.775769",
     "exception": false,
     "start_time": "2021-06-20T15:58:13.349530",
     "status": "completed"
    },
    "tags": []
   },
   "outputs": [
    {
     "name": "stdout",
     "output_type": "stream",
     "text": [
      "Xtrain: (200000, 75) \n",
      "Ytrain: (200000,) \n",
      "Ytrain_oh: (200000, 9) \n",
      "Xtest: (100000, 75)\n"
     ]
    },
    {
     "data": {
      "text/plain": [
       "62"
      ]
     },
     "execution_count": 4,
     "metadata": {},
     "output_type": "execute_result"
    }
   ],
   "source": [
    "Xtrain = train_df.loc[:, train_df.columns != 'target'].copy()\n",
    "Ytrain = train_df['target'].copy()\n",
    "Ytrain_oh = pd.get_dummies(train_df['target']).copy()\n",
    "Xtest = test_df.copy()\n",
    "\n",
    "print(\"Xtrain: {} \\nYtrain: {} \\nYtrain_oh: {} \\nXtest: {}\".format(Xtrain.shape, Ytrain.shape, \n",
    "                                                                   Ytrain_oh.shape, Xtest.shape))\n",
    "\n",
    "del train_df\n",
    "del test_df\n",
    "gc.collect()"
   ]
  },
  {
   "cell_type": "markdown",
   "id": "protected-reggae",
   "metadata": {
    "papermill": {
     "duration": 0.017564,
     "end_time": "2021-06-20T15:58:13.811084",
     "exception": false,
     "start_time": "2021-06-20T15:58:13.793520",
     "status": "completed"
    },
    "tags": []
   },
   "source": [
    "## Define TPU config"
   ]
  },
  {
   "cell_type": "code",
   "execution_count": 5,
   "id": "focused-action",
   "metadata": {
    "execution": {
     "iopub.execute_input": "2021-06-20T15:58:13.857711Z",
     "iopub.status.busy": "2021-06-20T15:58:13.856992Z",
     "iopub.status.idle": "2021-06-20T15:58:19.811185Z",
     "shell.execute_reply": "2021-06-20T15:58:19.811648Z",
     "shell.execute_reply.started": "2021-06-13T13:32:01.513308Z"
    },
    "papermill": {
     "duration": 5.982834,
     "end_time": "2021-06-20T15:58:19.811855",
     "exception": false,
     "start_time": "2021-06-20T15:58:13.829021",
     "status": "completed"
    },
    "tags": []
   },
   "outputs": [
    {
     "name": "stdout",
     "output_type": "stream",
     "text": [
      "Running on TPU: grpc://10.0.0.2:8470\n"
     ]
    }
   ],
   "source": [
    "try:\n",
    "    tpu = tf.distribute.cluster_resolver.TPUClusterResolver()\n",
    "    tf.config.experimental_connect_to_cluster(tpu)\n",
    "    tf.tpu.experimental.initialize_tpu_system(tpu)\n",
    "    strategy = tf.distribute.experimental.TPUStrategy(tpu)\n",
    "    print(\"Running on TPU:\", tpu.master())\n",
    "    \n",
    "except ValueError:\n",
    "    strategy = tf.distribute.get_strategy()\n",
    "    print(f\"Running on {strategy.num_replicas_in_sync} replicas\")"
   ]
  },
  {
   "cell_type": "code",
   "execution_count": 6,
   "id": "imported-script",
   "metadata": {
    "execution": {
     "iopub.execute_input": "2021-06-20T15:58:19.854404Z",
     "iopub.status.busy": "2021-06-20T15:58:19.853699Z",
     "iopub.status.idle": "2021-06-20T15:58:19.856549Z",
     "shell.execute_reply": "2021-06-20T15:58:19.857174Z",
     "shell.execute_reply.started": "2021-06-13T13:32:07.418998Z"
    },
    "papermill": {
     "duration": 0.026881,
     "end_time": "2021-06-20T15:58:19.857348",
     "exception": false,
     "start_time": "2021-06-20T15:58:19.830467",
     "status": "completed"
    },
    "tags": []
   },
   "outputs": [
    {
     "name": "stdout",
     "output_type": "stream",
     "text": [
      "batch size: 256\n"
     ]
    }
   ],
   "source": [
    "mini_batch_size = strategy.num_replicas_in_sync * 32\n",
    "print(f'batch size: {mini_batch_size}')"
   ]
  },
  {
   "cell_type": "markdown",
   "id": "caring-monday",
   "metadata": {
    "papermill": {
     "duration": 0.018377,
     "end_time": "2021-06-20T15:58:19.894335",
     "exception": false,
     "start_time": "2021-06-20T15:58:19.875958",
     "status": "completed"
    },
    "tags": []
   },
   "source": [
    "## Build the model"
   ]
  },
  {
   "cell_type": "code",
   "execution_count": 7,
   "id": "australian-breeding",
   "metadata": {
    "execution": {
     "iopub.execute_input": "2021-06-20T15:58:19.943151Z",
     "iopub.status.busy": "2021-06-20T15:58:19.942072Z",
     "iopub.status.idle": "2021-06-20T15:58:19.944831Z",
     "shell.execute_reply": "2021-06-20T15:58:19.945335Z",
     "shell.execute_reply.started": "2021-06-13T14:01:24.666858Z"
    },
    "papermill": {
     "duration": 0.0322,
     "end_time": "2021-06-20T15:58:19.945506",
     "exception": false,
     "start_time": "2021-06-20T15:58:19.913306",
     "status": "completed"
    },
    "tags": []
   },
   "outputs": [],
   "source": [
    "def dnn_model(n_features):\n",
    "    \n",
    "    x_input = Input(shape=(n_features,))\n",
    "    \n",
    "    x = Embedding(512, 128, trainable=False)(x_input)\n",
    "    \n",
    "    x1 = Bidirectional(LSTM(units=128, activation='tanh',\n",
    "                            return_sequences=True, dropout=0.15,\n",
    "                            kernel_regularizer=l2(0.0001),\n",
    "                            kernel_initializer='he_uniform'), \n",
    "                      merge_mode='ave')(x)\n",
    "    x1 = BatchNormalization()(x1)\n",
    "    \n",
    "    x2 = Bidirectional(GRU(units=128, activation='tanh',\n",
    "                           return_sequences=True, dropout=0.15,\n",
    "                           kernel_regularizer=l2(0.0001),\n",
    "                           kernel_initializer='he_uniform'),\n",
    "                      merge_mode='ave')(x)\n",
    "    x2 = BatchNormalization()(x2)\n",
    "    \n",
    "    avg_pool1 = GlobalAveragePooling1D()(x1)\n",
    "    avg_pool2 = GlobalAveragePooling1D()(x2)\n",
    "    \n",
    "    x = Concatenate()([avg_pool1, avg_pool2])\n",
    "    x = BatchNormalization()(x)\n",
    "    \n",
    "    x = Dense(units=32, kernel_initializer='he_uniform', \n",
    "                kernel_regularizer=l2(0.0001))(x)\n",
    "    x = BatchNormalization()(x)\n",
    "    x = Activation('relu')(x)\n",
    "    x = Dropout(rate=0.15)(x)\n",
    "\n",
    "    x_output = Dense(units=9, activation='softmax', \n",
    "                     kernel_initializer='he_uniform')(x)\n",
    "\n",
    "    model = Model(inputs=x_input, outputs=x_output, \n",
    "                  name='DNN_Model')\n",
    "    return model"
   ]
  },
  {
   "cell_type": "code",
   "execution_count": 8,
   "id": "known-beginning",
   "metadata": {
    "execution": {
     "iopub.execute_input": "2021-06-20T15:58:19.986966Z",
     "iopub.status.busy": "2021-06-20T15:58:19.985880Z",
     "iopub.status.idle": "2021-06-20T15:58:21.148471Z",
     "shell.execute_reply": "2021-06-20T15:58:21.147506Z",
     "shell.execute_reply.started": "2021-06-13T14:01:24.850789Z"
    },
    "papermill": {
     "duration": 1.184548,
     "end_time": "2021-06-20T15:58:21.148671",
     "exception": false,
     "start_time": "2021-06-20T15:58:19.964123",
     "status": "completed"
    },
    "tags": []
   },
   "outputs": [
    {
     "name": "stdout",
     "output_type": "stream",
     "text": [
      "Model: \"DNN_Model\"\n",
      "__________________________________________________________________________________________________\n",
      "Layer (type)                    Output Shape         Param #     Connected to                     \n",
      "==================================================================================================\n",
      "input_1 (InputLayer)            [(None, 75)]         0                                            \n",
      "__________________________________________________________________________________________________\n",
      "embedding (Embedding)           (None, 75, 128)      65536       input_1[0][0]                    \n",
      "__________________________________________________________________________________________________\n",
      "bidirectional (Bidirectional)   (None, 75, 128)      263168      embedding[0][0]                  \n",
      "__________________________________________________________________________________________________\n",
      "bidirectional_1 (Bidirectional) (None, 75, 128)      198144      embedding[0][0]                  \n",
      "__________________________________________________________________________________________________\n",
      "batch_normalization (BatchNorma (None, 75, 128)      512         bidirectional[0][0]              \n",
      "__________________________________________________________________________________________________\n",
      "batch_normalization_1 (BatchNor (None, 75, 128)      512         bidirectional_1[0][0]            \n",
      "__________________________________________________________________________________________________\n",
      "global_average_pooling1d (Globa (None, 128)          0           batch_normalization[0][0]        \n",
      "__________________________________________________________________________________________________\n",
      "global_average_pooling1d_1 (Glo (None, 128)          0           batch_normalization_1[0][0]      \n",
      "__________________________________________________________________________________________________\n",
      "concatenate (Concatenate)       (None, 256)          0           global_average_pooling1d[0][0]   \n",
      "                                                                 global_average_pooling1d_1[0][0] \n",
      "__________________________________________________________________________________________________\n",
      "batch_normalization_2 (BatchNor (None, 256)          1024        concatenate[0][0]                \n",
      "__________________________________________________________________________________________________\n",
      "dense (Dense)                   (None, 32)           8224        batch_normalization_2[0][0]      \n",
      "__________________________________________________________________________________________________\n",
      "batch_normalization_3 (BatchNor (None, 32)           128         dense[0][0]                      \n",
      "__________________________________________________________________________________________________\n",
      "activation (Activation)         (None, 32)           0           batch_normalization_3[0][0]      \n",
      "__________________________________________________________________________________________________\n",
      "dropout (Dropout)               (None, 32)           0           activation[0][0]                 \n",
      "__________________________________________________________________________________________________\n",
      "dense_1 (Dense)                 (None, 9)            297         dropout[0][0]                    \n",
      "==================================================================================================\n",
      "Total params: 537,545\n",
      "Trainable params: 470,921\n",
      "Non-trainable params: 66,624\n",
      "__________________________________________________________________________________________________\n"
     ]
    }
   ],
   "source": [
    "model = dnn_model(Xtrain.shape[1])\n",
    "model.summary()"
   ]
  },
  {
   "cell_type": "code",
   "execution_count": 9,
   "id": "respected-inclusion",
   "metadata": {
    "execution": {
     "iopub.execute_input": "2021-06-20T15:58:21.194122Z",
     "iopub.status.busy": "2021-06-20T15:58:21.193405Z",
     "iopub.status.idle": "2021-06-20T15:58:21.778534Z",
     "shell.execute_reply": "2021-06-20T15:58:21.777948Z",
     "shell.execute_reply.started": "2021-06-13T13:48:30.769428Z"
    },
    "papermill": {
     "duration": 0.609767,
     "end_time": "2021-06-20T15:58:21.778687",
     "exception": false,
     "start_time": "2021-06-20T15:58:21.168920",
     "status": "completed"
    },
    "tags": []
   },
   "outputs": [
    {
     "data": {
      "image/png": "[encoded data removed]",
      "text/plain": [
       "<IPython.core.display.Image object>"
      ]
     },
     "execution_count": 9,
     "metadata": {},
     "output_type": "execute_result"
    }
   ],
   "source": [
    "plot_model(\n",
    "    model, to_file='./DNN_Model.png', \n",
    "    show_shapes=True, show_layer_names=True\n",
    ")"
   ]
  },
  {
   "cell_type": "code",
   "execution_count": 10,
   "id": "violent-desperate",
   "metadata": {
    "execution": {
     "iopub.execute_input": "2021-06-20T15:58:21.832938Z",
     "iopub.status.busy": "2021-06-20T15:58:21.832195Z",
     "iopub.status.idle": "2021-06-20T15:58:21.835349Z",
     "shell.execute_reply": "2021-06-20T15:58:21.834702Z",
     "shell.execute_reply.started": "2021-06-13T14:01:29.910779Z"
    },
    "papermill": {
     "duration": 0.03374,
     "end_time": "2021-06-20T15:58:21.835501",
     "exception": false,
     "start_time": "2021-06-20T15:58:21.801761",
     "status": "completed"
    },
    "tags": []
   },
   "outputs": [],
   "source": [
    "FOLD = 20\n",
    "NUM_SEED = 2\n",
    "VERBOSE = 0\n",
    "\n",
    "np.random.seed(3)\n",
    "seeds = np.random.randint(0, 100, size=NUM_SEED)\n",
    "\n",
    "counter = 0\n",
    "oof_score = 0\n",
    "y_pred_meta_dnn = np.zeros((Xtrain.shape[0], 9))\n",
    "y_pred_final_dnn = np.zeros((Xtest.shape[0], 9))"
   ]
  },
  {
   "cell_type": "code",
   "execution_count": 11,
   "id": "based-convergence",
   "metadata": {
    "execution": {
     "iopub.execute_input": "2021-06-20T15:58:21.885862Z",
     "iopub.status.busy": "2021-06-20T15:58:21.885197Z",
     "iopub.status.idle": "2021-06-20T20:13:05.855363Z",
     "shell.execute_reply": "2021-06-20T20:13:05.856501Z",
     "shell.execute_reply.started": "2021-06-13T14:01:30.149252Z"
    },
    "papermill": {
     "duration": 15283.998881,
     "end_time": "2021-06-20T20:13:05.857066",
     "exception": false,
     "start_time": "2021-06-20T15:58:21.858185",
     "status": "completed"
    },
    "tags": []
   },
   "outputs": [
    {
     "name": "stdout",
     "output_type": "stream",
     "text": [
      "Seed-24 | Fold-0 | OOF Score: 1.740580082548037\n",
      "Seed-24 | Fold-1 | OOF Score: 1.7462245947835966\n",
      "Seed-24 | Fold-2 | OOF Score: 1.7415787260727957\n",
      "Seed-24 | Fold-3 | OOF Score: 1.7445315471673384\n",
      "Seed-24 | Fold-4 | OOF Score: 1.7359628386925905\n",
      "Seed-24 | Fold-5 | OOF Score: 1.7459872124062852\n",
      "Seed-24 | Fold-6 | OOF Score: 1.7450783117087558\n",
      "Seed-24 | Fold-7 | OOF Score: 1.7535250120092183\n",
      "Seed-24 | Fold-8 | OOF Score: 1.736775821311213\n",
      "Seed-24 | Fold-9 | OOF Score: 1.7391951633254066\n",
      "Seed-24 | Fold-10 | OOF Score: 1.7445384892858564\n",
      "Seed-24 | Fold-11 | OOF Score: 1.7368574932454155\n",
      "Seed-24 | Fold-12 | OOF Score: 1.7445525997359306\n",
      "Seed-24 | Fold-13 | OOF Score: 1.7368695395434275\n",
      "Seed-24 | Fold-14 | OOF Score: 1.7423791040176526\n",
      "Seed-24 | Fold-15 | OOF Score: 1.738350892912969\n",
      "Seed-24 | Fold-16 | OOF Score: 1.7424666293375195\n",
      "Seed-24 | Fold-17 | OOF Score: 1.743850789112039\n",
      "Seed-24 | Fold-18 | OOF Score: 1.7402567368417978\n",
      "Seed-24 | Fold-19 | OOF Score: 1.7511720329752192\n",
      "\n",
      "Seed: 24 | Aggregate OOF Score: 1.7425366808516531\n",
      "\n",
      "\n",
      "Seed-3 | Fold-0 | OOF Score: 1.751098129335977\n",
      "Seed-3 | Fold-1 | OOF Score: 1.7541432616904378\n",
      "Seed-3 | Fold-2 | OOF Score: 1.7414767831189557\n",
      "Seed-3 | Fold-3 | OOF Score: 1.7397975506214425\n",
      "Seed-3 | Fold-4 | OOF Score: 1.7444836056943982\n",
      "Seed-3 | Fold-5 | OOF Score: 1.7369466122068464\n",
      "Seed-3 | Fold-6 | OOF Score: 1.7496712128305807\n",
      "Seed-3 | Fold-7 | OOF Score: 1.7415547738216817\n",
      "Seed-3 | Fold-8 | OOF Score: 1.7433972550913692\n",
      "Seed-3 | Fold-9 | OOF Score: 1.751900724499859\n",
      "Seed-3 | Fold-10 | OOF Score: 1.7344941520711408\n",
      "Seed-3 | Fold-11 | OOF Score: 1.7495745806794614\n",
      "Seed-3 | Fold-12 | OOF Score: 1.7409391148133204\n",
      "Seed-3 | Fold-13 | OOF Score: 1.763107774347067\n",
      "Seed-3 | Fold-14 | OOF Score: 1.751678009901382\n",
      "Seed-3 | Fold-15 | OOF Score: 1.729582411420159\n",
      "Seed-3 | Fold-16 | OOF Score: 1.745346018729545\n",
      "Seed-3 | Fold-17 | OOF Score: 1.7432348081991076\n",
      "Seed-3 | Fold-18 | OOF Score: 1.737990539847128\n",
      "Seed-3 | Fold-19 | OOF Score: 1.7336099653866142\n",
      "\n",
      "Seed: 3 | Aggregate OOF Score: 1.7442013642153236\n",
      "\n",
      "\n"
     ]
    }
   ],
   "source": [
    "with strategy.scope():\n",
    "    \n",
    "    for sidx, seed in enumerate(seeds):\n",
    "        seed_score = 0\n",
    "\n",
    "        kfold = StratifiedKFold(n_splits=FOLD, shuffle=True, random_state=seed)\n",
    "\n",
    "        for idx, (train, val) in enumerate(kfold.split(Xtrain, Ytrain)):\n",
    "            counter += 1\n",
    "\n",
    "            train_x, train_y, train_y_oh = Xtrain.iloc[train], Ytrain.iloc[train], Ytrain_oh.iloc[train]\n",
    "            val_x, val_y, val_y_oh = Xtrain.iloc[val], Ytrain.iloc[val], Ytrain_oh.iloc[val]\n",
    "\n",
    "            model = dnn_model(Xtrain.shape[1])\n",
    "            model.compile(loss='categorical_crossentropy',\n",
    "                          optimizer=Adamax(lr=8e-3))\n",
    "\n",
    "            early = EarlyStopping(monitor=\"val_loss\", mode=\"min\", \n",
    "                                  restore_best_weights=True, \n",
    "                                  patience=7, verbose=VERBOSE)\n",
    "\n",
    "            reduce_lr = ReduceLROnPlateau(monitor=\"val_loss\", factor=0.25, \n",
    "                                          min_lr=1e-6, patience=3, \n",
    "                                          verbose=VERBOSE, mode='min')\n",
    "\n",
    "            chk_point = ModelCheckpoint('./DNN_model.h5', monitor='val_loss', \n",
    "                                        verbose=VERBOSE, save_best_only=True, \n",
    "                                        mode='min', save_weights_only=True)\n",
    "\n",
    "            history = model.fit(\n",
    "                train_x, train_y_oh, \n",
    "                batch_size=mini_batch_size,\n",
    "                epochs=250, \n",
    "                verbose=VERBOSE, \n",
    "                callbacks=[reduce_lr, early, chk_point], \n",
    "                validation_data=(val_x, val_y_oh)\n",
    "            )\n",
    "\n",
    "            model.load_weights(f'./DNN_model.h5')\n",
    "\n",
    "            y_pred = model.predict(val_x)\n",
    "            y_pred_meta_dnn[val] += y_pred\n",
    "            y_pred_final_dnn += model.predict(Xtest)\n",
    "\n",
    "            score = log_loss(val_y_oh, y_pred)\n",
    "            oof_score += score\n",
    "            seed_score += score\n",
    "            print(\"Seed-{} | Fold-{} | OOF Score: {}\".format(seed, idx, score))\n",
    "\n",
    "        print(\"\\nSeed: {} | Aggregate OOF Score: {}\\n\\n\".format(seed, (seed_score / FOLD)))"
   ]
  },
  {
   "cell_type": "code",
   "execution_count": 12,
   "id": "interracial-inquiry",
   "metadata": {
    "execution": {
     "iopub.execute_input": "2021-06-20T20:13:05.961937Z",
     "iopub.status.busy": "2021-06-20T20:13:05.960015Z",
     "iopub.status.idle": "2021-06-20T20:13:05.976906Z",
     "shell.execute_reply": "2021-06-20T20:13:05.977605Z"
    },
    "papermill": {
     "duration": 0.077691,
     "end_time": "2021-06-20T20:13:05.977905",
     "exception": false,
     "start_time": "2021-06-20T20:13:05.900214",
     "status": "completed"
    },
    "tags": []
   },
   "outputs": [
    {
     "name": "stdout",
     "output_type": "stream",
     "text": [
      "Aggregate OOF Score: 1.7433690225334888\n"
     ]
    }
   ],
   "source": [
    "y_pred_meta_dnn = y_pred_meta_dnn / float(NUM_SEED)\n",
    "y_pred_final_dnn = y_pred_final_dnn / float(counter)\n",
    "oof_score /= float(counter)\n",
    "print(\"Aggregate OOF Score: {}\".format(oof_score))"
   ]
  },
  {
   "cell_type": "code",
   "execution_count": 13,
   "id": "increasing-acrobat",
   "metadata": {
    "execution": {
     "iopub.execute_input": "2021-06-20T20:13:06.094606Z",
     "iopub.status.busy": "2021-06-20T20:13:06.093528Z",
     "iopub.status.idle": "2021-06-20T20:13:08.922983Z",
     "shell.execute_reply": "2021-06-20T20:13:08.923620Z"
    },
    "papermill": {
     "duration": 2.895962,
     "end_time": "2021-06-20T20:13:08.923904",
     "exception": false,
     "start_time": "2021-06-20T20:13:06.027942",
     "status": "completed"
    },
    "tags": []
   },
   "outputs": [],
   "source": [
    "np.savez_compressed('./DNN_Meta_Features.npz',\n",
    "                    y_pred_meta_dnn=y_pred_meta_dnn, \n",
    "                    oof_score=oof_score,\n",
    "                    y_pred_final_dnn=y_pred_final_dnn)"
   ]
  },
  {
   "cell_type": "markdown",
   "id": "color-being",
   "metadata": {
    "papermill": {
     "duration": 0.040281,
     "end_time": "2021-06-20T20:13:09.004983",
     "exception": false,
     "start_time": "2021-06-20T20:13:08.964702",
     "status": "completed"
    },
    "tags": []
   },
   "source": [
    "## Create submission file"
   ]
  },
  {
   "cell_type": "code",
   "execution_count": 14,
   "id": "equal-stick",
   "metadata": {
    "execution": {
     "iopub.execute_input": "2021-06-20T20:13:09.089784Z",
     "iopub.status.busy": "2021-06-20T20:13:09.088678Z",
     "iopub.status.idle": "2021-06-20T20:13:09.787943Z",
     "shell.execute_reply": "2021-06-20T20:13:09.788536Z"
    },
    "papermill": {
     "duration": 0.745208,
     "end_time": "2021-06-20T20:13:09.788757",
     "exception": false,
     "start_time": "2021-06-20T20:13:09.043549",
     "status": "completed"
    },
    "tags": []
   },
   "outputs": [
    {
     "data": {
      "text/html": [
       "<div>\n",
       "<style scoped>\n",
       "    .dataframe tbody tr th:only-of-type {\n",
       "        vertical-align: middle;\n",
       "    }\n",
       "\n",
       "    .dataframe tbody tr th {\n",
       "        vertical-align: top;\n",
       "    }\n",
       "\n",
       "    .dataframe thead th {\n",
       "        text-align: right;\n",
       "    }\n",
       "</style>\n",
       "<table border=\"1\" class=\"dataframe\">\n",
       "  <thead>\n",
       "    <tr style=\"text-align: right;\">\n",
       "      <th></th>\n",
       "      <th>id</th>\n",
       "      <th>Class_1</th>\n",
       "      <th>Class_2</th>\n",
       "      <th>Class_3</th>\n",
       "      <th>Class_4</th>\n",
       "      <th>Class_5</th>\n",
       "      <th>Class_6</th>\n",
       "      <th>Class_7</th>\n",
       "      <th>Class_8</th>\n",
       "      <th>Class_9</th>\n",
       "    </tr>\n",
       "  </thead>\n",
       "  <tbody>\n",
       "    <tr>\n",
       "      <th>0</th>\n",
       "      <td>200000</td>\n",
       "      <td>0.062964</td>\n",
       "      <td>0.414204</td>\n",
       "      <td>0.153640</td>\n",
       "      <td>0.025852</td>\n",
       "      <td>0.012407</td>\n",
       "      <td>0.146254</td>\n",
       "      <td>0.020269</td>\n",
       "      <td>0.046654</td>\n",
       "      <td>0.117755</td>\n",
       "    </tr>\n",
       "    <tr>\n",
       "      <th>1</th>\n",
       "      <td>200001</td>\n",
       "      <td>0.042176</td>\n",
       "      <td>0.069587</td>\n",
       "      <td>0.054986</td>\n",
       "      <td>0.020952</td>\n",
       "      <td>0.014314</td>\n",
       "      <td>0.283487</td>\n",
       "      <td>0.081980</td>\n",
       "      <td>0.299098</td>\n",
       "      <td>0.133421</td>\n",
       "    </tr>\n",
       "    <tr>\n",
       "      <th>2</th>\n",
       "      <td>200002</td>\n",
       "      <td>0.018129</td>\n",
       "      <td>0.027500</td>\n",
       "      <td>0.018525</td>\n",
       "      <td>0.010008</td>\n",
       "      <td>0.005833</td>\n",
       "      <td>0.749191</td>\n",
       "      <td>0.025856</td>\n",
       "      <td>0.100879</td>\n",
       "      <td>0.044079</td>\n",
       "    </tr>\n",
       "    <tr>\n",
       "      <th>3</th>\n",
       "      <td>200003</td>\n",
       "      <td>0.048428</td>\n",
       "      <td>0.139033</td>\n",
       "      <td>0.094732</td>\n",
       "      <td>0.031858</td>\n",
       "      <td>0.020180</td>\n",
       "      <td>0.210197</td>\n",
       "      <td>0.077622</td>\n",
       "      <td>0.217260</td>\n",
       "      <td>0.160690</td>\n",
       "    </tr>\n",
       "    <tr>\n",
       "      <th>4</th>\n",
       "      <td>200004</td>\n",
       "      <td>0.044050</td>\n",
       "      <td>0.116621</td>\n",
       "      <td>0.082381</td>\n",
       "      <td>0.027032</td>\n",
       "      <td>0.016514</td>\n",
       "      <td>0.267247</td>\n",
       "      <td>0.072942</td>\n",
       "      <td>0.225762</td>\n",
       "      <td>0.147452</td>\n",
       "    </tr>\n",
       "  </tbody>\n",
       "</table>\n",
       "</div>"
      ],
      "text/plain": [
       "       id   Class_1   Class_2   Class_3   Class_4   Class_5   Class_6  \\\n",
       "0  200000  0.062964  0.414204  0.153640  0.025852  0.012407  0.146254   \n",
       "1  200001  0.042176  0.069587  0.054986  0.020952  0.014314  0.283487   \n",
       "2  200002  0.018129  0.027500  0.018525  0.010008  0.005833  0.749191   \n",
       "3  200003  0.048428  0.139033  0.094732  0.031858  0.020180  0.210197   \n",
       "4  200004  0.044050  0.116621  0.082381  0.027032  0.016514  0.267247   \n",
       "\n",
       "    Class_7   Class_8   Class_9  \n",
       "0  0.020269  0.046654  0.117755  \n",
       "1  0.081980  0.299098  0.133421  \n",
       "2  0.025856  0.100879  0.044079  \n",
       "3  0.077622  0.217260  0.160690  \n",
       "4  0.072942  0.225762  0.147452  "
      ]
     },
     "execution_count": 14,
     "metadata": {},
     "output_type": "execute_result"
    }
   ],
   "source": [
    "test_df = pd.read_csv(\"../input/tabular-playground-series-jun-2021/test.csv\")\n",
    "submit_df = pd.DataFrame()\n",
    "submit_df['id'] = test_df['id']\n",
    "submit_df['Class_1'] = y_pred_final_dnn[:,1]\n",
    "submit_df['Class_2'] = y_pred_final_dnn[:,2]\n",
    "submit_df['Class_3'] = y_pred_final_dnn[:,3]\n",
    "submit_df['Class_4'] = y_pred_final_dnn[:,4]\n",
    "submit_df['Class_5'] = y_pred_final_dnn[:,5]\n",
    "submit_df['Class_6'] = y_pred_final_dnn[:,6]\n",
    "submit_df['Class_7'] = y_pred_final_dnn[:,7]\n",
    "submit_df['Class_8'] = y_pred_final_dnn[:,8]\n",
    "submit_df['Class_9'] = y_pred_final_dnn[:,0]\n",
    "submit_df.head()"
   ]
  },
  {
   "cell_type": "code",
   "execution_count": 15,
   "id": "surprising-think",
   "metadata": {
    "execution": {
     "iopub.execute_input": "2021-06-20T20:13:09.873926Z",
     "iopub.status.busy": "2021-06-20T20:13:09.873194Z",
     "iopub.status.idle": "2021-06-20T20:13:12.172439Z",
     "shell.execute_reply": "2021-06-20T20:13:12.173002Z"
    },
    "papermill": {
     "duration": 2.343748,
     "end_time": "2021-06-20T20:13:12.173224",
     "exception": false,
     "start_time": "2021-06-20T20:13:09.829476",
     "status": "completed"
    },
    "tags": []
   },
   "outputs": [],
   "source": [
    "submit_df.to_csv(\"./DNN_submission.csv\", index=False)"
   ]
  },
  {
   "cell_type": "code",
   "execution_count": null,
   "id": "fuzzy-vatican",
   "metadata": {
    "papermill": {
     "duration": 0.037209,
     "end_time": "2021-06-20T20:13:12.247806",
     "exception": false,
     "start_time": "2021-06-20T20:13:12.210597",
     "status": "completed"
    },
    "tags": []
   },
   "outputs": [],
   "source": []
  }
 ],
 "metadata": {
  "kernelspec": {
   "display_name": "Python 3",
   "language": "python",
   "name": "python3"
  },
  "language_info": {
   "codemirror_mode": {
    "name": "ipython",
    "version": 3
   },
   "file_extension": ".py",
   "mimetype": "text/x-python",
   "name": "python",
   "nbconvert_exporter": "python",
   "pygments_lexer": "ipython3",
   "version": "3.8.8"
  },
  "papermill": {
   "default_parameters": {},
   "duration": 15319.269788,
   "end_time": "2021-06-20T20:13:15.753782",
   "environment_variables": {},
   "exception": null,
   "input_path": "__notebook__.ipynb",
   "output_path": "__notebook__.ipynb",
   "parameters": {},
   "start_time": "2021-06-20T15:57:56.483994",
   "version": "2.3.3"
  }
 },
 "nbformat": 4,
 "nbformat_minor": 5
}
