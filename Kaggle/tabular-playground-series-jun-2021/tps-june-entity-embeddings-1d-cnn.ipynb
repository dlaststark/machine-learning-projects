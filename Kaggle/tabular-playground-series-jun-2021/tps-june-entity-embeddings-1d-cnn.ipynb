{
 "cells": [
  {
   "cell_type": "markdown",
   "id": "opposite-adams",
   "metadata": {
    "papermill": {
     "duration": 0.010052,
     "end_time": "2021-06-08T11:59:11.591408",
     "exception": false,
     "start_time": "2021-06-08T11:59:11.581356",
     "status": "completed"
    },
    "tags": []
   },
   "source": [
    "## Import libraries"
   ]
  },
  {
   "cell_type": "code",
   "execution_count": 1,
   "id": "actual-waste",
   "metadata": {
    "execution": {
     "iopub.execute_input": "2021-06-08T11:59:11.620902Z",
     "iopub.status.busy": "2021-06-08T11:59:11.620255Z",
     "iopub.status.idle": "2021-06-08T11:59:16.749310Z",
     "shell.execute_reply": "2021-06-08T11:59:16.748731Z",
     "shell.execute_reply.started": "2021-06-08T10:47:50.704169Z"
    },
    "papermill": {
     "duration": 5.149024,
     "end_time": "2021-06-08T11:59:16.749503",
     "exception": false,
     "start_time": "2021-06-08T11:59:11.600479",
     "status": "completed"
    },
    "tags": []
   },
   "outputs": [],
   "source": [
    "import gc\n",
    "import pickle\n",
    "import numpy as np\n",
    "import pandas as pd\n",
    "from sklearn.metrics import log_loss\n",
    "from sklearn.model_selection import StratifiedKFold\n",
    "\n",
    "from tensorflow.keras.regularizers import l2\n",
    "from tensorflow.keras.models import Model, load_model\n",
    "from tensorflow.keras.callbacks import EarlyStopping\n",
    "from tensorflow.keras.callbacks import ModelCheckpoint\n",
    "from tensorflow.keras.callbacks import ReduceLROnPlateau\n",
    "from tensorflow_addons.optimizers import AdamW, Lookahead\n",
    "from tensorflow.keras.layers import Concatenate, Add\n",
    "from tensorflow.keras.layers import Activation, Input\n",
    "from tensorflow.keras.layers import Embedding, Conv1D\n",
    "from tensorflow.keras.layers import BatchNormalization\n",
    "from tensorflow.keras.layers import Flatten, Dense, Dropout"
   ]
  },
  {
   "cell_type": "markdown",
   "id": "innocent-singer",
   "metadata": {
    "papermill": {
     "duration": 0.008933,
     "end_time": "2021-06-08T11:59:16.767990",
     "exception": false,
     "start_time": "2021-06-08T11:59:16.759057",
     "status": "completed"
    },
    "tags": []
   },
   "source": [
    "## Prepare data for model training"
   ]
  },
  {
   "cell_type": "code",
   "execution_count": 2,
   "id": "introductory-clearing",
   "metadata": {
    "execution": {
     "iopub.execute_input": "2021-06-08T11:59:16.790178Z",
     "iopub.status.busy": "2021-06-08T11:59:16.789638Z",
     "iopub.status.idle": "2021-06-08T11:59:18.440684Z",
     "shell.execute_reply": "2021-06-08T11:59:18.439877Z",
     "shell.execute_reply.started": "2021-06-08T11:06:44.707090Z"
    },
    "papermill": {
     "duration": 1.663932,
     "end_time": "2021-06-08T11:59:18.440842",
     "exception": false,
     "start_time": "2021-06-08T11:59:16.776910",
     "status": "completed"
    },
    "tags": []
   },
   "outputs": [
    {
     "data": {
      "text/plain": [
       "42"
      ]
     },
     "execution_count": 2,
     "metadata": {},
     "output_type": "execute_result"
    }
   ],
   "source": [
    "with open(\"../input/tps-june-data-preprocess/TPS_June_Dataset_Set1.txt\", 'rb') as handle: \n",
    "    data = handle.read()\n",
    "\n",
    "processed_data = pickle.loads(data)\n",
    "train_df = processed_data['train_df']\n",
    "test_df = processed_data['test_df']\n",
    "\n",
    "col_list = test_df.columns.to_list()\n",
    "\n",
    "del processed_data\n",
    "gc.collect()"
   ]
  },
  {
   "cell_type": "code",
   "execution_count": 3,
   "id": "typical-moses",
   "metadata": {
    "execution": {
     "iopub.execute_input": "2021-06-08T11:59:18.467032Z",
     "iopub.status.busy": "2021-06-08T11:59:18.465914Z",
     "iopub.status.idle": "2021-06-08T11:59:18.812527Z",
     "shell.execute_reply": "2021-06-08T11:59:18.812931Z",
     "shell.execute_reply.started": "2021-06-08T11:06:45.439473Z"
    },
    "papermill": {
     "duration": 0.361979,
     "end_time": "2021-06-08T11:59:18.813074",
     "exception": false,
     "start_time": "2021-06-08T11:59:18.451095",
     "status": "completed"
    },
    "tags": []
   },
   "outputs": [
    {
     "name": "stdout",
     "output_type": "stream",
     "text": [
      "Xtrain: (200000, 75) \n",
      "Ytrain: (200000,) \n",
      "Ytrain_oh: (200000, 9) \n",
      "Xtest: (100000, 75)\n"
     ]
    },
    {
     "data": {
      "text/plain": [
       "0"
      ]
     },
     "execution_count": 3,
     "metadata": {},
     "output_type": "execute_result"
    }
   ],
   "source": [
    "Xtrain = train_df.loc[:, train_df.columns != 'target'].copy()\n",
    "Ytrain = train_df['target'].copy()\n",
    "Ytrain_oh = pd.get_dummies(train_df['target']).copy()\n",
    "Xtest = test_df.copy()\n",
    "\n",
    "print(\"Xtrain: {} \\nYtrain: {} \\nYtrain_oh: {} \\nXtest: {}\".format(Xtrain.shape, Ytrain.shape, \n",
    "                                                                   Ytrain_oh.shape, Xtest.shape))\n",
    "\n",
    "del train_df\n",
    "del test_df\n",
    "gc.collect()"
   ]
  },
  {
   "cell_type": "markdown",
   "id": "criminal-emerald",
   "metadata": {
    "papermill": {
     "duration": 0.009689,
     "end_time": "2021-06-08T11:59:18.832587",
     "exception": false,
     "start_time": "2021-06-08T11:59:18.822898",
     "status": "completed"
    },
    "tags": []
   },
   "source": [
    "## Build the model"
   ]
  },
  {
   "cell_type": "code",
   "execution_count": 4,
   "id": "portuguese-plant",
   "metadata": {
    "execution": {
     "iopub.execute_input": "2021-06-08T11:59:18.861252Z",
     "iopub.status.busy": "2021-06-08T11:59:18.860761Z",
     "iopub.status.idle": "2021-06-08T11:59:18.864391Z",
     "shell.execute_reply": "2021-06-08T11:59:18.864008Z",
     "shell.execute_reply.started": "2021-06-08T11:39:49.010764Z"
    },
    "papermill": {
     "duration": 0.022206,
     "end_time": "2021-06-08T11:59:18.864512",
     "exception": false,
     "start_time": "2021-06-08T11:59:18.842306",
     "status": "completed"
    },
    "tags": []
   },
   "outputs": [],
   "source": [
    "def dnn_model(n_features):\n",
    "    \n",
    "    x_input = Input(shape=(n_features,))\n",
    "    \n",
    "    x = Embedding(512, 32)(x_input)\n",
    "    \n",
    "    x = Conv1D(filters=64, kernel_size=3, \n",
    "               strides=2, padding='same', \n",
    "               kernel_regularizer=l2(0.0003),\n",
    "               kernel_initializer='he_uniform')(x)\n",
    "    x = BatchNormalization()(x)\n",
    "    x = Activation('swish')(x)\n",
    "    \n",
    "    x = Conv1D(filters=96, kernel_size=3, \n",
    "               strides=2, padding='same', \n",
    "               kernel_regularizer=l2(0.0003),\n",
    "               kernel_initializer='he_uniform')(x)\n",
    "    x = BatchNormalization()(x)\n",
    "    x = Activation('swish')(x)\n",
    "    \n",
    "    x = Flatten()(x)\n",
    "    x = BatchNormalization()(x)\n",
    "    x = Dropout(rate=0.15)(x)\n",
    "    \n",
    "    x = Dense(units=32, kernel_initializer='he_uniform', \n",
    "                kernel_regularizer=l2(0.0001))(x)\n",
    "    x = BatchNormalization()(x)\n",
    "    x = Activation('swish')(x)\n",
    "    x = Dropout(rate=0.2)(x)\n",
    "    \n",
    "    x = Dense(units=16, kernel_initializer='he_uniform', \n",
    "                kernel_regularizer=l2(0.0001))(x)\n",
    "    x = BatchNormalization()(x)\n",
    "    x = Activation('swish')(x)\n",
    "    x = Dropout(rate=0.1)(x)\n",
    "\n",
    "    x_output = Dense(units=9, activation='softmax', \n",
    "                     kernel_initializer='he_uniform')(x)\n",
    "\n",
    "    model = Model(inputs=x_input, outputs=x_output, \n",
    "                  name='DNN_Model')\n",
    "    return model"
   ]
  },
  {
   "cell_type": "code",
   "execution_count": 5,
   "id": "mineral-quarter",
   "metadata": {
    "execution": {
     "iopub.execute_input": "2021-06-08T11:59:18.887752Z",
     "iopub.status.busy": "2021-06-08T11:59:18.887237Z",
     "iopub.status.idle": "2021-06-08T11:59:20.875883Z",
     "shell.execute_reply": "2021-06-08T11:59:20.875463Z",
     "shell.execute_reply.started": "2021-06-08T11:28:24.159021Z"
    },
    "papermill": {
     "duration": 2.0019,
     "end_time": "2021-06-08T11:59:20.876005",
     "exception": false,
     "start_time": "2021-06-08T11:59:18.874105",
     "status": "completed"
    },
    "tags": []
   },
   "outputs": [
    {
     "name": "stdout",
     "output_type": "stream",
     "text": [
      "Model: \"DNN_Model\"\n",
      "_________________________________________________________________\n",
      "Layer (type)                 Output Shape              Param #   \n",
      "=================================================================\n",
      "input_1 (InputLayer)         [(None, 75)]              0         \n",
      "_________________________________________________________________\n",
      "embedding (Embedding)        (None, 75, 32)            16384     \n",
      "_________________________________________________________________\n",
      "conv1d (Conv1D)              (None, 38, 64)            6208      \n",
      "_________________________________________________________________\n",
      "batch_normalization (BatchNo (None, 38, 64)            256       \n",
      "_________________________________________________________________\n",
      "activation (Activation)      (None, 38, 64)            0         \n",
      "_________________________________________________________________\n",
      "conv1d_1 (Conv1D)            (None, 19, 96)            18528     \n",
      "_________________________________________________________________\n",
      "batch_normalization_1 (Batch (None, 19, 96)            384       \n",
      "_________________________________________________________________\n",
      "activation_1 (Activation)    (None, 19, 96)            0         \n",
      "_________________________________________________________________\n",
      "flatten (Flatten)            (None, 1824)              0         \n",
      "_________________________________________________________________\n",
      "batch_normalization_2 (Batch (None, 1824)              7296      \n",
      "_________________________________________________________________\n",
      "dropout (Dropout)            (None, 1824)              0         \n",
      "_________________________________________________________________\n",
      "dense (Dense)                (None, 32)                58400     \n",
      "_________________________________________________________________\n",
      "batch_normalization_3 (Batch (None, 32)                128       \n",
      "_________________________________________________________________\n",
      "activation_2 (Activation)    (None, 32)                0         \n",
      "_________________________________________________________________\n",
      "dropout_1 (Dropout)          (None, 32)                0         \n",
      "_________________________________________________________________\n",
      "dense_1 (Dense)              (None, 16)                528       \n",
      "_________________________________________________________________\n",
      "batch_normalization_4 (Batch (None, 16)                64        \n",
      "_________________________________________________________________\n",
      "activation_3 (Activation)    (None, 16)                0         \n",
      "_________________________________________________________________\n",
      "dropout_2 (Dropout)          (None, 16)                0         \n",
      "_________________________________________________________________\n",
      "dense_2 (Dense)              (None, 9)                 153       \n",
      "=================================================================\n",
      "Total params: 108,329\n",
      "Trainable params: 104,265\n",
      "Non-trainable params: 4,064\n",
      "_________________________________________________________________\n"
     ]
    }
   ],
   "source": [
    "model = dnn_model(Xtrain.shape[1])\n",
    "model.compile(loss='categorical_crossentropy',\n",
    "              optimizer=Lookahead(AdamW(lr=1e-2, \n",
    "                                        weight_decay=1e-5, \n",
    "                                        clipvalue=700), \n",
    "                                  sync_period=10))\n",
    "model.summary()"
   ]
  },
  {
   "cell_type": "code",
   "execution_count": 6,
   "id": "accepted-revelation",
   "metadata": {
    "execution": {
     "iopub.execute_input": "2021-06-08T11:59:20.909556Z",
     "iopub.status.busy": "2021-06-08T11:59:20.908724Z",
     "iopub.status.idle": "2021-06-08T16:39:11.788799Z",
     "shell.execute_reply": "2021-06-08T16:39:11.789526Z",
     "shell.execute_reply.started": "2021-06-08T11:39:51.344554Z"
    },
    "papermill": {
     "duration": 16790.903517,
     "end_time": "2021-06-08T16:39:11.789785",
     "exception": false,
     "start_time": "2021-06-08T11:59:20.886268",
     "status": "completed"
    },
    "tags": []
   },
   "outputs": [
    {
     "name": "stdout",
     "output_type": "stream",
     "text": [
      "Seed-24 | Fold-0 | OOF Score: 1.745411545256432\n",
      "Seed-24 | Fold-1 | OOF Score: 1.7447170224899893\n",
      "Seed-24 | Fold-2 | OOF Score: 1.7426175617660862\n",
      "Seed-24 | Fold-3 | OOF Score: 1.7467244232651777\n",
      "Seed-24 | Fold-4 | OOF Score: 1.7395248644541483\n",
      "Seed-24 | Fold-5 | OOF Score: 1.7405364717219955\n",
      "Seed-24 | Fold-6 | OOF Score: 1.7413497349957003\n",
      "Seed-24 | Fold-7 | OOF Score: 1.7434011591174174\n",
      "Seed-24 | Fold-8 | OOF Score: 1.743254952630587\n",
      "Seed-24 | Fold-9 | OOF Score: 1.7464197778678034\n",
      "\n",
      "Seed: 24 | Aggregate OOF Score: 1.743395751356534\n",
      "\n",
      "\n",
      "Seed-3 | Fold-0 | OOF Score: 1.752987381762825\n",
      "Seed-3 | Fold-1 | OOF Score: 1.7394856353411452\n",
      "Seed-3 | Fold-2 | OOF Score: 1.742551665415708\n",
      "Seed-3 | Fold-3 | OOF Score: 1.746928280158993\n",
      "Seed-3 | Fold-4 | OOF Score: 1.7492070696601645\n",
      "Seed-3 | Fold-5 | OOF Score: 1.73846428587439\n",
      "Seed-3 | Fold-6 | OOF Score: 1.7422300477524755\n",
      "Seed-3 | Fold-7 | OOF Score: 1.7388758250739424\n",
      "Seed-3 | Fold-8 | OOF Score: 1.745873169744201\n",
      "Seed-3 | Fold-9 | OOF Score: 1.73540845869272\n",
      "\n",
      "Seed: 3 | Aggregate OOF Score: 1.743201181947656\n",
      "\n",
      "\n",
      "Seed-56 | Fold-0 | OOF Score: 1.7387746778929607\n",
      "Seed-56 | Fold-1 | OOF Score: 1.742277858415665\n",
      "Seed-56 | Fold-2 | OOF Score: 1.7448734852345196\n",
      "Seed-56 | Fold-3 | OOF Score: 1.7451845662243664\n",
      "Seed-56 | Fold-4 | OOF Score: 1.7359519351339667\n",
      "Seed-56 | Fold-5 | OOF Score: 1.7425302000262308\n",
      "Seed-56 | Fold-6 | OOF Score: 1.7439272484817077\n",
      "Seed-56 | Fold-7 | OOF Score: 1.7536159766829573\n",
      "Seed-56 | Fold-8 | OOF Score: 1.740709126577666\n",
      "Seed-56 | Fold-9 | OOF Score: 1.7428608034227975\n",
      "\n",
      "Seed: 56 | Aggregate OOF Score: 1.7430705878092838\n",
      "\n",
      "\n",
      "Aggregate OOF Score: 1.7432225070378249\n"
     ]
    }
   ],
   "source": [
    "FOLD = 10\n",
    "NUM_SEED = 3\n",
    "VERBOSE = 0\n",
    "\n",
    "np.random.seed(3)\n",
    "seeds = np.random.randint(0, 100, size=NUM_SEED)\n",
    "\n",
    "oof_score = 0\n",
    "y_pred_meta_dnn = np.zeros((Xtrain.shape[0], 9))\n",
    "y_pred_final_dnn = np.zeros((Xtest.shape[0], 9))\n",
    "counter = 0\n",
    "mini_batch_size = 128\n",
    "\n",
    "\n",
    "for sidx, seed in enumerate(seeds):\n",
    "    seed_score = 0\n",
    "    \n",
    "    kfold = StratifiedKFold(n_splits=FOLD, shuffle=True, random_state=seed)\n",
    "\n",
    "    for idx, (train, val) in enumerate(kfold.split(Xtrain, Ytrain)):\n",
    "        counter += 1\n",
    "\n",
    "        train_x, train_y, train_y_oh = Xtrain.iloc[train], Ytrain.iloc[train], Ytrain_oh.iloc[train]\n",
    "        val_x, val_y, val_y_oh = Xtrain.iloc[val], Ytrain.iloc[val], Ytrain_oh.iloc[val]\n",
    "\n",
    "        model = dnn_model(Xtrain.shape[1])\n",
    "        model.compile(loss='categorical_crossentropy',\n",
    "                      optimizer=Lookahead(AdamW(lr=1e-2, \n",
    "                                                weight_decay=1e-5, \n",
    "                                                clipvalue=700), \n",
    "                                          sync_period=10))\n",
    "\n",
    "        early = EarlyStopping(monitor=\"val_loss\", mode=\"min\", \n",
    "                              restore_best_weights=True, \n",
    "                              patience=7, verbose=VERBOSE)\n",
    "\n",
    "        reduce_lr = ReduceLROnPlateau(monitor=\"val_loss\", factor=0.25, \n",
    "                                      min_lr=1e-6, patience=3, \n",
    "                                      verbose=VERBOSE, mode='min')\n",
    "\n",
    "        chk_point = ModelCheckpoint('./DNN_model.h5', \n",
    "                                    monitor='val_loss', verbose=VERBOSE, \n",
    "                                    save_best_only=True, mode='min')\n",
    "        \n",
    "        history = model.fit(\n",
    "            train_x, train_y_oh, \n",
    "            batch_size=mini_batch_size,\n",
    "            epochs=250, \n",
    "            verbose=VERBOSE, \n",
    "            workers=5,\n",
    "            callbacks=[reduce_lr, early, chk_point], \n",
    "            validation_data=(val_x, val_y_oh)\n",
    "        )\n",
    "        \n",
    "        model = load_model('./DNN_model.h5')\n",
    "\n",
    "        y_pred = model.predict(val_x)\n",
    "        y_pred_meta_dnn[val] += y_pred\n",
    "        y_pred_final_dnn += model.predict(Xtest)\n",
    "        \n",
    "        score = log_loss(val_y_oh, y_pred)\n",
    "        oof_score += score\n",
    "        seed_score += score\n",
    "        print(\"Seed-{} | Fold-{} | OOF Score: {}\".format(seed, idx, score))\n",
    "    \n",
    "    print(\"\\nSeed: {} | Aggregate OOF Score: {}\\n\\n\".format(seed, (seed_score / FOLD)))\n",
    "\n",
    "\n",
    "y_pred_meta_dnn = y_pred_meta_dnn / float(NUM_SEED)\n",
    "y_pred_final_dnn = y_pred_final_dnn / float(counter)\n",
    "oof_score /= float(counter)\n",
    "print(\"Aggregate OOF Score: {}\".format(oof_score))"
   ]
  },
  {
   "cell_type": "code",
   "execution_count": 7,
   "id": "sunrise-acceptance",
   "metadata": {
    "execution": {
     "iopub.execute_input": "2021-06-08T16:39:11.859140Z",
     "iopub.status.busy": "2021-06-08T16:39:11.858386Z",
     "iopub.status.idle": "2021-06-08T16:39:13.871411Z",
     "shell.execute_reply": "2021-06-08T16:39:13.870943Z"
    },
    "papermill": {
     "duration": 2.053018,
     "end_time": "2021-06-08T16:39:13.871588",
     "exception": false,
     "start_time": "2021-06-08T16:39:11.818570",
     "status": "completed"
    },
    "tags": []
   },
   "outputs": [],
   "source": [
    "np.savez_compressed('./DNN_Meta_Features.npz',\n",
    "                    y_pred_meta_dnn=y_pred_meta_dnn, \n",
    "                    oof_score=oof_score,\n",
    "                    y_pred_final_dnn=y_pred_final_dnn)"
   ]
  },
  {
   "cell_type": "markdown",
   "id": "unnecessary-petroleum",
   "metadata": {
    "papermill": {
     "duration": 0.017578,
     "end_time": "2021-06-08T16:39:13.907369",
     "exception": false,
     "start_time": "2021-06-08T16:39:13.889791",
     "status": "completed"
    },
    "tags": []
   },
   "source": [
    "## Create submission file"
   ]
  },
  {
   "cell_type": "code",
   "execution_count": 8,
   "id": "hundred-hampton",
   "metadata": {
    "execution": {
     "iopub.execute_input": "2021-06-08T16:39:13.951983Z",
     "iopub.status.busy": "2021-06-08T16:39:13.951457Z",
     "iopub.status.idle": "2021-06-08T16:39:14.435454Z",
     "shell.execute_reply": "2021-06-08T16:39:14.434601Z"
    },
    "papermill": {
     "duration": 0.510775,
     "end_time": "2021-06-08T16:39:14.435592",
     "exception": false,
     "start_time": "2021-06-08T16:39:13.924817",
     "status": "completed"
    },
    "tags": []
   },
   "outputs": [
    {
     "data": {
      "text/html": [
       "<div>\n",
       "<style scoped>\n",
       "    .dataframe tbody tr th:only-of-type {\n",
       "        vertical-align: middle;\n",
       "    }\n",
       "\n",
       "    .dataframe tbody tr th {\n",
       "        vertical-align: top;\n",
       "    }\n",
       "\n",
       "    .dataframe thead th {\n",
       "        text-align: right;\n",
       "    }\n",
       "</style>\n",
       "<table border=\"1\" class=\"dataframe\">\n",
       "  <thead>\n",
       "    <tr style=\"text-align: right;\">\n",
       "      <th></th>\n",
       "      <th>id</th>\n",
       "      <th>Class_1</th>\n",
       "      <th>Class_2</th>\n",
       "      <th>Class_3</th>\n",
       "      <th>Class_4</th>\n",
       "      <th>Class_5</th>\n",
       "      <th>Class_6</th>\n",
       "      <th>Class_7</th>\n",
       "      <th>Class_8</th>\n",
       "      <th>Class_9</th>\n",
       "    </tr>\n",
       "  </thead>\n",
       "  <tbody>\n",
       "    <tr>\n",
       "      <th>0</th>\n",
       "      <td>200000</td>\n",
       "      <td>0.064162</td>\n",
       "      <td>0.392750</td>\n",
       "      <td>0.152761</td>\n",
       "      <td>0.027778</td>\n",
       "      <td>0.013738</td>\n",
       "      <td>0.159395</td>\n",
       "      <td>0.022114</td>\n",
       "      <td>0.045383</td>\n",
       "      <td>0.121919</td>\n",
       "    </tr>\n",
       "    <tr>\n",
       "      <th>1</th>\n",
       "      <td>200001</td>\n",
       "      <td>0.043371</td>\n",
       "      <td>0.069697</td>\n",
       "      <td>0.053390</td>\n",
       "      <td>0.022357</td>\n",
       "      <td>0.015213</td>\n",
       "      <td>0.284926</td>\n",
       "      <td>0.082513</td>\n",
       "      <td>0.298607</td>\n",
       "      <td>0.129925</td>\n",
       "    </tr>\n",
       "    <tr>\n",
       "      <th>2</th>\n",
       "      <td>200002</td>\n",
       "      <td>0.021718</td>\n",
       "      <td>0.031089</td>\n",
       "      <td>0.022415</td>\n",
       "      <td>0.010352</td>\n",
       "      <td>0.006404</td>\n",
       "      <td>0.709791</td>\n",
       "      <td>0.029036</td>\n",
       "      <td>0.116828</td>\n",
       "      <td>0.052366</td>\n",
       "    </tr>\n",
       "    <tr>\n",
       "      <th>3</th>\n",
       "      <td>200003</td>\n",
       "      <td>0.049064</td>\n",
       "      <td>0.136290</td>\n",
       "      <td>0.094643</td>\n",
       "      <td>0.031516</td>\n",
       "      <td>0.019839</td>\n",
       "      <td>0.215220</td>\n",
       "      <td>0.076603</td>\n",
       "      <td>0.215464</td>\n",
       "      <td>0.161361</td>\n",
       "    </tr>\n",
       "    <tr>\n",
       "      <th>4</th>\n",
       "      <td>200004</td>\n",
       "      <td>0.045715</td>\n",
       "      <td>0.118192</td>\n",
       "      <td>0.082658</td>\n",
       "      <td>0.028216</td>\n",
       "      <td>0.017646</td>\n",
       "      <td>0.270401</td>\n",
       "      <td>0.072014</td>\n",
       "      <td>0.216537</td>\n",
       "      <td>0.148621</td>\n",
       "    </tr>\n",
       "  </tbody>\n",
       "</table>\n",
       "</div>"
      ],
      "text/plain": [
       "       id   Class_1   Class_2   Class_3   Class_4   Class_5   Class_6  \\\n",
       "0  200000  0.064162  0.392750  0.152761  0.027778  0.013738  0.159395   \n",
       "1  200001  0.043371  0.069697  0.053390  0.022357  0.015213  0.284926   \n",
       "2  200002  0.021718  0.031089  0.022415  0.010352  0.006404  0.709791   \n",
       "3  200003  0.049064  0.136290  0.094643  0.031516  0.019839  0.215220   \n",
       "4  200004  0.045715  0.118192  0.082658  0.028216  0.017646  0.270401   \n",
       "\n",
       "    Class_7   Class_8   Class_9  \n",
       "0  0.022114  0.045383  0.121919  \n",
       "1  0.082513  0.298607  0.129925  \n",
       "2  0.029036  0.116828  0.052366  \n",
       "3  0.076603  0.215464  0.161361  \n",
       "4  0.072014  0.216537  0.148621  "
      ]
     },
     "execution_count": 8,
     "metadata": {},
     "output_type": "execute_result"
    }
   ],
   "source": [
    "test_df = pd.read_csv(\"../input/tabular-playground-series-jun-2021/test.csv\")\n",
    "submit_df = pd.DataFrame()\n",
    "submit_df['id'] = test_df['id']\n",
    "submit_df['Class_1'] = y_pred_final_dnn[:,1]\n",
    "submit_df['Class_2'] = y_pred_final_dnn[:,2]\n",
    "submit_df['Class_3'] = y_pred_final_dnn[:,3]\n",
    "submit_df['Class_4'] = y_pred_final_dnn[:,4]\n",
    "submit_df['Class_5'] = y_pred_final_dnn[:,5]\n",
    "submit_df['Class_6'] = y_pred_final_dnn[:,6]\n",
    "submit_df['Class_7'] = y_pred_final_dnn[:,7]\n",
    "submit_df['Class_8'] = y_pred_final_dnn[:,8]\n",
    "submit_df['Class_9'] = y_pred_final_dnn[:,0]\n",
    "submit_df.head()"
   ]
  },
  {
   "cell_type": "code",
   "execution_count": 9,
   "id": "false-worse",
   "metadata": {
    "execution": {
     "iopub.execute_input": "2021-06-08T16:39:14.478149Z",
     "iopub.status.busy": "2021-06-08T16:39:14.477410Z",
     "iopub.status.idle": "2021-06-08T16:39:16.457996Z",
     "shell.execute_reply": "2021-06-08T16:39:16.457104Z"
    },
    "papermill": {
     "duration": 2.002481,
     "end_time": "2021-06-08T16:39:16.458150",
     "exception": false,
     "start_time": "2021-06-08T16:39:14.455669",
     "status": "completed"
    },
    "tags": []
   },
   "outputs": [],
   "source": [
    "submit_df.to_csv(\"./DNN_submission.csv\", index=False)"
   ]
  },
  {
   "cell_type": "code",
   "execution_count": null,
   "id": "curious-minneapolis",
   "metadata": {
    "papermill": {
     "duration": 0.018306,
     "end_time": "2021-06-08T16:39:16.495209",
     "exception": false,
     "start_time": "2021-06-08T16:39:16.476903",
     "status": "completed"
    },
    "tags": []
   },
   "outputs": [],
   "source": []
  }
 ],
 "metadata": {
  "kernelspec": {
   "display_name": "Python 3",
   "language": "python",
   "name": "python3"
  },
  "language_info": {
   "codemirror_mode": {
    "name": "ipython",
    "version": 3
   },
   "file_extension": ".py",
   "mimetype": "text/x-python",
   "name": "python",
   "nbconvert_exporter": "python",
   "pygments_lexer": "ipython3",
   "version": "3.7.10"
  },
  "papermill": {
   "default_parameters": {},
   "duration": 16814.722388,
   "end_time": "2021-06-08T16:39:19.870782",
   "environment_variables": {},
   "exception": null,
   "input_path": "__notebook__.ipynb",
   "output_path": "__notebook__.ipynb",
   "parameters": {},
   "start_time": "2021-06-08T11:59:05.148394",
   "version": "2.3.3"
  }
 },
 "nbformat": 4,
 "nbformat_minor": 5
}
