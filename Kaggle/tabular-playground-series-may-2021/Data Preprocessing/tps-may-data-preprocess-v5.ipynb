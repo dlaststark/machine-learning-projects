{
 "cells": [
  {
   "cell_type": "markdown",
   "id": "5d5838ea",
   "metadata": {
    "papermill": {
     "duration": 0.015772,
     "end_time": "2021-05-18T07:19:19.182819",
     "exception": false,
     "start_time": "2021-05-18T07:19:19.167047",
     "status": "completed"
    },
    "tags": []
   },
   "source": [
    "## Import libraries"
   ]
  },
  {
   "cell_type": "code",
   "execution_count": 1,
   "id": "13c7709f",
   "metadata": {
    "execution": {
     "iopub.execute_input": "2021-05-18T07:19:19.224570Z",
     "iopub.status.busy": "2021-05-18T07:19:19.223853Z",
     "iopub.status.idle": "2021-05-18T07:19:20.719746Z",
     "shell.execute_reply": "2021-05-18T07:19:20.718757Z"
    },
    "papermill": {
     "duration": 1.522029,
     "end_time": "2021-05-18T07:19:20.719951",
     "exception": false,
     "start_time": "2021-05-18T07:19:19.197922",
     "status": "completed"
    },
    "tags": []
   },
   "outputs": [],
   "source": [
    "import pickle\n",
    "import numpy as np\n",
    "import pandas as pd\n",
    "import seaborn as sns\n",
    "import matplotlib.pyplot as plt\n",
    "from sklearn.cluster import KMeans\n",
    "from sklearn.decomposition import PCA"
   ]
  },
  {
   "cell_type": "markdown",
   "id": "9e074b95",
   "metadata": {
    "papermill": {
     "duration": 0.014523,
     "end_time": "2021-05-18T07:19:20.749735",
     "exception": false,
     "start_time": "2021-05-18T07:19:20.735212",
     "status": "completed"
    },
    "tags": []
   },
   "source": [
    "## Load source datasets"
   ]
  },
  {
   "cell_type": "code",
   "execution_count": 2,
   "id": "e3fb95b5",
   "metadata": {
    "execution": {
     "iopub.execute_input": "2021-05-18T07:19:20.785587Z",
     "iopub.status.busy": "2021-05-18T07:19:20.784924Z",
     "iopub.status.idle": "2021-05-18T07:19:21.474103Z",
     "shell.execute_reply": "2021-05-18T07:19:21.473462Z"
    },
    "papermill": {
     "duration": 0.709636,
     "end_time": "2021-05-18T07:19:21.474266",
     "exception": false,
     "start_time": "2021-05-18T07:19:20.764630",
     "status": "completed"
    },
    "tags": []
   },
   "outputs": [
    {
     "name": "stdout",
     "output_type": "stream",
     "text": [
      "train_df: (100000, 52) \n",
      "test_df: (50000, 51)\n"
     ]
    }
   ],
   "source": [
    "train_df = pd.read_csv(\"../input/tabular-playground-series-may-2021/train.csv\")\n",
    "test_df = pd.read_csv(\"../input/tabular-playground-series-may-2021/test.csv\")\n",
    "print(\"train_df: {} \\ntest_df: {}\".format(train_df.shape, test_df.shape))"
   ]
  },
  {
   "cell_type": "code",
   "execution_count": 3,
   "id": "92df7271",
   "metadata": {
    "execution": {
     "iopub.execute_input": "2021-05-18T07:19:21.518786Z",
     "iopub.status.busy": "2021-05-18T07:19:21.518091Z",
     "iopub.status.idle": "2021-05-18T07:19:21.576120Z",
     "shell.execute_reply": "2021-05-18T07:19:21.576673Z"
    },
    "papermill": {
     "duration": 0.08688,
     "end_time": "2021-05-18T07:19:21.576848",
     "exception": false,
     "start_time": "2021-05-18T07:19:21.489968",
     "status": "completed"
    },
    "tags": []
   },
   "outputs": [
    {
     "data": {
      "text/html": [
       "<div>\n",
       "<style scoped>\n",
       "    .dataframe tbody tr th:only-of-type {\n",
       "        vertical-align: middle;\n",
       "    }\n",
       "\n",
       "    .dataframe tbody tr th {\n",
       "        vertical-align: top;\n",
       "    }\n",
       "\n",
       "    .dataframe thead th {\n",
       "        text-align: right;\n",
       "    }\n",
       "</style>\n",
       "<table border=\"1\" class=\"dataframe\">\n",
       "  <thead>\n",
       "    <tr style=\"text-align: right;\">\n",
       "      <th></th>\n",
       "      <th>feature_0</th>\n",
       "      <th>feature_1</th>\n",
       "      <th>feature_2</th>\n",
       "      <th>feature_3</th>\n",
       "      <th>feature_4</th>\n",
       "      <th>feature_5</th>\n",
       "      <th>feature_6</th>\n",
       "      <th>feature_7</th>\n",
       "      <th>feature_8</th>\n",
       "      <th>feature_9</th>\n",
       "      <th>...</th>\n",
       "      <th>feature_41</th>\n",
       "      <th>feature_42</th>\n",
       "      <th>feature_43</th>\n",
       "      <th>feature_44</th>\n",
       "      <th>feature_45</th>\n",
       "      <th>feature_46</th>\n",
       "      <th>feature_47</th>\n",
       "      <th>feature_48</th>\n",
       "      <th>feature_49</th>\n",
       "      <th>target</th>\n",
       "    </tr>\n",
       "    <tr>\n",
       "      <th>id</th>\n",
       "      <th></th>\n",
       "      <th></th>\n",
       "      <th></th>\n",
       "      <th></th>\n",
       "      <th></th>\n",
       "      <th></th>\n",
       "      <th></th>\n",
       "      <th></th>\n",
       "      <th></th>\n",
       "      <th></th>\n",
       "      <th></th>\n",
       "      <th></th>\n",
       "      <th></th>\n",
       "      <th></th>\n",
       "      <th></th>\n",
       "      <th></th>\n",
       "      <th></th>\n",
       "      <th></th>\n",
       "      <th></th>\n",
       "      <th></th>\n",
       "      <th></th>\n",
       "    </tr>\n",
       "  </thead>\n",
       "  <tbody>\n",
       "    <tr>\n",
       "      <th>0</th>\n",
       "      <td>0</td>\n",
       "      <td>0</td>\n",
       "      <td>1</td>\n",
       "      <td>0</td>\n",
       "      <td>1</td>\n",
       "      <td>0</td>\n",
       "      <td>0</td>\n",
       "      <td>0</td>\n",
       "      <td>0</td>\n",
       "      <td>0</td>\n",
       "      <td>...</td>\n",
       "      <td>0</td>\n",
       "      <td>0</td>\n",
       "      <td>21</td>\n",
       "      <td>0</td>\n",
       "      <td>0</td>\n",
       "      <td>0</td>\n",
       "      <td>0</td>\n",
       "      <td>0</td>\n",
       "      <td>0</td>\n",
       "      <td>Class_2</td>\n",
       "    </tr>\n",
       "    <tr>\n",
       "      <th>1</th>\n",
       "      <td>0</td>\n",
       "      <td>0</td>\n",
       "      <td>0</td>\n",
       "      <td>0</td>\n",
       "      <td>2</td>\n",
       "      <td>1</td>\n",
       "      <td>0</td>\n",
       "      <td>0</td>\n",
       "      <td>0</td>\n",
       "      <td>0</td>\n",
       "      <td>...</td>\n",
       "      <td>0</td>\n",
       "      <td>0</td>\n",
       "      <td>0</td>\n",
       "      <td>0</td>\n",
       "      <td>0</td>\n",
       "      <td>0</td>\n",
       "      <td>0</td>\n",
       "      <td>0</td>\n",
       "      <td>0</td>\n",
       "      <td>Class_1</td>\n",
       "    </tr>\n",
       "    <tr>\n",
       "      <th>2</th>\n",
       "      <td>0</td>\n",
       "      <td>0</td>\n",
       "      <td>0</td>\n",
       "      <td>0</td>\n",
       "      <td>0</td>\n",
       "      <td>0</td>\n",
       "      <td>0</td>\n",
       "      <td>0</td>\n",
       "      <td>0</td>\n",
       "      <td>2</td>\n",
       "      <td>...</td>\n",
       "      <td>0</td>\n",
       "      <td>1</td>\n",
       "      <td>0</td>\n",
       "      <td>0</td>\n",
       "      <td>0</td>\n",
       "      <td>0</td>\n",
       "      <td>13</td>\n",
       "      <td>2</td>\n",
       "      <td>0</td>\n",
       "      <td>Class_1</td>\n",
       "    </tr>\n",
       "    <tr>\n",
       "      <th>3</th>\n",
       "      <td>0</td>\n",
       "      <td>0</td>\n",
       "      <td>0</td>\n",
       "      <td>0</td>\n",
       "      <td>0</td>\n",
       "      <td>0</td>\n",
       "      <td>0</td>\n",
       "      <td>3</td>\n",
       "      <td>0</td>\n",
       "      <td>0</td>\n",
       "      <td>...</td>\n",
       "      <td>0</td>\n",
       "      <td>0</td>\n",
       "      <td>0</td>\n",
       "      <td>0</td>\n",
       "      <td>0</td>\n",
       "      <td>0</td>\n",
       "      <td>0</td>\n",
       "      <td>1</td>\n",
       "      <td>0</td>\n",
       "      <td>Class_4</td>\n",
       "    </tr>\n",
       "    <tr>\n",
       "      <th>4</th>\n",
       "      <td>0</td>\n",
       "      <td>0</td>\n",
       "      <td>0</td>\n",
       "      <td>0</td>\n",
       "      <td>0</td>\n",
       "      <td>0</td>\n",
       "      <td>0</td>\n",
       "      <td>0</td>\n",
       "      <td>0</td>\n",
       "      <td>0</td>\n",
       "      <td>...</td>\n",
       "      <td>0</td>\n",
       "      <td>0</td>\n",
       "      <td>0</td>\n",
       "      <td>0</td>\n",
       "      <td>0</td>\n",
       "      <td>0</td>\n",
       "      <td>0</td>\n",
       "      <td>1</td>\n",
       "      <td>0</td>\n",
       "      <td>Class_2</td>\n",
       "    </tr>\n",
       "  </tbody>\n",
       "</table>\n",
       "<p>5 rows × 51 columns</p>\n",
       "</div>"
      ],
      "text/plain": [
       "    feature_0  feature_1  feature_2  feature_3  feature_4  feature_5  \\\n",
       "id                                                                     \n",
       "0           0          0          1          0          1          0   \n",
       "1           0          0          0          0          2          1   \n",
       "2           0          0          0          0          0          0   \n",
       "3           0          0          0          0          0          0   \n",
       "4           0          0          0          0          0          0   \n",
       "\n",
       "    feature_6  feature_7  feature_8  feature_9  ...  feature_41  feature_42  \\\n",
       "id                                              ...                           \n",
       "0           0          0          0          0  ...           0           0   \n",
       "1           0          0          0          0  ...           0           0   \n",
       "2           0          0          0          2  ...           0           1   \n",
       "3           0          3          0          0  ...           0           0   \n",
       "4           0          0          0          0  ...           0           0   \n",
       "\n",
       "    feature_43  feature_44  feature_45  feature_46  feature_47  feature_48  \\\n",
       "id                                                                           \n",
       "0           21           0           0           0           0           0   \n",
       "1            0           0           0           0           0           0   \n",
       "2            0           0           0           0          13           2   \n",
       "3            0           0           0           0           0           1   \n",
       "4            0           0           0           0           0           1   \n",
       "\n",
       "    feature_49   target  \n",
       "id                       \n",
       "0            0  Class_2  \n",
       "1            0  Class_1  \n",
       "2            0  Class_1  \n",
       "3            0  Class_4  \n",
       "4            0  Class_2  \n",
       "\n",
       "[5 rows x 51 columns]"
      ]
     },
     "execution_count": 3,
     "metadata": {},
     "output_type": "execute_result"
    }
   ],
   "source": [
    "train_df.set_index('id', inplace=True)\n",
    "test_df.set_index('id', inplace=True)\n",
    "train_df.head()"
   ]
  },
  {
   "cell_type": "markdown",
   "id": "4b75209a",
   "metadata": {
    "papermill": {
     "duration": 0.015553,
     "end_time": "2021-05-18T07:19:21.610031",
     "exception": false,
     "start_time": "2021-05-18T07:19:21.594478",
     "status": "completed"
    },
    "tags": []
   },
   "source": [
    "## Data Cleansing"
   ]
  },
  {
   "cell_type": "code",
   "execution_count": 4,
   "id": "dd4ab610",
   "metadata": {
    "execution": {
     "iopub.execute_input": "2021-05-18T07:19:21.645228Z",
     "iopub.status.busy": "2021-05-18T07:19:21.644540Z",
     "iopub.status.idle": "2021-05-18T07:19:21.679204Z",
     "shell.execute_reply": "2021-05-18T07:19:21.678572Z"
    },
    "papermill": {
     "duration": 0.053411,
     "end_time": "2021-05-18T07:19:21.679368",
     "exception": false,
     "start_time": "2021-05-18T07:19:21.625957",
     "status": "completed"
    },
    "tags": []
   },
   "outputs": [
    {
     "data": {
      "text/plain": [
       "(50000, 50)"
      ]
     },
     "execution_count": 4,
     "metadata": {},
     "output_type": "execute_result"
    }
   ],
   "source": [
    "test_df.loc[test_df['feature_3']==25,'feature_3']=26\n",
    "test_df.loc[test_df['feature_4']==36,'feature_4']=37\n",
    "test_df.loc[test_df['feature_21']==31,'feature_21']=36\n",
    "test_df.loc[test_df['feature_25']==24,'feature_25']=23\n",
    "test_df.loc[test_df['feature_34']==26,'feature_34']=25\n",
    "test_df.loc[test_df['feature_49']==21,'feature_49']=20\n",
    "\n",
    "test_df.shape"
   ]
  },
  {
   "cell_type": "code",
   "execution_count": 5,
   "id": "40eb78c6",
   "metadata": {
    "execution": {
     "iopub.execute_input": "2021-05-18T07:19:21.730297Z",
     "iopub.status.busy": "2021-05-18T07:19:21.729576Z",
     "iopub.status.idle": "2021-05-18T07:19:22.487985Z",
     "shell.execute_reply": "2021-05-18T07:19:22.488489Z"
    },
    "papermill": {
     "duration": 0.792587,
     "end_time": "2021-05-18T07:19:22.488677",
     "exception": false,
     "start_time": "2021-05-18T07:19:21.696090",
     "status": "completed"
    },
    "tags": []
   },
   "outputs": [
    {
     "data": {
      "text/plain": [
       "(99918, 51)"
      ]
     },
     "execution_count": 5,
     "metadata": {},
     "output_type": "execute_result"
    }
   ],
   "source": [
    "train_df = train_df[train_df['feature_5']!=10]\n",
    "\n",
    "train_df = train_df[train_df['feature_6']!=26]\n",
    "train_df = train_df[train_df['feature_6']!=27]\n",
    "\n",
    "train_df = train_df[train_df['feature_7']!=30]\n",
    "train_df = train_df[train_df['feature_7']!=31]\n",
    "\n",
    "train_df = train_df[train_df['feature_9']!=17]\n",
    "\n",
    "train_df = train_df[train_df['feature_10']!=16]\n",
    "\n",
    "train_df = train_df[train_df['feature_11']!=12]\n",
    "\n",
    "train_df = train_df[train_df['feature_15']!=20]\n",
    "\n",
    "train_df = train_df[train_df['feature_16']!=18]\n",
    "\n",
    "train_df = train_df[train_df['feature_23']!=18]\n",
    "train_df = train_df[train_df['feature_23']!=19]\n",
    "\n",
    "train_df = train_df[train_df['feature_27']!=29]\n",
    "\n",
    "train_df = train_df[train_df['feature_28']!=23]\n",
    "\n",
    "train_df = train_df[train_df['feature_29']!=13]\n",
    "\n",
    "train_df = train_df[train_df['feature_33']!=24]\n",
    "\n",
    "train_df = train_df[train_df['feature_32']!=26]\n",
    "train_df = train_df[train_df['feature_32']!=27]\n",
    "\n",
    "train_df = train_df[train_df['feature_35']!=43]\n",
    "train_df = train_df[train_df['feature_35']!=-2]\n",
    "train_df = train_df[train_df['feature_35']!=38]\n",
    "train_df = train_df[train_df['feature_35']!=39]\n",
    "\n",
    "\n",
    "train_df = train_df[train_df['feature_38']!=65]\n",
    "train_df = train_df[train_df['feature_38']!=55]\n",
    "train_df = train_df[train_df['feature_38']!=-8]\n",
    "train_df = train_df[train_df['feature_38']!=-3]\n",
    "train_df = train_df[train_df['feature_38']!=-2]\n",
    "train_df = train_df[train_df['feature_38']!=63]\n",
    "\n",
    "train_df = train_df[train_df['feature_39']!=65]\n",
    "train_df = train_df[train_df['feature_39']!=66]\n",
    "train_df = train_df[train_df['feature_39']!=-5]\n",
    "train_df = train_df[train_df['feature_39']!=-3]\n",
    "train_df = train_df[train_df['feature_39']!=-2]\n",
    "train_df = train_df[train_df['feature_39']!=63]\n",
    "\n",
    "train_df = train_df[train_df['feature_42']!=37]\n",
    "train_df = train_df[train_df['feature_42']!=-2]\n",
    "train_df = train_df[train_df['feature_42']!=-1]\n",
    "\n",
    "train_df = train_df[train_df['feature_43']!=33]\n",
    "train_df = train_df[train_df['feature_43']!=31]\n",
    "\n",
    "train_df.shape"
   ]
  },
  {
   "cell_type": "markdown",
   "id": "511f3f2e",
   "metadata": {
    "papermill": {
     "duration": 0.018494,
     "end_time": "2021-05-18T07:19:22.524238",
     "exception": false,
     "start_time": "2021-05-18T07:19:22.505744",
     "status": "completed"
    },
    "tags": []
   },
   "source": [
    "## Extract target labels"
   ]
  },
  {
   "cell_type": "code",
   "execution_count": 6,
   "id": "58e9589e",
   "metadata": {
    "execution": {
     "iopub.execute_input": "2021-05-18T07:19:22.563277Z",
     "iopub.status.busy": "2021-05-18T07:19:22.562605Z",
     "iopub.status.idle": "2021-05-18T07:19:22.592223Z",
     "shell.execute_reply": "2021-05-18T07:19:22.591641Z"
    },
    "papermill": {
     "duration": 0.050616,
     "end_time": "2021-05-18T07:19:22.592380",
     "exception": false,
     "start_time": "2021-05-18T07:19:22.541764",
     "status": "completed"
    },
    "tags": []
   },
   "outputs": [
    {
     "data": {
      "text/html": [
       "<div>\n",
       "<style scoped>\n",
       "    .dataframe tbody tr th:only-of-type {\n",
       "        vertical-align: middle;\n",
       "    }\n",
       "\n",
       "    .dataframe tbody tr th {\n",
       "        vertical-align: top;\n",
       "    }\n",
       "\n",
       "    .dataframe thead th {\n",
       "        text-align: right;\n",
       "    }\n",
       "</style>\n",
       "<table border=\"1\" class=\"dataframe\">\n",
       "  <thead>\n",
       "    <tr style=\"text-align: right;\">\n",
       "      <th></th>\n",
       "      <th>target</th>\n",
       "      <th>Count</th>\n",
       "    </tr>\n",
       "  </thead>\n",
       "  <tbody>\n",
       "    <tr>\n",
       "      <th>0</th>\n",
       "      <td>0</td>\n",
       "      <td>8481</td>\n",
       "    </tr>\n",
       "    <tr>\n",
       "      <th>1</th>\n",
       "      <td>1</td>\n",
       "      <td>57446</td>\n",
       "    </tr>\n",
       "    <tr>\n",
       "      <th>2</th>\n",
       "      <td>2</td>\n",
       "      <td>21408</td>\n",
       "    </tr>\n",
       "    <tr>\n",
       "      <th>3</th>\n",
       "      <td>3</td>\n",
       "      <td>12583</td>\n",
       "    </tr>\n",
       "  </tbody>\n",
       "</table>\n",
       "</div>"
      ],
      "text/plain": [
       "   target  Count\n",
       "0       0   8481\n",
       "1       1  57446\n",
       "2       2  21408\n",
       "3       3  12583"
      ]
     },
     "execution_count": 6,
     "metadata": {},
     "output_type": "execute_result"
    }
   ],
   "source": [
    "class_map = {\n",
    "    'Class_1': 0,\n",
    "    'Class_2': 1,\n",
    "    'Class_3': 2,\n",
    "    'Class_4': 3\n",
    "}\n",
    "\n",
    "train_df['target'] = train_df['target'].map(class_map)\n",
    "train_df.groupby(['target']).size().reset_index().rename(columns={0:'Count'})"
   ]
  },
  {
   "cell_type": "code",
   "execution_count": 7,
   "id": "77df1671",
   "metadata": {
    "execution": {
     "iopub.execute_input": "2021-05-18T07:19:22.633767Z",
     "iopub.status.busy": "2021-05-18T07:19:22.633076Z",
     "iopub.status.idle": "2021-05-18T07:19:22.682969Z",
     "shell.execute_reply": "2021-05-18T07:19:22.682169Z"
    },
    "papermill": {
     "duration": 0.073078,
     "end_time": "2021-05-18T07:19:22.683144",
     "exception": false,
     "start_time": "2021-05-18T07:19:22.610066",
     "status": "completed"
    },
    "tags": []
   },
   "outputs": [
    {
     "name": "stdout",
     "output_type": "stream",
     "text": [
      "train_y: (99918,)\n"
     ]
    }
   ],
   "source": [
    "train_y = train_df['target'].values\n",
    "train_df.drop(['target'], inplace=True, axis=1)\n",
    "print(\"train_y: {}\".format(train_y.shape))"
   ]
  },
  {
   "cell_type": "code",
   "execution_count": 8,
   "id": "fdba91f9",
   "metadata": {
    "execution": {
     "iopub.execute_input": "2021-05-18T07:19:22.725682Z",
     "iopub.status.busy": "2021-05-18T07:19:22.724982Z",
     "iopub.status.idle": "2021-05-18T07:19:22.731105Z",
     "shell.execute_reply": "2021-05-18T07:19:22.730607Z"
    },
    "papermill": {
     "duration": 0.029744,
     "end_time": "2021-05-18T07:19:22.731242",
     "exception": false,
     "start_time": "2021-05-18T07:19:22.701498",
     "status": "completed"
    },
    "tags": []
   },
   "outputs": [
    {
     "data": {
      "text/plain": [
       "['feature_0',\n",
       " 'feature_1',\n",
       " 'feature_2',\n",
       " 'feature_3',\n",
       " 'feature_4',\n",
       " 'feature_5',\n",
       " 'feature_6',\n",
       " 'feature_7',\n",
       " 'feature_8',\n",
       " 'feature_9',\n",
       " 'feature_10',\n",
       " 'feature_11',\n",
       " 'feature_12',\n",
       " 'feature_13',\n",
       " 'feature_14',\n",
       " 'feature_15',\n",
       " 'feature_16',\n",
       " 'feature_17',\n",
       " 'feature_18',\n",
       " 'feature_19',\n",
       " 'feature_20',\n",
       " 'feature_21',\n",
       " 'feature_22',\n",
       " 'feature_23',\n",
       " 'feature_24',\n",
       " 'feature_25',\n",
       " 'feature_26',\n",
       " 'feature_27',\n",
       " 'feature_28',\n",
       " 'feature_29',\n",
       " 'feature_30',\n",
       " 'feature_31',\n",
       " 'feature_32',\n",
       " 'feature_33',\n",
       " 'feature_34',\n",
       " 'feature_35',\n",
       " 'feature_36',\n",
       " 'feature_37',\n",
       " 'feature_38',\n",
       " 'feature_39',\n",
       " 'feature_40',\n",
       " 'feature_41',\n",
       " 'feature_42',\n",
       " 'feature_43',\n",
       " 'feature_44',\n",
       " 'feature_45',\n",
       " 'feature_46',\n",
       " 'feature_47',\n",
       " 'feature_48',\n",
       " 'feature_49']"
      ]
     },
     "execution_count": 8,
     "metadata": {},
     "output_type": "execute_result"
    }
   ],
   "source": [
    "base_features = train_df.columns.to_list()\n",
    "base_features"
   ]
  },
  {
   "cell_type": "markdown",
   "id": "85473c5f",
   "metadata": {
    "papermill": {
     "duration": 0.018987,
     "end_time": "2021-05-18T07:19:22.768840",
     "exception": false,
     "start_time": "2021-05-18T07:19:22.749853",
     "status": "completed"
    },
    "tags": []
   },
   "source": [
    "## PCA features"
   ]
  },
  {
   "cell_type": "code",
   "execution_count": 9,
   "id": "93b50e7b",
   "metadata": {
    "execution": {
     "iopub.execute_input": "2021-05-18T07:19:22.841174Z",
     "iopub.status.busy": "2021-05-18T07:19:22.840515Z",
     "iopub.status.idle": "2021-05-18T07:19:23.719711Z",
     "shell.execute_reply": "2021-05-18T07:19:23.719006Z"
    },
    "papermill": {
     "duration": 0.929943,
     "end_time": "2021-05-18T07:19:23.719861",
     "exception": false,
     "start_time": "2021-05-18T07:19:22.789918",
     "status": "completed"
    },
    "tags": []
   },
   "outputs": [
    {
     "data": {
      "image/png": "[encoded data removed]",
      "text/plain": [
       "<Figure size 1440x432 with 1 Axes>"
      ]
     },
     "metadata": {
      "needs_background": "light"
     },
     "output_type": "display_data"
    }
   ],
   "source": [
    "# Deciding n_components for PCA\n",
    "data = pd.concat([train_df[base_features], test_df[base_features]], axis=0)\n",
    "pca = PCA().fit(data)\n",
    "plt.rcParams[\"figure.figsize\"] = (20,6)\n",
    "\n",
    "fig, ax = plt.subplots()\n",
    "xi = np.arange(1, 51, step=1)\n",
    "y = np.cumsum(pca.explained_variance_ratio_)\n",
    "\n",
    "plt.ylim(0.0,1.1)\n",
    "plt.plot(xi, y, marker='o', linestyle='--', color='b')\n",
    "\n",
    "plt.xlabel('Number of Components')\n",
    "plt.xticks(np.arange(0, 50, step=5))\n",
    "plt.ylabel('Cumulative variance (%)')\n",
    "plt.title('The number of components needed to explain variance')\n",
    "\n",
    "plt.axhline(y=0.95, color='r', linestyle='-')\n",
    "plt.text(0.5, 0.85, '95% cut-off threshold', color = 'red', fontsize=16)\n",
    "\n",
    "ax.grid(axis='x')\n",
    "plt.show()"
   ]
  },
  {
   "cell_type": "code",
   "execution_count": 10,
   "id": "a501044b",
   "metadata": {
    "execution": {
     "iopub.execute_input": "2021-05-18T07:19:23.772646Z",
     "iopub.status.busy": "2021-05-18T07:19:23.771467Z",
     "iopub.status.idle": "2021-05-18T07:19:23.774900Z",
     "shell.execute_reply": "2021-05-18T07:19:23.774237Z"
    },
    "papermill": {
     "duration": 0.032927,
     "end_time": "2021-05-18T07:19:23.775045",
     "exception": false,
     "start_time": "2021-05-18T07:19:23.742118",
     "status": "completed"
    },
    "tags": []
   },
   "outputs": [],
   "source": [
    "def pca_fet(train, test, features, n_components, SEED=10):\n",
    "    train_ = train[features].copy()\n",
    "    test_ = test[features].copy()\n",
    "    data = pd.concat([train_, test_], axis=0)\n",
    "    index = data.index\n",
    "\n",
    "    pca = PCA(n_components=n_components, random_state=SEED)\n",
    "    data = pca.fit_transform(data)\n",
    "    columns = [f'pca_{i + 1}' for i in range(n_components)]\n",
    "    data = pd.DataFrame(data, columns=columns, index=index)\n",
    "    \n",
    "    train_ = data.iloc[:train.shape[0]]\n",
    "    test_ = data.iloc[train.shape[0]:]\n",
    "    train = pd.concat([train, train_], axis=1)\n",
    "    test = pd.concat([test, test_], axis=1)\n",
    "    return train, test"
   ]
  },
  {
   "cell_type": "code",
   "execution_count": 11,
   "id": "64d303f1",
   "metadata": {
    "execution": {
     "iopub.execute_input": "2021-05-18T07:19:23.835453Z",
     "iopub.status.busy": "2021-05-18T07:19:23.834779Z",
     "iopub.status.idle": "2021-05-18T07:19:26.123671Z",
     "shell.execute_reply": "2021-05-18T07:19:26.123089Z"
    },
    "papermill": {
     "duration": 2.327668,
     "end_time": "2021-05-18T07:19:26.123813",
     "exception": false,
     "start_time": "2021-05-18T07:19:23.796145",
     "status": "completed"
    },
    "tags": []
   },
   "outputs": [
    {
     "name": "stdout",
     "output_type": "stream",
     "text": [
      "train_df: (99918, 85) \n",
      "test_df: (50000, 85)\n"
     ]
    }
   ],
   "source": [
    "train_df, test_df = pca_fet(train_df, test_df, base_features, n_components=35)\n",
    "print(\"train_df: {} \\ntest_df: {}\".format(train_df.shape, test_df.shape))"
   ]
  },
  {
   "cell_type": "markdown",
   "id": "3b039a6c",
   "metadata": {
    "papermill": {
     "duration": 0.020074,
     "end_time": "2021-05-18T07:19:26.164268",
     "exception": false,
     "start_time": "2021-05-18T07:19:26.144194",
     "status": "completed"
    },
    "tags": []
   },
   "source": [
    "## KMeans Features"
   ]
  },
  {
   "cell_type": "code",
   "execution_count": 12,
   "id": "807fb733",
   "metadata": {
    "execution": {
     "iopub.execute_input": "2021-05-18T07:19:26.214062Z",
     "iopub.status.busy": "2021-05-18T07:19:26.213410Z",
     "iopub.status.idle": "2021-05-18T07:19:26.215752Z",
     "shell.execute_reply": "2021-05-18T07:19:26.216214Z"
    },
    "papermill": {
     "duration": 0.031053,
     "end_time": "2021-05-18T07:19:26.216419",
     "exception": false,
     "start_time": "2021-05-18T07:19:26.185366",
     "status": "completed"
    },
    "tags": []
   },
   "outputs": [],
   "source": [
    "def kmeans_fet(train, test, features, n_clusters, SEED=10):\n",
    "    train_ = train[features].copy()\n",
    "    test_ = test[features].copy()\n",
    "    data = pd.concat([train_, test_], axis=0)\n",
    "    \n",
    "    kmeans = KMeans(n_clusters=n_clusters, random_state=SEED).fit(data)\n",
    "    \n",
    "    train[f'clusters_'] = kmeans.labels_[:train.shape[0]]\n",
    "    test[f'clusters_'] = kmeans.labels_[train.shape[0]:]\n",
    "    train = pd.get_dummies(train, columns = [f'clusters_'])\n",
    "    test = pd.get_dummies(test, columns = [f'clusters_'])\n",
    "    return train, test"
   ]
  },
  {
   "cell_type": "code",
   "execution_count": 13,
   "id": "e100323a",
   "metadata": {
    "execution": {
     "iopub.execute_input": "2021-05-18T07:19:26.263243Z",
     "iopub.status.busy": "2021-05-18T07:19:26.262610Z",
     "iopub.status.idle": "2021-05-18T07:19:36.403517Z",
     "shell.execute_reply": "2021-05-18T07:19:36.403977Z"
    },
    "papermill": {
     "duration": 10.165706,
     "end_time": "2021-05-18T07:19:36.404161",
     "exception": false,
     "start_time": "2021-05-18T07:19:26.238455",
     "status": "completed"
    },
    "tags": []
   },
   "outputs": [
    {
     "name": "stdout",
     "output_type": "stream",
     "text": [
      "train_df: (99918, 100) \n",
      "test_df: (50000, 100)\n"
     ]
    }
   ],
   "source": [
    "train_df, test_df = kmeans_fet(train_df, test_df, base_features, n_clusters=15)\n",
    "print(\"train_df: {} \\ntest_df: {}\".format(train_df.shape, test_df.shape))"
   ]
  },
  {
   "cell_type": "code",
   "execution_count": 14,
   "id": "d49defb4",
   "metadata": {
    "execution": {
     "iopub.execute_input": "2021-05-18T07:19:36.468959Z",
     "iopub.status.busy": "2021-05-18T07:19:36.468005Z",
     "iopub.status.idle": "2021-05-18T07:19:36.474985Z",
     "shell.execute_reply": "2021-05-18T07:19:36.474467Z"
    },
    "papermill": {
     "duration": 0.049484,
     "end_time": "2021-05-18T07:19:36.475130",
     "exception": false,
     "start_time": "2021-05-18T07:19:36.425646",
     "status": "completed"
    },
    "tags": []
   },
   "outputs": [
    {
     "data": {
      "text/html": [
       "<div>\n",
       "<style scoped>\n",
       "    .dataframe tbody tr th:only-of-type {\n",
       "        vertical-align: middle;\n",
       "    }\n",
       "\n",
       "    .dataframe tbody tr th {\n",
       "        vertical-align: top;\n",
       "    }\n",
       "\n",
       "    .dataframe thead th {\n",
       "        text-align: right;\n",
       "    }\n",
       "</style>\n",
       "<table border=\"1\" class=\"dataframe\">\n",
       "  <thead>\n",
       "    <tr style=\"text-align: right;\">\n",
       "      <th></th>\n",
       "      <th>feature_0</th>\n",
       "      <th>feature_1</th>\n",
       "      <th>feature_2</th>\n",
       "      <th>feature_3</th>\n",
       "      <th>feature_4</th>\n",
       "      <th>feature_5</th>\n",
       "      <th>feature_6</th>\n",
       "      <th>feature_7</th>\n",
       "      <th>feature_8</th>\n",
       "      <th>feature_9</th>\n",
       "      <th>...</th>\n",
       "      <th>clusters__6</th>\n",
       "      <th>clusters__7</th>\n",
       "      <th>clusters__8</th>\n",
       "      <th>clusters__9</th>\n",
       "      <th>clusters__10</th>\n",
       "      <th>clusters__11</th>\n",
       "      <th>clusters__12</th>\n",
       "      <th>clusters__13</th>\n",
       "      <th>clusters__14</th>\n",
       "      <th>target</th>\n",
       "    </tr>\n",
       "    <tr>\n",
       "      <th>id</th>\n",
       "      <th></th>\n",
       "      <th></th>\n",
       "      <th></th>\n",
       "      <th></th>\n",
       "      <th></th>\n",
       "      <th></th>\n",
       "      <th></th>\n",
       "      <th></th>\n",
       "      <th></th>\n",
       "      <th></th>\n",
       "      <th></th>\n",
       "      <th></th>\n",
       "      <th></th>\n",
       "      <th></th>\n",
       "      <th></th>\n",
       "      <th></th>\n",
       "      <th></th>\n",
       "      <th></th>\n",
       "      <th></th>\n",
       "      <th></th>\n",
       "      <th></th>\n",
       "    </tr>\n",
       "  </thead>\n",
       "  <tbody>\n",
       "    <tr>\n",
       "      <th>0</th>\n",
       "      <td>0</td>\n",
       "      <td>0</td>\n",
       "      <td>1</td>\n",
       "      <td>0</td>\n",
       "      <td>1</td>\n",
       "      <td>0</td>\n",
       "      <td>0</td>\n",
       "      <td>0</td>\n",
       "      <td>0</td>\n",
       "      <td>0</td>\n",
       "      <td>...</td>\n",
       "      <td>0</td>\n",
       "      <td>0</td>\n",
       "      <td>0</td>\n",
       "      <td>0</td>\n",
       "      <td>0</td>\n",
       "      <td>0</td>\n",
       "      <td>0</td>\n",
       "      <td>0</td>\n",
       "      <td>0</td>\n",
       "      <td>1</td>\n",
       "    </tr>\n",
       "    <tr>\n",
       "      <th>1</th>\n",
       "      <td>0</td>\n",
       "      <td>0</td>\n",
       "      <td>0</td>\n",
       "      <td>0</td>\n",
       "      <td>2</td>\n",
       "      <td>1</td>\n",
       "      <td>0</td>\n",
       "      <td>0</td>\n",
       "      <td>0</td>\n",
       "      <td>0</td>\n",
       "      <td>...</td>\n",
       "      <td>0</td>\n",
       "      <td>0</td>\n",
       "      <td>0</td>\n",
       "      <td>0</td>\n",
       "      <td>0</td>\n",
       "      <td>0</td>\n",
       "      <td>0</td>\n",
       "      <td>0</td>\n",
       "      <td>0</td>\n",
       "      <td>0</td>\n",
       "    </tr>\n",
       "    <tr>\n",
       "      <th>2</th>\n",
       "      <td>0</td>\n",
       "      <td>0</td>\n",
       "      <td>0</td>\n",
       "      <td>0</td>\n",
       "      <td>0</td>\n",
       "      <td>0</td>\n",
       "      <td>0</td>\n",
       "      <td>0</td>\n",
       "      <td>0</td>\n",
       "      <td>2</td>\n",
       "      <td>...</td>\n",
       "      <td>0</td>\n",
       "      <td>0</td>\n",
       "      <td>0</td>\n",
       "      <td>0</td>\n",
       "      <td>0</td>\n",
       "      <td>0</td>\n",
       "      <td>0</td>\n",
       "      <td>0</td>\n",
       "      <td>0</td>\n",
       "      <td>0</td>\n",
       "    </tr>\n",
       "    <tr>\n",
       "      <th>3</th>\n",
       "      <td>0</td>\n",
       "      <td>0</td>\n",
       "      <td>0</td>\n",
       "      <td>0</td>\n",
       "      <td>0</td>\n",
       "      <td>0</td>\n",
       "      <td>0</td>\n",
       "      <td>3</td>\n",
       "      <td>0</td>\n",
       "      <td>0</td>\n",
       "      <td>...</td>\n",
       "      <td>0</td>\n",
       "      <td>0</td>\n",
       "      <td>0</td>\n",
       "      <td>0</td>\n",
       "      <td>0</td>\n",
       "      <td>0</td>\n",
       "      <td>0</td>\n",
       "      <td>0</td>\n",
       "      <td>0</td>\n",
       "      <td>3</td>\n",
       "    </tr>\n",
       "    <tr>\n",
       "      <th>4</th>\n",
       "      <td>0</td>\n",
       "      <td>0</td>\n",
       "      <td>0</td>\n",
       "      <td>0</td>\n",
       "      <td>0</td>\n",
       "      <td>0</td>\n",
       "      <td>0</td>\n",
       "      <td>0</td>\n",
       "      <td>0</td>\n",
       "      <td>0</td>\n",
       "      <td>...</td>\n",
       "      <td>0</td>\n",
       "      <td>0</td>\n",
       "      <td>0</td>\n",
       "      <td>0</td>\n",
       "      <td>0</td>\n",
       "      <td>0</td>\n",
       "      <td>0</td>\n",
       "      <td>0</td>\n",
       "      <td>0</td>\n",
       "      <td>1</td>\n",
       "    </tr>\n",
       "  </tbody>\n",
       "</table>\n",
       "<p>5 rows × 101 columns</p>\n",
       "</div>"
      ],
      "text/plain": [
       "    feature_0  feature_1  feature_2  feature_3  feature_4  feature_5  \\\n",
       "id                                                                     \n",
       "0           0          0          1          0          1          0   \n",
       "1           0          0          0          0          2          1   \n",
       "2           0          0          0          0          0          0   \n",
       "3           0          0          0          0          0          0   \n",
       "4           0          0          0          0          0          0   \n",
       "\n",
       "    feature_6  feature_7  feature_8  feature_9  ...  clusters__6  clusters__7  \\\n",
       "id                                              ...                             \n",
       "0           0          0          0          0  ...            0            0   \n",
       "1           0          0          0          0  ...            0            0   \n",
       "2           0          0          0          2  ...            0            0   \n",
       "3           0          3          0          0  ...            0            0   \n",
       "4           0          0          0          0  ...            0            0   \n",
       "\n",
       "    clusters__8  clusters__9  clusters__10  clusters__11  clusters__12  \\\n",
       "id                                                                       \n",
       "0             0            0             0             0             0   \n",
       "1             0            0             0             0             0   \n",
       "2             0            0             0             0             0   \n",
       "3             0            0             0             0             0   \n",
       "4             0            0             0             0             0   \n",
       "\n",
       "    clusters__13  clusters__14  target  \n",
       "id                                      \n",
       "0              0             0       1  \n",
       "1              0             0       0  \n",
       "2              0             0       0  \n",
       "3              0             0       3  \n",
       "4              0             0       1  \n",
       "\n",
       "[5 rows x 101 columns]"
      ]
     },
     "execution_count": 14,
     "metadata": {},
     "output_type": "execute_result"
    }
   ],
   "source": [
    "train_df['target'] = train_y.ravel()\n",
    "train_df.head()"
   ]
  },
  {
   "cell_type": "markdown",
   "id": "6de08b9b",
   "metadata": {
    "papermill": {
     "duration": 0.022739,
     "end_time": "2021-05-18T07:19:36.520765",
     "exception": false,
     "start_time": "2021-05-18T07:19:36.498026",
     "status": "completed"
    },
    "tags": []
   },
   "source": [
    "## Save the processed datasets"
   ]
  },
  {
   "cell_type": "code",
   "execution_count": 15,
   "id": "b1e359cc",
   "metadata": {
    "execution": {
     "iopub.execute_input": "2021-05-18T07:19:36.571441Z",
     "iopub.status.busy": "2021-05-18T07:19:36.570759Z",
     "iopub.status.idle": "2021-05-18T07:19:36.697852Z",
     "shell.execute_reply": "2021-05-18T07:19:36.698391Z"
    },
    "papermill": {
     "duration": 0.154433,
     "end_time": "2021-05-18T07:19:36.698567",
     "exception": false,
     "start_time": "2021-05-18T07:19:36.544134",
     "status": "completed"
    },
    "tags": []
   },
   "outputs": [],
   "source": [
    "data_dict = {}\n",
    "data_dict['train_df'] = train_df\n",
    "data_dict['test_df'] = test_df\n",
    "\n",
    "file = open(\"./TPS_May_Dataset.txt\", 'wb')\n",
    "pickle.dump(data_dict, file)\n",
    "file.close()"
   ]
  },
  {
   "cell_type": "code",
   "execution_count": null,
   "id": "141a808f",
   "metadata": {
    "papermill": {
     "duration": 0.022026,
     "end_time": "2021-05-18T07:19:36.743896",
     "exception": false,
     "start_time": "2021-05-18T07:19:36.721870",
     "status": "completed"
    },
    "tags": []
   },
   "outputs": [],
   "source": []
  }
 ],
 "metadata": {
  "kernelspec": {
   "display_name": "Python 3",
   "language": "python",
   "name": "python3"
  },
  "language_info": {
   "codemirror_mode": {
    "name": "ipython",
    "version": 3
   },
   "file_extension": ".py",
   "mimetype": "text/x-python",
   "name": "python",
   "nbconvert_exporter": "python",
   "pygments_lexer": "ipython3",
   "version": "3.7.10"
  },
  "papermill": {
   "default_parameters": {},
   "duration": 26.854596,
   "end_time": "2021-05-18T07:19:37.476712",
   "environment_variables": {},
   "exception": null,
   "input_path": "__notebook__.ipynb",
   "output_path": "__notebook__.ipynb",
   "parameters": {},
   "start_time": "2021-05-18T07:19:10.622116",
   "version": "2.3.3"
  }
 },
 "nbformat": 4,
 "nbformat_minor": 5
}
