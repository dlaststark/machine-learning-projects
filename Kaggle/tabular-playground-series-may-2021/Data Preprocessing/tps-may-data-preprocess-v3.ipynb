{
 "cells": [
  {
   "cell_type": "markdown",
   "id": "3d694ae9",
   "metadata": {
    "id": "uLz9OcH8SeET",
    "papermill": {
     "duration": 0.009882,
     "end_time": "2021-05-15T17:35:48.975619",
     "exception": false,
     "start_time": "2021-05-15T17:35:48.965737",
     "status": "completed"
    },
    "tags": []
   },
   "source": [
    "## Import libraries"
   ]
  },
  {
   "cell_type": "code",
   "execution_count": 1,
   "id": "89016de8",
   "metadata": {
    "execution": {
     "iopub.execute_input": "2021-05-15T17:35:48.997452Z",
     "iopub.status.busy": "2021-05-15T17:35:48.996432Z",
     "iopub.status.idle": "2021-05-15T17:35:53.493593Z",
     "shell.execute_reply": "2021-05-15T17:35:53.492806Z"
    },
    "executionInfo": {
     "elapsed": 25675,
     "status": "ok",
     "timestamp": 1615993018008,
     "user": {
      "displayName": "TAPAS DAS",
      "photoUrl": "https://lh3.googleusercontent.com/a-/AOh14GiyffdGKiPCR_UwVittzTcbBFms70IkGfU15fatCA=s64",
      "userId": "10798398878324948542"
     },
     "user_tz": -330
    },
    "id": "E9svswc9SUuX",
    "papermill": {
     "duration": 4.508907,
     "end_time": "2021-05-15T17:35:53.493737",
     "exception": false,
     "start_time": "2021-05-15T17:35:48.984830",
     "status": "completed"
    },
    "tags": []
   },
   "outputs": [],
   "source": [
    "import gc\n",
    "import pickle\n",
    "import numpy as np\n",
    "import pandas as pd\n",
    "from tensorflow.keras.models import Model, load_model\n",
    "from tensorflow_addons.optimizers import AdamW, Lookahead"
   ]
  },
  {
   "cell_type": "markdown",
   "id": "01af0560",
   "metadata": {
    "id": "iDv0VFRMS7z2",
    "papermill": {
     "duration": 0.008557,
     "end_time": "2021-05-15T17:35:53.511688",
     "exception": false,
     "start_time": "2021-05-15T17:35:53.503131",
     "status": "completed"
    },
    "tags": []
   },
   "source": [
    "## Load autoencoder model"
   ]
  },
  {
   "cell_type": "code",
   "execution_count": 2,
   "id": "2f0aec66",
   "metadata": {
    "execution": {
     "iopub.execute_input": "2021-05-15T17:35:53.533137Z",
     "iopub.status.busy": "2021-05-15T17:35:53.532596Z",
     "iopub.status.idle": "2021-05-15T17:35:54.425309Z",
     "shell.execute_reply": "2021-05-15T17:35:54.424603Z"
    },
    "executionInfo": {
     "elapsed": 8802,
     "status": "ok",
     "timestamp": 1615993030793,
     "user": {
      "displayName": "TAPAS DAS",
      "photoUrl": "https://lh3.googleusercontent.com/a-/AOh14GiyffdGKiPCR_UwVittzTcbBFms70IkGfU15fatCA=s64",
      "userId": "10798398878324948542"
     },
     "user_tz": -330
    },
    "id": "w0IPQ0HLS-mk",
    "outputId": "b667f154-0ad5-45dd-dcc5-0b2eab031002",
    "papermill": {
     "duration": 0.90534,
     "end_time": "2021-05-15T17:35:54.425442",
     "exception": false,
     "start_time": "2021-05-15T17:35:53.520102",
     "status": "completed"
    },
    "tags": []
   },
   "outputs": [
    {
     "name": "stdout",
     "output_type": "stream",
     "text": [
      "Model: \"model\"\n",
      "_________________________________________________________________\n",
      "Layer (type)                 Output Shape              Param #   \n",
      "=================================================================\n",
      "input_1 (InputLayer)         [(None, 322)]             0         \n",
      "_________________________________________________________________\n",
      "dense (Dense)                (None, 512)               165376    \n",
      "_________________________________________________________________\n",
      "batch_normalization (BatchNo (None, 512)               2048      \n",
      "_________________________________________________________________\n",
      "activation (Activation)      (None, 512)               0         \n",
      "_________________________________________________________________\n",
      "dense_1 (Dense)              (None, 1024)              525312    \n",
      "_________________________________________________________________\n",
      "batch_normalization_1 (Batch (None, 1024)              4096      \n",
      "_________________________________________________________________\n",
      "Embedding (Activation)       (None, 1024)              0         \n",
      "=================================================================\n",
      "Total params: 696,832\n",
      "Trainable params: 693,760\n",
      "Non-trainable params: 3,072\n",
      "_________________________________________________________________\n"
     ]
    }
   ],
   "source": [
    "autoencoder = load_model('../input/tps-may-dae-model/DAE_model.h5')\n",
    "feature_model = Model(inputs=autoencoder.input,\n",
    "                      outputs=autoencoder.get_layer('Embedding').output)\n",
    "feature_model.summary()"
   ]
  },
  {
   "cell_type": "markdown",
   "id": "fdb05837",
   "metadata": {
    "papermill": {
     "duration": 0.009662,
     "end_time": "2021-05-15T17:35:54.444949",
     "exception": false,
     "start_time": "2021-05-15T17:35:54.435287",
     "status": "completed"
    },
    "tags": []
   },
   "source": [
    "## Load source datasets"
   ]
  },
  {
   "cell_type": "code",
   "execution_count": 3,
   "id": "0a6945dd",
   "metadata": {
    "execution": {
     "iopub.execute_input": "2021-05-15T17:35:54.468226Z",
     "iopub.status.busy": "2021-05-15T17:35:54.467658Z",
     "iopub.status.idle": "2021-05-15T17:35:55.055179Z",
     "shell.execute_reply": "2021-05-15T17:35:55.054268Z"
    },
    "papermill": {
     "duration": 0.601268,
     "end_time": "2021-05-15T17:35:55.055393",
     "exception": false,
     "start_time": "2021-05-15T17:35:54.454125",
     "status": "completed"
    },
    "tags": []
   },
   "outputs": [
    {
     "name": "stdout",
     "output_type": "stream",
     "text": [
      "train_df: (100000, 51) \n",
      "test_df: (50000, 50)\n"
     ]
    }
   ],
   "source": [
    "train_df = pd.read_csv(\"../input/tabular-playground-series-may-2021/train.csv\")\n",
    "test_df = pd.read_csv(\"../input/tabular-playground-series-may-2021/test.csv\")\n",
    "\n",
    "train_df.set_index('id', inplace=True)\n",
    "test_df.set_index('id', inplace=True)\n",
    "\n",
    "print(\"train_df: {} \\ntest_df: {}\".format(train_df.shape, test_df.shape))"
   ]
  },
  {
   "cell_type": "code",
   "execution_count": 4,
   "id": "faf6bbb8",
   "metadata": {
    "execution": {
     "iopub.execute_input": "2021-05-15T17:35:55.089796Z",
     "iopub.status.busy": "2021-05-15T17:35:55.089301Z",
     "iopub.status.idle": "2021-05-15T17:35:55.800097Z",
     "shell.execute_reply": "2021-05-15T17:35:55.799452Z"
    },
    "papermill": {
     "duration": 0.734461,
     "end_time": "2021-05-15T17:35:55.800223",
     "exception": false,
     "start_time": "2021-05-15T17:35:55.065762",
     "status": "completed"
    },
    "tags": []
   },
   "outputs": [
    {
     "data": {
      "text/plain": [
       "((99918, 51), (50000, 50))"
      ]
     },
     "execution_count": 4,
     "metadata": {},
     "output_type": "execute_result"
    }
   ],
   "source": [
    "test_df.loc[test_df['feature_3']==25,'feature_3']=26\n",
    "test_df.loc[test_df['feature_4']==36,'feature_4']=37\n",
    "test_df.loc[test_df['feature_21']==31,'feature_21']=36\n",
    "test_df.loc[test_df['feature_25']==24,'feature_25']=23\n",
    "test_df.loc[test_df['feature_34']==26,'feature_34']=25\n",
    "test_df.loc[test_df['feature_49']==21,'feature_49']=20\n",
    "\n",
    "train_df = train_df[train_df['feature_5']!=10]\n",
    "\n",
    "train_df = train_df[train_df['feature_6']!=26]\n",
    "train_df = train_df[train_df['feature_6']!=27]\n",
    "\n",
    "train_df = train_df[train_df['feature_7']!=30]\n",
    "train_df = train_df[train_df['feature_7']!=31]\n",
    "\n",
    "train_df = train_df[train_df['feature_9']!=17]\n",
    "\n",
    "train_df = train_df[train_df['feature_10']!=16]\n",
    "\n",
    "train_df = train_df[train_df['feature_11']!=12]\n",
    "\n",
    "train_df = train_df[train_df['feature_15']!=20]\n",
    "\n",
    "train_df = train_df[train_df['feature_16']!=18]\n",
    "\n",
    "train_df = train_df[train_df['feature_23']!=18]\n",
    "train_df = train_df[train_df['feature_23']!=19]\n",
    "\n",
    "train_df = train_df[train_df['feature_27']!=29]\n",
    "\n",
    "train_df = train_df[train_df['feature_28']!=23]\n",
    "\n",
    "train_df = train_df[train_df['feature_29']!=13]\n",
    "\n",
    "train_df = train_df[train_df['feature_33']!=24]\n",
    "\n",
    "train_df = train_df[train_df['feature_32']!=26]\n",
    "train_df = train_df[train_df['feature_32']!=27]\n",
    "\n",
    "train_df = train_df[train_df['feature_35']!=43]\n",
    "train_df = train_df[train_df['feature_35']!=-2]\n",
    "train_df = train_df[train_df['feature_35']!=38]\n",
    "train_df = train_df[train_df['feature_35']!=39]\n",
    "\n",
    "\n",
    "train_df = train_df[train_df['feature_38']!=65]\n",
    "train_df = train_df[train_df['feature_38']!=55]\n",
    "train_df = train_df[train_df['feature_38']!=-8]\n",
    "train_df = train_df[train_df['feature_38']!=-3]\n",
    "train_df = train_df[train_df['feature_38']!=-2]\n",
    "train_df = train_df[train_df['feature_38']!=63]\n",
    "\n",
    "train_df = train_df[train_df['feature_39']!=65]\n",
    "train_df = train_df[train_df['feature_39']!=66]\n",
    "train_df = train_df[train_df['feature_39']!=-5]\n",
    "train_df = train_df[train_df['feature_39']!=-3]\n",
    "train_df = train_df[train_df['feature_39']!=-2]\n",
    "train_df = train_df[train_df['feature_39']!=63]\n",
    "\n",
    "train_df = train_df[train_df['feature_42']!=37]\n",
    "train_df = train_df[train_df['feature_42']!=-2]\n",
    "train_df = train_df[train_df['feature_42']!=-1]\n",
    "\n",
    "train_df = train_df[train_df['feature_43']!=33]\n",
    "train_df = train_df[train_df['feature_43']!=31]\n",
    "\n",
    "train_df.shape, test_df.shape"
   ]
  },
  {
   "cell_type": "code",
   "execution_count": 5,
   "id": "83387539",
   "metadata": {
    "execution": {
     "iopub.execute_input": "2021-05-15T17:35:55.837179Z",
     "iopub.status.busy": "2021-05-15T17:35:55.836379Z",
     "iopub.status.idle": "2021-05-15T17:35:55.839498Z",
     "shell.execute_reply": "2021-05-15T17:35:55.839932Z"
    },
    "papermill": {
     "duration": 0.02865,
     "end_time": "2021-05-15T17:35:55.840106",
     "exception": false,
     "start_time": "2021-05-15T17:35:55.811456",
     "status": "completed"
    },
    "tags": []
   },
   "outputs": [],
   "source": [
    "class_map = {\n",
    "    'Class_1': 0,\n",
    "    'Class_2': 1,\n",
    "    'Class_3': 2,\n",
    "    'Class_4': 3\n",
    "}\n",
    "\n",
    "train_df['target'] = train_df['target'].map(class_map)"
   ]
  },
  {
   "cell_type": "markdown",
   "id": "06c95606",
   "metadata": {
    "id": "hg85SpW-S6hl",
    "papermill": {
     "duration": 0.009831,
     "end_time": "2021-05-15T17:35:55.860116",
     "exception": false,
     "start_time": "2021-05-15T17:35:55.850285",
     "status": "completed"
    },
    "tags": []
   },
   "source": [
    "## Prepare data for model training"
   ]
  },
  {
   "cell_type": "code",
   "execution_count": 6,
   "id": "ce392ac5",
   "metadata": {
    "execution": {
     "iopub.execute_input": "2021-05-15T17:35:55.882836Z",
     "iopub.status.busy": "2021-05-15T17:35:55.882111Z",
     "iopub.status.idle": "2021-05-15T17:35:59.372014Z",
     "shell.execute_reply": "2021-05-15T17:35:59.372505Z"
    },
    "executionInfo": {
     "elapsed": 7891,
     "status": "ok",
     "timestamp": 1615993031631,
     "user": {
      "displayName": "TAPAS DAS",
      "photoUrl": "https://lh3.googleusercontent.com/a-/AOh14GiyffdGKiPCR_UwVittzTcbBFms70IkGfU15fatCA=s64",
      "userId": "10798398878324948542"
     },
     "user_tz": -330
    },
    "id": "VdhgoIAmSUxK",
    "outputId": "926e0feb-029c-4888-c1ca-fcc067d41b71",
    "papermill": {
     "duration": 3.502563,
     "end_time": "2021-05-15T17:35:59.372664",
     "exception": false,
     "start_time": "2021-05-15T17:35:55.870101",
     "status": "completed"
    },
    "tags": []
   },
   "outputs": [
    {
     "name": "stdout",
     "output_type": "stream",
     "text": [
      "train_df1: (99918, 323) \n",
      "test_df1: (50000, 322)\n"
     ]
    },
    {
     "data": {
      "text/plain": [
       "62"
      ]
     },
     "execution_count": 6,
     "metadata": {},
     "output_type": "execute_result"
    }
   ],
   "source": [
    "with open(\"../input/tps-may-data-preprocess-v2/TPS_May_Dataset.txt\", 'rb') as handle: \n",
    "    data = handle.read()\n",
    "\n",
    "processed_data = pickle.loads(data)\n",
    "train_df1 = processed_data['train_df']\n",
    "test_df1 = processed_data['test_df']\n",
    "print(\"train_df1: {} \\ntest_df1: {}\".format(train_df1.shape, test_df1.shape))\n",
    "\n",
    "del processed_data\n",
    "gc.collect()"
   ]
  },
  {
   "cell_type": "code",
   "execution_count": 7,
   "id": "533ed0ad",
   "metadata": {
    "execution": {
     "iopub.execute_input": "2021-05-15T17:35:59.401824Z",
     "iopub.status.busy": "2021-05-15T17:35:59.401313Z",
     "iopub.status.idle": "2021-05-15T17:36:11.473084Z",
     "shell.execute_reply": "2021-05-15T17:36:11.473778Z"
    },
    "papermill": {
     "duration": 12.090529,
     "end_time": "2021-05-15T17:36:11.474009",
     "exception": false,
     "start_time": "2021-05-15T17:35:59.383480",
     "status": "completed"
    },
    "tags": []
   },
   "outputs": [
    {
     "name": "stdout",
     "output_type": "stream",
     "text": [
      "3123/3123 [==============================] - 6s 2ms/step\n",
      "1563/1563 [==============================] - 3s 2ms/step\n",
      "\n",
      "\n",
      "Xtrain_embed_df: (99918, 1025) \n",
      "Xtest_embed_df: (50000, 1024)\n",
      "\n",
      "\n",
      "train_df: (99918, 1075) \n",
      "test_df: (50000, 1074)\n"
     ]
    },
    {
     "data": {
      "text/plain": [
       "1389"
      ]
     },
     "execution_count": 7,
     "metadata": {},
     "output_type": "execute_result"
    }
   ],
   "source": [
    "Xtrain_embed = feature_model.predict(train_df1.loc[:, train_df1.columns != 'target'].values, verbose=1)\n",
    "Xtest_embed = feature_model.predict(test_df1.values, verbose=1)\n",
    "Xtrain_embed_df = pd.DataFrame(Xtrain_embed, index=train_df1.index)\n",
    "Xtest_embed_df = pd.DataFrame(Xtest_embed, index=test_df1.index)\n",
    "\n",
    "train_df.index = train_df1.index\n",
    "test_df.index = test_df1.index\n",
    "\n",
    "train_df = pd.merge(train_df, Xtrain_embed_df, on='id', sort=False)\n",
    "test_df = pd.merge(test_df, Xtest_embed_df, on='id', sort=False)\n",
    "\n",
    "Xtrain_embed_df['target'] = train_df1['target']\n",
    "train_df['target'] = train_df1['target']\n",
    "print(\"\\n\\nXtrain_embed_df: {} \\nXtest_embed_df: {}\".format(Xtrain_embed_df.shape, Xtest_embed_df.shape))\n",
    "print(\"\\n\\ntrain_df: {} \\ntest_df: {}\".format(train_df.shape, test_df.shape))\n",
    "\n",
    "del Xtrain_embed\n",
    "del Xtest_embed\n",
    "gc.collect()"
   ]
  },
  {
   "cell_type": "markdown",
   "id": "ca11a55d",
   "metadata": {
    "papermill": {
     "duration": 0.05329,
     "end_time": "2021-05-15T17:36:11.583928",
     "exception": false,
     "start_time": "2021-05-15T17:36:11.530638",
     "status": "completed"
    },
    "tags": []
   },
   "source": [
    "## Save the processed datasets"
   ]
  },
  {
   "cell_type": "code",
   "execution_count": 8,
   "id": "c39b5b06",
   "metadata": {
    "execution": {
     "iopub.execute_input": "2021-05-15T17:36:11.696422Z",
     "iopub.status.busy": "2021-05-15T17:36:11.695826Z",
     "iopub.status.idle": "2021-05-15T17:36:12.813799Z",
     "shell.execute_reply": "2021-05-15T17:36:12.814210Z"
    },
    "id": "W2c88MvxXm65",
    "papermill": {
     "duration": 1.176368,
     "end_time": "2021-05-15T17:36:12.814368",
     "exception": false,
     "start_time": "2021-05-15T17:36:11.638000",
     "status": "completed"
    },
    "tags": []
   },
   "outputs": [],
   "source": [
    "data_dict = {}\n",
    "data_dict['train_df'] = train_df\n",
    "data_dict['test_df'] = test_df\n",
    "\n",
    "file = open(\"./TPS_May_Dataset_w_Org.txt\", 'wb')\n",
    "pickle.dump(data_dict, file)\n",
    "file.close()"
   ]
  },
  {
   "cell_type": "code",
   "execution_count": 9,
   "id": "97833c1a",
   "metadata": {
    "execution": {
     "iopub.execute_input": "2021-05-15T17:36:12.927120Z",
     "iopub.status.busy": "2021-05-15T17:36:12.926611Z",
     "iopub.status.idle": "2021-05-15T17:36:13.952345Z",
     "shell.execute_reply": "2021-05-15T17:36:13.952808Z"
    },
    "papermill": {
     "duration": 1.082949,
     "end_time": "2021-05-15T17:36:13.952992",
     "exception": false,
     "start_time": "2021-05-15T17:36:12.870043",
     "status": "completed"
    },
    "tags": []
   },
   "outputs": [],
   "source": [
    "data_dict = {}\n",
    "data_dict['train_df'] = Xtrain_embed_df\n",
    "data_dict['test_df'] = Xtest_embed_df\n",
    "\n",
    "file = open(\"./TPS_May_Dataset_wo_Org.txt\", 'wb')\n",
    "pickle.dump(data_dict, file)\n",
    "file.close()"
   ]
  },
  {
   "cell_type": "code",
   "execution_count": null,
   "id": "bb877284",
   "metadata": {
    "papermill": {
     "duration": 0.054923,
     "end_time": "2021-05-15T17:36:14.064659",
     "exception": false,
     "start_time": "2021-05-15T17:36:14.009736",
     "status": "completed"
    },
    "tags": []
   },
   "outputs": [],
   "source": []
  }
 ],
 "metadata": {
  "kernelspec": {
   "display_name": "Python 3 (ipykernel)",
   "language": "python",
   "name": "python3"
  },
  "language_info": {
   "codemirror_mode": {
    "name": "ipython",
    "version": 3
   },
   "file_extension": ".py",
   "mimetype": "text/x-python",
   "name": "python",
   "nbconvert_exporter": "python",
   "pygments_lexer": "ipython3",
   "version": "3.7.10"
  },
  "papermill": {
   "default_parameters": {},
   "duration": 33.703114,
   "end_time": "2021-05-15T17:36:15.845362",
   "environment_variables": {},
   "exception": null,
   "input_path": "__notebook__.ipynb",
   "output_path": "__notebook__.ipynb",
   "parameters": {},
   "start_time": "2021-05-15T17:35:42.142248",
   "version": "2.3.3"
  }
 },
 "nbformat": 4,
 "nbformat_minor": 5
}
