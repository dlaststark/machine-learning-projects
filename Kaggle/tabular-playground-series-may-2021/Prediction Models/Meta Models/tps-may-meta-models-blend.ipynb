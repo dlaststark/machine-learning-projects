{
 "cells": [
  {
   "cell_type": "markdown",
   "id": "7ddf22ae",
   "metadata": {
    "papermill": {
     "duration": 0.025383,
     "end_time": "2021-05-25T16:13:48.357699",
     "exception": false,
     "start_time": "2021-05-25T16:13:48.332316",
     "status": "completed"
    },
    "tags": []
   },
   "source": [
    "## Import libraries"
   ]
  },
  {
   "cell_type": "code",
   "execution_count": 1,
   "id": "b53e3bb4",
   "metadata": {
    "execution": {
     "iopub.execute_input": "2021-05-25T16:13:48.413126Z",
     "iopub.status.busy": "2021-05-25T16:13:48.412487Z",
     "iopub.status.idle": "2021-05-25T16:13:49.788023Z",
     "shell.execute_reply": "2021-05-25T16:13:49.786983Z",
     "shell.execute_reply.started": "2021-05-25T14:57:02.262663Z"
    },
    "papermill": {
     "duration": 1.407083,
     "end_time": "2021-05-25T16:13:49.788195",
     "exception": false,
     "start_time": "2021-05-25T16:13:48.381112",
     "status": "completed"
    },
    "tags": []
   },
   "outputs": [],
   "source": [
    "import gc\n",
    "import pickle\n",
    "import numpy as np\n",
    "import pandas as pd\n",
    "from sklearn.metrics import log_loss\n",
    "from sklearn.model_selection import StratifiedKFold\n",
    "\n",
    "from sklearn.ensemble import VotingClassifier\n",
    "from sklearn.neural_network import MLPClassifier\n",
    "from sklearn.ensemble import RandomForestClassifier\n",
    "from sklearn.linear_model import LogisticRegression"
   ]
  },
  {
   "cell_type": "markdown",
   "id": "b71df872",
   "metadata": {
    "papermill": {
     "duration": 0.0149,
     "end_time": "2021-05-25T16:13:49.818806",
     "exception": false,
     "start_time": "2021-05-25T16:13:49.803906",
     "status": "completed"
    },
    "tags": []
   },
   "source": [
    "## Prepare data"
   ]
  },
  {
   "cell_type": "code",
   "execution_count": 2,
   "id": "ad7d5fb3",
   "metadata": {
    "execution": {
     "iopub.execute_input": "2021-05-25T16:13:49.858165Z",
     "iopub.status.busy": "2021-05-25T16:13:49.857489Z",
     "iopub.status.idle": "2021-05-25T16:14:01.073192Z",
     "shell.execute_reply": "2021-05-25T16:14:01.072543Z",
     "shell.execute_reply.started": "2021-05-25T14:57:03.737763Z"
    },
    "papermill": {
     "duration": 11.238045,
     "end_time": "2021-05-25T16:14:01.073393",
     "exception": false,
     "start_time": "2021-05-25T16:13:49.835348",
     "status": "completed"
    },
    "tags": []
   },
   "outputs": [
    {
     "data": {
      "text/plain": [
       "0"
      ]
     },
     "execution_count": 2,
     "metadata": {},
     "output_type": "execute_result"
    }
   ],
   "source": [
    "with open(\"../input/tps-may-data-preprocess/TPS_May_Dataset_w_Quantile.txt\", 'rb') as handle: \n",
    "    data = handle.read()\n",
    "\n",
    "processed_data = pickle.loads(data)\n",
    "train_df = processed_data['train_df']\n",
    "\n",
    "del processed_data\n",
    "gc.collect()"
   ]
  },
  {
   "cell_type": "code",
   "execution_count": 3,
   "id": "7e9fdda8",
   "metadata": {
    "execution": {
     "iopub.execute_input": "2021-05-25T16:14:01.114797Z",
     "iopub.status.busy": "2021-05-25T16:14:01.113512Z",
     "iopub.status.idle": "2021-05-25T16:14:01.486052Z",
     "shell.execute_reply": "2021-05-25T16:14:01.485435Z",
     "shell.execute_reply.started": "2021-05-25T14:57:15.660585Z"
    },
    "papermill": {
     "duration": 0.395265,
     "end_time": "2021-05-25T16:14:01.486222",
     "exception": false,
     "start_time": "2021-05-25T16:14:01.090957",
     "status": "completed"
    },
    "tags": []
   },
   "outputs": [],
   "source": [
    "ds = np.load('../input/tps-may-cnn-blend/CNN_Meta_Features.npz', allow_pickle=True)\n",
    "y_pred_meta_dnn, y_pred_final_dnn = ds['y_pred_meta_dnn'], ds['y_pred_final_dnn']\n",
    "\n",
    "ds = np.load('../input/tps-may-cnn-blend-v2/CNN_Meta_Features.npz', allow_pickle=True)\n",
    "y_pred_meta_dnn2, y_pred_final_dnn2 = ds['y_pred_meta_dnn'], ds['y_pred_final_dnn']\n",
    "\n",
    "ds = np.load('../input/tps-may-cnn-blend-v3/CNN_Meta_Features.npz', allow_pickle=True)\n",
    "y_pred_meta_dnn3, y_pred_final_dnn3 = ds['y_pred_meta_dnn'], ds['y_pred_final_dnn']\n",
    "\n",
    "ds = np.load('../input/tps-may-cnn-blend-v4/CNN_Meta_Features.npz', allow_pickle=True)\n",
    "y_pred_meta_dnn4, y_pred_final_dnn4 = ds['y_pred_meta_dnn'], ds['y_pred_final_dnn']\n",
    "\n",
    "ds = np.load('../input/tps-may-cnn-blend-v5/CNN_Meta_Features.npz', allow_pickle=True)\n",
    "y_pred_meta_dnn5, y_pred_final_dnn5 = ds['y_pred_meta_dnn'], ds['y_pred_final_dnn']"
   ]
  },
  {
   "cell_type": "code",
   "execution_count": 4,
   "id": "789de378",
   "metadata": {
    "execution": {
     "iopub.execute_input": "2021-05-25T16:14:01.527497Z",
     "iopub.status.busy": "2021-05-25T16:14:01.526640Z",
     "iopub.status.idle": "2021-05-25T16:14:01.564080Z",
     "shell.execute_reply": "2021-05-25T16:14:01.563562Z",
     "shell.execute_reply.started": "2021-05-25T14:57:16.114004Z"
    },
    "papermill": {
     "duration": 0.060421,
     "end_time": "2021-05-25T16:14:01.564227",
     "exception": false,
     "start_time": "2021-05-25T16:14:01.503806",
     "status": "completed"
    },
    "tags": []
   },
   "outputs": [
    {
     "name": "stdout",
     "output_type": "stream",
     "text": [
      "Xtrain_meta shape: (99918, 20)\n",
      "Ytrain_meta shape: (99918,)\n",
      "Xtest_meta shape: (50000, 20)\n"
     ]
    }
   ],
   "source": [
    "Xtrain_meta = np.concatenate((y_pred_meta_dnn, y_pred_meta_dnn2, \n",
    "                              y_pred_meta_dnn3, y_pred_meta_dnn4,\n",
    "                              y_pred_meta_dnn5), axis=1)\n",
    "Xtest_meta = np.concatenate((y_pred_final_dnn, y_pred_final_dnn2, \n",
    "                             y_pred_final_dnn3, y_pred_final_dnn4,\n",
    "                             y_pred_final_dnn5), axis=1)\n",
    "\n",
    "Ytrain_meta = train_df['target'].values\n",
    "Ytrain_oh = pd.get_dummies(train_df['target']).values\n",
    "\n",
    "print(\"Xtrain_meta shape: {}\".format(Xtrain_meta.shape))\n",
    "print(\"Ytrain_meta shape: {}\".format(Ytrain_meta.shape))\n",
    "print(\"Xtest_meta shape: {}\".format(Xtest_meta.shape))"
   ]
  },
  {
   "cell_type": "markdown",
   "id": "6cbb58a1",
   "metadata": {
    "papermill": {
     "duration": 0.015873,
     "end_time": "2021-05-25T16:14:01.596077",
     "exception": false,
     "start_time": "2021-05-25T16:14:01.580204",
     "status": "completed"
    },
    "tags": []
   },
   "source": [
    "## Logistic Regression"
   ]
  },
  {
   "cell_type": "code",
   "execution_count": 5,
   "id": "052248aa",
   "metadata": {
    "execution": {
     "iopub.execute_input": "2021-05-25T16:14:01.643716Z",
     "iopub.status.busy": "2021-05-25T16:14:01.643010Z",
     "iopub.status.idle": "2021-05-25T16:17:37.092190Z",
     "shell.execute_reply": "2021-05-25T16:17:37.093211Z",
     "shell.execute_reply.started": "2021-05-21T10:32:45.530372Z"
    },
    "papermill": {
     "duration": 215.480858,
     "end_time": "2021-05-25T16:17:37.093516",
     "exception": false,
     "start_time": "2021-05-25T16:14:01.612658",
     "status": "completed"
    },
    "tags": []
   },
   "outputs": [
    {
     "name": "stdout",
     "output_type": "stream",
     "text": [
      "Seed-24 | Fold-0 | OOF Score: 1.0862744123405081\n",
      "Seed-24 | Fold-1 | OOF Score: 1.0864917311210855\n",
      "Seed-24 | Fold-2 | OOF Score: 1.0904779832380633\n",
      "Seed-24 | Fold-3 | OOF Score: 1.0842194211234273\n",
      "Seed-24 | Fold-4 | OOF Score: 1.0877771857870926\n",
      "Seed-24 | Fold-5 | OOF Score: 1.0871921943196983\n",
      "Seed-24 | Fold-6 | OOF Score: 1.0861886043056292\n",
      "Seed-24 | Fold-7 | OOF Score: 1.087618792160985\n",
      "Seed-24 | Fold-8 | OOF Score: 1.0839881135794707\n",
      "Seed-24 | Fold-9 | OOF Score: 1.0895576033806877\n",
      "\n",
      "Seed: 24 | Aggregate OOF Score: 1.0869786041356648\n",
      "\n",
      "\n",
      "Seed-3 | Fold-0 | OOF Score: 1.0851020991355564\n",
      "Seed-3 | Fold-1 | OOF Score: 1.0859961793598556\n",
      "Seed-3 | Fold-2 | OOF Score: 1.0875900300583863\n",
      "Seed-3 | Fold-3 | OOF Score: 1.0894810803156505\n",
      "Seed-3 | Fold-4 | OOF Score: 1.0862404520077424\n",
      "Seed-3 | Fold-5 | OOF Score: 1.0891773307704418\n",
      "Seed-3 | Fold-6 | OOF Score: 1.085036773263987\n",
      "Seed-3 | Fold-7 | OOF Score: 1.0868809156101602\n",
      "Seed-3 | Fold-8 | OOF Score: 1.0849781907883431\n",
      "Seed-3 | Fold-9 | OOF Score: 1.0890648304212427\n",
      "\n",
      "Seed: 3 | Aggregate OOF Score: 1.0869547881731365\n",
      "\n",
      "\n",
      "Aggregate OOF Score: 1.0869666961544007\n"
     ]
    }
   ],
   "source": [
    "FOLD = 10\n",
    "NUM_SEED = 2\n",
    "\n",
    "# Prediction Clipping Thresholds\n",
    "p_min = 0.025\n",
    "p_max = 1 - p_min\n",
    "\n",
    "np.random.seed(3)\n",
    "seeds = np.random.randint(0, 100, size=NUM_SEED)\n",
    "\n",
    "oof_score = 0\n",
    "y_pred_meta_lr = np.zeros((Ytrain_meta.shape[0], 4))\n",
    "y_pred_final_lr = np.zeros((Xtest_meta.shape[0], 4))\n",
    "counter = 0\n",
    "\n",
    "\n",
    "for sidx, seed in enumerate(seeds):\n",
    "    seed_score = 0\n",
    "    \n",
    "    kfold = StratifiedKFold(n_splits=FOLD, shuffle=True, random_state=seed)\n",
    "\n",
    "    for idx, (train, val) in enumerate(kfold.split(Xtrain_meta, Ytrain_meta)):\n",
    "        counter += 1\n",
    "\n",
    "        train_x, train_y, train_y_oh = Xtrain_meta[train], Ytrain_meta[train], Ytrain_oh[train]\n",
    "        val_x, val_y, val_y_oh = Xtrain_meta[val], Ytrain_meta[val], Ytrain_oh[val]\n",
    "\n",
    "        model = LogisticRegression(\n",
    "            max_iter=2000,\n",
    "            #class_weight=class_weight, \n",
    "            random_state=0\n",
    "        )\n",
    "\n",
    "        model.fit(train_x, train_y)\n",
    "\n",
    "        y_pred = model.predict_proba(val_x)\n",
    "        y_pred = np.clip(y_pred, p_min, p_max)\n",
    "        y_pred_meta_lr[val] += y_pred\n",
    "        y_pred_final_lr += model.predict_proba(Xtest_meta)\n",
    "        \n",
    "        score = log_loss(val_y_oh, y_pred)\n",
    "        oof_score += score\n",
    "        seed_score += score\n",
    "        print(\"Seed-{} | Fold-{} | OOF Score: {}\".format(seed, idx, score))\n",
    "    \n",
    "    print(\"\\nSeed: {} | Aggregate OOF Score: {}\\n\\n\".format(seed, (seed_score / FOLD)))\n",
    "\n",
    "\n",
    "y_pred_meta_lr = y_pred_meta_lr / float(NUM_SEED)\n",
    "y_pred_final_lr = y_pred_final_lr / float(counter)\n",
    "oof_score /= float(counter)\n",
    "print(\"Aggregate OOF Score: {}\".format(oof_score))"
   ]
  },
  {
   "cell_type": "code",
   "execution_count": 6,
   "id": "b9742b60",
   "metadata": {
    "execution": {
     "iopub.execute_input": "2021-05-25T16:17:37.179918Z",
     "iopub.status.busy": "2021-05-25T16:17:37.179070Z",
     "iopub.status.idle": "2021-05-25T16:17:37.906526Z",
     "shell.execute_reply": "2021-05-25T16:17:37.906002Z"
    },
    "papermill": {
     "duration": 0.774939,
     "end_time": "2021-05-25T16:17:37.906672",
     "exception": false,
     "start_time": "2021-05-25T16:17:37.131733",
     "status": "completed"
    },
    "tags": []
   },
   "outputs": [
    {
     "data": {
      "text/html": [
       "<div>\n",
       "<style scoped>\n",
       "    .dataframe tbody tr th:only-of-type {\n",
       "        vertical-align: middle;\n",
       "    }\n",
       "\n",
       "    .dataframe tbody tr th {\n",
       "        vertical-align: top;\n",
       "    }\n",
       "\n",
       "    .dataframe thead th {\n",
       "        text-align: right;\n",
       "    }\n",
       "</style>\n",
       "<table border=\"1\" class=\"dataframe\">\n",
       "  <thead>\n",
       "    <tr style=\"text-align: right;\">\n",
       "      <th></th>\n",
       "      <th>id</th>\n",
       "      <th>Class_1</th>\n",
       "      <th>Class_2</th>\n",
       "      <th>Class_3</th>\n",
       "      <th>Class_4</th>\n",
       "    </tr>\n",
       "  </thead>\n",
       "  <tbody>\n",
       "    <tr>\n",
       "      <th>0</th>\n",
       "      <td>100000</td>\n",
       "      <td>0.086097</td>\n",
       "      <td>0.640418</td>\n",
       "      <td>0.168208</td>\n",
       "      <td>0.105277</td>\n",
       "    </tr>\n",
       "    <tr>\n",
       "      <th>1</th>\n",
       "      <td>100001</td>\n",
       "      <td>0.085170</td>\n",
       "      <td>0.686622</td>\n",
       "      <td>0.140141</td>\n",
       "      <td>0.088067</td>\n",
       "    </tr>\n",
       "    <tr>\n",
       "      <th>2</th>\n",
       "      <td>100002</td>\n",
       "      <td>0.086082</td>\n",
       "      <td>0.670839</td>\n",
       "      <td>0.151071</td>\n",
       "      <td>0.092008</td>\n",
       "    </tr>\n",
       "    <tr>\n",
       "      <th>3</th>\n",
       "      <td>100003</td>\n",
       "      <td>0.091525</td>\n",
       "      <td>0.528176</td>\n",
       "      <td>0.277880</td>\n",
       "      <td>0.102420</td>\n",
       "    </tr>\n",
       "    <tr>\n",
       "      <th>4</th>\n",
       "      <td>100004</td>\n",
       "      <td>0.085982</td>\n",
       "      <td>0.652313</td>\n",
       "      <td>0.160165</td>\n",
       "      <td>0.101540</td>\n",
       "    </tr>\n",
       "  </tbody>\n",
       "</table>\n",
       "</div>"
      ],
      "text/plain": [
       "       id   Class_1   Class_2   Class_3   Class_4\n",
       "0  100000  0.086097  0.640418  0.168208  0.105277\n",
       "1  100001  0.085170  0.686622  0.140141  0.088067\n",
       "2  100002  0.086082  0.670839  0.151071  0.092008\n",
       "3  100003  0.091525  0.528176  0.277880  0.102420\n",
       "4  100004  0.085982  0.652313  0.160165  0.101540"
      ]
     },
     "execution_count": 6,
     "metadata": {},
     "output_type": "execute_result"
    }
   ],
   "source": [
    "y_pred_final_lr = np.clip(y_pred_final_lr, p_min, p_max)\n",
    "\n",
    "test_df = pd.read_csv(\"../input/tabular-playground-series-may-2021/test.csv\")\n",
    "submit_df = pd.DataFrame()\n",
    "submit_df['id'] = test_df['id']\n",
    "submit_df['Class_1'] = y_pred_final_lr[:,0]\n",
    "submit_df['Class_2'] = y_pred_final_lr[:,1]\n",
    "submit_df['Class_3'] = y_pred_final_lr[:,2]\n",
    "submit_df['Class_4'] = y_pred_final_lr[:,3]\n",
    "submit_df.to_csv(\"./LR_submission.csv\", index=False)\n",
    "submit_df.head()"
   ]
  },
  {
   "cell_type": "markdown",
   "id": "6bd843b5",
   "metadata": {
    "papermill": {
     "duration": 0.021585,
     "end_time": "2021-05-25T16:17:37.950671",
     "exception": false,
     "start_time": "2021-05-25T16:17:37.929086",
     "status": "completed"
    },
    "tags": []
   },
   "source": [
    "## RandomForest Classifier"
   ]
  },
  {
   "cell_type": "code",
   "execution_count": 7,
   "id": "7e09c3f9",
   "metadata": {
    "execution": {
     "iopub.execute_input": "2021-05-25T16:17:38.005954Z",
     "iopub.status.busy": "2021-05-25T16:17:38.002779Z",
     "iopub.status.idle": "2021-05-25T16:25:44.396225Z",
     "shell.execute_reply": "2021-05-25T16:25:44.396747Z"
    },
    "papermill": {
     "duration": 486.424267,
     "end_time": "2021-05-25T16:25:44.396910",
     "exception": false,
     "start_time": "2021-05-25T16:17:37.972643",
     "status": "completed"
    },
    "tags": []
   },
   "outputs": [
    {
     "name": "stdout",
     "output_type": "stream",
     "text": [
      "Seed-24 | Fold-0 | OOF Score: 1.0855765772952302\n",
      "Seed-24 | Fold-1 | OOF Score: 1.0864002659992118\n",
      "Seed-24 | Fold-2 | OOF Score: 1.0905753300870722\n",
      "Seed-24 | Fold-3 | OOF Score: 1.0846747216511285\n",
      "Seed-24 | Fold-4 | OOF Score: 1.0876702140794334\n",
      "Seed-24 | Fold-5 | OOF Score: 1.0875061453365542\n",
      "Seed-24 | Fold-6 | OOF Score: 1.086451383955301\n",
      "Seed-24 | Fold-7 | OOF Score: 1.0874716669206075\n",
      "Seed-24 | Fold-8 | OOF Score: 1.0844100217540482\n",
      "Seed-24 | Fold-9 | OOF Score: 1.089702890761316\n",
      "\n",
      "Seed: 24 | Aggregate OOF Score: 1.0870439217839902\n",
      "\n",
      "\n",
      "Seed-3 | Fold-0 | OOF Score: 1.086814219793093\n",
      "Seed-3 | Fold-1 | OOF Score: 1.0858753786207949\n",
      "Seed-3 | Fold-2 | OOF Score: 1.0870390295952859\n",
      "Seed-3 | Fold-3 | OOF Score: 1.0903116028935158\n",
      "Seed-3 | Fold-4 | OOF Score: 1.0860026803522245\n",
      "Seed-3 | Fold-5 | OOF Score: 1.0891149338062116\n",
      "Seed-3 | Fold-6 | OOF Score: 1.0852614444756743\n",
      "Seed-3 | Fold-7 | OOF Score: 1.0868133623913716\n",
      "Seed-3 | Fold-8 | OOF Score: 1.0852327799103205\n",
      "Seed-3 | Fold-9 | OOF Score: 1.0887016799831815\n",
      "\n",
      "Seed: 3 | Aggregate OOF Score: 1.0871167111821674\n",
      "\n",
      "\n",
      "Aggregate OOF Score: 1.0870803164830787\n"
     ]
    }
   ],
   "source": [
    "FOLD = 10\n",
    "NUM_SEED = 2\n",
    "\n",
    "# Prediction Clipping Thresholds\n",
    "p_min = 0.025\n",
    "p_max = 1 - p_min\n",
    "\n",
    "np.random.seed(3)\n",
    "seeds = np.random.randint(0, 100, size=NUM_SEED)\n",
    "\n",
    "oof_score = 0\n",
    "y_pred_meta_rfc = np.zeros((Ytrain_meta.shape[0], 4))\n",
    "y_pred_final_rfc = np.zeros((Xtest_meta.shape[0], 4))\n",
    "counter = 0\n",
    "\n",
    "\n",
    "for sidx, seed in enumerate(seeds):\n",
    "    seed_score = 0\n",
    "    \n",
    "    kfold = StratifiedKFold(n_splits=FOLD, shuffle=True, random_state=seed)\n",
    "\n",
    "    for idx, (train, val) in enumerate(kfold.split(Xtrain_meta, Ytrain_meta)):\n",
    "        counter += 1\n",
    "\n",
    "        train_x, train_y, train_y_oh = Xtrain_meta[train], Ytrain_meta[train], Ytrain_oh[train]\n",
    "        val_x, val_y, val_y_oh = Xtrain_meta[val], Ytrain_meta[val], Ytrain_oh[val]\n",
    "\n",
    "        model = RandomForestClassifier(\n",
    "            max_depth=6, \n",
    "            random_state=0\n",
    "        )\n",
    "\n",
    "        model.fit(train_x, train_y)\n",
    "\n",
    "        y_pred = model.predict_proba(val_x)\n",
    "        y_pred = np.clip(y_pred, p_min, p_max)\n",
    "        y_pred_meta_rfc[val] += y_pred\n",
    "        y_pred_final_rfc += model.predict_proba(Xtest_meta)\n",
    "        \n",
    "        score = log_loss(val_y_oh, y_pred)\n",
    "        oof_score += score\n",
    "        seed_score += score\n",
    "        print(\"Seed-{} | Fold-{} | OOF Score: {}\".format(seed, idx, score))\n",
    "    \n",
    "    print(\"\\nSeed: {} | Aggregate OOF Score: {}\\n\\n\".format(seed, (seed_score / FOLD)))\n",
    "\n",
    "\n",
    "y_pred_meta_rfc = y_pred_meta_rfc / float(NUM_SEED)\n",
    "y_pred_final_rfc = y_pred_final_rfc / float(counter)\n",
    "oof_score /= float(counter)\n",
    "print(\"Aggregate OOF Score: {}\".format(oof_score))"
   ]
  },
  {
   "cell_type": "code",
   "execution_count": 8,
   "id": "ed1558df",
   "metadata": {
    "execution": {
     "iopub.execute_input": "2021-05-25T16:25:44.458953Z",
     "iopub.status.busy": "2021-05-25T16:25:44.458263Z",
     "iopub.status.idle": "2021-05-25T16:25:44.944061Z",
     "shell.execute_reply": "2021-05-25T16:25:44.943408Z"
    },
    "papermill": {
     "duration": 0.519323,
     "end_time": "2021-05-25T16:25:44.944208",
     "exception": false,
     "start_time": "2021-05-25T16:25:44.424885",
     "status": "completed"
    },
    "tags": []
   },
   "outputs": [
    {
     "data": {
      "text/html": [
       "<div>\n",
       "<style scoped>\n",
       "    .dataframe tbody tr th:only-of-type {\n",
       "        vertical-align: middle;\n",
       "    }\n",
       "\n",
       "    .dataframe tbody tr th {\n",
       "        vertical-align: top;\n",
       "    }\n",
       "\n",
       "    .dataframe thead th {\n",
       "        text-align: right;\n",
       "    }\n",
       "</style>\n",
       "<table border=\"1\" class=\"dataframe\">\n",
       "  <thead>\n",
       "    <tr style=\"text-align: right;\">\n",
       "      <th></th>\n",
       "      <th>id</th>\n",
       "      <th>Class_1</th>\n",
       "      <th>Class_2</th>\n",
       "      <th>Class_3</th>\n",
       "      <th>Class_4</th>\n",
       "    </tr>\n",
       "  </thead>\n",
       "  <tbody>\n",
       "    <tr>\n",
       "      <th>0</th>\n",
       "      <td>100000</td>\n",
       "      <td>0.085915</td>\n",
       "      <td>0.639332</td>\n",
       "      <td>0.171721</td>\n",
       "      <td>0.103032</td>\n",
       "    </tr>\n",
       "    <tr>\n",
       "      <th>1</th>\n",
       "      <td>100001</td>\n",
       "      <td>0.084012</td>\n",
       "      <td>0.680013</td>\n",
       "      <td>0.145266</td>\n",
       "      <td>0.090709</td>\n",
       "    </tr>\n",
       "    <tr>\n",
       "      <th>2</th>\n",
       "      <td>100002</td>\n",
       "      <td>0.085609</td>\n",
       "      <td>0.668547</td>\n",
       "      <td>0.155950</td>\n",
       "      <td>0.089894</td>\n",
       "    </tr>\n",
       "    <tr>\n",
       "      <th>3</th>\n",
       "      <td>100003</td>\n",
       "      <td>0.088023</td>\n",
       "      <td>0.546981</td>\n",
       "      <td>0.270568</td>\n",
       "      <td>0.094427</td>\n",
       "    </tr>\n",
       "    <tr>\n",
       "      <th>4</th>\n",
       "      <td>100004</td>\n",
       "      <td>0.085335</td>\n",
       "      <td>0.655085</td>\n",
       "      <td>0.161535</td>\n",
       "      <td>0.098045</td>\n",
       "    </tr>\n",
       "  </tbody>\n",
       "</table>\n",
       "</div>"
      ],
      "text/plain": [
       "       id   Class_1   Class_2   Class_3   Class_4\n",
       "0  100000  0.085915  0.639332  0.171721  0.103032\n",
       "1  100001  0.084012  0.680013  0.145266  0.090709\n",
       "2  100002  0.085609  0.668547  0.155950  0.089894\n",
       "3  100003  0.088023  0.546981  0.270568  0.094427\n",
       "4  100004  0.085335  0.655085  0.161535  0.098045"
      ]
     },
     "execution_count": 8,
     "metadata": {},
     "output_type": "execute_result"
    }
   ],
   "source": [
    "y_pred_final_rfc = np.clip(y_pred_final_rfc, p_min, p_max)\n",
    "\n",
    "submit_df['Class_1'] = y_pred_final_rfc[:,0]\n",
    "submit_df['Class_2'] = y_pred_final_rfc[:,1]\n",
    "submit_df['Class_3'] = y_pred_final_rfc[:,2]\n",
    "submit_df['Class_4'] = y_pred_final_rfc[:,3]\n",
    "submit_df.to_csv(\"./RFC_submission.csv\", index=False)\n",
    "submit_df.head()"
   ]
  },
  {
   "cell_type": "markdown",
   "id": "ba12ef6c",
   "metadata": {
    "papermill": {
     "duration": 0.028254,
     "end_time": "2021-05-25T16:25:45.001275",
     "exception": false,
     "start_time": "2021-05-25T16:25:44.973021",
     "status": "completed"
    },
    "tags": []
   },
   "source": [
    "## MLP Classifier"
   ]
  },
  {
   "cell_type": "code",
   "execution_count": 9,
   "id": "5cb189dd",
   "metadata": {
    "execution": {
     "iopub.execute_input": "2021-05-25T16:25:45.071323Z",
     "iopub.status.busy": "2021-05-25T16:25:45.070654Z",
     "iopub.status.idle": "2021-05-25T16:38:13.406816Z",
     "shell.execute_reply": "2021-05-25T16:38:13.407725Z"
    },
    "papermill": {
     "duration": 748.378209,
     "end_time": "2021-05-25T16:38:13.408046",
     "exception": false,
     "start_time": "2021-05-25T16:25:45.029837",
     "status": "completed"
    },
    "tags": []
   },
   "outputs": [
    {
     "name": "stdout",
     "output_type": "stream",
     "text": [
      "Seed-24 | Fold-0 | OOF Score: 1.0888281133983708\n",
      "Seed-24 | Fold-1 | OOF Score: 1.0864290930497793\n",
      "Seed-24 | Fold-2 | OOF Score: 1.0902727279213065\n",
      "Seed-24 | Fold-3 | OOF Score: 1.0838228271015413\n",
      "Seed-24 | Fold-4 | OOF Score: 1.0877151510786638\n",
      "Seed-24 | Fold-5 | OOF Score: 1.0876121708146684\n",
      "Seed-24 | Fold-6 | OOF Score: 1.0860095299674226\n",
      "Seed-24 | Fold-7 | OOF Score: 1.088939007147367\n",
      "Seed-24 | Fold-8 | OOF Score: 1.0839721229918253\n",
      "Seed-24 | Fold-9 | OOF Score: 1.0903805272679723\n",
      "\n",
      "Seed: 24 | Aggregate OOF Score: 1.0873981270738917\n",
      "\n",
      "\n",
      "Seed-3 | Fold-0 | OOF Score: 1.0861976030905405\n",
      "Seed-3 | Fold-1 | OOF Score: 1.0871011917845599\n",
      "Seed-3 | Fold-2 | OOF Score: 1.087031502949526\n",
      "Seed-3 | Fold-3 | OOF Score: 1.0899600812275303\n",
      "Seed-3 | Fold-4 | OOF Score: 1.0858633965637783\n",
      "Seed-3 | Fold-5 | OOF Score: 1.0902197546122352\n",
      "Seed-3 | Fold-6 | OOF Score: 1.0852611160962637\n",
      "Seed-3 | Fold-7 | OOF Score: 1.0876170412006922\n",
      "Seed-3 | Fold-8 | OOF Score: 1.085711673898688\n",
      "Seed-3 | Fold-9 | OOF Score: 1.0907563501682367\n",
      "\n",
      "Seed: 3 | Aggregate OOF Score: 1.0875719711592051\n",
      "\n",
      "\n",
      "Aggregate OOF Score: 1.0874850491165486\n"
     ]
    }
   ],
   "source": [
    "FOLD = 10\n",
    "NUM_SEED = 2\n",
    "\n",
    "# Prediction Clipping Thresholds\n",
    "p_min = 0.025\n",
    "p_max = 1 - p_min\n",
    "\n",
    "np.random.seed(3)\n",
    "seeds = np.random.randint(0, 100, size=NUM_SEED)\n",
    "\n",
    "oof_score = 0\n",
    "y_pred_meta_mlp = np.zeros((Ytrain_meta.shape[0], 4))\n",
    "y_pred_final_mlp = np.zeros((Xtest_meta.shape[0], 4))\n",
    "counter = 0\n",
    "\n",
    "\n",
    "for sidx, seed in enumerate(seeds):\n",
    "    seed_score = 0\n",
    "    \n",
    "    kfold = StratifiedKFold(n_splits=FOLD, shuffle=True, random_state=seed)\n",
    "\n",
    "    for idx, (train, val) in enumerate(kfold.split(Xtrain_meta, Ytrain_meta)):\n",
    "        counter += 1\n",
    "\n",
    "        train_x, train_y, train_y_oh = Xtrain_meta[train], Ytrain_meta[train], Ytrain_oh[train]\n",
    "        val_x, val_y, val_y_oh = Xtrain_meta[val], Ytrain_meta[val], Ytrain_oh[val]\n",
    "\n",
    "        model = MLPClassifier(\n",
    "            #hidden_layer_sizes=(64,32),\n",
    "            learning_rate='adaptive',\n",
    "            early_stopping=True,\n",
    "            n_iter_no_change=30,\n",
    "            random_state=0, \n",
    "            max_iter=1000,\n",
    "            verbose=False\n",
    "        )\n",
    "\n",
    "        model.fit(train_x, train_y)\n",
    "\n",
    "        y_pred = model.predict_proba(val_x)\n",
    "        y_pred = np.clip(y_pred, p_min, p_max)\n",
    "        y_pred_meta_mlp[val] += y_pred\n",
    "        y_pred_final_mlp += model.predict_proba(Xtest_meta)\n",
    "        \n",
    "        score = log_loss(val_y_oh, y_pred)\n",
    "        oof_score += score\n",
    "        seed_score += score\n",
    "        print(\"Seed-{} | Fold-{} | OOF Score: {}\".format(seed, idx, score))\n",
    "    \n",
    "    print(\"\\nSeed: {} | Aggregate OOF Score: {}\\n\\n\".format(seed, (seed_score / FOLD)))\n",
    "\n",
    "\n",
    "y_pred_meta_mlp = y_pred_meta_mlp / float(NUM_SEED)\n",
    "y_pred_final_mlp = y_pred_final_mlp / float(counter)\n",
    "oof_score /= float(counter)\n",
    "print(\"Aggregate OOF Score: {}\".format(oof_score))"
   ]
  },
  {
   "cell_type": "code",
   "execution_count": 10,
   "id": "48ecbde5",
   "metadata": {
    "execution": {
     "iopub.execute_input": "2021-05-25T16:38:13.521476Z",
     "iopub.status.busy": "2021-05-25T16:38:13.520743Z",
     "iopub.status.idle": "2021-05-25T16:38:14.005847Z",
     "shell.execute_reply": "2021-05-25T16:38:14.006352Z"
    },
    "papermill": {
     "duration": 0.53738,
     "end_time": "2021-05-25T16:38:14.006523",
     "exception": false,
     "start_time": "2021-05-25T16:38:13.469143",
     "status": "completed"
    },
    "tags": []
   },
   "outputs": [
    {
     "data": {
      "text/html": [
       "<div>\n",
       "<style scoped>\n",
       "    .dataframe tbody tr th:only-of-type {\n",
       "        vertical-align: middle;\n",
       "    }\n",
       "\n",
       "    .dataframe tbody tr th {\n",
       "        vertical-align: top;\n",
       "    }\n",
       "\n",
       "    .dataframe thead th {\n",
       "        text-align: right;\n",
       "    }\n",
       "</style>\n",
       "<table border=\"1\" class=\"dataframe\">\n",
       "  <thead>\n",
       "    <tr style=\"text-align: right;\">\n",
       "      <th></th>\n",
       "      <th>id</th>\n",
       "      <th>Class_1</th>\n",
       "      <th>Class_2</th>\n",
       "      <th>Class_3</th>\n",
       "      <th>Class_4</th>\n",
       "    </tr>\n",
       "  </thead>\n",
       "  <tbody>\n",
       "    <tr>\n",
       "      <th>0</th>\n",
       "      <td>100000</td>\n",
       "      <td>0.086837</td>\n",
       "      <td>0.639096</td>\n",
       "      <td>0.165598</td>\n",
       "      <td>0.108469</td>\n",
       "    </tr>\n",
       "    <tr>\n",
       "      <th>1</th>\n",
       "      <td>100001</td>\n",
       "      <td>0.086039</td>\n",
       "      <td>0.687720</td>\n",
       "      <td>0.137049</td>\n",
       "      <td>0.089191</td>\n",
       "    </tr>\n",
       "    <tr>\n",
       "      <th>2</th>\n",
       "      <td>100002</td>\n",
       "      <td>0.086721</td>\n",
       "      <td>0.671878</td>\n",
       "      <td>0.148147</td>\n",
       "      <td>0.093254</td>\n",
       "    </tr>\n",
       "    <tr>\n",
       "      <th>3</th>\n",
       "      <td>100003</td>\n",
       "      <td>0.090722</td>\n",
       "      <td>0.528250</td>\n",
       "      <td>0.280104</td>\n",
       "      <td>0.100924</td>\n",
       "    </tr>\n",
       "    <tr>\n",
       "      <th>4</th>\n",
       "      <td>100004</td>\n",
       "      <td>0.086607</td>\n",
       "      <td>0.652060</td>\n",
       "      <td>0.157136</td>\n",
       "      <td>0.104197</td>\n",
       "    </tr>\n",
       "  </tbody>\n",
       "</table>\n",
       "</div>"
      ],
      "text/plain": [
       "       id   Class_1   Class_2   Class_3   Class_4\n",
       "0  100000  0.086837  0.639096  0.165598  0.108469\n",
       "1  100001  0.086039  0.687720  0.137049  0.089191\n",
       "2  100002  0.086721  0.671878  0.148147  0.093254\n",
       "3  100003  0.090722  0.528250  0.280104  0.100924\n",
       "4  100004  0.086607  0.652060  0.157136  0.104197"
      ]
     },
     "execution_count": 10,
     "metadata": {},
     "output_type": "execute_result"
    }
   ],
   "source": [
    "y_pred_final_mlp = np.clip(y_pred_final_mlp, p_min, p_max)\n",
    "\n",
    "submit_df['Class_1'] = y_pred_final_mlp[:,0]\n",
    "submit_df['Class_2'] = y_pred_final_mlp[:,1]\n",
    "submit_df['Class_3'] = y_pred_final_mlp[:,2]\n",
    "submit_df['Class_4'] = y_pred_final_mlp[:,3]\n",
    "submit_df.to_csv(\"./MLP_submission.csv\", index=False)\n",
    "submit_df.head()"
   ]
  },
  {
   "cell_type": "markdown",
   "id": "c9a495b0",
   "metadata": {
    "papermill": {
     "duration": 0.034413,
     "end_time": "2021-05-25T16:38:14.076539",
     "exception": false,
     "start_time": "2021-05-25T16:38:14.042126",
     "status": "completed"
    },
    "tags": []
   },
   "source": [
    "## Voting Classifier"
   ]
  },
  {
   "cell_type": "code",
   "execution_count": 11,
   "id": "d6760c7b",
   "metadata": {
    "execution": {
     "iopub.execute_input": "2021-05-25T16:38:14.160336Z",
     "iopub.status.busy": "2021-05-25T16:38:14.154973Z",
     "iopub.status.idle": "2021-05-25T17:02:19.313850Z",
     "shell.execute_reply": "2021-05-25T17:02:19.314717Z"
    },
    "papermill": {
     "duration": 1445.203444,
     "end_time": "2021-05-25T17:02:19.314993",
     "exception": false,
     "start_time": "2021-05-25T16:38:14.111549",
     "status": "completed"
    },
    "tags": []
   },
   "outputs": [
    {
     "name": "stdout",
     "output_type": "stream",
     "text": [
      "Seed-24 | Fold-0 | OOF Score: 1.085847041274633\n",
      "Seed-24 | Fold-1 | OOF Score: 1.0861658149927687\n",
      "Seed-24 | Fold-2 | OOF Score: 1.0901739218168964\n",
      "Seed-24 | Fold-3 | OOF Score: 1.0839847611858657\n",
      "Seed-24 | Fold-4 | OOF Score: 1.0873938169736634\n",
      "Seed-24 | Fold-5 | OOF Score: 1.087066119744375\n",
      "Seed-24 | Fold-6 | OOF Score: 1.086032259082209\n",
      "Seed-24 | Fold-7 | OOF Score: 1.0871929249706784\n",
      "Seed-24 | Fold-8 | OOF Score: 1.0838796543720068\n",
      "Seed-24 | Fold-9 | OOF Score: 1.0893397799598257\n",
      "\n",
      "Seed: 24 | Aggregate OOF Score: 1.086707609437292\n",
      "\n",
      "\n",
      "Seed-3 | Fold-0 | OOF Score: 1.0854560412239531\n",
      "Seed-3 | Fold-1 | OOF Score: 1.0857177785509422\n",
      "Seed-3 | Fold-2 | OOF Score: 1.087063794437447\n",
      "Seed-3 | Fold-3 | OOF Score: 1.089526118082982\n",
      "Seed-3 | Fold-4 | OOF Score: 1.0858362059547353\n",
      "Seed-3 | Fold-5 | OOF Score: 1.0889290073191047\n",
      "Seed-3 | Fold-6 | OOF Score: 1.0848530792598698\n",
      "Seed-3 | Fold-7 | OOF Score: 1.0865901666359894\n",
      "Seed-3 | Fold-8 | OOF Score: 1.084824186128898\n",
      "Seed-3 | Fold-9 | OOF Score: 1.088625159148888\n",
      "\n",
      "Seed: 3 | Aggregate OOF Score: 1.086742153674281\n",
      "\n",
      "\n",
      "Aggregate OOF Score: 1.0867248815557864\n"
     ]
    }
   ],
   "source": [
    "FOLD = 10\n",
    "NUM_SEED = 2\n",
    "\n",
    "# Prediction Clipping Thresholds\n",
    "p_min = 0.025\n",
    "p_max = 1 - p_min\n",
    "\n",
    "np.random.seed(3)\n",
    "seeds = np.random.randint(0, 100, size=NUM_SEED)\n",
    "\n",
    "oof_score = 0\n",
    "y_pred_meta_vc = np.zeros((Ytrain_meta.shape[0], 4))\n",
    "y_pred_final_vc = np.zeros((Xtest_meta.shape[0], 4))\n",
    "counter = 0\n",
    "\n",
    "\n",
    "for sidx, seed in enumerate(seeds):\n",
    "    seed_score = 0\n",
    "    \n",
    "    kfold = StratifiedKFold(n_splits=FOLD, shuffle=True, random_state=seed)\n",
    "\n",
    "    for idx, (train, val) in enumerate(kfold.split(Xtrain_meta, Ytrain_meta)):\n",
    "        counter += 1\n",
    "\n",
    "        train_x, train_y, train_y_oh = Xtrain_meta[train], Ytrain_meta[train], Ytrain_oh[train]\n",
    "        val_x, val_y, val_y_oh = Xtrain_meta[val], Ytrain_meta[val], Ytrain_oh[val]\n",
    "\n",
    "        m1 = LogisticRegression(\n",
    "            max_iter=2000,\n",
    "            #class_weight=class_weight, \n",
    "            random_state=0\n",
    "        )\n",
    "        m2 = RandomForestClassifier(\n",
    "            max_depth=6, \n",
    "            random_state=0\n",
    "        )\n",
    "        m3 = MLPClassifier(\n",
    "            #hidden_layer_sizes=(64,32),\n",
    "            learning_rate='adaptive',\n",
    "            early_stopping=True,\n",
    "            n_iter_no_change=30,\n",
    "            random_state=0, \n",
    "            max_iter=1000,\n",
    "            verbose=False\n",
    "        )\n",
    "\n",
    "        model = VotingClassifier([('lr', m1), ('rfc', m2), ('mlp', m3)],\n",
    "                                 voting='soft', weights=[3,2,1])\n",
    "\n",
    "        model.fit(train_x, train_y)\n",
    "\n",
    "        y_pred = model.predict_proba(val_x)\n",
    "        y_pred = np.clip(y_pred, p_min, p_max)\n",
    "        y_pred_meta_vc[val] += y_pred\n",
    "        y_pred_final_vc += model.predict_proba(Xtest_meta)\n",
    "        \n",
    "        score = log_loss(val_y_oh, y_pred)\n",
    "        oof_score += score\n",
    "        seed_score += score\n",
    "        print(\"Seed-{} | Fold-{} | OOF Score: {}\".format(seed, idx, score))\n",
    "    \n",
    "    print(\"\\nSeed: {} | Aggregate OOF Score: {}\\n\\n\".format(seed, (seed_score / FOLD)))\n",
    "\n",
    "\n",
    "y_pred_meta_vc = y_pred_meta_vc / float(NUM_SEED)\n",
    "y_pred_final_vc = y_pred_final_vc / float(counter)\n",
    "oof_score /= float(counter)\n",
    "print(\"Aggregate OOF Score: {}\".format(oof_score))"
   ]
  },
  {
   "cell_type": "code",
   "execution_count": 12,
   "id": "27e244fd",
   "metadata": {
    "execution": {
     "iopub.execute_input": "2021-05-25T17:02:19.405166Z",
     "iopub.status.busy": "2021-05-25T17:02:19.404512Z",
     "iopub.status.idle": "2021-05-25T17:02:19.880265Z",
     "shell.execute_reply": "2021-05-25T17:02:19.880781Z"
    },
    "papermill": {
     "duration": 0.522348,
     "end_time": "2021-05-25T17:02:19.880968",
     "exception": false,
     "start_time": "2021-05-25T17:02:19.358620",
     "status": "completed"
    },
    "tags": []
   },
   "outputs": [
    {
     "data": {
      "text/html": [
       "<div>\n",
       "<style scoped>\n",
       "    .dataframe tbody tr th:only-of-type {\n",
       "        vertical-align: middle;\n",
       "    }\n",
       "\n",
       "    .dataframe tbody tr th {\n",
       "        vertical-align: top;\n",
       "    }\n",
       "\n",
       "    .dataframe thead th {\n",
       "        text-align: right;\n",
       "    }\n",
       "</style>\n",
       "<table border=\"1\" class=\"dataframe\">\n",
       "  <thead>\n",
       "    <tr style=\"text-align: right;\">\n",
       "      <th></th>\n",
       "      <th>id</th>\n",
       "      <th>Class_1</th>\n",
       "      <th>Class_2</th>\n",
       "      <th>Class_3</th>\n",
       "      <th>Class_4</th>\n",
       "    </tr>\n",
       "  </thead>\n",
       "  <tbody>\n",
       "    <tr>\n",
       "      <th>0</th>\n",
       "      <td>100000</td>\n",
       "      <td>0.086159</td>\n",
       "      <td>0.639836</td>\n",
       "      <td>0.168944</td>\n",
       "      <td>0.105061</td>\n",
       "    </tr>\n",
       "    <tr>\n",
       "      <th>1</th>\n",
       "      <td>100001</td>\n",
       "      <td>0.084929</td>\n",
       "      <td>0.684602</td>\n",
       "      <td>0.141334</td>\n",
       "      <td>0.089135</td>\n",
       "    </tr>\n",
       "    <tr>\n",
       "      <th>2</th>\n",
       "      <td>100002</td>\n",
       "      <td>0.086031</td>\n",
       "      <td>0.670248</td>\n",
       "      <td>0.152210</td>\n",
       "      <td>0.091511</td>\n",
       "    </tr>\n",
       "    <tr>\n",
       "      <th>3</th>\n",
       "      <td>100003</td>\n",
       "      <td>0.090224</td>\n",
       "      <td>0.534457</td>\n",
       "      <td>0.275813</td>\n",
       "      <td>0.099506</td>\n",
       "    </tr>\n",
       "    <tr>\n",
       "      <th>4</th>\n",
       "      <td>100004</td>\n",
       "      <td>0.085870</td>\n",
       "      <td>0.653195</td>\n",
       "      <td>0.160117</td>\n",
       "      <td>0.100818</td>\n",
       "    </tr>\n",
       "  </tbody>\n",
       "</table>\n",
       "</div>"
      ],
      "text/plain": [
       "       id   Class_1   Class_2   Class_3   Class_4\n",
       "0  100000  0.086159  0.639836  0.168944  0.105061\n",
       "1  100001  0.084929  0.684602  0.141334  0.089135\n",
       "2  100002  0.086031  0.670248  0.152210  0.091511\n",
       "3  100003  0.090224  0.534457  0.275813  0.099506\n",
       "4  100004  0.085870  0.653195  0.160117  0.100818"
      ]
     },
     "execution_count": 12,
     "metadata": {},
     "output_type": "execute_result"
    }
   ],
   "source": [
    "y_pred_final_vc = np.clip(y_pred_final_vc, p_min, p_max)\n",
    "\n",
    "submit_df['Class_1'] = y_pred_final_vc[:,0]\n",
    "submit_df['Class_2'] = y_pred_final_vc[:,1]\n",
    "submit_df['Class_3'] = y_pred_final_vc[:,2]\n",
    "submit_df['Class_4'] = y_pred_final_vc[:,3]\n",
    "submit_df.to_csv(\"./VC_submission.csv\", index=False)\n",
    "submit_df.head()"
   ]
  },
  {
   "cell_type": "code",
   "execution_count": 13,
   "id": "b9b59102",
   "metadata": {
    "execution": {
     "iopub.execute_input": "2021-05-25T17:02:19.968949Z",
     "iopub.status.busy": "2021-05-25T17:02:19.968271Z",
     "iopub.status.idle": "2021-05-25T17:02:20.445571Z",
     "shell.execute_reply": "2021-05-25T17:02:20.446066Z"
    },
    "papermill": {
     "duration": 0.523995,
     "end_time": "2021-05-25T17:02:20.446245",
     "exception": false,
     "start_time": "2021-05-25T17:02:19.922250",
     "status": "completed"
    },
    "tags": []
   },
   "outputs": [
    {
     "data": {
      "text/html": [
       "<div>\n",
       "<style scoped>\n",
       "    .dataframe tbody tr th:only-of-type {\n",
       "        vertical-align: middle;\n",
       "    }\n",
       "\n",
       "    .dataframe tbody tr th {\n",
       "        vertical-align: top;\n",
       "    }\n",
       "\n",
       "    .dataframe thead th {\n",
       "        text-align: right;\n",
       "    }\n",
       "</style>\n",
       "<table border=\"1\" class=\"dataframe\">\n",
       "  <thead>\n",
       "    <tr style=\"text-align: right;\">\n",
       "      <th></th>\n",
       "      <th>id</th>\n",
       "      <th>Class_1</th>\n",
       "      <th>Class_2</th>\n",
       "      <th>Class_3</th>\n",
       "      <th>Class_4</th>\n",
       "    </tr>\n",
       "  </thead>\n",
       "  <tbody>\n",
       "    <tr>\n",
       "      <th>0</th>\n",
       "      <td>100000</td>\n",
       "      <td>0.086181</td>\n",
       "      <td>0.639915</td>\n",
       "      <td>0.168630</td>\n",
       "      <td>0.105274</td>\n",
       "    </tr>\n",
       "    <tr>\n",
       "      <th>1</th>\n",
       "      <td>100001</td>\n",
       "      <td>0.085033</td>\n",
       "      <td>0.685162</td>\n",
       "      <td>0.140881</td>\n",
       "      <td>0.088924</td>\n",
       "    </tr>\n",
       "    <tr>\n",
       "      <th>2</th>\n",
       "      <td>100002</td>\n",
       "      <td>0.086075</td>\n",
       "      <td>0.670448</td>\n",
       "      <td>0.151779</td>\n",
       "      <td>0.091698</td>\n",
       "    </tr>\n",
       "    <tr>\n",
       "      <th>3</th>\n",
       "      <td>100003</td>\n",
       "      <td>0.090509</td>\n",
       "      <td>0.532890</td>\n",
       "      <td>0.276441</td>\n",
       "      <td>0.100160</td>\n",
       "    </tr>\n",
       "    <tr>\n",
       "      <th>4</th>\n",
       "      <td>100004</td>\n",
       "      <td>0.085929</td>\n",
       "      <td>0.652962</td>\n",
       "      <td>0.159977</td>\n",
       "      <td>0.101132</td>\n",
       "    </tr>\n",
       "  </tbody>\n",
       "</table>\n",
       "</div>"
      ],
      "text/plain": [
       "       id   Class_1   Class_2   Class_3   Class_4\n",
       "0  100000  0.086181  0.639915  0.168630  0.105274\n",
       "1  100001  0.085033  0.685162  0.140881  0.088924\n",
       "2  100002  0.086075  0.670448  0.151779  0.091698\n",
       "3  100003  0.090509  0.532890  0.276441  0.100160\n",
       "4  100004  0.085929  0.652962  0.159977  0.101132"
      ]
     },
     "execution_count": 13,
     "metadata": {},
     "output_type": "execute_result"
    }
   ],
   "source": [
    "y_pred_final = (y_pred_final_lr * 0.35) + \\\n",
    "               (y_pred_final_rfc * 0.1) + \\\n",
    "               (y_pred_final_mlp * 0.1) + \\\n",
    "               (y_pred_final_vc * 0.45)\n",
    "\n",
    "submit_df['Class_1'] = y_pred_final[:,0]\n",
    "submit_df['Class_2'] = y_pred_final[:,1]\n",
    "submit_df['Class_3'] = y_pred_final[:,2]\n",
    "submit_df['Class_4'] = y_pred_final[:,3]\n",
    "submit_df.to_csv(\"./BLEND_submission2.csv\", index=False)\n",
    "submit_df.head()"
   ]
  },
  {
   "cell_type": "code",
   "execution_count": null,
   "id": "53ba5906",
   "metadata": {
    "papermill": {
     "duration": 0.040987,
     "end_time": "2021-05-25T17:02:20.528579",
     "exception": false,
     "start_time": "2021-05-25T17:02:20.487592",
     "status": "completed"
    },
    "tags": []
   },
   "outputs": [],
   "source": []
  }
 ],
 "metadata": {
  "kernelspec": {
   "display_name": "Python 3",
   "language": "python",
   "name": "python3"
  },
  "language_info": {
   "codemirror_mode": {
    "name": "ipython",
    "version": 3
   },
   "file_extension": ".py",
   "mimetype": "text/x-python",
   "name": "python",
   "nbconvert_exporter": "python",
   "pygments_lexer": "ipython3",
   "version": "3.8.8"
  },
  "papermill": {
   "default_parameters": {},
   "duration": 2922.927158,
   "end_time": "2021-05-25T17:02:22.081155",
   "environment_variables": {},
   "exception": null,
   "input_path": "__notebook__.ipynb",
   "output_path": "__notebook__.ipynb",
   "parameters": {},
   "start_time": "2021-05-25T16:13:39.153997",
   "version": "2.3.3"
  }
 },
 "nbformat": 4,
 "nbformat_minor": 5
}
