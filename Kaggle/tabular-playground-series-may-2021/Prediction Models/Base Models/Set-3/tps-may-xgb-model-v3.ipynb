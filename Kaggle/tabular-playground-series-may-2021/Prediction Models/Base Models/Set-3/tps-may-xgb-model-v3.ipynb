{
 "cells": [
  {
   "cell_type": "markdown",
   "id": "caring-culture",
   "metadata": {
    "id": "uLz9OcH8SeET",
    "papermill": {
     "duration": 0.00998,
     "end_time": "2021-05-16T06:43:40.973262",
     "exception": false,
     "start_time": "2021-05-16T06:43:40.963282",
     "status": "completed"
    },
    "tags": []
   },
   "source": [
    "## Import libraries"
   ]
  },
  {
   "cell_type": "code",
   "execution_count": 1,
   "id": "simplified-scheme",
   "metadata": {
    "execution": {
     "iopub.execute_input": "2021-05-16T06:43:41.000903Z",
     "iopub.status.busy": "2021-05-16T06:43:41.000284Z",
     "iopub.status.idle": "2021-05-16T06:43:41.769022Z",
     "shell.execute_reply": "2021-05-16T06:43:41.768413Z"
    },
    "executionInfo": {
     "elapsed": 23727,
     "status": "ok",
     "timestamp": 1616326442041,
     "user": {
      "displayName": "TAPAS DAS",
      "photoUrl": "https://lh3.googleusercontent.com/a-/AOh14GiyffdGKiPCR_UwVittzTcbBFms70IkGfU15fatCA=s64",
      "userId": "10798398878324948542"
     },
     "user_tz": -330
    },
    "id": "E9svswc9SUuX",
    "papermill": {
     "duration": 0.786855,
     "end_time": "2021-05-16T06:43:41.769175",
     "exception": false,
     "start_time": "2021-05-16T06:43:40.982320",
     "status": "completed"
    },
    "tags": []
   },
   "outputs": [],
   "source": [
    "import gc\n",
    "import pickle\n",
    "import numpy as np\n",
    "import pandas as pd\n",
    "from tqdm import tqdm\n",
    "from xgboost import XGBClassifier\n",
    "from sklearn.metrics import log_loss\n",
    "from sklearn.model_selection import StratifiedKFold"
   ]
  },
  {
   "cell_type": "markdown",
   "id": "lined-cologne",
   "metadata": {
    "id": "hg85SpW-S6hl",
    "papermill": {
     "duration": 0.008849,
     "end_time": "2021-05-16T06:43:41.788118",
     "exception": false,
     "start_time": "2021-05-16T06:43:41.779269",
     "status": "completed"
    },
    "tags": []
   },
   "source": [
    "## Prepare data for model training"
   ]
  },
  {
   "cell_type": "code",
   "execution_count": 2,
   "id": "compact-attitude",
   "metadata": {
    "execution": {
     "iopub.execute_input": "2021-05-16T06:43:41.810115Z",
     "iopub.status.busy": "2021-05-16T06:43:41.809613Z",
     "iopub.status.idle": "2021-05-16T06:43:47.647832Z",
     "shell.execute_reply": "2021-05-16T06:43:47.647396Z"
    },
    "executionInfo": {
     "elapsed": 10043,
     "status": "ok",
     "timestamp": 1616326444482,
     "user": {
      "displayName": "TAPAS DAS",
      "photoUrl": "https://lh3.googleusercontent.com/a-/AOh14GiyffdGKiPCR_UwVittzTcbBFms70IkGfU15fatCA=s64",
      "userId": "10798398878324948542"
     },
     "user_tz": -330
    },
    "id": "VdhgoIAmSUxK",
    "outputId": "7897cfad-c8d4-46d9-86ea-04de37e11444",
    "papermill": {
     "duration": 5.850807,
     "end_time": "2021-05-16T06:43:47.647954",
     "exception": false,
     "start_time": "2021-05-16T06:43:41.797147",
     "status": "completed"
    },
    "tags": []
   },
   "outputs": [
    {
     "data": {
      "text/plain": [
       "20"
      ]
     },
     "execution_count": 2,
     "metadata": {},
     "output_type": "execute_result"
    }
   ],
   "source": [
    "with open(\"../input/tps-may-data-preprocess-v3/TPS_May_Dataset_w_Org.txt\", 'rb') as handle: \n",
    "    data = handle.read()\n",
    "\n",
    "processed_data = pickle.loads(data)\n",
    "train_df = processed_data['train_df']\n",
    "test_df = processed_data['test_df']\n",
    "\n",
    "del processed_data\n",
    "gc.collect()"
   ]
  },
  {
   "cell_type": "code",
   "execution_count": 3,
   "id": "important-finish",
   "metadata": {
    "execution": {
     "iopub.execute_input": "2021-05-16T06:43:47.688744Z",
     "iopub.status.busy": "2021-05-16T06:43:47.688172Z",
     "iopub.status.idle": "2021-05-16T06:43:47.742749Z",
     "shell.execute_reply": "2021-05-16T06:43:47.740777Z"
    },
    "papermill": {
     "duration": 0.085145,
     "end_time": "2021-05-16T06:43:47.742899",
     "exception": false,
     "start_time": "2021-05-16T06:43:47.657754",
     "status": "completed"
    },
    "tags": []
   },
   "outputs": [
    {
     "name": "stderr",
     "output_type": "stream",
     "text": [
      "100%|██████████| 50/50 [00:00<00:00, 1164.26it/s]"
     ]
    },
    {
     "name": "stdout",
     "output_type": "stream",
     "text": [
      "37\n"
     ]
    },
    {
     "name": "stderr",
     "output_type": "stream",
     "text": [
      "\n"
     ]
    },
    {
     "data": {
      "text/plain": [
       "['feature_0',\n",
       " 'feature_2',\n",
       " 'feature_3',\n",
       " 'feature_4',\n",
       " 'feature_5',\n",
       " 'feature_6',\n",
       " 'feature_7',\n",
       " 'feature_9',\n",
       " 'feature_10',\n",
       " 'feature_11',\n",
       " 'feature_12',\n",
       " 'feature_13',\n",
       " 'feature_15',\n",
       " 'feature_16',\n",
       " 'feature_17',\n",
       " 'feature_18',\n",
       " 'feature_20',\n",
       " 'feature_21',\n",
       " 'feature_22',\n",
       " 'feature_23',\n",
       " 'feature_25',\n",
       " 'feature_26',\n",
       " 'feature_27',\n",
       " 'feature_28',\n",
       " 'feature_29',\n",
       " 'feature_32',\n",
       " 'feature_33',\n",
       " 'feature_34',\n",
       " 'feature_35',\n",
       " 'feature_36',\n",
       " 'feature_38',\n",
       " 'feature_39',\n",
       " 'feature_42',\n",
       " 'feature_43',\n",
       " 'feature_44',\n",
       " 'feature_46',\n",
       " 'feature_49']"
      ]
     },
     "execution_count": 3,
     "metadata": {},
     "output_type": "execute_result"
    }
   ],
   "source": [
    "cat_cols = []\n",
    "for col in tqdm(train_df.iloc[:,0:50].columns):\n",
    "    train_ = train_df[col].unique().tolist()\n",
    "    test_ = test_df[col].unique().tolist()\n",
    "    \n",
    "    train_.sort()\n",
    "    test_.sort()\n",
    "    \n",
    "    if train_ == test_:\n",
    "        cat_cols.append(col)\n",
    "\n",
    "print(len(cat_cols))\n",
    "cat_cols"
   ]
  },
  {
   "cell_type": "code",
   "execution_count": 4,
   "id": "premium-theory",
   "metadata": {
    "execution": {
     "iopub.execute_input": "2021-05-16T06:43:47.775050Z",
     "iopub.status.busy": "2021-05-16T06:43:47.773982Z",
     "iopub.status.idle": "2021-05-16T06:44:07.933286Z",
     "shell.execute_reply": "2021-05-16T06:44:07.934238Z"
    },
    "papermill": {
     "duration": 20.179646,
     "end_time": "2021-05-16T06:44:07.934430",
     "exception": false,
     "start_time": "2021-05-16T06:43:47.754784",
     "status": "completed"
    },
    "tags": []
   },
   "outputs": [
    {
     "name": "stderr",
     "output_type": "stream",
     "text": [
      "100%|██████████| 37/37 [00:13<00:00,  2.77it/s]\n",
      "  3%|▎         | 1/37 [00:00<00:05,  6.33it/s]"
     ]
    },
    {
     "name": "stdout",
     "output_type": "stream",
     "text": [
      "train_df: (99918, 1886)\n"
     ]
    },
    {
     "name": "stderr",
     "output_type": "stream",
     "text": [
      "100%|██████████| 37/37 [00:06<00:00,  5.52it/s]"
     ]
    },
    {
     "name": "stdout",
     "output_type": "stream",
     "text": [
      "test_df: (50000, 1885)\n"
     ]
    },
    {
     "name": "stderr",
     "output_type": "stream",
     "text": [
      "\n"
     ]
    }
   ],
   "source": [
    "train_df[cat_cols] = train_df[cat_cols].astype(int)\n",
    "test_df[cat_cols] = test_df[cat_cols].astype(int)\n",
    "\n",
    "for col in tqdm(cat_cols):\n",
    "    dummy_val = pd.get_dummies(train_df[col], prefix='col')\n",
    "    train_df = pd.concat([train_df, dummy_val], axis=1)\n",
    "    train_df.drop([col], inplace=True, axis=1)\n",
    "\n",
    "print(\"train_df: {}\".format(train_df.shape))\n",
    "\n",
    "for col in tqdm(cat_cols):\n",
    "    dummy_val = pd.get_dummies(test_df[col], prefix='col')\n",
    "    test_df = pd.concat([test_df, dummy_val], axis=1)\n",
    "    test_df.drop([col], inplace=True, axis=1)\n",
    "\n",
    "print(\"test_df: {}\".format(test_df.shape))"
   ]
  },
  {
   "cell_type": "code",
   "execution_count": 5,
   "id": "composed-amsterdam",
   "metadata": {
    "execution": {
     "iopub.execute_input": "2021-05-16T06:44:08.051266Z",
     "iopub.status.busy": "2021-05-16T06:44:08.050547Z",
     "iopub.status.idle": "2021-05-16T06:44:08.904110Z",
     "shell.execute_reply": "2021-05-16T06:44:08.903366Z"
    },
    "executionInfo": {
     "elapsed": 2058,
     "status": "ok",
     "timestamp": 1616326525321,
     "user": {
      "displayName": "TAPAS DAS",
      "photoUrl": "https://lh3.googleusercontent.com/a-/AOh14GiyffdGKiPCR_UwVittzTcbBFms70IkGfU15fatCA=s64",
      "userId": "10798398878324948542"
     },
     "user_tz": -330
    },
    "id": "UAfyHbeASU7C",
    "outputId": "14c429a7-7b43-4065-afae-da7d4f6679a9",
    "papermill": {
     "duration": 0.918216,
     "end_time": "2021-05-16T06:44:08.904241",
     "exception": false,
     "start_time": "2021-05-16T06:44:07.986025",
     "status": "completed"
    },
    "tags": []
   },
   "outputs": [
    {
     "name": "stdout",
     "output_type": "stream",
     "text": [
      "Xtrain: (99918, 1885) \n",
      "Ytrain: (99918,) \n",
      "Ytrain_oh: (99918, 4) \n",
      "Xtest: (50000, 1885)\n"
     ]
    },
    {
     "data": {
      "text/plain": [
       "100"
      ]
     },
     "execution_count": 5,
     "metadata": {},
     "output_type": "execute_result"
    }
   ],
   "source": [
    "Xtrain = train_df.loc[:, train_df.columns != 'target'].values\n",
    "Ytrain = train_df['target'].values\n",
    "Ytrain_oh = pd.get_dummies(train_df['target']).values\n",
    "Xtest = test_df.values\n",
    "\n",
    "print(\"Xtrain: {} \\nYtrain: {} \\nYtrain_oh: {} \\nXtest: {}\".format(Xtrain.shape, Ytrain.shape, \n",
    "                                                                   Ytrain_oh.shape, Xtest.shape))\n",
    "\n",
    "del train_df\n",
    "del test_df\n",
    "gc.collect()"
   ]
  },
  {
   "cell_type": "markdown",
   "id": "informed-broadway",
   "metadata": {
    "id": "9wNC5rWEVnjd",
    "papermill": {
     "duration": 0.031114,
     "end_time": "2021-05-16T06:44:08.966912",
     "exception": false,
     "start_time": "2021-05-16T06:44:08.935798",
     "status": "completed"
    },
    "tags": []
   },
   "source": [
    "## Build and validate the model"
   ]
  },
  {
   "cell_type": "code",
   "execution_count": 6,
   "id": "passing-preference",
   "metadata": {
    "execution": {
     "iopub.execute_input": "2021-05-16T06:44:09.043126Z",
     "iopub.status.busy": "2021-05-16T06:44:09.042311Z",
     "iopub.status.idle": "2021-05-16T06:56:41.037810Z",
     "shell.execute_reply": "2021-05-16T06:56:41.038754Z"
    },
    "id": "uWPosEORSVBp",
    "outputId": "d70ac047-a86b-4f36-84cc-960b1b5316be",
    "papermill": {
     "duration": 752.04017,
     "end_time": "2021-05-16T06:56:41.038956",
     "exception": false,
     "start_time": "2021-05-16T06:44:08.998786",
     "status": "completed"
    },
    "tags": []
   },
   "outputs": [
    {
     "name": "stdout",
     "output_type": "stream",
     "text": [
      "[0]\tvalidation_0-mlogloss:1.34610\tvalidation_1-mlogloss:1.34713\n",
      "[50]\tvalidation_0-mlogloss:1.05478\tvalidation_1-mlogloss:1.09714\n",
      "[99]\tvalidation_0-mlogloss:1.02020\tvalidation_1-mlogloss:1.09469\n"
     ]
    },
    {
     "name": "stderr",
     "output_type": "stream",
     "text": [
      "/opt/conda/lib/python3.7/site-packages/xgboost/data.py:114: UserWarning: Use subset (sliced data) of np.ndarray is not recommended because it will generate extra copies and increase memory consumption\n",
      "  \"because it will generate extra copies and increase \" +\n"
     ]
    },
    {
     "name": "stdout",
     "output_type": "stream",
     "text": [
      "Seed-85 | Fold-0 | OOF Score: 1.0945829360442365\n",
      "[0]\tvalidation_0-mlogloss:1.34604\tvalidation_1-mlogloss:1.34690\n",
      "[50]\tvalidation_0-mlogloss:1.05521\tvalidation_1-mlogloss:1.09602\n",
      "[99]\tvalidation_0-mlogloss:1.02177\tvalidation_1-mlogloss:1.09367\n"
     ]
    },
    {
     "name": "stderr",
     "output_type": "stream",
     "text": [
      "/opt/conda/lib/python3.7/site-packages/xgboost/data.py:114: UserWarning: Use subset (sliced data) of np.ndarray is not recommended because it will generate extra copies and increase memory consumption\n",
      "  \"because it will generate extra copies and increase \" +\n"
     ]
    },
    {
     "name": "stdout",
     "output_type": "stream",
     "text": [
      "Seed-85 | Fold-1 | OOF Score: 1.0935679915531862\n",
      "[0]\tvalidation_0-mlogloss:1.34591\tvalidation_1-mlogloss:1.34699\n",
      "[50]\tvalidation_0-mlogloss:1.05454\tvalidation_1-mlogloss:1.09676\n",
      "[99]\tvalidation_0-mlogloss:1.02059\tvalidation_1-mlogloss:1.09423\n"
     ]
    },
    {
     "name": "stderr",
     "output_type": "stream",
     "text": [
      "/opt/conda/lib/python3.7/site-packages/xgboost/data.py:114: UserWarning: Use subset (sliced data) of np.ndarray is not recommended because it will generate extra copies and increase memory consumption\n",
      "  \"because it will generate extra copies and increase \" +\n"
     ]
    },
    {
     "name": "stdout",
     "output_type": "stream",
     "text": [
      "Seed-85 | Fold-2 | OOF Score: 1.0941906668487384\n",
      "[0]\tvalidation_0-mlogloss:1.34621\tvalidation_1-mlogloss:1.34685\n",
      "[50]\tvalidation_0-mlogloss:1.05502\tvalidation_1-mlogloss:1.09598\n",
      "[99]\tvalidation_0-mlogloss:1.02036\tvalidation_1-mlogloss:1.09360\n"
     ]
    },
    {
     "name": "stderr",
     "output_type": "stream",
     "text": [
      "/opt/conda/lib/python3.7/site-packages/xgboost/data.py:114: UserWarning: Use subset (sliced data) of np.ndarray is not recommended because it will generate extra copies and increase memory consumption\n",
      "  \"because it will generate extra copies and increase \" +\n"
     ]
    },
    {
     "name": "stdout",
     "output_type": "stream",
     "text": [
      "Seed-85 | Fold-3 | OOF Score: 1.0935670621215916\n",
      "[0]\tvalidation_0-mlogloss:1.34614\tvalidation_1-mlogloss:1.34710\n",
      "[50]\tvalidation_0-mlogloss:1.05567\tvalidation_1-mlogloss:1.09779\n",
      "[99]\tvalidation_0-mlogloss:1.02056\tvalidation_1-mlogloss:1.09519\n"
     ]
    },
    {
     "name": "stderr",
     "output_type": "stream",
     "text": [
      "/opt/conda/lib/python3.7/site-packages/xgboost/data.py:114: UserWarning: Use subset (sliced data) of np.ndarray is not recommended because it will generate extra copies and increase memory consumption\n",
      "  \"because it will generate extra copies and increase \" +\n"
     ]
    },
    {
     "name": "stdout",
     "output_type": "stream",
     "text": [
      "Seed-85 | Fold-4 | OOF Score: 1.0952761650124223\n",
      "[0]\tvalidation_0-mlogloss:1.34592\tvalidation_1-mlogloss:1.34707\n",
      "[50]\tvalidation_0-mlogloss:1.05372\tvalidation_1-mlogloss:1.09815\n",
      "[99]\tvalidation_0-mlogloss:1.01851\tvalidation_1-mlogloss:1.09649\n"
     ]
    },
    {
     "name": "stderr",
     "output_type": "stream",
     "text": [
      "/opt/conda/lib/python3.7/site-packages/xgboost/data.py:114: UserWarning: Use subset (sliced data) of np.ndarray is not recommended because it will generate extra copies and increase memory consumption\n",
      "  \"because it will generate extra copies and increase \" +\n"
     ]
    },
    {
     "name": "stdout",
     "output_type": "stream",
     "text": [
      "Seed-85 | Fold-5 | OOF Score: 1.096515994384032\n",
      "[0]\tvalidation_0-mlogloss:1.34594\tvalidation_1-mlogloss:1.34705\n",
      "[50]\tvalidation_0-mlogloss:1.05544\tvalidation_1-mlogloss:1.09617\n",
      "[99]\tvalidation_0-mlogloss:1.02023\tvalidation_1-mlogloss:1.09284\n"
     ]
    },
    {
     "name": "stderr",
     "output_type": "stream",
     "text": [
      "/opt/conda/lib/python3.7/site-packages/xgboost/data.py:114: UserWarning: Use subset (sliced data) of np.ndarray is not recommended because it will generate extra copies and increase memory consumption\n",
      "  \"because it will generate extra copies and increase \" +\n"
     ]
    },
    {
     "name": "stdout",
     "output_type": "stream",
     "text": [
      "Seed-85 | Fold-6 | OOF Score: 1.0928971964606435\n",
      "[0]\tvalidation_0-mlogloss:1.34609\tvalidation_1-mlogloss:1.34706\n",
      "[50]\tvalidation_0-mlogloss:1.05532\tvalidation_1-mlogloss:1.09872\n",
      "[99]\tvalidation_0-mlogloss:1.02114\tvalidation_1-mlogloss:1.09699\n"
     ]
    },
    {
     "name": "stderr",
     "output_type": "stream",
     "text": [
      "/opt/conda/lib/python3.7/site-packages/xgboost/data.py:114: UserWarning: Use subset (sliced data) of np.ndarray is not recommended because it will generate extra copies and increase memory consumption\n",
      "  \"because it will generate extra copies and increase \" +\n"
     ]
    },
    {
     "name": "stdout",
     "output_type": "stream",
     "text": [
      "Seed-85 | Fold-7 | OOF Score: 1.0968727077871228\n",
      "[0]\tvalidation_0-mlogloss:1.34604\tvalidation_1-mlogloss:1.34726\n",
      "[50]\tvalidation_0-mlogloss:1.05487\tvalidation_1-mlogloss:1.09869\n",
      "[99]\tvalidation_0-mlogloss:1.02022\tvalidation_1-mlogloss:1.09671\n"
     ]
    },
    {
     "name": "stderr",
     "output_type": "stream",
     "text": [
      "/opt/conda/lib/python3.7/site-packages/xgboost/data.py:114: UserWarning: Use subset (sliced data) of np.ndarray is not recommended because it will generate extra copies and increase memory consumption\n",
      "  \"because it will generate extra copies and increase \" +\n"
     ]
    },
    {
     "name": "stdout",
     "output_type": "stream",
     "text": [
      "Seed-85 | Fold-8 | OOF Score: 1.0967134827384957\n",
      "[0]\tvalidation_0-mlogloss:1.34604\tvalidation_1-mlogloss:1.34694\n",
      "[50]\tvalidation_0-mlogloss:1.05478\tvalidation_1-mlogloss:1.09757\n",
      "[99]\tvalidation_0-mlogloss:1.02065\tvalidation_1-mlogloss:1.09564\n"
     ]
    },
    {
     "name": "stderr",
     "output_type": "stream",
     "text": [
      "/opt/conda/lib/python3.7/site-packages/xgboost/data.py:114: UserWarning: Use subset (sliced data) of np.ndarray is not recommended because it will generate extra copies and increase memory consumption\n",
      "  \"because it will generate extra copies and increase \" +\n"
     ]
    },
    {
     "name": "stdout",
     "output_type": "stream",
     "text": [
      "Seed-85 | Fold-9 | OOF Score: 1.095483194424779\n",
      "\n",
      "Seed: 85 | Aggregate OOF Score: 1.0949667397375247\n",
      "\n",
      "\n",
      "[0]\tvalidation_0-mlogloss:1.34603\tvalidation_1-mlogloss:1.34695\n",
      "[50]\tvalidation_0-mlogloss:1.05457\tvalidation_1-mlogloss:1.09627\n",
      "[99]\tvalidation_0-mlogloss:1.01915\tvalidation_1-mlogloss:1.09408\n"
     ]
    },
    {
     "name": "stderr",
     "output_type": "stream",
     "text": [
      "/opt/conda/lib/python3.7/site-packages/xgboost/data.py:114: UserWarning: Use subset (sliced data) of np.ndarray is not recommended because it will generate extra copies and increase memory consumption\n",
      "  \"because it will generate extra copies and increase \" +\n"
     ]
    },
    {
     "name": "stdout",
     "output_type": "stream",
     "text": [
      "Seed-57 | Fold-0 | OOF Score: 1.0938765167611375\n",
      "[0]\tvalidation_0-mlogloss:1.34608\tvalidation_1-mlogloss:1.34690\n",
      "[50]\tvalidation_0-mlogloss:1.05499\tvalidation_1-mlogloss:1.09582\n",
      "[99]\tvalidation_0-mlogloss:1.02008\tvalidation_1-mlogloss:1.09327\n"
     ]
    },
    {
     "name": "stderr",
     "output_type": "stream",
     "text": [
      "/opt/conda/lib/python3.7/site-packages/xgboost/data.py:114: UserWarning: Use subset (sliced data) of np.ndarray is not recommended because it will generate extra copies and increase memory consumption\n",
      "  \"because it will generate extra copies and increase \" +\n"
     ]
    },
    {
     "name": "stdout",
     "output_type": "stream",
     "text": [
      "Seed-57 | Fold-1 | OOF Score: 1.093342297745524\n",
      "[0]\tvalidation_0-mlogloss:1.34606\tvalidation_1-mlogloss:1.34680\n",
      "[50]\tvalidation_0-mlogloss:1.05554\tvalidation_1-mlogloss:1.09648\n",
      "[99]\tvalidation_0-mlogloss:1.02173\tvalidation_1-mlogloss:1.09450\n"
     ]
    },
    {
     "name": "stderr",
     "output_type": "stream",
     "text": [
      "/opt/conda/lib/python3.7/site-packages/xgboost/data.py:114: UserWarning: Use subset (sliced data) of np.ndarray is not recommended because it will generate extra copies and increase memory consumption\n",
      "  \"because it will generate extra copies and increase \" +\n"
     ]
    },
    {
     "name": "stdout",
     "output_type": "stream",
     "text": [
      "Seed-57 | Fold-2 | OOF Score: 1.0945320294616674\n",
      "[0]\tvalidation_0-mlogloss:1.34602\tvalidation_1-mlogloss:1.34686\n",
      "[50]\tvalidation_0-mlogloss:1.05522\tvalidation_1-mlogloss:1.09643\n",
      "[99]\tvalidation_0-mlogloss:1.02069\tvalidation_1-mlogloss:1.09477\n"
     ]
    },
    {
     "name": "stderr",
     "output_type": "stream",
     "text": [
      "/opt/conda/lib/python3.7/site-packages/xgboost/data.py:114: UserWarning: Use subset (sliced data) of np.ndarray is not recommended because it will generate extra copies and increase memory consumption\n",
      "  \"because it will generate extra copies and increase \" +\n"
     ]
    },
    {
     "name": "stdout",
     "output_type": "stream",
     "text": [
      "Seed-57 | Fold-3 | OOF Score: 1.0946821560374826\n",
      "[0]\tvalidation_0-mlogloss:1.34627\tvalidation_1-mlogloss:1.34718\n",
      "[50]\tvalidation_0-mlogloss:1.05442\tvalidation_1-mlogloss:1.09940\n",
      "[99]\tvalidation_0-mlogloss:1.02012\tvalidation_1-mlogloss:1.09720\n"
     ]
    },
    {
     "name": "stderr",
     "output_type": "stream",
     "text": [
      "/opt/conda/lib/python3.7/site-packages/xgboost/data.py:114: UserWarning: Use subset (sliced data) of np.ndarray is not recommended because it will generate extra copies and increase memory consumption\n",
      "  \"because it will generate extra copies and increase \" +\n"
     ]
    },
    {
     "name": "stdout",
     "output_type": "stream",
     "text": [
      "Seed-57 | Fold-4 | OOF Score: 1.0972951247145812\n",
      "[0]\tvalidation_0-mlogloss:1.34612\tvalidation_1-mlogloss:1.34720\n",
      "[50]\tvalidation_0-mlogloss:1.05399\tvalidation_1-mlogloss:1.09924\n",
      "[99]\tvalidation_0-mlogloss:1.01886\tvalidation_1-mlogloss:1.09673\n"
     ]
    },
    {
     "name": "stderr",
     "output_type": "stream",
     "text": [
      "/opt/conda/lib/python3.7/site-packages/xgboost/data.py:114: UserWarning: Use subset (sliced data) of np.ndarray is not recommended because it will generate extra copies and increase memory consumption\n",
      "  \"because it will generate extra copies and increase \" +\n"
     ]
    },
    {
     "name": "stdout",
     "output_type": "stream",
     "text": [
      "Seed-57 | Fold-5 | OOF Score: 1.0968257629806943\n",
      "[0]\tvalidation_0-mlogloss:1.34596\tvalidation_1-mlogloss:1.34682\n",
      "[50]\tvalidation_0-mlogloss:1.05493\tvalidation_1-mlogloss:1.09580\n",
      "[99]\tvalidation_0-mlogloss:1.02072\tvalidation_1-mlogloss:1.09358\n"
     ]
    },
    {
     "name": "stderr",
     "output_type": "stream",
     "text": [
      "/opt/conda/lib/python3.7/site-packages/xgboost/data.py:114: UserWarning: Use subset (sliced data) of np.ndarray is not recommended because it will generate extra copies and increase memory consumption\n",
      "  \"because it will generate extra copies and increase \" +\n"
     ]
    },
    {
     "name": "stdout",
     "output_type": "stream",
     "text": [
      "Seed-57 | Fold-6 | OOF Score: 1.093567426772035\n",
      "[0]\tvalidation_0-mlogloss:1.34614\tvalidation_1-mlogloss:1.34717\n",
      "[50]\tvalidation_0-mlogloss:1.05468\tvalidation_1-mlogloss:1.09797\n",
      "[99]\tvalidation_0-mlogloss:1.01994\tvalidation_1-mlogloss:1.09554\n"
     ]
    },
    {
     "name": "stderr",
     "output_type": "stream",
     "text": [
      "/opt/conda/lib/python3.7/site-packages/xgboost/data.py:114: UserWarning: Use subset (sliced data) of np.ndarray is not recommended because it will generate extra copies and increase memory consumption\n",
      "  \"because it will generate extra copies and increase \" +\n"
     ]
    },
    {
     "name": "stdout",
     "output_type": "stream",
     "text": [
      "Seed-57 | Fold-7 | OOF Score: 1.0955063883137641\n",
      "[0]\tvalidation_0-mlogloss:1.34598\tvalidation_1-mlogloss:1.34716\n",
      "[50]\tvalidation_0-mlogloss:1.05505\tvalidation_1-mlogloss:1.09925\n",
      "[99]\tvalidation_0-mlogloss:1.02011\tvalidation_1-mlogloss:1.09759\n"
     ]
    },
    {
     "name": "stderr",
     "output_type": "stream",
     "text": [
      "/opt/conda/lib/python3.7/site-packages/xgboost/data.py:114: UserWarning: Use subset (sliced data) of np.ndarray is not recommended because it will generate extra copies and increase memory consumption\n",
      "  \"because it will generate extra copies and increase \" +\n"
     ]
    },
    {
     "name": "stdout",
     "output_type": "stream",
     "text": [
      "Seed-57 | Fold-8 | OOF Score: 1.0974270086748537\n",
      "[0]\tvalidation_0-mlogloss:1.34613\tvalidation_1-mlogloss:1.34708\n",
      "[50]\tvalidation_0-mlogloss:1.05447\tvalidation_1-mlogloss:1.09826\n",
      "[99]\tvalidation_0-mlogloss:1.02053\tvalidation_1-mlogloss:1.09699\n"
     ]
    },
    {
     "name": "stderr",
     "output_type": "stream",
     "text": [
      "/opt/conda/lib/python3.7/site-packages/xgboost/data.py:114: UserWarning: Use subset (sliced data) of np.ndarray is not recommended because it will generate extra copies and increase memory consumption\n",
      "  \"because it will generate extra copies and increase \" +\n"
     ]
    },
    {
     "name": "stdout",
     "output_type": "stream",
     "text": [
      "Seed-57 | Fold-9 | OOF Score: 1.096851567539674\n",
      "\n",
      "Seed: 57 | Aggregate OOF Score: 1.0953906279001415\n",
      "\n",
      "\n",
      "[0]\tvalidation_0-mlogloss:1.34610\tvalidation_1-mlogloss:1.34714\n",
      "[50]\tvalidation_0-mlogloss:1.05380\tvalidation_1-mlogloss:1.10015\n",
      "[99]\tvalidation_0-mlogloss:1.01981\tvalidation_1-mlogloss:1.09740\n"
     ]
    },
    {
     "name": "stderr",
     "output_type": "stream",
     "text": [
      "/opt/conda/lib/python3.7/site-packages/xgboost/data.py:114: UserWarning: Use subset (sliced data) of np.ndarray is not recommended because it will generate extra copies and increase memory consumption\n",
      "  \"because it will generate extra copies and increase \" +\n"
     ]
    },
    {
     "name": "stdout",
     "output_type": "stream",
     "text": [
      "Seed-0 | Fold-0 | OOF Score: 1.0974549234295197\n",
      "[0]\tvalidation_0-mlogloss:1.34618\tvalidation_1-mlogloss:1.34726\n",
      "[50]\tvalidation_0-mlogloss:1.05531\tvalidation_1-mlogloss:1.09613\n",
      "[99]\tvalidation_0-mlogloss:1.02006\tvalidation_1-mlogloss:1.09342\n"
     ]
    },
    {
     "name": "stderr",
     "output_type": "stream",
     "text": [
      "/opt/conda/lib/python3.7/site-packages/xgboost/data.py:114: UserWarning: Use subset (sliced data) of np.ndarray is not recommended because it will generate extra copies and increase memory consumption\n",
      "  \"because it will generate extra copies and increase \" +\n"
     ]
    },
    {
     "name": "stdout",
     "output_type": "stream",
     "text": [
      "Seed-0 | Fold-1 | OOF Score: 1.0932624386586218\n",
      "[0]\tvalidation_0-mlogloss:1.34593\tvalidation_1-mlogloss:1.34711\n",
      "[50]\tvalidation_0-mlogloss:1.05421\tvalidation_1-mlogloss:1.09825\n",
      "[99]\tvalidation_0-mlogloss:1.01971\tvalidation_1-mlogloss:1.09621\n"
     ]
    },
    {
     "name": "stderr",
     "output_type": "stream",
     "text": [
      "/opt/conda/lib/python3.7/site-packages/xgboost/data.py:114: UserWarning: Use subset (sliced data) of np.ndarray is not recommended because it will generate extra copies and increase memory consumption\n",
      "  \"because it will generate extra copies and increase \" +\n"
     ]
    },
    {
     "name": "stdout",
     "output_type": "stream",
     "text": [
      "Seed-0 | Fold-2 | OOF Score: 1.096077731049197\n",
      "[0]\tvalidation_0-mlogloss:1.34589\tvalidation_1-mlogloss:1.34674\n",
      "[50]\tvalidation_0-mlogloss:1.05430\tvalidation_1-mlogloss:1.09761\n",
      "[99]\tvalidation_0-mlogloss:1.01940\tvalidation_1-mlogloss:1.09534\n"
     ]
    },
    {
     "name": "stderr",
     "output_type": "stream",
     "text": [
      "/opt/conda/lib/python3.7/site-packages/xgboost/data.py:114: UserWarning: Use subset (sliced data) of np.ndarray is not recommended because it will generate extra copies and increase memory consumption\n",
      "  \"because it will generate extra copies and increase \" +\n"
     ]
    },
    {
     "name": "stdout",
     "output_type": "stream",
     "text": [
      "Seed-0 | Fold-3 | OOF Score: 1.0953638343836924\n",
      "[0]\tvalidation_0-mlogloss:1.34608\tvalidation_1-mlogloss:1.34663\n",
      "[50]\tvalidation_0-mlogloss:1.05503\tvalidation_1-mlogloss:1.09341\n",
      "[99]\tvalidation_0-mlogloss:1.02129\tvalidation_1-mlogloss:1.09041\n"
     ]
    },
    {
     "name": "stderr",
     "output_type": "stream",
     "text": [
      "/opt/conda/lib/python3.7/site-packages/xgboost/data.py:114: UserWarning: Use subset (sliced data) of np.ndarray is not recommended because it will generate extra copies and increase memory consumption\n",
      "  \"because it will generate extra copies and increase \" +\n"
     ]
    },
    {
     "name": "stdout",
     "output_type": "stream",
     "text": [
      "Seed-0 | Fold-4 | OOF Score: 1.0903701833244248\n",
      "[0]\tvalidation_0-mlogloss:1.34588\tvalidation_1-mlogloss:1.34701\n",
      "[50]\tvalidation_0-mlogloss:1.05519\tvalidation_1-mlogloss:1.09708\n",
      "[99]\tvalidation_0-mlogloss:1.02095\tvalidation_1-mlogloss:1.09443\n"
     ]
    },
    {
     "name": "stderr",
     "output_type": "stream",
     "text": [
      "/opt/conda/lib/python3.7/site-packages/xgboost/data.py:114: UserWarning: Use subset (sliced data) of np.ndarray is not recommended because it will generate extra copies and increase memory consumption\n",
      "  \"because it will generate extra copies and increase \" +\n"
     ]
    },
    {
     "name": "stdout",
     "output_type": "stream",
     "text": [
      "Seed-0 | Fold-5 | OOF Score: 1.0943651121852396\n",
      "[0]\tvalidation_0-mlogloss:1.34602\tvalidation_1-mlogloss:1.34702\n",
      "[50]\tvalidation_0-mlogloss:1.05483\tvalidation_1-mlogloss:1.09778\n",
      "[99]\tvalidation_0-mlogloss:1.02040\tvalidation_1-mlogloss:1.09536\n"
     ]
    },
    {
     "name": "stderr",
     "output_type": "stream",
     "text": [
      "/opt/conda/lib/python3.7/site-packages/xgboost/data.py:114: UserWarning: Use subset (sliced data) of np.ndarray is not recommended because it will generate extra copies and increase memory consumption\n",
      "  \"because it will generate extra copies and increase \" +\n"
     ]
    },
    {
     "name": "stdout",
     "output_type": "stream",
     "text": [
      "Seed-0 | Fold-6 | OOF Score: 1.0953845849635007\n",
      "[0]\tvalidation_0-mlogloss:1.34611\tvalidation_1-mlogloss:1.34693\n",
      "[50]\tvalidation_0-mlogloss:1.05492\tvalidation_1-mlogloss:1.09743\n",
      "[99]\tvalidation_0-mlogloss:1.02085\tvalidation_1-mlogloss:1.09539\n"
     ]
    },
    {
     "name": "stderr",
     "output_type": "stream",
     "text": [
      "/opt/conda/lib/python3.7/site-packages/xgboost/data.py:114: UserWarning: Use subset (sliced data) of np.ndarray is not recommended because it will generate extra copies and increase memory consumption\n",
      "  \"because it will generate extra copies and increase \" +\n"
     ]
    },
    {
     "name": "stdout",
     "output_type": "stream",
     "text": [
      "Seed-0 | Fold-7 | OOF Score: 1.095336206188743\n",
      "[0]\tvalidation_0-mlogloss:1.34600\tvalidation_1-mlogloss:1.34691\n",
      "[50]\tvalidation_0-mlogloss:1.05409\tvalidation_1-mlogloss:1.09563\n",
      "[99]\tvalidation_0-mlogloss:1.01965\tvalidation_1-mlogloss:1.09355\n"
     ]
    },
    {
     "name": "stderr",
     "output_type": "stream",
     "text": [
      "/opt/conda/lib/python3.7/site-packages/xgboost/data.py:114: UserWarning: Use subset (sliced data) of np.ndarray is not recommended because it will generate extra copies and increase memory consumption\n",
      "  \"because it will generate extra copies and increase \" +\n"
     ]
    },
    {
     "name": "stdout",
     "output_type": "stream",
     "text": [
      "Seed-0 | Fold-8 | OOF Score: 1.0936177039501986\n",
      "[0]\tvalidation_0-mlogloss:1.34596\tvalidation_1-mlogloss:1.34702\n",
      "[50]\tvalidation_0-mlogloss:1.05472\tvalidation_1-mlogloss:1.09943\n",
      "[99]\tvalidation_0-mlogloss:1.01979\tvalidation_1-mlogloss:1.09675\n"
     ]
    },
    {
     "name": "stderr",
     "output_type": "stream",
     "text": [
      "/opt/conda/lib/python3.7/site-packages/xgboost/data.py:114: UserWarning: Use subset (sliced data) of np.ndarray is not recommended because it will generate extra copies and increase memory consumption\n",
      "  \"because it will generate extra copies and increase \" +\n"
     ]
    },
    {
     "name": "stdout",
     "output_type": "stream",
     "text": [
      "Seed-0 | Fold-9 | OOF Score: 1.0967506439570562\n",
      "\n",
      "Seed: 0 | Aggregate OOF Score: 1.0947983362090192\n",
      "\n",
      "\n",
      "Aggregate OOF Score: 1.0950519012822286\n"
     ]
    }
   ],
   "source": [
    "FOLD = 10\n",
    "NUM_SEED = 3\n",
    "\n",
    "# Prediction Clipping Thresholds\n",
    "p_min = 0.025\n",
    "p_max = 1 - p_min\n",
    "\n",
    "np.random.seed(2021)\n",
    "seeds = np.random.randint(0, 100, size=NUM_SEED)\n",
    "\n",
    "oof_score = 0\n",
    "y_pred_meta_xgb = np.zeros((Ytrain.shape[0], 4))\n",
    "y_pred_final_xgb = np.zeros((Xtest.shape[0], 4))\n",
    "counter = 0\n",
    "\n",
    "\n",
    "for sidx, seed in enumerate(seeds):\n",
    "    seed_score = 0\n",
    "    \n",
    "    kfold = StratifiedKFold(n_splits=FOLD, shuffle=True, random_state=seed)\n",
    "\n",
    "    for idx, (train, val) in enumerate(kfold.split(Xtrain, Ytrain)):\n",
    "        counter += 1\n",
    "\n",
    "        train_x, train_y, train_y_oh = Xtrain[train], Ytrain[train], Ytrain_oh[train]\n",
    "        val_x, val_y, val_y_oh = Xtrain[val], Ytrain[val], Ytrain_oh[val]\n",
    "        \n",
    "        model = XGBClassifier(\n",
    "            objective='multi:softmax',\n",
    "            eval_metric='mlogloss',\n",
    "            booster='gbtree',\n",
    "            sample_type='weighted',\n",
    "            tree_method='gpu_hist',\n",
    "            grow_policy='lossguide',\n",
    "            use_label_encoder=False,\n",
    "            num_round=5000,\n",
    "            num_class=4,\n",
    "            #max_depth=10, \n",
    "            max_leaves=53,\n",
    "            learning_rate=0.0982,\n",
    "            subsample=0.76,\n",
    "            colsample_bytree=0.52,\n",
    "            min_child_weight=10,\n",
    "            reg_lambda=0.001515,\n",
    "            verbosity=0\n",
    "        )\n",
    "        \n",
    "        model.fit(train_x, train_y, eval_set=[(train_x, train_y), (val_x, val_y)], \n",
    "                  early_stopping_rounds=200, verbose=50)\n",
    "\n",
    "        y_pred = model.predict_proba(val_x, iteration_range=(0, model.best_iteration))\n",
    "        y_pred = np.clip(y_pred, p_min, p_max)\n",
    "        y_pred_meta_xgb[val] += y_pred\n",
    "        y_pred_final_xgb += model.predict_proba(Xtest, iteration_range=(0, model.best_iteration))\n",
    "        \n",
    "        score = log_loss(val_y_oh, y_pred)\n",
    "        oof_score += score\n",
    "        seed_score += score\n",
    "        print(\"Seed-{} | Fold-{} | OOF Score: {}\".format(seed, idx, score))\n",
    "    \n",
    "    print(\"\\nSeed: {} | Aggregate OOF Score: {}\\n\\n\".format(seed, (seed_score / FOLD)))\n",
    "\n",
    "y_pred_meta_xgb = y_pred_meta_xgb / float(NUM_SEED)\n",
    "y_pred_final_xgb = y_pred_final_xgb / float(counter)\n",
    "oof_score /= float(counter)\n",
    "print(\"Aggregate OOF Score: {}\".format(oof_score))"
   ]
  },
  {
   "cell_type": "code",
   "execution_count": 7,
   "id": "resistant-steel",
   "metadata": {
    "execution": {
     "iopub.execute_input": "2021-05-16T06:56:41.183453Z",
     "iopub.status.busy": "2021-05-16T06:56:41.182698Z",
     "iopub.status.idle": "2021-05-16T06:56:41.307966Z",
     "shell.execute_reply": "2021-05-16T06:56:41.308370Z"
    },
    "papermill": {
     "duration": 0.198515,
     "end_time": "2021-05-16T06:56:41.308524",
     "exception": false,
     "start_time": "2021-05-16T06:56:41.110009",
     "status": "completed"
    },
    "tags": []
   },
   "outputs": [
    {
     "data": {
      "text/plain": [
       "769"
      ]
     },
     "execution_count": 7,
     "metadata": {},
     "output_type": "execute_result"
    }
   ],
   "source": [
    "del model\n",
    "gc.collect()"
   ]
  },
  {
   "cell_type": "code",
   "execution_count": 8,
   "id": "handy-kuwait",
   "metadata": {
    "execution": {
     "iopub.execute_input": "2021-05-16T06:56:41.451834Z",
     "iopub.status.busy": "2021-05-16T06:56:41.451138Z",
     "iopub.status.idle": "2021-05-16T06:56:41.895509Z",
     "shell.execute_reply": "2021-05-16T06:56:41.895063Z"
    },
    "id": "uLzmS7LzXvXy",
    "papermill": {
     "duration": 0.518365,
     "end_time": "2021-05-16T06:56:41.895643",
     "exception": false,
     "start_time": "2021-05-16T06:56:41.377278",
     "status": "completed"
    },
    "tags": []
   },
   "outputs": [],
   "source": [
    "np.savez_compressed('./XGB_Meta_Features.npz',\n",
    "                    y_pred_meta_xgb=y_pred_meta_xgb, \n",
    "                    oof_score=oof_score,\n",
    "                    y_pred_final_xgb=y_pred_final_xgb)"
   ]
  },
  {
   "cell_type": "markdown",
   "id": "automatic-technical",
   "metadata": {
    "id": "nZvoU4TpWxmY",
    "papermill": {
     "duration": 0.068548,
     "end_time": "2021-05-16T06:56:42.033184",
     "exception": false,
     "start_time": "2021-05-16T06:56:41.964636",
     "status": "completed"
    },
    "tags": []
   },
   "source": [
    "## Create submission file"
   ]
  },
  {
   "cell_type": "code",
   "execution_count": 9,
   "id": "prepared-adoption",
   "metadata": {
    "execution": {
     "iopub.execute_input": "2021-05-16T06:56:42.176330Z",
     "iopub.status.busy": "2021-05-16T06:56:42.175728Z",
     "iopub.status.idle": "2021-05-16T06:56:42.371819Z",
     "shell.execute_reply": "2021-05-16T06:56:42.371378Z"
    },
    "executionInfo": {
     "elapsed": 3141,
     "status": "ok",
     "timestamp": 1616223489651,
     "user": {
      "displayName": "TAPAS DAS",
      "photoUrl": "https://lh3.googleusercontent.com/a-/AOh14GiyffdGKiPCR_UwVittzTcbBFms70IkGfU15fatCA=s64",
      "userId": "10798398878324948542"
     },
     "user_tz": -330
    },
    "id": "zGEGOAJHVoHV",
    "outputId": "11f9ca4c-9cca-46f6-b9a6-907ad0a09927",
    "papermill": {
     "duration": 0.269298,
     "end_time": "2021-05-16T06:56:42.371938",
     "exception": false,
     "start_time": "2021-05-16T06:56:42.102640",
     "status": "completed"
    },
    "tags": []
   },
   "outputs": [
    {
     "data": {
      "text/html": [
       "<div>\n",
       "<style scoped>\n",
       "    .dataframe tbody tr th:only-of-type {\n",
       "        vertical-align: middle;\n",
       "    }\n",
       "\n",
       "    .dataframe tbody tr th {\n",
       "        vertical-align: top;\n",
       "    }\n",
       "\n",
       "    .dataframe thead th {\n",
       "        text-align: right;\n",
       "    }\n",
       "</style>\n",
       "<table border=\"1\" class=\"dataframe\">\n",
       "  <thead>\n",
       "    <tr style=\"text-align: right;\">\n",
       "      <th></th>\n",
       "      <th>id</th>\n",
       "      <th>Class_1</th>\n",
       "      <th>Class_2</th>\n",
       "      <th>Class_3</th>\n",
       "      <th>Class_4</th>\n",
       "    </tr>\n",
       "  </thead>\n",
       "  <tbody>\n",
       "    <tr>\n",
       "      <th>0</th>\n",
       "      <td>100000</td>\n",
       "      <td>0.084123</td>\n",
       "      <td>0.603899</td>\n",
       "      <td>0.188721</td>\n",
       "      <td>0.123256</td>\n",
       "    </tr>\n",
       "    <tr>\n",
       "      <th>1</th>\n",
       "      <td>100001</td>\n",
       "      <td>0.074170</td>\n",
       "      <td>0.661333</td>\n",
       "      <td>0.167542</td>\n",
       "      <td>0.096955</td>\n",
       "    </tr>\n",
       "    <tr>\n",
       "      <th>2</th>\n",
       "      <td>100002</td>\n",
       "      <td>0.085404</td>\n",
       "      <td>0.639757</td>\n",
       "      <td>0.179414</td>\n",
       "      <td>0.095425</td>\n",
       "    </tr>\n",
       "    <tr>\n",
       "      <th>3</th>\n",
       "      <td>100003</td>\n",
       "      <td>0.078688</td>\n",
       "      <td>0.477130</td>\n",
       "      <td>0.341408</td>\n",
       "      <td>0.102774</td>\n",
       "    </tr>\n",
       "    <tr>\n",
       "      <th>4</th>\n",
       "      <td>100004</td>\n",
       "      <td>0.074873</td>\n",
       "      <td>0.626725</td>\n",
       "      <td>0.203206</td>\n",
       "      <td>0.095197</td>\n",
       "    </tr>\n",
       "  </tbody>\n",
       "</table>\n",
       "</div>"
      ],
      "text/plain": [
       "       id   Class_1   Class_2   Class_3   Class_4\n",
       "0  100000  0.084123  0.603899  0.188721  0.123256\n",
       "1  100001  0.074170  0.661333  0.167542  0.096955\n",
       "2  100002  0.085404  0.639757  0.179414  0.095425\n",
       "3  100003  0.078688  0.477130  0.341408  0.102774\n",
       "4  100004  0.074873  0.626725  0.203206  0.095197"
      ]
     },
     "execution_count": 9,
     "metadata": {},
     "output_type": "execute_result"
    }
   ],
   "source": [
    "y_pred_final_xgb = np.clip(y_pred_final_xgb, p_min, p_max)\n",
    "\n",
    "test_df = pd.read_csv(\"../input/tabular-playground-series-may-2021/test.csv\")\n",
    "submit_df = pd.DataFrame()\n",
    "submit_df['id'] = test_df['id']\n",
    "submit_df['Class_1'] = y_pred_final_xgb[:,0]\n",
    "submit_df['Class_2'] = y_pred_final_xgb[:,1]\n",
    "submit_df['Class_3'] = y_pred_final_xgb[:,2]\n",
    "submit_df['Class_4'] = y_pred_final_xgb[:,3]\n",
    "submit_df.head()"
   ]
  },
  {
   "cell_type": "code",
   "execution_count": 10,
   "id": "outer-material",
   "metadata": {
    "execution": {
     "iopub.execute_input": "2021-05-16T06:56:42.517267Z",
     "iopub.status.busy": "2021-05-16T06:56:42.516786Z",
     "iopub.status.idle": "2021-05-16T06:56:42.968411Z",
     "shell.execute_reply": "2021-05-16T06:56:42.967974Z"
    },
    "id": "KDIsotrKVoJN",
    "papermill": {
     "duration": 0.525182,
     "end_time": "2021-05-16T06:56:42.968562",
     "exception": false,
     "start_time": "2021-05-16T06:56:42.443380",
     "status": "completed"
    },
    "tags": []
   },
   "outputs": [],
   "source": [
    "submit_df.to_csv(\"./XGB_submission.csv\", index=False)"
   ]
  },
  {
   "cell_type": "code",
   "execution_count": null,
   "id": "attached-document",
   "metadata": {
    "id": "W2c88MvxXm65",
    "papermill": {
     "duration": 0.073363,
     "end_time": "2021-05-16T06:56:43.110966",
     "exception": false,
     "start_time": "2021-05-16T06:56:43.037603",
     "status": "completed"
    },
    "tags": []
   },
   "outputs": [],
   "source": []
  }
 ],
 "metadata": {
  "kernelspec": {
   "display_name": "Python 3",
   "language": "python",
   "name": "python3"
  },
  "language_info": {
   "codemirror_mode": {
    "name": "ipython",
    "version": 3
   },
   "file_extension": ".py",
   "mimetype": "text/x-python",
   "name": "python",
   "nbconvert_exporter": "python",
   "pygments_lexer": "ipython3",
   "version": "3.7.10"
  },
  "papermill": {
   "default_parameters": {},
   "duration": 790.872846,
   "end_time": "2021-05-16T06:56:45.185626",
   "environment_variables": {},
   "exception": null,
   "input_path": "__notebook__.ipynb",
   "output_path": "__notebook__.ipynb",
   "parameters": {},
   "start_time": "2021-05-16T06:43:34.312780",
   "version": "2.3.3"
  }
 },
 "nbformat": 4,
 "nbformat_minor": 5
}
