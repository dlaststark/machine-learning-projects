{
 "cells": [
  {
   "cell_type": "markdown",
   "id": "several-tomato",
   "metadata": {
    "id": "uLz9OcH8SeET",
    "papermill": {
     "duration": 0.012439,
     "end_time": "2021-05-15T17:38:47.025327",
     "exception": false,
     "start_time": "2021-05-15T17:38:47.012888",
     "status": "completed"
    },
    "tags": []
   },
   "source": [
    "## Import libraries"
   ]
  },
  {
   "cell_type": "code",
   "execution_count": 1,
   "id": "reduced-counter",
   "metadata": {
    "execution": {
     "iopub.execute_input": "2021-05-15T17:38:47.058241Z",
     "iopub.status.busy": "2021-05-15T17:38:47.057590Z",
     "iopub.status.idle": "2021-05-15T17:38:49.406265Z",
     "shell.execute_reply": "2021-05-15T17:38:49.405080Z"
    },
    "executionInfo": {
     "elapsed": 18546,
     "status": "ok",
     "timestamp": 1616326755679,
     "user": {
      "displayName": "TAPAS DAS",
      "photoUrl": "https://lh3.googleusercontent.com/a-/AOh14GiyffdGKiPCR_UwVittzTcbBFms70IkGfU15fatCA=s64",
      "userId": "10798398878324948542"
     },
     "user_tz": -330
    },
    "id": "E9svswc9SUuX",
    "papermill": {
     "duration": 2.370077,
     "end_time": "2021-05-15T17:38:49.406500",
     "exception": false,
     "start_time": "2021-05-15T17:38:47.036423",
     "status": "completed"
    },
    "tags": []
   },
   "outputs": [
    {
     "data": {
      "text/html": [
       "<style type='text/css'>\n",
       ".datatable table.frame { margin-bottom: 0; }\n",
       ".datatable table.frame thead { border-bottom: none; }\n",
       ".datatable table.frame tr.coltypes td {  color: #FFFFFF;  line-height: 6px;  padding: 0 0.5em;}\n",
       ".datatable .bool    { background: #DDDD99; }\n",
       ".datatable .object  { background: #565656; }\n",
       ".datatable .int     { background: #5D9E5D; }\n",
       ".datatable .float   { background: #4040CC; }\n",
       ".datatable .str     { background: #CC4040; }\n",
       ".datatable .row_index {  background: var(--jp-border-color3);  border-right: 1px solid var(--jp-border-color0);  color: var(--jp-ui-font-color3);  font-size: 9px;}\n",
       ".datatable .frame tr.coltypes .row_index {  background: var(--jp-border-color0);}\n",
       ".datatable th:nth-child(2) { padding-left: 12px; }\n",
       ".datatable .hellipsis {  color: var(--jp-cell-editor-border-color);}\n",
       ".datatable .vellipsis {  background: var(--jp-layout-color0);  color: var(--jp-cell-editor-border-color);}\n",
       ".datatable .na {  color: var(--jp-cell-editor-border-color);  font-size: 80%;}\n",
       ".datatable .footer { font-size: 9px; }\n",
       ".datatable .frame_dimensions {  background: var(--jp-border-color3);  border-top: 1px solid var(--jp-border-color0);  color: var(--jp-ui-font-color3);  display: inline-block;  opacity: 0.6;  padding: 1px 10px 1px 5px;}\n",
       "</style>\n"
      ],
      "text/plain": [
       "<IPython.core.display.HTML object>"
      ]
     },
     "metadata": {},
     "output_type": "display_data"
    }
   ],
   "source": [
    "import gc\n",
    "import pickle\n",
    "import numpy as np\n",
    "import pandas as pd\n",
    "import lightgbm as lgb\n",
    "from sklearn.metrics import log_loss\n",
    "from sklearn.model_selection import StratifiedKFold"
   ]
  },
  {
   "cell_type": "markdown",
   "id": "czech-poetry",
   "metadata": {
    "id": "hg85SpW-S6hl",
    "papermill": {
     "duration": 0.011286,
     "end_time": "2021-05-15T17:38:49.430119",
     "exception": false,
     "start_time": "2021-05-15T17:38:49.418833",
     "status": "completed"
    },
    "tags": []
   },
   "source": [
    "## Prepare data for model training"
   ]
  },
  {
   "cell_type": "code",
   "execution_count": 2,
   "id": "mineral-donna",
   "metadata": {
    "execution": {
     "iopub.execute_input": "2021-05-15T17:38:49.458900Z",
     "iopub.status.busy": "2021-05-15T17:38:49.458140Z",
     "iopub.status.idle": "2021-05-15T17:38:55.642203Z",
     "shell.execute_reply": "2021-05-15T17:38:55.641555Z"
    },
    "executionInfo": {
     "elapsed": 15266,
     "status": "ok",
     "timestamp": 1616326759527,
     "user": {
      "displayName": "TAPAS DAS",
      "photoUrl": "https://lh3.googleusercontent.com/a-/AOh14GiyffdGKiPCR_UwVittzTcbBFms70IkGfU15fatCA=s64",
      "userId": "10798398878324948542"
     },
     "user_tz": -330
    },
    "id": "VdhgoIAmSUxK",
    "outputId": "593389e9-9839-415d-bc72-10af58db79f5",
    "papermill": {
     "duration": 6.200596,
     "end_time": "2021-05-15T17:38:55.642382",
     "exception": false,
     "start_time": "2021-05-15T17:38:49.441786",
     "status": "completed"
    },
    "tags": []
   },
   "outputs": [
    {
     "data": {
      "text/plain": [
       "0"
      ]
     },
     "execution_count": 2,
     "metadata": {},
     "output_type": "execute_result"
    }
   ],
   "source": [
    "with open(\"../input/tps-may-data-preprocess-v3/TPS_May_Dataset_w_Org.txt\", 'rb') as handle: \n",
    "    data = handle.read()\n",
    "\n",
    "processed_data = pickle.loads(data)\n",
    "train_df = processed_data['train_df']\n",
    "test_df = processed_data['test_df']\n",
    "\n",
    "del processed_data\n",
    "gc.collect()"
   ]
  },
  {
   "cell_type": "code",
   "execution_count": 3,
   "id": "portuguese-panama",
   "metadata": {
    "execution": {
     "iopub.execute_input": "2021-05-15T17:38:55.706891Z",
     "iopub.status.busy": "2021-05-15T17:38:55.705762Z",
     "iopub.status.idle": "2021-05-15T17:38:55.881218Z",
     "shell.execute_reply": "2021-05-15T17:38:55.879434Z"
    },
    "papermill": {
     "duration": 0.226555,
     "end_time": "2021-05-15T17:38:55.881424",
     "exception": false,
     "start_time": "2021-05-15T17:38:55.654869",
     "status": "completed"
    },
    "tags": []
   },
   "outputs": [
    {
     "name": "stdout",
     "output_type": "stream",
     "text": [
      "[0, 1, 2, 3, 4, 5, 6, 7, 8, 9, 10, 11, 12, 13, 14, 15, 16, 17, 18, 19, 20, 21, 22, 23, 24, 25, 26, 27, 28, 29, 30, 31, 32, 33, 34, 35, 36, 37, 38, 39, 40, 41, 42, 43, 44, 45, 46, 47, 48, 49]\n"
     ]
    }
   ],
   "source": [
    "cat_cols = train_df.iloc[:,0:50].columns\n",
    "train_df[cat_cols] = train_df[cat_cols].astype(int)\n",
    "test_df[cat_cols] = test_df[cat_cols].astype(int)\n",
    "cat_cols_indices = [train_df.columns.get_loc(col) for col in cat_cols]\n",
    "print(cat_cols_indices)"
   ]
  },
  {
   "cell_type": "code",
   "execution_count": 4,
   "id": "binary-municipality",
   "metadata": {
    "execution": {
     "iopub.execute_input": "2021-05-15T17:38:56.192628Z",
     "iopub.status.busy": "2021-05-15T17:38:55.916531Z",
     "iopub.status.idle": "2021-05-15T17:38:56.894070Z",
     "shell.execute_reply": "2021-05-15T17:38:56.894568Z"
    },
    "papermill": {
     "duration": 0.999763,
     "end_time": "2021-05-15T17:38:56.894789",
     "exception": false,
     "start_time": "2021-05-15T17:38:55.895026",
     "status": "completed"
    },
    "tags": []
   },
   "outputs": [
    {
     "name": "stdout",
     "output_type": "stream",
     "text": [
      "Xtrain: (99918, 1074) \n",
      "Ytrain: (99918,) \n",
      "Ytrain_oh: (99918, 4) \n",
      "Xtest: (50000, 1074)\n"
     ]
    },
    {
     "data": {
      "text/plain": [
       "20"
      ]
     },
     "execution_count": 4,
     "metadata": {},
     "output_type": "execute_result"
    }
   ],
   "source": [
    "Xtrain = train_df.loc[:, train_df.columns != 'target'].copy()\n",
    "Ytrain = train_df['target'].copy()\n",
    "Ytrain_oh = pd.get_dummies(train_df['target']).copy()\n",
    "Xtest = test_df.copy()\n",
    "\n",
    "print(\"Xtrain: {} \\nYtrain: {} \\nYtrain_oh: {} \\nXtest: {}\".format(Xtrain.shape, Ytrain.shape, \n",
    "                                                                   Ytrain_oh.shape, Xtest.shape))\n",
    "\n",
    "del train_df\n",
    "del test_df\n",
    "gc.collect()"
   ]
  },
  {
   "cell_type": "markdown",
   "id": "chicken-distance",
   "metadata": {
    "id": "9wNC5rWEVnjd",
    "papermill": {
     "duration": 0.014646,
     "end_time": "2021-05-15T17:38:56.923240",
     "exception": false,
     "start_time": "2021-05-15T17:38:56.908594",
     "status": "completed"
    },
    "tags": []
   },
   "source": [
    "## Build and validate the model"
   ]
  },
  {
   "cell_type": "code",
   "execution_count": 5,
   "id": "mysterious-panic",
   "metadata": {
    "execution": {
     "iopub.execute_input": "2021-05-15T17:38:56.959971Z",
     "iopub.status.busy": "2021-05-15T17:38:56.959175Z",
     "iopub.status.idle": "2021-05-15T17:38:56.961899Z",
     "shell.execute_reply": "2021-05-15T17:38:56.961246Z"
    },
    "executionInfo": {
     "elapsed": 1340,
     "status": "ok",
     "timestamp": 1616326770908,
     "user": {
      "displayName": "TAPAS DAS",
      "photoUrl": "https://lh3.googleusercontent.com/a-/AOh14GiyffdGKiPCR_UwVittzTcbBFms70IkGfU15fatCA=s64",
      "userId": "10798398878324948542"
     },
     "user_tz": -330
    },
    "id": "IhtH9c5va7WY",
    "papermill": {
     "duration": 0.023891,
     "end_time": "2021-05-15T17:38:56.962066",
     "exception": false,
     "start_time": "2021-05-15T17:38:56.938175",
     "status": "completed"
    },
    "tags": []
   },
   "outputs": [],
   "source": [
    "params = {}\n",
    "params[\"objective\"] = 'multiclass'\n",
    "params['metric'] = 'multi_logloss'\n",
    "params['boosting'] = 'gbdt'\n",
    "#params[\"device_type\"] = 'gpu'\n",
    "params['num_class'] = 4\n",
    "params['is_unbalance'] = True\n",
    "params[\"learning_rate\"] = 0.0193\n",
    "params[\"lambda_l2\"] = 0.042\n",
    "params[\"num_leaves\"] = 56\n",
    "#params[\"max_depth\"] = 6\n",
    "params[\"feature_fraction\"] = 0.6\n",
    "params[\"bagging_fraction\"] = 0.8\n",
    "params[\"bagging_freq\"] = 3\n",
    "params[\"bagging_seed\"] = 10\n",
    "params[\"min_data_in_leaf\"] = 10\n",
    "params[\"verbosity\"] = -1\n",
    "num_rounds = 5000"
   ]
  },
  {
   "cell_type": "code",
   "execution_count": 6,
   "id": "removable-flood",
   "metadata": {
    "execution": {
     "iopub.execute_input": "2021-05-15T17:38:57.004634Z",
     "iopub.status.busy": "2021-05-15T17:38:57.003825Z",
     "iopub.status.idle": "2021-05-15T19:32:31.617467Z",
     "shell.execute_reply": "2021-05-15T19:32:31.618032Z"
    },
    "executionInfo": {
     "elapsed": 226745,
     "status": "error",
     "timestamp": 1616326997825,
     "user": {
      "displayName": "TAPAS DAS",
      "photoUrl": "https://lh3.googleusercontent.com/a-/AOh14GiyffdGKiPCR_UwVittzTcbBFms70IkGfU15fatCA=s64",
      "userId": "10798398878324948542"
     },
     "user_tz": -330
    },
    "id": "uWPosEORSVBp",
    "outputId": "ecad76e6-e82d-4e4a-ef18-937bc0235495",
    "papermill": {
     "duration": 6814.642447,
     "end_time": "2021-05-15T19:32:31.618316",
     "exception": false,
     "start_time": "2021-05-15T17:38:56.975869",
     "status": "completed"
    },
    "tags": []
   },
   "outputs": [
    {
     "name": "stderr",
     "output_type": "stream",
     "text": [
      "/opt/conda/lib/python3.7/site-packages/lightgbm/basic.py:1706: UserWarning: categorical_feature in Dataset is overridden.\n",
      "New categorical_feature is [0, 1, 2, 3, 4, 5, 6, 7, 8, 9, 10, 11, 12, 13, 14, 15, 16, 17, 18, 19, 20, 21, 22, 23, 24, 25, 26, 27, 28, 29, 30, 31, 32, 33, 34, 35, 36, 37, 38, 39, 40, 41, 42, 43, 44, 45, 46, 47, 48, 49]\n",
      "  'New categorical_feature is {}'.format(sorted(list(categorical_feature))))\n",
      "/opt/conda/lib/python3.7/site-packages/lightgbm/basic.py:1433: UserWarning: Overriding the parameters from Reference Dataset.\n",
      "  _log_warning('Overriding the parameters from Reference Dataset.')\n",
      "/opt/conda/lib/python3.7/site-packages/lightgbm/basic.py:1245: UserWarning: categorical_column in param dict is overridden.\n",
      "  _log_warning('{} in param dict is overridden.'.format(cat_alias))\n"
     ]
    },
    {
     "name": "stdout",
     "output_type": "stream",
     "text": [
      "Training until validation scores don't improve for 200 rounds\n",
      "[100]\ttraining's multi_logloss: 1.04618\tvalid_1's multi_logloss: 1.09825\n",
      "[200]\ttraining's multi_logloss: 0.996997\tvalid_1's multi_logloss: 1.09481\n",
      "[300]\ttraining's multi_logloss: 0.956169\tvalid_1's multi_logloss: 1.09468\n",
      "[400]\ttraining's multi_logloss: 0.920254\tvalid_1's multi_logloss: 1.09558\n",
      "Early stopping, best iteration is:\n",
      "[257]\ttraining's multi_logloss: 0.972973\tvalid_1's multi_logloss: 1.09445\n",
      "Seed-85 | Fold-0 | OOF Score: 1.0944513072425188\n"
     ]
    },
    {
     "name": "stderr",
     "output_type": "stream",
     "text": [
      "/opt/conda/lib/python3.7/site-packages/lightgbm/basic.py:1706: UserWarning: categorical_feature in Dataset is overridden.\n",
      "New categorical_feature is [0, 1, 2, 3, 4, 5, 6, 7, 8, 9, 10, 11, 12, 13, 14, 15, 16, 17, 18, 19, 20, 21, 22, 23, 24, 25, 26, 27, 28, 29, 30, 31, 32, 33, 34, 35, 36, 37, 38, 39, 40, 41, 42, 43, 44, 45, 46, 47, 48, 49]\n",
      "  'New categorical_feature is {}'.format(sorted(list(categorical_feature))))\n",
      "/opt/conda/lib/python3.7/site-packages/lightgbm/basic.py:1433: UserWarning: Overriding the parameters from Reference Dataset.\n",
      "  _log_warning('Overriding the parameters from Reference Dataset.')\n",
      "/opt/conda/lib/python3.7/site-packages/lightgbm/basic.py:1245: UserWarning: categorical_column in param dict is overridden.\n",
      "  _log_warning('{} in param dict is overridden.'.format(cat_alias))\n"
     ]
    },
    {
     "name": "stdout",
     "output_type": "stream",
     "text": [
      "Training until validation scores don't improve for 200 rounds\n",
      "[100]\ttraining's multi_logloss: 1.04666\tvalid_1's multi_logloss: 1.09563\n",
      "[200]\ttraining's multi_logloss: 0.997421\tvalid_1's multi_logloss: 1.0912\n",
      "[300]\ttraining's multi_logloss: 0.956704\tvalid_1's multi_logloss: 1.0908\n",
      "[400]\ttraining's multi_logloss: 0.920978\tvalid_1's multi_logloss: 1.09093\n",
      "Early stopping, best iteration is:\n",
      "[255]\ttraining's multi_logloss: 0.974265\tvalid_1's multi_logloss: 1.09055\n",
      "Seed-85 | Fold-1 | OOF Score: 1.09054889357444\n"
     ]
    },
    {
     "name": "stderr",
     "output_type": "stream",
     "text": [
      "/opt/conda/lib/python3.7/site-packages/lightgbm/basic.py:1706: UserWarning: categorical_feature in Dataset is overridden.\n",
      "New categorical_feature is [0, 1, 2, 3, 4, 5, 6, 7, 8, 9, 10, 11, 12, 13, 14, 15, 16, 17, 18, 19, 20, 21, 22, 23, 24, 25, 26, 27, 28, 29, 30, 31, 32, 33, 34, 35, 36, 37, 38, 39, 40, 41, 42, 43, 44, 45, 46, 47, 48, 49]\n",
      "  'New categorical_feature is {}'.format(sorted(list(categorical_feature))))\n",
      "/opt/conda/lib/python3.7/site-packages/lightgbm/basic.py:1433: UserWarning: Overriding the parameters from Reference Dataset.\n",
      "  _log_warning('Overriding the parameters from Reference Dataset.')\n",
      "/opt/conda/lib/python3.7/site-packages/lightgbm/basic.py:1245: UserWarning: categorical_column in param dict is overridden.\n",
      "  _log_warning('{} in param dict is overridden.'.format(cat_alias))\n"
     ]
    },
    {
     "name": "stdout",
     "output_type": "stream",
     "text": [
      "Training until validation scores don't improve for 200 rounds\n",
      "[100]\ttraining's multi_logloss: 1.04664\tvalid_1's multi_logloss: 1.09669\n",
      "[200]\ttraining's multi_logloss: 0.997604\tvalid_1's multi_logloss: 1.0931\n",
      "[300]\ttraining's multi_logloss: 0.957135\tvalid_1's multi_logloss: 1.09264\n",
      "[400]\ttraining's multi_logloss: 0.921328\tvalid_1's multi_logloss: 1.09359\n",
      "Early stopping, best iteration is:\n",
      "[296]\ttraining's multi_logloss: 0.958592\tvalid_1's multi_logloss: 1.09256\n",
      "Seed-85 | Fold-2 | OOF Score: 1.0925596089832446\n"
     ]
    },
    {
     "name": "stderr",
     "output_type": "stream",
     "text": [
      "/opt/conda/lib/python3.7/site-packages/lightgbm/basic.py:1706: UserWarning: categorical_feature in Dataset is overridden.\n",
      "New categorical_feature is [0, 1, 2, 3, 4, 5, 6, 7, 8, 9, 10, 11, 12, 13, 14, 15, 16, 17, 18, 19, 20, 21, 22, 23, 24, 25, 26, 27, 28, 29, 30, 31, 32, 33, 34, 35, 36, 37, 38, 39, 40, 41, 42, 43, 44, 45, 46, 47, 48, 49]\n",
      "  'New categorical_feature is {}'.format(sorted(list(categorical_feature))))\n",
      "/opt/conda/lib/python3.7/site-packages/lightgbm/basic.py:1433: UserWarning: Overriding the parameters from Reference Dataset.\n",
      "  _log_warning('Overriding the parameters from Reference Dataset.')\n",
      "/opt/conda/lib/python3.7/site-packages/lightgbm/basic.py:1245: UserWarning: categorical_column in param dict is overridden.\n",
      "  _log_warning('{} in param dict is overridden.'.format(cat_alias))\n"
     ]
    },
    {
     "name": "stdout",
     "output_type": "stream",
     "text": [
      "Training until validation scores don't improve for 200 rounds\n",
      "[100]\ttraining's multi_logloss: 1.0465\tvalid_1's multi_logloss: 1.09733\n",
      "[200]\ttraining's multi_logloss: 0.997384\tvalid_1's multi_logloss: 1.09347\n",
      "[300]\ttraining's multi_logloss: 0.956649\tvalid_1's multi_logloss: 1.09315\n",
      "[400]\ttraining's multi_logloss: 0.921107\tvalid_1's multi_logloss: 1.09328\n",
      "Early stopping, best iteration is:\n",
      "[275]\ttraining's multi_logloss: 0.966179\tvalid_1's multi_logloss: 1.09266\n",
      "Seed-85 | Fold-3 | OOF Score: 1.0926623101859543\n"
     ]
    },
    {
     "name": "stderr",
     "output_type": "stream",
     "text": [
      "/opt/conda/lib/python3.7/site-packages/lightgbm/basic.py:1706: UserWarning: categorical_feature in Dataset is overridden.\n",
      "New categorical_feature is [0, 1, 2, 3, 4, 5, 6, 7, 8, 9, 10, 11, 12, 13, 14, 15, 16, 17, 18, 19, 20, 21, 22, 23, 24, 25, 26, 27, 28, 29, 30, 31, 32, 33, 34, 35, 36, 37, 38, 39, 40, 41, 42, 43, 44, 45, 46, 47, 48, 49]\n",
      "  'New categorical_feature is {}'.format(sorted(list(categorical_feature))))\n",
      "/opt/conda/lib/python3.7/site-packages/lightgbm/basic.py:1433: UserWarning: Overriding the parameters from Reference Dataset.\n",
      "  _log_warning('Overriding the parameters from Reference Dataset.')\n",
      "/opt/conda/lib/python3.7/site-packages/lightgbm/basic.py:1245: UserWarning: categorical_column in param dict is overridden.\n",
      "  _log_warning('{} in param dict is overridden.'.format(cat_alias))\n"
     ]
    },
    {
     "name": "stdout",
     "output_type": "stream",
     "text": [
      "Training until validation scores don't improve for 200 rounds\n",
      "[100]\ttraining's multi_logloss: 1.0466\tvalid_1's multi_logloss: 1.09793\n",
      "[200]\ttraining's multi_logloss: 0.997388\tvalid_1's multi_logloss: 1.09418\n",
      "[300]\ttraining's multi_logloss: 0.956566\tvalid_1's multi_logloss: 1.09383\n",
      "[400]\ttraining's multi_logloss: 0.920821\tvalid_1's multi_logloss: 1.09446\n",
      "Early stopping, best iteration is:\n",
      "[285]\ttraining's multi_logloss: 0.962415\tvalid_1's multi_logloss: 1.09377\n",
      "Seed-85 | Fold-4 | OOF Score: 1.0937666642314794\n"
     ]
    },
    {
     "name": "stderr",
     "output_type": "stream",
     "text": [
      "/opt/conda/lib/python3.7/site-packages/lightgbm/basic.py:1706: UserWarning: categorical_feature in Dataset is overridden.\n",
      "New categorical_feature is [0, 1, 2, 3, 4, 5, 6, 7, 8, 9, 10, 11, 12, 13, 14, 15, 16, 17, 18, 19, 20, 21, 22, 23, 24, 25, 26, 27, 28, 29, 30, 31, 32, 33, 34, 35, 36, 37, 38, 39, 40, 41, 42, 43, 44, 45, 46, 47, 48, 49]\n",
      "  'New categorical_feature is {}'.format(sorted(list(categorical_feature))))\n",
      "/opt/conda/lib/python3.7/site-packages/lightgbm/basic.py:1433: UserWarning: Overriding the parameters from Reference Dataset.\n",
      "  _log_warning('Overriding the parameters from Reference Dataset.')\n",
      "/opt/conda/lib/python3.7/site-packages/lightgbm/basic.py:1245: UserWarning: categorical_column in param dict is overridden.\n",
      "  _log_warning('{} in param dict is overridden.'.format(cat_alias))\n"
     ]
    },
    {
     "name": "stdout",
     "output_type": "stream",
     "text": [
      "Training until validation scores don't improve for 200 rounds\n",
      "[100]\ttraining's multi_logloss: 1.04626\tvalid_1's multi_logloss: 1.09953\n",
      "[200]\ttraining's multi_logloss: 0.996882\tvalid_1's multi_logloss: 1.09622\n",
      "[300]\ttraining's multi_logloss: 0.956393\tvalid_1's multi_logloss: 1.09644\n",
      "[400]\ttraining's multi_logloss: 0.920731\tvalid_1's multi_logloss: 1.09667\n",
      "Early stopping, best iteration is:\n",
      "[248]\ttraining's multi_logloss: 0.976607\tvalid_1's multi_logloss: 1.09598\n",
      "Seed-85 | Fold-5 | OOF Score: 1.0959771397663083\n"
     ]
    },
    {
     "name": "stderr",
     "output_type": "stream",
     "text": [
      "/opt/conda/lib/python3.7/site-packages/lightgbm/basic.py:1706: UserWarning: categorical_feature in Dataset is overridden.\n",
      "New categorical_feature is [0, 1, 2, 3, 4, 5, 6, 7, 8, 9, 10, 11, 12, 13, 14, 15, 16, 17, 18, 19, 20, 21, 22, 23, 24, 25, 26, 27, 28, 29, 30, 31, 32, 33, 34, 35, 36, 37, 38, 39, 40, 41, 42, 43, 44, 45, 46, 47, 48, 49]\n",
      "  'New categorical_feature is {}'.format(sorted(list(categorical_feature))))\n",
      "/opt/conda/lib/python3.7/site-packages/lightgbm/basic.py:1433: UserWarning: Overriding the parameters from Reference Dataset.\n",
      "  _log_warning('Overriding the parameters from Reference Dataset.')\n",
      "/opt/conda/lib/python3.7/site-packages/lightgbm/basic.py:1245: UserWarning: categorical_column in param dict is overridden.\n",
      "  _log_warning('{} in param dict is overridden.'.format(cat_alias))\n"
     ]
    },
    {
     "name": "stdout",
     "output_type": "stream",
     "text": [
      "Training until validation scores don't improve for 200 rounds\n",
      "[100]\ttraining's multi_logloss: 1.04649\tvalid_1's multi_logloss: 1.09693\n",
      "[200]\ttraining's multi_logloss: 0.997374\tvalid_1's multi_logloss: 1.09282\n",
      "[300]\ttraining's multi_logloss: 0.956854\tvalid_1's multi_logloss: 1.09202\n",
      "[400]\ttraining's multi_logloss: 0.921092\tvalid_1's multi_logloss: 1.09219\n",
      "[500]\ttraining's multi_logloss: 0.888595\tvalid_1's multi_logloss: 1.09271\n",
      "Early stopping, best iteration is:\n",
      "[311]\ttraining's multi_logloss: 0.952727\tvalid_1's multi_logloss: 1.09191\n",
      "Seed-85 | Fold-6 | OOF Score: 1.0919092770719288\n"
     ]
    },
    {
     "name": "stderr",
     "output_type": "stream",
     "text": [
      "/opt/conda/lib/python3.7/site-packages/lightgbm/basic.py:1706: UserWarning: categorical_feature in Dataset is overridden.\n",
      "New categorical_feature is [0, 1, 2, 3, 4, 5, 6, 7, 8, 9, 10, 11, 12, 13, 14, 15, 16, 17, 18, 19, 20, 21, 22, 23, 24, 25, 26, 27, 28, 29, 30, 31, 32, 33, 34, 35, 36, 37, 38, 39, 40, 41, 42, 43, 44, 45, 46, 47, 48, 49]\n",
      "  'New categorical_feature is {}'.format(sorted(list(categorical_feature))))\n",
      "/opt/conda/lib/python3.7/site-packages/lightgbm/basic.py:1433: UserWarning: Overriding the parameters from Reference Dataset.\n",
      "  _log_warning('Overriding the parameters from Reference Dataset.')\n",
      "/opt/conda/lib/python3.7/site-packages/lightgbm/basic.py:1245: UserWarning: categorical_column in param dict is overridden.\n",
      "  _log_warning('{} in param dict is overridden.'.format(cat_alias))\n"
     ]
    },
    {
     "name": "stdout",
     "output_type": "stream",
     "text": [
      "Training until validation scores don't improve for 200 rounds\n",
      "[100]\ttraining's multi_logloss: 1.04654\tvalid_1's multi_logloss: 1.09941\n",
      "[200]\ttraining's multi_logloss: 0.997621\tvalid_1's multi_logloss: 1.09598\n",
      "[300]\ttraining's multi_logloss: 0.957195\tvalid_1's multi_logloss: 1.09589\n",
      "[400]\ttraining's multi_logloss: 0.921263\tvalid_1's multi_logloss: 1.09661\n",
      "Early stopping, best iteration is:\n",
      "[270]\ttraining's multi_logloss: 0.968664\tvalid_1's multi_logloss: 1.09566\n",
      "Seed-85 | Fold-7 | OOF Score: 1.09565574199863\n"
     ]
    },
    {
     "name": "stderr",
     "output_type": "stream",
     "text": [
      "/opt/conda/lib/python3.7/site-packages/lightgbm/basic.py:1706: UserWarning: categorical_feature in Dataset is overridden.\n",
      "New categorical_feature is [0, 1, 2, 3, 4, 5, 6, 7, 8, 9, 10, 11, 12, 13, 14, 15, 16, 17, 18, 19, 20, 21, 22, 23, 24, 25, 26, 27, 28, 29, 30, 31, 32, 33, 34, 35, 36, 37, 38, 39, 40, 41, 42, 43, 44, 45, 46, 47, 48, 49]\n",
      "  'New categorical_feature is {}'.format(sorted(list(categorical_feature))))\n",
      "/opt/conda/lib/python3.7/site-packages/lightgbm/basic.py:1433: UserWarning: Overriding the parameters from Reference Dataset.\n",
      "  _log_warning('Overriding the parameters from Reference Dataset.')\n",
      "/opt/conda/lib/python3.7/site-packages/lightgbm/basic.py:1245: UserWarning: categorical_column in param dict is overridden.\n",
      "  _log_warning('{} in param dict is overridden.'.format(cat_alias))\n"
     ]
    },
    {
     "name": "stdout",
     "output_type": "stream",
     "text": [
      "Training until validation scores don't improve for 200 rounds\n",
      "[100]\ttraining's multi_logloss: 1.04655\tvalid_1's multi_logloss: 1.09855\n",
      "[200]\ttraining's multi_logloss: 0.997419\tvalid_1's multi_logloss: 1.09407\n",
      "[300]\ttraining's multi_logloss: 0.95679\tvalid_1's multi_logloss: 1.09346\n",
      "[400]\ttraining's multi_logloss: 0.920981\tvalid_1's multi_logloss: 1.09398\n",
      "[500]\ttraining's multi_logloss: 0.888377\tvalid_1's multi_logloss: 1.09454\n",
      "Early stopping, best iteration is:\n",
      "[327]\ttraining's multi_logloss: 0.946656\tvalid_1's multi_logloss: 1.09332\n",
      "Seed-85 | Fold-8 | OOF Score: 1.0933173123112785\n"
     ]
    },
    {
     "name": "stderr",
     "output_type": "stream",
     "text": [
      "/opt/conda/lib/python3.7/site-packages/lightgbm/basic.py:1706: UserWarning: categorical_feature in Dataset is overridden.\n",
      "New categorical_feature is [0, 1, 2, 3, 4, 5, 6, 7, 8, 9, 10, 11, 12, 13, 14, 15, 16, 17, 18, 19, 20, 21, 22, 23, 24, 25, 26, 27, 28, 29, 30, 31, 32, 33, 34, 35, 36, 37, 38, 39, 40, 41, 42, 43, 44, 45, 46, 47, 48, 49]\n",
      "  'New categorical_feature is {}'.format(sorted(list(categorical_feature))))\n",
      "/opt/conda/lib/python3.7/site-packages/lightgbm/basic.py:1433: UserWarning: Overriding the parameters from Reference Dataset.\n",
      "  _log_warning('Overriding the parameters from Reference Dataset.')\n",
      "/opt/conda/lib/python3.7/site-packages/lightgbm/basic.py:1245: UserWarning: categorical_column in param dict is overridden.\n",
      "  _log_warning('{} in param dict is overridden.'.format(cat_alias))\n"
     ]
    },
    {
     "name": "stdout",
     "output_type": "stream",
     "text": [
      "Training until validation scores don't improve for 200 rounds\n",
      "[100]\ttraining's multi_logloss: 1.04653\tvalid_1's multi_logloss: 1.09693\n",
      "[200]\ttraining's multi_logloss: 0.997418\tvalid_1's multi_logloss: 1.09362\n",
      "[300]\ttraining's multi_logloss: 0.956859\tvalid_1's multi_logloss: 1.0936\n",
      "[400]\ttraining's multi_logloss: 0.921213\tvalid_1's multi_logloss: 1.09422\n",
      "Early stopping, best iteration is:\n",
      "[242]\ttraining's multi_logloss: 0.979562\tvalid_1's multi_logloss: 1.09316\n",
      "Seed-85 | Fold-9 | OOF Score: 1.093156928416168\n",
      "\n",
      "Seed: 85 | Aggregate OOF Score: 1.093400518378195\n",
      "\n",
      "\n"
     ]
    },
    {
     "name": "stderr",
     "output_type": "stream",
     "text": [
      "/opt/conda/lib/python3.7/site-packages/lightgbm/basic.py:1706: UserWarning: categorical_feature in Dataset is overridden.\n",
      "New categorical_feature is [0, 1, 2, 3, 4, 5, 6, 7, 8, 9, 10, 11, 12, 13, 14, 15, 16, 17, 18, 19, 20, 21, 22, 23, 24, 25, 26, 27, 28, 29, 30, 31, 32, 33, 34, 35, 36, 37, 38, 39, 40, 41, 42, 43, 44, 45, 46, 47, 48, 49]\n",
      "  'New categorical_feature is {}'.format(sorted(list(categorical_feature))))\n",
      "/opt/conda/lib/python3.7/site-packages/lightgbm/basic.py:1433: UserWarning: Overriding the parameters from Reference Dataset.\n",
      "  _log_warning('Overriding the parameters from Reference Dataset.')\n",
      "/opt/conda/lib/python3.7/site-packages/lightgbm/basic.py:1245: UserWarning: categorical_column in param dict is overridden.\n",
      "  _log_warning('{} in param dict is overridden.'.format(cat_alias))\n"
     ]
    },
    {
     "name": "stdout",
     "output_type": "stream",
     "text": [
      "Training until validation scores don't improve for 200 rounds\n",
      "[100]\ttraining's multi_logloss: 1.04673\tvalid_1's multi_logloss: 1.09726\n",
      "[200]\ttraining's multi_logloss: 0.997496\tvalid_1's multi_logloss: 1.09285\n",
      "[300]\ttraining's multi_logloss: 0.956907\tvalid_1's multi_logloss: 1.092\n",
      "[400]\ttraining's multi_logloss: 0.921451\tvalid_1's multi_logloss: 1.09272\n",
      "Early stopping, best iteration is:\n",
      "[299]\ttraining's multi_logloss: 0.957285\tvalid_1's multi_logloss: 1.092\n",
      "Seed-57 | Fold-0 | OOF Score: 1.091999867678061\n"
     ]
    },
    {
     "name": "stderr",
     "output_type": "stream",
     "text": [
      "/opt/conda/lib/python3.7/site-packages/lightgbm/basic.py:1706: UserWarning: categorical_feature in Dataset is overridden.\n",
      "New categorical_feature is [0, 1, 2, 3, 4, 5, 6, 7, 8, 9, 10, 11, 12, 13, 14, 15, 16, 17, 18, 19, 20, 21, 22, 23, 24, 25, 26, 27, 28, 29, 30, 31, 32, 33, 34, 35, 36, 37, 38, 39, 40, 41, 42, 43, 44, 45, 46, 47, 48, 49]\n",
      "  'New categorical_feature is {}'.format(sorted(list(categorical_feature))))\n",
      "/opt/conda/lib/python3.7/site-packages/lightgbm/basic.py:1433: UserWarning: Overriding the parameters from Reference Dataset.\n",
      "  _log_warning('Overriding the parameters from Reference Dataset.')\n",
      "/opt/conda/lib/python3.7/site-packages/lightgbm/basic.py:1245: UserWarning: categorical_column in param dict is overridden.\n",
      "  _log_warning('{} in param dict is overridden.'.format(cat_alias))\n"
     ]
    },
    {
     "name": "stdout",
     "output_type": "stream",
     "text": [
      "Training until validation scores don't improve for 200 rounds\n",
      "[100]\ttraining's multi_logloss: 1.04686\tvalid_1's multi_logloss: 1.09525\n",
      "[200]\ttraining's multi_logloss: 0.997917\tvalid_1's multi_logloss: 1.08982\n",
      "[300]\ttraining's multi_logloss: 0.957403\tvalid_1's multi_logloss: 1.08917\n",
      "[400]\ttraining's multi_logloss: 0.921739\tvalid_1's multi_logloss: 1.08965\n",
      "[500]\ttraining's multi_logloss: 0.889019\tvalid_1's multi_logloss: 1.09033\n",
      "Early stopping, best iteration is:\n",
      "[331]\ttraining's multi_logloss: 0.945999\tvalid_1's multi_logloss: 1.08903\n",
      "Seed-57 | Fold-1 | OOF Score: 1.0890310768729328\n"
     ]
    },
    {
     "name": "stderr",
     "output_type": "stream",
     "text": [
      "/opt/conda/lib/python3.7/site-packages/lightgbm/basic.py:1706: UserWarning: categorical_feature in Dataset is overridden.\n",
      "New categorical_feature is [0, 1, 2, 3, 4, 5, 6, 7, 8, 9, 10, 11, 12, 13, 14, 15, 16, 17, 18, 19, 20, 21, 22, 23, 24, 25, 26, 27, 28, 29, 30, 31, 32, 33, 34, 35, 36, 37, 38, 39, 40, 41, 42, 43, 44, 45, 46, 47, 48, 49]\n",
      "  'New categorical_feature is {}'.format(sorted(list(categorical_feature))))\n",
      "/opt/conda/lib/python3.7/site-packages/lightgbm/basic.py:1433: UserWarning: Overriding the parameters from Reference Dataset.\n",
      "  _log_warning('Overriding the parameters from Reference Dataset.')\n",
      "/opt/conda/lib/python3.7/site-packages/lightgbm/basic.py:1245: UserWarning: categorical_column in param dict is overridden.\n",
      "  _log_warning('{} in param dict is overridden.'.format(cat_alias))\n"
     ]
    },
    {
     "name": "stdout",
     "output_type": "stream",
     "text": [
      "Training until validation scores don't improve for 200 rounds\n",
      "[100]\ttraining's multi_logloss: 1.04654\tvalid_1's multi_logloss: 1.09746\n",
      "[200]\ttraining's multi_logloss: 0.997502\tvalid_1's multi_logloss: 1.094\n",
      "[300]\ttraining's multi_logloss: 0.957042\tvalid_1's multi_logloss: 1.09439\n",
      "[400]\ttraining's multi_logloss: 0.921264\tvalid_1's multi_logloss: 1.09503\n",
      "Early stopping, best iteration is:\n",
      "[222]\ttraining's multi_logloss: 0.988026\tvalid_1's multi_logloss: 1.09388\n",
      "Seed-57 | Fold-2 | OOF Score: 1.093883293655829\n"
     ]
    },
    {
     "name": "stderr",
     "output_type": "stream",
     "text": [
      "/opt/conda/lib/python3.7/site-packages/lightgbm/basic.py:1706: UserWarning: categorical_feature in Dataset is overridden.\n",
      "New categorical_feature is [0, 1, 2, 3, 4, 5, 6, 7, 8, 9, 10, 11, 12, 13, 14, 15, 16, 17, 18, 19, 20, 21, 22, 23, 24, 25, 26, 27, 28, 29, 30, 31, 32, 33, 34, 35, 36, 37, 38, 39, 40, 41, 42, 43, 44, 45, 46, 47, 48, 49]\n",
      "  'New categorical_feature is {}'.format(sorted(list(categorical_feature))))\n",
      "/opt/conda/lib/python3.7/site-packages/lightgbm/basic.py:1433: UserWarning: Overriding the parameters from Reference Dataset.\n",
      "  _log_warning('Overriding the parameters from Reference Dataset.')\n",
      "/opt/conda/lib/python3.7/site-packages/lightgbm/basic.py:1245: UserWarning: categorical_column in param dict is overridden.\n",
      "  _log_warning('{} in param dict is overridden.'.format(cat_alias))\n"
     ]
    },
    {
     "name": "stdout",
     "output_type": "stream",
     "text": [
      "Training until validation scores don't improve for 200 rounds\n",
      "[100]\ttraining's multi_logloss: 1.04683\tvalid_1's multi_logloss: 1.09642\n",
      "[200]\ttraining's multi_logloss: 0.997716\tvalid_1's multi_logloss: 1.09209\n",
      "[300]\ttraining's multi_logloss: 0.956955\tvalid_1's multi_logloss: 1.09147\n",
      "[400]\ttraining's multi_logloss: 0.92111\tvalid_1's multi_logloss: 1.09207\n",
      "Early stopping, best iteration is:\n",
      "[281]\ttraining's multi_logloss: 0.964345\tvalid_1's multi_logloss: 1.09129\n",
      "Seed-57 | Fold-3 | OOF Score: 1.0912926820151678\n"
     ]
    },
    {
     "name": "stderr",
     "output_type": "stream",
     "text": [
      "/opt/conda/lib/python3.7/site-packages/lightgbm/basic.py:1706: UserWarning: categorical_feature in Dataset is overridden.\n",
      "New categorical_feature is [0, 1, 2, 3, 4, 5, 6, 7, 8, 9, 10, 11, 12, 13, 14, 15, 16, 17, 18, 19, 20, 21, 22, 23, 24, 25, 26, 27, 28, 29, 30, 31, 32, 33, 34, 35, 36, 37, 38, 39, 40, 41, 42, 43, 44, 45, 46, 47, 48, 49]\n",
      "  'New categorical_feature is {}'.format(sorted(list(categorical_feature))))\n",
      "/opt/conda/lib/python3.7/site-packages/lightgbm/basic.py:1433: UserWarning: Overriding the parameters from Reference Dataset.\n",
      "  _log_warning('Overriding the parameters from Reference Dataset.')\n",
      "/opt/conda/lib/python3.7/site-packages/lightgbm/basic.py:1245: UserWarning: categorical_column in param dict is overridden.\n",
      "  _log_warning('{} in param dict is overridden.'.format(cat_alias))\n"
     ]
    },
    {
     "name": "stdout",
     "output_type": "stream",
     "text": [
      "Training until validation scores don't improve for 200 rounds\n",
      "[100]\ttraining's multi_logloss: 1.04635\tvalid_1's multi_logloss: 1.09923\n",
      "[200]\ttraining's multi_logloss: 0.997131\tvalid_1's multi_logloss: 1.09576\n",
      "[300]\ttraining's multi_logloss: 0.95635\tvalid_1's multi_logloss: 1.09558\n",
      "[400]\ttraining's multi_logloss: 0.920366\tvalid_1's multi_logloss: 1.09637\n",
      "Early stopping, best iteration is:\n",
      "[228]\ttraining's multi_logloss: 0.985177\tvalid_1's multi_logloss: 1.09533\n",
      "Seed-57 | Fold-4 | OOF Score: 1.0953259143685725\n"
     ]
    },
    {
     "name": "stderr",
     "output_type": "stream",
     "text": [
      "/opt/conda/lib/python3.7/site-packages/lightgbm/basic.py:1706: UserWarning: categorical_feature in Dataset is overridden.\n",
      "New categorical_feature is [0, 1, 2, 3, 4, 5, 6, 7, 8, 9, 10, 11, 12, 13, 14, 15, 16, 17, 18, 19, 20, 21, 22, 23, 24, 25, 26, 27, 28, 29, 30, 31, 32, 33, 34, 35, 36, 37, 38, 39, 40, 41, 42, 43, 44, 45, 46, 47, 48, 49]\n",
      "  'New categorical_feature is {}'.format(sorted(list(categorical_feature))))\n",
      "/opt/conda/lib/python3.7/site-packages/lightgbm/basic.py:1433: UserWarning: Overriding the parameters from Reference Dataset.\n",
      "  _log_warning('Overriding the parameters from Reference Dataset.')\n",
      "/opt/conda/lib/python3.7/site-packages/lightgbm/basic.py:1245: UserWarning: categorical_column in param dict is overridden.\n",
      "  _log_warning('{} in param dict is overridden.'.format(cat_alias))\n"
     ]
    },
    {
     "name": "stdout",
     "output_type": "stream",
     "text": [
      "Training until validation scores don't improve for 200 rounds\n",
      "[100]\ttraining's multi_logloss: 1.04629\tvalid_1's multi_logloss: 1.09864\n",
      "[200]\ttraining's multi_logloss: 0.997134\tvalid_1's multi_logloss: 1.09483\n",
      "[300]\ttraining's multi_logloss: 0.956617\tvalid_1's multi_logloss: 1.09414\n",
      "[400]\ttraining's multi_logloss: 0.920896\tvalid_1's multi_logloss: 1.09492\n",
      "Early stopping, best iteration is:\n",
      "[271]\ttraining's multi_logloss: 0.967737\tvalid_1's multi_logloss: 1.09409\n",
      "Seed-57 | Fold-5 | OOF Score: 1.094090391858606\n"
     ]
    },
    {
     "name": "stderr",
     "output_type": "stream",
     "text": [
      "/opt/conda/lib/python3.7/site-packages/lightgbm/basic.py:1706: UserWarning: categorical_feature in Dataset is overridden.\n",
      "New categorical_feature is [0, 1, 2, 3, 4, 5, 6, 7, 8, 9, 10, 11, 12, 13, 14, 15, 16, 17, 18, 19, 20, 21, 22, 23, 24, 25, 26, 27, 28, 29, 30, 31, 32, 33, 34, 35, 36, 37, 38, 39, 40, 41, 42, 43, 44, 45, 46, 47, 48, 49]\n",
      "  'New categorical_feature is {}'.format(sorted(list(categorical_feature))))\n",
      "/opt/conda/lib/python3.7/site-packages/lightgbm/basic.py:1433: UserWarning: Overriding the parameters from Reference Dataset.\n",
      "  _log_warning('Overriding the parameters from Reference Dataset.')\n",
      "/opt/conda/lib/python3.7/site-packages/lightgbm/basic.py:1245: UserWarning: categorical_column in param dict is overridden.\n",
      "  _log_warning('{} in param dict is overridden.'.format(cat_alias))\n"
     ]
    },
    {
     "name": "stdout",
     "output_type": "stream",
     "text": [
      "Training until validation scores don't improve for 200 rounds\n",
      "[100]\ttraining's multi_logloss: 1.04678\tvalid_1's multi_logloss: 1.09566\n",
      "[200]\ttraining's multi_logloss: 0.997775\tvalid_1's multi_logloss: 1.09112\n",
      "[300]\ttraining's multi_logloss: 0.957417\tvalid_1's multi_logloss: 1.0899\n",
      "[400]\ttraining's multi_logloss: 0.921963\tvalid_1's multi_logloss: 1.0899\n",
      "[500]\ttraining's multi_logloss: 0.88913\tvalid_1's multi_logloss: 1.09026\n",
      "Early stopping, best iteration is:\n",
      "[334]\ttraining's multi_logloss: 0.945012\tvalid_1's multi_logloss: 1.08959\n",
      "Seed-57 | Fold-6 | OOF Score: 1.0895889930800537\n"
     ]
    },
    {
     "name": "stderr",
     "output_type": "stream",
     "text": [
      "/opt/conda/lib/python3.7/site-packages/lightgbm/basic.py:1706: UserWarning: categorical_feature in Dataset is overridden.\n",
      "New categorical_feature is [0, 1, 2, 3, 4, 5, 6, 7, 8, 9, 10, 11, 12, 13, 14, 15, 16, 17, 18, 19, 20, 21, 22, 23, 24, 25, 26, 27, 28, 29, 30, 31, 32, 33, 34, 35, 36, 37, 38, 39, 40, 41, 42, 43, 44, 45, 46, 47, 48, 49]\n",
      "  'New categorical_feature is {}'.format(sorted(list(categorical_feature))))\n",
      "/opt/conda/lib/python3.7/site-packages/lightgbm/basic.py:1433: UserWarning: Overriding the parameters from Reference Dataset.\n",
      "  _log_warning('Overriding the parameters from Reference Dataset.')\n",
      "/opt/conda/lib/python3.7/site-packages/lightgbm/basic.py:1245: UserWarning: categorical_column in param dict is overridden.\n",
      "  _log_warning('{} in param dict is overridden.'.format(cat_alias))\n"
     ]
    },
    {
     "name": "stdout",
     "output_type": "stream",
     "text": [
      "Training until validation scores don't improve for 200 rounds\n",
      "[100]\ttraining's multi_logloss: 1.04653\tvalid_1's multi_logloss: 1.09894\n",
      "[200]\ttraining's multi_logloss: 0.997281\tvalid_1's multi_logloss: 1.09443\n",
      "[300]\ttraining's multi_logloss: 0.956938\tvalid_1's multi_logloss: 1.09391\n",
      "[400]\ttraining's multi_logloss: 0.921128\tvalid_1's multi_logloss: 1.09407\n",
      "Early stopping, best iteration is:\n",
      "[265]\ttraining's multi_logloss: 0.970407\tvalid_1's multi_logloss: 1.09367\n",
      "Seed-57 | Fold-7 | OOF Score: 1.0936659115616723\n"
     ]
    },
    {
     "name": "stderr",
     "output_type": "stream",
     "text": [
      "/opt/conda/lib/python3.7/site-packages/lightgbm/basic.py:1706: UserWarning: categorical_feature in Dataset is overridden.\n",
      "New categorical_feature is [0, 1, 2, 3, 4, 5, 6, 7, 8, 9, 10, 11, 12, 13, 14, 15, 16, 17, 18, 19, 20, 21, 22, 23, 24, 25, 26, 27, 28, 29, 30, 31, 32, 33, 34, 35, 36, 37, 38, 39, 40, 41, 42, 43, 44, 45, 46, 47, 48, 49]\n",
      "  'New categorical_feature is {}'.format(sorted(list(categorical_feature))))\n",
      "/opt/conda/lib/python3.7/site-packages/lightgbm/basic.py:1433: UserWarning: Overriding the parameters from Reference Dataset.\n",
      "  _log_warning('Overriding the parameters from Reference Dataset.')\n",
      "/opt/conda/lib/python3.7/site-packages/lightgbm/basic.py:1245: UserWarning: categorical_column in param dict is overridden.\n",
      "  _log_warning('{} in param dict is overridden.'.format(cat_alias))\n"
     ]
    },
    {
     "name": "stdout",
     "output_type": "stream",
     "text": [
      "Training until validation scores don't improve for 200 rounds\n",
      "[100]\ttraining's multi_logloss: 1.04612\tvalid_1's multi_logloss: 1.0999\n",
      "[200]\ttraining's multi_logloss: 0.996883\tvalid_1's multi_logloss: 1.09698\n",
      "[300]\ttraining's multi_logloss: 0.956434\tvalid_1's multi_logloss: 1.09694\n",
      "[400]\ttraining's multi_logloss: 0.920542\tvalid_1's multi_logloss: 1.09761\n",
      "Early stopping, best iteration is:\n",
      "[257]\ttraining's multi_logloss: 0.973075\tvalid_1's multi_logloss: 1.09668\n",
      "Seed-57 | Fold-8 | OOF Score: 1.0966826470700368\n"
     ]
    },
    {
     "name": "stderr",
     "output_type": "stream",
     "text": [
      "/opt/conda/lib/python3.7/site-packages/lightgbm/basic.py:1706: UserWarning: categorical_feature in Dataset is overridden.\n",
      "New categorical_feature is [0, 1, 2, 3, 4, 5, 6, 7, 8, 9, 10, 11, 12, 13, 14, 15, 16, 17, 18, 19, 20, 21, 22, 23, 24, 25, 26, 27, 28, 29, 30, 31, 32, 33, 34, 35, 36, 37, 38, 39, 40, 41, 42, 43, 44, 45, 46, 47, 48, 49]\n",
      "  'New categorical_feature is {}'.format(sorted(list(categorical_feature))))\n",
      "/opt/conda/lib/python3.7/site-packages/lightgbm/basic.py:1433: UserWarning: Overriding the parameters from Reference Dataset.\n",
      "  _log_warning('Overriding the parameters from Reference Dataset.')\n",
      "/opt/conda/lib/python3.7/site-packages/lightgbm/basic.py:1245: UserWarning: categorical_column in param dict is overridden.\n",
      "  _log_warning('{} in param dict is overridden.'.format(cat_alias))\n"
     ]
    },
    {
     "name": "stdout",
     "output_type": "stream",
     "text": [
      "Training until validation scores don't improve for 200 rounds\n",
      "[100]\ttraining's multi_logloss: 1.04642\tvalid_1's multi_logloss: 1.09784\n",
      "[200]\ttraining's multi_logloss: 0.997371\tvalid_1's multi_logloss: 1.09421\n",
      "[300]\ttraining's multi_logloss: 0.956778\tvalid_1's multi_logloss: 1.09426\n",
      "[400]\ttraining's multi_logloss: 0.921009\tvalid_1's multi_logloss: 1.09476\n",
      "Early stopping, best iteration is:\n",
      "[268]\ttraining's multi_logloss: 0.969045\tvalid_1's multi_logloss: 1.09393\n",
      "Seed-57 | Fold-9 | OOF Score: 1.093932326549297\n",
      "\n",
      "Seed: 57 | Aggregate OOF Score: 1.0929493104710228\n",
      "\n",
      "\n"
     ]
    },
    {
     "name": "stderr",
     "output_type": "stream",
     "text": [
      "/opt/conda/lib/python3.7/site-packages/lightgbm/basic.py:1706: UserWarning: categorical_feature in Dataset is overridden.\n",
      "New categorical_feature is [0, 1, 2, 3, 4, 5, 6, 7, 8, 9, 10, 11, 12, 13, 14, 15, 16, 17, 18, 19, 20, 21, 22, 23, 24, 25, 26, 27, 28, 29, 30, 31, 32, 33, 34, 35, 36, 37, 38, 39, 40, 41, 42, 43, 44, 45, 46, 47, 48, 49]\n",
      "  'New categorical_feature is {}'.format(sorted(list(categorical_feature))))\n",
      "/opt/conda/lib/python3.7/site-packages/lightgbm/basic.py:1433: UserWarning: Overriding the parameters from Reference Dataset.\n",
      "  _log_warning('Overriding the parameters from Reference Dataset.')\n",
      "/opt/conda/lib/python3.7/site-packages/lightgbm/basic.py:1245: UserWarning: categorical_column in param dict is overridden.\n",
      "  _log_warning('{} in param dict is overridden.'.format(cat_alias))\n"
     ]
    },
    {
     "name": "stdout",
     "output_type": "stream",
     "text": [
      "Training until validation scores don't improve for 200 rounds\n",
      "[100]\ttraining's multi_logloss: 1.04616\tvalid_1's multi_logloss: 1.09855\n",
      "[200]\ttraining's multi_logloss: 0.997122\tvalid_1's multi_logloss: 1.09516\n",
      "[300]\ttraining's multi_logloss: 0.956523\tvalid_1's multi_logloss: 1.09537\n",
      "[400]\ttraining's multi_logloss: 0.920968\tvalid_1's multi_logloss: 1.09583\n",
      "Early stopping, best iteration is:\n",
      "[230]\ttraining's multi_logloss: 0.984201\tvalid_1's multi_logloss: 1.09489\n",
      "Seed-0 | Fold-0 | OOF Score: 1.0948864380331043\n"
     ]
    },
    {
     "name": "stderr",
     "output_type": "stream",
     "text": [
      "/opt/conda/lib/python3.7/site-packages/lightgbm/basic.py:1706: UserWarning: categorical_feature in Dataset is overridden.\n",
      "New categorical_feature is [0, 1, 2, 3, 4, 5, 6, 7, 8, 9, 10, 11, 12, 13, 14, 15, 16, 17, 18, 19, 20, 21, 22, 23, 24, 25, 26, 27, 28, 29, 30, 31, 32, 33, 34, 35, 36, 37, 38, 39, 40, 41, 42, 43, 44, 45, 46, 47, 48, 49]\n",
      "  'New categorical_feature is {}'.format(sorted(list(categorical_feature))))\n",
      "/opt/conda/lib/python3.7/site-packages/lightgbm/basic.py:1433: UserWarning: Overriding the parameters from Reference Dataset.\n",
      "  _log_warning('Overriding the parameters from Reference Dataset.')\n",
      "/opt/conda/lib/python3.7/site-packages/lightgbm/basic.py:1245: UserWarning: categorical_column in param dict is overridden.\n",
      "  _log_warning('{} in param dict is overridden.'.format(cat_alias))\n"
     ]
    },
    {
     "name": "stdout",
     "output_type": "stream",
     "text": [
      "Training until validation scores don't improve for 200 rounds\n",
      "[100]\ttraining's multi_logloss: 1.0466\tvalid_1's multi_logloss: 1.09666\n",
      "[200]\ttraining's multi_logloss: 0.997252\tvalid_1's multi_logloss: 1.09215\n",
      "[300]\ttraining's multi_logloss: 0.95649\tvalid_1's multi_logloss: 1.09173\n",
      "[400]\ttraining's multi_logloss: 0.920886\tvalid_1's multi_logloss: 1.09214\n",
      "Early stopping, best iteration is:\n",
      "[240]\ttraining's multi_logloss: 0.980127\tvalid_1's multi_logloss: 1.0914\n",
      "Seed-0 | Fold-1 | OOF Score: 1.091398887532671\n"
     ]
    },
    {
     "name": "stderr",
     "output_type": "stream",
     "text": [
      "/opt/conda/lib/python3.7/site-packages/lightgbm/basic.py:1706: UserWarning: categorical_feature in Dataset is overridden.\n",
      "New categorical_feature is [0, 1, 2, 3, 4, 5, 6, 7, 8, 9, 10, 11, 12, 13, 14, 15, 16, 17, 18, 19, 20, 21, 22, 23, 24, 25, 26, 27, 28, 29, 30, 31, 32, 33, 34, 35, 36, 37, 38, 39, 40, 41, 42, 43, 44, 45, 46, 47, 48, 49]\n",
      "  'New categorical_feature is {}'.format(sorted(list(categorical_feature))))\n",
      "/opt/conda/lib/python3.7/site-packages/lightgbm/basic.py:1433: UserWarning: Overriding the parameters from Reference Dataset.\n",
      "  _log_warning('Overriding the parameters from Reference Dataset.')\n",
      "/opt/conda/lib/python3.7/site-packages/lightgbm/basic.py:1245: UserWarning: categorical_column in param dict is overridden.\n",
      "  _log_warning('{} in param dict is overridden.'.format(cat_alias))\n"
     ]
    },
    {
     "name": "stdout",
     "output_type": "stream",
     "text": [
      "Training until validation scores don't improve for 200 rounds\n",
      "[100]\ttraining's multi_logloss: 1.04624\tvalid_1's multi_logloss: 1.09919\n",
      "[200]\ttraining's multi_logloss: 0.997016\tvalid_1's multi_logloss: 1.09554\n",
      "[300]\ttraining's multi_logloss: 0.95651\tvalid_1's multi_logloss: 1.09487\n",
      "[400]\ttraining's multi_logloss: 0.920813\tvalid_1's multi_logloss: 1.09532\n",
      "Early stopping, best iteration is:\n",
      "[299]\ttraining's multi_logloss: 0.956855\tvalid_1's multi_logloss: 1.09484\n",
      "Seed-0 | Fold-2 | OOF Score: 1.0948434428795089\n"
     ]
    },
    {
     "name": "stderr",
     "output_type": "stream",
     "text": [
      "/opt/conda/lib/python3.7/site-packages/lightgbm/basic.py:1706: UserWarning: categorical_feature in Dataset is overridden.\n",
      "New categorical_feature is [0, 1, 2, 3, 4, 5, 6, 7, 8, 9, 10, 11, 12, 13, 14, 15, 16, 17, 18, 19, 20, 21, 22, 23, 24, 25, 26, 27, 28, 29, 30, 31, 32, 33, 34, 35, 36, 37, 38, 39, 40, 41, 42, 43, 44, 45, 46, 47, 48, 49]\n",
      "  'New categorical_feature is {}'.format(sorted(list(categorical_feature))))\n",
      "/opt/conda/lib/python3.7/site-packages/lightgbm/basic.py:1433: UserWarning: Overriding the parameters from Reference Dataset.\n",
      "  _log_warning('Overriding the parameters from Reference Dataset.')\n",
      "/opt/conda/lib/python3.7/site-packages/lightgbm/basic.py:1245: UserWarning: categorical_column in param dict is overridden.\n",
      "  _log_warning('{} in param dict is overridden.'.format(cat_alias))\n"
     ]
    },
    {
     "name": "stdout",
     "output_type": "stream",
     "text": [
      "Training until validation scores don't improve for 200 rounds\n",
      "[100]\ttraining's multi_logloss: 1.04675\tvalid_1's multi_logloss: 1.09701\n",
      "[200]\ttraining's multi_logloss: 0.997393\tvalid_1's multi_logloss: 1.09325\n",
      "[300]\ttraining's multi_logloss: 0.957022\tvalid_1's multi_logloss: 1.09295\n",
      "[400]\ttraining's multi_logloss: 0.921272\tvalid_1's multi_logloss: 1.0935\n",
      "Early stopping, best iteration is:\n",
      "[232]\ttraining's multi_logloss: 0.983678\tvalid_1's multi_logloss: 1.09281\n",
      "Seed-0 | Fold-3 | OOF Score: 1.0928111572252335\n"
     ]
    },
    {
     "name": "stderr",
     "output_type": "stream",
     "text": [
      "/opt/conda/lib/python3.7/site-packages/lightgbm/basic.py:1706: UserWarning: categorical_feature in Dataset is overridden.\n",
      "New categorical_feature is [0, 1, 2, 3, 4, 5, 6, 7, 8, 9, 10, 11, 12, 13, 14, 15, 16, 17, 18, 19, 20, 21, 22, 23, 24, 25, 26, 27, 28, 29, 30, 31, 32, 33, 34, 35, 36, 37, 38, 39, 40, 41, 42, 43, 44, 45, 46, 47, 48, 49]\n",
      "  'New categorical_feature is {}'.format(sorted(list(categorical_feature))))\n",
      "/opt/conda/lib/python3.7/site-packages/lightgbm/basic.py:1433: UserWarning: Overriding the parameters from Reference Dataset.\n",
      "  _log_warning('Overriding the parameters from Reference Dataset.')\n",
      "/opt/conda/lib/python3.7/site-packages/lightgbm/basic.py:1245: UserWarning: categorical_column in param dict is overridden.\n",
      "  _log_warning('{} in param dict is overridden.'.format(cat_alias))\n"
     ]
    },
    {
     "name": "stdout",
     "output_type": "stream",
     "text": [
      "Training until validation scores don't improve for 200 rounds\n",
      "[100]\ttraining's multi_logloss: 1.04687\tvalid_1's multi_logloss: 1.09448\n",
      "[200]\ttraining's multi_logloss: 0.997725\tvalid_1's multi_logloss: 1.08975\n",
      "[300]\ttraining's multi_logloss: 0.957252\tvalid_1's multi_logloss: 1.08927\n",
      "[400]\ttraining's multi_logloss: 0.921779\tvalid_1's multi_logloss: 1.08988\n",
      "Early stopping, best iteration is:\n",
      "[258]\ttraining's multi_logloss: 0.973394\tvalid_1's multi_logloss: 1.08911\n",
      "Seed-0 | Fold-4 | OOF Score: 1.0891141820437666\n"
     ]
    },
    {
     "name": "stderr",
     "output_type": "stream",
     "text": [
      "/opt/conda/lib/python3.7/site-packages/lightgbm/basic.py:1706: UserWarning: categorical_feature in Dataset is overridden.\n",
      "New categorical_feature is [0, 1, 2, 3, 4, 5, 6, 7, 8, 9, 10, 11, 12, 13, 14, 15, 16, 17, 18, 19, 20, 21, 22, 23, 24, 25, 26, 27, 28, 29, 30, 31, 32, 33, 34, 35, 36, 37, 38, 39, 40, 41, 42, 43, 44, 45, 46, 47, 48, 49]\n",
      "  'New categorical_feature is {}'.format(sorted(list(categorical_feature))))\n",
      "/opt/conda/lib/python3.7/site-packages/lightgbm/basic.py:1433: UserWarning: Overriding the parameters from Reference Dataset.\n",
      "  _log_warning('Overriding the parameters from Reference Dataset.')\n",
      "/opt/conda/lib/python3.7/site-packages/lightgbm/basic.py:1245: UserWarning: categorical_column in param dict is overridden.\n",
      "  _log_warning('{} in param dict is overridden.'.format(cat_alias))\n"
     ]
    },
    {
     "name": "stdout",
     "output_type": "stream",
     "text": [
      "Training until validation scores don't improve for 200 rounds\n",
      "[100]\ttraining's multi_logloss: 1.04675\tvalid_1's multi_logloss: 1.09779\n",
      "[200]\ttraining's multi_logloss: 0.997659\tvalid_1's multi_logloss: 1.09322\n",
      "[300]\ttraining's multi_logloss: 0.956852\tvalid_1's multi_logloss: 1.09252\n",
      "[400]\ttraining's multi_logloss: 0.921345\tvalid_1's multi_logloss: 1.0929\n",
      "Early stopping, best iteration is:\n",
      "[282]\ttraining's multi_logloss: 0.963753\tvalid_1's multi_logloss: 1.09237\n",
      "Seed-0 | Fold-5 | OOF Score: 1.0923673247958297\n"
     ]
    },
    {
     "name": "stderr",
     "output_type": "stream",
     "text": [
      "/opt/conda/lib/python3.7/site-packages/lightgbm/basic.py:1706: UserWarning: categorical_feature in Dataset is overridden.\n",
      "New categorical_feature is [0, 1, 2, 3, 4, 5, 6, 7, 8, 9, 10, 11, 12, 13, 14, 15, 16, 17, 18, 19, 20, 21, 22, 23, 24, 25, 26, 27, 28, 29, 30, 31, 32, 33, 34, 35, 36, 37, 38, 39, 40, 41, 42, 43, 44, 45, 46, 47, 48, 49]\n",
      "  'New categorical_feature is {}'.format(sorted(list(categorical_feature))))\n",
      "/opt/conda/lib/python3.7/site-packages/lightgbm/basic.py:1433: UserWarning: Overriding the parameters from Reference Dataset.\n",
      "  _log_warning('Overriding the parameters from Reference Dataset.')\n",
      "/opt/conda/lib/python3.7/site-packages/lightgbm/basic.py:1245: UserWarning: categorical_column in param dict is overridden.\n",
      "  _log_warning('{} in param dict is overridden.'.format(cat_alias))\n"
     ]
    },
    {
     "name": "stdout",
     "output_type": "stream",
     "text": [
      "Training until validation scores don't improve for 200 rounds\n",
      "[100]\ttraining's multi_logloss: 1.04655\tvalid_1's multi_logloss: 1.0982\n",
      "[200]\ttraining's multi_logloss: 0.997579\tvalid_1's multi_logloss: 1.0941\n",
      "[300]\ttraining's multi_logloss: 0.957091\tvalid_1's multi_logloss: 1.0934\n",
      "[400]\ttraining's multi_logloss: 0.921246\tvalid_1's multi_logloss: 1.09403\n",
      "Early stopping, best iteration is:\n",
      "[283]\ttraining's multi_logloss: 0.963631\tvalid_1's multi_logloss: 1.09336\n",
      "Seed-0 | Fold-6 | OOF Score: 1.0933597050260027\n"
     ]
    },
    {
     "name": "stderr",
     "output_type": "stream",
     "text": [
      "/opt/conda/lib/python3.7/site-packages/lightgbm/basic.py:1706: UserWarning: categorical_feature in Dataset is overridden.\n",
      "New categorical_feature is [0, 1, 2, 3, 4, 5, 6, 7, 8, 9, 10, 11, 12, 13, 14, 15, 16, 17, 18, 19, 20, 21, 22, 23, 24, 25, 26, 27, 28, 29, 30, 31, 32, 33, 34, 35, 36, 37, 38, 39, 40, 41, 42, 43, 44, 45, 46, 47, 48, 49]\n",
      "  'New categorical_feature is {}'.format(sorted(list(categorical_feature))))\n",
      "/opt/conda/lib/python3.7/site-packages/lightgbm/basic.py:1433: UserWarning: Overriding the parameters from Reference Dataset.\n",
      "  _log_warning('Overriding the parameters from Reference Dataset.')\n",
      "/opt/conda/lib/python3.7/site-packages/lightgbm/basic.py:1245: UserWarning: categorical_column in param dict is overridden.\n",
      "  _log_warning('{} in param dict is overridden.'.format(cat_alias))\n"
     ]
    },
    {
     "name": "stdout",
     "output_type": "stream",
     "text": [
      "Training until validation scores don't improve for 200 rounds\n",
      "[100]\ttraining's multi_logloss: 1.04654\tvalid_1's multi_logloss: 1.09824\n",
      "[200]\ttraining's multi_logloss: 0.997277\tvalid_1's multi_logloss: 1.09434\n",
      "[300]\ttraining's multi_logloss: 0.956741\tvalid_1's multi_logloss: 1.09418\n",
      "[400]\ttraining's multi_logloss: 0.921051\tvalid_1's multi_logloss: 1.09472\n",
      "Early stopping, best iteration is:\n",
      "[275]\ttraining's multi_logloss: 0.96632\tvalid_1's multi_logloss: 1.09391\n",
      "Seed-0 | Fold-7 | OOF Score: 1.0939132531487494\n"
     ]
    },
    {
     "name": "stderr",
     "output_type": "stream",
     "text": [
      "/opt/conda/lib/python3.7/site-packages/lightgbm/basic.py:1706: UserWarning: categorical_feature in Dataset is overridden.\n",
      "New categorical_feature is [0, 1, 2, 3, 4, 5, 6, 7, 8, 9, 10, 11, 12, 13, 14, 15, 16, 17, 18, 19, 20, 21, 22, 23, 24, 25, 26, 27, 28, 29, 30, 31, 32, 33, 34, 35, 36, 37, 38, 39, 40, 41, 42, 43, 44, 45, 46, 47, 48, 49]\n",
      "  'New categorical_feature is {}'.format(sorted(list(categorical_feature))))\n",
      "/opt/conda/lib/python3.7/site-packages/lightgbm/basic.py:1433: UserWarning: Overriding the parameters from Reference Dataset.\n",
      "  _log_warning('Overriding the parameters from Reference Dataset.')\n",
      "/opt/conda/lib/python3.7/site-packages/lightgbm/basic.py:1245: UserWarning: categorical_column in param dict is overridden.\n",
      "  _log_warning('{} in param dict is overridden.'.format(cat_alias))\n"
     ]
    },
    {
     "name": "stdout",
     "output_type": "stream",
     "text": [
      "Training until validation scores don't improve for 200 rounds\n",
      "[100]\ttraining's multi_logloss: 1.04624\tvalid_1's multi_logloss: 1.09695\n",
      "[200]\ttraining's multi_logloss: 0.996972\tvalid_1's multi_logloss: 1.09333\n",
      "[300]\ttraining's multi_logloss: 0.956514\tvalid_1's multi_logloss: 1.09331\n",
      "[400]\ttraining's multi_logloss: 0.920919\tvalid_1's multi_logloss: 1.09327\n",
      "Early stopping, best iteration is:\n",
      "[250]\ttraining's multi_logloss: 0.9759\tvalid_1's multi_logloss: 1.09296\n",
      "Seed-0 | Fold-8 | OOF Score: 1.0929561151445348\n"
     ]
    },
    {
     "name": "stderr",
     "output_type": "stream",
     "text": [
      "/opt/conda/lib/python3.7/site-packages/lightgbm/basic.py:1706: UserWarning: categorical_feature in Dataset is overridden.\n",
      "New categorical_feature is [0, 1, 2, 3, 4, 5, 6, 7, 8, 9, 10, 11, 12, 13, 14, 15, 16, 17, 18, 19, 20, 21, 22, 23, 24, 25, 26, 27, 28, 29, 30, 31, 32, 33, 34, 35, 36, 37, 38, 39, 40, 41, 42, 43, 44, 45, 46, 47, 48, 49]\n",
      "  'New categorical_feature is {}'.format(sorted(list(categorical_feature))))\n",
      "/opt/conda/lib/python3.7/site-packages/lightgbm/basic.py:1433: UserWarning: Overriding the parameters from Reference Dataset.\n",
      "  _log_warning('Overriding the parameters from Reference Dataset.')\n",
      "/opt/conda/lib/python3.7/site-packages/lightgbm/basic.py:1245: UserWarning: categorical_column in param dict is overridden.\n",
      "  _log_warning('{} in param dict is overridden.'.format(cat_alias))\n"
     ]
    },
    {
     "name": "stdout",
     "output_type": "stream",
     "text": [
      "Training until validation scores don't improve for 200 rounds\n",
      "[100]\ttraining's multi_logloss: 1.04624\tvalid_1's multi_logloss: 1.09946\n",
      "[200]\ttraining's multi_logloss: 0.996996\tvalid_1's multi_logloss: 1.09605\n",
      "[300]\ttraining's multi_logloss: 0.956425\tvalid_1's multi_logloss: 1.09632\n",
      "[400]\ttraining's multi_logloss: 0.920959\tvalid_1's multi_logloss: 1.09709\n",
      "Early stopping, best iteration is:\n",
      "[221]\ttraining's multi_logloss: 0.98788\tvalid_1's multi_logloss: 1.09589\n",
      "Seed-0 | Fold-9 | OOF Score: 1.095892070366559\n",
      "\n",
      "Seed: 0 | Aggregate OOF Score: 1.0931542576195958\n",
      "\n",
      "\n",
      "Aggregate OOF Score: 1.0931680288229377\n"
     ]
    }
   ],
   "source": [
    "FOLD = 10\n",
    "NUM_SEED = 3\n",
    "\n",
    "# Prediction Clipping Thresholds\n",
    "p_min = 0.025\n",
    "p_max = 1 - p_min\n",
    "\n",
    "np.random.seed(2021)\n",
    "seeds = np.random.randint(0, 100, size=NUM_SEED)\n",
    "\n",
    "oof_score = 0\n",
    "y_pred_meta_lgb = np.zeros((Ytrain.shape[0], 4))\n",
    "y_pred_final_lgb = np.zeros((Xtest.shape[0], 4))\n",
    "counter = 0\n",
    "\n",
    "\n",
    "for sidx, seed in enumerate(seeds):\n",
    "    seed_score = 0\n",
    "    \n",
    "    kfold = StratifiedKFold(n_splits=FOLD, shuffle=True, random_state=seed)\n",
    "\n",
    "    for idx, (train, val) in enumerate(kfold.split(Xtrain.values, Ytrain.values)):\n",
    "        counter += 1\n",
    "\n",
    "        train_x, train_y, train_y_oh = Xtrain.iloc[train], Ytrain.iloc[train], Ytrain_oh.iloc[train]\n",
    "        val_x, val_y, val_y_oh = Xtrain.iloc[val], Ytrain.iloc[val], Ytrain_oh.iloc[val]\n",
    "\n",
    "        lgtrain = lgb.Dataset(train_x, label=train_y)\n",
    "        lgvalidation = lgb.Dataset(val_x, label=val_y)\n",
    "\n",
    "        model = lgb.train(params, lgtrain, num_rounds, \n",
    "                          valid_sets=[lgtrain, lgvalidation], \n",
    "                          categorical_feature=cat_cols_indices,\n",
    "                          early_stopping_rounds=200, verbose_eval=100)\n",
    "\n",
    "        y_pred = model.predict(val_x, num_iteration=model.best_iteration)\n",
    "        y_pred = np.clip(y_pred, p_min, p_max)\n",
    "        y_pred_meta_lgb[val] += y_pred\n",
    "        y_pred_final_lgb += model.predict(Xtest, num_iteration=model.best_iteration)\n",
    "        \n",
    "        score = log_loss(val_y_oh, y_pred)\n",
    "        oof_score += score\n",
    "        seed_score += score\n",
    "        print(\"Seed-{} | Fold-{} | OOF Score: {}\".format(seed, idx, score))\n",
    "    \n",
    "    print(\"\\nSeed: {} | Aggregate OOF Score: {}\\n\\n\".format(seed, (seed_score / FOLD)))\n",
    "\n",
    "\n",
    "y_pred_meta_lgb = y_pred_meta_lgb / float(NUM_SEED)\n",
    "y_pred_final_lgb = y_pred_final_lgb / float(counter)\n",
    "oof_score /= float(counter)\n",
    "print(\"Aggregate OOF Score: {}\".format(oof_score))"
   ]
  },
  {
   "cell_type": "code",
   "execution_count": 7,
   "id": "catholic-antibody",
   "metadata": {
    "execution": {
     "iopub.execute_input": "2021-05-15T19:32:31.817107Z",
     "iopub.status.busy": "2021-05-15T19:32:31.816397Z",
     "iopub.status.idle": "2021-05-15T19:32:32.079688Z",
     "shell.execute_reply": "2021-05-15T19:32:32.079145Z"
    },
    "id": "uLzmS7LzXvXy",
    "papermill": {
     "duration": 0.367328,
     "end_time": "2021-05-15T19:32:32.079865",
     "exception": false,
     "start_time": "2021-05-15T19:32:31.712537",
     "status": "completed"
    },
    "tags": []
   },
   "outputs": [],
   "source": [
    "np.savez_compressed('./LGB_Meta_Features.npz',\n",
    "                    y_pred_meta_lgb=y_pred_meta_lgb, \n",
    "                    oof_score=oof_score,\n",
    "                    y_pred_final_lgb=y_pred_final_lgb)"
   ]
  },
  {
   "cell_type": "markdown",
   "id": "photographic-stuff",
   "metadata": {
    "id": "nZvoU4TpWxmY",
    "papermill": {
     "duration": 0.094401,
     "end_time": "2021-05-15T19:32:32.270731",
     "exception": false,
     "start_time": "2021-05-15T19:32:32.176330",
     "status": "completed"
    },
    "tags": []
   },
   "source": [
    "## Create submission file"
   ]
  },
  {
   "cell_type": "code",
   "execution_count": 8,
   "id": "insured-secretary",
   "metadata": {
    "execution": {
     "iopub.execute_input": "2021-05-15T19:32:32.466164Z",
     "iopub.status.busy": "2021-05-15T19:32:32.465353Z",
     "iopub.status.idle": "2021-05-15T19:32:32.719512Z",
     "shell.execute_reply": "2021-05-15T19:32:32.718828Z"
    },
    "executionInfo": {
     "elapsed": 1417,
     "status": "ok",
     "timestamp": 1616078535765,
     "user": {
      "displayName": "TAPAS DAS",
      "photoUrl": "https://lh3.googleusercontent.com/a-/AOh14GiyffdGKiPCR_UwVittzTcbBFms70IkGfU15fatCA=s64",
      "userId": "10798398878324948542"
     },
     "user_tz": -330
    },
    "id": "zGEGOAJHVoHV",
    "outputId": "53ab44cf-755f-435d-c1af-f4184f2114dd",
    "papermill": {
     "duration": 0.354165,
     "end_time": "2021-05-15T19:32:32.719696",
     "exception": false,
     "start_time": "2021-05-15T19:32:32.365531",
     "status": "completed"
    },
    "tags": []
   },
   "outputs": [
    {
     "data": {
      "text/html": [
       "<div>\n",
       "<style scoped>\n",
       "    .dataframe tbody tr th:only-of-type {\n",
       "        vertical-align: middle;\n",
       "    }\n",
       "\n",
       "    .dataframe tbody tr th {\n",
       "        vertical-align: top;\n",
       "    }\n",
       "\n",
       "    .dataframe thead th {\n",
       "        text-align: right;\n",
       "    }\n",
       "</style>\n",
       "<table border=\"1\" class=\"dataframe\">\n",
       "  <thead>\n",
       "    <tr style=\"text-align: right;\">\n",
       "      <th></th>\n",
       "      <th>id</th>\n",
       "      <th>Class_1</th>\n",
       "      <th>Class_2</th>\n",
       "      <th>Class_3</th>\n",
       "      <th>Class_4</th>\n",
       "    </tr>\n",
       "  </thead>\n",
       "  <tbody>\n",
       "    <tr>\n",
       "      <th>0</th>\n",
       "      <td>100000</td>\n",
       "      <td>0.089598</td>\n",
       "      <td>0.592365</td>\n",
       "      <td>0.188934</td>\n",
       "      <td>0.129103</td>\n",
       "    </tr>\n",
       "    <tr>\n",
       "      <th>1</th>\n",
       "      <td>100001</td>\n",
       "      <td>0.065664</td>\n",
       "      <td>0.660605</td>\n",
       "      <td>0.171028</td>\n",
       "      <td>0.102703</td>\n",
       "    </tr>\n",
       "    <tr>\n",
       "      <th>2</th>\n",
       "      <td>100002</td>\n",
       "      <td>0.064476</td>\n",
       "      <td>0.704215</td>\n",
       "      <td>0.146463</td>\n",
       "      <td>0.084847</td>\n",
       "    </tr>\n",
       "    <tr>\n",
       "      <th>3</th>\n",
       "      <td>100003</td>\n",
       "      <td>0.080247</td>\n",
       "      <td>0.485205</td>\n",
       "      <td>0.346802</td>\n",
       "      <td>0.087746</td>\n",
       "    </tr>\n",
       "    <tr>\n",
       "      <th>4</th>\n",
       "      <td>100004</td>\n",
       "      <td>0.069971</td>\n",
       "      <td>0.654408</td>\n",
       "      <td>0.181412</td>\n",
       "      <td>0.094209</td>\n",
       "    </tr>\n",
       "  </tbody>\n",
       "</table>\n",
       "</div>"
      ],
      "text/plain": [
       "       id   Class_1   Class_2   Class_3   Class_4\n",
       "0  100000  0.089598  0.592365  0.188934  0.129103\n",
       "1  100001  0.065664  0.660605  0.171028  0.102703\n",
       "2  100002  0.064476  0.704215  0.146463  0.084847\n",
       "3  100003  0.080247  0.485205  0.346802  0.087746\n",
       "4  100004  0.069971  0.654408  0.181412  0.094209"
      ]
     },
     "execution_count": 8,
     "metadata": {},
     "output_type": "execute_result"
    }
   ],
   "source": [
    "y_pred_final_lgb = np.clip(y_pred_final_lgb, p_min, p_max)\n",
    "\n",
    "test_df = pd.read_csv(\"../input/tabular-playground-series-may-2021/test.csv\")\n",
    "submit_df = pd.DataFrame()\n",
    "submit_df['id'] = test_df['id']\n",
    "submit_df['Class_1'] = y_pred_final_lgb[:,0]\n",
    "submit_df['Class_2'] = y_pred_final_lgb[:,1]\n",
    "submit_df['Class_3'] = y_pred_final_lgb[:,2]\n",
    "submit_df['Class_4'] = y_pred_final_lgb[:,3]\n",
    "submit_df.head()"
   ]
  },
  {
   "cell_type": "code",
   "execution_count": 9,
   "id": "requested-buffer",
   "metadata": {
    "execution": {
     "iopub.execute_input": "2021-05-15T19:32:32.923438Z",
     "iopub.status.busy": "2021-05-15T19:32:32.922337Z",
     "iopub.status.idle": "2021-05-15T19:32:33.421103Z",
     "shell.execute_reply": "2021-05-15T19:32:33.420389Z"
    },
    "id": "KDIsotrKVoJN",
    "papermill": {
     "duration": 0.603118,
     "end_time": "2021-05-15T19:32:33.421298",
     "exception": false,
     "start_time": "2021-05-15T19:32:32.818180",
     "status": "completed"
    },
    "tags": []
   },
   "outputs": [],
   "source": [
    "submit_df.to_csv(\"./LGB_submission.csv\", index=False)"
   ]
  },
  {
   "cell_type": "code",
   "execution_count": null,
   "id": "obvious-mechanism",
   "metadata": {
    "id": "W2c88MvxXm65",
    "papermill": {
     "duration": 0.093958,
     "end_time": "2021-05-15T19:32:33.610862",
     "exception": false,
     "start_time": "2021-05-15T19:32:33.516904",
     "status": "completed"
    },
    "tags": []
   },
   "outputs": [],
   "source": []
  }
 ],
 "metadata": {
  "kernelspec": {
   "display_name": "Python 3",
   "language": "python",
   "name": "python3"
  },
  "language_info": {
   "codemirror_mode": {
    "name": "ipython",
    "version": 3
   },
   "file_extension": ".py",
   "mimetype": "text/x-python",
   "name": "python",
   "nbconvert_exporter": "python",
   "pygments_lexer": "ipython3",
   "version": "3.8.8"
  },
  "papermill": {
   "default_parameters": {},
   "duration": 6836.850614,
   "end_time": "2021-05-15T19:32:34.721413",
   "environment_variables": {},
   "exception": null,
   "input_path": "__notebook__.ipynb",
   "output_path": "__notebook__.ipynb",
   "parameters": {},
   "start_time": "2021-05-15T17:38:37.870799",
   "version": "2.3.3"
  }
 },
 "nbformat": 4,
 "nbformat_minor": 5
}
