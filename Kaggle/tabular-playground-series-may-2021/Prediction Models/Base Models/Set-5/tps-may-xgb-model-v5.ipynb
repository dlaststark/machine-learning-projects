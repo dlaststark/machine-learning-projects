{
 "cells": [
  {
   "cell_type": "markdown",
   "id": "single-joining",
   "metadata": {
    "id": "uLz9OcH8SeET",
    "papermill": {
     "duration": 0.010769,
     "end_time": "2021-05-22T16:38:52.875888",
     "exception": false,
     "start_time": "2021-05-22T16:38:52.865119",
     "status": "completed"
    },
    "tags": []
   },
   "source": [
    "## Import libraries"
   ]
  },
  {
   "cell_type": "code",
   "execution_count": 1,
   "id": "editorial-visibility",
   "metadata": {
    "execution": {
     "iopub.execute_input": "2021-05-22T16:38:52.902186Z",
     "iopub.status.busy": "2021-05-22T16:38:52.900718Z",
     "iopub.status.idle": "2021-05-22T16:38:53.824442Z",
     "shell.execute_reply": "2021-05-22T16:38:53.823875Z",
     "shell.execute_reply.started": "2021-05-22T16:18:30.398240Z"
    },
    "executionInfo": {
     "elapsed": 23727,
     "status": "ok",
     "timestamp": 1616326442041,
     "user": {
      "displayName": "TAPAS DAS",
      "photoUrl": "https://lh3.googleusercontent.com/a-/AOh14GiyffdGKiPCR_UwVittzTcbBFms70IkGfU15fatCA=s64",
      "userId": "10798398878324948542"
     },
     "user_tz": -330
    },
    "id": "E9svswc9SUuX",
    "papermill": {
     "duration": 0.937865,
     "end_time": "2021-05-22T16:38:53.824594",
     "exception": false,
     "start_time": "2021-05-22T16:38:52.886729",
     "status": "completed"
    },
    "tags": []
   },
   "outputs": [],
   "source": [
    "import gc\n",
    "import pickle\n",
    "import numpy as np\n",
    "import pandas as pd\n",
    "from tqdm import tqdm\n",
    "from xgboost import XGBClassifier\n",
    "from sklearn.metrics import log_loss\n",
    "from sklearn.model_selection import StratifiedKFold"
   ]
  },
  {
   "cell_type": "markdown",
   "id": "consolidated-lottery",
   "metadata": {
    "id": "hg85SpW-S6hl",
    "papermill": {
     "duration": 0.009742,
     "end_time": "2021-05-22T16:38:53.845294",
     "exception": false,
     "start_time": "2021-05-22T16:38:53.835552",
     "status": "completed"
    },
    "tags": []
   },
   "source": [
    "## Prepare data for model training"
   ]
  },
  {
   "cell_type": "code",
   "execution_count": 2,
   "id": "furnished-rachel",
   "metadata": {
    "execution": {
     "iopub.execute_input": "2021-05-22T16:38:53.868921Z",
     "iopub.status.busy": "2021-05-22T16:38:53.868342Z",
     "iopub.status.idle": "2021-05-22T16:38:55.672763Z",
     "shell.execute_reply": "2021-05-22T16:38:55.672266Z",
     "shell.execute_reply.started": "2021-05-22T16:18:31.937517Z"
    },
    "executionInfo": {
     "elapsed": 10043,
     "status": "ok",
     "timestamp": 1616326444482,
     "user": {
      "displayName": "TAPAS DAS",
      "photoUrl": "https://lh3.googleusercontent.com/a-/AOh14GiyffdGKiPCR_UwVittzTcbBFms70IkGfU15fatCA=s64",
      "userId": "10798398878324948542"
     },
     "user_tz": -330
    },
    "id": "VdhgoIAmSUxK",
    "outputId": "7897cfad-c8d4-46d9-86ea-04de37e11444",
    "papermill": {
     "duration": 1.817919,
     "end_time": "2021-05-22T16:38:55.672893",
     "exception": false,
     "start_time": "2021-05-22T16:38:53.854974",
     "status": "completed"
    },
    "tags": []
   },
   "outputs": [
    {
     "data": {
      "text/plain": [
       "20"
      ]
     },
     "execution_count": 2,
     "metadata": {},
     "output_type": "execute_result"
    }
   ],
   "source": [
    "with open(\"../input/tps-may-data-preprocess-v5/TPS_May_Dataset.txt\", 'rb') as handle: \n",
    "    data = handle.read()\n",
    "\n",
    "processed_data = pickle.loads(data)\n",
    "train_df = processed_data['train_df']\n",
    "test_df = processed_data['test_df']\n",
    "\n",
    "del processed_data\n",
    "gc.collect()"
   ]
  },
  {
   "cell_type": "code",
   "execution_count": 3,
   "id": "discrete-curtis",
   "metadata": {
    "execution": {
     "iopub.execute_input": "2021-05-22T16:38:55.714364Z",
     "iopub.status.busy": "2021-05-22T16:38:55.713856Z",
     "iopub.status.idle": "2021-05-22T16:38:55.771546Z",
     "shell.execute_reply": "2021-05-22T16:38:55.771100Z",
     "shell.execute_reply.started": "2021-05-22T16:18:33.892491Z"
    },
    "papermill": {
     "duration": 0.087959,
     "end_time": "2021-05-22T16:38:55.771666",
     "exception": false,
     "start_time": "2021-05-22T16:38:55.683707",
     "status": "completed"
    },
    "tags": []
   },
   "outputs": [
    {
     "name": "stderr",
     "output_type": "stream",
     "text": [
      "100%|██████████| 50/50 [00:00<00:00, 1104.68it/s]"
     ]
    },
    {
     "name": "stdout",
     "output_type": "stream",
     "text": [
      "37\n"
     ]
    },
    {
     "name": "stderr",
     "output_type": "stream",
     "text": [
      "\n"
     ]
    },
    {
     "data": {
      "text/plain": [
       "['feature_0',\n",
       " 'feature_2',\n",
       " 'feature_3',\n",
       " 'feature_4',\n",
       " 'feature_5',\n",
       " 'feature_6',\n",
       " 'feature_7',\n",
       " 'feature_9',\n",
       " 'feature_10',\n",
       " 'feature_11',\n",
       " 'feature_12',\n",
       " 'feature_13',\n",
       " 'feature_15',\n",
       " 'feature_16',\n",
       " 'feature_17',\n",
       " 'feature_18',\n",
       " 'feature_20',\n",
       " 'feature_21',\n",
       " 'feature_22',\n",
       " 'feature_23',\n",
       " 'feature_25',\n",
       " 'feature_26',\n",
       " 'feature_27',\n",
       " 'feature_28',\n",
       " 'feature_29',\n",
       " 'feature_32',\n",
       " 'feature_33',\n",
       " 'feature_34',\n",
       " 'feature_35',\n",
       " 'feature_36',\n",
       " 'feature_38',\n",
       " 'feature_39',\n",
       " 'feature_42',\n",
       " 'feature_43',\n",
       " 'feature_44',\n",
       " 'feature_46',\n",
       " 'feature_49']"
      ]
     },
     "execution_count": 3,
     "metadata": {},
     "output_type": "execute_result"
    }
   ],
   "source": [
    "cat_cols = []\n",
    "for col in tqdm(train_df.iloc[:,0:50].columns):\n",
    "    train_ = train_df[col].unique().tolist()\n",
    "    test_ = test_df[col].unique().tolist()\n",
    "    \n",
    "    train_.sort()\n",
    "    test_.sort()\n",
    "    \n",
    "    if train_ == test_:\n",
    "        cat_cols.append(col)\n",
    "\n",
    "print(len(cat_cols))\n",
    "cat_cols"
   ]
  },
  {
   "cell_type": "code",
   "execution_count": 4,
   "id": "eligible-brass",
   "metadata": {
    "execution": {
     "iopub.execute_input": "2021-05-22T16:38:55.803842Z",
     "iopub.status.busy": "2021-05-22T16:38:55.802739Z",
     "iopub.status.idle": "2021-05-22T16:39:02.670037Z",
     "shell.execute_reply": "2021-05-22T16:39:02.669640Z",
     "shell.execute_reply.started": "2021-05-22T16:18:36.882240Z"
    },
    "papermill": {
     "duration": 6.886703,
     "end_time": "2021-05-22T16:39:02.670170",
     "exception": false,
     "start_time": "2021-05-22T16:38:55.783467",
     "status": "completed"
    },
    "tags": []
   },
   "outputs": [
    {
     "name": "stderr",
     "output_type": "stream",
     "text": [
      "100%|██████████| 37/37 [00:05<00:00,  7.25it/s]\n",
      " 14%|█▎        | 5/37 [00:00<00:00, 48.12it/s]"
     ]
    },
    {
     "name": "stdout",
     "output_type": "stream",
     "text": [
      "train_df: (99918, 912)\n"
     ]
    },
    {
     "name": "stderr",
     "output_type": "stream",
     "text": [
      "100%|██████████| 37/37 [00:01<00:00, 22.07it/s]"
     ]
    },
    {
     "name": "stdout",
     "output_type": "stream",
     "text": [
      "test_df: (50000, 911)\n"
     ]
    },
    {
     "name": "stderr",
     "output_type": "stream",
     "text": [
      "\n"
     ]
    }
   ],
   "source": [
    "train_df[cat_cols] = train_df[cat_cols].astype(int)\n",
    "test_df[cat_cols] = test_df[cat_cols].astype(int)\n",
    "\n",
    "for col in tqdm(cat_cols):\n",
    "    dummy_val = pd.get_dummies(train_df[col], prefix='col')\n",
    "    train_df = pd.concat([train_df, dummy_val], axis=1)\n",
    "    train_df.drop([col], inplace=True, axis=1)\n",
    "\n",
    "print(\"train_df: {}\".format(train_df.shape))\n",
    "\n",
    "for col in tqdm(cat_cols):\n",
    "    dummy_val = pd.get_dummies(test_df[col], prefix='col')\n",
    "    test_df = pd.concat([test_df, dummy_val], axis=1)\n",
    "    test_df.drop([col], inplace=True, axis=1)\n",
    "\n",
    "print(\"test_df: {}\".format(test_df.shape))"
   ]
  },
  {
   "cell_type": "code",
   "execution_count": 5,
   "id": "purple-acrobat",
   "metadata": {
    "execution": {
     "iopub.execute_input": "2021-05-22T16:39:02.731454Z",
     "iopub.status.busy": "2021-05-22T16:39:02.720175Z",
     "iopub.status.idle": "2021-05-22T16:39:03.164120Z",
     "shell.execute_reply": "2021-05-22T16:39:03.164563Z",
     "shell.execute_reply.started": "2021-05-22T16:18:44.504397Z"
    },
    "executionInfo": {
     "elapsed": 2058,
     "status": "ok",
     "timestamp": 1616326525321,
     "user": {
      "displayName": "TAPAS DAS",
      "photoUrl": "https://lh3.googleusercontent.com/a-/AOh14GiyffdGKiPCR_UwVittzTcbBFms70IkGfU15fatCA=s64",
      "userId": "10798398878324948542"
     },
     "user_tz": -330
    },
    "id": "UAfyHbeASU7C",
    "outputId": "14c429a7-7b43-4065-afae-da7d4f6679a9",
    "papermill": {
     "duration": 0.471683,
     "end_time": "2021-05-22T16:39:03.164742",
     "exception": false,
     "start_time": "2021-05-22T16:39:02.693059",
     "status": "completed"
    },
    "tags": []
   },
   "outputs": [
    {
     "name": "stdout",
     "output_type": "stream",
     "text": [
      "Xtrain: (99918, 911) \n",
      "Ytrain: (99918,) \n",
      "Ytrain_oh: (99918, 4) \n",
      "Xtest: (50000, 911)\n"
     ]
    },
    {
     "data": {
      "text/plain": [
       "100"
      ]
     },
     "execution_count": 5,
     "metadata": {},
     "output_type": "execute_result"
    }
   ],
   "source": [
    "Xtrain = train_df.loc[:, train_df.columns != 'target'].values\n",
    "Ytrain = train_df['target'].values\n",
    "Ytrain_oh = pd.get_dummies(train_df['target']).values\n",
    "Xtest = test_df.values\n",
    "\n",
    "print(\"Xtrain: {} \\nYtrain: {} \\nYtrain_oh: {} \\nXtest: {}\".format(Xtrain.shape, Ytrain.shape, \n",
    "                                                                   Ytrain_oh.shape, Xtest.shape))\n",
    "\n",
    "del train_df\n",
    "del test_df\n",
    "gc.collect()"
   ]
  },
  {
   "cell_type": "markdown",
   "id": "macro-ocean",
   "metadata": {
    "id": "9wNC5rWEVnjd",
    "papermill": {
     "duration": 0.027805,
     "end_time": "2021-05-22T16:39:03.225216",
     "exception": false,
     "start_time": "2021-05-22T16:39:03.197411",
     "status": "completed"
    },
    "tags": []
   },
   "source": [
    "## Build and validate the model"
   ]
  },
  {
   "cell_type": "code",
   "execution_count": 6,
   "id": "another-chicago",
   "metadata": {
    "execution": {
     "iopub.execute_input": "2021-05-22T16:39:03.286813Z",
     "iopub.status.busy": "2021-05-22T16:39:03.285876Z",
     "iopub.status.idle": "2021-05-22T16:44:38.023436Z",
     "shell.execute_reply": "2021-05-22T16:44:38.024214Z",
     "shell.execute_reply.started": "2021-05-22T16:36:23.551155Z"
    },
    "id": "uWPosEORSVBp",
    "outputId": "d70ac047-a86b-4f36-84cc-960b1b5316be",
    "papermill": {
     "duration": 334.774389,
     "end_time": "2021-05-22T16:44:38.024405",
     "exception": false,
     "start_time": "2021-05-22T16:39:03.250016",
     "status": "completed"
    },
    "tags": []
   },
   "outputs": [
    {
     "name": "stdout",
     "output_type": "stream",
     "text": [
      "[0]\tvalidation_0-mlogloss:1.34652\tvalidation_1-mlogloss:1.34751\n",
      "[50]\tvalidation_0-mlogloss:1.06251\tvalidation_1-mlogloss:1.09768\n",
      "[99]\tvalidation_0-mlogloss:1.03284\tvalidation_1-mlogloss:1.09462\n"
     ]
    },
    {
     "name": "stderr",
     "output_type": "stream",
     "text": [
      "/opt/conda/lib/python3.7/site-packages/xgboost/data.py:114: UserWarning: Use subset (sliced data) of np.ndarray is not recommended because it will generate extra copies and increase memory consumption\n",
      "  \"because it will generate extra copies and increase \" +\n"
     ]
    },
    {
     "name": "stdout",
     "output_type": "stream",
     "text": [
      "Seed-24 | Fold-0 | OOF Score: 1.0946671266952832\n",
      "[0]\tvalidation_0-mlogloss:1.34668\tvalidation_1-mlogloss:1.34728\n",
      "[50]\tvalidation_0-mlogloss:1.06166\tvalidation_1-mlogloss:1.09633\n",
      "[99]\tvalidation_0-mlogloss:1.03216\tvalidation_1-mlogloss:1.09274\n"
     ]
    },
    {
     "name": "stderr",
     "output_type": "stream",
     "text": [
      "/opt/conda/lib/python3.7/site-packages/xgboost/data.py:114: UserWarning: Use subset (sliced data) of np.ndarray is not recommended because it will generate extra copies and increase memory consumption\n",
      "  \"because it will generate extra copies and increase \" +\n"
     ]
    },
    {
     "name": "stdout",
     "output_type": "stream",
     "text": [
      "Seed-24 | Fold-1 | OOF Score: 1.0927583239033067\n",
      "[0]\tvalidation_0-mlogloss:1.34660\tvalidation_1-mlogloss:1.34743\n",
      "[50]\tvalidation_0-mlogloss:1.06105\tvalidation_1-mlogloss:1.10084\n",
      "[99]\tvalidation_0-mlogloss:1.03107\tvalidation_1-mlogloss:1.09833\n"
     ]
    },
    {
     "name": "stderr",
     "output_type": "stream",
     "text": [
      "/opt/conda/lib/python3.7/site-packages/xgboost/data.py:114: UserWarning: Use subset (sliced data) of np.ndarray is not recommended because it will generate extra copies and increase memory consumption\n",
      "  \"because it will generate extra copies and increase \" +\n"
     ]
    },
    {
     "name": "stdout",
     "output_type": "stream",
     "text": [
      "Seed-24 | Fold-2 | OOF Score: 1.0983453118954423\n",
      "[0]\tvalidation_0-mlogloss:1.34655\tvalidation_1-mlogloss:1.34730\n",
      "[50]\tvalidation_0-mlogloss:1.06220\tvalidation_1-mlogloss:1.09630\n",
      "[99]\tvalidation_0-mlogloss:1.03295\tvalidation_1-mlogloss:1.09203\n"
     ]
    },
    {
     "name": "stderr",
     "output_type": "stream",
     "text": [
      "/opt/conda/lib/python3.7/site-packages/xgboost/data.py:114: UserWarning: Use subset (sliced data) of np.ndarray is not recommended because it will generate extra copies and increase memory consumption\n",
      "  \"because it will generate extra copies and increase \" +\n"
     ]
    },
    {
     "name": "stdout",
     "output_type": "stream",
     "text": [
      "Seed-24 | Fold-3 | OOF Score: 1.0921150409072948\n",
      "[0]\tvalidation_0-mlogloss:1.34648\tvalidation_1-mlogloss:1.34732\n",
      "[50]\tvalidation_0-mlogloss:1.06137\tvalidation_1-mlogloss:1.09888\n",
      "[99]\tvalidation_0-mlogloss:1.03201\tvalidation_1-mlogloss:1.09505\n"
     ]
    },
    {
     "name": "stderr",
     "output_type": "stream",
     "text": [
      "/opt/conda/lib/python3.7/site-packages/xgboost/data.py:114: UserWarning: Use subset (sliced data) of np.ndarray is not recommended because it will generate extra copies and increase memory consumption\n",
      "  \"because it will generate extra copies and increase \" +\n"
     ]
    },
    {
     "name": "stdout",
     "output_type": "stream",
     "text": [
      "Seed-24 | Fold-4 | OOF Score: 1.0950735873603124\n",
      "[0]\tvalidation_0-mlogloss:1.34653\tvalidation_1-mlogloss:1.34735\n",
      "[50]\tvalidation_0-mlogloss:1.06118\tvalidation_1-mlogloss:1.10040\n",
      "[99]\tvalidation_0-mlogloss:1.03078\tvalidation_1-mlogloss:1.09716\n"
     ]
    },
    {
     "name": "stderr",
     "output_type": "stream",
     "text": [
      "/opt/conda/lib/python3.7/site-packages/xgboost/data.py:114: UserWarning: Use subset (sliced data) of np.ndarray is not recommended because it will generate extra copies and increase memory consumption\n",
      "  \"because it will generate extra copies and increase \" +\n"
     ]
    },
    {
     "name": "stdout",
     "output_type": "stream",
     "text": [
      "Seed-24 | Fold-5 | OOF Score: 1.0970794520601093\n",
      "[0]\tvalidation_0-mlogloss:1.34658\tvalidation_1-mlogloss:1.34733\n",
      "[50]\tvalidation_0-mlogloss:1.06203\tvalidation_1-mlogloss:1.09807\n",
      "[99]\tvalidation_0-mlogloss:1.03192\tvalidation_1-mlogloss:1.09427\n"
     ]
    },
    {
     "name": "stderr",
     "output_type": "stream",
     "text": [
      "/opt/conda/lib/python3.7/site-packages/xgboost/data.py:114: UserWarning: Use subset (sliced data) of np.ndarray is not recommended because it will generate extra copies and increase memory consumption\n",
      "  \"because it will generate extra copies and increase \" +\n"
     ]
    },
    {
     "name": "stdout",
     "output_type": "stream",
     "text": [
      "Seed-24 | Fold-6 | OOF Score: 1.0942858952366776\n",
      "[0]\tvalidation_0-mlogloss:1.34642\tvalidation_1-mlogloss:1.34728\n",
      "[50]\tvalidation_0-mlogloss:1.06137\tvalidation_1-mlogloss:1.09814\n",
      "[99]\tvalidation_0-mlogloss:1.03076\tvalidation_1-mlogloss:1.09420\n"
     ]
    },
    {
     "name": "stderr",
     "output_type": "stream",
     "text": [
      "/opt/conda/lib/python3.7/site-packages/xgboost/data.py:114: UserWarning: Use subset (sliced data) of np.ndarray is not recommended because it will generate extra copies and increase memory consumption\n",
      "  \"because it will generate extra copies and increase \" +\n"
     ]
    },
    {
     "name": "stdout",
     "output_type": "stream",
     "text": [
      "Seed-24 | Fold-7 | OOF Score: 1.094189705692524\n",
      "[0]\tvalidation_0-mlogloss:1.34662\tvalidation_1-mlogloss:1.34736\n",
      "[50]\tvalidation_0-mlogloss:1.06170\tvalidation_1-mlogloss:1.09641\n",
      "[99]\tvalidation_0-mlogloss:1.03237\tvalidation_1-mlogloss:1.09217\n"
     ]
    },
    {
     "name": "stderr",
     "output_type": "stream",
     "text": [
      "/opt/conda/lib/python3.7/site-packages/xgboost/data.py:114: UserWarning: Use subset (sliced data) of np.ndarray is not recommended because it will generate extra copies and increase memory consumption\n",
      "  \"because it will generate extra copies and increase \" +\n"
     ]
    },
    {
     "name": "stdout",
     "output_type": "stream",
     "text": [
      "Seed-24 | Fold-8 | OOF Score: 1.0922105808973241\n",
      "[0]\tvalidation_0-mlogloss:1.34656\tvalidation_1-mlogloss:1.34741\n",
      "[50]\tvalidation_0-mlogloss:1.06121\tvalidation_1-mlogloss:1.09848\n",
      "[99]\tvalidation_0-mlogloss:1.03143\tvalidation_1-mlogloss:1.09597\n"
     ]
    },
    {
     "name": "stderr",
     "output_type": "stream",
     "text": [
      "/opt/conda/lib/python3.7/site-packages/xgboost/data.py:114: UserWarning: Use subset (sliced data) of np.ndarray is not recommended because it will generate extra copies and increase memory consumption\n",
      "  \"because it will generate extra copies and increase \" +\n"
     ]
    },
    {
     "name": "stdout",
     "output_type": "stream",
     "text": [
      "Seed-24 | Fold-9 | OOF Score: 1.0959038913351389\n",
      "\n",
      "Seed: 24 | Aggregate OOF Score: 1.0946628915983414\n",
      "\n",
      "\n",
      "[0]\tvalidation_0-mlogloss:1.34648\tvalidation_1-mlogloss:1.34736\n",
      "[50]\tvalidation_0-mlogloss:1.06151\tvalidation_1-mlogloss:1.09781\n",
      "[99]\tvalidation_0-mlogloss:1.03126\tvalidation_1-mlogloss:1.09420\n"
     ]
    },
    {
     "name": "stderr",
     "output_type": "stream",
     "text": [
      "/opt/conda/lib/python3.7/site-packages/xgboost/data.py:114: UserWarning: Use subset (sliced data) of np.ndarray is not recommended because it will generate extra copies and increase memory consumption\n",
      "  \"because it will generate extra copies and increase \" +\n"
     ]
    },
    {
     "name": "stdout",
     "output_type": "stream",
     "text": [
      "Seed-3 | Fold-0 | OOF Score: 1.094245157721307\n",
      "[0]\tvalidation_0-mlogloss:1.34647\tvalidation_1-mlogloss:1.34715\n",
      "[50]\tvalidation_0-mlogloss:1.06225\tvalidation_1-mlogloss:1.09778\n",
      "[99]\tvalidation_0-mlogloss:1.03287\tvalidation_1-mlogloss:1.09397\n"
     ]
    },
    {
     "name": "stderr",
     "output_type": "stream",
     "text": [
      "/opt/conda/lib/python3.7/site-packages/xgboost/data.py:114: UserWarning: Use subset (sliced data) of np.ndarray is not recommended because it will generate extra copies and increase memory consumption\n",
      "  \"because it will generate extra copies and increase \" +\n"
     ]
    },
    {
     "name": "stdout",
     "output_type": "stream",
     "text": [
      "Seed-3 | Fold-1 | OOF Score: 1.0939936606814449\n",
      "[0]\tvalidation_0-mlogloss:1.34657\tvalidation_1-mlogloss:1.34754\n",
      "[50]\tvalidation_0-mlogloss:1.06193\tvalidation_1-mlogloss:1.09978\n",
      "[99]\tvalidation_0-mlogloss:1.03216\tvalidation_1-mlogloss:1.09737\n"
     ]
    },
    {
     "name": "stderr",
     "output_type": "stream",
     "text": [
      "/opt/conda/lib/python3.7/site-packages/xgboost/data.py:114: UserWarning: Use subset (sliced data) of np.ndarray is not recommended because it will generate extra copies and increase memory consumption\n",
      "  \"because it will generate extra copies and increase \" +\n"
     ]
    },
    {
     "name": "stdout",
     "output_type": "stream",
     "text": [
      "Seed-3 | Fold-2 | OOF Score: 1.0972660987334455\n",
      "[0]\tvalidation_0-mlogloss:1.34653\tvalidation_1-mlogloss:1.34766\n",
      "[50]\tvalidation_0-mlogloss:1.06144\tvalidation_1-mlogloss:1.09825\n",
      "[99]\tvalidation_0-mlogloss:1.03102\tvalidation_1-mlogloss:1.09515\n"
     ]
    },
    {
     "name": "stderr",
     "output_type": "stream",
     "text": [
      "/opt/conda/lib/python3.7/site-packages/xgboost/data.py:114: UserWarning: Use subset (sliced data) of np.ndarray is not recommended because it will generate extra copies and increase memory consumption\n",
      "  \"because it will generate extra copies and increase \" +\n"
     ]
    },
    {
     "name": "stdout",
     "output_type": "stream",
     "text": [
      "Seed-3 | Fold-3 | OOF Score: 1.0950911553804759\n",
      "[0]\tvalidation_0-mlogloss:1.34657\tvalidation_1-mlogloss:1.34729\n",
      "[50]\tvalidation_0-mlogloss:1.06162\tvalidation_1-mlogloss:1.09724\n",
      "[99]\tvalidation_0-mlogloss:1.03192\tvalidation_1-mlogloss:1.09435\n"
     ]
    },
    {
     "name": "stderr",
     "output_type": "stream",
     "text": [
      "/opt/conda/lib/python3.7/site-packages/xgboost/data.py:114: UserWarning: Use subset (sliced data) of np.ndarray is not recommended because it will generate extra copies and increase memory consumption\n",
      "  \"because it will generate extra copies and increase \" +\n"
     ]
    },
    {
     "name": "stdout",
     "output_type": "stream",
     "text": [
      "Seed-3 | Fold-4 | OOF Score: 1.094436731477312\n",
      "[0]\tvalidation_0-mlogloss:1.34662\tvalidation_1-mlogloss:1.34741\n",
      "[50]\tvalidation_0-mlogloss:1.06136\tvalidation_1-mlogloss:1.09943\n",
      "[99]\tvalidation_0-mlogloss:1.03201\tvalidation_1-mlogloss:1.09706\n"
     ]
    },
    {
     "name": "stderr",
     "output_type": "stream",
     "text": [
      "/opt/conda/lib/python3.7/site-packages/xgboost/data.py:114: UserWarning: Use subset (sliced data) of np.ndarray is not recommended because it will generate extra copies and increase memory consumption\n",
      "  \"because it will generate extra copies and increase \" +\n"
     ]
    },
    {
     "name": "stdout",
     "output_type": "stream",
     "text": [
      "Seed-3 | Fold-5 | OOF Score: 1.0971175464357825\n",
      "[0]\tvalidation_0-mlogloss:1.34649\tvalidation_1-mlogloss:1.34727\n",
      "[50]\tvalidation_0-mlogloss:1.06194\tvalidation_1-mlogloss:1.09778\n",
      "[99]\tvalidation_0-mlogloss:1.03179\tvalidation_1-mlogloss:1.09405\n"
     ]
    },
    {
     "name": "stderr",
     "output_type": "stream",
     "text": [
      "/opt/conda/lib/python3.7/site-packages/xgboost/data.py:114: UserWarning: Use subset (sliced data) of np.ndarray is not recommended because it will generate extra copies and increase memory consumption\n",
      "  \"because it will generate extra copies and increase \" +\n"
     ]
    },
    {
     "name": "stdout",
     "output_type": "stream",
     "text": [
      "Seed-3 | Fold-6 | OOF Score: 1.0941216080569571\n",
      "[0]\tvalidation_0-mlogloss:1.34650\tvalidation_1-mlogloss:1.34727\n",
      "[50]\tvalidation_0-mlogloss:1.06167\tvalidation_1-mlogloss:1.09873\n",
      "[99]\tvalidation_0-mlogloss:1.03275\tvalidation_1-mlogloss:1.09470\n"
     ]
    },
    {
     "name": "stderr",
     "output_type": "stream",
     "text": [
      "/opt/conda/lib/python3.7/site-packages/xgboost/data.py:114: UserWarning: Use subset (sliced data) of np.ndarray is not recommended because it will generate extra copies and increase memory consumption\n",
      "  \"because it will generate extra copies and increase \" +\n"
     ]
    },
    {
     "name": "stdout",
     "output_type": "stream",
     "text": [
      "Seed-3 | Fold-7 | OOF Score: 1.0947534932693044\n",
      "[0]\tvalidation_0-mlogloss:1.34651\tvalidation_1-mlogloss:1.34757\n",
      "[50]\tvalidation_0-mlogloss:1.06196\tvalidation_1-mlogloss:1.09780\n",
      "[99]\tvalidation_0-mlogloss:1.03266\tvalidation_1-mlogloss:1.09390\n"
     ]
    },
    {
     "name": "stderr",
     "output_type": "stream",
     "text": [
      "/opt/conda/lib/python3.7/site-packages/xgboost/data.py:114: UserWarning: Use subset (sliced data) of np.ndarray is not recommended because it will generate extra copies and increase memory consumption\n",
      "  \"because it will generate extra copies and increase \" +\n"
     ]
    },
    {
     "name": "stdout",
     "output_type": "stream",
     "text": [
      "Seed-3 | Fold-8 | OOF Score: 1.093947493668171\n",
      "[0]\tvalidation_0-mlogloss:1.34643\tvalidation_1-mlogloss:1.34765\n",
      "[50]\tvalidation_0-mlogloss:1.06072\tvalidation_1-mlogloss:1.09992\n",
      "[99]\tvalidation_0-mlogloss:1.03099\tvalidation_1-mlogloss:1.09659\n"
     ]
    },
    {
     "name": "stderr",
     "output_type": "stream",
     "text": [
      "/opt/conda/lib/python3.7/site-packages/xgboost/data.py:114: UserWarning: Use subset (sliced data) of np.ndarray is not recommended because it will generate extra copies and increase memory consumption\n",
      "  \"because it will generate extra copies and increase \" +\n"
     ]
    },
    {
     "name": "stdout",
     "output_type": "stream",
     "text": [
      "Seed-3 | Fold-9 | OOF Score: 1.0965810772574063\n",
      "\n",
      "Seed: 3 | Aggregate OOF Score: 1.0951554022681607\n",
      "\n",
      "\n",
      "[0]\tvalidation_0-mlogloss:1.34642\tvalidation_1-mlogloss:1.34746\n",
      "[50]\tvalidation_0-mlogloss:1.06137\tvalidation_1-mlogloss:1.09869\n",
      "[99]\tvalidation_0-mlogloss:1.03105\tvalidation_1-mlogloss:1.09497\n"
     ]
    },
    {
     "name": "stderr",
     "output_type": "stream",
     "text": [
      "/opt/conda/lib/python3.7/site-packages/xgboost/data.py:114: UserWarning: Use subset (sliced data) of np.ndarray is not recommended because it will generate extra copies and increase memory consumption\n",
      "  \"because it will generate extra copies and increase \" +\n"
     ]
    },
    {
     "name": "stdout",
     "output_type": "stream",
     "text": [
      "Seed-56 | Fold-0 | OOF Score: 1.0950029260986704\n",
      "[0]\tvalidation_0-mlogloss:1.34652\tvalidation_1-mlogloss:1.34735\n",
      "[50]\tvalidation_0-mlogloss:1.06128\tvalidation_1-mlogloss:1.09870\n",
      "[99]\tvalidation_0-mlogloss:1.03150\tvalidation_1-mlogloss:1.09493\n"
     ]
    },
    {
     "name": "stderr",
     "output_type": "stream",
     "text": [
      "/opt/conda/lib/python3.7/site-packages/xgboost/data.py:114: UserWarning: Use subset (sliced data) of np.ndarray is not recommended because it will generate extra copies and increase memory consumption\n",
      "  \"because it will generate extra copies and increase \" +\n"
     ]
    },
    {
     "name": "stdout",
     "output_type": "stream",
     "text": [
      "Seed-56 | Fold-1 | OOF Score: 1.0949288271442115\n",
      "[0]\tvalidation_0-mlogloss:1.34652\tvalidation_1-mlogloss:1.34732\n",
      "[50]\tvalidation_0-mlogloss:1.06137\tvalidation_1-mlogloss:1.09756\n",
      "[99]\tvalidation_0-mlogloss:1.03080\tvalidation_1-mlogloss:1.09452\n"
     ]
    },
    {
     "name": "stderr",
     "output_type": "stream",
     "text": [
      "/opt/conda/lib/python3.7/site-packages/xgboost/data.py:114: UserWarning: Use subset (sliced data) of np.ndarray is not recommended because it will generate extra copies and increase memory consumption\n",
      "  \"because it will generate extra copies and increase \" +\n"
     ]
    },
    {
     "name": "stdout",
     "output_type": "stream",
     "text": [
      "Seed-56 | Fold-2 | OOF Score: 1.0945976614456974\n",
      "[0]\tvalidation_0-mlogloss:1.34654\tvalidation_1-mlogloss:1.34726\n",
      "[50]\tvalidation_0-mlogloss:1.06207\tvalidation_1-mlogloss:1.09911\n",
      "[99]\tvalidation_0-mlogloss:1.03249\tvalidation_1-mlogloss:1.09654\n"
     ]
    },
    {
     "name": "stderr",
     "output_type": "stream",
     "text": [
      "/opt/conda/lib/python3.7/site-packages/xgboost/data.py:114: UserWarning: Use subset (sliced data) of np.ndarray is not recommended because it will generate extra copies and increase memory consumption\n",
      "  \"because it will generate extra copies and increase \" +\n"
     ]
    },
    {
     "name": "stdout",
     "output_type": "stream",
     "text": [
      "Seed-56 | Fold-3 | OOF Score: 1.0965818936665885\n",
      "[0]\tvalidation_0-mlogloss:1.34653\tvalidation_1-mlogloss:1.34722\n",
      "[50]\tvalidation_0-mlogloss:1.06212\tvalidation_1-mlogloss:1.09503\n",
      "[99]\tvalidation_0-mlogloss:1.03215\tvalidation_1-mlogloss:1.09075\n"
     ]
    },
    {
     "name": "stderr",
     "output_type": "stream",
     "text": [
      "/opt/conda/lib/python3.7/site-packages/xgboost/data.py:114: UserWarning: Use subset (sliced data) of np.ndarray is not recommended because it will generate extra copies and increase memory consumption\n",
      "  \"because it will generate extra copies and increase \" +\n"
     ]
    },
    {
     "name": "stdout",
     "output_type": "stream",
     "text": [
      "Seed-56 | Fold-4 | OOF Score: 1.0907617350883656\n",
      "[0]\tvalidation_0-mlogloss:1.34662\tvalidation_1-mlogloss:1.34735\n",
      "[50]\tvalidation_0-mlogloss:1.06257\tvalidation_1-mlogloss:1.09534\n",
      "[99]\tvalidation_0-mlogloss:1.03263\tvalidation_1-mlogloss:1.09094\n"
     ]
    },
    {
     "name": "stderr",
     "output_type": "stream",
     "text": [
      "/opt/conda/lib/python3.7/site-packages/xgboost/data.py:114: UserWarning: Use subset (sliced data) of np.ndarray is not recommended because it will generate extra copies and increase memory consumption\n",
      "  \"because it will generate extra copies and increase \" +\n"
     ]
    },
    {
     "name": "stdout",
     "output_type": "stream",
     "text": [
      "Seed-56 | Fold-5 | OOF Score: 1.0911435635881224\n",
      "[0]\tvalidation_0-mlogloss:1.34658\tvalidation_1-mlogloss:1.34746\n",
      "[50]\tvalidation_0-mlogloss:1.06111\tvalidation_1-mlogloss:1.09922\n",
      "[99]\tvalidation_0-mlogloss:1.03194\tvalidation_1-mlogloss:1.09598\n"
     ]
    },
    {
     "name": "stderr",
     "output_type": "stream",
     "text": [
      "/opt/conda/lib/python3.7/site-packages/xgboost/data.py:114: UserWarning: Use subset (sliced data) of np.ndarray is not recommended because it will generate extra copies and increase memory consumption\n",
      "  \"because it will generate extra copies and increase \" +\n"
     ]
    },
    {
     "name": "stdout",
     "output_type": "stream",
     "text": [
      "Seed-56 | Fold-6 | OOF Score: 1.0960517600745416\n",
      "[0]\tvalidation_0-mlogloss:1.34655\tvalidation_1-mlogloss:1.34739\n",
      "[50]\tvalidation_0-mlogloss:1.06165\tvalidation_1-mlogloss:1.09902\n",
      "[99]\tvalidation_0-mlogloss:1.03218\tvalidation_1-mlogloss:1.09512\n"
     ]
    },
    {
     "name": "stderr",
     "output_type": "stream",
     "text": [
      "/opt/conda/lib/python3.7/site-packages/xgboost/data.py:114: UserWarning: Use subset (sliced data) of np.ndarray is not recommended because it will generate extra copies and increase memory consumption\n",
      "  \"because it will generate extra copies and increase \" +\n"
     ]
    },
    {
     "name": "stdout",
     "output_type": "stream",
     "text": [
      "Seed-56 | Fold-7 | OOF Score: 1.095217237882823\n",
      "[0]\tvalidation_0-mlogloss:1.34647\tvalidation_1-mlogloss:1.34722\n",
      "[50]\tvalidation_0-mlogloss:1.06158\tvalidation_1-mlogloss:1.09797\n",
      "[99]\tvalidation_0-mlogloss:1.03144\tvalidation_1-mlogloss:1.09534\n"
     ]
    },
    {
     "name": "stderr",
     "output_type": "stream",
     "text": [
      "/opt/conda/lib/python3.7/site-packages/xgboost/data.py:114: UserWarning: Use subset (sliced data) of np.ndarray is not recommended because it will generate extra copies and increase memory consumption\n",
      "  \"because it will generate extra copies and increase \" +\n"
     ]
    },
    {
     "name": "stdout",
     "output_type": "stream",
     "text": [
      "Seed-56 | Fold-8 | OOF Score: 1.0953474197912927\n",
      "[0]\tvalidation_0-mlogloss:1.34654\tvalidation_1-mlogloss:1.34742\n",
      "[50]\tvalidation_0-mlogloss:1.06107\tvalidation_1-mlogloss:1.09926\n",
      "[99]\tvalidation_0-mlogloss:1.03168\tvalidation_1-mlogloss:1.09574\n"
     ]
    },
    {
     "name": "stderr",
     "output_type": "stream",
     "text": [
      "/opt/conda/lib/python3.7/site-packages/xgboost/data.py:114: UserWarning: Use subset (sliced data) of np.ndarray is not recommended because it will generate extra copies and increase memory consumption\n",
      "  \"because it will generate extra copies and increase \" +\n"
     ]
    },
    {
     "name": "stdout",
     "output_type": "stream",
     "text": [
      "Seed-56 | Fold-9 | OOF Score: 1.0957699390118\n",
      "\n",
      "Seed: 56 | Aggregate OOF Score: 1.0945402963792115\n",
      "\n",
      "\n",
      "Aggregate OOF Score: 1.0947861967485712\n"
     ]
    }
   ],
   "source": [
    "FOLD = 10\n",
    "NUM_SEED = 3\n",
    "\n",
    "# Prediction Clipping Thresholds\n",
    "p_min = 0.025\n",
    "p_max = 1 - p_min\n",
    "\n",
    "np.random.seed(3)\n",
    "seeds = np.random.randint(0, 100, size=NUM_SEED)\n",
    "\n",
    "oof_score = 0\n",
    "y_pred_meta_xgb = np.zeros((Ytrain.shape[0], 4))\n",
    "y_pred_final_xgb = np.zeros((Xtest.shape[0], 4))\n",
    "counter = 0\n",
    "\n",
    "\n",
    "for sidx, seed in enumerate(seeds):\n",
    "    seed_score = 0\n",
    "    \n",
    "    kfold = StratifiedKFold(n_splits=FOLD, shuffle=True, random_state=seed)\n",
    "\n",
    "    for idx, (train, val) in enumerate(kfold.split(Xtrain, Ytrain)):\n",
    "        counter += 1\n",
    "\n",
    "        train_x, train_y, train_y_oh = Xtrain[train], Ytrain[train], Ytrain_oh[train]\n",
    "        val_x, val_y, val_y_oh = Xtrain[val], Ytrain[val], Ytrain_oh[val]\n",
    "        \n",
    "        model = XGBClassifier(\n",
    "            objective='multi:softmax',\n",
    "            eval_metric='mlogloss',\n",
    "            booster='gbtree',\n",
    "            sample_type='weighted',\n",
    "            tree_method='gpu_hist',\n",
    "            grow_policy='lossguide',\n",
    "            use_label_encoder=False,\n",
    "            num_round=5000,\n",
    "            num_class=4,\n",
    "            #max_depth=10, \n",
    "            max_leaves=85,\n",
    "            learning_rate=0.0982,\n",
    "            subsample=0.876,\n",
    "            colsample_bytree=0.52,\n",
    "            min_child_weight=12,\n",
    "            reg_lambda=0.001515,\n",
    "            verbosity=0\n",
    "        )\n",
    "\n",
    "        model.fit(train_x, train_y, eval_set=[(train_x, train_y), (val_x, val_y)], \n",
    "                  early_stopping_rounds=200, verbose=50)\n",
    "\n",
    "        y_pred = model.predict_proba(val_x, iteration_range=(0, model.best_iteration))\n",
    "        y_pred = np.clip(y_pred, p_min, p_max)\n",
    "        y_pred_meta_xgb[val] += y_pred\n",
    "        y_pred_final_xgb += model.predict_proba(Xtest, iteration_range=(0, model.best_iteration))\n",
    "        \n",
    "        score = log_loss(val_y_oh, y_pred)\n",
    "        oof_score += score\n",
    "        seed_score += score\n",
    "        print(\"Seed-{} | Fold-{} | OOF Score: {}\".format(seed, idx, score))\n",
    "    \n",
    "    print(\"\\nSeed: {} | Aggregate OOF Score: {}\\n\\n\".format(seed, (seed_score / FOLD)))\n",
    "\n",
    "\n",
    "y_pred_meta_xgb = y_pred_meta_xgb / float(NUM_SEED)\n",
    "y_pred_final_xgb = y_pred_final_xgb / float(counter)\n",
    "oof_score /= float(counter)\n",
    "print(\"Aggregate OOF Score: {}\".format(oof_score))"
   ]
  },
  {
   "cell_type": "code",
   "execution_count": 7,
   "id": "ranging-invasion",
   "metadata": {
    "execution": {
     "iopub.execute_input": "2021-05-22T16:44:38.151531Z",
     "iopub.status.busy": "2021-05-22T16:44:38.150739Z",
     "iopub.status.idle": "2021-05-22T16:44:38.279119Z",
     "shell.execute_reply": "2021-05-22T16:44:38.278704Z",
     "shell.execute_reply.started": "2021-05-22T16:36:09.747252Z"
    },
    "papermill": {
     "duration": 0.192988,
     "end_time": "2021-05-22T16:44:38.279238",
     "exception": false,
     "start_time": "2021-05-22T16:44:38.086250",
     "status": "completed"
    },
    "tags": []
   },
   "outputs": [
    {
     "data": {
      "text/plain": [
       "769"
      ]
     },
     "execution_count": 7,
     "metadata": {},
     "output_type": "execute_result"
    }
   ],
   "source": [
    "del model\n",
    "gc.collect()"
   ]
  },
  {
   "cell_type": "code",
   "execution_count": 8,
   "id": "educational-friday",
   "metadata": {
    "execution": {
     "iopub.execute_input": "2021-05-22T16:44:38.406708Z",
     "iopub.status.busy": "2021-05-22T16:44:38.405710Z",
     "iopub.status.idle": "2021-05-22T16:44:38.853600Z",
     "shell.execute_reply": "2021-05-22T16:44:38.853107Z"
    },
    "id": "uLzmS7LzXvXy",
    "papermill": {
     "duration": 0.512854,
     "end_time": "2021-05-22T16:44:38.853737",
     "exception": false,
     "start_time": "2021-05-22T16:44:38.340883",
     "status": "completed"
    },
    "tags": []
   },
   "outputs": [],
   "source": [
    "np.savez_compressed('./XGB_Meta_Features.npz',\n",
    "                    y_pred_meta_xgb=y_pred_meta_xgb, \n",
    "                    oof_score=oof_score,\n",
    "                    y_pred_final_xgb=y_pred_final_xgb)"
   ]
  },
  {
   "cell_type": "markdown",
   "id": "stone-milan",
   "metadata": {
    "id": "nZvoU4TpWxmY",
    "papermill": {
     "duration": 0.061208,
     "end_time": "2021-05-22T16:44:38.976522",
     "exception": false,
     "start_time": "2021-05-22T16:44:38.915314",
     "status": "completed"
    },
    "tags": []
   },
   "source": [
    "## Create submission file"
   ]
  },
  {
   "cell_type": "code",
   "execution_count": 9,
   "id": "digital-pound",
   "metadata": {
    "execution": {
     "iopub.execute_input": "2021-05-22T16:44:39.103134Z",
     "iopub.status.busy": "2021-05-22T16:44:39.102318Z",
     "iopub.status.idle": "2021-05-22T16:44:39.351717Z",
     "shell.execute_reply": "2021-05-22T16:44:39.351266Z"
    },
    "executionInfo": {
     "elapsed": 3141,
     "status": "ok",
     "timestamp": 1616223489651,
     "user": {
      "displayName": "TAPAS DAS",
      "photoUrl": "https://lh3.googleusercontent.com/a-/AOh14GiyffdGKiPCR_UwVittzTcbBFms70IkGfU15fatCA=s64",
      "userId": "10798398878324948542"
     },
     "user_tz": -330
    },
    "id": "zGEGOAJHVoHV",
    "outputId": "11f9ca4c-9cca-46f6-b9a6-907ad0a09927",
    "papermill": {
     "duration": 0.314831,
     "end_time": "2021-05-22T16:44:39.352124",
     "exception": false,
     "start_time": "2021-05-22T16:44:39.037293",
     "status": "completed"
    },
    "tags": []
   },
   "outputs": [
    {
     "data": {
      "text/html": [
       "<div>\n",
       "<style scoped>\n",
       "    .dataframe tbody tr th:only-of-type {\n",
       "        vertical-align: middle;\n",
       "    }\n",
       "\n",
       "    .dataframe tbody tr th {\n",
       "        vertical-align: top;\n",
       "    }\n",
       "\n",
       "    .dataframe thead th {\n",
       "        text-align: right;\n",
       "    }\n",
       "</style>\n",
       "<table border=\"1\" class=\"dataframe\">\n",
       "  <thead>\n",
       "    <tr style=\"text-align: right;\">\n",
       "      <th></th>\n",
       "      <th>id</th>\n",
       "      <th>Class_1</th>\n",
       "      <th>Class_2</th>\n",
       "      <th>Class_3</th>\n",
       "      <th>Class_4</th>\n",
       "    </tr>\n",
       "  </thead>\n",
       "  <tbody>\n",
       "    <tr>\n",
       "      <th>0</th>\n",
       "      <td>100000</td>\n",
       "      <td>0.091022</td>\n",
       "      <td>0.577430</td>\n",
       "      <td>0.203782</td>\n",
       "      <td>0.127766</td>\n",
       "    </tr>\n",
       "    <tr>\n",
       "      <th>1</th>\n",
       "      <td>100001</td>\n",
       "      <td>0.084916</td>\n",
       "      <td>0.670191</td>\n",
       "      <td>0.155296</td>\n",
       "      <td>0.089597</td>\n",
       "    </tr>\n",
       "    <tr>\n",
       "      <th>2</th>\n",
       "      <td>100002</td>\n",
       "      <td>0.086437</td>\n",
       "      <td>0.609066</td>\n",
       "      <td>0.207291</td>\n",
       "      <td>0.097207</td>\n",
       "    </tr>\n",
       "    <tr>\n",
       "      <th>3</th>\n",
       "      <td>100003</td>\n",
       "      <td>0.080750</td>\n",
       "      <td>0.529945</td>\n",
       "      <td>0.270914</td>\n",
       "      <td>0.118391</td>\n",
       "    </tr>\n",
       "    <tr>\n",
       "      <th>4</th>\n",
       "      <td>100004</td>\n",
       "      <td>0.074147</td>\n",
       "      <td>0.638333</td>\n",
       "      <td>0.183757</td>\n",
       "      <td>0.103762</td>\n",
       "    </tr>\n",
       "  </tbody>\n",
       "</table>\n",
       "</div>"
      ],
      "text/plain": [
       "       id   Class_1   Class_2   Class_3   Class_4\n",
       "0  100000  0.091022  0.577430  0.203782  0.127766\n",
       "1  100001  0.084916  0.670191  0.155296  0.089597\n",
       "2  100002  0.086437  0.609066  0.207291  0.097207\n",
       "3  100003  0.080750  0.529945  0.270914  0.118391\n",
       "4  100004  0.074147  0.638333  0.183757  0.103762"
      ]
     },
     "execution_count": 9,
     "metadata": {},
     "output_type": "execute_result"
    }
   ],
   "source": [
    "y_pred_final_xgb = np.clip(y_pred_final_xgb, p_min, p_max)\n",
    "\n",
    "test_df = pd.read_csv(\"../input/tabular-playground-series-may-2021/test.csv\")\n",
    "submit_df = pd.DataFrame()\n",
    "submit_df['id'] = test_df['id']\n",
    "submit_df['Class_1'] = y_pred_final_xgb[:,0]\n",
    "submit_df['Class_2'] = y_pred_final_xgb[:,1]\n",
    "submit_df['Class_3'] = y_pred_final_xgb[:,2]\n",
    "submit_df['Class_4'] = y_pred_final_xgb[:,3]\n",
    "submit_df.head()"
   ]
  },
  {
   "cell_type": "code",
   "execution_count": 10,
   "id": "formal-publication",
   "metadata": {
    "execution": {
     "iopub.execute_input": "2021-05-22T16:44:39.482228Z",
     "iopub.status.busy": "2021-05-22T16:44:39.481585Z",
     "iopub.status.idle": "2021-05-22T16:44:39.957243Z",
     "shell.execute_reply": "2021-05-22T16:44:39.956097Z"
    },
    "id": "KDIsotrKVoJN",
    "papermill": {
     "duration": 0.540776,
     "end_time": "2021-05-22T16:44:39.957392",
     "exception": false,
     "start_time": "2021-05-22T16:44:39.416616",
     "status": "completed"
    },
    "tags": []
   },
   "outputs": [],
   "source": [
    "submit_df.to_csv(\"./XGB_submission.csv\", index=False)"
   ]
  },
  {
   "cell_type": "code",
   "execution_count": null,
   "id": "exterior-tunisia",
   "metadata": {
    "id": "W2c88MvxXm65",
    "papermill": {
     "duration": 0.061478,
     "end_time": "2021-05-22T16:44:40.081588",
     "exception": false,
     "start_time": "2021-05-22T16:44:40.020110",
     "status": "completed"
    },
    "tags": []
   },
   "outputs": [],
   "source": []
  }
 ],
 "metadata": {
  "kernelspec": {
   "display_name": "Python 3",
   "language": "python",
   "name": "python3"
  },
  "language_info": {
   "codemirror_mode": {
    "name": "ipython",
    "version": 3
   },
   "file_extension": ".py",
   "mimetype": "text/x-python",
   "name": "python",
   "nbconvert_exporter": "python",
   "pygments_lexer": "ipython3",
   "version": "3.7.10"
  },
  "papermill": {
   "default_parameters": {},
   "duration": 355.808009,
   "end_time": "2021-05-22T16:44:41.923686",
   "environment_variables": {},
   "exception": null,
   "input_path": "__notebook__.ipynb",
   "output_path": "__notebook__.ipynb",
   "parameters": {},
   "start_time": "2021-05-22T16:38:46.115677",
   "version": "2.3.3"
  }
 },
 "nbformat": 4,
 "nbformat_minor": 5
}
