{
 "cells": [
  {
   "cell_type": "markdown",
   "id": "familiar-flash",
   "metadata": {
    "id": "uLz9OcH8SeET",
    "papermill": {
     "duration": 0.01156,
     "end_time": "2021-05-18T07:34:22.270264",
     "exception": false,
     "start_time": "2021-05-18T07:34:22.258704",
     "status": "completed"
    },
    "tags": []
   },
   "source": [
    "## Import libraries"
   ]
  },
  {
   "cell_type": "code",
   "execution_count": 1,
   "id": "unsigned-teens",
   "metadata": {
    "execution": {
     "iopub.execute_input": "2021-05-18T07:34:22.303204Z",
     "iopub.status.busy": "2021-05-18T07:34:22.302494Z",
     "iopub.status.idle": "2021-05-18T07:34:24.500997Z",
     "shell.execute_reply": "2021-05-18T07:34:24.499709Z"
    },
    "executionInfo": {
     "elapsed": 18546,
     "status": "ok",
     "timestamp": 1616326755679,
     "user": {
      "displayName": "TAPAS DAS",
      "photoUrl": "https://lh3.googleusercontent.com/a-/AOh14GiyffdGKiPCR_UwVittzTcbBFms70IkGfU15fatCA=s64",
      "userId": "10798398878324948542"
     },
     "user_tz": -330
    },
    "id": "E9svswc9SUuX",
    "papermill": {
     "duration": 2.220111,
     "end_time": "2021-05-18T07:34:24.501197",
     "exception": false,
     "start_time": "2021-05-18T07:34:22.281086",
     "status": "completed"
    },
    "tags": []
   },
   "outputs": [
    {
     "data": {
      "text/html": [
       "<style type='text/css'>\n",
       ".datatable table.frame { margin-bottom: 0; }\n",
       ".datatable table.frame thead { border-bottom: none; }\n",
       ".datatable table.frame tr.coltypes td {  color: #FFFFFF;  line-height: 6px;  padding: 0 0.5em;}\n",
       ".datatable .bool    { background: #DDDD99; }\n",
       ".datatable .object  { background: #565656; }\n",
       ".datatable .int     { background: #5D9E5D; }\n",
       ".datatable .float   { background: #4040CC; }\n",
       ".datatable .str     { background: #CC4040; }\n",
       ".datatable .row_index {  background: var(--jp-border-color3);  border-right: 1px solid var(--jp-border-color0);  color: var(--jp-ui-font-color3);  font-size: 9px;}\n",
       ".datatable .frame tr.coltypes .row_index {  background: var(--jp-border-color0);}\n",
       ".datatable th:nth-child(2) { padding-left: 12px; }\n",
       ".datatable .hellipsis {  color: var(--jp-cell-editor-border-color);}\n",
       ".datatable .vellipsis {  background: var(--jp-layout-color0);  color: var(--jp-cell-editor-border-color);}\n",
       ".datatable .na {  color: var(--jp-cell-editor-border-color);  font-size: 80%;}\n",
       ".datatable .footer { font-size: 9px; }\n",
       ".datatable .frame_dimensions {  background: var(--jp-border-color3);  border-top: 1px solid var(--jp-border-color0);  color: var(--jp-ui-font-color3);  display: inline-block;  opacity: 0.6;  padding: 1px 10px 1px 5px;}\n",
       "</style>\n"
      ],
      "text/plain": [
       "<IPython.core.display.HTML object>"
      ]
     },
     "metadata": {},
     "output_type": "display_data"
    }
   ],
   "source": [
    "import gc\n",
    "import pickle\n",
    "import numpy as np\n",
    "import pandas as pd\n",
    "import lightgbm as lgb\n",
    "from sklearn.metrics import log_loss\n",
    "from sklearn.model_selection import StratifiedKFold"
   ]
  },
  {
   "cell_type": "markdown",
   "id": "consecutive-idaho",
   "metadata": {
    "id": "hg85SpW-S6hl",
    "papermill": {
     "duration": 0.011045,
     "end_time": "2021-05-18T07:34:24.524113",
     "exception": false,
     "start_time": "2021-05-18T07:34:24.513068",
     "status": "completed"
    },
    "tags": []
   },
   "source": [
    "## Prepare data for model training"
   ]
  },
  {
   "cell_type": "code",
   "execution_count": 2,
   "id": "lyric-classroom",
   "metadata": {
    "execution": {
     "iopub.execute_input": "2021-05-18T07:34:24.552609Z",
     "iopub.status.busy": "2021-05-18T07:34:24.551957Z",
     "iopub.status.idle": "2021-05-18T07:34:26.097614Z",
     "shell.execute_reply": "2021-05-18T07:34:26.097073Z"
    },
    "executionInfo": {
     "elapsed": 15266,
     "status": "ok",
     "timestamp": 1616326759527,
     "user": {
      "displayName": "TAPAS DAS",
      "photoUrl": "https://lh3.googleusercontent.com/a-/AOh14GiyffdGKiPCR_UwVittzTcbBFms70IkGfU15fatCA=s64",
      "userId": "10798398878324948542"
     },
     "user_tz": -330
    },
    "id": "VdhgoIAmSUxK",
    "outputId": "593389e9-9839-415d-bc72-10af58db79f5",
    "papermill": {
     "duration": 1.562308,
     "end_time": "2021-05-18T07:34:26.097780",
     "exception": false,
     "start_time": "2021-05-18T07:34:24.535472",
     "status": "completed"
    },
    "tags": []
   },
   "outputs": [
    {
     "data": {
      "text/plain": [
       "0"
      ]
     },
     "execution_count": 2,
     "metadata": {},
     "output_type": "execute_result"
    }
   ],
   "source": [
    "with open(\"../input/tps-may-data-preprocess-v5/TPS_May_Dataset.txt\", 'rb') as handle: \n",
    "    data = handle.read()\n",
    "\n",
    "processed_data = pickle.loads(data)\n",
    "train_df = processed_data['train_df']\n",
    "test_df = processed_data['test_df']\n",
    "\n",
    "del processed_data\n",
    "gc.collect()"
   ]
  },
  {
   "cell_type": "code",
   "execution_count": 3,
   "id": "injured-operations",
   "metadata": {
    "execution": {
     "iopub.execute_input": "2021-05-18T07:34:26.139638Z",
     "iopub.status.busy": "2021-05-18T07:34:26.138942Z",
     "iopub.status.idle": "2021-05-18T07:34:26.300929Z",
     "shell.execute_reply": "2021-05-18T07:34:26.300238Z"
    },
    "papermill": {
     "duration": 0.190673,
     "end_time": "2021-05-18T07:34:26.301076",
     "exception": false,
     "start_time": "2021-05-18T07:34:26.110403",
     "status": "completed"
    },
    "tags": []
   },
   "outputs": [
    {
     "name": "stdout",
     "output_type": "stream",
     "text": [
      "[0, 1, 2, 3, 4, 5, 6, 7, 8, 9, 10, 11, 12, 13, 14, 15, 16, 17, 18, 19, 20, 21, 22, 23, 24, 25, 26, 27, 28, 29, 30, 31, 32, 33, 34, 35, 36, 37, 38, 39, 40, 41, 42, 43, 44, 45, 46, 47, 48, 49, 85, 86, 87, 88, 89, 90, 91, 92, 93, 94, 95, 96, 97, 98, 99]\n"
     ]
    }
   ],
   "source": [
    "cat_cols = ['feature_0','feature_1','feature_2','feature_3','feature_4','feature_5','feature_6','feature_7',\n",
    "            'feature_8','feature_9','feature_10','feature_11','feature_12','feature_13','feature_14','feature_15',\n",
    "            'feature_16','feature_17','feature_18','feature_19','feature_20','feature_21','feature_22','feature_23',\n",
    "            'feature_24','feature_25','feature_26','feature_27','feature_28','feature_29','feature_30','feature_31',\n",
    "            'feature_32','feature_33','feature_34','feature_35','feature_36','feature_37','feature_38','feature_39',\n",
    "            'feature_40','feature_41','feature_42','feature_43','feature_44','feature_45','feature_46','feature_47',\n",
    "            'feature_48','feature_49','clusters__0','clusters__1','clusters__2','clusters__3','clusters__4',\n",
    "            'clusters__5','clusters__6','clusters__7','clusters__8','clusters__9','clusters__10','clusters__11',\n",
    "            'clusters__12','clusters__13','clusters__14']\n",
    "\n",
    "train_df[cat_cols] = train_df[cat_cols].astype(int)\n",
    "test_df[cat_cols] = test_df[cat_cols].astype(int)\n",
    "cat_cols_indices = [train_df.columns.get_loc(col) for col in cat_cols]\n",
    "print(cat_cols_indices)"
   ]
  },
  {
   "cell_type": "code",
   "execution_count": 4,
   "id": "essential-heritage",
   "metadata": {
    "execution": {
     "iopub.execute_input": "2021-05-18T07:34:26.333381Z",
     "iopub.status.busy": "2021-05-18T07:34:26.332693Z",
     "iopub.status.idle": "2021-05-18T07:34:26.598198Z",
     "shell.execute_reply": "2021-05-18T07:34:26.597615Z"
    },
    "papermill": {
     "duration": 0.284717,
     "end_time": "2021-05-18T07:34:26.598352",
     "exception": false,
     "start_time": "2021-05-18T07:34:26.313635",
     "status": "completed"
    },
    "tags": []
   },
   "outputs": [
    {
     "name": "stdout",
     "output_type": "stream",
     "text": [
      "Xtrain: (99918, 100) \n",
      "Ytrain: (99918,) \n",
      "Ytrain_oh: (99918, 4) \n",
      "Xtest: (50000, 100)\n"
     ]
    },
    {
     "data": {
      "text/plain": [
       "20"
      ]
     },
     "execution_count": 4,
     "metadata": {},
     "output_type": "execute_result"
    }
   ],
   "source": [
    "Xtrain = train_df.loc[:, train_df.columns != 'target'].values\n",
    "Ytrain = train_df['target'].values\n",
    "Ytrain_oh = pd.get_dummies(train_df['target']).values\n",
    "Xtest = test_df.values\n",
    "\n",
    "print(\"Xtrain: {} \\nYtrain: {} \\nYtrain_oh: {} \\nXtest: {}\".format(Xtrain.shape, Ytrain.shape, \n",
    "                                                                   Ytrain_oh.shape, Xtest.shape))\n",
    "\n",
    "del train_df\n",
    "del test_df\n",
    "gc.collect()"
   ]
  },
  {
   "cell_type": "markdown",
   "id": "relative-present",
   "metadata": {
    "id": "9wNC5rWEVnjd",
    "papermill": {
     "duration": 0.013043,
     "end_time": "2021-05-18T07:34:26.624806",
     "exception": false,
     "start_time": "2021-05-18T07:34:26.611763",
     "status": "completed"
    },
    "tags": []
   },
   "source": [
    "## Build and validate the model"
   ]
  },
  {
   "cell_type": "code",
   "execution_count": 5,
   "id": "comic-national",
   "metadata": {
    "execution": {
     "iopub.execute_input": "2021-05-18T07:34:26.659259Z",
     "iopub.status.busy": "2021-05-18T07:34:26.658468Z",
     "iopub.status.idle": "2021-05-18T07:34:26.662174Z",
     "shell.execute_reply": "2021-05-18T07:34:26.661486Z"
    },
    "executionInfo": {
     "elapsed": 1340,
     "status": "ok",
     "timestamp": 1616326770908,
     "user": {
      "displayName": "TAPAS DAS",
      "photoUrl": "https://lh3.googleusercontent.com/a-/AOh14GiyffdGKiPCR_UwVittzTcbBFms70IkGfU15fatCA=s64",
      "userId": "10798398878324948542"
     },
     "user_tz": -330
    },
    "id": "IhtH9c5va7WY",
    "papermill": {
     "duration": 0.024192,
     "end_time": "2021-05-18T07:34:26.662325",
     "exception": false,
     "start_time": "2021-05-18T07:34:26.638133",
     "status": "completed"
    },
    "tags": []
   },
   "outputs": [],
   "source": [
    "params = {}\n",
    "params[\"objective\"] = 'multiclass'\n",
    "params['metric'] = 'multi_logloss'\n",
    "params['boosting'] = 'gbdt'\n",
    "#params[\"device_type\"] = 'gpu'\n",
    "params['num_class'] = 4\n",
    "params['is_unbalance'] = True\n",
    "params[\"learning_rate\"] = 0.012\n",
    "params[\"lambda_l2\"] = 0.0256\n",
    "params[\"num_leaves\"] = 52\n",
    "#params[\"max_depth\"] = 10\n",
    "params[\"feature_fraction\"] = 0.503\n",
    "params[\"bagging_fraction\"] = 0.6741\n",
    "params[\"bagging_freq\"] = 8\n",
    "params[\"bagging_seed\"] = 10\n",
    "params[\"min_data_in_leaf\"] = 10\n",
    "params[\"verbosity\"] = -1\n",
    "num_rounds = 5000"
   ]
  },
  {
   "cell_type": "code",
   "execution_count": 6,
   "id": "opposed-equivalent",
   "metadata": {
    "execution": {
     "iopub.execute_input": "2021-05-18T07:34:26.694512Z",
     "iopub.status.busy": "2021-05-18T07:34:26.693390Z",
     "iopub.status.idle": "2021-05-18T08:14:12.932327Z",
     "shell.execute_reply": "2021-05-18T08:14:12.932982Z"
    },
    "executionInfo": {
     "elapsed": 226745,
     "status": "error",
     "timestamp": 1616326997825,
     "user": {
      "displayName": "TAPAS DAS",
      "photoUrl": "https://lh3.googleusercontent.com/a-/AOh14GiyffdGKiPCR_UwVittzTcbBFms70IkGfU15fatCA=s64",
      "userId": "10798398878324948542"
     },
     "user_tz": -330
    },
    "id": "uWPosEORSVBp",
    "outputId": "ecad76e6-e82d-4e4a-ef18-937bc0235495",
    "papermill": {
     "duration": 2386.256986,
     "end_time": "2021-05-18T08:14:12.933190",
     "exception": false,
     "start_time": "2021-05-18T07:34:26.676204",
     "status": "completed"
    },
    "tags": []
   },
   "outputs": [
    {
     "name": "stderr",
     "output_type": "stream",
     "text": [
      "/opt/conda/lib/python3.7/site-packages/lightgbm/basic.py:1706: UserWarning: categorical_feature in Dataset is overridden.\n",
      "New categorical_feature is [0, 1, 2, 3, 4, 5, 6, 7, 8, 9, 10, 11, 12, 13, 14, 15, 16, 17, 18, 19, 20, 21, 22, 23, 24, 25, 26, 27, 28, 29, 30, 31, 32, 33, 34, 35, 36, 37, 38, 39, 40, 41, 42, 43, 44, 45, 46, 47, 48, 49, 85, 86, 87, 88, 89, 90, 91, 92, 93, 94, 95, 96, 97, 98, 99]\n",
      "  'New categorical_feature is {}'.format(sorted(list(categorical_feature))))\n",
      "/opt/conda/lib/python3.7/site-packages/lightgbm/basic.py:1433: UserWarning: Overriding the parameters from Reference Dataset.\n",
      "  _log_warning('Overriding the parameters from Reference Dataset.')\n",
      "/opt/conda/lib/python3.7/site-packages/lightgbm/basic.py:1245: UserWarning: categorical_column in param dict is overridden.\n",
      "  _log_warning('{} in param dict is overridden.'.format(cat_alias))\n"
     ]
    },
    {
     "name": "stdout",
     "output_type": "stream",
     "text": [
      "Training until validation scores don't improve for 200 rounds\n",
      "[100]\ttraining's multi_logloss: 1.07624\tvalid_1's multi_logloss: 1.10298\n",
      "[200]\ttraining's multi_logloss: 1.04579\tvalid_1's multi_logloss: 1.09702\n",
      "[300]\ttraining's multi_logloss: 1.02031\tvalid_1's multi_logloss: 1.09448\n",
      "[400]\ttraining's multi_logloss: 0.997913\tvalid_1's multi_logloss: 1.09379\n",
      "[500]\ttraining's multi_logloss: 0.977758\tvalid_1's multi_logloss: 1.0936\n",
      "[600]\ttraining's multi_logloss: 0.958772\tvalid_1's multi_logloss: 1.09398\n",
      "[700]\ttraining's multi_logloss: 0.940914\tvalid_1's multi_logloss: 1.09466\n",
      "Early stopping, best iteration is:\n",
      "[508]\ttraining's multi_logloss: 0.976205\tvalid_1's multi_logloss: 1.09351\n",
      "Seed-85 | Fold-0 | OOF Score: 1.0935144558843868\n"
     ]
    },
    {
     "name": "stderr",
     "output_type": "stream",
     "text": [
      "/opt/conda/lib/python3.7/site-packages/lightgbm/basic.py:1706: UserWarning: categorical_feature in Dataset is overridden.\n",
      "New categorical_feature is [0, 1, 2, 3, 4, 5, 6, 7, 8, 9, 10, 11, 12, 13, 14, 15, 16, 17, 18, 19, 20, 21, 22, 23, 24, 25, 26, 27, 28, 29, 30, 31, 32, 33, 34, 35, 36, 37, 38, 39, 40, 41, 42, 43, 44, 45, 46, 47, 48, 49, 85, 86, 87, 88, 89, 90, 91, 92, 93, 94, 95, 96, 97, 98, 99]\n",
      "  'New categorical_feature is {}'.format(sorted(list(categorical_feature))))\n",
      "/opt/conda/lib/python3.7/site-packages/lightgbm/basic.py:1433: UserWarning: Overriding the parameters from Reference Dataset.\n",
      "  _log_warning('Overriding the parameters from Reference Dataset.')\n",
      "/opt/conda/lib/python3.7/site-packages/lightgbm/basic.py:1245: UserWarning: categorical_column in param dict is overridden.\n",
      "  _log_warning('{} in param dict is overridden.'.format(cat_alias))\n"
     ]
    },
    {
     "name": "stdout",
     "output_type": "stream",
     "text": [
      "Training until validation scores don't improve for 200 rounds\n",
      "[100]\ttraining's multi_logloss: 1.07661\tvalid_1's multi_logloss: 1.10196\n",
      "[200]\ttraining's multi_logloss: 1.04632\tvalid_1's multi_logloss: 1.09517\n",
      "[300]\ttraining's multi_logloss: 1.02105\tvalid_1's multi_logloss: 1.0921\n",
      "[400]\ttraining's multi_logloss: 0.998635\tvalid_1's multi_logloss: 1.09087\n",
      "[500]\ttraining's multi_logloss: 0.978247\tvalid_1's multi_logloss: 1.09057\n",
      "[600]\ttraining's multi_logloss: 0.959476\tvalid_1's multi_logloss: 1.0907\n",
      "[700]\ttraining's multi_logloss: 0.941556\tvalid_1's multi_logloss: 1.09083\n",
      "Early stopping, best iteration is:\n",
      "[515]\ttraining's multi_logloss: 0.975413\tvalid_1's multi_logloss: 1.09044\n",
      "Seed-85 | Fold-1 | OOF Score: 1.0904386618211377\n"
     ]
    },
    {
     "name": "stderr",
     "output_type": "stream",
     "text": [
      "/opt/conda/lib/python3.7/site-packages/lightgbm/basic.py:1706: UserWarning: categorical_feature in Dataset is overridden.\n",
      "New categorical_feature is [0, 1, 2, 3, 4, 5, 6, 7, 8, 9, 10, 11, 12, 13, 14, 15, 16, 17, 18, 19, 20, 21, 22, 23, 24, 25, 26, 27, 28, 29, 30, 31, 32, 33, 34, 35, 36, 37, 38, 39, 40, 41, 42, 43, 44, 45, 46, 47, 48, 49, 85, 86, 87, 88, 89, 90, 91, 92, 93, 94, 95, 96, 97, 98, 99]\n",
      "  'New categorical_feature is {}'.format(sorted(list(categorical_feature))))\n",
      "/opt/conda/lib/python3.7/site-packages/lightgbm/basic.py:1433: UserWarning: Overriding the parameters from Reference Dataset.\n",
      "  _log_warning('Overriding the parameters from Reference Dataset.')\n",
      "/opt/conda/lib/python3.7/site-packages/lightgbm/basic.py:1245: UserWarning: categorical_column in param dict is overridden.\n",
      "  _log_warning('{} in param dict is overridden.'.format(cat_alias))\n"
     ]
    },
    {
     "name": "stdout",
     "output_type": "stream",
     "text": [
      "Training until validation scores don't improve for 200 rounds\n",
      "[100]\ttraining's multi_logloss: 1.07643\tvalid_1's multi_logloss: 1.10264\n",
      "[200]\ttraining's multi_logloss: 1.04603\tvalid_1's multi_logloss: 1.09646\n",
      "[300]\ttraining's multi_logloss: 1.02062\tvalid_1's multi_logloss: 1.09386\n",
      "[400]\ttraining's multi_logloss: 0.998232\tvalid_1's multi_logloss: 1.09325\n",
      "[500]\ttraining's multi_logloss: 0.977843\tvalid_1's multi_logloss: 1.09342\n",
      "[600]\ttraining's multi_logloss: 0.959001\tvalid_1's multi_logloss: 1.09381\n",
      "Early stopping, best iteration is:\n",
      "[404]\ttraining's multi_logloss: 0.997374\tvalid_1's multi_logloss: 1.09322\n",
      "Seed-85 | Fold-2 | OOF Score: 1.0932180332483243\n"
     ]
    },
    {
     "name": "stderr",
     "output_type": "stream",
     "text": [
      "/opt/conda/lib/python3.7/site-packages/lightgbm/basic.py:1706: UserWarning: categorical_feature in Dataset is overridden.\n",
      "New categorical_feature is [0, 1, 2, 3, 4, 5, 6, 7, 8, 9, 10, 11, 12, 13, 14, 15, 16, 17, 18, 19, 20, 21, 22, 23, 24, 25, 26, 27, 28, 29, 30, 31, 32, 33, 34, 35, 36, 37, 38, 39, 40, 41, 42, 43, 44, 45, 46, 47, 48, 49, 85, 86, 87, 88, 89, 90, 91, 92, 93, 94, 95, 96, 97, 98, 99]\n",
      "  'New categorical_feature is {}'.format(sorted(list(categorical_feature))))\n",
      "/opt/conda/lib/python3.7/site-packages/lightgbm/basic.py:1433: UserWarning: Overriding the parameters from Reference Dataset.\n",
      "  _log_warning('Overriding the parameters from Reference Dataset.')\n",
      "/opt/conda/lib/python3.7/site-packages/lightgbm/basic.py:1245: UserWarning: categorical_column in param dict is overridden.\n",
      "  _log_warning('{} in param dict is overridden.'.format(cat_alias))\n"
     ]
    },
    {
     "name": "stdout",
     "output_type": "stream",
     "text": [
      "Training until validation scores don't improve for 200 rounds\n",
      "[100]\ttraining's multi_logloss: 1.07647\tvalid_1's multi_logloss: 1.1023\n",
      "[200]\ttraining's multi_logloss: 1.04627\tvalid_1's multi_logloss: 1.09634\n",
      "[300]\ttraining's multi_logloss: 1.02093\tvalid_1's multi_logloss: 1.09376\n",
      "[400]\ttraining's multi_logloss: 0.9986\tvalid_1's multi_logloss: 1.09287\n",
      "[500]\ttraining's multi_logloss: 0.97807\tvalid_1's multi_logloss: 1.09305\n",
      "[600]\ttraining's multi_logloss: 0.958972\tvalid_1's multi_logloss: 1.09342\n",
      "Early stopping, best iteration is:\n",
      "[419]\ttraining's multi_logloss: 0.994612\tvalid_1's multi_logloss: 1.09267\n",
      "Seed-85 | Fold-3 | OOF Score: 1.0926702662184122\n"
     ]
    },
    {
     "name": "stderr",
     "output_type": "stream",
     "text": [
      "/opt/conda/lib/python3.7/site-packages/lightgbm/basic.py:1706: UserWarning: categorical_feature in Dataset is overridden.\n",
      "New categorical_feature is [0, 1, 2, 3, 4, 5, 6, 7, 8, 9, 10, 11, 12, 13, 14, 15, 16, 17, 18, 19, 20, 21, 22, 23, 24, 25, 26, 27, 28, 29, 30, 31, 32, 33, 34, 35, 36, 37, 38, 39, 40, 41, 42, 43, 44, 45, 46, 47, 48, 49, 85, 86, 87, 88, 89, 90, 91, 92, 93, 94, 95, 96, 97, 98, 99]\n",
      "  'New categorical_feature is {}'.format(sorted(list(categorical_feature))))\n",
      "/opt/conda/lib/python3.7/site-packages/lightgbm/basic.py:1433: UserWarning: Overriding the parameters from Reference Dataset.\n",
      "  _log_warning('Overriding the parameters from Reference Dataset.')\n",
      "/opt/conda/lib/python3.7/site-packages/lightgbm/basic.py:1245: UserWarning: categorical_column in param dict is overridden.\n",
      "  _log_warning('{} in param dict is overridden.'.format(cat_alias))\n"
     ]
    },
    {
     "name": "stdout",
     "output_type": "stream",
     "text": [
      "Training until validation scores don't improve for 200 rounds\n",
      "[100]\ttraining's multi_logloss: 1.07646\tvalid_1's multi_logloss: 1.10297\n",
      "[200]\ttraining's multi_logloss: 1.04589\tvalid_1's multi_logloss: 1.09676\n",
      "[300]\ttraining's multi_logloss: 1.02034\tvalid_1's multi_logloss: 1.09432\n",
      "[400]\ttraining's multi_logloss: 0.998127\tvalid_1's multi_logloss: 1.0933\n",
      "[500]\ttraining's multi_logloss: 0.977514\tvalid_1's multi_logloss: 1.09294\n",
      "[600]\ttraining's multi_logloss: 0.958609\tvalid_1's multi_logloss: 1.09318\n",
      "[700]\ttraining's multi_logloss: 0.940887\tvalid_1's multi_logloss: 1.09357\n",
      "Early stopping, best iteration is:\n",
      "[508]\ttraining's multi_logloss: 0.975946\tvalid_1's multi_logloss: 1.09286\n",
      "Seed-85 | Fold-4 | OOF Score: 1.0928621990652652\n"
     ]
    },
    {
     "name": "stderr",
     "output_type": "stream",
     "text": [
      "/opt/conda/lib/python3.7/site-packages/lightgbm/basic.py:1706: UserWarning: categorical_feature in Dataset is overridden.\n",
      "New categorical_feature is [0, 1, 2, 3, 4, 5, 6, 7, 8, 9, 10, 11, 12, 13, 14, 15, 16, 17, 18, 19, 20, 21, 22, 23, 24, 25, 26, 27, 28, 29, 30, 31, 32, 33, 34, 35, 36, 37, 38, 39, 40, 41, 42, 43, 44, 45, 46, 47, 48, 49, 85, 86, 87, 88, 89, 90, 91, 92, 93, 94, 95, 96, 97, 98, 99]\n",
      "  'New categorical_feature is {}'.format(sorted(list(categorical_feature))))\n",
      "/opt/conda/lib/python3.7/site-packages/lightgbm/basic.py:1433: UserWarning: Overriding the parameters from Reference Dataset.\n",
      "  _log_warning('Overriding the parameters from Reference Dataset.')\n",
      "/opt/conda/lib/python3.7/site-packages/lightgbm/basic.py:1245: UserWarning: categorical_column in param dict is overridden.\n",
      "  _log_warning('{} in param dict is overridden.'.format(cat_alias))\n"
     ]
    },
    {
     "name": "stdout",
     "output_type": "stream",
     "text": [
      "Training until validation scores don't improve for 200 rounds\n",
      "[100]\ttraining's multi_logloss: 1.07618\tvalid_1's multi_logloss: 1.10292\n",
      "[200]\ttraining's multi_logloss: 1.04584\tvalid_1's multi_logloss: 1.09744\n",
      "[300]\ttraining's multi_logloss: 1.02044\tvalid_1's multi_logloss: 1.09562\n",
      "[400]\ttraining's multi_logloss: 0.99805\tvalid_1's multi_logloss: 1.09506\n",
      "[500]\ttraining's multi_logloss: 0.977665\tvalid_1's multi_logloss: 1.09554\n",
      "Early stopping, best iteration is:\n",
      "[398]\ttraining's multi_logloss: 0.998467\tvalid_1's multi_logloss: 1.09503\n",
      "Seed-85 | Fold-5 | OOF Score: 1.0950292143723788\n"
     ]
    },
    {
     "name": "stderr",
     "output_type": "stream",
     "text": [
      "/opt/conda/lib/python3.7/site-packages/lightgbm/basic.py:1706: UserWarning: categorical_feature in Dataset is overridden.\n",
      "New categorical_feature is [0, 1, 2, 3, 4, 5, 6, 7, 8, 9, 10, 11, 12, 13, 14, 15, 16, 17, 18, 19, 20, 21, 22, 23, 24, 25, 26, 27, 28, 29, 30, 31, 32, 33, 34, 35, 36, 37, 38, 39, 40, 41, 42, 43, 44, 45, 46, 47, 48, 49, 85, 86, 87, 88, 89, 90, 91, 92, 93, 94, 95, 96, 97, 98, 99]\n",
      "  'New categorical_feature is {}'.format(sorted(list(categorical_feature))))\n",
      "/opt/conda/lib/python3.7/site-packages/lightgbm/basic.py:1433: UserWarning: Overriding the parameters from Reference Dataset.\n",
      "  _log_warning('Overriding the parameters from Reference Dataset.')\n",
      "/opt/conda/lib/python3.7/site-packages/lightgbm/basic.py:1245: UserWarning: categorical_column in param dict is overridden.\n",
      "  _log_warning('{} in param dict is overridden.'.format(cat_alias))\n"
     ]
    },
    {
     "name": "stdout",
     "output_type": "stream",
     "text": [
      "Training until validation scores don't improve for 200 rounds\n",
      "[100]\ttraining's multi_logloss: 1.07652\tvalid_1's multi_logloss: 1.10257\n",
      "[200]\ttraining's multi_logloss: 1.0461\tvalid_1's multi_logloss: 1.09579\n",
      "[300]\ttraining's multi_logloss: 1.02078\tvalid_1's multi_logloss: 1.09294\n",
      "[400]\ttraining's multi_logloss: 0.998424\tvalid_1's multi_logloss: 1.09166\n",
      "[500]\ttraining's multi_logloss: 0.978206\tvalid_1's multi_logloss: 1.09136\n",
      "[600]\ttraining's multi_logloss: 0.959352\tvalid_1's multi_logloss: 1.09138\n",
      "[700]\ttraining's multi_logloss: 0.941432\tvalid_1's multi_logloss: 1.09177\n",
      "Early stopping, best iteration is:\n",
      "[561]\ttraining's multi_logloss: 0.966585\tvalid_1's multi_logloss: 1.09117\n",
      "Seed-85 | Fold-6 | OOF Score: 1.0911695013043232\n"
     ]
    },
    {
     "name": "stderr",
     "output_type": "stream",
     "text": [
      "/opt/conda/lib/python3.7/site-packages/lightgbm/basic.py:1706: UserWarning: categorical_feature in Dataset is overridden.\n",
      "New categorical_feature is [0, 1, 2, 3, 4, 5, 6, 7, 8, 9, 10, 11, 12, 13, 14, 15, 16, 17, 18, 19, 20, 21, 22, 23, 24, 25, 26, 27, 28, 29, 30, 31, 32, 33, 34, 35, 36, 37, 38, 39, 40, 41, 42, 43, 44, 45, 46, 47, 48, 49, 85, 86, 87, 88, 89, 90, 91, 92, 93, 94, 95, 96, 97, 98, 99]\n",
      "  'New categorical_feature is {}'.format(sorted(list(categorical_feature))))\n",
      "/opt/conda/lib/python3.7/site-packages/lightgbm/basic.py:1433: UserWarning: Overriding the parameters from Reference Dataset.\n",
      "  _log_warning('Overriding the parameters from Reference Dataset.')\n",
      "/opt/conda/lib/python3.7/site-packages/lightgbm/basic.py:1245: UserWarning: categorical_column in param dict is overridden.\n",
      "  _log_warning('{} in param dict is overridden.'.format(cat_alias))\n"
     ]
    },
    {
     "name": "stdout",
     "output_type": "stream",
     "text": [
      "Training until validation scores don't improve for 200 rounds\n",
      "[100]\ttraining's multi_logloss: 1.07631\tvalid_1's multi_logloss: 1.10427\n",
      "[200]\ttraining's multi_logloss: 1.04597\tvalid_1's multi_logloss: 1.0987\n",
      "[300]\ttraining's multi_logloss: 1.02065\tvalid_1's multi_logloss: 1.096\n",
      "[400]\ttraining's multi_logloss: 0.998468\tvalid_1's multi_logloss: 1.09505\n",
      "[500]\ttraining's multi_logloss: 0.978133\tvalid_1's multi_logloss: 1.09501\n",
      "[600]\ttraining's multi_logloss: 0.959249\tvalid_1's multi_logloss: 1.09537\n",
      "Early stopping, best iteration is:\n",
      "[427]\ttraining's multi_logloss: 0.992763\tvalid_1's multi_logloss: 1.09486\n",
      "Seed-85 | Fold-7 | OOF Score: 1.0948591630577384\n"
     ]
    },
    {
     "name": "stderr",
     "output_type": "stream",
     "text": [
      "/opt/conda/lib/python3.7/site-packages/lightgbm/basic.py:1706: UserWarning: categorical_feature in Dataset is overridden.\n",
      "New categorical_feature is [0, 1, 2, 3, 4, 5, 6, 7, 8, 9, 10, 11, 12, 13, 14, 15, 16, 17, 18, 19, 20, 21, 22, 23, 24, 25, 26, 27, 28, 29, 30, 31, 32, 33, 34, 35, 36, 37, 38, 39, 40, 41, 42, 43, 44, 45, 46, 47, 48, 49, 85, 86, 87, 88, 89, 90, 91, 92, 93, 94, 95, 96, 97, 98, 99]\n",
      "  'New categorical_feature is {}'.format(sorted(list(categorical_feature))))\n",
      "/opt/conda/lib/python3.7/site-packages/lightgbm/basic.py:1433: UserWarning: Overriding the parameters from Reference Dataset.\n",
      "  _log_warning('Overriding the parameters from Reference Dataset.')\n",
      "/opt/conda/lib/python3.7/site-packages/lightgbm/basic.py:1245: UserWarning: categorical_column in param dict is overridden.\n",
      "  _log_warning('{} in param dict is overridden.'.format(cat_alias))\n"
     ]
    },
    {
     "name": "stdout",
     "output_type": "stream",
     "text": [
      "Training until validation scores don't improve for 200 rounds\n",
      "[100]\ttraining's multi_logloss: 1.07643\tvalid_1's multi_logloss: 1.10348\n",
      "[200]\ttraining's multi_logloss: 1.04604\tvalid_1's multi_logloss: 1.09703\n",
      "[300]\ttraining's multi_logloss: 1.02077\tvalid_1's multi_logloss: 1.0941\n",
      "[400]\ttraining's multi_logloss: 0.998288\tvalid_1's multi_logloss: 1.09298\n",
      "[500]\ttraining's multi_logloss: 0.97797\tvalid_1's multi_logloss: 1.09306\n",
      "[600]\ttraining's multi_logloss: 0.959042\tvalid_1's multi_logloss: 1.09319\n",
      "Early stopping, best iteration is:\n",
      "[460]\ttraining's multi_logloss: 0.985918\tvalid_1's multi_logloss: 1.09294\n",
      "Seed-85 | Fold-8 | OOF Score: 1.0929434805772738\n"
     ]
    },
    {
     "name": "stderr",
     "output_type": "stream",
     "text": [
      "/opt/conda/lib/python3.7/site-packages/lightgbm/basic.py:1706: UserWarning: categorical_feature in Dataset is overridden.\n",
      "New categorical_feature is [0, 1, 2, 3, 4, 5, 6, 7, 8, 9, 10, 11, 12, 13, 14, 15, 16, 17, 18, 19, 20, 21, 22, 23, 24, 25, 26, 27, 28, 29, 30, 31, 32, 33, 34, 35, 36, 37, 38, 39, 40, 41, 42, 43, 44, 45, 46, 47, 48, 49, 85, 86, 87, 88, 89, 90, 91, 92, 93, 94, 95, 96, 97, 98, 99]\n",
      "  'New categorical_feature is {}'.format(sorted(list(categorical_feature))))\n",
      "/opt/conda/lib/python3.7/site-packages/lightgbm/basic.py:1433: UserWarning: Overriding the parameters from Reference Dataset.\n",
      "  _log_warning('Overriding the parameters from Reference Dataset.')\n",
      "/opt/conda/lib/python3.7/site-packages/lightgbm/basic.py:1245: UserWarning: categorical_column in param dict is overridden.\n",
      "  _log_warning('{} in param dict is overridden.'.format(cat_alias))\n"
     ]
    },
    {
     "name": "stdout",
     "output_type": "stream",
     "text": [
      "Training until validation scores don't improve for 200 rounds\n",
      "[100]\ttraining's multi_logloss: 1.07651\tvalid_1's multi_logloss: 1.10279\n",
      "[200]\ttraining's multi_logloss: 1.04613\tvalid_1's multi_logloss: 1.09662\n",
      "[300]\ttraining's multi_logloss: 1.02076\tvalid_1's multi_logloss: 1.09391\n",
      "[400]\ttraining's multi_logloss: 0.998501\tvalid_1's multi_logloss: 1.09288\n",
      "[500]\ttraining's multi_logloss: 0.977994\tvalid_1's multi_logloss: 1.09261\n",
      "[600]\ttraining's multi_logloss: 0.959057\tvalid_1's multi_logloss: 1.09297\n",
      "Early stopping, best iteration is:\n",
      "[481]\ttraining's multi_logloss: 0.981746\tvalid_1's multi_logloss: 1.09255\n",
      "Seed-85 | Fold-9 | OOF Score: 1.0925513971592886\n",
      "\n",
      "Seed: 85 | Aggregate OOF Score: 1.092925637270853\n",
      "\n",
      "\n"
     ]
    },
    {
     "name": "stderr",
     "output_type": "stream",
     "text": [
      "/opt/conda/lib/python3.7/site-packages/lightgbm/basic.py:1706: UserWarning: categorical_feature in Dataset is overridden.\n",
      "New categorical_feature is [0, 1, 2, 3, 4, 5, 6, 7, 8, 9, 10, 11, 12, 13, 14, 15, 16, 17, 18, 19, 20, 21, 22, 23, 24, 25, 26, 27, 28, 29, 30, 31, 32, 33, 34, 35, 36, 37, 38, 39, 40, 41, 42, 43, 44, 45, 46, 47, 48, 49, 85, 86, 87, 88, 89, 90, 91, 92, 93, 94, 95, 96, 97, 98, 99]\n",
      "  'New categorical_feature is {}'.format(sorted(list(categorical_feature))))\n",
      "/opt/conda/lib/python3.7/site-packages/lightgbm/basic.py:1433: UserWarning: Overriding the parameters from Reference Dataset.\n",
      "  _log_warning('Overriding the parameters from Reference Dataset.')\n",
      "/opt/conda/lib/python3.7/site-packages/lightgbm/basic.py:1245: UserWarning: categorical_column in param dict is overridden.\n",
      "  _log_warning('{} in param dict is overridden.'.format(cat_alias))\n"
     ]
    },
    {
     "name": "stdout",
     "output_type": "stream",
     "text": [
      "Training until validation scores don't improve for 200 rounds\n",
      "[100]\ttraining's multi_logloss: 1.07649\tvalid_1's multi_logloss: 1.10246\n",
      "[200]\ttraining's multi_logloss: 1.04603\tvalid_1's multi_logloss: 1.09565\n",
      "[300]\ttraining's multi_logloss: 1.02058\tvalid_1's multi_logloss: 1.09269\n",
      "[400]\ttraining's multi_logloss: 0.998401\tvalid_1's multi_logloss: 1.0913\n",
      "[500]\ttraining's multi_logloss: 0.978057\tvalid_1's multi_logloss: 1.09092\n",
      "[600]\ttraining's multi_logloss: 0.959214\tvalid_1's multi_logloss: 1.09116\n",
      "[700]\ttraining's multi_logloss: 0.941341\tvalid_1's multi_logloss: 1.09166\n",
      "Early stopping, best iteration is:\n",
      "[505]\ttraining's multi_logloss: 0.977111\tvalid_1's multi_logloss: 1.0909\n",
      "Seed-57 | Fold-0 | OOF Score: 1.090904142004507\n"
     ]
    },
    {
     "name": "stderr",
     "output_type": "stream",
     "text": [
      "/opt/conda/lib/python3.7/site-packages/lightgbm/basic.py:1706: UserWarning: categorical_feature in Dataset is overridden.\n",
      "New categorical_feature is [0, 1, 2, 3, 4, 5, 6, 7, 8, 9, 10, 11, 12, 13, 14, 15, 16, 17, 18, 19, 20, 21, 22, 23, 24, 25, 26, 27, 28, 29, 30, 31, 32, 33, 34, 35, 36, 37, 38, 39, 40, 41, 42, 43, 44, 45, 46, 47, 48, 49, 85, 86, 87, 88, 89, 90, 91, 92, 93, 94, 95, 96, 97, 98, 99]\n",
      "  'New categorical_feature is {}'.format(sorted(list(categorical_feature))))\n",
      "/opt/conda/lib/python3.7/site-packages/lightgbm/basic.py:1433: UserWarning: Overriding the parameters from Reference Dataset.\n",
      "  _log_warning('Overriding the parameters from Reference Dataset.')\n",
      "/opt/conda/lib/python3.7/site-packages/lightgbm/basic.py:1245: UserWarning: categorical_column in param dict is overridden.\n",
      "  _log_warning('{} in param dict is overridden.'.format(cat_alias))\n"
     ]
    },
    {
     "name": "stdout",
     "output_type": "stream",
     "text": [
      "Training until validation scores don't improve for 200 rounds\n",
      "[100]\ttraining's multi_logloss: 1.07663\tvalid_1's multi_logloss: 1.10161\n",
      "[200]\ttraining's multi_logloss: 1.04633\tvalid_1's multi_logloss: 1.09502\n",
      "[300]\ttraining's multi_logloss: 1.02101\tvalid_1's multi_logloss: 1.09259\n",
      "[400]\ttraining's multi_logloss: 0.998722\tvalid_1's multi_logloss: 1.09138\n",
      "[500]\ttraining's multi_logloss: 0.978446\tvalid_1's multi_logloss: 1.09115\n",
      "[600]\ttraining's multi_logloss: 0.959351\tvalid_1's multi_logloss: 1.09123\n",
      "Early stopping, best iteration is:\n",
      "[491]\ttraining's multi_logloss: 0.980209\tvalid_1's multi_logloss: 1.09105\n",
      "Seed-57 | Fold-1 | OOF Score: 1.0910510397628024\n"
     ]
    },
    {
     "name": "stderr",
     "output_type": "stream",
     "text": [
      "/opt/conda/lib/python3.7/site-packages/lightgbm/basic.py:1706: UserWarning: categorical_feature in Dataset is overridden.\n",
      "New categorical_feature is [0, 1, 2, 3, 4, 5, 6, 7, 8, 9, 10, 11, 12, 13, 14, 15, 16, 17, 18, 19, 20, 21, 22, 23, 24, 25, 26, 27, 28, 29, 30, 31, 32, 33, 34, 35, 36, 37, 38, 39, 40, 41, 42, 43, 44, 45, 46, 47, 48, 49, 85, 86, 87, 88, 89, 90, 91, 92, 93, 94, 95, 96, 97, 98, 99]\n",
      "  'New categorical_feature is {}'.format(sorted(list(categorical_feature))))\n",
      "/opt/conda/lib/python3.7/site-packages/lightgbm/basic.py:1433: UserWarning: Overriding the parameters from Reference Dataset.\n",
      "  _log_warning('Overriding the parameters from Reference Dataset.')\n",
      "/opt/conda/lib/python3.7/site-packages/lightgbm/basic.py:1245: UserWarning: categorical_column in param dict is overridden.\n",
      "  _log_warning('{} in param dict is overridden.'.format(cat_alias))\n"
     ]
    },
    {
     "name": "stdout",
     "output_type": "stream",
     "text": [
      "Training until validation scores don't improve for 200 rounds\n",
      "[100]\ttraining's multi_logloss: 1.07637\tvalid_1's multi_logloss: 1.10245\n",
      "[200]\ttraining's multi_logloss: 1.046\tvalid_1's multi_logloss: 1.096\n",
      "[300]\ttraining's multi_logloss: 1.02056\tvalid_1's multi_logloss: 1.09346\n",
      "[400]\ttraining's multi_logloss: 0.998105\tvalid_1's multi_logloss: 1.09303\n",
      "[500]\ttraining's multi_logloss: 0.977664\tvalid_1's multi_logloss: 1.09308\n",
      "[600]\ttraining's multi_logloss: 0.958824\tvalid_1's multi_logloss: 1.09359\n",
      "Early stopping, best iteration is:\n",
      "[465]\ttraining's multi_logloss: 0.984677\tvalid_1's multi_logloss: 1.09281\n",
      "Seed-57 | Fold-2 | OOF Score: 1.0928145315676747\n"
     ]
    },
    {
     "name": "stderr",
     "output_type": "stream",
     "text": [
      "/opt/conda/lib/python3.7/site-packages/lightgbm/basic.py:1706: UserWarning: categorical_feature in Dataset is overridden.\n",
      "New categorical_feature is [0, 1, 2, 3, 4, 5, 6, 7, 8, 9, 10, 11, 12, 13, 14, 15, 16, 17, 18, 19, 20, 21, 22, 23, 24, 25, 26, 27, 28, 29, 30, 31, 32, 33, 34, 35, 36, 37, 38, 39, 40, 41, 42, 43, 44, 45, 46, 47, 48, 49, 85, 86, 87, 88, 89, 90, 91, 92, 93, 94, 95, 96, 97, 98, 99]\n",
      "  'New categorical_feature is {}'.format(sorted(list(categorical_feature))))\n",
      "/opt/conda/lib/python3.7/site-packages/lightgbm/basic.py:1433: UserWarning: Overriding the parameters from Reference Dataset.\n",
      "  _log_warning('Overriding the parameters from Reference Dataset.')\n",
      "/opt/conda/lib/python3.7/site-packages/lightgbm/basic.py:1245: UserWarning: categorical_column in param dict is overridden.\n",
      "  _log_warning('{} in param dict is overridden.'.format(cat_alias))\n"
     ]
    },
    {
     "name": "stdout",
     "output_type": "stream",
     "text": [
      "Training until validation scores don't improve for 200 rounds\n",
      "[100]\ttraining's multi_logloss: 1.07644\tvalid_1's multi_logloss: 1.10266\n",
      "[200]\ttraining's multi_logloss: 1.04611\tvalid_1's multi_logloss: 1.09657\n",
      "[300]\ttraining's multi_logloss: 1.0208\tvalid_1's multi_logloss: 1.09405\n",
      "[400]\ttraining's multi_logloss: 0.99839\tvalid_1's multi_logloss: 1.09274\n",
      "[500]\ttraining's multi_logloss: 0.977916\tvalid_1's multi_logloss: 1.09276\n",
      "[600]\ttraining's multi_logloss: 0.959094\tvalid_1's multi_logloss: 1.09268\n",
      "[700]\ttraining's multi_logloss: 0.941174\tvalid_1's multi_logloss: 1.09287\n",
      "Early stopping, best iteration is:\n",
      "[557]\ttraining's multi_logloss: 0.967116\tvalid_1's multi_logloss: 1.09256\n",
      "Seed-57 | Fold-3 | OOF Score: 1.0925576078983157\n"
     ]
    },
    {
     "name": "stderr",
     "output_type": "stream",
     "text": [
      "/opt/conda/lib/python3.7/site-packages/lightgbm/basic.py:1706: UserWarning: categorical_feature in Dataset is overridden.\n",
      "New categorical_feature is [0, 1, 2, 3, 4, 5, 6, 7, 8, 9, 10, 11, 12, 13, 14, 15, 16, 17, 18, 19, 20, 21, 22, 23, 24, 25, 26, 27, 28, 29, 30, 31, 32, 33, 34, 35, 36, 37, 38, 39, 40, 41, 42, 43, 44, 45, 46, 47, 48, 49, 85, 86, 87, 88, 89, 90, 91, 92, 93, 94, 95, 96, 97, 98, 99]\n",
      "  'New categorical_feature is {}'.format(sorted(list(categorical_feature))))\n",
      "/opt/conda/lib/python3.7/site-packages/lightgbm/basic.py:1433: UserWarning: Overriding the parameters from Reference Dataset.\n",
      "  _log_warning('Overriding the parameters from Reference Dataset.')\n",
      "/opt/conda/lib/python3.7/site-packages/lightgbm/basic.py:1245: UserWarning: categorical_column in param dict is overridden.\n",
      "  _log_warning('{} in param dict is overridden.'.format(cat_alias))\n"
     ]
    },
    {
     "name": "stdout",
     "output_type": "stream",
     "text": [
      "Training until validation scores don't improve for 200 rounds\n",
      "[100]\ttraining's multi_logloss: 1.07635\tvalid_1's multi_logloss: 1.1044\n",
      "[200]\ttraining's multi_logloss: 1.04577\tvalid_1's multi_logloss: 1.09904\n",
      "[300]\ttraining's multi_logloss: 1.02025\tvalid_1's multi_logloss: 1.09688\n",
      "[400]\ttraining's multi_logloss: 0.997797\tvalid_1's multi_logloss: 1.09573\n",
      "[500]\ttraining's multi_logloss: 0.97742\tvalid_1's multi_logloss: 1.09563\n",
      "[600]\ttraining's multi_logloss: 0.958549\tvalid_1's multi_logloss: 1.09622\n",
      "Early stopping, best iteration is:\n",
      "[468]\ttraining's multi_logloss: 0.983694\tvalid_1's multi_logloss: 1.09539\n",
      "Seed-57 | Fold-4 | OOF Score: 1.0953852391127579\n"
     ]
    },
    {
     "name": "stderr",
     "output_type": "stream",
     "text": [
      "/opt/conda/lib/python3.7/site-packages/lightgbm/basic.py:1706: UserWarning: categorical_feature in Dataset is overridden.\n",
      "New categorical_feature is [0, 1, 2, 3, 4, 5, 6, 7, 8, 9, 10, 11, 12, 13, 14, 15, 16, 17, 18, 19, 20, 21, 22, 23, 24, 25, 26, 27, 28, 29, 30, 31, 32, 33, 34, 35, 36, 37, 38, 39, 40, 41, 42, 43, 44, 45, 46, 47, 48, 49, 85, 86, 87, 88, 89, 90, 91, 92, 93, 94, 95, 96, 97, 98, 99]\n",
      "  'New categorical_feature is {}'.format(sorted(list(categorical_feature))))\n",
      "/opt/conda/lib/python3.7/site-packages/lightgbm/basic.py:1433: UserWarning: Overriding the parameters from Reference Dataset.\n",
      "  _log_warning('Overriding the parameters from Reference Dataset.')\n",
      "/opt/conda/lib/python3.7/site-packages/lightgbm/basic.py:1245: UserWarning: categorical_column in param dict is overridden.\n",
      "  _log_warning('{} in param dict is overridden.'.format(cat_alias))\n"
     ]
    },
    {
     "name": "stdout",
     "output_type": "stream",
     "text": [
      "Training until validation scores don't improve for 200 rounds\n",
      "[100]\ttraining's multi_logloss: 1.0763\tvalid_1's multi_logloss: 1.10344\n",
      "[200]\ttraining's multi_logloss: 1.04589\tvalid_1's multi_logloss: 1.09762\n",
      "[300]\ttraining's multi_logloss: 1.02047\tvalid_1's multi_logloss: 1.09534\n",
      "[400]\ttraining's multi_logloss: 0.998036\tvalid_1's multi_logloss: 1.09461\n",
      "[500]\ttraining's multi_logloss: 0.977632\tvalid_1's multi_logloss: 1.09433\n",
      "[600]\ttraining's multi_logloss: 0.958737\tvalid_1's multi_logloss: 1.09468\n",
      "[700]\ttraining's multi_logloss: 0.94085\tvalid_1's multi_logloss: 1.0951\n",
      "Early stopping, best iteration is:\n",
      "[513]\ttraining's multi_logloss: 0.975065\tvalid_1's multi_logloss: 1.09422\n",
      "Seed-57 | Fold-5 | OOF Score: 1.0942175910440808\n"
     ]
    },
    {
     "name": "stderr",
     "output_type": "stream",
     "text": [
      "/opt/conda/lib/python3.7/site-packages/lightgbm/basic.py:1706: UserWarning: categorical_feature in Dataset is overridden.\n",
      "New categorical_feature is [0, 1, 2, 3, 4, 5, 6, 7, 8, 9, 10, 11, 12, 13, 14, 15, 16, 17, 18, 19, 20, 21, 22, 23, 24, 25, 26, 27, 28, 29, 30, 31, 32, 33, 34, 35, 36, 37, 38, 39, 40, 41, 42, 43, 44, 45, 46, 47, 48, 49, 85, 86, 87, 88, 89, 90, 91, 92, 93, 94, 95, 96, 97, 98, 99]\n",
      "  'New categorical_feature is {}'.format(sorted(list(categorical_feature))))\n",
      "/opt/conda/lib/python3.7/site-packages/lightgbm/basic.py:1433: UserWarning: Overriding the parameters from Reference Dataset.\n",
      "  _log_warning('Overriding the parameters from Reference Dataset.')\n",
      "/opt/conda/lib/python3.7/site-packages/lightgbm/basic.py:1245: UserWarning: categorical_column in param dict is overridden.\n",
      "  _log_warning('{} in param dict is overridden.'.format(cat_alias))\n"
     ]
    },
    {
     "name": "stdout",
     "output_type": "stream",
     "text": [
      "Training until validation scores don't improve for 200 rounds\n",
      "[100]\ttraining's multi_logloss: 1.07671\tvalid_1's multi_logloss: 1.10115\n",
      "[200]\ttraining's multi_logloss: 1.04644\tvalid_1's multi_logloss: 1.09405\n",
      "[300]\ttraining's multi_logloss: 1.0211\tvalid_1's multi_logloss: 1.09102\n",
      "[400]\ttraining's multi_logloss: 0.998774\tvalid_1's multi_logloss: 1.08964\n",
      "[500]\ttraining's multi_logloss: 0.978316\tvalid_1's multi_logloss: 1.08931\n",
      "[600]\ttraining's multi_logloss: 0.959414\tvalid_1's multi_logloss: 1.08956\n",
      "[700]\ttraining's multi_logloss: 0.94131\tvalid_1's multi_logloss: 1.08968\n",
      "Early stopping, best iteration is:\n",
      "[568]\ttraining's multi_logloss: 0.965286\tvalid_1's multi_logloss: 1.0892\n",
      "Seed-57 | Fold-6 | OOF Score: 1.0892036047530236\n"
     ]
    },
    {
     "name": "stderr",
     "output_type": "stream",
     "text": [
      "/opt/conda/lib/python3.7/site-packages/lightgbm/basic.py:1706: UserWarning: categorical_feature in Dataset is overridden.\n",
      "New categorical_feature is [0, 1, 2, 3, 4, 5, 6, 7, 8, 9, 10, 11, 12, 13, 14, 15, 16, 17, 18, 19, 20, 21, 22, 23, 24, 25, 26, 27, 28, 29, 30, 31, 32, 33, 34, 35, 36, 37, 38, 39, 40, 41, 42, 43, 44, 45, 46, 47, 48, 49, 85, 86, 87, 88, 89, 90, 91, 92, 93, 94, 95, 96, 97, 98, 99]\n",
      "  'New categorical_feature is {}'.format(sorted(list(categorical_feature))))\n",
      "/opt/conda/lib/python3.7/site-packages/lightgbm/basic.py:1433: UserWarning: Overriding the parameters from Reference Dataset.\n",
      "  _log_warning('Overriding the parameters from Reference Dataset.')\n",
      "/opt/conda/lib/python3.7/site-packages/lightgbm/basic.py:1245: UserWarning: categorical_column in param dict is overridden.\n",
      "  _log_warning('{} in param dict is overridden.'.format(cat_alias))\n"
     ]
    },
    {
     "name": "stdout",
     "output_type": "stream",
     "text": [
      "Training until validation scores don't improve for 200 rounds\n",
      "[100]\ttraining's multi_logloss: 1.07628\tvalid_1's multi_logloss: 1.10382\n",
      "[200]\ttraining's multi_logloss: 1.04594\tvalid_1's multi_logloss: 1.0981\n",
      "[300]\ttraining's multi_logloss: 1.02057\tvalid_1's multi_logloss: 1.09598\n",
      "[400]\ttraining's multi_logloss: 0.998335\tvalid_1's multi_logloss: 1.09494\n",
      "[500]\ttraining's multi_logloss: 0.978023\tvalid_1's multi_logloss: 1.09484\n",
      "[600]\ttraining's multi_logloss: 0.959075\tvalid_1's multi_logloss: 1.0952\n",
      "Early stopping, best iteration is:\n",
      "[424]\ttraining's multi_logloss: 0.993299\tvalid_1's multi_logloss: 1.09465\n",
      "Seed-57 | Fold-7 | OOF Score: 1.09465252109865\n"
     ]
    },
    {
     "name": "stderr",
     "output_type": "stream",
     "text": [
      "/opt/conda/lib/python3.7/site-packages/lightgbm/basic.py:1706: UserWarning: categorical_feature in Dataset is overridden.\n",
      "New categorical_feature is [0, 1, 2, 3, 4, 5, 6, 7, 8, 9, 10, 11, 12, 13, 14, 15, 16, 17, 18, 19, 20, 21, 22, 23, 24, 25, 26, 27, 28, 29, 30, 31, 32, 33, 34, 35, 36, 37, 38, 39, 40, 41, 42, 43, 44, 45, 46, 47, 48, 49, 85, 86, 87, 88, 89, 90, 91, 92, 93, 94, 95, 96, 97, 98, 99]\n",
      "  'New categorical_feature is {}'.format(sorted(list(categorical_feature))))\n",
      "/opt/conda/lib/python3.7/site-packages/lightgbm/basic.py:1433: UserWarning: Overriding the parameters from Reference Dataset.\n",
      "  _log_warning('Overriding the parameters from Reference Dataset.')\n",
      "/opt/conda/lib/python3.7/site-packages/lightgbm/basic.py:1245: UserWarning: categorical_column in param dict is overridden.\n",
      "  _log_warning('{} in param dict is overridden.'.format(cat_alias))\n"
     ]
    },
    {
     "name": "stdout",
     "output_type": "stream",
     "text": [
      "Training until validation scores don't improve for 200 rounds\n",
      "[100]\ttraining's multi_logloss: 1.07633\tvalid_1's multi_logloss: 1.10397\n",
      "[200]\ttraining's multi_logloss: 1.04594\tvalid_1's multi_logloss: 1.0987\n",
      "[300]\ttraining's multi_logloss: 1.02041\tvalid_1's multi_logloss: 1.09628\n",
      "[400]\ttraining's multi_logloss: 0.997988\tvalid_1's multi_logloss: 1.0959\n",
      "[500]\ttraining's multi_logloss: 0.977738\tvalid_1's multi_logloss: 1.0956\n",
      "[600]\ttraining's multi_logloss: 0.958842\tvalid_1's multi_logloss: 1.09587\n",
      "Early stopping, best iteration is:\n",
      "[495]\ttraining's multi_logloss: 0.97871\tvalid_1's multi_logloss: 1.09556\n",
      "Seed-57 | Fold-8 | OOF Score: 1.0955599712950506\n"
     ]
    },
    {
     "name": "stderr",
     "output_type": "stream",
     "text": [
      "/opt/conda/lib/python3.7/site-packages/lightgbm/basic.py:1706: UserWarning: categorical_feature in Dataset is overridden.\n",
      "New categorical_feature is [0, 1, 2, 3, 4, 5, 6, 7, 8, 9, 10, 11, 12, 13, 14, 15, 16, 17, 18, 19, 20, 21, 22, 23, 24, 25, 26, 27, 28, 29, 30, 31, 32, 33, 34, 35, 36, 37, 38, 39, 40, 41, 42, 43, 44, 45, 46, 47, 48, 49, 85, 86, 87, 88, 89, 90, 91, 92, 93, 94, 95, 96, 97, 98, 99]\n",
      "  'New categorical_feature is {}'.format(sorted(list(categorical_feature))))\n",
      "/opt/conda/lib/python3.7/site-packages/lightgbm/basic.py:1433: UserWarning: Overriding the parameters from Reference Dataset.\n",
      "  _log_warning('Overriding the parameters from Reference Dataset.')\n",
      "/opt/conda/lib/python3.7/site-packages/lightgbm/basic.py:1245: UserWarning: categorical_column in param dict is overridden.\n",
      "  _log_warning('{} in param dict is overridden.'.format(cat_alias))\n"
     ]
    },
    {
     "name": "stdout",
     "output_type": "stream",
     "text": [
      "Training until validation scores don't improve for 200 rounds\n",
      "[100]\ttraining's multi_logloss: 1.07627\tvalid_1's multi_logloss: 1.10333\n",
      "[200]\ttraining's multi_logloss: 1.04572\tvalid_1's multi_logloss: 1.09734\n",
      "[300]\ttraining's multi_logloss: 1.02032\tvalid_1's multi_logloss: 1.09496\n",
      "[400]\ttraining's multi_logloss: 0.997892\tvalid_1's multi_logloss: 1.09394\n",
      "[500]\ttraining's multi_logloss: 0.97752\tvalid_1's multi_logloss: 1.09415\n",
      "[600]\ttraining's multi_logloss: 0.958563\tvalid_1's multi_logloss: 1.09444\n",
      "Early stopping, best iteration is:\n",
      "[427]\ttraining's multi_logloss: 0.992198\tvalid_1's multi_logloss: 1.09375\n",
      "Seed-57 | Fold-9 | OOF Score: 1.093750597702308\n",
      "\n",
      "Seed: 57 | Aggregate OOF Score: 1.093009684623917\n",
      "\n",
      "\n"
     ]
    },
    {
     "name": "stderr",
     "output_type": "stream",
     "text": [
      "/opt/conda/lib/python3.7/site-packages/lightgbm/basic.py:1706: UserWarning: categorical_feature in Dataset is overridden.\n",
      "New categorical_feature is [0, 1, 2, 3, 4, 5, 6, 7, 8, 9, 10, 11, 12, 13, 14, 15, 16, 17, 18, 19, 20, 21, 22, 23, 24, 25, 26, 27, 28, 29, 30, 31, 32, 33, 34, 35, 36, 37, 38, 39, 40, 41, 42, 43, 44, 45, 46, 47, 48, 49, 85, 86, 87, 88, 89, 90, 91, 92, 93, 94, 95, 96, 97, 98, 99]\n",
      "  'New categorical_feature is {}'.format(sorted(list(categorical_feature))))\n",
      "/opt/conda/lib/python3.7/site-packages/lightgbm/basic.py:1433: UserWarning: Overriding the parameters from Reference Dataset.\n",
      "  _log_warning('Overriding the parameters from Reference Dataset.')\n",
      "/opt/conda/lib/python3.7/site-packages/lightgbm/basic.py:1245: UserWarning: categorical_column in param dict is overridden.\n",
      "  _log_warning('{} in param dict is overridden.'.format(cat_alias))\n"
     ]
    },
    {
     "name": "stdout",
     "output_type": "stream",
     "text": [
      "Training until validation scores don't improve for 200 rounds\n",
      "[100]\ttraining's multi_logloss: 1.07624\tvalid_1's multi_logloss: 1.10383\n",
      "[200]\ttraining's multi_logloss: 1.04576\tvalid_1's multi_logloss: 1.09841\n",
      "[300]\ttraining's multi_logloss: 1.02032\tvalid_1's multi_logloss: 1.09589\n",
      "[400]\ttraining's multi_logloss: 0.998052\tvalid_1's multi_logloss: 1.0951\n",
      "[500]\ttraining's multi_logloss: 0.977712\tvalid_1's multi_logloss: 1.09508\n",
      "[600]\ttraining's multi_logloss: 0.958726\tvalid_1's multi_logloss: 1.09524\n",
      "Early stopping, best iteration is:\n",
      "[434]\ttraining's multi_logloss: 0.990932\tvalid_1's multi_logloss: 1.09492\n",
      "Seed-0 | Fold-0 | OOF Score: 1.0949183032589795\n"
     ]
    },
    {
     "name": "stderr",
     "output_type": "stream",
     "text": [
      "/opt/conda/lib/python3.7/site-packages/lightgbm/basic.py:1706: UserWarning: categorical_feature in Dataset is overridden.\n",
      "New categorical_feature is [0, 1, 2, 3, 4, 5, 6, 7, 8, 9, 10, 11, 12, 13, 14, 15, 16, 17, 18, 19, 20, 21, 22, 23, 24, 25, 26, 27, 28, 29, 30, 31, 32, 33, 34, 35, 36, 37, 38, 39, 40, 41, 42, 43, 44, 45, 46, 47, 48, 49, 85, 86, 87, 88, 89, 90, 91, 92, 93, 94, 95, 96, 97, 98, 99]\n",
      "  'New categorical_feature is {}'.format(sorted(list(categorical_feature))))\n",
      "/opt/conda/lib/python3.7/site-packages/lightgbm/basic.py:1433: UserWarning: Overriding the parameters from Reference Dataset.\n",
      "  _log_warning('Overriding the parameters from Reference Dataset.')\n",
      "/opt/conda/lib/python3.7/site-packages/lightgbm/basic.py:1245: UserWarning: categorical_column in param dict is overridden.\n",
      "  _log_warning('{} in param dict is overridden.'.format(cat_alias))\n"
     ]
    },
    {
     "name": "stdout",
     "output_type": "stream",
     "text": [
      "Training until validation scores don't improve for 200 rounds\n",
      "[100]\ttraining's multi_logloss: 1.07647\tvalid_1's multi_logloss: 1.10163\n",
      "[200]\ttraining's multi_logloss: 1.04599\tvalid_1's multi_logloss: 1.09537\n",
      "[300]\ttraining's multi_logloss: 1.02049\tvalid_1's multi_logloss: 1.09246\n",
      "[400]\ttraining's multi_logloss: 0.998219\tvalid_1's multi_logloss: 1.09182\n",
      "[500]\ttraining's multi_logloss: 0.977824\tvalid_1's multi_logloss: 1.09139\n",
      "[600]\ttraining's multi_logloss: 0.9589\tvalid_1's multi_logloss: 1.09176\n",
      "Early stopping, best iteration is:\n",
      "[493]\ttraining's multi_logloss: 0.979201\tvalid_1's multi_logloss: 1.09136\n",
      "Seed-0 | Fold-1 | OOF Score: 1.0913568635420157\n"
     ]
    },
    {
     "name": "stderr",
     "output_type": "stream",
     "text": [
      "/opt/conda/lib/python3.7/site-packages/lightgbm/basic.py:1706: UserWarning: categorical_feature in Dataset is overridden.\n",
      "New categorical_feature is [0, 1, 2, 3, 4, 5, 6, 7, 8, 9, 10, 11, 12, 13, 14, 15, 16, 17, 18, 19, 20, 21, 22, 23, 24, 25, 26, 27, 28, 29, 30, 31, 32, 33, 34, 35, 36, 37, 38, 39, 40, 41, 42, 43, 44, 45, 46, 47, 48, 49, 85, 86, 87, 88, 89, 90, 91, 92, 93, 94, 95, 96, 97, 98, 99]\n",
      "  'New categorical_feature is {}'.format(sorted(list(categorical_feature))))\n",
      "/opt/conda/lib/python3.7/site-packages/lightgbm/basic.py:1433: UserWarning: Overriding the parameters from Reference Dataset.\n",
      "  _log_warning('Overriding the parameters from Reference Dataset.')\n",
      "/opt/conda/lib/python3.7/site-packages/lightgbm/basic.py:1245: UserWarning: categorical_column in param dict is overridden.\n",
      "  _log_warning('{} in param dict is overridden.'.format(cat_alias))\n"
     ]
    },
    {
     "name": "stdout",
     "output_type": "stream",
     "text": [
      "Training until validation scores don't improve for 200 rounds\n",
      "[100]\ttraining's multi_logloss: 1.07634\tvalid_1's multi_logloss: 1.1033\n",
      "[200]\ttraining's multi_logloss: 1.04587\tvalid_1's multi_logloss: 1.09736\n",
      "[300]\ttraining's multi_logloss: 1.02051\tvalid_1's multi_logloss: 1.09513\n",
      "[400]\ttraining's multi_logloss: 0.99809\tvalid_1's multi_logloss: 1.09422\n",
      "[500]\ttraining's multi_logloss: 0.977816\tvalid_1's multi_logloss: 1.09378\n",
      "[600]\ttraining's multi_logloss: 0.958856\tvalid_1's multi_logloss: 1.09401\n",
      "Early stopping, best iteration is:\n",
      "[499]\ttraining's multi_logloss: 0.978009\tvalid_1's multi_logloss: 1.09377\n",
      "Seed-0 | Fold-2 | OOF Score: 1.0937735738645578\n"
     ]
    },
    {
     "name": "stderr",
     "output_type": "stream",
     "text": [
      "/opt/conda/lib/python3.7/site-packages/lightgbm/basic.py:1706: UserWarning: categorical_feature in Dataset is overridden.\n",
      "New categorical_feature is [0, 1, 2, 3, 4, 5, 6, 7, 8, 9, 10, 11, 12, 13, 14, 15, 16, 17, 18, 19, 20, 21, 22, 23, 24, 25, 26, 27, 28, 29, 30, 31, 32, 33, 34, 35, 36, 37, 38, 39, 40, 41, 42, 43, 44, 45, 46, 47, 48, 49, 85, 86, 87, 88, 89, 90, 91, 92, 93, 94, 95, 96, 97, 98, 99]\n",
      "  'New categorical_feature is {}'.format(sorted(list(categorical_feature))))\n",
      "/opt/conda/lib/python3.7/site-packages/lightgbm/basic.py:1433: UserWarning: Overriding the parameters from Reference Dataset.\n",
      "  _log_warning('Overriding the parameters from Reference Dataset.')\n",
      "/opt/conda/lib/python3.7/site-packages/lightgbm/basic.py:1245: UserWarning: categorical_column in param dict is overridden.\n",
      "  _log_warning('{} in param dict is overridden.'.format(cat_alias))\n"
     ]
    },
    {
     "name": "stdout",
     "output_type": "stream",
     "text": [
      "Training until validation scores don't improve for 200 rounds\n",
      "[100]\ttraining's multi_logloss: 1.07638\tvalid_1's multi_logloss: 1.10265\n",
      "[200]\ttraining's multi_logloss: 1.04603\tvalid_1's multi_logloss: 1.09654\n",
      "[300]\ttraining's multi_logloss: 1.02065\tvalid_1's multi_logloss: 1.09362\n",
      "[400]\ttraining's multi_logloss: 0.99831\tvalid_1's multi_logloss: 1.09247\n",
      "[500]\ttraining's multi_logloss: 0.978004\tvalid_1's multi_logloss: 1.09279\n",
      "Early stopping, best iteration is:\n",
      "[399]\ttraining's multi_logloss: 0.998525\tvalid_1's multi_logloss: 1.09247\n",
      "Seed-0 | Fold-3 | OOF Score: 1.0924703216285856\n"
     ]
    },
    {
     "name": "stderr",
     "output_type": "stream",
     "text": [
      "/opt/conda/lib/python3.7/site-packages/lightgbm/basic.py:1706: UserWarning: categorical_feature in Dataset is overridden.\n",
      "New categorical_feature is [0, 1, 2, 3, 4, 5, 6, 7, 8, 9, 10, 11, 12, 13, 14, 15, 16, 17, 18, 19, 20, 21, 22, 23, 24, 25, 26, 27, 28, 29, 30, 31, 32, 33, 34, 35, 36, 37, 38, 39, 40, 41, 42, 43, 44, 45, 46, 47, 48, 49, 85, 86, 87, 88, 89, 90, 91, 92, 93, 94, 95, 96, 97, 98, 99]\n",
      "  'New categorical_feature is {}'.format(sorted(list(categorical_feature))))\n",
      "/opt/conda/lib/python3.7/site-packages/lightgbm/basic.py:1433: UserWarning: Overriding the parameters from Reference Dataset.\n",
      "  _log_warning('Overriding the parameters from Reference Dataset.')\n",
      "/opt/conda/lib/python3.7/site-packages/lightgbm/basic.py:1245: UserWarning: categorical_column in param dict is overridden.\n",
      "  _log_warning('{} in param dict is overridden.'.format(cat_alias))\n"
     ]
    },
    {
     "name": "stdout",
     "output_type": "stream",
     "text": [
      "Training until validation scores don't improve for 200 rounds\n",
      "[100]\ttraining's multi_logloss: 1.07693\tvalid_1's multi_logloss: 1.10054\n",
      "[200]\ttraining's multi_logloss: 1.04657\tvalid_1's multi_logloss: 1.09337\n",
      "[300]\ttraining's multi_logloss: 1.02133\tvalid_1's multi_logloss: 1.09007\n",
      "[400]\ttraining's multi_logloss: 0.999012\tvalid_1's multi_logloss: 1.08875\n",
      "[500]\ttraining's multi_logloss: 0.978707\tvalid_1's multi_logloss: 1.08861\n",
      "[600]\ttraining's multi_logloss: 0.959842\tvalid_1's multi_logloss: 1.08885\n",
      "Early stopping, best iteration is:\n",
      "[446]\ttraining's multi_logloss: 0.989522\tvalid_1's multi_logloss: 1.08851\n",
      "Seed-0 | Fold-4 | OOF Score: 1.0885144732640986\n"
     ]
    },
    {
     "name": "stderr",
     "output_type": "stream",
     "text": [
      "/opt/conda/lib/python3.7/site-packages/lightgbm/basic.py:1706: UserWarning: categorical_feature in Dataset is overridden.\n",
      "New categorical_feature is [0, 1, 2, 3, 4, 5, 6, 7, 8, 9, 10, 11, 12, 13, 14, 15, 16, 17, 18, 19, 20, 21, 22, 23, 24, 25, 26, 27, 28, 29, 30, 31, 32, 33, 34, 35, 36, 37, 38, 39, 40, 41, 42, 43, 44, 45, 46, 47, 48, 49, 85, 86, 87, 88, 89, 90, 91, 92, 93, 94, 95, 96, 97, 98, 99]\n",
      "  'New categorical_feature is {}'.format(sorted(list(categorical_feature))))\n",
      "/opt/conda/lib/python3.7/site-packages/lightgbm/basic.py:1433: UserWarning: Overriding the parameters from Reference Dataset.\n",
      "  _log_warning('Overriding the parameters from Reference Dataset.')\n",
      "/opt/conda/lib/python3.7/site-packages/lightgbm/basic.py:1245: UserWarning: categorical_column in param dict is overridden.\n",
      "  _log_warning('{} in param dict is overridden.'.format(cat_alias))\n"
     ]
    },
    {
     "name": "stdout",
     "output_type": "stream",
     "text": [
      "Training until validation scores don't improve for 200 rounds\n",
      "[100]\ttraining's multi_logloss: 1.07658\tvalid_1's multi_logloss: 1.10228\n",
      "[200]\ttraining's multi_logloss: 1.04606\tvalid_1's multi_logloss: 1.09572\n",
      "[300]\ttraining's multi_logloss: 1.02059\tvalid_1's multi_logloss: 1.09299\n",
      "[400]\ttraining's multi_logloss: 0.998282\tvalid_1's multi_logloss: 1.09182\n",
      "[500]\ttraining's multi_logloss: 0.977924\tvalid_1's multi_logloss: 1.09149\n",
      "[600]\ttraining's multi_logloss: 0.959104\tvalid_1's multi_logloss: 1.09176\n",
      "Early stopping, best iteration is:\n",
      "[493]\ttraining's multi_logloss: 0.979306\tvalid_1's multi_logloss: 1.09147\n",
      "Seed-0 | Fold-5 | OOF Score: 1.0914669902229193\n"
     ]
    },
    {
     "name": "stderr",
     "output_type": "stream",
     "text": [
      "/opt/conda/lib/python3.7/site-packages/lightgbm/basic.py:1706: UserWarning: categorical_feature in Dataset is overridden.\n",
      "New categorical_feature is [0, 1, 2, 3, 4, 5, 6, 7, 8, 9, 10, 11, 12, 13, 14, 15, 16, 17, 18, 19, 20, 21, 22, 23, 24, 25, 26, 27, 28, 29, 30, 31, 32, 33, 34, 35, 36, 37, 38, 39, 40, 41, 42, 43, 44, 45, 46, 47, 48, 49, 85, 86, 87, 88, 89, 90, 91, 92, 93, 94, 95, 96, 97, 98, 99]\n",
      "  'New categorical_feature is {}'.format(sorted(list(categorical_feature))))\n",
      "/opt/conda/lib/python3.7/site-packages/lightgbm/basic.py:1433: UserWarning: Overriding the parameters from Reference Dataset.\n",
      "  _log_warning('Overriding the parameters from Reference Dataset.')\n",
      "/opt/conda/lib/python3.7/site-packages/lightgbm/basic.py:1245: UserWarning: categorical_column in param dict is overridden.\n",
      "  _log_warning('{} in param dict is overridden.'.format(cat_alias))\n"
     ]
    },
    {
     "name": "stdout",
     "output_type": "stream",
     "text": [
      "Training until validation scores don't improve for 200 rounds\n",
      "[100]\ttraining's multi_logloss: 1.07645\tvalid_1's multi_logloss: 1.1038\n",
      "[200]\ttraining's multi_logloss: 1.04608\tvalid_1's multi_logloss: 1.09754\n",
      "[300]\ttraining's multi_logloss: 1.0208\tvalid_1's multi_logloss: 1.09441\n",
      "[400]\ttraining's multi_logloss: 0.998779\tvalid_1's multi_logloss: 1.0935\n",
      "[500]\ttraining's multi_logloss: 0.978434\tvalid_1's multi_logloss: 1.09295\n",
      "[600]\ttraining's multi_logloss: 0.959376\tvalid_1's multi_logloss: 1.09273\n",
      "[700]\ttraining's multi_logloss: 0.94145\tvalid_1's multi_logloss: 1.09294\n",
      "[800]\ttraining's multi_logloss: 0.92445\tvalid_1's multi_logloss: 1.0935\n",
      "Early stopping, best iteration is:\n",
      "[603]\ttraining's multi_logloss: 0.958829\tvalid_1's multi_logloss: 1.09269\n",
      "Seed-0 | Fold-6 | OOF Score: 1.0926859646249618\n"
     ]
    },
    {
     "name": "stderr",
     "output_type": "stream",
     "text": [
      "/opt/conda/lib/python3.7/site-packages/lightgbm/basic.py:1706: UserWarning: categorical_feature in Dataset is overridden.\n",
      "New categorical_feature is [0, 1, 2, 3, 4, 5, 6, 7, 8, 9, 10, 11, 12, 13, 14, 15, 16, 17, 18, 19, 20, 21, 22, 23, 24, 25, 26, 27, 28, 29, 30, 31, 32, 33, 34, 35, 36, 37, 38, 39, 40, 41, 42, 43, 44, 45, 46, 47, 48, 49, 85, 86, 87, 88, 89, 90, 91, 92, 93, 94, 95, 96, 97, 98, 99]\n",
      "  'New categorical_feature is {}'.format(sorted(list(categorical_feature))))\n",
      "/opt/conda/lib/python3.7/site-packages/lightgbm/basic.py:1433: UserWarning: Overriding the parameters from Reference Dataset.\n",
      "  _log_warning('Overriding the parameters from Reference Dataset.')\n",
      "/opt/conda/lib/python3.7/site-packages/lightgbm/basic.py:1245: UserWarning: categorical_column in param dict is overridden.\n",
      "  _log_warning('{} in param dict is overridden.'.format(cat_alias))\n"
     ]
    },
    {
     "name": "stdout",
     "output_type": "stream",
     "text": [
      "Training until validation scores don't improve for 200 rounds\n",
      "[100]\ttraining's multi_logloss: 1.07633\tvalid_1's multi_logloss: 1.10307\n",
      "[200]\ttraining's multi_logloss: 1.04602\tvalid_1's multi_logloss: 1.09715\n",
      "[300]\ttraining's multi_logloss: 1.02064\tvalid_1's multi_logloss: 1.09494\n",
      "[400]\ttraining's multi_logloss: 0.998154\tvalid_1's multi_logloss: 1.09445\n",
      "[500]\ttraining's multi_logloss: 0.977703\tvalid_1's multi_logloss: 1.09422\n",
      "[600]\ttraining's multi_logloss: 0.958745\tvalid_1's multi_logloss: 1.09487\n",
      "Early stopping, best iteration is:\n",
      "[449]\ttraining's multi_logloss: 0.987878\tvalid_1's multi_logloss: 1.09412\n",
      "Seed-0 | Fold-7 | OOF Score: 1.0941202431824437\n"
     ]
    },
    {
     "name": "stderr",
     "output_type": "stream",
     "text": [
      "/opt/conda/lib/python3.7/site-packages/lightgbm/basic.py:1706: UserWarning: categorical_feature in Dataset is overridden.\n",
      "New categorical_feature is [0, 1, 2, 3, 4, 5, 6, 7, 8, 9, 10, 11, 12, 13, 14, 15, 16, 17, 18, 19, 20, 21, 22, 23, 24, 25, 26, 27, 28, 29, 30, 31, 32, 33, 34, 35, 36, 37, 38, 39, 40, 41, 42, 43, 44, 45, 46, 47, 48, 49, 85, 86, 87, 88, 89, 90, 91, 92, 93, 94, 95, 96, 97, 98, 99]\n",
      "  'New categorical_feature is {}'.format(sorted(list(categorical_feature))))\n",
      "/opt/conda/lib/python3.7/site-packages/lightgbm/basic.py:1433: UserWarning: Overriding the parameters from Reference Dataset.\n",
      "  _log_warning('Overriding the parameters from Reference Dataset.')\n",
      "/opt/conda/lib/python3.7/site-packages/lightgbm/basic.py:1245: UserWarning: categorical_column in param dict is overridden.\n",
      "  _log_warning('{} in param dict is overridden.'.format(cat_alias))\n"
     ]
    },
    {
     "name": "stdout",
     "output_type": "stream",
     "text": [
      "Training until validation scores don't improve for 200 rounds\n",
      "[100]\ttraining's multi_logloss: 1.07644\tvalid_1's multi_logloss: 1.10257\n",
      "[200]\ttraining's multi_logloss: 1.04585\tvalid_1's multi_logloss: 1.09675\n",
      "[300]\ttraining's multi_logloss: 1.02053\tvalid_1's multi_logloss: 1.09448\n",
      "[400]\ttraining's multi_logloss: 0.998134\tvalid_1's multi_logloss: 1.0937\n",
      "[500]\ttraining's multi_logloss: 0.977789\tvalid_1's multi_logloss: 1.09365\n",
      "[600]\ttraining's multi_logloss: 0.958796\tvalid_1's multi_logloss: 1.09367\n",
      "Early stopping, best iteration is:\n",
      "[457]\ttraining's multi_logloss: 0.986335\tvalid_1's multi_logloss: 1.0934\n",
      "Seed-0 | Fold-8 | OOF Score: 1.0933972251592365\n"
     ]
    },
    {
     "name": "stderr",
     "output_type": "stream",
     "text": [
      "/opt/conda/lib/python3.7/site-packages/lightgbm/basic.py:1706: UserWarning: categorical_feature in Dataset is overridden.\n",
      "New categorical_feature is [0, 1, 2, 3, 4, 5, 6, 7, 8, 9, 10, 11, 12, 13, 14, 15, 16, 17, 18, 19, 20, 21, 22, 23, 24, 25, 26, 27, 28, 29, 30, 31, 32, 33, 34, 35, 36, 37, 38, 39, 40, 41, 42, 43, 44, 45, 46, 47, 48, 49, 85, 86, 87, 88, 89, 90, 91, 92, 93, 94, 95, 96, 97, 98, 99]\n",
      "  'New categorical_feature is {}'.format(sorted(list(categorical_feature))))\n",
      "/opt/conda/lib/python3.7/site-packages/lightgbm/basic.py:1433: UserWarning: Overriding the parameters from Reference Dataset.\n",
      "  _log_warning('Overriding the parameters from Reference Dataset.')\n",
      "/opt/conda/lib/python3.7/site-packages/lightgbm/basic.py:1245: UserWarning: categorical_column in param dict is overridden.\n",
      "  _log_warning('{} in param dict is overridden.'.format(cat_alias))\n"
     ]
    },
    {
     "name": "stdout",
     "output_type": "stream",
     "text": [
      "Training until validation scores don't improve for 200 rounds\n",
      "[100]\ttraining's multi_logloss: 1.07627\tvalid_1's multi_logloss: 1.10441\n",
      "[200]\ttraining's multi_logloss: 1.04586\tvalid_1's multi_logloss: 1.0988\n",
      "[300]\ttraining's multi_logloss: 1.02055\tvalid_1's multi_logloss: 1.09656\n",
      "[400]\ttraining's multi_logloss: 0.998222\tvalid_1's multi_logloss: 1.0957\n",
      "[500]\ttraining's multi_logloss: 0.977735\tvalid_1's multi_logloss: 1.09564\n",
      "[600]\ttraining's multi_logloss: 0.959009\tvalid_1's multi_logloss: 1.09598\n",
      "Early stopping, best iteration is:\n",
      "[488]\ttraining's multi_logloss: 0.980111\tvalid_1's multi_logloss: 1.09557\n",
      "Seed-0 | Fold-9 | OOF Score: 1.0955747155449183\n",
      "\n",
      "Seed: 0 | Aggregate OOF Score: 1.0928278674292717\n",
      "\n",
      "\n",
      "Aggregate OOF Score: 1.092921063108014\n"
     ]
    }
   ],
   "source": [
    "FOLD = 10\n",
    "NUM_SEED = 3\n",
    "\n",
    "# Prediction Clipping Thresholds\n",
    "p_min = 0.025\n",
    "p_max = 1 - p_min\n",
    "\n",
    "np.random.seed(2021)\n",
    "seeds = np.random.randint(0, 100, size=NUM_SEED)\n",
    "\n",
    "oof_score = 0\n",
    "y_pred_meta_lgb = np.zeros((Ytrain.shape[0], 4))\n",
    "y_pred_final_lgb = np.zeros((Xtest.shape[0], 4))\n",
    "counter = 0\n",
    "\n",
    "\n",
    "for sidx, seed in enumerate(seeds):\n",
    "    seed_score = 0\n",
    "    \n",
    "    kfold = StratifiedKFold(n_splits=FOLD, shuffle=True, random_state=seed)\n",
    "\n",
    "    for idx, (train, val) in enumerate(kfold.split(Xtrain, Ytrain)):\n",
    "        counter += 1\n",
    "\n",
    "        train_x, train_y, train_y_oh = Xtrain[train], Ytrain[train], Ytrain_oh[train]\n",
    "        val_x, val_y, val_y_oh = Xtrain[val], Ytrain[val], Ytrain_oh[val]\n",
    "\n",
    "        lgtrain = lgb.Dataset(train_x, label=train_y.ravel())\n",
    "        lgvalidation = lgb.Dataset(val_x, label=val_y.ravel())\n",
    "\n",
    "        model = lgb.train(params, lgtrain, num_rounds, \n",
    "                          valid_sets=[lgtrain, lgvalidation], \n",
    "                          categorical_feature=cat_cols_indices,\n",
    "                          early_stopping_rounds=200, verbose_eval=100)\n",
    "\n",
    "        y_pred = model.predict(val_x, num_iteration=model.best_iteration)\n",
    "        y_pred = np.clip(y_pred, p_min, p_max)\n",
    "        y_pred_meta_lgb[val] += y_pred\n",
    "        y_pred_final_lgb += model.predict(Xtest, num_iteration=model.best_iteration)\n",
    "        \n",
    "        score = log_loss(val_y_oh, y_pred)\n",
    "        oof_score += score\n",
    "        seed_score += score\n",
    "        print(\"Seed-{} | Fold-{} | OOF Score: {}\".format(seed, idx, score))\n",
    "    \n",
    "    print(\"\\nSeed: {} | Aggregate OOF Score: {}\\n\\n\".format(seed, (seed_score / FOLD)))\n",
    "\n",
    "\n",
    "y_pred_meta_lgb = y_pred_meta_lgb / float(NUM_SEED)\n",
    "y_pred_final_lgb = y_pred_final_lgb / float(counter)\n",
    "oof_score /= float(counter)\n",
    "print(\"Aggregate OOF Score: {}\".format(oof_score))"
   ]
  },
  {
   "cell_type": "code",
   "execution_count": 7,
   "id": "polar-jersey",
   "metadata": {
    "execution": {
     "iopub.execute_input": "2021-05-18T08:14:13.165862Z",
     "iopub.status.busy": "2021-05-18T08:14:13.164852Z",
     "iopub.status.idle": "2021-05-18T08:14:13.425345Z",
     "shell.execute_reply": "2021-05-18T08:14:13.425927Z"
    },
    "id": "uLzmS7LzXvXy",
    "papermill": {
     "duration": 0.377741,
     "end_time": "2021-05-18T08:14:13.426123",
     "exception": false,
     "start_time": "2021-05-18T08:14:13.048382",
     "status": "completed"
    },
    "tags": []
   },
   "outputs": [],
   "source": [
    "np.savez_compressed('./LGB_Meta_Features.npz',\n",
    "                    y_pred_meta_lgb=y_pred_meta_lgb, \n",
    "                    oof_score=oof_score,\n",
    "                    y_pred_final_lgb=y_pred_final_lgb)"
   ]
  },
  {
   "cell_type": "markdown",
   "id": "egyptian-indonesia",
   "metadata": {
    "id": "nZvoU4TpWxmY",
    "papermill": {
     "duration": 0.113109,
     "end_time": "2021-05-18T08:14:13.653428",
     "exception": false,
     "start_time": "2021-05-18T08:14:13.540319",
     "status": "completed"
    },
    "tags": []
   },
   "source": [
    "## Create submission file"
   ]
  },
  {
   "cell_type": "code",
   "execution_count": 8,
   "id": "actual-effort",
   "metadata": {
    "execution": {
     "iopub.execute_input": "2021-05-18T08:14:13.885341Z",
     "iopub.status.busy": "2021-05-18T08:14:13.884322Z",
     "iopub.status.idle": "2021-05-18T08:14:14.110845Z",
     "shell.execute_reply": "2021-05-18T08:14:14.110299Z"
    },
    "executionInfo": {
     "elapsed": 1417,
     "status": "ok",
     "timestamp": 1616078535765,
     "user": {
      "displayName": "TAPAS DAS",
      "photoUrl": "https://lh3.googleusercontent.com/a-/AOh14GiyffdGKiPCR_UwVittzTcbBFms70IkGfU15fatCA=s64",
      "userId": "10798398878324948542"
     },
     "user_tz": -330
    },
    "id": "zGEGOAJHVoHV",
    "outputId": "53ab44cf-755f-435d-c1af-f4184f2114dd",
    "papermill": {
     "duration": 0.344342,
     "end_time": "2021-05-18T08:14:14.111000",
     "exception": false,
     "start_time": "2021-05-18T08:14:13.766658",
     "status": "completed"
    },
    "tags": []
   },
   "outputs": [
    {
     "data": {
      "text/html": [
       "<div>\n",
       "<style scoped>\n",
       "    .dataframe tbody tr th:only-of-type {\n",
       "        vertical-align: middle;\n",
       "    }\n",
       "\n",
       "    .dataframe tbody tr th {\n",
       "        vertical-align: top;\n",
       "    }\n",
       "\n",
       "    .dataframe thead th {\n",
       "        text-align: right;\n",
       "    }\n",
       "</style>\n",
       "<table border=\"1\" class=\"dataframe\">\n",
       "  <thead>\n",
       "    <tr style=\"text-align: right;\">\n",
       "      <th></th>\n",
       "      <th>id</th>\n",
       "      <th>Class_1</th>\n",
       "      <th>Class_2</th>\n",
       "      <th>Class_3</th>\n",
       "      <th>Class_4</th>\n",
       "    </tr>\n",
       "  </thead>\n",
       "  <tbody>\n",
       "    <tr>\n",
       "      <th>0</th>\n",
       "      <td>100000</td>\n",
       "      <td>0.094618</td>\n",
       "      <td>0.582060</td>\n",
       "      <td>0.189509</td>\n",
       "      <td>0.133813</td>\n",
       "    </tr>\n",
       "    <tr>\n",
       "      <th>1</th>\n",
       "      <td>100001</td>\n",
       "      <td>0.067342</td>\n",
       "      <td>0.648476</td>\n",
       "      <td>0.178464</td>\n",
       "      <td>0.105718</td>\n",
       "    </tr>\n",
       "    <tr>\n",
       "      <th>2</th>\n",
       "      <td>100002</td>\n",
       "      <td>0.062800</td>\n",
       "      <td>0.682327</td>\n",
       "      <td>0.169452</td>\n",
       "      <td>0.085421</td>\n",
       "    </tr>\n",
       "    <tr>\n",
       "      <th>3</th>\n",
       "      <td>100003</td>\n",
       "      <td>0.081586</td>\n",
       "      <td>0.518184</td>\n",
       "      <td>0.311256</td>\n",
       "      <td>0.088974</td>\n",
       "    </tr>\n",
       "    <tr>\n",
       "      <th>4</th>\n",
       "      <td>100004</td>\n",
       "      <td>0.068587</td>\n",
       "      <td>0.674762</td>\n",
       "      <td>0.165719</td>\n",
       "      <td>0.090931</td>\n",
       "    </tr>\n",
       "  </tbody>\n",
       "</table>\n",
       "</div>"
      ],
      "text/plain": [
       "       id   Class_1   Class_2   Class_3   Class_4\n",
       "0  100000  0.094618  0.582060  0.189509  0.133813\n",
       "1  100001  0.067342  0.648476  0.178464  0.105718\n",
       "2  100002  0.062800  0.682327  0.169452  0.085421\n",
       "3  100003  0.081586  0.518184  0.311256  0.088974\n",
       "4  100004  0.068587  0.674762  0.165719  0.090931"
      ]
     },
     "execution_count": 8,
     "metadata": {},
     "output_type": "execute_result"
    }
   ],
   "source": [
    "y_pred_final_lgb = np.clip(y_pred_final_lgb, p_min, p_max)\n",
    "\n",
    "test_df = pd.read_csv(\"../input/tabular-playground-series-may-2021/test.csv\")\n",
    "submit_df = pd.DataFrame()\n",
    "submit_df['id'] = test_df['id']\n",
    "submit_df['Class_1'] = y_pred_final_lgb[:,0]\n",
    "submit_df['Class_2'] = y_pred_final_lgb[:,1]\n",
    "submit_df['Class_3'] = y_pred_final_lgb[:,2]\n",
    "submit_df['Class_4'] = y_pred_final_lgb[:,3]\n",
    "submit_df.head()"
   ]
  },
  {
   "cell_type": "code",
   "execution_count": 9,
   "id": "rolled-canberra",
   "metadata": {
    "execution": {
     "iopub.execute_input": "2021-05-18T08:14:14.343455Z",
     "iopub.status.busy": "2021-05-18T08:14:14.342395Z",
     "iopub.status.idle": "2021-05-18T08:14:14.817124Z",
     "shell.execute_reply": "2021-05-18T08:14:14.816444Z"
    },
    "id": "KDIsotrKVoJN",
    "papermill": {
     "duration": 0.591869,
     "end_time": "2021-05-18T08:14:14.817269",
     "exception": false,
     "start_time": "2021-05-18T08:14:14.225400",
     "status": "completed"
    },
    "tags": []
   },
   "outputs": [],
   "source": [
    "submit_df.to_csv(\"./LGB_submission.csv\", index=False)"
   ]
  },
  {
   "cell_type": "code",
   "execution_count": null,
   "id": "sealed-terminology",
   "metadata": {
    "id": "W2c88MvxXm65",
    "papermill": {
     "duration": 0.112658,
     "end_time": "2021-05-18T08:14:15.042906",
     "exception": false,
     "start_time": "2021-05-18T08:14:14.930248",
     "status": "completed"
    },
    "tags": []
   },
   "outputs": [],
   "source": []
  }
 ],
 "metadata": {
  "kernelspec": {
   "display_name": "Python 3",
   "language": "python",
   "name": "python3"
  },
  "language_info": {
   "codemirror_mode": {
    "name": "ipython",
    "version": 3
   },
   "file_extension": ".py",
   "mimetype": "text/x-python",
   "name": "python",
   "nbconvert_exporter": "python",
   "pygments_lexer": "ipython3",
   "version": "3.7.10"
  },
  "papermill": {
   "default_parameters": {},
   "duration": 2402.654405,
   "end_time": "2021-05-18T08:14:16.466469",
   "environment_variables": {},
   "exception": null,
   "input_path": "__notebook__.ipynb",
   "output_path": "__notebook__.ipynb",
   "parameters": {},
   "start_time": "2021-05-18T07:34:13.812064",
   "version": "2.3.3"
  }
 },
 "nbformat": 4,
 "nbformat_minor": 5
}
