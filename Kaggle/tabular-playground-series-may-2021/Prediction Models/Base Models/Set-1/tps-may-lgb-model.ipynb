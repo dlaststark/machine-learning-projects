{
 "cells": [
  {
   "cell_type": "markdown",
   "metadata": {
    "id": "uLz9OcH8SeET",
    "papermill": {
     "duration": 0.012774,
     "end_time": "2021-05-24T04:09:03.322264",
     "exception": false,
     "start_time": "2021-05-24T04:09:03.309490",
     "status": "completed"
    },
    "tags": []
   },
   "source": [
    "## Import libraries"
   ]
  },
  {
   "cell_type": "code",
   "execution_count": 1,
   "metadata": {
    "execution": {
     "iopub.execute_input": "2021-05-24T04:09:03.349895Z",
     "iopub.status.busy": "2021-05-24T04:09:03.348787Z",
     "iopub.status.idle": "2021-05-24T04:09:05.487805Z",
     "shell.execute_reply": "2021-05-24T04:09:05.486817Z",
     "shell.execute_reply.started": "2021-05-23T04:52:57.685266Z"
    },
    "executionInfo": {
     "elapsed": 18546,
     "status": "ok",
     "timestamp": 1616326755679,
     "user": {
      "displayName": "TAPAS DAS",
      "photoUrl": "https://lh3.googleusercontent.com/a-/AOh14GiyffdGKiPCR_UwVittzTcbBFms70IkGfU15fatCA=s64",
      "userId": "10798398878324948542"
     },
     "user_tz": -330
    },
    "id": "E9svswc9SUuX",
    "papermill": {
     "duration": 2.154138,
     "end_time": "2021-05-24T04:09:05.488043",
     "exception": false,
     "start_time": "2021-05-24T04:09:03.333905",
     "status": "completed"
    },
    "tags": []
   },
   "outputs": [
    {
     "data": {
      "text/html": [
       "<style type='text/css'>\n",
       ".datatable table.frame { margin-bottom: 0; }\n",
       ".datatable table.frame thead { border-bottom: none; }\n",
       ".datatable table.frame tr.coltypes td {  color: #FFFFFF;  line-height: 6px;  padding: 0 0.5em;}\n",
       ".datatable .bool    { background: #DDDD99; }\n",
       ".datatable .object  { background: #565656; }\n",
       ".datatable .int     { background: #5D9E5D; }\n",
       ".datatable .float   { background: #4040CC; }\n",
       ".datatable .str     { background: #CC4040; }\n",
       ".datatable .row_index {  background: var(--jp-border-color3);  border-right: 1px solid var(--jp-border-color0);  color: var(--jp-ui-font-color3);  font-size: 9px;}\n",
       ".datatable .frame tr.coltypes .row_index {  background: var(--jp-border-color0);}\n",
       ".datatable th:nth-child(2) { padding-left: 12px; }\n",
       ".datatable .hellipsis {  color: var(--jp-cell-editor-border-color);}\n",
       ".datatable .vellipsis {  background: var(--jp-layout-color0);  color: var(--jp-cell-editor-border-color);}\n",
       ".datatable .na {  color: var(--jp-cell-editor-border-color);  font-size: 80%;}\n",
       ".datatable .footer { font-size: 9px; }\n",
       ".datatable .frame_dimensions {  background: var(--jp-border-color3);  border-top: 1px solid var(--jp-border-color0);  color: var(--jp-ui-font-color3);  display: inline-block;  opacity: 0.6;  padding: 1px 10px 1px 5px;}\n",
       "</style>\n"
      ],
      "text/plain": [
       "<IPython.core.display.HTML object>"
      ]
     },
     "metadata": {},
     "output_type": "display_data"
    }
   ],
   "source": [
    "import gc\n",
    "import pickle\n",
    "import numpy as np\n",
    "import pandas as pd\n",
    "import lightgbm as lgb\n",
    "from sklearn.metrics import log_loss\n",
    "from sklearn.model_selection import StratifiedKFold"
   ]
  },
  {
   "cell_type": "markdown",
   "metadata": {
    "id": "hg85SpW-S6hl",
    "papermill": {
     "duration": 0.014658,
     "end_time": "2021-05-24T04:09:05.518228",
     "exception": false,
     "start_time": "2021-05-24T04:09:05.503570",
     "status": "completed"
    },
    "tags": []
   },
   "source": [
    "## Prepare data for model training"
   ]
  },
  {
   "cell_type": "code",
   "execution_count": 2,
   "metadata": {
    "execution": {
     "iopub.execute_input": "2021-05-24T04:09:05.550132Z",
     "iopub.status.busy": "2021-05-24T04:09:05.549288Z",
     "iopub.status.idle": "2021-05-24T04:09:16.863214Z",
     "shell.execute_reply": "2021-05-24T04:09:16.862575Z",
     "shell.execute_reply.started": "2021-05-23T04:52:59.680012Z"
    },
    "executionInfo": {
     "elapsed": 15266,
     "status": "ok",
     "timestamp": 1616326759527,
     "user": {
      "displayName": "TAPAS DAS",
      "photoUrl": "https://lh3.googleusercontent.com/a-/AOh14GiyffdGKiPCR_UwVittzTcbBFms70IkGfU15fatCA=s64",
      "userId": "10798398878324948542"
     },
     "user_tz": -330
    },
    "id": "VdhgoIAmSUxK",
    "outputId": "593389e9-9839-415d-bc72-10af58db79f5",
    "papermill": {
     "duration": 11.331933,
     "end_time": "2021-05-24T04:09:16.863379",
     "exception": false,
     "start_time": "2021-05-24T04:09:05.531446",
     "status": "completed"
    },
    "tags": []
   },
   "outputs": [
    {
     "data": {
      "text/plain": [
       "0"
      ]
     },
     "execution_count": 2,
     "metadata": {},
     "output_type": "execute_result"
    }
   ],
   "source": [
    "with open(\"../input/tps-may-data-preprocess/TPS_May_Dataset_w_Quantile.txt\", 'rb') as handle: \n",
    "    data = handle.read()\n",
    "\n",
    "processed_data = pickle.loads(data)\n",
    "train_df = processed_data['train_df']\n",
    "test_df = processed_data['test_df']\n",
    "\n",
    "del processed_data\n",
    "gc.collect()"
   ]
  },
  {
   "cell_type": "code",
   "execution_count": 3,
   "metadata": {
    "execution": {
     "iopub.execute_input": "2021-05-24T04:09:16.914724Z",
     "iopub.status.busy": "2021-05-24T04:09:16.906857Z",
     "iopub.status.idle": "2021-05-24T04:09:17.277040Z",
     "shell.execute_reply": "2021-05-24T04:09:17.276086Z",
     "shell.execute_reply.started": "2021-05-23T04:53:09.446632Z"
    },
    "papermill": {
     "duration": 0.400753,
     "end_time": "2021-05-24T04:09:17.277204",
     "exception": false,
     "start_time": "2021-05-24T04:09:16.876451",
     "status": "completed"
    },
    "tags": []
   },
   "outputs": [
    {
     "name": "stdout",
     "output_type": "stream",
     "text": [
      "[0, 2, 5, 9, 10, 11, 12, 13, 17, 18, 22, 29, 36, 37, 44]\n"
     ]
    }
   ],
   "source": [
    "cat_cols = ['feature_0','feature_2','feature_5','feature_9','feature_10','feature_11',\n",
    "            'feature_12','feature_13','feature_17','feature_18','feature_22',\n",
    "            'feature_29','feature_36','feature_37','feature_44']\n",
    "\n",
    "train_df[cat_cols] = train_df[cat_cols].astype(int)\n",
    "test_df[cat_cols] = test_df[cat_cols].astype(int)\n",
    "cat_cols_indices = [train_df.columns.get_loc(col) for col in cat_cols]\n",
    "print(cat_cols_indices)"
   ]
  },
  {
   "cell_type": "code",
   "execution_count": 4,
   "metadata": {
    "execution": {
     "iopub.execute_input": "2021-05-24T04:09:17.564898Z",
     "iopub.status.busy": "2021-05-24T04:09:17.564167Z",
     "iopub.status.idle": "2021-05-24T04:09:18.137038Z",
     "shell.execute_reply": "2021-05-24T04:09:18.137488Z",
     "shell.execute_reply.started": "2021-05-23T04:53:09.844432Z"
    },
    "papermill": {
     "duration": 0.846093,
     "end_time": "2021-05-24T04:09:18.137676",
     "exception": false,
     "start_time": "2021-05-24T04:09:17.291583",
     "status": "completed"
    },
    "tags": []
   },
   "outputs": [
    {
     "name": "stdout",
     "output_type": "stream",
     "text": [
      "Xtrain: (99918, 951) \n",
      "Ytrain: (99918,) \n",
      "Ytrain_oh: (99918, 4) \n",
      "Xtest: (50000, 951)\n"
     ]
    },
    {
     "data": {
      "text/plain": [
       "20"
      ]
     },
     "execution_count": 4,
     "metadata": {},
     "output_type": "execute_result"
    }
   ],
   "source": [
    "Xtrain = train_df.loc[:, train_df.columns != 'target'].values\n",
    "Ytrain = train_df['target'].values\n",
    "Ytrain_oh = pd.get_dummies(train_df['target']).values\n",
    "Xtest = test_df.values\n",
    "\n",
    "print(\"Xtrain: {} \\nYtrain: {} \\nYtrain_oh: {} \\nXtest: {}\".format(Xtrain.shape, Ytrain.shape, \n",
    "                                                                   Ytrain_oh.shape, Xtest.shape))\n",
    "\n",
    "del train_df\n",
    "del test_df\n",
    "gc.collect()"
   ]
  },
  {
   "cell_type": "markdown",
   "metadata": {
    "id": "9wNC5rWEVnjd",
    "papermill": {
     "duration": 0.01308,
     "end_time": "2021-05-24T04:09:18.164256",
     "exception": false,
     "start_time": "2021-05-24T04:09:18.151176",
     "status": "completed"
    },
    "tags": []
   },
   "source": [
    "## Build and validate the model"
   ]
  },
  {
   "cell_type": "code",
   "execution_count": 5,
   "metadata": {
    "execution": {
     "iopub.execute_input": "2021-05-24T04:09:18.198472Z",
     "iopub.status.busy": "2021-05-24T04:09:18.197828Z",
     "iopub.status.idle": "2021-05-24T04:09:18.201184Z",
     "shell.execute_reply": "2021-05-24T04:09:18.200551Z",
     "shell.execute_reply.started": "2021-05-23T05:15:35.05018Z"
    },
    "papermill": {
     "duration": 0.023707,
     "end_time": "2021-05-24T04:09:18.201330",
     "exception": false,
     "start_time": "2021-05-24T04:09:18.177623",
     "status": "completed"
    },
    "tags": []
   },
   "outputs": [],
   "source": [
    "params = {}\n",
    "params[\"objective\"] = 'multiclass'\n",
    "params['metric'] = 'multi_logloss'\n",
    "params['boosting'] = 'gbdt'\n",
    "#params[\"device_type\"] = 'gpu'\n",
    "params['num_class'] = 4\n",
    "params['is_unbalance'] = True\n",
    "params[\"learning_rate\"] = 0.02\n",
    "params[\"lambda_l2\"] = 0.0256\n",
    "params[\"num_leaves\"] = 52\n",
    "#params[\"max_depth\"] = 10\n",
    "params[\"feature_fraction\"] = 0.503\n",
    "params[\"bagging_fraction\"] = 0.741\n",
    "params[\"bagging_freq\"] = 12\n",
    "params[\"bagging_seed\"] = 10\n",
    "params[\"min_data_in_leaf\"] = 10\n",
    "params[\"verbosity\"] = -1\n",
    "num_rounds = 5000"
   ]
  },
  {
   "cell_type": "code",
   "execution_count": 6,
   "metadata": {
    "execution": {
     "iopub.execute_input": "2021-05-24T04:09:18.242637Z",
     "iopub.status.busy": "2021-05-24T04:09:18.237068Z",
     "iopub.status.idle": "2021-05-24T05:04:48.727712Z",
     "shell.execute_reply": "2021-05-24T05:04:48.728252Z",
     "shell.execute_reply.started": "2021-05-23T05:15:36.268759Z"
    },
    "executionInfo": {
     "elapsed": 226745,
     "status": "error",
     "timestamp": 1616326997825,
     "user": {
      "displayName": "TAPAS DAS",
      "photoUrl": "https://lh3.googleusercontent.com/a-/AOh14GiyffdGKiPCR_UwVittzTcbBFms70IkGfU15fatCA=s64",
      "userId": "10798398878324948542"
     },
     "user_tz": -330
    },
    "id": "uWPosEORSVBp",
    "outputId": "ecad76e6-e82d-4e4a-ef18-937bc0235495",
    "papermill": {
     "duration": 3330.514075,
     "end_time": "2021-05-24T05:04:48.728611",
     "exception": false,
     "start_time": "2021-05-24T04:09:18.214536",
     "status": "completed"
    },
    "tags": []
   },
   "outputs": [
    {
     "name": "stderr",
     "output_type": "stream",
     "text": [
      "/opt/conda/lib/python3.7/site-packages/lightgbm/basic.py:1706: UserWarning: categorical_feature in Dataset is overridden.\n",
      "New categorical_feature is [0, 2, 5, 9, 10, 11, 12, 13, 17, 18, 22, 29, 36, 37, 44]\n",
      "  'New categorical_feature is {}'.format(sorted(list(categorical_feature))))\n",
      "/opt/conda/lib/python3.7/site-packages/lightgbm/basic.py:1433: UserWarning: Overriding the parameters from Reference Dataset.\n",
      "  _log_warning('Overriding the parameters from Reference Dataset.')\n",
      "/opt/conda/lib/python3.7/site-packages/lightgbm/basic.py:1245: UserWarning: categorical_column in param dict is overridden.\n",
      "  _log_warning('{} in param dict is overridden.'.format(cat_alias))\n"
     ]
    },
    {
     "name": "stdout",
     "output_type": "stream",
     "text": [
      "Training until validation scores don't improve for 200 rounds\n",
      "[100]\ttraining's multi_logloss: 1.07308\tvalid_1's multi_logloss: 1.09851\n",
      "[200]\ttraining's multi_logloss: 1.04479\tvalid_1's multi_logloss: 1.09374\n",
      "[300]\ttraining's multi_logloss: 1.02227\tvalid_1's multi_logloss: 1.09248\n",
      "[400]\ttraining's multi_logloss: 1.00283\tvalid_1's multi_logloss: 1.09263\n",
      "[500]\ttraining's multi_logloss: 0.985113\tvalid_1's multi_logloss: 1.0931\n",
      "Early stopping, best iteration is:\n",
      "[306]\ttraining's multi_logloss: 1.02101\tvalid_1's multi_logloss: 1.09239\n",
      "Seed-24 | Fold-0 | OOF Score: 1.0923912573461216\n"
     ]
    },
    {
     "name": "stderr",
     "output_type": "stream",
     "text": [
      "/opt/conda/lib/python3.7/site-packages/lightgbm/basic.py:1706: UserWarning: categorical_feature in Dataset is overridden.\n",
      "New categorical_feature is [0, 2, 5, 9, 10, 11, 12, 13, 17, 18, 22, 29, 36, 37, 44]\n",
      "  'New categorical_feature is {}'.format(sorted(list(categorical_feature))))\n",
      "/opt/conda/lib/python3.7/site-packages/lightgbm/basic.py:1433: UserWarning: Overriding the parameters from Reference Dataset.\n",
      "  _log_warning('Overriding the parameters from Reference Dataset.')\n",
      "/opt/conda/lib/python3.7/site-packages/lightgbm/basic.py:1245: UserWarning: categorical_column in param dict is overridden.\n",
      "  _log_warning('{} in param dict is overridden.'.format(cat_alias))\n"
     ]
    },
    {
     "name": "stdout",
     "output_type": "stream",
     "text": [
      "Training until validation scores don't improve for 200 rounds\n",
      "[100]\ttraining's multi_logloss: 1.07299\tvalid_1's multi_logloss: 1.09891\n",
      "[200]\ttraining's multi_logloss: 1.04471\tvalid_1's multi_logloss: 1.09334\n",
      "[300]\ttraining's multi_logloss: 1.02221\tvalid_1's multi_logloss: 1.09152\n",
      "[400]\ttraining's multi_logloss: 1.00258\tvalid_1's multi_logloss: 1.09146\n",
      "[500]\ttraining's multi_logloss: 0.985229\tvalid_1's multi_logloss: 1.09151\n",
      "[600]\ttraining's multi_logloss: 0.968644\tvalid_1's multi_logloss: 1.09131\n",
      "[700]\ttraining's multi_logloss: 0.953276\tvalid_1's multi_logloss: 1.09196\n",
      "Early stopping, best iteration is:\n",
      "[546]\ttraining's multi_logloss: 0.977495\tvalid_1's multi_logloss: 1.09118\n",
      "Seed-24 | Fold-1 | OOF Score: 1.0911784213439766\n"
     ]
    },
    {
     "name": "stderr",
     "output_type": "stream",
     "text": [
      "/opt/conda/lib/python3.7/site-packages/lightgbm/basic.py:1706: UserWarning: categorical_feature in Dataset is overridden.\n",
      "New categorical_feature is [0, 2, 5, 9, 10, 11, 12, 13, 17, 18, 22, 29, 36, 37, 44]\n",
      "  'New categorical_feature is {}'.format(sorted(list(categorical_feature))))\n",
      "/opt/conda/lib/python3.7/site-packages/lightgbm/basic.py:1433: UserWarning: Overriding the parameters from Reference Dataset.\n",
      "  _log_warning('Overriding the parameters from Reference Dataset.')\n",
      "/opt/conda/lib/python3.7/site-packages/lightgbm/basic.py:1245: UserWarning: categorical_column in param dict is overridden.\n",
      "  _log_warning('{} in param dict is overridden.'.format(cat_alias))\n"
     ]
    },
    {
     "name": "stdout",
     "output_type": "stream",
     "text": [
      "Training until validation scores don't improve for 200 rounds\n",
      "[100]\ttraining's multi_logloss: 1.0727\tvalid_1's multi_logloss: 1.10056\n",
      "[200]\ttraining's multi_logloss: 1.04427\tvalid_1's multi_logloss: 1.09657\n",
      "[300]\ttraining's multi_logloss: 1.0218\tvalid_1's multi_logloss: 1.09605\n",
      "[400]\ttraining's multi_logloss: 1.00219\tvalid_1's multi_logloss: 1.09644\n",
      "Early stopping, best iteration is:\n",
      "[297]\ttraining's multi_logloss: 1.02244\tvalid_1's multi_logloss: 1.09602\n",
      "Seed-24 | Fold-2 | OOF Score: 1.0960168566564652\n"
     ]
    },
    {
     "name": "stderr",
     "output_type": "stream",
     "text": [
      "/opt/conda/lib/python3.7/site-packages/lightgbm/basic.py:1706: UserWarning: categorical_feature in Dataset is overridden.\n",
      "New categorical_feature is [0, 2, 5, 9, 10, 11, 12, 13, 17, 18, 22, 29, 36, 37, 44]\n",
      "  'New categorical_feature is {}'.format(sorted(list(categorical_feature))))\n",
      "/opt/conda/lib/python3.7/site-packages/lightgbm/basic.py:1433: UserWarning: Overriding the parameters from Reference Dataset.\n",
      "  _log_warning('Overriding the parameters from Reference Dataset.')\n",
      "/opt/conda/lib/python3.7/site-packages/lightgbm/basic.py:1245: UserWarning: categorical_column in param dict is overridden.\n",
      "  _log_warning('{} in param dict is overridden.'.format(cat_alias))\n"
     ]
    },
    {
     "name": "stdout",
     "output_type": "stream",
     "text": [
      "Training until validation scores don't improve for 200 rounds\n",
      "[100]\ttraining's multi_logloss: 1.07324\tvalid_1's multi_logloss: 1.09752\n",
      "[200]\ttraining's multi_logloss: 1.0451\tvalid_1's multi_logloss: 1.09202\n",
      "[300]\ttraining's multi_logloss: 1.02271\tvalid_1's multi_logloss: 1.08991\n",
      "[400]\ttraining's multi_logloss: 1.00322\tvalid_1's multi_logloss: 1.08975\n",
      "[500]\ttraining's multi_logloss: 0.985602\tvalid_1's multi_logloss: 1.08959\n",
      "Early stopping, best iteration is:\n",
      "[328]\ttraining's multi_logloss: 1.01706\tvalid_1's multi_logloss: 1.08948\n",
      "Seed-24 | Fold-3 | OOF Score: 1.0894806373797181\n"
     ]
    },
    {
     "name": "stderr",
     "output_type": "stream",
     "text": [
      "/opt/conda/lib/python3.7/site-packages/lightgbm/basic.py:1706: UserWarning: categorical_feature in Dataset is overridden.\n",
      "New categorical_feature is [0, 2, 5, 9, 10, 11, 12, 13, 17, 18, 22, 29, 36, 37, 44]\n",
      "  'New categorical_feature is {}'.format(sorted(list(categorical_feature))))\n",
      "/opt/conda/lib/python3.7/site-packages/lightgbm/basic.py:1433: UserWarning: Overriding the parameters from Reference Dataset.\n",
      "  _log_warning('Overriding the parameters from Reference Dataset.')\n",
      "/opt/conda/lib/python3.7/site-packages/lightgbm/basic.py:1245: UserWarning: categorical_column in param dict is overridden.\n",
      "  _log_warning('{} in param dict is overridden.'.format(cat_alias))\n"
     ]
    },
    {
     "name": "stdout",
     "output_type": "stream",
     "text": [
      "Training until validation scores don't improve for 200 rounds\n",
      "[100]\ttraining's multi_logloss: 1.07294\tvalid_1's multi_logloss: 1.0996\n",
      "[200]\ttraining's multi_logloss: 1.04483\tvalid_1's multi_logloss: 1.0949\n",
      "[300]\ttraining's multi_logloss: 1.02235\tvalid_1's multi_logloss: 1.09373\n",
      "[400]\ttraining's multi_logloss: 1.00289\tvalid_1's multi_logloss: 1.09392\n",
      "[500]\ttraining's multi_logloss: 0.985381\tvalid_1's multi_logloss: 1.09456\n",
      "Early stopping, best iteration is:\n",
      "[342]\ttraining's multi_logloss: 1.01391\tvalid_1's multi_logloss: 1.09357\n",
      "Seed-24 | Fold-4 | OOF Score: 1.0935693364828991\n"
     ]
    },
    {
     "name": "stderr",
     "output_type": "stream",
     "text": [
      "/opt/conda/lib/python3.7/site-packages/lightgbm/basic.py:1706: UserWarning: categorical_feature in Dataset is overridden.\n",
      "New categorical_feature is [0, 2, 5, 9, 10, 11, 12, 13, 17, 18, 22, 29, 36, 37, 44]\n",
      "  'New categorical_feature is {}'.format(sorted(list(categorical_feature))))\n",
      "/opt/conda/lib/python3.7/site-packages/lightgbm/basic.py:1433: UserWarning: Overriding the parameters from Reference Dataset.\n",
      "  _log_warning('Overriding the parameters from Reference Dataset.')\n",
      "/opt/conda/lib/python3.7/site-packages/lightgbm/basic.py:1245: UserWarning: categorical_column in param dict is overridden.\n",
      "  _log_warning('{} in param dict is overridden.'.format(cat_alias))\n"
     ]
    },
    {
     "name": "stdout",
     "output_type": "stream",
     "text": [
      "Training until validation scores don't improve for 200 rounds\n",
      "[100]\ttraining's multi_logloss: 1.07289\tvalid_1's multi_logloss: 1.10012\n",
      "[200]\ttraining's multi_logloss: 1.04457\tvalid_1's multi_logloss: 1.09575\n",
      "[300]\ttraining's multi_logloss: 1.02216\tvalid_1's multi_logloss: 1.09436\n",
      "[400]\ttraining's multi_logloss: 1.00269\tvalid_1's multi_logloss: 1.09436\n",
      "[500]\ttraining's multi_logloss: 0.98504\tvalid_1's multi_logloss: 1.09486\n",
      "Early stopping, best iteration is:\n",
      "[389]\ttraining's multi_logloss: 1.00469\tvalid_1's multi_logloss: 1.09425\n",
      "Seed-24 | Fold-5 | OOF Score: 1.0942463857715476\n"
     ]
    },
    {
     "name": "stderr",
     "output_type": "stream",
     "text": [
      "/opt/conda/lib/python3.7/site-packages/lightgbm/basic.py:1706: UserWarning: categorical_feature in Dataset is overridden.\n",
      "New categorical_feature is [0, 2, 5, 9, 10, 11, 12, 13, 17, 18, 22, 29, 36, 37, 44]\n",
      "  'New categorical_feature is {}'.format(sorted(list(categorical_feature))))\n",
      "/opt/conda/lib/python3.7/site-packages/lightgbm/basic.py:1433: UserWarning: Overriding the parameters from Reference Dataset.\n",
      "  _log_warning('Overriding the parameters from Reference Dataset.')\n",
      "/opt/conda/lib/python3.7/site-packages/lightgbm/basic.py:1245: UserWarning: categorical_column in param dict is overridden.\n",
      "  _log_warning('{} in param dict is overridden.'.format(cat_alias))\n"
     ]
    },
    {
     "name": "stdout",
     "output_type": "stream",
     "text": [
      "Training until validation scores don't improve for 200 rounds\n",
      "[100]\ttraining's multi_logloss: 1.07304\tvalid_1's multi_logloss: 1.09895\n",
      "[200]\ttraining's multi_logloss: 1.0448\tvalid_1's multi_logloss: 1.09358\n",
      "[300]\ttraining's multi_logloss: 1.02229\tvalid_1's multi_logloss: 1.0922\n",
      "[400]\ttraining's multi_logloss: 1.00274\tvalid_1's multi_logloss: 1.09234\n",
      "[500]\ttraining's multi_logloss: 0.985014\tvalid_1's multi_logloss: 1.09249\n",
      "Early stopping, best iteration is:\n",
      "[367]\ttraining's multi_logloss: 1.00898\tvalid_1's multi_logloss: 1.09205\n",
      "Seed-24 | Fold-6 | OOF Score: 1.0920511302521705\n"
     ]
    },
    {
     "name": "stderr",
     "output_type": "stream",
     "text": [
      "/opt/conda/lib/python3.7/site-packages/lightgbm/basic.py:1706: UserWarning: categorical_feature in Dataset is overridden.\n",
      "New categorical_feature is [0, 2, 5, 9, 10, 11, 12, 13, 17, 18, 22, 29, 36, 37, 44]\n",
      "  'New categorical_feature is {}'.format(sorted(list(categorical_feature))))\n",
      "/opt/conda/lib/python3.7/site-packages/lightgbm/basic.py:1433: UserWarning: Overriding the parameters from Reference Dataset.\n",
      "  _log_warning('Overriding the parameters from Reference Dataset.')\n",
      "/opt/conda/lib/python3.7/site-packages/lightgbm/basic.py:1245: UserWarning: categorical_column in param dict is overridden.\n",
      "  _log_warning('{} in param dict is overridden.'.format(cat_alias))\n"
     ]
    },
    {
     "name": "stdout",
     "output_type": "stream",
     "text": [
      "Training until validation scores don't improve for 200 rounds\n",
      "[100]\ttraining's multi_logloss: 1.07282\tvalid_1's multi_logloss: 1.09943\n",
      "[200]\ttraining's multi_logloss: 1.04442\tvalid_1's multi_logloss: 1.09503\n",
      "[300]\ttraining's multi_logloss: 1.0219\tvalid_1's multi_logloss: 1.09321\n",
      "[400]\ttraining's multi_logloss: 1.00238\tvalid_1's multi_logloss: 1.09331\n",
      "[500]\ttraining's multi_logloss: 0.984503\tvalid_1's multi_logloss: 1.09332\n",
      "Early stopping, best iteration is:\n",
      "[329]\ttraining's multi_logloss: 1.01595\tvalid_1's multi_logloss: 1.09298\n",
      "Seed-24 | Fold-7 | OOF Score: 1.0929840801439932\n"
     ]
    },
    {
     "name": "stderr",
     "output_type": "stream",
     "text": [
      "/opt/conda/lib/python3.7/site-packages/lightgbm/basic.py:1706: UserWarning: categorical_feature in Dataset is overridden.\n",
      "New categorical_feature is [0, 2, 5, 9, 10, 11, 12, 13, 17, 18, 22, 29, 36, 37, 44]\n",
      "  'New categorical_feature is {}'.format(sorted(list(categorical_feature))))\n",
      "/opt/conda/lib/python3.7/site-packages/lightgbm/basic.py:1433: UserWarning: Overriding the parameters from Reference Dataset.\n",
      "  _log_warning('Overriding the parameters from Reference Dataset.')\n",
      "/opt/conda/lib/python3.7/site-packages/lightgbm/basic.py:1245: UserWarning: categorical_column in param dict is overridden.\n",
      "  _log_warning('{} in param dict is overridden.'.format(cat_alias))\n"
     ]
    },
    {
     "name": "stdout",
     "output_type": "stream",
     "text": [
      "Training until validation scores don't improve for 200 rounds\n",
      "[100]\ttraining's multi_logloss: 1.07313\tvalid_1's multi_logloss: 1.09844\n",
      "[200]\ttraining's multi_logloss: 1.04491\tvalid_1's multi_logloss: 1.09262\n",
      "[300]\ttraining's multi_logloss: 1.02251\tvalid_1's multi_logloss: 1.09091\n",
      "[400]\ttraining's multi_logloss: 1.00287\tvalid_1's multi_logloss: 1.09119\n",
      "[500]\ttraining's multi_logloss: 0.98501\tvalid_1's multi_logloss: 1.09109\n",
      "Early stopping, best iteration is:\n",
      "[302]\ttraining's multi_logloss: 1.02208\tvalid_1's multi_logloss: 1.09087\n",
      "Seed-24 | Fold-8 | OOF Score: 1.0908732061816035\n"
     ]
    },
    {
     "name": "stderr",
     "output_type": "stream",
     "text": [
      "/opt/conda/lib/python3.7/site-packages/lightgbm/basic.py:1706: UserWarning: categorical_feature in Dataset is overridden.\n",
      "New categorical_feature is [0, 2, 5, 9, 10, 11, 12, 13, 17, 18, 22, 29, 36, 37, 44]\n",
      "  'New categorical_feature is {}'.format(sorted(list(categorical_feature))))\n",
      "/opt/conda/lib/python3.7/site-packages/lightgbm/basic.py:1433: UserWarning: Overriding the parameters from Reference Dataset.\n",
      "  _log_warning('Overriding the parameters from Reference Dataset.')\n",
      "/opt/conda/lib/python3.7/site-packages/lightgbm/basic.py:1245: UserWarning: categorical_column in param dict is overridden.\n",
      "  _log_warning('{} in param dict is overridden.'.format(cat_alias))\n"
     ]
    },
    {
     "name": "stdout",
     "output_type": "stream",
     "text": [
      "Training until validation scores don't improve for 200 rounds\n",
      "[100]\ttraining's multi_logloss: 1.07271\tvalid_1's multi_logloss: 1.09992\n",
      "[200]\ttraining's multi_logloss: 1.04424\tvalid_1's multi_logloss: 1.09542\n",
      "[300]\ttraining's multi_logloss: 1.02175\tvalid_1's multi_logloss: 1.0946\n",
      "[400]\ttraining's multi_logloss: 1.0022\tvalid_1's multi_logloss: 1.09465\n",
      "[500]\ttraining's multi_logloss: 0.984427\tvalid_1's multi_logloss: 1.09528\n",
      "Early stopping, best iteration is:\n",
      "[341]\ttraining's multi_logloss: 1.01333\tvalid_1's multi_logloss: 1.09453\n",
      "Seed-24 | Fold-9 | OOF Score: 1.0945258599928105\n",
      "\n",
      "Seed: 24 | Aggregate OOF Score: 1.0927317171551305\n",
      "\n",
      "\n"
     ]
    },
    {
     "name": "stderr",
     "output_type": "stream",
     "text": [
      "/opt/conda/lib/python3.7/site-packages/lightgbm/basic.py:1706: UserWarning: categorical_feature in Dataset is overridden.\n",
      "New categorical_feature is [0, 2, 5, 9, 10, 11, 12, 13, 17, 18, 22, 29, 36, 37, 44]\n",
      "  'New categorical_feature is {}'.format(sorted(list(categorical_feature))))\n",
      "/opt/conda/lib/python3.7/site-packages/lightgbm/basic.py:1433: UserWarning: Overriding the parameters from Reference Dataset.\n",
      "  _log_warning('Overriding the parameters from Reference Dataset.')\n",
      "/opt/conda/lib/python3.7/site-packages/lightgbm/basic.py:1245: UserWarning: categorical_column in param dict is overridden.\n",
      "  _log_warning('{} in param dict is overridden.'.format(cat_alias))\n"
     ]
    },
    {
     "name": "stdout",
     "output_type": "stream",
     "text": [
      "Training until validation scores don't improve for 200 rounds\n",
      "[100]\ttraining's multi_logloss: 1.0729\tvalid_1's multi_logloss: 1.09842\n",
      "[200]\ttraining's multi_logloss: 1.04466\tvalid_1's multi_logloss: 1.09307\n",
      "[300]\ttraining's multi_logloss: 1.02209\tvalid_1's multi_logloss: 1.09156\n",
      "[400]\ttraining's multi_logloss: 1.00266\tvalid_1's multi_logloss: 1.0916\n",
      "[500]\ttraining's multi_logloss: 0.984888\tvalid_1's multi_logloss: 1.09158\n",
      "[600]\ttraining's multi_logloss: 0.968585\tvalid_1's multi_logloss: 1.09235\n",
      "Early stopping, best iteration is:\n",
      "[446]\ttraining's multi_logloss: 0.994053\tvalid_1's multi_logloss: 1.09138\n",
      "Seed-3 | Fold-0 | OOF Score: 1.0913817739612948\n"
     ]
    },
    {
     "name": "stderr",
     "output_type": "stream",
     "text": [
      "/opt/conda/lib/python3.7/site-packages/lightgbm/basic.py:1706: UserWarning: categorical_feature in Dataset is overridden.\n",
      "New categorical_feature is [0, 2, 5, 9, 10, 11, 12, 13, 17, 18, 22, 29, 36, 37, 44]\n",
      "  'New categorical_feature is {}'.format(sorted(list(categorical_feature))))\n",
      "/opt/conda/lib/python3.7/site-packages/lightgbm/basic.py:1433: UserWarning: Overriding the parameters from Reference Dataset.\n",
      "  _log_warning('Overriding the parameters from Reference Dataset.')\n",
      "/opt/conda/lib/python3.7/site-packages/lightgbm/basic.py:1245: UserWarning: categorical_column in param dict is overridden.\n",
      "  _log_warning('{} in param dict is overridden.'.format(cat_alias))\n"
     ]
    },
    {
     "name": "stdout",
     "output_type": "stream",
     "text": [
      "Training until validation scores don't improve for 200 rounds\n",
      "[100]\ttraining's multi_logloss: 1.07314\tvalid_1's multi_logloss: 1.0991\n",
      "[200]\ttraining's multi_logloss: 1.04486\tvalid_1's multi_logloss: 1.0938\n",
      "[300]\ttraining's multi_logloss: 1.02226\tvalid_1's multi_logloss: 1.09268\n",
      "[400]\ttraining's multi_logloss: 1.00286\tvalid_1's multi_logloss: 1.09271\n",
      "[500]\ttraining's multi_logloss: 0.985198\tvalid_1's multi_logloss: 1.09288\n",
      "Early stopping, best iteration is:\n",
      "[335]\ttraining's multi_logloss: 1.01512\tvalid_1's multi_logloss: 1.09244\n",
      "Seed-3 | Fold-1 | OOF Score: 1.092441349619549\n"
     ]
    },
    {
     "name": "stderr",
     "output_type": "stream",
     "text": [
      "/opt/conda/lib/python3.7/site-packages/lightgbm/basic.py:1706: UserWarning: categorical_feature in Dataset is overridden.\n",
      "New categorical_feature is [0, 2, 5, 9, 10, 11, 12, 13, 17, 18, 22, 29, 36, 37, 44]\n",
      "  'New categorical_feature is {}'.format(sorted(list(categorical_feature))))\n",
      "/opt/conda/lib/python3.7/site-packages/lightgbm/basic.py:1433: UserWarning: Overriding the parameters from Reference Dataset.\n",
      "  _log_warning('Overriding the parameters from Reference Dataset.')\n",
      "/opt/conda/lib/python3.7/site-packages/lightgbm/basic.py:1245: UserWarning: categorical_column in param dict is overridden.\n",
      "  _log_warning('{} in param dict is overridden.'.format(cat_alias))\n"
     ]
    },
    {
     "name": "stdout",
     "output_type": "stream",
     "text": [
      "Training until validation scores don't improve for 200 rounds\n",
      "[100]\ttraining's multi_logloss: 1.07265\tvalid_1's multi_logloss: 1.09972\n",
      "[200]\ttraining's multi_logloss: 1.04431\tvalid_1's multi_logloss: 1.09496\n",
      "[300]\ttraining's multi_logloss: 1.02211\tvalid_1's multi_logloss: 1.09397\n",
      "[400]\ttraining's multi_logloss: 1.00235\tvalid_1's multi_logloss: 1.09397\n",
      "[500]\ttraining's multi_logloss: 0.984772\tvalid_1's multi_logloss: 1.09427\n",
      "Early stopping, best iteration is:\n",
      "[313]\ttraining's multi_logloss: 1.01942\tvalid_1's multi_logloss: 1.09382\n",
      "Seed-3 | Fold-2 | OOF Score: 1.0938175472818445\n"
     ]
    },
    {
     "name": "stderr",
     "output_type": "stream",
     "text": [
      "/opt/conda/lib/python3.7/site-packages/lightgbm/basic.py:1706: UserWarning: categorical_feature in Dataset is overridden.\n",
      "New categorical_feature is [0, 2, 5, 9, 10, 11, 12, 13, 17, 18, 22, 29, 36, 37, 44]\n",
      "  'New categorical_feature is {}'.format(sorted(list(categorical_feature))))\n",
      "/opt/conda/lib/python3.7/site-packages/lightgbm/basic.py:1433: UserWarning: Overriding the parameters from Reference Dataset.\n",
      "  _log_warning('Overriding the parameters from Reference Dataset.')\n",
      "/opt/conda/lib/python3.7/site-packages/lightgbm/basic.py:1245: UserWarning: categorical_column in param dict is overridden.\n",
      "  _log_warning('{} in param dict is overridden.'.format(cat_alias))\n"
     ]
    },
    {
     "name": "stdout",
     "output_type": "stream",
     "text": [
      "Training until validation scores don't improve for 200 rounds\n",
      "[100]\ttraining's multi_logloss: 1.07277\tvalid_1's multi_logloss: 1.10004\n",
      "[200]\ttraining's multi_logloss: 1.04442\tvalid_1's multi_logloss: 1.09534\n",
      "[300]\ttraining's multi_logloss: 1.02192\tvalid_1's multi_logloss: 1.09438\n",
      "[400]\ttraining's multi_logloss: 1.00241\tvalid_1's multi_logloss: 1.09458\n",
      "Early stopping, best iteration is:\n",
      "[297]\ttraining's multi_logloss: 1.02255\tvalid_1's multi_logloss: 1.09434\n",
      "Seed-3 | Fold-3 | OOF Score: 1.0943353446600463\n"
     ]
    },
    {
     "name": "stderr",
     "output_type": "stream",
     "text": [
      "/opt/conda/lib/python3.7/site-packages/lightgbm/basic.py:1706: UserWarning: categorical_feature in Dataset is overridden.\n",
      "New categorical_feature is [0, 2, 5, 9, 10, 11, 12, 13, 17, 18, 22, 29, 36, 37, 44]\n",
      "  'New categorical_feature is {}'.format(sorted(list(categorical_feature))))\n",
      "/opt/conda/lib/python3.7/site-packages/lightgbm/basic.py:1433: UserWarning: Overriding the parameters from Reference Dataset.\n",
      "  _log_warning('Overriding the parameters from Reference Dataset.')\n",
      "/opt/conda/lib/python3.7/site-packages/lightgbm/basic.py:1245: UserWarning: categorical_column in param dict is overridden.\n",
      "  _log_warning('{} in param dict is overridden.'.format(cat_alias))\n"
     ]
    },
    {
     "name": "stdout",
     "output_type": "stream",
     "text": [
      "Training until validation scores don't improve for 200 rounds\n",
      "[100]\ttraining's multi_logloss: 1.07301\tvalid_1's multi_logloss: 1.09836\n",
      "[200]\ttraining's multi_logloss: 1.04452\tvalid_1's multi_logloss: 1.09348\n",
      "[300]\ttraining's multi_logloss: 1.02172\tvalid_1's multi_logloss: 1.09244\n",
      "[400]\ttraining's multi_logloss: 1.00237\tvalid_1's multi_logloss: 1.09261\n",
      "[500]\ttraining's multi_logloss: 0.984731\tvalid_1's multi_logloss: 1.09293\n",
      "Early stopping, best iteration is:\n",
      "[304]\ttraining's multi_logloss: 1.02086\tvalid_1's multi_logloss: 1.09233\n",
      "Seed-3 | Fold-4 | OOF Score: 1.0923300297694016\n"
     ]
    },
    {
     "name": "stderr",
     "output_type": "stream",
     "text": [
      "/opt/conda/lib/python3.7/site-packages/lightgbm/basic.py:1706: UserWarning: categorical_feature in Dataset is overridden.\n",
      "New categorical_feature is [0, 2, 5, 9, 10, 11, 12, 13, 17, 18, 22, 29, 36, 37, 44]\n",
      "  'New categorical_feature is {}'.format(sorted(list(categorical_feature))))\n",
      "/opt/conda/lib/python3.7/site-packages/lightgbm/basic.py:1433: UserWarning: Overriding the parameters from Reference Dataset.\n",
      "  _log_warning('Overriding the parameters from Reference Dataset.')\n",
      "/opt/conda/lib/python3.7/site-packages/lightgbm/basic.py:1245: UserWarning: categorical_column in param dict is overridden.\n",
      "  _log_warning('{} in param dict is overridden.'.format(cat_alias))\n"
     ]
    },
    {
     "name": "stdout",
     "output_type": "stream",
     "text": [
      "Training until validation scores don't improve for 200 rounds\n",
      "[100]\ttraining's multi_logloss: 1.0727\tvalid_1's multi_logloss: 1.09981\n",
      "[200]\ttraining's multi_logloss: 1.04437\tvalid_1's multi_logloss: 1.0952\n",
      "[300]\ttraining's multi_logloss: 1.02197\tvalid_1's multi_logloss: 1.09414\n",
      "[400]\ttraining's multi_logloss: 1.00232\tvalid_1's multi_logloss: 1.09455\n",
      "[500]\ttraining's multi_logloss: 0.984713\tvalid_1's multi_logloss: 1.09522\n",
      "Early stopping, best iteration is:\n",
      "[303]\ttraining's multi_logloss: 1.02134\tvalid_1's multi_logloss: 1.0941\n",
      "Seed-3 | Fold-5 | OOF Score: 1.0941015193586543\n"
     ]
    },
    {
     "name": "stderr",
     "output_type": "stream",
     "text": [
      "/opt/conda/lib/python3.7/site-packages/lightgbm/basic.py:1706: UserWarning: categorical_feature in Dataset is overridden.\n",
      "New categorical_feature is [0, 2, 5, 9, 10, 11, 12, 13, 17, 18, 22, 29, 36, 37, 44]\n",
      "  'New categorical_feature is {}'.format(sorted(list(categorical_feature))))\n",
      "/opt/conda/lib/python3.7/site-packages/lightgbm/basic.py:1433: UserWarning: Overriding the parameters from Reference Dataset.\n",
      "  _log_warning('Overriding the parameters from Reference Dataset.')\n",
      "/opt/conda/lib/python3.7/site-packages/lightgbm/basic.py:1245: UserWarning: categorical_column in param dict is overridden.\n",
      "  _log_warning('{} in param dict is overridden.'.format(cat_alias))\n"
     ]
    },
    {
     "name": "stdout",
     "output_type": "stream",
     "text": [
      "Training until validation scores don't improve for 200 rounds\n",
      "[100]\ttraining's multi_logloss: 1.07305\tvalid_1's multi_logloss: 1.09884\n",
      "[200]\ttraining's multi_logloss: 1.04469\tvalid_1's multi_logloss: 1.09372\n",
      "[300]\ttraining's multi_logloss: 1.02226\tvalid_1's multi_logloss: 1.09282\n",
      "[400]\ttraining's multi_logloss: 1.00272\tvalid_1's multi_logloss: 1.09315\n",
      "Early stopping, best iteration is:\n",
      "[283]\ttraining's multi_logloss: 1.02585\tvalid_1's multi_logloss: 1.09273\n",
      "Seed-3 | Fold-6 | OOF Score: 1.0927292167485625\n"
     ]
    },
    {
     "name": "stderr",
     "output_type": "stream",
     "text": [
      "/opt/conda/lib/python3.7/site-packages/lightgbm/basic.py:1706: UserWarning: categorical_feature in Dataset is overridden.\n",
      "New categorical_feature is [0, 2, 5, 9, 10, 11, 12, 13, 17, 18, 22, 29, 36, 37, 44]\n",
      "  'New categorical_feature is {}'.format(sorted(list(categorical_feature))))\n",
      "/opt/conda/lib/python3.7/site-packages/lightgbm/basic.py:1433: UserWarning: Overriding the parameters from Reference Dataset.\n",
      "  _log_warning('Overriding the parameters from Reference Dataset.')\n",
      "/opt/conda/lib/python3.7/site-packages/lightgbm/basic.py:1245: UserWarning: categorical_column in param dict is overridden.\n",
      "  _log_warning('{} in param dict is overridden.'.format(cat_alias))\n"
     ]
    },
    {
     "name": "stdout",
     "output_type": "stream",
     "text": [
      "Training until validation scores don't improve for 200 rounds\n",
      "[100]\ttraining's multi_logloss: 1.07278\tvalid_1's multi_logloss: 1.09958\n",
      "[200]\ttraining's multi_logloss: 1.04475\tvalid_1's multi_logloss: 1.09511\n",
      "[300]\ttraining's multi_logloss: 1.02252\tvalid_1's multi_logloss: 1.09341\n",
      "[400]\ttraining's multi_logloss: 1.00302\tvalid_1's multi_logloss: 1.09303\n",
      "[500]\ttraining's multi_logloss: 0.985219\tvalid_1's multi_logloss: 1.09321\n",
      "[600]\ttraining's multi_logloss: 0.968755\tvalid_1's multi_logloss: 1.09384\n",
      "Early stopping, best iteration is:\n",
      "[425]\ttraining's multi_logloss: 0.998449\tvalid_1's multi_logloss: 1.09288\n",
      "Seed-3 | Fold-7 | OOF Score: 1.0928762069053837\n"
     ]
    },
    {
     "name": "stderr",
     "output_type": "stream",
     "text": [
      "/opt/conda/lib/python3.7/site-packages/lightgbm/basic.py:1706: UserWarning: categorical_feature in Dataset is overridden.\n",
      "New categorical_feature is [0, 2, 5, 9, 10, 11, 12, 13, 17, 18, 22, 29, 36, 37, 44]\n",
      "  'New categorical_feature is {}'.format(sorted(list(categorical_feature))))\n",
      "/opt/conda/lib/python3.7/site-packages/lightgbm/basic.py:1433: UserWarning: Overriding the parameters from Reference Dataset.\n",
      "  _log_warning('Overriding the parameters from Reference Dataset.')\n",
      "/opt/conda/lib/python3.7/site-packages/lightgbm/basic.py:1245: UserWarning: categorical_column in param dict is overridden.\n",
      "  _log_warning('{} in param dict is overridden.'.format(cat_alias))\n"
     ]
    },
    {
     "name": "stdout",
     "output_type": "stream",
     "text": [
      "Training until validation scores don't improve for 200 rounds\n",
      "[100]\ttraining's multi_logloss: 1.07317\tvalid_1's multi_logloss: 1.09892\n",
      "[200]\ttraining's multi_logloss: 1.04496\tvalid_1's multi_logloss: 1.09368\n",
      "[300]\ttraining's multi_logloss: 1.0226\tvalid_1's multi_logloss: 1.09225\n",
      "[400]\ttraining's multi_logloss: 1.00298\tvalid_1's multi_logloss: 1.09223\n",
      "[500]\ttraining's multi_logloss: 0.985533\tvalid_1's multi_logloss: 1.09247\n",
      "[600]\ttraining's multi_logloss: 0.969374\tvalid_1's multi_logloss: 1.09315\n",
      "Early stopping, best iteration is:\n",
      "[406]\ttraining's multi_logloss: 1.00186\tvalid_1's multi_logloss: 1.09219\n",
      "Seed-3 | Fold-8 | OOF Score: 1.0921854740825463\n"
     ]
    },
    {
     "name": "stderr",
     "output_type": "stream",
     "text": [
      "/opt/conda/lib/python3.7/site-packages/lightgbm/basic.py:1706: UserWarning: categorical_feature in Dataset is overridden.\n",
      "New categorical_feature is [0, 2, 5, 9, 10, 11, 12, 13, 17, 18, 22, 29, 36, 37, 44]\n",
      "  'New categorical_feature is {}'.format(sorted(list(categorical_feature))))\n",
      "/opt/conda/lib/python3.7/site-packages/lightgbm/basic.py:1433: UserWarning: Overriding the parameters from Reference Dataset.\n",
      "  _log_warning('Overriding the parameters from Reference Dataset.')\n",
      "/opt/conda/lib/python3.7/site-packages/lightgbm/basic.py:1245: UserWarning: categorical_column in param dict is overridden.\n",
      "  _log_warning('{} in param dict is overridden.'.format(cat_alias))\n"
     ]
    },
    {
     "name": "stdout",
     "output_type": "stream",
     "text": [
      "Training until validation scores don't improve for 200 rounds\n",
      "[100]\ttraining's multi_logloss: 1.07297\tvalid_1's multi_logloss: 1.09962\n",
      "[200]\ttraining's multi_logloss: 1.0446\tvalid_1's multi_logloss: 1.09472\n",
      "[300]\ttraining's multi_logloss: 1.02216\tvalid_1's multi_logloss: 1.0931\n",
      "[400]\ttraining's multi_logloss: 1.00252\tvalid_1's multi_logloss: 1.09323\n",
      "[500]\ttraining's multi_logloss: 0.984821\tvalid_1's multi_logloss: 1.09421\n",
      "Early stopping, best iteration is:\n",
      "[380]\ttraining's multi_logloss: 1.00629\tvalid_1's multi_logloss: 1.09299\n",
      "Seed-3 | Fold-9 | OOF Score: 1.092986801855593\n",
      "\n",
      "Seed: 3 | Aggregate OOF Score: 1.0929185264242876\n",
      "\n",
      "\n"
     ]
    },
    {
     "name": "stderr",
     "output_type": "stream",
     "text": [
      "/opt/conda/lib/python3.7/site-packages/lightgbm/basic.py:1706: UserWarning: categorical_feature in Dataset is overridden.\n",
      "New categorical_feature is [0, 2, 5, 9, 10, 11, 12, 13, 17, 18, 22, 29, 36, 37, 44]\n",
      "  'New categorical_feature is {}'.format(sorted(list(categorical_feature))))\n",
      "/opt/conda/lib/python3.7/site-packages/lightgbm/basic.py:1433: UserWarning: Overriding the parameters from Reference Dataset.\n",
      "  _log_warning('Overriding the parameters from Reference Dataset.')\n",
      "/opt/conda/lib/python3.7/site-packages/lightgbm/basic.py:1245: UserWarning: categorical_column in param dict is overridden.\n",
      "  _log_warning('{} in param dict is overridden.'.format(cat_alias))\n"
     ]
    },
    {
     "name": "stdout",
     "output_type": "stream",
     "text": [
      "Training until validation scores don't improve for 200 rounds\n",
      "[100]\ttraining's multi_logloss: 1.07267\tvalid_1's multi_logloss: 1.0989\n",
      "[200]\ttraining's multi_logloss: 1.04447\tvalid_1's multi_logloss: 1.09378\n",
      "[300]\ttraining's multi_logloss: 1.02199\tvalid_1's multi_logloss: 1.09247\n",
      "[400]\ttraining's multi_logloss: 1.00219\tvalid_1's multi_logloss: 1.09194\n",
      "[500]\ttraining's multi_logloss: 0.98447\tvalid_1's multi_logloss: 1.09242\n",
      "Early stopping, best iteration is:\n",
      "[393]\ttraining's multi_logloss: 1.00348\tvalid_1's multi_logloss: 1.09189\n",
      "Seed-56 | Fold-0 | OOF Score: 1.091892315007627\n"
     ]
    },
    {
     "name": "stderr",
     "output_type": "stream",
     "text": [
      "/opt/conda/lib/python3.7/site-packages/lightgbm/basic.py:1706: UserWarning: categorical_feature in Dataset is overridden.\n",
      "New categorical_feature is [0, 2, 5, 9, 10, 11, 12, 13, 17, 18, 22, 29, 36, 37, 44]\n",
      "  'New categorical_feature is {}'.format(sorted(list(categorical_feature))))\n",
      "/opt/conda/lib/python3.7/site-packages/lightgbm/basic.py:1433: UserWarning: Overriding the parameters from Reference Dataset.\n",
      "  _log_warning('Overriding the parameters from Reference Dataset.')\n",
      "/opt/conda/lib/python3.7/site-packages/lightgbm/basic.py:1245: UserWarning: categorical_column in param dict is overridden.\n",
      "  _log_warning('{} in param dict is overridden.'.format(cat_alias))\n"
     ]
    },
    {
     "name": "stdout",
     "output_type": "stream",
     "text": [
      "Training until validation scores don't improve for 200 rounds\n",
      "[100]\ttraining's multi_logloss: 1.07297\tvalid_1's multi_logloss: 1.09981\n",
      "[200]\ttraining's multi_logloss: 1.04462\tvalid_1's multi_logloss: 1.09466\n",
      "[300]\ttraining's multi_logloss: 1.02224\tvalid_1's multi_logloss: 1.09367\n",
      "[400]\ttraining's multi_logloss: 1.00243\tvalid_1's multi_logloss: 1.09359\n",
      "[500]\ttraining's multi_logloss: 0.984883\tvalid_1's multi_logloss: 1.09379\n",
      "Early stopping, best iteration is:\n",
      "[356]\ttraining's multi_logloss: 1.01077\tvalid_1's multi_logloss: 1.09345\n",
      "Seed-56 | Fold-1 | OOF Score: 1.0934496840569374\n"
     ]
    },
    {
     "name": "stderr",
     "output_type": "stream",
     "text": [
      "/opt/conda/lib/python3.7/site-packages/lightgbm/basic.py:1706: UserWarning: categorical_feature in Dataset is overridden.\n",
      "New categorical_feature is [0, 2, 5, 9, 10, 11, 12, 13, 17, 18, 22, 29, 36, 37, 44]\n",
      "  'New categorical_feature is {}'.format(sorted(list(categorical_feature))))\n",
      "/opt/conda/lib/python3.7/site-packages/lightgbm/basic.py:1433: UserWarning: Overriding the parameters from Reference Dataset.\n",
      "  _log_warning('Overriding the parameters from Reference Dataset.')\n",
      "/opt/conda/lib/python3.7/site-packages/lightgbm/basic.py:1245: UserWarning: categorical_column in param dict is overridden.\n",
      "  _log_warning('{} in param dict is overridden.'.format(cat_alias))\n"
     ]
    },
    {
     "name": "stdout",
     "output_type": "stream",
     "text": [
      "Training until validation scores don't improve for 200 rounds\n",
      "[100]\ttraining's multi_logloss: 1.07292\tvalid_1's multi_logloss: 1.09906\n",
      "[200]\ttraining's multi_logloss: 1.04463\tvalid_1's multi_logloss: 1.09457\n",
      "[300]\ttraining's multi_logloss: 1.02195\tvalid_1's multi_logloss: 1.09386\n",
      "[400]\ttraining's multi_logloss: 1.00242\tvalid_1's multi_logloss: 1.0938\n",
      "[500]\ttraining's multi_logloss: 0.984675\tvalid_1's multi_logloss: 1.09471\n",
      "Early stopping, best iteration is:\n",
      "[380]\ttraining's multi_logloss: 1.00617\tvalid_1's multi_logloss: 1.09355\n",
      "Seed-56 | Fold-2 | OOF Score: 1.093549450340459\n"
     ]
    },
    {
     "name": "stderr",
     "output_type": "stream",
     "text": [
      "/opt/conda/lib/python3.7/site-packages/lightgbm/basic.py:1706: UserWarning: categorical_feature in Dataset is overridden.\n",
      "New categorical_feature is [0, 2, 5, 9, 10, 11, 12, 13, 17, 18, 22, 29, 36, 37, 44]\n",
      "  'New categorical_feature is {}'.format(sorted(list(categorical_feature))))\n",
      "/opt/conda/lib/python3.7/site-packages/lightgbm/basic.py:1433: UserWarning: Overriding the parameters from Reference Dataset.\n",
      "  _log_warning('Overriding the parameters from Reference Dataset.')\n",
      "/opt/conda/lib/python3.7/site-packages/lightgbm/basic.py:1245: UserWarning: categorical_column in param dict is overridden.\n",
      "  _log_warning('{} in param dict is overridden.'.format(cat_alias))\n"
     ]
    },
    {
     "name": "stdout",
     "output_type": "stream",
     "text": [
      "Training until validation scores don't improve for 200 rounds\n",
      "[100]\ttraining's multi_logloss: 1.07277\tvalid_1's multi_logloss: 1.09967\n",
      "[200]\ttraining's multi_logloss: 1.04425\tvalid_1's multi_logloss: 1.09502\n",
      "[300]\ttraining's multi_logloss: 1.02161\tvalid_1's multi_logloss: 1.09439\n",
      "[400]\ttraining's multi_logloss: 1.00205\tvalid_1's multi_logloss: 1.09459\n",
      "Early stopping, best iteration is:\n",
      "[288]\ttraining's multi_logloss: 1.02421\tvalid_1's multi_logloss: 1.09435\n",
      "Seed-56 | Fold-3 | OOF Score: 1.094346844056189\n"
     ]
    },
    {
     "name": "stderr",
     "output_type": "stream",
     "text": [
      "/opt/conda/lib/python3.7/site-packages/lightgbm/basic.py:1706: UserWarning: categorical_feature in Dataset is overridden.\n",
      "New categorical_feature is [0, 2, 5, 9, 10, 11, 12, 13, 17, 18, 22, 29, 36, 37, 44]\n",
      "  'New categorical_feature is {}'.format(sorted(list(categorical_feature))))\n",
      "/opt/conda/lib/python3.7/site-packages/lightgbm/basic.py:1433: UserWarning: Overriding the parameters from Reference Dataset.\n",
      "  _log_warning('Overriding the parameters from Reference Dataset.')\n",
      "/opt/conda/lib/python3.7/site-packages/lightgbm/basic.py:1245: UserWarning: categorical_column in param dict is overridden.\n",
      "  _log_warning('{} in param dict is overridden.'.format(cat_alias))\n"
     ]
    },
    {
     "name": "stdout",
     "output_type": "stream",
     "text": [
      "Training until validation scores don't improve for 200 rounds\n",
      "[100]\ttraining's multi_logloss: 1.07336\tvalid_1's multi_logloss: 1.09681\n",
      "[200]\ttraining's multi_logloss: 1.04509\tvalid_1's multi_logloss: 1.09056\n",
      "[300]\ttraining's multi_logloss: 1.02271\tvalid_1's multi_logloss: 1.08907\n",
      "[400]\ttraining's multi_logloss: 1.00291\tvalid_1's multi_logloss: 1.08822\n",
      "[500]\ttraining's multi_logloss: 0.985266\tvalid_1's multi_logloss: 1.08858\n",
      "[600]\ttraining's multi_logloss: 0.968793\tvalid_1's multi_logloss: 1.08912\n",
      "Early stopping, best iteration is:\n",
      "[431]\ttraining's multi_logloss: 0.997245\tvalid_1's multi_logloss: 1.0881\n",
      "Seed-56 | Fold-4 | OOF Score: 1.0880967980648584\n"
     ]
    },
    {
     "name": "stderr",
     "output_type": "stream",
     "text": [
      "/opt/conda/lib/python3.7/site-packages/lightgbm/basic.py:1706: UserWarning: categorical_feature in Dataset is overridden.\n",
      "New categorical_feature is [0, 2, 5, 9, 10, 11, 12, 13, 17, 18, 22, 29, 36, 37, 44]\n",
      "  'New categorical_feature is {}'.format(sorted(list(categorical_feature))))\n",
      "/opt/conda/lib/python3.7/site-packages/lightgbm/basic.py:1433: UserWarning: Overriding the parameters from Reference Dataset.\n",
      "  _log_warning('Overriding the parameters from Reference Dataset.')\n",
      "/opt/conda/lib/python3.7/site-packages/lightgbm/basic.py:1245: UserWarning: categorical_column in param dict is overridden.\n",
      "  _log_warning('{} in param dict is overridden.'.format(cat_alias))\n"
     ]
    },
    {
     "name": "stdout",
     "output_type": "stream",
     "text": [
      "Training until validation scores don't improve for 200 rounds\n",
      "[100]\ttraining's multi_logloss: 1.07315\tvalid_1's multi_logloss: 1.0971\n",
      "[200]\ttraining's multi_logloss: 1.04519\tvalid_1's multi_logloss: 1.09173\n",
      "[300]\ttraining's multi_logloss: 1.02264\tvalid_1's multi_logloss: 1.09033\n",
      "[400]\ttraining's multi_logloss: 1.00319\tvalid_1's multi_logloss: 1.09033\n",
      "[500]\ttraining's multi_logloss: 0.985615\tvalid_1's multi_logloss: 1.09087\n",
      "Early stopping, best iteration is:\n",
      "[320]\ttraining's multi_logloss: 1.01865\tvalid_1's multi_logloss: 1.09023\n",
      "Seed-56 | Fold-5 | OOF Score: 1.0902299256673373\n"
     ]
    },
    {
     "name": "stderr",
     "output_type": "stream",
     "text": [
      "/opt/conda/lib/python3.7/site-packages/lightgbm/basic.py:1706: UserWarning: categorical_feature in Dataset is overridden.\n",
      "New categorical_feature is [0, 2, 5, 9, 10, 11, 12, 13, 17, 18, 22, 29, 36, 37, 44]\n",
      "  'New categorical_feature is {}'.format(sorted(list(categorical_feature))))\n",
      "/opt/conda/lib/python3.7/site-packages/lightgbm/basic.py:1433: UserWarning: Overriding the parameters from Reference Dataset.\n",
      "  _log_warning('Overriding the parameters from Reference Dataset.')\n",
      "/opt/conda/lib/python3.7/site-packages/lightgbm/basic.py:1245: UserWarning: categorical_column in param dict is overridden.\n",
      "  _log_warning('{} in param dict is overridden.'.format(cat_alias))\n"
     ]
    },
    {
     "name": "stdout",
     "output_type": "stream",
     "text": [
      "Training until validation scores don't improve for 200 rounds\n",
      "[100]\ttraining's multi_logloss: 1.0728\tvalid_1's multi_logloss: 1.09989\n",
      "[200]\ttraining's multi_logloss: 1.04446\tvalid_1's multi_logloss: 1.09512\n",
      "[300]\ttraining's multi_logloss: 1.02211\tvalid_1's multi_logloss: 1.09369\n",
      "[400]\ttraining's multi_logloss: 1.00246\tvalid_1's multi_logloss: 1.09325\n",
      "[500]\ttraining's multi_logloss: 0.984612\tvalid_1's multi_logloss: 1.09367\n",
      "[600]\ttraining's multi_logloss: 0.968158\tvalid_1's multi_logloss: 1.09383\n",
      "Early stopping, best iteration is:\n",
      "[412]\ttraining's multi_logloss: 1.00027\tvalid_1's multi_logloss: 1.09311\n",
      "Seed-56 | Fold-6 | OOF Score: 1.0931118947959229\n"
     ]
    },
    {
     "name": "stderr",
     "output_type": "stream",
     "text": [
      "/opt/conda/lib/python3.7/site-packages/lightgbm/basic.py:1706: UserWarning: categorical_feature in Dataset is overridden.\n",
      "New categorical_feature is [0, 2, 5, 9, 10, 11, 12, 13, 17, 18, 22, 29, 36, 37, 44]\n",
      "  'New categorical_feature is {}'.format(sorted(list(categorical_feature))))\n",
      "/opt/conda/lib/python3.7/site-packages/lightgbm/basic.py:1433: UserWarning: Overriding the parameters from Reference Dataset.\n",
      "  _log_warning('Overriding the parameters from Reference Dataset.')\n",
      "/opt/conda/lib/python3.7/site-packages/lightgbm/basic.py:1245: UserWarning: categorical_column in param dict is overridden.\n",
      "  _log_warning('{} in param dict is overridden.'.format(cat_alias))\n"
     ]
    },
    {
     "name": "stdout",
     "output_type": "stream",
     "text": [
      "Training until validation scores don't improve for 200 rounds\n",
      "[100]\ttraining's multi_logloss: 1.0728\tvalid_1's multi_logloss: 1.10026\n",
      "[200]\ttraining's multi_logloss: 1.04465\tvalid_1's multi_logloss: 1.09497\n",
      "[300]\ttraining's multi_logloss: 1.02221\tvalid_1's multi_logloss: 1.09294\n",
      "[400]\ttraining's multi_logloss: 1.0027\tvalid_1's multi_logloss: 1.09206\n",
      "[500]\ttraining's multi_logloss: 0.985155\tvalid_1's multi_logloss: 1.09238\n",
      "[600]\ttraining's multi_logloss: 0.968801\tvalid_1's multi_logloss: 1.09266\n",
      "Early stopping, best iteration is:\n",
      "[455]\ttraining's multi_logloss: 0.992901\tvalid_1's multi_logloss: 1.09186\n",
      "Seed-56 | Fold-7 | OOF Score: 1.0918572694985857\n"
     ]
    },
    {
     "name": "stderr",
     "output_type": "stream",
     "text": [
      "/opt/conda/lib/python3.7/site-packages/lightgbm/basic.py:1706: UserWarning: categorical_feature in Dataset is overridden.\n",
      "New categorical_feature is [0, 2, 5, 9, 10, 11, 12, 13, 17, 18, 22, 29, 36, 37, 44]\n",
      "  'New categorical_feature is {}'.format(sorted(list(categorical_feature))))\n",
      "/opt/conda/lib/python3.7/site-packages/lightgbm/basic.py:1433: UserWarning: Overriding the parameters from Reference Dataset.\n",
      "  _log_warning('Overriding the parameters from Reference Dataset.')\n",
      "/opt/conda/lib/python3.7/site-packages/lightgbm/basic.py:1245: UserWarning: categorical_column in param dict is overridden.\n",
      "  _log_warning('{} in param dict is overridden.'.format(cat_alias))\n"
     ]
    },
    {
     "name": "stdout",
     "output_type": "stream",
     "text": [
      "Training until validation scores don't improve for 200 rounds\n",
      "[100]\ttraining's multi_logloss: 1.07317\tvalid_1's multi_logloss: 1.09872\n",
      "[200]\ttraining's multi_logloss: 1.0447\tvalid_1's multi_logloss: 1.09325\n",
      "[300]\ttraining's multi_logloss: 1.02209\tvalid_1's multi_logloss: 1.09192\n",
      "[400]\ttraining's multi_logloss: 1.00256\tvalid_1's multi_logloss: 1.09194\n",
      "[500]\ttraining's multi_logloss: 0.98487\tvalid_1's multi_logloss: 1.09224\n",
      "Early stopping, best iteration is:\n",
      "[344]\ttraining's multi_logloss: 1.01322\tvalid_1's multi_logloss: 1.09173\n",
      "Seed-56 | Fold-8 | OOF Score: 1.0917323486550343\n"
     ]
    },
    {
     "name": "stderr",
     "output_type": "stream",
     "text": [
      "/opt/conda/lib/python3.7/site-packages/lightgbm/basic.py:1706: UserWarning: categorical_feature in Dataset is overridden.\n",
      "New categorical_feature is [0, 2, 5, 9, 10, 11, 12, 13, 17, 18, 22, 29, 36, 37, 44]\n",
      "  'New categorical_feature is {}'.format(sorted(list(categorical_feature))))\n",
      "/opt/conda/lib/python3.7/site-packages/lightgbm/basic.py:1433: UserWarning: Overriding the parameters from Reference Dataset.\n",
      "  _log_warning('Overriding the parameters from Reference Dataset.')\n",
      "/opt/conda/lib/python3.7/site-packages/lightgbm/basic.py:1245: UserWarning: categorical_column in param dict is overridden.\n",
      "  _log_warning('{} in param dict is overridden.'.format(cat_alias))\n"
     ]
    },
    {
     "name": "stdout",
     "output_type": "stream",
     "text": [
      "Training until validation scores don't improve for 200 rounds\n",
      "[100]\ttraining's multi_logloss: 1.07259\tvalid_1's multi_logloss: 1.10132\n",
      "[200]\ttraining's multi_logloss: 1.04436\tvalid_1's multi_logloss: 1.09711\n",
      "[300]\ttraining's multi_logloss: 1.02194\tvalid_1's multi_logloss: 1.09619\n",
      "[400]\ttraining's multi_logloss: 1.00225\tvalid_1's multi_logloss: 1.09661\n",
      "Early stopping, best iteration is:\n",
      "[292]\ttraining's multi_logloss: 1.02357\tvalid_1's multi_logloss: 1.09611\n",
      "Seed-56 | Fold-9 | OOF Score: 1.0961073562129975\n",
      "\n",
      "Seed: 56 | Aggregate OOF Score: 1.0924373886355947\n",
      "\n",
      "\n",
      "Aggregate OOF Score: 1.0926958774050042\n"
     ]
    }
   ],
   "source": [
    "FOLD = 10\n",
    "NUM_SEED = 3\n",
    "\n",
    "# Prediction Clipping Thresholds\n",
    "p_min = 0.025\n",
    "p_max = 1 - p_min\n",
    "\n",
    "np.random.seed(3)\n",
    "seeds = np.random.randint(0, 100, size=NUM_SEED)\n",
    "\n",
    "oof_score = 0\n",
    "y_pred_meta_lgb = np.zeros((Ytrain.shape[0], 4))\n",
    "y_pred_final_lgb = np.zeros((Xtest.shape[0], 4))\n",
    "counter = 0\n",
    "\n",
    "\n",
    "for sidx, seed in enumerate(seeds):\n",
    "    seed_score = 0\n",
    "    \n",
    "    kfold = StratifiedKFold(n_splits=FOLD, shuffle=True, random_state=seed)\n",
    "\n",
    "    for idx, (train, val) in enumerate(kfold.split(Xtrain, Ytrain)):\n",
    "        counter += 1\n",
    "\n",
    "        train_x, train_y, train_y_oh = Xtrain[train], Ytrain[train], Ytrain_oh[train]\n",
    "        val_x, val_y, val_y_oh = Xtrain[val], Ytrain[val], Ytrain_oh[val]\n",
    "\n",
    "        lgtrain = lgb.Dataset(train_x, label=train_y.ravel())\n",
    "        lgvalidation = lgb.Dataset(val_x, label=val_y.ravel())\n",
    "\n",
    "        model = lgb.train(params, lgtrain, num_rounds, \n",
    "                          valid_sets=[lgtrain, lgvalidation], \n",
    "                          categorical_feature=cat_cols_indices,\n",
    "                          early_stopping_rounds=200, verbose_eval=100)\n",
    "\n",
    "        y_pred = model.predict(val_x, num_iteration=model.best_iteration)\n",
    "        y_pred = np.clip(y_pred, p_min, p_max)\n",
    "        y_pred_meta_lgb[val] += y_pred\n",
    "        y_pred_final_lgb += model.predict(Xtest, num_iteration=model.best_iteration)\n",
    "        \n",
    "        score = log_loss(val_y_oh, y_pred)\n",
    "        oof_score += score\n",
    "        seed_score += score\n",
    "        print(\"Seed-{} | Fold-{} | OOF Score: {}\".format(seed, idx, score))\n",
    "    \n",
    "    print(\"\\nSeed: {} | Aggregate OOF Score: {}\\n\\n\".format(seed, (seed_score / FOLD)))\n",
    "\n",
    "\n",
    "y_pred_meta_lgb = y_pred_meta_lgb / float(NUM_SEED)\n",
    "y_pred_final_lgb = y_pred_final_lgb / float(counter)\n",
    "oof_score /= float(counter)\n",
    "print(\"Aggregate OOF Score: {}\".format(oof_score))"
   ]
  },
  {
   "cell_type": "code",
   "execution_count": 7,
   "metadata": {
    "execution": {
     "iopub.execute_input": "2021-05-24T05:04:48.947430Z",
     "iopub.status.busy": "2021-05-24T05:04:48.944771Z",
     "iopub.status.idle": "2021-05-24T05:04:49.210598Z",
     "shell.execute_reply": "2021-05-24T05:04:49.210026Z"
    },
    "id": "uLzmS7LzXvXy",
    "papermill": {
     "duration": 0.377978,
     "end_time": "2021-05-24T05:04:49.210801",
     "exception": false,
     "start_time": "2021-05-24T05:04:48.832823",
     "status": "completed"
    },
    "tags": []
   },
   "outputs": [],
   "source": [
    "np.savez_compressed('./LGB_Meta_Features.npz',\n",
    "                    y_pred_meta_lgb=y_pred_meta_lgb, \n",
    "                    oof_score=oof_score,\n",
    "                    y_pred_final_lgb=y_pred_final_lgb)"
   ]
  },
  {
   "cell_type": "markdown",
   "metadata": {
    "id": "nZvoU4TpWxmY",
    "papermill": {
     "duration": 0.103589,
     "end_time": "2021-05-24T05:04:49.418784",
     "exception": false,
     "start_time": "2021-05-24T05:04:49.315195",
     "status": "completed"
    },
    "tags": []
   },
   "source": [
    "## Create submission file"
   ]
  },
  {
   "cell_type": "code",
   "execution_count": 8,
   "metadata": {
    "execution": {
     "iopub.execute_input": "2021-05-24T05:04:49.634908Z",
     "iopub.status.busy": "2021-05-24T05:04:49.634255Z",
     "iopub.status.idle": "2021-05-24T05:04:49.908274Z",
     "shell.execute_reply": "2021-05-24T05:04:49.908800Z"
    },
    "executionInfo": {
     "elapsed": 1417,
     "status": "ok",
     "timestamp": 1616078535765,
     "user": {
      "displayName": "TAPAS DAS",
      "photoUrl": "https://lh3.googleusercontent.com/a-/AOh14GiyffdGKiPCR_UwVittzTcbBFms70IkGfU15fatCA=s64",
      "userId": "10798398878324948542"
     },
     "user_tz": -330
    },
    "id": "zGEGOAJHVoHV",
    "outputId": "53ab44cf-755f-435d-c1af-f4184f2114dd",
    "papermill": {
     "duration": 0.385942,
     "end_time": "2021-05-24T05:04:49.909006",
     "exception": false,
     "start_time": "2021-05-24T05:04:49.523064",
     "status": "completed"
    },
    "tags": []
   },
   "outputs": [
    {
     "data": {
      "text/html": [
       "<div>\n",
       "<style scoped>\n",
       "    .dataframe tbody tr th:only-of-type {\n",
       "        vertical-align: middle;\n",
       "    }\n",
       "\n",
       "    .dataframe tbody tr th {\n",
       "        vertical-align: top;\n",
       "    }\n",
       "\n",
       "    .dataframe thead th {\n",
       "        text-align: right;\n",
       "    }\n",
       "</style>\n",
       "<table border=\"1\" class=\"dataframe\">\n",
       "  <thead>\n",
       "    <tr style=\"text-align: right;\">\n",
       "      <th></th>\n",
       "      <th>id</th>\n",
       "      <th>Class_1</th>\n",
       "      <th>Class_2</th>\n",
       "      <th>Class_3</th>\n",
       "      <th>Class_4</th>\n",
       "    </tr>\n",
       "  </thead>\n",
       "  <tbody>\n",
       "    <tr>\n",
       "      <th>0</th>\n",
       "      <td>100000</td>\n",
       "      <td>0.084972</td>\n",
       "      <td>0.607259</td>\n",
       "      <td>0.185489</td>\n",
       "      <td>0.122280</td>\n",
       "    </tr>\n",
       "    <tr>\n",
       "      <th>1</th>\n",
       "      <td>100001</td>\n",
       "      <td>0.077911</td>\n",
       "      <td>0.668733</td>\n",
       "      <td>0.173727</td>\n",
       "      <td>0.079629</td>\n",
       "    </tr>\n",
       "    <tr>\n",
       "      <th>2</th>\n",
       "      <td>100002</td>\n",
       "      <td>0.085170</td>\n",
       "      <td>0.637511</td>\n",
       "      <td>0.175553</td>\n",
       "      <td>0.101767</td>\n",
       "    </tr>\n",
       "    <tr>\n",
       "      <th>3</th>\n",
       "      <td>100003</td>\n",
       "      <td>0.079365</td>\n",
       "      <td>0.540842</td>\n",
       "      <td>0.265400</td>\n",
       "      <td>0.114392</td>\n",
       "    </tr>\n",
       "    <tr>\n",
       "      <th>4</th>\n",
       "      <td>100004</td>\n",
       "      <td>0.076234</td>\n",
       "      <td>0.608782</td>\n",
       "      <td>0.211749</td>\n",
       "      <td>0.103235</td>\n",
       "    </tr>\n",
       "  </tbody>\n",
       "</table>\n",
       "</div>"
      ],
      "text/plain": [
       "       id   Class_1   Class_2   Class_3   Class_4\n",
       "0  100000  0.084972  0.607259  0.185489  0.122280\n",
       "1  100001  0.077911  0.668733  0.173727  0.079629\n",
       "2  100002  0.085170  0.637511  0.175553  0.101767\n",
       "3  100003  0.079365  0.540842  0.265400  0.114392\n",
       "4  100004  0.076234  0.608782  0.211749  0.103235"
      ]
     },
     "execution_count": 8,
     "metadata": {},
     "output_type": "execute_result"
    }
   ],
   "source": [
    "y_pred_final_lgb = np.clip(y_pred_final_lgb, p_min, p_max)\n",
    "\n",
    "test_df = pd.read_csv(\"../input/tabular-playground-series-may-2021/test.csv\")\n",
    "submit_df = pd.DataFrame()\n",
    "submit_df['id'] = test_df['id']\n",
    "submit_df['Class_1'] = y_pred_final_lgb[:,0]\n",
    "submit_df['Class_2'] = y_pred_final_lgb[:,1]\n",
    "submit_df['Class_3'] = y_pred_final_lgb[:,2]\n",
    "submit_df['Class_4'] = y_pred_final_lgb[:,3]\n",
    "submit_df.head()"
   ]
  },
  {
   "cell_type": "code",
   "execution_count": 9,
   "metadata": {
    "execution": {
     "iopub.execute_input": "2021-05-24T05:04:50.123882Z",
     "iopub.status.busy": "2021-05-24T05:04:50.123249Z",
     "iopub.status.idle": "2021-05-24T05:04:50.602024Z",
     "shell.execute_reply": "2021-05-24T05:04:50.601390Z"
    },
    "id": "KDIsotrKVoJN",
    "papermill": {
     "duration": 0.589099,
     "end_time": "2021-05-24T05:04:50.602188",
     "exception": false,
     "start_time": "2021-05-24T05:04:50.013089",
     "status": "completed"
    },
    "tags": []
   },
   "outputs": [],
   "source": [
    "submit_df.to_csv(\"./LGB_submission.csv\", index=False)"
   ]
  },
  {
   "cell_type": "code",
   "execution_count": null,
   "metadata": {
    "id": "W2c88MvxXm65",
    "papermill": {
     "duration": 0.103656,
     "end_time": "2021-05-24T05:04:50.809640",
     "exception": false,
     "start_time": "2021-05-24T05:04:50.705984",
     "status": "completed"
    },
    "tags": []
   },
   "outputs": [],
   "source": []
  }
 ],
 "metadata": {
  "kernelspec": {
   "display_name": "Python 3",
   "language": "python",
   "name": "python3"
  },
  "language_info": {
   "codemirror_mode": {
    "name": "ipython",
    "version": 3
   },
   "file_extension": ".py",
   "mimetype": "text/x-python",
   "name": "python",
   "nbconvert_exporter": "python",
   "pygments_lexer": "ipython3",
   "version": "3.8.5"
  },
  "papermill": {
   "default_parameters": {},
   "duration": 3358.124946,
   "end_time": "2021-05-24T05:04:52.887362",
   "environment_variables": {},
   "exception": null,
   "input_path": "__notebook__.ipynb",
   "output_path": "__notebook__.ipynb",
   "parameters": {},
   "start_time": "2021-05-24T04:08:54.762416",
   "version": "2.3.3"
  }
 },
 "nbformat": 4,
 "nbformat_minor": 5
}
