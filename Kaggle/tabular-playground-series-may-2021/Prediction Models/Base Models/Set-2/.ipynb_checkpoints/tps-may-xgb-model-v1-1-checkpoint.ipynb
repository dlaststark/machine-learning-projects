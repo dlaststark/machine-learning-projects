{
 "cells": [
  {
   "cell_type": "markdown",
   "metadata": {
    "id": "uLz9OcH8SeET",
    "papermill": {
     "duration": 0.01409,
     "end_time": "2021-05-22T18:18:19.792603",
     "exception": false,
     "start_time": "2021-05-22T18:18:19.778513",
     "status": "completed"
    },
    "tags": []
   },
   "source": [
    "## Import libraries"
   ]
  },
  {
   "cell_type": "code",
   "execution_count": 1,
   "metadata": {
    "execution": {
     "iopub.execute_input": "2021-05-22T18:18:19.823867Z",
     "iopub.status.busy": "2021-05-22T18:18:19.821971Z",
     "iopub.status.idle": "2021-05-22T18:18:20.912202Z",
     "shell.execute_reply": "2021-05-22T18:18:20.911502Z",
     "shell.execute_reply.started": "2021-05-22T18:10:10.397570Z"
    },
    "executionInfo": {
     "elapsed": 23727,
     "status": "ok",
     "timestamp": 1616326442041,
     "user": {
      "displayName": "TAPAS DAS",
      "photoUrl": "https://lh3.googleusercontent.com/a-/AOh14GiyffdGKiPCR_UwVittzTcbBFms70IkGfU15fatCA=s64",
      "userId": "10798398878324948542"
     },
     "user_tz": -330
    },
    "id": "E9svswc9SUuX",
    "papermill": {
     "duration": 1.10745,
     "end_time": "2021-05-22T18:18:20.912400",
     "exception": false,
     "start_time": "2021-05-22T18:18:19.804950",
     "status": "completed"
    },
    "tags": []
   },
   "outputs": [],
   "source": [
    "import gc\n",
    "import pickle\n",
    "import numpy as np\n",
    "import pandas as pd\n",
    "from tqdm import tqdm\n",
    "from xgboost import XGBClassifier\n",
    "from sklearn.metrics import log_loss\n",
    "from sklearn.model_selection import StratifiedKFold"
   ]
  },
  {
   "cell_type": "markdown",
   "metadata": {
    "id": "hg85SpW-S6hl",
    "papermill": {
     "duration": 0.012695,
     "end_time": "2021-05-22T18:18:20.937266",
     "exception": false,
     "start_time": "2021-05-22T18:18:20.924571",
     "status": "completed"
    },
    "tags": []
   },
   "source": [
    "## Prepare data for model training"
   ]
  },
  {
   "cell_type": "code",
   "execution_count": 2,
   "metadata": {
    "execution": {
     "iopub.execute_input": "2021-05-22T18:18:20.968519Z",
     "iopub.status.busy": "2021-05-22T18:18:20.967733Z",
     "iopub.status.idle": "2021-05-22T18:18:27.816636Z",
     "shell.execute_reply": "2021-05-22T18:18:27.816125Z",
     "shell.execute_reply.started": "2021-05-22T18:10:11.274852Z"
    },
    "executionInfo": {
     "elapsed": 10043,
     "status": "ok",
     "timestamp": 1616326444482,
     "user": {
      "displayName": "TAPAS DAS",
      "photoUrl": "https://lh3.googleusercontent.com/a-/AOh14GiyffdGKiPCR_UwVittzTcbBFms70IkGfU15fatCA=s64",
      "userId": "10798398878324948542"
     },
     "user_tz": -330
    },
    "id": "VdhgoIAmSUxK",
    "outputId": "7897cfad-c8d4-46d9-86ea-04de37e11444",
    "papermill": {
     "duration": 6.865983,
     "end_time": "2021-05-22T18:18:27.816782",
     "exception": false,
     "start_time": "2021-05-22T18:18:20.950799",
     "status": "completed"
    },
    "tags": []
   },
   "outputs": [
    {
     "data": {
      "text/plain": [
       "0"
      ]
     },
     "execution_count": 2,
     "metadata": {},
     "output_type": "execute_result"
    }
   ],
   "source": [
    "with open(\"../input/tps-may-data-preprocess-v1-1/TPS_May_Dataset.txt\", 'rb') as handle: \n",
    "    data = handle.read()\n",
    "\n",
    "processed_data = pickle.loads(data)\n",
    "train_df = processed_data['train_df']\n",
    "test_df = processed_data['test_df']\n",
    "\n",
    "del processed_data\n",
    "gc.collect()"
   ]
  },
  {
   "cell_type": "code",
   "execution_count": 3,
   "metadata": {
    "execution": {
     "iopub.execute_input": "2021-05-22T18:18:27.865512Z",
     "iopub.status.busy": "2021-05-22T18:18:27.864783Z",
     "iopub.status.idle": "2021-05-22T18:18:27.931993Z",
     "shell.execute_reply": "2021-05-22T18:18:27.932473Z",
     "shell.execute_reply.started": "2021-05-22T18:10:18.091546Z"
    },
    "papermill": {
     "duration": 0.103041,
     "end_time": "2021-05-22T18:18:27.932642",
     "exception": false,
     "start_time": "2021-05-22T18:18:27.829601",
     "status": "completed"
    },
    "tags": []
   },
   "outputs": [
    {
     "name": "stderr",
     "output_type": "stream",
     "text": [
      "100%|██████████| 50/50 [00:00<00:00, 972.50it/s]"
     ]
    },
    {
     "name": "stdout",
     "output_type": "stream",
     "text": [
      "37\n"
     ]
    },
    {
     "name": "stderr",
     "output_type": "stream",
     "text": [
      "\n"
     ]
    },
    {
     "data": {
      "text/plain": [
       "['feature_0',\n",
       " 'feature_2',\n",
       " 'feature_3',\n",
       " 'feature_4',\n",
       " 'feature_5',\n",
       " 'feature_6',\n",
       " 'feature_7',\n",
       " 'feature_9',\n",
       " 'feature_10',\n",
       " 'feature_11',\n",
       " 'feature_12',\n",
       " 'feature_13',\n",
       " 'feature_15',\n",
       " 'feature_16',\n",
       " 'feature_17',\n",
       " 'feature_18',\n",
       " 'feature_20',\n",
       " 'feature_21',\n",
       " 'feature_22',\n",
       " 'feature_23',\n",
       " 'feature_25',\n",
       " 'feature_26',\n",
       " 'feature_27',\n",
       " 'feature_28',\n",
       " 'feature_29',\n",
       " 'feature_32',\n",
       " 'feature_33',\n",
       " 'feature_34',\n",
       " 'feature_35',\n",
       " 'feature_36',\n",
       " 'feature_38',\n",
       " 'feature_39',\n",
       " 'feature_42',\n",
       " 'feature_43',\n",
       " 'feature_44',\n",
       " 'feature_46',\n",
       " 'feature_49']"
      ]
     },
     "execution_count": 3,
     "metadata": {},
     "output_type": "execute_result"
    }
   ],
   "source": [
    "cat_cols = []\n",
    "for col in tqdm(train_df.iloc[:,0:50].columns):\n",
    "    train_ = train_df[col].unique().tolist()\n",
    "    test_ = test_df[col].unique().tolist()\n",
    "    \n",
    "    train_.sort()\n",
    "    test_.sort()\n",
    "    \n",
    "    if train_ == test_:\n",
    "        cat_cols.append(col)\n",
    "\n",
    "print(len(cat_cols))\n",
    "cat_cols"
   ]
  },
  {
   "cell_type": "code",
   "execution_count": 4,
   "metadata": {
    "execution": {
     "iopub.execute_input": "2021-05-22T18:18:27.996277Z",
     "iopub.status.busy": "2021-05-22T18:18:27.994736Z",
     "iopub.status.idle": "2021-05-22T18:19:02.130005Z",
     "shell.execute_reply": "2021-05-22T18:19:02.130495Z",
     "shell.execute_reply.started": "2021-05-22T18:10:18.167803Z"
    },
    "papermill": {
     "duration": 34.174861,
     "end_time": "2021-05-22T18:19:02.130662",
     "exception": false,
     "start_time": "2021-05-22T18:18:27.955801",
     "status": "completed"
    },
    "tags": []
   },
   "outputs": [
    {
     "name": "stderr",
     "output_type": "stream",
     "text": [
      "100%|██████████| 37/37 [00:22<00:00,  1.63it/s]\n",
      "  0%|          | 0/37 [00:00<?, ?it/s]"
     ]
    },
    {
     "name": "stdout",
     "output_type": "stream",
     "text": [
      "train_df: (99918, 1763)\n"
     ]
    },
    {
     "name": "stderr",
     "output_type": "stream",
     "text": [
      "100%|██████████| 37/37 [00:11<00:00,  3.31it/s]"
     ]
    },
    {
     "name": "stdout",
     "output_type": "stream",
     "text": [
      "test_df: (50000, 1762)\n"
     ]
    },
    {
     "name": "stderr",
     "output_type": "stream",
     "text": [
      "\n"
     ]
    }
   ],
   "source": [
    "train_df[cat_cols] = train_df[cat_cols].astype(int)\n",
    "test_df[cat_cols] = test_df[cat_cols].astype(int)\n",
    "\n",
    "for col in tqdm(cat_cols):\n",
    "    dummy_val = pd.get_dummies(train_df[col], prefix='col')\n",
    "    train_df = pd.concat([train_df, dummy_val], axis=1)\n",
    "    train_df.drop([col], inplace=True, axis=1)\n",
    "\n",
    "print(\"train_df: {}\".format(train_df.shape))\n",
    "\n",
    "for col in tqdm(cat_cols):\n",
    "    dummy_val = pd.get_dummies(test_df[col], prefix='col')\n",
    "    test_df = pd.concat([test_df, dummy_val], axis=1)\n",
    "    test_df.drop([col], inplace=True, axis=1)\n",
    "\n",
    "print(\"test_df: {}\".format(test_df.shape))"
   ]
  },
  {
   "cell_type": "code",
   "execution_count": 5,
   "metadata": {
    "execution": {
     "iopub.execute_input": "2021-05-22T18:19:02.436572Z",
     "iopub.status.busy": "2021-05-22T18:19:02.435320Z",
     "iopub.status.idle": "2021-05-22T18:19:03.317748Z",
     "shell.execute_reply": "2021-05-22T18:19:03.316741Z",
     "shell.execute_reply.started": "2021-05-22T18:10:49.065748Z"
    },
    "executionInfo": {
     "elapsed": 2058,
     "status": "ok",
     "timestamp": 1616326525321,
     "user": {
      "displayName": "TAPAS DAS",
      "photoUrl": "https://lh3.googleusercontent.com/a-/AOh14GiyffdGKiPCR_UwVittzTcbBFms70IkGfU15fatCA=s64",
      "userId": "10798398878324948542"
     },
     "user_tz": -330
    },
    "id": "UAfyHbeASU7C",
    "outputId": "14c429a7-7b43-4065-afae-da7d4f6679a9",
    "papermill": {
     "duration": 1.148671,
     "end_time": "2021-05-22T18:19:03.317940",
     "exception": false,
     "start_time": "2021-05-22T18:19:02.169269",
     "status": "completed"
    },
    "tags": []
   },
   "outputs": [
    {
     "name": "stdout",
     "output_type": "stream",
     "text": [
      "Xtrain: (99918, 1762) \n",
      "Ytrain: (99918,) \n",
      "Ytrain_oh: (99918, 4) \n",
      "Xtest: (50000, 1762)\n"
     ]
    },
    {
     "data": {
      "text/plain": [
       "100"
      ]
     },
     "execution_count": 5,
     "metadata": {},
     "output_type": "execute_result"
    }
   ],
   "source": [
    "Xtrain = train_df.loc[:, train_df.columns != 'target'].values\n",
    "Ytrain = train_df['target'].values\n",
    "Ytrain_oh = pd.get_dummies(train_df['target']).values\n",
    "Xtest = test_df.values\n",
    "\n",
    "print(\"Xtrain: {} \\nYtrain: {} \\nYtrain_oh: {} \\nXtest: {}\".format(Xtrain.shape, Ytrain.shape, \n",
    "                                                                   Ytrain_oh.shape, Xtest.shape))\n",
    "\n",
    "del train_df\n",
    "del test_df\n",
    "gc.collect()"
   ]
  },
  {
   "cell_type": "markdown",
   "metadata": {
    "id": "9wNC5rWEVnjd",
    "papermill": {
     "duration": 0.041401,
     "end_time": "2021-05-22T18:19:03.397976",
     "exception": false,
     "start_time": "2021-05-22T18:19:03.356575",
     "status": "completed"
    },
    "tags": []
   },
   "source": [
    "## Build and validate the model"
   ]
  },
  {
   "cell_type": "code",
   "execution_count": 6,
   "metadata": {
    "execution": {
     "iopub.execute_input": "2021-05-22T18:19:03.491996Z",
     "iopub.status.busy": "2021-05-22T18:19:03.490828Z",
     "iopub.status.idle": "2021-05-22T18:23:21.926549Z",
     "shell.execute_reply": "2021-05-22T18:23:21.927801Z",
     "shell.execute_reply.started": "2021-05-22T18:17:31.251280Z"
    },
    "id": "uWPosEORSVBp",
    "outputId": "d70ac047-a86b-4f36-84cc-960b1b5316be",
    "papermill": {
     "duration": 258.491341,
     "end_time": "2021-05-22T18:23:21.928072",
     "exception": false,
     "start_time": "2021-05-22T18:19:03.436731",
     "status": "completed"
    },
    "tags": []
   },
   "outputs": [
    {
     "name": "stdout",
     "output_type": "stream",
     "text": [
      "[0]\tvalidation_0-mlogloss:1.34640\tvalidation_1-mlogloss:1.34703\n",
      "[50]\tvalidation_0-mlogloss:1.06454\tvalidation_1-mlogloss:1.09510\n",
      "[99]\tvalidation_0-mlogloss:1.03691\tvalidation_1-mlogloss:1.09225\n"
     ]
    },
    {
     "name": "stderr",
     "output_type": "stream",
     "text": [
      "/opt/conda/lib/python3.7/site-packages/xgboost/data.py:114: UserWarning: Use subset (sliced data) of np.ndarray is not recommended because it will generate extra copies and increase memory consumption\n",
      "  \"because it will generate extra copies and increase \" +\n"
     ]
    },
    {
     "name": "stdout",
     "output_type": "stream",
     "text": [
      "Seed-24 | Fold-0 | OOF Score: 1.0921337350746625\n",
      "[0]\tvalidation_0-mlogloss:1.34641\tvalidation_1-mlogloss:1.34700\n",
      "[50]\tvalidation_0-mlogloss:1.06432\tvalidation_1-mlogloss:1.09403\n",
      "[99]\tvalidation_0-mlogloss:1.03674\tvalidation_1-mlogloss:1.09071\n"
     ]
    },
    {
     "name": "stderr",
     "output_type": "stream",
     "text": [
      "/opt/conda/lib/python3.7/site-packages/xgboost/data.py:114: UserWarning: Use subset (sliced data) of np.ndarray is not recommended because it will generate extra copies and increase memory consumption\n",
      "  \"because it will generate extra copies and increase \" +\n"
     ]
    },
    {
     "name": "stdout",
     "output_type": "stream",
     "text": [
      "Seed-24 | Fold-1 | OOF Score: 1.0908040959429774\n",
      "[0]\tvalidation_0-mlogloss:1.34622\tvalidation_1-mlogloss:1.34712\n",
      "[50]\tvalidation_0-mlogloss:1.06385\tvalidation_1-mlogloss:1.09800\n",
      "[99]\tvalidation_0-mlogloss:1.03671\tvalidation_1-mlogloss:1.09608\n"
     ]
    },
    {
     "name": "stderr",
     "output_type": "stream",
     "text": [
      "/opt/conda/lib/python3.7/site-packages/xgboost/data.py:114: UserWarning: Use subset (sliced data) of np.ndarray is not recommended because it will generate extra copies and increase memory consumption\n",
      "  \"because it will generate extra copies and increase \" +\n"
     ]
    },
    {
     "name": "stdout",
     "output_type": "stream",
     "text": [
      "Seed-24 | Fold-2 | OOF Score: 1.0959959630746308\n",
      "[0]\tvalidation_0-mlogloss:1.34636\tvalidation_1-mlogloss:1.34701\n",
      "[50]\tvalidation_0-mlogloss:1.06452\tvalidation_1-mlogloss:1.09444\n",
      "[99]\tvalidation_0-mlogloss:1.03738\tvalidation_1-mlogloss:1.09111\n"
     ]
    },
    {
     "name": "stderr",
     "output_type": "stream",
     "text": [
      "/opt/conda/lib/python3.7/site-packages/xgboost/data.py:114: UserWarning: Use subset (sliced data) of np.ndarray is not recommended because it will generate extra copies and increase memory consumption\n",
      "  \"because it will generate extra copies and increase \" +\n"
     ]
    },
    {
     "name": "stdout",
     "output_type": "stream",
     "text": [
      "Seed-24 | Fold-3 | OOF Score: 1.0911430715112758\n",
      "[0]\tvalidation_0-mlogloss:1.34631\tvalidation_1-mlogloss:1.34688\n",
      "[50]\tvalidation_0-mlogloss:1.06436\tvalidation_1-mlogloss:1.09598\n",
      "[99]\tvalidation_0-mlogloss:1.03758\tvalidation_1-mlogloss:1.09347\n"
     ]
    },
    {
     "name": "stderr",
     "output_type": "stream",
     "text": [
      "/opt/conda/lib/python3.7/site-packages/xgboost/data.py:114: UserWarning: Use subset (sliced data) of np.ndarray is not recommended because it will generate extra copies and increase memory consumption\n",
      "  \"because it will generate extra copies and increase \" +\n"
     ]
    },
    {
     "name": "stdout",
     "output_type": "stream",
     "text": [
      "Seed-24 | Fold-4 | OOF Score: 1.0934783498808038\n",
      "[0]\tvalidation_0-mlogloss:1.34626\tvalidation_1-mlogloss:1.34695\n",
      "[50]\tvalidation_0-mlogloss:1.06411\tvalidation_1-mlogloss:1.09743\n",
      "[99]\tvalidation_0-mlogloss:1.03650\tvalidation_1-mlogloss:1.09574\n"
     ]
    },
    {
     "name": "stderr",
     "output_type": "stream",
     "text": [
      "/opt/conda/lib/python3.7/site-packages/xgboost/data.py:114: UserWarning: Use subset (sliced data) of np.ndarray is not recommended because it will generate extra copies and increase memory consumption\n",
      "  \"because it will generate extra copies and increase \" +\n"
     ]
    },
    {
     "name": "stdout",
     "output_type": "stream",
     "text": [
      "Seed-24 | Fold-5 | OOF Score: 1.0956260305124703\n",
      "[0]\tvalidation_0-mlogloss:1.34631\tvalidation_1-mlogloss:1.34685\n",
      "[50]\tvalidation_0-mlogloss:1.06405\tvalidation_1-mlogloss:1.09487\n",
      "[99]\tvalidation_0-mlogloss:1.03666\tvalidation_1-mlogloss:1.09252\n"
     ]
    },
    {
     "name": "stderr",
     "output_type": "stream",
     "text": [
      "/opt/conda/lib/python3.7/site-packages/xgboost/data.py:114: UserWarning: Use subset (sliced data) of np.ndarray is not recommended because it will generate extra copies and increase memory consumption\n",
      "  \"because it will generate extra copies and increase \" +\n"
     ]
    },
    {
     "name": "stdout",
     "output_type": "stream",
     "text": [
      "Seed-24 | Fold-6 | OOF Score: 1.092427228102453\n",
      "[0]\tvalidation_0-mlogloss:1.34616\tvalidation_1-mlogloss:1.34700\n",
      "[50]\tvalidation_0-mlogloss:1.06420\tvalidation_1-mlogloss:1.09733\n",
      "[99]\tvalidation_0-mlogloss:1.03651\tvalidation_1-mlogloss:1.09532\n"
     ]
    },
    {
     "name": "stderr",
     "output_type": "stream",
     "text": [
      "/opt/conda/lib/python3.7/site-packages/xgboost/data.py:114: UserWarning: Use subset (sliced data) of np.ndarray is not recommended because it will generate extra copies and increase memory consumption\n",
      "  \"because it will generate extra copies and increase \" +\n"
     ]
    },
    {
     "name": "stdout",
     "output_type": "stream",
     "text": [
      "Seed-24 | Fold-7 | OOF Score: 1.0951228922962235\n",
      "[0]\tvalidation_0-mlogloss:1.34627\tvalidation_1-mlogloss:1.34689\n",
      "[50]\tvalidation_0-mlogloss:1.06453\tvalidation_1-mlogloss:1.09470\n",
      "[99]\tvalidation_0-mlogloss:1.03699\tvalidation_1-mlogloss:1.09228\n"
     ]
    },
    {
     "name": "stderr",
     "output_type": "stream",
     "text": [
      "/opt/conda/lib/python3.7/site-packages/xgboost/data.py:114: UserWarning: Use subset (sliced data) of np.ndarray is not recommended because it will generate extra copies and increase memory consumption\n",
      "  \"because it will generate extra copies and increase \" +\n"
     ]
    },
    {
     "name": "stdout",
     "output_type": "stream",
     "text": [
      "Seed-24 | Fold-8 | OOF Score: 1.0923215425559774\n",
      "[0]\tvalidation_0-mlogloss:1.34633\tvalidation_1-mlogloss:1.34704\n",
      "[50]\tvalidation_0-mlogloss:1.06349\tvalidation_1-mlogloss:1.09729\n",
      "[99]\tvalidation_0-mlogloss:1.03586\tvalidation_1-mlogloss:1.09530\n"
     ]
    },
    {
     "name": "stderr",
     "output_type": "stream",
     "text": [
      "/opt/conda/lib/python3.7/site-packages/xgboost/data.py:114: UserWarning: Use subset (sliced data) of np.ndarray is not recommended because it will generate extra copies and increase memory consumption\n",
      "  \"because it will generate extra copies and increase \" +\n"
     ]
    },
    {
     "name": "stdout",
     "output_type": "stream",
     "text": [
      "Seed-24 | Fold-9 | OOF Score: 1.0953361703035005\n",
      "\n",
      "Seed: 24 | Aggregate OOF Score: 1.0934389079254976\n",
      "\n",
      "\n",
      "Aggregate OOF Score: 1.0934389079254976\n"
     ]
    }
   ],
   "source": [
    "FOLD = 10\n",
    "NUM_SEED = 1\n",
    "\n",
    "# Prediction Clipping Thresholds\n",
    "p_min = 0.025\n",
    "p_max = 1 - p_min\n",
    "\n",
    "np.random.seed(3)\n",
    "seeds = np.random.randint(0, 100, size=NUM_SEED)\n",
    "\n",
    "oof_score = 0\n",
    "y_pred_meta_xgb = np.zeros((Ytrain.shape[0], 4))\n",
    "y_pred_final_xgb = np.zeros((Xtest.shape[0], 4))\n",
    "counter = 0\n",
    "\n",
    "\n",
    "for sidx, seed in enumerate(seeds):\n",
    "    seed_score = 0\n",
    "    \n",
    "    kfold = StratifiedKFold(n_splits=FOLD, shuffle=True, random_state=seed)\n",
    "\n",
    "    for idx, (train, val) in enumerate(kfold.split(Xtrain, Ytrain)):\n",
    "        counter += 1\n",
    "\n",
    "        train_x, train_y, train_y_oh = Xtrain[train], Ytrain[train], Ytrain_oh[train]\n",
    "        val_x, val_y, val_y_oh = Xtrain[val], Ytrain[val], Ytrain_oh[val]\n",
    "        \n",
    "        model = XGBClassifier(\n",
    "            objective='multi:softmax',\n",
    "            eval_metric='mlogloss',\n",
    "            booster='gbtree',\n",
    "            sample_type='weighted',\n",
    "            tree_method='gpu_hist',\n",
    "            grow_policy='lossguide',\n",
    "            use_label_encoder=False,\n",
    "            num_round=5000,\n",
    "            num_class=4,\n",
    "            max_depth=10, \n",
    "            max_leaves=53,\n",
    "            learning_rate=0.0982,\n",
    "            subsample=0.76,\n",
    "            colsample_bytree=0.52,\n",
    "            min_child_weight=10,\n",
    "            reg_lambda=0.1515,\n",
    "            verbosity=0\n",
    "        )\n",
    "\n",
    "        model.fit(train_x, train_y, eval_set=[(train_x, train_y), (val_x, val_y)], \n",
    "                  early_stopping_rounds=200, verbose=50)\n",
    "\n",
    "        y_pred = model.predict_proba(val_x, iteration_range=(0, model.best_iteration))\n",
    "        y_pred = np.clip(y_pred, p_min, p_max)\n",
    "        y_pred_meta_xgb[val] += y_pred\n",
    "        y_pred_final_xgb += model.predict_proba(Xtest, iteration_range=(0, model.best_iteration))\n",
    "        \n",
    "        score = log_loss(val_y_oh, y_pred)\n",
    "        oof_score += score\n",
    "        seed_score += score\n",
    "        print(\"Seed-{} | Fold-{} | OOF Score: {}\".format(seed, idx, score))\n",
    "    \n",
    "    print(\"\\nSeed: {} | Aggregate OOF Score: {}\\n\\n\".format(seed, (seed_score / FOLD)))\n",
    "\n",
    "\n",
    "y_pred_meta_xgb = y_pred_meta_xgb / float(NUM_SEED)\n",
    "y_pred_final_xgb = y_pred_final_xgb / float(counter)\n",
    "oof_score /= float(counter)\n",
    "print(\"Aggregate OOF Score: {}\".format(oof_score))"
   ]
  },
  {
   "cell_type": "code",
   "execution_count": 7,
   "metadata": {
    "execution": {
     "iopub.execute_input": "2021-05-22T18:23:22.049912Z",
     "iopub.status.busy": "2021-05-22T18:23:22.048787Z",
     "iopub.status.idle": "2021-05-22T18:23:22.210522Z",
     "shell.execute_reply": "2021-05-22T18:23:22.211104Z",
     "shell.execute_reply.started": "2021-05-22T18:17:23.991118Z"
    },
    "papermill": {
     "duration": 0.222785,
     "end_time": "2021-05-22T18:23:22.211295",
     "exception": false,
     "start_time": "2021-05-22T18:23:21.988510",
     "status": "completed"
    },
    "tags": []
   },
   "outputs": [
    {
     "data": {
      "text/plain": [
       "532"
      ]
     },
     "execution_count": 7,
     "metadata": {},
     "output_type": "execute_result"
    }
   ],
   "source": [
    "del model\n",
    "gc.collect()"
   ]
  },
  {
   "cell_type": "code",
   "execution_count": 8,
   "metadata": {
    "execution": {
     "iopub.execute_input": "2021-05-22T18:23:22.329900Z",
     "iopub.status.busy": "2021-05-22T18:23:22.328963Z",
     "iopub.status.idle": "2021-05-22T18:23:22.924357Z",
     "shell.execute_reply": "2021-05-22T18:23:22.923703Z"
    },
    "id": "uLzmS7LzXvXy",
    "papermill": {
     "duration": 0.657501,
     "end_time": "2021-05-22T18:23:22.924530",
     "exception": false,
     "start_time": "2021-05-22T18:23:22.267029",
     "status": "completed"
    },
    "tags": []
   },
   "outputs": [],
   "source": [
    "np.savez_compressed('./XGB_Meta_Features.npz',\n",
    "                    y_pred_meta_xgb=y_pred_meta_xgb, \n",
    "                    oof_score=oof_score,\n",
    "                    y_pred_final_xgb=y_pred_final_xgb)"
   ]
  },
  {
   "cell_type": "markdown",
   "metadata": {
    "id": "nZvoU4TpWxmY",
    "papermill": {
     "duration": 0.057151,
     "end_time": "2021-05-22T18:23:23.040697",
     "exception": false,
     "start_time": "2021-05-22T18:23:22.983546",
     "status": "completed"
    },
    "tags": []
   },
   "source": [
    "## Create submission file"
   ]
  },
  {
   "cell_type": "code",
   "execution_count": 9,
   "metadata": {
    "execution": {
     "iopub.execute_input": "2021-05-22T18:23:23.164291Z",
     "iopub.status.busy": "2021-05-22T18:23:23.163432Z",
     "iopub.status.idle": "2021-05-22T18:23:23.394365Z",
     "shell.execute_reply": "2021-05-22T18:23:23.393684Z"
    },
    "executionInfo": {
     "elapsed": 3141,
     "status": "ok",
     "timestamp": 1616223489651,
     "user": {
      "displayName": "TAPAS DAS",
      "photoUrl": "https://lh3.googleusercontent.com/a-/AOh14GiyffdGKiPCR_UwVittzTcbBFms70IkGfU15fatCA=s64",
      "userId": "10798398878324948542"
     },
     "user_tz": -330
    },
    "id": "zGEGOAJHVoHV",
    "outputId": "11f9ca4c-9cca-46f6-b9a6-907ad0a09927",
    "papermill": {
     "duration": 0.295735,
     "end_time": "2021-05-22T18:23:23.394542",
     "exception": false,
     "start_time": "2021-05-22T18:23:23.098807",
     "status": "completed"
    },
    "tags": []
   },
   "outputs": [
    {
     "data": {
      "text/html": [
       "<div>\n",
       "<style scoped>\n",
       "    .dataframe tbody tr th:only-of-type {\n",
       "        vertical-align: middle;\n",
       "    }\n",
       "\n",
       "    .dataframe tbody tr th {\n",
       "        vertical-align: top;\n",
       "    }\n",
       "\n",
       "    .dataframe thead th {\n",
       "        text-align: right;\n",
       "    }\n",
       "</style>\n",
       "<table border=\"1\" class=\"dataframe\">\n",
       "  <thead>\n",
       "    <tr style=\"text-align: right;\">\n",
       "      <th></th>\n",
       "      <th>id</th>\n",
       "      <th>Class_1</th>\n",
       "      <th>Class_2</th>\n",
       "      <th>Class_3</th>\n",
       "      <th>Class_4</th>\n",
       "    </tr>\n",
       "  </thead>\n",
       "  <tbody>\n",
       "    <tr>\n",
       "      <th>0</th>\n",
       "      <td>100000</td>\n",
       "      <td>0.086368</td>\n",
       "      <td>0.596859</td>\n",
       "      <td>0.184945</td>\n",
       "      <td>0.131829</td>\n",
       "    </tr>\n",
       "    <tr>\n",
       "      <th>1</th>\n",
       "      <td>100001</td>\n",
       "      <td>0.074255</td>\n",
       "      <td>0.669239</td>\n",
       "      <td>0.167395</td>\n",
       "      <td>0.089111</td>\n",
       "    </tr>\n",
       "    <tr>\n",
       "      <th>2</th>\n",
       "      <td>100002</td>\n",
       "      <td>0.081577</td>\n",
       "      <td>0.630073</td>\n",
       "      <td>0.201098</td>\n",
       "      <td>0.087253</td>\n",
       "    </tr>\n",
       "    <tr>\n",
       "      <th>3</th>\n",
       "      <td>100003</td>\n",
       "      <td>0.080909</td>\n",
       "      <td>0.537970</td>\n",
       "      <td>0.273091</td>\n",
       "      <td>0.108030</td>\n",
       "    </tr>\n",
       "    <tr>\n",
       "      <th>4</th>\n",
       "      <td>100004</td>\n",
       "      <td>0.074671</td>\n",
       "      <td>0.642194</td>\n",
       "      <td>0.188068</td>\n",
       "      <td>0.095068</td>\n",
       "    </tr>\n",
       "  </tbody>\n",
       "</table>\n",
       "</div>"
      ],
      "text/plain": [
       "       id   Class_1   Class_2   Class_3   Class_4\n",
       "0  100000  0.086368  0.596859  0.184945  0.131829\n",
       "1  100001  0.074255  0.669239  0.167395  0.089111\n",
       "2  100002  0.081577  0.630073  0.201098  0.087253\n",
       "3  100003  0.080909  0.537970  0.273091  0.108030\n",
       "4  100004  0.074671  0.642194  0.188068  0.095068"
      ]
     },
     "execution_count": 9,
     "metadata": {},
     "output_type": "execute_result"
    }
   ],
   "source": [
    "y_pred_final_xgb = np.clip(y_pred_final_xgb, p_min, p_max)\n",
    "\n",
    "test_df = pd.read_csv(\"../input/tabular-playground-series-may-2021/test.csv\")\n",
    "submit_df = pd.DataFrame()\n",
    "submit_df['id'] = test_df['id']\n",
    "submit_df['Class_1'] = y_pred_final_xgb[:,0]\n",
    "submit_df['Class_2'] = y_pred_final_xgb[:,1]\n",
    "submit_df['Class_3'] = y_pred_final_xgb[:,2]\n",
    "submit_df['Class_4'] = y_pred_final_xgb[:,3]\n",
    "submit_df.head()"
   ]
  },
  {
   "cell_type": "code",
   "execution_count": 10,
   "metadata": {
    "execution": {
     "iopub.execute_input": "2021-05-22T18:23:23.515477Z",
     "iopub.status.busy": "2021-05-22T18:23:23.514632Z",
     "iopub.status.idle": "2021-05-22T18:23:24.100846Z",
     "shell.execute_reply": "2021-05-22T18:23:24.100234Z"
    },
    "id": "KDIsotrKVoJN",
    "papermill": {
     "duration": 0.648544,
     "end_time": "2021-05-22T18:23:24.101042",
     "exception": false,
     "start_time": "2021-05-22T18:23:23.452498",
     "status": "completed"
    },
    "tags": []
   },
   "outputs": [],
   "source": [
    "submit_df.to_csv(\"./XGB_submission.csv\", index=False)"
   ]
  },
  {
   "cell_type": "code",
   "execution_count": null,
   "metadata": {
    "id": "W2c88MvxXm65",
    "papermill": {
     "duration": 0.059214,
     "end_time": "2021-05-22T18:23:24.220283",
     "exception": false,
     "start_time": "2021-05-22T18:23:24.161069",
     "status": "completed"
    },
    "tags": []
   },
   "outputs": [],
   "source": []
  }
 ],
 "metadata": {
  "kernelspec": {
   "display_name": "Python 3",
   "language": "python",
   "name": "python3"
  },
  "language_info": {
   "codemirror_mode": {
    "name": "ipython",
    "version": 3
   },
   "file_extension": ".py",
   "mimetype": "text/x-python",
   "name": "python",
   "nbconvert_exporter": "python",
   "pygments_lexer": "ipython3",
   "version": "3.8.5"
  },
  "papermill": {
   "default_parameters": {},
   "duration": 314.964702,
   "end_time": "2021-05-22T18:23:26.085827",
   "environment_variables": {},
   "exception": null,
   "input_path": "__notebook__.ipynb",
   "output_path": "__notebook__.ipynb",
   "parameters": {},
   "start_time": "2021-05-22T18:18:11.121125",
   "version": "2.3.3"
  }
 },
 "nbformat": 4,
 "nbformat_minor": 5
}
