{
 "cells": [
  {
   "cell_type": "markdown",
   "id": "swedish-makeup",
   "metadata": {
    "id": "uLz9OcH8SeET",
    "papermill": {
     "duration": 0.012466,
     "end_time": "2021-05-17T04:33:34.262413",
     "exception": false,
     "start_time": "2021-05-17T04:33:34.249947",
     "status": "completed"
    },
    "tags": []
   },
   "source": [
    "## Import libraries"
   ]
  },
  {
   "cell_type": "code",
   "execution_count": 1,
   "id": "authorized-moscow",
   "metadata": {
    "execution": {
     "iopub.execute_input": "2021-05-17T04:33:34.300520Z",
     "iopub.status.busy": "2021-05-17T04:33:34.299646Z",
     "iopub.status.idle": "2021-05-17T04:33:36.680092Z",
     "shell.execute_reply": "2021-05-17T04:33:36.678936Z"
    },
    "executionInfo": {
     "elapsed": 18546,
     "status": "ok",
     "timestamp": 1616326755679,
     "user": {
      "displayName": "TAPAS DAS",
      "photoUrl": "https://lh3.googleusercontent.com/a-/AOh14GiyffdGKiPCR_UwVittzTcbBFms70IkGfU15fatCA=s64",
      "userId": "10798398878324948542"
     },
     "user_tz": -330
    },
    "id": "E9svswc9SUuX",
    "papermill": {
     "duration": 2.406085,
     "end_time": "2021-05-17T04:33:36.680273",
     "exception": false,
     "start_time": "2021-05-17T04:33:34.274188",
     "status": "completed"
    },
    "tags": []
   },
   "outputs": [
    {
     "data": {
      "text/html": [
       "<style type='text/css'>\n",
       ".datatable table.frame { margin-bottom: 0; }\n",
       ".datatable table.frame thead { border-bottom: none; }\n",
       ".datatable table.frame tr.coltypes td {  color: #FFFFFF;  line-height: 6px;  padding: 0 0.5em;}\n",
       ".datatable .bool    { background: #DDDD99; }\n",
       ".datatable .object  { background: #565656; }\n",
       ".datatable .int     { background: #5D9E5D; }\n",
       ".datatable .float   { background: #4040CC; }\n",
       ".datatable .str     { background: #CC4040; }\n",
       ".datatable .row_index {  background: var(--jp-border-color3);  border-right: 1px solid var(--jp-border-color0);  color: var(--jp-ui-font-color3);  font-size: 9px;}\n",
       ".datatable .frame tr.coltypes .row_index {  background: var(--jp-border-color0);}\n",
       ".datatable th:nth-child(2) { padding-left: 12px; }\n",
       ".datatable .hellipsis {  color: var(--jp-cell-editor-border-color);}\n",
       ".datatable .vellipsis {  background: var(--jp-layout-color0);  color: var(--jp-cell-editor-border-color);}\n",
       ".datatable .na {  color: var(--jp-cell-editor-border-color);  font-size: 80%;}\n",
       ".datatable .footer { font-size: 9px; }\n",
       ".datatable .frame_dimensions {  background: var(--jp-border-color3);  border-top: 1px solid var(--jp-border-color0);  color: var(--jp-ui-font-color3);  display: inline-block;  opacity: 0.6;  padding: 1px 10px 1px 5px;}\n",
       "</style>\n"
      ],
      "text/plain": [
       "<IPython.core.display.HTML object>"
      ]
     },
     "metadata": {},
     "output_type": "display_data"
    }
   ],
   "source": [
    "import gc\n",
    "import pickle\n",
    "import numpy as np\n",
    "import pandas as pd\n",
    "import lightgbm as lgb\n",
    "from sklearn.metrics import log_loss\n",
    "from sklearn.model_selection import StratifiedKFold"
   ]
  },
  {
   "cell_type": "markdown",
   "id": "rubber-porcelain",
   "metadata": {
    "id": "hg85SpW-S6hl",
    "papermill": {
     "duration": 0.01102,
     "end_time": "2021-05-17T04:33:36.703539",
     "exception": false,
     "start_time": "2021-05-17T04:33:36.692519",
     "status": "completed"
    },
    "tags": []
   },
   "source": [
    "## Prepare data for model training"
   ]
  },
  {
   "cell_type": "code",
   "execution_count": 2,
   "id": "threaded-tracy",
   "metadata": {
    "execution": {
     "iopub.execute_input": "2021-05-17T04:33:36.733453Z",
     "iopub.status.busy": "2021-05-17T04:33:36.732652Z",
     "iopub.status.idle": "2021-05-17T04:33:47.145990Z",
     "shell.execute_reply": "2021-05-17T04:33:47.146528Z"
    },
    "executionInfo": {
     "elapsed": 15266,
     "status": "ok",
     "timestamp": 1616326759527,
     "user": {
      "displayName": "TAPAS DAS",
      "photoUrl": "https://lh3.googleusercontent.com/a-/AOh14GiyffdGKiPCR_UwVittzTcbBFms70IkGfU15fatCA=s64",
      "userId": "10798398878324948542"
     },
     "user_tz": -330
    },
    "id": "VdhgoIAmSUxK",
    "outputId": "593389e9-9839-415d-bc72-10af58db79f5",
    "papermill": {
     "duration": 10.431456,
     "end_time": "2021-05-17T04:33:47.146720",
     "exception": false,
     "start_time": "2021-05-17T04:33:36.715264",
     "status": "completed"
    },
    "tags": []
   },
   "outputs": [
    {
     "data": {
      "text/plain": [
       "0"
      ]
     },
     "execution_count": 2,
     "metadata": {},
     "output_type": "execute_result"
    }
   ],
   "source": [
    "with open(\"../input/tps-may-data-preprocess-v1-1/TPS_May_Dataset.txt\", 'rb') as handle: \n",
    "    data = handle.read()\n",
    "\n",
    "processed_data = pickle.loads(data)\n",
    "train_df = processed_data['train_df']\n",
    "test_df = processed_data['test_df']\n",
    "\n",
    "del processed_data\n",
    "gc.collect()"
   ]
  },
  {
   "cell_type": "code",
   "execution_count": 3,
   "id": "impossible-lindsay",
   "metadata": {
    "execution": {
     "iopub.execute_input": "2021-05-17T04:33:47.175733Z",
     "iopub.status.busy": "2021-05-17T04:33:47.175100Z",
     "iopub.status.idle": "2021-05-17T04:33:47.627557Z",
     "shell.execute_reply": "2021-05-17T04:33:47.627039Z"
    },
    "papermill": {
     "duration": 0.468055,
     "end_time": "2021-05-17T04:33:47.627704",
     "exception": false,
     "start_time": "2021-05-17T04:33:47.159649",
     "status": "completed"
    },
    "tags": []
   },
   "outputs": [
    {
     "name": "stdout",
     "output_type": "stream",
     "text": [
      "[0, 1, 2, 3, 4, 5, 6, 7, 8, 9, 10, 11, 12, 13, 14, 15, 16, 17, 18, 19, 20, 21, 22, 23, 24, 25, 26, 27, 28, 29, 30, 31, 32, 33, 34, 35, 36, 37, 38, 39, 40, 41, 42, 43, 44, 45, 46, 47, 48, 49]\n"
     ]
    }
   ],
   "source": [
    "cat_cols = train_df.iloc[:,0:50].columns\n",
    "train_df[cat_cols] = train_df[cat_cols].astype(int)\n",
    "test_df[cat_cols] = test_df[cat_cols].astype(int)\n",
    "cat_cols_indices = [train_df.columns.get_loc(col) for col in cat_cols]\n",
    "print(cat_cols_indices)"
   ]
  },
  {
   "cell_type": "code",
   "execution_count": 4,
   "id": "sublime-artwork",
   "metadata": {
    "execution": {
     "iopub.execute_input": "2021-05-17T04:33:47.929047Z",
     "iopub.status.busy": "2021-05-17T04:33:47.674695Z",
     "iopub.status.idle": "2021-05-17T04:33:48.621797Z",
     "shell.execute_reply": "2021-05-17T04:33:48.621188Z"
    },
    "papermill": {
     "duration": 0.980937,
     "end_time": "2021-05-17T04:33:48.621960",
     "exception": false,
     "start_time": "2021-05-17T04:33:47.641023",
     "status": "completed"
    },
    "tags": []
   },
   "outputs": [
    {
     "name": "stdout",
     "output_type": "stream",
     "text": [
      "Xtrain: (99918, 951) \n",
      "Ytrain: (99918,) \n",
      "Ytrain_oh: (99918, 4) \n",
      "Xtest: (50000, 951)\n"
     ]
    },
    {
     "data": {
      "text/plain": [
       "20"
      ]
     },
     "execution_count": 4,
     "metadata": {},
     "output_type": "execute_result"
    }
   ],
   "source": [
    "Xtrain = train_df.loc[:, train_df.columns != 'target'].values\n",
    "Ytrain = train_df['target'].values\n",
    "Ytrain_oh = pd.get_dummies(train_df['target']).values\n",
    "Xtest = test_df.values\n",
    "\n",
    "print(\"Xtrain: {} \\nYtrain: {} \\nYtrain_oh: {} \\nXtest: {}\".format(Xtrain.shape, Ytrain.shape, \n",
    "                                                                   Ytrain_oh.shape, Xtest.shape))\n",
    "\n",
    "del train_df\n",
    "del test_df\n",
    "gc.collect()"
   ]
  },
  {
   "cell_type": "markdown",
   "id": "orange-district",
   "metadata": {
    "id": "9wNC5rWEVnjd",
    "papermill": {
     "duration": 0.012926,
     "end_time": "2021-05-17T04:33:48.648438",
     "exception": false,
     "start_time": "2021-05-17T04:33:48.635512",
     "status": "completed"
    },
    "tags": []
   },
   "source": [
    "## Build and validate the model"
   ]
  },
  {
   "cell_type": "code",
   "execution_count": 5,
   "id": "split-anthropology",
   "metadata": {
    "execution": {
     "iopub.execute_input": "2021-05-17T04:33:48.682417Z",
     "iopub.status.busy": "2021-05-17T04:33:48.681313Z",
     "iopub.status.idle": "2021-05-17T04:33:48.684761Z",
     "shell.execute_reply": "2021-05-17T04:33:48.684255Z"
    },
    "executionInfo": {
     "elapsed": 1340,
     "status": "ok",
     "timestamp": 1616326770908,
     "user": {
      "displayName": "TAPAS DAS",
      "photoUrl": "https://lh3.googleusercontent.com/a-/AOh14GiyffdGKiPCR_UwVittzTcbBFms70IkGfU15fatCA=s64",
      "userId": "10798398878324948542"
     },
     "user_tz": -330
    },
    "id": "IhtH9c5va7WY",
    "papermill": {
     "duration": 0.023188,
     "end_time": "2021-05-17T04:33:48.684922",
     "exception": false,
     "start_time": "2021-05-17T04:33:48.661734",
     "status": "completed"
    },
    "tags": []
   },
   "outputs": [],
   "source": [
    "params = {}\n",
    "params[\"objective\"] = 'multiclass'\n",
    "params['metric'] = 'multi_logloss'\n",
    "params['boosting'] = 'gbdt'\n",
    "#params[\"device_type\"] = 'gpu'\n",
    "params['num_class'] = 4\n",
    "params['is_unbalance'] = True\n",
    "params[\"learning_rate\"] = 0.012\n",
    "params[\"lambda_l2\"] = 0.0256\n",
    "params[\"num_leaves\"] = 52\n",
    "#params[\"max_depth\"] = 10\n",
    "params[\"feature_fraction\"] = 0.503\n",
    "params[\"bagging_fraction\"] = 0.6741\n",
    "params[\"bagging_freq\"] = 8\n",
    "params[\"bagging_seed\"] = 10\n",
    "params[\"min_data_in_leaf\"] = 10\n",
    "params[\"verbosity\"] = -1\n",
    "num_rounds = 5000"
   ]
  },
  {
   "cell_type": "code",
   "execution_count": 6,
   "id": "identified-galaxy",
   "metadata": {
    "execution": {
     "iopub.execute_input": "2021-05-17T04:33:48.725385Z",
     "iopub.status.busy": "2021-05-17T04:33:48.724631Z",
     "iopub.status.idle": "2021-05-17T05:43:06.144561Z",
     "shell.execute_reply": "2021-05-17T05:43:06.145367Z"
    },
    "executionInfo": {
     "elapsed": 226745,
     "status": "error",
     "timestamp": 1616326997825,
     "user": {
      "displayName": "TAPAS DAS",
      "photoUrl": "https://lh3.googleusercontent.com/a-/AOh14GiyffdGKiPCR_UwVittzTcbBFms70IkGfU15fatCA=s64",
      "userId": "10798398878324948542"
     },
     "user_tz": -330
    },
    "id": "uWPosEORSVBp",
    "outputId": "ecad76e6-e82d-4e4a-ef18-937bc0235495",
    "papermill": {
     "duration": 4157.447345,
     "end_time": "2021-05-17T05:43:06.145646",
     "exception": false,
     "start_time": "2021-05-17T04:33:48.698301",
     "status": "completed"
    },
    "tags": []
   },
   "outputs": [
    {
     "name": "stderr",
     "output_type": "stream",
     "text": [
      "/opt/conda/lib/python3.7/site-packages/lightgbm/basic.py:1706: UserWarning: categorical_feature in Dataset is overridden.\n",
      "New categorical_feature is [0, 1, 2, 3, 4, 5, 6, 7, 8, 9, 10, 11, 12, 13, 14, 15, 16, 17, 18, 19, 20, 21, 22, 23, 24, 25, 26, 27, 28, 29, 30, 31, 32, 33, 34, 35, 36, 37, 38, 39, 40, 41, 42, 43, 44, 45, 46, 47, 48, 49]\n",
      "  'New categorical_feature is {}'.format(sorted(list(categorical_feature))))\n",
      "/opt/conda/lib/python3.7/site-packages/lightgbm/basic.py:1433: UserWarning: Overriding the parameters from Reference Dataset.\n",
      "  _log_warning('Overriding the parameters from Reference Dataset.')\n",
      "/opt/conda/lib/python3.7/site-packages/lightgbm/basic.py:1245: UserWarning: categorical_column in param dict is overridden.\n",
      "  _log_warning('{} in param dict is overridden.'.format(cat_alias))\n"
     ]
    },
    {
     "name": "stdout",
     "output_type": "stream",
     "text": [
      "Training until validation scores don't improve for 200 rounds\n",
      "[100]\ttraining's multi_logloss: 1.08323\tvalid_1's multi_logloss: 1.10307\n",
      "[200]\ttraining's multi_logloss: 1.05934\tvalid_1's multi_logloss: 1.09738\n",
      "[300]\ttraining's multi_logloss: 1.04051\tvalid_1's multi_logloss: 1.09546\n",
      "[400]\ttraining's multi_logloss: 1.02458\tvalid_1's multi_logloss: 1.09515\n",
      "[500]\ttraining's multi_logloss: 1.0107\tvalid_1's multi_logloss: 1.09577\n",
      "Early stopping, best iteration is:\n",
      "[355]\ttraining's multi_logloss: 1.03146\tvalid_1's multi_logloss: 1.09496\n",
      "Seed-85 | Fold-0 | OOF Score: 1.094957392468202\n"
     ]
    },
    {
     "name": "stderr",
     "output_type": "stream",
     "text": [
      "/opt/conda/lib/python3.7/site-packages/lightgbm/basic.py:1706: UserWarning: categorical_feature in Dataset is overridden.\n",
      "New categorical_feature is [0, 1, 2, 3, 4, 5, 6, 7, 8, 9, 10, 11, 12, 13, 14, 15, 16, 17, 18, 19, 20, 21, 22, 23, 24, 25, 26, 27, 28, 29, 30, 31, 32, 33, 34, 35, 36, 37, 38, 39, 40, 41, 42, 43, 44, 45, 46, 47, 48, 49]\n",
      "  'New categorical_feature is {}'.format(sorted(list(categorical_feature))))\n",
      "/opt/conda/lib/python3.7/site-packages/lightgbm/basic.py:1433: UserWarning: Overriding the parameters from Reference Dataset.\n",
      "  _log_warning('Overriding the parameters from Reference Dataset.')\n",
      "/opt/conda/lib/python3.7/site-packages/lightgbm/basic.py:1245: UserWarning: categorical_column in param dict is overridden.\n",
      "  _log_warning('{} in param dict is overridden.'.format(cat_alias))\n"
     ]
    },
    {
     "name": "stdout",
     "output_type": "stream",
     "text": [
      "Training until validation scores don't improve for 200 rounds\n",
      "[100]\ttraining's multi_logloss: 1.08367\tvalid_1's multi_logloss: 1.10066\n",
      "[200]\ttraining's multi_logloss: 1.05995\tvalid_1's multi_logloss: 1.09359\n",
      "[300]\ttraining's multi_logloss: 1.04133\tvalid_1's multi_logloss: 1.09077\n",
      "[400]\ttraining's multi_logloss: 1.02541\tvalid_1's multi_logloss: 1.08987\n",
      "[500]\ttraining's multi_logloss: 1.01153\tvalid_1's multi_logloss: 1.0903\n",
      "Early stopping, best iteration is:\n",
      "[394]\ttraining's multi_logloss: 1.02632\tvalid_1's multi_logloss: 1.08981\n",
      "Seed-85 | Fold-1 | OOF Score: 1.0898094352718828\n"
     ]
    },
    {
     "name": "stderr",
     "output_type": "stream",
     "text": [
      "/opt/conda/lib/python3.7/site-packages/lightgbm/basic.py:1706: UserWarning: categorical_feature in Dataset is overridden.\n",
      "New categorical_feature is [0, 1, 2, 3, 4, 5, 6, 7, 8, 9, 10, 11, 12, 13, 14, 15, 16, 17, 18, 19, 20, 21, 22, 23, 24, 25, 26, 27, 28, 29, 30, 31, 32, 33, 34, 35, 36, 37, 38, 39, 40, 41, 42, 43, 44, 45, 46, 47, 48, 49]\n",
      "  'New categorical_feature is {}'.format(sorted(list(categorical_feature))))\n",
      "/opt/conda/lib/python3.7/site-packages/lightgbm/basic.py:1433: UserWarning: Overriding the parameters from Reference Dataset.\n",
      "  _log_warning('Overriding the parameters from Reference Dataset.')\n",
      "/opt/conda/lib/python3.7/site-packages/lightgbm/basic.py:1245: UserWarning: categorical_column in param dict is overridden.\n",
      "  _log_warning('{} in param dict is overridden.'.format(cat_alias))\n"
     ]
    },
    {
     "name": "stdout",
     "output_type": "stream",
     "text": [
      "Training until validation scores don't improve for 200 rounds\n",
      "[100]\ttraining's multi_logloss: 1.08349\tvalid_1's multi_logloss: 1.10151\n",
      "[200]\ttraining's multi_logloss: 1.0596\tvalid_1's multi_logloss: 1.09547\n",
      "[300]\ttraining's multi_logloss: 1.04078\tvalid_1's multi_logloss: 1.09298\n",
      "[400]\ttraining's multi_logloss: 1.02495\tvalid_1's multi_logloss: 1.09279\n",
      "[500]\ttraining's multi_logloss: 1.01105\tvalid_1's multi_logloss: 1.09319\n",
      "Early stopping, best iteration is:\n",
      "[358]\ttraining's multi_logloss: 1.03124\tvalid_1's multi_logloss: 1.09269\n",
      "Seed-85 | Fold-2 | OOF Score: 1.092692155358279\n"
     ]
    },
    {
     "name": "stderr",
     "output_type": "stream",
     "text": [
      "/opt/conda/lib/python3.7/site-packages/lightgbm/basic.py:1706: UserWarning: categorical_feature in Dataset is overridden.\n",
      "New categorical_feature is [0, 1, 2, 3, 4, 5, 6, 7, 8, 9, 10, 11, 12, 13, 14, 15, 16, 17, 18, 19, 20, 21, 22, 23, 24, 25, 26, 27, 28, 29, 30, 31, 32, 33, 34, 35, 36, 37, 38, 39, 40, 41, 42, 43, 44, 45, 46, 47, 48, 49]\n",
      "  'New categorical_feature is {}'.format(sorted(list(categorical_feature))))\n",
      "/opt/conda/lib/python3.7/site-packages/lightgbm/basic.py:1433: UserWarning: Overriding the parameters from Reference Dataset.\n",
      "  _log_warning('Overriding the parameters from Reference Dataset.')\n",
      "/opt/conda/lib/python3.7/site-packages/lightgbm/basic.py:1245: UserWarning: categorical_column in param dict is overridden.\n",
      "  _log_warning('{} in param dict is overridden.'.format(cat_alias))\n"
     ]
    },
    {
     "name": "stdout",
     "output_type": "stream",
     "text": [
      "Training until validation scores don't improve for 200 rounds\n",
      "[100]\ttraining's multi_logloss: 1.0834\tvalid_1's multi_logloss: 1.10161\n",
      "[200]\ttraining's multi_logloss: 1.05958\tvalid_1's multi_logloss: 1.09545\n",
      "[300]\ttraining's multi_logloss: 1.0407\tvalid_1's multi_logloss: 1.09335\n",
      "[400]\ttraining's multi_logloss: 1.02477\tvalid_1's multi_logloss: 1.09301\n",
      "[500]\ttraining's multi_logloss: 1.01083\tvalid_1's multi_logloss: 1.09377\n",
      "Early stopping, best iteration is:\n",
      "[358]\ttraining's multi_logloss: 1.03118\tvalid_1's multi_logloss: 1.09296\n",
      "Seed-85 | Fold-3 | OOF Score: 1.0929551891128544\n"
     ]
    },
    {
     "name": "stderr",
     "output_type": "stream",
     "text": [
      "/opt/conda/lib/python3.7/site-packages/lightgbm/basic.py:1706: UserWarning: categorical_feature in Dataset is overridden.\n",
      "New categorical_feature is [0, 1, 2, 3, 4, 5, 6, 7, 8, 9, 10, 11, 12, 13, 14, 15, 16, 17, 18, 19, 20, 21, 22, 23, 24, 25, 26, 27, 28, 29, 30, 31, 32, 33, 34, 35, 36, 37, 38, 39, 40, 41, 42, 43, 44, 45, 46, 47, 48, 49]\n",
      "  'New categorical_feature is {}'.format(sorted(list(categorical_feature))))\n",
      "/opt/conda/lib/python3.7/site-packages/lightgbm/basic.py:1433: UserWarning: Overriding the parameters from Reference Dataset.\n",
      "  _log_warning('Overriding the parameters from Reference Dataset.')\n",
      "/opt/conda/lib/python3.7/site-packages/lightgbm/basic.py:1245: UserWarning: categorical_column in param dict is overridden.\n",
      "  _log_warning('{} in param dict is overridden.'.format(cat_alias))\n"
     ]
    },
    {
     "name": "stdout",
     "output_type": "stream",
     "text": [
      "Training until validation scores don't improve for 200 rounds\n",
      "[100]\ttraining's multi_logloss: 1.08342\tvalid_1's multi_logloss: 1.10216\n",
      "[200]\ttraining's multi_logloss: 1.0595\tvalid_1's multi_logloss: 1.09627\n",
      "[300]\ttraining's multi_logloss: 1.04058\tvalid_1's multi_logloss: 1.09407\n",
      "[400]\ttraining's multi_logloss: 1.0247\tvalid_1's multi_logloss: 1.09376\n",
      "[500]\ttraining's multi_logloss: 1.0108\tvalid_1's multi_logloss: 1.0941\n",
      "Early stopping, best iteration is:\n",
      "[370]\ttraining's multi_logloss: 1.02916\tvalid_1's multi_logloss: 1.09362\n",
      "Seed-85 | Fold-4 | OOF Score: 1.0936173864972019\n"
     ]
    },
    {
     "name": "stderr",
     "output_type": "stream",
     "text": [
      "/opt/conda/lib/python3.7/site-packages/lightgbm/basic.py:1706: UserWarning: categorical_feature in Dataset is overridden.\n",
      "New categorical_feature is [0, 1, 2, 3, 4, 5, 6, 7, 8, 9, 10, 11, 12, 13, 14, 15, 16, 17, 18, 19, 20, 21, 22, 23, 24, 25, 26, 27, 28, 29, 30, 31, 32, 33, 34, 35, 36, 37, 38, 39, 40, 41, 42, 43, 44, 45, 46, 47, 48, 49]\n",
      "  'New categorical_feature is {}'.format(sorted(list(categorical_feature))))\n",
      "/opt/conda/lib/python3.7/site-packages/lightgbm/basic.py:1433: UserWarning: Overriding the parameters from Reference Dataset.\n",
      "  _log_warning('Overriding the parameters from Reference Dataset.')\n",
      "/opt/conda/lib/python3.7/site-packages/lightgbm/basic.py:1245: UserWarning: categorical_column in param dict is overridden.\n",
      "  _log_warning('{} in param dict is overridden.'.format(cat_alias))\n"
     ]
    },
    {
     "name": "stdout",
     "output_type": "stream",
     "text": [
      "Training until validation scores don't improve for 200 rounds\n",
      "[100]\ttraining's multi_logloss: 1.08316\tvalid_1's multi_logloss: 1.10311\n",
      "[200]\ttraining's multi_logloss: 1.05924\tvalid_1's multi_logloss: 1.09766\n",
      "[300]\ttraining's multi_logloss: 1.04046\tvalid_1's multi_logloss: 1.09584\n",
      "[400]\ttraining's multi_logloss: 1.02453\tvalid_1's multi_logloss: 1.09581\n",
      "[500]\ttraining's multi_logloss: 1.01062\tvalid_1's multi_logloss: 1.09647\n",
      "Early stopping, best iteration is:\n",
      "[350]\ttraining's multi_logloss: 1.0322\tvalid_1's multi_logloss: 1.09557\n",
      "Seed-85 | Fold-5 | OOF Score: 1.0955747032648302\n"
     ]
    },
    {
     "name": "stderr",
     "output_type": "stream",
     "text": [
      "/opt/conda/lib/python3.7/site-packages/lightgbm/basic.py:1706: UserWarning: categorical_feature in Dataset is overridden.\n",
      "New categorical_feature is [0, 1, 2, 3, 4, 5, 6, 7, 8, 9, 10, 11, 12, 13, 14, 15, 16, 17, 18, 19, 20, 21, 22, 23, 24, 25, 26, 27, 28, 29, 30, 31, 32, 33, 34, 35, 36, 37, 38, 39, 40, 41, 42, 43, 44, 45, 46, 47, 48, 49]\n",
      "  'New categorical_feature is {}'.format(sorted(list(categorical_feature))))\n",
      "/opt/conda/lib/python3.7/site-packages/lightgbm/basic.py:1433: UserWarning: Overriding the parameters from Reference Dataset.\n",
      "  _log_warning('Overriding the parameters from Reference Dataset.')\n",
      "/opt/conda/lib/python3.7/site-packages/lightgbm/basic.py:1245: UserWarning: categorical_column in param dict is overridden.\n",
      "  _log_warning('{} in param dict is overridden.'.format(cat_alias))\n"
     ]
    },
    {
     "name": "stdout",
     "output_type": "stream",
     "text": [
      "Training until validation scores don't improve for 200 rounds\n",
      "[100]\ttraining's multi_logloss: 1.08341\tvalid_1's multi_logloss: 1.10227\n",
      "[200]\ttraining's multi_logloss: 1.05958\tvalid_1's multi_logloss: 1.09553\n",
      "[300]\ttraining's multi_logloss: 1.04072\tvalid_1's multi_logloss: 1.09263\n",
      "[400]\ttraining's multi_logloss: 1.02481\tvalid_1's multi_logloss: 1.09209\n",
      "[500]\ttraining's multi_logloss: 1.01098\tvalid_1's multi_logloss: 1.09246\n",
      "[600]\ttraining's multi_logloss: 0.99829\tvalid_1's multi_logloss: 1.09297\n",
      "Early stopping, best iteration is:\n",
      "[400]\ttraining's multi_logloss: 1.02481\tvalid_1's multi_logloss: 1.09209\n",
      "Seed-85 | Fold-6 | OOF Score: 1.0920890145666367\n"
     ]
    },
    {
     "name": "stderr",
     "output_type": "stream",
     "text": [
      "/opt/conda/lib/python3.7/site-packages/lightgbm/basic.py:1706: UserWarning: categorical_feature in Dataset is overridden.\n",
      "New categorical_feature is [0, 1, 2, 3, 4, 5, 6, 7, 8, 9, 10, 11, 12, 13, 14, 15, 16, 17, 18, 19, 20, 21, 22, 23, 24, 25, 26, 27, 28, 29, 30, 31, 32, 33, 34, 35, 36, 37, 38, 39, 40, 41, 42, 43, 44, 45, 46, 47, 48, 49]\n",
      "  'New categorical_feature is {}'.format(sorted(list(categorical_feature))))\n",
      "/opt/conda/lib/python3.7/site-packages/lightgbm/basic.py:1433: UserWarning: Overriding the parameters from Reference Dataset.\n",
      "  _log_warning('Overriding the parameters from Reference Dataset.')\n",
      "/opt/conda/lib/python3.7/site-packages/lightgbm/basic.py:1245: UserWarning: categorical_column in param dict is overridden.\n",
      "  _log_warning('{} in param dict is overridden.'.format(cat_alias))\n"
     ]
    },
    {
     "name": "stdout",
     "output_type": "stream",
     "text": [
      "Training until validation scores don't improve for 200 rounds\n",
      "[100]\ttraining's multi_logloss: 1.08327\tvalid_1's multi_logloss: 1.10284\n",
      "[200]\ttraining's multi_logloss: 1.05946\tvalid_1's multi_logloss: 1.097\n",
      "[300]\ttraining's multi_logloss: 1.04071\tvalid_1's multi_logloss: 1.09459\n",
      "[400]\ttraining's multi_logloss: 1.02486\tvalid_1's multi_logloss: 1.09373\n",
      "[500]\ttraining's multi_logloss: 1.01097\tvalid_1's multi_logloss: 1.09405\n",
      "[600]\ttraining's multi_logloss: 0.998084\tvalid_1's multi_logloss: 1.09458\n",
      "Early stopping, best iteration is:\n",
      "[416]\ttraining's multi_logloss: 1.0225\tvalid_1's multi_logloss: 1.09361\n",
      "Seed-85 | Fold-7 | OOF Score: 1.093613661349027\n"
     ]
    },
    {
     "name": "stderr",
     "output_type": "stream",
     "text": [
      "/opt/conda/lib/python3.7/site-packages/lightgbm/basic.py:1706: UserWarning: categorical_feature in Dataset is overridden.\n",
      "New categorical_feature is [0, 1, 2, 3, 4, 5, 6, 7, 8, 9, 10, 11, 12, 13, 14, 15, 16, 17, 18, 19, 20, 21, 22, 23, 24, 25, 26, 27, 28, 29, 30, 31, 32, 33, 34, 35, 36, 37, 38, 39, 40, 41, 42, 43, 44, 45, 46, 47, 48, 49]\n",
      "  'New categorical_feature is {}'.format(sorted(list(categorical_feature))))\n",
      "/opt/conda/lib/python3.7/site-packages/lightgbm/basic.py:1433: UserWarning: Overriding the parameters from Reference Dataset.\n",
      "  _log_warning('Overriding the parameters from Reference Dataset.')\n",
      "/opt/conda/lib/python3.7/site-packages/lightgbm/basic.py:1245: UserWarning: categorical_column in param dict is overridden.\n",
      "  _log_warning('{} in param dict is overridden.'.format(cat_alias))\n"
     ]
    },
    {
     "name": "stdout",
     "output_type": "stream",
     "text": [
      "Training until validation scores don't improve for 200 rounds\n",
      "[100]\ttraining's multi_logloss: 1.08353\tvalid_1's multi_logloss: 1.10271\n",
      "[200]\ttraining's multi_logloss: 1.05977\tvalid_1's multi_logloss: 1.09611\n",
      "[300]\ttraining's multi_logloss: 1.041\tvalid_1's multi_logloss: 1.0933\n",
      "[400]\ttraining's multi_logloss: 1.02512\tvalid_1's multi_logloss: 1.0926\n",
      "[500]\ttraining's multi_logloss: 1.01118\tvalid_1's multi_logloss: 1.09282\n",
      "Early stopping, best iteration is:\n",
      "[394]\ttraining's multi_logloss: 1.02599\tvalid_1's multi_logloss: 1.09254\n",
      "Seed-85 | Fold-8 | OOF Score: 1.0925373360124555\n"
     ]
    },
    {
     "name": "stderr",
     "output_type": "stream",
     "text": [
      "/opt/conda/lib/python3.7/site-packages/lightgbm/basic.py:1706: UserWarning: categorical_feature in Dataset is overridden.\n",
      "New categorical_feature is [0, 1, 2, 3, 4, 5, 6, 7, 8, 9, 10, 11, 12, 13, 14, 15, 16, 17, 18, 19, 20, 21, 22, 23, 24, 25, 26, 27, 28, 29, 30, 31, 32, 33, 34, 35, 36, 37, 38, 39, 40, 41, 42, 43, 44, 45, 46, 47, 48, 49]\n",
      "  'New categorical_feature is {}'.format(sorted(list(categorical_feature))))\n",
      "/opt/conda/lib/python3.7/site-packages/lightgbm/basic.py:1433: UserWarning: Overriding the parameters from Reference Dataset.\n",
      "  _log_warning('Overriding the parameters from Reference Dataset.')\n",
      "/opt/conda/lib/python3.7/site-packages/lightgbm/basic.py:1245: UserWarning: categorical_column in param dict is overridden.\n",
      "  _log_warning('{} in param dict is overridden.'.format(cat_alias))\n"
     ]
    },
    {
     "name": "stdout",
     "output_type": "stream",
     "text": [
      "Training until validation scores don't improve for 200 rounds\n",
      "[100]\ttraining's multi_logloss: 1.08344\tvalid_1's multi_logloss: 1.10163\n",
      "[200]\ttraining's multi_logloss: 1.05971\tvalid_1's multi_logloss: 1.09538\n",
      "[300]\ttraining's multi_logloss: 1.04103\tvalid_1's multi_logloss: 1.09299\n",
      "[400]\ttraining's multi_logloss: 1.02515\tvalid_1's multi_logloss: 1.09266\n",
      "[500]\ttraining's multi_logloss: 1.01107\tvalid_1's multi_logloss: 1.09298\n",
      "Early stopping, best iteration is:\n",
      "[361]\ttraining's multi_logloss: 1.03111\tvalid_1's multi_logloss: 1.09254\n",
      "Seed-85 | Fold-9 | OOF Score: 1.0925367920368207\n",
      "\n",
      "Seed: 85 | Aggregate OOF Score: 1.0930383065938192\n",
      "\n",
      "\n"
     ]
    },
    {
     "name": "stderr",
     "output_type": "stream",
     "text": [
      "/opt/conda/lib/python3.7/site-packages/lightgbm/basic.py:1706: UserWarning: categorical_feature in Dataset is overridden.\n",
      "New categorical_feature is [0, 1, 2, 3, 4, 5, 6, 7, 8, 9, 10, 11, 12, 13, 14, 15, 16, 17, 18, 19, 20, 21, 22, 23, 24, 25, 26, 27, 28, 29, 30, 31, 32, 33, 34, 35, 36, 37, 38, 39, 40, 41, 42, 43, 44, 45, 46, 47, 48, 49]\n",
      "  'New categorical_feature is {}'.format(sorted(list(categorical_feature))))\n",
      "/opt/conda/lib/python3.7/site-packages/lightgbm/basic.py:1433: UserWarning: Overriding the parameters from Reference Dataset.\n",
      "  _log_warning('Overriding the parameters from Reference Dataset.')\n",
      "/opt/conda/lib/python3.7/site-packages/lightgbm/basic.py:1245: UserWarning: categorical_column in param dict is overridden.\n",
      "  _log_warning('{} in param dict is overridden.'.format(cat_alias))\n"
     ]
    },
    {
     "name": "stdout",
     "output_type": "stream",
     "text": [
      "Training until validation scores don't improve for 200 rounds\n",
      "[100]\ttraining's multi_logloss: 1.08336\tvalid_1's multi_logloss: 1.10159\n",
      "[200]\ttraining's multi_logloss: 1.05969\tvalid_1's multi_logloss: 1.09512\n",
      "[300]\ttraining's multi_logloss: 1.04081\tvalid_1's multi_logloss: 1.09231\n",
      "[400]\ttraining's multi_logloss: 1.02497\tvalid_1's multi_logloss: 1.09127\n",
      "[500]\ttraining's multi_logloss: 1.0111\tvalid_1's multi_logloss: 1.09137\n",
      "[600]\ttraining's multi_logloss: 0.998129\tvalid_1's multi_logloss: 1.09202\n",
      "Early stopping, best iteration is:\n",
      "[437]\ttraining's multi_logloss: 1.01965\tvalid_1's multi_logloss: 1.09105\n",
      "Seed-57 | Fold-0 | OOF Score: 1.0910548182316049\n"
     ]
    },
    {
     "name": "stderr",
     "output_type": "stream",
     "text": [
      "/opt/conda/lib/python3.7/site-packages/lightgbm/basic.py:1706: UserWarning: categorical_feature in Dataset is overridden.\n",
      "New categorical_feature is [0, 1, 2, 3, 4, 5, 6, 7, 8, 9, 10, 11, 12, 13, 14, 15, 16, 17, 18, 19, 20, 21, 22, 23, 24, 25, 26, 27, 28, 29, 30, 31, 32, 33, 34, 35, 36, 37, 38, 39, 40, 41, 42, 43, 44, 45, 46, 47, 48, 49]\n",
      "  'New categorical_feature is {}'.format(sorted(list(categorical_feature))))\n",
      "/opt/conda/lib/python3.7/site-packages/lightgbm/basic.py:1433: UserWarning: Overriding the parameters from Reference Dataset.\n",
      "  _log_warning('Overriding the parameters from Reference Dataset.')\n",
      "/opt/conda/lib/python3.7/site-packages/lightgbm/basic.py:1245: UserWarning: categorical_column in param dict is overridden.\n",
      "  _log_warning('{} in param dict is overridden.'.format(cat_alias))\n"
     ]
    },
    {
     "name": "stdout",
     "output_type": "stream",
     "text": [
      "Training until validation scores don't improve for 200 rounds\n",
      "[100]\ttraining's multi_logloss: 1.08353\tvalid_1's multi_logloss: 1.10161\n",
      "[200]\ttraining's multi_logloss: 1.05988\tvalid_1's multi_logloss: 1.09484\n",
      "[300]\ttraining's multi_logloss: 1.04117\tvalid_1's multi_logloss: 1.09265\n",
      "[400]\ttraining's multi_logloss: 1.02529\tvalid_1's multi_logloss: 1.09218\n",
      "[500]\ttraining's multi_logloss: 1.01133\tvalid_1's multi_logloss: 1.0926\n",
      "Early stopping, best iteration is:\n",
      "[391]\ttraining's multi_logloss: 1.02661\tvalid_1's multi_logloss: 1.0921\n",
      "Seed-57 | Fold-1 | OOF Score: 1.0921018585559064\n"
     ]
    },
    {
     "name": "stderr",
     "output_type": "stream",
     "text": [
      "/opt/conda/lib/python3.7/site-packages/lightgbm/basic.py:1706: UserWarning: categorical_feature in Dataset is overridden.\n",
      "New categorical_feature is [0, 1, 2, 3, 4, 5, 6, 7, 8, 9, 10, 11, 12, 13, 14, 15, 16, 17, 18, 19, 20, 21, 22, 23, 24, 25, 26, 27, 28, 29, 30, 31, 32, 33, 34, 35, 36, 37, 38, 39, 40, 41, 42, 43, 44, 45, 46, 47, 48, 49]\n",
      "  'New categorical_feature is {}'.format(sorted(list(categorical_feature))))\n",
      "/opt/conda/lib/python3.7/site-packages/lightgbm/basic.py:1433: UserWarning: Overriding the parameters from Reference Dataset.\n",
      "  _log_warning('Overriding the parameters from Reference Dataset.')\n",
      "/opt/conda/lib/python3.7/site-packages/lightgbm/basic.py:1245: UserWarning: categorical_column in param dict is overridden.\n",
      "  _log_warning('{} in param dict is overridden.'.format(cat_alias))\n"
     ]
    },
    {
     "name": "stdout",
     "output_type": "stream",
     "text": [
      "Training until validation scores don't improve for 200 rounds\n",
      "[100]\ttraining's multi_logloss: 1.08326\tvalid_1's multi_logloss: 1.10224\n",
      "[200]\ttraining's multi_logloss: 1.05939\tvalid_1's multi_logloss: 1.09618\n",
      "[300]\ttraining's multi_logloss: 1.04062\tvalid_1's multi_logloss: 1.094\n",
      "[400]\ttraining's multi_logloss: 1.02469\tvalid_1's multi_logloss: 1.09385\n",
      "[500]\ttraining's multi_logloss: 1.01067\tvalid_1's multi_logloss: 1.09432\n",
      "Early stopping, best iteration is:\n",
      "[386]\ttraining's multi_logloss: 1.02678\tvalid_1's multi_logloss: 1.09375\n",
      "Seed-57 | Fold-2 | OOF Score: 1.0937481495432937\n"
     ]
    },
    {
     "name": "stderr",
     "output_type": "stream",
     "text": [
      "/opt/conda/lib/python3.7/site-packages/lightgbm/basic.py:1706: UserWarning: categorical_feature in Dataset is overridden.\n",
      "New categorical_feature is [0, 1, 2, 3, 4, 5, 6, 7, 8, 9, 10, 11, 12, 13, 14, 15, 16, 17, 18, 19, 20, 21, 22, 23, 24, 25, 26, 27, 28, 29, 30, 31, 32, 33, 34, 35, 36, 37, 38, 39, 40, 41, 42, 43, 44, 45, 46, 47, 48, 49]\n",
      "  'New categorical_feature is {}'.format(sorted(list(categorical_feature))))\n",
      "/opt/conda/lib/python3.7/site-packages/lightgbm/basic.py:1433: UserWarning: Overriding the parameters from Reference Dataset.\n",
      "  _log_warning('Overriding the parameters from Reference Dataset.')\n",
      "/opt/conda/lib/python3.7/site-packages/lightgbm/basic.py:1245: UserWarning: categorical_column in param dict is overridden.\n",
      "  _log_warning('{} in param dict is overridden.'.format(cat_alias))\n"
     ]
    },
    {
     "name": "stdout",
     "output_type": "stream",
     "text": [
      "Training until validation scores don't improve for 200 rounds\n",
      "[100]\ttraining's multi_logloss: 1.0836\tvalid_1's multi_logloss: 1.10123\n",
      "[200]\ttraining's multi_logloss: 1.05971\tvalid_1's multi_logloss: 1.09469\n",
      "[300]\ttraining's multi_logloss: 1.041\tvalid_1's multi_logloss: 1.09252\n",
      "[400]\ttraining's multi_logloss: 1.02513\tvalid_1's multi_logloss: 1.09199\n",
      "[500]\ttraining's multi_logloss: 1.0111\tvalid_1's multi_logloss: 1.09243\n",
      "[600]\ttraining's multi_logloss: 0.998328\tvalid_1's multi_logloss: 1.09323\n",
      "Early stopping, best iteration is:\n",
      "[424]\ttraining's multi_logloss: 1.02161\tvalid_1's multi_logloss: 1.09183\n",
      "Seed-57 | Fold-3 | OOF Score: 1.0918324819784635\n"
     ]
    },
    {
     "name": "stderr",
     "output_type": "stream",
     "text": [
      "/opt/conda/lib/python3.7/site-packages/lightgbm/basic.py:1706: UserWarning: categorical_feature in Dataset is overridden.\n",
      "New categorical_feature is [0, 1, 2, 3, 4, 5, 6, 7, 8, 9, 10, 11, 12, 13, 14, 15, 16, 17, 18, 19, 20, 21, 22, 23, 24, 25, 26, 27, 28, 29, 30, 31, 32, 33, 34, 35, 36, 37, 38, 39, 40, 41, 42, 43, 44, 45, 46, 47, 48, 49]\n",
      "  'New categorical_feature is {}'.format(sorted(list(categorical_feature))))\n",
      "/opt/conda/lib/python3.7/site-packages/lightgbm/basic.py:1433: UserWarning: Overriding the parameters from Reference Dataset.\n",
      "  _log_warning('Overriding the parameters from Reference Dataset.')\n",
      "/opt/conda/lib/python3.7/site-packages/lightgbm/basic.py:1245: UserWarning: categorical_column in param dict is overridden.\n",
      "  _log_warning('{} in param dict is overridden.'.format(cat_alias))\n"
     ]
    },
    {
     "name": "stdout",
     "output_type": "stream",
     "text": [
      "Training until validation scores don't improve for 200 rounds\n",
      "[100]\ttraining's multi_logloss: 1.08327\tvalid_1's multi_logloss: 1.10418\n",
      "[200]\ttraining's multi_logloss: 1.05943\tvalid_1's multi_logloss: 1.0987\n",
      "[300]\ttraining's multi_logloss: 1.04054\tvalid_1's multi_logloss: 1.097\n",
      "[400]\ttraining's multi_logloss: 1.02463\tvalid_1's multi_logloss: 1.09646\n",
      "[500]\ttraining's multi_logloss: 1.01055\tvalid_1's multi_logloss: 1.09734\n",
      "Early stopping, best iteration is:\n",
      "[378]\ttraining's multi_logloss: 1.0279\tvalid_1's multi_logloss: 1.09638\n",
      "Seed-57 | Fold-4 | OOF Score: 1.096377678101434\n"
     ]
    },
    {
     "name": "stderr",
     "output_type": "stream",
     "text": [
      "/opt/conda/lib/python3.7/site-packages/lightgbm/basic.py:1706: UserWarning: categorical_feature in Dataset is overridden.\n",
      "New categorical_feature is [0, 1, 2, 3, 4, 5, 6, 7, 8, 9, 10, 11, 12, 13, 14, 15, 16, 17, 18, 19, 20, 21, 22, 23, 24, 25, 26, 27, 28, 29, 30, 31, 32, 33, 34, 35, 36, 37, 38, 39, 40, 41, 42, 43, 44, 45, 46, 47, 48, 49]\n",
      "  'New categorical_feature is {}'.format(sorted(list(categorical_feature))))\n",
      "/opt/conda/lib/python3.7/site-packages/lightgbm/basic.py:1433: UserWarning: Overriding the parameters from Reference Dataset.\n",
      "  _log_warning('Overriding the parameters from Reference Dataset.')\n",
      "/opt/conda/lib/python3.7/site-packages/lightgbm/basic.py:1245: UserWarning: categorical_column in param dict is overridden.\n",
      "  _log_warning('{} in param dict is overridden.'.format(cat_alias))\n"
     ]
    },
    {
     "name": "stdout",
     "output_type": "stream",
     "text": [
      "Training until validation scores don't improve for 200 rounds\n",
      "[100]\ttraining's multi_logloss: 1.08317\tvalid_1's multi_logloss: 1.10302\n",
      "[200]\ttraining's multi_logloss: 1.0594\tvalid_1's multi_logloss: 1.09717\n",
      "[300]\ttraining's multi_logloss: 1.04067\tvalid_1's multi_logloss: 1.09535\n",
      "[400]\ttraining's multi_logloss: 1.0247\tvalid_1's multi_logloss: 1.09519\n",
      "[500]\ttraining's multi_logloss: 1.01086\tvalid_1's multi_logloss: 1.0956\n",
      "Early stopping, best iteration is:\n",
      "[371]\ttraining's multi_logloss: 1.02902\tvalid_1's multi_logloss: 1.09491\n",
      "Seed-57 | Fold-5 | OOF Score: 1.0949050619344467\n"
     ]
    },
    {
     "name": "stderr",
     "output_type": "stream",
     "text": [
      "/opt/conda/lib/python3.7/site-packages/lightgbm/basic.py:1706: UserWarning: categorical_feature in Dataset is overridden.\n",
      "New categorical_feature is [0, 1, 2, 3, 4, 5, 6, 7, 8, 9, 10, 11, 12, 13, 14, 15, 16, 17, 18, 19, 20, 21, 22, 23, 24, 25, 26, 27, 28, 29, 30, 31, 32, 33, 34, 35, 36, 37, 38, 39, 40, 41, 42, 43, 44, 45, 46, 47, 48, 49]\n",
      "  'New categorical_feature is {}'.format(sorted(list(categorical_feature))))\n",
      "/opt/conda/lib/python3.7/site-packages/lightgbm/basic.py:1433: UserWarning: Overriding the parameters from Reference Dataset.\n",
      "  _log_warning('Overriding the parameters from Reference Dataset.')\n",
      "/opt/conda/lib/python3.7/site-packages/lightgbm/basic.py:1245: UserWarning: categorical_column in param dict is overridden.\n",
      "  _log_warning('{} in param dict is overridden.'.format(cat_alias))\n"
     ]
    },
    {
     "name": "stdout",
     "output_type": "stream",
     "text": [
      "Training until validation scores don't improve for 200 rounds\n",
      "[100]\ttraining's multi_logloss: 1.08373\tvalid_1's multi_logloss: 1.10103\n",
      "[200]\ttraining's multi_logloss: 1.0599\tvalid_1's multi_logloss: 1.09404\n",
      "[300]\ttraining's multi_logloss: 1.04111\tvalid_1's multi_logloss: 1.09107\n",
      "[400]\ttraining's multi_logloss: 1.02535\tvalid_1's multi_logloss: 1.09011\n",
      "[500]\ttraining's multi_logloss: 1.01129\tvalid_1's multi_logloss: 1.09016\n",
      "[600]\ttraining's multi_logloss: 0.998545\tvalid_1's multi_logloss: 1.09096\n",
      "Early stopping, best iteration is:\n",
      "[431]\ttraining's multi_logloss: 1.02086\tvalid_1's multi_logloss: 1.08996\n",
      "Seed-57 | Fold-6 | OOF Score: 1.0899647213572548\n"
     ]
    },
    {
     "name": "stderr",
     "output_type": "stream",
     "text": [
      "/opt/conda/lib/python3.7/site-packages/lightgbm/basic.py:1706: UserWarning: categorical_feature in Dataset is overridden.\n",
      "New categorical_feature is [0, 1, 2, 3, 4, 5, 6, 7, 8, 9, 10, 11, 12, 13, 14, 15, 16, 17, 18, 19, 20, 21, 22, 23, 24, 25, 26, 27, 28, 29, 30, 31, 32, 33, 34, 35, 36, 37, 38, 39, 40, 41, 42, 43, 44, 45, 46, 47, 48, 49]\n",
      "  'New categorical_feature is {}'.format(sorted(list(categorical_feature))))\n",
      "/opt/conda/lib/python3.7/site-packages/lightgbm/basic.py:1433: UserWarning: Overriding the parameters from Reference Dataset.\n",
      "  _log_warning('Overriding the parameters from Reference Dataset.')\n",
      "/opt/conda/lib/python3.7/site-packages/lightgbm/basic.py:1245: UserWarning: categorical_column in param dict is overridden.\n",
      "  _log_warning('{} in param dict is overridden.'.format(cat_alias))\n"
     ]
    },
    {
     "name": "stdout",
     "output_type": "stream",
     "text": [
      "Training until validation scores don't improve for 200 rounds\n",
      "[100]\ttraining's multi_logloss: 1.08338\tvalid_1's multi_logloss: 1.10262\n",
      "[200]\ttraining's multi_logloss: 1.05948\tvalid_1's multi_logloss: 1.09687\n",
      "[300]\ttraining's multi_logloss: 1.04067\tvalid_1's multi_logloss: 1.09469\n",
      "[400]\ttraining's multi_logloss: 1.02489\tvalid_1's multi_logloss: 1.09383\n",
      "[500]\ttraining's multi_logloss: 1.01102\tvalid_1's multi_logloss: 1.09397\n",
      "[600]\ttraining's multi_logloss: 0.998171\tvalid_1's multi_logloss: 1.09502\n",
      "Early stopping, best iteration is:\n",
      "[457]\ttraining's multi_logloss: 1.01677\tvalid_1's multi_logloss: 1.09375\n",
      "Seed-57 | Fold-7 | OOF Score: 1.0937493790770676\n"
     ]
    },
    {
     "name": "stderr",
     "output_type": "stream",
     "text": [
      "/opt/conda/lib/python3.7/site-packages/lightgbm/basic.py:1706: UserWarning: categorical_feature in Dataset is overridden.\n",
      "New categorical_feature is [0, 1, 2, 3, 4, 5, 6, 7, 8, 9, 10, 11, 12, 13, 14, 15, 16, 17, 18, 19, 20, 21, 22, 23, 24, 25, 26, 27, 28, 29, 30, 31, 32, 33, 34, 35, 36, 37, 38, 39, 40, 41, 42, 43, 44, 45, 46, 47, 48, 49]\n",
      "  'New categorical_feature is {}'.format(sorted(list(categorical_feature))))\n",
      "/opt/conda/lib/python3.7/site-packages/lightgbm/basic.py:1433: UserWarning: Overriding the parameters from Reference Dataset.\n",
      "  _log_warning('Overriding the parameters from Reference Dataset.')\n",
      "/opt/conda/lib/python3.7/site-packages/lightgbm/basic.py:1245: UserWarning: categorical_column in param dict is overridden.\n",
      "  _log_warning('{} in param dict is overridden.'.format(cat_alias))\n"
     ]
    },
    {
     "name": "stdout",
     "output_type": "stream",
     "text": [
      "Training until validation scores don't improve for 200 rounds\n",
      "[100]\ttraining's multi_logloss: 1.08335\tvalid_1's multi_logloss: 1.10309\n",
      "[200]\ttraining's multi_logloss: 1.05942\tvalid_1's multi_logloss: 1.09712\n",
      "[300]\ttraining's multi_logloss: 1.04047\tvalid_1's multi_logloss: 1.09518\n",
      "[400]\ttraining's multi_logloss: 1.02456\tvalid_1's multi_logloss: 1.09497\n",
      "[500]\ttraining's multi_logloss: 1.01072\tvalid_1's multi_logloss: 1.09567\n",
      "Early stopping, best iteration is:\n",
      "[372]\ttraining's multi_logloss: 1.02881\tvalid_1's multi_logloss: 1.09479\n",
      "Seed-57 | Fold-8 | OOF Score: 1.0947865328343196\n"
     ]
    },
    {
     "name": "stderr",
     "output_type": "stream",
     "text": [
      "/opt/conda/lib/python3.7/site-packages/lightgbm/basic.py:1706: UserWarning: categorical_feature in Dataset is overridden.\n",
      "New categorical_feature is [0, 1, 2, 3, 4, 5, 6, 7, 8, 9, 10, 11, 12, 13, 14, 15, 16, 17, 18, 19, 20, 21, 22, 23, 24, 25, 26, 27, 28, 29, 30, 31, 32, 33, 34, 35, 36, 37, 38, 39, 40, 41, 42, 43, 44, 45, 46, 47, 48, 49]\n",
      "  'New categorical_feature is {}'.format(sorted(list(categorical_feature))))\n",
      "/opt/conda/lib/python3.7/site-packages/lightgbm/basic.py:1433: UserWarning: Overriding the parameters from Reference Dataset.\n",
      "  _log_warning('Overriding the parameters from Reference Dataset.')\n",
      "/opt/conda/lib/python3.7/site-packages/lightgbm/basic.py:1245: UserWarning: categorical_column in param dict is overridden.\n",
      "  _log_warning('{} in param dict is overridden.'.format(cat_alias))\n"
     ]
    },
    {
     "name": "stdout",
     "output_type": "stream",
     "text": [
      "Training until validation scores don't improve for 200 rounds\n",
      "[100]\ttraining's multi_logloss: 1.08335\tvalid_1's multi_logloss: 1.10222\n",
      "[200]\ttraining's multi_logloss: 1.05944\tvalid_1's multi_logloss: 1.09631\n",
      "[300]\ttraining's multi_logloss: 1.04056\tvalid_1's multi_logloss: 1.09388\n",
      "[400]\ttraining's multi_logloss: 1.02463\tvalid_1's multi_logloss: 1.09324\n",
      "[500]\ttraining's multi_logloss: 1.01059\tvalid_1's multi_logloss: 1.09348\n",
      "Early stopping, best iteration is:\n",
      "[351]\ttraining's multi_logloss: 1.03216\tvalid_1's multi_logloss: 1.09319\n",
      "Seed-57 | Fold-9 | OOF Score: 1.0931941279074453\n",
      "\n",
      "Seed: 57 | Aggregate OOF Score: 1.0931714809521238\n",
      "\n",
      "\n"
     ]
    },
    {
     "name": "stderr",
     "output_type": "stream",
     "text": [
      "/opt/conda/lib/python3.7/site-packages/lightgbm/basic.py:1706: UserWarning: categorical_feature in Dataset is overridden.\n",
      "New categorical_feature is [0, 1, 2, 3, 4, 5, 6, 7, 8, 9, 10, 11, 12, 13, 14, 15, 16, 17, 18, 19, 20, 21, 22, 23, 24, 25, 26, 27, 28, 29, 30, 31, 32, 33, 34, 35, 36, 37, 38, 39, 40, 41, 42, 43, 44, 45, 46, 47, 48, 49]\n",
      "  'New categorical_feature is {}'.format(sorted(list(categorical_feature))))\n",
      "/opt/conda/lib/python3.7/site-packages/lightgbm/basic.py:1433: UserWarning: Overriding the parameters from Reference Dataset.\n",
      "  _log_warning('Overriding the parameters from Reference Dataset.')\n",
      "/opt/conda/lib/python3.7/site-packages/lightgbm/basic.py:1245: UserWarning: categorical_column in param dict is overridden.\n",
      "  _log_warning('{} in param dict is overridden.'.format(cat_alias))\n"
     ]
    },
    {
     "name": "stdout",
     "output_type": "stream",
     "text": [
      "Training until validation scores don't improve for 200 rounds\n",
      "[100]\ttraining's multi_logloss: 1.08339\tvalid_1's multi_logloss: 1.10352\n",
      "[200]\ttraining's multi_logloss: 1.05951\tvalid_1's multi_logloss: 1.09783\n",
      "[300]\ttraining's multi_logloss: 1.04059\tvalid_1's multi_logloss: 1.09604\n",
      "[400]\ttraining's multi_logloss: 1.02477\tvalid_1's multi_logloss: 1.09572\n",
      "[500]\ttraining's multi_logloss: 1.01096\tvalid_1's multi_logloss: 1.09639\n",
      "Early stopping, best iteration is:\n",
      "[392]\ttraining's multi_logloss: 1.02597\tvalid_1's multi_logloss: 1.09568\n",
      "Seed-0 | Fold-0 | OOF Score: 1.0956824270775354\n"
     ]
    },
    {
     "name": "stderr",
     "output_type": "stream",
     "text": [
      "/opt/conda/lib/python3.7/site-packages/lightgbm/basic.py:1706: UserWarning: categorical_feature in Dataset is overridden.\n",
      "New categorical_feature is [0, 1, 2, 3, 4, 5, 6, 7, 8, 9, 10, 11, 12, 13, 14, 15, 16, 17, 18, 19, 20, 21, 22, 23, 24, 25, 26, 27, 28, 29, 30, 31, 32, 33, 34, 35, 36, 37, 38, 39, 40, 41, 42, 43, 44, 45, 46, 47, 48, 49]\n",
      "  'New categorical_feature is {}'.format(sorted(list(categorical_feature))))\n",
      "/opt/conda/lib/python3.7/site-packages/lightgbm/basic.py:1433: UserWarning: Overriding the parameters from Reference Dataset.\n",
      "  _log_warning('Overriding the parameters from Reference Dataset.')\n",
      "/opt/conda/lib/python3.7/site-packages/lightgbm/basic.py:1245: UserWarning: categorical_column in param dict is overridden.\n",
      "  _log_warning('{} in param dict is overridden.'.format(cat_alias))\n"
     ]
    },
    {
     "name": "stdout",
     "output_type": "stream",
     "text": [
      "Training until validation scores don't improve for 200 rounds\n",
      "[100]\ttraining's multi_logloss: 1.08341\tvalid_1's multi_logloss: 1.10143\n",
      "[200]\ttraining's multi_logloss: 1.05957\tvalid_1's multi_logloss: 1.09508\n",
      "[300]\ttraining's multi_logloss: 1.04076\tvalid_1's multi_logloss: 1.09231\n",
      "[400]\ttraining's multi_logloss: 1.02492\tvalid_1's multi_logloss: 1.09197\n",
      "[500]\ttraining's multi_logloss: 1.01099\tvalid_1's multi_logloss: 1.09225\n",
      "Early stopping, best iteration is:\n",
      "[380]\ttraining's multi_logloss: 1.02789\tvalid_1's multi_logloss: 1.09191\n",
      "Seed-0 | Fold-1 | OOF Score: 1.091912414688964\n"
     ]
    },
    {
     "name": "stderr",
     "output_type": "stream",
     "text": [
      "/opt/conda/lib/python3.7/site-packages/lightgbm/basic.py:1706: UserWarning: categorical_feature in Dataset is overridden.\n",
      "New categorical_feature is [0, 1, 2, 3, 4, 5, 6, 7, 8, 9, 10, 11, 12, 13, 14, 15, 16, 17, 18, 19, 20, 21, 22, 23, 24, 25, 26, 27, 28, 29, 30, 31, 32, 33, 34, 35, 36, 37, 38, 39, 40, 41, 42, 43, 44, 45, 46, 47, 48, 49]\n",
      "  'New categorical_feature is {}'.format(sorted(list(categorical_feature))))\n",
      "/opt/conda/lib/python3.7/site-packages/lightgbm/basic.py:1433: UserWarning: Overriding the parameters from Reference Dataset.\n",
      "  _log_warning('Overriding the parameters from Reference Dataset.')\n",
      "/opt/conda/lib/python3.7/site-packages/lightgbm/basic.py:1245: UserWarning: categorical_column in param dict is overridden.\n",
      "  _log_warning('{} in param dict is overridden.'.format(cat_alias))\n"
     ]
    },
    {
     "name": "stdout",
     "output_type": "stream",
     "text": [
      "Training until validation scores don't improve for 200 rounds\n",
      "[100]\ttraining's multi_logloss: 1.08324\tvalid_1's multi_logloss: 1.10303\n",
      "[200]\ttraining's multi_logloss: 1.05938\tvalid_1's multi_logloss: 1.09704\n",
      "[300]\ttraining's multi_logloss: 1.04049\tvalid_1's multi_logloss: 1.09462\n",
      "[400]\ttraining's multi_logloss: 1.02475\tvalid_1's multi_logloss: 1.09418\n",
      "[500]\ttraining's multi_logloss: 1.01078\tvalid_1's multi_logloss: 1.09452\n",
      "[600]\ttraining's multi_logloss: 0.998034\tvalid_1's multi_logloss: 1.09538\n",
      "Early stopping, best iteration is:\n",
      "[405]\ttraining's multi_logloss: 1.02401\tvalid_1's multi_logloss: 1.09414\n",
      "Seed-0 | Fold-2 | OOF Score: 1.0941413902232886\n"
     ]
    },
    {
     "name": "stderr",
     "output_type": "stream",
     "text": [
      "/opt/conda/lib/python3.7/site-packages/lightgbm/basic.py:1706: UserWarning: categorical_feature in Dataset is overridden.\n",
      "New categorical_feature is [0, 1, 2, 3, 4, 5, 6, 7, 8, 9, 10, 11, 12, 13, 14, 15, 16, 17, 18, 19, 20, 21, 22, 23, 24, 25, 26, 27, 28, 29, 30, 31, 32, 33, 34, 35, 36, 37, 38, 39, 40, 41, 42, 43, 44, 45, 46, 47, 48, 49]\n",
      "  'New categorical_feature is {}'.format(sorted(list(categorical_feature))))\n",
      "/opt/conda/lib/python3.7/site-packages/lightgbm/basic.py:1433: UserWarning: Overriding the parameters from Reference Dataset.\n",
      "  _log_warning('Overriding the parameters from Reference Dataset.')\n",
      "/opt/conda/lib/python3.7/site-packages/lightgbm/basic.py:1245: UserWarning: categorical_column in param dict is overridden.\n",
      "  _log_warning('{} in param dict is overridden.'.format(cat_alias))\n"
     ]
    },
    {
     "name": "stdout",
     "output_type": "stream",
     "text": [
      "Training until validation scores don't improve for 200 rounds\n",
      "[100]\ttraining's multi_logloss: 1.0836\tvalid_1's multi_logloss: 1.10167\n",
      "[200]\ttraining's multi_logloss: 1.05982\tvalid_1's multi_logloss: 1.09544\n",
      "[300]\ttraining's multi_logloss: 1.04104\tvalid_1's multi_logloss: 1.09262\n",
      "[400]\ttraining's multi_logloss: 1.02527\tvalid_1's multi_logloss: 1.09185\n",
      "[500]\ttraining's multi_logloss: 1.01142\tvalid_1's multi_logloss: 1.09244\n",
      "[600]\ttraining's multi_logloss: 0.998535\tvalid_1's multi_logloss: 1.09332\n",
      "Early stopping, best iteration is:\n",
      "[400]\ttraining's multi_logloss: 1.02527\tvalid_1's multi_logloss: 1.09185\n",
      "Seed-0 | Fold-3 | OOF Score: 1.0918546002947083\n"
     ]
    },
    {
     "name": "stderr",
     "output_type": "stream",
     "text": [
      "/opt/conda/lib/python3.7/site-packages/lightgbm/basic.py:1706: UserWarning: categorical_feature in Dataset is overridden.\n",
      "New categorical_feature is [0, 1, 2, 3, 4, 5, 6, 7, 8, 9, 10, 11, 12, 13, 14, 15, 16, 17, 18, 19, 20, 21, 22, 23, 24, 25, 26, 27, 28, 29, 30, 31, 32, 33, 34, 35, 36, 37, 38, 39, 40, 41, 42, 43, 44, 45, 46, 47, 48, 49]\n",
      "  'New categorical_feature is {}'.format(sorted(list(categorical_feature))))\n",
      "/opt/conda/lib/python3.7/site-packages/lightgbm/basic.py:1433: UserWarning: Overriding the parameters from Reference Dataset.\n",
      "  _log_warning('Overriding the parameters from Reference Dataset.')\n",
      "/opt/conda/lib/python3.7/site-packages/lightgbm/basic.py:1245: UserWarning: categorical_column in param dict is overridden.\n",
      "  _log_warning('{} in param dict is overridden.'.format(cat_alias))\n"
     ]
    },
    {
     "name": "stdout",
     "output_type": "stream",
     "text": [
      "Training until validation scores don't improve for 200 rounds\n",
      "[100]\ttraining's multi_logloss: 1.08374\tvalid_1's multi_logloss: 1.10045\n",
      "[200]\ttraining's multi_logloss: 1.06002\tvalid_1's multi_logloss: 1.09316\n",
      "[300]\ttraining's multi_logloss: 1.04125\tvalid_1's multi_logloss: 1.08996\n",
      "[400]\ttraining's multi_logloss: 1.02543\tvalid_1's multi_logloss: 1.08915\n",
      "[500]\ttraining's multi_logloss: 1.01153\tvalid_1's multi_logloss: 1.08946\n",
      "[600]\ttraining's multi_logloss: 0.998661\tvalid_1's multi_logloss: 1.09042\n",
      "Early stopping, best iteration is:\n",
      "[438]\ttraining's multi_logloss: 1.01999\tvalid_1's multi_logloss: 1.08909\n",
      "Seed-0 | Fold-4 | OOF Score: 1.0890860089289418\n"
     ]
    },
    {
     "name": "stderr",
     "output_type": "stream",
     "text": [
      "/opt/conda/lib/python3.7/site-packages/lightgbm/basic.py:1706: UserWarning: categorical_feature in Dataset is overridden.\n",
      "New categorical_feature is [0, 1, 2, 3, 4, 5, 6, 7, 8, 9, 10, 11, 12, 13, 14, 15, 16, 17, 18, 19, 20, 21, 22, 23, 24, 25, 26, 27, 28, 29, 30, 31, 32, 33, 34, 35, 36, 37, 38, 39, 40, 41, 42, 43, 44, 45, 46, 47, 48, 49]\n",
      "  'New categorical_feature is {}'.format(sorted(list(categorical_feature))))\n",
      "/opt/conda/lib/python3.7/site-packages/lightgbm/basic.py:1433: UserWarning: Overriding the parameters from Reference Dataset.\n",
      "  _log_warning('Overriding the parameters from Reference Dataset.')\n",
      "/opt/conda/lib/python3.7/site-packages/lightgbm/basic.py:1245: UserWarning: categorical_column in param dict is overridden.\n",
      "  _log_warning('{} in param dict is overridden.'.format(cat_alias))\n"
     ]
    },
    {
     "name": "stdout",
     "output_type": "stream",
     "text": [
      "Training until validation scores don't improve for 200 rounds\n",
      "[100]\ttraining's multi_logloss: 1.08351\tvalid_1's multi_logloss: 1.10156\n",
      "[200]\ttraining's multi_logloss: 1.05975\tvalid_1's multi_logloss: 1.09505\n",
      "[300]\ttraining's multi_logloss: 1.04087\tvalid_1's multi_logloss: 1.0926\n",
      "[400]\ttraining's multi_logloss: 1.025\tvalid_1's multi_logloss: 1.09189\n",
      "[500]\ttraining's multi_logloss: 1.0111\tvalid_1's multi_logloss: 1.09213\n",
      "Early stopping, best iteration is:\n",
      "[392]\ttraining's multi_logloss: 1.02615\tvalid_1's multi_logloss: 1.09183\n",
      "Seed-0 | Fold-5 | OOF Score: 1.0918251374647447\n"
     ]
    },
    {
     "name": "stderr",
     "output_type": "stream",
     "text": [
      "/opt/conda/lib/python3.7/site-packages/lightgbm/basic.py:1706: UserWarning: categorical_feature in Dataset is overridden.\n",
      "New categorical_feature is [0, 1, 2, 3, 4, 5, 6, 7, 8, 9, 10, 11, 12, 13, 14, 15, 16, 17, 18, 19, 20, 21, 22, 23, 24, 25, 26, 27, 28, 29, 30, 31, 32, 33, 34, 35, 36, 37, 38, 39, 40, 41, 42, 43, 44, 45, 46, 47, 48, 49]\n",
      "  'New categorical_feature is {}'.format(sorted(list(categorical_feature))))\n",
      "/opt/conda/lib/python3.7/site-packages/lightgbm/basic.py:1433: UserWarning: Overriding the parameters from Reference Dataset.\n",
      "  _log_warning('Overriding the parameters from Reference Dataset.')\n",
      "/opt/conda/lib/python3.7/site-packages/lightgbm/basic.py:1245: UserWarning: categorical_column in param dict is overridden.\n",
      "  _log_warning('{} in param dict is overridden.'.format(cat_alias))\n"
     ]
    },
    {
     "name": "stdout",
     "output_type": "stream",
     "text": [
      "Training until validation scores don't improve for 200 rounds\n",
      "[100]\ttraining's multi_logloss: 1.0834\tvalid_1's multi_logloss: 1.10241\n",
      "[200]\ttraining's multi_logloss: 1.05955\tvalid_1's multi_logloss: 1.09628\n",
      "[300]\ttraining's multi_logloss: 1.04086\tvalid_1's multi_logloss: 1.09353\n",
      "[400]\ttraining's multi_logloss: 1.02517\tvalid_1's multi_logloss: 1.09268\n",
      "[500]\ttraining's multi_logloss: 1.01132\tvalid_1's multi_logloss: 1.09295\n",
      "Early stopping, best iteration is:\n",
      "[392]\ttraining's multi_logloss: 1.02634\tvalid_1's multi_logloss: 1.09264\n",
      "Seed-0 | Fold-6 | OOF Score: 1.0926443093938198\n"
     ]
    },
    {
     "name": "stderr",
     "output_type": "stream",
     "text": [
      "/opt/conda/lib/python3.7/site-packages/lightgbm/basic.py:1706: UserWarning: categorical_feature in Dataset is overridden.\n",
      "New categorical_feature is [0, 1, 2, 3, 4, 5, 6, 7, 8, 9, 10, 11, 12, 13, 14, 15, 16, 17, 18, 19, 20, 21, 22, 23, 24, 25, 26, 27, 28, 29, 30, 31, 32, 33, 34, 35, 36, 37, 38, 39, 40, 41, 42, 43, 44, 45, 46, 47, 48, 49]\n",
      "  'New categorical_feature is {}'.format(sorted(list(categorical_feature))))\n",
      "/opt/conda/lib/python3.7/site-packages/lightgbm/basic.py:1433: UserWarning: Overriding the parameters from Reference Dataset.\n",
      "  _log_warning('Overriding the parameters from Reference Dataset.')\n",
      "/opt/conda/lib/python3.7/site-packages/lightgbm/basic.py:1245: UserWarning: categorical_column in param dict is overridden.\n",
      "  _log_warning('{} in param dict is overridden.'.format(cat_alias))\n"
     ]
    },
    {
     "name": "stdout",
     "output_type": "stream",
     "text": [
      "Training until validation scores don't improve for 200 rounds\n",
      "[100]\ttraining's multi_logloss: 1.08331\tvalid_1's multi_logloss: 1.10254\n",
      "[200]\ttraining's multi_logloss: 1.0595\tvalid_1's multi_logloss: 1.09647\n",
      "[300]\ttraining's multi_logloss: 1.04072\tvalid_1's multi_logloss: 1.09457\n",
      "[400]\ttraining's multi_logloss: 1.02483\tvalid_1's multi_logloss: 1.0944\n",
      "[500]\ttraining's multi_logloss: 1.01087\tvalid_1's multi_logloss: 1.09511\n",
      "[600]\ttraining's multi_logloss: 0.997923\tvalid_1's multi_logloss: 1.0963\n",
      "Early stopping, best iteration is:\n",
      "[414]\ttraining's multi_logloss: 1.02273\tvalid_1's multi_logloss: 1.09434\n",
      "Seed-0 | Fold-7 | OOF Score: 1.0943361474695368\n"
     ]
    },
    {
     "name": "stderr",
     "output_type": "stream",
     "text": [
      "/opt/conda/lib/python3.7/site-packages/lightgbm/basic.py:1706: UserWarning: categorical_feature in Dataset is overridden.\n",
      "New categorical_feature is [0, 1, 2, 3, 4, 5, 6, 7, 8, 9, 10, 11, 12, 13, 14, 15, 16, 17, 18, 19, 20, 21, 22, 23, 24, 25, 26, 27, 28, 29, 30, 31, 32, 33, 34, 35, 36, 37, 38, 39, 40, 41, 42, 43, 44, 45, 46, 47, 48, 49]\n",
      "  'New categorical_feature is {}'.format(sorted(list(categorical_feature))))\n",
      "/opt/conda/lib/python3.7/site-packages/lightgbm/basic.py:1433: UserWarning: Overriding the parameters from Reference Dataset.\n",
      "  _log_warning('Overriding the parameters from Reference Dataset.')\n",
      "/opt/conda/lib/python3.7/site-packages/lightgbm/basic.py:1245: UserWarning: categorical_column in param dict is overridden.\n",
      "  _log_warning('{} in param dict is overridden.'.format(cat_alias))\n"
     ]
    },
    {
     "name": "stdout",
     "output_type": "stream",
     "text": [
      "Training until validation scores don't improve for 200 rounds\n",
      "[100]\ttraining's multi_logloss: 1.08345\tvalid_1's multi_logloss: 1.10133\n",
      "[200]\ttraining's multi_logloss: 1.05957\tvalid_1's multi_logloss: 1.0949\n",
      "[300]\ttraining's multi_logloss: 1.04071\tvalid_1's multi_logloss: 1.09274\n",
      "[400]\ttraining's multi_logloss: 1.025\tvalid_1's multi_logloss: 1.09228\n",
      "[500]\ttraining's multi_logloss: 1.01097\tvalid_1's multi_logloss: 1.09268\n",
      "[600]\ttraining's multi_logloss: 0.998207\tvalid_1's multi_logloss: 1.09341\n",
      "Early stopping, best iteration is:\n",
      "[408]\ttraining's multi_logloss: 1.02381\tvalid_1's multi_logloss: 1.09226\n",
      "Seed-0 | Fold-8 | OOF Score: 1.0922559293621112\n"
     ]
    },
    {
     "name": "stderr",
     "output_type": "stream",
     "text": [
      "/opt/conda/lib/python3.7/site-packages/lightgbm/basic.py:1706: UserWarning: categorical_feature in Dataset is overridden.\n",
      "New categorical_feature is [0, 1, 2, 3, 4, 5, 6, 7, 8, 9, 10, 11, 12, 13, 14, 15, 16, 17, 18, 19, 20, 21, 22, 23, 24, 25, 26, 27, 28, 29, 30, 31, 32, 33, 34, 35, 36, 37, 38, 39, 40, 41, 42, 43, 44, 45, 46, 47, 48, 49]\n",
      "  'New categorical_feature is {}'.format(sorted(list(categorical_feature))))\n",
      "/opt/conda/lib/python3.7/site-packages/lightgbm/basic.py:1433: UserWarning: Overriding the parameters from Reference Dataset.\n",
      "  _log_warning('Overriding the parameters from Reference Dataset.')\n",
      "/opt/conda/lib/python3.7/site-packages/lightgbm/basic.py:1245: UserWarning: categorical_column in param dict is overridden.\n",
      "  _log_warning('{} in param dict is overridden.'.format(cat_alias))\n"
     ]
    },
    {
     "name": "stdout",
     "output_type": "stream",
     "text": [
      "Training until validation scores don't improve for 200 rounds\n",
      "[100]\ttraining's multi_logloss: 1.08313\tvalid_1's multi_logloss: 1.1036\n",
      "[200]\ttraining's multi_logloss: 1.05916\tvalid_1's multi_logloss: 1.09823\n",
      "[300]\ttraining's multi_logloss: 1.04034\tvalid_1's multi_logloss: 1.09628\n",
      "[400]\ttraining's multi_logloss: 1.02442\tvalid_1's multi_logloss: 1.09636\n",
      "[500]\ttraining's multi_logloss: 1.01034\tvalid_1's multi_logloss: 1.09696\n",
      "Early stopping, best iteration is:\n",
      "[345]\ttraining's multi_logloss: 1.03286\tvalid_1's multi_logloss: 1.09605\n",
      "Seed-0 | Fold-9 | OOF Score: 1.096048605816949\n",
      "\n",
      "Seed: 0 | Aggregate OOF Score: 1.0929786970720596\n",
      "\n",
      "\n",
      "Aggregate OOF Score: 1.0930628282060009\n"
     ]
    }
   ],
   "source": [
    "FOLD = 10\n",
    "NUM_SEED = 3\n",
    "\n",
    "# Prediction Clipping Thresholds\n",
    "p_min = 0.025\n",
    "p_max = 1 - p_min\n",
    "\n",
    "np.random.seed(2021)\n",
    "seeds = np.random.randint(0, 100, size=NUM_SEED)\n",
    "\n",
    "oof_score = 0\n",
    "y_pred_meta_lgb = np.zeros((Ytrain.shape[0], 4))\n",
    "y_pred_final_lgb = np.zeros((Xtest.shape[0], 4))\n",
    "counter = 0\n",
    "\n",
    "\n",
    "for sidx, seed in enumerate(seeds):\n",
    "    seed_score = 0\n",
    "    \n",
    "    kfold = StratifiedKFold(n_splits=FOLD, shuffle=True, random_state=seed)\n",
    "\n",
    "    for idx, (train, val) in enumerate(kfold.split(Xtrain, Ytrain)):\n",
    "        counter += 1\n",
    "\n",
    "        train_x, train_y, train_y_oh = Xtrain[train], Ytrain[train], Ytrain_oh[train]\n",
    "        val_x, val_y, val_y_oh = Xtrain[val], Ytrain[val], Ytrain_oh[val]\n",
    "\n",
    "        lgtrain = lgb.Dataset(train_x, label=train_y.ravel())\n",
    "        lgvalidation = lgb.Dataset(val_x, label=val_y.ravel())\n",
    "\n",
    "        model = lgb.train(params, lgtrain, num_rounds, \n",
    "                          valid_sets=[lgtrain, lgvalidation], \n",
    "                          categorical_feature=cat_cols_indices,\n",
    "                          early_stopping_rounds=200, verbose_eval=100)\n",
    "\n",
    "        y_pred = model.predict(val_x, num_iteration=model.best_iteration)\n",
    "        y_pred = np.clip(y_pred, p_min, p_max)\n",
    "        y_pred_meta_lgb[val] += y_pred\n",
    "        y_pred_final_lgb += model.predict(Xtest, num_iteration=model.best_iteration)\n",
    "        \n",
    "        score = log_loss(val_y_oh, y_pred)\n",
    "        oof_score += score\n",
    "        seed_score += score\n",
    "        print(\"Seed-{} | Fold-{} | OOF Score: {}\".format(seed, idx, score))\n",
    "    \n",
    "    print(\"\\nSeed: {} | Aggregate OOF Score: {}\\n\\n\".format(seed, (seed_score / FOLD)))\n",
    "\n",
    "\n",
    "y_pred_meta_lgb = y_pred_meta_lgb / float(NUM_SEED)\n",
    "y_pred_final_lgb = y_pred_final_lgb / float(counter)\n",
    "oof_score /= float(counter)\n",
    "print(\"Aggregate OOF Score: {}\".format(oof_score))"
   ]
  },
  {
   "cell_type": "code",
   "execution_count": 7,
   "id": "significant-mozambique",
   "metadata": {
    "execution": {
     "iopub.execute_input": "2021-05-17T05:43:06.366552Z",
     "iopub.status.busy": "2021-05-17T05:43:06.365885Z",
     "iopub.status.idle": "2021-05-17T05:43:06.653952Z",
     "shell.execute_reply": "2021-05-17T05:43:06.653302Z"
    },
    "id": "uLzmS7LzXvXy",
    "papermill": {
     "duration": 0.399774,
     "end_time": "2021-05-17T05:43:06.654110",
     "exception": false,
     "start_time": "2021-05-17T05:43:06.254336",
     "status": "completed"
    },
    "tags": []
   },
   "outputs": [],
   "source": [
    "np.savez_compressed('./LGB_Meta_Features.npz',\n",
    "                    y_pred_meta_lgb=y_pred_meta_lgb, \n",
    "                    oof_score=oof_score,\n",
    "                    y_pred_final_lgb=y_pred_final_lgb)"
   ]
  },
  {
   "cell_type": "markdown",
   "id": "rotary-education",
   "metadata": {
    "id": "nZvoU4TpWxmY",
    "papermill": {
     "duration": 0.107393,
     "end_time": "2021-05-17T05:43:06.873039",
     "exception": false,
     "start_time": "2021-05-17T05:43:06.765646",
     "status": "completed"
    },
    "tags": []
   },
   "source": [
    "## Create submission file"
   ]
  },
  {
   "cell_type": "code",
   "execution_count": 8,
   "id": "ordered-independence",
   "metadata": {
    "execution": {
     "iopub.execute_input": "2021-05-17T05:43:07.096206Z",
     "iopub.status.busy": "2021-05-17T05:43:07.095335Z",
     "iopub.status.idle": "2021-05-17T05:43:07.433339Z",
     "shell.execute_reply": "2021-05-17T05:43:07.432688Z"
    },
    "executionInfo": {
     "elapsed": 1417,
     "status": "ok",
     "timestamp": 1616078535765,
     "user": {
      "displayName": "TAPAS DAS",
      "photoUrl": "https://lh3.googleusercontent.com/a-/AOh14GiyffdGKiPCR_UwVittzTcbBFms70IkGfU15fatCA=s64",
      "userId": "10798398878324948542"
     },
     "user_tz": -330
    },
    "id": "zGEGOAJHVoHV",
    "outputId": "53ab44cf-755f-435d-c1af-f4184f2114dd",
    "papermill": {
     "duration": 0.452516,
     "end_time": "2021-05-17T05:43:07.433498",
     "exception": false,
     "start_time": "2021-05-17T05:43:06.980982",
     "status": "completed"
    },
    "tags": []
   },
   "outputs": [
    {
     "data": {
      "text/html": [
       "<div>\n",
       "<style scoped>\n",
       "    .dataframe tbody tr th:only-of-type {\n",
       "        vertical-align: middle;\n",
       "    }\n",
       "\n",
       "    .dataframe tbody tr th {\n",
       "        vertical-align: top;\n",
       "    }\n",
       "\n",
       "    .dataframe thead th {\n",
       "        text-align: right;\n",
       "    }\n",
       "</style>\n",
       "<table border=\"1\" class=\"dataframe\">\n",
       "  <thead>\n",
       "    <tr style=\"text-align: right;\">\n",
       "      <th></th>\n",
       "      <th>id</th>\n",
       "      <th>Class_1</th>\n",
       "      <th>Class_2</th>\n",
       "      <th>Class_3</th>\n",
       "      <th>Class_4</th>\n",
       "    </tr>\n",
       "  </thead>\n",
       "  <tbody>\n",
       "    <tr>\n",
       "      <th>0</th>\n",
       "      <td>100000</td>\n",
       "      <td>0.095230</td>\n",
       "      <td>0.586324</td>\n",
       "      <td>0.192020</td>\n",
       "      <td>0.126425</td>\n",
       "    </tr>\n",
       "    <tr>\n",
       "      <th>1</th>\n",
       "      <td>100001</td>\n",
       "      <td>0.069203</td>\n",
       "      <td>0.653195</td>\n",
       "      <td>0.177344</td>\n",
       "      <td>0.100258</td>\n",
       "    </tr>\n",
       "    <tr>\n",
       "      <th>2</th>\n",
       "      <td>100002</td>\n",
       "      <td>0.066250</td>\n",
       "      <td>0.685988</td>\n",
       "      <td>0.157051</td>\n",
       "      <td>0.090711</td>\n",
       "    </tr>\n",
       "    <tr>\n",
       "      <th>3</th>\n",
       "      <td>100003</td>\n",
       "      <td>0.081788</td>\n",
       "      <td>0.543207</td>\n",
       "      <td>0.289045</td>\n",
       "      <td>0.085960</td>\n",
       "    </tr>\n",
       "    <tr>\n",
       "      <th>4</th>\n",
       "      <td>100004</td>\n",
       "      <td>0.067470</td>\n",
       "      <td>0.663538</td>\n",
       "      <td>0.168722</td>\n",
       "      <td>0.100269</td>\n",
       "    </tr>\n",
       "  </tbody>\n",
       "</table>\n",
       "</div>"
      ],
      "text/plain": [
       "       id   Class_1   Class_2   Class_3   Class_4\n",
       "0  100000  0.095230  0.586324  0.192020  0.126425\n",
       "1  100001  0.069203  0.653195  0.177344  0.100258\n",
       "2  100002  0.066250  0.685988  0.157051  0.090711\n",
       "3  100003  0.081788  0.543207  0.289045  0.085960\n",
       "4  100004  0.067470  0.663538  0.168722  0.100269"
      ]
     },
     "execution_count": 8,
     "metadata": {},
     "output_type": "execute_result"
    }
   ],
   "source": [
    "y_pred_final_lgb = np.clip(y_pred_final_lgb, p_min, p_max)\n",
    "\n",
    "test_df = pd.read_csv(\"../input/tabular-playground-series-may-2021/test.csv\")\n",
    "submit_df = pd.DataFrame()\n",
    "submit_df['id'] = test_df['id']\n",
    "submit_df['Class_1'] = y_pred_final_lgb[:,0]\n",
    "submit_df['Class_2'] = y_pred_final_lgb[:,1]\n",
    "submit_df['Class_3'] = y_pred_final_lgb[:,2]\n",
    "submit_df['Class_4'] = y_pred_final_lgb[:,3]\n",
    "submit_df.head()"
   ]
  },
  {
   "cell_type": "code",
   "execution_count": 9,
   "id": "genetic-handy",
   "metadata": {
    "execution": {
     "iopub.execute_input": "2021-05-17T05:43:07.662792Z",
     "iopub.status.busy": "2021-05-17T05:43:07.662128Z",
     "iopub.status.idle": "2021-05-17T05:43:08.195756Z",
     "shell.execute_reply": "2021-05-17T05:43:08.194347Z"
    },
    "id": "KDIsotrKVoJN",
    "papermill": {
     "duration": 0.652133,
     "end_time": "2021-05-17T05:43:08.196044",
     "exception": false,
     "start_time": "2021-05-17T05:43:07.543911",
     "status": "completed"
    },
    "tags": []
   },
   "outputs": [],
   "source": [
    "submit_df.to_csv(\"./LGB_submission.csv\", index=False)"
   ]
  },
  {
   "cell_type": "code",
   "execution_count": null,
   "id": "alive-spectrum",
   "metadata": {
    "id": "W2c88MvxXm65",
    "papermill": {
     "duration": 0.109719,
     "end_time": "2021-05-17T05:43:08.415774",
     "exception": false,
     "start_time": "2021-05-17T05:43:08.306055",
     "status": "completed"
    },
    "tags": []
   },
   "outputs": [],
   "source": []
  }
 ],
 "metadata": {
  "kernelspec": {
   "display_name": "Python 3",
   "language": "python",
   "name": "python3"
  },
  "language_info": {
   "codemirror_mode": {
    "name": "ipython",
    "version": 3
   },
   "file_extension": ".py",
   "mimetype": "text/x-python",
   "name": "python",
   "nbconvert_exporter": "python",
   "pygments_lexer": "ipython3",
   "version": "3.7.10"
  },
  "papermill": {
   "default_parameters": {},
   "duration": 4185.307757,
   "end_time": "2021-05-17T05:43:10.072688",
   "environment_variables": {},
   "exception": null,
   "input_path": "__notebook__.ipynb",
   "output_path": "__notebook__.ipynb",
   "parameters": {},
   "start_time": "2021-05-17T04:33:24.764931",
   "version": "2.3.3"
  }
 },
 "nbformat": 4,
 "nbformat_minor": 5
}
