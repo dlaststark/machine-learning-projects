{
 "cells": [
  {
   "cell_type": "markdown",
   "id": "1e6646df",
   "metadata": {
    "id": "uLz9OcH8SeET",
    "papermill": {
     "duration": 0.013034,
     "end_time": "2021-05-16T17:16:10.292116",
     "exception": false,
     "start_time": "2021-05-16T17:16:10.279082",
     "status": "completed"
    },
    "tags": []
   },
   "source": [
    "## Import libraries"
   ]
  },
  {
   "cell_type": "code",
   "execution_count": 1,
   "id": "3a020ec5",
   "metadata": {
    "execution": {
     "iopub.execute_input": "2021-05-16T17:16:10.323122Z",
     "iopub.status.busy": "2021-05-16T17:16:10.321049Z",
     "iopub.status.idle": "2021-05-16T17:16:11.405870Z",
     "shell.execute_reply": "2021-05-16T17:16:11.406855Z"
    },
    "executionInfo": {
     "elapsed": 23727,
     "status": "ok",
     "timestamp": 1616326442041,
     "user": {
      "displayName": "TAPAS DAS",
      "photoUrl": "https://lh3.googleusercontent.com/a-/AOh14GiyffdGKiPCR_UwVittzTcbBFms70IkGfU15fatCA=s64",
      "userId": "10798398878324948542"
     },
     "user_tz": -330
    },
    "id": "E9svswc9SUuX",
    "papermill": {
     "duration": 1.103211,
     "end_time": "2021-05-16T17:16:11.407321",
     "exception": false,
     "start_time": "2021-05-16T17:16:10.304110",
     "status": "completed"
    },
    "tags": []
   },
   "outputs": [],
   "source": [
    "import gc\n",
    "import pickle\n",
    "import numpy as np\n",
    "import pandas as pd\n",
    "from tqdm import tqdm\n",
    "from xgboost import XGBClassifier\n",
    "from sklearn.metrics import log_loss\n",
    "from sklearn.model_selection import StratifiedKFold"
   ]
  },
  {
   "cell_type": "markdown",
   "id": "6e5a7b65",
   "metadata": {
    "id": "hg85SpW-S6hl",
    "papermill": {
     "duration": 0.01944,
     "end_time": "2021-05-16T17:16:11.445781",
     "exception": false,
     "start_time": "2021-05-16T17:16:11.426341",
     "status": "completed"
    },
    "tags": []
   },
   "source": [
    "## Prepare data for model training"
   ]
  },
  {
   "cell_type": "code",
   "execution_count": 2,
   "id": "79799f0e",
   "metadata": {
    "execution": {
     "iopub.execute_input": "2021-05-16T17:16:11.491150Z",
     "iopub.status.busy": "2021-05-16T17:16:11.489992Z",
     "iopub.status.idle": "2021-05-16T17:16:14.495546Z",
     "shell.execute_reply": "2021-05-16T17:16:14.496338Z"
    },
    "executionInfo": {
     "elapsed": 10043,
     "status": "ok",
     "timestamp": 1616326444482,
     "user": {
      "displayName": "TAPAS DAS",
      "photoUrl": "https://lh3.googleusercontent.com/a-/AOh14GiyffdGKiPCR_UwVittzTcbBFms70IkGfU15fatCA=s64",
      "userId": "10798398878324948542"
     },
     "user_tz": -330
    },
    "id": "VdhgoIAmSUxK",
    "outputId": "7897cfad-c8d4-46d9-86ea-04de37e11444",
    "papermill": {
     "duration": 3.031834,
     "end_time": "2021-05-16T17:16:14.496558",
     "exception": false,
     "start_time": "2021-05-16T17:16:11.464724",
     "status": "completed"
    },
    "tags": []
   },
   "outputs": [
    {
     "data": {
      "text/plain": [
       "20"
      ]
     },
     "execution_count": 2,
     "metadata": {},
     "output_type": "execute_result"
    }
   ],
   "source": [
    "with open(\"../input/tps-may-data-preprocess-v4/TPS_May_Dataset.txt\", 'rb') as handle: \n",
    "    data = handle.read()\n",
    "\n",
    "processed_data = pickle.loads(data)\n",
    "train_df = processed_data['train_df']\n",
    "test_df = processed_data['test_df']\n",
    "\n",
    "del processed_data\n",
    "gc.collect()"
   ]
  },
  {
   "cell_type": "code",
   "execution_count": 3,
   "id": "514e3c76",
   "metadata": {
    "execution": {
     "iopub.execute_input": "2021-05-16T17:16:14.549992Z",
     "iopub.status.busy": "2021-05-16T17:16:14.549262Z",
     "iopub.status.idle": "2021-05-16T17:16:14.621666Z",
     "shell.execute_reply": "2021-05-16T17:16:14.619188Z"
    },
    "papermill": {
     "duration": 0.112213,
     "end_time": "2021-05-16T17:16:14.621940",
     "exception": false,
     "start_time": "2021-05-16T17:16:14.509727",
     "status": "completed"
    },
    "tags": []
   },
   "outputs": [
    {
     "name": "stderr",
     "output_type": "stream",
     "text": [
      "100%|██████████| 50/50 [00:00<00:00, 885.03it/s]"
     ]
    },
    {
     "name": "stdout",
     "output_type": "stream",
     "text": [
      "37\n"
     ]
    },
    {
     "name": "stderr",
     "output_type": "stream",
     "text": [
      "\n"
     ]
    },
    {
     "data": {
      "text/plain": [
       "['feature_0',\n",
       " 'feature_2',\n",
       " 'feature_3',\n",
       " 'feature_4',\n",
       " 'feature_5',\n",
       " 'feature_6',\n",
       " 'feature_7',\n",
       " 'feature_9',\n",
       " 'feature_10',\n",
       " 'feature_11',\n",
       " 'feature_12',\n",
       " 'feature_13',\n",
       " 'feature_15',\n",
       " 'feature_16',\n",
       " 'feature_17',\n",
       " 'feature_18',\n",
       " 'feature_20',\n",
       " 'feature_21',\n",
       " 'feature_22',\n",
       " 'feature_23',\n",
       " 'feature_25',\n",
       " 'feature_26',\n",
       " 'feature_27',\n",
       " 'feature_28',\n",
       " 'feature_29',\n",
       " 'feature_32',\n",
       " 'feature_33',\n",
       " 'feature_34',\n",
       " 'feature_35',\n",
       " 'feature_36',\n",
       " 'feature_38',\n",
       " 'feature_39',\n",
       " 'feature_42',\n",
       " 'feature_43',\n",
       " 'feature_44',\n",
       " 'feature_46',\n",
       " 'feature_49']"
      ]
     },
     "execution_count": 3,
     "metadata": {},
     "output_type": "execute_result"
    }
   ],
   "source": [
    "cat_cols = []\n",
    "for col in tqdm(train_df.iloc[:,0:50].columns):\n",
    "    train_ = train_df[col].unique().tolist()\n",
    "    test_ = test_df[col].unique().tolist()\n",
    "    \n",
    "    train_.sort()\n",
    "    test_.sort()\n",
    "    \n",
    "    if train_ == test_:\n",
    "        cat_cols.append(col)\n",
    "\n",
    "print(len(cat_cols))\n",
    "cat_cols"
   ]
  },
  {
   "cell_type": "code",
   "execution_count": 4,
   "id": "362124e1",
   "metadata": {
    "execution": {
     "iopub.execute_input": "2021-05-16T17:16:14.663310Z",
     "iopub.status.busy": "2021-05-16T17:16:14.661814Z",
     "iopub.status.idle": "2021-05-16T17:16:32.508144Z",
     "shell.execute_reply": "2021-05-16T17:16:32.504769Z"
    },
    "papermill": {
     "duration": 17.871309,
     "end_time": "2021-05-16T17:16:32.508345",
     "exception": false,
     "start_time": "2021-05-16T17:16:14.637036",
     "status": "completed"
    },
    "tags": []
   },
   "outputs": [
    {
     "name": "stderr",
     "output_type": "stream",
     "text": [
      "100%|██████████| 37/37 [00:11<00:00,  3.11it/s]\n",
      "  3%|▎         | 1/37 [00:00<00:04,  8.16it/s]"
     ]
    },
    {
     "name": "stdout",
     "output_type": "stream",
     "text": [
      "train_df: (99918, 1184)\n"
     ]
    },
    {
     "name": "stderr",
     "output_type": "stream",
     "text": [
      "100%|██████████| 37/37 [00:05<00:00,  6.67it/s]"
     ]
    },
    {
     "name": "stdout",
     "output_type": "stream",
     "text": [
      "test_df: (50000, 1183)\n"
     ]
    },
    {
     "name": "stderr",
     "output_type": "stream",
     "text": [
      "\n"
     ]
    }
   ],
   "source": [
    "train_df[cat_cols] = train_df[cat_cols].astype(int)\n",
    "test_df[cat_cols] = test_df[cat_cols].astype(int)\n",
    "\n",
    "for col in tqdm(cat_cols):\n",
    "    dummy_val = pd.get_dummies(train_df[col], prefix='col')\n",
    "    train_df = pd.concat([train_df, dummy_val], axis=1)\n",
    "    train_df.drop([col], inplace=True, axis=1)\n",
    "\n",
    "print(\"train_df: {}\".format(train_df.shape))\n",
    "\n",
    "for col in tqdm(cat_cols):\n",
    "    dummy_val = pd.get_dummies(test_df[col], prefix='col')\n",
    "    test_df = pd.concat([test_df, dummy_val], axis=1)\n",
    "    test_df.drop([col], inplace=True, axis=1)\n",
    "\n",
    "print(\"test_df: {}\".format(test_df.shape))"
   ]
  },
  {
   "cell_type": "code",
   "execution_count": 5,
   "id": "4535381b",
   "metadata": {
    "execution": {
     "iopub.execute_input": "2021-05-16T17:16:32.701194Z",
     "iopub.status.busy": "2021-05-16T17:16:32.699817Z",
     "iopub.status.idle": "2021-05-16T17:16:33.420663Z",
     "shell.execute_reply": "2021-05-16T17:16:33.422083Z"
    },
    "executionInfo": {
     "elapsed": 2058,
     "status": "ok",
     "timestamp": 1616326525321,
     "user": {
      "displayName": "TAPAS DAS",
      "photoUrl": "https://lh3.googleusercontent.com/a-/AOh14GiyffdGKiPCR_UwVittzTcbBFms70IkGfU15fatCA=s64",
      "userId": "10798398878324948542"
     },
     "user_tz": -330
    },
    "id": "UAfyHbeASU7C",
    "outputId": "14c429a7-7b43-4065-afae-da7d4f6679a9",
    "papermill": {
     "duration": 0.870516,
     "end_time": "2021-05-16T17:16:33.422383",
     "exception": false,
     "start_time": "2021-05-16T17:16:32.551867",
     "status": "completed"
    },
    "tags": []
   },
   "outputs": [
    {
     "name": "stdout",
     "output_type": "stream",
     "text": [
      "Xtrain: (99918, 1183) \n",
      "Ytrain: (99918,) \n",
      "Ytrain_oh: (99918, 4) \n",
      "Xtest: (50000, 1183)\n"
     ]
    },
    {
     "data": {
      "text/plain": [
       "100"
      ]
     },
     "execution_count": 5,
     "metadata": {},
     "output_type": "execute_result"
    }
   ],
   "source": [
    "Xtrain = train_df.loc[:, train_df.columns != 'target'].values\n",
    "Ytrain = train_df['target'].values\n",
    "Ytrain_oh = pd.get_dummies(train_df['target']).values\n",
    "Xtest = test_df.values\n",
    "\n",
    "print(\"Xtrain: {} \\nYtrain: {} \\nYtrain_oh: {} \\nXtest: {}\".format(Xtrain.shape, Ytrain.shape, \n",
    "                                                                   Ytrain_oh.shape, Xtest.shape))\n",
    "\n",
    "del train_df\n",
    "del test_df\n",
    "gc.collect()"
   ]
  },
  {
   "cell_type": "markdown",
   "id": "05dd0017",
   "metadata": {
    "id": "9wNC5rWEVnjd",
    "papermill": {
     "duration": 0.075786,
     "end_time": "2021-05-16T17:16:33.574290",
     "exception": false,
     "start_time": "2021-05-16T17:16:33.498504",
     "status": "completed"
    },
    "tags": []
   },
   "source": [
    "## Build and validate the model"
   ]
  },
  {
   "cell_type": "code",
   "execution_count": 6,
   "id": "066a1440",
   "metadata": {
    "execution": {
     "iopub.execute_input": "2021-05-16T17:16:33.731606Z",
     "iopub.status.busy": "2021-05-16T17:16:33.726484Z",
     "iopub.status.idle": "2021-05-16T17:24:35.976694Z",
     "shell.execute_reply": "2021-05-16T17:24:35.977282Z"
    },
    "id": "uWPosEORSVBp",
    "outputId": "d70ac047-a86b-4f36-84cc-960b1b5316be",
    "papermill": {
     "duration": 482.329925,
     "end_time": "2021-05-16T17:24:35.977538",
     "exception": false,
     "start_time": "2021-05-16T17:16:33.647613",
     "status": "completed"
    },
    "tags": []
   },
   "outputs": [
    {
     "name": "stdout",
     "output_type": "stream",
     "text": [
      "[0]\tvalidation_0-mlogloss:1.34618\tvalidation_1-mlogloss:1.34711\n",
      "[50]\tvalidation_0-mlogloss:1.05893\tvalidation_1-mlogloss:1.09647\n",
      "[99]\tvalidation_0-mlogloss:1.02729\tvalidation_1-mlogloss:1.09260\n"
     ]
    },
    {
     "name": "stderr",
     "output_type": "stream",
     "text": [
      "/opt/conda/lib/python3.7/site-packages/xgboost/data.py:114: UserWarning: Use subset (sliced data) of np.ndarray is not recommended because it will generate extra copies and increase memory consumption\n",
      "  \"because it will generate extra copies and increase \" +\n"
     ]
    },
    {
     "name": "stdout",
     "output_type": "stream",
     "text": [
      "Seed-24 | Fold-0 | OOF Score: 1.092609436996132\n",
      "[0]\tvalidation_0-mlogloss:1.34617\tvalidation_1-mlogloss:1.34706\n",
      "[50]\tvalidation_0-mlogloss:1.05892\tvalidation_1-mlogloss:1.09520\n",
      "[99]\tvalidation_0-mlogloss:1.02707\tvalidation_1-mlogloss:1.09183\n"
     ]
    },
    {
     "name": "stderr",
     "output_type": "stream",
     "text": [
      "/opt/conda/lib/python3.7/site-packages/xgboost/data.py:114: UserWarning: Use subset (sliced data) of np.ndarray is not recommended because it will generate extra copies and increase memory consumption\n",
      "  \"because it will generate extra copies and increase \" +\n"
     ]
    },
    {
     "name": "stdout",
     "output_type": "stream",
     "text": [
      "Seed-24 | Fold-1 | OOF Score: 1.0919073578149223\n",
      "[0]\tvalidation_0-mlogloss:1.34606\tvalidation_1-mlogloss:1.34692\n",
      "[50]\tvalidation_0-mlogloss:1.05848\tvalidation_1-mlogloss:1.09802\n",
      "[99]\tvalidation_0-mlogloss:1.02769\tvalidation_1-mlogloss:1.09609\n"
     ]
    },
    {
     "name": "stderr",
     "output_type": "stream",
     "text": [
      "/opt/conda/lib/python3.7/site-packages/xgboost/data.py:114: UserWarning: Use subset (sliced data) of np.ndarray is not recommended because it will generate extra copies and increase memory consumption\n",
      "  \"because it will generate extra copies and increase \" +\n"
     ]
    },
    {
     "name": "stdout",
     "output_type": "stream",
     "text": [
      "Seed-24 | Fold-2 | OOF Score: 1.0959982648611164\n",
      "[0]\tvalidation_0-mlogloss:1.34622\tvalidation_1-mlogloss:1.34706\n",
      "[50]\tvalidation_0-mlogloss:1.05944\tvalidation_1-mlogloss:1.09639\n",
      "[99]\tvalidation_0-mlogloss:1.02848\tvalidation_1-mlogloss:1.09340\n"
     ]
    },
    {
     "name": "stderr",
     "output_type": "stream",
     "text": [
      "/opt/conda/lib/python3.7/site-packages/xgboost/data.py:114: UserWarning: Use subset (sliced data) of np.ndarray is not recommended because it will generate extra copies and increase memory consumption\n",
      "  \"because it will generate extra copies and increase \" +\n"
     ]
    },
    {
     "name": "stdout",
     "output_type": "stream",
     "text": [
      "Seed-24 | Fold-3 | OOF Score: 1.0935040196602206\n",
      "[0]\tvalidation_0-mlogloss:1.34611\tvalidation_1-mlogloss:1.34719\n",
      "[50]\tvalidation_0-mlogloss:1.05893\tvalidation_1-mlogloss:1.09869\n",
      "[99]\tvalidation_0-mlogloss:1.02810\tvalidation_1-mlogloss:1.09632\n"
     ]
    },
    {
     "name": "stderr",
     "output_type": "stream",
     "text": [
      "/opt/conda/lib/python3.7/site-packages/xgboost/data.py:114: UserWarning: Use subset (sliced data) of np.ndarray is not recommended because it will generate extra copies and increase memory consumption\n",
      "  \"because it will generate extra copies and increase \" +\n"
     ]
    },
    {
     "name": "stdout",
     "output_type": "stream",
     "text": [
      "Seed-24 | Fold-4 | OOF Score: 1.0963807615255408\n",
      "[0]\tvalidation_0-mlogloss:1.34613\tvalidation_1-mlogloss:1.34734\n",
      "[50]\tvalidation_0-mlogloss:1.05863\tvalidation_1-mlogloss:1.09700\n",
      "[99]\tvalidation_0-mlogloss:1.02775\tvalidation_1-mlogloss:1.09430\n"
     ]
    },
    {
     "name": "stderr",
     "output_type": "stream",
     "text": [
      "/opt/conda/lib/python3.7/site-packages/xgboost/data.py:114: UserWarning: Use subset (sliced data) of np.ndarray is not recommended because it will generate extra copies and increase memory consumption\n",
      "  \"because it will generate extra copies and increase \" +\n"
     ]
    },
    {
     "name": "stdout",
     "output_type": "stream",
     "text": [
      "Seed-24 | Fold-5 | OOF Score: 1.0943933038430227\n",
      "[0]\tvalidation_0-mlogloss:1.34617\tvalidation_1-mlogloss:1.34697\n",
      "[50]\tvalidation_0-mlogloss:1.05894\tvalidation_1-mlogloss:1.09640\n",
      "[99]\tvalidation_0-mlogloss:1.02753\tvalidation_1-mlogloss:1.09332\n"
     ]
    },
    {
     "name": "stderr",
     "output_type": "stream",
     "text": [
      "/opt/conda/lib/python3.7/site-packages/xgboost/data.py:114: UserWarning: Use subset (sliced data) of np.ndarray is not recommended because it will generate extra copies and increase memory consumption\n",
      "  \"because it will generate extra copies and increase \" +\n"
     ]
    },
    {
     "name": "stdout",
     "output_type": "stream",
     "text": [
      "Seed-24 | Fold-6 | OOF Score: 1.0933348571895074\n",
      "[0]\tvalidation_0-mlogloss:1.34593\tvalidation_1-mlogloss:1.34703\n",
      "[50]\tvalidation_0-mlogloss:1.05843\tvalidation_1-mlogloss:1.09952\n",
      "[99]\tvalidation_0-mlogloss:1.02725\tvalidation_1-mlogloss:1.09648\n"
     ]
    },
    {
     "name": "stderr",
     "output_type": "stream",
     "text": [
      "/opt/conda/lib/python3.7/site-packages/xgboost/data.py:114: UserWarning: Use subset (sliced data) of np.ndarray is not recommended because it will generate extra copies and increase memory consumption\n",
      "  \"because it will generate extra copies and increase \" +\n"
     ]
    },
    {
     "name": "stdout",
     "output_type": "stream",
     "text": [
      "Seed-24 | Fold-7 | OOF Score: 1.09658683231436\n",
      "[0]\tvalidation_0-mlogloss:1.34615\tvalidation_1-mlogloss:1.34720\n",
      "[50]\tvalidation_0-mlogloss:1.05907\tvalidation_1-mlogloss:1.09605\n",
      "[99]\tvalidation_0-mlogloss:1.02772\tvalidation_1-mlogloss:1.09180\n"
     ]
    },
    {
     "name": "stderr",
     "output_type": "stream",
     "text": [
      "/opt/conda/lib/python3.7/site-packages/xgboost/data.py:114: UserWarning: Use subset (sliced data) of np.ndarray is not recommended because it will generate extra copies and increase memory consumption\n",
      "  \"because it will generate extra copies and increase \" +\n"
     ]
    },
    {
     "name": "stdout",
     "output_type": "stream",
     "text": [
      "Seed-24 | Fold-8 | OOF Score: 1.0918934976833263\n",
      "[0]\tvalidation_0-mlogloss:1.34613\tvalidation_1-mlogloss:1.34720\n",
      "[50]\tvalidation_0-mlogloss:1.05853\tvalidation_1-mlogloss:1.09800\n",
      "[99]\tvalidation_0-mlogloss:1.02782\tvalidation_1-mlogloss:1.09526\n"
     ]
    },
    {
     "name": "stderr",
     "output_type": "stream",
     "text": [
      "/opt/conda/lib/python3.7/site-packages/xgboost/data.py:114: UserWarning: Use subset (sliced data) of np.ndarray is not recommended because it will generate extra copies and increase memory consumption\n",
      "  \"because it will generate extra copies and increase \" +\n"
     ]
    },
    {
     "name": "stdout",
     "output_type": "stream",
     "text": [
      "Seed-24 | Fold-9 | OOF Score: 1.095101372985472\n",
      "\n",
      "Seed: 24 | Aggregate OOF Score: 1.0941709704873621\n",
      "\n",
      "\n",
      "[0]\tvalidation_0-mlogloss:1.34617\tvalidation_1-mlogloss:1.34704\n",
      "[50]\tvalidation_0-mlogloss:1.05885\tvalidation_1-mlogloss:1.09836\n",
      "[99]\tvalidation_0-mlogloss:1.02858\tvalidation_1-mlogloss:1.09537\n"
     ]
    },
    {
     "name": "stderr",
     "output_type": "stream",
     "text": [
      "/opt/conda/lib/python3.7/site-packages/xgboost/data.py:114: UserWarning: Use subset (sliced data) of np.ndarray is not recommended because it will generate extra copies and increase memory consumption\n",
      "  \"because it will generate extra copies and increase \" +\n"
     ]
    },
    {
     "name": "stdout",
     "output_type": "stream",
     "text": [
      "Seed-3 | Fold-0 | OOF Score: 1.0954136013182356\n",
      "[0]\tvalidation_0-mlogloss:1.34607\tvalidation_1-mlogloss:1.34676\n",
      "[50]\tvalidation_0-mlogloss:1.05906\tvalidation_1-mlogloss:1.09757\n",
      "[99]\tvalidation_0-mlogloss:1.02740\tvalidation_1-mlogloss:1.09484\n"
     ]
    },
    {
     "name": "stderr",
     "output_type": "stream",
     "text": [
      "/opt/conda/lib/python3.7/site-packages/xgboost/data.py:114: UserWarning: Use subset (sliced data) of np.ndarray is not recommended because it will generate extra copies and increase memory consumption\n",
      "  \"because it will generate extra copies and increase \" +\n"
     ]
    },
    {
     "name": "stdout",
     "output_type": "stream",
     "text": [
      "Seed-3 | Fold-1 | OOF Score: 1.0948724105381507\n",
      "[0]\tvalidation_0-mlogloss:1.34604\tvalidation_1-mlogloss:1.34703\n",
      "[50]\tvalidation_0-mlogloss:1.05857\tvalidation_1-mlogloss:1.09942\n",
      "[99]\tvalidation_0-mlogloss:1.02764\tvalidation_1-mlogloss:1.09709\n"
     ]
    },
    {
     "name": "stderr",
     "output_type": "stream",
     "text": [
      "/opt/conda/lib/python3.7/site-packages/xgboost/data.py:114: UserWarning: Use subset (sliced data) of np.ndarray is not recommended because it will generate extra copies and increase memory consumption\n",
      "  \"because it will generate extra copies and increase \" +\n"
     ]
    },
    {
     "name": "stdout",
     "output_type": "stream",
     "text": [
      "Seed-3 | Fold-2 | OOF Score: 1.09703098004572\n",
      "[0]\tvalidation_0-mlogloss:1.34621\tvalidation_1-mlogloss:1.34711\n",
      "[50]\tvalidation_0-mlogloss:1.05886\tvalidation_1-mlogloss:1.09825\n",
      "[99]\tvalidation_0-mlogloss:1.02787\tvalidation_1-mlogloss:1.09601\n"
     ]
    },
    {
     "name": "stderr",
     "output_type": "stream",
     "text": [
      "/opt/conda/lib/python3.7/site-packages/xgboost/data.py:114: UserWarning: Use subset (sliced data) of np.ndarray is not recommended because it will generate extra copies and increase memory consumption\n",
      "  \"because it will generate extra copies and increase \" +\n"
     ]
    },
    {
     "name": "stdout",
     "output_type": "stream",
     "text": [
      "Seed-3 | Fold-3 | OOF Score: 1.0960085790148013\n",
      "[0]\tvalidation_0-mlogloss:1.34610\tvalidation_1-mlogloss:1.34694\n",
      "[50]\tvalidation_0-mlogloss:1.05931\tvalidation_1-mlogloss:1.09590\n",
      "[99]\tvalidation_0-mlogloss:1.02872\tvalidation_1-mlogloss:1.09335\n"
     ]
    },
    {
     "name": "stderr",
     "output_type": "stream",
     "text": [
      "/opt/conda/lib/python3.7/site-packages/xgboost/data.py:114: UserWarning: Use subset (sliced data) of np.ndarray is not recommended because it will generate extra copies and increase memory consumption\n",
      "  \"because it will generate extra copies and increase \" +\n"
     ]
    },
    {
     "name": "stdout",
     "output_type": "stream",
     "text": [
      "Seed-3 | Fold-4 | OOF Score: 1.0933627244368422\n",
      "[0]\tvalidation_0-mlogloss:1.34610\tvalidation_1-mlogloss:1.34696\n",
      "[50]\tvalidation_0-mlogloss:1.05855\tvalidation_1-mlogloss:1.09864\n",
      "[99]\tvalidation_0-mlogloss:1.02794\tvalidation_1-mlogloss:1.09612\n"
     ]
    },
    {
     "name": "stderr",
     "output_type": "stream",
     "text": [
      "/opt/conda/lib/python3.7/site-packages/xgboost/data.py:114: UserWarning: Use subset (sliced data) of np.ndarray is not recommended because it will generate extra copies and increase memory consumption\n",
      "  \"because it will generate extra copies and increase \" +\n"
     ]
    },
    {
     "name": "stdout",
     "output_type": "stream",
     "text": [
      "Seed-3 | Fold-5 | OOF Score: 1.096130710624582\n",
      "[0]\tvalidation_0-mlogloss:1.34603\tvalidation_1-mlogloss:1.34668\n",
      "[50]\tvalidation_0-mlogloss:1.05884\tvalidation_1-mlogloss:1.09532\n",
      "[99]\tvalidation_0-mlogloss:1.02780\tvalidation_1-mlogloss:1.09347\n"
     ]
    },
    {
     "name": "stderr",
     "output_type": "stream",
     "text": [
      "/opt/conda/lib/python3.7/site-packages/xgboost/data.py:114: UserWarning: Use subset (sliced data) of np.ndarray is not recommended because it will generate extra copies and increase memory consumption\n",
      "  \"because it will generate extra copies and increase \" +\n"
     ]
    },
    {
     "name": "stdout",
     "output_type": "stream",
     "text": [
      "Seed-3 | Fold-6 | OOF Score: 1.093264184329954\n",
      "[0]\tvalidation_0-mlogloss:1.34613\tvalidation_1-mlogloss:1.34688\n",
      "[50]\tvalidation_0-mlogloss:1.05829\tvalidation_1-mlogloss:1.09773\n",
      "[99]\tvalidation_0-mlogloss:1.02728\tvalidation_1-mlogloss:1.09502\n"
     ]
    },
    {
     "name": "stderr",
     "output_type": "stream",
     "text": [
      "/opt/conda/lib/python3.7/site-packages/xgboost/data.py:114: UserWarning: Use subset (sliced data) of np.ndarray is not recommended because it will generate extra copies and increase memory consumption\n",
      "  \"because it will generate extra copies and increase \" +\n"
     ]
    },
    {
     "name": "stdout",
     "output_type": "stream",
     "text": [
      "Seed-3 | Fold-7 | OOF Score: 1.0950030904603276\n",
      "[0]\tvalidation_0-mlogloss:1.34611\tvalidation_1-mlogloss:1.34702\n",
      "[50]\tvalidation_0-mlogloss:1.05883\tvalidation_1-mlogloss:1.09682\n",
      "[99]\tvalidation_0-mlogloss:1.02750\tvalidation_1-mlogloss:1.09337\n"
     ]
    },
    {
     "name": "stderr",
     "output_type": "stream",
     "text": [
      "/opt/conda/lib/python3.7/site-packages/xgboost/data.py:114: UserWarning: Use subset (sliced data) of np.ndarray is not recommended because it will generate extra copies and increase memory consumption\n",
      "  \"because it will generate extra copies and increase \" +\n"
     ]
    },
    {
     "name": "stdout",
     "output_type": "stream",
     "text": [
      "Seed-3 | Fold-8 | OOF Score: 1.0934539118793059\n",
      "[0]\tvalidation_0-mlogloss:1.34624\tvalidation_1-mlogloss:1.34727\n",
      "[50]\tvalidation_0-mlogloss:1.05878\tvalidation_1-mlogloss:1.09819\n",
      "[99]\tvalidation_0-mlogloss:1.02763\tvalidation_1-mlogloss:1.09532\n"
     ]
    },
    {
     "name": "stderr",
     "output_type": "stream",
     "text": [
      "/opt/conda/lib/python3.7/site-packages/xgboost/data.py:114: UserWarning: Use subset (sliced data) of np.ndarray is not recommended because it will generate extra copies and increase memory consumption\n",
      "  \"because it will generate extra copies and increase \" +\n"
     ]
    },
    {
     "name": "stdout",
     "output_type": "stream",
     "text": [
      "Seed-3 | Fold-9 | OOF Score: 1.0953578065196001\n",
      "\n",
      "Seed: 3 | Aggregate OOF Score: 1.094989799916752\n",
      "\n",
      "\n",
      "[0]\tvalidation_0-mlogloss:1.34611\tvalidation_1-mlogloss:1.34721\n",
      "[50]\tvalidation_0-mlogloss:1.05859\tvalidation_1-mlogloss:1.09806\n",
      "[99]\tvalidation_0-mlogloss:1.02797\tvalidation_1-mlogloss:1.09588\n"
     ]
    },
    {
     "name": "stderr",
     "output_type": "stream",
     "text": [
      "/opt/conda/lib/python3.7/site-packages/xgboost/data.py:114: UserWarning: Use subset (sliced data) of np.ndarray is not recommended because it will generate extra copies and increase memory consumption\n",
      "  \"because it will generate extra copies and increase \" +\n"
     ]
    },
    {
     "name": "stdout",
     "output_type": "stream",
     "text": [
      "Seed-56 | Fold-0 | OOF Score: 1.0958920899551925\n",
      "[0]\tvalidation_0-mlogloss:1.34608\tvalidation_1-mlogloss:1.34718\n",
      "[50]\tvalidation_0-mlogloss:1.05784\tvalidation_1-mlogloss:1.09908\n",
      "[99]\tvalidation_0-mlogloss:1.02579\tvalidation_1-mlogloss:1.09610\n"
     ]
    },
    {
     "name": "stderr",
     "output_type": "stream",
     "text": [
      "/opt/conda/lib/python3.7/site-packages/xgboost/data.py:114: UserWarning: Use subset (sliced data) of np.ndarray is not recommended because it will generate extra copies and increase memory consumption\n",
      "  \"because it will generate extra copies and increase \" +\n"
     ]
    },
    {
     "name": "stdout",
     "output_type": "stream",
     "text": [
      "Seed-56 | Fold-1 | OOF Score: 1.0960807166367268\n",
      "[0]\tvalidation_0-mlogloss:1.34611\tvalidation_1-mlogloss:1.34693\n",
      "[50]\tvalidation_0-mlogloss:1.05864\tvalidation_1-mlogloss:1.09769\n",
      "[99]\tvalidation_0-mlogloss:1.02726\tvalidation_1-mlogloss:1.09546\n"
     ]
    },
    {
     "name": "stderr",
     "output_type": "stream",
     "text": [
      "/opt/conda/lib/python3.7/site-packages/xgboost/data.py:114: UserWarning: Use subset (sliced data) of np.ndarray is not recommended because it will generate extra copies and increase memory consumption\n",
      "  \"because it will generate extra copies and increase \" +\n"
     ]
    },
    {
     "name": "stdout",
     "output_type": "stream",
     "text": [
      "Seed-56 | Fold-2 | OOF Score: 1.0953151928178901\n",
      "[0]\tvalidation_0-mlogloss:1.34607\tvalidation_1-mlogloss:1.34697\n",
      "[50]\tvalidation_0-mlogloss:1.05888\tvalidation_1-mlogloss:1.09801\n",
      "[99]\tvalidation_0-mlogloss:1.02870\tvalidation_1-mlogloss:1.09650\n"
     ]
    },
    {
     "name": "stderr",
     "output_type": "stream",
     "text": [
      "/opt/conda/lib/python3.7/site-packages/xgboost/data.py:114: UserWarning: Use subset (sliced data) of np.ndarray is not recommended because it will generate extra copies and increase memory consumption\n",
      "  \"because it will generate extra copies and increase \" +\n"
     ]
    },
    {
     "name": "stdout",
     "output_type": "stream",
     "text": [
      "Seed-56 | Fold-3 | OOF Score: 1.0965824310658119\n",
      "[0]\tvalidation_0-mlogloss:1.34609\tvalidation_1-mlogloss:1.34685\n",
      "[50]\tvalidation_0-mlogloss:1.05874\tvalidation_1-mlogloss:1.09477\n",
      "[99]\tvalidation_0-mlogloss:1.02692\tvalidation_1-mlogloss:1.09145\n"
     ]
    },
    {
     "name": "stderr",
     "output_type": "stream",
     "text": [
      "/opt/conda/lib/python3.7/site-packages/xgboost/data.py:114: UserWarning: Use subset (sliced data) of np.ndarray is not recommended because it will generate extra copies and increase memory consumption\n",
      "  \"because it will generate extra copies and increase \" +\n"
     ]
    },
    {
     "name": "stdout",
     "output_type": "stream",
     "text": [
      "Seed-56 | Fold-4 | OOF Score: 1.0915735764540822\n",
      "[0]\tvalidation_0-mlogloss:1.34626\tvalidation_1-mlogloss:1.34687\n",
      "[50]\tvalidation_0-mlogloss:1.05948\tvalidation_1-mlogloss:1.09569\n",
      "[99]\tvalidation_0-mlogloss:1.02827\tvalidation_1-mlogloss:1.09255\n"
     ]
    },
    {
     "name": "stderr",
     "output_type": "stream",
     "text": [
      "/opt/conda/lib/python3.7/site-packages/xgboost/data.py:114: UserWarning: Use subset (sliced data) of np.ndarray is not recommended because it will generate extra copies and increase memory consumption\n",
      "  \"because it will generate extra copies and increase \" +\n"
     ]
    },
    {
     "name": "stdout",
     "output_type": "stream",
     "text": [
      "Seed-56 | Fold-5 | OOF Score: 1.0926013193812798\n",
      "[0]\tvalidation_0-mlogloss:1.34607\tvalidation_1-mlogloss:1.34710\n",
      "[50]\tvalidation_0-mlogloss:1.05785\tvalidation_1-mlogloss:1.09950\n",
      "[99]\tvalidation_0-mlogloss:1.02845\tvalidation_1-mlogloss:1.09670\n"
     ]
    },
    {
     "name": "stderr",
     "output_type": "stream",
     "text": [
      "/opt/conda/lib/python3.7/site-packages/xgboost/data.py:114: UserWarning: Use subset (sliced data) of np.ndarray is not recommended because it will generate extra copies and increase memory consumption\n",
      "  \"because it will generate extra copies and increase \" +\n"
     ]
    },
    {
     "name": "stdout",
     "output_type": "stream",
     "text": [
      "Seed-56 | Fold-6 | OOF Score: 1.096730317238918\n",
      "[0]\tvalidation_0-mlogloss:1.34598\tvalidation_1-mlogloss:1.34695\n",
      "[50]\tvalidation_0-mlogloss:1.05862\tvalidation_1-mlogloss:1.09760\n",
      "[99]\tvalidation_0-mlogloss:1.02736\tvalidation_1-mlogloss:1.09374\n"
     ]
    },
    {
     "name": "stderr",
     "output_type": "stream",
     "text": [
      "/opt/conda/lib/python3.7/site-packages/xgboost/data.py:114: UserWarning: Use subset (sliced data) of np.ndarray is not recommended because it will generate extra copies and increase memory consumption\n",
      "  \"because it will generate extra copies and increase \" +\n"
     ]
    },
    {
     "name": "stdout",
     "output_type": "stream",
     "text": [
      "Seed-56 | Fold-7 | OOF Score: 1.0937534529817186\n",
      "[0]\tvalidation_0-mlogloss:1.34601\tvalidation_1-mlogloss:1.34680\n",
      "[50]\tvalidation_0-mlogloss:1.05885\tvalidation_1-mlogloss:1.09685\n",
      "[99]\tvalidation_0-mlogloss:1.02767\tvalidation_1-mlogloss:1.09419\n"
     ]
    },
    {
     "name": "stderr",
     "output_type": "stream",
     "text": [
      "/opt/conda/lib/python3.7/site-packages/xgboost/data.py:114: UserWarning: Use subset (sliced data) of np.ndarray is not recommended because it will generate extra copies and increase memory consumption\n",
      "  \"because it will generate extra copies and increase \" +\n"
     ]
    },
    {
     "name": "stdout",
     "output_type": "stream",
     "text": [
      "Seed-56 | Fold-8 | OOF Score: 1.0942904862191463\n",
      "[0]\tvalidation_0-mlogloss:1.34615\tvalidation_1-mlogloss:1.34722\n",
      "[50]\tvalidation_0-mlogloss:1.05902\tvalidation_1-mlogloss:1.09969\n",
      "[99]\tvalidation_0-mlogloss:1.02732\tvalidation_1-mlogloss:1.09702\n"
     ]
    },
    {
     "name": "stderr",
     "output_type": "stream",
     "text": [
      "/opt/conda/lib/python3.7/site-packages/xgboost/data.py:114: UserWarning: Use subset (sliced data) of np.ndarray is not recommended because it will generate extra copies and increase memory consumption\n",
      "  \"because it will generate extra copies and increase \" +\n"
     ]
    },
    {
     "name": "stdout",
     "output_type": "stream",
     "text": [
      "Seed-56 | Fold-9 | OOF Score: 1.0970747757655712\n",
      "\n",
      "Seed: 56 | Aggregate OOF Score: 1.0949894358516337\n",
      "\n",
      "\n",
      "Aggregate OOF Score: 1.0947167354185827\n"
     ]
    }
   ],
   "source": [
    "FOLD = 10\n",
    "NUM_SEED = 3\n",
    "\n",
    "# Prediction Clipping Thresholds\n",
    "p_min = 0.025\n",
    "p_max = 1 - p_min\n",
    "\n",
    "np.random.seed(3)\n",
    "seeds = np.random.randint(0, 100, size=NUM_SEED)\n",
    "\n",
    "oof_score = 0\n",
    "y_pred_meta_xgb = np.zeros((Ytrain.shape[0], 4))\n",
    "y_pred_final_xgb = np.zeros((Xtest.shape[0], 4))\n",
    "counter = 0\n",
    "\n",
    "\n",
    "for sidx, seed in enumerate(seeds):\n",
    "    seed_score = 0\n",
    "    \n",
    "    kfold = StratifiedKFold(n_splits=FOLD, shuffle=True, random_state=seed)\n",
    "\n",
    "    for idx, (train, val) in enumerate(kfold.split(Xtrain, Ytrain)):\n",
    "        counter += 1\n",
    "\n",
    "        train_x, train_y, train_y_oh = Xtrain[train], Ytrain[train], Ytrain_oh[train]\n",
    "        val_x, val_y, val_y_oh = Xtrain[val], Ytrain[val], Ytrain_oh[val]\n",
    "        \n",
    "        model = XGBClassifier(\n",
    "            objective='multi:softmax',\n",
    "            eval_metric='mlogloss',\n",
    "            booster='gbtree',\n",
    "            sample_type='weighted',\n",
    "            tree_method='gpu_hist',\n",
    "            grow_policy='lossguide',\n",
    "            use_label_encoder=False,\n",
    "            num_round=5000,\n",
    "            num_class=4,\n",
    "            #max_depth=10, \n",
    "            max_leaves=53,\n",
    "            learning_rate=0.0982,\n",
    "            subsample=0.76,\n",
    "            colsample_bytree=0.65216,\n",
    "            min_child_weight=10,\n",
    "            reg_lambda=0.001515,\n",
    "            verbosity=0\n",
    "        )\n",
    "\n",
    "        model.fit(train_x, train_y, eval_set=[(train_x, train_y), (val_x, val_y)], \n",
    "                  early_stopping_rounds=200, verbose=50)\n",
    "\n",
    "        y_pred = model.predict_proba(val_x, iteration_range=(0, model.best_iteration))\n",
    "        y_pred = np.clip(y_pred, p_min, p_max)\n",
    "        y_pred_meta_xgb[val] += y_pred\n",
    "        y_pred_final_xgb += model.predict_proba(Xtest, iteration_range=(0, model.best_iteration))\n",
    "        \n",
    "        score = log_loss(val_y_oh, y_pred)\n",
    "        oof_score += score\n",
    "        seed_score += score\n",
    "        print(\"Seed-{} | Fold-{} | OOF Score: {}\".format(seed, idx, score))\n",
    "    \n",
    "    print(\"\\nSeed: {} | Aggregate OOF Score: {}\\n\\n\".format(seed, (seed_score / FOLD)))\n",
    "\n",
    "\n",
    "y_pred_meta_xgb = y_pred_meta_xgb / float(NUM_SEED)\n",
    "y_pred_final_xgb = y_pred_final_xgb / float(counter)\n",
    "oof_score /= float(counter)\n",
    "print(\"Aggregate OOF Score: {}\".format(oof_score))"
   ]
  },
  {
   "cell_type": "code",
   "execution_count": 7,
   "id": "f94a7b3c",
   "metadata": {
    "execution": {
     "iopub.execute_input": "2021-05-16T17:24:36.168574Z",
     "iopub.status.busy": "2021-05-16T17:24:36.166706Z",
     "iopub.status.idle": "2021-05-16T17:24:36.663320Z",
     "shell.execute_reply": "2021-05-16T17:24:36.662737Z"
    },
    "id": "uLzmS7LzXvXy",
    "papermill": {
     "duration": 0.593863,
     "end_time": "2021-05-16T17:24:36.663483",
     "exception": false,
     "start_time": "2021-05-16T17:24:36.069620",
     "status": "completed"
    },
    "tags": []
   },
   "outputs": [],
   "source": [
    "np.savez_compressed('./XGB_Meta_Features.npz',\n",
    "                    y_pred_meta_xgb=y_pred_meta_xgb, \n",
    "                    oof_score=oof_score,\n",
    "                    y_pred_final_xgb=y_pred_final_xgb)"
   ]
  },
  {
   "cell_type": "markdown",
   "id": "afd2377a",
   "metadata": {
    "id": "nZvoU4TpWxmY",
    "papermill": {
     "duration": 0.089986,
     "end_time": "2021-05-16T17:24:36.845707",
     "exception": false,
     "start_time": "2021-05-16T17:24:36.755721",
     "status": "completed"
    },
    "tags": []
   },
   "source": [
    "## Create submission file"
   ]
  },
  {
   "cell_type": "code",
   "execution_count": 8,
   "id": "a013eeeb",
   "metadata": {
    "execution": {
     "iopub.execute_input": "2021-05-16T17:24:37.034897Z",
     "iopub.status.busy": "2021-05-16T17:24:37.034099Z",
     "iopub.status.idle": "2021-05-16T17:24:37.338792Z",
     "shell.execute_reply": "2021-05-16T17:24:37.339642Z"
    },
    "executionInfo": {
     "elapsed": 3141,
     "status": "ok",
     "timestamp": 1616223489651,
     "user": {
      "displayName": "TAPAS DAS",
      "photoUrl": "https://lh3.googleusercontent.com/a-/AOh14GiyffdGKiPCR_UwVittzTcbBFms70IkGfU15fatCA=s64",
      "userId": "10798398878324948542"
     },
     "user_tz": -330
    },
    "id": "zGEGOAJHVoHV",
    "outputId": "11f9ca4c-9cca-46f6-b9a6-907ad0a09927",
    "papermill": {
     "duration": 0.403759,
     "end_time": "2021-05-16T17:24:37.339938",
     "exception": false,
     "start_time": "2021-05-16T17:24:36.936179",
     "status": "completed"
    },
    "tags": []
   },
   "outputs": [
    {
     "data": {
      "text/html": [
       "<div>\n",
       "<style scoped>\n",
       "    .dataframe tbody tr th:only-of-type {\n",
       "        vertical-align: middle;\n",
       "    }\n",
       "\n",
       "    .dataframe tbody tr th {\n",
       "        vertical-align: top;\n",
       "    }\n",
       "\n",
       "    .dataframe thead th {\n",
       "        text-align: right;\n",
       "    }\n",
       "</style>\n",
       "<table border=\"1\" class=\"dataframe\">\n",
       "  <thead>\n",
       "    <tr style=\"text-align: right;\">\n",
       "      <th></th>\n",
       "      <th>id</th>\n",
       "      <th>Class_1</th>\n",
       "      <th>Class_2</th>\n",
       "      <th>Class_3</th>\n",
       "      <th>Class_4</th>\n",
       "    </tr>\n",
       "  </thead>\n",
       "  <tbody>\n",
       "    <tr>\n",
       "      <th>0</th>\n",
       "      <td>100000</td>\n",
       "      <td>0.094350</td>\n",
       "      <td>0.600153</td>\n",
       "      <td>0.189554</td>\n",
       "      <td>0.115944</td>\n",
       "    </tr>\n",
       "    <tr>\n",
       "      <th>1</th>\n",
       "      <td>100001</td>\n",
       "      <td>0.075322</td>\n",
       "      <td>0.671221</td>\n",
       "      <td>0.155880</td>\n",
       "      <td>0.097577</td>\n",
       "    </tr>\n",
       "    <tr>\n",
       "      <th>2</th>\n",
       "      <td>100002</td>\n",
       "      <td>0.079133</td>\n",
       "      <td>0.621492</td>\n",
       "      <td>0.192917</td>\n",
       "      <td>0.106457</td>\n",
       "    </tr>\n",
       "    <tr>\n",
       "      <th>3</th>\n",
       "      <td>100003</td>\n",
       "      <td>0.083871</td>\n",
       "      <td>0.553540</td>\n",
       "      <td>0.258469</td>\n",
       "      <td>0.104121</td>\n",
       "    </tr>\n",
       "    <tr>\n",
       "      <th>4</th>\n",
       "      <td>100004</td>\n",
       "      <td>0.072615</td>\n",
       "      <td>0.617388</td>\n",
       "      <td>0.204870</td>\n",
       "      <td>0.105127</td>\n",
       "    </tr>\n",
       "  </tbody>\n",
       "</table>\n",
       "</div>"
      ],
      "text/plain": [
       "       id   Class_1   Class_2   Class_3   Class_4\n",
       "0  100000  0.094350  0.600153  0.189554  0.115944\n",
       "1  100001  0.075322  0.671221  0.155880  0.097577\n",
       "2  100002  0.079133  0.621492  0.192917  0.106457\n",
       "3  100003  0.083871  0.553540  0.258469  0.104121\n",
       "4  100004  0.072615  0.617388  0.204870  0.105127"
      ]
     },
     "execution_count": 8,
     "metadata": {},
     "output_type": "execute_result"
    }
   ],
   "source": [
    "y_pred_final_xgb = np.clip(y_pred_final_xgb, p_min, p_max)\n",
    "\n",
    "test_df = pd.read_csv(\"../input/tabular-playground-series-may-2021/test.csv\")\n",
    "submit_df = pd.DataFrame()\n",
    "submit_df['id'] = test_df['id']\n",
    "submit_df['Class_1'] = y_pred_final_xgb[:,0]\n",
    "submit_df['Class_2'] = y_pred_final_xgb[:,1]\n",
    "submit_df['Class_3'] = y_pred_final_xgb[:,2]\n",
    "submit_df['Class_4'] = y_pred_final_xgb[:,3]\n",
    "submit_df.head()"
   ]
  },
  {
   "cell_type": "code",
   "execution_count": 9,
   "id": "919d6ff6",
   "metadata": {
    "execution": {
     "iopub.execute_input": "2021-05-16T17:24:37.721041Z",
     "iopub.status.busy": "2021-05-16T17:24:37.719884Z",
     "iopub.status.idle": "2021-05-16T17:24:38.312574Z",
     "shell.execute_reply": "2021-05-16T17:24:38.311413Z"
    },
    "id": "KDIsotrKVoJN",
    "papermill": {
     "duration": 0.764851,
     "end_time": "2021-05-16T17:24:38.312775",
     "exception": false,
     "start_time": "2021-05-16T17:24:37.547924",
     "status": "completed"
    },
    "tags": []
   },
   "outputs": [],
   "source": [
    "submit_df.to_csv(\"./XGB_submission.csv\", index=False)"
   ]
  },
  {
   "cell_type": "code",
   "execution_count": null,
   "id": "9c971eb9",
   "metadata": {
    "id": "W2c88MvxXm65",
    "papermill": {
     "duration": 0.091594,
     "end_time": "2021-05-16T17:24:38.500232",
     "exception": false,
     "start_time": "2021-05-16T17:24:38.408638",
     "status": "completed"
    },
    "tags": []
   },
   "outputs": [],
   "source": []
  }
 ],
 "metadata": {
  "kernelspec": {
   "display_name": "Python 3",
   "language": "python",
   "name": "python3"
  },
  "language_info": {
   "codemirror_mode": {
    "name": "ipython",
    "version": 3
   },
   "file_extension": ".py",
   "mimetype": "text/x-python",
   "name": "python",
   "nbconvert_exporter": "python",
   "pygments_lexer": "ipython3",
   "version": "3.8.8"
  },
  "papermill": {
   "default_parameters": {},
   "duration": 518.017765,
   "end_time": "2021-05-16T17:24:39.970820",
   "environment_variables": {},
   "exception": null,
   "input_path": "__notebook__.ipynb",
   "output_path": "__notebook__.ipynb",
   "parameters": {},
   "start_time": "2021-05-16T17:16:01.953055",
   "version": "2.3.3"
  }
 },
 "nbformat": 4,
 "nbformat_minor": 5
}
