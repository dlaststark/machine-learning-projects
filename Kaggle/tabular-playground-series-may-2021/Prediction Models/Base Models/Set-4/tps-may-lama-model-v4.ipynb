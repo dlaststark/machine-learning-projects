{
 "cells": [
  {
   "cell_type": "markdown",
   "id": "statewide-anaheim",
   "metadata": {
    "id": "uLz9OcH8SeET",
    "papermill": {
     "duration": 0.012379,
     "end_time": "2021-05-17T02:39:58.689126",
     "exception": false,
     "start_time": "2021-05-17T02:39:58.676747",
     "status": "completed"
    },
    "tags": []
   },
   "source": [
    "## Import libraries"
   ]
  },
  {
   "cell_type": "code",
   "execution_count": 1,
   "id": "needed-whale",
   "metadata": {
    "execution": {
     "iopub.execute_input": "2021-05-17T02:39:58.718195Z",
     "iopub.status.busy": "2021-05-17T02:39:58.716439Z",
     "iopub.status.idle": "2021-05-17T02:40:18.748343Z",
     "shell.execute_reply": "2021-05-17T02:40:18.747666Z"
    },
    "papermill": {
     "duration": 20.047899,
     "end_time": "2021-05-17T02:40:18.748533",
     "exception": false,
     "start_time": "2021-05-17T02:39:58.700634",
     "status": "completed"
    },
    "tags": []
   },
   "outputs": [
    {
     "name": "stdout",
     "output_type": "stream",
     "text": [
      "Collecting lightautoml\r\n",
      "  Downloading LightAutoML-0.2.14-py3-none-any.whl (250 kB)\r\n",
      "\u001b[K     |████████████████████████████████| 250 kB 1.2 MB/s \r\n",
      "\u001b[?25hCollecting autowoe>=1.2\r\n",
      "  Downloading AutoWoE-1.2.5-py3-none-any.whl (204 kB)\r\n",
      "\u001b[K     |████████████████████████████████| 204 kB 5.0 MB/s \r\n",
      "\u001b[?25hRequirement already satisfied: optuna in /opt/conda/lib/python3.7/site-packages (from lightautoml) (2.7.0)\r\n",
      "Requirement already satisfied: nltk in /opt/conda/lib/python3.7/site-packages (from lightautoml) (3.2.4)\r\n",
      "Requirement already satisfied: gensim in /opt/conda/lib/python3.7/site-packages (from lightautoml) (4.0.1)\r\n",
      "Requirement already satisfied: scikit-learn>=0.22 in /opt/conda/lib/python3.7/site-packages (from lightautoml) (0.24.1)\r\n",
      "Requirement already satisfied: torchvision in /opt/conda/lib/python3.7/site-packages (from lightautoml) (0.8.1)\r\n",
      "Requirement already satisfied: catboost in /opt/conda/lib/python3.7/site-packages (from lightautoml) (0.25.1)\r\n",
      "Collecting poetry-core<2.0.0,>=1.0.0\r\n",
      "  Downloading poetry_core-1.0.3-py2.py3-none-any.whl (424 kB)\r\n",
      "\u001b[K     |████████████████████████████████| 424 kB 5.0 MB/s \r\n",
      "\u001b[?25hCollecting importlib-metadata<2.0,>=1.0\r\n",
      "  Downloading importlib_metadata-1.7.0-py2.py3-none-any.whl (31 kB)\r\n",
      "Collecting efficientnet-pytorch\r\n",
      "  Downloading efficientnet_pytorch-0.7.1.tar.gz (21 kB)\r\n",
      "Requirement already satisfied: jinja2 in /opt/conda/lib/python3.7/site-packages (from lightautoml) (2.11.3)\r\n",
      "Requirement already satisfied: holidays in /opt/conda/lib/python3.7/site-packages (from lightautoml) (0.11.1)\r\n",
      "Collecting json2html\r\n",
      "  Downloading json2html-1.3.0.tar.gz (7.0 kB)\r\n",
      "Requirement already satisfied: seaborn in /opt/conda/lib/python3.7/site-packages (from lightautoml) (0.11.1)\r\n",
      "Collecting lightgbm<3.0,>=2.3\r\n",
      "  Downloading lightgbm-2.3.1-py2.py3-none-manylinux1_x86_64.whl (1.2 MB)\r\n",
      "\u001b[K     |████████████████████████████████| 1.2 MB 5.5 MB/s \r\n",
      "\u001b[?25hRequirement already satisfied: transformers>=4 in /opt/conda/lib/python3.7/site-packages (from lightautoml) (4.5.1)\r\n",
      "Requirement already satisfied: pywavelets in /opt/conda/lib/python3.7/site-packages (from lightautoml) (1.1.1)\r\n",
      "Requirement already satisfied: scikit-image in /opt/conda/lib/python3.7/site-packages (from lightautoml) (0.18.1)\r\n",
      "Requirement already satisfied: joblib in /opt/conda/lib/python3.7/site-packages (from lightautoml) (1.0.1)\r\n",
      "Collecting log-calls\r\n",
      "  Downloading log_calls-0.3.2.tar.gz (232 kB)\r\n",
      "\u001b[K     |████████████████████████████████| 232 kB 7.1 MB/s \r\n",
      "\u001b[?25hRequirement already satisfied: cmaes in /opt/conda/lib/python3.7/site-packages (from lightautoml) (0.8.2)\r\n",
      "Requirement already satisfied: numpy in /opt/conda/lib/python3.7/site-packages (from lightautoml) (1.19.5)\r\n",
      "Requirement already satisfied: tqdm in /opt/conda/lib/python3.7/site-packages (from lightautoml) (4.59.0)\r\n",
      "Requirement already satisfied: opencv-python in /opt/conda/lib/python3.7/site-packages (from lightautoml) (4.5.1.48)\r\n",
      "Requirement already satisfied: torch>=1.6 in /opt/conda/lib/python3.7/site-packages (from lightautoml) (1.7.0)\r\n",
      "Requirement already satisfied: pandas>=1 in /opt/conda/lib/python3.7/site-packages (from lightautoml) (1.2.3)\r\n",
      "Requirement already satisfied: webencodings in /opt/conda/lib/python3.7/site-packages (from lightautoml) (0.5.1)\r\n",
      "Requirement already satisfied: networkx in /opt/conda/lib/python3.7/site-packages (from lightautoml) (2.5)\r\n",
      "Requirement already satisfied: scipy in /opt/conda/lib/python3.7/site-packages (from lightautoml) (1.5.4)\r\n",
      "Requirement already satisfied: pyyaml in /opt/conda/lib/python3.7/site-packages (from lightautoml) (5.3.1)\r\n",
      "Requirement already satisfied: albumentations>=0.4.6 in /opt/conda/lib/python3.7/site-packages (from lightautoml) (0.5.2)\r\n",
      "Requirement already satisfied: opencv-python-headless>=4.1.1 in /opt/conda/lib/python3.7/site-packages (from albumentations>=0.4.6->lightautoml) (4.5.1.48)\r\n",
      "Requirement already satisfied: imgaug>=0.4.0 in /opt/conda/lib/python3.7/site-packages (from albumentations>=0.4.6->lightautoml) (0.4.0)\r\n",
      "Requirement already satisfied: pytz in /opt/conda/lib/python3.7/site-packages (from autowoe>=1.2->lightautoml) (2021.1)\r\n",
      "Requirement already satisfied: pytest in /opt/conda/lib/python3.7/site-packages (from autowoe>=1.2->lightautoml) (6.2.3)\r\n",
      "Requirement already satisfied: matplotlib in /opt/conda/lib/python3.7/site-packages (from autowoe>=1.2->lightautoml) (3.4.1)\r\n",
      "Collecting sphinx\r\n",
      "  Downloading Sphinx-4.0.1-py3-none-any.whl (2.9 MB)\r\n",
      "\u001b[K     |████████████████████████████████| 2.9 MB 6.9 MB/s \r\n",
      "\u001b[?25hRequirement already satisfied: sphinx-rtd-theme in /opt/conda/lib/python3.7/site-packages (from autowoe>=1.2->lightautoml) (0.2.4)\r\n",
      "Requirement already satisfied: imageio in /opt/conda/lib/python3.7/site-packages (from imgaug>=0.4.0->albumentations>=0.4.6->lightautoml) (2.9.0)\r\n",
      "Requirement already satisfied: Shapely in /opt/conda/lib/python3.7/site-packages (from imgaug>=0.4.0->albumentations>=0.4.6->lightautoml) (1.7.1)\r\n",
      "Requirement already satisfied: six in /opt/conda/lib/python3.7/site-packages (from imgaug>=0.4.0->albumentations>=0.4.6->lightautoml) (1.15.0)\r\n",
      "Requirement already satisfied: Pillow in /opt/conda/lib/python3.7/site-packages (from imgaug>=0.4.0->albumentations>=0.4.6->lightautoml) (7.2.0)\r\n",
      "Requirement already satisfied: zipp>=0.5 in /opt/conda/lib/python3.7/site-packages (from importlib-metadata<2.0,>=1.0->lightautoml) (3.4.1)\r\n",
      "Requirement already satisfied: python-dateutil>=2.7.3 in /opt/conda/lib/python3.7/site-packages (from pandas>=1->lightautoml) (2.8.1)\r\n",
      "Requirement already satisfied: tifffile>=2019.7.26 in /opt/conda/lib/python3.7/site-packages (from scikit-image->lightautoml) (2021.4.8)\r\n",
      "Requirement already satisfied: cycler>=0.10 in /opt/conda/lib/python3.7/site-packages (from matplotlib->autowoe>=1.2->lightautoml) (0.10.0)\r\n",
      "Requirement already satisfied: pyparsing>=2.2.1 in /opt/conda/lib/python3.7/site-packages (from matplotlib->autowoe>=1.2->lightautoml) (2.4.7)\r\n",
      "Requirement already satisfied: kiwisolver>=1.0.1 in /opt/conda/lib/python3.7/site-packages (from matplotlib->autowoe>=1.2->lightautoml) (1.3.1)\r\n",
      "Requirement already satisfied: decorator>=4.3.0 in /opt/conda/lib/python3.7/site-packages (from networkx->lightautoml) (4.4.2)\r\n",
      "Requirement already satisfied: threadpoolctl>=2.0.0 in /opt/conda/lib/python3.7/site-packages (from scikit-learn>=0.22->lightautoml) (2.1.0)\r\n",
      "Requirement already satisfied: future in /opt/conda/lib/python3.7/site-packages (from torch>=1.6->lightautoml) (0.18.2)\r\n",
      "Requirement already satisfied: typing_extensions in /opt/conda/lib/python3.7/site-packages (from torch>=1.6->lightautoml) (3.7.4.3)\r\n",
      "Requirement already satisfied: dataclasses in /opt/conda/lib/python3.7/site-packages (from torch>=1.6->lightautoml) (0.6)\r\n",
      "Requirement already satisfied: packaging in /opt/conda/lib/python3.7/site-packages (from transformers>=4->lightautoml) (20.9)\r\n",
      "Requirement already satisfied: tokenizers<0.11,>=0.10.1 in /opt/conda/lib/python3.7/site-packages (from transformers>=4->lightautoml) (0.10.2)\r\n",
      "Requirement already satisfied: filelock in /opt/conda/lib/python3.7/site-packages (from transformers>=4->lightautoml) (3.0.12)\r\n",
      "Requirement already satisfied: regex!=2019.12.17 in /opt/conda/lib/python3.7/site-packages (from transformers>=4->lightautoml) (2021.3.17)\r\n",
      "Requirement already satisfied: requests in /opt/conda/lib/python3.7/site-packages (from transformers>=4->lightautoml) (2.25.1)\r\n",
      "Requirement already satisfied: sacremoses in /opt/conda/lib/python3.7/site-packages (from transformers>=4->lightautoml) (0.0.45)\r\n",
      "Requirement already satisfied: graphviz in /opt/conda/lib/python3.7/site-packages (from catboost->lightautoml) (0.8.4)\r\n",
      "Requirement already satisfied: plotly in /opt/conda/lib/python3.7/site-packages (from catboost->lightautoml) (4.14.3)\r\n",
      "Requirement already satisfied: smart-open>=1.8.1 in /opt/conda/lib/python3.7/site-packages (from gensim->lightautoml) (5.0.0)\r\n",
      "Requirement already satisfied: korean-lunar-calendar in /opt/conda/lib/python3.7/site-packages (from holidays->lightautoml) (0.2.1)\r\n",
      "Requirement already satisfied: convertdate>=2.3.0 in /opt/conda/lib/python3.7/site-packages (from holidays->lightautoml) (2.3.2)\r\n",
      "Requirement already satisfied: hijri-converter in /opt/conda/lib/python3.7/site-packages (from holidays->lightautoml) (2.1.1)\r\n",
      "Requirement already satisfied: pymeeus<=1,>=0.3.13 in /opt/conda/lib/python3.7/site-packages (from convertdate>=2.3.0->holidays->lightautoml) (0.5.11)\r\n",
      "Requirement already satisfied: MarkupSafe>=0.23 in /opt/conda/lib/python3.7/site-packages (from jinja2->lightautoml) (1.1.1)\r\n",
      "Requirement already satisfied: alembic in /opt/conda/lib/python3.7/site-packages (from optuna->lightautoml) (1.5.8)\r\n",
      "Requirement already satisfied: colorlog in /opt/conda/lib/python3.7/site-packages (from optuna->lightautoml) (5.0.1)\r\n",
      "Requirement already satisfied: cliff in /opt/conda/lib/python3.7/site-packages (from optuna->lightautoml) (3.7.0)\r\n",
      "Requirement already satisfied: sqlalchemy>=1.1.0 in /opt/conda/lib/python3.7/site-packages (from optuna->lightautoml) (1.4.3)\r\n",
      "Requirement already satisfied: greenlet!=0.4.17 in /opt/conda/lib/python3.7/site-packages (from sqlalchemy>=1.1.0->optuna->lightautoml) (1.0.0)\r\n",
      "Requirement already satisfied: Mako in /opt/conda/lib/python3.7/site-packages (from alembic->optuna->lightautoml) (1.1.4)\r\n",
      "Requirement already satisfied: python-editor>=0.3 in /opt/conda/lib/python3.7/site-packages (from alembic->optuna->lightautoml) (1.0.4)\r\n",
      "Requirement already satisfied: stevedore>=2.0.1 in /opt/conda/lib/python3.7/site-packages (from cliff->optuna->lightautoml) (3.3.0)\r\n",
      "Requirement already satisfied: pbr!=2.1.0,>=2.0.0 in /opt/conda/lib/python3.7/site-packages (from cliff->optuna->lightautoml) (5.5.1)\r\n",
      "Requirement already satisfied: cmd2>=1.0.0 in /opt/conda/lib/python3.7/site-packages (from cliff->optuna->lightautoml) (1.5.0)\r\n",
      "Requirement already satisfied: PrettyTable>=0.7.2 in /opt/conda/lib/python3.7/site-packages (from cliff->optuna->lightautoml) (2.1.0)\r\n",
      "Requirement already satisfied: colorama>=0.3.7 in /opt/conda/lib/python3.7/site-packages (from cmd2>=1.0.0->cliff->optuna->lightautoml) (0.4.4)\r\n",
      "Requirement already satisfied: wcwidth>=0.1.7 in /opt/conda/lib/python3.7/site-packages (from cmd2>=1.0.0->cliff->optuna->lightautoml) (0.2.5)\r\n",
      "Requirement already satisfied: attrs>=16.3.0 in /opt/conda/lib/python3.7/site-packages (from cmd2>=1.0.0->cliff->optuna->lightautoml) (20.3.0)\r\n",
      "Requirement already satisfied: pyperclip>=1.6 in /opt/conda/lib/python3.7/site-packages (from cmd2>=1.0.0->cliff->optuna->lightautoml) (1.8.2)\r\n",
      "Requirement already satisfied: retrying>=1.3.3 in /opt/conda/lib/python3.7/site-packages (from plotly->catboost->lightautoml) (1.3.3)\r\n",
      "Requirement already satisfied: iniconfig in /opt/conda/lib/python3.7/site-packages (from pytest->autowoe>=1.2->lightautoml) (1.1.1)\r\n",
      "Requirement already satisfied: pluggy<1.0.0a1,>=0.12 in /opt/conda/lib/python3.7/site-packages (from pytest->autowoe>=1.2->lightautoml) (0.13.1)\r\n",
      "Requirement already satisfied: py>=1.8.2 in /opt/conda/lib/python3.7/site-packages (from pytest->autowoe>=1.2->lightautoml) (1.10.0)\r\n",
      "Requirement already satisfied: toml in /opt/conda/lib/python3.7/site-packages (from pytest->autowoe>=1.2->lightautoml) (0.10.2)\r\n",
      "Requirement already satisfied: certifi>=2017.4.17 in /opt/conda/lib/python3.7/site-packages (from requests->transformers>=4->lightautoml) (2020.12.5)\r\n",
      "Requirement already satisfied: urllib3<1.27,>=1.21.1 in /opt/conda/lib/python3.7/site-packages (from requests->transformers>=4->lightautoml) (1.26.4)\r\n",
      "Requirement already satisfied: idna<3,>=2.5 in /opt/conda/lib/python3.7/site-packages (from requests->transformers>=4->lightautoml) (2.10)\r\n",
      "Requirement already satisfied: chardet<5,>=3.0.2 in /opt/conda/lib/python3.7/site-packages (from requests->transformers>=4->lightautoml) (4.0.0)\r\n",
      "Requirement already satisfied: click in /opt/conda/lib/python3.7/site-packages (from sacremoses->transformers>=4->lightautoml) (7.1.2)\r\n",
      "Collecting alabaster<0.8,>=0.7\r\n",
      "  Downloading alabaster-0.7.12-py2.py3-none-any.whl (14 kB)\r\n",
      "Requirement already satisfied: docutils<0.18,>=0.14 in /opt/conda/lib/python3.7/site-packages (from sphinx->autowoe>=1.2->lightautoml) (0.17.1)\r\n",
      "Requirement already satisfied: setuptools in /opt/conda/lib/python3.7/site-packages (from sphinx->autowoe>=1.2->lightautoml) (49.6.0.post20210108)\r\n",
      "Requirement already satisfied: Pygments>=2.0 in /opt/conda/lib/python3.7/site-packages (from sphinx->autowoe>=1.2->lightautoml) (2.8.1)\r\n",
      "Collecting sphinxcontrib-serializinghtml\r\n",
      "  Downloading sphinxcontrib_serializinghtml-1.1.4-py2.py3-none-any.whl (89 kB)\r\n",
      "\u001b[K     |████████████████████████████████| 89 kB 4.5 MB/s \r\n",
      "\u001b[?25hCollecting sphinxcontrib-applehelp\r\n",
      "  Downloading sphinxcontrib_applehelp-1.0.2-py2.py3-none-any.whl (121 kB)\r\n",
      "\u001b[K     |████████████████████████████████| 121 kB 10.3 MB/s \r\n",
      "\u001b[?25hCollecting sphinxcontrib-htmlhelp\r\n",
      "  Downloading sphinxcontrib_htmlhelp-1.0.3-py2.py3-none-any.whl (96 kB)\r\n",
      "\u001b[K     |████████████████████████████████| 96 kB 3.5 MB/s \r\n",
      "\u001b[?25hCollecting snowballstemmer>=1.1\r\n",
      "  Downloading snowballstemmer-2.1.0-py2.py3-none-any.whl (93 kB)\r\n",
      "\u001b[K     |████████████████████████████████| 93 kB 1.4 MB/s \r\n",
      "\u001b[?25hCollecting sphinxcontrib-qthelp\r\n",
      "  Downloading sphinxcontrib_qthelp-1.0.3-py2.py3-none-any.whl (90 kB)\r\n",
      "\u001b[K     |████████████████████████████████| 90 kB 4.9 MB/s \r\n",
      "\u001b[?25hRequirement already satisfied: babel>=1.3 in /opt/conda/lib/python3.7/site-packages (from sphinx->autowoe>=1.2->lightautoml) (2.9.0)\r\n",
      "Collecting sphinxcontrib-jsmath\r\n",
      "  Downloading sphinxcontrib_jsmath-1.0.1-py2.py3-none-any.whl (5.1 kB)\r\n",
      "Collecting sphinxcontrib-devhelp\r\n",
      "  Downloading sphinxcontrib_devhelp-1.0.2-py2.py3-none-any.whl (84 kB)\r\n",
      "\u001b[K     |████████████████████████████████| 84 kB 2.1 MB/s \r\n",
      "\u001b[?25hCollecting imagesize\r\n",
      "  Downloading imagesize-1.2.0-py2.py3-none-any.whl (4.8 kB)\r\n",
      "Building wheels for collected packages: efficientnet-pytorch, json2html, log-calls\r\n",
      "  Building wheel for efficientnet-pytorch (setup.py) ... \u001b[?25l-\b \b\\\b \bdone\r\n",
      "\u001b[?25h  Created wheel for efficientnet-pytorch: filename=efficientnet_pytorch-0.7.1-py3-none-any.whl size=16446 sha256=8f0bc4e65534e6c5d6ae515b0f067e5f8c39ccc6d396f1690d38554c976b95b7\r\n",
      "  Stored in directory: /root/.cache/pip/wheels/0e/cc/b2/49e74588263573ff778da58cc99b9c6349b496636a7e165be6\r\n",
      "  Building wheel for json2html (setup.py) ... \u001b[?25l-\b \b\\\b \bdone\r\n",
      "\u001b[?25h  Created wheel for json2html: filename=json2html-1.3.0-py3-none-any.whl size=7595 sha256=da32665c9714ba0382ccd8286dd0188e077767eb980941cdea3c62afde45a265\r\n",
      "  Stored in directory: /root/.cache/pip/wheels/e5/99/37/e1839a5ad733e0d6abb7e0419fd913e8926ddf96408239ce01\r\n",
      "  Building wheel for log-calls (setup.py) ... \u001b[?25l-\b \b\\\b \bdone\r\n",
      "\u001b[?25h  Created wheel for log-calls: filename=log_calls-0.3.2-py3-none-any.whl size=51828 sha256=783fccf7076256235f0f49b09da9c059ffb52da82380f1731b6723ee7d81cbee\r\n",
      "  Stored in directory: /root/.cache/pip/wheels/4c/4b/a5/a5643cfdcff002bbaf88cff0e52326db94182507613b53e971\r\n",
      "Successfully built efficientnet-pytorch json2html log-calls\r\n",
      "Installing collected packages: importlib-metadata, sphinxcontrib-serializinghtml, sphinxcontrib-qthelp, sphinxcontrib-jsmath, sphinxcontrib-htmlhelp, sphinxcontrib-devhelp, sphinxcontrib-applehelp, snowballstemmer, imagesize, alabaster, sphinx, lightgbm, poetry-core, log-calls, json2html, efficientnet-pytorch, autowoe, lightautoml\r\n",
      "  Attempting uninstall: importlib-metadata\r\n",
      "    Found existing installation: importlib-metadata 3.4.0\r\n",
      "    Uninstalling importlib-metadata-3.4.0:\r\n",
      "      Successfully uninstalled importlib-metadata-3.4.0\r\n",
      "  Attempting uninstall: lightgbm\r\n",
      "    Found existing installation: lightgbm 3.2.0\r\n",
      "    Uninstalling lightgbm-3.2.0:\r\n",
      "      Successfully uninstalled lightgbm-3.2.0\r\n",
      "Successfully installed alabaster-0.7.12 autowoe-1.2.5 efficientnet-pytorch-0.7.1 imagesize-1.2.0 importlib-metadata-1.7.0 json2html-1.3.0 lightautoml-0.2.14 lightgbm-2.3.1 log-calls-0.3.2 poetry-core-1.0.3 snowballstemmer-2.1.0 sphinx-4.0.1 sphinxcontrib-applehelp-1.0.2 sphinxcontrib-devhelp-1.0.2 sphinxcontrib-htmlhelp-1.0.3 sphinxcontrib-jsmath-1.0.1 sphinxcontrib-qthelp-1.0.3 sphinxcontrib-serializinghtml-1.1.4\r\n"
     ]
    }
   ],
   "source": [
    "! pip install -U lightautoml"
   ]
  },
  {
   "cell_type": "code",
   "execution_count": 2,
   "id": "foreign-merit",
   "metadata": {
    "execution": {
     "iopub.execute_input": "2021-05-17T02:40:18.838158Z",
     "iopub.status.busy": "2021-05-17T02:40:18.837481Z",
     "iopub.status.idle": "2021-05-17T02:40:25.764735Z",
     "shell.execute_reply": "2021-05-17T02:40:25.764146Z"
    },
    "executionInfo": {
     "elapsed": 18546,
     "status": "ok",
     "timestamp": 1616326755679,
     "user": {
      "displayName": "TAPAS DAS",
      "photoUrl": "https://lh3.googleusercontent.com/a-/AOh14GiyffdGKiPCR_UwVittzTcbBFms70IkGfU15fatCA=s64",
      "userId": "10798398878324948542"
     },
     "user_tz": -330
    },
    "id": "E9svswc9SUuX",
    "papermill": {
     "duration": 6.974221,
     "end_time": "2021-05-17T02:40:25.764898",
     "exception": false,
     "start_time": "2021-05-17T02:40:18.790677",
     "status": "completed"
    },
    "tags": []
   },
   "outputs": [
    {
     "data": {
      "text/html": [
       "<style type='text/css'>\n",
       ".datatable table.frame { margin-bottom: 0; }\n",
       ".datatable table.frame thead { border-bottom: none; }\n",
       ".datatable table.frame tr.coltypes td {  color: #FFFFFF;  line-height: 6px;  padding: 0 0.5em;}\n",
       ".datatable .bool    { background: #DDDD99; }\n",
       ".datatable .object  { background: #565656; }\n",
       ".datatable .int     { background: #5D9E5D; }\n",
       ".datatable .float   { background: #4040CC; }\n",
       ".datatable .str     { background: #CC4040; }\n",
       ".datatable .row_index {  background: var(--jp-border-color3);  border-right: 1px solid var(--jp-border-color0);  color: var(--jp-ui-font-color3);  font-size: 9px;}\n",
       ".datatable .frame tr.coltypes .row_index {  background: var(--jp-border-color0);}\n",
       ".datatable th:nth-child(2) { padding-left: 12px; }\n",
       ".datatable .hellipsis {  color: var(--jp-cell-editor-border-color);}\n",
       ".datatable .vellipsis {  background: var(--jp-layout-color0);  color: var(--jp-cell-editor-border-color);}\n",
       ".datatable .na {  color: var(--jp-cell-editor-border-color);  font-size: 80%;}\n",
       ".datatable .footer { font-size: 9px; }\n",
       ".datatable .frame_dimensions {  background: var(--jp-border-color3);  border-top: 1px solid var(--jp-border-color0);  color: var(--jp-ui-font-color3);  display: inline-block;  opacity: 0.6;  padding: 1px 10px 1px 5px;}\n",
       "</style>\n"
      ],
      "text/plain": [
       "<IPython.core.display.HTML object>"
      ]
     },
     "metadata": {},
     "output_type": "display_data"
    }
   ],
   "source": [
    "import gc\n",
    "import pickle\n",
    "import numpy as np\n",
    "import pandas as pd\n",
    "from sklearn.metrics import log_loss\n",
    "from sklearn.model_selection import StratifiedKFold\n",
    "\n",
    "from lightautoml.tasks import Task\n",
    "from lightautoml.automl.presets.tabular_presets import TabularUtilizedAutoML"
   ]
  },
  {
   "cell_type": "markdown",
   "id": "fossil-arrival",
   "metadata": {
    "id": "hg85SpW-S6hl",
    "papermill": {
     "duration": 0.040771,
     "end_time": "2021-05-17T02:40:25.846979",
     "exception": false,
     "start_time": "2021-05-17T02:40:25.806208",
     "status": "completed"
    },
    "tags": []
   },
   "source": [
    "## Prepare data for model training"
   ]
  },
  {
   "cell_type": "code",
   "execution_count": 3,
   "id": "floating-literature",
   "metadata": {
    "execution": {
     "iopub.execute_input": "2021-05-17T02:40:25.934971Z",
     "iopub.status.busy": "2021-05-17T02:40:25.934284Z",
     "iopub.status.idle": "2021-05-17T02:40:31.156632Z",
     "shell.execute_reply": "2021-05-17T02:40:31.156085Z"
    },
    "executionInfo": {
     "elapsed": 15266,
     "status": "ok",
     "timestamp": 1616326759527,
     "user": {
      "displayName": "TAPAS DAS",
      "photoUrl": "https://lh3.googleusercontent.com/a-/AOh14GiyffdGKiPCR_UwVittzTcbBFms70IkGfU15fatCA=s64",
      "userId": "10798398878324948542"
     },
     "user_tz": -330
    },
    "id": "VdhgoIAmSUxK",
    "outputId": "593389e9-9839-415d-bc72-10af58db79f5",
    "papermill": {
     "duration": 5.268844,
     "end_time": "2021-05-17T02:40:31.156783",
     "exception": false,
     "start_time": "2021-05-17T02:40:25.887939",
     "status": "completed"
    },
    "tags": []
   },
   "outputs": [
    {
     "data": {
      "text/plain": [
       "0"
      ]
     },
     "execution_count": 3,
     "metadata": {},
     "output_type": "execute_result"
    }
   ],
   "source": [
    "with open(\"../input/tps-may-data-preprocess-v4/TPS_May_Dataset.txt\", 'rb') as handle: \n",
    "    data = handle.read()\n",
    "\n",
    "processed_data = pickle.loads(data)\n",
    "train_df = processed_data['train_df']\n",
    "test_df = processed_data['test_df']\n",
    "\n",
    "Ytrain_oh = pd.get_dummies(train_df['target']).values\n",
    "\n",
    "del processed_data\n",
    "gc.collect()"
   ]
  },
  {
   "cell_type": "markdown",
   "id": "authorized-bulletin",
   "metadata": {
    "id": "9wNC5rWEVnjd",
    "papermill": {
     "duration": 0.041948,
     "end_time": "2021-05-17T02:40:31.240821",
     "exception": false,
     "start_time": "2021-05-17T02:40:31.198873",
     "status": "completed"
    },
    "tags": []
   },
   "source": [
    "## Build and validate the model"
   ]
  },
  {
   "cell_type": "code",
   "execution_count": 4,
   "id": "tight-cutting",
   "metadata": {
    "execution": {
     "iopub.execute_input": "2021-05-17T02:40:31.334869Z",
     "iopub.status.busy": "2021-05-17T02:40:31.331812Z",
     "iopub.status.idle": "2021-05-17T03:29:25.670623Z",
     "shell.execute_reply": "2021-05-17T03:29:25.671174Z"
    },
    "papermill": {
     "duration": 2934.388116,
     "end_time": "2021-05-17T03:29:25.671416",
     "exception": false,
     "start_time": "2021-05-17T02:40:31.283300",
     "status": "completed"
    },
    "tags": []
   },
   "outputs": [
    {
     "name": "stdout",
     "output_type": "stream",
     "text": [
      "Current random state: {'reader_params': {'random_state': 42}, 'general_params': {'return_all_predictions': False}}\n",
      "Found reader_params in kwargs, need to combine\n",
      "Merged variant for reader_params = {'n_jobs': 4, 'cv': 5, 'random_state': 42}\n",
      "Start automl preset with listed constraints:\n",
      "- time: 3599.9968614578247 seconds\n",
      "- cpus: 4 cores\n",
      "- memory: 16 gb\n",
      "\n",
      "Train data shape: (99918, 373)\n",
      "Feats was rejected during automatic roles guess: []\n",
      "\n",
      "\n",
      "Layer 1 ...\n",
      "Train process start. Time left 3501.3849437236786 secs\n",
      "Start fitting Lvl_0_Pipe_0_Mod_0_LinearL2 ...\n",
      "\n",
      "===== Start working with fold 0 for Lvl_0_Pipe_0_Mod_0_LinearL2 =====\n",
      "\n",
      "Linear model: C = 1e-05 score = -1.0976145638345336\n",
      "Linear model: C = 5e-05 score = -1.0951931741024503\n",
      "Linear model: C = 0.0001 score = -1.0948487627241699\n",
      "Linear model: C = 0.0005 score = -1.0947983056326227\n",
      "Linear model: C = 0.001 score = -1.0948879017522208\n",
      "Linear model: C = 0.005 score = -1.0948181004950208\n",
      "\n",
      "===== Start working with fold 1 for Lvl_0_Pipe_0_Mod_0_LinearL2 =====\n",
      "\n",
      "Linear model: C = 1e-05 score = -1.0970199915697518\n",
      "Linear model: C = 5e-05 score = -1.094467480944319\n",
      "Linear model: C = 0.0001 score = -1.0941285421248612\n",
      "Linear model: C = 0.0005 score = -1.0942280277359284\n",
      "Linear model: C = 0.001 score = -1.0944159668553366\n",
      "\n",
      "===== Start working with fold 2 for Lvl_0_Pipe_0_Mod_0_LinearL2 =====\n",
      "\n",
      "Linear model: C = 1e-05 score = -1.097213194299164\n",
      "Linear model: C = 5e-05 score = -1.0943675583408918\n",
      "Linear model: C = 0.0001 score = -1.0937766825774307\n",
      "Linear model: C = 0.0005 score = -1.09344752104856\n",
      "Linear model: C = 0.001 score = -1.093540112269495\n",
      "Linear model: C = 0.005 score = -1.093541279976503\n",
      "\n",
      "===== Start working with fold 3 for Lvl_0_Pipe_0_Mod_0_LinearL2 =====\n",
      "\n",
      "Linear model: C = 1e-05 score = -1.0977760232414193\n",
      "Linear model: C = 5e-05 score = -1.0955464296944835\n",
      "Linear model: C = 0.0001 score = -1.0951961011346238\n",
      "Linear model: C = 0.0005 score = -1.0950997950469017\n",
      "Linear model: C = 0.001 score = -1.095216304349397\n",
      "Linear model: C = 0.005 score = -1.0953600649365713\n",
      "\n",
      "===== Start working with fold 4 for Lvl_0_Pipe_0_Mod_0_LinearL2 =====\n",
      "\n",
      "Linear model: C = 1e-05 score = -1.0980781005744025\n",
      "Linear model: C = 5e-05 score = -1.0962480687435305\n",
      "Linear model: C = 0.0001 score = -1.096057918389352\n",
      "Linear model: C = 0.0005 score = -1.0962990883605255\n",
      "Linear model: C = 0.001 score = -1.09652988859103\n",
      "Lvl_0_Pipe_0_Mod_0_LinearL2 fitting and predicting completed\n",
      "Time left 3384.4350006580353\n",
      "Start fitting Lvl_0_Pipe_1_Mod_0_LightGBM ...\n",
      "\n",
      "===== Start working with fold 0 for Lvl_0_Pipe_1_Mod_0_LightGBM =====\n",
      "\n",
      "Training until validation scores don't improve for 200 rounds\n",
      "[100]\tvalid's multi_logloss: 1.09963\n",
      "[200]\tvalid's multi_logloss: 1.09627\n",
      "[300]\tvalid's multi_logloss: 1.0961\n",
      "[400]\tvalid's multi_logloss: 1.09656\n",
      "Early stopping, best iteration is:\n",
      "[279]\tvalid's multi_logloss: 1.09592\n",
      "\n",
      "===== Start working with fold 1 for Lvl_0_Pipe_1_Mod_0_LightGBM =====\n",
      "\n",
      "Training until validation scores don't improve for 200 rounds\n",
      "[100]\tvalid's multi_logloss: 1.09891\n",
      "[200]\tvalid's multi_logloss: 1.09559\n",
      "[300]\tvalid's multi_logloss: 1.09535\n",
      "[400]\tvalid's multi_logloss: 1.09614\n",
      "Early stopping, best iteration is:\n",
      "[296]\tvalid's multi_logloss: 1.09529\n"
     ]
    },
    {
     "name": "stderr",
     "output_type": "stream",
     "text": [
      "Time limit exceeded after calculating fold 1\n"
     ]
    },
    {
     "name": "stdout",
     "output_type": "stream",
     "text": [
      "Lvl_0_Pipe_1_Mod_0_LightGBM fitting and predicting completed\n",
      "Optuna may run 1 secs\n"
     ]
    },
    {
     "name": "stderr",
     "output_type": "stream",
     "text": [
      "Copying TaskTimer may affect the parent PipelineTimer, so copy will create new unlimited TaskTimer\n"
     ]
    },
    {
     "name": "stdout",
     "output_type": "stream",
     "text": [
      "Start fitting Lvl_0_Pipe_1_Mod_1_LightGBM ...\n",
      "\n",
      "===== Start working with fold 0 for Lvl_0_Pipe_1_Mod_1_LightGBM =====\n",
      "\n",
      "Training until validation scores don't improve for 200 rounds\n",
      "[100]\tvalid's multi_logloss: 1.09884\n",
      "[200]\tvalid's multi_logloss: 1.098\n",
      "[300]\tvalid's multi_logloss: 1.10038\n",
      "Early stopping, best iteration is:\n",
      "[163]\tvalid's multi_logloss: 1.09746\n",
      "Lvl_0_Pipe_1_Mod_1_LightGBM fitting and predicting completed\n",
      "Start fitting Lvl_0_Pipe_1_Mod_1_LightGBM ...\n",
      "\n",
      "===== Start working with fold 0 for Lvl_0_Pipe_1_Mod_1_LightGBM =====\n",
      "\n",
      "Training until validation scores don't improve for 100 rounds\n",
      "[100]\tvalid's multi_logloss: 1.09985\n",
      "Early stopping, best iteration is:\n",
      "[99]\tvalid's multi_logloss: 1.0998\n",
      "\n",
      "===== Start working with fold 1 for Lvl_0_Pipe_1_Mod_1_LightGBM =====\n",
      "\n",
      "Training until validation scores don't improve for 100 rounds\n",
      "[100]\tvalid's multi_logloss: 1.10015\n",
      "Early stopping, best iteration is:\n",
      "[72]\tvalid's multi_logloss: 1.10008\n",
      "\n",
      "===== Start working with fold 2 for Lvl_0_Pipe_1_Mod_1_LightGBM =====\n",
      "\n",
      "Training until validation scores don't improve for 100 rounds\n",
      "[100]\tvalid's multi_logloss: 1.10014\n",
      "Early stopping, best iteration is:\n",
      "[85]\tvalid's multi_logloss: 1.09996\n",
      "\n",
      "===== Start working with fold 3 for Lvl_0_Pipe_1_Mod_1_LightGBM =====\n",
      "\n",
      "Training until validation scores don't improve for 100 rounds\n",
      "[100]\tvalid's multi_logloss: 1.1001\n",
      "Early stopping, best iteration is:\n",
      "[83]\tvalid's multi_logloss: 1.09973\n",
      "\n",
      "===== Start working with fold 4 for Lvl_0_Pipe_1_Mod_1_LightGBM =====\n",
      "\n",
      "Training until validation scores don't improve for 100 rounds\n",
      "[100]\tvalid's multi_logloss: 1.0992\n",
      "Early stopping, best iteration is:\n",
      "[93]\tvalid's multi_logloss: 1.09892\n",
      "Lvl_0_Pipe_1_Mod_1_LightGBM fitting and predicting completed\n",
      "Start fitting Lvl_0_Pipe_1_Mod_2_CatBoost ...\n",
      "\n",
      "===== Start working with fold 0 for Lvl_0_Pipe_1_Mod_2_CatBoost =====\n",
      "\n",
      "0:\tlearn: 1.3685179\ttest: 1.3685431\tbest: 1.3685431 (0)\ttotal: 182ms\tremaining: 9m 4s\n",
      "100:\tlearn: 1.1068248\ttest: 1.1091542\tbest: 1.1091542 (100)\ttotal: 13.3s\tremaining: 6m 22s\n",
      "200:\tlearn: 1.0963289\ttest: 1.1019339\tbest: 1.1019339 (200)\ttotal: 28.1s\tremaining: 6m 30s\n",
      "300:\tlearn: 1.0899478\ttest: 1.0988149\tbest: 1.0988149 (300)\ttotal: 42.2s\tremaining: 6m 18s\n",
      "400:\tlearn: 1.0848144\ttest: 1.0966325\tbest: 1.0966325 (400)\ttotal: 55.7s\tremaining: 6m 1s\n",
      "500:\tlearn: 1.0792479\ttest: 1.0950905\tbest: 1.0950905 (500)\ttotal: 1m 9s\tremaining: 5m 49s\n",
      "600:\tlearn: 1.0741470\ttest: 1.0940804\tbest: 1.0940734 (599)\ttotal: 1m 24s\tremaining: 5m 36s\n",
      "700:\tlearn: 1.0693975\ttest: 1.0936507\tbest: 1.0936507 (700)\ttotal: 1m 38s\tremaining: 5m 22s\n",
      "800:\tlearn: 1.0648550\ttest: 1.0932092\tbest: 1.0932018 (798)\ttotal: 1m 52s\tremaining: 5m 8s\n",
      "900:\tlearn: 1.0604723\ttest: 1.0929700\tbest: 1.0929366 (874)\ttotal: 2m 6s\tremaining: 4m 54s\n",
      "1000:\tlearn: 1.0562243\ttest: 1.0929665\tbest: 1.0929270 (970)\ttotal: 2m 19s\tremaining: 4m 39s\n",
      "Stopped by overfitting detector  (100 iterations wait)\n",
      "\n",
      "bestTest = 1.092927031\n",
      "bestIteration = 970\n",
      "\n",
      "Shrink model to first 971 iterations.\n",
      "\n",
      "===== Start working with fold 1 for Lvl_0_Pipe_1_Mod_2_CatBoost =====\n",
      "\n",
      "0:\tlearn: 1.3685178\ttest: 1.3685361\tbest: 1.3685361 (0)\ttotal: 128ms\tremaining: 6m 22s\n",
      "100:\tlearn: 1.1067834\ttest: 1.1095328\tbest: 1.1095328 (100)\ttotal: 13.9s\tremaining: 6m 39s\n",
      "200:\tlearn: 1.0962971\ttest: 1.1019753\tbest: 1.1019753 (200)\ttotal: 28.9s\tremaining: 6m 42s\n",
      "300:\tlearn: 1.0899550\ttest: 1.0986853\tbest: 1.0986853 (300)\ttotal: 42.4s\tremaining: 6m 20s\n",
      "400:\tlearn: 1.0846206\ttest: 1.0964927\tbest: 1.0964927 (400)\ttotal: 55.8s\tremaining: 6m 1s\n",
      "500:\tlearn: 1.0789835\ttest: 1.0948935\tbest: 1.0948881 (498)\ttotal: 1m 10s\tremaining: 5m 52s\n",
      "600:\tlearn: 1.0738152\ttest: 1.0941866\tbest: 1.0941674 (596)\ttotal: 1m 24s\tremaining: 5m 38s\n",
      "700:\tlearn: 1.0690215\ttest: 1.0936756\tbest: 1.0936670 (690)\ttotal: 1m 38s\tremaining: 5m 23s\n",
      "800:\tlearn: 1.0644699\ttest: 1.0933213\tbest: 1.0933151 (799)\ttotal: 1m 52s\tremaining: 5m 8s\n",
      "900:\tlearn: 1.0600800\ttest: 1.0930319\tbest: 1.0930319 (900)\ttotal: 2m 6s\tremaining: 4m 55s\n",
      "1000:\tlearn: 1.0558091\ttest: 1.0928996\tbest: 1.0928896 (999)\ttotal: 2m 20s\tremaining: 4m 40s\n",
      "1100:\tlearn: 1.0517992\ttest: 1.0928337\tbest: 1.0928066 (1088)\ttotal: 2m 34s\tremaining: 4m 26s\n",
      "1200:\tlearn: 1.0478175\ttest: 1.0928490\tbest: 1.0927842 (1155)\ttotal: 2m 47s\tremaining: 4m 11s\n",
      "Stopped by overfitting detector  (100 iterations wait)\n",
      "\n",
      "bestTest = 1.092784157\n",
      "bestIteration = 1155\n",
      "\n",
      "Shrink model to first 1156 iterations.\n",
      "\n",
      "===== Start working with fold 2 for Lvl_0_Pipe_1_Mod_2_CatBoost =====\n",
      "\n",
      "0:\tlearn: 1.3685266\ttest: 1.3685183\tbest: 1.3685183 (0)\ttotal: 118ms\tremaining: 5m 53s\n",
      "100:\tlearn: 1.1070288\ttest: 1.1093704\tbest: 1.1093704 (100)\ttotal: 13.6s\tremaining: 6m 29s\n",
      "200:\tlearn: 1.0964076\ttest: 1.1018580\tbest: 1.1018580 (200)\ttotal: 28.5s\tremaining: 6m 37s\n",
      "300:\tlearn: 1.0901343\ttest: 1.0986101\tbest: 1.0986101 (300)\ttotal: 42s\tremaining: 6m 16s\n",
      "400:\tlearn: 1.0847529\ttest: 1.0964688\tbest: 1.0964688 (400)\ttotal: 55.7s\tremaining: 6m\n",
      "500:\tlearn: 1.0793804\ttest: 1.0948200\tbest: 1.0948200 (500)\ttotal: 1m 9s\tremaining: 5m 48s\n",
      "600:\tlearn: 1.0742237\ttest: 1.0939943\tbest: 1.0939943 (600)\ttotal: 1m 24s\tremaining: 5m 36s\n",
      "700:\tlearn: 1.0695750\ttest: 1.0935000\tbest: 1.0935000 (700)\ttotal: 1m 38s\tremaining: 5m 21s\n",
      "800:\tlearn: 1.0651323\ttest: 1.0930161\tbest: 1.0929901 (796)\ttotal: 1m 52s\tremaining: 5m 7s\n",
      "900:\tlearn: 1.0608513\ttest: 1.0926627\tbest: 1.0926570 (895)\ttotal: 2m 6s\tremaining: 4m 53s\n",
      "1000:\tlearn: 1.0565611\ttest: 1.0926495\tbest: 1.0925979 (922)\ttotal: 2m 19s\tremaining: 4m 39s\n",
      "1100:\tlearn: 1.0523823\ttest: 1.0924591\tbest: 1.0924591 (1100)\ttotal: 2m 34s\tremaining: 4m 25s\n",
      "1200:\tlearn: 1.0484233\ttest: 1.0922557\tbest: 1.0922365 (1195)\ttotal: 2m 48s\tremaining: 4m 11s\n",
      "1300:\tlearn: 1.0444138\ttest: 1.0922294\tbest: 1.0921993 (1251)\ttotal: 3m 2s\tremaining: 3m 58s\n",
      "1400:\tlearn: 1.0405112\ttest: 1.0920869\tbest: 1.0920706 (1398)\ttotal: 3m 16s\tremaining: 3m 43s\n",
      "1500:\tlearn: 1.0366202\ttest: 1.0919987\tbest: 1.0919860 (1478)\ttotal: 3m 29s\tremaining: 3m 29s\n"
     ]
    },
    {
     "name": "stderr",
     "output_type": "stream",
     "text": [
      "Time limit exceeded after calculating fold 2\n"
     ]
    },
    {
     "name": "stdout",
     "output_type": "stream",
     "text": [
      "Stopped by overfitting detector  (100 iterations wait)\n",
      "\n",
      "bestTest = 1.091985969\n",
      "bestIteration = 1478\n",
      "\n",
      "Shrink model to first 1479 iterations.\n",
      "Lvl_0_Pipe_1_Mod_2_CatBoost fitting and predicting completed\n",
      "Optuna may run 1 secs\n",
      "Start fitting Lvl_0_Pipe_1_Mod_3_CatBoost ...\n",
      "\n",
      "===== Start working with fold 0 for Lvl_0_Pipe_1_Mod_3_CatBoost =====\n",
      "\n",
      "0:\tlearn: 1.3685528\ttest: 1.3685659\tbest: 1.3685659 (0)\ttotal: 118ms\tremaining: 5m 53s\n",
      "100:\tlearn: 1.1091935\ttest: 1.1103299\tbest: 1.1103299 (100)\ttotal: 12s\tremaining: 5m 45s\n",
      "200:\tlearn: 1.1004544\ttest: 1.1034512\tbest: 1.1034512 (200)\ttotal: 25s\tremaining: 5m 48s\n",
      "300:\tlearn: 1.0957982\ttest: 1.1000620\tbest: 1.1000620 (300)\ttotal: 37.2s\tremaining: 5m 33s\n",
      "400:\tlearn: 1.0922140\ttest: 1.0977777\tbest: 1.0977777 (400)\ttotal: 49.4s\tremaining: 5m 20s\n",
      "500:\tlearn: 1.0887825\ttest: 1.0960105\tbest: 1.0960105 (500)\ttotal: 1m 2s\tremaining: 5m 10s\n",
      "600:\tlearn: 1.0859849\ttest: 1.0951448\tbest: 1.0951448 (600)\ttotal: 1m 14s\tremaining: 4m 56s\n",
      "700:\tlearn: 1.0834714\ttest: 1.0944772\tbest: 1.0944772 (700)\ttotal: 1m 26s\tremaining: 4m 44s\n",
      "800:\tlearn: 1.0811979\ttest: 1.0939152\tbest: 1.0939125 (799)\ttotal: 1m 39s\tremaining: 4m 32s\n",
      "900:\tlearn: 1.0791753\ttest: 1.0935250\tbest: 1.0935212 (898)\ttotal: 1m 50s\tremaining: 4m 17s\n",
      "1000:\tlearn: 1.0771763\ttest: 1.0932562\tbest: 1.0932483 (989)\ttotal: 2m 2s\tremaining: 4m 5s\n",
      "1100:\tlearn: 1.0753428\ttest: 1.0929959\tbest: 1.0929959 (1100)\ttotal: 2m 14s\tremaining: 3m 52s\n",
      "1200:\tlearn: 1.0733834\ttest: 1.0928985\tbest: 1.0928985 (1200)\ttotal: 2m 26s\tremaining: 3m 39s\n",
      "1300:\tlearn: 1.0716930\ttest: 1.0927456\tbest: 1.0927205 (1289)\ttotal: 2m 38s\tremaining: 3m 26s\n",
      "1400:\tlearn: 1.0699578\ttest: 1.0926198\tbest: 1.0926184 (1395)\ttotal: 2m 49s\tremaining: 3m 14s\n",
      "1500:\tlearn: 1.0682837\ttest: 1.0925859\tbest: 1.0925805 (1480)\ttotal: 3m 1s\tremaining: 3m 1s\n",
      "1600:\tlearn: 1.0665805\ttest: 1.0925834\tbest: 1.0925580 (1506)\ttotal: 3m 14s\tremaining: 2m 49s\n",
      "Stopped by overfitting detector  (100 iterations wait)\n",
      "\n",
      "bestTest = 1.09255804\n",
      "bestIteration = 1506\n",
      "\n",
      "Shrink model to first 1507 iterations.\n",
      "Lvl_0_Pipe_1_Mod_3_CatBoost fitting and predicting completed\n",
      "Start fitting Lvl_0_Pipe_1_Mod_3_CatBoost ...\n",
      "\n",
      "===== Start working with fold 0 for Lvl_0_Pipe_1_Mod_3_CatBoost =====\n",
      "\n",
      "0:\tlearn: 1.3685528\ttest: 1.3685659\tbest: 1.3685659 (0)\ttotal: 121ms\tremaining: 6m 2s\n",
      "100:\tlearn: 1.1091935\ttest: 1.1103299\tbest: 1.1103299 (100)\ttotal: 12.1s\tremaining: 5m 46s\n",
      "200:\tlearn: 1.1004544\ttest: 1.1034512\tbest: 1.1034512 (200)\ttotal: 25.1s\tremaining: 5m 49s\n",
      "300:\tlearn: 1.0957982\ttest: 1.1000620\tbest: 1.1000620 (300)\ttotal: 37.3s\tremaining: 5m 34s\n",
      "400:\tlearn: 1.0922140\ttest: 1.0977777\tbest: 1.0977777 (400)\ttotal: 49.5s\tremaining: 5m 20s\n",
      "500:\tlearn: 1.0887825\ttest: 1.0960105\tbest: 1.0960105 (500)\ttotal: 1m 2s\tremaining: 5m 11s\n",
      "600:\tlearn: 1.0859849\ttest: 1.0951448\tbest: 1.0951448 (600)\ttotal: 1m 14s\tremaining: 4m 57s\n",
      "700:\tlearn: 1.0834714\ttest: 1.0944772\tbest: 1.0944772 (700)\ttotal: 1m 27s\tremaining: 4m 45s\n",
      "800:\tlearn: 1.0811979\ttest: 1.0939152\tbest: 1.0939125 (799)\ttotal: 1m 38s\tremaining: 4m 31s\n",
      "900:\tlearn: 1.0791753\ttest: 1.0935250\tbest: 1.0935212 (898)\ttotal: 1m 50s\tremaining: 4m 17s\n",
      "1000:\tlearn: 1.0771763\ttest: 1.0932562\tbest: 1.0932483 (989)\ttotal: 2m 2s\tremaining: 4m 5s\n",
      "1100:\tlearn: 1.0753428\ttest: 1.0929959\tbest: 1.0929959 (1100)\ttotal: 2m 14s\tremaining: 3m 52s\n",
      "1200:\tlearn: 1.0733834\ttest: 1.0928985\tbest: 1.0928985 (1200)\ttotal: 2m 26s\tremaining: 3m 39s\n",
      "1300:\tlearn: 1.0716930\ttest: 1.0927456\tbest: 1.0927205 (1289)\ttotal: 2m 38s\tremaining: 3m 27s\n",
      "1400:\tlearn: 1.0699578\ttest: 1.0926198\tbest: 1.0926184 (1395)\ttotal: 2m 50s\tremaining: 3m 14s\n",
      "1500:\tlearn: 1.0682837\ttest: 1.0925859\tbest: 1.0925805 (1480)\ttotal: 3m 2s\tremaining: 3m 2s\n",
      "1600:\tlearn: 1.0665805\ttest: 1.0925834\tbest: 1.0925580 (1506)\ttotal: 3m 15s\tremaining: 2m 50s\n",
      "Stopped by overfitting detector  (100 iterations wait)\n",
      "\n",
      "bestTest = 1.09255804\n",
      "bestIteration = 1506\n",
      "\n",
      "Shrink model to first 1507 iterations.\n",
      "\n",
      "===== Start working with fold 1 for Lvl_0_Pipe_1_Mod_3_CatBoost =====\n",
      "\n",
      "0:\tlearn: 1.3685514\ttest: 1.3685617\tbest: 1.3685617 (0)\ttotal: 112ms\tremaining: 5m 34s\n",
      "100:\tlearn: 1.1092919\ttest: 1.1105246\tbest: 1.1105246 (100)\ttotal: 12.1s\tremaining: 5m 46s\n",
      "200:\tlearn: 1.1006859\ttest: 1.1032346\tbest: 1.1032346 (200)\ttotal: 25.3s\tremaining: 5m 51s\n",
      "300:\tlearn: 1.0960043\ttest: 1.0998824\tbest: 1.0998824 (300)\ttotal: 37.4s\tremaining: 5m 35s\n",
      "400:\tlearn: 1.0922731\ttest: 1.0975080\tbest: 1.0975080 (400)\ttotal: 49.7s\tremaining: 5m 21s\n",
      "500:\tlearn: 1.0887533\ttest: 1.0957763\tbest: 1.0957763 (500)\ttotal: 1m 2s\tremaining: 5m 9s\n",
      "600:\tlearn: 1.0858247\ttest: 1.0947516\tbest: 1.0947516 (600)\ttotal: 1m 14s\tremaining: 4m 57s\n",
      "700:\tlearn: 1.0833956\ttest: 1.0942509\tbest: 1.0942509 (700)\ttotal: 1m 27s\tremaining: 4m 45s\n",
      "800:\tlearn: 1.0810690\ttest: 1.0938062\tbest: 1.0938062 (800)\ttotal: 1m 38s\tremaining: 4m 31s\n",
      "900:\tlearn: 1.0789970\ttest: 1.0934497\tbest: 1.0934449 (898)\ttotal: 1m 50s\tremaining: 4m 18s\n",
      "1000:\tlearn: 1.0770480\ttest: 1.0931242\tbest: 1.0931231 (999)\ttotal: 2m 2s\tremaining: 4m 5s\n",
      "1100:\tlearn: 1.0751044\ttest: 1.0929358\tbest: 1.0929320 (1099)\ttotal: 2m 14s\tremaining: 3m 52s\n",
      "1200:\tlearn: 1.0733003\ttest: 1.0927522\tbest: 1.0927419 (1199)\ttotal: 2m 27s\tremaining: 3m 40s\n",
      "1300:\tlearn: 1.0714259\ttest: 1.0927007\tbest: 1.0926710 (1288)\ttotal: 2m 38s\tremaining: 3m 27s\n",
      "1400:\tlearn: 1.0696593\ttest: 1.0925998\tbest: 1.0925909 (1397)\ttotal: 2m 51s\tremaining: 3m 15s\n",
      "1500:\tlearn: 1.0679613\ttest: 1.0925392\tbest: 1.0925329 (1499)\ttotal: 3m 3s\tremaining: 3m 3s\n",
      "1600:\tlearn: 1.0663852\ttest: 1.0924554\tbest: 1.0924338 (1582)\ttotal: 3m 15s\tremaining: 2m 50s\n",
      "Stopped by overfitting detector  (100 iterations wait)\n",
      "\n",
      "bestTest = 1.092433773\n",
      "bestIteration = 1582\n",
      "\n",
      "Shrink model to first 1583 iterations.\n",
      "\n",
      "===== Start working with fold 2 for Lvl_0_Pipe_1_Mod_3_CatBoost =====\n",
      "\n",
      "0:\tlearn: 1.3685596\ttest: 1.3685407\tbest: 1.3685407 (0)\ttotal: 112ms\tremaining: 5m 36s\n",
      "100:\tlearn: 1.1092063\ttest: 1.1103033\tbest: 1.1103033 (100)\ttotal: 13s\tremaining: 6m 13s\n",
      "200:\tlearn: 1.1006726\ttest: 1.1031353\tbest: 1.1031353 (200)\ttotal: 25.7s\tremaining: 5m 58s\n",
      "300:\tlearn: 1.0961232\ttest: 1.0998246\tbest: 1.0998246 (300)\ttotal: 38s\tremaining: 5m 40s\n",
      "400:\tlearn: 1.0925593\ttest: 1.0975091\tbest: 1.0975091 (400)\ttotal: 50.3s\tremaining: 5m 25s\n",
      "500:\tlearn: 1.0889902\ttest: 1.0957484\tbest: 1.0957484 (500)\ttotal: 1m 3s\tremaining: 5m 14s\n",
      "600:\tlearn: 1.0861025\ttest: 1.0947201\tbest: 1.0947201 (600)\ttotal: 1m 15s\tremaining: 5m 2s\n",
      "700:\tlearn: 1.0836537\ttest: 1.0940639\tbest: 1.0940639 (700)\ttotal: 1m 27s\tremaining: 4m 48s\n",
      "800:\tlearn: 1.0814705\ttest: 1.0936087\tbest: 1.0936087 (800)\ttotal: 1m 39s\tremaining: 4m 34s\n",
      "900:\tlearn: 1.0793946\ttest: 1.0932038\tbest: 1.0932038 (900)\ttotal: 1m 52s\tremaining: 4m 23s\n",
      "1000:\tlearn: 1.0773854\ttest: 1.0929196\tbest: 1.0929196 (1000)\ttotal: 2m 5s\tremaining: 4m 10s\n",
      "1100:\tlearn: 1.0754970\ttest: 1.0927059\tbest: 1.0926831 (1087)\ttotal: 2m 17s\tremaining: 3m 57s\n",
      "1200:\tlearn: 1.0736486\ttest: 1.0925471\tbest: 1.0925196 (1160)\ttotal: 2m 29s\tremaining: 3m 43s\n",
      "1300:\tlearn: 1.0718612\ttest: 1.0923756\tbest: 1.0923756 (1300)\ttotal: 2m 41s\tremaining: 3m 30s\n",
      "1400:\tlearn: 1.0700933\ttest: 1.0922171\tbest: 1.0922150 (1399)\ttotal: 2m 53s\tremaining: 3m 18s\n",
      "1500:\tlearn: 1.0683449\ttest: 1.0922100\tbest: 1.0921946 (1415)\ttotal: 3m 5s\tremaining: 3m 5s\n",
      "Stopped by overfitting detector  (100 iterations wait)\n",
      "\n",
      "bestTest = 1.092194622\n",
      "bestIteration = 1415\n",
      "\n",
      "Shrink model to first 1416 iterations.\n",
      "\n",
      "===== Start working with fold 3 for Lvl_0_Pipe_1_Mod_3_CatBoost =====\n",
      "\n",
      "0:\tlearn: 1.3685255\ttest: 1.3685234\tbest: 1.3685234 (0)\ttotal: 99.4ms\tremaining: 4m 58s\n",
      "100:\tlearn: 1.1088355\ttest: 1.1097394\tbest: 1.1097394 (100)\ttotal: 12.2s\tremaining: 5m 51s\n",
      "200:\tlearn: 1.1004257\ttest: 1.1031446\tbest: 1.1031446 (200)\ttotal: 25.4s\tremaining: 5m 54s\n",
      "300:\tlearn: 1.0957585\ttest: 1.1000106\tbest: 1.1000106 (300)\ttotal: 37.8s\tremaining: 5m 39s\n",
      "400:\tlearn: 1.0921799\ttest: 1.0979498\tbest: 1.0979488 (399)\ttotal: 50.2s\tremaining: 5m 25s\n",
      "500:\tlearn: 1.0887272\ttest: 1.0964403\tbest: 1.0964403 (500)\ttotal: 1m 2s\tremaining: 5m 13s\n",
      "600:\tlearn: 1.0858010\ttest: 1.0955039\tbest: 1.0955039 (600)\ttotal: 1m 15s\tremaining: 5m 1s\n",
      "700:\tlearn: 1.0833301\ttest: 1.0947970\tbest: 1.0947970 (700)\ttotal: 1m 27s\tremaining: 4m 47s\n",
      "800:\tlearn: 1.0810540\ttest: 1.0944755\tbest: 1.0944743 (799)\ttotal: 1m 40s\tremaining: 4m 34s\n",
      "900:\tlearn: 1.0788401\ttest: 1.0943084\tbest: 1.0943084 (900)\ttotal: 1m 52s\tremaining: 4m 21s\n",
      "1000:\tlearn: 1.0768196\ttest: 1.0941403\tbest: 1.0941403 (1000)\ttotal: 2m 4s\tremaining: 4m 8s\n",
      "1100:\tlearn: 1.0748619\ttest: 1.0939946\tbest: 1.0939772 (1089)\ttotal: 2m 16s\tremaining: 3m 55s\n",
      "1200:\tlearn: 1.0730834\ttest: 1.0938748\tbest: 1.0938713 (1199)\ttotal: 2m 29s\tremaining: 3m 43s\n",
      "1300:\tlearn: 1.0713139\ttest: 1.0937403\tbest: 1.0937313 (1296)\ttotal: 2m 41s\tremaining: 3m 30s\n",
      "1400:\tlearn: 1.0695135\ttest: 1.0937565\tbest: 1.0936779 (1356)\ttotal: 2m 53s\tremaining: 3m 17s\n",
      "Stopped by overfitting detector  (100 iterations wait)\n",
      "\n",
      "bestTest = 1.093677884\n",
      "bestIteration = 1356\n",
      "\n",
      "Shrink model to first 1357 iterations.\n",
      "\n",
      "===== Start working with fold 4 for Lvl_0_Pipe_1_Mod_3_CatBoost =====\n",
      "\n",
      "0:\tlearn: 1.3685293\ttest: 1.3685158\tbest: 1.3685158 (0)\ttotal: 99.2ms\tremaining: 4m 57s\n",
      "100:\tlearn: 1.1087027\ttest: 1.1102579\tbest: 1.1102579 (100)\ttotal: 12.6s\tremaining: 6m 2s\n",
      "200:\tlearn: 1.1002729\ttest: 1.1034205\tbest: 1.1034205 (200)\ttotal: 25.8s\tremaining: 5m 58s\n",
      "300:\tlearn: 1.0955633\ttest: 1.1002422\tbest: 1.1002422 (300)\ttotal: 38.5s\tremaining: 5m 44s\n",
      "400:\tlearn: 1.0919405\ttest: 1.0981026\tbest: 1.0981026 (400)\ttotal: 50.2s\tremaining: 5m 25s\n",
      "500:\tlearn: 1.0884492\ttest: 1.0964758\tbest: 1.0964758 (500)\ttotal: 1m 2s\tremaining: 5m 13s\n",
      "600:\tlearn: 1.0855994\ttest: 1.0955304\tbest: 1.0955304 (600)\ttotal: 1m 15s\tremaining: 4m 59s\n",
      "700:\tlearn: 1.0832354\ttest: 1.0948976\tbest: 1.0948837 (697)\ttotal: 1m 27s\tremaining: 4m 45s\n",
      "800:\tlearn: 1.0810049\ttest: 1.0944503\tbest: 1.0944503 (800)\ttotal: 1m 39s\tremaining: 4m 33s\n",
      "900:\tlearn: 1.0789456\ttest: 1.0940829\tbest: 1.0940795 (899)\ttotal: 1m 51s\tremaining: 4m 20s\n",
      "1000:\tlearn: 1.0769029\ttest: 1.0938417\tbest: 1.0938402 (999)\ttotal: 2m 3s\tremaining: 4m 6s\n",
      "1100:\tlearn: 1.0749403\ttest: 1.0937305\tbest: 1.0937220 (1074)\ttotal: 2m 15s\tremaining: 3m 54s\n",
      "1200:\tlearn: 1.0731415\ttest: 1.0935328\tbest: 1.0935328 (1200)\ttotal: 2m 27s\tremaining: 3m 41s\n",
      "1300:\tlearn: 1.0713624\ttest: 1.0934337\tbest: 1.0934309 (1298)\ttotal: 2m 39s\tremaining: 3m 28s\n",
      "1400:\tlearn: 1.0696268\ttest: 1.0934564\tbest: 1.0934292 (1329)\ttotal: 2m 51s\tremaining: 3m 16s\n",
      "1500:\tlearn: 1.0679536\ttest: 1.0933200\tbest: 1.0933200 (1500)\ttotal: 3m 3s\tremaining: 3m 3s\n",
      "1600:\tlearn: 1.0662823\ttest: 1.0933087\tbest: 1.0932943 (1523)\ttotal: 3m 16s\tremaining: 2m 51s\n",
      "1700:\tlearn: 1.0646666\ttest: 1.0932866\tbest: 1.0932755 (1683)\ttotal: 3m 28s\tremaining: 2m 39s\n",
      "1800:\tlearn: 1.0630809\ttest: 1.0932130\tbest: 1.0932130 (1800)\ttotal: 3m 40s\tremaining: 2m 26s\n",
      "1900:\tlearn: 1.0614715\ttest: 1.0932015\tbest: 1.0931724 (1847)\ttotal: 3m 52s\tremaining: 2m 14s\n",
      "Stopped by overfitting detector  (100 iterations wait)\n",
      "\n",
      "bestTest = 1.093172358\n",
      "bestIteration = 1847\n",
      "\n",
      "Shrink model to first 1848 iterations.\n",
      "Lvl_0_Pipe_1_Mod_3_CatBoost fitting and predicting completed\n",
      "Time left 674.5308480262756\n"
     ]
    },
    {
     "name": "stderr",
     "output_type": "stream",
     "text": [
      "Time limit exceeded in one of the tasks. AutoML will blend level 1 models.                                         \n",
      "Try to set higher time limits or use Profiler to find bottleneck and optimize Pipelines settings\n"
     ]
    },
    {
     "name": "stdout",
     "output_type": "stream",
     "text": [
      "Blending: Optimization starts with equal weights and score -1.0932412460178216\n",
      "Blending, iter 0: score = -1.0925905967090284, weights = [0.17591688 0.         0.         0.27881792 0.5452652 ]\n",
      "Blending, iter 1: score = -1.092589245830434, weights = [0.15938377 0.         0.         0.32468563 0.5159306 ]\n",
      "Blending, iter 2: score = -1.0925892426872879, weights = [0.1600137  0.         0.         0.32201657 0.5179697 ]\n",
      "Blending, iter 3: score = -1.0925892381658462, weights = [0.16028711 0.         0.         0.32258546 0.51712745]\n",
      "Blending, iter 4: score = -1.0925892381658462, weights = [0.16028711 0.         0.         0.32258546 0.51712745]\n",
      "No score update. Terminated\n",
      "\n",
      "Automl preset training completed in 2934.28 seconds.\n",
      "\n",
      "\n",
      "y_pred_meta_lama: (99918, 4)\n"
     ]
    }
   ],
   "source": [
    "FOLD = 5\n",
    "N_THREADS = 4\n",
    "TIMEOUT = 60 * 60\n",
    "\n",
    "model = TabularUtilizedAutoML(\n",
    "    task = Task('multiclass',), \n",
    "    timeout = TIMEOUT,\n",
    "    cpu_limit = N_THREADS,\n",
    "    reader_params = {'n_jobs': N_THREADS, 'cv': FOLD},\n",
    ")\n",
    "\n",
    "y_pred_meta_lama = model.fit_predict(train_df, roles={'target':'target'})\n",
    "print(\"\\n\\ny_pred_meta_lama: {}\".format(y_pred_meta_lama.shape))"
   ]
  },
  {
   "cell_type": "code",
   "execution_count": 5,
   "id": "german-absence",
   "metadata": {
    "execution": {
     "iopub.execute_input": "2021-05-17T03:29:25.926447Z",
     "iopub.status.busy": "2021-05-17T03:29:25.925728Z",
     "iopub.status.idle": "2021-05-17T03:29:25.972683Z",
     "shell.execute_reply": "2021-05-17T03:29:25.971970Z"
    },
    "papermill": {
     "duration": 0.17687,
     "end_time": "2021-05-17T03:29:25.972838",
     "exception": false,
     "start_time": "2021-05-17T03:29:25.795968",
     "status": "completed"
    },
    "tags": []
   },
   "outputs": [
    {
     "name": "stdout",
     "output_type": "stream",
     "text": [
      "Aggregate OOF Score: 1.0925892381658462\n"
     ]
    }
   ],
   "source": [
    "oof_score = log_loss(Ytrain_oh, y_pred_meta_lama.data)\n",
    "print(\"Aggregate OOF Score: {}\".format(oof_score))"
   ]
  },
  {
   "cell_type": "code",
   "execution_count": 6,
   "id": "quick-phase",
   "metadata": {
    "execution": {
     "iopub.execute_input": "2021-05-17T03:29:26.239562Z",
     "iopub.status.busy": "2021-05-17T03:29:26.234410Z",
     "iopub.status.idle": "2021-05-17T03:29:39.439594Z",
     "shell.execute_reply": "2021-05-17T03:29:39.438530Z"
    },
    "papermill": {
     "duration": 13.342653,
     "end_time": "2021-05-17T03:29:39.439771",
     "exception": false,
     "start_time": "2021-05-17T03:29:26.097118",
     "status": "completed"
    },
    "tags": []
   },
   "outputs": [],
   "source": [
    "y_pred_final_lama = model.predict(test_df)"
   ]
  },
  {
   "cell_type": "code",
   "execution_count": 7,
   "id": "friendly-thickness",
   "metadata": {
    "execution": {
     "iopub.execute_input": "2021-05-17T03:29:39.776812Z",
     "iopub.status.busy": "2021-05-17T03:29:39.775744Z",
     "iopub.status.idle": "2021-05-17T03:29:39.911652Z",
     "shell.execute_reply": "2021-05-17T03:29:39.910833Z"
    },
    "papermill": {
     "duration": 0.348013,
     "end_time": "2021-05-17T03:29:39.911852",
     "exception": false,
     "start_time": "2021-05-17T03:29:39.563839",
     "status": "completed"
    },
    "tags": []
   },
   "outputs": [],
   "source": [
    "np.savez_compressed('./LAMA_Meta_Features.npz',\n",
    "                    y_pred_meta_lama=y_pred_meta_lama.data, \n",
    "                    oof_score=oof_score,\n",
    "                    y_pred_final_lama=y_pred_final_lama.data)"
   ]
  },
  {
   "cell_type": "markdown",
   "id": "brilliant-passenger",
   "metadata": {
    "id": "nZvoU4TpWxmY",
    "papermill": {
     "duration": 0.123915,
     "end_time": "2021-05-17T03:29:40.161411",
     "exception": false,
     "start_time": "2021-05-17T03:29:40.037496",
     "status": "completed"
    },
    "tags": []
   },
   "source": [
    "## Create submission file"
   ]
  },
  {
   "cell_type": "code",
   "execution_count": 8,
   "id": "boxed-fundamental",
   "metadata": {
    "execution": {
     "iopub.execute_input": "2021-05-17T03:29:40.414514Z",
     "iopub.status.busy": "2021-05-17T03:29:40.413659Z",
     "iopub.status.idle": "2021-05-17T03:29:40.644637Z",
     "shell.execute_reply": "2021-05-17T03:29:40.644068Z"
    },
    "executionInfo": {
     "elapsed": 1417,
     "status": "ok",
     "timestamp": 1616078535765,
     "user": {
      "displayName": "TAPAS DAS",
      "photoUrl": "https://lh3.googleusercontent.com/a-/AOh14GiyffdGKiPCR_UwVittzTcbBFms70IkGfU15fatCA=s64",
      "userId": "10798398878324948542"
     },
     "user_tz": -330
    },
    "id": "zGEGOAJHVoHV",
    "outputId": "53ab44cf-755f-435d-c1af-f4184f2114dd",
    "papermill": {
     "duration": 0.360686,
     "end_time": "2021-05-17T03:29:40.644807",
     "exception": false,
     "start_time": "2021-05-17T03:29:40.284121",
     "status": "completed"
    },
    "tags": []
   },
   "outputs": [
    {
     "data": {
      "text/html": [
       "<div>\n",
       "<style scoped>\n",
       "    .dataframe tbody tr th:only-of-type {\n",
       "        vertical-align: middle;\n",
       "    }\n",
       "\n",
       "    .dataframe tbody tr th {\n",
       "        vertical-align: top;\n",
       "    }\n",
       "\n",
       "    .dataframe thead th {\n",
       "        text-align: right;\n",
       "    }\n",
       "</style>\n",
       "<table border=\"1\" class=\"dataframe\">\n",
       "  <thead>\n",
       "    <tr style=\"text-align: right;\">\n",
       "      <th></th>\n",
       "      <th>id</th>\n",
       "      <th>Class_1</th>\n",
       "      <th>Class_2</th>\n",
       "      <th>Class_3</th>\n",
       "      <th>Class_4</th>\n",
       "    </tr>\n",
       "  </thead>\n",
       "  <tbody>\n",
       "    <tr>\n",
       "      <th>0</th>\n",
       "      <td>100000</td>\n",
       "      <td>0.095108</td>\n",
       "      <td>0.618960</td>\n",
       "      <td>0.168692</td>\n",
       "      <td>0.117239</td>\n",
       "    </tr>\n",
       "    <tr>\n",
       "      <th>1</th>\n",
       "      <td>100001</td>\n",
       "      <td>0.080853</td>\n",
       "      <td>0.662055</td>\n",
       "      <td>0.154097</td>\n",
       "      <td>0.102995</td>\n",
       "    </tr>\n",
       "    <tr>\n",
       "      <th>2</th>\n",
       "      <td>100002</td>\n",
       "      <td>0.083764</td>\n",
       "      <td>0.622032</td>\n",
       "      <td>0.184461</td>\n",
       "      <td>0.109743</td>\n",
       "    </tr>\n",
       "    <tr>\n",
       "      <th>3</th>\n",
       "      <td>100003</td>\n",
       "      <td>0.089760</td>\n",
       "      <td>0.531642</td>\n",
       "      <td>0.279045</td>\n",
       "      <td>0.099553</td>\n",
       "    </tr>\n",
       "    <tr>\n",
       "      <th>4</th>\n",
       "      <td>100004</td>\n",
       "      <td>0.074102</td>\n",
       "      <td>0.604012</td>\n",
       "      <td>0.199920</td>\n",
       "      <td>0.121966</td>\n",
       "    </tr>\n",
       "  </tbody>\n",
       "</table>\n",
       "</div>"
      ],
      "text/plain": [
       "       id   Class_1   Class_2   Class_3   Class_4\n",
       "0  100000  0.095108  0.618960  0.168692  0.117239\n",
       "1  100001  0.080853  0.662055  0.154097  0.102995\n",
       "2  100002  0.083764  0.622032  0.184461  0.109743\n",
       "3  100003  0.089760  0.531642  0.279045  0.099553\n",
       "4  100004  0.074102  0.604012  0.199920  0.121966"
      ]
     },
     "execution_count": 8,
     "metadata": {},
     "output_type": "execute_result"
    }
   ],
   "source": [
    "test_df = pd.read_csv(\"../input/tabular-playground-series-may-2021/test.csv\")\n",
    "submit_df = pd.DataFrame()\n",
    "submit_df['id'] = test_df['id']\n",
    "submit_df['Class_1'] = y_pred_final_lama.data[:,0]\n",
    "submit_df['Class_2'] = y_pred_final_lama.data[:,1]\n",
    "submit_df['Class_3'] = y_pred_final_lama.data[:,2]\n",
    "submit_df['Class_4'] = y_pred_final_lama.data[:,3]\n",
    "submit_df.head()"
   ]
  },
  {
   "cell_type": "code",
   "execution_count": 9,
   "id": "indoor-footwear",
   "metadata": {
    "execution": {
     "iopub.execute_input": "2021-05-17T03:29:40.898550Z",
     "iopub.status.busy": "2021-05-17T03:29:40.897812Z",
     "iopub.status.idle": "2021-05-17T03:29:41.260514Z",
     "shell.execute_reply": "2021-05-17T03:29:41.259878Z"
    },
    "id": "KDIsotrKVoJN",
    "papermill": {
     "duration": 0.491027,
     "end_time": "2021-05-17T03:29:41.260686",
     "exception": false,
     "start_time": "2021-05-17T03:29:40.769659",
     "status": "completed"
    },
    "tags": []
   },
   "outputs": [],
   "source": [
    "submit_df.to_csv(\"./LAMA_submission.csv\", index=False)"
   ]
  },
  {
   "cell_type": "code",
   "execution_count": null,
   "id": "double-drama",
   "metadata": {
    "id": "W2c88MvxXm65",
    "papermill": {
     "duration": 0.123669,
     "end_time": "2021-05-17T03:29:41.507737",
     "exception": false,
     "start_time": "2021-05-17T03:29:41.384068",
     "status": "completed"
    },
    "tags": []
   },
   "outputs": [],
   "source": []
  }
 ],
 "metadata": {
  "kernelspec": {
   "display_name": "Python 3",
   "language": "python",
   "name": "python3"
  },
  "language_info": {
   "codemirror_mode": {
    "name": "ipython",
    "version": 3
   },
   "file_extension": ".py",
   "mimetype": "text/x-python",
   "name": "python",
   "nbconvert_exporter": "python",
   "pygments_lexer": "ipython3",
   "version": "3.7.10"
  },
  "papermill": {
   "default_parameters": {},
   "duration": 2992.824598,
   "end_time": "2021-05-17T03:29:43.467950",
   "environment_variables": {},
   "exception": null,
   "input_path": "__notebook__.ipynb",
   "output_path": "__notebook__.ipynb",
   "parameters": {},
   "start_time": "2021-05-17T02:39:50.643352",
   "version": "2.3.3"
  }
 },
 "nbformat": 4,
 "nbformat_minor": 5
}
