{
 "cells": [
  {
   "cell_type": "markdown",
   "id": "understanding-harmony",
   "metadata": {
    "id": "uLz9OcH8SeET",
    "papermill": {
     "duration": 0.012401,
     "end_time": "2021-05-23T06:29:45.417821",
     "exception": false,
     "start_time": "2021-05-23T06:29:45.405420",
     "status": "completed"
    },
    "tags": []
   },
   "source": [
    "## Import libraries"
   ]
  },
  {
   "cell_type": "code",
   "execution_count": 1,
   "id": "attached-bosnia",
   "metadata": {
    "execution": {
     "iopub.execute_input": "2021-05-23T06:29:45.451443Z",
     "iopub.status.busy": "2021-05-23T06:29:45.450817Z",
     "iopub.status.idle": "2021-05-23T06:29:47.607961Z",
     "shell.execute_reply": "2021-05-23T06:29:47.606693Z",
     "shell.execute_reply.started": "2021-05-23T06:11:54.868462Z"
    },
    "executionInfo": {
     "elapsed": 18546,
     "status": "ok",
     "timestamp": 1616326755679,
     "user": {
      "displayName": "TAPAS DAS",
      "photoUrl": "https://lh3.googleusercontent.com/a-/AOh14GiyffdGKiPCR_UwVittzTcbBFms70IkGfU15fatCA=s64",
      "userId": "10798398878324948542"
     },
     "user_tz": -330
    },
    "id": "E9svswc9SUuX",
    "papermill": {
     "duration": 2.178828,
     "end_time": "2021-05-23T06:29:47.608169",
     "exception": false,
     "start_time": "2021-05-23T06:29:45.429341",
     "status": "completed"
    },
    "tags": []
   },
   "outputs": [
    {
     "data": {
      "text/html": [
       "<style type='text/css'>\n",
       ".datatable table.frame { margin-bottom: 0; }\n",
       ".datatable table.frame thead { border-bottom: none; }\n",
       ".datatable table.frame tr.coltypes td {  color: #FFFFFF;  line-height: 6px;  padding: 0 0.5em;}\n",
       ".datatable .bool    { background: #DDDD99; }\n",
       ".datatable .object  { background: #565656; }\n",
       ".datatable .int     { background: #5D9E5D; }\n",
       ".datatable .float   { background: #4040CC; }\n",
       ".datatable .str     { background: #CC4040; }\n",
       ".datatable .row_index {  background: var(--jp-border-color3);  border-right: 1px solid var(--jp-border-color0);  color: var(--jp-ui-font-color3);  font-size: 9px;}\n",
       ".datatable .frame tr.coltypes .row_index {  background: var(--jp-border-color0);}\n",
       ".datatable th:nth-child(2) { padding-left: 12px; }\n",
       ".datatable .hellipsis {  color: var(--jp-cell-editor-border-color);}\n",
       ".datatable .vellipsis {  background: var(--jp-layout-color0);  color: var(--jp-cell-editor-border-color);}\n",
       ".datatable .na {  color: var(--jp-cell-editor-border-color);  font-size: 80%;}\n",
       ".datatable .footer { font-size: 9px; }\n",
       ".datatable .frame_dimensions {  background: var(--jp-border-color3);  border-top: 1px solid var(--jp-border-color0);  color: var(--jp-ui-font-color3);  display: inline-block;  opacity: 0.6;  padding: 1px 10px 1px 5px;}\n",
       "</style>\n"
      ],
      "text/plain": [
       "<IPython.core.display.HTML object>"
      ]
     },
     "metadata": {},
     "output_type": "display_data"
    }
   ],
   "source": [
    "import gc\n",
    "import pickle\n",
    "import numpy as np\n",
    "import pandas as pd\n",
    "import lightgbm as lgb\n",
    "from sklearn.metrics import log_loss\n",
    "from sklearn.model_selection import StratifiedKFold"
   ]
  },
  {
   "cell_type": "markdown",
   "id": "developing-adoption",
   "metadata": {
    "id": "hg85SpW-S6hl",
    "papermill": {
     "duration": 0.011689,
     "end_time": "2021-05-23T06:29:47.632643",
     "exception": false,
     "start_time": "2021-05-23T06:29:47.620954",
     "status": "completed"
    },
    "tags": []
   },
   "source": [
    "## Prepare data for model training"
   ]
  },
  {
   "cell_type": "code",
   "execution_count": 2,
   "id": "offensive-beginning",
   "metadata": {
    "execution": {
     "iopub.execute_input": "2021-05-23T06:29:47.662307Z",
     "iopub.status.busy": "2021-05-23T06:29:47.661541Z",
     "iopub.status.idle": "2021-05-23T06:29:51.536570Z",
     "shell.execute_reply": "2021-05-23T06:29:51.536008Z",
     "shell.execute_reply.started": "2021-05-23T06:11:57.104233Z"
    },
    "executionInfo": {
     "elapsed": 15266,
     "status": "ok",
     "timestamp": 1616326759527,
     "user": {
      "displayName": "TAPAS DAS",
      "photoUrl": "https://lh3.googleusercontent.com/a-/AOh14GiyffdGKiPCR_UwVittzTcbBFms70IkGfU15fatCA=s64",
      "userId": "10798398878324948542"
     },
     "user_tz": -330
    },
    "id": "VdhgoIAmSUxK",
    "outputId": "593389e9-9839-415d-bc72-10af58db79f5",
    "papermill": {
     "duration": 3.891983,
     "end_time": "2021-05-23T06:29:51.536726",
     "exception": false,
     "start_time": "2021-05-23T06:29:47.644743",
     "status": "completed"
    },
    "tags": []
   },
   "outputs": [
    {
     "data": {
      "text/plain": [
       "0"
      ]
     },
     "execution_count": 2,
     "metadata": {},
     "output_type": "execute_result"
    }
   ],
   "source": [
    "with open(\"../input/tps-may-data-preprocess-v4/TPS_May_Dataset.txt\", 'rb') as handle: \n",
    "    data = handle.read()\n",
    "\n",
    "processed_data = pickle.loads(data)\n",
    "train_df = processed_data['train_df']\n",
    "test_df = processed_data['test_df']\n",
    "\n",
    "del processed_data\n",
    "gc.collect()"
   ]
  },
  {
   "cell_type": "code",
   "execution_count": 3,
   "id": "sufficient-partnership",
   "metadata": {
    "execution": {
     "iopub.execute_input": "2021-05-23T06:29:51.597141Z",
     "iopub.status.busy": "2021-05-23T06:29:51.596436Z",
     "iopub.status.idle": "2021-05-23T06:29:52.024883Z",
     "shell.execute_reply": "2021-05-23T06:29:52.025498Z",
     "shell.execute_reply.started": "2021-05-23T06:12:00.389656Z"
    },
    "papermill": {
     "duration": 0.476306,
     "end_time": "2021-05-23T06:29:52.025702",
     "exception": false,
     "start_time": "2021-05-23T06:29:51.549396",
     "status": "completed"
    },
    "tags": []
   },
   "outputs": [
    {
     "name": "stdout",
     "output_type": "stream",
     "text": [
      "[0, 1, 2, 3, 4, 5, 6, 7, 8, 9, 10, 11, 12, 13, 14, 15, 16, 17, 18, 19, 20, 21, 22, 23, 24, 25, 26, 27, 28, 29, 30, 31, 32, 33, 34, 35, 36, 37, 38, 39, 40, 41, 42, 43, 44, 45, 46, 47, 48, 49]\n"
     ]
    }
   ],
   "source": [
    "cat_cols = train_df.iloc[:,0:50].columns\n",
    "train_df[cat_cols] = train_df[cat_cols].astype(int)\n",
    "test_df[cat_cols] = test_df[cat_cols].astype(int)\n",
    "cat_cols_indices = [train_df.columns.get_loc(col) for col in cat_cols]\n",
    "print(cat_cols_indices)"
   ]
  },
  {
   "cell_type": "code",
   "execution_count": 4,
   "id": "modified-dinner",
   "metadata": {
    "execution": {
     "iopub.execute_input": "2021-05-23T06:29:52.148461Z",
     "iopub.status.busy": "2021-05-23T06:29:52.068257Z",
     "iopub.status.idle": "2021-05-23T06:29:52.447290Z",
     "shell.execute_reply": "2021-05-23T06:29:52.446731Z",
     "shell.execute_reply.started": "2021-05-23T06:12:00.852938Z"
    },
    "papermill": {
     "duration": 0.408593,
     "end_time": "2021-05-23T06:29:52.447430",
     "exception": false,
     "start_time": "2021-05-23T06:29:52.038837",
     "status": "completed"
    },
    "tags": []
   },
   "outputs": [
    {
     "name": "stdout",
     "output_type": "stream",
     "text": [
      "Xtrain: (99918, 372) \n",
      "Ytrain: (99918,) \n",
      "Ytrain_oh: (99918, 4) \n",
      "Xtest: (50000, 372)\n"
     ]
    },
    {
     "data": {
      "text/plain": [
       "20"
      ]
     },
     "execution_count": 4,
     "metadata": {},
     "output_type": "execute_result"
    }
   ],
   "source": [
    "Xtrain = train_df.loc[:, train_df.columns != 'target'].values\n",
    "Ytrain = train_df['target'].values\n",
    "Ytrain_oh = pd.get_dummies(train_df['target']).values\n",
    "Xtest = test_df.values\n",
    "\n",
    "print(\"Xtrain: {} \\nYtrain: {} \\nYtrain_oh: {} \\nXtest: {}\".format(Xtrain.shape, Ytrain.shape, \n",
    "                                                                   Ytrain_oh.shape, Xtest.shape))\n",
    "\n",
    "del train_df\n",
    "del test_df\n",
    "gc.collect()"
   ]
  },
  {
   "cell_type": "markdown",
   "id": "registered-exhibit",
   "metadata": {
    "id": "9wNC5rWEVnjd",
    "papermill": {
     "duration": 0.013182,
     "end_time": "2021-05-23T06:29:52.474147",
     "exception": false,
     "start_time": "2021-05-23T06:29:52.460965",
     "status": "completed"
    },
    "tags": []
   },
   "source": [
    "## Build and validate the model"
   ]
  },
  {
   "cell_type": "code",
   "execution_count": 5,
   "id": "reasonable-insulation",
   "metadata": {
    "execution": {
     "iopub.execute_input": "2021-05-23T06:29:52.508640Z",
     "iopub.status.busy": "2021-05-23T06:29:52.507901Z",
     "iopub.status.idle": "2021-05-23T06:29:52.511421Z",
     "shell.execute_reply": "2021-05-23T06:29:52.510797Z",
     "shell.execute_reply.started": "2021-05-23T06:12:06.983062Z"
    },
    "executionInfo": {
     "elapsed": 1340,
     "status": "ok",
     "timestamp": 1616326770908,
     "user": {
      "displayName": "TAPAS DAS",
      "photoUrl": "https://lh3.googleusercontent.com/a-/AOh14GiyffdGKiPCR_UwVittzTcbBFms70IkGfU15fatCA=s64",
      "userId": "10798398878324948542"
     },
     "user_tz": -330
    },
    "id": "IhtH9c5va7WY",
    "papermill": {
     "duration": 0.023886,
     "end_time": "2021-05-23T06:29:52.511592",
     "exception": false,
     "start_time": "2021-05-23T06:29:52.487706",
     "status": "completed"
    },
    "tags": []
   },
   "outputs": [],
   "source": [
    "params = {}\n",
    "params[\"objective\"] = 'multiclass'\n",
    "params['metric'] = 'multi_logloss'\n",
    "params['boosting'] = 'gbdt'\n",
    "#params[\"device_type\"] = 'gpu'\n",
    "params['num_class'] = 4\n",
    "params['is_unbalance'] = True\n",
    "params[\"learning_rate\"] = 0.02\n",
    "params[\"lambda_l2\"] = 0.0256\n",
    "params[\"num_leaves\"] = 52\n",
    "#params[\"max_depth\"] = 10\n",
    "params[\"feature_fraction\"] = 0.503\n",
    "params[\"bagging_fraction\"] = 0.6741\n",
    "params[\"bagging_freq\"] = 8\n",
    "params[\"bagging_seed\"] = 10\n",
    "params[\"min_data_in_leaf\"] = 10\n",
    "params[\"verbosity\"] = -1\n",
    "num_rounds = 5000"
   ]
  },
  {
   "cell_type": "code",
   "execution_count": 6,
   "id": "excellent-bloom",
   "metadata": {
    "execution": {
     "iopub.execute_input": "2021-05-23T06:29:52.552191Z",
     "iopub.status.busy": "2021-05-23T06:29:52.551468Z",
     "iopub.status.idle": "2021-05-23T07:21:19.040610Z",
     "shell.execute_reply": "2021-05-23T07:21:19.041573Z",
     "shell.execute_reply.started": "2021-05-23T06:12:07.651610Z"
    },
    "executionInfo": {
     "elapsed": 226745,
     "status": "error",
     "timestamp": 1616326997825,
     "user": {
      "displayName": "TAPAS DAS",
      "photoUrl": "https://lh3.googleusercontent.com/a-/AOh14GiyffdGKiPCR_UwVittzTcbBFms70IkGfU15fatCA=s64",
      "userId": "10798398878324948542"
     },
     "user_tz": -330
    },
    "id": "uWPosEORSVBp",
    "outputId": "ecad76e6-e82d-4e4a-ef18-937bc0235495",
    "papermill": {
     "duration": 3086.516925,
     "end_time": "2021-05-23T07:21:19.042025",
     "exception": false,
     "start_time": "2021-05-23T06:29:52.525100",
     "status": "completed"
    },
    "tags": []
   },
   "outputs": [
    {
     "name": "stderr",
     "output_type": "stream",
     "text": [
      "/opt/conda/lib/python3.7/site-packages/lightgbm/basic.py:1706: UserWarning: categorical_feature in Dataset is overridden.\n",
      "New categorical_feature is [0, 1, 2, 3, 4, 5, 6, 7, 8, 9, 10, 11, 12, 13, 14, 15, 16, 17, 18, 19, 20, 21, 22, 23, 24, 25, 26, 27, 28, 29, 30, 31, 32, 33, 34, 35, 36, 37, 38, 39, 40, 41, 42, 43, 44, 45, 46, 47, 48, 49]\n",
      "  'New categorical_feature is {}'.format(sorted(list(categorical_feature))))\n",
      "/opt/conda/lib/python3.7/site-packages/lightgbm/basic.py:1433: UserWarning: Overriding the parameters from Reference Dataset.\n",
      "  _log_warning('Overriding the parameters from Reference Dataset.')\n",
      "/opt/conda/lib/python3.7/site-packages/lightgbm/basic.py:1245: UserWarning: categorical_column in param dict is overridden.\n",
      "  _log_warning('{} in param dict is overridden.'.format(cat_alias))\n"
     ]
    },
    {
     "name": "stdout",
     "output_type": "stream",
     "text": [
      "Training until validation scores don't improve for 200 rounds\n",
      "[100]\ttraining's multi_logloss: 1.0524\tvalid_1's multi_logloss: 1.0981\n",
      "[200]\ttraining's multi_logloss: 1.00862\tvalid_1's multi_logloss: 1.09456\n",
      "[300]\ttraining's multi_logloss: 0.97269\tvalid_1's multi_logloss: 1.09465\n",
      "[400]\ttraining's multi_logloss: 0.940728\tvalid_1's multi_logloss: 1.09616\n",
      "Early stopping, best iteration is:\n",
      "[263]\ttraining's multi_logloss: 0.985365\tvalid_1's multi_logloss: 1.09403\n",
      "Seed-85 | Fold-0 | OOF Score: 1.094029800025264\n"
     ]
    },
    {
     "name": "stderr",
     "output_type": "stream",
     "text": [
      "/opt/conda/lib/python3.7/site-packages/lightgbm/basic.py:1706: UserWarning: categorical_feature in Dataset is overridden.\n",
      "New categorical_feature is [0, 1, 2, 3, 4, 5, 6, 7, 8, 9, 10, 11, 12, 13, 14, 15, 16, 17, 18, 19, 20, 21, 22, 23, 24, 25, 26, 27, 28, 29, 30, 31, 32, 33, 34, 35, 36, 37, 38, 39, 40, 41, 42, 43, 44, 45, 46, 47, 48, 49]\n",
      "  'New categorical_feature is {}'.format(sorted(list(categorical_feature))))\n",
      "/opt/conda/lib/python3.7/site-packages/lightgbm/basic.py:1433: UserWarning: Overriding the parameters from Reference Dataset.\n",
      "  _log_warning('Overriding the parameters from Reference Dataset.')\n",
      "/opt/conda/lib/python3.7/site-packages/lightgbm/basic.py:1245: UserWarning: categorical_column in param dict is overridden.\n",
      "  _log_warning('{} in param dict is overridden.'.format(cat_alias))\n"
     ]
    },
    {
     "name": "stdout",
     "output_type": "stream",
     "text": [
      "Training until validation scores don't improve for 200 rounds\n",
      "[100]\ttraining's multi_logloss: 1.0528\tvalid_1's multi_logloss: 1.09616\n",
      "[200]\ttraining's multi_logloss: 1.00928\tvalid_1's multi_logloss: 1.09178\n",
      "[300]\ttraining's multi_logloss: 0.973459\tvalid_1's multi_logloss: 1.09097\n",
      "[400]\ttraining's multi_logloss: 0.941566\tvalid_1's multi_logloss: 1.09133\n",
      "Early stopping, best iteration is:\n",
      "[254]\ttraining's multi_logloss: 0.98929\tvalid_1's multi_logloss: 1.09071\n",
      "Seed-85 | Fold-1 | OOF Score: 1.090708115206345\n"
     ]
    },
    {
     "name": "stderr",
     "output_type": "stream",
     "text": [
      "/opt/conda/lib/python3.7/site-packages/lightgbm/basic.py:1706: UserWarning: categorical_feature in Dataset is overridden.\n",
      "New categorical_feature is [0, 1, 2, 3, 4, 5, 6, 7, 8, 9, 10, 11, 12, 13, 14, 15, 16, 17, 18, 19, 20, 21, 22, 23, 24, 25, 26, 27, 28, 29, 30, 31, 32, 33, 34, 35, 36, 37, 38, 39, 40, 41, 42, 43, 44, 45, 46, 47, 48, 49]\n",
      "  'New categorical_feature is {}'.format(sorted(list(categorical_feature))))\n",
      "/opt/conda/lib/python3.7/site-packages/lightgbm/basic.py:1433: UserWarning: Overriding the parameters from Reference Dataset.\n",
      "  _log_warning('Overriding the parameters from Reference Dataset.')\n",
      "/opt/conda/lib/python3.7/site-packages/lightgbm/basic.py:1245: UserWarning: categorical_column in param dict is overridden.\n",
      "  _log_warning('{} in param dict is overridden.'.format(cat_alias))\n"
     ]
    },
    {
     "name": "stdout",
     "output_type": "stream",
     "text": [
      "Training until validation scores don't improve for 200 rounds\n",
      "[100]\ttraining's multi_logloss: 1.05274\tvalid_1's multi_logloss: 1.09653\n",
      "[200]\ttraining's multi_logloss: 1.00878\tvalid_1's multi_logloss: 1.09284\n",
      "[300]\ttraining's multi_logloss: 0.972673\tvalid_1's multi_logloss: 1.09256\n",
      "[400]\ttraining's multi_logloss: 0.94072\tvalid_1's multi_logloss: 1.0937\n",
      "Early stopping, best iteration is:\n",
      "[247]\ttraining's multi_logloss: 0.991131\tvalid_1's multi_logloss: 1.09236\n",
      "Seed-85 | Fold-2 | OOF Score: 1.0923594896473314\n"
     ]
    },
    {
     "name": "stderr",
     "output_type": "stream",
     "text": [
      "/opt/conda/lib/python3.7/site-packages/lightgbm/basic.py:1706: UserWarning: categorical_feature in Dataset is overridden.\n",
      "New categorical_feature is [0, 1, 2, 3, 4, 5, 6, 7, 8, 9, 10, 11, 12, 13, 14, 15, 16, 17, 18, 19, 20, 21, 22, 23, 24, 25, 26, 27, 28, 29, 30, 31, 32, 33, 34, 35, 36, 37, 38, 39, 40, 41, 42, 43, 44, 45, 46, 47, 48, 49]\n",
      "  'New categorical_feature is {}'.format(sorted(list(categorical_feature))))\n",
      "/opt/conda/lib/python3.7/site-packages/lightgbm/basic.py:1433: UserWarning: Overriding the parameters from Reference Dataset.\n",
      "  _log_warning('Overriding the parameters from Reference Dataset.')\n",
      "/opt/conda/lib/python3.7/site-packages/lightgbm/basic.py:1245: UserWarning: categorical_column in param dict is overridden.\n",
      "  _log_warning('{} in param dict is overridden.'.format(cat_alias))\n"
     ]
    },
    {
     "name": "stdout",
     "output_type": "stream",
     "text": [
      "Training until validation scores don't improve for 200 rounds\n",
      "[100]\ttraining's multi_logloss: 1.05232\tvalid_1's multi_logloss: 1.09713\n",
      "[200]\ttraining's multi_logloss: 1.00843\tvalid_1's multi_logloss: 1.09305\n",
      "[300]\ttraining's multi_logloss: 0.972441\tvalid_1's multi_logloss: 1.09285\n",
      "[400]\ttraining's multi_logloss: 0.940642\tvalid_1's multi_logloss: 1.09348\n",
      "Early stopping, best iteration is:\n",
      "[275]\ttraining's multi_logloss: 0.981003\tvalid_1's multi_logloss: 1.09236\n",
      "Seed-85 | Fold-3 | OOF Score: 1.0923605643856613\n"
     ]
    },
    {
     "name": "stderr",
     "output_type": "stream",
     "text": [
      "/opt/conda/lib/python3.7/site-packages/lightgbm/basic.py:1706: UserWarning: categorical_feature in Dataset is overridden.\n",
      "New categorical_feature is [0, 1, 2, 3, 4, 5, 6, 7, 8, 9, 10, 11, 12, 13, 14, 15, 16, 17, 18, 19, 20, 21, 22, 23, 24, 25, 26, 27, 28, 29, 30, 31, 32, 33, 34, 35, 36, 37, 38, 39, 40, 41, 42, 43, 44, 45, 46, 47, 48, 49]\n",
      "  'New categorical_feature is {}'.format(sorted(list(categorical_feature))))\n",
      "/opt/conda/lib/python3.7/site-packages/lightgbm/basic.py:1433: UserWarning: Overriding the parameters from Reference Dataset.\n",
      "  _log_warning('Overriding the parameters from Reference Dataset.')\n",
      "/opt/conda/lib/python3.7/site-packages/lightgbm/basic.py:1245: UserWarning: categorical_column in param dict is overridden.\n",
      "  _log_warning('{} in param dict is overridden.'.format(cat_alias))\n"
     ]
    },
    {
     "name": "stdout",
     "output_type": "stream",
     "text": [
      "Training until validation scores don't improve for 200 rounds\n",
      "[100]\ttraining's multi_logloss: 1.05256\tvalid_1's multi_logloss: 1.09795\n",
      "[200]\ttraining's multi_logloss: 1.00872\tvalid_1's multi_logloss: 1.09394\n",
      "[300]\ttraining's multi_logloss: 0.972807\tvalid_1's multi_logloss: 1.09357\n",
      "[400]\ttraining's multi_logloss: 0.941047\tvalid_1's multi_logloss: 1.09435\n",
      "[500]\ttraining's multi_logloss: 0.911559\tvalid_1's multi_logloss: 1.09481\n",
      "Early stopping, best iteration is:\n",
      "[313]\ttraining's multi_logloss: 0.968509\tvalid_1's multi_logloss: 1.09338\n",
      "Seed-85 | Fold-4 | OOF Score: 1.093383274247526\n"
     ]
    },
    {
     "name": "stderr",
     "output_type": "stream",
     "text": [
      "/opt/conda/lib/python3.7/site-packages/lightgbm/basic.py:1706: UserWarning: categorical_feature in Dataset is overridden.\n",
      "New categorical_feature is [0, 1, 2, 3, 4, 5, 6, 7, 8, 9, 10, 11, 12, 13, 14, 15, 16, 17, 18, 19, 20, 21, 22, 23, 24, 25, 26, 27, 28, 29, 30, 31, 32, 33, 34, 35, 36, 37, 38, 39, 40, 41, 42, 43, 44, 45, 46, 47, 48, 49]\n",
      "  'New categorical_feature is {}'.format(sorted(list(categorical_feature))))\n",
      "/opt/conda/lib/python3.7/site-packages/lightgbm/basic.py:1433: UserWarning: Overriding the parameters from Reference Dataset.\n",
      "  _log_warning('Overriding the parameters from Reference Dataset.')\n",
      "/opt/conda/lib/python3.7/site-packages/lightgbm/basic.py:1245: UserWarning: categorical_column in param dict is overridden.\n",
      "  _log_warning('{} in param dict is overridden.'.format(cat_alias))\n"
     ]
    },
    {
     "name": "stdout",
     "output_type": "stream",
     "text": [
      "Training until validation scores don't improve for 200 rounds\n",
      "[100]\ttraining's multi_logloss: 1.05236\tvalid_1's multi_logloss: 1.09825\n",
      "[200]\ttraining's multi_logloss: 1.00858\tvalid_1's multi_logloss: 1.0954\n",
      "[300]\ttraining's multi_logloss: 0.972766\tvalid_1's multi_logloss: 1.09591\n",
      "[400]\ttraining's multi_logloss: 0.940728\tvalid_1's multi_logloss: 1.09682\n",
      "Early stopping, best iteration is:\n",
      "[213]\ttraining's multi_logloss: 1.00364\tvalid_1's multi_logloss: 1.09534\n",
      "Seed-85 | Fold-5 | OOF Score: 1.0953418528385301\n"
     ]
    },
    {
     "name": "stderr",
     "output_type": "stream",
     "text": [
      "/opt/conda/lib/python3.7/site-packages/lightgbm/basic.py:1706: UserWarning: categorical_feature in Dataset is overridden.\n",
      "New categorical_feature is [0, 1, 2, 3, 4, 5, 6, 7, 8, 9, 10, 11, 12, 13, 14, 15, 16, 17, 18, 19, 20, 21, 22, 23, 24, 25, 26, 27, 28, 29, 30, 31, 32, 33, 34, 35, 36, 37, 38, 39, 40, 41, 42, 43, 44, 45, 46, 47, 48, 49]\n",
      "  'New categorical_feature is {}'.format(sorted(list(categorical_feature))))\n",
      "/opt/conda/lib/python3.7/site-packages/lightgbm/basic.py:1433: UserWarning: Overriding the parameters from Reference Dataset.\n",
      "  _log_warning('Overriding the parameters from Reference Dataset.')\n",
      "/opt/conda/lib/python3.7/site-packages/lightgbm/basic.py:1245: UserWarning: categorical_column in param dict is overridden.\n",
      "  _log_warning('{} in param dict is overridden.'.format(cat_alias))\n"
     ]
    },
    {
     "name": "stdout",
     "output_type": "stream",
     "text": [
      "Training until validation scores don't improve for 200 rounds\n",
      "[100]\ttraining's multi_logloss: 1.05246\tvalid_1's multi_logloss: 1.09725\n",
      "[200]\ttraining's multi_logloss: 1.00879\tvalid_1's multi_logloss: 1.0921\n",
      "[300]\ttraining's multi_logloss: 0.972797\tvalid_1's multi_logloss: 1.09095\n",
      "[400]\ttraining's multi_logloss: 0.940754\tvalid_1's multi_logloss: 1.09126\n",
      "Early stopping, best iteration is:\n",
      "[281]\ttraining's multi_logloss: 0.979249\tvalid_1's multi_logloss: 1.09062\n",
      "Seed-85 | Fold-6 | OOF Score: 1.0906179952281418\n"
     ]
    },
    {
     "name": "stderr",
     "output_type": "stream",
     "text": [
      "/opt/conda/lib/python3.7/site-packages/lightgbm/basic.py:1706: UserWarning: categorical_feature in Dataset is overridden.\n",
      "New categorical_feature is [0, 1, 2, 3, 4, 5, 6, 7, 8, 9, 10, 11, 12, 13, 14, 15, 16, 17, 18, 19, 20, 21, 22, 23, 24, 25, 26, 27, 28, 29, 30, 31, 32, 33, 34, 35, 36, 37, 38, 39, 40, 41, 42, 43, 44, 45, 46, 47, 48, 49]\n",
      "  'New categorical_feature is {}'.format(sorted(list(categorical_feature))))\n",
      "/opt/conda/lib/python3.7/site-packages/lightgbm/basic.py:1433: UserWarning: Overriding the parameters from Reference Dataset.\n",
      "  _log_warning('Overriding the parameters from Reference Dataset.')\n",
      "/opt/conda/lib/python3.7/site-packages/lightgbm/basic.py:1245: UserWarning: categorical_column in param dict is overridden.\n",
      "  _log_warning('{} in param dict is overridden.'.format(cat_alias))\n"
     ]
    },
    {
     "name": "stdout",
     "output_type": "stream",
     "text": [
      "Training until validation scores don't improve for 200 rounds\n",
      "[100]\ttraining's multi_logloss: 1.05265\tvalid_1's multi_logloss: 1.09855\n",
      "[200]\ttraining's multi_logloss: 1.00921\tvalid_1's multi_logloss: 1.09461\n",
      "[300]\ttraining's multi_logloss: 0.97311\tvalid_1's multi_logloss: 1.09439\n",
      "[400]\ttraining's multi_logloss: 0.94152\tvalid_1's multi_logloss: 1.09507\n",
      "Early stopping, best iteration is:\n",
      "[242]\ttraining's multi_logloss: 0.993401\tvalid_1's multi_logloss: 1.09413\n",
      "Seed-85 | Fold-7 | OOF Score: 1.0941289557975358\n"
     ]
    },
    {
     "name": "stderr",
     "output_type": "stream",
     "text": [
      "/opt/conda/lib/python3.7/site-packages/lightgbm/basic.py:1706: UserWarning: categorical_feature in Dataset is overridden.\n",
      "New categorical_feature is [0, 1, 2, 3, 4, 5, 6, 7, 8, 9, 10, 11, 12, 13, 14, 15, 16, 17, 18, 19, 20, 21, 22, 23, 24, 25, 26, 27, 28, 29, 30, 31, 32, 33, 34, 35, 36, 37, 38, 39, 40, 41, 42, 43, 44, 45, 46, 47, 48, 49]\n",
      "  'New categorical_feature is {}'.format(sorted(list(categorical_feature))))\n",
      "/opt/conda/lib/python3.7/site-packages/lightgbm/basic.py:1433: UserWarning: Overriding the parameters from Reference Dataset.\n",
      "  _log_warning('Overriding the parameters from Reference Dataset.')\n",
      "/opt/conda/lib/python3.7/site-packages/lightgbm/basic.py:1245: UserWarning: categorical_column in param dict is overridden.\n",
      "  _log_warning('{} in param dict is overridden.'.format(cat_alias))\n"
     ]
    },
    {
     "name": "stdout",
     "output_type": "stream",
     "text": [
      "Training until validation scores don't improve for 200 rounds\n",
      "[100]\ttraining's multi_logloss: 1.05252\tvalid_1's multi_logloss: 1.09723\n",
      "[200]\ttraining's multi_logloss: 1.00878\tvalid_1's multi_logloss: 1.09287\n",
      "[300]\ttraining's multi_logloss: 0.972873\tvalid_1's multi_logloss: 1.09185\n",
      "[400]\ttraining's multi_logloss: 0.940882\tvalid_1's multi_logloss: 1.0918\n",
      "[500]\ttraining's multi_logloss: 0.911645\tvalid_1's multi_logloss: 1.09286\n",
      "Early stopping, best iteration is:\n",
      "[352]\ttraining's multi_logloss: 0.955929\tvalid_1's multi_logloss: 1.09159\n",
      "Seed-85 | Fold-8 | OOF Score: 1.0915880632072237\n"
     ]
    },
    {
     "name": "stderr",
     "output_type": "stream",
     "text": [
      "/opt/conda/lib/python3.7/site-packages/lightgbm/basic.py:1706: UserWarning: categorical_feature in Dataset is overridden.\n",
      "New categorical_feature is [0, 1, 2, 3, 4, 5, 6, 7, 8, 9, 10, 11, 12, 13, 14, 15, 16, 17, 18, 19, 20, 21, 22, 23, 24, 25, 26, 27, 28, 29, 30, 31, 32, 33, 34, 35, 36, 37, 38, 39, 40, 41, 42, 43, 44, 45, 46, 47, 48, 49]\n",
      "  'New categorical_feature is {}'.format(sorted(list(categorical_feature))))\n",
      "/opt/conda/lib/python3.7/site-packages/lightgbm/basic.py:1433: UserWarning: Overriding the parameters from Reference Dataset.\n",
      "  _log_warning('Overriding the parameters from Reference Dataset.')\n",
      "/opt/conda/lib/python3.7/site-packages/lightgbm/basic.py:1245: UserWarning: categorical_column in param dict is overridden.\n",
      "  _log_warning('{} in param dict is overridden.'.format(cat_alias))\n"
     ]
    },
    {
     "name": "stdout",
     "output_type": "stream",
     "text": [
      "Training until validation scores don't improve for 200 rounds\n",
      "[100]\ttraining's multi_logloss: 1.05266\tvalid_1's multi_logloss: 1.09667\n",
      "[200]\ttraining's multi_logloss: 1.00904\tvalid_1's multi_logloss: 1.09248\n",
      "[300]\ttraining's multi_logloss: 0.973107\tvalid_1's multi_logloss: 1.09182\n",
      "[400]\ttraining's multi_logloss: 0.941114\tvalid_1's multi_logloss: 1.09286\n",
      "[500]\ttraining's multi_logloss: 0.911769\tvalid_1's multi_logloss: 1.09387\n",
      "Early stopping, best iteration is:\n",
      "[302]\ttraining's multi_logloss: 0.972416\tvalid_1's multi_logloss: 1.09178\n",
      "Seed-85 | Fold-9 | OOF Score: 1.0917831100682487\n",
      "\n",
      "Seed: 85 | Aggregate OOF Score: 1.0926301220651808\n",
      "\n",
      "\n"
     ]
    },
    {
     "name": "stderr",
     "output_type": "stream",
     "text": [
      "/opt/conda/lib/python3.7/site-packages/lightgbm/basic.py:1706: UserWarning: categorical_feature in Dataset is overridden.\n",
      "New categorical_feature is [0, 1, 2, 3, 4, 5, 6, 7, 8, 9, 10, 11, 12, 13, 14, 15, 16, 17, 18, 19, 20, 21, 22, 23, 24, 25, 26, 27, 28, 29, 30, 31, 32, 33, 34, 35, 36, 37, 38, 39, 40, 41, 42, 43, 44, 45, 46, 47, 48, 49]\n",
      "  'New categorical_feature is {}'.format(sorted(list(categorical_feature))))\n",
      "/opt/conda/lib/python3.7/site-packages/lightgbm/basic.py:1433: UserWarning: Overriding the parameters from Reference Dataset.\n",
      "  _log_warning('Overriding the parameters from Reference Dataset.')\n",
      "/opt/conda/lib/python3.7/site-packages/lightgbm/basic.py:1245: UserWarning: categorical_column in param dict is overridden.\n",
      "  _log_warning('{} in param dict is overridden.'.format(cat_alias))\n"
     ]
    },
    {
     "name": "stdout",
     "output_type": "stream",
     "text": [
      "Training until validation scores don't improve for 200 rounds\n",
      "[100]\ttraining's multi_logloss: 1.05286\tvalid_1's multi_logloss: 1.09666\n",
      "[200]\ttraining's multi_logloss: 1.00903\tvalid_1's multi_logloss: 1.09246\n",
      "[300]\ttraining's multi_logloss: 0.972863\tvalid_1's multi_logloss: 1.09161\n",
      "[400]\ttraining's multi_logloss: 0.941262\tvalid_1's multi_logloss: 1.09151\n",
      "[500]\ttraining's multi_logloss: 0.911861\tvalid_1's multi_logloss: 1.09244\n",
      "Early stopping, best iteration is:\n",
      "[380]\ttraining's multi_logloss: 0.947349\tvalid_1's multi_logloss: 1.09143\n",
      "Seed-57 | Fold-0 | OOF Score: 1.0914267480371018\n"
     ]
    },
    {
     "name": "stderr",
     "output_type": "stream",
     "text": [
      "/opt/conda/lib/python3.7/site-packages/lightgbm/basic.py:1706: UserWarning: categorical_feature in Dataset is overridden.\n",
      "New categorical_feature is [0, 1, 2, 3, 4, 5, 6, 7, 8, 9, 10, 11, 12, 13, 14, 15, 16, 17, 18, 19, 20, 21, 22, 23, 24, 25, 26, 27, 28, 29, 30, 31, 32, 33, 34, 35, 36, 37, 38, 39, 40, 41, 42, 43, 44, 45, 46, 47, 48, 49]\n",
      "  'New categorical_feature is {}'.format(sorted(list(categorical_feature))))\n",
      "/opt/conda/lib/python3.7/site-packages/lightgbm/basic.py:1433: UserWarning: Overriding the parameters from Reference Dataset.\n",
      "  _log_warning('Overriding the parameters from Reference Dataset.')\n",
      "/opt/conda/lib/python3.7/site-packages/lightgbm/basic.py:1245: UserWarning: categorical_column in param dict is overridden.\n",
      "  _log_warning('{} in param dict is overridden.'.format(cat_alias))\n"
     ]
    },
    {
     "name": "stdout",
     "output_type": "stream",
     "text": [
      "Training until validation scores don't improve for 200 rounds\n",
      "[100]\ttraining's multi_logloss: 1.05263\tvalid_1's multi_logloss: 1.09564\n",
      "[200]\ttraining's multi_logloss: 1.00915\tvalid_1's multi_logloss: 1.09082\n",
      "[300]\ttraining's multi_logloss: 0.973026\tvalid_1's multi_logloss: 1.0914\n",
      "[400]\ttraining's multi_logloss: 0.941141\tvalid_1's multi_logloss: 1.09167\n",
      "Early stopping, best iteration is:\n",
      "[200]\ttraining's multi_logloss: 1.00915\tvalid_1's multi_logloss: 1.09082\n",
      "Seed-57 | Fold-1 | OOF Score: 1.0908183507168343\n"
     ]
    },
    {
     "name": "stderr",
     "output_type": "stream",
     "text": [
      "/opt/conda/lib/python3.7/site-packages/lightgbm/basic.py:1706: UserWarning: categorical_feature in Dataset is overridden.\n",
      "New categorical_feature is [0, 1, 2, 3, 4, 5, 6, 7, 8, 9, 10, 11, 12, 13, 14, 15, 16, 17, 18, 19, 20, 21, 22, 23, 24, 25, 26, 27, 28, 29, 30, 31, 32, 33, 34, 35, 36, 37, 38, 39, 40, 41, 42, 43, 44, 45, 46, 47, 48, 49]\n",
      "  'New categorical_feature is {}'.format(sorted(list(categorical_feature))))\n",
      "/opt/conda/lib/python3.7/site-packages/lightgbm/basic.py:1433: UserWarning: Overriding the parameters from Reference Dataset.\n",
      "  _log_warning('Overriding the parameters from Reference Dataset.')\n",
      "/opt/conda/lib/python3.7/site-packages/lightgbm/basic.py:1245: UserWarning: categorical_column in param dict is overridden.\n",
      "  _log_warning('{} in param dict is overridden.'.format(cat_alias))\n"
     ]
    },
    {
     "name": "stdout",
     "output_type": "stream",
     "text": [
      "Training until validation scores don't improve for 200 rounds\n",
      "[100]\ttraining's multi_logloss: 1.05256\tvalid_1's multi_logloss: 1.0979\n",
      "[200]\ttraining's multi_logloss: 1.00881\tvalid_1's multi_logloss: 1.09387\n",
      "[300]\ttraining's multi_logloss: 0.972752\tvalid_1's multi_logloss: 1.09349\n",
      "[400]\ttraining's multi_logloss: 0.940631\tvalid_1's multi_logloss: 1.09448\n",
      "Early stopping, best iteration is:\n",
      "[277]\ttraining's multi_logloss: 0.98066\tvalid_1's multi_logloss: 1.09343\n",
      "Seed-57 | Fold-2 | OOF Score: 1.0934277885892356\n"
     ]
    },
    {
     "name": "stderr",
     "output_type": "stream",
     "text": [
      "/opt/conda/lib/python3.7/site-packages/lightgbm/basic.py:1706: UserWarning: categorical_feature in Dataset is overridden.\n",
      "New categorical_feature is [0, 1, 2, 3, 4, 5, 6, 7, 8, 9, 10, 11, 12, 13, 14, 15, 16, 17, 18, 19, 20, 21, 22, 23, 24, 25, 26, 27, 28, 29, 30, 31, 32, 33, 34, 35, 36, 37, 38, 39, 40, 41, 42, 43, 44, 45, 46, 47, 48, 49]\n",
      "  'New categorical_feature is {}'.format(sorted(list(categorical_feature))))\n",
      "/opt/conda/lib/python3.7/site-packages/lightgbm/basic.py:1433: UserWarning: Overriding the parameters from Reference Dataset.\n",
      "  _log_warning('Overriding the parameters from Reference Dataset.')\n",
      "/opt/conda/lib/python3.7/site-packages/lightgbm/basic.py:1245: UserWarning: categorical_column in param dict is overridden.\n",
      "  _log_warning('{} in param dict is overridden.'.format(cat_alias))\n"
     ]
    },
    {
     "name": "stdout",
     "output_type": "stream",
     "text": [
      "Training until validation scores don't improve for 200 rounds\n",
      "[100]\ttraining's multi_logloss: 1.0531\tvalid_1's multi_logloss: 1.09713\n",
      "[200]\ttraining's multi_logloss: 1.00954\tvalid_1's multi_logloss: 1.09256\n",
      "[300]\ttraining's multi_logloss: 0.973248\tvalid_1's multi_logloss: 1.09232\n",
      "[400]\ttraining's multi_logloss: 0.94137\tvalid_1's multi_logloss: 1.09292\n",
      "Early stopping, best iteration is:\n",
      "[277]\ttraining's multi_logloss: 0.981266\tvalid_1's multi_logloss: 1.09219\n",
      "Seed-57 | Fold-3 | OOF Score: 1.092193416725403\n"
     ]
    },
    {
     "name": "stderr",
     "output_type": "stream",
     "text": [
      "/opt/conda/lib/python3.7/site-packages/lightgbm/basic.py:1706: UserWarning: categorical_feature in Dataset is overridden.\n",
      "New categorical_feature is [0, 1, 2, 3, 4, 5, 6, 7, 8, 9, 10, 11, 12, 13, 14, 15, 16, 17, 18, 19, 20, 21, 22, 23, 24, 25, 26, 27, 28, 29, 30, 31, 32, 33, 34, 35, 36, 37, 38, 39, 40, 41, 42, 43, 44, 45, 46, 47, 48, 49]\n",
      "  'New categorical_feature is {}'.format(sorted(list(categorical_feature))))\n",
      "/opt/conda/lib/python3.7/site-packages/lightgbm/basic.py:1433: UserWarning: Overriding the parameters from Reference Dataset.\n",
      "  _log_warning('Overriding the parameters from Reference Dataset.')\n",
      "/opt/conda/lib/python3.7/site-packages/lightgbm/basic.py:1245: UserWarning: categorical_column in param dict is overridden.\n",
      "  _log_warning('{} in param dict is overridden.'.format(cat_alias))\n"
     ]
    },
    {
     "name": "stdout",
     "output_type": "stream",
     "text": [
      "Training until validation scores don't improve for 200 rounds\n",
      "[100]\ttraining's multi_logloss: 1.05274\tvalid_1's multi_logloss: 1.10017\n",
      "[200]\ttraining's multi_logloss: 1.00893\tvalid_1's multi_logloss: 1.09638\n",
      "[300]\ttraining's multi_logloss: 0.972578\tvalid_1's multi_logloss: 1.09616\n",
      "[400]\ttraining's multi_logloss: 0.940351\tvalid_1's multi_logloss: 1.09703\n",
      "Early stopping, best iteration is:\n",
      "[284]\ttraining's multi_logloss: 0.978074\tvalid_1's multi_logloss: 1.09602\n",
      "Seed-57 | Fold-4 | OOF Score: 1.0960233739702143\n"
     ]
    },
    {
     "name": "stderr",
     "output_type": "stream",
     "text": [
      "/opt/conda/lib/python3.7/site-packages/lightgbm/basic.py:1706: UserWarning: categorical_feature in Dataset is overridden.\n",
      "New categorical_feature is [0, 1, 2, 3, 4, 5, 6, 7, 8, 9, 10, 11, 12, 13, 14, 15, 16, 17, 18, 19, 20, 21, 22, 23, 24, 25, 26, 27, 28, 29, 30, 31, 32, 33, 34, 35, 36, 37, 38, 39, 40, 41, 42, 43, 44, 45, 46, 47, 48, 49]\n",
      "  'New categorical_feature is {}'.format(sorted(list(categorical_feature))))\n",
      "/opt/conda/lib/python3.7/site-packages/lightgbm/basic.py:1433: UserWarning: Overriding the parameters from Reference Dataset.\n",
      "  _log_warning('Overriding the parameters from Reference Dataset.')\n",
      "/opt/conda/lib/python3.7/site-packages/lightgbm/basic.py:1245: UserWarning: categorical_column in param dict is overridden.\n",
      "  _log_warning('{} in param dict is overridden.'.format(cat_alias))\n"
     ]
    },
    {
     "name": "stdout",
     "output_type": "stream",
     "text": [
      "Training until validation scores don't improve for 200 rounds\n",
      "[100]\ttraining's multi_logloss: 1.05232\tvalid_1's multi_logloss: 1.09832\n",
      "[200]\ttraining's multi_logloss: 1.00856\tvalid_1's multi_logloss: 1.09461\n",
      "[300]\ttraining's multi_logloss: 0.972719\tvalid_1's multi_logloss: 1.09461\n",
      "[400]\ttraining's multi_logloss: 0.940715\tvalid_1's multi_logloss: 1.09509\n",
      "Early stopping, best iteration is:\n",
      "[252]\ttraining's multi_logloss: 0.989386\tvalid_1's multi_logloss: 1.09424\n",
      "Seed-57 | Fold-5 | OOF Score: 1.0942434460071895\n"
     ]
    },
    {
     "name": "stderr",
     "output_type": "stream",
     "text": [
      "/opt/conda/lib/python3.7/site-packages/lightgbm/basic.py:1706: UserWarning: categorical_feature in Dataset is overridden.\n",
      "New categorical_feature is [0, 1, 2, 3, 4, 5, 6, 7, 8, 9, 10, 11, 12, 13, 14, 15, 16, 17, 18, 19, 20, 21, 22, 23, 24, 25, 26, 27, 28, 29, 30, 31, 32, 33, 34, 35, 36, 37, 38, 39, 40, 41, 42, 43, 44, 45, 46, 47, 48, 49]\n",
      "  'New categorical_feature is {}'.format(sorted(list(categorical_feature))))\n",
      "/opt/conda/lib/python3.7/site-packages/lightgbm/basic.py:1433: UserWarning: Overriding the parameters from Reference Dataset.\n",
      "  _log_warning('Overriding the parameters from Reference Dataset.')\n",
      "/opt/conda/lib/python3.7/site-packages/lightgbm/basic.py:1245: UserWarning: categorical_column in param dict is overridden.\n",
      "  _log_warning('{} in param dict is overridden.'.format(cat_alias))\n"
     ]
    },
    {
     "name": "stdout",
     "output_type": "stream",
     "text": [
      "Training until validation scores don't improve for 200 rounds\n",
      "[100]\ttraining's multi_logloss: 1.05279\tvalid_1's multi_logloss: 1.09555\n",
      "[200]\ttraining's multi_logloss: 1.0091\tvalid_1's multi_logloss: 1.09044\n",
      "[300]\ttraining's multi_logloss: 0.973034\tvalid_1's multi_logloss: 1.08993\n",
      "[400]\ttraining's multi_logloss: 0.941125\tvalid_1's multi_logloss: 1.09048\n",
      "[500]\ttraining's multi_logloss: 0.911676\tvalid_1's multi_logloss: 1.09168\n",
      "Early stopping, best iteration is:\n",
      "[314]\ttraining's multi_logloss: 0.968413\tvalid_1's multi_logloss: 1.0898\n",
      "Seed-57 | Fold-6 | OOF Score: 1.0898031108412773\n"
     ]
    },
    {
     "name": "stderr",
     "output_type": "stream",
     "text": [
      "/opt/conda/lib/python3.7/site-packages/lightgbm/basic.py:1706: UserWarning: categorical_feature in Dataset is overridden.\n",
      "New categorical_feature is [0, 1, 2, 3, 4, 5, 6, 7, 8, 9, 10, 11, 12, 13, 14, 15, 16, 17, 18, 19, 20, 21, 22, 23, 24, 25, 26, 27, 28, 29, 30, 31, 32, 33, 34, 35, 36, 37, 38, 39, 40, 41, 42, 43, 44, 45, 46, 47, 48, 49]\n",
      "  'New categorical_feature is {}'.format(sorted(list(categorical_feature))))\n",
      "/opt/conda/lib/python3.7/site-packages/lightgbm/basic.py:1433: UserWarning: Overriding the parameters from Reference Dataset.\n",
      "  _log_warning('Overriding the parameters from Reference Dataset.')\n",
      "/opt/conda/lib/python3.7/site-packages/lightgbm/basic.py:1245: UserWarning: categorical_column in param dict is overridden.\n",
      "  _log_warning('{} in param dict is overridden.'.format(cat_alias))\n"
     ]
    },
    {
     "name": "stdout",
     "output_type": "stream",
     "text": [
      "Training until validation scores don't improve for 200 rounds\n",
      "[100]\ttraining's multi_logloss: 1.05258\tvalid_1's multi_logloss: 1.09776\n",
      "[200]\ttraining's multi_logloss: 1.00883\tvalid_1's multi_logloss: 1.09354\n",
      "[300]\ttraining's multi_logloss: 0.972818\tvalid_1's multi_logloss: 1.0931\n",
      "[400]\ttraining's multi_logloss: 0.94113\tvalid_1's multi_logloss: 1.09371\n",
      "Early stopping, best iteration is:\n",
      "[287]\ttraining's multi_logloss: 0.977262\tvalid_1's multi_logloss: 1.09296\n",
      "Seed-57 | Fold-7 | OOF Score: 1.092956534786265\n"
     ]
    },
    {
     "name": "stderr",
     "output_type": "stream",
     "text": [
      "/opt/conda/lib/python3.7/site-packages/lightgbm/basic.py:1706: UserWarning: categorical_feature in Dataset is overridden.\n",
      "New categorical_feature is [0, 1, 2, 3, 4, 5, 6, 7, 8, 9, 10, 11, 12, 13, 14, 15, 16, 17, 18, 19, 20, 21, 22, 23, 24, 25, 26, 27, 28, 29, 30, 31, 32, 33, 34, 35, 36, 37, 38, 39, 40, 41, 42, 43, 44, 45, 46, 47, 48, 49]\n",
      "  'New categorical_feature is {}'.format(sorted(list(categorical_feature))))\n",
      "/opt/conda/lib/python3.7/site-packages/lightgbm/basic.py:1433: UserWarning: Overriding the parameters from Reference Dataset.\n",
      "  _log_warning('Overriding the parameters from Reference Dataset.')\n",
      "/opt/conda/lib/python3.7/site-packages/lightgbm/basic.py:1245: UserWarning: categorical_column in param dict is overridden.\n",
      "  _log_warning('{} in param dict is overridden.'.format(cat_alias))\n"
     ]
    },
    {
     "name": "stdout",
     "output_type": "stream",
     "text": [
      "Training until validation scores don't improve for 200 rounds\n",
      "[100]\ttraining's multi_logloss: 1.05211\tvalid_1's multi_logloss: 1.09938\n",
      "[200]\ttraining's multi_logloss: 1.0083\tvalid_1's multi_logloss: 1.09603\n",
      "[300]\ttraining's multi_logloss: 0.972113\tvalid_1's multi_logloss: 1.0958\n",
      "[400]\ttraining's multi_logloss: 0.940442\tvalid_1's multi_logloss: 1.09699\n",
      "Early stopping, best iteration is:\n",
      "[299]\ttraining's multi_logloss: 0.972476\tvalid_1's multi_logloss: 1.09576\n",
      "Seed-57 | Fold-8 | OOF Score: 1.0957598868249763\n"
     ]
    },
    {
     "name": "stderr",
     "output_type": "stream",
     "text": [
      "/opt/conda/lib/python3.7/site-packages/lightgbm/basic.py:1706: UserWarning: categorical_feature in Dataset is overridden.\n",
      "New categorical_feature is [0, 1, 2, 3, 4, 5, 6, 7, 8, 9, 10, 11, 12, 13, 14, 15, 16, 17, 18, 19, 20, 21, 22, 23, 24, 25, 26, 27, 28, 29, 30, 31, 32, 33, 34, 35, 36, 37, 38, 39, 40, 41, 42, 43, 44, 45, 46, 47, 48, 49]\n",
      "  'New categorical_feature is {}'.format(sorted(list(categorical_feature))))\n",
      "/opt/conda/lib/python3.7/site-packages/lightgbm/basic.py:1433: UserWarning: Overriding the parameters from Reference Dataset.\n",
      "  _log_warning('Overriding the parameters from Reference Dataset.')\n",
      "/opt/conda/lib/python3.7/site-packages/lightgbm/basic.py:1245: UserWarning: categorical_column in param dict is overridden.\n",
      "  _log_warning('{} in param dict is overridden.'.format(cat_alias))\n"
     ]
    },
    {
     "name": "stdout",
     "output_type": "stream",
     "text": [
      "Training until validation scores don't improve for 200 rounds\n",
      "[100]\ttraining's multi_logloss: 1.05223\tvalid_1's multi_logloss: 1.09847\n",
      "[200]\ttraining's multi_logloss: 1.00847\tvalid_1's multi_logloss: 1.09512\n",
      "[300]\ttraining's multi_logloss: 0.972261\tvalid_1's multi_logloss: 1.09567\n",
      "[400]\ttraining's multi_logloss: 0.940094\tvalid_1's multi_logloss: 1.09621\n",
      "Early stopping, best iteration is:\n",
      "[240]\ttraining's multi_logloss: 0.993389\tvalid_1's multi_logloss: 1.09491\n",
      "Seed-57 | Fold-9 | OOF Score: 1.0949145778013785\n",
      "\n",
      "Seed: 57 | Aggregate OOF Score: 1.0931567234299877\n",
      "\n",
      "\n"
     ]
    },
    {
     "name": "stderr",
     "output_type": "stream",
     "text": [
      "/opt/conda/lib/python3.7/site-packages/lightgbm/basic.py:1706: UserWarning: categorical_feature in Dataset is overridden.\n",
      "New categorical_feature is [0, 1, 2, 3, 4, 5, 6, 7, 8, 9, 10, 11, 12, 13, 14, 15, 16, 17, 18, 19, 20, 21, 22, 23, 24, 25, 26, 27, 28, 29, 30, 31, 32, 33, 34, 35, 36, 37, 38, 39, 40, 41, 42, 43, 44, 45, 46, 47, 48, 49]\n",
      "  'New categorical_feature is {}'.format(sorted(list(categorical_feature))))\n",
      "/opt/conda/lib/python3.7/site-packages/lightgbm/basic.py:1433: UserWarning: Overriding the parameters from Reference Dataset.\n",
      "  _log_warning('Overriding the parameters from Reference Dataset.')\n",
      "/opt/conda/lib/python3.7/site-packages/lightgbm/basic.py:1245: UserWarning: categorical_column in param dict is overridden.\n",
      "  _log_warning('{} in param dict is overridden.'.format(cat_alias))\n"
     ]
    },
    {
     "name": "stdout",
     "output_type": "stream",
     "text": [
      "Training until validation scores don't improve for 200 rounds\n",
      "[100]\ttraining's multi_logloss: 1.05239\tvalid_1's multi_logloss: 1.09875\n",
      "[200]\ttraining's multi_logloss: 1.00866\tvalid_1's multi_logloss: 1.09552\n",
      "[300]\ttraining's multi_logloss: 0.972736\tvalid_1's multi_logloss: 1.09597\n",
      "[400]\ttraining's multi_logloss: 0.940867\tvalid_1's multi_logloss: 1.09643\n",
      "Early stopping, best iteration is:\n",
      "[247]\ttraining's multi_logloss: 0.991184\tvalid_1's multi_logloss: 1.09514\n",
      "Seed-0 | Fold-0 | OOF Score: 1.0951388697496454\n"
     ]
    },
    {
     "name": "stderr",
     "output_type": "stream",
     "text": [
      "/opt/conda/lib/python3.7/site-packages/lightgbm/basic.py:1706: UserWarning: categorical_feature in Dataset is overridden.\n",
      "New categorical_feature is [0, 1, 2, 3, 4, 5, 6, 7, 8, 9, 10, 11, 12, 13, 14, 15, 16, 17, 18, 19, 20, 21, 22, 23, 24, 25, 26, 27, 28, 29, 30, 31, 32, 33, 34, 35, 36, 37, 38, 39, 40, 41, 42, 43, 44, 45, 46, 47, 48, 49]\n",
      "  'New categorical_feature is {}'.format(sorted(list(categorical_feature))))\n",
      "/opt/conda/lib/python3.7/site-packages/lightgbm/basic.py:1433: UserWarning: Overriding the parameters from Reference Dataset.\n",
      "  _log_warning('Overriding the parameters from Reference Dataset.')\n",
      "/opt/conda/lib/python3.7/site-packages/lightgbm/basic.py:1245: UserWarning: categorical_column in param dict is overridden.\n",
      "  _log_warning('{} in param dict is overridden.'.format(cat_alias))\n"
     ]
    },
    {
     "name": "stdout",
     "output_type": "stream",
     "text": [
      "Training until validation scores don't improve for 200 rounds\n",
      "[100]\ttraining's multi_logloss: 1.05282\tvalid_1's multi_logloss: 1.09665\n",
      "[200]\ttraining's multi_logloss: 1.00902\tvalid_1's multi_logloss: 1.09258\n",
      "[300]\ttraining's multi_logloss: 0.972806\tvalid_1's multi_logloss: 1.0918\n",
      "[400]\ttraining's multi_logloss: 0.94076\tvalid_1's multi_logloss: 1.09215\n",
      "[500]\ttraining's multi_logloss: 0.911258\tvalid_1's multi_logloss: 1.09288\n",
      "Early stopping, best iteration is:\n",
      "[311]\ttraining's multi_logloss: 0.969081\tvalid_1's multi_logloss: 1.09168\n",
      "Seed-0 | Fold-1 | OOF Score: 1.091675028202224\n"
     ]
    },
    {
     "name": "stderr",
     "output_type": "stream",
     "text": [
      "/opt/conda/lib/python3.7/site-packages/lightgbm/basic.py:1706: UserWarning: categorical_feature in Dataset is overridden.\n",
      "New categorical_feature is [0, 1, 2, 3, 4, 5, 6, 7, 8, 9, 10, 11, 12, 13, 14, 15, 16, 17, 18, 19, 20, 21, 22, 23, 24, 25, 26, 27, 28, 29, 30, 31, 32, 33, 34, 35, 36, 37, 38, 39, 40, 41, 42, 43, 44, 45, 46, 47, 48, 49]\n",
      "  'New categorical_feature is {}'.format(sorted(list(categorical_feature))))\n",
      "/opt/conda/lib/python3.7/site-packages/lightgbm/basic.py:1433: UserWarning: Overriding the parameters from Reference Dataset.\n",
      "  _log_warning('Overriding the parameters from Reference Dataset.')\n",
      "/opt/conda/lib/python3.7/site-packages/lightgbm/basic.py:1245: UserWarning: categorical_column in param dict is overridden.\n",
      "  _log_warning('{} in param dict is overridden.'.format(cat_alias))\n"
     ]
    },
    {
     "name": "stdout",
     "output_type": "stream",
     "text": [
      "Training until validation scores don't improve for 200 rounds\n",
      "[100]\ttraining's multi_logloss: 1.05231\tvalid_1's multi_logloss: 1.09818\n",
      "[200]\ttraining's multi_logloss: 1.00832\tvalid_1's multi_logloss: 1.09384\n",
      "[300]\ttraining's multi_logloss: 0.972439\tvalid_1's multi_logloss: 1.09327\n",
      "[400]\ttraining's multi_logloss: 0.940714\tvalid_1's multi_logloss: 1.09349\n",
      "Early stopping, best iteration is:\n",
      "[272]\ttraining's multi_logloss: 0.981921\tvalid_1's multi_logloss: 1.09308\n",
      "Seed-0 | Fold-2 | OOF Score: 1.0930783238525374\n"
     ]
    },
    {
     "name": "stderr",
     "output_type": "stream",
     "text": [
      "/opt/conda/lib/python3.7/site-packages/lightgbm/basic.py:1706: UserWarning: categorical_feature in Dataset is overridden.\n",
      "New categorical_feature is [0, 1, 2, 3, 4, 5, 6, 7, 8, 9, 10, 11, 12, 13, 14, 15, 16, 17, 18, 19, 20, 21, 22, 23, 24, 25, 26, 27, 28, 29, 30, 31, 32, 33, 34, 35, 36, 37, 38, 39, 40, 41, 42, 43, 44, 45, 46, 47, 48, 49]\n",
      "  'New categorical_feature is {}'.format(sorted(list(categorical_feature))))\n",
      "/opt/conda/lib/python3.7/site-packages/lightgbm/basic.py:1433: UserWarning: Overriding the parameters from Reference Dataset.\n",
      "  _log_warning('Overriding the parameters from Reference Dataset.')\n",
      "/opt/conda/lib/python3.7/site-packages/lightgbm/basic.py:1245: UserWarning: categorical_column in param dict is overridden.\n",
      "  _log_warning('{} in param dict is overridden.'.format(cat_alias))\n"
     ]
    },
    {
     "name": "stdout",
     "output_type": "stream",
     "text": [
      "Training until validation scores don't improve for 200 rounds\n",
      "[100]\ttraining's multi_logloss: 1.05263\tvalid_1's multi_logloss: 1.09628\n",
      "[200]\ttraining's multi_logloss: 1.00921\tvalid_1's multi_logloss: 1.09211\n",
      "[300]\ttraining's multi_logloss: 0.973123\tvalid_1's multi_logloss: 1.09148\n",
      "[400]\ttraining's multi_logloss: 0.941223\tvalid_1's multi_logloss: 1.09203\n",
      "[500]\ttraining's multi_logloss: 0.911965\tvalid_1's multi_logloss: 1.09279\n",
      "Early stopping, best iteration is:\n",
      "[309]\ttraining's multi_logloss: 0.970138\tvalid_1's multi_logloss: 1.09135\n",
      "Seed-0 | Fold-3 | OOF Score: 1.0913460279594038\n"
     ]
    },
    {
     "name": "stderr",
     "output_type": "stream",
     "text": [
      "/opt/conda/lib/python3.7/site-packages/lightgbm/basic.py:1706: UserWarning: categorical_feature in Dataset is overridden.\n",
      "New categorical_feature is [0, 1, 2, 3, 4, 5, 6, 7, 8, 9, 10, 11, 12, 13, 14, 15, 16, 17, 18, 19, 20, 21, 22, 23, 24, 25, 26, 27, 28, 29, 30, 31, 32, 33, 34, 35, 36, 37, 38, 39, 40, 41, 42, 43, 44, 45, 46, 47, 48, 49]\n",
      "  'New categorical_feature is {}'.format(sorted(list(categorical_feature))))\n",
      "/opt/conda/lib/python3.7/site-packages/lightgbm/basic.py:1433: UserWarning: Overriding the parameters from Reference Dataset.\n",
      "  _log_warning('Overriding the parameters from Reference Dataset.')\n",
      "/opt/conda/lib/python3.7/site-packages/lightgbm/basic.py:1245: UserWarning: categorical_column in param dict is overridden.\n",
      "  _log_warning('{} in param dict is overridden.'.format(cat_alias))\n"
     ]
    },
    {
     "name": "stdout",
     "output_type": "stream",
     "text": [
      "Training until validation scores don't improve for 200 rounds\n",
      "[100]\ttraining's multi_logloss: 1.05276\tvalid_1's multi_logloss: 1.09466\n",
      "[200]\ttraining's multi_logloss: 1.00903\tvalid_1's multi_logloss: 1.08941\n",
      "[300]\ttraining's multi_logloss: 0.97322\tvalid_1's multi_logloss: 1.08893\n",
      "[400]\ttraining's multi_logloss: 0.941302\tvalid_1's multi_logloss: 1.08942\n",
      "Early stopping, best iteration is:\n",
      "[268]\ttraining's multi_logloss: 0.984094\tvalid_1's multi_logloss: 1.0888\n",
      "Seed-0 | Fold-4 | OOF Score: 1.0888022237292716\n"
     ]
    },
    {
     "name": "stderr",
     "output_type": "stream",
     "text": [
      "/opt/conda/lib/python3.7/site-packages/lightgbm/basic.py:1706: UserWarning: categorical_feature in Dataset is overridden.\n",
      "New categorical_feature is [0, 1, 2, 3, 4, 5, 6, 7, 8, 9, 10, 11, 12, 13, 14, 15, 16, 17, 18, 19, 20, 21, 22, 23, 24, 25, 26, 27, 28, 29, 30, 31, 32, 33, 34, 35, 36, 37, 38, 39, 40, 41, 42, 43, 44, 45, 46, 47, 48, 49]\n",
      "  'New categorical_feature is {}'.format(sorted(list(categorical_feature))))\n",
      "/opt/conda/lib/python3.7/site-packages/lightgbm/basic.py:1433: UserWarning: Overriding the parameters from Reference Dataset.\n",
      "  _log_warning('Overriding the parameters from Reference Dataset.')\n",
      "/opt/conda/lib/python3.7/site-packages/lightgbm/basic.py:1245: UserWarning: categorical_column in param dict is overridden.\n",
      "  _log_warning('{} in param dict is overridden.'.format(cat_alias))\n"
     ]
    },
    {
     "name": "stdout",
     "output_type": "stream",
     "text": [
      "Training until validation scores don't improve for 200 rounds\n",
      "[100]\ttraining's multi_logloss: 1.05266\tvalid_1's multi_logloss: 1.09711\n",
      "[200]\ttraining's multi_logloss: 1.00903\tvalid_1's multi_logloss: 1.09248\n",
      "[300]\ttraining's multi_logloss: 0.972892\tvalid_1's multi_logloss: 1.09197\n",
      "[400]\ttraining's multi_logloss: 0.940967\tvalid_1's multi_logloss: 1.09269\n",
      "Early stopping, best iteration is:\n",
      "[252]\ttraining's multi_logloss: 0.989719\tvalid_1's multi_logloss: 1.09177\n",
      "Seed-0 | Fold-5 | OOF Score: 1.0917736681682542\n"
     ]
    },
    {
     "name": "stderr",
     "output_type": "stream",
     "text": [
      "/opt/conda/lib/python3.7/site-packages/lightgbm/basic.py:1706: UserWarning: categorical_feature in Dataset is overridden.\n",
      "New categorical_feature is [0, 1, 2, 3, 4, 5, 6, 7, 8, 9, 10, 11, 12, 13, 14, 15, 16, 17, 18, 19, 20, 21, 22, 23, 24, 25, 26, 27, 28, 29, 30, 31, 32, 33, 34, 35, 36, 37, 38, 39, 40, 41, 42, 43, 44, 45, 46, 47, 48, 49]\n",
      "  'New categorical_feature is {}'.format(sorted(list(categorical_feature))))\n",
      "/opt/conda/lib/python3.7/site-packages/lightgbm/basic.py:1433: UserWarning: Overriding the parameters from Reference Dataset.\n",
      "  _log_warning('Overriding the parameters from Reference Dataset.')\n",
      "/opt/conda/lib/python3.7/site-packages/lightgbm/basic.py:1245: UserWarning: categorical_column in param dict is overridden.\n",
      "  _log_warning('{} in param dict is overridden.'.format(cat_alias))\n"
     ]
    },
    {
     "name": "stdout",
     "output_type": "stream",
     "text": [
      "Training until validation scores don't improve for 200 rounds\n",
      "[100]\ttraining's multi_logloss: 1.05265\tvalid_1's multi_logloss: 1.09807\n",
      "[200]\ttraining's multi_logloss: 1.00895\tvalid_1's multi_logloss: 1.09407\n",
      "[300]\ttraining's multi_logloss: 0.973185\tvalid_1's multi_logloss: 1.09354\n",
      "[400]\ttraining's multi_logloss: 0.941545\tvalid_1's multi_logloss: 1.09383\n",
      "Early stopping, best iteration is:\n",
      "[277]\ttraining's multi_logloss: 0.980911\tvalid_1's multi_logloss: 1.09336\n",
      "Seed-0 | Fold-6 | OOF Score: 1.0933608289881234\n"
     ]
    },
    {
     "name": "stderr",
     "output_type": "stream",
     "text": [
      "/opt/conda/lib/python3.7/site-packages/lightgbm/basic.py:1706: UserWarning: categorical_feature in Dataset is overridden.\n",
      "New categorical_feature is [0, 1, 2, 3, 4, 5, 6, 7, 8, 9, 10, 11, 12, 13, 14, 15, 16, 17, 18, 19, 20, 21, 22, 23, 24, 25, 26, 27, 28, 29, 30, 31, 32, 33, 34, 35, 36, 37, 38, 39, 40, 41, 42, 43, 44, 45, 46, 47, 48, 49]\n",
      "  'New categorical_feature is {}'.format(sorted(list(categorical_feature))))\n",
      "/opt/conda/lib/python3.7/site-packages/lightgbm/basic.py:1433: UserWarning: Overriding the parameters from Reference Dataset.\n",
      "  _log_warning('Overriding the parameters from Reference Dataset.')\n",
      "/opt/conda/lib/python3.7/site-packages/lightgbm/basic.py:1245: UserWarning: categorical_column in param dict is overridden.\n",
      "  _log_warning('{} in param dict is overridden.'.format(cat_alias))\n"
     ]
    },
    {
     "name": "stdout",
     "output_type": "stream",
     "text": [
      "Training until validation scores don't improve for 200 rounds\n",
      "[100]\ttraining's multi_logloss: 1.05253\tvalid_1's multi_logloss: 1.09744\n",
      "[200]\ttraining's multi_logloss: 1.00868\tvalid_1's multi_logloss: 1.09344\n",
      "[300]\ttraining's multi_logloss: 0.972779\tvalid_1's multi_logloss: 1.09353\n",
      "[400]\ttraining's multi_logloss: 0.940598\tvalid_1's multi_logloss: 1.09494\n",
      "Early stopping, best iteration is:\n",
      "[262]\ttraining's multi_logloss: 0.985871\tvalid_1's multi_logloss: 1.09305\n",
      "Seed-0 | Fold-7 | OOF Score: 1.0930540922486116\n"
     ]
    },
    {
     "name": "stderr",
     "output_type": "stream",
     "text": [
      "/opt/conda/lib/python3.7/site-packages/lightgbm/basic.py:1706: UserWarning: categorical_feature in Dataset is overridden.\n",
      "New categorical_feature is [0, 1, 2, 3, 4, 5, 6, 7, 8, 9, 10, 11, 12, 13, 14, 15, 16, 17, 18, 19, 20, 21, 22, 23, 24, 25, 26, 27, 28, 29, 30, 31, 32, 33, 34, 35, 36, 37, 38, 39, 40, 41, 42, 43, 44, 45, 46, 47, 48, 49]\n",
      "  'New categorical_feature is {}'.format(sorted(list(categorical_feature))))\n",
      "/opt/conda/lib/python3.7/site-packages/lightgbm/basic.py:1433: UserWarning: Overriding the parameters from Reference Dataset.\n",
      "  _log_warning('Overriding the parameters from Reference Dataset.')\n",
      "/opt/conda/lib/python3.7/site-packages/lightgbm/basic.py:1245: UserWarning: categorical_column in param dict is overridden.\n",
      "  _log_warning('{} in param dict is overridden.'.format(cat_alias))\n"
     ]
    },
    {
     "name": "stdout",
     "output_type": "stream",
     "text": [
      "Training until validation scores don't improve for 200 rounds\n",
      "[100]\ttraining's multi_logloss: 1.05247\tvalid_1's multi_logloss: 1.0972\n",
      "[200]\ttraining's multi_logloss: 1.00852\tvalid_1's multi_logloss: 1.09416\n",
      "[300]\ttraining's multi_logloss: 0.972463\tvalid_1's multi_logloss: 1.09398\n",
      "[400]\ttraining's multi_logloss: 0.941014\tvalid_1's multi_logloss: 1.0946\n",
      "Early stopping, best iteration is:\n",
      "[278]\ttraining's multi_logloss: 0.979954\tvalid_1's multi_logloss: 1.09376\n",
      "Seed-0 | Fold-8 | OOF Score: 1.09375771488981\n"
     ]
    },
    {
     "name": "stderr",
     "output_type": "stream",
     "text": [
      "/opt/conda/lib/python3.7/site-packages/lightgbm/basic.py:1706: UserWarning: categorical_feature in Dataset is overridden.\n",
      "New categorical_feature is [0, 1, 2, 3, 4, 5, 6, 7, 8, 9, 10, 11, 12, 13, 14, 15, 16, 17, 18, 19, 20, 21, 22, 23, 24, 25, 26, 27, 28, 29, 30, 31, 32, 33, 34, 35, 36, 37, 38, 39, 40, 41, 42, 43, 44, 45, 46, 47, 48, 49]\n",
      "  'New categorical_feature is {}'.format(sorted(list(categorical_feature))))\n",
      "/opt/conda/lib/python3.7/site-packages/lightgbm/basic.py:1433: UserWarning: Overriding the parameters from Reference Dataset.\n",
      "  _log_warning('Overriding the parameters from Reference Dataset.')\n",
      "/opt/conda/lib/python3.7/site-packages/lightgbm/basic.py:1245: UserWarning: categorical_column in param dict is overridden.\n",
      "  _log_warning('{} in param dict is overridden.'.format(cat_alias))\n"
     ]
    },
    {
     "name": "stdout",
     "output_type": "stream",
     "text": [
      "Training until validation scores don't improve for 200 rounds\n",
      "[100]\ttraining's multi_logloss: 1.05238\tvalid_1's multi_logloss: 1.09903\n",
      "[200]\ttraining's multi_logloss: 1.00869\tvalid_1's multi_logloss: 1.09491\n",
      "[300]\ttraining's multi_logloss: 0.972821\tvalid_1's multi_logloss: 1.09503\n",
      "[400]\ttraining's multi_logloss: 0.940775\tvalid_1's multi_logloss: 1.09591\n",
      "Early stopping, best iteration is:\n",
      "[253]\ttraining's multi_logloss: 0.989076\tvalid_1's multi_logloss: 1.09464\n",
      "Seed-0 | Fold-9 | OOF Score: 1.094638207466955\n",
      "\n",
      "Seed: 0 | Aggregate OOF Score: 1.0926624985254836\n",
      "\n",
      "\n",
      "Aggregate OOF Score: 1.0928164480068843\n"
     ]
    }
   ],
   "source": [
    "FOLD = 10\n",
    "NUM_SEED = 3\n",
    "\n",
    "# Prediction Clipping Thresholds\n",
    "p_min = 0.025\n",
    "p_max = 1 - p_min\n",
    "\n",
    "np.random.seed(2021)\n",
    "seeds = np.random.randint(0, 100, size=NUM_SEED)\n",
    "\n",
    "oof_score = 0\n",
    "y_pred_meta_lgb = np.zeros((Ytrain.shape[0], 4))\n",
    "y_pred_final_lgb = np.zeros((Xtest.shape[0], 4))\n",
    "counter = 0\n",
    "\n",
    "\n",
    "for sidx, seed in enumerate(seeds):\n",
    "    seed_score = 0\n",
    "    \n",
    "    kfold = StratifiedKFold(n_splits=FOLD, shuffle=True, random_state=seed)\n",
    "\n",
    "    for idx, (train, val) in enumerate(kfold.split(Xtrain, Ytrain)):\n",
    "        counter += 1\n",
    "\n",
    "        train_x, train_y, train_y_oh = Xtrain[train], Ytrain[train], Ytrain_oh[train]\n",
    "        val_x, val_y, val_y_oh = Xtrain[val], Ytrain[val], Ytrain_oh[val]\n",
    "\n",
    "        lgtrain = lgb.Dataset(train_x, label=train_y.ravel())\n",
    "        lgvalidation = lgb.Dataset(val_x, label=val_y.ravel())\n",
    "\n",
    "        model = lgb.train(params, lgtrain, num_rounds, \n",
    "                          valid_sets=[lgtrain, lgvalidation], \n",
    "                          categorical_feature=cat_cols_indices,\n",
    "                          early_stopping_rounds=200, verbose_eval=100)\n",
    "\n",
    "        y_pred = model.predict(val_x, num_iteration=model.best_iteration)\n",
    "        y_pred = np.clip(y_pred, p_min, p_max)\n",
    "        y_pred_meta_lgb[val] += y_pred\n",
    "        y_pred_final_lgb += model.predict(Xtest, num_iteration=model.best_iteration)\n",
    "        \n",
    "        score = log_loss(val_y_oh, y_pred)\n",
    "        oof_score += score\n",
    "        seed_score += score\n",
    "        print(\"Seed-{} | Fold-{} | OOF Score: {}\".format(seed, idx, score))\n",
    "    \n",
    "    print(\"\\nSeed: {} | Aggregate OOF Score: {}\\n\\n\".format(seed, (seed_score / FOLD)))\n",
    "\n",
    "\n",
    "y_pred_meta_lgb = y_pred_meta_lgb / float(NUM_SEED)\n",
    "y_pred_final_lgb = y_pred_final_lgb / float(counter)\n",
    "oof_score /= float(counter)\n",
    "print(\"Aggregate OOF Score: {}\".format(oof_score))"
   ]
  },
  {
   "cell_type": "code",
   "execution_count": 7,
   "id": "israeli-option",
   "metadata": {
    "execution": {
     "iopub.execute_input": "2021-05-23T07:21:19.240580Z",
     "iopub.status.busy": "2021-05-23T07:21:19.239882Z",
     "iopub.status.idle": "2021-05-23T07:21:19.501467Z",
     "shell.execute_reply": "2021-05-23T07:21:19.500934Z"
    },
    "id": "uLzmS7LzXvXy",
    "papermill": {
     "duration": 0.363852,
     "end_time": "2021-05-23T07:21:19.501636",
     "exception": false,
     "start_time": "2021-05-23T07:21:19.137784",
     "status": "completed"
    },
    "tags": []
   },
   "outputs": [],
   "source": [
    "np.savez_compressed('./LGB_Meta_Features.npz',\n",
    "                    y_pred_meta_lgb=y_pred_meta_lgb, \n",
    "                    oof_score=oof_score,\n",
    "                    y_pred_final_lgb=y_pred_final_lgb)"
   ]
  },
  {
   "cell_type": "markdown",
   "id": "imperial-seeking",
   "metadata": {
    "id": "nZvoU4TpWxmY",
    "papermill": {
     "duration": 0.094398,
     "end_time": "2021-05-23T07:21:19.691688",
     "exception": false,
     "start_time": "2021-05-23T07:21:19.597290",
     "status": "completed"
    },
    "tags": []
   },
   "source": [
    "## Create submission file"
   ]
  },
  {
   "cell_type": "code",
   "execution_count": 8,
   "id": "rapid-quick",
   "metadata": {
    "execution": {
     "iopub.execute_input": "2021-05-23T07:21:19.887615Z",
     "iopub.status.busy": "2021-05-23T07:21:19.886920Z",
     "iopub.status.idle": "2021-05-23T07:21:20.180437Z",
     "shell.execute_reply": "2021-05-23T07:21:20.179907Z"
    },
    "executionInfo": {
     "elapsed": 1417,
     "status": "ok",
     "timestamp": 1616078535765,
     "user": {
      "displayName": "TAPAS DAS",
      "photoUrl": "https://lh3.googleusercontent.com/a-/AOh14GiyffdGKiPCR_UwVittzTcbBFms70IkGfU15fatCA=s64",
      "userId": "10798398878324948542"
     },
     "user_tz": -330
    },
    "id": "zGEGOAJHVoHV",
    "outputId": "53ab44cf-755f-435d-c1af-f4184f2114dd",
    "papermill": {
     "duration": 0.394425,
     "end_time": "2021-05-23T07:21:20.180613",
     "exception": false,
     "start_time": "2021-05-23T07:21:19.786188",
     "status": "completed"
    },
    "tags": []
   },
   "outputs": [
    {
     "data": {
      "text/html": [
       "<div>\n",
       "<style scoped>\n",
       "    .dataframe tbody tr th:only-of-type {\n",
       "        vertical-align: middle;\n",
       "    }\n",
       "\n",
       "    .dataframe tbody tr th {\n",
       "        vertical-align: top;\n",
       "    }\n",
       "\n",
       "    .dataframe thead th {\n",
       "        text-align: right;\n",
       "    }\n",
       "</style>\n",
       "<table border=\"1\" class=\"dataframe\">\n",
       "  <thead>\n",
       "    <tr style=\"text-align: right;\">\n",
       "      <th></th>\n",
       "      <th>id</th>\n",
       "      <th>Class_1</th>\n",
       "      <th>Class_2</th>\n",
       "      <th>Class_3</th>\n",
       "      <th>Class_4</th>\n",
       "    </tr>\n",
       "  </thead>\n",
       "  <tbody>\n",
       "    <tr>\n",
       "      <th>0</th>\n",
       "      <td>100000</td>\n",
       "      <td>0.093238</td>\n",
       "      <td>0.608216</td>\n",
       "      <td>0.181194</td>\n",
       "      <td>0.117353</td>\n",
       "    </tr>\n",
       "    <tr>\n",
       "      <th>1</th>\n",
       "      <td>100001</td>\n",
       "      <td>0.065417</td>\n",
       "      <td>0.641462</td>\n",
       "      <td>0.182596</td>\n",
       "      <td>0.110524</td>\n",
       "    </tr>\n",
       "    <tr>\n",
       "      <th>2</th>\n",
       "      <td>100002</td>\n",
       "      <td>0.063340</td>\n",
       "      <td>0.686320</td>\n",
       "      <td>0.158017</td>\n",
       "      <td>0.092323</td>\n",
       "    </tr>\n",
       "    <tr>\n",
       "      <th>3</th>\n",
       "      <td>100003</td>\n",
       "      <td>0.082202</td>\n",
       "      <td>0.553770</td>\n",
       "      <td>0.274679</td>\n",
       "      <td>0.089348</td>\n",
       "    </tr>\n",
       "    <tr>\n",
       "      <th>4</th>\n",
       "      <td>100004</td>\n",
       "      <td>0.068181</td>\n",
       "      <td>0.658764</td>\n",
       "      <td>0.178083</td>\n",
       "      <td>0.094972</td>\n",
       "    </tr>\n",
       "  </tbody>\n",
       "</table>\n",
       "</div>"
      ],
      "text/plain": [
       "       id   Class_1   Class_2   Class_3   Class_4\n",
       "0  100000  0.093238  0.608216  0.181194  0.117353\n",
       "1  100001  0.065417  0.641462  0.182596  0.110524\n",
       "2  100002  0.063340  0.686320  0.158017  0.092323\n",
       "3  100003  0.082202  0.553770  0.274679  0.089348\n",
       "4  100004  0.068181  0.658764  0.178083  0.094972"
      ]
     },
     "execution_count": 8,
     "metadata": {},
     "output_type": "execute_result"
    }
   ],
   "source": [
    "y_pred_final_lgb = np.clip(y_pred_final_lgb, p_min, p_max)\n",
    "\n",
    "test_df = pd.read_csv(\"../input/tabular-playground-series-may-2021/test.csv\")\n",
    "submit_df = pd.DataFrame()\n",
    "submit_df['id'] = test_df['id']\n",
    "submit_df['Class_1'] = y_pred_final_lgb[:,0]\n",
    "submit_df['Class_2'] = y_pred_final_lgb[:,1]\n",
    "submit_df['Class_3'] = y_pred_final_lgb[:,2]\n",
    "submit_df['Class_4'] = y_pred_final_lgb[:,3]\n",
    "submit_df.head()"
   ]
  },
  {
   "cell_type": "code",
   "execution_count": 9,
   "id": "legal-register",
   "metadata": {
    "execution": {
     "iopub.execute_input": "2021-05-23T07:21:20.379975Z",
     "iopub.status.busy": "2021-05-23T07:21:20.379311Z",
     "iopub.status.idle": "2021-05-23T07:21:20.860758Z",
     "shell.execute_reply": "2021-05-23T07:21:20.859991Z"
    },
    "id": "KDIsotrKVoJN",
    "papermill": {
     "duration": 0.582278,
     "end_time": "2021-05-23T07:21:20.860907",
     "exception": false,
     "start_time": "2021-05-23T07:21:20.278629",
     "status": "completed"
    },
    "tags": []
   },
   "outputs": [],
   "source": [
    "submit_df.to_csv(\"./LGB_submission.csv\", index=False)"
   ]
  },
  {
   "cell_type": "code",
   "execution_count": null,
   "id": "exciting-trust",
   "metadata": {
    "id": "W2c88MvxXm65",
    "papermill": {
     "duration": 0.09932,
     "end_time": "2021-05-23T07:21:21.059742",
     "exception": false,
     "start_time": "2021-05-23T07:21:20.960422",
     "status": "completed"
    },
    "tags": []
   },
   "outputs": [],
   "source": []
  }
 ],
 "metadata": {
  "kernelspec": {
   "display_name": "Python 3",
   "language": "python",
   "name": "python3"
  },
  "language_info": {
   "codemirror_mode": {
    "name": "ipython",
    "version": 3
   },
   "file_extension": ".py",
   "mimetype": "text/x-python",
   "name": "python",
   "nbconvert_exporter": "python",
   "pygments_lexer": "ipython3",
   "version": "3.7.10"
  },
  "papermill": {
   "default_parameters": {},
   "duration": 3105.862301,
   "end_time": "2021-05-23T07:21:22.948841",
   "environment_variables": {},
   "exception": null,
   "input_path": "__notebook__.ipynb",
   "output_path": "__notebook__.ipynb",
   "parameters": {},
   "start_time": "2021-05-23T06:29:37.086540",
   "version": "2.3.3"
  }
 },
 "nbformat": 4,
 "nbformat_minor": 5
}
