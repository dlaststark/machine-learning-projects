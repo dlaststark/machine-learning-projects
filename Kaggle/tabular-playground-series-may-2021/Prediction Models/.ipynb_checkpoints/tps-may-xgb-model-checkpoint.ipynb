{
 "cells": [
  {
   "cell_type": "markdown",
   "metadata": {
    "id": "uLz9OcH8SeET",
    "papermill": {
     "duration": 0.008729,
     "end_time": "2021-05-11T09:51:49.720930",
     "exception": false,
     "start_time": "2021-05-11T09:51:49.712201",
     "status": "completed"
    },
    "tags": []
   },
   "source": [
    "## Import libraries"
   ]
  },
  {
   "cell_type": "code",
   "execution_count": 1,
   "metadata": {
    "execution": {
     "iopub.execute_input": "2021-05-11T09:51:49.746169Z",
     "iopub.status.busy": "2021-05-11T09:51:49.745537Z",
     "iopub.status.idle": "2021-05-11T09:51:50.628611Z",
     "shell.execute_reply": "2021-05-11T09:51:50.627996Z"
    },
    "executionInfo": {
     "elapsed": 23727,
     "status": "ok",
     "timestamp": 1616326442041,
     "user": {
      "displayName": "TAPAS DAS",
      "photoUrl": "https://lh3.googleusercontent.com/a-/AOh14GiyffdGKiPCR_UwVittzTcbBFms70IkGfU15fatCA=s64",
      "userId": "10798398878324948542"
     },
     "user_tz": -330
    },
    "id": "E9svswc9SUuX",
    "papermill": {
     "duration": 0.900169,
     "end_time": "2021-05-11T09:51:50.628774",
     "exception": false,
     "start_time": "2021-05-11T09:51:49.728605",
     "status": "completed"
    },
    "tags": []
   },
   "outputs": [],
   "source": [
    "import gc\n",
    "import pickle\n",
    "import numpy as np\n",
    "import pandas as pd\n",
    "from xgboost import XGBClassifier\n",
    "from sklearn.metrics import log_loss\n",
    "from sklearn.model_selection import StratifiedKFold"
   ]
  },
  {
   "cell_type": "markdown",
   "metadata": {
    "id": "hg85SpW-S6hl",
    "papermill": {
     "duration": 0.00762,
     "end_time": "2021-05-11T09:51:50.644613",
     "exception": false,
     "start_time": "2021-05-11T09:51:50.636993",
     "status": "completed"
    },
    "tags": []
   },
   "source": [
    "## Prepare data for model training"
   ]
  },
  {
   "cell_type": "code",
   "execution_count": 2,
   "metadata": {
    "execution": {
     "iopub.execute_input": "2021-05-11T09:51:50.663944Z",
     "iopub.status.busy": "2021-05-11T09:51:50.663394Z",
     "iopub.status.idle": "2021-05-11T09:51:58.320401Z",
     "shell.execute_reply": "2021-05-11T09:51:58.320783Z"
    },
    "executionInfo": {
     "elapsed": 10043,
     "status": "ok",
     "timestamp": 1616326444482,
     "user": {
      "displayName": "TAPAS DAS",
      "photoUrl": "https://lh3.googleusercontent.com/a-/AOh14GiyffdGKiPCR_UwVittzTcbBFms70IkGfU15fatCA=s64",
      "userId": "10798398878324948542"
     },
     "user_tz": -330
    },
    "id": "VdhgoIAmSUxK",
    "outputId": "7897cfad-c8d4-46d9-86ea-04de37e11444",
    "papermill": {
     "duration": 7.668782,
     "end_time": "2021-05-11T09:51:58.320947",
     "exception": false,
     "start_time": "2021-05-11T09:51:50.652165",
     "status": "completed"
    },
    "tags": []
   },
   "outputs": [
    {
     "data": {
      "text/plain": [
       "0"
      ]
     },
     "execution_count": 2,
     "metadata": {},
     "output_type": "execute_result"
    }
   ],
   "source": [
    "with open(\"../input/tps-may-data-preprocess/TPS_May_Dataset_w_Quantile.txt\", 'rb') as handle: \n",
    "    data = handle.read()\n",
    "\n",
    "processed_data = pickle.loads(data)\n",
    "train_df = processed_data['train_df']\n",
    "test_df = processed_data['test_df']\n",
    "\n",
    "del processed_data\n",
    "gc.collect()"
   ]
  },
  {
   "cell_type": "code",
   "execution_count": 3,
   "metadata": {
    "execution": {
     "iopub.execute_input": "2021-05-11T09:51:58.575313Z",
     "iopub.status.busy": "2021-05-11T09:51:58.574111Z",
     "iopub.status.idle": "2021-05-11T09:51:59.247407Z",
     "shell.execute_reply": "2021-05-11T09:51:59.247829Z"
    },
    "executionInfo": {
     "elapsed": 2058,
     "status": "ok",
     "timestamp": 1616326525321,
     "user": {
      "displayName": "TAPAS DAS",
      "photoUrl": "https://lh3.googleusercontent.com/a-/AOh14GiyffdGKiPCR_UwVittzTcbBFms70IkGfU15fatCA=s64",
      "userId": "10798398878324948542"
     },
     "user_tz": -330
    },
    "id": "UAfyHbeASU7C",
    "outputId": "14c429a7-7b43-4065-afae-da7d4f6679a9",
    "papermill": {
     "duration": 0.918597,
     "end_time": "2021-05-11T09:51:59.247972",
     "exception": false,
     "start_time": "2021-05-11T09:51:58.329375",
     "status": "completed"
    },
    "tags": []
   },
   "outputs": [
    {
     "name": "stdout",
     "output_type": "stream",
     "text": [
      "Xtrain: (99918, 951) \n",
      "Ytrain: (99918,) \n",
      "Ytrain_oh: (99918, 4) \n",
      "Xtest: (50000, 951)\n"
     ]
    },
    {
     "data": {
      "text/plain": [
       "0"
      ]
     },
     "execution_count": 3,
     "metadata": {},
     "output_type": "execute_result"
    }
   ],
   "source": [
    "Xtrain = train_df.loc[:, train_df.columns != 'target'].values\n",
    "Ytrain = train_df['target'].values\n",
    "Ytrain_oh = pd.get_dummies(train_df['target']).values\n",
    "Xtest = test_df.values\n",
    "\n",
    "print(\"Xtrain: {} \\nYtrain: {} \\nYtrain_oh: {} \\nXtest: {}\".format(Xtrain.shape, Ytrain.shape, \n",
    "                                                                   Ytrain_oh.shape, Xtest.shape))\n",
    "\n",
    "del train_df\n",
    "del test_df\n",
    "gc.collect()"
   ]
  },
  {
   "cell_type": "markdown",
   "metadata": {
    "id": "9wNC5rWEVnjd",
    "papermill": {
     "duration": 0.008506,
     "end_time": "2021-05-11T09:51:59.265158",
     "exception": false,
     "start_time": "2021-05-11T09:51:59.256652",
     "status": "completed"
    },
    "tags": []
   },
   "source": [
    "## Build and validate the model"
   ]
  },
  {
   "cell_type": "code",
   "execution_count": 4,
   "metadata": {
    "execution": {
     "iopub.execute_input": "2021-05-11T09:51:59.294588Z",
     "iopub.status.busy": "2021-05-11T09:51:59.290069Z",
     "iopub.status.idle": "2021-05-11T09:59:43.882311Z",
     "shell.execute_reply": "2021-05-11T09:59:43.883107Z"
    },
    "id": "uWPosEORSVBp",
    "outputId": "d70ac047-a86b-4f36-84cc-960b1b5316be",
    "papermill": {
     "duration": 464.609204,
     "end_time": "2021-05-11T09:59:43.883288",
     "exception": false,
     "start_time": "2021-05-11T09:51:59.274084",
     "status": "completed"
    },
    "tags": []
   },
   "outputs": [
    {
     "name": "stdout",
     "output_type": "stream",
     "text": [
      "[0]\tvalidation_0-mlogloss:1.35435\tvalidation_1-mlogloss:1.35482\n",
      "[50]\tvalidation_0-mlogloss:1.07275\tvalidation_1-mlogloss:1.09797\n",
      "[99]\tvalidation_0-mlogloss:1.04428\tvalidation_1-mlogloss:1.09338\n"
     ]
    },
    {
     "name": "stderr",
     "output_type": "stream",
     "text": [
      "/opt/conda/lib/python3.7/site-packages/xgboost/data.py:114: UserWarning: Use subset (sliced data) of np.ndarray is not recommended because it will generate extra copies and increase memory consumption\n",
      "  \"because it will generate extra copies and increase \" +\n"
     ]
    },
    {
     "name": "stdout",
     "output_type": "stream",
     "text": [
      "Seed-24 | Fold-0 | OOF Score: 1.093378456416812\n",
      "[0]\tvalidation_0-mlogloss:1.35434\tvalidation_1-mlogloss:1.35487\n",
      "[50]\tvalidation_0-mlogloss:1.07254\tvalidation_1-mlogloss:1.09724\n",
      "[99]\tvalidation_0-mlogloss:1.04418\tvalidation_1-mlogloss:1.09234\n"
     ]
    },
    {
     "name": "stderr",
     "output_type": "stream",
     "text": [
      "/opt/conda/lib/python3.7/site-packages/xgboost/data.py:114: UserWarning: Use subset (sliced data) of np.ndarray is not recommended because it will generate extra copies and increase memory consumption\n",
      "  \"because it will generate extra copies and increase \" +\n"
     ]
    },
    {
     "name": "stdout",
     "output_type": "stream",
     "text": [
      "Seed-24 | Fold-1 | OOF Score: 1.09241167474553\n",
      "[0]\tvalidation_0-mlogloss:1.35430\tvalidation_1-mlogloss:1.35493\n",
      "[50]\tvalidation_0-mlogloss:1.07223\tvalidation_1-mlogloss:1.10069\n",
      "[99]\tvalidation_0-mlogloss:1.04365\tvalidation_1-mlogloss:1.09716\n"
     ]
    },
    {
     "name": "stderr",
     "output_type": "stream",
     "text": [
      "/opt/conda/lib/python3.7/site-packages/xgboost/data.py:114: UserWarning: Use subset (sliced data) of np.ndarray is not recommended because it will generate extra copies and increase memory consumption\n",
      "  \"because it will generate extra copies and increase \" +\n"
     ]
    },
    {
     "name": "stdout",
     "output_type": "stream",
     "text": [
      "Seed-24 | Fold-2 | OOF Score: 1.0971003483438058\n",
      "[0]\tvalidation_0-mlogloss:1.35435\tvalidation_1-mlogloss:1.35486\n",
      "[50]\tvalidation_0-mlogloss:1.07268\tvalidation_1-mlogloss:1.09667\n",
      "[99]\tvalidation_0-mlogloss:1.04419\tvalidation_1-mlogloss:1.09083\n"
     ]
    },
    {
     "name": "stderr",
     "output_type": "stream",
     "text": [
      "/opt/conda/lib/python3.7/site-packages/xgboost/data.py:114: UserWarning: Use subset (sliced data) of np.ndarray is not recommended because it will generate extra copies and increase memory consumption\n",
      "  \"because it will generate extra copies and increase \" +\n"
     ]
    },
    {
     "name": "stdout",
     "output_type": "stream",
     "text": [
      "Seed-24 | Fold-3 | OOF Score: 1.0909582990213478\n",
      "[0]\tvalidation_0-mlogloss:1.35428\tvalidation_1-mlogloss:1.35475\n",
      "[50]\tvalidation_0-mlogloss:1.07247\tvalidation_1-mlogloss:1.09849\n",
      "[99]\tvalidation_0-mlogloss:1.04394\tvalidation_1-mlogloss:1.09486\n"
     ]
    },
    {
     "name": "stderr",
     "output_type": "stream",
     "text": [
      "/opt/conda/lib/python3.7/site-packages/xgboost/data.py:114: UserWarning: Use subset (sliced data) of np.ndarray is not recommended because it will generate extra copies and increase memory consumption\n",
      "  \"because it will generate extra copies and increase \" +\n"
     ]
    },
    {
     "name": "stdout",
     "output_type": "stream",
     "text": [
      "Seed-24 | Fold-4 | OOF Score: 1.0948949756161916\n",
      "[0]\tvalidation_0-mlogloss:1.35427\tvalidation_1-mlogloss:1.35482\n",
      "[50]\tvalidation_0-mlogloss:1.07260\tvalidation_1-mlogloss:1.09885\n",
      "[99]\tvalidation_0-mlogloss:1.04397\tvalidation_1-mlogloss:1.09399\n"
     ]
    },
    {
     "name": "stderr",
     "output_type": "stream",
     "text": [
      "/opt/conda/lib/python3.7/site-packages/xgboost/data.py:114: UserWarning: Use subset (sliced data) of np.ndarray is not recommended because it will generate extra copies and increase memory consumption\n",
      "  \"because it will generate extra copies and increase \" +\n"
     ]
    },
    {
     "name": "stdout",
     "output_type": "stream",
     "text": [
      "Seed-24 | Fold-5 | OOF Score: 1.0940125742054778\n",
      "[0]\tvalidation_0-mlogloss:1.35426\tvalidation_1-mlogloss:1.35475\n",
      "[50]\tvalidation_0-mlogloss:1.07250\tvalidation_1-mlogloss:1.09808\n",
      "[99]\tvalidation_0-mlogloss:1.04410\tvalidation_1-mlogloss:1.09244\n"
     ]
    },
    {
     "name": "stderr",
     "output_type": "stream",
     "text": [
      "/opt/conda/lib/python3.7/site-packages/xgboost/data.py:114: UserWarning: Use subset (sliced data) of np.ndarray is not recommended because it will generate extra copies and increase memory consumption\n",
      "  \"because it will generate extra copies and increase \" +\n"
     ]
    },
    {
     "name": "stdout",
     "output_type": "stream",
     "text": [
      "Seed-24 | Fold-6 | OOF Score: 1.0924605977333026\n",
      "[0]\tvalidation_0-mlogloss:1.35419\tvalidation_1-mlogloss:1.35485\n",
      "[50]\tvalidation_0-mlogloss:1.07237\tvalidation_1-mlogloss:1.09975\n",
      "[99]\tvalidation_0-mlogloss:1.04371\tvalidation_1-mlogloss:1.09528\n"
     ]
    },
    {
     "name": "stderr",
     "output_type": "stream",
     "text": [
      "/opt/conda/lib/python3.7/site-packages/xgboost/data.py:114: UserWarning: Use subset (sliced data) of np.ndarray is not recommended because it will generate extra copies and increase memory consumption\n",
      "  \"because it will generate extra copies and increase \" +\n"
     ]
    },
    {
     "name": "stdout",
     "output_type": "stream",
     "text": [
      "Seed-24 | Fold-7 | OOF Score: 1.0952866780545543\n",
      "[0]\tvalidation_0-mlogloss:1.35439\tvalidation_1-mlogloss:1.35481\n",
      "[50]\tvalidation_0-mlogloss:1.07298\tvalidation_1-mlogloss:1.09765\n",
      "[99]\tvalidation_0-mlogloss:1.04452\tvalidation_1-mlogloss:1.09275\n"
     ]
    },
    {
     "name": "stderr",
     "output_type": "stream",
     "text": [
      "/opt/conda/lib/python3.7/site-packages/xgboost/data.py:114: UserWarning: Use subset (sliced data) of np.ndarray is not recommended because it will generate extra copies and increase memory consumption\n",
      "  \"because it will generate extra copies and increase \" +\n"
     ]
    },
    {
     "name": "stdout",
     "output_type": "stream",
     "text": [
      "Seed-24 | Fold-8 | OOF Score: 1.0927854749506365\n",
      "[0]\tvalidation_0-mlogloss:1.35431\tvalidation_1-mlogloss:1.35495\n",
      "[50]\tvalidation_0-mlogloss:1.07208\tvalidation_1-mlogloss:1.09994\n",
      "[99]\tvalidation_0-mlogloss:1.04345\tvalidation_1-mlogloss:1.09588\n"
     ]
    },
    {
     "name": "stderr",
     "output_type": "stream",
     "text": [
      "/opt/conda/lib/python3.7/site-packages/xgboost/data.py:114: UserWarning: Use subset (sliced data) of np.ndarray is not recommended because it will generate extra copies and increase memory consumption\n",
      "  \"because it will generate extra copies and increase \" +\n"
     ]
    },
    {
     "name": "stdout",
     "output_type": "stream",
     "text": [
      "Seed-24 | Fold-9 | OOF Score: 1.0959185325634657\n",
      "\n",
      "Seed: 24 | Aggregate OOF Score: 1.0939207611651125\n",
      "\n",
      "\n",
      "[0]\tvalidation_0-mlogloss:1.35431\tvalidation_1-mlogloss:1.35473\n",
      "[50]\tvalidation_0-mlogloss:1.07260\tvalidation_1-mlogloss:1.09726\n",
      "[99]\tvalidation_0-mlogloss:1.04420\tvalidation_1-mlogloss:1.09165\n"
     ]
    },
    {
     "name": "stderr",
     "output_type": "stream",
     "text": [
      "/opt/conda/lib/python3.7/site-packages/xgboost/data.py:114: UserWarning: Use subset (sliced data) of np.ndarray is not recommended because it will generate extra copies and increase memory consumption\n",
      "  \"because it will generate extra copies and increase \" +\n"
     ]
    },
    {
     "name": "stdout",
     "output_type": "stream",
     "text": [
      "Seed-3 | Fold-0 | OOF Score: 1.0916533213797763\n",
      "[0]\tvalidation_0-mlogloss:1.35421\tvalidation_1-mlogloss:1.35473\n",
      "[50]\tvalidation_0-mlogloss:1.07257\tvalidation_1-mlogloss:1.09824\n",
      "[99]\tvalidation_0-mlogloss:1.04412\tvalidation_1-mlogloss:1.09261\n"
     ]
    },
    {
     "name": "stderr",
     "output_type": "stream",
     "text": [
      "/opt/conda/lib/python3.7/site-packages/xgboost/data.py:114: UserWarning: Use subset (sliced data) of np.ndarray is not recommended because it will generate extra copies and increase memory consumption\n",
      "  \"because it will generate extra copies and increase \" +\n"
     ]
    },
    {
     "name": "stdout",
     "output_type": "stream",
     "text": [
      "Seed-3 | Fold-1 | OOF Score: 1.0926950872287429\n",
      "[0]\tvalidation_0-mlogloss:1.35423\tvalidation_1-mlogloss:1.35476\n",
      "[50]\tvalidation_0-mlogloss:1.07241\tvalidation_1-mlogloss:1.09929\n",
      "[99]\tvalidation_0-mlogloss:1.04406\tvalidation_1-mlogloss:1.09439\n"
     ]
    },
    {
     "name": "stderr",
     "output_type": "stream",
     "text": [
      "/opt/conda/lib/python3.7/site-packages/xgboost/data.py:114: UserWarning: Use subset (sliced data) of np.ndarray is not recommended because it will generate extra copies and increase memory consumption\n",
      "  \"because it will generate extra copies and increase \" +\n"
     ]
    },
    {
     "name": "stdout",
     "output_type": "stream",
     "text": [
      "Seed-3 | Fold-2 | OOF Score: 1.0944107535785084\n",
      "[0]\tvalidation_0-mlogloss:1.35437\tvalidation_1-mlogloss:1.35496\n",
      "[50]\tvalidation_0-mlogloss:1.07228\tvalidation_1-mlogloss:1.09960\n",
      "[99]\tvalidation_0-mlogloss:1.04365\tvalidation_1-mlogloss:1.09527\n"
     ]
    },
    {
     "name": "stderr",
     "output_type": "stream",
     "text": [
      "/opt/conda/lib/python3.7/site-packages/xgboost/data.py:114: UserWarning: Use subset (sliced data) of np.ndarray is not recommended because it will generate extra copies and increase memory consumption\n",
      "  \"because it will generate extra copies and increase \" +\n"
     ]
    },
    {
     "name": "stdout",
     "output_type": "stream",
     "text": [
      "Seed-3 | Fold-3 | OOF Score: 1.0953617519836982\n",
      "[0]\tvalidation_0-mlogloss:1.35428\tvalidation_1-mlogloss:1.35467\n",
      "[50]\tvalidation_0-mlogloss:1.07241\tvalidation_1-mlogloss:1.09804\n",
      "[99]\tvalidation_0-mlogloss:1.04384\tvalidation_1-mlogloss:1.09409\n"
     ]
    },
    {
     "name": "stderr",
     "output_type": "stream",
     "text": [
      "/opt/conda/lib/python3.7/site-packages/xgboost/data.py:114: UserWarning: Use subset (sliced data) of np.ndarray is not recommended because it will generate extra copies and increase memory consumption\n",
      "  \"because it will generate extra copies and increase \" +\n"
     ]
    },
    {
     "name": "stdout",
     "output_type": "stream",
     "text": [
      "Seed-3 | Fold-4 | OOF Score: 1.0941121386672803\n",
      "[0]\tvalidation_0-mlogloss:1.35426\tvalidation_1-mlogloss:1.35493\n",
      "[50]\tvalidation_0-mlogloss:1.07223\tvalidation_1-mlogloss:1.10009\n",
      "[99]\tvalidation_0-mlogloss:1.04377\tvalidation_1-mlogloss:1.09645\n"
     ]
    },
    {
     "name": "stderr",
     "output_type": "stream",
     "text": [
      "/opt/conda/lib/python3.7/site-packages/xgboost/data.py:114: UserWarning: Use subset (sliced data) of np.ndarray is not recommended because it will generate extra copies and increase memory consumption\n",
      "  \"because it will generate extra copies and increase \" +\n"
     ]
    },
    {
     "name": "stdout",
     "output_type": "stream",
     "text": [
      "Seed-3 | Fold-5 | OOF Score: 1.0964953173727416\n",
      "[0]\tvalidation_0-mlogloss:1.35424\tvalidation_1-mlogloss:1.35464\n",
      "[50]\tvalidation_0-mlogloss:1.07247\tvalidation_1-mlogloss:1.09820\n",
      "[99]\tvalidation_0-mlogloss:1.04388\tvalidation_1-mlogloss:1.09410\n"
     ]
    },
    {
     "name": "stderr",
     "output_type": "stream",
     "text": [
      "/opt/conda/lib/python3.7/site-packages/xgboost/data.py:114: UserWarning: Use subset (sliced data) of np.ndarray is not recommended because it will generate extra copies and increase memory consumption\n",
      "  \"because it will generate extra copies and increase \" +\n"
     ]
    },
    {
     "name": "stdout",
     "output_type": "stream",
     "text": [
      "Seed-3 | Fold-6 | OOF Score: 1.0940692737546442\n",
      "[0]\tvalidation_0-mlogloss:1.35430\tvalidation_1-mlogloss:1.35485\n",
      "[50]\tvalidation_0-mlogloss:1.07262\tvalidation_1-mlogloss:1.09857\n",
      "[99]\tvalidation_0-mlogloss:1.04428\tvalidation_1-mlogloss:1.09361\n"
     ]
    },
    {
     "name": "stderr",
     "output_type": "stream",
     "text": [
      "/opt/conda/lib/python3.7/site-packages/xgboost/data.py:114: UserWarning: Use subset (sliced data) of np.ndarray is not recommended because it will generate extra copies and increase memory consumption\n",
      "  \"because it will generate extra copies and increase \" +\n"
     ]
    },
    {
     "name": "stdout",
     "output_type": "stream",
     "text": [
      "Seed-3 | Fold-7 | OOF Score: 1.0937307437194335\n",
      "[0]\tvalidation_0-mlogloss:1.35417\tvalidation_1-mlogloss:1.35498\n",
      "[50]\tvalidation_0-mlogloss:1.07266\tvalidation_1-mlogloss:1.09881\n",
      "[99]\tvalidation_0-mlogloss:1.04433\tvalidation_1-mlogloss:1.09415\n"
     ]
    },
    {
     "name": "stderr",
     "output_type": "stream",
     "text": [
      "/opt/conda/lib/python3.7/site-packages/xgboost/data.py:114: UserWarning: Use subset (sliced data) of np.ndarray is not recommended because it will generate extra copies and increase memory consumption\n",
      "  \"because it will generate extra copies and increase \" +\n"
     ]
    },
    {
     "name": "stdout",
     "output_type": "stream",
     "text": [
      "Seed-3 | Fold-8 | OOF Score: 1.0941199998325348\n",
      "[0]\tvalidation_0-mlogloss:1.35431\tvalidation_1-mlogloss:1.35493\n",
      "[50]\tvalidation_0-mlogloss:1.07205\tvalidation_1-mlogloss:1.09992\n",
      "[99]\tvalidation_0-mlogloss:1.04355\tvalidation_1-mlogloss:1.09550\n"
     ]
    },
    {
     "name": "stderr",
     "output_type": "stream",
     "text": [
      "/opt/conda/lib/python3.7/site-packages/xgboost/data.py:114: UserWarning: Use subset (sliced data) of np.ndarray is not recommended because it will generate extra copies and increase memory consumption\n",
      "  \"because it will generate extra copies and increase \" +\n"
     ]
    },
    {
     "name": "stdout",
     "output_type": "stream",
     "text": [
      "Seed-3 | Fold-9 | OOF Score: 1.09545347524225\n",
      "\n",
      "Seed: 3 | Aggregate OOF Score: 1.094210186275961\n",
      "\n",
      "\n",
      "[0]\tvalidation_0-mlogloss:1.35427\tvalidation_1-mlogloss:1.35501\n",
      "[50]\tvalidation_0-mlogloss:1.07239\tvalidation_1-mlogloss:1.09828\n",
      "[99]\tvalidation_0-mlogloss:1.04385\tvalidation_1-mlogloss:1.09322\n"
     ]
    },
    {
     "name": "stderr",
     "output_type": "stream",
     "text": [
      "/opt/conda/lib/python3.7/site-packages/xgboost/data.py:114: UserWarning: Use subset (sliced data) of np.ndarray is not recommended because it will generate extra copies and increase memory consumption\n",
      "  \"because it will generate extra copies and increase \" +\n"
     ]
    },
    {
     "name": "stdout",
     "output_type": "stream",
     "text": [
      "Seed-56 | Fold-0 | OOF Score: 1.0932599073730773\n",
      "[0]\tvalidation_0-mlogloss:1.35427\tvalidation_1-mlogloss:1.35489\n",
      "[50]\tvalidation_0-mlogloss:1.07268\tvalidation_1-mlogloss:1.09980\n",
      "[99]\tvalidation_0-mlogloss:1.04449\tvalidation_1-mlogloss:1.09477\n"
     ]
    },
    {
     "name": "stderr",
     "output_type": "stream",
     "text": [
      "/opt/conda/lib/python3.7/site-packages/xgboost/data.py:114: UserWarning: Use subset (sliced data) of np.ndarray is not recommended because it will generate extra copies and increase memory consumption\n",
      "  \"because it will generate extra copies and increase \" +\n"
     ]
    },
    {
     "name": "stdout",
     "output_type": "stream",
     "text": [
      "Seed-56 | Fold-1 | OOF Score: 1.0947708842203654\n",
      "[0]\tvalidation_0-mlogloss:1.35428\tvalidation_1-mlogloss:1.35483\n",
      "[50]\tvalidation_0-mlogloss:1.07236\tvalidation_1-mlogloss:1.09852\n",
      "[99]\tvalidation_0-mlogloss:1.04409\tvalidation_1-mlogloss:1.09376\n"
     ]
    },
    {
     "name": "stderr",
     "output_type": "stream",
     "text": [
      "/opt/conda/lib/python3.7/site-packages/xgboost/data.py:114: UserWarning: Use subset (sliced data) of np.ndarray is not recommended because it will generate extra copies and increase memory consumption\n",
      "  \"because it will generate extra copies and increase \" +\n"
     ]
    },
    {
     "name": "stdout",
     "output_type": "stream",
     "text": [
      "Seed-56 | Fold-2 | OOF Score: 1.0937546167128964\n",
      "[0]\tvalidation_0-mlogloss:1.35421\tvalidation_1-mlogloss:1.35462\n",
      "[50]\tvalidation_0-mlogloss:1.07252\tvalidation_1-mlogloss:1.09938\n",
      "[99]\tvalidation_0-mlogloss:1.04390\tvalidation_1-mlogloss:1.09533\n"
     ]
    },
    {
     "name": "stderr",
     "output_type": "stream",
     "text": [
      "/opt/conda/lib/python3.7/site-packages/xgboost/data.py:114: UserWarning: Use subset (sliced data) of np.ndarray is not recommended because it will generate extra copies and increase memory consumption\n",
      "  \"because it will generate extra copies and increase \" +\n"
     ]
    },
    {
     "name": "stdout",
     "output_type": "stream",
     "text": [
      "Seed-56 | Fold-3 | OOF Score: 1.0954785447036794\n",
      "[0]\tvalidation_0-mlogloss:1.35427\tvalidation_1-mlogloss:1.35479\n",
      "[50]\tvalidation_0-mlogloss:1.07303\tvalidation_1-mlogloss:1.09528\n",
      "[99]\tvalidation_0-mlogloss:1.04474\tvalidation_1-mlogloss:1.09015\n"
     ]
    },
    {
     "name": "stderr",
     "output_type": "stream",
     "text": [
      "/opt/conda/lib/python3.7/site-packages/xgboost/data.py:114: UserWarning: Use subset (sliced data) of np.ndarray is not recommended because it will generate extra copies and increase memory consumption\n",
      "  \"because it will generate extra copies and increase \" +\n"
     ]
    },
    {
     "name": "stdout",
     "output_type": "stream",
     "text": [
      "Seed-56 | Fold-4 | OOF Score: 1.0902587033679978\n",
      "[0]\tvalidation_0-mlogloss:1.35428\tvalidation_1-mlogloss:1.35472\n",
      "[50]\tvalidation_0-mlogloss:1.07267\tvalidation_1-mlogloss:1.09619\n",
      "[99]\tvalidation_0-mlogloss:1.04427\tvalidation_1-mlogloss:1.09101\n"
     ]
    },
    {
     "name": "stderr",
     "output_type": "stream",
     "text": [
      "/opt/conda/lib/python3.7/site-packages/xgboost/data.py:114: UserWarning: Use subset (sliced data) of np.ndarray is not recommended because it will generate extra copies and increase memory consumption\n",
      "  \"because it will generate extra copies and increase \" +\n"
     ]
    },
    {
     "name": "stdout",
     "output_type": "stream",
     "text": [
      "Seed-56 | Fold-5 | OOF Score: 1.0910669801811919\n",
      "[0]\tvalidation_0-mlogloss:1.35424\tvalidation_1-mlogloss:1.35485\n",
      "[50]\tvalidation_0-mlogloss:1.07224\tvalidation_1-mlogloss:1.09928\n",
      "[99]\tvalidation_0-mlogloss:1.04361\tvalidation_1-mlogloss:1.09457\n"
     ]
    },
    {
     "name": "stderr",
     "output_type": "stream",
     "text": [
      "/opt/conda/lib/python3.7/site-packages/xgboost/data.py:114: UserWarning: Use subset (sliced data) of np.ndarray is not recommended because it will generate extra copies and increase memory consumption\n",
      "  \"because it will generate extra copies and increase \" +\n"
     ]
    },
    {
     "name": "stdout",
     "output_type": "stream",
     "text": [
      "Seed-56 | Fold-6 | OOF Score: 1.0946208783719924\n",
      "[0]\tvalidation_0-mlogloss:1.35419\tvalidation_1-mlogloss:1.35484\n",
      "[50]\tvalidation_0-mlogloss:1.07245\tvalidation_1-mlogloss:1.09981\n",
      "[99]\tvalidation_0-mlogloss:1.04402\tvalidation_1-mlogloss:1.09432\n"
     ]
    },
    {
     "name": "stderr",
     "output_type": "stream",
     "text": [
      "/opt/conda/lib/python3.7/site-packages/xgboost/data.py:114: UserWarning: Use subset (sliced data) of np.ndarray is not recommended because it will generate extra copies and increase memory consumption\n",
      "  \"because it will generate extra copies and increase \" +\n"
     ]
    },
    {
     "name": "stdout",
     "output_type": "stream",
     "text": [
      "Seed-56 | Fold-7 | OOF Score: 1.0943389854448333\n",
      "[0]\tvalidation_0-mlogloss:1.35420\tvalidation_1-mlogloss:1.35459\n",
      "[50]\tvalidation_0-mlogloss:1.07245\tvalidation_1-mlogloss:1.09775\n",
      "[99]\tvalidation_0-mlogloss:1.04388\tvalidation_1-mlogloss:1.09333\n"
     ]
    },
    {
     "name": "stderr",
     "output_type": "stream",
     "text": [
      "/opt/conda/lib/python3.7/site-packages/xgboost/data.py:114: UserWarning: Use subset (sliced data) of np.ndarray is not recommended because it will generate extra copies and increase memory consumption\n",
      "  \"because it will generate extra copies and increase \" +\n"
     ]
    },
    {
     "name": "stdout",
     "output_type": "stream",
     "text": [
      "Seed-56 | Fold-8 | OOF Score: 1.0933908122731406\n",
      "[0]\tvalidation_0-mlogloss:1.35430\tvalidation_1-mlogloss:1.35489\n",
      "[50]\tvalidation_0-mlogloss:1.07227\tvalidation_1-mlogloss:1.10033\n",
      "[99]\tvalidation_0-mlogloss:1.04411\tvalidation_1-mlogloss:1.09582\n"
     ]
    },
    {
     "name": "stderr",
     "output_type": "stream",
     "text": [
      "/opt/conda/lib/python3.7/site-packages/xgboost/data.py:114: UserWarning: Use subset (sliced data) of np.ndarray is not recommended because it will generate extra copies and increase memory consumption\n",
      "  \"because it will generate extra copies and increase \" +\n"
     ]
    },
    {
     "name": "stdout",
     "output_type": "stream",
     "text": [
      "Seed-56 | Fold-9 | OOF Score: 1.095913453893957\n",
      "\n",
      "Seed: 56 | Aggregate OOF Score: 1.0936853766543133\n",
      "\n",
      "\n",
      "Aggregate OOF Score: 1.0939387746984621\n"
     ]
    }
   ],
   "source": [
    "FOLD = 10\n",
    "NUM_SEED = 3\n",
    "\n",
    "# Prediction Clipping Thresholds\n",
    "p_min = 0.025\n",
    "p_max = 1 - p_min\n",
    "\n",
    "np.random.seed(3)\n",
    "seeds = np.random.randint(0, 100, size=NUM_SEED)\n",
    "\n",
    "oof_score = 0\n",
    "y_pred_meta_xgb = np.zeros((Ytrain.shape[0], 4))\n",
    "y_pred_final_xgb = np.zeros((Xtest.shape[0], 4))\n",
    "counter = 0\n",
    "\n",
    "\n",
    "for sidx, seed in enumerate(seeds):\n",
    "    seed_score = 0\n",
    "    \n",
    "    kfold = StratifiedKFold(n_splits=FOLD, shuffle=True, random_state=seed)\n",
    "\n",
    "    for idx, (train, val) in enumerate(kfold.split(Xtrain, Ytrain)):\n",
    "        counter += 1\n",
    "\n",
    "        train_x, train_y, train_y_oh = Xtrain[train], Ytrain[train], Ytrain_oh[train]\n",
    "        val_x, val_y, val_y_oh = Xtrain[val], Ytrain[val], Ytrain_oh[val]\n",
    "        \n",
    "        model = XGBClassifier(\n",
    "            objective='multi:softmax',\n",
    "            eval_metric='mlogloss',\n",
    "            booster='gbtree',\n",
    "            sample_type='weighted',\n",
    "            tree_method='gpu_hist',\n",
    "            grow_policy='lossguide',\n",
    "            use_label_encoder=False,\n",
    "            num_round=5000,\n",
    "            num_class=4,\n",
    "            max_depth=10, \n",
    "            max_leaves=53,\n",
    "            learning_rate=0.0782,\n",
    "            subsample=0.76,\n",
    "            colsample_bytree=0.5216,\n",
    "            min_child_weight=10,\n",
    "            reg_lambda=0.1515,\n",
    "            verbosity=0\n",
    "        )\n",
    "\n",
    "        model.fit(train_x, train_y, eval_set=[(train_x, train_y), (val_x, val_y)], \n",
    "                  early_stopping_rounds=200, verbose=50)\n",
    "\n",
    "        y_pred = model.predict_proba(val_x, iteration_range=(0, model.best_iteration))\n",
    "        y_pred = np.clip(y_pred, p_min, p_max)\n",
    "        y_pred_meta_xgb[val] += y_pred\n",
    "        y_pred_final_xgb += model.predict_proba(Xtest, iteration_range=(0, model.best_iteration))\n",
    "        \n",
    "        score = log_loss(val_y_oh, y_pred)\n",
    "        oof_score += score\n",
    "        seed_score += score\n",
    "        print(\"Seed-{} | Fold-{} | OOF Score: {}\".format(seed, idx, score))\n",
    "    \n",
    "    print(\"\\nSeed: {} | Aggregate OOF Score: {}\\n\\n\".format(seed, (seed_score / FOLD)))\n",
    "\n",
    "\n",
    "y_pred_meta_xgb = y_pred_meta_xgb / float(NUM_SEED)\n",
    "y_pred_final_xgb = y_pred_final_xgb / float(counter)\n",
    "oof_score /= float(counter)\n",
    "print(\"Aggregate OOF Score: {}\".format(oof_score))"
   ]
  },
  {
   "cell_type": "code",
   "execution_count": 5,
   "metadata": {
    "execution": {
     "iopub.execute_input": "2021-05-11T09:59:43.983514Z",
     "iopub.status.busy": "2021-05-11T09:59:43.982674Z",
     "iopub.status.idle": "2021-05-11T09:59:44.443294Z",
     "shell.execute_reply": "2021-05-11T09:59:44.442772Z"
    },
    "id": "uLzmS7LzXvXy",
    "papermill": {
     "duration": 0.511885,
     "end_time": "2021-05-11T09:59:44.443424",
     "exception": false,
     "start_time": "2021-05-11T09:59:43.931539",
     "status": "completed"
    },
    "tags": []
   },
   "outputs": [],
   "source": [
    "np.savez_compressed('./XGB_Meta_Features.npz',\n",
    "                    y_pred_meta_xgb=y_pred_meta_xgb, \n",
    "                    oof_score=oof_score,\n",
    "                    y_pred_final_xgb=y_pred_final_xgb)"
   ]
  },
  {
   "cell_type": "markdown",
   "metadata": {
    "id": "nZvoU4TpWxmY",
    "papermill": {
     "duration": 0.04641,
     "end_time": "2021-05-11T09:59:44.536098",
     "exception": false,
     "start_time": "2021-05-11T09:59:44.489688",
     "status": "completed"
    },
    "tags": []
   },
   "source": [
    "## Create submission file"
   ]
  },
  {
   "cell_type": "code",
   "execution_count": 6,
   "metadata": {
    "execution": {
     "iopub.execute_input": "2021-05-11T09:59:44.632886Z",
     "iopub.status.busy": "2021-05-11T09:59:44.632240Z",
     "iopub.status.idle": "2021-05-11T09:59:44.818796Z",
     "shell.execute_reply": "2021-05-11T09:59:44.819282Z"
    },
    "executionInfo": {
     "elapsed": 3141,
     "status": "ok",
     "timestamp": 1616223489651,
     "user": {
      "displayName": "TAPAS DAS",
      "photoUrl": "https://lh3.googleusercontent.com/a-/AOh14GiyffdGKiPCR_UwVittzTcbBFms70IkGfU15fatCA=s64",
      "userId": "10798398878324948542"
     },
     "user_tz": -330
    },
    "id": "zGEGOAJHVoHV",
    "outputId": "11f9ca4c-9cca-46f6-b9a6-907ad0a09927",
    "papermill": {
     "duration": 0.237559,
     "end_time": "2021-05-11T09:59:44.819454",
     "exception": false,
     "start_time": "2021-05-11T09:59:44.581895",
     "status": "completed"
    },
    "tags": []
   },
   "outputs": [
    {
     "data": {
      "text/html": [
       "<div>\n",
       "<style scoped>\n",
       "    .dataframe tbody tr th:only-of-type {\n",
       "        vertical-align: middle;\n",
       "    }\n",
       "\n",
       "    .dataframe tbody tr th {\n",
       "        vertical-align: top;\n",
       "    }\n",
       "\n",
       "    .dataframe thead th {\n",
       "        text-align: right;\n",
       "    }\n",
       "</style>\n",
       "<table border=\"1\" class=\"dataframe\">\n",
       "  <thead>\n",
       "    <tr style=\"text-align: right;\">\n",
       "      <th></th>\n",
       "      <th>id</th>\n",
       "      <th>Class_1</th>\n",
       "      <th>Class_2</th>\n",
       "      <th>Class_3</th>\n",
       "      <th>Class_4</th>\n",
       "    </tr>\n",
       "  </thead>\n",
       "  <tbody>\n",
       "    <tr>\n",
       "      <th>0</th>\n",
       "      <td>100000</td>\n",
       "      <td>0.092440</td>\n",
       "      <td>0.594898</td>\n",
       "      <td>0.196043</td>\n",
       "      <td>0.116619</td>\n",
       "    </tr>\n",
       "    <tr>\n",
       "      <th>1</th>\n",
       "      <td>100001</td>\n",
       "      <td>0.075105</td>\n",
       "      <td>0.662869</td>\n",
       "      <td>0.174878</td>\n",
       "      <td>0.087149</td>\n",
       "    </tr>\n",
       "    <tr>\n",
       "      <th>2</th>\n",
       "      <td>100002</td>\n",
       "      <td>0.086936</td>\n",
       "      <td>0.629473</td>\n",
       "      <td>0.181745</td>\n",
       "      <td>0.101846</td>\n",
       "    </tr>\n",
       "    <tr>\n",
       "      <th>3</th>\n",
       "      <td>100003</td>\n",
       "      <td>0.080011</td>\n",
       "      <td>0.541024</td>\n",
       "      <td>0.259991</td>\n",
       "      <td>0.118974</td>\n",
       "    </tr>\n",
       "    <tr>\n",
       "      <th>4</th>\n",
       "      <td>100004</td>\n",
       "      <td>0.074768</td>\n",
       "      <td>0.612501</td>\n",
       "      <td>0.205877</td>\n",
       "      <td>0.106854</td>\n",
       "    </tr>\n",
       "  </tbody>\n",
       "</table>\n",
       "</div>"
      ],
      "text/plain": [
       "       id   Class_1   Class_2   Class_3   Class_4\n",
       "0  100000  0.092440  0.594898  0.196043  0.116619\n",
       "1  100001  0.075105  0.662869  0.174878  0.087149\n",
       "2  100002  0.086936  0.629473  0.181745  0.101846\n",
       "3  100003  0.080011  0.541024  0.259991  0.118974\n",
       "4  100004  0.074768  0.612501  0.205877  0.106854"
      ]
     },
     "execution_count": 6,
     "metadata": {},
     "output_type": "execute_result"
    }
   ],
   "source": [
    "y_pred_final_xgb = np.clip(y_pred_final_xgb, p_min, p_max)\n",
    "\n",
    "test_df = pd.read_csv(\"../input/tabular-playground-series-may-2021/test.csv\")\n",
    "submit_df = pd.DataFrame()\n",
    "submit_df['id'] = test_df['id']\n",
    "submit_df['Class_1'] = y_pred_final_xgb[:,0]\n",
    "submit_df['Class_2'] = y_pred_final_xgb[:,1]\n",
    "submit_df['Class_3'] = y_pred_final_xgb[:,2]\n",
    "submit_df['Class_4'] = y_pred_final_xgb[:,3]\n",
    "submit_df.head()"
   ]
  },
  {
   "cell_type": "code",
   "execution_count": 7,
   "metadata": {
    "execution": {
     "iopub.execute_input": "2021-05-11T09:59:44.919982Z",
     "iopub.status.busy": "2021-05-11T09:59:44.919415Z",
     "iopub.status.idle": "2021-05-11T09:59:45.516364Z",
     "shell.execute_reply": "2021-05-11T09:59:45.517396Z"
    },
    "id": "KDIsotrKVoJN",
    "papermill": {
     "duration": 0.647903,
     "end_time": "2021-05-11T09:59:45.517634",
     "exception": false,
     "start_time": "2021-05-11T09:59:44.869731",
     "status": "completed"
    },
    "tags": []
   },
   "outputs": [],
   "source": [
    "submit_df.to_csv(\"./XGB_submission.csv\", index=False)"
   ]
  },
  {
   "cell_type": "code",
   "execution_count": null,
   "metadata": {
    "id": "W2c88MvxXm65",
    "papermill": {
     "duration": 0.080565,
     "end_time": "2021-05-11T09:59:45.683043",
     "exception": false,
     "start_time": "2021-05-11T09:59:45.602478",
     "status": "completed"
    },
    "tags": []
   },
   "outputs": [],
   "source": []
  }
 ],
 "metadata": {
  "kernelspec": {
   "display_name": "Python 3",
   "language": "python",
   "name": "python3"
  },
  "language_info": {
   "codemirror_mode": {
    "name": "ipython",
    "version": 3
   },
   "file_extension": ".py",
   "mimetype": "text/x-python",
   "name": "python",
   "nbconvert_exporter": "python",
   "pygments_lexer": "ipython3",
   "version": "3.8.5"
  },
  "papermill": {
   "default_parameters": {},
   "duration": 484.749897,
   "end_time": "2021-05-11T09:59:47.954838",
   "environment_variables": {},
   "exception": null,
   "input_path": "__notebook__.ipynb",
   "output_path": "__notebook__.ipynb",
   "parameters": {},
   "start_time": "2021-05-11T09:51:43.204941",
   "version": "2.3.3"
  }
 },
 "nbformat": 4,
 "nbformat_minor": 5
}
