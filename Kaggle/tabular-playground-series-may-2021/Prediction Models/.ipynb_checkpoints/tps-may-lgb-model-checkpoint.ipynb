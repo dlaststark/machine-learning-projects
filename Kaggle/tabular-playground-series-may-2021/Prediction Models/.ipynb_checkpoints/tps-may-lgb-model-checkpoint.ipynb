{
 "cells": [
  {
   "cell_type": "markdown",
   "metadata": {
    "id": "uLz9OcH8SeET",
    "papermill": {
     "duration": 0.010826,
     "end_time": "2021-05-12T03:00:05.816962",
     "exception": false,
     "start_time": "2021-05-12T03:00:05.806136",
     "status": "completed"
    },
    "tags": []
   },
   "source": [
    "## Import libraries"
   ]
  },
  {
   "cell_type": "code",
   "execution_count": 1,
   "metadata": {
    "execution": {
     "iopub.execute_input": "2021-05-12T03:00:05.841129Z",
     "iopub.status.busy": "2021-05-12T03:00:05.840007Z",
     "iopub.status.idle": "2021-05-12T03:00:07.921821Z",
     "shell.execute_reply": "2021-05-12T03:00:07.922303Z"
    },
    "executionInfo": {
     "elapsed": 18546,
     "status": "ok",
     "timestamp": 1616326755679,
     "user": {
      "displayName": "TAPAS DAS",
      "photoUrl": "https://lh3.googleusercontent.com/a-/AOh14GiyffdGKiPCR_UwVittzTcbBFms70IkGfU15fatCA=s64",
      "userId": "10798398878324948542"
     },
     "user_tz": -330
    },
    "id": "E9svswc9SUuX",
    "papermill": {
     "duration": 2.095357,
     "end_time": "2021-05-12T03:00:07.922591",
     "exception": false,
     "start_time": "2021-05-12T03:00:05.827234",
     "status": "completed"
    },
    "tags": []
   },
   "outputs": [
    {
     "data": {
      "text/html": [
       "<style type='text/css'>\n",
       ".datatable table.frame { margin-bottom: 0; }\n",
       ".datatable table.frame thead { border-bottom: none; }\n",
       ".datatable table.frame tr.coltypes td {  color: #FFFFFF;  line-height: 6px;  padding: 0 0.5em;}\n",
       ".datatable .bool    { background: #DDDD99; }\n",
       ".datatable .object  { background: #565656; }\n",
       ".datatable .int     { background: #5D9E5D; }\n",
       ".datatable .float   { background: #4040CC; }\n",
       ".datatable .str     { background: #CC4040; }\n",
       ".datatable .row_index {  background: var(--jp-border-color3);  border-right: 1px solid var(--jp-border-color0);  color: var(--jp-ui-font-color3);  font-size: 9px;}\n",
       ".datatable .frame tr.coltypes .row_index {  background: var(--jp-border-color0);}\n",
       ".datatable th:nth-child(2) { padding-left: 12px; }\n",
       ".datatable .hellipsis {  color: var(--jp-cell-editor-border-color);}\n",
       ".datatable .vellipsis {  background: var(--jp-layout-color0);  color: var(--jp-cell-editor-border-color);}\n",
       ".datatable .na {  color: var(--jp-cell-editor-border-color);  font-size: 80%;}\n",
       ".datatable .footer { font-size: 9px; }\n",
       ".datatable .frame_dimensions {  background: var(--jp-border-color3);  border-top: 1px solid var(--jp-border-color0);  color: var(--jp-ui-font-color3);  display: inline-block;  opacity: 0.6;  padding: 1px 10px 1px 5px;}\n",
       "</style>\n"
      ],
      "text/plain": [
       "<IPython.core.display.HTML object>"
      ]
     },
     "metadata": {},
     "output_type": "display_data"
    }
   ],
   "source": [
    "import gc\n",
    "import pickle\n",
    "import numpy as np\n",
    "import pandas as pd\n",
    "import lightgbm as lgb\n",
    "from sklearn.metrics import log_loss\n",
    "from sklearn.model_selection import StratifiedKFold"
   ]
  },
  {
   "cell_type": "markdown",
   "metadata": {
    "id": "hg85SpW-S6hl",
    "papermill": {
     "duration": 0.010154,
     "end_time": "2021-05-12T03:00:07.943834",
     "exception": false,
     "start_time": "2021-05-12T03:00:07.933680",
     "status": "completed"
    },
    "tags": []
   },
   "source": [
    "## Prepare data for model training"
   ]
  },
  {
   "cell_type": "code",
   "execution_count": 2,
   "metadata": {
    "execution": {
     "iopub.execute_input": "2021-05-12T03:00:07.967983Z",
     "iopub.status.busy": "2021-05-12T03:00:07.967315Z",
     "iopub.status.idle": "2021-05-12T03:00:21.659062Z",
     "shell.execute_reply": "2021-05-12T03:00:21.659536Z"
    },
    "executionInfo": {
     "elapsed": 15266,
     "status": "ok",
     "timestamp": 1616326759527,
     "user": {
      "displayName": "TAPAS DAS",
      "photoUrl": "https://lh3.googleusercontent.com/a-/AOh14GiyffdGKiPCR_UwVittzTcbBFms70IkGfU15fatCA=s64",
      "userId": "10798398878324948542"
     },
     "user_tz": -330
    },
    "id": "VdhgoIAmSUxK",
    "outputId": "593389e9-9839-415d-bc72-10af58db79f5",
    "papermill": {
     "duration": 13.705468,
     "end_time": "2021-05-12T03:00:21.659720",
     "exception": false,
     "start_time": "2021-05-12T03:00:07.954252",
     "status": "completed"
    },
    "tags": []
   },
   "outputs": [
    {
     "data": {
      "text/plain": [
       "0"
      ]
     },
     "execution_count": 2,
     "metadata": {},
     "output_type": "execute_result"
    }
   ],
   "source": [
    "with open(\"../input/tps-may-data-preprocess/TPS_May_Dataset_w_Quantile.txt\", 'rb') as handle: \n",
    "    data = handle.read()\n",
    "\n",
    "processed_data = pickle.loads(data)\n",
    "train_df = processed_data['train_df']\n",
    "test_df = processed_data['test_df']\n",
    "\n",
    "del processed_data\n",
    "gc.collect()"
   ]
  },
  {
   "cell_type": "code",
   "execution_count": 3,
   "metadata": {
    "execution": {
     "iopub.execute_input": "2021-05-12T03:00:21.684708Z",
     "iopub.status.busy": "2021-05-12T03:00:21.684043Z",
     "iopub.status.idle": "2021-05-12T03:00:22.801217Z",
     "shell.execute_reply": "2021-05-12T03:00:22.801701Z"
    },
    "papermill": {
     "duration": 1.131185,
     "end_time": "2021-05-12T03:00:22.801871",
     "exception": false,
     "start_time": "2021-05-12T03:00:21.670686",
     "status": "completed"
    },
    "tags": []
   },
   "outputs": [
    {
     "name": "stdout",
     "output_type": "stream",
     "text": [
      "Xtrain: (99918, 951) \n",
      "Ytrain: (99918,) \n",
      "Ytrain_oh: (99918, 4) \n",
      "Xtest: (50000, 951)\n"
     ]
    },
    {
     "data": {
      "text/plain": [
       "0"
      ]
     },
     "execution_count": 3,
     "metadata": {},
     "output_type": "execute_result"
    }
   ],
   "source": [
    "Xtrain = train_df.loc[:, train_df.columns != 'target'].values\n",
    "Ytrain = train_df['target'].values\n",
    "Ytrain_oh = pd.get_dummies(train_df['target']).values\n",
    "Xtest = test_df.values\n",
    "\n",
    "print(\"Xtrain: {} \\nYtrain: {} \\nYtrain_oh: {} \\nXtest: {}\".format(Xtrain.shape, Ytrain.shape, \n",
    "                                                                   Ytrain_oh.shape, Xtest.shape))\n",
    "\n",
    "del train_df\n",
    "del test_df\n",
    "gc.collect()"
   ]
  },
  {
   "cell_type": "markdown",
   "metadata": {
    "id": "9wNC5rWEVnjd",
    "papermill": {
     "duration": 0.011512,
     "end_time": "2021-05-12T03:00:22.824957",
     "exception": false,
     "start_time": "2021-05-12T03:00:22.813445",
     "status": "completed"
    },
    "tags": []
   },
   "source": [
    "## Build and validate the model"
   ]
  },
  {
   "cell_type": "code",
   "execution_count": 4,
   "metadata": {
    "execution": {
     "iopub.execute_input": "2021-05-12T03:00:22.855772Z",
     "iopub.status.busy": "2021-05-12T03:00:22.855057Z",
     "iopub.status.idle": "2021-05-12T03:00:22.858120Z",
     "shell.execute_reply": "2021-05-12T03:00:22.857567Z"
    },
    "executionInfo": {
     "elapsed": 1340,
     "status": "ok",
     "timestamp": 1616326770908,
     "user": {
      "displayName": "TAPAS DAS",
      "photoUrl": "https://lh3.googleusercontent.com/a-/AOh14GiyffdGKiPCR_UwVittzTcbBFms70IkGfU15fatCA=s64",
      "userId": "10798398878324948542"
     },
     "user_tz": -330
    },
    "id": "IhtH9c5va7WY",
    "papermill": {
     "duration": 0.021554,
     "end_time": "2021-05-12T03:00:22.858250",
     "exception": false,
     "start_time": "2021-05-12T03:00:22.836696",
     "status": "completed"
    },
    "tags": []
   },
   "outputs": [],
   "source": [
    "params = {}\n",
    "params[\"objective\"] = 'multiclass'\n",
    "params['metric'] = 'multi_logloss'\n",
    "params['boosting'] = 'gbdt'\n",
    "#params[\"device_type\"] = 'gpu'\n",
    "params['num_class'] = 4\n",
    "params['is_unbalance'] = True\n",
    "params[\"learning_rate\"] = 0.02\n",
    "params[\"lambda_l2\"] = 0.0256\n",
    "params[\"num_leaves\"] = 52\n",
    "params[\"max_depth\"] = 10\n",
    "params[\"feature_fraction\"] = 0.503\n",
    "params[\"bagging_fraction\"] = 0.741\n",
    "params[\"bagging_freq\"] = 12\n",
    "params[\"bagging_seed\"] = 10\n",
    "params[\"min_data_in_leaf\"] = 10\n",
    "params[\"verbosity\"] = -1\n",
    "num_rounds = 5000"
   ]
  },
  {
   "cell_type": "code",
   "execution_count": 5,
   "metadata": {
    "execution": {
     "iopub.execute_input": "2021-05-12T03:00:22.895141Z",
     "iopub.status.busy": "2021-05-12T03:00:22.894472Z",
     "iopub.status.idle": "2021-05-12T03:53:13.673780Z",
     "shell.execute_reply": "2021-05-12T03:53:13.674479Z"
    },
    "executionInfo": {
     "elapsed": 226745,
     "status": "error",
     "timestamp": 1616326997825,
     "user": {
      "displayName": "TAPAS DAS",
      "photoUrl": "https://lh3.googleusercontent.com/a-/AOh14GiyffdGKiPCR_UwVittzTcbBFms70IkGfU15fatCA=s64",
      "userId": "10798398878324948542"
     },
     "user_tz": -330
    },
    "id": "uWPosEORSVBp",
    "outputId": "ecad76e6-e82d-4e4a-ef18-937bc0235495",
    "papermill": {
     "duration": 3170.80441,
     "end_time": "2021-05-12T03:53:13.674795",
     "exception": false,
     "start_time": "2021-05-12T03:00:22.870385",
     "status": "completed"
    },
    "tags": []
   },
   "outputs": [
    {
     "name": "stdout",
     "output_type": "stream",
     "text": [
      "Training until validation scores don't improve for 200 rounds\n",
      "[100]\ttraining's multi_logloss: 1.07536\tvalid_1's multi_logloss: 1.09952\n",
      "[200]\ttraining's multi_logloss: 1.04822\tvalid_1's multi_logloss: 1.09454\n",
      "[300]\ttraining's multi_logloss: 1.027\tvalid_1's multi_logloss: 1.09293\n",
      "[400]\ttraining's multi_logloss: 1.00849\tvalid_1's multi_logloss: 1.09261\n",
      "[500]\ttraining's multi_logloss: 0.991938\tvalid_1's multi_logloss: 1.09351\n",
      "Early stopping, best iteration is:\n",
      "[390]\ttraining's multi_logloss: 1.01024\tvalid_1's multi_logloss: 1.0925\n",
      "Seed-24 | Fold-0 | OOF Score: 1.0924997531613356\n",
      "Training until validation scores don't improve for 200 rounds\n",
      "[100]\ttraining's multi_logloss: 1.07543\tvalid_1's multi_logloss: 1.09926\n",
      "[200]\ttraining's multi_logloss: 1.04818\tvalid_1's multi_logloss: 1.09387\n",
      "[300]\ttraining's multi_logloss: 1.02669\tvalid_1's multi_logloss: 1.09187\n",
      "[400]\ttraining's multi_logloss: 1.00813\tvalid_1's multi_logloss: 1.09177\n",
      "[500]\ttraining's multi_logloss: 0.991727\tvalid_1's multi_logloss: 1.09176\n",
      "[600]\ttraining's multi_logloss: 0.976371\tvalid_1's multi_logloss: 1.09198\n",
      "Early stopping, best iteration is:\n",
      "[458]\ttraining's multi_logloss: 0.99848\tvalid_1's multi_logloss: 1.0915\n",
      "Seed-24 | Fold-1 | OOF Score: 1.0915047469700965\n",
      "Training until validation scores don't improve for 200 rounds\n",
      "[100]\ttraining's multi_logloss: 1.07483\tvalid_1's multi_logloss: 1.10174\n",
      "[200]\ttraining's multi_logloss: 1.04772\tvalid_1's multi_logloss: 1.09735\n",
      "[300]\ttraining's multi_logloss: 1.02629\tvalid_1's multi_logloss: 1.09667\n",
      "[400]\ttraining's multi_logloss: 1.00766\tvalid_1's multi_logloss: 1.09712\n",
      "Early stopping, best iteration is:\n",
      "[295]\ttraining's multi_logloss: 1.02729\tvalid_1's multi_logloss: 1.09662\n",
      "Seed-24 | Fold-2 | OOF Score: 1.0966188673787562\n",
      "Training until validation scores don't improve for 200 rounds\n",
      "[100]\ttraining's multi_logloss: 1.07547\tvalid_1's multi_logloss: 1.09914\n",
      "[200]\ttraining's multi_logloss: 1.04848\tvalid_1's multi_logloss: 1.09394\n",
      "[300]\ttraining's multi_logloss: 1.02709\tvalid_1's multi_logloss: 1.09187\n",
      "[400]\ttraining's multi_logloss: 1.00838\tvalid_1's multi_logloss: 1.09144\n",
      "[500]\ttraining's multi_logloss: 0.991925\tvalid_1's multi_logloss: 1.09154\n",
      "[600]\ttraining's multi_logloss: 0.976543\tvalid_1's multi_logloss: 1.09173\n",
      "Early stopping, best iteration is:\n",
      "[451]\ttraining's multi_logloss: 0.999451\tvalid_1's multi_logloss: 1.09124\n",
      "Seed-24 | Fold-3 | OOF Score: 1.0912431463900507\n",
      "Training until validation scores don't improve for 200 rounds\n",
      "[100]\ttraining's multi_logloss: 1.07518\tvalid_1's multi_logloss: 1.1004\n",
      "[200]\ttraining's multi_logloss: 1.04801\tvalid_1's multi_logloss: 1.09565\n",
      "[300]\ttraining's multi_logloss: 1.02634\tvalid_1's multi_logloss: 1.09416\n",
      "[400]\ttraining's multi_logloss: 1.00822\tvalid_1's multi_logloss: 1.09463\n",
      "[500]\ttraining's multi_logloss: 0.991769\tvalid_1's multi_logloss: 1.09488\n",
      "Early stopping, best iteration is:\n",
      "[314]\ttraining's multi_logloss: 1.02368\tvalid_1's multi_logloss: 1.094\n",
      "Seed-24 | Fold-4 | OOF Score: 1.0939994195960117\n",
      "Training until validation scores don't improve for 200 rounds\n",
      "[100]\ttraining's multi_logloss: 1.07514\tvalid_1's multi_logloss: 1.10017\n",
      "[200]\ttraining's multi_logloss: 1.04798\tvalid_1's multi_logloss: 1.09568\n",
      "[300]\ttraining's multi_logloss: 1.02648\tvalid_1's multi_logloss: 1.0945\n",
      "[400]\ttraining's multi_logloss: 1.00807\tvalid_1's multi_logloss: 1.09436\n",
      "[500]\ttraining's multi_logloss: 0.991502\tvalid_1's multi_logloss: 1.09477\n",
      "Early stopping, best iteration is:\n",
      "[343]\ttraining's multi_logloss: 1.0183\tvalid_1's multi_logloss: 1.09421\n",
      "Seed-24 | Fold-5 | OOF Score: 1.0942114490519896\n",
      "Training until validation scores don't improve for 200 rounds\n",
      "[100]\ttraining's multi_logloss: 1.07515\tvalid_1's multi_logloss: 1.09939\n",
      "[200]\ttraining's multi_logloss: 1.0482\tvalid_1's multi_logloss: 1.09381\n",
      "[300]\ttraining's multi_logloss: 1.02657\tvalid_1's multi_logloss: 1.09254\n",
      "[400]\ttraining's multi_logloss: 1.00813\tvalid_1's multi_logloss: 1.09197\n",
      "[500]\ttraining's multi_logloss: 0.991335\tvalid_1's multi_logloss: 1.0926\n",
      "Early stopping, best iteration is:\n",
      "[384]\ttraining's multi_logloss: 1.01096\tvalid_1's multi_logloss: 1.09182\n",
      "Seed-24 | Fold-6 | OOF Score: 1.0918222751076698\n",
      "Training until validation scores don't improve for 200 rounds\n",
      "[100]\ttraining's multi_logloss: 1.07506\tvalid_1's multi_logloss: 1.10044\n",
      "[200]\ttraining's multi_logloss: 1.04794\tvalid_1's multi_logloss: 1.09578\n",
      "[300]\ttraining's multi_logloss: 1.02642\tvalid_1's multi_logloss: 1.09363\n",
      "[400]\ttraining's multi_logloss: 1.0079\tvalid_1's multi_logloss: 1.09377\n",
      "[500]\ttraining's multi_logloss: 0.990922\tvalid_1's multi_logloss: 1.09346\n",
      "[600]\ttraining's multi_logloss: 0.975529\tvalid_1's multi_logloss: 1.09401\n",
      "[700]\ttraining's multi_logloss: 0.961219\tvalid_1's multi_logloss: 1.09459\n",
      "Early stopping, best iteration is:\n",
      "[504]\ttraining's multi_logloss: 0.990274\tvalid_1's multi_logloss: 1.09339\n",
      "Seed-24 | Fold-7 | OOF Score: 1.0933936299892246\n",
      "Training until validation scores don't improve for 200 rounds\n",
      "[100]\ttraining's multi_logloss: 1.07525\tvalid_1's multi_logloss: 1.09899\n",
      "[200]\ttraining's multi_logloss: 1.04812\tvalid_1's multi_logloss: 1.09287\n",
      "[300]\ttraining's multi_logloss: 1.02689\tvalid_1's multi_logloss: 1.09163\n",
      "[400]\ttraining's multi_logloss: 1.00835\tvalid_1's multi_logloss: 1.09122\n",
      "[500]\ttraining's multi_logloss: 0.991553\tvalid_1's multi_logloss: 1.0912\n",
      "[600]\ttraining's multi_logloss: 0.976349\tvalid_1's multi_logloss: 1.09159\n",
      "Early stopping, best iteration is:\n",
      "[492]\ttraining's multi_logloss: 0.992929\tvalid_1's multi_logloss: 1.09106\n",
      "Seed-24 | Fold-8 | OOF Score: 1.0910553702080872\n",
      "Training until validation scores don't improve for 200 rounds\n",
      "[100]\ttraining's multi_logloss: 1.07481\tvalid_1's multi_logloss: 1.10097\n",
      "[200]\ttraining's multi_logloss: 1.04757\tvalid_1's multi_logloss: 1.09619\n",
      "[300]\ttraining's multi_logloss: 1.02621\tvalid_1's multi_logloss: 1.09528\n",
      "[400]\ttraining's multi_logloss: 1.0075\tvalid_1's multi_logloss: 1.095\n",
      "[500]\ttraining's multi_logloss: 0.990747\tvalid_1's multi_logloss: 1.0958\n",
      "Early stopping, best iteration is:\n",
      "[393]\ttraining's multi_logloss: 1.00875\tvalid_1's multi_logloss: 1.09494\n",
      "Seed-24 | Fold-9 | OOF Score: 1.0949385959580968\n",
      "\n",
      "Seed: 24 | Aggregate OOF Score: 1.0931287253811317\n",
      "\n",
      "\n",
      "Training until validation scores don't improve for 200 rounds\n",
      "[100]\ttraining's multi_logloss: 1.07512\tvalid_1's multi_logloss: 1.09898\n",
      "[200]\ttraining's multi_logloss: 1.04814\tvalid_1's multi_logloss: 1.09354\n",
      "[300]\ttraining's multi_logloss: 1.02649\tvalid_1's multi_logloss: 1.09199\n",
      "[400]\ttraining's multi_logloss: 1.00809\tvalid_1's multi_logloss: 1.09147\n",
      "[500]\ttraining's multi_logloss: 0.991673\tvalid_1's multi_logloss: 1.09162\n",
      "[600]\ttraining's multi_logloss: 0.976513\tvalid_1's multi_logloss: 1.09197\n",
      "Early stopping, best iteration is:\n",
      "[453]\ttraining's multi_logloss: 0.998995\tvalid_1's multi_logloss: 1.09124\n",
      "Seed-3 | Fold-0 | OOF Score: 1.0912389073355466\n",
      "Training until validation scores don't improve for 200 rounds\n",
      "[100]\ttraining's multi_logloss: 1.07519\tvalid_1's multi_logloss: 1.10039\n",
      "[200]\ttraining's multi_logloss: 1.0482\tvalid_1's multi_logloss: 1.09501\n",
      "[300]\ttraining's multi_logloss: 1.02652\tvalid_1's multi_logloss: 1.09345\n",
      "[400]\ttraining's multi_logloss: 1.00834\tvalid_1's multi_logloss: 1.09347\n",
      "[500]\ttraining's multi_logloss: 0.991879\tvalid_1's multi_logloss: 1.0938\n",
      "Early stopping, best iteration is:\n",
      "[352]\ttraining's multi_logloss: 1.01665\tvalid_1's multi_logloss: 1.0932\n",
      "Seed-3 | Fold-1 | OOF Score: 1.0931993141871503\n",
      "Training until validation scores don't improve for 200 rounds\n",
      "[100]\ttraining's multi_logloss: 1.07496\tvalid_1's multi_logloss: 1.10004\n",
      "[200]\ttraining's multi_logloss: 1.04787\tvalid_1's multi_logloss: 1.09531\n",
      "[300]\ttraining's multi_logloss: 1.02674\tvalid_1's multi_logloss: 1.09432\n",
      "[400]\ttraining's multi_logloss: 1.00796\tvalid_1's multi_logloss: 1.09419\n",
      "[500]\ttraining's multi_logloss: 0.991714\tvalid_1's multi_logloss: 1.09427\n",
      "[600]\ttraining's multi_logloss: 0.976516\tvalid_1's multi_logloss: 1.0948\n",
      "Early stopping, best iteration is:\n",
      "[419]\ttraining's multi_logloss: 1.00474\tvalid_1's multi_logloss: 1.09403\n",
      "Seed-3 | Fold-2 | OOF Score: 1.0940344557680302\n",
      "Training until validation scores don't improve for 200 rounds\n",
      "[100]\ttraining's multi_logloss: 1.07498\tvalid_1's multi_logloss: 1.10097\n",
      "[200]\ttraining's multi_logloss: 1.04793\tvalid_1's multi_logloss: 1.09622\n",
      "[300]\ttraining's multi_logloss: 1.02644\tvalid_1's multi_logloss: 1.09477\n",
      "[400]\ttraining's multi_logloss: 1.00786\tvalid_1's multi_logloss: 1.09481\n",
      "[500]\ttraining's multi_logloss: 0.991426\tvalid_1's multi_logloss: 1.09561\n",
      "Early stopping, best iteration is:\n",
      "[325]\ttraining's multi_logloss: 1.02151\tvalid_1's multi_logloss: 1.09463\n",
      "Seed-3 | Fold-3 | OOF Score: 1.09463331902633\n",
      "Training until validation scores don't improve for 200 rounds\n",
      "[100]\ttraining's multi_logloss: 1.07522\tvalid_1's multi_logloss: 1.09901\n",
      "[200]\ttraining's multi_logloss: 1.04794\tvalid_1's multi_logloss: 1.09413\n",
      "[300]\ttraining's multi_logloss: 1.02604\tvalid_1's multi_logloss: 1.09292\n",
      "[400]\ttraining's multi_logloss: 1.0077\tvalid_1's multi_logloss: 1.09276\n",
      "[500]\ttraining's multi_logloss: 0.991164\tvalid_1's multi_logloss: 1.09303\n",
      "Early stopping, best iteration is:\n",
      "[357]\ttraining's multi_logloss: 1.01536\tvalid_1's multi_logloss: 1.09266\n",
      "Seed-3 | Fold-4 | OOF Score: 1.0926586694789688\n",
      "Training until validation scores don't improve for 200 rounds\n",
      "[100]\ttraining's multi_logloss: 1.07487\tvalid_1's multi_logloss: 1.10103\n",
      "[200]\ttraining's multi_logloss: 1.04795\tvalid_1's multi_logloss: 1.09677\n",
      "[300]\ttraining's multi_logloss: 1.02661\tvalid_1's multi_logloss: 1.09577\n",
      "[400]\ttraining's multi_logloss: 1.00803\tvalid_1's multi_logloss: 1.09559\n",
      "[500]\ttraining's multi_logloss: 0.991433\tvalid_1's multi_logloss: 1.09612\n",
      "Early stopping, best iteration is:\n",
      "[359]\ttraining's multi_logloss: 1.01534\tvalid_1's multi_logloss: 1.09531\n",
      "Seed-3 | Fold-5 | OOF Score: 1.095313556989955\n",
      "Training until validation scores don't improve for 200 rounds\n",
      "[100]\ttraining's multi_logloss: 1.07517\tvalid_1's multi_logloss: 1.09929\n",
      "[200]\ttraining's multi_logloss: 1.04812\tvalid_1's multi_logloss: 1.09421\n",
      "[300]\ttraining's multi_logloss: 1.02662\tvalid_1's multi_logloss: 1.09265\n",
      "[400]\ttraining's multi_logloss: 1.00781\tvalid_1's multi_logloss: 1.09282\n",
      "[500]\ttraining's multi_logloss: 0.991163\tvalid_1's multi_logloss: 1.09329\n",
      "Early stopping, best iteration is:\n",
      "[349]\ttraining's multi_logloss: 1.01703\tvalid_1's multi_logloss: 1.0926\n",
      "Seed-3 | Fold-6 | OOF Score: 1.0925986741792002\n",
      "Training until validation scores don't improve for 200 rounds\n",
      "[100]\ttraining's multi_logloss: 1.07482\tvalid_1's multi_logloss: 1.09985\n",
      "[200]\ttraining's multi_logloss: 1.04806\tvalid_1's multi_logloss: 1.09515\n",
      "[300]\ttraining's multi_logloss: 1.02684\tvalid_1's multi_logloss: 1.0934\n",
      "[400]\ttraining's multi_logloss: 1.00832\tvalid_1's multi_logloss: 1.09292\n",
      "[500]\ttraining's multi_logloss: 0.991419\tvalid_1's multi_logloss: 1.09289\n",
      "[600]\ttraining's multi_logloss: 0.9759\tvalid_1's multi_logloss: 1.09315\n",
      "Early stopping, best iteration is:\n",
      "[465]\ttraining's multi_logloss: 0.99713\tvalid_1's multi_logloss: 1.09274\n",
      "Seed-3 | Fold-7 | OOF Score: 1.0927418795956252\n",
      "Training until validation scores don't improve for 200 rounds\n",
      "[100]\ttraining's multi_logloss: 1.07522\tvalid_1's multi_logloss: 1.10013\n",
      "[200]\ttraining's multi_logloss: 1.04838\tvalid_1's multi_logloss: 1.09508\n",
      "[300]\ttraining's multi_logloss: 1.02703\tvalid_1's multi_logloss: 1.09342\n",
      "[400]\ttraining's multi_logloss: 1.00836\tvalid_1's multi_logloss: 1.09363\n",
      "[500]\ttraining's multi_logloss: 0.991985\tvalid_1's multi_logloss: 1.09376\n",
      "Early stopping, best iteration is:\n",
      "[360]\ttraining's multi_logloss: 1.01553\tvalid_1's multi_logloss: 1.09328\n",
      "Seed-3 | Fold-8 | OOF Score: 1.093277708858605\n",
      "Training until validation scores don't improve for 200 rounds\n",
      "[100]\ttraining's multi_logloss: 1.07518\tvalid_1's multi_logloss: 1.10048\n",
      "[200]\ttraining's multi_logloss: 1.04822\tvalid_1's multi_logloss: 1.09567\n",
      "[300]\ttraining's multi_logloss: 1.02692\tvalid_1's multi_logloss: 1.09414\n",
      "[400]\ttraining's multi_logloss: 1.0082\tvalid_1's multi_logloss: 1.09405\n",
      "[500]\ttraining's multi_logloss: 0.991633\tvalid_1's multi_logloss: 1.0949\n",
      "Early stopping, best iteration is:\n",
      "[382]\ttraining's multi_logloss: 1.01137\tvalid_1's multi_logloss: 1.09388\n",
      "Seed-3 | Fold-9 | OOF Score: 1.0938783297786998\n",
      "\n",
      "Seed: 3 | Aggregate OOF Score: 1.0933574815198113\n",
      "\n",
      "\n",
      "Training until validation scores don't improve for 200 rounds\n",
      "[100]\ttraining's multi_logloss: 1.07506\tvalid_1's multi_logloss: 1.09967\n",
      "[200]\ttraining's multi_logloss: 1.04819\tvalid_1's multi_logloss: 1.09404\n",
      "[300]\ttraining's multi_logloss: 1.02628\tvalid_1's multi_logloss: 1.09249\n",
      "[400]\ttraining's multi_logloss: 1.00751\tvalid_1's multi_logloss: 1.09193\n",
      "[500]\ttraining's multi_logloss: 0.99089\tvalid_1's multi_logloss: 1.09228\n",
      "[600]\ttraining's multi_logloss: 0.975531\tvalid_1's multi_logloss: 1.09257\n",
      "Early stopping, best iteration is:\n",
      "[432]\ttraining's multi_logloss: 1.0019\tvalid_1's multi_logloss: 1.09181\n",
      "Seed-56 | Fold-0 | OOF Score: 1.0918146547003815\n",
      "Training until validation scores don't improve for 200 rounds\n",
      "[100]\ttraining's multi_logloss: 1.07509\tvalid_1's multi_logloss: 1.10068\n",
      "[200]\ttraining's multi_logloss: 1.04804\tvalid_1's multi_logloss: 1.09577\n",
      "[300]\ttraining's multi_logloss: 1.02681\tvalid_1's multi_logloss: 1.09443\n",
      "[400]\ttraining's multi_logloss: 1.00803\tvalid_1's multi_logloss: 1.09416\n",
      "[500]\ttraining's multi_logloss: 0.99164\tvalid_1's multi_logloss: 1.09421\n",
      "Early stopping, best iteration is:\n",
      "[357]\ttraining's multi_logloss: 1.01555\tvalid_1's multi_logloss: 1.09406\n",
      "Seed-56 | Fold-1 | OOF Score: 1.0940609603124474\n",
      "Training until validation scores don't improve for 200 rounds\n",
      "[100]\ttraining's multi_logloss: 1.07515\tvalid_1's multi_logloss: 1.09973\n",
      "[200]\ttraining's multi_logloss: 1.048\tvalid_1's multi_logloss: 1.0951\n",
      "[300]\ttraining's multi_logloss: 1.02651\tvalid_1's multi_logloss: 1.09394\n",
      "[400]\ttraining's multi_logloss: 1.00813\tvalid_1's multi_logloss: 1.0939\n",
      "[500]\ttraining's multi_logloss: 0.991626\tvalid_1's multi_logloss: 1.09475\n",
      "Early stopping, best iteration is:\n",
      "[372]\ttraining's multi_logloss: 1.01305\tvalid_1's multi_logloss: 1.09345\n",
      "Seed-56 | Fold-2 | OOF Score: 1.0934471126603202\n",
      "Training until validation scores don't improve for 200 rounds\n",
      "[100]\ttraining's multi_logloss: 1.07507\tvalid_1's multi_logloss: 1.10055\n",
      "[200]\ttraining's multi_logloss: 1.04779\tvalid_1's multi_logloss: 1.09668\n",
      "[300]\ttraining's multi_logloss: 1.02619\tvalid_1's multi_logloss: 1.09554\n",
      "[400]\ttraining's multi_logloss: 1.00765\tvalid_1's multi_logloss: 1.0955\n",
      "[500]\ttraining's multi_logloss: 0.991159\tvalid_1's multi_logloss: 1.09597\n",
      "[600]\ttraining's multi_logloss: 0.975991\tvalid_1's multi_logloss: 1.09677\n",
      "Early stopping, best iteration is:\n",
      "[400]\ttraining's multi_logloss: 1.00765\tvalid_1's multi_logloss: 1.0955\n",
      "Seed-56 | Fold-3 | OOF Score: 1.0955018049409617\n",
      "Training until validation scores don't improve for 200 rounds\n",
      "[100]\ttraining's multi_logloss: 1.07548\tvalid_1's multi_logloss: 1.09772\n",
      "[200]\ttraining's multi_logloss: 1.04845\tvalid_1's multi_logloss: 1.09179\n",
      "[300]\ttraining's multi_logloss: 1.02703\tvalid_1's multi_logloss: 1.08977\n",
      "[400]\ttraining's multi_logloss: 1.00818\tvalid_1's multi_logloss: 1.08918\n",
      "[500]\ttraining's multi_logloss: 0.991603\tvalid_1's multi_logloss: 1.08952\n",
      "[600]\ttraining's multi_logloss: 0.97639\tvalid_1's multi_logloss: 1.09008\n",
      "Early stopping, best iteration is:\n",
      "[434]\ttraining's multi_logloss: 1.00234\tvalid_1's multi_logloss: 1.08905\n",
      "Seed-56 | Fold-4 | OOF Score: 1.089046317712383\n",
      "Training until validation scores don't improve for 200 rounds\n",
      "[100]\ttraining's multi_logloss: 1.07532\tvalid_1's multi_logloss: 1.09837\n",
      "[200]\ttraining's multi_logloss: 1.04858\tvalid_1's multi_logloss: 1.09314\n",
      "[300]\ttraining's multi_logloss: 1.02702\tvalid_1's multi_logloss: 1.09141\n",
      "[400]\ttraining's multi_logloss: 1.00859\tvalid_1's multi_logloss: 1.09172\n",
      "[500]\ttraining's multi_logloss: 0.991977\tvalid_1's multi_logloss: 1.09233\n",
      "Early stopping, best iteration is:\n",
      "[322]\ttraining's multi_logloss: 1.02275\tvalid_1's multi_logloss: 1.09125\n",
      "Seed-56 | Fold-5 | OOF Score: 1.0912540924861631\n",
      "Training until validation scores don't improve for 200 rounds\n",
      "[100]\ttraining's multi_logloss: 1.07495\tvalid_1's multi_logloss: 1.10093\n",
      "[200]\ttraining's multi_logloss: 1.04767\tvalid_1's multi_logloss: 1.09574\n",
      "[300]\ttraining's multi_logloss: 1.02665\tvalid_1's multi_logloss: 1.09419\n",
      "[400]\ttraining's multi_logloss: 1.00812\tvalid_1's multi_logloss: 1.09399\n",
      "[500]\ttraining's multi_logloss: 0.991282\tvalid_1's multi_logloss: 1.09399\n",
      "Early stopping, best iteration is:\n",
      "[347]\ttraining's multi_logloss: 1.0176\tvalid_1's multi_logloss: 1.09377\n",
      "Seed-56 | Fold-6 | OOF Score: 1.093773068787008\n",
      "Training until validation scores don't improve for 200 rounds\n",
      "[100]\ttraining's multi_logloss: 1.0749\tvalid_1's multi_logloss: 1.10073\n",
      "[200]\ttraining's multi_logloss: 1.04821\tvalid_1's multi_logloss: 1.09585\n",
      "[300]\ttraining's multi_logloss: 1.02685\tvalid_1's multi_logloss: 1.09399\n",
      "[400]\ttraining's multi_logloss: 1.00824\tvalid_1's multi_logloss: 1.09305\n",
      "[500]\ttraining's multi_logloss: 0.991444\tvalid_1's multi_logloss: 1.093\n",
      "[600]\ttraining's multi_logloss: 0.976252\tvalid_1's multi_logloss: 1.09277\n",
      "[700]\ttraining's multi_logloss: 0.961911\tvalid_1's multi_logloss: 1.09343\n",
      "Early stopping, best iteration is:\n",
      "[529]\ttraining's multi_logloss: 0.986905\tvalid_1's multi_logloss: 1.09265\n",
      "Seed-56 | Fold-7 | OOF Score: 1.0926497133655544\n",
      "Training until validation scores don't improve for 200 rounds\n",
      "[100]\ttraining's multi_logloss: 1.07524\tvalid_1's multi_logloss: 1.09958\n",
      "[200]\ttraining's multi_logloss: 1.04822\tvalid_1's multi_logloss: 1.09496\n",
      "[300]\ttraining's multi_logloss: 1.02649\tvalid_1's multi_logloss: 1.09316\n",
      "[400]\ttraining's multi_logloss: 1.00808\tvalid_1's multi_logloss: 1.09337\n",
      "[500]\ttraining's multi_logloss: 0.991313\tvalid_1's multi_logloss: 1.09391\n",
      "Early stopping, best iteration is:\n",
      "[322]\ttraining's multi_logloss: 1.02224\tvalid_1's multi_logloss: 1.09302\n",
      "Seed-56 | Fold-8 | OOF Score: 1.0930198626654544\n",
      "Training until validation scores don't improve for 200 rounds\n",
      "[100]\ttraining's multi_logloss: 1.07483\tvalid_1's multi_logloss: 1.10211\n",
      "[200]\ttraining's multi_logloss: 1.04779\tvalid_1's multi_logloss: 1.09737\n",
      "[300]\ttraining's multi_logloss: 1.02668\tvalid_1's multi_logloss: 1.09603\n",
      "[400]\ttraining's multi_logloss: 1.0081\tvalid_1's multi_logloss: 1.09626\n",
      "[500]\ttraining's multi_logloss: 0.991569\tvalid_1's multi_logloss: 1.0969\n",
      "Early stopping, best iteration is:\n",
      "[303]\ttraining's multi_logloss: 1.02606\tvalid_1's multi_logloss: 1.09596\n",
      "Seed-56 | Fold-9 | OOF Score: 1.095964525391621\n",
      "\n",
      "Seed: 56 | Aggregate OOF Score: 1.0930532113022293\n",
      "\n",
      "\n",
      "Aggregate OOF Score: 1.093179806067724\n"
     ]
    }
   ],
   "source": [
    "FOLD = 10\n",
    "NUM_SEED = 3\n",
    "\n",
    "# Prediction Clipping Thresholds\n",
    "p_min = 0.025\n",
    "p_max = 1 - p_min\n",
    "\n",
    "np.random.seed(3)\n",
    "seeds = np.random.randint(0, 100, size=NUM_SEED)\n",
    "\n",
    "oof_score = 0\n",
    "y_pred_meta_lgb = np.zeros((Ytrain.shape[0], 4))\n",
    "y_pred_final_lgb = np.zeros((Xtest.shape[0], 4))\n",
    "counter = 0\n",
    "\n",
    "\n",
    "for sidx, seed in enumerate(seeds):\n",
    "    seed_score = 0\n",
    "    \n",
    "    kfold = StratifiedKFold(n_splits=FOLD, shuffle=True, random_state=seed)\n",
    "\n",
    "    for idx, (train, val) in enumerate(kfold.split(Xtrain, Ytrain)):\n",
    "        counter += 1\n",
    "\n",
    "        train_x, train_y, train_y_oh = Xtrain[train], Ytrain[train], Ytrain_oh[train]\n",
    "        val_x, val_y, val_y_oh = Xtrain[val], Ytrain[val], Ytrain_oh[val]\n",
    "\n",
    "        lgtrain = lgb.Dataset(train_x, label=train_y.ravel())\n",
    "        lgvalidation = lgb.Dataset(val_x, label=val_y.ravel())\n",
    "\n",
    "        model = lgb.train(params, lgtrain, num_rounds, \n",
    "                          valid_sets=[lgtrain, lgvalidation], \n",
    "                          early_stopping_rounds=200, verbose_eval=100)\n",
    "\n",
    "        y_pred = model.predict(val_x, num_iteration=model.best_iteration)\n",
    "        y_pred = np.clip(y_pred, p_min, p_max)\n",
    "        y_pred_meta_lgb[val] += y_pred\n",
    "        y_pred_final_lgb += model.predict(Xtest, num_iteration=model.best_iteration)\n",
    "        \n",
    "        score = log_loss(val_y_oh, y_pred)\n",
    "        oof_score += score\n",
    "        seed_score += score\n",
    "        print(\"Seed-{} | Fold-{} | OOF Score: {}\".format(seed, idx, score))\n",
    "    \n",
    "    print(\"\\nSeed: {} | Aggregate OOF Score: {}\\n\\n\".format(seed, (seed_score / FOLD)))\n",
    "\n",
    "\n",
    "y_pred_meta_lgb = y_pred_meta_lgb / float(NUM_SEED)\n",
    "y_pred_final_lgb = y_pred_final_lgb / float(counter)\n",
    "oof_score /= float(counter)\n",
    "print(\"Aggregate OOF Score: {}\".format(oof_score))"
   ]
  },
  {
   "cell_type": "code",
   "execution_count": 6,
   "metadata": {
    "execution": {
     "iopub.execute_input": "2021-05-12T03:53:13.848134Z",
     "iopub.status.busy": "2021-05-12T03:53:13.847513Z",
     "iopub.status.idle": "2021-05-12T03:53:14.113232Z",
     "shell.execute_reply": "2021-05-12T03:53:14.113787Z"
    },
    "id": "uLzmS7LzXvXy",
    "papermill": {
     "duration": 0.354124,
     "end_time": "2021-05-12T03:53:14.113966",
     "exception": false,
     "start_time": "2021-05-12T03:53:13.759842",
     "status": "completed"
    },
    "tags": []
   },
   "outputs": [],
   "source": [
    "np.savez_compressed('./LGB_Meta_Features.npz',\n",
    "                    y_pred_meta_lgb=y_pred_meta_lgb, \n",
    "                    oof_score=oof_score,\n",
    "                    y_pred_final_lgb=y_pred_final_lgb)"
   ]
  },
  {
   "cell_type": "markdown",
   "metadata": {
    "id": "nZvoU4TpWxmY",
    "papermill": {
     "duration": 0.08482,
     "end_time": "2021-05-12T03:53:14.283916",
     "exception": false,
     "start_time": "2021-05-12T03:53:14.199096",
     "status": "completed"
    },
    "tags": []
   },
   "source": [
    "## Create submission file"
   ]
  },
  {
   "cell_type": "code",
   "execution_count": 7,
   "metadata": {
    "execution": {
     "iopub.execute_input": "2021-05-12T03:53:14.457841Z",
     "iopub.status.busy": "2021-05-12T03:53:14.456917Z",
     "iopub.status.idle": "2021-05-12T03:53:14.707827Z",
     "shell.execute_reply": "2021-05-12T03:53:14.707295Z"
    },
    "executionInfo": {
     "elapsed": 1417,
     "status": "ok",
     "timestamp": 1616078535765,
     "user": {
      "displayName": "TAPAS DAS",
      "photoUrl": "https://lh3.googleusercontent.com/a-/AOh14GiyffdGKiPCR_UwVittzTcbBFms70IkGfU15fatCA=s64",
      "userId": "10798398878324948542"
     },
     "user_tz": -330
    },
    "id": "zGEGOAJHVoHV",
    "outputId": "53ab44cf-755f-435d-c1af-f4184f2114dd",
    "papermill": {
     "duration": 0.338867,
     "end_time": "2021-05-12T03:53:14.707981",
     "exception": false,
     "start_time": "2021-05-12T03:53:14.369114",
     "status": "completed"
    },
    "tags": []
   },
   "outputs": [
    {
     "data": {
      "text/html": [
       "<div>\n",
       "<style scoped>\n",
       "    .dataframe tbody tr th:only-of-type {\n",
       "        vertical-align: middle;\n",
       "    }\n",
       "\n",
       "    .dataframe tbody tr th {\n",
       "        vertical-align: top;\n",
       "    }\n",
       "\n",
       "    .dataframe thead th {\n",
       "        text-align: right;\n",
       "    }\n",
       "</style>\n",
       "<table border=\"1\" class=\"dataframe\">\n",
       "  <thead>\n",
       "    <tr style=\"text-align: right;\">\n",
       "      <th></th>\n",
       "      <th>id</th>\n",
       "      <th>Class_1</th>\n",
       "      <th>Class_2</th>\n",
       "      <th>Class_3</th>\n",
       "      <th>Class_4</th>\n",
       "    </tr>\n",
       "  </thead>\n",
       "  <tbody>\n",
       "    <tr>\n",
       "      <th>0</th>\n",
       "      <td>100000</td>\n",
       "      <td>0.086429</td>\n",
       "      <td>0.594643</td>\n",
       "      <td>0.201267</td>\n",
       "      <td>0.117662</td>\n",
       "    </tr>\n",
       "    <tr>\n",
       "      <th>1</th>\n",
       "      <td>100001</td>\n",
       "      <td>0.074733</td>\n",
       "      <td>0.673329</td>\n",
       "      <td>0.167697</td>\n",
       "      <td>0.084242</td>\n",
       "    </tr>\n",
       "    <tr>\n",
       "      <th>2</th>\n",
       "      <td>100002</td>\n",
       "      <td>0.080657</td>\n",
       "      <td>0.646302</td>\n",
       "      <td>0.177677</td>\n",
       "      <td>0.095364</td>\n",
       "    </tr>\n",
       "    <tr>\n",
       "      <th>3</th>\n",
       "      <td>100003</td>\n",
       "      <td>0.077064</td>\n",
       "      <td>0.552272</td>\n",
       "      <td>0.259954</td>\n",
       "      <td>0.110709</td>\n",
       "    </tr>\n",
       "    <tr>\n",
       "      <th>4</th>\n",
       "      <td>100004</td>\n",
       "      <td>0.074398</td>\n",
       "      <td>0.621289</td>\n",
       "      <td>0.200194</td>\n",
       "      <td>0.104119</td>\n",
       "    </tr>\n",
       "  </tbody>\n",
       "</table>\n",
       "</div>"
      ],
      "text/plain": [
       "       id   Class_1   Class_2   Class_3   Class_4\n",
       "0  100000  0.086429  0.594643  0.201267  0.117662\n",
       "1  100001  0.074733  0.673329  0.167697  0.084242\n",
       "2  100002  0.080657  0.646302  0.177677  0.095364\n",
       "3  100003  0.077064  0.552272  0.259954  0.110709\n",
       "4  100004  0.074398  0.621289  0.200194  0.104119"
      ]
     },
     "execution_count": 7,
     "metadata": {},
     "output_type": "execute_result"
    }
   ],
   "source": [
    "y_pred_final_lgb = np.clip(y_pred_final_lgb, p_min, p_max)\n",
    "\n",
    "test_df = pd.read_csv(\"../input/tabular-playground-series-may-2021/test.csv\")\n",
    "submit_df = pd.DataFrame()\n",
    "submit_df['id'] = test_df['id']\n",
    "submit_df['Class_1'] = y_pred_final_lgb[:,0]\n",
    "submit_df['Class_2'] = y_pred_final_lgb[:,1]\n",
    "submit_df['Class_3'] = y_pred_final_lgb[:,2]\n",
    "submit_df['Class_4'] = y_pred_final_lgb[:,3]\n",
    "submit_df.head()"
   ]
  },
  {
   "cell_type": "code",
   "execution_count": 8,
   "metadata": {
    "execution": {
     "iopub.execute_input": "2021-05-12T03:53:14.892380Z",
     "iopub.status.busy": "2021-05-12T03:53:14.891750Z",
     "iopub.status.idle": "2021-05-12T03:53:15.375294Z",
     "shell.execute_reply": "2021-05-12T03:53:15.374724Z"
    },
    "id": "KDIsotrKVoJN",
    "papermill": {
     "duration": 0.577593,
     "end_time": "2021-05-12T03:53:15.375433",
     "exception": false,
     "start_time": "2021-05-12T03:53:14.797840",
     "status": "completed"
    },
    "tags": []
   },
   "outputs": [],
   "source": [
    "submit_df.to_csv(\"./LGB_submission.csv\", index=False)"
   ]
  },
  {
   "cell_type": "code",
   "execution_count": null,
   "metadata": {
    "id": "W2c88MvxXm65",
    "papermill": {
     "duration": 0.08518,
     "end_time": "2021-05-12T03:53:15.546835",
     "exception": false,
     "start_time": "2021-05-12T03:53:15.461655",
     "status": "completed"
    },
    "tags": []
   },
   "outputs": [],
   "source": []
  }
 ],
 "metadata": {
  "kernelspec": {
   "display_name": "Python 3",
   "language": "python",
   "name": "python3"
  },
  "language_info": {
   "codemirror_mode": {
    "name": "ipython",
    "version": 3
   },
   "file_extension": ".py",
   "mimetype": "text/x-python",
   "name": "python",
   "nbconvert_exporter": "python",
   "pygments_lexer": "ipython3",
   "version": "3.8.5"
  },
  "papermill": {
   "default_parameters": {},
   "duration": 3199.742313,
   "end_time": "2021-05-12T03:53:17.462799",
   "environment_variables": {},
   "exception": null,
   "input_path": "__notebook__.ipynb",
   "output_path": "__notebook__.ipynb",
   "parameters": {},
   "start_time": "2021-05-12T02:59:57.720486",
   "version": "2.3.3"
  }
 },
 "nbformat": 4,
 "nbformat_minor": 5
}
