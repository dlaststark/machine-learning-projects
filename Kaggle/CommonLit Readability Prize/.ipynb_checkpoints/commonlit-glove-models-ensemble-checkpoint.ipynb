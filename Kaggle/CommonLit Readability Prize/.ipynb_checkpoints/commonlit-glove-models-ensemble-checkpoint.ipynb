{
 "cells": [
  {
   "cell_type": "markdown",
   "id": "atmospheric-folder",
   "metadata": {
    "papermill": {
     "duration": 0.033903,
     "end_time": "2021-06-05T17:42:28.411335",
     "exception": false,
     "start_time": "2021-06-05T17:42:28.377432",
     "status": "completed"
    },
    "tags": []
   },
   "source": [
    "## Import libraries"
   ]
  },
  {
   "cell_type": "code",
   "execution_count": 1,
   "id": "sorted-better",
   "metadata": {
    "execution": {
     "iopub.execute_input": "2021-06-05T17:42:28.483560Z",
     "iopub.status.busy": "2021-06-05T17:42:28.478516Z",
     "iopub.status.idle": "2021-06-05T17:42:31.528535Z",
     "shell.execute_reply": "2021-06-05T17:42:31.529086Z",
     "shell.execute_reply.started": "2021-06-05T17:15:59.384543Z"
    },
    "papermill": {
     "duration": 3.088531,
     "end_time": "2021-06-05T17:42:31.529383",
     "exception": false,
     "start_time": "2021-06-05T17:42:28.440852",
     "status": "completed"
    },
    "tags": []
   },
   "outputs": [
    {
     "data": {
      "text/html": [
       "<style type='text/css'>\n",
       ".datatable table.frame { margin-bottom: 0; }\n",
       ".datatable table.frame thead { border-bottom: none; }\n",
       ".datatable table.frame tr.coltypes td {  color: #FFFFFF;  line-height: 6px;  padding: 0 0.5em;}\n",
       ".datatable .bool    { background: #DDDD99; }\n",
       ".datatable .object  { background: #565656; }\n",
       ".datatable .int     { background: #5D9E5D; }\n",
       ".datatable .float   { background: #4040CC; }\n",
       ".datatable .str     { background: #CC4040; }\n",
       ".datatable .row_index {  background: var(--jp-border-color3);  border-right: 1px solid var(--jp-border-color0);  color: var(--jp-ui-font-color3);  font-size: 9px;}\n",
       ".datatable .frame tr.coltypes .row_index {  background: var(--jp-border-color0);}\n",
       ".datatable th:nth-child(2) { padding-left: 12px; }\n",
       ".datatable .hellipsis {  color: var(--jp-cell-editor-border-color);}\n",
       ".datatable .vellipsis {  background: var(--jp-layout-color0);  color: var(--jp-cell-editor-border-color);}\n",
       ".datatable .na {  color: var(--jp-cell-editor-border-color);  font-size: 80%;}\n",
       ".datatable .footer { font-size: 9px; }\n",
       ".datatable .frame_dimensions {  background: var(--jp-border-color3);  border-top: 1px solid var(--jp-border-color0);  color: var(--jp-ui-font-color3);  display: inline-block;  opacity: 0.6;  padding: 1px 10px 1px 5px;}\n",
       "</style>\n"
      ],
      "text/plain": [
       "<IPython.core.display.HTML object>"
      ]
     },
     "metadata": {},
     "output_type": "display_data"
    }
   ],
   "source": [
    "import warnings\n",
    "warnings.filterwarnings(\"ignore\")\n",
    "\n",
    "import gc\n",
    "import numpy as np\n",
    "import pandas as pd\n",
    "from tqdm import tqdm\n",
    "import seaborn as sns\n",
    "import matplotlib.pyplot as plt\n",
    "from sklearn.decomposition import PCA\n",
    "from sklearn.metrics import mean_squared_error\n",
    "from sklearn.model_selection import StratifiedKFold\n",
    "from sklearn.preprocessing import QuantileTransformer\n",
    "\n",
    "import nltk\n",
    "import string\n",
    "from textblob import TextBlob\n",
    "from nltk.corpus import wordnet\n",
    "from nltk.corpus import stopwords\n",
    "from nltk.stem import WordNetLemmatizer\n",
    "from sklearn.feature_extraction.text import TfidfVectorizer\n",
    "from sklearn.feature_extraction.text import CountVectorizer\n",
    "\n",
    "import lightgbm as lgb\n",
    "from xgboost import XGBRegressor\n",
    "from sklearn.linear_model import LinearRegression\n",
    "from sklearn.experimental import enable_hist_gradient_boosting\n",
    "from sklearn.ensemble import HistGradientBoostingRegressor\n",
    "from sklearn.linear_model import BayesianRidge, Lasso, ElasticNet"
   ]
  },
  {
   "cell_type": "markdown",
   "id": "ahead-surprise",
   "metadata": {
    "papermill": {
     "duration": 0.029652,
     "end_time": "2021-06-05T17:42:31.590047",
     "exception": false,
     "start_time": "2021-06-05T17:42:31.560395",
     "status": "completed"
    },
    "tags": []
   },
   "source": [
    "## Load source datasets"
   ]
  },
  {
   "cell_type": "code",
   "execution_count": 2,
   "id": "technological-mirror",
   "metadata": {
    "execution": {
     "iopub.execute_input": "2021-06-05T17:42:31.656236Z",
     "iopub.status.busy": "2021-06-05T17:42:31.655535Z",
     "iopub.status.idle": "2021-06-05T17:42:31.781341Z",
     "shell.execute_reply": "2021-06-05T17:42:31.781791Z",
     "shell.execute_reply.started": "2021-06-05T17:16:02.535796Z"
    },
    "papermill": {
     "duration": 0.161989,
     "end_time": "2021-06-05T17:42:31.781973",
     "exception": false,
     "start_time": "2021-06-05T17:42:31.619984",
     "status": "completed"
    },
    "tags": []
   },
   "outputs": [
    {
     "name": "stdout",
     "output_type": "stream",
     "text": [
      "train_df: (2834, 2)\n",
      "\n"
     ]
    },
    {
     "data": {
      "text/html": [
       "<div>\n",
       "<style scoped>\n",
       "    .dataframe tbody tr th:only-of-type {\n",
       "        vertical-align: middle;\n",
       "    }\n",
       "\n",
       "    .dataframe tbody tr th {\n",
       "        vertical-align: top;\n",
       "    }\n",
       "\n",
       "    .dataframe thead th {\n",
       "        text-align: right;\n",
       "    }\n",
       "</style>\n",
       "<table border=\"1\" class=\"dataframe\">\n",
       "  <thead>\n",
       "    <tr style=\"text-align: right;\">\n",
       "      <th></th>\n",
       "      <th>excerpt</th>\n",
       "      <th>target</th>\n",
       "    </tr>\n",
       "    <tr>\n",
       "      <th>id</th>\n",
       "      <th></th>\n",
       "      <th></th>\n",
       "    </tr>\n",
       "  </thead>\n",
       "  <tbody>\n",
       "    <tr>\n",
       "      <th>c12129c31</th>\n",
       "      <td>When the young people returned to the ballroom...</td>\n",
       "      <td>-0.340259</td>\n",
       "    </tr>\n",
       "    <tr>\n",
       "      <th>85aa80a4c</th>\n",
       "      <td>All through dinner time, Mrs. Fayre was somewh...</td>\n",
       "      <td>-0.315372</td>\n",
       "    </tr>\n",
       "    <tr>\n",
       "      <th>b69ac6792</th>\n",
       "      <td>As Roger had predicted, the snow departed as q...</td>\n",
       "      <td>-0.580118</td>\n",
       "    </tr>\n",
       "    <tr>\n",
       "      <th>dd1000b26</th>\n",
       "      <td>And outside before the palace a great garden w...</td>\n",
       "      <td>-1.054013</td>\n",
       "    </tr>\n",
       "    <tr>\n",
       "      <th>37c1b32fb</th>\n",
       "      <td>Once upon a time there were Three Bears who li...</td>\n",
       "      <td>0.247197</td>\n",
       "    </tr>\n",
       "  </tbody>\n",
       "</table>\n",
       "</div>"
      ],
      "text/plain": [
       "                                                     excerpt    target\n",
       "id                                                                    \n",
       "c12129c31  When the young people returned to the ballroom... -0.340259\n",
       "85aa80a4c  All through dinner time, Mrs. Fayre was somewh... -0.315372\n",
       "b69ac6792  As Roger had predicted, the snow departed as q... -0.580118\n",
       "dd1000b26  And outside before the palace a great garden w... -1.054013\n",
       "37c1b32fb  Once upon a time there were Three Bears who li...  0.247197"
      ]
     },
     "execution_count": 2,
     "metadata": {},
     "output_type": "execute_result"
    }
   ],
   "source": [
    "train_df = pd.read_csv(\"../input/commonlitreadabilityprize/train.csv\")\n",
    "train_df.drop(['url_legal','license','standard_error'], inplace=True, axis=1)\n",
    "train_df.set_index(\"id\", inplace=True)\n",
    "print(f\"train_df: {train_df.shape}\\n\")\n",
    "train_df.head()"
   ]
  },
  {
   "cell_type": "code",
   "execution_count": 3,
   "id": "timely-barcelona",
   "metadata": {
    "execution": {
     "iopub.execute_input": "2021-06-05T17:42:31.846620Z",
     "iopub.status.busy": "2021-06-05T17:42:31.845993Z",
     "iopub.status.idle": "2021-06-05T17:42:31.865300Z",
     "shell.execute_reply": "2021-06-05T17:42:31.865777Z",
     "shell.execute_reply.started": "2021-06-05T17:16:02.678907Z"
    },
    "papermill": {
     "duration": 0.053162,
     "end_time": "2021-06-05T17:42:31.865952",
     "exception": false,
     "start_time": "2021-06-05T17:42:31.812790",
     "status": "completed"
    },
    "tags": []
   },
   "outputs": [
    {
     "name": "stdout",
     "output_type": "stream",
     "text": [
      "test_df: (7, 1)\n",
      "\n"
     ]
    },
    {
     "data": {
      "text/html": [
       "<div>\n",
       "<style scoped>\n",
       "    .dataframe tbody tr th:only-of-type {\n",
       "        vertical-align: middle;\n",
       "    }\n",
       "\n",
       "    .dataframe tbody tr th {\n",
       "        vertical-align: top;\n",
       "    }\n",
       "\n",
       "    .dataframe thead th {\n",
       "        text-align: right;\n",
       "    }\n",
       "</style>\n",
       "<table border=\"1\" class=\"dataframe\">\n",
       "  <thead>\n",
       "    <tr style=\"text-align: right;\">\n",
       "      <th></th>\n",
       "      <th>excerpt</th>\n",
       "    </tr>\n",
       "    <tr>\n",
       "      <th>id</th>\n",
       "      <th></th>\n",
       "    </tr>\n",
       "  </thead>\n",
       "  <tbody>\n",
       "    <tr>\n",
       "      <th>c0f722661</th>\n",
       "      <td>My hope lay in Jack's promise that he would ke...</td>\n",
       "    </tr>\n",
       "    <tr>\n",
       "      <th>f0953f0a5</th>\n",
       "      <td>Dotty continued to go to Mrs. Gray's every nig...</td>\n",
       "    </tr>\n",
       "    <tr>\n",
       "      <th>0df072751</th>\n",
       "      <td>It was a bright and cheerful scene that greete...</td>\n",
       "    </tr>\n",
       "    <tr>\n",
       "      <th>04caf4e0c</th>\n",
       "      <td>Cell division is the process by which a parent...</td>\n",
       "    </tr>\n",
       "    <tr>\n",
       "      <th>0e63f8bea</th>\n",
       "      <td>Debugging is the process of finding and resolv...</td>\n",
       "    </tr>\n",
       "  </tbody>\n",
       "</table>\n",
       "</div>"
      ],
      "text/plain": [
       "                                                     excerpt\n",
       "id                                                          \n",
       "c0f722661  My hope lay in Jack's promise that he would ke...\n",
       "f0953f0a5  Dotty continued to go to Mrs. Gray's every nig...\n",
       "0df072751  It was a bright and cheerful scene that greete...\n",
       "04caf4e0c  Cell division is the process by which a parent...\n",
       "0e63f8bea  Debugging is the process of finding and resolv..."
      ]
     },
     "execution_count": 3,
     "metadata": {},
     "output_type": "execute_result"
    }
   ],
   "source": [
    "test_df = pd.read_csv(\"../input/commonlitreadabilityprize/test.csv\")\n",
    "test_df.drop(['url_legal','license'], inplace=True, axis=1)\n",
    "test_df.set_index(\"id\", inplace=True)\n",
    "print(f\"test_df: {test_df.shape}\\n\")\n",
    "test_df.head()"
   ]
  },
  {
   "cell_type": "markdown",
   "id": "linear-departure",
   "metadata": {
    "papermill": {
     "duration": 0.031457,
     "end_time": "2021-06-05T17:42:31.928992",
     "exception": false,
     "start_time": "2021-06-05T17:42:31.897535",
     "status": "completed"
    },
    "tags": []
   },
   "source": [
    "## Extract target label"
   ]
  },
  {
   "cell_type": "code",
   "execution_count": 4,
   "id": "mathematical-connectivity",
   "metadata": {
    "execution": {
     "iopub.execute_input": "2021-06-05T17:42:32.015124Z",
     "iopub.status.busy": "2021-06-05T17:42:32.014378Z",
     "iopub.status.idle": "2021-06-05T17:42:32.321644Z",
     "shell.execute_reply": "2021-06-05T17:42:32.321113Z",
     "shell.execute_reply.started": "2021-06-05T17:16:05.182174Z"
    },
    "papermill": {
     "duration": 0.361306,
     "end_time": "2021-06-05T17:42:32.321859",
     "exception": false,
     "start_time": "2021-06-05T17:42:31.960553",
     "status": "completed"
    },
    "tags": []
   },
   "outputs": [
    {
     "data": {
      "image/png": "[encoded data removed]",
      "text/plain": [
       "<Figure size 1080x360 with 2 Axes>"
      ]
     },
     "metadata": {
      "needs_background": "light"
     },
     "output_type": "display_data"
    }
   ],
   "source": [
    "_, ax = plt.subplots(1, 2, figsize=(15, 5))\n",
    "sns.boxplot(x='target', data=train_df, ax=ax[0])\n",
    "sns.histplot(x='target', data=train_df, ax=ax[1])\n",
    "ax[0].title.set_text('Box Plot - target')\n",
    "ax[1].title.set_text('Hist Plot - target')"
   ]
  },
  {
   "cell_type": "code",
   "execution_count": 5,
   "id": "short-numbers",
   "metadata": {
    "execution": {
     "iopub.execute_input": "2021-06-05T17:42:32.394254Z",
     "iopub.status.busy": "2021-06-05T17:42:32.393248Z",
     "iopub.status.idle": "2021-06-05T17:42:32.400120Z",
     "shell.execute_reply": "2021-06-05T17:42:32.399609Z",
     "shell.execute_reply.started": "2021-06-05T17:16:07.232785Z"
    },
    "papermill": {
     "duration": 0.045298,
     "end_time": "2021-06-05T17:42:32.400314",
     "exception": false,
     "start_time": "2021-06-05T17:42:32.355016",
     "status": "completed"
    },
    "tags": []
   },
   "outputs": [
    {
     "name": "stdout",
     "output_type": "stream",
     "text": [
      "Ytrain: (2834,)\n"
     ]
    }
   ],
   "source": [
    "Ytrain = train_df['target'].values\n",
    "Ytrain_strat = pd.qcut(train_df['target'].values, q=5, labels=range(0,5))\n",
    "train_df.drop(['target'], inplace=True, axis=1)\n",
    "print(\"Ytrain: {}\".format(Ytrain.shape))"
   ]
  },
  {
   "cell_type": "markdown",
   "id": "conservative-stockholm",
   "metadata": {
    "papermill": {
     "duration": 0.032104,
     "end_time": "2021-06-05T17:42:32.465074",
     "exception": false,
     "start_time": "2021-06-05T17:42:32.432970",
     "status": "completed"
    },
    "tags": []
   },
   "source": [
    "## Feature Engineering"
   ]
  },
  {
   "cell_type": "code",
   "execution_count": 6,
   "id": "mexican-tiffany",
   "metadata": {
    "execution": {
     "iopub.execute_input": "2021-06-05T17:42:32.540539Z",
     "iopub.status.busy": "2021-06-05T17:42:32.539910Z",
     "iopub.status.idle": "2021-06-05T17:42:32.542797Z",
     "shell.execute_reply": "2021-06-05T17:42:32.543369Z",
     "shell.execute_reply.started": "2021-06-05T17:16:08.662556Z"
    },
    "papermill": {
     "duration": 0.045849,
     "end_time": "2021-06-05T17:42:32.543536",
     "exception": false,
     "start_time": "2021-06-05T17:42:32.497687",
     "status": "completed"
    },
    "tags": []
   },
   "outputs": [
    {
     "data": {
      "text/html": [
       "<div>\n",
       "<style scoped>\n",
       "    .dataframe tbody tr th:only-of-type {\n",
       "        vertical-align: middle;\n",
       "    }\n",
       "\n",
       "    .dataframe tbody tr th {\n",
       "        vertical-align: top;\n",
       "    }\n",
       "\n",
       "    .dataframe thead th {\n",
       "        text-align: right;\n",
       "    }\n",
       "</style>\n",
       "<table border=\"1\" class=\"dataframe\">\n",
       "  <thead>\n",
       "    <tr style=\"text-align: right;\">\n",
       "      <th></th>\n",
       "      <th>excerpt</th>\n",
       "    </tr>\n",
       "    <tr>\n",
       "      <th>id</th>\n",
       "      <th></th>\n",
       "    </tr>\n",
       "  </thead>\n",
       "  <tbody>\n",
       "    <tr>\n",
       "      <th>c12129c31</th>\n",
       "      <td>When the young people returned to the ballroom...</td>\n",
       "    </tr>\n",
       "    <tr>\n",
       "      <th>85aa80a4c</th>\n",
       "      <td>All through dinner time, Mrs. Fayre was somewh...</td>\n",
       "    </tr>\n",
       "    <tr>\n",
       "      <th>b69ac6792</th>\n",
       "      <td>As Roger had predicted, the snow departed as q...</td>\n",
       "    </tr>\n",
       "    <tr>\n",
       "      <th>dd1000b26</th>\n",
       "      <td>And outside before the palace a great garden w...</td>\n",
       "    </tr>\n",
       "    <tr>\n",
       "      <th>37c1b32fb</th>\n",
       "      <td>Once upon a time there were Three Bears who li...</td>\n",
       "    </tr>\n",
       "  </tbody>\n",
       "</table>\n",
       "</div>"
      ],
      "text/plain": [
       "                                                     excerpt\n",
       "id                                                          \n",
       "c12129c31  When the young people returned to the ballroom...\n",
       "85aa80a4c  All through dinner time, Mrs. Fayre was somewh...\n",
       "b69ac6792  As Roger had predicted, the snow departed as q...\n",
       "dd1000b26  And outside before the palace a great garden w...\n",
       "37c1b32fb  Once upon a time there were Three Bears who li..."
      ]
     },
     "execution_count": 6,
     "metadata": {},
     "output_type": "execute_result"
    }
   ],
   "source": [
    "combined_df = train_df.append(test_df, sort=False, ignore_index=False)\n",
    "combined_df.head()"
   ]
  },
  {
   "cell_type": "code",
   "execution_count": 7,
   "id": "bibliographic-justice",
   "metadata": {
    "execution": {
     "iopub.execute_input": "2021-06-05T17:42:32.612745Z",
     "iopub.status.busy": "2021-06-05T17:42:32.612056Z",
     "iopub.status.idle": "2021-06-05T17:43:42.862578Z",
     "shell.execute_reply": "2021-06-05T17:43:42.863106Z",
     "shell.execute_reply.started": "2021-06-05T17:16:10.292679Z"
    },
    "papermill": {
     "duration": 70.286789,
     "end_time": "2021-06-05T17:43:42.863347",
     "exception": false,
     "start_time": "2021-06-05T17:42:32.576558",
     "status": "completed"
    },
    "tags": []
   },
   "outputs": [
    {
     "data": {
      "text/html": [
       "<div>\n",
       "<style scoped>\n",
       "    .dataframe tbody tr th:only-of-type {\n",
       "        vertical-align: middle;\n",
       "    }\n",
       "\n",
       "    .dataframe tbody tr th {\n",
       "        vertical-align: top;\n",
       "    }\n",
       "\n",
       "    .dataframe thead th {\n",
       "        text-align: right;\n",
       "    }\n",
       "</style>\n",
       "<table border=\"1\" class=\"dataframe\">\n",
       "  <thead>\n",
       "    <tr style=\"text-align: right;\">\n",
       "      <th></th>\n",
       "      <th>excerpt</th>\n",
       "      <th>excerpt_num_words</th>\n",
       "      <th>excerpt_num_unique_words</th>\n",
       "      <th>excerpt_num_chars</th>\n",
       "      <th>excerpt_num_stopwords</th>\n",
       "      <th>excerpt_num_punctuations</th>\n",
       "      <th>excerpt_num_words_upper</th>\n",
       "      <th>excerpt_num_words_title</th>\n",
       "      <th>excerpt_mean_word_len</th>\n",
       "      <th>excerpt_polarity</th>\n",
       "      <th>excerpt_subjectivity</th>\n",
       "    </tr>\n",
       "    <tr>\n",
       "      <th>id</th>\n",
       "      <th></th>\n",
       "      <th></th>\n",
       "      <th></th>\n",
       "      <th></th>\n",
       "      <th></th>\n",
       "      <th></th>\n",
       "      <th></th>\n",
       "      <th></th>\n",
       "      <th></th>\n",
       "      <th></th>\n",
       "      <th></th>\n",
       "    </tr>\n",
       "  </thead>\n",
       "  <tbody>\n",
       "    <tr>\n",
       "      <th>c12129c31</th>\n",
       "      <td>When the young people returned to the ballroom...</td>\n",
       "      <td>179</td>\n",
       "      <td>114</td>\n",
       "      <td>992</td>\n",
       "      <td>88</td>\n",
       "      <td>27</td>\n",
       "      <td>0</td>\n",
       "      <td>16</td>\n",
       "      <td>4.547486</td>\n",
       "      <td>0.134848</td>\n",
       "      <td>0.525758</td>\n",
       "    </tr>\n",
       "    <tr>\n",
       "      <th>85aa80a4c</th>\n",
       "      <td>All through dinner time, Mrs. Fayre was somewh...</td>\n",
       "      <td>169</td>\n",
       "      <td>127</td>\n",
       "      <td>937</td>\n",
       "      <td>73</td>\n",
       "      <td>56</td>\n",
       "      <td>6</td>\n",
       "      <td>28</td>\n",
       "      <td>4.550296</td>\n",
       "      <td>0.133999</td>\n",
       "      <td>0.566643</td>\n",
       "    </tr>\n",
       "    <tr>\n",
       "      <th>b69ac6792</th>\n",
       "      <td>As Roger had predicted, the snow departed as q...</td>\n",
       "      <td>166</td>\n",
       "      <td>128</td>\n",
       "      <td>908</td>\n",
       "      <td>75</td>\n",
       "      <td>47</td>\n",
       "      <td>2</td>\n",
       "      <td>29</td>\n",
       "      <td>4.475904</td>\n",
       "      <td>0.082672</td>\n",
       "      <td>0.611640</td>\n",
       "    </tr>\n",
       "    <tr>\n",
       "      <th>dd1000b26</th>\n",
       "      <td>And outside before the palace a great garden w...</td>\n",
       "      <td>164</td>\n",
       "      <td>118</td>\n",
       "      <td>909</td>\n",
       "      <td>70</td>\n",
       "      <td>33</td>\n",
       "      <td>0</td>\n",
       "      <td>8</td>\n",
       "      <td>4.548780</td>\n",
       "      <td>0.333869</td>\n",
       "      <td>0.636667</td>\n",
       "    </tr>\n",
       "    <tr>\n",
       "      <th>37c1b32fb</th>\n",
       "      <td>Once upon a time there were Three Bears who li...</td>\n",
       "      <td>147</td>\n",
       "      <td>51</td>\n",
       "      <td>723</td>\n",
       "      <td>75</td>\n",
       "      <td>32</td>\n",
       "      <td>0</td>\n",
       "      <td>42</td>\n",
       "      <td>3.925170</td>\n",
       "      <td>0.198611</td>\n",
       "      <td>0.567593</td>\n",
       "    </tr>\n",
       "  </tbody>\n",
       "</table>\n",
       "</div>"
      ],
      "text/plain": [
       "                                                     excerpt  \\\n",
       "id                                                             \n",
       "c12129c31  When the young people returned to the ballroom...   \n",
       "85aa80a4c  All through dinner time, Mrs. Fayre was somewh...   \n",
       "b69ac6792  As Roger had predicted, the snow departed as q...   \n",
       "dd1000b26  And outside before the palace a great garden w...   \n",
       "37c1b32fb  Once upon a time there were Three Bears who li...   \n",
       "\n",
       "           excerpt_num_words  excerpt_num_unique_words  excerpt_num_chars  \\\n",
       "id                                                                          \n",
       "c12129c31                179                       114                992   \n",
       "85aa80a4c                169                       127                937   \n",
       "b69ac6792                166                       128                908   \n",
       "dd1000b26                164                       118                909   \n",
       "37c1b32fb                147                        51                723   \n",
       "\n",
       "           excerpt_num_stopwords  excerpt_num_punctuations  \\\n",
       "id                                                           \n",
       "c12129c31                     88                        27   \n",
       "85aa80a4c                     73                        56   \n",
       "b69ac6792                     75                        47   \n",
       "dd1000b26                     70                        33   \n",
       "37c1b32fb                     75                        32   \n",
       "\n",
       "           excerpt_num_words_upper  excerpt_num_words_title  \\\n",
       "id                                                            \n",
       "c12129c31                        0                       16   \n",
       "85aa80a4c                        6                       28   \n",
       "b69ac6792                        2                       29   \n",
       "dd1000b26                        0                        8   \n",
       "37c1b32fb                        0                       42   \n",
       "\n",
       "           excerpt_mean_word_len  excerpt_polarity  excerpt_subjectivity  \n",
       "id                                                                        \n",
       "c12129c31               4.547486          0.134848              0.525758  \n",
       "85aa80a4c               4.550296          0.133999              0.566643  \n",
       "b69ac6792               4.475904          0.082672              0.611640  \n",
       "dd1000b26               4.548780          0.333869              0.636667  \n",
       "37c1b32fb               3.925170          0.198611              0.567593  "
      ]
     },
     "execution_count": 7,
     "metadata": {},
     "output_type": "execute_result"
    }
   ],
   "source": [
    "combined_df[\"excerpt_num_words\"] = combined_df[\"excerpt\"].apply(lambda x: len(str(x).split()))\n",
    "combined_df[\"excerpt_num_unique_words\"] = combined_df[\"excerpt\"].apply(lambda x: len(set(str(x).split())))\n",
    "combined_df[\"excerpt_num_chars\"] = combined_df[\"excerpt\"].apply(lambda x: len(str(x)))\n",
    "combined_df[\"excerpt_num_stopwords\"] = combined_df[\"excerpt\"].apply(lambda x: len([w for w in str(x).lower().split() if w in set(stopwords.words('english'))]))\n",
    "combined_df[\"excerpt_num_punctuations\"] =combined_df['excerpt'].apply(lambda x: len([c for c in str(x) if c in string.punctuation]))\n",
    "combined_df[\"excerpt_num_words_upper\"] = combined_df[\"excerpt\"].apply(lambda x: len([w for w in str(x).split() if w.isupper()]))\n",
    "combined_df[\"excerpt_num_words_title\"] = combined_df[\"excerpt\"].apply(lambda x: len([w for w in str(x).split() if w.istitle()]))\n",
    "combined_df[\"excerpt_mean_word_len\"] = combined_df[\"excerpt\"].apply(lambda x: np.mean([len(w) for w in str(x).split()]))\n",
    "combined_df['excerpt_polarity'] = combined_df['excerpt'].apply(lambda x: TextBlob(x).sentiment[0])\n",
    "combined_df['excerpt_subjectivity'] = combined_df['excerpt'].apply(lambda x: TextBlob(x).sentiment[1])\n",
    "combined_df.head()"
   ]
  },
  {
   "cell_type": "code",
   "execution_count": 8,
   "id": "hungry-coast",
   "metadata": {
    "execution": {
     "iopub.execute_input": "2021-06-05T17:43:42.937035Z",
     "iopub.status.busy": "2021-06-05T17:43:42.936046Z",
     "iopub.status.idle": "2021-06-05T17:43:44.006516Z",
     "shell.execute_reply": "2021-06-05T17:43:44.007014Z",
     "shell.execute_reply.started": "2021-06-05T14:26:12.034182Z"
    },
    "papermill": {
     "duration": 1.11039,
     "end_time": "2021-06-05T17:43:44.007201",
     "exception": false,
     "start_time": "2021-06-05T17:43:42.896811",
     "status": "completed"
    },
    "tags": []
   },
   "outputs": [
    {
     "data": {
      "text/plain": [
       "<AxesSubplot:>"
      ]
     },
     "execution_count": 8,
     "metadata": {},
     "output_type": "execute_result"
    },
    {
     "data": {
      "image/png": "[encoded data removed]",
      "text/plain": [
       "<Figure size 1080x864 with 2 Axes>"
      ]
     },
     "metadata": {
      "needs_background": "light"
     },
     "output_type": "display_data"
    }
   ],
   "source": [
    "df = combined_df[:Ytrain.shape[0]].copy()\n",
    "df['target'] = Ytrain\n",
    "plt.subplots(1,1,figsize=(15,12))\n",
    "sns.heatmap(df.corr(),annot=True,cmap=\"RdYlGn\")"
   ]
  },
  {
   "cell_type": "code",
   "execution_count": 9,
   "id": "finnish-friendly",
   "metadata": {
    "execution": {
     "iopub.execute_input": "2021-06-05T17:43:44.121347Z",
     "iopub.status.busy": "2021-06-05T17:43:44.116202Z",
     "iopub.status.idle": "2021-06-05T17:43:48.973859Z",
     "shell.execute_reply": "2021-06-05T17:43:48.972811Z",
     "shell.execute_reply.started": "2021-06-05T17:17:20.072761Z"
    },
    "papermill": {
     "duration": 4.929402,
     "end_time": "2021-06-05T17:43:48.974025",
     "exception": false,
     "start_time": "2021-06-05T17:43:44.044623",
     "status": "completed"
    },
    "tags": []
   },
   "outputs": [
    {
     "data": {
      "text/plain": [
       "(2841, 511)"
      ]
     },
     "execution_count": 9,
     "metadata": {},
     "output_type": "execute_result"
    }
   ],
   "source": [
    "tfidf = TfidfVectorizer(stop_words='english', ngram_range=(1,5), \n",
    "                        analyzer='word', max_df=0.95, min_df=3, \n",
    "                        use_idf=1, sublinear_tf=1, \n",
    "                        max_features=500, strip_accents='ascii')\n",
    "features = tfidf.fit_transform(combined_df.excerpt).toarray()\n",
    "features_df = pd.DataFrame(features, \n",
    "                           columns=tfidf.get_feature_names(), \n",
    "                           index=combined_df.index)\n",
    "combined_df = pd.merge(combined_df, \n",
    "                       features_df, \n",
    "                       left_index=True, \n",
    "                       right_index=True)\n",
    "combined_df.shape"
   ]
  },
  {
   "cell_type": "code",
   "execution_count": 10,
   "id": "configured-relationship",
   "metadata": {
    "execution": {
     "iopub.execute_input": "2021-06-05T17:43:49.066547Z",
     "iopub.status.busy": "2021-06-05T17:43:49.061338Z",
     "iopub.status.idle": "2021-06-05T17:43:53.852225Z",
     "shell.execute_reply": "2021-06-05T17:43:53.852733Z",
     "shell.execute_reply.started": "2021-06-05T17:17:26.388703Z"
    },
    "papermill": {
     "duration": 4.84091,
     "end_time": "2021-06-05T17:43:53.852927",
     "exception": false,
     "start_time": "2021-06-05T17:43:49.012017",
     "status": "completed"
    },
    "tags": []
   },
   "outputs": [
    {
     "data": {
      "text/plain": [
       "(2841, 711)"
      ]
     },
     "execution_count": 10,
     "metadata": {},
     "output_type": "execute_result"
    }
   ],
   "source": [
    "countvec = CountVectorizer(stop_words='english', ngram_range=(1,5), \n",
    "                           analyzer='word', max_df=0.95, min_df=3, \n",
    "                           max_features=200, strip_accents='ascii')\n",
    "features = countvec.fit_transform(combined_df.excerpt).toarray()\n",
    "features_df = pd.DataFrame(features, \n",
    "                           columns=countvec.get_feature_names(), \n",
    "                           index=combined_df.index)\n",
    "combined_df = pd.merge(combined_df, \n",
    "                       features_df, \n",
    "                       left_index=True, \n",
    "                       right_index=True)\n",
    "combined_df.shape"
   ]
  },
  {
   "cell_type": "markdown",
   "id": "eight-jerusalem",
   "metadata": {
    "papermill": {
     "duration": 0.037747,
     "end_time": "2021-06-05T17:43:53.929083",
     "exception": false,
     "start_time": "2021-06-05T17:43:53.891336",
     "status": "completed"
    },
    "tags": []
   },
   "source": [
    "## Text data preprocessing"
   ]
  },
  {
   "cell_type": "code",
   "execution_count": 11,
   "id": "assumed-newcastle",
   "metadata": {
    "execution": {
     "iopub.execute_input": "2021-06-05T17:43:54.009424Z",
     "iopub.status.busy": "2021-06-05T17:43:54.008771Z",
     "iopub.status.idle": "2021-06-05T17:43:56.459262Z",
     "shell.execute_reply": "2021-06-05T17:43:56.458632Z",
     "shell.execute_reply.started": "2021-06-05T17:17:32.659127Z"
    },
    "papermill": {
     "duration": 2.492144,
     "end_time": "2021-06-05T17:43:56.459412",
     "exception": false,
     "start_time": "2021-06-05T17:43:53.967268",
     "status": "completed"
    },
    "tags": []
   },
   "outputs": [],
   "source": [
    "def remove_punctuations(text):\n",
    "    punct =[]\n",
    "    punct += list(string.punctuation)\n",
    "    punct += '’'\n",
    "    punct += '-'\n",
    "    punct.remove(\"'\")\n",
    "    \n",
    "    for punctuation in punct:\n",
    "        text = text.replace(punctuation, ' ')\n",
    "    return text\n",
    "\n",
    "\n",
    "lemmatizer = WordNetLemmatizer()\n",
    "wordnet_map = {\n",
    "    \"N\": wordnet.NOUN, \n",
    "    \"V\": wordnet.VERB, \n",
    "    \"J\": wordnet.ADJ, \n",
    "    \"R\": wordnet.ADV\n",
    "}\n",
    "\n",
    "def lemmatize_words(text):\n",
    "    pos_tagged_text = nltk.pos_tag(text.split())\n",
    "    return \" \".join([lemmatizer.lemmatize(word, wordnet_map.get(pos[0], wordnet.NOUN)) for word, pos in pos_tagged_text])"
   ]
  },
  {
   "cell_type": "code",
   "execution_count": 12,
   "id": "floating-consolidation",
   "metadata": {
    "execution": {
     "iopub.execute_input": "2021-06-05T17:43:56.542361Z",
     "iopub.status.busy": "2021-06-05T17:43:56.541337Z",
     "iopub.status.idle": "2021-06-05T17:44:16.727743Z",
     "shell.execute_reply": "2021-06-05T17:44:16.727198Z",
     "shell.execute_reply.started": "2021-06-05T17:17:35.484408Z"
    },
    "papermill": {
     "duration": 20.230519,
     "end_time": "2021-06-05T17:44:16.727890",
     "exception": false,
     "start_time": "2021-06-05T17:43:56.497371",
     "status": "completed"
    },
    "tags": []
   },
   "outputs": [],
   "source": [
    "combined_df[\"Processed_excerpt\"] = combined_df[\"excerpt\"].str.lower()\n",
    "combined_df['Processed_excerpt'] = combined_df['Processed_excerpt'].apply(remove_punctuations)\n",
    "\n",
    "stop_words = set(stopwords.words('english'))\n",
    "combined_df['Processed_excerpt'] = combined_df['Processed_excerpt'].apply(lambda text: \" \".join([word for word in str(text).split() if word not in stop_words]))\n",
    "combined_df['Processed_excerpt'] = combined_df['Processed_excerpt'].apply(lambda text: lemmatize_words(text))"
   ]
  },
  {
   "cell_type": "code",
   "execution_count": 13,
   "id": "aboriginal-belgium",
   "metadata": {
    "execution": {
     "iopub.execute_input": "2021-06-05T17:44:16.813890Z",
     "iopub.status.busy": "2021-06-05T17:44:16.813072Z",
     "iopub.status.idle": "2021-06-05T17:44:16.816798Z",
     "shell.execute_reply": "2021-06-05T17:44:16.817281Z",
     "shell.execute_reply.started": "2021-06-05T14:28:12.153155Z"
    },
    "papermill": {
     "duration": 0.0511,
     "end_time": "2021-06-05T17:44:16.817446",
     "exception": false,
     "start_time": "2021-06-05T17:44:16.766346",
     "status": "completed"
    },
    "tags": []
   },
   "outputs": [
    {
     "name": "stdout",
     "output_type": "stream",
     "text": [
      "Original Excerpt: \n",
      "When the young people returned to the ballroom, it presented a decidedly changed appearance. Instead of an interior scene, it was a winter landscape.\n",
      "The floor was covered with snow-white canvas, not laid on smoothly, but rumpled over bumps and hillocks, like a real snow field. The numerous palms and evergreens that had decorated the room, were powdered with flour and strewn with tufts of cotton, like snow. Also diamond dust had been lightly sprinkled on them, and glittering crystal icicles hung from the branches.\n",
      "At each end of the room, on the wall, hung a beautiful bear-skin rug.\n",
      "These rugs were for prizes, one for the girls and one for the boys. And this was the game.\n",
      "The girls were gathered at one end of the room and the boys at the other, and one end was called the North Pole, and the other the South Pole. Each player was given a small flag which they were to plant on reaching the Pole.\n",
      "This would have been an easy matter, but each traveller was obliged to wear snowshoes. \n",
      "\n",
      "Processed Excerpt: \n",
      "young people return ballroom present decidedly change appearance instead interior scene winter landscape floor cover snow white canvas lay smoothly rumple bump hillock like real snow field numerous palm evergreen decorate room powder flour strewn tuft cotton like snow also diamond dust lightly sprinkle glitter crystal icicle hang branch end room wall hung beautiful bear skin rug rug prize one girl one boys game girl gather one end room boys one end call north pole south pole player give small flag plant reach pole would easy matter traveller oblige wear snowshoe\n",
      "\n",
      "\n",
      "Original Excerpt: \n",
      "All through dinner time, Mrs. Fayre was somewhat silent, her eyes resting on Dolly with a wistful, uncertain expression. She wanted to give the child the pleasure she craved, but she had hard work to bring herself to the point of overcoming her own objections.\n",
      "At last, however, when the meal was nearly over, she smiled at her little daughter, and said, \"All right, Dolly, you may go.\"\n",
      "\"Oh, mother!\" Dolly cried, overwhelmed with sudden delight. \"Really?\n",
      "Oh, I am so glad! Are you sure you're willing?\"\n",
      "\"I've persuaded myself to be willing, against my will,\" returned Mrs. Fayre, whimsically. \"I confess I just hate to have you go, but I can't bear to deprive you of the pleasure trip. And, as you say, it would also keep Dotty at home, and so, altogether, I think I shall have to give in.\"\n",
      "\"Oh, you angel mother! You blessed lady! How good you are!\" And Dolly flew around the table and gave her mother a hug that nearly suffocated her. \n",
      "\n",
      "Processed Excerpt: \n",
      "dinner time mrs fayre somewhat silent eye rest dolly wistful uncertain expression want give child pleasure crave hard work bring point overcome objection last however meal nearly smile little daughter say right dolly may go oh mother dolly cry overwhelmed sudden delight really oh glad sure willing i've persuade willing return mr fayre whimsically confess hate go can't bear deprive pleasure trip say would also keep dotty home altogether think shall give oh angel mother bless lady good dolly fly around table give mother hug nearly suffocate\n",
      "\n",
      "\n",
      "Original Excerpt: \n",
      "As Roger had predicted, the snow departed as quickly as it came, and two days after their sleigh ride there was scarcely a vestige of white on the ground. Tennis was again possible and a great game was in progress on the court at Pine Laurel. Patty and Roger were playing against Elise and Sam Blaney, and the pairs were well matched.\n",
      "But the long-contested victory finally went against Patty, and she laughingly accepted defeat.\n",
      "\"Only because Patty's not quite back on her game yet,\" Roger defended; \"this child has been on the sick list, you know, Sam, and she isn't up to her own mark.\"\n",
      "\"Well, I like that!\" cried Patty; \"suppose you bear half the blame, Roger. You see, Mr. Blaney, he is so absorbed in his own Love Game, he can't play with his old-time skill.\"\n",
      "\"All right, Patsy, let it go at that. And it's so, too. I suddenly remembered something Mona told me to tell you, and it affected my service.\" \n",
      "\n",
      "Processed Excerpt: \n",
      "roger predict snow departed quickly come two day sleigh ride scarcely vestige white ground tennis possible great game progress court pine laurel patty roger play elise sam blaney pair well match long contested victory finally go patty laughingly accept defeat patty's quite back game yet roger defend child sick list know sam mark well like cry patty suppose bear half blame roger see mr blaney absorb love game can't play old time skill right patsy let go suddenly remember something mona tell tell affected service\n",
      "\n",
      "\n"
     ]
    }
   ],
   "source": [
    "for i in range(3):\n",
    "    print(f\"Original Excerpt: \\n{combined_df.iloc[i]['excerpt']} \\n\\nProcessed Excerpt: \\n{combined_df.iloc[i]['Processed_excerpt']}\\n\\n\")"
   ]
  },
  {
   "cell_type": "markdown",
   "id": "guided-morrison",
   "metadata": {
    "papermill": {
     "duration": 0.038125,
     "end_time": "2021-06-05T17:44:16.894020",
     "exception": false,
     "start_time": "2021-06-05T17:44:16.855895",
     "status": "completed"
    },
    "tags": []
   },
   "source": [
    "## Glove Embeddings"
   ]
  },
  {
   "cell_type": "code",
   "execution_count": 14,
   "id": "united-temple",
   "metadata": {
    "execution": {
     "iopub.execute_input": "2021-06-05T17:44:16.977315Z",
     "iopub.status.busy": "2021-06-05T17:44:16.976678Z",
     "iopub.status.idle": "2021-06-05T17:48:36.497775Z",
     "shell.execute_reply": "2021-06-05T17:48:36.498477Z",
     "shell.execute_reply.started": "2021-06-05T17:17:56.989530Z"
    },
    "papermill": {
     "duration": 259.565662,
     "end_time": "2021-06-05T17:48:36.498688",
     "exception": false,
     "start_time": "2021-06-05T17:44:16.933026",
     "status": "completed"
    },
    "tags": []
   },
   "outputs": [
    {
     "name": "stderr",
     "output_type": "stream",
     "text": [
      "2196018it [04:19, 8462.18it/s]"
     ]
    },
    {
     "name": "stdout",
     "output_type": "stream",
     "text": [
      "Word vectors found: 2196017\n"
     ]
    },
    {
     "name": "stderr",
     "output_type": "stream",
     "text": [
      "\n"
     ]
    }
   ],
   "source": [
    "embeddings_index = {}\n",
    "f = open('../input/glove840b300dtxt/glove.840B.300d.txt', encoding='utf8')\n",
    "for line in tqdm(f):\n",
    "    values = line.split(' ')\n",
    "    word = values[0]\n",
    "    coefs = np.asarray(values[1:], dtype='float32')\n",
    "    embeddings_index[word] = coefs\n",
    "f.close()\n",
    "\n",
    "print('Word vectors found: {}'.format(len(embeddings_index)))"
   ]
  },
  {
   "cell_type": "code",
   "execution_count": 15,
   "id": "planned-monday",
   "metadata": {
    "execution": {
     "iopub.execute_input": "2021-06-05T17:48:38.188582Z",
     "iopub.status.busy": "2021-06-05T17:48:38.187688Z",
     "iopub.status.idle": "2021-06-05T17:48:38.191119Z",
     "shell.execute_reply": "2021-06-05T17:48:38.190473Z",
     "shell.execute_reply.started": "2021-06-05T17:22:28.066178Z"
    },
    "papermill": {
     "duration": 0.820699,
     "end_time": "2021-06-05T17:48:38.191291",
     "exception": false,
     "start_time": "2021-06-05T17:48:37.370592",
     "status": "completed"
    },
    "tags": []
   },
   "outputs": [],
   "source": [
    "def sent2vec(text):\n",
    "    words = nltk.word_tokenize(text)\n",
    "    words = [w for w in words if w.isalpha()]\n",
    "    \n",
    "    M = []\n",
    "    for w in words:\n",
    "        try:\n",
    "            M.append(embeddings_index[w])\n",
    "        except:\n",
    "            continue\n",
    "    \n",
    "    M = np.array(M)\n",
    "    v = M.sum(axis=0)\n",
    "    if type(v) != np.ndarray:\n",
    "        return np.zeros(300)\n",
    "    \n",
    "    return v / np.sqrt((v ** 2).sum())"
   ]
  },
  {
   "cell_type": "code",
   "execution_count": 16,
   "id": "passive-boxing",
   "metadata": {
    "execution": {
     "iopub.execute_input": "2021-06-05T17:48:39.782925Z",
     "iopub.status.busy": "2021-06-05T17:48:39.782172Z",
     "iopub.status.idle": "2021-06-05T17:48:42.991709Z",
     "shell.execute_reply": "2021-06-05T17:48:42.991105Z",
     "shell.execute_reply.started": "2021-06-05T17:22:28.078569Z"
    },
    "papermill": {
     "duration": 4.010981,
     "end_time": "2021-06-05T17:48:42.991866",
     "exception": false,
     "start_time": "2021-06-05T17:48:38.980885",
     "status": "completed"
    },
    "tags": []
   },
   "outputs": [
    {
     "name": "stderr",
     "output_type": "stream",
     "text": [
      "100%|██████████| 2841/2841 [00:03<00:00, 896.18it/s]\n"
     ]
    },
    {
     "name": "stdout",
     "output_type": "stream",
     "text": [
      "glove_vec_df: (2841, 300)\n",
      "\n"
     ]
    },
    {
     "data": {
      "text/html": [
       "<div>\n",
       "<style scoped>\n",
       "    .dataframe tbody tr th:only-of-type {\n",
       "        vertical-align: middle;\n",
       "    }\n",
       "\n",
       "    .dataframe tbody tr th {\n",
       "        vertical-align: top;\n",
       "    }\n",
       "\n",
       "    .dataframe thead th {\n",
       "        text-align: right;\n",
       "    }\n",
       "</style>\n",
       "<table border=\"1\" class=\"dataframe\">\n",
       "  <thead>\n",
       "    <tr style=\"text-align: right;\">\n",
       "      <th></th>\n",
       "      <th>glove_0</th>\n",
       "      <th>glove_1</th>\n",
       "      <th>glove_2</th>\n",
       "      <th>glove_3</th>\n",
       "      <th>glove_4</th>\n",
       "      <th>glove_5</th>\n",
       "      <th>glove_6</th>\n",
       "      <th>glove_7</th>\n",
       "      <th>glove_8</th>\n",
       "      <th>glove_9</th>\n",
       "      <th>...</th>\n",
       "      <th>glove_290</th>\n",
       "      <th>glove_291</th>\n",
       "      <th>glove_292</th>\n",
       "      <th>glove_293</th>\n",
       "      <th>glove_294</th>\n",
       "      <th>glove_295</th>\n",
       "      <th>glove_296</th>\n",
       "      <th>glove_297</th>\n",
       "      <th>glove_298</th>\n",
       "      <th>glove_299</th>\n",
       "    </tr>\n",
       "    <tr>\n",
       "      <th>id</th>\n",
       "      <th></th>\n",
       "      <th></th>\n",
       "      <th></th>\n",
       "      <th></th>\n",
       "      <th></th>\n",
       "      <th></th>\n",
       "      <th></th>\n",
       "      <th></th>\n",
       "      <th></th>\n",
       "      <th></th>\n",
       "      <th></th>\n",
       "      <th></th>\n",
       "      <th></th>\n",
       "      <th></th>\n",
       "      <th></th>\n",
       "      <th></th>\n",
       "      <th></th>\n",
       "      <th></th>\n",
       "      <th></th>\n",
       "      <th></th>\n",
       "      <th></th>\n",
       "    </tr>\n",
       "  </thead>\n",
       "  <tbody>\n",
       "    <tr>\n",
       "      <th>c12129c31</th>\n",
       "      <td>0.033669</td>\n",
       "      <td>0.012238</td>\n",
       "      <td>-0.035305</td>\n",
       "      <td>-0.008709</td>\n",
       "      <td>0.038870</td>\n",
       "      <td>-0.028476</td>\n",
       "      <td>-0.015069</td>\n",
       "      <td>0.005277</td>\n",
       "      <td>-0.035859</td>\n",
       "      <td>0.548087</td>\n",
       "      <td>...</td>\n",
       "      <td>-0.068576</td>\n",
       "      <td>0.022603</td>\n",
       "      <td>-0.002322</td>\n",
       "      <td>-0.051515</td>\n",
       "      <td>-0.049056</td>\n",
       "      <td>0.028095</td>\n",
       "      <td>0.001688</td>\n",
       "      <td>-0.008225</td>\n",
       "      <td>0.010827</td>\n",
       "      <td>0.012746</td>\n",
       "    </tr>\n",
       "    <tr>\n",
       "      <th>85aa80a4c</th>\n",
       "      <td>-0.019873</td>\n",
       "      <td>0.025533</td>\n",
       "      <td>-0.052267</td>\n",
       "      <td>-0.004472</td>\n",
       "      <td>0.029036</td>\n",
       "      <td>-0.005929</td>\n",
       "      <td>0.009999</td>\n",
       "      <td>-0.032305</td>\n",
       "      <td>-0.004191</td>\n",
       "      <td>0.629193</td>\n",
       "      <td>...</td>\n",
       "      <td>-0.024791</td>\n",
       "      <td>0.022257</td>\n",
       "      <td>-0.012150</td>\n",
       "      <td>-0.001441</td>\n",
       "      <td>0.040466</td>\n",
       "      <td>0.001833</td>\n",
       "      <td>0.007985</td>\n",
       "      <td>0.000673</td>\n",
       "      <td>0.017946</td>\n",
       "      <td>-0.009405</td>\n",
       "    </tr>\n",
       "    <tr>\n",
       "      <th>b69ac6792</th>\n",
       "      <td>0.004285</td>\n",
       "      <td>0.042881</td>\n",
       "      <td>-0.030037</td>\n",
       "      <td>-0.010338</td>\n",
       "      <td>0.020451</td>\n",
       "      <td>-0.011777</td>\n",
       "      <td>0.001679</td>\n",
       "      <td>-0.009315</td>\n",
       "      <td>0.012415</td>\n",
       "      <td>0.619787</td>\n",
       "      <td>...</td>\n",
       "      <td>-0.016811</td>\n",
       "      <td>0.009494</td>\n",
       "      <td>-0.034815</td>\n",
       "      <td>-0.031489</td>\n",
       "      <td>0.037929</td>\n",
       "      <td>-0.015708</td>\n",
       "      <td>-0.000411</td>\n",
       "      <td>-0.024075</td>\n",
       "      <td>0.028293</td>\n",
       "      <td>0.000118</td>\n",
       "    </tr>\n",
       "    <tr>\n",
       "      <th>dd1000b26</th>\n",
       "      <td>0.017831</td>\n",
       "      <td>0.011077</td>\n",
       "      <td>-0.006614</td>\n",
       "      <td>-0.038913</td>\n",
       "      <td>0.024121</td>\n",
       "      <td>-0.018686</td>\n",
       "      <td>0.007651</td>\n",
       "      <td>0.035786</td>\n",
       "      <td>-0.028972</td>\n",
       "      <td>0.510873</td>\n",
       "      <td>...</td>\n",
       "      <td>-0.044353</td>\n",
       "      <td>0.012021</td>\n",
       "      <td>-0.026555</td>\n",
       "      <td>-0.043063</td>\n",
       "      <td>-0.049698</td>\n",
       "      <td>0.028495</td>\n",
       "      <td>0.012140</td>\n",
       "      <td>-0.018120</td>\n",
       "      <td>0.015062</td>\n",
       "      <td>0.016174</td>\n",
       "    </tr>\n",
       "    <tr>\n",
       "      <th>37c1b32fb</th>\n",
       "      <td>-0.017218</td>\n",
       "      <td>0.005056</td>\n",
       "      <td>-0.058754</td>\n",
       "      <td>-0.003294</td>\n",
       "      <td>0.014369</td>\n",
       "      <td>-0.017181</td>\n",
       "      <td>-0.031906</td>\n",
       "      <td>-0.044830</td>\n",
       "      <td>0.012954</td>\n",
       "      <td>0.532730</td>\n",
       "      <td>...</td>\n",
       "      <td>-0.080492</td>\n",
       "      <td>0.027223</td>\n",
       "      <td>0.022768</td>\n",
       "      <td>-0.014430</td>\n",
       "      <td>-0.034158</td>\n",
       "      <td>0.069565</td>\n",
       "      <td>0.017238</td>\n",
       "      <td>-0.024926</td>\n",
       "      <td>-0.028499</td>\n",
       "      <td>-0.020506</td>\n",
       "    </tr>\n",
       "  </tbody>\n",
       "</table>\n",
       "<p>5 rows × 300 columns</p>\n",
       "</div>"
      ],
      "text/plain": [
       "            glove_0   glove_1   glove_2   glove_3   glove_4   glove_5  \\\n",
       "id                                                                      \n",
       "c12129c31  0.033669  0.012238 -0.035305 -0.008709  0.038870 -0.028476   \n",
       "85aa80a4c -0.019873  0.025533 -0.052267 -0.004472  0.029036 -0.005929   \n",
       "b69ac6792  0.004285  0.042881 -0.030037 -0.010338  0.020451 -0.011777   \n",
       "dd1000b26  0.017831  0.011077 -0.006614 -0.038913  0.024121 -0.018686   \n",
       "37c1b32fb -0.017218  0.005056 -0.058754 -0.003294  0.014369 -0.017181   \n",
       "\n",
       "            glove_6   glove_7   glove_8   glove_9  ...  glove_290  glove_291  \\\n",
       "id                                                 ...                         \n",
       "c12129c31 -0.015069  0.005277 -0.035859  0.548087  ...  -0.068576   0.022603   \n",
       "85aa80a4c  0.009999 -0.032305 -0.004191  0.629193  ...  -0.024791   0.022257   \n",
       "b69ac6792  0.001679 -0.009315  0.012415  0.619787  ...  -0.016811   0.009494   \n",
       "dd1000b26  0.007651  0.035786 -0.028972  0.510873  ...  -0.044353   0.012021   \n",
       "37c1b32fb -0.031906 -0.044830  0.012954  0.532730  ...  -0.080492   0.027223   \n",
       "\n",
       "           glove_292  glove_293  glove_294  glove_295  glove_296  glove_297  \\\n",
       "id                                                                            \n",
       "c12129c31  -0.002322  -0.051515  -0.049056   0.028095   0.001688  -0.008225   \n",
       "85aa80a4c  -0.012150  -0.001441   0.040466   0.001833   0.007985   0.000673   \n",
       "b69ac6792  -0.034815  -0.031489   0.037929  -0.015708  -0.000411  -0.024075   \n",
       "dd1000b26  -0.026555  -0.043063  -0.049698   0.028495   0.012140  -0.018120   \n",
       "37c1b32fb   0.022768  -0.014430  -0.034158   0.069565   0.017238  -0.024926   \n",
       "\n",
       "           glove_298  glove_299  \n",
       "id                               \n",
       "c12129c31   0.010827   0.012746  \n",
       "85aa80a4c   0.017946  -0.009405  \n",
       "b69ac6792   0.028293   0.000118  \n",
       "dd1000b26   0.015062   0.016174  \n",
       "37c1b32fb  -0.028499  -0.020506  \n",
       "\n",
       "[5 rows x 300 columns]"
      ]
     },
     "execution_count": 16,
     "metadata": {},
     "output_type": "execute_result"
    }
   ],
   "source": [
    "glove_vec = [sent2vec(x) for x in tqdm(combined_df[\"Processed_excerpt\"].values)]\n",
    "col_list = ['glove_'+str(i) for i in range(300)]\n",
    "glove_vec_df = pd.DataFrame(np.array(glove_vec), columns=col_list, index=combined_df.index)\n",
    "print(f\"glove_vec_df: {glove_vec_df.shape}\\n\")\n",
    "glove_vec_df.head()"
   ]
  },
  {
   "cell_type": "code",
   "execution_count": 17,
   "id": "warming-parent",
   "metadata": {
    "execution": {
     "iopub.execute_input": "2021-06-05T17:48:44.630985Z",
     "iopub.status.busy": "2021-06-05T17:48:44.630355Z",
     "iopub.status.idle": "2021-06-05T17:48:44.700827Z",
     "shell.execute_reply": "2021-06-05T17:48:44.700223Z",
     "shell.execute_reply.started": "2021-06-05T17:22:31.577792Z"
    },
    "papermill": {
     "duration": 0.90312,
     "end_time": "2021-06-05T17:48:44.700975",
     "exception": false,
     "start_time": "2021-06-05T17:48:43.797855",
     "status": "completed"
    },
    "tags": []
   },
   "outputs": [
    {
     "name": "stdout",
     "output_type": "stream",
     "text": [
      "combined_df: (2841, 1010)\n",
      "\n"
     ]
    },
    {
     "data": {
      "text/html": [
       "<div>\n",
       "<style scoped>\n",
       "    .dataframe tbody tr th:only-of-type {\n",
       "        vertical-align: middle;\n",
       "    }\n",
       "\n",
       "    .dataframe tbody tr th {\n",
       "        vertical-align: top;\n",
       "    }\n",
       "\n",
       "    .dataframe thead th {\n",
       "        text-align: right;\n",
       "    }\n",
       "</style>\n",
       "<table border=\"1\" class=\"dataframe\">\n",
       "  <thead>\n",
       "    <tr style=\"text-align: right;\">\n",
       "      <th></th>\n",
       "      <th>excerpt_num_words</th>\n",
       "      <th>excerpt_num_unique_words</th>\n",
       "      <th>excerpt_num_chars</th>\n",
       "      <th>excerpt_num_stopwords</th>\n",
       "      <th>excerpt_num_punctuations</th>\n",
       "      <th>excerpt_num_words_upper</th>\n",
       "      <th>excerpt_num_words_title</th>\n",
       "      <th>excerpt_mean_word_len</th>\n",
       "      <th>excerpt_polarity</th>\n",
       "      <th>excerpt_subjectivity</th>\n",
       "      <th>...</th>\n",
       "      <th>glove_290</th>\n",
       "      <th>glove_291</th>\n",
       "      <th>glove_292</th>\n",
       "      <th>glove_293</th>\n",
       "      <th>glove_294</th>\n",
       "      <th>glove_295</th>\n",
       "      <th>glove_296</th>\n",
       "      <th>glove_297</th>\n",
       "      <th>glove_298</th>\n",
       "      <th>glove_299</th>\n",
       "    </tr>\n",
       "    <tr>\n",
       "      <th>id</th>\n",
       "      <th></th>\n",
       "      <th></th>\n",
       "      <th></th>\n",
       "      <th></th>\n",
       "      <th></th>\n",
       "      <th></th>\n",
       "      <th></th>\n",
       "      <th></th>\n",
       "      <th></th>\n",
       "      <th></th>\n",
       "      <th></th>\n",
       "      <th></th>\n",
       "      <th></th>\n",
       "      <th></th>\n",
       "      <th></th>\n",
       "      <th></th>\n",
       "      <th></th>\n",
       "      <th></th>\n",
       "      <th></th>\n",
       "      <th></th>\n",
       "      <th></th>\n",
       "    </tr>\n",
       "  </thead>\n",
       "  <tbody>\n",
       "    <tr>\n",
       "      <th>c12129c31</th>\n",
       "      <td>179</td>\n",
       "      <td>114</td>\n",
       "      <td>992</td>\n",
       "      <td>88</td>\n",
       "      <td>27</td>\n",
       "      <td>0</td>\n",
       "      <td>16</td>\n",
       "      <td>4.547486</td>\n",
       "      <td>0.134848</td>\n",
       "      <td>0.525758</td>\n",
       "      <td>...</td>\n",
       "      <td>-0.068576</td>\n",
       "      <td>0.022603</td>\n",
       "      <td>-0.002322</td>\n",
       "      <td>-0.051515</td>\n",
       "      <td>-0.049056</td>\n",
       "      <td>0.028095</td>\n",
       "      <td>0.001688</td>\n",
       "      <td>-0.008225</td>\n",
       "      <td>0.010827</td>\n",
       "      <td>0.012746</td>\n",
       "    </tr>\n",
       "    <tr>\n",
       "      <th>85aa80a4c</th>\n",
       "      <td>169</td>\n",
       "      <td>127</td>\n",
       "      <td>937</td>\n",
       "      <td>73</td>\n",
       "      <td>56</td>\n",
       "      <td>6</td>\n",
       "      <td>28</td>\n",
       "      <td>4.550296</td>\n",
       "      <td>0.133999</td>\n",
       "      <td>0.566643</td>\n",
       "      <td>...</td>\n",
       "      <td>-0.024791</td>\n",
       "      <td>0.022257</td>\n",
       "      <td>-0.012150</td>\n",
       "      <td>-0.001441</td>\n",
       "      <td>0.040466</td>\n",
       "      <td>0.001833</td>\n",
       "      <td>0.007985</td>\n",
       "      <td>0.000673</td>\n",
       "      <td>0.017946</td>\n",
       "      <td>-0.009405</td>\n",
       "    </tr>\n",
       "    <tr>\n",
       "      <th>b69ac6792</th>\n",
       "      <td>166</td>\n",
       "      <td>128</td>\n",
       "      <td>908</td>\n",
       "      <td>75</td>\n",
       "      <td>47</td>\n",
       "      <td>2</td>\n",
       "      <td>29</td>\n",
       "      <td>4.475904</td>\n",
       "      <td>0.082672</td>\n",
       "      <td>0.611640</td>\n",
       "      <td>...</td>\n",
       "      <td>-0.016811</td>\n",
       "      <td>0.009494</td>\n",
       "      <td>-0.034815</td>\n",
       "      <td>-0.031489</td>\n",
       "      <td>0.037929</td>\n",
       "      <td>-0.015708</td>\n",
       "      <td>-0.000411</td>\n",
       "      <td>-0.024075</td>\n",
       "      <td>0.028293</td>\n",
       "      <td>0.000118</td>\n",
       "    </tr>\n",
       "    <tr>\n",
       "      <th>dd1000b26</th>\n",
       "      <td>164</td>\n",
       "      <td>118</td>\n",
       "      <td>909</td>\n",
       "      <td>70</td>\n",
       "      <td>33</td>\n",
       "      <td>0</td>\n",
       "      <td>8</td>\n",
       "      <td>4.548780</td>\n",
       "      <td>0.333869</td>\n",
       "      <td>0.636667</td>\n",
       "      <td>...</td>\n",
       "      <td>-0.044353</td>\n",
       "      <td>0.012021</td>\n",
       "      <td>-0.026555</td>\n",
       "      <td>-0.043063</td>\n",
       "      <td>-0.049698</td>\n",
       "      <td>0.028495</td>\n",
       "      <td>0.012140</td>\n",
       "      <td>-0.018120</td>\n",
       "      <td>0.015062</td>\n",
       "      <td>0.016174</td>\n",
       "    </tr>\n",
       "    <tr>\n",
       "      <th>37c1b32fb</th>\n",
       "      <td>147</td>\n",
       "      <td>51</td>\n",
       "      <td>723</td>\n",
       "      <td>75</td>\n",
       "      <td>32</td>\n",
       "      <td>0</td>\n",
       "      <td>42</td>\n",
       "      <td>3.925170</td>\n",
       "      <td>0.198611</td>\n",
       "      <td>0.567593</td>\n",
       "      <td>...</td>\n",
       "      <td>-0.080492</td>\n",
       "      <td>0.027223</td>\n",
       "      <td>0.022768</td>\n",
       "      <td>-0.014430</td>\n",
       "      <td>-0.034158</td>\n",
       "      <td>0.069565</td>\n",
       "      <td>0.017238</td>\n",
       "      <td>-0.024926</td>\n",
       "      <td>-0.028499</td>\n",
       "      <td>-0.020506</td>\n",
       "    </tr>\n",
       "  </tbody>\n",
       "</table>\n",
       "<p>5 rows × 1010 columns</p>\n",
       "</div>"
      ],
      "text/plain": [
       "           excerpt_num_words  excerpt_num_unique_words  excerpt_num_chars  \\\n",
       "id                                                                          \n",
       "c12129c31                179                       114                992   \n",
       "85aa80a4c                169                       127                937   \n",
       "b69ac6792                166                       128                908   \n",
       "dd1000b26                164                       118                909   \n",
       "37c1b32fb                147                        51                723   \n",
       "\n",
       "           excerpt_num_stopwords  excerpt_num_punctuations  \\\n",
       "id                                                           \n",
       "c12129c31                     88                        27   \n",
       "85aa80a4c                     73                        56   \n",
       "b69ac6792                     75                        47   \n",
       "dd1000b26                     70                        33   \n",
       "37c1b32fb                     75                        32   \n",
       "\n",
       "           excerpt_num_words_upper  excerpt_num_words_title  \\\n",
       "id                                                            \n",
       "c12129c31                        0                       16   \n",
       "85aa80a4c                        6                       28   \n",
       "b69ac6792                        2                       29   \n",
       "dd1000b26                        0                        8   \n",
       "37c1b32fb                        0                       42   \n",
       "\n",
       "           excerpt_mean_word_len  excerpt_polarity  excerpt_subjectivity  ...  \\\n",
       "id                                                                        ...   \n",
       "c12129c31               4.547486          0.134848              0.525758  ...   \n",
       "85aa80a4c               4.550296          0.133999              0.566643  ...   \n",
       "b69ac6792               4.475904          0.082672              0.611640  ...   \n",
       "dd1000b26               4.548780          0.333869              0.636667  ...   \n",
       "37c1b32fb               3.925170          0.198611              0.567593  ...   \n",
       "\n",
       "           glove_290  glove_291  glove_292  glove_293  glove_294  glove_295  \\\n",
       "id                                                                            \n",
       "c12129c31  -0.068576   0.022603  -0.002322  -0.051515  -0.049056   0.028095   \n",
       "85aa80a4c  -0.024791   0.022257  -0.012150  -0.001441   0.040466   0.001833   \n",
       "b69ac6792  -0.016811   0.009494  -0.034815  -0.031489   0.037929  -0.015708   \n",
       "dd1000b26  -0.044353   0.012021  -0.026555  -0.043063  -0.049698   0.028495   \n",
       "37c1b32fb  -0.080492   0.027223   0.022768  -0.014430  -0.034158   0.069565   \n",
       "\n",
       "           glove_296  glove_297  glove_298  glove_299  \n",
       "id                                                     \n",
       "c12129c31   0.001688  -0.008225   0.010827   0.012746  \n",
       "85aa80a4c   0.007985   0.000673   0.017946  -0.009405  \n",
       "b69ac6792  -0.000411  -0.024075   0.028293   0.000118  \n",
       "dd1000b26   0.012140  -0.018120   0.015062   0.016174  \n",
       "37c1b32fb   0.017238  -0.024926  -0.028499  -0.020506  \n",
       "\n",
       "[5 rows x 1010 columns]"
      ]
     },
     "execution_count": 17,
     "metadata": {},
     "output_type": "execute_result"
    }
   ],
   "source": [
    "combined_df = pd.merge(combined_df, glove_vec_df, how=\"inner\", on=\"id\", sort=False)\n",
    "combined_df.drop(['excerpt','Processed_excerpt'], inplace=True, axis=1)\n",
    "print(f\"combined_df: {combined_df.shape}\\n\")\n",
    "combined_df.head()"
   ]
  },
  {
   "cell_type": "code",
   "execution_count": 18,
   "id": "informal-leonard",
   "metadata": {
    "execution": {
     "iopub.execute_input": "2021-06-05T17:48:46.317793Z",
     "iopub.status.busy": "2021-06-05T17:48:46.317103Z",
     "iopub.status.idle": "2021-06-05T17:48:46.326217Z",
     "shell.execute_reply": "2021-06-05T17:48:46.325547Z",
     "shell.execute_reply.started": "2021-06-05T17:22:31.686826Z"
    },
    "papermill": {
     "duration": 0.818991,
     "end_time": "2021-06-05T17:48:46.326361",
     "exception": false,
     "start_time": "2021-06-05T17:48:45.507370",
     "status": "completed"
    },
    "tags": []
   },
   "outputs": [
    {
     "name": "stdout",
     "output_type": "stream",
     "text": [
      "Xtrain: (2834, 1010) \n",
      "Xtest: (7, 1010)\n"
     ]
    }
   ],
   "source": [
    "Xtrain = combined_df[:Ytrain.shape[0]].copy()\n",
    "Xtest = combined_df[Ytrain.shape[0]:].copy()\n",
    "print(f\"Xtrain: {Xtrain.shape} \\nXtest: {Xtest.shape}\")"
   ]
  },
  {
   "cell_type": "markdown",
   "id": "starting-effort",
   "metadata": {
    "papermill": {
     "duration": 0.8072,
     "end_time": "2021-06-05T17:48:47.939373",
     "exception": false,
     "start_time": "2021-06-05T17:48:47.132173",
     "status": "completed"
    },
    "tags": []
   },
   "source": [
    "## Quantile Transformation"
   ]
  },
  {
   "cell_type": "code",
   "execution_count": 19,
   "id": "rising-spouse",
   "metadata": {
    "execution": {
     "iopub.execute_input": "2021-06-05T17:48:49.600795Z",
     "iopub.status.busy": "2021-06-05T17:48:49.600106Z",
     "iopub.status.idle": "2021-06-05T17:49:01.507451Z",
     "shell.execute_reply": "2021-06-05T17:49:01.507938Z",
     "shell.execute_reply.started": "2021-06-05T17:22:31.703389Z"
    },
    "papermill": {
     "duration": 12.71677,
     "end_time": "2021-06-05T17:49:01.508106",
     "exception": false,
     "start_time": "2021-06-05T17:48:48.791336",
     "status": "completed"
    },
    "tags": []
   },
   "outputs": [
    {
     "name": "stderr",
     "output_type": "stream",
     "text": [
      "100%|██████████| 1010/1010 [00:11<00:00, 84.87it/s]"
     ]
    },
    {
     "name": "stdout",
     "output_type": "stream",
     "text": [
      "Xtrain: (2834, 1010) \n",
      "Ytrain: (2834,) \n",
      "Xtest: (7, 1010)\n"
     ]
    },
    {
     "name": "stderr",
     "output_type": "stream",
     "text": [
      "\n"
     ]
    }
   ],
   "source": [
    "for col in tqdm(Xtrain.columns):\n",
    "    transformer = QuantileTransformer(n_quantiles=1000, \n",
    "                                      random_state=10, \n",
    "                                      output_distribution=\"normal\")\n",
    "    \n",
    "    vec_len = len(Xtrain[col].values)\n",
    "    vec_len_test = len(Xtest[col].values)\n",
    "\n",
    "    raw_vec = Xtrain[col].values.reshape(vec_len, 1)\n",
    "    test_vec = Xtest[col].values.reshape(vec_len_test, 1)\n",
    "    transformer.fit(raw_vec)\n",
    "    \n",
    "    Xtrain[col] = transformer.transform(raw_vec).reshape(1, vec_len)[0]\n",
    "    Xtest[col] = transformer.transform(test_vec).reshape(1, vec_len_test)[0]\n",
    "\n",
    "print(\"Xtrain: {} \\nYtrain: {} \\nXtest: {}\".format(Xtrain.shape, Ytrain.shape, Xtest.shape))"
   ]
  },
  {
   "cell_type": "markdown",
   "id": "lightweight-moore",
   "metadata": {
    "papermill": {
     "duration": 0.836288,
     "end_time": "2021-06-05T17:49:03.180028",
     "exception": false,
     "start_time": "2021-06-05T17:49:02.343740",
     "status": "completed"
    },
    "tags": []
   },
   "source": [
    "## Base Models\n",
    "\n",
    "* **BayesianRidge**\n",
    "* **Lasso**\n",
    "* **ElasticNet**\n",
    "* **HistGradientBoostingRegressor**\n",
    "* **LightGBM**\n",
    "* **XGBoost**"
   ]
  },
  {
   "cell_type": "code",
   "execution_count": 20,
   "id": "increasing-relevance",
   "metadata": {
    "execution": {
     "iopub.execute_input": "2021-06-05T17:49:04.862611Z",
     "iopub.status.busy": "2021-06-05T17:49:04.861958Z",
     "iopub.status.idle": "2021-06-05T17:49:04.864499Z",
     "shell.execute_reply": "2021-06-05T17:49:04.865012Z",
     "shell.execute_reply.started": "2021-06-05T17:32:45.048822Z"
    },
    "papermill": {
     "duration": 0.848207,
     "end_time": "2021-06-05T17:49:04.865193",
     "exception": false,
     "start_time": "2021-06-05T17:49:04.016986",
     "status": "completed"
    },
    "tags": []
   },
   "outputs": [],
   "source": [
    "FOLD = 7\n",
    "NUM_SEED = 1\n",
    "COUNTER = 0\n",
    "\n",
    "np.random.seed(2021)\n",
    "seeds = np.random.randint(0, 2021, size=NUM_SEED)\n",
    "\n",
    "oof_score_ridge = 0\n",
    "oof_score_lasso = 0\n",
    "oof_score_enet = 0\n",
    "oof_score_gbr = 0\n",
    "oof_score_lgb = 0\n",
    "oof_score_xgb = 0\n",
    "\n",
    "y_pred_final_ridge = 0\n",
    "y_pred_final_lasso = 0\n",
    "y_pred_final_enet = 0\n",
    "y_pred_final_gbr = 0\n",
    "y_pred_final_lgb = 0\n",
    "y_pred_final_xgb = 0\n",
    "\n",
    "y_pred_meta_ridge = np.zeros((Ytrain.shape[0], 1))\n",
    "y_pred_meta_lasso = np.zeros((Ytrain.shape[0], 1))\n",
    "y_pred_meta_enet = np.zeros((Ytrain.shape[0], 1))\n",
    "y_pred_meta_gbr = np.zeros((Ytrain.shape[0], 1))\n",
    "y_pred_meta_lgb = np.zeros((Ytrain.shape[0], 1))\n",
    "y_pred_meta_xgb = np.zeros((Ytrain.shape[0], 1))"
   ]
  },
  {
   "cell_type": "code",
   "execution_count": 21,
   "id": "wireless-plymouth",
   "metadata": {
    "execution": {
     "iopub.execute_input": "2021-06-05T17:49:06.584332Z",
     "iopub.status.busy": "2021-06-05T17:49:06.575412Z",
     "iopub.status.idle": "2021-06-05T17:53:12.241001Z",
     "shell.execute_reply": "2021-06-05T17:53:12.241546Z",
     "shell.execute_reply.started": "2021-06-05T17:32:47.579560Z"
    },
    "papermill": {
     "duration": 246.539708,
     "end_time": "2021-06-05T17:53:12.241762",
     "exception": false,
     "start_time": "2021-06-05T17:49:05.702054",
     "status": "completed"
    },
    "tags": []
   },
   "outputs": [
    {
     "name": "stdout",
     "output_type": "stream",
     "text": [
      "Bayesian Ridge | Seed-1140 | Fold-1 | OOF Score: 0.6966592606739591\n",
      "Lasso | Seed-1140 | Fold-1 | OOF Score: 0.6863280478775098\n",
      "ElasticNet | Seed-1140 | Fold-1 | OOF Score: 0.6749206521108619\n",
      "GradientBoostingRegressor | Seed-1140 | Fold-1 | OOF Score: 0.6925273546698276\n",
      "LightGBM | Seed-1140 | Fold-1 | OOF Score: 0.678257972389015\n",
      "XGBoost | Seed-1140 | Fold-1 | OOF Score: 0.6895920252699163\n",
      "\n",
      "Bayesian Ridge | Seed-1140 | Fold-2 | OOF Score: 0.694618462206409\n",
      "Lasso | Seed-1140 | Fold-2 | OOF Score: 0.6819461861790759\n",
      "ElasticNet | Seed-1140 | Fold-2 | OOF Score: 0.6852564550583071\n",
      "GradientBoostingRegressor | Seed-1140 | Fold-2 | OOF Score: 0.6773590281306173\n",
      "LightGBM | Seed-1140 | Fold-2 | OOF Score: 0.6549034784473495\n",
      "XGBoost | Seed-1140 | Fold-2 | OOF Score: 0.6798261587182125\n",
      "\n",
      "Bayesian Ridge | Seed-1140 | Fold-3 | OOF Score: 0.6890679273953596\n",
      "Lasso | Seed-1140 | Fold-3 | OOF Score: 0.6846665820125827\n",
      "ElasticNet | Seed-1140 | Fold-3 | OOF Score: 0.6787425057818115\n",
      "GradientBoostingRegressor | Seed-1140 | Fold-3 | OOF Score: 0.6659587410445506\n",
      "LightGBM | Seed-1140 | Fold-3 | OOF Score: 0.6502324946918626\n",
      "XGBoost | Seed-1140 | Fold-3 | OOF Score: 0.6713321054752487\n",
      "\n",
      "Bayesian Ridge | Seed-1140 | Fold-4 | OOF Score: 0.6888974190998648\n",
      "Lasso | Seed-1140 | Fold-4 | OOF Score: 0.6726096628060788\n",
      "ElasticNet | Seed-1140 | Fold-4 | OOF Score: 0.6660879165271668\n",
      "GradientBoostingRegressor | Seed-1140 | Fold-4 | OOF Score: 0.6788268376742082\n",
      "LightGBM | Seed-1140 | Fold-4 | OOF Score: 0.6586547966586271\n",
      "XGBoost | Seed-1140 | Fold-4 | OOF Score: 0.6827178522490457\n",
      "\n",
      "Bayesian Ridge | Seed-1140 | Fold-5 | OOF Score: 0.7123302302467567\n",
      "Lasso | Seed-1140 | Fold-5 | OOF Score: 0.6790628544328934\n",
      "ElasticNet | Seed-1140 | Fold-5 | OOF Score: 0.6918908689219792\n",
      "GradientBoostingRegressor | Seed-1140 | Fold-5 | OOF Score: 0.6972476481758163\n",
      "LightGBM | Seed-1140 | Fold-5 | OOF Score: 0.667194560337151\n",
      "XGBoost | Seed-1140 | Fold-5 | OOF Score: 0.6850222222654524\n",
      "\n",
      "Bayesian Ridge | Seed-1140 | Fold-6 | OOF Score: 0.6605071929582393\n",
      "Lasso | Seed-1140 | Fold-6 | OOF Score: 0.6700904976480757\n",
      "ElasticNet | Seed-1140 | Fold-6 | OOF Score: 0.6501443729426015\n",
      "GradientBoostingRegressor | Seed-1140 | Fold-6 | OOF Score: 0.6806209056457221\n",
      "LightGBM | Seed-1140 | Fold-6 | OOF Score: 0.6471157876275547\n",
      "XGBoost | Seed-1140 | Fold-6 | OOF Score: 0.6649212581337713\n",
      "\n",
      "Bayesian Ridge | Seed-1140 | Fold-7 | OOF Score: 0.6762279247197422\n",
      "Lasso | Seed-1140 | Fold-7 | OOF Score: 0.6644788789614564\n",
      "ElasticNet | Seed-1140 | Fold-7 | OOF Score: 0.6608078353135904\n",
      "GradientBoostingRegressor | Seed-1140 | Fold-7 | OOF Score: 0.6961482573423831\n",
      "LightGBM | Seed-1140 | Fold-7 | OOF Score: 0.6626636860120627\n",
      "XGBoost | Seed-1140 | Fold-7 | OOF Score: 0.687769978772302\n",
      "\n",
      "\n",
      "=========================================================================\n",
      "Bayesian Ridge | Seed: 1140 | Aggregate OOF Score: 0.6883297739000473\n",
      "Lasso | Seed: 1140 | Aggregate OOF Score: 0.6770261014168104\n",
      "ElasticNet | Seed: 1140 | Aggregate OOF Score: 0.6725500866651883\n",
      "GradientBoostingRegressor | Seed: 1140 | Aggregate OOF Score: 0.6840983960975893\n",
      "LightGBM | Seed: 1140 | Aggregate OOF Score: 0.6598603965948032\n",
      "XGBoost | Seed: 1140 | Aggregate OOF Score: 0.6801688001262783\n",
      "=========================================================================\n",
      "\n",
      "\n"
     ]
    }
   ],
   "source": [
    "for sidx, seed in enumerate(seeds):\n",
    "    seed_score_ridge = 0\n",
    "    seed_score_lasso = 0\n",
    "    seed_score_enet = 0\n",
    "    seed_score_gbr = 0\n",
    "    seed_score_lgb = 0\n",
    "    seed_score_xgb = 0\n",
    "    \n",
    "    kfold = StratifiedKFold(n_splits=FOLD, shuffle=True, random_state=seed)\n",
    "\n",
    "    for idx, (train, val) in enumerate(kfold.split(Xtrain, Ytrain_strat)):\n",
    "        COUNTER += 1\n",
    "\n",
    "        train_x, train_y = Xtrain.iloc[train], Ytrain[train]\n",
    "        val_x, val_y = Xtrain.iloc[val], Ytrain[val]\n",
    "        \n",
    "        \n",
    "        #====================================================================\n",
    "        #                           Bayesian Ridge\n",
    "        #====================================================================\n",
    "\n",
    "        ridge_model = BayesianRidge()\n",
    "        ridge_model.fit(train_x, train_y)\n",
    "        \n",
    "        y_pred = ridge_model.predict(val_x)\n",
    "        y_pred_meta_ridge[val] = np.array([y_pred]).T\n",
    "        y_pred_final_ridge += ridge_model.predict(Xtest)\n",
    "        \n",
    "        score = np.sqrt(mean_squared_error(val_y, y_pred))\n",
    "        oof_score_ridge += score\n",
    "        seed_score_ridge += score\n",
    "        print(f\"Bayesian Ridge | Seed-{seed} | Fold-{idx+1} | OOF Score: {score}\")\n",
    "        \n",
    "        \n",
    "        #====================================================================\n",
    "        #                                 Lasso\n",
    "        #====================================================================\n",
    "        \n",
    "        lasso_model = Lasso(alpha=0.025, max_iter=2000, random_state=0)\n",
    "        lasso_model.fit(train_x, train_y)\n",
    "        \n",
    "        y_pred = lasso_model.predict(val_x)\n",
    "        y_pred_meta_lasso[val] = np.array([y_pred]).T\n",
    "        y_pred_final_lasso += lasso_model.predict(Xtest)\n",
    "        \n",
    "        score = np.sqrt(mean_squared_error(val_y, y_pred))\n",
    "        oof_score_lasso += score\n",
    "        seed_score_lasso += score\n",
    "        print(f\"Lasso | Seed-{seed} | Fold-{idx+1} | OOF Score: {score}\")\n",
    "        \n",
    "        \n",
    "        #====================================================================\n",
    "        #                              ElasticNet\n",
    "        #====================================================================\n",
    "        \n",
    "        enet_model = ElasticNet(alpha=0.025, max_iter=2000, random_state=0)\n",
    "        enet_model.fit(train_x, train_y)\n",
    "        \n",
    "        y_pred = enet_model.predict(val_x)\n",
    "        y_pred_meta_enet[val] = np.array([y_pred]).T\n",
    "        y_pred_final_enet += enet_model.predict(Xtest)\n",
    "        \n",
    "        score = np.sqrt(mean_squared_error(val_y, y_pred))\n",
    "        oof_score_enet += score\n",
    "        seed_score_enet += score\n",
    "        print(f\"ElasticNet | Seed-{seed} | Fold-{idx+1} | OOF Score: {score}\")\n",
    "        \n",
    "        \n",
    "        #====================================================================\n",
    "        #                     HistGradientBoostingRegressor\n",
    "        #====================================================================\n",
    "        \n",
    "        gbr_model = HistGradientBoostingRegressor(max_depth=6, max_leaf_nodes=52, random_state=0)\n",
    "        gbr_model.fit(train_x, train_y)\n",
    "        \n",
    "        y_pred = gbr_model.predict(val_x)\n",
    "        y_pred_meta_gbr[val] = np.array([y_pred]).T\n",
    "        y_pred_final_gbr += gbr_model.predict(Xtest)\n",
    "        \n",
    "        score = np.sqrt(mean_squared_error(val_y, y_pred))\n",
    "        oof_score_gbr += score\n",
    "        seed_score_gbr += score\n",
    "        print(f\"GradientBoostingRegressor | Seed-{seed} | Fold-{idx+1} | OOF Score: {score}\")\n",
    "        \n",
    "        \n",
    "        #====================================================================\n",
    "        #                                LightGBM\n",
    "        #====================================================================\n",
    "        \n",
    "        params = {}\n",
    "        params[\"objective\"] = 'regression'\n",
    "        params[\"metric\"] = 'rmse'\n",
    "        params[\"boosting\"] = 'gbdt'\n",
    "        params[\"learning_rate\"] = 0.0204\n",
    "        params[\"lambda_l2\"] = 0.225\n",
    "        params[\"num_leaves\"] = 52\n",
    "        params[\"max_depth\"] = 6\n",
    "        params[\"feature_fraction\"] = 0.75\n",
    "        params[\"bagging_fraction\"] = 0.65\n",
    "        params[\"bagging_freq\"] = 10\n",
    "        params[\"min_data_in_leaf\"] = 15\n",
    "        params[\"verbosity\"] = -1\n",
    "        num_rounds = 5000\n",
    "        \n",
    "        lgtrain = lgb.Dataset(train_x, label=train_y.ravel())\n",
    "        lgvalidation = lgb.Dataset(val_x, label=val_y.ravel())\n",
    "\n",
    "        lgb_model = lgb.train(params, lgtrain, num_rounds, \n",
    "                              valid_sets=[lgtrain, lgvalidation], \n",
    "                              early_stopping_rounds=100, verbose_eval=False)\n",
    "\n",
    "        y_pred = lgb_model.predict(val_x, num_iteration=lgb_model.best_iteration)\n",
    "        y_pred_meta_lgb[val] = np.array([y_pred]).T\n",
    "        y_pred_final_lgb += lgb_model.predict(Xtest, num_iteration=lgb_model.best_iteration)\n",
    "        \n",
    "        score = np.sqrt(mean_squared_error(val_y, y_pred))\n",
    "        oof_score_lgb += score\n",
    "        seed_score_lgb += score\n",
    "        print(f\"LightGBM | Seed-{seed} | Fold-{idx+1} | OOF Score: {score}\")\n",
    "        \n",
    "        \n",
    "        #====================================================================\n",
    "        #                                XGBoost\n",
    "        #====================================================================\n",
    "        \n",
    "        xgb_model = XGBRegressor(\n",
    "            objective='reg:squarederror',\n",
    "            eval_metric='rmse',\n",
    "            booster='gbtree',\n",
    "            sample_type='uniform',\n",
    "            tree_method='hist',\n",
    "            grow_policy='lossguide',\n",
    "            num_round=5000,\n",
    "            #max_depth=11, \n",
    "            max_leaves=55,\n",
    "            learning_rate=0.074,\n",
    "            subsample=0.74,\n",
    "            colsample_bytree=0.675,\n",
    "            min_child_weight=7,\n",
    "            reg_lambda=0.152,\n",
    "            verbosity=0\n",
    "        )\n",
    "\n",
    "        xgb_model.fit(train_x, train_y, eval_set=[(train_x, train_y), (val_x, val_y)], \n",
    "                      early_stopping_rounds=200, verbose=False)\n",
    "\n",
    "        y_pred = xgb_model.predict(val_x, iteration_range=(0, xgb_model.best_iteration))\n",
    "        #y_pred = xgb_model.predict(val_x, ntree_limit=xgb_model.best_ntree_limit)\n",
    "        y_pred_meta_xgb[val] += np.array([y_pred]).T\n",
    "        y_pred_final_xgb += xgb_model.predict(Xtest, iteration_range=(0, xgb_model.best_iteration))\n",
    "        #y_pred_final_xgb += xgb_model.predict(Xtest, ntree_limit=xgb_model.best_ntree_limit)\n",
    "        \n",
    "        score = np.sqrt(mean_squared_error(val_y, y_pred))\n",
    "        oof_score_xgb += score\n",
    "        seed_score_xgb += score\n",
    "        print(f\"XGBoost | Seed-{seed} | Fold-{idx+1} | OOF Score: {score}\\n\")\n",
    "        \n",
    "    print(\"\\n=========================================================================\")\n",
    "    print(f\"Bayesian Ridge | Seed: {seed} | Aggregate OOF Score: {(seed_score_ridge / FOLD)}\")\n",
    "    print(f\"Lasso | Seed: {seed} | Aggregate OOF Score: {(seed_score_lasso / FOLD)}\")\n",
    "    print(f\"ElasticNet | Seed: {seed} | Aggregate OOF Score: {(seed_score_enet / FOLD)}\")\n",
    "    print(f\"GradientBoostingRegressor | Seed: {seed} | Aggregate OOF Score: {(seed_score_gbr / FOLD)}\")\n",
    "    print(f\"LightGBM | Seed: {seed} | Aggregate OOF Score: {(seed_score_lgb / FOLD)}\")\n",
    "    print(f\"XGBoost | Seed: {seed} | Aggregate OOF Score: {(seed_score_xgb / FOLD)}\")\n",
    "    print(\"=========================================================================\\n\\n\")"
   ]
  },
  {
   "cell_type": "code",
   "execution_count": 22,
   "id": "played-corruption",
   "metadata": {
    "execution": {
     "iopub.execute_input": "2021-06-05T17:53:13.951900Z",
     "iopub.status.busy": "2021-06-05T17:53:13.951139Z",
     "iopub.status.idle": "2021-06-05T17:53:13.953979Z",
     "shell.execute_reply": "2021-06-05T17:53:13.954462Z",
     "shell.execute_reply.started": "2021-06-05T17:39:39.008688Z"
    },
    "papermill": {
     "duration": 0.866521,
     "end_time": "2021-06-05T17:53:13.954628",
     "exception": false,
     "start_time": "2021-06-05T17:53:13.088107",
     "status": "completed"
    },
    "tags": []
   },
   "outputs": [
    {
     "name": "stdout",
     "output_type": "stream",
     "text": [
      "Bayesian Ridge | Aggregate OOF Score: 0.6883297739000473\n",
      "Lasso | Aggregate OOF Score: 0.6770261014168104\n",
      "ElasticNet | Aggregate OOF Score: 0.6725500866651883\n",
      "GradientBoostingRegressor | Aggregate OOF Score: 0.6840983960975893\n",
      "LightGBM | Aggregate OOF Score: 0.6598603965948032\n",
      "XGBoost | Aggregate OOF Score: 0.6801688001262783\n"
     ]
    }
   ],
   "source": [
    "y_pred_meta_ridge = y_pred_meta_ridge / float(NUM_SEED)\n",
    "y_pred_meta_lasso = y_pred_meta_lasso / float(NUM_SEED)\n",
    "y_pred_meta_enet = y_pred_meta_enet / float(NUM_SEED)\n",
    "y_pred_meta_gbr = y_pred_meta_gbr / float(NUM_SEED)\n",
    "y_pred_meta_lgb = y_pred_meta_lgb / float(NUM_SEED)\n",
    "y_pred_meta_xgb = y_pred_meta_xgb / float(NUM_SEED)\n",
    "\n",
    "y_pred_final_ridge = y_pred_final_ridge / float(COUNTER)\n",
    "y_pred_final_lasso = y_pred_final_lasso / float(COUNTER)\n",
    "y_pred_final_enet = y_pred_final_enet / float(COUNTER)\n",
    "y_pred_final_gbr = y_pred_final_gbr / float(COUNTER)\n",
    "y_pred_final_lgb = y_pred_final_lgb / float(COUNTER)\n",
    "y_pred_final_xgb = y_pred_final_xgb / float(COUNTER)\n",
    "\n",
    "oof_score_ridge /= float(COUNTER)\n",
    "oof_score_lasso /= float(COUNTER)\n",
    "oof_score_enet /= float(COUNTER)\n",
    "oof_score_gbr /= float(COUNTER)\n",
    "oof_score_lgb /= float(COUNTER)\n",
    "oof_score_xgb /= float(COUNTER)\n",
    "\n",
    "print(f\"Bayesian Ridge | Aggregate OOF Score: {oof_score_ridge}\")\n",
    "print(f\"Lasso | Aggregate OOF Score: {oof_score_lasso}\")\n",
    "print(f\"ElasticNet | Aggregate OOF Score: {oof_score_enet}\")\n",
    "print(f\"GradientBoostingRegressor | Aggregate OOF Score: {oof_score_gbr}\")\n",
    "print(f\"LightGBM | Aggregate OOF Score: {oof_score_lgb}\")\n",
    "print(f\"XGBoost | Aggregate OOF Score: {oof_score_xgb}\")"
   ]
  },
  {
   "cell_type": "markdown",
   "id": "dependent-intent",
   "metadata": {
    "papermill": {
     "duration": 0.852125,
     "end_time": "2021-06-05T17:53:15.661444",
     "exception": false,
     "start_time": "2021-06-05T17:53:14.809319",
     "status": "completed"
    },
    "tags": []
   },
   "source": [
    "## PCA"
   ]
  },
  {
   "cell_type": "code",
   "execution_count": 23,
   "id": "macro-driver",
   "metadata": {
    "execution": {
     "iopub.execute_input": "2021-06-05T17:53:17.419146Z",
     "iopub.status.busy": "2021-06-05T17:53:17.418470Z",
     "iopub.status.idle": "2021-06-05T17:53:19.157432Z",
     "shell.execute_reply": "2021-06-05T17:53:19.156690Z",
     "shell.execute_reply.started": "2021-06-05T17:28:15.990541Z"
    },
    "papermill": {
     "duration": 2.591628,
     "end_time": "2021-06-05T17:53:19.157602",
     "exception": false,
     "start_time": "2021-06-05T17:53:16.565974",
     "status": "completed"
    },
    "tags": []
   },
   "outputs": [
    {
     "data": {
      "image/png": "[encoded data removed]",
      "text/plain": [
       "<Figure size 1656x432 with 1 Axes>"
      ]
     },
     "metadata": {
      "needs_background": "light"
     },
     "output_type": "display_data"
    }
   ],
   "source": [
    "# Deciding n_components for PCA and SVD\n",
    "data = pd.concat([Xtrain, Xtest], axis=0)\n",
    "pca = PCA().fit(data)\n",
    "plt.rcParams[\"figure.figsize\"] = (23,6)\n",
    "\n",
    "fig, ax = plt.subplots()\n",
    "xi = np.arange(1, 1011, step=1)\n",
    "y = np.cumsum(pca.explained_variance_ratio_)\n",
    "\n",
    "plt.ylim(0.0,1.1)\n",
    "plt.plot(xi, y, marker='o', linestyle='--', color='b')\n",
    "\n",
    "plt.xlabel('Number of Components')\n",
    "plt.xticks(np.arange(0, 1010, step=20), rotation=90)\n",
    "plt.ylabel('Cumulative variance (%)')\n",
    "plt.title('The number of components needed to explain variance')\n",
    "\n",
    "plt.axhline(y=0.95, color='r', linestyle='-')\n",
    "plt.text(0.5, 0.85, '95% cut-off threshold', color = 'red', fontsize=16)\n",
    "\n",
    "ax.grid(axis='x')\n",
    "plt.show()"
   ]
  },
  {
   "cell_type": "code",
   "execution_count": 24,
   "id": "completed-snowboard",
   "metadata": {
    "execution": {
     "iopub.execute_input": "2021-06-05T17:53:20.955611Z",
     "iopub.status.busy": "2021-06-05T17:53:20.954972Z",
     "iopub.status.idle": "2021-06-05T17:53:20.958185Z",
     "shell.execute_reply": "2021-06-05T17:53:20.957611Z",
     "shell.execute_reply.started": "2021-06-05T17:39:43.773595Z"
    },
    "papermill": {
     "duration": 0.917055,
     "end_time": "2021-06-05T17:53:20.958337",
     "exception": false,
     "start_time": "2021-06-05T17:53:20.041282",
     "status": "completed"
    },
    "tags": []
   },
   "outputs": [],
   "source": [
    "def pca_fet(train, test, features, n_components, SEED=10):\n",
    "    train_ = train[features].copy()\n",
    "    test_ = test[features].copy()\n",
    "    data = pd.concat([train_, test_], axis=0)\n",
    "    index = data.index\n",
    "\n",
    "    pca = PCA(n_components=n_components, random_state=SEED)\n",
    "    data = pca.fit_transform(data)\n",
    "    columns = [f'pca_{i + 1}' for i in range(n_components)]\n",
    "    data = pd.DataFrame(data, columns=columns, index=index)\n",
    "    \n",
    "    train_ = data.iloc[:train.shape[0]]\n",
    "    test_ = data.iloc[train.shape[0]:]\n",
    "    return train_, test_"
   ]
  },
  {
   "cell_type": "code",
   "execution_count": 25,
   "id": "touched-hybrid",
   "metadata": {
    "execution": {
     "iopub.execute_input": "2021-06-05T17:53:22.678728Z",
     "iopub.status.busy": "2021-06-05T17:53:22.678045Z",
     "iopub.status.idle": "2021-06-05T17:53:24.602322Z",
     "shell.execute_reply": "2021-06-05T17:53:24.603709Z",
     "shell.execute_reply.started": "2021-06-05T17:39:45.877486Z"
    },
    "papermill": {
     "duration": 2.785713,
     "end_time": "2021-06-05T17:53:24.603976",
     "exception": false,
     "start_time": "2021-06-05T17:53:21.818263",
     "status": "completed"
    },
    "tags": []
   },
   "outputs": [
    {
     "name": "stdout",
     "output_type": "stream",
     "text": [
      "Xtrain_pca: (2834, 460) \n",
      "Ytrain: (2834,) \n",
      "Xtest_pca: (7, 460)\n"
     ]
    }
   ],
   "source": [
    "Xtrain_pca, Xtest_pca = pca_fet(Xtrain, Xtest, Xtrain.columns, n_components=460)\n",
    "print(f\"Xtrain_pca: {Xtrain_pca.shape} \\nYtrain: {Ytrain.shape} \\nXtest_pca: {Xtest_pca.shape}\")"
   ]
  },
  {
   "cell_type": "markdown",
   "id": "august-overall",
   "metadata": {
    "papermill": {
     "duration": 0.852896,
     "end_time": "2021-06-05T17:53:26.339267",
     "exception": false,
     "start_time": "2021-06-05T17:53:25.486371",
     "status": "completed"
    },
    "tags": []
   },
   "source": [
    "## Meta Features"
   ]
  },
  {
   "cell_type": "code",
   "execution_count": 26,
   "id": "hollow-optics",
   "metadata": {
    "execution": {
     "iopub.execute_input": "2021-06-05T17:53:28.095858Z",
     "iopub.status.busy": "2021-06-05T17:53:28.094724Z",
     "iopub.status.idle": "2021-06-05T17:53:28.101418Z",
     "shell.execute_reply": "2021-06-05T17:53:28.101926Z",
     "shell.execute_reply.started": "2021-06-05T17:41:12.483824Z"
    },
    "papermill": {
     "duration": 0.866566,
     "end_time": "2021-06-05T17:53:28.102103",
     "exception": false,
     "start_time": "2021-06-05T17:53:27.235537",
     "status": "completed"
    },
    "tags": []
   },
   "outputs": [
    {
     "data": {
      "text/plain": [
       "((2834, 466), (7, 466))"
      ]
     },
     "execution_count": 26,
     "metadata": {},
     "output_type": "execute_result"
    }
   ],
   "source": [
    "Xtrain_meta = np.concatenate((Xtrain_pca.values, y_pred_meta_ridge, y_pred_meta_lasso, \n",
    "                              y_pred_meta_enet, y_pred_meta_gbr, y_pred_meta_lgb, \n",
    "                              y_pred_meta_xgb), axis=1)\n",
    "\n",
    "Xtest_meta = np.concatenate((Xtest_pca.values, np.array([y_pred_final_ridge]).T, np.array([y_pred_final_lasso]).T, \n",
    "                             np.array([y_pred_final_enet]).T, np.array([y_pred_final_gbr]).T, np.array([y_pred_final_lgb]).T, \n",
    "                             np.array([y_pred_final_xgb]).T), axis=1)\n",
    "\n",
    "Xtrain_meta.shape, Xtest_meta.shape"
   ]
  },
  {
   "cell_type": "markdown",
   "id": "wicked-sixth",
   "metadata": {
    "papermill": {
     "duration": 0.85267,
     "end_time": "2021-06-05T17:53:29.811472",
     "exception": false,
     "start_time": "2021-06-05T17:53:28.958802",
     "status": "completed"
    },
    "tags": []
   },
   "source": [
    "## Linear Regression"
   ]
  },
  {
   "cell_type": "code",
   "execution_count": 27,
   "id": "united-scratch",
   "metadata": {
    "execution": {
     "iopub.execute_input": "2021-06-05T17:53:31.545929Z",
     "iopub.status.busy": "2021-06-05T17:53:31.544965Z",
     "iopub.status.idle": "2021-06-05T17:53:32.797871Z",
     "shell.execute_reply": "2021-06-05T17:53:32.798906Z",
     "shell.execute_reply.started": "2021-06-05T17:40:25.272246Z"
    },
    "papermill": {
     "duration": 2.112177,
     "end_time": "2021-06-05T17:53:32.799179",
     "exception": false,
     "start_time": "2021-06-05T17:53:30.687002",
     "status": "completed"
    },
    "tags": []
   },
   "outputs": [
    {
     "name": "stdout",
     "output_type": "stream",
     "text": [
      "Seed-1140 | Fold-0 | OOF Score: 0.5581808993997462\n",
      "Seed-1140 | Fold-1 | OOF Score: 0.5683696947914277\n",
      "Seed-1140 | Fold-2 | OOF Score: 0.58477668321467\n",
      "Seed-1140 | Fold-3 | OOF Score: 0.5669265042764317\n",
      "Seed-1140 | Fold-4 | OOF Score: 0.5762769275527891\n",
      "Seed-1140 | Fold-5 | OOF Score: 0.5315857902665676\n",
      "Seed-1140 | Fold-6 | OOF Score: 0.5723096580071849\n",
      "\n",
      "Seed: 1140 | Aggregate OOF Score: 0.5654894510726882\n",
      "\n",
      "\n",
      "Aggregate OOF Score: 0.5654894510726882\n"
     ]
    }
   ],
   "source": [
    "oof_score = 0\n",
    "y_pred_final_lr = 0\n",
    "counter = 0\n",
    "\n",
    "for sidx, seed in enumerate(seeds):\n",
    "    seed_score = 0\n",
    "    \n",
    "    kfold = StratifiedKFold(n_splits=FOLD, shuffle=True, random_state=seed)\n",
    "\n",
    "    for idx, (train, val) in enumerate(kfold.split(Xtrain_meta, Ytrain_strat)):\n",
    "        counter += 1\n",
    "\n",
    "        train_x, train_y = Xtrain_meta[train], Ytrain[train]\n",
    "        val_x, val_y = Xtrain_meta[val], Ytrain[val]\n",
    "\n",
    "        model = LinearRegression()\n",
    "\n",
    "        model.fit(train_x, train_y)\n",
    "\n",
    "        y_pred = model.predict(val_x)\n",
    "        y_pred_final_lr += model.predict(Xtest_meta)\n",
    "        \n",
    "        score = np.sqrt(mean_squared_error(val_y, y_pred))\n",
    "        oof_score += score\n",
    "        seed_score += score\n",
    "        print(\"Seed-{} | Fold-{} | OOF Score: {}\".format(seed, idx, score))\n",
    "    \n",
    "    print(\"\\nSeed: {} | Aggregate OOF Score: {}\\n\\n\".format(seed, (seed_score / FOLD)))\n",
    "\n",
    "\n",
    "y_pred_final_lr = y_pred_final_lr / float(counter)\n",
    "oof_score /= float(counter)\n",
    "print(\"Aggregate OOF Score: {}\".format(oof_score))"
   ]
  },
  {
   "cell_type": "markdown",
   "id": "hungarian-router",
   "metadata": {
    "papermill": {
     "duration": 0.850957,
     "end_time": "2021-06-05T17:53:34.587131",
     "exception": false,
     "start_time": "2021-06-05T17:53:33.736174",
     "status": "completed"
    },
    "tags": []
   },
   "source": [
    "## Create submission file"
   ]
  },
  {
   "cell_type": "code",
   "execution_count": 28,
   "id": "loose-panic",
   "metadata": {
    "execution": {
     "iopub.execute_input": "2021-06-05T17:53:36.291886Z",
     "iopub.status.busy": "2021-06-05T17:53:36.291235Z",
     "iopub.status.idle": "2021-06-05T17:53:36.316207Z",
     "shell.execute_reply": "2021-06-05T17:53:36.315553Z",
     "shell.execute_reply.started": "2021-06-05T17:40:28.682411Z"
    },
    "papermill": {
     "duration": 0.879366,
     "end_time": "2021-06-05T17:53:36.316362",
     "exception": false,
     "start_time": "2021-06-05T17:53:35.436996",
     "status": "completed"
    },
    "tags": []
   },
   "outputs": [
    {
     "data": {
      "text/html": [
       "<div>\n",
       "<style scoped>\n",
       "    .dataframe tbody tr th:only-of-type {\n",
       "        vertical-align: middle;\n",
       "    }\n",
       "\n",
       "    .dataframe tbody tr th {\n",
       "        vertical-align: top;\n",
       "    }\n",
       "\n",
       "    .dataframe thead th {\n",
       "        text-align: right;\n",
       "    }\n",
       "</style>\n",
       "<table border=\"1\" class=\"dataframe\">\n",
       "  <thead>\n",
       "    <tr style=\"text-align: right;\">\n",
       "      <th></th>\n",
       "      <th>id</th>\n",
       "      <th>target</th>\n",
       "    </tr>\n",
       "  </thead>\n",
       "  <tbody>\n",
       "    <tr>\n",
       "      <th>0</th>\n",
       "      <td>c0f722661</td>\n",
       "      <td>-1.670821</td>\n",
       "    </tr>\n",
       "    <tr>\n",
       "      <th>1</th>\n",
       "      <td>f0953f0a5</td>\n",
       "      <td>-0.349859</td>\n",
       "    </tr>\n",
       "    <tr>\n",
       "      <th>2</th>\n",
       "      <td>0df072751</td>\n",
       "      <td>-0.735215</td>\n",
       "    </tr>\n",
       "    <tr>\n",
       "      <th>3</th>\n",
       "      <td>04caf4e0c</td>\n",
       "      <td>-2.111554</td>\n",
       "    </tr>\n",
       "    <tr>\n",
       "      <th>4</th>\n",
       "      <td>0e63f8bea</td>\n",
       "      <td>-2.198641</td>\n",
       "    </tr>\n",
       "  </tbody>\n",
       "</table>\n",
       "</div>"
      ],
      "text/plain": [
       "          id    target\n",
       "0  c0f722661 -1.670821\n",
       "1  f0953f0a5 -0.349859\n",
       "2  0df072751 -0.735215\n",
       "3  04caf4e0c -2.111554\n",
       "4  0e63f8bea -2.198641"
      ]
     },
     "execution_count": 28,
     "metadata": {},
     "output_type": "execute_result"
    }
   ],
   "source": [
    "submit_df = pd.read_csv(\"../input/commonlitreadabilityprize/sample_submission.csv\")\n",
    "submit_df['target'] = y_pred_final_lr\n",
    "submit_df.to_csv(\"./submission.csv\", index=False)\n",
    "submit_df.head()"
   ]
  },
  {
   "cell_type": "code",
   "execution_count": null,
   "id": "ranking-performer",
   "metadata": {
    "papermill": {
     "duration": 0.895864,
     "end_time": "2021-06-05T17:53:38.065222",
     "exception": false,
     "start_time": "2021-06-05T17:53:37.169358",
     "status": "completed"
    },
    "tags": []
   },
   "outputs": [],
   "source": []
  }
 ],
 "metadata": {
  "kernelspec": {
   "display_name": "Python 3",
   "language": "python",
   "name": "python3"
  },
  "language_info": {
   "codemirror_mode": {
    "name": "ipython",
    "version": 3
   },
   "file_extension": ".py",
   "mimetype": "text/x-python",
   "name": "python",
   "nbconvert_exporter": "python",
   "pygments_lexer": "ipython3",
   "version": "3.8.8"
  },
  "papermill": {
   "default_parameters": {},
   "duration": 681.408335,
   "end_time": "2021-06-05T17:53:41.629753",
   "environment_variables": {},
   "exception": null,
   "input_path": "__notebook__.ipynb",
   "output_path": "__notebook__.ipynb",
   "parameters": {},
   "start_time": "2021-06-05T17:42:20.221418",
   "version": "2.3.3"
  }
 },
 "nbformat": 4,
 "nbformat_minor": 5
}
