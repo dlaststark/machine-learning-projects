{
 "cells": [
  {
   "cell_type": "markdown",
   "id": "average-scholar",
   "metadata": {
    "papermill": {
     "duration": 0.012332,
     "end_time": "2021-06-08T06:27:31.042895",
     "exception": false,
     "start_time": "2021-06-08T06:27:31.030563",
     "status": "completed"
    },
    "tags": []
   },
   "source": [
    "## Import libraries"
   ]
  },
  {
   "cell_type": "code",
   "execution_count": 1,
   "id": "illegal-china",
   "metadata": {
    "execution": {
     "iopub.execute_input": "2021-06-08T06:27:31.090017Z",
     "iopub.status.busy": "2021-06-08T06:27:31.076815Z",
     "iopub.status.idle": "2021-06-08T06:28:02.748126Z",
     "shell.execute_reply": "2021-06-08T06:28:02.747069Z",
     "shell.execute_reply.started": "2021-06-08T06:00:46.541682Z"
    },
    "papermill": {
     "duration": 31.69374,
     "end_time": "2021-06-08T06:28:02.748310",
     "exception": false,
     "start_time": "2021-06-08T06:27:31.054570",
     "status": "completed"
    },
    "tags": []
   },
   "outputs": [
    {
     "name": "stdout",
     "output_type": "stream",
     "text": [
      "Collecting PyDictionary\r\n",
      "  Downloading PyDictionary-2.0.1-py3-none-any.whl (6.1 kB)\r\n",
      "Collecting bs4\r\n",
      "  Downloading bs4-0.0.1.tar.gz (1.1 kB)\r\n",
      "Collecting goslate\r\n",
      "  Downloading goslate-1.5.1.tar.gz (17 kB)\r\n",
      "Requirement already satisfied: click in /opt/conda/lib/python3.7/site-packages (from PyDictionary) (7.1.2)\r\n",
      "Requirement already satisfied: requests in /opt/conda/lib/python3.7/site-packages (from PyDictionary) (2.25.1)\r\n",
      "Collecting beautifulsoup4\r\n",
      "  Downloading beautifulsoup4-4.9.3-py3-none-any.whl (115 kB)\r\n",
      "\u001b[K     |████████████████████████████████| 115 kB 1.0 MB/s \r\n",
      "\u001b[?25hCollecting soupsieve>1.2\r\n",
      "  Downloading soupsieve-2.2.1-py3-none-any.whl (33 kB)\r\n",
      "Collecting futures\r\n",
      "  Downloading futures-3.1.1-py3-none-any.whl (2.8 kB)\r\n",
      "Requirement already satisfied: urllib3<1.27,>=1.21.1 in /opt/conda/lib/python3.7/site-packages (from requests->PyDictionary) (1.26.4)\r\n",
      "Requirement already satisfied: chardet<5,>=3.0.2 in /opt/conda/lib/python3.7/site-packages (from requests->PyDictionary) (4.0.0)\r\n",
      "Requirement already satisfied: idna<3,>=2.5 in /opt/conda/lib/python3.7/site-packages (from requests->PyDictionary) (2.10)\r\n",
      "Requirement already satisfied: certifi>=2017.4.17 in /opt/conda/lib/python3.7/site-packages (from requests->PyDictionary) (2020.12.5)\r\n",
      "Building wheels for collected packages: bs4, goslate\r\n",
      "  Building wheel for bs4 (setup.py) ... \u001b[?25l-\b \b\\\b \bdone\r\n",
      "\u001b[?25h  Created wheel for bs4: filename=bs4-0.0.1-py3-none-any.whl size=1273 sha256=d5452a70a0e73b2837c8bf02d7db8ace299863d16fd207e378a0b7c5309a22b2\r\n",
      "  Stored in directory: /root/.cache/pip/wheels/0a/9e/ba/20e5bbc1afef3a491f0b3bb74d508f99403aabe76eda2167ca\r\n",
      "  Building wheel for goslate (setup.py) ... \u001b[?25l-\b \b\\\b \bdone\r\n",
      "\u001b[?25h  Created wheel for goslate: filename=goslate-1.5.1-py3-none-any.whl size=11549 sha256=e71a6f5e9848569f68550bfd0c4aff5f0370bb9daa509975c6ec7e99a410e4f4\r\n",
      "  Stored in directory: /root/.cache/pip/wheels/16/5c/86/f561bb944dc9f853f9502427bde8fe557a6fafe146d4a432f2\r\n",
      "Successfully built bs4 goslate\r\n",
      "Installing collected packages: soupsieve, futures, beautifulsoup4, goslate, bs4, PyDictionary\r\n",
      "Successfully installed PyDictionary-2.0.1 beautifulsoup4-4.9.3 bs4-0.0.1 futures-3.1.1 goslate-1.5.1 soupsieve-2.2.1\r\n",
      "Collecting en_core_web_md==2.3.1\r\n",
      "  Downloading https://github.com/explosion/spacy-models/releases/download/en_core_web_md-2.3.1/en_core_web_md-2.3.1.tar.gz (50.8 MB)\r\n",
      "\u001b[K     |████████████████████████████████| 50.8 MB 24.0 MB/s \r\n",
      "\u001b[?25hRequirement already satisfied: spacy<2.4.0,>=2.3.0 in /opt/conda/lib/python3.7/site-packages (from en_core_web_md==2.3.1) (2.3.5)\r\n",
      "Requirement already satisfied: wasabi<1.1.0,>=0.4.0 in /opt/conda/lib/python3.7/site-packages (from spacy<2.4.0,>=2.3.0->en_core_web_md==2.3.1) (0.8.2)\r\n",
      "Requirement already satisfied: cymem<2.1.0,>=2.0.2 in /opt/conda/lib/python3.7/site-packages (from spacy<2.4.0,>=2.3.0->en_core_web_md==2.3.1) (2.0.5)\r\n",
      "Requirement already satisfied: catalogue<1.1.0,>=0.0.7 in /opt/conda/lib/python3.7/site-packages (from spacy<2.4.0,>=2.3.0->en_core_web_md==2.3.1) (1.0.0)\r\n",
      "Requirement already satisfied: blis<0.8.0,>=0.4.0 in /opt/conda/lib/python3.7/site-packages (from spacy<2.4.0,>=2.3.0->en_core_web_md==2.3.1) (0.7.4)\r\n",
      "Requirement already satisfied: plac<1.2.0,>=0.9.6 in /opt/conda/lib/python3.7/site-packages (from spacy<2.4.0,>=2.3.0->en_core_web_md==2.3.1) (1.1.3)\r\n",
      "Requirement already satisfied: tqdm<5.0.0,>=4.38.0 in /opt/conda/lib/python3.7/site-packages (from spacy<2.4.0,>=2.3.0->en_core_web_md==2.3.1) (4.59.0)\r\n",
      "Requirement already satisfied: requests<3.0.0,>=2.13.0 in /opt/conda/lib/python3.7/site-packages (from spacy<2.4.0,>=2.3.0->en_core_web_md==2.3.1) (2.25.1)\r\n",
      "Requirement already satisfied: preshed<3.1.0,>=3.0.2 in /opt/conda/lib/python3.7/site-packages (from spacy<2.4.0,>=2.3.0->en_core_web_md==2.3.1) (3.0.5)\r\n",
      "Requirement already satisfied: murmurhash<1.1.0,>=0.28.0 in /opt/conda/lib/python3.7/site-packages (from spacy<2.4.0,>=2.3.0->en_core_web_md==2.3.1) (1.0.5)\r\n",
      "Requirement already satisfied: srsly<1.1.0,>=1.0.2 in /opt/conda/lib/python3.7/site-packages (from spacy<2.4.0,>=2.3.0->en_core_web_md==2.3.1) (1.0.5)\r\n",
      "Requirement already satisfied: numpy>=1.15.0 in /opt/conda/lib/python3.7/site-packages (from spacy<2.4.0,>=2.3.0->en_core_web_md==2.3.1) (1.19.5)\r\n",
      "Requirement already satisfied: setuptools in /opt/conda/lib/python3.7/site-packages (from spacy<2.4.0,>=2.3.0->en_core_web_md==2.3.1) (49.6.0.post20210108)\r\n",
      "Requirement already satisfied: thinc<7.5.0,>=7.4.1 in /opt/conda/lib/python3.7/site-packages (from spacy<2.4.0,>=2.3.0->en_core_web_md==2.3.1) (7.4.5)\r\n",
      "Requirement already satisfied: importlib-metadata>=0.20 in /opt/conda/lib/python3.7/site-packages (from catalogue<1.1.0,>=0.0.7->spacy<2.4.0,>=2.3.0->en_core_web_md==2.3.1) (3.4.0)\r\n",
      "Requirement already satisfied: typing-extensions>=3.6.4 in /opt/conda/lib/python3.7/site-packages (from importlib-metadata>=0.20->catalogue<1.1.0,>=0.0.7->spacy<2.4.0,>=2.3.0->en_core_web_md==2.3.1) (3.7.4.3)\r\n",
      "Requirement already satisfied: zipp>=0.5 in /opt/conda/lib/python3.7/site-packages (from importlib-metadata>=0.20->catalogue<1.1.0,>=0.0.7->spacy<2.4.0,>=2.3.0->en_core_web_md==2.3.1) (3.4.1)\r\n",
      "Requirement already satisfied: urllib3<1.27,>=1.21.1 in /opt/conda/lib/python3.7/site-packages (from requests<3.0.0,>=2.13.0->spacy<2.4.0,>=2.3.0->en_core_web_md==2.3.1) (1.26.4)\r\n",
      "Requirement already satisfied: idna<3,>=2.5 in /opt/conda/lib/python3.7/site-packages (from requests<3.0.0,>=2.13.0->spacy<2.4.0,>=2.3.0->en_core_web_md==2.3.1) (2.10)\r\n",
      "Requirement already satisfied: chardet<5,>=3.0.2 in /opt/conda/lib/python3.7/site-packages (from requests<3.0.0,>=2.13.0->spacy<2.4.0,>=2.3.0->en_core_web_md==2.3.1) (4.0.0)\r\n",
      "Requirement already satisfied: certifi>=2017.4.17 in /opt/conda/lib/python3.7/site-packages (from requests<3.0.0,>=2.13.0->spacy<2.4.0,>=2.3.0->en_core_web_md==2.3.1) (2020.12.5)\r\n",
      "Building wheels for collected packages: en-core-web-md\r\n",
      "  Building wheel for en-core-web-md (setup.py) ... \u001b[?25l-\b \b\\\b \b|\b \b/\b \b-\b \b\\\b \b|\b \b/\b \b-\b \b\\\b \bdone\r\n",
      "\u001b[?25h  Created wheel for en-core-web-md: filename=en_core_web_md-2.3.1-py3-none-any.whl size=50916640 sha256=cd358392db83c00953f2c24fbc62e085129b35517bc2e25686a943df24a1f360\r\n",
      "  Stored in directory: /tmp/pip-ephem-wheel-cache-49paqm9y/wheels/43/1d/c1/a0af68d0648debf57f875e9dda56bbac35cfc27bfa187ffc46\r\n",
      "Successfully built en-core-web-md\r\n",
      "Installing collected packages: en-core-web-md\r\n",
      "Successfully installed en-core-web-md-2.3.1\r\n",
      "\u001b[38;5;2m✔ Download and installation successful\u001b[0m\r\n",
      "You can now load the model via spacy.load('en_core_web_md')\r\n"
     ]
    }
   ],
   "source": [
    "! pip install PyDictionary\n",
    "! python -m spacy download en_core_web_md"
   ]
  },
  {
   "cell_type": "code",
   "execution_count": 2,
   "id": "surface-absorption",
   "metadata": {
    "execution": {
     "iopub.execute_input": "2021-06-08T06:28:02.838345Z",
     "iopub.status.busy": "2021-06-08T06:28:02.837662Z",
     "iopub.status.idle": "2021-06-08T06:28:04.936646Z",
     "shell.execute_reply": "2021-06-08T06:28:04.936093Z",
     "shell.execute_reply.started": "2021-06-08T06:09:08.095374Z"
    },
    "papermill": {
     "duration": 2.145292,
     "end_time": "2021-06-08T06:28:04.936795",
     "exception": false,
     "start_time": "2021-06-08T06:28:02.791503",
     "status": "completed"
    },
    "tags": []
   },
   "outputs": [],
   "source": [
    "import warnings\n",
    "warnings.filterwarnings(\"ignore\")\n",
    "\n",
    "import re\n",
    "import nltk\n",
    "import spacy\n",
    "import random\n",
    "import numpy as np\n",
    "import pandas as pd\n",
    "from tqdm import tqdm\n",
    "import en_core_web_md\n",
    "from nltk.corpus import wordnet\n",
    "from PyDictionary import PyDictionary"
   ]
  },
  {
   "cell_type": "markdown",
   "id": "black-pillow",
   "metadata": {
    "papermill": {
     "duration": 0.041977,
     "end_time": "2021-06-08T06:28:05.021617",
     "exception": false,
     "start_time": "2021-06-08T06:28:04.979640",
     "status": "completed"
    },
    "tags": []
   },
   "source": [
    "## Load source datasets"
   ]
  },
  {
   "cell_type": "code",
   "execution_count": 3,
   "id": "veterinary-philippines",
   "metadata": {
    "execution": {
     "iopub.execute_input": "2021-06-08T06:28:05.114994Z",
     "iopub.status.busy": "2021-06-08T06:28:05.114017Z",
     "iopub.status.idle": "2021-06-08T06:28:05.244477Z",
     "shell.execute_reply": "2021-06-08T06:28:05.243799Z",
     "shell.execute_reply.started": "2021-06-08T06:01:26.480691Z"
    },
    "papermill": {
     "duration": 0.179648,
     "end_time": "2021-06-08T06:28:05.244620",
     "exception": false,
     "start_time": "2021-06-08T06:28:05.064972",
     "status": "completed"
    },
    "tags": []
   },
   "outputs": [
    {
     "name": "stdout",
     "output_type": "stream",
     "text": [
      "train_df: (2834, 2)\n",
      "\n"
     ]
    },
    {
     "data": {
      "text/html": [
       "<div>\n",
       "<style scoped>\n",
       "    .dataframe tbody tr th:only-of-type {\n",
       "        vertical-align: middle;\n",
       "    }\n",
       "\n",
       "    .dataframe tbody tr th {\n",
       "        vertical-align: top;\n",
       "    }\n",
       "\n",
       "    .dataframe thead th {\n",
       "        text-align: right;\n",
       "    }\n",
       "</style>\n",
       "<table border=\"1\" class=\"dataframe\">\n",
       "  <thead>\n",
       "    <tr style=\"text-align: right;\">\n",
       "      <th></th>\n",
       "      <th>excerpt</th>\n",
       "      <th>target</th>\n",
       "    </tr>\n",
       "    <tr>\n",
       "      <th>id</th>\n",
       "      <th></th>\n",
       "      <th></th>\n",
       "    </tr>\n",
       "  </thead>\n",
       "  <tbody>\n",
       "    <tr>\n",
       "      <th>c12129c31</th>\n",
       "      <td>When the young people returned to the ballroom...</td>\n",
       "      <td>-0.340259</td>\n",
       "    </tr>\n",
       "    <tr>\n",
       "      <th>85aa80a4c</th>\n",
       "      <td>All through dinner time, Mrs. Fayre was somewh...</td>\n",
       "      <td>-0.315372</td>\n",
       "    </tr>\n",
       "    <tr>\n",
       "      <th>b69ac6792</th>\n",
       "      <td>As Roger had predicted, the snow departed as q...</td>\n",
       "      <td>-0.580118</td>\n",
       "    </tr>\n",
       "    <tr>\n",
       "      <th>dd1000b26</th>\n",
       "      <td>And outside before the palace a great garden w...</td>\n",
       "      <td>-1.054013</td>\n",
       "    </tr>\n",
       "    <tr>\n",
       "      <th>37c1b32fb</th>\n",
       "      <td>Once upon a time there were Three Bears who li...</td>\n",
       "      <td>0.247197</td>\n",
       "    </tr>\n",
       "  </tbody>\n",
       "</table>\n",
       "</div>"
      ],
      "text/plain": [
       "                                                     excerpt    target\n",
       "id                                                                    \n",
       "c12129c31  When the young people returned to the ballroom... -0.340259\n",
       "85aa80a4c  All through dinner time, Mrs. Fayre was somewh... -0.315372\n",
       "b69ac6792  As Roger had predicted, the snow departed as q... -0.580118\n",
       "dd1000b26  And outside before the palace a great garden w... -1.054013\n",
       "37c1b32fb  Once upon a time there were Three Bears who li...  0.247197"
      ]
     },
     "execution_count": 3,
     "metadata": {},
     "output_type": "execute_result"
    }
   ],
   "source": [
    "train_df = pd.read_csv(\"../input/commonlitreadabilityprize/train.csv\")\n",
    "train_df.drop(['url_legal','license','standard_error'], inplace=True, axis=1)\n",
    "train_df.set_index(\"id\", inplace=True)\n",
    "print(f\"train_df: {train_df.shape}\\n\")\n",
    "train_df.head()"
   ]
  },
  {
   "cell_type": "markdown",
   "id": "former-minneapolis",
   "metadata": {
    "papermill": {
     "duration": 0.042353,
     "end_time": "2021-06-08T06:28:05.330658",
     "exception": false,
     "start_time": "2021-06-08T06:28:05.288305",
     "status": "completed"
    },
    "tags": []
   },
   "source": [
    "## Set percentage level \n",
    "\n",
    "**(number of words to be replaced for augmentation)**"
   ]
  },
  {
   "cell_type": "code",
   "execution_count": 4,
   "id": "differential-inclusion",
   "metadata": {
    "execution": {
     "iopub.execute_input": "2021-06-08T06:28:05.421558Z",
     "iopub.status.busy": "2021-06-08T06:28:05.420874Z",
     "iopub.status.idle": "2021-06-08T06:28:05.424628Z",
     "shell.execute_reply": "2021-06-08T06:28:05.424099Z",
     "shell.execute_reply.started": "2021-06-08T06:01:27.860815Z"
    },
    "papermill": {
     "duration": 0.051038,
     "end_time": "2021-06-08T06:28:05.424770",
     "exception": false,
     "start_time": "2021-06-08T06:28:05.373732",
     "status": "completed"
    },
    "tags": []
   },
   "outputs": [],
   "source": [
    "percent = 20"
   ]
  },
  {
   "cell_type": "markdown",
   "id": "outstanding-camel",
   "metadata": {
    "papermill": {
     "duration": 0.042523,
     "end_time": "2021-06-08T06:28:05.510392",
     "exception": false,
     "start_time": "2021-06-08T06:28:05.467869",
     "status": "completed"
    },
    "tags": []
   },
   "source": [
    "## Word Similarity Check\n",
    "\n",
    "**(aim is to return the most similar word to the given input word)**"
   ]
  },
  {
   "cell_type": "code",
   "execution_count": 5,
   "id": "enhanced-cooperation",
   "metadata": {
    "execution": {
     "iopub.execute_input": "2021-06-08T06:28:05.605658Z",
     "iopub.status.busy": "2021-06-08T06:28:05.604906Z",
     "iopub.status.idle": "2021-06-08T06:28:05.607465Z",
     "shell.execute_reply": "2021-06-08T06:28:05.608082Z",
     "shell.execute_reply.started": "2021-06-08T06:10:32.982326Z"
    },
    "papermill": {
     "duration": 0.054846,
     "end_time": "2021-06-08T06:28:05.608255",
     "exception": false,
     "start_time": "2021-06-08T06:28:05.553409",
     "status": "completed"
    },
    "tags": []
   },
   "outputs": [],
   "source": [
    "def synalter_Noun_Verb(word, a1, POS):\n",
    "    \n",
    "    max_temp = -1\n",
    "    flag = 0\n",
    "    \n",
    "    for i in a1:\n",
    "        try:\n",
    "            w1 = wordnet.synset(word + '.' + POS + '.01') \n",
    "            w2 = wordnet.synset(i + '.' + POS + '.01')\n",
    "\n",
    "            if(max_temp < w1.wup_similarity(w2)):\n",
    "                max_temp = w1.wup_similarity(w2)\n",
    "                temp_name = i\n",
    "                flag = 1\n",
    "        except:\n",
    "            f=0\n",
    "            \n",
    "    if flag == 0:\n",
    "        max1 = -1.\n",
    "        nlp = en_core_web_md.load()\n",
    "        \n",
    "        for i in a1:\n",
    "            j=i.replace(' ', '')\n",
    "            tokens = nlp(u'' + j)\n",
    "            token_main = nlp(u'' + word)\n",
    "            \n",
    "            for token1 in token_main:\n",
    "                if max1<float(token1.similarity(tokens)):\n",
    "                    max1 = token1.similarity(tokens)\n",
    "                    value = i\n",
    "                    \n",
    "        max1 = -1.\n",
    "        return value\n",
    "    \n",
    "    else:\n",
    "        return temp_name"
   ]
  },
  {
   "cell_type": "markdown",
   "id": "modern-amendment",
   "metadata": {
    "papermill": {
     "duration": 0.042267,
     "end_time": "2021-06-08T06:28:05.693189",
     "exception": false,
     "start_time": "2021-06-08T06:28:05.650922",
     "status": "completed"
    },
    "tags": []
   },
   "source": [
    "## Text Replacement\n",
    "\n",
    "1. Count the total number of Unique words and make a dictionary\n",
    "2. Filter out unique words and eliminate 2 letters word & numbers\n",
    "3. Make a list of Noun and Verb using spacy from the above-filtered list\n",
    "4. Random selection from Noun and Verb along with above mention percentage\n",
    "5. Loop all the randomly selected words\n",
    "   * create a word_str variable to store a word.\n",
    "   * Finding out all the synonyms using the thesaurus and making a list.\n",
    "   * Checking If a selected word is Noun or Verb and than passing to `synalter_Noun_Verb(word, al, POS)`\n",
    "   \n",
    "   \n",
    "6. Replacing the word with the new most similar word"
   ]
  },
  {
   "cell_type": "code",
   "execution_count": 6,
   "id": "tight-shopper",
   "metadata": {
    "execution": {
     "iopub.execute_input": "2021-06-08T06:28:05.781191Z",
     "iopub.status.busy": "2021-06-08T06:28:05.780524Z",
     "iopub.status.idle": "2021-06-08T06:28:05.795492Z",
     "shell.execute_reply": "2021-06-08T06:28:05.794915Z",
     "shell.execute_reply.started": "2021-06-08T06:23:27.271669Z"
    },
    "papermill": {
     "duration": 0.060198,
     "end_time": "2021-06-08T06:28:05.795643",
     "exception": false,
     "start_time": "2021-06-08T06:28:05.735445",
     "status": "completed"
    },
    "tags": []
   },
   "outputs": [],
   "source": [
    "def text_replacement(text):\n",
    "\n",
    "    synonyms = [] \n",
    "    antonyms = []\n",
    "\n",
    "    output_text = text\n",
    "    print(f\"Original Text: \\n\\n{text}\\n\")\n",
    "    print(\"=\"*90)\n",
    "\n",
    "    words = text.split()\n",
    "    counts = {}\n",
    "\n",
    "    for word in words:\n",
    "        if word not in counts:\n",
    "            counts[word] = 0\n",
    "\n",
    "        counts[word] += 1\n",
    "\n",
    "    one_word = []\n",
    "\n",
    "    for key, value in counts.items():\n",
    "        if value == 1 and key.isalpha() and len(key)>2:\n",
    "            one_word.append(key)\n",
    "\n",
    "    noun = []\n",
    "    verb = []\n",
    "\n",
    "    nlp = en_core_web_md.load()\n",
    "    doc = nlp(u''+' '.join(one_word))\n",
    "\n",
    "    for token in doc:\n",
    "        if  token.pos_ == 'VERB':\n",
    "            verb.append(token.text)\n",
    "\n",
    "        if  token.pos_ == 'NOUN':\n",
    "            noun.append(token.text)\n",
    "\n",
    "    all_main =verb + noun\n",
    "    len_all = len(noun)+len(verb)\n",
    "    final_value = int(len_all * percent /100)\n",
    "\n",
    "    random.seed(0)\n",
    "    dictionary=PyDictionary()\n",
    "    temp = random.sample(range(0, len_all), final_value)\n",
    "\n",
    "    for i in tqdm(temp):\n",
    "        word_str = all_main[i]\n",
    "        a1 = dictionary.synonym(word_str)\n",
    "        \n",
    "        if a1 is None:\n",
    "            continue\n",
    "        \n",
    "        else:\n",
    "            if i < len(verb):\n",
    "                change_word=synalter_Noun_Verb(word_str, a1, 'v')\n",
    "                search_word = re.search(r'\\b('+word_str+r')\\b', output_text)\n",
    "                Loc = search_word.start()\n",
    "                output_text = output_text[:int(Loc)] + '[' + change_word + ']' + output_text[int(Loc) + len(word_str):]\n",
    "\n",
    "            else:\n",
    "                change_word=synalter_Noun_Verb(word_str, a1, 'n')\n",
    "                search_word = re.search(r'\\b('+word_str+r')\\b', output_text)\n",
    "                Loc = search_word.start()\n",
    "                output_text = output_text[:int(Loc)] + '[' + change_word + ']' + output_text[int(Loc) + len(word_str):]\n",
    "    \n",
    "    print(\"=\"*90)\n",
    "    print(f'\\nAugmented Text:\\n\\n{output_text}\\n')"
   ]
  },
  {
   "cell_type": "code",
   "execution_count": 7,
   "id": "aerial-intranet",
   "metadata": {
    "execution": {
     "iopub.execute_input": "2021-06-08T06:28:05.887787Z",
     "iopub.status.busy": "2021-06-08T06:28:05.887119Z",
     "iopub.status.idle": "2021-06-08T06:28:51.826570Z",
     "shell.execute_reply": "2021-06-08T06:28:51.827078Z",
     "shell.execute_reply.started": "2021-06-08T06:19:49.635570Z"
    },
    "papermill": {
     "duration": 45.988719,
     "end_time": "2021-06-08T06:28:51.827270",
     "exception": false,
     "start_time": "2021-06-08T06:28:05.838551",
     "status": "completed"
    },
    "tags": []
   },
   "outputs": [
    {
     "name": "stdout",
     "output_type": "stream",
     "text": [
      "Original Text: \n",
      "\n",
      "When the young people returned to the ballroom, it presented a decidedly changed appearance. Instead of an interior scene, it was a winter landscape.\n",
      "The floor was covered with snow-white canvas, not laid on smoothly, but rumpled over bumps and hillocks, like a real snow field. The numerous palms and evergreens that had decorated the room, were powdered with flour and strewn with tufts of cotton, like snow. Also diamond dust had been lightly sprinkled on them, and glittering crystal icicles hung from the branches.\n",
      "At each end of the room, on the wall, hung a beautiful bear-skin rug.\n",
      "These rugs were for prizes, one for the girls and one for the boys. And this was the game.\n",
      "The girls were gathered at one end of the room and the boys at the other, and one end was called the North Pole, and the other the South Pole. Each player was given a small flag which they were to plant on reaching the Pole.\n",
      "This would have been an easy matter, but each traveller was obliged to wear snowshoes.\n",
      "\n",
      "==========================================================================================\n"
     ]
    },
    {
     "name": "stderr",
     "output_type": "stream",
     "text": [
      "100%|██████████| 7/7 [00:39<00:00,  5.57s/it]\n"
     ]
    },
    {
     "name": "stdout",
     "output_type": "stream",
     "text": [
      "==========================================================================================\n",
      "\n",
      "Augmented Text:\n",
      "\n",
      "When the young people returned to the ballroom, it presented a decidedly [transformed] appearance. Instead of an interior scene, it was a winter landscape.\n",
      "The floor was covered with snow-white canvas, not laid on smoothly, but rumpled over bumps and hillocks, like a real snow field. The numerous palms and evergreens that had decorated the room, were powdered with [semolina] and strewn with tufts of cotton, like snow. Also diamond [fallout] had been lightly sprinkled on them, and glittering crystal icicles hung from the branches.\n",
      "At each end of the room, on the wall, hung a beautiful bear-skin rug.\n",
      "These [broadloom] were for prizes, one for the girls and one for the [herb]. And this was the game.\n",
      "The girls were gathered at one end of the room and the boys at the other, and one end was called the North Pole, and the other the South Pole. Each player was [granted] a small flag which they were to plant on reaching the Pole.\n",
      "This would have been an easy matter, but each traveller was [obligated] to wear snowshoes.\n",
      "\n",
      "CPU times: user 40.5 s, sys: 2.46 s, total: 43 s\n",
      "Wall time: 45.9 s\n"
     ]
    }
   ],
   "source": [
    "%%time\n",
    "text_replacement(train_df.iloc[0]['excerpt'])"
   ]
  },
  {
   "cell_type": "code",
   "execution_count": 8,
   "id": "adjacent-approach",
   "metadata": {
    "execution": {
     "iopub.execute_input": "2021-06-08T06:28:51.949681Z",
     "iopub.status.busy": "2021-06-08T06:28:51.928615Z",
     "iopub.status.idle": "2021-06-08T06:29:15.210842Z",
     "shell.execute_reply": "2021-06-08T06:29:15.210271Z",
     "shell.execute_reply.started": "2021-06-08T06:23:30.270106Z"
    },
    "papermill": {
     "duration": 23.336296,
     "end_time": "2021-06-08T06:29:15.211003",
     "exception": false,
     "start_time": "2021-06-08T06:28:51.874707",
     "status": "completed"
    },
    "tags": []
   },
   "outputs": [
    {
     "name": "stdout",
     "output_type": "stream",
     "text": [
      "Original Text: \n",
      "\n",
      "The priest, smiling at this speech, answered: \"Being such as I am, I have no desire and no wishes. Glad as I am to hear your kind intentions, there is nothing that I can ask you to do for me. You need feel no anxiety on my account. As long as I live, when the winter comes, you shall be welcome here.\" The badger, on hearing this, could not conceal its admiration of the depth of the old man's benevolence; but having so much to be grateful for, it felt hurt at not being able to requite it. As this subject was often renewed between them, the priest at last, touched by the goodness of the badger's heart, said: \"Since I have shaven my head, renounced the world, and forsaken the pleasures of this life, I have no desire to gratify, yet I own I should like to possess three riyos in gold. Food and raiment, I receive by the favor of the villagers, so I take no heed for those things.\n",
      "\n",
      "==========================================================================================\n"
     ]
    },
    {
     "name": "stderr",
     "output_type": "stream",
     "text": [
      " 67%|██████▋   | 4/6 [00:08<00:03,  1.81s/it]"
     ]
    },
    {
     "name": "stdout",
     "output_type": "stream",
     "text": [
      "could has no Synonyms in the API\n"
     ]
    },
    {
     "name": "stderr",
     "output_type": "stream",
     "text": [
      " 83%|████████▎ | 5/6 [00:09<00:01,  1.47s/it]"
     ]
    },
    {
     "name": "stdout",
     "output_type": "stream",
     "text": [
      "should has no Synonyms in the API\n"
     ]
    },
    {
     "name": "stderr",
     "output_type": "stream",
     "text": [
      "100%|██████████| 6/6 [00:16<00:00,  2.80s/it]\n"
     ]
    },
    {
     "name": "stdout",
     "output_type": "stream",
     "text": [
      "==========================================================================================\n",
      "\n",
      "Augmented Text:\n",
      "\n",
      "The priest, smiling at this speech, answered: \"Being such as I am, I have no desire and no wishes. Glad as I am to hear your kind intentions, there is nothing that I [keep] ask you to do for me. You need feel no anxiety on my account. As long as I live, when the winter comes, you shall be welcome here.\" The badger, on hearing this, could not conceal its [philhellenism] of the depth of the old man's benevolence; but having so much to be grateful for, it felt hurt at not being able to [give] it. As this subject was often renewed between them, the priest at last, touched by the goodness of the badger's heart, said: \"Since I have shaven my head, renounced the world, and [abandon] the pleasures of this life, I have no desire to gratify, yet I own I should like to possess three riyos in gold. Food and raiment, I receive by the favor of the villagers, so I take no heed for those things.\n",
      "\n",
      "CPU times: user 19.2 s, sys: 972 ms, total: 20.2 s\n",
      "Wall time: 23.3 s\n"
     ]
    }
   ],
   "source": [
    "%%time\n",
    "text_replacement(train_df.iloc[100]['excerpt'])"
   ]
  },
  {
   "cell_type": "code",
   "execution_count": 9,
   "id": "chicken-restoration",
   "metadata": {
    "execution": {
     "iopub.execute_input": "2021-06-08T06:29:15.323059Z",
     "iopub.status.busy": "2021-06-08T06:29:15.322349Z",
     "iopub.status.idle": "2021-06-08T06:29:51.403986Z",
     "shell.execute_reply": "2021-06-08T06:29:51.403367Z",
     "shell.execute_reply.started": "2021-06-08T06:24:34.361392Z"
    },
    "papermill": {
     "duration": 36.13975,
     "end_time": "2021-06-08T06:29:51.404142",
     "exception": false,
     "start_time": "2021-06-08T06:29:15.264392",
     "status": "completed"
    },
    "tags": []
   },
   "outputs": [
    {
     "name": "stdout",
     "output_type": "stream",
     "text": [
      "Original Text: \n",
      "\n",
      "Most mornings, Hare would take some seeds from Hyena's granary. Then he went to his field and pretended to work. He would light a fire and roast the seeds. He did nothing, except eat roasted seeds. At harvest time, Hare went and stole his friend's ripe maize. He carried it to his own granary. Hyena complained about the stolen crops. Hare answered, \"Maybe the neighbors stole your maize. They are suffering from famine because they are lazy.\" Hyena thought about this problem for a long time. He came up with an idea. He collected gum from the trees. He put that sticky gum around the whole field. The thief would get stuck in the gum. During the night, Hare went to Hyena's field to steal more maize. Before entering the field, he looked around to see if it was safe. Hare did not see the gum that Hyena had put around the field. Hare stood in the gum and was stuck. He started shouting for help. Hyena heard the shouts and ran out to catch the thief. He could not believe his eyes. It was his friend Hare who was stuck in the gum!\n",
      "\n",
      "==========================================================================================\n"
     ]
    },
    {
     "name": "stderr",
     "output_type": "stream",
     "text": [
      "100%|██████████| 6/6 [00:29<00:00,  4.94s/it]\n"
     ]
    },
    {
     "name": "stdout",
     "output_type": "stream",
     "text": [
      "==========================================================================================\n",
      "\n",
      "Augmented Text:\n",
      "\n",
      "Most mornings, Hare would take some seeds from Hyena's granary. Then he went to his field and [assumed] to work. He would light a fire and roast the seeds. He did nothing, except eat roasted seeds. At [collect] time, Hare went and stole his friend's ripe maize. He carried it to his own granary. Hyena complained about the stolen crops. Hare answered, \"Maybe the neighbors stole your maize. They are suffering from [disaster] because they are lazy.\" Hyena thought about this problem for a long time. He [get] up with an idea. He collected gum from the trees. He put that sticky gum around the whole field. The thief would get stuck in the gum. During the night, Hare went to Hyena's field to steal more maize. Before entering the field, he looked around to see if it was safe. Hare did not see the gum that Hyena had put around the field. Hare stood in the gum and was stuck. He [begin] [cheering] for help. Hyena heard the shouts and ran out to catch the thief. He could not believe his eyes. It was his friend Hare who was stuck in the gum!\n",
      "\n",
      "CPU times: user 31.9 s, sys: 1.5 s, total: 33.4 s\n",
      "Wall time: 36.1 s\n"
     ]
    }
   ],
   "source": [
    "%%time\n",
    "text_replacement(train_df.iloc[1000]['excerpt'])"
   ]
  },
  {
   "cell_type": "code",
   "execution_count": null,
   "id": "knowing-luxury",
   "metadata": {
    "papermill": {
     "duration": 0.054352,
     "end_time": "2021-06-08T06:29:51.512990",
     "exception": false,
     "start_time": "2021-06-08T06:29:51.458638",
     "status": "completed"
    },
    "tags": []
   },
   "outputs": [],
   "source": []
  }
 ],
 "metadata": {
  "kernelspec": {
   "display_name": "Python 3",
   "language": "python",
   "name": "python3"
  },
  "language_info": {
   "codemirror_mode": {
    "name": "ipython",
    "version": 3
   },
   "file_extension": ".py",
   "mimetype": "text/x-python",
   "name": "python",
   "nbconvert_exporter": "python",
   "pygments_lexer": "ipython3",
   "version": "3.7.10"
  },
  "papermill": {
   "default_parameters": {},
   "duration": 150.930421,
   "end_time": "2021-06-08T06:29:53.599756",
   "environment_variables": {},
   "exception": null,
   "input_path": "__notebook__.ipynb",
   "output_path": "__notebook__.ipynb",
   "parameters": {},
   "start_time": "2021-06-08T06:27:22.669335",
   "version": "2.3.3"
  }
 },
 "nbformat": 4,
 "nbformat_minor": 5
}
