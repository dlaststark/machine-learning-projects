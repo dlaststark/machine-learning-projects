{
 "cells": [
  {
   "cell_type": "markdown",
   "id": "ffbfb445",
   "metadata": {
    "papermill": {
     "duration": 0.014088,
     "end_time": "2021-10-26T04:49:18.704026",
     "exception": false,
     "start_time": "2021-10-26T04:49:18.689938",
     "status": "completed"
    },
    "tags": []
   },
   "source": [
    "## Import libraries"
   ]
  },
  {
   "cell_type": "code",
   "execution_count": 1,
   "id": "36cb6103",
   "metadata": {
    "_cell_guid": "3e5a0bd1-3e22-4b2c-a565-68985e55f95e",
    "_uuid": "e331dbcc-0346-4019-9ff6-b890154a878b",
    "collapsed": false,
    "execution": {
     "iopub.execute_input": "2021-10-26T04:49:18.813040Z",
     "iopub.status.busy": "2021-10-26T04:49:18.812342Z",
     "iopub.status.idle": "2021-10-26T04:49:23.722357Z",
     "shell.execute_reply": "2021-10-26T04:49:23.721450Z",
     "shell.execute_reply.started": "2021-10-17T17:09:20.415067Z"
    },
    "jupyter": {
     "outputs_hidden": false
    },
    "papermill": {
     "duration": 5.005317,
     "end_time": "2021-10-26T04:49:23.722515",
     "exception": false,
     "start_time": "2021-10-26T04:49:18.717198",
     "status": "completed"
    },
    "tags": []
   },
   "outputs": [
    {
     "name": "stderr",
     "output_type": "stream",
     "text": [
      "2021-10-26 04:49:20.102375: I tensorflow/stream_executor/platform/default/dso_loader.cc:49] Successfully opened dynamic library libcudart.so.11.0\n"
     ]
    }
   ],
   "source": [
    "import gc\n",
    "import numpy as np\n",
    "import pandas as pd\n",
    "from sklearn.preprocessing import RobustScaler\n",
    "from sklearn.metrics import mean_absolute_error\n",
    "\n",
    "import tensorflow as tf\n",
    "from tensorflow.keras.utils import plot_model\n",
    "from tensorflow.keras.models import Model, load_model\n",
    "from tensorflow.keras.callbacks import EarlyStopping\n",
    "from tensorflow.keras.callbacks import ModelCheckpoint\n",
    "from tensorflow.keras.callbacks import ReduceLROnPlateau\n",
    "from tensorflow.keras.layers import Bidirectional, LSTM\n",
    "from tensorflow.keras.layers import Dense, Dropout, Input\n",
    "from tensorflow.keras.layers import Concatenate, Add, GRU\n",
    "\n",
    "np.random.seed(42)\n",
    "tf.random.set_seed(42)"
   ]
  },
  {
   "cell_type": "markdown",
   "id": "3b00daca",
   "metadata": {
    "papermill": {
     "duration": 0.012779,
     "end_time": "2021-10-26T04:49:23.748433",
     "exception": false,
     "start_time": "2021-10-26T04:49:23.735654",
     "status": "completed"
    },
    "tags": []
   },
   "source": [
    "## Load source datasets"
   ]
  },
  {
   "cell_type": "code",
   "execution_count": 2,
   "id": "a62bfdcd",
   "metadata": {
    "_cell_guid": "89eb257e-0ed2-4f8b-94d6-462a5e995eb1",
    "_uuid": "ca71d87d-6594-4f31-906d-0b53cd4c1374",
    "collapsed": false,
    "execution": {
     "iopub.execute_input": "2021-10-26T04:49:23.778380Z",
     "iopub.status.busy": "2021-10-26T04:49:23.777236Z",
     "iopub.status.idle": "2021-10-26T04:49:31.576036Z",
     "shell.execute_reply": "2021-10-26T04:49:31.575532Z",
     "shell.execute_reply.started": "2021-10-17T17:09:25.135956Z"
    },
    "jupyter": {
     "outputs_hidden": false
    },
    "papermill": {
     "duration": 7.81525,
     "end_time": "2021-10-26T04:49:31.576172",
     "exception": false,
     "start_time": "2021-10-26T04:49:23.760922",
     "status": "completed"
    },
    "tags": []
   },
   "outputs": [
    {
     "name": "stdout",
     "output_type": "stream",
     "text": [
      "train_df: (6036000, 8)\n"
     ]
    },
    {
     "data": {
      "text/html": [
       "<div>\n",
       "<style scoped>\n",
       "    .dataframe tbody tr th:only-of-type {\n",
       "        vertical-align: middle;\n",
       "    }\n",
       "\n",
       "    .dataframe tbody tr th {\n",
       "        vertical-align: top;\n",
       "    }\n",
       "\n",
       "    .dataframe thead th {\n",
       "        text-align: right;\n",
       "    }\n",
       "</style>\n",
       "<table border=\"1\" class=\"dataframe\">\n",
       "  <thead>\n",
       "    <tr style=\"text-align: right;\">\n",
       "      <th></th>\n",
       "      <th>id</th>\n",
       "      <th>breath_id</th>\n",
       "      <th>R</th>\n",
       "      <th>C</th>\n",
       "      <th>time_step</th>\n",
       "      <th>u_in</th>\n",
       "      <th>u_out</th>\n",
       "      <th>pressure</th>\n",
       "    </tr>\n",
       "  </thead>\n",
       "  <tbody>\n",
       "    <tr>\n",
       "      <th>0</th>\n",
       "      <td>1</td>\n",
       "      <td>1</td>\n",
       "      <td>20</td>\n",
       "      <td>50</td>\n",
       "      <td>0.000000</td>\n",
       "      <td>0.083334</td>\n",
       "      <td>0</td>\n",
       "      <td>5.837492</td>\n",
       "    </tr>\n",
       "    <tr>\n",
       "      <th>1</th>\n",
       "      <td>2</td>\n",
       "      <td>1</td>\n",
       "      <td>20</td>\n",
       "      <td>50</td>\n",
       "      <td>0.033652</td>\n",
       "      <td>18.383041</td>\n",
       "      <td>0</td>\n",
       "      <td>5.907794</td>\n",
       "    </tr>\n",
       "    <tr>\n",
       "      <th>2</th>\n",
       "      <td>3</td>\n",
       "      <td>1</td>\n",
       "      <td>20</td>\n",
       "      <td>50</td>\n",
       "      <td>0.067514</td>\n",
       "      <td>22.509278</td>\n",
       "      <td>0</td>\n",
       "      <td>7.876254</td>\n",
       "    </tr>\n",
       "    <tr>\n",
       "      <th>3</th>\n",
       "      <td>4</td>\n",
       "      <td>1</td>\n",
       "      <td>20</td>\n",
       "      <td>50</td>\n",
       "      <td>0.101542</td>\n",
       "      <td>22.808822</td>\n",
       "      <td>0</td>\n",
       "      <td>11.742872</td>\n",
       "    </tr>\n",
       "    <tr>\n",
       "      <th>4</th>\n",
       "      <td>5</td>\n",
       "      <td>1</td>\n",
       "      <td>20</td>\n",
       "      <td>50</td>\n",
       "      <td>0.135756</td>\n",
       "      <td>25.355850</td>\n",
       "      <td>0</td>\n",
       "      <td>12.234987</td>\n",
       "    </tr>\n",
       "  </tbody>\n",
       "</table>\n",
       "</div>"
      ],
      "text/plain": [
       "   id  breath_id   R   C  time_step       u_in  u_out   pressure\n",
       "0   1          1  20  50   0.000000   0.083334      0   5.837492\n",
       "1   2          1  20  50   0.033652  18.383041      0   5.907794\n",
       "2   3          1  20  50   0.067514  22.509278      0   7.876254\n",
       "3   4          1  20  50   0.101542  22.808822      0  11.742872\n",
       "4   5          1  20  50   0.135756  25.355850      0  12.234987"
      ]
     },
     "execution_count": 2,
     "metadata": {},
     "output_type": "execute_result"
    }
   ],
   "source": [
    "train_df = pd.read_csv('../input/ventilator-pressure-prediction/train.csv')\n",
    "print(f\"train_df: {train_df.shape}\")\n",
    "train_df.head()"
   ]
  },
  {
   "cell_type": "code",
   "execution_count": 3,
   "id": "258de4f9",
   "metadata": {
    "execution": {
     "iopub.execute_input": "2021-10-26T04:49:31.609241Z",
     "iopub.status.busy": "2021-10-26T04:49:31.608717Z",
     "iopub.status.idle": "2021-10-26T04:49:36.178239Z",
     "shell.execute_reply": "2021-10-26T04:49:36.178726Z",
     "shell.execute_reply.started": "2021-10-17T17:09:32.808601Z"
    },
    "papermill": {
     "duration": 4.587965,
     "end_time": "2021-10-26T04:49:36.178934",
     "exception": false,
     "start_time": "2021-10-26T04:49:31.590969",
     "status": "completed"
    },
    "tags": []
   },
   "outputs": [
    {
     "name": "stdout",
     "output_type": "stream",
     "text": [
      "test_df: (4024000, 7)\n"
     ]
    },
    {
     "data": {
      "text/html": [
       "<div>\n",
       "<style scoped>\n",
       "    .dataframe tbody tr th:only-of-type {\n",
       "        vertical-align: middle;\n",
       "    }\n",
       "\n",
       "    .dataframe tbody tr th {\n",
       "        vertical-align: top;\n",
       "    }\n",
       "\n",
       "    .dataframe thead th {\n",
       "        text-align: right;\n",
       "    }\n",
       "</style>\n",
       "<table border=\"1\" class=\"dataframe\">\n",
       "  <thead>\n",
       "    <tr style=\"text-align: right;\">\n",
       "      <th></th>\n",
       "      <th>id</th>\n",
       "      <th>breath_id</th>\n",
       "      <th>R</th>\n",
       "      <th>C</th>\n",
       "      <th>time_step</th>\n",
       "      <th>u_in</th>\n",
       "      <th>u_out</th>\n",
       "    </tr>\n",
       "  </thead>\n",
       "  <tbody>\n",
       "    <tr>\n",
       "      <th>0</th>\n",
       "      <td>1</td>\n",
       "      <td>0</td>\n",
       "      <td>5</td>\n",
       "      <td>20</td>\n",
       "      <td>0.000000</td>\n",
       "      <td>0.000000</td>\n",
       "      <td>0</td>\n",
       "    </tr>\n",
       "    <tr>\n",
       "      <th>1</th>\n",
       "      <td>2</td>\n",
       "      <td>0</td>\n",
       "      <td>5</td>\n",
       "      <td>20</td>\n",
       "      <td>0.031904</td>\n",
       "      <td>7.515046</td>\n",
       "      <td>0</td>\n",
       "    </tr>\n",
       "    <tr>\n",
       "      <th>2</th>\n",
       "      <td>3</td>\n",
       "      <td>0</td>\n",
       "      <td>5</td>\n",
       "      <td>20</td>\n",
       "      <td>0.063827</td>\n",
       "      <td>14.651675</td>\n",
       "      <td>0</td>\n",
       "    </tr>\n",
       "    <tr>\n",
       "      <th>3</th>\n",
       "      <td>4</td>\n",
       "      <td>0</td>\n",
       "      <td>5</td>\n",
       "      <td>20</td>\n",
       "      <td>0.095751</td>\n",
       "      <td>21.230610</td>\n",
       "      <td>0</td>\n",
       "    </tr>\n",
       "    <tr>\n",
       "      <th>4</th>\n",
       "      <td>5</td>\n",
       "      <td>0</td>\n",
       "      <td>5</td>\n",
       "      <td>20</td>\n",
       "      <td>0.127644</td>\n",
       "      <td>26.320956</td>\n",
       "      <td>0</td>\n",
       "    </tr>\n",
       "  </tbody>\n",
       "</table>\n",
       "</div>"
      ],
      "text/plain": [
       "   id  breath_id  R   C  time_step       u_in  u_out\n",
       "0   1          0  5  20   0.000000   0.000000      0\n",
       "1   2          0  5  20   0.031904   7.515046      0\n",
       "2   3          0  5  20   0.063827  14.651675      0\n",
       "3   4          0  5  20   0.095751  21.230610      0\n",
       "4   5          0  5  20   0.127644  26.320956      0"
      ]
     },
     "execution_count": 3,
     "metadata": {},
     "output_type": "execute_result"
    }
   ],
   "source": [
    "test_df = pd.read_csv('../input/ventilator-pressure-prediction/test.csv')\n",
    "print(f\"test_df: {test_df.shape}\")\n",
    "test_df.head()"
   ]
  },
  {
   "cell_type": "markdown",
   "id": "7e916e6e",
   "metadata": {
    "papermill": {
     "duration": 0.014492,
     "end_time": "2021-10-26T04:49:36.207954",
     "exception": false,
     "start_time": "2021-10-26T04:49:36.193462",
     "status": "completed"
    },
    "tags": []
   },
   "source": [
    "## Feature Engineering"
   ]
  },
  {
   "cell_type": "code",
   "execution_count": 4,
   "id": "e6f68017",
   "metadata": {
    "_cell_guid": "13a36b46-7067-4b29-aad3-7e3b15e8415b",
    "_uuid": "dc41dbf2-f199-4b9d-bbd9-bf6084162b47",
    "collapsed": false,
    "execution": {
     "iopub.execute_input": "2021-10-26T04:49:36.266816Z",
     "iopub.status.busy": "2021-10-26T04:49:36.266225Z",
     "iopub.status.idle": "2021-10-26T04:53:00.676123Z",
     "shell.execute_reply": "2021-10-26T04:53:00.675579Z",
     "shell.execute_reply.started": "2021-10-17T17:09:36.939292Z"
    },
    "jupyter": {
     "outputs_hidden": false
    },
    "papermill": {
     "duration": 204.452854,
     "end_time": "2021-10-26T04:53:00.676262",
     "exception": false,
     "start_time": "2021-10-26T04:49:36.223408",
     "status": "completed"
    },
    "tags": []
   },
   "outputs": [
    {
     "name": "stdout",
     "output_type": "stream",
     "text": [
      "Train data...\n",
      "\n",
      "Step-1...Completed\n",
      "Step-2...Completed\n",
      "Step-3...Completed\n",
      "Step-4...Completed\n",
      "Step-5...Completed\n",
      "Step-6...Completed\n",
      "Step-7...Completed\n",
      "Step-8...Completed\n",
      "\n",
      "Test data...\n",
      "\n",
      "Step-1...Completed\n",
      "Step-2...Completed\n",
      "Step-3...Completed\n",
      "Step-4...Completed\n",
      "Step-5...Completed\n",
      "Step-6...Completed\n",
      "Step-7...Completed\n",
      "Step-8...Completed\n"
     ]
    },
    {
     "data": {
      "text/plain": [
       "0"
      ]
     },
     "execution_count": 4,
     "metadata": {},
     "output_type": "execute_result"
    }
   ],
   "source": [
    "def add_features(df):\n",
    "    df['cross']= df['u_in'] * df['u_out']\n",
    "    df['cross2']= df['time_step'] * df['u_out']\n",
    "    df['area'] = df['time_step'] * df['u_in']\n",
    "    df['area'] = df.groupby('breath_id')['area'].cumsum()\n",
    "    df['time_step_cumsum'] = df.groupby(['breath_id'])['time_step'].cumsum()\n",
    "    df['u_in_cumsum'] = (df['u_in']).groupby(df['breath_id']).cumsum()\n",
    "    print(\"Step-1...Completed\")\n",
    "    \n",
    "    df['u_in_lag1'] = df.groupby('breath_id')['u_in'].shift(1)\n",
    "    df['u_out_lag1'] = df.groupby('breath_id')['u_out'].shift(1)\n",
    "    df['u_in_lag_back1'] = df.groupby('breath_id')['u_in'].shift(-1)\n",
    "    df['u_out_lag_back1'] = df.groupby('breath_id')['u_out'].shift(-1)\n",
    "    df['u_in_lag2'] = df.groupby('breath_id')['u_in'].shift(2)\n",
    "    df['u_out_lag2'] = df.groupby('breath_id')['u_out'].shift(2)\n",
    "    df['u_in_lag_back2'] = df.groupby('breath_id')['u_in'].shift(-2)\n",
    "    df['u_out_lag_back2'] = df.groupby('breath_id')['u_out'].shift(-2)\n",
    "    df['u_in_lag3'] = df.groupby('breath_id')['u_in'].shift(3)\n",
    "    df['u_out_lag3'] = df.groupby('breath_id')['u_out'].shift(3)\n",
    "    df['u_in_lag_back3'] = df.groupby('breath_id')['u_in'].shift(-3)\n",
    "    df['u_out_lag_back3'] = df.groupby('breath_id')['u_out'].shift(-3)\n",
    "    df['u_in_lag4'] = df.groupby('breath_id')['u_in'].shift(4)\n",
    "    df['u_out_lag4'] = df.groupby('breath_id')['u_out'].shift(4)\n",
    "    df['u_in_lag_back4'] = df.groupby('breath_id')['u_in'].shift(-4)\n",
    "    df['u_out_lag_back4'] = df.groupby('breath_id')['u_out'].shift(-4)\n",
    "    df = df.fillna(0)\n",
    "    print(\"Step-2...Completed\")\n",
    "    \n",
    "    df['breath_id__u_in__max'] = df.groupby(['breath_id'])['u_in'].transform('max')\n",
    "    df['breath_id__u_in__mean'] = df.groupby(['breath_id'])['u_in'].transform('mean')\n",
    "    df['breath_id__u_in__diffmax'] = df.groupby(['breath_id'])['u_in'].transform('max') - df['u_in']\n",
    "    df['breath_id__u_in__diffmean'] = df.groupby(['breath_id'])['u_in'].transform('mean') - df['u_in']\n",
    "    print(\"Step-3...Completed\")\n",
    "    \n",
    "    df['u_in_diff1'] = df['u_in'] - df['u_in_lag1']\n",
    "    df['u_out_diff1'] = df['u_out'] - df['u_out_lag1']\n",
    "    df['u_in_diff2'] = df['u_in'] - df['u_in_lag2']\n",
    "    df['u_out_diff2'] = df['u_out'] - df['u_out_lag2']\n",
    "    df['u_in_diff3'] = df['u_in'] - df['u_in_lag3']\n",
    "    df['u_out_diff3'] = df['u_out'] - df['u_out_lag3']\n",
    "    df['u_in_diff4'] = df['u_in'] - df['u_in_lag4']\n",
    "    df['u_out_diff4'] = df['u_out'] - df['u_out_lag4']\n",
    "    print(\"Step-4...Completed\")\n",
    "    \n",
    "    df['one'] = 1\n",
    "    df['count'] = (df['one']).groupby(df['breath_id']).cumsum()\n",
    "    df['u_in_cummean'] =df['u_in_cumsum'] /df['count']\n",
    "    \n",
    "    df['breath_id_lag']=df['breath_id'].shift(1).fillna(0)\n",
    "    df['breath_id_lag2']=df['breath_id'].shift(2).fillna(0)\n",
    "    df['breath_id_lagsame']=np.select([df['breath_id_lag']==df['breath_id']],[1],0)\n",
    "    df['breath_id_lag2same']=np.select([df['breath_id_lag2']==df['breath_id']],[1],0)\n",
    "    df['breath_id__u_in_lag'] = df['u_in'].shift(1).fillna(0)\n",
    "    df['breath_id__u_in_lag'] = df['breath_id__u_in_lag'] * df['breath_id_lagsame']\n",
    "    df['breath_id__u_in_lag2'] = df['u_in'].shift(2).fillna(0)\n",
    "    df['breath_id__u_in_lag2'] = df['breath_id__u_in_lag2'] * df['breath_id_lag2same']\n",
    "    print(\"Step-5...Completed\")\n",
    "    \n",
    "    df['time_step_diff'] = df.groupby('breath_id')['time_step'].diff().fillna(0)\n",
    "    df['ewm_u_in_mean'] = (df\\\n",
    "                           .groupby('breath_id')['u_in']\\\n",
    "                           .ewm(halflife=9)\\\n",
    "                           .mean()\\\n",
    "                           .reset_index(level=0,drop=True))\n",
    "    df[[\"15_in_sum\",\"15_in_min\",\"15_in_max\",\"15_in_mean\"]] = (df\\\n",
    "                                                              .groupby('breath_id')['u_in']\\\n",
    "                                                              .rolling(window=15,min_periods=1)\\\n",
    "                                                              .agg({\"15_in_sum\":\"sum\",\n",
    "                                                                    \"15_in_min\":\"min\",\n",
    "                                                                    \"15_in_max\":\"max\",\n",
    "                                                                    \"15_in_mean\":\"mean\"})\\\n",
    "                                                               .reset_index(level=0,drop=True))\n",
    "    print(\"Step-6...Completed\")\n",
    "    \n",
    "    df['u_in_lagback_diff1'] = df['u_in'] - df['u_in_lag_back1']\n",
    "    df['u_out_lagback_diff1'] = df['u_out'] - df['u_out_lag_back1']\n",
    "    df['u_in_lagback_diff2'] = df['u_in'] - df['u_in_lag_back2']\n",
    "    df['u_out_lagback_diff2'] = df['u_out'] - df['u_out_lag_back2']\n",
    "    print(\"Step-7...Completed\")\n",
    "    \n",
    "    df['R'] = df['R'].astype(str)\n",
    "    df['C'] = df['C'].astype(str)\n",
    "    df['R__C'] = df[\"R\"].astype(str) + '__' + df[\"C\"].astype(str)\n",
    "    df = pd.get_dummies(df)\n",
    "    print(\"Step-8...Completed\")\n",
    "    \n",
    "    return df\n",
    "\n",
    "\n",
    "print(\"Train data...\\n\")\n",
    "train = add_features(train_df)\n",
    "\n",
    "print(\"\\nTest data...\\n\")\n",
    "test = add_features(test_df)\n",
    "\n",
    "del train_df\n",
    "del test_df\n",
    "gc.collect()"
   ]
  },
  {
   "cell_type": "code",
   "execution_count": 5,
   "id": "3c2fd445",
   "metadata": {
    "_cell_guid": "01328860-fa2a-421c-9e5f-ea0048246f98",
    "_uuid": "346bf2c0-96d2-4da5-8837-c0f820294a85",
    "collapsed": false,
    "execution": {
     "iopub.execute_input": "2021-10-26T04:53:00.724012Z",
     "iopub.status.busy": "2021-10-26T04:53:00.722766Z",
     "iopub.status.idle": "2021-10-26T04:53:05.754302Z",
     "shell.execute_reply": "2021-10-26T04:53:05.754942Z",
     "shell.execute_reply.started": "2021-10-17T17:13:07.616322Z"
    },
    "jupyter": {
     "outputs_hidden": false
    },
    "papermill": {
     "duration": 5.054451,
     "end_time": "2021-10-26T04:53:05.755100",
     "exception": false,
     "start_time": "2021-10-26T04:53:00.700649",
     "status": "completed"
    },
    "tags": []
   },
   "outputs": [
    {
     "name": "stdout",
     "output_type": "stream",
     "text": [
      "train: (6036000, 64) \n",
      "test: (4024000, 64)\n"
     ]
    }
   ],
   "source": [
    "pressure = train[['pressure']].values.astype('float32')\n",
    "\n",
    "train.drop(['pressure','id', 'breath_id','one','count',\n",
    "            'breath_id_lag','breath_id_lag2','breath_id_lagsame',\n",
    "            'breath_id_lag2same'], axis=1, inplace=True)\n",
    "\n",
    "test = test.drop(['id', 'breath_id','one','count','breath_id_lag',\n",
    "                  'breath_id_lag2','breath_id_lagsame',\n",
    "                  'breath_id_lag2same'], axis=1)\n",
    "\n",
    "print(f\"train: {train.shape} \\ntest: {test.shape}\")"
   ]
  },
  {
   "cell_type": "code",
   "execution_count": 6,
   "id": "4245f981",
   "metadata": {
    "execution": {
     "iopub.execute_input": "2021-10-26T04:53:05.798427Z",
     "iopub.status.busy": "2021-10-26T04:53:05.797548Z",
     "iopub.status.idle": "2021-10-26T04:53:06.106835Z",
     "shell.execute_reply": "2021-10-26T04:53:06.106326Z",
     "shell.execute_reply.started": "2021-10-17T17:13:12.672412Z"
    },
    "papermill": {
     "duration": 0.332683,
     "end_time": "2021-10-26T04:53:06.106997",
     "exception": false,
     "start_time": "2021-10-26T04:53:05.774314",
     "status": "completed"
    },
    "tags": []
   },
   "outputs": [
    {
     "name": "stdout",
     "output_type": "stream",
     "text": [
      "Min pressure: -1.8957443237304688\n",
      "Max pressure: 64.82099151611328\n",
      "Pressure step: 0.07030248641967773\n",
      "Unique values:  950\n"
     ]
    }
   ],
   "source": [
    "P_MIN = np.min(pressure)\n",
    "P_MAX = np.max(pressure)\n",
    "P_STEP = (pressure[1] - pressure[0])[0]\n",
    "print('Min pressure: {}'.format(P_MIN))\n",
    "print('Max pressure: {}'.format(P_MAX))\n",
    "print('Pressure step: {}'.format(P_STEP))\n",
    "print('Unique values:  {}'.format(np.unique(pressure).shape[0]))"
   ]
  },
  {
   "cell_type": "code",
   "execution_count": 7,
   "id": "345390b0",
   "metadata": {
    "execution": {
     "iopub.execute_input": "2021-10-26T04:53:06.154787Z",
     "iopub.status.busy": "2021-10-26T04:53:06.153541Z",
     "iopub.status.idle": "2021-10-26T04:53:16.157371Z",
     "shell.execute_reply": "2021-10-26T04:53:16.157845Z",
     "shell.execute_reply.started": "2021-10-17T17:13:13.036126Z"
    },
    "papermill": {
     "duration": 10.031398,
     "end_time": "2021-10-26T04:53:16.158019",
     "exception": false,
     "start_time": "2021-10-26T04:53:06.126621",
     "status": "completed"
    },
    "tags": []
   },
   "outputs": [
    {
     "name": "stdout",
     "output_type": "stream",
     "text": [
      "test: (50300, 80, 64)\n"
     ]
    },
    {
     "data": {
      "text/plain": [
       "63"
      ]
     },
     "execution_count": 7,
     "metadata": {},
     "output_type": "execute_result"
    }
   ],
   "source": [
    "scaler = RobustScaler().fit(train)\n",
    "test = scaler.transform(test)\n",
    "\n",
    "test = test.reshape(-1, 80, train.shape[-1]).astype('float32')\n",
    "print(f\"test: {test.shape}\")\n",
    "\n",
    "del train\n",
    "gc.collect()"
   ]
  },
  {
   "cell_type": "markdown",
   "id": "588f6b25",
   "metadata": {
    "papermill": {
     "duration": 0.019397,
     "end_time": "2021-10-26T04:53:16.198357",
     "exception": false,
     "start_time": "2021-10-26T04:53:16.178960",
     "status": "completed"
    },
    "tags": []
   },
   "source": [
    "## Keras Model"
   ]
  },
  {
   "cell_type": "code",
   "execution_count": 8,
   "id": "0442f147",
   "metadata": {
    "execution": {
     "iopub.execute_input": "2021-10-26T04:53:16.242507Z",
     "iopub.status.busy": "2021-10-26T04:53:16.241817Z",
     "iopub.status.idle": "2021-10-26T04:53:16.244476Z",
     "shell.execute_reply": "2021-10-26T04:53:16.244017Z",
     "shell.execute_reply.started": "2021-10-17T17:14:51.433132Z"
    },
    "papermill": {
     "duration": 0.026709,
     "end_time": "2021-10-26T04:53:16.244621",
     "exception": false,
     "start_time": "2021-10-26T04:53:16.217912",
     "status": "completed"
    },
    "tags": []
   },
   "outputs": [],
   "source": [
    "def head(x_input1, x_input2):\n",
    "    \n",
    "    x = Concatenate()([x_input1, x_input2])\n",
    "    x = Dense(units=256, activation='selu')(x)\n",
    "    x = Dense(units=128, activation='selu')(x)\n",
    "    x = Dense(units=64, activation='selu')(x)\n",
    "    x = Dense(units=1)(x)\n",
    "    \n",
    "    return x"
   ]
  },
  {
   "cell_type": "code",
   "execution_count": 9,
   "id": "23896acb",
   "metadata": {
    "execution": {
     "iopub.execute_input": "2021-10-26T04:53:16.288522Z",
     "iopub.status.busy": "2021-10-26T04:53:16.288008Z",
     "iopub.status.idle": "2021-10-26T04:53:39.126774Z",
     "shell.execute_reply": "2021-10-26T04:53:39.125779Z",
     "shell.execute_reply.started": "2021-10-17T17:14:51.765703Z"
    },
    "papermill": {
     "duration": 22.863553,
     "end_time": "2021-10-26T04:53:39.126934",
     "exception": false,
     "start_time": "2021-10-26T04:53:16.263381",
     "status": "completed"
    },
    "tags": []
   },
   "outputs": [
    {
     "name": "stderr",
     "output_type": "stream",
     "text": [
      "2021-10-26 04:53:16.345943: I tensorflow/compiler/jit/xla_cpu_device.cc:41] Not creating XLA devices, tf_xla_enable_xla_devices not set\n",
      "2021-10-26 04:53:16.352051: I tensorflow/stream_executor/platform/default/dso_loader.cc:49] Successfully opened dynamic library libcuda.so.1\n",
      "2021-10-26 04:53:16.399618: I tensorflow/stream_executor/cuda/cuda_gpu_executor.cc:941] successful NUMA node read from SysFS had negative value (-1), but there must be at least one NUMA node, so returning NUMA node zero\n",
      "2021-10-26 04:53:16.400331: I tensorflow/core/common_runtime/gpu/gpu_device.cc:1720] Found device 0 with properties: \n",
      "pciBusID: 0000:00:04.0 name: Tesla P100-PCIE-16GB computeCapability: 6.0\n",
      "coreClock: 1.3285GHz coreCount: 56 deviceMemorySize: 15.90GiB deviceMemoryBandwidth: 681.88GiB/s\n",
      "2021-10-26 04:53:16.400396: I tensorflow/stream_executor/platform/default/dso_loader.cc:49] Successfully opened dynamic library libcudart.so.11.0\n",
      "2021-10-26 04:53:16.429413: I tensorflow/stream_executor/platform/default/dso_loader.cc:49] Successfully opened dynamic library libcublas.so.11\n",
      "2021-10-26 04:53:16.429515: I tensorflow/stream_executor/platform/default/dso_loader.cc:49] Successfully opened dynamic library libcublasLt.so.11\n",
      "2021-10-26 04:53:16.447328: I tensorflow/stream_executor/platform/default/dso_loader.cc:49] Successfully opened dynamic library libcufft.so.10\n",
      "2021-10-26 04:53:16.456416: I tensorflow/stream_executor/platform/default/dso_loader.cc:49] Successfully opened dynamic library libcurand.so.10\n",
      "2021-10-26 04:53:16.482297: I tensorflow/stream_executor/platform/default/dso_loader.cc:49] Successfully opened dynamic library libcusolver.so.10\n",
      "2021-10-26 04:53:16.489905: I tensorflow/stream_executor/platform/default/dso_loader.cc:49] Successfully opened dynamic library libcusparse.so.11\n",
      "2021-10-26 04:53:16.496143: I tensorflow/stream_executor/platform/default/dso_loader.cc:49] Successfully opened dynamic library libcudnn.so.8\n",
      "2021-10-26 04:53:16.496333: I tensorflow/stream_executor/cuda/cuda_gpu_executor.cc:941] successful NUMA node read from SysFS had negative value (-1), but there must be at least one NUMA node, so returning NUMA node zero\n",
      "2021-10-26 04:53:16.497083: I tensorflow/stream_executor/cuda/cuda_gpu_executor.cc:941] successful NUMA node read from SysFS had negative value (-1), but there must be at least one NUMA node, so returning NUMA node zero\n",
      "2021-10-26 04:53:16.498758: I tensorflow/core/common_runtime/gpu/gpu_device.cc:1862] Adding visible gpu devices: 0\n",
      "2021-10-26 04:53:16.499931: I tensorflow/core/platform/cpu_feature_guard.cc:142] This TensorFlow binary is optimized with oneAPI Deep Neural Network Library (oneDNN) to use the following CPU instructions in performance-critical operations:  AVX2 AVX512F FMA\n",
      "To enable them in other operations, rebuild TensorFlow with the appropriate compiler flags.\n",
      "2021-10-26 04:53:16.501512: I tensorflow/compiler/jit/xla_gpu_device.cc:99] Not creating XLA devices, tf_xla_enable_xla_devices not set\n",
      "2021-10-26 04:53:16.501688: I tensorflow/stream_executor/cuda/cuda_gpu_executor.cc:941] successful NUMA node read from SysFS had negative value (-1), but there must be at least one NUMA node, so returning NUMA node zero\n",
      "2021-10-26 04:53:16.502291: I tensorflow/core/common_runtime/gpu/gpu_device.cc:1720] Found device 0 with properties: \n",
      "pciBusID: 0000:00:04.0 name: Tesla P100-PCIE-16GB computeCapability: 6.0\n",
      "coreClock: 1.3285GHz coreCount: 56 deviceMemorySize: 15.90GiB deviceMemoryBandwidth: 681.88GiB/s\n",
      "2021-10-26 04:53:16.502346: I tensorflow/stream_executor/platform/default/dso_loader.cc:49] Successfully opened dynamic library libcudart.so.11.0\n",
      "2021-10-26 04:53:16.502375: I tensorflow/stream_executor/platform/default/dso_loader.cc:49] Successfully opened dynamic library libcublas.so.11\n",
      "2021-10-26 04:53:16.502398: I tensorflow/stream_executor/platform/default/dso_loader.cc:49] Successfully opened dynamic library libcublasLt.so.11\n",
      "2021-10-26 04:53:16.502421: I tensorflow/stream_executor/platform/default/dso_loader.cc:49] Successfully opened dynamic library libcufft.so.10\n",
      "2021-10-26 04:53:16.502443: I tensorflow/stream_executor/platform/default/dso_loader.cc:49] Successfully opened dynamic library libcurand.so.10\n",
      "2021-10-26 04:53:16.502474: I tensorflow/stream_executor/platform/default/dso_loader.cc:49] Successfully opened dynamic library libcusolver.so.10\n",
      "2021-10-26 04:53:16.502500: I tensorflow/stream_executor/platform/default/dso_loader.cc:49] Successfully opened dynamic library libcusparse.so.11\n",
      "2021-10-26 04:53:16.502523: I tensorflow/stream_executor/platform/default/dso_loader.cc:49] Successfully opened dynamic library libcudnn.so.8\n",
      "2021-10-26 04:53:16.502602: I tensorflow/stream_executor/cuda/cuda_gpu_executor.cc:941] successful NUMA node read from SysFS had negative value (-1), but there must be at least one NUMA node, so returning NUMA node zero\n",
      "2021-10-26 04:53:16.503336: I tensorflow/stream_executor/cuda/cuda_gpu_executor.cc:941] successful NUMA node read from SysFS had negative value (-1), but there must be at least one NUMA node, so returning NUMA node zero\n",
      "2021-10-26 04:53:16.503941: I tensorflow/core/common_runtime/gpu/gpu_device.cc:1862] Adding visible gpu devices: 0\n",
      "2021-10-26 04:53:16.504961: I tensorflow/stream_executor/platform/default/dso_loader.cc:49] Successfully opened dynamic library libcudart.so.11.0\n",
      "2021-10-26 04:53:17.991989: I tensorflow/core/common_runtime/gpu/gpu_device.cc:1261] Device interconnect StreamExecutor with strength 1 edge matrix:\n",
      "2021-10-26 04:53:17.992042: I tensorflow/core/common_runtime/gpu/gpu_device.cc:1267]      0 \n",
      "2021-10-26 04:53:17.992053: I tensorflow/core/common_runtime/gpu/gpu_device.cc:1280] 0:   N \n",
      "2021-10-26 04:53:17.994543: I tensorflow/stream_executor/cuda/cuda_gpu_executor.cc:941] successful NUMA node read from SysFS had negative value (-1), but there must be at least one NUMA node, so returning NUMA node zero\n",
      "2021-10-26 04:53:17.995355: I tensorflow/stream_executor/cuda/cuda_gpu_executor.cc:941] successful NUMA node read from SysFS had negative value (-1), but there must be at least one NUMA node, so returning NUMA node zero\n",
      "2021-10-26 04:53:17.995995: I tensorflow/stream_executor/cuda/cuda_gpu_executor.cc:941] successful NUMA node read from SysFS had negative value (-1), but there must be at least one NUMA node, so returning NUMA node zero\n",
      "2021-10-26 04:53:17.996581: I tensorflow/core/common_runtime/gpu/gpu_device.cc:1406] Created TensorFlow device (/job:localhost/replica:0/task:0/device:GPU:0 with 14957 MB memory) -> physical GPU (device: 0, name: Tesla P100-PCIE-16GB, pci bus id: 0000:00:04.0, compute capability: 6.0)\n"
     ]
    }
   ],
   "source": [
    "base_model1 = load_model(\"../input/gb-vpp-pulp-fiction/Bidirect_LSTM_model_2021_1C.h5\")\n",
    "base_model1.trainable = False\n",
    "for layer in base_model1.layers:\n",
    "    layer._name = 'm1_'+layer.name\n",
    "    \n",
    "base_model2 = load_model(\"../input/gb-vpp-booo-oorreed/Bidirect_LSTM_model_2021_1C.h5\")\n",
    "base_model2.trainable = False\n",
    "for layer in base_model2.layers:\n",
    "    layer._name = 'm2_'+layer.name\n",
    "    \n",
    "feat_model1 = Model(inputs=base_model1.input, \n",
    "                    outputs=base_model1.get_layer(base_model1.layers[-2].name).output,\n",
    "                    name='gb-vpp-pulp-fiction')\n",
    "\n",
    "feat_model2 = Model(inputs=base_model2.input, \n",
    "                    outputs=base_model2.get_layer(base_model2.layers[-2].name).output,\n",
    "                    name='gb-vpp-booo-oorreed')"
   ]
  },
  {
   "cell_type": "code",
   "execution_count": 10,
   "id": "f6e9f1de",
   "metadata": {
    "execution": {
     "iopub.execute_input": "2021-10-26T04:53:39.175959Z",
     "iopub.status.busy": "2021-10-26T04:53:39.175038Z",
     "iopub.status.idle": "2021-10-26T04:53:46.531276Z",
     "shell.execute_reply": "2021-10-26T04:53:46.531653Z",
     "shell.execute_reply.started": "2021-10-17T17:15:31.655039Z"
    },
    "papermill": {
     "duration": 7.384119,
     "end_time": "2021-10-26T04:53:46.531864",
     "exception": false,
     "start_time": "2021-10-26T04:53:39.147745",
     "status": "completed"
    },
    "tags": []
   },
   "outputs": [
    {
     "name": "stdout",
     "output_type": "stream",
     "text": [
      "Model: \"DNN_Model\"\n",
      "__________________________________________________________________________________________________\n",
      "Layer (type)                    Output Shape         Param #     Connected to                     \n",
      "==================================================================================================\n",
      "input_1 (InputLayer)            [(None, 80, 64)]     0                                            \n",
      "__________________________________________________________________________________________________\n",
      "gb-vpp-pulp-fiction (Functional (None, 80, 128)      26288000    input_1[0][0]                    \n",
      "__________________________________________________________________________________________________\n",
      "gb-vpp-booo-oorreed (Functional (None, 80, 192)      27671232    input_1[0][0]                    \n",
      "__________________________________________________________________________________________________\n",
      "concatenate (Concatenate)       (None, 80, 320)      0           gb-vpp-pulp-fiction[0][0]        \n",
      "                                                                 gb-vpp-booo-oorreed[0][0]        \n",
      "__________________________________________________________________________________________________\n",
      "dense (Dense)                   (None, 80, 256)      82176       concatenate[0][0]                \n",
      "__________________________________________________________________________________________________\n",
      "dense_1 (Dense)                 (None, 80, 128)      32896       dense[0][0]                      \n",
      "__________________________________________________________________________________________________\n",
      "dense_2 (Dense)                 (None, 80, 64)       8256        dense_1[0][0]                    \n",
      "__________________________________________________________________________________________________\n",
      "dense_3 (Dense)                 (None, 80, 1)        65          dense_2[0][0]                    \n",
      "==================================================================================================\n",
      "Total params: 54,082,625\n",
      "Trainable params: 123,393\n",
      "Non-trainable params: 53,959,232\n",
      "__________________________________________________________________________________________________\n"
     ]
    }
   ],
   "source": [
    "x_input = Input(shape=(test.shape[-2:]))\n",
    "rd_model = Model(x_input, head(feat_model1(x_input), feat_model2(x_input)),\n",
    "                 name='DNN_Model')\n",
    "rd_model.summary()"
   ]
  },
  {
   "cell_type": "markdown",
   "id": "2c115c9b",
   "metadata": {
    "papermill": {
     "duration": 0.022449,
     "end_time": "2021-10-26T04:53:46.574946",
     "exception": false,
     "start_time": "2021-10-26T04:53:46.552497",
     "status": "completed"
    },
    "tags": []
   },
   "source": [
    "## Keras DNN Model Predictions"
   ]
  },
  {
   "cell_type": "code",
   "execution_count": 11,
   "id": "7f3ff1c2",
   "metadata": {
    "execution": {
     "iopub.execute_input": "2021-10-26T04:53:46.664333Z",
     "iopub.status.busy": "2021-10-26T04:53:46.620508Z",
     "iopub.status.idle": "2021-10-26T05:29:16.594496Z",
     "shell.execute_reply": "2021-10-26T05:29:16.594053Z"
    },
    "papermill": {
     "duration": 2129.997913,
     "end_time": "2021-10-26T05:29:16.594624",
     "exception": false,
     "start_time": "2021-10-26T04:53:46.596711",
     "status": "completed"
    },
    "tags": []
   },
   "outputs": [
    {
     "name": "stdout",
     "output_type": "stream",
     "text": [
      "\n",
      ">>>>>  Fold-1  <<<<<\n"
     ]
    },
    {
     "name": "stderr",
     "output_type": "stream",
     "text": [
      "2021-10-26 04:53:50.719293: W tensorflow/core/framework/cpu_allocator_impl.cc:80] Allocation of 1030144000 exceeds 10% of free system memory.\n",
      "2021-10-26 04:53:51.516627: I tensorflow/compiler/mlir/mlir_graph_optimization_pass.cc:116] None of the MLIR optimization passes are enabled (registered 2)\n",
      "2021-10-26 04:53:51.527521: I tensorflow/core/platform/profile_utils/cpu_utils.cc:112] CPU Frequency: 2000170000 Hz\n",
      "2021-10-26 04:54:01.079005: I tensorflow/stream_executor/platform/default/dso_loader.cc:49] Successfully opened dynamic library libcublas.so.11\n",
      "2021-10-26 04:54:01.881491: I tensorflow/stream_executor/platform/default/dso_loader.cc:49] Successfully opened dynamic library libcublasLt.so.11\n",
      "2021-10-26 04:54:01.924068: I tensorflow/stream_executor/platform/default/dso_loader.cc:49] Successfully opened dynamic library libcudnn.so.8\n"
     ]
    },
    {
     "name": "stdout",
     "output_type": "stream",
     "text": [
      "99/99 [==============================] - 97s 823ms/step\n"
     ]
    },
    {
     "name": "stderr",
     "output_type": "stream",
     "text": [
      "2021-10-26 04:55:37.423888: W tensorflow/core/framework/cpu_allocator_impl.cc:80] Allocation of 1030144000 exceeds 10% of free system memory.\n"
     ]
    },
    {
     "name": "stdout",
     "output_type": "stream",
     "text": [
      "99/99 [==============================] - 33s 298ms/step\n"
     ]
    },
    {
     "name": "stderr",
     "output_type": "stream",
     "text": [
      "2021-10-26 04:56:21.649898: W tensorflow/core/framework/cpu_allocator_impl.cc:80] Allocation of 1030144000 exceeds 10% of free system memory.\n"
     ]
    },
    {
     "name": "stdout",
     "output_type": "stream",
     "text": [
      "99/99 [==============================] - 47s 422ms/step\n"
     ]
    },
    {
     "name": "stderr",
     "output_type": "stream",
     "text": [
      "2021-10-26 04:57:19.624653: W tensorflow/core/framework/cpu_allocator_impl.cc:80] Allocation of 1030144000 exceeds 10% of free system memory.\n"
     ]
    },
    {
     "name": "stdout",
     "output_type": "stream",
     "text": [
      "99/99 [==============================] - 45s 402ms/step\n"
     ]
    },
    {
     "name": "stderr",
     "output_type": "stream",
     "text": [
      "2021-10-26 04:58:15.694514: W tensorflow/core/framework/cpu_allocator_impl.cc:80] Allocation of 1030144000 exceeds 10% of free system memory.\n"
     ]
    },
    {
     "name": "stdout",
     "output_type": "stream",
     "text": [
      "99/99 [==============================] - 47s 428ms/step\n",
      "\n",
      ">>>>>  Fold-2  <<<<<\n",
      "99/99 [==============================] - 81s 821ms/step\n",
      "99/99 [==============================] - 34s 299ms/step\n",
      "99/99 [==============================] - 47s 422ms/step\n",
      "99/99 [==============================] - 45s 402ms/step\n",
      "99/99 [==============================] - 47s 428ms/step\n",
      "\n",
      ">>>>>  Fold-3  <<<<<\n",
      "99/99 [==============================] - 81s 820ms/step\n",
      "99/99 [==============================] - 33s 300ms/step\n",
      "99/99 [==============================] - 46s 421ms/step\n",
      "99/99 [==============================] - 44s 401ms/step\n",
      "99/99 [==============================] - 47s 428ms/step\n",
      "\n",
      ">>>>>  Fold-4  <<<<<\n",
      "99/99 [==============================] - 81s 820ms/step\n",
      "99/99 [==============================] - 34s 299ms/step\n",
      "99/99 [==============================] - 47s 422ms/step\n",
      "99/99 [==============================] - 45s 402ms/step\n",
      "99/99 [==============================] - 47s 428ms/step\n",
      "\n",
      ">>>>>  Fold-5  <<<<<\n",
      "99/99 [==============================] - 81s 823ms/step\n",
      "99/99 [==============================] - 34s 300ms/step\n",
      "99/99 [==============================] - 47s 422ms/step\n",
      "99/99 [==============================] - 45s 402ms/step\n",
      "99/99 [==============================] - 47s 427ms/step\n",
      "\n",
      ">>>>>  Fold-6  <<<<<\n",
      "99/99 [==============================] - 81s 821ms/step\n",
      "99/99 [==============================] - 33s 299ms/step\n",
      "99/99 [==============================] - 47s 422ms/step\n",
      "99/99 [==============================] - 45s 403ms/step\n",
      "99/99 [==============================] - 47s 429ms/step\n",
      "\n",
      ">>>>>  Fold-7  <<<<<\n",
      "99/99 [==============================] - 81s 823ms/step\n",
      "99/99 [==============================] - 33s 299ms/step\n",
      "99/99 [==============================] - 46s 422ms/step\n",
      "99/99 [==============================] - 44s 402ms/step\n",
      "99/99 [==============================] - 46s 427ms/step\n"
     ]
    }
   ],
   "source": [
    "BATCH_SIZE = 512\n",
    "test_preds = []\n",
    "\n",
    "for fold in range(7):\n",
    "    print(f\"\\n>>>>>  Fold-{fold+1}  <<<<<\")\n",
    "    \n",
    "    rd_model.load_weights(f'../input/gb-vpp-reservoir-dogs/Bidirect_LSTM_model_{fold+1}C.h5')\n",
    "    test_preds.append(rd_model.predict(test, batch_size=BATCH_SIZE, verbose=1).squeeze().reshape(-1, 1).squeeze())\n",
    "    \n",
    "    model = load_model(f'../input/gb-vpp-show-me-the-model/Bidirect_LSTM_model_2021_{fold+1}C.h5')\n",
    "    test_preds.append(model.predict(test, batch_size=BATCH_SIZE, verbose=1).squeeze().reshape(-1, 1).squeeze())\n",
    "    \n",
    "    model = load_model(f'../input/gb-vpp-booo-oorreed/Bidirect_LSTM_model_2021_{fold+1}C.h5')\n",
    "    test_preds.append(model.predict(test, batch_size=BATCH_SIZE, verbose=1).squeeze().reshape(-1, 1).squeeze())\n",
    "    \n",
    "    #model = load_model(f'../input/gb-vpp-long-live-and-prosper/Bidirect_LSTM_model_2021_{fold+1}C.h5')\n",
    "    #test_preds.append(model.predict(test, batch_size=BATCH_SIZE, verbose=1).squeeze().reshape(-1, 1).squeeze())\n",
    "    \n",
    "    model = load_model(f'../input/gb-vpp-pulp-fiction/Bidirect_LSTM_model_2021_{fold+1}C.h5')\n",
    "    test_preds.append(model.predict(test, batch_size=BATCH_SIZE, verbose=1).squeeze().reshape(-1, 1).squeeze())\n",
    "    \n",
    "    model = load_model(f'../input/gb-vpp-new-dawn/Bidirect_LSTM_model_{fold+1}C.h5')\n",
    "    test_preds.append(model.predict(test, batch_size=BATCH_SIZE, verbose=1).squeeze().reshape(-1, 1).squeeze())"
   ]
  },
  {
   "cell_type": "markdown",
   "id": "49094f35",
   "metadata": {
    "papermill": {
     "duration": 0.914067,
     "end_time": "2021-10-26T05:29:18.434660",
     "exception": false,
     "start_time": "2021-10-26T05:29:17.520593",
     "status": "completed"
    },
    "tags": []
   },
   "source": [
    "## Create submission file"
   ]
  },
  {
   "cell_type": "code",
   "execution_count": 12,
   "id": "34b9b8ad",
   "metadata": {
    "execution": {
     "iopub.execute_input": "2021-10-26T05:29:20.546627Z",
     "iopub.status.busy": "2021-10-26T05:29:20.546089Z",
     "iopub.status.idle": "2021-10-26T05:29:34.953003Z",
     "shell.execute_reply": "2021-10-26T05:29:34.953426Z"
    },
    "papermill": {
     "duration": 15.590095,
     "end_time": "2021-10-26T05:29:34.953592",
     "exception": false,
     "start_time": "2021-10-26T05:29:19.363497",
     "status": "completed"
    },
    "tags": []
   },
   "outputs": [],
   "source": [
    "submission = pd.read_csv('../input/ventilator-pressure-prediction/sample_submission.csv')\n",
    "submission[\"pressure\"] = np.median(np.vstack(test_preds),axis=0)\n",
    "submission[\"pressure\"] = np.round((submission.pressure - P_MIN)/P_STEP) * P_STEP + P_MIN\n",
    "submission[\"pressure\"] = np.clip(submission.pressure, P_MIN, P_MAX)\n",
    "submission.to_csv('median_submission.csv', index=False)"
   ]
  },
  {
   "cell_type": "code",
   "execution_count": null,
   "id": "df890c4d",
   "metadata": {
    "papermill": {
     "duration": 0.922827,
     "end_time": "2021-10-26T05:29:36.792413",
     "exception": false,
     "start_time": "2021-10-26T05:29:35.869586",
     "status": "completed"
    },
    "tags": []
   },
   "outputs": [],
   "source": []
  }
 ],
 "metadata": {
  "kernelspec": {
   "display_name": "Python 3",
   "language": "python",
   "name": "python3"
  },
  "language_info": {
   "codemirror_mode": {
    "name": "ipython",
    "version": 3
   },
   "file_extension": ".py",
   "mimetype": "text/x-python",
   "name": "python",
   "nbconvert_exporter": "python",
   "pygments_lexer": "ipython3",
   "version": "3.7.10"
  },
  "papermill": {
   "default_parameters": {},
   "duration": 2428.711446,
   "end_time": "2021-10-26T05:29:40.792056",
   "environment_variables": {},
   "exception": null,
   "input_path": "__notebook__.ipynb",
   "output_path": "__notebook__.ipynb",
   "parameters": {},
   "start_time": "2021-10-26T04:49:12.080610",
   "version": "2.3.3"
  }
 },
 "nbformat": 4,
 "nbformat_minor": 5
}
