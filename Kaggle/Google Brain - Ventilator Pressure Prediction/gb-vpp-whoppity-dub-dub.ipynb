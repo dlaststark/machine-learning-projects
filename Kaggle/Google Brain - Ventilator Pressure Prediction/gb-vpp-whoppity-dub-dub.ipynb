{
 "cells": [
  {
   "cell_type": "markdown",
   "id": "dc0c557e",
   "metadata": {
    "papermill": {
     "duration": 0.018346,
     "end_time": "2021-10-12T09:07:16.437059",
     "exception": false,
     "start_time": "2021-10-12T09:07:16.418713",
     "status": "completed"
    },
    "tags": []
   },
   "source": [
    "## Import libraries"
   ]
  },
  {
   "cell_type": "code",
   "execution_count": 1,
   "id": "77537445",
   "metadata": {
    "_cell_guid": "3e5a0bd1-3e22-4b2c-a565-68985e55f95e",
    "_uuid": "e331dbcc-0346-4019-9ff6-b890154a878b",
    "collapsed": false,
    "execution": {
     "iopub.execute_input": "2021-10-12T09:07:16.477307Z",
     "iopub.status.busy": "2021-10-12T09:07:16.474947Z",
     "iopub.status.idle": "2021-10-12T09:07:22.371360Z",
     "shell.execute_reply": "2021-10-12T09:07:22.370648Z",
     "shell.execute_reply.started": "2021-10-12T05:34:04.41812Z"
    },
    "jupyter": {
     "outputs_hidden": false
    },
    "papermill": {
     "duration": 5.91793,
     "end_time": "2021-10-12T09:07:22.371522",
     "exception": false,
     "start_time": "2021-10-12T09:07:16.453592",
     "status": "completed"
    },
    "tags": []
   },
   "outputs": [
    {
     "name": "stderr",
     "output_type": "stream",
     "text": [
      "2021-10-12 09:07:18.050939: W tensorflow/stream_executor/platform/default/dso_loader.cc:60] Could not load dynamic library 'libcudart.so.11.0'; dlerror: libcudart.so.11.0: cannot open shared object file: No such file or directory; LD_LIBRARY_PATH: /opt/conda/lib\n",
      "2021-10-12 09:07:18.051070: I tensorflow/stream_executor/cuda/cudart_stub.cc:29] Ignore above cudart dlerror if you do not have a GPU set up on your machine.\n"
     ]
    }
   ],
   "source": [
    "import gc\n",
    "import numpy as np\n",
    "import pandas as pd\n",
    "from sklearn.model_selection import KFold\n",
    "from sklearn.preprocessing import RobustScaler\n",
    "from sklearn.metrics import mean_absolute_error\n",
    "\n",
    "import tensorflow as tf\n",
    "from tensorflow.keras.utils import plot_model\n",
    "from tensorflow.keras.models import Model, load_model\n",
    "from tensorflow.keras.callbacks import EarlyStopping\n",
    "from tensorflow.keras.callbacks import ModelCheckpoint\n",
    "from tensorflow.keras.callbacks import ReduceLROnPlateau\n",
    "from tensorflow.keras.layers import Bidirectional, LSTM\n",
    "from tensorflow.keras.layers import Dense, Dropout, Input\n",
    "from tensorflow.keras.layers import Concatenate, Add, GRU\n",
    "\n",
    "np.random.seed(42)\n",
    "tf.random.set_seed(42)"
   ]
  },
  {
   "cell_type": "markdown",
   "id": "70152023",
   "metadata": {
    "papermill": {
     "duration": 0.017029,
     "end_time": "2021-10-12T09:07:22.405467",
     "exception": false,
     "start_time": "2021-10-12T09:07:22.388438",
     "status": "completed"
    },
    "tags": []
   },
   "source": [
    "## Load source datasets"
   ]
  },
  {
   "cell_type": "code",
   "execution_count": 2,
   "id": "61cd33d2",
   "metadata": {
    "_cell_guid": "89eb257e-0ed2-4f8b-94d6-462a5e995eb1",
    "_uuid": "ca71d87d-6594-4f31-906d-0b53cd4c1374",
    "collapsed": false,
    "execution": {
     "iopub.execute_input": "2021-10-12T09:07:22.445490Z",
     "iopub.status.busy": "2021-10-12T09:07:22.444722Z",
     "iopub.status.idle": "2021-10-12T09:07:31.889086Z",
     "shell.execute_reply": "2021-10-12T09:07:31.889585Z",
     "shell.execute_reply.started": "2021-10-12T05:34:10.774089Z"
    },
    "jupyter": {
     "outputs_hidden": false
    },
    "papermill": {
     "duration": 9.466745,
     "end_time": "2021-10-12T09:07:31.889754",
     "exception": false,
     "start_time": "2021-10-12T09:07:22.423009",
     "status": "completed"
    },
    "tags": []
   },
   "outputs": [
    {
     "name": "stdout",
     "output_type": "stream",
     "text": [
      "train_df: (6036000, 8)\n"
     ]
    },
    {
     "data": {
      "text/html": [
       "<div>\n",
       "<style scoped>\n",
       "    .dataframe tbody tr th:only-of-type {\n",
       "        vertical-align: middle;\n",
       "    }\n",
       "\n",
       "    .dataframe tbody tr th {\n",
       "        vertical-align: top;\n",
       "    }\n",
       "\n",
       "    .dataframe thead th {\n",
       "        text-align: right;\n",
       "    }\n",
       "</style>\n",
       "<table border=\"1\" class=\"dataframe\">\n",
       "  <thead>\n",
       "    <tr style=\"text-align: right;\">\n",
       "      <th></th>\n",
       "      <th>id</th>\n",
       "      <th>breath_id</th>\n",
       "      <th>R</th>\n",
       "      <th>C</th>\n",
       "      <th>time_step</th>\n",
       "      <th>u_in</th>\n",
       "      <th>u_out</th>\n",
       "      <th>pressure</th>\n",
       "    </tr>\n",
       "  </thead>\n",
       "  <tbody>\n",
       "    <tr>\n",
       "      <th>0</th>\n",
       "      <td>1</td>\n",
       "      <td>1</td>\n",
       "      <td>20</td>\n",
       "      <td>50</td>\n",
       "      <td>0.000000</td>\n",
       "      <td>0.083334</td>\n",
       "      <td>0</td>\n",
       "      <td>5.837492</td>\n",
       "    </tr>\n",
       "    <tr>\n",
       "      <th>1</th>\n",
       "      <td>2</td>\n",
       "      <td>1</td>\n",
       "      <td>20</td>\n",
       "      <td>50</td>\n",
       "      <td>0.033652</td>\n",
       "      <td>18.383041</td>\n",
       "      <td>0</td>\n",
       "      <td>5.907794</td>\n",
       "    </tr>\n",
       "    <tr>\n",
       "      <th>2</th>\n",
       "      <td>3</td>\n",
       "      <td>1</td>\n",
       "      <td>20</td>\n",
       "      <td>50</td>\n",
       "      <td>0.067514</td>\n",
       "      <td>22.509278</td>\n",
       "      <td>0</td>\n",
       "      <td>7.876254</td>\n",
       "    </tr>\n",
       "    <tr>\n",
       "      <th>3</th>\n",
       "      <td>4</td>\n",
       "      <td>1</td>\n",
       "      <td>20</td>\n",
       "      <td>50</td>\n",
       "      <td>0.101542</td>\n",
       "      <td>22.808822</td>\n",
       "      <td>0</td>\n",
       "      <td>11.742872</td>\n",
       "    </tr>\n",
       "    <tr>\n",
       "      <th>4</th>\n",
       "      <td>5</td>\n",
       "      <td>1</td>\n",
       "      <td>20</td>\n",
       "      <td>50</td>\n",
       "      <td>0.135756</td>\n",
       "      <td>25.355850</td>\n",
       "      <td>0</td>\n",
       "      <td>12.234987</td>\n",
       "    </tr>\n",
       "  </tbody>\n",
       "</table>\n",
       "</div>"
      ],
      "text/plain": [
       "   id  breath_id   R   C  time_step       u_in  u_out   pressure\n",
       "0   1          1  20  50   0.000000   0.083334      0   5.837492\n",
       "1   2          1  20  50   0.033652  18.383041      0   5.907794\n",
       "2   3          1  20  50   0.067514  22.509278      0   7.876254\n",
       "3   4          1  20  50   0.101542  22.808822      0  11.742872\n",
       "4   5          1  20  50   0.135756  25.355850      0  12.234987"
      ]
     },
     "execution_count": 2,
     "metadata": {},
     "output_type": "execute_result"
    }
   ],
   "source": [
    "train_df = pd.read_csv('../input/ventilator-pressure-prediction/train.csv')\n",
    "print(f\"train_df: {train_df.shape}\")\n",
    "train_df.head()"
   ]
  },
  {
   "cell_type": "code",
   "execution_count": 3,
   "id": "50cad913",
   "metadata": {
    "execution": {
     "iopub.execute_input": "2021-10-12T09:07:31.931288Z",
     "iopub.status.busy": "2021-10-12T09:07:31.930488Z",
     "iopub.status.idle": "2021-10-12T09:07:36.552966Z",
     "shell.execute_reply": "2021-10-12T09:07:36.552245Z",
     "shell.execute_reply.started": "2021-10-12T05:34:20.234658Z"
    },
    "papermill": {
     "duration": 4.645621,
     "end_time": "2021-10-12T09:07:36.553115",
     "exception": false,
     "start_time": "2021-10-12T09:07:31.907494",
     "status": "completed"
    },
    "tags": []
   },
   "outputs": [
    {
     "name": "stdout",
     "output_type": "stream",
     "text": [
      "test_df: (4024000, 7)\n"
     ]
    },
    {
     "data": {
      "text/html": [
       "<div>\n",
       "<style scoped>\n",
       "    .dataframe tbody tr th:only-of-type {\n",
       "        vertical-align: middle;\n",
       "    }\n",
       "\n",
       "    .dataframe tbody tr th {\n",
       "        vertical-align: top;\n",
       "    }\n",
       "\n",
       "    .dataframe thead th {\n",
       "        text-align: right;\n",
       "    }\n",
       "</style>\n",
       "<table border=\"1\" class=\"dataframe\">\n",
       "  <thead>\n",
       "    <tr style=\"text-align: right;\">\n",
       "      <th></th>\n",
       "      <th>id</th>\n",
       "      <th>breath_id</th>\n",
       "      <th>R</th>\n",
       "      <th>C</th>\n",
       "      <th>time_step</th>\n",
       "      <th>u_in</th>\n",
       "      <th>u_out</th>\n",
       "    </tr>\n",
       "  </thead>\n",
       "  <tbody>\n",
       "    <tr>\n",
       "      <th>0</th>\n",
       "      <td>1</td>\n",
       "      <td>0</td>\n",
       "      <td>5</td>\n",
       "      <td>20</td>\n",
       "      <td>0.000000</td>\n",
       "      <td>0.000000</td>\n",
       "      <td>0</td>\n",
       "    </tr>\n",
       "    <tr>\n",
       "      <th>1</th>\n",
       "      <td>2</td>\n",
       "      <td>0</td>\n",
       "      <td>5</td>\n",
       "      <td>20</td>\n",
       "      <td>0.031904</td>\n",
       "      <td>7.515046</td>\n",
       "      <td>0</td>\n",
       "    </tr>\n",
       "    <tr>\n",
       "      <th>2</th>\n",
       "      <td>3</td>\n",
       "      <td>0</td>\n",
       "      <td>5</td>\n",
       "      <td>20</td>\n",
       "      <td>0.063827</td>\n",
       "      <td>14.651675</td>\n",
       "      <td>0</td>\n",
       "    </tr>\n",
       "    <tr>\n",
       "      <th>3</th>\n",
       "      <td>4</td>\n",
       "      <td>0</td>\n",
       "      <td>5</td>\n",
       "      <td>20</td>\n",
       "      <td>0.095751</td>\n",
       "      <td>21.230610</td>\n",
       "      <td>0</td>\n",
       "    </tr>\n",
       "    <tr>\n",
       "      <th>4</th>\n",
       "      <td>5</td>\n",
       "      <td>0</td>\n",
       "      <td>5</td>\n",
       "      <td>20</td>\n",
       "      <td>0.127644</td>\n",
       "      <td>26.320956</td>\n",
       "      <td>0</td>\n",
       "    </tr>\n",
       "  </tbody>\n",
       "</table>\n",
       "</div>"
      ],
      "text/plain": [
       "   id  breath_id  R   C  time_step       u_in  u_out\n",
       "0   1          0  5  20   0.000000   0.000000      0\n",
       "1   2          0  5  20   0.031904   7.515046      0\n",
       "2   3          0  5  20   0.063827  14.651675      0\n",
       "3   4          0  5  20   0.095751  21.230610      0\n",
       "4   5          0  5  20   0.127644  26.320956      0"
      ]
     },
     "execution_count": 3,
     "metadata": {},
     "output_type": "execute_result"
    }
   ],
   "source": [
    "test_df = pd.read_csv('../input/ventilator-pressure-prediction/test.csv')\n",
    "print(f\"test_df: {test_df.shape}\")\n",
    "test_df.head()"
   ]
  },
  {
   "cell_type": "markdown",
   "id": "b3a6b547",
   "metadata": {
    "papermill": {
     "duration": 0.018119,
     "end_time": "2021-10-12T09:07:36.590303",
     "exception": false,
     "start_time": "2021-10-12T09:07:36.572184",
     "status": "completed"
    },
    "tags": []
   },
   "source": [
    "## Feature Engineering"
   ]
  },
  {
   "cell_type": "code",
   "execution_count": 4,
   "id": "554c3a28",
   "metadata": {
    "_cell_guid": "13a36b46-7067-4b29-aad3-7e3b15e8415b",
    "_uuid": "dc41dbf2-f199-4b9d-bbd9-bf6084162b47",
    "collapsed": false,
    "execution": {
     "iopub.execute_input": "2021-10-12T09:07:36.637729Z",
     "iopub.status.busy": "2021-10-12T09:07:36.636965Z",
     "iopub.status.idle": "2021-10-12T09:10:06.114913Z",
     "shell.execute_reply": "2021-10-12T09:10:06.115408Z",
     "shell.execute_reply.started": "2021-10-12T05:34:24.831886Z"
    },
    "jupyter": {
     "outputs_hidden": false
    },
    "papermill": {
     "duration": 149.507013,
     "end_time": "2021-10-12T09:10:06.115618",
     "exception": false,
     "start_time": "2021-10-12T09:07:36.608605",
     "status": "completed"
    },
    "tags": []
   },
   "outputs": [
    {
     "name": "stdout",
     "output_type": "stream",
     "text": [
      "Train data...\n",
      "\n",
      "Step-1...Completed\n",
      "Step-2...Completed\n",
      "Step-3...Completed\n",
      "Step-4...Completed\n",
      "Step-5...Completed\n",
      "Step-6...Completed\n",
      "Step-7...Completed\n",
      "Step-8...Completed\n",
      "\n",
      "Test data...\n",
      "\n",
      "Step-1...Completed\n",
      "Step-2...Completed\n",
      "Step-3...Completed\n",
      "Step-4...Completed\n",
      "Step-5...Completed\n",
      "Step-6...Completed\n",
      "Step-7...Completed\n",
      "Step-8...Completed\n"
     ]
    },
    {
     "data": {
      "text/plain": [
       "0"
      ]
     },
     "execution_count": 4,
     "metadata": {},
     "output_type": "execute_result"
    }
   ],
   "source": [
    "def add_features(df):\n",
    "    df['cross']= df['u_in'] * df['u_out']\n",
    "    df['cross2']= df['time_step'] * df['u_out']\n",
    "    df['area'] = df['time_step'] * df['u_in']\n",
    "    df['area'] = df.groupby('breath_id')['area'].cumsum()\n",
    "    df['time_step_cumsum'] = df.groupby(['breath_id'])['time_step'].cumsum()\n",
    "    df['u_in_cumsum'] = (df['u_in']).groupby(df['breath_id']).cumsum()\n",
    "    print(\"Step-1...Completed\")\n",
    "    \n",
    "    df['u_in_lag1'] = df.groupby('breath_id')['u_in'].shift(1)\n",
    "    df['u_out_lag1'] = df.groupby('breath_id')['u_out'].shift(1)\n",
    "    df['u_in_lag_back1'] = df.groupby('breath_id')['u_in'].shift(-1)\n",
    "    df['u_out_lag_back1'] = df.groupby('breath_id')['u_out'].shift(-1)\n",
    "    df['u_in_lag2'] = df.groupby('breath_id')['u_in'].shift(2)\n",
    "    df['u_out_lag2'] = df.groupby('breath_id')['u_out'].shift(2)\n",
    "    df['u_in_lag_back2'] = df.groupby('breath_id')['u_in'].shift(-2)\n",
    "    df['u_out_lag_back2'] = df.groupby('breath_id')['u_out'].shift(-2)\n",
    "    df['u_in_lag3'] = df.groupby('breath_id')['u_in'].shift(3)\n",
    "    df['u_out_lag3'] = df.groupby('breath_id')['u_out'].shift(3)\n",
    "    df['u_in_lag_back3'] = df.groupby('breath_id')['u_in'].shift(-3)\n",
    "    df['u_out_lag_back3'] = df.groupby('breath_id')['u_out'].shift(-3)\n",
    "    df['u_in_lag4'] = df.groupby('breath_id')['u_in'].shift(4)\n",
    "    df['u_out_lag4'] = df.groupby('breath_id')['u_out'].shift(4)\n",
    "    df['u_in_lag_back4'] = df.groupby('breath_id')['u_in'].shift(-4)\n",
    "    df['u_out_lag_back4'] = df.groupby('breath_id')['u_out'].shift(-4)\n",
    "    df = df.fillna(0)\n",
    "    print(\"Step-2...Completed\")\n",
    "    \n",
    "    df['breath_id__u_in__max'] = df.groupby(['breath_id'])['u_in'].transform('max')\n",
    "    df['breath_id__u_in__mean'] = df.groupby(['breath_id'])['u_in'].transform('mean')\n",
    "    df['breath_id__u_in__diffmax'] = df.groupby(['breath_id'])['u_in'].transform('max') - df['u_in']\n",
    "    df['breath_id__u_in__diffmean'] = df.groupby(['breath_id'])['u_in'].transform('mean') - df['u_in']\n",
    "    print(\"Step-3...Completed\")\n",
    "    \n",
    "    df['u_in_diff1'] = df['u_in'] - df['u_in_lag1']\n",
    "    df['u_out_diff1'] = df['u_out'] - df['u_out_lag1']\n",
    "    df['u_in_diff2'] = df['u_in'] - df['u_in_lag2']\n",
    "    df['u_out_diff2'] = df['u_out'] - df['u_out_lag2']\n",
    "    df['u_in_diff3'] = df['u_in'] - df['u_in_lag3']\n",
    "    df['u_out_diff3'] = df['u_out'] - df['u_out_lag3']\n",
    "    df['u_in_diff4'] = df['u_in'] - df['u_in_lag4']\n",
    "    df['u_out_diff4'] = df['u_out'] - df['u_out_lag4']\n",
    "    print(\"Step-4...Completed\")\n",
    "    \n",
    "    df['one'] = 1\n",
    "    df['count'] = (df['one']).groupby(df['breath_id']).cumsum()\n",
    "    df['u_in_cummean'] =df['u_in_cumsum'] /df['count']\n",
    "    \n",
    "    df['breath_id_lag']=df['breath_id'].shift(1).fillna(0)\n",
    "    df['breath_id_lag2']=df['breath_id'].shift(2).fillna(0)\n",
    "    df['breath_id_lagsame']=np.select([df['breath_id_lag']==df['breath_id']],[1],0)\n",
    "    df['breath_id_lag2same']=np.select([df['breath_id_lag2']==df['breath_id']],[1],0)\n",
    "    df['breath_id__u_in_lag'] = df['u_in'].shift(1).fillna(0)\n",
    "    df['breath_id__u_in_lag'] = df['breath_id__u_in_lag'] * df['breath_id_lagsame']\n",
    "    df['breath_id__u_in_lag2'] = df['u_in'].shift(2).fillna(0)\n",
    "    df['breath_id__u_in_lag2'] = df['breath_id__u_in_lag2'] * df['breath_id_lag2same']\n",
    "    print(\"Step-5...Completed\")\n",
    "    \n",
    "    df['time_step_diff'] = df.groupby('breath_id')['time_step'].diff().fillna(0)\n",
    "    df['ewm_u_in_mean'] = (df\\\n",
    "                           .groupby('breath_id')['u_in']\\\n",
    "                           .ewm(halflife=9)\\\n",
    "                           .mean()\\\n",
    "                           .reset_index(level=0,drop=True))\n",
    "    df[[\"15_in_sum\",\"15_in_min\",\"15_in_max\",\"15_in_mean\"]] = (df\\\n",
    "                                                              .groupby('breath_id')['u_in']\\\n",
    "                                                              .rolling(window=15,min_periods=1)\\\n",
    "                                                              .agg({\"15_in_sum\":\"sum\",\n",
    "                                                                    \"15_in_min\":\"min\",\n",
    "                                                                    \"15_in_max\":\"max\",\n",
    "                                                                    \"15_in_mean\":\"mean\"})\\\n",
    "                                                               .reset_index(level=0,drop=True))\n",
    "    print(\"Step-6...Completed\")\n",
    "    \n",
    "    df['u_in_lagback_diff1'] = df['u_in'] - df['u_in_lag_back1']\n",
    "    df['u_out_lagback_diff1'] = df['u_out'] - df['u_out_lag_back1']\n",
    "    df['u_in_lagback_diff2'] = df['u_in'] - df['u_in_lag_back2']\n",
    "    df['u_out_lagback_diff2'] = df['u_out'] - df['u_out_lag_back2']\n",
    "    print(\"Step-7...Completed\")\n",
    "    \n",
    "    df['R'] = df['R'].astype(str)\n",
    "    df['C'] = df['C'].astype(str)\n",
    "    df['R__C'] = df[\"R\"].astype(str) + '__' + df[\"C\"].astype(str)\n",
    "    df = pd.get_dummies(df)\n",
    "    print(\"Step-8...Completed\")\n",
    "    \n",
    "    return df\n",
    "\n",
    "\n",
    "print(\"Train data...\\n\")\n",
    "train = add_features(train_df)\n",
    "\n",
    "print(\"\\nTest data...\\n\")\n",
    "test = add_features(test_df)\n",
    "\n",
    "del train_df\n",
    "del test_df\n",
    "gc.collect()"
   ]
  },
  {
   "cell_type": "code",
   "execution_count": 5,
   "id": "24ddc378",
   "metadata": {
    "_cell_guid": "01328860-fa2a-421c-9e5f-ea0048246f98",
    "_uuid": "346bf2c0-96d2-4da5-8837-c0f820294a85",
    "collapsed": false,
    "execution": {
     "iopub.execute_input": "2021-10-12T09:10:06.169931Z",
     "iopub.status.busy": "2021-10-12T09:10:06.169140Z",
     "iopub.status.idle": "2021-10-12T09:10:13.206751Z",
     "shell.execute_reply": "2021-10-12T09:10:13.207251Z",
     "shell.execute_reply.started": "2021-10-12T05:36:58.989817Z"
    },
    "jupyter": {
     "outputs_hidden": false
    },
    "papermill": {
     "duration": 7.068581,
     "end_time": "2021-10-12T09:10:13.207441",
     "exception": false,
     "start_time": "2021-10-12T09:10:06.138860",
     "status": "completed"
    },
    "tags": []
   },
   "outputs": [
    {
     "name": "stdout",
     "output_type": "stream",
     "text": [
      "train: (6036000, 64) \n",
      "test: (4024000, 64)\n"
     ]
    }
   ],
   "source": [
    "targets = train[['pressure']].to_numpy().reshape(-1, 80)\n",
    "\n",
    "train.drop(['pressure','id', 'breath_id','one','count',\n",
    "            'breath_id_lag','breath_id_lag2','breath_id_lagsame',\n",
    "            'breath_id_lag2same'], axis=1, inplace=True)\n",
    "\n",
    "test = test.drop(['id', 'breath_id','one','count','breath_id_lag',\n",
    "                  'breath_id_lag2','breath_id_lagsame',\n",
    "                  'breath_id_lag2same'], axis=1)\n",
    "\n",
    "print(f\"train: {train.shape} \\ntest: {test.shape}\")"
   ]
  },
  {
   "cell_type": "code",
   "execution_count": 6,
   "id": "51b23309",
   "metadata": {
    "execution": {
     "iopub.execute_input": "2021-10-12T09:10:13.264530Z",
     "iopub.status.busy": "2021-10-12T09:10:13.262772Z",
     "iopub.status.idle": "2021-10-12T09:10:29.295277Z",
     "shell.execute_reply": "2021-10-12T09:10:29.294520Z",
     "shell.execute_reply.started": "2021-10-12T05:37:06.905176Z"
    },
    "papermill": {
     "duration": 16.064651,
     "end_time": "2021-10-12T09:10:29.295460",
     "exception": false,
     "start_time": "2021-10-12T09:10:13.230809",
     "status": "completed"
    },
    "tags": []
   },
   "outputs": [
    {
     "name": "stdout",
     "output_type": "stream",
     "text": [
      "train: (75450, 80, 64) \n",
      "test: (50300, 80, 64) \n",
      "targets: (75450, 80)\n"
     ]
    }
   ],
   "source": [
    "scaler = RobustScaler()\n",
    "train = scaler.fit_transform(train)\n",
    "test = scaler.transform(test)\n",
    "\n",
    "train = train.reshape(-1, 80, train.shape[-1])\n",
    "test = test.reshape(-1, 80, train.shape[-1])\n",
    "\n",
    "print(f\"train: {train.shape} \\ntest: {test.shape} \\ntargets: {targets.shape}\")"
   ]
  },
  {
   "cell_type": "code",
   "execution_count": 7,
   "id": "2e2e91f3",
   "metadata": {
    "execution": {
     "iopub.execute_input": "2021-10-12T09:10:29.354710Z",
     "iopub.status.busy": "2021-10-12T09:10:29.353212Z",
     "iopub.status.idle": "2021-10-12T09:10:29.897316Z",
     "shell.execute_reply": "2021-10-12T09:10:29.897817Z",
     "shell.execute_reply.started": "2021-10-12T05:37:27.357155Z"
    },
    "papermill": {
     "duration": 0.576645,
     "end_time": "2021-10-12T09:10:29.898015",
     "exception": false,
     "start_time": "2021-10-12T09:10:29.321370",
     "status": "completed"
    },
    "tags": []
   },
   "outputs": [
    {
     "name": "stdout",
     "output_type": "stream",
     "text": [
      "Min pressure: -1.8957443237304688\n",
      "Max pressure: 64.82099151611328\n",
      "Pressure step: 0.07030248641967773\n",
      "Unique values:  950\n"
     ]
    },
    {
     "data": {
      "text/plain": [
       "63"
      ]
     },
     "execution_count": 7,
     "metadata": {},
     "output_type": "execute_result"
    }
   ],
   "source": [
    "pressure = targets.squeeze().reshape(-1,1).astype('float32')\n",
    "\n",
    "P_MIN = np.min(pressure)\n",
    "P_MAX = np.max(pressure)\n",
    "P_STEP = (pressure[1] - pressure[0])[0]\n",
    "print('Min pressure: {}'.format(P_MIN))\n",
    "print('Max pressure: {}'.format(P_MAX))\n",
    "print('Pressure step: {}'.format(P_STEP))\n",
    "print('Unique values:  {}'.format(np.unique(pressure).shape[0]))\n",
    "\n",
    "del pressure\n",
    "gc.collect()"
   ]
  },
  {
   "cell_type": "markdown",
   "id": "6970e5bd",
   "metadata": {
    "papermill": {
     "duration": 0.02387,
     "end_time": "2021-10-12T09:10:29.946346",
     "exception": false,
     "start_time": "2021-10-12T09:10:29.922476",
     "status": "completed"
    },
    "tags": []
   },
   "source": [
    "## Hardware config"
   ]
  },
  {
   "cell_type": "code",
   "execution_count": 8,
   "id": "c948e978",
   "metadata": {
    "execution": {
     "iopub.execute_input": "2021-10-12T09:10:30.011141Z",
     "iopub.status.busy": "2021-10-12T09:10:30.010371Z",
     "iopub.status.idle": "2021-10-12T09:10:35.334882Z",
     "shell.execute_reply": "2021-10-12T09:10:35.334277Z",
     "shell.execute_reply.started": "2021-10-12T05:37:58.421552Z"
    },
    "papermill": {
     "duration": 5.3641,
     "end_time": "2021-10-12T09:10:35.335033",
     "exception": false,
     "start_time": "2021-10-12T09:10:29.970933",
     "status": "completed"
    },
    "tags": []
   },
   "outputs": [
    {
     "name": "stderr",
     "output_type": "stream",
     "text": [
      "2021-10-12 09:10:30.005253: I tensorflow/compiler/jit/xla_cpu_device.cc:41] Not creating XLA devices, tf_xla_enable_xla_devices not set\n",
      "2021-10-12 09:10:30.008606: W tensorflow/stream_executor/platform/default/dso_loader.cc:60] Could not load dynamic library 'libcuda.so.1'; dlerror: libcuda.so.1: cannot open shared object file: No such file or directory; LD_LIBRARY_PATH: /opt/conda/lib\n",
      "2021-10-12 09:10:30.008645: W tensorflow/stream_executor/cuda/cuda_driver.cc:326] failed call to cuInit: UNKNOWN ERROR (303)\n",
      "2021-10-12 09:10:30.008672: I tensorflow/stream_executor/cuda/cuda_diagnostics.cc:156] kernel driver does not appear to be running on this host (7971e35b4c14): /proc/driver/nvidia/version does not exist\n",
      "2021-10-12 09:10:30.013625: I tensorflow/core/platform/cpu_feature_guard.cc:142] This TensorFlow binary is optimized with oneAPI Deep Neural Network Library (oneDNN) to use the following CPU instructions in performance-critical operations:  AVX2 FMA\n",
      "To enable them in other operations, rebuild TensorFlow with the appropriate compiler flags.\n",
      "2021-10-12 09:10:30.014813: I tensorflow/compiler/jit/xla_gpu_device.cc:99] Not creating XLA devices, tf_xla_enable_xla_devices not set\n",
      "2021-10-12 09:10:30.019313: I tensorflow/compiler/jit/xla_gpu_device.cc:99] Not creating XLA devices, tf_xla_enable_xla_devices not set\n",
      "2021-10-12 09:10:30.043581: I tensorflow/core/distributed_runtime/rpc/grpc_channel.cc:301] Initialize GrpcChannelCache for job worker -> {0 -> 10.0.0.2:8470}\n",
      "2021-10-12 09:10:30.043637: I tensorflow/core/distributed_runtime/rpc/grpc_channel.cc:301] Initialize GrpcChannelCache for job localhost -> {0 -> localhost:30019}\n",
      "2021-10-12 09:10:30.071450: I tensorflow/core/distributed_runtime/rpc/grpc_channel.cc:301] Initialize GrpcChannelCache for job worker -> {0 -> 10.0.0.2:8470}\n",
      "2021-10-12 09:10:30.071509: I tensorflow/core/distributed_runtime/rpc/grpc_channel.cc:301] Initialize GrpcChannelCache for job localhost -> {0 -> localhost:30019}\n",
      "2021-10-12 09:10:30.073148: I tensorflow/core/distributed_runtime/rpc/grpc_server_lib.cc:411] Started server with target: grpc://localhost:30019\n"
     ]
    },
    {
     "name": "stdout",
     "output_type": "stream",
     "text": [
      "Running on TPU: grpc://10.0.0.2:8470\n",
      "Batch Size: 512\n"
     ]
    }
   ],
   "source": [
    "try:\n",
    "    tpu = tf.distribute.cluster_resolver.TPUClusterResolver()\n",
    "    tf.config.experimental_connect_to_cluster(tpu)\n",
    "    tf.tpu.experimental.initialize_tpu_system(tpu)\n",
    "    tpu_strategy = tf.distribute.experimental.TPUStrategy(tpu)\n",
    "    BATCH_SIZE = tpu_strategy.num_replicas_in_sync * 64\n",
    "    print(\"Running on TPU:\", tpu.master())\n",
    "    print(f\"Batch Size: {BATCH_SIZE}\")\n",
    "    \n",
    "except ValueError:\n",
    "    strategy = tf.distribute.get_strategy()\n",
    "    BATCH_SIZE = 512\n",
    "    print(f\"Running on {strategy.num_replicas_in_sync} replicas\")\n",
    "    print(f\"Batch Size: {BATCH_SIZE}\")"
   ]
  },
  {
   "cell_type": "markdown",
   "id": "26f0ec08",
   "metadata": {
    "papermill": {
     "duration": 0.0263,
     "end_time": "2021-10-12T09:10:35.386791",
     "exception": false,
     "start_time": "2021-10-12T09:10:35.360491",
     "status": "completed"
    },
    "tags": []
   },
   "source": [
    "## Keras DNN Model"
   ]
  },
  {
   "cell_type": "code",
   "execution_count": 9,
   "id": "55cd2f1e",
   "metadata": {
    "execution": {
     "iopub.execute_input": "2021-10-12T09:10:35.454917Z",
     "iopub.status.busy": "2021-10-12T09:10:35.454114Z",
     "iopub.status.idle": "2021-10-12T09:10:35.457049Z",
     "shell.execute_reply": "2021-10-12T09:10:35.457524Z",
     "shell.execute_reply.started": "2021-10-12T05:38:03.758496Z"
    },
    "papermill": {
     "duration": 0.042712,
     "end_time": "2021-10-12T09:10:35.457799",
     "exception": false,
     "start_time": "2021-10-12T09:10:35.415087",
     "status": "completed"
    },
    "tags": []
   },
   "outputs": [],
   "source": [
    "def dnn_model():\n",
    "    \n",
    "    x_input = Input(shape=(train.shape[-2:]))\n",
    "    \n",
    "    x1 = Bidirectional(LSTM(units=768, return_sequences=True))(x_input)\n",
    "    x2 = Bidirectional(LSTM(units=512, return_sequences=True))(x1)\n",
    "    x3 = Bidirectional(LSTM(units=256, return_sequences=True))(x2)\n",
    "    \n",
    "    z2 = Bidirectional(GRU(units=256, return_sequences=True))(x2)\n",
    "    z3 = Bidirectional(GRU(units=128, return_sequences=True))(Add()([x3, z2]))\n",
    "    \n",
    "    x = Concatenate(axis=2)([x3, z2, z3])\n",
    "    x = Bidirectional(LSTM(units=192, return_sequences=True))(x)\n",
    "    \n",
    "    x = Dense(units=128, activation='selu')(x)\n",
    "    \n",
    "    x_output = Dense(units=1)(x)\n",
    "\n",
    "    model = Model(inputs=x_input, outputs=x_output, \n",
    "                  name='DNN_Model')\n",
    "    return model"
   ]
  },
  {
   "cell_type": "code",
   "execution_count": 10,
   "id": "82f029f6",
   "metadata": {
    "execution": {
     "iopub.execute_input": "2021-10-12T09:10:35.521169Z",
     "iopub.status.busy": "2021-10-12T09:10:35.520470Z",
     "iopub.status.idle": "2021-10-12T09:10:40.071350Z",
     "shell.execute_reply": "2021-10-12T09:10:40.072453Z",
     "shell.execute_reply.started": "2021-10-12T05:38:03.769938Z"
    },
    "papermill": {
     "duration": 4.585733,
     "end_time": "2021-10-12T09:10:40.072679",
     "exception": false,
     "start_time": "2021-10-12T09:10:35.486946",
     "status": "completed"
    },
    "tags": []
   },
   "outputs": [
    {
     "name": "stdout",
     "output_type": "stream",
     "text": [
      "Model: \"DNN_Model\"\n",
      "__________________________________________________________________________________________________\n",
      "Layer (type)                    Output Shape         Param #     Connected to                     \n",
      "==================================================================================================\n",
      "input_1 (InputLayer)            [(None, 80, 64)]     0                                            \n",
      "__________________________________________________________________________________________________\n",
      "bidirectional (Bidirectional)   (None, 80, 1536)     5117952     input_1[0][0]                    \n",
      "__________________________________________________________________________________________________\n",
      "bidirectional_1 (Bidirectional) (None, 80, 1024)     8392704     bidirectional[0][0]              \n",
      "__________________________________________________________________________________________________\n",
      "bidirectional_2 (Bidirectional) (None, 80, 512)      2623488     bidirectional_1[0][0]            \n",
      "__________________________________________________________________________________________________\n",
      "bidirectional_3 (Bidirectional) (None, 80, 512)      1969152     bidirectional_1[0][0]            \n",
      "__________________________________________________________________________________________________\n",
      "add (Add)                       (None, 80, 512)      0           bidirectional_2[0][0]            \n",
      "                                                                 bidirectional_3[0][0]            \n",
      "__________________________________________________________________________________________________\n",
      "bidirectional_4 (Bidirectional) (None, 80, 256)      493056      add[0][0]                        \n",
      "__________________________________________________________________________________________________\n",
      "concatenate (Concatenate)       (None, 80, 1280)     0           bidirectional_2[0][0]            \n",
      "                                                                 bidirectional_3[0][0]            \n",
      "                                                                 bidirectional_4[0][0]            \n",
      "__________________________________________________________________________________________________\n",
      "bidirectional_5 (Bidirectional) (None, 80, 384)      2262528     concatenate[0][0]                \n",
      "__________________________________________________________________________________________________\n",
      "dense (Dense)                   (None, 80, 128)      49280       bidirectional_5[0][0]            \n",
      "__________________________________________________________________________________________________\n",
      "dense_1 (Dense)                 (None, 80, 1)        129         dense[0][0]                      \n",
      "==================================================================================================\n",
      "Total params: 20,908,289\n",
      "Trainable params: 20,908,289\n",
      "Non-trainable params: 0\n",
      "__________________________________________________________________________________________________\n"
     ]
    }
   ],
   "source": [
    "model = dnn_model()\n",
    "model.summary()"
   ]
  },
  {
   "cell_type": "code",
   "execution_count": 11,
   "id": "5228c457",
   "metadata": {
    "execution": {
     "iopub.execute_input": "2021-10-12T09:10:40.130737Z",
     "iopub.status.busy": "2021-10-12T09:10:40.129975Z",
     "iopub.status.idle": "2021-10-12T09:10:41.305249Z",
     "shell.execute_reply": "2021-10-12T09:10:41.305799Z"
    },
    "papermill": {
     "duration": 1.207142,
     "end_time": "2021-10-12T09:10:41.305981",
     "exception": false,
     "start_time": "2021-10-12T09:10:40.098839",
     "status": "completed"
    },
    "tags": []
   },
   "outputs": [
    {
     "data": {
      "image/png": "[encoded data removed]",
      "text/plain": [
       "<IPython.core.display.Image object>"
      ]
     },
     "execution_count": 11,
     "metadata": {},
     "output_type": "execute_result"
    }
   ],
   "source": [
    "plot_model(\n",
    "    model, \n",
    "    to_file='Google_Brain_Keras_Model.png', \n",
    "    show_shapes=True,\n",
    "    show_layer_names=True\n",
    ")"
   ]
  },
  {
   "cell_type": "code",
   "execution_count": 12,
   "id": "29f908a0",
   "metadata": {
    "execution": {
     "iopub.execute_input": "2021-10-12T09:10:41.382026Z",
     "iopub.status.busy": "2021-10-12T09:10:41.381009Z",
     "iopub.status.idle": "2021-10-12T15:01:33.254166Z",
     "shell.execute_reply": "2021-10-12T15:01:33.254954Z"
    },
    "papermill": {
     "duration": 21051.921183,
     "end_time": "2021-10-12T15:01:33.256730",
     "exception": false,
     "start_time": "2021-10-12T09:10:41.335547",
     "status": "completed"
    },
    "tags": []
   },
   "outputs": [
    {
     "name": "stderr",
     "output_type": "stream",
     "text": [
      "2021-10-12 09:11:04.581550: W tensorflow/core/framework/cpu_allocator_impl.cc:80] Allocation of 1324462080 exceeds 10% of free system memory.\n"
     ]
    },
    {
     "name": "stdout",
     "output_type": "stream",
     "text": [
      "Fold-1 | OOF Score: 0.16112606056581755\n"
     ]
    },
    {
     "name": "stderr",
     "output_type": "stream",
     "text": [
      "2021-10-12 09:55:45.931863: W tensorflow/core/framework/cpu_allocator_impl.cc:80] Allocation of 1030144000 exceeds 10% of free system memory.\n",
      "2021-10-12 09:56:13.009091: W tensorflow/core/framework/cpu_allocator_impl.cc:80] Allocation of 1324462080 exceeds 10% of free system memory.\n"
     ]
    },
    {
     "name": "stdout",
     "output_type": "stream",
     "text": [
      "Fold-2 | OOF Score: 0.16258001095851782\n"
     ]
    },
    {
     "name": "stderr",
     "output_type": "stream",
     "text": [
      "2021-10-12 10:45:27.179649: W tensorflow/core/framework/cpu_allocator_impl.cc:80] Allocation of 1030144000 exceeds 10% of free system memory.\n",
      "2021-10-12 10:45:49.792617: W tensorflow/core/framework/cpu_allocator_impl.cc:80] Allocation of 1324462080 exceeds 10% of free system memory.\n"
     ]
    },
    {
     "name": "stdout",
     "output_type": "stream",
     "text": [
      "Fold-3 | OOF Score: 0.16502696102577724\n",
      "Fold-4 | OOF Score: 0.1614873964707711\n",
      "Fold-5 | OOF Score: 0.16390962046846733\n",
      "Fold-6 | OOF Score: 0.16005591422945886\n",
      "Fold-7 | OOF Score: 0.1603692169639012\n"
     ]
    }
   ],
   "source": [
    "with tpu_strategy.scope():\n",
    "    \n",
    "    VERBOSE = 0\n",
    "    test_preds = []\n",
    "    kf = KFold(n_splits=7, shuffle=True, random_state=2021)\n",
    "    \n",
    "    for fold, (train_idx, test_idx) in enumerate(kf.split(train, targets)):\n",
    "        X_train, X_valid = train[train_idx], train[test_idx]\n",
    "        y_train, y_valid = targets[train_idx], targets[test_idx]\n",
    "        \n",
    "        model = dnn_model()\n",
    "        model.compile(optimizer=\"adam\", loss=\"mae\")\n",
    "\n",
    "        lr = ReduceLROnPlateau(monitor=\"val_loss\", factor=0.75, \n",
    "                               patience=10, verbose=VERBOSE)\n",
    "        \n",
    "        save_locally = tf.saved_model.SaveOptions(experimental_io_device='/job:localhost')\n",
    "        chk_point = ModelCheckpoint(f'./Bidirect_LSTM_model_{fold+1}C.h5', options=save_locally, \n",
    "                                    monitor='val_loss', verbose=VERBOSE, \n",
    "                                    save_best_only=True, mode='min')\n",
    "\n",
    "        es = EarlyStopping(monitor=\"val_loss\", patience=50, \n",
    "                           verbose=VERBOSE, mode=\"min\", \n",
    "                           restore_best_weights=True)\n",
    "        \n",
    "        model.fit(X_train, y_train, \n",
    "                  validation_data=(X_valid, y_valid), \n",
    "                  epochs=300,\n",
    "                  verbose=VERBOSE,\n",
    "                  batch_size=BATCH_SIZE, \n",
    "                  callbacks=[lr, chk_point, es])\n",
    "        \n",
    "        load_locally = tf.saved_model.LoadOptions(experimental_io_device='/job:localhost')\n",
    "        model = load_model(f'./Bidirect_LSTM_model_{fold+1}C.h5', options=load_locally)\n",
    "        \n",
    "        y_true = y_valid.squeeze().reshape(-1, 1)\n",
    "        y_pred = model.predict(X_valid, batch_size=BATCH_SIZE).squeeze().reshape(-1, 1)\n",
    "        score = mean_absolute_error(y_true, y_pred)\n",
    "        print(f\"Fold-{fold+1} | OOF Score: {score}\")\n",
    "        \n",
    "        test_preds.append(model.predict(test, batch_size=BATCH_SIZE).squeeze().reshape(-1, 1).squeeze())"
   ]
  },
  {
   "cell_type": "markdown",
   "id": "9e427cb6",
   "metadata": {
    "papermill": {
     "duration": 0.033369,
     "end_time": "2021-10-12T15:01:33.324204",
     "exception": false,
     "start_time": "2021-10-12T15:01:33.290835",
     "status": "completed"
    },
    "tags": []
   },
   "source": [
    "## Create submission file"
   ]
  },
  {
   "cell_type": "code",
   "execution_count": 13,
   "id": "bc272e90",
   "metadata": {
    "execution": {
     "iopub.execute_input": "2021-10-12T15:01:33.402893Z",
     "iopub.status.busy": "2021-10-12T15:01:33.402028Z",
     "iopub.status.idle": "2021-10-12T15:01:46.383798Z",
     "shell.execute_reply": "2021-10-12T15:01:46.383049Z"
    },
    "papermill": {
     "duration": 13.026745,
     "end_time": "2021-10-12T15:01:46.383957",
     "exception": false,
     "start_time": "2021-10-12T15:01:33.357212",
     "status": "completed"
    },
    "tags": []
   },
   "outputs": [],
   "source": [
    "submission = pd.read_csv('../input/ventilator-pressure-prediction/sample_submission.csv')\n",
    "submission[\"pressure\"] = sum(test_preds)/5\n",
    "submission.to_csv('mean_submission.csv', index=False)"
   ]
  },
  {
   "cell_type": "code",
   "execution_count": 14,
   "id": "2cfc722d",
   "metadata": {
    "execution": {
     "iopub.execute_input": "2021-10-12T15:01:46.459656Z",
     "iopub.status.busy": "2021-10-12T15:01:46.457604Z",
     "iopub.status.idle": "2021-10-12T15:01:58.828142Z",
     "shell.execute_reply": "2021-10-12T15:01:58.827326Z"
    },
    "papermill": {
     "duration": 12.410785,
     "end_time": "2021-10-12T15:01:58.828300",
     "exception": false,
     "start_time": "2021-10-12T15:01:46.417515",
     "status": "completed"
    },
    "tags": []
   },
   "outputs": [],
   "source": [
    "submission[\"pressure\"] = np.median(np.vstack(test_preds),axis=0)\n",
    "submission[\"pressure\"] = np.round((submission.pressure - P_MIN)/P_STEP) * P_STEP + P_MIN\n",
    "submission[\"pressure\"] = np.clip(submission.pressure, P_MIN, P_MAX)\n",
    "submission.to_csv('median_submission.csv', index=False)"
   ]
  },
  {
   "cell_type": "code",
   "execution_count": null,
   "id": "5a6db7ab",
   "metadata": {
    "papermill": {
     "duration": 0.03251,
     "end_time": "2021-10-12T15:01:58.894733",
     "exception": false,
     "start_time": "2021-10-12T15:01:58.862223",
     "status": "completed"
    },
    "tags": []
   },
   "outputs": [],
   "source": []
  }
 ],
 "metadata": {
  "kernelspec": {
   "display_name": "Python 3",
   "language": "python",
   "name": "python3"
  },
  "language_info": {
   "codemirror_mode": {
    "name": "ipython",
    "version": 3
   },
   "file_extension": ".py",
   "mimetype": "text/x-python",
   "name": "python",
   "nbconvert_exporter": "python",
   "pygments_lexer": "ipython3",
   "version": "3.7.10"
  },
  "papermill": {
   "default_parameters": {},
   "duration": 21294.185447,
   "end_time": "2021-10-12T15:02:02.097205",
   "environment_variables": {},
   "exception": null,
   "input_path": "__notebook__.ipynb",
   "output_path": "__notebook__.ipynb",
   "parameters": {},
   "start_time": "2021-10-12T09:07:07.911758",
   "version": "2.3.3"
  }
 },
 "nbformat": 4,
 "nbformat_minor": 5
}
