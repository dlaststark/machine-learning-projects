{
 "cells": [
  {
   "cell_type": "markdown",
   "id": "shaped-windows",
   "metadata": {
    "papermill": {
     "duration": 0.053427,
     "end_time": "2021-09-07T15:21:44.674876",
     "exception": false,
     "start_time": "2021-09-07T15:21:44.621449",
     "status": "completed"
    },
    "tags": []
   },
   "source": [
    "### **Experiment Log:**\n",
    "\n",
    "|Version |Models Used |CV Score |LB Score| Changes Made\n",
    "| --- | --- | --- | --- | --- |\n",
    "|v1 | LightGBM, CatBoost <br> Deep Neural Network | 0.19779 | 0.20699 | Baseline\n",
    "|v2 | LightGBM, CatBoost <br> Deep Neural Network <br> Linear Regression (Meta) | 0.19171 | 0.20484 | Linear regression (meta model) added\n",
    "|v3 | LightGBM, CatBoost <br> Deep Neural Network <br> Linear Regression (Meta) | 0.19106 | 0.20482 | New features added\n",
    "|v4 | LightGBM, CatBoost <br> Deep Neural Network <br> Linear Regression (Meta) | 0.19099 | 0.20449 | K-Fold stratification method modified\n",
    "|v5 | LightGBM, CatBoost <br> Deep Neural Network <br> Linear Regression (Meta) | 0.19065 | 0.20549 | New lag features added\n",
    "|v6 | LightGBM, CatBoost <br> Deep Neural Network <br> Linear Regression (Meta) | 0.18927 | Error | New lag features added <br> Models architecture modified\n",
    "|v7 | LightGBM, CatBoost <br> Deep Neural Network <br> Linear Regression (Meta) | 0.18941 | 0.20243 | Modified feature engineering process\n",
    "|v8 | LightGBM, CatBoost <br> Deep Neural Network <br> Linear Regression (Meta) | 0.189193 | 0.20227 | Models architecture modified\n",
    "|v9 | LightGBM, CatBoost <br> Deep Neural Network <br> Linear Regression (Meta) | 0.18919 | 0.20261 | DNN model architecture modified\n",
    "|v10 | LightGBM, CatBoost <br> Deep Neural Network <br> Linear Regression (Meta) | 0.18915 | NA | DNN model architecture modified\n",
    "|v11 | LightGBM, CatBoost <br> Deep Neural Network <br> Linear Regression (Meta) | 0.18922 | 0.20222 | DNN model architecture modified\n",
    "|v12 | LightGBM, CatBoost <br> Deep Neural Network <br> Linear Regression (Meta) | 0.18873 | 0.20259 | DNN model architecture modified\n",
    "|v13 | LightGBM, CatBoost <br> Deep Neural Network | 0.19200 | 0.20259 | Weighted average ensemble\n",
    "|v14 | LightGBM, CatBoost <br> Deep Neural Network <br> Linear Regression (Meta) | 0.18888 | Error | New features added\n",
    "|v15 | LightGBM, CatBoost <br> Deep Neural Network <br> Linear Regression (Meta) | 0.18764 | 0.20332 | Quantile transformation replaced with Min Max Scaler\n",
    "|v16 | LightGBM, CatBoost <br> Deep Neural Network <br> Linear Regression (Meta) | 0.18768 | Error | Missing values replaced with mean\n",
    "|v17 | LightGBM, CatBoost <br> Deep Neural Network <br> Gradient Boosting Regressor <br> Linear Regression (Meta) | 0.20154 | 0.20485 | Modified feature engineering process <br> New base model added\n",
    "|v18 | LightGBM, CatBoost <br> Deep Neural Network <br> Linear Regression (Meta) | 0.18807 | 0.20660 | New historical volatility features added\n",
    "|v23 | LightGBM, CatBoost <br> Deep Neural Network <br> Linear Regression (Meta) | TBD | TBD | Kfold cross validation <br> Special handling for DNN model"
   ]
  },
  {
   "cell_type": "markdown",
   "id": "fossil-proposition",
   "metadata": {
    "papermill": {
     "duration": 0.051796,
     "end_time": "2021-09-07T15:21:44.776919",
     "exception": false,
     "start_time": "2021-09-07T15:21:44.725123",
     "status": "completed"
    },
    "tags": []
   },
   "source": [
    "## Import libraries"
   ]
  },
  {
   "cell_type": "code",
   "execution_count": 1,
   "id": "sharing-lesson",
   "metadata": {
    "execution": {
     "iopub.execute_input": "2021-09-07T15:21:44.937287Z",
     "iopub.status.busy": "2021-09-07T15:21:44.935347Z",
     "iopub.status.idle": "2021-09-07T15:21:54.625759Z",
     "shell.execute_reply": "2021-09-07T15:21:54.626481Z",
     "shell.execute_reply.started": "2021-09-07T14:28:47.781626Z"
    },
    "papermill": {
     "duration": 9.800592,
     "end_time": "2021-09-07T15:21:54.626868",
     "exception": false,
     "start_time": "2021-09-07T15:21:44.826276",
     "status": "completed"
    },
    "tags": []
   },
   "outputs": [
    {
     "data": {
      "text/html": [
       "<style type='text/css'>\n",
       ".datatable table.frame { margin-bottom: 0; }\n",
       ".datatable table.frame thead { border-bottom: none; }\n",
       ".datatable table.frame tr.coltypes td {  color: #FFFFFF;  line-height: 6px;  padding: 0 0.5em;}\n",
       ".datatable .bool    { background: #DDDD99; }\n",
       ".datatable .object  { background: #565656; }\n",
       ".datatable .int     { background: #5D9E5D; }\n",
       ".datatable .float   { background: #4040CC; }\n",
       ".datatable .str     { background: #CC4040; }\n",
       ".datatable .row_index {  background: var(--jp-border-color3);  border-right: 1px solid var(--jp-border-color0);  color: var(--jp-ui-font-color3);  font-size: 9px;}\n",
       ".datatable .frame tr.coltypes .row_index {  background: var(--jp-border-color0);}\n",
       ".datatable th:nth-child(2) { padding-left: 12px; }\n",
       ".datatable .hellipsis {  color: var(--jp-cell-editor-border-color);}\n",
       ".datatable .vellipsis {  background: var(--jp-layout-color0);  color: var(--jp-cell-editor-border-color);}\n",
       ".datatable .na {  color: var(--jp-cell-editor-border-color);  font-size: 80%;}\n",
       ".datatable .footer { font-size: 9px; }\n",
       ".datatable .frame_dimensions {  background: var(--jp-border-color3);  border-top: 1px solid var(--jp-border-color0);  color: var(--jp-ui-font-color3);  display: inline-block;  opacity: 0.6;  padding: 1px 10px 1px 5px;}\n",
       "</style>\n"
      ],
      "text/plain": [
       "<IPython.core.display.HTML object>"
      ]
     },
     "metadata": {},
     "output_type": "display_data"
    }
   ],
   "source": [
    "import warnings\n",
    "warnings.filterwarnings(\"ignore\")\n",
    "\n",
    "import os\n",
    "import gc\n",
    "import glob\n",
    "import random\n",
    "import pickle\n",
    "import joblib\n",
    "import numpy.matlib\n",
    "import numpy as np\n",
    "import pandas as pd\n",
    "from tqdm import tqdm\n",
    "from sklearn.cluster import KMeans\n",
    "from sklearn.model_selection import KFold\n",
    "from sklearn.preprocessing import MinMaxScaler\n",
    "from sklearn.preprocessing import QuantileTransformer\n",
    "\n",
    "from lightgbm import LGBMRegressor\n",
    "from catboost import CatBoostRegressor\n",
    "from sklearn.linear_model import LinearRegression\n",
    "\n",
    "import tensorflow as tf\n",
    "from tensorflow.keras.models import Model\n",
    "from tensorflow.keras.regularizers import l2\n",
    "from tensorflow.keras.utils import plot_model\n",
    "from tensorflow.keras.optimizers import Adamax\n",
    "from tensorflow.keras.callbacks import EarlyStopping\n",
    "from tensorflow.keras.callbacks import ModelCheckpoint\n",
    "from tensorflow.keras.callbacks import ReduceLROnPlateau\n",
    "from tensorflow.keras.layers import LeakyReLU, Reshape, Add\n",
    "from tensorflow.keras.layers import Activation, Concatenate\n",
    "from tensorflow.keras.layers import SpatialDropout1D, Conv1D\n",
    "from tensorflow.keras.layers import AveragePooling1D, Dropout\n",
    "from tensorflow.keras.layers import Embedding, Dense, Flatten\n",
    "from tensorflow.keras.layers import Input, BatchNormalization"
   ]
  },
  {
   "cell_type": "code",
   "execution_count": 2,
   "id": "social-omega",
   "metadata": {
    "execution": {
     "iopub.execute_input": "2021-09-07T15:21:54.741229Z",
     "iopub.status.busy": "2021-09-07T15:21:54.740164Z",
     "iopub.status.idle": "2021-09-07T15:21:54.743481Z",
     "shell.execute_reply": "2021-09-07T15:21:54.742903Z",
     "shell.execute_reply.started": "2021-09-07T14:28:55.450545Z"
    },
    "papermill": {
     "duration": 0.062184,
     "end_time": "2021-09-07T15:21:54.743606",
     "exception": false,
     "start_time": "2021-09-07T15:21:54.681422",
     "status": "completed"
    },
    "tags": []
   },
   "outputs": [],
   "source": [
    "def seed_everything(seed):\n",
    "    random.seed(seed)\n",
    "    np.random.seed(seed)\n",
    "    os.environ['PYTHONHASHSEED'] = str(seed)\n",
    "    tf.random.set_seed(seed)\n",
    "    \n",
    "seed_everything(2021)"
   ]
  },
  {
   "cell_type": "markdown",
   "id": "moving-assignment",
   "metadata": {
    "papermill": {
     "duration": 0.050936,
     "end_time": "2021-09-07T15:21:54.846533",
     "exception": false,
     "start_time": "2021-09-07T15:21:54.795597",
     "status": "completed"
    },
    "tags": []
   },
   "source": [
    "## Helper Functions"
   ]
  },
  {
   "cell_type": "code",
   "execution_count": 3,
   "id": "documented-pepper",
   "metadata": {
    "execution": {
     "iopub.execute_input": "2021-09-07T15:21:54.953898Z",
     "iopub.status.busy": "2021-09-07T15:21:54.952841Z",
     "iopub.status.idle": "2021-09-07T15:21:54.955691Z",
     "shell.execute_reply": "2021-09-07T15:21:54.956348Z",
     "shell.execute_reply.started": "2021-09-07T14:28:55.462682Z"
    },
    "papermill": {
     "duration": 0.058986,
     "end_time": "2021-09-07T15:21:54.956489",
     "exception": false,
     "start_time": "2021-09-07T15:21:54.897503",
     "status": "completed"
    },
    "tags": []
   },
   "outputs": [],
   "source": [
    "def rmspe(y_true, y_pred):\n",
    "    return (np.sqrt(np.mean(np.square((y_true - y_pred) / y_true))))"
   ]
  },
  {
   "cell_type": "code",
   "execution_count": 4,
   "id": "environmental-norman",
   "metadata": {
    "execution": {
     "iopub.execute_input": "2021-09-07T15:21:55.063833Z",
     "iopub.status.busy": "2021-09-07T15:21:55.062758Z",
     "iopub.status.idle": "2021-09-07T15:21:55.066403Z",
     "shell.execute_reply": "2021-09-07T15:21:55.065860Z",
     "shell.execute_reply.started": "2021-09-07T14:28:55.473358Z"
    },
    "papermill": {
     "duration": 0.060585,
     "end_time": "2021-09-07T15:21:55.066560",
     "exception": false,
     "start_time": "2021-09-07T15:21:55.005975",
     "status": "completed"
    },
    "tags": []
   },
   "outputs": [],
   "source": [
    "def rmspe_loss(y_true, y_pred):\n",
    "    y_true = tf.cast(y_true, dtype=tf.float32)\n",
    "    y_pred = tf.cast(y_pred, dtype=tf.float32)\n",
    "    return (tf.math.sqrt(tf.reduce_mean(tf.math.square((y_true - y_pred) / y_true))))"
   ]
  },
  {
   "cell_type": "code",
   "execution_count": 5,
   "id": "thorough-bulgarian",
   "metadata": {
    "execution": {
     "iopub.execute_input": "2021-09-07T15:21:55.174382Z",
     "iopub.status.busy": "2021-09-07T15:21:55.173387Z",
     "iopub.status.idle": "2021-09-07T15:21:55.176822Z",
     "shell.execute_reply": "2021-09-07T15:21:55.176339Z",
     "shell.execute_reply.started": "2021-09-07T14:28:55.484894Z"
    },
    "papermill": {
     "duration": 0.058842,
     "end_time": "2021-09-07T15:21:55.176950",
     "exception": false,
     "start_time": "2021-09-07T15:21:55.118108",
     "status": "completed"
    },
    "tags": []
   },
   "outputs": [],
   "source": [
    "def log_return(list_stock_prices):\n",
    "    return np.log(list_stock_prices).diff()"
   ]
  },
  {
   "cell_type": "code",
   "execution_count": 6,
   "id": "correct-memorabilia",
   "metadata": {
    "execution": {
     "iopub.execute_input": "2021-09-07T15:21:55.284856Z",
     "iopub.status.busy": "2021-09-07T15:21:55.283884Z",
     "iopub.status.idle": "2021-09-07T15:21:55.287624Z",
     "shell.execute_reply": "2021-09-07T15:21:55.287088Z",
     "shell.execute_reply.started": "2021-09-07T14:28:55.494883Z"
    },
    "papermill": {
     "duration": 0.059405,
     "end_time": "2021-09-07T15:21:55.287753",
     "exception": false,
     "start_time": "2021-09-07T15:21:55.228348",
     "status": "completed"
    },
    "tags": []
   },
   "outputs": [],
   "source": [
    "def realized_volatility(series_log_return):\n",
    "    return np.sqrt(np.sum(series_log_return**2))"
   ]
  },
  {
   "cell_type": "code",
   "execution_count": 7,
   "id": "powerful-medline",
   "metadata": {
    "execution": {
     "iopub.execute_input": "2021-09-07T15:21:55.392800Z",
     "iopub.status.busy": "2021-09-07T15:21:55.391863Z",
     "iopub.status.idle": "2021-09-07T15:21:55.395080Z",
     "shell.execute_reply": "2021-09-07T15:21:55.394584Z",
     "shell.execute_reply.started": "2021-09-07T14:28:55.503126Z"
    },
    "papermill": {
     "duration": 0.057894,
     "end_time": "2021-09-07T15:21:55.395203",
     "exception": false,
     "start_time": "2021-09-07T15:21:55.337309",
     "status": "completed"
    },
    "tags": []
   },
   "outputs": [],
   "source": [
    "def historical_volatility(series):\n",
    "    return np.sqrt(np.sum(series**2)/len(series))"
   ]
  },
  {
   "cell_type": "code",
   "execution_count": 8,
   "id": "simplified-asbestos",
   "metadata": {
    "execution": {
     "iopub.execute_input": "2021-09-07T15:21:55.501695Z",
     "iopub.status.busy": "2021-09-07T15:21:55.500583Z",
     "iopub.status.idle": "2021-09-07T15:21:55.504021Z",
     "shell.execute_reply": "2021-09-07T15:21:55.503440Z",
     "shell.execute_reply.started": "2021-09-07T14:28:55.513476Z"
    },
    "papermill": {
     "duration": 0.058716,
     "end_time": "2021-09-07T15:21:55.504153",
     "exception": false,
     "start_time": "2021-09-07T15:21:55.445437",
     "status": "completed"
    },
    "tags": []
   },
   "outputs": [],
   "source": [
    "def count_unique(series):\n",
    "    return len(np.unique(series))"
   ]
  },
  {
   "cell_type": "code",
   "execution_count": 9,
   "id": "searching-steal",
   "metadata": {
    "execution": {
     "iopub.execute_input": "2021-09-07T15:21:55.613728Z",
     "iopub.status.busy": "2021-09-07T15:21:55.612883Z",
     "iopub.status.idle": "2021-09-07T15:21:55.616488Z",
     "shell.execute_reply": "2021-09-07T15:21:55.615986Z",
     "shell.execute_reply.started": "2021-09-07T14:28:55.520669Z"
    },
    "papermill": {
     "duration": 0.061308,
     "end_time": "2021-09-07T15:21:55.616626",
     "exception": false,
     "start_time": "2021-09-07T15:21:55.555318",
     "status": "completed"
    },
    "tags": []
   },
   "outputs": [],
   "source": [
    "def get_stats_window(df, fe_dict, seconds_in_bucket, add_suffix = False):\n",
    "    df_feature = df[df['seconds_in_bucket'] >= seconds_in_bucket].groupby(['time_id']).agg(fe_dict).reset_index()\n",
    "    df_feature.columns = ['_'.join(col) for col in df_feature.columns]\n",
    "    \n",
    "    if add_suffix:\n",
    "        df_feature = df_feature.add_suffix('_' + str(seconds_in_bucket))\n",
    "    \n",
    "    return df_feature"
   ]
  },
  {
   "cell_type": "code",
   "execution_count": 10,
   "id": "western-productivity",
   "metadata": {
    "execution": {
     "iopub.execute_input": "2021-09-07T15:21:55.732061Z",
     "iopub.status.busy": "2021-09-07T15:21:55.725482Z",
     "iopub.status.idle": "2021-09-07T15:21:55.735476Z",
     "shell.execute_reply": "2021-09-07T15:21:55.734998Z",
     "shell.execute_reply.started": "2021-09-07T14:28:55.531209Z"
    },
    "papermill": {
     "duration": 0.067767,
     "end_time": "2021-09-07T15:21:55.735601",
     "exception": false,
     "start_time": "2021-09-07T15:21:55.667834",
     "status": "completed"
    },
    "tags": []
   },
   "outputs": [],
   "source": [
    "def process_trade_data(trade_files):\n",
    "    \n",
    "    trade_df = pd.DataFrame()\n",
    "    \n",
    "    for file in tqdm(glob.glob(trade_files)):\n",
    "        \n",
    "        # Read source file\n",
    "        df_trade_data = pd.read_parquet(file)\n",
    "        \n",
    "        # Feature engineering\n",
    "        df_trade_data['log_return'] = df_trade_data.groupby('time_id')['price'].apply(log_return)\n",
    "        df_trade_data['size_order_count_ratio'] = df_trade_data.apply(lambda x: 0 if x['order_count'] == 0 else x['size']/x['order_count'], axis=1)\n",
    "        price_mean = df_trade_data['price'].mean()\n",
    "        df_trade_data['price1'] = df_trade_data['price'].apply(lambda x: x - price_mean)\n",
    "        \n",
    "        fet_engg_dict = {\n",
    "            'price': ['mean','std','sum'],\n",
    "            'size': ['mean','std','sum'],\n",
    "            'order_count': ['mean','std','sum'],\n",
    "            'size_order_count_ratio': ['mean','std','sum'],\n",
    "            'seconds_in_bucket': [count_unique],\n",
    "            'log_return': [realized_volatility,'mean','std','sum'],\n",
    "            'price1': [historical_volatility,'mean','std','sum']\n",
    "        }\n",
    "        \n",
    "        # Get the stats for different windows\n",
    "        df_feature = get_stats_window(df_trade_data, fet_engg_dict, seconds_in_bucket = 0, add_suffix = False)\n",
    "        df_feature_120 = get_stats_window(df_trade_data, fet_engg_dict, seconds_in_bucket = 120, add_suffix = True)\n",
    "        df_feature_240 = get_stats_window(df_trade_data, fet_engg_dict, seconds_in_bucket = 240, add_suffix = True)\n",
    "        df_feature_360 = get_stats_window(df_trade_data, fet_engg_dict, seconds_in_bucket = 360, add_suffix = True)\n",
    "        df_feature_480 = get_stats_window(df_trade_data, fet_engg_dict, seconds_in_bucket = 480, add_suffix = True)\n",
    "        \n",
    "        # Merge all\n",
    "        trade_agg_df = df_feature.merge(df_feature_120, how = 'left', left_on = 'time_id_', right_on = 'time_id__120')\n",
    "        trade_agg_df = trade_agg_df.merge(df_feature_240, how = 'left', left_on = 'time_id_', right_on = 'time_id__240')\n",
    "        trade_agg_df = trade_agg_df.merge(df_feature_360, how = 'left', left_on = 'time_id_', right_on = 'time_id__360')\n",
    "        trade_agg_df = trade_agg_df.merge(df_feature_480, how = 'left', left_on = 'time_id_', right_on = 'time_id__480')\n",
    "        trade_agg_df = trade_agg_df.add_prefix('trade_')\n",
    "        \n",
    "        # Generate row_id\n",
    "        stock_id = file.split('=')[1]\n",
    "        trade_agg_df['row_id'] = trade_agg_df['trade_time_id_'].apply(lambda x:f'{stock_id}-{x}')\n",
    "        trade_agg_df.drop(['trade_time_id_'], inplace=True, axis=1)\n",
    "        \n",
    "        # Merge with parent df\n",
    "        trade_df = pd.concat([trade_df, trade_agg_df])\n",
    "    \n",
    "    del df_trade_data, trade_agg_df, df_feature\n",
    "    del df_feature_120, df_feature_240\n",
    "    del df_feature_360, df_feature_480\n",
    "    gc.collect()\n",
    "    \n",
    "    return trade_df"
   ]
  },
  {
   "cell_type": "code",
   "execution_count": 11,
   "id": "pretty-contemporary",
   "metadata": {
    "execution": {
     "iopub.execute_input": "2021-09-07T15:21:55.867908Z",
     "iopub.status.busy": "2021-09-07T15:21:55.847104Z",
     "iopub.status.idle": "2021-09-07T15:21:55.871168Z",
     "shell.execute_reply": "2021-09-07T15:21:55.870629Z",
     "shell.execute_reply.started": "2021-09-07T14:28:55.548169Z"
    },
    "papermill": {
     "duration": 0.084517,
     "end_time": "2021-09-07T15:21:55.871318",
     "exception": false,
     "start_time": "2021-09-07T15:21:55.786801",
     "status": "completed"
    },
    "tags": []
   },
   "outputs": [],
   "source": [
    "def process_book_data(book_files):\n",
    "    \n",
    "    book_df = pd.DataFrame()\n",
    "    \n",
    "    for file in tqdm(glob.glob(book_files)):\n",
    "        \n",
    "        # Read source file\n",
    "        df_book_data = pd.read_parquet(file)\n",
    "        \n",
    "        # Feature engineering\n",
    "        df_book_data['wap1'] = (df_book_data['bid_price1'] *\n",
    "                                df_book_data['ask_size1'] +\n",
    "                                df_book_data['ask_price1'] *\n",
    "                                df_book_data['bid_size1'])  / (df_book_data['bid_size1'] +\n",
    "                                                               df_book_data['ask_size1'])\n",
    "\n",
    "        df_book_data['wap2'] = (df_book_data['bid_price2'] *\n",
    "                                df_book_data['ask_size2'] +\n",
    "                                df_book_data['ask_price2'] *\n",
    "                                df_book_data['bid_size2'])  / (df_book_data['bid_size2'] +\n",
    "                                                               df_book_data['ask_size2'])\n",
    "        \n",
    "        df_book_data['wap3'] = (df_book_data['bid_price1'] *\n",
    "                                df_book_data['bid_size1'] +\n",
    "                                df_book_data['ask_price1'] *\n",
    "                                df_book_data['ask_size1'])  / (df_book_data['bid_size1'] +\n",
    "                                                               df_book_data['ask_size1'])\n",
    "\n",
    "        df_book_data['wap4'] = (df_book_data['bid_price2'] *\n",
    "                                df_book_data['bid_size2'] +\n",
    "                                df_book_data['ask_price2'] *\n",
    "                                df_book_data['ask_size2'])  / (df_book_data['bid_size2'] +\n",
    "                                                               df_book_data['ask_size2'])\n",
    "\n",
    "        df_book_data['log_return1'] = df_book_data.groupby(['time_id'])['wap1'].apply(log_return)\n",
    "        df_book_data['log_return2'] = df_book_data.groupby(['time_id'])['wap2'].apply(log_return)\n",
    "        df_book_data['log_return3'] = df_book_data.groupby(['time_id'])['wap3'].apply(log_return)\n",
    "        df_book_data['log_return4'] = df_book_data.groupby(['time_id'])['wap4'].apply(log_return)\n",
    "        \n",
    "        wap1_mean = df_book_data['wap1'].mean()\n",
    "        df_book_data['waph1'] = df_book_data['wap1'].apply(lambda x: x - wap1_mean)\n",
    "        \n",
    "        wap2_mean = df_book_data['wap2'].mean()\n",
    "        df_book_data['waph2'] = df_book_data['wap2'].apply(lambda x: x - wap2_mean)\n",
    "        \n",
    "        wap3_mean = df_book_data['wap3'].mean()\n",
    "        df_book_data['waph3'] = df_book_data['wap3'].apply(lambda x: x - wap3_mean)\n",
    "        \n",
    "        wap4_mean = df_book_data['wap4'].mean()\n",
    "        df_book_data['waph4'] = df_book_data['wap4'].apply(lambda x: x - wap4_mean)\n",
    "        \n",
    "        df_book_data['wap_balance'] = abs(df_book_data['wap1'] - df_book_data['wap2'])\n",
    "        df_book_data['price_spread1'] = (df_book_data['ask_price1'] - df_book_data['bid_price1']) / ((df_book_data['ask_price1'] + df_book_data['bid_price1'])/2)\n",
    "        df_book_data['price_spread2'] = (df_book_data['ask_price2'] - df_book_data['bid_price2']) / ((df_book_data['ask_price2'] + df_book_data['bid_price2'])/2)\n",
    "        df_book_data['bid_spread'] = df_book_data['bid_price1'] - df_book_data['bid_price2']\n",
    "        df_book_data['ask_spread'] = df_book_data['ask_price1'] - df_book_data['ask_price2']\n",
    "        df_book_data['bid_ask_spread1'] = abs((df_book_data['bid_price1'] * df_book_data['bid_size1']) - (df_book_data['ask_price1'] * df_book_data['ask_size1']))\n",
    "        df_book_data['bid_ask_spread2'] = abs((df_book_data['bid_price2'] * df_book_data['bid_size2']) - (df_book_data['ask_price2'] * df_book_data['ask_size2']))\n",
    "        df_book_data['total_volume'] = (df_book_data['ask_size1'] + df_book_data['ask_size2']) + (df_book_data['bid_size1'] + df_book_data['bid_size2'])\n",
    "        df_book_data['volume_imbalance'] = abs((df_book_data['ask_size1'] + df_book_data['ask_size2']) - (df_book_data['bid_size1'] + df_book_data['bid_size2']))\n",
    "        \n",
    "        fet_engg_dict = {\n",
    "            'wap1': ['mean','std','sum'],\n",
    "            'log_return1': [realized_volatility,'mean','std','sum'],\n",
    "            'log_return2': [realized_volatility,'mean','std','sum'],\n",
    "            'log_return3': [realized_volatility,'mean','std','sum'],\n",
    "            'log_return4': [realized_volatility,'mean','std','sum'],\n",
    "            'wap_balance': ['mean','std','sum'],\n",
    "            'price_spread1': ['mean','std','sum'],\n",
    "            'price_spread2': ['mean','std','sum'],\n",
    "            'bid_spread': ['mean','std','sum'],\n",
    "            'ask_spread': ['mean','std','sum'],\n",
    "            'bid_ask_spread1': ['mean','std','sum'],\n",
    "            'bid_ask_spread2': ['mean','std','sum'],\n",
    "            'total_volume': ['mean','std','sum'],\n",
    "            'volume_imbalance': ['mean','std','sum'],\n",
    "            'waph1': [historical_volatility,'mean','std','sum']\n",
    "        }\n",
    "        \n",
    "        fet_engg_time_dict = {\n",
    "            'log_return1': [realized_volatility,'mean','std','sum'],\n",
    "            'log_return2': [realized_volatility,'mean','std','sum'],\n",
    "            'log_return3': [realized_volatility,'mean','std','sum'],\n",
    "            'log_return4': [realized_volatility,'mean','std','sum'],\n",
    "            'waph1': [historical_volatility,'mean','std','sum']\n",
    "        }\n",
    "        \n",
    "        # Get the stats for different windows\n",
    "        df_feature = get_stats_window(df_book_data, fet_engg_dict, seconds_in_bucket = 0, add_suffix = False)\n",
    "        df_feature_120 = get_stats_window(df_book_data, fet_engg_time_dict, seconds_in_bucket = 120, add_suffix = True)\n",
    "        df_feature_240 = get_stats_window(df_book_data, fet_engg_time_dict, seconds_in_bucket = 240, add_suffix = True)\n",
    "        df_feature_360 = get_stats_window(df_book_data, fet_engg_time_dict, seconds_in_bucket = 360, add_suffix = True)\n",
    "        df_feature_480 = get_stats_window(df_book_data, fet_engg_time_dict, seconds_in_bucket = 480, add_suffix = True)\n",
    "\n",
    "        # Merge all\n",
    "        book_agg_df = df_feature.merge(df_feature_120, how = 'left', left_on = 'time_id_', right_on = 'time_id__120')\n",
    "        book_agg_df = book_agg_df.merge(df_feature_240, how = 'left', left_on = 'time_id_', right_on = 'time_id__240')\n",
    "        book_agg_df = book_agg_df.merge(df_feature_360, how = 'left', left_on = 'time_id_', right_on = 'time_id__360')\n",
    "        book_agg_df = book_agg_df.merge(df_feature_480, how = 'left', left_on = 'time_id_', right_on = 'time_id__480')\n",
    "        book_agg_df = book_agg_df.add_prefix('book_')\n",
    "        \n",
    "        # Generate row_id\n",
    "        stock_id = file.split('=')[1]\n",
    "        book_agg_df['row_id'] = book_agg_df['book_time_id_'].apply(lambda x:f'{stock_id}-{x}')\n",
    "        book_agg_df.drop(['book_time_id_'], inplace=True, axis=1)\n",
    "        \n",
    "        # Merge with parent df\n",
    "        book_df = pd.concat([book_df, book_agg_df])\n",
    "    \n",
    "    del df_book_data, book_agg_df, df_feature\n",
    "    del df_feature_120, df_feature_240\n",
    "    del df_feature_360, df_feature_480\n",
    "    gc.collect()\n",
    "    \n",
    "    return book_df"
   ]
  },
  {
   "cell_type": "markdown",
   "id": "separate-rolling",
   "metadata": {
    "papermill": {
     "duration": 0.049765,
     "end_time": "2021-09-07T15:21:55.970841",
     "exception": false,
     "start_time": "2021-09-07T15:21:55.921076",
     "status": "completed"
    },
    "tags": []
   },
   "source": [
    "## Load training data"
   ]
  },
  {
   "cell_type": "code",
   "execution_count": 12,
   "id": "brown-official",
   "metadata": {
    "execution": {
     "iopub.execute_input": "2021-09-07T15:21:56.083003Z",
     "iopub.status.busy": "2021-09-07T15:21:56.082188Z",
     "iopub.status.idle": "2021-09-07T15:22:09.420696Z",
     "shell.execute_reply": "2021-09-07T15:22:09.419535Z",
     "shell.execute_reply.started": "2021-09-07T14:28:55.579563Z"
    },
    "papermill": {
     "duration": 13.398072,
     "end_time": "2021-09-07T15:22:09.420910",
     "exception": false,
     "start_time": "2021-09-07T15:21:56.022838",
     "status": "completed"
    },
    "tags": []
   },
   "outputs": [
    {
     "data": {
      "text/plain": [
       "42"
      ]
     },
     "execution_count": 12,
     "metadata": {},
     "output_type": "execute_result"
    }
   ],
   "source": [
    "with open(\"../input/orvp-django-unchained/ORVP_Ready_Meatballs.txt\", 'rb') as handle: \n",
    "    data = handle.read()\n",
    "\n",
    "processed_data = pickle.loads(data)\n",
    "train_df = processed_data['train_df']\n",
    "\n",
    "del processed_data\n",
    "gc.collect()"
   ]
  },
  {
   "cell_type": "markdown",
   "id": "relevant-float",
   "metadata": {
    "papermill": {
     "duration": 0.05223,
     "end_time": "2021-09-07T15:22:09.525773",
     "exception": false,
     "start_time": "2021-09-07T15:22:09.473543",
     "status": "completed"
    },
    "tags": []
   },
   "source": [
    "## Prepare testing data"
   ]
  },
  {
   "cell_type": "markdown",
   "id": "fuzzy-seating",
   "metadata": {
    "papermill": {
     "duration": 0.052637,
     "end_time": "2021-09-07T15:22:09.630903",
     "exception": false,
     "start_time": "2021-09-07T15:22:09.578266",
     "status": "completed"
    },
    "tags": []
   },
   "source": [
    "### Test data"
   ]
  },
  {
   "cell_type": "code",
   "execution_count": 13,
   "id": "laden-quebec",
   "metadata": {
    "execution": {
     "iopub.execute_input": "2021-09-07T15:22:09.745202Z",
     "iopub.status.busy": "2021-09-07T15:22:09.744551Z",
     "iopub.status.idle": "2021-09-07T15:22:09.771854Z",
     "shell.execute_reply": "2021-09-07T15:22:09.772411Z",
     "shell.execute_reply.started": "2021-09-07T14:29:05.473636Z"
    },
    "papermill": {
     "duration": 0.087626,
     "end_time": "2021-09-07T15:22:09.772601",
     "exception": false,
     "start_time": "2021-09-07T15:22:09.684975",
     "status": "completed"
    },
    "tags": []
   },
   "outputs": [
    {
     "name": "stdout",
     "output_type": "stream",
     "text": [
      "test_df: (3, 3)\n"
     ]
    },
    {
     "data": {
      "text/html": [
       "<div>\n",
       "<style scoped>\n",
       "    .dataframe tbody tr th:only-of-type {\n",
       "        vertical-align: middle;\n",
       "    }\n",
       "\n",
       "    .dataframe tbody tr th {\n",
       "        vertical-align: top;\n",
       "    }\n",
       "\n",
       "    .dataframe thead th {\n",
       "        text-align: right;\n",
       "    }\n",
       "</style>\n",
       "<table border=\"1\" class=\"dataframe\">\n",
       "  <thead>\n",
       "    <tr style=\"text-align: right;\">\n",
       "      <th></th>\n",
       "      <th>stock_id</th>\n",
       "      <th>time_id</th>\n",
       "      <th>row_id</th>\n",
       "    </tr>\n",
       "  </thead>\n",
       "  <tbody>\n",
       "    <tr>\n",
       "      <th>0</th>\n",
       "      <td>0</td>\n",
       "      <td>4</td>\n",
       "      <td>0-4</td>\n",
       "    </tr>\n",
       "    <tr>\n",
       "      <th>1</th>\n",
       "      <td>0</td>\n",
       "      <td>32</td>\n",
       "      <td>0-32</td>\n",
       "    </tr>\n",
       "    <tr>\n",
       "      <th>2</th>\n",
       "      <td>0</td>\n",
       "      <td>34</td>\n",
       "      <td>0-34</td>\n",
       "    </tr>\n",
       "  </tbody>\n",
       "</table>\n",
       "</div>"
      ],
      "text/plain": [
       "   stock_id  time_id row_id\n",
       "0         0        4    0-4\n",
       "1         0       32   0-32\n",
       "2         0       34   0-34"
      ]
     },
     "execution_count": 13,
     "metadata": {},
     "output_type": "execute_result"
    }
   ],
   "source": [
    "test_df = pd.read_csv('../input/optiver-realized-volatility-prediction/test.csv')\n",
    "test_df['row_id'] = test_df['stock_id'].astype(str) + '-' + test_df['time_id'].astype(str)\n",
    "print(f\"test_df: {test_df.shape}\")\n",
    "test_df.head()"
   ]
  },
  {
   "cell_type": "markdown",
   "id": "desperate-packet",
   "metadata": {
    "papermill": {
     "duration": 0.050338,
     "end_time": "2021-09-07T15:22:09.874876",
     "exception": false,
     "start_time": "2021-09-07T15:22:09.824538",
     "status": "completed"
    },
    "tags": []
   },
   "source": [
    "### Trade data"
   ]
  },
  {
   "cell_type": "code",
   "execution_count": 14,
   "id": "threatened-sample",
   "metadata": {
    "execution": {
     "iopub.execute_input": "2021-09-07T15:22:09.979350Z",
     "iopub.status.busy": "2021-09-07T15:22:09.978640Z",
     "iopub.status.idle": "2021-09-07T15:22:10.559539Z",
     "shell.execute_reply": "2021-09-07T15:22:10.559007Z",
     "shell.execute_reply.started": "2021-09-07T14:29:05.505199Z"
    },
    "papermill": {
     "duration": 0.634972,
     "end_time": "2021-09-07T15:22:10.559704",
     "exception": false,
     "start_time": "2021-09-07T15:22:09.924732",
     "status": "completed"
    },
    "tags": []
   },
   "outputs": [
    {
     "name": "stderr",
     "output_type": "stream",
     "text": [
      "100%|██████████| 1/1 [00:00<00:00,  2.97it/s]\n"
     ]
    },
    {
     "name": "stdout",
     "output_type": "stream",
     "text": [
      "trade_test_df: (1, 110)\n"
     ]
    },
    {
     "data": {
      "text/html": [
       "<div>\n",
       "<style scoped>\n",
       "    .dataframe tbody tr th:only-of-type {\n",
       "        vertical-align: middle;\n",
       "    }\n",
       "\n",
       "    .dataframe tbody tr th {\n",
       "        vertical-align: top;\n",
       "    }\n",
       "\n",
       "    .dataframe thead th {\n",
       "        text-align: right;\n",
       "    }\n",
       "</style>\n",
       "<table border=\"1\" class=\"dataframe\">\n",
       "  <thead>\n",
       "    <tr style=\"text-align: right;\">\n",
       "      <th></th>\n",
       "      <th>trade_price_mean</th>\n",
       "      <th>trade_price_std</th>\n",
       "      <th>trade_price_sum</th>\n",
       "      <th>trade_size_mean</th>\n",
       "      <th>trade_size_std</th>\n",
       "      <th>trade_size_sum</th>\n",
       "      <th>trade_order_count_mean</th>\n",
       "      <th>trade_order_count_std</th>\n",
       "      <th>trade_order_count_sum</th>\n",
       "      <th>trade_size_order_count_ratio_mean</th>\n",
       "      <th>...</th>\n",
       "      <th>trade_seconds_in_bucket_count_unique_480</th>\n",
       "      <th>trade_log_return_realized_volatility_480</th>\n",
       "      <th>trade_log_return_mean_480</th>\n",
       "      <th>trade_log_return_std_480</th>\n",
       "      <th>trade_log_return_sum_480</th>\n",
       "      <th>trade_price1_historical_volatility_480</th>\n",
       "      <th>trade_price1_mean_480</th>\n",
       "      <th>trade_price1_std_480</th>\n",
       "      <th>trade_price1_sum_480</th>\n",
       "      <th>row_id</th>\n",
       "    </tr>\n",
       "  </thead>\n",
       "  <tbody>\n",
       "    <tr>\n",
       "      <th>0</th>\n",
       "      <td>1.000151</td>\n",
       "      <td>0.000168</td>\n",
       "      <td>3.000452</td>\n",
       "      <td>67</td>\n",
       "      <td>57.157677</td>\n",
       "      <td>201</td>\n",
       "      <td>3.666667</td>\n",
       "      <td>3.05505</td>\n",
       "      <td>11</td>\n",
       "      <td>16.206349</td>\n",
       "      <td>...</td>\n",
       "      <td>NaN</td>\n",
       "      <td>NaN</td>\n",
       "      <td>NaN</td>\n",
       "      <td>NaN</td>\n",
       "      <td>NaN</td>\n",
       "      <td>NaN</td>\n",
       "      <td>NaN</td>\n",
       "      <td>NaN</td>\n",
       "      <td>NaN</td>\n",
       "      <td>0-4</td>\n",
       "    </tr>\n",
       "  </tbody>\n",
       "</table>\n",
       "<p>1 rows × 110 columns</p>\n",
       "</div>"
      ],
      "text/plain": [
       "   trade_price_mean  trade_price_std  trade_price_sum  trade_size_mean  \\\n",
       "0          1.000151         0.000168         3.000452               67   \n",
       "\n",
       "   trade_size_std  trade_size_sum  trade_order_count_mean  \\\n",
       "0       57.157677             201                3.666667   \n",
       "\n",
       "   trade_order_count_std  trade_order_count_sum  \\\n",
       "0                3.05505                     11   \n",
       "\n",
       "   trade_size_order_count_ratio_mean  ...  \\\n",
       "0                          16.206349  ...   \n",
       "\n",
       "   trade_seconds_in_bucket_count_unique_480  \\\n",
       "0                                       NaN   \n",
       "\n",
       "   trade_log_return_realized_volatility_480  trade_log_return_mean_480  \\\n",
       "0                                       NaN                        NaN   \n",
       "\n",
       "   trade_log_return_std_480  trade_log_return_sum_480  \\\n",
       "0                       NaN                       NaN   \n",
       "\n",
       "   trade_price1_historical_volatility_480  trade_price1_mean_480  \\\n",
       "0                                     NaN                    NaN   \n",
       "\n",
       "   trade_price1_std_480  trade_price1_sum_480  row_id  \n",
       "0                   NaN                   NaN     0-4  \n",
       "\n",
       "[1 rows x 110 columns]"
      ]
     },
     "execution_count": 14,
     "metadata": {},
     "output_type": "execute_result"
    }
   ],
   "source": [
    "trade_test_df = process_trade_data('../input/optiver-realized-volatility-prediction/trade_test.parquet/*')\n",
    "print(f\"trade_test_df: {trade_test_df.shape}\")\n",
    "trade_test_df.head()"
   ]
  },
  {
   "cell_type": "code",
   "execution_count": 15,
   "id": "animal-budget",
   "metadata": {
    "execution": {
     "iopub.execute_input": "2021-09-07T15:22:10.672668Z",
     "iopub.status.busy": "2021-09-07T15:22:10.671757Z",
     "iopub.status.idle": "2021-09-07T15:22:10.720054Z",
     "shell.execute_reply": "2021-09-07T15:22:10.720557Z",
     "shell.execute_reply.started": "2021-09-07T14:29:05.949314Z"
    },
    "papermill": {
     "duration": 0.107244,
     "end_time": "2021-09-07T15:22:10.720795",
     "exception": false,
     "start_time": "2021-09-07T15:22:10.613551",
     "status": "completed"
    },
    "tags": []
   },
   "outputs": [
    {
     "name": "stdout",
     "output_type": "stream",
     "text": [
      "test_df: (3, 112)\n"
     ]
    },
    {
     "data": {
      "text/html": [
       "<div>\n",
       "<style scoped>\n",
       "    .dataframe tbody tr th:only-of-type {\n",
       "        vertical-align: middle;\n",
       "    }\n",
       "\n",
       "    .dataframe tbody tr th {\n",
       "        vertical-align: top;\n",
       "    }\n",
       "\n",
       "    .dataframe thead th {\n",
       "        text-align: right;\n",
       "    }\n",
       "</style>\n",
       "<table border=\"1\" class=\"dataframe\">\n",
       "  <thead>\n",
       "    <tr style=\"text-align: right;\">\n",
       "      <th></th>\n",
       "      <th>stock_id</th>\n",
       "      <th>time_id</th>\n",
       "      <th>row_id</th>\n",
       "      <th>trade_price_mean</th>\n",
       "      <th>trade_price_std</th>\n",
       "      <th>trade_price_sum</th>\n",
       "      <th>trade_size_mean</th>\n",
       "      <th>trade_size_std</th>\n",
       "      <th>trade_size_sum</th>\n",
       "      <th>trade_order_count_mean</th>\n",
       "      <th>...</th>\n",
       "      <th>trade_size_order_count_ratio_sum_480</th>\n",
       "      <th>trade_seconds_in_bucket_count_unique_480</th>\n",
       "      <th>trade_log_return_realized_volatility_480</th>\n",
       "      <th>trade_log_return_mean_480</th>\n",
       "      <th>trade_log_return_std_480</th>\n",
       "      <th>trade_log_return_sum_480</th>\n",
       "      <th>trade_price1_historical_volatility_480</th>\n",
       "      <th>trade_price1_mean_480</th>\n",
       "      <th>trade_price1_std_480</th>\n",
       "      <th>trade_price1_sum_480</th>\n",
       "    </tr>\n",
       "  </thead>\n",
       "  <tbody>\n",
       "    <tr>\n",
       "      <th>0</th>\n",
       "      <td>0</td>\n",
       "      <td>4</td>\n",
       "      <td>0-4</td>\n",
       "      <td>1.000151</td>\n",
       "      <td>0.000168</td>\n",
       "      <td>3.000452</td>\n",
       "      <td>67.0</td>\n",
       "      <td>57.157677</td>\n",
       "      <td>201.0</td>\n",
       "      <td>3.666667</td>\n",
       "      <td>...</td>\n",
       "      <td>NaN</td>\n",
       "      <td>NaN</td>\n",
       "      <td>NaN</td>\n",
       "      <td>NaN</td>\n",
       "      <td>NaN</td>\n",
       "      <td>NaN</td>\n",
       "      <td>NaN</td>\n",
       "      <td>NaN</td>\n",
       "      <td>NaN</td>\n",
       "      <td>NaN</td>\n",
       "    </tr>\n",
       "    <tr>\n",
       "      <th>1</th>\n",
       "      <td>0</td>\n",
       "      <td>32</td>\n",
       "      <td>0-32</td>\n",
       "      <td>NaN</td>\n",
       "      <td>NaN</td>\n",
       "      <td>NaN</td>\n",
       "      <td>NaN</td>\n",
       "      <td>NaN</td>\n",
       "      <td>NaN</td>\n",
       "      <td>NaN</td>\n",
       "      <td>...</td>\n",
       "      <td>NaN</td>\n",
       "      <td>NaN</td>\n",
       "      <td>NaN</td>\n",
       "      <td>NaN</td>\n",
       "      <td>NaN</td>\n",
       "      <td>NaN</td>\n",
       "      <td>NaN</td>\n",
       "      <td>NaN</td>\n",
       "      <td>NaN</td>\n",
       "      <td>NaN</td>\n",
       "    </tr>\n",
       "    <tr>\n",
       "      <th>2</th>\n",
       "      <td>0</td>\n",
       "      <td>34</td>\n",
       "      <td>0-34</td>\n",
       "      <td>NaN</td>\n",
       "      <td>NaN</td>\n",
       "      <td>NaN</td>\n",
       "      <td>NaN</td>\n",
       "      <td>NaN</td>\n",
       "      <td>NaN</td>\n",
       "      <td>NaN</td>\n",
       "      <td>...</td>\n",
       "      <td>NaN</td>\n",
       "      <td>NaN</td>\n",
       "      <td>NaN</td>\n",
       "      <td>NaN</td>\n",
       "      <td>NaN</td>\n",
       "      <td>NaN</td>\n",
       "      <td>NaN</td>\n",
       "      <td>NaN</td>\n",
       "      <td>NaN</td>\n",
       "      <td>NaN</td>\n",
       "    </tr>\n",
       "  </tbody>\n",
       "</table>\n",
       "<p>3 rows × 112 columns</p>\n",
       "</div>"
      ],
      "text/plain": [
       "   stock_id  time_id row_id  trade_price_mean  trade_price_std  \\\n",
       "0         0        4    0-4          1.000151         0.000168   \n",
       "1         0       32   0-32               NaN              NaN   \n",
       "2         0       34   0-34               NaN              NaN   \n",
       "\n",
       "   trade_price_sum  trade_size_mean  trade_size_std  trade_size_sum  \\\n",
       "0         3.000452             67.0       57.157677           201.0   \n",
       "1              NaN              NaN             NaN             NaN   \n",
       "2              NaN              NaN             NaN             NaN   \n",
       "\n",
       "   trade_order_count_mean  ...  trade_size_order_count_ratio_sum_480  \\\n",
       "0                3.666667  ...                                   NaN   \n",
       "1                     NaN  ...                                   NaN   \n",
       "2                     NaN  ...                                   NaN   \n",
       "\n",
       "   trade_seconds_in_bucket_count_unique_480  \\\n",
       "0                                       NaN   \n",
       "1                                       NaN   \n",
       "2                                       NaN   \n",
       "\n",
       "   trade_log_return_realized_volatility_480  trade_log_return_mean_480  \\\n",
       "0                                       NaN                        NaN   \n",
       "1                                       NaN                        NaN   \n",
       "2                                       NaN                        NaN   \n",
       "\n",
       "   trade_log_return_std_480  trade_log_return_sum_480  \\\n",
       "0                       NaN                       NaN   \n",
       "1                       NaN                       NaN   \n",
       "2                       NaN                       NaN   \n",
       "\n",
       "   trade_price1_historical_volatility_480  trade_price1_mean_480  \\\n",
       "0                                     NaN                    NaN   \n",
       "1                                     NaN                    NaN   \n",
       "2                                     NaN                    NaN   \n",
       "\n",
       "   trade_price1_std_480  trade_price1_sum_480  \n",
       "0                   NaN                   NaN  \n",
       "1                   NaN                   NaN  \n",
       "2                   NaN                   NaN  \n",
       "\n",
       "[3 rows x 112 columns]"
      ]
     },
     "execution_count": 15,
     "metadata": {},
     "output_type": "execute_result"
    }
   ],
   "source": [
    "test_df = pd.merge(test_df, trade_test_df, \n",
    "                   how='left', on='row_id', \n",
    "                   sort=False)\n",
    "\n",
    "print(f\"test_df: {test_df.shape}\")\n",
    "test_df.head()"
   ]
  },
  {
   "cell_type": "markdown",
   "id": "funky-slide",
   "metadata": {
    "papermill": {
     "duration": 0.053456,
     "end_time": "2021-09-07T15:22:10.829407",
     "exception": false,
     "start_time": "2021-09-07T15:22:10.775951",
     "status": "completed"
    },
    "tags": []
   },
   "source": [
    "### Book data"
   ]
  },
  {
   "cell_type": "code",
   "execution_count": 16,
   "id": "central-november",
   "metadata": {
    "execution": {
     "iopub.execute_input": "2021-09-07T15:22:10.939298Z",
     "iopub.status.busy": "2021-09-07T15:22:10.938685Z",
     "iopub.status.idle": "2021-09-07T15:22:11.363994Z",
     "shell.execute_reply": "2021-09-07T15:22:11.364571Z",
     "shell.execute_reply.started": "2021-09-07T14:29:05.9971Z"
    },
    "papermill": {
     "duration": 0.483015,
     "end_time": "2021-09-07T15:22:11.364761",
     "exception": false,
     "start_time": "2021-09-07T15:22:10.881746",
     "status": "completed"
    },
    "tags": []
   },
   "outputs": [
    {
     "name": "stderr",
     "output_type": "stream",
     "text": [
      "100%|██████████| 1/1 [00:00<00:00,  4.84it/s]\n"
     ]
    },
    {
     "name": "stdout",
     "output_type": "stream",
     "text": [
      "book_test_df: (1, 135)\n"
     ]
    },
    {
     "data": {
      "text/html": [
       "<div>\n",
       "<style scoped>\n",
       "    .dataframe tbody tr th:only-of-type {\n",
       "        vertical-align: middle;\n",
       "    }\n",
       "\n",
       "    .dataframe tbody tr th {\n",
       "        vertical-align: top;\n",
       "    }\n",
       "\n",
       "    .dataframe thead th {\n",
       "        text-align: right;\n",
       "    }\n",
       "</style>\n",
       "<table border=\"1\" class=\"dataframe\">\n",
       "  <thead>\n",
       "    <tr style=\"text-align: right;\">\n",
       "      <th></th>\n",
       "      <th>book_wap1_mean</th>\n",
       "      <th>book_wap1_std</th>\n",
       "      <th>book_wap1_sum</th>\n",
       "      <th>book_log_return1_realized_volatility</th>\n",
       "      <th>book_log_return1_mean</th>\n",
       "      <th>book_log_return1_std</th>\n",
       "      <th>book_log_return1_sum</th>\n",
       "      <th>book_log_return2_realized_volatility</th>\n",
       "      <th>book_log_return2_mean</th>\n",
       "      <th>book_log_return2_std</th>\n",
       "      <th>...</th>\n",
       "      <th>book_log_return3_sum_480</th>\n",
       "      <th>book_log_return4_realized_volatility_480</th>\n",
       "      <th>book_log_return4_mean_480</th>\n",
       "      <th>book_log_return4_std_480</th>\n",
       "      <th>book_log_return4_sum_480</th>\n",
       "      <th>book_waph1_historical_volatility_480</th>\n",
       "      <th>book_waph1_mean_480</th>\n",
       "      <th>book_waph1_std_480</th>\n",
       "      <th>book_waph1_sum_480</th>\n",
       "      <th>row_id</th>\n",
       "    </tr>\n",
       "  </thead>\n",
       "  <tbody>\n",
       "    <tr>\n",
       "      <th>0</th>\n",
       "      <td>1.000405</td>\n",
       "      <td>0.00017</td>\n",
       "      <td>3.001215</td>\n",
       "      <td>0.000294</td>\n",
       "      <td>0.000147</td>\n",
       "      <td>0.000208</td>\n",
       "      <td>0.000294</td>\n",
       "      <td>0.000252</td>\n",
       "      <td>0.000139</td>\n",
       "      <td>0.000159</td>\n",
       "      <td>...</td>\n",
       "      <td>NaN</td>\n",
       "      <td>NaN</td>\n",
       "      <td>NaN</td>\n",
       "      <td>NaN</td>\n",
       "      <td>NaN</td>\n",
       "      <td>NaN</td>\n",
       "      <td>NaN</td>\n",
       "      <td>NaN</td>\n",
       "      <td>NaN</td>\n",
       "      <td>0-4</td>\n",
       "    </tr>\n",
       "  </tbody>\n",
       "</table>\n",
       "<p>1 rows × 135 columns</p>\n",
       "</div>"
      ],
      "text/plain": [
       "   book_wap1_mean  book_wap1_std  book_wap1_sum  \\\n",
       "0        1.000405        0.00017       3.001215   \n",
       "\n",
       "   book_log_return1_realized_volatility  book_log_return1_mean  \\\n",
       "0                              0.000294               0.000147   \n",
       "\n",
       "   book_log_return1_std  book_log_return1_sum  \\\n",
       "0              0.000208              0.000294   \n",
       "\n",
       "   book_log_return2_realized_volatility  book_log_return2_mean  \\\n",
       "0                              0.000252               0.000139   \n",
       "\n",
       "   book_log_return2_std  ...  book_log_return3_sum_480  \\\n",
       "0              0.000159  ...                       NaN   \n",
       "\n",
       "   book_log_return4_realized_volatility_480  book_log_return4_mean_480  \\\n",
       "0                                       NaN                        NaN   \n",
       "\n",
       "   book_log_return4_std_480  book_log_return4_sum_480  \\\n",
       "0                       NaN                       NaN   \n",
       "\n",
       "   book_waph1_historical_volatility_480  book_waph1_mean_480  \\\n",
       "0                                   NaN                  NaN   \n",
       "\n",
       "   book_waph1_std_480  book_waph1_sum_480  row_id  \n",
       "0                 NaN                 NaN     0-4  \n",
       "\n",
       "[1 rows x 135 columns]"
      ]
     },
     "execution_count": 16,
     "metadata": {},
     "output_type": "execute_result"
    }
   ],
   "source": [
    "book_test_df = process_book_data('../input/optiver-realized-volatility-prediction/book_test.parquet/*')\n",
    "print(f\"book_test_df: {book_test_df.shape}\")\n",
    "book_test_df.head()"
   ]
  },
  {
   "cell_type": "code",
   "execution_count": 17,
   "id": "minor-wales",
   "metadata": {
    "execution": {
     "iopub.execute_input": "2021-09-07T15:22:11.490130Z",
     "iopub.status.busy": "2021-09-07T15:22:11.489055Z",
     "iopub.status.idle": "2021-09-07T15:22:11.536545Z",
     "shell.execute_reply": "2021-09-07T15:22:11.537205Z",
     "shell.execute_reply.started": "2021-09-07T14:29:06.330855Z"
    },
    "papermill": {
     "duration": 0.112972,
     "end_time": "2021-09-07T15:22:11.537404",
     "exception": false,
     "start_time": "2021-09-07T15:22:11.424432",
     "status": "completed"
    },
    "tags": []
   },
   "outputs": [
    {
     "name": "stdout",
     "output_type": "stream",
     "text": [
      "test_df: (3, 246)\n"
     ]
    },
    {
     "data": {
      "text/html": [
       "<div>\n",
       "<style scoped>\n",
       "    .dataframe tbody tr th:only-of-type {\n",
       "        vertical-align: middle;\n",
       "    }\n",
       "\n",
       "    .dataframe tbody tr th {\n",
       "        vertical-align: top;\n",
       "    }\n",
       "\n",
       "    .dataframe thead th {\n",
       "        text-align: right;\n",
       "    }\n",
       "</style>\n",
       "<table border=\"1\" class=\"dataframe\">\n",
       "  <thead>\n",
       "    <tr style=\"text-align: right;\">\n",
       "      <th></th>\n",
       "      <th>stock_id</th>\n",
       "      <th>time_id</th>\n",
       "      <th>row_id</th>\n",
       "      <th>trade_price_mean</th>\n",
       "      <th>trade_price_std</th>\n",
       "      <th>trade_price_sum</th>\n",
       "      <th>trade_size_mean</th>\n",
       "      <th>trade_size_std</th>\n",
       "      <th>trade_size_sum</th>\n",
       "      <th>trade_order_count_mean</th>\n",
       "      <th>...</th>\n",
       "      <th>book_log_return3_std_480</th>\n",
       "      <th>book_log_return3_sum_480</th>\n",
       "      <th>book_log_return4_realized_volatility_480</th>\n",
       "      <th>book_log_return4_mean_480</th>\n",
       "      <th>book_log_return4_std_480</th>\n",
       "      <th>book_log_return4_sum_480</th>\n",
       "      <th>book_waph1_historical_volatility_480</th>\n",
       "      <th>book_waph1_mean_480</th>\n",
       "      <th>book_waph1_std_480</th>\n",
       "      <th>book_waph1_sum_480</th>\n",
       "    </tr>\n",
       "  </thead>\n",
       "  <tbody>\n",
       "    <tr>\n",
       "      <th>0</th>\n",
       "      <td>0</td>\n",
       "      <td>4</td>\n",
       "      <td>0-4</td>\n",
       "      <td>1.000151</td>\n",
       "      <td>0.000168</td>\n",
       "      <td>3.000452</td>\n",
       "      <td>67.0</td>\n",
       "      <td>57.157677</td>\n",
       "      <td>201.0</td>\n",
       "      <td>3.666667</td>\n",
       "      <td>...</td>\n",
       "      <td>NaN</td>\n",
       "      <td>NaN</td>\n",
       "      <td>NaN</td>\n",
       "      <td>NaN</td>\n",
       "      <td>NaN</td>\n",
       "      <td>NaN</td>\n",
       "      <td>NaN</td>\n",
       "      <td>NaN</td>\n",
       "      <td>NaN</td>\n",
       "      <td>NaN</td>\n",
       "    </tr>\n",
       "    <tr>\n",
       "      <th>1</th>\n",
       "      <td>0</td>\n",
       "      <td>32</td>\n",
       "      <td>0-32</td>\n",
       "      <td>NaN</td>\n",
       "      <td>NaN</td>\n",
       "      <td>NaN</td>\n",
       "      <td>NaN</td>\n",
       "      <td>NaN</td>\n",
       "      <td>NaN</td>\n",
       "      <td>NaN</td>\n",
       "      <td>...</td>\n",
       "      <td>NaN</td>\n",
       "      <td>NaN</td>\n",
       "      <td>NaN</td>\n",
       "      <td>NaN</td>\n",
       "      <td>NaN</td>\n",
       "      <td>NaN</td>\n",
       "      <td>NaN</td>\n",
       "      <td>NaN</td>\n",
       "      <td>NaN</td>\n",
       "      <td>NaN</td>\n",
       "    </tr>\n",
       "    <tr>\n",
       "      <th>2</th>\n",
       "      <td>0</td>\n",
       "      <td>34</td>\n",
       "      <td>0-34</td>\n",
       "      <td>NaN</td>\n",
       "      <td>NaN</td>\n",
       "      <td>NaN</td>\n",
       "      <td>NaN</td>\n",
       "      <td>NaN</td>\n",
       "      <td>NaN</td>\n",
       "      <td>NaN</td>\n",
       "      <td>...</td>\n",
       "      <td>NaN</td>\n",
       "      <td>NaN</td>\n",
       "      <td>NaN</td>\n",
       "      <td>NaN</td>\n",
       "      <td>NaN</td>\n",
       "      <td>NaN</td>\n",
       "      <td>NaN</td>\n",
       "      <td>NaN</td>\n",
       "      <td>NaN</td>\n",
       "      <td>NaN</td>\n",
       "    </tr>\n",
       "  </tbody>\n",
       "</table>\n",
       "<p>3 rows × 246 columns</p>\n",
       "</div>"
      ],
      "text/plain": [
       "   stock_id  time_id row_id  trade_price_mean  trade_price_std  \\\n",
       "0         0        4    0-4          1.000151         0.000168   \n",
       "1         0       32   0-32               NaN              NaN   \n",
       "2         0       34   0-34               NaN              NaN   \n",
       "\n",
       "   trade_price_sum  trade_size_mean  trade_size_std  trade_size_sum  \\\n",
       "0         3.000452             67.0       57.157677           201.0   \n",
       "1              NaN              NaN             NaN             NaN   \n",
       "2              NaN              NaN             NaN             NaN   \n",
       "\n",
       "   trade_order_count_mean  ...  book_log_return3_std_480  \\\n",
       "0                3.666667  ...                       NaN   \n",
       "1                     NaN  ...                       NaN   \n",
       "2                     NaN  ...                       NaN   \n",
       "\n",
       "   book_log_return3_sum_480  book_log_return4_realized_volatility_480  \\\n",
       "0                       NaN                                       NaN   \n",
       "1                       NaN                                       NaN   \n",
       "2                       NaN                                       NaN   \n",
       "\n",
       "   book_log_return4_mean_480  book_log_return4_std_480  \\\n",
       "0                        NaN                       NaN   \n",
       "1                        NaN                       NaN   \n",
       "2                        NaN                       NaN   \n",
       "\n",
       "   book_log_return4_sum_480  book_waph1_historical_volatility_480  \\\n",
       "0                       NaN                                   NaN   \n",
       "1                       NaN                                   NaN   \n",
       "2                       NaN                                   NaN   \n",
       "\n",
       "   book_waph1_mean_480  book_waph1_std_480  book_waph1_sum_480  \n",
       "0                  NaN                 NaN                 NaN  \n",
       "1                  NaN                 NaN                 NaN  \n",
       "2                  NaN                 NaN                 NaN  \n",
       "\n",
       "[3 rows x 246 columns]"
      ]
     },
     "execution_count": 17,
     "metadata": {},
     "output_type": "execute_result"
    }
   ],
   "source": [
    "test_df = pd.merge(test_df, book_test_df, \n",
    "                   how='left', on='row_id', \n",
    "                   sort=False)\n",
    "\n",
    "print(f\"test_df: {test_df.shape}\")\n",
    "test_df.head()"
   ]
  },
  {
   "cell_type": "markdown",
   "id": "indian-acceptance",
   "metadata": {
    "papermill": {
     "duration": 0.059729,
     "end_time": "2021-09-07T15:22:11.657638",
     "exception": false,
     "start_time": "2021-09-07T15:22:11.597909",
     "status": "completed"
    },
    "tags": []
   },
   "source": [
    "### Group features"
   ]
  },
  {
   "cell_type": "code",
   "execution_count": 18,
   "id": "military-signature",
   "metadata": {
    "execution": {
     "iopub.execute_input": "2021-09-07T15:22:11.784067Z",
     "iopub.status.busy": "2021-09-07T15:22:11.782896Z",
     "iopub.status.idle": "2021-09-07T15:22:11.788852Z",
     "shell.execute_reply": "2021-09-07T15:22:11.788335Z",
     "shell.execute_reply.started": "2021-09-07T14:29:06.375201Z"
    },
    "papermill": {
     "duration": 0.071808,
     "end_time": "2021-09-07T15:22:11.789016",
     "exception": false,
     "start_time": "2021-09-07T15:22:11.717208",
     "status": "completed"
    },
    "tags": []
   },
   "outputs": [
    {
     "data": {
      "text/plain": [
       "25"
      ]
     },
     "execution_count": 18,
     "metadata": {},
     "output_type": "execute_result"
    }
   ],
   "source": [
    "vol_cols = []\n",
    "for col in test_df.columns:\n",
    "    if 'realized_volatility' in col:\n",
    "        vol_cols.append(col)\n",
    "\n",
    "len(vol_cols)"
   ]
  },
  {
   "cell_type": "code",
   "execution_count": 19,
   "id": "alien-progressive",
   "metadata": {
    "execution": {
     "iopub.execute_input": "2021-09-07T15:22:11.913598Z",
     "iopub.status.busy": "2021-09-07T15:22:11.912498Z",
     "iopub.status.idle": "2021-09-07T15:22:12.028486Z",
     "shell.execute_reply": "2021-09-07T15:22:12.027994Z",
     "shell.execute_reply.started": "2021-09-07T14:29:06.383567Z"
    },
    "papermill": {
     "duration": 0.181191,
     "end_time": "2021-09-07T15:22:12.028634",
     "exception": false,
     "start_time": "2021-09-07T15:22:11.847443",
     "status": "completed"
    },
    "tags": []
   },
   "outputs": [
    {
     "data": {
      "text/html": [
       "<div>\n",
       "<style scoped>\n",
       "    .dataframe tbody tr th:only-of-type {\n",
       "        vertical-align: middle;\n",
       "    }\n",
       "\n",
       "    .dataframe tbody tr th {\n",
       "        vertical-align: top;\n",
       "    }\n",
       "\n",
       "    .dataframe thead th {\n",
       "        text-align: right;\n",
       "    }\n",
       "</style>\n",
       "<table border=\"1\" class=\"dataframe\">\n",
       "  <thead>\n",
       "    <tr style=\"text-align: right;\">\n",
       "      <th></th>\n",
       "      <th>stock_id__stock</th>\n",
       "      <th>trade_log_return_realized_volatility_mean_stock</th>\n",
       "      <th>trade_log_return_realized_volatility_std_stock</th>\n",
       "      <th>trade_log_return_realized_volatility_max_stock</th>\n",
       "      <th>trade_log_return_realized_volatility_min_stock</th>\n",
       "      <th>trade_log_return_realized_volatility_sum_stock</th>\n",
       "      <th>trade_log_return_realized_volatility_120_mean_stock</th>\n",
       "      <th>trade_log_return_realized_volatility_120_std_stock</th>\n",
       "      <th>trade_log_return_realized_volatility_120_max_stock</th>\n",
       "      <th>trade_log_return_realized_volatility_120_min_stock</th>\n",
       "      <th>...</th>\n",
       "      <th>book_log_return3_realized_volatility_480_mean_stock</th>\n",
       "      <th>book_log_return3_realized_volatility_480_std_stock</th>\n",
       "      <th>book_log_return3_realized_volatility_480_max_stock</th>\n",
       "      <th>book_log_return3_realized_volatility_480_min_stock</th>\n",
       "      <th>book_log_return3_realized_volatility_480_sum_stock</th>\n",
       "      <th>book_log_return4_realized_volatility_480_mean_stock</th>\n",
       "      <th>book_log_return4_realized_volatility_480_std_stock</th>\n",
       "      <th>book_log_return4_realized_volatility_480_max_stock</th>\n",
       "      <th>book_log_return4_realized_volatility_480_min_stock</th>\n",
       "      <th>book_log_return4_realized_volatility_480_sum_stock</th>\n",
       "    </tr>\n",
       "  </thead>\n",
       "  <tbody>\n",
       "    <tr>\n",
       "      <th>0</th>\n",
       "      <td>0</td>\n",
       "      <td>0.000295</td>\n",
       "      <td>NaN</td>\n",
       "      <td>0.000295</td>\n",
       "      <td>0.000295</td>\n",
       "      <td>0.000295</td>\n",
       "      <td>NaN</td>\n",
       "      <td>NaN</td>\n",
       "      <td>NaN</td>\n",
       "      <td>NaN</td>\n",
       "      <td>...</td>\n",
       "      <td>NaN</td>\n",
       "      <td>NaN</td>\n",
       "      <td>NaN</td>\n",
       "      <td>NaN</td>\n",
       "      <td>0.0</td>\n",
       "      <td>NaN</td>\n",
       "      <td>NaN</td>\n",
       "      <td>NaN</td>\n",
       "      <td>NaN</td>\n",
       "      <td>0.0</td>\n",
       "    </tr>\n",
       "  </tbody>\n",
       "</table>\n",
       "<p>1 rows × 126 columns</p>\n",
       "</div>"
      ],
      "text/plain": [
       "   stock_id__stock  trade_log_return_realized_volatility_mean_stock  \\\n",
       "0                0                                         0.000295   \n",
       "\n",
       "   trade_log_return_realized_volatility_std_stock  \\\n",
       "0                                             NaN   \n",
       "\n",
       "   trade_log_return_realized_volatility_max_stock  \\\n",
       "0                                        0.000295   \n",
       "\n",
       "   trade_log_return_realized_volatility_min_stock  \\\n",
       "0                                        0.000295   \n",
       "\n",
       "   trade_log_return_realized_volatility_sum_stock  \\\n",
       "0                                        0.000295   \n",
       "\n",
       "   trade_log_return_realized_volatility_120_mean_stock  \\\n",
       "0                                                NaN     \n",
       "\n",
       "   trade_log_return_realized_volatility_120_std_stock  \\\n",
       "0                                                NaN    \n",
       "\n",
       "   trade_log_return_realized_volatility_120_max_stock  \\\n",
       "0                                                NaN    \n",
       "\n",
       "   trade_log_return_realized_volatility_120_min_stock  ...  \\\n",
       "0                                                NaN   ...   \n",
       "\n",
       "   book_log_return3_realized_volatility_480_mean_stock  \\\n",
       "0                                                NaN     \n",
       "\n",
       "   book_log_return3_realized_volatility_480_std_stock  \\\n",
       "0                                                NaN    \n",
       "\n",
       "   book_log_return3_realized_volatility_480_max_stock  \\\n",
       "0                                                NaN    \n",
       "\n",
       "   book_log_return3_realized_volatility_480_min_stock  \\\n",
       "0                                                NaN    \n",
       "\n",
       "   book_log_return3_realized_volatility_480_sum_stock  \\\n",
       "0                                                0.0    \n",
       "\n",
       "   book_log_return4_realized_volatility_480_mean_stock  \\\n",
       "0                                                NaN     \n",
       "\n",
       "   book_log_return4_realized_volatility_480_std_stock  \\\n",
       "0                                                NaN    \n",
       "\n",
       "   book_log_return4_realized_volatility_480_max_stock  \\\n",
       "0                                                NaN    \n",
       "\n",
       "   book_log_return4_realized_volatility_480_min_stock  \\\n",
       "0                                                NaN    \n",
       "\n",
       "   book_log_return4_realized_volatility_480_sum_stock  \n",
       "0                                                0.0   \n",
       "\n",
       "[1 rows x 126 columns]"
      ]
     },
     "execution_count": 19,
     "metadata": {},
     "output_type": "execute_result"
    }
   ],
   "source": [
    "df_stock_id = test_df.groupby(['stock_id'])[vol_cols].agg(['mean', 'std', 'max', 'min', 'sum']).reset_index()\n",
    "df_stock_id.columns = ['_'.join(col) for col in df_stock_id.columns]\n",
    "df_stock_id = df_stock_id.add_suffix('_stock')\n",
    "df_stock_id.head()"
   ]
  },
  {
   "cell_type": "code",
   "execution_count": 20,
   "id": "annoying-judgment",
   "metadata": {
    "execution": {
     "iopub.execute_input": "2021-09-07T15:22:12.248983Z",
     "iopub.status.busy": "2021-09-07T15:22:12.246727Z",
     "iopub.status.idle": "2021-09-07T15:22:12.280147Z",
     "shell.execute_reply": "2021-09-07T15:22:12.279525Z",
     "shell.execute_reply.started": "2021-09-07T14:29:06.480707Z"
    },
    "papermill": {
     "duration": 0.194137,
     "end_time": "2021-09-07T15:22:12.280335",
     "exception": false,
     "start_time": "2021-09-07T15:22:12.086198",
     "status": "completed"
    },
    "tags": []
   },
   "outputs": [
    {
     "data": {
      "text/html": [
       "<div>\n",
       "<style scoped>\n",
       "    .dataframe tbody tr th:only-of-type {\n",
       "        vertical-align: middle;\n",
       "    }\n",
       "\n",
       "    .dataframe tbody tr th {\n",
       "        vertical-align: top;\n",
       "    }\n",
       "\n",
       "    .dataframe thead th {\n",
       "        text-align: right;\n",
       "    }\n",
       "</style>\n",
       "<table border=\"1\" class=\"dataframe\">\n",
       "  <thead>\n",
       "    <tr style=\"text-align: right;\">\n",
       "      <th></th>\n",
       "      <th>time_id__time</th>\n",
       "      <th>trade_log_return_realized_volatility_mean_time</th>\n",
       "      <th>trade_log_return_realized_volatility_std_time</th>\n",
       "      <th>trade_log_return_realized_volatility_max_time</th>\n",
       "      <th>trade_log_return_realized_volatility_min_time</th>\n",
       "      <th>trade_log_return_realized_volatility_sum_time</th>\n",
       "      <th>trade_log_return_realized_volatility_120_mean_time</th>\n",
       "      <th>trade_log_return_realized_volatility_120_std_time</th>\n",
       "      <th>trade_log_return_realized_volatility_120_max_time</th>\n",
       "      <th>trade_log_return_realized_volatility_120_min_time</th>\n",
       "      <th>...</th>\n",
       "      <th>book_log_return3_realized_volatility_480_mean_time</th>\n",
       "      <th>book_log_return3_realized_volatility_480_std_time</th>\n",
       "      <th>book_log_return3_realized_volatility_480_max_time</th>\n",
       "      <th>book_log_return3_realized_volatility_480_min_time</th>\n",
       "      <th>book_log_return3_realized_volatility_480_sum_time</th>\n",
       "      <th>book_log_return4_realized_volatility_480_mean_time</th>\n",
       "      <th>book_log_return4_realized_volatility_480_std_time</th>\n",
       "      <th>book_log_return4_realized_volatility_480_max_time</th>\n",
       "      <th>book_log_return4_realized_volatility_480_min_time</th>\n",
       "      <th>book_log_return4_realized_volatility_480_sum_time</th>\n",
       "    </tr>\n",
       "  </thead>\n",
       "  <tbody>\n",
       "    <tr>\n",
       "      <th>0</th>\n",
       "      <td>4</td>\n",
       "      <td>0.000295</td>\n",
       "      <td>NaN</td>\n",
       "      <td>0.000295</td>\n",
       "      <td>0.000295</td>\n",
       "      <td>0.000295</td>\n",
       "      <td>NaN</td>\n",
       "      <td>NaN</td>\n",
       "      <td>NaN</td>\n",
       "      <td>NaN</td>\n",
       "      <td>...</td>\n",
       "      <td>NaN</td>\n",
       "      <td>NaN</td>\n",
       "      <td>NaN</td>\n",
       "      <td>NaN</td>\n",
       "      <td>0.0</td>\n",
       "      <td>NaN</td>\n",
       "      <td>NaN</td>\n",
       "      <td>NaN</td>\n",
       "      <td>NaN</td>\n",
       "      <td>0.0</td>\n",
       "    </tr>\n",
       "    <tr>\n",
       "      <th>1</th>\n",
       "      <td>32</td>\n",
       "      <td>NaN</td>\n",
       "      <td>NaN</td>\n",
       "      <td>NaN</td>\n",
       "      <td>NaN</td>\n",
       "      <td>0.000000</td>\n",
       "      <td>NaN</td>\n",
       "      <td>NaN</td>\n",
       "      <td>NaN</td>\n",
       "      <td>NaN</td>\n",
       "      <td>...</td>\n",
       "      <td>NaN</td>\n",
       "      <td>NaN</td>\n",
       "      <td>NaN</td>\n",
       "      <td>NaN</td>\n",
       "      <td>0.0</td>\n",
       "      <td>NaN</td>\n",
       "      <td>NaN</td>\n",
       "      <td>NaN</td>\n",
       "      <td>NaN</td>\n",
       "      <td>0.0</td>\n",
       "    </tr>\n",
       "    <tr>\n",
       "      <th>2</th>\n",
       "      <td>34</td>\n",
       "      <td>NaN</td>\n",
       "      <td>NaN</td>\n",
       "      <td>NaN</td>\n",
       "      <td>NaN</td>\n",
       "      <td>0.000000</td>\n",
       "      <td>NaN</td>\n",
       "      <td>NaN</td>\n",
       "      <td>NaN</td>\n",
       "      <td>NaN</td>\n",
       "      <td>...</td>\n",
       "      <td>NaN</td>\n",
       "      <td>NaN</td>\n",
       "      <td>NaN</td>\n",
       "      <td>NaN</td>\n",
       "      <td>0.0</td>\n",
       "      <td>NaN</td>\n",
       "      <td>NaN</td>\n",
       "      <td>NaN</td>\n",
       "      <td>NaN</td>\n",
       "      <td>0.0</td>\n",
       "    </tr>\n",
       "  </tbody>\n",
       "</table>\n",
       "<p>3 rows × 126 columns</p>\n",
       "</div>"
      ],
      "text/plain": [
       "   time_id__time  trade_log_return_realized_volatility_mean_time  \\\n",
       "0              4                                        0.000295   \n",
       "1             32                                             NaN   \n",
       "2             34                                             NaN   \n",
       "\n",
       "   trade_log_return_realized_volatility_std_time  \\\n",
       "0                                            NaN   \n",
       "1                                            NaN   \n",
       "2                                            NaN   \n",
       "\n",
       "   trade_log_return_realized_volatility_max_time  \\\n",
       "0                                       0.000295   \n",
       "1                                            NaN   \n",
       "2                                            NaN   \n",
       "\n",
       "   trade_log_return_realized_volatility_min_time  \\\n",
       "0                                       0.000295   \n",
       "1                                            NaN   \n",
       "2                                            NaN   \n",
       "\n",
       "   trade_log_return_realized_volatility_sum_time  \\\n",
       "0                                       0.000295   \n",
       "1                                       0.000000   \n",
       "2                                       0.000000   \n",
       "\n",
       "   trade_log_return_realized_volatility_120_mean_time  \\\n",
       "0                                                NaN    \n",
       "1                                                NaN    \n",
       "2                                                NaN    \n",
       "\n",
       "   trade_log_return_realized_volatility_120_std_time  \\\n",
       "0                                                NaN   \n",
       "1                                                NaN   \n",
       "2                                                NaN   \n",
       "\n",
       "   trade_log_return_realized_volatility_120_max_time  \\\n",
       "0                                                NaN   \n",
       "1                                                NaN   \n",
       "2                                                NaN   \n",
       "\n",
       "   trade_log_return_realized_volatility_120_min_time  ...  \\\n",
       "0                                                NaN  ...   \n",
       "1                                                NaN  ...   \n",
       "2                                                NaN  ...   \n",
       "\n",
       "   book_log_return3_realized_volatility_480_mean_time  \\\n",
       "0                                                NaN    \n",
       "1                                                NaN    \n",
       "2                                                NaN    \n",
       "\n",
       "   book_log_return3_realized_volatility_480_std_time  \\\n",
       "0                                                NaN   \n",
       "1                                                NaN   \n",
       "2                                                NaN   \n",
       "\n",
       "   book_log_return3_realized_volatility_480_max_time  \\\n",
       "0                                                NaN   \n",
       "1                                                NaN   \n",
       "2                                                NaN   \n",
       "\n",
       "   book_log_return3_realized_volatility_480_min_time  \\\n",
       "0                                                NaN   \n",
       "1                                                NaN   \n",
       "2                                                NaN   \n",
       "\n",
       "   book_log_return3_realized_volatility_480_sum_time  \\\n",
       "0                                                0.0   \n",
       "1                                                0.0   \n",
       "2                                                0.0   \n",
       "\n",
       "   book_log_return4_realized_volatility_480_mean_time  \\\n",
       "0                                                NaN    \n",
       "1                                                NaN    \n",
       "2                                                NaN    \n",
       "\n",
       "   book_log_return4_realized_volatility_480_std_time  \\\n",
       "0                                                NaN   \n",
       "1                                                NaN   \n",
       "2                                                NaN   \n",
       "\n",
       "   book_log_return4_realized_volatility_480_max_time  \\\n",
       "0                                                NaN   \n",
       "1                                                NaN   \n",
       "2                                                NaN   \n",
       "\n",
       "   book_log_return4_realized_volatility_480_min_time  \\\n",
       "0                                                NaN   \n",
       "1                                                NaN   \n",
       "2                                                NaN   \n",
       "\n",
       "   book_log_return4_realized_volatility_480_sum_time  \n",
       "0                                                0.0  \n",
       "1                                                0.0  \n",
       "2                                                0.0  \n",
       "\n",
       "[3 rows x 126 columns]"
      ]
     },
     "execution_count": 20,
     "metadata": {},
     "output_type": "execute_result"
    }
   ],
   "source": [
    "df_time_id = test_df.groupby(['time_id'])[vol_cols].agg(['mean', 'std', 'max', 'min', 'sum']).reset_index()\n",
    "df_time_id.columns = ['_'.join(col) for col in df_time_id.columns]\n",
    "df_time_id = df_time_id.add_suffix('_time')\n",
    "df_time_id.head()"
   ]
  },
  {
   "cell_type": "code",
   "execution_count": 21,
   "id": "adaptive-hacker",
   "metadata": {
    "execution": {
     "iopub.execute_input": "2021-09-07T15:22:12.427091Z",
     "iopub.status.busy": "2021-09-07T15:22:12.405630Z",
     "iopub.status.idle": "2021-09-07T15:22:12.638740Z",
     "shell.execute_reply": "2021-09-07T15:22:12.639246Z",
     "shell.execute_reply.started": "2021-09-07T14:29:06.578479Z"
    },
    "papermill": {
     "duration": 0.298543,
     "end_time": "2021-09-07T15:22:12.639425",
     "exception": false,
     "start_time": "2021-09-07T15:22:12.340882",
     "status": "completed"
    },
    "tags": []
   },
   "outputs": [
    {
     "name": "stdout",
     "output_type": "stream",
     "text": [
      "test_df: (3, 496)\n"
     ]
    }
   ],
   "source": [
    "test_df = test_df.merge(df_stock_id, how='left', \n",
    "                          left_on=['stock_id'], \n",
    "                          right_on=['stock_id__stock'])\n",
    "\n",
    "test_df = test_df.merge(df_time_id, how='left', \n",
    "                          left_on=['time_id'], \n",
    "                          right_on=['time_id__time'])\n",
    "\n",
    "test_df.drop(['stock_id__stock', 'time_id__time'], \n",
    "              axis = 1, inplace = True)\n",
    "\n",
    "del df_stock_id, df_time_id\n",
    "gc.collect()\n",
    "\n",
    "print(f\"test_df: {test_df.shape}\")"
   ]
  },
  {
   "cell_type": "code",
   "execution_count": 22,
   "id": "pressed-weekend",
   "metadata": {
    "execution": {
     "iopub.execute_input": "2021-09-07T15:22:12.782693Z",
     "iopub.status.busy": "2021-09-07T15:22:12.781548Z",
     "iopub.status.idle": "2021-09-07T15:22:12.808538Z",
     "shell.execute_reply": "2021-09-07T15:22:12.809371Z",
     "shell.execute_reply.started": "2021-09-07T14:29:06.784083Z"
    },
    "papermill": {
     "duration": 0.111025,
     "end_time": "2021-09-07T15:22:12.809577",
     "exception": false,
     "start_time": "2021-09-07T15:22:12.698552",
     "status": "completed"
    },
    "tags": []
   },
   "outputs": [
    {
     "name": "stdout",
     "output_type": "stream",
     "text": [
      "test_df: (3, 506)\n"
     ]
    },
    {
     "data": {
      "text/html": [
       "<div>\n",
       "<style scoped>\n",
       "    .dataframe tbody tr th:only-of-type {\n",
       "        vertical-align: middle;\n",
       "    }\n",
       "\n",
       "    .dataframe tbody tr th {\n",
       "        vertical-align: top;\n",
       "    }\n",
       "\n",
       "    .dataframe thead th {\n",
       "        text-align: right;\n",
       "    }\n",
       "</style>\n",
       "<table border=\"1\" class=\"dataframe\">\n",
       "  <thead>\n",
       "    <tr style=\"text-align: right;\">\n",
       "      <th></th>\n",
       "      <th>stock_id</th>\n",
       "      <th>time_id</th>\n",
       "      <th>row_id</th>\n",
       "      <th>trade_price_mean</th>\n",
       "      <th>trade_price_std</th>\n",
       "      <th>trade_price_sum</th>\n",
       "      <th>trade_size_mean</th>\n",
       "      <th>trade_size_std</th>\n",
       "      <th>trade_size_sum</th>\n",
       "      <th>trade_order_count_mean</th>\n",
       "      <th>...</th>\n",
       "      <th>size_tau</th>\n",
       "      <th>size_tau_120</th>\n",
       "      <th>size_tau_240</th>\n",
       "      <th>size_tau_360</th>\n",
       "      <th>size_tau_480</th>\n",
       "      <th>size_tau2</th>\n",
       "      <th>size_tau2_120</th>\n",
       "      <th>size_tau2_240</th>\n",
       "      <th>size_tau2_360</th>\n",
       "      <th>size_tau2_480</th>\n",
       "    </tr>\n",
       "  </thead>\n",
       "  <tbody>\n",
       "    <tr>\n",
       "      <th>0</th>\n",
       "      <td>0</td>\n",
       "      <td>4</td>\n",
       "      <td>0-4</td>\n",
       "      <td>1.000151</td>\n",
       "      <td>0.000168</td>\n",
       "      <td>3.000452</td>\n",
       "      <td>67.0</td>\n",
       "      <td>57.157677</td>\n",
       "      <td>201.0</td>\n",
       "      <td>3.666667</td>\n",
       "      <td>...</td>\n",
       "      <td>0.57735</td>\n",
       "      <td>NaN</td>\n",
       "      <td>NaN</td>\n",
       "      <td>NaN</td>\n",
       "      <td>NaN</td>\n",
       "      <td>0.301511</td>\n",
       "      <td>0.26968</td>\n",
       "      <td>0.23355</td>\n",
       "      <td>0.190693</td>\n",
       "      <td>0.13484</td>\n",
       "    </tr>\n",
       "    <tr>\n",
       "      <th>1</th>\n",
       "      <td>0</td>\n",
       "      <td>32</td>\n",
       "      <td>0-32</td>\n",
       "      <td>NaN</td>\n",
       "      <td>NaN</td>\n",
       "      <td>NaN</td>\n",
       "      <td>NaN</td>\n",
       "      <td>NaN</td>\n",
       "      <td>NaN</td>\n",
       "      <td>NaN</td>\n",
       "      <td>...</td>\n",
       "      <td>NaN</td>\n",
       "      <td>NaN</td>\n",
       "      <td>NaN</td>\n",
       "      <td>NaN</td>\n",
       "      <td>NaN</td>\n",
       "      <td>NaN</td>\n",
       "      <td>NaN</td>\n",
       "      <td>NaN</td>\n",
       "      <td>NaN</td>\n",
       "      <td>NaN</td>\n",
       "    </tr>\n",
       "    <tr>\n",
       "      <th>2</th>\n",
       "      <td>0</td>\n",
       "      <td>34</td>\n",
       "      <td>0-34</td>\n",
       "      <td>NaN</td>\n",
       "      <td>NaN</td>\n",
       "      <td>NaN</td>\n",
       "      <td>NaN</td>\n",
       "      <td>NaN</td>\n",
       "      <td>NaN</td>\n",
       "      <td>NaN</td>\n",
       "      <td>...</td>\n",
       "      <td>NaN</td>\n",
       "      <td>NaN</td>\n",
       "      <td>NaN</td>\n",
       "      <td>NaN</td>\n",
       "      <td>NaN</td>\n",
       "      <td>NaN</td>\n",
       "      <td>NaN</td>\n",
       "      <td>NaN</td>\n",
       "      <td>NaN</td>\n",
       "      <td>NaN</td>\n",
       "    </tr>\n",
       "  </tbody>\n",
       "</table>\n",
       "<p>3 rows × 506 columns</p>\n",
       "</div>"
      ],
      "text/plain": [
       "   stock_id  time_id row_id  trade_price_mean  trade_price_std  \\\n",
       "0         0        4    0-4          1.000151         0.000168   \n",
       "1         0       32   0-32               NaN              NaN   \n",
       "2         0       34   0-34               NaN              NaN   \n",
       "\n",
       "   trade_price_sum  trade_size_mean  trade_size_std  trade_size_sum  \\\n",
       "0         3.000452             67.0       57.157677           201.0   \n",
       "1              NaN              NaN             NaN             NaN   \n",
       "2              NaN              NaN             NaN             NaN   \n",
       "\n",
       "   trade_order_count_mean  ...  size_tau  size_tau_120  size_tau_240  \\\n",
       "0                3.666667  ...   0.57735           NaN           NaN   \n",
       "1                     NaN  ...       NaN           NaN           NaN   \n",
       "2                     NaN  ...       NaN           NaN           NaN   \n",
       "\n",
       "   size_tau_360  size_tau_480  size_tau2  size_tau2_120  size_tau2_240  \\\n",
       "0           NaN           NaN   0.301511        0.26968        0.23355   \n",
       "1           NaN           NaN        NaN            NaN            NaN   \n",
       "2           NaN           NaN        NaN            NaN            NaN   \n",
       "\n",
       "   size_tau2_360  size_tau2_480  \n",
       "0       0.190693        0.13484  \n",
       "1            NaN            NaN  \n",
       "2            NaN            NaN  \n",
       "\n",
       "[3 rows x 506 columns]"
      ]
     },
     "execution_count": 22,
     "metadata": {},
     "output_type": "execute_result"
    }
   ],
   "source": [
    "test_df['size_tau'] = np.sqrt(1/test_df['trade_seconds_in_bucket_count_unique'])\n",
    "test_df['size_tau_120'] = np.sqrt(1/test_df['trade_seconds_in_bucket_count_unique_120'])\n",
    "test_df['size_tau_240'] = np.sqrt(1/test_df['trade_seconds_in_bucket_count_unique_240'])\n",
    "test_df['size_tau_360'] = np.sqrt(1/test_df['trade_seconds_in_bucket_count_unique_360'])\n",
    "test_df['size_tau_480'] = np.sqrt(1/test_df['trade_seconds_in_bucket_count_unique_480'])\n",
    "\n",
    "test_df['size_tau2'] = np.sqrt(1/test_df['trade_order_count_sum'])\n",
    "test_df['size_tau2_120'] = np.sqrt(0.8/test_df['trade_order_count_sum'])\n",
    "test_df['size_tau2_240'] = np.sqrt(0.6/test_df['trade_order_count_sum'])\n",
    "test_df['size_tau2_360'] = np.sqrt(0.4/test_df['trade_order_count_sum'])\n",
    "test_df['size_tau2_480'] = np.sqrt(0.2/test_df['trade_order_count_sum'])\n",
    "\n",
    "print(f\"test_df: {test_df.shape}\")\n",
    "test_df.head()"
   ]
  },
  {
   "cell_type": "code",
   "execution_count": 23,
   "id": "reserved-offset",
   "metadata": {
    "execution": {
     "iopub.execute_input": "2021-09-07T15:22:12.938568Z",
     "iopub.status.busy": "2021-09-07T15:22:12.937078Z",
     "iopub.status.idle": "2021-09-07T15:22:12.964018Z",
     "shell.execute_reply": "2021-09-07T15:22:12.963397Z",
     "shell.execute_reply.started": "2021-09-07T14:29:06.830305Z"
    },
    "papermill": {
     "duration": 0.095506,
     "end_time": "2021-09-07T15:22:12.964174",
     "exception": false,
     "start_time": "2021-09-07T15:22:12.868668",
     "status": "completed"
    },
    "tags": []
   },
   "outputs": [
    {
     "name": "stdout",
     "output_type": "stream",
     "text": [
      "test_df: (3, 498)\n"
     ]
    },
    {
     "data": {
      "text/html": [
       "<div>\n",
       "<style scoped>\n",
       "    .dataframe tbody tr th:only-of-type {\n",
       "        vertical-align: middle;\n",
       "    }\n",
       "\n",
       "    .dataframe tbody tr th {\n",
       "        vertical-align: top;\n",
       "    }\n",
       "\n",
       "    .dataframe thead th {\n",
       "        text-align: right;\n",
       "    }\n",
       "</style>\n",
       "<table border=\"1\" class=\"dataframe\">\n",
       "  <thead>\n",
       "    <tr style=\"text-align: right;\">\n",
       "      <th></th>\n",
       "      <th>stock_id</th>\n",
       "      <th>time_id</th>\n",
       "      <th>row_id</th>\n",
       "      <th>trade_price_mean</th>\n",
       "      <th>trade_price_std</th>\n",
       "      <th>trade_price_sum</th>\n",
       "      <th>trade_size_mean</th>\n",
       "      <th>trade_size_std</th>\n",
       "      <th>trade_size_sum</th>\n",
       "      <th>trade_order_count_mean</th>\n",
       "      <th>...</th>\n",
       "      <th>size_tau</th>\n",
       "      <th>size_tau_120</th>\n",
       "      <th>size_tau_240</th>\n",
       "      <th>size_tau_360</th>\n",
       "      <th>size_tau_480</th>\n",
       "      <th>size_tau2</th>\n",
       "      <th>size_tau2_120</th>\n",
       "      <th>size_tau2_240</th>\n",
       "      <th>size_tau2_360</th>\n",
       "      <th>size_tau2_480</th>\n",
       "    </tr>\n",
       "  </thead>\n",
       "  <tbody>\n",
       "    <tr>\n",
       "      <th>0</th>\n",
       "      <td>0</td>\n",
       "      <td>4</td>\n",
       "      <td>0-4</td>\n",
       "      <td>1.000151</td>\n",
       "      <td>0.000168</td>\n",
       "      <td>3.000452</td>\n",
       "      <td>67.0</td>\n",
       "      <td>57.157677</td>\n",
       "      <td>201.0</td>\n",
       "      <td>3.666667</td>\n",
       "      <td>...</td>\n",
       "      <td>0.57735</td>\n",
       "      <td>NaN</td>\n",
       "      <td>NaN</td>\n",
       "      <td>NaN</td>\n",
       "      <td>NaN</td>\n",
       "      <td>0.301511</td>\n",
       "      <td>0.26968</td>\n",
       "      <td>0.23355</td>\n",
       "      <td>0.190693</td>\n",
       "      <td>0.13484</td>\n",
       "    </tr>\n",
       "    <tr>\n",
       "      <th>1</th>\n",
       "      <td>0</td>\n",
       "      <td>32</td>\n",
       "      <td>0-32</td>\n",
       "      <td>NaN</td>\n",
       "      <td>NaN</td>\n",
       "      <td>NaN</td>\n",
       "      <td>NaN</td>\n",
       "      <td>NaN</td>\n",
       "      <td>NaN</td>\n",
       "      <td>NaN</td>\n",
       "      <td>...</td>\n",
       "      <td>NaN</td>\n",
       "      <td>NaN</td>\n",
       "      <td>NaN</td>\n",
       "      <td>NaN</td>\n",
       "      <td>NaN</td>\n",
       "      <td>NaN</td>\n",
       "      <td>NaN</td>\n",
       "      <td>NaN</td>\n",
       "      <td>NaN</td>\n",
       "      <td>NaN</td>\n",
       "    </tr>\n",
       "    <tr>\n",
       "      <th>2</th>\n",
       "      <td>0</td>\n",
       "      <td>34</td>\n",
       "      <td>0-34</td>\n",
       "      <td>NaN</td>\n",
       "      <td>NaN</td>\n",
       "      <td>NaN</td>\n",
       "      <td>NaN</td>\n",
       "      <td>NaN</td>\n",
       "      <td>NaN</td>\n",
       "      <td>NaN</td>\n",
       "      <td>...</td>\n",
       "      <td>NaN</td>\n",
       "      <td>NaN</td>\n",
       "      <td>NaN</td>\n",
       "      <td>NaN</td>\n",
       "      <td>NaN</td>\n",
       "      <td>NaN</td>\n",
       "      <td>NaN</td>\n",
       "      <td>NaN</td>\n",
       "      <td>NaN</td>\n",
       "      <td>NaN</td>\n",
       "    </tr>\n",
       "  </tbody>\n",
       "</table>\n",
       "<p>3 rows × 498 columns</p>\n",
       "</div>"
      ],
      "text/plain": [
       "   stock_id  time_id row_id  trade_price_mean  trade_price_std  \\\n",
       "0         0        4    0-4          1.000151         0.000168   \n",
       "1         0       32   0-32               NaN              NaN   \n",
       "2         0       34   0-34               NaN              NaN   \n",
       "\n",
       "   trade_price_sum  trade_size_mean  trade_size_std  trade_size_sum  \\\n",
       "0         3.000452             67.0       57.157677           201.0   \n",
       "1              NaN              NaN             NaN             NaN   \n",
       "2              NaN              NaN             NaN             NaN   \n",
       "\n",
       "   trade_order_count_mean  ...  size_tau  size_tau_120  size_tau_240  \\\n",
       "0                3.666667  ...   0.57735           NaN           NaN   \n",
       "1                     NaN  ...       NaN           NaN           NaN   \n",
       "2                     NaN  ...       NaN           NaN           NaN   \n",
       "\n",
       "   size_tau_360  size_tau_480  size_tau2  size_tau2_120  size_tau2_240  \\\n",
       "0           NaN           NaN   0.301511        0.26968        0.23355   \n",
       "1           NaN           NaN        NaN            NaN            NaN   \n",
       "2           NaN           NaN        NaN            NaN            NaN   \n",
       "\n",
       "   size_tau2_360  size_tau2_480  \n",
       "0       0.190693        0.13484  \n",
       "1            NaN            NaN  \n",
       "2            NaN            NaN  \n",
       "\n",
       "[3 rows x 498 columns]"
      ]
     },
     "execution_count": 23,
     "metadata": {},
     "output_type": "execute_result"
    }
   ],
   "source": [
    "filter_cols = ['trade_time_id__120', 'trade_time_id__240', 'trade_time_id__360', 'trade_time_id__480', \n",
    "               'book_time_id__120', 'book_time_id__240', 'book_time_id__360', 'book_time_id__480']\n",
    "\n",
    "test_df.drop(filter_cols, axis=1, inplace=True)\n",
    "print(f\"test_df: {test_df.shape}\")\n",
    "test_df.head()"
   ]
  },
  {
   "cell_type": "markdown",
   "id": "remarkable-arkansas",
   "metadata": {
    "papermill": {
     "duration": 0.060752,
     "end_time": "2021-09-07T15:22:13.084798",
     "exception": false,
     "start_time": "2021-09-07T15:22:13.024046",
     "status": "completed"
    },
    "tags": []
   },
   "source": [
    "## Additional features"
   ]
  },
  {
   "cell_type": "code",
   "execution_count": 24,
   "id": "emotional-capital",
   "metadata": {
    "execution": {
     "iopub.execute_input": "2021-09-07T15:22:13.218436Z",
     "iopub.status.busy": "2021-09-07T15:22:13.217718Z",
     "iopub.status.idle": "2021-09-07T15:22:18.095692Z",
     "shell.execute_reply": "2021-09-07T15:22:18.096373Z",
     "shell.execute_reply.started": "2021-09-07T14:29:06.860352Z"
    },
    "papermill": {
     "duration": 4.950891,
     "end_time": "2021-09-07T15:22:18.096551",
     "exception": false,
     "start_time": "2021-09-07T15:22:13.145660",
     "status": "completed"
    },
    "tags": []
   },
   "outputs": [
    {
     "name": "stderr",
     "output_type": "stream",
     "text": [
      "100%|██████████| 7/7 [00:03<00:00,  2.07it/s]\n"
     ]
    }
   ],
   "source": [
    "train_p = pd.read_csv('../input/optiver-realized-volatility-prediction/train.csv')\n",
    "train_p = train_p.pivot(index='time_id', columns='stock_id', values='target')\n",
    "\n",
    "corr = train_p.corr()\n",
    "ids = corr.index\n",
    "\n",
    "kmeans = KMeans(n_clusters=7, random_state=0).fit(corr.values)\n",
    "\n",
    "l = []\n",
    "for n in range(7):\n",
    "    l.append([(x-1) for x in ((ids+1)*(kmeans.labels_ == n)) if x > 0])\n",
    "\n",
    "mat = []\n",
    "matTest = []\n",
    "\n",
    "n = 0\n",
    "for ind in tqdm(l):\n",
    "    newDf = train_df.loc[train_df['stock_id'].isin(ind)]\n",
    "    newDf = newDf.groupby(['time_id']).agg(np.nanmean)\n",
    "    newDf.loc[:,'stock_id'] = str(n)+'c1'\n",
    "    mat.append(newDf)\n",
    "    \n",
    "    newDf = test_df.loc[test_df['stock_id'].isin(ind) ]    \n",
    "    newDf = newDf.groupby(['time_id']).agg(np.nanmean)\n",
    "    newDf.loc[:,'stock_id'] = str(n)+'c1'\n",
    "    matTest.append(newDf)\n",
    "    \n",
    "    n+=1\n",
    "    \n",
    "mat1 = pd.concat(mat).reset_index()\n",
    "mat1.drop(columns=['target'],inplace=True)\n",
    "mat2 = pd.concat(matTest).reset_index()\n",
    "\n",
    "mat2 = pd.concat([mat2, mat1.loc[mat1.time_id==5]])\n",
    "mat1 = mat1.pivot(index='time_id', columns='stock_id')\n",
    "mat1.columns = [\"_\".join(x) for x in mat1.columns.ravel()]\n",
    "mat1.reset_index(inplace=True)\n",
    "\n",
    "mat2 = mat2.pivot(index='time_id', columns='stock_id')\n",
    "mat2.columns = [\"_\".join(x) for x in mat2.columns.ravel()]\n",
    "mat2.reset_index(inplace=True)"
   ]
  },
  {
   "cell_type": "code",
   "execution_count": 25,
   "id": "third-faculty",
   "metadata": {
    "execution": {
     "iopub.execute_input": "2021-09-07T15:22:18.241300Z",
     "iopub.status.busy": "2021-09-07T15:22:18.240129Z",
     "iopub.status.idle": "2021-09-07T15:23:17.838133Z",
     "shell.execute_reply": "2021-09-07T15:23:17.838673Z",
     "shell.execute_reply.started": "2021-09-07T14:29:11.09157Z"
    },
    "papermill": {
     "duration": 59.673726,
     "end_time": "2021-09-07T15:23:17.838854",
     "exception": false,
     "start_time": "2021-09-07T15:22:18.165128",
     "status": "completed"
    },
    "tags": []
   },
   "outputs": [
    {
     "data": {
      "text/plain": [
       "((428932, 549), (3, 548))"
      ]
     },
     "execution_count": 25,
     "metadata": {},
     "output_type": "execute_result"
    }
   ],
   "source": [
    "nnn = [\n",
    "    'time_id',\n",
    "    'trade_size_sum_0c1',\n",
    "    'trade_size_sum_1c1',\n",
    "    'trade_size_sum_3c1',\n",
    "    'trade_size_sum_4c1',\n",
    "    'trade_size_sum_6c1',\n",
    "    'trade_order_count_sum_0c1',\n",
    "    'trade_order_count_sum_1c1',\n",
    "    'trade_order_count_sum_2c1',\n",
    "    'trade_order_count_sum_4c1',\n",
    "    'trade_order_count_sum_6c1',\n",
    "    'trade_log_return_realized_volatility_0c1',\n",
    "    'trade_log_return_realized_volatility_1c1',\n",
    "    'trade_log_return_realized_volatility_3c1',\n",
    "    'trade_log_return_realized_volatility_4c1',\n",
    "    'trade_log_return_realized_volatility_6c1',\n",
    "    'book_log_return1_realized_volatility_0c1',\n",
    "    'book_log_return1_realized_volatility_1c1',\n",
    "    'book_log_return1_realized_volatility_3c1',\n",
    "    'book_log_return1_realized_volatility_4c1',\n",
    "    'book_log_return1_realized_volatility_6c1',\n",
    "    'book_bid_spread_sum_0c1',\n",
    "    'book_bid_spread_sum_1c1',\n",
    "    'book_bid_spread_sum_3c1',\n",
    "    'book_bid_spread_sum_4c1',\n",
    "    'book_bid_spread_sum_6c1',\n",
    "    'book_ask_spread_sum_0c1',\n",
    "    'book_ask_spread_sum_1c1',\n",
    "    'book_ask_spread_sum_3c1',\n",
    "    'book_ask_spread_sum_4c1',\n",
    "    'book_ask_spread_sum_6c1',\n",
    "    'book_total_volume_sum_0c1',\n",
    "    'book_total_volume_sum_1c1',\n",
    "    'book_total_volume_sum_3c1',\n",
    "    'book_total_volume_sum_4c1',\n",
    "    'book_total_volume_sum_6c1',\n",
    "    'book_volume_imbalance_sum_0c1',\n",
    "    'book_volume_imbalance_sum_1c1',\n",
    "    'book_volume_imbalance_sum_3c1',\n",
    "    'book_volume_imbalance_sum_4c1',\n",
    "    'book_volume_imbalance_sum_6c1',\n",
    "    'book_waph1_historical_volatility_0c1',\n",
    "    'book_waph1_historical_volatility_1c1',\n",
    "    'book_waph1_historical_volatility_3c1',\n",
    "    'book_waph1_historical_volatility_4c1',\n",
    "    'book_waph1_historical_volatility_6c1',\n",
    "    'size_tau_0c1',\n",
    "    'size_tau_1c1',\n",
    "    'size_tau_3c1',\n",
    "    'size_tau_4c1',\n",
    "    'size_tau_6c1',\n",
    "]\n",
    "\n",
    "train_df = pd.merge(train_df, mat1[nnn], how='left', on='time_id')\n",
    "test_df = pd.merge(test_df, mat2[nnn], how='left', on='time_id')\n",
    "\n",
    "del mat1, mat2\n",
    "gc.collect()\n",
    "\n",
    "train_df.shape, test_df.shape"
   ]
  },
  {
   "cell_type": "code",
   "execution_count": 26,
   "id": "weekly-firewall",
   "metadata": {
    "execution": {
     "iopub.execute_input": "2021-09-07T15:23:17.973108Z",
     "iopub.status.busy": "2021-09-07T15:23:17.972050Z",
     "iopub.status.idle": "2021-09-07T15:23:20.576785Z",
     "shell.execute_reply": "2021-09-07T15:23:20.577309Z",
     "shell.execute_reply.started": "2021-09-07T14:30:02.997714Z"
    },
    "papermill": {
     "duration": 2.676329,
     "end_time": "2021-09-07T15:23:20.577486",
     "exception": false,
     "start_time": "2021-09-07T15:23:17.901157",
     "status": "completed"
    },
    "tags": []
   },
   "outputs": [],
   "source": [
    "colNames = [col for col in list(train_df.columns) if col not in {\"stock_id\", \"time_id\", \"target\", \"row_id\"}]\n",
    "train_nn = train_df[colNames].copy()\n",
    "test_nn = test_df[colNames].copy()\n",
    "\n",
    "train_nn.replace([np.inf, -np.inf], np.nan, inplace=True)\n",
    "test_nn.replace([np.inf, -np.inf], np.nan, inplace=True)"
   ]
  },
  {
   "cell_type": "markdown",
   "id": "effective-manufacturer",
   "metadata": {
    "papermill": {
     "duration": 0.060781,
     "end_time": "2021-09-07T15:23:20.701987",
     "exception": false,
     "start_time": "2021-09-07T15:23:20.641206",
     "status": "completed"
    },
    "tags": []
   },
   "source": [
    "## Correlation check"
   ]
  },
  {
   "cell_type": "code",
   "execution_count": 27,
   "id": "upset-patrick",
   "metadata": {
    "execution": {
     "iopub.execute_input": "2021-09-07T15:23:20.830828Z",
     "iopub.status.busy": "2021-09-07T15:23:20.829724Z",
     "iopub.status.idle": "2021-09-07T15:23:20.833121Z",
     "shell.execute_reply": "2021-09-07T15:23:20.832609Z",
     "shell.execute_reply.started": "2021-09-07T14:30:05.178236Z"
    },
    "papermill": {
     "duration": 0.069611,
     "end_time": "2021-09-07T15:23:20.833246",
     "exception": false,
     "start_time": "2021-09-07T15:23:20.763635",
     "status": "completed"
    },
    "tags": []
   },
   "outputs": [],
   "source": [
    "# Get highly correlated columns to remove\n",
    "# df = train_df.loc[:, train_df.columns != 'target'].copy()\n",
    "# cor_matrix = df.corr().abs()\n",
    "# upper_tri = cor_matrix.where(np.triu(np.ones(cor_matrix.shape),k=1).astype(np.bool))\n",
    "# to_drop = [column for column in upper_tri.columns if any(upper_tri[column] > 0.95)]\n",
    "# print(f\"Number of columns to drop: {len(to_drop)}\")\n",
    "# select_cols = [col for col in test_df.columns if col not in to_drop]\n",
    "# print(f\"Selected columns: {len(select_cols)}\")\n",
    "# print(select_cols)"
   ]
  },
  {
   "cell_type": "code",
   "execution_count": 28,
   "id": "fossil-cache",
   "metadata": {
    "execution": {
     "iopub.execute_input": "2021-09-07T15:23:20.973708Z",
     "iopub.status.busy": "2021-09-07T15:23:20.966555Z",
     "iopub.status.idle": "2021-09-07T15:23:20.977914Z",
     "shell.execute_reply": "2021-09-07T15:23:20.977457Z",
     "shell.execute_reply.started": "2021-09-07T14:30:05.184247Z"
    },
    "papermill": {
     "duration": 0.083033,
     "end_time": "2021-09-07T15:23:20.978081",
     "exception": false,
     "start_time": "2021-09-07T15:23:20.895048",
     "status": "completed"
    },
    "tags": []
   },
   "outputs": [
    {
     "data": {
      "text/plain": [
       "175"
      ]
     },
     "execution_count": 28,
     "metadata": {},
     "output_type": "execute_result"
    }
   ],
   "source": [
    "select_cols = [\n",
    "    'stock_id', 'time_id', 'row_id', 'trade_price_mean', 'trade_price_std', 'trade_price_sum', 'trade_size_mean', 'trade_size_std', 'trade_size_sum', \n",
    "    'trade_order_count_mean', 'trade_order_count_std', 'trade_order_count_sum', 'trade_size_order_count_ratio_mean', 'trade_size_order_count_ratio_std',\n",
    "    'trade_size_order_count_ratio_sum', 'trade_log_return_realized_volatility', 'trade_log_return_mean', 'trade_log_return_std', 'trade_log_return_sum',\n",
    "    'trade_price1_historical_volatility', 'trade_price1_sum', 'trade_order_count_std_120', 'trade_log_return_mean_120', 'trade_log_return_sum_120',\n",
    "    'trade_price_std_240', 'trade_size_mean_240', 'trade_order_count_std_240', 'trade_log_return_mean_240', 'trade_log_return_sum_240', 'trade_price_std_360',\n",
    "    'trade_size_mean_360', 'trade_size_std_360', 'trade_order_count_mean_360', 'trade_order_count_std_360', 'trade_size_order_count_ratio_std_360',\n",
    "    'trade_log_return_mean_360', 'trade_log_return_sum_360', 'trade_price_std_480', 'trade_size_mean_480', 'trade_size_std_480', 'trade_size_sum_480',\n",
    "    'trade_order_count_mean_480', 'trade_order_count_std_480', 'trade_size_order_count_ratio_mean_480', 'trade_size_order_count_ratio_std_480',\n",
    "    'trade_log_return_realized_volatility_480', 'trade_log_return_mean_480', 'trade_log_return_std_480', 'trade_log_return_sum_480', 'book_wap1_sum',\n",
    "    'book_log_return1_realized_volatility', 'book_log_return1_mean', 'book_log_return3_mean', 'book_log_return4_mean', 'book_wap_balance_mean',\n",
    "    'book_wap_balance_sum', 'book_price_spread1_std', 'book_price_spread2_sum', 'book_bid_spread_mean', 'book_bid_spread_std', 'book_bid_spread_sum',\n",
    "    'book_ask_spread_mean', 'book_ask_spread_std', 'book_ask_spread_sum', 'book_bid_ask_spread1_mean', 'book_bid_ask_spread1_std', 'book_bid_ask_spread2_mean',\n",
    "    'book_bid_ask_spread2_std', 'book_total_volume_mean', 'book_total_volume_std', 'book_volume_imbalance_mean', 'book_log_return1_mean_120',\n",
    "    'book_log_return2_mean_120', 'book_log_return3_mean_120', 'book_log_return4_mean_120', 'book_log_return1_mean_240', 'book_log_return2_mean_240',\n",
    "    'book_log_return3_mean_240', 'book_log_return4_mean_240', 'book_log_return1_mean_360', 'book_log_return2_mean_360', 'book_log_return3_mean_360',\n",
    "    'book_log_return4_mean_360', 'book_log_return1_mean_480', 'book_log_return1_sum_480', 'book_log_return2_mean_480', 'book_log_return2_sum_480', \n",
    "    'book_log_return3_mean_480', 'book_log_return3_sum_480', 'book_log_return4_mean_480', 'book_log_return4_sum_480', 'book_waph1_std_480',\n",
    "    'trade_log_return_realized_volatility_mean_stock', 'trade_log_return_realized_volatility_std_stock', 'trade_log_return_realized_volatility_max_stock',\n",
    "    'trade_log_return_realized_volatility_min_stock', 'trade_log_return_realized_volatility_120_max_stock', 'trade_log_return_realized_volatility_120_min_stock',\n",
    "    'trade_log_return_realized_volatility_240_max_stock', 'trade_log_return_realized_volatility_240_min_stock', \n",
    "    'trade_log_return_realized_volatility_360_max_stock', 'trade_log_return_realized_volatility_360_min_stock', \n",
    "    'trade_log_return_realized_volatility_480_max_stock', 'trade_log_return_realized_volatility_480_min_stock', \n",
    "    'book_log_return1_realized_volatility_mean_stock', 'book_log_return1_realized_volatility_std_stock', 'book_log_return1_realized_volatility_max_stock',\n",
    "    'book_log_return1_realized_volatility_min_stock', 'book_log_return2_realized_volatility_max_stock', 'book_log_return2_realized_volatility_min_stock',\n",
    "    'book_log_return3_realized_volatility_max_stock', 'book_log_return3_realized_volatility_min_stock', 'book_log_return4_realized_volatility_max_stock',\n",
    "    'book_log_return4_realized_volatility_min_stock', 'book_log_return1_realized_volatility_120_max_stock', 'book_log_return2_realized_volatility_120_min_stock',\n",
    "    'book_log_return1_realized_volatility_240_min_stock', 'book_log_return2_realized_volatility_240_min_stock', \n",
    "    'book_log_return3_realized_volatility_240_min_stock', 'book_log_return1_realized_volatility_360_min_stock', \n",
    "    'book_log_return2_realized_volatility_360_min_stock', 'book_log_return3_realized_volatility_360_min_stock', \n",
    "    'book_log_return4_realized_volatility_360_min_stock', 'book_log_return1_realized_volatility_480_max_stock', \n",
    "    'book_log_return1_realized_volatility_480_min_stock', 'book_log_return2_realized_volatility_480_max_stock', \n",
    "    'book_log_return2_realized_volatility_480_min_stock', 'book_log_return3_realized_volatility_480_max_stock', \n",
    "    'book_log_return3_realized_volatility_480_min_stock', 'book_log_return4_realized_volatility_480_max_stock', \n",
    "    'book_log_return4_realized_volatility_480_min_stock', 'trade_log_return_realized_volatility_mean_time', 'trade_log_return_realized_volatility_std_time',\n",
    "    'trade_log_return_realized_volatility_max_time', 'trade_log_return_realized_volatility_min_time', 'trade_log_return_realized_volatility_360_min_time',\n",
    "    'trade_log_return_realized_volatility_480_max_time', 'trade_log_return_realized_volatility_480_min_time', 'book_log_return1_realized_volatility_std_time',\n",
    "    'book_log_return1_realized_volatility_min_time', 'book_log_return2_realized_volatility_480_min_time', 'size_tau', 'size_tau_480', 'size_tau2',\n",
    "    'trade_size_sum_0c1', 'trade_size_sum_1c1', 'trade_size_sum_3c1', 'trade_size_sum_4c1', 'trade_size_sum_6c1', 'trade_order_count_sum_1c1',\n",
    "    'trade_order_count_sum_2c1', 'trade_order_count_sum_4c1', 'trade_order_count_sum_6c1', 'trade_log_return_realized_volatility_1c1', 'book_bid_spread_sum_1c1',\n",
    "    'book_ask_spread_sum_1c1', 'book_total_volume_sum_0c1', 'book_total_volume_sum_1c1', 'book_total_volume_sum_3c1', 'book_total_volume_sum_4c1',\n",
    "    'book_total_volume_sum_6c1', 'book_volume_imbalance_sum_0c1', 'book_volume_imbalance_sum_3c1', 'book_volume_imbalance_sum_4c1',\n",
    "    'book_volume_imbalance_sum_6c1', 'book_waph1_historical_volatility_0c1', 'book_waph1_historical_volatility_1c1', 'book_waph1_historical_volatility_3c1',\n",
    "    'book_waph1_historical_volatility_4c1', 'size_tau_0c1', 'size_tau_1c1', 'size_tau_3c1', 'size_tau_4c1', 'size_tau_6c1', 'target'\n",
    "]\n",
    "\n",
    "len(select_cols)"
   ]
  },
  {
   "cell_type": "code",
   "execution_count": 29,
   "id": "innocent-graduation",
   "metadata": {
    "execution": {
     "iopub.execute_input": "2021-09-07T15:23:21.112588Z",
     "iopub.status.busy": "2021-09-07T15:23:21.111426Z",
     "iopub.status.idle": "2021-09-07T15:23:21.468139Z",
     "shell.execute_reply": "2021-09-07T15:23:21.468619Z",
     "shell.execute_reply.started": "2021-09-07T14:30:05.205567Z"
    },
    "papermill": {
     "duration": 0.428431,
     "end_time": "2021-09-07T15:23:21.468784",
     "exception": false,
     "start_time": "2021-09-07T15:23:21.040353",
     "status": "completed"
    },
    "tags": []
   },
   "outputs": [
    {
     "name": "stdout",
     "output_type": "stream",
     "text": [
      "train_df: (428932, 175) \n",
      "test_df: (3, 174)\n"
     ]
    }
   ],
   "source": [
    "train_df = train_df[select_cols].copy()\n",
    "test_df = test_df[[col for col in select_cols if col!='target']].copy()\n",
    "print(f\"train_df: {train_df.shape} \\ntest_df: {test_df.shape}\")"
   ]
  },
  {
   "cell_type": "markdown",
   "id": "unique-feelings",
   "metadata": {
    "papermill": {
     "duration": 0.061881,
     "end_time": "2021-09-07T15:23:21.594699",
     "exception": false,
     "start_time": "2021-09-07T15:23:21.532818",
     "status": "completed"
    },
    "tags": []
   },
   "source": [
    "## LightGBM"
   ]
  },
  {
   "cell_type": "code",
   "execution_count": 30,
   "id": "optical-syndication",
   "metadata": {
    "execution": {
     "iopub.execute_input": "2021-09-07T15:23:21.734545Z",
     "iopub.status.busy": "2021-09-07T15:23:21.733552Z",
     "iopub.status.idle": "2021-09-07T15:33:49.330901Z",
     "shell.execute_reply": "2021-09-07T15:33:49.330348Z",
     "shell.execute_reply.started": "2021-09-07T14:30:13.722396Z"
    },
    "papermill": {
     "duration": 627.673577,
     "end_time": "2021-09-07T15:33:49.331077",
     "exception": false,
     "start_time": "2021-09-07T15:23:21.657500",
     "status": "completed"
    },
    "tags": []
   },
   "outputs": [
    {
     "name": "stdout",
     "output_type": "stream",
     "text": [
      "Training until validation scores don't improve for 100 rounds\n",
      "[500]\ttraining's rmse: 0.000370751\ttraining's l2: 1.37457e-07\tvalid_1's rmse: 0.00111058\tvalid_1's l2: 1.23338e-06\n",
      "[1000]\ttraining's rmse: 0.000337014\ttraining's l2: 1.13579e-07\tvalid_1's rmse: 0.00107689\tvalid_1's l2: 1.15969e-06\n",
      "[1500]\ttraining's rmse: 0.000313121\ttraining's l2: 9.80446e-08\tvalid_1's rmse: 0.00105898\tvalid_1's l2: 1.12145e-06\n",
      "Did not meet early stopping. Best iteration is:\n",
      "[1500]\ttraining's rmse: 0.000313121\ttraining's l2: 9.80446e-08\tvalid_1's rmse: 0.00105898\tvalid_1's l2: 1.12145e-06\n",
      "\n",
      "Seed-2018 | Fold-0 | OOF Score: 0.19734187785016036\n",
      "\n",
      "Training until validation scores don't improve for 100 rounds\n",
      "[500]\ttraining's rmse: 0.000369831\ttraining's l2: 1.36775e-07\tvalid_1's rmse: 0.00108957\tvalid_1's l2: 1.18717e-06\n",
      "[1000]\ttraining's rmse: 0.000335725\ttraining's l2: 1.12711e-07\tvalid_1's rmse: 0.00105284\tvalid_1's l2: 1.10847e-06\n",
      "[1500]\ttraining's rmse: 0.000312103\ttraining's l2: 9.7408e-08\tvalid_1's rmse: 0.00103605\tvalid_1's l2: 1.0734e-06\n",
      "Did not meet early stopping. Best iteration is:\n",
      "[1500]\ttraining's rmse: 0.000312103\ttraining's l2: 9.7408e-08\tvalid_1's rmse: 0.00103605\tvalid_1's l2: 1.0734e-06\n",
      "\n",
      "Seed-2018 | Fold-1 | OOF Score: 0.19131443464655012\n",
      "\n",
      "Training until validation scores don't improve for 100 rounds\n",
      "[500]\ttraining's rmse: 0.000369932\ttraining's l2: 1.3685e-07\tvalid_1's rmse: 0.00110565\tvalid_1's l2: 1.22246e-06\n",
      "[1000]\ttraining's rmse: 0.000335968\ttraining's l2: 1.12875e-07\tvalid_1's rmse: 0.00107228\tvalid_1's l2: 1.14979e-06\n",
      "[1500]\ttraining's rmse: 0.000312466\ttraining's l2: 9.76349e-08\tvalid_1's rmse: 0.00105335\tvalid_1's l2: 1.10955e-06\n",
      "Did not meet early stopping. Best iteration is:\n",
      "[1500]\ttraining's rmse: 0.000312466\ttraining's l2: 9.76349e-08\tvalid_1's rmse: 0.00105335\tvalid_1's l2: 1.10955e-06\n",
      "\n",
      "Seed-2018 | Fold-2 | OOF Score: 0.19785601463230884\n",
      "\n",
      "Training until validation scores don't improve for 100 rounds\n",
      "[500]\ttraining's rmse: 0.000370061\ttraining's l2: 1.36945e-07\tvalid_1's rmse: 0.00116927\tvalid_1's l2: 1.3672e-06\n",
      "[1000]\ttraining's rmse: 0.000335913\ttraining's l2: 1.12838e-07\tvalid_1's rmse: 0.0011358\tvalid_1's l2: 1.29005e-06\n",
      "[1500]\ttraining's rmse: 0.000312386\ttraining's l2: 9.75852e-08\tvalid_1's rmse: 0.00111819\tvalid_1's l2: 1.25035e-06\n",
      "Did not meet early stopping. Best iteration is:\n",
      "[1500]\ttraining's rmse: 0.000312386\ttraining's l2: 9.75852e-08\tvalid_1's rmse: 0.00111819\tvalid_1's l2: 1.25035e-06\n",
      "\n",
      "Seed-2018 | Fold-3 | OOF Score: 0.19659370963144301\n",
      "\n",
      "Training until validation scores don't improve for 100 rounds\n",
      "[500]\ttraining's rmse: 0.000370334\ttraining's l2: 1.37147e-07\tvalid_1's rmse: 0.00108289\tvalid_1's l2: 1.17264e-06\n",
      "[1000]\ttraining's rmse: 0.000336199\ttraining's l2: 1.1303e-07\tvalid_1's rmse: 0.00104994\tvalid_1's l2: 1.10237e-06\n",
      "[1500]\ttraining's rmse: 0.000312683\ttraining's l2: 9.77709e-08\tvalid_1's rmse: 0.00103168\tvalid_1's l2: 1.06435e-06\n",
      "Did not meet early stopping. Best iteration is:\n",
      "[1500]\ttraining's rmse: 0.000312683\ttraining's l2: 9.77709e-08\tvalid_1's rmse: 0.00103168\tvalid_1's l2: 1.06435e-06\n",
      "\n",
      "Seed-2018 | Fold-4 | OOF Score: 0.20242275352227795\n",
      "\n",
      "\n",
      "Seed: 2018 | Aggregate OOF Score: 0.19710575805654806\n",
      "\n",
      "\n",
      "Aggregate OOF Score: 0.19710575805654806\n"
     ]
    },
    {
     "data": {
      "text/plain": [
       "6"
      ]
     },
     "execution_count": 30,
     "metadata": {},
     "output_type": "execute_result"
    }
   ],
   "source": [
    "FOLD = 5\n",
    "SEEDS = [2018]\n",
    "\n",
    "fet_imp = 0\n",
    "counter = 0\n",
    "oof_score = 0\n",
    "y_pred_meta_lgb = np.zeros((train_df.shape[0], 1))\n",
    "y_pred_final_lgb = 0\n",
    "\n",
    "cat_cols_indices = [train_df.columns.get_loc('stock_id')]\n",
    "features = [col for col in train_df.columns if col not in {\"time_id\", \"target\", \"row_id\"}]\n",
    "Xtrain = train_df[features].copy()\n",
    "Ytrain = train_df['target'].copy()\n",
    "Xtest = test_df[features].copy()\n",
    "\n",
    "for sidx, seed in enumerate(SEEDS):\n",
    "    seed_score = 0\n",
    "    \n",
    "    kfold = KFold(n_splits=FOLD, shuffle=True, random_state=seed)\n",
    "\n",
    "    for idx, (train, val) in enumerate(kfold.split(train_df)):\n",
    "        counter += 1\n",
    "        \n",
    "        train_x, train_y = Xtrain.iloc[train], Ytrain.iloc[train]\n",
    "        val_x, val_y = Xtrain.iloc[val], Ytrain.iloc[val]\n",
    "        sample_weight = 1/np.square(train_y)\n",
    "        \n",
    "        model = LGBMRegressor(\n",
    "            boosting_type='gbdt', \n",
    "            num_leaves=175, \n",
    "            max_depth=9, \n",
    "            learning_rate=0.05, \n",
    "            n_estimators=1500,\n",
    "            objective='regression', \n",
    "            importance_type='gain',\n",
    "            device='gpu',\n",
    "            max_bin=100, \n",
    "            min_child_samples=500, \n",
    "            subsample=0.85, \n",
    "            subsample_freq=5, \n",
    "            colsample_bytree=0.55, \n",
    "            reg_lambda=0.05,\n",
    "            random_state=0,\n",
    "            bagging_seed=0,\n",
    "            feature_fraction_seed=0\n",
    "        )\n",
    "        \n",
    "        model.fit(train_x, train_y, eval_metric='rmse',\n",
    "                  eval_set=[(train_x, train_y), (val_x, val_y)],\n",
    "                  early_stopping_rounds=100, verbose=500,\n",
    "                  categorical_feature=cat_cols_indices,\n",
    "                  sample_weight=sample_weight)\n",
    "\n",
    "        y_pred = model.predict(val_x, num_iteration=model.best_iteration_)\n",
    "        y_pred_meta_lgb[val] += np.array([y_pred]).T\n",
    "        y_pred_final_lgb += model.predict(Xtest, num_iteration=model.best_iteration_)\n",
    "        \n",
    "        score = rmspe(val_y, y_pred)\n",
    "        oof_score += score\n",
    "        seed_score += score\n",
    "        fet_imp += model.feature_importances_\n",
    "        print(\"\\nSeed-{} | Fold-{} | OOF Score: {}\\n\".format(seed, idx, score))\n",
    "        \n",
    "        joblib.dump(model, f'./lgb_model_{idx + 1}C.txt')\n",
    "    \n",
    "    print(\"\\nSeed: {} | Aggregate OOF Score: {}\\n\\n\".format(seed, (seed_score / FOLD)))\n",
    "\n",
    "\n",
    "y_pred_meta_lgb = y_pred_meta_lgb / float(len(SEEDS))\n",
    "y_pred_final_lgb = y_pred_final_lgb / float(counter)\n",
    "fet_imp = fet_imp / float(counter)\n",
    "oof_score /= float(counter)\n",
    "print(\"Aggregate OOF Score: {}\".format(oof_score))\n",
    "\n",
    "del Xtrain, Ytrain, Xtest\n",
    "gc.collect()"
   ]
  },
  {
   "cell_type": "markdown",
   "id": "composed-lambda",
   "metadata": {
    "papermill": {
     "duration": 0.070546,
     "end_time": "2021-09-07T15:33:49.473856",
     "exception": false,
     "start_time": "2021-09-07T15:33:49.403310",
     "status": "completed"
    },
    "tags": []
   },
   "source": [
    "## CatBoost"
   ]
  },
  {
   "cell_type": "code",
   "execution_count": 31,
   "id": "martial-disney",
   "metadata": {
    "execution": {
     "iopub.execute_input": "2021-09-07T15:33:49.669672Z",
     "iopub.status.busy": "2021-09-07T15:33:49.668609Z",
     "iopub.status.idle": "2021-09-07T15:39:01.332133Z",
     "shell.execute_reply": "2021-09-07T15:39:01.331209Z",
     "shell.execute_reply.started": "2021-09-07T14:32:26.868537Z"
    },
    "papermill": {
     "duration": 311.75127,
     "end_time": "2021-09-07T15:39:01.332298",
     "exception": false,
     "start_time": "2021-09-07T15:33:49.581028",
     "status": "completed"
    },
    "tags": []
   },
   "outputs": [
    {
     "name": "stdout",
     "output_type": "stream",
     "text": [
      "0:\tlearn: 0.0011489\ttest: 0.0034532\tbest: 0.0034532 (0)\ttotal: 43.1ms\tremaining: 1m 4s\n",
      "500:\tlearn: 0.0004195\ttest: 0.0011415\tbest: 0.0011415 (500)\ttotal: 13.7s\tremaining: 27.4s\n",
      "1000:\tlearn: 0.0003960\ttest: 0.0010985\tbest: 0.0010985 (1000)\ttotal: 26.3s\tremaining: 13.1s\n",
      "1499:\tlearn: 0.0003823\ttest: 0.0010783\tbest: 0.0010783 (1499)\ttotal: 39.7s\tremaining: 0us\n",
      "bestTest = 0.001078323403\n",
      "bestIteration = 1499\n",
      "\n",
      "Seed-2018 | Fold-0 | OOF Score: 0.20163824760390472\n",
      "\n",
      "0:\tlearn: 0.0011482\ttest: 0.0034479\tbest: 0.0034479 (0)\ttotal: 29.7ms\tremaining: 44.5s\n",
      "500:\tlearn: 0.0004190\ttest: 0.0011224\tbest: 0.0011224 (500)\ttotal: 12.8s\tremaining: 25.6s\n",
      "1000:\tlearn: 0.0003958\ttest: 0.0010796\tbest: 0.0010796 (1000)\ttotal: 26.2s\tremaining: 13.1s\n",
      "1499:\tlearn: 0.0003818\ttest: 0.0010595\tbest: 0.0010595 (1499)\ttotal: 39s\tremaining: 0us\n",
      "bestTest = 0.001059536872\n",
      "bestIteration = 1499\n",
      "\n",
      "Seed-2018 | Fold-1 | OOF Score: 0.19379940723027328\n",
      "\n",
      "0:\tlearn: 0.0011482\ttest: 0.0034853\tbest: 0.0034853 (0)\ttotal: 31.8ms\tremaining: 47.7s\n",
      "500:\tlearn: 0.0004191\ttest: 0.0011405\tbest: 0.0011405 (500)\ttotal: 13.9s\tremaining: 27.6s\n",
      "1000:\tlearn: 0.0003961\ttest: 0.0010972\tbest: 0.0010972 (1000)\ttotal: 26.7s\tremaining: 13.3s\n",
      "1499:\tlearn: 0.0003821\ttest: 0.0010742\tbest: 0.0010742 (1499)\ttotal: 40.4s\tremaining: 0us\n",
      "bestTest = 0.001074247343\n",
      "bestIteration = 1499\n",
      "\n",
      "Seed-2018 | Fold-2 | OOF Score: 0.2032321602346092\n",
      "\n",
      "0:\tlearn: 0.0011480\ttest: 0.0035207\tbest: 0.0035207 (0)\ttotal: 30.4ms\tremaining: 45.6s\n",
      "500:\tlearn: 0.0004188\ttest: 0.0012021\tbest: 0.0012021 (500)\ttotal: 13.7s\tremaining: 27.3s\n",
      "1000:\tlearn: 0.0003960\ttest: 0.0011598\tbest: 0.0011598 (1000)\ttotal: 27.3s\tremaining: 13.6s\n",
      "1499:\tlearn: 0.0003819\ttest: 0.0011361\tbest: 0.0011361 (1497)\ttotal: 39.9s\tremaining: 0us\n",
      "bestTest = 0.00113610139\n",
      "bestIteration = 1497\n",
      "Shrink model to first 1498 iterations.\n",
      "\n",
      "Seed-2018 | Fold-3 | OOF Score: 0.1994697412833706\n",
      "\n",
      "0:\tlearn: 0.0011476\ttest: 0.0034754\tbest: 0.0034754 (0)\ttotal: 29.1ms\tremaining: 43.6s\n",
      "500:\tlearn: 0.0004191\ttest: 0.0011186\tbest: 0.0011186 (500)\ttotal: 14.2s\tremaining: 28.3s\n",
      "1000:\tlearn: 0.0003955\ttest: 0.0010733\tbest: 0.0010733 (1000)\ttotal: 26.8s\tremaining: 13.4s\n",
      "1499:\tlearn: 0.0003816\ttest: 0.0010525\tbest: 0.0010525 (1499)\ttotal: 39.5s\tremaining: 0us\n",
      "bestTest = 0.001052474638\n",
      "bestIteration = 1499\n",
      "\n",
      "Seed-2018 | Fold-4 | OOF Score: 0.20030993830000135\n",
      "\n",
      "\n",
      "Seed: 2018 | Aggregate OOF Score: 0.19968989893043182\n",
      "\n",
      "\n",
      "Aggregate OOF Score: 0.19968989893043182\n"
     ]
    },
    {
     "data": {
      "text/plain": [
       "0"
      ]
     },
     "execution_count": 31,
     "metadata": {},
     "output_type": "execute_result"
    }
   ],
   "source": [
    "FOLD = 5\n",
    "SEEDS = [2018]\n",
    "\n",
    "fet_imp = 0\n",
    "counter = 0\n",
    "oof_score = 0\n",
    "y_pred_meta_cb = np.zeros((train_df.shape[0], 1))\n",
    "y_pred_final_cb = 0\n",
    "\n",
    "cat_cols_indices = [train_df.columns.get_loc('stock_id')]\n",
    "features = [col for col in train_df.columns if col not in {\"time_id\", \"target\", \"row_id\"}]\n",
    "Xtrain = train_df[features].copy()\n",
    "Ytrain = train_df['target'].copy()\n",
    "Xtest = test_df[features].copy()\n",
    "\n",
    "\n",
    "for sidx, seed in enumerate(SEEDS):\n",
    "    seed_score = 0\n",
    "    \n",
    "    kfold = KFold(n_splits=FOLD, shuffle=True, random_state=seed)\n",
    "\n",
    "    for idx, (train, val) in enumerate(kfold.split(train_df)):\n",
    "        counter += 1\n",
    "        \n",
    "        train_x, train_y = Xtrain.iloc[train], Ytrain.iloc[train]\n",
    "        val_x, val_y = Xtrain.iloc[val], Ytrain.iloc[val]\n",
    "        sample_weight = 1/np.square(train_y)\n",
    "        \n",
    "        model = CatBoostRegressor(\n",
    "            objective='RMSE',\n",
    "            eval_metric='RMSE',\n",
    "            num_boost_round=1500,\n",
    "            max_ctr_complexity=15,\n",
    "            od_wait=500, \n",
    "            od_type='Iter',\n",
    "            learning_rate=0.05,\n",
    "            reg_lambda=0.05,\n",
    "            bootstrap_type='Poisson',\n",
    "            use_best_model=True, \n",
    "            subsample=0.8,\n",
    "            grow_policy='Lossguide',\n",
    "            min_data_in_leaf=500, \n",
    "            task_type='GPU',\n",
    "            random_state=0\n",
    "        )\n",
    "\n",
    "        model.fit(train_x, train_y, eval_set=[(val_x, val_y)], \n",
    "                  cat_features=cat_cols_indices, \n",
    "                  sample_weight=sample_weight, \n",
    "                  early_stopping_rounds=100, verbose=500)\n",
    "\n",
    "        y_pred = model.predict(val_x)\n",
    "        y_pred_meta_cb[val] += np.array([y_pred]).T\n",
    "        y_pred_final_cb += model.predict(Xtest)\n",
    "        \n",
    "        score = rmspe(val_y, y_pred)\n",
    "        oof_score += score\n",
    "        seed_score += score\n",
    "        fet_imp += model.feature_importances_\n",
    "        print(\"\\nSeed-{} | Fold-{} | OOF Score: {}\\n\".format(seed, idx, score))\n",
    "        \n",
    "        joblib.dump(model, f'./cb_model_{idx + 1}C.txt')\n",
    "    \n",
    "    print(\"\\nSeed: {} | Aggregate OOF Score: {}\\n\\n\".format(seed, (seed_score / FOLD)))\n",
    "\n",
    "\n",
    "y_pred_meta_cb = y_pred_meta_cb / float(len(SEEDS))\n",
    "y_pred_final_cb = y_pred_final_cb / float(counter)\n",
    "fet_imp = fet_imp / float(counter)\n",
    "oof_score /= float(counter)\n",
    "print(\"Aggregate OOF Score: {}\".format(oof_score))\n",
    "\n",
    "del Xtrain, Ytrain, Xtest\n",
    "gc.collect()"
   ]
  },
  {
   "cell_type": "markdown",
   "id": "colored-thumbnail",
   "metadata": {
    "papermill": {
     "duration": 0.079108,
     "end_time": "2021-09-07T15:39:01.492361",
     "exception": false,
     "start_time": "2021-09-07T15:39:01.413253",
     "status": "completed"
    },
    "tags": []
   },
   "source": [
    "## Deep Neural Model"
   ]
  },
  {
   "cell_type": "code",
   "execution_count": 32,
   "id": "photographic-parish",
   "metadata": {
    "execution": {
     "iopub.execute_input": "2021-09-07T15:39:01.668609Z",
     "iopub.status.busy": "2021-09-07T15:39:01.667759Z",
     "iopub.status.idle": "2021-09-07T15:39:11.384600Z",
     "shell.execute_reply": "2021-09-07T15:39:11.385526Z",
     "shell.execute_reply.started": "2021-09-07T14:34:25.445017Z"
    },
    "papermill": {
     "duration": 9.8138,
     "end_time": "2021-09-07T15:39:11.385773",
     "exception": false,
     "start_time": "2021-09-07T15:39:01.571973",
     "status": "completed"
    },
    "tags": []
   },
   "outputs": [
    {
     "name": "stderr",
     "output_type": "stream",
     "text": [
      "100%|██████████| 5/5 [00:00<00:00, 11875.15it/s]\n",
      "100%|██████████| 5/5 [00:00<00:00, 29873.96it/s]\n",
      "100%|██████████| 5/5 [00:00<00:00, 1435.62it/s]\n",
      "100%|██████████| 765/765 [00:09<00:00, 81.06it/s] \n",
      "100%|██████████| 5/5 [00:00<00:00, 1814.62it/s]\n"
     ]
    }
   ],
   "source": [
    "# Generate kfolds based on the knn++ algorithm\n",
    "out_train = pd.read_csv('../input/optiver-realized-volatility-prediction/train.csv')\n",
    "out_train = out_train.pivot(index='time_id', columns='stock_id', values='target')\n",
    "out_train = out_train.fillna(out_train.mean())\n",
    "\n",
    "nfolds = 5\n",
    "index = []\n",
    "totDist = []\n",
    "values = []\n",
    "\n",
    "scaler = MinMaxScaler(feature_range=(-1, 1))\n",
    "mat = out_train.values\n",
    "mat = scaler.fit_transform(mat)\n",
    "\n",
    "nind = int(mat.shape[0]/nfolds)\n",
    "\n",
    "mat = np.c_[mat, np.arange(mat.shape[0])]\n",
    "lineNumber = np.random.choice(np.array(mat.shape[0]), size=nfolds, replace=False)\n",
    "lineNumber = np.sort(lineNumber)[::-1]\n",
    "\n",
    "for n in tqdm(range(nfolds)):\n",
    "    totDist.append(np.zeros(mat.shape[0]-nfolds))\n",
    "\n",
    "for n in tqdm(range(nfolds)):\n",
    "    values.append([lineNumber[n]])    \n",
    "\n",
    "s=[]\n",
    "for n in tqdm(range(nfolds)):\n",
    "    s.append(mat[lineNumber[n],:])    \n",
    "    mat = np.delete(mat, obj=lineNumber[n], axis=0)\n",
    "\n",
    "for n in tqdm(range(nind-1)):    \n",
    "    luck = np.random.uniform(0,1,nfolds)\n",
    "    \n",
    "    for cycle in range(nfolds):\n",
    "        s[cycle] = np.matlib.repmat(s[cycle], mat.shape[0], 1)\n",
    "        sumDist = np.sum( (mat[:,:-1] - s[cycle][:,:-1])**2 , axis=1)   \n",
    "        totDist[cycle] += sumDist        \n",
    "        \n",
    "        f = totDist[cycle]/np.sum(totDist[cycle])\n",
    "        j = 0\n",
    "        kn = 0\n",
    "        \n",
    "        for val in f:\n",
    "            j += val        \n",
    "            if (j > luck[cycle]):\n",
    "                break\n",
    "            kn +=1\n",
    "        \n",
    "        lineNumber[cycle] = kn\n",
    "        \n",
    "        for n_iter in range(nfolds):    \n",
    "            totDist[n_iter] = np.delete(totDist[n_iter],obj=lineNumber[cycle], axis=0)\n",
    "            j= 0\n",
    "        \n",
    "        s[cycle] = mat[lineNumber[cycle],:]\n",
    "        values[cycle].append(int(mat[lineNumber[cycle],-1]))\n",
    "        mat = np.delete(mat, obj=lineNumber[cycle], axis=0)\n",
    "\n",
    "for n_mod in tqdm(range(nfolds)):\n",
    "    values[n_mod] = out_train.index[values[n_mod]]"
   ]
  },
  {
   "cell_type": "code",
   "execution_count": 33,
   "id": "handmade-acrobat",
   "metadata": {
    "execution": {
     "iopub.execute_input": "2021-09-07T15:39:11.789219Z",
     "iopub.status.busy": "2021-09-07T15:39:11.787871Z",
     "iopub.status.idle": "2021-09-07T15:39:12.003485Z",
     "shell.execute_reply": "2021-09-07T15:39:12.003937Z",
     "shell.execute_reply.started": "2021-09-07T14:34:33.682629Z"
    },
    "papermill": {
     "duration": 0.395239,
     "end_time": "2021-09-07T15:39:12.004141",
     "exception": false,
     "start_time": "2021-09-07T15:39:11.608902",
     "status": "completed"
    },
    "tags": []
   },
   "outputs": [
    {
     "name": "stdout",
     "output_type": "stream",
     "text": [
      "train_nn: (428932, 548) \n",
      "test_nn: (3, 547)\n"
     ]
    },
    {
     "data": {
      "text/plain": [
       "150"
      ]
     },
     "execution_count": 33,
     "metadata": {},
     "output_type": "execute_result"
    }
   ],
   "source": [
    "train_nn[['stock_id','time_id','target']] = train_df[['stock_id','time_id','target']]\n",
    "test_nn[['stock_id','time_id']] = test_df[['stock_id','time_id']]\n",
    "print(f\"train_nn: {train_nn.shape} \\ntest_nn: {test_nn.shape}\")\n",
    "\n",
    "del train_df\n",
    "gc.collect()"
   ]
  },
  {
   "cell_type": "code",
   "execution_count": 34,
   "id": "preceding-contest",
   "metadata": {
    "execution": {
     "iopub.execute_input": "2021-09-07T15:39:12.262118Z",
     "iopub.status.busy": "2021-09-07T15:39:12.261140Z",
     "iopub.status.idle": "2021-09-07T15:39:17.124897Z",
     "shell.execute_reply": "2021-09-07T15:39:17.124261Z",
     "shell.execute_reply.started": "2021-09-07T14:34:33.948989Z"
    },
    "papermill": {
     "duration": 5.002984,
     "end_time": "2021-09-07T15:39:17.125123",
     "exception": false,
     "start_time": "2021-09-07T15:39:12.122139",
     "status": "completed"
    },
    "tags": []
   },
   "outputs": [],
   "source": [
    "# Generate aggregate features\n",
    "train_p = pd.read_csv('../input/optiver-realized-volatility-prediction/train.csv')\n",
    "train_p = train_p.pivot(index='time_id', columns='stock_id', values='target')\n",
    "\n",
    "corr = train_p.corr()\n",
    "ids = corr.index\n",
    "\n",
    "kmeans = KMeans(n_clusters=7, random_state=0).fit(corr.values)\n",
    "\n",
    "l = []\n",
    "for n in range(7):\n",
    "    l.append ( [ (x-1) for x in ( (ids+1)*(kmeans.labels_ == n)) if x > 0] )\n",
    "    \n",
    "mat = []\n",
    "matTest = []\n",
    "\n",
    "n = 0\n",
    "for ind in l:\n",
    "    newDf = train_nn.loc[train_nn['stock_id'].isin(ind) ]\n",
    "    newDf = newDf.groupby(['time_id']).agg(np.nanmean)\n",
    "    newDf.loc[:,'stock_id'] = str(n)+'c1'\n",
    "    mat.append ( newDf )\n",
    "    \n",
    "    newDf = test_nn.loc[test_nn['stock_id'].isin(ind) ]    \n",
    "    newDf = newDf.groupby(['time_id']).agg(np.nanmean)\n",
    "    newDf.loc[:,'stock_id'] = str(n)+'c1'\n",
    "    matTest.append ( newDf )\n",
    "    \n",
    "    n+=1\n",
    "    \n",
    "mat1 = pd.concat(mat).reset_index()\n",
    "mat1.drop(columns=['target'], inplace=True)\n",
    "\n",
    "mat2 = pd.concat(matTest).reset_index()\n",
    "mat2 = pd.concat([mat2, mat1.loc[mat1.time_id==5]])\n",
    "\n",
    "mat1 = mat1.pivot(index='time_id', columns='stock_id')\n",
    "mat1.columns = [\"_\".join(x) for x in mat1.columns.ravel()]\n",
    "mat1.reset_index(inplace=True)\n",
    "\n",
    "mat2 = mat2.pivot(index='time_id', columns='stock_id')\n",
    "mat2.columns = [\"_\".join(x) for x in mat2.columns.ravel()]\n",
    "mat2.reset_index(inplace=True)"
   ]
  },
  {
   "cell_type": "code",
   "execution_count": 35,
   "id": "scientific-abortion",
   "metadata": {
    "execution": {
     "iopub.execute_input": "2021-09-07T15:39:17.358404Z",
     "iopub.status.busy": "2021-09-07T15:39:17.357351Z",
     "iopub.status.idle": "2021-09-07T15:40:24.052445Z",
     "shell.execute_reply": "2021-09-07T15:40:24.051882Z",
     "shell.execute_reply.started": "2021-09-07T14:34:38.109915Z"
    },
    "papermill": {
     "duration": 66.816387,
     "end_time": "2021-09-07T15:40:24.052608",
     "exception": false,
     "start_time": "2021-09-07T15:39:17.236221",
     "status": "completed"
    },
    "tags": []
   },
   "outputs": [
    {
     "name": "stdout",
     "output_type": "stream",
     "text": [
      "train_nn: (428932, 598) \n",
      "test_nn: (3, 597)\n"
     ]
    },
    {
     "data": {
      "text/plain": [
       "0"
      ]
     },
     "execution_count": 35,
     "metadata": {},
     "output_type": "execute_result"
    }
   ],
   "source": [
    "nnn = [\n",
    "    'time_id',\n",
    "    'trade_size_sum_0c1',\n",
    "    'trade_size_sum_1c1',\n",
    "    'trade_size_sum_3c1',\n",
    "    'trade_size_sum_4c1',\n",
    "    'trade_size_sum_6c1',\n",
    "    'trade_order_count_sum_0c1',\n",
    "    'trade_order_count_sum_1c1',\n",
    "    'trade_order_count_sum_2c1',\n",
    "    'trade_order_count_sum_4c1',\n",
    "    'trade_order_count_sum_6c1',\n",
    "    'trade_log_return_realized_volatility_0c1',\n",
    "    'trade_log_return_realized_volatility_1c1',\n",
    "    'trade_log_return_realized_volatility_3c1',\n",
    "    'trade_log_return_realized_volatility_4c1',\n",
    "    'trade_log_return_realized_volatility_6c1',\n",
    "    'book_log_return1_realized_volatility_0c1',\n",
    "    'book_log_return1_realized_volatility_1c1',\n",
    "    'book_log_return1_realized_volatility_3c1',\n",
    "    'book_log_return1_realized_volatility_4c1',\n",
    "    'book_log_return1_realized_volatility_6c1',\n",
    "    'book_bid_spread_sum_0c1',\n",
    "    'book_bid_spread_sum_1c1',\n",
    "    'book_bid_spread_sum_3c1',\n",
    "    'book_bid_spread_sum_4c1',\n",
    "    'book_bid_spread_sum_6c1',\n",
    "    'book_ask_spread_sum_0c1',\n",
    "    'book_ask_spread_sum_1c1',\n",
    "    'book_ask_spread_sum_3c1',\n",
    "    'book_ask_spread_sum_4c1',\n",
    "    'book_ask_spread_sum_6c1',\n",
    "    'book_total_volume_sum_0c1',\n",
    "    'book_total_volume_sum_1c1',\n",
    "    'book_total_volume_sum_3c1',\n",
    "    'book_total_volume_sum_4c1',\n",
    "    'book_total_volume_sum_6c1',\n",
    "    'book_volume_imbalance_sum_0c1',\n",
    "    'book_volume_imbalance_sum_1c1',\n",
    "    'book_volume_imbalance_sum_3c1',\n",
    "    'book_volume_imbalance_sum_4c1',\n",
    "    'book_volume_imbalance_sum_6c1',\n",
    "    'book_waph1_historical_volatility_0c1',\n",
    "    'book_waph1_historical_volatility_1c1',\n",
    "    'book_waph1_historical_volatility_3c1',\n",
    "    'book_waph1_historical_volatility_4c1',\n",
    "    'book_waph1_historical_volatility_6c1',\n",
    "    'size_tau_0c1',\n",
    "    'size_tau_1c1',\n",
    "    'size_tau_3c1',\n",
    "    'size_tau_4c1',\n",
    "    'size_tau_6c1',\n",
    "]\n",
    "\n",
    "train_nn = pd.merge(train_nn, mat1[nnn], how='left', on='time_id')\n",
    "test_nn = pd.merge(test_nn, mat2[nnn], how='left', on='time_id')\n",
    "print(f\"train_nn: {train_nn.shape} \\ntest_nn: {test_nn.shape}\")\n",
    "\n",
    "del mat1,mat2\n",
    "gc.collect()"
   ]
  },
  {
   "cell_type": "code",
   "execution_count": 36,
   "id": "beneficial-consolidation",
   "metadata": {
    "execution": {
     "iopub.execute_input": "2021-09-07T15:40:24.280900Z",
     "iopub.status.busy": "2021-09-07T15:40:24.280230Z",
     "iopub.status.idle": "2021-09-07T15:40:24.283916Z",
     "shell.execute_reply": "2021-09-07T15:40:24.283485Z"
    },
    "papermill": {
     "duration": 0.119348,
     "end_time": "2021-09-07T15:40:24.284073",
     "exception": false,
     "start_time": "2021-09-07T15:40:24.164725",
     "status": "completed"
    },
    "tags": []
   },
   "outputs": [],
   "source": [
    "# Get highly correlated columns to remove\n",
    "# df = train_nn.loc[:, train_nn.columns != 'target'].copy()\n",
    "# cor_matrix = df.corr().abs()\n",
    "# upper_tri = cor_matrix.where(np.triu(np.ones(cor_matrix.shape),k=1).astype(np.bool))\n",
    "# to_drop = [column for column in upper_tri.columns if any(upper_tri[column] > 0.95)]\n",
    "# print(f\"Number of columns to drop: {len(to_drop)}\")\n",
    "# select_cols = [col for col in test_nn.columns if col not in to_drop]\n",
    "# print(f\"Selected columns: {len(select_cols)}\")\n",
    "# print(select_cols)"
   ]
  },
  {
   "cell_type": "code",
   "execution_count": 37,
   "id": "strong-grocery",
   "metadata": {
    "execution": {
     "iopub.execute_input": "2021-09-07T15:40:24.526435Z",
     "iopub.status.busy": "2021-09-07T15:40:24.525514Z",
     "iopub.status.idle": "2021-09-07T15:40:24.530331Z",
     "shell.execute_reply": "2021-09-07T15:40:24.529683Z"
    },
    "papermill": {
     "duration": 0.136098,
     "end_time": "2021-09-07T15:40:24.530458",
     "exception": false,
     "start_time": "2021-09-07T15:40:24.394360",
     "status": "completed"
    },
    "tags": []
   },
   "outputs": [
    {
     "data": {
      "text/plain": [
       "198"
      ]
     },
     "execution_count": 37,
     "metadata": {},
     "output_type": "execute_result"
    }
   ],
   "source": [
    "select_cols = [\n",
    "    'trade_price_mean', 'trade_price_std', 'trade_price_sum', 'trade_size_mean', 'trade_size_std', 'trade_size_sum', 'trade_order_count_mean', 'trade_order_count_std',\n",
    "    'trade_order_count_sum', 'trade_size_order_count_ratio_mean', 'trade_size_order_count_ratio_std', 'trade_log_return_realized_volatility', 'trade_log_return_mean',\n",
    "    'trade_log_return_std', 'trade_log_return_sum', 'trade_price1_historical_volatility', 'trade_price1_sum', 'trade_order_count_std_120', 'trade_log_return_mean_120',\n",
    "    'trade_log_return_sum_120', 'trade_price_std_240', 'trade_order_count_mean_240', 'trade_order_count_std_240', 'trade_log_return_mean_240', \n",
    "    'trade_log_return_sum_240', 'trade_price_std_360', 'trade_size_std_360', 'trade_order_count_mean_360', 'trade_order_count_std_360', \n",
    "    'trade_size_order_count_ratio_std_360', 'trade_log_return_mean_360', 'trade_log_return_sum_360', 'trade_price_std_480', 'trade_size_mean_480', \n",
    "    'trade_size_std_480', 'trade_size_sum_480', 'trade_order_count_mean_480', 'trade_order_count_std_480', 'trade_order_count_sum_480', \n",
    "    'trade_size_order_count_ratio_mean_480', 'trade_size_order_count_ratio_std_480', 'trade_log_return_realized_volatility_480', 'trade_log_return_mean_480', \n",
    "    'trade_log_return_std_480', 'trade_log_return_sum_480', 'book_wap1_sum', 'book_log_return1_realized_volatility', 'book_log_return1_mean', 'book_wap_balance_mean',\n",
    "    'book_wap_balance_sum', 'book_price_spread1_std', 'book_price_spread2_mean', 'book_price_spread2_sum', 'book_bid_spread_mean', 'book_bid_spread_std',\n",
    "    'book_bid_spread_sum', 'book_ask_spread_mean', 'book_ask_spread_std', 'book_ask_spread_sum', 'book_bid_ask_spread1_mean', 'book_bid_ask_spread1_std',\n",
    "    'book_bid_ask_spread1_sum', 'book_bid_ask_spread2_mean', 'book_bid_ask_spread2_std', 'book_bid_ask_spread2_sum', 'book_total_volume_mean', 'book_total_volume_std',\n",
    "    'book_log_return1_mean_120', 'book_log_return3_mean_120', 'book_log_return4_mean_120', 'book_log_return1_mean_240', 'book_log_return2_mean_240',\n",
    "    'book_log_return3_mean_240', 'book_log_return4_mean_240', 'book_log_return1_mean_360', 'book_log_return2_mean_360', 'book_log_return3_mean_360',\n",
    "    'book_log_return4_mean_360', 'book_waph1_std_360', 'book_log_return1_mean_480', 'book_log_return2_mean_480', 'book_log_return3_mean_480',\n",
    "    'book_log_return4_mean_480', 'book_waph1_std_480', 'trade_log_return_realized_volatility_mean_stock', 'trade_log_return_realized_volatility_std_stock',\n",
    "    'trade_log_return_realized_volatility_max_stock', 'trade_log_return_realized_volatility_min_stock', 'trade_log_return_realized_volatility_120_min_stock',\n",
    "    'trade_log_return_realized_volatility_240_min_stock', 'trade_log_return_realized_volatility_360_max_stock', 'trade_log_return_realized_volatility_360_min_stock',\n",
    "    'trade_log_return_realized_volatility_480_max_stock', 'trade_log_return_realized_volatility_480_min_stock', 'book_log_return1_realized_volatility_mean_stock',\n",
    "    'book_log_return1_realized_volatility_std_stock', 'book_log_return1_realized_volatility_max_stock', 'book_log_return1_realized_volatility_min_stock', \n",
    "    'book_log_return2_realized_volatility_max_stock', 'book_log_return2_realized_volatility_min_stock', 'book_log_return3_realized_volatility_min_stock', \n",
    "    'book_log_return4_realized_volatility_max_stock', 'book_log_return4_realized_volatility_min_stock', 'book_log_return2_realized_volatility_120_min_stock',\n",
    "    'book_log_return3_realized_volatility_120_max_stock', 'book_log_return3_realized_volatility_120_min_stock', 'book_log_return4_realized_volatility_120_max_stock',\n",
    "    'book_log_return4_realized_volatility_120_min_stock', 'book_log_return1_realized_volatility_240_min_stock', 'book_log_return3_realized_volatility_240_max_stock',\n",
    "    'book_log_return3_realized_volatility_240_min_stock', 'book_log_return4_realized_volatility_240_max_stock', 'book_log_return4_realized_volatility_240_min_stock',\n",
    "    'book_log_return1_realized_volatility_360_min_stock', 'book_log_return2_realized_volatility_360_min_stock', 'book_log_return3_realized_volatility_360_max_stock',\n",
    "    'book_log_return3_realized_volatility_360_min_stock', 'book_log_return4_realized_volatility_360_min_stock', 'book_log_return1_realized_volatility_480_max_stock',\n",
    "    'book_log_return1_realized_volatility_480_min_stock', 'book_log_return2_realized_volatility_480_max_stock', 'book_log_return2_realized_volatility_480_min_stock', \n",
    "    'book_log_return3_realized_volatility_480_max_stock', 'book_log_return4_realized_volatility_480_max_stock', 'trade_log_return_realized_volatility_mean_time', \n",
    "    'trade_log_return_realized_volatility_std_time', 'trade_log_return_realized_volatility_max_time', 'trade_log_return_realized_volatility_min_time', \n",
    "    'trade_log_return_realized_volatility_120_min_time', 'trade_log_return_realized_volatility_240_min_time', 'trade_log_return_realized_volatility_360_min_time',\n",
    "    'trade_log_return_realized_volatility_480_max_time', 'trade_log_return_realized_volatility_480_min_time', 'book_log_return1_realized_volatility_std_time',\n",
    "    'book_log_return1_realized_volatility_max_time', 'book_log_return1_realized_volatility_min_time', 'book_log_return2_realized_volatility_max_time', \n",
    "    'book_log_return4_realized_volatility_min_time', 'book_log_return2_realized_volatility_360_min_time', 'book_log_return1_realized_volatility_480_max_time',\n",
    "    'book_log_return1_realized_volatility_480_min_time', 'book_log_return2_realized_volatility_480_max_time', 'book_log_return2_realized_volatility_480_min_time',\n",
    "    'book_log_return3_realized_volatility_480_max_time', 'book_log_return4_realized_volatility_480_max_time', 'trade_size_sum_0c1_x', 'trade_size_sum_1c1_x',\n",
    "    'trade_size_sum_3c1_x', 'trade_size_sum_4c1_x', 'trade_size_sum_6c1_x', 'trade_order_count_sum_1c1_x', 'trade_order_count_sum_2c1_x',\n",
    "    'trade_order_count_sum_4c1_x', 'trade_order_count_sum_6c1_x', 'trade_log_return_realized_volatility_1c1_x', 'book_bid_spread_sum_0c1_x',\n",
    "    'book_bid_spread_sum_1c1_x', 'book_ask_spread_sum_1c1_x', 'book_total_volume_sum_0c1_x', 'book_total_volume_sum_1c1_x', 'book_total_volume_sum_3c1_x',\n",
    "    'book_total_volume_sum_4c1_x', 'book_total_volume_sum_6c1_x', 'book_volume_imbalance_sum_0c1_x', 'book_volume_imbalance_sum_1c1_x',\n",
    "    'book_volume_imbalance_sum_3c1_x', 'book_volume_imbalance_sum_4c1_x', 'book_volume_imbalance_sum_6c1_x', 'book_waph1_historical_volatility_0c1_x',\n",
    "    'book_waph1_historical_volatility_1c1_x', 'book_waph1_historical_volatility_3c1_x', 'book_waph1_historical_volatility_4c1_x',\n",
    "    'book_waph1_historical_volatility_6c1_x', 'size_tau_0c1_x', 'size_tau_1c1_x', 'size_tau_3c1_x', 'size_tau_4c1_x', 'size_tau_6c1_x', 'stock_id', 'time_id',\n",
    "    'trade_size_sum_0c1_y', 'trade_size_sum_1c1_y', 'trade_size_sum_4c1_y', 'trade_size_sum_6c1_y', 'trade_order_count_sum_0c1_y',\n",
    "    'trade_order_count_sum_1c1_y', 'trade_order_count_sum_4c1_y', 'book_total_volume_sum_0c1_y', 'book_total_volume_sum_1c1_y', 'book_total_volume_sum_3c1_y',\n",
    "    'book_total_volume_sum_4c1_y', 'book_total_volume_sum_6c1_y', 'book_volume_imbalance_sum_0c1_y', 'book_volume_imbalance_sum_1c1_y',\n",
    "    'book_volume_imbalance_sum_3c1_y', 'book_volume_imbalance_sum_4c1_y', 'book_volume_imbalance_sum_6c1_y', 'target'\n",
    "]\n",
    "\n",
    "len(select_cols)"
   ]
  },
  {
   "cell_type": "code",
   "execution_count": 38,
   "id": "digital-regular",
   "metadata": {
    "execution": {
     "iopub.execute_input": "2021-09-07T15:40:24.762037Z",
     "iopub.status.busy": "2021-09-07T15:40:24.761101Z",
     "iopub.status.idle": "2021-09-07T15:40:51.223774Z",
     "shell.execute_reply": "2021-09-07T15:40:51.224315Z",
     "shell.execute_reply.started": "2021-09-07T14:35:44.524756Z"
    },
    "papermill": {
     "duration": 26.581433,
     "end_time": "2021-09-07T15:40:51.224486",
     "exception": false,
     "start_time": "2021-09-07T15:40:24.643053",
     "status": "completed"
    },
    "tags": []
   },
   "outputs": [
    {
     "name": "stderr",
     "output_type": "stream",
     "text": [
      "100%|██████████| 195/195 [00:26<00:00,  7.37it/s]\n"
     ]
    }
   ],
   "source": [
    "for col in tqdm([col for col in select_cols if col not in {\"stock_id\", \"time_id\", \"target\", \"row_id\"}]):\n",
    "    qt = QuantileTransformer(random_state=21,\n",
    "                             n_quantiles=2000, \n",
    "                             output_distribution='normal')\n",
    "    \n",
    "    train_nn[col] = qt.fit_transform(train_nn[[col]])\n",
    "    test_nn[col] = qt.transform(test_nn[[col]])"
   ]
  },
  {
   "cell_type": "code",
   "execution_count": 39,
   "id": "manufactured-auditor",
   "metadata": {
    "execution": {
     "iopub.execute_input": "2021-09-07T15:40:51.705276Z",
     "iopub.status.busy": "2021-09-07T15:40:51.703569Z",
     "iopub.status.idle": "2021-09-07T15:40:53.439151Z",
     "shell.execute_reply": "2021-09-07T15:40:53.438599Z",
     "shell.execute_reply.started": "2021-09-07T14:37:08.445502Z"
    },
    "papermill": {
     "duration": 2.03977,
     "end_time": "2021-09-07T15:40:53.439294",
     "exception": false,
     "start_time": "2021-09-07T15:40:51.399524",
     "status": "completed"
    },
    "tags": []
   },
   "outputs": [
    {
     "name": "stdout",
     "output_type": "stream",
     "text": [
      "train_nn: (428932, 198) \n",
      "test_nn: (3, 197)\n"
     ]
    }
   ],
   "source": [
    "train_nn = train_nn[select_cols].copy()\n",
    "test_nn = test_nn[[col for col in select_cols if col!='target']].copy()\n",
    "\n",
    "features_to_consider = list(train_nn)\n",
    "features_to_consider.remove('time_id')\n",
    "features_to_consider.remove('target')\n",
    "\n",
    "try:\n",
    "    features_to_consider.remove('pred_NN')\n",
    "except:\n",
    "    pass\n",
    "\n",
    "train_nn[features_to_consider] = train_nn[features_to_consider].fillna(train_nn[features_to_consider].mean())\n",
    "test_nn[features_to_consider] = test_nn[features_to_consider].fillna(train_nn[features_to_consider].mean())\n",
    "print(f\"train_nn: {train_nn.shape} \\ntest_nn: {test_nn.shape}\")"
   ]
  },
  {
   "cell_type": "code",
   "execution_count": 40,
   "id": "widespread-petersburg",
   "metadata": {
    "execution": {
     "iopub.execute_input": "2021-09-07T15:40:53.777142Z",
     "iopub.status.busy": "2021-09-07T15:40:53.776176Z",
     "iopub.status.idle": "2021-09-07T15:40:53.780628Z",
     "shell.execute_reply": "2021-09-07T15:40:53.780089Z",
     "shell.execute_reply.started": "2021-09-07T14:37:15.023556Z"
    },
    "papermill": {
     "duration": 0.175476,
     "end_time": "2021-09-07T15:40:53.780772",
     "exception": false,
     "start_time": "2021-09-07T15:40:53.605296",
     "status": "completed"
    },
    "tags": []
   },
   "outputs": [
    {
     "data": {
      "text/plain": [
       "(1, 195)"
      ]
     },
     "execution_count": 40,
     "metadata": {},
     "output_type": "execute_result"
    }
   ],
   "source": [
    "cat_cols = ['stock_id']\n",
    "num_cols = [col for col in test_nn.columns if not(col in cat_cols or col in {\"time_id\", \"target\", \"row_id\"})]\n",
    "len(cat_cols), len(num_cols)"
   ]
  },
  {
   "cell_type": "code",
   "execution_count": 41,
   "id": "israeli-physiology",
   "metadata": {
    "_kg_hide-output": true,
    "execution": {
     "iopub.execute_input": "2021-09-07T15:40:54.133813Z",
     "iopub.status.busy": "2021-09-07T15:40:54.132908Z",
     "iopub.status.idle": "2021-09-07T15:40:54.136032Z",
     "shell.execute_reply": "2021-09-07T15:40:54.135404Z",
     "shell.execute_reply.started": "2021-09-07T14:37:32.904528Z"
    },
    "papermill": {
     "duration": 0.190945,
     "end_time": "2021-09-07T15:40:54.136150",
     "exception": false,
     "start_time": "2021-09-07T15:40:53.945205",
     "status": "completed"
    },
    "tags": []
   },
   "outputs": [],
   "source": [
    "def dnn_model(data, catcols, numcols):\n",
    "    \n",
    "    num_inp = Input(shape=(numcols,))\n",
    "    \n",
    "    inputs = []\n",
    "    outputs = []\n",
    "    \n",
    "    for c in catcols:\n",
    "        num_unique_values = int(data[c].max())\n",
    "        embed_dim = 25\n",
    "        inp = Input(shape=(1,))\n",
    "        out = Embedding(input_dim=num_unique_values + 1, \n",
    "                        output_dim=embed_dim, \n",
    "                        embeddings_initializer='he_normal', \n",
    "                        name=c)(inp)\n",
    "        out = SpatialDropout1D(rate=0.2)(out)\n",
    "        out = Reshape(target_shape=(embed_dim, ))(out)\n",
    "        inputs.append(inp)\n",
    "        outputs.append(out)\n",
    "    \n",
    "    outputs.append(num_inp)\n",
    "    x = Concatenate()(outputs)\n",
    "    x = BatchNormalization()(x)\n",
    "    \n",
    "    x = Dense(units=512, kernel_initializer='he_normal', \n",
    "              kernel_regularizer=l2(0.0001))(x)\n",
    "    x = BatchNormalization()(x)\n",
    "    x = LeakyReLU()(x)\n",
    "    x = Dropout(rate=0.5)(x)\n",
    "    \n",
    "    x = Dense(units=128, kernel_initializer='he_normal', \n",
    "                kernel_regularizer=l2(0.0001))(x)\n",
    "    x = BatchNormalization()(x)\n",
    "    x = LeakyReLU()(x)\n",
    "    x = Dropout(rate=0.25)(x)\n",
    "\n",
    "    x_output = Dense(units=1, kernel_initializer='he_normal')(x)\n",
    "    \n",
    "    model = Model(inputs=[inputs, num_inp], outputs=x_output, \n",
    "                  name='DNN_Model')\n",
    "    return model"
   ]
  },
  {
   "cell_type": "code",
   "execution_count": 42,
   "id": "judicial-beatles",
   "metadata": {
    "execution": {
     "iopub.execute_input": "2021-09-07T15:40:54.467686Z",
     "iopub.status.busy": "2021-09-07T15:40:54.467075Z",
     "iopub.status.idle": "2021-09-07T15:40:56.757756Z",
     "shell.execute_reply": "2021-09-07T15:40:56.757046Z",
     "shell.execute_reply.started": "2021-09-07T14:37:33.081305Z"
    },
    "papermill": {
     "duration": 2.459066,
     "end_time": "2021-09-07T15:40:56.757887",
     "exception": false,
     "start_time": "2021-09-07T15:40:54.298821",
     "status": "completed"
    },
    "tags": []
   },
   "outputs": [
    {
     "name": "stdout",
     "output_type": "stream",
     "text": [
      "Model: \"DNN_Model\"\n",
      "__________________________________________________________________________________________________\n",
      "Layer (type)                    Output Shape         Param #     Connected to                     \n",
      "==================================================================================================\n",
      "input_2 (InputLayer)            [(None, 1)]          0                                            \n",
      "__________________________________________________________________________________________________\n",
      "stock_id (Embedding)            (None, 1, 25)        3175        input_2[0][0]                    \n",
      "__________________________________________________________________________________________________\n",
      "spatial_dropout1d (SpatialDropo (None, 1, 25)        0           stock_id[0][0]                   \n",
      "__________________________________________________________________________________________________\n",
      "reshape (Reshape)               (None, 25)           0           spatial_dropout1d[0][0]          \n",
      "__________________________________________________________________________________________________\n",
      "input_1 (InputLayer)            [(None, 195)]        0                                            \n",
      "__________________________________________________________________________________________________\n",
      "concatenate (Concatenate)       (None, 220)          0           reshape[0][0]                    \n",
      "                                                                 input_1[0][0]                    \n",
      "__________________________________________________________________________________________________\n",
      "batch_normalization (BatchNorma (None, 220)          880         concatenate[0][0]                \n",
      "__________________________________________________________________________________________________\n",
      "dense (Dense)                   (None, 512)          113152      batch_normalization[0][0]        \n",
      "__________________________________________________________________________________________________\n",
      "batch_normalization_1 (BatchNor (None, 512)          2048        dense[0][0]                      \n",
      "__________________________________________________________________________________________________\n",
      "leaky_re_lu (LeakyReLU)         (None, 512)          0           batch_normalization_1[0][0]      \n",
      "__________________________________________________________________________________________________\n",
      "dropout (Dropout)               (None, 512)          0           leaky_re_lu[0][0]                \n",
      "__________________________________________________________________________________________________\n",
      "dense_1 (Dense)                 (None, 128)          65664       dropout[0][0]                    \n",
      "__________________________________________________________________________________________________\n",
      "batch_normalization_2 (BatchNor (None, 128)          512         dense_1[0][0]                    \n",
      "__________________________________________________________________________________________________\n",
      "leaky_re_lu_1 (LeakyReLU)       (None, 128)          0           batch_normalization_2[0][0]      \n",
      "__________________________________________________________________________________________________\n",
      "dropout_1 (Dropout)             (None, 128)          0           leaky_re_lu_1[0][0]              \n",
      "__________________________________________________________________________________________________\n",
      "dense_2 (Dense)                 (None, 1)            129         dropout_1[0][0]                  \n",
      "==================================================================================================\n",
      "Total params: 185,560\n",
      "Trainable params: 183,840\n",
      "Non-trainable params: 1,720\n",
      "__________________________________________________________________________________________________\n"
     ]
    }
   ],
   "source": [
    "model = dnn_model(train_nn, cat_cols, len(num_cols))\n",
    "model.summary()"
   ]
  },
  {
   "cell_type": "code",
   "execution_count": 43,
   "id": "unauthorized-letters",
   "metadata": {
    "execution": {
     "iopub.execute_input": "2021-09-07T15:40:57.092072Z",
     "iopub.status.busy": "2021-09-07T15:40:57.091195Z",
     "iopub.status.idle": "2021-09-07T15:40:57.824532Z",
     "shell.execute_reply": "2021-09-07T15:40:57.825039Z"
    },
    "papermill": {
     "duration": 0.907357,
     "end_time": "2021-09-07T15:40:57.825191",
     "exception": false,
     "start_time": "2021-09-07T15:40:56.917834",
     "status": "completed"
    },
    "tags": []
   },
   "outputs": [
    {
     "data": {
      "image/png": "[encoded data removed]",
      "text/plain": [
       "<IPython.core.display.Image object>"
      ]
     },
     "execution_count": 43,
     "metadata": {},
     "output_type": "execute_result"
    }
   ],
   "source": [
    "plot_model(\n",
    "    model, to_file='./Deep_Neural_Model.png', \n",
    "    show_shapes=True, show_layer_names=True\n",
    ")"
   ]
  },
  {
   "cell_type": "code",
   "execution_count": 44,
   "id": "referenced-seventh",
   "metadata": {
    "execution": {
     "iopub.execute_input": "2021-09-07T15:40:58.394435Z",
     "iopub.status.busy": "2021-09-07T15:40:58.276948Z",
     "iopub.status.idle": "2021-09-07T15:57:52.105947Z",
     "shell.execute_reply": "2021-09-07T15:57:52.106520Z",
     "shell.execute_reply.started": "2021-09-07T14:38:08.321399Z"
    },
    "papermill": {
     "duration": 1014.11172,
     "end_time": "2021-09-07T15:57:52.106757",
     "exception": false,
     "start_time": "2021-09-07T15:40:57.995037",
     "status": "completed"
    },
    "tags": []
   },
   "outputs": [
    {
     "name": "stdout",
     "output_type": "stream",
     "text": [
      "CV 1/5\n",
      "Fold: 1 [NN] - OOF RMSPE: 0.2214\n",
      "CV 2/5\n",
      "Fold: 2 [NN] - OOF RMSPE: 0.21372\n",
      "CV 3/5\n",
      "Fold: 3 [NN] - OOF RMSPE: 0.22322\n",
      "CV 4/5\n",
      "Fold: 4 [NN] - OOF RMSPE: 0.2134\n",
      "CV 5/5\n",
      "Fold: 5 [NN] - OOF RMSPE: 0.21902\n"
     ]
    }
   ],
   "source": [
    "target_name='target'\n",
    "scores_folds = {}\n",
    "model_name = 'NN'\n",
    "pred_name = 'pred_{}'.format(model_name)\n",
    "cat_data = train_nn['stock_id']\n",
    "VERBOSE = 0\n",
    "\n",
    "n_folds = 5\n",
    "kf = KFold(n_splits=n_folds, shuffle=True, random_state=2018)\n",
    "scores_folds[model_name] = []\n",
    "counter = 1\n",
    "\n",
    "features_to_consider = list(train_nn)\n",
    "features_to_consider.remove('time_id')\n",
    "features_to_consider.remove('target')\n",
    "\n",
    "try:\n",
    "    features_to_consider.remove('pred_NN')\n",
    "except:\n",
    "    pass\n",
    "\n",
    "train_nn[features_to_consider] = train_nn[features_to_consider].fillna(train_nn[features_to_consider].mean())\n",
    "test_nn[features_to_consider] = test_nn[features_to_consider].fillna(train_nn[features_to_consider].mean())\n",
    "\n",
    "train_nn[pred_name] = 0\n",
    "test_nn[target_name] = 0\n",
    "test_predictions_nn = np.zeros(test_nn.shape[0])\n",
    "y_pred_meta_dnn = np.zeros((train_nn.shape[0], 1))\n",
    "y_pred_meta_dnn = pd.DataFrame(y_pred_meta_dnn, columns=['target'])\n",
    "\n",
    "for n_count in range(n_folds):\n",
    "    print(f'CV {counter}/{n_folds}')\n",
    "    \n",
    "    indexes = np.arange(nfolds).astype(int)    \n",
    "    indexes = np.delete(indexes,obj=n_count, axis=0) \n",
    "    indexes = np.r_[values[indexes[0]],values[indexes[1]],values[indexes[2]],values[indexes[3]]]\n",
    "    \n",
    "    X_train = train_nn.loc[train_nn.time_id.isin(indexes), features_to_consider]\n",
    "    y_train = train_nn.loc[train_nn.time_id.isin(indexes), target_name]\n",
    "    X_test = train_nn.loc[train_nn.time_id.isin(values[n_count]), features_to_consider]\n",
    "    y_test = train_nn.loc[train_nn.time_id.isin(values[n_count]), target_name]\n",
    "    \n",
    "    \n",
    "    model = dnn_model(train_nn, cat_cols, len(num_cols))\n",
    "    model.compile(loss=rmspe_loss, optimizer=Adamax(lr=1e-2))\n",
    "    \n",
    "    try:\n",
    "        features_to_consider.remove('stock_id')\n",
    "    except:\n",
    "        pass\n",
    "    \n",
    "    scaler = MinMaxScaler(feature_range=(-1, 1))\n",
    "    num_data = X_train[features_to_consider]\n",
    "    num_data = scaler.fit_transform(num_data.values)    \n",
    "    \n",
    "    cat_data = X_train['stock_id']    \n",
    "    target =  y_train\n",
    "    \n",
    "    num_data_test = X_test[features_to_consider]\n",
    "    num_data_test = scaler.transform(num_data_test.values)\n",
    "    cat_data_test = X_test['stock_id']\n",
    "    \n",
    "    es = tf.keras.callbacks.EarlyStopping(\n",
    "        monitor='val_loss', patience=20, verbose=VERBOSE,\n",
    "        mode='min', restore_best_weights=True)\n",
    "\n",
    "    plateau = tf.keras.callbacks.ReduceLROnPlateau(\n",
    "        monitor='val_loss', factor=0.2, patience=7, \n",
    "        verbose=VERBOSE, mode='min')\n",
    "    \n",
    "    chkpoint = tf.keras.callbacks.ModelCheckpoint(\n",
    "        f'./dnn_model_{counter}C.h5', \n",
    "        monitor='val_loss', verbose=VERBOSE, \n",
    "        save_best_only=True, mode='min')\n",
    "\n",
    "    model.fit([cat_data, num_data], \n",
    "              target,               \n",
    "              batch_size=2048,\n",
    "              epochs=200,\n",
    "              validation_data=([cat_data_test, num_data_test], y_test),\n",
    "              callbacks=[es, plateau, chkpoint],\n",
    "              validation_batch_size=len(y_test),\n",
    "              shuffle=True,\n",
    "              verbose=VERBOSE)\n",
    "\n",
    "    preds = model.predict([cat_data_test, num_data_test]).reshape(1,-1)[0]\n",
    "    y_pred_meta_dnn.loc[train_nn.time_id.isin(values[n_count]), 'target'] = preds\n",
    "    \n",
    "    score = round(rmspe(y_true = y_test, y_pred = preds), 5)\n",
    "    print(f'Fold: {counter} [{model_name}] - OOF RMSPE: {score}')\n",
    "    scores_folds[model_name].append(score)\n",
    "    \n",
    "    tt = scaler.transform(test_nn[features_to_consider].values)\n",
    "    test_predictions_nn += model.predict([test_nn['stock_id'], tt]).reshape(1,-1)[0].clip(0,1e10) / n_folds\n",
    "       \n",
    "    counter += 1\n",
    "    features_to_consider.append('stock_id')"
   ]
  },
  {
   "cell_type": "markdown",
   "id": "boolean-difficulty",
   "metadata": {
    "papermill": {
     "duration": 0.174348,
     "end_time": "2021-09-07T15:57:52.458147",
     "exception": false,
     "start_time": "2021-09-07T15:57:52.283799",
     "status": "completed"
    },
    "tags": []
   },
   "source": [
    "## Meta Model\n",
    "\n",
    "* **Linear Regression**"
   ]
  },
  {
   "cell_type": "code",
   "execution_count": 45,
   "id": "occasional-beads",
   "metadata": {
    "execution": {
     "iopub.execute_input": "2021-09-07T15:57:52.827798Z",
     "iopub.status.busy": "2021-09-07T15:57:52.826925Z",
     "iopub.status.idle": "2021-09-07T15:57:52.830746Z",
     "shell.execute_reply": "2021-09-07T15:57:52.831227Z",
     "shell.execute_reply.started": "2021-09-07T14:45:04.982826Z"
    },
    "papermill": {
     "duration": 0.193714,
     "end_time": "2021-09-07T15:57:52.831381",
     "exception": false,
     "start_time": "2021-09-07T15:57:52.637667",
     "status": "completed"
    },
    "tags": []
   },
   "outputs": [],
   "source": [
    "y_pred_final_lgb = np.array([y_pred_final_lgb]).T\n",
    "y_pred_final_cb = np.array([y_pred_final_cb]).T\n",
    "\n",
    "y_pred_final_lgb = y_pred_final_lgb.clip(0, 1e10)\n",
    "y_pred_final_cb = y_pred_final_cb.clip(0, 1e10)\n",
    "\n",
    "y_pred_final_dnn = np.array([test_predictions_nn.clip(0, 1e10)]).T\n",
    "y_pred_meta_dnn = y_pred_meta_dnn.values.copy()"
   ]
  },
  {
   "cell_type": "code",
   "execution_count": 46,
   "id": "presidential-security",
   "metadata": {
    "execution": {
     "iopub.execute_input": "2021-09-07T15:57:53.349686Z",
     "iopub.status.busy": "2021-09-07T15:57:53.348218Z",
     "iopub.status.idle": "2021-09-07T15:57:53.360363Z",
     "shell.execute_reply": "2021-09-07T15:57:53.361625Z",
     "shell.execute_reply.started": "2021-09-07T14:45:07.083573Z"
    },
    "papermill": {
     "duration": 0.354924,
     "end_time": "2021-09-07T15:57:53.362009",
     "exception": false,
     "start_time": "2021-09-07T15:57:53.007085",
     "status": "completed"
    },
    "tags": []
   },
   "outputs": [
    {
     "name": "stdout",
     "output_type": "stream",
     "text": [
      "Xtrain_meta shape: (428932, 3)\n",
      "Xtest_meta shape: (3, 3)\n"
     ]
    }
   ],
   "source": [
    "Xtrain_meta = np.concatenate((y_pred_meta_lgb, y_pred_meta_cb, y_pred_meta_dnn), axis=1)\n",
    "Xtest_meta = np.concatenate((y_pred_final_lgb, y_pred_final_cb, y_pred_final_dnn), axis=1)\n",
    "Ytrain = train_nn['target'].copy()\n",
    "\n",
    "print(\"Xtrain_meta shape: {}\".format(Xtrain_meta.shape))\n",
    "print(\"Xtest_meta shape: {}\".format(Xtest_meta.shape))"
   ]
  },
  {
   "cell_type": "code",
   "execution_count": 47,
   "id": "boxed-database",
   "metadata": {
    "execution": {
     "iopub.execute_input": "2021-09-07T15:57:53.859584Z",
     "iopub.status.busy": "2021-09-07T15:57:53.858621Z",
     "iopub.status.idle": "2021-09-07T15:57:54.430706Z",
     "shell.execute_reply": "2021-09-07T15:57:54.432137Z",
     "shell.execute_reply.started": "2021-09-07T14:45:54.917392Z"
    },
    "papermill": {
     "duration": 0.758981,
     "end_time": "2021-09-07T15:57:54.432430",
     "exception": false,
     "start_time": "2021-09-07T15:57:53.673449",
     "status": "completed"
    },
    "tags": []
   },
   "outputs": [
    {
     "name": "stdout",
     "output_type": "stream",
     "text": [
      "Seed-2018 | Fold-0 | OOF Score: 0.1958470134371109\n",
      "Seed-2018 | Fold-1 | OOF Score: 0.1899808910327551\n",
      "Seed-2018 | Fold-2 | OOF Score: 0.1966465716589147\n",
      "Seed-2018 | Fold-3 | OOF Score: 0.19498918343892396\n",
      "Seed-2018 | Fold-4 | OOF Score: 0.19964763353911627\n",
      "\n",
      "Seed: 2018 | Aggregate OOF Score: 0.1954222586213642\n",
      "\n",
      "\n",
      "Aggregate OOF Score: 0.1954222586213642\n"
     ]
    }
   ],
   "source": [
    "FOLD = 5\n",
    "SEEDS = [2018]\n",
    "\n",
    "oof_score = 0\n",
    "y_pred_final = 0\n",
    "counter = 0\n",
    "\n",
    "\n",
    "for sidx, seed in enumerate(SEEDS):\n",
    "    seed_score = 0\n",
    "    \n",
    "    kfold = KFold(n_splits=FOLD, shuffle=True, random_state=seed)\n",
    "\n",
    "    for idx, (train, val) in enumerate(kfold.split(train_nn)):\n",
    "        counter += 1\n",
    "\n",
    "        train_x, train_y = Xtrain_meta[train], Ytrain.iloc[train]\n",
    "        val_x, val_y = Xtrain_meta[val], Ytrain.iloc[val]\n",
    "        sample_weight = 1/np.square(train_y)\n",
    "\n",
    "        model = LinearRegression()\n",
    "\n",
    "        model.fit(train_x, train_y, sample_weight = sample_weight)\n",
    "\n",
    "        y_pred = model.predict(val_x)\n",
    "        y_pred_final += model.predict(Xtest_meta)\n",
    "        \n",
    "        score = rmspe(val_y, y_pred)\n",
    "        oof_score += score\n",
    "        seed_score += score\n",
    "        print(\"Seed-{} | Fold-{} | OOF Score: {}\".format(seed, idx, score))\n",
    "    \n",
    "    print(\"\\nSeed: {} | Aggregate OOF Score: {}\\n\\n\".format(seed, (seed_score / FOLD)))\n",
    "\n",
    "\n",
    "y_pred_final = y_pred_final / float(counter)\n",
    "oof_score /= float(counter)\n",
    "print(\"Aggregate OOF Score: {}\".format(oof_score))"
   ]
  },
  {
   "cell_type": "markdown",
   "id": "blessed-discharge",
   "metadata": {
    "papermill": {
     "duration": 0.174067,
     "end_time": "2021-09-07T15:57:54.832377",
     "exception": false,
     "start_time": "2021-09-07T15:57:54.658310",
     "status": "completed"
    },
    "tags": []
   },
   "source": [
    "## Create submission file"
   ]
  },
  {
   "cell_type": "code",
   "execution_count": 48,
   "id": "owned-watts",
   "metadata": {
    "execution": {
     "iopub.execute_input": "2021-09-07T15:57:55.192384Z",
     "iopub.status.busy": "2021-09-07T15:57:55.191334Z",
     "iopub.status.idle": "2021-09-07T15:57:55.211369Z",
     "shell.execute_reply": "2021-09-07T15:57:55.211896Z",
     "shell.execute_reply.started": "2021-09-07T14:45:59.432669Z"
    },
    "papermill": {
     "duration": 0.204476,
     "end_time": "2021-09-07T15:57:55.212077",
     "exception": false,
     "start_time": "2021-09-07T15:57:55.007601",
     "status": "completed"
    },
    "tags": []
   },
   "outputs": [
    {
     "data": {
      "text/html": [
       "<div>\n",
       "<style scoped>\n",
       "    .dataframe tbody tr th:only-of-type {\n",
       "        vertical-align: middle;\n",
       "    }\n",
       "\n",
       "    .dataframe tbody tr th {\n",
       "        vertical-align: top;\n",
       "    }\n",
       "\n",
       "    .dataframe thead th {\n",
       "        text-align: right;\n",
       "    }\n",
       "</style>\n",
       "<table border=\"1\" class=\"dataframe\">\n",
       "  <thead>\n",
       "    <tr style=\"text-align: right;\">\n",
       "      <th></th>\n",
       "      <th>row_id</th>\n",
       "      <th>target</th>\n",
       "    </tr>\n",
       "  </thead>\n",
       "  <tbody>\n",
       "    <tr>\n",
       "      <th>0</th>\n",
       "      <td>0-4</td>\n",
       "      <td>0.002604</td>\n",
       "    </tr>\n",
       "    <tr>\n",
       "      <th>1</th>\n",
       "      <td>0-32</td>\n",
       "      <td>0.003402</td>\n",
       "    </tr>\n",
       "    <tr>\n",
       "      <th>2</th>\n",
       "      <td>0-34</td>\n",
       "      <td>0.003402</td>\n",
       "    </tr>\n",
       "  </tbody>\n",
       "</table>\n",
       "</div>"
      ],
      "text/plain": [
       "  row_id    target\n",
       "0    0-4  0.002604\n",
       "1   0-32  0.003402\n",
       "2   0-34  0.003402"
      ]
     },
     "execution_count": 48,
     "metadata": {},
     "output_type": "execute_result"
    }
   ],
   "source": [
    "submit_df = pd.DataFrame()\n",
    "submit_df['row_id'] = test_df['row_id']\n",
    "submit_df['target'] = y_pred_final\n",
    "submit_df.to_csv(\"./submission.csv\", index=False)\n",
    "submit_df.head()"
   ]
  },
  {
   "cell_type": "code",
   "execution_count": null,
   "id": "bibliographic-extent",
   "metadata": {
    "papermill": {
     "duration": 0.180903,
     "end_time": "2021-09-07T15:57:55.579035",
     "exception": false,
     "start_time": "2021-09-07T15:57:55.398132",
     "status": "completed"
    },
    "tags": []
   },
   "outputs": [],
   "source": []
  }
 ],
 "metadata": {
  "kernelspec": {
   "display_name": "Python 3 (ipykernel)",
   "language": "python",
   "name": "python3"
  },
  "language_info": {
   "codemirror_mode": {
    "name": "ipython",
    "version": 3
   },
   "file_extension": ".py",
   "mimetype": "text/x-python",
   "name": "python",
   "nbconvert_exporter": "python",
   "pygments_lexer": "ipython3",
   "version": "3.9.7"
  },
  "papermill": {
   "default_parameters": {},
   "duration": 2181.755432,
   "end_time": "2021-09-07T15:57:58.151648",
   "environment_variables": {},
   "exception": null,
   "input_path": "__notebook__.ipynb",
   "output_path": "__notebook__.ipynb",
   "parameters": {},
   "start_time": "2021-09-07T15:21:36.396216",
   "version": "2.3.3"
  }
 },
 "nbformat": 4,
 "nbformat_minor": 5
}
