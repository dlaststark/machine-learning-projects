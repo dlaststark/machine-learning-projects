{
 "cells": [
  {
   "cell_type": "markdown",
   "id": "convinced-component",
   "metadata": {
    "papermill": {
     "duration": 0.044137,
     "end_time": "2021-08-28T03:51:34.764581",
     "exception": false,
     "start_time": "2021-08-28T03:51:34.720444",
     "status": "completed"
    },
    "tags": []
   },
   "source": [
    "### **Experiment Log:**\n",
    "\n",
    "|Version |Models Used |CV Score |LB Score| Changes Made\n",
    "| --- | --- | --- | --- | --- |\n",
    "|v1 |LightGBM | 0.2963 | 0.29675 | Baseline\n",
    "|v2 |LightGBM | 0.2945 | 0.29298 | Feature Tools <br> Quantile Transformation\n",
    "|v3 |LightGBM | 0.2938 | NA | Trade data included\n",
    "|v4 |LightGBM, XGBoost | NA | NA | Ensemble model used\n",
    "|v5 | LightGBM, XGBoost | 0.307 | 0.30579 | Ensemble model used\n",
    "|v6 | Linear Regression, GBR <br> LightGBM, Bayesian Ridge | 0.2608 | 0.24344 | Ensemble models used <br> Poly features for log-return\n",
    "|v7 | Linear Regression, GBR <br> LightGBM, Bayesian Ridge | NA | NA | New features added\n",
    "|v8 | Linear Regression, GBR <br> LightGBM, Bayesian Ridge | 0.2536 | 0.23701 | Error Correction\n",
    "|v9 | Linear Regression, GBR <br> LightGBM, Bayesian Ridge | 0.2559 | 0.23454 | New features added\n",
    "|v10 | Linear Regression, GBR <br> LightGBM, Bayesian Ridge | 0.2545 | 0.22974 | New features added using expanding mean\n",
    "|v11 | Linear Regression, GBR <br> LightGBM, Bayesian Ridge | 0.24651 | 0.22841 | Quantile transformation for feature scaling\n",
    "|v12 | Linear Regression, GBR <br> LightGBM, Bayesian Ridge | 0.2436 | 0.22758 | New features added\n",
    "|v13 | Linear Regression, GBR <br> LightGBM, Bayesian Ridge <br> Voting Regressor | 0.24686 | 0.22779 | New lag features added\n",
    "|v14 | Linear Regression, GBR <br> LightGBM, Bayesian Ridge | 0.24429 | 0.22805 | New lag features for realized volatility added\n",
    "|v15 | Linear Regression, GBR, XGBoost <br> LightGBM, Bayesian Ridge | 0.25574 | NA | New statistical features added\n",
    "|v16 | Linear Regression, GBR, XGBoost <br> LightGBM, Bayesian Ridge | 0.24618 | 0.22854 | Removed lag features\n",
    "|v17 | Linear Regression, GBR <br> LightGBM, Bayesian Ridge | 0.24117 | 0.23223 | Quantile Transformation\n",
    "|v18 | Linear Regression, GBR <br> LightGBM, Bayesian Ridge | 0.2405 | 0.22852 | New features added\n",
    "|v19 | Linear Regression, GBR <br> LightGBM, Bayesian Ridge | 0.2405 | NA | Capturing meta features for models blend\n",
    "|v20 | Linear Regression, GBR <br> LightGBM, Bayesian Ridge | 0.24028 | NA | Architecture revamp\n",
    "|v21 | Linear Regression, GBR <br> LightGBM, Bayesian Ridge | 0.23989 | 0.22832 | Architecture revamp\n",
    "|v22 | LightGBM, CatBoost, GBR | 0.2439 | NA | Architecture revamp\n",
    "|v23 | LightGBM, CatBoost, GBR | 0.24025 | 0.22821 | Architecture revamp\n",
    "|v24 | Linear Regression, GBR <br> LightGBM, Bayesian Ridge | 0.20982 | 0.21142 | Architecture revamp\n",
    "|v25 | Linear Regression, GBR <br> LightGBM, Bayesian Ridge | 0.20525 | 0.21081 | Models blend section added\n",
    "|v26 | Linear Regression, GBR <br> LightGBM, Bayesian Ridge | 0.20499 | 0.21051 | New features added\n",
    "|v27 | Linear Regression, GBR <br> LightGBM, Bayesian Ridge | 0.20437 | 0.21035 | FeatureTools\n",
    "|v28 | Linear Regression, GBR <br> LightGBM, Bayesian Ridge | 0.20325 | 0.21052 | DAE Features\n",
    "|v29 | Linear Regression, GBR <br> LightGBM, Bayesian Ridge | 0.20545 | 0.20934 | New features added\n",
    "|v30 | Linear Regression, GBR, XGB <br> LightGBM, Bayesian Ridge | 0.20552 | NA | New base model added\n",
    "|v31 | Linear Regression, GBR <br> LightGBM, Bayesian Ridge | 0.19908 | 0.20939 | LGB Model Tuning\n",
    "|v32 | Linear Regression, GBR, CatBoost <br> LightGBM, Bayesian Ridge | 0.20048 | 0.21009 | New models added for blending\n",
    "|v33 | Linear Regression, GBR <br> LightGBM, Bayesian Ridge | 0.1999| 0.21123 | New models added for blending\n",
    "|v34 | Linear Regression, GBR <br> LightGBM, Bayesian Ridge | 0.19993 | 0.21130 | New models added for blending \n",
    "|v35 | Linear Regression, GBR <br> LightGBM, Bayesian Ridge | 0.20259 | 0.21156 | Tuned LGB Model\n",
    "|v36 | Linear Regression, GBR <br> LightGBM, Bayesian Ridge | 0.19689 | 0.21041 | New models added for blending\n",
    "|v37 | Linear Regression, GBR <br> LightGBM, Bayesian Ridge | 0.19840 | 0.21038 | Tuned LGB Model\n",
    "|v38 | Linear Regression, GBR <br> LightGBM, Bayesian Ridge | 0.20545 | NA | Back to v29 Model design\n",
    "|v40 | Linear Regression, GBR <br> LightGBM, Bayesian Ridge | 0.22461 | 0.21474 | New DAE Embeddings\n",
    "|v41 | Linear Regression, GBR <br> LightGBM, Bayesian Ridge | 0.206095 | 11529167.26799 | FeatureTools removed <br> New features added\n",
    "|v42 | Linear Regression, GBR <br> LightGBM, Bayesian Ridge | 0.195046 | 0.20733 | New K-Means features added <br> Quantile Transformation removed <br> Highly correlated features removed\n",
    "|v43 | Linear Regression, GBR <br> LightGBM, Bayesian Ridge <br> Deep Neural Model | 0.194213 | 0.20736 | New Keras model added\n",
    "|v44 | Linear Regression, GBR <br> LightGBM, Bayesian Ridge <br> Deep Neural Model | 0.193335 | 0.20736 | Modified LGB and Keras model\n",
    "|v45 | Linear Regression, GBR <br> LightGBM, Bayesian Ridge <br> Deep Neural Model | TBD | TBD | Removed meta model <br> Using weighted average ensemble"
   ]
  },
  {
   "cell_type": "markdown",
   "id": "divine-career",
   "metadata": {
    "papermill": {
     "duration": 0.043519,
     "end_time": "2021-08-28T03:51:34.851517",
     "exception": false,
     "start_time": "2021-08-28T03:51:34.807998",
     "status": "completed"
    },
    "tags": []
   },
   "source": [
    "## Import libraries"
   ]
  },
  {
   "cell_type": "code",
   "execution_count": 1,
   "id": "assured-floating",
   "metadata": {
    "execution": {
     "iopub.execute_input": "2021-08-28T03:51:34.952110Z",
     "iopub.status.busy": "2021-08-28T03:51:34.950990Z",
     "iopub.status.idle": "2021-08-28T03:51:43.007841Z",
     "shell.execute_reply": "2021-08-28T03:51:43.006976Z",
     "shell.execute_reply.started": "2021-08-27T12:24:57.244286Z"
    },
    "papermill": {
     "duration": 8.113391,
     "end_time": "2021-08-28T03:51:43.008004",
     "exception": false,
     "start_time": "2021-08-28T03:51:34.894613",
     "status": "completed"
    },
    "tags": []
   },
   "outputs": [
    {
     "data": {
      "text/html": [
       "<style type='text/css'>\n",
       ".datatable table.frame { margin-bottom: 0; }\n",
       ".datatable table.frame thead { border-bottom: none; }\n",
       ".datatable table.frame tr.coltypes td {  color: #FFFFFF;  line-height: 6px;  padding: 0 0.5em;}\n",
       ".datatable .bool    { background: #DDDD99; }\n",
       ".datatable .object  { background: #565656; }\n",
       ".datatable .int     { background: #5D9E5D; }\n",
       ".datatable .float   { background: #4040CC; }\n",
       ".datatable .str     { background: #CC4040; }\n",
       ".datatable .row_index {  background: var(--jp-border-color3);  border-right: 1px solid var(--jp-border-color0);  color: var(--jp-ui-font-color3);  font-size: 9px;}\n",
       ".datatable .frame tr.coltypes .row_index {  background: var(--jp-border-color0);}\n",
       ".datatable th:nth-child(2) { padding-left: 12px; }\n",
       ".datatable .hellipsis {  color: var(--jp-cell-editor-border-color);}\n",
       ".datatable .vellipsis {  background: var(--jp-layout-color0);  color: var(--jp-cell-editor-border-color);}\n",
       ".datatable .na {  color: var(--jp-cell-editor-border-color);  font-size: 80%;}\n",
       ".datatable .footer { font-size: 9px; }\n",
       ".datatable .frame_dimensions {  background: var(--jp-border-color3);  border-top: 1px solid var(--jp-border-color0);  color: var(--jp-ui-font-color3);  display: inline-block;  opacity: 0.6;  padding: 1px 10px 1px 5px;}\n",
       "</style>\n"
      ],
      "text/plain": [
       "<IPython.core.display.HTML object>"
      ]
     },
     "metadata": {},
     "output_type": "display_data"
    }
   ],
   "source": [
    "import warnings\n",
    "warnings.filterwarnings(\"ignore\")\n",
    "\n",
    "import gc\n",
    "import glob\n",
    "import pickle\n",
    "import numpy as np\n",
    "import pandas as pd\n",
    "from tqdm import tqdm\n",
    "import seaborn as sns\n",
    "import matplotlib.pyplot as plt\n",
    "from sklearn.cluster import KMeans\n",
    "from sklearn.model_selection import StratifiedKFold\n",
    "from sklearn.preprocessing import QuantileTransformer\n",
    "\n",
    "from lightgbm import LGBMRegressor\n",
    "from sklearn.linear_model import BayesianRidge\n",
    "from sklearn.linear_model import LinearRegression\n",
    "from sklearn.experimental import enable_hist_gradient_boosting\n",
    "from sklearn.ensemble import HistGradientBoostingRegressor\n",
    "\n",
    "import tensorflow as tf\n",
    "from tensorflow.keras.models import Model\n",
    "from tensorflow.keras.regularizers import l2\n",
    "from tensorflow.keras.optimizers import Adamax\n",
    "from tensorflow.keras.callbacks import EarlyStopping\n",
    "from tensorflow.keras.callbacks import ModelCheckpoint\n",
    "from tensorflow.keras.callbacks import ReduceLROnPlateau\n",
    "from tensorflow.keras.layers import SpatialDropout1D\n",
    "from tensorflow.keras.layers import LeakyReLU, Reshape\n",
    "from tensorflow.keras.layers import Dropout, Concatenate\n",
    "from tensorflow.keras.layers import Embedding, Dense, Flatten\n",
    "from tensorflow.keras.layers import Input, BatchNormalization"
   ]
  },
  {
   "cell_type": "markdown",
   "id": "immune-truth",
   "metadata": {
    "papermill": {
     "duration": 0.041484,
     "end_time": "2021-08-28T03:51:43.091508",
     "exception": false,
     "start_time": "2021-08-28T03:51:43.050024",
     "status": "completed"
    },
    "tags": []
   },
   "source": [
    "## Helper Functions"
   ]
  },
  {
   "cell_type": "code",
   "execution_count": 2,
   "id": "comparative-cargo",
   "metadata": {
    "execution": {
     "iopub.execute_input": "2021-08-28T03:51:43.180287Z",
     "iopub.status.busy": "2021-08-28T03:51:43.179627Z",
     "iopub.status.idle": "2021-08-28T03:51:43.182482Z",
     "shell.execute_reply": "2021-08-28T03:51:43.182997Z",
     "shell.execute_reply.started": "2021-08-27T12:25:06.209806Z"
    },
    "papermill": {
     "duration": 0.049697,
     "end_time": "2021-08-28T03:51:43.183161",
     "exception": false,
     "start_time": "2021-08-28T03:51:43.133464",
     "status": "completed"
    },
    "tags": []
   },
   "outputs": [],
   "source": [
    "def rmspe(y_true, y_pred):\n",
    "    return (np.sqrt(np.mean(np.square((y_true - y_pred) / y_true))))"
   ]
  },
  {
   "cell_type": "code",
   "execution_count": 3,
   "id": "antique-namibia",
   "metadata": {
    "execution": {
     "iopub.execute_input": "2021-08-28T03:51:43.270589Z",
     "iopub.status.busy": "2021-08-28T03:51:43.269790Z",
     "iopub.status.idle": "2021-08-28T03:51:43.276560Z",
     "shell.execute_reply": "2021-08-28T03:51:43.277072Z",
     "shell.execute_reply.started": "2021-08-27T12:25:06.217031Z"
    },
    "papermill": {
     "duration": 0.052555,
     "end_time": "2021-08-28T03:51:43.277262",
     "exception": false,
     "start_time": "2021-08-28T03:51:43.224707",
     "status": "completed"
    },
    "tags": []
   },
   "outputs": [],
   "source": [
    "def rmspe_loss(y_true, y_pred):\n",
    "    y_true = tf.cast(y_true, dtype=tf.float32)\n",
    "    y_pred = tf.cast(y_pred, dtype=tf.float32)\n",
    "    return (tf.math.sqrt(tf.reduce_mean(tf.math.square((y_true - y_pred) / y_true))))"
   ]
  },
  {
   "cell_type": "code",
   "execution_count": 4,
   "id": "convenient-swift",
   "metadata": {
    "execution": {
     "iopub.execute_input": "2021-08-28T03:51:43.364787Z",
     "iopub.status.busy": "2021-08-28T03:51:43.364075Z",
     "iopub.status.idle": "2021-08-28T03:51:43.368192Z",
     "shell.execute_reply": "2021-08-28T03:51:43.368737Z",
     "shell.execute_reply.started": "2021-08-27T12:25:06.230431Z"
    },
    "papermill": {
     "duration": 0.050266,
     "end_time": "2021-08-28T03:51:43.368925",
     "exception": false,
     "start_time": "2021-08-28T03:51:43.318659",
     "status": "completed"
    },
    "tags": []
   },
   "outputs": [],
   "source": [
    "def log_return(list_stock_prices):\n",
    "    return np.log(list_stock_prices).diff()"
   ]
  },
  {
   "cell_type": "code",
   "execution_count": 5,
   "id": "consolidated-canadian",
   "metadata": {
    "execution": {
     "iopub.execute_input": "2021-08-28T03:51:43.456471Z",
     "iopub.status.busy": "2021-08-28T03:51:43.455803Z",
     "iopub.status.idle": "2021-08-28T03:51:43.459912Z",
     "shell.execute_reply": "2021-08-28T03:51:43.460472Z",
     "shell.execute_reply.started": "2021-08-27T12:25:06.24179Z"
    },
    "papermill": {
     "duration": 0.049542,
     "end_time": "2021-08-28T03:51:43.460657",
     "exception": false,
     "start_time": "2021-08-28T03:51:43.411115",
     "status": "completed"
    },
    "tags": []
   },
   "outputs": [],
   "source": [
    "def realized_volatility(series_log_return):\n",
    "    return np.sqrt(np.sum(series_log_return**2))"
   ]
  },
  {
   "cell_type": "code",
   "execution_count": 6,
   "id": "challenging-composition",
   "metadata": {
    "execution": {
     "iopub.execute_input": "2021-08-28T03:51:43.547503Z",
     "iopub.status.busy": "2021-08-28T03:51:43.546825Z",
     "iopub.status.idle": "2021-08-28T03:51:43.552703Z",
     "shell.execute_reply": "2021-08-28T03:51:43.553168Z",
     "shell.execute_reply.started": "2021-08-27T12:25:06.252927Z"
    },
    "papermill": {
     "duration": 0.050821,
     "end_time": "2021-08-28T03:51:43.553362",
     "exception": false,
     "start_time": "2021-08-28T03:51:43.502541",
     "status": "completed"
    },
    "tags": []
   },
   "outputs": [],
   "source": [
    "def count_unique(series):\n",
    "    return len(np.unique(series))"
   ]
  },
  {
   "cell_type": "code",
   "execution_count": 7,
   "id": "signed-region",
   "metadata": {
    "execution": {
     "iopub.execute_input": "2021-08-28T03:51:43.647425Z",
     "iopub.status.busy": "2021-08-28T03:51:43.646731Z",
     "iopub.status.idle": "2021-08-28T03:51:43.654143Z",
     "shell.execute_reply": "2021-08-28T03:51:43.653596Z",
     "shell.execute_reply.started": "2021-08-27T12:25:06.264268Z"
    },
    "papermill": {
     "duration": 0.055928,
     "end_time": "2021-08-28T03:51:43.654299",
     "exception": false,
     "start_time": "2021-08-28T03:51:43.598371",
     "status": "completed"
    },
    "tags": []
   },
   "outputs": [],
   "source": [
    "def get_stats_window(df, fe_dict, seconds_in_bucket, add_suffix = False):\n",
    "    df_feature = df[df['seconds_in_bucket'] >= seconds_in_bucket].groupby(['time_id']).agg(fe_dict).reset_index()\n",
    "    df_feature.columns = ['_'.join(col) for col in df_feature.columns]\n",
    "    \n",
    "    if add_suffix:\n",
    "        df_feature = df_feature.add_suffix('_' + str(seconds_in_bucket))\n",
    "    \n",
    "    return df_feature"
   ]
  },
  {
   "cell_type": "code",
   "execution_count": 8,
   "id": "close-treat",
   "metadata": {
    "execution": {
     "iopub.execute_input": "2021-08-28T03:51:43.754653Z",
     "iopub.status.busy": "2021-08-28T03:51:43.747865Z",
     "iopub.status.idle": "2021-08-28T03:51:43.756664Z",
     "shell.execute_reply": "2021-08-28T03:51:43.757137Z",
     "shell.execute_reply.started": "2021-08-27T12:25:06.277174Z"
    },
    "papermill": {
     "duration": 0.060577,
     "end_time": "2021-08-28T03:51:43.757335",
     "exception": false,
     "start_time": "2021-08-28T03:51:43.696758",
     "status": "completed"
    },
    "tags": []
   },
   "outputs": [],
   "source": [
    "def process_trade_data(trade_files):\n",
    "    \n",
    "    trade_df = pd.DataFrame()\n",
    "    \n",
    "    for file in tqdm(glob.glob(trade_files)):\n",
    "        \n",
    "        # Read source file\n",
    "        df_trade_data = pd.read_parquet(file)\n",
    "        \n",
    "        # Feature engineering\n",
    "        df_trade_data['log_return'] = df_trade_data.groupby('time_id')['price'].apply(log_return)\n",
    "        #df_trade_data.fillna(0, inplace=True)\n",
    "        \n",
    "        fet_engg_dict = {\n",
    "            'price': ['mean','std','sum'],\n",
    "            'size': ['mean','std','sum'],\n",
    "            'order_count': ['mean','std','sum'],\n",
    "            'seconds_in_bucket': [count_unique],\n",
    "            'log_return': [realized_volatility,'mean','std','sum']\n",
    "        }\n",
    "        \n",
    "        # Get the stats for different windows\n",
    "        df_feature = get_stats_window(df_trade_data, fet_engg_dict, seconds_in_bucket = 0, add_suffix = False)\n",
    "        df_feature_120 = get_stats_window(df_trade_data, fet_engg_dict, seconds_in_bucket = 120, add_suffix = True)\n",
    "        df_feature_240 = get_stats_window(df_trade_data, fet_engg_dict, seconds_in_bucket = 240, add_suffix = True)\n",
    "        df_feature_360 = get_stats_window(df_trade_data, fet_engg_dict, seconds_in_bucket = 360, add_suffix = True)\n",
    "        df_feature_480 = get_stats_window(df_trade_data, fet_engg_dict, seconds_in_bucket = 480, add_suffix = True)\n",
    "        \n",
    "        # Merge all\n",
    "        trade_agg_df = df_feature.merge(df_feature_120, how = 'left', left_on = 'time_id_', right_on = 'time_id__120')\n",
    "        trade_agg_df = trade_agg_df.merge(df_feature_240, how = 'left', left_on = 'time_id_', right_on = 'time_id__240')\n",
    "        trade_agg_df = trade_agg_df.merge(df_feature_360, how = 'left', left_on = 'time_id_', right_on = 'time_id__360')\n",
    "        trade_agg_df = trade_agg_df.merge(df_feature_480, how = 'left', left_on = 'time_id_', right_on = 'time_id__480')\n",
    "        trade_agg_df = trade_agg_df.add_prefix('trade_')\n",
    "        \n",
    "        # Generate row_id\n",
    "        stock_id = file.split('=')[1]\n",
    "        trade_agg_df['row_id'] = trade_agg_df['trade_time_id_'].apply(lambda x:f'{stock_id}-{x}')\n",
    "        trade_agg_df.drop(['trade_time_id_'], inplace=True, axis=1)\n",
    "        \n",
    "        # Merge with parent df\n",
    "        trade_df = pd.concat([trade_df, trade_agg_df])\n",
    "    \n",
    "    del df_trade_data, trade_agg_df, df_feature\n",
    "    del df_feature_120, df_feature_240\n",
    "    del df_feature_480, df_feature_360\n",
    "    gc.collect()\n",
    "    \n",
    "    return trade_df"
   ]
  },
  {
   "cell_type": "code",
   "execution_count": 9,
   "id": "fantastic-casino",
   "metadata": {
    "execution": {
     "iopub.execute_input": "2021-08-28T03:51:43.845046Z",
     "iopub.status.busy": "2021-08-28T03:51:43.843933Z",
     "iopub.status.idle": "2021-08-28T03:51:43.870739Z",
     "shell.execute_reply": "2021-08-28T03:51:43.871201Z",
     "shell.execute_reply.started": "2021-08-27T12:25:06.292942Z"
    },
    "papermill": {
     "duration": 0.072546,
     "end_time": "2021-08-28T03:51:43.871409",
     "exception": false,
     "start_time": "2021-08-28T03:51:43.798863",
     "status": "completed"
    },
    "tags": []
   },
   "outputs": [],
   "source": [
    "def process_book_data(book_files):\n",
    "    \n",
    "    book_df = pd.DataFrame()\n",
    "    \n",
    "    for file in tqdm(glob.glob(book_files)):\n",
    "        \n",
    "        # Read source file\n",
    "        df_book_data = pd.read_parquet(file)\n",
    "        \n",
    "        # Feature engineering\n",
    "        df_book_data['wap1'] = (df_book_data['bid_price1'] *\n",
    "                                df_book_data['ask_size1'] +\n",
    "                                df_book_data['ask_price1'] *\n",
    "                                df_book_data['bid_size1'])  / (df_book_data['bid_size1'] +\n",
    "                                                               df_book_data['ask_size1'])\n",
    "\n",
    "        df_book_data['wap2'] = (df_book_data['bid_price2'] *\n",
    "                                df_book_data['ask_size2'] +\n",
    "                                df_book_data['ask_price2'] *\n",
    "                                df_book_data['bid_size2'])  / (df_book_data['bid_size2'] +\n",
    "                                                               df_book_data['ask_size2'])\n",
    "        \n",
    "        df_book_data['wap3'] = (df_book_data['bid_price1'] *\n",
    "                                df_book_data['bid_size1'] +\n",
    "                                df_book_data['ask_price1'] *\n",
    "                                df_book_data['ask_size1'])  / (df_book_data['bid_size1'] +\n",
    "                                                               df_book_data['ask_size1'])\n",
    "\n",
    "        df_book_data['wap4'] = (df_book_data['bid_price2'] *\n",
    "                                df_book_data['bid_size2'] +\n",
    "                                df_book_data['ask_price2'] *\n",
    "                                df_book_data['ask_size2'])  / (df_book_data['bid_size2'] +\n",
    "                                                               df_book_data['ask_size2'])\n",
    "\n",
    "        df_book_data['log_return1'] = df_book_data.groupby(['time_id'])['wap1'].apply(log_return)\n",
    "        df_book_data['log_return2'] = df_book_data.groupby(['time_id'])['wap2'].apply(log_return)\n",
    "        df_book_data['log_return3'] = df_book_data.groupby(['time_id'])['wap3'].apply(log_return)\n",
    "        df_book_data['log_return4'] = df_book_data.groupby(['time_id'])['wap4'].apply(log_return)\n",
    "        #df_book_data.fillna(0, inplace=True)\n",
    "        \n",
    "        df_book_data['wap_balance'] = abs(df_book_data['wap1'] - df_book_data['wap2'])\n",
    "        df_book_data['price_spread1'] = (df_book_data['ask_price1'] - df_book_data['bid_price1']) / ((df_book_data['ask_price1'] + df_book_data['bid_price1'])/2)\n",
    "        df_book_data['price_spread2'] = (df_book_data['ask_price2'] - df_book_data['bid_price2']) / ((df_book_data['ask_price2'] + df_book_data['bid_price2'])/2)\n",
    "        df_book_data['bid_spread'] = df_book_data['bid_price1'] - df_book_data['bid_price2']\n",
    "        df_book_data['ask_spread'] = df_book_data['ask_price1'] - df_book_data['ask_price2']\n",
    "        df_book_data['bid_ask_spread1'] = abs((df_book_data['bid_price1'] * df_book_data['bid_size1']) - (df_book_data['ask_price1'] * df_book_data['ask_size1']))\n",
    "        df_book_data['bid_ask_spread2'] = abs((df_book_data['bid_price2'] * df_book_data['bid_size2']) - (df_book_data['ask_price2'] * df_book_data['ask_size2']))\n",
    "        df_book_data['total_volume'] = (df_book_data['ask_size1'] + df_book_data['ask_size2']) + (df_book_data['bid_size1'] + df_book_data['bid_size2'])\n",
    "        df_book_data['volume_imbalance'] = abs((df_book_data['ask_size1'] + df_book_data['ask_size2']) - (df_book_data['bid_size1'] + df_book_data['bid_size2']))\n",
    "        \n",
    "        fet_engg_dict = {\n",
    "            'wap1': ['mean','std','sum'],\n",
    "            'wap2': ['mean','std','sum'],\n",
    "            'wap3': ['mean','std','sum'],\n",
    "            'wap4': ['mean','std','sum'],\n",
    "            'log_return1': [realized_volatility,'mean','std','sum'],\n",
    "            'log_return2': [realized_volatility,'mean','std','sum'],\n",
    "            'log_return3': [realized_volatility,'mean','std','sum'],\n",
    "            'log_return4': [realized_volatility,'mean','std','sum'],\n",
    "            'wap_balance': ['mean','std','sum'],\n",
    "            'price_spread1': ['mean','std','sum'],\n",
    "            'price_spread2': ['mean','std','sum'],\n",
    "            'bid_spread': ['mean','std','sum'],\n",
    "            'ask_spread': ['mean','std','sum'],\n",
    "            'bid_ask_spread1': ['mean','std','sum'],\n",
    "            'bid_ask_spread2': ['mean','std','sum'],\n",
    "            'total_volume': ['mean','std','sum'],\n",
    "            'volume_imbalance': ['mean','std','sum']\n",
    "        }\n",
    "        \n",
    "        # Get the stats for different windows\n",
    "        df_feature = get_stats_window(df_book_data, fet_engg_dict, seconds_in_bucket = 0, add_suffix = False)\n",
    "        df_feature_120 = get_stats_window(df_book_data, fet_engg_dict, seconds_in_bucket = 120, add_suffix = True)\n",
    "        df_feature_240 = get_stats_window(df_book_data, fet_engg_dict, seconds_in_bucket = 240, add_suffix = True)\n",
    "        df_feature_360 = get_stats_window(df_book_data, fet_engg_dict, seconds_in_bucket = 360, add_suffix = True)\n",
    "        df_feature_480 = get_stats_window(df_book_data, fet_engg_dict, seconds_in_bucket = 480, add_suffix = True)\n",
    "\n",
    "        # Merge all\n",
    "        book_agg_df = df_feature.merge(df_feature_120, how = 'left', left_on = 'time_id_', right_on = 'time_id__120')\n",
    "        book_agg_df = book_agg_df.merge(df_feature_240, how = 'left', left_on = 'time_id_', right_on = 'time_id__240')\n",
    "        book_agg_df = book_agg_df.merge(df_feature_360, how = 'left', left_on = 'time_id_', right_on = 'time_id__360')\n",
    "        book_agg_df = book_agg_df.merge(df_feature_480, how = 'left', left_on = 'time_id_', right_on = 'time_id__480')\n",
    "        book_agg_df = book_agg_df.add_prefix('book_')\n",
    "        \n",
    "        # Generate row_id\n",
    "        stock_id = file.split('=')[1]\n",
    "        book_agg_df['row_id'] = book_agg_df['book_time_id_'].apply(lambda x:f'{stock_id}-{x}')\n",
    "        book_agg_df.drop(['book_time_id_'], inplace=True, axis=1)\n",
    "        \n",
    "        # Merge with parent df\n",
    "        book_df = pd.concat([book_df, book_agg_df])\n",
    "    \n",
    "    del df_book_data, book_agg_df, df_feature\n",
    "    del df_feature_120, df_feature_240\n",
    "    del df_feature_360, df_feature_480\n",
    "    gc.collect()\n",
    "    \n",
    "    return book_df"
   ]
  },
  {
   "cell_type": "markdown",
   "id": "wound-tokyo",
   "metadata": {
    "papermill": {
     "duration": 0.041116,
     "end_time": "2021-08-28T03:51:43.953917",
     "exception": false,
     "start_time": "2021-08-28T03:51:43.912801",
     "status": "completed"
    },
    "tags": []
   },
   "source": [
    "## Load training data"
   ]
  },
  {
   "cell_type": "code",
   "execution_count": 10,
   "id": "palestinian-printer",
   "metadata": {
    "execution": {
     "iopub.execute_input": "2021-08-28T03:51:44.043136Z",
     "iopub.status.busy": "2021-08-28T03:51:44.042506Z",
     "iopub.status.idle": "2021-08-28T03:52:02.429801Z",
     "shell.execute_reply": "2021-08-28T03:52:02.430680Z",
     "shell.execute_reply.started": "2021-08-27T12:25:06.321243Z"
    },
    "papermill": {
     "duration": 18.435454,
     "end_time": "2021-08-28T03:52:02.430930",
     "exception": false,
     "start_time": "2021-08-28T03:51:43.995476",
     "status": "completed"
    },
    "tags": []
   },
   "outputs": [
    {
     "data": {
      "text/plain": [
       "42"
      ]
     },
     "execution_count": 10,
     "metadata": {},
     "output_type": "execute_result"
    }
   ],
   "source": [
    "with open(\"../input/orvp-django-unchained/ORVP_Ready_Meatballs.txt\", 'rb') as handle: \n",
    "    data = handle.read()\n",
    "\n",
    "processed_data = pickle.loads(data)\n",
    "train_df = processed_data['train_df']\n",
    "\n",
    "del processed_data\n",
    "gc.collect()"
   ]
  },
  {
   "cell_type": "markdown",
   "id": "material-scholar",
   "metadata": {
    "papermill": {
     "duration": 0.047199,
     "end_time": "2021-08-28T03:52:02.529809",
     "exception": false,
     "start_time": "2021-08-28T03:52:02.482610",
     "status": "completed"
    },
    "tags": []
   },
   "source": [
    "## Prepare testing data"
   ]
  },
  {
   "cell_type": "markdown",
   "id": "completed-supplier",
   "metadata": {
    "papermill": {
     "duration": 0.048757,
     "end_time": "2021-08-28T03:52:02.626610",
     "exception": false,
     "start_time": "2021-08-28T03:52:02.577853",
     "status": "completed"
    },
    "tags": []
   },
   "source": [
    "### Test data"
   ]
  },
  {
   "cell_type": "code",
   "execution_count": 11,
   "id": "third-missouri",
   "metadata": {
    "execution": {
     "iopub.execute_input": "2021-08-28T03:52:02.727229Z",
     "iopub.status.busy": "2021-08-28T03:52:02.726228Z",
     "iopub.status.idle": "2021-08-28T03:52:02.763930Z",
     "shell.execute_reply": "2021-08-28T03:52:02.763292Z",
     "shell.execute_reply.started": "2021-08-27T12:25:20.631039Z"
    },
    "papermill": {
     "duration": 0.088672,
     "end_time": "2021-08-28T03:52:02.764096",
     "exception": false,
     "start_time": "2021-08-28T03:52:02.675424",
     "status": "completed"
    },
    "tags": []
   },
   "outputs": [
    {
     "name": "stdout",
     "output_type": "stream",
     "text": [
      "test_df: (3, 3)\n"
     ]
    },
    {
     "data": {
      "text/html": [
       "<div>\n",
       "<style scoped>\n",
       "    .dataframe tbody tr th:only-of-type {\n",
       "        vertical-align: middle;\n",
       "    }\n",
       "\n",
       "    .dataframe tbody tr th {\n",
       "        vertical-align: top;\n",
       "    }\n",
       "\n",
       "    .dataframe thead th {\n",
       "        text-align: right;\n",
       "    }\n",
       "</style>\n",
       "<table border=\"1\" class=\"dataframe\">\n",
       "  <thead>\n",
       "    <tr style=\"text-align: right;\">\n",
       "      <th></th>\n",
       "      <th>stock_id</th>\n",
       "      <th>time_id</th>\n",
       "      <th>row_id</th>\n",
       "    </tr>\n",
       "  </thead>\n",
       "  <tbody>\n",
       "    <tr>\n",
       "      <th>0</th>\n",
       "      <td>0</td>\n",
       "      <td>4</td>\n",
       "      <td>0-4</td>\n",
       "    </tr>\n",
       "    <tr>\n",
       "      <th>1</th>\n",
       "      <td>0</td>\n",
       "      <td>32</td>\n",
       "      <td>0-32</td>\n",
       "    </tr>\n",
       "    <tr>\n",
       "      <th>2</th>\n",
       "      <td>0</td>\n",
       "      <td>34</td>\n",
       "      <td>0-34</td>\n",
       "    </tr>\n",
       "  </tbody>\n",
       "</table>\n",
       "</div>"
      ],
      "text/plain": [
       "   stock_id  time_id row_id\n",
       "0         0        4    0-4\n",
       "1         0       32   0-32\n",
       "2         0       34   0-34"
      ]
     },
     "execution_count": 11,
     "metadata": {},
     "output_type": "execute_result"
    }
   ],
   "source": [
    "test_df = pd.read_csv('../input/optiver-realized-volatility-prediction/test.csv')\n",
    "test_df['row_id'] = test_df['stock_id'].astype(str) + '-' + test_df['time_id'].astype(str)\n",
    "print(f\"test_df: {test_df.shape}\")\n",
    "test_df.head()"
   ]
  },
  {
   "cell_type": "markdown",
   "id": "impossible-spell",
   "metadata": {
    "papermill": {
     "duration": 0.04598,
     "end_time": "2021-08-28T03:52:02.857926",
     "exception": false,
     "start_time": "2021-08-28T03:52:02.811946",
     "status": "completed"
    },
    "tags": []
   },
   "source": [
    "### Trade data"
   ]
  },
  {
   "cell_type": "code",
   "execution_count": 12,
   "id": "completed-student",
   "metadata": {
    "execution": {
     "iopub.execute_input": "2021-08-28T03:52:02.949894Z",
     "iopub.status.busy": "2021-08-28T03:52:02.948965Z",
     "iopub.status.idle": "2021-08-28T03:52:03.572735Z",
     "shell.execute_reply": "2021-08-28T03:52:03.572061Z",
     "shell.execute_reply.started": "2021-08-27T12:25:20.669921Z"
    },
    "papermill": {
     "duration": 0.672213,
     "end_time": "2021-08-28T03:52:03.572921",
     "exception": false,
     "start_time": "2021-08-28T03:52:02.900708",
     "status": "completed"
    },
    "tags": []
   },
   "outputs": [
    {
     "name": "stderr",
     "output_type": "stream",
     "text": [
      "100%|██████████| 1/1 [00:00<00:00,  3.29it/s]\n"
     ]
    },
    {
     "name": "stdout",
     "output_type": "stream",
     "text": [
      "trade_test_df: (1, 75)\n"
     ]
    },
    {
     "data": {
      "text/html": [
       "<div>\n",
       "<style scoped>\n",
       "    .dataframe tbody tr th:only-of-type {\n",
       "        vertical-align: middle;\n",
       "    }\n",
       "\n",
       "    .dataframe tbody tr th {\n",
       "        vertical-align: top;\n",
       "    }\n",
       "\n",
       "    .dataframe thead th {\n",
       "        text-align: right;\n",
       "    }\n",
       "</style>\n",
       "<table border=\"1\" class=\"dataframe\">\n",
       "  <thead>\n",
       "    <tr style=\"text-align: right;\">\n",
       "      <th></th>\n",
       "      <th>trade_price_mean</th>\n",
       "      <th>trade_price_std</th>\n",
       "      <th>trade_price_sum</th>\n",
       "      <th>trade_size_mean</th>\n",
       "      <th>trade_size_std</th>\n",
       "      <th>trade_size_sum</th>\n",
       "      <th>trade_order_count_mean</th>\n",
       "      <th>trade_order_count_std</th>\n",
       "      <th>trade_order_count_sum</th>\n",
       "      <th>trade_seconds_in_bucket_count_unique</th>\n",
       "      <th>...</th>\n",
       "      <th>trade_size_sum_480</th>\n",
       "      <th>trade_order_count_mean_480</th>\n",
       "      <th>trade_order_count_std_480</th>\n",
       "      <th>trade_order_count_sum_480</th>\n",
       "      <th>trade_seconds_in_bucket_count_unique_480</th>\n",
       "      <th>trade_log_return_realized_volatility_480</th>\n",
       "      <th>trade_log_return_mean_480</th>\n",
       "      <th>trade_log_return_std_480</th>\n",
       "      <th>trade_log_return_sum_480</th>\n",
       "      <th>row_id</th>\n",
       "    </tr>\n",
       "  </thead>\n",
       "  <tbody>\n",
       "    <tr>\n",
       "      <th>0</th>\n",
       "      <td>1.000151</td>\n",
       "      <td>0.000168</td>\n",
       "      <td>3.000452</td>\n",
       "      <td>67</td>\n",
       "      <td>57.157677</td>\n",
       "      <td>201</td>\n",
       "      <td>3.666667</td>\n",
       "      <td>3.05505</td>\n",
       "      <td>11</td>\n",
       "      <td>3</td>\n",
       "      <td>...</td>\n",
       "      <td>NaN</td>\n",
       "      <td>NaN</td>\n",
       "      <td>NaN</td>\n",
       "      <td>NaN</td>\n",
       "      <td>NaN</td>\n",
       "      <td>NaN</td>\n",
       "      <td>NaN</td>\n",
       "      <td>NaN</td>\n",
       "      <td>NaN</td>\n",
       "      <td>0-4</td>\n",
       "    </tr>\n",
       "  </tbody>\n",
       "</table>\n",
       "<p>1 rows × 75 columns</p>\n",
       "</div>"
      ],
      "text/plain": [
       "   trade_price_mean  trade_price_std  trade_price_sum  trade_size_mean  \\\n",
       "0          1.000151         0.000168         3.000452               67   \n",
       "\n",
       "   trade_size_std  trade_size_sum  trade_order_count_mean  \\\n",
       "0       57.157677             201                3.666667   \n",
       "\n",
       "   trade_order_count_std  trade_order_count_sum  \\\n",
       "0                3.05505                     11   \n",
       "\n",
       "   trade_seconds_in_bucket_count_unique  ...  trade_size_sum_480  \\\n",
       "0                                     3  ...                 NaN   \n",
       "\n",
       "   trade_order_count_mean_480  trade_order_count_std_480  \\\n",
       "0                         NaN                        NaN   \n",
       "\n",
       "   trade_order_count_sum_480  trade_seconds_in_bucket_count_unique_480  \\\n",
       "0                        NaN                                       NaN   \n",
       "\n",
       "   trade_log_return_realized_volatility_480  trade_log_return_mean_480  \\\n",
       "0                                       NaN                        NaN   \n",
       "\n",
       "   trade_log_return_std_480  trade_log_return_sum_480  row_id  \n",
       "0                       NaN                       NaN     0-4  \n",
       "\n",
       "[1 rows x 75 columns]"
      ]
     },
     "execution_count": 12,
     "metadata": {},
     "output_type": "execute_result"
    }
   ],
   "source": [
    "trade_test_df = process_trade_data('../input/optiver-realized-volatility-prediction/trade_test.parquet/*')\n",
    "print(f\"trade_test_df: {trade_test_df.shape}\")\n",
    "trade_test_df.head()"
   ]
  },
  {
   "cell_type": "code",
   "execution_count": 13,
   "id": "fitting-judge",
   "metadata": {
    "execution": {
     "iopub.execute_input": "2021-08-28T03:52:03.683236Z",
     "iopub.status.busy": "2021-08-28T03:52:03.682058Z",
     "iopub.status.idle": "2021-08-28T03:52:03.731677Z",
     "shell.execute_reply": "2021-08-28T03:52:03.732208Z",
     "shell.execute_reply.started": "2021-08-27T12:25:21.142662Z"
    },
    "papermill": {
     "duration": 0.106831,
     "end_time": "2021-08-28T03:52:03.732446",
     "exception": false,
     "start_time": "2021-08-28T03:52:03.625615",
     "status": "completed"
    },
    "tags": []
   },
   "outputs": [
    {
     "name": "stdout",
     "output_type": "stream",
     "text": [
      "test_df: (3, 77)\n"
     ]
    },
    {
     "data": {
      "text/html": [
       "<div>\n",
       "<style scoped>\n",
       "    .dataframe tbody tr th:only-of-type {\n",
       "        vertical-align: middle;\n",
       "    }\n",
       "\n",
       "    .dataframe tbody tr th {\n",
       "        vertical-align: top;\n",
       "    }\n",
       "\n",
       "    .dataframe thead th {\n",
       "        text-align: right;\n",
       "    }\n",
       "</style>\n",
       "<table border=\"1\" class=\"dataframe\">\n",
       "  <thead>\n",
       "    <tr style=\"text-align: right;\">\n",
       "      <th></th>\n",
       "      <th>stock_id</th>\n",
       "      <th>time_id</th>\n",
       "      <th>row_id</th>\n",
       "      <th>trade_price_mean</th>\n",
       "      <th>trade_price_std</th>\n",
       "      <th>trade_price_sum</th>\n",
       "      <th>trade_size_mean</th>\n",
       "      <th>trade_size_std</th>\n",
       "      <th>trade_size_sum</th>\n",
       "      <th>trade_order_count_mean</th>\n",
       "      <th>...</th>\n",
       "      <th>trade_size_std_480</th>\n",
       "      <th>trade_size_sum_480</th>\n",
       "      <th>trade_order_count_mean_480</th>\n",
       "      <th>trade_order_count_std_480</th>\n",
       "      <th>trade_order_count_sum_480</th>\n",
       "      <th>trade_seconds_in_bucket_count_unique_480</th>\n",
       "      <th>trade_log_return_realized_volatility_480</th>\n",
       "      <th>trade_log_return_mean_480</th>\n",
       "      <th>trade_log_return_std_480</th>\n",
       "      <th>trade_log_return_sum_480</th>\n",
       "    </tr>\n",
       "  </thead>\n",
       "  <tbody>\n",
       "    <tr>\n",
       "      <th>0</th>\n",
       "      <td>0</td>\n",
       "      <td>4</td>\n",
       "      <td>0-4</td>\n",
       "      <td>1.000151</td>\n",
       "      <td>0.000168</td>\n",
       "      <td>3.000452</td>\n",
       "      <td>67.0</td>\n",
       "      <td>57.157677</td>\n",
       "      <td>201.0</td>\n",
       "      <td>3.666667</td>\n",
       "      <td>...</td>\n",
       "      <td>NaN</td>\n",
       "      <td>NaN</td>\n",
       "      <td>NaN</td>\n",
       "      <td>NaN</td>\n",
       "      <td>NaN</td>\n",
       "      <td>NaN</td>\n",
       "      <td>NaN</td>\n",
       "      <td>NaN</td>\n",
       "      <td>NaN</td>\n",
       "      <td>NaN</td>\n",
       "    </tr>\n",
       "    <tr>\n",
       "      <th>1</th>\n",
       "      <td>0</td>\n",
       "      <td>32</td>\n",
       "      <td>0-32</td>\n",
       "      <td>NaN</td>\n",
       "      <td>NaN</td>\n",
       "      <td>NaN</td>\n",
       "      <td>NaN</td>\n",
       "      <td>NaN</td>\n",
       "      <td>NaN</td>\n",
       "      <td>NaN</td>\n",
       "      <td>...</td>\n",
       "      <td>NaN</td>\n",
       "      <td>NaN</td>\n",
       "      <td>NaN</td>\n",
       "      <td>NaN</td>\n",
       "      <td>NaN</td>\n",
       "      <td>NaN</td>\n",
       "      <td>NaN</td>\n",
       "      <td>NaN</td>\n",
       "      <td>NaN</td>\n",
       "      <td>NaN</td>\n",
       "    </tr>\n",
       "    <tr>\n",
       "      <th>2</th>\n",
       "      <td>0</td>\n",
       "      <td>34</td>\n",
       "      <td>0-34</td>\n",
       "      <td>NaN</td>\n",
       "      <td>NaN</td>\n",
       "      <td>NaN</td>\n",
       "      <td>NaN</td>\n",
       "      <td>NaN</td>\n",
       "      <td>NaN</td>\n",
       "      <td>NaN</td>\n",
       "      <td>...</td>\n",
       "      <td>NaN</td>\n",
       "      <td>NaN</td>\n",
       "      <td>NaN</td>\n",
       "      <td>NaN</td>\n",
       "      <td>NaN</td>\n",
       "      <td>NaN</td>\n",
       "      <td>NaN</td>\n",
       "      <td>NaN</td>\n",
       "      <td>NaN</td>\n",
       "      <td>NaN</td>\n",
       "    </tr>\n",
       "  </tbody>\n",
       "</table>\n",
       "<p>3 rows × 77 columns</p>\n",
       "</div>"
      ],
      "text/plain": [
       "   stock_id  time_id row_id  trade_price_mean  trade_price_std  \\\n",
       "0         0        4    0-4          1.000151         0.000168   \n",
       "1         0       32   0-32               NaN              NaN   \n",
       "2         0       34   0-34               NaN              NaN   \n",
       "\n",
       "   trade_price_sum  trade_size_mean  trade_size_std  trade_size_sum  \\\n",
       "0         3.000452             67.0       57.157677           201.0   \n",
       "1              NaN              NaN             NaN             NaN   \n",
       "2              NaN              NaN             NaN             NaN   \n",
       "\n",
       "   trade_order_count_mean  ...  trade_size_std_480  trade_size_sum_480  \\\n",
       "0                3.666667  ...                 NaN                 NaN   \n",
       "1                     NaN  ...                 NaN                 NaN   \n",
       "2                     NaN  ...                 NaN                 NaN   \n",
       "\n",
       "   trade_order_count_mean_480  trade_order_count_std_480  \\\n",
       "0                         NaN                        NaN   \n",
       "1                         NaN                        NaN   \n",
       "2                         NaN                        NaN   \n",
       "\n",
       "   trade_order_count_sum_480  trade_seconds_in_bucket_count_unique_480  \\\n",
       "0                        NaN                                       NaN   \n",
       "1                        NaN                                       NaN   \n",
       "2                        NaN                                       NaN   \n",
       "\n",
       "   trade_log_return_realized_volatility_480  trade_log_return_mean_480  \\\n",
       "0                                       NaN                        NaN   \n",
       "1                                       NaN                        NaN   \n",
       "2                                       NaN                        NaN   \n",
       "\n",
       "   trade_log_return_std_480  trade_log_return_sum_480  \n",
       "0                       NaN                       NaN  \n",
       "1                       NaN                       NaN  \n",
       "2                       NaN                       NaN  \n",
       "\n",
       "[3 rows x 77 columns]"
      ]
     },
     "execution_count": 13,
     "metadata": {},
     "output_type": "execute_result"
    }
   ],
   "source": [
    "test_df = pd.merge(test_df, trade_test_df, \n",
    "                   how='left', on='row_id', \n",
    "                   sort=False)\n",
    "\n",
    "#test_df.fillna(0, inplace=True)\n",
    "print(f\"test_df: {test_df.shape}\")\n",
    "test_df.head()"
   ]
  },
  {
   "cell_type": "markdown",
   "id": "hybrid-native",
   "metadata": {
    "papermill": {
     "duration": 0.045628,
     "end_time": "2021-08-28T03:52:03.824627",
     "exception": false,
     "start_time": "2021-08-28T03:52:03.778999",
     "status": "completed"
    },
    "tags": []
   },
   "source": [
    "### Book data"
   ]
  },
  {
   "cell_type": "code",
   "execution_count": 14,
   "id": "natural-transportation",
   "metadata": {
    "execution": {
     "iopub.execute_input": "2021-08-28T03:52:03.923646Z",
     "iopub.status.busy": "2021-08-28T03:52:03.922908Z",
     "iopub.status.idle": "2021-08-28T03:52:04.646641Z",
     "shell.execute_reply": "2021-08-28T03:52:04.645887Z",
     "shell.execute_reply.started": "2021-08-27T12:25:21.19023Z"
    },
    "papermill": {
     "duration": 0.77578,
     "end_time": "2021-08-28T03:52:04.646814",
     "exception": false,
     "start_time": "2021-08-28T03:52:03.871034",
     "status": "completed"
    },
    "tags": []
   },
   "outputs": [
    {
     "name": "stderr",
     "output_type": "stream",
     "text": [
      "100%|██████████| 1/1 [00:00<00:00,  2.48it/s]\n"
     ]
    },
    {
     "name": "stdout",
     "output_type": "stream",
     "text": [
      "book_test_df: (1, 280)\n"
     ]
    },
    {
     "data": {
      "text/html": [
       "<div>\n",
       "<style scoped>\n",
       "    .dataframe tbody tr th:only-of-type {\n",
       "        vertical-align: middle;\n",
       "    }\n",
       "\n",
       "    .dataframe tbody tr th {\n",
       "        vertical-align: top;\n",
       "    }\n",
       "\n",
       "    .dataframe thead th {\n",
       "        text-align: right;\n",
       "    }\n",
       "</style>\n",
       "<table border=\"1\" class=\"dataframe\">\n",
       "  <thead>\n",
       "    <tr style=\"text-align: right;\">\n",
       "      <th></th>\n",
       "      <th>book_wap1_mean</th>\n",
       "      <th>book_wap1_std</th>\n",
       "      <th>book_wap1_sum</th>\n",
       "      <th>book_wap2_mean</th>\n",
       "      <th>book_wap2_std</th>\n",
       "      <th>book_wap2_sum</th>\n",
       "      <th>book_wap3_mean</th>\n",
       "      <th>book_wap3_std</th>\n",
       "      <th>book_wap3_sum</th>\n",
       "      <th>book_wap4_mean</th>\n",
       "      <th>...</th>\n",
       "      <th>book_bid_ask_spread2_mean_480</th>\n",
       "      <th>book_bid_ask_spread2_std_480</th>\n",
       "      <th>book_bid_ask_spread2_sum_480</th>\n",
       "      <th>book_total_volume_mean_480</th>\n",
       "      <th>book_total_volume_std_480</th>\n",
       "      <th>book_total_volume_sum_480</th>\n",
       "      <th>book_volume_imbalance_mean_480</th>\n",
       "      <th>book_volume_imbalance_std_480</th>\n",
       "      <th>book_volume_imbalance_sum_480</th>\n",
       "      <th>row_id</th>\n",
       "    </tr>\n",
       "  </thead>\n",
       "  <tbody>\n",
       "    <tr>\n",
       "      <th>0</th>\n",
       "      <td>1.000405</td>\n",
       "      <td>0.00017</td>\n",
       "      <td>3.001215</td>\n",
       "      <td>1.00055</td>\n",
       "      <td>0.000153</td>\n",
       "      <td>3.00165</td>\n",
       "      <td>1.000251</td>\n",
       "      <td>0.000142</td>\n",
       "      <td>3.000752</td>\n",
       "      <td>0.999827</td>\n",
       "      <td>...</td>\n",
       "      <td>NaN</td>\n",
       "      <td>NaN</td>\n",
       "      <td>NaN</td>\n",
       "      <td>NaN</td>\n",
       "      <td>NaN</td>\n",
       "      <td>NaN</td>\n",
       "      <td>NaN</td>\n",
       "      <td>NaN</td>\n",
       "      <td>NaN</td>\n",
       "      <td>0-4</td>\n",
       "    </tr>\n",
       "  </tbody>\n",
       "</table>\n",
       "<p>1 rows × 280 columns</p>\n",
       "</div>"
      ],
      "text/plain": [
       "   book_wap1_mean  book_wap1_std  book_wap1_sum  book_wap2_mean  \\\n",
       "0        1.000405        0.00017       3.001215         1.00055   \n",
       "\n",
       "   book_wap2_std  book_wap2_sum  book_wap3_mean  book_wap3_std  book_wap3_sum  \\\n",
       "0       0.000153        3.00165        1.000251       0.000142       3.000752   \n",
       "\n",
       "   book_wap4_mean  ...  book_bid_ask_spread2_mean_480  \\\n",
       "0        0.999827  ...                            NaN   \n",
       "\n",
       "   book_bid_ask_spread2_std_480  book_bid_ask_spread2_sum_480  \\\n",
       "0                           NaN                           NaN   \n",
       "\n",
       "   book_total_volume_mean_480  book_total_volume_std_480  \\\n",
       "0                         NaN                        NaN   \n",
       "\n",
       "   book_total_volume_sum_480  book_volume_imbalance_mean_480  \\\n",
       "0                        NaN                             NaN   \n",
       "\n",
       "   book_volume_imbalance_std_480  book_volume_imbalance_sum_480  row_id  \n",
       "0                            NaN                            NaN     0-4  \n",
       "\n",
       "[1 rows x 280 columns]"
      ]
     },
     "execution_count": 14,
     "metadata": {},
     "output_type": "execute_result"
    }
   ],
   "source": [
    "book_test_df = process_book_data('../input/optiver-realized-volatility-prediction/book_test.parquet/*')\n",
    "print(f\"book_test_df: {book_test_df.shape}\")\n",
    "book_test_df.head()"
   ]
  },
  {
   "cell_type": "code",
   "execution_count": 15,
   "id": "professional-speaker",
   "metadata": {
    "execution": {
     "iopub.execute_input": "2021-08-28T03:52:04.762432Z",
     "iopub.status.busy": "2021-08-28T03:52:04.761271Z",
     "iopub.status.idle": "2021-08-28T03:52:04.818297Z",
     "shell.execute_reply": "2021-08-28T03:52:04.817705Z",
     "shell.execute_reply.started": "2021-08-27T12:25:21.753521Z"
    },
    "papermill": {
     "duration": 0.117594,
     "end_time": "2021-08-28T03:52:04.818490",
     "exception": false,
     "start_time": "2021-08-28T03:52:04.700896",
     "status": "completed"
    },
    "tags": []
   },
   "outputs": [
    {
     "name": "stdout",
     "output_type": "stream",
     "text": [
      "test_df: (3, 356)\n"
     ]
    },
    {
     "data": {
      "text/html": [
       "<div>\n",
       "<style scoped>\n",
       "    .dataframe tbody tr th:only-of-type {\n",
       "        vertical-align: middle;\n",
       "    }\n",
       "\n",
       "    .dataframe tbody tr th {\n",
       "        vertical-align: top;\n",
       "    }\n",
       "\n",
       "    .dataframe thead th {\n",
       "        text-align: right;\n",
       "    }\n",
       "</style>\n",
       "<table border=\"1\" class=\"dataframe\">\n",
       "  <thead>\n",
       "    <tr style=\"text-align: right;\">\n",
       "      <th></th>\n",
       "      <th>stock_id</th>\n",
       "      <th>time_id</th>\n",
       "      <th>row_id</th>\n",
       "      <th>trade_price_mean</th>\n",
       "      <th>trade_price_std</th>\n",
       "      <th>trade_price_sum</th>\n",
       "      <th>trade_size_mean</th>\n",
       "      <th>trade_size_std</th>\n",
       "      <th>trade_size_sum</th>\n",
       "      <th>trade_order_count_mean</th>\n",
       "      <th>...</th>\n",
       "      <th>book_bid_ask_spread1_sum_480</th>\n",
       "      <th>book_bid_ask_spread2_mean_480</th>\n",
       "      <th>book_bid_ask_spread2_std_480</th>\n",
       "      <th>book_bid_ask_spread2_sum_480</th>\n",
       "      <th>book_total_volume_mean_480</th>\n",
       "      <th>book_total_volume_std_480</th>\n",
       "      <th>book_total_volume_sum_480</th>\n",
       "      <th>book_volume_imbalance_mean_480</th>\n",
       "      <th>book_volume_imbalance_std_480</th>\n",
       "      <th>book_volume_imbalance_sum_480</th>\n",
       "    </tr>\n",
       "  </thead>\n",
       "  <tbody>\n",
       "    <tr>\n",
       "      <th>0</th>\n",
       "      <td>0</td>\n",
       "      <td>4</td>\n",
       "      <td>0-4</td>\n",
       "      <td>1.000151</td>\n",
       "      <td>0.000168</td>\n",
       "      <td>3.000452</td>\n",
       "      <td>67.0</td>\n",
       "      <td>57.157677</td>\n",
       "      <td>201.0</td>\n",
       "      <td>3.666667</td>\n",
       "      <td>...</td>\n",
       "      <td>NaN</td>\n",
       "      <td>NaN</td>\n",
       "      <td>NaN</td>\n",
       "      <td>NaN</td>\n",
       "      <td>NaN</td>\n",
       "      <td>NaN</td>\n",
       "      <td>NaN</td>\n",
       "      <td>NaN</td>\n",
       "      <td>NaN</td>\n",
       "      <td>NaN</td>\n",
       "    </tr>\n",
       "    <tr>\n",
       "      <th>1</th>\n",
       "      <td>0</td>\n",
       "      <td>32</td>\n",
       "      <td>0-32</td>\n",
       "      <td>NaN</td>\n",
       "      <td>NaN</td>\n",
       "      <td>NaN</td>\n",
       "      <td>NaN</td>\n",
       "      <td>NaN</td>\n",
       "      <td>NaN</td>\n",
       "      <td>NaN</td>\n",
       "      <td>...</td>\n",
       "      <td>NaN</td>\n",
       "      <td>NaN</td>\n",
       "      <td>NaN</td>\n",
       "      <td>NaN</td>\n",
       "      <td>NaN</td>\n",
       "      <td>NaN</td>\n",
       "      <td>NaN</td>\n",
       "      <td>NaN</td>\n",
       "      <td>NaN</td>\n",
       "      <td>NaN</td>\n",
       "    </tr>\n",
       "    <tr>\n",
       "      <th>2</th>\n",
       "      <td>0</td>\n",
       "      <td>34</td>\n",
       "      <td>0-34</td>\n",
       "      <td>NaN</td>\n",
       "      <td>NaN</td>\n",
       "      <td>NaN</td>\n",
       "      <td>NaN</td>\n",
       "      <td>NaN</td>\n",
       "      <td>NaN</td>\n",
       "      <td>NaN</td>\n",
       "      <td>...</td>\n",
       "      <td>NaN</td>\n",
       "      <td>NaN</td>\n",
       "      <td>NaN</td>\n",
       "      <td>NaN</td>\n",
       "      <td>NaN</td>\n",
       "      <td>NaN</td>\n",
       "      <td>NaN</td>\n",
       "      <td>NaN</td>\n",
       "      <td>NaN</td>\n",
       "      <td>NaN</td>\n",
       "    </tr>\n",
       "  </tbody>\n",
       "</table>\n",
       "<p>3 rows × 356 columns</p>\n",
       "</div>"
      ],
      "text/plain": [
       "   stock_id  time_id row_id  trade_price_mean  trade_price_std  \\\n",
       "0         0        4    0-4          1.000151         0.000168   \n",
       "1         0       32   0-32               NaN              NaN   \n",
       "2         0       34   0-34               NaN              NaN   \n",
       "\n",
       "   trade_price_sum  trade_size_mean  trade_size_std  trade_size_sum  \\\n",
       "0         3.000452             67.0       57.157677           201.0   \n",
       "1              NaN              NaN             NaN             NaN   \n",
       "2              NaN              NaN             NaN             NaN   \n",
       "\n",
       "   trade_order_count_mean  ...  book_bid_ask_spread1_sum_480  \\\n",
       "0                3.666667  ...                           NaN   \n",
       "1                     NaN  ...                           NaN   \n",
       "2                     NaN  ...                           NaN   \n",
       "\n",
       "   book_bid_ask_spread2_mean_480  book_bid_ask_spread2_std_480  \\\n",
       "0                            NaN                           NaN   \n",
       "1                            NaN                           NaN   \n",
       "2                            NaN                           NaN   \n",
       "\n",
       "   book_bid_ask_spread2_sum_480  book_total_volume_mean_480  \\\n",
       "0                           NaN                         NaN   \n",
       "1                           NaN                         NaN   \n",
       "2                           NaN                         NaN   \n",
       "\n",
       "   book_total_volume_std_480  book_total_volume_sum_480  \\\n",
       "0                        NaN                        NaN   \n",
       "1                        NaN                        NaN   \n",
       "2                        NaN                        NaN   \n",
       "\n",
       "   book_volume_imbalance_mean_480  book_volume_imbalance_std_480  \\\n",
       "0                             NaN                            NaN   \n",
       "1                             NaN                            NaN   \n",
       "2                             NaN                            NaN   \n",
       "\n",
       "   book_volume_imbalance_sum_480  \n",
       "0                            NaN  \n",
       "1                            NaN  \n",
       "2                            NaN  \n",
       "\n",
       "[3 rows x 356 columns]"
      ]
     },
     "execution_count": 15,
     "metadata": {},
     "output_type": "execute_result"
    }
   ],
   "source": [
    "test_df = pd.merge(test_df, book_test_df, \n",
    "                   how='left', on='row_id', \n",
    "                   sort=False)\n",
    "\n",
    "#test_df.fillna(0, inplace=True)\n",
    "print(f\"test_df: {test_df.shape}\")\n",
    "test_df.head()"
   ]
  },
  {
   "cell_type": "markdown",
   "id": "silent-income",
   "metadata": {
    "papermill": {
     "duration": 0.049552,
     "end_time": "2021-08-28T03:52:04.923567",
     "exception": false,
     "start_time": "2021-08-28T03:52:04.874015",
     "status": "completed"
    },
    "tags": []
   },
   "source": [
    "### Group features"
   ]
  },
  {
   "cell_type": "code",
   "execution_count": 16,
   "id": "freelance-christian",
   "metadata": {
    "execution": {
     "iopub.execute_input": "2021-08-28T03:52:05.029151Z",
     "iopub.status.busy": "2021-08-28T03:52:05.028227Z",
     "iopub.status.idle": "2021-08-28T03:52:05.033016Z",
     "shell.execute_reply": "2021-08-28T03:52:05.032484Z",
     "shell.execute_reply.started": "2021-08-27T12:25:21.809682Z"
    },
    "papermill": {
     "duration": 0.059999,
     "end_time": "2021-08-28T03:52:05.033153",
     "exception": false,
     "start_time": "2021-08-28T03:52:04.973154",
     "status": "completed"
    },
    "tags": []
   },
   "outputs": [
    {
     "data": {
      "text/plain": [
       "25"
      ]
     },
     "execution_count": 16,
     "metadata": {},
     "output_type": "execute_result"
    }
   ],
   "source": [
    "vol_cols = []\n",
    "for col in test_df.columns:\n",
    "    if 'realized_volatility' in col:\n",
    "        vol_cols.append(col)\n",
    "\n",
    "len(vol_cols)"
   ]
  },
  {
   "cell_type": "code",
   "execution_count": 17,
   "id": "settled-blind",
   "metadata": {
    "execution": {
     "iopub.execute_input": "2021-08-28T03:52:05.138279Z",
     "iopub.status.busy": "2021-08-28T03:52:05.137296Z",
     "iopub.status.idle": "2021-08-28T03:52:05.249582Z",
     "shell.execute_reply": "2021-08-28T03:52:05.248784Z",
     "shell.execute_reply.started": "2021-08-27T12:25:21.818314Z"
    },
    "papermill": {
     "duration": 0.167377,
     "end_time": "2021-08-28T03:52:05.249726",
     "exception": false,
     "start_time": "2021-08-28T03:52:05.082349",
     "status": "completed"
    },
    "tags": []
   },
   "outputs": [
    {
     "data": {
      "text/html": [
       "<div>\n",
       "<style scoped>\n",
       "    .dataframe tbody tr th:only-of-type {\n",
       "        vertical-align: middle;\n",
       "    }\n",
       "\n",
       "    .dataframe tbody tr th {\n",
       "        vertical-align: top;\n",
       "    }\n",
       "\n",
       "    .dataframe thead th {\n",
       "        text-align: right;\n",
       "    }\n",
       "</style>\n",
       "<table border=\"1\" class=\"dataframe\">\n",
       "  <thead>\n",
       "    <tr style=\"text-align: right;\">\n",
       "      <th></th>\n",
       "      <th>stock_id__stock</th>\n",
       "      <th>trade_log_return_realized_volatility_mean_stock</th>\n",
       "      <th>trade_log_return_realized_volatility_std_stock</th>\n",
       "      <th>trade_log_return_realized_volatility_max_stock</th>\n",
       "      <th>trade_log_return_realized_volatility_min_stock</th>\n",
       "      <th>trade_log_return_realized_volatility_sum_stock</th>\n",
       "      <th>trade_log_return_realized_volatility_120_mean_stock</th>\n",
       "      <th>trade_log_return_realized_volatility_120_std_stock</th>\n",
       "      <th>trade_log_return_realized_volatility_120_max_stock</th>\n",
       "      <th>trade_log_return_realized_volatility_120_min_stock</th>\n",
       "      <th>...</th>\n",
       "      <th>book_log_return3_realized_volatility_480_mean_stock</th>\n",
       "      <th>book_log_return3_realized_volatility_480_std_stock</th>\n",
       "      <th>book_log_return3_realized_volatility_480_max_stock</th>\n",
       "      <th>book_log_return3_realized_volatility_480_min_stock</th>\n",
       "      <th>book_log_return3_realized_volatility_480_sum_stock</th>\n",
       "      <th>book_log_return4_realized_volatility_480_mean_stock</th>\n",
       "      <th>book_log_return4_realized_volatility_480_std_stock</th>\n",
       "      <th>book_log_return4_realized_volatility_480_max_stock</th>\n",
       "      <th>book_log_return4_realized_volatility_480_min_stock</th>\n",
       "      <th>book_log_return4_realized_volatility_480_sum_stock</th>\n",
       "    </tr>\n",
       "  </thead>\n",
       "  <tbody>\n",
       "    <tr>\n",
       "      <th>0</th>\n",
       "      <td>0</td>\n",
       "      <td>0.000295</td>\n",
       "      <td>NaN</td>\n",
       "      <td>0.000295</td>\n",
       "      <td>0.000295</td>\n",
       "      <td>0.000295</td>\n",
       "      <td>NaN</td>\n",
       "      <td>NaN</td>\n",
       "      <td>NaN</td>\n",
       "      <td>NaN</td>\n",
       "      <td>...</td>\n",
       "      <td>NaN</td>\n",
       "      <td>NaN</td>\n",
       "      <td>NaN</td>\n",
       "      <td>NaN</td>\n",
       "      <td>0.0</td>\n",
       "      <td>NaN</td>\n",
       "      <td>NaN</td>\n",
       "      <td>NaN</td>\n",
       "      <td>NaN</td>\n",
       "      <td>0.0</td>\n",
       "    </tr>\n",
       "  </tbody>\n",
       "</table>\n",
       "<p>1 rows × 126 columns</p>\n",
       "</div>"
      ],
      "text/plain": [
       "   stock_id__stock  trade_log_return_realized_volatility_mean_stock  \\\n",
       "0                0                                         0.000295   \n",
       "\n",
       "   trade_log_return_realized_volatility_std_stock  \\\n",
       "0                                             NaN   \n",
       "\n",
       "   trade_log_return_realized_volatility_max_stock  \\\n",
       "0                                        0.000295   \n",
       "\n",
       "   trade_log_return_realized_volatility_min_stock  \\\n",
       "0                                        0.000295   \n",
       "\n",
       "   trade_log_return_realized_volatility_sum_stock  \\\n",
       "0                                        0.000295   \n",
       "\n",
       "   trade_log_return_realized_volatility_120_mean_stock  \\\n",
       "0                                                NaN     \n",
       "\n",
       "   trade_log_return_realized_volatility_120_std_stock  \\\n",
       "0                                                NaN    \n",
       "\n",
       "   trade_log_return_realized_volatility_120_max_stock  \\\n",
       "0                                                NaN    \n",
       "\n",
       "   trade_log_return_realized_volatility_120_min_stock  ...  \\\n",
       "0                                                NaN   ...   \n",
       "\n",
       "   book_log_return3_realized_volatility_480_mean_stock  \\\n",
       "0                                                NaN     \n",
       "\n",
       "   book_log_return3_realized_volatility_480_std_stock  \\\n",
       "0                                                NaN    \n",
       "\n",
       "   book_log_return3_realized_volatility_480_max_stock  \\\n",
       "0                                                NaN    \n",
       "\n",
       "   book_log_return3_realized_volatility_480_min_stock  \\\n",
       "0                                                NaN    \n",
       "\n",
       "   book_log_return3_realized_volatility_480_sum_stock  \\\n",
       "0                                                0.0    \n",
       "\n",
       "   book_log_return4_realized_volatility_480_mean_stock  \\\n",
       "0                                                NaN     \n",
       "\n",
       "   book_log_return4_realized_volatility_480_std_stock  \\\n",
       "0                                                NaN    \n",
       "\n",
       "   book_log_return4_realized_volatility_480_max_stock  \\\n",
       "0                                                NaN    \n",
       "\n",
       "   book_log_return4_realized_volatility_480_min_stock  \\\n",
       "0                                                NaN    \n",
       "\n",
       "   book_log_return4_realized_volatility_480_sum_stock  \n",
       "0                                                0.0   \n",
       "\n",
       "[1 rows x 126 columns]"
      ]
     },
     "execution_count": 17,
     "metadata": {},
     "output_type": "execute_result"
    }
   ],
   "source": [
    "df_stock_id = test_df.groupby(['stock_id'])[vol_cols].agg(['mean', 'std', 'max', 'min','sum']).reset_index()\n",
    "df_stock_id.columns = ['_'.join(col) for col in df_stock_id.columns]\n",
    "df_stock_id = df_stock_id.add_suffix('_stock')\n",
    "df_stock_id.head()"
   ]
  },
  {
   "cell_type": "code",
   "execution_count": 18,
   "id": "different-petite",
   "metadata": {
    "execution": {
     "iopub.execute_input": "2021-08-28T03:52:05.433682Z",
     "iopub.status.busy": "2021-08-28T03:52:05.389505Z",
     "iopub.status.idle": "2021-08-28T03:52:05.464452Z",
     "shell.execute_reply": "2021-08-28T03:52:05.464951Z",
     "shell.execute_reply.started": "2021-08-27T12:25:21.945581Z"
    },
    "papermill": {
     "duration": 0.165598,
     "end_time": "2021-08-28T03:52:05.465187",
     "exception": false,
     "start_time": "2021-08-28T03:52:05.299589",
     "status": "completed"
    },
    "tags": []
   },
   "outputs": [
    {
     "data": {
      "text/html": [
       "<div>\n",
       "<style scoped>\n",
       "    .dataframe tbody tr th:only-of-type {\n",
       "        vertical-align: middle;\n",
       "    }\n",
       "\n",
       "    .dataframe tbody tr th {\n",
       "        vertical-align: top;\n",
       "    }\n",
       "\n",
       "    .dataframe thead th {\n",
       "        text-align: right;\n",
       "    }\n",
       "</style>\n",
       "<table border=\"1\" class=\"dataframe\">\n",
       "  <thead>\n",
       "    <tr style=\"text-align: right;\">\n",
       "      <th></th>\n",
       "      <th>time_id__time</th>\n",
       "      <th>trade_log_return_realized_volatility_mean_time</th>\n",
       "      <th>trade_log_return_realized_volatility_std_time</th>\n",
       "      <th>trade_log_return_realized_volatility_max_time</th>\n",
       "      <th>trade_log_return_realized_volatility_min_time</th>\n",
       "      <th>trade_log_return_realized_volatility_sum_time</th>\n",
       "      <th>trade_log_return_realized_volatility_120_mean_time</th>\n",
       "      <th>trade_log_return_realized_volatility_120_std_time</th>\n",
       "      <th>trade_log_return_realized_volatility_120_max_time</th>\n",
       "      <th>trade_log_return_realized_volatility_120_min_time</th>\n",
       "      <th>...</th>\n",
       "      <th>book_log_return3_realized_volatility_480_mean_time</th>\n",
       "      <th>book_log_return3_realized_volatility_480_std_time</th>\n",
       "      <th>book_log_return3_realized_volatility_480_max_time</th>\n",
       "      <th>book_log_return3_realized_volatility_480_min_time</th>\n",
       "      <th>book_log_return3_realized_volatility_480_sum_time</th>\n",
       "      <th>book_log_return4_realized_volatility_480_mean_time</th>\n",
       "      <th>book_log_return4_realized_volatility_480_std_time</th>\n",
       "      <th>book_log_return4_realized_volatility_480_max_time</th>\n",
       "      <th>book_log_return4_realized_volatility_480_min_time</th>\n",
       "      <th>book_log_return4_realized_volatility_480_sum_time</th>\n",
       "    </tr>\n",
       "  </thead>\n",
       "  <tbody>\n",
       "    <tr>\n",
       "      <th>0</th>\n",
       "      <td>4</td>\n",
       "      <td>0.000295</td>\n",
       "      <td>NaN</td>\n",
       "      <td>0.000295</td>\n",
       "      <td>0.000295</td>\n",
       "      <td>0.000295</td>\n",
       "      <td>NaN</td>\n",
       "      <td>NaN</td>\n",
       "      <td>NaN</td>\n",
       "      <td>NaN</td>\n",
       "      <td>...</td>\n",
       "      <td>NaN</td>\n",
       "      <td>NaN</td>\n",
       "      <td>NaN</td>\n",
       "      <td>NaN</td>\n",
       "      <td>0.0</td>\n",
       "      <td>NaN</td>\n",
       "      <td>NaN</td>\n",
       "      <td>NaN</td>\n",
       "      <td>NaN</td>\n",
       "      <td>0.0</td>\n",
       "    </tr>\n",
       "    <tr>\n",
       "      <th>1</th>\n",
       "      <td>32</td>\n",
       "      <td>NaN</td>\n",
       "      <td>NaN</td>\n",
       "      <td>NaN</td>\n",
       "      <td>NaN</td>\n",
       "      <td>0.000000</td>\n",
       "      <td>NaN</td>\n",
       "      <td>NaN</td>\n",
       "      <td>NaN</td>\n",
       "      <td>NaN</td>\n",
       "      <td>...</td>\n",
       "      <td>NaN</td>\n",
       "      <td>NaN</td>\n",
       "      <td>NaN</td>\n",
       "      <td>NaN</td>\n",
       "      <td>0.0</td>\n",
       "      <td>NaN</td>\n",
       "      <td>NaN</td>\n",
       "      <td>NaN</td>\n",
       "      <td>NaN</td>\n",
       "      <td>0.0</td>\n",
       "    </tr>\n",
       "    <tr>\n",
       "      <th>2</th>\n",
       "      <td>34</td>\n",
       "      <td>NaN</td>\n",
       "      <td>NaN</td>\n",
       "      <td>NaN</td>\n",
       "      <td>NaN</td>\n",
       "      <td>0.000000</td>\n",
       "      <td>NaN</td>\n",
       "      <td>NaN</td>\n",
       "      <td>NaN</td>\n",
       "      <td>NaN</td>\n",
       "      <td>...</td>\n",
       "      <td>NaN</td>\n",
       "      <td>NaN</td>\n",
       "      <td>NaN</td>\n",
       "      <td>NaN</td>\n",
       "      <td>0.0</td>\n",
       "      <td>NaN</td>\n",
       "      <td>NaN</td>\n",
       "      <td>NaN</td>\n",
       "      <td>NaN</td>\n",
       "      <td>0.0</td>\n",
       "    </tr>\n",
       "  </tbody>\n",
       "</table>\n",
       "<p>3 rows × 126 columns</p>\n",
       "</div>"
      ],
      "text/plain": [
       "   time_id__time  trade_log_return_realized_volatility_mean_time  \\\n",
       "0              4                                        0.000295   \n",
       "1             32                                             NaN   \n",
       "2             34                                             NaN   \n",
       "\n",
       "   trade_log_return_realized_volatility_std_time  \\\n",
       "0                                            NaN   \n",
       "1                                            NaN   \n",
       "2                                            NaN   \n",
       "\n",
       "   trade_log_return_realized_volatility_max_time  \\\n",
       "0                                       0.000295   \n",
       "1                                            NaN   \n",
       "2                                            NaN   \n",
       "\n",
       "   trade_log_return_realized_volatility_min_time  \\\n",
       "0                                       0.000295   \n",
       "1                                            NaN   \n",
       "2                                            NaN   \n",
       "\n",
       "   trade_log_return_realized_volatility_sum_time  \\\n",
       "0                                       0.000295   \n",
       "1                                       0.000000   \n",
       "2                                       0.000000   \n",
       "\n",
       "   trade_log_return_realized_volatility_120_mean_time  \\\n",
       "0                                                NaN    \n",
       "1                                                NaN    \n",
       "2                                                NaN    \n",
       "\n",
       "   trade_log_return_realized_volatility_120_std_time  \\\n",
       "0                                                NaN   \n",
       "1                                                NaN   \n",
       "2                                                NaN   \n",
       "\n",
       "   trade_log_return_realized_volatility_120_max_time  \\\n",
       "0                                                NaN   \n",
       "1                                                NaN   \n",
       "2                                                NaN   \n",
       "\n",
       "   trade_log_return_realized_volatility_120_min_time  ...  \\\n",
       "0                                                NaN  ...   \n",
       "1                                                NaN  ...   \n",
       "2                                                NaN  ...   \n",
       "\n",
       "   book_log_return3_realized_volatility_480_mean_time  \\\n",
       "0                                                NaN    \n",
       "1                                                NaN    \n",
       "2                                                NaN    \n",
       "\n",
       "   book_log_return3_realized_volatility_480_std_time  \\\n",
       "0                                                NaN   \n",
       "1                                                NaN   \n",
       "2                                                NaN   \n",
       "\n",
       "   book_log_return3_realized_volatility_480_max_time  \\\n",
       "0                                                NaN   \n",
       "1                                                NaN   \n",
       "2                                                NaN   \n",
       "\n",
       "   book_log_return3_realized_volatility_480_min_time  \\\n",
       "0                                                NaN   \n",
       "1                                                NaN   \n",
       "2                                                NaN   \n",
       "\n",
       "   book_log_return3_realized_volatility_480_sum_time  \\\n",
       "0                                                0.0   \n",
       "1                                                0.0   \n",
       "2                                                0.0   \n",
       "\n",
       "   book_log_return4_realized_volatility_480_mean_time  \\\n",
       "0                                                NaN    \n",
       "1                                                NaN    \n",
       "2                                                NaN    \n",
       "\n",
       "   book_log_return4_realized_volatility_480_std_time  \\\n",
       "0                                                NaN   \n",
       "1                                                NaN   \n",
       "2                                                NaN   \n",
       "\n",
       "   book_log_return4_realized_volatility_480_max_time  \\\n",
       "0                                                NaN   \n",
       "1                                                NaN   \n",
       "2                                                NaN   \n",
       "\n",
       "   book_log_return4_realized_volatility_480_min_time  \\\n",
       "0                                                NaN   \n",
       "1                                                NaN   \n",
       "2                                                NaN   \n",
       "\n",
       "   book_log_return4_realized_volatility_480_sum_time  \n",
       "0                                                0.0  \n",
       "1                                                0.0  \n",
       "2                                                0.0  \n",
       "\n",
       "[3 rows x 126 columns]"
      ]
     },
     "execution_count": 18,
     "metadata": {},
     "output_type": "execute_result"
    }
   ],
   "source": [
    "df_time_id = test_df.groupby(['time_id'])[vol_cols].agg(['mean', 'std', 'max', 'min','sum']).reset_index()\n",
    "df_time_id.columns = ['_'.join(col) for col in df_time_id.columns]\n",
    "df_time_id = df_time_id.add_suffix('_time')\n",
    "df_time_id.head()"
   ]
  },
  {
   "cell_type": "code",
   "execution_count": 19,
   "id": "neural-france",
   "metadata": {
    "execution": {
     "iopub.execute_input": "2021-08-28T03:52:05.585834Z",
     "iopub.status.busy": "2021-08-28T03:52:05.585051Z",
     "iopub.status.idle": "2021-08-28T03:52:05.846751Z",
     "shell.execute_reply": "2021-08-28T03:52:05.845989Z",
     "shell.execute_reply.started": "2021-08-27T12:25:22.072237Z"
    },
    "papermill": {
     "duration": 0.325322,
     "end_time": "2021-08-28T03:52:05.846910",
     "exception": false,
     "start_time": "2021-08-28T03:52:05.521588",
     "status": "completed"
    },
    "tags": []
   },
   "outputs": [
    {
     "name": "stdout",
     "output_type": "stream",
     "text": [
      "test_df: (3, 606)\n"
     ]
    }
   ],
   "source": [
    "test_df = test_df.merge(df_stock_id, how='left', \n",
    "                          left_on=['stock_id'], \n",
    "                          right_on=['stock_id__stock'])\n",
    "\n",
    "test_df = test_df.merge(df_time_id, how='left', \n",
    "                          left_on=['time_id'], \n",
    "                          right_on=['time_id__time'])\n",
    "\n",
    "test_df.drop(['stock_id__stock', 'time_id__time'], \n",
    "              axis = 1, inplace = True)\n",
    "\n",
    "del df_stock_id, df_time_id\n",
    "gc.collect()\n",
    "\n",
    "#test_df.fillna(0, inplace=True)\n",
    "print(f\"test_df: {test_df.shape}\")"
   ]
  },
  {
   "cell_type": "code",
   "execution_count": 20,
   "id": "simple-chambers",
   "metadata": {
    "execution": {
     "iopub.execute_input": "2021-08-28T03:52:05.994494Z",
     "iopub.status.busy": "2021-08-28T03:52:05.966700Z",
     "iopub.status.idle": "2021-08-28T03:52:06.026246Z",
     "shell.execute_reply": "2021-08-28T03:52:06.025397Z",
     "shell.execute_reply.started": "2021-08-27T12:25:22.32174Z"
    },
    "papermill": {
     "duration": 0.123323,
     "end_time": "2021-08-28T03:52:06.026441",
     "exception": false,
     "start_time": "2021-08-28T03:52:05.903118",
     "status": "completed"
    },
    "tags": []
   },
   "outputs": [
    {
     "name": "stdout",
     "output_type": "stream",
     "text": [
      "test_df: (3, 621)\n"
     ]
    },
    {
     "data": {
      "text/html": [
       "<div>\n",
       "<style scoped>\n",
       "    .dataframe tbody tr th:only-of-type {\n",
       "        vertical-align: middle;\n",
       "    }\n",
       "\n",
       "    .dataframe tbody tr th {\n",
       "        vertical-align: top;\n",
       "    }\n",
       "\n",
       "    .dataframe thead th {\n",
       "        text-align: right;\n",
       "    }\n",
       "</style>\n",
       "<table border=\"1\" class=\"dataframe\">\n",
       "  <thead>\n",
       "    <tr style=\"text-align: right;\">\n",
       "      <th></th>\n",
       "      <th>stock_id</th>\n",
       "      <th>time_id</th>\n",
       "      <th>row_id</th>\n",
       "      <th>trade_price_mean</th>\n",
       "      <th>trade_price_std</th>\n",
       "      <th>trade_price_sum</th>\n",
       "      <th>trade_size_mean</th>\n",
       "      <th>trade_size_std</th>\n",
       "      <th>trade_size_sum</th>\n",
       "      <th>trade_order_count_mean</th>\n",
       "      <th>...</th>\n",
       "      <th>size_tau2</th>\n",
       "      <th>size_tau2_120</th>\n",
       "      <th>size_tau2_240</th>\n",
       "      <th>size_tau2_360</th>\n",
       "      <th>size_tau2_480</th>\n",
       "      <th>size_tau3</th>\n",
       "      <th>size_tau3_120</th>\n",
       "      <th>size_tau3_240</th>\n",
       "      <th>size_tau3_360</th>\n",
       "      <th>size_tau3_480</th>\n",
       "    </tr>\n",
       "  </thead>\n",
       "  <tbody>\n",
       "    <tr>\n",
       "      <th>0</th>\n",
       "      <td>0</td>\n",
       "      <td>4</td>\n",
       "      <td>0-4</td>\n",
       "      <td>1.000151</td>\n",
       "      <td>0.000168</td>\n",
       "      <td>3.000452</td>\n",
       "      <td>67.0</td>\n",
       "      <td>57.157677</td>\n",
       "      <td>201.0</td>\n",
       "      <td>3.666667</td>\n",
       "      <td>...</td>\n",
       "      <td>0.301511</td>\n",
       "      <td>0.26968</td>\n",
       "      <td>0.23355</td>\n",
       "      <td>0.190693</td>\n",
       "      <td>0.13484</td>\n",
       "      <td>0.522233</td>\n",
       "      <td>0.467099</td>\n",
       "      <td>0.40452</td>\n",
       "      <td>0.330289</td>\n",
       "      <td>0.23355</td>\n",
       "    </tr>\n",
       "    <tr>\n",
       "      <th>1</th>\n",
       "      <td>0</td>\n",
       "      <td>32</td>\n",
       "      <td>0-32</td>\n",
       "      <td>NaN</td>\n",
       "      <td>NaN</td>\n",
       "      <td>NaN</td>\n",
       "      <td>NaN</td>\n",
       "      <td>NaN</td>\n",
       "      <td>NaN</td>\n",
       "      <td>NaN</td>\n",
       "      <td>...</td>\n",
       "      <td>NaN</td>\n",
       "      <td>NaN</td>\n",
       "      <td>NaN</td>\n",
       "      <td>NaN</td>\n",
       "      <td>NaN</td>\n",
       "      <td>NaN</td>\n",
       "      <td>NaN</td>\n",
       "      <td>NaN</td>\n",
       "      <td>NaN</td>\n",
       "      <td>NaN</td>\n",
       "    </tr>\n",
       "    <tr>\n",
       "      <th>2</th>\n",
       "      <td>0</td>\n",
       "      <td>34</td>\n",
       "      <td>0-34</td>\n",
       "      <td>NaN</td>\n",
       "      <td>NaN</td>\n",
       "      <td>NaN</td>\n",
       "      <td>NaN</td>\n",
       "      <td>NaN</td>\n",
       "      <td>NaN</td>\n",
       "      <td>NaN</td>\n",
       "      <td>...</td>\n",
       "      <td>NaN</td>\n",
       "      <td>NaN</td>\n",
       "      <td>NaN</td>\n",
       "      <td>NaN</td>\n",
       "      <td>NaN</td>\n",
       "      <td>NaN</td>\n",
       "      <td>NaN</td>\n",
       "      <td>NaN</td>\n",
       "      <td>NaN</td>\n",
       "      <td>NaN</td>\n",
       "    </tr>\n",
       "  </tbody>\n",
       "</table>\n",
       "<p>3 rows × 621 columns</p>\n",
       "</div>"
      ],
      "text/plain": [
       "   stock_id  time_id row_id  trade_price_mean  trade_price_std  \\\n",
       "0         0        4    0-4          1.000151         0.000168   \n",
       "1         0       32   0-32               NaN              NaN   \n",
       "2         0       34   0-34               NaN              NaN   \n",
       "\n",
       "   trade_price_sum  trade_size_mean  trade_size_std  trade_size_sum  \\\n",
       "0         3.000452             67.0       57.157677           201.0   \n",
       "1              NaN              NaN             NaN             NaN   \n",
       "2              NaN              NaN             NaN             NaN   \n",
       "\n",
       "   trade_order_count_mean  ...  size_tau2  size_tau2_120  size_tau2_240  \\\n",
       "0                3.666667  ...   0.301511        0.26968        0.23355   \n",
       "1                     NaN  ...        NaN            NaN            NaN   \n",
       "2                     NaN  ...        NaN            NaN            NaN   \n",
       "\n",
       "   size_tau2_360  size_tau2_480  size_tau3  size_tau3_120  size_tau3_240  \\\n",
       "0       0.190693        0.13484   0.522233       0.467099        0.40452   \n",
       "1            NaN            NaN        NaN            NaN            NaN   \n",
       "2            NaN            NaN        NaN            NaN            NaN   \n",
       "\n",
       "   size_tau3_360  size_tau3_480  \n",
       "0       0.330289        0.23355  \n",
       "1            NaN            NaN  \n",
       "2            NaN            NaN  \n",
       "\n",
       "[3 rows x 621 columns]"
      ]
     },
     "execution_count": 20,
     "metadata": {},
     "output_type": "execute_result"
    }
   ],
   "source": [
    "test_df['size_tau'] = np.sqrt(1/test_df['trade_seconds_in_bucket_count_unique'])\n",
    "test_df['size_tau_120'] = np.sqrt(1/test_df['trade_seconds_in_bucket_count_unique_120'])\n",
    "test_df['size_tau_240'] = np.sqrt(1/test_df['trade_seconds_in_bucket_count_unique_240'])\n",
    "test_df['size_tau_360'] = np.sqrt(1/test_df['trade_seconds_in_bucket_count_unique_360'])\n",
    "test_df['size_tau_480'] = np.sqrt(1/test_df['trade_seconds_in_bucket_count_unique_480'])\n",
    "\n",
    "test_df['size_tau2'] = np.sqrt(1/test_df['trade_order_count_sum'])\n",
    "test_df['size_tau2_120'] = np.sqrt(0.8/test_df['trade_order_count_sum'])\n",
    "test_df['size_tau2_240'] = np.sqrt(0.6/test_df['trade_order_count_sum'])\n",
    "test_df['size_tau2_360'] = np.sqrt(0.4/test_df['trade_order_count_sum'])\n",
    "test_df['size_tau2_480'] = np.sqrt(0.2/test_df['trade_order_count_sum'])\n",
    "\n",
    "test_df['size_tau3'] = np.sqrt(1/test_df['trade_order_count_mean'])\n",
    "test_df['size_tau3_120'] = np.sqrt(0.8/test_df['trade_order_count_mean'])\n",
    "test_df['size_tau3_240'] = np.sqrt(0.6/test_df['trade_order_count_mean'])\n",
    "test_df['size_tau3_360'] = np.sqrt(0.4/test_df['trade_order_count_mean'])\n",
    "test_df['size_tau3_480'] = np.sqrt(0.2/test_df['trade_order_count_mean'])\n",
    "\n",
    "print(f\"test_df: {test_df.shape}\")\n",
    "test_df.head()"
   ]
  },
  {
   "cell_type": "code",
   "execution_count": 21,
   "id": "italic-savannah",
   "metadata": {
    "execution": {
     "iopub.execute_input": "2021-08-28T03:52:06.149935Z",
     "iopub.status.busy": "2021-08-28T03:52:06.149170Z",
     "iopub.status.idle": "2021-08-28T03:52:06.175213Z",
     "shell.execute_reply": "2021-08-28T03:52:06.175739Z",
     "shell.execute_reply.started": "2021-08-27T12:25:22.381959Z"
    },
    "papermill": {
     "duration": 0.091792,
     "end_time": "2021-08-28T03:52:06.175940",
     "exception": false,
     "start_time": "2021-08-28T03:52:06.084148",
     "status": "completed"
    },
    "tags": []
   },
   "outputs": [
    {
     "name": "stdout",
     "output_type": "stream",
     "text": [
      "test_df: (3, 613)\n"
     ]
    },
    {
     "data": {
      "text/html": [
       "<div>\n",
       "<style scoped>\n",
       "    .dataframe tbody tr th:only-of-type {\n",
       "        vertical-align: middle;\n",
       "    }\n",
       "\n",
       "    .dataframe tbody tr th {\n",
       "        vertical-align: top;\n",
       "    }\n",
       "\n",
       "    .dataframe thead th {\n",
       "        text-align: right;\n",
       "    }\n",
       "</style>\n",
       "<table border=\"1\" class=\"dataframe\">\n",
       "  <thead>\n",
       "    <tr style=\"text-align: right;\">\n",
       "      <th></th>\n",
       "      <th>stock_id</th>\n",
       "      <th>time_id</th>\n",
       "      <th>row_id</th>\n",
       "      <th>trade_price_mean</th>\n",
       "      <th>trade_price_std</th>\n",
       "      <th>trade_price_sum</th>\n",
       "      <th>trade_size_mean</th>\n",
       "      <th>trade_size_std</th>\n",
       "      <th>trade_size_sum</th>\n",
       "      <th>trade_order_count_mean</th>\n",
       "      <th>...</th>\n",
       "      <th>size_tau2</th>\n",
       "      <th>size_tau2_120</th>\n",
       "      <th>size_tau2_240</th>\n",
       "      <th>size_tau2_360</th>\n",
       "      <th>size_tau2_480</th>\n",
       "      <th>size_tau3</th>\n",
       "      <th>size_tau3_120</th>\n",
       "      <th>size_tau3_240</th>\n",
       "      <th>size_tau3_360</th>\n",
       "      <th>size_tau3_480</th>\n",
       "    </tr>\n",
       "  </thead>\n",
       "  <tbody>\n",
       "    <tr>\n",
       "      <th>0</th>\n",
       "      <td>0</td>\n",
       "      <td>4</td>\n",
       "      <td>0-4</td>\n",
       "      <td>1.000151</td>\n",
       "      <td>0.000168</td>\n",
       "      <td>3.000452</td>\n",
       "      <td>67.0</td>\n",
       "      <td>57.157677</td>\n",
       "      <td>201.0</td>\n",
       "      <td>3.666667</td>\n",
       "      <td>...</td>\n",
       "      <td>0.301511</td>\n",
       "      <td>0.26968</td>\n",
       "      <td>0.23355</td>\n",
       "      <td>0.190693</td>\n",
       "      <td>0.13484</td>\n",
       "      <td>0.522233</td>\n",
       "      <td>0.467099</td>\n",
       "      <td>0.40452</td>\n",
       "      <td>0.330289</td>\n",
       "      <td>0.23355</td>\n",
       "    </tr>\n",
       "    <tr>\n",
       "      <th>1</th>\n",
       "      <td>0</td>\n",
       "      <td>32</td>\n",
       "      <td>0-32</td>\n",
       "      <td>NaN</td>\n",
       "      <td>NaN</td>\n",
       "      <td>NaN</td>\n",
       "      <td>NaN</td>\n",
       "      <td>NaN</td>\n",
       "      <td>NaN</td>\n",
       "      <td>NaN</td>\n",
       "      <td>...</td>\n",
       "      <td>NaN</td>\n",
       "      <td>NaN</td>\n",
       "      <td>NaN</td>\n",
       "      <td>NaN</td>\n",
       "      <td>NaN</td>\n",
       "      <td>NaN</td>\n",
       "      <td>NaN</td>\n",
       "      <td>NaN</td>\n",
       "      <td>NaN</td>\n",
       "      <td>NaN</td>\n",
       "    </tr>\n",
       "    <tr>\n",
       "      <th>2</th>\n",
       "      <td>0</td>\n",
       "      <td>34</td>\n",
       "      <td>0-34</td>\n",
       "      <td>NaN</td>\n",
       "      <td>NaN</td>\n",
       "      <td>NaN</td>\n",
       "      <td>NaN</td>\n",
       "      <td>NaN</td>\n",
       "      <td>NaN</td>\n",
       "      <td>NaN</td>\n",
       "      <td>...</td>\n",
       "      <td>NaN</td>\n",
       "      <td>NaN</td>\n",
       "      <td>NaN</td>\n",
       "      <td>NaN</td>\n",
       "      <td>NaN</td>\n",
       "      <td>NaN</td>\n",
       "      <td>NaN</td>\n",
       "      <td>NaN</td>\n",
       "      <td>NaN</td>\n",
       "      <td>NaN</td>\n",
       "    </tr>\n",
       "  </tbody>\n",
       "</table>\n",
       "<p>3 rows × 613 columns</p>\n",
       "</div>"
      ],
      "text/plain": [
       "   stock_id  time_id row_id  trade_price_mean  trade_price_std  \\\n",
       "0         0        4    0-4          1.000151         0.000168   \n",
       "1         0       32   0-32               NaN              NaN   \n",
       "2         0       34   0-34               NaN              NaN   \n",
       "\n",
       "   trade_price_sum  trade_size_mean  trade_size_std  trade_size_sum  \\\n",
       "0         3.000452             67.0       57.157677           201.0   \n",
       "1              NaN              NaN             NaN             NaN   \n",
       "2              NaN              NaN             NaN             NaN   \n",
       "\n",
       "   trade_order_count_mean  ...  size_tau2  size_tau2_120  size_tau2_240  \\\n",
       "0                3.666667  ...   0.301511        0.26968        0.23355   \n",
       "1                     NaN  ...        NaN            NaN            NaN   \n",
       "2                     NaN  ...        NaN            NaN            NaN   \n",
       "\n",
       "   size_tau2_360  size_tau2_480  size_tau3  size_tau3_120  size_tau3_240  \\\n",
       "0       0.190693        0.13484   0.522233       0.467099        0.40452   \n",
       "1            NaN            NaN        NaN            NaN            NaN   \n",
       "2            NaN            NaN        NaN            NaN            NaN   \n",
       "\n",
       "   size_tau3_360  size_tau3_480  \n",
       "0       0.330289        0.23355  \n",
       "1            NaN            NaN  \n",
       "2            NaN            NaN  \n",
       "\n",
       "[3 rows x 613 columns]"
      ]
     },
     "execution_count": 21,
     "metadata": {},
     "output_type": "execute_result"
    }
   ],
   "source": [
    "filter_cols = ['trade_time_id__120', 'trade_time_id__240', 'trade_time_id__360', \n",
    "               'trade_time_id__480', 'book_time_id__120', 'book_time_id__240', \n",
    "               'book_time_id__360', 'book_time_id__480']\n",
    "\n",
    "test_df.drop(filter_cols, axis=1, inplace=True)\n",
    "print(f\"test_df: {test_df.shape}\")\n",
    "test_df.head()"
   ]
  },
  {
   "cell_type": "markdown",
   "id": "synthetic-knowing",
   "metadata": {
    "papermill": {
     "duration": 0.05729,
     "end_time": "2021-08-28T03:52:06.289736",
     "exception": false,
     "start_time": "2021-08-28T03:52:06.232446",
     "status": "completed"
    },
    "tags": []
   },
   "source": [
    "## Additional features"
   ]
  },
  {
   "cell_type": "code",
   "execution_count": 22,
   "id": "documentary-thing",
   "metadata": {
    "execution": {
     "iopub.execute_input": "2021-08-28T03:52:06.411147Z",
     "iopub.status.busy": "2021-08-28T03:52:06.410405Z",
     "iopub.status.idle": "2021-08-28T03:52:12.496887Z",
     "shell.execute_reply": "2021-08-28T03:52:12.495671Z",
     "shell.execute_reply.started": "2021-08-27T12:25:22.418455Z"
    },
    "papermill": {
     "duration": 6.147446,
     "end_time": "2021-08-28T03:52:12.497079",
     "exception": false,
     "start_time": "2021-08-28T03:52:06.349633",
     "status": "completed"
    },
    "tags": []
   },
   "outputs": [
    {
     "name": "stderr",
     "output_type": "stream",
     "text": [
      "100%|██████████| 7/7 [00:04<00:00,  1.66it/s]\n"
     ]
    }
   ],
   "source": [
    "train_p = pd.read_csv('../input/optiver-realized-volatility-prediction/train.csv')\n",
    "train_p = train_p.pivot(index='time_id', columns='stock_id', values='target')\n",
    "\n",
    "corr = train_p.corr()\n",
    "ids = corr.index\n",
    "\n",
    "kmeans = KMeans(n_clusters=7, random_state=0).fit(corr.values)\n",
    "\n",
    "l = []\n",
    "for n in range(7):\n",
    "    l.append([(x-1) for x in ((ids+1)*(kmeans.labels_ == n)) if x > 0])\n",
    "\n",
    "mat = []\n",
    "matTest = []\n",
    "\n",
    "n = 0\n",
    "for ind in tqdm(l):\n",
    "    newDf = train_df.loc[train_df['stock_id'].isin(ind)]\n",
    "    newDf = newDf.groupby(['time_id']).agg(np.nanmean)\n",
    "    newDf.loc[:,'stock_id'] = str(n)+'c1'\n",
    "    mat.append(newDf)\n",
    "    \n",
    "    newDf = test_df.loc[test_df['stock_id'].isin(ind) ]    \n",
    "    newDf = newDf.groupby(['time_id']).agg(np.nanmean)\n",
    "    newDf.loc[:,'stock_id'] = str(n)+'c1'\n",
    "    matTest.append(newDf)\n",
    "    \n",
    "    n+=1\n",
    "    \n",
    "mat1 = pd.concat(mat).reset_index()\n",
    "mat1.drop(columns=['target'],inplace=True)\n",
    "mat2 = pd.concat(matTest).reset_index()\n",
    "\n",
    "mat2 = pd.concat([mat2, mat1.loc[mat1.time_id==5]])\n",
    "mat1 = mat1.pivot(index='time_id', columns='stock_id')\n",
    "mat1.columns = [\"_\".join(x) for x in mat1.columns.ravel()]\n",
    "mat1.reset_index(inplace=True)\n",
    "\n",
    "mat2 = mat2.pivot(index='time_id', columns='stock_id')\n",
    "mat2.columns = [\"_\".join(x) for x in mat2.columns.ravel()]\n",
    "mat2.reset_index(inplace=True)"
   ]
  },
  {
   "cell_type": "code",
   "execution_count": 23,
   "id": "breathing-bunch",
   "metadata": {
    "execution": {
     "iopub.execute_input": "2021-08-28T03:52:12.634856Z",
     "iopub.status.busy": "2021-08-28T03:52:12.633740Z",
     "iopub.status.idle": "2021-08-28T03:53:49.782923Z",
     "shell.execute_reply": "2021-08-28T03:53:49.783587Z",
     "shell.execute_reply.started": "2021-08-27T12:25:28.356756Z"
    },
    "papermill": {
     "duration": 97.225395,
     "end_time": "2021-08-28T03:53:49.783807",
     "exception": false,
     "start_time": "2021-08-28T03:52:12.558412",
     "status": "completed"
    },
    "tags": []
   },
   "outputs": [
    {
     "data": {
      "text/plain": [
       "((428932, 684), (3, 683))"
      ]
     },
     "execution_count": 23,
     "metadata": {},
     "output_type": "execute_result"
    }
   ],
   "source": [
    "nnn = [\n",
    "    'time_id',\n",
    "    'book_log_return1_realized_volatility_0c1',\n",
    "    'book_log_return1_realized_volatility_1c1',\n",
    "    'book_log_return1_realized_volatility_2c1',\n",
    "    'book_log_return1_realized_volatility_3c1',\n",
    "    'book_log_return1_realized_volatility_4c1',\n",
    "    'book_log_return1_realized_volatility_5c1',\n",
    "    'book_log_return1_realized_volatility_6c1',\n",
    "    'book_total_volume_sum_0c1',\n",
    "    'book_total_volume_sum_1c1',\n",
    "    'book_total_volume_sum_2c1',\n",
    "    'book_total_volume_sum_3c1',\n",
    "    'book_total_volume_sum_4c1',\n",
    "    'book_total_volume_sum_5c1',\n",
    "    'book_total_volume_sum_6c1',\n",
    "    'trade_size_sum_0c1',\n",
    "    'trade_size_sum_1c1',\n",
    "    'trade_size_sum_2c1',\n",
    "    'trade_size_sum_3c1',\n",
    "    'trade_size_sum_4c1',\n",
    "    'trade_size_sum_5c1',\n",
    "    'trade_size_sum_6c1',\n",
    "    'trade_order_count_sum_0c1',\n",
    "    'trade_order_count_sum_1c1',\n",
    "    'trade_order_count_sum_2c1',\n",
    "    'trade_order_count_sum_3c1',\n",
    "    'trade_order_count_sum_4c1',\n",
    "    'trade_order_count_sum_5c1',\n",
    "    'trade_order_count_sum_6c1',\n",
    "    'book_price_spread2_sum_0c1',\n",
    "    'book_price_spread2_sum_1c1',\n",
    "    'book_price_spread2_sum_2c1',\n",
    "    'book_price_spread2_sum_3c1',\n",
    "    'book_price_spread2_sum_4c1',\n",
    "    'book_price_spread2_sum_5c1',\n",
    "    'book_price_spread2_sum_6c1',\n",
    "    'book_bid_spread_sum_0c1',\n",
    "    'book_bid_spread_sum_1c1',\n",
    "    'book_bid_spread_sum_2c1',\n",
    "    'book_bid_spread_sum_3c1',\n",
    "    'book_bid_spread_sum_4c1',\n",
    "    'book_bid_spread_sum_5c1',\n",
    "    'book_bid_spread_sum_6c1',\n",
    "    'book_ask_spread_sum_0c1',\n",
    "    'book_ask_spread_sum_1c1',\n",
    "    'book_ask_spread_sum_2c1',\n",
    "    'book_ask_spread_sum_3c1',\n",
    "    'book_ask_spread_sum_4c1',\n",
    "    'book_ask_spread_sum_5c1',\n",
    "    'book_ask_spread_sum_6c1',\n",
    "    'book_volume_imbalance_sum_0c1',\n",
    "    'book_volume_imbalance_sum_1c1',\n",
    "    'book_volume_imbalance_sum_2c1',\n",
    "    'book_volume_imbalance_sum_3c1',\n",
    "    'book_volume_imbalance_sum_4c1',\n",
    "    'book_volume_imbalance_sum_5c1',\n",
    "    'book_volume_imbalance_sum_6c1',\n",
    "    'book_bid_ask_spread2_sum_120_0c1',\n",
    "    'book_bid_ask_spread2_sum_120_1c1',\n",
    "    'book_bid_ask_spread2_sum_120_2c1',\n",
    "    'book_bid_ask_spread2_sum_120_3c1',\n",
    "    'book_bid_ask_spread2_sum_120_4c1',\n",
    "    'book_bid_ask_spread2_sum_120_5c1',\n",
    "    'book_bid_ask_spread2_sum_120_6c1',\n",
    "    'size_tau2_0c1',\n",
    "    'size_tau2_1c1',\n",
    "    'size_tau2_2c1',\n",
    "    'size_tau2_3c1',\n",
    "    'size_tau2_4c1',\n",
    "    'size_tau2_5c1',\n",
    "    'size_tau2_6c1'\n",
    "]\n",
    "\n",
    "train_df = pd.merge(train_df, mat1[nnn], how='left', on='time_id')\n",
    "test_df = pd.merge(test_df, mat2[nnn], how='left', on='time_id')\n",
    "\n",
    "del mat1, mat2\n",
    "gc.collect()\n",
    "\n",
    "train_df.shape, test_df.shape"
   ]
  },
  {
   "cell_type": "markdown",
   "id": "composed-conditions",
   "metadata": {
    "papermill": {
     "duration": 0.061922,
     "end_time": "2021-08-28T03:53:49.911143",
     "exception": false,
     "start_time": "2021-08-28T03:53:49.849221",
     "status": "completed"
    },
    "tags": []
   },
   "source": [
    "## Correlation check"
   ]
  },
  {
   "cell_type": "code",
   "execution_count": 24,
   "id": "unsigned-hygiene",
   "metadata": {
    "execution": {
     "iopub.execute_input": "2021-08-28T03:53:50.036096Z",
     "iopub.status.busy": "2021-08-28T03:53:50.035069Z",
     "iopub.status.idle": "2021-08-28T03:53:50.037463Z",
     "shell.execute_reply": "2021-08-28T03:53:50.036895Z",
     "shell.execute_reply.started": "2021-08-27T12:27:05.846622Z"
    },
    "papermill": {
     "duration": 0.065469,
     "end_time": "2021-08-28T03:53:50.037640",
     "exception": false,
     "start_time": "2021-08-28T03:53:49.972171",
     "status": "completed"
    },
    "tags": []
   },
   "outputs": [],
   "source": [
    "# Get highly correlated columns to remove\n",
    "# df = train_df.loc[:, train_df.columns != 'target'].copy()\n",
    "# cor_matrix = df.corr().abs()\n",
    "# upper_tri = cor_matrix.where(np.triu(np.ones(cor_matrix.shape),k=1).astype(np.bool))\n",
    "# to_drop = [column for column in upper_tri.columns if any(upper_tri[column] > 0.95)]\n",
    "# print(f\"Number of columns to drop: {len(to_drop)}\")"
   ]
  },
  {
   "cell_type": "code",
   "execution_count": 25,
   "id": "foster-census",
   "metadata": {
    "execution": {
     "iopub.execute_input": "2021-08-28T03:53:50.180858Z",
     "iopub.status.busy": "2021-08-28T03:53:50.179930Z",
     "iopub.status.idle": "2021-08-28T03:53:50.183088Z",
     "shell.execute_reply": "2021-08-28T03:53:50.183621Z",
     "shell.execute_reply.started": "2021-08-27T12:38:30.191851Z"
    },
    "papermill": {
     "duration": 0.082796,
     "end_time": "2021-08-28T03:53:50.183823",
     "exception": false,
     "start_time": "2021-08-28T03:53:50.101027",
     "status": "completed"
    },
    "tags": []
   },
   "outputs": [
    {
     "data": {
      "text/plain": [
       "197"
      ]
     },
     "execution_count": 25,
     "metadata": {},
     "output_type": "execute_result"
    }
   ],
   "source": [
    "select_cols = [\n",
    "    'stock_id', 'time_id', 'row_id', 'trade_price_mean', 'trade_price_std', 'trade_price_sum', 'trade_size_mean', 'trade_size_std', 'trade_size_sum', \n",
    "    'trade_order_count_mean', 'trade_order_count_std', 'trade_order_count_sum', 'trade_log_return_realized_volatility', 'trade_log_return_mean', \n",
    "    'trade_log_return_std', 'trade_log_return_sum', 'trade_order_count_std_120', 'trade_log_return_mean_120', 'trade_log_return_sum_120', 'trade_price_std_240', \n",
    "    'trade_size_mean_240', 'trade_order_count_std_240', 'trade_log_return_mean_240', 'trade_log_return_sum_240', 'trade_price_std_360', 'trade_size_mean_360', \n",
    "    'trade_size_std_360', 'trade_order_count_mean_360', 'trade_order_count_std_360', 'trade_log_return_mean_360', 'trade_log_return_sum_360', 'trade_price_std_480', \n",
    "    'trade_size_mean_480', 'trade_size_std_480', 'trade_size_sum_480', 'trade_order_count_mean_480', 'trade_order_count_std_480', \n",
    "    'trade_log_return_realized_volatility_480', 'trade_log_return_mean_480', 'trade_log_return_std_480', 'trade_log_return_sum_480', 'book_wap1_sum', \n",
    "    'book_log_return1_realized_volatility', 'book_log_return1_mean', 'book_log_return3_mean', 'book_log_return4_mean', 'book_wap_balance_mean', \n",
    "    'book_wap_balance_sum', 'book_price_spread1_std', 'book_price_spread2_sum', 'book_bid_spread_mean', 'book_bid_spread_std', 'book_bid_spread_sum', \n",
    "    'book_ask_spread_mean', 'book_ask_spread_std', 'book_ask_spread_sum', 'book_bid_ask_spread1_mean', 'book_bid_ask_spread1_std', 'book_bid_ask_spread2_mean', \n",
    "    'book_bid_ask_spread2_std', 'book_total_volume_mean', 'book_total_volume_std', 'book_volume_imbalance_mean', 'book_log_return1_mean_120', \n",
    "    'book_log_return2_mean_120', 'book_log_return3_mean_120', 'book_log_return4_mean_120', 'book_log_return1_mean_240', 'book_log_return2_mean_240', \n",
    "    'book_log_return3_mean_240', 'book_log_return4_mean_240', 'book_log_return1_mean_360', 'book_log_return2_mean_360', 'book_log_return3_mean_360', \n",
    "    'book_log_return4_mean_360', 'book_bid_ask_spread1_std_360', 'book_bid_ask_spread2_std_360', 'book_total_volume_std_360', 'book_volume_imbalance_std_360', \n",
    "    'book_wap1_std_480', 'book_log_return1_mean_480', 'book_log_return1_sum_480', 'book_log_return2_mean_480', 'book_log_return2_sum_480', \n",
    "    'book_log_return3_mean_480', 'book_log_return3_sum_480', 'book_log_return4_mean_480', 'book_log_return4_sum_480', 'book_price_spread1_std_480', \n",
    "    'book_price_spread2_std_480', 'book_bid_spread_std_480', 'book_ask_spread_std_480', 'book_bid_ask_spread1_std_480', 'book_bid_ask_spread2_std_480', \n",
    "    'book_total_volume_std_480', 'book_volume_imbalance_std_480', 'trade_log_return_realized_volatility_mean_stock', \n",
    "    'trade_log_return_realized_volatility_std_stock', 'trade_log_return_realized_volatility_max_stock', 'trade_log_return_realized_volatility_min_stock', \n",
    "    'trade_log_return_realized_volatility_120_max_stock', 'trade_log_return_realized_volatility_120_min_stock', \n",
    "    'trade_log_return_realized_volatility_240_max_stock', 'trade_log_return_realized_volatility_240_min_stock', \n",
    "    'trade_log_return_realized_volatility_360_max_stock', 'trade_log_return_realized_volatility_360_min_stock', \n",
    "    'trade_log_return_realized_volatility_480_max_stock', 'trade_log_return_realized_volatility_480_min_stock', \n",
    "    'book_log_return1_realized_volatility_mean_stock', 'book_log_return1_realized_volatility_std_stock', \n",
    "    'book_log_return1_realized_volatility_max_stock', 'book_log_return1_realized_volatility_min_stock', \n",
    "    'book_log_return2_realized_volatility_max_stock', 'book_log_return2_realized_volatility_min_stock', \n",
    "    'book_log_return3_realized_volatility_max_stock', 'book_log_return3_realized_volatility_min_stock', \n",
    "    'book_log_return4_realized_volatility_max_stock', 'book_log_return4_realized_volatility_min_stock', \n",
    "    'book_log_return1_realized_volatility_120_max_stock', 'book_log_return2_realized_volatility_120_min_stock', \n",
    "    'book_log_return1_realized_volatility_240_min_stock', 'book_log_return2_realized_volatility_240_min_stock', \n",
    "    'book_log_return3_realized_volatility_240_min_stock', 'book_log_return1_realized_volatility_360_min_stock', \n",
    "    'book_log_return2_realized_volatility_360_min_stock', 'book_log_return3_realized_volatility_360_min_stock', \n",
    "    'book_log_return4_realized_volatility_360_min_stock', 'book_log_return1_realized_volatility_480_max_stock', \n",
    "    'book_log_return1_realized_volatility_480_min_stock', 'book_log_return2_realized_volatility_480_max_stock', \n",
    "    'book_log_return2_realized_volatility_480_min_stock', 'book_log_return3_realized_volatility_480_max_stock', \n",
    "    'book_log_return3_realized_volatility_480_min_stock', 'book_log_return4_realized_volatility_480_max_stock', \n",
    "    'book_log_return4_realized_volatility_480_min_stock', 'trade_log_return_realized_volatility_mean_time', \n",
    "    'trade_log_return_realized_volatility_std_time', 'trade_log_return_realized_volatility_max_time', \n",
    "    'trade_log_return_realized_volatility_min_time', 'trade_log_return_realized_volatility_360_min_time', \n",
    "    'trade_log_return_realized_volatility_480_max_time', 'trade_log_return_realized_volatility_480_min_time', \n",
    "    'book_log_return1_realized_volatility_std_time', 'book_log_return1_realized_volatility_min_time', \n",
    "    'book_log_return2_realized_volatility_480_min_time', 'size_tau', 'size_tau_480', 'size_tau2', 'size_tau3',\n",
    "    'book_log_return1_realized_volatility_1c1', 'book_log_return1_realized_volatility_2c1', 'book_log_return1_realized_volatility_5c1',\n",
    "    'book_total_volume_sum_0c1', 'book_total_volume_sum_1c1', 'book_total_volume_sum_2c1', 'book_total_volume_sum_3c1', 'book_total_volume_sum_4c1', \n",
    "    'book_total_volume_sum_5c1', 'book_total_volume_sum_6c1', 'trade_size_sum_0c1', 'trade_size_sum_1c1', 'trade_size_sum_2c1', 'trade_size_sum_3c1', \n",
    "    'trade_size_sum_4c1', 'trade_size_sum_5c1', 'trade_size_sum_6c1', 'trade_order_count_sum_1c1', 'trade_order_count_sum_2c1', 'trade_order_count_sum_4c1', \n",
    "    'trade_order_count_sum_5c1', 'trade_order_count_sum_6c1', 'book_price_spread2_sum_2c1', 'book_price_spread2_sum_5c1', 'book_bid_spread_sum_1c1', \n",
    "    'book_bid_spread_sum_2c1', 'book_bid_spread_sum_5c1', 'book_ask_spread_sum_1c1', 'book_ask_spread_sum_2c1', 'book_ask_spread_sum_5c1', \n",
    "    'book_volume_imbalance_sum_0c1', 'book_volume_imbalance_sum_3c1', 'book_volume_imbalance_sum_4c1', 'book_volume_imbalance_sum_6c1', \n",
    "    'book_bid_ask_spread2_sum_120_0c1', 'book_bid_ask_spread2_sum_120_1c1', 'book_bid_ask_spread2_sum_120_2c1', 'book_bid_ask_spread2_sum_120_3c1', \n",
    "    'book_bid_ask_spread2_sum_120_4c1', 'book_bid_ask_spread2_sum_120_5c1', 'book_bid_ask_spread2_sum_120_6c1', 'size_tau2_0c1', 'size_tau2_1c1', \n",
    "    'size_tau2_2c1', 'size_tau2_3c1', 'size_tau2_4c1', 'size_tau2_5c1', 'size_tau2_6c1'\n",
    "]\n",
    "\n",
    "len(select_cols)"
   ]
  },
  {
   "cell_type": "code",
   "execution_count": 26,
   "id": "naval-shareware",
   "metadata": {
    "execution": {
     "iopub.execute_input": "2021-08-28T03:53:50.314903Z",
     "iopub.status.busy": "2021-08-28T03:53:50.314112Z",
     "iopub.status.idle": "2021-08-28T03:53:52.665169Z",
     "shell.execute_reply": "2021-08-28T03:53:52.665698Z",
     "shell.execute_reply.started": "2021-08-27T12:38:32.945031Z"
    },
    "papermill": {
     "duration": 2.415576,
     "end_time": "2021-08-28T03:53:52.665903",
     "exception": false,
     "start_time": "2021-08-28T03:53:50.250327",
     "status": "completed"
    },
    "tags": []
   },
   "outputs": [
    {
     "name": "stdout",
     "output_type": "stream",
     "text": [
      "Xtrain: (428932, 196) \n",
      "Ytrain: (428932,) \n",
      "Ytrain_strat: (428932,)\n"
     ]
    },
    {
     "data": {
      "text/plain": [
       "20"
      ]
     },
     "execution_count": 26,
     "metadata": {},
     "output_type": "execute_result"
    }
   ],
   "source": [
    "Xtrain = train_df[select_cols].copy()\n",
    "Ytrain = train_df['target'].copy()\n",
    "Ytrain_strat = pd.qcut(train_df['target'].values, q=10, labels=range(0,10))\n",
    "\n",
    "Xtrain.drop(['row_id'], axis=1, inplace=True)\n",
    "Xtrain.replace([np.nan, np.inf, -np.inf], 0, inplace=True)\n",
    "print(f\"Xtrain: {Xtrain.shape} \\nYtrain: {Ytrain.shape} \\nYtrain_strat: {Ytrain_strat.shape}\")\n",
    "\n",
    "del train_df\n",
    "gc.collect()"
   ]
  },
  {
   "cell_type": "code",
   "execution_count": 27,
   "id": "figured-summer",
   "metadata": {
    "execution": {
     "iopub.execute_input": "2021-08-28T03:53:52.799361Z",
     "iopub.status.busy": "2021-08-28T03:53:52.798386Z",
     "iopub.status.idle": "2021-08-28T03:53:52.806457Z",
     "shell.execute_reply": "2021-08-28T03:53:52.807257Z",
     "shell.execute_reply.started": "2021-08-27T12:38:35.702735Z"
    },
    "papermill": {
     "duration": 0.080936,
     "end_time": "2021-08-28T03:53:52.807546",
     "exception": false,
     "start_time": "2021-08-28T03:53:52.726610",
     "status": "completed"
    },
    "tags": []
   },
   "outputs": [
    {
     "name": "stdout",
     "output_type": "stream",
     "text": [
      "Xtest: (3, 196)\n"
     ]
    }
   ],
   "source": [
    "Xtest = test_df[select_cols].copy()\n",
    "Xtest.drop(['row_id'], axis=1, inplace=True)\n",
    "Xtest.replace([np.nan, np.inf, -np.inf], 0, inplace=True)\n",
    "print(f\"Xtest: {Xtest.shape}\")"
   ]
  },
  {
   "cell_type": "code",
   "execution_count": 28,
   "id": "floral-procurement",
   "metadata": {
    "execution": {
     "iopub.execute_input": "2021-08-28T03:53:52.936962Z",
     "iopub.status.busy": "2021-08-28T03:53:52.936150Z",
     "iopub.status.idle": "2021-08-28T03:53:52.950247Z",
     "shell.execute_reply": "2021-08-28T03:53:52.950821Z",
     "shell.execute_reply.started": "2021-08-27T12:38:38.642973Z"
    },
    "papermill": {
     "duration": 0.079847,
     "end_time": "2021-08-28T03:53:52.951046",
     "exception": false,
     "start_time": "2021-08-28T03:53:52.871199",
     "status": "completed"
    },
    "tags": []
   },
   "outputs": [
    {
     "name": "stdout",
     "output_type": "stream",
     "text": [
      "[0, 1]\n"
     ]
    }
   ],
   "source": [
    "cat_cols = ['stock_id','time_id']\n",
    "\n",
    "Xtrain[cat_cols] = Xtrain[cat_cols].astype(int)\n",
    "Xtest[cat_cols] = Xtest[cat_cols].astype(int)\n",
    "cat_cols_indices = [Xtrain.columns.get_loc(col) for col in cat_cols]\n",
    "print(cat_cols_indices)"
   ]
  },
  {
   "cell_type": "code",
   "execution_count": 29,
   "id": "adaptive-stephen",
   "metadata": {
    "execution": {
     "iopub.execute_input": "2021-08-28T03:53:53.080456Z",
     "iopub.status.busy": "2021-08-28T03:53:53.079631Z",
     "iopub.status.idle": "2021-08-28T03:53:54.615703Z",
     "shell.execute_reply": "2021-08-28T03:53:54.614956Z",
     "shell.execute_reply.started": "2021-08-27T12:38:40.733281Z"
    },
    "papermill": {
     "duration": 1.602745,
     "end_time": "2021-08-28T03:53:54.615877",
     "exception": false,
     "start_time": "2021-08-28T03:53:53.013132",
     "status": "completed"
    },
    "tags": []
   },
   "outputs": [
    {
     "data": {
      "image/png": "[encoded data removed]",
      "text/plain": [
       "<Figure size 864x720 with 1 Axes>"
      ]
     },
     "metadata": {
      "needs_background": "light"
     },
     "output_type": "display_data"
    }
   ],
   "source": [
    "corr_list = []\n",
    "df = Xtrain.copy()\n",
    "df['target'] = Ytrain.ravel()\n",
    "for col in df.columns:\n",
    "    corr = df[col].corr(df['target'])\n",
    "    corr_list.append([col, corr])\n",
    "\n",
    "df = pd.DataFrame(corr_list, columns=['Column','Correlation'])\n",
    "df['Correlation'] = np.round(df['Correlation'], 2)\n",
    "df = df.sort_values(by='Correlation', ascending=False).head(20).copy()\n",
    "\n",
    "plt.figure(figsize=(12, 10))\n",
    "sns.barplot(x='Correlation', y='Column', data=df)\n",
    "plt.title(\"Top-20 features with high correlation with target\", pad=20);"
   ]
  },
  {
   "cell_type": "code",
   "execution_count": 30,
   "id": "environmental-importance",
   "metadata": {
    "execution": {
     "iopub.execute_input": "2021-08-28T03:53:54.938819Z",
     "iopub.status.busy": "2021-08-28T03:53:54.937931Z",
     "iopub.status.idle": "2021-08-28T03:53:54.943188Z",
     "shell.execute_reply": "2021-08-28T03:53:54.942645Z",
     "shell.execute_reply.started": "2021-08-27T12:38:42.572242Z"
    },
    "papermill": {
     "duration": 0.261235,
     "end_time": "2021-08-28T03:53:54.943378",
     "exception": false,
     "start_time": "2021-08-28T03:53:54.682143",
     "status": "completed"
    },
    "tags": []
   },
   "outputs": [
    {
     "data": {
      "text/plain": [
       "6709"
      ]
     },
     "execution_count": 30,
     "metadata": {},
     "output_type": "execute_result"
    }
   ],
   "source": [
    "del df\n",
    "gc.collect()"
   ]
  },
  {
   "cell_type": "markdown",
   "id": "reverse-builder",
   "metadata": {
    "papermill": {
     "duration": 0.065001,
     "end_time": "2021-08-28T03:53:55.071451",
     "exception": false,
     "start_time": "2021-08-28T03:53:55.006450",
     "status": "completed"
    },
    "tags": []
   },
   "source": [
    "## Base models\n",
    "\n",
    "* **BayesianRidge**\n",
    "* **HistGradientBoostingRegressor**\n",
    "* **Linear Regression**\n",
    "* **LightGBM**"
   ]
  },
  {
   "cell_type": "code",
   "execution_count": 31,
   "id": "stone-partnership",
   "metadata": {
    "execution": {
     "iopub.execute_input": "2021-08-28T03:53:55.218292Z",
     "iopub.status.busy": "2021-08-28T03:53:55.216392Z",
     "iopub.status.idle": "2021-08-28T03:53:55.223667Z",
     "shell.execute_reply": "2021-08-28T03:53:55.223055Z",
     "shell.execute_reply.started": "2021-08-27T12:38:48.802848Z"
    },
    "papermill": {
     "duration": 0.081722,
     "end_time": "2021-08-28T03:53:55.223856",
     "exception": false,
     "start_time": "2021-08-28T03:53:55.142134",
     "status": "completed"
    },
    "tags": []
   },
   "outputs": [],
   "source": [
    "FOLD = 10\n",
    "SEEDS = [2018, 2020]\n",
    "COUNTER = 0\n",
    "\n",
    "oof_score_ridge = 0\n",
    "oof_score_gbr = 0\n",
    "oof_score_lgb = 0\n",
    "oof_score_lr = 0\n",
    "\n",
    "y_pred_final_ridge = 0\n",
    "y_pred_final_gbr = 0\n",
    "y_pred_final_lgb = 0\n",
    "y_pred_final_lr = 0\n",
    "\n",
    "y_pred_meta_ridge = np.zeros((Xtrain.shape[0], 1))\n",
    "y_pred_meta_gbr = np.zeros((Xtrain.shape[0], 1))\n",
    "y_pred_meta_lgb = np.zeros((Xtrain.shape[0], 1))\n",
    "y_pred_meta_lr = np.zeros((Xtrain.shape[0], 1))"
   ]
  },
  {
   "cell_type": "code",
   "execution_count": 32,
   "id": "higher-westminster",
   "metadata": {
    "execution": {
     "iopub.execute_input": "2021-08-28T03:53:55.383704Z",
     "iopub.status.busy": "2021-08-28T03:53:55.373568Z",
     "iopub.status.idle": "2021-08-28T04:59:43.684104Z",
     "shell.execute_reply": "2021-08-28T04:59:43.684634Z",
     "shell.execute_reply.started": "2021-08-27T12:43:38.91657Z"
    },
    "papermill": {
     "duration": 3948.39349,
     "end_time": "2021-08-28T04:59:43.684824",
     "exception": false,
     "start_time": "2021-08-28T03:53:55.291334",
     "status": "completed"
    },
    "tags": []
   },
   "outputs": [
    {
     "name": "stdout",
     "output_type": "stream",
     "text": [
      "Model Name  \tSeed \tFold \tOOF Score \tAggregate OOF Score\n",
      "====================================================================\n",
      "LR        \t2018 \t1 \t0.22398\n",
      "Bayesian Ridge \t2018 \t1 \t0.22392\n",
      "GBR        \t2018 \t1 \t0.20873\n",
      "LightGBM    \t2018 \t1 \t0.19578\n",
      "\n",
      "LR        \t2018 \t2 \t0.22945\n",
      "Bayesian Ridge \t2018 \t2 \t0.22942\n",
      "GBR        \t2018 \t2 \t0.22679\n",
      "LightGBM    \t2018 \t2 \t0.20975\n",
      "\n",
      "LR        \t2018 \t3 \t0.22543\n",
      "Bayesian Ridge \t2018 \t3 \t0.22543\n",
      "GBR        \t2018 \t3 \t0.20767\n",
      "LightGBM    \t2018 \t3 \t0.18885\n",
      "\n",
      "LR        \t2018 \t4 \t0.22547\n",
      "Bayesian Ridge \t2018 \t4 \t0.22547\n",
      "GBR        \t2018 \t4 \t0.20918\n",
      "LightGBM    \t2018 \t4 \t0.19021\n",
      "\n",
      "LR        \t2018 \t5 \t0.22785\n",
      "Bayesian Ridge \t2018 \t5 \t0.22782\n",
      "GBR        \t2018 \t5 \t0.20992\n",
      "LightGBM    \t2018 \t5 \t0.19284\n",
      "\n",
      "LR        \t2018 \t6 \t0.23156\n",
      "Bayesian Ridge \t2018 \t6 \t0.23141\n",
      "GBR        \t2018 \t6 \t0.21921\n",
      "LightGBM    \t2018 \t6 \t0.21069\n",
      "\n",
      "LR        \t2018 \t7 \t0.22789\n",
      "Bayesian Ridge \t2018 \t7 \t0.2279\n",
      "GBR        \t2018 \t7 \t0.21125\n",
      "LightGBM    \t2018 \t7 \t0.19307\n",
      "\n",
      "LR        \t2018 \t8 \t0.22898\n",
      "Bayesian Ridge \t2018 \t8 \t0.22886\n",
      "GBR        \t2018 \t8 \t0.21228\n",
      "LightGBM    \t2018 \t8 \t0.19498\n",
      "\n",
      "LR        \t2018 \t9 \t0.22714\n",
      "Bayesian Ridge \t2018 \t9 \t0.22705\n",
      "GBR        \t2018 \t9 \t0.2083\n",
      "LightGBM    \t2018 \t9 \t0.19044\n",
      "\n",
      "LR        \t2018 \t10 \t0.22266\n",
      "Bayesian Ridge \t2018 \t10 \t0.22267\n",
      "GBR        \t2018 \t10 \t0.20834\n",
      "LightGBM    \t2018 \t10 \t0.19153\n",
      "\n",
      "====================================================================\n",
      "Bayesian Ridge \t2018 \t\t\t\t0.22699\n",
      "GBR            \t2018 \t\t\t\t0.21217\n",
      "LR             \t2018 \t\t\t\t0.22704\n",
      "LightGBM       \t2018 \t\t\t\t0.19582\n",
      "====================================================================\n",
      "LR        \t2020 \t1 \t0.22877\n",
      "Bayesian Ridge \t2020 \t1 \t0.22866\n",
      "GBR        \t2020 \t1 \t0.21143\n",
      "LightGBM    \t2020 \t1 \t0.19026\n",
      "\n",
      "LR        \t2020 \t2 \t0.22501\n",
      "Bayesian Ridge \t2020 \t2 \t0.22498\n",
      "GBR        \t2020 \t2 \t0.20799\n",
      "LightGBM    \t2020 \t2 \t0.18976\n",
      "\n",
      "LR        \t2020 \t3 \t0.22683\n",
      "Bayesian Ridge \t2020 \t3 \t0.22681\n",
      "GBR        \t2020 \t3 \t0.21054\n",
      "LightGBM    \t2020 \t3 \t0.191\n",
      "\n",
      "LR        \t2020 \t4 \t0.23079\n",
      "Bayesian Ridge \t2020 \t4 \t0.23057\n",
      "GBR        \t2020 \t4 \t0.21256\n",
      "LightGBM    \t2020 \t4 \t0.19762\n",
      "\n",
      "LR        \t2020 \t5 \t0.22514\n",
      "Bayesian Ridge \t2020 \t5 \t0.2251\n",
      "GBR        \t2020 \t5 \t0.20941\n",
      "LightGBM    \t2020 \t5 \t0.19705\n",
      "\n",
      "LR        \t2020 \t6 \t0.22532\n",
      "Bayesian Ridge \t2020 \t6 \t0.22531\n",
      "GBR        \t2020 \t6 \t0.20916\n",
      "LightGBM    \t2020 \t6 \t0.19394\n",
      "\n",
      "LR        \t2020 \t7 \t0.22959\n",
      "Bayesian Ridge \t2020 \t7 \t0.22951\n",
      "GBR        \t2020 \t7 \t0.22636\n",
      "LightGBM    \t2020 \t7 \t0.20955\n",
      "\n",
      "LR        \t2020 \t8 \t0.22628\n",
      "Bayesian Ridge \t2020 \t8 \t0.22623\n",
      "GBR        \t2020 \t8 \t0.20892\n",
      "LightGBM    \t2020 \t8 \t0.19139\n",
      "\n",
      "LR        \t2020 \t9 \t0.2268\n",
      "Bayesian Ridge \t2020 \t9 \t0.22679\n",
      "GBR        \t2020 \t9 \t0.21755\n",
      "LightGBM    \t2020 \t9 \t0.20449\n",
      "\n",
      "LR        \t2020 \t10 \t0.22404\n",
      "Bayesian Ridge \t2020 \t10 \t0.22405\n",
      "GBR        \t2020 \t10 \t0.20919\n",
      "LightGBM    \t2020 \t10 \t0.19052\n",
      "\n",
      "====================================================================\n",
      "Bayesian Ridge \t2020 \t\t\t\t0.2268\n",
      "GBR            \t2020 \t\t\t\t0.21231\n",
      "LR             \t2020 \t\t\t\t0.22686\n",
      "LightGBM       \t2020 \t\t\t\t0.19556\n",
      "====================================================================\n"
     ]
    }
   ],
   "source": [
    "print(\"Model Name  \\tSeed \\tFold \\tOOF Score \\tAggregate OOF Score\")\n",
    "print(\"=\"*68)\n",
    "\n",
    "for sidx, seed in enumerate(SEEDS):\n",
    "    seed_score_ridge = 0\n",
    "    seed_score_gbr = 0\n",
    "    seed_score_lgb = 0\n",
    "    seed_score_lr = 0\n",
    "    \n",
    "    kfold = StratifiedKFold(n_splits=FOLD, shuffle=True, random_state=seed)\n",
    "\n",
    "    for idx, (train, val) in enumerate(kfold.split(Xtrain, Ytrain_strat)):\n",
    "        COUNTER += 1\n",
    "\n",
    "        train_x, train_y = Xtrain.iloc[train], Ytrain.iloc[train]\n",
    "        val_x, val_y = Xtrain.iloc[val], Ytrain.iloc[val]\n",
    "        weights = 1/np.square(train_y)\n",
    "        \n",
    "        \n",
    "        #====================================================================\n",
    "        #                          Linear Regression\n",
    "        #====================================================================\n",
    "        \n",
    "        lr_model = LinearRegression()\n",
    "        lr_model.fit(train_x, train_y, sample_weight = weights)\n",
    "        \n",
    "        y_pred = lr_model.predict(val_x)\n",
    "        y_pred_meta_lr[val] += np.array([y_pred]).T\n",
    "        y_pred_final_lr += lr_model.predict(Xtest)\n",
    "        \n",
    "        score = rmspe(val_y, y_pred)\n",
    "        oof_score_lr += score\n",
    "        seed_score_lr += score\n",
    "        print(f\"LR        \\t{seed} \\t{idx+1} \\t{round(score,5)}\")\n",
    "        \n",
    "        \n",
    "        #====================================================================\n",
    "        #                           Bayesian Ridge\n",
    "        #====================================================================\n",
    "        \n",
    "        ridge_model = BayesianRidge(n_iter=1000)\n",
    "        ridge_model.fit(train_x, train_y, sample_weight = weights)\n",
    "        \n",
    "        y_pred = ridge_model.predict(val_x)\n",
    "        y_pred_meta_ridge[val] += np.array([y_pred]).T\n",
    "        y_pred_final_ridge += ridge_model.predict(Xtest)\n",
    "        \n",
    "        score = rmspe(val_y, y_pred)\n",
    "        oof_score_ridge += score\n",
    "        seed_score_ridge += score\n",
    "        print(f\"Bayesian Ridge \\t{seed} \\t{idx+1} \\t{round(score,5)}\")\n",
    "        \n",
    "        \n",
    "        #====================================================================\n",
    "        #                     HistGradientBoostingRegressor\n",
    "        #====================================================================\n",
    "        \n",
    "        gbr_model = HistGradientBoostingRegressor(\n",
    "            max_depth=7,\n",
    "            learning_rate=0.05,\n",
    "            max_iter=1000,\n",
    "            max_leaf_nodes=72, \n",
    "            early_stopping=True,\n",
    "            n_iter_no_change=100,\n",
    "            random_state=0\n",
    "        )\n",
    "        gbr_model.fit(train_x, train_y, sample_weight = weights)\n",
    "        \n",
    "        y_pred = gbr_model.predict(val_x)\n",
    "        y_pred_meta_gbr[val] += np.array([y_pred]).T\n",
    "        y_pred_final_gbr += gbr_model.predict(Xtest)\n",
    "        \n",
    "        score = rmspe(val_y, y_pred)\n",
    "        oof_score_gbr += score\n",
    "        seed_score_gbr += score\n",
    "        print(f\"GBR        \\t{seed} \\t{idx+1} \\t{round(score,5)}\")\n",
    "        \n",
    "        \n",
    "        #====================================================================\n",
    "        #                              LightGBM\n",
    "        #====================================================================\n",
    "        \n",
    "        lgb_model = LGBMRegressor(\n",
    "            boosting_type='gbdt', \n",
    "            num_leaves=72, \n",
    "            max_depth=7, \n",
    "            learning_rate=0.02, \n",
    "            n_estimators=1000, \n",
    "            objective='regression', \n",
    "            importance_type='gain',\n",
    "            min_child_samples=20, \n",
    "            subsample=0.65, \n",
    "            subsample_freq=10, \n",
    "            colsample_bytree=0.75, \n",
    "            reg_lambda=0.05, \n",
    "            random_state=0\n",
    "        )\n",
    "        \n",
    "        lgb_model.fit(train_x, train_y, eval_metric='rmse',\n",
    "                      eval_set=(val_x, val_y),\n",
    "                      early_stopping_rounds=100, \n",
    "                      categorical_feature=cat_cols_indices, \n",
    "                      sample_weight = weights, verbose=False)\n",
    "        \n",
    "        y_pred = lgb_model.predict(val_x, num_iteration=lgb_model.best_iteration_)\n",
    "        y_pred_meta_lgb[val] += np.array([y_pred]).T\n",
    "        y_pred_final_lgb += lgb_model.predict(Xtest, num_iteration=lgb_model.best_iteration_)\n",
    "        \n",
    "        score = rmspe(val_y, y_pred)\n",
    "        oof_score_lgb += score\n",
    "        seed_score_lgb += score\n",
    "        print(f\"LightGBM    \\t{seed} \\t{idx+1} \\t{round(score,5)}\\n\")\n",
    "        \n",
    "        \n",
    "    print(\"=\"*68)\n",
    "    print(f\"Bayesian Ridge \\t{seed} \\t\\t\\t\\t{round(seed_score_ridge / FOLD, 5)}\")\n",
    "    print(f\"GBR            \\t{seed} \\t\\t\\t\\t{round(seed_score_gbr / FOLD, 5)}\")\n",
    "    print(f\"LR             \\t{seed} \\t\\t\\t\\t{round(seed_score_lr / FOLD, 5)}\")\n",
    "    print(f\"LightGBM       \\t{seed} \\t\\t\\t\\t{round(seed_score_lgb / FOLD, 5)}\")\n",
    "    print(\"=\"*68)"
   ]
  },
  {
   "cell_type": "code",
   "execution_count": 33,
   "id": "inappropriate-aerospace",
   "metadata": {
    "execution": {
     "iopub.execute_input": "2021-08-28T04:59:43.858581Z",
     "iopub.status.busy": "2021-08-28T04:59:43.857828Z",
     "iopub.status.idle": "2021-08-28T04:59:43.866248Z",
     "shell.execute_reply": "2021-08-28T04:59:43.865622Z",
     "shell.execute_reply.started": "2021-08-27T07:13:36.625774Z"
    },
    "papermill": {
     "duration": 0.098733,
     "end_time": "2021-08-28T04:59:43.866433",
     "exception": false,
     "start_time": "2021-08-28T04:59:43.767700",
     "status": "completed"
    },
    "tags": []
   },
   "outputs": [
    {
     "name": "stdout",
     "output_type": "stream",
     "text": [
      "Bayesian Ridge | Aggregate OOF Score: 0.2269\n",
      "GradientBoostingRegressor | Aggregate OOF Score: 0.21224\n",
      "Linear Regression | Aggregate OOF Score: 0.22695\n",
      "LightGBM | Aggregate OOF Score: 0.19569\n"
     ]
    }
   ],
   "source": [
    "y_pred_final_ridge = y_pred_final_ridge / float(COUNTER)\n",
    "y_pred_final_gbr = y_pred_final_gbr / float(COUNTER)\n",
    "y_pred_final_lr = y_pred_final_lr / float(COUNTER)\n",
    "y_pred_final_lgb = y_pred_final_lgb / float(COUNTER)\n",
    "\n",
    "y_pred_meta_ridge = y_pred_meta_ridge / float(len(SEEDS))\n",
    "y_pred_meta_gbr = y_pred_meta_gbr / float(len(SEEDS))\n",
    "y_pred_meta_lr = y_pred_meta_lr / float(len(SEEDS))\n",
    "y_pred_meta_lgb = y_pred_meta_lgb / float(len(SEEDS))\n",
    "\n",
    "oof_score_ridge /= float(COUNTER)\n",
    "oof_score_gbr /= float(COUNTER)\n",
    "oof_score_lr /= float(COUNTER)\n",
    "oof_score_lgb /= float(COUNTER)\n",
    "\n",
    "print(f\"Bayesian Ridge | Aggregate OOF Score: {round(oof_score_ridge,5)}\")\n",
    "print(f\"GradientBoostingRegressor | Aggregate OOF Score: {round(oof_score_gbr,5)}\")\n",
    "print(f\"Linear Regression | Aggregate OOF Score: {round(oof_score_lr,5)}\")\n",
    "print(f\"LightGBM | Aggregate OOF Score: {round(oof_score_lgb,5)}\")"
   ]
  },
  {
   "cell_type": "markdown",
   "id": "combined-sustainability",
   "metadata": {
    "papermill": {
     "duration": 0.088669,
     "end_time": "2021-08-28T04:59:44.046367",
     "exception": false,
     "start_time": "2021-08-28T04:59:43.957698",
     "status": "completed"
    },
    "tags": []
   },
   "source": [
    "## Deep Neural Model"
   ]
  },
  {
   "cell_type": "code",
   "execution_count": 34,
   "id": "accompanied-offer",
   "metadata": {
    "execution": {
     "iopub.execute_input": "2021-08-28T04:59:44.217377Z",
     "iopub.status.busy": "2021-08-28T04:59:44.216445Z",
     "iopub.status.idle": "2021-08-28T04:59:44.222515Z",
     "shell.execute_reply": "2021-08-28T04:59:44.223043Z",
     "shell.execute_reply.started": "2021-08-27T12:46:05.890949Z"
    },
    "papermill": {
     "duration": 0.092958,
     "end_time": "2021-08-28T04:59:44.223203",
     "exception": false,
     "start_time": "2021-08-28T04:59:44.130245",
     "status": "completed"
    },
    "tags": []
   },
   "outputs": [
    {
     "data": {
      "text/plain": [
       "(2, 194)"
      ]
     },
     "execution_count": 34,
     "metadata": {},
     "output_type": "execute_result"
    }
   ],
   "source": [
    "num_cols = [col for col in Xtrain.columns if col not in cat_cols]\n",
    "len(cat_cols), len(num_cols)"
   ]
  },
  {
   "cell_type": "code",
   "execution_count": 35,
   "id": "aerial-rescue",
   "metadata": {
    "execution": {
     "iopub.execute_input": "2021-08-28T04:59:44.394454Z",
     "iopub.status.busy": "2021-08-28T04:59:44.393470Z",
     "iopub.status.idle": "2021-08-28T05:00:13.071044Z",
     "shell.execute_reply": "2021-08-28T05:00:13.071555Z",
     "shell.execute_reply.started": "2021-08-27T12:46:07.070501Z"
    },
    "papermill": {
     "duration": 28.765147,
     "end_time": "2021-08-28T05:00:13.071758",
     "exception": false,
     "start_time": "2021-08-28T04:59:44.306611",
     "status": "completed"
    },
    "tags": []
   },
   "outputs": [
    {
     "name": "stderr",
     "output_type": "stream",
     "text": [
      "100%|██████████| 194/194 [00:28<00:00,  6.77it/s]"
     ]
    },
    {
     "name": "stdout",
     "output_type": "stream",
     "text": [
      "Xtrain: (428932, 196) \n",
      "Xtest: (3, 196)\n"
     ]
    },
    {
     "name": "stderr",
     "output_type": "stream",
     "text": [
      "\n"
     ]
    }
   ],
   "source": [
    "for col in tqdm(num_cols):\n",
    "    transformer = QuantileTransformer(n_quantiles=5000, \n",
    "                                      random_state=2020, \n",
    "                                      output_distribution=\"normal\")\n",
    "    \n",
    "    vec_len = len(Xtrain[col].values)\n",
    "    vec_len_test = len(Xtest[col].values)\n",
    "\n",
    "    raw_vec = Xtrain[col].values.reshape(vec_len, 1)\n",
    "    test_vec = Xtest[col].values.reshape(vec_len_test, 1)\n",
    "    transformer.fit(raw_vec)\n",
    "    \n",
    "    Xtrain[col] = transformer.transform(raw_vec).reshape(1, vec_len)[0]\n",
    "    Xtest[col] = transformer.transform(test_vec).reshape(1, vec_len_test)[0]\n",
    "\n",
    "print(f\"Xtrain: {Xtrain.shape} \\nXtest: {Xtest.shape}\")"
   ]
  },
  {
   "cell_type": "code",
   "execution_count": 36,
   "id": "realistic-madison",
   "metadata": {
    "execution": {
     "iopub.execute_input": "2021-08-28T05:00:13.382921Z",
     "iopub.status.busy": "2021-08-28T05:00:13.382202Z",
     "iopub.status.idle": "2021-08-28T05:00:13.385388Z",
     "shell.execute_reply": "2021-08-28T05:00:13.384809Z",
     "shell.execute_reply.started": "2021-08-27T12:46:36.594674Z"
    },
    "papermill": {
     "duration": 0.166433,
     "end_time": "2021-08-28T05:00:13.385536",
     "exception": false,
     "start_time": "2021-08-28T05:00:13.219103",
     "status": "completed"
    },
    "tags": []
   },
   "outputs": [],
   "source": [
    "def dnn_model(data, catcols, numcols):\n",
    "    \n",
    "    num_inp = Input(shape=(numcols,))\n",
    "    \n",
    "    inputs = []\n",
    "    outputs = []\n",
    "    \n",
    "    for c in catcols:\n",
    "        num_unique_values = int(data[c].max())\n",
    "        embed_dim = int(min(np.ceil((num_unique_values)/2), 50))\n",
    "        inp = Input(shape=(1,))\n",
    "        out = Embedding(input_dim=num_unique_values + 1, \n",
    "                        output_dim=embed_dim, \n",
    "                        embeddings_initializer='lecun_normal', \n",
    "                        name=c)(inp)\n",
    "        out = SpatialDropout1D(rate=0.2)(out)\n",
    "        out = Reshape(target_shape=(embed_dim, ))(out)\n",
    "        inputs.append(inp)\n",
    "        outputs.append(out)\n",
    "    \n",
    "    outputs.append(num_inp)\n",
    "    x = Concatenate()(outputs)\n",
    "    x = BatchNormalization()(x)\n",
    "    x = Dropout(rate=0.25)(x)\n",
    "    \n",
    "    x = Dense(units=128, kernel_initializer='lecun_normal', \n",
    "                kernel_regularizer=l2(0.0001))(x)\n",
    "    x = BatchNormalization()(x)\n",
    "    x = LeakyReLU()(x)\n",
    "    x = Dropout(rate=0.35)(x)\n",
    "    \n",
    "    x = Dense(units=32, kernel_initializer='lecun_normal', \n",
    "                kernel_regularizer=l2(0.0001))(x)\n",
    "    x = BatchNormalization()(x)\n",
    "    x = LeakyReLU()(x)\n",
    "    x = Dropout(rate=0.25)(x)\n",
    "\n",
    "    x_output = Dense(units=1, kernel_initializer='lecun_normal')(x)\n",
    "\n",
    "    model = Model(inputs=[inputs, num_inp], outputs=x_output, \n",
    "                  name='DNN_Model')\n",
    "    return model"
   ]
  },
  {
   "cell_type": "code",
   "execution_count": 37,
   "id": "proved-rochester",
   "metadata": {
    "execution": {
     "iopub.execute_input": "2021-08-28T05:00:13.667867Z",
     "iopub.status.busy": "2021-08-28T05:00:13.667223Z",
     "iopub.status.idle": "2021-08-28T05:00:13.871073Z",
     "shell.execute_reply": "2021-08-28T05:00:13.870077Z",
     "shell.execute_reply.started": "2021-08-27T12:46:36.611363Z"
    },
    "papermill": {
     "duration": 0.349716,
     "end_time": "2021-08-28T05:00:13.871252",
     "exception": false,
     "start_time": "2021-08-28T05:00:13.521536",
     "status": "completed"
    },
    "tags": []
   },
   "outputs": [
    {
     "name": "stdout",
     "output_type": "stream",
     "text": [
      "Model: \"DNN_Model\"\n",
      "__________________________________________________________________________________________________\n",
      "Layer (type)                    Output Shape         Param #     Connected to                     \n",
      "==================================================================================================\n",
      "input_2 (InputLayer)            [(None, 1)]          0                                            \n",
      "__________________________________________________________________________________________________\n",
      "input_3 (InputLayer)            [(None, 1)]          0                                            \n",
      "__________________________________________________________________________________________________\n",
      "stock_id (Embedding)            (None, 1, 50)        6350        input_2[0][0]                    \n",
      "__________________________________________________________________________________________________\n",
      "time_id (Embedding)             (None, 1, 50)        1638400     input_3[0][0]                    \n",
      "__________________________________________________________________________________________________\n",
      "spatial_dropout1d (SpatialDropo (None, 1, 50)        0           stock_id[0][0]                   \n",
      "__________________________________________________________________________________________________\n",
      "spatial_dropout1d_1 (SpatialDro (None, 1, 50)        0           time_id[0][0]                    \n",
      "__________________________________________________________________________________________________\n",
      "reshape (Reshape)               (None, 50)           0           spatial_dropout1d[0][0]          \n",
      "__________________________________________________________________________________________________\n",
      "reshape_1 (Reshape)             (None, 50)           0           spatial_dropout1d_1[0][0]        \n",
      "__________________________________________________________________________________________________\n",
      "input_1 (InputLayer)            [(None, 194)]        0                                            \n",
      "__________________________________________________________________________________________________\n",
      "concatenate (Concatenate)       (None, 294)          0           reshape[0][0]                    \n",
      "                                                                 reshape_1[0][0]                  \n",
      "                                                                 input_1[0][0]                    \n",
      "__________________________________________________________________________________________________\n",
      "batch_normalization (BatchNorma (None, 294)          1176        concatenate[0][0]                \n",
      "__________________________________________________________________________________________________\n",
      "dropout (Dropout)               (None, 294)          0           batch_normalization[0][0]        \n",
      "__________________________________________________________________________________________________\n",
      "dense (Dense)                   (None, 128)          37760       dropout[0][0]                    \n",
      "__________________________________________________________________________________________________\n",
      "batch_normalization_1 (BatchNor (None, 128)          512         dense[0][0]                      \n",
      "__________________________________________________________________________________________________\n",
      "leaky_re_lu (LeakyReLU)         (None, 128)          0           batch_normalization_1[0][0]      \n",
      "__________________________________________________________________________________________________\n",
      "dropout_1 (Dropout)             (None, 128)          0           leaky_re_lu[0][0]                \n",
      "__________________________________________________________________________________________________\n",
      "dense_1 (Dense)                 (None, 32)           4128        dropout_1[0][0]                  \n",
      "__________________________________________________________________________________________________\n",
      "batch_normalization_2 (BatchNor (None, 32)           128         dense_1[0][0]                    \n",
      "__________________________________________________________________________________________________\n",
      "leaky_re_lu_1 (LeakyReLU)       (None, 32)           0           batch_normalization_2[0][0]      \n",
      "__________________________________________________________________________________________________\n",
      "dropout_2 (Dropout)             (None, 32)           0           leaky_re_lu_1[0][0]              \n",
      "__________________________________________________________________________________________________\n",
      "dense_2 (Dense)                 (None, 1)            33          dropout_2[0][0]                  \n",
      "==================================================================================================\n",
      "Total params: 1,688,487\n",
      "Trainable params: 1,687,579\n",
      "Non-trainable params: 908\n",
      "__________________________________________________________________________________________________\n"
     ]
    }
   ],
   "source": [
    "model = dnn_model(Xtrain, cat_cols, len(num_cols))\n",
    "model.summary()"
   ]
  },
  {
   "cell_type": "code",
   "execution_count": 38,
   "id": "portuguese-imperial",
   "metadata": {
    "execution": {
     "iopub.execute_input": "2021-08-28T05:00:14.185960Z",
     "iopub.status.busy": "2021-08-28T05:00:14.178990Z",
     "iopub.status.idle": "2021-08-28T07:55:47.823604Z",
     "shell.execute_reply": "2021-08-28T07:55:47.824184Z",
     "shell.execute_reply.started": "2021-08-27T12:46:45.516855Z"
    },
    "papermill": {
     "duration": 10533.804071,
     "end_time": "2021-08-28T07:55:47.824601",
     "exception": false,
     "start_time": "2021-08-28T05:00:14.020530",
     "status": "completed"
    },
    "tags": []
   },
   "outputs": [
    {
     "name": "stdout",
     "output_type": "stream",
     "text": [
      "Seed-2018 | Fold-0 | OOF Score: 0.21465990860040168\n",
      "Seed-2018 | Fold-1 | OOF Score: 0.23307592810529923\n",
      "Seed-2018 | Fold-2 | OOF Score: 0.20394953011985728\n",
      "Seed-2018 | Fold-3 | OOF Score: 0.2039965260035792\n",
      "Seed-2018 | Fold-4 | OOF Score: 0.20171619409602728\n",
      "Seed-2018 | Fold-5 | OOF Score: 0.21501517842466725\n",
      "Seed-2018 | Fold-6 | OOF Score: 0.2262868978760215\n",
      "Seed-2018 | Fold-7 | OOF Score: 0.2099528577354691\n",
      "Seed-2018 | Fold-8 | OOF Score: 0.19649919488052206\n",
      "Seed-2018 | Fold-9 | OOF Score: 0.201420076546814\n",
      "\n",
      "Seed: 2018 | Aggregate OOF Score: 0.21065722923886585\n",
      "\n",
      "\n",
      "Seed-2020 | Fold-0 | OOF Score: 0.20939438724298395\n",
      "Seed-2020 | Fold-1 | OOF Score: 0.19507283903287848\n",
      "Seed-2020 | Fold-2 | OOF Score: 0.2152445502690645\n",
      "Seed-2020 | Fold-3 | OOF Score: 0.21245181152291742\n",
      "Seed-2020 | Fold-4 | OOF Score: 0.20376485489605048\n",
      "Seed-2020 | Fold-5 | OOF Score: 0.22746144792322007\n",
      "Seed-2020 | Fold-6 | OOF Score: 0.23158116781512683\n",
      "Seed-2020 | Fold-7 | OOF Score: 0.21370604101062943\n",
      "Seed-2020 | Fold-8 | OOF Score: 0.21321722178634772\n",
      "Seed-2020 | Fold-9 | OOF Score: 0.22027429372812132\n",
      "\n",
      "Seed: 2020 | Aggregate OOF Score: 0.21421686152273406\n",
      "\n",
      "\n",
      "Aggregate OOF Score: 0.21243704538079994\n"
     ]
    }
   ],
   "source": [
    "FOLD = 10\n",
    "VERBOSE = 0\n",
    "BATCH_SIZE = 2048\n",
    "SEEDS = [2018, 2020]\n",
    "\n",
    "oof_score = 0\n",
    "y_pred_meta_dnn = np.zeros((Xtrain.shape[0], 1))\n",
    "y_pred_final_dnn = 0\n",
    "counter = 0\n",
    "\n",
    "\n",
    "for sidx, seed in enumerate(SEEDS):\n",
    "    seed_score = 0\n",
    "    \n",
    "    kfold = StratifiedKFold(n_splits=FOLD, shuffle=True, random_state=seed)\n",
    "\n",
    "    for idx, (train, val) in enumerate(kfold.split(Xtrain, Ytrain_strat)):\n",
    "        counter += 1\n",
    "\n",
    "        train_x, train_y = Xtrain.iloc[train], Ytrain.iloc[train]\n",
    "        val_x, val_y = Xtrain.iloc[val], Ytrain.iloc[val]\n",
    "\n",
    "        tf.random.set_seed(seed)\n",
    "        model = dnn_model(Xtrain, cat_cols, len(num_cols))\n",
    "        model.compile(loss=rmspe_loss, optimizer=Adamax(lr=1e-2))\n",
    "\n",
    "        early = EarlyStopping(monitor=\"val_loss\", mode=\"min\", \n",
    "                              restore_best_weights=True, \n",
    "                              patience=15, verbose=VERBOSE)\n",
    "\n",
    "        reduce_lr = ReduceLROnPlateau(monitor=\"val_loss\", factor=0.25, \n",
    "                                      min_lr=1e-5, patience=4, \n",
    "                                      verbose=VERBOSE, mode='min')\n",
    "\n",
    "        history = model.fit(\n",
    "            [[train_x[col] for col in cat_cols], train_x[num_cols]], train_y, \n",
    "            batch_size=BATCH_SIZE,\n",
    "            epochs=100, \n",
    "            verbose=VERBOSE, \n",
    "            callbacks=[reduce_lr, early], \n",
    "            validation_data=([[val_x[col] for col in cat_cols], val_x[num_cols]], val_y)\n",
    "        )\n",
    "\n",
    "        y_pred = model.predict([[val_x[col] for col in cat_cols], val_x[num_cols]], batch_size=BATCH_SIZE)\n",
    "        y_pred_meta_dnn[val] += y_pred\n",
    "        y_pred_final_dnn += model.predict([[Xtest[col] for col in cat_cols], Xtest[num_cols]], batch_size=BATCH_SIZE)\n",
    "        \n",
    "        score = rmspe(val_y, y_pred.ravel())\n",
    "        oof_score += score\n",
    "        seed_score += score\n",
    "        print(\"Seed-{} | Fold-{} | OOF Score: {}\".format(seed, idx, score))\n",
    "    \n",
    "    print(\"\\nSeed: {} | Aggregate OOF Score: {}\\n\\n\".format(seed, (seed_score / FOLD)))\n",
    "\n",
    "\n",
    "y_pred_meta_dnn = y_pred_meta_dnn / float(len(SEEDS))\n",
    "y_pred_final_dnn = y_pred_final_dnn / float(counter)\n",
    "oof_score /= float(counter)\n",
    "print(\"Aggregate OOF Score: {}\".format(oof_score))"
   ]
  },
  {
   "cell_type": "markdown",
   "id": "gorgeous-sound",
   "metadata": {
    "papermill": {
     "duration": 0.145572,
     "end_time": "2021-08-28T07:55:48.114706",
     "exception": false,
     "start_time": "2021-08-28T07:55:47.969134",
     "status": "completed"
    },
    "tags": []
   },
   "source": [
    "## Weighted Average Ensemble"
   ]
  },
  {
   "cell_type": "code",
   "execution_count": 39,
   "id": "hindu-snapshot",
   "metadata": {
    "execution": {
     "iopub.execute_input": "2021-08-28T07:55:48.406393Z",
     "iopub.status.busy": "2021-08-28T07:55:48.405377Z",
     "iopub.status.idle": "2021-08-28T07:55:48.410871Z",
     "shell.execute_reply": "2021-08-28T07:55:48.411406Z",
     "shell.execute_reply.started": "2021-08-27T12:53:34.441877Z"
    },
    "papermill": {
     "duration": 0.152967,
     "end_time": "2021-08-28T07:55:48.411583",
     "exception": false,
     "start_time": "2021-08-28T07:55:48.258616",
     "status": "completed"
    },
    "tags": []
   },
   "outputs": [],
   "source": [
    "y_pred_final_gbr = np.array([y_pred_final_gbr]).T\n",
    "y_pred_final_lgb = np.array([y_pred_final_lgb]).T\n",
    "y_pred_final_dnn = y_pred_final_dnn.clip(0, 1e10)\n",
    "\n",
    "y_pred_final = (y_pred_final_lgb * 0.6) + (y_pred_final_gbr * 0.2) + (y_pred_final_dnn * 0.2)"
   ]
  },
  {
   "cell_type": "markdown",
   "id": "activated-wichita",
   "metadata": {
    "papermill": {
     "duration": 0.145768,
     "end_time": "2021-08-28T07:55:48.700686",
     "exception": false,
     "start_time": "2021-08-28T07:55:48.554918",
     "status": "completed"
    },
    "tags": []
   },
   "source": [
    "## Create submission file"
   ]
  },
  {
   "cell_type": "code",
   "execution_count": 40,
   "id": "postal-brown",
   "metadata": {
    "execution": {
     "iopub.execute_input": "2021-08-28T07:55:48.994996Z",
     "iopub.status.busy": "2021-08-28T07:55:48.993959Z",
     "iopub.status.idle": "2021-08-28T07:55:49.014028Z",
     "shell.execute_reply": "2021-08-28T07:55:49.014663Z",
     "shell.execute_reply.started": "2021-08-27T12:55:08.421802Z"
    },
    "papermill": {
     "duration": 0.169228,
     "end_time": "2021-08-28T07:55:49.014880",
     "exception": false,
     "start_time": "2021-08-28T07:55:48.845652",
     "status": "completed"
    },
    "tags": []
   },
   "outputs": [
    {
     "data": {
      "text/html": [
       "<div>\n",
       "<style scoped>\n",
       "    .dataframe tbody tr th:only-of-type {\n",
       "        vertical-align: middle;\n",
       "    }\n",
       "\n",
       "    .dataframe tbody tr th {\n",
       "        vertical-align: top;\n",
       "    }\n",
       "\n",
       "    .dataframe thead th {\n",
       "        text-align: right;\n",
       "    }\n",
       "</style>\n",
       "<table border=\"1\" class=\"dataframe\">\n",
       "  <thead>\n",
       "    <tr style=\"text-align: right;\">\n",
       "      <th></th>\n",
       "      <th>row_id</th>\n",
       "      <th>target</th>\n",
       "    </tr>\n",
       "  </thead>\n",
       "  <tbody>\n",
       "    <tr>\n",
       "      <th>0</th>\n",
       "      <td>0-4</td>\n",
       "      <td>0.000968</td>\n",
       "    </tr>\n",
       "    <tr>\n",
       "      <th>1</th>\n",
       "      <td>0-32</td>\n",
       "      <td>0.001195</td>\n",
       "    </tr>\n",
       "    <tr>\n",
       "      <th>2</th>\n",
       "      <td>0-34</td>\n",
       "      <td>0.001195</td>\n",
       "    </tr>\n",
       "  </tbody>\n",
       "</table>\n",
       "</div>"
      ],
      "text/plain": [
       "  row_id    target\n",
       "0    0-4  0.000968\n",
       "1   0-32  0.001195\n",
       "2   0-34  0.001195"
      ]
     },
     "execution_count": 40,
     "metadata": {},
     "output_type": "execute_result"
    }
   ],
   "source": [
    "submit_df = pd.DataFrame()\n",
    "submit_df['row_id'] = test_df['row_id']\n",
    "submit_df['target'] = y_pred_final.ravel()\n",
    "submit_df.to_csv(\"./submission.csv\", index=False)\n",
    "submit_df.head()"
   ]
  },
  {
   "cell_type": "code",
   "execution_count": null,
   "id": "velvet-essay",
   "metadata": {
    "papermill": {
     "duration": 0.143511,
     "end_time": "2021-08-28T07:55:49.303973",
     "exception": false,
     "start_time": "2021-08-28T07:55:49.160462",
     "status": "completed"
    },
    "tags": []
   },
   "outputs": [],
   "source": []
  }
 ],
 "metadata": {
  "kernelspec": {
   "display_name": "Python 3",
   "language": "python",
   "name": "python3"
  },
  "language_info": {
   "codemirror_mode": {
    "name": "ipython",
    "version": 3
   },
   "file_extension": ".py",
   "mimetype": "text/x-python",
   "name": "python",
   "nbconvert_exporter": "python",
   "pygments_lexer": "ipython3",
   "version": "3.7.10"
  },
  "papermill": {
   "default_parameters": {},
   "duration": 14664.814311,
   "end_time": "2021-08-28T07:55:51.568593",
   "environment_variables": {},
   "exception": null,
   "input_path": "__notebook__.ipynb",
   "output_path": "__notebook__.ipynb",
   "parameters": {},
   "start_time": "2021-08-28T03:51:26.754282",
   "version": "2.3.3"
  }
 },
 "nbformat": 4,
 "nbformat_minor": 5
}
