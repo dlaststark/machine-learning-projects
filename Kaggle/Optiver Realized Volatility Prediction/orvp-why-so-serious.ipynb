{
 "cells": [
  {
   "cell_type": "markdown",
   "id": "0c997c7d",
   "metadata": {
    "papermill": {
     "duration": 0.023017,
     "end_time": "2021-09-20T10:03:55.545780",
     "exception": false,
     "start_time": "2021-09-20T10:03:55.522763",
     "status": "completed"
    },
    "tags": []
   },
   "source": [
    "## Import libraries"
   ]
  },
  {
   "cell_type": "code",
   "execution_count": 1,
   "id": "f76bbc1d",
   "metadata": {
    "_cell_guid": "b1076dfc-b9ad-4769-8c92-a6c4dae69d19",
    "_uuid": "8f2839f25d086af736a60e9eeb907d3b93b6e0e5",
    "execution": {
     "iopub.execute_input": "2021-09-20T10:03:55.598581Z",
     "iopub.status.busy": "2021-09-20T10:03:55.597843Z",
     "iopub.status.idle": "2021-09-20T10:04:03.102012Z",
     "shell.execute_reply": "2021-09-20T10:04:03.100861Z",
     "shell.execute_reply.started": "2021-09-08T05:46:46.859404Z"
    },
    "papermill": {
     "duration": 7.53615,
     "end_time": "2021-09-20T10:04:03.102173",
     "exception": false,
     "start_time": "2021-09-20T10:03:55.566023",
     "status": "completed"
    },
    "tags": []
   },
   "outputs": [
    {
     "data": {
      "text/html": [
       "<style type='text/css'>\n",
       ".datatable table.frame { margin-bottom: 0; }\n",
       ".datatable table.frame thead { border-bottom: none; }\n",
       ".datatable table.frame tr.coltypes td {  color: #FFFFFF;  line-height: 6px;  padding: 0 0.5em;}\n",
       ".datatable .bool    { background: #DDDD99; }\n",
       ".datatable .object  { background: #565656; }\n",
       ".datatable .int     { background: #5D9E5D; }\n",
       ".datatable .float   { background: #4040CC; }\n",
       ".datatable .str     { background: #CC4040; }\n",
       ".datatable .time    { background: #40CC40; }\n",
       ".datatable .row_index {  background: var(--jp-border-color3);  border-right: 1px solid var(--jp-border-color0);  color: var(--jp-ui-font-color3);  font-size: 9px;}\n",
       ".datatable .frame tbody td { text-align: left; }\n",
       ".datatable .frame tr.coltypes .row_index {  background: var(--jp-border-color0);}\n",
       ".datatable th:nth-child(2) { padding-left: 12px; }\n",
       ".datatable .hellipsis {  color: var(--jp-cell-editor-border-color);}\n",
       ".datatable .vellipsis {  background: var(--jp-layout-color0);  color: var(--jp-cell-editor-border-color);}\n",
       ".datatable .na {  color: var(--jp-cell-editor-border-color);  font-size: 80%;}\n",
       ".datatable .sp {  opacity: 0.25;}\n",
       ".datatable .footer { font-size: 9px; }\n",
       ".datatable .frame_dimensions {  background: var(--jp-border-color3);  border-top: 1px solid var(--jp-border-color0);  color: var(--jp-ui-font-color3);  display: inline-block;  opacity: 0.6;  padding: 1px 10px 1px 5px;}\n",
       "</style>\n"
      ],
      "text/plain": [
       "<IPython.core.display.HTML object>"
      ]
     },
     "metadata": {},
     "output_type": "display_data"
    }
   ],
   "source": [
    "import os\n",
    "import gc\n",
    "import glob\n",
    "import joblib\n",
    "import numpy.matlib\n",
    "import numpy as np\n",
    "import pandas as pd\n",
    "from tqdm import tqdm\n",
    "from sklearn.cluster import KMeans\n",
    "from joblib import Parallel, delayed\n",
    "from IPython.core.display import display\n",
    "from sklearn.model_selection import KFold\n",
    "from sklearn.preprocessing import MinMaxScaler\n",
    "from sklearn.preprocessing import QuantileTransformer\n",
    "\n",
    "import lightgbm as lgb\n",
    "import tensorflow as tf\n",
    "from tensorflow import keras\n",
    "from keras import backend as K\n",
    "from keras.backend import sigmoid\n",
    "from keras.layers import Activation\n",
    "from keras.utils.generic_utils import get_custom_objects\n",
    "from sklearn.experimental import enable_hist_gradient_boosting\n",
    "from sklearn.ensemble import HistGradientBoostingRegressor\n",
    "\n",
    "np.random.seed(42)\n",
    "tf.random.set_seed(42)"
   ]
  },
  {
   "cell_type": "markdown",
   "id": "df82b000",
   "metadata": {
    "papermill": {
     "duration": 0.019754,
     "end_time": "2021-09-20T10:04:03.142460",
     "exception": false,
     "start_time": "2021-09-20T10:04:03.122706",
     "status": "completed"
    },
    "tags": []
   },
   "source": [
    "## Helper Functions"
   ]
  },
  {
   "cell_type": "code",
   "execution_count": 2,
   "id": "16cede56",
   "metadata": {
    "execution": {
     "iopub.execute_input": "2021-09-20T10:04:03.194944Z",
     "iopub.status.busy": "2021-09-20T10:04:03.194351Z",
     "iopub.status.idle": "2021-09-20T10:04:03.196211Z",
     "shell.execute_reply": "2021-09-20T10:04:03.196664Z",
     "shell.execute_reply.started": "2021-09-08T05:46:55.013525Z"
    },
    "papermill": {
     "duration": 0.034295,
     "end_time": "2021-09-20T10:04:03.196831",
     "exception": false,
     "start_time": "2021-09-20T10:04:03.162536",
     "status": "completed"
    },
    "tags": []
   },
   "outputs": [],
   "source": [
    "def calc_wap1(df):\n",
    "    wap = (df['bid_price1'] * df['ask_size1'] + df['ask_price1'] * df['bid_size1']) / (df['bid_size1'] + df['ask_size1'])\n",
    "    return wap\n",
    "\n",
    "\n",
    "def calc_wap2(df):\n",
    "    wap = (df['bid_price2'] * df['ask_size2'] + df['ask_price2'] * df['bid_size2']) / (df['bid_size2'] + df['ask_size2'])\n",
    "    return wap\n",
    "\n",
    "\n",
    "def calc_wap3(df):\n",
    "    wap = (df['bid_price1'] * df['bid_size1'] + df['ask_price1'] * df['ask_size1']) / (df['bid_size1'] + df['ask_size1'])\n",
    "    return wap\n",
    "\n",
    "\n",
    "def calc_wap4(df):\n",
    "    wap = (df['bid_price2'] * df['bid_size2'] + df['ask_price2'] * df['ask_size2']) / (df['bid_size2'] + df['ask_size2'])\n",
    "    return wap\n",
    "\n",
    "\n",
    "def log_return(series):\n",
    "    return np.log(series).diff()\n",
    "\n",
    "\n",
    "def realized_volatility(series):\n",
    "    return np.sqrt(np.sum(series**2))\n",
    "\n",
    "\n",
    "def historical_volatility(series):\n",
    "    return np.sqrt(np.sum(series**2)/len(series))\n",
    "\n",
    "\n",
    "def count_unique(series):\n",
    "    return len(np.unique(series))\n",
    "\n",
    "    \n",
    "def tendency(price, vol):    \n",
    "    df_diff = np.diff(price)\n",
    "    val = (df_diff/price[1:])*100\n",
    "    power = np.sum(val*vol[1:])\n",
    "    return(power)\n",
    "    \n",
    "    \n",
    "def read_train_test():\n",
    "    train = pd.read_csv('../input/optiver-realized-volatility-prediction/train.csv')\n",
    "    test = pd.read_csv('../input/optiver-realized-volatility-prediction/test.csv')\n",
    "    train['row_id'] = train['stock_id'].astype(str) + '-' + train['time_id'].astype(str)\n",
    "    test['row_id'] = test['stock_id'].astype(str) + '-' + test['time_id'].astype(str)\n",
    "    print(f\"train: {train.shape} \\ntest: {test.shape}\")\n",
    "    return train, test\n",
    "\n",
    "\n",
    "def rmspe(y_true, y_pred):\n",
    "    return np.sqrt(np.mean(np.square((y_true - y_pred) / y_true)))\n",
    "\n",
    "\n",
    "def feval_rmspe(y_pred, lgb_train):\n",
    "    y_true = lgb_train.get_label()\n",
    "    return 'RMSPE', rmspe(y_true, y_pred), False\n",
    "\n",
    "\n",
    "def root_mean_squared_per_error(y_true, y_pred):\n",
    "    return K.sqrt(K.mean(K.square( (y_true - y_pred)/ y_true )))"
   ]
  },
  {
   "cell_type": "code",
   "execution_count": 3,
   "id": "cda12d9e",
   "metadata": {
    "execution": {
     "iopub.execute_input": "2021-09-20T10:04:03.240637Z",
     "iopub.status.busy": "2021-09-20T10:04:03.240026Z",
     "iopub.status.idle": "2021-09-20T10:04:03.259961Z",
     "shell.execute_reply": "2021-09-20T10:04:03.259439Z",
     "shell.execute_reply.started": "2021-09-08T05:46:55.026814Z"
    },
    "papermill": {
     "duration": 0.043038,
     "end_time": "2021-09-20T10:04:03.260121",
     "exception": false,
     "start_time": "2021-09-20T10:04:03.217083",
     "status": "completed"
    },
    "tags": []
   },
   "outputs": [],
   "source": [
    "def book_preprocessor(file_path):\n",
    "    df = pd.read_parquet(file_path)\n",
    "\n",
    "    df['wap1'] = calc_wap1(df)\n",
    "    df['wap2'] = calc_wap2(df)\n",
    "    df['wap3'] = calc_wap3(df)\n",
    "    df['wap4'] = calc_wap4(df)\n",
    "    \n",
    "    df['log_return1'] = df.groupby(['time_id'])['wap1'].apply(log_return)\n",
    "    df['log_return2'] = df.groupby(['time_id'])['wap2'].apply(log_return)\n",
    "    df['log_return3'] = df.groupby(['time_id'])['wap3'].apply(log_return)\n",
    "    df['log_return4'] = df.groupby(['time_id'])['wap4'].apply(log_return)\n",
    "    \n",
    "    wap1_mean = df['wap1'].mean()\n",
    "    df['waph1'] = df['wap1'].apply(lambda x: x - wap1_mean)\n",
    "    \n",
    "    df['wap_balance'] = abs(df['wap1'] - df['wap2'])\n",
    "    df['price_spread'] = (df['ask_price1'] - df['bid_price1']) / ((df['ask_price1'] + df['bid_price1']) / 2)\n",
    "    df['price_spread2'] = (df['ask_price2'] - df['bid_price2']) / ((df['ask_price2'] + df['bid_price2']) / 2)\n",
    "    df['bid_spread'] = df['bid_price1'] - df['bid_price2']\n",
    "    df['ask_spread'] = df['ask_price1'] - df['ask_price2']\n",
    "    df[\"bid_ask_spread\"] = abs(df['bid_spread'] - df['ask_spread'])\n",
    "    df['total_volume'] = (df['ask_size1'] + df['ask_size2']) + (df['bid_size1'] + df['bid_size2'])\n",
    "    df['volume_imbalance'] = abs((df['ask_size1'] + df['ask_size2']) - (df['bid_size1'] + df['bid_size2']))\n",
    "    \n",
    "    create_feature_dict = {\n",
    "        'wap1': [np.sum, np.std],\n",
    "        'wap2': [np.sum, np.std],\n",
    "        'wap3': [np.sum, np.std],\n",
    "        'wap4': [np.sum, np.std],\n",
    "        'log_return1': [realized_volatility, historical_volatility],\n",
    "        'log_return2': [realized_volatility],\n",
    "        'log_return3': [realized_volatility],\n",
    "        'log_return4': [realized_volatility],\n",
    "        'waph1': [historical_volatility], \n",
    "        'wap_balance': [np.sum, np.max],\n",
    "        'price_spread':[np.sum, np.max],\n",
    "        'price_spread2':[np.sum, np.max],\n",
    "        'bid_spread':[np.sum, np.max],\n",
    "        'ask_spread':[np.sum, np.max],\n",
    "        'total_volume':[np.sum, np.max],\n",
    "        'volume_imbalance':[np.sum, np.max],\n",
    "        \"bid_ask_spread\":[np.sum,  np.max]\n",
    "    }\n",
    "    \n",
    "    create_feature_dict_time = {\n",
    "        'log_return1': [realized_volatility],\n",
    "        'log_return2': [realized_volatility],\n",
    "        'log_return3': [realized_volatility],\n",
    "        'log_return4': [realized_volatility],\n",
    "        'waph1': [historical_volatility]\n",
    "    }\n",
    "    \n",
    "    def get_stats_window(fe_dict,seconds_in_bucket, add_suffix = False):\n",
    "        df_feature = df[df['seconds_in_bucket'] >= seconds_in_bucket].groupby(['time_id']).agg(fe_dict).reset_index()\n",
    "        df_feature.columns = ['_'.join(col) for col in df_feature.columns]\n",
    "        if add_suffix:\n",
    "            df_feature = df_feature.add_suffix('_' + str(seconds_in_bucket))\n",
    "        return df_feature\n",
    "    \n",
    "    \n",
    "    df_feature = get_stats_window(create_feature_dict,seconds_in_bucket = 0, add_suffix = False)\n",
    "    df_feature_500 = get_stats_window(create_feature_dict_time,seconds_in_bucket = 500, add_suffix = True)\n",
    "    df_feature_400 = get_stats_window(create_feature_dict_time,seconds_in_bucket = 400, add_suffix = True)\n",
    "    df_feature_300 = get_stats_window(create_feature_dict_time,seconds_in_bucket = 300, add_suffix = True)\n",
    "    df_feature_200 = get_stats_window(create_feature_dict_time,seconds_in_bucket = 200, add_suffix = True)\n",
    "    df_feature_100 = get_stats_window(create_feature_dict_time,seconds_in_bucket = 100, add_suffix = True)\n",
    "\n",
    "    df_feature = df_feature.merge(df_feature_500, how = 'left', left_on = 'time_id_', right_on = 'time_id__500')\n",
    "    df_feature = df_feature.merge(df_feature_400, how = 'left', left_on = 'time_id_', right_on = 'time_id__400')\n",
    "    df_feature = df_feature.merge(df_feature_300, how = 'left', left_on = 'time_id_', right_on = 'time_id__300')\n",
    "    df_feature = df_feature.merge(df_feature_200, how = 'left', left_on = 'time_id_', right_on = 'time_id__200')\n",
    "    df_feature = df_feature.merge(df_feature_100, how = 'left', left_on = 'time_id_', right_on = 'time_id__100')\n",
    "    \n",
    "    df_feature.drop(['time_id__500','time_id__400', 'time_id__300', 'time_id__200','time_id__100'], axis = 1, inplace = True)\n",
    "    \n",
    "    stock_id = file_path.split('=')[1]\n",
    "    df_feature['row_id'] = df_feature['time_id_'].apply(lambda x: f'{stock_id}-{x}')\n",
    "    df_feature.drop(['time_id_'], axis = 1, inplace = True)\n",
    "    return df_feature"
   ]
  },
  {
   "cell_type": "code",
   "execution_count": 4,
   "id": "7c51025c",
   "metadata": {
    "execution": {
     "iopub.execute_input": "2021-09-20T10:04:03.319880Z",
     "iopub.status.busy": "2021-09-20T10:04:03.319117Z",
     "iopub.status.idle": "2021-09-20T10:04:03.321820Z",
     "shell.execute_reply": "2021-09-20T10:04:03.321253Z",
     "shell.execute_reply.started": "2021-09-08T05:46:55.052451Z"
    },
    "papermill": {
     "duration": 0.041157,
     "end_time": "2021-09-20T10:04:03.321953",
     "exception": false,
     "start_time": "2021-09-20T10:04:03.280796",
     "status": "completed"
    },
    "tags": []
   },
   "outputs": [],
   "source": [
    "def trade_preprocessor(file_path):\n",
    "    df = pd.read_parquet(file_path)\n",
    "    df['log_return'] = df.groupby('time_id')['price'].apply(log_return)\n",
    "    df['amount'] = df['price'] * df['size']\n",
    "    \n",
    "    price_mean = df['price'].mean()\n",
    "    df['price1'] = df['price'].apply(lambda x: x - price_mean)\n",
    "\n",
    "    create_feature_dict = {\n",
    "        'log_return':[realized_volatility, historical_volatility],\n",
    "        'price1': [historical_volatility], \n",
    "        'seconds_in_bucket':[count_unique],\n",
    "        'size':[np.sum, np.max, np.min],\n",
    "        'order_count':[np.sum,np.max],\n",
    "        'amount':[np.sum,np.max,np.min],\n",
    "    }\n",
    "    \n",
    "    create_feature_dict_time = {\n",
    "        'log_return':[realized_volatility],\n",
    "        'price1': [historical_volatility], \n",
    "        'seconds_in_bucket':[count_unique],\n",
    "        'size':[np.sum],\n",
    "        'order_count':[np.sum],\n",
    "    }\n",
    "    \n",
    "    def get_stats_window(fe_dict,seconds_in_bucket, add_suffix = False):\n",
    "        df_feature = df[df['seconds_in_bucket'] >= seconds_in_bucket].groupby(['time_id']).agg(fe_dict).reset_index()\n",
    "        df_feature.columns = ['_'.join(col) for col in df_feature.columns]\n",
    "        if add_suffix:\n",
    "            df_feature = df_feature.add_suffix('_' + str(seconds_in_bucket))\n",
    "        return df_feature\n",
    "    \n",
    "    \n",
    "    df_feature = get_stats_window(create_feature_dict,seconds_in_bucket = 0, add_suffix = False)\n",
    "    df_feature_500 = get_stats_window(create_feature_dict_time,seconds_in_bucket = 500, add_suffix = True)\n",
    "    df_feature_400 = get_stats_window(create_feature_dict_time,seconds_in_bucket = 400, add_suffix = True)\n",
    "    df_feature_300 = get_stats_window(create_feature_dict_time,seconds_in_bucket = 300, add_suffix = True)\n",
    "    df_feature_200 = get_stats_window(create_feature_dict_time,seconds_in_bucket = 200, add_suffix = True)\n",
    "    df_feature_100 = get_stats_window(create_feature_dict_time,seconds_in_bucket = 100, add_suffix = True)\n",
    "    \n",
    "    lis = []\n",
    "    for n_time_id in df['time_id'].unique():\n",
    "        df_id = df[df['time_id'] == n_time_id]        \n",
    "        tendencyV = tendency(df_id['price'].values, df_id['size'].values)      \n",
    "        f_max = np.sum(df_id['price'].values > np.mean(df_id['price'].values))\n",
    "        f_min = np.sum(df_id['price'].values < np.mean(df_id['price'].values))\n",
    "        df_max =  np.sum(np.diff(df_id['price'].values) > 0)\n",
    "        df_min =  np.sum(np.diff(df_id['price'].values) < 0)\n",
    "        \n",
    "        abs_diff = np.median(np.abs( df_id['price'].values - np.mean(df_id['price'].values)))        \n",
    "        energy = np.mean(df_id['price'].values**2)\n",
    "        iqr_p = np.percentile(df_id['price'].values,75) - np.percentile(df_id['price'].values,25)\n",
    "        \n",
    "        abs_diff_v = np.median(np.abs( df_id['size'].values - np.mean(df_id['size'].values)))        \n",
    "        energy_v = np.sum(df_id['size'].values**2)\n",
    "        iqr_p_v = np.percentile(df_id['size'].values,75) - np.percentile(df_id['size'].values,25)\n",
    "        \n",
    "        lis.append({\n",
    "            'time_id':n_time_id,\n",
    "            'tendency':tendencyV,\n",
    "            'f_max':f_max,\n",
    "            'f_min':f_min,\n",
    "            'df_max':df_max,\n",
    "            'df_min':df_min,\n",
    "            'abs_diff':abs_diff,\n",
    "            'energy':energy,\n",
    "            'iqr_p':iqr_p,\n",
    "            'abs_diff_v':abs_diff_v,\n",
    "            'energy_v':energy_v,\n",
    "            'iqr_p_v':iqr_p_v\n",
    "        })\n",
    "    \n",
    "    df_lr = pd.DataFrame(lis)\n",
    "    df_feature = df_feature.merge(df_lr, how = 'left', left_on = 'time_id_', right_on = 'time_id')\n",
    "    \n",
    "    df_feature = df_feature.merge(df_feature_500, how = 'left', left_on = 'time_id_', right_on = 'time_id__500')\n",
    "    df_feature = df_feature.merge(df_feature_400, how = 'left', left_on = 'time_id_', right_on = 'time_id__400')\n",
    "    df_feature = df_feature.merge(df_feature_300, how = 'left', left_on = 'time_id_', right_on = 'time_id__300')\n",
    "    df_feature = df_feature.merge(df_feature_200, how = 'left', left_on = 'time_id_', right_on = 'time_id__200')\n",
    "    df_feature = df_feature.merge(df_feature_100, how = 'left', left_on = 'time_id_', right_on = 'time_id__100')\n",
    "    \n",
    "    df_feature.drop(['time_id__500','time_id__400', 'time_id__300', 'time_id__200','time_id','time_id__100'], axis = 1, inplace = True)\n",
    "    \n",
    "    df_feature = df_feature.add_prefix('trade_')\n",
    "    stock_id = file_path.split('=')[1]\n",
    "    df_feature['row_id'] = df_feature['trade_time_id_'].apply(lambda x:f'{stock_id}-{x}')\n",
    "    df_feature.drop(['trade_time_id_'], axis = 1, inplace = True)\n",
    "    return df_feature"
   ]
  },
  {
   "cell_type": "code",
   "execution_count": 5,
   "id": "07fe05f6",
   "metadata": {
    "execution": {
     "iopub.execute_input": "2021-09-20T10:04:03.365367Z",
     "iopub.status.busy": "2021-09-20T10:04:03.364732Z",
     "iopub.status.idle": "2021-09-20T10:04:03.373699Z",
     "shell.execute_reply": "2021-09-20T10:04:03.374132Z",
     "shell.execute_reply.started": "2021-09-08T05:46:55.082986Z"
    },
    "papermill": {
     "duration": 0.03225,
     "end_time": "2021-09-20T10:04:03.374311",
     "exception": false,
     "start_time": "2021-09-20T10:04:03.342061",
     "status": "completed"
    },
    "tags": []
   },
   "outputs": [],
   "source": [
    "def get_time_stock(df):\n",
    "    vol_cols = [\n",
    "        'log_return1_realized_volatility', 'log_return2_realized_volatility', 'log_return1_realized_volatility_500', 'log_return2_realized_volatility_500', \n",
    "        'log_return1_realized_volatility_400', 'log_return2_realized_volatility_400', 'log_return1_realized_volatility_300', 'log_return2_realized_volatility_300', \n",
    "        'log_return1_realized_volatility_200', 'log_return2_realized_volatility_200', 'trade_log_return_realized_volatility', 'trade_log_return_realized_volatility_500', \n",
    "        'trade_log_return_realized_volatility_400', 'trade_log_return_realized_volatility_300', 'trade_log_return_realized_volatility_200'\n",
    "    ]\n",
    "\n",
    "    df_stock_id = df.groupby(['stock_id'])[vol_cols].agg(['mean', 'std', 'max', 'min', ]).reset_index()\n",
    "    df_stock_id.columns = ['_'.join(col) for col in df_stock_id.columns]\n",
    "    df_stock_id = df_stock_id.add_suffix('_' + 'stock')\n",
    "\n",
    "    df_time_id = df.groupby(['time_id'])[vol_cols].agg(['mean', 'std', 'max', 'min', ]).reset_index()\n",
    "    df_time_id.columns = ['_'.join(col) for col in df_time_id.columns]\n",
    "    df_time_id = df_time_id.add_suffix('_' + 'time')\n",
    "    \n",
    "    df = df.merge(df_stock_id, how = 'left', left_on = ['stock_id'], right_on = ['stock_id__stock'])\n",
    "    df = df.merge(df_time_id, how = 'left', left_on = ['time_id'], right_on = ['time_id__time'])\n",
    "    df.drop(['stock_id__stock', 'time_id__time'], axis = 1, inplace = True)\n",
    "    return df\n",
    "    \n",
    "\n",
    "def preprocessor(list_stock_ids, is_train = True):\n",
    "    data_dir = '../input/optiver-realized-volatility-prediction/'\n",
    "    \n",
    "    def for_joblib(stock_id):\n",
    "        \n",
    "        if is_train:\n",
    "            file_path_book = data_dir + \"book_train.parquet/stock_id=\" + str(stock_id)\n",
    "            file_path_trade = data_dir + \"trade_train.parquet/stock_id=\" + str(stock_id)\n",
    "        \n",
    "        else:\n",
    "            file_path_book = data_dir + \"book_test.parquet/stock_id=\" + str(stock_id)\n",
    "            file_path_trade = data_dir + \"trade_test.parquet/stock_id=\" + str(stock_id)\n",
    "    \n",
    "        df_tmp = pd.merge(book_preprocessor(file_path_book), trade_preprocessor(file_path_trade), on = 'row_id', how = 'left')\n",
    "        return df_tmp\n",
    "    \n",
    "    \n",
    "    df = Parallel(n_jobs = -1, verbose = 1)(delayed(for_joblib)(stock_id) for stock_id in list_stock_ids)\n",
    "    df = pd.concat(df, ignore_index = True)\n",
    "    return df"
   ]
  },
  {
   "cell_type": "markdown",
   "id": "eaad395f",
   "metadata": {
    "papermill": {
     "duration": 0.01986,
     "end_time": "2021-09-20T10:04:03.415540",
     "exception": false,
     "start_time": "2021-09-20T10:04:03.395680",
     "status": "completed"
    },
    "tags": []
   },
   "source": [
    "## Prepare data for model training"
   ]
  },
  {
   "cell_type": "code",
   "execution_count": 6,
   "id": "ee573153",
   "metadata": {
    "execution": {
     "iopub.execute_input": "2021-09-20T10:04:03.458623Z",
     "iopub.status.busy": "2021-09-20T10:04:03.457976Z",
     "iopub.status.idle": "2021-09-20T10:04:04.403643Z",
     "shell.execute_reply": "2021-09-20T10:04:04.404104Z",
     "shell.execute_reply.started": "2021-09-08T05:46:55.106461Z"
    },
    "papermill": {
     "duration": 0.968625,
     "end_time": "2021-09-20T10:04:04.404267",
     "exception": false,
     "start_time": "2021-09-20T10:04:03.435642",
     "status": "completed"
    },
    "tags": []
   },
   "outputs": [
    {
     "name": "stdout",
     "output_type": "stream",
     "text": [
      "train: (428932, 4) \n",
      "test: (3, 3)\n"
     ]
    }
   ],
   "source": [
    "train, test = read_train_test()"
   ]
  },
  {
   "cell_type": "code",
   "execution_count": 7,
   "id": "9d177808",
   "metadata": {
    "execution": {
     "iopub.execute_input": "2021-09-20T10:04:04.452538Z",
     "iopub.status.busy": "2021-09-20T10:04:04.451953Z",
     "iopub.status.idle": "2021-09-20T10:55:37.879413Z",
     "shell.execute_reply": "2021-09-20T10:55:37.879970Z",
     "shell.execute_reply.started": "2021-09-08T05:46:56.029442Z"
    },
    "papermill": {
     "duration": 3093.455463,
     "end_time": "2021-09-20T10:55:37.880472",
     "exception": false,
     "start_time": "2021-09-20T10:04:04.425009",
     "status": "completed"
    },
    "tags": []
   },
   "outputs": [
    {
     "name": "stderr",
     "output_type": "stream",
     "text": [
      "[Parallel(n_jobs=-1)]: Using backend LokyBackend with 4 concurrent workers.\n",
      "[Parallel(n_jobs=-1)]: Done  42 tasks      | elapsed: 20.2min\n",
      "[Parallel(n_jobs=-1)]: Done 112 out of 112 | elapsed: 51.5min finished\n"
     ]
    },
    {
     "name": "stdout",
     "output_type": "stream",
     "text": [
      "train: (428932, 107)\n"
     ]
    }
   ],
   "source": [
    "# Process train data\n",
    "train_stock_ids = train['stock_id'].unique()\n",
    "train_ = preprocessor(train_stock_ids, is_train = True)\n",
    "train = train.merge(train_, on = ['row_id'], how = 'left')\n",
    "print(f\"train: {train.shape}\")"
   ]
  },
  {
   "cell_type": "code",
   "execution_count": 8,
   "id": "0d543046",
   "metadata": {
    "execution": {
     "iopub.execute_input": "2021-09-20T10:55:37.933351Z",
     "iopub.status.busy": "2021-09-20T10:55:37.932734Z",
     "iopub.status.idle": "2021-09-20T10:55:38.252376Z",
     "shell.execute_reply": "2021-09-20T10:55:38.252822Z",
     "shell.execute_reply.started": "2021-09-08T06:26:29.224969Z"
    },
    "papermill": {
     "duration": 0.350716,
     "end_time": "2021-09-20T10:55:38.252986",
     "exception": false,
     "start_time": "2021-09-20T10:55:37.902270",
     "status": "completed"
    },
    "tags": []
   },
   "outputs": [
    {
     "name": "stderr",
     "output_type": "stream",
     "text": [
      "[Parallel(n_jobs=-1)]: Using backend LokyBackend with 4 concurrent workers.\n"
     ]
    },
    {
     "name": "stdout",
     "output_type": "stream",
     "text": [
      "test: (3, 106)\n"
     ]
    },
    {
     "name": "stderr",
     "output_type": "stream",
     "text": [
      "[Parallel(n_jobs=-1)]: Done   1 out of   1 | elapsed:    0.3s finished\n"
     ]
    }
   ],
   "source": [
    "# Process test data\n",
    "test_stock_ids = test['stock_id'].unique()\n",
    "test_ = preprocessor(test_stock_ids, is_train = False)\n",
    "test = test.merge(test_, on = ['row_id'], how = 'left')\n",
    "print(f\"test: {test.shape}\")"
   ]
  },
  {
   "cell_type": "code",
   "execution_count": 9,
   "id": "784fa777",
   "metadata": {
    "execution": {
     "iopub.execute_input": "2021-09-20T10:55:38.302883Z",
     "iopub.status.busy": "2021-09-20T10:55:38.302170Z",
     "iopub.status.idle": "2021-09-20T10:55:42.822548Z",
     "shell.execute_reply": "2021-09-20T10:55:42.822010Z",
     "shell.execute_reply.started": "2021-09-08T06:26:32.343791Z"
    },
    "papermill": {
     "duration": 4.547256,
     "end_time": "2021-09-20T10:55:42.822712",
     "exception": false,
     "start_time": "2021-09-20T10:55:38.275456",
     "status": "completed"
    },
    "tags": []
   },
   "outputs": [
    {
     "name": "stdout",
     "output_type": "stream",
     "text": [
      "train: (428932, 227) \n",
      "test: (3, 226)\n"
     ]
    }
   ],
   "source": [
    "# Create group features\n",
    "train = get_time_stock(train)\n",
    "test = get_time_stock(test)\n",
    "print(f\"train: {train.shape} \\ntest: {test.shape}\")"
   ]
  },
  {
   "cell_type": "code",
   "execution_count": 10,
   "id": "9b31ea57",
   "metadata": {
    "execution": {
     "iopub.execute_input": "2021-09-20T10:55:42.879220Z",
     "iopub.status.busy": "2021-09-20T10:55:42.878620Z",
     "iopub.status.idle": "2021-09-20T10:55:42.913781Z",
     "shell.execute_reply": "2021-09-20T10:55:42.913202Z",
     "shell.execute_reply.started": "2021-09-08T06:26:39.044107Z"
    },
    "papermill": {
     "duration": 0.067723,
     "end_time": "2021-09-20T10:55:42.913909",
     "exception": false,
     "start_time": "2021-09-20T10:55:42.846186",
     "status": "completed"
    },
    "tags": []
   },
   "outputs": [
    {
     "name": "stdout",
     "output_type": "stream",
     "text": [
      "train: (428932, 236) \n",
      "test: (3, 235)\n"
     ]
    }
   ],
   "source": [
    "# Tau features\n",
    "train['size_tau'] = np.sqrt( 1/ train['trade_seconds_in_bucket_count_unique'] )\n",
    "train['size_tau_400'] = np.sqrt( 1/ train['trade_seconds_in_bucket_count_unique_400'] )\n",
    "train['size_tau_300'] = np.sqrt( 1/ train['trade_seconds_in_bucket_count_unique_300'] )\n",
    "train['size_tau_200'] = np.sqrt( 1/ train['trade_seconds_in_bucket_count_unique_200'] )\n",
    "train['size_tau2'] = np.sqrt( 1/ train['trade_order_count_sum'] )\n",
    "train['size_tau2_400'] = np.sqrt( 0.33/ train['trade_order_count_sum'] )\n",
    "train['size_tau2_300'] = np.sqrt( 0.5/ train['trade_order_count_sum'] )\n",
    "train['size_tau2_200'] = np.sqrt( 0.66/ train['trade_order_count_sum'] )\n",
    "train['size_tau2_d'] = train['size_tau2_400'] - train['size_tau2']\n",
    "\n",
    "test['size_tau'] = np.sqrt( 1/ test['trade_seconds_in_bucket_count_unique'] )\n",
    "test['size_tau_400'] = np.sqrt( 1/ test['trade_seconds_in_bucket_count_unique_400'] )\n",
    "test['size_tau_300'] = np.sqrt( 1/ test['trade_seconds_in_bucket_count_unique_300'] )\n",
    "test['size_tau_200'] = np.sqrt( 1/ test['trade_seconds_in_bucket_count_unique_200'] )\n",
    "test['size_tau2'] = np.sqrt( 1/ test['trade_order_count_sum'] )\n",
    "test['size_tau2_400'] = np.sqrt( 0.33/ test['trade_order_count_sum'] )\n",
    "test['size_tau2_300'] = np.sqrt( 0.5/ test['trade_order_count_sum'] )\n",
    "test['size_tau2_200'] = np.sqrt( 0.66/ test['trade_order_count_sum'] )\n",
    "test['size_tau2_d'] = test['size_tau2_400'] - test['size_tau2']\n",
    "\n",
    "print(f\"train: {train.shape} \\ntest: {test.shape}\")"
   ]
  },
  {
   "cell_type": "code",
   "execution_count": 11,
   "id": "94cfcd0b",
   "metadata": {
    "execution": {
     "iopub.execute_input": "2021-09-20T10:55:42.966223Z",
     "iopub.status.busy": "2021-09-20T10:55:42.965649Z",
     "iopub.status.idle": "2021-09-20T10:55:42.968879Z",
     "shell.execute_reply": "2021-09-20T10:55:42.968274Z",
     "shell.execute_reply.started": "2021-09-08T06:26:41.098226Z"
    },
    "papermill": {
     "duration": 0.032199,
     "end_time": "2021-09-20T10:55:42.969013",
     "exception": false,
     "start_time": "2021-09-20T10:55:42.936814",
     "status": "completed"
    },
    "tags": []
   },
   "outputs": [
    {
     "data": {
      "text/plain": [
       "232"
      ]
     },
     "execution_count": 11,
     "metadata": {},
     "output_type": "execute_result"
    }
   ],
   "source": [
    "colNames = [col for col in list(train.columns) if col not in {\"stock_id\", \"time_id\", \"target\", \"row_id\"}]\n",
    "len(colNames)"
   ]
  },
  {
   "cell_type": "code",
   "execution_count": 12,
   "id": "ef0e9390",
   "metadata": {
    "execution": {
     "iopub.execute_input": "2021-09-20T10:55:43.018705Z",
     "iopub.status.busy": "2021-09-20T10:55:43.018099Z",
     "iopub.status.idle": "2021-09-20T10:55:45.471025Z",
     "shell.execute_reply": "2021-09-20T10:55:45.471451Z",
     "shell.execute_reply.started": "2021-09-08T06:26:43.865029Z"
    },
    "papermill": {
     "duration": 2.479513,
     "end_time": "2021-09-20T10:55:45.471624",
     "exception": false,
     "start_time": "2021-09-20T10:55:42.992111",
     "status": "completed"
    },
    "tags": []
   },
   "outputs": [
    {
     "name": "stderr",
     "output_type": "stream",
     "text": [
      "/opt/conda/lib/python3.7/site-packages/ipykernel_launcher.py:37: FutureWarning: Index.ravel returning ndarray is deprecated; in a future version this will return a view on self.\n",
      "/opt/conda/lib/python3.7/site-packages/ipykernel_launcher.py:41: FutureWarning: Index.ravel returning ndarray is deprecated; in a future version this will return a view on self.\n"
     ]
    }
   ],
   "source": [
    "# Generate aggregate features\n",
    "train_p = pd.read_csv('../input/optiver-realized-volatility-prediction/train.csv')\n",
    "train_p = train_p.pivot(index='time_id', columns='stock_id', values='target')\n",
    "\n",
    "corr = train_p.corr()\n",
    "ids = corr.index\n",
    "\n",
    "kmeans = KMeans(n_clusters=7, random_state=0).fit(corr.values)\n",
    "\n",
    "l = []\n",
    "for n in range(7):\n",
    "    l.append ( [ (x-1) for x in ( (ids+1)*(kmeans.labels_ == n)) if x > 0] )\n",
    "\n",
    "mat = []\n",
    "matTest = []\n",
    "\n",
    "n = 0\n",
    "for ind in l:\n",
    "    newDf = train.loc[train['stock_id'].isin(ind) ]\n",
    "    newDf = newDf.groupby(['time_id']).agg(np.nanmean)\n",
    "    newDf.loc[:,'stock_id'] = str(n)+'c1'\n",
    "    mat.append ( newDf )\n",
    "    \n",
    "    newDf = test.loc[test['stock_id'].isin(ind) ]    \n",
    "    newDf = newDf.groupby(['time_id']).agg(np.nanmean)\n",
    "    newDf.loc[:,'stock_id'] = str(n)+'c1'\n",
    "    matTest.append ( newDf )\n",
    "    \n",
    "    n+=1\n",
    "    \n",
    "mat1 = pd.concat(mat).reset_index()\n",
    "mat1.drop(columns=['target'],inplace=True)\n",
    "mat2 = pd.concat(matTest).reset_index()\n",
    "\n",
    "mat2 = pd.concat([mat2,mat1.loc[mat1.time_id==5]])\n",
    "mat1 = mat1.pivot(index='time_id', columns='stock_id')\n",
    "mat1.columns = [\"_\".join(x) for x in mat1.columns.ravel()]\n",
    "mat1.reset_index(inplace=True)\n",
    "\n",
    "mat2 = mat2.pivot(index='time_id', columns='stock_id')\n",
    "mat2.columns = [\"_\".join(x) for x in mat2.columns.ravel()]\n",
    "mat2.reset_index(inplace=True)"
   ]
  },
  {
   "cell_type": "code",
   "execution_count": 13,
   "id": "8ec26fdf",
   "metadata": {
    "execution": {
     "iopub.execute_input": "2021-09-20T10:55:45.528370Z",
     "iopub.status.busy": "2021-09-20T10:55:45.527756Z",
     "iopub.status.idle": "2021-09-20T10:55:59.220860Z",
     "shell.execute_reply": "2021-09-20T10:55:59.221269Z",
     "shell.execute_reply.started": "2021-09-08T06:26:45.281835Z"
    },
    "papermill": {
     "duration": 13.726469,
     "end_time": "2021-09-20T10:55:59.221453",
     "exception": false,
     "start_time": "2021-09-20T10:55:45.494984",
     "status": "completed"
    },
    "tags": []
   },
   "outputs": [
    {
     "name": "stdout",
     "output_type": "stream",
     "text": [
      "train: (428932, 286) \n",
      "test: (3, 285)\n"
     ]
    },
    {
     "data": {
      "text/plain": [
       "1081"
      ]
     },
     "execution_count": 13,
     "metadata": {},
     "output_type": "execute_result"
    }
   ],
   "source": [
    "nnn = [\n",
    "    'time_id',\n",
    "    'log_return1_realized_volatility_0c1',\n",
    "    'log_return1_realized_volatility_1c1',     \n",
    "    'log_return1_realized_volatility_3c1',\n",
    "    'log_return1_realized_volatility_4c1',     \n",
    "    'log_return1_realized_volatility_6c1',\n",
    "    'total_volume_sum_0c1',\n",
    "    'total_volume_sum_1c1', \n",
    "    'total_volume_sum_3c1',\n",
    "    'total_volume_sum_4c1', \n",
    "    'total_volume_sum_6c1',\n",
    "    'trade_size_sum_0c1',\n",
    "    'trade_size_sum_1c1', \n",
    "    'trade_size_sum_3c1',\n",
    "    'trade_size_sum_4c1', \n",
    "    'trade_size_sum_6c1',\n",
    "    'trade_order_count_sum_0c1',\n",
    "    'trade_order_count_sum_1c1',\n",
    "    'trade_order_count_sum_3c1',\n",
    "    'trade_order_count_sum_4c1',\n",
    "    'trade_order_count_sum_6c1',      \n",
    "    'price_spread_sum_0c1',\n",
    "    'price_spread_sum_1c1',\n",
    "    'price_spread_sum_3c1',\n",
    "    'price_spread_sum_4c1',\n",
    "    'price_spread_sum_6c1',   \n",
    "    'bid_spread_sum_0c1',\n",
    "    'bid_spread_sum_1c1',\n",
    "    'bid_spread_sum_3c1',\n",
    "    'bid_spread_sum_4c1',\n",
    "    'bid_spread_sum_6c1',       \n",
    "    'ask_spread_sum_0c1',\n",
    "    'ask_spread_sum_1c1',\n",
    "    'ask_spread_sum_3c1',\n",
    "    'ask_spread_sum_4c1',\n",
    "    'ask_spread_sum_6c1',   \n",
    "    'volume_imbalance_sum_0c1',\n",
    "    'volume_imbalance_sum_1c1',\n",
    "    'volume_imbalance_sum_3c1',\n",
    "    'volume_imbalance_sum_4c1',\n",
    "    'volume_imbalance_sum_6c1',       \n",
    "    'bid_ask_spread_sum_0c1',\n",
    "    'bid_ask_spread_sum_1c1',\n",
    "    'bid_ask_spread_sum_3c1',\n",
    "    'bid_ask_spread_sum_4c1',\n",
    "    'bid_ask_spread_sum_6c1',\n",
    "    'size_tau2_0c1',\n",
    "    'size_tau2_1c1',\n",
    "    'size_tau2_3c1',\n",
    "    'size_tau2_4c1',\n",
    "    'size_tau2_6c1'\n",
    "]\n",
    "\n",
    "train = pd.merge(train, mat1[nnn], how='left', on='time_id')\n",
    "test = pd.merge(test, mat2[nnn], how='left', on='time_id')\n",
    "print(f\"train: {train.shape} \\ntest: {test.shape}\")\n",
    "\n",
    "del mat1,mat2\n",
    "gc.collect()"
   ]
  },
  {
   "cell_type": "markdown",
   "id": "b3004ef2",
   "metadata": {
    "papermill": {
     "duration": 0.023255,
     "end_time": "2021-09-20T10:55:59.268795",
     "exception": false,
     "start_time": "2021-09-20T10:55:59.245540",
     "status": "completed"
    },
    "tags": []
   },
   "source": [
    "## HistGradientBoostingRegressor"
   ]
  },
  {
   "cell_type": "code",
   "execution_count": 14,
   "id": "ae2a7858",
   "metadata": {
    "execution": {
     "iopub.execute_input": "2021-09-20T10:55:59.325373Z",
     "iopub.status.busy": "2021-09-20T10:55:59.324768Z",
     "iopub.status.idle": "2021-09-20T10:55:59.328925Z",
     "shell.execute_reply": "2021-09-20T10:55:59.328340Z",
     "shell.execute_reply.started": "2021-09-08T06:27:07.347378Z"
    },
    "papermill": {
     "duration": 0.036528,
     "end_time": "2021-09-20T10:55:59.329054",
     "exception": false,
     "start_time": "2021-09-20T10:55:59.292526",
     "status": "completed"
    },
    "tags": []
   },
   "outputs": [],
   "source": [
    "def train_and_evaluate_gbr(train, test):\n",
    "    features = [col for col in train.columns if col not in {\"time_id\", \"target\", \"row_id\"}]\n",
    "    \n",
    "    y = train['target']\n",
    "    oof_predictions = np.zeros(train.shape[0])\n",
    "    test_predictions = np.zeros(test.shape[0])\n",
    "    \n",
    "    kfold = KFold(n_splits = 5, random_state = 2021, shuffle = True)\n",
    "    \n",
    "    for fold, (trn_ind, val_ind) in enumerate(kfold.split(train)):\n",
    "        x_train, x_val = train.iloc[trn_ind], train.iloc[val_ind]\n",
    "        y_train, y_val = y.iloc[trn_ind], y.iloc[val_ind]\n",
    "        \n",
    "        weights = 1 / np.square(y_train)\n",
    "        \n",
    "        model = HistGradientBoostingRegressor(\n",
    "            #max_depth=8,\n",
    "            learning_rate=0.09,\n",
    "            max_iter=1500,\n",
    "            max_leaf_nodes=112, \n",
    "            min_samples_leaf=500, \n",
    "            early_stopping=True,\n",
    "            n_iter_no_change=100,\n",
    "            random_state=2021\n",
    "        )\n",
    "        \n",
    "        model.fit(x_train[features], y_train, sample_weight=weights)\n",
    "        \n",
    "        y_pred = model.predict(x_val[features])\n",
    "        oof_predictions[val_ind] = y_pred\n",
    "        test_predictions += model.predict(test[features]) / 5\n",
    "        \n",
    "        joblib.dump(model, f'./gbr_model_{fold + 1}C.txt')\n",
    "        \n",
    "        rmspe_score = rmspe(y_val, y_pred)\n",
    "        print(f'Fold: {fold + 1} - OOF RMSPE: {rmspe_score}')\n",
    "        \n",
    "    rmspe_score = rmspe(y, oof_predictions)\n",
    "    print(f'\\nAll folds - OOF RMSPE: {rmspe_score}')\n",
    "    \n",
    "    return test_predictions"
   ]
  },
  {
   "cell_type": "code",
   "execution_count": 15,
   "id": "f6f31d8d",
   "metadata": {
    "execution": {
     "iopub.execute_input": "2021-09-20T10:55:59.382838Z",
     "iopub.status.busy": "2021-09-20T10:55:59.381792Z",
     "iopub.status.idle": "2021-09-20T11:03:05.342634Z",
     "shell.execute_reply": "2021-09-20T11:03:05.343161Z",
     "shell.execute_reply.started": "2021-09-08T06:27:09.327872Z"
    },
    "papermill": {
     "duration": 425.990027,
     "end_time": "2021-09-20T11:03:05.343390",
     "exception": false,
     "start_time": "2021-09-20T10:55:59.353363",
     "status": "completed"
    },
    "tags": []
   },
   "outputs": [
    {
     "name": "stdout",
     "output_type": "stream",
     "text": [
      "Fold: 1 - OOF RMSPE: 0.19639934784015606\n",
      "Fold: 2 - OOF RMSPE: 0.1938614390825265\n",
      "Fold: 3 - OOF RMSPE: 0.20943491567030953\n",
      "Fold: 4 - OOF RMSPE: 0.1964186843282244\n",
      "Fold: 5 - OOF RMSPE: 0.19806848678154432\n",
      "\n",
      "All folds - OOF RMSPE: 0.19891170684813436\n"
     ]
    }
   ],
   "source": [
    "predictions_gbr = train_and_evaluate_gbr(train, test)"
   ]
  },
  {
   "cell_type": "markdown",
   "id": "0bd09f91",
   "metadata": {
    "papermill": {
     "duration": 0.031937,
     "end_time": "2021-09-20T11:03:05.406928",
     "exception": false,
     "start_time": "2021-09-20T11:03:05.374991",
     "status": "completed"
    },
    "tags": []
   },
   "source": [
    "## LGBM"
   ]
  },
  {
   "cell_type": "code",
   "execution_count": 16,
   "id": "17b16d39",
   "metadata": {
    "execution": {
     "iopub.execute_input": "2021-09-20T11:03:05.482554Z",
     "iopub.status.busy": "2021-09-20T11:03:05.481860Z",
     "iopub.status.idle": "2021-09-20T11:03:05.486048Z",
     "shell.execute_reply": "2021-09-20T11:03:05.486514Z",
     "shell.execute_reply.started": "2021-09-08T06:28:13.582322Z"
    },
    "papermill": {
     "duration": 0.047972,
     "end_time": "2021-09-20T11:03:05.486703",
     "exception": false,
     "start_time": "2021-09-20T11:03:05.438731",
     "status": "completed"
    },
    "tags": []
   },
   "outputs": [],
   "source": [
    "def train_and_evaluate_lgb(train, test, params):\n",
    "    features = [col for col in train.columns if col not in {\"time_id\", \"target\", \"row_id\"}]\n",
    "    \n",
    "    y = train['target']\n",
    "    oof_predictions = np.zeros(train.shape[0])\n",
    "    test_predictions = np.zeros(test.shape[0])\n",
    "    \n",
    "    kfold = KFold(n_splits = 5, random_state = 2021, shuffle = True)\n",
    "    \n",
    "    for fold, (trn_ind, val_ind) in enumerate(kfold.split(train)):\n",
    "        x_train, x_val = train.iloc[trn_ind], train.iloc[val_ind]\n",
    "        y_train, y_val = y.iloc[trn_ind], y.iloc[val_ind]\n",
    "        \n",
    "        train_weights = 1 / np.square(y_train)\n",
    "        val_weights = 1 / np.square(y_val)\n",
    "        \n",
    "        train_dataset = lgb.Dataset(x_train[features], y_train, weight = train_weights)\n",
    "        val_dataset = lgb.Dataset(x_val[features], y_val, weight = val_weights)\n",
    "        \n",
    "        model = lgb.train(params = params,\n",
    "                          num_boost_round = 1300,\n",
    "                          train_set = train_dataset, \n",
    "                          valid_sets = [train_dataset, val_dataset], \n",
    "                          verbose_eval = 200,\n",
    "                          early_stopping_rounds = 50,\n",
    "                          feval = feval_rmspe)\n",
    "        \n",
    "        y_pred = model.predict(x_val[features], num_iteration=model.best_iteration)\n",
    "        oof_predictions[val_ind] = y_pred\n",
    "        test_predictions += model.predict(test[features], num_iteration=model.best_iteration) / 5\n",
    "        \n",
    "        model.save_model(f'./lgb_model_{fold + 1}C.txt', num_iteration=model.best_iteration)\n",
    "        \n",
    "        rmspe_score = rmspe(y_val, y_pred)\n",
    "        print(f'\\nFold: {fold + 1} - OOF RMSPE: {rmspe_score}\\n')\n",
    "        \n",
    "    rmspe_score = rmspe(y, oof_predictions)\n",
    "    print(f'\\nAll folds - OOF RMSPE: {rmspe_score}')\n",
    "    \n",
    "    return test_predictions"
   ]
  },
  {
   "cell_type": "code",
   "execution_count": 17,
   "id": "57a05463",
   "metadata": {
    "execution": {
     "iopub.execute_input": "2021-09-20T11:03:05.569187Z",
     "iopub.status.busy": "2021-09-20T11:03:05.568522Z",
     "iopub.status.idle": "2021-09-20T11:17:10.754268Z",
     "shell.execute_reply": "2021-09-20T11:17:10.754742Z",
     "shell.execute_reply.started": "2021-09-08T06:28:22.889643Z"
    },
    "papermill": {
     "duration": 845.235824,
     "end_time": "2021-09-20T11:17:10.754946",
     "exception": false,
     "start_time": "2021-09-20T11:03:05.519122",
     "status": "completed"
    },
    "tags": []
   },
   "outputs": [
    {
     "name": "stdout",
     "output_type": "stream",
     "text": [
      "Training until validation scores don't improve for 50 rounds\n",
      "[200]\ttraining's rmse: 0.000399471\ttraining's RMSPE: 0.184747\tvalid_1's rmse: 0.000425843\tvalid_1's RMSPE: 0.197652\n",
      "[400]\ttraining's rmse: 0.000371177\ttraining's RMSPE: 0.171662\tvalid_1's rmse: 0.00041306\tvalid_1's RMSPE: 0.191719\n",
      "[600]\ttraining's rmse: 0.000354036\ttraining's RMSPE: 0.163735\tvalid_1's rmse: 0.00040944\tvalid_1's RMSPE: 0.190039\n",
      "[800]\ttraining's rmse: 0.000340752\ttraining's RMSPE: 0.157591\tvalid_1's rmse: 0.000407549\tvalid_1's RMSPE: 0.189161\n",
      "[1000]\ttraining's rmse: 0.000329398\ttraining's RMSPE: 0.15234\tvalid_1's rmse: 0.000406745\tvalid_1's RMSPE: 0.188788\n",
      "Early stopping, best iteration is:\n",
      "[1064]\ttraining's rmse: 0.000326008\ttraining's RMSPE: 0.150772\tvalid_1's rmse: 0.00040651\tvalid_1's RMSPE: 0.188679\n",
      "\n",
      "Fold: 1 - OOF RMSPE: 0.1886790447652811\n",
      "\n",
      "Training until validation scores don't improve for 50 rounds\n",
      "[200]\ttraining's rmse: 0.000398932\ttraining's RMSPE: 0.184821\tvalid_1's rmse: 0.000423387\tvalid_1's RMSPE: 0.195142\n",
      "[400]\ttraining's rmse: 0.000370511\ttraining's RMSPE: 0.171653\tvalid_1's rmse: 0.000410311\tvalid_1's RMSPE: 0.189115\n",
      "[600]\ttraining's rmse: 0.000353094\ttraining's RMSPE: 0.163584\tvalid_1's rmse: 0.000406372\tvalid_1's RMSPE: 0.1873\n",
      "[800]\ttraining's rmse: 0.000339717\ttraining's RMSPE: 0.157387\tvalid_1's rmse: 0.00040485\tvalid_1's RMSPE: 0.186598\n",
      "[1000]\ttraining's rmse: 0.000328418\ttraining's RMSPE: 0.152152\tvalid_1's rmse: 0.000404417\tvalid_1's RMSPE: 0.186399\n",
      "[1200]\ttraining's rmse: 0.000318536\ttraining's RMSPE: 0.147574\tvalid_1's rmse: 0.000404215\tvalid_1's RMSPE: 0.186305\n",
      "Early stopping, best iteration is:\n",
      "[1156]\ttraining's rmse: 0.000320582\ttraining's RMSPE: 0.148522\tvalid_1's rmse: 0.000404126\tvalid_1's RMSPE: 0.186265\n",
      "\n",
      "Fold: 2 - OOF RMSPE: 0.1862645980214712\n",
      "\n",
      "Training until validation scores don't improve for 50 rounds\n",
      "[200]\ttraining's rmse: 0.000398871\ttraining's RMSPE: 0.184463\tvalid_1's rmse: 0.000451471\tvalid_1's RMSPE: 0.209576\n",
      "[400]\ttraining's rmse: 0.000370386\ttraining's RMSPE: 0.17129\tvalid_1's rmse: 0.000442816\tvalid_1's RMSPE: 0.205558\n",
      "Early stopping, best iteration is:\n",
      "[523]\ttraining's rmse: 0.000359068\ttraining's RMSPE: 0.166056\tvalid_1's rmse: 0.000440412\tvalid_1's RMSPE: 0.204443\n",
      "\n",
      "Fold: 3 - OOF RMSPE: 0.2044425544799992\n",
      "\n",
      "Training until validation scores don't improve for 50 rounds\n",
      "[200]\ttraining's rmse: 0.000398845\ttraining's RMSPE: 0.18478\tvalid_1's rmse: 0.000428362\tvalid_1's RMSPE: 0.197434\n",
      "[400]\ttraining's rmse: 0.000370318\ttraining's RMSPE: 0.171564\tvalid_1's rmse: 0.000415829\tvalid_1's RMSPE: 0.191657\n",
      "[600]\ttraining's rmse: 0.000353294\ttraining's RMSPE: 0.163677\tvalid_1's rmse: 0.000412534\tvalid_1's RMSPE: 0.190139\n",
      "[800]\ttraining's rmse: 0.000339907\ttraining's RMSPE: 0.157475\tvalid_1's rmse: 0.000411207\tvalid_1's RMSPE: 0.189527\n",
      "Early stopping, best iteration is:\n",
      "[906]\ttraining's rmse: 0.000333681\ttraining's RMSPE: 0.154591\tvalid_1's rmse: 0.000410756\tvalid_1's RMSPE: 0.189319\n",
      "\n",
      "Fold: 4 - OOF RMSPE: 0.18931863181170744\n",
      "\n",
      "Training until validation scores don't improve for 50 rounds\n",
      "[200]\ttraining's rmse: 0.000399967\ttraining's RMSPE: 0.185002\tvalid_1's rmse: 0.000426644\tvalid_1's RMSPE: 0.197916\n",
      "[400]\ttraining's rmse: 0.000371538\ttraining's RMSPE: 0.171852\tvalid_1's rmse: 0.000414784\tvalid_1's RMSPE: 0.192414\n",
      "[600]\ttraining's rmse: 0.000354183\ttraining's RMSPE: 0.163825\tvalid_1's rmse: 0.000412113\tvalid_1's RMSPE: 0.191175\n",
      "[800]\ttraining's rmse: 0.000340683\ttraining's RMSPE: 0.157581\tvalid_1's rmse: 0.000411204\tvalid_1's RMSPE: 0.190753\n",
      "Early stopping, best iteration is:\n",
      "[771]\ttraining's rmse: 0.000342507\ttraining's RMSPE: 0.158424\tvalid_1's rmse: 0.000411094\tvalid_1's RMSPE: 0.190702\n",
      "\n",
      "Fold: 5 - OOF RMSPE: 0.19070168470817644\n",
      "\n",
      "\n",
      "All folds - OOF RMSPE: 0.19198941505288822\n"
     ]
    }
   ],
   "source": [
    "seed = 2021\n",
    "\n",
    "params = {\n",
    "    'objective': 'rmse',\n",
    "    'boosting_type': 'gbdt',\n",
    "    #'max_depth': -1,\n",
    "    'max_leaves': 112,\n",
    "    'max_bin': 100,\n",
    "    'min_data_in_leaf': 500,\n",
    "    'learning_rate': 0.05,\n",
    "    'subsample': 0.72,\n",
    "    'subsample_freq': 4,\n",
    "    'feature_fraction': 0.5,\n",
    "    'lambda_l1': 0.5,\n",
    "    'lambda_l2': 1.0,\n",
    "    'categorical_column': [0],\n",
    "    'seed': seed,\n",
    "    'feature_fraction_seed': seed,\n",
    "    'bagging_seed': seed,\n",
    "    'drop_seed': seed,\n",
    "    'data_random_seed': seed,\n",
    "    'n_jobs': -1,\n",
    "    'verbose': -1\n",
    "}\n",
    "\n",
    "predictions_lgb = train_and_evaluate_lgb(train, test, params)"
   ]
  },
  {
   "cell_type": "markdown",
   "id": "fd262133",
   "metadata": {
    "papermill": {
     "duration": 0.032567,
     "end_time": "2021-09-20T11:17:10.820382",
     "exception": false,
     "start_time": "2021-09-20T11:17:10.787815",
     "status": "completed"
    },
    "tags": []
   },
   "source": [
    "## Keras DNN"
   ]
  },
  {
   "cell_type": "code",
   "execution_count": 18,
   "id": "69012359",
   "metadata": {
    "execution": {
     "iopub.execute_input": "2021-09-20T11:17:10.890604Z",
     "iopub.status.busy": "2021-09-20T11:17:10.889631Z",
     "iopub.status.idle": "2021-09-20T11:17:19.769923Z",
     "shell.execute_reply": "2021-09-20T11:17:19.770338Z",
     "shell.execute_reply.started": "2021-09-08T06:31:50.815997Z"
    },
    "papermill": {
     "duration": 8.91726,
     "end_time": "2021-09-20T11:17:19.770508",
     "exception": false,
     "start_time": "2021-09-20T11:17:10.853248",
     "status": "completed"
    },
    "tags": []
   },
   "outputs": [
    {
     "name": "stderr",
     "output_type": "stream",
     "text": [
      "100%|██████████| 5/5 [00:00<00:00, 3400.60it/s]\n",
      "100%|██████████| 5/5 [00:00<00:00, 37449.14it/s]\n",
      "100%|██████████| 5/5 [00:00<00:00, 945.51it/s]\n",
      "100%|██████████| 765/765 [00:08<00:00, 89.40it/s] \n",
      "100%|██████████| 5/5 [00:00<00:00, 1959.59it/s]\n"
     ]
    }
   ],
   "source": [
    "# Generate kfolds based on the knn++ algorithm\n",
    "out_train = pd.read_csv('../input/optiver-realized-volatility-prediction/train.csv')\n",
    "out_train = out_train.pivot(index='time_id', columns='stock_id', values='target')\n",
    "out_train = out_train.fillna(out_train.mean())\n",
    "\n",
    "nfolds = 5\n",
    "index = []\n",
    "totDist = []\n",
    "values = []\n",
    "\n",
    "scaler = MinMaxScaler(feature_range=(-1, 1))\n",
    "mat = out_train.values\n",
    "mat = scaler.fit_transform(mat)\n",
    "\n",
    "nind = int(mat.shape[0]/nfolds)\n",
    "\n",
    "mat = np.c_[mat, np.arange(mat.shape[0])]\n",
    "lineNumber = np.random.choice(np.array(mat.shape[0]), size=nfolds, replace=False)\n",
    "lineNumber = np.sort(lineNumber)[::-1]\n",
    "\n",
    "for n in tqdm(range(nfolds)):\n",
    "    totDist.append(np.zeros(mat.shape[0]-nfolds))\n",
    "\n",
    "for n in tqdm(range(nfolds)):\n",
    "    values.append([lineNumber[n]])    \n",
    "\n",
    "s=[]\n",
    "for n in tqdm(range(nfolds)):\n",
    "    s.append(mat[lineNumber[n],:])    \n",
    "    mat = np.delete(mat, obj=lineNumber[n], axis=0)\n",
    "\n",
    "for n in tqdm(range(nind-1)):    \n",
    "    luck = np.random.uniform(0,1,nfolds)\n",
    "    \n",
    "    for cycle in range(nfolds):\n",
    "        s[cycle] = np.matlib.repmat(s[cycle], mat.shape[0], 1)\n",
    "        sumDist = np.sum( (mat[:,:-1] - s[cycle][:,:-1])**2 , axis=1)   \n",
    "        totDist[cycle] += sumDist        \n",
    "        \n",
    "        f = totDist[cycle]/np.sum(totDist[cycle])\n",
    "        j = 0\n",
    "        kn = 0\n",
    "        \n",
    "        for val in f:\n",
    "            j += val        \n",
    "            if (j > luck[cycle]):\n",
    "                break\n",
    "            kn +=1\n",
    "        \n",
    "        lineNumber[cycle] = kn\n",
    "        \n",
    "        for n_iter in range(nfolds):    \n",
    "            totDist[n_iter] = np.delete(totDist[n_iter],obj=lineNumber[cycle], axis=0)\n",
    "            j= 0\n",
    "        \n",
    "        s[cycle] = mat[lineNumber[cycle],:]\n",
    "        values[cycle].append(int(mat[lineNumber[cycle],-1]))\n",
    "        mat = np.delete(mat, obj=lineNumber[cycle], axis=0)\n",
    "\n",
    "for n_mod in tqdm(range(nfolds)):\n",
    "    values[n_mod] = out_train.index[values[n_mod]]"
   ]
  },
  {
   "cell_type": "code",
   "execution_count": 19,
   "id": "add24e7c",
   "metadata": {
    "execution": {
     "iopub.execute_input": "2021-09-20T11:17:19.883633Z",
     "iopub.status.busy": "2021-09-20T11:17:19.883018Z",
     "iopub.status.idle": "2021-09-20T11:17:53.383936Z",
     "shell.execute_reply": "2021-09-20T11:17:53.384781Z",
     "shell.execute_reply.started": "2021-09-08T06:31:58.694442Z"
    },
    "papermill": {
     "duration": 33.561445,
     "end_time": "2021-09-20T11:17:53.384953",
     "exception": false,
     "start_time": "2021-09-20T11:17:19.823508",
     "status": "completed"
    },
    "tags": []
   },
   "outputs": [
    {
     "name": "stderr",
     "output_type": "stream",
     "text": [
      "100%|██████████| 232/232 [00:32<00:00,  7.04it/s]\n"
     ]
    }
   ],
   "source": [
    "train.replace([np.inf, -np.inf], np.nan,inplace=True)\n",
    "test.replace([np.inf, -np.inf], np.nan,inplace=True)\n",
    "\n",
    "qt_train = []\n",
    "train_nn=train[colNames].copy()\n",
    "test_nn=test[colNames].copy()\n",
    "\n",
    "for col in tqdm(colNames):\n",
    "    qt = QuantileTransformer(random_state=21,\n",
    "                             n_quantiles=2000, \n",
    "                             output_distribution='normal')\n",
    "    \n",
    "    train_nn[col] = qt.fit_transform(train_nn[[col]])\n",
    "    test_nn[col] = qt.transform(test_nn[[col]])    \n",
    "    qt_train.append(qt)"
   ]
  },
  {
   "cell_type": "code",
   "execution_count": 20,
   "id": "418a73fd",
   "metadata": {
    "execution": {
     "iopub.execute_input": "2021-09-20T11:17:53.589065Z",
     "iopub.status.busy": "2021-09-20T11:17:53.588480Z",
     "iopub.status.idle": "2021-09-20T11:17:53.597786Z",
     "shell.execute_reply": "2021-09-20T11:17:53.597312Z",
     "shell.execute_reply.started": "2021-09-08T06:32:30.931215Z"
    },
    "papermill": {
     "duration": 0.115507,
     "end_time": "2021-09-20T11:17:53.597913",
     "exception": false,
     "start_time": "2021-09-20T11:17:53.482406",
     "status": "completed"
    },
    "tags": []
   },
   "outputs": [
    {
     "name": "stdout",
     "output_type": "stream",
     "text": [
      "train_nn: (428932, 235) \n",
      "test_nn: (3, 234)\n"
     ]
    }
   ],
   "source": [
    "train_nn[['stock_id','time_id','target']] = train[['stock_id','time_id','target']]\n",
    "test_nn[['stock_id','time_id']] = test[['stock_id','time_id']]\n",
    "print(f\"train_nn: {train_nn.shape} \\ntest_nn: {test_nn.shape}\")"
   ]
  },
  {
   "cell_type": "code",
   "execution_count": 21,
   "id": "42b533e0",
   "metadata": {
    "execution": {
     "iopub.execute_input": "2021-09-20T11:17:53.803369Z",
     "iopub.status.busy": "2021-09-20T11:17:53.802773Z",
     "iopub.status.idle": "2021-09-20T11:17:55.836754Z",
     "shell.execute_reply": "2021-09-20T11:17:55.837613Z",
     "shell.execute_reply.started": "2021-09-08T06:32:30.946806Z"
    },
    "papermill": {
     "duration": 2.143164,
     "end_time": "2021-09-20T11:17:55.837784",
     "exception": false,
     "start_time": "2021-09-20T11:17:53.694620",
     "status": "completed"
    },
    "tags": []
   },
   "outputs": [
    {
     "name": "stderr",
     "output_type": "stream",
     "text": [
      "/opt/conda/lib/python3.7/site-packages/ipykernel_launcher.py:38: FutureWarning: Index.ravel returning ndarray is deprecated; in a future version this will return a view on self.\n",
      "/opt/conda/lib/python3.7/site-packages/ipykernel_launcher.py:42: FutureWarning: Index.ravel returning ndarray is deprecated; in a future version this will return a view on self.\n"
     ]
    }
   ],
   "source": [
    "# Generate aggregate features\n",
    "train_p = pd.read_csv('../input/optiver-realized-volatility-prediction/train.csv')\n",
    "train_p = train_p.pivot(index='time_id', columns='stock_id', values='target')\n",
    "\n",
    "corr = train_p.corr()\n",
    "ids = corr.index\n",
    "\n",
    "kmeans = KMeans(n_clusters=7, random_state=0).fit(corr.values)\n",
    "\n",
    "l = []\n",
    "for n in range(7):\n",
    "    l.append ( [ (x-1) for x in ( (ids+1)*(kmeans.labels_ == n)) if x > 0] )\n",
    "    \n",
    "mat = []\n",
    "matTest = []\n",
    "\n",
    "n = 0\n",
    "for ind in l:\n",
    "    newDf = train_nn.loc[train_nn['stock_id'].isin(ind) ]\n",
    "    newDf = newDf.groupby(['time_id']).agg(np.nanmean)\n",
    "    newDf.loc[:,'stock_id'] = str(n)+'c1'\n",
    "    mat.append ( newDf )\n",
    "    \n",
    "    newDf = test_nn.loc[test_nn['stock_id'].isin(ind) ]    \n",
    "    newDf = newDf.groupby(['time_id']).agg(np.nanmean)\n",
    "    newDf.loc[:,'stock_id'] = str(n)+'c1'\n",
    "    matTest.append ( newDf )\n",
    "    \n",
    "    n+=1\n",
    "    \n",
    "mat1 = pd.concat(mat).reset_index()\n",
    "mat1.drop(columns=['target'], inplace=True)\n",
    "\n",
    "mat2 = pd.concat(matTest).reset_index()\n",
    "mat2 = pd.concat([mat2, mat1.loc[mat1.time_id==5]])\n",
    "\n",
    "mat1 = mat1.pivot(index='time_id', columns='stock_id')\n",
    "mat1.columns = [\"_\".join(x) for x in mat1.columns.ravel()]\n",
    "mat1.reset_index(inplace=True)\n",
    "\n",
    "mat2 = mat2.pivot(index='time_id', columns='stock_id')\n",
    "mat2.columns = [\"_\".join(x) for x in mat2.columns.ravel()]\n",
    "mat2.reset_index(inplace=True)"
   ]
  },
  {
   "cell_type": "code",
   "execution_count": 22,
   "id": "bed3c0f1",
   "metadata": {
    "execution": {
     "iopub.execute_input": "2021-09-20T11:17:56.042894Z",
     "iopub.status.busy": "2021-09-20T11:17:56.041861Z",
     "iopub.status.idle": "2021-09-20T11:18:04.520071Z",
     "shell.execute_reply": "2021-09-20T11:18:04.519508Z",
     "shell.execute_reply.started": "2021-09-08T06:32:32.200260Z"
    },
    "papermill": {
     "duration": 8.585054,
     "end_time": "2021-09-20T11:18:04.520201",
     "exception": false,
     "start_time": "2021-09-20T11:17:55.935147",
     "status": "completed"
    },
    "tags": []
   },
   "outputs": [
    {
     "name": "stdout",
     "output_type": "stream",
     "text": [
      "train_nn: (428932, 285) \n",
      "test_nn: (3, 284)\n"
     ]
    },
    {
     "data": {
      "text/plain": [
       "14599"
      ]
     },
     "execution_count": 22,
     "metadata": {},
     "output_type": "execute_result"
    }
   ],
   "source": [
    "nnn = [\n",
    "    'time_id',\n",
    "    'log_return1_realized_volatility_0c1',\n",
    "    'log_return1_realized_volatility_1c1',     \n",
    "    'log_return1_realized_volatility_3c1',\n",
    "    'log_return1_realized_volatility_4c1',     \n",
    "    'log_return1_realized_volatility_6c1',\n",
    "    'total_volume_sum_0c1',\n",
    "    'total_volume_sum_1c1', \n",
    "    'total_volume_sum_3c1',\n",
    "    'total_volume_sum_4c1', \n",
    "    'total_volume_sum_6c1',\n",
    "    'trade_size_sum_0c1',\n",
    "    'trade_size_sum_1c1', \n",
    "    'trade_size_sum_3c1',\n",
    "    'trade_size_sum_4c1', \n",
    "    'trade_size_sum_6c1',\n",
    "    'trade_order_count_sum_0c1',\n",
    "    'trade_order_count_sum_1c1',\n",
    "    'trade_order_count_sum_3c1',\n",
    "    'trade_order_count_sum_4c1',\n",
    "    'trade_order_count_sum_6c1',      \n",
    "    'price_spread_sum_0c1',\n",
    "    'price_spread_sum_1c1',\n",
    "    'price_spread_sum_3c1',\n",
    "    'price_spread_sum_4c1',\n",
    "    'price_spread_sum_6c1',   \n",
    "    'bid_spread_sum_0c1',\n",
    "    'bid_spread_sum_1c1',\n",
    "    'bid_spread_sum_3c1',\n",
    "    'bid_spread_sum_4c1',\n",
    "    'bid_spread_sum_6c1',       \n",
    "    'ask_spread_sum_0c1',\n",
    "    'ask_spread_sum_1c1',\n",
    "    'ask_spread_sum_3c1',\n",
    "    'ask_spread_sum_4c1',\n",
    "    'ask_spread_sum_6c1',   \n",
    "    'volume_imbalance_sum_0c1',\n",
    "    'volume_imbalance_sum_1c1',\n",
    "    'volume_imbalance_sum_3c1',\n",
    "    'volume_imbalance_sum_4c1',\n",
    "    'volume_imbalance_sum_6c1',       \n",
    "    'bid_ask_spread_sum_0c1',\n",
    "    'bid_ask_spread_sum_1c1',\n",
    "    'bid_ask_spread_sum_3c1',\n",
    "    'bid_ask_spread_sum_4c1',\n",
    "    'bid_ask_spread_sum_6c1',\n",
    "    'size_tau2_0c1',\n",
    "    'size_tau2_1c1',\n",
    "    'size_tau2_3c1',\n",
    "    'size_tau2_4c1',\n",
    "    'size_tau2_6c1'\n",
    "] \n",
    "\n",
    "train_nn = pd.merge(train_nn, mat1[nnn], how='left', on='time_id')\n",
    "test_nn = pd.merge(test_nn, mat2[nnn], how='left', on='time_id')\n",
    "print(f\"train_nn: {train_nn.shape} \\ntest_nn: {test_nn.shape}\")\n",
    "\n",
    "del mat1,mat2\n",
    "del train,test\n",
    "gc.collect()"
   ]
  },
  {
   "cell_type": "code",
   "execution_count": 23,
   "id": "8674edb1",
   "metadata": {
    "execution": {
     "iopub.execute_input": "2021-09-20T11:18:04.723854Z",
     "iopub.status.busy": "2021-09-20T11:18:04.723276Z",
     "iopub.status.idle": "2021-09-20T11:18:04.725899Z",
     "shell.execute_reply": "2021-09-20T11:18:04.725441Z",
     "shell.execute_reply.started": "2021-09-08T06:32:43.808041Z"
    },
    "papermill": {
     "duration": 0.107938,
     "end_time": "2021-09-20T11:18:04.726022",
     "exception": false,
     "start_time": "2021-09-20T11:18:04.618084",
     "status": "completed"
    },
    "tags": []
   },
   "outputs": [],
   "source": [
    "def swish(x, beta = 1):\n",
    "    return (x * sigmoid(beta * x))\n",
    "\n",
    "\n",
    "def base_model(n_feats):\n",
    "    stock_id_input = keras.Input(shape=(1,), name='stock_id')\n",
    "    num_input = keras.Input(shape=(n_feats,), name='num_data')\n",
    "\n",
    "    num_out = keras.layers.Dense(160, activation='swish')(num_input)\n",
    "    \n",
    "    stock_embedded = keras.layers.Embedding(max(cat_data)+1, \n",
    "                                            stock_embedding_size, \n",
    "                                            input_length=1, \n",
    "                                            name='stock_embedding')(stock_id_input)\n",
    "    \n",
    "    stock_flattened = keras.layers.Flatten()(stock_embedded)\n",
    "    out = keras.layers.Concatenate()([stock_flattened, num_out])\n",
    "    \n",
    "    for n_hidden in hidden_units:\n",
    "        out = keras.layers.Dense(n_hidden, activation='swish')(out)\n",
    "\n",
    "    out = keras.layers.Dense(1, activation='linear', name='prediction')(out)\n",
    "    \n",
    "    model = keras.Model(\n",
    "        inputs = [stock_id_input, num_input],\n",
    "        outputs = out,\n",
    "    )\n",
    "    \n",
    "    return model"
   ]
  },
  {
   "cell_type": "code",
   "execution_count": 24,
   "id": "947fa760",
   "metadata": {
    "execution": {
     "iopub.execute_input": "2021-09-20T11:18:05.139845Z",
     "iopub.status.busy": "2021-09-20T11:18:05.139191Z",
     "iopub.status.idle": "2021-09-20T11:18:05.165684Z",
     "shell.execute_reply": "2021-09-20T11:18:05.166141Z",
     "shell.execute_reply.started": "2021-09-08T06:33:55.847737Z"
    },
    "papermill": {
     "duration": 0.341685,
     "end_time": "2021-09-20T11:18:05.166343",
     "exception": false,
     "start_time": "2021-09-20T11:18:04.824658",
     "status": "completed"
    },
    "tags": []
   },
   "outputs": [],
   "source": [
    "get_custom_objects().update({'swish': Activation(swish)})\n",
    "\n",
    "hidden_units = (128, 64, 32)\n",
    "stock_embedding_size = 32\n",
    "\n",
    "cat_data = train_nn['stock_id']\n",
    "\n",
    "target_name='target'\n",
    "pred_name = 'pred_NN'\n",
    "\n",
    "es = tf.keras.callbacks.EarlyStopping(\n",
    "    monitor='val_loss', patience=20, verbose=0,\n",
    "    mode='min', restore_best_weights=True)\n",
    "\n",
    "plateau = tf.keras.callbacks.ReduceLROnPlateau(\n",
    "    monitor='val_loss', factor=0.2, patience=7, \n",
    "    verbose=0, mode='min')"
   ]
  },
  {
   "cell_type": "code",
   "execution_count": 25,
   "id": "191ca508",
   "metadata": {
    "execution": {
     "iopub.execute_input": "2021-09-20T11:18:05.381004Z",
     "iopub.status.busy": "2021-09-20T11:18:05.379382Z",
     "iopub.status.idle": "2021-09-20T11:31:18.054950Z",
     "shell.execute_reply": "2021-09-20T11:31:18.055485Z",
     "shell.execute_reply.started": "2021-09-08T06:41:05.772162Z"
    },
    "papermill": {
     "duration": 792.791531,
     "end_time": "2021-09-20T11:31:18.055690",
     "exception": false,
     "start_time": "2021-09-20T11:18:05.264159",
     "status": "completed"
    },
    "tags": []
   },
   "outputs": [
    {
     "name": "stdout",
     "output_type": "stream",
     "text": [
      "Fold: 1 - OOF RMSPE: 0.20746\n",
      "Fold: 2 - OOF RMSPE: 0.21197\n",
      "Fold: 3 - OOF RMSPE: 0.20973\n",
      "Fold: 4 - OOF RMSPE: 0.21443\n",
      "Fold: 5 - OOF RMSPE: 0.21454\n",
      "\n",
      "All folds - OOF RMSPE: 0.21164415728792063\n"
     ]
    }
   ],
   "source": [
    "n_folds = 5\n",
    "kf = KFold(n_splits=n_folds, shuffle=True, random_state=2020)\n",
    "counter = 1\n",
    "\n",
    "features_to_consider = list(train_nn)\n",
    "features_to_consider.remove('time_id')\n",
    "features_to_consider.remove('target')\n",
    "\n",
    "try:\n",
    "    features_to_consider.remove('pred_NN')\n",
    "except:\n",
    "    pass\n",
    "\n",
    "train_nn[features_to_consider] = train_nn[features_to_consider].fillna(train_nn[features_to_consider].mean())\n",
    "test_nn[features_to_consider] = test_nn[features_to_consider].fillna(train_nn[features_to_consider].mean())\n",
    "\n",
    "train_nn[pred_name] = 0\n",
    "test_nn[target_name] = 0\n",
    "test_predictions_nn = np.zeros(test_nn.shape[0])\n",
    "oof_predictions_nn = pd.DataFrame(np.zeros((train_nn.shape[0], 1)), columns=['target'])\n",
    "\n",
    "for n_count in range(n_folds):\n",
    "    indexes = np.arange(nfolds).astype(int)    \n",
    "    indexes = np.delete(indexes,obj=n_count, axis=0) \n",
    "    indexes = np.r_[values[indexes[0]],values[indexes[1]],values[indexes[2]],values[indexes[3]]]\n",
    "    \n",
    "    X_train = train_nn.loc[train_nn.time_id.isin(indexes), features_to_consider]\n",
    "    y_train = train_nn.loc[train_nn.time_id.isin(indexes), target_name]\n",
    "    X_test = train_nn.loc[train_nn.time_id.isin(values[n_count]), features_to_consider]\n",
    "    y_test = train_nn.loc[train_nn.time_id.isin(values[n_count]), target_name]\n",
    "    \n",
    "    try:\n",
    "        features_to_consider.remove('stock_id')\n",
    "    except:\n",
    "        pass\n",
    "    \n",
    "    scaler = MinMaxScaler(feature_range=(-1, 1))\n",
    "    num_data = X_train[features_to_consider]\n",
    "    num_data = scaler.fit_transform(num_data.values)    \n",
    "    \n",
    "    cat_data = X_train['stock_id']    \n",
    "    target =  y_train\n",
    "    \n",
    "    num_data_test = X_test[features_to_consider]\n",
    "    num_data_test = scaler.transform(num_data_test.values)\n",
    "    cat_data_test = X_test['stock_id']\n",
    "    \n",
    "    model = base_model(num_data.shape[1])\n",
    "    model.compile(\n",
    "        keras.optimizers.Adam(learning_rate=0.005),\n",
    "        loss=root_mean_squared_per_error\n",
    "    )\n",
    "    \n",
    "    chkpoint = tf.keras.callbacks.ModelCheckpoint(\n",
    "        f'./dnn_model_{counter}C.h5', \n",
    "        monitor='val_loss', verbose=0, \n",
    "        save_best_only=True, mode='min')\n",
    "\n",
    "    model.fit([cat_data, num_data], \n",
    "              target,               \n",
    "              batch_size=2048,\n",
    "              epochs=1000,\n",
    "              validation_data=([cat_data_test, num_data_test], y_test),\n",
    "              callbacks=[es, plateau, chkpoint],\n",
    "              validation_batch_size=len(y_test),\n",
    "              shuffle=True,\n",
    "              verbose=0)\n",
    "\n",
    "    preds = model.predict([cat_data_test, num_data_test]).reshape(1,-1)[0]\n",
    "    oof_predictions_nn.loc[train_nn.time_id.isin(values[n_count]), target_name] = preds\n",
    "    \n",
    "    score = round(rmspe(y_true = y_test, y_pred = preds), 5)\n",
    "    print(f'Fold: {counter} - OOF RMSPE: {score}')\n",
    "    \n",
    "    tt = scaler.transform(test_nn[features_to_consider].values)\n",
    "    test_predictions_nn += model.predict([test_nn['stock_id'], tt]).reshape(1,-1)[0].clip(0,1e10) / n_folds\n",
    "       \n",
    "    counter += 1\n",
    "    features_to_consider.append('stock_id')\n",
    "    \n",
    "rmspe_score = rmspe(train_nn['target'].values.ravel(), oof_predictions_nn.values.ravel())\n",
    "print(f'\\nAll folds - OOF RMSPE: {rmspe_score}')"
   ]
  },
  {
   "cell_type": "markdown",
   "id": "9c42f429",
   "metadata": {
    "papermill": {
     "duration": 0.111785,
     "end_time": "2021-09-20T11:31:18.285257",
     "exception": false,
     "start_time": "2021-09-20T11:31:18.173472",
     "status": "completed"
    },
    "tags": []
   },
   "source": [
    "## Create submission file"
   ]
  },
  {
   "cell_type": "code",
   "execution_count": 26,
   "id": "e88de967",
   "metadata": {
    "execution": {
     "iopub.execute_input": "2021-09-20T11:31:18.500467Z",
     "iopub.status.busy": "2021-09-20T11:31:18.499846Z",
     "iopub.status.idle": "2021-09-20T11:31:18.522506Z",
     "shell.execute_reply": "2021-09-20T11:31:18.521854Z",
     "shell.execute_reply.started": "2021-09-08T06:45:23.070746Z"
    },
    "papermill": {
     "duration": 0.135912,
     "end_time": "2021-09-20T11:31:18.522642",
     "exception": false,
     "start_time": "2021-09-20T11:31:18.386730",
     "status": "completed"
    },
    "tags": []
   },
   "outputs": [
    {
     "data": {
      "text/html": [
       "<div>\n",
       "<style scoped>\n",
       "    .dataframe tbody tr th:only-of-type {\n",
       "        vertical-align: middle;\n",
       "    }\n",
       "\n",
       "    .dataframe tbody tr th {\n",
       "        vertical-align: top;\n",
       "    }\n",
       "\n",
       "    .dataframe thead th {\n",
       "        text-align: right;\n",
       "    }\n",
       "</style>\n",
       "<table border=\"1\" class=\"dataframe\">\n",
       "  <thead>\n",
       "    <tr style=\"text-align: right;\">\n",
       "      <th></th>\n",
       "      <th>row_id</th>\n",
       "      <th>target</th>\n",
       "    </tr>\n",
       "  </thead>\n",
       "  <tbody>\n",
       "    <tr>\n",
       "      <th>0</th>\n",
       "      <td>0-4</td>\n",
       "      <td>0.002844</td>\n",
       "    </tr>\n",
       "    <tr>\n",
       "      <th>1</th>\n",
       "      <td>0-32</td>\n",
       "      <td>0.002356</td>\n",
       "    </tr>\n",
       "    <tr>\n",
       "      <th>2</th>\n",
       "      <td>0-34</td>\n",
       "      <td>0.002356</td>\n",
       "    </tr>\n",
       "  </tbody>\n",
       "</table>\n",
       "</div>"
      ],
      "text/plain": [
       "  row_id    target\n",
       "0    0-4  0.002844\n",
       "1   0-32  0.002356\n",
       "2   0-34  0.002356"
      ]
     },
     "metadata": {},
     "output_type": "display_data"
    }
   ],
   "source": [
    "test_nn[\"row_id\"] = test_nn[\"stock_id\"].astype(str) + \"-\" + test_nn[\"time_id\"].astype(str) \n",
    "test_nn[target_name] = (test_predictions_nn * 0.55) + (predictions_lgb * 0.3) + (predictions_gbr * 0.15)\n",
    "\n",
    "display(test_nn[['row_id', target_name]].head())\n",
    "test_nn[['row_id', target_name]].to_csv('submission.csv', index = False)"
   ]
  },
  {
   "cell_type": "code",
   "execution_count": null,
   "id": "97854b48",
   "metadata": {
    "papermill": {
     "duration": 0.102993,
     "end_time": "2021-09-20T11:31:18.727641",
     "exception": false,
     "start_time": "2021-09-20T11:31:18.624648",
     "status": "completed"
    },
    "tags": []
   },
   "outputs": [],
   "source": []
  }
 ],
 "metadata": {
  "kernelspec": {
   "display_name": "Python 3",
   "language": "python",
   "name": "python3"
  },
  "language_info": {
   "codemirror_mode": {
    "name": "ipython",
    "version": 3
   },
   "file_extension": ".py",
   "mimetype": "text/x-python",
   "name": "python",
   "nbconvert_exporter": "python",
   "pygments_lexer": "ipython3",
   "version": "3.7.10"
  },
  "papermill": {
   "default_parameters": {},
   "duration": 5252.270709,
   "end_time": "2021-09-20T11:31:21.014128",
   "environment_variables": {},
   "exception": null,
   "input_path": "__notebook__.ipynb",
   "output_path": "__notebook__.ipynb",
   "parameters": {},
   "start_time": "2021-09-20T10:03:48.743419",
   "version": "2.3.3"
  }
 },
 "nbformat": 4,
 "nbformat_minor": 5
}
