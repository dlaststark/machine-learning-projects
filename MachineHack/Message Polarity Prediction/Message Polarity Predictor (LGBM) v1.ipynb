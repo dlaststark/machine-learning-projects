{
 "cells": [
  {
   "cell_type": "markdown",
   "metadata": {},
   "source": [
    "## Import Packages"
   ]
  },
  {
   "cell_type": "code",
   "execution_count": 44,
   "metadata": {},
   "outputs": [],
   "source": [
    "import pandas as pd\n",
    "import numpy as np\n",
    "import matplotlib.pyplot as plt\n",
    "import seaborn as sns\n",
    "from sklearn.model_selection import train_test_split\n",
    "from sklearn.model_selection import KFold\n",
    "from sklearn.metrics import confusion_matrix,accuracy_score, roc_curve, auc\n",
    "import lightgbm as lgb\n",
    "import optuna"
   ]
  },
  {
   "cell_type": "markdown",
   "metadata": {},
   "source": [
    "## Set file paths for training and prediction datasets"
   ]
  },
  {
   "cell_type": "code",
   "execution_count": 2,
   "metadata": {},
   "outputs": [],
   "source": [
    "train_dataset = \"Dataset/Train.csv\"\n",
    "predict_dataset = \"Dataset/Test.csv\""
   ]
  },
  {
   "cell_type": "markdown",
   "metadata": {},
   "source": [
    "## Exploratory Data Analysis"
   ]
  },
  {
   "cell_type": "code",
   "execution_count": 3,
   "metadata": {},
   "outputs": [
    {
     "data": {
      "text/html": [
       "<div>\n",
       "<style scoped>\n",
       "    .dataframe tbody tr th:only-of-type {\n",
       "        vertical-align: middle;\n",
       "    }\n",
       "\n",
       "    .dataframe tbody tr th {\n",
       "        vertical-align: top;\n",
       "    }\n",
       "\n",
       "    .dataframe thead th {\n",
       "        text-align: right;\n",
       "    }\n",
       "</style>\n",
       "<table border=\"1\" class=\"dataframe\">\n",
       "  <thead>\n",
       "    <tr style=\"text-align: right;\">\n",
       "      <th></th>\n",
       "      <th>Freq_Of_Word_1</th>\n",
       "      <th>Freq_Of_Word_2</th>\n",
       "      <th>Freq_Of_Word_3</th>\n",
       "      <th>Freq_Of_Word_4</th>\n",
       "      <th>Freq_Of_Word_5</th>\n",
       "      <th>Freq_Of_Word_6</th>\n",
       "      <th>Freq_Of_Word_7</th>\n",
       "      <th>Freq_Of_Word_8</th>\n",
       "      <th>Freq_Of_Word_9</th>\n",
       "      <th>Freq_Of_Word_10</th>\n",
       "      <th>...</th>\n",
       "      <th>Freq_Of_Word_45</th>\n",
       "      <th>Freq_Of_Word_46</th>\n",
       "      <th>Freq_Of_Word_47</th>\n",
       "      <th>Freq_Of_Word_48</th>\n",
       "      <th>Freq_Of_Word_49</th>\n",
       "      <th>Freq_Of_Word_50</th>\n",
       "      <th>TotalEmojiCharacters</th>\n",
       "      <th>LengthOFFirstParagraph</th>\n",
       "      <th>StylizedLetters</th>\n",
       "      <th>IsGoodNews</th>\n",
       "    </tr>\n",
       "  </thead>\n",
       "  <tbody>\n",
       "    <tr>\n",
       "      <th>0</th>\n",
       "      <td>-0.351864</td>\n",
       "      <td>2.620660</td>\n",
       "      <td>1.253645</td>\n",
       "      <td>-0.039223</td>\n",
       "      <td>-0.465210</td>\n",
       "      <td>-0.353977</td>\n",
       "      <td>-0.304257</td>\n",
       "      <td>-0.240708</td>\n",
       "      <td>-0.318797</td>\n",
       "      <td>-0.352968</td>\n",
       "      <td>...</td>\n",
       "      <td>-0.323019</td>\n",
       "      <td>-0.205212</td>\n",
       "      <td>-0.079531</td>\n",
       "      <td>-0.118688</td>\n",
       "      <td>0.079303</td>\n",
       "      <td>0.157385</td>\n",
       "      <td>-0.028751</td>\n",
       "      <td>-0.046474</td>\n",
       "      <td>0.222453</td>\n",
       "      <td>1</td>\n",
       "    </tr>\n",
       "    <tr>\n",
       "      <th>1</th>\n",
       "      <td>-0.351864</td>\n",
       "      <td>-0.318036</td>\n",
       "      <td>-0.561952</td>\n",
       "      <td>-0.039223</td>\n",
       "      <td>-0.465210</td>\n",
       "      <td>-0.353977</td>\n",
       "      <td>-0.304257</td>\n",
       "      <td>3.837751</td>\n",
       "      <td>-0.318797</td>\n",
       "      <td>-0.352968</td>\n",
       "      <td>...</td>\n",
       "      <td>-0.323019</td>\n",
       "      <td>-0.205212</td>\n",
       "      <td>-0.079531</td>\n",
       "      <td>-0.118688</td>\n",
       "      <td>-0.151911</td>\n",
       "      <td>-0.453742</td>\n",
       "      <td>-0.107383</td>\n",
       "      <td>-0.195476</td>\n",
       "      <td>-0.408024</td>\n",
       "      <td>0</td>\n",
       "    </tr>\n",
       "    <tr>\n",
       "      <th>2</th>\n",
       "      <td>-0.351864</td>\n",
       "      <td>-0.318036</td>\n",
       "      <td>-0.561952</td>\n",
       "      <td>-0.039223</td>\n",
       "      <td>-0.465210</td>\n",
       "      <td>-0.353977</td>\n",
       "      <td>-0.304257</td>\n",
       "      <td>-0.240708</td>\n",
       "      <td>-0.318797</td>\n",
       "      <td>-0.352968</td>\n",
       "      <td>...</td>\n",
       "      <td>-0.323019</td>\n",
       "      <td>-0.205212</td>\n",
       "      <td>-0.079531</td>\n",
       "      <td>-0.118688</td>\n",
       "      <td>-0.151911</td>\n",
       "      <td>-0.453742</td>\n",
       "      <td>-0.107383</td>\n",
       "      <td>-0.187634</td>\n",
       "      <td>-0.392578</td>\n",
       "      <td>0</td>\n",
       "    </tr>\n",
       "    <tr>\n",
       "      <th>3</th>\n",
       "      <td>1.210190</td>\n",
       "      <td>2.682528</td>\n",
       "      <td>1.291868</td>\n",
       "      <td>-0.039223</td>\n",
       "      <td>0.221744</td>\n",
       "      <td>-0.353977</td>\n",
       "      <td>-0.304257</td>\n",
       "      <td>0.859101</td>\n",
       "      <td>-0.318797</td>\n",
       "      <td>2.374782</td>\n",
       "      <td>...</td>\n",
       "      <td>-0.323019</td>\n",
       "      <td>-0.205212</td>\n",
       "      <td>-0.079531</td>\n",
       "      <td>-0.118688</td>\n",
       "      <td>-0.151911</td>\n",
       "      <td>0.340723</td>\n",
       "      <td>1.334201</td>\n",
       "      <td>2.270899</td>\n",
       "      <td>0.602985</td>\n",
       "      <td>1</td>\n",
       "    </tr>\n",
       "    <tr>\n",
       "      <th>4</th>\n",
       "      <td>-0.351864</td>\n",
       "      <td>-0.318036</td>\n",
       "      <td>-0.561952</td>\n",
       "      <td>-0.039223</td>\n",
       "      <td>-0.465210</td>\n",
       "      <td>-0.353977</td>\n",
       "      <td>-0.304257</td>\n",
       "      <td>-0.240708</td>\n",
       "      <td>-0.318797</td>\n",
       "      <td>-0.352968</td>\n",
       "      <td>...</td>\n",
       "      <td>-0.323019</td>\n",
       "      <td>-0.205212</td>\n",
       "      <td>-0.079531</td>\n",
       "      <td>-0.118688</td>\n",
       "      <td>-0.151911</td>\n",
       "      <td>0.930461</td>\n",
       "      <td>-0.028751</td>\n",
       "      <td>-0.113133</td>\n",
       "      <td>-0.128592</td>\n",
       "      <td>0</td>\n",
       "    </tr>\n",
       "  </tbody>\n",
       "</table>\n",
       "<p>5 rows × 54 columns</p>\n",
       "</div>"
      ],
      "text/plain": [
       "   Freq_Of_Word_1  Freq_Of_Word_2  Freq_Of_Word_3  Freq_Of_Word_4  \\\n",
       "0       -0.351864        2.620660        1.253645       -0.039223   \n",
       "1       -0.351864       -0.318036       -0.561952       -0.039223   \n",
       "2       -0.351864       -0.318036       -0.561952       -0.039223   \n",
       "3        1.210190        2.682528        1.291868       -0.039223   \n",
       "4       -0.351864       -0.318036       -0.561952       -0.039223   \n",
       "\n",
       "   Freq_Of_Word_5  Freq_Of_Word_6  Freq_Of_Word_7  Freq_Of_Word_8  \\\n",
       "0       -0.465210       -0.353977       -0.304257       -0.240708   \n",
       "1       -0.465210       -0.353977       -0.304257        3.837751   \n",
       "2       -0.465210       -0.353977       -0.304257       -0.240708   \n",
       "3        0.221744       -0.353977       -0.304257        0.859101   \n",
       "4       -0.465210       -0.353977       -0.304257       -0.240708   \n",
       "\n",
       "   Freq_Of_Word_9  Freq_Of_Word_10  ...  Freq_Of_Word_45  Freq_Of_Word_46  \\\n",
       "0       -0.318797        -0.352968  ...        -0.323019        -0.205212   \n",
       "1       -0.318797        -0.352968  ...        -0.323019        -0.205212   \n",
       "2       -0.318797        -0.352968  ...        -0.323019        -0.205212   \n",
       "3       -0.318797         2.374782  ...        -0.323019        -0.205212   \n",
       "4       -0.318797        -0.352968  ...        -0.323019        -0.205212   \n",
       "\n",
       "   Freq_Of_Word_47  Freq_Of_Word_48  Freq_Of_Word_49  Freq_Of_Word_50  \\\n",
       "0        -0.079531        -0.118688         0.079303         0.157385   \n",
       "1        -0.079531        -0.118688        -0.151911        -0.453742   \n",
       "2        -0.079531        -0.118688        -0.151911        -0.453742   \n",
       "3        -0.079531        -0.118688        -0.151911         0.340723   \n",
       "4        -0.079531        -0.118688        -0.151911         0.930461   \n",
       "\n",
       "   TotalEmojiCharacters  LengthOFFirstParagraph  StylizedLetters  IsGoodNews  \n",
       "0             -0.028751               -0.046474         0.222453           1  \n",
       "1             -0.107383               -0.195476        -0.408024           0  \n",
       "2             -0.107383               -0.187634        -0.392578           0  \n",
       "3              1.334201                2.270899         0.602985           1  \n",
       "4             -0.028751               -0.113133        -0.128592           0  \n",
       "\n",
       "[5 rows x 54 columns]"
      ]
     },
     "execution_count": 3,
     "metadata": {},
     "output_type": "execute_result"
    }
   ],
   "source": [
    "# Read train dataset\n",
    "train_df = pd.read_csv(train_dataset)\n",
    "train_df.head()"
   ]
  },
  {
   "cell_type": "code",
   "execution_count": 4,
   "metadata": {},
   "outputs": [
    {
     "data": {
      "text/html": [
       "<div>\n",
       "<style scoped>\n",
       "    .dataframe tbody tr th:only-of-type {\n",
       "        vertical-align: middle;\n",
       "    }\n",
       "\n",
       "    .dataframe tbody tr th {\n",
       "        vertical-align: top;\n",
       "    }\n",
       "\n",
       "    .dataframe thead th {\n",
       "        text-align: right;\n",
       "    }\n",
       "</style>\n",
       "<table border=\"1\" class=\"dataframe\">\n",
       "  <thead>\n",
       "    <tr style=\"text-align: right;\">\n",
       "      <th></th>\n",
       "      <th>Freq_Of_Word_1</th>\n",
       "      <th>Freq_Of_Word_2</th>\n",
       "      <th>Freq_Of_Word_3</th>\n",
       "      <th>Freq_Of_Word_4</th>\n",
       "      <th>Freq_Of_Word_5</th>\n",
       "      <th>Freq_Of_Word_6</th>\n",
       "      <th>Freq_Of_Word_7</th>\n",
       "      <th>Freq_Of_Word_8</th>\n",
       "      <th>Freq_Of_Word_9</th>\n",
       "      <th>Freq_Of_Word_10</th>\n",
       "      <th>...</th>\n",
       "      <th>Freq_Of_Word_44</th>\n",
       "      <th>Freq_Of_Word_45</th>\n",
       "      <th>Freq_Of_Word_46</th>\n",
       "      <th>Freq_Of_Word_47</th>\n",
       "      <th>Freq_Of_Word_48</th>\n",
       "      <th>Freq_Of_Word_49</th>\n",
       "      <th>Freq_Of_Word_50</th>\n",
       "      <th>TotalEmojiCharacters</th>\n",
       "      <th>LengthOFFirstParagraph</th>\n",
       "      <th>StylizedLetters</th>\n",
       "    </tr>\n",
       "  </thead>\n",
       "  <tbody>\n",
       "    <tr>\n",
       "      <th>0</th>\n",
       "      <td>-0.351864</td>\n",
       "      <td>-0.318036</td>\n",
       "      <td>-0.561952</td>\n",
       "      <td>-0.039223</td>\n",
       "      <td>-0.465210</td>\n",
       "      <td>-0.353977</td>\n",
       "      <td>-0.304257</td>\n",
       "      <td>-0.240708</td>\n",
       "      <td>-0.318797</td>\n",
       "      <td>-0.352968</td>\n",
       "      <td>...</td>\n",
       "      <td>-0.120401</td>\n",
       "      <td>-0.323019</td>\n",
       "      <td>1.284346</td>\n",
       "      <td>-0.079531</td>\n",
       "      <td>-0.118688</td>\n",
       "      <td>-0.151911</td>\n",
       "      <td>-0.453742</td>\n",
       "      <td>-0.002540</td>\n",
       "      <td>-0.007263</td>\n",
       "      <td>-0.283052</td>\n",
       "    </tr>\n",
       "    <tr>\n",
       "      <th>1</th>\n",
       "      <td>-0.351864</td>\n",
       "      <td>-0.318036</td>\n",
       "      <td>-0.561952</td>\n",
       "      <td>-0.039223</td>\n",
       "      <td>0.007071</td>\n",
       "      <td>-0.353977</td>\n",
       "      <td>-0.304257</td>\n",
       "      <td>-0.240708</td>\n",
       "      <td>-0.318797</td>\n",
       "      <td>0.570271</td>\n",
       "      <td>...</td>\n",
       "      <td>0.291256</td>\n",
       "      <td>-0.323019</td>\n",
       "      <td>-0.205212</td>\n",
       "      <td>-0.079531</td>\n",
       "      <td>-0.118688</td>\n",
       "      <td>1.070723</td>\n",
       "      <td>1.147411</td>\n",
       "      <td>-0.054961</td>\n",
       "      <td>-0.148423</td>\n",
       "      <td>0.049739</td>\n",
       "    </tr>\n",
       "    <tr>\n",
       "      <th>2</th>\n",
       "      <td>0.006107</td>\n",
       "      <td>-0.318036</td>\n",
       "      <td>-0.351725</td>\n",
       "      <td>-0.039223</td>\n",
       "      <td>-0.307783</td>\n",
       "      <td>0.027319</td>\n",
       "      <td>-0.304257</td>\n",
       "      <td>-0.240708</td>\n",
       "      <td>3.430188</td>\n",
       "      <td>-0.352968</td>\n",
       "      <td>...</td>\n",
       "      <td>-0.120401</td>\n",
       "      <td>-0.323019</td>\n",
       "      <td>-0.205212</td>\n",
       "      <td>-0.079531</td>\n",
       "      <td>-0.118688</td>\n",
       "      <td>0.121342</td>\n",
       "      <td>0.068771</td>\n",
       "      <td>-0.054961</td>\n",
       "      <td>-0.062158</td>\n",
       "      <td>0.322149</td>\n",
       "    </tr>\n",
       "    <tr>\n",
       "      <th>3</th>\n",
       "      <td>-0.351864</td>\n",
       "      <td>-0.318036</td>\n",
       "      <td>-0.561952</td>\n",
       "      <td>-0.039223</td>\n",
       "      <td>-0.465210</td>\n",
       "      <td>-0.353977</td>\n",
       "      <td>2.089042</td>\n",
       "      <td>-0.240708</td>\n",
       "      <td>-0.318797</td>\n",
       "      <td>-0.352968</td>\n",
       "      <td>...</td>\n",
       "      <td>-0.120401</td>\n",
       "      <td>-0.323019</td>\n",
       "      <td>-0.205212</td>\n",
       "      <td>-0.079531</td>\n",
       "      <td>-0.118688</td>\n",
       "      <td>0.065290</td>\n",
       "      <td>0.304055</td>\n",
       "      <td>-0.054961</td>\n",
       "      <td>0.008422</td>\n",
       "      <td>-0.204418</td>\n",
       "    </tr>\n",
       "    <tr>\n",
       "      <th>4</th>\n",
       "      <td>0.624420</td>\n",
       "      <td>0.609973</td>\n",
       "      <td>-0.561952</td>\n",
       "      <td>-0.039223</td>\n",
       "      <td>0.393482</td>\n",
       "      <td>0.685920</td>\n",
       "      <td>-0.304257</td>\n",
       "      <td>1.134053</td>\n",
       "      <td>-0.318797</td>\n",
       "      <td>-0.352968</td>\n",
       "      <td>...</td>\n",
       "      <td>-0.120401</td>\n",
       "      <td>-0.323019</td>\n",
       "      <td>-0.205212</td>\n",
       "      <td>-0.079531</td>\n",
       "      <td>-0.118688</td>\n",
       "      <td>-0.151911</td>\n",
       "      <td>-0.453742</td>\n",
       "      <td>-0.107383</td>\n",
       "      <td>-0.191555</td>\n",
       "      <td>-0.313944</td>\n",
       "    </tr>\n",
       "  </tbody>\n",
       "</table>\n",
       "<p>5 rows × 53 columns</p>\n",
       "</div>"
      ],
      "text/plain": [
       "   Freq_Of_Word_1  Freq_Of_Word_2  Freq_Of_Word_3  Freq_Of_Word_4  \\\n",
       "0       -0.351864       -0.318036       -0.561952       -0.039223   \n",
       "1       -0.351864       -0.318036       -0.561952       -0.039223   \n",
       "2        0.006107       -0.318036       -0.351725       -0.039223   \n",
       "3       -0.351864       -0.318036       -0.561952       -0.039223   \n",
       "4        0.624420        0.609973       -0.561952       -0.039223   \n",
       "\n",
       "   Freq_Of_Word_5  Freq_Of_Word_6  Freq_Of_Word_7  Freq_Of_Word_8  \\\n",
       "0       -0.465210       -0.353977       -0.304257       -0.240708   \n",
       "1        0.007071       -0.353977       -0.304257       -0.240708   \n",
       "2       -0.307783        0.027319       -0.304257       -0.240708   \n",
       "3       -0.465210       -0.353977        2.089042       -0.240708   \n",
       "4        0.393482        0.685920       -0.304257        1.134053   \n",
       "\n",
       "   Freq_Of_Word_9  Freq_Of_Word_10  ...  Freq_Of_Word_44  Freq_Of_Word_45  \\\n",
       "0       -0.318797        -0.352968  ...        -0.120401        -0.323019   \n",
       "1       -0.318797         0.570271  ...         0.291256        -0.323019   \n",
       "2        3.430188        -0.352968  ...        -0.120401        -0.323019   \n",
       "3       -0.318797        -0.352968  ...        -0.120401        -0.323019   \n",
       "4       -0.318797        -0.352968  ...        -0.120401        -0.323019   \n",
       "\n",
       "   Freq_Of_Word_46  Freq_Of_Word_47  Freq_Of_Word_48  Freq_Of_Word_49  \\\n",
       "0         1.284346        -0.079531        -0.118688        -0.151911   \n",
       "1        -0.205212        -0.079531        -0.118688         1.070723   \n",
       "2        -0.205212        -0.079531        -0.118688         0.121342   \n",
       "3        -0.205212        -0.079531        -0.118688         0.065290   \n",
       "4        -0.205212        -0.079531        -0.118688        -0.151911   \n",
       "\n",
       "   Freq_Of_Word_50  TotalEmojiCharacters  LengthOFFirstParagraph  \\\n",
       "0        -0.453742             -0.002540               -0.007263   \n",
       "1         1.147411             -0.054961               -0.148423   \n",
       "2         0.068771             -0.054961               -0.062158   \n",
       "3         0.304055             -0.054961                0.008422   \n",
       "4        -0.453742             -0.107383               -0.191555   \n",
       "\n",
       "   StylizedLetters  \n",
       "0        -0.283052  \n",
       "1         0.049739  \n",
       "2         0.322149  \n",
       "3        -0.204418  \n",
       "4        -0.313944  \n",
       "\n",
       "[5 rows x 53 columns]"
      ]
     },
     "execution_count": 4,
     "metadata": {},
     "output_type": "execute_result"
    }
   ],
   "source": [
    "# Read predict dataset\n",
    "predict_df = pd.read_csv(predict_dataset)\n",
    "predict_df.head()"
   ]
  },
  {
   "cell_type": "code",
   "execution_count": 5,
   "metadata": {},
   "outputs": [
    {
     "name": "stdout",
     "output_type": "stream",
     "text": [
      "<class 'pandas.core.frame.DataFrame'>\n",
      "RangeIndex: 947 entries, 0 to 946\n",
      "Data columns (total 54 columns):\n",
      " #   Column                  Non-Null Count  Dtype  \n",
      "---  ------                  --------------  -----  \n",
      " 0   Freq_Of_Word_1          947 non-null    float64\n",
      " 1   Freq_Of_Word_2          947 non-null    float64\n",
      " 2   Freq_Of_Word_3          947 non-null    float64\n",
      " 3   Freq_Of_Word_4          947 non-null    float64\n",
      " 4   Freq_Of_Word_5          947 non-null    float64\n",
      " 5   Freq_Of_Word_6          947 non-null    float64\n",
      " 6   Freq_Of_Word_7          947 non-null    float64\n",
      " 7   Freq_Of_Word_8          947 non-null    float64\n",
      " 8   Freq_Of_Word_9          947 non-null    float64\n",
      " 9   Freq_Of_Word_10         947 non-null    float64\n",
      " 10  Freq_Of_Word_11         947 non-null    float64\n",
      " 11  Freq_Of_Word_12         947 non-null    float64\n",
      " 12  Freq_Of_Word_13         947 non-null    float64\n",
      " 13  Freq_Of_Word_14         947 non-null    float64\n",
      " 14  Freq_Of_Word_15         947 non-null    float64\n",
      " 15  Freq_Of_Word_16         947 non-null    float64\n",
      " 16  Freq_Of_Word_17         947 non-null    float64\n",
      " 17  Freq_Of_Word_18         947 non-null    float64\n",
      " 18  Freq_Of_Word_19         947 non-null    float64\n",
      " 19  Freq_Of_Word_20         947 non-null    float64\n",
      " 20  Freq_Of_Word_21         947 non-null    float64\n",
      " 21  Freq_Of_Word_22         947 non-null    float64\n",
      " 22  Freq_Of_Word_23         947 non-null    float64\n",
      " 23  Freq_Of_Word_24         947 non-null    float64\n",
      " 24  Freq_Of_Word_25         947 non-null    float64\n",
      " 25  Freq_Of_Word_26         947 non-null    float64\n",
      " 26  Freq_Of_Word_27         947 non-null    float64\n",
      " 27  Freq_Of_Word_28         947 non-null    float64\n",
      " 28  Freq_Of_Word_29         947 non-null    float64\n",
      " 29  Freq_Of_Word_30         947 non-null    float64\n",
      " 30  Freq_Of_Word_31         947 non-null    float64\n",
      " 31  Freq_Of_Word_32         947 non-null    float64\n",
      " 32  Freq_Of_Word_33         947 non-null    float64\n",
      " 33  Freq_Of_Word_34         947 non-null    float64\n",
      " 34  Freq_Of_Word_35         947 non-null    float64\n",
      " 35  Freq_Of_Word_36         947 non-null    float64\n",
      " 36  Freq_Of_Word_37         947 non-null    float64\n",
      " 37  Freq_Of_Word_38         947 non-null    float64\n",
      " 38  Freq_Of_Word_39         947 non-null    float64\n",
      " 39  Freq_Of_Word_40         947 non-null    float64\n",
      " 40  Freq_Of_Word_41         947 non-null    float64\n",
      " 41  Freq_Of_Word_42         947 non-null    float64\n",
      " 42  Freq_Of_Word_43         947 non-null    float64\n",
      " 43  Freq_Of_Word_44         947 non-null    float64\n",
      " 44  Freq_Of_Word_45         947 non-null    float64\n",
      " 45  Freq_Of_Word_46         947 non-null    float64\n",
      " 46  Freq_Of_Word_47         947 non-null    float64\n",
      " 47  Freq_Of_Word_48         947 non-null    float64\n",
      " 48  Freq_Of_Word_49         947 non-null    float64\n",
      " 49  Freq_Of_Word_50         947 non-null    float64\n",
      " 50  TotalEmojiCharacters    947 non-null    float64\n",
      " 51  LengthOFFirstParagraph  947 non-null    float64\n",
      " 52  StylizedLetters         947 non-null    float64\n",
      " 53  IsGoodNews              947 non-null    int64  \n",
      "dtypes: float64(53), int64(1)\n",
      "memory usage: 399.6 KB\n"
     ]
    }
   ],
   "source": [
    "train_df.info(verbose=True)"
   ]
  },
  {
   "cell_type": "code",
   "execution_count": 6,
   "metadata": {},
   "outputs": [
    {
     "name": "stdout",
     "output_type": "stream",
     "text": [
      "<class 'pandas.core.frame.DataFrame'>\n",
      "RangeIndex: 527 entries, 0 to 526\n",
      "Data columns (total 53 columns):\n",
      " #   Column                  Non-Null Count  Dtype  \n",
      "---  ------                  --------------  -----  \n",
      " 0   Freq_Of_Word_1          527 non-null    float64\n",
      " 1   Freq_Of_Word_2          527 non-null    float64\n",
      " 2   Freq_Of_Word_3          527 non-null    float64\n",
      " 3   Freq_Of_Word_4          527 non-null    float64\n",
      " 4   Freq_Of_Word_5          527 non-null    float64\n",
      " 5   Freq_Of_Word_6          527 non-null    float64\n",
      " 6   Freq_Of_Word_7          527 non-null    float64\n",
      " 7   Freq_Of_Word_8          527 non-null    float64\n",
      " 8   Freq_Of_Word_9          527 non-null    float64\n",
      " 9   Freq_Of_Word_10         527 non-null    float64\n",
      " 10  Freq_Of_Word_11         527 non-null    float64\n",
      " 11  Freq_Of_Word_12         527 non-null    float64\n",
      " 12  Freq_Of_Word_13         527 non-null    float64\n",
      " 13  Freq_Of_Word_14         527 non-null    float64\n",
      " 14  Freq_Of_Word_15         527 non-null    float64\n",
      " 15  Freq_Of_Word_16         527 non-null    float64\n",
      " 16  Freq_Of_Word_17         527 non-null    float64\n",
      " 17  Freq_Of_Word_18         527 non-null    float64\n",
      " 18  Freq_Of_Word_19         527 non-null    float64\n",
      " 19  Freq_Of_Word_20         527 non-null    float64\n",
      " 20  Freq_Of_Word_21         527 non-null    float64\n",
      " 21  Freq_Of_Word_22         527 non-null    float64\n",
      " 22  Freq_Of_Word_23         527 non-null    float64\n",
      " 23  Freq_Of_Word_24         527 non-null    float64\n",
      " 24  Freq_Of_Word_25         527 non-null    float64\n",
      " 25  Freq_Of_Word_26         527 non-null    float64\n",
      " 26  Freq_Of_Word_27         527 non-null    float64\n",
      " 27  Freq_Of_Word_28         527 non-null    float64\n",
      " 28  Freq_Of_Word_29         527 non-null    float64\n",
      " 29  Freq_Of_Word_30         527 non-null    float64\n",
      " 30  Freq_Of_Word_31         527 non-null    float64\n",
      " 31  Freq_Of_Word_32         527 non-null    float64\n",
      " 32  Freq_Of_Word_33         527 non-null    float64\n",
      " 33  Freq_Of_Word_34         527 non-null    float64\n",
      " 34  Freq_Of_Word_35         527 non-null    float64\n",
      " 35  Freq_Of_Word_36         527 non-null    float64\n",
      " 36  Freq_Of_Word_37         527 non-null    float64\n",
      " 37  Freq_Of_Word_38         527 non-null    float64\n",
      " 38  Freq_Of_Word_39         527 non-null    float64\n",
      " 39  Freq_Of_Word_40         527 non-null    float64\n",
      " 40  Freq_Of_Word_41         527 non-null    float64\n",
      " 41  Freq_Of_Word_42         527 non-null    float64\n",
      " 42  Freq_Of_Word_43         527 non-null    float64\n",
      " 43  Freq_Of_Word_44         527 non-null    float64\n",
      " 44  Freq_Of_Word_45         527 non-null    float64\n",
      " 45  Freq_Of_Word_46         527 non-null    float64\n",
      " 46  Freq_Of_Word_47         527 non-null    float64\n",
      " 47  Freq_Of_Word_48         527 non-null    float64\n",
      " 48  Freq_Of_Word_49         527 non-null    float64\n",
      " 49  Freq_Of_Word_50         527 non-null    float64\n",
      " 50  TotalEmojiCharacters    527 non-null    float64\n",
      " 51  LengthOFFirstParagraph  527 non-null    float64\n",
      " 52  StylizedLetters         527 non-null    float64\n",
      "dtypes: float64(53)\n",
      "memory usage: 218.3 KB\n"
     ]
    }
   ],
   "source": [
    "predict_df.info(verbose=True)"
   ]
  },
  {
   "cell_type": "code",
   "execution_count": 7,
   "metadata": {},
   "outputs": [
    {
     "data": {
      "image/png": "[encoded data removed]",
      "text/plain": [
       "<Figure size 432x288 with 1 Axes>"
      ]
     },
     "metadata": {
      "needs_background": "light"
     },
     "output_type": "display_data"
    }
   ],
   "source": [
    "# Plot count of data in \"IsGoodNews\" field\n",
    "sns.countplot(x=\"IsGoodNews\", data=train_df).set_title('Count plot of \"IsGoodNews\" data')\n",
    "plt.grid()"
   ]
  },
  {
   "cell_type": "markdown",
   "metadata": {},
   "source": [
    "## Data Preprocessing"
   ]
  },
  {
   "cell_type": "markdown",
   "metadata": {},
   "source": [
    "#### Read train and predict datasets"
   ]
  },
  {
   "cell_type": "code",
   "execution_count": 18,
   "metadata": {},
   "outputs": [
    {
     "name": "stdout",
     "output_type": "stream",
     "text": [
      "train_df: (947, 54)\n",
      "predict_df: (527, 53)\n"
     ]
    }
   ],
   "source": [
    "train_df = pd.read_csv(train_dataset)\n",
    "predict_df = pd.read_csv(predict_dataset)\n",
    "print(\"train_df: {}\".format(train_df.shape))\n",
    "print(\"predict_df: {}\".format(predict_df.shape))"
   ]
  },
  {
   "cell_type": "markdown",
   "metadata": {},
   "source": [
    "#### Extract \"IsGoodNews\" field from train_df into NumPy array"
   ]
  },
  {
   "cell_type": "code",
   "execution_count": 19,
   "metadata": {},
   "outputs": [
    {
     "name": "stdout",
     "output_type": "stream",
     "text": [
      "train_y: (947, 1)\n"
     ]
    }
   ],
   "source": [
    "train_y = np.array([train_df['IsGoodNews'].values]).T\n",
    "train_df.drop(['IsGoodNews'], inplace=True, axis=1)\n",
    "print(\"train_y: {}\".format(train_y.shape))"
   ]
  },
  {
   "cell_type": "markdown",
   "metadata": {},
   "source": [
    "#### Create feature matrices for train and predict datasets"
   ]
  },
  {
   "cell_type": "code",
   "execution_count": 20,
   "metadata": {},
   "outputs": [
    {
     "name": "stdout",
     "output_type": "stream",
     "text": [
      "train_x: (947, 53)\n"
     ]
    }
   ],
   "source": [
    "train_x = train_df.values\n",
    "print(\"train_x: {}\".format(train_x.shape))"
   ]
  },
  {
   "cell_type": "code",
   "execution_count": 21,
   "metadata": {},
   "outputs": [
    {
     "name": "stdout",
     "output_type": "stream",
     "text": [
      "predict_x: (527, 53)\n"
     ]
    }
   ],
   "source": [
    "predict_x = predict_df.values\n",
    "print(\"predict_x: {}\".format(predict_x.shape))"
   ]
  },
  {
   "cell_type": "markdown",
   "metadata": {},
   "source": [
    "#### Split training data into train/test datasets"
   ]
  },
  {
   "cell_type": "code",
   "execution_count": 22,
   "metadata": {},
   "outputs": [],
   "source": [
    "train_x_full = train_x.copy()\n",
    "train_y_full = train_y.copy()"
   ]
  },
  {
   "cell_type": "code",
   "execution_count": 23,
   "metadata": {},
   "outputs": [
    {
     "name": "stdout",
     "output_type": "stream",
     "text": [
      "------------------------- Training Dataset -------------------------\n",
      "train_x shape: (875, 53)\n",
      "train_y shape: (875, 1)\n",
      "\n",
      "------------------------- Test Dataset -------------------------\n",
      "test_x shape: (72, 53)\n",
      "test_y shape: (72, 1)\n"
     ]
    }
   ],
   "source": [
    "train_x, test_x, train_y, test_y = train_test_split(train_x, train_y, test_size=0.075, random_state=10)\n",
    "\n",
    "print(\"------------------------- Training Dataset -------------------------\")\n",
    "print(\"train_x shape: {}\".format(train_x.shape))\n",
    "print(\"train_y shape: {}\".format(train_y.shape))\n",
    "\n",
    "print(\"\\n------------------------- Test Dataset -------------------------\")\n",
    "print(\"test_x shape: {}\".format(test_x.shape))\n",
    "print(\"test_y shape: {}\".format(test_y.shape))"
   ]
  },
  {
   "cell_type": "markdown",
   "metadata": {},
   "source": [
    "## Save the datasets in NPZ file (for reusability)"
   ]
  },
  {
   "cell_type": "code",
   "execution_count": 24,
   "metadata": {},
   "outputs": [],
   "source": [
    "np.savez_compressed('Dataset/Message_Polarity_dataset_LGBM_v1.npz',\n",
    "                    Xtrain_full=train_x_full, Ytrain_full=train_y_full,\n",
    "                    Xtrain=train_x, Ytrain=train_y,\n",
    "                    Xtest=test_x, Ytest=test_y,\n",
    "                    Xpredict=predict_x)"
   ]
  },
  {
   "cell_type": "markdown",
   "metadata": {},
   "source": [
    "## Load datasets from the NPZ file"
   ]
  },
  {
   "cell_type": "code",
   "execution_count": 25,
   "metadata": {},
   "outputs": [
    {
     "name": "stdout",
     "output_type": "stream",
     "text": [
      "------------------------- Training Dataset -------------------------\n",
      "Xtrain_full shape: (947, 53)\n",
      "Ytrain_full shape: (947, 1)\n",
      "Xtrain shape: (875, 53)\n",
      "Ytrain shape: (875, 1)\n",
      "\n",
      "------------------------- Test Dataset -------------------------\n",
      "Xtest shape: (72, 53)\n",
      "Ytest shape: (72, 1)\n",
      "\n",
      "------------------------- Prediction Dataset -------------------------\n",
      "Xpredict shape: (527, 53)\n"
     ]
    }
   ],
   "source": [
    "processed_dataset = np.load('Dataset/Message_Polarity_dataset_LGBM_v1.npz', allow_pickle=True)\n",
    "\n",
    "Xtrain_full, Ytrain_full = processed_dataset['Xtrain_full'], processed_dataset['Ytrain_full']\n",
    "Xtrain, Ytrain = processed_dataset['Xtrain'], processed_dataset['Ytrain']\n",
    "Xtest, Ytest = processed_dataset['Xtest'], processed_dataset['Ytest']\n",
    "Xpredict = processed_dataset['Xpredict']\n",
    "\n",
    "print(\"------------------------- Training Dataset -------------------------\")\n",
    "print(\"Xtrain_full shape: {}\".format(Xtrain_full.shape))\n",
    "print(\"Ytrain_full shape: {}\".format(Ytrain_full.shape))\n",
    "print(\"Xtrain shape: {}\".format(Xtrain.shape))\n",
    "print(\"Ytrain shape: {}\".format(Ytrain.shape))\n",
    "\n",
    "print(\"\\n------------------------- Test Dataset -------------------------\")\n",
    "print(\"Xtest shape: {}\".format(Xtest.shape))\n",
    "print(\"Ytest shape: {}\".format(Ytest.shape))\n",
    "\n",
    "print(\"\\n------------------------- Prediction Dataset -------------------------\")\n",
    "print(\"Xpredict shape: {}\".format(Xpredict.shape))"
   ]
  },
  {
   "cell_type": "markdown",
   "metadata": {},
   "source": [
    "## Hyperparameter search using Optuna"
   ]
  },
  {
   "cell_type": "code",
   "execution_count": 47,
   "metadata": {},
   "outputs": [],
   "source": [
    "def objective(trial):\n",
    "    train_x, test_x, train_y, test_y = train_test_split(Xtrain, Ytrain, test_size=0.075)\n",
    "    dtrain = lgb.Dataset(train_x, label=train_y.ravel())\n",
    "    dtest = lgb.Dataset(test_x, label=test_y.ravel())\n",
    "\n",
    "    param = {\n",
    "        \"objective\": \"binary\",\n",
    "        \"metric\": \"binary_logloss\",\n",
    "        \"verbosity\": -1,\n",
    "        \"boosting_type\": \"gbdt\",\n",
    "        \"learning_rate\": trial.suggest_loguniform(\"learning_rate\", 1e-2, 1e-1),\n",
    "        \"lambda_l2\": trial.suggest_loguniform(\"lambda_l2\", 1e-4, 1.0),\n",
    "        \"num_leaves\": trial.suggest_int(\"num_leaves\", 31, 150),\n",
    "        \"max_depth\": trial.suggest_int(\"max_depth\", 7, 15),\n",
    "        \"feature_fraction\": trial.suggest_uniform(\"feature_fraction\", 0.5, 1.0),\n",
    "        \"bagging_fraction\": trial.suggest_uniform(\"bagging_fraction\", 0.5, 1.0),\n",
    "        \"bagging_freq\": trial.suggest_int(\"bagging_freq\", 5, 20),\n",
    "        \"min_child_samples\": trial.suggest_int(\"min_child_samples\", 1, 20),\n",
    "    }\n",
    "\n",
    "    gbm = lgb.train(param, dtrain, valid_sets=[dtest], num_boost_round=5000, early_stopping_rounds=200, verbose_eval=False)\n",
    "    y_pred = gbm.predict(test_x)\n",
    "    y_pred_binary = np.where(y_pred > 0.5, 1, 0)\n",
    "    score = accuracy_score(test_y, y_pred_binary)\n",
    "\n",
    "    return score"
   ]
  },
  {
   "cell_type": "code",
   "execution_count": 48,
   "metadata": {},
   "outputs": [
    {
     "name": "stderr",
     "output_type": "stream",
     "text": [
      "[I 2020-05-04 03:03:59,522] Finished trial#0 with value: 0.9242424242424242 with parameters: {'learning_rate': 0.02173499404482438, 'lambda_l2': 0.0027056431511635853, 'num_leaves': 109, 'max_depth': 8, 'feature_fraction': 0.5741590651513182, 'bagging_fraction': 0.818612944852377, 'bagging_freq': 18, 'min_child_samples': 13}. Best is trial#0 with value: 0.9242424242424242.\n",
      "[I 2020-05-04 03:03:59,953] Finished trial#1 with value: 0.8636363636363636 with parameters: {'learning_rate': 0.039862472442157806, 'lambda_l2': 0.0026408304914763343, 'num_leaves': 80, 'max_depth': 11, 'feature_fraction': 0.9989200888701544, 'bagging_fraction': 0.6063651206379446, 'bagging_freq': 16, 'min_child_samples': 13}. Best is trial#0 with value: 0.9242424242424242.\n",
      "[I 2020-05-04 03:04:00,723] Finished trial#2 with value: 0.9090909090909091 with parameters: {'learning_rate': 0.015651698872934546, 'lambda_l2': 0.09603719602975809, 'num_leaves': 133, 'max_depth': 10, 'feature_fraction': 0.73735961240048, 'bagging_fraction': 0.9891020262584633, 'bagging_freq': 12, 'min_child_samples': 5}. Best is trial#0 with value: 0.9242424242424242.\n",
      "[I 2020-05-04 03:04:01,786] Finished trial#3 with value: 0.9090909090909091 with parameters: {'learning_rate': 0.03720255985088834, 'lambda_l2': 0.00015659810068969365, 'num_leaves': 105, 'max_depth': 12, 'feature_fraction': 0.8231447861520595, 'bagging_fraction': 0.9140563328793305, 'bagging_freq': 6, 'min_child_samples': 1}. Best is trial#0 with value: 0.9242424242424242.\n",
      "[I 2020-05-04 03:04:02,384] Finished trial#4 with value: 0.9090909090909091 with parameters: {'learning_rate': 0.05940078016875879, 'lambda_l2': 0.0011993045338461981, 'num_leaves': 136, 'max_depth': 13, 'feature_fraction': 0.9125722640767134, 'bagging_fraction': 0.8414661638851358, 'bagging_freq': 9, 'min_child_samples': 15}. Best is trial#0 with value: 0.9242424242424242.\n",
      "[I 2020-05-04 03:04:08,232] Finished trial#5 with value: 0.9545454545454546 with parameters: {'learning_rate': 0.014589595527359826, 'lambda_l2': 0.3716318253205337, 'num_leaves': 47, 'max_depth': 13, 'feature_fraction': 0.685680283833786, 'bagging_fraction': 0.7793779401544054, 'bagging_freq': 16, 'min_child_samples': 2}. Best is trial#5 with value: 0.9545454545454546.\n",
      "[I 2020-05-04 03:04:09,529] Finished trial#6 with value: 0.9545454545454546 with parameters: {'learning_rate': 0.021888657295310813, 'lambda_l2': 0.11041516058904784, 'num_leaves': 77, 'max_depth': 10, 'feature_fraction': 0.8928067828196281, 'bagging_fraction': 0.6293268242668071, 'bagging_freq': 17, 'min_child_samples': 7}. Best is trial#5 with value: 0.9545454545454546.\n",
      "[I 2020-05-04 03:04:10,226] Finished trial#7 with value: 0.9545454545454546 with parameters: {'learning_rate': 0.09460753736737464, 'lambda_l2': 0.018727399951071793, 'num_leaves': 116, 'max_depth': 10, 'feature_fraction': 0.7557072822776154, 'bagging_fraction': 0.9624279755700141, 'bagging_freq': 16, 'min_child_samples': 16}. Best is trial#5 with value: 0.9545454545454546.\n",
      "[I 2020-05-04 03:04:11,054] Finished trial#8 with value: 0.9393939393939394 with parameters: {'learning_rate': 0.02932092671051764, 'lambda_l2': 0.0005402539586645572, 'num_leaves': 82, 'max_depth': 14, 'feature_fraction': 0.9935637567423343, 'bagging_fraction': 0.6797507125049063, 'bagging_freq': 11, 'min_child_samples': 12}. Best is trial#5 with value: 0.9545454545454546.\n",
      "[I 2020-05-04 03:04:11,949] Finished trial#9 with value: 0.9393939393939394 with parameters: {'learning_rate': 0.031410653024997154, 'lambda_l2': 0.0027225835024063776, 'num_leaves': 38, 'max_depth': 11, 'feature_fraction': 0.6900763816431859, 'bagging_fraction': 0.7429517443429766, 'bagging_freq': 12, 'min_child_samples': 20}. Best is trial#5 with value: 0.9545454545454546.\n",
      "[I 2020-05-04 03:04:13,270] Finished trial#10 with value: 0.9393939393939394 with parameters: {'learning_rate': 0.011021420188935425, 'lambda_l2': 0.6360515160244041, 'num_leaves': 34, 'max_depth': 15, 'feature_fraction': 0.5288874562921548, 'bagging_fraction': 0.5203332807210296, 'bagging_freq': 19, 'min_child_samples': 1}. Best is trial#5 with value: 0.9545454545454546.\n",
      "[I 2020-05-04 03:04:15,089] Finished trial#11 with value: 0.9090909090909091 with parameters: {'learning_rate': 0.01028678863617422, 'lambda_l2': 0.9806410976806488, 'num_leaves': 56, 'max_depth': 7, 'feature_fraction': 0.6342399281803349, 'bagging_fraction': 0.6324886396880267, 'bagging_freq': 16, 'min_child_samples': 6}. Best is trial#5 with value: 0.9545454545454546.\n",
      "[I 2020-05-04 03:04:16,266] Finished trial#12 with value: 0.9393939393939394 with parameters: {'learning_rate': 0.01499889391122737, 'lambda_l2': 0.15689594762348777, 'num_leaves': 60, 'max_depth': 9, 'feature_fraction': 0.8372463875026934, 'bagging_fraction': 0.5115503560712651, 'bagging_freq': 20, 'min_child_samples': 7}. Best is trial#5 with value: 0.9545454545454546.\n",
      "[I 2020-05-04 03:04:18,065] Finished trial#13 with value: 0.9696969696969697 with parameters: {'learning_rate': 0.019407453810896265, 'lambda_l2': 0.12256036285202176, 'num_leaves': 56, 'max_depth': 13, 'feature_fraction': 0.9047456652048216, 'bagging_fraction': 0.7383026612734591, 'bagging_freq': 15, 'min_child_samples': 4}. Best is trial#13 with value: 0.9696969696969697.\n",
      "[I 2020-05-04 03:04:19,402] Finished trial#14 with value: 0.9393939393939394 with parameters: {'learning_rate': 0.01672898308417495, 'lambda_l2': 0.03369895328493918, 'num_leaves': 53, 'max_depth': 15, 'feature_fraction': 0.6432085722972427, 'bagging_fraction': 0.7642145976076488, 'bagging_freq': 14, 'min_child_samples': 3}. Best is trial#13 with value: 0.9696969696969697.\n",
      "[I 2020-05-04 03:04:20,844] Finished trial#15 with value: 0.9393939393939394 with parameters: {'learning_rate': 0.01210107951285242, 'lambda_l2': 0.4491289471268477, 'num_leaves': 32, 'max_depth': 13, 'feature_fraction': 0.7836108265573878, 'bagging_fraction': 0.7273822305664663, 'bagging_freq': 14, 'min_child_samples': 9}. Best is trial#13 with value: 0.9696969696969697.\n",
      "[I 2020-05-04 03:04:21,747] Finished trial#16 with value: 0.9393939393939394 with parameters: {'learning_rate': 0.021616349195544168, 'lambda_l2': 0.2588196701480795, 'num_leaves': 66, 'max_depth': 13, 'feature_fraction': 0.9430871099885472, 'bagging_fraction': 0.8485573329309616, 'bagging_freq': 14, 'min_child_samples': 3}. Best is trial#13 with value: 0.9696969696969697.\n",
      "[I 2020-05-04 03:04:22,870] Finished trial#17 with value: 0.9545454545454546 with parameters: {'learning_rate': 0.013538558982096006, 'lambda_l2': 0.042203893192120194, 'num_leaves': 45, 'max_depth': 14, 'feature_fraction': 0.7039601600181005, 'bagging_fraction': 0.7849620562380776, 'bagging_freq': 9, 'min_child_samples': 3}. Best is trial#13 with value: 0.9696969696969697.\n",
      "[I 2020-05-04 03:04:24,156] Finished trial#18 with value: 0.9696969696969697 with parameters: {'learning_rate': 0.018997725537918172, 'lambda_l2': 0.04295049319353947, 'num_leaves': 69, 'max_depth': 14, 'feature_fraction': 0.8653304647289553, 'bagging_fraction': 0.8881909726101761, 'bagging_freq': 7, 'min_child_samples': 4}. Best is trial#13 with value: 0.9696969696969697.\n",
      "[I 2020-05-04 03:04:24,789] Finished trial#19 with value: 0.9090909090909091 with parameters: {'learning_rate': 0.02634660572745215, 'lambda_l2': 0.009316171599411867, 'num_leaves': 95, 'max_depth': 14, 'feature_fraction': 0.8576306414664705, 'bagging_fraction': 0.9072985054004821, 'bagging_freq': 5, 'min_child_samples': 9}. Best is trial#13 with value: 0.9696969696969697.\n",
      "[I 2020-05-04 03:04:25,720] Finished trial#20 with value: 0.9393939393939394 with parameters: {'learning_rate': 0.042606627612943794, 'lambda_l2': 0.007558352634380758, 'num_leaves': 70, 'max_depth': 12, 'feature_fraction': 0.9580915485275696, 'bagging_fraction': 0.9032612796598045, 'bagging_freq': 7, 'min_child_samples': 5}. Best is trial#13 with value: 0.9696969696969697.\n",
      "[I 2020-05-04 03:04:27,461] Finished trial#21 with value: 0.8787878787878788 with parameters: {'learning_rate': 0.018310811689880958, 'lambda_l2': 0.05349376589264012, 'num_leaves': 46, 'max_depth': 14, 'feature_fraction': 0.8114590603685989, 'bagging_fraction': 0.7027812828037964, 'bagging_freq': 9, 'min_child_samples': 4}. Best is trial#13 with value: 0.9696969696969697.\n",
      "[I 2020-05-04 03:04:31,995] Finished trial#22 with value: 0.9545454545454546 with parameters: {'learning_rate': 0.012799255690650076, 'lambda_l2': 0.030691575587712575, 'num_leaves': 67, 'max_depth': 15, 'feature_fraction': 0.8768308844554082, 'bagging_fraction': 0.8028680423048122, 'bagging_freq': 8, 'min_child_samples': 1}. Best is trial#13 with value: 0.9696969696969697.\n",
      "[I 2020-05-04 03:04:34,960] Finished trial#23 with value: 0.8787878787878788 with parameters: {'learning_rate': 0.010079053490451543, 'lambda_l2': 0.018406539850251036, 'num_leaves': 91, 'max_depth': 15, 'feature_fraction': 0.8830291369204296, 'bagging_fraction': 0.8645481236168662, 'bagging_freq': 7, 'min_child_samples': 1}. Best is trial#13 with value: 0.9696969696969697.\n",
      "[I 2020-05-04 03:04:36,429] Finished trial#24 with value: 0.9242424242424242 with parameters: {'learning_rate': 0.018417385809248808, 'lambda_l2': 0.07538392367505312, 'num_leaves': 43, 'max_depth': 14, 'feature_fraction': 0.7313327184152778, 'bagging_fraction': 0.6812999736752094, 'bagging_freq': 10, 'min_child_samples': 8}. Best is trial#13 with value: 0.9696969696969697.\n",
      "[I 2020-05-04 03:04:37,596] Finished trial#25 with value: 0.8939393939393939 with parameters: {'learning_rate': 0.025144352068968888, 'lambda_l2': 0.20712003330342826, 'num_leaves': 65, 'max_depth': 15, 'feature_fraction': 0.9300718400154968, 'bagging_fraction': 0.8182816121915393, 'bagging_freq': 7, 'min_child_samples': 5}. Best is trial#13 with value: 0.9696969696969697.\n",
      "[I 2020-05-04 03:04:39,243] Finished trial#26 with value: 0.9242424242424242 with parameters: {'learning_rate': 0.012389739041277598, 'lambda_l2': 0.015631009227930568, 'num_leaves': 73, 'max_depth': 12, 'feature_fraction': 0.8628884211875354, 'bagging_fraction': 0.9372193321019866, 'bagging_freq': 5, 'min_child_samples': 1}. Best is trial#13 with value: 0.9696969696969697.\n",
      "[I 2020-05-04 03:04:40,283] Finished trial#27 with value: 0.8939393939393939 with parameters: {'learning_rate': 0.018786166793602246, 'lambda_l2': 0.029841712651461672, 'num_leaves': 58, 'max_depth': 15, 'feature_fraction': 0.9700918171145015, 'bagging_fraction': 0.8064370495052025, 'bagging_freq': 8, 'min_child_samples': 10}. Best is trial#13 with value: 0.9696969696969697.\n",
      "[I 2020-05-04 03:04:41,438] Finished trial#28 with value: 0.8939393939393939 with parameters: {'learning_rate': 0.025099623527640055, 'lambda_l2': 0.0073274478887524796, 'num_leaves': 87, 'max_depth': 13, 'feature_fraction': 0.9089679909130509, 'bagging_fraction': 0.8730749500729447, 'bagging_freq': 13, 'min_child_samples': 4}. Best is trial#13 with value: 0.9696969696969697.\n",
      "[I 2020-05-04 03:04:42,890] Finished trial#29 with value: 0.9545454545454546 with parameters: {'learning_rate': 0.021469375994062997, 'lambda_l2': 0.06876147587760882, 'num_leaves': 51, 'max_depth': 14, 'feature_fraction': 0.6105176495915349, 'bagging_fraction': 0.7755558626400445, 'bagging_freq': 10, 'min_child_samples': 3}. Best is trial#13 with value: 0.9696969696969697.\n",
      "[I 2020-05-04 03:04:43,457] Finished trial#30 with value: 0.8636363636363636 with parameters: {'learning_rate': 0.022321606021224637, 'lambda_l2': 0.12964307879009673, 'num_leaves': 54, 'max_depth': 12, 'feature_fraction': 0.5109305620459972, 'bagging_fraction': 0.7164501282510971, 'bagging_freq': 11, 'min_child_samples': 7}. Best is trial#13 with value: 0.9696969696969697.\n",
      "[I 2020-05-04 03:04:44,413] Finished trial#31 with value: 0.9696969696969697 with parameters: {'learning_rate': 0.020228525553175142, 'lambda_l2': 0.04899778425597767, 'num_leaves': 48, 'max_depth': 14, 'feature_fraction': 0.576464021443073, 'bagging_fraction': 0.7630092641651912, 'bagging_freq': 10, 'min_child_samples': 3}. Best is trial#13 with value: 0.9696969696969697.\n",
      "[I 2020-05-04 03:04:45,103] Finished trial#32 with value: 0.8484848484848485 with parameters: {'learning_rate': 0.020504581834545784, 'lambda_l2': 0.0647180415395596, 'num_leaves': 50, 'max_depth': 14, 'feature_fraction': 0.6401438154697127, 'bagging_fraction': 0.6637169166387373, 'bagging_freq': 10, 'min_child_samples': 3}. Best is trial#13 with value: 0.9696969696969697.\n",
      "[I 2020-05-04 03:04:46,478] Finished trial#33 with value: 0.9696969696969697 with parameters: {'learning_rate': 0.0164449620083249, 'lambda_l2': 0.08010709520134277, 'num_leaves': 60, 'max_depth': 13, 'feature_fraction': 0.5853753312748695, 'bagging_fraction': 0.7514307006840295, 'bagging_freq': 11, 'min_child_samples': 5}. Best is trial#13 with value: 0.9696969696969697.\n",
      "[I 2020-05-04 03:04:47,176] Finished trial#34 with value: 0.9545454545454546 with parameters: {'learning_rate': 0.016455271072053343, 'lambda_l2': 0.2877313616350932, 'num_leaves': 61, 'max_depth': 11, 'feature_fraction': 0.5646936120071048, 'bagging_fraction': 0.568223161033746, 'bagging_freq': 13, 'min_child_samples': 5}. Best is trial#13 with value: 0.9696969696969697.\n",
      "[I 2020-05-04 03:04:48,566] Finished trial#35 with value: 1.0 with parameters: {'learning_rate': 0.016933994236798096, 'lambda_l2': 0.11574610605117196, 'num_leaves': 39, 'max_depth': 12, 'feature_fraction': 0.5642919623130809, 'bagging_fraction': 0.7498064749936242, 'bagging_freq': 15, 'min_child_samples': 6}. Best is trial#35 with value: 1.0.\n",
      "[I 2020-05-04 03:04:49,119] Finished trial#36 with value: 0.9090909090909091 with parameters: {'learning_rate': 0.03756067772215768, 'lambda_l2': 0.6860449745865617, 'num_leaves': 31, 'max_depth': 12, 'feature_fraction': 0.5610813211420393, 'bagging_fraction': 0.9972302145441878, 'bagging_freq': 12, 'min_child_samples': 6}. Best is trial#35 with value: 1.0.\n",
      "[I 2020-05-04 03:04:49,909] Finished trial#37 with value: 0.9242424242424242 with parameters: {'learning_rate': 0.01630531921207337, 'lambda_l2': 0.013483303516788305, 'num_leaves': 149, 'max_depth': 13, 'feature_fraction': 0.5335880393973711, 'bagging_fraction': 0.7652379846215385, 'bagging_freq': 11, 'min_child_samples': 6}. Best is trial#35 with value: 1.0.\n",
      "[I 2020-05-04 03:04:51,005] Finished trial#38 with value: 0.8787878787878788 with parameters: {'learning_rate': 0.014358264370118291, 'lambda_l2': 0.0947686870504909, 'num_leaves': 40, 'max_depth': 11, 'feature_fraction': 0.6024778210715184, 'bagging_fraction': 0.836018886295963, 'bagging_freq': 8, 'min_child_samples': 2}. Best is trial#35 with value: 1.0.\n",
      "[I 2020-05-04 03:04:51,584] Finished trial#39 with value: 0.9090909090909091 with parameters: {'learning_rate': 0.04739237187402503, 'lambda_l2': 0.17923162926069572, 'num_leaves': 76, 'max_depth': 12, 'feature_fraction': 0.5942345394903368, 'bagging_fraction': 0.6971106472295486, 'bagging_freq': 18, 'min_child_samples': 11}. Best is trial#35 with value: 1.0.\n",
      "[I 2020-05-04 03:04:52,257] Finished trial#40 with value: 0.9242424242424242 with parameters: {'learning_rate': 0.02637695564018394, 'lambda_l2': 0.026114415118831825, 'num_leaves': 99, 'max_depth': 13, 'feature_fraction': 0.6642763931315802, 'bagging_fraction': 0.650333496372766, 'bagging_freq': 6, 'min_child_samples': 8}. Best is trial#35 with value: 1.0.\n",
      "[I 2020-05-04 03:04:53,093] Finished trial#41 with value: 0.8939393939393939 with parameters: {'learning_rate': 0.018771605859019103, 'lambda_l2': 0.11341552806312515, 'num_leaves': 37, 'max_depth': 13, 'feature_fraction': 0.5461595316123435, 'bagging_fraction': 0.7502673096787705, 'bagging_freq': 15, 'min_child_samples': 4}. Best is trial#35 with value: 1.0.\n",
      "[I 2020-05-04 03:04:54,094] Finished trial#42 with value: 0.8939393939393939 with parameters: {'learning_rate': 0.016871317535797042, 'lambda_l2': 0.00491254623904075, 'num_leaves': 79, 'max_depth': 13, 'feature_fraction': 0.5098927917077314, 'bagging_fraction': 0.7345985533056258, 'bagging_freq': 15, 'min_child_samples': 2}. Best is trial#35 with value: 1.0.\n"
     ]
    },
    {
     "name": "stderr",
     "output_type": "stream",
     "text": [
      "[I 2020-05-04 03:04:54,675] Finished trial#43 with value: 0.9393939393939394 with parameters: {'learning_rate': 0.030132097989619005, 'lambda_l2': 0.04843023451829508, 'num_leaves': 61, 'max_depth': 14, 'feature_fraction': 0.591556786478317, 'bagging_fraction': 0.5928261383192757, 'bagging_freq': 15, 'min_child_samples': 4}. Best is trial#35 with value: 1.0.\n",
      "[I 2020-05-04 03:04:55,399] Finished trial#44 with value: 0.8939393939393939 with parameters: {'learning_rate': 0.023516560692826125, 'lambda_l2': 0.35974045328071097, 'num_leaves': 48, 'max_depth': 12, 'feature_fraction': 0.8072573927868693, 'bagging_fraction': 0.7913690597515614, 'bagging_freq': 17, 'min_child_samples': 5}. Best is trial#35 with value: 1.0.\n",
      "[I 2020-05-04 03:04:56,265] Finished trial#45 with value: 0.9242424242424242 with parameters: {'learning_rate': 0.019660851524782974, 'lambda_l2': 0.09224718669017468, 'num_leaves': 84, 'max_depth': 13, 'feature_fraction': 0.5727657675988613, 'bagging_fraction': 0.7447252356733436, 'bagging_freq': 13, 'min_child_samples': 6}. Best is trial#35 with value: 1.0.\n",
      "[I 2020-05-04 03:04:56,944] Finished trial#46 with value: 0.8484848484848485 with parameters: {'learning_rate': 0.011202425635789187, 'lambda_l2': 0.16775397677778436, 'num_leaves': 39, 'max_depth': 11, 'feature_fraction': 0.6176472636251789, 'bagging_fraction': 0.7035986258907955, 'bagging_freq': 12, 'min_child_samples': 16}. Best is trial#35 with value: 1.0.\n",
      "[I 2020-05-04 03:04:58,888] Finished trial#47 with value: 0.9545454545454546 with parameters: {'learning_rate': 0.013999596567928619, 'lambda_l2': 0.04573120441931354, 'num_leaves': 72, 'max_depth': 12, 'feature_fraction': 0.7718984180945018, 'bagging_fraction': 0.9571700517481108, 'bagging_freq': 17, 'min_child_samples': 2}. Best is trial#35 with value: 1.0.\n",
      "[I 2020-05-04 03:04:59,645] Finished trial#48 with value: 0.9393939393939394 with parameters: {'learning_rate': 0.03383858659088988, 'lambda_l2': 0.0001476028777852917, 'num_leaves': 56, 'max_depth': 13, 'feature_fraction': 0.6679778763590577, 'bagging_fraction': 0.7561164228051038, 'bagging_freq': 14, 'min_child_samples': 7}. Best is trial#35 with value: 1.0.\n",
      "[I 2020-05-04 03:05:00,609] Finished trial#49 with value: 0.9545454545454546 with parameters: {'learning_rate': 0.015498970855637733, 'lambda_l2': 0.02180872130132051, 'num_leaves': 63, 'max_depth': 14, 'feature_fraction': 0.8398384151672348, 'bagging_fraction': 0.8330133148003755, 'bagging_freq': 11, 'min_child_samples': 8}. Best is trial#35 with value: 1.0.\n"
     ]
    }
   ],
   "source": [
    "study = optuna.create_study(direction=\"maximize\")\n",
    "study.optimize(objective, n_trials=50)"
   ]
  },
  {
   "cell_type": "code",
   "execution_count": 49,
   "metadata": {},
   "outputs": [
    {
     "name": "stdout",
     "output_type": "stream",
     "text": [
      "Number of finished trials: 50\n",
      "Best trial:\n",
      "Value: 1.0\n",
      "Params: \n",
      " learning_rate: 0.016933994236798096\n",
      " lambda_l2: 0.11574610605117196\n",
      " num_leaves: 39\n",
      " max_depth: 12\n",
      " feature_fraction: 0.5642919623130809\n",
      " bagging_fraction: 0.7498064749936242\n",
      " bagging_freq: 15\n",
      " min_child_samples: 6\n"
     ]
    }
   ],
   "source": [
    "print(\"Number of finished trials: {}\".format(len(study.trials)))\n",
    "\n",
    "print(\"Best trial:\")\n",
    "trial = study.best_trial\n",
    "\n",
    "print(\"Value: {}\".format(trial.value))\n",
    "\n",
    "print(\"Params: \")\n",
    "for key, value in trial.params.items():\n",
    "    print(\" {}: {}\".format(key, value))"
   ]
  },
  {
   "cell_type": "markdown",
   "metadata": {},
   "source": [
    "## Build the model"
   ]
  },
  {
   "cell_type": "code",
   "execution_count": 50,
   "metadata": {},
   "outputs": [],
   "source": [
    "# Define model hyperparameters\n",
    "params = {}\n",
    "params[\"objective\"] = 'binary'\n",
    "params['metric'] = 'binary_logloss'\n",
    "params['boosting'] = 'gbdt'\n",
    "params[\"max_depth\"] = 12\n",
    "params[\"num_leaves\"] = 39\n",
    "params[\"learning_rate\"] = 0.017\n",
    "params[\"bagging_fraction\"] = 0.75\n",
    "params[\"feature_fraction\"] = 0.56\n",
    "params[\"bagging_freq\"] = 15\n",
    "params[\"bagging_seed\"] = 10\n",
    "params[\"lambda_l2\"] = 0.12\n",
    "params[\"min_data_in_leaf\"] = 6\n",
    "params[\"verbosity\"] = -1\n",
    "num_rounds = 5000"
   ]
  },
  {
   "cell_type": "code",
   "execution_count": 51,
   "metadata": {},
   "outputs": [],
   "source": [
    "# Define 5-fold cross validation test harness\n",
    "kfold = KFold(n_splits=5, shuffle=True, random_state=10)\n",
    "y_pred = 0"
   ]
  },
  {
   "cell_type": "code",
   "execution_count": 52,
   "metadata": {},
   "outputs": [
    {
     "name": "stdout",
     "output_type": "stream",
     "text": [
      "Training until validation scores don't improve for 200 rounds\n",
      "Early stopping, best iteration is:\n",
      "[330]\tvalid_0's binary_logloss: 0.174987\n",
      "Training until validation scores don't improve for 200 rounds\n",
      "Early stopping, best iteration is:\n",
      "[330]\tvalid_0's binary_logloss: 0.177215\n",
      "Training until validation scores don't improve for 200 rounds\n",
      "Early stopping, best iteration is:\n",
      "[426]\tvalid_0's binary_logloss: 0.158321\n",
      "Training until validation scores don't improve for 200 rounds\n",
      "Early stopping, best iteration is:\n",
      "[718]\tvalid_0's binary_logloss: 0.129731\n",
      "Training until validation scores don't improve for 200 rounds\n",
      "Early stopping, best iteration is:\n",
      "[420]\tvalid_0's binary_logloss: 0.182712\n"
     ]
    }
   ],
   "source": [
    "# Train the model using K-fold\n",
    "counter = 0\n",
    "\n",
    "for train, val in kfold.split(Xtrain, Ytrain):\n",
    "    counter += 1\n",
    "\n",
    "    train_x, train_y = Xtrain[train], Ytrain[train]\n",
    "    val_x, val_y = Xtrain[val], Ytrain[val]\n",
    "\n",
    "    lgtrain = lgb.Dataset(train_x, label=train_y.ravel())\n",
    "    lgvalidation = lgb.Dataset(val_x, label=val_y.ravel())\n",
    "\n",
    "    model = lgb.train(params, lgtrain, num_rounds, valid_sets=[lgvalidation], early_stopping_rounds=200, verbose_eval=1000)\n",
    "    pred = model.predict(Xtest, num_iteration=model.best_iteration)\n",
    "\n",
    "    y_pred += pred\n",
    "\n",
    "y_pred /= float(counter)"
   ]
  },
  {
   "cell_type": "markdown",
   "metadata": {},
   "source": [
    "## Validate the model"
   ]
  },
  {
   "cell_type": "code",
   "execution_count": 53,
   "metadata": {},
   "outputs": [],
   "source": [
    "y_pred_binary = np.where(y_pred > 0.5, 1, 0)"
   ]
  },
  {
   "cell_type": "code",
   "execution_count": 54,
   "metadata": {},
   "outputs": [
    {
     "name": "stdout",
     "output_type": "stream",
     "text": [
      "Overall accuracy of ANN model: 0.9027777777777778\n"
     ]
    }
   ],
   "source": [
    "#Print accuracy\n",
    "acc_score = accuracy_score(Ytest, y_pred_binary)\n",
    "print('Overall accuracy of ANN model:', acc_score)"
   ]
  },
  {
   "cell_type": "code",
   "execution_count": 55,
   "metadata": {},
   "outputs": [
    {
     "data": {
      "image/png": "[encoded data removed]",
      "text/plain": [
       "<Figure size 432x288 with 1 Axes>"
      ]
     },
     "metadata": {
      "needs_background": "light"
     },
     "output_type": "display_data"
    },
    {
     "name": "stdout",
     "output_type": "stream",
     "text": [
      "AUC score: 0.896875\n"
     ]
    }
   ],
   "source": [
    "#Print Area Under Curve\n",
    "plt.figure()\n",
    "false_positive_rate, recall, thresholds = roc_curve(Ytest, y_pred_binary)\n",
    "roc_auc = auc(false_positive_rate, recall)\n",
    "plt.title('Receiver Operating Characteristic (ROC)')\n",
    "plt.plot(false_positive_rate, recall, 'b', label = 'AUC = %0.3f' %roc_auc)\n",
    "plt.legend(loc='lower right')\n",
    "plt.plot([0,1], [0,1], 'r--')\n",
    "plt.xlim([0.0,1.0])\n",
    "plt.ylim([0.0,1.0])\n",
    "plt.ylabel('Recall')\n",
    "plt.xlabel('Fall-out (1-Specificity)')\n",
    "plt.show()\n",
    "\n",
    "print('AUC score:', roc_auc)"
   ]
  },
  {
   "cell_type": "code",
   "execution_count": 56,
   "metadata": {},
   "outputs": [
    {
     "data": {
      "image/png": "[encoded data removed]",
      "text/plain": [
       "<Figure size 432x288 with 2 Axes>"
      ]
     },
     "metadata": {
      "needs_background": "light"
     },
     "output_type": "display_data"
    }
   ],
   "source": [
    "#Print Confusion Matrix\n",
    "cm = confusion_matrix(Ytest, y_pred_binary)\n",
    "labels = ['Female', 'Male']\n",
    "sns.heatmap(cm, xticklabels = labels, yticklabels = labels, annot = True, fmt='d', cmap=\"Blues\", vmin = 0.5);\n",
    "plt.title('Confusion Matrix')\n",
    "plt.ylabel('True Class')\n",
    "plt.xlabel('Predicted Class')\n",
    "plt.show()"
   ]
  },
  {
   "cell_type": "markdown",
   "metadata": {},
   "source": [
    "## Train the model on entire training data"
   ]
  },
  {
   "cell_type": "code",
   "execution_count": 37,
   "metadata": {},
   "outputs": [],
   "source": [
    "# Define K-fold cross validation test harness\n",
    "kfold = KFold(n_splits=5, shuffle=True, random_state=5)\n",
    "y_pred = 0"
   ]
  },
  {
   "cell_type": "code",
   "execution_count": 38,
   "metadata": {},
   "outputs": [
    {
     "name": "stdout",
     "output_type": "stream",
     "text": [
      "Training until validation scores don't improve for 200 rounds\n",
      "Early stopping, best iteration is:\n",
      "[632]\tvalid_0's binary_logloss: 0.151167\n",
      "Training until validation scores don't improve for 200 rounds\n",
      "Early stopping, best iteration is:\n",
      "[598]\tvalid_0's binary_logloss: 0.0943408\n",
      "Training until validation scores don't improve for 200 rounds\n",
      "Early stopping, best iteration is:\n",
      "[372]\tvalid_0's binary_logloss: 0.272671\n",
      "Training until validation scores don't improve for 200 rounds\n",
      "Early stopping, best iteration is:\n",
      "[715]\tvalid_0's binary_logloss: 0.13687\n",
      "Training until validation scores don't improve for 200 rounds\n",
      "Early stopping, best iteration is:\n",
      "[562]\tvalid_0's binary_logloss: 0.18293\n"
     ]
    }
   ],
   "source": [
    "# Train the model using K-fold\n",
    "counter = 0\n",
    "\n",
    "for train, val in kfold.split(Xtrain_full, Ytrain_full):\n",
    "    counter += 1\n",
    "\n",
    "    train_x, train_y = Xtrain_full[train], Ytrain_full[train]\n",
    "    val_x, val_y = Xtrain_full[val], Ytrain_full[val]\n",
    "\n",
    "    lgtrain = lgb.Dataset(train_x, label=train_y.ravel())\n",
    "    lgvalidation = lgb.Dataset(val_x, label=val_y.ravel())\n",
    "\n",
    "    model = lgb.train(params, lgtrain, num_rounds, valid_sets=[lgvalidation], early_stopping_rounds=200, verbose_eval=1000)\n",
    "    pred1 = model.predict(Xpredict, num_iteration=model.best_iteration)\n",
    "\n",
    "    y_pred += pred1\n",
    "\n",
    "y_pred /= float(counter)"
   ]
  },
  {
   "cell_type": "code",
   "execution_count": 39,
   "metadata": {},
   "outputs": [],
   "source": [
    "y_pred_binary = np.where(y_pred > 0.5, 1, 0)"
   ]
  },
  {
   "cell_type": "markdown",
   "metadata": {},
   "source": [
    "## Create submission file"
   ]
  },
  {
   "cell_type": "code",
   "execution_count": 40,
   "metadata": {
    "scrolled": true
   },
   "outputs": [
    {
     "data": {
      "text/html": [
       "<div>\n",
       "<style scoped>\n",
       "    .dataframe tbody tr th:only-of-type {\n",
       "        vertical-align: middle;\n",
       "    }\n",
       "\n",
       "    .dataframe tbody tr th {\n",
       "        vertical-align: top;\n",
       "    }\n",
       "\n",
       "    .dataframe thead th {\n",
       "        text-align: right;\n",
       "    }\n",
       "</style>\n",
       "<table border=\"1\" class=\"dataframe\">\n",
       "  <thead>\n",
       "    <tr style=\"text-align: right;\">\n",
       "      <th></th>\n",
       "      <th>IsGoodNews</th>\n",
       "    </tr>\n",
       "  </thead>\n",
       "  <tbody>\n",
       "    <tr>\n",
       "      <th>0</th>\n",
       "      <td>0</td>\n",
       "    </tr>\n",
       "    <tr>\n",
       "      <th>1</th>\n",
       "      <td>0</td>\n",
       "    </tr>\n",
       "    <tr>\n",
       "      <th>2</th>\n",
       "      <td>0</td>\n",
       "    </tr>\n",
       "    <tr>\n",
       "      <th>3</th>\n",
       "      <td>1</td>\n",
       "    </tr>\n",
       "    <tr>\n",
       "      <th>4</th>\n",
       "      <td>0</td>\n",
       "    </tr>\n",
       "  </tbody>\n",
       "</table>\n",
       "</div>"
      ],
      "text/plain": [
       "   IsGoodNews\n",
       "0           0\n",
       "1           0\n",
       "2           0\n",
       "3           1\n",
       "4           0"
      ]
     },
     "execution_count": 40,
     "metadata": {},
     "output_type": "execute_result"
    }
   ],
   "source": [
    "submit_df = pd.DataFrame(y_pred_binary, columns=['IsGoodNews'])\n",
    "submit_df.head()"
   ]
  },
  {
   "cell_type": "code",
   "execution_count": 42,
   "metadata": {},
   "outputs": [],
   "source": [
    "submit_df.to_excel(\"predictions.xlsx\", index=False)"
   ]
  },
  {
   "cell_type": "code",
   "execution_count": null,
   "metadata": {},
   "outputs": [],
   "source": []
  }
 ],
 "metadata": {
  "kernelspec": {
   "display_name": "Python 3",
   "language": "python",
   "name": "python3"
  },
  "language_info": {
   "codemirror_mode": {
    "name": "ipython",
    "version": 3
   },
   "file_extension": ".py",
   "mimetype": "text/x-python",
   "name": "python",
   "nbconvert_exporter": "python",
   "pygments_lexer": "ipython3",
   "version": "3.7.9"
  }
 },
 "nbformat": 4,
 "nbformat_minor": 4
}
