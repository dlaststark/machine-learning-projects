{
 "cells": [
  {
   "cell_type": "markdown",
   "id": "33492c5a",
   "metadata": {
    "papermill": {
     "duration": 0.015831,
     "end_time": "2021-08-04T19:20:17.680358",
     "exception": false,
     "start_time": "2021-08-04T19:20:17.664527",
     "status": "completed"
    },
    "tags": []
   },
   "source": [
    "## Import libraries"
   ]
  },
  {
   "cell_type": "code",
   "execution_count": 1,
   "id": "8a82dcc5",
   "metadata": {
    "execution": {
     "iopub.execute_input": "2021-08-04T19:20:17.715189Z",
     "iopub.status.busy": "2021-08-04T19:20:17.713924Z",
     "iopub.status.idle": "2021-08-04T19:20:19.030383Z",
     "shell.execute_reply": "2021-08-04T19:20:19.029595Z",
     "shell.execute_reply.started": "2021-08-04T19:09:30.707035Z"
    },
    "papermill": {
     "duration": 1.334601,
     "end_time": "2021-08-04T19:20:19.030566",
     "exception": false,
     "start_time": "2021-08-04T19:20:17.695965",
     "status": "completed"
    },
    "tags": []
   },
   "outputs": [],
   "source": [
    "import gc\n",
    "import pickle\n",
    "import numpy as np\n",
    "import pandas as pd\n",
    "from sklearn.metrics import log_loss\n",
    "from sklearn.model_selection import StratifiedKFold\n",
    "\n",
    "from sklearn.neural_network import MLPClassifier\n",
    "from sklearn.neighbors import KNeighborsClassifier\n",
    "from sklearn.ensemble import RandomForestClassifier\n",
    "from sklearn.linear_model import LogisticRegression\n",
    "from sklearn.experimental import enable_hist_gradient_boosting\n",
    "from sklearn.ensemble import HistGradientBoostingClassifier"
   ]
  },
  {
   "cell_type": "markdown",
   "id": "dfdd5713",
   "metadata": {
    "papermill": {
     "duration": 0.014372,
     "end_time": "2021-08-04T19:20:19.059852",
     "exception": false,
     "start_time": "2021-08-04T19:20:19.045480",
     "status": "completed"
    },
    "tags": []
   },
   "source": [
    "## Prepare data"
   ]
  },
  {
   "cell_type": "code",
   "execution_count": 2,
   "id": "c3c4e0a8",
   "metadata": {
    "execution": {
     "iopub.execute_input": "2021-08-04T19:20:19.095173Z",
     "iopub.status.busy": "2021-08-04T19:20:19.094560Z",
     "iopub.status.idle": "2021-08-04T19:20:25.792429Z",
     "shell.execute_reply": "2021-08-04T19:20:25.791756Z",
     "shell.execute_reply.started": "2021-08-04T19:09:32.406083Z"
    },
    "papermill": {
     "duration": 6.717968,
     "end_time": "2021-08-04T19:20:25.792570",
     "exception": false,
     "start_time": "2021-08-04T19:20:19.074602",
     "status": "completed"
    },
    "tags": []
   },
   "outputs": [
    {
     "data": {
      "text/plain": [
       "20"
      ]
     },
     "execution_count": 2,
     "metadata": {},
     "output_type": "execute_result"
    }
   ],
   "source": [
    "with open(\"../input/mh-new-dawn/MH_New_Dawn_Set2.txt\", 'rb') as handle: \n",
    "    data = handle.read()\n",
    "\n",
    "processed_data = pickle.loads(data)\n",
    "Ytrain_meta = processed_data['Ytrain']\n",
    "Ytrain_oh = processed_data['Ytrain_oh']\n",
    "class_weight = processed_data['class_weight']\n",
    "\n",
    "del processed_data\n",
    "gc.collect()"
   ]
  },
  {
   "cell_type": "code",
   "execution_count": 3,
   "id": "63e7c5f4",
   "metadata": {
    "execution": {
     "iopub.execute_input": "2021-08-04T19:20:25.831388Z",
     "iopub.status.busy": "2021-08-04T19:20:25.830679Z",
     "iopub.status.idle": "2021-08-04T19:20:25.961836Z",
     "shell.execute_reply": "2021-08-04T19:20:25.962397Z",
     "shell.execute_reply.started": "2021-08-04T19:09:37.287357Z"
    },
    "papermill": {
     "duration": 0.154407,
     "end_time": "2021-08-04T19:20:25.962632",
     "exception": false,
     "start_time": "2021-08-04T19:20:25.808225",
     "status": "completed"
    },
    "tags": []
   },
   "outputs": [],
   "source": [
    "ds = np.load('../input/mh-new-dawn-dnn-inference-p1/DNN_Meta_Features.npz', allow_pickle=True)\n",
    "y_pred_meta_dnn1, y_pred_final_dnn1 = ds['y_pred_meta_dnn'], ds['y_pred_final_dnn']\n",
    "\n",
    "ds = np.load('../input/mh-new-dawn-dnn-inference-p2/DNN_Meta_Features.npz', allow_pickle=True)\n",
    "y_pred_meta_dnn2, y_pred_final_dnn2 = ds['y_pred_meta_dnn'], ds['y_pred_final_dnn']\n",
    "\n",
    "ds = np.load('../input/mh-new-dawn-dnn-inference-p3/DNN_Meta_Features.npz', allow_pickle=True)\n",
    "y_pred_meta_dnn3, y_pred_final_dnn3 = ds['y_pred_meta_dnn'], ds['y_pred_final_dnn']\n",
    "\n",
    "ds = np.load('../input/mh-new-dawn-dnn-inference-p4/DNN_Meta_Features.npz', allow_pickle=True)\n",
    "y_pred_meta_dnn4, y_pred_final_dnn4 = ds['y_pred_meta_dnn'], ds['y_pred_final_dnn']\n",
    "\n",
    "#ds = np.load('../input/mh-new-dawn-dnn-inference-p5/DNN_Meta_Features.npz', allow_pickle=True)\n",
    "#y_pred_meta_dnn5, y_pred_final_dnn5 = ds['y_pred_meta_dnn'], ds['y_pred_final_dnn']"
   ]
  },
  {
   "cell_type": "code",
   "execution_count": 4,
   "id": "f4318515",
   "metadata": {
    "execution": {
     "iopub.execute_input": "2021-08-04T19:20:25.996448Z",
     "iopub.status.busy": "2021-08-04T19:20:25.995773Z",
     "iopub.status.idle": "2021-08-04T19:20:26.009429Z",
     "shell.execute_reply": "2021-08-04T19:20:26.008884Z",
     "shell.execute_reply.started": "2021-08-04T19:09:37.427297Z"
    },
    "papermill": {
     "duration": 0.031641,
     "end_time": "2021-08-04T19:20:26.009621",
     "exception": false,
     "start_time": "2021-08-04T19:20:25.977980",
     "status": "completed"
    },
    "tags": []
   },
   "outputs": [
    {
     "name": "stdout",
     "output_type": "stream",
     "text": [
      "Xtrain_meta shape: (44095, 12)\n",
      "Ytrain_meta shape: (44095,)\n",
      "Xtest_meta shape: (18900, 12)\n"
     ]
    }
   ],
   "source": [
    "Xtrain_meta = np.concatenate((y_pred_meta_dnn1, y_pred_meta_dnn2, y_pred_meta_dnn3, \n",
    "                              y_pred_meta_dnn4), \n",
    "                             axis=1)\n",
    "Xtest_meta = np.concatenate((y_pred_final_dnn1, y_pred_final_dnn2, y_pred_final_dnn3, \n",
    "                             y_pred_final_dnn4), \n",
    "                            axis=1)\n",
    "\n",
    "print(\"Xtrain_meta shape: {}\".format(Xtrain_meta.shape))\n",
    "print(\"Ytrain_meta shape: {}\".format(Ytrain_meta.shape))\n",
    "print(\"Xtest_meta shape: {}\".format(Xtest_meta.shape))"
   ]
  },
  {
   "cell_type": "markdown",
   "id": "e8918b29",
   "metadata": {
    "papermill": {
     "duration": 0.015396,
     "end_time": "2021-08-04T19:20:26.040507",
     "exception": false,
     "start_time": "2021-08-04T19:20:26.025111",
     "status": "completed"
    },
    "tags": []
   },
   "source": [
    "## Logistic Regression"
   ]
  },
  {
   "cell_type": "code",
   "execution_count": 5,
   "id": "2e65bcee",
   "metadata": {
    "execution": {
     "iopub.execute_input": "2021-08-04T19:20:26.082934Z",
     "iopub.status.busy": "2021-08-04T19:20:26.082237Z",
     "iopub.status.idle": "2021-08-04T19:20:39.871920Z",
     "shell.execute_reply": "2021-08-04T19:20:39.873230Z",
     "shell.execute_reply.started": "2021-08-04T19:09:40.357239Z"
    },
    "papermill": {
     "duration": 13.817619,
     "end_time": "2021-08-04T19:20:39.873512",
     "exception": false,
     "start_time": "2021-08-04T19:20:26.055893",
     "status": "completed"
    },
    "tags": []
   },
   "outputs": [
    {
     "name": "stdout",
     "output_type": "stream",
     "text": [
      "Seed-2020 | Fold-0 | OOF Score: 0.6441798083165232\n",
      "Seed-2020 | Fold-1 | OOF Score: 0.6281100047284521\n",
      "Seed-2020 | Fold-2 | OOF Score: 0.6338160273072584\n",
      "Seed-2020 | Fold-3 | OOF Score: 0.639678971366512\n",
      "Seed-2020 | Fold-4 | OOF Score: 0.6345086538635228\n",
      "\n",
      "Seed: 2020 | Aggregate OOF Score: 0.6360586931164537\n",
      "\n",
      "\n",
      "Seed-2022 | Fold-0 | OOF Score: 0.6442198262337235\n",
      "Seed-2022 | Fold-1 | OOF Score: 0.6411237333912296\n",
      "Seed-2022 | Fold-2 | OOF Score: 0.6309549129103201\n",
      "Seed-2022 | Fold-3 | OOF Score: 0.6244342020873435\n",
      "Seed-2022 | Fold-4 | OOF Score: 0.6393172680539669\n",
      "\n",
      "Seed: 2022 | Aggregate OOF Score: 0.6360099885353167\n",
      "\n",
      "\n",
      "Aggregate OOF Score: 0.6360343408258852\n"
     ]
    }
   ],
   "source": [
    "FOLD = 5\n",
    "SEEDS = [2020, 2022]\n",
    "\n",
    "counter = 0\n",
    "oof_score = 0\n",
    "y_pred_final_lr = np.zeros((Xtest_meta.shape[0], 3))\n",
    "\n",
    "\n",
    "for sidx, seed in enumerate(SEEDS):\n",
    "    seed_score = 0\n",
    "    \n",
    "    kfold = StratifiedKFold(n_splits=FOLD, shuffle=True, random_state=seed)\n",
    "\n",
    "    for idx, (train, val) in enumerate(kfold.split(Xtrain_meta, Ytrain_meta)):\n",
    "        counter += 1\n",
    "\n",
    "        train_x, train_y, train_y_oh = Xtrain_meta[train], Ytrain_meta[train], Ytrain_oh[train]\n",
    "        val_x, val_y, val_y_oh = Xtrain_meta[val], Ytrain_meta[val], Ytrain_oh[val]\n",
    "\n",
    "        model = LogisticRegression(\n",
    "            max_iter=1000,\n",
    "            #class_weight=class_weight, \n",
    "            random_state=0\n",
    "        )\n",
    "\n",
    "        model.fit(train_x, train_y)\n",
    "\n",
    "        y_pred = model.predict_proba(val_x)\n",
    "        y_pred_final_lr += model.predict_proba(Xtest_meta)\n",
    "        \n",
    "        score = log_loss(val_y_oh, y_pred)\n",
    "        oof_score += score\n",
    "        seed_score += score\n",
    "        print(\"Seed-{} | Fold-{} | OOF Score: {}\".format(seed, idx, score))\n",
    "    \n",
    "    print(\"\\nSeed: {} | Aggregate OOF Score: {}\\n\\n\".format(seed, (seed_score / FOLD)))\n",
    "\n",
    "\n",
    "y_pred_final_lr = y_pred_final_lr / float(counter)\n",
    "oof_score /= float(counter)\n",
    "print(\"Aggregate OOF Score: {}\".format(oof_score))"
   ]
  },
  {
   "cell_type": "markdown",
   "id": "700fa7b0",
   "metadata": {
    "papermill": {
     "duration": 0.032001,
     "end_time": "2021-08-04T19:20:39.938647",
     "exception": false,
     "start_time": "2021-08-04T19:20:39.906646",
     "status": "completed"
    },
    "tags": []
   },
   "source": [
    "## KNeighborsClassifier"
   ]
  },
  {
   "cell_type": "code",
   "execution_count": 6,
   "id": "5675e691",
   "metadata": {
    "execution": {
     "iopub.execute_input": "2021-08-04T19:20:40.000996Z",
     "iopub.status.busy": "2021-08-04T19:20:39.999920Z",
     "iopub.status.idle": "2021-08-04T19:22:24.181343Z",
     "shell.execute_reply": "2021-08-04T19:22:24.180637Z",
     "shell.execute_reply.started": "2021-08-04T19:09:55.817913Z"
    },
    "papermill": {
     "duration": 104.210577,
     "end_time": "2021-08-04T19:22:24.181521",
     "exception": false,
     "start_time": "2021-08-04T19:20:39.970944",
     "status": "completed"
    },
    "tags": []
   },
   "outputs": [
    {
     "name": "stdout",
     "output_type": "stream",
     "text": [
      "Seed-2020 | Fold-0 | OOF Score: 0.6265768096652884\n",
      "Seed-2020 | Fold-1 | OOF Score: 0.6146835624473967\n",
      "Seed-2020 | Fold-2 | OOF Score: 0.6273971880583975\n",
      "Seed-2020 | Fold-3 | OOF Score: 0.6223701311168834\n",
      "Seed-2020 | Fold-4 | OOF Score: 0.6210182813585036\n",
      "\n",
      "Seed: 2020 | Aggregate OOF Score: 0.622409194529294\n",
      "\n",
      "\n",
      "Seed-2022 | Fold-0 | OOF Score: 0.6275227913150689\n",
      "Seed-2022 | Fold-1 | OOF Score: 0.6269875713549833\n",
      "Seed-2022 | Fold-2 | OOF Score: 0.6146775766770536\n",
      "Seed-2022 | Fold-3 | OOF Score: 0.6088486306424743\n",
      "Seed-2022 | Fold-4 | OOF Score: 0.6346214105880617\n",
      "\n",
      "Seed: 2022 | Aggregate OOF Score: 0.6225315961155283\n",
      "\n",
      "\n",
      "Aggregate OOF Score: 0.6224703953224111\n"
     ]
    }
   ],
   "source": [
    "FOLD = 5\n",
    "SEEDS = [2020, 2022]\n",
    "\n",
    "counter = 0\n",
    "oof_score = 0\n",
    "y_pred_final_knc = np.zeros((Xtest_meta.shape[0], 3))\n",
    "\n",
    "\n",
    "for sidx, seed in enumerate(SEEDS):\n",
    "    seed_score = 0\n",
    "    \n",
    "    kfold = StratifiedKFold(n_splits=FOLD, shuffle=True, random_state=seed)\n",
    "\n",
    "    for idx, (train, val) in enumerate(kfold.split(Xtrain_meta, Ytrain_meta)):\n",
    "        counter += 1\n",
    "\n",
    "        train_x, train_y, train_y_oh = Xtrain_meta[train], Ytrain_meta[train], Ytrain_oh[train]\n",
    "        val_x, val_y, val_y_oh = Xtrain_meta[val], Ytrain_meta[val], Ytrain_oh[val]\n",
    "\n",
    "        model = KNeighborsClassifier(\n",
    "            n_neighbors=500\n",
    "        )\n",
    "\n",
    "        model.fit(train_x, train_y)\n",
    "\n",
    "        y_pred = model.predict_proba(val_x)\n",
    "        y_pred_final_knc += model.predict_proba(Xtest_meta)\n",
    "        \n",
    "        score = log_loss(val_y_oh, y_pred)\n",
    "        oof_score += score\n",
    "        seed_score += score\n",
    "        print(\"Seed-{} | Fold-{} | OOF Score: {}\".format(seed, idx, score))\n",
    "    \n",
    "    print(\"\\nSeed: {} | Aggregate OOF Score: {}\\n\\n\".format(seed, (seed_score / FOLD)))\n",
    "\n",
    "\n",
    "y_pred_final_knc = y_pred_final_knc / float(counter)\n",
    "oof_score /= float(counter)\n",
    "print(\"Aggregate OOF Score: {}\".format(oof_score))"
   ]
  },
  {
   "cell_type": "markdown",
   "id": "03fd1a9b",
   "metadata": {
    "papermill": {
     "duration": 0.021385,
     "end_time": "2021-08-04T19:22:24.224677",
     "exception": false,
     "start_time": "2021-08-04T19:22:24.203292",
     "status": "completed"
    },
    "tags": []
   },
   "source": [
    "## GradientBoostingClassifier"
   ]
  },
  {
   "cell_type": "code",
   "execution_count": 7,
   "id": "9237ea41",
   "metadata": {
    "execution": {
     "iopub.execute_input": "2021-08-04T19:22:24.271639Z",
     "iopub.status.busy": "2021-08-04T19:22:24.270966Z",
     "iopub.status.idle": "2021-08-04T19:24:25.320313Z",
     "shell.execute_reply": "2021-08-04T19:24:25.320936Z",
     "shell.execute_reply.started": "2021-08-04T19:12:11.630400Z"
    },
    "papermill": {
     "duration": 121.074774,
     "end_time": "2021-08-04T19:24:25.321146",
     "exception": false,
     "start_time": "2021-08-04T19:22:24.246372",
     "status": "completed"
    },
    "tags": []
   },
   "outputs": [
    {
     "name": "stdout",
     "output_type": "stream",
     "text": [
      "Seed-2020 | Fold-0 | OOF Score: 0.6233800040607784\n",
      "Seed-2020 | Fold-1 | OOF Score: 0.6139659203730298\n",
      "Seed-2020 | Fold-2 | OOF Score: 0.6193112686001623\n",
      "Seed-2020 | Fold-3 | OOF Score: 0.6243130455241109\n",
      "Seed-2020 | Fold-4 | OOF Score: 0.6208503866000334\n",
      "\n",
      "Seed: 2020 | Aggregate OOF Score: 0.620364125031623\n",
      "\n",
      "\n",
      "Seed-2022 | Fold-0 | OOF Score: 0.6272020099425383\n",
      "Seed-2022 | Fold-1 | OOF Score: 0.6240428258866545\n",
      "Seed-2022 | Fold-2 | OOF Score: 0.6135581305765453\n",
      "Seed-2022 | Fold-3 | OOF Score: 0.6107217535607747\n",
      "Seed-2022 | Fold-4 | OOF Score: 0.6266473674150629\n",
      "\n",
      "Seed: 2022 | Aggregate OOF Score: 0.6204344174763152\n",
      "\n",
      "\n",
      "Aggregate OOF Score: 0.6203992712539691\n"
     ]
    }
   ],
   "source": [
    "FOLD = 5\n",
    "SEEDS = [2020, 2022]\n",
    "\n",
    "counter = 0\n",
    "oof_score = 0\n",
    "y_pred_final_gbc = np.zeros((Xtest_meta.shape[0], 3))\n",
    "\n",
    "\n",
    "for sidx, seed in enumerate(SEEDS):\n",
    "    seed_score = 0\n",
    "    \n",
    "    kfold = StratifiedKFold(n_splits=FOLD, shuffle=True, random_state=seed)\n",
    "\n",
    "    for idx, (train, val) in enumerate(kfold.split(Xtrain_meta, Ytrain_meta)):\n",
    "        counter += 1\n",
    "\n",
    "        train_x, train_y, train_y_oh = Xtrain_meta[train], Ytrain_meta[train], Ytrain_oh[train]\n",
    "        val_x, val_y, val_y_oh = Xtrain_meta[val], Ytrain_meta[val], Ytrain_oh[val]\n",
    "\n",
    "        model = HistGradientBoostingClassifier(\n",
    "            loss='categorical_crossentropy',\n",
    "            learning_rate=0.01,\n",
    "            max_iter=1000,\n",
    "            max_leaf_nodes=52, \n",
    "            max_depth=6,\n",
    "            min_samples_leaf=10,\n",
    "            early_stopping=True,\n",
    "            n_iter_no_change=30,\n",
    "            random_state=0\n",
    "        )\n",
    "\n",
    "        model.fit(train_x, train_y)\n",
    "\n",
    "        y_pred = model.predict_proba(val_x)\n",
    "        y_pred_final_gbc += model.predict_proba(Xtest_meta)\n",
    "        \n",
    "        score = log_loss(val_y_oh, y_pred)\n",
    "        oof_score += score\n",
    "        seed_score += score\n",
    "        print(\"Seed-{} | Fold-{} | OOF Score: {}\".format(seed, idx, score))\n",
    "    \n",
    "    print(\"\\nSeed: {} | Aggregate OOF Score: {}\\n\\n\".format(seed, (seed_score / FOLD)))\n",
    "\n",
    "\n",
    "y_pred_final_gbc = y_pred_final_gbc / float(counter)\n",
    "oof_score /= float(counter)\n",
    "print(\"Aggregate OOF Score: {}\".format(oof_score))"
   ]
  },
  {
   "cell_type": "markdown",
   "id": "5f5c2f83",
   "metadata": {
    "papermill": {
     "duration": 0.029135,
     "end_time": "2021-08-04T19:24:25.379822",
     "exception": false,
     "start_time": "2021-08-04T19:24:25.350687",
     "status": "completed"
    },
    "tags": []
   },
   "source": [
    "## MLP Classifier"
   ]
  },
  {
   "cell_type": "code",
   "execution_count": 8,
   "id": "565b8f9c",
   "metadata": {
    "execution": {
     "iopub.execute_input": "2021-08-04T19:24:25.455577Z",
     "iopub.status.busy": "2021-08-04T19:24:25.454769Z",
     "iopub.status.idle": "2021-08-04T19:26:17.632361Z",
     "shell.execute_reply": "2021-08-04T19:26:17.633229Z",
     "shell.execute_reply.started": "2021-08-04T19:14:16.752732Z"
    },
    "papermill": {
     "duration": 112.2225,
     "end_time": "2021-08-04T19:26:17.633529",
     "exception": false,
     "start_time": "2021-08-04T19:24:25.411029",
     "status": "completed"
    },
    "tags": []
   },
   "outputs": [
    {
     "name": "stdout",
     "output_type": "stream",
     "text": [
      "Seed-2020 | Fold-0 | OOF Score: 0.6296952620346137\n",
      "Seed-2020 | Fold-1 | OOF Score: 0.6106338403154398\n",
      "Seed-2020 | Fold-2 | OOF Score: 0.6194802996758536\n",
      "Seed-2020 | Fold-3 | OOF Score: 0.6211769568422062\n",
      "Seed-2020 | Fold-4 | OOF Score: 0.6286114002649251\n",
      "\n",
      "Seed: 2020 | Aggregate OOF Score: 0.6219195518266076\n",
      "\n",
      "\n",
      "Seed-2022 | Fold-0 | OOF Score: 0.6248016568657335\n",
      "Seed-2022 | Fold-1 | OOF Score: 0.622897941377972\n",
      "Seed-2022 | Fold-2 | OOF Score: 0.6241284832076678\n",
      "Seed-2022 | Fold-3 | OOF Score: 0.6059229364618478\n",
      "Seed-2022 | Fold-4 | OOF Score: 0.6282057646948623\n",
      "\n",
      "Seed: 2022 | Aggregate OOF Score: 0.6211913565216167\n",
      "\n",
      "\n",
      "Aggregate OOF Score: 0.6215554541741122\n"
     ]
    }
   ],
   "source": [
    "FOLD = 5\n",
    "SEEDS = [2020, 2022]\n",
    "\n",
    "counter = 0\n",
    "oof_score = 0\n",
    "y_pred_final_mlp = np.zeros((Xtest_meta.shape[0], 3))\n",
    "\n",
    "\n",
    "for sidx, seed in enumerate(SEEDS):\n",
    "    seed_score = 0\n",
    "    \n",
    "    kfold = StratifiedKFold(n_splits=FOLD, shuffle=True, random_state=seed)\n",
    "\n",
    "    for idx, (train, val) in enumerate(kfold.split(Xtrain_meta, Ytrain_meta)):\n",
    "        counter += 1\n",
    "\n",
    "        train_x, train_y, train_y_oh = Xtrain_meta[train], Ytrain_meta[train], Ytrain_oh[train]\n",
    "        val_x, val_y, val_y_oh = Xtrain_meta[val], Ytrain_meta[val], Ytrain_oh[val]\n",
    "\n",
    "        model = MLPClassifier(\n",
    "            #hidden_layer_sizes=(32, 8),\n",
    "            learning_rate='adaptive',\n",
    "            learning_rate_init=0.001,\n",
    "            max_iter=1000,\n",
    "            early_stopping=True,\n",
    "            n_iter_no_change=30,\n",
    "            random_state=0\n",
    "        )\n",
    "\n",
    "        model.fit(train_x, train_y)\n",
    "\n",
    "        y_pred = model.predict_proba(val_x)\n",
    "        y_pred_final_mlp += model.predict_proba(Xtest_meta)\n",
    "        \n",
    "        score = log_loss(val_y_oh, y_pred)\n",
    "        oof_score += score\n",
    "        seed_score += score\n",
    "        print(\"Seed-{} | Fold-{} | OOF Score: {}\".format(seed, idx, score))\n",
    "    \n",
    "    print(\"\\nSeed: {} | Aggregate OOF Score: {}\\n\\n\".format(seed, (seed_score / FOLD)))\n",
    "\n",
    "\n",
    "y_pred_final_mlp = y_pred_final_mlp / float(counter)\n",
    "oof_score /= float(counter)\n",
    "print(\"Aggregate OOF Score: {}\".format(oof_score))"
   ]
  },
  {
   "cell_type": "markdown",
   "id": "fbd5a23c",
   "metadata": {
    "papermill": {
     "duration": 0.04862,
     "end_time": "2021-08-04T19:26:17.731021",
     "exception": false,
     "start_time": "2021-08-04T19:26:17.682401",
     "status": "completed"
    },
    "tags": []
   },
   "source": [
    "## Random Forest Classifier"
   ]
  },
  {
   "cell_type": "code",
   "execution_count": 9,
   "id": "bf1bcb50",
   "metadata": {
    "execution": {
     "iopub.execute_input": "2021-08-04T19:26:17.800815Z",
     "iopub.status.busy": "2021-08-04T19:26:17.799820Z",
     "iopub.status.idle": "2021-08-04T19:27:22.608853Z",
     "shell.execute_reply": "2021-08-04T19:27:22.609368Z",
     "shell.execute_reply.started": "2021-08-04T19:17:12.501631Z"
    },
    "papermill": {
     "duration": 64.850084,
     "end_time": "2021-08-04T19:27:22.609553",
     "exception": false,
     "start_time": "2021-08-04T19:26:17.759469",
     "status": "completed"
    },
    "tags": []
   },
   "outputs": [
    {
     "name": "stdout",
     "output_type": "stream",
     "text": [
      "Seed-2020 | Fold-0 | OOF Score: 0.6267924304764533\n",
      "Seed-2020 | Fold-1 | OOF Score: 0.613613694493062\n",
      "Seed-2020 | Fold-2 | OOF Score: 0.6219331029986911\n",
      "Seed-2020 | Fold-3 | OOF Score: 0.6244716728115406\n",
      "Seed-2020 | Fold-4 | OOF Score: 0.6223444432923584\n",
      "\n",
      "Seed: 2020 | Aggregate OOF Score: 0.6218310688144211\n",
      "\n",
      "\n",
      "Seed-2022 | Fold-0 | OOF Score: 0.6293069414626773\n",
      "Seed-2022 | Fold-1 | OOF Score: 0.6257095280353574\n",
      "Seed-2022 | Fold-2 | OOF Score: 0.6161508573929447\n",
      "Seed-2022 | Fold-3 | OOF Score: 0.6113205890747835\n",
      "Seed-2022 | Fold-4 | OOF Score: 0.6262739449398024\n",
      "\n",
      "Seed: 2022 | Aggregate OOF Score: 0.621752372181113\n",
      "\n",
      "\n",
      "Aggregate OOF Score: 0.621791720497767\n"
     ]
    }
   ],
   "source": [
    "FOLD = 5\n",
    "SEEDS = [2020, 2022]\n",
    "\n",
    "counter = 0\n",
    "oof_score = 0\n",
    "y_pred_final_rfc = np.zeros((Xtest_meta.shape[0], 3))\n",
    "\n",
    "\n",
    "for sidx, seed in enumerate(SEEDS):\n",
    "    seed_score = 0\n",
    "    \n",
    "    kfold = StratifiedKFold(n_splits=FOLD, shuffle=True, random_state=seed)\n",
    "\n",
    "    for idx, (train, val) in enumerate(kfold.split(Xtrain_meta, Ytrain_meta)):\n",
    "        counter += 1\n",
    "\n",
    "        train_x, train_y, train_y_oh = Xtrain_meta[train], Ytrain_meta[train], Ytrain_oh[train]\n",
    "        val_x, val_y, val_y_oh = Xtrain_meta[val], Ytrain_meta[val], Ytrain_oh[val]\n",
    "\n",
    "        model = RandomForestClassifier(\n",
    "            n_estimators=100,\n",
    "            max_depth=6,\n",
    "            max_leaf_nodes=52,\n",
    "            random_state=0\n",
    "        )\n",
    "\n",
    "        model.fit(train_x, train_y)\n",
    "\n",
    "        y_pred = model.predict_proba(val_x)\n",
    "        y_pred_final_rfc += model.predict_proba(Xtest_meta)\n",
    "        \n",
    "        score = log_loss(val_y_oh, y_pred)\n",
    "        oof_score += score\n",
    "        seed_score += score\n",
    "        print(\"Seed-{} | Fold-{} | OOF Score: {}\".format(seed, idx, score))\n",
    "    \n",
    "    print(\"\\nSeed: {} | Aggregate OOF Score: {}\\n\\n\".format(seed, (seed_score / FOLD)))\n",
    "\n",
    "\n",
    "y_pred_final_rfc = y_pred_final_rfc / float(counter)\n",
    "oof_score /= float(counter)\n",
    "print(\"Aggregate OOF Score: {}\".format(oof_score))"
   ]
  },
  {
   "cell_type": "markdown",
   "id": "0ae1e27d",
   "metadata": {
    "papermill": {
     "duration": 0.029937,
     "end_time": "2021-08-04T19:27:22.669873",
     "exception": false,
     "start_time": "2021-08-04T19:27:22.639936",
     "status": "completed"
    },
    "tags": []
   },
   "source": [
    "## Create submission file"
   ]
  },
  {
   "cell_type": "code",
   "execution_count": 10,
   "id": "8685f7f2",
   "metadata": {
    "execution": {
     "iopub.execute_input": "2021-08-04T19:27:22.736758Z",
     "iopub.status.busy": "2021-08-04T19:27:22.736072Z",
     "iopub.status.idle": "2021-08-04T19:27:22.903452Z",
     "shell.execute_reply": "2021-08-04T19:27:22.902910Z",
     "shell.execute_reply.started": "2021-08-04T19:18:37.762798Z"
    },
    "papermill": {
     "duration": 0.203508,
     "end_time": "2021-08-04T19:27:22.903606",
     "exception": false,
     "start_time": "2021-08-04T19:27:22.700098",
     "status": "completed"
    },
    "tags": []
   },
   "outputs": [
    {
     "data": {
      "text/html": [
       "<div>\n",
       "<style scoped>\n",
       "    .dataframe tbody tr th:only-of-type {\n",
       "        vertical-align: middle;\n",
       "    }\n",
       "\n",
       "    .dataframe tbody tr th {\n",
       "        vertical-align: top;\n",
       "    }\n",
       "\n",
       "    .dataframe thead th {\n",
       "        text-align: right;\n",
       "    }\n",
       "</style>\n",
       "<table border=\"1\" class=\"dataframe\">\n",
       "  <thead>\n",
       "    <tr style=\"text-align: right;\">\n",
       "      <th></th>\n",
       "      <th>Negative_0</th>\n",
       "      <th>Neutral_1</th>\n",
       "      <th>Positive_2</th>\n",
       "    </tr>\n",
       "  </thead>\n",
       "  <tbody>\n",
       "    <tr>\n",
       "      <th>0</th>\n",
       "      <td>0.179800</td>\n",
       "      <td>0.088559</td>\n",
       "      <td>0.731641</td>\n",
       "    </tr>\n",
       "    <tr>\n",
       "      <th>1</th>\n",
       "      <td>0.778827</td>\n",
       "      <td>0.134287</td>\n",
       "      <td>0.086886</td>\n",
       "    </tr>\n",
       "    <tr>\n",
       "      <th>2</th>\n",
       "      <td>0.976396</td>\n",
       "      <td>0.001509</td>\n",
       "      <td>0.022095</td>\n",
       "    </tr>\n",
       "    <tr>\n",
       "      <th>3</th>\n",
       "      <td>0.798406</td>\n",
       "      <td>0.074660</td>\n",
       "      <td>0.126934</td>\n",
       "    </tr>\n",
       "    <tr>\n",
       "      <th>4</th>\n",
       "      <td>0.421530</td>\n",
       "      <td>0.446779</td>\n",
       "      <td>0.131691</td>\n",
       "    </tr>\n",
       "  </tbody>\n",
       "</table>\n",
       "</div>"
      ],
      "text/plain": [
       "   Negative_0  Neutral_1  Positive_2\n",
       "0    0.179800   0.088559    0.731641\n",
       "1    0.778827   0.134287    0.086886\n",
       "2    0.976396   0.001509    0.022095\n",
       "3    0.798406   0.074660    0.126934\n",
       "4    0.421530   0.446779    0.131691"
      ]
     },
     "execution_count": 10,
     "metadata": {},
     "output_type": "execute_result"
    }
   ],
   "source": [
    "submit_df = pd.DataFrame(y_pred_final_gbc, columns=['Negative_0','Neutral_1','Positive_2'])\n",
    "submit_df.to_csv(\"./GBC_submission.csv\", index=False)\n",
    "submit_df.head()"
   ]
  },
  {
   "cell_type": "code",
   "execution_count": 11,
   "id": "72decfd9",
   "metadata": {
    "execution": {
     "iopub.execute_input": "2021-08-04T19:27:22.973207Z",
     "iopub.status.busy": "2021-08-04T19:27:22.972101Z",
     "iopub.status.idle": "2021-08-04T19:27:23.125478Z",
     "shell.execute_reply": "2021-08-04T19:27:23.125936Z",
     "shell.execute_reply.started": "2021-08-04T19:18:41.831948Z"
    },
    "papermill": {
     "duration": 0.191066,
     "end_time": "2021-08-04T19:27:23.126107",
     "exception": false,
     "start_time": "2021-08-04T19:27:22.935041",
     "status": "completed"
    },
    "tags": []
   },
   "outputs": [
    {
     "data": {
      "text/html": [
       "<div>\n",
       "<style scoped>\n",
       "    .dataframe tbody tr th:only-of-type {\n",
       "        vertical-align: middle;\n",
       "    }\n",
       "\n",
       "    .dataframe tbody tr th {\n",
       "        vertical-align: top;\n",
       "    }\n",
       "\n",
       "    .dataframe thead th {\n",
       "        text-align: right;\n",
       "    }\n",
       "</style>\n",
       "<table border=\"1\" class=\"dataframe\">\n",
       "  <thead>\n",
       "    <tr style=\"text-align: right;\">\n",
       "      <th></th>\n",
       "      <th>Negative_0</th>\n",
       "      <th>Neutral_1</th>\n",
       "      <th>Positive_2</th>\n",
       "    </tr>\n",
       "  </thead>\n",
       "  <tbody>\n",
       "    <tr>\n",
       "      <th>0</th>\n",
       "      <td>0.173722</td>\n",
       "      <td>0.086261</td>\n",
       "      <td>0.740016</td>\n",
       "    </tr>\n",
       "    <tr>\n",
       "      <th>1</th>\n",
       "      <td>0.782094</td>\n",
       "      <td>0.126459</td>\n",
       "      <td>0.091447</td>\n",
       "    </tr>\n",
       "    <tr>\n",
       "      <th>2</th>\n",
       "      <td>0.972462</td>\n",
       "      <td>0.004109</td>\n",
       "      <td>0.023429</td>\n",
       "    </tr>\n",
       "    <tr>\n",
       "      <th>3</th>\n",
       "      <td>0.810142</td>\n",
       "      <td>0.073870</td>\n",
       "      <td>0.115988</td>\n",
       "    </tr>\n",
       "    <tr>\n",
       "      <th>4</th>\n",
       "      <td>0.411221</td>\n",
       "      <td>0.444504</td>\n",
       "      <td>0.144276</td>\n",
       "    </tr>\n",
       "  </tbody>\n",
       "</table>\n",
       "</div>"
      ],
      "text/plain": [
       "   Negative_0  Neutral_1  Positive_2\n",
       "0    0.173722   0.086261    0.740016\n",
       "1    0.782094   0.126459    0.091447\n",
       "2    0.972462   0.004109    0.023429\n",
       "3    0.810142   0.073870    0.115988\n",
       "4    0.411221   0.444504    0.144276"
      ]
     },
     "execution_count": 11,
     "metadata": {},
     "output_type": "execute_result"
    }
   ],
   "source": [
    "y_pred_final = (y_pred_final_lr * 0.05) + \\\n",
    "               (y_pred_final_knc * 0.05) + \\\n",
    "               (y_pred_final_gbc * 0.5) + \\\n",
    "               (y_pred_final_mlp * 0.2) + \\\n",
    "               (y_pred_final_rfc * 0.2)\n",
    "\n",
    "submit_df = pd.DataFrame(y_pred_final, columns=['Negative_0','Neutral_1','Positive_2'])\n",
    "submit_df.to_csv(\"./Blend_Submission.csv\", index=False)\n",
    "submit_df.head()"
   ]
  },
  {
   "cell_type": "code",
   "execution_count": null,
   "id": "2e7ccc1d",
   "metadata": {
    "papermill": {
     "duration": 0.030844,
     "end_time": "2021-08-04T19:27:23.188451",
     "exception": false,
     "start_time": "2021-08-04T19:27:23.157607",
     "status": "completed"
    },
    "tags": []
   },
   "outputs": [],
   "source": []
  }
 ],
 "metadata": {
  "kernelspec": {
   "display_name": "Python 3",
   "language": "python",
   "name": "python3"
  },
  "language_info": {
   "codemirror_mode": {
    "name": "ipython",
    "version": 3
   },
   "file_extension": ".py",
   "mimetype": "text/x-python",
   "name": "python",
   "nbconvert_exporter": "python",
   "pygments_lexer": "ipython3",
   "version": "3.7.10"
  },
  "papermill": {
   "default_parameters": {},
   "duration": 434.900722,
   "end_time": "2021-08-04T19:27:24.471587",
   "environment_variables": {},
   "exception": null,
   "input_path": "__notebook__.ipynb",
   "output_path": "__notebook__.ipynb",
   "parameters": {},
   "start_time": "2021-08-04T19:20:09.570865",
   "version": "2.3.3"
  }
 },
 "nbformat": 4,
 "nbformat_minor": 5
}
