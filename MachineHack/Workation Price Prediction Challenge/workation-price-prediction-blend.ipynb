{
 "cells": [
  {
   "cell_type": "markdown",
   "metadata": {
    "papermill": {
     "duration": 0.016113,
     "end_time": "2021-04-08T08:29:58.150850",
     "exception": false,
     "start_time": "2021-04-08T08:29:58.134737",
     "status": "completed"
    },
    "tags": []
   },
   "source": [
    "## Import libraries"
   ]
  },
  {
   "cell_type": "code",
   "execution_count": 1,
   "metadata": {
    "execution": {
     "iopub.execute_input": "2021-04-08T08:29:58.189642Z",
     "iopub.status.busy": "2021-04-08T08:29:58.188923Z",
     "iopub.status.idle": "2021-04-08T08:29:59.690224Z",
     "shell.execute_reply": "2021-04-08T08:29:59.688858Z"
    },
    "papermill": {
     "duration": 1.52387,
     "end_time": "2021-04-08T08:29:59.690470",
     "exception": false,
     "start_time": "2021-04-08T08:29:58.166600",
     "status": "completed"
    },
    "tags": []
   },
   "outputs": [],
   "source": [
    "import gc\n",
    "import pickle\n",
    "import numpy as np\n",
    "import pandas as pd\n",
    "import seaborn as sns\n",
    "import matplotlib.pyplot as plt\n",
    "from sklearn.model_selection import StratifiedKFold\n",
    "from sklearn.metrics import mean_squared_log_error\n",
    "\n",
    "from sklearn.linear_model import Lasso\n",
    "from sklearn.linear_model import ElasticNet\n",
    "from sklearn.ensemble import VotingRegressor\n",
    "from sklearn.linear_model import LinearRegression"
   ]
  },
  {
   "cell_type": "markdown",
   "metadata": {
    "papermill": {
     "duration": 0.014888,
     "end_time": "2021-04-08T08:29:59.720965",
     "exception": false,
     "start_time": "2021-04-08T08:29:59.706077",
     "status": "completed"
    },
    "tags": []
   },
   "source": [
    "## Prepare data"
   ]
  },
  {
   "cell_type": "code",
   "execution_count": 2,
   "metadata": {
    "execution": {
     "iopub.execute_input": "2021-04-08T08:29:59.758377Z",
     "iopub.status.busy": "2021-04-08T08:29:59.757640Z",
     "iopub.status.idle": "2021-04-08T08:30:12.605013Z",
     "shell.execute_reply": "2021-04-08T08:30:12.604479Z"
    },
    "papermill": {
     "duration": 12.868966,
     "end_time": "2021-04-08T08:30:12.605171",
     "exception": false,
     "start_time": "2021-04-08T08:29:59.736205",
     "status": "completed"
    },
    "tags": []
   },
   "outputs": [
    {
     "data": {
      "text/plain": [
       "31"
      ]
     },
     "execution_count": 2,
     "metadata": {},
     "output_type": "execute_result"
    }
   ],
   "source": [
    "with open(\"../input/workation-price-prediction-preprocess-data/Workation_Dataset.txt\", 'rb') as handle: \n",
    "    data = handle.read()\n",
    "\n",
    "processed_data = pickle.loads(data)\n",
    "train_df = processed_data['train_df']\n",
    "test_df = processed_data['test_df']\n",
    "\n",
    "train_df = train_df[~((train_df['Per Person Price'] < 7.3) | (np.exp(train_df['Per Person Price']) > 150000))].copy()\n",
    "\n",
    "del processed_data\n",
    "gc.collect()"
   ]
  },
  {
   "cell_type": "code",
   "execution_count": 3,
   "metadata": {
    "execution": {
     "iopub.execute_input": "2021-04-08T08:30:12.654053Z",
     "iopub.status.busy": "2021-04-08T08:30:12.653238Z",
     "iopub.status.idle": "2021-04-08T08:30:13.061699Z",
     "shell.execute_reply": "2021-04-08T08:30:13.061077Z"
    },
    "papermill": {
     "duration": 0.44037,
     "end_time": "2021-04-08T08:30:13.061852",
     "exception": false,
     "start_time": "2021-04-08T08:30:12.621482",
     "status": "completed"
    },
    "tags": []
   },
   "outputs": [],
   "source": [
    "ds = np.load('../input/workation-price-prediction-lgb/LGB_Meta_Features.npz', allow_pickle=True)\n",
    "y_pred_meta_lgb1, oof_score_lgb1, y_pred_final_lgb1 = ds['y_pred_meta_lgb'], ds['oof_score'], ds['y_pred_final_lgb']\n",
    "\n",
    "ds = np.load('../input/workation-price-prediction-lgb-v2/LGB_Meta_Features.npz', allow_pickle=True)\n",
    "y_pred_meta_lgb2, oof_score_lgb2, y_pred_final_lgb2 = ds['y_pred_meta_lgb'], ds['oof_score'], ds['y_pred_final_lgb']\n",
    "\n",
    "ds = np.load('../input/workation-price-prediction-lgb-v3/LGB_Meta_Features.npz', allow_pickle=True)\n",
    "y_pred_meta_lgb3, oof_score_lgb3, y_pred_final_lgb3 = ds['y_pred_meta_lgb'], ds['oof_score'], ds['y_pred_final_lgb']\n",
    "\n",
    "ds = np.load('../input/workation-price-prediction-lgb-v4/LGB_Meta_Features.npz', allow_pickle=True)\n",
    "y_pred_meta_lgb4, oof_score_lgb4, y_pred_final_lgb4 = ds['y_pred_meta_lgb'], ds['oof_score'], ds['y_pred_final_lgb']\n",
    "\n",
    "ds = np.load('../input/workation-price-prediction-xgb/XGB_Meta_Features.npz', allow_pickle=True)\n",
    "y_pred_meta_xgb1, oof_score_xgb1, y_pred_final_xgb1 = ds['y_pred_meta_xgb'], ds['oof_score'], ds['y_pred_final_xgb']\n",
    "\n",
    "ds = np.load('../input/workation-price-prediction-xgb-v2/XGB_Meta_Features.npz', allow_pickle=True)\n",
    "y_pred_meta_xgb2, oof_score_xgb2, y_pred_final_xgb2 = ds['y_pred_meta_xgb'], ds['oof_score'], ds['y_pred_final_xgb']\n",
    "\n",
    "ds = np.load('../input/workation-price-prediction-xgb-v3/XGB_Meta_Features.npz', allow_pickle=True)\n",
    "y_pred_meta_xgb3, oof_score_xgb3, y_pred_final_xgb3 = ds['y_pred_meta_xgb'], ds['oof_score'], ds['y_pred_final_xgb']\n",
    "\n",
    "ds = np.load('../input/workation-price-prediction-xgb-v4/XGB_Meta_Features.npz', allow_pickle=True)\n",
    "y_pred_meta_xgb4, oof_score_xgb4, y_pred_final_xgb4 = ds['y_pred_meta_xgb'], ds['oof_score'], ds['y_pred_final_xgb']\n",
    "\n",
    "ds = np.load('../input/workation-price-prediction-cb/CB_Meta_Features.npz', allow_pickle=True)\n",
    "y_pred_meta_cb1, oof_score_cb1, y_pred_final_cb1 = ds['y_pred_meta_cb'], ds['oof_score'], ds['y_pred_final_cb']\n",
    "\n",
    "ds = np.load('../input/workation-price-prediction-cb-v2/CB_Meta_Features.npz', allow_pickle=True)\n",
    "y_pred_meta_cb2, oof_score_cb2, y_pred_final_cb2 = ds['y_pred_meta_cb'], ds['oof_score'], ds['y_pred_final_cb']\n",
    "\n",
    "ds = np.load('../input/workation-price-prediction-cb-v3/CB_Meta_Features.npz', allow_pickle=True)\n",
    "y_pred_meta_cb3, oof_score_cb3, y_pred_final_cb3 = ds['y_pred_meta_cb'], ds['oof_score'], ds['y_pred_final_cb']\n",
    "\n",
    "ds = np.load('../input/workation-price-prediction-cb-v4/CB_Meta_Features.npz', allow_pickle=True)\n",
    "y_pred_meta_cb4, oof_score_cb4, y_pred_final_cb4 = ds['y_pred_meta_cb'], ds['oof_score'], ds['y_pred_final_cb']\n",
    "\n",
    "ds = np.load('../input/workation-price-prediction-dnn-v1/DNN_Meta_Features.npz', allow_pickle=True)\n",
    "y_pred_meta_dnn1, oof_score_dnn1, y_pred_final_dnn1 = ds['y_pred_meta_dnn'], ds['oof_score'], ds['y_pred_final_dnn']\n",
    "\n",
    "ds = np.load('../input/workation-price-prediction-dnn-v2/DNN_Meta_Features.npz', allow_pickle=True)\n",
    "y_pred_meta_dnn2, oof_score_dnn2, y_pred_final_dnn2 = ds['y_pred_meta_dnn'], ds['oof_score'], ds['y_pred_final_dnn']\n",
    "\n",
    "ds = np.load('../input/workation-price-prediction-dnn-v3/DNN_Meta_Features.npz', allow_pickle=True)\n",
    "y_pred_meta_dnn3, oof_score_dnn3, y_pred_final_dnn3 = ds['y_pred_meta_dnn'], ds['oof_score'], ds['y_pred_final_dnn']\n",
    "\n",
    "ds = np.load('../input/workation-price-prediction-dnn-v4/DNN_Meta_Features.npz', allow_pickle=True)\n",
    "y_pred_meta_dnn4, oof_score_dnn4, y_pred_final_dnn4 = ds['y_pred_meta_dnn'], ds['oof_score'], ds['y_pred_final_dnn']"
   ]
  },
  {
   "cell_type": "code",
   "execution_count": 4,
   "metadata": {
    "execution": {
     "iopub.execute_input": "2021-04-08T08:30:13.105793Z",
     "iopub.status.busy": "2021-04-08T08:30:13.103217Z",
     "iopub.status.idle": "2021-04-08T08:30:13.119481Z",
     "shell.execute_reply": "2021-04-08T08:30:13.118824Z"
    },
    "papermill": {
     "duration": 0.041035,
     "end_time": "2021-04-08T08:30:13.119634",
     "exception": false,
     "start_time": "2021-04-08T08:30:13.078599",
     "status": "completed"
    },
    "tags": []
   },
   "outputs": [],
   "source": [
    "y_pred_meta_xgb1 = np.array([np.mean(y_pred_meta_xgb1, axis=1)]).T\n",
    "y_pred_meta_lgb1 = np.array([np.mean(y_pred_meta_lgb1, axis=1)]).T\n",
    "y_pred_meta_cb1 = np.array([np.mean(y_pred_meta_cb1, axis=1)]).T\n",
    "y_pred_meta_dnn1 = np.array([np.mean(y_pred_meta_dnn1, axis=1)]).T\n",
    "\n",
    "y_pred_meta_xgb2 = np.array([np.mean(y_pred_meta_xgb2, axis=1)]).T\n",
    "y_pred_meta_lgb2 = np.array([np.mean(y_pred_meta_lgb2, axis=1)]).T\n",
    "y_pred_meta_cb2 = np.array([np.mean(y_pred_meta_cb2, axis=1)]).T\n",
    "y_pred_meta_dnn2 = np.array([np.mean(y_pred_meta_dnn2, axis=1)]).T\n",
    "\n",
    "y_pred_meta_xgb3 = np.array([np.mean(y_pred_meta_xgb3, axis=1)]).T\n",
    "y_pred_meta_lgb3 = np.array([np.mean(y_pred_meta_lgb3, axis=1)]).T\n",
    "y_pred_meta_cb3 = np.array([np.mean(y_pred_meta_cb3, axis=1)]).T\n",
    "y_pred_meta_dnn3 = np.array([np.mean(y_pred_meta_dnn3, axis=1)]).T\n",
    "\n",
    "y_pred_meta_xgb4 = np.array([np.mean(y_pred_meta_xgb4, axis=1)]).T\n",
    "y_pred_meta_lgb4 = np.array([np.mean(y_pred_meta_lgb4, axis=1)]).T\n",
    "y_pred_meta_cb4 = np.array([np.mean(y_pred_meta_cb4, axis=1)]).T\n",
    "y_pred_meta_dnn4 = np.array([np.mean(y_pred_meta_dnn4, axis=1)]).T"
   ]
  },
  {
   "cell_type": "code",
   "execution_count": 5,
   "metadata": {
    "execution": {
     "iopub.execute_input": "2021-04-08T08:30:13.163334Z",
     "iopub.status.busy": "2021-04-08T08:30:13.162302Z",
     "iopub.status.idle": "2021-04-08T08:30:13.172043Z",
     "shell.execute_reply": "2021-04-08T08:30:13.171475Z"
    },
    "papermill": {
     "duration": 0.036483,
     "end_time": "2021-04-08T08:30:13.172194",
     "exception": false,
     "start_time": "2021-04-08T08:30:13.135711",
     "status": "completed"
    },
    "tags": []
   },
   "outputs": [],
   "source": [
    "y_pred_final_xgb1 = np.array([np.mean(y_pred_final_xgb1, axis=1)]).T\n",
    "y_pred_final_lgb1 = np.array([np.mean(y_pred_final_lgb1, axis=1)]).T\n",
    "y_pred_final_cb1 = np.array([np.mean(y_pred_final_cb1, axis=1)]).T\n",
    "y_pred_final_dnn1 = np.array([np.mean(y_pred_final_dnn1, axis=1)]).T\n",
    "\n",
    "y_pred_final_xgb2 = np.array([np.mean(y_pred_final_xgb2, axis=1)]).T\n",
    "y_pred_final_lgb2 = np.array([np.mean(y_pred_final_lgb2, axis=1)]).T\n",
    "y_pred_final_cb2 = np.array([np.mean(y_pred_final_cb2, axis=1)]).T\n",
    "y_pred_final_dnn2 = np.array([np.mean(y_pred_final_dnn2, axis=1)]).T\n",
    "\n",
    "y_pred_final_xgb3 = np.array([np.mean(y_pred_final_xgb3, axis=1)]).T\n",
    "y_pred_final_lgb3 = np.array([np.mean(y_pred_final_lgb3, axis=1)]).T\n",
    "y_pred_final_cb3 = np.array([np.mean(y_pred_final_cb3, axis=1)]).T\n",
    "y_pred_final_dnn3 = np.array([np.mean(y_pred_final_dnn3, axis=1)]).T\n",
    "\n",
    "y_pred_final_xgb4 = np.array([np.mean(y_pred_final_xgb4, axis=1)]).T\n",
    "y_pred_final_lgb4 = np.array([np.mean(y_pred_final_lgb4, axis=1)]).T\n",
    "y_pred_final_cb4 = np.array([np.mean(y_pred_final_cb4, axis=1)]).T\n",
    "y_pred_final_dnn4 = np.array([np.mean(y_pred_final_dnn4, axis=1)]).T"
   ]
  },
  {
   "cell_type": "code",
   "execution_count": 6,
   "metadata": {
    "execution": {
     "iopub.execute_input": "2021-04-08T08:30:13.213657Z",
     "iopub.status.busy": "2021-04-08T08:30:13.212928Z",
     "iopub.status.idle": "2021-04-08T08:30:13.228873Z",
     "shell.execute_reply": "2021-04-08T08:30:13.228223Z"
    },
    "papermill": {
     "duration": 0.0394,
     "end_time": "2021-04-08T08:30:13.229041",
     "exception": false,
     "start_time": "2021-04-08T08:30:13.189641",
     "status": "completed"
    },
    "tags": []
   },
   "outputs": [
    {
     "name": "stdout",
     "output_type": "stream",
     "text": [
      "Xtrain_meta shape: (20989, 16)\n",
      "Ytrain_meta shape: (20989,)\n",
      "Xtest_meta shape: (9000, 16)\n"
     ]
    }
   ],
   "source": [
    "Xtrain_meta = np.concatenate((y_pred_meta_cb1, y_pred_meta_cb2, y_pred_meta_cb3, y_pred_meta_cb4, \n",
    "                              y_pred_meta_lgb1, y_pred_meta_lgb2, y_pred_meta_lgb3, y_pred_meta_lgb4, \n",
    "                              y_pred_meta_xgb1, y_pred_meta_xgb2, y_pred_meta_xgb3, y_pred_meta_xgb4, \n",
    "                              y_pred_meta_dnn1, y_pred_meta_dnn2, y_pred_meta_dnn3, y_pred_meta_dnn4), \n",
    "                             axis=1)\n",
    "Ytrain_meta = train_df['Per Person Price'].values\n",
    "Ytrain_strat = pd.qcut(train_df['Per Person Price'].values, q=7, labels=range(0,7))\n",
    "Xtest_meta = np.concatenate((y_pred_final_cb1, y_pred_final_cb2, y_pred_final_cb3, y_pred_final_cb4, \n",
    "                             y_pred_final_lgb1, y_pred_final_lgb2, y_pred_final_lgb3, y_pred_final_lgb4, \n",
    "                             y_pred_final_xgb1, y_pred_final_xgb2, y_pred_final_xgb3, y_pred_final_xgb4, \n",
    "                             y_pred_final_dnn1, y_pred_final_dnn2, y_pred_final_dnn3, y_pred_final_dnn4), \n",
    "                            axis=1)\n",
    "\n",
    "print(\"Xtrain_meta shape: {}\".format(Xtrain_meta.shape))\n",
    "print(\"Ytrain_meta shape: {}\".format(Ytrain_meta.shape))\n",
    "print(\"Xtest_meta shape: {}\".format(Xtest_meta.shape))"
   ]
  },
  {
   "cell_type": "code",
   "execution_count": 7,
   "metadata": {
    "execution": {
     "iopub.execute_input": "2021-04-08T08:30:13.271805Z",
     "iopub.status.busy": "2021-04-08T08:30:13.270909Z",
     "iopub.status.idle": "2021-04-08T08:30:14.920833Z",
     "shell.execute_reply": "2021-04-08T08:30:14.921368Z"
    },
    "papermill": {
     "duration": 1.675302,
     "end_time": "2021-04-08T08:30:14.921559",
     "exception": false,
     "start_time": "2021-04-08T08:30:13.246257",
     "status": "completed"
    },
    "tags": []
   },
   "outputs": [
    {
     "data": {
      "text/plain": [
       "<AxesSubplot:ylabel='Count'>"
      ]
     },
     "execution_count": 7,
     "metadata": {},
     "output_type": "execute_result"
    },
    {
     "data": {
      "image/png": "[encoded data removed]",
      "text/plain": [
       "<Figure size 1800x720 with 8 Axes>"
      ]
     },
     "metadata": {
      "needs_background": "light"
     },
     "output_type": "display_data"
    }
   ],
   "source": [
    "y_pred = np.mean(Xtest_meta, axis=1)\n",
    "\n",
    "_, ax = plt.subplots(2, 4, figsize=(25, 10))\n",
    "sns.boxplot(x=Ytrain_meta, ax=ax[0][0])\n",
    "sns.histplot(x=Ytrain_meta, ax=ax[0][1])\n",
    "sns.boxplot(x=np.exp(Ytrain_meta), ax=ax[0][2])\n",
    "sns.histplot(x=np.exp(Ytrain_meta), ax=ax[0][3])\n",
    "sns.boxplot(x=y_pred, ax=ax[1][0])\n",
    "sns.histplot(x=y_pred, ax=ax[1][1])\n",
    "sns.boxplot(x=np.exp(y_pred), ax=ax[1][2])\n",
    "sns.histplot(x=np.exp(y_pred), ax=ax[1][3])"
   ]
  },
  {
   "cell_type": "markdown",
   "metadata": {
    "papermill": {
     "duration": 0.018107,
     "end_time": "2021-04-08T08:30:14.958168",
     "exception": false,
     "start_time": "2021-04-08T08:30:14.940061",
     "status": "completed"
    },
    "tags": []
   },
   "source": [
    "## Base Models Performance"
   ]
  },
  {
   "cell_type": "code",
   "execution_count": 8,
   "metadata": {
    "execution": {
     "iopub.execute_input": "2021-04-08T08:30:14.999929Z",
     "iopub.status.busy": "2021-04-08T08:30:14.998937Z",
     "iopub.status.idle": "2021-04-08T08:30:15.414178Z",
     "shell.execute_reply": "2021-04-08T08:30:15.413569Z"
    },
    "papermill": {
     "duration": 0.436882,
     "end_time": "2021-04-08T08:30:15.414323",
     "exception": false,
     "start_time": "2021-04-08T08:30:14.977441",
     "status": "completed"
    },
    "tags": []
   },
   "outputs": [
    {
     "data": {
      "image/png": "[encoded data removed]",
      "text/plain": [
       "<Figure size 1800x576 with 1 Axes>"
      ]
     },
     "metadata": {},
     "output_type": "display_data"
    }
   ],
   "source": [
    "scores={\n",
    "    'CB-v1': float(oof_score_cb1),\n",
    "    'CB-v2': float(oof_score_cb2),\n",
    "    'CB-v3': float(oof_score_cb3),\n",
    "    'CB-v4': float(oof_score_cb4),\n",
    "    'LGB-v1': float(oof_score_lgb1),\n",
    "    'LGB-v2': float(oof_score_lgb2),\n",
    "    'LGB-v3': float(oof_score_lgb3),\n",
    "    'LGB-v4': float(oof_score_lgb4),\n",
    "    'XGB-v1': float(oof_score_xgb1),\n",
    "    'XGB-v2': float(oof_score_xgb2),\n",
    "    'XGB-v3': float(oof_score_xgb3),\n",
    "    'XGB-v4': float(oof_score_xgb4),\n",
    "    'DNN-v1': float(oof_score_dnn1),\n",
    "    'DNN-v2': float(oof_score_dnn2),\n",
    "    'DNN-v3': float(oof_score_dnn3),\n",
    "    'DNN-v4': float(oof_score_dnn4)\n",
    "}\n",
    "\n",
    "sns.set_style(\"white\")\n",
    "fig = plt.figure(figsize=(25, 8))\n",
    "\n",
    "ax = sns.pointplot(x=list(scores.keys()), y=[score for score in list(scores.values())], markers=['o'], linestyles=['-'])\n",
    "for i, score in enumerate(list(scores.values())):\n",
    "    ax.text(i, score, '{:.6f}'.format(score), horizontalalignment='left', size='large', color='black', weight='semibold')\n",
    "\n",
    "plt.ylabel('Score (RMSLE)', size=20, labelpad=12.5)\n",
    "plt.xlabel('Base Models', size=20, labelpad=12.5)\n",
    "plt.tick_params(axis='x', labelsize=13.5)\n",
    "plt.tick_params(axis='y', labelsize=12.5)\n",
    "plt.show()"
   ]
  },
  {
   "cell_type": "markdown",
   "metadata": {
    "papermill": {
     "duration": 0.020449,
     "end_time": "2021-04-08T08:30:15.455795",
     "exception": false,
     "start_time": "2021-04-08T08:30:15.435346",
     "status": "completed"
    },
    "tags": []
   },
   "source": [
    "## Linear Regression"
   ]
  },
  {
   "cell_type": "code",
   "execution_count": 9,
   "metadata": {
    "execution": {
     "iopub.execute_input": "2021-04-08T08:30:15.511148Z",
     "iopub.status.busy": "2021-04-08T08:30:15.510050Z",
     "iopub.status.idle": "2021-04-08T08:30:16.085936Z",
     "shell.execute_reply": "2021-04-08T08:30:16.086848Z"
    },
    "papermill": {
     "duration": 0.610444,
     "end_time": "2021-04-08T08:30:16.087153",
     "exception": false,
     "start_time": "2021-04-08T08:30:15.476709",
     "status": "completed"
    },
    "tags": []
   },
   "outputs": [
    {
     "name": "stdout",
     "output_type": "stream",
     "text": [
      "Seed-24 | Fold-0 | OOF Score: 0.014173190030465225\n",
      "Seed-24 | Fold-1 | OOF Score: 0.014336785016522371\n",
      "Seed-24 | Fold-2 | OOF Score: 0.014582432078021575\n",
      "Seed-24 | Fold-3 | OOF Score: 0.01407213617453337\n",
      "Seed-24 | Fold-4 | OOF Score: 0.014383469519479072\n",
      "Seed-24 | Fold-5 | OOF Score: 0.014547281054342949\n",
      "Seed-24 | Fold-6 | OOF Score: 0.014572733877026069\n",
      "\n",
      "Seed: 24 | Aggregate OOF Score: 0.014381146821484376\n",
      "\n",
      "\n",
      "Seed-3 | Fold-0 | OOF Score: 0.01436859607319517\n",
      "Seed-3 | Fold-1 | OOF Score: 0.013994371332848974\n",
      "Seed-3 | Fold-2 | OOF Score: 0.014175124739466893\n",
      "Seed-3 | Fold-3 | OOF Score: 0.01411155381411262\n",
      "Seed-3 | Fold-4 | OOF Score: 0.01540496032234079\n",
      "Seed-3 | Fold-5 | OOF Score: 0.01391699720460493\n",
      "Seed-3 | Fold-6 | OOF Score: 0.014669669085268101\n",
      "\n",
      "Seed: 3 | Aggregate OOF Score: 0.014377324653119639\n",
      "\n",
      "\n",
      "Seed-56 | Fold-0 | OOF Score: 0.014940381697977618\n",
      "Seed-56 | Fold-1 | OOF Score: 0.013994357282746967\n",
      "Seed-56 | Fold-2 | OOF Score: 0.014944134980630052\n",
      "Seed-56 | Fold-3 | OOF Score: 0.014227797895223403\n",
      "Seed-56 | Fold-4 | OOF Score: 0.01378945258584952\n",
      "Seed-56 | Fold-5 | OOF Score: 0.014432431921647223\n",
      "Seed-56 | Fold-6 | OOF Score: 0.014310588722225712\n",
      "\n",
      "Seed: 56 | Aggregate OOF Score: 0.014377020726614356\n",
      "\n",
      "\n",
      "Seed-72 | Fold-0 | OOF Score: 0.013932470465702498\n",
      "Seed-72 | Fold-1 | OOF Score: 0.014588655061175652\n",
      "Seed-72 | Fold-2 | OOF Score: 0.014256589321837666\n",
      "Seed-72 | Fold-3 | OOF Score: 0.014715705690459635\n",
      "Seed-72 | Fold-4 | OOF Score: 0.014352681047045525\n",
      "Seed-72 | Fold-5 | OOF Score: 0.014337065044713078\n",
      "Seed-72 | Fold-6 | OOF Score: 0.014456144715575926\n",
      "\n",
      "Seed: 72 | Aggregate OOF Score: 0.014377044478072852\n",
      "\n",
      "\n",
      "Seed-0 | Fold-0 | OOF Score: 0.01415918215484697\n",
      "Seed-0 | Fold-1 | OOF Score: 0.014782653777577306\n",
      "Seed-0 | Fold-2 | OOF Score: 0.014939771678202377\n",
      "Seed-0 | Fold-3 | OOF Score: 0.014127230071150295\n",
      "Seed-0 | Fold-4 | OOF Score: 0.014209895345638624\n",
      "Seed-0 | Fold-5 | OOF Score: 0.013892342811354869\n",
      "Seed-0 | Fold-6 | OOF Score: 0.014548352103434206\n",
      "\n",
      "Seed: 0 | Aggregate OOF Score: 0.014379918277457809\n",
      "\n",
      "\n",
      "Aggregate OOF Score: 0.014378490991349809\n"
     ]
    }
   ],
   "source": [
    "FOLD = 7\n",
    "NUM_SEED = 5\n",
    "\n",
    "np.random.seed(3)\n",
    "seeds = np.random.randint(0, 100, size=NUM_SEED)\n",
    "\n",
    "oof_score = 0\n",
    "y_pred_final_lr = 0\n",
    "counter = 0\n",
    "\n",
    "\n",
    "for sidx, seed in enumerate(seeds):\n",
    "    seed_score = 0\n",
    "    \n",
    "    kfold = StratifiedKFold(n_splits=FOLD, shuffle=True, random_state=seed)\n",
    "\n",
    "    for idx, (train, val) in enumerate(kfold.split(Xtrain_meta, Ytrain_strat)):\n",
    "        counter += 1\n",
    "\n",
    "        train_x, train_y = Xtrain_meta[train], Ytrain_meta[train]\n",
    "        val_x, val_y = Xtrain_meta[val], Ytrain_meta[val]\n",
    "\n",
    "        model = LinearRegression()\n",
    "\n",
    "        model.fit(train_x, train_y)\n",
    "\n",
    "        y_pred = model.predict(val_x)\n",
    "        y_pred_final_lr += model.predict(Xtest_meta)\n",
    "        \n",
    "        score = np.sqrt(mean_squared_log_error(val_y, y_pred))\n",
    "        oof_score += score\n",
    "        seed_score += score\n",
    "        print(\"Seed-{} | Fold-{} | OOF Score: {}\".format(seed, idx, score))\n",
    "    \n",
    "    print(\"\\nSeed: {} | Aggregate OOF Score: {}\\n\\n\".format(seed, (seed_score / FOLD)))\n",
    "\n",
    "\n",
    "y_pred_final_lr = y_pred_final_lr / float(counter)\n",
    "oof_score /= float(counter)\n",
    "print(\"Aggregate OOF Score: {}\".format(oof_score))"
   ]
  },
  {
   "cell_type": "markdown",
   "metadata": {
    "papermill": {
     "duration": 0.039484,
     "end_time": "2021-04-08T08:30:16.166303",
     "exception": false,
     "start_time": "2021-04-08T08:30:16.126819",
     "status": "completed"
    },
    "tags": []
   },
   "source": [
    "## ElasticNet"
   ]
  },
  {
   "cell_type": "code",
   "execution_count": 10,
   "metadata": {
    "execution": {
     "iopub.execute_input": "2021-04-08T08:30:16.234230Z",
     "iopub.status.busy": "2021-04-08T08:30:16.233530Z",
     "iopub.status.idle": "2021-04-08T08:30:36.043445Z",
     "shell.execute_reply": "2021-04-08T08:30:36.044227Z"
    },
    "papermill": {
     "duration": 19.844167,
     "end_time": "2021-04-08T08:30:36.044467",
     "exception": false,
     "start_time": "2021-04-08T08:30:16.200300",
     "status": "completed"
    },
    "tags": []
   },
   "outputs": [
    {
     "name": "stdout",
     "output_type": "stream",
     "text": [
      "Seed-24 | Fold-0 | OOF Score: 0.014210923030175168\n",
      "Seed-24 | Fold-1 | OOF Score: 0.0143208492817973\n",
      "Seed-24 | Fold-2 | OOF Score: 0.014610496288021402\n",
      "Seed-24 | Fold-3 | OOF Score: 0.014062889416597004\n",
      "Seed-24 | Fold-4 | OOF Score: 0.014387126330532915\n",
      "Seed-24 | Fold-5 | OOF Score: 0.014523509354227469\n",
      "Seed-24 | Fold-6 | OOF Score: 0.014580480207738838\n",
      "\n",
      "Seed: 24 | Aggregate OOF Score: 0.014385181987012871\n",
      "\n",
      "\n",
      "Seed-3 | Fold-0 | OOF Score: 0.014331350378128084\n",
      "Seed-3 | Fold-1 | OOF Score: 0.014008317721236013\n",
      "Seed-3 | Fold-2 | OOF Score: 0.014195458208100456\n",
      "Seed-3 | Fold-3 | OOF Score: 0.014086873799475532\n",
      "Seed-3 | Fold-4 | OOF Score: 0.015428118029332461\n",
      "Seed-3 | Fold-5 | OOF Score: 0.013899764135951377\n",
      "Seed-3 | Fold-6 | OOF Score: 0.014673341416034501\n",
      "\n",
      "Seed: 3 | Aggregate OOF Score: 0.014374746241179775\n",
      "\n",
      "\n",
      "Seed-56 | Fold-0 | OOF Score: 0.014948876188224325\n",
      "Seed-56 | Fold-1 | OOF Score: 0.013967771176364439\n",
      "Seed-56 | Fold-2 | OOF Score: 0.014940532255622863\n",
      "Seed-56 | Fold-3 | OOF Score: 0.014241933261451345\n",
      "Seed-56 | Fold-4 | OOF Score: 0.013837396491708471\n",
      "Seed-56 | Fold-5 | OOF Score: 0.014406978213378352\n",
      "Seed-56 | Fold-6 | OOF Score: 0.014310476233606345\n",
      "\n",
      "Seed: 56 | Aggregate OOF Score: 0.014379137688622307\n",
      "\n",
      "\n",
      "Seed-72 | Fold-0 | OOF Score: 0.013926604340946822\n",
      "Seed-72 | Fold-1 | OOF Score: 0.014612820942329189\n",
      "Seed-72 | Fold-2 | OOF Score: 0.014251342555138971\n",
      "Seed-72 | Fold-3 | OOF Score: 0.014728143999953399\n",
      "Seed-72 | Fold-4 | OOF Score: 0.014360940378009501\n",
      "Seed-72 | Fold-5 | OOF Score: 0.014339704853537411\n",
      "Seed-72 | Fold-6 | OOF Score: 0.014456577043305299\n",
      "\n",
      "Seed: 72 | Aggregate OOF Score: 0.014382304873317228\n",
      "\n",
      "\n",
      "Seed-0 | Fold-0 | OOF Score: 0.014167109502676349\n",
      "Seed-0 | Fold-1 | OOF Score: 0.014766326973801768\n",
      "Seed-0 | Fold-2 | OOF Score: 0.014962800400020364\n",
      "Seed-0 | Fold-3 | OOF Score: 0.014119932560627435\n",
      "Seed-0 | Fold-4 | OOF Score: 0.01416577291106826\n",
      "Seed-0 | Fold-5 | OOF Score: 0.01388203962608029\n",
      "Seed-0 | Fold-6 | OOF Score: 0.014589387872599814\n",
      "\n",
      "Seed: 0 | Aggregate OOF Score: 0.014379052835267756\n",
      "\n",
      "\n",
      "Aggregate OOF Score: 0.014380084725079985\n"
     ]
    }
   ],
   "source": [
    "FOLD = 7\n",
    "NUM_SEED = 5\n",
    "\n",
    "np.random.seed(3)\n",
    "seeds = np.random.randint(0, 100, size=NUM_SEED)\n",
    "\n",
    "oof_score = 0\n",
    "y_pred_final_enet = 0\n",
    "counter = 0\n",
    "\n",
    "\n",
    "for sidx, seed in enumerate(seeds):\n",
    "    seed_score = 0\n",
    "    \n",
    "    kfold = StratifiedKFold(n_splits=FOLD, shuffle=True, random_state=seed)\n",
    "\n",
    "    for idx, (train, val) in enumerate(kfold.split(Xtrain_meta, Ytrain_strat)):\n",
    "        counter += 1\n",
    "\n",
    "        train_x, train_y = Xtrain_meta[train], Ytrain_meta[train]\n",
    "        val_x, val_y = Xtrain_meta[val], Ytrain_meta[val]\n",
    "\n",
    "        model = ElasticNet(alpha=0.0005, max_iter=3000, random_state=0)\n",
    "\n",
    "        model.fit(train_x, train_y)\n",
    "\n",
    "        y_pred = model.predict(val_x)\n",
    "        y_pred_final_enet += model.predict(Xtest_meta)\n",
    "        \n",
    "        score = np.sqrt(mean_squared_log_error(val_y, y_pred))\n",
    "        oof_score += score\n",
    "        seed_score += score\n",
    "        print(\"Seed-{} | Fold-{} | OOF Score: {}\".format(seed, idx, score))\n",
    "    \n",
    "    print(\"\\nSeed: {} | Aggregate OOF Score: {}\\n\\n\".format(seed, (seed_score / FOLD)))\n",
    "\n",
    "\n",
    "y_pred_final_enet = y_pred_final_enet / float(counter)\n",
    "oof_score /= float(counter)\n",
    "print(\"Aggregate OOF Score: {}\".format(oof_score))"
   ]
  },
  {
   "cell_type": "markdown",
   "metadata": {
    "papermill": {
     "duration": 0.052371,
     "end_time": "2021-04-08T08:30:36.155631",
     "exception": false,
     "start_time": "2021-04-08T08:30:36.103260",
     "status": "completed"
    },
    "tags": []
   },
   "source": [
    "## Lasso"
   ]
  },
  {
   "cell_type": "code",
   "execution_count": 11,
   "metadata": {
    "execution": {
     "iopub.execute_input": "2021-04-08T08:30:36.231525Z",
     "iopub.status.busy": "2021-04-08T08:30:36.229604Z",
     "iopub.status.idle": "2021-04-08T08:30:58.303596Z",
     "shell.execute_reply": "2021-04-08T08:30:58.304562Z"
    },
    "papermill": {
     "duration": 22.116447,
     "end_time": "2021-04-08T08:30:58.304836",
     "exception": false,
     "start_time": "2021-04-08T08:30:36.188389",
     "status": "completed"
    },
    "tags": []
   },
   "outputs": [
    {
     "name": "stdout",
     "output_type": "stream",
     "text": [
      "Seed-24 | Fold-0 | OOF Score: 0.014205937463742335\n",
      "Seed-24 | Fold-1 | OOF Score: 0.014333318066263832\n",
      "Seed-24 | Fold-2 | OOF Score: 0.014605926936786934\n",
      "Seed-24 | Fold-3 | OOF Score: 0.014061071471967303\n",
      "Seed-24 | Fold-4 | OOF Score: 0.014386085456612949\n",
      "Seed-24 | Fold-5 | OOF Score: 0.014534433598150901\n",
      "Seed-24 | Fold-6 | OOF Score: 0.014575966449069203\n",
      "\n",
      "Seed: 24 | Aggregate OOF Score: 0.01438610563465621\n",
      "\n",
      "\n",
      "Seed-3 | Fold-0 | OOF Score: 0.014329109056802201\n",
      "Seed-3 | Fold-1 | OOF Score: 0.014007374979712122\n",
      "Seed-3 | Fold-2 | OOF Score: 0.014198191227071841\n",
      "Seed-3 | Fold-3 | OOF Score: 0.014082689856535187\n",
      "Seed-3 | Fold-4 | OOF Score: 0.01543301366038471\n",
      "Seed-3 | Fold-5 | OOF Score: 0.013894444613233381\n",
      "Seed-3 | Fold-6 | OOF Score: 0.014673440372045024\n",
      "\n",
      "Seed: 3 | Aggregate OOF Score: 0.014374037680826355\n",
      "\n",
      "\n",
      "Seed-56 | Fold-0 | OOF Score: 0.014943660412856092\n",
      "Seed-56 | Fold-1 | OOF Score: 0.013968360188304881\n",
      "Seed-56 | Fold-2 | OOF Score: 0.014952683120053855\n",
      "Seed-56 | Fold-3 | OOF Score: 0.014242388971782956\n",
      "Seed-56 | Fold-4 | OOF Score: 0.013830241843456714\n",
      "Seed-56 | Fold-5 | OOF Score: 0.014406382686435206\n",
      "Seed-56 | Fold-6 | OOF Score: 0.014311643443727165\n",
      "\n",
      "Seed: 56 | Aggregate OOF Score: 0.014379337238088125\n",
      "\n",
      "\n",
      "Seed-72 | Fold-0 | OOF Score: 0.013927477933488188\n",
      "Seed-72 | Fold-1 | OOF Score: 0.014618270212007194\n",
      "Seed-72 | Fold-2 | OOF Score: 0.014249603041809424\n",
      "Seed-72 | Fold-3 | OOF Score: 0.014730349399393055\n",
      "Seed-72 | Fold-4 | OOF Score: 0.014362727162660675\n",
      "Seed-72 | Fold-5 | OOF Score: 0.014338328776591282\n",
      "Seed-72 | Fold-6 | OOF Score: 0.014451158003257122\n",
      "\n",
      "Seed: 72 | Aggregate OOF Score: 0.014382559218458135\n",
      "\n",
      "\n",
      "Seed-0 | Fold-0 | OOF Score: 0.014162853291135681\n",
      "Seed-0 | Fold-1 | OOF Score: 0.014770082825867665\n",
      "Seed-0 | Fold-2 | OOF Score: 0.01496974590241848\n",
      "Seed-0 | Fold-3 | OOF Score: 0.014118268565662867\n",
      "Seed-0 | Fold-4 | OOF Score: 0.01416522439877062\n",
      "Seed-0 | Fold-5 | OOF Score: 0.013878758374535432\n",
      "Seed-0 | Fold-6 | OOF Score: 0.014593532347709146\n",
      "\n",
      "Seed: 0 | Aggregate OOF Score: 0.014379780815157128\n",
      "\n",
      "\n",
      "Aggregate OOF Score: 0.014380364117437192\n"
     ]
    }
   ],
   "source": [
    "FOLD = 7\n",
    "NUM_SEED = 5\n",
    "\n",
    "np.random.seed(3)\n",
    "seeds = np.random.randint(0, 100, size=NUM_SEED)\n",
    "\n",
    "oof_score = 0\n",
    "y_pred_final_lasso = 0\n",
    "counter = 0\n",
    "\n",
    "\n",
    "for sidx, seed in enumerate(seeds):\n",
    "    seed_score = 0\n",
    "    \n",
    "    kfold = StratifiedKFold(n_splits=FOLD, shuffle=True, random_state=seed)\n",
    "\n",
    "    for idx, (train, val) in enumerate(kfold.split(Xtrain_meta, Ytrain_strat)):\n",
    "        counter += 1\n",
    "\n",
    "        train_x, train_y = Xtrain_meta[train], Ytrain_meta[train]\n",
    "        val_x, val_y = Xtrain_meta[val], Ytrain_meta[val]\n",
    "\n",
    "        model = Lasso(alpha=0.0005, max_iter=3000, random_state=0)\n",
    "\n",
    "        model.fit(train_x, train_y)\n",
    "\n",
    "        y_pred = model.predict(val_x)\n",
    "        y_pred_final_lasso += model.predict(Xtest_meta)\n",
    "        \n",
    "        score = np.sqrt(mean_squared_log_error(val_y, y_pred))\n",
    "        oof_score += score\n",
    "        seed_score += score\n",
    "        print(\"Seed-{} | Fold-{} | OOF Score: {}\".format(seed, idx, score))\n",
    "    \n",
    "    print(\"\\nSeed: {} | Aggregate OOF Score: {}\\n\\n\".format(seed, (seed_score / FOLD)))\n",
    "\n",
    "\n",
    "y_pred_final_lasso = y_pred_final_lasso / float(counter)\n",
    "oof_score /= float(counter)\n",
    "print(\"Aggregate OOF Score: {}\".format(oof_score))"
   ]
  },
  {
   "cell_type": "markdown",
   "metadata": {
    "papermill": {
     "duration": 0.052899,
     "end_time": "2021-04-08T08:30:58.437135",
     "exception": false,
     "start_time": "2021-04-08T08:30:58.384236",
     "status": "completed"
    },
    "tags": []
   },
   "source": [
    "## Voting Regressor"
   ]
  },
  {
   "cell_type": "code",
   "execution_count": 12,
   "metadata": {
    "execution": {
     "iopub.execute_input": "2021-04-08T08:30:58.539249Z",
     "iopub.status.busy": "2021-04-08T08:30:58.538123Z",
     "iopub.status.idle": "2021-04-08T08:31:40.721221Z",
     "shell.execute_reply": "2021-04-08T08:31:40.722712Z"
    },
    "papermill": {
     "duration": 42.24197,
     "end_time": "2021-04-08T08:31:40.723115",
     "exception": false,
     "start_time": "2021-04-08T08:30:58.481145",
     "status": "completed"
    },
    "tags": []
   },
   "outputs": [
    {
     "name": "stdout",
     "output_type": "stream",
     "text": [
      "Seed-24 | Fold-0 | OOF Score: 0.014186675186177104\n",
      "Seed-24 | Fold-1 | OOF Score: 0.014325787011482865\n",
      "Seed-24 | Fold-2 | OOF Score: 0.014590553601677127\n",
      "Seed-24 | Fold-3 | OOF Score: 0.01406108754612809\n",
      "Seed-24 | Fold-4 | OOF Score: 0.014379905953712835\n",
      "Seed-24 | Fold-5 | OOF Score: 0.014531202382875034\n",
      "Seed-24 | Fold-6 | OOF Score: 0.014570544658219298\n",
      "\n",
      "Seed: 24 | Aggregate OOF Score: 0.014377965191467477\n",
      "\n",
      "\n",
      "Seed-3 | Fold-0 | OOF Score: 0.01434247285449953\n",
      "Seed-3 | Fold-1 | OOF Score: 0.013996185476926605\n",
      "Seed-3 | Fold-2 | OOF Score: 0.014181730721827712\n",
      "Seed-3 | Fold-3 | OOF Score: 0.01409141225781377\n",
      "Seed-3 | Fold-4 | OOF Score: 0.015413772586255571\n",
      "Seed-3 | Fold-5 | OOF Score: 0.013900505110077557\n",
      "Seed-3 | Fold-6 | OOF Score: 0.01466580133917301\n",
      "\n",
      "Seed: 3 | Aggregate OOF Score: 0.01437026862093911\n",
      "\n",
      "\n",
      "Seed-56 | Fold-0 | OOF Score: 0.014937734383186345\n",
      "Seed-56 | Fold-1 | OOF Score: 0.0139742162439884\n",
      "Seed-56 | Fold-2 | OOF Score: 0.014940265106726679\n",
      "Seed-56 | Fold-3 | OOF Score: 0.01423041331666629\n",
      "Seed-56 | Fold-4 | OOF Score: 0.0138075201041115\n",
      "Seed-56 | Fold-5 | OOF Score: 0.014412880469467178\n",
      "Seed-56 | Fold-6 | OOF Score: 0.014305235683144447\n",
      "\n",
      "Seed: 56 | Aggregate OOF Score: 0.014372609329612976\n",
      "\n",
      "\n",
      "Seed-72 | Fold-0 | OOF Score: 0.01392418315052123\n",
      "Seed-72 | Fold-1 | OOF Score: 0.01459724042643374\n",
      "Seed-72 | Fold-2 | OOF Score: 0.014247865557471727\n",
      "Seed-72 | Fold-3 | OOF Score: 0.014717645458622404\n",
      "Seed-72 | Fold-4 | OOF Score: 0.014352082556475059\n",
      "Seed-72 | Fold-5 | OOF Score: 0.014332001233065545\n",
      "Seed-72 | Fold-6 | OOF Score: 0.014449153480815774\n",
      "\n",
      "Seed: 72 | Aggregate OOF Score: 0.014374310266200783\n",
      "\n",
      "\n",
      "Seed-0 | Fold-0 | OOF Score: 0.014156880412989799\n",
      "Seed-0 | Fold-1 | OOF Score: 0.014769650964981871\n",
      "Seed-0 | Fold-2 | OOF Score: 0.014948408720399826\n",
      "Seed-0 | Fold-3 | OOF Score: 0.014117254208024368\n",
      "Seed-0 | Fold-4 | OOF Score: 0.01418044698535558\n",
      "Seed-0 | Fold-5 | OOF Score: 0.01388023285833045\n",
      "Seed-0 | Fold-6 | OOF Score: 0.01456594703058436\n",
      "\n",
      "Seed: 0 | Aggregate OOF Score: 0.014374117311523752\n",
      "\n",
      "\n",
      "Aggregate OOF Score: 0.014373854143948822\n"
     ]
    }
   ],
   "source": [
    "FOLD = 7\n",
    "NUM_SEED = 5\n",
    "\n",
    "np.random.seed(3)\n",
    "seeds = np.random.randint(0, 100, size=NUM_SEED)\n",
    "\n",
    "oof_score = 0\n",
    "y_pred_final_vr = 0\n",
    "counter = 0\n",
    "\n",
    "\n",
    "for sidx, seed in enumerate(seeds):\n",
    "    seed_score = 0\n",
    "    \n",
    "    kfold = StratifiedKFold(n_splits=FOLD, shuffle=True, random_state=seed)\n",
    "\n",
    "    for idx, (train, val) in enumerate(kfold.split(Xtrain_meta, Ytrain_strat)):\n",
    "        counter += 1\n",
    "\n",
    "        train_x, train_y = Xtrain_meta[train], Ytrain_meta[train]\n",
    "        val_x, val_y = Xtrain_meta[val], Ytrain_meta[val]\n",
    "        \n",
    "        lr = LinearRegression()\n",
    "        enet = ElasticNet(alpha=0.0005, max_iter=3000, random_state=0)\n",
    "        lasso = Lasso(alpha=0.0005, max_iter=3000, random_state=0)\n",
    "        \n",
    "        model = VotingRegressor([('lr', lr), \n",
    "                                 ('enet', enet),\n",
    "                                 ('lasso', lasso)],\n",
    "                                weights=[2,1,1])\n",
    "\n",
    "        model.fit(train_x, train_y)\n",
    "\n",
    "        y_pred = model.predict(val_x)\n",
    "        y_pred_final_vr += model.predict(Xtest_meta)\n",
    "        \n",
    "        score = np.sqrt(mean_squared_log_error(val_y, y_pred))\n",
    "        oof_score += score\n",
    "        seed_score += score\n",
    "        print(\"Seed-{} | Fold-{} | OOF Score: {}\".format(seed, idx, score))\n",
    "    \n",
    "    print(\"\\nSeed: {} | Aggregate OOF Score: {}\\n\\n\".format(seed, (seed_score / FOLD)))\n",
    "\n",
    "\n",
    "y_pred_final_vr = y_pred_final_vr / float(counter)\n",
    "oof_score /= float(counter)\n",
    "print(\"Aggregate OOF Score: {}\".format(oof_score))"
   ]
  },
  {
   "cell_type": "markdown",
   "metadata": {
    "papermill": {
     "duration": 0.055666,
     "end_time": "2021-04-08T08:31:40.875074",
     "exception": false,
     "start_time": "2021-04-08T08:31:40.819408",
     "status": "completed"
    },
    "tags": []
   },
   "source": [
    "## Create submission file"
   ]
  },
  {
   "cell_type": "code",
   "execution_count": 13,
   "metadata": {
    "execution": {
     "iopub.execute_input": "2021-04-08T08:31:40.988465Z",
     "iopub.status.busy": "2021-04-08T08:31:40.987695Z",
     "iopub.status.idle": "2021-04-08T08:31:41.038201Z",
     "shell.execute_reply": "2021-04-08T08:31:41.038686Z"
    },
    "papermill": {
     "duration": 0.109702,
     "end_time": "2021-04-08T08:31:41.038865",
     "exception": false,
     "start_time": "2021-04-08T08:31:40.929163",
     "status": "completed"
    },
    "tags": []
   },
   "outputs": [
    {
     "data": {
      "text/html": [
       "<div>\n",
       "<style scoped>\n",
       "    .dataframe tbody tr th:only-of-type {\n",
       "        vertical-align: middle;\n",
       "    }\n",
       "\n",
       "    .dataframe tbody tr th {\n",
       "        vertical-align: top;\n",
       "    }\n",
       "\n",
       "    .dataframe thead th {\n",
       "        text-align: right;\n",
       "    }\n",
       "</style>\n",
       "<table border=\"1\" class=\"dataframe\">\n",
       "  <thead>\n",
       "    <tr style=\"text-align: right;\">\n",
       "      <th></th>\n",
       "      <th>Per Person Price</th>\n",
       "    </tr>\n",
       "  </thead>\n",
       "  <tbody>\n",
       "    <tr>\n",
       "      <th>0</th>\n",
       "      <td>19352.399632</td>\n",
       "    </tr>\n",
       "    <tr>\n",
       "      <th>1</th>\n",
       "      <td>11371.583631</td>\n",
       "    </tr>\n",
       "    <tr>\n",
       "      <th>2</th>\n",
       "      <td>5640.135981</td>\n",
       "    </tr>\n",
       "    <tr>\n",
       "      <th>3</th>\n",
       "      <td>7118.514422</td>\n",
       "    </tr>\n",
       "    <tr>\n",
       "      <th>4</th>\n",
       "      <td>21406.235768</td>\n",
       "    </tr>\n",
       "  </tbody>\n",
       "</table>\n",
       "</div>"
      ],
      "text/plain": [
       "   Per Person Price\n",
       "0      19352.399632\n",
       "1      11371.583631\n",
       "2       5640.135981\n",
       "3       7118.514422\n",
       "4      21406.235768"
      ]
     },
     "execution_count": 13,
     "metadata": {},
     "output_type": "execute_result"
    }
   ],
   "source": [
    "submit_df = pd.DataFrame()\n",
    "submit_df['Per Person Price'] = np.exp(y_pred_final_lr)\n",
    "submit_df.to_csv(\"./LR_submission.csv\", index=False)\n",
    "submit_df.head()"
   ]
  },
  {
   "cell_type": "code",
   "execution_count": 14,
   "metadata": {
    "execution": {
     "iopub.execute_input": "2021-04-08T08:31:41.169988Z",
     "iopub.status.busy": "2021-04-08T08:31:41.169333Z",
     "iopub.status.idle": "2021-04-08T08:31:41.218619Z",
     "shell.execute_reply": "2021-04-08T08:31:41.217821Z"
    },
    "papermill": {
     "duration": 0.125743,
     "end_time": "2021-04-08T08:31:41.218777",
     "exception": false,
     "start_time": "2021-04-08T08:31:41.093034",
     "status": "completed"
    },
    "tags": []
   },
   "outputs": [
    {
     "data": {
      "text/html": [
       "<div>\n",
       "<style scoped>\n",
       "    .dataframe tbody tr th:only-of-type {\n",
       "        vertical-align: middle;\n",
       "    }\n",
       "\n",
       "    .dataframe tbody tr th {\n",
       "        vertical-align: top;\n",
       "    }\n",
       "\n",
       "    .dataframe thead th {\n",
       "        text-align: right;\n",
       "    }\n",
       "</style>\n",
       "<table border=\"1\" class=\"dataframe\">\n",
       "  <thead>\n",
       "    <tr style=\"text-align: right;\">\n",
       "      <th></th>\n",
       "      <th>Per Person Price</th>\n",
       "    </tr>\n",
       "  </thead>\n",
       "  <tbody>\n",
       "    <tr>\n",
       "      <th>0</th>\n",
       "      <td>19197.185013</td>\n",
       "    </tr>\n",
       "    <tr>\n",
       "      <th>1</th>\n",
       "      <td>11297.862004</td>\n",
       "    </tr>\n",
       "    <tr>\n",
       "      <th>2</th>\n",
       "      <td>5590.672014</td>\n",
       "    </tr>\n",
       "    <tr>\n",
       "      <th>3</th>\n",
       "      <td>7115.721163</td>\n",
       "    </tr>\n",
       "    <tr>\n",
       "      <th>4</th>\n",
       "      <td>21413.291866</td>\n",
       "    </tr>\n",
       "  </tbody>\n",
       "</table>\n",
       "</div>"
      ],
      "text/plain": [
       "   Per Person Price\n",
       "0      19197.185013\n",
       "1      11297.862004\n",
       "2       5590.672014\n",
       "3       7115.721163\n",
       "4      21413.291866"
      ]
     },
     "execution_count": 14,
     "metadata": {},
     "output_type": "execute_result"
    }
   ],
   "source": [
    "submit_df = pd.DataFrame()\n",
    "submit_df['Per Person Price'] = np.exp(y_pred_final_enet)\n",
    "submit_df.to_csv(\"./ENet_submission.csv\", index=False)\n",
    "submit_df.head()"
   ]
  },
  {
   "cell_type": "code",
   "execution_count": 15,
   "metadata": {
    "execution": {
     "iopub.execute_input": "2021-04-08T08:31:41.344643Z",
     "iopub.status.busy": "2021-04-08T08:31:41.343658Z",
     "iopub.status.idle": "2021-04-08T08:31:41.390358Z",
     "shell.execute_reply": "2021-04-08T08:31:41.388384Z"
    },
    "papermill": {
     "duration": 0.108142,
     "end_time": "2021-04-08T08:31:41.390601",
     "exception": false,
     "start_time": "2021-04-08T08:31:41.282459",
     "status": "completed"
    },
    "tags": []
   },
   "outputs": [
    {
     "data": {
      "text/html": [
       "<div>\n",
       "<style scoped>\n",
       "    .dataframe tbody tr th:only-of-type {\n",
       "        vertical-align: middle;\n",
       "    }\n",
       "\n",
       "    .dataframe tbody tr th {\n",
       "        vertical-align: top;\n",
       "    }\n",
       "\n",
       "    .dataframe thead th {\n",
       "        text-align: right;\n",
       "    }\n",
       "</style>\n",
       "<table border=\"1\" class=\"dataframe\">\n",
       "  <thead>\n",
       "    <tr style=\"text-align: right;\">\n",
       "      <th></th>\n",
       "      <th>Per Person Price</th>\n",
       "    </tr>\n",
       "  </thead>\n",
       "  <tbody>\n",
       "    <tr>\n",
       "      <th>0</th>\n",
       "      <td>19211.573891</td>\n",
       "    </tr>\n",
       "    <tr>\n",
       "      <th>1</th>\n",
       "      <td>11307.057331</td>\n",
       "    </tr>\n",
       "    <tr>\n",
       "      <th>2</th>\n",
       "      <td>5590.256946</td>\n",
       "    </tr>\n",
       "    <tr>\n",
       "      <th>3</th>\n",
       "      <td>7123.163957</td>\n",
       "    </tr>\n",
       "    <tr>\n",
       "      <th>4</th>\n",
       "      <td>21409.404844</td>\n",
       "    </tr>\n",
       "  </tbody>\n",
       "</table>\n",
       "</div>"
      ],
      "text/plain": [
       "   Per Person Price\n",
       "0      19211.573891\n",
       "1      11307.057331\n",
       "2       5590.256946\n",
       "3       7123.163957\n",
       "4      21409.404844"
      ]
     },
     "execution_count": 15,
     "metadata": {},
     "output_type": "execute_result"
    }
   ],
   "source": [
    "submit_df = pd.DataFrame()\n",
    "submit_df['Per Person Price'] = np.exp(y_pred_final_lasso)\n",
    "submit_df.to_csv(\"./Lasso_submission.csv\", index=False)\n",
    "submit_df.head()"
   ]
  },
  {
   "cell_type": "code",
   "execution_count": 16,
   "metadata": {
    "execution": {
     "iopub.execute_input": "2021-04-08T08:31:41.533377Z",
     "iopub.status.busy": "2021-04-08T08:31:41.532389Z",
     "iopub.status.idle": "2021-04-08T08:31:41.573797Z",
     "shell.execute_reply": "2021-04-08T08:31:41.572873Z"
    },
    "papermill": {
     "duration": 0.10664,
     "end_time": "2021-04-08T08:31:41.574006",
     "exception": false,
     "start_time": "2021-04-08T08:31:41.467366",
     "status": "completed"
    },
    "tags": []
   },
   "outputs": [
    {
     "data": {
      "text/html": [
       "<div>\n",
       "<style scoped>\n",
       "    .dataframe tbody tr th:only-of-type {\n",
       "        vertical-align: middle;\n",
       "    }\n",
       "\n",
       "    .dataframe tbody tr th {\n",
       "        vertical-align: top;\n",
       "    }\n",
       "\n",
       "    .dataframe thead th {\n",
       "        text-align: right;\n",
       "    }\n",
       "</style>\n",
       "<table border=\"1\" class=\"dataframe\">\n",
       "  <thead>\n",
       "    <tr style=\"text-align: right;\">\n",
       "      <th></th>\n",
       "      <th>Per Person Price</th>\n",
       "    </tr>\n",
       "  </thead>\n",
       "  <tbody>\n",
       "    <tr>\n",
       "      <th>0</th>\n",
       "      <td>19278.246802</td>\n",
       "    </tr>\n",
       "    <tr>\n",
       "      <th>1</th>\n",
       "      <td>11336.968497</td>\n",
       "    </tr>\n",
       "    <tr>\n",
       "      <th>2</th>\n",
       "      <td>5615.245306</td>\n",
       "    </tr>\n",
       "    <tr>\n",
       "      <th>3</th>\n",
       "      <td>7118.977990</td>\n",
       "    </tr>\n",
       "    <tr>\n",
       "      <th>4</th>\n",
       "      <td>21408.791865</td>\n",
       "    </tr>\n",
       "  </tbody>\n",
       "</table>\n",
       "</div>"
      ],
      "text/plain": [
       "   Per Person Price\n",
       "0      19278.246802\n",
       "1      11336.968497\n",
       "2       5615.245306\n",
       "3       7118.977990\n",
       "4      21408.791865"
      ]
     },
     "execution_count": 16,
     "metadata": {},
     "output_type": "execute_result"
    }
   ],
   "source": [
    "submit_df = pd.DataFrame()\n",
    "submit_df['Per Person Price'] = np.exp(y_pred_final_vr)\n",
    "submit_df.to_csv(\"./VR_submission.csv\", index=False)\n",
    "submit_df.head()"
   ]
  },
  {
   "cell_type": "code",
   "execution_count": 17,
   "metadata": {
    "execution": {
     "iopub.execute_input": "2021-04-08T08:31:41.704444Z",
     "iopub.status.busy": "2021-04-08T08:31:41.703381Z",
     "iopub.status.idle": "2021-04-08T08:31:41.748773Z",
     "shell.execute_reply": "2021-04-08T08:31:41.749303Z"
    },
    "papermill": {
     "duration": 0.111029,
     "end_time": "2021-04-08T08:31:41.749478",
     "exception": false,
     "start_time": "2021-04-08T08:31:41.638449",
     "status": "completed"
    },
    "tags": []
   },
   "outputs": [
    {
     "data": {
      "text/html": [
       "<div>\n",
       "<style scoped>\n",
       "    .dataframe tbody tr th:only-of-type {\n",
       "        vertical-align: middle;\n",
       "    }\n",
       "\n",
       "    .dataframe tbody tr th {\n",
       "        vertical-align: top;\n",
       "    }\n",
       "\n",
       "    .dataframe thead th {\n",
       "        text-align: right;\n",
       "    }\n",
       "</style>\n",
       "<table border=\"1\" class=\"dataframe\">\n",
       "  <thead>\n",
       "    <tr style=\"text-align: right;\">\n",
       "      <th></th>\n",
       "      <th>Per Person Price</th>\n",
       "    </tr>\n",
       "  </thead>\n",
       "  <tbody>\n",
       "    <tr>\n",
       "      <th>0</th>\n",
       "      <td>19270.847164</td>\n",
       "    </tr>\n",
       "    <tr>\n",
       "      <th>1</th>\n",
       "      <td>11333.512785</td>\n",
       "    </tr>\n",
       "    <tr>\n",
       "      <th>2</th>\n",
       "      <td>5612.762288</td>\n",
       "    </tr>\n",
       "    <tr>\n",
       "      <th>3</th>\n",
       "      <td>7119.024348</td>\n",
       "    </tr>\n",
       "    <tr>\n",
       "      <th>4</th>\n",
       "      <td>21409.047491</td>\n",
       "    </tr>\n",
       "  </tbody>\n",
       "</table>\n",
       "</div>"
      ],
      "text/plain": [
       "   Per Person Price\n",
       "0      19270.847164\n",
       "1      11333.512785\n",
       "2       5612.762288\n",
       "3       7119.024348\n",
       "4      21409.047491"
      ]
     },
     "execution_count": 17,
     "metadata": {},
     "output_type": "execute_result"
    }
   ],
   "source": [
    "y_pred_final = (y_pred_final_lr * 0.3) + \\\n",
    "               (y_pred_final_enet * 0.2) + \\\n",
    "               (y_pred_final_lasso * 0.2) + \\\n",
    "               (y_pred_final_vr * 0.3)\n",
    "\n",
    "submit_df = pd.DataFrame()\n",
    "submit_df['Per Person Price'] = np.exp(y_pred_final)\n",
    "submit_df.to_csv(\"./BLEND_submission.csv\", index=False)\n",
    "submit_df.head()"
   ]
  }
 ],
 "metadata": {
  "kernelspec": {
   "display_name": "Python 3",
   "language": "python",
   "name": "python3"
  },
  "language_info": {
   "codemirror_mode": {
    "name": "ipython",
    "version": 3
   },
   "file_extension": ".py",
   "mimetype": "text/x-python",
   "name": "python",
   "nbconvert_exporter": "python",
   "pygments_lexer": "ipython3",
   "version": "3.8.8"
  },
  "papermill": {
   "default_parameters": {},
   "duration": 110.457935,
   "end_time": "2021-04-08T08:31:42.620463",
   "environment_variables": {},
   "exception": null,
   "input_path": "__notebook__.ipynb",
   "output_path": "__notebook__.ipynb",
   "parameters": {},
   "start_time": "2021-04-08T08:29:52.162528",
   "version": "2.2.2"
  }
 },
 "nbformat": 4,
 "nbformat_minor": 4
}
