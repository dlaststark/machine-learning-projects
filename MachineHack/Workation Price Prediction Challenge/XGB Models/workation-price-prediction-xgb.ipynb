{
 "cells": [
  {
   "cell_type": "markdown",
   "metadata": {
    "id": "uLz9OcH8SeET",
    "papermill": {
     "duration": 0.009385,
     "end_time": "2021-04-07T04:52:30.087197",
     "exception": false,
     "start_time": "2021-04-07T04:52:30.077812",
     "status": "completed"
    },
    "tags": []
   },
   "source": [
    "## Import libraries"
   ]
  },
  {
   "cell_type": "code",
   "execution_count": 1,
   "metadata": {
    "execution": {
     "iopub.execute_input": "2021-04-07T04:52:30.111883Z",
     "iopub.status.busy": "2021-04-07T04:52:30.110819Z",
     "iopub.status.idle": "2021-04-07T04:52:41.040586Z",
     "shell.execute_reply": "2021-04-07T04:52:41.039227Z"
    },
    "executionInfo": {
     "elapsed": 23727,
     "status": "ok",
     "timestamp": 1616326442041,
     "user": {
      "displayName": "TAPAS DAS",
      "photoUrl": "https://lh3.googleusercontent.com/a-/AOh14GiyffdGKiPCR_UwVittzTcbBFms70IkGfU15fatCA=s64",
      "userId": "10798398878324948542"
     },
     "user_tz": -330
    },
    "id": "E9svswc9SUuX",
    "papermill": {
     "duration": 10.944599,
     "end_time": "2021-04-07T04:52:41.040798",
     "exception": false,
     "start_time": "2021-04-07T04:52:30.096199",
     "status": "completed"
    },
    "tags": []
   },
   "outputs": [],
   "source": [
    "import gc\n",
    "import pickleXtrain = train_df.loc[:, train_df.columns != 'Per Person Price'].values\n",
    "Ytrain = train_df['Per Person Price'].values\n",
    "Ytrain_strat = pd.qcut(train_df['Per Person Price'].values, q=10, labels=range(0,10))\n",
    "Xtest = test_df.values\n",
    "\n",
    "print(\"Xtrain: {} \\nYtrain: {} \\nXtest: {}\".format(Xtrain.shape, Ytrain.shape, Xtest.shape))\n",
    "\n",
    "del train_df\n",
    "del test_df\n",
    "gc.collect()\n",
    "import numpy as np\n",
    "import pandas as pd\n",
    "from xgboost import XGBRegressor\n",
    "from sklearn.model_selection import StratifiedKFold\n",
    "from sklearn.metrics import mean_squared_log_error\n",
    "from tensorflow.keras.models import Model, load_model\n",
    "from tensorflow_addons.optimizers import AdamW, Lookahead"
   ]
  },
  {
   "cell_type": "markdown",
   "metadata": {
    "id": "hg85SpW-S6hl",
    "papermill": {
     "duration": 0.007329,
     "end_time": "2021-04-07T04:52:41.055979",
     "exception": false,
     "start_time": "2021-04-07T04:52:41.048650",
     "status": "completed"
    },
    "tags": []
   },
   "source": [
    "## Prepare data for model training"
   ]
  },
  {
   "cell_type": "code",
   "execution_count": 2,
   "metadata": {
    "execution": {
     "iopub.execute_input": "2021-04-07T04:52:41.081707Z",
     "iopub.status.busy": "2021-04-07T04:52:41.081028Z",
     "iopub.status.idle": "2021-04-07T04:52:51.562772Z",
     "shell.execute_reply": "2021-04-07T04:52:51.562178Z"
    },
    "executionInfo": {
     "elapsed": 10043,
     "status": "ok",
     "timestamp": 1616326444482,
     "user": {
      "displayName": "TAPAS DAS",
      "photoUrl": "https://lh3.googleusercontent.com/a-/AOh14GiyffdGKiPCR_UwVittzTcbBFms70IkGfU15fatCA=s64",
      "userId": "10798398878324948542"
     },
     "user_tz": -330
    },
    "id": "VdhgoIAmSUxK",
    "outputId": "7897cfad-c8d4-46d9-86ea-04de37e11444",
    "papermill": {
     "duration": 10.499498,
     "end_time": "2021-04-07T04:52:51.562907",
     "exception": false,
     "start_time": "2021-04-07T04:52:41.063409",
     "status": "completed"
    },
    "tags": []
   },
   "outputs": [
    {
     "data": {
      "text/plain": [
       "53"
      ]
     },
     "execution_count": 2,
     "metadata": {},
     "output_type": "execute_result"
    }
   ],
   "source": [
    "with open(\"../input/workation-price-prediction-preprocess-data/Workation_Dataset.txt\", 'rb') as handle: \n",
    "    data = handle.read()\n",
    "\n",
    "processed_data = pickle.loads(data)\n",
    "train_df = processed_data['train_df']\n",
    "test_df = processed_data['test_df']\n",
    "\n",
    "train_df = train_df[~((train_df['Per Person Price'] < 7.3) | (np.exp(train_df['Per Person Price']) > 150000))].copy()\n",
    "\n",
    "del processed_data\n",
    "gc.collect()"
   ]
  },
  {
   "cell_type": "code",
   "execution_count": 3,
   "metadata": {
    "execution": {
     "iopub.execute_input": "2021-04-07T04:52:51.587974Z",
     "iopub.status.busy": "2021-04-07T04:52:51.586842Z",
     "iopub.status.idle": "2021-04-07T04:52:52.518868Z",
     "shell.execute_reply": "2021-04-07T04:52:52.519386Z"
    },
    "executionInfo": {
     "elapsed": 2058,
     "status": "ok",
     "timestamp": 1616326525321,
     "user": {
      "displayName": "TAPAS DAS",
      "photoUrl": "https://lh3.googleusercontent.com/a-/AOh14GiyffdGKiPCR_UwVittzTcbBFms70IkGfU15fatCA=s64",
      "userId": "10798398878324948542"
     },
     "user_tz": -330
    },
    "id": "UAfyHbeASU7C",
    "outputId": "14c429a7-7b43-4065-afae-da7d4f6679a9",
    "papermill": {
     "duration": 0.947933,
     "end_time": "2021-04-07T04:52:52.519631",
     "exception": false,
     "start_time": "2021-04-07T04:52:51.571698",
     "status": "completed"
    },
    "tags": []
   },
   "outputs": [
    {
     "name": "stdout",
     "output_type": "stream",
     "text": [
      "Xtrain: (20989, 4728) \n",
      "Ytrain: (20989,) \n",
      "Xtest: (9000, 4728)\n"
     ]
    },
    {
     "data": {
      "text/plain": [
       "20"
      ]
     },
     "execution_count": 3,
     "metadata": {},
     "output_type": "execute_result"
    }
   ],
   "source": [
    "Xtrain = train_df.loc[:, train_df.columns != 'Per Person Price'].values\n",
    "Ytrain = train_df['Per Person Price'].values\n",
    "Ytrain_strat = pd.qcut(train_df['Per Person Price'].values, q=10, labels=range(0,10))\n",
    "Xtest = test_df.values\n",
    "\n",
    "print(\"Xtrain: {} \\nYtrain: {} \\nXtest: {}\".format(Xtrain.shape, Ytrain.shape, Xtest.shape))\n",
    "\n",
    "del train_df\n",
    "del test_df\n",
    "gc.collect()"
   ]
  },
  {
   "cell_type": "markdown",
   "metadata": {
    "id": "9wNC5rWEVnjd",
    "papermill": {
     "duration": 0.008893,
     "end_time": "2021-04-07T04:52:52.538084",
     "exception": false,
     "start_time": "2021-04-07T04:52:52.529191",
     "status": "completed"
    },
    "tags": []
   },
   "source": [
    "## Build and validate the model"
   ]
  },
  {
   "cell_type": "code",
   "execution_count": 4,
   "metadata": {
    "execution": {
     "iopub.execute_input": "2021-04-07T04:52:52.574333Z",
     "iopub.status.busy": "2021-04-07T04:52:52.573144Z",
     "iopub.status.idle": "2021-04-07T05:18:44.395421Z",
     "shell.execute_reply": "2021-04-07T05:18:44.393600Z"
    },
    "id": "uWPosEORSVBp",
    "outputId": "d70ac047-a86b-4f36-84cc-960b1b5316be",
    "papermill": {
     "duration": 1551.847875,
     "end_time": "2021-04-07T05:18:44.395601",
     "exception": false,
     "start_time": "2021-04-07T04:52:52.547726",
     "status": "completed"
    },
    "tags": []
   },
   "outputs": [
    {
     "name": "stdout",
     "output_type": "stream",
     "text": [
      "[0]\tvalidation_0-rmse:8.59285\tvalidation_1-rmse:8.59333\n",
      "[50]\tvalidation_0-rmse:0.21629\tvalidation_1-rmse:0.25356\n",
      "[99]\tvalidation_0-rmse:0.08774\tvalidation_1-rmse:0.16514\n",
      "Seed-24 | Fold-0 | OOF Score: 0.015273065566847936\n",
      "[0]\tvalidation_0-rmse:8.59305\tvalidation_1-rmse:8.59067\n",
      "[50]\tvalidation_0-rmse:0.21666\tvalidation_1-rmse:0.24196\n",
      "[99]\tvalidation_0-rmse:0.08960\tvalidation_1-rmse:0.15729\n",
      "Seed-24 | Fold-1 | OOF Score: 0.014589654791599625\n",
      "[0]\tvalidation_0-rmse:8.59284\tvalidation_1-rmse:8.59350\n",
      "[50]\tvalidation_0-rmse:0.21712\tvalidation_1-rmse:0.24845\n",
      "[99]\tvalidation_0-rmse:0.09069\tvalidation_1-rmse:0.15816\n",
      "Seed-24 | Fold-2 | OOF Score: 0.014611329438496174\n",
      "[0]\tvalidation_0-rmse:8.59295\tvalidation_1-rmse:8.59210\n",
      "[50]\tvalidation_0-rmse:0.21637\tvalidation_1-rmse:0.24561\n",
      "[99]\tvalidation_0-rmse:0.08890\tvalidation_1-rmse:0.16309\n",
      "Seed-24 | Fold-3 | OOF Score: 0.015033457573115043\n",
      "[0]\tvalidation_0-rmse:8.59276\tvalidation_1-rmse:8.59363\n",
      "[50]\tvalidation_0-rmse:0.21632\tvalidation_1-rmse:0.24680\n",
      "[99]\tvalidation_0-rmse:0.08787\tvalidation_1-rmse:0.16264\n",
      "Seed-24 | Fold-4 | OOF Score: 0.015070911502730686\n",
      "[0]\tvalidation_0-rmse:8.59263\tvalidation_1-rmse:8.59564\n",
      "[50]\tvalidation_0-rmse:0.21659\tvalidation_1-rmse:0.25347\n",
      "[99]\tvalidation_0-rmse:0.09042\tvalidation_1-rmse:0.16599\n",
      "Seed-24 | Fold-5 | OOF Score: 0.01527397427869646\n",
      "[0]\tvalidation_0-rmse:8.59313\tvalidation_1-rmse:8.59133\n",
      "[50]\tvalidation_0-rmse:0.21657\tvalidation_1-rmse:0.25415\n",
      "[99]\tvalidation_0-rmse:0.09126\tvalidation_1-rmse:0.16321\n",
      "Seed-24 | Fold-6 | OOF Score: 0.015146807445400342\n",
      "[0]\tvalidation_0-rmse:8.59296\tvalidation_1-rmse:8.59224\n",
      "[50]\tvalidation_0-rmse:0.21624\tvalidation_1-rmse:0.25329\n",
      "[99]\tvalidation_0-rmse:0.08905\tvalidation_1-rmse:0.16722\n",
      "Seed-24 | Fold-7 | OOF Score: 0.015459686001057635\n",
      "[0]\tvalidation_0-rmse:8.59275\tvalidation_1-rmse:8.59467\n",
      "[50]\tvalidation_0-rmse:0.21698\tvalidation_1-rmse:0.25560\n",
      "[99]\tvalidation_0-rmse:0.08915\tvalidation_1-rmse:0.16940\n",
      "Seed-24 | Fold-8 | OOF Score: 0.015638120026017846\n",
      "[0]\tvalidation_0-rmse:8.59305\tvalidation_1-rmse:8.59211\n",
      "[50]\tvalidation_0-rmse:0.21676\tvalidation_1-rmse:0.25344\n",
      "[99]\tvalidation_0-rmse:0.09026\tvalidation_1-rmse:0.16664\n",
      "Seed-24 | Fold-9 | OOF Score: 0.01542825321751397\n",
      "\n",
      "Seed: 24 | Aggregate OOF Score: 0.015152525984147572\n",
      "\n",
      "\n",
      "[0]\tvalidation_0-rmse:8.59245\tvalidation_1-rmse:8.59663\n",
      "[50]\tvalidation_0-rmse:0.21682\tvalidation_1-rmse:0.25313\n",
      "[99]\tvalidation_0-rmse:0.09087\tvalidation_1-rmse:0.16653\n",
      "Seed-3 | Fold-0 | OOF Score: 0.015407150454773373\n",
      "[0]\tvalidation_0-rmse:8.59261\tvalidation_1-rmse:8.59547\n",
      "[50]\tvalidation_0-rmse:0.21576\tvalidation_1-rmse:0.25520\n",
      "[99]\tvalidation_0-rmse:0.08908\tvalidation_1-rmse:0.17260\n",
      "Seed-3 | Fold-1 | OOF Score: 0.015802686238382494\n",
      "[0]\tvalidation_0-rmse:8.59317\tvalidation_1-rmse:8.59013\n",
      "[50]\tvalidation_0-rmse:0.21668\tvalidation_1-rmse:0.24727\n",
      "[99]\tvalidation_0-rmse:0.08947\tvalidation_1-rmse:0.16403\n",
      "Seed-3 | Fold-2 | OOF Score: 0.015234338068592172\n",
      "[0]\tvalidation_0-rmse:8.59318\tvalidation_1-rmse:8.59079\n",
      "[50]\tvalidation_0-rmse:0.21683\tvalidation_1-rmse:0.25173\n",
      "[99]\tvalidation_0-rmse:0.09018\tvalidation_1-rmse:0.16307\n",
      "Seed-3 | Fold-3 | OOF Score: 0.015068327844114401\n",
      "[0]\tvalidation_0-rmse:8.59297\tvalidation_1-rmse:8.59197\n",
      "[50]\tvalidation_0-rmse:0.21593\tvalidation_1-rmse:0.24948\n",
      "[99]\tvalidation_0-rmse:0.08929\tvalidation_1-rmse:0.16677\n",
      "Seed-3 | Fold-4 | OOF Score: 0.015528081687855463\n",
      "[0]\tvalidation_0-rmse:8.59271\tvalidation_1-rmse:8.59591\n",
      "[50]\tvalidation_0-rmse:0.21637\tvalidation_1-rmse:0.25177\n",
      "[99]\tvalidation_0-rmse:0.08929\tvalidation_1-rmse:0.15971\n",
      "Seed-3 | Fold-5 | OOF Score: 0.014884616808326158\n",
      "[0]\tvalidation_0-rmse:8.59343\tvalidation_1-rmse:8.58843\n",
      "[50]\tvalidation_0-rmse:0.21692\tvalidation_1-rmse:0.24306\n",
      "[99]\tvalidation_0-rmse:0.08871\tvalidation_1-rmse:0.15224\n",
      "Seed-3 | Fold-6 | OOF Score: 0.014158105978626583\n",
      "[0]\tvalidation_0-rmse:8.59281\tvalidation_1-rmse:8.59387\n",
      "[50]\tvalidation_0-rmse:0.21625\tvalidation_1-rmse:0.25814\n",
      "[99]\tvalidation_0-rmse:0.09053\tvalidation_1-rmse:0.16594\n",
      "Seed-3 | Fold-7 | OOF Score: 0.015274458347443075\n",
      "[0]\tvalidation_0-rmse:8.59286\tvalidation_1-rmse:8.59319\n",
      "[50]\tvalidation_0-rmse:0.21663\tvalidation_1-rmse:0.24535\n",
      "[99]\tvalidation_0-rmse:0.09034\tvalidation_1-rmse:0.15715\n",
      "Seed-3 | Fold-8 | OOF Score: 0.014489928633258313\n",
      "[0]\tvalidation_0-rmse:8.59295\tvalidation_1-rmse:8.59350\n",
      "[50]\tvalidation_0-rmse:0.21646\tvalidation_1-rmse:0.24823\n",
      "[99]\tvalidation_0-rmse:0.08897\tvalidation_1-rmse:0.16412\n",
      "Seed-3 | Fold-9 | OOF Score: 0.01511651716191875\n",
      "\n",
      "Seed: 3 | Aggregate OOF Score: 0.01509642112232908\n",
      "\n",
      "\n",
      "[0]\tvalidation_0-rmse:8.59279\tvalidation_1-rmse:8.59316\n",
      "[50]\tvalidation_0-rmse:0.21658\tvalidation_1-rmse:0.24995\n",
      "[99]\tvalidation_0-rmse:0.09040\tvalidation_1-rmse:0.16353\n",
      "Seed-56 | Fold-0 | OOF Score: 0.015203850880421227\n",
      "[0]\tvalidation_0-rmse:8.59317\tvalidation_1-rmse:8.59100\n",
      "[50]\tvalidation_0-rmse:0.21665\tvalidation_1-rmse:0.25749\n",
      "[99]\tvalidation_0-rmse:0.09046\tvalidation_1-rmse:0.17276\n",
      "Seed-56 | Fold-1 | OOF Score: 0.015991168567945923\n",
      "[0]\tvalidation_0-rmse:8.59307\tvalidation_1-rmse:8.59173\n",
      "[50]\tvalidation_0-rmse:0.21687\tvalidation_1-rmse:0.24499\n",
      "[99]\tvalidation_0-rmse:0.08931\tvalidation_1-rmse:0.16043\n",
      "Seed-56 | Fold-2 | OOF Score: 0.014877045963589785\n",
      "[0]\tvalidation_0-rmse:8.59272\tvalidation_1-rmse:8.59454\n",
      "[50]\tvalidation_0-rmse:0.21721\tvalidation_1-rmse:0.24369\n",
      "[99]\tvalidation_0-rmse:0.09221\tvalidation_1-rmse:0.15432\n",
      "Seed-56 | Fold-3 | OOF Score: 0.014264042667362482\n",
      "[0]\tvalidation_0-rmse:8.59280\tvalidation_1-rmse:8.59360\n",
      "[50]\tvalidation_0-rmse:0.21673\tvalidation_1-rmse:0.24828\n",
      "[99]\tvalidation_0-rmse:0.08981\tvalidation_1-rmse:0.16512\n",
      "Seed-56 | Fold-4 | OOF Score: 0.015233197639461698\n",
      "[0]\tvalidation_0-rmse:8.59265\tvalidation_1-rmse:8.59525\n",
      "[50]\tvalidation_0-rmse:0.21679\tvalidation_1-rmse:0.25234\n",
      "[99]\tvalidation_0-rmse:0.09104\tvalidation_1-rmse:0.16422\n",
      "Seed-56 | Fold-5 | OOF Score: 0.01523692795782961\n",
      "[0]\tvalidation_0-rmse:8.59320\tvalidation_1-rmse:8.59038\n",
      "[50]\tvalidation_0-rmse:0.21621\tvalidation_1-rmse:0.25263\n",
      "[99]\tvalidation_0-rmse:0.08969\tvalidation_1-rmse:0.16581\n",
      "Seed-56 | Fold-6 | OOF Score: 0.015353566652876944\n",
      "[0]\tvalidation_0-rmse:8.59321\tvalidation_1-rmse:8.58982\n",
      "[50]\tvalidation_0-rmse:0.21669\tvalidation_1-rmse:0.25113\n",
      "[99]\tvalidation_0-rmse:0.08898\tvalidation_1-rmse:0.16362\n",
      "Seed-56 | Fold-7 | OOF Score: 0.015181642220241475\n",
      "[0]\tvalidation_0-rmse:8.59257\tvalidation_1-rmse:8.59563\n",
      "[50]\tvalidation_0-rmse:0.21582\tvalidation_1-rmse:0.25796\n",
      "[99]\tvalidation_0-rmse:0.08919\tvalidation_1-rmse:0.16900\n",
      "Seed-56 | Fold-8 | OOF Score: 0.015460881864324988\n",
      "[0]\tvalidation_0-rmse:8.59282\tvalidation_1-rmse:8.59427\n",
      "[50]\tvalidation_0-rmse:0.21708\tvalidation_1-rmse:0.24890\n",
      "[99]\tvalidation_0-rmse:0.08965\tvalidation_1-rmse:0.16350\n",
      "Seed-56 | Fold-9 | OOF Score: 0.015104966996052514\n",
      "\n",
      "Seed: 56 | Aggregate OOF Score: 0.015190729141010665\n",
      "\n",
      "\n",
      "Aggregate OOF Score: 0.015146558749162438\n"
     ]
    }
   ],
   "source": [
    "FOLD = 10\n",
    "NUM_SEED = 3\n",
    "\n",
    "np.random.seed(3)\n",
    "seeds = np.random.randint(0, 100, size=NUM_SEED)\n",
    "\n",
    "oof_score = 0\n",
    "y_pred_meta_xgb = np.zeros((Ytrain.shape[0], NUM_SEED))\n",
    "y_pred_final_xgb = np.zeros((Xtest.shape[0], NUM_SEED))\n",
    "counter = 0\n",
    "\n",
    "\n",
    "for sidx, seed in enumerate(seeds):\n",
    "    seed_score = 0\n",
    "    \n",
    "    kfold = StratifiedKFold(n_splits=FOLD, shuffle=True, random_state=seed)\n",
    "\n",
    "    for idx, (train, val) in enumerate(kfold.split(Xtrain, Ytrain_strat)):\n",
    "        counter += 1\n",
    "\n",
    "        train_x, train_y = Xtrain[train], Ytrain[train]\n",
    "        val_x, val_y = Xtrain[val], Ytrain[val]\n",
    "\n",
    "        model = XGBRegressor(\n",
    "            objective='reg:squarederror',\n",
    "            eval_metric='rmse',\n",
    "            booster='gbtree',\n",
    "            sample_type='uniform',\n",
    "            tree_method='gpu_hist',\n",
    "            grow_policy='lossguide',\n",
    "            num_round=8000,\n",
    "            max_depth=11, \n",
    "            max_leaves=345,\n",
    "            learning_rate=0.074,\n",
    "            subsample=0.984,\n",
    "            colsample_bytree=0.675,\n",
    "            min_child_weight=7,\n",
    "            reg_lambda=0.152,\n",
    "            verbosity=0\n",
    "        )\n",
    "\n",
    "        model.fit(train_x, train_y, eval_set=[(train_x, train_y), (val_x, val_y)], \n",
    "                  early_stopping_rounds=200, verbose=50)\n",
    "\n",
    "        y_pred = model.predict(val_x, ntree_limit=model.best_ntree_limit)\n",
    "        y_pred_meta_xgb[val, sidx] += y_pred\n",
    "        y_pred_final_xgb[:, sidx] += model.predict(Xtest, ntree_limit=model.best_ntree_limit)\n",
    "        \n",
    "        score = np.sqrt(mean_squared_log_error(val_y, y_pred))\n",
    "        oof_score += score\n",
    "        seed_score += score\n",
    "        print(\"Seed-{} | Fold-{} | OOF Score: {}\".format(seed, idx, score))\n",
    "    \n",
    "    print(\"\\nSeed: {} | Aggregate OOF Score: {}\\n\\n\".format(seed, (seed_score / FOLD)))\n",
    "\n",
    "\n",
    "y_pred_final_xgb = y_pred_final_xgb / float(FOLD)\n",
    "oof_score /= float(counter)\n",
    "print(\"Aggregate OOF Score: {}\".format(oof_score))"
   ]
  },
  {
   "cell_type": "code",
   "execution_count": 5,
   "metadata": {
    "execution": {
     "iopub.execute_input": "2021-04-07T05:18:44.494322Z",
     "iopub.status.busy": "2021-04-07T05:18:44.493338Z",
     "iopub.status.idle": "2021-04-07T05:18:44.567022Z",
     "shell.execute_reply": "2021-04-07T05:18:44.566374Z"
    },
    "id": "uLzmS7LzXvXy",
    "papermill": {
     "duration": 0.125721,
     "end_time": "2021-04-07T05:18:44.567279",
     "exception": false,
     "start_time": "2021-04-07T05:18:44.441558",
     "status": "completed"
    },
    "tags": []
   },
   "outputs": [],
   "source": [
    "np.savez_compressed('./XGB_Meta_Features.npz',\n",
    "                    y_pred_meta_xgb=y_pred_meta_xgb, \n",
    "                    oof_score=oof_score,\n",
    "                    y_pred_final_xgb=y_pred_final_xgb)"
   ]
  },
  {
   "cell_type": "code",
   "execution_count": 6,
   "metadata": {
    "execution": {
     "iopub.execute_input": "2021-04-07T05:18:44.669310Z",
     "iopub.status.busy": "2021-04-07T05:18:44.668647Z",
     "iopub.status.idle": "2021-04-07T05:18:44.678690Z",
     "shell.execute_reply": "2021-04-07T05:18:44.678216Z"
    },
    "executionInfo": {
     "elapsed": 3141,
     "status": "ok",
     "timestamp": 1616223489651,
     "user": {
      "displayName": "TAPAS DAS",
      "photoUrl": "https://lh3.googleusercontent.com/a-/AOh14GiyffdGKiPCR_UwVittzTcbBFms70IkGfU15fatCA=s64",
      "userId": "10798398878324948542"
     },
     "user_tz": -330
    },
    "id": "zGEGOAJHVoHV",
    "outputId": "11f9ca4c-9cca-46f6-b9a6-907ad0a09927",
    "papermill": {
     "duration": 0.065233,
     "end_time": "2021-04-07T05:18:44.678835",
     "exception": false,
     "start_time": "2021-04-07T05:18:44.613602",
     "status": "completed"
    },
    "tags": []
   },
   "outputs": [
    {
     "data": {
      "text/html": [
       "<div>\n",
       "<style scoped>\n",
       "    .dataframe tbody tr th:only-of-type {\n",
       "        vertical-align: middle;\n",
       "    }\n",
       "\n",
       "    .dataframe tbody tr th {\n",
       "        vertical-align: top;\n",
       "    }\n",
       "\n",
       "    .dataframe thead th {\n",
       "        text-align: right;\n",
       "    }\n",
       "</style>\n",
       "<table border=\"1\" class=\"dataframe\">\n",
       "  <thead>\n",
       "    <tr style=\"text-align: right;\">\n",
       "      <th></th>\n",
       "      <th>0</th>\n",
       "      <th>1</th>\n",
       "      <th>2</th>\n",
       "    </tr>\n",
       "  </thead>\n",
       "  <tbody>\n",
       "    <tr>\n",
       "      <th>0</th>\n",
       "      <td>9.850473</td>\n",
       "      <td>9.831682</td>\n",
       "      <td>9.838058</td>\n",
       "    </tr>\n",
       "    <tr>\n",
       "      <th>1</th>\n",
       "      <td>9.334868</td>\n",
       "      <td>9.333895</td>\n",
       "      <td>9.329172</td>\n",
       "    </tr>\n",
       "    <tr>\n",
       "      <th>2</th>\n",
       "      <td>8.606508</td>\n",
       "      <td>8.598699</td>\n",
       "      <td>8.596853</td>\n",
       "    </tr>\n",
       "    <tr>\n",
       "      <th>3</th>\n",
       "      <td>8.863064</td>\n",
       "      <td>8.867144</td>\n",
       "      <td>8.868847</td>\n",
       "    </tr>\n",
       "    <tr>\n",
       "      <th>4</th>\n",
       "      <td>9.950468</td>\n",
       "      <td>9.952912</td>\n",
       "      <td>9.959745</td>\n",
       "    </tr>\n",
       "  </tbody>\n",
       "</table>\n",
       "</div>"
      ],
      "text/plain": [
       "          0         1         2\n",
       "0  9.850473  9.831682  9.838058\n",
       "1  9.334868  9.333895  9.329172\n",
       "2  8.606508  8.598699  8.596853\n",
       "3  8.863064  8.867144  8.868847\n",
       "4  9.950468  9.952912  9.959745"
      ]
     },
     "execution_count": 6,
     "metadata": {},
     "output_type": "execute_result"
    }
   ],
   "source": [
    "df = pd.DataFrame(y_pred_final_xgb)\n",
    "df.head()"
   ]
  },
  {
   "cell_type": "code",
   "execution_count": null,
   "metadata": {
    "id": "W2c88MvxXm65",
    "papermill": {
     "duration": 0.046674,
     "end_time": "2021-04-07T05:18:44.772444",
     "exception": false,
     "start_time": "2021-04-07T05:18:44.725770",
     "status": "completed"
    },
    "tags": []
   },
   "outputs": [],
   "source": []
  }
 ],
 "metadata": {
  "kernelspec": {
   "display_name": "Python 3",
   "language": "python",
   "name": "python3"
  },
  "language_info": {
   "codemirror_mode": {
    "name": "ipython",
    "version": 3
   },
   "file_extension": ".py",
   "mimetype": "text/x-python",
   "name": "python",
   "nbconvert_exporter": "python",
   "pygments_lexer": "ipython3",
   "version": "3.8.5"
  },
  "papermill": {
   "default_parameters": {},
   "duration": 1583.423616,
   "end_time": "2021-04-07T05:18:47.715698",
   "environment_variables": {},
   "exception": null,
   "input_path": "__notebook__.ipynb",
   "output_path": "__notebook__.ipynb",
   "parameters": {},
   "start_time": "2021-04-07T04:52:24.292082",
   "version": "2.2.2"
  }
 },
 "nbformat": 4,
 "nbformat_minor": 4
}
