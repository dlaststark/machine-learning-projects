{
 "cells": [
  {
   "cell_type": "markdown",
   "metadata": {
    "id": "uLz9OcH8SeET",
    "papermill": {
     "duration": 0.007048,
     "end_time": "2021-04-07T01:02:17.246169",
     "exception": false,
     "start_time": "2021-04-07T01:02:17.239121",
     "status": "completed"
    },
    "tags": []
   },
   "source": [
    "## Import libraries"
   ]
  },
  {
   "cell_type": "code",
   "execution_count": 1,
   "metadata": {
    "execution": {
     "iopub.execute_input": "2021-04-07T01:02:17.263239Z",
     "iopub.status.busy": "2021-04-07T01:02:17.262583Z",
     "iopub.status.idle": "2021-04-07T01:02:27.286841Z",
     "shell.execute_reply": "2021-04-07T01:02:27.285763Z"
    },
    "executionInfo": {
     "elapsed": 23727,
     "status": "ok",
     "timestamp": 1616326442041,
     "user": {
      "displayName": "TAPAS DAS",
      "photoUrl": "https://lh3.googleusercontent.com/a-/AOh14GiyffdGKiPCR_UwVittzTcbBFms70IkGfU15fatCA=s64",
      "userId": "10798398878324948542"
     },
     "user_tz": -330
    },
    "id": "E9svswc9SUuX",
    "papermill": {
     "duration": 10.034855,
     "end_time": "2021-04-07T01:02:27.287038",
     "exception": false,
     "start_time": "2021-04-07T01:02:17.252183",
     "status": "completed"
    },
    "tags": []
   },
   "outputs": [],
   "source": [
    "import gc\n",
    "import pickle\n",
    "import numpy as np\n",
    "import pandas as pd\n",
    "from xgboost import XGBRegressor\n",
    "from sklearn.model_selection import StratifiedKFold\n",
    "from sklearn.metrics import mean_squared_log_error\n",
    "from tensorflow.keras.models import Model, load_model\n",
    "from tensorflow_addons.optimizers import AdamW, Lookahead"
   ]
  },
  {
   "cell_type": "markdown",
   "metadata": {
    "id": "hg85SpW-S6hl",
    "papermill": {
     "duration": 0.005869,
     "end_time": "2021-04-07T01:02:27.299434",
     "exception": false,
     "start_time": "2021-04-07T01:02:27.293565",
     "status": "completed"
    },
    "tags": []
   },
   "source": [
    "## Prepare data for model training"
   ]
  },
  {
   "cell_type": "code",
   "execution_count": 2,
   "metadata": {
    "execution": {
     "iopub.execute_input": "2021-04-07T01:02:27.320305Z",
     "iopub.status.busy": "2021-04-07T01:02:27.319793Z",
     "iopub.status.idle": "2021-04-07T01:02:37.080547Z",
     "shell.execute_reply": "2021-04-07T01:02:37.080956Z"
    },
    "executionInfo": {
     "elapsed": 10043,
     "status": "ok",
     "timestamp": 1616326444482,
     "user": {
      "displayName": "TAPAS DAS",
      "photoUrl": "https://lh3.googleusercontent.com/a-/AOh14GiyffdGKiPCR_UwVittzTcbBFms70IkGfU15fatCA=s64",
      "userId": "10798398878324948542"
     },
     "user_tz": -330
    },
    "id": "VdhgoIAmSUxK",
    "outputId": "7897cfad-c8d4-46d9-86ea-04de37e11444",
    "papermill": {
     "duration": 9.775722,
     "end_time": "2021-04-07T01:02:37.081100",
     "exception": false,
     "start_time": "2021-04-07T01:02:27.305378",
     "status": "completed"
    },
    "tags": []
   },
   "outputs": [
    {
     "data": {
      "text/plain": [
       "53"
      ]
     },
     "execution_count": 2,
     "metadata": {},
     "output_type": "execute_result"
    }
   ],
   "source": [
    "with open(\"../input/workation-price-prediction-preprocess-data-v4/Workation_Dataset.txt\", 'rb') as handle: \n",
    "    data = handle.read()\n",
    "\n",
    "processed_data = pickle.loads(data)\n",
    "train_df = processed_data['train_df']\n",
    "test_df = processed_data['test_df']\n",
    "\n",
    "train_df = train_df[~((train_df['Per Person Price'] < 7.3) | (np.exp(train_df['Per Person Price']) > 150000))].copy()\n",
    "\n",
    "del processed_data\n",
    "gc.collect()"
   ]
  },
  {
   "cell_type": "code",
   "execution_count": 3,
   "metadata": {
    "execution": {
     "iopub.execute_input": "2021-04-07T01:02:37.100828Z",
     "iopub.status.busy": "2021-04-07T01:02:37.100299Z",
     "iopub.status.idle": "2021-04-07T01:02:37.935898Z",
     "shell.execute_reply": "2021-04-07T01:02:37.936496Z"
    },
    "executionInfo": {
     "elapsed": 2058,
     "status": "ok",
     "timestamp": 1616326525321,
     "user": {
      "displayName": "TAPAS DAS",
      "photoUrl": "https://lh3.googleusercontent.com/a-/AOh14GiyffdGKiPCR_UwVittzTcbBFms70IkGfU15fatCA=s64",
      "userId": "10798398878324948542"
     },
     "user_tz": -330
    },
    "id": "UAfyHbeASU7C",
    "outputId": "14c429a7-7b43-4065-afae-da7d4f6679a9",
    "papermill": {
     "duration": 0.848774,
     "end_time": "2021-04-07T01:02:37.936702",
     "exception": false,
     "start_time": "2021-04-07T01:02:37.087928",
     "status": "completed"
    },
    "tags": []
   },
   "outputs": [
    {
     "name": "stdout",
     "output_type": "stream",
     "text": [
      "Xtrain: (20989, 5752) \n",
      "Ytrain: (20989,) \n",
      "Xtest: (9000, 5752)\n"
     ]
    },
    {
     "data": {
      "text/plain": [
       "20"
      ]
     },
     "execution_count": 3,
     "metadata": {},
     "output_type": "execute_result"
    }
   ],
   "source": [
    "Xtrain = train_df.loc[:, train_df.columns != 'Per Person Price'].values\n",
    "Ytrain = train_df['Per Person Price'].values\n",
    "Ytrain_strat = pd.qcut(train_df['Per Person Price'].values, q=10, labels=range(0,10))\n",
    "Xtest = test_df.values\n",
    "\n",
    "print(\"Xtrain: {} \\nYtrain: {} \\nXtest: {}\".format(Xtrain.shape, Ytrain.shape, Xtest.shape))\n",
    "\n",
    "del train_df\n",
    "del test_df\n",
    "gc.collect()"
   ]
  },
  {
   "cell_type": "markdown",
   "metadata": {
    "id": "9wNC5rWEVnjd",
    "papermill": {
     "duration": 0.006892,
     "end_time": "2021-04-07T01:02:37.951054",
     "exception": false,
     "start_time": "2021-04-07T01:02:37.944162",
     "status": "completed"
    },
    "tags": []
   },
   "source": [
    "## Build and validate the model"
   ]
  },
  {
   "cell_type": "code",
   "execution_count": 4,
   "metadata": {
    "execution": {
     "iopub.execute_input": "2021-04-07T01:02:37.977291Z",
     "iopub.status.busy": "2021-04-07T01:02:37.976772Z",
     "iopub.status.idle": "2021-04-07T01:32:06.716815Z",
     "shell.execute_reply": "2021-04-07T01:32:06.717243Z"
    },
    "id": "uWPosEORSVBp",
    "outputId": "d70ac047-a86b-4f36-84cc-960b1b5316be",
    "papermill": {
     "duration": 1768.759222,
     "end_time": "2021-04-07T01:32:06.717434",
     "exception": false,
     "start_time": "2021-04-07T01:02:37.958212",
     "status": "completed"
    },
    "tags": []
   },
   "outputs": [
    {
     "name": "stdout",
     "output_type": "stream",
     "text": [
      "[0]\tvalidation_0-rmse:8.59273\tvalidation_1-rmse:8.59313\n",
      "[50]\tvalidation_0-rmse:0.21597\tvalidation_1-rmse:0.25382\n",
      "[99]\tvalidation_0-rmse:0.08976\tvalidation_1-rmse:0.16547\n",
      "Seed-24 | Fold-0 | OOF Score: 0.015294691749109109\n",
      "[0]\tvalidation_0-rmse:8.59292\tvalidation_1-rmse:8.59036\n",
      "[50]\tvalidation_0-rmse:0.21649\tvalidation_1-rmse:0.24226\n",
      "[99]\tvalidation_0-rmse:0.09082\tvalidation_1-rmse:0.15793\n",
      "Seed-24 | Fold-1 | OOF Score: 0.014632449050544484\n",
      "[0]\tvalidation_0-rmse:8.59268\tvalidation_1-rmse:8.59314\n",
      "[50]\tvalidation_0-rmse:0.21663\tvalidation_1-rmse:0.24899\n",
      "[99]\tvalidation_0-rmse:0.09107\tvalidation_1-rmse:0.15817\n",
      "Seed-24 | Fold-2 | OOF Score: 0.014605087881440219\n",
      "[0]\tvalidation_0-rmse:8.59283\tvalidation_1-rmse:8.59181\n",
      "[50]\tvalidation_0-rmse:0.21667\tvalidation_1-rmse:0.24711\n",
      "[99]\tvalidation_0-rmse:0.09063\tvalidation_1-rmse:0.16488\n",
      "Seed-24 | Fold-3 | OOF Score: 0.0152052713655116\n",
      "[0]\tvalidation_0-rmse:8.59264\tvalidation_1-rmse:8.59341\n",
      "[50]\tvalidation_0-rmse:0.21657\tvalidation_1-rmse:0.24560\n",
      "[99]\tvalidation_0-rmse:0.09078\tvalidation_1-rmse:0.16014\n",
      "Seed-24 | Fold-4 | OOF Score: 0.014842687387327635\n",
      "[0]\tvalidation_0-rmse:8.59245\tvalidation_1-rmse:8.59566\n",
      "[50]\tvalidation_0-rmse:0.21626\tvalidation_1-rmse:0.25400\n",
      "[99]\tvalidation_0-rmse:0.09039\tvalidation_1-rmse:0.16709\n",
      "Seed-24 | Fold-5 | OOF Score: 0.015375071507042743\n",
      "[0]\tvalidation_0-rmse:8.59296\tvalidation_1-rmse:8.59128\n",
      "[50]\tvalidation_0-rmse:0.21610\tvalidation_1-rmse:0.25394\n",
      "[99]\tvalidation_0-rmse:0.08867\tvalidation_1-rmse:0.16472\n",
      "Seed-24 | Fold-6 | OOF Score: 0.015276317551517997\n",
      "[0]\tvalidation_0-rmse:8.59281\tvalidation_1-rmse:8.59259\n",
      "[50]\tvalidation_0-rmse:0.21601\tvalidation_1-rmse:0.25175\n",
      "[99]\tvalidation_0-rmse:0.08838\tvalidation_1-rmse:0.16675\n",
      "Seed-24 | Fold-7 | OOF Score: 0.01542645440043568\n",
      "[0]\tvalidation_0-rmse:8.59258\tvalidation_1-rmse:8.59455\n",
      "[50]\tvalidation_0-rmse:0.21651\tvalidation_1-rmse:0.25419\n",
      "[99]\tvalidation_0-rmse:0.09032\tvalidation_1-rmse:0.16749\n",
      "Seed-24 | Fold-8 | OOF Score: 0.015450308851579067\n",
      "[0]\tvalidation_0-rmse:8.59288\tvalidation_1-rmse:8.59152\n",
      "[50]\tvalidation_0-rmse:0.21662\tvalidation_1-rmse:0.25263\n",
      "[99]\tvalidation_0-rmse:0.08953\tvalidation_1-rmse:0.16582\n",
      "Seed-24 | Fold-9 | OOF Score: 0.015352262560466725\n",
      "\n",
      "Seed: 24 | Aggregate OOF Score: 0.015146060230497527\n",
      "\n",
      "\n",
      "[0]\tvalidation_0-rmse:8.59232\tvalidation_1-rmse:8.59664\n",
      "[50]\tvalidation_0-rmse:0.21695\tvalidation_1-rmse:0.25071\n",
      "[99]\tvalidation_0-rmse:0.09126\tvalidation_1-rmse:0.16145\n",
      "Seed-3 | Fold-0 | OOF Score: 0.01491710761514025\n",
      "[0]\tvalidation_0-rmse:8.59242\tvalidation_1-rmse:8.59506\n",
      "[50]\tvalidation_0-rmse:0.21606\tvalidation_1-rmse:0.25581\n",
      "[99]\tvalidation_0-rmse:0.08893\tvalidation_1-rmse:0.17365\n",
      "Seed-3 | Fold-1 | OOF Score: 0.01587524340037448\n",
      "[0]\tvalidation_0-rmse:8.59299\tvalidation_1-rmse:8.58970\n",
      "[50]\tvalidation_0-rmse:0.21662\tvalidation_1-rmse:0.24751\n",
      "[99]\tvalidation_0-rmse:0.09048\tvalidation_1-rmse:0.16248\n",
      "Seed-3 | Fold-2 | OOF Score: 0.015078842074320033\n",
      "[0]\tvalidation_0-rmse:8.59300\tvalidation_1-rmse:8.59020\n",
      "[50]\tvalidation_0-rmse:0.21636\tvalidation_1-rmse:0.24971\n",
      "[99]\tvalidation_0-rmse:0.09062\tvalidation_1-rmse:0.16191\n",
      "Seed-3 | Fold-3 | OOF Score: 0.014956034592145007\n",
      "[0]\tvalidation_0-rmse:8.59282\tvalidation_1-rmse:8.59181\n",
      "[50]\tvalidation_0-rmse:0.21631\tvalidation_1-rmse:0.24929\n",
      "[99]\tvalidation_0-rmse:0.09015\tvalidation_1-rmse:0.16348\n",
      "Seed-3 | Fold-4 | OOF Score: 0.015213620937448637\n",
      "[0]\tvalidation_0-rmse:8.59253\tvalidation_1-rmse:8.59575\n",
      "[50]\tvalidation_0-rmse:0.21625\tvalidation_1-rmse:0.25233\n",
      "[99]\tvalidation_0-rmse:0.08900\tvalidation_1-rmse:0.16278\n",
      "Seed-3 | Fold-5 | OOF Score: 0.015166657026559142\n",
      "[0]\tvalidation_0-rmse:8.59327\tvalidation_1-rmse:8.58831\n",
      "[50]\tvalidation_0-rmse:0.21672\tvalidation_1-rmse:0.24280\n",
      "[99]\tvalidation_0-rmse:0.09053\tvalidation_1-rmse:0.15358\n",
      "Seed-3 | Fold-6 | OOF Score: 0.014293273593695486\n",
      "[0]\tvalidation_0-rmse:8.59271\tvalidation_1-rmse:8.59375\n",
      "[50]\tvalidation_0-rmse:0.21650\tvalidation_1-rmse:0.25761\n",
      "[99]\tvalidation_0-rmse:0.09261\tvalidation_1-rmse:0.16438\n",
      "Seed-3 | Fold-7 | OOF Score: 0.015120829621945798\n",
      "[0]\tvalidation_0-rmse:8.59273\tvalidation_1-rmse:8.59294\n",
      "[50]\tvalidation_0-rmse:0.21643\tvalidation_1-rmse:0.24682\n",
      "[99]\tvalidation_0-rmse:0.09125\tvalidation_1-rmse:0.15947\n",
      "Seed-3 | Fold-8 | OOF Score: 0.014714213781921356\n",
      "[0]\tvalidation_0-rmse:8.59280\tvalidation_1-rmse:8.59306\n",
      "[50]\tvalidation_0-rmse:0.21627\tvalidation_1-rmse:0.24750\n",
      "[99]\tvalidation_0-rmse:0.08986\tvalidation_1-rmse:0.16458\n",
      "Seed-3 | Fold-9 | OOF Score: 0.015149046550000258\n",
      "\n",
      "Seed: 3 | Aggregate OOF Score: 0.015048486919355047\n",
      "\n",
      "\n",
      "[0]\tvalidation_0-rmse:8.59267\tvalidation_1-rmse:8.59325\n",
      "[50]\tvalidation_0-rmse:0.21707\tvalidation_1-rmse:0.24664\n",
      "[99]\tvalidation_0-rmse:0.09105\tvalidation_1-rmse:0.16021\n",
      "Seed-56 | Fold-0 | OOF Score: 0.014895029417817382\n",
      "[0]\tvalidation_0-rmse:8.59301\tvalidation_1-rmse:8.59056\n",
      "[50]\tvalidation_0-rmse:0.21602\tvalidation_1-rmse:0.25921\n",
      "[99]\tvalidation_0-rmse:0.09020\tvalidation_1-rmse:0.17344\n",
      "Seed-56 | Fold-1 | OOF Score: 0.01603675512384411\n",
      "[0]\tvalidation_0-rmse:8.59292\tvalidation_1-rmse:8.59084\n",
      "[50]\tvalidation_0-rmse:0.21667\tvalidation_1-rmse:0.24182\n",
      "[99]\tvalidation_0-rmse:0.09079\tvalidation_1-rmse:0.15748\n",
      "Seed-56 | Fold-2 | OOF Score: 0.014597858390620682\n",
      "[0]\tvalidation_0-rmse:8.59258\tvalidation_1-rmse:8.59433\n",
      "[50]\tvalidation_0-rmse:0.21670\tvalidation_1-rmse:0.24566\n",
      "[99]\tvalidation_0-rmse:0.09077\tvalidation_1-rmse:0.15633\n",
      "Seed-56 | Fold-3 | OOF Score: 0.014453508983249862\n",
      "[0]\tvalidation_0-rmse:8.59263\tvalidation_1-rmse:8.59350\n",
      "[50]\tvalidation_0-rmse:0.21721\tvalidation_1-rmse:0.24702\n",
      "[99]\tvalidation_0-rmse:0.09104\tvalidation_1-rmse:0.16241\n",
      "Seed-56 | Fold-4 | OOF Score: 0.01500125082867676\n",
      "[0]\tvalidation_0-rmse:8.59249\tvalidation_1-rmse:8.59521\n",
      "[50]\tvalidation_0-rmse:0.21636\tvalidation_1-rmse:0.25252\n",
      "[99]\tvalidation_0-rmse:0.09000\tvalidation_1-rmse:0.16387\n",
      "Seed-56 | Fold-5 | OOF Score: 0.015213568827786524\n",
      "[0]\tvalidation_0-rmse:8.59307\tvalidation_1-rmse:8.59075\n",
      "[50]\tvalidation_0-rmse:0.21660\tvalidation_1-rmse:0.25428\n",
      "[99]\tvalidation_0-rmse:0.09150\tvalidation_1-rmse:0.16661\n",
      "Seed-56 | Fold-6 | OOF Score: 0.015422255393724157\n",
      "[0]\tvalidation_0-rmse:8.59305\tvalidation_1-rmse:8.59023\n",
      "[50]\tvalidation_0-rmse:0.21623\tvalidation_1-rmse:0.25174\n",
      "[99]\tvalidation_0-rmse:0.08878\tvalidation_1-rmse:0.16502\n",
      "Seed-56 | Fold-7 | OOF Score: 0.015300506273860863\n",
      "[0]\tvalidation_0-rmse:8.59245\tvalidation_1-rmse:8.59623\n",
      "[50]\tvalidation_0-rmse:0.21629\tvalidation_1-rmse:0.25737\n",
      "[99]\tvalidation_0-rmse:0.08960\tvalidation_1-rmse:0.16878\n",
      "Seed-56 | Fold-8 | OOF Score: 0.015466422651970709\n",
      "[0]\tvalidation_0-rmse:8.59264\tvalidation_1-rmse:8.59303\n",
      "[50]\tvalidation_0-rmse:0.21653\tvalidation_1-rmse:0.24987\n",
      "[99]\tvalidation_0-rmse:0.08952\tvalidation_1-rmse:0.16392\n",
      "Seed-56 | Fold-9 | OOF Score: 0.015128444738139445\n",
      "\n",
      "Seed: 56 | Aggregate OOF Score: 0.01515156006296905\n",
      "\n",
      "\n",
      "Aggregate OOF Score: 0.015115369070940542\n"
     ]
    }
   ],
   "source": [
    "FOLD = 10\n",
    "NUM_SEED = 3\n",
    "\n",
    "np.random.seed(3)\n",
    "seeds = np.random.randint(0, 100, size=NUM_SEED)\n",
    "\n",
    "oof_score = 0\n",
    "y_pred_meta_xgb = np.zeros((Ytrain.shape[0], NUM_SEED))\n",
    "y_pred_final_xgb = np.zeros((Xtest.shape[0], NUM_SEED))\n",
    "counter = 0\n",
    "\n",
    "\n",
    "for sidx, seed in enumerate(seeds):\n",
    "    seed_score = 0\n",
    "    \n",
    "    kfold = StratifiedKFold(n_splits=FOLD, shuffle=True, random_state=seed)\n",
    "\n",
    "    for idx, (train, val) in enumerate(kfold.split(Xtrain, Ytrain_strat)):\n",
    "        counter += 1\n",
    "\n",
    "        train_x, train_y = Xtrain[train], Ytrain[train]\n",
    "        val_x, val_y = Xtrain[val], Ytrain[val]\n",
    "\n",
    "        model = XGBRegressor(\n",
    "            objective='reg:squarederror',\n",
    "            eval_metric='rmse',\n",
    "            booster='gbtree',\n",
    "            sample_type='uniform',\n",
    "            tree_method='gpu_hist',\n",
    "            grow_policy='lossguide',\n",
    "            num_round=8000,\n",
    "            max_depth=11, \n",
    "            max_leaves=345,\n",
    "            learning_rate=0.074,\n",
    "            subsample=0.984,\n",
    "            colsample_bytree=0.675,\n",
    "            min_child_weight=7,\n",
    "            reg_lambda=0.152,\n",
    "            verbosity=0\n",
    "        )\n",
    "\n",
    "        model.fit(train_x, train_y, eval_set=[(train_x, train_y), (val_x, val_y)], \n",
    "                  early_stopping_rounds=200, verbose=50)\n",
    "\n",
    "        y_pred = model.predict(val_x, ntree_limit=model.best_ntree_limit)\n",
    "        y_pred_meta_xgb[val, sidx] += y_pred\n",
    "        y_pred_final_xgb[:, sidx] += model.predict(Xtest, ntree_limit=model.best_ntree_limit)\n",
    "        \n",
    "        score = np.sqrt(mean_squared_log_error(val_y, y_pred))\n",
    "        oof_score += score\n",
    "        seed_score += score\n",
    "        print(\"Seed-{} | Fold-{} | OOF Score: {}\".format(seed, idx, score))\n",
    "    \n",
    "    print(\"\\nSeed: {} | Aggregate OOF Score: {}\\n\\n\".format(seed, (seed_score / FOLD)))\n",
    "\n",
    "\n",
    "y_pred_final_xgb = y_pred_final_xgb / float(FOLD)\n",
    "oof_score /= float(counter)\n",
    "print(\"Aggregate OOF Score: {}\".format(oof_score))"
   ]
  },
  {
   "cell_type": "code",
   "execution_count": 5,
   "metadata": {
    "execution": {
     "iopub.execute_input": "2021-04-07T01:32:06.800154Z",
     "iopub.status.busy": "2021-04-07T01:32:06.799422Z",
     "iopub.status.idle": "2021-04-07T01:32:06.867855Z",
     "shell.execute_reply": "2021-04-07T01:32:06.867405Z"
    },
    "id": "uLzmS7LzXvXy",
    "papermill": {
     "duration": 0.109815,
     "end_time": "2021-04-07T01:32:06.867969",
     "exception": false,
     "start_time": "2021-04-07T01:32:06.758154",
     "status": "completed"
    },
    "tags": []
   },
   "outputs": [],
   "source": [
    "np.savez_compressed('./XGB_Meta_Features.npz',\n",
    "                    y_pred_meta_xgb=y_pred_meta_xgb, \n",
    "                    oof_score=oof_score,\n",
    "                    y_pred_final_xgb=y_pred_final_xgb)"
   ]
  },
  {
   "cell_type": "code",
   "execution_count": 6,
   "metadata": {
    "execution": {
     "iopub.execute_input": "2021-04-07T01:32:06.949368Z",
     "iopub.status.busy": "2021-04-07T01:32:06.948888Z",
     "iopub.status.idle": "2021-04-07T01:32:06.957981Z",
     "shell.execute_reply": "2021-04-07T01:32:06.957508Z"
    },
    "executionInfo": {
     "elapsed": 3141,
     "status": "ok",
     "timestamp": 1616223489651,
     "user": {
      "displayName": "TAPAS DAS",
      "photoUrl": "https://lh3.googleusercontent.com/a-/AOh14GiyffdGKiPCR_UwVittzTcbBFms70IkGfU15fatCA=s64",
      "userId": "10798398878324948542"
     },
     "user_tz": -330
    },
    "id": "zGEGOAJHVoHV",
    "outputId": "11f9ca4c-9cca-46f6-b9a6-907ad0a09927",
    "papermill": {
     "duration": 0.05358,
     "end_time": "2021-04-07T01:32:06.958107",
     "exception": false,
     "start_time": "2021-04-07T01:32:06.904527",
     "status": "completed"
    },
    "tags": []
   },
   "outputs": [
    {
     "data": {
      "text/html": [
       "<div>\n",
       "<style scoped>\n",
       "    .dataframe tbody tr th:only-of-type {\n",
       "        vertical-align: middle;\n",
       "    }\n",
       "\n",
       "    .dataframe tbody tr th {\n",
       "        vertical-align: top;\n",
       "    }\n",
       "\n",
       "    .dataframe thead th {\n",
       "        text-align: right;\n",
       "    }\n",
       "</style>\n",
       "<table border=\"1\" class=\"dataframe\">\n",
       "  <thead>\n",
       "    <tr style=\"text-align: right;\">\n",
       "      <th></th>\n",
       "      <th>0</th>\n",
       "      <th>1</th>\n",
       "      <th>2</th>\n",
       "    </tr>\n",
       "  </thead>\n",
       "  <tbody>\n",
       "    <tr>\n",
       "      <th>0</th>\n",
       "      <td>9.828232</td>\n",
       "      <td>9.819984</td>\n",
       "      <td>9.827808</td>\n",
       "    </tr>\n",
       "    <tr>\n",
       "      <th>1</th>\n",
       "      <td>9.322518</td>\n",
       "      <td>9.332821</td>\n",
       "      <td>9.329927</td>\n",
       "    </tr>\n",
       "    <tr>\n",
       "      <th>2</th>\n",
       "      <td>8.618342</td>\n",
       "      <td>8.614360</td>\n",
       "      <td>8.613281</td>\n",
       "    </tr>\n",
       "    <tr>\n",
       "      <th>3</th>\n",
       "      <td>8.870387</td>\n",
       "      <td>8.873793</td>\n",
       "      <td>8.867922</td>\n",
       "    </tr>\n",
       "    <tr>\n",
       "      <th>4</th>\n",
       "      <td>9.965712</td>\n",
       "      <td>9.965982</td>\n",
       "      <td>9.962759</td>\n",
       "    </tr>\n",
       "  </tbody>\n",
       "</table>\n",
       "</div>"
      ],
      "text/plain": [
       "          0         1         2\n",
       "0  9.828232  9.819984  9.827808\n",
       "1  9.322518  9.332821  9.329927\n",
       "2  8.618342  8.614360  8.613281\n",
       "3  8.870387  8.873793  8.867922\n",
       "4  9.965712  9.965982  9.962759"
      ]
     },
     "execution_count": 6,
     "metadata": {},
     "output_type": "execute_result"
    }
   ],
   "source": [
    "df = pd.DataFrame(y_pred_final_xgb)\n",
    "df.head()"
   ]
  },
  {
   "cell_type": "code",
   "execution_count": null,
   "metadata": {
    "id": "W2c88MvxXm65",
    "papermill": {
     "duration": 0.03752,
     "end_time": "2021-04-07T01:32:07.033705",
     "exception": false,
     "start_time": "2021-04-07T01:32:06.996185",
     "status": "completed"
    },
    "tags": []
   },
   "outputs": [],
   "source": []
  }
 ],
 "metadata": {
  "kernelspec": {
   "display_name": "Python 3",
   "language": "python",
   "name": "python3"
  },
  "language_info": {
   "codemirror_mode": {
    "name": "ipython",
    "version": 3
   },
   "file_extension": ".py",
   "mimetype": "text/x-python",
   "name": "python",
   "nbconvert_exporter": "python",
   "pygments_lexer": "ipython3",
   "version": "3.7.9"
  },
  "papermill": {
   "default_parameters": {},
   "duration": 1797.129832,
   "end_time": "2021-04-07T01:32:09.530854",
   "environment_variables": {},
   "exception": null,
   "input_path": "__notebook__.ipynb",
   "output_path": "__notebook__.ipynb",
   "parameters": {},
   "start_time": "2021-04-07T01:02:12.401022",
   "version": "2.2.2"
  }
 },
 "nbformat": 4,
 "nbformat_minor": 4
}
