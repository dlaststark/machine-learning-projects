{
 "cells": [
  {
   "cell_type": "markdown",
   "metadata": {
    "id": "uLz9OcH8SeET",
    "papermill": {
     "duration": 0.00715,
     "end_time": "2021-04-07T10:50:54.722498",
     "exception": false,
     "start_time": "2021-04-07T10:50:54.715348",
     "status": "completed"
    },
    "tags": []
   },
   "source": [
    "## Import libraries"
   ]
  },
  {
   "cell_type": "code",
   "execution_count": 1,
   "metadata": {
    "execution": {
     "iopub.execute_input": "2021-04-07T10:50:54.739411Z",
     "iopub.status.busy": "2021-04-07T10:50:54.738732Z",
     "iopub.status.idle": "2021-04-07T10:50:59.576544Z",
     "shell.execute_reply": "2021-04-07T10:50:59.575394Z"
    },
    "executionInfo": {
     "elapsed": 23727,
     "status": "ok",
     "timestamp": 1616326442041,
     "user": {
      "displayName": "TAPAS DAS",
      "photoUrl": "https://lh3.googleusercontent.com/a-/AOh14GiyffdGKiPCR_UwVittzTcbBFms70IkGfU15fatCA=s64",
      "userId": "10798398878324948542"
     },
     "user_tz": -330
    },
    "id": "E9svswc9SUuX",
    "papermill": {
     "duration": 4.848211,
     "end_time": "2021-04-07T10:50:59.576739",
     "exception": false,
     "start_time": "2021-04-07T10:50:54.728528",
     "status": "completed"
    },
    "tags": []
   },
   "outputs": [],
   "source": [
    "import gc\n",
    "import pickle\n",
    "import numpy as np\n",
    "import pandas as pd\n",
    "from xgboost import XGBRegressor\n",
    "from sklearn.model_selection import StratifiedKFold\n",
    "from sklearn.metrics import mean_squared_log_error"
   ]
  },
  {
   "cell_type": "markdown",
   "metadata": {
    "id": "hg85SpW-S6hl",
    "papermill": {
     "duration": 0.005898,
     "end_time": "2021-04-07T10:50:59.589002",
     "exception": false,
     "start_time": "2021-04-07T10:50:59.583104",
     "status": "completed"
    },
    "tags": []
   },
   "source": [
    "## Prepare data for model training"
   ]
  },
  {
   "cell_type": "code",
   "execution_count": 2,
   "metadata": {
    "execution": {
     "iopub.execute_input": "2021-04-07T10:50:59.605982Z",
     "iopub.status.busy": "2021-04-07T10:50:59.605467Z",
     "iopub.status.idle": "2021-04-07T10:51:08.315177Z",
     "shell.execute_reply": "2021-04-07T10:51:08.314351Z"
    },
    "executionInfo": {
     "elapsed": 10043,
     "status": "ok",
     "timestamp": 1616326444482,
     "user": {
      "displayName": "TAPAS DAS",
      "photoUrl": "https://lh3.googleusercontent.com/a-/AOh14GiyffdGKiPCR_UwVittzTcbBFms70IkGfU15fatCA=s64",
      "userId": "10798398878324948542"
     },
     "user_tz": -330
    },
    "id": "VdhgoIAmSUxK",
    "outputId": "7897cfad-c8d4-46d9-86ea-04de37e11444",
    "papermill": {
     "duration": 8.720307,
     "end_time": "2021-04-07T10:51:08.315337",
     "exception": false,
     "start_time": "2021-04-07T10:50:59.595030",
     "status": "completed"
    },
    "tags": []
   },
   "outputs": [
    {
     "data": {
      "text/plain": [
       "46"
      ]
     },
     "execution_count": 2,
     "metadata": {},
     "output_type": "execute_result"
    }
   ],
   "source": [
    "with open(\"../input/workation-price-prediction-preprocess-data-v2/Workation_Dataset.txt\", 'rb') as handle: \n",
    "    data = handle.read()\n",
    "\n",
    "processed_data = pickle.loads(data)\n",
    "train_df = processed_data['train_df']\n",
    "test_df = processed_data['test_df']\n",
    "\n",
    "train_df = train_df[~((train_df['Per Person Price'] < 7.3) | (np.exp(train_df['Per Person Price']) > 150000))].copy()\n",
    "\n",
    "del processed_data\n",
    "gc.collect()"
   ]
  },
  {
   "cell_type": "code",
   "execution_count": 3,
   "metadata": {
    "execution": {
     "iopub.execute_input": "2021-04-07T10:51:08.335907Z",
     "iopub.status.busy": "2021-04-07T10:51:08.334942Z",
     "iopub.status.idle": "2021-04-07T10:51:09.101746Z",
     "shell.execute_reply": "2021-04-07T10:51:09.102145Z"
    },
    "executionInfo": {
     "elapsed": 2058,
     "status": "ok",
     "timestamp": 1616326525321,
     "user": {
      "displayName": "TAPAS DAS",
      "photoUrl": "https://lh3.googleusercontent.com/a-/AOh14GiyffdGKiPCR_UwVittzTcbBFms70IkGfU15fatCA=s64",
      "userId": "10798398878324948542"
     },
     "user_tz": -330
    },
    "id": "UAfyHbeASU7C",
    "outputId": "14c429a7-7b43-4065-afae-da7d4f6679a9",
    "papermill": {
     "duration": 0.780157,
     "end_time": "2021-04-07T10:51:09.102323",
     "exception": false,
     "start_time": "2021-04-07T10:51:08.322166",
     "status": "completed"
    },
    "tags": []
   },
   "outputs": [
    {
     "name": "stdout",
     "output_type": "stream",
     "text": [
      "Xtrain: (20989, 5752) \n",
      "Ytrain: (20989,) \n",
      "Xtest: (9000, 5752)\n"
     ]
    },
    {
     "data": {
      "text/plain": [
       "0"
      ]
     },
     "execution_count": 3,
     "metadata": {},
     "output_type": "execute_result"
    }
   ],
   "source": [
    "Xtrain = train_df.loc[:, train_df.columns != 'Per Person Price'].values\n",
    "Ytrain = train_df['Per Person Price'].values\n",
    "Ytrain_strat = pd.qcut(train_df['Per Person Price'].values, q=10, labels=range(0,10))\n",
    "Xtest = test_df.values\n",
    "\n",
    "print(\"Xtrain: {} \\nYtrain: {} \\nXtest: {}\".format(Xtrain.shape, Ytrain.shape, Xtest.shape))\n",
    "\n",
    "del train_df\n",
    "del test_df\n",
    "gc.collect()"
   ]
  },
  {
   "cell_type": "markdown",
   "metadata": {
    "id": "9wNC5rWEVnjd",
    "papermill": {
     "duration": 0.006995,
     "end_time": "2021-04-07T10:51:09.116861",
     "exception": false,
     "start_time": "2021-04-07T10:51:09.109866",
     "status": "completed"
    },
    "tags": []
   },
   "source": [
    "## Build and validate the model"
   ]
  },
  {
   "cell_type": "code",
   "execution_count": 4,
   "metadata": {
    "execution": {
     "iopub.execute_input": "2021-04-07T10:51:09.143209Z",
     "iopub.status.busy": "2021-04-07T10:51:09.142689Z",
     "iopub.status.idle": "2021-04-07T11:14:24.238731Z",
     "shell.execute_reply": "2021-04-07T11:14:24.239106Z"
    },
    "id": "uWPosEORSVBp",
    "outputId": "d70ac047-a86b-4f36-84cc-960b1b5316be",
    "papermill": {
     "duration": 1395.115338,
     "end_time": "2021-04-07T11:14:24.239286",
     "exception": false,
     "start_time": "2021-04-07T10:51:09.123948",
     "status": "completed"
    },
    "tags": []
   },
   "outputs": [
    {
     "name": "stdout",
     "output_type": "stream",
     "text": [
      "[0]\tvalidation_0-rmse:8.41608\tvalidation_1-rmse:8.41672\n",
      "[50]\tvalidation_0-rmse:0.13180\tvalidation_1-rmse:0.18287\n",
      "[99]\tvalidation_0-rmse:0.09629\tvalidation_1-rmse:0.16614\n",
      "Seed-24 | Fold-0 | OOF Score: 0.015400947218408513\n",
      "[0]\tvalidation_0-rmse:8.41630\tvalidation_1-rmse:8.41393\n",
      "[50]\tvalidation_0-rmse:0.13248\tvalidation_1-rmse:0.16920\n",
      "[99]\tvalidation_0-rmse:0.09656\tvalidation_1-rmse:0.15663\n",
      "Seed-24 | Fold-1 | OOF Score: 0.014537529075796947\n",
      "[0]\tvalidation_0-rmse:8.41604\tvalidation_1-rmse:8.41665\n",
      "[50]\tvalidation_0-rmse:0.13214\tvalidation_1-rmse:0.17322\n",
      "[99]\tvalidation_0-rmse:0.09628\tvalidation_1-rmse:0.15610\n",
      "Seed-24 | Fold-2 | OOF Score: 0.014428599147461982\n",
      "[0]\tvalidation_0-rmse:8.41624\tvalidation_1-rmse:8.41596\n",
      "[50]\tvalidation_0-rmse:0.13263\tvalidation_1-rmse:0.17739\n",
      "[99]\tvalidation_0-rmse:0.09687\tvalidation_1-rmse:0.16554\n",
      "Seed-24 | Fold-3 | OOF Score: 0.015248453722584817\n",
      "[0]\tvalidation_0-rmse:8.41600\tvalidation_1-rmse:8.41702\n",
      "[50]\tvalidation_0-rmse:0.13254\tvalidation_1-rmse:0.17214\n",
      "[99]\tvalidation_0-rmse:0.09649\tvalidation_1-rmse:0.15853\n",
      "Seed-24 | Fold-4 | OOF Score: 0.01469186778731626\n",
      "[0]\tvalidation_0-rmse:8.41583\tvalidation_1-rmse:8.41948\n",
      "[50]\tvalidation_0-rmse:0.13218\tvalidation_1-rmse:0.18090\n",
      "[99]\tvalidation_0-rmse:0.09647\tvalidation_1-rmse:0.16478\n",
      "Seed-24 | Fold-5 | OOF Score: 0.015203017369594138\n",
      "[0]\tvalidation_0-rmse:8.41635\tvalidation_1-rmse:8.41497\n",
      "[50]\tvalidation_0-rmse:0.13205\tvalidation_1-rmse:0.17960\n",
      "[99]\tvalidation_0-rmse:0.09701\tvalidation_1-rmse:0.16303\n",
      "Seed-24 | Fold-6 | OOF Score: 0.015135891492255029\n",
      "[0]\tvalidation_0-rmse:8.41619\tvalidation_1-rmse:8.41566\n",
      "[50]\tvalidation_0-rmse:0.13219\tvalidation_1-rmse:0.18233\n",
      "[99]\tvalidation_0-rmse:0.09671\tvalidation_1-rmse:0.16716\n",
      "Seed-24 | Fold-7 | OOF Score: 0.015453368493127952\n",
      "[0]\tvalidation_0-rmse:8.41596\tvalidation_1-rmse:8.41788\n",
      "[50]\tvalidation_0-rmse:0.13218\tvalidation_1-rmse:0.18347\n",
      "[99]\tvalidation_0-rmse:0.09567\tvalidation_1-rmse:0.16799\n",
      "Seed-24 | Fold-8 | OOF Score: 0.015524635325770125\n",
      "[0]\tvalidation_0-rmse:8.41622\tvalidation_1-rmse:8.41478\n",
      "[50]\tvalidation_0-rmse:0.13314\tvalidation_1-rmse:0.18117\n",
      "[99]\tvalidation_0-rmse:0.09683\tvalidation_1-rmse:0.16507\n",
      "Seed-24 | Fold-9 | OOF Score: 0.015285258220436875\n",
      "\n",
      "Seed: 24 | Aggregate OOF Score: 0.015090956785275264\n",
      "\n",
      "\n",
      "[0]\tvalidation_0-rmse:8.41571\tvalidation_1-rmse:8.41940\n",
      "[50]\tvalidation_0-rmse:0.13279\tvalidation_1-rmse:0.18009\n",
      "[99]\tvalidation_0-rmse:0.09676\tvalidation_1-rmse:0.16300\n",
      "Seed-3 | Fold-0 | OOF Score: 0.015064718237059838\n",
      "[0]\tvalidation_0-rmse:8.41580\tvalidation_1-rmse:8.41885\n",
      "[50]\tvalidation_0-rmse:0.13173\tvalidation_1-rmse:0.18570\n",
      "[99]\tvalidation_0-rmse:0.09488\tvalidation_1-rmse:0.17202\n",
      "Seed-3 | Fold-1 | OOF Score: 0.015730907898821766\n",
      "[0]\tvalidation_0-rmse:8.41638\tvalidation_1-rmse:8.41365\n",
      "[50]\tvalidation_0-rmse:0.13226\tvalidation_1-rmse:0.17813\n",
      "[99]\tvalidation_0-rmse:0.09624\tvalidation_1-rmse:0.16461\n",
      "Seed-3 | Fold-2 | OOF Score: 0.015275310046908942\n",
      "[0]\tvalidation_0-rmse:8.41635\tvalidation_1-rmse:8.41410\n",
      "[50]\tvalidation_0-rmse:0.13272\tvalidation_1-rmse:0.17792\n",
      "[99]\tvalidation_0-rmse:0.09648\tvalidation_1-rmse:0.16084\n",
      "Seed-3 | Fold-3 | OOF Score: 0.014862738514972782\n",
      "[0]\tvalidation_0-rmse:8.41619\tvalidation_1-rmse:8.41523\n",
      "[50]\tvalidation_0-rmse:0.13194\tvalidation_1-rmse:0.17984\n",
      "[99]\tvalidation_0-rmse:0.09594\tvalidation_1-rmse:0.16578\n",
      "Seed-3 | Fold-4 | OOF Score: 0.015442996139877171\n",
      "[0]\tvalidation_0-rmse:8.41589\tvalidation_1-rmse:8.41882\n",
      "[50]\tvalidation_0-rmse:0.13238\tvalidation_1-rmse:0.17919\n",
      "[99]\tvalidation_0-rmse:0.09742\tvalidation_1-rmse:0.16208\n",
      "Seed-3 | Fold-5 | OOF Score: 0.015099273642261775\n",
      "[0]\tvalidation_0-rmse:8.41661\tvalidation_1-rmse:8.41141\n",
      "[50]\tvalidation_0-rmse:0.13250\tvalidation_1-rmse:0.16792\n",
      "[99]\tvalidation_0-rmse:0.09617\tvalidation_1-rmse:0.15225\n",
      "Seed-3 | Fold-6 | OOF Score: 0.014156645095109182\n",
      "[0]\tvalidation_0-rmse:8.41607\tvalidation_1-rmse:8.41716\n",
      "[50]\tvalidation_0-rmse:0.13273\tvalidation_1-rmse:0.18653\n",
      "[99]\tvalidation_0-rmse:0.09694\tvalidation_1-rmse:0.16838\n",
      "Seed-3 | Fold-7 | OOF Score: 0.01553380777203782\n",
      "[0]\tvalidation_0-rmse:8.41609\tvalidation_1-rmse:8.41658\n",
      "[50]\tvalidation_0-rmse:0.13276\tvalidation_1-rmse:0.17252\n",
      "[99]\tvalidation_0-rmse:0.09795\tvalidation_1-rmse:0.15740\n",
      "Seed-3 | Fold-8 | OOF Score: 0.014551285319154547\n",
      "[0]\tvalidation_0-rmse:8.41614\tvalidation_1-rmse:8.41671\n",
      "[50]\tvalidation_0-rmse:0.13203\tvalidation_1-rmse:0.17765\n",
      "[99]\tvalidation_0-rmse:0.09601\tvalidation_1-rmse:0.16441\n",
      "Seed-3 | Fold-9 | OOF Score: 0.015174597680472305\n",
      "\n",
      "Seed: 3 | Aggregate OOF Score: 0.015089228034667612\n",
      "\n",
      "\n",
      "[0]\tvalidation_0-rmse:8.41602\tvalidation_1-rmse:8.41673\n",
      "[50]\tvalidation_0-rmse:0.13234\tvalidation_1-rmse:0.17591\n",
      "[99]\tvalidation_0-rmse:0.09630\tvalidation_1-rmse:0.16137\n",
      "Seed-56 | Fold-0 | OOF Score: 0.01498915424681765\n",
      "[0]\tvalidation_0-rmse:8.41635\tvalidation_1-rmse:8.41473\n",
      "[50]\tvalidation_0-rmse:0.13176\tvalidation_1-rmse:0.18891\n",
      "[99]\tvalidation_0-rmse:0.09749\tvalidation_1-rmse:0.17267\n",
      "Seed-56 | Fold-1 | OOF Score: 0.016008901390771893\n",
      "[0]\tvalidation_0-rmse:8.41626\tvalidation_1-rmse:8.41438\n",
      "[50]\tvalidation_0-rmse:0.13282\tvalidation_1-rmse:0.17241\n",
      "[99]\tvalidation_0-rmse:0.09805\tvalidation_1-rmse:0.15894\n",
      "Seed-56 | Fold-2 | OOF Score: 0.014739794324898123\n",
      "[0]\tvalidation_0-rmse:8.41594\tvalidation_1-rmse:8.41780\n",
      "[50]\tvalidation_0-rmse:0.13272\tvalidation_1-rmse:0.17241\n",
      "[99]\tvalidation_0-rmse:0.09740\tvalidation_1-rmse:0.15498\n",
      "Seed-56 | Fold-3 | OOF Score: 0.014337332985219085\n",
      "[0]\tvalidation_0-rmse:8.41601\tvalidation_1-rmse:8.41628\n",
      "[50]\tvalidation_0-rmse:0.13250\tvalidation_1-rmse:0.17655\n",
      "[99]\tvalidation_0-rmse:0.09756\tvalidation_1-rmse:0.16243\n",
      "Seed-56 | Fold-4 | OOF Score: 0.015018851370927101\n",
      "[0]\tvalidation_0-rmse:8.41589\tvalidation_1-rmse:8.41856\n",
      "[50]\tvalidation_0-rmse:0.13212\tvalidation_1-rmse:0.18155\n",
      "[99]\tvalidation_0-rmse:0.09559\tvalidation_1-rmse:0.16619\n",
      "Seed-56 | Fold-5 | OOF Score: 0.01542374754941592\n",
      "[0]\tvalidation_0-rmse:8.41642\tvalidation_1-rmse:8.41396\n",
      "[50]\tvalidation_0-rmse:0.13228\tvalidation_1-rmse:0.18076\n",
      "[99]\tvalidation_0-rmse:0.09782\tvalidation_1-rmse:0.16459\n",
      "Seed-56 | Fold-6 | OOF Score: 0.015249282756961942\n",
      "[0]\tvalidation_0-rmse:8.41640\tvalidation_1-rmse:8.41366\n",
      "[50]\tvalidation_0-rmse:0.13225\tvalidation_1-rmse:0.18038\n",
      "[99]\tvalidation_0-rmse:0.09627\tvalidation_1-rmse:0.16391\n",
      "Seed-56 | Fold-7 | OOF Score: 0.015215189279808505\n",
      "[0]\tvalidation_0-rmse:8.41583\tvalidation_1-rmse:8.41980\n",
      "[50]\tvalidation_0-rmse:0.13159\tvalidation_1-rmse:0.18671\n",
      "[99]\tvalidation_0-rmse:0.09555\tvalidation_1-rmse:0.17045\n",
      "Seed-56 | Fold-8 | OOF Score: 0.015624391438171509\n",
      "[0]\tvalidation_0-rmse:8.41603\tvalidation_1-rmse:8.41691\n",
      "[50]\tvalidation_0-rmse:0.13257\tvalidation_1-rmse:0.17746\n",
      "[99]\tvalidation_0-rmse:0.09634\tvalidation_1-rmse:0.16440\n",
      "Seed-56 | Fold-9 | OOF Score: 0.0151940584258172\n",
      "\n",
      "Seed: 56 | Aggregate OOF Score: 0.015180070376880891\n",
      "\n",
      "\n",
      "Aggregate OOF Score: 0.015120085065607929\n"
     ]
    }
   ],
   "source": [
    "FOLD = 10\n",
    "NUM_SEED = 3\n",
    "\n",
    "np.random.seed(3)\n",
    "seeds = np.random.randint(0, 100, size=NUM_SEED)\n",
    "\n",
    "oof_score = 0\n",
    "y_pred_meta_xgb = np.zeros((Ytrain.shape[0], NUM_SEED))\n",
    "y_pred_final_xgb = np.zeros((Xtest.shape[0], NUM_SEED))\n",
    "counter = 0\n",
    "\n",
    "\n",
    "for sidx, seed in enumerate(seeds):\n",
    "    seed_score = 0\n",
    "    \n",
    "    kfold = StratifiedKFold(n_splits=FOLD, shuffle=True, random_state=seed)\n",
    "\n",
    "    for idx, (train, val) in enumerate(kfold.split(Xtrain, Ytrain_strat)):\n",
    "        counter += 1\n",
    "\n",
    "        train_x, train_y = Xtrain[train], Ytrain[train]\n",
    "        val_x, val_y = Xtrain[val], Ytrain[val]\n",
    "\n",
    "        model = XGBRegressor(\n",
    "            objective='reg:squarederror',\n",
    "            eval_metric='rmse',\n",
    "            booster='gbtree',\n",
    "            sample_type='uniform',\n",
    "            tree_method='gpu_hist',\n",
    "            grow_policy='lossguide',\n",
    "            num_round=8000,\n",
    "            max_depth=12, \n",
    "            max_leaves=135,\n",
    "            learning_rate=0.093,\n",
    "            subsample=0.98,\n",
    "            colsample_bytree=0.61,\n",
    "            min_child_weight=11,\n",
    "            reg_lambda=0.0001,\n",
    "            verbosity=0\n",
    "        )\n",
    "\n",
    "        model.fit(train_x, train_y, eval_set=[(train_x, train_y), (val_x, val_y)], \n",
    "                  early_stopping_rounds=200, verbose=50)\n",
    "\n",
    "        y_pred = model.predict(val_x, ntree_limit=model.best_ntree_limit)\n",
    "        y_pred_meta_xgb[val, sidx] += y_pred\n",
    "        y_pred_final_xgb[:, sidx] += model.predict(Xtest, ntree_limit=model.best_ntree_limit)\n",
    "        \n",
    "        score = np.sqrt(mean_squared_log_error(val_y, y_pred))\n",
    "        oof_score += score\n",
    "        seed_score += score\n",
    "        print(\"Seed-{} | Fold-{} | OOF Score: {}\".format(seed, idx, score))\n",
    "    \n",
    "    print(\"\\nSeed: {} | Aggregate OOF Score: {}\\n\\n\".format(seed, (seed_score / FOLD)))\n",
    "\n",
    "\n",
    "y_pred_final_xgb = y_pred_final_xgb / float(FOLD)\n",
    "oof_score /= float(counter)\n",
    "print(\"Aggregate OOF Score: {}\".format(oof_score))"
   ]
  },
  {
   "cell_type": "code",
   "execution_count": 5,
   "metadata": {
    "execution": {
     "iopub.execute_input": "2021-04-07T11:14:24.320302Z",
     "iopub.status.busy": "2021-04-07T11:14:24.319593Z",
     "iopub.status.idle": "2021-04-07T11:14:24.387863Z",
     "shell.execute_reply": "2021-04-07T11:14:24.387437Z"
    },
    "id": "uLzmS7LzXvXy",
    "papermill": {
     "duration": 0.109369,
     "end_time": "2021-04-07T11:14:24.387968",
     "exception": false,
     "start_time": "2021-04-07T11:14:24.278599",
     "status": "completed"
    },
    "tags": []
   },
   "outputs": [],
   "source": [
    "np.savez_compressed('./XGB_Meta_Features.npz',\n",
    "                    y_pred_meta_xgb=y_pred_meta_xgb, \n",
    "                    oof_score=oof_score,\n",
    "                    y_pred_final_xgb=y_pred_final_xgb)"
   ]
  },
  {
   "cell_type": "code",
   "execution_count": 6,
   "metadata": {
    "execution": {
     "iopub.execute_input": "2021-04-07T11:14:24.469013Z",
     "iopub.status.busy": "2021-04-07T11:14:24.468414Z",
     "iopub.status.idle": "2021-04-07T11:14:24.476680Z",
     "shell.execute_reply": "2021-04-07T11:14:24.476203Z"
    },
    "executionInfo": {
     "elapsed": 3141,
     "status": "ok",
     "timestamp": 1616223489651,
     "user": {
      "displayName": "TAPAS DAS",
      "photoUrl": "https://lh3.googleusercontent.com/a-/AOh14GiyffdGKiPCR_UwVittzTcbBFms70IkGfU15fatCA=s64",
      "userId": "10798398878324948542"
     },
     "user_tz": -330
    },
    "id": "zGEGOAJHVoHV",
    "outputId": "11f9ca4c-9cca-46f6-b9a6-907ad0a09927",
    "papermill": {
     "duration": 0.051944,
     "end_time": "2021-04-07T11:14:24.476798",
     "exception": false,
     "start_time": "2021-04-07T11:14:24.424854",
     "status": "completed"
    },
    "tags": []
   },
   "outputs": [
    {
     "data": {
      "text/html": [
       "<div>\n",
       "<style scoped>\n",
       "    .dataframe tbody tr th:only-of-type {\n",
       "        vertical-align: middle;\n",
       "    }\n",
       "\n",
       "    .dataframe tbody tr th {\n",
       "        vertical-align: top;\n",
       "    }\n",
       "\n",
       "    .dataframe thead th {\n",
       "        text-align: right;\n",
       "    }\n",
       "</style>\n",
       "<table border=\"1\" class=\"dataframe\">\n",
       "  <thead>\n",
       "    <tr style=\"text-align: right;\">\n",
       "      <th></th>\n",
       "      <th>0</th>\n",
       "      <th>1</th>\n",
       "      <th>2</th>\n",
       "    </tr>\n",
       "  </thead>\n",
       "  <tbody>\n",
       "    <tr>\n",
       "      <th>0</th>\n",
       "      <td>9.842920</td>\n",
       "      <td>9.842694</td>\n",
       "      <td>9.840515</td>\n",
       "    </tr>\n",
       "    <tr>\n",
       "      <th>1</th>\n",
       "      <td>9.325997</td>\n",
       "      <td>9.316101</td>\n",
       "      <td>9.306221</td>\n",
       "    </tr>\n",
       "    <tr>\n",
       "      <th>2</th>\n",
       "      <td>8.654737</td>\n",
       "      <td>8.647831</td>\n",
       "      <td>8.647895</td>\n",
       "    </tr>\n",
       "    <tr>\n",
       "      <th>3</th>\n",
       "      <td>8.866700</td>\n",
       "      <td>8.863373</td>\n",
       "      <td>8.863447</td>\n",
       "    </tr>\n",
       "    <tr>\n",
       "      <th>4</th>\n",
       "      <td>9.985111</td>\n",
       "      <td>9.988617</td>\n",
       "      <td>9.981252</td>\n",
       "    </tr>\n",
       "  </tbody>\n",
       "</table>\n",
       "</div>"
      ],
      "text/plain": [
       "          0         1         2\n",
       "0  9.842920  9.842694  9.840515\n",
       "1  9.325997  9.316101  9.306221\n",
       "2  8.654737  8.647831  8.647895\n",
       "3  8.866700  8.863373  8.863447\n",
       "4  9.985111  9.988617  9.981252"
      ]
     },
     "execution_count": 6,
     "metadata": {},
     "output_type": "execute_result"
    }
   ],
   "source": [
    "df = pd.DataFrame(y_pred_final_xgb)\n",
    "df.head()"
   ]
  },
  {
   "cell_type": "code",
   "execution_count": null,
   "metadata": {
    "id": "W2c88MvxXm65",
    "papermill": {
     "duration": 0.037629,
     "end_time": "2021-04-07T11:14:24.553685",
     "exception": false,
     "start_time": "2021-04-07T11:14:24.516056",
     "status": "completed"
    },
    "tags": []
   },
   "outputs": [],
   "source": []
  }
 ],
 "metadata": {
  "kernelspec": {
   "display_name": "Python 3",
   "language": "python",
   "name": "python3"
  },
  "language_info": {
   "codemirror_mode": {
    "name": "ipython",
    "version": 3
   },
   "file_extension": ".py",
   "mimetype": "text/x-python",
   "name": "python",
   "nbconvert_exporter": "python",
   "pygments_lexer": "ipython3",
   "version": "3.7.9"
  },
  "papermill": {
   "default_parameters": {},
   "duration": 1416.45555,
   "end_time": "2021-04-07T11:14:25.801649",
   "environment_variables": {},
   "exception": null,
   "input_path": "__notebook__.ipynb",
   "output_path": "__notebook__.ipynb",
   "parameters": {},
   "start_time": "2021-04-07T10:50:49.346099",
   "version": "2.2.2"
  }
 },
 "nbformat": 4,
 "nbformat_minor": 4
}
