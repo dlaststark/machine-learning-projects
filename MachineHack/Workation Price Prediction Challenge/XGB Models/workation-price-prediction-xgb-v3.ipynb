{
 "cells": [
  {
   "cell_type": "markdown",
   "metadata": {
    "id": "uLz9OcH8SeET",
    "papermill": {
     "duration": 0.009029,
     "end_time": "2021-04-07T10:53:01.254264",
     "exception": false,
     "start_time": "2021-04-07T10:53:01.245235",
     "status": "completed"
    },
    "tags": []
   },
   "source": [
    "## Import libraries"
   ]
  },
  {
   "cell_type": "code",
   "execution_count": 1,
   "metadata": {
    "execution": {
     "iopub.execute_input": "2021-04-07T10:53:01.276748Z",
     "iopub.status.busy": "2021-04-07T10:53:01.275957Z",
     "iopub.status.idle": "2021-04-07T10:53:12.779829Z",
     "shell.execute_reply": "2021-04-07T10:53:12.778448Z"
    },
    "executionInfo": {
     "elapsed": 23727,
     "status": "ok",
     "timestamp": 1616326442041,
     "user": {
      "displayName": "TAPAS DAS",
      "photoUrl": "https://lh3.googleusercontent.com/a-/AOh14GiyffdGKiPCR_UwVittzTcbBFms70IkGfU15fatCA=s64",
      "userId": "10798398878324948542"
     },
     "user_tz": -330
    },
    "id": "E9svswc9SUuX",
    "papermill": {
     "duration": 11.517768,
     "end_time": "2021-04-07T10:53:12.780070",
     "exception": false,
     "start_time": "2021-04-07T10:53:01.262302",
     "status": "completed"
    },
    "tags": []
   },
   "outputs": [],
   "source": [
    "import gc\n",
    "import pickle\n",
    "import numpy as np\n",
    "import pandas as pd\n",
    "from xgboost import XGBRegressor\n",
    "from sklearn.model_selection import StratifiedKFold\n",
    "from sklearn.metrics import mean_squared_log_error\n",
    "from tensorflow.keras.models import Model, load_model\n",
    "from tensorflow_addons.optimizers import AdamW, Lookahead"
   ]
  },
  {
   "cell_type": "markdown",
   "metadata": {
    "id": "hg85SpW-S6hl",
    "papermill": {
     "duration": 0.007237,
     "end_time": "2021-04-07T10:53:12.796473",
     "exception": false,
     "start_time": "2021-04-07T10:53:12.789236",
     "status": "completed"
    },
    "tags": []
   },
   "source": [
    "## Prepare data for model training"
   ]
  },
  {
   "cell_type": "code",
   "execution_count": 2,
   "metadata": {
    "execution": {
     "iopub.execute_input": "2021-04-07T10:53:12.822353Z",
     "iopub.status.busy": "2021-04-07T10:53:12.821621Z",
     "iopub.status.idle": "2021-04-07T10:53:22.133282Z",
     "shell.execute_reply": "2021-04-07T10:53:22.132733Z"
    },
    "executionInfo": {
     "elapsed": 10043,
     "status": "ok",
     "timestamp": 1616326444482,
     "user": {
      "displayName": "TAPAS DAS",
      "photoUrl": "https://lh3.googleusercontent.com/a-/AOh14GiyffdGKiPCR_UwVittzTcbBFms70IkGfU15fatCA=s64",
      "userId": "10798398878324948542"
     },
     "user_tz": -330
    },
    "id": "VdhgoIAmSUxK",
    "outputId": "7897cfad-c8d4-46d9-86ea-04de37e11444",
    "papermill": {
     "duration": 9.329201,
     "end_time": "2021-04-07T10:53:22.133448",
     "exception": false,
     "start_time": "2021-04-07T10:53:12.804247",
     "status": "completed"
    },
    "tags": []
   },
   "outputs": [
    {
     "data": {
      "text/plain": [
       "53"
      ]
     },
     "execution_count": 2,
     "metadata": {},
     "output_type": "execute_result"
    }
   ],
   "source": [
    "with open(\"../input/workation-price-prediction-preprocess-data-v3/Workation_Dataset.txt\", 'rb') as handle: \n",
    "    data = handle.read()\n",
    "\n",
    "processed_data = pickle.loads(data)\n",
    "train_df = processed_data['train_df']\n",
    "test_df = processed_data['test_df']\n",
    "\n",
    "train_df = train_df[~((train_df['Per Person Price'] < 7.3) | (np.exp(train_df['Per Person Price']) > 150000))].copy()\n",
    "\n",
    "del processed_data\n",
    "gc.collect()"
   ]
  },
  {
   "cell_type": "code",
   "execution_count": 3,
   "metadata": {
    "execution": {
     "iopub.execute_input": "2021-04-07T10:53:22.159094Z",
     "iopub.status.busy": "2021-04-07T10:53:22.157974Z",
     "iopub.status.idle": "2021-04-07T10:53:23.101676Z",
     "shell.execute_reply": "2021-04-07T10:53:23.101102Z"
    },
    "executionInfo": {
     "elapsed": 2058,
     "status": "ok",
     "timestamp": 1616326525321,
     "user": {
      "displayName": "TAPAS DAS",
      "photoUrl": "https://lh3.googleusercontent.com/a-/AOh14GiyffdGKiPCR_UwVittzTcbBFms70IkGfU15fatCA=s64",
      "userId": "10798398878324948542"
     },
     "user_tz": -330
    },
    "id": "UAfyHbeASU7C",
    "outputId": "14c429a7-7b43-4065-afae-da7d4f6679a9",
    "papermill": {
     "duration": 0.959539,
     "end_time": "2021-04-07T10:53:23.101859",
     "exception": false,
     "start_time": "2021-04-07T10:53:22.142320",
     "status": "completed"
    },
    "tags": []
   },
   "outputs": [
    {
     "name": "stdout",
     "output_type": "stream",
     "text": [
      "Xtrain: (20989, 4728) \n",
      "Ytrain: (20989,) \n",
      "Xtest: (9000, 4728)\n"
     ]
    },
    {
     "data": {
      "text/plain": [
       "20"
      ]
     },
     "execution_count": 3,
     "metadata": {},
     "output_type": "execute_result"
    }
   ],
   "source": [
    "Xtrain = train_df.loc[:, train_df.columns != 'Per Person Price'].values\n",
    "Ytrain = train_df['Per Person Price'].values\n",
    "Ytrain_strat = pd.qcut(train_df['Per Person Price'].values, q=10, labels=range(0,10))\n",
    "Xtest = test_df.values\n",
    "\n",
    "print(\"Xtrain: {} \\nYtrain: {} \\nXtest: {}\".format(Xtrain.shape, Ytrain.shape, Xtest.shape))\n",
    "\n",
    "del train_df\n",
    "del test_df\n",
    "gc.collect()"
   ]
  },
  {
   "cell_type": "markdown",
   "metadata": {
    "id": "9wNC5rWEVnjd",
    "papermill": {
     "duration": 0.008364,
     "end_time": "2021-04-07T10:53:23.119269",
     "exception": false,
     "start_time": "2021-04-07T10:53:23.110905",
     "status": "completed"
    },
    "tags": []
   },
   "source": [
    "## Build and validate the model"
   ]
  },
  {
   "cell_type": "code",
   "execution_count": 4,
   "metadata": {
    "execution": {
     "iopub.execute_input": "2021-04-07T10:53:23.152936Z",
     "iopub.status.busy": "2021-04-07T10:53:23.151836Z",
     "iopub.status.idle": "2021-04-07T11:19:27.351695Z",
     "shell.execute_reply": "2021-04-07T11:19:27.351171Z"
    },
    "id": "uWPosEORSVBp",
    "outputId": "d70ac047-a86b-4f36-84cc-960b1b5316be",
    "papermill": {
     "duration": 1564.2234,
     "end_time": "2021-04-07T11:19:27.351902",
     "exception": false,
     "start_time": "2021-04-07T10:53:23.128502",
     "status": "completed"
    },
    "tags": []
   },
   "outputs": [
    {
     "name": "stdout",
     "output_type": "stream",
     "text": [
      "[0]\tvalidation_0-rmse:8.59285\tvalidation_1-rmse:8.59295\n",
      "[50]\tvalidation_0-rmse:0.21585\tvalidation_1-rmse:0.25369\n",
      "[99]\tvalidation_0-rmse:0.08940\tvalidation_1-rmse:0.16473\n",
      "Seed-24 | Fold-0 | OOF Score: 0.015229091991650612\n",
      "[0]\tvalidation_0-rmse:8.59307\tvalidation_1-rmse:8.59086\n",
      "[50]\tvalidation_0-rmse:0.21686\tvalidation_1-rmse:0.24239\n",
      "[99]\tvalidation_0-rmse:0.09042\tvalidation_1-rmse:0.15703\n",
      "Seed-24 | Fold-1 | OOF Score: 0.014576357017580307\n",
      "[0]\tvalidation_0-rmse:8.59280\tvalidation_1-rmse:8.59325\n",
      "[50]\tvalidation_0-rmse:0.21702\tvalidation_1-rmse:0.24759\n",
      "[99]\tvalidation_0-rmse:0.09080\tvalidation_1-rmse:0.15632\n",
      "Seed-24 | Fold-2 | OOF Score: 0.014429691760958747\n",
      "[0]\tvalidation_0-rmse:8.59295\tvalidation_1-rmse:8.59221\n",
      "[50]\tvalidation_0-rmse:0.21661\tvalidation_1-rmse:0.24601\n",
      "[99]\tvalidation_0-rmse:0.08978\tvalidation_1-rmse:0.16486\n",
      "Seed-24 | Fold-3 | OOF Score: 0.015207567883122932\n",
      "[0]\tvalidation_0-rmse:8.59276\tvalidation_1-rmse:8.59397\n",
      "[50]\tvalidation_0-rmse:0.21687\tvalidation_1-rmse:0.24534\n",
      "[99]\tvalidation_0-rmse:0.09038\tvalidation_1-rmse:0.16012\n",
      "Seed-24 | Fold-4 | OOF Score: 0.014846183429972792\n",
      "[0]\tvalidation_0-rmse:8.59256\tvalidation_1-rmse:8.59549\n",
      "[50]\tvalidation_0-rmse:0.21698\tvalidation_1-rmse:0.25122\n",
      "[99]\tvalidation_0-rmse:0.09090\tvalidation_1-rmse:0.16440\n",
      "Seed-24 | Fold-5 | OOF Score: 0.015125643987758973\n",
      "[0]\tvalidation_0-rmse:8.59310\tvalidation_1-rmse:8.59156\n",
      "[50]\tvalidation_0-rmse:0.21673\tvalidation_1-rmse:0.25351\n",
      "[99]\tvalidation_0-rmse:0.09048\tvalidation_1-rmse:0.16406\n",
      "Seed-24 | Fold-6 | OOF Score: 0.015226626668679081\n",
      "[0]\tvalidation_0-rmse:8.59293\tvalidation_1-rmse:8.59251\n",
      "[50]\tvalidation_0-rmse:0.21684\tvalidation_1-rmse:0.25304\n",
      "[99]\tvalidation_0-rmse:0.08923\tvalidation_1-rmse:0.16706\n",
      "Seed-24 | Fold-7 | OOF Score: 0.015442799039131453\n",
      "[0]\tvalidation_0-rmse:8.59270\tvalidation_1-rmse:8.59496\n",
      "[50]\tvalidation_0-rmse:0.21646\tvalidation_1-rmse:0.25272\n",
      "[99]\tvalidation_0-rmse:0.08979\tvalidation_1-rmse:0.16712\n",
      "Seed-24 | Fold-8 | OOF Score: 0.015434029273370873\n",
      "[0]\tvalidation_0-rmse:8.59298\tvalidation_1-rmse:8.59172\n",
      "[50]\tvalidation_0-rmse:0.21703\tvalidation_1-rmse:0.25226\n",
      "[99]\tvalidation_0-rmse:0.09092\tvalidation_1-rmse:0.16629\n",
      "Seed-24 | Fold-9 | OOF Score: 0.015413155928903115\n",
      "\n",
      "Seed: 24 | Aggregate OOF Score: 0.015093114698112888\n",
      "\n",
      "\n",
      "[0]\tvalidation_0-rmse:8.59245\tvalidation_1-rmse:8.59695\n",
      "[50]\tvalidation_0-rmse:0.21698\tvalidation_1-rmse:0.24941\n",
      "[99]\tvalidation_0-rmse:0.09055\tvalidation_1-rmse:0.16124\n",
      "Seed-3 | Fold-0 | OOF Score: 0.014906263243942107\n",
      "[0]\tvalidation_0-rmse:8.59256\tvalidation_1-rmse:8.59555\n",
      "[50]\tvalidation_0-rmse:0.21629\tvalidation_1-rmse:0.25425\n",
      "[99]\tvalidation_0-rmse:0.09005\tvalidation_1-rmse:0.17182\n",
      "Seed-3 | Fold-1 | OOF Score: 0.015714859772413665\n",
      "[0]\tvalidation_0-rmse:8.59311\tvalidation_1-rmse:8.59060\n",
      "[50]\tvalidation_0-rmse:0.21627\tvalidation_1-rmse:0.24705\n",
      "[99]\tvalidation_0-rmse:0.08952\tvalidation_1-rmse:0.16376\n",
      "Seed-3 | Fold-2 | OOF Score: 0.015174059462864735\n",
      "[0]\tvalidation_0-rmse:8.59312\tvalidation_1-rmse:8.59034\n",
      "[50]\tvalidation_0-rmse:0.21668\tvalidation_1-rmse:0.24985\n",
      "[99]\tvalidation_0-rmse:0.08997\tvalidation_1-rmse:0.15939\n",
      "Seed-3 | Fold-3 | OOF Score: 0.014704377803088135\n",
      "[0]\tvalidation_0-rmse:8.59296\tvalidation_1-rmse:8.59190\n",
      "[50]\tvalidation_0-rmse:0.21671\tvalidation_1-rmse:0.24828\n",
      "[99]\tvalidation_0-rmse:0.09054\tvalidation_1-rmse:0.16307\n",
      "Seed-3 | Fold-4 | OOF Score: 0.015191826075277895\n",
      "[0]\tvalidation_0-rmse:8.59266\tvalidation_1-rmse:8.59544\n",
      "[50]\tvalidation_0-rmse:0.21644\tvalidation_1-rmse:0.25113\n",
      "[99]\tvalidation_0-rmse:0.08865\tvalidation_1-rmse:0.16143\n",
      "Seed-3 | Fold-5 | OOF Score: 0.015057606118067807\n",
      "[0]\tvalidation_0-rmse:8.59338\tvalidation_1-rmse:8.58781\n",
      "[50]\tvalidation_0-rmse:0.21681\tvalidation_1-rmse:0.24313\n",
      "[99]\tvalidation_0-rmse:0.09022\tvalidation_1-rmse:0.15313\n",
      "Seed-3 | Fold-6 | OOF Score: 0.014255355768956226\n",
      "[0]\tvalidation_0-rmse:8.59281\tvalidation_1-rmse:8.59385\n",
      "[50]\tvalidation_0-rmse:0.21689\tvalidation_1-rmse:0.25710\n",
      "[99]\tvalidation_0-rmse:0.09023\tvalidation_1-rmse:0.16440\n",
      "Seed-3 | Fold-7 | OOF Score: 0.015132097075227039\n",
      "[0]\tvalidation_0-rmse:8.59285\tvalidation_1-rmse:8.59315\n",
      "[50]\tvalidation_0-rmse:0.21699\tvalidation_1-rmse:0.24532\n",
      "[99]\tvalidation_0-rmse:0.09134\tvalidation_1-rmse:0.15567\n",
      "Seed-3 | Fold-8 | OOF Score: 0.014362902417797967\n",
      "[0]\tvalidation_0-rmse:8.59288\tvalidation_1-rmse:8.59348\n",
      "[50]\tvalidation_0-rmse:0.21676\tvalidation_1-rmse:0.24755\n",
      "[99]\tvalidation_0-rmse:0.08999\tvalidation_1-rmse:0.16609\n",
      "Seed-3 | Fold-9 | OOF Score: 0.015301592669470492\n",
      "\n",
      "Seed: 3 | Aggregate OOF Score: 0.014980094040710606\n",
      "\n",
      "\n",
      "[0]\tvalidation_0-rmse:8.59278\tvalidation_1-rmse:8.59349\n",
      "[50]\tvalidation_0-rmse:0.21653\tvalidation_1-rmse:0.24599\n",
      "[99]\tvalidation_0-rmse:0.09028\tvalidation_1-rmse:0.15980\n",
      "Seed-56 | Fold-0 | OOF Score: 0.014851499142114432\n",
      "[0]\tvalidation_0-rmse:8.59314\tvalidation_1-rmse:8.58995\n",
      "[50]\tvalidation_0-rmse:0.21619\tvalidation_1-rmse:0.25833\n",
      "[99]\tvalidation_0-rmse:0.08991\tvalidation_1-rmse:0.17334\n",
      "Seed-56 | Fold-1 | OOF Score: 0.016041935471903294\n",
      "[0]\tvalidation_0-rmse:8.59304\tvalidation_1-rmse:8.59184\n",
      "[50]\tvalidation_0-rmse:0.21718\tvalidation_1-rmse:0.24380\n",
      "[99]\tvalidation_0-rmse:0.09059\tvalidation_1-rmse:0.15918\n",
      "Seed-56 | Fold-2 | OOF Score: 0.014738227672286245\n",
      "[0]\tvalidation_0-rmse:8.59273\tvalidation_1-rmse:8.59477\n",
      "[50]\tvalidation_0-rmse:0.21706\tvalidation_1-rmse:0.24447\n",
      "[99]\tvalidation_0-rmse:0.09197\tvalidation_1-rmse:0.15396\n",
      "Seed-56 | Fold-3 | OOF Score: 0.014257008812776962\n",
      "[0]\tvalidation_0-rmse:8.59276\tvalidation_1-rmse:8.59362\n",
      "[50]\tvalidation_0-rmse:0.21696\tvalidation_1-rmse:0.24638\n",
      "[99]\tvalidation_0-rmse:0.09049\tvalidation_1-rmse:0.16209\n",
      "Seed-56 | Fold-4 | OOF Score: 0.014972247241041152\n",
      "[0]\tvalidation_0-rmse:8.59261\tvalidation_1-rmse:8.59532\n",
      "[50]\tvalidation_0-rmse:0.21692\tvalidation_1-rmse:0.25238\n",
      "[99]\tvalidation_0-rmse:0.08979\tvalidation_1-rmse:0.16480\n",
      "Seed-56 | Fold-5 | OOF Score: 0.015308493088152037\n",
      "[0]\tvalidation_0-rmse:8.59318\tvalidation_1-rmse:8.59101\n",
      "[50]\tvalidation_0-rmse:0.21672\tvalidation_1-rmse:0.25446\n",
      "[99]\tvalidation_0-rmse:0.08989\tvalidation_1-rmse:0.16641\n",
      "Seed-56 | Fold-6 | OOF Score: 0.015405939699717854\n",
      "[0]\tvalidation_0-rmse:8.59316\tvalidation_1-rmse:8.59037\n",
      "[50]\tvalidation_0-rmse:0.21688\tvalidation_1-rmse:0.25144\n",
      "[99]\tvalidation_0-rmse:0.09005\tvalidation_1-rmse:0.16479\n",
      "Seed-56 | Fold-7 | OOF Score: 0.015290694571167555\n",
      "[0]\tvalidation_0-rmse:8.59259\tvalidation_1-rmse:8.59572\n",
      "[50]\tvalidation_0-rmse:0.21630\tvalidation_1-rmse:0.25811\n",
      "[99]\tvalidation_0-rmse:0.08913\tvalidation_1-rmse:0.16925\n",
      "Seed-56 | Fold-8 | OOF Score: 0.01549105085219942\n",
      "[0]\tvalidation_0-rmse:8.59281\tvalidation_1-rmse:8.59358\n",
      "[50]\tvalidation_0-rmse:0.21674\tvalidation_1-rmse:0.24962\n",
      "[99]\tvalidation_0-rmse:0.09039\tvalidation_1-rmse:0.16497\n",
      "Seed-56 | Fold-9 | OOF Score: 0.015236985221389145\n",
      "\n",
      "Seed: 56 | Aggregate OOF Score: 0.015159408177274809\n",
      "\n",
      "\n",
      "Aggregate OOF Score: 0.015077538972032768\n"
     ]
    }
   ],
   "source": [
    "FOLD = 10\n",
    "NUM_SEED = 3\n",
    "\n",
    "np.random.seed(3)\n",
    "seeds = np.random.randint(0, 100, size=NUM_SEED)\n",
    "\n",
    "oof_score = 0\n",
    "y_pred_meta_xgb = np.zeros((Ytrain.shape[0], NUM_SEED))\n",
    "y_pred_final_xgb = np.zeros((Xtest.shape[0], NUM_SEED))\n",
    "counter = 0\n",
    "\n",
    "\n",
    "for sidx, seed in enumerate(seeds):\n",
    "    seed_score = 0\n",
    "    \n",
    "    kfold = StratifiedKFold(n_splits=FOLD, shuffle=True, random_state=seed)\n",
    "\n",
    "    for idx, (train, val) in enumerate(kfold.split(Xtrain, Ytrain_strat)):\n",
    "        counter += 1\n",
    "\n",
    "        train_x, train_y = Xtrain[train], Ytrain[train]\n",
    "        val_x, val_y = Xtrain[val], Ytrain[val]\n",
    "\n",
    "        model = XGBRegressor(\n",
    "            objective='reg:squarederror',\n",
    "            eval_metric='rmse',\n",
    "            booster='gbtree',\n",
    "            sample_type='uniform',\n",
    "            tree_method='gpu_hist',\n",
    "            grow_policy='lossguide',\n",
    "            num_round=8000,\n",
    "            max_depth=11, \n",
    "            max_leaves=345,\n",
    "            learning_rate=0.074,\n",
    "            subsample=0.984,\n",
    "            colsample_bytree=0.675,\n",
    "            min_child_weight=7,\n",
    "            reg_lambda=0.152,\n",
    "            verbosity=0\n",
    "        )\n",
    "\n",
    "        model.fit(train_x, train_y, eval_set=[(train_x, train_y), (val_x, val_y)], \n",
    "                  early_stopping_rounds=200, verbose=50)\n",
    "\n",
    "        y_pred = model.predict(val_x, ntree_limit=model.best_ntree_limit)\n",
    "        y_pred_meta_xgb[val, sidx] += y_pred\n",
    "        y_pred_final_xgb[:, sidx] += model.predict(Xtest, ntree_limit=model.best_ntree_limit)\n",
    "        \n",
    "        score = np.sqrt(mean_squared_log_error(val_y, y_pred))\n",
    "        oof_score += score\n",
    "        seed_score += score\n",
    "        print(\"Seed-{} | Fold-{} | OOF Score: {}\".format(seed, idx, score))\n",
    "    \n",
    "    print(\"\\nSeed: {} | Aggregate OOF Score: {}\\n\\n\".format(seed, (seed_score / FOLD)))\n",
    "\n",
    "\n",
    "y_pred_final_xgb = y_pred_final_xgb / float(FOLD)\n",
    "oof_score /= float(counter)\n",
    "print(\"Aggregate OOF Score: {}\".format(oof_score))"
   ]
  },
  {
   "cell_type": "code",
   "execution_count": 5,
   "metadata": {
    "execution": {
     "iopub.execute_input": "2021-04-07T11:19:27.455774Z",
     "iopub.status.busy": "2021-04-07T11:19:27.454923Z",
     "iopub.status.idle": "2021-04-07T11:19:27.528980Z",
     "shell.execute_reply": "2021-04-07T11:19:27.528430Z"
    },
    "id": "uLzmS7LzXvXy",
    "papermill": {
     "duration": 0.127042,
     "end_time": "2021-04-07T11:19:27.529136",
     "exception": false,
     "start_time": "2021-04-07T11:19:27.402094",
     "status": "completed"
    },
    "tags": []
   },
   "outputs": [],
   "source": [
    "np.savez_compressed('./XGB_Meta_Features.npz',\n",
    "                    y_pred_meta_xgb=y_pred_meta_xgb, \n",
    "                    oof_score=oof_score,\n",
    "                    y_pred_final_xgb=y_pred_final_xgb)"
   ]
  },
  {
   "cell_type": "code",
   "execution_count": 6,
   "metadata": {
    "execution": {
     "iopub.execute_input": "2021-04-07T11:19:27.633518Z",
     "iopub.status.busy": "2021-04-07T11:19:27.632828Z",
     "iopub.status.idle": "2021-04-07T11:19:27.642753Z",
     "shell.execute_reply": "2021-04-07T11:19:27.643330Z"
    },
    "executionInfo": {
     "elapsed": 3141,
     "status": "ok",
     "timestamp": 1616223489651,
     "user": {
      "displayName": "TAPAS DAS",
      "photoUrl": "https://lh3.googleusercontent.com/a-/AOh14GiyffdGKiPCR_UwVittzTcbBFms70IkGfU15fatCA=s64",
      "userId": "10798398878324948542"
     },
     "user_tz": -330
    },
    "id": "zGEGOAJHVoHV",
    "outputId": "11f9ca4c-9cca-46f6-b9a6-907ad0a09927",
    "papermill": {
     "duration": 0.067255,
     "end_time": "2021-04-07T11:19:27.643479",
     "exception": false,
     "start_time": "2021-04-07T11:19:27.576224",
     "status": "completed"
    },
    "tags": []
   },
   "outputs": [
    {
     "data": {
      "text/html": [
       "<div>\n",
       "<style scoped>\n",
       "    .dataframe tbody tr th:only-of-type {\n",
       "        vertical-align: middle;\n",
       "    }\n",
       "\n",
       "    .dataframe tbody tr th {\n",
       "        vertical-align: top;\n",
       "    }\n",
       "\n",
       "    .dataframe thead th {\n",
       "        text-align: right;\n",
       "    }\n",
       "</style>\n",
       "<table border=\"1\" class=\"dataframe\">\n",
       "  <thead>\n",
       "    <tr style=\"text-align: right;\">\n",
       "      <th></th>\n",
       "      <th>0</th>\n",
       "      <th>1</th>\n",
       "      <th>2</th>\n",
       "    </tr>\n",
       "  </thead>\n",
       "  <tbody>\n",
       "    <tr>\n",
       "      <th>0</th>\n",
       "      <td>9.852921</td>\n",
       "      <td>9.846199</td>\n",
       "      <td>9.842161</td>\n",
       "    </tr>\n",
       "    <tr>\n",
       "      <th>1</th>\n",
       "      <td>9.311620</td>\n",
       "      <td>9.302534</td>\n",
       "      <td>9.316518</td>\n",
       "    </tr>\n",
       "    <tr>\n",
       "      <th>2</th>\n",
       "      <td>8.598494</td>\n",
       "      <td>8.594187</td>\n",
       "      <td>8.599401</td>\n",
       "    </tr>\n",
       "    <tr>\n",
       "      <th>3</th>\n",
       "      <td>8.888022</td>\n",
       "      <td>8.885744</td>\n",
       "      <td>8.894131</td>\n",
       "    </tr>\n",
       "    <tr>\n",
       "      <th>4</th>\n",
       "      <td>9.967746</td>\n",
       "      <td>9.967353</td>\n",
       "      <td>9.976128</td>\n",
       "    </tr>\n",
       "  </tbody>\n",
       "</table>\n",
       "</div>"
      ],
      "text/plain": [
       "          0         1         2\n",
       "0  9.852921  9.846199  9.842161\n",
       "1  9.311620  9.302534  9.316518\n",
       "2  8.598494  8.594187  8.599401\n",
       "3  8.888022  8.885744  8.894131\n",
       "4  9.967746  9.967353  9.976128"
      ]
     },
     "execution_count": 6,
     "metadata": {},
     "output_type": "execute_result"
    }
   ],
   "source": [
    "df = pd.DataFrame(y_pred_final_xgb)\n",
    "df.head()"
   ]
  },
  {
   "cell_type": "code",
   "execution_count": null,
   "metadata": {
    "id": "W2c88MvxXm65",
    "papermill": {
     "duration": 0.047512,
     "end_time": "2021-04-07T11:19:27.739174",
     "exception": false,
     "start_time": "2021-04-07T11:19:27.691662",
     "status": "completed"
    },
    "tags": []
   },
   "outputs": [],
   "source": []
  }
 ],
 "metadata": {
  "kernelspec": {
   "display_name": "Python 3",
   "language": "python",
   "name": "python3"
  },
  "language_info": {
   "codemirror_mode": {
    "name": "ipython",
    "version": 3
   },
   "file_extension": ".py",
   "mimetype": "text/x-python",
   "name": "python",
   "nbconvert_exporter": "python",
   "pygments_lexer": "ipython3",
   "version": "3.7.9"
  },
  "papermill": {
   "default_parameters": {},
   "duration": 1594.416588,
   "end_time": "2021-04-07T11:19:29.805010",
   "environment_variables": {},
   "exception": null,
   "input_path": "__notebook__.ipynb",
   "output_path": "__notebook__.ipynb",
   "parameters": {},
   "start_time": "2021-04-07T10:52:55.388422",
   "version": "2.2.2"
  }
 },
 "nbformat": 4,
 "nbformat_minor": 4
}
