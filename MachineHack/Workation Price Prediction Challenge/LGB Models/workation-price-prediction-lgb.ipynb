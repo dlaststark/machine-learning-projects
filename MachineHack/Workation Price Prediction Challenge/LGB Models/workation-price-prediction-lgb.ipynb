{
 "cells": [
  {
   "cell_type": "markdown",
   "id": "835015e8",
   "metadata": {
    "id": "uLz9OcH8SeET",
    "papermill": {
     "duration": 0.008534,
     "end_time": "2021-04-07T13:20:58.469464",
     "exception": false,
     "start_time": "2021-04-07T13:20:58.460930",
     "status": "completed"
    },
    "tags": []
   },
   "source": [
    "## Import libraries"
   ]
  },
  {
   "cell_type": "code",
   "execution_count": 1,
   "id": "3b8b4ae7",
   "metadata": {
    "execution": {
     "iopub.execute_input": "2021-04-07T13:20:58.490963Z",
     "iopub.status.busy": "2021-04-07T13:20:58.490350Z",
     "iopub.status.idle": "2021-04-07T13:20:59.529444Z",
     "shell.execute_reply": "2021-04-07T13:20:59.528861Z"
    },
    "executionInfo": {
     "elapsed": 18546,
     "status": "ok",
     "timestamp": 1616326755679,
     "user": {
      "displayName": "TAPAS DAS",
      "photoUrl": "https://lh3.googleusercontent.com/a-/AOh14GiyffdGKiPCR_UwVittzTcbBFms70IkGfU15fatCA=s64",
      "userId": "10798398878324948542"
     },
     "user_tz": -330
    },
    "id": "E9svswc9SUuX",
    "papermill": {
     "duration": 1.052495,
     "end_time": "2021-04-07T13:20:59.529629",
     "exception": false,
     "start_time": "2021-04-07T13:20:58.477134",
     "status": "completed"
    },
    "tags": []
   },
   "outputs": [
    {
     "data": {
      "text/html": [
       "<style type='text/css'>\n",
       ".datatable table.frame { margin-bottom: 0; }\n",
       ".datatable table.frame thead { border-bottom: none; }\n",
       ".datatable table.frame tr.coltypes td {  color: #FFFFFF;  line-height: 6px;  padding: 0 0.5em;}\n",
       ".datatable .bool    { background: #DDDD99; }\n",
       ".datatable .object  { background: #565656; }\n",
       ".datatable .int     { background: #5D9E5D; }\n",
       ".datatable .float   { background: #4040CC; }\n",
       ".datatable .str     { background: #CC4040; }\n",
       ".datatable .row_index {  background: var(--jp-border-color3);  border-right: 1px solid var(--jp-border-color0);  color: var(--jp-ui-font-color3);  font-size: 9px;}\n",
       ".datatable .frame tr.coltypes .row_index {  background: var(--jp-border-color0);}\n",
       ".datatable th:nth-child(2) { padding-left: 12px; }\n",
       ".datatable .hellipsis {  color: var(--jp-cell-editor-border-color);}\n",
       ".datatable .vellipsis {  background: var(--jp-layout-color0);  color: var(--jp-cell-editor-border-color);}\n",
       ".datatable .na {  color: var(--jp-cell-editor-border-color);  font-size: 80%;}\n",
       ".datatable .footer { font-size: 9px; }\n",
       ".datatable .frame_dimensions {  background: var(--jp-border-color3);  border-top: 1px solid var(--jp-border-color0);  color: var(--jp-ui-font-color3);  display: inline-block;  opacity: 0.6;  padding: 1px 10px 1px 5px;}\n",
       "</style>\n"
      ],
      "text/plain": [
       "<IPython.core.display.HTML object>"
      ]
     },
     "metadata": {},
     "output_type": "display_data"
    }
   ],
   "source": [
    "import gc\n",
    "import pickle\n",
    "import numpy as np\n",
    "import pandas as pd\n",
    "import lightgbm as lgb\n",
    "from sklearn.model_selection import StratifiedKFold\n",
    "from sklearn.metrics import mean_squared_log_error"
   ]
  },
  {
   "cell_type": "markdown",
   "id": "6231642b",
   "metadata": {
    "id": "hg85SpW-S6hl",
    "papermill": {
     "duration": 0.007894,
     "end_time": "2021-04-07T13:20:59.546085",
     "exception": false,
     "start_time": "2021-04-07T13:20:59.538191",
     "status": "completed"
    },
    "tags": []
   },
   "source": [
    "## Prepare data for model training"
   ]
  },
  {
   "cell_type": "code",
   "execution_count": 2,
   "id": "39e7c2e7",
   "metadata": {
    "execution": {
     "iopub.execute_input": "2021-04-07T13:20:59.567328Z",
     "iopub.status.busy": "2021-04-07T13:20:59.566820Z",
     "iopub.status.idle": "2021-04-07T13:21:14.091034Z",
     "shell.execute_reply": "2021-04-07T13:21:14.091836Z"
    },
    "executionInfo": {
     "elapsed": 15266,
     "status": "ok",
     "timestamp": 1616326759527,
     "user": {
      "displayName": "TAPAS DAS",
      "photoUrl": "https://lh3.googleusercontent.com/a-/AOh14GiyffdGKiPCR_UwVittzTcbBFms70IkGfU15fatCA=s64",
      "userId": "10798398878324948542"
     },
     "user_tz": -330
    },
    "id": "VdhgoIAmSUxK",
    "outputId": "593389e9-9839-415d-bc72-10af58db79f5",
    "papermill": {
     "duration": 14.537916,
     "end_time": "2021-04-07T13:21:14.092000",
     "exception": false,
     "start_time": "2021-04-07T13:20:59.554084",
     "status": "completed"
    },
    "tags": []
   },
   "outputs": [
    {
     "data": {
      "text/plain": [
       "31"
      ]
     },
     "execution_count": 2,
     "metadata": {},
     "output_type": "execute_result"
    }
   ],
   "source": [
    "with open(\"../input/workation-price-prediction-preprocess-data/Workation_Dataset.txt\", 'rb') as handle: \n",
    "    data = handle.read()\n",
    "\n",
    "processed_data = pickle.loads(data)\n",
    "train_df = processed_data['train_df']\n",
    "test_df = processed_data['test_df']\n",
    "\n",
    "train_df = train_df[~((train_df['Per Person Price'] < 7.3) | (np.exp(train_df['Per Person Price']) > 150000))].copy()\n",
    "\n",
    "del processed_data\n",
    "gc.collect()"
   ]
  },
  {
   "cell_type": "code",
   "execution_count": 3,
   "id": "b9a08f70",
   "metadata": {
    "execution": {
     "iopub.execute_input": "2021-04-07T13:21:14.127979Z",
     "iopub.status.busy": "2021-04-07T13:21:14.127128Z",
     "iopub.status.idle": "2021-04-07T13:21:15.174111Z",
     "shell.execute_reply": "2021-04-07T13:21:15.175034Z"
    },
    "executionInfo": {
     "elapsed": 4738,
     "status": "ok",
     "timestamp": 1616326764348,
     "user": {
      "displayName": "TAPAS DAS",
      "photoUrl": "https://lh3.googleusercontent.com/a-/AOh14GiyffdGKiPCR_UwVittzTcbBFms70IkGfU15fatCA=s64",
      "userId": "10798398878324948542"
     },
     "user_tz": -330
    },
    "id": "UAfyHbeASU7C",
    "outputId": "5f1e7e87-752b-4928-fab4-2f907d8c1e0c",
    "papermill": {
     "duration": 1.069692,
     "end_time": "2021-04-07T13:21:15.175223",
     "exception": false,
     "start_time": "2021-04-07T13:21:14.105531",
     "status": "completed"
    },
    "tags": []
   },
   "outputs": [
    {
     "name": "stdout",
     "output_type": "stream",
     "text": [
      "Xtrain: (20989, 4728) \n",
      "Ytrain: (20989,) \n",
      "Xtest: (9000, 4728)\n"
     ]
    },
    {
     "data": {
      "text/plain": [
       "0"
      ]
     },
     "execution_count": 3,
     "metadata": {},
     "output_type": "execute_result"
    }
   ],
   "source": [
    "Xtrain = train_df.loc[:, train_df.columns != 'Per Person Price'].values\n",
    "Ytrain = train_df['Per Person Price'].values\n",
    "Ytrain_strat = pd.qcut(train_df['Per Person Price'].values, q=10, labels=range(0,10))\n",
    "Xtest = test_df.values\n",
    "\n",
    "print(\"Xtrain: {} \\nYtrain: {} \\nXtest: {}\".format(Xtrain.shape, Ytrain.shape, Xtest.shape))\n",
    "\n",
    "del train_df\n",
    "del test_df\n",
    "gc.collect()"
   ]
  },
  {
   "cell_type": "markdown",
   "id": "f68e8213",
   "metadata": {
    "id": "9wNC5rWEVnjd",
    "papermill": {
     "duration": 0.013221,
     "end_time": "2021-04-07T13:21:15.202448",
     "exception": false,
     "start_time": "2021-04-07T13:21:15.189227",
     "status": "completed"
    },
    "tags": []
   },
   "source": [
    "## Build and validate the model"
   ]
  },
  {
   "cell_type": "code",
   "execution_count": 4,
   "id": "21aafc52",
   "metadata": {
    "execution": {
     "iopub.execute_input": "2021-04-07T13:21:15.237473Z",
     "iopub.status.busy": "2021-04-07T13:21:15.236782Z",
     "iopub.status.idle": "2021-04-07T13:21:15.240150Z",
     "shell.execute_reply": "2021-04-07T13:21:15.240696Z"
    },
    "executionInfo": {
     "elapsed": 1340,
     "status": "ok",
     "timestamp": 1616326770908,
     "user": {
      "displayName": "TAPAS DAS",
      "photoUrl": "https://lh3.googleusercontent.com/a-/AOh14GiyffdGKiPCR_UwVittzTcbBFms70IkGfU15fatCA=s64",
      "userId": "10798398878324948542"
     },
     "user_tz": -330
    },
    "id": "IhtH9c5va7WY",
    "papermill": {
     "duration": 0.025075,
     "end_time": "2021-04-07T13:21:15.240870",
     "exception": false,
     "start_time": "2021-04-07T13:21:15.215795",
     "status": "completed"
    },
    "tags": []
   },
   "outputs": [],
   "source": [
    "params = {}\n",
    "params[\"objective\"] = 'regression'\n",
    "params[\"metric\"] = 'rmse'\n",
    "params[\"boosting\"] = 'gbdt'\n",
    "params[\"device_type\"] = 'gpu'\n",
    "params[\"learning_rate\"] = 0.0204\n",
    "params[\"lambda_l2\"] = 0.00225\n",
    "params[\"num_leaves\"] = 71\n",
    "params[\"max_depth\"] = 10\n",
    "params[\"feature_fraction\"] = 0.7442\n",
    "params[\"bagging_fraction\"] = 0.89\n",
    "params[\"bagging_freq\"] = 10\n",
    "params[\"min_data_in_leaf\"] = 7\n",
    "params[\"verbosity\"] = -1\n",
    "num_rounds = 8000"
   ]
  },
  {
   "cell_type": "code",
   "execution_count": 5,
   "id": "17675f01",
   "metadata": {
    "execution": {
     "iopub.execute_input": "2021-04-07T13:21:15.280572Z",
     "iopub.status.busy": "2021-04-07T13:21:15.279825Z",
     "iopub.status.idle": "2021-04-07T16:44:49.580933Z",
     "shell.execute_reply": "2021-04-07T16:44:49.581780Z"
    },
    "executionInfo": {
     "elapsed": 226745,
     "status": "error",
     "timestamp": 1616326997825,
     "user": {
      "displayName": "TAPAS DAS",
      "photoUrl": "https://lh3.googleusercontent.com/a-/AOh14GiyffdGKiPCR_UwVittzTcbBFms70IkGfU15fatCA=s64",
      "userId": "10798398878324948542"
     },
     "user_tz": -330
    },
    "id": "uWPosEORSVBp",
    "outputId": "ecad76e6-e82d-4e4a-ef18-937bc0235495",
    "papermill": {
     "duration": 12214.326131,
     "end_time": "2021-04-07T16:44:49.581980",
     "exception": false,
     "start_time": "2021-04-07T13:21:15.255849",
     "status": "completed"
    },
    "tags": []
   },
   "outputs": [
    {
     "name": "stdout",
     "output_type": "stream",
     "text": [
      "Training until validation scores don't improve for 200 rounds\n",
      "[200]\ttraining's rmse: 0.143404\tvalid_1's rmse: 0.174682\n",
      "[400]\ttraining's rmse: 0.117762\tvalid_1's rmse: 0.165212\n",
      "[600]\ttraining's rmse: 0.106608\tvalid_1's rmse: 0.163124\n",
      "[800]\ttraining's rmse: 0.0976596\tvalid_1's rmse: 0.16224\n",
      "[1000]\ttraining's rmse: 0.090303\tvalid_1's rmse: 0.162211\n",
      "[1200]\ttraining's rmse: 0.0840269\tvalid_1's rmse: 0.162147\n",
      "Early stopping, best iteration is:\n",
      "[1058]\ttraining's rmse: 0.0883027\tvalid_1's rmse: 0.162025\n",
      "Seed-24 | Fold-0 | OOF Score: 0.014999144928142224\n",
      "Training until validation scores don't improve for 200 rounds\n",
      "[200]\ttraining's rmse: 0.1443\tvalid_1's rmse: 0.166562\n",
      "[400]\ttraining's rmse: 0.119551\tvalid_1's rmse: 0.157067\n",
      "[600]\ttraining's rmse: 0.107629\tvalid_1's rmse: 0.155403\n",
      "[800]\ttraining's rmse: 0.0985487\tvalid_1's rmse: 0.155022\n",
      "Early stopping, best iteration is:\n",
      "[770]\ttraining's rmse: 0.100321\tvalid_1's rmse: 0.154658\n",
      "Seed-24 | Fold-1 | OOF Score: 0.01435420416880881\n",
      "Training until validation scores don't improve for 200 rounds\n",
      "[200]\ttraining's rmse: 0.144529\tvalid_1's rmse: 0.171129\n",
      "[400]\ttraining's rmse: 0.119259\tvalid_1's rmse: 0.159023\n",
      "[600]\ttraining's rmse: 0.107924\tvalid_1's rmse: 0.155415\n",
      "[800]\ttraining's rmse: 0.0987185\tvalid_1's rmse: 0.154083\n",
      "[1000]\ttraining's rmse: 0.091331\tvalid_1's rmse: 0.153282\n",
      "[1200]\ttraining's rmse: 0.0842764\tvalid_1's rmse: 0.153274\n",
      "[1400]\ttraining's rmse: 0.0793246\tvalid_1's rmse: 0.153036\n",
      "Early stopping, best iteration is:\n",
      "[1380]\ttraining's rmse: 0.0798027\tvalid_1's rmse: 0.15291\n",
      "Seed-24 | Fold-2 | OOF Score: 0.014140710842552218\n",
      "Training until validation scores don't improve for 200 rounds\n",
      "[200]\ttraining's rmse: 0.144056\tvalid_1's rmse: 0.173443\n",
      "[400]\ttraining's rmse: 0.119229\tvalid_1's rmse: 0.16448\n",
      "[600]\ttraining's rmse: 0.10791\tvalid_1's rmse: 0.163366\n",
      "[800]\ttraining's rmse: 0.0986803\tvalid_1's rmse: 0.162638\n",
      "[1000]\ttraining's rmse: 0.0906042\tvalid_1's rmse: 0.162842\n",
      "Early stopping, best iteration is:\n",
      "[927]\ttraining's rmse: 0.0937029\tvalid_1's rmse: 0.162401\n",
      "Seed-24 | Fold-3 | OOF Score: 0.014997101372901849\n",
      "Training until validation scores don't improve for 200 rounds\n",
      "[200]\ttraining's rmse: 0.14476\tvalid_1's rmse: 0.168885\n",
      "[400]\ttraining's rmse: 0.119275\tvalid_1's rmse: 0.159323\n",
      "[600]\ttraining's rmse: 0.107601\tvalid_1's rmse: 0.157616\n",
      "[800]\ttraining's rmse: 0.0987964\tvalid_1's rmse: 0.157414\n",
      "Early stopping, best iteration is:\n",
      "[705]\ttraining's rmse: 0.102895\tvalid_1's rmse: 0.157289\n",
      "Seed-24 | Fold-4 | OOF Score: 0.01459342302470028\n",
      "Training until validation scores don't improve for 200 rounds\n",
      "[200]\ttraining's rmse: 0.144034\tvalid_1's rmse: 0.178068\n",
      "[400]\ttraining's rmse: 0.11978\tvalid_1's rmse: 0.166488\n",
      "[600]\ttraining's rmse: 0.107857\tvalid_1's rmse: 0.163608\n",
      "[800]\ttraining's rmse: 0.0986598\tvalid_1's rmse: 0.162789\n",
      "[1000]\ttraining's rmse: 0.0903286\tvalid_1's rmse: 0.162684\n",
      "Early stopping, best iteration is:\n",
      "[950]\ttraining's rmse: 0.0920704\tvalid_1's rmse: 0.162394\n",
      "Seed-24 | Fold-5 | OOF Score: 0.014977335860988612\n",
      "Training until validation scores don't improve for 200 rounds\n",
      "[200]\ttraining's rmse: 0.1444\tvalid_1's rmse: 0.173919\n",
      "[400]\ttraining's rmse: 0.119794\tvalid_1's rmse: 0.163663\n",
      "[600]\ttraining's rmse: 0.107919\tvalid_1's rmse: 0.161553\n",
      "[800]\ttraining's rmse: 0.098477\tvalid_1's rmse: 0.160742\n",
      "Early stopping, best iteration is:\n",
      "[768]\ttraining's rmse: 0.099773\tvalid_1's rmse: 0.160488\n",
      "Seed-24 | Fold-6 | OOF Score: 0.014912876584200927\n",
      "Training until validation scores don't improve for 200 rounds\n",
      "[200]\ttraining's rmse: 0.143674\tvalid_1's rmse: 0.178748\n",
      "[400]\ttraining's rmse: 0.118246\tvalid_1's rmse: 0.167361\n",
      "[600]\ttraining's rmse: 0.106288\tvalid_1's rmse: 0.164826\n",
      "[800]\ttraining's rmse: 0.0966108\tvalid_1's rmse: 0.164279\n",
      "[1000]\ttraining's rmse: 0.0894152\tvalid_1's rmse: 0.164154\n",
      "Early stopping, best iteration is:\n",
      "[958]\ttraining's rmse: 0.0909132\tvalid_1's rmse: 0.16401\n",
      "Seed-24 | Fold-7 | OOF Score: 0.015171976024721978\n",
      "Training until validation scores don't improve for 200 rounds\n",
      "[200]\ttraining's rmse: 0.143937\tvalid_1's rmse: 0.180547\n",
      "[400]\ttraining's rmse: 0.118678\tvalid_1's rmse: 0.16853\n",
      "[600]\ttraining's rmse: 0.107099\tvalid_1's rmse: 0.16559\n",
      "[800]\ttraining's rmse: 0.0984169\tvalid_1's rmse: 0.165183\n",
      "[1000]\ttraining's rmse: 0.0907889\tvalid_1's rmse: 0.165299\n",
      "Early stopping, best iteration is:\n",
      "[888]\ttraining's rmse: 0.0947992\tvalid_1's rmse: 0.164932\n",
      "Seed-24 | Fold-8 | OOF Score: 0.01524439330053248\n",
      "Training until validation scores don't improve for 200 rounds\n",
      "[200]\ttraining's rmse: 0.144103\tvalid_1's rmse: 0.178218\n",
      "[400]\ttraining's rmse: 0.118659\tvalid_1's rmse: 0.167874\n",
      "[600]\ttraining's rmse: 0.10684\tvalid_1's rmse: 0.165426\n",
      "[800]\ttraining's rmse: 0.0977469\tvalid_1's rmse: 0.16458\n",
      "[1000]\ttraining's rmse: 0.090447\tvalid_1's rmse: 0.163812\n",
      "[1200]\ttraining's rmse: 0.0839715\tvalid_1's rmse: 0.163606\n",
      "[1400]\ttraining's rmse: 0.0785263\tvalid_1's rmse: 0.163639\n",
      "Early stopping, best iteration is:\n",
      "[1290]\ttraining's rmse: 0.0814516\tvalid_1's rmse: 0.16338\n",
      "Seed-24 | Fold-9 | OOF Score: 0.015135290333161192\n",
      "\n",
      "Seed: 24 | Aggregate OOF Score: 0.014852645644071055\n",
      "\n",
      "\n",
      "Training until validation scores don't improve for 200 rounds\n",
      "[200]\ttraining's rmse: 0.144584\tvalid_1's rmse: 0.176005\n",
      "[400]\ttraining's rmse: 0.119845\tvalid_1's rmse: 0.165344\n",
      "[600]\ttraining's rmse: 0.10793\tvalid_1's rmse: 0.162744\n",
      "[800]\ttraining's rmse: 0.0987489\tvalid_1's rmse: 0.162087\n",
      "[1000]\ttraining's rmse: 0.0918615\tvalid_1's rmse: 0.161757\n",
      "Early stopping, best iteration is:\n",
      "[981]\ttraining's rmse: 0.0924558\tvalid_1's rmse: 0.161678\n",
      "Seed-3 | Fold-0 | OOF Score: 0.014960989174749683\n",
      "Training until validation scores don't improve for 200 rounds\n",
      "[200]\ttraining's rmse: 0.143081\tvalid_1's rmse: 0.18329\n",
      "[400]\ttraining's rmse: 0.118392\tvalid_1's rmse: 0.173163\n",
      "[600]\ttraining's rmse: 0.106444\tvalid_1's rmse: 0.170909\n",
      "[800]\ttraining's rmse: 0.0980773\tvalid_1's rmse: 0.170012\n",
      "[1000]\ttraining's rmse: 0.090838\tvalid_1's rmse: 0.169805\n",
      "[1200]\ttraining's rmse: 0.0848951\tvalid_1's rmse: 0.16978\n",
      "Early stopping, best iteration is:\n",
      "[1120]\ttraining's rmse: 0.0870798\tvalid_1's rmse: 0.169599\n",
      "Seed-3 | Fold-1 | OOF Score: 0.01552487978468379\n",
      "Training until validation scores don't improve for 200 rounds\n",
      "[200]\ttraining's rmse: 0.144438\tvalid_1's rmse: 0.173423\n",
      "[400]\ttraining's rmse: 0.119437\tvalid_1's rmse: 0.162596\n",
      "[600]\ttraining's rmse: 0.108121\tvalid_1's rmse: 0.160675\n",
      "[800]\ttraining's rmse: 0.0987953\tvalid_1's rmse: 0.160078\n",
      "[1000]\ttraining's rmse: 0.091053\tvalid_1's rmse: 0.16025\n",
      "Early stopping, best iteration is:\n",
      "[811]\ttraining's rmse: 0.0983813\tvalid_1's rmse: 0.16005\n",
      "Seed-3 | Fold-2 | OOF Score: 0.01486672324930443\n",
      "Training until validation scores don't improve for 200 rounds\n",
      "[200]\ttraining's rmse: 0.143855\tvalid_1's rmse: 0.175162\n",
      "[400]\ttraining's rmse: 0.120004\tvalid_1's rmse: 0.163846\n",
      "[600]\ttraining's rmse: 0.10821\tvalid_1's rmse: 0.16038\n",
      "[800]\ttraining's rmse: 0.0985415\tvalid_1's rmse: 0.159222\n",
      "[1000]\ttraining's rmse: 0.0913098\tvalid_1's rmse: 0.158547\n",
      "[1200]\ttraining's rmse: 0.0847502\tvalid_1's rmse: 0.158138\n",
      "[1400]\ttraining's rmse: 0.0790791\tvalid_1's rmse: 0.157949\n",
      "[1600]\ttraining's rmse: 0.0739944\tvalid_1's rmse: 0.15803\n",
      "Early stopping, best iteration is:\n",
      "[1503]\ttraining's rmse: 0.0765201\tvalid_1's rmse: 0.157874\n",
      "Seed-3 | Fold-3 | OOF Score: 0.014600497147535443\n",
      "Training until validation scores don't improve for 200 rounds\n",
      "[200]\ttraining's rmse: 0.143567\tvalid_1's rmse: 0.17389\n",
      "[400]\ttraining's rmse: 0.118247\tvalid_1's rmse: 0.16481\n",
      "[600]\ttraining's rmse: 0.107371\tvalid_1's rmse: 0.163196\n",
      "[800]\ttraining's rmse: 0.0979067\tvalid_1's rmse: 0.16281\n",
      "[1000]\ttraining's rmse: 0.0897815\tvalid_1's rmse: 0.162928\n",
      "Early stopping, best iteration is:\n",
      "[837]\ttraining's rmse: 0.0961705\tvalid_1's rmse: 0.162733\n",
      "Seed-3 | Fold-4 | OOF Score: 0.015178054051262041\n",
      "Training until validation scores don't improve for 200 rounds\n",
      "[200]\ttraining's rmse: 0.14444\tvalid_1's rmse: 0.173734\n",
      "[400]\ttraining's rmse: 0.118648\tvalid_1's rmse: 0.161802\n",
      "[600]\ttraining's rmse: 0.10787\tvalid_1's rmse: 0.159296\n",
      "[800]\ttraining's rmse: 0.0987489\tvalid_1's rmse: 0.158163\n",
      "[1000]\ttraining's rmse: 0.0905892\tvalid_1's rmse: 0.157573\n",
      "[1200]\ttraining's rmse: 0.0840313\tvalid_1's rmse: 0.157265\n",
      "[1400]\ttraining's rmse: 0.077936\tvalid_1's rmse: 0.157227\n",
      "Early stopping, best iteration is:\n",
      "[1377]\ttraining's rmse: 0.0786227\tvalid_1's rmse: 0.1572\n",
      "Seed-3 | Fold-5 | OOF Score: 0.014665553874870967\n",
      "Training until validation scores don't improve for 200 rounds\n",
      "[200]\ttraining's rmse: 0.144676\tvalid_1's rmse: 0.162287\n",
      "[400]\ttraining's rmse: 0.11946\tvalid_1's rmse: 0.151818\n",
      "[600]\ttraining's rmse: 0.107501\tvalid_1's rmse: 0.14971\n",
      "[800]\ttraining's rmse: 0.0982626\tvalid_1's rmse: 0.149081\n",
      "[1000]\ttraining's rmse: 0.0911347\tvalid_1's rmse: 0.148815\n",
      "Early stopping, best iteration is:\n",
      "[941]\ttraining's rmse: 0.0931456\tvalid_1's rmse: 0.148725\n",
      "Seed-3 | Fold-6 | OOF Score: 0.013862290452119926\n",
      "Training until validation scores don't improve for 200 rounds\n",
      "[200]\ttraining's rmse: 0.14365\tvalid_1's rmse: 0.177987\n",
      "[400]\ttraining's rmse: 0.119351\tvalid_1's rmse: 0.166166\n",
      "[600]\ttraining's rmse: 0.10739\tvalid_1's rmse: 0.162895\n",
      "[800]\ttraining's rmse: 0.0981368\tvalid_1's rmse: 0.161461\n",
      "[1000]\ttraining's rmse: 0.0906592\tvalid_1's rmse: 0.160869\n",
      "[1200]\ttraining's rmse: 0.083691\tvalid_1's rmse: 0.160754\n",
      "[1400]\ttraining's rmse: 0.0783785\tvalid_1's rmse: 0.160638\n",
      "Early stopping, best iteration is:\n",
      "[1352]\ttraining's rmse: 0.0796915\tvalid_1's rmse: 0.1606\n",
      "Seed-3 | Fold-7 | OOF Score: 0.014776597692978575\n",
      "Training until validation scores don't improve for 200 rounds\n",
      "[200]\ttraining's rmse: 0.144653\tvalid_1's rmse: 0.167821\n",
      "[400]\ttraining's rmse: 0.119609\tvalid_1's rmse: 0.157287\n",
      "[600]\ttraining's rmse: 0.108015\tvalid_1's rmse: 0.155004\n",
      "[800]\ttraining's rmse: 0.0989629\tvalid_1's rmse: 0.154366\n",
      "Early stopping, best iteration is:\n",
      "[780]\ttraining's rmse: 0.0998681\tvalid_1's rmse: 0.154283\n",
      "Seed-3 | Fold-8 | OOF Score: 0.014248969739659011\n",
      "Training until validation scores don't improve for 200 rounds\n",
      "[200]\ttraining's rmse: 0.14437\tvalid_1's rmse: 0.175832\n",
      "[400]\ttraining's rmse: 0.119486\tvalid_1's rmse: 0.164389\n",
      "[600]\ttraining's rmse: 0.107122\tvalid_1's rmse: 0.162399\n",
      "[800]\ttraining's rmse: 0.0982058\tvalid_1's rmse: 0.161627\n",
      "[1000]\ttraining's rmse: 0.091023\tvalid_1's rmse: 0.161498\n",
      "Early stopping, best iteration is:\n",
      "[919]\ttraining's rmse: 0.0938619\tvalid_1's rmse: 0.161366\n",
      "Seed-3 | Fold-9 | OOF Score: 0.01489219173306842\n",
      "\n",
      "Seed: 3 | Aggregate OOF Score: 0.014757674690023228\n",
      "\n",
      "\n",
      "Aggregate OOF Score: 0.014805160167047143\n"
     ]
    }
   ],
   "source": [
    "FOLD = 10\n",
    "NUM_SEED = 2\n",
    "\n",
    "np.random.seed(3)\n",
    "seeds = np.random.randint(0, 100, size=NUM_SEED)\n",
    "\n",
    "oof_score = 0\n",
    "y_pred_meta_lgb = np.zeros((Ytrain.shape[0], NUM_SEED))\n",
    "y_pred_final_lgb = np.zeros((Xtest.shape[0], NUM_SEED))\n",
    "counter = 0\n",
    "\n",
    "\n",
    "for sidx, seed in enumerate(seeds):\n",
    "    seed_score = 0\n",
    "    \n",
    "    kfold = StratifiedKFold(n_splits=FOLD, shuffle=True, random_state=seed)\n",
    "\n",
    "    for idx, (train, val) in enumerate(kfold.split(Xtrain, Ytrain_strat)):\n",
    "        counter += 1\n",
    "\n",
    "        train_x, train_y = Xtrain[train], Ytrain[train]\n",
    "        val_x, val_y = Xtrain[val], Ytrain[val]\n",
    "\n",
    "        lgtrain = lgb.Dataset(train_x, label=train_y.ravel())\n",
    "        lgvalidation = lgb.Dataset(val_x, label=val_y.ravel())\n",
    "\n",
    "        model = lgb.train(params, lgtrain, num_rounds, \n",
    "                          valid_sets=[lgtrain, lgvalidation], \n",
    "                          early_stopping_rounds=200, verbose_eval=200)\n",
    "\n",
    "        y_pred = model.predict(val_x, num_iteration=model.best_iteration)\n",
    "        y_pred_meta_lgb[val, sidx] = y_pred\n",
    "        y_pred_final_lgb[:, sidx] += model.predict(Xtest, num_iteration=model.best_iteration)\n",
    "        \n",
    "        score = np.sqrt(mean_squared_log_error(val_y, y_pred))\n",
    "        oof_score += score\n",
    "        seed_score += score\n",
    "        print(\"Seed-{} | Fold-{} | OOF Score: {}\".format(seed, idx, score))\n",
    "    \n",
    "    print(\"\\nSeed: {} | Aggregate OOF Score: {}\\n\\n\".format(seed, (seed_score / FOLD)))\n",
    "\n",
    "\n",
    "y_pred_final_lgb = y_pred_final_lgb / float(FOLD)\n",
    "oof_score /= float(counter)\n",
    "print(\"Aggregate OOF Score: {}\".format(oof_score))"
   ]
  },
  {
   "cell_type": "code",
   "execution_count": 6,
   "id": "b06655ff",
   "metadata": {
    "execution": {
     "iopub.execute_input": "2021-04-07T16:44:49.691402Z",
     "iopub.status.busy": "2021-04-07T16:44:49.690656Z",
     "iopub.status.idle": "2021-04-07T16:44:49.724994Z",
     "shell.execute_reply": "2021-04-07T16:44:49.724501Z"
    },
    "id": "uLzmS7LzXvXy",
    "papermill": {
     "duration": 0.090537,
     "end_time": "2021-04-07T16:44:49.725114",
     "exception": false,
     "start_time": "2021-04-07T16:44:49.634577",
     "status": "completed"
    },
    "tags": []
   },
   "outputs": [],
   "source": [
    "np.savez_compressed('./LGB_Meta_Features.npz',\n",
    "                    y_pred_meta_lgb=y_pred_meta_lgb, \n",
    "                    oof_score=oof_score,\n",
    "                    y_pred_final_lgb=y_pred_final_lgb)"
   ]
  },
  {
   "cell_type": "code",
   "execution_count": 7,
   "id": "db701c86",
   "metadata": {
    "execution": {
     "iopub.execute_input": "2021-04-07T16:44:49.837547Z",
     "iopub.status.busy": "2021-04-07T16:44:49.836781Z",
     "iopub.status.idle": "2021-04-07T16:44:49.845195Z",
     "shell.execute_reply": "2021-04-07T16:44:49.845632Z"
    },
    "executionInfo": {
     "elapsed": 1417,
     "status": "ok",
     "timestamp": 1616078535765,
     "user": {
      "displayName": "TAPAS DAS",
      "photoUrl": "https://lh3.googleusercontent.com/a-/AOh14GiyffdGKiPCR_UwVittzTcbBFms70IkGfU15fatCA=s64",
      "userId": "10798398878324948542"
     },
     "user_tz": -330
    },
    "id": "zGEGOAJHVoHV",
    "outputId": "53ab44cf-755f-435d-c1af-f4184f2114dd",
    "papermill": {
     "duration": 0.068992,
     "end_time": "2021-04-07T16:44:49.845768",
     "exception": false,
     "start_time": "2021-04-07T16:44:49.776776",
     "status": "completed"
    },
    "tags": []
   },
   "outputs": [
    {
     "data": {
      "text/html": [
       "<div>\n",
       "<style scoped>\n",
       "    .dataframe tbody tr th:only-of-type {\n",
       "        vertical-align: middle;\n",
       "    }\n",
       "\n",
       "    .dataframe tbody tr th {\n",
       "        vertical-align: top;\n",
       "    }\n",
       "\n",
       "    .dataframe thead th {\n",
       "        text-align: right;\n",
       "    }\n",
       "</style>\n",
       "<table border=\"1\" class=\"dataframe\">\n",
       "  <thead>\n",
       "    <tr style=\"text-align: right;\">\n",
       "      <th></th>\n",
       "      <th>0</th>\n",
       "      <th>1</th>\n",
       "    </tr>\n",
       "  </thead>\n",
       "  <tbody>\n",
       "    <tr>\n",
       "      <th>0</th>\n",
       "      <td>9.860219</td>\n",
       "      <td>9.858452</td>\n",
       "    </tr>\n",
       "    <tr>\n",
       "      <th>1</th>\n",
       "      <td>9.366980</td>\n",
       "      <td>9.382491</td>\n",
       "    </tr>\n",
       "    <tr>\n",
       "      <th>2</th>\n",
       "      <td>8.629172</td>\n",
       "      <td>8.631675</td>\n",
       "    </tr>\n",
       "    <tr>\n",
       "      <th>3</th>\n",
       "      <td>8.863941</td>\n",
       "      <td>8.863142</td>\n",
       "    </tr>\n",
       "    <tr>\n",
       "      <th>4</th>\n",
       "      <td>9.969980</td>\n",
       "      <td>9.972205</td>\n",
       "    </tr>\n",
       "  </tbody>\n",
       "</table>\n",
       "</div>"
      ],
      "text/plain": [
       "          0         1\n",
       "0  9.860219  9.858452\n",
       "1  9.366980  9.382491\n",
       "2  8.629172  8.631675\n",
       "3  8.863941  8.863142\n",
       "4  9.969980  9.972205"
      ]
     },
     "execution_count": 7,
     "metadata": {},
     "output_type": "execute_result"
    }
   ],
   "source": [
    "df = pd.DataFrame(y_pred_final_lgb)\n",
    "df.head()"
   ]
  },
  {
   "cell_type": "code",
   "execution_count": null,
   "id": "f72e24a9",
   "metadata": {
    "id": "W2c88MvxXm65",
    "papermill": {
     "duration": 0.051388,
     "end_time": "2021-04-07T16:44:49.949972",
     "exception": false,
     "start_time": "2021-04-07T16:44:49.898584",
     "status": "completed"
    },
    "tags": []
   },
   "outputs": [],
   "source": []
  }
 ],
 "metadata": {
  "kernelspec": {
   "display_name": "Python 3",
   "language": "python",
   "name": "python3"
  },
  "language_info": {
   "codemirror_mode": {
    "name": "ipython",
    "version": 3
   },
   "file_extension": ".py",
   "mimetype": "text/x-python",
   "name": "python",
   "nbconvert_exporter": "python",
   "pygments_lexer": "ipython3",
   "version": "3.8.8"
  },
  "papermill": {
   "default_parameters": {},
   "duration": 12237.780248,
   "end_time": "2021-04-07T16:44:51.014576",
   "environment_variables": {},
   "exception": null,
   "input_path": "__notebook__.ipynb",
   "output_path": "__notebook__.ipynb",
   "parameters": {},
   "start_time": "2021-04-07T13:20:53.234328",
   "version": "2.3.2"
  }
 },
 "nbformat": 4,
 "nbformat_minor": 5
}
