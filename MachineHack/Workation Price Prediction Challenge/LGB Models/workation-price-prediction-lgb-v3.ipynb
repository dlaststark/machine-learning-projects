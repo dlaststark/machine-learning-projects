{
 "cells": [
  {
   "cell_type": "markdown",
   "id": "solar-philadelphia",
   "metadata": {
    "id": "uLz9OcH8SeET",
    "papermill": {
     "duration": 0.00838,
     "end_time": "2021-04-07T18:38:08.704501",
     "exception": false,
     "start_time": "2021-04-07T18:38:08.696121",
     "status": "completed"
    },
    "tags": []
   },
   "source": [
    "## Import libraries"
   ]
  },
  {
   "cell_type": "code",
   "execution_count": 1,
   "id": "seventh-cheat",
   "metadata": {
    "execution": {
     "iopub.execute_input": "2021-04-07T18:38:08.725539Z",
     "iopub.status.busy": "2021-04-07T18:38:08.724881Z",
     "iopub.status.idle": "2021-04-07T18:38:09.689583Z",
     "shell.execute_reply": "2021-04-07T18:38:09.688436Z"
    },
    "executionInfo": {
     "elapsed": 18546,
     "status": "ok",
     "timestamp": 1616326755679,
     "user": {
      "displayName": "TAPAS DAS",
      "photoUrl": "https://lh3.googleusercontent.com/a-/AOh14GiyffdGKiPCR_UwVittzTcbBFms70IkGfU15fatCA=s64",
      "userId": "10798398878324948542"
     },
     "user_tz": -330
    },
    "id": "E9svswc9SUuX",
    "papermill": {
     "duration": 0.977773,
     "end_time": "2021-04-07T18:38:09.689765",
     "exception": false,
     "start_time": "2021-04-07T18:38:08.711992",
     "status": "completed"
    },
    "tags": []
   },
   "outputs": [
    {
     "data": {
      "text/html": [
       "<style type='text/css'>\n",
       ".datatable table.frame { margin-bottom: 0; }\n",
       ".datatable table.frame thead { border-bottom: none; }\n",
       ".datatable table.frame tr.coltypes td {  color: #FFFFFF;  line-height: 6px;  padding: 0 0.5em;}\n",
       ".datatable .bool    { background: #DDDD99; }\n",
       ".datatable .object  { background: #565656; }\n",
       ".datatable .int     { background: #5D9E5D; }\n",
       ".datatable .float   { background: #4040CC; }\n",
       ".datatable .str     { background: #CC4040; }\n",
       ".datatable .row_index {  background: var(--jp-border-color3);  border-right: 1px solid var(--jp-border-color0);  color: var(--jp-ui-font-color3);  font-size: 9px;}\n",
       ".datatable .frame tr.coltypes .row_index {  background: var(--jp-border-color0);}\n",
       ".datatable th:nth-child(2) { padding-left: 12px; }\n",
       ".datatable .hellipsis {  color: var(--jp-cell-editor-border-color);}\n",
       ".datatable .vellipsis {  background: var(--jp-layout-color0);  color: var(--jp-cell-editor-border-color);}\n",
       ".datatable .na {  color: var(--jp-cell-editor-border-color);  font-size: 80%;}\n",
       ".datatable .footer { font-size: 9px; }\n",
       ".datatable .frame_dimensions {  background: var(--jp-border-color3);  border-top: 1px solid var(--jp-border-color0);  color: var(--jp-ui-font-color3);  display: inline-block;  opacity: 0.6;  padding: 1px 10px 1px 5px;}\n",
       "</style>\n"
      ],
      "text/plain": [
       "<IPython.core.display.HTML object>"
      ]
     },
     "metadata": {},
     "output_type": "display_data"
    }
   ],
   "source": [
    "import gc\n",
    "import pickle\n",
    "import numpy as np\n",
    "import pandas as pd\n",
    "import lightgbm as lgb\n",
    "from sklearn.model_selection import StratifiedKFold\n",
    "from sklearn.metrics import mean_squared_log_error"
   ]
  },
  {
   "cell_type": "markdown",
   "id": "rolled-ballot",
   "metadata": {
    "id": "hg85SpW-S6hl",
    "papermill": {
     "duration": 0.007981,
     "end_time": "2021-04-07T18:38:09.706388",
     "exception": false,
     "start_time": "2021-04-07T18:38:09.698407",
     "status": "completed"
    },
    "tags": []
   },
   "source": [
    "## Prepare data for model training"
   ]
  },
  {
   "cell_type": "code",
   "execution_count": 2,
   "id": "individual-invalid",
   "metadata": {
    "execution": {
     "iopub.execute_input": "2021-04-07T18:38:09.728130Z",
     "iopub.status.busy": "2021-04-07T18:38:09.727606Z",
     "iopub.status.idle": "2021-04-07T18:38:19.126432Z",
     "shell.execute_reply": "2021-04-07T18:38:19.125494Z"
    },
    "executionInfo": {
     "elapsed": 15266,
     "status": "ok",
     "timestamp": 1616326759527,
     "user": {
      "displayName": "TAPAS DAS",
      "photoUrl": "https://lh3.googleusercontent.com/a-/AOh14GiyffdGKiPCR_UwVittzTcbBFms70IkGfU15fatCA=s64",
      "userId": "10798398878324948542"
     },
     "user_tz": -330
    },
    "id": "VdhgoIAmSUxK",
    "outputId": "593389e9-9839-415d-bc72-10af58db79f5",
    "papermill": {
     "duration": 9.411676,
     "end_time": "2021-04-07T18:38:19.126571",
     "exception": false,
     "start_time": "2021-04-07T18:38:09.714895",
     "status": "completed"
    },
    "tags": []
   },
   "outputs": [
    {
     "data": {
      "text/plain": [
       "31"
      ]
     },
     "execution_count": 2,
     "metadata": {},
     "output_type": "execute_result"
    }
   ],
   "source": [
    "with open(\"../input/workation-price-prediction-preprocess-data-v3/Workation_Dataset.txt\", 'rb') as handle: \n",
    "    data = handle.read()\n",
    "\n",
    "processed_data = pickle.loads(data)\n",
    "train_df = processed_data['train_df']\n",
    "test_df = processed_data['test_df']\n",
    "\n",
    "train_df = train_df[~((train_df['Per Person Price'] < 7.3) | (np.exp(train_df['Per Person Price']) > 150000))].copy()\n",
    "\n",
    "del processed_data\n",
    "gc.collect()"
   ]
  },
  {
   "cell_type": "code",
   "execution_count": 3,
   "id": "commercial-hazard",
   "metadata": {
    "execution": {
     "iopub.execute_input": "2021-04-07T18:38:19.150319Z",
     "iopub.status.busy": "2021-04-07T18:38:19.149527Z",
     "iopub.status.idle": "2021-04-07T18:38:19.793553Z",
     "shell.execute_reply": "2021-04-07T18:38:19.793100Z"
    },
    "executionInfo": {
     "elapsed": 4738,
     "status": "ok",
     "timestamp": 1616326764348,
     "user": {
      "displayName": "TAPAS DAS",
      "photoUrl": "https://lh3.googleusercontent.com/a-/AOh14GiyffdGKiPCR_UwVittzTcbBFms70IkGfU15fatCA=s64",
      "userId": "10798398878324948542"
     },
     "user_tz": -330
    },
    "id": "UAfyHbeASU7C",
    "outputId": "5f1e7e87-752b-4928-fab4-2f907d8c1e0c",
    "papermill": {
     "duration": 0.658569,
     "end_time": "2021-04-07T18:38:19.793672",
     "exception": false,
     "start_time": "2021-04-07T18:38:19.135103",
     "status": "completed"
    },
    "tags": []
   },
   "outputs": [
    {
     "name": "stdout",
     "output_type": "stream",
     "text": [
      "Xtrain: (20989, 4728) \n",
      "Ytrain: (20989,) \n",
      "Xtest: (9000, 4728)\n"
     ]
    },
    {
     "data": {
      "text/plain": [
       "0"
      ]
     },
     "execution_count": 3,
     "metadata": {},
     "output_type": "execute_result"
    }
   ],
   "source": [
    "Xtrain = train_df.loc[:, train_df.columns != 'Per Person Price'].values\n",
    "Ytrain = train_df['Per Person Price'].values\n",
    "Ytrain_strat = pd.qcut(train_df['Per Person Price'].values, q=10, labels=range(0,10))\n",
    "Xtest = test_df.values\n",
    "\n",
    "print(\"Xtrain: {} \\nYtrain: {} \\nXtest: {}\".format(Xtrain.shape, Ytrain.shape, Xtest.shape))\n",
    "\n",
    "del train_df\n",
    "del test_df\n",
    "gc.collect()"
   ]
  },
  {
   "cell_type": "markdown",
   "id": "powerful-bleeding",
   "metadata": {
    "id": "9wNC5rWEVnjd",
    "papermill": {
     "duration": 0.009119,
     "end_time": "2021-04-07T18:38:19.811850",
     "exception": false,
     "start_time": "2021-04-07T18:38:19.802731",
     "status": "completed"
    },
    "tags": []
   },
   "source": [
    "## Build and validate the model"
   ]
  },
  {
   "cell_type": "code",
   "execution_count": 4,
   "id": "removed-royalty",
   "metadata": {
    "execution": {
     "iopub.execute_input": "2021-04-07T18:38:19.837045Z",
     "iopub.status.busy": "2021-04-07T18:38:19.835320Z",
     "iopub.status.idle": "2021-04-07T18:38:19.837655Z",
     "shell.execute_reply": "2021-04-07T18:38:19.838041Z"
    },
    "executionInfo": {
     "elapsed": 1340,
     "status": "ok",
     "timestamp": 1616326770908,
     "user": {
      "displayName": "TAPAS DAS",
      "photoUrl": "https://lh3.googleusercontent.com/a-/AOh14GiyffdGKiPCR_UwVittzTcbBFms70IkGfU15fatCA=s64",
      "userId": "10798398878324948542"
     },
     "user_tz": -330
    },
    "id": "IhtH9c5va7WY",
    "papermill": {
     "duration": 0.01743,
     "end_time": "2021-04-07T18:38:19.838165",
     "exception": false,
     "start_time": "2021-04-07T18:38:19.820735",
     "status": "completed"
    },
    "tags": []
   },
   "outputs": [],
   "source": [
    "params = {}\n",
    "params[\"objective\"] = 'regression'\n",
    "params[\"metric\"] = 'rmse'\n",
    "params[\"boosting\"] = 'gbdt'\n",
    "params[\"device_type\"] = 'gpu'\n",
    "params[\"learning_rate\"] = 0.0204\n",
    "params[\"lambda_l2\"] = 0.00225\n",
    "params[\"num_leaves\"] = 71\n",
    "params[\"max_depth\"] = 10\n",
    "params[\"feature_fraction\"] = 0.7442\n",
    "params[\"bagging_fraction\"] = 0.89\n",
    "params[\"bagging_freq\"] = 10\n",
    "params[\"min_data_in_leaf\"] = 7\n",
    "params[\"verbosity\"] = -1\n",
    "num_rounds = 8000"
   ]
  },
  {
   "cell_type": "code",
   "execution_count": 5,
   "id": "inclusive-belief",
   "metadata": {
    "execution": {
     "iopub.execute_input": "2021-04-07T18:38:19.869268Z",
     "iopub.status.busy": "2021-04-07T18:38:19.868745Z",
     "iopub.status.idle": "2021-04-07T22:03:37.639554Z",
     "shell.execute_reply": "2021-04-07T22:03:37.640153Z"
    },
    "executionInfo": {
     "elapsed": 226745,
     "status": "error",
     "timestamp": 1616326997825,
     "user": {
      "displayName": "TAPAS DAS",
      "photoUrl": "https://lh3.googleusercontent.com/a-/AOh14GiyffdGKiPCR_UwVittzTcbBFms70IkGfU15fatCA=s64",
      "userId": "10798398878324948542"
     },
     "user_tz": -330
    },
    "id": "uWPosEORSVBp",
    "outputId": "ecad76e6-e82d-4e4a-ef18-937bc0235495",
    "papermill": {
     "duration": 12317.793215,
     "end_time": "2021-04-07T22:03:37.640363",
     "exception": false,
     "start_time": "2021-04-07T18:38:19.847148",
     "status": "completed"
    },
    "tags": []
   },
   "outputs": [
    {
     "name": "stdout",
     "output_type": "stream",
     "text": [
      "Training until validation scores don't improve for 200 rounds\n",
      "[200]\ttraining's rmse: 0.142943\tvalid_1's rmse: 0.174176\n",
      "[400]\ttraining's rmse: 0.11776\tvalid_1's rmse: 0.165163\n",
      "[600]\ttraining's rmse: 0.107156\tvalid_1's rmse: 0.163059\n",
      "[800]\ttraining's rmse: 0.0983293\tvalid_1's rmse: 0.162425\n",
      "[1000]\ttraining's rmse: 0.0909727\tvalid_1's rmse: 0.162205\n",
      "Early stopping, best iteration is:\n",
      "[860]\ttraining's rmse: 0.0957237\tvalid_1's rmse: 0.16197\n",
      "Seed-24 | Fold-0 | OOF Score: 0.014998265765712487\n",
      "Training until validation scores don't improve for 200 rounds\n",
      "[200]\ttraining's rmse: 0.143982\tvalid_1's rmse: 0.166298\n",
      "[400]\ttraining's rmse: 0.119643\tvalid_1's rmse: 0.156756\n",
      "[600]\ttraining's rmse: 0.107695\tvalid_1's rmse: 0.154805\n",
      "[800]\ttraining's rmse: 0.0987405\tvalid_1's rmse: 0.154167\n",
      "Early stopping, best iteration is:\n",
      "[791]\ttraining's rmse: 0.0990435\tvalid_1's rmse: 0.15405\n",
      "Seed-24 | Fold-1 | OOF Score: 0.014303324399089733\n",
      "Training until validation scores don't improve for 200 rounds\n",
      "[200]\ttraining's rmse: 0.144093\tvalid_1's rmse: 0.169214\n",
      "[400]\ttraining's rmse: 0.119443\tvalid_1's rmse: 0.157881\n",
      "[600]\ttraining's rmse: 0.10866\tvalid_1's rmse: 0.154792\n",
      "[800]\ttraining's rmse: 0.0992862\tvalid_1's rmse: 0.153395\n",
      "[1000]\ttraining's rmse: 0.092209\tvalid_1's rmse: 0.152988\n",
      "[1200]\ttraining's rmse: 0.0854609\tvalid_1's rmse: 0.152887\n",
      "[1400]\ttraining's rmse: 0.0804825\tvalid_1's rmse: 0.152616\n",
      "Early stopping, best iteration is:\n",
      "[1345]\ttraining's rmse: 0.0816041\tvalid_1's rmse: 0.152541\n",
      "Seed-24 | Fold-2 | OOF Score: 0.014095829713789544\n",
      "Training until validation scores don't improve for 200 rounds\n",
      "[200]\ttraining's rmse: 0.14328\tvalid_1's rmse: 0.172825\n",
      "[400]\ttraining's rmse: 0.118536\tvalid_1's rmse: 0.163663\n",
      "[600]\ttraining's rmse: 0.107526\tvalid_1's rmse: 0.162345\n",
      "[800]\ttraining's rmse: 0.0978335\tvalid_1's rmse: 0.16164\n",
      "[1000]\ttraining's rmse: 0.0897379\tvalid_1's rmse: 0.161909\n",
      "Early stopping, best iteration is:\n",
      "[870]\ttraining's rmse: 0.0946731\tvalid_1's rmse: 0.161585\n",
      "Seed-24 | Fold-3 | OOF Score: 0.01493342929942749\n",
      "Training until validation scores don't improve for 200 rounds\n",
      "[200]\ttraining's rmse: 0.144139\tvalid_1's rmse: 0.167616\n",
      "[400]\ttraining's rmse: 0.119543\tvalid_1's rmse: 0.157704\n",
      "[600]\ttraining's rmse: 0.107701\tvalid_1's rmse: 0.156015\n",
      "[800]\ttraining's rmse: 0.0990949\tvalid_1's rmse: 0.155965\n",
      "Early stopping, best iteration is:\n",
      "[786]\ttraining's rmse: 0.0997995\tvalid_1's rmse: 0.155898\n",
      "Seed-24 | Fold-4 | OOF Score: 0.014472711953784903\n",
      "Training until validation scores don't improve for 200 rounds\n",
      "[200]\ttraining's rmse: 0.143426\tvalid_1's rmse: 0.176926\n",
      "[400]\ttraining's rmse: 0.119078\tvalid_1's rmse: 0.16491\n",
      "[600]\ttraining's rmse: 0.106484\tvalid_1's rmse: 0.162022\n",
      "[800]\ttraining's rmse: 0.0975633\tvalid_1's rmse: 0.161524\n",
      "[1000]\ttraining's rmse: 0.089191\tvalid_1's rmse: 0.161199\n",
      "Early stopping, best iteration is:\n",
      "[960]\ttraining's rmse: 0.0908568\tvalid_1's rmse: 0.161066\n",
      "Seed-24 | Fold-5 | OOF Score: 0.014849840097998125\n",
      "Training until validation scores don't improve for 200 rounds\n",
      "[200]\ttraining's rmse: 0.143343\tvalid_1's rmse: 0.175402\n",
      "[400]\ttraining's rmse: 0.11894\tvalid_1's rmse: 0.165403\n",
      "[600]\ttraining's rmse: 0.107302\tvalid_1's rmse: 0.163724\n",
      "[800]\ttraining's rmse: 0.0981769\tvalid_1's rmse: 0.162866\n",
      "[1000]\ttraining's rmse: 0.0909347\tvalid_1's rmse: 0.162621\n",
      "[1200]\ttraining's rmse: 0.0849816\tvalid_1's rmse: 0.162659\n",
      "[1400]\ttraining's rmse: 0.0796204\tvalid_1's rmse: 0.162848\n",
      "Early stopping, best iteration is:\n",
      "[1263]\ttraining's rmse: 0.082901\tvalid_1's rmse: 0.162529\n",
      "Seed-24 | Fold-6 | OOF Score: 0.015117230669839993\n",
      "Training until validation scores don't improve for 200 rounds\n",
      "[200]\ttraining's rmse: 0.143292\tvalid_1's rmse: 0.178777\n",
      "[400]\ttraining's rmse: 0.118484\tvalid_1's rmse: 0.167543\n",
      "[600]\ttraining's rmse: 0.106895\tvalid_1's rmse: 0.165062\n",
      "[800]\ttraining's rmse: 0.0972646\tvalid_1's rmse: 0.164412\n",
      "[1000]\ttraining's rmse: 0.0900553\tvalid_1's rmse: 0.163945\n",
      "[1200]\ttraining's rmse: 0.0837752\tvalid_1's rmse: 0.163949\n",
      "Early stopping, best iteration is:\n",
      "[1009]\ttraining's rmse: 0.0896858\tvalid_1's rmse: 0.163877\n",
      "Seed-24 | Fold-7 | OOF Score: 0.01514485247182247\n",
      "Training until validation scores don't improve for 200 rounds\n",
      "[200]\ttraining's rmse: 0.143583\tvalid_1's rmse: 0.179856\n",
      "[400]\ttraining's rmse: 0.119071\tvalid_1's rmse: 0.167432\n",
      "[600]\ttraining's rmse: 0.107155\tvalid_1's rmse: 0.164593\n",
      "[800]\ttraining's rmse: 0.0984472\tvalid_1's rmse: 0.163854\n",
      "[1000]\ttraining's rmse: 0.091103\tvalid_1's rmse: 0.163754\n",
      "[1200]\ttraining's rmse: 0.0841879\tvalid_1's rmse: 0.163662\n",
      "Early stopping, best iteration is:\n",
      "[1070]\ttraining's rmse: 0.08855\tvalid_1's rmse: 0.163492\n",
      "Seed-24 | Fold-8 | OOF Score: 0.015104388070411704\n",
      "Training until validation scores don't improve for 200 rounds\n",
      "[200]\ttraining's rmse: 0.143515\tvalid_1's rmse: 0.177754\n",
      "[400]\ttraining's rmse: 0.118728\tvalid_1's rmse: 0.167338\n",
      "[600]\ttraining's rmse: 0.107507\tvalid_1's rmse: 0.165016\n",
      "[800]\ttraining's rmse: 0.0982245\tvalid_1's rmse: 0.164184\n",
      "[1000]\ttraining's rmse: 0.090836\tvalid_1's rmse: 0.163791\n",
      "[1200]\ttraining's rmse: 0.0843253\tvalid_1's rmse: 0.163399\n",
      "[1400]\ttraining's rmse: 0.078819\tvalid_1's rmse: 0.163031\n",
      "Early stopping, best iteration is:\n",
      "[1388]\ttraining's rmse: 0.0791191\tvalid_1's rmse: 0.162947\n",
      "Seed-24 | Fold-9 | OOF Score: 0.015091742057017346\n",
      "\n",
      "Seed: 24 | Aggregate OOF Score: 0.014811161449889382\n",
      "\n",
      "\n",
      "Training until validation scores don't improve for 200 rounds\n",
      "[200]\ttraining's rmse: 0.143994\tvalid_1's rmse: 0.173604\n",
      "[400]\ttraining's rmse: 0.120308\tvalid_1's rmse: 0.162815\n",
      "[600]\ttraining's rmse: 0.108323\tvalid_1's rmse: 0.160489\n",
      "[800]\ttraining's rmse: 0.0995264\tvalid_1's rmse: 0.159859\n",
      "[1000]\ttraining's rmse: 0.0920803\tvalid_1's rmse: 0.1596\n",
      "[1200]\ttraining's rmse: 0.0854593\tvalid_1's rmse: 0.159278\n",
      "[1400]\ttraining's rmse: 0.0798109\tvalid_1's rmse: 0.159433\n",
      "Early stopping, best iteration is:\n",
      "[1290]\ttraining's rmse: 0.0829388\tvalid_1's rmse: 0.159274\n",
      "Seed-3 | Fold-0 | OOF Score: 0.014734590377326162\n",
      "Training until validation scores don't improve for 200 rounds\n",
      "[200]\ttraining's rmse: 0.142828\tvalid_1's rmse: 0.180928\n",
      "[400]\ttraining's rmse: 0.118835\tvalid_1's rmse: 0.171331\n",
      "[600]\ttraining's rmse: 0.106579\tvalid_1's rmse: 0.168887\n",
      "[800]\ttraining's rmse: 0.0975928\tvalid_1's rmse: 0.168366\n",
      "[1000]\ttraining's rmse: 0.0905001\tvalid_1's rmse: 0.168766\n",
      "Early stopping, best iteration is:\n",
      "[806]\ttraining's rmse: 0.0972347\tvalid_1's rmse: 0.168334\n",
      "Seed-3 | Fold-1 | OOF Score: 0.015410871886857282\n",
      "Training until validation scores don't improve for 200 rounds\n",
      "[200]\ttraining's rmse: 0.143367\tvalid_1's rmse: 0.174516\n",
      "[400]\ttraining's rmse: 0.118781\tvalid_1's rmse: 0.164156\n",
      "[600]\ttraining's rmse: 0.10689\tvalid_1's rmse: 0.161909\n",
      "[800]\ttraining's rmse: 0.0978206\tvalid_1's rmse: 0.161359\n",
      "[1000]\ttraining's rmse: 0.090493\tvalid_1's rmse: 0.161494\n",
      "Early stopping, best iteration is:\n",
      "[959]\ttraining's rmse: 0.0918224\tvalid_1's rmse: 0.161301\n",
      "Seed-3 | Fold-2 | OOF Score: 0.014975712133496698\n",
      "Training until validation scores don't improve for 200 rounds\n",
      "[200]\ttraining's rmse: 0.143757\tvalid_1's rmse: 0.174655\n",
      "[400]\ttraining's rmse: 0.119603\tvalid_1's rmse: 0.163275\n",
      "[600]\ttraining's rmse: 0.108139\tvalid_1's rmse: 0.160157\n",
      "[800]\ttraining's rmse: 0.0985527\tvalid_1's rmse: 0.159041\n",
      "[1000]\ttraining's rmse: 0.0909522\tvalid_1's rmse: 0.15842\n",
      "[1200]\ttraining's rmse: 0.0839875\tvalid_1's rmse: 0.15773\n",
      "[1400]\ttraining's rmse: 0.0787542\tvalid_1's rmse: 0.157593\n",
      "[1600]\ttraining's rmse: 0.0736964\tvalid_1's rmse: 0.158091\n",
      "Early stopping, best iteration is:\n",
      "[1408]\ttraining's rmse: 0.0785753\tvalid_1's rmse: 0.157554\n",
      "Seed-3 | Fold-3 | OOF Score: 0.01455419731853273\n",
      "Training until validation scores don't improve for 200 rounds\n",
      "[200]\ttraining's rmse: 0.143205\tvalid_1's rmse: 0.17338\n",
      "[400]\ttraining's rmse: 0.118706\tvalid_1's rmse: 0.164065\n",
      "[600]\ttraining's rmse: 0.10783\tvalid_1's rmse: 0.16246\n",
      "[800]\ttraining's rmse: 0.0983227\tvalid_1's rmse: 0.161588\n",
      "[1000]\ttraining's rmse: 0.0904375\tvalid_1's rmse: 0.161755\n",
      "Early stopping, best iteration is:\n",
      "[804]\ttraining's rmse: 0.0981387\tvalid_1's rmse: 0.161588\n",
      "Seed-3 | Fold-4 | OOF Score: 0.01506590224690447\n",
      "Training until validation scores don't improve for 200 rounds\n",
      "[200]\ttraining's rmse: 0.143895\tvalid_1's rmse: 0.174375\n",
      "[400]\ttraining's rmse: 0.119086\tvalid_1's rmse: 0.162825\n",
      "[600]\ttraining's rmse: 0.107822\tvalid_1's rmse: 0.160228\n",
      "[800]\ttraining's rmse: 0.0986182\tvalid_1's rmse: 0.159137\n",
      "[1000]\ttraining's rmse: 0.0906066\tvalid_1's rmse: 0.158659\n",
      "[1200]\ttraining's rmse: 0.0839749\tvalid_1's rmse: 0.158396\n",
      "[1400]\ttraining's rmse: 0.0785547\tvalid_1's rmse: 0.158411\n",
      "Early stopping, best iteration is:\n",
      "[1291]\ttraining's rmse: 0.0816413\tvalid_1's rmse: 0.158248\n",
      "Seed-3 | Fold-5 | OOF Score: 0.014783017188174048\n",
      "Training until validation scores don't improve for 200 rounds\n",
      "[200]\ttraining's rmse: 0.143748\tvalid_1's rmse: 0.162773\n",
      "[400]\ttraining's rmse: 0.118443\tvalid_1's rmse: 0.152293\n",
      "[600]\ttraining's rmse: 0.107611\tvalid_1's rmse: 0.150404\n",
      "[800]\ttraining's rmse: 0.0985707\tvalid_1's rmse: 0.149494\n",
      "[1000]\ttraining's rmse: 0.090889\tvalid_1's rmse: 0.149387\n",
      "Early stopping, best iteration is:\n",
      "[942]\ttraining's rmse: 0.0931452\tvalid_1's rmse: 0.149216\n",
      "Seed-3 | Fold-6 | OOF Score: 0.01390025920000005\n",
      "Training until validation scores don't improve for 200 rounds\n",
      "[200]\ttraining's rmse: 0.143426\tvalid_1's rmse: 0.17629\n",
      "[400]\ttraining's rmse: 0.11988\tvalid_1's rmse: 0.164768\n",
      "[600]\ttraining's rmse: 0.108462\tvalid_1's rmse: 0.161569\n",
      "[800]\ttraining's rmse: 0.0986847\tvalid_1's rmse: 0.160121\n",
      "[1000]\ttraining's rmse: 0.091138\tvalid_1's rmse: 0.159128\n",
      "[1200]\ttraining's rmse: 0.0850158\tvalid_1's rmse: 0.159014\n",
      "[1400]\ttraining's rmse: 0.0790916\tvalid_1's rmse: 0.158923\n",
      "Early stopping, best iteration is:\n",
      "[1354]\ttraining's rmse: 0.0803265\tvalid_1's rmse: 0.158869\n",
      "Seed-3 | Fold-7 | OOF Score: 0.014638794812280066\n",
      "Training until validation scores don't improve for 200 rounds\n",
      "[200]\ttraining's rmse: 0.143958\tvalid_1's rmse: 0.166213\n",
      "[400]\ttraining's rmse: 0.119774\tvalid_1's rmse: 0.156216\n",
      "[600]\ttraining's rmse: 0.108451\tvalid_1's rmse: 0.154046\n",
      "[800]\ttraining's rmse: 0.0992803\tvalid_1's rmse: 0.153692\n",
      "[1000]\ttraining's rmse: 0.0915826\tvalid_1's rmse: 0.153467\n",
      "[1200]\ttraining's rmse: 0.085029\tvalid_1's rmse: 0.153496\n",
      "Early stopping, best iteration is:\n",
      "[1011]\ttraining's rmse: 0.091065\tvalid_1's rmse: 0.153449\n",
      "Seed-3 | Fold-8 | OOF Score: 0.014185508154996395\n",
      "Training until validation scores don't improve for 200 rounds\n",
      "[200]\ttraining's rmse: 0.143431\tvalid_1's rmse: 0.17453\n",
      "[400]\ttraining's rmse: 0.119106\tvalid_1's rmse: 0.164924\n",
      "[600]\ttraining's rmse: 0.107623\tvalid_1's rmse: 0.163297\n",
      "[800]\ttraining's rmse: 0.0981264\tvalid_1's rmse: 0.16256\n",
      "[1000]\ttraining's rmse: 0.0909425\tvalid_1's rmse: 0.162218\n",
      "[1200]\ttraining's rmse: 0.0844853\tvalid_1's rmse: 0.162393\n",
      "Early stopping, best iteration is:\n",
      "[1066]\ttraining's rmse: 0.0887834\tvalid_1's rmse: 0.162134\n",
      "Seed-3 | Fold-9 | OOF Score: 0.014957010619710156\n",
      "\n",
      "Seed: 3 | Aggregate OOF Score: 0.014720586393827806\n",
      "\n",
      "\n",
      "Aggregate OOF Score: 0.014765873921858593\n"
     ]
    }
   ],
   "source": [
    "FOLD = 10\n",
    "NUM_SEED = 2\n",
    "\n",
    "np.random.seed(3)\n",
    "seeds = np.random.randint(0, 100, size=NUM_SEED)\n",
    "\n",
    "oof_score = 0\n",
    "y_pred_meta_lgb = np.zeros((Ytrain.shape[0], NUM_SEED))\n",
    "y_pred_final_lgb = np.zeros((Xtest.shape[0], NUM_SEED))\n",
    "counter = 0\n",
    "\n",
    "\n",
    "for sidx, seed in enumerate(seeds):\n",
    "    seed_score = 0\n",
    "    \n",
    "    kfold = StratifiedKFold(n_splits=FOLD, shuffle=True, random_state=seed)\n",
    "\n",
    "    for idx, (train, val) in enumerate(kfold.split(Xtrain, Ytrain_strat)):\n",
    "        counter += 1\n",
    "\n",
    "        train_x, train_y = Xtrain[train], Ytrain[train]\n",
    "        val_x, val_y = Xtrain[val], Ytrain[val]\n",
    "\n",
    "        lgtrain = lgb.Dataset(train_x, label=train_y.ravel())\n",
    "        lgvalidation = lgb.Dataset(val_x, label=val_y.ravel())\n",
    "\n",
    "        model = lgb.train(params, lgtrain, num_rounds, \n",
    "                          valid_sets=[lgtrain, lgvalidation], \n",
    "                          early_stopping_rounds=200, verbose_eval=200)\n",
    "\n",
    "        y_pred = model.predict(val_x, num_iteration=model.best_iteration)\n",
    "        y_pred_meta_lgb[val, sidx] = y_pred\n",
    "        y_pred_final_lgb[:, sidx] += model.predict(Xtest, num_iteration=model.best_iteration)\n",
    "        \n",
    "        score = np.sqrt(mean_squared_log_error(val_y, y_pred))\n",
    "        oof_score += score\n",
    "        seed_score += score\n",
    "        print(\"Seed-{} | Fold-{} | OOF Score: {}\".format(seed, idx, score))\n",
    "    \n",
    "    print(\"\\nSeed: {} | Aggregate OOF Score: {}\\n\\n\".format(seed, (seed_score / FOLD)))\n",
    "\n",
    "\n",
    "y_pred_final_lgb = y_pred_final_lgb / float(FOLD)\n",
    "oof_score /= float(counter)\n",
    "print(\"Aggregate OOF Score: {}\".format(oof_score))"
   ]
  },
  {
   "cell_type": "code",
   "execution_count": 6,
   "id": "dense-evans",
   "metadata": {
    "execution": {
     "iopub.execute_input": "2021-04-07T22:03:37.753905Z",
     "iopub.status.busy": "2021-04-07T22:03:37.753158Z",
     "iopub.status.idle": "2021-04-07T22:03:37.787683Z",
     "shell.execute_reply": "2021-04-07T22:03:37.787217Z"
    },
    "id": "uLzmS7LzXvXy",
    "papermill": {
     "duration": 0.091497,
     "end_time": "2021-04-07T22:03:37.787797",
     "exception": false,
     "start_time": "2021-04-07T22:03:37.696300",
     "status": "completed"
    },
    "tags": []
   },
   "outputs": [],
   "source": [
    "np.savez_compressed('./LGB_Meta_Features.npz',\n",
    "                    y_pred_meta_lgb=y_pred_meta_lgb, \n",
    "                    oof_score=oof_score,\n",
    "                    y_pred_final_lgb=y_pred_final_lgb)"
   ]
  },
  {
   "cell_type": "code",
   "execution_count": 7,
   "id": "coral-collar",
   "metadata": {
    "execution": {
     "iopub.execute_input": "2021-04-07T22:03:37.900983Z",
     "iopub.status.busy": "2021-04-07T22:03:37.900319Z",
     "iopub.status.idle": "2021-04-07T22:03:37.909541Z",
     "shell.execute_reply": "2021-04-07T22:03:37.909062Z"
    },
    "executionInfo": {
     "elapsed": 1417,
     "status": "ok",
     "timestamp": 1616078535765,
     "user": {
      "displayName": "TAPAS DAS",
      "photoUrl": "https://lh3.googleusercontent.com/a-/AOh14GiyffdGKiPCR_UwVittzTcbBFms70IkGfU15fatCA=s64",
      "userId": "10798398878324948542"
     },
     "user_tz": -330
    },
    "id": "zGEGOAJHVoHV",
    "outputId": "53ab44cf-755f-435d-c1af-f4184f2114dd",
    "papermill": {
     "duration": 0.069185,
     "end_time": "2021-04-07T22:03:37.909655",
     "exception": false,
     "start_time": "2021-04-07T22:03:37.840470",
     "status": "completed"
    },
    "tags": []
   },
   "outputs": [
    {
     "data": {
      "text/html": [
       "<div>\n",
       "<style scoped>\n",
       "    .dataframe tbody tr th:only-of-type {\n",
       "        vertical-align: middle;\n",
       "    }\n",
       "\n",
       "    .dataframe tbody tr th {\n",
       "        vertical-align: top;\n",
       "    }\n",
       "\n",
       "    .dataframe thead th {\n",
       "        text-align: right;\n",
       "    }\n",
       "</style>\n",
       "<table border=\"1\" class=\"dataframe\">\n",
       "  <thead>\n",
       "    <tr style=\"text-align: right;\">\n",
       "      <th></th>\n",
       "      <th>0</th>\n",
       "      <th>1</th>\n",
       "    </tr>\n",
       "  </thead>\n",
       "  <tbody>\n",
       "    <tr>\n",
       "      <th>0</th>\n",
       "      <td>9.875346</td>\n",
       "      <td>9.875832</td>\n",
       "    </tr>\n",
       "    <tr>\n",
       "      <th>1</th>\n",
       "      <td>9.329174</td>\n",
       "      <td>9.322038</td>\n",
       "    </tr>\n",
       "    <tr>\n",
       "      <th>2</th>\n",
       "      <td>8.633585</td>\n",
       "      <td>8.638077</td>\n",
       "    </tr>\n",
       "    <tr>\n",
       "      <th>3</th>\n",
       "      <td>8.897009</td>\n",
       "      <td>8.897181</td>\n",
       "    </tr>\n",
       "    <tr>\n",
       "      <th>4</th>\n",
       "      <td>9.978631</td>\n",
       "      <td>9.979762</td>\n",
       "    </tr>\n",
       "  </tbody>\n",
       "</table>\n",
       "</div>"
      ],
      "text/plain": [
       "          0         1\n",
       "0  9.875346  9.875832\n",
       "1  9.329174  9.322038\n",
       "2  8.633585  8.638077\n",
       "3  8.897009  8.897181\n",
       "4  9.978631  9.979762"
      ]
     },
     "execution_count": 7,
     "metadata": {},
     "output_type": "execute_result"
    }
   ],
   "source": [
    "df = pd.DataFrame(y_pred_final_lgb)\n",
    "df.head()"
   ]
  },
  {
   "cell_type": "code",
   "execution_count": null,
   "id": "renewable-government",
   "metadata": {
    "id": "W2c88MvxXm65",
    "papermill": {
     "duration": 0.053691,
     "end_time": "2021-04-07T22:03:38.017555",
     "exception": false,
     "start_time": "2021-04-07T22:03:37.963864",
     "status": "completed"
    },
    "tags": []
   },
   "outputs": [],
   "source": []
  }
 ],
 "metadata": {
  "kernelspec": {
   "display_name": "Python 3",
   "language": "python",
   "name": "python3"
  },
  "language_info": {
   "codemirror_mode": {
    "name": "ipython",
    "version": 3
   },
   "file_extension": ".py",
   "mimetype": "text/x-python",
   "name": "python",
   "nbconvert_exporter": "python",
   "pygments_lexer": "ipython3",
   "version": "3.7.9"
  },
  "papermill": {
   "default_parameters": {},
   "duration": 12336.20148,
   "end_time": "2021-04-07T22:03:39.976628",
   "environment_variables": {},
   "exception": null,
   "input_path": "__notebook__.ipynb",
   "output_path": "__notebook__.ipynb",
   "parameters": {},
   "start_time": "2021-04-07T18:38:03.775148",
   "version": "2.3.2"
  }
 },
 "nbformat": 4,
 "nbformat_minor": 5
}
