{
 "cells": [
  {
   "cell_type": "markdown",
   "id": "sunset-lover",
   "metadata": {
    "id": "uLz9OcH8SeET",
    "papermill": {
     "duration": 0.008514,
     "end_time": "2021-04-07T02:07:12.401114",
     "exception": false,
     "start_time": "2021-04-07T02:07:12.392600",
     "status": "completed"
    },
    "tags": []
   },
   "source": [
    "## Import libraries"
   ]
  },
  {
   "cell_type": "code",
   "execution_count": 1,
   "id": "subsequent-limit",
   "metadata": {
    "execution": {
     "iopub.execute_input": "2021-04-07T02:07:12.422488Z",
     "iopub.status.busy": "2021-04-07T02:07:12.421926Z",
     "iopub.status.idle": "2021-04-07T02:07:13.460654Z",
     "shell.execute_reply": "2021-04-07T02:07:13.459559Z"
    },
    "executionInfo": {
     "elapsed": 18546,
     "status": "ok",
     "timestamp": 1616326755679,
     "user": {
      "displayName": "TAPAS DAS",
      "photoUrl": "https://lh3.googleusercontent.com/a-/AOh14GiyffdGKiPCR_UwVittzTcbBFms70IkGfU15fatCA=s64",
      "userId": "10798398878324948542"
     },
     "user_tz": -330
    },
    "id": "E9svswc9SUuX",
    "papermill": {
     "duration": 1.051944,
     "end_time": "2021-04-07T02:07:13.460805",
     "exception": false,
     "start_time": "2021-04-07T02:07:12.408861",
     "status": "completed"
    },
    "tags": []
   },
   "outputs": [
    {
     "data": {
      "text/html": [
       "<style type='text/css'>\n",
       ".datatable table.frame { margin-bottom: 0; }\n",
       ".datatable table.frame thead { border-bottom: none; }\n",
       ".datatable table.frame tr.coltypes td {  color: #FFFFFF;  line-height: 6px;  padding: 0 0.5em;}\n",
       ".datatable .bool    { background: #DDDD99; }\n",
       ".datatable .object  { background: #565656; }\n",
       ".datatable .int     { background: #5D9E5D; }\n",
       ".datatable .float   { background: #4040CC; }\n",
       ".datatable .str     { background: #CC4040; }\n",
       ".datatable .row_index {  background: var(--jp-border-color3);  border-right: 1px solid var(--jp-border-color0);  color: var(--jp-ui-font-color3);  font-size: 9px;}\n",
       ".datatable .frame tr.coltypes .row_index {  background: var(--jp-border-color0);}\n",
       ".datatable th:nth-child(2) { padding-left: 12px; }\n",
       ".datatable .hellipsis {  color: var(--jp-cell-editor-border-color);}\n",
       ".datatable .vellipsis {  background: var(--jp-layout-color0);  color: var(--jp-cell-editor-border-color);}\n",
       ".datatable .na {  color: var(--jp-cell-editor-border-color);  font-size: 80%;}\n",
       ".datatable .footer { font-size: 9px; }\n",
       ".datatable .frame_dimensions {  background: var(--jp-border-color3);  border-top: 1px solid var(--jp-border-color0);  color: var(--jp-ui-font-color3);  display: inline-block;  opacity: 0.6;  padding: 1px 10px 1px 5px;}\n",
       "</style>\n"
      ],
      "text/plain": [
       "<IPython.core.display.HTML object>"
      ]
     },
     "metadata": {},
     "output_type": "display_data"
    }
   ],
   "source": [
    "import gc\n",
    "import pickle\n",
    "import numpy as np\n",
    "import pandas as pd\n",
    "import lightgbm as lgb\n",
    "from sklearn.model_selection import StratifiedKFold\n",
    "from sklearn.metrics import mean_squared_log_error"
   ]
  },
  {
   "cell_type": "markdown",
   "id": "shaped-slope",
   "metadata": {
    "id": "hg85SpW-S6hl",
    "papermill": {
     "duration": 0.007739,
     "end_time": "2021-04-07T02:07:13.477100",
     "exception": false,
     "start_time": "2021-04-07T02:07:13.469361",
     "status": "completed"
    },
    "tags": []
   },
   "source": [
    "## Prepare data for model training"
   ]
  },
  {
   "cell_type": "code",
   "execution_count": 2,
   "id": "clinical-pension",
   "metadata": {
    "execution": {
     "iopub.execute_input": "2021-04-07T02:07:13.497884Z",
     "iopub.status.busy": "2021-04-07T02:07:13.497392Z",
     "iopub.status.idle": "2021-04-07T02:07:25.182034Z",
     "shell.execute_reply": "2021-04-07T02:07:25.181599Z"
    },
    "executionInfo": {
     "elapsed": 15266,
     "status": "ok",
     "timestamp": 1616326759527,
     "user": {
      "displayName": "TAPAS DAS",
      "photoUrl": "https://lh3.googleusercontent.com/a-/AOh14GiyffdGKiPCR_UwVittzTcbBFms70IkGfU15fatCA=s64",
      "userId": "10798398878324948542"
     },
     "user_tz": -330
    },
    "id": "VdhgoIAmSUxK",
    "outputId": "593389e9-9839-415d-bc72-10af58db79f5",
    "papermill": {
     "duration": 11.697184,
     "end_time": "2021-04-07T02:07:25.182175",
     "exception": false,
     "start_time": "2021-04-07T02:07:13.484991",
     "status": "completed"
    },
    "tags": []
   },
   "outputs": [
    {
     "data": {
      "text/plain": [
       "31"
      ]
     },
     "execution_count": 2,
     "metadata": {},
     "output_type": "execute_result"
    }
   ],
   "source": [
    "with open(\"../input/workation-price-prediction-preprocess-data-v4/Workation_Dataset.txt\", 'rb') as handle: \n",
    "    data = handle.read()\n",
    "\n",
    "processed_data = pickle.loads(data)\n",
    "train_df = processed_data['train_df']\n",
    "test_df = processed_data['test_df']\n",
    "\n",
    "train_df = train_df[~((train_df['Per Person Price'] < 7.3) | (np.exp(train_df['Per Person Price']) > 150000))].copy()\n",
    "\n",
    "del processed_data\n",
    "gc.collect()"
   ]
  },
  {
   "cell_type": "code",
   "execution_count": 3,
   "id": "front-sandwich",
   "metadata": {
    "execution": {
     "iopub.execute_input": "2021-04-07T02:07:25.205801Z",
     "iopub.status.busy": "2021-04-07T02:07:25.204973Z",
     "iopub.status.idle": "2021-04-07T02:07:25.933726Z",
     "shell.execute_reply": "2021-04-07T02:07:25.934087Z"
    },
    "executionInfo": {
     "elapsed": 4738,
     "status": "ok",
     "timestamp": 1616326764348,
     "user": {
      "displayName": "TAPAS DAS",
      "photoUrl": "https://lh3.googleusercontent.com/a-/AOh14GiyffdGKiPCR_UwVittzTcbBFms70IkGfU15fatCA=s64",
      "userId": "10798398878324948542"
     },
     "user_tz": -330
    },
    "id": "UAfyHbeASU7C",
    "outputId": "5f1e7e87-752b-4928-fab4-2f907d8c1e0c",
    "papermill": {
     "duration": 0.743647,
     "end_time": "2021-04-07T02:07:25.934286",
     "exception": false,
     "start_time": "2021-04-07T02:07:25.190639",
     "status": "completed"
    },
    "tags": []
   },
   "outputs": [
    {
     "name": "stdout",
     "output_type": "stream",
     "text": [
      "Xtrain: (20989, 5752) \n",
      "Ytrain: (20989,) \n",
      "Xtest: (9000, 5752)\n"
     ]
    },
    {
     "data": {
      "text/plain": [
       "0"
      ]
     },
     "execution_count": 3,
     "metadata": {},
     "output_type": "execute_result"
    }
   ],
   "source": [
    "Xtrain = train_df.loc[:, train_df.columns != 'Per Person Price'].values\n",
    "Ytrain = train_df['Per Person Price'].values\n",
    "Ytrain_strat = pd.qcut(train_df['Per Person Price'].values, q=10, labels=range(0,10))\n",
    "Xtest = test_df.values\n",
    "\n",
    "print(\"Xtrain: {} \\nYtrain: {} \\nXtest: {}\".format(Xtrain.shape, Ytrain.shape, Xtest.shape))\n",
    "\n",
    "del train_df\n",
    "del test_df\n",
    "gc.collect()"
   ]
  },
  {
   "cell_type": "markdown",
   "id": "about-joint",
   "metadata": {
    "id": "9wNC5rWEVnjd",
    "papermill": {
     "duration": 0.00878,
     "end_time": "2021-04-07T02:07:25.952517",
     "exception": false,
     "start_time": "2021-04-07T02:07:25.943737",
     "status": "completed"
    },
    "tags": []
   },
   "source": [
    "## Build and validate the model"
   ]
  },
  {
   "cell_type": "code",
   "execution_count": 4,
   "id": "effective-split",
   "metadata": {
    "execution": {
     "iopub.execute_input": "2021-04-07T02:07:25.975856Z",
     "iopub.status.busy": "2021-04-07T02:07:25.975349Z",
     "iopub.status.idle": "2021-04-07T02:07:25.979194Z",
     "shell.execute_reply": "2021-04-07T02:07:25.978668Z"
    },
    "executionInfo": {
     "elapsed": 1340,
     "status": "ok",
     "timestamp": 1616326770908,
     "user": {
      "displayName": "TAPAS DAS",
      "photoUrl": "https://lh3.googleusercontent.com/a-/AOh14GiyffdGKiPCR_UwVittzTcbBFms70IkGfU15fatCA=s64",
      "userId": "10798398878324948542"
     },
     "user_tz": -330
    },
    "id": "IhtH9c5va7WY",
    "papermill": {
     "duration": 0.017883,
     "end_time": "2021-04-07T02:07:25.979297",
     "exception": false,
     "start_time": "2021-04-07T02:07:25.961414",
     "status": "completed"
    },
    "tags": []
   },
   "outputs": [],
   "source": [
    "params = {}\n",
    "params[\"objective\"] = 'regression'\n",
    "params[\"metric\"] = 'rmse'\n",
    "params[\"boosting\"] = 'gbdt'\n",
    "params[\"device_type\"] = 'gpu'\n",
    "params[\"learning_rate\"] = 0.0204\n",
    "params[\"lambda_l2\"] = 0.00225\n",
    "params[\"num_leaves\"] = 71\n",
    "params[\"max_depth\"] = 10\n",
    "params[\"feature_fraction\"] = 0.7442\n",
    "params[\"bagging_fraction\"] = 0.89\n",
    "params[\"bagging_freq\"] = 10\n",
    "params[\"min_data_in_leaf\"] = 7\n",
    "params[\"verbosity\"] = -1\n",
    "num_rounds = 8000"
   ]
  },
  {
   "cell_type": "code",
   "execution_count": 5,
   "id": "annoying-adrian",
   "metadata": {
    "execution": {
     "iopub.execute_input": "2021-04-07T02:07:26.009766Z",
     "iopub.status.busy": "2021-04-07T02:07:26.008960Z",
     "iopub.status.idle": "2021-04-07T06:19:40.255229Z",
     "shell.execute_reply": "2021-04-07T06:19:40.255761Z"
    },
    "executionInfo": {
     "elapsed": 226745,
     "status": "error",
     "timestamp": 1616326997825,
     "user": {
      "displayName": "TAPAS DAS",
      "photoUrl": "https://lh3.googleusercontent.com/a-/AOh14GiyffdGKiPCR_UwVittzTcbBFms70IkGfU15fatCA=s64",
      "userId": "10798398878324948542"
     },
     "user_tz": -330
    },
    "id": "uWPosEORSVBp",
    "outputId": "ecad76e6-e82d-4e4a-ef18-937bc0235495",
    "papermill": {
     "duration": 15134.266549,
     "end_time": "2021-04-07T06:19:40.255965",
     "exception": false,
     "start_time": "2021-04-07T02:07:25.989416",
     "status": "completed"
    },
    "tags": []
   },
   "outputs": [
    {
     "name": "stdout",
     "output_type": "stream",
     "text": [
      "Training until validation scores don't improve for 200 rounds\n",
      "[200]\ttraining's rmse: 0.142808\tvalid_1's rmse: 0.173666\n",
      "[400]\ttraining's rmse: 0.117879\tvalid_1's rmse: 0.164728\n",
      "[600]\ttraining's rmse: 0.106423\tvalid_1's rmse: 0.162831\n",
      "[800]\ttraining's rmse: 0.0978947\tvalid_1's rmse: 0.162319\n",
      "[1000]\ttraining's rmse: 0.0908108\tvalid_1's rmse: 0.162512\n",
      "Early stopping, best iteration is:\n",
      "[838]\ttraining's rmse: 0.0962541\tvalid_1's rmse: 0.16224\n",
      "Seed-24 | Fold-0 | OOF Score: 0.01501143190682504\n",
      "Training until validation scores don't improve for 200 rounds\n",
      "[200]\ttraining's rmse: 0.143886\tvalid_1's rmse: 0.166089\n",
      "[400]\ttraining's rmse: 0.119235\tvalid_1's rmse: 0.156814\n",
      "[600]\ttraining's rmse: 0.107515\tvalid_1's rmse: 0.154919\n",
      "[800]\ttraining's rmse: 0.0983467\tvalid_1's rmse: 0.15452\n",
      "[1000]\ttraining's rmse: 0.0909849\tvalid_1's rmse: 0.154377\n",
      "Early stopping, best iteration is:\n",
      "[897]\ttraining's rmse: 0.0950049\tvalid_1's rmse: 0.154199\n",
      "Seed-24 | Fold-1 | OOF Score: 0.014299837472871384\n",
      "Training until validation scores don't improve for 200 rounds\n",
      "[200]\ttraining's rmse: 0.143646\tvalid_1's rmse: 0.169616\n",
      "[400]\ttraining's rmse: 0.11913\tvalid_1's rmse: 0.158063\n",
      "[600]\ttraining's rmse: 0.107883\tvalid_1's rmse: 0.15491\n",
      "[800]\ttraining's rmse: 0.0985894\tvalid_1's rmse: 0.153814\n",
      "[1000]\ttraining's rmse: 0.0914385\tvalid_1's rmse: 0.153437\n",
      "Early stopping, best iteration is:\n",
      "[999]\ttraining's rmse: 0.0914592\tvalid_1's rmse: 0.153424\n",
      "Seed-24 | Fold-2 | OOF Score: 0.014182569354489357\n",
      "Training until validation scores don't improve for 200 rounds\n",
      "[200]\ttraining's rmse: 0.143334\tvalid_1's rmse: 0.173784\n",
      "[400]\ttraining's rmse: 0.11879\tvalid_1's rmse: 0.16489\n",
      "[600]\ttraining's rmse: 0.10702\tvalid_1's rmse: 0.163536\n",
      "[800]\ttraining's rmse: 0.0977227\tvalid_1's rmse: 0.163292\n",
      "Early stopping, best iteration is:\n",
      "[776]\ttraining's rmse: 0.0984097\tvalid_1's rmse: 0.163226\n",
      "Seed-24 | Fold-3 | OOF Score: 0.015072800231400028\n",
      "Training until validation scores don't improve for 200 rounds\n",
      "[200]\ttraining's rmse: 0.14387\tvalid_1's rmse: 0.169094\n",
      "[400]\ttraining's rmse: 0.119662\tvalid_1's rmse: 0.159402\n",
      "[600]\ttraining's rmse: 0.107249\tvalid_1's rmse: 0.15785\n",
      "[800]\ttraining's rmse: 0.0981977\tvalid_1's rmse: 0.157755\n",
      "Early stopping, best iteration is:\n",
      "[723]\ttraining's rmse: 0.101933\tvalid_1's rmse: 0.157443\n",
      "Seed-24 | Fold-4 | OOF Score: 0.014613333500084326\n",
      "Training until validation scores don't improve for 200 rounds\n",
      "[200]\ttraining's rmse: 0.143225\tvalid_1's rmse: 0.178056\n",
      "[400]\ttraining's rmse: 0.118322\tvalid_1's rmse: 0.166497\n",
      "[600]\ttraining's rmse: 0.106641\tvalid_1's rmse: 0.164009\n",
      "[800]\ttraining's rmse: 0.0979001\tvalid_1's rmse: 0.163565\n",
      "[1000]\ttraining's rmse: 0.0899702\tvalid_1's rmse: 0.163249\n",
      "Early stopping, best iteration is:\n",
      "[948]\ttraining's rmse: 0.091966\tvalid_1's rmse: 0.163037\n",
      "Seed-24 | Fold-5 | OOF Score: 0.015021319397688065\n",
      "Training until validation scores don't improve for 200 rounds\n",
      "[200]\ttraining's rmse: 0.143109\tvalid_1's rmse: 0.174262\n",
      "[400]\ttraining's rmse: 0.118823\tvalid_1's rmse: 0.164701\n",
      "[600]\ttraining's rmse: 0.108008\tvalid_1's rmse: 0.162475\n",
      "[800]\ttraining's rmse: 0.0985059\tvalid_1's rmse: 0.161658\n",
      "Early stopping, best iteration is:\n",
      "[780]\ttraining's rmse: 0.099587\tvalid_1's rmse: 0.161568\n",
      "Seed-24 | Fold-6 | OOF Score: 0.015023279068704489\n",
      "Training until validation scores don't improve for 200 rounds\n",
      "[200]\ttraining's rmse: 0.142745\tvalid_1's rmse: 0.178564\n",
      "[400]\ttraining's rmse: 0.118439\tvalid_1's rmse: 0.167921\n",
      "[600]\ttraining's rmse: 0.106353\tvalid_1's rmse: 0.165392\n",
      "[800]\ttraining's rmse: 0.0969201\tvalid_1's rmse: 0.165064\n",
      "[1000]\ttraining's rmse: 0.0893171\tvalid_1's rmse: 0.164601\n",
      "[1200]\ttraining's rmse: 0.0829711\tvalid_1's rmse: 0.164804\n",
      "Early stopping, best iteration is:\n",
      "[1009]\ttraining's rmse: 0.0888828\tvalid_1's rmse: 0.164579\n",
      "Seed-24 | Fold-7 | OOF Score: 0.01521488250053153\n",
      "Training until validation scores don't improve for 200 rounds\n",
      "[200]\ttraining's rmse: 0.142969\tvalid_1's rmse: 0.179995\n",
      "[400]\ttraining's rmse: 0.119012\tvalid_1's rmse: 0.16791\n",
      "[600]\ttraining's rmse: 0.107527\tvalid_1's rmse: 0.164663\n",
      "[800]\ttraining's rmse: 0.0986681\tvalid_1's rmse: 0.163742\n",
      "[1000]\ttraining's rmse: 0.0915481\tvalid_1's rmse: 0.163492\n",
      "Early stopping, best iteration is:\n",
      "[961]\ttraining's rmse: 0.0930991\tvalid_1's rmse: 0.163363\n",
      "Seed-24 | Fold-8 | OOF Score: 0.015096053244737636\n",
      "Training until validation scores don't improve for 200 rounds\n",
      "[200]\ttraining's rmse: 0.143453\tvalid_1's rmse: 0.176816\n",
      "[400]\ttraining's rmse: 0.118727\tvalid_1's rmse: 0.167505\n",
      "[600]\ttraining's rmse: 0.107239\tvalid_1's rmse: 0.165636\n",
      "[800]\ttraining's rmse: 0.0983473\tvalid_1's rmse: 0.164402\n",
      "[1000]\ttraining's rmse: 0.0910638\tvalid_1's rmse: 0.16367\n",
      "[1200]\ttraining's rmse: 0.0840921\tvalid_1's rmse: 0.163414\n",
      "[1400]\ttraining's rmse: 0.0783372\tvalid_1's rmse: 0.163237\n",
      "Early stopping, best iteration is:\n",
      "[1285]\ttraining's rmse: 0.0817477\tvalid_1's rmse: 0.163148\n",
      "Seed-24 | Fold-9 | OOF Score: 0.015111742079465541\n",
      "\n",
      "Seed: 24 | Aggregate OOF Score: 0.014864724875679738\n",
      "\n",
      "\n",
      "Training until validation scores don't improve for 200 rounds\n",
      "[200]\ttraining's rmse: 0.143697\tvalid_1's rmse: 0.172464\n",
      "[400]\ttraining's rmse: 0.119808\tvalid_1's rmse: 0.161543\n",
      "[600]\ttraining's rmse: 0.108006\tvalid_1's rmse: 0.15929\n",
      "[800]\ttraining's rmse: 0.0993352\tvalid_1's rmse: 0.158129\n",
      "[1000]\ttraining's rmse: 0.0919364\tvalid_1's rmse: 0.158444\n",
      "Early stopping, best iteration is:\n",
      "[800]\ttraining's rmse: 0.0993352\tvalid_1's rmse: 0.158129\n",
      "Seed-3 | Fold-0 | OOF Score: 0.014631378166113927\n",
      "Training until validation scores don't improve for 200 rounds\n",
      "[200]\ttraining's rmse: 0.14274\tvalid_1's rmse: 0.182105\n",
      "[400]\ttraining's rmse: 0.119305\tvalid_1's rmse: 0.17177\n",
      "[600]\ttraining's rmse: 0.107376\tvalid_1's rmse: 0.169503\n",
      "[800]\ttraining's rmse: 0.0986512\tvalid_1's rmse: 0.168855\n",
      "[1000]\ttraining's rmse: 0.0909074\tvalid_1's rmse: 0.168582\n",
      "[1200]\ttraining's rmse: 0.084772\tvalid_1's rmse: 0.168697\n",
      "Early stopping, best iteration is:\n",
      "[1032]\ttraining's rmse: 0.09005\tvalid_1's rmse: 0.168481\n",
      "Seed-3 | Fold-1 | OOF Score: 0.015431337137970172\n",
      "Training until validation scores don't improve for 200 rounds\n",
      "[200]\ttraining's rmse: 0.143331\tvalid_1's rmse: 0.174098\n",
      "[400]\ttraining's rmse: 0.119635\tvalid_1's rmse: 0.16411\n",
      "[600]\ttraining's rmse: 0.108045\tvalid_1's rmse: 0.162021\n",
      "[800]\ttraining's rmse: 0.0989058\tvalid_1's rmse: 0.161378\n",
      "[1000]\ttraining's rmse: 0.0914769\tvalid_1's rmse: 0.161752\n",
      "Early stopping, best iteration is:\n",
      "[847]\ttraining's rmse: 0.0969238\tvalid_1's rmse: 0.161322\n",
      "Seed-3 | Fold-2 | OOF Score: 0.014976590501302865\n",
      "Training until validation scores don't improve for 200 rounds\n",
      "[200]\ttraining's rmse: 0.143406\tvalid_1's rmse: 0.174644\n",
      "[400]\ttraining's rmse: 0.11958\tvalid_1's rmse: 0.163467\n",
      "[600]\ttraining's rmse: 0.107501\tvalid_1's rmse: 0.160336\n",
      "[800]\ttraining's rmse: 0.0981082\tvalid_1's rmse: 0.159062\n",
      "[1000]\ttraining's rmse: 0.0907247\tvalid_1's rmse: 0.158405\n",
      "[1200]\ttraining's rmse: 0.0843914\tvalid_1's rmse: 0.157953\n",
      "[1400]\ttraining's rmse: 0.0791035\tvalid_1's rmse: 0.158013\n",
      "Early stopping, best iteration is:\n",
      "[1243]\ttraining's rmse: 0.083044\tvalid_1's rmse: 0.157861\n",
      "Seed-3 | Fold-3 | OOF Score: 0.01459237529737861\n",
      "Training until validation scores don't improve for 200 rounds\n",
      "[200]\ttraining's rmse: 0.142876\tvalid_1's rmse: 0.172475\n",
      "[400]\ttraining's rmse: 0.118864\tvalid_1's rmse: 0.163534\n",
      "[600]\ttraining's rmse: 0.107684\tvalid_1's rmse: 0.161695\n",
      "[800]\ttraining's rmse: 0.0991553\tvalid_1's rmse: 0.161208\n",
      "[1000]\ttraining's rmse: 0.0916226\tvalid_1's rmse: 0.161254\n",
      "[1200]\ttraining's rmse: 0.0850748\tvalid_1's rmse: 0.161355\n",
      "Early stopping, best iteration is:\n",
      "[1096]\ttraining's rmse: 0.0883174\tvalid_1's rmse: 0.161116\n",
      "Seed-3 | Fold-4 | OOF Score: 0.015009048867744025\n",
      "Training until validation scores don't improve for 200 rounds\n",
      "[200]\ttraining's rmse: 0.143217\tvalid_1's rmse: 0.173247\n",
      "[400]\ttraining's rmse: 0.118909\tvalid_1's rmse: 0.162653\n",
      "[600]\ttraining's rmse: 0.107418\tvalid_1's rmse: 0.160424\n",
      "[800]\ttraining's rmse: 0.0985824\tvalid_1's rmse: 0.159276\n",
      "[1000]\ttraining's rmse: 0.090615\tvalid_1's rmse: 0.15863\n",
      "[1200]\ttraining's rmse: 0.0846022\tvalid_1's rmse: 0.158311\n",
      "[1400]\ttraining's rmse: 0.0788598\tvalid_1's rmse: 0.158305\n",
      "Early stopping, best iteration is:\n",
      "[1340]\ttraining's rmse: 0.0807623\tvalid_1's rmse: 0.158071\n",
      "Seed-3 | Fold-5 | OOF Score: 0.014755477424636319\n",
      "Training until validation scores don't improve for 200 rounds\n",
      "[200]\ttraining's rmse: 0.143468\tvalid_1's rmse: 0.165218\n",
      "[400]\ttraining's rmse: 0.118606\tvalid_1's rmse: 0.154922\n",
      "[600]\ttraining's rmse: 0.107317\tvalid_1's rmse: 0.152952\n",
      "[800]\ttraining's rmse: 0.0981729\tvalid_1's rmse: 0.152211\n",
      "[1000]\ttraining's rmse: 0.091331\tvalid_1's rmse: 0.152042\n",
      "Early stopping, best iteration is:\n",
      "[957]\ttraining's rmse: 0.0930072\tvalid_1's rmse: 0.151957\n",
      "Seed-3 | Fold-6 | OOF Score: 0.014168918835955328\n",
      "Training until validation scores don't improve for 200 rounds\n",
      "[200]\ttraining's rmse: 0.143119\tvalid_1's rmse: 0.177221\n",
      "[400]\ttraining's rmse: 0.119973\tvalid_1's rmse: 0.16634\n",
      "[600]\ttraining's rmse: 0.10828\tvalid_1's rmse: 0.163105\n",
      "[800]\ttraining's rmse: 0.0994732\tvalid_1's rmse: 0.16192\n",
      "[1000]\ttraining's rmse: 0.091975\tvalid_1's rmse: 0.161102\n",
      "[1200]\ttraining's rmse: 0.0852279\tvalid_1's rmse: 0.161251\n",
      "Early stopping, best iteration is:\n",
      "[1009]\ttraining's rmse: 0.09179\tvalid_1's rmse: 0.161083\n",
      "Seed-3 | Fold-7 | OOF Score: 0.0148350171341786\n",
      "Training until validation scores don't improve for 200 rounds\n",
      "[200]\ttraining's rmse: 0.14362\tvalid_1's rmse: 0.168553\n",
      "[400]\ttraining's rmse: 0.119999\tvalid_1's rmse: 0.158795\n",
      "[600]\ttraining's rmse: 0.108088\tvalid_1's rmse: 0.156682\n",
      "[800]\ttraining's rmse: 0.0991849\tvalid_1's rmse: 0.15593\n",
      "[1000]\ttraining's rmse: 0.0914192\tvalid_1's rmse: 0.155789\n",
      "Early stopping, best iteration is:\n",
      "[935]\ttraining's rmse: 0.0935401\tvalid_1's rmse: 0.155651\n",
      "Seed-3 | Fold-8 | OOF Score: 0.014381654904755369\n",
      "Training until validation scores don't improve for 200 rounds\n",
      "[200]\ttraining's rmse: 0.14336\tvalid_1's rmse: 0.173861\n",
      "[400]\ttraining's rmse: 0.118857\tvalid_1's rmse: 0.164448\n",
      "[600]\ttraining's rmse: 0.107036\tvalid_1's rmse: 0.162921\n",
      "[800]\ttraining's rmse: 0.098637\tvalid_1's rmse: 0.162324\n",
      "[1000]\ttraining's rmse: 0.0915725\tvalid_1's rmse: 0.161823\n",
      "[1200]\ttraining's rmse: 0.0852829\tvalid_1's rmse: 0.162003\n",
      "Early stopping, best iteration is:\n",
      "[1052]\ttraining's rmse: 0.0898833\tvalid_1's rmse: 0.161631\n",
      "Seed-3 | Fold-9 | OOF Score: 0.01492306942492927\n",
      "\n",
      "Seed: 3 | Aggregate OOF Score: 0.014770486769496449\n",
      "\n",
      "\n",
      "Aggregate OOF Score: 0.014817605822588092\n"
     ]
    }
   ],
   "source": [
    "FOLD = 10\n",
    "NUM_SEED = 2\n",
    "\n",
    "np.random.seed(3)\n",
    "seeds = np.random.randint(0, 100, size=NUM_SEED)\n",
    "\n",
    "oof_score = 0\n",
    "y_pred_meta_lgb = np.zeros((Ytrain.shape[0], NUM_SEED))\n",
    "y_pred_final_lgb = np.zeros((Xtest.shape[0], NUM_SEED))\n",
    "counter = 0\n",
    "\n",
    "\n",
    "for sidx, seed in enumerate(seeds):\n",
    "    seed_score = 0\n",
    "    \n",
    "    kfold = StratifiedKFold(n_splits=FOLD, shuffle=True, random_state=seed)\n",
    "\n",
    "    for idx, (train, val) in enumerate(kfold.split(Xtrain, Ytrain_strat)):\n",
    "        counter += 1\n",
    "\n",
    "        train_x, train_y = Xtrain[train], Ytrain[train]\n",
    "        val_x, val_y = Xtrain[val], Ytrain[val]\n",
    "\n",
    "        lgtrain = lgb.Dataset(train_x, label=train_y.ravel())\n",
    "        lgvalidation = lgb.Dataset(val_x, label=val_y.ravel())\n",
    "\n",
    "        model = lgb.train(params, lgtrain, num_rounds, \n",
    "                          valid_sets=[lgtrain, lgvalidation], \n",
    "                          early_stopping_rounds=200, verbose_eval=200)\n",
    "\n",
    "        y_pred = model.predict(val_x, num_iteration=model.best_iteration)\n",
    "        y_pred_meta_lgb[val, sidx] = y_pred\n",
    "        y_pred_final_lgb[:, sidx] += model.predict(Xtest, num_iteration=model.best_iteration)\n",
    "        \n",
    "        score = np.sqrt(mean_squared_log_error(val_y, y_pred))\n",
    "        oof_score += score\n",
    "        seed_score += score\n",
    "        print(\"Seed-{} | Fold-{} | OOF Score: {}\".format(seed, idx, score))\n",
    "    \n",
    "    print(\"\\nSeed: {} | Aggregate OOF Score: {}\\n\\n\".format(seed, (seed_score / FOLD)))\n",
    "\n",
    "\n",
    "y_pred_final_lgb = y_pred_final_lgb / float(FOLD)\n",
    "oof_score /= float(counter)\n",
    "print(\"Aggregate OOF Score: {}\".format(oof_score))"
   ]
  },
  {
   "cell_type": "code",
   "execution_count": 6,
   "id": "genuine-updating",
   "metadata": {
    "execution": {
     "iopub.execute_input": "2021-04-07T06:19:40.371791Z",
     "iopub.status.busy": "2021-04-07T06:19:40.370820Z",
     "iopub.status.idle": "2021-04-07T06:19:40.406710Z",
     "shell.execute_reply": "2021-04-07T06:19:40.406083Z"
    },
    "id": "uLzmS7LzXvXy",
    "papermill": {
     "duration": 0.094904,
     "end_time": "2021-04-07T06:19:40.406864",
     "exception": false,
     "start_time": "2021-04-07T06:19:40.311960",
     "status": "completed"
    },
    "tags": []
   },
   "outputs": [],
   "source": [
    "np.savez_compressed('./LGB_Meta_Features.npz',\n",
    "                    y_pred_meta_lgb=y_pred_meta_lgb, \n",
    "                    oof_score=oof_score,\n",
    "                    y_pred_final_lgb=y_pred_final_lgb)"
   ]
  },
  {
   "cell_type": "code",
   "execution_count": 7,
   "id": "spare-printing",
   "metadata": {
    "execution": {
     "iopub.execute_input": "2021-04-07T06:19:40.518652Z",
     "iopub.status.busy": "2021-04-07T06:19:40.517880Z",
     "iopub.status.idle": "2021-04-07T06:19:40.527320Z",
     "shell.execute_reply": "2021-04-07T06:19:40.527692Z"
    },
    "executionInfo": {
     "elapsed": 1417,
     "status": "ok",
     "timestamp": 1616078535765,
     "user": {
      "displayName": "TAPAS DAS",
      "photoUrl": "https://lh3.googleusercontent.com/a-/AOh14GiyffdGKiPCR_UwVittzTcbBFms70IkGfU15fatCA=s64",
      "userId": "10798398878324948542"
     },
     "user_tz": -330
    },
    "id": "zGEGOAJHVoHV",
    "outputId": "53ab44cf-755f-435d-c1af-f4184f2114dd",
    "papermill": {
     "duration": 0.06888,
     "end_time": "2021-04-07T06:19:40.527834",
     "exception": false,
     "start_time": "2021-04-07T06:19:40.458954",
     "status": "completed"
    },
    "tags": []
   },
   "outputs": [
    {
     "data": {
      "text/html": [
       "<div>\n",
       "<style scoped>\n",
       "    .dataframe tbody tr th:only-of-type {\n",
       "        vertical-align: middle;\n",
       "    }\n",
       "\n",
       "    .dataframe tbody tr th {\n",
       "        vertical-align: top;\n",
       "    }\n",
       "\n",
       "    .dataframe thead th {\n",
       "        text-align: right;\n",
       "    }\n",
       "</style>\n",
       "<table border=\"1\" class=\"dataframe\">\n",
       "  <thead>\n",
       "    <tr style=\"text-align: right;\">\n",
       "      <th></th>\n",
       "      <th>0</th>\n",
       "      <th>1</th>\n",
       "    </tr>\n",
       "  </thead>\n",
       "  <tbody>\n",
       "    <tr>\n",
       "      <th>0</th>\n",
       "      <td>9.836393</td>\n",
       "      <td>9.851721</td>\n",
       "    </tr>\n",
       "    <tr>\n",
       "      <th>1</th>\n",
       "      <td>9.345177</td>\n",
       "      <td>9.350893</td>\n",
       "    </tr>\n",
       "    <tr>\n",
       "      <th>2</th>\n",
       "      <td>8.676921</td>\n",
       "      <td>8.672698</td>\n",
       "    </tr>\n",
       "    <tr>\n",
       "      <th>3</th>\n",
       "      <td>8.874968</td>\n",
       "      <td>8.878176</td>\n",
       "    </tr>\n",
       "    <tr>\n",
       "      <th>4</th>\n",
       "      <td>9.971778</td>\n",
       "      <td>9.971347</td>\n",
       "    </tr>\n",
       "  </tbody>\n",
       "</table>\n",
       "</div>"
      ],
      "text/plain": [
       "          0         1\n",
       "0  9.836393  9.851721\n",
       "1  9.345177  9.350893\n",
       "2  8.676921  8.672698\n",
       "3  8.874968  8.878176\n",
       "4  9.971778  9.971347"
      ]
     },
     "execution_count": 7,
     "metadata": {},
     "output_type": "execute_result"
    }
   ],
   "source": [
    "df = pd.DataFrame(y_pred_final_lgb)\n",
    "df.head()"
   ]
  },
  {
   "cell_type": "code",
   "execution_count": null,
   "id": "crazy-audit",
   "metadata": {
    "id": "W2c88MvxXm65",
    "papermill": {
     "duration": 0.087487,
     "end_time": "2021-04-07T06:19:40.704971",
     "exception": false,
     "start_time": "2021-04-07T06:19:40.617484",
     "status": "completed"
    },
    "tags": []
   },
   "outputs": [],
   "source": []
  }
 ],
 "metadata": {
  "kernelspec": {
   "display_name": "Python 3",
   "language": "python",
   "name": "python3"
  },
  "language_info": {
   "codemirror_mode": {
    "name": "ipython",
    "version": 3
   },
   "file_extension": ".py",
   "mimetype": "text/x-python",
   "name": "python",
   "nbconvert_exporter": "python",
   "pygments_lexer": "ipython3",
   "version": "3.7.9"
  },
  "papermill": {
   "default_parameters": {},
   "duration": 15154.85755,
   "end_time": "2021-04-07T06:19:42.001342",
   "environment_variables": {},
   "exception": null,
   "input_path": "__notebook__.ipynb",
   "output_path": "__notebook__.ipynb",
   "parameters": {},
   "start_time": "2021-04-07T02:07:07.143792",
   "version": "2.3.2"
  }
 },
 "nbformat": 4,
 "nbformat_minor": 5
}
