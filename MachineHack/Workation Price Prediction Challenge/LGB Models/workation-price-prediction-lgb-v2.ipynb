{
 "cells": [
  {
   "cell_type": "markdown",
   "id": "progressive-extension",
   "metadata": {
    "id": "uLz9OcH8SeET",
    "papermill": {
     "duration": 0.008674,
     "end_time": "2021-04-07T16:51:27.230775",
     "exception": false,
     "start_time": "2021-04-07T16:51:27.222101",
     "status": "completed"
    },
    "tags": []
   },
   "source": [
    "## Import libraries"
   ]
  },
  {
   "cell_type": "code",
   "execution_count": 1,
   "id": "capable-netscape",
   "metadata": {
    "execution": {
     "iopub.execute_input": "2021-04-07T16:51:27.253628Z",
     "iopub.status.busy": "2021-04-07T16:51:27.253046Z",
     "iopub.status.idle": "2021-04-07T16:51:28.289227Z",
     "shell.execute_reply": "2021-04-07T16:51:28.288141Z"
    },
    "executionInfo": {
     "elapsed": 18546,
     "status": "ok",
     "timestamp": 1616326755679,
     "user": {
      "displayName": "TAPAS DAS",
      "photoUrl": "https://lh3.googleusercontent.com/a-/AOh14GiyffdGKiPCR_UwVittzTcbBFms70IkGfU15fatCA=s64",
      "userId": "10798398878324948542"
     },
     "user_tz": -330
    },
    "id": "E9svswc9SUuX",
    "papermill": {
     "duration": 1.050386,
     "end_time": "2021-04-07T16:51:28.289407",
     "exception": false,
     "start_time": "2021-04-07T16:51:27.239021",
     "status": "completed"
    },
    "tags": []
   },
   "outputs": [
    {
     "data": {
      "text/html": [
       "<style type='text/css'>\n",
       ".datatable table.frame { margin-bottom: 0; }\n",
       ".datatable table.frame thead { border-bottom: none; }\n",
       ".datatable table.frame tr.coltypes td {  color: #FFFFFF;  line-height: 6px;  padding: 0 0.5em;}\n",
       ".datatable .bool    { background: #DDDD99; }\n",
       ".datatable .object  { background: #565656; }\n",
       ".datatable .int     { background: #5D9E5D; }\n",
       ".datatable .float   { background: #4040CC; }\n",
       ".datatable .str     { background: #CC4040; }\n",
       ".datatable .row_index {  background: var(--jp-border-color3);  border-right: 1px solid var(--jp-border-color0);  color: var(--jp-ui-font-color3);  font-size: 9px;}\n",
       ".datatable .frame tr.coltypes .row_index {  background: var(--jp-border-color0);}\n",
       ".datatable th:nth-child(2) { padding-left: 12px; }\n",
       ".datatable .hellipsis {  color: var(--jp-cell-editor-border-color);}\n",
       ".datatable .vellipsis {  background: var(--jp-layout-color0);  color: var(--jp-cell-editor-border-color);}\n",
       ".datatable .na {  color: var(--jp-cell-editor-border-color);  font-size: 80%;}\n",
       ".datatable .footer { font-size: 9px; }\n",
       ".datatable .frame_dimensions {  background: var(--jp-border-color3);  border-top: 1px solid var(--jp-border-color0);  color: var(--jp-ui-font-color3);  display: inline-block;  opacity: 0.6;  padding: 1px 10px 1px 5px;}\n",
       "</style>\n"
      ],
      "text/plain": [
       "<IPython.core.display.HTML object>"
      ]
     },
     "metadata": {},
     "output_type": "display_data"
    }
   ],
   "source": [
    "import gc\n",
    "import pickle\n",
    "import numpy as np\n",
    "import pandas as pd\n",
    "import lightgbm as lgb\n",
    "from sklearn.model_selection import StratifiedKFold\n",
    "from sklearn.metrics import mean_squared_log_error"
   ]
  },
  {
   "cell_type": "markdown",
   "id": "tired-intervention",
   "metadata": {
    "id": "hg85SpW-S6hl",
    "papermill": {
     "duration": 0.008023,
     "end_time": "2021-04-07T16:51:28.306045",
     "exception": false,
     "start_time": "2021-04-07T16:51:28.298022",
     "status": "completed"
    },
    "tags": []
   },
   "source": [
    "## Prepare data for model training"
   ]
  },
  {
   "cell_type": "code",
   "execution_count": 2,
   "id": "closing-spring",
   "metadata": {
    "execution": {
     "iopub.execute_input": "2021-04-07T16:51:28.327948Z",
     "iopub.status.busy": "2021-04-07T16:51:28.327414Z",
     "iopub.status.idle": "2021-04-07T16:51:39.756712Z",
     "shell.execute_reply": "2021-04-07T16:51:39.755720Z"
    },
    "executionInfo": {
     "elapsed": 15266,
     "status": "ok",
     "timestamp": 1616326759527,
     "user": {
      "displayName": "TAPAS DAS",
      "photoUrl": "https://lh3.googleusercontent.com/a-/AOh14GiyffdGKiPCR_UwVittzTcbBFms70IkGfU15fatCA=s64",
      "userId": "10798398878324948542"
     },
     "user_tz": -330
    },
    "id": "VdhgoIAmSUxK",
    "outputId": "593389e9-9839-415d-bc72-10af58db79f5",
    "papermill": {
     "duration": 11.442612,
     "end_time": "2021-04-07T16:51:39.756850",
     "exception": false,
     "start_time": "2021-04-07T16:51:28.314238",
     "status": "completed"
    },
    "tags": []
   },
   "outputs": [
    {
     "data": {
      "text/plain": [
       "31"
      ]
     },
     "execution_count": 2,
     "metadata": {},
     "output_type": "execute_result"
    }
   ],
   "source": [
    "with open(\"../input/workation-price-prediction-preprocess-data-v2/Workation_Dataset.txt\", 'rb') as handle: \n",
    "    data = handle.read()\n",
    "\n",
    "processed_data = pickle.loads(data)\n",
    "train_df = processed_data['train_df']\n",
    "test_df = processed_data['test_df']\n",
    "\n",
    "train_df = train_df[~((train_df['Per Person Price'] < 7.3) | (np.exp(train_df['Per Person Price']) > 150000))].copy()\n",
    "\n",
    "del processed_data\n",
    "gc.collect()"
   ]
  },
  {
   "cell_type": "code",
   "execution_count": 3,
   "id": "gorgeous-phenomenon",
   "metadata": {
    "execution": {
     "iopub.execute_input": "2021-04-07T16:51:39.781186Z",
     "iopub.status.busy": "2021-04-07T16:51:39.780666Z",
     "iopub.status.idle": "2021-04-07T16:51:40.530677Z",
     "shell.execute_reply": "2021-04-07T16:51:40.531063Z"
    },
    "executionInfo": {
     "elapsed": 4738,
     "status": "ok",
     "timestamp": 1616326764348,
     "user": {
      "displayName": "TAPAS DAS",
      "photoUrl": "https://lh3.googleusercontent.com/a-/AOh14GiyffdGKiPCR_UwVittzTcbBFms70IkGfU15fatCA=s64",
      "userId": "10798398878324948542"
     },
     "user_tz": -330
    },
    "id": "UAfyHbeASU7C",
    "outputId": "5f1e7e87-752b-4928-fab4-2f907d8c1e0c",
    "papermill": {
     "duration": 0.76566,
     "end_time": "2021-04-07T16:51:40.531220",
     "exception": false,
     "start_time": "2021-04-07T16:51:39.765560",
     "status": "completed"
    },
    "tags": []
   },
   "outputs": [
    {
     "name": "stdout",
     "output_type": "stream",
     "text": [
      "Xtrain: (20989, 5752) \n",
      "Ytrain: (20989,) \n",
      "Xtest: (9000, 5752)\n"
     ]
    },
    {
     "data": {
      "text/plain": [
       "0"
      ]
     },
     "execution_count": 3,
     "metadata": {},
     "output_type": "execute_result"
    }
   ],
   "source": [
    "Xtrain = train_df.loc[:, train_df.columns != 'Per Person Price'].values\n",
    "Ytrain = train_df['Per Person Price'].values\n",
    "Ytrain_strat = pd.qcut(train_df['Per Person Price'].values, q=10, labels=range(0,10))\n",
    "Xtest = test_df.values\n",
    "\n",
    "print(\"Xtrain: {} \\nYtrain: {} \\nXtest: {}\".format(Xtrain.shape, Ytrain.shape, Xtest.shape))\n",
    "\n",
    "del train_df\n",
    "del test_df\n",
    "gc.collect()"
   ]
  },
  {
   "cell_type": "markdown",
   "id": "orange-amber",
   "metadata": {
    "id": "9wNC5rWEVnjd",
    "papermill": {
     "duration": 0.008986,
     "end_time": "2021-04-07T16:51:40.549677",
     "exception": false,
     "start_time": "2021-04-07T16:51:40.540691",
     "status": "completed"
    },
    "tags": []
   },
   "source": [
    "## Build and validate the model"
   ]
  },
  {
   "cell_type": "code",
   "execution_count": 4,
   "id": "distant-ranch",
   "metadata": {
    "execution": {
     "iopub.execute_input": "2021-04-07T16:51:40.573490Z",
     "iopub.status.busy": "2021-04-07T16:51:40.572952Z",
     "iopub.status.idle": "2021-04-07T16:51:40.576437Z",
     "shell.execute_reply": "2021-04-07T16:51:40.576828Z"
    },
    "executionInfo": {
     "elapsed": 1340,
     "status": "ok",
     "timestamp": 1616326770908,
     "user": {
      "displayName": "TAPAS DAS",
      "photoUrl": "https://lh3.googleusercontent.com/a-/AOh14GiyffdGKiPCR_UwVittzTcbBFms70IkGfU15fatCA=s64",
      "userId": "10798398878324948542"
     },
     "user_tz": -330
    },
    "id": "IhtH9c5va7WY",
    "papermill": {
     "duration": 0.018217,
     "end_time": "2021-04-07T16:51:40.576970",
     "exception": false,
     "start_time": "2021-04-07T16:51:40.558753",
     "status": "completed"
    },
    "tags": []
   },
   "outputs": [],
   "source": [
    "params = {}\n",
    "params[\"objective\"] = 'regression'\n",
    "params[\"metric\"] = 'rmse'\n",
    "params[\"boosting\"] = 'gbdt'\n",
    "params[\"device_type\"] = 'gpu'\n",
    "params[\"learning_rate\"] = 0.0255\n",
    "params[\"lambda_l2\"] = 0.001\n",
    "params[\"num_leaves\"] = 63\n",
    "params[\"max_depth\"] = 12\n",
    "params[\"feature_fraction\"] = 0.666\n",
    "params[\"bagging_fraction\"] = 0.727\n",
    "params[\"bagging_freq\"] = 5\n",
    "params[\"min_data_in_leaf\"] = 7\n",
    "params[\"verbosity\"] = -1\n",
    "num_rounds = 8000"
   ]
  },
  {
   "cell_type": "code",
   "execution_count": 5,
   "id": "superb-bargain",
   "metadata": {
    "execution": {
     "iopub.execute_input": "2021-04-07T16:51:40.610090Z",
     "iopub.status.busy": "2021-04-07T16:51:40.609218Z",
     "iopub.status.idle": "2021-04-07T20:22:14.617538Z",
     "shell.execute_reply": "2021-04-07T20:22:14.618066Z"
    },
    "executionInfo": {
     "elapsed": 226745,
     "status": "error",
     "timestamp": 1616326997825,
     "user": {
      "displayName": "TAPAS DAS",
      "photoUrl": "https://lh3.googleusercontent.com/a-/AOh14GiyffdGKiPCR_UwVittzTcbBFms70IkGfU15fatCA=s64",
      "userId": "10798398878324948542"
     },
     "user_tz": -330
    },
    "id": "uWPosEORSVBp",
    "outputId": "ecad76e6-e82d-4e4a-ef18-937bc0235495",
    "papermill": {
     "duration": 12634.03066,
     "end_time": "2021-04-07T20:22:14.618275",
     "exception": false,
     "start_time": "2021-04-07T16:51:40.587615",
     "status": "completed"
    },
    "tags": []
   },
   "outputs": [
    {
     "name": "stdout",
     "output_type": "stream",
     "text": [
      "Training until validation scores don't improve for 200 rounds\n",
      "[200]\ttraining's rmse: 0.136279\tvalid_1's rmse: 0.171187\n",
      "[400]\ttraining's rmse: 0.112315\tvalid_1's rmse: 0.164373\n",
      "[600]\ttraining's rmse: 0.0994399\tvalid_1's rmse: 0.163657\n",
      "[800]\ttraining's rmse: 0.0899089\tvalid_1's rmse: 0.163292\n",
      "Early stopping, best iteration is:\n",
      "[790]\ttraining's rmse: 0.090274\tvalid_1's rmse: 0.163165\n",
      "Seed-24 | Fold-0 | OOF Score: 0.015113709697456163\n",
      "Training until validation scores don't improve for 200 rounds\n",
      "[200]\ttraining's rmse: 0.137622\tvalid_1's rmse: 0.164692\n",
      "[400]\ttraining's rmse: 0.113223\tvalid_1's rmse: 0.15771\n",
      "[600]\ttraining's rmse: 0.0998534\tvalid_1's rmse: 0.156369\n",
      "Early stopping, best iteration is:\n",
      "[570]\ttraining's rmse: 0.101371\tvalid_1's rmse: 0.15616\n",
      "Seed-24 | Fold-1 | OOF Score: 0.014509972097448484\n",
      "Training until validation scores don't improve for 200 rounds\n",
      "[200]\ttraining's rmse: 0.138158\tvalid_1's rmse: 0.166226\n",
      "[400]\ttraining's rmse: 0.113932\tvalid_1's rmse: 0.156247\n",
      "[600]\ttraining's rmse: 0.10095\tvalid_1's rmse: 0.15474\n",
      "[800]\ttraining's rmse: 0.0915402\tvalid_1's rmse: 0.154292\n",
      "Early stopping, best iteration is:\n",
      "[765]\ttraining's rmse: 0.0929232\tvalid_1's rmse: 0.154\n",
      "Seed-24 | Fold-2 | OOF Score: 0.014224799090358214\n",
      "Training until validation scores don't improve for 200 rounds\n",
      "[200]\ttraining's rmse: 0.137706\tvalid_1's rmse: 0.170847\n",
      "[400]\ttraining's rmse: 0.113154\tvalid_1's rmse: 0.16402\n",
      "[600]\ttraining's rmse: 0.100318\tvalid_1's rmse: 0.163566\n",
      "Early stopping, best iteration is:\n",
      "[553]\ttraining's rmse: 0.102867\tvalid_1's rmse: 0.16331\n",
      "Seed-24 | Fold-3 | OOF Score: 0.01509870554745279\n",
      "Training until validation scores don't improve for 200 rounds\n",
      "[200]\ttraining's rmse: 0.137881\tvalid_1's rmse: 0.166117\n",
      "[400]\ttraining's rmse: 0.113736\tvalid_1's rmse: 0.16006\n",
      "[600]\ttraining's rmse: 0.100454\tvalid_1's rmse: 0.160035\n",
      "Early stopping, best iteration is:\n",
      "[514]\ttraining's rmse: 0.105484\tvalid_1's rmse: 0.159499\n",
      "Seed-24 | Fold-4 | OOF Score: 0.014809802905788651\n",
      "Training until validation scores don't improve for 200 rounds\n",
      "[200]\ttraining's rmse: 0.137562\tvalid_1's rmse: 0.173973\n",
      "[400]\ttraining's rmse: 0.113574\tvalid_1's rmse: 0.164579\n",
      "[600]\ttraining's rmse: 0.100376\tvalid_1's rmse: 0.163506\n",
      "[800]\ttraining's rmse: 0.0909272\tvalid_1's rmse: 0.162685\n",
      "Early stopping, best iteration is:\n",
      "[775]\ttraining's rmse: 0.0918777\tvalid_1's rmse: 0.162678\n",
      "Seed-24 | Fold-5 | OOF Score: 0.015004422313840988\n",
      "Training until validation scores don't improve for 200 rounds\n",
      "[200]\ttraining's rmse: 0.137747\tvalid_1's rmse: 0.171748\n",
      "[400]\ttraining's rmse: 0.113088\tvalid_1's rmse: 0.164325\n",
      "[600]\ttraining's rmse: 0.100394\tvalid_1's rmse: 0.163134\n",
      "[800]\ttraining's rmse: 0.0905332\tvalid_1's rmse: 0.163111\n",
      "Early stopping, best iteration is:\n",
      "[738]\ttraining's rmse: 0.093303\tvalid_1's rmse: 0.162804\n",
      "Seed-24 | Fold-6 | OOF Score: 0.015118912240419205\n",
      "Training until validation scores don't improve for 200 rounds\n",
      "[200]\ttraining's rmse: 0.136736\tvalid_1's rmse: 0.175336\n",
      "[400]\ttraining's rmse: 0.111747\tvalid_1's rmse: 0.167005\n",
      "[600]\ttraining's rmse: 0.0987354\tvalid_1's rmse: 0.165976\n",
      "[800]\ttraining's rmse: 0.0894845\tvalid_1's rmse: 0.165813\n",
      "[1000]\ttraining's rmse: 0.0820421\tvalid_1's rmse: 0.165644\n",
      "Early stopping, best iteration is:\n",
      "[968]\ttraining's rmse: 0.083185\tvalid_1's rmse: 0.165563\n",
      "Seed-24 | Fold-7 | OOF Score: 0.015319336059481568\n",
      "Training until validation scores don't improve for 200 rounds\n",
      "[200]\ttraining's rmse: 0.136937\tvalid_1's rmse: 0.176643\n",
      "[400]\ttraining's rmse: 0.11303\tvalid_1's rmse: 0.167963\n",
      "[600]\ttraining's rmse: 0.0999278\tvalid_1's rmse: 0.166491\n",
      "[800]\ttraining's rmse: 0.0905557\tvalid_1's rmse: 0.165371\n",
      "[1000]\ttraining's rmse: 0.0828011\tvalid_1's rmse: 0.166508\n",
      "Early stopping, best iteration is:\n",
      "[810]\ttraining's rmse: 0.0902204\tvalid_1's rmse: 0.165275\n",
      "Seed-24 | Fold-8 | OOF Score: 0.015300843092608917\n",
      "Training until validation scores don't improve for 200 rounds\n",
      "[200]\ttraining's rmse: 0.137613\tvalid_1's rmse: 0.175475\n",
      "[400]\ttraining's rmse: 0.113448\tvalid_1's rmse: 0.166605\n",
      "[600]\ttraining's rmse: 0.100513\tvalid_1's rmse: 0.164279\n",
      "[800]\ttraining's rmse: 0.0908392\tvalid_1's rmse: 0.16414\n",
      "[1000]\ttraining's rmse: 0.0832446\tvalid_1's rmse: 0.16336\n",
      "[1200]\ttraining's rmse: 0.0769952\tvalid_1's rmse: 0.163604\n",
      "Early stopping, best iteration is:\n",
      "[1001]\ttraining's rmse: 0.0832155\tvalid_1's rmse: 0.163359\n",
      "Seed-24 | Fold-9 | OOF Score: 0.015132845720235117\n",
      "\n",
      "Seed: 24 | Aggregate OOF Score: 0.014963334876509013\n",
      "\n",
      "\n",
      "Training until validation scores don't improve for 200 rounds\n",
      "[200]\ttraining's rmse: 0.138137\tvalid_1's rmse: 0.168065\n",
      "[400]\ttraining's rmse: 0.11362\tvalid_1's rmse: 0.159798\n",
      "[600]\ttraining's rmse: 0.100854\tvalid_1's rmse: 0.158396\n",
      "[800]\ttraining's rmse: 0.091416\tvalid_1's rmse: 0.158084\n",
      "[1000]\ttraining's rmse: 0.0842423\tvalid_1's rmse: 0.158004\n",
      "Early stopping, best iteration is:\n",
      "[837]\ttraining's rmse: 0.0899251\tvalid_1's rmse: 0.15787\n",
      "Seed-3 | Fold-0 | OOF Score: 0.014603487268508974\n",
      "Training until validation scores don't improve for 200 rounds\n",
      "[200]\ttraining's rmse: 0.137138\tvalid_1's rmse: 0.178294\n",
      "[400]\ttraining's rmse: 0.112935\tvalid_1's rmse: 0.170759\n",
      "[600]\ttraining's rmse: 0.0996339\tvalid_1's rmse: 0.169844\n",
      "Early stopping, best iteration is:\n",
      "[581]\ttraining's rmse: 0.100916\tvalid_1's rmse: 0.169628\n",
      "Seed-3 | Fold-1 | OOF Score: 0.015546014645979874\n",
      "Training until validation scores don't improve for 200 rounds\n",
      "[200]\ttraining's rmse: 0.137615\tvalid_1's rmse: 0.171215\n",
      "[400]\ttraining's rmse: 0.113092\tvalid_1's rmse: 0.161635\n",
      "[600]\ttraining's rmse: 0.0993762\tvalid_1's rmse: 0.161072\n",
      "Early stopping, best iteration is:\n",
      "[515]\ttraining's rmse: 0.104376\tvalid_1's rmse: 0.160935\n",
      "Seed-3 | Fold-2 | OOF Score: 0.014949272482802346\n",
      "Training until validation scores don't improve for 200 rounds\n",
      "[200]\ttraining's rmse: 0.137589\tvalid_1's rmse: 0.172653\n",
      "[400]\ttraining's rmse: 0.113637\tvalid_1's rmse: 0.163047\n",
      "[600]\ttraining's rmse: 0.100973\tvalid_1's rmse: 0.160696\n",
      "[800]\ttraining's rmse: 0.091466\tvalid_1's rmse: 0.160137\n",
      "[1000]\ttraining's rmse: 0.0840392\tvalid_1's rmse: 0.159665\n",
      "[1200]\ttraining's rmse: 0.0776098\tvalid_1's rmse: 0.160203\n",
      "Early stopping, best iteration is:\n",
      "[1000]\ttraining's rmse: 0.0840392\tvalid_1's rmse: 0.159665\n",
      "Seed-3 | Fold-3 | OOF Score: 0.014767948706871977\n",
      "Training until validation scores don't improve for 200 rounds\n",
      "[200]\ttraining's rmse: 0.137188\tvalid_1's rmse: 0.170686\n",
      "[400]\ttraining's rmse: 0.112633\tvalid_1's rmse: 0.164142\n",
      "[600]\ttraining's rmse: 0.0996168\tvalid_1's rmse: 0.163032\n",
      "[800]\ttraining's rmse: 0.0907029\tvalid_1's rmse: 0.1631\n",
      "Early stopping, best iteration is:\n",
      "[628]\ttraining's rmse: 0.0980875\tvalid_1's rmse: 0.162848\n",
      "Seed-3 | Fold-4 | OOF Score: 0.015197282753444672\n",
      "Training until validation scores don't improve for 200 rounds\n",
      "[200]\ttraining's rmse: 0.137219\tvalid_1's rmse: 0.170141\n",
      "[400]\ttraining's rmse: 0.112887\tvalid_1's rmse: 0.162351\n",
      "[600]\ttraining's rmse: 0.100308\tvalid_1's rmse: 0.160783\n",
      "[800]\ttraining's rmse: 0.0907745\tvalid_1's rmse: 0.160294\n",
      "[1000]\ttraining's rmse: 0.0827345\tvalid_1's rmse: 0.160345\n",
      "Early stopping, best iteration is:\n",
      "[962]\ttraining's rmse: 0.0841355\tvalid_1's rmse: 0.160201\n",
      "Seed-3 | Fold-5 | OOF Score: 0.014960800320964154\n",
      "Training until validation scores don't improve for 200 rounds\n",
      "[200]\ttraining's rmse: 0.137934\tvalid_1's rmse: 0.159149\n",
      "[400]\ttraining's rmse: 0.113834\tvalid_1's rmse: 0.151842\n",
      "[600]\ttraining's rmse: 0.100416\tvalid_1's rmse: 0.150644\n",
      "[800]\ttraining's rmse: 0.0910337\tvalid_1's rmse: 0.150697\n",
      "Early stopping, best iteration is:\n",
      "[653]\ttraining's rmse: 0.0976507\tvalid_1's rmse: 0.1504\n",
      "Seed-3 | Fold-6 | OOF Score: 0.014017619779701352\n",
      "Training until validation scores don't improve for 200 rounds\n",
      "[200]\ttraining's rmse: 0.137454\tvalid_1's rmse: 0.173965\n",
      "[400]\ttraining's rmse: 0.113132\tvalid_1's rmse: 0.165074\n",
      "[600]\ttraining's rmse: 0.0998931\tvalid_1's rmse: 0.163614\n",
      "[800]\ttraining's rmse: 0.0909276\tvalid_1's rmse: 0.163107\n",
      "[1000]\ttraining's rmse: 0.0838559\tvalid_1's rmse: 0.163235\n",
      "Early stopping, best iteration is:\n",
      "[815]\ttraining's rmse: 0.0903421\tvalid_1's rmse: 0.163031\n",
      "Seed-3 | Fold-7 | OOF Score: 0.015018892609914498\n",
      "Training until validation scores don't improve for 200 rounds\n",
      "[200]\ttraining's rmse: 0.137969\tvalid_1's rmse: 0.165953\n",
      "[400]\ttraining's rmse: 0.113562\tvalid_1's rmse: 0.156416\n",
      "[600]\ttraining's rmse: 0.100409\tvalid_1's rmse: 0.154757\n",
      "[800]\ttraining's rmse: 0.0904997\tvalid_1's rmse: 0.154635\n",
      "[1000]\ttraining's rmse: 0.0828062\tvalid_1's rmse: 0.154696\n",
      "Early stopping, best iteration is:\n",
      "[876]\ttraining's rmse: 0.0873399\tvalid_1's rmse: 0.154408\n",
      "Seed-3 | Fold-8 | OOF Score: 0.014268318625199512\n",
      "Training until validation scores don't improve for 200 rounds\n",
      "[200]\ttraining's rmse: 0.137469\tvalid_1's rmse: 0.171767\n",
      "[400]\ttraining's rmse: 0.113166\tvalid_1's rmse: 0.163178\n",
      "[600]\ttraining's rmse: 0.100496\tvalid_1's rmse: 0.162016\n",
      "[800]\ttraining's rmse: 0.0909507\tvalid_1's rmse: 0.162336\n",
      "Early stopping, best iteration is:\n",
      "[686]\ttraining's rmse: 0.0961056\tvalid_1's rmse: 0.161878\n",
      "Seed-3 | Fold-9 | OOF Score: 0.014952506004925308\n",
      "\n",
      "Seed: 3 | Aggregate OOF Score: 0.014828214319831268\n",
      "\n",
      "\n",
      "Aggregate OOF Score: 0.014895774598170139\n"
     ]
    }
   ],
   "source": [
    "FOLD = 10\n",
    "NUM_SEED = 2\n",
    "\n",
    "np.random.seed(3)\n",
    "seeds = np.random.randint(0, 100, size=NUM_SEED)\n",
    "\n",
    "oof_score = 0\n",
    "y_pred_meta_lgb = np.zeros((Ytrain.shape[0], NUM_SEED))\n",
    "y_pred_final_lgb = np.zeros((Xtest.shape[0], NUM_SEED))\n",
    "counter = 0\n",
    "\n",
    "\n",
    "for sidx, seed in enumerate(seeds):\n",
    "    seed_score = 0\n",
    "    \n",
    "    kfold = StratifiedKFold(n_splits=FOLD, shuffle=True, random_state=seed)\n",
    "\n",
    "    for idx, (train, val) in enumerate(kfold.split(Xtrain, Ytrain_strat)):\n",
    "        counter += 1\n",
    "\n",
    "        train_x, train_y = Xtrain[train], Ytrain[train]\n",
    "        val_x, val_y = Xtrain[val], Ytrain[val]\n",
    "\n",
    "        lgtrain = lgb.Dataset(train_x, label=train_y.ravel())\n",
    "        lgvalidation = lgb.Dataset(val_x, label=val_y.ravel())\n",
    "\n",
    "        model = lgb.train(params, lgtrain, num_rounds, \n",
    "                          valid_sets=[lgtrain, lgvalidation], \n",
    "                          early_stopping_rounds=200, verbose_eval=200)\n",
    "\n",
    "        y_pred = model.predict(val_x, num_iteration=model.best_iteration)\n",
    "        y_pred_meta_lgb[val, sidx] = y_pred\n",
    "        y_pred_final_lgb[:, sidx] += model.predict(Xtest, num_iteration=model.best_iteration)\n",
    "        \n",
    "        score = np.sqrt(mean_squared_log_error(val_y, y_pred))\n",
    "        oof_score += score\n",
    "        seed_score += score\n",
    "        print(\"Seed-{} | Fold-{} | OOF Score: {}\".format(seed, idx, score))\n",
    "    \n",
    "    print(\"\\nSeed: {} | Aggregate OOF Score: {}\\n\\n\".format(seed, (seed_score / FOLD)))\n",
    "\n",
    "\n",
    "y_pred_final_lgb = y_pred_final_lgb / float(FOLD)\n",
    "oof_score /= float(counter)\n",
    "print(\"Aggregate OOF Score: {}\".format(oof_score))"
   ]
  },
  {
   "cell_type": "code",
   "execution_count": 6,
   "id": "double-garden",
   "metadata": {
    "execution": {
     "iopub.execute_input": "2021-04-07T20:22:14.717930Z",
     "iopub.status.busy": "2021-04-07T20:22:14.717127Z",
     "iopub.status.idle": "2021-04-07T20:22:14.751771Z",
     "shell.execute_reply": "2021-04-07T20:22:14.751192Z"
    },
    "id": "uLzmS7LzXvXy",
    "papermill": {
     "duration": 0.084938,
     "end_time": "2021-04-07T20:22:14.751895",
     "exception": false,
     "start_time": "2021-04-07T20:22:14.666957",
     "status": "completed"
    },
    "tags": []
   },
   "outputs": [],
   "source": [
    "np.savez_compressed('./LGB_Meta_Features.npz',\n",
    "                    y_pred_meta_lgb=y_pred_meta_lgb, \n",
    "                    oof_score=oof_score,\n",
    "                    y_pred_final_lgb=y_pred_final_lgb)"
   ]
  },
  {
   "cell_type": "code",
   "execution_count": 7,
   "id": "primary-writing",
   "metadata": {
    "execution": {
     "iopub.execute_input": "2021-04-07T20:22:14.850695Z",
     "iopub.status.busy": "2021-04-07T20:22:14.850162Z",
     "iopub.status.idle": "2021-04-07T20:22:14.858580Z",
     "shell.execute_reply": "2021-04-07T20:22:14.858159Z"
    },
    "executionInfo": {
     "elapsed": 1417,
     "status": "ok",
     "timestamp": 1616078535765,
     "user": {
      "displayName": "TAPAS DAS",
      "photoUrl": "https://lh3.googleusercontent.com/a-/AOh14GiyffdGKiPCR_UwVittzTcbBFms70IkGfU15fatCA=s64",
      "userId": "10798398878324948542"
     },
     "user_tz": -330
    },
    "id": "zGEGOAJHVoHV",
    "outputId": "53ab44cf-755f-435d-c1af-f4184f2114dd",
    "papermill": {
     "duration": 0.061522,
     "end_time": "2021-04-07T20:22:14.858694",
     "exception": false,
     "start_time": "2021-04-07T20:22:14.797172",
     "status": "completed"
    },
    "tags": []
   },
   "outputs": [
    {
     "data": {
      "text/html": [
       "<div>\n",
       "<style scoped>\n",
       "    .dataframe tbody tr th:only-of-type {\n",
       "        vertical-align: middle;\n",
       "    }\n",
       "\n",
       "    .dataframe tbody tr th {\n",
       "        vertical-align: top;\n",
       "    }\n",
       "\n",
       "    .dataframe thead th {\n",
       "        text-align: right;\n",
       "    }\n",
       "</style>\n",
       "<table border=\"1\" class=\"dataframe\">\n",
       "  <thead>\n",
       "    <tr style=\"text-align: right;\">\n",
       "      <th></th>\n",
       "      <th>0</th>\n",
       "      <th>1</th>\n",
       "    </tr>\n",
       "  </thead>\n",
       "  <tbody>\n",
       "    <tr>\n",
       "      <th>0</th>\n",
       "      <td>9.841775</td>\n",
       "      <td>9.845465</td>\n",
       "    </tr>\n",
       "    <tr>\n",
       "      <th>1</th>\n",
       "      <td>9.371742</td>\n",
       "      <td>9.372959</td>\n",
       "    </tr>\n",
       "    <tr>\n",
       "      <th>2</th>\n",
       "      <td>8.656130</td>\n",
       "      <td>8.653485</td>\n",
       "    </tr>\n",
       "    <tr>\n",
       "      <th>3</th>\n",
       "      <td>8.865825</td>\n",
       "      <td>8.868233</td>\n",
       "    </tr>\n",
       "    <tr>\n",
       "      <th>4</th>\n",
       "      <td>9.987508</td>\n",
       "      <td>9.990708</td>\n",
       "    </tr>\n",
       "  </tbody>\n",
       "</table>\n",
       "</div>"
      ],
      "text/plain": [
       "          0         1\n",
       "0  9.841775  9.845465\n",
       "1  9.371742  9.372959\n",
       "2  8.656130  8.653485\n",
       "3  8.865825  8.868233\n",
       "4  9.987508  9.990708"
      ]
     },
     "execution_count": 7,
     "metadata": {},
     "output_type": "execute_result"
    }
   ],
   "source": [
    "df = pd.DataFrame(y_pred_final_lgb)\n",
    "df.head()"
   ]
  },
  {
   "cell_type": "code",
   "execution_count": null,
   "id": "modular-dimension",
   "metadata": {
    "id": "W2c88MvxXm65",
    "papermill": {
     "duration": 0.045646,
     "end_time": "2021-04-07T20:22:14.950425",
     "exception": false,
     "start_time": "2021-04-07T20:22:14.904779",
     "status": "completed"
    },
    "tags": []
   },
   "outputs": [],
   "source": []
  }
 ],
 "metadata": {
  "kernelspec": {
   "display_name": "Python 3",
   "language": "python",
   "name": "python3"
  },
  "language_info": {
   "codemirror_mode": {
    "name": "ipython",
    "version": 3
   },
   "file_extension": ".py",
   "mimetype": "text/x-python",
   "name": "python",
   "nbconvert_exporter": "python",
   "pygments_lexer": "ipython3",
   "version": "3.7.9"
  },
  "papermill": {
   "default_parameters": {},
   "duration": 12654.12396,
   "end_time": "2021-04-07T20:22:15.904923",
   "environment_variables": {},
   "exception": null,
   "input_path": "__notebook__.ipynb",
   "output_path": "__notebook__.ipynb",
   "parameters": {},
   "start_time": "2021-04-07T16:51:21.780963",
   "version": "2.3.2"
  }
 },
 "nbformat": 4,
 "nbformat_minor": 5
}
