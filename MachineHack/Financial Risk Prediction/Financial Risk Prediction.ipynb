{
 "cells": [
  {
   "cell_type": "markdown",
   "metadata": {},
   "source": [
    "## Import Packages"
   ]
  },
  {
   "cell_type": "code",
   "execution_count": 1,
   "metadata": {},
   "outputs": [],
   "source": [
    "import pandas as pd\n",
    "import numpy as np\n",
    "import matplotlib.pyplot as plt\n",
    "import seaborn as sns\n",
    "from imblearn.over_sampling import SMOTE\n",
    "from sklearn.preprocessing import RobustScaler, StandardScaler, MinMaxScaler\n",
    "from sklearn.metrics import log_loss, f1_score, roc_curve, auc, confusion_matrix, accuracy_score\n",
    "from sklearn.model_selection import StratifiedKFold, StratifiedShuffleSplit\n",
    "import lightgbm as lgb\n",
    "import optuna"
   ]
  },
  {
   "cell_type": "markdown",
   "metadata": {},
   "source": [
    "## Set file paths for train and predict datasets"
   ]
  },
  {
   "cell_type": "code",
   "execution_count": 2,
   "metadata": {},
   "outputs": [],
   "source": [
    "train_dataset = \"Dataset/Train.csv\"\n",
    "predict_dataset = \"Dataset/Test.csv\""
   ]
  },
  {
   "cell_type": "markdown",
   "metadata": {},
   "source": [
    "## Exploratory Data Analysis"
   ]
  },
  {
   "cell_type": "markdown",
   "metadata": {},
   "source": [
    "#### Get train dataset info"
   ]
  },
  {
   "cell_type": "code",
   "execution_count": 61,
   "metadata": {},
   "outputs": [
    {
     "data": {
      "text/html": [
       "<div>\n",
       "<style scoped>\n",
       "    .dataframe tbody tr th:only-of-type {\n",
       "        vertical-align: middle;\n",
       "    }\n",
       "\n",
       "    .dataframe tbody tr th {\n",
       "        vertical-align: top;\n",
       "    }\n",
       "\n",
       "    .dataframe thead th {\n",
       "        text-align: right;\n",
       "    }\n",
       "</style>\n",
       "<table border=\"1\" class=\"dataframe\">\n",
       "  <thead>\n",
       "    <tr style=\"text-align: right;\">\n",
       "      <th></th>\n",
       "      <th>City</th>\n",
       "      <th>Location_Score</th>\n",
       "      <th>Internal_Audit_Score</th>\n",
       "      <th>External_Audit_Score</th>\n",
       "      <th>Fin_Score</th>\n",
       "      <th>Loss_score</th>\n",
       "      <th>Past_Results</th>\n",
       "      <th>IsUnderRisk</th>\n",
       "    </tr>\n",
       "  </thead>\n",
       "  <tbody>\n",
       "    <tr>\n",
       "      <th>0</th>\n",
       "      <td>2</td>\n",
       "      <td>8.032</td>\n",
       "      <td>14</td>\n",
       "      <td>8</td>\n",
       "      <td>3</td>\n",
       "      <td>6</td>\n",
       "      <td>0</td>\n",
       "      <td>1</td>\n",
       "    </tr>\n",
       "    <tr>\n",
       "      <th>1</th>\n",
       "      <td>31</td>\n",
       "      <td>77.730</td>\n",
       "      <td>8</td>\n",
       "      <td>3</td>\n",
       "      <td>3</td>\n",
       "      <td>8</td>\n",
       "      <td>1</td>\n",
       "      <td>0</td>\n",
       "    </tr>\n",
       "    <tr>\n",
       "      <th>2</th>\n",
       "      <td>40</td>\n",
       "      <td>59.203</td>\n",
       "      <td>3</td>\n",
       "      <td>12</td>\n",
       "      <td>11</td>\n",
       "      <td>3</td>\n",
       "      <td>0</td>\n",
       "      <td>1</td>\n",
       "    </tr>\n",
       "    <tr>\n",
       "      <th>3</th>\n",
       "      <td>12</td>\n",
       "      <td>73.080</td>\n",
       "      <td>4</td>\n",
       "      <td>5</td>\n",
       "      <td>7</td>\n",
       "      <td>6</td>\n",
       "      <td>0</td>\n",
       "      <td>0</td>\n",
       "    </tr>\n",
       "    <tr>\n",
       "      <th>4</th>\n",
       "      <td>4</td>\n",
       "      <td>15.666</td>\n",
       "      <td>13</td>\n",
       "      <td>15</td>\n",
       "      <td>6</td>\n",
       "      <td>7</td>\n",
       "      <td>2</td>\n",
       "      <td>1</td>\n",
       "    </tr>\n",
       "  </tbody>\n",
       "</table>\n",
       "</div>"
      ],
      "text/plain": [
       "   City  Location_Score  Internal_Audit_Score  External_Audit_Score  \\\n",
       "0     2           8.032                    14                     8   \n",
       "1    31          77.730                     8                     3   \n",
       "2    40          59.203                     3                    12   \n",
       "3    12          73.080                     4                     5   \n",
       "4     4          15.666                    13                    15   \n",
       "\n",
       "   Fin_Score  Loss_score  Past_Results  IsUnderRisk  \n",
       "0          3           6             0            1  \n",
       "1          3           8             1            0  \n",
       "2         11           3             0            1  \n",
       "3          7           6             0            0  \n",
       "4          6           7             2            1  "
      ]
     },
     "execution_count": 61,
     "metadata": {},
     "output_type": "execute_result"
    }
   ],
   "source": [
    "train_df = pd.read_csv(train_dataset)\n",
    "train_df.head()"
   ]
  },
  {
   "cell_type": "code",
   "execution_count": 62,
   "metadata": {},
   "outputs": [
    {
     "name": "stdout",
     "output_type": "stream",
     "text": [
      "<class 'pandas.core.frame.DataFrame'>\n",
      "RangeIndex: 543 entries, 0 to 542\n",
      "Data columns (total 8 columns):\n",
      " #   Column                Non-Null Count  Dtype  \n",
      "---  ------                --------------  -----  \n",
      " 0   City                  543 non-null    int64  \n",
      " 1   Location_Score        543 non-null    float64\n",
      " 2   Internal_Audit_Score  543 non-null    int64  \n",
      " 3   External_Audit_Score  543 non-null    int64  \n",
      " 4   Fin_Score             543 non-null    int64  \n",
      " 5   Loss_score            543 non-null    int64  \n",
      " 6   Past_Results          543 non-null    int64  \n",
      " 7   IsUnderRisk           543 non-null    int64  \n",
      "dtypes: float64(1), int64(7)\n",
      "memory usage: 34.1 KB\n"
     ]
    }
   ],
   "source": [
    "train_df.info(verbose=True)"
   ]
  },
  {
   "cell_type": "markdown",
   "metadata": {},
   "source": [
    "#### Get predict dataset info"
   ]
  },
  {
   "cell_type": "code",
   "execution_count": null,
   "metadata": {},
   "outputs": [],
   "source": [
    "predict_df = pd.read_csv(predict_dataset)\n",
    "predict_df.head()"
   ]
  },
  {
   "cell_type": "code",
   "execution_count": null,
   "metadata": {},
   "outputs": [],
   "source": [
    "predict_df.info(verbose=True)"
   ]
  },
  {
   "cell_type": "markdown",
   "metadata": {},
   "source": [
    "#### Count plot of target variable"
   ]
  },
  {
   "cell_type": "code",
   "execution_count": null,
   "metadata": {},
   "outputs": [],
   "source": [
    "plt.figure(figsize=(10,6))\n",
    "sns.countplot(x=\"IsUnderRisk\", data=train_df).set_title('Count plot of \"IsUnderRisk\" data')\n",
    "plt.grid()"
   ]
  },
  {
   "cell_type": "markdown",
   "metadata": {},
   "source": [
    "#### Examine class imbalance"
   ]
  },
  {
   "cell_type": "code",
   "execution_count": null,
   "metadata": {},
   "outputs": [],
   "source": [
    "neg, pos = np.bincount(train_df['IsUnderRisk'])\n",
    "total = neg + pos\n",
    "print('Total: {}\\n  Positive: {} ({:.2f}% of total)\\n  Negative: {} ({:.2f}% of total)\\n'.format(\n",
    "    total, pos, 100 * pos / total, neg, 100 * neg / total))"
   ]
  },
  {
   "cell_type": "markdown",
   "metadata": {},
   "source": [
    "#### Get correlation between different features"
   ]
  },
  {
   "cell_type": "code",
   "execution_count": null,
   "metadata": {},
   "outputs": [],
   "source": [
    "plt.figure(figsize=(10,6))\n",
    "ax = sns.heatmap(train_df.corr(), annot=True, linewidth = 0.5, cmap='coolwarm')\n",
    "plt.show()"
   ]
  },
  {
   "cell_type": "code",
   "execution_count": null,
   "metadata": {},
   "outputs": [],
   "source": [
    "plt.figure(figsize=(10,6))\n",
    "sns.set(style=\"ticks\", color_codes=True)\n",
    "sns.pairplot(train_df)\n",
    "plt.show()"
   ]
  },
  {
   "cell_type": "code",
   "execution_count": null,
   "metadata": {},
   "outputs": [],
   "source": [
    "# Plot distribution of data in \"Location_Score\" field\n",
    "fig, ax = plt.subplots(figsize = (15, 6))\n",
    "plt.subplot(1, 2, 1)\n",
    "sns.distplot(train_df['Location_Score'])\n",
    "plt.title('Distribution of Location_Score data');\n",
    "plt.subplot(1, 2, 2)\n",
    "sns.distplot(np.log1p(train_df['Location_Score']))\n",
    "plt.title('Distribution of log of Location_Score data');"
   ]
  },
  {
   "cell_type": "code",
   "execution_count": null,
   "metadata": {},
   "outputs": [],
   "source": [
    "# Plot distribution of data in \"Fin_Score\" field\n",
    "fig, ax = plt.subplots(figsize = (15, 6))\n",
    "plt.subplot(1, 2, 1)\n",
    "sns.distplot(train_df['Fin_Score'])\n",
    "plt.title('Distribution of Fin_Score data');\n",
    "plt.subplot(1, 2, 2)\n",
    "sns.distplot(np.log1p(train_df['Fin_Score']))\n",
    "plt.title('Distribution of log of Fin_Score data');"
   ]
  },
  {
   "cell_type": "code",
   "execution_count": null,
   "metadata": {},
   "outputs": [],
   "source": [
    "# Plot distribution of data in \"Loss_score\" field\n",
    "fig, ax = plt.subplots(figsize = (15, 6))\n",
    "plt.subplot(1, 2, 1)\n",
    "sns.distplot(train_df['Loss_score'])\n",
    "plt.title('Distribution of Loss_score data');\n",
    "plt.subplot(1, 2, 2)\n",
    "sns.distplot(np.log1p(train_df['Loss_score']))\n",
    "plt.title('Distribution of log of Loss_score data');"
   ]
  },
  {
   "cell_type": "code",
   "execution_count": null,
   "metadata": {},
   "outputs": [],
   "source": [
    "# Plot distribution of data in \"Past_Results\" field\n",
    "fig, ax = plt.subplots(figsize = (15, 6))\n",
    "plt.subplot(1, 2, 1)\n",
    "sns.distplot(train_df['Past_Results'])\n",
    "plt.title('Distribution of Past_Results data');\n",
    "plt.subplot(1, 2, 2)\n",
    "sns.distplot(np.log1p(train_df['Past_Results']))\n",
    "plt.title('Distribution of log of Past_Results data');"
   ]
  },
  {
   "cell_type": "markdown",
   "metadata": {},
   "source": [
    "## Data Preprocessing"
   ]
  },
  {
   "cell_type": "markdown",
   "metadata": {},
   "source": [
    "#### Read train and predict datasets"
   ]
  },
  {
   "cell_type": "code",
   "execution_count": 64,
   "metadata": {},
   "outputs": [
    {
     "name": "stdout",
     "output_type": "stream",
     "text": [
      "train_df: (543, 8)\n",
      "predict_df: (233, 7)\n"
     ]
    }
   ],
   "source": [
    "train_df = pd.read_csv(train_dataset)\n",
    "predict_df = pd.read_csv(predict_dataset)\n",
    "print(\"train_df: {}\".format(train_df.shape))\n",
    "print(\"predict_df: {}\".format(predict_df.shape))"
   ]
  },
  {
   "cell_type": "markdown",
   "metadata": {},
   "source": [
    "#### Extract \"IsUnderRisk\" field from train_df into NumPy array"
   ]
  },
  {
   "cell_type": "code",
   "execution_count": 65,
   "metadata": {},
   "outputs": [
    {
     "name": "stdout",
     "output_type": "stream",
     "text": [
      "train_y: (543, 1)\n"
     ]
    }
   ],
   "source": [
    "train_y = np.array([train_df['IsUnderRisk'].values]).T\n",
    "train_df.drop(['IsUnderRisk'], inplace=True, axis=1)\n",
    "print(\"train_y: {}\".format(train_y.shape))"
   ]
  },
  {
   "cell_type": "markdown",
   "metadata": {},
   "source": [
    "#### Feature Engineering"
   ]
  },
  {
   "cell_type": "code",
   "execution_count": 66,
   "metadata": {},
   "outputs": [
    {
     "name": "stdout",
     "output_type": "stream",
     "text": [
      "(776, 7)\n"
     ]
    }
   ],
   "source": [
    "# Combine train and predict dataframes\n",
    "combined_df = train_df.append(predict_df, sort=False, ignore_index=True)\n",
    "print(combined_df.shape)"
   ]
  },
  {
   "cell_type": "code",
   "execution_count": 67,
   "metadata": {},
   "outputs": [
    {
     "data": {
      "text/html": [
       "<div>\n",
       "<style scoped>\n",
       "    .dataframe tbody tr th:only-of-type {\n",
       "        vertical-align: middle;\n",
       "    }\n",
       "\n",
       "    .dataframe tbody tr th {\n",
       "        vertical-align: top;\n",
       "    }\n",
       "\n",
       "    .dataframe thead th {\n",
       "        text-align: right;\n",
       "    }\n",
       "</style>\n",
       "<table border=\"1\" class=\"dataframe\">\n",
       "  <thead>\n",
       "    <tr style=\"text-align: right;\">\n",
       "      <th></th>\n",
       "      <th>Location_Score</th>\n",
       "      <th>Internal_Audit_Score</th>\n",
       "      <th>External_Audit_Score</th>\n",
       "      <th>Fin_Score</th>\n",
       "      <th>Loss_score</th>\n",
       "      <th>Past_Results</th>\n",
       "      <th>0</th>\n",
       "      <th>1</th>\n",
       "      <th>2</th>\n",
       "      <th>3</th>\n",
       "      <th>...</th>\n",
       "      <th>35</th>\n",
       "      <th>36</th>\n",
       "      <th>37</th>\n",
       "      <th>38</th>\n",
       "      <th>39</th>\n",
       "      <th>40</th>\n",
       "      <th>41</th>\n",
       "      <th>42</th>\n",
       "      <th>43</th>\n",
       "      <th>44</th>\n",
       "    </tr>\n",
       "  </thead>\n",
       "  <tbody>\n",
       "    <tr>\n",
       "      <th>0</th>\n",
       "      <td>8.032</td>\n",
       "      <td>14</td>\n",
       "      <td>8</td>\n",
       "      <td>3</td>\n",
       "      <td>6</td>\n",
       "      <td>0</td>\n",
       "      <td>0</td>\n",
       "      <td>0</td>\n",
       "      <td>1</td>\n",
       "      <td>0</td>\n",
       "      <td>...</td>\n",
       "      <td>0</td>\n",
       "      <td>0</td>\n",
       "      <td>0</td>\n",
       "      <td>0</td>\n",
       "      <td>0</td>\n",
       "      <td>0</td>\n",
       "      <td>0</td>\n",
       "      <td>0</td>\n",
       "      <td>0</td>\n",
       "      <td>0</td>\n",
       "    </tr>\n",
       "    <tr>\n",
       "      <th>1</th>\n",
       "      <td>77.730</td>\n",
       "      <td>8</td>\n",
       "      <td>3</td>\n",
       "      <td>3</td>\n",
       "      <td>8</td>\n",
       "      <td>1</td>\n",
       "      <td>0</td>\n",
       "      <td>0</td>\n",
       "      <td>0</td>\n",
       "      <td>0</td>\n",
       "      <td>...</td>\n",
       "      <td>0</td>\n",
       "      <td>0</td>\n",
       "      <td>0</td>\n",
       "      <td>0</td>\n",
       "      <td>0</td>\n",
       "      <td>0</td>\n",
       "      <td>0</td>\n",
       "      <td>0</td>\n",
       "      <td>0</td>\n",
       "      <td>0</td>\n",
       "    </tr>\n",
       "    <tr>\n",
       "      <th>2</th>\n",
       "      <td>59.203</td>\n",
       "      <td>3</td>\n",
       "      <td>12</td>\n",
       "      <td>11</td>\n",
       "      <td>3</td>\n",
       "      <td>0</td>\n",
       "      <td>0</td>\n",
       "      <td>0</td>\n",
       "      <td>0</td>\n",
       "      <td>0</td>\n",
       "      <td>...</td>\n",
       "      <td>0</td>\n",
       "      <td>0</td>\n",
       "      <td>0</td>\n",
       "      <td>0</td>\n",
       "      <td>0</td>\n",
       "      <td>1</td>\n",
       "      <td>0</td>\n",
       "      <td>0</td>\n",
       "      <td>0</td>\n",
       "      <td>0</td>\n",
       "    </tr>\n",
       "    <tr>\n",
       "      <th>3</th>\n",
       "      <td>73.080</td>\n",
       "      <td>4</td>\n",
       "      <td>5</td>\n",
       "      <td>7</td>\n",
       "      <td>6</td>\n",
       "      <td>0</td>\n",
       "      <td>0</td>\n",
       "      <td>0</td>\n",
       "      <td>0</td>\n",
       "      <td>0</td>\n",
       "      <td>...</td>\n",
       "      <td>0</td>\n",
       "      <td>0</td>\n",
       "      <td>0</td>\n",
       "      <td>0</td>\n",
       "      <td>0</td>\n",
       "      <td>0</td>\n",
       "      <td>0</td>\n",
       "      <td>0</td>\n",
       "      <td>0</td>\n",
       "      <td>0</td>\n",
       "    </tr>\n",
       "    <tr>\n",
       "      <th>4</th>\n",
       "      <td>15.666</td>\n",
       "      <td>13</td>\n",
       "      <td>15</td>\n",
       "      <td>6</td>\n",
       "      <td>7</td>\n",
       "      <td>2</td>\n",
       "      <td>0</td>\n",
       "      <td>0</td>\n",
       "      <td>0</td>\n",
       "      <td>0</td>\n",
       "      <td>...</td>\n",
       "      <td>0</td>\n",
       "      <td>0</td>\n",
       "      <td>0</td>\n",
       "      <td>0</td>\n",
       "      <td>0</td>\n",
       "      <td>0</td>\n",
       "      <td>0</td>\n",
       "      <td>0</td>\n",
       "      <td>0</td>\n",
       "      <td>0</td>\n",
       "    </tr>\n",
       "  </tbody>\n",
       "</table>\n",
       "<p>5 rows × 51 columns</p>\n",
       "</div>"
      ],
      "text/plain": [
       "   Location_Score  Internal_Audit_Score  External_Audit_Score  Fin_Score  \\\n",
       "0           8.032                    14                     8          3   \n",
       "1          77.730                     8                     3          3   \n",
       "2          59.203                     3                    12         11   \n",
       "3          73.080                     4                     5          7   \n",
       "4          15.666                    13                    15          6   \n",
       "\n",
       "   Loss_score  Past_Results  0  1  2  3  ...  35  36  37  38  39  40  41  42  \\\n",
       "0           6             0  0  0  1  0  ...   0   0   0   0   0   0   0   0   \n",
       "1           8             1  0  0  0  0  ...   0   0   0   0   0   0   0   0   \n",
       "2           3             0  0  0  0  0  ...   0   0   0   0   0   1   0   0   \n",
       "3           6             0  0  0  0  0  ...   0   0   0   0   0   0   0   0   \n",
       "4           7             2  0  0  0  0  ...   0   0   0   0   0   0   0   0   \n",
       "\n",
       "   43  44  \n",
       "0   0   0  \n",
       "1   0   0  \n",
       "2   0   0  \n",
       "3   0   0  \n",
       "4   0   0  \n",
       "\n",
       "[5 rows x 51 columns]"
      ]
     },
     "execution_count": 67,
     "metadata": {},
     "output_type": "execute_result"
    }
   ],
   "source": [
    "# Convert \"City\" to one-hot encoding\n",
    "one_hot = pd.get_dummies(combined_df['City'])\n",
    "combined_df.drop('City', axis = 1, inplace=True)\n",
    "combined_df = combined_df.join(one_hot)\n",
    "combined_df.head()"
   ]
  },
  {
   "cell_type": "code",
   "execution_count": 68,
   "metadata": {},
   "outputs": [],
   "source": [
    "combined_df[\"Location_Score\"] = np.log1p(combined_df[\"Location_Score\"])\n",
    "combined_df[\"Fin_Score\"] = np.log1p(combined_df[\"Fin_Score\"])\n",
    "combined_df[\"Loss_score\"] = np.log1p(combined_df[\"Loss_score\"])\n",
    "combined_df[\"Past_Results\"] = np.log1p(combined_df[\"Past_Results\"])"
   ]
  },
  {
   "cell_type": "code",
   "execution_count": 69,
   "metadata": {},
   "outputs": [],
   "source": [
    "combined_df[\"Fin_Score/Internal_Audit_Score\"] = combined_df[\"Fin_Score\"] / combined_df[\"Internal_Audit_Score\"]\n",
    "combined_df[\"Fin_Score/External_Audit_Score\"] = combined_df[\"Fin_Score\"] / combined_df[\"External_Audit_Score\"]\n",
    "combined_df[\"Fin_Score/(IAS + EAS)\"] = combined_df[\"Fin_Score\"] / (combined_df[\"Internal_Audit_Score\"] + combined_df[\"External_Audit_Score\"])"
   ]
  },
  {
   "cell_type": "code",
   "execution_count": 70,
   "metadata": {},
   "outputs": [],
   "source": [
    "combined_df[\"Loss_score/Internal_Audit_Score\"] = combined_df[\"Loss_score\"] / combined_df[\"Internal_Audit_Score\"]\n",
    "combined_df[\"Loss_score/External_Audit_Score\"] = combined_df[\"Loss_score\"] / combined_df[\"External_Audit_Score\"]\n",
    "combined_df[\"Loss_score/(IAS + EAS)\"] = combined_df[\"Loss_score\"] / (combined_df[\"Internal_Audit_Score\"] + combined_df[\"External_Audit_Score\"])\n",
    "combined_df[\"Loss_score/Fin_Score\"] = combined_df[\"Loss_score\"] / combined_df[\"Fin_Score\"]"
   ]
  },
  {
   "cell_type": "code",
   "execution_count": 71,
   "metadata": {},
   "outputs": [],
   "source": [
    "combined_df[\"Fin_Score/Location_Score\"] = combined_df[\"Fin_Score\"] / combined_df[\"Location_Score\"]\n",
    "combined_df[\"Loss_score/Location_Score\"] = combined_df[\"Loss_score\"] / combined_df[\"Location_Score\"]\n",
    "combined_df[\"Internal_Audit_Score/Location_Score\"] = combined_df[\"Internal_Audit_Score\"] / combined_df[\"Location_Score\"]\n",
    "combined_df[\"External_Audit_Score/Location_Score\"] = combined_df[\"External_Audit_Score\"] / combined_df[\"Location_Score\"]\n",
    "combined_df[\"(IAS + EAS)/Location_Score\"] = (combined_df[\"Internal_Audit_Score\"] + combined_df[\"External_Audit_Score\"]) / combined_df[\"Location_Score\"]"
   ]
  },
  {
   "cell_type": "markdown",
   "metadata": {},
   "source": [
    "#### Create train and predict Numpy arrays and scale them"
   ]
  },
  {
   "cell_type": "code",
   "execution_count": 72,
   "metadata": {},
   "outputs": [
    {
     "name": "stdout",
     "output_type": "stream",
     "text": [
      "train_x: (543, 63)\n",
      "predict_x: (233, 63)\n"
     ]
    }
   ],
   "source": [
    "# Segregate combined_df into train/predict datasets\n",
    "train_x = combined_df[:543]\n",
    "predict_x = combined_df[543:]\n",
    "\n",
    "print(\"train_x: {}\".format(train_x.shape))\n",
    "print(\"predict_x: {}\".format(predict_x.shape))"
   ]
  },
  {
   "cell_type": "code",
   "execution_count": 73,
   "metadata": {},
   "outputs": [],
   "source": [
    "# Scale the train_x/predict_x arrays\n",
    "scaler = MinMaxScaler().fit(train_x)\n",
    "train_x = scaler.transform(train_x)\n",
    "predict_x = scaler.transform(predict_x)"
   ]
  },
  {
   "cell_type": "code",
   "execution_count": 12,
   "metadata": {},
   "outputs": [],
   "source": [
    "train_x_full = train_x.copy()\n",
    "train_y_full = train_y.copy()"
   ]
  },
  {
   "cell_type": "markdown",
   "metadata": {},
   "source": [
    "#### Oversampling entire data to handle class imbalance"
   ]
  },
  {
   "cell_type": "code",
   "execution_count": 74,
   "metadata": {},
   "outputs": [
    {
     "name": "stdout",
     "output_type": "stream",
     "text": [
      "Class balancing done.\n",
      "train_x_full shape: (680, 63)\n",
      "train_y_full shape: (680, 1)\n"
     ]
    }
   ],
   "source": [
    "sm = SMOTE()\n",
    "sm_x, sm_y = sm.fit_sample(train_x, train_y.ravel())\n",
    "train_x_full = sm_x\n",
    "train_y_full = np.array([sm_y]).T\n",
    "print(\"Class balancing done.\")\n",
    "print(\"train_x_full shape: {}\".format(train_x_full.shape))\n",
    "print(\"train_y_full shape: {}\".format(train_y_full.shape))"
   ]
  },
  {
   "cell_type": "markdown",
   "metadata": {},
   "source": [
    "#### Split training data into train/test datasets"
   ]
  },
  {
   "cell_type": "code",
   "execution_count": 75,
   "metadata": {},
   "outputs": [
    {
     "name": "stdout",
     "output_type": "stream",
     "text": [
      "------------------------- Training Dataset -------------------------\n",
      "train_x shape: (502, 63)\n",
      "train_y shape: (502, 1)\n",
      "\n",
      "------------------------- Test Dataset -------------------------\n",
      "test_x shape: (41, 63)\n",
      "test_y shape: (41, 1)\n"
     ]
    }
   ],
   "source": [
    "sss = StratifiedShuffleSplit(n_splits=1, test_size=0.075, random_state=1)\n",
    "for train_index, test_index in sss.split(train_x, train_y):\n",
    "    train_x, test_x = train_x[train_index], train_x[test_index]\n",
    "    train_y, test_y = train_y[train_index], train_y[test_index]\n",
    "\n",
    "print(\"------------------------- Training Dataset -------------------------\")\n",
    "print(\"train_x shape: {}\".format(train_x.shape))\n",
    "print(\"train_y shape: {}\".format(train_y.shape))\n",
    "\n",
    "print(\"\\n------------------------- Test Dataset -------------------------\")\n",
    "print(\"test_x shape: {}\".format(test_x.shape))\n",
    "print(\"test_y shape: {}\".format(test_y.shape))"
   ]
  },
  {
   "cell_type": "markdown",
   "metadata": {},
   "source": [
    "#### Oversampling splitted data to handle class imbalance"
   ]
  },
  {
   "cell_type": "code",
   "execution_count": 76,
   "metadata": {},
   "outputs": [
    {
     "name": "stdout",
     "output_type": "stream",
     "text": [
      "Class balancing done.\n",
      "train_x shape: (628, 63)\n",
      "train_y shape: (628, 1)\n"
     ]
    }
   ],
   "source": [
    "sm = SMOTE()\n",
    "sm_x, sm_y = sm.fit_sample(train_x, train_y.ravel())\n",
    "train_x = sm_x\n",
    "train_y = np.array([sm_y]).T\n",
    "print(\"Class balancing done.\")\n",
    "print(\"train_x shape: {}\".format(train_x.shape))\n",
    "print(\"train_y shape: {}\".format(train_y.shape))"
   ]
  },
  {
   "cell_type": "code",
   "execution_count": 77,
   "metadata": {},
   "outputs": [
    {
     "name": "stdout",
     "output_type": "stream",
     "text": [
      "------------------------- Training Dataset -------------------------\n",
      "Xtrain_full shape: (680, 63)\n",
      "Ytrain_full shape: (680, 1)\n",
      "Xtrain shape: (628, 63)\n",
      "Ytrain shape: (628, 1)\n",
      "\n",
      "------------------------- Test Dataset -------------------------\n",
      "Xtest shape: (41, 63)\n",
      "Ytest shape: (41, 1)\n",
      "\n",
      "------------------------- Prediction Dataset -------------------------\n",
      "Xpredict shape: (233, 63)\n"
     ]
    }
   ],
   "source": [
    "Xtrain_full, Ytrain_full = train_x_full.copy(), train_y_full.copy()\n",
    "Xtrain, Ytrain = train_x.copy(), train_y.copy()\n",
    "Xtest, Ytest = test_x.copy(), test_y.copy()\n",
    "Xpredict = predict_x.copy()\n",
    "\n",
    "print(\"------------------------- Training Dataset -------------------------\")\n",
    "print(\"Xtrain_full shape: {}\".format(Xtrain_full.shape))\n",
    "print(\"Ytrain_full shape: {}\".format(Ytrain_full.shape))\n",
    "print(\"Xtrain shape: {}\".format(Xtrain.shape))\n",
    "print(\"Ytrain shape: {}\".format(Ytrain.shape))\n",
    "\n",
    "print(\"\\n------------------------- Test Dataset -------------------------\")\n",
    "print(\"Xtest shape: {}\".format(Xtest.shape))\n",
    "print(\"Ytest shape: {}\".format(Ytest.shape))\n",
    "\n",
    "print(\"\\n------------------------- Prediction Dataset -------------------------\")\n",
    "print(\"Xpredict shape: {}\".format(Xpredict.shape))"
   ]
  },
  {
   "cell_type": "markdown",
   "metadata": {},
   "source": [
    "## Hyperparameter search using Optuna"
   ]
  },
  {
   "cell_type": "code",
   "execution_count": 78,
   "metadata": {},
   "outputs": [],
   "source": [
    "# Convert Ytest to one-hot encoding\n",
    "df = pd.DataFrame(Ytest, columns=[\"IsUnderRisk\"])\n",
    "test_y = pd.get_dummies(df['IsUnderRisk']).values"
   ]
  },
  {
   "cell_type": "code",
   "execution_count": 79,
   "metadata": {},
   "outputs": [],
   "source": [
    "# Define 5-fold cross validation test harness\n",
    "kfold = StratifiedKFold(n_splits=5, shuffle=True, random_state=10)"
   ]
  },
  {
   "cell_type": "code",
   "execution_count": 80,
   "metadata": {},
   "outputs": [],
   "source": [
    "def objective(trial):\n",
    "    \n",
    "    params = {\n",
    "        \"objective\": \"multiclass\",\n",
    "        \"metric\": \"multi_logloss\",\n",
    "        \"num_class\": 2,\n",
    "        \"verbosity\": -1,\n",
    "        \"boosting_type\": \"gbdt\",\n",
    "        #\"is_unbalance\": True,\n",
    "        \"learning_rate\": trial.suggest_loguniform(\"learning_rate\", 1e-2, 1e-1),\n",
    "        \"lambda_l2\": trial.suggest_loguniform(\"lambda_l2\", 1e-4, 1.0),\n",
    "        \"num_leaves\": trial.suggest_int(\"num_leaves\", 31, 150),\n",
    "        \"max_depth\": trial.suggest_int(\"max_depth\", 7, 20),\n",
    "        \"feature_fraction\": trial.suggest_uniform(\"feature_fraction\", 0.5, 1.0),\n",
    "        \"bagging_fraction\": trial.suggest_uniform(\"bagging_fraction\", 0.5, 1.0),\n",
    "        \"bagging_freq\": trial.suggest_int(\"bagging_freq\", 5, 20),\n",
    "        \"min_child_samples\": trial.suggest_int(\"min_child_samples\", 1, 20),\n",
    "    }\n",
    "    \n",
    "    y_pred = 0\n",
    "    counter = 0\n",
    "    for train, val in kfold.split(Xtrain, Ytrain):\n",
    "        counter += 1\n",
    "    \n",
    "        train_x, train_y = Xtrain[train], Ytrain[train]\n",
    "        val_x, val_y = Xtrain[val], Ytrain[val]\n",
    "\n",
    "        lgtrain = lgb.Dataset(train_x, label=train_y.ravel())\n",
    "        lgvalidation = lgb.Dataset(val_x, label=val_y.ravel())\n",
    "\n",
    "        model = lgb.train(params, lgtrain, valid_sets=[lgvalidation], \n",
    "                          num_boost_round=5000, early_stopping_rounds=200, verbose_eval=False)\n",
    "        pred = model.predict(Xtest, num_iteration=model.best_iteration)\n",
    "\n",
    "        y_pred += pred\n",
    "\n",
    "    y_pred /= float(counter)\n",
    "    loss = log_loss(test_y, y_pred)\n",
    "    score = 100 * max(0, 1 - loss)\n",
    "\n",
    "    return score"
   ]
  },
  {
   "cell_type": "code",
   "execution_count": 81,
   "metadata": {},
   "outputs": [
    {
     "name": "stderr",
     "output_type": "stream",
     "text": [
      "[I 2020-05-16 03:59:09,979] Finished trial#0 with value: 71.13105546359748 with parameters: {'learning_rate': 0.013407357857925243, 'lambda_l2': 0.914350214723398, 'num_leaves': 72, 'max_depth': 16, 'feature_fraction': 0.7351086519011277, 'bagging_fraction': 0.6683241147401016, 'bagging_freq': 9, 'min_child_samples': 16}. Best is trial#0 with value: 71.13105546359748.\n",
      "[I 2020-05-16 03:59:13,754] Finished trial#1 with value: 74.3063159476433 with parameters: {'learning_rate': 0.051863150799241454, 'lambda_l2': 0.0469096706022759, 'num_leaves': 59, 'max_depth': 14, 'feature_fraction': 0.9067223332982696, 'bagging_fraction': 0.573852449190348, 'bagging_freq': 20, 'min_child_samples': 9}. Best is trial#1 with value: 74.3063159476433.\n",
      "[I 2020-05-16 03:59:18,715] Finished trial#2 with value: 72.17338500303762 with parameters: {'learning_rate': 0.033039231130903485, 'lambda_l2': 0.00011786908787263417, 'num_leaves': 126, 'max_depth': 13, 'feature_fraction': 0.7172874306339815, 'bagging_fraction': 0.8129222417201621, 'bagging_freq': 18, 'min_child_samples': 18}. Best is trial#1 with value: 74.3063159476433.\n",
      "[I 2020-05-16 03:59:21,467] Finished trial#3 with value: 74.9486345142485 with parameters: {'learning_rate': 0.07568713579608374, 'lambda_l2': 0.18057568985190478, 'num_leaves': 31, 'max_depth': 7, 'feature_fraction': 0.5062127895079165, 'bagging_fraction': 0.9134846398998612, 'bagging_freq': 18, 'min_child_samples': 17}. Best is trial#3 with value: 74.9486345142485.\n",
      "[I 2020-05-16 03:59:24,012] Finished trial#4 with value: 70.03123117989402 with parameters: {'learning_rate': 0.06945077167793201, 'lambda_l2': 0.08372474774187637, 'num_leaves': 133, 'max_depth': 12, 'feature_fraction': 0.5625428563366776, 'bagging_fraction': 0.7097236264300135, 'bagging_freq': 16, 'min_child_samples': 16}. Best is trial#3 with value: 74.9486345142485.\n",
      "[I 2020-05-16 03:59:31,187] Finished trial#5 with value: 75.22279421014821 with parameters: {'learning_rate': 0.038483126168454306, 'lambda_l2': 0.0001690742548180809, 'num_leaves': 40, 'max_depth': 18, 'feature_fraction': 0.8353241028951324, 'bagging_fraction': 0.542101436254857, 'bagging_freq': 17, 'min_child_samples': 5}. Best is trial#5 with value: 75.22279421014821.\n",
      "[I 2020-05-16 03:59:35,169] Finished trial#6 with value: 74.02198968999464 with parameters: {'learning_rate': 0.060797841978380424, 'lambda_l2': 0.004468935662261073, 'num_leaves': 118, 'max_depth': 12, 'feature_fraction': 0.7706638057999509, 'bagging_fraction': 0.7906655695643541, 'bagging_freq': 11, 'min_child_samples': 12}. Best is trial#5 with value: 75.22279421014821.\n",
      "[I 2020-05-16 03:59:39,356] Finished trial#7 with value: 69.74420684367291 with parameters: {'learning_rate': 0.04171242317646158, 'lambda_l2': 0.0002710674568405912, 'num_leaves': 43, 'max_depth': 15, 'feature_fraction': 0.881067608262398, 'bagging_fraction': 0.5461528928248749, 'bagging_freq': 19, 'min_child_samples': 11}. Best is trial#5 with value: 75.22279421014821.\n",
      "[I 2020-05-16 03:59:52,456] Finished trial#8 with value: 78.34304993821733 with parameters: {'learning_rate': 0.014264866403111337, 'lambda_l2': 0.0006446692898072712, 'num_leaves': 76, 'max_depth': 11, 'feature_fraction': 0.75349365032895, 'bagging_fraction': 0.9713215303317327, 'bagging_freq': 13, 'min_child_samples': 3}. Best is trial#8 with value: 78.34304993821733.\n",
      "[I 2020-05-16 04:00:00,504] Finished trial#9 with value: 77.3750364282239 with parameters: {'learning_rate': 0.03317767227516752, 'lambda_l2': 0.38461336386011535, 'num_leaves': 65, 'max_depth': 7, 'feature_fraction': 0.708229159173275, 'bagging_fraction': 0.8223628110687506, 'bagging_freq': 5, 'min_child_samples': 1}. Best is trial#8 with value: 78.34304993821733.\n",
      "[I 2020-05-16 04:00:18,052] Finished trial#10 with value: 78.02292306558984 with parameters: {'learning_rate': 0.0146295139046421, 'lambda_l2': 0.001537259459208873, 'num_leaves': 99, 'max_depth': 10, 'feature_fraction': 0.5947806249383063, 'bagging_fraction': 0.9802243580828733, 'bagging_freq': 13, 'min_child_samples': 1}. Best is trial#8 with value: 78.34304993821733.\n",
      "[I 2020-05-16 04:00:34,536] Finished trial#11 with value: 78.0487196883687 with parameters: {'learning_rate': 0.01544501382859365, 'lambda_l2': 0.001949012302261898, 'num_leaves': 97, 'max_depth': 9, 'feature_fraction': 0.6060366387224538, 'bagging_fraction': 0.9928162007940439, 'bagging_freq': 14, 'min_child_samples': 1}. Best is trial#8 with value: 78.34304993821733.\n",
      "[I 2020-05-16 04:00:42,585] Finished trial#12 with value: 78.33848165518724 with parameters: {'learning_rate': 0.020661345274160702, 'lambda_l2': 0.001275980011848301, 'num_leaves': 93, 'max_depth': 9, 'feature_fraction': 0.631429191326648, 'bagging_fraction': 0.9990111352433287, 'bagging_freq': 14, 'min_child_samples': 5}. Best is trial#8 with value: 78.34304993821733.\n",
      "[I 2020-05-16 04:00:52,203] Finished trial#13 with value: 77.49753697039255 with parameters: {'learning_rate': 0.020238200697726166, 'lambda_l2': 0.0009615580837409978, 'num_leaves': 87, 'max_depth': 10, 'feature_fraction': 0.6571711845407383, 'bagging_fraction': 0.9096480382477871, 'bagging_freq': 9, 'min_child_samples': 5}. Best is trial#8 with value: 78.34304993821733.\n",
      "[I 2020-05-16 04:00:59,719] Finished trial#14 with value: 78.01792884992108 with parameters: {'learning_rate': 0.022403170285681815, 'lambda_l2': 0.020421261002482108, 'num_leaves': 84, 'max_depth': 9, 'feature_fraction': 0.9830130288578032, 'bagging_fraction': 0.9165221635642603, 'bagging_freq': 15, 'min_child_samples': 5}. Best is trial#8 with value: 78.34304993821733.\n",
      "[I 2020-05-16 04:01:06,970] Finished trial#15 with value: 76.41243189669126 with parameters: {'learning_rate': 0.010845112797585797, 'lambda_l2': 0.0005000569909314093, 'num_leaves': 107, 'max_depth': 7, 'feature_fraction': 0.8023838559702832, 'bagging_fraction': 0.983986266368911, 'bagging_freq': 12, 'min_child_samples': 8}. Best is trial#8 with value: 78.34304993821733.\n",
      "[I 2020-05-16 04:01:16,350] Finished trial#16 with value: 78.3948581123681 with parameters: {'learning_rate': 0.022556359315325, 'lambda_l2': 0.006586262913489936, 'num_leaves': 75, 'max_depth': 11, 'feature_fraction': 0.6557313874008629, 'bagging_fraction': 0.8741397837373239, 'bagging_freq': 10, 'min_child_samples': 4}. Best is trial#16 with value: 78.3948581123681.\n",
      "[I 2020-05-16 04:01:32,116] Finished trial#17 with value: 78.03229415849735 with parameters: {'learning_rate': 0.010016614089236686, 'lambda_l2': 0.008594801705935354, 'num_leaves': 55, 'max_depth': 11, 'feature_fraction': 0.6645534925284539, 'bagging_fraction': 0.875010683636165, 'bagging_freq': 6, 'min_child_samples': 3}. Best is trial#16 with value: 78.3948581123681.\n",
      "[I 2020-05-16 04:01:39,356] Finished trial#18 with value: 76.17806033769041 with parameters: {'learning_rate': 0.023582675731030064, 'lambda_l2': 0.004544135249652026, 'num_leaves': 76, 'max_depth': 17, 'feature_fraction': 0.5097813644092404, 'bagging_fraction': 0.8694789356023916, 'bagging_freq': 9, 'min_child_samples': 8}. Best is trial#16 with value: 78.3948581123681.\n",
      "[I 2020-05-16 04:01:49,858] Finished trial#19 with value: 77.10961248587836 with parameters: {'learning_rate': 0.02609213024600679, 'lambda_l2': 0.016857991485099873, 'num_leaves': 50, 'max_depth': 20, 'feature_fraction': 0.6832577833507769, 'bagging_fraction': 0.7490791178774581, 'bagging_freq': 11, 'min_child_samples': 3}. Best is trial#16 with value: 78.3948581123681.\n",
      "[I 2020-05-16 04:02:03,625] Finished trial#20 with value: 78.68764562409265 with parameters: {'learning_rate': 0.017233382148410522, 'lambda_l2': 0.0005214526272219691, 'num_leaves': 71, 'max_depth': 13, 'feature_fraction': 0.8000955507133787, 'bagging_fraction': 0.944118390826312, 'bagging_freq': 7, 'min_child_samples': 3}. Best is trial#20 with value: 78.68764562409265.\n"
     ]
    },
    {
     "name": "stderr",
     "output_type": "stream",
     "text": [
      "[I 2020-05-16 04:02:19,789] Finished trial#21 with value: 78.4224276924284 with parameters: {'learning_rate': 0.017305170709227505, 'lambda_l2': 0.00041710114088464246, 'num_leaves': 73, 'max_depth': 13, 'feature_fraction': 0.7762128286609967, 'bagging_fraction': 0.9502944965843153, 'bagging_freq': 7, 'min_child_samples': 3}. Best is trial#20 with value: 78.68764562409265.\n",
      "[I 2020-05-16 04:02:30,765] Finished trial#22 with value: 77.46277597794537 with parameters: {'learning_rate': 0.016893966912123297, 'lambda_l2': 0.000288714874797408, 'num_leaves': 65, 'max_depth': 14, 'feature_fraction': 0.8403098828279691, 'bagging_fraction': 0.938150605754197, 'bagging_freq': 7, 'min_child_samples': 7}. Best is trial#20 with value: 78.68764562409265.\n",
      "[I 2020-05-16 04:02:37,550] Finished trial#23 with value: 78.08093342856284 with parameters: {'learning_rate': 0.09913048472244428, 'lambda_l2': 0.003300142669913489, 'num_leaves': 81, 'max_depth': 12, 'feature_fraction': 0.7847705101957083, 'bagging_fraction': 0.8636801027457554, 'bagging_freq': 7, 'min_child_samples': 3}. Best is trial#20 with value: 78.68764562409265.\n",
      "[I 2020-05-16 04:02:54,818] Finished trial#24 with value: 79.1178782444062 with parameters: {'learning_rate': 0.017825708383038097, 'lambda_l2': 0.0004218768016205981, 'num_leaves': 67, 'max_depth': 13, 'feature_fraction': 0.9340995630544155, 'bagging_fraction': 0.9344911612903561, 'bagging_freq': 5, 'min_child_samples': 1}. Best is trial#24 with value: 79.1178782444062.\n",
      "[I 2020-05-16 04:03:19,619] Finished trial#25 with value: 78.36238762334443 with parameters: {'learning_rate': 0.012060350518929314, 'lambda_l2': 0.00010286034178257364, 'num_leaves': 149, 'max_depth': 15, 'feature_fraction': 0.9768387924322927, 'bagging_fraction': 0.9430948259403567, 'bagging_freq': 7, 'min_child_samples': 1}. Best is trial#24 with value: 79.1178782444062.\n",
      "[I 2020-05-16 04:03:26,147] Finished trial#26 with value: 74.51567317896594 with parameters: {'learning_rate': 0.01851107901718233, 'lambda_l2': 0.00040581968470482227, 'num_leaves': 64, 'max_depth': 13, 'feature_fraction': 0.9262149910103835, 'bagging_fraction': 0.8373001440990745, 'bagging_freq': 5, 'min_child_samples': 13}. Best is trial#24 with value: 79.1178782444062.\n",
      "[I 2020-05-16 04:03:36,573] Finished trial#27 with value: 77.4555935468993 with parameters: {'learning_rate': 0.017743764896245247, 'lambda_l2': 0.0002012410044159245, 'num_leaves': 44, 'max_depth': 15, 'feature_fraction': 0.8280523587657508, 'bagging_fraction': 0.9500246009453078, 'bagging_freq': 5, 'min_child_samples': 7}. Best is trial#24 with value: 79.1178782444062.\n",
      "[I 2020-05-16 04:03:39,915] Finished trial#28 with value: 71.77587102884853 with parameters: {'learning_rate': 0.028245260238987817, 'lambda_l2': 0.0007071786026325662, 'num_leaves': 107, 'max_depth': 13, 'feature_fraction': 0.9320061900036146, 'bagging_fraction': 0.6351408082281247, 'bagging_freq': 8, 'min_child_samples': 20}. Best is trial#24 with value: 79.1178782444062.\n",
      "[I 2020-05-16 04:03:58,207] Finished trial#29 with value: 78.24977731276032 with parameters: {'learning_rate': 0.012694244020239873, 'lambda_l2': 0.002246758870592528, 'num_leaves': 68, 'max_depth': 18, 'feature_fraction': 0.8598845848926624, 'bagging_fraction': 0.7708503261705038, 'bagging_freq': 6, 'min_child_samples': 2}. Best is trial#24 with value: 79.1178782444062.\n",
      "[I 2020-05-16 04:04:10,126] Finished trial#30 with value: 78.12902517255367 with parameters: {'learning_rate': 0.011954364430280851, 'lambda_l2': 0.0001004431453916899, 'num_leaves': 31, 'max_depth': 16, 'feature_fraction': 0.9519113949482808, 'bagging_fraction': 0.9112139671406795, 'bagging_freq': 8, 'min_child_samples': 6}. Best is trial#24 with value: 79.1178782444062.\n",
      "[I 2020-05-16 04:04:19,595] Finished trial#31 with value: 78.59898578948497 with parameters: {'learning_rate': 0.025138539061216467, 'lambda_l2': 0.0004028493067698883, 'num_leaves': 75, 'max_depth': 11, 'feature_fraction': 0.7464058354285589, 'bagging_fraction': 0.8820878579199188, 'bagging_freq': 10, 'min_child_samples': 4}. Best is trial#24 with value: 79.1178782444062.\n",
      "[I 2020-05-16 04:04:33,264] Finished trial#32 with value: 78.50747073006634 with parameters: {'learning_rate': 0.026199887033211817, 'lambda_l2': 0.00048454056041595354, 'num_leaves': 55, 'max_depth': 14, 'feature_fraction': 0.7959648738848644, 'bagging_fraction': 0.9588902281287126, 'bagging_freq': 9, 'min_child_samples': 2}. Best is trial#24 with value: 79.1178782444062.\n",
      "[I 2020-05-16 04:04:47,952] Finished trial#33 with value: 78.82603917833787 with parameters: {'learning_rate': 0.02724748356444749, 'lambda_l2': 0.000879128204567879, 'num_leaves': 53, 'max_depth': 14, 'feature_fraction': 0.8897341063296613, 'bagging_fraction': 0.8944619666033592, 'bagging_freq': 11, 'min_child_samples': 2}. Best is trial#24 with value: 79.1178782444062.\n",
      "[I 2020-05-16 04:05:01,813] Finished trial#34 with value: 78.89321389608233 with parameters: {'learning_rate': 0.02968012999501584, 'lambda_l2': 0.00018792056127255017, 'num_leaves': 59, 'max_depth': 16, 'feature_fraction': 0.8844991425123288, 'bagging_fraction': 0.8440988384792517, 'bagging_freq': 11, 'min_child_samples': 2}. Best is trial#24 with value: 79.1178782444062.\n",
      "[I 2020-05-16 04:05:16,088] Finished trial#35 with value: 78.12011028596993 with parameters: {'learning_rate': 0.031010125395086977, 'lambda_l2': 0.00015369787619121995, 'num_leaves': 60, 'max_depth': 16, 'feature_fraction': 0.8875105818314479, 'bagging_fraction': 0.8337255181441643, 'bagging_freq': 11, 'min_child_samples': 2}. Best is trial#24 with value: 79.1178782444062.\n",
      "[I 2020-05-16 04:05:27,413] Finished trial#36 with value: 79.8699052279266 with parameters: {'learning_rate': 0.035843725767189034, 'lambda_l2': 0.0010958815492114866, 'num_leaves': 36, 'max_depth': 16, 'feature_fraction': 0.8951637552009781, 'bagging_fraction': 0.8996455445101604, 'bagging_freq': 12, 'min_child_samples': 1}. Best is trial#36 with value: 79.8699052279266.\n",
      "[I 2020-05-16 04:05:37,679] Finished trial#37 with value: 79.90079737305103 with parameters: {'learning_rate': 0.038159565120947196, 'lambda_l2': 0.001001222971248259, 'num_leaves': 35, 'max_depth': 17, 'feature_fraction': 0.9019847718034788, 'bagging_fraction': 0.8021049098287615, 'bagging_freq': 12, 'min_child_samples': 1}. Best is trial#37 with value: 79.90079737305103.\n",
      "[I 2020-05-16 04:05:48,042] Finished trial#38 with value: 77.50553312526796 with parameters: {'learning_rate': 0.04751874137604256, 'lambda_l2': 0.002634707695141683, 'num_leaves': 36, 'max_depth': 20, 'feature_fraction': 0.9606384917440088, 'bagging_fraction': 0.7179303215800785, 'bagging_freq': 12, 'min_child_samples': 1}. Best is trial#37 with value: 79.90079737305103.\n",
      "[I 2020-05-16 04:05:53,913] Finished trial#39 with value: 74.52420640342842 with parameters: {'learning_rate': 0.036390613218267365, 'lambda_l2': 0.0001646425282246831, 'num_leaves': 48, 'max_depth': 18, 'feature_fraction': 0.9973172433736232, 'bagging_fraction': 0.7981559065585571, 'bagging_freq': 16, 'min_child_samples': 10}. Best is trial#37 with value: 79.90079737305103.\n",
      "[I 2020-05-16 04:05:58,288] Finished trial#40 with value: 74.62581292182337 with parameters: {'learning_rate': 0.0464741024631938, 'lambda_l2': 0.0013369057040785127, 'num_leaves': 35, 'max_depth': 19, 'feature_fraction': 0.9170260242713085, 'bagging_fraction': 0.8437751453338658, 'bagging_freq': 14, 'min_child_samples': 14}. Best is trial#37 with value: 79.90079737305103.\n",
      "[I 2020-05-16 04:06:09,818] Finished trial#41 with value: 77.94133301608142 with parameters: {'learning_rate': 0.040036850874773454, 'lambda_l2': 0.0009119212974482962, 'num_leaves': 50, 'max_depth': 17, 'feature_fraction': 0.8848948523233783, 'bagging_fraction': 0.8939617957417666, 'bagging_freq': 12, 'min_child_samples': 2}. Best is trial#37 with value: 79.90079737305103.\n"
     ]
    },
    {
     "name": "stderr",
     "output_type": "stream",
     "text": [
      "[I 2020-05-16 04:06:19,001] Finished trial#42 with value: 77.79855799989419 with parameters: {'learning_rate': 0.057142287829916025, 'lambda_l2': 0.0002490910114033653, 'num_leaves': 39, 'max_depth': 17, 'feature_fraction': 0.8616725614174671, 'bagging_fraction': 0.8025731178791365, 'bagging_freq': 13, 'min_child_samples': 1}. Best is trial#37 with value: 79.90079737305103.\n",
      "[I 2020-05-16 04:06:27,444] Finished trial#43 with value: 78.73623535534446 with parameters: {'learning_rate': 0.030659061169798624, 'lambda_l2': 0.0010133431716026367, 'num_leaves': 32, 'max_depth': 15, 'feature_fraction': 0.938199326957396, 'bagging_fraction': 0.8476315860615532, 'bagging_freq': 10, 'min_child_samples': 4}. Best is trial#37 with value: 79.90079737305103.\n",
      "[I 2020-05-16 04:06:39,581] Finished trial#44 with value: 81.07589799624549 with parameters: {'learning_rate': 0.03460233605744106, 'lambda_l2': 0.0007036947533245635, 'num_leaves': 58, 'max_depth': 16, 'feature_fraction': 0.8894252479204888, 'bagging_fraction': 0.7664114125840714, 'bagging_freq': 11, 'min_child_samples': 2}. Best is trial#44 with value: 81.07589799624549.\n",
      "[I 2020-05-16 04:06:53,367] Finished trial#45 with value: 78.8958823136783 with parameters: {'learning_rate': 0.036807424804278496, 'lambda_l2': 0.0015974145635719989, 'num_leaves': 45, 'max_depth': 16, 'feature_fraction': 0.9019482503866875, 'bagging_fraction': 0.7688955862748388, 'bagging_freq': 13, 'min_child_samples': 1}. Best is trial#44 with value: 81.07589799624549.\n",
      "[I 2020-05-16 04:07:05,727] Finished trial#46 with value: 78.49896746185111 with parameters: {'learning_rate': 0.03440205601073593, 'lambda_l2': 0.0017053745727744507, 'num_leaves': 42, 'max_depth': 18, 'feature_fraction': 0.9065190874212498, 'bagging_fraction': 0.6857130195830862, 'bagging_freq': 15, 'min_child_samples': 1}. Best is trial#44 with value: 81.07589799624549.\n",
      "[I 2020-05-16 04:07:13,744] Finished trial#47 with value: 77.796472532352 with parameters: {'learning_rate': 0.04397666821030109, 'lambda_l2': 0.004067713154136569, 'num_leaves': 47, 'max_depth': 16, 'feature_fraction': 0.8584272405616936, 'bagging_fraction': 0.7464745398688933, 'bagging_freq': 20, 'min_child_samples': 4}. Best is trial#44 with value: 81.07589799624549.\n",
      "[I 2020-05-16 04:07:24,121] Finished trial#48 with value: 80.24212407540459 with parameters: {'learning_rate': 0.037407689691440794, 'lambda_l2': 0.0006669254688405492, 'num_leaves': 37, 'max_depth': 19, 'feature_fraction': 0.9074912926639375, 'bagging_fraction': 0.6347900354023754, 'bagging_freq': 13, 'min_child_samples': 1}. Best is trial#44 with value: 81.07589799624549.\n",
      "[I 2020-05-16 04:07:31,704] Finished trial#49 with value: 77.9347646807406 with parameters: {'learning_rate': 0.06655136751077352, 'lambda_l2': 0.0003180518261841801, 'num_leaves': 31, 'max_depth': 19, 'feature_fraction': 0.9529646451178195, 'bagging_fraction': 0.6443639849118526, 'bagging_freq': 15, 'min_child_samples': 1}. Best is trial#44 with value: 81.07589799624549.\n",
      "[I 2020-05-16 04:07:38,539] Finished trial#50 with value: 76.85479040217622 with parameters: {'learning_rate': 0.04988544038541996, 'lambda_l2': 0.0006570974997723972, 'num_leaves': 37, 'max_depth': 19, 'feature_fraction': 0.82059563518199, 'bagging_fraction': 0.5820136077607561, 'bagging_freq': 17, 'min_child_samples': 5}. Best is trial#44 with value: 81.07589799624549.\n",
      "[I 2020-05-16 04:07:50,352] Finished trial#51 with value: 78.85987531121778 with parameters: {'learning_rate': 0.03697460398494062, 'lambda_l2': 0.0017876468159219079, 'num_leaves': 44, 'max_depth': 16, 'feature_fraction': 0.907961819642588, 'bagging_fraction': 0.7738180433276899, 'bagging_freq': 13, 'min_child_samples': 1}. Best is trial#44 with value: 81.07589799624549.\n",
      "[I 2020-05-16 04:08:00,135] Finished trial#52 with value: 75.09347437325783 with parameters: {'learning_rate': 0.042396408046012114, 'lambda_l2': 0.0011564045810389652, 'num_leaves': 59, 'max_depth': 17, 'feature_fraction': 0.9691280184455293, 'bagging_fraction': 0.5066414722068828, 'bagging_freq': 14, 'min_child_samples': 2}. Best is trial#44 with value: 81.07589799624549.\n",
      "[I 2020-05-16 04:08:11,625] Finished trial#53 with value: 78.0393404988489 with parameters: {'learning_rate': 0.0330667613615117, 'lambda_l2': 0.0007759069717011398, 'num_leaves': 37, 'max_depth': 15, 'feature_fraction': 0.9041334245353695, 'bagging_fraction': 0.7704655970619874, 'bagging_freq': 12, 'min_child_samples': 1}. Best is trial#44 with value: 81.07589799624549.\n",
      "[I 2020-05-16 04:08:19,537] Finished trial#54 with value: 77.05786710738897 with parameters: {'learning_rate': 0.05358348059916915, 'lambda_l2': 0.9444514848687316, 'num_leaves': 41, 'max_depth': 17, 'feature_fraction': 0.865028894144843, 'bagging_fraction': 0.72983329834426, 'bagging_freq': 13, 'min_child_samples': 3}. Best is trial#44 with value: 81.07589799624549.\n",
      "[I 2020-05-16 04:08:30,925] Finished trial#55 with value: 79.68754188616913 with parameters: {'learning_rate': 0.038680907207574056, 'lambda_l2': 0.0026645126675091165, 'num_leaves': 53, 'max_depth': 19, 'feature_fraction': 0.994746105565168, 'bagging_fraction': 0.6949499817659193, 'bagging_freq': 14, 'min_child_samples': 2}. Best is trial#44 with value: 81.07589799624549.\n",
      "[I 2020-05-16 04:08:38,972] Finished trial#56 with value: 74.94930001603372 with parameters: {'learning_rate': 0.04030732613465722, 'lambda_l2': 0.014042864564571192, 'num_leaves': 53, 'max_depth': 20, 'feature_fraction': 0.9988146715024858, 'bagging_fraction': 0.6898288384113082, 'bagging_freq': 16, 'min_child_samples': 4}. Best is trial#44 with value: 81.07589799624549.\n",
      "[I 2020-05-16 04:08:48,798] Finished trial#57 with value: 77.36206280728244 with parameters: {'learning_rate': 0.033072354372391026, 'lambda_l2': 0.006117611136003797, 'num_leaves': 61, 'max_depth': 19, 'feature_fraction': 0.9391045314121185, 'bagging_fraction': 0.6155965350743483, 'bagging_freq': 15, 'min_child_samples': 3}. Best is trial#44 with value: 81.07589799624549.\n",
      "[I 2020-05-16 04:08:55,488] Finished trial#58 with value: 76.55144038610734 with parameters: {'learning_rate': 0.04336678483930869, 'lambda_l2': 0.0027442803007427545, 'num_leaves': 68, 'max_depth': 18, 'feature_fraction': 0.986307829109323, 'bagging_fraction': 0.6668658267499574, 'bagging_freq': 14, 'min_child_samples': 6}. Best is trial#44 with value: 81.07589799624549.\n",
      "[I 2020-05-16 04:09:06,856] Finished trial#59 with value: 77.73344168961425 with parameters: {'learning_rate': 0.03531756061567976, 'lambda_l2': 0.0006067180904980972, 'num_leaves': 52, 'max_depth': 20, 'feature_fraction': 0.8460523481530041, 'bagging_fraction': 0.6032044067206666, 'bagging_freq': 11, 'min_child_samples': 2}. Best is trial#44 with value: 81.07589799624549.\n",
      "[I 2020-05-16 04:09:10,942] Finished trial#60 with value: 71.96255877719912 with parameters: {'learning_rate': 0.02926095639140798, 'lambda_l2': 0.029844606864295718, 'num_leaves': 56, 'max_depth': 19, 'feature_fraction': 0.9491170063684536, 'bagging_fraction': 0.6962480568917425, 'bagging_freq': 12, 'min_child_samples': 16}. Best is trial#44 with value: 81.07589799624549.\n",
      "[I 2020-05-16 04:09:25,470] Finished trial#61 with value: 78.08973987515431 with parameters: {'learning_rate': 0.038734712396660834, 'lambda_l2': 0.001432799722159691, 'num_leaves': 46, 'max_depth': 15, 'feature_fraction': 0.9226136904798005, 'bagging_fraction': 0.6678239197557158, 'bagging_freq': 13, 'min_child_samples': 1}. Best is trial#44 with value: 81.07589799624549.\n",
      "[I 2020-05-16 04:09:36,403] Finished trial#62 with value: 79.23706402679778 with parameters: {'learning_rate': 0.03580576977985952, 'lambda_l2': 0.0022380533953895447, 'num_leaves': 40, 'max_depth': 18, 'feature_fraction': 0.912671992261726, 'bagging_fraction': 0.7184114310135321, 'bagging_freq': 14, 'min_child_samples': 2}. Best is trial#44 with value: 81.07589799624549.\n"
     ]
    },
    {
     "name": "stderr",
     "output_type": "stream",
     "text": [
      "[I 2020-05-16 04:09:46,598] Finished trial#63 with value: 77.1997187464017 with parameters: {'learning_rate': 0.03213462439235406, 'lambda_l2': 0.0032102037333060105, 'num_leaves': 34, 'max_depth': 18, 'feature_fraction': 0.8752586255041201, 'bagging_fraction': 0.7341763069185949, 'bagging_freq': 14, 'min_child_samples': 2}. Best is trial#44 with value: 81.07589799624549.\n",
      "[I 2020-05-16 04:09:55,546] Finished trial#64 with value: 79.52228916671655 with parameters: {'learning_rate': 0.04724145171219845, 'lambda_l2': 0.0052077103322140115, 'num_leaves': 40, 'max_depth': 12, 'feature_fraction': 0.9706574538773107, 'bagging_fraction': 0.7093241063402042, 'bagging_freq': 15, 'min_child_samples': 3}. Best is trial#44 with value: 81.07589799624549.\n",
      "[I 2020-05-16 04:10:04,241] Finished trial#65 with value: 80.36452680511495 with parameters: {'learning_rate': 0.046226895935234456, 'lambda_l2': 0.009887194027560482, 'num_leaves': 40, 'max_depth': 12, 'feature_fraction': 0.9734960670931445, 'bagging_fraction': 0.7105412818180894, 'bagging_freq': 15, 'min_child_samples': 3}. Best is trial#44 with value: 81.07589799624549.\n",
      "[I 2020-05-16 04:10:10,814] Finished trial#66 with value: 77.15468821746514 with parameters: {'learning_rate': 0.05144541764330402, 'lambda_l2': 0.008432214645139482, 'num_leaves': 31, 'max_depth': 12, 'feature_fraction': 0.9998577508830219, 'bagging_fraction': 0.6385952340357677, 'bagging_freq': 17, 'min_child_samples': 4}. Best is trial#44 with value: 81.07589799624549.\n",
      "[I 2020-05-16 04:10:16,131] Finished trial#67 with value: 76.39329689905475 with parameters: {'learning_rate': 0.06224627626075738, 'lambda_l2': 0.08051917890458113, 'num_leaves': 40, 'max_depth': 10, 'feature_fraction': 0.970342858599148, 'bagging_fraction': 0.7042293825374155, 'bagging_freq': 16, 'min_child_samples': 6}. Best is trial#44 with value: 81.07589799624549.\n",
      "[I 2020-05-16 04:10:27,281] Finished trial#68 with value: 79.23691292134028 with parameters: {'learning_rate': 0.04499439371429354, 'lambda_l2': 0.005254102944527772, 'num_leaves': 48, 'max_depth': 12, 'feature_fraction': 0.9896158024891554, 'bagging_fraction': 0.8141639360081643, 'bagging_freq': 15, 'min_child_samples': 3}. Best is trial#44 with value: 81.07589799624549.\n",
      "[I 2020-05-16 04:10:34,264] Finished trial#69 with value: 78.25222706274036 with parameters: {'learning_rate': 0.05749071165506889, 'lambda_l2': 0.012088457834854665, 'num_leaves': 34, 'max_depth': 12, 'feature_fraction': 0.9700606265329188, 'bagging_fraction': 0.7855867223256217, 'bagging_freq': 18, 'min_child_samples': 5}. Best is trial#44 with value: 81.07589799624549.\n",
      "[I 2020-05-16 04:10:41,473] Finished trial#70 with value: 76.5399160168216 with parameters: {'learning_rate': 0.04894414969652313, 'lambda_l2': 0.01971292537236508, 'num_leaves': 134, 'max_depth': 11, 'feature_fraction': 0.7139984691021846, 'bagging_fraction': 0.6783704145401753, 'bagging_freq': 10, 'min_child_samples': 3}. Best is trial#44 with value: 81.07589799624549.\n",
      "[I 2020-05-16 04:10:51,665] Finished trial#71 with value: 78.92310799822762 with parameters: {'learning_rate': 0.040790712386887265, 'lambda_l2': 0.002227435173268939, 'num_leaves': 39, 'max_depth': 17, 'feature_fraction': 0.9205890002377298, 'bagging_fraction': 0.71764118865265, 'bagging_freq': 14, 'min_child_samples': 2}. Best is trial#44 with value: 81.07589799624549.\n",
      "[I 2020-05-16 04:10:59,249] Finished trial#72 with value: 75.09322754940379 with parameters: {'learning_rate': 0.0792774042860208, 'lambda_l2': 0.0036666937569488182, 'num_leaves': 42, 'max_depth': 19, 'feature_fraction': 0.9425676506173902, 'bagging_fraction': 0.6573235210668289, 'bagging_freq': 12, 'min_child_samples': 3}. Best is trial#44 with value: 81.07589799624549.\n",
      "[I 2020-05-16 04:11:11,307] Finished trial#73 with value: 78.79721486557281 with parameters: {'learning_rate': 0.0378467004007145, 'lambda_l2': 0.007798450898857993, 'num_leaves': 50, 'max_depth': 18, 'feature_fraction': 0.9627844011585114, 'bagging_fraction': 0.7560142065097201, 'bagging_freq': 14, 'min_child_samples': 2}. Best is trial#44 with value: 81.07589799624549.\n",
      "[I 2020-05-16 04:11:20,083] Finished trial#74 with value: 75.8286741193892 with parameters: {'learning_rate': 0.034840602784043925, 'lambda_l2': 0.005440764265808268, 'num_leaves': 37, 'max_depth': 17, 'feature_fraction': 0.9003635876920715, 'bagging_fraction': 0.7323357460476355, 'bagging_freq': 16, 'min_child_samples': 4}. Best is trial#44 with value: 81.07589799624549.\n",
      "[I 2020-05-16 04:11:28,254] Finished trial#75 with value: 78.59889579111578 with parameters: {'learning_rate': 0.045482627985262154, 'lambda_l2': 0.010408798658795945, 'num_leaves': 31, 'max_depth': 18, 'feature_fraction': 0.8448955730060589, 'bagging_fraction': 0.7101686356947277, 'bagging_freq': 13, 'min_child_samples': 2}. Best is trial#44 with value: 81.07589799624549.\n",
      "[I 2020-05-16 04:11:38,794] Finished trial#76 with value: 79.57415665440124 with parameters: {'learning_rate': 0.042042412778516766, 'lambda_l2': 0.001158171185324841, 'num_leaves': 44, 'max_depth': 20, 'feature_fraction': 0.980212739209458, 'bagging_fraction': 0.7532344286802355, 'bagging_freq': 15, 'min_child_samples': 3}. Best is trial#44 with value: 81.07589799624549.\n",
      "[I 2020-05-16 04:11:47,964] Finished trial#77 with value: 78.30678986552535 with parameters: {'learning_rate': 0.055302658198180706, 'lambda_l2': 0.0011381342853445519, 'num_leaves': 44, 'max_depth': 20, 'feature_fraction': 0.9808528029168112, 'bagging_fraction': 0.7560669818049989, 'bagging_freq': 15, 'min_child_samples': 3}. Best is trial#44 with value: 81.07589799624549.\n",
      "[I 2020-05-16 04:11:55,677] Finished trial#78 with value: 77.76883472864434 with parameters: {'learning_rate': 0.04124834738160626, 'lambda_l2': 0.0007577187434808199, 'num_leaves': 57, 'max_depth': 14, 'feature_fraction': 0.9551447598794066, 'bagging_fraction': 0.7436412820408796, 'bagging_freq': 15, 'min_child_samples': 5}. Best is trial#44 with value: 81.07589799624549.\n",
      "[I 2020-05-16 04:12:03,849] Finished trial#79 with value: 79.2779802569961 with parameters: {'learning_rate': 0.03930418132793852, 'lambda_l2': 0.000539535111540986, 'num_leaves': 34, 'max_depth': 13, 'feature_fraction': 0.9286052632430426, 'bagging_fraction': 0.7864764301000589, 'bagging_freq': 11, 'min_child_samples': 4}. Best is trial#44 with value: 81.07589799624549.\n",
      "[I 2020-05-16 04:12:15,473] Finished trial#80 with value: 74.9345348392172 with parameters: {'learning_rate': 0.04774177984541659, 'lambda_l2': 0.004445285598020626, 'num_leaves': 51, 'max_depth': 12, 'feature_fraction': 0.873277655147577, 'bagging_fraction': 0.7022973833696504, 'bagging_freq': 12, 'min_child_samples': 1}. Best is trial#44 with value: 81.07589799624549.\n",
      "[I 2020-05-16 04:12:23,806] Finished trial#81 with value: 78.29895332407575 with parameters: {'learning_rate': 0.03898285314651666, 'lambda_l2': 0.00031941599954814264, 'num_leaves': 34, 'max_depth': 13, 'feature_fraction': 0.9328669134824117, 'bagging_fraction': 0.8137847038999717, 'bagging_freq': 11, 'min_child_samples': 4}. Best is trial#44 with value: 81.07589799624549.\n",
      "[I 2020-05-16 04:12:34,892] Finished trial#82 with value: 79.66995813644695 with parameters: {'learning_rate': 0.043726006360874176, 'lambda_l2': 0.0005000451809338782, 'num_leaves': 46, 'max_depth': 14, 'feature_fraction': 0.8933210227311272, 'bagging_fraction': 0.7990237766052284, 'bagging_freq': 10, 'min_child_samples': 3}. Best is trial#44 with value: 81.07589799624549.\n",
      "[I 2020-05-16 04:12:45,198] Finished trial#83 with value: 80.61950578972753 with parameters: {'learning_rate': 0.04271759175866567, 'lambda_l2': 0.0009484662936433022, 'num_leaves': 47, 'max_depth': 14, 'feature_fraction': 0.9852009170786888, 'bagging_fraction': 0.8009178975651268, 'bagging_freq': 10, 'min_child_samples': 3}. Best is trial#44 with value: 81.07589799624549.\n"
     ]
    },
    {
     "name": "stderr",
     "output_type": "stream",
     "text": [
      "[I 2020-05-16 04:12:54,601] Finished trial#84 with value: 78.24413229634135 with parameters: {'learning_rate': 0.051493382452816386, 'lambda_l2': 0.000952698577067005, 'num_leaves': 47, 'max_depth': 15, 'feature_fraction': 0.8106045618669774, 'bagging_fraction': 0.8262130396903616, 'bagging_freq': 9, 'min_child_samples': 3}. Best is trial#44 with value: 81.07589799624549.\n",
      "[I 2020-05-16 04:13:07,882] Finished trial#85 with value: 79.76572272127027 with parameters: {'learning_rate': 0.0436353975288565, 'lambda_l2': 0.0003820821550777627, 'num_leaves': 63, 'max_depth': 14, 'feature_fraction': 0.9914105391122136, 'bagging_fraction': 0.7981441155257295, 'bagging_freq': 10, 'min_child_samples': 1}. Best is trial#44 with value: 81.07589799624549.\n",
      "[I 2020-05-16 04:13:20,991] Finished trial#86 with value: 80.39013817016107 with parameters: {'learning_rate': 0.042798513761126165, 'lambda_l2': 0.00024047736307427112, 'num_leaves': 63, 'max_depth': 14, 'feature_fraction': 0.8964196868531065, 'bagging_fraction': 0.7985054008298412, 'bagging_freq': 10, 'min_child_samples': 1}. Best is trial#44 with value: 81.07589799624549.\n",
      "[I 2020-05-16 04:13:34,808] Finished trial#87 with value: 78.25391056075779 with parameters: {'learning_rate': 0.03422330164058959, 'lambda_l2': 0.0003358585091740721, 'num_leaves': 64, 'max_depth': 14, 'feature_fraction': 0.5429459970679489, 'bagging_fraction': 0.8521879077466795, 'bagging_freq': 8, 'min_child_samples': 1}. Best is trial#44 with value: 81.07589799624549.\n",
      "[I 2020-05-16 04:13:38,594] Finished trial#88 with value: 73.09783746464751 with parameters: {'learning_rate': 0.031677786717679735, 'lambda_l2': 0.0002359103595656385, 'num_leaves': 62, 'max_depth': 15, 'feature_fraction': 0.9903843627957795, 'bagging_fraction': 0.8602850374765448, 'bagging_freq': 10, 'min_child_samples': 20}. Best is trial#44 with value: 81.07589799624549.\n",
      "[I 2020-05-16 04:13:55,227] Finished trial#89 with value: 79.48526257849728 with parameters: {'learning_rate': 0.027759055438311402, 'lambda_l2': 0.0006651591164491999, 'num_leaves': 73, 'max_depth': 16, 'feature_fraction': 0.8955260740942289, 'bagging_fraction': 0.8257202069558472, 'bagging_freq': 11, 'min_child_samples': 1}. Best is trial#44 with value: 81.07589799624549.\n",
      "[I 2020-05-16 04:14:08,854] Finished trial#90 with value: 78.93916552717263 with parameters: {'learning_rate': 0.03641462808366486, 'lambda_l2': 0.00013795083979508522, 'num_leaves': 79, 'max_depth': 14, 'feature_fraction': 0.852994460963185, 'bagging_fraction': 0.7819676956681197, 'bagging_freq': 9, 'min_child_samples': 2}. Best is trial#44 with value: 81.07589799624549.\n",
      "[I 2020-05-16 04:14:20,128] Finished trial#91 with value: 80.90501432919694 with parameters: {'learning_rate': 0.04380463809992604, 'lambda_l2': 0.00045204973365625646, 'num_leaves': 54, 'max_depth': 13, 'feature_fraction': 0.8746976908148253, 'bagging_fraction': 0.7969033509698233, 'bagging_freq': 10, 'min_child_samples': 1}. Best is trial#44 with value: 81.07589799624549.\n",
      "[I 2020-05-16 04:14:33,188] Finished trial#92 with value: 80.09408734233294 with parameters: {'learning_rate': 0.04219893680843152, 'lambda_l2': 0.0003723287690161829, 'num_leaves': 70, 'max_depth': 13, 'feature_fraction': 0.866110680031247, 'bagging_fraction': 0.7958545228066854, 'bagging_freq': 10, 'min_child_samples': 1}. Best is trial#44 with value: 81.07589799624549.\n",
      "[I 2020-05-16 04:14:46,462] Finished trial#93 with value: 79.8000857561106 with parameters: {'learning_rate': 0.04485001324361641, 'lambda_l2': 0.00038437297926147883, 'num_leaves': 67, 'max_depth': 13, 'feature_fraction': 0.8722397966089006, 'bagging_fraction': 0.8016505082816354, 'bagging_freq': 10, 'min_child_samples': 1}. Best is trial#44 with value: 81.07589799624549.\n",
      "[I 2020-05-16 04:14:59,937] Finished trial#94 with value: 80.5546115011611 with parameters: {'learning_rate': 0.04617155571428303, 'lambda_l2': 0.0002370414141347002, 'num_leaves': 70, 'max_depth': 13, 'feature_fraction': 0.8763892158034341, 'bagging_fraction': 0.7649874349088107, 'bagging_freq': 9, 'min_child_samples': 1}. Best is trial#44 with value: 81.07589799624549.\n",
      "[I 2020-05-16 04:15:08,570] Finished trial#95 with value: 76.63772139550404 with parameters: {'learning_rate': 0.04981117042237988, 'lambda_l2': 0.2803381448219616, 'num_leaves': 90, 'max_depth': 13, 'feature_fraction': 0.8322778033856666, 'bagging_fraction': 0.7606917633601344, 'bagging_freq': 8, 'min_child_samples': 2}. Best is trial#44 with value: 81.07589799624549.\n",
      "[I 2020-05-16 04:15:21,038] Finished trial#96 with value: 79.88205413631188 with parameters: {'learning_rate': 0.054336097688293616, 'lambda_l2': 0.00027105218245550587, 'num_leaves': 71, 'max_depth': 13, 'feature_fraction': 0.8857835764605572, 'bagging_fraction': 0.7796381196771673, 'bagging_freq': 9, 'min_child_samples': 1}. Best is trial#44 with value: 81.07589799624549.\n",
      "[I 2020-05-16 04:15:32,549] Finished trial#97 with value: 80.46322574165394 with parameters: {'learning_rate': 0.05724457328402888, 'lambda_l2': 0.00021846769607527028, 'num_leaves': 71, 'max_depth': 13, 'feature_fraction': 0.8796702435150582, 'bagging_fraction': 0.7787242725674232, 'bagging_freq': 9, 'min_child_samples': 1}. Best is trial#44 with value: 81.07589799624549.\n",
      "[I 2020-05-16 04:15:35,735] Finished trial#98 with value: 73.56578536219813 with parameters: {'learning_rate': 0.05920586629929461, 'lambda_l2': 0.00012239422220891675, 'num_leaves': 69, 'max_depth': 12, 'feature_fraction': 0.8245437132259446, 'bagging_fraction': 0.8133542026196576, 'bagging_freq': 9, 'min_child_samples': 17}. Best is trial#44 with value: 81.07589799624549.\n",
      "[I 2020-05-16 04:15:44,582] Finished trial#99 with value: 76.37645081042173 with parameters: {'learning_rate': 0.08275481339659531, 'lambda_l2': 0.00019230990921943156, 'num_leaves': 80, 'max_depth': 11, 'feature_fraction': 0.8547069752549852, 'bagging_fraction': 0.765599801381509, 'bagging_freq': 8, 'min_child_samples': 2}. Best is trial#44 with value: 81.07589799624549.\n"
     ]
    }
   ],
   "source": [
    "study = optuna.create_study(direction=\"maximize\")\n",
    "study.optimize(objective, n_trials=100)"
   ]
  },
  {
   "cell_type": "code",
   "execution_count": 82,
   "metadata": {},
   "outputs": [
    {
     "name": "stdout",
     "output_type": "stream",
     "text": [
      "Number of finished trials: 100\n",
      "Best trial:\n",
      "Value: 81.07589799624549\n",
      "Params: \n",
      " learning_rate: 0.03460233605744106\n",
      " lambda_l2: 0.0007036947533245635\n",
      " num_leaves: 58\n",
      " max_depth: 16\n",
      " feature_fraction: 0.8894252479204888\n",
      " bagging_fraction: 0.7664114125840714\n",
      " bagging_freq: 11\n",
      " min_child_samples: 2\n"
     ]
    }
   ],
   "source": [
    "print(\"Number of finished trials: {}\".format(len(study.trials)))\n",
    "\n",
    "print(\"Best trial:\")\n",
    "trial = study.best_trial\n",
    "\n",
    "print(\"Value: {}\".format(trial.value))\n",
    "\n",
    "print(\"Params: \")\n",
    "for key, value in trial.params.items():\n",
    "    print(\" {}: {}\".format(key, value))"
   ]
  },
  {
   "cell_type": "markdown",
   "metadata": {},
   "source": [
    "## Build the model"
   ]
  },
  {
   "cell_type": "code",
   "execution_count": 83,
   "metadata": {},
   "outputs": [],
   "source": [
    "# Define model hyperparameters\n",
    "params = {}\n",
    "params[\"objective\"] = 'multiclass'\n",
    "params[\"metric\"] = 'multi_logloss'\n",
    "params[\"num_class\"] = 2\n",
    "#params[\"is_unbalance\"] = True\n",
    "params[\"boosting\"] = 'gbdt'\n",
    "params[\"max_depth\"] = 16\n",
    "params[\"num_leaves\"] = 58\n",
    "params[\"learning_rate\"] = 0.0346\n",
    "params[\"bagging_fraction\"] = 0.77\n",
    "params[\"feature_fraction\"] = 0.89\n",
    "params[\"bagging_freq\"] = 11\n",
    "params[\"bagging_seed\"] = 10\n",
    "params[\"lambda_l2\"] = 0.001\n",
    "params[\"min_data_in_leaf\"] = 2\n",
    "params[\"verbosity\"] = -1\n",
    "num_rounds = 5000"
   ]
  },
  {
   "cell_type": "code",
   "execution_count": 84,
   "metadata": {},
   "outputs": [],
   "source": [
    "# Define 5-fold cross validation test harness\n",
    "kfold = StratifiedKFold(n_splits=5, shuffle=True, random_state=10)\n",
    "y_pred = 0"
   ]
  },
  {
   "cell_type": "code",
   "execution_count": 85,
   "metadata": {},
   "outputs": [
    {
     "name": "stdout",
     "output_type": "stream",
     "text": [
      "Training until validation scores don't improve for 200 rounds\n",
      "Early stopping, best iteration is:\n",
      "[87]\tvalid_0's multi_logloss: 0.287752\n",
      "Training until validation scores don't improve for 200 rounds\n",
      "Early stopping, best iteration is:\n",
      "[101]\tvalid_0's multi_logloss: 0.273368\n",
      "Training until validation scores don't improve for 200 rounds\n",
      "Early stopping, best iteration is:\n",
      "[68]\tvalid_0's multi_logloss: 0.273067\n",
      "Training until validation scores don't improve for 200 rounds\n",
      "Early stopping, best iteration is:\n",
      "[77]\tvalid_0's multi_logloss: 0.295476\n",
      "Training until validation scores don't improve for 200 rounds\n",
      "Early stopping, best iteration is:\n",
      "[91]\tvalid_0's multi_logloss: 0.272747\n"
     ]
    }
   ],
   "source": [
    "# Train the model using K-fold\n",
    "counter = 0\n",
    "\n",
    "for train, val in kfold.split(Xtrain, Ytrain):\n",
    "    counter += 1\n",
    "\n",
    "    train_x, train_y = Xtrain[train], Ytrain[train]\n",
    "    val_x, val_y = Xtrain[val], Ytrain[val]\n",
    "\n",
    "    lgtrain = lgb.Dataset(train_x, label=train_y.ravel())\n",
    "    lgvalidation = lgb.Dataset(val_x, label=val_y.ravel())\n",
    "\n",
    "    model = lgb.train(params, lgtrain, num_rounds, valid_sets=[lgvalidation], early_stopping_rounds=200, verbose_eval=1000)\n",
    "    pred = model.predict(Xtest, num_iteration=model.best_iteration)\n",
    "\n",
    "    y_pred += pred\n",
    "\n",
    "y_pred /= float(counter)"
   ]
  },
  {
   "cell_type": "markdown",
   "metadata": {},
   "source": [
    "## Validate the model"
   ]
  },
  {
   "cell_type": "code",
   "execution_count": 86,
   "metadata": {},
   "outputs": [
    {
     "name": "stdout",
     "output_type": "stream",
     "text": [
      "Overall log_loss of model: 0.22499325690763275\n"
     ]
    }
   ],
   "source": [
    "#Print log_loss\n",
    "loss = log_loss(test_y, y_pred)\n",
    "print('Overall log_loss of model:', loss)"
   ]
  },
  {
   "cell_type": "code",
   "execution_count": 87,
   "metadata": {},
   "outputs": [
    {
     "name": "stdout",
     "output_type": "stream",
     "text": [
      "Overall accuracy of ANN model: 0.926829268292683\n"
     ]
    }
   ],
   "source": [
    "#Print accuracy\n",
    "y_pred_binary = np.array([np.argmax(y_pred, axis=1)]).T\n",
    "acc_score = accuracy_score(Ytest, y_pred_binary)\n",
    "print('Overall accuracy of ANN model:', acc_score)"
   ]
  },
  {
   "cell_type": "code",
   "execution_count": 88,
   "metadata": {},
   "outputs": [
    {
     "data": {
      "image/png": "[encoded data removed]",
      "text/plain": [
       "<Figure size 432x288 with 1 Axes>"
      ]
     },
     "metadata": {
      "needs_background": "light"
     },
     "output_type": "display_data"
    },
    {
     "name": "stdout",
     "output_type": "stream",
     "text": [
      "AUC score: 0.9282051282051282\n"
     ]
    }
   ],
   "source": [
    "#Print Area Under Curve\n",
    "plt.figure()\n",
    "false_positive_rate, recall, thresholds = roc_curve(Ytest, y_pred_binary)\n",
    "roc_auc = auc(false_positive_rate, recall)\n",
    "plt.title('Receiver Operating Characteristic (ROC)')\n",
    "plt.plot(false_positive_rate, recall, 'b', label = 'AUC = %0.3f' %roc_auc)\n",
    "plt.legend(loc='lower right')\n",
    "plt.plot([0,1], [0,1], 'r--')\n",
    "plt.xlim([0.0,1.0])\n",
    "plt.ylim([0.0,1.0])\n",
    "plt.ylabel('Recall')\n",
    "plt.xlabel('Fall-out (1-Specificity)')\n",
    "plt.show()\n",
    "\n",
    "print('AUC score:', roc_auc)"
   ]
  },
  {
   "cell_type": "code",
   "execution_count": 89,
   "metadata": {},
   "outputs": [
    {
     "data": {
      "image/png": "[encoded data removed]",
      "text/plain": [
       "<Figure size 432x288 with 2 Axes>"
      ]
     },
     "metadata": {
      "needs_background": "light"
     },
     "output_type": "display_data"
    }
   ],
   "source": [
    "#Print Confusion Matrix\n",
    "cm = confusion_matrix(Ytest, y_pred_binary)\n",
    "labels = ['0', '1']\n",
    "sns.heatmap(cm, xticklabels = labels, yticklabels = labels, annot = True, fmt='d', cmap=\"Blues\", vmin = 0.5);\n",
    "plt.title('Confusion Matrix')\n",
    "plt.ylabel('True Class')\n",
    "plt.xlabel('Predicted Class')\n",
    "plt.show()"
   ]
  },
  {
   "cell_type": "markdown",
   "metadata": {},
   "source": [
    "## Train model on entire data"
   ]
  },
  {
   "cell_type": "code",
   "execution_count": 90,
   "metadata": {},
   "outputs": [],
   "source": [
    "# Define 5-fold cross validation test harness\n",
    "kfold = StratifiedKFold(n_splits=5, shuffle=True, random_state=10)\n",
    "y_pred = 0"
   ]
  },
  {
   "cell_type": "code",
   "execution_count": 91,
   "metadata": {},
   "outputs": [
    {
     "name": "stdout",
     "output_type": "stream",
     "text": [
      "Training until validation scores don't improve for 200 rounds\n",
      "Early stopping, best iteration is:\n",
      "[66]\tvalid_0's multi_logloss: 0.356494\n",
      "Training until validation scores don't improve for 200 rounds\n",
      "Early stopping, best iteration is:\n",
      "[85]\tvalid_0's multi_logloss: 0.296339\n",
      "Training until validation scores don't improve for 200 rounds\n",
      "Early stopping, best iteration is:\n",
      "[71]\tvalid_0's multi_logloss: 0.279196\n",
      "Training until validation scores don't improve for 200 rounds\n",
      "Early stopping, best iteration is:\n",
      "[110]\tvalid_0's multi_logloss: 0.169961\n",
      "Training until validation scores don't improve for 200 rounds\n",
      "Early stopping, best iteration is:\n",
      "[68]\tvalid_0's multi_logloss: 0.273137\n"
     ]
    }
   ],
   "source": [
    "# Train the model using K-fold\n",
    "counter = 0\n",
    "\n",
    "for train, val in kfold.split(Xtrain_full, Ytrain_full):\n",
    "    counter += 1\n",
    "\n",
    "    train_x, train_y = Xtrain_full[train], Ytrain_full[train]\n",
    "    val_x, val_y = Xtrain_full[val], Ytrain_full[val]\n",
    "\n",
    "    lgtrain = lgb.Dataset(train_x, label=train_y.ravel())\n",
    "    lgvalidation = lgb.Dataset(val_x, label=val_y.ravel())\n",
    "\n",
    "    model = lgb.train(params, lgtrain, num_rounds, valid_sets=[lgvalidation], early_stopping_rounds=200, verbose_eval=1000)\n",
    "    pred = model.predict(Xpredict, num_iteration=model.best_iteration)\n",
    "\n",
    "    y_pred += pred\n",
    "\n",
    "y_pred /= float(counter)"
   ]
  },
  {
   "cell_type": "markdown",
   "metadata": {},
   "source": [
    "## Create submission file"
   ]
  },
  {
   "cell_type": "code",
   "execution_count": 92,
   "metadata": {},
   "outputs": [
    {
     "data": {
      "text/html": [
       "<div>\n",
       "<style scoped>\n",
       "    .dataframe tbody tr th:only-of-type {\n",
       "        vertical-align: middle;\n",
       "    }\n",
       "\n",
       "    .dataframe tbody tr th {\n",
       "        vertical-align: top;\n",
       "    }\n",
       "\n",
       "    .dataframe thead th {\n",
       "        text-align: right;\n",
       "    }\n",
       "</style>\n",
       "<table border=\"1\" class=\"dataframe\">\n",
       "  <thead>\n",
       "    <tr style=\"text-align: right;\">\n",
       "      <th></th>\n",
       "      <th>0</th>\n",
       "      <th>1</th>\n",
       "    </tr>\n",
       "  </thead>\n",
       "  <tbody>\n",
       "    <tr>\n",
       "      <th>0</th>\n",
       "      <td>0.035290</td>\n",
       "      <td>0.964710</td>\n",
       "    </tr>\n",
       "    <tr>\n",
       "      <th>1</th>\n",
       "      <td>0.215446</td>\n",
       "      <td>0.784554</td>\n",
       "    </tr>\n",
       "    <tr>\n",
       "      <th>2</th>\n",
       "      <td>0.544866</td>\n",
       "      <td>0.455134</td>\n",
       "    </tr>\n",
       "    <tr>\n",
       "      <th>3</th>\n",
       "      <td>0.035290</td>\n",
       "      <td>0.964710</td>\n",
       "    </tr>\n",
       "    <tr>\n",
       "      <th>4</th>\n",
       "      <td>0.151149</td>\n",
       "      <td>0.848851</td>\n",
       "    </tr>\n",
       "  </tbody>\n",
       "</table>\n",
       "</div>"
      ],
      "text/plain": [
       "          0         1\n",
       "0  0.035290  0.964710\n",
       "1  0.215446  0.784554\n",
       "2  0.544866  0.455134\n",
       "3  0.035290  0.964710\n",
       "4  0.151149  0.848851"
      ]
     },
     "execution_count": 92,
     "metadata": {},
     "output_type": "execute_result"
    }
   ],
   "source": [
    "submit_df = pd.DataFrame(y_pred, columns=['0','1'])\n",
    "submit_df.head()"
   ]
  },
  {
   "cell_type": "code",
   "execution_count": 93,
   "metadata": {},
   "outputs": [],
   "source": [
    "submit_df.to_excel(\"Predictions/predictions_v4.xlsx\", index=False)"
   ]
  },
  {
   "cell_type": "code",
   "execution_count": null,
   "metadata": {},
   "outputs": [],
   "source": []
  }
 ],
 "metadata": {
  "kernelspec": {
   "display_name": "Python 3",
   "language": "python",
   "name": "python3"
  },
  "language_info": {
   "codemirror_mode": {
    "name": "ipython",
    "version": 3
   },
   "file_extension": ".py",
   "mimetype": "text/x-python",
   "name": "python",
   "nbconvert_exporter": "python",
   "pygments_lexer": "ipython3",
   "version": "3.7.7"
  }
 },
 "nbformat": 4,
 "nbformat_minor": 4
}
