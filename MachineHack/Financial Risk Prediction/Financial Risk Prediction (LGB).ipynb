{
 "cells": [
  {
   "cell_type": "markdown",
   "metadata": {},
   "source": [
    "## Import Packages"
   ]
  },
  {
   "cell_type": "code",
   "execution_count": 53,
   "metadata": {},
   "outputs": [],
   "source": [
    "import pandas as pd\n",
    "import numpy as np\n",
    "import matplotlib.pyplot as plt\n",
    "import seaborn as sns\n",
    "from scipy.stats import boxcox\n",
    "from sklearn.preprocessing import MinMaxScaler, RobustScaler\n",
    "from sklearn.metrics import log_loss, f1_score, roc_curve, auc, confusion_matrix, accuracy_score\n",
    "from sklearn.model_selection import StratifiedKFold, StratifiedShuffleSplit\n",
    "import lightgbm as lgb\n",
    "import optuna"
   ]
  },
  {
   "cell_type": "markdown",
   "metadata": {},
   "source": [
    "## Set file paths for train and predict datasets"
   ]
  },
  {
   "cell_type": "code",
   "execution_count": 2,
   "metadata": {},
   "outputs": [],
   "source": [
    "train_dataset = \"Dataset/Train.csv\"\n",
    "predict_dataset = \"Dataset/Test.csv\""
   ]
  },
  {
   "cell_type": "markdown",
   "metadata": {},
   "source": [
    "## Exploratory Data Analysis"
   ]
  },
  {
   "cell_type": "markdown",
   "metadata": {},
   "source": [
    "#### Get train dataset info"
   ]
  },
  {
   "cell_type": "code",
   "execution_count": 37,
   "metadata": {},
   "outputs": [
    {
     "data": {
      "text/html": [
       "<div>\n",
       "<style scoped>\n",
       "    .dataframe tbody tr th:only-of-type {\n",
       "        vertical-align: middle;\n",
       "    }\n",
       "\n",
       "    .dataframe tbody tr th {\n",
       "        vertical-align: top;\n",
       "    }\n",
       "\n",
       "    .dataframe thead th {\n",
       "        text-align: right;\n",
       "    }\n",
       "</style>\n",
       "<table border=\"1\" class=\"dataframe\">\n",
       "  <thead>\n",
       "    <tr style=\"text-align: right;\">\n",
       "      <th></th>\n",
       "      <th>City</th>\n",
       "      <th>Location_Score</th>\n",
       "      <th>Internal_Audit_Score</th>\n",
       "      <th>External_Audit_Score</th>\n",
       "      <th>Fin_Score</th>\n",
       "      <th>Loss_score</th>\n",
       "      <th>Past_Results</th>\n",
       "      <th>IsUnderRisk</th>\n",
       "    </tr>\n",
       "  </thead>\n",
       "  <tbody>\n",
       "    <tr>\n",
       "      <th>0</th>\n",
       "      <td>2</td>\n",
       "      <td>8.032</td>\n",
       "      <td>14</td>\n",
       "      <td>8</td>\n",
       "      <td>3</td>\n",
       "      <td>6</td>\n",
       "      <td>0</td>\n",
       "      <td>1</td>\n",
       "    </tr>\n",
       "    <tr>\n",
       "      <th>1</th>\n",
       "      <td>31</td>\n",
       "      <td>77.730</td>\n",
       "      <td>8</td>\n",
       "      <td>3</td>\n",
       "      <td>3</td>\n",
       "      <td>8</td>\n",
       "      <td>1</td>\n",
       "      <td>0</td>\n",
       "    </tr>\n",
       "    <tr>\n",
       "      <th>2</th>\n",
       "      <td>40</td>\n",
       "      <td>59.203</td>\n",
       "      <td>3</td>\n",
       "      <td>12</td>\n",
       "      <td>11</td>\n",
       "      <td>3</td>\n",
       "      <td>0</td>\n",
       "      <td>1</td>\n",
       "    </tr>\n",
       "    <tr>\n",
       "      <th>3</th>\n",
       "      <td>12</td>\n",
       "      <td>73.080</td>\n",
       "      <td>4</td>\n",
       "      <td>5</td>\n",
       "      <td>7</td>\n",
       "      <td>6</td>\n",
       "      <td>0</td>\n",
       "      <td>0</td>\n",
       "    </tr>\n",
       "    <tr>\n",
       "      <th>4</th>\n",
       "      <td>4</td>\n",
       "      <td>15.666</td>\n",
       "      <td>13</td>\n",
       "      <td>15</td>\n",
       "      <td>6</td>\n",
       "      <td>7</td>\n",
       "      <td>2</td>\n",
       "      <td>1</td>\n",
       "    </tr>\n",
       "  </tbody>\n",
       "</table>\n",
       "</div>"
      ],
      "text/plain": [
       "   City  Location_Score  Internal_Audit_Score  External_Audit_Score  \\\n",
       "0     2           8.032                    14                     8   \n",
       "1    31          77.730                     8                     3   \n",
       "2    40          59.203                     3                    12   \n",
       "3    12          73.080                     4                     5   \n",
       "4     4          15.666                    13                    15   \n",
       "\n",
       "   Fin_Score  Loss_score  Past_Results  IsUnderRisk  \n",
       "0          3           6             0            1  \n",
       "1          3           8             1            0  \n",
       "2         11           3             0            1  \n",
       "3          7           6             0            0  \n",
       "4          6           7             2            1  "
      ]
     },
     "execution_count": 37,
     "metadata": {},
     "output_type": "execute_result"
    }
   ],
   "source": [
    "train_df = pd.read_csv(train_dataset)\n",
    "train_df.head()"
   ]
  },
  {
   "cell_type": "code",
   "execution_count": null,
   "metadata": {},
   "outputs": [],
   "source": [
    "train_df.info(verbose=True)"
   ]
  },
  {
   "cell_type": "markdown",
   "metadata": {},
   "source": [
    "#### Get predict dataset info"
   ]
  },
  {
   "cell_type": "code",
   "execution_count": null,
   "metadata": {},
   "outputs": [],
   "source": [
    "predict_df = pd.read_csv(predict_dataset)\n",
    "predict_df.head()"
   ]
  },
  {
   "cell_type": "code",
   "execution_count": null,
   "metadata": {},
   "outputs": [],
   "source": [
    "predict_df.info(verbose=True)"
   ]
  },
  {
   "cell_type": "markdown",
   "metadata": {},
   "source": [
    "#### Count plot of target variable"
   ]
  },
  {
   "cell_type": "code",
   "execution_count": null,
   "metadata": {},
   "outputs": [],
   "source": [
    "plt.figure(figsize=(10,6))\n",
    "sns.countplot(x=\"IsUnderRisk\", data=train_df).set_title('Count plot of \"IsUnderRisk\" data')\n",
    "plt.grid()"
   ]
  },
  {
   "cell_type": "markdown",
   "metadata": {},
   "source": [
    "#### Examine class imbalance"
   ]
  },
  {
   "cell_type": "code",
   "execution_count": null,
   "metadata": {},
   "outputs": [],
   "source": [
    "neg, pos = np.bincount(train_df['IsUnderRisk'])\n",
    "total = neg + pos\n",
    "print('Total: {}\\n  Positive: {} ({:.2f}% of total)\\n  Negative: {} ({:.2f}% of total)\\n'.format(\n",
    "    total, pos, 100 * pos / total, neg, 100 * neg / total))"
   ]
  },
  {
   "cell_type": "markdown",
   "metadata": {},
   "source": [
    "#### Get correlation between different features"
   ]
  },
  {
   "cell_type": "code",
   "execution_count": null,
   "metadata": {},
   "outputs": [],
   "source": [
    "plt.figure(figsize=(30,15))\n",
    "ax = sns.heatmap(train_df.corr(), annot=True, linewidth = 0.5, cmap='coolwarm', \n",
    "                 fmt='.1g', vmin=-1, vmax=1, center= 0, square=True)\n",
    "plt.show()\n",
    "#figure = ax.get_figure()    \n",
    "#figure.savefig('correlation_heatmap.png', dpi=500)"
   ]
  },
  {
   "cell_type": "markdown",
   "metadata": {},
   "source": [
    "#### Checking for outliers"
   ]
  },
  {
   "cell_type": "code",
   "execution_count": 38,
   "metadata": {},
   "outputs": [
    {
     "data": {
      "text/plain": [
       "<matplotlib.axes._subplots.AxesSubplot at 0x224ebe08b48>"
      ]
     },
     "execution_count": 38,
     "metadata": {},
     "output_type": "execute_result"
    },
    {
     "data": {
      "image/png": "[encoded data removed]",
      "text/plain": [
       "<Figure size 432x288 with 1 Axes>"
      ]
     },
     "metadata": {
      "needs_background": "light"
     },
     "output_type": "display_data"
    }
   ],
   "source": [
    "sns.boxplot(x=train_df['Fin_Score'])"
   ]
  },
  {
   "cell_type": "code",
   "execution_count": 39,
   "metadata": {},
   "outputs": [
    {
     "data": {
      "text/plain": [
       "Text(0, 0.5, 'Frequency')"
      ]
     },
     "execution_count": 39,
     "metadata": {},
     "output_type": "execute_result"
    },
    {
     "data": {
      "image/png": "[encoded data removed]",
      "text/plain": [
       "<Figure size 432x288 with 1 Axes>"
      ]
     },
     "metadata": {
      "needs_background": "light"
     },
     "output_type": "display_data"
    }
   ],
   "source": [
    "fig, ax = plt.subplots()\n",
    "train_df['Fin_Score'].hist(color='#A9C5D3', edgecolor='black', grid=True)\n",
    "ax.set_title('Fin_Score Histogram', fontsize=12)\n",
    "ax.set_xlabel('Fin_Score', fontsize=12)\n",
    "ax.set_ylabel('Frequency', fontsize=12)"
   ]
  },
  {
   "cell_type": "code",
   "execution_count": 40,
   "metadata": {},
   "outputs": [
    {
     "data": {
      "text/plain": [
       "fin_score_discretised\n",
       "(2.999, 4.0]    135\n",
       "(4.0, 6.0]      132\n",
       "(6.0, 7.0]       74\n",
       "(7.0, 10.0]     108\n",
       "(10.0, 15.0]     94\n",
       "Name: Fin_Score, dtype: int64"
      ]
     },
     "execution_count": 40,
     "metadata": {},
     "output_type": "execute_result"
    }
   ],
   "source": [
    "fin_score_discretised, intervals = pd.qcut(train_df.Fin_Score, 5, labels=None, retbins=True, precision=3, duplicates='raise')\n",
    "temp = pd.concat([train_df.Fin_Score, fin_score_discretised], axis=1)\n",
    "temp.columns = ['Fin_Score', 'fin_score_discretised']\n",
    "temp.groupby('fin_score_discretised')['Fin_Score'].count()"
   ]
  },
  {
   "cell_type": "code",
   "execution_count": 41,
   "metadata": {},
   "outputs": [
    {
     "data": {
      "text/plain": [
       "<matplotlib.axes._subplots.AxesSubplot at 0x224ebd02f08>"
      ]
     },
     "execution_count": 41,
     "metadata": {},
     "output_type": "execute_result"
    },
    {
     "data": {
      "image/png": "[encoded data removed]",
      "text/plain": [
       "<Figure size 432x288 with 1 Axes>"
      ]
     },
     "metadata": {
      "needs_background": "light"
     },
     "output_type": "display_data"
    }
   ],
   "source": [
    "sns.boxplot(x=train_df['Loss_score'])"
   ]
  },
  {
   "cell_type": "code",
   "execution_count": 42,
   "metadata": {},
   "outputs": [
    {
     "data": {
      "text/plain": [
       "Text(0, 0.5, 'Frequency')"
      ]
     },
     "execution_count": 42,
     "metadata": {},
     "output_type": "execute_result"
    },
    {
     "data": {
      "image/png": "[encoded data removed]",
      "text/plain": [
       "<Figure size 432x288 with 1 Axes>"
      ]
     },
     "metadata": {
      "needs_background": "light"
     },
     "output_type": "display_data"
    }
   ],
   "source": [
    "fig, ax = plt.subplots()\n",
    "train_df['Loss_score'].hist(color='#A9C5D3', edgecolor='black', grid=True)\n",
    "ax.set_title('Loss_score Histogram', fontsize=12)\n",
    "ax.set_xlabel('Loss_score', fontsize=12)\n",
    "ax.set_ylabel('Frequency', fontsize=12)"
   ]
  },
  {
   "cell_type": "code",
   "execution_count": 43,
   "metadata": {},
   "outputs": [
    {
     "data": {
      "text/plain": [
       "loss_score_discretised\n",
       "(2.999, 4.0]    188\n",
       "(4.0, 5.0]       82\n",
       "(5.0, 6.0]       94\n",
       "(6.0, 7.0]       78\n",
       "(7.0, 13.0]     101\n",
       "Name: Loss_score, dtype: int64"
      ]
     },
     "execution_count": 43,
     "metadata": {},
     "output_type": "execute_result"
    }
   ],
   "source": [
    "loss_score_discretised, intervals = pd.qcut(train_df.Loss_score, 5, labels=None, retbins=True, precision=3, duplicates='raise')\n",
    "temp = pd.concat([train_df.Loss_score, loss_score_discretised], axis=1)\n",
    "temp.columns = ['Loss_score', 'loss_score_discretised']\n",
    "temp.groupby('loss_score_discretised')['Loss_score'].count()"
   ]
  },
  {
   "cell_type": "code",
   "execution_count": 44,
   "metadata": {},
   "outputs": [
    {
     "data": {
      "text/plain": [
       "<matplotlib.axes._subplots.AxesSubplot at 0x224ebe3e248>"
      ]
     },
     "execution_count": 44,
     "metadata": {},
     "output_type": "execute_result"
    },
    {
     "data": {
      "image/png": "[encoded data removed]",
      "text/plain": [
       "<Figure size 432x288 with 1 Axes>"
      ]
     },
     "metadata": {
      "needs_background": "light"
     },
     "output_type": "display_data"
    }
   ],
   "source": [
    "sns.boxplot(x=train_df['Past_Results'])"
   ]
  },
  {
   "cell_type": "code",
   "execution_count": 45,
   "metadata": {},
   "outputs": [
    {
     "data": {
      "text/plain": [
       "Text(0, 0.5, 'Frequency')"
      ]
     },
     "execution_count": 45,
     "metadata": {},
     "output_type": "execute_result"
    },
    {
     "data": {
      "image/png": "[encoded data removed]",
      "text/plain": [
       "<Figure size 432x288 with 1 Axes>"
      ]
     },
     "metadata": {
      "needs_background": "light"
     },
     "output_type": "display_data"
    }
   ],
   "source": [
    "fig, ax = plt.subplots()\n",
    "train_df['Past_Results'].hist(color='#A9C5D3', edgecolor='black', grid=True)\n",
    "ax.set_title('Past_Results Histogram', fontsize=12)\n",
    "ax.set_xlabel('Past_Results', fontsize=12)\n",
    "ax.set_ylabel('Frequency', fontsize=12)"
   ]
  },
  {
   "cell_type": "code",
   "execution_count": 49,
   "metadata": {},
   "outputs": [
    {
     "data": {
      "text/plain": [
       "past_results_discretised\n",
       "(-0.001, 1.0]    522\n",
       "(1.0, 10.0]       21\n",
       "Name: Past_Results, dtype: int64"
      ]
     },
     "execution_count": 49,
     "metadata": {},
     "output_type": "execute_result"
    }
   ],
   "source": [
    "past_results_discretised, intervals = pd.qcut(train_df.Past_Results, 2, labels=None, retbins=True, precision=3, duplicates='raise')\n",
    "temp = pd.concat([train_df.Past_Results, past_results_discretised], axis=1)\n",
    "temp.columns = ['Past_Results', 'past_results_discretised']\n",
    "temp.groupby('past_results_discretised')['Past_Results'].count()"
   ]
  },
  {
   "cell_type": "markdown",
   "metadata": {},
   "source": [
    "## Data Preprocessing"
   ]
  },
  {
   "cell_type": "markdown",
   "metadata": {},
   "source": [
    "#### Read train and predict datasets"
   ]
  },
  {
   "cell_type": "code",
   "execution_count": 115,
   "metadata": {},
   "outputs": [
    {
     "name": "stdout",
     "output_type": "stream",
     "text": [
      "train_df: (543, 8)\n",
      "predict_df: (233, 7)\n"
     ]
    }
   ],
   "source": [
    "train_df = pd.read_csv(train_dataset)\n",
    "predict_df = pd.read_csv(predict_dataset)\n",
    "print(\"train_df: {}\".format(train_df.shape))\n",
    "print(\"predict_df: {}\".format(predict_df.shape))"
   ]
  },
  {
   "cell_type": "markdown",
   "metadata": {},
   "source": [
    "#### Extract \"IsUnderRisk\" field from train_df into NumPy array"
   ]
  },
  {
   "cell_type": "code",
   "execution_count": 116,
   "metadata": {},
   "outputs": [
    {
     "name": "stdout",
     "output_type": "stream",
     "text": [
      "train_y: (543, 1)\n"
     ]
    }
   ],
   "source": [
    "train_y = np.array([train_df['IsUnderRisk'].values]).T\n",
    "train_df.drop(['IsUnderRisk'], inplace=True, axis=1)\n",
    "print(\"train_y: {}\".format(train_y.shape))"
   ]
  },
  {
   "cell_type": "markdown",
   "metadata": {},
   "source": [
    "#### Feature Engineering"
   ]
  },
  {
   "cell_type": "code",
   "execution_count": 117,
   "metadata": {},
   "outputs": [
    {
     "name": "stdout",
     "output_type": "stream",
     "text": [
      "(776, 7)\n"
     ]
    }
   ],
   "source": [
    "# Combine train and predict dataframes\n",
    "combined_df = train_df.append(predict_df, sort=False, ignore_index=True)\n",
    "print(combined_df.shape)"
   ]
  },
  {
   "cell_type": "code",
   "execution_count": 118,
   "metadata": {},
   "outputs": [],
   "source": [
    "# Standard Deviation of all score values\n",
    "combined_df['Location_Score_STD'] = np.std(combined_df['Location_Score'])\n",
    "combined_df['Internal_Audit_Score_STD'] = np.std(combined_df['Internal_Audit_Score'])\n",
    "combined_df['External_Audit_Score_STD'] = np.std(combined_df['External_Audit_Score'])\n",
    "combined_df['Fin_Score_STD'] = np.std(combined_df['Fin_Score'])\n",
    "combined_df['Loss_score_STD'] = np.std(combined_df['Loss_score'])\n",
    "combined_df['Past_Results_STD'] = np.std(combined_df['Past_Results'])\n",
    "\n",
    "# Get difference and mean of different scores\n",
    "combined_df[\"Audit_Score_Diff\"] = np.power(combined_df[\"Internal_Audit_Score\"] - combined_df[\"External_Audit_Score\"], 2)\n",
    "combined_df[\"Average_Audit_Score\"] = (combined_df[\"Internal_Audit_Score\"] + combined_df[\"External_Audit_Score\"]) / 2\n",
    "combined_df[\"Score_diff1\"] = np.power(combined_df[\"Fin_Score\"] - combined_df[\"Loss_score\"], 2)\n",
    "combined_df[\"Score_diff2\"] = np.power(combined_df[\"Fin_Score\"] - combined_df[\"Average_Audit_Score\"], 2)\n",
    "combined_df[\"Score_diff3\"] = np.power(combined_df[\"Loss_score\"] - combined_df[\"Average_Audit_Score\"], 2)\n",
    "combined_df[\"Cumulative_Score\"] = (combined_df['Location_Score'] + combined_df[\"Internal_Audit_Score\"] + combined_df[\"External_Audit_Score\"] + combined_df[\"Fin_Score\"] + combined_df[\"Loss_score\"]) / 5"
   ]
  },
  {
   "cell_type": "code",
   "execution_count": 119,
   "metadata": {},
   "outputs": [],
   "source": [
    "# Calculate different score ratios\n",
    "combined_df[\"Average_Audit_Score\"] = (combined_df[\"Internal_Audit_Score\"] + combined_df[\"External_Audit_Score\"]) / 2\n",
    "combined_df[\"Fin_Score/Average_Audit_Score\"] = combined_df[\"Fin_Score\"] / combined_df[\"Average_Audit_Score\"]\n",
    "combined_df[\"Loss_score/Average_Audit_Score\"] = combined_df[\"Loss_score\"] / combined_df[\"Average_Audit_Score\"]\n",
    "combined_df[\"Loss_score/Fin_Score\"] = combined_df[\"Loss_score\"] / combined_df[\"Fin_Score\"]\n",
    "combined_df[\"Fin_Score/Location_Score\"] = combined_df[\"Fin_Score\"] / combined_df[\"Location_Score\"]\n",
    "combined_df[\"Loss_score/Location_Score\"] = combined_df[\"Loss_score\"] / combined_df[\"Location_Score\"]\n",
    "combined_df[\"Average_Audit_Score/Location_Score\"] = combined_df[\"Average_Audit_Score\"] / combined_df[\"Location_Score\"]\n",
    "combined_df[\"Past_Results/Location_Score\"] = combined_df[\"Past_Results\"] / combined_df[\"Location_Score\"]"
   ]
  },
  {
   "cell_type": "code",
   "execution_count": 120,
   "metadata": {},
   "outputs": [],
   "source": [
    "# Box-cox transformation\n",
    "_, opt_lambda = boxcox(combined_df[\"Location_Score\"])\n",
    "combined_df['Location_boxcox_lambda_0'] = boxcox((1+combined_df['Location_Score']), lmbda=0)\n",
    "combined_df['Location_boxcox_lambda_opt'] = boxcox(combined_df['Location_Score'], lmbda=opt_lambda)\n",
    "\n",
    "_, opt_lambda = boxcox(combined_df[\"Internal_Audit_Score\"])\n",
    "combined_df['IAS_boxcox_lambda_0'] = boxcox((1+combined_df['Internal_Audit_Score']), lmbda=0)\n",
    "combined_df['IAS_boxcox_lambda_opt'] = boxcox(combined_df['Internal_Audit_Score'], lmbda=opt_lambda)\n",
    "\n",
    "_, opt_lambda = boxcox(combined_df[\"External_Audit_Score\"])\n",
    "combined_df['EAS_boxcox_lambda_0'] = boxcox((1+combined_df['External_Audit_Score']), lmbda=0)\n",
    "combined_df['EAS_boxcox_lambda_opt'] = boxcox(combined_df['External_Audit_Score'], lmbda=opt_lambda)\n",
    "\n",
    "_, opt_lambda = boxcox(combined_df[\"Fin_Score\"])\n",
    "combined_df['Fin_boxcox_lambda_0'] = boxcox((1+combined_df['Fin_Score']), lmbda=0)\n",
    "combined_df['Fin_boxcox_lambda_opt'] = boxcox(combined_df['Fin_Score'], lmbda=opt_lambda)"
   ]
  },
  {
   "cell_type": "code",
   "execution_count": 121,
   "metadata": {},
   "outputs": [],
   "source": [
    "fin_score_discretised, intervals = pd.qcut(combined_df.Fin_Score, 5, labels=None, retbins=True, precision=3, duplicates='raise')\n",
    "combined_df['fin_score_discretised'] = fin_score_discretised\n",
    "\n",
    "loss_score_discretised, intervals = pd.qcut(combined_df.Loss_score, 5, labels=None, retbins=True, precision=3, duplicates='raise')\n",
    "combined_df['loss_score_discretised'] = loss_score_discretised\n",
    "\n",
    "past_results_discretised, intervals = pd.qcut(combined_df.Past_Results, 2, labels=None, retbins=True, precision=3, duplicates='raise')\n",
    "combined_df['past_results_discretised'] = past_results_discretised"
   ]
  },
  {
   "cell_type": "code",
   "execution_count": 124,
   "metadata": {},
   "outputs": [],
   "source": [
    "# One-hot encoding\n",
    "one_hot = pd.get_dummies(combined_df['City'])\n",
    "combined_df.drop('City', axis = 1, inplace=True)\n",
    "combined_df = combined_df.join(one_hot)\n",
    "\n",
    "one_hot = pd.get_dummies(combined_df['fin_score_discretised'], prefix=\"Fin\")\n",
    "combined_df.drop('fin_score_discretised', axis = 1, inplace=True)\n",
    "combined_df = combined_df.join(one_hot)\n",
    "\n",
    "one_hot = pd.get_dummies(combined_df['loss_score_discretised'], prefix=\"Loss\")\n",
    "combined_df.drop('loss_score_discretised', axis = 1, inplace=True)\n",
    "combined_df = combined_df.join(one_hot)\n",
    "\n",
    "one_hot = pd.get_dummies(combined_df['past_results_discretised'], prefix=\"Past\")\n",
    "combined_df.drop('past_results_discretised', axis = 1, inplace=True)\n",
    "combined_df = combined_df.join(one_hot)"
   ]
  },
  {
   "cell_type": "code",
   "execution_count": 125,
   "metadata": {},
   "outputs": [],
   "source": [
    "# Drop redundant columns\n",
    "combined_df.drop(['Fin_Score','Loss_score','Past_Results'], axis = 1, inplace=True)"
   ]
  },
  {
   "cell_type": "markdown",
   "metadata": {},
   "source": [
    "#### Create train and predict Numpy arrays and scale them"
   ]
  },
  {
   "cell_type": "code",
   "execution_count": 126,
   "metadata": {},
   "outputs": [
    {
     "name": "stdout",
     "output_type": "stream",
     "text": [
      "train_x: (543, 87)\n",
      "predict_x: (233, 87)\n"
     ]
    }
   ],
   "source": [
    "# Segregate combined_df into train/predict datasets\n",
    "train_x = combined_df[:543]\n",
    "predict_x = combined_df[543:]\n",
    "\n",
    "print(\"train_x: {}\".format(train_x.shape))\n",
    "print(\"predict_x: {}\".format(predict_x.shape))"
   ]
  },
  {
   "cell_type": "code",
   "execution_count": 127,
   "metadata": {},
   "outputs": [],
   "source": [
    "# Scale the train_x/predict_x arrays\n",
    "scaler = RobustScaler().fit(train_x)\n",
    "train_x = scaler.transform(train_x)\n",
    "predict_x = scaler.transform(predict_x)"
   ]
  },
  {
   "cell_type": "code",
   "execution_count": 128,
   "metadata": {},
   "outputs": [],
   "source": [
    "train_x_full = train_x.copy()\n",
    "train_y_full = train_y.copy()"
   ]
  },
  {
   "cell_type": "markdown",
   "metadata": {},
   "source": [
    "#### Split training data into train/test datasets"
   ]
  },
  {
   "cell_type": "code",
   "execution_count": 129,
   "metadata": {},
   "outputs": [
    {
     "name": "stdout",
     "output_type": "stream",
     "text": [
      "------------------------- Training Dataset -------------------------\n",
      "train_x shape: (491, 87)\n",
      "train_y shape: (491, 1)\n",
      "\n",
      "------------------------- Test Dataset -------------------------\n",
      "test_x shape: (52, 87)\n",
      "test_y shape: (52, 1)\n"
     ]
    }
   ],
   "source": [
    "sss = StratifiedShuffleSplit(n_splits=1, test_size=0.095, random_state=1)\n",
    "for train_index, test_index in sss.split(train_x, train_y):\n",
    "    train_x, test_x = train_x[train_index], train_x[test_index]\n",
    "    train_y, test_y = train_y[train_index], train_y[test_index]\n",
    "\n",
    "print(\"------------------------- Training Dataset -------------------------\")\n",
    "print(\"train_x shape: {}\".format(train_x.shape))\n",
    "print(\"train_y shape: {}\".format(train_y.shape))\n",
    "\n",
    "print(\"\\n------------------------- Test Dataset -------------------------\")\n",
    "print(\"test_x shape: {}\".format(test_x.shape))\n",
    "print(\"test_y shape: {}\".format(test_y.shape))"
   ]
  },
  {
   "cell_type": "code",
   "execution_count": 130,
   "metadata": {},
   "outputs": [
    {
     "name": "stdout",
     "output_type": "stream",
     "text": [
      "------------------------- Training Dataset -------------------------\n",
      "Xtrain_full shape: (543, 87)\n",
      "Ytrain_full shape: (543, 1)\n",
      "Xtrain shape: (491, 87)\n",
      "Ytrain shape: (491, 1)\n",
      "\n",
      "------------------------- Test Dataset -------------------------\n",
      "Xtest shape: (52, 87)\n",
      "Ytest shape: (52, 1)\n",
      "\n",
      "------------------------- Prediction Dataset -------------------------\n",
      "Xpredict shape: (233, 87)\n"
     ]
    }
   ],
   "source": [
    "Xtrain_full, Ytrain_full = train_x_full.copy(), train_y_full.copy()\n",
    "Xtrain, Ytrain = train_x.copy(), train_y.copy()\n",
    "Xtest, Ytest = test_x.copy(), test_y.copy()\n",
    "Xpredict = predict_x.copy()\n",
    "\n",
    "print(\"------------------------- Training Dataset -------------------------\")\n",
    "print(\"Xtrain_full shape: {}\".format(Xtrain_full.shape))\n",
    "print(\"Ytrain_full shape: {}\".format(Ytrain_full.shape))\n",
    "print(\"Xtrain shape: {}\".format(Xtrain.shape))\n",
    "print(\"Ytrain shape: {}\".format(Ytrain.shape))\n",
    "\n",
    "print(\"\\n------------------------- Test Dataset -------------------------\")\n",
    "print(\"Xtest shape: {}\".format(Xtest.shape))\n",
    "print(\"Ytest shape: {}\".format(Ytest.shape))\n",
    "\n",
    "print(\"\\n------------------------- Prediction Dataset -------------------------\")\n",
    "print(\"Xpredict shape: {}\".format(Xpredict.shape))"
   ]
  },
  {
   "cell_type": "markdown",
   "metadata": {},
   "source": [
    "## Hyperparameter search using Optuna"
   ]
  },
  {
   "cell_type": "code",
   "execution_count": 131,
   "metadata": {},
   "outputs": [],
   "source": [
    "# Convert Ytest to one-hot encoding\n",
    "df = pd.DataFrame(Ytest, columns=[\"IsUnderRisk\"])\n",
    "test_y = pd.get_dummies(df['IsUnderRisk']).values"
   ]
  },
  {
   "cell_type": "code",
   "execution_count": 132,
   "metadata": {},
   "outputs": [],
   "source": [
    "# Define 5-fold cross validation test harness\n",
    "kfold = StratifiedKFold(n_splits=5, shuffle=True, random_state=10)"
   ]
  },
  {
   "cell_type": "code",
   "execution_count": 133,
   "metadata": {},
   "outputs": [],
   "source": [
    "def objective(trial):\n",
    "    \n",
    "    params = {\n",
    "        \"objective\": \"multiclass\",\n",
    "        \"metric\": \"multi_logloss\",\n",
    "        \"num_class\": 2,\n",
    "        \"verbosity\": -1,\n",
    "        \"boosting_type\": \"gbdt\",\n",
    "        \"is_unbalance\": True,\n",
    "        \"learning_rate\": trial.suggest_loguniform(\"learning_rate\", 1e-2, 1e-1),\n",
    "        \"lambda_l2\": trial.suggest_loguniform(\"lambda_l2\", 1e-4, 1.0),\n",
    "        \"num_leaves\": trial.suggest_int(\"num_leaves\", 35, 200),\n",
    "        \"max_depth\": trial.suggest_int(\"max_depth\", 8, 25),\n",
    "        \"feature_fraction\": trial.suggest_uniform(\"feature_fraction\", 0.5, 1.0),\n",
    "        \"bagging_fraction\": trial.suggest_uniform(\"bagging_fraction\", 0.5, 1.0),\n",
    "        \"bagging_freq\": trial.suggest_int(\"bagging_freq\", 5, 20),\n",
    "        \"min_child_samples\": trial.suggest_int(\"min_child_samples\", 1, 20)\n",
    "    }\n",
    "    \n",
    "    y_pred = 0\n",
    "    counter = 0\n",
    "    for train, val in kfold.split(Xtrain, Ytrain):\n",
    "        counter += 1\n",
    "    \n",
    "        train_x, train_y = Xtrain[train], Ytrain[train]\n",
    "        val_x, val_y = Xtrain[val], Ytrain[val]\n",
    "\n",
    "        lgtrain = lgb.Dataset(train_x, label=train_y.ravel())\n",
    "        lgvalidation = lgb.Dataset(val_x, label=val_y.ravel())\n",
    "\n",
    "        model = lgb.train(params, lgtrain, valid_sets=[lgvalidation], \n",
    "                          num_boost_round=5000, early_stopping_rounds=200, verbose_eval=False)\n",
    "        pred = model.predict(Xtest, num_iteration=model.best_iteration)\n",
    "\n",
    "        y_pred += pred\n",
    "\n",
    "    y_pred /= float(counter)\n",
    "    loss = log_loss(test_y, y_pred)\n",
    "    return loss"
   ]
  },
  {
   "cell_type": "code",
   "execution_count": 134,
   "metadata": {},
   "outputs": [
    {
     "name": "stderr",
     "output_type": "stream",
     "text": [
      "[I 2020-05-17 21:50:00,948] Finished trial#0 with value: 0.2727319434773888 with parameters: {'learning_rate': 0.055512122865125586, 'lambda_l2': 0.024067092922542752, 'num_leaves': 81, 'max_depth': 22, 'feature_fraction': 0.7878763708741079, 'bagging_fraction': 0.5849856032317944, 'bagging_freq': 5, 'min_child_samples': 11}. Best is trial#0 with value: 0.2727319434773888.\n",
      "[I 2020-05-17 21:50:04,233] Finished trial#1 with value: 0.2675039025171969 with parameters: {'learning_rate': 0.023019112029391584, 'lambda_l2': 0.8974858586728587, 'num_leaves': 112, 'max_depth': 17, 'feature_fraction': 0.9525839913449399, 'bagging_fraction': 0.6986495980669425, 'bagging_freq': 14, 'min_child_samples': 14}. Best is trial#1 with value: 0.2675039025171969.\n",
      "[I 2020-05-17 21:50:06,755] Finished trial#2 with value: 0.2909795908983758 with parameters: {'learning_rate': 0.0200309597895919, 'lambda_l2': 0.17256555968396595, 'num_leaves': 187, 'max_depth': 20, 'feature_fraction': 0.7294799185698477, 'bagging_fraction': 0.6175899041343026, 'bagging_freq': 15, 'min_child_samples': 16}. Best is trial#1 with value: 0.2675039025171969.\n",
      "[I 2020-05-17 21:50:11,483] Finished trial#3 with value: 0.25016909730806447 with parameters: {'learning_rate': 0.014529398349104647, 'lambda_l2': 0.1959562532952996, 'num_leaves': 57, 'max_depth': 24, 'feature_fraction': 0.570963046183107, 'bagging_fraction': 0.973681998298747, 'bagging_freq': 14, 'min_child_samples': 11}. Best is trial#3 with value: 0.25016909730806447.\n",
      "[I 2020-05-17 21:50:16,977] Finished trial#4 with value: 0.25227853077428564 with parameters: {'learning_rate': 0.017686146716113904, 'lambda_l2': 0.002410675460419336, 'num_leaves': 45, 'max_depth': 17, 'feature_fraction': 0.5785313372286589, 'bagging_fraction': 0.7606538907986486, 'bagging_freq': 7, 'min_child_samples': 5}. Best is trial#3 with value: 0.25016909730806447.\n",
      "[I 2020-05-17 21:50:18,607] Finished trial#5 with value: 0.2968527834270936 with parameters: {'learning_rate': 0.07472445382116678, 'lambda_l2': 0.5661216138359726, 'num_leaves': 59, 'max_depth': 20, 'feature_fraction': 0.5391647436920859, 'bagging_fraction': 0.5453025848077286, 'bagging_freq': 8, 'min_child_samples': 18}. Best is trial#3 with value: 0.25016909730806447.\n",
      "[I 2020-05-17 21:50:22,017] Finished trial#6 with value: 0.28893865698448007 with parameters: {'learning_rate': 0.012089548318977454, 'lambda_l2': 0.0001646286725353586, 'num_leaves': 97, 'max_depth': 15, 'feature_fraction': 0.8829455004230118, 'bagging_fraction': 0.5027144683112789, 'bagging_freq': 5, 'min_child_samples': 15}. Best is trial#3 with value: 0.25016909730806447.\n",
      "[I 2020-05-17 21:50:24,108] Finished trial#7 with value: 0.2858132368101364 with parameters: {'learning_rate': 0.06588571372586778, 'lambda_l2': 0.00011074093138349226, 'num_leaves': 150, 'max_depth': 24, 'feature_fraction': 0.8149731400161232, 'bagging_fraction': 0.519424580349368, 'bagging_freq': 16, 'min_child_samples': 12}. Best is trial#3 with value: 0.25016909730806447.\n",
      "[I 2020-05-17 21:50:26,629] Finished trial#8 with value: 0.27104291526995766 with parameters: {'learning_rate': 0.03685389945169166, 'lambda_l2': 0.004392891641191068, 'num_leaves': 174, 'max_depth': 20, 'feature_fraction': 0.8347884810425446, 'bagging_fraction': 0.832094288991412, 'bagging_freq': 11, 'min_child_samples': 19}. Best is trial#3 with value: 0.25016909730806447.\n",
      "[I 2020-05-17 21:50:32,263] Finished trial#9 with value: 0.2567714526284551 with parameters: {'learning_rate': 0.024889253752344007, 'lambda_l2': 0.005054362957466204, 'num_leaves': 84, 'max_depth': 25, 'feature_fraction': 0.7919470495700058, 'bagging_fraction': 0.6710759671491334, 'bagging_freq': 10, 'min_child_samples': 5}. Best is trial#3 with value: 0.25016909730806447.\n",
      "[I 2020-05-17 21:50:41,004] Finished trial#10 with value: 0.22953962003366007 with parameters: {'learning_rate': 0.010773348781822721, 'lambda_l2': 0.0687775281654068, 'num_leaves': 39, 'max_depth': 9, 'feature_fraction': 0.6663327527531453, 'bagging_fraction': 0.9840190086806501, 'bagging_freq': 20, 'min_child_samples': 2}. Best is trial#10 with value: 0.22953962003366007.\n",
      "[I 2020-05-17 21:50:51,799] Finished trial#11 with value: 0.22816220191892325 with parameters: {'learning_rate': 0.010147435437684293, 'lambda_l2': 0.06662527205436314, 'num_leaves': 35, 'max_depth': 9, 'feature_fraction': 0.6508097461030378, 'bagging_fraction': 0.9946968984803058, 'bagging_freq': 20, 'min_child_samples': 1}. Best is trial#11 with value: 0.22816220191892325.\n",
      "[I 2020-05-17 21:51:00,825] Finished trial#12 with value: 0.2240622998178879 with parameters: {'learning_rate': 0.010468949626772587, 'lambda_l2': 0.0351670493882811, 'num_leaves': 46, 'max_depth': 8, 'feature_fraction': 0.6820298971449158, 'bagging_fraction': 0.9965282321342285, 'bagging_freq': 20, 'min_child_samples': 1}. Best is trial#12 with value: 0.2240622998178879.\n",
      "[I 2020-05-17 21:51:09,635] Finished trial#13 with value: 0.23253654786064615 with parameters: {'learning_rate': 0.010081136285579106, 'lambda_l2': 0.026398446420277027, 'num_leaves': 136, 'max_depth': 8, 'feature_fraction': 0.6717529282093199, 'bagging_fraction': 0.9147536674883513, 'bagging_freq': 20, 'min_child_samples': 1}. Best is trial#12 with value: 0.2240622998178879.\n",
      "[I 2020-05-17 21:51:18,870] Finished trial#14 with value: 0.24116143931608447 with parameters: {'learning_rate': 0.010006156821256176, 'lambda_l2': 0.000568225511191382, 'num_leaves': 35, 'max_depth': 11, 'feature_fraction': 0.6500181685097248, 'bagging_fraction': 0.8921803738199264, 'bagging_freq': 19, 'min_child_samples': 6}. Best is trial#12 with value: 0.2240622998178879.\n",
      "[I 2020-05-17 21:51:24,185] Finished trial#15 with value: 0.24434929478951373 with parameters: {'learning_rate': 0.014926696685867557, 'lambda_l2': 0.02063926728301964, 'num_leaves': 69, 'max_depth': 12, 'feature_fraction': 0.716977723968565, 'bagging_fraction': 0.9224266658096036, 'bagging_freq': 17, 'min_child_samples': 8}. Best is trial#12 with value: 0.2240622998178879.\n",
      "[I 2020-05-17 21:51:29,490] Finished trial#16 with value: 0.24167388769189382 with parameters: {'learning_rate': 0.035429816884519634, 'lambda_l2': 0.08460224590551381, 'num_leaves': 35, 'max_depth': 11, 'feature_fraction': 0.5039024301909418, 'bagging_fraction': 0.8260567335285196, 'bagging_freq': 18, 'min_child_samples': 2}. Best is trial#12 with value: 0.2240622998178879.\n",
      "[I 2020-05-17 21:51:37,810] Finished trial#17 with value: 0.22886861261488983 with parameters: {'learning_rate': 0.013601115098652994, 'lambda_l2': 0.4601442682758826, 'num_leaves': 106, 'max_depth': 8, 'feature_fraction': 0.6180333442676378, 'bagging_fraction': 0.9888584588923333, 'bagging_freq': 20, 'min_child_samples': 1}. Best is trial#12 with value: 0.2240622998178879.\n",
      "[I 2020-05-17 21:51:41,512] Finished trial#18 with value: 0.2492355066694347 with parameters: {'learning_rate': 0.04738500256029736, 'lambda_l2': 0.059890815173385924, 'num_leaves': 131, 'max_depth': 14, 'feature_fraction': 0.7079860151688511, 'bagging_fraction': 0.8581758069527957, 'bagging_freq': 18, 'min_child_samples': 8}. Best is trial#12 with value: 0.2240622998178879.\n",
      "[I 2020-05-17 21:51:46,592] Finished trial#19 with value: 0.25901015670559474 with parameters: {'learning_rate': 0.028107684119276236, 'lambda_l2': 0.012578510727518536, 'num_leaves': 54, 'max_depth': 10, 'feature_fraction': 0.5796886134186976, 'bagging_fraction': 0.7755810754478842, 'bagging_freq': 12, 'min_child_samples': 3}. Best is trial#12 with value: 0.2240622998178879.\n",
      "[I 2020-05-17 21:51:50,770] Finished trial#20 with value: 0.222259474143575 with parameters: {'learning_rate': 0.09596673146270308, 'lambda_l2': 0.24322005091421392, 'num_leaves': 81, 'max_depth': 13, 'feature_fraction': 0.632513060428721, 'bagging_fraction': 0.9364402634892451, 'bagging_freq': 17, 'min_child_samples': 4}. Best is trial#20 with value: 0.222259474143575.\n",
      "[I 2020-05-17 21:51:55,054] Finished trial#21 with value: 0.23658445295498126 with parameters: {'learning_rate': 0.09200647553717942, 'lambda_l2': 0.16782639092884202, 'num_leaves': 74, 'max_depth': 13, 'feature_fraction': 0.6349268164677081, 'bagging_fraction': 0.9501003311933472, 'bagging_freq': 18, 'min_child_samples': 3}. Best is trial#20 with value: 0.222259474143575.\n",
      "[I 2020-05-17 21:51:58,486] Finished trial#22 with value: 0.22635808503536078 with parameters: {'learning_rate': 0.09371499359961229, 'lambda_l2': 0.29307574546166765, 'num_leaves': 93, 'max_depth': 8, 'feature_fraction': 0.6818636712040578, 'bagging_fraction': 0.9932491544851899, 'bagging_freq': 20, 'min_child_samples': 4}. Best is trial#20 with value: 0.222259474143575.\n",
      "[I 2020-05-17 21:52:01,614] Finished trial#23 with value: 0.22571475870660704 with parameters: {'learning_rate': 0.09631683710168616, 'lambda_l2': 0.9912200037181661, 'num_leaves': 94, 'max_depth': 15, 'feature_fraction': 0.7566756421220009, 'bagging_fraction': 0.9464934913093932, 'bagging_freq': 17, 'min_child_samples': 6}. Best is trial#20 with value: 0.222259474143575.\n",
      "[I 2020-05-17 21:52:04,317] Finished trial#24 with value: 0.24442831567569628 with parameters: {'learning_rate': 0.07825166331957553, 'lambda_l2': 0.9828166845099865, 'num_leaves': 123, 'max_depth': 15, 'feature_fraction': 0.7505100506551197, 'bagging_fraction': 0.8723458542097824, 'bagging_freq': 16, 'min_child_samples': 8}. Best is trial#20 with value: 0.222259474143575.\n",
      "[I 2020-05-17 21:52:07,916] Finished trial#25 with value: 0.23229249888252704 with parameters: {'learning_rate': 0.04931984075959021, 'lambda_l2': 0.4576224489563603, 'num_leaves': 68, 'max_depth': 18, 'feature_fraction': 0.7591826497239963, 'bagging_fraction': 0.946996293585949, 'bagging_freq': 16, 'min_child_samples': 7}. Best is trial#20 with value: 0.222259474143575.\n",
      "[I 2020-05-17 21:52:11,501] Finished trial#26 with value: 0.24764625089472048 with parameters: {'learning_rate': 0.09906948279804786, 'lambda_l2': 0.03898372569629847, 'num_leaves': 100, 'max_depth': 15, 'feature_fraction': 0.8538329805827951, 'bagging_fraction': 0.933982156255632, 'bagging_freq': 14, 'min_child_samples': 6}. Best is trial#20 with value: 0.222259474143575.\n",
      "[I 2020-05-17 21:52:14,439] Finished trial#27 with value: 0.24782183340382455 with parameters: {'learning_rate': 0.059807203802603334, 'lambda_l2': 0.1258726836205426, 'num_leaves': 85, 'max_depth': 13, 'feature_fraction': 0.6015261418193484, 'bagging_fraction': 0.8327979271495233, 'bagging_freq': 17, 'min_child_samples': 9}. Best is trial#20 with value: 0.222259474143575.\n",
      "[I 2020-05-17 21:52:18,098] Finished trial#28 with value: 0.25073740369441594 with parameters: {'learning_rate': 0.0839110762163262, 'lambda_l2': 0.8495090597278664, 'num_leaves': 49, 'max_depth': 18, 'feature_fraction': 0.8877295651956114, 'bagging_fraction': 0.7936643726235326, 'bagging_freq': 19, 'min_child_samples': 4}. Best is trial#20 with value: 0.222259474143575.\n",
      "[I 2020-05-17 21:52:20,868] Finished trial#29 with value: 0.25874534591629456 with parameters: {'learning_rate': 0.042876175752299586, 'lambda_l2': 0.2908106997216843, 'num_leaves': 79, 'max_depth': 13, 'feature_fraction': 0.7800579139279243, 'bagging_fraction': 0.7165123568647516, 'bagging_freq': 13, 'min_child_samples': 10}. Best is trial#20 with value: 0.222259474143575.\n",
      "[I 2020-05-17 21:52:25,927] Finished trial#30 with value: 0.23523469817952933 with parameters: {'learning_rate': 0.06614976252996638, 'lambda_l2': 0.014612859636834388, 'num_leaves': 63, 'max_depth': 16, 'feature_fraction': 0.7113953019769389, 'bagging_fraction': 0.8966485278564222, 'bagging_freq': 17, 'min_child_samples': 3}. Best is trial#20 with value: 0.222259474143575.\n",
      "[I 2020-05-17 21:52:29,841] Finished trial#31 with value: 0.24590207496814226 with parameters: {'learning_rate': 0.09758418940116129, 'lambda_l2': 0.3549572963023677, 'num_leaves': 91, 'max_depth': 10, 'feature_fraction': 0.6987732790403202, 'bagging_fraction': 0.9701942351822359, 'bagging_freq': 19, 'min_child_samples': 4}. Best is trial#20 with value: 0.222259474143575.\n",
      "[I 2020-05-17 21:52:33,337] Finished trial#32 with value: 0.2347171745126254 with parameters: {'learning_rate': 0.08680929285619694, 'lambda_l2': 0.8830076504540146, 'num_leaves': 113, 'max_depth': 8, 'feature_fraction': 0.6820389729949884, 'bagging_fraction': 0.9990614597698632, 'bagging_freq': 19, 'min_child_samples': 5}. Best is trial#20 with value: 0.222259474143575.\n",
      "[I 2020-05-17 21:52:38,092] Finished trial#33 with value: 0.24126029154079717 with parameters: {'learning_rate': 0.09950147024318047, 'lambda_l2': 0.26586491616861385, 'num_leaves': 94, 'max_depth': 11, 'feature_fraction': 0.7315170428389323, 'bagging_fraction': 0.9660477926847291, 'bagging_freq': 15, 'min_child_samples': 6}. Best is trial#20 with value: 0.222259474143575.\n",
      "[I 2020-05-17 21:52:43,980] Finished trial#34 with value: 0.2333049422923078 with parameters: {'learning_rate': 0.07223689107718775, 'lambda_l2': 0.12730710008440033, 'num_leaves': 107, 'max_depth': 12, 'feature_fraction': 0.9893039059746201, 'bagging_fraction': 0.9210655510013829, 'bagging_freq': 18, 'min_child_samples': 2}. Best is trial#20 with value: 0.222259474143575.\n",
      "[I 2020-05-17 21:52:49,473] Finished trial#35 with value: 0.23735733377185927 with parameters: {'learning_rate': 0.054336052913887656, 'lambda_l2': 0.038504975718926755, 'num_leaves': 124, 'max_depth': 16, 'feature_fraction': 0.6218658111099008, 'bagging_fraction': 0.9984784305022723, 'bagging_freq': 15, 'min_child_samples': 4}. Best is trial#20 with value: 0.222259474143575.\n",
      "[I 2020-05-17 21:52:52,666] Finished trial#36 with value: 0.25754219441356796 with parameters: {'learning_rate': 0.01814719804659164, 'lambda_l2': 0.5363796306264058, 'num_leaves': 80, 'max_depth': 9, 'feature_fraction': 0.5258207806576403, 'bagging_fraction': 0.9552139044988031, 'bagging_freq': 20, 'min_child_samples': 13}. Best is trial#20 with value: 0.222259474143575.\n",
      "[I 2020-05-17 21:52:55,666] Finished trial#37 with value: 0.23893970741722936 with parameters: {'learning_rate': 0.08678667892427148, 'lambda_l2': 0.17909797837481495, 'num_leaves': 89, 'max_depth': 18, 'feature_fraction': 0.779587121362976, 'bagging_fraction': 0.883053473061169, 'bagging_freq': 17, 'min_child_samples': 7}. Best is trial#20 with value: 0.222259474143575.\n",
      "[I 2020-05-17 21:52:59,516] Finished trial#38 with value: 0.2605579132134772 with parameters: {'learning_rate': 0.06673942401404556, 'lambda_l2': 0.0059365253416608, 'num_leaves': 105, 'max_depth': 22, 'feature_fraction': 0.6869010638182309, 'bagging_fraction': 0.6236645916428442, 'bagging_freq': 13, 'min_child_samples': 5}. Best is trial#20 with value: 0.222259474143575.\n",
      "[I 2020-05-17 21:53:06,776] Finished trial#39 with value: 0.22845783280901036 with parameters: {'learning_rate': 0.022375499053865388, 'lambda_l2': 0.7472739580939792, 'num_leaves': 116, 'max_depth': 14, 'feature_fraction': 0.5905859419696347, 'bagging_fraction': 0.9081837328967336, 'bagging_freq': 14, 'min_child_samples': 3}. Best is trial#20 with value: 0.222259474143575.\n",
      "[I 2020-05-17 21:53:12,206] Finished trial#40 with value: 0.22853595652699624 with parameters: {'learning_rate': 0.05869186006405594, 'lambda_l2': 0.00192243671544286, 'num_leaves': 145, 'max_depth': 17, 'feature_fraction': 0.5547078048549782, 'bagging_fraction': 0.9692913146190625, 'bagging_freq': 19, 'min_child_samples': 1}. Best is trial#20 with value: 0.222259474143575.\n",
      "[I 2020-05-17 21:53:20,991] Finished trial#41 with value: 0.23093334422911205 with parameters: {'learning_rate': 0.012133481544843975, 'lambda_l2': 0.08864452929079786, 'num_leaves': 42, 'max_depth': 9, 'feature_fraction': 0.6547115675976627, 'bagging_fraction': 0.9909248655233757, 'bagging_freq': 20, 'min_child_samples': 1}. Best is trial#20 with value: 0.222259474143575.\n"
     ]
    },
    {
     "name": "stderr",
     "output_type": "stream",
     "text": [
      "[I 2020-05-17 21:53:29,406] Finished trial#42 with value: 0.2307231065501119 with parameters: {'learning_rate': 0.016502478615509426, 'lambda_l2': 0.03552185688326114, 'num_leaves': 52, 'max_depth': 10, 'feature_fraction': 0.7353256700980124, 'bagging_fraction': 0.9436148406043553, 'bagging_freq': 20, 'min_child_samples': 2}. Best is trial#20 with value: 0.222259474143575.\n",
      "[I 2020-05-17 21:53:36,720] Finished trial#43 with value: 0.23142331263497157 with parameters: {'learning_rate': 0.01200199623167137, 'lambda_l2': 0.251679207188558, 'num_leaves': 66, 'max_depth': 8, 'feature_fraction': 0.6406130118839143, 'bagging_fraction': 0.9942156730104629, 'bagging_freq': 18, 'min_child_samples': 4}. Best is trial#20 with value: 0.222259474143575.\n",
      "[I 2020-05-17 21:53:41,381] Finished trial#44 with value: 0.22624400502729575 with parameters: {'learning_rate': 0.07847974220812547, 'lambda_l2': 0.05538390650148621, 'num_leaves': 76, 'max_depth': 9, 'feature_fraction': 0.6655248078317579, 'bagging_fraction': 0.859771348791523, 'bagging_freq': 19, 'min_child_samples': 2}. Best is trial#20 with value: 0.222259474143575.\n",
      "[I 2020-05-17 21:53:46,600] Finished trial#45 with value: 0.22353762943935654 with parameters: {'learning_rate': 0.08112926970461738, 'lambda_l2': 0.11784924937792124, 'num_leaves': 76, 'max_depth': 12, 'feature_fraction': 0.6847484295330838, 'bagging_fraction': 0.8524086941560606, 'bagging_freq': 16, 'min_child_samples': 2}. Best is trial#20 with value: 0.222259474143575.\n",
      "[I 2020-05-17 21:53:51,389] Finished trial#46 with value: 0.23466570678615684 with parameters: {'learning_rate': 0.07439701120771774, 'lambda_l2': 0.04899960899638105, 'num_leaves': 74, 'max_depth': 12, 'feature_fraction': 0.7995106520433308, 'bagging_fraction': 0.8572817073820171, 'bagging_freq': 16, 'min_child_samples': 2}. Best is trial#20 with value: 0.222259474143575.\n",
      "[I 2020-05-17 21:53:55,852] Finished trial#47 with value: 0.2553769772279251 with parameters: {'learning_rate': 0.07836485266545798, 'lambda_l2': 0.10754391259726165, 'num_leaves': 59, 'max_depth': 14, 'feature_fraction': 0.6113117308119217, 'bagging_fraction': 0.7991250020574651, 'bagging_freq': 15, 'min_child_samples': 3}. Best is trial#20 with value: 0.222259474143575.\n",
      "[I 2020-05-17 21:54:01,578] Finished trial#48 with value: 0.21752915387968735 with parameters: {'learning_rate': 0.06885550971057702, 'lambda_l2': 0.008337290755902076, 'num_leaves': 76, 'max_depth': 11, 'feature_fraction': 0.7582258585665503, 'bagging_fraction': 0.7389051552670111, 'bagging_freq': 17, 'min_child_samples': 1}. Best is trial#48 with value: 0.21752915387968735.\n",
      "[I 2020-05-17 21:54:06,995] Finished trial#49 with value: 0.22331663699656798 with parameters: {'learning_rate': 0.06754864378308993, 'lambda_l2': 0.002788621604310147, 'num_leaves': 100, 'max_depth': 12, 'feature_fraction': 0.7637588793428544, 'bagging_fraction': 0.6819008328654366, 'bagging_freq': 9, 'min_child_samples': 1}. Best is trial#48 with value: 0.21752915387968735.\n",
      "[I 2020-05-17 21:54:13,672] Finished trial#50 with value: 0.24000132537064495 with parameters: {'learning_rate': 0.04036198361309343, 'lambda_l2': 0.0008909395604035643, 'num_leaves': 101, 'max_depth': 11, 'feature_fraction': 0.8556204305997638, 'bagging_fraction': 0.7139632128983115, 'bagging_freq': 8, 'min_child_samples': 1}. Best is trial#48 with value: 0.21752915387968735.\n",
      "[I 2020-05-17 21:54:15,503] Finished trial#51 with value: 0.2888530586023358 with parameters: {'learning_rate': 0.0692601636828018, 'lambda_l2': 0.0029923461888785798, 'num_leaves': 89, 'max_depth': 12, 'feature_fraction': 0.7688727929994881, 'bagging_fraction': 0.6659032989285287, 'bagging_freq': 5, 'min_child_samples': 17}. Best is trial#48 with value: 0.21752915387968735.\n",
      "[I 2020-05-17 21:54:21,778] Finished trial#52 with value: 0.20627523626277228 with parameters: {'learning_rate': 0.06187407624330923, 'lambda_l2': 0.007218808441747305, 'num_leaves': 83, 'max_depth': 13, 'feature_fraction': 0.8216994738557187, 'bagging_fraction': 0.7392179518993611, 'bagging_freq': 10, 'min_child_samples': 1}. Best is trial#52 with value: 0.20627523626277228.\n",
      "[I 2020-05-17 21:54:28,748] Finished trial#53 with value: 0.22661907274396345 with parameters: {'learning_rate': 0.05404819816412467, 'lambda_l2': 0.008515018368228074, 'num_leaves': 85, 'max_depth': 13, 'feature_fraction': 0.9066608150542883, 'bagging_fraction': 0.7516091031187191, 'bagging_freq': 10, 'min_child_samples': 1}. Best is trial#52 with value: 0.20627523626277228.\n",
      "[I 2020-05-17 21:54:34,011] Finished trial#54 with value: 0.230521547641583 with parameters: {'learning_rate': 0.06330498932129168, 'lambda_l2': 0.0015813683035226856, 'num_leaves': 59, 'max_depth': 10, 'feature_fraction': 0.8115086611338987, 'bagging_fraction': 0.6769811436228085, 'bagging_freq': 9, 'min_child_samples': 2}. Best is trial#52 with value: 0.20627523626277228.\n",
      "[I 2020-05-17 21:54:40,699] Finished trial#55 with value: 0.2073761313592852 with parameters: {'learning_rate': 0.05084229786773001, 'lambda_l2': 0.0074441501239398316, 'num_leaves': 71, 'max_depth': 11, 'feature_fraction': 0.8064137922163958, 'bagging_fraction': 0.7370060125077539, 'bagging_freq': 11, 'min_child_samples': 1}. Best is trial#52 with value: 0.20627523626277228.\n",
      "[I 2020-05-17 21:54:47,338] Finished trial#56 with value: 0.21451964033804347 with parameters: {'learning_rate': 0.05082413432446348, 'lambda_l2': 0.00720776082895949, 'num_leaves': 69, 'max_depth': 12, 'feature_fraction': 0.8334903607836612, 'bagging_fraction': 0.7384188958404423, 'bagging_freq': 10, 'min_child_samples': 1}. Best is trial#52 with value: 0.20627523626277228.\n",
      "[I 2020-05-17 21:54:53,413] Finished trial#57 with value: 0.240574350504257 with parameters: {'learning_rate': 0.04675072546349214, 'lambda_l2': 0.0033894447964102872, 'num_leaves': 70, 'max_depth': 11, 'feature_fraction': 0.845949148069032, 'bagging_fraction': 0.7203498169155113, 'bagging_freq': 11, 'min_child_samples': 1}. Best is trial#52 with value: 0.20627523626277228.\n",
      "[I 2020-05-17 21:54:55,531] Finished trial#58 with value: 0.2692558312614711 with parameters: {'learning_rate': 0.05070756137788754, 'lambda_l2': 0.007618830257906767, 'num_leaves': 62, 'max_depth': 14, 'feature_fraction': 0.8324750880135112, 'bagging_fraction': 0.7339194817652253, 'bagging_freq': 6, 'min_child_samples': 20}. Best is trial#52 with value: 0.20627523626277228.\n",
      "[I 2020-05-17 21:55:01,536] Finished trial#59 with value: 0.2444769410750704 with parameters: {'learning_rate': 0.03761060069183906, 'lambda_l2': 0.01907683953933636, 'num_leaves': 83, 'max_depth': 13, 'feature_fraction': 0.8106629202519411, 'bagging_fraction': 0.6909914644354115, 'bagging_freq': 10, 'min_child_samples': 3}. Best is trial#52 with value: 0.20627523626277228.\n",
      "[I 2020-05-17 21:55:07,970] Finished trial#60 with value: 0.22146096991024208 with parameters: {'learning_rate': 0.060207942946824404, 'lambda_l2': 0.004714918406528934, 'num_leaves': 70, 'max_depth': 11, 'feature_fraction': 0.8844819200680013, 'bagging_fraction': 0.6431494416172792, 'bagging_freq': 11, 'min_child_samples': 1}. Best is trial#52 with value: 0.20627523626277228.\n",
      "[I 2020-05-17 21:55:13,853] Finished trial#61 with value: 0.2353028212458876 with parameters: {'learning_rate': 0.058415700197350824, 'lambda_l2': 0.0043890863520499495, 'num_leaves': 199, 'max_depth': 11, 'feature_fraction': 0.9301289179787953, 'bagging_fraction': 0.6296158064092803, 'bagging_freq': 11, 'min_child_samples': 1}. Best is trial#52 with value: 0.20627523626277228.\n",
      "[I 2020-05-17 21:55:20,191] Finished trial#62 with value: 0.23762020036235093 with parameters: {'learning_rate': 0.06210937591383301, 'lambda_l2': 0.006354291302645306, 'num_leaves': 71, 'max_depth': 12, 'feature_fraction': 0.8934100090720798, 'bagging_fraction': 0.5907437124658491, 'bagging_freq': 9, 'min_child_samples': 2}. Best is trial#52 with value: 0.20627523626277228.\n",
      "[I 2020-05-17 21:55:26,224] Finished trial#63 with value: 0.2221752640136829 with parameters: {'learning_rate': 0.04541411663043522, 'lambda_l2': 0.00974371321660776, 'num_leaves': 66, 'max_depth': 10, 'feature_fraction': 0.8285695557729688, 'bagging_fraction': 0.64715231245989, 'bagging_freq': 12, 'min_child_samples': 1}. Best is trial#52 with value: 0.20627523626277228.\n",
      "[I 2020-05-17 21:55:31,953] Finished trial#64 with value: 0.2607410357923394 with parameters: {'learning_rate': 0.031327891337739625, 'lambda_l2': 0.012263534633219855, 'num_leaves': 65, 'max_depth': 10, 'feature_fraction': 0.8720061903250838, 'bagging_fraction': 0.769947652785315, 'bagging_freq': 12, 'min_child_samples': 3}. Best is trial#52 with value: 0.20627523626277228.\n",
      "[I 2020-05-17 21:55:37,569] Finished trial#65 with value: 0.20998430885158192 with parameters: {'learning_rate': 0.044516865308474596, 'lambda_l2': 0.008974211629905993, 'num_leaves': 54, 'max_depth': 10, 'feature_fraction': 0.8315776950951187, 'bagging_fraction': 0.6601529283605383, 'bagging_freq': 12, 'min_child_samples': 2}. Best is trial#52 with value: 0.20627523626277228.\n",
      "[I 2020-05-17 21:55:42,605] Finished trial#66 with value: 0.22424838239826458 with parameters: {'learning_rate': 0.043505746219675887, 'lambda_l2': 0.010775154203646421, 'num_leaves': 54, 'max_depth': 10, 'feature_fraction': 0.8324200282431587, 'bagging_fraction': 0.6466713797163952, 'bagging_freq': 12, 'min_child_samples': 2}. Best is trial#52 with value: 0.20627523626277228.\n",
      "[I 2020-05-17 21:55:47,988] Finished trial#67 with value: 0.22568464366684185 with parameters: {'learning_rate': 0.05196740177324573, 'lambda_l2': 0.01694653970946916, 'num_leaves': 46, 'max_depth': 9, 'feature_fraction': 0.7957692206916281, 'bagging_fraction': 0.5928492512817615, 'bagging_freq': 11, 'min_child_samples': 1}. Best is trial#52 with value: 0.20627523626277228.\n",
      "[I 2020-05-17 21:55:52,296] Finished trial#68 with value: 0.2365837683389655 with parameters: {'learning_rate': 0.04582593213806352, 'lambda_l2': 0.02415580144124045, 'num_leaves': 40, 'max_depth': 11, 'feature_fraction': 0.8701688485366397, 'bagging_fraction': 0.555183784793393, 'bagging_freq': 10, 'min_child_samples': 3}. Best is trial#52 with value: 0.20627523626277228.\n",
      "[I 2020-05-17 21:56:00,159] Finished trial#69 with value: 0.21518514396150953 with parameters: {'learning_rate': 0.03333576192994506, 'lambda_l2': 0.004171434296827496, 'num_leaves': 56, 'max_depth': 10, 'feature_fraction': 0.9194689950386701, 'bagging_fraction': 0.6535736321070327, 'bagging_freq': 13, 'min_child_samples': 1}. Best is trial#52 with value: 0.20627523626277228.\n",
      "[I 2020-05-17 21:56:02,949] Finished trial#70 with value: 0.2684888310467785 with parameters: {'learning_rate': 0.039958457959216966, 'lambda_l2': 0.003952007182023718, 'num_leaves': 49, 'max_depth': 11, 'feature_fraction': 0.95730882334447, 'bagging_fraction': 0.7382402399719473, 'bagging_freq': 11, 'min_child_samples': 15}. Best is trial#52 with value: 0.20627523626277228.\n",
      "[I 2020-05-17 21:56:10,004] Finished trial#71 with value: 0.2309070353300941 with parameters: {'learning_rate': 0.029517968110569802, 'lambda_l2': 0.00878893300092986, 'num_leaves': 58, 'max_depth': 10, 'feature_fraction': 0.9063935599454844, 'bagging_fraction': 0.6536540076054868, 'bagging_freq': 13, 'min_child_samples': 1}. Best is trial#52 with value: 0.20627523626277228.\n",
      "[I 2020-05-17 21:56:16,326] Finished trial#72 with value: 0.22456179242150826 with parameters: {'learning_rate': 0.03268930478972772, 'lambda_l2': 0.005270968240952678, 'num_leaves': 70, 'max_depth': 10, 'feature_fraction': 0.8182047754684221, 'bagging_fraction': 0.6393705084998953, 'bagging_freq': 10, 'min_child_samples': 2}. Best is trial#52 with value: 0.20627523626277228.\n",
      "[I 2020-05-17 21:56:21,746] Finished trial#73 with value: 0.22777358935081796 with parameters: {'learning_rate': 0.0555352968068487, 'lambda_l2': 0.001890252453703989, 'num_leaves': 55, 'max_depth': 9, 'feature_fraction': 0.9441572964570097, 'bagging_fraction': 0.6073155387296149, 'bagging_freq': 12, 'min_child_samples': 1}. Best is trial#52 with value: 0.20627523626277228.\n",
      "[I 2020-05-17 21:56:27,693] Finished trial#74 with value: 0.23622429227252806 with parameters: {'learning_rate': 0.02639379825400315, 'lambda_l2': 0.006441048685903343, 'num_leaves': 63, 'max_depth': 11, 'feature_fraction': 0.8691573632888013, 'bagging_fraction': 0.5641581228995265, 'bagging_freq': 13, 'min_child_samples': 3}. Best is trial#52 with value: 0.20627523626277228.\n",
      "[I 2020-05-17 21:56:34,552] Finished trial#75 with value: 0.2331789970612856 with parameters: {'learning_rate': 0.04870171080726626, 'lambda_l2': 0.014105663583451254, 'num_leaves': 78, 'max_depth': 12, 'feature_fraction': 0.8442095734359738, 'bagging_fraction': 0.7001411840744519, 'bagging_freq': 8, 'min_child_samples': 1}. Best is trial#52 with value: 0.20627523626277228.\n",
      "[I 2020-05-17 21:56:40,181] Finished trial#76 with value: 0.2349823746597508 with parameters: {'learning_rate': 0.03501634126889352, 'lambda_l2': 0.008881430562993424, 'num_leaves': 51, 'max_depth': 9, 'feature_fraction': 0.8213704955985379, 'bagging_fraction': 0.6983311230184862, 'bagging_freq': 11, 'min_child_samples': 2}. Best is trial#52 with value: 0.20627523626277228.\n",
      "[I 2020-05-17 21:56:45,675] Finished trial#77 with value: 0.24928244412375483 with parameters: {'learning_rate': 0.044118713967295366, 'lambda_l2': 0.0045565275959417225, 'num_leaves': 171, 'max_depth': 11, 'feature_fraction': 0.9242892642453752, 'bagging_fraction': 0.7870742430547633, 'bagging_freq': 12, 'min_child_samples': 4}. Best is trial#52 with value: 0.20627523626277228.\n",
      "[I 2020-05-17 21:56:52,076] Finished trial#78 with value: 0.2303643683993264 with parameters: {'learning_rate': 0.038788875705800356, 'lambda_l2': 0.0011415064190131506, 'num_leaves': 44, 'max_depth': 10, 'feature_fraction': 0.7805030221976821, 'bagging_fraction': 0.6569312324336489, 'bagging_freq': 14, 'min_child_samples': 2}. Best is trial#52 with value: 0.20627523626277228.\n",
      "[I 2020-05-17 21:56:54,691] Finished trial#79 with value: 0.2660403049252466 with parameters: {'learning_rate': 0.04191321840839007, 'lambda_l2': 0.01095539609154519, 'num_leaves': 72, 'max_depth': 13, 'feature_fraction': 0.8600271822091428, 'bagging_fraction': 0.730564506120237, 'bagging_freq': 9, 'min_child_samples': 11}. Best is trial#52 with value: 0.20627523626277228.\n",
      "[I 2020-05-17 21:56:58,411] Finished trial#80 with value: 0.2497961260313219 with parameters: {'learning_rate': 0.05678678716186216, 'lambda_l2': 0.0021795422842310576, 'num_leaves': 36, 'max_depth': 8, 'feature_fraction': 0.8013244928617591, 'bagging_fraction': 0.7608783087713928, 'bagging_freq': 10, 'min_child_samples': 5}. Best is trial#52 with value: 0.20627523626277228.\n",
      "[I 2020-05-17 21:57:04,656] Finished trial#81 with value: 0.2088983755227993 with parameters: {'learning_rate': 0.05191017654629072, 'lambda_l2': 0.007005774201631436, 'num_leaves': 67, 'max_depth': 14, 'feature_fraction': 0.7416913111518412, 'bagging_fraction': 0.8131369692672931, 'bagging_freq': 12, 'min_child_samples': 1}. Best is trial#52 with value: 0.20627523626277228.\n",
      "[I 2020-05-17 21:57:11,447] Finished trial#82 with value: 0.2159990259142664 with parameters: {'learning_rate': 0.05226206186026294, 'lambda_l2': 0.007084898899564291, 'num_leaves': 67, 'max_depth': 14, 'feature_fraction': 0.7446504868212175, 'bagging_fraction': 0.8160937161582854, 'bagging_freq': 12, 'min_child_samples': 1}. Best is trial#52 with value: 0.20627523626277228.\n",
      "[I 2020-05-17 21:57:17,583] Finished trial#83 with value: 0.22304231201248362 with parameters: {'learning_rate': 0.062044796671745756, 'lambda_l2': 0.006805115721371868, 'num_leaves': 61, 'max_depth': 14, 'feature_fraction': 0.7415410548952712, 'bagging_fraction': 0.7796023436588566, 'bagging_freq': 11, 'min_child_samples': 2}. Best is trial#52 with value: 0.20627523626277228.\n"
     ]
    },
    {
     "name": "stderr",
     "output_type": "stream",
     "text": [
      "[I 2020-05-17 21:57:23,982] Finished trial#84 with value: 0.23649478997942358 with parameters: {'learning_rate': 0.05269002606874538, 'lambda_l2': 0.005179012576458786, 'num_leaves': 67, 'max_depth': 15, 'feature_fraction': 0.7145237347534771, 'bagging_fraction': 0.8089993258362358, 'bagging_freq': 13, 'min_child_samples': 1}. Best is trial#52 with value: 0.20627523626277228.\n",
      "[I 2020-05-17 21:57:30,022] Finished trial#85 with value: 0.2291722932631139 with parameters: {'learning_rate': 0.0493373894462091, 'lambda_l2': 0.003985636049875879, 'num_leaves': 80, 'max_depth': 13, 'feature_fraction': 0.746795409721718, 'bagging_fraction': 0.8112665846882284, 'bagging_freq': 12, 'min_child_samples': 3}. Best is trial#52 with value: 0.20627523626277228.\n",
      "[I 2020-05-17 21:57:35,217] Finished trial#86 with value: 0.24112527467655964 with parameters: {'learning_rate': 0.07043821625910153, 'lambda_l2': 0.016528142205815947, 'num_leaves': 56, 'max_depth': 14, 'feature_fraction': 0.7267257538859263, 'bagging_fraction': 0.8393502083348169, 'bagging_freq': 11, 'min_child_samples': 2}. Best is trial#52 with value: 0.20627523626277228.\n",
      "[I 2020-05-17 21:57:41,827] Finished trial#87 with value: 0.21230631028429728 with parameters: {'learning_rate': 0.060099388874252105, 'lambda_l2': 0.003328341561020007, 'num_leaves': 74, 'max_depth': 12, 'feature_fraction': 0.7747403340115273, 'bagging_fraction': 0.764209508797067, 'bagging_freq': 13, 'min_child_samples': 1}. Best is trial#52 with value: 0.20627523626277228.\n",
      "[I 2020-05-17 21:57:48,307] Finished trial#88 with value: 0.23686431428247773 with parameters: {'learning_rate': 0.03526166582766281, 'lambda_l2': 0.0033270556668916155, 'num_leaves': 87, 'max_depth': 16, 'feature_fraction': 0.7756477993981575, 'bagging_fraction': 0.744871525115183, 'bagging_freq': 13, 'min_child_samples': 3}. Best is trial#52 with value: 0.20627523626277228.\n",
      "[I 2020-05-17 21:57:51,088] Finished trial#89 with value: 0.25329895608797376 with parameters: {'learning_rate': 0.056515206908339735, 'lambda_l2': 0.026981026424279776, 'num_leaves': 78, 'max_depth': 12, 'feature_fraction': 0.7888051455976506, 'bagging_fraction': 0.7602172030080719, 'bagging_freq': 14, 'min_child_samples': 12}. Best is trial#52 with value: 0.20627523626277228.\n",
      "[I 2020-05-17 21:57:55,588] Finished trial#90 with value: 0.23696078479772936 with parameters: {'learning_rate': 0.06353475520822507, 'lambda_l2': 0.007999306539942363, 'num_leaves': 83, 'max_depth': 13, 'feature_fraction': 0.7583240610543495, 'bagging_fraction': 0.82263406594233, 'bagging_freq': 14, 'min_child_samples': 4}. Best is trial#52 with value: 0.20627523626277228.\n",
      "[I 2020-05-17 21:58:01,138] Finished trial#91 with value: 0.22526675816324726 with parameters: {'learning_rate': 0.06005135069126758, 'lambda_l2': 0.0025509520937250733, 'num_leaves': 73, 'max_depth': 12, 'feature_fraction': 0.7240728698984511, 'bagging_fraction': 0.7114117199741864, 'bagging_freq': 10, 'min_child_samples': 1}. Best is trial#52 with value: 0.20627523626277228.\n",
      "[I 2020-05-17 21:58:07,067] Finished trial#92 with value: 0.22531496583351154 with parameters: {'learning_rate': 0.05194851266972991, 'lambda_l2': 0.005437011093621746, 'num_leaves': 63, 'max_depth': 13, 'feature_fraction': 0.8050535670792395, 'bagging_fraction': 0.768582455393505, 'bagging_freq': 11, 'min_child_samples': 2}. Best is trial#52 with value: 0.20627523626277228.\n",
      "[I 2020-05-17 21:58:13,595] Finished trial#93 with value: 0.24029841186014256 with parameters: {'learning_rate': 0.05441051912129433, 'lambda_l2': 0.007092640927961795, 'num_leaves': 68, 'max_depth': 11, 'feature_fraction': 0.9699600744192531, 'bagging_fraction': 0.7271112254512689, 'bagging_freq': 12, 'min_child_samples': 1}. Best is trial#52 with value: 0.20627523626277228.\n",
      "[I 2020-05-17 21:58:19,571] Finished trial#94 with value: 0.2426278925914363 with parameters: {'learning_rate': 0.07332552508158002, 'lambda_l2': 0.013344900261651516, 'num_leaves': 75, 'max_depth': 12, 'feature_fraction': 0.8418426148761774, 'bagging_fraction': 0.8043744814292111, 'bagging_freq': 13, 'min_child_samples': 1}. Best is trial#52 with value: 0.20627523626277228.\n",
      "[I 2020-05-17 21:58:25,993] Finished trial#95 with value: 0.21675992159680046 with parameters: {'learning_rate': 0.04941795981255736, 'lambda_l2': 0.003612760182110356, 'num_leaves': 60, 'max_depth': 11, 'feature_fraction': 0.6972513324654693, 'bagging_fraction': 0.7879427188264678, 'bagging_freq': 11, 'min_child_samples': 1}. Best is trial#52 with value: 0.20627523626277228.\n",
      "[I 2020-05-17 21:58:32,292] Finished trial#96 with value: 0.22143008498636052 with parameters: {'learning_rate': 0.04857766026546103, 'lambda_l2': 0.0015053832120909803, 'num_leaves': 47, 'max_depth': 15, 'feature_fraction': 0.768322390448524, 'bagging_fraction': 0.7903826877987518, 'bagging_freq': 12, 'min_child_samples': 2}. Best is trial#52 with value: 0.20627523626277228.\n",
      "[I 2020-05-17 21:58:39,056] Finished trial#97 with value: 0.22874546533856022 with parameters: {'learning_rate': 0.04127621008144967, 'lambda_l2': 0.0033804909390106543, 'num_leaves': 58, 'max_depth': 12, 'feature_fraction': 0.7446129276242119, 'bagging_fraction': 0.7530347077706349, 'bagging_freq': 10, 'min_child_samples': 2}. Best is trial#52 with value: 0.20627523626277228.\n",
      "[I 2020-05-17 21:58:44,780] Finished trial#98 with value: 0.223158069760526 with parameters: {'learning_rate': 0.06557601527918937, 'lambda_l2': 0.010742700133417524, 'num_leaves': 51, 'max_depth': 14, 'feature_fraction': 0.695652392528015, 'bagging_fraction': 0.8207003347258136, 'bagging_freq': 9, 'min_child_samples': 1}. Best is trial#52 with value: 0.20627523626277228.\n",
      "[I 2020-05-17 21:58:50,369] Finished trial#99 with value: 0.24031879597637829 with parameters: {'learning_rate': 0.04638522119788267, 'lambda_l2': 0.00394551494294165, 'num_leaves': 61, 'max_depth': 13, 'feature_fraction': 0.7924666696454563, 'bagging_fraction': 0.7797314486054849, 'bagging_freq': 15, 'min_child_samples': 3}. Best is trial#52 with value: 0.20627523626277228.\n"
     ]
    }
   ],
   "source": [
    "study = optuna.create_study()\n",
    "study.optimize(objective, n_trials=100)"
   ]
  },
  {
   "cell_type": "code",
   "execution_count": 135,
   "metadata": {},
   "outputs": [
    {
     "name": "stdout",
     "output_type": "stream",
     "text": [
      "Number of finished trials: 100\n",
      "Best trial:\n",
      "Value: 0.20627523626277228\n",
      "Params: \n",
      " learning_rate: 0.06187407624330923\n",
      " lambda_l2: 0.007218808441747305\n",
      " num_leaves: 83\n",
      " max_depth: 13\n",
      " feature_fraction: 0.8216994738557187\n",
      " bagging_fraction: 0.7392179518993611\n",
      " bagging_freq: 10\n",
      " min_child_samples: 1\n"
     ]
    }
   ],
   "source": [
    "print(\"Number of finished trials: {}\".format(len(study.trials)))\n",
    "\n",
    "print(\"Best trial:\")\n",
    "trial = study.best_trial\n",
    "\n",
    "print(\"Value: {}\".format(trial.value))\n",
    "\n",
    "print(\"Params: \")\n",
    "for key, value in trial.params.items():\n",
    "    print(\" {}: {}\".format(key, value))"
   ]
  },
  {
   "cell_type": "markdown",
   "metadata": {},
   "source": [
    "## Build the model"
   ]
  },
  {
   "cell_type": "code",
   "execution_count": 136,
   "metadata": {},
   "outputs": [],
   "source": [
    "# Define model hyperparameters\n",
    "params = {}\n",
    "params[\"objective\"] = 'multiclass'\n",
    "params[\"metric\"] = 'multi_logloss'\n",
    "params[\"num_class\"] = 2\n",
    "params[\"is_unbalance\"] = True\n",
    "params[\"boosting\"] = 'gbdt'\n",
    "params[\"learning_rate\"] = 0.06\n",
    "params[\"lambda_l2\"] = 0.007\n",
    "params[\"num_leaves\"] = 83\n",
    "params[\"max_depth\"] = 13\n",
    "params[\"feature_fraction\"] = 0.82\n",
    "params[\"bagging_fraction\"] = 0.74\n",
    "params[\"bagging_freq\"] = 10\n",
    "params[\"min_data_in_leaf\"] = 1\n",
    "params[\"bagging_seed\"] = 10\n",
    "params[\"verbosity\"] = -1\n",
    "num_rounds = 5000"
   ]
  },
  {
   "cell_type": "code",
   "execution_count": 137,
   "metadata": {},
   "outputs": [],
   "source": [
    "# Define 5-fold cross validation test harness\n",
    "kfold = StratifiedKFold(n_splits=5, shuffle=True, random_state=10)\n",
    "y_pred = 0"
   ]
  },
  {
   "cell_type": "code",
   "execution_count": 138,
   "metadata": {},
   "outputs": [
    {
     "name": "stdout",
     "output_type": "stream",
     "text": [
      "Training until validation scores don't improve for 200 rounds\n",
      "Early stopping, best iteration is:\n",
      "[40]\tvalid_0's multi_logloss: 0.387221\n",
      "Training until validation scores don't improve for 200 rounds\n",
      "Early stopping, best iteration is:\n",
      "[40]\tvalid_0's multi_logloss: 0.319662\n",
      "Training until validation scores don't improve for 200 rounds\n",
      "Early stopping, best iteration is:\n",
      "[33]\tvalid_0's multi_logloss: 0.348224\n",
      "Training until validation scores don't improve for 200 rounds\n",
      "Early stopping, best iteration is:\n",
      "[71]\tvalid_0's multi_logloss: 0.252884\n",
      "Training until validation scores don't improve for 200 rounds\n",
      "Early stopping, best iteration is:\n",
      "[48]\tvalid_0's multi_logloss: 0.297664\n"
     ]
    }
   ],
   "source": [
    "# Train the model using K-fold\n",
    "counter = 0\n",
    "\n",
    "for train, val in kfold.split(Xtrain, Ytrain):\n",
    "    counter += 1\n",
    "\n",
    "    train_x, train_y = Xtrain[train], Ytrain[train]\n",
    "    val_x, val_y = Xtrain[val], Ytrain[val]\n",
    "\n",
    "    lgtrain = lgb.Dataset(train_x, label=train_y.ravel())\n",
    "    lgvalidation = lgb.Dataset(val_x, label=val_y.ravel())\n",
    "\n",
    "    model = lgb.train(params, lgtrain, num_rounds, valid_sets=[lgvalidation], early_stopping_rounds=200, verbose_eval=1000)\n",
    "    pred = model.predict(Xtest, num_iteration=model.best_iteration)\n",
    "\n",
    "    y_pred += pred\n",
    "\n",
    "y_pred /= float(counter)"
   ]
  },
  {
   "cell_type": "markdown",
   "metadata": {},
   "source": [
    "## Validate the model"
   ]
  },
  {
   "cell_type": "code",
   "execution_count": 139,
   "metadata": {},
   "outputs": [
    {
     "name": "stdout",
     "output_type": "stream",
     "text": [
      "Overall log_loss of model: 0.23548267127244807\n"
     ]
    }
   ],
   "source": [
    "#Print log_loss\n",
    "loss = log_loss(test_y, y_pred)\n",
    "print('Overall log_loss of model:', loss)"
   ]
  },
  {
   "cell_type": "code",
   "execution_count": 140,
   "metadata": {},
   "outputs": [
    {
     "name": "stdout",
     "output_type": "stream",
     "text": [
      "Overall accuracy: 0.8653846153846154\n",
      "Overall F1-Score: 0.8923076923076922\n"
     ]
    }
   ],
   "source": [
    "#Print accuracy\n",
    "y_pred_binary = np.array([np.argmax(y_pred, axis=1)]).T\n",
    "acc_score = accuracy_score(Ytest, y_pred_binary)\n",
    "f1 = f1_score(Ytest, y_pred_binary)\n",
    "print('Overall accuracy:', acc_score)\n",
    "print('Overall F1-Score:', f1)"
   ]
  },
  {
   "cell_type": "code",
   "execution_count": 141,
   "metadata": {},
   "outputs": [
    {
     "data": {
      "image/png": "[encoded data removed]",
      "text/plain": [
       "<Figure size 432x288 with 1 Axes>"
      ]
     },
     "metadata": {
      "needs_background": "light"
     },
     "output_type": "display_data"
    },
    {
     "name": "stdout",
     "output_type": "stream",
     "text": [
      "AUC score: 0.8604465709728867\n"
     ]
    }
   ],
   "source": [
    "#Print Area Under Curve\n",
    "plt.figure()\n",
    "false_positive_rate, recall, thresholds = roc_curve(Ytest, y_pred_binary)\n",
    "roc_auc = auc(false_positive_rate, recall)\n",
    "plt.title('Receiver Operating Characteristic (ROC)')\n",
    "plt.plot(false_positive_rate, recall, 'b', label = 'AUC = %0.3f' %roc_auc)\n",
    "plt.legend(loc='lower right')\n",
    "plt.plot([0,1], [0,1], 'r--')\n",
    "plt.xlim([0.0,1.0])\n",
    "plt.ylim([0.0,1.0])\n",
    "plt.ylabel('Recall')\n",
    "plt.xlabel('Fall-out (1-Specificity)')\n",
    "plt.show()\n",
    "\n",
    "print('AUC score:', roc_auc)"
   ]
  },
  {
   "cell_type": "code",
   "execution_count": 142,
   "metadata": {},
   "outputs": [
    {
     "data": {
      "image/png": "[encoded data removed]",
      "text/plain": [
       "<Figure size 432x288 with 2 Axes>"
      ]
     },
     "metadata": {
      "needs_background": "light"
     },
     "output_type": "display_data"
    }
   ],
   "source": [
    "#Print Confusion Matrix\n",
    "cm = confusion_matrix(Ytest, y_pred_binary)\n",
    "labels = ['0', '1']\n",
    "sns.heatmap(cm, xticklabels = labels, yticklabels = labels, annot = True, fmt='d', cmap=\"Blues\", vmin = 0.5);\n",
    "plt.title('Confusion Matrix')\n",
    "plt.ylabel('True Class')\n",
    "plt.xlabel('Predicted Class')\n",
    "plt.show()"
   ]
  },
  {
   "cell_type": "markdown",
   "metadata": {},
   "source": [
    "## Train model on entire data"
   ]
  },
  {
   "cell_type": "code",
   "execution_count": null,
   "metadata": {},
   "outputs": [],
   "source": [
    "# Define 5-fold cross validation test harness\n",
    "kfold = StratifiedKFold(n_splits=5, shuffle=True, random_state=10)\n",
    "y_pred = 0"
   ]
  },
  {
   "cell_type": "code",
   "execution_count": null,
   "metadata": {},
   "outputs": [],
   "source": [
    "# Train the model using K-fold\n",
    "counter = 0\n",
    "\n",
    "for train, val in kfold.split(Xtrain_full, Ytrain_full):\n",
    "    counter += 1\n",
    "\n",
    "    train_x, train_y = Xtrain_full[train], Ytrain_full[train]\n",
    "    val_x, val_y = Xtrain_full[val], Ytrain_full[val]\n",
    "\n",
    "    lgtrain = lgb.Dataset(train_x, label=train_y.ravel())\n",
    "    lgvalidation = lgb.Dataset(val_x, label=val_y.ravel())\n",
    "\n",
    "    model = lgb.train(params, lgtrain, num_rounds, valid_sets=[lgvalidation], early_stopping_rounds=200, verbose_eval=1000)\n",
    "    pred = model.predict(Xpredict, num_iteration=model.best_iteration)\n",
    "\n",
    "    y_pred += pred\n",
    "\n",
    "y_pred /= float(counter)"
   ]
  },
  {
   "cell_type": "markdown",
   "metadata": {},
   "source": [
    "## Create submission file"
   ]
  },
  {
   "cell_type": "code",
   "execution_count": null,
   "metadata": {},
   "outputs": [],
   "source": [
    "submit_df = pd.DataFrame(y_pred, columns=['0','1'])\n",
    "submit_df.head()"
   ]
  },
  {
   "cell_type": "code",
   "execution_count": null,
   "metadata": {},
   "outputs": [],
   "source": [
    "submit_df.to_excel(\"Predictions/predictions_v13.xlsx\", index=False)"
   ]
  },
  {
   "cell_type": "code",
   "execution_count": null,
   "metadata": {},
   "outputs": [],
   "source": []
  }
 ],
 "metadata": {
  "kernelspec": {
   "display_name": "Python 3",
   "language": "python",
   "name": "python3"
  },
  "language_info": {
   "codemirror_mode": {
    "name": "ipython",
    "version": 3
   },
   "file_extension": ".py",
   "mimetype": "text/x-python",
   "name": "python",
   "nbconvert_exporter": "python",
   "pygments_lexer": "ipython3",
   "version": "3.7.9"
  }
 },
 "nbformat": 4,
 "nbformat_minor": 4
}
