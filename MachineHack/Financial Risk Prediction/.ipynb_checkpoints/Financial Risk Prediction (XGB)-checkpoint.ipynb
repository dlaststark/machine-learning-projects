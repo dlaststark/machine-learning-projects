{
 "cells": [
  {
   "cell_type": "markdown",
   "metadata": {},
   "source": [
    "## Import Packages"
   ]
  },
  {
   "cell_type": "code",
   "execution_count": 1,
   "metadata": {},
   "outputs": [],
   "source": [
    "import pandas as pd\n",
    "import numpy as np\n",
    "import matplotlib.pyplot as plt\n",
    "import seaborn as sns\n",
    "from scipy.stats import boxcox\n",
    "from sklearn.preprocessing import MinMaxScaler\n",
    "from sklearn.metrics import log_loss, f1_score, roc_curve, auc, confusion_matrix, accuracy_score\n",
    "from sklearn.model_selection import StratifiedKFold, StratifiedShuffleSplit\n",
    "from xgboost import XGBRegressor\n",
    "import optuna"
   ]
  },
  {
   "cell_type": "markdown",
   "metadata": {},
   "source": [
    "## Set file paths for train and predict datasets"
   ]
  },
  {
   "cell_type": "code",
   "execution_count": 2,
   "metadata": {},
   "outputs": [],
   "source": [
    "train_dataset = \"Dataset/Train.csv\"\n",
    "predict_dataset = \"Dataset/Test.csv\""
   ]
  },
  {
   "cell_type": "markdown",
   "metadata": {},
   "source": [
    "## Exploratory Data Analysis"
   ]
  },
  {
   "cell_type": "markdown",
   "metadata": {},
   "source": [
    "#### Get train dataset info"
   ]
  },
  {
   "cell_type": "code",
   "execution_count": 3,
   "metadata": {},
   "outputs": [
    {
     "data": {
      "text/html": [
       "<div>\n",
       "<style scoped>\n",
       "    .dataframe tbody tr th:only-of-type {\n",
       "        vertical-align: middle;\n",
       "    }\n",
       "\n",
       "    .dataframe tbody tr th {\n",
       "        vertical-align: top;\n",
       "    }\n",
       "\n",
       "    .dataframe thead th {\n",
       "        text-align: right;\n",
       "    }\n",
       "</style>\n",
       "<table border=\"1\" class=\"dataframe\">\n",
       "  <thead>\n",
       "    <tr style=\"text-align: right;\">\n",
       "      <th></th>\n",
       "      <th>City</th>\n",
       "      <th>Location_Score</th>\n",
       "      <th>Internal_Audit_Score</th>\n",
       "      <th>External_Audit_Score</th>\n",
       "      <th>Fin_Score</th>\n",
       "      <th>Loss_score</th>\n",
       "      <th>Past_Results</th>\n",
       "      <th>IsUnderRisk</th>\n",
       "    </tr>\n",
       "  </thead>\n",
       "  <tbody>\n",
       "    <tr>\n",
       "      <th>0</th>\n",
       "      <td>2</td>\n",
       "      <td>8.032</td>\n",
       "      <td>14</td>\n",
       "      <td>8</td>\n",
       "      <td>3</td>\n",
       "      <td>6</td>\n",
       "      <td>0</td>\n",
       "      <td>1</td>\n",
       "    </tr>\n",
       "    <tr>\n",
       "      <th>1</th>\n",
       "      <td>31</td>\n",
       "      <td>77.730</td>\n",
       "      <td>8</td>\n",
       "      <td>3</td>\n",
       "      <td>3</td>\n",
       "      <td>8</td>\n",
       "      <td>1</td>\n",
       "      <td>0</td>\n",
       "    </tr>\n",
       "    <tr>\n",
       "      <th>2</th>\n",
       "      <td>40</td>\n",
       "      <td>59.203</td>\n",
       "      <td>3</td>\n",
       "      <td>12</td>\n",
       "      <td>11</td>\n",
       "      <td>3</td>\n",
       "      <td>0</td>\n",
       "      <td>1</td>\n",
       "    </tr>\n",
       "    <tr>\n",
       "      <th>3</th>\n",
       "      <td>12</td>\n",
       "      <td>73.080</td>\n",
       "      <td>4</td>\n",
       "      <td>5</td>\n",
       "      <td>7</td>\n",
       "      <td>6</td>\n",
       "      <td>0</td>\n",
       "      <td>0</td>\n",
       "    </tr>\n",
       "    <tr>\n",
       "      <th>4</th>\n",
       "      <td>4</td>\n",
       "      <td>15.666</td>\n",
       "      <td>13</td>\n",
       "      <td>15</td>\n",
       "      <td>6</td>\n",
       "      <td>7</td>\n",
       "      <td>2</td>\n",
       "      <td>1</td>\n",
       "    </tr>\n",
       "  </tbody>\n",
       "</table>\n",
       "</div>"
      ],
      "text/plain": [
       "   City  Location_Score  Internal_Audit_Score  External_Audit_Score  \\\n",
       "0     2           8.032                    14                     8   \n",
       "1    31          77.730                     8                     3   \n",
       "2    40          59.203                     3                    12   \n",
       "3    12          73.080                     4                     5   \n",
       "4     4          15.666                    13                    15   \n",
       "\n",
       "   Fin_Score  Loss_score  Past_Results  IsUnderRisk  \n",
       "0          3           6             0            1  \n",
       "1          3           8             1            0  \n",
       "2         11           3             0            1  \n",
       "3          7           6             0            0  \n",
       "4          6           7             2            1  "
      ]
     },
     "execution_count": 3,
     "metadata": {},
     "output_type": "execute_result"
    }
   ],
   "source": [
    "train_df = pd.read_csv(train_dataset)\n",
    "train_df.head()"
   ]
  },
  {
   "cell_type": "code",
   "execution_count": 4,
   "metadata": {},
   "outputs": [
    {
     "name": "stdout",
     "output_type": "stream",
     "text": [
      "<class 'pandas.core.frame.DataFrame'>\n",
      "RangeIndex: 543 entries, 0 to 542\n",
      "Data columns (total 8 columns):\n",
      " #   Column                Non-Null Count  Dtype  \n",
      "---  ------                --------------  -----  \n",
      " 0   City                  543 non-null    int64  \n",
      " 1   Location_Score        543 non-null    float64\n",
      " 2   Internal_Audit_Score  543 non-null    int64  \n",
      " 3   External_Audit_Score  543 non-null    int64  \n",
      " 4   Fin_Score             543 non-null    int64  \n",
      " 5   Loss_score            543 non-null    int64  \n",
      " 6   Past_Results          543 non-null    int64  \n",
      " 7   IsUnderRisk           543 non-null    int64  \n",
      "dtypes: float64(1), int64(7)\n",
      "memory usage: 34.1 KB\n"
     ]
    }
   ],
   "source": [
    "train_df.info(verbose=True)"
   ]
  },
  {
   "cell_type": "markdown",
   "metadata": {},
   "source": [
    "#### Get predict dataset info"
   ]
  },
  {
   "cell_type": "code",
   "execution_count": null,
   "metadata": {},
   "outputs": [],
   "source": [
    "predict_df = pd.read_csv(predict_dataset)\n",
    "predict_df.head()"
   ]
  },
  {
   "cell_type": "code",
   "execution_count": null,
   "metadata": {},
   "outputs": [],
   "source": [
    "predict_df.info(verbose=True)"
   ]
  },
  {
   "cell_type": "markdown",
   "metadata": {},
   "source": [
    "#### Count plot of target variable"
   ]
  },
  {
   "cell_type": "code",
   "execution_count": null,
   "metadata": {},
   "outputs": [],
   "source": [
    "plt.figure(figsize=(10,6))\n",
    "sns.countplot(x=\"IsUnderRisk\", data=train_df).set_title('Count plot of \"IsUnderRisk\" data')\n",
    "plt.grid()"
   ]
  },
  {
   "cell_type": "markdown",
   "metadata": {},
   "source": [
    "#### Examine class imbalance"
   ]
  },
  {
   "cell_type": "code",
   "execution_count": null,
   "metadata": {},
   "outputs": [],
   "source": [
    "neg, pos = np.bincount(train_df['IsUnderRisk'])\n",
    "total = neg + pos\n",
    "print('Total: {}\\n  Positive: {} ({:.2f}% of total)\\n  Negative: {} ({:.2f}% of total)\\n'.format(\n",
    "    total, pos, 100 * pos / total, neg, 100 * neg / total))"
   ]
  },
  {
   "cell_type": "markdown",
   "metadata": {},
   "source": [
    "#### Get correlation between different features"
   ]
  },
  {
   "cell_type": "code",
   "execution_count": null,
   "metadata": {},
   "outputs": [],
   "source": [
    "plt.figure(figsize=(10,6))\n",
    "ax = sns.heatmap(train_df.corr(), annot=True, linewidth = 0.5, cmap='coolwarm')\n",
    "plt.show()"
   ]
  },
  {
   "cell_type": "markdown",
   "metadata": {},
   "source": [
    "#### Examine data distribution in different fields"
   ]
  },
  {
   "cell_type": "code",
   "execution_count": null,
   "metadata": {},
   "outputs": [],
   "source": [
    "fig, ax = plt.subplots()\n",
    "train_df['Internal_Audit_Score'].hist(color='#A9C5D3', edgecolor='black', grid=True)\n",
    "ax.set_title('Internal_Audit_Score Histogram', fontsize=12)\n",
    "ax.set_xlabel('Internal_Audit_Score', fontsize=12)\n",
    "ax.set_ylabel('Frequency', fontsize=12)"
   ]
  },
  {
   "cell_type": "code",
   "execution_count": 5,
   "metadata": {},
   "outputs": [
    {
     "data": {
      "text/plain": [
       "Text(0, 0.5, 'Frequency')"
      ]
     },
     "execution_count": 5,
     "metadata": {},
     "output_type": "execute_result"
    },
    {
     "data": {
      "image/png": "[encoded data removed]",
      "text/plain": [
       "<Figure size 432x288 with 1 Axes>"
      ]
     },
     "metadata": {
      "needs_background": "light"
     },
     "output_type": "display_data"
    }
   ],
   "source": [
    "fig, ax = plt.subplots()\n",
    "train_df['External_Audit_Score'].hist(color='#A9C5D3', edgecolor='black', grid=True)\n",
    "ax.set_title('External_Audit_Score Histogram', fontsize=12)\n",
    "ax.set_xlabel('External_Audit_Score', fontsize=12)\n",
    "ax.set_ylabel('Frequency', fontsize=12)"
   ]
  },
  {
   "cell_type": "code",
   "execution_count": 47,
   "metadata": {},
   "outputs": [
    {
     "data": {
      "image/png": "[encoded data removed]",
      "text/plain": [
       "<Figure size 432x288 with 1 Axes>"
      ]
     },
     "metadata": {
      "needs_background": "light"
     },
     "output_type": "display_data"
    }
   ],
   "source": [
    "x = np.log1p(train_df['Loss_score'])\n",
    "sns.distplot(x)\n",
    "plt.grid()"
   ]
  },
  {
   "cell_type": "code",
   "execution_count": 15,
   "metadata": {},
   "outputs": [
    {
     "data": {
      "text/plain": [
       "Text(0, 0.5, 'Frequency')"
      ]
     },
     "execution_count": 15,
     "metadata": {},
     "output_type": "execute_result"
    },
    {
     "data": {
      "image/png": "[encoded data removed]",
      "text/plain": [
       "<Figure size 432x288 with 1 Axes>"
      ]
     },
     "metadata": {
      "needs_background": "light"
     },
     "output_type": "display_data"
    }
   ],
   "source": [
    "fig, ax = plt.subplots()\n",
    "train_df['Fin_Score'].hist(color='#A9C5D3', edgecolor='black', grid=True)\n",
    "ax.set_title('Fin_Score Histogram', fontsize=12)\n",
    "ax.set_xlabel('Fin_Score', fontsize=12)\n",
    "ax.set_ylabel('Frequency', fontsize=12)"
   ]
  },
  {
   "cell_type": "code",
   "execution_count": null,
   "metadata": {},
   "outputs": [],
   "source": [
    "fig, ax = plt.subplots()\n",
    "train_df['Loss_score'].hist(color='#A9C5D3', edgecolor='black', grid=True)\n",
    "ax.set_title('Loss_score Histogram', fontsize=12)\n",
    "ax.set_xlabel('Loss_score', fontsize=12)\n",
    "ax.set_ylabel('Frequency', fontsize=12)"
   ]
  },
  {
   "cell_type": "code",
   "execution_count": 31,
   "metadata": {},
   "outputs": [
    {
     "data": {
      "text/plain": [
       "Text(0, 0.5, 'Frequency')"
      ]
     },
     "execution_count": 31,
     "metadata": {},
     "output_type": "execute_result"
    },
    {
     "data": {
      "image/png": "[encoded data removed]",
      "text/plain": [
       "<Figure size 432x288 with 1 Axes>"
      ]
     },
     "metadata": {
      "needs_background": "light"
     },
     "output_type": "display_data"
    }
   ],
   "source": [
    "fig, ax = plt.subplots()\n",
    "train_df['Past_Results'].hist(color='#A9C5D3', edgecolor='black', grid=True)\n",
    "ax.set_title('Past_Results Histogram', fontsize=12)\n",
    "ax.set_xlabel('Past_Results', fontsize=12)\n",
    "ax.set_ylabel('Frequency', fontsize=12)"
   ]
  },
  {
   "cell_type": "code",
   "execution_count": null,
   "metadata": {},
   "outputs": [],
   "source": [
    "fig, ax = plt.subplots()\n",
    "np.log1p(train_df['Location_Score']).hist(color='#A9C5D3', edgecolor='black', grid=True)\n",
    "ax.set_title('Location_Score Histogram', fontsize=12)\n",
    "ax.set_xlabel('Location_Score', fontsize=12)\n",
    "ax.set_ylabel('Frequency', fontsize=12)"
   ]
  },
  {
   "cell_type": "markdown",
   "metadata": {},
   "source": [
    "#### Trying out other data transformations"
   ]
  },
  {
   "cell_type": "code",
   "execution_count": null,
   "metadata": {},
   "outputs": [],
   "source": [
    "l, opt_lambda = boxcox(train_df[\"Location_Score\"])\n",
    "print('Optimal lambda value:', opt_lambda)\n",
    "\n",
    "train_df['Location_boxcox_lambda_0'] = boxcox((1+train_df['Location_Score']), lmbda=0)\n",
    "train_df['Location_boxcox_lambda_opt'] = boxcox(train_df['Location_Score'], lmbda=opt_lambda)\n",
    "\n",
    "location_boxcox_mean = np.round(np.mean(train_df['Location_boxcox_lambda_opt']),2)\n",
    "fig, ax = plt.subplots()\n",
    "train_df['Location_boxcox_lambda_opt'].hist(bins=30, color='#A9C5D3', edgecolor='black', grid=True)\n",
    "plt.axvline(location_boxcox_mean, color='r')\n",
    "ax.set_title('Location_Score Histogram after Box–Cox Transform', fontsize=12)\n",
    "ax.set_xlabel('Location_Score (Box–Cox transform)', fontsize=12)\n",
    "ax.set_ylabel('Frequency', fontsize=12)"
   ]
  },
  {
   "cell_type": "code",
   "execution_count": null,
   "metadata": {},
   "outputs": [],
   "source": [
    "l, opt_lambda = boxcox(train_df[\"Internal_Audit_Score\"])\n",
    "print('Optimal lambda value:', opt_lambda)\n",
    "\n",
    "train_df['IAS_boxcox_lambda_0'] = boxcox((1+train_df['Internal_Audit_Score']), lmbda=0)\n",
    "train_df['IAS_boxcox_lambda_opt'] = boxcox(train_df['Internal_Audit_Score'], lmbda=opt_lambda)\n",
    "\n",
    "IAS_boxcox_mean = np.round(np.mean(train_df['IAS_boxcox_lambda_opt']),2)\n",
    "fig, ax = plt.subplots()\n",
    "train_df['IAS_boxcox_lambda_opt'].hist(bins=15, color='#A9C5D3', edgecolor='black', grid=True)\n",
    "plt.axvline(IAS_boxcox_mean, color='r')\n",
    "ax.set_title('Internal_Audit_Score Histogram after Box–Cox Transform', fontsize=12)\n",
    "ax.set_xlabel('Internal_Audit_Score (Box–Cox transform)', fontsize=12)\n",
    "ax.set_ylabel('Frequency', fontsize=12)"
   ]
  },
  {
   "cell_type": "code",
   "execution_count": null,
   "metadata": {},
   "outputs": [],
   "source": [
    "l, opt_lambda = boxcox(train_df[\"External_Audit_Score\"])\n",
    "print('Optimal lambda value:', opt_lambda)\n",
    "\n",
    "train_df['EAS_boxcox_lambda_0'] = boxcox((1+train_df['External_Audit_Score']), lmbda=0)\n",
    "train_df['EAS_boxcox_lambda_opt'] = boxcox(train_df['External_Audit_Score'], lmbda=opt_lambda)\n",
    "\n",
    "EAS_boxcox_mean = np.round(np.mean(train_df['EAS_boxcox_lambda_opt']),2)\n",
    "fig, ax = plt.subplots()\n",
    "train_df['EAS_boxcox_lambda_opt'].hist(bins=15, color='#A9C5D3', edgecolor='black', grid=True)\n",
    "plt.axvline(EAS_boxcox_mean, color='r')\n",
    "ax.set_title('External_Audit_Score Histogram after Box–Cox Transform', fontsize=12)\n",
    "ax.set_xlabel('External_Audit_Score (Box–Cox transform)', fontsize=12)\n",
    "ax.set_ylabel('Frequency', fontsize=12)"
   ]
  },
  {
   "cell_type": "code",
   "execution_count": null,
   "metadata": {},
   "outputs": [],
   "source": [
    "l, opt_lambda = boxcox(train_df[\"Fin_Score\"])\n",
    "print('Optimal lambda value:', opt_lambda)\n",
    "\n",
    "train_df['Fin_boxcox_lambda_0'] = boxcox((1+train_df['Fin_Score']), lmbda=0)\n",
    "train_df['Fin_boxcox_lambda_opt'] = boxcox(train_df['Fin_Score'], lmbda=opt_lambda)\n",
    "\n",
    "Fin_boxcox_mean = np.round(np.mean(train_df['Fin_boxcox_lambda_opt']),2)\n",
    "fig, ax = plt.subplots()\n",
    "#train_df['Fin_boxcox_lambda_opt'].hist(bins=15, color='#A9C5D3', edgecolor='black', grid=True)\n",
    "train_df['Fin_boxcox_lambda_0'].hist(bins=15, color='#A9C5D3', edgecolor='black', grid=True)\n",
    "plt.axvline(Fin_boxcox_mean, color='r')\n",
    "ax.set_title('Fin_Score Histogram after Box–Cox Transform', fontsize=12)\n",
    "ax.set_xlabel('Fin_Score (Box–Cox transform)', fontsize=12)\n",
    "ax.set_ylabel('Frequency', fontsize=12)"
   ]
  },
  {
   "cell_type": "markdown",
   "metadata": {},
   "source": [
    "## Data Preprocessing"
   ]
  },
  {
   "cell_type": "markdown",
   "metadata": {},
   "source": [
    "#### Read train and predict datasets"
   ]
  },
  {
   "cell_type": "code",
   "execution_count": null,
   "metadata": {},
   "outputs": [],
   "source": [
    "train_df = pd.read_csv(train_dataset)\n",
    "predict_df = pd.read_csv(predict_dataset)\n",
    "print(\"train_df: {}\".format(train_df.shape))\n",
    "print(\"predict_df: {}\".format(predict_df.shape))"
   ]
  },
  {
   "cell_type": "markdown",
   "metadata": {},
   "source": [
    "#### Extract \"IsUnderRisk\" field from train_df into NumPy array"
   ]
  },
  {
   "cell_type": "code",
   "execution_count": null,
   "metadata": {},
   "outputs": [],
   "source": [
    "train_y = np.array([train_df['IsUnderRisk'].values]).T\n",
    "train_df.drop(['IsUnderRisk'], inplace=True, axis=1)\n",
    "print(\"train_y: {}\".format(train_y.shape))"
   ]
  },
  {
   "cell_type": "markdown",
   "metadata": {},
   "source": [
    "#### Feature Engineering"
   ]
  },
  {
   "cell_type": "code",
   "execution_count": null,
   "metadata": {},
   "outputs": [],
   "source": [
    "# Combine train and predict dataframes\n",
    "combined_df = train_df.append(predict_df, sort=False, ignore_index=True)\n",
    "print(combined_df.shape)"
   ]
  },
  {
   "cell_type": "code",
   "execution_count": null,
   "metadata": {},
   "outputs": [],
   "source": [
    "# Standard Deviation of all score values\n",
    "combined_df['Location_Score_STD'] = np.std(combined_df['Location_Score'])\n",
    "combined_df['Internal_Audit_Score_STD'] = np.std(combined_df['Internal_Audit_Score'])\n",
    "combined_df['External_Audit_Score_STD'] = np.std(combined_df['External_Audit_Score'])\n",
    "combined_df['Fin_Score_STD'] = np.std(combined_df['Fin_Score'])\n",
    "combined_df['Loss_score_STD'] = np.std(combined_df['Loss_score'])\n",
    "combined_df['Past_Results_STD'] = np.std(combined_df['Past_Results'])\n",
    "\n",
    "# Binning\n",
    "combined_df['Past_Results_bin'] = combined_df['Past_Results'].apply(lambda x: \"[0-2]\" if 0<=x<2 else \"[2-4]\" if 2<=x<4 else \"[4-10]\")\n",
    "combined_df['Loss_Score_bin'] = combined_df['Loss_score'].apply(lambda x: \"[0-5]\" if 0<=x<5 else \"[5-9]\" if 5<=x<9 else \"[9-15]\")\n",
    "\n",
    "# One-hot encoding\n",
    "one_hot = pd.get_dummies(combined_df['City'])\n",
    "combined_df.drop('City', axis = 1, inplace=True)\n",
    "combined_df = combined_df.join(one_hot)\n",
    "\n",
    "one_hot = pd.get_dummies(combined_df['Past_Results_bin'])\n",
    "combined_df.drop('Past_Results_bin', axis = 1, inplace=True)\n",
    "combined_df = combined_df.join(one_hot)\n",
    "\n",
    "one_hot = pd.get_dummies(combined_df['Loss_Score_bin'])\n",
    "combined_df.drop('Loss_Score_bin', axis = 1, inplace=True)\n",
    "combined_df = combined_df.join(one_hot)\n",
    "\n",
    "# Convert all scores to log scale\n",
    "combined_df['Location_Score'] = np.log1p(combined_df['Location_Score'])\n",
    "combined_df['Internal_Audit_Score'] = np.log1p(combined_df['Internal_Audit_Score'])\n",
    "combined_df['External_Audit_Score'] = np.log1p(combined_df['External_Audit_Score'])\n",
    "combined_df['Fin_Score'] = np.log1p(combined_df['Fin_Score'])\n",
    "combined_df['Loss_score'] = np.log1p(combined_df['Loss_score'])\n",
    "combined_df['Past_Results'] = np.log1p(combined_df['Past_Results'])\n",
    "\n",
    "# Get difference and mean of different scores\n",
    "combined_df[\"Audit_Score_Diff\"] = np.power(combined_df[\"Internal_Audit_Score\"] - combined_df[\"External_Audit_Score\"], 2)\n",
    "combined_df[\"Average_Audit_Score\"] = (combined_df[\"Internal_Audit_Score\"] + combined_df[\"External_Audit_Score\"]) / 2\n",
    "combined_df[\"Score_diff1\"] = np.power(combined_df[\"Fin_Score\"] - combined_df[\"Loss_score\"], 2)\n",
    "combined_df[\"Score_diff2\"] = np.power(combined_df[\"Fin_Score\"] - combined_df[\"Average_Audit_Score\"], 2)\n",
    "combined_df[\"Score_diff3\"] = np.power(combined_df[\"Loss_score\"] - combined_df[\"Average_Audit_Score\"], 2)\n",
    "combined_df[\"Cumulative_Score\"] = (combined_df['Location_Score'] + combined_df[\"Internal_Audit_Score\"] + combined_df[\"External_Audit_Score\"] + combined_df[\"Fin_Score\"] + combined_df[\"Loss_score\"]) / 5\n",
    "\n",
    "# Calculate different score ratios\n",
    "combined_df[\"Fin_Score/Average_Audit_Score\"] = combined_df[\"Fin_Score\"] / combined_df[\"Average_Audit_Score\"]\n",
    "combined_df[\"Loss_score/Average_Audit_Score\"] = combined_df[\"Loss_score\"] / combined_df[\"Average_Audit_Score\"]\n",
    "combined_df[\"Loss_score/Fin_Score\"] = combined_df[\"Loss_score\"] / combined_df[\"Fin_Score\"]\n",
    "combined_df[\"Fin_Score/Location_Score\"] = combined_df[\"Fin_Score\"] / combined_df[\"Location_Score\"]\n",
    "combined_df[\"Loss_score/Location_Score\"] = combined_df[\"Loss_score\"] / combined_df[\"Location_Score\"]\n",
    "combined_df[\"Average_Audit_Score/Location_Score\"] = combined_df[\"Average_Audit_Score\"] / combined_df[\"Location_Score\"]\n",
    "combined_df[\"Past_Results/Location_Score\"] = combined_df[\"Past_Results\"] / combined_df[\"Location_Score\"]\n",
    "\n",
    "# Ratio of score value with corresponding max value\n",
    "max_loc_score = max(combined_df['Location_Score'])\n",
    "combined_df['Location_Score/max_loc_score'] = combined_df['Location_Score']/max_loc_score\n",
    "max_ias_score = max(combined_df['Internal_Audit_Score'])\n",
    "combined_df['Internal_Audit_Score/max_ias_score'] = combined_df['Internal_Audit_Score']/max_ias_score\n",
    "max_eas_score = max(combined_df['External_Audit_Score'])\n",
    "combined_df['External_Audit_Score/max_eas_score'] = combined_df['External_Audit_Score']/max_eas_score\n",
    "max_fin_score = max(combined_df['Fin_Score'])\n",
    "combined_df['Fin_Score/max_fin_score'] = combined_df['Fin_Score']/max_fin_score\n",
    "max_loss_score = max(combined_df['Loss_score'])\n",
    "combined_df['Loss_score/max_loss_score'] = combined_df['Loss_score']/max_loss_score\n",
    "max_past_results = max(combined_df['Past_Results'])\n",
    "combined_df['Past_Results/max_past_results'] = combined_df['Past_Results']/max_past_results\n",
    "\n",
    "# Ratio of score value with corresponding mean value\n",
    "mean_loc_score = np.mean(combined_df['Location_Score'])\n",
    "combined_df['Location_Score/mean_loc_score'] = combined_df['Location_Score']/mean_loc_score\n",
    "mean_ias_score = np.mean(combined_df['Internal_Audit_Score'])\n",
    "combined_df['Internal_Audit_Score/mean_ias_score'] = combined_df['Internal_Audit_Score']/mean_ias_score\n",
    "mean_eas_score = np.mean(combined_df['External_Audit_Score'])\n",
    "combined_df['External_Audit_Score/mean_eas_score'] = combined_df['External_Audit_Score']/mean_eas_score\n",
    "mean_fin_score = np.mean(combined_df['Fin_Score'])\n",
    "combined_df['Fin_Score/mean_fin_score'] = combined_df['Fin_Score']/mean_fin_score\n",
    "mean_loss_score = np.mean(combined_df['Loss_score'])\n",
    "combined_df['Loss_score/mean_loss_score'] = combined_df['Loss_score']/mean_loss_score\n",
    "mean_past_results = np.mean(combined_df['Past_Results'])\n",
    "combined_df['Past_Results/mean_past_results'] = combined_df['Past_Results']/mean_past_results\n",
    "\n",
    "# Box-cox transformation\n",
    "_, opt_lambda = boxcox(combined_df[\"Location_Score\"])\n",
    "combined_df['Location_boxcox_lambda_0'] = boxcox((1+combined_df['Location_Score']), lmbda=0)\n",
    "combined_df['Location_boxcox_lambda_opt'] = boxcox(combined_df['Location_Score'], lmbda=opt_lambda)\n",
    "\n",
    "_, opt_lambda = boxcox(combined_df[\"Internal_Audit_Score\"])\n",
    "combined_df['IAS_boxcox_lambda_0'] = boxcox((1+combined_df['Internal_Audit_Score']), lmbda=0)\n",
    "combined_df['IAS_boxcox_lambda_opt'] = boxcox(combined_df['Internal_Audit_Score'], lmbda=opt_lambda)\n",
    "\n",
    "_, opt_lambda = boxcox(combined_df[\"External_Audit_Score\"])\n",
    "combined_df['EAS_boxcox_lambda_0'] = boxcox((1+combined_df['External_Audit_Score']), lmbda=0)\n",
    "combined_df['EAS_boxcox_lambda_opt'] = boxcox(combined_df['External_Audit_Score'], lmbda=opt_lambda)\n",
    "\n",
    "_, opt_lambda = boxcox(combined_df[\"Fin_Score\"])\n",
    "combined_df['Fin_boxcox_lambda_0'] = boxcox((1+combined_df['Fin_Score']), lmbda=0)\n",
    "combined_df['Fin_boxcox_lambda_opt'] = boxcox(combined_df['Fin_Score'], lmbda=opt_lambda)\n"
   ]
  },
  {
   "cell_type": "markdown",
   "metadata": {},
   "source": [
    "#### Create train and predict Numpy arrays and scale them"
   ]
  },
  {
   "cell_type": "code",
   "execution_count": null,
   "metadata": {},
   "outputs": [],
   "source": [
    "# Segregate combined_df into train/predict datasets\n",
    "train_x = combined_df[:543]\n",
    "predict_x = combined_df[543:]\n",
    "\n",
    "print(\"train_x: {}\".format(train_x.shape))\n",
    "print(\"predict_x: {}\".format(predict_x.shape))"
   ]
  },
  {
   "cell_type": "code",
   "execution_count": null,
   "metadata": {},
   "outputs": [],
   "source": [
    "# Scale the train_x/predict_x arrays\n",
    "scaler = MinMaxScaler().fit(train_x)\n",
    "train_x = scaler.transform(train_x)\n",
    "predict_x = scaler.transform(predict_x)"
   ]
  },
  {
   "cell_type": "code",
   "execution_count": null,
   "metadata": {},
   "outputs": [],
   "source": [
    "train_x_full = train_x.copy()\n",
    "train_y_full = train_y.copy()"
   ]
  },
  {
   "cell_type": "markdown",
   "metadata": {},
   "source": [
    "#### Split training data into train/test datasets"
   ]
  },
  {
   "cell_type": "code",
   "execution_count": null,
   "metadata": {},
   "outputs": [],
   "source": [
    "sss = StratifiedShuffleSplit(n_splits=1, test_size=0.095, random_state=1)\n",
    "for train_index, test_index in sss.split(train_x, train_y):\n",
    "    train_x, test_x = train_x[train_index], train_x[test_index]\n",
    "    train_y, test_y = train_y[train_index], train_y[test_index]\n",
    "\n",
    "print(\"------------------------- Training Dataset -------------------------\")\n",
    "print(\"train_x shape: {}\".format(train_x.shape))\n",
    "print(\"train_y shape: {}\".format(train_y.shape))\n",
    "\n",
    "print(\"\\n------------------------- Test Dataset -------------------------\")\n",
    "print(\"test_x shape: {}\".format(test_x.shape))\n",
    "print(\"test_y shape: {}\".format(test_y.shape))"
   ]
  },
  {
   "cell_type": "code",
   "execution_count": null,
   "metadata": {},
   "outputs": [],
   "source": [
    "Xtrain_full, Ytrain_full = train_x_full.copy(), train_y_full.copy()\n",
    "Xtrain, Ytrain = train_x.copy(), train_y.copy()\n",
    "Xtest, Ytest = test_x.copy(), test_y.copy()\n",
    "Xpredict = predict_x.copy()\n",
    "\n",
    "print(\"------------------------- Training Dataset -------------------------\")\n",
    "print(\"Xtrain_full shape: {}\".format(Xtrain_full.shape))\n",
    "print(\"Ytrain_full shape: {}\".format(Ytrain_full.shape))\n",
    "print(\"Xtrain shape: {}\".format(Xtrain.shape))\n",
    "print(\"Ytrain shape: {}\".format(Ytrain.shape))\n",
    "\n",
    "print(\"\\n------------------------- Test Dataset -------------------------\")\n",
    "print(\"Xtest shape: {}\".format(Xtest.shape))\n",
    "print(\"Ytest shape: {}\".format(Ytest.shape))\n",
    "\n",
    "print(\"\\n------------------------- Prediction Dataset -------------------------\")\n",
    "print(\"Xpredict shape: {}\".format(Xpredict.shape))"
   ]
  },
  {
   "cell_type": "markdown",
   "metadata": {},
   "source": [
    "## Hyperparameter search using Optuna"
   ]
  },
  {
   "cell_type": "code",
   "execution_count": null,
   "metadata": {},
   "outputs": [],
   "source": [
    "# Convert Ytest to one-hot encoding\n",
    "df = pd.DataFrame(Ytest, columns=[\"IsUnderRisk\"])\n",
    "test_y = pd.get_dummies(df['IsUnderRisk']).values"
   ]
  },
  {
   "cell_type": "code",
   "execution_count": null,
   "metadata": {},
   "outputs": [],
   "source": [
    "# Define 5-fold cross validation test harness\n",
    "kfold = StratifiedKFold(n_splits=5, shuffle=True, random_state=10)"
   ]
  },
  {
   "cell_type": "code",
   "execution_count": null,
   "metadata": {},
   "outputs": [],
   "source": [
    "def objective(trial):\n",
    "       \n",
    "    y_pred = 0\n",
    "    counter = 0\n",
    "    \n",
    "    for train, val in kfold.split(Xtrain, Ytrain):\n",
    "        counter += 1\n",
    "    \n",
    "        train_x, train_y = Xtrain[train], Ytrain[train]\n",
    "        val_x, val_y = Xtrain[val], Ytrain[val]\n",
    "        df = pd.DataFrame(train_y, columns=['IsUnderRisk'])\n",
    "        neg, pos = np.bincount(df['IsUnderRisk'])\n",
    "        \n",
    "        model = XGBRegressor(\n",
    "            objective='multi:softprob',\n",
    "            eval_metric='mlogloss',\n",
    "            booster='gbtree',\n",
    "            sample_type='uniform',\n",
    "            tree_method='hist',\n",
    "            scale_pos_weight=neg/pos,\n",
    "            grow_policy='lossguide',\n",
    "            num_round=5000,\n",
    "            num_class=2,\n",
    "            rate_drop=trial.suggest_uniform(\"rate_drop\", 0.1, 1.0),\n",
    "            learning_rate=trial.suggest_loguniform(\"learning_rate\", 1e-2, 1e-1),\n",
    "            min_split_loss=trial.suggest_uniform(\"min_split_loss\", 0.1, 1.0),\n",
    "            max_depth=trial.suggest_int(\"max_depth\", 6, 20),\n",
    "            min_child_weight=trial.suggest_int(\"min_child_weight\", 1, 10),\n",
    "            subsample=trial.suggest_uniform(\"subsample\", 0.5, 1.0),\n",
    "            colsample_bytree=trial.suggest_uniform(\"colsample_bytree\", 0.5, 1.0),\n",
    "            reg_lambda=trial.suggest_loguniform(\"reg_lambda\", 1e-4, 1.0),\n",
    "            max_leaves=trial.suggest_int(\"max_leaves\", 31, 150)\n",
    "        )\n",
    "\n",
    "\n",
    "        model.fit(train_x, train_y, eval_set=[(val_x, val_y)], early_stopping_rounds=200, verbose=False)\n",
    "        pred = model.predict(Xtest, ntree_limit=model.best_ntree_limit)\n",
    "        y_pred += pred\n",
    "\n",
    "    y_pred /= float(counter)\n",
    "    loss = log_loss(test_y, y_pred)\n",
    "    return loss"
   ]
  },
  {
   "cell_type": "code",
   "execution_count": null,
   "metadata": {},
   "outputs": [],
   "source": [
    "study = optuna.create_study()\n",
    "study.optimize(objective, n_trials=100)"
   ]
  },
  {
   "cell_type": "code",
   "execution_count": null,
   "metadata": {},
   "outputs": [],
   "source": [
    "print(\"Number of finished trials: {}\".format(len(study.trials)))\n",
    "\n",
    "print(\"Best trial:\")\n",
    "trial = study.best_trial\n",
    "\n",
    "print(\"Value: {}\".format(trial.value))\n",
    "\n",
    "print(\"Params: \")\n",
    "for key, value in trial.params.items():\n",
    "    print(\" {}: {}\".format(key, value))"
   ]
  },
  {
   "cell_type": "markdown",
   "metadata": {},
   "source": [
    "## Build the model"
   ]
  },
  {
   "cell_type": "code",
   "execution_count": null,
   "metadata": {},
   "outputs": [],
   "source": [
    "# Define 5-fold cross validation test harness\n",
    "kfold = StratifiedKFold(n_splits=5, shuffle=True, random_state=10)\n",
    "y_pred = 0"
   ]
  },
  {
   "cell_type": "code",
   "execution_count": null,
   "metadata": {},
   "outputs": [],
   "source": [
    "# Train the model using K-fold\n",
    "counter = 0\n",
    "\n",
    "for train, val in kfold.split(Xtrain, Ytrain):\n",
    "    counter += 1\n",
    "\n",
    "    train_x, train_y = Xtrain[train], Ytrain[train]\n",
    "    val_x, val_y = Xtrain[val], Ytrain[val]\n",
    "    df = pd.DataFrame(train_y, columns=['IsUnderRisk'])\n",
    "    neg, pos = np.bincount(df['IsUnderRisk'])\n",
    "    \n",
    "    model = XGBRegressor(\n",
    "        objective='multi:softprob',\n",
    "        eval_metric='mlogloss',\n",
    "        booster='gbtree',\n",
    "        sample_type='uniform',\n",
    "        tree_method='hist',\n",
    "        scale_pos_weight=neg/pos,\n",
    "        grow_policy='lossguide',\n",
    "        num_round=5000,\n",
    "        num_class=2,\n",
    "        rate_drop=0.14,\n",
    "        learning_rate=0.07,\n",
    "        min_split_loss=0.8,\n",
    "        max_depth=16,\n",
    "        min_child_weight=2,\n",
    "        subsample=0.96,\n",
    "        colsample_bytree=0.88,\n",
    "        reg_lambda=0.13,\n",
    "        max_leaves=94\n",
    "    )\n",
    "\n",
    "    model.fit(train_x, train_y, eval_set=[(val_x, val_y)], early_stopping_rounds=200, verbose=True)\n",
    "    pred = model.predict(Xtest, ntree_limit=model.best_ntree_limit)\n",
    "\n",
    "    y_pred += pred\n",
    "\n",
    "y_pred /= float(counter)"
   ]
  },
  {
   "cell_type": "markdown",
   "metadata": {},
   "source": [
    "## Validate the model"
   ]
  },
  {
   "cell_type": "code",
   "execution_count": null,
   "metadata": {},
   "outputs": [],
   "source": [
    "#Print log_loss\n",
    "loss = log_loss(test_y, y_pred)\n",
    "print('Overall log_loss of model:', loss)"
   ]
  },
  {
   "cell_type": "code",
   "execution_count": null,
   "metadata": {},
   "outputs": [],
   "source": [
    "#Print accuracy\n",
    "y_pred_binary = np.array([np.argmax(y_pred, axis=1)]).T\n",
    "acc_score = accuracy_score(Ytest, y_pred_binary)\n",
    "f1 = f1_score(Ytest, y_pred_binary)\n",
    "print('Overall accuracy:', acc_score)\n",
    "print('Overall F1-Score:', f1)"
   ]
  },
  {
   "cell_type": "code",
   "execution_count": null,
   "metadata": {},
   "outputs": [],
   "source": [
    "#Print Area Under Curve\n",
    "plt.figure()\n",
    "false_positive_rate, recall, thresholds = roc_curve(Ytest, y_pred_binary)\n",
    "roc_auc = auc(false_positive_rate, recall)\n",
    "plt.title('Receiver Operating Characteristic (ROC)')\n",
    "plt.plot(false_positive_rate, recall, 'b', label = 'AUC = %0.3f' %roc_auc)\n",
    "plt.legend(loc='lower right')\n",
    "plt.plot([0,1], [0,1], 'r--')\n",
    "plt.xlim([0.0,1.0])\n",
    "plt.ylim([0.0,1.0])\n",
    "plt.ylabel('Recall')\n",
    "plt.xlabel('Fall-out (1-Specificity)')\n",
    "plt.show()\n",
    "\n",
    "print('AUC score:', roc_auc)"
   ]
  },
  {
   "cell_type": "code",
   "execution_count": null,
   "metadata": {},
   "outputs": [],
   "source": [
    "#Print Confusion Matrix\n",
    "cm = confusion_matrix(Ytest, y_pred_binary)\n",
    "labels = ['0', '1']\n",
    "sns.heatmap(cm, xticklabels = labels, yticklabels = labels, annot = True, fmt='d', cmap=\"Blues\", vmin = 0.5);\n",
    "plt.title('Confusion Matrix')\n",
    "plt.ylabel('True Class')\n",
    "plt.xlabel('Predicted Class')\n",
    "plt.show()"
   ]
  },
  {
   "cell_type": "markdown",
   "metadata": {},
   "source": [
    "## Train model on entire data"
   ]
  },
  {
   "cell_type": "code",
   "execution_count": null,
   "metadata": {},
   "outputs": [],
   "source": [
    "# Define 5-fold cross validation test harness\n",
    "kfold = StratifiedKFold(n_splits=5, shuffle=True, random_state=10)\n",
    "y_pred = 0"
   ]
  },
  {
   "cell_type": "code",
   "execution_count": null,
   "metadata": {},
   "outputs": [],
   "source": [
    "# Train the model using K-fold\n",
    "counter = 0\n",
    "\n",
    "for train, val in kfold.split(Xtrain_full, Ytrain_full):\n",
    "    counter += 1\n",
    "\n",
    "    train_x, train_y = Xtrain_full[train], Ytrain_full[train]\n",
    "    val_x, val_y = Xtrain_full[val], Ytrain_full[val]\n",
    "    df = pd.DataFrame(train_y, columns=['IsUnderRisk'])\n",
    "    neg, pos = np.bincount(df['IsUnderRisk'])\n",
    "    \n",
    "    model = XGBRegressor(\n",
    "        objective='multi:softprob',\n",
    "        eval_metric='mlogloss',\n",
    "        booster='gbtree',\n",
    "        sample_type='uniform',\n",
    "        tree_method='hist',\n",
    "        scale_pos_weight=neg/pos,\n",
    "        grow_policy='lossguide',\n",
    "        num_round=5000,\n",
    "        num_class=2,\n",
    "        rate_drop=0.6,\n",
    "        learning_rate=0.06,\n",
    "        min_split_loss=0.7,\n",
    "        max_depth=11,\n",
    "        min_child_weight=1,\n",
    "        subsample=0.88,\n",
    "        colsample_bytree=0.87,\n",
    "        reg_lambda=0.0006,\n",
    "        max_leaves=132\n",
    "    )\n",
    "\n",
    "    model.fit(train_x, train_y, eval_set=[(val_x, val_y)], early_stopping_rounds=200, verbose=True)\n",
    "    pred = model.predict(Xpredict, ntree_limit=model.best_ntree_limit)\n",
    "\n",
    "    y_pred += pred\n",
    "\n",
    "y_pred /= float(counter)"
   ]
  },
  {
   "cell_type": "markdown",
   "metadata": {},
   "source": [
    "## Create submission file"
   ]
  },
  {
   "cell_type": "code",
   "execution_count": null,
   "metadata": {},
   "outputs": [],
   "source": [
    "submit_df = pd.DataFrame(y_pred, columns=['0','1'])\n",
    "submit_df.head()"
   ]
  },
  {
   "cell_type": "code",
   "execution_count": null,
   "metadata": {},
   "outputs": [],
   "source": [
    "submit_df.to_excel(\"Predictions/predictions_v12.xlsx\", index=False)"
   ]
  },
  {
   "cell_type": "code",
   "execution_count": null,
   "metadata": {},
   "outputs": [],
   "source": []
  }
 ],
 "metadata": {
  "kernelspec": {
   "display_name": "Python 3",
   "language": "python",
   "name": "python3"
  },
  "language_info": {
   "codemirror_mode": {
    "name": "ipython",
    "version": 3
   },
   "file_extension": ".py",
   "mimetype": "text/x-python",
   "name": "python",
   "nbconvert_exporter": "python",
   "pygments_lexer": "ipython3",
   "version": "3.7.7"
  }
 },
 "nbformat": 4,
 "nbformat_minor": 4
}
