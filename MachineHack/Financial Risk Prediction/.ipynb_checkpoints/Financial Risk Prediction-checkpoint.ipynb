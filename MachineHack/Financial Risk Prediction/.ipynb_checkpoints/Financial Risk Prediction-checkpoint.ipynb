{
 "cells": [
  {
   "cell_type": "markdown",
   "metadata": {},
   "source": [
    "## Import Packages"
   ]
  },
  {
   "cell_type": "code",
   "execution_count": 1,
   "metadata": {},
   "outputs": [],
   "source": [
    "import pandas as pd\n",
    "import numpy as np\n",
    "import matplotlib.pyplot as plt\n",
    "import seaborn as sns\n",
    "from imblearn.over_sampling import SMOTE\n",
    "from sklearn.preprocessing import RobustScaler, StandardScaler, MinMaxScaler\n",
    "from sklearn.metrics import log_loss, f1_score, roc_curve, auc, confusion_matrix, accuracy_score\n",
    "from sklearn.model_selection import StratifiedKFold, StratifiedShuffleSplit\n",
    "import lightgbm as lgb\n",
    "import optuna"
   ]
  },
  {
   "cell_type": "markdown",
   "metadata": {},
   "source": [
    "## Set file paths for train and predict datasets"
   ]
  },
  {
   "cell_type": "code",
   "execution_count": 2,
   "metadata": {},
   "outputs": [],
   "source": [
    "train_dataset = \"Dataset/Train.csv\"\n",
    "predict_dataset = \"Dataset/Test.csv\""
   ]
  },
  {
   "cell_type": "markdown",
   "metadata": {},
   "source": [
    "## Exploratory Data Analysis"
   ]
  },
  {
   "cell_type": "markdown",
   "metadata": {},
   "source": [
    "#### Get train dataset info"
   ]
  },
  {
   "cell_type": "code",
   "execution_count": 61,
   "metadata": {},
   "outputs": [
    {
     "data": {
      "text/html": [
       "<div>\n",
       "<style scoped>\n",
       "    .dataframe tbody tr th:only-of-type {\n",
       "        vertical-align: middle;\n",
       "    }\n",
       "\n",
       "    .dataframe tbody tr th {\n",
       "        vertical-align: top;\n",
       "    }\n",
       "\n",
       "    .dataframe thead th {\n",
       "        text-align: right;\n",
       "    }\n",
       "</style>\n",
       "<table border=\"1\" class=\"dataframe\">\n",
       "  <thead>\n",
       "    <tr style=\"text-align: right;\">\n",
       "      <th></th>\n",
       "      <th>City</th>\n",
       "      <th>Location_Score</th>\n",
       "      <th>Internal_Audit_Score</th>\n",
       "      <th>External_Audit_Score</th>\n",
       "      <th>Fin_Score</th>\n",
       "      <th>Loss_score</th>\n",
       "      <th>Past_Results</th>\n",
       "      <th>IsUnderRisk</th>\n",
       "    </tr>\n",
       "  </thead>\n",
       "  <tbody>\n",
       "    <tr>\n",
       "      <th>0</th>\n",
       "      <td>2</td>\n",
       "      <td>8.032</td>\n",
       "      <td>14</td>\n",
       "      <td>8</td>\n",
       "      <td>3</td>\n",
       "      <td>6</td>\n",
       "      <td>0</td>\n",
       "      <td>1</td>\n",
       "    </tr>\n",
       "    <tr>\n",
       "      <th>1</th>\n",
       "      <td>31</td>\n",
       "      <td>77.730</td>\n",
       "      <td>8</td>\n",
       "      <td>3</td>\n",
       "      <td>3</td>\n",
       "      <td>8</td>\n",
       "      <td>1</td>\n",
       "      <td>0</td>\n",
       "    </tr>\n",
       "    <tr>\n",
       "      <th>2</th>\n",
       "      <td>40</td>\n",
       "      <td>59.203</td>\n",
       "      <td>3</td>\n",
       "      <td>12</td>\n",
       "      <td>11</td>\n",
       "      <td>3</td>\n",
       "      <td>0</td>\n",
       "      <td>1</td>\n",
       "    </tr>\n",
       "    <tr>\n",
       "      <th>3</th>\n",
       "      <td>12</td>\n",
       "      <td>73.080</td>\n",
       "      <td>4</td>\n",
       "      <td>5</td>\n",
       "      <td>7</td>\n",
       "      <td>6</td>\n",
       "      <td>0</td>\n",
       "      <td>0</td>\n",
       "    </tr>\n",
       "    <tr>\n",
       "      <th>4</th>\n",
       "      <td>4</td>\n",
       "      <td>15.666</td>\n",
       "      <td>13</td>\n",
       "      <td>15</td>\n",
       "      <td>6</td>\n",
       "      <td>7</td>\n",
       "      <td>2</td>\n",
       "      <td>1</td>\n",
       "    </tr>\n",
       "  </tbody>\n",
       "</table>\n",
       "</div>"
      ],
      "text/plain": [
       "   City  Location_Score  Internal_Audit_Score  External_Audit_Score  \\\n",
       "0     2           8.032                    14                     8   \n",
       "1    31          77.730                     8                     3   \n",
       "2    40          59.203                     3                    12   \n",
       "3    12          73.080                     4                     5   \n",
       "4     4          15.666                    13                    15   \n",
       "\n",
       "   Fin_Score  Loss_score  Past_Results  IsUnderRisk  \n",
       "0          3           6             0            1  \n",
       "1          3           8             1            0  \n",
       "2         11           3             0            1  \n",
       "3          7           6             0            0  \n",
       "4          6           7             2            1  "
      ]
     },
     "execution_count": 61,
     "metadata": {},
     "output_type": "execute_result"
    }
   ],
   "source": [
    "train_df = pd.read_csv(train_dataset)\n",
    "train_df.head()"
   ]
  },
  {
   "cell_type": "code",
   "execution_count": 62,
   "metadata": {},
   "outputs": [
    {
     "name": "stdout",
     "output_type": "stream",
     "text": [
      "<class 'pandas.core.frame.DataFrame'>\n",
      "RangeIndex: 543 entries, 0 to 542\n",
      "Data columns (total 8 columns):\n",
      " #   Column                Non-Null Count  Dtype  \n",
      "---  ------                --------------  -----  \n",
      " 0   City                  543 non-null    int64  \n",
      " 1   Location_Score        543 non-null    float64\n",
      " 2   Internal_Audit_Score  543 non-null    int64  \n",
      " 3   External_Audit_Score  543 non-null    int64  \n",
      " 4   Fin_Score             543 non-null    int64  \n",
      " 5   Loss_score            543 non-null    int64  \n",
      " 6   Past_Results          543 non-null    int64  \n",
      " 7   IsUnderRisk           543 non-null    int64  \n",
      "dtypes: float64(1), int64(7)\n",
      "memory usage: 34.1 KB\n"
     ]
    }
   ],
   "source": [
    "train_df.info(verbose=True)"
   ]
  },
  {
   "cell_type": "markdown",
   "metadata": {},
   "source": [
    "#### Get predict dataset info"
   ]
  },
  {
   "cell_type": "code",
   "execution_count": null,
   "metadata": {},
   "outputs": [],
   "source": [
    "predict_df = pd.read_csv(predict_dataset)\n",
    "predict_df.head()"
   ]
  },
  {
   "cell_type": "code",
   "execution_count": null,
   "metadata": {},
   "outputs": [],
   "source": [
    "predict_df.info(verbose=True)"
   ]
  },
  {
   "cell_type": "markdown",
   "metadata": {},
   "source": [
    "#### Count plot of target variable"
   ]
  },
  {
   "cell_type": "code",
   "execution_count": null,
   "metadata": {},
   "outputs": [],
   "source": [
    "plt.figure(figsize=(10,6))\n",
    "sns.countplot(x=\"IsUnderRisk\", data=train_df).set_title('Count plot of \"IsUnderRisk\" data')\n",
    "plt.grid()"
   ]
  },
  {
   "cell_type": "markdown",
   "metadata": {},
   "source": [
    "#### Examine class imbalance"
   ]
  },
  {
   "cell_type": "code",
   "execution_count": null,
   "metadata": {},
   "outputs": [],
   "source": [
    "neg, pos = np.bincount(train_df['IsUnderRisk'])\n",
    "total = neg + pos\n",
    "print('Total: {}\\n  Positive: {} ({:.2f}% of total)\\n  Negative: {} ({:.2f}% of total)\\n'.format(\n",
    "    total, pos, 100 * pos / total, neg, 100 * neg / total))"
   ]
  },
  {
   "cell_type": "markdown",
   "metadata": {},
   "source": [
    "#### Get correlation between different features"
   ]
  },
  {
   "cell_type": "code",
   "execution_count": null,
   "metadata": {},
   "outputs": [],
   "source": [
    "plt.figure(figsize=(10,6))\n",
    "ax = sns.heatmap(train_df.corr(), annot=True, linewidth = 0.5, cmap='coolwarm')\n",
    "plt.show()"
   ]
  },
  {
   "cell_type": "code",
   "execution_count": null,
   "metadata": {},
   "outputs": [],
   "source": [
    "plt.figure(figsize=(10,6))\n",
    "sns.set(style=\"ticks\", color_codes=True)\n",
    "sns.pairplot(train_df)\n",
    "plt.show()"
   ]
  },
  {
   "cell_type": "code",
   "execution_count": null,
   "metadata": {},
   "outputs": [],
   "source": [
    "# Plot distribution of data in \"Location_Score\" field\n",
    "fig, ax = plt.subplots(figsize = (15, 6))\n",
    "plt.subplot(1, 2, 1)\n",
    "sns.distplot(train_df['Location_Score'])\n",
    "plt.title('Distribution of Location_Score data');\n",
    "plt.subplot(1, 2, 2)\n",
    "sns.distplot(np.log1p(train_df['Location_Score']))\n",
    "plt.title('Distribution of log of Location_Score data');"
   ]
  },
  {
   "cell_type": "code",
   "execution_count": null,
   "metadata": {},
   "outputs": [],
   "source": [
    "# Plot distribution of data in \"Fin_Score\" field\n",
    "fig, ax = plt.subplots(figsize = (15, 6))\n",
    "plt.subplot(1, 2, 1)\n",
    "sns.distplot(train_df['Fin_Score'])\n",
    "plt.title('Distribution of Fin_Score data');\n",
    "plt.subplot(1, 2, 2)\n",
    "sns.distplot(np.log1p(train_df['Fin_Score']))\n",
    "plt.title('Distribution of log of Fin_Score data');"
   ]
  },
  {
   "cell_type": "code",
   "execution_count": null,
   "metadata": {},
   "outputs": [],
   "source": [
    "# Plot distribution of data in \"Loss_score\" field\n",
    "fig, ax = plt.subplots(figsize = (15, 6))\n",
    "plt.subplot(1, 2, 1)\n",
    "sns.distplot(train_df['Loss_score'])\n",
    "plt.title('Distribution of Loss_score data');\n",
    "plt.subplot(1, 2, 2)\n",
    "sns.distplot(np.log1p(train_df['Loss_score']))\n",
    "plt.title('Distribution of log of Loss_score data');"
   ]
  },
  {
   "cell_type": "code",
   "execution_count": null,
   "metadata": {},
   "outputs": [],
   "source": [
    "# Plot distribution of data in \"Past_Results\" field\n",
    "fig, ax = plt.subplots(figsize = (15, 6))\n",
    "plt.subplot(1, 2, 1)\n",
    "sns.distplot(train_df['Past_Results'])\n",
    "plt.title('Distribution of Past_Results data');\n",
    "plt.subplot(1, 2, 2)\n",
    "sns.distplot(np.log1p(train_df['Past_Results']))\n",
    "plt.title('Distribution of log of Past_Results data');"
   ]
  },
  {
   "cell_type": "markdown",
   "metadata": {},
   "source": [
    "## Data Preprocessing"
   ]
  },
  {
   "cell_type": "markdown",
   "metadata": {},
   "source": [
    "#### Read train and predict datasets"
   ]
  },
  {
   "cell_type": "code",
   "execution_count": 31,
   "metadata": {},
   "outputs": [
    {
     "name": "stdout",
     "output_type": "stream",
     "text": [
      "train_df: (543, 8)\n",
      "predict_df: (233, 7)\n"
     ]
    }
   ],
   "source": [
    "train_df = pd.read_csv(train_dataset)\n",
    "predict_df = pd.read_csv(predict_dataset)\n",
    "print(\"train_df: {}\".format(train_df.shape))\n",
    "print(\"predict_df: {}\".format(predict_df.shape))"
   ]
  },
  {
   "cell_type": "markdown",
   "metadata": {},
   "source": [
    "#### Extract \"IsUnderRisk\" field from train_df into NumPy array"
   ]
  },
  {
   "cell_type": "code",
   "execution_count": 32,
   "metadata": {},
   "outputs": [
    {
     "name": "stdout",
     "output_type": "stream",
     "text": [
      "train_y: (543, 1)\n"
     ]
    }
   ],
   "source": [
    "train_y = np.array([train_df['IsUnderRisk'].values]).T\n",
    "train_df.drop(['IsUnderRisk'], inplace=True, axis=1)\n",
    "print(\"train_y: {}\".format(train_y.shape))"
   ]
  },
  {
   "cell_type": "markdown",
   "metadata": {},
   "source": [
    "#### Feature Engineering"
   ]
  },
  {
   "cell_type": "code",
   "execution_count": 33,
   "metadata": {},
   "outputs": [
    {
     "name": "stdout",
     "output_type": "stream",
     "text": [
      "(776, 7)\n"
     ]
    }
   ],
   "source": [
    "# Combine train and predict dataframes\n",
    "combined_df = train_df.append(predict_df, sort=False, ignore_index=True)\n",
    "print(combined_df.shape)"
   ]
  },
  {
   "cell_type": "code",
   "execution_count": null,
   "metadata": {},
   "outputs": [],
   "source": [
    "# Convert \"City\" to one-hot encoding\n",
    "one_hot = pd.get_dummies(combined_df['City'])\n",
    "combined_df.drop('City', axis = 1, inplace=True)\n",
    "combined_df = combined_df.join(one_hot)\n",
    "combined_df.head()"
   ]
  },
  {
   "cell_type": "code",
   "execution_count": 34,
   "metadata": {},
   "outputs": [],
   "source": [
    "combined_df[\"Location_Score\"] = np.log1p(combined_df[\"Location_Score\"])\n",
    "combined_df[\"Fin_Score\"] = np.log1p(combined_df[\"Fin_Score\"])\n",
    "combined_df[\"Loss_score\"] = np.log1p(combined_df[\"Loss_score\"])\n",
    "combined_df[\"Past_Results\"] = np.log1p(combined_df[\"Past_Results\"])"
   ]
  },
  {
   "cell_type": "code",
   "execution_count": 35,
   "metadata": {},
   "outputs": [],
   "source": [
    "combined_df[\"Fin_Score/Internal_Audit_Score\"] = combined_df[\"Fin_Score\"] / combined_df[\"Internal_Audit_Score\"]\n",
    "combined_df[\"Fin_Score/External_Audit_Score\"] = combined_df[\"Fin_Score\"] / combined_df[\"External_Audit_Score\"]\n",
    "combined_df[\"Fin_Score/(IAS + EAS)\"] = combined_df[\"Fin_Score\"] / (combined_df[\"Internal_Audit_Score\"] + combined_df[\"External_Audit_Score\"])"
   ]
  },
  {
   "cell_type": "code",
   "execution_count": 36,
   "metadata": {},
   "outputs": [],
   "source": [
    "combined_df[\"Loss_score/Internal_Audit_Score\"] = combined_df[\"Loss_score\"] / combined_df[\"Internal_Audit_Score\"]\n",
    "combined_df[\"Loss_score/External_Audit_Score\"] = combined_df[\"Loss_score\"] / combined_df[\"External_Audit_Score\"]\n",
    "combined_df[\"Loss_score/(IAS + EAS)\"] = combined_df[\"Loss_score\"] / (combined_df[\"Internal_Audit_Score\"] + combined_df[\"External_Audit_Score\"])\n",
    "combined_df[\"Loss_score/Fin_Score\"] = combined_df[\"Loss_score\"] / combined_df[\"Fin_Score\"]"
   ]
  },
  {
   "cell_type": "code",
   "execution_count": 37,
   "metadata": {},
   "outputs": [],
   "source": [
    "combined_df[\"Fin_Score/Location_Score\"] = combined_df[\"Fin_Score\"] / combined_df[\"Location_Score\"]\n",
    "combined_df[\"Loss_score/Location_Score\"] = combined_df[\"Loss_score\"] / combined_df[\"Location_Score\"]\n",
    "combined_df[\"Internal_Audit_Score/Location_Score\"] = combined_df[\"Internal_Audit_Score\"] / combined_df[\"Location_Score\"]\n",
    "combined_df[\"External_Audit_Score/Location_Score\"] = combined_df[\"External_Audit_Score\"] / combined_df[\"Location_Score\"]\n",
    "combined_df[\"(IAS + EAS)/Location_Score\"] = (combined_df[\"Internal_Audit_Score\"] + combined_df[\"External_Audit_Score\"]) / combined_df[\"Location_Score\"]"
   ]
  },
  {
   "cell_type": "markdown",
   "metadata": {},
   "source": [
    "#### Create train and predict Numpy arrays and scale them"
   ]
  },
  {
   "cell_type": "code",
   "execution_count": 38,
   "metadata": {},
   "outputs": [
    {
     "name": "stdout",
     "output_type": "stream",
     "text": [
      "train_x: (543, 19)\n",
      "predict_x: (233, 19)\n"
     ]
    }
   ],
   "source": [
    "# Segregate combined_df into train/predict datasets\n",
    "train_x = combined_df[:543]\n",
    "predict_x = combined_df[543:]\n",
    "\n",
    "print(\"train_x: {}\".format(train_x.shape))\n",
    "print(\"predict_x: {}\".format(predict_x.shape))"
   ]
  },
  {
   "cell_type": "code",
   "execution_count": 39,
   "metadata": {},
   "outputs": [],
   "source": [
    "# Scale the train_x/predict_x arrays\n",
    "scaler = MinMaxScaler().fit(train_x)\n",
    "train_x = scaler.transform(train_x)\n",
    "predict_x = scaler.transform(predict_x)"
   ]
  },
  {
   "cell_type": "code",
   "execution_count": 12,
   "metadata": {},
   "outputs": [],
   "source": [
    "train_x_full = train_x.copy()\n",
    "train_y_full = train_y.copy()"
   ]
  },
  {
   "cell_type": "markdown",
   "metadata": {},
   "source": [
    "#### Oversampling entire data to handle class imbalance"
   ]
  },
  {
   "cell_type": "code",
   "execution_count": 40,
   "metadata": {},
   "outputs": [
    {
     "name": "stdout",
     "output_type": "stream",
     "text": [
      "Class balancing done.\n",
      "train_x_full shape: (680, 19)\n",
      "train_y_full shape: (680, 1)\n"
     ]
    }
   ],
   "source": [
    "sm = SMOTE()\n",
    "sm_x, sm_y = sm.fit_sample(train_x, train_y.ravel())\n",
    "train_x_full = sm_x\n",
    "train_y_full = np.array([sm_y]).T\n",
    "print(\"Class balancing done.\")\n",
    "print(\"train_x_full shape: {}\".format(train_x_full.shape))\n",
    "print(\"train_y_full shape: {}\".format(train_y_full.shape))"
   ]
  },
  {
   "cell_type": "markdown",
   "metadata": {},
   "source": [
    "#### Split training data into train/test datasets"
   ]
  },
  {
   "cell_type": "code",
   "execution_count": 41,
   "metadata": {},
   "outputs": [
    {
     "name": "stdout",
     "output_type": "stream",
     "text": [
      "------------------------- Training Dataset -------------------------\n",
      "train_x shape: (502, 19)\n",
      "train_y shape: (502, 1)\n",
      "\n",
      "------------------------- Test Dataset -------------------------\n",
      "test_x shape: (41, 19)\n",
      "test_y shape: (41, 1)\n"
     ]
    }
   ],
   "source": [
    "sss = StratifiedShuffleSplit(n_splits=1, test_size=0.075, random_state=1)\n",
    "for train_index, test_index in sss.split(train_x, train_y):\n",
    "    train_x, test_x = train_x[train_index], train_x[test_index]\n",
    "    train_y, test_y = train_y[train_index], train_y[test_index]\n",
    "\n",
    "print(\"------------------------- Training Dataset -------------------------\")\n",
    "print(\"train_x shape: {}\".format(train_x.shape))\n",
    "print(\"train_y shape: {}\".format(train_y.shape))\n",
    "\n",
    "print(\"\\n------------------------- Test Dataset -------------------------\")\n",
    "print(\"test_x shape: {}\".format(test_x.shape))\n",
    "print(\"test_y shape: {}\".format(test_y.shape))"
   ]
  },
  {
   "cell_type": "markdown",
   "metadata": {},
   "source": [
    "#### Oversampling splitted data to handle class imbalance"
   ]
  },
  {
   "cell_type": "code",
   "execution_count": 42,
   "metadata": {},
   "outputs": [
    {
     "name": "stdout",
     "output_type": "stream",
     "text": [
      "Class balancing done.\n",
      "train_x shape: (628, 19)\n",
      "train_y shape: (628, 1)\n"
     ]
    }
   ],
   "source": [
    "sm = SMOTE()\n",
    "sm_x, sm_y = sm.fit_sample(train_x, train_y.ravel())\n",
    "train_x = sm_x\n",
    "train_y = np.array([sm_y]).T\n",
    "print(\"Class balancing done.\")\n",
    "print(\"train_x shape: {}\".format(train_x.shape))\n",
    "print(\"train_y shape: {}\".format(train_y.shape))"
   ]
  },
  {
   "cell_type": "code",
   "execution_count": 43,
   "metadata": {},
   "outputs": [
    {
     "name": "stdout",
     "output_type": "stream",
     "text": [
      "------------------------- Training Dataset -------------------------\n",
      "Xtrain_full shape: (680, 19)\n",
      "Ytrain_full shape: (680, 1)\n",
      "Xtrain shape: (628, 19)\n",
      "Ytrain shape: (628, 1)\n",
      "\n",
      "------------------------- Test Dataset -------------------------\n",
      "Xtest shape: (41, 19)\n",
      "Ytest shape: (41, 1)\n",
      "\n",
      "------------------------- Prediction Dataset -------------------------\n",
      "Xpredict shape: (233, 19)\n"
     ]
    }
   ],
   "source": [
    "Xtrain_full, Ytrain_full = train_x_full.copy(), train_y_full.copy()\n",
    "Xtrain, Ytrain = train_x.copy(), train_y.copy()\n",
    "Xtest, Ytest = test_x.copy(), test_y.copy()\n",
    "Xpredict = predict_x.copy()\n",
    "\n",
    "print(\"------------------------- Training Dataset -------------------------\")\n",
    "print(\"Xtrain_full shape: {}\".format(Xtrain_full.shape))\n",
    "print(\"Ytrain_full shape: {}\".format(Ytrain_full.shape))\n",
    "print(\"Xtrain shape: {}\".format(Xtrain.shape))\n",
    "print(\"Ytrain shape: {}\".format(Ytrain.shape))\n",
    "\n",
    "print(\"\\n------------------------- Test Dataset -------------------------\")\n",
    "print(\"Xtest shape: {}\".format(Xtest.shape))\n",
    "print(\"Ytest shape: {}\".format(Ytest.shape))\n",
    "\n",
    "print(\"\\n------------------------- Prediction Dataset -------------------------\")\n",
    "print(\"Xpredict shape: {}\".format(Xpredict.shape))"
   ]
  },
  {
   "cell_type": "markdown",
   "metadata": {},
   "source": [
    "## Hyperparameter search using Optuna"
   ]
  },
  {
   "cell_type": "code",
   "execution_count": 44,
   "metadata": {},
   "outputs": [],
   "source": [
    "# Convert Ytest to one-hot encoding\n",
    "df = pd.DataFrame(Ytest, columns=[\"IsUnderRisk\"])\n",
    "test_y = pd.get_dummies(df['IsUnderRisk']).values"
   ]
  },
  {
   "cell_type": "code",
   "execution_count": 45,
   "metadata": {},
   "outputs": [],
   "source": [
    "# Define 5-fold cross validation test harness\n",
    "kfold = StratifiedKFold(n_splits=5, shuffle=True, random_state=10)"
   ]
  },
  {
   "cell_type": "code",
   "execution_count": 47,
   "metadata": {},
   "outputs": [],
   "source": [
    "def objective(trial):\n",
    "    \n",
    "    params = {\n",
    "        \"objective\": \"multiclass\",\n",
    "        \"metric\": \"multi_logloss\",\n",
    "        \"num_class\": 2,\n",
    "        \"verbosity\": -1,\n",
    "        \"boosting_type\": \"gbdt\",\n",
    "        #\"is_unbalance\": True,\n",
    "        \"learning_rate\": trial.suggest_loguniform(\"learning_rate\", 1e-2, 1e-1),\n",
    "        \"lambda_l2\": trial.suggest_loguniform(\"lambda_l2\", 1e-4, 1.0),\n",
    "        \"num_leaves\": trial.suggest_int(\"num_leaves\", 31, 150),\n",
    "        \"max_depth\": trial.suggest_int(\"max_depth\", 7, 20),\n",
    "        \"feature_fraction\": trial.suggest_uniform(\"feature_fraction\", 0.5, 1.0),\n",
    "        \"bagging_fraction\": trial.suggest_uniform(\"bagging_fraction\", 0.5, 1.0),\n",
    "        \"bagging_freq\": trial.suggest_int(\"bagging_freq\", 5, 20),\n",
    "        \"min_child_samples\": trial.suggest_int(\"min_child_samples\", 1, 20),\n",
    "    }\n",
    "    \n",
    "    y_pred = 0\n",
    "    counter = 0\n",
    "    for train, val in kfold.split(Xtrain, Ytrain):\n",
    "        counter += 1\n",
    "    \n",
    "        train_x, train_y = Xtrain[train], Ytrain[train]\n",
    "        val_x, val_y = Xtrain[val], Ytrain[val]\n",
    "\n",
    "        lgtrain = lgb.Dataset(train_x, label=train_y.ravel())\n",
    "        lgvalidation = lgb.Dataset(val_x, label=val_y.ravel())\n",
    "\n",
    "        model = lgb.train(params, lgtrain, valid_sets=[lgvalidation], \n",
    "                          num_boost_round=5000, early_stopping_rounds=200, verbose_eval=False)\n",
    "        pred = model.predict(Xtest, num_iteration=model.best_iteration)\n",
    "\n",
    "        y_pred += pred\n",
    "\n",
    "    y_pred /= float(counter)\n",
    "    loss = log_loss(test_y, y_pred)\n",
    "    score = 100 * max(0, 1 - loss)\n",
    "\n",
    "    return score"
   ]
  },
  {
   "cell_type": "code",
   "execution_count": 48,
   "metadata": {},
   "outputs": [
    {
     "name": "stderr",
     "output_type": "stream",
     "text": [
      "[I 2020-05-16 03:40:31,898] Finished trial#0 with value: 75.35585337944387 with parameters: {'learning_rate': 0.022696391973883324, 'lambda_l2': 0.7497881190670956, 'num_leaves': 112, 'max_depth': 15, 'feature_fraction': 0.6067540287024762, 'bagging_fraction': 0.5907415274545311, 'bagging_freq': 19, 'min_child_samples': 9}. Best is trial#0 with value: 75.35585337944387.\n",
      "[I 2020-05-16 03:40:36,130] Finished trial#1 with value: 75.23250389518873 with parameters: {'learning_rate': 0.024095812183861493, 'lambda_l2': 0.000735439007505727, 'num_leaves': 54, 'max_depth': 17, 'feature_fraction': 0.7468768806188879, 'bagging_fraction': 0.7318604789508606, 'bagging_freq': 12, 'min_child_samples': 14}. Best is trial#0 with value: 75.35585337944387.\n",
      "[I 2020-05-16 03:40:40,299] Finished trial#2 with value: 78.07368211911185 with parameters: {'learning_rate': 0.032528704939956056, 'lambda_l2': 0.23248155737343237, 'num_leaves': 67, 'max_depth': 15, 'feature_fraction': 0.9508563373025296, 'bagging_fraction': 0.8997142848872872, 'bagging_freq': 5, 'min_child_samples': 5}. Best is trial#2 with value: 78.07368211911185.\n",
      "[I 2020-05-16 03:40:45,546] Finished trial#3 with value: 75.37628882005751 with parameters: {'learning_rate': 0.06705933340243855, 'lambda_l2': 0.00017098910063123826, 'num_leaves': 128, 'max_depth': 19, 'feature_fraction': 0.6760503101492177, 'bagging_fraction': 0.7373048009361511, 'bagging_freq': 20, 'min_child_samples': 9}. Best is trial#2 with value: 78.07368211911185.\n",
      "[I 2020-05-16 03:40:53,007] Finished trial#4 with value: 76.08717612644982 with parameters: {'learning_rate': 0.013262496312830616, 'lambda_l2': 0.12859383680684766, 'num_leaves': 34, 'max_depth': 13, 'feature_fraction': 0.6870123916124329, 'bagging_fraction': 0.8235673892563466, 'bagging_freq': 5, 'min_child_samples': 11}. Best is trial#2 with value: 78.07368211911185.\n",
      "[I 2020-05-16 03:40:59,862] Finished trial#5 with value: 74.78817506118386 with parameters: {'learning_rate': 0.017825778993900244, 'lambda_l2': 0.00133730547997072, 'num_leaves': 67, 'max_depth': 17, 'feature_fraction': 0.5864725354496119, 'bagging_fraction': 0.6196338842354087, 'bagging_freq': 17, 'min_child_samples': 6}. Best is trial#2 with value: 78.07368211911185.\n",
      "[I 2020-05-16 03:41:03,848] Finished trial#6 with value: 74.68576428800402 with parameters: {'learning_rate': 0.02246121828070766, 'lambda_l2': 0.2211394637753495, 'num_leaves': 34, 'max_depth': 19, 'feature_fraction': 0.9341360488533503, 'bagging_fraction': 0.7822510360477445, 'bagging_freq': 10, 'min_child_samples': 19}. Best is trial#2 with value: 78.07368211911185.\n",
      "[I 2020-05-16 03:41:06,609] Finished trial#7 with value: 72.4088521306782 with parameters: {'learning_rate': 0.050500634447568, 'lambda_l2': 0.6087802740548371, 'num_leaves': 144, 'max_depth': 20, 'feature_fraction': 0.755080577758334, 'bagging_fraction': 0.6575687959549019, 'bagging_freq': 13, 'min_child_samples': 18}. Best is trial#2 with value: 78.07368211911185.\n",
      "[I 2020-05-16 03:41:10,267] Finished trial#8 with value: 77.0935131828549 with parameters: {'learning_rate': 0.09345894130422562, 'lambda_l2': 0.0011347482262834788, 'num_leaves': 56, 'max_depth': 9, 'feature_fraction': 0.9463661082687165, 'bagging_fraction': 0.987944122539869, 'bagging_freq': 6, 'min_child_samples': 9}. Best is trial#2 with value: 78.07368211911185.\n",
      "[I 2020-05-16 03:41:15,716] Finished trial#9 with value: 73.5474807648953 with parameters: {'learning_rate': 0.016930362385645402, 'lambda_l2': 0.00025832575872841436, 'num_leaves': 53, 'max_depth': 12, 'feature_fraction': 0.8960233269281526, 'bagging_fraction': 0.5949398803625905, 'bagging_freq': 9, 'min_child_samples': 19}. Best is trial#2 with value: 78.07368211911185.\n",
      "[I 2020-05-16 03:41:23,272] Finished trial#10 with value: 75.87280390022251 with parameters: {'learning_rate': 0.04004125411646284, 'lambda_l2': 0.03520394805181808, 'num_leaves': 86, 'max_depth': 9, 'feature_fraction': 0.8476218463211755, 'bagging_fraction': 0.968715209931295, 'bagging_freq': 7, 'min_child_samples': 1}. Best is trial#2 with value: 78.07368211911185.\n",
      "[I 2020-05-16 03:41:28,404] Finished trial#11 with value: 77.51208119059456 with parameters: {'learning_rate': 0.08470255508851282, 'lambda_l2': 0.006871776588071276, 'num_leaves': 83, 'max_depth': 8, 'feature_fraction': 0.9789127010473219, 'bagging_fraction': 0.9994700333209137, 'bagging_freq': 5, 'min_child_samples': 3}. Best is trial#2 with value: 78.07368211911185.\n",
      "[I 2020-05-16 03:41:33,755] Finished trial#12 with value: 73.85665703017975 with parameters: {'learning_rate': 0.09952703506956345, 'lambda_l2': 0.008108658984681067, 'num_leaves': 91, 'max_depth': 11, 'feature_fraction': 0.9850039665337365, 'bagging_fraction': 0.8949025829123518, 'bagging_freq': 5, 'min_child_samples': 1}. Best is trial#2 with value: 78.07368211911185.\n",
      "[I 2020-05-16 03:41:38,244] Finished trial#13 with value: 76.28763188543986 with parameters: {'learning_rate': 0.06785914210047515, 'lambda_l2': 0.009858263525915636, 'num_leaves': 86, 'max_depth': 7, 'feature_fraction': 0.9937535896164837, 'bagging_fraction': 0.9096161197247636, 'bagging_freq': 8, 'min_child_samples': 4}. Best is trial#2 with value: 78.07368211911185.\n",
      "[I 2020-05-16 03:41:54,088] Finished trial#14 with value: 76.82237958533985 with parameters: {'learning_rate': 0.010026290758719027, 'lambda_l2': 0.0473460760122897, 'num_leaves': 105, 'max_depth': 15, 'feature_fraction': 0.8268502581865902, 'bagging_fraction': 0.9995041230173162, 'bagging_freq': 15, 'min_child_samples': 4}. Best is trial#2 with value: 78.07368211911185.\n",
      "[I 2020-05-16 03:41:58,346] Finished trial#15 with value: 75.84121879541699 with parameters: {'learning_rate': 0.03352041223147922, 'lambda_l2': 0.002718906284410202, 'num_leaves': 73, 'max_depth': 7, 'feature_fraction': 0.5146490119043358, 'bagging_fraction': 0.9121270687683203, 'bagging_freq': 5, 'min_child_samples': 5}. Best is trial#2 with value: 78.07368211911185.\n",
      "[I 2020-05-16 03:42:06,080] Finished trial#16 with value: 76.33083201426942 with parameters: {'learning_rate': 0.06192584064866619, 'lambda_l2': 0.03326267089867546, 'num_leaves': 74, 'max_depth': 15, 'feature_fraction': 0.8719408025183839, 'bagging_fraction': 0.8533178466198165, 'bagging_freq': 11, 'min_child_samples': 1}. Best is trial#2 with value: 78.07368211911185.\n",
      "[I 2020-05-16 03:42:10,458] Finished trial#17 with value: 75.46330711218278 with parameters: {'learning_rate': 0.049986485069465306, 'lambda_l2': 0.004628553312386972, 'num_leaves': 105, 'max_depth': 10, 'feature_fraction': 0.9998511243066546, 'bagging_fraction': 0.5080056920178924, 'bagging_freq': 7, 'min_child_samples': 7}. Best is trial#2 with value: 78.07368211911185.\n",
      "[I 2020-05-16 03:42:15,354] Finished trial#18 with value: 75.85095806677334 with parameters: {'learning_rate': 0.08429605086335128, 'lambda_l2': 0.09800716285688596, 'num_leaves': 43, 'max_depth': 17, 'feature_fraction': 0.8025752816654663, 'bagging_fraction': 0.9408503098292025, 'bagging_freq': 9, 'min_child_samples': 3}. Best is trial#2 with value: 78.07368211911185.\n",
      "[I 2020-05-16 03:42:19,509] Finished trial#19 with value: 76.45057763855452 with parameters: {'learning_rate': 0.0347642613160313, 'lambda_l2': 0.0196168590120994, 'num_leaves': 67, 'max_depth': 13, 'feature_fraction': 0.908394181361923, 'bagging_fraction': 0.8227561385785602, 'bagging_freq': 7, 'min_child_samples': 13}. Best is trial#2 with value: 78.07368211911185.\n",
      "[I 2020-05-16 03:42:31,883] Finished trial#20 with value: 76.9700614348181 with parameters: {'learning_rate': 0.010296338434063903, 'lambda_l2': 0.2216867142910212, 'num_leaves': 98, 'max_depth': 14, 'feature_fraction': 0.9645230928804166, 'bagging_fraction': 0.9986388150090908, 'bagging_freq': 14, 'min_child_samples': 2}. Best is trial#2 with value: 78.07368211911185.\n"
     ]
    },
    {
     "name": "stderr",
     "output_type": "stream",
     "text": [
      "[I 2020-05-16 03:42:35,295] Finished trial#21 with value: 77.56517734607648 with parameters: {'learning_rate': 0.0938061138165863, 'lambda_l2': 0.000768513251425787, 'num_leaves': 56, 'max_depth': 8, 'feature_fraction': 0.9403102837362598, 'bagging_fraction': 0.9757198558782273, 'bagging_freq': 5, 'min_child_samples': 7}. Best is trial#2 with value: 78.07368211911185.\n",
      "[I 2020-05-16 03:42:39,142] Finished trial#22 with value: 76.85867223183402 with parameters: {'learning_rate': 0.08335016817016747, 'lambda_l2': 0.0005053430631437599, 'num_leaves': 78, 'max_depth': 8, 'feature_fraction': 0.9256730822274492, 'bagging_fraction': 0.9487911391330974, 'bagging_freq': 5, 'min_child_samples': 7}. Best is trial#2 with value: 78.07368211911185.\n",
      "[I 2020-05-16 03:42:44,574] Finished trial#23 with value: 77.15438975166839 with parameters: {'learning_rate': 0.04736634062791932, 'lambda_l2': 0.003930235192544612, 'num_leaves': 61, 'max_depth': 11, 'feature_fraction': 0.8772196446753746, 'bagging_fraction': 0.871918742891952, 'bagging_freq': 6, 'min_child_samples': 6}. Best is trial#2 with value: 78.07368211911185.\n",
      "[I 2020-05-16 03:42:50,361] Finished trial#24 with value: 77.05399571770228 with parameters: {'learning_rate': 0.07673105636993874, 'lambda_l2': 0.0021232354316323312, 'num_leaves': 41, 'max_depth': 8, 'feature_fraction': 0.9947367321950704, 'bagging_fraction': 0.9483052039905165, 'bagging_freq': 8, 'min_child_samples': 3}. Best is trial#2 with value: 78.07368211911185.\n",
      "[I 2020-05-16 03:42:54,914] Finished trial#25 with value: 78.24617749954767 with parameters: {'learning_rate': 0.056991274429246286, 'lambda_l2': 0.017932827052858775, 'num_leaves': 45, 'max_depth': 11, 'feature_fraction': 0.9554602053588979, 'bagging_fraction': 0.9918754560554751, 'bagging_freq': 6, 'min_child_samples': 8}. Best is trial#25 with value: 78.24617749954767.\n",
      "[I 2020-05-16 03:42:59,659] Finished trial#26 with value: 77.4050693317483 with parameters: {'learning_rate': 0.029425188860625763, 'lambda_l2': 0.356564601390349, 'num_leaves': 44, 'max_depth': 11, 'feature_fraction': 0.7872923191189598, 'bagging_fraction': 0.9365607260398577, 'bagging_freq': 6, 'min_child_samples': 11}. Best is trial#25 with value: 78.24617749954767.\n",
      "[I 2020-05-16 03:43:04,401] Finished trial#27 with value: 78.65356810071961 with parameters: {'learning_rate': 0.04037049674329036, 'lambda_l2': 0.00010235006356810889, 'num_leaves': 45, 'max_depth': 12, 'feature_fraction': 0.9421186121921267, 'bagging_fraction': 0.8630827498269175, 'bagging_freq': 9, 'min_child_samples': 8}. Best is trial#27 with value: 78.65356810071961.\n",
      "[I 2020-05-16 03:43:08,375] Finished trial#28 with value: 75.34880993175166 with parameters: {'learning_rate': 0.03969892572325238, 'lambda_l2': 0.01562234862676879, 'num_leaves': 48, 'max_depth': 12, 'feature_fraction': 0.8554551215529195, 'bagging_fraction': 0.8022847412633541, 'bagging_freq': 10, 'min_child_samples': 15}. Best is trial#27 with value: 78.65356810071961.\n",
      "[I 2020-05-16 03:43:12,965] Finished trial#29 with value: 77.71169039188007 with parameters: {'learning_rate': 0.027561851806321067, 'lambda_l2': 0.7715931122456483, 'num_leaves': 32, 'max_depth': 14, 'feature_fraction': 0.8933690992195659, 'bagging_fraction': 0.8577412619801184, 'bagging_freq': 8, 'min_child_samples': 10}. Best is trial#27 with value: 78.65356810071961.\n",
      "[I 2020-05-16 03:43:17,949] Finished trial#30 with value: 77.84229352355723 with parameters: {'learning_rate': 0.04128084359084353, 'lambda_l2': 0.02178550695889421, 'num_leaves': 67, 'max_depth': 16, 'feature_fraction': 0.9450225610007886, 'bagging_fraction': 0.8925031209066567, 'bagging_freq': 11, 'min_child_samples': 8}. Best is trial#27 with value: 78.65356810071961.\n",
      "[I 2020-05-16 03:43:22,308] Finished trial#31 with value: 77.71727476546774 with parameters: {'learning_rate': 0.04251409511908452, 'lambda_l2': 0.06570211785602216, 'num_leaves': 67, 'max_depth': 16, 'feature_fraction': 0.955491133213712, 'bagging_fraction': 0.8919000610699555, 'bagging_freq': 11, 'min_child_samples': 8}. Best is trial#27 with value: 78.65356810071961.\n",
      "[I 2020-05-16 03:43:25,592] Finished trial#32 with value: 75.40786470654045 with parameters: {'learning_rate': 0.05556224124498513, 'lambda_l2': 0.01608393172637579, 'num_leaves': 48, 'max_depth': 16, 'feature_fraction': 0.9145664855083058, 'bagging_fraction': 0.8338099202413413, 'bagging_freq': 13, 'min_child_samples': 12}. Best is trial#27 with value: 78.65356810071961.\n",
      "[I 2020-05-16 03:43:30,898] Finished trial#33 with value: 77.55665981630064 with parameters: {'learning_rate': 0.037868726110481976, 'lambda_l2': 0.01984285779533659, 'num_leaves': 62, 'max_depth': 18, 'feature_fraction': 0.9571763404709308, 'bagging_fraction': 0.7775809190608478, 'bagging_freq': 11, 'min_child_samples': 8}. Best is trial#27 with value: 78.65356810071961.\n",
      "[I 2020-05-16 03:43:34,644] Finished trial#34 with value: 75.29713315580497 with parameters: {'learning_rate': 0.02667777210329357, 'lambda_l2': 0.06695115336510099, 'num_leaves': 40, 'max_depth': 12, 'feature_fraction': 0.8373988345652146, 'bagging_fraction': 0.6812822612403915, 'bagging_freq': 9, 'min_child_samples': 10}. Best is trial#27 with value: 78.65356810071961.\n",
      "[I 2020-05-16 03:43:39,095] Finished trial#35 with value: 77.08661392454759 with parameters: {'learning_rate': 0.04469250293769525, 'lambda_l2': 0.13623671771666201, 'num_leaves': 50, 'max_depth': 14, 'feature_fraction': 0.6875249116640092, 'bagging_fraction': 0.8724205764953278, 'bagging_freq': 12, 'min_child_samples': 5}. Best is trial#27 with value: 78.65356810071961.\n",
      "[I 2020-05-16 03:43:42,845] Finished trial#36 with value: 76.52177477559454 with parameters: {'learning_rate': 0.057714153138839805, 'lambda_l2': 0.029948233662587545, 'num_leaves': 31, 'max_depth': 13, 'feature_fraction': 0.9201250718909804, 'bagging_fraction': 0.7151239921300268, 'bagging_freq': 10, 'min_child_samples': 8}. Best is trial#27 with value: 78.65356810071961.\n",
      "[I 2020-05-16 03:43:50,468] Finished trial#37 with value: 77.15983929543495 with parameters: {'learning_rate': 0.032843808654502774, 'lambda_l2': 0.0002434730424636483, 'num_leaves': 122, 'max_depth': 16, 'feature_fraction': 0.8770090764941573, 'bagging_fraction': 0.9226398358836517, 'bagging_freq': 15, 'min_child_samples': 9}. Best is trial#27 with value: 78.65356810071961.\n",
      "[I 2020-05-16 03:43:58,726] Finished trial#38 with value: 74.9539883215315 with parameters: {'learning_rate': 0.022294164767765905, 'lambda_l2': 0.5018553803200235, 'num_leaves': 60, 'max_depth': 18, 'feature_fraction': 0.9999688453097532, 'bagging_fraction': 0.7841341530185739, 'bagging_freq': 7, 'min_child_samples': 6}. Best is trial#27 with value: 78.65356810071961.\n",
      "[I 2020-05-16 03:44:02,518] Finished trial#39 with value: 75.38939772451477 with parameters: {'learning_rate': 0.036483035395803894, 'lambda_l2': 0.23417580931943055, 'num_leaves': 37, 'max_depth': 10, 'feature_fraction': 0.7340412878281342, 'bagging_fraction': 0.7463590189010451, 'bagging_freq': 9, 'min_child_samples': 11}. Best is trial#27 with value: 78.65356810071961.\n",
      "[I 2020-05-16 03:44:07,735] Finished trial#40 with value: 76.87417106914371 with parameters: {'learning_rate': 0.05463410665347295, 'lambda_l2': 0.0049031804789911185, 'num_leaves': 68, 'max_depth': 15, 'feature_fraction': 0.6128075464895724, 'bagging_fraction': 0.9680976238140016, 'bagging_freq': 10, 'min_child_samples': 9}. Best is trial#27 with value: 78.65356810071961.\n",
      "[I 2020-05-16 03:44:12,610] Finished trial#41 with value: 77.54414460074985 with parameters: {'learning_rate': 0.04463644245397883, 'lambda_l2': 0.06838740971177142, 'num_leaves': 77, 'max_depth': 16, 'feature_fraction': 0.9657457551299352, 'bagging_fraction': 0.8831791617438522, 'bagging_freq': 12, 'min_child_samples': 8}. Best is trial#27 with value: 78.65356810071961.\n"
     ]
    },
    {
     "name": "stderr",
     "output_type": "stream",
     "text": [
      "[I 2020-05-16 03:44:18,101] Finished trial#42 with value: 78.2903797194052 with parameters: {'learning_rate': 0.041870846421769664, 'lambda_l2': 0.0994418273605788, 'num_leaves': 68, 'max_depth': 17, 'feature_fraction': 0.946062761471817, 'bagging_fraction': 0.899051993684455, 'bagging_freq': 11, 'min_child_samples': 6}. Best is trial#27 with value: 78.65356810071961.\n",
      "[I 2020-05-16 03:44:25,015] Finished trial#43 with value: 77.02216145231311 with parameters: {'learning_rate': 0.031294003414977616, 'lambda_l2': 0.12747991950703572, 'num_leaves': 56, 'max_depth': 17, 'feature_fraction': 0.9292570748304355, 'bagging_fraction': 0.8432244076820911, 'bagging_freq': 11, 'min_child_samples': 5}. Best is trial#27 with value: 78.65356810071961.\n",
      "[I 2020-05-16 03:44:31,633] Finished trial#44 with value: 75.7830914225297 with parameters: {'learning_rate': 0.06661873596919968, 'lambda_l2': 0.00010789037497219298, 'num_leaves': 81, 'max_depth': 19, 'feature_fraction': 0.976760729404563, 'bagging_fraction': 0.8168421328316972, 'bagging_freq': 13, 'min_child_samples': 6}. Best is trial#27 with value: 78.65356810071961.\n",
      "[I 2020-05-16 03:44:37,675] Finished trial#45 with value: 77.4477071587906 with parameters: {'learning_rate': 0.025727587894541482, 'lambda_l2': 0.4007287304458163, 'num_leaves': 91, 'max_depth': 17, 'feature_fraction': 0.8950124289333267, 'bagging_fraction': 0.9138912708257436, 'bagging_freq': 12, 'min_child_samples': 7}. Best is trial#27 with value: 78.65356810071961.\n",
      "[I 2020-05-16 03:44:41,178] Finished trial#46 with value: 77.05210616645586 with parameters: {'learning_rate': 0.05122462947484643, 'lambda_l2': 0.011983760427732998, 'num_leaves': 71, 'max_depth': 13, 'feature_fraction': 0.94144986005597, 'bagging_fraction': 0.8962831400471905, 'bagging_freq': 8, 'min_child_samples': 10}. Best is trial#27 with value: 78.65356810071961.\n",
      "[I 2020-05-16 03:44:47,931] Finished trial#47 with value: 75.70914348512933 with parameters: {'learning_rate': 0.02068205361293934, 'lambda_l2': 0.04415224629578601, 'num_leaves': 63, 'max_depth': 18, 'feature_fraction': 0.9713528450805369, 'bagging_fraction': 0.9626152201875391, 'bagging_freq': 6, 'min_child_samples': 4}. Best is trial#27 with value: 78.65356810071961.\n",
      "[I 2020-05-16 03:44:53,029] Finished trial#48 with value: 78.21878768113963 with parameters: {'learning_rate': 0.04007179901266234, 'lambda_l2': 0.1773419456283662, 'num_leaves': 52, 'max_depth': 15, 'feature_fraction': 0.9406157150234276, 'bagging_fraction': 0.861621003486806, 'bagging_freq': 17, 'min_child_samples': 5}. Best is trial#27 with value: 78.65356810071961.\n",
      "[I 2020-05-16 03:44:58,544] Finished trial#49 with value: 76.60382363995683 with parameters: {'learning_rate': 0.036628920253976426, 'lambda_l2': 0.8720410770408219, 'num_leaves': 52, 'max_depth': 12, 'feature_fraction': 0.816271742595807, 'bagging_fraction': 0.8619783001034836, 'bagging_freq': 17, 'min_child_samples': 5}. Best is trial#27 with value: 78.65356810071961.\n",
      "[I 2020-05-16 03:45:04,446] Finished trial#50 with value: 74.1450455825721 with parameters: {'learning_rate': 0.04862545456735358, 'lambda_l2': 0.1712378808389628, 'num_leaves': 45, 'max_depth': 10, 'feature_fraction': 0.8602196319639754, 'bagging_fraction': 0.7930178022913399, 'bagging_freq': 17, 'min_child_samples': 3}. Best is trial#27 with value: 78.65356810071961.\n",
      "[I 2020-05-16 03:45:10,933] Finished trial#51 with value: 77.96484410222924 with parameters: {'learning_rate': 0.029785260649011075, 'lambda_l2': 0.0976636331040468, 'num_leaves': 57, 'max_depth': 15, 'feature_fraction': 0.8968259181496594, 'bagging_fraction': 0.9129307293973736, 'bagging_freq': 20, 'min_child_samples': 7}. Best is trial#27 with value: 78.65356810071961.\n",
      "[I 2020-05-16 03:45:17,323] Finished trial#52 with value: 77.32694229758658 with parameters: {'learning_rate': 0.031662894822435485, 'lambda_l2': 0.2959602991901623, 'num_leaves': 56, 'max_depth': 15, 'feature_fraction': 0.9021761949247366, 'bagging_fraction': 0.9312887145642125, 'bagging_freq': 20, 'min_child_samples': 4}. Best is trial#27 with value: 78.65356810071961.\n",
      "[I 2020-05-16 03:45:23,551] Finished trial#53 with value: 77.89578738598026 with parameters: {'learning_rate': 0.02435373671689236, 'lambda_l2': 0.09391246270891519, 'num_leaves': 36, 'max_depth': 14, 'feature_fraction': 0.9816239202588367, 'bagging_fraction': 0.905419986153348, 'bagging_freq': 19, 'min_child_samples': 6}. Best is trial#27 with value: 78.65356810071961.\n",
      "[I 2020-05-16 03:45:29,752] Finished trial#54 with value: 75.24967936242976 with parameters: {'learning_rate': 0.029358612775042394, 'lambda_l2': 0.15682800381767006, 'num_leaves': 149, 'max_depth': 15, 'feature_fraction': 0.9373135865216143, 'bagging_fraction': 0.7622394627958129, 'bagging_freq': 19, 'min_child_samples': 7}. Best is trial#27 with value: 78.65356810071961.\n",
      "[I 2020-05-16 03:45:37,537] Finished trial#55 with value: 75.20225283750031 with parameters: {'learning_rate': 0.03539711169808175, 'lambda_l2': 0.08074643189977945, 'num_leaves': 52, 'max_depth': 13, 'feature_fraction': 0.9993158058827889, 'bagging_fraction': 0.8466647991892974, 'bagging_freq': 15, 'min_child_samples': 2}. Best is trial#27 with value: 78.65356810071961.\n",
      "[I 2020-05-16 03:45:43,976] Finished trial#56 with value: 77.1246689243261 with parameters: {'learning_rate': 0.03948074095093152, 'lambda_l2': 0.486609927030494, 'num_leaves': 59, 'max_depth': 11, 'feature_fraction': 0.9132509701764638, 'bagging_fraction': 0.9816666390081487, 'bagging_freq': 18, 'min_child_samples': 5}. Best is trial#27 with value: 78.65356810071961.\n",
      "[I 2020-05-16 03:45:49,612] Finished trial#57 with value: 78.53637689278119 with parameters: {'learning_rate': 0.05949367897571557, 'lambda_l2': 0.2609317048992352, 'num_leaves': 47, 'max_depth': 14, 'feature_fraction': 0.8842099113589895, 'bagging_fraction': 0.9548996826252517, 'bagging_freq': 20, 'min_child_samples': 6}. Best is trial#27 with value: 78.65356810071961.\n",
      "[I 2020-05-16 03:45:55,450] Finished trial#58 with value: 76.92051514763047 with parameters: {'learning_rate': 0.06312948937268224, 'lambda_l2': 0.24996853659109874, 'num_leaves': 46, 'max_depth': 14, 'feature_fraction': 0.9552259724431378, 'bagging_fraction': 0.9991657687213233, 'bagging_freq': 18, 'min_child_samples': 4}. Best is trial#27 with value: 78.65356810071961.\n",
      "[I 2020-05-16 03:46:00,335] Finished trial#59 with value: 78.7322657229952 with parameters: {'learning_rate': 0.0765236930349582, 'lambda_l2': 0.1732382449980424, 'num_leaves': 39, 'max_depth': 13, 'feature_fraction': 0.8806461238145772, 'bagging_fraction': 0.950893024224797, 'bagging_freq': 16, 'min_child_samples': 6}. Best is trial#59 with value: 78.7322657229952.\n",
      "[I 2020-05-16 03:46:05,097] Finished trial#60 with value: 78.34977360598685 with parameters: {'learning_rate': 0.07451759181905467, 'lambda_l2': 0.04837695611140514, 'num_leaves': 38, 'max_depth': 12, 'feature_fraction': 0.8783687435372418, 'bagging_fraction': 0.9600748271156678, 'bagging_freq': 16, 'min_child_samples': 6}. Best is trial#59 with value: 78.7322657229952.\n",
      "[I 2020-05-16 03:46:09,736] Finished trial#61 with value: 78.08006355781593 with parameters: {'learning_rate': 0.07495329728625491, 'lambda_l2': 0.042038577496830515, 'num_leaves': 41, 'max_depth': 12, 'feature_fraction': 0.8794210072805854, 'bagging_fraction': 0.9516778368152317, 'bagging_freq': 16, 'min_child_samples': 6}. Best is trial#59 with value: 78.7322657229952.\n",
      "[I 2020-05-16 03:46:14,198] Finished trial#62 with value: 76.80207072800233 with parameters: {'learning_rate': 0.07266904825589744, 'lambda_l2': 0.049530027465482296, 'num_leaves': 38, 'max_depth': 11, 'feature_fraction': 0.7672889263632436, 'bagging_fraction': 0.989728113615276, 'bagging_freq': 16, 'min_child_samples': 5}. Best is trial#59 with value: 78.7322657229952.\n"
     ]
    },
    {
     "name": "stderr",
     "output_type": "stream",
     "text": [
      "[I 2020-05-16 03:46:19,047] Finished trial#63 with value: 78.09217493478295 with parameters: {'learning_rate': 0.058485163037591804, 'lambda_l2': 0.18498449807362846, 'num_leaves': 31, 'max_depth': 13, 'feature_fraction': 0.839963644071037, 'bagging_fraction': 0.9583041350056587, 'bagging_freq': 18, 'min_child_samples': 6}. Best is trial#59 with value: 78.7322657229952.\n",
      "[I 2020-05-16 03:46:22,710] Finished trial#64 with value: 77.10270670769475 with parameters: {'learning_rate': 0.09057229199643399, 'lambda_l2': 0.11116421246512123, 'num_leaves': 36, 'max_depth': 12, 'feature_fraction': 0.8556899207802321, 'bagging_fraction': 0.9311338528459219, 'bagging_freq': 14, 'min_child_samples': 9}. Best is trial#59 with value: 78.7322657229952.\n",
      "[I 2020-05-16 03:46:26,969] Finished trial#65 with value: 78.86381349692621 with parameters: {'learning_rate': 0.06984254522314519, 'lambda_l2': 0.30041224341775447, 'num_leaves': 43, 'max_depth': 11, 'feature_fraction': 0.9276638806092434, 'bagging_fraction': 0.979662349850431, 'bagging_freq': 16, 'min_child_samples': 7}. Best is trial#65 with value: 78.86381349692621.\n",
      "[I 2020-05-16 03:46:31,297] Finished trial#66 with value: 77.66402116995282 with parameters: {'learning_rate': 0.06930194073659224, 'lambda_l2': 0.5847033889154815, 'num_leaves': 44, 'max_depth': 9, 'feature_fraction': 0.8872273720883933, 'bagging_fraction': 0.9800627960512435, 'bagging_freq': 16, 'min_child_samples': 8}. Best is trial#65 with value: 78.86381349692621.\n",
      "[I 2020-05-16 03:46:35,430] Finished trial#67 with value: 77.70099912524971 with parameters: {'learning_rate': 0.08146064031578451, 'lambda_l2': 0.026558390851613215, 'num_leaves': 33, 'max_depth': 10, 'feature_fraction': 0.9182839289134502, 'bagging_fraction': 0.9423874551128295, 'bagging_freq': 15, 'min_child_samples': 7}. Best is trial#65 with value: 78.86381349692621.\n",
      "[I 2020-05-16 03:46:39,672] Finished trial#68 with value: 77.52065274938667 with parameters: {'learning_rate': 0.09915655450120932, 'lambda_l2': 0.3680480523870872, 'num_leaves': 49, 'max_depth': 11, 'feature_fraction': 0.8200411819987206, 'bagging_fraction': 0.999355084646802, 'bagging_freq': 14, 'min_child_samples': 7}. Best is trial#65 with value: 78.86381349692621.\n",
      "[I 2020-05-16 03:46:43,679] Finished trial#69 with value: 74.13514852550415 with parameters: {'learning_rate': 0.06247739762437222, 'lambda_l2': 0.056694517791936794, 'num_leaves': 40, 'max_depth': 11, 'feature_fraction': 0.8668054572955923, 'bagging_fraction': 0.5325298784207724, 'bagging_freq': 16, 'min_child_samples': 9}. Best is trial#65 with value: 78.86381349692621.\n",
      "[I 2020-05-16 03:46:48,615] Finished trial#70 with value: 78.40513481008678 with parameters: {'learning_rate': 0.053108852765986314, 'lambda_l2': 0.006995612051198141, 'num_leaves': 42, 'max_depth': 12, 'feature_fraction': 0.907638923141849, 'bagging_fraction': 0.9656770268347523, 'bagging_freq': 13, 'min_child_samples': 6}. Best is trial#65 with value: 78.86381349692621.\n",
      "[I 2020-05-16 03:46:53,127] Finished trial#71 with value: 79.02210868629757 with parameters: {'learning_rate': 0.054859611738095955, 'lambda_l2': 0.2742879261503182, 'num_leaves': 43, 'max_depth': 12, 'feature_fraction': 0.9289553279057612, 'bagging_fraction': 0.9645092908448899, 'bagging_freq': 13, 'min_child_samples': 6}. Best is trial#71 with value: 79.02210868629757.\n",
      "[I 2020-05-16 03:46:57,327] Finished trial#72 with value: 78.19458960596008 with parameters: {'learning_rate': 0.07897919147412916, 'lambda_l2': 0.25073509350047696, 'num_leaves': 34, 'max_depth': 12, 'feature_fraction': 0.9265471731405706, 'bagging_fraction': 0.9731632031837185, 'bagging_freq': 14, 'min_child_samples': 6}. Best is trial#71 with value: 79.02210868629757.\n",
      "[I 2020-05-16 03:47:02,809] Finished trial#73 with value: 76.86395849623894 with parameters: {'learning_rate': 0.051926033304816356, 'lambda_l2': 0.6799089510991877, 'num_leaves': 40, 'max_depth': 12, 'feature_fraction': 0.9067407829057061, 'bagging_fraction': 0.9251338364104443, 'bagging_freq': 13, 'min_child_samples': 4}. Best is trial#71 with value: 79.02210868629757.\n",
      "[I 2020-05-16 03:47:08,049] Finished trial#74 with value: 77.96944925280351 with parameters: {'learning_rate': 0.046159415445686705, 'lambda_l2': 0.3660403873319637, 'num_leaves': 43, 'max_depth': 13, 'feature_fraction': 0.8849593609712044, 'bagging_fraction': 0.9632873039681333, 'bagging_freq': 12, 'min_child_samples': 6}. Best is trial#71 with value: 79.02210868629757.\n",
      "[I 2020-05-16 03:47:15,460] Finished trial#75 with value: 77.30070899403121 with parameters: {'learning_rate': 0.06940754127318578, 'lambda_l2': 0.0015073392168690417, 'num_leaves': 47, 'max_depth': 12, 'feature_fraction': 0.9254360525716333, 'bagging_fraction': 0.9460733447038857, 'bagging_freq': 13, 'min_child_samples': 7}. Best is trial#71 with value: 79.02210868629757.\n",
      "[I 2020-05-16 03:47:20,226] Finished trial#76 with value: 77.76431005502697 with parameters: {'learning_rate': 0.08880335782186079, 'lambda_l2': 0.00045631769748933785, 'num_leaves': 34, 'max_depth': 13, 'feature_fraction': 0.8379170810351931, 'bagging_fraction': 0.9796059274108418, 'bagging_freq': 14, 'min_child_samples': 7}. Best is trial#71 with value: 79.02210868629757.\n",
      "[I 2020-05-16 03:47:25,640] Finished trial#77 with value: 77.74804883017984 with parameters: {'learning_rate': 0.06140624335661295, 'lambda_l2': 0.9996950511090391, 'num_leaves': 50, 'max_depth': 11, 'feature_fraction': 0.868537263968235, 'bagging_fraction': 0.9560618787562407, 'bagging_freq': 10, 'min_child_samples': 5}. Best is trial#71 with value: 79.02210868629757.\n",
      "[I 2020-05-16 03:47:31,394] Finished trial#78 with value: 77.15639510631097 with parameters: {'learning_rate': 0.052168733168491695, 'lambda_l2': 0.27648353085311067, 'num_leaves': 38, 'max_depth': 12, 'feature_fraction': 0.9057586505829678, 'bagging_fraction': 0.9164554569896145, 'bagging_freq': 13, 'min_child_samples': 4}. Best is trial#71 with value: 79.02210868629757.\n",
      "[I 2020-05-16 03:47:35,582] Finished trial#79 with value: 77.41651656666899 with parameters: {'learning_rate': 0.06633000349632298, 'lambda_l2': 0.13648542482731874, 'num_leaves': 64, 'max_depth': 20, 'feature_fraction': 0.9504223225488737, 'bagging_fraction': 0.9359908308255575, 'bagging_freq': 9, 'min_child_samples': 8}. Best is trial#71 with value: 79.02210868629757.\n",
      "[I 2020-05-16 03:47:40,557] Finished trial#80 with value: 77.51427497637768 with parameters: {'learning_rate': 0.07273486865550953, 'lambda_l2': 0.18908733664013297, 'num_leaves': 31, 'max_depth': 14, 'feature_fraction': 0.9871696745338336, 'bagging_fraction': 0.8760360428869347, 'bagging_freq': 15, 'min_child_samples': 6}. Best is trial#71 with value: 79.02210868629757.\n",
      "[I 2020-05-16 03:47:45,063] Finished trial#81 with value: 77.49030026002812 with parameters: {'learning_rate': 0.05775901910735873, 'lambda_l2': 0.011886114934836739, 'num_leaves': 43, 'max_depth': 10, 'feature_fraction': 0.9620151176059893, 'bagging_fraction': 0.9945605162695356, 'bagging_freq': 11, 'min_child_samples': 8}. Best is trial#71 with value: 79.02210868629757.\n",
      "[I 2020-05-16 03:47:51,995] Finished trial#82 with value: 78.54359727204326 with parameters: {'learning_rate': 0.04397736484232352, 'lambda_l2': 0.007075433785046572, 'num_leaves': 46, 'max_depth': 12, 'feature_fraction': 0.9312699485851369, 'bagging_fraction': 0.9689646552720191, 'bagging_freq': 12, 'min_child_samples': 5}. Best is trial#71 with value: 79.02210868629757.\n",
      "[I 2020-05-16 03:47:57,972] Finished trial#83 with value: 78.09174341257291 with parameters: {'learning_rate': 0.044169140434427934, 'lambda_l2': 0.005626572175876385, 'num_leaves': 54, 'max_depth': 12, 'feature_fraction': 0.9317615689511384, 'bagging_fraction': 0.9678317262288217, 'bagging_freq': 12, 'min_child_samples': 5}. Best is trial#71 with value: 79.02210868629757.\n"
     ]
    },
    {
     "name": "stderr",
     "output_type": "stream",
     "text": [
      "[I 2020-05-16 03:48:04,844] Finished trial#84 with value: 76.04174530197679 with parameters: {'learning_rate': 0.05477474239524514, 'lambda_l2': 0.0022214500358145022, 'num_leaves': 46, 'max_depth': 13, 'feature_fraction': 0.8897916604067987, 'bagging_fraction': 0.9499543535452128, 'bagging_freq': 14, 'min_child_samples': 3}. Best is trial#71 with value: 79.02210868629757.\n",
      "[I 2020-05-16 03:48:10,759] Finished trial#85 with value: 77.48079042182323 with parameters: {'learning_rate': 0.0478795853653031, 'lambda_l2': 0.0031356955774460094, 'num_leaves': 42, 'max_depth': 13, 'feature_fraction': 0.915710097613244, 'bagging_fraction': 0.9034334289002813, 'bagging_freq': 12, 'min_child_samples': 6}. Best is trial#71 with value: 79.02210868629757.\n",
      "[I 2020-05-16 03:48:19,225] Finished trial#86 with value: 78.1962844671899 with parameters: {'learning_rate': 0.04203968635569177, 'lambda_l2': 0.0062895249025224816, 'num_leaves': 49, 'max_depth': 11, 'feature_fraction': 0.9446032712046498, 'bagging_fraction': 0.9848954664909305, 'bagging_freq': 10, 'min_child_samples': 7}. Best is trial#71 with value: 79.02210868629757.\n",
      "[I 2020-05-16 03:48:24,571] Finished trial#87 with value: 77.7804479594025 with parameters: {'learning_rate': 0.06099950186364476, 'lambda_l2': 0.0073933017670810815, 'num_leaves': 38, 'max_depth': 12, 'feature_fraction': 0.9680777810742551, 'bagging_fraction': 0.9285623687096218, 'bagging_freq': 13, 'min_child_samples': 5}. Best is trial#71 with value: 79.02210868629757.\n",
      "[I 2020-05-16 03:48:29,822] Finished trial#88 with value: 76.4438599395763 with parameters: {'learning_rate': 0.06522271393040262, 'lambda_l2': 0.009988077876199607, 'num_leaves': 35, 'max_depth': 12, 'feature_fraction': 0.848628154165535, 'bagging_fraction': 0.888083150427267, 'bagging_freq': 11, 'min_child_samples': 4}. Best is trial#71 with value: 79.02210868629757.\n",
      "[I 2020-05-16 03:48:35,084] Finished trial#89 with value: 78.3793336857627 with parameters: {'learning_rate': 0.053743326598966815, 'lambda_l2': 0.5104990447178122, 'num_leaves': 54, 'max_depth': 14, 'feature_fraction': 0.9026751295380344, 'bagging_fraction': 0.9664259254200656, 'bagging_freq': 16, 'min_child_samples': 6}. Best is trial#71 with value: 79.02210868629757.\n",
      "[I 2020-05-16 03:48:40,115] Finished trial#90 with value: 77.664247940429 with parameters: {'learning_rate': 0.05453089991682104, 'lambda_l2': 0.30115984055322753, 'num_leaves': 53, 'max_depth': 14, 'feature_fraction': 0.8731280519850418, 'bagging_fraction': 0.9729979415762928, 'bagging_freq': 17, 'min_child_samples': 6}. Best is trial#71 with value: 79.02210868629757.\n",
      "[I 2020-05-16 03:48:45,163] Finished trial#91 with value: 78.01738954052078 with parameters: {'learning_rate': 0.04949230957346301, 'lambda_l2': 0.4570968348227925, 'num_leaves': 95, 'max_depth': 13, 'feature_fraction': 0.9029354110455633, 'bagging_fraction': 0.9599276564865178, 'bagging_freq': 16, 'min_child_samples': 6}. Best is trial#71 with value: 79.02210868629757.\n",
      "[I 2020-05-16 03:48:50,234] Finished trial#92 with value: 76.84567667330595 with parameters: {'learning_rate': 0.04444787296291962, 'lambda_l2': 0.5795171273268165, 'num_leaves': 47, 'max_depth': 11, 'feature_fraction': 0.931834557713503, 'bagging_fraction': 0.9458842535529184, 'bagging_freq': 15, 'min_child_samples': 7}. Best is trial#71 with value: 79.02210868629757.\n",
      "[I 2020-05-16 03:48:55,743] Finished trial#93 with value: 76.73382444242648 with parameters: {'learning_rate': 0.05982885435078972, 'lambda_l2': 0.2168996042581592, 'num_leaves': 59, 'max_depth': 14, 'feature_fraction': 0.91339929312415, 'bagging_fraction': 0.9381609352098681, 'bagging_freq': 17, 'min_child_samples': 5}. Best is trial#71 with value: 79.02210868629757.\n",
      "[I 2020-05-16 03:49:00,937] Finished trial#94 with value: 78.75705018321177 with parameters: {'learning_rate': 0.05323817750573005, 'lambda_l2': 0.07913210494566521, 'num_leaves': 50, 'max_depth': 13, 'feature_fraction': 0.8928779298862449, 'bagging_fraction': 0.9902142514020115, 'bagging_freq': 18, 'min_child_samples': 7}. Best is trial#71 with value: 79.02210868629757.\n",
      "[I 2020-05-16 03:49:05,383] Finished trial#95 with value: 78.64750816685125 with parameters: {'learning_rate': 0.05356722573713268, 'lambda_l2': 0.33937788148242515, 'num_leaves': 40, 'max_depth': 13, 'feature_fraction': 0.8921533590549339, 'bagging_fraction': 0.9892509127991829, 'bagging_freq': 18, 'min_child_samples': 8}. Best is trial#71 with value: 79.02210868629757.\n",
      "[I 2020-05-16 03:49:09,542] Finished trial#96 with value: 77.03303332250438 with parameters: {'learning_rate': 0.05236521694101002, 'lambda_l2': 0.790830433795125, 'num_leaves': 50, 'max_depth': 13, 'feature_fraction': 0.8997676466362049, 'bagging_fraction': 0.9836685183749532, 'bagging_freq': 19, 'min_child_samples': 8}. Best is trial#71 with value: 79.02210868629757.\n",
      "[I 2020-05-16 03:49:13,763] Finished trial#97 with value: 77.48612907119072 with parameters: {'learning_rate': 0.0475410884981116, 'lambda_l2': 0.36162717339767875, 'num_leaves': 55, 'max_depth': 14, 'feature_fraction': 0.8900866187568253, 'bagging_fraction': 0.9896200520593996, 'bagging_freq': 18, 'min_child_samples': 10}. Best is trial#71 with value: 79.02210868629757.\n",
      "[I 2020-05-16 03:49:18,454] Finished trial#98 with value: 78.06995863724512 with parameters: {'learning_rate': 0.05595722708361787, 'lambda_l2': 0.45221925563358045, 'num_leaves': 44, 'max_depth': 13, 'feature_fraction': 0.8649938160004809, 'bagging_fraction': 0.9718106997278211, 'bagging_freq': 20, 'min_child_samples': 9}. Best is trial#71 with value: 79.02210868629757.\n",
      "[I 2020-05-16 03:49:23,538] Finished trial#99 with value: 78.7308094759515 with parameters: {'learning_rate': 0.053415320081483905, 'lambda_l2': 0.00010643056680175395, 'num_leaves': 41, 'max_depth': 13, 'feature_fraction': 0.9222674383104758, 'bagging_fraction': 0.9993587010113635, 'bagging_freq': 19, 'min_child_samples': 8}. Best is trial#71 with value: 79.02210868629757.\n"
     ]
    }
   ],
   "source": [
    "study = optuna.create_study(direction=\"maximize\")\n",
    "study.optimize(objective, n_trials=100)"
   ]
  },
  {
   "cell_type": "code",
   "execution_count": 49,
   "metadata": {},
   "outputs": [
    {
     "name": "stdout",
     "output_type": "stream",
     "text": [
      "Number of finished trials: 100\n",
      "Best trial:\n",
      "Value: 79.02210868629757\n",
      "Params: \n",
      " learning_rate: 0.054859611738095955\n",
      " lambda_l2: 0.2742879261503182\n",
      " num_leaves: 43\n",
      " max_depth: 12\n",
      " feature_fraction: 0.9289553279057612\n",
      " bagging_fraction: 0.9645092908448899\n",
      " bagging_freq: 13\n",
      " min_child_samples: 6\n"
     ]
    }
   ],
   "source": [
    "print(\"Number of finished trials: {}\".format(len(study.trials)))\n",
    "\n",
    "print(\"Best trial:\")\n",
    "trial = study.best_trial\n",
    "\n",
    "print(\"Value: {}\".format(trial.value))\n",
    "\n",
    "print(\"Params: \")\n",
    "for key, value in trial.params.items():\n",
    "    print(\" {}: {}\".format(key, value))"
   ]
  },
  {
   "cell_type": "markdown",
   "metadata": {},
   "source": [
    "## Build the model"
   ]
  },
  {
   "cell_type": "code",
   "execution_count": 50,
   "metadata": {},
   "outputs": [],
   "source": [
    "# Define model hyperparameters\n",
    "params = {}\n",
    "params[\"objective\"] = 'multiclass'\n",
    "params[\"metric\"] = 'multi_logloss'\n",
    "params[\"num_class\"] = 2\n",
    "#params[\"is_unbalance\"] = True\n",
    "params[\"boosting\"] = 'gbdt'\n",
    "params[\"max_depth\"] = 12\n",
    "params[\"num_leaves\"] = 43\n",
    "params[\"learning_rate\"] = 0.055\n",
    "params[\"bagging_fraction\"] = 0.96\n",
    "params[\"feature_fraction\"] = 0.93\n",
    "params[\"bagging_freq\"] = 13\n",
    "params[\"bagging_seed\"] = 10\n",
    "params[\"lambda_l2\"] = 0.27\n",
    "params[\"min_data_in_leaf\"] = 6\n",
    "params[\"verbosity\"] = -1\n",
    "num_rounds = 5000"
   ]
  },
  {
   "cell_type": "code",
   "execution_count": 51,
   "metadata": {},
   "outputs": [],
   "source": [
    "# Define 5-fold cross validation test harness\n",
    "kfold = StratifiedKFold(n_splits=5, shuffle=True, random_state=10)\n",
    "y_pred = 0"
   ]
  },
  {
   "cell_type": "code",
   "execution_count": 52,
   "metadata": {},
   "outputs": [
    {
     "name": "stdout",
     "output_type": "stream",
     "text": [
      "Training until validation scores don't improve for 200 rounds\n",
      "Early stopping, best iteration is:\n",
      "[74]\tvalid_0's multi_logloss: 0.269174\n",
      "Training until validation scores don't improve for 200 rounds\n",
      "Early stopping, best iteration is:\n",
      "[78]\tvalid_0's multi_logloss: 0.250446\n",
      "Training until validation scores don't improve for 200 rounds\n",
      "Early stopping, best iteration is:\n",
      "[53]\tvalid_0's multi_logloss: 0.289549\n",
      "Training until validation scores don't improve for 200 rounds\n",
      "Early stopping, best iteration is:\n",
      "[41]\tvalid_0's multi_logloss: 0.311211\n",
      "Training until validation scores don't improve for 200 rounds\n",
      "Early stopping, best iteration is:\n",
      "[48]\tvalid_0's multi_logloss: 0.34458\n"
     ]
    }
   ],
   "source": [
    "# Train the model using K-fold\n",
    "counter = 0\n",
    "\n",
    "for train, val in kfold.split(Xtrain, Ytrain):\n",
    "    counter += 1\n",
    "\n",
    "    train_x, train_y = Xtrain[train], Ytrain[train]\n",
    "    val_x, val_y = Xtrain[val], Ytrain[val]\n",
    "\n",
    "    lgtrain = lgb.Dataset(train_x, label=train_y.ravel())\n",
    "    lgvalidation = lgb.Dataset(val_x, label=val_y.ravel())\n",
    "\n",
    "    model = lgb.train(params, lgtrain, num_rounds, valid_sets=[lgvalidation], early_stopping_rounds=200, verbose_eval=1000)\n",
    "    pred = model.predict(Xtest, num_iteration=model.best_iteration)\n",
    "\n",
    "    y_pred += pred\n",
    "\n",
    "y_pred /= float(counter)"
   ]
  },
  {
   "cell_type": "markdown",
   "metadata": {},
   "source": [
    "## Validate the model"
   ]
  },
  {
   "cell_type": "code",
   "execution_count": 53,
   "metadata": {},
   "outputs": [
    {
     "name": "stdout",
     "output_type": "stream",
     "text": [
      "Overall log_loss of model: 0.21650643986361998\n"
     ]
    }
   ],
   "source": [
    "#Print log_loss\n",
    "loss = log_loss(test_y, y_pred)\n",
    "print('Overall log_loss of model:', loss)"
   ]
  },
  {
   "cell_type": "code",
   "execution_count": 54,
   "metadata": {},
   "outputs": [
    {
     "name": "stdout",
     "output_type": "stream",
     "text": [
      "Overall accuracy of ANN model: 0.926829268292683\n"
     ]
    }
   ],
   "source": [
    "#Print accuracy\n",
    "y_pred_binary = np.array([np.argmax(y_pred, axis=1)]).T\n",
    "acc_score = accuracy_score(Ytest, y_pred_binary)\n",
    "print('Overall accuracy of ANN model:', acc_score)"
   ]
  },
  {
   "cell_type": "code",
   "execution_count": 55,
   "metadata": {},
   "outputs": [
    {
     "data": {
      "image/png": "[encoded data removed]",
      "text/plain": [
       "<Figure size 432x288 with 1 Axes>"
      ]
     },
     "metadata": {
      "needs_background": "light"
     },
     "output_type": "display_data"
    },
    {
     "name": "stdout",
     "output_type": "stream",
     "text": [
      "AUC score: 0.9141025641025642\n"
     ]
    }
   ],
   "source": [
    "#Print Area Under Curve\n",
    "plt.figure()\n",
    "false_positive_rate, recall, thresholds = roc_curve(Ytest, y_pred_binary)\n",
    "roc_auc = auc(false_positive_rate, recall)\n",
    "plt.title('Receiver Operating Characteristic (ROC)')\n",
    "plt.plot(false_positive_rate, recall, 'b', label = 'AUC = %0.3f' %roc_auc)\n",
    "plt.legend(loc='lower right')\n",
    "plt.plot([0,1], [0,1], 'r--')\n",
    "plt.xlim([0.0,1.0])\n",
    "plt.ylim([0.0,1.0])\n",
    "plt.ylabel('Recall')\n",
    "plt.xlabel('Fall-out (1-Specificity)')\n",
    "plt.show()\n",
    "\n",
    "print('AUC score:', roc_auc)"
   ]
  },
  {
   "cell_type": "code",
   "execution_count": 56,
   "metadata": {},
   "outputs": [
    {
     "data": {
      "image/png": "[encoded data removed]",
      "text/plain": [
       "<Figure size 432x288 with 2 Axes>"
      ]
     },
     "metadata": {
      "needs_background": "light"
     },
     "output_type": "display_data"
    }
   ],
   "source": [
    "#Print Confusion Matrix\n",
    "cm = confusion_matrix(Ytest, y_pred_binary)\n",
    "labels = ['0', '1']\n",
    "sns.heatmap(cm, xticklabels = labels, yticklabels = labels, annot = True, fmt='d', cmap=\"Blues\", vmin = 0.5);\n",
    "plt.title('Confusion Matrix')\n",
    "plt.ylabel('True Class')\n",
    "plt.xlabel('Predicted Class')\n",
    "plt.show()"
   ]
  },
  {
   "cell_type": "markdown",
   "metadata": {},
   "source": [
    "## Train model on entire data"
   ]
  },
  {
   "cell_type": "code",
   "execution_count": 57,
   "metadata": {},
   "outputs": [],
   "source": [
    "# Define 5-fold cross validation test harness\n",
    "kfold = StratifiedKFold(n_splits=5, shuffle=True, random_state=10)\n",
    "y_pred = 0"
   ]
  },
  {
   "cell_type": "code",
   "execution_count": 58,
   "metadata": {},
   "outputs": [
    {
     "name": "stdout",
     "output_type": "stream",
     "text": [
      "Training until validation scores don't improve for 200 rounds\n",
      "Early stopping, best iteration is:\n",
      "[38]\tvalid_0's multi_logloss: 0.346233\n",
      "Training until validation scores don't improve for 200 rounds\n",
      "Early stopping, best iteration is:\n",
      "[56]\tvalid_0's multi_logloss: 0.298863\n",
      "Training until validation scores don't improve for 200 rounds\n",
      "Early stopping, best iteration is:\n",
      "[49]\tvalid_0's multi_logloss: 0.301\n",
      "Training until validation scores don't improve for 200 rounds\n",
      "Early stopping, best iteration is:\n",
      "[126]\tvalid_0's multi_logloss: 0.163783\n",
      "Training until validation scores don't improve for 200 rounds\n",
      "Early stopping, best iteration is:\n",
      "[70]\tvalid_0's multi_logloss: 0.288062\n"
     ]
    }
   ],
   "source": [
    "# Train the model using K-fold\n",
    "counter = 0\n",
    "\n",
    "for train, val in kfold.split(Xtrain_full, Ytrain_full):\n",
    "    counter += 1\n",
    "\n",
    "    train_x, train_y = Xtrain_full[train], Ytrain_full[train]\n",
    "    val_x, val_y = Xtrain_full[val], Ytrain_full[val]\n",
    "\n",
    "    lgtrain = lgb.Dataset(train_x, label=train_y.ravel())\n",
    "    lgvalidation = lgb.Dataset(val_x, label=val_y.ravel())\n",
    "\n",
    "    model = lgb.train(params, lgtrain, num_rounds, valid_sets=[lgvalidation], early_stopping_rounds=200, verbose_eval=1000)\n",
    "    pred = model.predict(Xpredict, num_iteration=model.best_iteration)\n",
    "\n",
    "    y_pred += pred\n",
    "\n",
    "y_pred /= float(counter)"
   ]
  },
  {
   "cell_type": "markdown",
   "metadata": {},
   "source": [
    "## Create submission file"
   ]
  },
  {
   "cell_type": "code",
   "execution_count": 59,
   "metadata": {},
   "outputs": [
    {
     "data": {
      "text/html": [
       "<div>\n",
       "<style scoped>\n",
       "    .dataframe tbody tr th:only-of-type {\n",
       "        vertical-align: middle;\n",
       "    }\n",
       "\n",
       "    .dataframe tbody tr th {\n",
       "        vertical-align: top;\n",
       "    }\n",
       "\n",
       "    .dataframe thead th {\n",
       "        text-align: right;\n",
       "    }\n",
       "</style>\n",
       "<table border=\"1\" class=\"dataframe\">\n",
       "  <thead>\n",
       "    <tr style=\"text-align: right;\">\n",
       "      <th></th>\n",
       "      <th>0</th>\n",
       "      <th>1</th>\n",
       "    </tr>\n",
       "  </thead>\n",
       "  <tbody>\n",
       "    <tr>\n",
       "      <th>0</th>\n",
       "      <td>0.026137</td>\n",
       "      <td>0.973863</td>\n",
       "    </tr>\n",
       "    <tr>\n",
       "      <th>1</th>\n",
       "      <td>0.193604</td>\n",
       "      <td>0.806396</td>\n",
       "    </tr>\n",
       "    <tr>\n",
       "      <th>2</th>\n",
       "      <td>0.776140</td>\n",
       "      <td>0.223860</td>\n",
       "    </tr>\n",
       "    <tr>\n",
       "      <th>3</th>\n",
       "      <td>0.026140</td>\n",
       "      <td>0.973860</td>\n",
       "    </tr>\n",
       "    <tr>\n",
       "      <th>4</th>\n",
       "      <td>0.097606</td>\n",
       "      <td>0.902394</td>\n",
       "    </tr>\n",
       "  </tbody>\n",
       "</table>\n",
       "</div>"
      ],
      "text/plain": [
       "          0         1\n",
       "0  0.026137  0.973863\n",
       "1  0.193604  0.806396\n",
       "2  0.776140  0.223860\n",
       "3  0.026140  0.973860\n",
       "4  0.097606  0.902394"
      ]
     },
     "execution_count": 59,
     "metadata": {},
     "output_type": "execute_result"
    }
   ],
   "source": [
    "submit_df = pd.DataFrame(y_pred, columns=['0','1'])\n",
    "submit_df.head()"
   ]
  },
  {
   "cell_type": "code",
   "execution_count": 60,
   "metadata": {},
   "outputs": [],
   "source": [
    "submit_df.to_excel(\"Predictions/predictions_v4.xlsx\", index=False)"
   ]
  },
  {
   "cell_type": "code",
   "execution_count": null,
   "metadata": {},
   "outputs": [],
   "source": []
  }
 ],
 "metadata": {
  "kernelspec": {
   "display_name": "Python 3",
   "language": "python",
   "name": "python3"
  },
  "language_info": {
   "codemirror_mode": {
    "name": "ipython",
    "version": 3
   },
   "file_extension": ".py",
   "mimetype": "text/x-python",
   "name": "python",
   "nbconvert_exporter": "python",
   "pygments_lexer": "ipython3",
   "version": "3.7.7"
  }
 },
 "nbformat": 4,
 "nbformat_minor": 4
}
