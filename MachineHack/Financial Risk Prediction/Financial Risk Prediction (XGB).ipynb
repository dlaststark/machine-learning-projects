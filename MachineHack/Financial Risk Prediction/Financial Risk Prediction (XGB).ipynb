{
 "cells": [
  {
   "cell_type": "markdown",
   "metadata": {},
   "source": [
    "## Import Packages"
   ]
  },
  {
   "cell_type": "code",
   "execution_count": 1,
   "metadata": {},
   "outputs": [],
   "source": [
    "import pandas as pd\n",
    "import numpy as np\n",
    "import matplotlib.pyplot as plt\n",
    "import seaborn as sns\n",
    "from scipy.stats import boxcox\n",
    "from sklearn.preprocessing import MinMaxScaler\n",
    "from sklearn.metrics import log_loss, f1_score, roc_curve, auc, confusion_matrix, accuracy_score\n",
    "from sklearn.model_selection import StratifiedKFold, StratifiedShuffleSplit\n",
    "from xgboost import XGBRegressor\n",
    "import optuna"
   ]
  },
  {
   "cell_type": "markdown",
   "metadata": {},
   "source": [
    "## Set file paths for train and predict datasets"
   ]
  },
  {
   "cell_type": "code",
   "execution_count": 2,
   "metadata": {},
   "outputs": [],
   "source": [
    "train_dataset = \"Dataset/Train.csv\"\n",
    "predict_dataset = \"Dataset/Test.csv\""
   ]
  },
  {
   "cell_type": "markdown",
   "metadata": {},
   "source": [
    "## Exploratory Data Analysis"
   ]
  },
  {
   "cell_type": "markdown",
   "metadata": {},
   "source": [
    "#### Get train dataset info"
   ]
  },
  {
   "cell_type": "code",
   "execution_count": null,
   "metadata": {},
   "outputs": [],
   "source": [
    "train_df = pd.read_csv(train_dataset)\n",
    "train_df.head()"
   ]
  },
  {
   "cell_type": "code",
   "execution_count": null,
   "metadata": {},
   "outputs": [],
   "source": [
    "train_df.info(verbose=True)"
   ]
  },
  {
   "cell_type": "markdown",
   "metadata": {},
   "source": [
    "#### Get predict dataset info"
   ]
  },
  {
   "cell_type": "code",
   "execution_count": null,
   "metadata": {},
   "outputs": [],
   "source": [
    "predict_df = pd.read_csv(predict_dataset)\n",
    "predict_df.head()"
   ]
  },
  {
   "cell_type": "code",
   "execution_count": null,
   "metadata": {},
   "outputs": [],
   "source": [
    "predict_df.info(verbose=True)"
   ]
  },
  {
   "cell_type": "markdown",
   "metadata": {},
   "source": [
    "#### Count plot of target variable"
   ]
  },
  {
   "cell_type": "code",
   "execution_count": null,
   "metadata": {},
   "outputs": [],
   "source": [
    "plt.figure(figsize=(10,6))\n",
    "sns.countplot(x=\"IsUnderRisk\", data=train_df).set_title('Count plot of \"IsUnderRisk\" data')\n",
    "plt.grid()"
   ]
  },
  {
   "cell_type": "markdown",
   "metadata": {},
   "source": [
    "#### Examine class imbalance"
   ]
  },
  {
   "cell_type": "code",
   "execution_count": null,
   "metadata": {},
   "outputs": [],
   "source": [
    "neg, pos = np.bincount(train_df['IsUnderRisk'])\n",
    "total = neg + pos\n",
    "print('Total: {}\\n  Positive: {} ({:.2f}% of total)\\n  Negative: {} ({:.2f}% of total)\\n'.format(\n",
    "    total, pos, 100 * pos / total, neg, 100 * neg / total))"
   ]
  },
  {
   "cell_type": "markdown",
   "metadata": {},
   "source": [
    "#### Get correlation between different features"
   ]
  },
  {
   "cell_type": "code",
   "execution_count": null,
   "metadata": {},
   "outputs": [],
   "source": [
    "plt.figure(figsize=(10,6))\n",
    "ax = sns.heatmap(train_df.corr(), annot=True, linewidth = 0.5, cmap='coolwarm')\n",
    "plt.show()"
   ]
  },
  {
   "cell_type": "markdown",
   "metadata": {},
   "source": [
    "#### Examine data distribution in different fields"
   ]
  },
  {
   "cell_type": "code",
   "execution_count": null,
   "metadata": {},
   "outputs": [],
   "source": [
    "fig, ax = plt.subplots()\n",
    "train_df['Internal_Audit_Score'].hist(color='#A9C5D3', edgecolor='black', grid=True)\n",
    "ax.set_title('Internal_Audit_Score Histogram', fontsize=12)\n",
    "ax.set_xlabel('Internal_Audit_Score', fontsize=12)\n",
    "ax.set_ylabel('Frequency', fontsize=12)"
   ]
  },
  {
   "cell_type": "code",
   "execution_count": null,
   "metadata": {},
   "outputs": [],
   "source": [
    "fig, ax = plt.subplots()\n",
    "train_df['External_Audit_Score'].hist(color='#A9C5D3', edgecolor='black', grid=True)\n",
    "ax.set_title('External_Audit_Score Histogram', fontsize=12)\n",
    "ax.set_xlabel('External_Audit_Score', fontsize=12)\n",
    "ax.set_ylabel('Frequency', fontsize=12)"
   ]
  },
  {
   "cell_type": "code",
   "execution_count": null,
   "metadata": {},
   "outputs": [],
   "source": [
    "x = np.log1p(train_df['Loss_score'])\n",
    "sns.distplot(x)\n",
    "plt.grid()"
   ]
  },
  {
   "cell_type": "code",
   "execution_count": null,
   "metadata": {},
   "outputs": [],
   "source": [
    "fig, ax = plt.subplots()\n",
    "train_df['Fin_Score'].hist(color='#A9C5D3', edgecolor='black', grid=True)\n",
    "ax.set_title('Fin_Score Histogram', fontsize=12)\n",
    "ax.set_xlabel('Fin_Score', fontsize=12)\n",
    "ax.set_ylabel('Frequency', fontsize=12)"
   ]
  },
  {
   "cell_type": "code",
   "execution_count": null,
   "metadata": {},
   "outputs": [],
   "source": [
    "fig, ax = plt.subplots()\n",
    "train_df['Loss_score'].hist(color='#A9C5D3', edgecolor='black', grid=True)\n",
    "ax.set_title('Loss_score Histogram', fontsize=12)\n",
    "ax.set_xlabel('Loss_score', fontsize=12)\n",
    "ax.set_ylabel('Frequency', fontsize=12)"
   ]
  },
  {
   "cell_type": "code",
   "execution_count": null,
   "metadata": {},
   "outputs": [],
   "source": [
    "fig, ax = plt.subplots()\n",
    "train_df['Past_Results'].hist(color='#A9C5D3', edgecolor='black', grid=True)\n",
    "ax.set_title('Past_Results Histogram', fontsize=12)\n",
    "ax.set_xlabel('Past_Results', fontsize=12)\n",
    "ax.set_ylabel('Frequency', fontsize=12)"
   ]
  },
  {
   "cell_type": "code",
   "execution_count": null,
   "metadata": {},
   "outputs": [],
   "source": [
    "fig, ax = plt.subplots()\n",
    "np.log1p(train_df['Location_Score']).hist(color='#A9C5D3', edgecolor='black', grid=True)\n",
    "ax.set_title('Location_Score Histogram', fontsize=12)\n",
    "ax.set_xlabel('Location_Score', fontsize=12)\n",
    "ax.set_ylabel('Frequency', fontsize=12)"
   ]
  },
  {
   "cell_type": "markdown",
   "metadata": {},
   "source": [
    "#### Trying out other data transformations"
   ]
  },
  {
   "cell_type": "code",
   "execution_count": null,
   "metadata": {},
   "outputs": [],
   "source": [
    "l, opt_lambda = boxcox(train_df[\"Location_Score\"])\n",
    "print('Optimal lambda value:', opt_lambda)\n",
    "\n",
    "train_df['Location_boxcox_lambda_0'] = boxcox((1+train_df['Location_Score']), lmbda=0)\n",
    "train_df['Location_boxcox_lambda_opt'] = boxcox(train_df['Location_Score'], lmbda=opt_lambda)\n",
    "\n",
    "location_boxcox_mean = np.round(np.mean(train_df['Location_boxcox_lambda_opt']),2)\n",
    "fig, ax = plt.subplots()\n",
    "train_df['Location_boxcox_lambda_opt'].hist(bins=30, color='#A9C5D3', edgecolor='black', grid=True)\n",
    "plt.axvline(location_boxcox_mean, color='r')\n",
    "ax.set_title('Location_Score Histogram after Box–Cox Transform', fontsize=12)\n",
    "ax.set_xlabel('Location_Score (Box–Cox transform)', fontsize=12)\n",
    "ax.set_ylabel('Frequency', fontsize=12)"
   ]
  },
  {
   "cell_type": "code",
   "execution_count": null,
   "metadata": {},
   "outputs": [],
   "source": [
    "l, opt_lambda = boxcox(train_df[\"Internal_Audit_Score\"])\n",
    "print('Optimal lambda value:', opt_lambda)\n",
    "\n",
    "train_df['IAS_boxcox_lambda_0'] = boxcox((1+train_df['Internal_Audit_Score']), lmbda=0)\n",
    "train_df['IAS_boxcox_lambda_opt'] = boxcox(train_df['Internal_Audit_Score'], lmbda=opt_lambda)\n",
    "\n",
    "IAS_boxcox_mean = np.round(np.mean(train_df['IAS_boxcox_lambda_opt']),2)\n",
    "fig, ax = plt.subplots()\n",
    "train_df['IAS_boxcox_lambda_opt'].hist(bins=15, color='#A9C5D3', edgecolor='black', grid=True)\n",
    "plt.axvline(IAS_boxcox_mean, color='r')\n",
    "ax.set_title('Internal_Audit_Score Histogram after Box–Cox Transform', fontsize=12)\n",
    "ax.set_xlabel('Internal_Audit_Score (Box–Cox transform)', fontsize=12)\n",
    "ax.set_ylabel('Frequency', fontsize=12)"
   ]
  },
  {
   "cell_type": "code",
   "execution_count": null,
   "metadata": {},
   "outputs": [],
   "source": [
    "l, opt_lambda = boxcox(train_df[\"External_Audit_Score\"])\n",
    "print('Optimal lambda value:', opt_lambda)\n",
    "\n",
    "train_df['EAS_boxcox_lambda_0'] = boxcox((1+train_df['External_Audit_Score']), lmbda=0)\n",
    "train_df['EAS_boxcox_lambda_opt'] = boxcox(train_df['External_Audit_Score'], lmbda=opt_lambda)\n",
    "\n",
    "EAS_boxcox_mean = np.round(np.mean(train_df['EAS_boxcox_lambda_opt']),2)\n",
    "fig, ax = plt.subplots()\n",
    "train_df['EAS_boxcox_lambda_opt'].hist(bins=15, color='#A9C5D3', edgecolor='black', grid=True)\n",
    "plt.axvline(EAS_boxcox_mean, color='r')\n",
    "ax.set_title('External_Audit_Score Histogram after Box–Cox Transform', fontsize=12)\n",
    "ax.set_xlabel('External_Audit_Score (Box–Cox transform)', fontsize=12)\n",
    "ax.set_ylabel('Frequency', fontsize=12)"
   ]
  },
  {
   "cell_type": "code",
   "execution_count": null,
   "metadata": {},
   "outputs": [],
   "source": [
    "l, opt_lambda = boxcox(train_df[\"Fin_Score\"])\n",
    "print('Optimal lambda value:', opt_lambda)\n",
    "\n",
    "train_df['Fin_boxcox_lambda_0'] = boxcox((1+train_df['Fin_Score']), lmbda=0)\n",
    "train_df['Fin_boxcox_lambda_opt'] = boxcox(train_df['Fin_Score'], lmbda=opt_lambda)\n",
    "\n",
    "Fin_boxcox_mean = np.round(np.mean(train_df['Fin_boxcox_lambda_opt']),2)\n",
    "fig, ax = plt.subplots()\n",
    "#train_df['Fin_boxcox_lambda_opt'].hist(bins=15, color='#A9C5D3', edgecolor='black', grid=True)\n",
    "train_df['Fin_boxcox_lambda_0'].hist(bins=15, color='#A9C5D3', edgecolor='black', grid=True)\n",
    "plt.axvline(Fin_boxcox_mean, color='r')\n",
    "ax.set_title('Fin_Score Histogram after Box–Cox Transform', fontsize=12)\n",
    "ax.set_xlabel('Fin_Score (Box–Cox transform)', fontsize=12)\n",
    "ax.set_ylabel('Frequency', fontsize=12)"
   ]
  },
  {
   "cell_type": "markdown",
   "metadata": {},
   "source": [
    "## Data Preprocessing"
   ]
  },
  {
   "cell_type": "markdown",
   "metadata": {},
   "source": [
    "#### Read train and predict datasets"
   ]
  },
  {
   "cell_type": "code",
   "execution_count": 3,
   "metadata": {},
   "outputs": [
    {
     "name": "stdout",
     "output_type": "stream",
     "text": [
      "train_df: (543, 8)\n",
      "predict_df: (233, 7)\n"
     ]
    }
   ],
   "source": [
    "train_df = pd.read_csv(train_dataset)\n",
    "predict_df = pd.read_csv(predict_dataset)\n",
    "print(\"train_df: {}\".format(train_df.shape))\n",
    "print(\"predict_df: {}\".format(predict_df.shape))"
   ]
  },
  {
   "cell_type": "markdown",
   "metadata": {},
   "source": [
    "#### Extract \"IsUnderRisk\" field from train_df into NumPy array"
   ]
  },
  {
   "cell_type": "code",
   "execution_count": 4,
   "metadata": {},
   "outputs": [
    {
     "name": "stdout",
     "output_type": "stream",
     "text": [
      "train_y: (543, 1)\n"
     ]
    }
   ],
   "source": [
    "train_y = np.array([train_df['IsUnderRisk'].values]).T\n",
    "train_df.drop(['IsUnderRisk'], inplace=True, axis=1)\n",
    "print(\"train_y: {}\".format(train_y.shape))"
   ]
  },
  {
   "cell_type": "markdown",
   "metadata": {},
   "source": [
    "#### Feature Engineering"
   ]
  },
  {
   "cell_type": "code",
   "execution_count": 5,
   "metadata": {},
   "outputs": [
    {
     "name": "stdout",
     "output_type": "stream",
     "text": [
      "(776, 7)\n"
     ]
    }
   ],
   "source": [
    "# Combine train and predict dataframes\n",
    "combined_df = train_df.append(predict_df, sort=False, ignore_index=True)\n",
    "print(combined_df.shape)"
   ]
  },
  {
   "cell_type": "code",
   "execution_count": 6,
   "metadata": {},
   "outputs": [],
   "source": [
    "# Standard Deviation of all score values\n",
    "combined_df['Location_Score_STD'] = np.std(combined_df['Location_Score'])\n",
    "combined_df['Internal_Audit_Score_STD'] = np.std(combined_df['Internal_Audit_Score'])\n",
    "combined_df['External_Audit_Score_STD'] = np.std(combined_df['External_Audit_Score'])\n",
    "combined_df['Fin_Score_STD'] = np.std(combined_df['Fin_Score'])\n",
    "combined_df['Loss_score_STD'] = np.std(combined_df['Loss_score'])\n",
    "combined_df['Past_Results_STD'] = np.std(combined_df['Past_Results'])\n",
    "\n",
    "# Binning\n",
    "combined_df['Past_Results_bin'] = combined_df['Past_Results'].apply(lambda x: \"[0-2]\" if 0<=x<2 else \"[2-4]\" if 2<=x<4 else \"[4-10]\")\n",
    "combined_df['Loss_Score_bin'] = combined_df['Loss_score'].apply(lambda x: \"[0-5]\" if 0<=x<5 else \"[5-9]\" if 5<=x<9 else \"[9-15]\")\n",
    "\n",
    "# One-hot encoding\n",
    "one_hot = pd.get_dummies(combined_df['City'])\n",
    "combined_df.drop('City', axis = 1, inplace=True)\n",
    "combined_df = combined_df.join(one_hot)\n",
    "\n",
    "one_hot = pd.get_dummies(combined_df['Past_Results_bin'])\n",
    "combined_df.drop('Past_Results_bin', axis = 1, inplace=True)\n",
    "combined_df = combined_df.join(one_hot)\n",
    "\n",
    "one_hot = pd.get_dummies(combined_df['Loss_Score_bin'])\n",
    "combined_df.drop('Loss_Score_bin', axis = 1, inplace=True)\n",
    "combined_df = combined_df.join(one_hot)\n",
    "\n",
    "# Convert all scores to log scale\n",
    "combined_df['Location_Score'] = np.log1p(combined_df['Location_Score'])\n",
    "combined_df['Internal_Audit_Score'] = np.log1p(combined_df['Internal_Audit_Score'])\n",
    "combined_df['External_Audit_Score'] = np.log1p(combined_df['External_Audit_Score'])\n",
    "combined_df['Fin_Score'] = np.log1p(combined_df['Fin_Score'])\n",
    "combined_df['Loss_score'] = np.log1p(combined_df['Loss_score'])\n",
    "combined_df['Past_Results'] = np.log1p(combined_df['Past_Results'])\n",
    "\n",
    "# Get difference and mean of different scores\n",
    "combined_df[\"Audit_Score_Diff\"] = np.power(combined_df[\"Internal_Audit_Score\"] - combined_df[\"External_Audit_Score\"], 2)\n",
    "combined_df[\"Average_Audit_Score\"] = (combined_df[\"Internal_Audit_Score\"] + combined_df[\"External_Audit_Score\"]) / 2\n",
    "combined_df[\"Score_diff1\"] = np.power(combined_df[\"Fin_Score\"] - combined_df[\"Loss_score\"], 2)\n",
    "combined_df[\"Score_diff2\"] = np.power(combined_df[\"Fin_Score\"] - combined_df[\"Average_Audit_Score\"], 2)\n",
    "combined_df[\"Score_diff3\"] = np.power(combined_df[\"Loss_score\"] - combined_df[\"Average_Audit_Score\"], 2)\n",
    "combined_df[\"Cumulative_Score\"] = (combined_df['Location_Score'] + combined_df[\"Internal_Audit_Score\"] + combined_df[\"External_Audit_Score\"] + combined_df[\"Fin_Score\"] + combined_df[\"Loss_score\"]) / 5\n",
    "\n",
    "# Calculate different score ratios\n",
    "combined_df[\"Fin_Score/Average_Audit_Score\"] = combined_df[\"Fin_Score\"] / combined_df[\"Average_Audit_Score\"]\n",
    "combined_df[\"Loss_score/Average_Audit_Score\"] = combined_df[\"Loss_score\"] / combined_df[\"Average_Audit_Score\"]\n",
    "combined_df[\"Loss_score/Fin_Score\"] = combined_df[\"Loss_score\"] / combined_df[\"Fin_Score\"]\n",
    "combined_df[\"Fin_Score/Location_Score\"] = combined_df[\"Fin_Score\"] / combined_df[\"Location_Score\"]\n",
    "combined_df[\"Loss_score/Location_Score\"] = combined_df[\"Loss_score\"] / combined_df[\"Location_Score\"]\n",
    "combined_df[\"Average_Audit_Score/Location_Score\"] = combined_df[\"Average_Audit_Score\"] / combined_df[\"Location_Score\"]\n",
    "combined_df[\"Past_Results/Location_Score\"] = combined_df[\"Past_Results\"] / combined_df[\"Location_Score\"]\n",
    "\n",
    "# Ratio of score value with corresponding max value\n",
    "max_loc_score = max(combined_df['Location_Score'])\n",
    "combined_df['Location_Score/max_loc_score'] = combined_df['Location_Score']/max_loc_score\n",
    "max_ias_score = max(combined_df['Internal_Audit_Score'])\n",
    "combined_df['Internal_Audit_Score/max_ias_score'] = combined_df['Internal_Audit_Score']/max_ias_score\n",
    "max_eas_score = max(combined_df['External_Audit_Score'])\n",
    "combined_df['External_Audit_Score/max_eas_score'] = combined_df['External_Audit_Score']/max_eas_score\n",
    "max_fin_score = max(combined_df['Fin_Score'])\n",
    "combined_df['Fin_Score/max_fin_score'] = combined_df['Fin_Score']/max_fin_score\n",
    "max_loss_score = max(combined_df['Loss_score'])\n",
    "combined_df['Loss_score/max_loss_score'] = combined_df['Loss_score']/max_loss_score\n",
    "max_past_results = max(combined_df['Past_Results'])\n",
    "combined_df['Past_Results/max_past_results'] = combined_df['Past_Results']/max_past_results\n",
    "\n",
    "# Ratio of score value with corresponding mean value\n",
    "mean_loc_score = np.mean(combined_df['Location_Score'])\n",
    "combined_df['Location_Score/mean_loc_score'] = combined_df['Location_Score']/mean_loc_score\n",
    "mean_ias_score = np.mean(combined_df['Internal_Audit_Score'])\n",
    "combined_df['Internal_Audit_Score/mean_ias_score'] = combined_df['Internal_Audit_Score']/mean_ias_score\n",
    "mean_eas_score = np.mean(combined_df['External_Audit_Score'])\n",
    "combined_df['External_Audit_Score/mean_eas_score'] = combined_df['External_Audit_Score']/mean_eas_score\n",
    "mean_fin_score = np.mean(combined_df['Fin_Score'])\n",
    "combined_df['Fin_Score/mean_fin_score'] = combined_df['Fin_Score']/mean_fin_score\n",
    "mean_loss_score = np.mean(combined_df['Loss_score'])\n",
    "combined_df['Loss_score/mean_loss_score'] = combined_df['Loss_score']/mean_loss_score\n",
    "mean_past_results = np.mean(combined_df['Past_Results'])\n",
    "combined_df['Past_Results/mean_past_results'] = combined_df['Past_Results']/mean_past_results\n",
    "\n",
    "# Box-cox transformation\n",
    "_, opt_lambda = boxcox(combined_df[\"Location_Score\"])\n",
    "combined_df['Location_boxcox_lambda_0'] = boxcox((1+combined_df['Location_Score']), lmbda=0)\n",
    "combined_df['Location_boxcox_lambda_opt'] = boxcox(combined_df['Location_Score'], lmbda=opt_lambda)\n",
    "\n",
    "_, opt_lambda = boxcox(combined_df[\"Internal_Audit_Score\"])\n",
    "combined_df['IAS_boxcox_lambda_0'] = boxcox((1+combined_df['Internal_Audit_Score']), lmbda=0)\n",
    "combined_df['IAS_boxcox_lambda_opt'] = boxcox(combined_df['Internal_Audit_Score'], lmbda=opt_lambda)\n",
    "\n",
    "_, opt_lambda = boxcox(combined_df[\"External_Audit_Score\"])\n",
    "combined_df['EAS_boxcox_lambda_0'] = boxcox((1+combined_df['External_Audit_Score']), lmbda=0)\n",
    "combined_df['EAS_boxcox_lambda_opt'] = boxcox(combined_df['External_Audit_Score'], lmbda=opt_lambda)\n",
    "\n",
    "_, opt_lambda = boxcox(combined_df[\"Fin_Score\"])\n",
    "combined_df['Fin_boxcox_lambda_0'] = boxcox((1+combined_df['Fin_Score']), lmbda=0)\n",
    "combined_df['Fin_boxcox_lambda_opt'] = boxcox(combined_df['Fin_Score'], lmbda=opt_lambda)"
   ]
  },
  {
   "cell_type": "markdown",
   "metadata": {},
   "source": [
    "#### Create train and predict Numpy arrays and scale them"
   ]
  },
  {
   "cell_type": "code",
   "execution_count": 7,
   "metadata": {},
   "outputs": [
    {
     "name": "stdout",
     "output_type": "stream",
     "text": [
      "train_x: (543, 96)\n",
      "predict_x: (233, 96)\n"
     ]
    }
   ],
   "source": [
    "# Segregate combined_df into train/predict datasets\n",
    "train_x = combined_df[:543]\n",
    "predict_x = combined_df[543:]\n",
    "\n",
    "print(\"train_x: {}\".format(train_x.shape))\n",
    "print(\"predict_x: {}\".format(predict_x.shape))"
   ]
  },
  {
   "cell_type": "code",
   "execution_count": 8,
   "metadata": {},
   "outputs": [],
   "source": [
    "# Scale the train_x/predict_x arrays\n",
    "scaler = MinMaxScaler().fit(train_x)\n",
    "train_x = scaler.transform(train_x)\n",
    "predict_x = scaler.transform(predict_x)"
   ]
  },
  {
   "cell_type": "code",
   "execution_count": 9,
   "metadata": {},
   "outputs": [],
   "source": [
    "train_x_full = train_x.copy()\n",
    "train_y_full = train_y.copy()"
   ]
  },
  {
   "cell_type": "markdown",
   "metadata": {},
   "source": [
    "#### Split training data into train/test datasets"
   ]
  },
  {
   "cell_type": "code",
   "execution_count": 10,
   "metadata": {},
   "outputs": [
    {
     "name": "stdout",
     "output_type": "stream",
     "text": [
      "------------------------- Training Dataset -------------------------\n",
      "train_x shape: (491, 96)\n",
      "train_y shape: (491, 1)\n",
      "\n",
      "------------------------- Test Dataset -------------------------\n",
      "test_x shape: (52, 96)\n",
      "test_y shape: (52, 1)\n"
     ]
    }
   ],
   "source": [
    "sss = StratifiedShuffleSplit(n_splits=1, test_size=0.095, random_state=1)\n",
    "for train_index, test_index in sss.split(train_x, train_y):\n",
    "    train_x, test_x = train_x[train_index], train_x[test_index]\n",
    "    train_y, test_y = train_y[train_index], train_y[test_index]\n",
    "\n",
    "print(\"------------------------- Training Dataset -------------------------\")\n",
    "print(\"train_x shape: {}\".format(train_x.shape))\n",
    "print(\"train_y shape: {}\".format(train_y.shape))\n",
    "\n",
    "print(\"\\n------------------------- Test Dataset -------------------------\")\n",
    "print(\"test_x shape: {}\".format(test_x.shape))\n",
    "print(\"test_y shape: {}\".format(test_y.shape))"
   ]
  },
  {
   "cell_type": "code",
   "execution_count": 11,
   "metadata": {},
   "outputs": [
    {
     "name": "stdout",
     "output_type": "stream",
     "text": [
      "------------------------- Training Dataset -------------------------\n",
      "Xtrain_full shape: (543, 96)\n",
      "Ytrain_full shape: (543, 1)\n",
      "Xtrain shape: (491, 96)\n",
      "Ytrain shape: (491, 1)\n",
      "\n",
      "------------------------- Test Dataset -------------------------\n",
      "Xtest shape: (52, 96)\n",
      "Ytest shape: (52, 1)\n",
      "\n",
      "------------------------- Prediction Dataset -------------------------\n",
      "Xpredict shape: (233, 96)\n"
     ]
    }
   ],
   "source": [
    "Xtrain_full, Ytrain_full = train_x_full.copy(), train_y_full.copy()\n",
    "Xtrain, Ytrain = train_x.copy(), train_y.copy()\n",
    "Xtest, Ytest = test_x.copy(), test_y.copy()\n",
    "Xpredict = predict_x.copy()\n",
    "\n",
    "print(\"------------------------- Training Dataset -------------------------\")\n",
    "print(\"Xtrain_full shape: {}\".format(Xtrain_full.shape))\n",
    "print(\"Ytrain_full shape: {}\".format(Ytrain_full.shape))\n",
    "print(\"Xtrain shape: {}\".format(Xtrain.shape))\n",
    "print(\"Ytrain shape: {}\".format(Ytrain.shape))\n",
    "\n",
    "print(\"\\n------------------------- Test Dataset -------------------------\")\n",
    "print(\"Xtest shape: {}\".format(Xtest.shape))\n",
    "print(\"Ytest shape: {}\".format(Ytest.shape))\n",
    "\n",
    "print(\"\\n------------------------- Prediction Dataset -------------------------\")\n",
    "print(\"Xpredict shape: {}\".format(Xpredict.shape))"
   ]
  },
  {
   "cell_type": "markdown",
   "metadata": {},
   "source": [
    "## Hyperparameter search using Optuna"
   ]
  },
  {
   "cell_type": "code",
   "execution_count": 12,
   "metadata": {},
   "outputs": [],
   "source": [
    "# Convert Ytest to one-hot encoding\n",
    "df = pd.DataFrame(Ytest, columns=[\"IsUnderRisk\"])\n",
    "test_y = pd.get_dummies(df['IsUnderRisk']).values"
   ]
  },
  {
   "cell_type": "code",
   "execution_count": 13,
   "metadata": {},
   "outputs": [],
   "source": [
    "# Define 5-fold cross validation test harness\n",
    "kfold = StratifiedKFold(n_splits=5, shuffle=True, random_state=10)"
   ]
  },
  {
   "cell_type": "code",
   "execution_count": 16,
   "metadata": {},
   "outputs": [],
   "source": [
    "def objective(trial):\n",
    "       \n",
    "    y_pred = 0\n",
    "    counter = 0\n",
    "    \n",
    "    for train, val in kfold.split(Xtrain, Ytrain):\n",
    "        counter += 1\n",
    "    \n",
    "        train_x, train_y = Xtrain[train], Ytrain[train]\n",
    "        val_x, val_y = Xtrain[val], Ytrain[val]\n",
    "        df = pd.DataFrame(train_y, columns=['IsUnderRisk'])\n",
    "        neg, pos = np.bincount(df['IsUnderRisk'])\n",
    "        \n",
    "        model = XGBRegressor(\n",
    "            objective='multi:softprob',\n",
    "            eval_metric='mlogloss',\n",
    "            booster='gbtree',\n",
    "            sample_type='uniform',\n",
    "            tree_method='hist',\n",
    "            scale_pos_weight=neg/pos,\n",
    "            grow_policy='lossguide',\n",
    "            num_round=5000,\n",
    "            num_class=2,\n",
    "            rate_drop=trial.suggest_uniform(\"rate_drop\", 0.1, 1.0),\n",
    "            learning_rate=trial.suggest_loguniform(\"learning_rate\", 1e-2, 1e-1),\n",
    "            min_split_loss=trial.suggest_uniform(\"min_split_loss\", 0.1, 1.0),\n",
    "            max_depth=trial.suggest_int(\"max_depth\", 8, 25),\n",
    "            min_child_weight=trial.suggest_int(\"min_child_weight\", 1, 10),\n",
    "            subsample=trial.suggest_uniform(\"subsample\", 0.5, 1.0),\n",
    "            colsample_bytree=trial.suggest_uniform(\"colsample_bytree\", 0.5, 1.0),\n",
    "            reg_lambda=trial.suggest_loguniform(\"reg_lambda\", 1e-4, 1.0),\n",
    "            max_leaves=trial.suggest_int(\"max_leaves\", 40, 200)\n",
    "        )\n",
    "\n",
    "\n",
    "        model.fit(train_x, train_y, eval_set=[(val_x, val_y)], early_stopping_rounds=200, verbose=False)\n",
    "        pred = model.predict(Xtest, ntree_limit=model.best_ntree_limit)\n",
    "        y_pred += pred\n",
    "\n",
    "    y_pred /= float(counter)\n",
    "    loss = log_loss(test_y, y_pred)\n",
    "    return loss"
   ]
  },
  {
   "cell_type": "code",
   "execution_count": 18,
   "metadata": {},
   "outputs": [
    {
     "name": "stderr",
     "output_type": "stream",
     "text": [
      "[I 2020-05-17 17:54:49,770] Finished trial#0 with value: 0.3505540769547224 with parameters: {'rate_drop': 0.14919289838323793, 'learning_rate': 0.021177329857984546, 'min_split_loss': 0.4516864622415613, 'max_depth': 12, 'min_child_weight': 10, 'subsample': 0.5261579596080811, 'colsample_bytree': 0.8668669660519669, 'reg_lambda': 0.008472595221768804, 'max_leaves': 197}. Best is trial#0 with value: 0.3505540769547224.\n",
      "[I 2020-05-17 17:54:52,610] Finished trial#1 with value: 0.32299451916836774 with parameters: {'rate_drop': 0.8183056541911972, 'learning_rate': 0.016075103061531017, 'min_split_loss': 0.9635924639878313, 'max_depth': 9, 'min_child_weight': 4, 'subsample': 0.9564032427535452, 'colsample_bytree': 0.5935418252656961, 'reg_lambda': 0.0006299862124012033, 'max_leaves': 62}. Best is trial#1 with value: 0.32299451916836774.\n",
      "[I 2020-05-17 17:54:54,817] Finished trial#2 with value: 0.2832826720192455 with parameters: {'rate_drop': 0.49681923764583036, 'learning_rate': 0.07009527172161449, 'min_split_loss': 0.9732634024705498, 'max_depth': 15, 'min_child_weight': 2, 'subsample': 0.5046992416274825, 'colsample_bytree': 0.562793518479108, 'reg_lambda': 0.03141189467901408, 'max_leaves': 116}. Best is trial#2 with value: 0.2832826720192455.\n",
      "[I 2020-05-17 17:54:56,705] Finished trial#3 with value: 0.3267315009680505 with parameters: {'rate_drop': 0.621592009219735, 'learning_rate': 0.05953210619925489, 'min_split_loss': 0.38866395994386627, 'max_depth': 18, 'min_child_weight': 7, 'subsample': 0.6917020836297105, 'colsample_bytree': 0.9805451010079729, 'reg_lambda': 0.9833233454321516, 'max_leaves': 67}. Best is trial#2 with value: 0.2832826720192455.\n",
      "[I 2020-05-17 17:55:00,416] Finished trial#4 with value: 0.3284162702755286 with parameters: {'rate_drop': 0.1709798757267444, 'learning_rate': 0.015922408086970895, 'min_split_loss': 0.35263361152794503, 'max_depth': 24, 'min_child_weight': 2, 'subsample': 0.5618654371729492, 'colsample_bytree': 0.8926474442902264, 'reg_lambda': 0.0004574139977794762, 'max_leaves': 102}. Best is trial#2 with value: 0.2832826720192455.\n",
      "[I 2020-05-17 17:55:03,034] Finished trial#5 with value: 0.3100106056349782 with parameters: {'rate_drop': 0.8935514821562455, 'learning_rate': 0.023441264632337085, 'min_split_loss': 0.8736582188419515, 'max_depth': 25, 'min_child_weight': 5, 'subsample': 0.8401089110198063, 'colsample_bytree': 0.7525948725198399, 'reg_lambda': 0.0002051466320622418, 'max_leaves': 164}. Best is trial#2 with value: 0.2832826720192455.\n",
      "[I 2020-05-17 17:55:06,091] Finished trial#6 with value: 0.26918876951990217 with parameters: {'rate_drop': 0.9141893803718414, 'learning_rate': 0.03123400500520219, 'min_split_loss': 0.7891140119821481, 'max_depth': 18, 'min_child_weight': 4, 'subsample': 0.9684656696837384, 'colsample_bytree': 0.8314206562826363, 'reg_lambda': 0.13212084620151332, 'max_leaves': 179}. Best is trial#6 with value: 0.26918876951990217.\n",
      "[I 2020-05-17 17:55:08,640] Finished trial#7 with value: 0.27756554891283697 with parameters: {'rate_drop': 0.33728149846500477, 'learning_rate': 0.09190657807638988, 'min_split_loss': 0.4456317805100726, 'max_depth': 14, 'min_child_weight': 4, 'subsample': 0.8416001708301071, 'colsample_bytree': 0.9975353602421229, 'reg_lambda': 0.0001859629281015799, 'max_leaves': 135}. Best is trial#6 with value: 0.26918876951990217.\n",
      "[I 2020-05-17 17:55:10,268] Finished trial#8 with value: 0.3277296064278254 with parameters: {'rate_drop': 0.16900731309854855, 'learning_rate': 0.044853787744451555, 'min_split_loss': 0.482119142043971, 'max_depth': 23, 'min_child_weight': 10, 'subsample': 0.7574416470447598, 'colsample_bytree': 0.6286101179530234, 'reg_lambda': 0.001289832825051841, 'max_leaves': 143}. Best is trial#6 with value: 0.26918876951990217.\n",
      "[I 2020-05-17 17:55:12,093] Finished trial#9 with value: 0.4050283692777157 with parameters: {'rate_drop': 0.9034520226971264, 'learning_rate': 0.011626177759560886, 'min_split_loss': 0.4388637581805167, 'max_depth': 19, 'min_child_weight': 8, 'subsample': 0.6690128389625761, 'colsample_bytree': 0.7532937119297228, 'reg_lambda': 0.0021555326762272733, 'max_leaves': 76}. Best is trial#6 with value: 0.26918876951990217.\n",
      "[I 2020-05-17 17:55:14,904] Finished trial#10 with value: 0.3029841321090666 with parameters: {'rate_drop': 0.7360073615653674, 'learning_rate': 0.03577621772626124, 'min_split_loss': 0.7180879357311645, 'max_depth': 21, 'min_child_weight': 7, 'subsample': 0.9999084184866756, 'colsample_bytree': 0.8551619767759145, 'reg_lambda': 0.3424118356556552, 'max_leaves': 189}. Best is trial#6 with value: 0.26918876951990217.\n",
      "[I 2020-05-17 17:55:17,688] Finished trial#11 with value: 0.27157751051709056 with parameters: {'rate_drop': 0.3631361770117453, 'learning_rate': 0.08911947580787245, 'min_split_loss': 0.16488283888987426, 'max_depth': 15, 'min_child_weight': 4, 'subsample': 0.9041228925826679, 'colsample_bytree': 0.9990337253114193, 'reg_lambda': 0.11921014365503498, 'max_leaves': 151}. Best is trial#6 with value: 0.26918876951990217.\n",
      "[I 2020-05-17 17:55:22,205] Finished trial#12 with value: 0.2539855451681293 with parameters: {'rate_drop': 0.40973242370902374, 'learning_rate': 0.029591348201165005, 'min_split_loss': 0.20219166116856044, 'max_depth': 12, 'min_child_weight': 1, 'subsample': 0.9204426889425971, 'colsample_bytree': 0.9331615307218302, 'reg_lambda': 0.1112887897926657, 'max_leaves': 169}. Best is trial#12 with value: 0.2539855451681293.\n",
      "[I 2020-05-17 17:55:26,206] Finished trial#13 with value: 0.24823905531173715 with parameters: {'rate_drop': 0.44412370677440494, 'learning_rate': 0.02977414321490119, 'min_split_loss': 0.7005410411520513, 'max_depth': 8, 'min_child_weight': 1, 'subsample': 0.9933267366456209, 'colsample_bytree': 0.9200528418765148, 'reg_lambda': 0.1020157008664561, 'max_leaves': 176}. Best is trial#13 with value: 0.24823905531173715.\n",
      "[I 2020-05-17 17:55:30,798] Finished trial#14 with value: 0.2513967163574237 with parameters: {'rate_drop': 0.40314065029934437, 'learning_rate': 0.02800527761717043, 'min_split_loss': 0.647062195656603, 'max_depth': 8, 'min_child_weight': 1, 'subsample': 0.9052585621024312, 'colsample_bytree': 0.9483618930155384, 'reg_lambda': 0.024958889958542438, 'max_leaves': 176}. Best is trial#13 with value: 0.24823905531173715.\n",
      "[I 2020-05-17 17:55:34,709] Finished trial#15 with value: 0.24362235405267432 with parameters: {'rate_drop': 0.5825102114428945, 'learning_rate': 0.039697821366824974, 'min_split_loss': 0.6166365187404514, 'max_depth': 8, 'min_child_weight': 1, 'subsample': 0.8522114962981244, 'colsample_bytree': 0.9372031113978752, 'reg_lambda': 0.014984359034879487, 'max_leaves': 198}. Best is trial#15 with value: 0.24362235405267432.\n",
      "[I 2020-05-17 17:55:37,577] Finished trial#16 with value: 0.2599900900386274 with parameters: {'rate_drop': 0.6133139871802342, 'learning_rate': 0.043902226165515465, 'min_split_loss': 0.6417834663298231, 'max_depth': 10, 'min_child_weight': 2, 'subsample': 0.8104227066697165, 'colsample_bytree': 0.6752664896868724, 'reg_lambda': 0.00819789802666914, 'max_leaves': 190}. Best is trial#15 with value: 0.24362235405267432.\n",
      "[I 2020-05-17 17:55:42,006] Finished trial#17 with value: 0.24362015863880515 with parameters: {'rate_drop': 0.5305130624874081, 'learning_rate': 0.047854213732596504, 'min_split_loss': 0.5961141149967327, 'max_depth': 11, 'min_child_weight': 1, 'subsample': 0.7787038991118536, 'colsample_bytree': 0.7906966503334905, 'reg_lambda': 0.03228023878435674, 'max_leaves': 200}. Best is trial#17 with value: 0.24362015863880515.\n",
      "[I 2020-05-17 17:55:44,970] Finished trial#18 with value: 0.269402494152578 with parameters: {'rate_drop': 0.6988641999281314, 'learning_rate': 0.05640941060254508, 'min_split_loss': 0.5687869102288464, 'max_depth': 11, 'min_child_weight': 3, 'subsample': 0.7254249300809607, 'colsample_bytree': 0.808200051437391, 'reg_lambda': 0.028948170744629437, 'max_leaves': 42}. Best is trial#17 with value: 0.24362015863880515.\n",
      "[I 2020-05-17 17:55:49,256] Finished trial#19 with value: 0.2616889712114174 with parameters: {'rate_drop': 0.5381678943418404, 'learning_rate': 0.04147928341562864, 'min_split_loss': 0.28641188124409656, 'max_depth': 13, 'min_child_weight': 1, 'subsample': 0.611105829027846, 'colsample_bytree': 0.6832242143904014, 'reg_lambda': 0.005138730446663681, 'max_leaves': 198}. Best is trial#17 with value: 0.24362015863880515.\n",
      "[I 2020-05-17 17:55:52,556] Finished trial#20 with value: 0.27090841239819735 with parameters: {'rate_drop': 0.617297005972711, 'learning_rate': 0.05505473502387984, 'min_split_loss': 0.5630183804077582, 'max_depth': 10, 'min_child_weight': 3, 'subsample': 0.7783139868206379, 'colsample_bytree': 0.7948750467759941, 'reg_lambda': 0.025656776995476808, 'max_leaves': 200}. Best is trial#17 with value: 0.24362015863880515.\n",
      "[I 2020-05-17 17:55:57,274] Finished trial#21 with value: 0.25268529882081425 with parameters: {'rate_drop': 0.46719265502364404, 'learning_rate': 0.038535736576385045, 'min_split_loss': 0.7837535248027053, 'max_depth': 8, 'min_child_weight': 1, 'subsample': 0.8630122887685601, 'colsample_bytree': 0.9048669796412145, 'reg_lambda': 0.06471092457148662, 'max_leaves': 157}. Best is trial#17 with value: 0.24362015863880515.\n",
      "[I 2020-05-17 17:56:00,402] Finished trial#22 with value: 0.2832917613335527 with parameters: {'rate_drop': 0.24619133592721693, 'learning_rate': 0.02535211740710287, 'min_split_loss': 0.6769868819088818, 'max_depth': 8, 'min_child_weight': 2, 'subsample': 0.802442305090347, 'colsample_bytree': 0.5104999199526942, 'reg_lambda': 0.4620568006435183, 'max_leaves': 182}. Best is trial#17 with value: 0.24362015863880515.\n",
      "[I 2020-05-17 17:56:04,893] Finished trial#23 with value: 0.28262201524697816 with parameters: {'rate_drop': 0.5516870038022335, 'learning_rate': 0.019600554642734472, 'min_split_loss': 0.7715111293735668, 'max_depth': 10, 'min_child_weight': 1, 'subsample': 0.7200937961997098, 'colsample_bytree': 0.9501965713492544, 'reg_lambda': 0.057849405754338744, 'max_leaves': 200}. Best is trial#17 with value: 0.24362015863880515.\n",
      "[I 2020-05-17 17:56:07,813] Finished trial#24 with value: 0.2506550750336968 with parameters: {'rate_drop': 0.7101668259670947, 'learning_rate': 0.07457439104895353, 'min_split_loss': 0.5942375915780616, 'max_depth': 8, 'min_child_weight': 3, 'subsample': 0.9976838488469967, 'colsample_bytree': 0.9014158230706033, 'reg_lambda': 0.0033057799268733277, 'max_leaves': 131}. Best is trial#17 with value: 0.24362015863880515.\n",
      "[I 2020-05-17 17:56:10,980] Finished trial#25 with value: 0.2666400530590461 with parameters: {'rate_drop': 0.283622588246976, 'learning_rate': 0.049849732760693106, 'min_split_loss': 0.8899142039021193, 'max_depth': 11, 'min_child_weight': 2, 'subsample': 0.6528805259261266, 'colsample_bytree': 0.7759070153759561, 'reg_lambda': 0.013782380772596676, 'max_leaves': 171}. Best is trial#17 with value: 0.24362015863880515.\n",
      "[I 2020-05-17 17:56:15,724] Finished trial#26 with value: 0.25421863224787206 with parameters: {'rate_drop': 0.46469583955819055, 'learning_rate': 0.033806667782592996, 'min_split_loss': 0.5291598972327972, 'max_depth': 9, 'min_child_weight': 1, 'subsample': 0.8767978622788526, 'colsample_bytree': 0.7125104152322872, 'reg_lambda': 0.3121664106883945, 'max_leaves': 188}. Best is trial#17 with value: 0.24362015863880515.\n",
      "[I 2020-05-17 17:56:19,272] Finished trial#27 with value: 0.25969390503059214 with parameters: {'rate_drop': 0.5261625079872616, 'learning_rate': 0.0361829050816717, 'min_split_loss': 0.6976478986983157, 'max_depth': 13, 'min_child_weight': 3, 'subsample': 0.9482338079512149, 'colsample_bytree': 0.8452065791848353, 'reg_lambda': 0.014147915784355324, 'max_leaves': 156}. Best is trial#17 with value: 0.24362015863880515.\n",
      "[I 2020-05-17 17:56:21,317] Finished trial#28 with value: 0.31124269790374315 with parameters: {'rate_drop': 0.6592902992218924, 'learning_rate': 0.06605655491142319, 'min_split_loss': 0.6163827176741399, 'max_depth': 9, 'min_child_weight': 6, 'subsample': 0.785456284774216, 'colsample_bytree': 0.9265159857680672, 'reg_lambda': 0.056808843107148024, 'max_leaves': 106}. Best is trial#17 with value: 0.24362015863880515.\n",
      "[I 2020-05-17 17:56:24,973] Finished trial#29 with value: 0.2917218549320331 with parameters: {'rate_drop': 0.7916502458719308, 'learning_rate': 0.01960737576526663, 'min_split_loss': 0.5132388715201865, 'max_depth': 12, 'min_child_weight': 2, 'subsample': 0.7422318071444455, 'colsample_bytree': 0.8676284241517425, 'reg_lambda': 0.006910002583453451, 'max_leaves': 200}. Best is trial#17 with value: 0.24362015863880515.\n",
      "[I 2020-05-17 17:56:26,826] Finished trial#30 with value: 0.33474571286485744 with parameters: {'rate_drop': 0.5726784716276657, 'learning_rate': 0.049879946688849965, 'min_split_loss': 0.7349773312463187, 'max_depth': 11, 'min_child_weight': 10, 'subsample': 0.8257323238770882, 'colsample_bytree': 0.9734284110139441, 'reg_lambda': 0.18768038704099585, 'max_leaves': 190}. Best is trial#17 with value: 0.24362015863880515.\n",
      "[I 2020-05-17 17:56:29,489] Finished trial#31 with value: 0.2455455450197825 with parameters: {'rate_drop': 0.7381076644192126, 'learning_rate': 0.07551359079894837, 'min_split_loss': 0.5976260102790666, 'max_depth': 8, 'min_child_weight': 3, 'subsample': 0.9998069849193717, 'colsample_bytree': 0.8857599462970682, 'reg_lambda': 0.00288417946602243, 'max_leaves': 140}. Best is trial#17 with value: 0.24362015863880515.\n",
      "[I 2020-05-17 17:56:34,296] Finished trial#32 with value: 0.2336807178799063 with parameters: {'rate_drop': 0.7534971090353324, 'learning_rate': 0.08386270966044176, 'min_split_loss': 0.8358396389582283, 'max_depth': 8, 'min_child_weight': 1, 'subsample': 0.9872405691434882, 'colsample_bytree': 0.8760177328388232, 'reg_lambda': 0.0013856572122100462, 'max_leaves': 123}. Best is trial#32 with value: 0.2336807178799063.\n",
      "[I 2020-05-17 17:56:37,484] Finished trial#33 with value: 0.24412914702238944 with parameters: {'rate_drop': 0.805856391655358, 'learning_rate': 0.08025787766652176, 'min_split_loss': 0.8514792546136203, 'max_depth': 9, 'min_child_weight': 2, 'subsample': 0.9433846508002623, 'colsample_bytree': 0.88278012201715, 'reg_lambda': 0.0009439866173712513, 'max_leaves': 96}. Best is trial#32 with value: 0.2336807178799063.\n",
      "[I 2020-05-17 17:56:41,808] Finished trial#34 with value: 0.24400060949847102 with parameters: {'rate_drop': 0.8075941859310347, 'learning_rate': 0.09918603860930911, 'min_split_loss': 0.8807583974584515, 'max_depth': 10, 'min_child_weight': 2, 'subsample': 0.9404392585569445, 'colsample_bytree': 0.8206439715776749, 'reg_lambda': 0.000797837476994202, 'max_leaves': 92}. Best is trial#32 with value: 0.2336807178799063.\n",
      "[I 2020-05-17 17:56:50,165] Finished trial#35 with value: 0.24411068786866963 with parameters: {'rate_drop': 0.8644098900846221, 'learning_rate': 0.09777949688254976, 'min_split_loss': 0.9921040119298168, 'max_depth': 16, 'min_child_weight': 1, 'subsample': 0.8665037137140876, 'colsample_bytree': 0.8121965030730091, 'reg_lambda': 0.00035386255066246683, 'max_leaves': 87}. Best is trial#32 with value: 0.2336807178799063.\n",
      "[I 2020-05-17 17:56:55,176] Finished trial#36 with value: 0.2473899726039515 with parameters: {'rate_drop': 0.9619568621012156, 'learning_rate': 0.06380239918591973, 'min_split_loss': 0.9037924144957223, 'max_depth': 10, 'min_child_weight': 2, 'subsample': 0.8860793845113959, 'colsample_bytree': 0.716607149980727, 'reg_lambda': 0.00011088505705251096, 'max_leaves': 49}. Best is trial#32 with value: 0.2336807178799063.\n",
      "[I 2020-05-17 17:56:57,581] Finished trial#37 with value: 0.27628918866125435 with parameters: {'rate_drop': 0.9850910630496053, 'learning_rate': 0.08601844739138044, 'min_split_loss': 0.9460721277654638, 'max_depth': 13, 'min_child_weight': 5, 'subsample': 0.9657588739492765, 'colsample_bytree': 0.8358180302807392, 'reg_lambda': 0.0008058835326154407, 'max_leaves': 118}. Best is trial#32 with value: 0.2336807178799063.\n"
     ]
    },
    {
     "name": "stderr",
     "output_type": "stream",
     "text": [
      "[I 2020-05-17 17:57:00,995] Finished trial#38 with value: 0.24200540621621677 with parameters: {'rate_drop': 0.6691810285938375, 'learning_rate': 0.04919076595229832, 'min_split_loss': 0.8275315386246478, 'max_depth': 12, 'min_child_weight': 2, 'subsample': 0.9366093973412823, 'colsample_bytree': 0.7805047216030403, 'reg_lambda': 0.0004980527821383388, 'max_leaves': 65}. Best is trial#32 with value: 0.2336807178799063.\n",
      "[I 2020-05-17 17:57:07,365] Finished trial#39 with value: 0.2428020303710722 with parameters: {'rate_drop': 0.645151003286583, 'learning_rate': 0.05031880689785131, 'min_split_loss': 0.8130635476879012, 'max_depth': 11, 'min_child_weight': 1, 'subsample': 0.9222533506037981, 'colsample_bytree': 0.774411903499565, 'reg_lambda': 0.001488121119376214, 'max_leaves': 72}. Best is trial#32 with value: 0.2336807178799063.\n",
      "[I 2020-05-17 17:57:10,089] Finished trial#40 with value: 0.2874180633538904 with parameters: {'rate_drop': 0.6542479919412673, 'learning_rate': 0.04899911362394058, 'min_split_loss': 0.8308307391161609, 'max_depth': 14, 'min_child_weight': 3, 'subsample': 0.5477963451681511, 'colsample_bytree': 0.7732907663711213, 'reg_lambda': 0.00039134231277455976, 'max_leaves': 60}. Best is trial#32 with value: 0.2336807178799063.\n",
      "[I 2020-05-17 17:57:15,029] Finished trial#41 with value: 0.24950719313122904 with parameters: {'rate_drop': 0.5734322268662525, 'learning_rate': 0.03993025739585479, 'min_split_loss': 0.816509208070446, 'max_depth': 12, 'min_child_weight': 1, 'subsample': 0.9220961222148364, 'colsample_bytree': 0.7297847385630964, 'reg_lambda': 0.001413047963086848, 'max_leaves': 75}. Best is trial#32 with value: 0.2336807178799063.\n",
      "[I 2020-05-17 17:57:20,629] Finished trial#42 with value: 0.2441978985981013 with parameters: {'rate_drop': 0.6594965853624553, 'learning_rate': 0.06022113562570232, 'min_split_loss': 0.9390126451649481, 'max_depth': 11, 'min_child_weight': 1, 'subsample': 0.8561055483845798, 'colsample_bytree': 0.7833775561302879, 'reg_lambda': 0.0018082497504959146, 'max_leaves': 56}. Best is trial#32 with value: 0.2336807178799063.\n",
      "[I 2020-05-17 17:57:24,898] Finished trial#43 with value: 0.2499074241719567 with parameters: {'rate_drop': 0.7519248124063833, 'learning_rate': 0.04595799305429111, 'min_split_loss': 0.7588687589351946, 'max_depth': 14, 'min_child_weight': 2, 'subsample': 0.9770448399282909, 'colsample_bytree': 0.7421499913409607, 'reg_lambda': 0.0002706209025484416, 'max_leaves': 71}. Best is trial#32 with value: 0.2336807178799063.\n",
      "[I 2020-05-17 17:57:30,077] Finished trial#44 with value: 0.2502967114202105 with parameters: {'rate_drop': 0.6011869727001223, 'learning_rate': 0.05442478836580205, 'min_split_loss': 0.41126108615500334, 'max_depth': 9, 'min_child_weight': 1, 'subsample': 0.8965188475681565, 'colsample_bytree': 0.6818235829129163, 'reg_lambda': 0.00339060494635143, 'max_leaves': 85}. Best is trial#32 with value: 0.2336807178799063.\n",
      "[I 2020-05-17 17:57:34,549] Finished trial#45 with value: 0.2529024248226331 with parameters: {'rate_drop': 0.4971527867356115, 'learning_rate': 0.03700813060595554, 'min_split_loss': 0.8036360275674584, 'max_depth': 11, 'min_child_weight': 2, 'subsample': 0.8312703397562219, 'colsample_bytree': 0.7560840088024146, 'reg_lambda': 0.00013408345543965274, 'max_leaves': 45}. Best is trial#32 with value: 0.2336807178799063.\n",
      "[I 2020-05-17 17:57:36,920] Finished trial#46 with value: 0.3179087502022202 with parameters: {'rate_drop': 0.6801794937125225, 'learning_rate': 0.06822468616724996, 'min_split_loss': 0.6629815622101798, 'max_depth': 15, 'min_child_weight': 8, 'subsample': 0.9264989157794155, 'colsample_bytree': 0.8497444110730902, 'reg_lambda': 0.0005623453910915424, 'max_leaves': 65}. Best is trial#32 with value: 0.2336807178799063.\n",
      "[I 2020-05-17 17:57:42,502] Finished trial#47 with value: 0.24725817874647105 with parameters: {'rate_drop': 0.7658870595926486, 'learning_rate': 0.033469552614809515, 'min_split_loss': 0.7339675027647892, 'max_depth': 17, 'min_child_weight': 1, 'subsample': 0.9785705571407093, 'colsample_bytree': 0.9638699704412944, 'reg_lambda': 0.011925983644480914, 'max_leaves': 105}. Best is trial#32 with value: 0.2336807178799063.\n",
      "[I 2020-05-17 17:57:45,634] Finished trial#48 with value: 0.28130854551608747 with parameters: {'rate_drop': 0.5043867400088295, 'learning_rate': 0.04480125967770841, 'min_split_loss': 0.4883907930990489, 'max_depth': 12, 'min_child_weight': 4, 'subsample': 0.770654497000279, 'colsample_bytree': 0.7941527326344054, 'reg_lambda': 0.018499915209485837, 'max_leaves': 53}. Best is trial#32 with value: 0.2336807178799063.\n",
      "[I 2020-05-17 17:57:48,859] Finished trial#49 with value: 0.24481511853921872 with parameters: {'rate_drop': 0.8561309120334069, 'learning_rate': 0.05968458560081275, 'min_split_loss': 0.8550890264667717, 'max_depth': 13, 'min_child_weight': 2, 'subsample': 0.9080483437883172, 'colsample_bytree': 0.6510746107825184, 'reg_lambda': 0.0045656351726506075, 'max_leaves': 124}. Best is trial#32 with value: 0.2336807178799063.\n",
      "[I 2020-05-17 17:57:54,146] Finished trial#50 with value: 0.24624603159295824 with parameters: {'rate_drop': 0.6404882925723374, 'learning_rate': 0.052045516648744246, 'min_split_loss': 0.9202563969056209, 'max_depth': 21, 'min_child_weight': 1, 'subsample': 0.8014225984712471, 'colsample_bytree': 0.8649745154908863, 'reg_lambda': 0.04090324440208883, 'max_leaves': 80}. Best is trial#32 with value: 0.2336807178799063.\n",
      "[I 2020-05-17 17:57:58,551] Finished trial#51 with value: 0.2370513591270607 with parameters: {'rate_drop': 0.8261897721847801, 'learning_rate': 0.09513836697492968, 'min_split_loss': 0.9749996408593735, 'max_depth': 10, 'min_child_weight': 2, 'subsample': 0.9515040501345631, 'colsample_bytree': 0.817249360184364, 'reg_lambda': 0.0009576900714000336, 'max_leaves': 98}. Best is trial#32 with value: 0.2336807178799063.\n",
      "[I 2020-05-17 17:58:05,899] Finished trial#52 with value: 0.24891590799849767 with parameters: {'rate_drop': 0.7105938655944627, 'learning_rate': 0.04062343888298706, 'min_split_loss': 0.9980326535267208, 'max_depth': 9, 'min_child_weight': 1, 'subsample': 0.9563287892144283, 'colsample_bytree': 0.8229501679979285, 'reg_lambda': 0.0010699540772666194, 'max_leaves': 69}. Best is trial#32 with value: 0.2336807178799063.\n",
      "[I 2020-05-17 17:58:09,058] Finished trial#53 with value: 0.27102457377343225 with parameters: {'rate_drop': 0.5944564227082431, 'learning_rate': 0.07589966823081697, 'min_split_loss': 0.308728944685313, 'max_depth': 10, 'min_child_weight': 3, 'subsample': 0.8497479613877782, 'colsample_bytree': 0.7628483842386168, 'reg_lambda': 0.0020635945632165543, 'max_leaves': 98}. Best is trial#32 with value: 0.2336807178799063.\n",
      "[I 2020-05-17 17:58:15,482] Finished trial#54 with value: 0.370266620356303 with parameters: {'rate_drop': 0.8354762643675968, 'learning_rate': 0.010474195474823717, 'min_split_loss': 0.9684687509693614, 'max_depth': 9, 'min_child_weight': 2, 'subsample': 0.8823182261243989, 'colsample_bytree': 0.7976179689933331, 'reg_lambda': 0.00020171749650418666, 'max_leaves': 84}. Best is trial#32 with value: 0.2336807178799063.\n",
      "[I 2020-05-17 17:58:21,451] Finished trial#55 with value: 0.2387454708894858 with parameters: {'rate_drop': 0.924347593690437, 'learning_rate': 0.0433968740370546, 'min_split_loss': 0.7534817894427351, 'max_depth': 12, 'min_child_weight': 1, 'subsample': 0.9337717736173226, 'colsample_bytree': 0.8310216864422639, 'reg_lambda': 0.0005877927009439341, 'max_leaves': 115}. Best is trial#32 with value: 0.2336807178799063.\n",
      "[I 2020-05-17 17:58:24,292] Finished trial#56 with value: 0.2545229441557939 with parameters: {'rate_drop': 0.9389917550059622, 'learning_rate': 0.08452581729558081, 'min_split_loss': 0.8251034259384609, 'max_depth': 12, 'min_child_weight': 4, 'subsample': 0.9842732030279177, 'colsample_bytree': 0.8297321599832815, 'reg_lambda': 0.0003121434912200683, 'max_leaves': 114}. Best is trial#32 with value: 0.2336807178799063.\n",
      "[I 2020-05-17 17:58:27,505] Finished trial#57 with value: 0.24919440557893652 with parameters: {'rate_drop': 0.8978051277222366, 'learning_rate': 0.09375092148165945, 'min_split_loss': 0.7541684379816149, 'max_depth': 14, 'min_child_weight': 2, 'subsample': 0.9296209364507801, 'colsample_bytree': 0.7385840270422523, 'reg_lambda': 0.0005696751857091193, 'max_leaves': 108}. Best is trial#32 with value: 0.2336807178799063.\n",
      "[I 2020-05-17 17:58:29,885] Finished trial#58 with value: 0.3209229578407338 with parameters: {'rate_drop': 0.7725560014988734, 'learning_rate': 0.04339297220721125, 'min_split_loss': 0.8810712944801644, 'max_depth': 11, 'min_child_weight': 9, 'subsample': 0.9570637721938566, 'colsample_bytree': 0.8700989088750188, 'reg_lambda': 0.0017046297051072131, 'max_leaves': 125}. Best is trial#32 with value: 0.2336807178799063.\n",
      "[I 2020-05-17 17:58:32,986] Finished trial#59 with value: 0.25409807404503226 with parameters: {'rate_drop': 0.9302813458109477, 'learning_rate': 0.06126324806611547, 'min_split_loss': 0.6937967456363253, 'max_depth': 12, 'min_child_weight': 3, 'subsample': 0.9096651213730131, 'colsample_bytree': 0.801866306027187, 'reg_lambda': 0.00053172579206762, 'max_leaves': 112}. Best is trial#32 with value: 0.2336807178799063.\n",
      "[I 2020-05-17 17:58:36,538] Finished trial#60 with value: 0.2535262581032629 with parameters: {'rate_drop': 0.6886532427400472, 'learning_rate': 0.07128558745453374, 'min_split_loss': 0.7792266311667932, 'max_depth': 13, 'min_child_weight': 1, 'subsample': 0.6158581144690585, 'colsample_bytree': 0.7010115429309521, 'reg_lambda': 0.0011087368246613623, 'max_leaves': 130}. Best is trial#32 with value: 0.2336807178799063.\n",
      "[I 2020-05-17 17:58:42,484] Finished trial#61 with value: 0.24881009786174849 with parameters: {'rate_drop': 0.728201272812596, 'learning_rate': 0.047459265866503925, 'min_split_loss': 0.6565191398185628, 'max_depth': 10, 'min_child_weight': 1, 'subsample': 0.9368132513982746, 'colsample_bytree': 0.7789118791990828, 'reg_lambda': 0.0007243673385134814, 'max_leaves': 61}. Best is trial#32 with value: 0.2336807178799063.\n",
      "[I 2020-05-17 17:58:47,713] Finished trial#62 with value: 0.24322949364208257 with parameters: {'rate_drop': 0.8697430119167606, 'learning_rate': 0.05552438035835492, 'min_split_loss': 0.6298524206727845, 'max_depth': 8, 'min_child_weight': 1, 'subsample': 0.9641643029869218, 'colsample_bytree': 0.9145488539760234, 'reg_lambda': 0.007606124620741373, 'max_leaves': 93}. Best is trial#32 with value: 0.2336807178799063.\n",
      "[I 2020-05-17 17:58:51,973] Finished trial#63 with value: 0.24417172286372918 with parameters: {'rate_drop': 0.8454132208467857, 'learning_rate': 0.0532318507020211, 'min_split_loss': 0.7167277541470718, 'max_depth': 11, 'min_child_weight': 2, 'subsample': 0.964126345547497, 'colsample_bytree': 0.9160507744192973, 'reg_lambda': 0.0013721938355600823, 'max_leaves': 92}. Best is trial#32 with value: 0.2336807178799063.\n",
      "[I 2020-05-17 17:58:56,547] Finished trial#64 with value: 0.24505091841834095 with parameters: {'rate_drop': 0.8715195170036714, 'learning_rate': 0.05585349528330689, 'min_split_loss': 0.6242248008763788, 'max_depth': 9, 'min_child_weight': 1, 'subsample': 0.9754455505969409, 'colsample_bytree': 0.8408278269825701, 'reg_lambda': 0.0026504176977452942, 'max_leaves': 99}. Best is trial#32 with value: 0.2336807178799063.\n",
      "[I 2020-05-17 17:59:01,285] Finished trial#65 with value: 0.24332092555526358 with parameters: {'rate_drop': 0.8909751989868122, 'learning_rate': 0.06499729905791622, 'min_split_loss': 0.5768674914530062, 'max_depth': 10, 'min_child_weight': 1, 'subsample': 0.9941949344405289, 'colsample_bytree': 0.8575363021482831, 'reg_lambda': 0.000252012188381189, 'max_leaves': 79}. Best is trial#32 with value: 0.2336807178799063.\n",
      "[I 2020-05-17 17:59:07,118] Finished trial#66 with value: 0.2440222270356921 with parameters: {'rate_drop': 0.8269315560992906, 'learning_rate': 0.08065328117107268, 'min_split_loss': 0.8454937772206855, 'max_depth': 8, 'min_child_weight': 1, 'subsample': 0.9527931040301094, 'colsample_bytree': 0.8890494511493565, 'reg_lambda': 0.00013917441508201376, 'max_leaves': 77}. Best is trial#32 with value: 0.2336807178799063.\n",
      "[I 2020-05-17 17:59:10,772] Finished trial#67 with value: 0.24860731802450922 with parameters: {'rate_drop': 0.883346757255254, 'learning_rate': 0.06732785700193167, 'min_split_loss': 0.5336941822427674, 'max_depth': 10, 'min_child_weight': 2, 'subsample': 0.9858469307455301, 'colsample_bytree': 0.8724836045074364, 'reg_lambda': 0.0004219821262648007, 'max_leaves': 92}. Best is trial#32 with value: 0.2336807178799063.\n",
      "[I 2020-05-17 17:59:14,026] Finished trial#68 with value: 0.2418780313948026 with parameters: {'rate_drop': 0.9985400865183345, 'learning_rate': 0.07124259684649234, 'min_split_loss': 0.9188435086394071, 'max_depth': 9, 'min_child_weight': 2, 'subsample': 0.9982686125109489, 'colsample_bytree': 0.8531529530747288, 'reg_lambda': 0.00024502355577545943, 'max_leaves': 82}. Best is trial#32 with value: 0.2336807178799063.\n",
      "[I 2020-05-17 17:59:16,936] Finished trial#69 with value: 0.24795854532231504 with parameters: {'rate_drop': 0.9462425427398599, 'learning_rate': 0.07137660672400199, 'min_split_loss': 0.9416337227783489, 'max_depth': 8, 'min_child_weight': 3, 'subsample': 0.9231143436092404, 'colsample_bytree': 0.8078466721422983, 'reg_lambda': 0.0064931682567486585, 'max_leaves': 111}. Best is trial#32 with value: 0.2336807178799063.\n",
      "[I 2020-05-17 17:59:21,649] Finished trial#70 with value: 0.2447374866057474 with parameters: {'rate_drop': 0.9781285098112917, 'learning_rate': 0.057158312983815455, 'min_split_loss': 0.92435859055057, 'max_depth': 8, 'min_child_weight': 2, 'subsample': 0.998358843334071, 'colsample_bytree': 0.9014494259285584, 'reg_lambda': 0.00017914777725985947, 'max_leaves': 89}. Best is trial#32 with value: 0.2336807178799063.\n",
      "[I 2020-05-17 17:59:26,953] Finished trial#71 with value: 0.2436838943260507 with parameters: {'rate_drop': 0.9065165877062475, 'learning_rate': 0.0633061722767908, 'min_split_loss': 0.7972222490778939, 'max_depth': 9, 'min_child_weight': 1, 'subsample': 0.9675830341264734, 'colsample_bytree': 0.8559141282301931, 'reg_lambda': 0.00031266637081667903, 'max_leaves': 73}. Best is trial#32 with value: 0.2336807178799063.\n",
      "[I 2020-05-17 17:59:31,569] Finished trial#72 with value: 0.2450966999436227 with parameters: {'rate_drop': 0.7851308074291908, 'learning_rate': 0.08974214799949064, 'min_split_loss': 0.8744800691022359, 'max_depth': 10, 'min_child_weight': 2, 'subsample': 0.9992214034783643, 'colsample_bytree': 0.8258807431378117, 'reg_lambda': 0.0002521857371570753, 'max_leaves': 80}. Best is trial#32 with value: 0.2336807178799063.\n",
      "[I 2020-05-17 17:59:35,699] Finished trial#73 with value: 0.24504746455484286 with parameters: {'rate_drop': 0.814603120005707, 'learning_rate': 0.08036327293897572, 'min_split_loss': 0.9781560408513623, 'max_depth': 9, 'min_child_weight': 1, 'subsample': 0.9400916259837295, 'colsample_bytree': 0.8554884297103456, 'reg_lambda': 0.0006972648366486313, 'max_leaves': 81}. Best is trial#32 with value: 0.2336807178799063.\n",
      "[I 2020-05-17 17:59:39,972] Finished trial#74 with value: 0.24663328454614833 with parameters: {'rate_drop': 0.9657612005273264, 'learning_rate': 0.051608727104772746, 'min_split_loss': 0.9025971020876034, 'max_depth': 11, 'min_child_weight': 2, 'subsample': 0.8952437072851949, 'colsample_bytree': 0.9381590725832415, 'reg_lambda': 0.0005005628208396667, 'max_leaves': 103}. Best is trial#32 with value: 0.2336807178799063.\n",
      "[I 2020-05-17 17:59:45,075] Finished trial#75 with value: 0.24099831186378232 with parameters: {'rate_drop': 0.9229412551434808, 'learning_rate': 0.04259635102543466, 'min_split_loss': 0.5709038317229223, 'max_depth': 10, 'min_child_weight': 1, 'subsample': 0.9871160695892189, 'colsample_bytree': 0.9111841316589686, 'reg_lambda': 0.00024311131028556776, 'max_leaves': 99}. Best is trial#32 with value: 0.2336807178799063.\n"
     ]
    },
    {
     "name": "stderr",
     "output_type": "stream",
     "text": [
      "[I 2020-05-17 17:59:50,658] Finished trial#76 with value: 0.24606420703303927 with parameters: {'rate_drop': 0.9247679312172523, 'learning_rate': 0.042024088966813485, 'min_split_loss': 0.8577958272177121, 'max_depth': 12, 'min_child_weight': 1, 'subsample': 0.9127057197370674, 'colsample_bytree': 0.9074660298004875, 'reg_lambda': 0.0008599162613210832, 'max_leaves': 118}. Best is trial#32 with value: 0.2336807178799063.\n",
      "[I 2020-05-17 17:59:54,444] Finished trial#77 with value: 0.2573921849879508 with parameters: {'rate_drop': 0.9870286726645165, 'learning_rate': 0.034428016564244504, 'min_split_loss': 0.8254564293598482, 'max_depth': 8, 'min_child_weight': 3, 'subsample': 0.951626643894464, 'colsample_bytree': 0.8801606074449513, 'reg_lambda': 0.00010611170051465685, 'max_leaves': 101}. Best is trial#32 with value: 0.2336807178799063.\n",
      "[I 2020-05-17 18:00:00,436] Finished trial#78 with value: 0.25298721264474666 with parameters: {'rate_drop': 0.6307815186900375, 'learning_rate': 0.030803353747975545, 'min_split_loss': 0.46849046007608225, 'max_depth': 11, 'min_child_weight': 2, 'subsample': 0.9835216005374048, 'colsample_bytree': 0.9865291485647089, 'reg_lambda': 0.00016316613828148415, 'max_leaves': 96}. Best is trial#32 with value: 0.2336807178799063.\n",
      "[I 2020-05-17 18:00:04,542] Finished trial#79 with value: 0.24047375903823054 with parameters: {'rate_drop': 0.955127542606767, 'learning_rate': 0.045432394386948, 'min_split_loss': 0.7492958300747117, 'max_depth': 9, 'min_child_weight': 1, 'subsample': 0.9696141572154648, 'colsample_bytree': 0.9174925375116062, 'reg_lambda': 0.00044694965993248825, 'max_leaves': 124}. Best is trial#32 with value: 0.2336807178799063.\n",
      "[I 2020-05-17 18:00:08,952] Finished trial#80 with value: 0.2466234631048372 with parameters: {'rate_drop': 0.9981337157091604, 'learning_rate': 0.04644046703076603, 'min_split_loss': 0.746708306683348, 'max_depth': 9, 'min_child_weight': 2, 'subsample': 0.9378101740787168, 'colsample_bytree': 0.7697728581675229, 'reg_lambda': 0.0004448950177466251, 'max_leaves': 144}. Best is trial#32 with value: 0.2336807178799063.\n",
      "[I 2020-05-17 18:00:13,914] Finished trial#81 with value: 0.24556373768987563 with parameters: {'rate_drop': 0.9589915539486387, 'learning_rate': 0.0373476248147802, 'min_split_loss': 0.7871039895611882, 'max_depth': 10, 'min_child_weight': 1, 'subsample': 0.9707518003960814, 'colsample_bytree': 0.9589545433098934, 'reg_lambda': 0.001278509044621983, 'max_leaves': 123}. Best is trial#32 with value: 0.2336807178799063.\n",
      "[I 2020-05-17 18:00:19,380] Finished trial#82 with value: 0.24561582760025674 with parameters: {'rate_drop': 0.9221212183445778, 'learning_rate': 0.04318175520672634, 'min_split_loss': 0.714006050143795, 'max_depth': 8, 'min_child_weight': 1, 'subsample': 0.9642601011706845, 'colsample_bytree': 0.9390841458396915, 'reg_lambda': 0.0006564967910410852, 'max_leaves': 131}. Best is trial#32 with value: 0.2336807178799063.\n",
      "[I 2020-05-17 18:00:23,581] Finished trial#83 with value: 0.2542323941508165 with parameters: {'rate_drop': 0.8585807607781462, 'learning_rate': 0.027252424680910728, 'min_split_loss': 0.8057734818667832, 'max_depth': 10, 'min_child_weight': 2, 'subsample': 0.9884242420149992, 'colsample_bytree': 0.8954949978060245, 'reg_lambda': 0.00037112858662450773, 'max_leaves': 108}. Best is trial#32 with value: 0.2336807178799063.\n",
      "[I 2020-05-17 18:00:28,425] Finished trial#84 with value: 0.240614989772439 with parameters: {'rate_drop': 0.7239813855170057, 'learning_rate': 0.04831153425606465, 'min_split_loss': 0.6821747473646875, 'max_depth': 9, 'min_child_weight': 1, 'subsample': 0.931030646448972, 'colsample_bytree': 0.9114601814093288, 'reg_lambda': 0.0002318377016641022, 'max_leaves': 136}. Best is trial#32 with value: 0.2336807178799063.\n",
      "[I 2020-05-17 18:00:30,876] Finished trial#85 with value: 0.29061357479972333 with parameters: {'rate_drop': 0.7199373026967162, 'learning_rate': 0.097970385148723, 'min_split_loss': 0.770683536908274, 'max_depth': 9, 'min_child_weight': 6, 'subsample': 0.8925945511344868, 'colsample_bytree': 0.9246392300103538, 'reg_lambda': 0.00022349860149582684, 'max_leaves': 136}. Best is trial#32 with value: 0.2336807178799063.\n",
      "[I 2020-05-17 18:00:35,855] Finished trial#86 with value: 0.2476641615995994 with parameters: {'rate_drop': 0.10026559433350918, 'learning_rate': 0.039260179586998394, 'min_split_loss': 0.692260573609528, 'max_depth': 12, 'min_child_weight': 1, 'subsample': 0.8715198812655162, 'colsample_bytree': 0.8439111354686903, 'reg_lambda': 0.00015214850494303276, 'max_leaves': 121}. Best is trial#32 with value: 0.2336807178799063.\n",
      "[I 2020-05-17 18:00:40,073] Finished trial#87 with value: 0.24472655567268914 with parameters: {'rate_drop': 0.7587913252292473, 'learning_rate': 0.049625251520984556, 'min_split_loss': 0.6725100840128209, 'max_depth': 11, 'min_child_weight': 2, 'subsample': 0.948721568958181, 'colsample_bytree': 0.8928118998291303, 'reg_lambda': 0.0010601388918805713, 'max_leaves': 149}. Best is trial#32 with value: 0.2336807178799063.\n",
      "[I 2020-05-17 18:00:46,247] Finished trial#88 with value: 0.24102064440600002 with parameters: {'rate_drop': 0.6878767553573779, 'learning_rate': 0.04458330698973487, 'min_split_loss': 0.7402506059165845, 'max_depth': 10, 'min_child_weight': 1, 'subsample': 0.9187130671712039, 'colsample_bytree': 0.8171546639380192, 'reg_lambda': 0.000312436910384586, 'max_leaves': 128}. Best is trial#32 with value: 0.2336807178799063.\n",
      "[I 2020-05-17 18:00:52,029] Finished trial#89 with value: 0.24705038860870096 with parameters: {'rate_drop': 0.6821585432661983, 'learning_rate': 0.045965944112695424, 'min_split_loss': 0.7419154606332636, 'max_depth': 9, 'min_child_weight': 1, 'subsample': 0.9330494246282773, 'colsample_bytree': 0.8145002415645858, 'reg_lambda': 0.0002952192360258283, 'max_leaves': 127}. Best is trial#32 with value: 0.2336807178799063.\n",
      "[I 2020-05-17 18:00:56,085] Finished trial#90 with value: 0.2492767868635173 with parameters: {'rate_drop': 0.7860341299046407, 'learning_rate': 0.0411319918488077, 'min_split_loss': 0.7277142519211686, 'max_depth': 9, 'min_child_weight': 2, 'subsample': 0.9182685092238869, 'colsample_bytree': 0.8340097100749946, 'reg_lambda': 0.00020980357727111865, 'max_leaves': 140}. Best is trial#32 with value: 0.2336807178799063.\n",
      "[I 2020-05-17 18:01:02,699] Finished trial#91 with value: 0.24363060272298753 with parameters: {'rate_drop': 0.663573236410955, 'learning_rate': 0.04854939942136144, 'min_split_loss': 0.8393517610218573, 'max_depth': 10, 'min_child_weight': 1, 'subsample': 0.9048909841396668, 'colsample_bytree': 0.7832966763606646, 'reg_lambda': 0.0003335315615183425, 'max_leaves': 134}. Best is trial#32 with value: 0.2336807178799063.\n",
      "[I 2020-05-17 18:01:09,898] Finished trial#92 with value: 0.2448077083636935 with parameters: {'rate_drop': 0.747905454356994, 'learning_rate': 0.038433975221425803, 'min_split_loss': 0.7715464921106956, 'max_depth': 11, 'min_child_weight': 1, 'subsample': 0.9183833314250909, 'colsample_bytree': 0.7926778657844957, 'reg_lambda': 0.0005924090636693202, 'max_leaves': 114}. Best is trial#32 with value: 0.2336807178799063.\n",
      "[I 2020-05-17 18:01:15,527] Finished trial#93 with value: 0.2526261289604008 with parameters: {'rate_drop': 0.6365895407713809, 'learning_rate': 0.051680363654311015, 'min_split_loss': 0.807733463637152, 'max_depth': 10, 'min_child_weight': 1, 'subsample': 0.9494968876600001, 'colsample_bytree': 0.8792590039404115, 'reg_lambda': 0.0004073500652180148, 'max_leaves': 64}. Best is trial#32 with value: 0.2336807178799063.\n",
      "[I 2020-05-17 18:01:20,354] Finished trial#94 with value: 0.24998200742098 with parameters: {'rate_drop': 0.7161107231489281, 'learning_rate': 0.03255411662639102, 'min_split_loss': 0.865196550310506, 'max_depth': 13, 'min_child_weight': 2, 'subsample': 0.9760061901996213, 'colsample_bytree': 0.8175388270293211, 'reg_lambda': 0.00012382532133284332, 'max_leaves': 128}. Best is trial#32 with value: 0.2336807178799063.\n",
      "[I 2020-05-17 18:01:25,902] Finished trial#95 with value: 0.24755307861890358 with parameters: {'rate_drop': 0.7013332171165384, 'learning_rate': 0.035131529897433386, 'min_split_loss': 0.9002756845879738, 'max_depth': 11, 'min_child_weight': 1, 'subsample': 0.9295937046900317, 'colsample_bytree': 0.7614785326226675, 'reg_lambda': 0.00048099785642092635, 'max_leaves': 120}. Best is trial#32 with value: 0.2336807178799063.\n",
      "[I 2020-05-17 18:01:33,022] Finished trial#96 with value: 0.24416739823153386 with parameters: {'rate_drop': 0.7369107192294119, 'learning_rate': 0.043067044898701654, 'min_split_loss': 0.6895789550624123, 'max_depth': 12, 'min_child_weight': 1, 'subsample': 0.9570653084451197, 'colsample_bytree': 0.9478738871199558, 'reg_lambda': 0.0008802451992528736, 'max_leaves': 136}. Best is trial#32 with value: 0.2336807178799063.\n",
      "[I 2020-05-17 18:01:36,583] Finished trial#97 with value: 0.24478539512850916 with parameters: {'rate_drop': 0.608429280159354, 'learning_rate': 0.04492169362716227, 'min_split_loss': 0.7646840050235332, 'max_depth': 10, 'min_child_weight': 2, 'subsample': 0.9417390979519424, 'colsample_bytree': 0.7469759915327712, 'reg_lambda': 0.0017290722691176903, 'max_leaves': 57}. Best is trial#32 with value: 0.2336807178799063.\n",
      "[I 2020-05-17 18:01:41,456] Finished trial#98 with value: 0.24922230732269013 with parameters: {'rate_drop': 0.7983742495032039, 'learning_rate': 0.09357636291737946, 'min_split_loss': 0.9532688558175579, 'max_depth': 9, 'min_child_weight': 1, 'subsample': 0.9875862380479383, 'colsample_bytree': 0.8639372216801288, 'reg_lambda': 0.00023923890597768829, 'max_leaves': 117}. Best is trial#32 with value: 0.2336807178799063.\n",
      "[I 2020-05-17 18:01:44,856] Finished trial#99 with value: 0.25804204309287554 with parameters: {'rate_drop': 0.9982604521868816, 'learning_rate': 0.04723784084012893, 'min_split_loss': 0.790445105261394, 'max_depth': 11, 'min_child_weight': 3, 'subsample': 0.9022048403271378, 'colsample_bytree': 0.8045423995404429, 'reg_lambda': 0.00018260960831571746, 'max_leaves': 143}. Best is trial#32 with value: 0.2336807178799063.\n",
      "[I 2020-05-17 18:01:49,458] Finished trial#100 with value: 0.24919165348490843 with parameters: {'rate_drop': 0.6560281994558221, 'learning_rate': 0.05056638824346161, 'min_split_loss': 0.7130628373867628, 'max_depth': 19, 'min_child_weight': 2, 'subsample': 0.8833457717114548, 'colsample_bytree': 0.9116545506622723, 'reg_lambda': 0.0006887522898544555, 'max_leaves': 68}. Best is trial#32 with value: 0.2336807178799063.\n",
      "[I 2020-05-17 18:01:53,068] Finished trial#101 with value: 0.24137726564031953 with parameters: {'rate_drop': 0.8820379431013078, 'learning_rate': 0.058666856994079544, 'min_split_loss': 0.637633752124404, 'max_depth': 8, 'min_child_weight': 1, 'subsample': 0.9690683994170034, 'colsample_bytree': 0.9243978581862574, 'reg_lambda': 0.0022715442220753272, 'max_leaves': 89}. Best is trial#32 with value: 0.2336807178799063.\n",
      "[I 2020-05-17 18:01:56,980] Finished trial#102 with value: 0.2452817321754992 with parameters: {'rate_drop': 0.9480226648267619, 'learning_rate': 0.056773410441193925, 'min_split_loss': 0.577632014362, 'max_depth': 8, 'min_child_weight': 1, 'subsample': 0.99919681872135, 'colsample_bytree': 0.9350884265583566, 'reg_lambda': 0.0038201513487483977, 'max_leaves': 87}. Best is trial#32 with value: 0.2336807178799063.\n",
      "[I 2020-05-17 18:02:00,822] Finished trial#103 with value: 0.2663282681829654 with parameters: {'rate_drop': 0.9128719493781, 'learning_rate': 0.05829753002789222, 'min_split_loss': 0.6464236120424333, 'max_depth': 9, 'min_child_weight': 1, 'subsample': 0.5000930206076721, 'colsample_bytree': 0.9255087092818399, 'reg_lambda': 0.0012728078012800357, 'max_leaves': 75}. Best is trial#32 with value: 0.2336807178799063.\n",
      "[I 2020-05-17 18:02:04,889] Finished trial#104 with value: 0.23631854237128908 with parameters: {'rate_drop': 0.8820845090829076, 'learning_rate': 0.08470503206945869, 'min_split_loss': 0.6792595564295193, 'max_depth': 8, 'min_child_weight': 1, 'subsample': 0.9743798967207556, 'colsample_bytree': 0.8758226562186414, 'reg_lambda': 0.002479297579798369, 'max_leaves': 83}. Best is trial#32 with value: 0.2336807178799063.\n",
      "[I 2020-05-17 18:02:08,267] Finished trial#105 with value: 0.23594541790393683 with parameters: {'rate_drop': 0.8283048072319872, 'learning_rate': 0.08757413322252675, 'min_split_loss': 0.6146739824603282, 'max_depth': 8, 'min_child_weight': 1, 'subsample': 0.9742543439822369, 'colsample_bytree': 0.8472745507199881, 'reg_lambda': 0.001033745345778015, 'max_leaves': 84}. Best is trial#32 with value: 0.2336807178799063.\n",
      "[I 2020-05-17 18:02:12,644] Finished trial#106 with value: 0.2407398124655279 with parameters: {'rate_drop': 0.8346624706836021, 'learning_rate': 0.08739207658803153, 'min_split_loss': 0.6102176028338784, 'max_depth': 8, 'min_child_weight': 1, 'subsample': 0.9743568305005164, 'colsample_bytree': 0.8770150044457568, 'reg_lambda': 0.0026599460983234183, 'max_leaves': 83}. Best is trial#32 with value: 0.2336807178799063.\n",
      "[I 2020-05-17 18:02:16,202] Finished trial#107 with value: 0.24506183509499982 with parameters: {'rate_drop': 0.8816822037873747, 'learning_rate': 0.08377123830862979, 'min_split_loss': 0.5925796431154092, 'max_depth': 8, 'min_child_weight': 1, 'subsample': 0.974228555845496, 'colsample_bytree': 0.8738069059226122, 'reg_lambda': 0.0023654949842797377, 'max_leaves': 95}. Best is trial#32 with value: 0.2336807178799063.\n",
      "[I 2020-05-17 18:02:18,393] Finished trial#108 with value: 0.27899754878420097 with parameters: {'rate_drop': 0.8293453501200595, 'learning_rate': 0.08679355669821608, 'min_split_loss': 0.554837502155446, 'max_depth': 8, 'min_child_weight': 5, 'subsample': 0.960940606628486, 'colsample_bytree': 0.8945478883124288, 'reg_lambda': 0.005117056247694858, 'max_leaves': 87}. Best is trial#32 with value: 0.2336807178799063.\n",
      "[I 2020-05-17 18:02:22,794] Finished trial#109 with value: 0.23751657739138374 with parameters: {'rate_drop': 0.846771462325068, 'learning_rate': 0.0914741941910123, 'min_split_loss': 0.6137338079774295, 'max_depth': 8, 'min_child_weight': 1, 'subsample': 0.979391036284702, 'colsample_bytree': 0.9070458278519693, 'reg_lambda': 0.001934640293648743, 'max_leaves': 90}. Best is trial#32 with value: 0.2336807178799063.\n",
      "[I 2020-05-17 18:02:27,068] Finished trial#110 with value: 0.2328482777453386 with parameters: {'rate_drop': 0.8379372741557185, 'learning_rate': 0.07720548292342086, 'min_split_loss': 0.6172942056243337, 'max_depth': 8, 'min_child_weight': 1, 'subsample': 0.9800595744933449, 'colsample_bytree': 0.9081193441076302, 'reg_lambda': 0.0017149294109378532, 'max_leaves': 100}. Best is trial#110 with value: 0.2328482777453386.\n",
      "[I 2020-05-17 18:02:31,225] Finished trial#111 with value: 0.23628742455576474 with parameters: {'rate_drop': 0.8462967033307338, 'learning_rate': 0.07537031746751377, 'min_split_loss': 0.5368249847650738, 'max_depth': 8, 'min_child_weight': 1, 'subsample': 0.9890433801141412, 'colsample_bytree': 0.886016312703673, 'reg_lambda': 0.002905472085185696, 'max_leaves': 103}. Best is trial#110 with value: 0.2328482777453386.\n",
      "[I 2020-05-17 18:02:35,654] Finished trial#112 with value: 0.234232922980132 with parameters: {'rate_drop': 0.8548720130432541, 'learning_rate': 0.07633782986853924, 'min_split_loss': 0.520759380960095, 'max_depth': 8, 'min_child_weight': 1, 'subsample': 0.9824693068994033, 'colsample_bytree': 0.9007138409470454, 'reg_lambda': 0.003124120059110143, 'max_leaves': 101}. Best is trial#110 with value: 0.2328482777453386.\n",
      "[I 2020-05-17 18:02:40,899] Finished trial#113 with value: 0.23429583779607827 with parameters: {'rate_drop': 0.850808768034999, 'learning_rate': 0.07628914526710287, 'min_split_loss': 0.5154002731791917, 'max_depth': 8, 'min_child_weight': 1, 'subsample': 0.9807177325162174, 'colsample_bytree': 0.8823107451500426, 'reg_lambda': 0.0029842081905575965, 'max_leaves': 104}. Best is trial#110 with value: 0.2328482777453386.\n"
     ]
    },
    {
     "name": "stderr",
     "output_type": "stream",
     "text": [
      "[I 2020-05-17 18:02:44,680] Finished trial#114 with value: 0.238750842328255 with parameters: {'rate_drop': 0.8491364682656789, 'learning_rate': 0.0770375293063097, 'min_split_loss': 0.5186298491331421, 'max_depth': 8, 'min_child_weight': 1, 'subsample': 0.9840074016547521, 'colsample_bytree': 0.8887733870783623, 'reg_lambda': 0.004042845575970693, 'max_leaves': 105}. Best is trial#110 with value: 0.2328482777453386.\n",
      "[I 2020-05-17 18:02:48,414] Finished trial#115 with value: 0.23673801475132888 with parameters: {'rate_drop': 0.8433600899190027, 'learning_rate': 0.07616214011546839, 'min_split_loss': 0.5172541127544699, 'max_depth': 8, 'min_child_weight': 1, 'subsample': 0.999810791315374, 'colsample_bytree': 0.8855032703108465, 'reg_lambda': 0.003392105701194897, 'max_leaves': 104}. Best is trial#110 with value: 0.2328482777453386.\n",
      "[I 2020-05-17 18:02:52,442] Finished trial#116 with value: 0.24567071452307013 with parameters: {'rate_drop': 0.8474734019278819, 'learning_rate': 0.0767838381157355, 'min_split_loss': 0.5032627452210805, 'max_depth': 8, 'min_child_weight': 1, 'subsample': 0.9935230763893264, 'colsample_bytree': 0.8892048544979764, 'reg_lambda': 0.004023867387536366, 'max_leaves': 104}. Best is trial#110 with value: 0.2328482777453386.\n",
      "[I 2020-05-17 18:02:56,178] Finished trial#117 with value: 0.22770585750158018 with parameters: {'rate_drop': 0.8204207317687896, 'learning_rate': 0.07843714539446894, 'min_split_loss': 0.43713951324089595, 'max_depth': 8, 'min_child_weight': 1, 'subsample': 0.9814845316457591, 'colsample_bytree': 0.8648198527157481, 'reg_lambda': 0.003379577549644459, 'max_leaves': 111}. Best is trial#117 with value: 0.22770585750158018.\n",
      "[I 2020-05-17 18:03:00,301] Finished trial#118 with value: 0.22509114333213523 with parameters: {'rate_drop': 0.7998554790473605, 'learning_rate': 0.08254592411822248, 'min_split_loss': 0.453358104006338, 'max_depth': 8, 'min_child_weight': 1, 'subsample': 0.9995250735503225, 'colsample_bytree': 0.9008138801912015, 'reg_lambda': 0.0033177806819007093, 'max_leaves': 101}. Best is trial#118 with value: 0.22509114333213523.\n",
      "[I 2020-05-17 18:03:04,072] Finished trial#119 with value: 0.23655835374330098 with parameters: {'rate_drop': 0.8127893164080594, 'learning_rate': 0.08237241219143325, 'min_split_loss': 0.4308375998026698, 'max_depth': 8, 'min_child_weight': 1, 'subsample': 0.9924977770192087, 'colsample_bytree': 0.8638147473068436, 'reg_lambda': 0.0030653475904030675, 'max_leaves': 111}. Best is trial#118 with value: 0.22509114333213523.\n",
      "[I 2020-05-17 18:03:07,822] Finished trial#120 with value: 0.2312953806338975 with parameters: {'rate_drop': 0.8181727255624671, 'learning_rate': 0.08123224681034727, 'min_split_loss': 0.43206969232560377, 'max_depth': 8, 'min_child_weight': 1, 'subsample': 0.9973690464666524, 'colsample_bytree': 0.8451376628198867, 'reg_lambda': 0.002973618335885538, 'max_leaves': 110}. Best is trial#118 with value: 0.22509114333213523.\n",
      "[I 2020-05-17 18:03:11,285] Finished trial#121 with value: 0.23541719903453037 with parameters: {'rate_drop': 0.8141788305602151, 'learning_rate': 0.08332007194611044, 'min_split_loss': 0.43436480399492505, 'max_depth': 8, 'min_child_weight': 1, 'subsample': 0.9974092801607735, 'colsample_bytree': 0.8625694866616326, 'reg_lambda': 0.0029364162256853145, 'max_leaves': 109}. Best is trial#118 with value: 0.22509114333213523.\n",
      "[I 2020-05-17 18:03:15,162] Finished trial#122 with value: 0.24202343388102376 with parameters: {'rate_drop': 0.8115371907864949, 'learning_rate': 0.07368840833743047, 'min_split_loss': 0.41461499716013933, 'max_depth': 8, 'min_child_weight': 1, 'subsample': 0.9985532787289683, 'colsample_bytree': 0.8658231932232922, 'reg_lambda': 0.002944651163283826, 'max_leaves': 109}. Best is trial#118 with value: 0.22509114333213523.\n",
      "[I 2020-05-17 18:03:18,856] Finished trial#123 with value: 0.23949485551565886 with parameters: {'rate_drop': 0.7968606291585465, 'learning_rate': 0.08248505317796244, 'min_split_loss': 0.3557530843190589, 'max_depth': 8, 'min_child_weight': 1, 'subsample': 0.9987402606946341, 'colsample_bytree': 0.8626229485192717, 'reg_lambda': 0.006239789318538785, 'max_leaves': 101}. Best is trial#118 with value: 0.22509114333213523.\n",
      "[I 2020-05-17 18:03:23,195] Finished trial#124 with value: 0.22864709697807065 with parameters: {'rate_drop': 0.770992199059881, 'learning_rate': 0.07826947303855314, 'min_split_loss': 0.43991678877736057, 'max_depth': 8, 'min_child_weight': 1, 'subsample': 0.987754654510558, 'colsample_bytree': 0.8451677126355883, 'reg_lambda': 0.009165949431933723, 'max_leaves': 106}. Best is trial#118 with value: 0.22509114333213523.\n",
      "[I 2020-05-17 18:03:26,435] Finished trial#125 with value: 0.232640968528218 with parameters: {'rate_drop': 0.774072292852111, 'learning_rate': 0.07991575955588795, 'min_split_loss': 0.4422824177828521, 'max_depth': 8, 'min_child_weight': 1, 'subsample': 0.9882980229519821, 'colsample_bytree': 0.8455820485219511, 'reg_lambda': 0.005554833073904328, 'max_leaves': 110}. Best is trial#118 with value: 0.22509114333213523.\n",
      "[I 2020-05-17 18:03:30,215] Finished trial#126 with value: 0.2336890774850662 with parameters: {'rate_drop': 0.7722170834526055, 'learning_rate': 0.07869580173190709, 'min_split_loss': 0.4638404965601789, 'max_depth': 9, 'min_child_weight': 1, 'subsample': 0.9829503467163689, 'colsample_bytree': 0.849011117215816, 'reg_lambda': 0.010627275697489422, 'max_leaves': 110}. Best is trial#118 with value: 0.22509114333213523.\n",
      "[I 2020-05-17 18:03:33,997] Finished trial#127 with value: 0.2341526850986366 with parameters: {'rate_drop': 0.7743520019812097, 'learning_rate': 0.07893718572387581, 'min_split_loss': 0.4686567784855699, 'max_depth': 25, 'min_child_weight': 1, 'subsample': 0.9853020391600126, 'colsample_bytree': 0.8467985786420464, 'reg_lambda': 0.009530019553541462, 'max_leaves': 110}. Best is trial#118 with value: 0.22509114333213523.\n",
      "[I 2020-05-17 18:03:37,762] Finished trial#128 with value: 0.24373050216728678 with parameters: {'rate_drop': 0.7773750545187875, 'learning_rate': 0.06804839423854747, 'min_split_loss': 0.46586943868746405, 'max_depth': 24, 'min_child_weight': 1, 'subsample': 0.9809314128316271, 'colsample_bytree': 0.8433286460286719, 'reg_lambda': 0.011259559110012422, 'max_leaves': 109}. Best is trial#118 with value: 0.22509114333213523.\n",
      "[I 2020-05-17 18:03:41,763] Finished trial#129 with value: 0.23392058077913064 with parameters: {'rate_drop': 0.7682400091509213, 'learning_rate': 0.07927587197121383, 'min_split_loss': 0.3925782871473599, 'max_depth': 20, 'min_child_weight': 1, 'subsample': 0.9591194362850822, 'colsample_bytree': 0.8448748051637106, 'reg_lambda': 0.005678692110592837, 'max_leaves': 113}. Best is trial#118 with value: 0.22509114333213523.\n",
      "[I 2020-05-17 18:03:45,294] Finished trial#130 with value: 0.2541901936324743 with parameters: {'rate_drop': 0.7745948886310704, 'learning_rate': 0.07963342249580342, 'min_split_loss': 0.3799951654795093, 'max_depth': 21, 'min_child_weight': 1, 'subsample': 0.9626705622841659, 'colsample_bytree': 0.8357099290139838, 'reg_lambda': 0.005976364655539909, 'max_leaves': 113}. Best is trial#118 with value: 0.22509114333213523.\n",
      "[I 2020-05-17 18:03:49,184] Finished trial#131 with value: 0.2400186644293941 with parameters: {'rate_drop': 0.7653514006281985, 'learning_rate': 0.07144477216552225, 'min_split_loss': 0.44821931709297613, 'max_depth': 22, 'min_child_weight': 1, 'subsample': 0.9996333065005539, 'colsample_bytree': 0.8513361191969411, 'reg_lambda': 0.010095709106372443, 'max_leaves': 116}. Best is trial#118 with value: 0.22509114333213523.\n",
      "[I 2020-05-17 18:03:52,677] Finished trial#132 with value: 0.24314142326609448 with parameters: {'rate_drop': 0.751504239116642, 'learning_rate': 0.07902086400229714, 'min_split_loss': 0.39421651401359376, 'max_depth': 19, 'min_child_weight': 1, 'subsample': 0.983331187508419, 'colsample_bytree': 0.8403677685975564, 'reg_lambda': 0.007900000891684246, 'max_leaves': 108}. Best is trial#118 with value: 0.22509114333213523.\n",
      "[I 2020-05-17 18:03:58,025] Finished trial#133 with value: 0.2504024479108361 with parameters: {'rate_drop': 0.7981500958307275, 'learning_rate': 0.08909644951767169, 'min_split_loss': 0.48681875371418903, 'max_depth': 23, 'min_child_weight': 1, 'subsample': 0.9887970300382241, 'colsample_bytree': 0.8532780001740173, 'reg_lambda': 0.009168838981961209, 'max_leaves': 106}. Best is trial#118 with value: 0.22509114333213523.\n",
      "[I 2020-05-17 18:04:02,052] Finished trial#134 with value: 0.24931602244480297 with parameters: {'rate_drop': 0.8184804160004204, 'learning_rate': 0.0730241603325524, 'min_split_loss': 0.424429489396559, 'max_depth': 9, 'min_child_weight': 1, 'subsample': 0.9649861967684761, 'colsample_bytree': 0.8270988888067315, 'reg_lambda': 0.01750531950222444, 'max_leaves': 112}. Best is trial#118 with value: 0.22509114333213523.\n",
      "[I 2020-05-17 18:04:06,102] Finished trial#135 with value: 0.242802096494975 with parameters: {'rate_drop': 0.788237918705772, 'learning_rate': 0.099856307672794, 'min_split_loss': 0.46754536252719486, 'max_depth': 18, 'min_child_weight': 1, 'subsample': 0.955676763836033, 'colsample_bytree': 0.8454394092853103, 'reg_lambda': 0.005232000967549529, 'max_leaves': 120}. Best is trial#118 with value: 0.22509114333213523.\n",
      "[I 2020-05-17 18:04:10,337] Finished trial#136 with value: 0.24562416780883303 with parameters: {'rate_drop': 0.7448322691227296, 'learning_rate': 0.07002527668260969, 'min_split_loss': 0.4430517438590517, 'max_depth': 24, 'min_child_weight': 1, 'subsample': 0.9789341123901931, 'colsample_bytree': 0.8690302694354038, 'reg_lambda': 0.005530861067013175, 'max_leaves': 99}. Best is trial#118 with value: 0.22509114333213523.\n",
      "[I 2020-05-17 18:04:13,940] Finished trial#137 with value: 0.24236352512469658 with parameters: {'rate_drop': 0.7634530772312345, 'learning_rate': 0.09051886850966957, 'min_split_loss': 0.3897398604713195, 'max_depth': 16, 'min_child_weight': 2, 'subsample': 0.9990392978897639, 'colsample_bytree': 0.9008463143083147, 'reg_lambda': 0.004582561899489515, 'max_leaves': 110}. Best is trial#118 with value: 0.22509114333213523.\n",
      "[I 2020-05-17 18:04:17,856] Finished trial#138 with value: 0.32308292990693677 with parameters: {'rate_drop': 0.8089723384003044, 'learning_rate': 0.013681633757544989, 'min_split_loss': 0.3069144262074607, 'max_depth': 9, 'min_child_weight': 1, 'subsample': 0.9715260812853875, 'colsample_bytree': 0.5578319327606704, 'reg_lambda': 0.007337761940133162, 'max_leaves': 95}. Best is trial#118 with value: 0.22509114333213523.\n",
      "[I 2020-05-17 18:04:22,569] Finished trial#139 with value: 0.24048496370848554 with parameters: {'rate_drop': 0.8287524041081971, 'learning_rate': 0.08583504240011895, 'min_split_loss': 0.36912110012839194, 'max_depth': 25, 'min_child_weight': 1, 'subsample': 0.9905662768898512, 'colsample_bytree': 0.849054642086133, 'reg_lambda': 0.0015150201485486074, 'max_leaves': 117}. Best is trial#118 with value: 0.22509114333213523.\n",
      "[I 2020-05-17 18:04:26,362] Finished trial#140 with value: 0.24037444394511673 with parameters: {'rate_drop': 0.8671861736497756, 'learning_rate': 0.07886368325229491, 'min_split_loss': 0.4904840378695014, 'max_depth': 20, 'min_child_weight': 2, 'subsample': 0.9479782815427664, 'colsample_bytree': 0.8591198791558918, 'reg_lambda': 0.012983561915510235, 'max_leaves': 106}. Best is trial#118 with value: 0.22509114333213523.\n",
      "[I 2020-05-17 18:04:30,284] Finished trial#141 with value: 0.23987935590915954 with parameters: {'rate_drop': 0.7909571968726705, 'learning_rate': 0.07487668855525371, 'min_split_loss': 0.4080700805190294, 'max_depth': 8, 'min_child_weight': 1, 'subsample': 0.9889611555140754, 'colsample_bytree': 0.8792017705520689, 'reg_lambda': 0.0034385437487515096, 'max_leaves': 102}. Best is trial#118 with value: 0.22509114333213523.\n",
      "[I 2020-05-17 18:04:34,081] Finished trial#142 with value: 0.23941253895799702 with parameters: {'rate_drop': 0.7769524657270092, 'learning_rate': 0.09539572513171556, 'min_split_loss': 0.5396485731244814, 'max_depth': 8, 'min_child_weight': 1, 'subsample': 0.9811733154638772, 'colsample_bytree': 0.8314873427051962, 'reg_lambda': 0.002042226547094895, 'max_leaves': 100}. Best is trial#118 with value: 0.22509114333213523.\n",
      "[I 2020-05-17 18:04:38,552] Finished trial#143 with value: 0.24718730090759122 with parameters: {'rate_drop': 0.8635330271759949, 'learning_rate': 0.06572853941275582, 'min_split_loss': 0.46712450238375214, 'max_depth': 8, 'min_child_weight': 1, 'subsample': 0.9614502379070442, 'colsample_bytree': 0.8847313363764534, 'reg_lambda': 0.009454328065959569, 'max_leaves': 114}. Best is trial#118 with value: 0.22509114333213523.\n",
      "[I 2020-05-17 18:04:42,419] Finished trial#144 with value: 0.22708653748178712 with parameters: {'rate_drop': 0.8314899801108538, 'learning_rate': 0.0810527029974682, 'min_split_loss': 0.450750293945796, 'max_depth': 9, 'min_child_weight': 1, 'subsample': 0.9902839919319212, 'colsample_bytree': 0.900302549232201, 'reg_lambda': 0.004054614295352317, 'max_leaves': 103}. Best is trial#118 with value: 0.22509114333213523.\n",
      "[I 2020-05-17 18:04:46,347] Finished trial#145 with value: 0.24172621682429543 with parameters: {'rate_drop': 0.8163225840533606, 'learning_rate': 0.08212558895655243, 'min_split_loss': 0.45069849082075003, 'max_depth': 9, 'min_child_weight': 1, 'subsample': 0.9999318321407662, 'colsample_bytree': 0.9045534613722415, 'reg_lambda': 0.004709807736635468, 'max_leaves': 109}. Best is trial#118 with value: 0.22509114333213523.\n",
      "[I 2020-05-17 18:04:50,686] Finished trial#146 with value: 0.24473320141148108 with parameters: {'rate_drop': 0.7576647605937581, 'learning_rate': 0.07855267308335795, 'min_split_loss': 0.4304343909289464, 'max_depth': 9, 'min_child_weight': 1, 'subsample': 0.7020824779258613, 'colsample_bytree': 0.8690470161004812, 'reg_lambda': 0.0038517278454855584, 'max_leaves': 97}. Best is trial#118 with value: 0.22509114333213523.\n",
      "[I 2020-05-17 18:04:54,908] Finished trial#147 with value: 0.25739785509470564 with parameters: {'rate_drop': 0.8003928819980234, 'learning_rate': 0.08736931403903243, 'min_split_loss': 0.5030045897690244, 'max_depth': 9, 'min_child_weight': 1, 'subsample': 0.9713932075802887, 'colsample_bytree': 0.8390582398401183, 'reg_lambda': 0.017896601285038286, 'max_leaves': 106}. Best is trial#118 with value: 0.22509114333213523.\n",
      "[I 2020-05-17 18:04:59,323] Finished trial#148 with value: 0.24465830255156526 with parameters: {'rate_drop': 0.8320568056521415, 'learning_rate': 0.06899630926144809, 'min_split_loss': 0.4038812630665486, 'max_depth': 8, 'min_child_weight': 1, 'subsample': 0.9995806552243168, 'colsample_bytree': 0.8949157095096302, 'reg_lambda': 0.0016637707524111702, 'max_leaves': 122}. Best is trial#118 with value: 0.22509114333213523.\n",
      "[I 2020-05-17 18:05:03,326] Finished trial#149 with value: 0.24213556884429777 with parameters: {'rate_drop': 0.7773550429448229, 'learning_rate': 0.08342558475315227, 'min_split_loss': 0.48033947214182493, 'max_depth': 9, 'min_child_weight': 2, 'subsample': 0.9791191919133267, 'colsample_bytree': 0.8534560112418067, 'reg_lambda': 0.006864973909280338, 'max_leaves': 118}. Best is trial#118 with value: 0.22509114333213523.\n"
     ]
    }
   ],
   "source": [
    "study = optuna.create_study()\n",
    "study.optimize(objective, n_trials=150)"
   ]
  },
  {
   "cell_type": "code",
   "execution_count": 19,
   "metadata": {},
   "outputs": [
    {
     "name": "stdout",
     "output_type": "stream",
     "text": [
      "Number of finished trials: 150\n",
      "Best trial:\n",
      "Value: 0.22509114333213523\n",
      "Params: \n",
      " rate_drop: 0.7998554790473605\n",
      " learning_rate: 0.08254592411822248\n",
      " min_split_loss: 0.453358104006338\n",
      " max_depth: 8\n",
      " min_child_weight: 1\n",
      " subsample: 0.9995250735503225\n",
      " colsample_bytree: 0.9008138801912015\n",
      " reg_lambda: 0.0033177806819007093\n",
      " max_leaves: 101\n"
     ]
    }
   ],
   "source": [
    "print(\"Number of finished trials: {}\".format(len(study.trials)))\n",
    "\n",
    "print(\"Best trial:\")\n",
    "trial = study.best_trial\n",
    "\n",
    "print(\"Value: {}\".format(trial.value))\n",
    "\n",
    "print(\"Params: \")\n",
    "for key, value in trial.params.items():\n",
    "    print(\" {}: {}\".format(key, value))"
   ]
  },
  {
   "cell_type": "markdown",
   "metadata": {},
   "source": [
    "## Build the model"
   ]
  },
  {
   "cell_type": "code",
   "execution_count": null,
   "metadata": {},
   "outputs": [],
   "source": [
    "# Define 5-fold cross validation test harness\n",
    "kfold = StratifiedKFold(n_splits=5, shuffle=True, random_state=10)\n",
    "y_pred = 0"
   ]
  },
  {
   "cell_type": "code",
   "execution_count": null,
   "metadata": {},
   "outputs": [],
   "source": [
    "# Train the model using K-fold\n",
    "counter = 0\n",
    "\n",
    "for train, val in kfold.split(Xtrain, Ytrain):\n",
    "    counter += 1\n",
    "\n",
    "    train_x, train_y = Xtrain[train], Ytrain[train]\n",
    "    val_x, val_y = Xtrain[val], Ytrain[val]\n",
    "    df = pd.DataFrame(train_y, columns=['IsUnderRisk'])\n",
    "    neg, pos = np.bincount(df['IsUnderRisk'])\n",
    "    \n",
    "    model = XGBRegressor(\n",
    "        objective='multi:softprob',\n",
    "        eval_metric='mlogloss',\n",
    "        booster='gbtree',\n",
    "        sample_type='uniform',\n",
    "        tree_method='hist',\n",
    "        scale_pos_weight=neg/pos,\n",
    "        grow_policy='lossguide',\n",
    "        num_round=5000,\n",
    "        num_class=2,\n",
    "        rate_drop=0.14,\n",
    "        learning_rate=0.07,\n",
    "        min_split_loss=0.8,\n",
    "        max_depth=16,\n",
    "        min_child_weight=2,\n",
    "        subsample=0.96,\n",
    "        colsample_bytree=0.88,\n",
    "        reg_lambda=0.13,\n",
    "        max_leaves=94\n",
    "    )\n",
    "\n",
    "    model.fit(train_x, train_y, eval_set=[(val_x, val_y)], early_stopping_rounds=200, verbose=True)\n",
    "    pred = model.predict(Xtest, ntree_limit=model.best_ntree_limit)\n",
    "\n",
    "    y_pred += pred\n",
    "\n",
    "y_pred /= float(counter)"
   ]
  },
  {
   "cell_type": "markdown",
   "metadata": {},
   "source": [
    "## Validate the model"
   ]
  },
  {
   "cell_type": "code",
   "execution_count": null,
   "metadata": {},
   "outputs": [],
   "source": [
    "#Print log_loss\n",
    "loss = log_loss(test_y, y_pred)\n",
    "print('Overall log_loss of model:', loss)"
   ]
  },
  {
   "cell_type": "code",
   "execution_count": null,
   "metadata": {},
   "outputs": [],
   "source": [
    "#Print accuracy\n",
    "y_pred_binary = np.array([np.argmax(y_pred, axis=1)]).T\n",
    "acc_score = accuracy_score(Ytest, y_pred_binary)\n",
    "f1 = f1_score(Ytest, y_pred_binary)\n",
    "print('Overall accuracy:', acc_score)\n",
    "print('Overall F1-Score:', f1)"
   ]
  },
  {
   "cell_type": "code",
   "execution_count": null,
   "metadata": {},
   "outputs": [],
   "source": [
    "#Print Area Under Curve\n",
    "plt.figure()\n",
    "false_positive_rate, recall, thresholds = roc_curve(Ytest, y_pred_binary)\n",
    "roc_auc = auc(false_positive_rate, recall)\n",
    "plt.title('Receiver Operating Characteristic (ROC)')\n",
    "plt.plot(false_positive_rate, recall, 'b', label = 'AUC = %0.3f' %roc_auc)\n",
    "plt.legend(loc='lower right')\n",
    "plt.plot([0,1], [0,1], 'r--')\n",
    "plt.xlim([0.0,1.0])\n",
    "plt.ylim([0.0,1.0])\n",
    "plt.ylabel('Recall')\n",
    "plt.xlabel('Fall-out (1-Specificity)')\n",
    "plt.show()\n",
    "\n",
    "print('AUC score:', roc_auc)"
   ]
  },
  {
   "cell_type": "code",
   "execution_count": null,
   "metadata": {},
   "outputs": [],
   "source": [
    "#Print Confusion Matrix\n",
    "cm = confusion_matrix(Ytest, y_pred_binary)\n",
    "labels = ['0', '1']\n",
    "sns.heatmap(cm, xticklabels = labels, yticklabels = labels, annot = True, fmt='d', cmap=\"Blues\", vmin = 0.5);\n",
    "plt.title('Confusion Matrix')\n",
    "plt.ylabel('True Class')\n",
    "plt.xlabel('Predicted Class')\n",
    "plt.show()"
   ]
  },
  {
   "cell_type": "markdown",
   "metadata": {},
   "source": [
    "## Train model on entire data"
   ]
  },
  {
   "cell_type": "code",
   "execution_count": null,
   "metadata": {},
   "outputs": [],
   "source": [
    "# Define 5-fold cross validation test harness\n",
    "kfold = StratifiedKFold(n_splits=5, shuffle=True, random_state=10)\n",
    "y_pred = 0"
   ]
  },
  {
   "cell_type": "code",
   "execution_count": null,
   "metadata": {},
   "outputs": [],
   "source": [
    "# Train the model using K-fold\n",
    "counter = 0\n",
    "\n",
    "for train, val in kfold.split(Xtrain_full, Ytrain_full):\n",
    "    counter += 1\n",
    "\n",
    "    train_x, train_y = Xtrain_full[train], Ytrain_full[train]\n",
    "    val_x, val_y = Xtrain_full[val], Ytrain_full[val]\n",
    "    df = pd.DataFrame(train_y, columns=['IsUnderRisk'])\n",
    "    neg, pos = np.bincount(df['IsUnderRisk'])\n",
    "    \n",
    "    model = XGBRegressor(\n",
    "        objective='multi:softprob',\n",
    "        eval_metric='mlogloss',\n",
    "        booster='gbtree',\n",
    "        sample_type='uniform',\n",
    "        tree_method='hist',\n",
    "        scale_pos_weight=neg/pos,\n",
    "        grow_policy='lossguide',\n",
    "        num_round=5000,\n",
    "        num_class=2,\n",
    "        rate_drop=0.6,\n",
    "        learning_rate=0.06,\n",
    "        min_split_loss=0.7,\n",
    "        max_depth=11,\n",
    "        min_child_weight=1,\n",
    "        subsample=0.88,\n",
    "        colsample_bytree=0.87,\n",
    "        reg_lambda=0.0006,\n",
    "        max_leaves=132\n",
    "    )\n",
    "\n",
    "    model.fit(train_x, train_y, eval_set=[(val_x, val_y)], early_stopping_rounds=200, verbose=True)\n",
    "    pred = model.predict(Xpredict, ntree_limit=model.best_ntree_limit)\n",
    "\n",
    "    y_pred += pred\n",
    "\n",
    "y_pred /= float(counter)"
   ]
  },
  {
   "cell_type": "markdown",
   "metadata": {},
   "source": [
    "## Create submission file"
   ]
  },
  {
   "cell_type": "code",
   "execution_count": null,
   "metadata": {},
   "outputs": [],
   "source": [
    "submit_df = pd.DataFrame(y_pred, columns=['0','1'])\n",
    "submit_df.head()"
   ]
  },
  {
   "cell_type": "code",
   "execution_count": null,
   "metadata": {},
   "outputs": [],
   "source": [
    "submit_df.to_excel(\"Predictions/predictions_v12.xlsx\", index=False)"
   ]
  },
  {
   "cell_type": "code",
   "execution_count": null,
   "metadata": {},
   "outputs": [],
   "source": []
  }
 ],
 "metadata": {
  "kernelspec": {
   "display_name": "Python 3",
   "language": "python",
   "name": "python3"
  },
  "language_info": {
   "codemirror_mode": {
    "name": "ipython",
    "version": 3
   },
   "file_extension": ".py",
   "mimetype": "text/x-python",
   "name": "python",
   "nbconvert_exporter": "python",
   "pygments_lexer": "ipython3",
   "version": "3.7.9"
  }
 },
 "nbformat": 4,
 "nbformat_minor": 4
}
