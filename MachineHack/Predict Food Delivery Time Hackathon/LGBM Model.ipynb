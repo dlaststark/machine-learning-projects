{
 "cells": [
  {
   "cell_type": "code",
   "execution_count": 1,
   "metadata": {},
   "outputs": [
    {
     "name": "stderr",
     "output_type": "stream",
     "text": [
      "Using TensorFlow backend.\n"
     ]
    }
   ],
   "source": [
    "import pandas as pd\n",
    "import numpy as np\n",
    "from sklearn.feature_extraction.text import TfidfVectorizer\n",
    "from sklearn.preprocessing import RobustScaler\n",
    "from sklearn.model_selection import StratifiedShuffleSplit\n",
    "from sklearn.metrics import f1_score, accuracy_score\n",
    "from imblearn.over_sampling import SMOTE\n",
    "import lightgbm as lgb"
   ]
  },
  {
   "cell_type": "code",
   "execution_count": 37,
   "metadata": {},
   "outputs": [],
   "source": [
    "# Set file paths for train and predict datasets\n",
    "train_file = 'DataSet/Data_Train.xlsx'\n",
    "predict_file = 'DataSet/Data_Test.xlsx'"
   ]
  },
  {
   "cell_type": "code",
   "execution_count": 38,
   "metadata": {},
   "outputs": [],
   "source": [
    "# Extract train/predict data from spreadsheet into pandas dataframes\n",
    "train_df = pd.read_excel(train_file)\n",
    "predict_df = pd.read_excel(predict_file)"
   ]
  },
  {
   "cell_type": "code",
   "execution_count": 39,
   "metadata": {},
   "outputs": [
    {
     "data": {
      "text/html": [
       "<div>\n",
       "<style scoped>\n",
       "    .dataframe tbody tr th:only-of-type {\n",
       "        vertical-align: middle;\n",
       "    }\n",
       "\n",
       "    .dataframe tbody tr th {\n",
       "        vertical-align: top;\n",
       "    }\n",
       "\n",
       "    .dataframe thead th {\n",
       "        text-align: right;\n",
       "    }\n",
       "</style>\n",
       "<table border=\"1\" class=\"dataframe\">\n",
       "  <thead>\n",
       "    <tr style=\"text-align: right;\">\n",
       "      <th></th>\n",
       "      <th>Restaurant</th>\n",
       "      <th>Location</th>\n",
       "      <th>Cuisines</th>\n",
       "      <th>Average_Cost</th>\n",
       "      <th>Minimum_Order</th>\n",
       "      <th>Rating</th>\n",
       "      <th>Votes</th>\n",
       "      <th>Reviews</th>\n",
       "      <th>Delivery_Time</th>\n",
       "      <th>Del_Time</th>\n",
       "      <th>Del_Time_enc</th>\n",
       "    </tr>\n",
       "  </thead>\n",
       "  <tbody>\n",
       "    <tr>\n",
       "      <td>0</td>\n",
       "      <td>ID_6321</td>\n",
       "      <td>FTI College, Law College Road, Pune</td>\n",
       "      <td>Fast Food, Rolls, Burger, Salad, Wraps</td>\n",
       "      <td>200</td>\n",
       "      <td>50</td>\n",
       "      <td>3.5</td>\n",
       "      <td>12</td>\n",
       "      <td>4</td>\n",
       "      <td>30 minutes</td>\n",
       "      <td>30</td>\n",
       "      <td>0</td>\n",
       "    </tr>\n",
       "    <tr>\n",
       "      <td>1</td>\n",
       "      <td>ID_2882</td>\n",
       "      <td>Sector 3, Marathalli</td>\n",
       "      <td>Ice Cream, Desserts</td>\n",
       "      <td>100</td>\n",
       "      <td>50</td>\n",
       "      <td>3.5</td>\n",
       "      <td>11</td>\n",
       "      <td>4</td>\n",
       "      <td>30 minutes</td>\n",
       "      <td>30</td>\n",
       "      <td>0</td>\n",
       "    </tr>\n",
       "    <tr>\n",
       "      <td>2</td>\n",
       "      <td>ID_1595</td>\n",
       "      <td>Mumbai Central</td>\n",
       "      <td>Italian, Street Food, Fast Food</td>\n",
       "      <td>150</td>\n",
       "      <td>50</td>\n",
       "      <td>3.6</td>\n",
       "      <td>99</td>\n",
       "      <td>30</td>\n",
       "      <td>65 minutes</td>\n",
       "      <td>65</td>\n",
       "      <td>1</td>\n",
       "    </tr>\n",
       "    <tr>\n",
       "      <td>3</td>\n",
       "      <td>ID_5929</td>\n",
       "      <td>Sector 1, Noida</td>\n",
       "      <td>Mughlai, North Indian, Chinese</td>\n",
       "      <td>250</td>\n",
       "      <td>99</td>\n",
       "      <td>3.7</td>\n",
       "      <td>176</td>\n",
       "      <td>95</td>\n",
       "      <td>30 minutes</td>\n",
       "      <td>30</td>\n",
       "      <td>0</td>\n",
       "    </tr>\n",
       "    <tr>\n",
       "      <td>4</td>\n",
       "      <td>ID_6123</td>\n",
       "      <td>Rmz Centennial, I Gate, Whitefield</td>\n",
       "      <td>Cafe, Beverages</td>\n",
       "      <td>200</td>\n",
       "      <td>99</td>\n",
       "      <td>3.2</td>\n",
       "      <td>521</td>\n",
       "      <td>235</td>\n",
       "      <td>65 minutes</td>\n",
       "      <td>65</td>\n",
       "      <td>1</td>\n",
       "    </tr>\n",
       "  </tbody>\n",
       "</table>\n",
       "</div>"
      ],
      "text/plain": [
       "  Restaurant                             Location  \\\n",
       "0    ID_6321  FTI College, Law College Road, Pune   \n",
       "1    ID_2882                 Sector 3, Marathalli   \n",
       "2    ID_1595                       Mumbai Central   \n",
       "3    ID_5929                      Sector 1, Noida   \n",
       "4    ID_6123   Rmz Centennial, I Gate, Whitefield   \n",
       "\n",
       "                                 Cuisines Average_Cost  Minimum_Order Rating  \\\n",
       "0  Fast Food, Rolls, Burger, Salad, Wraps          200             50    3.5   \n",
       "1                     Ice Cream, Desserts          100             50    3.5   \n",
       "2         Italian, Street Food, Fast Food          150             50    3.6   \n",
       "3          Mughlai, North Indian, Chinese          250             99    3.7   \n",
       "4                         Cafe, Beverages          200             99    3.2   \n",
       "\n",
       "  Votes Reviews Delivery_Time  Del_Time  Del_Time_enc  \n",
       "0    12       4    30 minutes        30             0  \n",
       "1    11       4    30 minutes        30             0  \n",
       "2    99      30    65 minutes        65             1  \n",
       "3   176      95    30 minutes        30             0  \n",
       "4   521     235    65 minutes        65             1  "
      ]
     },
     "execution_count": 39,
     "metadata": {},
     "output_type": "execute_result"
    }
   ],
   "source": [
    "# Get numeric value from \"Delivery_Time\" field in train data\n",
    "train_df['Del_Time'] = train_df['Delivery_Time'].apply(lambda x: pd.to_numeric(x.split('minutes')[0].strip()))\n",
    "train_df['Del_Time_enc'] = train_df['Del_Time'].factorize()[0]\n",
    "train_df.head()"
   ]
  },
  {
   "cell_type": "code",
   "execution_count": 40,
   "metadata": {},
   "outputs": [
    {
     "data": {
      "text/html": [
       "<div>\n",
       "<style scoped>\n",
       "    .dataframe tbody tr th:only-of-type {\n",
       "        vertical-align: middle;\n",
       "    }\n",
       "\n",
       "    .dataframe tbody tr th {\n",
       "        vertical-align: top;\n",
       "    }\n",
       "\n",
       "    .dataframe thead th {\n",
       "        text-align: right;\n",
       "    }\n",
       "</style>\n",
       "<table border=\"1\" class=\"dataframe\">\n",
       "  <thead>\n",
       "    <tr style=\"text-align: right;\">\n",
       "      <th></th>\n",
       "      <th>Del_Time</th>\n",
       "      <th>Del_Time_enc</th>\n",
       "      <th>count</th>\n",
       "    </tr>\n",
       "  </thead>\n",
       "  <tbody>\n",
       "    <tr>\n",
       "      <td>0</td>\n",
       "      <td>10</td>\n",
       "      <td>3</td>\n",
       "      <td>4</td>\n",
       "    </tr>\n",
       "    <tr>\n",
       "      <td>1</td>\n",
       "      <td>20</td>\n",
       "      <td>4</td>\n",
       "      <td>20</td>\n",
       "    </tr>\n",
       "    <tr>\n",
       "      <td>2</td>\n",
       "      <td>30</td>\n",
       "      <td>0</td>\n",
       "      <td>7406</td>\n",
       "    </tr>\n",
       "    <tr>\n",
       "      <td>3</td>\n",
       "      <td>45</td>\n",
       "      <td>2</td>\n",
       "      <td>2665</td>\n",
       "    </tr>\n",
       "    <tr>\n",
       "      <td>4</td>\n",
       "      <td>65</td>\n",
       "      <td>1</td>\n",
       "      <td>923</td>\n",
       "    </tr>\n",
       "    <tr>\n",
       "      <td>5</td>\n",
       "      <td>80</td>\n",
       "      <td>6</td>\n",
       "      <td>14</td>\n",
       "    </tr>\n",
       "    <tr>\n",
       "      <td>6</td>\n",
       "      <td>120</td>\n",
       "      <td>5</td>\n",
       "      <td>62</td>\n",
       "    </tr>\n",
       "  </tbody>\n",
       "</table>\n",
       "</div>"
      ],
      "text/plain": [
       "   Del_Time  Del_Time_enc  count\n",
       "0        10             3      4\n",
       "1        20             4     20\n",
       "2        30             0   7406\n",
       "3        45             2   2665\n",
       "4        65             1    923\n",
       "5        80             6     14\n",
       "6       120             5     62"
      ]
     },
     "execution_count": 40,
     "metadata": {},
     "output_type": "execute_result"
    }
   ],
   "source": [
    "train_df.groupby(['Del_Time', 'Del_Time_enc']).size().reset_index().rename(columns={0:'count'})"
   ]
  },
  {
   "cell_type": "code",
   "execution_count": 41,
   "metadata": {},
   "outputs": [
    {
     "name": "stdout",
     "output_type": "stream",
     "text": [
      "train_y: (11094, 1)\n",
      "Sample train_y data: \n",
      "[[0]\n",
      " [0]\n",
      " [1]\n",
      " [0]\n",
      " [1]\n",
      " [0]\n",
      " [0]\n",
      " [2]\n",
      " [0]\n",
      " [1]]\n"
     ]
    }
   ],
   "source": [
    "# Extract \"Del_Time\" field from train_df into NumPy array\n",
    "train_y = np.array([train_df['Del_Time_enc'].values]).T\n",
    "train_df.drop(['Del_Time', 'Delivery_Time', 'Del_Time_enc'], inplace=True, axis=1)\n",
    "print(\"train_y: {}\".format(train_y.shape))\n",
    "print(\"Sample train_y data: \\n{}\".format(train_y[0:10,:]))"
   ]
  },
  {
   "cell_type": "code",
   "execution_count": 42,
   "metadata": {},
   "outputs": [
    {
     "name": "stdout",
     "output_type": "stream",
     "text": [
      "combined_df: (13868, 8)\n"
     ]
    }
   ],
   "source": [
    "# Combine the train and predict dataframes\n",
    "combined_df = train_df.append(predict_df, sort=False, ignore_index=True)\n",
    "print(\"combined_df: {}\".format(combined_df.shape))"
   ]
  },
  {
   "cell_type": "code",
   "execution_count": 43,
   "metadata": {},
   "outputs": [
    {
     "data": {
      "text/html": [
       "<div>\n",
       "<style scoped>\n",
       "    .dataframe tbody tr th:only-of-type {\n",
       "        vertical-align: middle;\n",
       "    }\n",
       "\n",
       "    .dataframe tbody tr th {\n",
       "        vertical-align: top;\n",
       "    }\n",
       "\n",
       "    .dataframe thead th {\n",
       "        text-align: right;\n",
       "    }\n",
       "</style>\n",
       "<table border=\"1\" class=\"dataframe\">\n",
       "  <thead>\n",
       "    <tr style=\"text-align: right;\">\n",
       "      <th></th>\n",
       "      <th>Location</th>\n",
       "      <th>State</th>\n",
       "      <th>City</th>\n",
       "      <th>Area</th>\n",
       "    </tr>\n",
       "  </thead>\n",
       "  <tbody>\n",
       "    <tr>\n",
       "      <td>0</td>\n",
       "      <td>FTI College, Law College Road, Pune</td>\n",
       "      <td>Maharashtra</td>\n",
       "      <td>Pune</td>\n",
       "      <td>FTI College, Law College Road</td>\n",
       "    </tr>\n",
       "    <tr>\n",
       "      <td>1</td>\n",
       "      <td>Sector 3, Marathalli</td>\n",
       "      <td>Karnataka</td>\n",
       "      <td>Bangalore</td>\n",
       "      <td>Sector 3, Marathalli</td>\n",
       "    </tr>\n",
       "    <tr>\n",
       "      <td>2</td>\n",
       "      <td>Mumbai Central</td>\n",
       "      <td>Maharashtra</td>\n",
       "      <td>Mumbai</td>\n",
       "      <td>Mumbai Central</td>\n",
       "    </tr>\n",
       "    <tr>\n",
       "      <td>3</td>\n",
       "      <td>Sector 1, Noida</td>\n",
       "      <td>New Delhi</td>\n",
       "      <td>Noida</td>\n",
       "      <td>Sector 1</td>\n",
       "    </tr>\n",
       "    <tr>\n",
       "      <td>4</td>\n",
       "      <td>Rmz Centennial, I Gate, Whitefield</td>\n",
       "      <td>Karnataka</td>\n",
       "      <td>Bangalore</td>\n",
       "      <td>Rmz Centennial, I Gate, Whitefield</td>\n",
       "    </tr>\n",
       "  </tbody>\n",
       "</table>\n",
       "</div>"
      ],
      "text/plain": [
       "                              Location        State       City  \\\n",
       "0  FTI College, Law College Road, Pune  Maharashtra       Pune   \n",
       "1                 Sector 3, Marathalli    Karnataka  Bangalore   \n",
       "2                       Mumbai Central  Maharashtra     Mumbai   \n",
       "3                      Sector 1, Noida    New Delhi      Noida   \n",
       "4   Rmz Centennial, I Gate, Whitefield    Karnataka  Bangalore   \n",
       "\n",
       "                                 Area  \n",
       "0       FTI College, Law College Road  \n",
       "1                Sector 3, Marathalli  \n",
       "2                      Mumbai Central  \n",
       "3                            Sector 1  \n",
       "4  Rmz Centennial, I Gate, Whitefield  "
      ]
     },
     "execution_count": 43,
     "metadata": {},
     "output_type": "execute_result"
    }
   ],
   "source": [
    "# Read location analysis data\n",
    "loc_analysis_df = pd.read_excel(\"Location_Analysis.xlsx\")\n",
    "loc_analysis_df.head()"
   ]
  },
  {
   "cell_type": "code",
   "execution_count": 44,
   "metadata": {},
   "outputs": [
    {
     "name": "stdout",
     "output_type": "stream",
     "text": [
      "combined_df: (13868, 10)\n"
     ]
    }
   ],
   "source": [
    "# Derive \"State\", \"City\" and \"Area\" based on \"Location\" field\n",
    "combined_df['State'] = combined_df['Location'].apply(lambda x: loc_analysis_df[loc_analysis_df['Location'] == x]['State'].max(axis=0))\n",
    "combined_df['City'] = combined_df['Location'].apply(lambda x: loc_analysis_df[loc_analysis_df['Location'] == x]['City'].max(axis=0))\n",
    "combined_df['Area'] = combined_df['Location'].apply(lambda x: loc_analysis_df[loc_analysis_df['Location'] == x]['Area'].max(axis=0))\n",
    "combined_df.drop(['Location'], inplace=True, axis=1)\n",
    "print(\"combined_df: {}\".format(combined_df.shape))"
   ]
  },
  {
   "cell_type": "code",
   "execution_count": 45,
   "metadata": {},
   "outputs": [
    {
     "name": "stdout",
     "output_type": "stream",
     "text": [
      "combined_df: (13868, 14)\n"
     ]
    }
   ],
   "source": [
    "# Convert \"State\" field to one-hot encoding\n",
    "dummy_df = pd.get_dummies(combined_df['State'], prefix='State')\n",
    "combined_df = pd.concat([combined_df, dummy_df], axis=1)\n",
    "combined_df.drop(['State'], inplace=True, axis=1)\n",
    "print(\"combined_df: {}\".format(combined_df.shape))"
   ]
  },
  {
   "cell_type": "code",
   "execution_count": 46,
   "metadata": {},
   "outputs": [
    {
     "name": "stdout",
     "output_type": "stream",
     "text": [
      "combined_df: (13868, 24)\n"
     ]
    }
   ],
   "source": [
    "# Convert \"City\" field to one-hot encoding\n",
    "dummy_df = pd.get_dummies(combined_df['City'], prefix='City')\n",
    "combined_df = pd.concat([combined_df, dummy_df], axis=1)\n",
    "combined_df.drop(['City'], inplace=True, axis=1)\n",
    "print(\"combined_df: {}\".format(combined_df.shape))"
   ]
  },
  {
   "cell_type": "code",
   "execution_count": 47,
   "metadata": {},
   "outputs": [
    {
     "name": "stdout",
     "output_type": "stream",
     "text": [
      "combined_df: (13868, 94)\n"
     ]
    }
   ],
   "source": [
    "# Column encoding for \"Area\" field\n",
    "tfidf = TfidfVectorizer(sublinear_tf=True, min_df=5, ngram_range=(1, 1), stop_words='english', max_features=10000)\n",
    "features = tfidf.fit_transform(combined_df.Area).toarray()\n",
    "features_df = pd.DataFrame(features, columns=tfidf.get_feature_names())\n",
    "combined_df = pd.merge(combined_df, features_df, left_index=True, right_index=True)\n",
    "combined_df.drop(['Area'], inplace=True, axis=1)\n",
    "print(\"combined_df: {}\".format(combined_df.shape))"
   ]
  },
  {
   "cell_type": "code",
   "execution_count": 48,
   "metadata": {},
   "outputs": [
    {
     "name": "stdout",
     "output_type": "stream",
     "text": [
      "combined_df: (13868, 194)\n"
     ]
    }
   ],
   "source": [
    "# Convert \"Cuisines\" field into categorical encoded individual fields\n",
    "combined_df['Cuisine_List'] = combined_df['Cuisines'].apply(lambda x: x.split(', '))\n",
    "combined_df = combined_df.drop('Cuisine_List', 1).join(combined_df.Cuisine_List.str.join('|').str.get_dummies())\n",
    "combined_df.drop(['Cuisines'], inplace=True, axis=1)\n",
    "print(\"combined_df: {}\".format(combined_df.shape))"
   ]
  },
  {
   "cell_type": "code",
   "execution_count": 49,
   "metadata": {},
   "outputs": [
    {
     "name": "stdout",
     "output_type": "stream",
     "text": [
      "combined_df: (13868, 194)\n"
     ]
    }
   ],
   "source": [
    "# Fill invalid string value in \"Average_Cost\" field with mean value\n",
    "combined_df['Avg_Cost'] = combined_df['Average_Cost'].apply(lambda x: np.nan if x == 'for' else x)\n",
    "mean_cost = combined_df['Avg_Cost'].mean()\n",
    "combined_df['Avg_Cost'] = combined_df['Avg_Cost'].fillna(mean_cost)\n",
    "combined_df.drop(['Average_Cost'], inplace=True, axis=1)\n",
    "print(\"combined_df: {}\".format(combined_df.shape))"
   ]
  },
  {
   "cell_type": "code",
   "execution_count": 50,
   "metadata": {},
   "outputs": [
    {
     "name": "stdout",
     "output_type": "stream",
     "text": [
      "combined_df: (13868, 194)\n"
     ]
    }
   ],
   "source": [
    "# Fill invalid string value in \"Rating\" field based on below rule:\n",
    "# 1) If ['NEW','Opening Soon','Temporarily Closed'] then 0\n",
    "# 2) If '-', then NaN\n",
    "combined_df['modified_rating'] = combined_df['Rating'].apply(lambda x: np.nan if x == '-' else (0 if x in ['NEW','Opening Soon','Temporarily Closed'] else pd.to_numeric(x)))\n",
    "mean_rating = combined_df['modified_rating'].mean()\n",
    "combined_df['modified_rating'] = combined_df['modified_rating'].fillna(mean_rating)\n",
    "combined_df.drop(['Rating'], inplace=True, axis=1)\n",
    "print(\"combined_df: {}\".format(combined_df.shape))"
   ]
  },
  {
   "cell_type": "code",
   "execution_count": 51,
   "metadata": {},
   "outputs": [
    {
     "name": "stdout",
     "output_type": "stream",
     "text": [
      "combined_df: (13868, 194)\n"
     ]
    }
   ],
   "source": [
    "# Fill invalid string value in \"Votes\" field with mean value\n",
    "combined_df['modified_votes'] = combined_df['Votes'].apply(lambda x: np.nan if x == '-' else pd.to_numeric(x))\n",
    "mean_cost = combined_df['modified_votes'].mean()\n",
    "combined_df['modified_votes'] = combined_df['modified_votes'].fillna(mean_cost)\n",
    "combined_df.drop(['Votes'], inplace=True, axis=1)\n",
    "print(\"combined_df: {}\".format(combined_df.shape))"
   ]
  },
  {
   "cell_type": "code",
   "execution_count": 52,
   "metadata": {},
   "outputs": [
    {
     "name": "stdout",
     "output_type": "stream",
     "text": [
      "combined_df: (13868, 194)\n"
     ]
    }
   ],
   "source": [
    "# Fill invalid string value in \"Reviews\" field with mean value\n",
    "combined_df['modified_reviews'] = combined_df['Reviews'].apply(lambda x: np.nan if x == '-' else pd.to_numeric(x))\n",
    "mean_cost = combined_df['modified_reviews'].mean()\n",
    "combined_df['modified_reviews'] = combined_df['modified_reviews'].fillna(mean_cost)\n",
    "combined_df.drop(['Reviews'], inplace=True, axis=1)\n",
    "print(\"combined_df: {}\".format(combined_df.shape))"
   ]
  },
  {
   "cell_type": "code",
   "execution_count": 53,
   "metadata": {},
   "outputs": [
    {
     "name": "stdout",
     "output_type": "stream",
     "text": [
      "combined_df: (13868, 193)\n"
     ]
    }
   ],
   "source": [
    "combined_df.drop(['Restaurant'], inplace=True, axis=1)\n",
    "print(\"combined_df: {}\".format(combined_df.shape))"
   ]
  },
  {
   "cell_type": "code",
   "execution_count": 54,
   "metadata": {},
   "outputs": [
    {
     "name": "stdout",
     "output_type": "stream",
     "text": [
      "Column with NaN value: []\n"
     ]
    }
   ],
   "source": [
    "# Check if any column has NaN value in dataframe\n",
    "print(\"Column with NaN value: {}\".format(combined_df.columns[combined_df.isnull().any()].tolist()))"
   ]
  },
  {
   "cell_type": "code",
   "execution_count": 55,
   "metadata": {},
   "outputs": [],
   "source": [
    "# Segregate combined_df into train/predict datasets\n",
    "train_x = combined_df[:11094]\n",
    "predict_x = combined_df[11094:]"
   ]
  },
  {
   "cell_type": "code",
   "execution_count": 56,
   "metadata": {},
   "outputs": [
    {
     "name": "stdout",
     "output_type": "stream",
     "text": [
      "(11094, 193)\n",
      "(2774, 193)\n"
     ]
    }
   ],
   "source": [
    "print(train_x.shape)\n",
    "print(predict_x.shape)"
   ]
  },
  {
   "cell_type": "code",
   "execution_count": 57,
   "metadata": {},
   "outputs": [],
   "source": [
    "# Scale the train_x/predict_x datasets\n",
    "scaler_x = RobustScaler().fit(train_x)\n",
    "train_x = scaler_x.transform(train_x)\n",
    "predict_x = scaler_x.transform(predict_x)"
   ]
  },
  {
   "cell_type": "code",
   "execution_count": 58,
   "metadata": {},
   "outputs": [],
   "source": [
    "# Split training data into train/validation/test datasets\n",
    "sss = StratifiedShuffleSplit(n_splits=1, test_size=0.1, random_state=1)\n",
    "for train_index, validation_index in sss.split(train_x, train_y):\n",
    "    train_x, validation_x = train_x[train_index], train_x[validation_index]\n",
    "    train_y, validation_y = train_y[train_index], train_y[validation_index]\n",
    "\n",
    "sss = StratifiedShuffleSplit(n_splits=1, test_size=0.1, random_state=1)\n",
    "for train_index, test_index in sss.split(train_x, train_y):\n",
    "    train_x, test_x = train_x[train_index], train_x[test_index]\n",
    "    train_y, test_y = train_y[train_index], train_y[test_index]"
   ]
  },
  {
   "cell_type": "code",
   "execution_count": 59,
   "metadata": {},
   "outputs": [
    {
     "name": "stdout",
     "output_type": "stream",
     "text": [
      "------------------------- Training Dataset -------------------------\n",
      "train_x shape: (8985, 193)\n",
      "train_y shape: (8985, 1)\n",
      "\n",
      "------------------------- Validation Dataset -------------------------\n",
      "validation_x shape: (1110, 193)\n",
      "validation_y shape: (1110, 1)\n",
      "\n",
      "------------------------- Test Dataset -------------------------\n",
      "test_x shape: (999, 193)\n",
      "test_y shape: (999, 1)\n"
     ]
    }
   ],
   "source": [
    "print(\"------------------------- Training Dataset -------------------------\")\n",
    "print(\"train_x shape: {}\".format(train_x.shape))\n",
    "print(\"train_y shape: {}\".format(train_y.shape))\n",
    "\n",
    "print(\"\\n------------------------- Validation Dataset -------------------------\")\n",
    "print(\"validation_x shape: {}\".format(validation_x.shape))\n",
    "print(\"validation_y shape: {}\".format(validation_y.shape))\n",
    "\n",
    "print(\"\\n------------------------- Test Dataset -------------------------\")\n",
    "print(\"test_x shape: {}\".format(test_x.shape))\n",
    "print(\"test_y shape: {}\".format(test_y.shape))"
   ]
  },
  {
   "cell_type": "code",
   "execution_count": 60,
   "metadata": {},
   "outputs": [
    {
     "data": {
      "text/html": [
       "<div>\n",
       "<style scoped>\n",
       "    .dataframe tbody tr th:only-of-type {\n",
       "        vertical-align: middle;\n",
       "    }\n",
       "\n",
       "    .dataframe tbody tr th {\n",
       "        vertical-align: top;\n",
       "    }\n",
       "\n",
       "    .dataframe thead th {\n",
       "        text-align: right;\n",
       "    }\n",
       "</style>\n",
       "<table border=\"1\" class=\"dataframe\">\n",
       "  <thead>\n",
       "    <tr style=\"text-align: right;\">\n",
       "      <th></th>\n",
       "      <th>Class</th>\n",
       "      <th>count</th>\n",
       "    </tr>\n",
       "  </thead>\n",
       "  <tbody>\n",
       "    <tr>\n",
       "      <td>0</td>\n",
       "      <td>0</td>\n",
       "      <td>741</td>\n",
       "    </tr>\n",
       "    <tr>\n",
       "      <td>1</td>\n",
       "      <td>1</td>\n",
       "      <td>92</td>\n",
       "    </tr>\n",
       "    <tr>\n",
       "      <td>2</td>\n",
       "      <td>2</td>\n",
       "      <td>267</td>\n",
       "    </tr>\n",
       "    <tr>\n",
       "      <td>3</td>\n",
       "      <td>4</td>\n",
       "      <td>2</td>\n",
       "    </tr>\n",
       "    <tr>\n",
       "      <td>4</td>\n",
       "      <td>5</td>\n",
       "      <td>6</td>\n",
       "    </tr>\n",
       "    <tr>\n",
       "      <td>5</td>\n",
       "      <td>6</td>\n",
       "      <td>2</td>\n",
       "    </tr>\n",
       "  </tbody>\n",
       "</table>\n",
       "</div>"
      ],
      "text/plain": [
       "   Class  count\n",
       "0      0    741\n",
       "1      1     92\n",
       "2      2    267\n",
       "3      4      2\n",
       "4      5      6\n",
       "5      6      2"
      ]
     },
     "execution_count": 60,
     "metadata": {},
     "output_type": "execute_result"
    }
   ],
   "source": [
    "temp_df = pd.DataFrame(validation_y, columns=['Class'])\n",
    "temp_df.groupby(['Class']).size().reset_index().rename(columns={0:'count'})"
   ]
  },
  {
   "cell_type": "code",
   "execution_count": 61,
   "metadata": {},
   "outputs": [
    {
     "data": {
      "text/html": [
       "<div>\n",
       "<style scoped>\n",
       "    .dataframe tbody tr th:only-of-type {\n",
       "        vertical-align: middle;\n",
       "    }\n",
       "\n",
       "    .dataframe tbody tr th {\n",
       "        vertical-align: top;\n",
       "    }\n",
       "\n",
       "    .dataframe thead th {\n",
       "        text-align: right;\n",
       "    }\n",
       "</style>\n",
       "<table border=\"1\" class=\"dataframe\">\n",
       "  <thead>\n",
       "    <tr style=\"text-align: right;\">\n",
       "      <th></th>\n",
       "      <th>Class</th>\n",
       "      <th>count</th>\n",
       "    </tr>\n",
       "  </thead>\n",
       "  <tbody>\n",
       "    <tr>\n",
       "      <td>0</td>\n",
       "      <td>0</td>\n",
       "      <td>667</td>\n",
       "    </tr>\n",
       "    <tr>\n",
       "      <td>1</td>\n",
       "      <td>1</td>\n",
       "      <td>83</td>\n",
       "    </tr>\n",
       "    <tr>\n",
       "      <td>2</td>\n",
       "      <td>2</td>\n",
       "      <td>240</td>\n",
       "    </tr>\n",
       "    <tr>\n",
       "      <td>3</td>\n",
       "      <td>4</td>\n",
       "      <td>2</td>\n",
       "    </tr>\n",
       "    <tr>\n",
       "      <td>4</td>\n",
       "      <td>5</td>\n",
       "      <td>6</td>\n",
       "    </tr>\n",
       "    <tr>\n",
       "      <td>5</td>\n",
       "      <td>6</td>\n",
       "      <td>1</td>\n",
       "    </tr>\n",
       "  </tbody>\n",
       "</table>\n",
       "</div>"
      ],
      "text/plain": [
       "   Class  count\n",
       "0      0    667\n",
       "1      1     83\n",
       "2      2    240\n",
       "3      4      2\n",
       "4      5      6\n",
       "5      6      1"
      ]
     },
     "execution_count": 61,
     "metadata": {},
     "output_type": "execute_result"
    }
   ],
   "source": [
    "temp_df = pd.DataFrame(test_y, columns=['Class'])\n",
    "temp_df.groupby(['Class']).size().reset_index().rename(columns={0:'count'})"
   ]
  },
  {
   "cell_type": "code",
   "execution_count": 62,
   "metadata": {},
   "outputs": [
    {
     "name": "stdout",
     "output_type": "stream",
     "text": [
      "Class balancing done.\n",
      "train_x shape: (41986, 193)\n",
      "train_y shape: (41986, 1)\n"
     ]
    }
   ],
   "source": [
    "# Handling class imbalance\n",
    "sm = SMOTE(k_neighbors=3)\n",
    "sm_x, sm_y = sm.fit_sample(train_x, train_y.ravel())\n",
    "train_x = sm_x\n",
    "train_y = np.array([sm_y]).T\n",
    "print(\"Class balancing done.\")\n",
    "print(\"train_x shape: {}\".format(train_x.shape))\n",
    "print(\"train_y shape: {}\".format(train_y.shape))"
   ]
  },
  {
   "cell_type": "code",
   "execution_count": 63,
   "metadata": {},
   "outputs": [
    {
     "data": {
      "text/html": [
       "<div>\n",
       "<style scoped>\n",
       "    .dataframe tbody tr th:only-of-type {\n",
       "        vertical-align: middle;\n",
       "    }\n",
       "\n",
       "    .dataframe tbody tr th {\n",
       "        vertical-align: top;\n",
       "    }\n",
       "\n",
       "    .dataframe thead th {\n",
       "        text-align: right;\n",
       "    }\n",
       "</style>\n",
       "<table border=\"1\" class=\"dataframe\">\n",
       "  <thead>\n",
       "    <tr style=\"text-align: right;\">\n",
       "      <th></th>\n",
       "      <th>Class</th>\n",
       "      <th>count</th>\n",
       "    </tr>\n",
       "  </thead>\n",
       "  <tbody>\n",
       "    <tr>\n",
       "      <td>0</td>\n",
       "      <td>0</td>\n",
       "      <td>5998</td>\n",
       "    </tr>\n",
       "    <tr>\n",
       "      <td>1</td>\n",
       "      <td>1</td>\n",
       "      <td>5998</td>\n",
       "    </tr>\n",
       "    <tr>\n",
       "      <td>2</td>\n",
       "      <td>2</td>\n",
       "      <td>5998</td>\n",
       "    </tr>\n",
       "    <tr>\n",
       "      <td>3</td>\n",
       "      <td>3</td>\n",
       "      <td>5998</td>\n",
       "    </tr>\n",
       "    <tr>\n",
       "      <td>4</td>\n",
       "      <td>4</td>\n",
       "      <td>5998</td>\n",
       "    </tr>\n",
       "    <tr>\n",
       "      <td>5</td>\n",
       "      <td>5</td>\n",
       "      <td>5998</td>\n",
       "    </tr>\n",
       "    <tr>\n",
       "      <td>6</td>\n",
       "      <td>6</td>\n",
       "      <td>5998</td>\n",
       "    </tr>\n",
       "  </tbody>\n",
       "</table>\n",
       "</div>"
      ],
      "text/plain": [
       "   Class  count\n",
       "0      0   5998\n",
       "1      1   5998\n",
       "2      2   5998\n",
       "3      3   5998\n",
       "4      4   5998\n",
       "5      5   5998\n",
       "6      6   5998"
      ]
     },
     "execution_count": 63,
     "metadata": {},
     "output_type": "execute_result"
    }
   ],
   "source": [
    "temp_df = pd.DataFrame(train_y, columns=['Class'])\n",
    "temp_df.groupby(['Class']).size().reset_index().rename(columns={0:'count'})"
   ]
  },
  {
   "cell_type": "code",
   "execution_count": 64,
   "metadata": {},
   "outputs": [
    {
     "name": "stdout",
     "output_type": "stream",
     "text": [
      "------------------------- Training Dataset -------------------------\n",
      "train_x shape: (41986, 193)\n",
      "train_y shape: (41986, 1)\n",
      "\n",
      "------------------------- Validation Dataset -------------------------\n",
      "validation_x shape: (1110, 193)\n",
      "validation_y shape: (1110, 1)\n",
      "\n",
      "------------------------- Test Dataset -------------------------\n",
      "test_x shape: (999, 193)\n",
      "test_y shape: (999, 1)\n"
     ]
    }
   ],
   "source": [
    "print(\"------------------------- Training Dataset -------------------------\")\n",
    "print(\"train_x shape: {}\".format(train_x.shape))\n",
    "print(\"train_y shape: {}\".format(train_y.shape))\n",
    "\n",
    "print(\"\\n------------------------- Validation Dataset -------------------------\")\n",
    "print(\"validation_x shape: {}\".format(validation_x.shape))\n",
    "print(\"validation_y shape: {}\".format(validation_y.shape))\n",
    "\n",
    "print(\"\\n------------------------- Test Dataset -------------------------\")\n",
    "print(\"test_x shape: {}\".format(test_x.shape))\n",
    "print(\"test_y shape: {}\".format(test_y.shape))"
   ]
  },
  {
   "cell_type": "code",
   "execution_count": 86,
   "metadata": {},
   "outputs": [],
   "source": [
    "# Define model hyperparameters\n",
    "params = {}\n",
    "params[\"objective\"] = \"multiclass\"\n",
    "params['metric'] = 'multi_logloss'\n",
    "params[\"max_depth\"] = 7\n",
    "params[\"num_leaves\"] = 70\n",
    "params[\"num_class\"] = 7\n",
    "params['boosting_type'] = 'gbdt'\n",
    "params[\"min_data_in_leaf\"] = 1\n",
    "params[\"learning_rate\"] = 0.00025\n",
    "params[\"bagging_fraction\"] = 0.8\n",
    "params[\"feature_fraction\"] = 0.8\n",
    "params[\"bagging_freq\"] = 5\n",
    "params[\"bagging_seed\"] = 0\n",
    "params[\"verbosity\"] = -1\n",
    "num_rounds = 20000"
   ]
  },
  {
   "cell_type": "code",
   "execution_count": 87,
   "metadata": {},
   "outputs": [],
   "source": [
    "lgtrain = lgb.Dataset(train_x, label=train_y.ravel())\n",
    "lgvalidation = lgb.Dataset(validation_x, label=validation_y.ravel())"
   ]
  },
  {
   "cell_type": "code",
   "execution_count": 88,
   "metadata": {},
   "outputs": [
    {
     "name": "stdout",
     "output_type": "stream",
     "text": [
      "Training until validation scores don't improve for 200 rounds\n",
      "[1000]\tvalid_0's multi_logloss: 1.70041\n",
      "[2000]\tvalid_0's multi_logloss: 1.5269\n",
      "[3000]\tvalid_0's multi_logloss: 1.39699\n",
      "[4000]\tvalid_0's multi_logloss: 1.29234\n",
      "[5000]\tvalid_0's multi_logloss: 1.20266\n",
      "[6000]\tvalid_0's multi_logloss: 1.1291\n",
      "[7000]\tvalid_0's multi_logloss: 1.06763\n",
      "[8000]\tvalid_0's multi_logloss: 1.01639\n",
      "[9000]\tvalid_0's multi_logloss: 0.97355\n",
      "[10000]\tvalid_0's multi_logloss: 0.937674\n",
      "[11000]\tvalid_0's multi_logloss: 0.907542\n",
      "[12000]\tvalid_0's multi_logloss: 0.881859\n",
      "[13000]\tvalid_0's multi_logloss: 0.859459\n",
      "[14000]\tvalid_0's multi_logloss: 0.839729\n",
      "[15000]\tvalid_0's multi_logloss: 0.822653\n",
      "[16000]\tvalid_0's multi_logloss: 0.807479\n",
      "[17000]\tvalid_0's multi_logloss: 0.793784\n",
      "[18000]\tvalid_0's multi_logloss: 0.781414\n",
      "[19000]\tvalid_0's multi_logloss: 0.770256\n",
      "[20000]\tvalid_0's multi_logloss: 0.760199\n",
      "Did not meet early stopping. Best iteration is:\n",
      "[20000]\tvalid_0's multi_logloss: 0.760199\n"
     ]
    }
   ],
   "source": [
    "model = lgb.train(params, lgtrain, num_rounds, valid_sets=[lgvalidation], early_stopping_rounds=200, verbose_eval=1000)"
   ]
  },
  {
   "cell_type": "code",
   "execution_count": 89,
   "metadata": {},
   "outputs": [],
   "source": [
    "y_pred=model.predict(test_x)\n",
    "predicted_labels = np.array([np.argmax(y_pred, axis=1)]).T"
   ]
  },
  {
   "cell_type": "code",
   "execution_count": 90,
   "metadata": {},
   "outputs": [
    {
     "data": {
      "text/html": [
       "<div>\n",
       "<style scoped>\n",
       "    .dataframe tbody tr th:only-of-type {\n",
       "        vertical-align: middle;\n",
       "    }\n",
       "\n",
       "    .dataframe tbody tr th {\n",
       "        vertical-align: top;\n",
       "    }\n",
       "\n",
       "    .dataframe thead th {\n",
       "        text-align: right;\n",
       "    }\n",
       "</style>\n",
       "<table border=\"1\" class=\"dataframe\">\n",
       "  <thead>\n",
       "    <tr style=\"text-align: right;\">\n",
       "      <th></th>\n",
       "      <th>Class</th>\n",
       "      <th>count</th>\n",
       "    </tr>\n",
       "  </thead>\n",
       "  <tbody>\n",
       "    <tr>\n",
       "      <td>0</td>\n",
       "      <td>0</td>\n",
       "      <td>605</td>\n",
       "    </tr>\n",
       "    <tr>\n",
       "      <td>1</td>\n",
       "      <td>1</td>\n",
       "      <td>114</td>\n",
       "    </tr>\n",
       "    <tr>\n",
       "      <td>2</td>\n",
       "      <td>2</td>\n",
       "      <td>264</td>\n",
       "    </tr>\n",
       "    <tr>\n",
       "      <td>3</td>\n",
       "      <td>4</td>\n",
       "      <td>6</td>\n",
       "    </tr>\n",
       "    <tr>\n",
       "      <td>4</td>\n",
       "      <td>5</td>\n",
       "      <td>9</td>\n",
       "    </tr>\n",
       "    <tr>\n",
       "      <td>5</td>\n",
       "      <td>6</td>\n",
       "      <td>1</td>\n",
       "    </tr>\n",
       "  </tbody>\n",
       "</table>\n",
       "</div>"
      ],
      "text/plain": [
       "   Class  count\n",
       "0      0    605\n",
       "1      1    114\n",
       "2      2    264\n",
       "3      4      6\n",
       "4      5      9\n",
       "5      6      1"
      ]
     },
     "execution_count": 90,
     "metadata": {},
     "output_type": "execute_result"
    }
   ],
   "source": [
    "temp_df = pd.DataFrame(predicted_labels, columns=['Class'])\n",
    "temp_df.groupby(['Class']).size().reset_index().rename(columns={0:'count'})"
   ]
  },
  {
   "cell_type": "code",
   "execution_count": 91,
   "metadata": {},
   "outputs": [
    {
     "name": "stdout",
     "output_type": "stream",
     "text": [
      "F1 Score: 71.85646553874373\n",
      "Accuracy: 0.7057057057057057\n"
     ]
    }
   ],
   "source": [
    "f1 = f1_score(test_y, predicted_labels, average='weighted') * 100\n",
    "accuracy = accuracy_score(test_y, predicted_labels)\n",
    "print(\"F1 Score: {}\".format(f1))\n",
    "print(\"Accuracy: {}\".format(accuracy))"
   ]
  },
  {
   "cell_type": "code",
   "execution_count": null,
   "metadata": {},
   "outputs": [],
   "source": []
  }
 ],
 "metadata": {
  "kernelspec": {
   "display_name": "Python 3",
   "language": "python",
   "name": "python3"
  },
  "language_info": {
   "codemirror_mode": {
    "name": "ipython",
    "version": 3
   },
   "file_extension": ".py",
   "mimetype": "text/x-python",
   "name": "python",
   "nbconvert_exporter": "python",
   "pygments_lexer": "ipython3",
   "version": "3.7.4"
  }
 },
 "nbformat": 4,
 "nbformat_minor": 2
}
