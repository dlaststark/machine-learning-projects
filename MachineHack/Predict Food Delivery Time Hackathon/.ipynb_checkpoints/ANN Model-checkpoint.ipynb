{
 "cells": [
  {
   "cell_type": "code",
   "execution_count": 2,
   "metadata": {},
   "outputs": [],
   "source": [
    "import pandas as pd\n",
    "import numpy as np\n",
    "from sklearn.feature_extraction.text import TfidfVectorizer\n",
    "from sklearn.preprocessing import RobustScaler\n",
    "from sklearn.model_selection import StratifiedShuffleSplit\n",
    "from sklearn.metrics import f1_score, accuracy_score\n",
    "from imblearn.over_sampling import SMOTE\n",
    "import matplotlib.pyplot as plt\n",
    "import tensorflow as tf\n",
    "from tensorflow.keras.layers import Input, Dense, Dropout, BatchNormalization\n",
    "from tensorflow.keras.initializers import he_uniform\n",
    "from tensorflow.keras.regularizers import l2\n",
    "from tensorflow.keras.models import Model\n",
    "from tensorflow.keras.optimizers import Adam"
   ]
  },
  {
   "cell_type": "code",
   "execution_count": 3,
   "metadata": {},
   "outputs": [],
   "source": [
    "from learningratefinder import LearningRateFinder\n",
    "from clr_callback import CyclicLR"
   ]
  },
  {
   "cell_type": "code",
   "execution_count": 4,
   "metadata": {},
   "outputs": [],
   "source": [
    "# Set file paths for train and predict datasets\n",
    "train_file = 'DataSet/Data_Train.xlsx'\n",
    "predict_file = 'DataSet/Data_Test.xlsx'"
   ]
  },
  {
   "cell_type": "code",
   "execution_count": 5,
   "metadata": {},
   "outputs": [],
   "source": [
    "# Extract train/predict data from spreadsheet into pandas dataframes\n",
    "train_df = pd.read_excel(train_file)\n",
    "predict_df = pd.read_excel(predict_file)"
   ]
  },
  {
   "cell_type": "code",
   "execution_count": 6,
   "metadata": {},
   "outputs": [
    {
     "data": {
      "text/html": [
       "<div>\n",
       "<style scoped>\n",
       "    .dataframe tbody tr th:only-of-type {\n",
       "        vertical-align: middle;\n",
       "    }\n",
       "\n",
       "    .dataframe tbody tr th {\n",
       "        vertical-align: top;\n",
       "    }\n",
       "\n",
       "    .dataframe thead th {\n",
       "        text-align: right;\n",
       "    }\n",
       "</style>\n",
       "<table border=\"1\" class=\"dataframe\">\n",
       "  <thead>\n",
       "    <tr style=\"text-align: right;\">\n",
       "      <th></th>\n",
       "      <th>Restaurant</th>\n",
       "      <th>Location</th>\n",
       "      <th>Cuisines</th>\n",
       "      <th>Average_Cost</th>\n",
       "      <th>Minimum_Order</th>\n",
       "      <th>Rating</th>\n",
       "      <th>Votes</th>\n",
       "      <th>Reviews</th>\n",
       "      <th>Delivery_Time</th>\n",
       "      <th>Del_Time</th>\n",
       "      <th>Del_Time_enc</th>\n",
       "    </tr>\n",
       "  </thead>\n",
       "  <tbody>\n",
       "    <tr>\n",
       "      <td>0</td>\n",
       "      <td>ID_6321</td>\n",
       "      <td>FTI College, Law College Road, Pune</td>\n",
       "      <td>Fast Food, Rolls, Burger, Salad, Wraps</td>\n",
       "      <td>200</td>\n",
       "      <td>50</td>\n",
       "      <td>3.5</td>\n",
       "      <td>12</td>\n",
       "      <td>4</td>\n",
       "      <td>30 minutes</td>\n",
       "      <td>30</td>\n",
       "      <td>0</td>\n",
       "    </tr>\n",
       "    <tr>\n",
       "      <td>1</td>\n",
       "      <td>ID_2882</td>\n",
       "      <td>Sector 3, Marathalli</td>\n",
       "      <td>Ice Cream, Desserts</td>\n",
       "      <td>100</td>\n",
       "      <td>50</td>\n",
       "      <td>3.5</td>\n",
       "      <td>11</td>\n",
       "      <td>4</td>\n",
       "      <td>30 minutes</td>\n",
       "      <td>30</td>\n",
       "      <td>0</td>\n",
       "    </tr>\n",
       "    <tr>\n",
       "      <td>2</td>\n",
       "      <td>ID_1595</td>\n",
       "      <td>Mumbai Central</td>\n",
       "      <td>Italian, Street Food, Fast Food</td>\n",
       "      <td>150</td>\n",
       "      <td>50</td>\n",
       "      <td>3.6</td>\n",
       "      <td>99</td>\n",
       "      <td>30</td>\n",
       "      <td>65 minutes</td>\n",
       "      <td>65</td>\n",
       "      <td>1</td>\n",
       "    </tr>\n",
       "    <tr>\n",
       "      <td>3</td>\n",
       "      <td>ID_5929</td>\n",
       "      <td>Sector 1, Noida</td>\n",
       "      <td>Mughlai, North Indian, Chinese</td>\n",
       "      <td>250</td>\n",
       "      <td>99</td>\n",
       "      <td>3.7</td>\n",
       "      <td>176</td>\n",
       "      <td>95</td>\n",
       "      <td>30 minutes</td>\n",
       "      <td>30</td>\n",
       "      <td>0</td>\n",
       "    </tr>\n",
       "    <tr>\n",
       "      <td>4</td>\n",
       "      <td>ID_6123</td>\n",
       "      <td>Rmz Centennial, I Gate, Whitefield</td>\n",
       "      <td>Cafe, Beverages</td>\n",
       "      <td>200</td>\n",
       "      <td>99</td>\n",
       "      <td>3.2</td>\n",
       "      <td>521</td>\n",
       "      <td>235</td>\n",
       "      <td>65 minutes</td>\n",
       "      <td>65</td>\n",
       "      <td>1</td>\n",
       "    </tr>\n",
       "  </tbody>\n",
       "</table>\n",
       "</div>"
      ],
      "text/plain": [
       "  Restaurant                             Location  \\\n",
       "0    ID_6321  FTI College, Law College Road, Pune   \n",
       "1    ID_2882                 Sector 3, Marathalli   \n",
       "2    ID_1595                       Mumbai Central   \n",
       "3    ID_5929                      Sector 1, Noida   \n",
       "4    ID_6123   Rmz Centennial, I Gate, Whitefield   \n",
       "\n",
       "                                 Cuisines Average_Cost  Minimum_Order Rating  \\\n",
       "0  Fast Food, Rolls, Burger, Salad, Wraps          200             50    3.5   \n",
       "1                     Ice Cream, Desserts          100             50    3.5   \n",
       "2         Italian, Street Food, Fast Food          150             50    3.6   \n",
       "3          Mughlai, North Indian, Chinese          250             99    3.7   \n",
       "4                         Cafe, Beverages          200             99    3.2   \n",
       "\n",
       "  Votes Reviews Delivery_Time  Del_Time  Del_Time_enc  \n",
       "0    12       4    30 minutes        30             0  \n",
       "1    11       4    30 minutes        30             0  \n",
       "2    99      30    65 minutes        65             1  \n",
       "3   176      95    30 minutes        30             0  \n",
       "4   521     235    65 minutes        65             1  "
      ]
     },
     "execution_count": 6,
     "metadata": {},
     "output_type": "execute_result"
    }
   ],
   "source": [
    "# Get numeric value from \"Delivery_Time\" field in train data\n",
    "train_df['Del_Time'] = train_df['Delivery_Time'].apply(lambda x: pd.to_numeric(x.split('minutes')[0].strip()))\n",
    "train_df['Del_Time_enc'] = train_df['Del_Time'].factorize()[0]\n",
    "train_df.head()"
   ]
  },
  {
   "cell_type": "code",
   "execution_count": 7,
   "metadata": {},
   "outputs": [
    {
     "data": {
      "text/html": [
       "<div>\n",
       "<style scoped>\n",
       "    .dataframe tbody tr th:only-of-type {\n",
       "        vertical-align: middle;\n",
       "    }\n",
       "\n",
       "    .dataframe tbody tr th {\n",
       "        vertical-align: top;\n",
       "    }\n",
       "\n",
       "    .dataframe thead th {\n",
       "        text-align: right;\n",
       "    }\n",
       "</style>\n",
       "<table border=\"1\" class=\"dataframe\">\n",
       "  <thead>\n",
       "    <tr style=\"text-align: right;\">\n",
       "      <th></th>\n",
       "      <th>Del_Time</th>\n",
       "      <th>Del_Time_enc</th>\n",
       "      <th>count</th>\n",
       "    </tr>\n",
       "  </thead>\n",
       "  <tbody>\n",
       "    <tr>\n",
       "      <td>0</td>\n",
       "      <td>10</td>\n",
       "      <td>3</td>\n",
       "      <td>4</td>\n",
       "    </tr>\n",
       "    <tr>\n",
       "      <td>1</td>\n",
       "      <td>20</td>\n",
       "      <td>4</td>\n",
       "      <td>20</td>\n",
       "    </tr>\n",
       "    <tr>\n",
       "      <td>2</td>\n",
       "      <td>30</td>\n",
       "      <td>0</td>\n",
       "      <td>7406</td>\n",
       "    </tr>\n",
       "    <tr>\n",
       "      <td>3</td>\n",
       "      <td>45</td>\n",
       "      <td>2</td>\n",
       "      <td>2665</td>\n",
       "    </tr>\n",
       "    <tr>\n",
       "      <td>4</td>\n",
       "      <td>65</td>\n",
       "      <td>1</td>\n",
       "      <td>923</td>\n",
       "    </tr>\n",
       "    <tr>\n",
       "      <td>5</td>\n",
       "      <td>80</td>\n",
       "      <td>6</td>\n",
       "      <td>14</td>\n",
       "    </tr>\n",
       "    <tr>\n",
       "      <td>6</td>\n",
       "      <td>120</td>\n",
       "      <td>5</td>\n",
       "      <td>62</td>\n",
       "    </tr>\n",
       "  </tbody>\n",
       "</table>\n",
       "</div>"
      ],
      "text/plain": [
       "   Del_Time  Del_Time_enc  count\n",
       "0        10             3      4\n",
       "1        20             4     20\n",
       "2        30             0   7406\n",
       "3        45             2   2665\n",
       "4        65             1    923\n",
       "5        80             6     14\n",
       "6       120             5     62"
      ]
     },
     "execution_count": 7,
     "metadata": {},
     "output_type": "execute_result"
    }
   ],
   "source": [
    "train_df.groupby(['Del_Time', 'Del_Time_enc']).size().reset_index().rename(columns={0:'count'})"
   ]
  },
  {
   "cell_type": "code",
   "execution_count": 8,
   "metadata": {},
   "outputs": [
    {
     "name": "stdout",
     "output_type": "stream",
     "text": [
      "train_y: (11094, 1)\n",
      "Sample train_y data: \n",
      "[[0]\n",
      " [0]\n",
      " [1]\n",
      " [0]\n",
      " [1]\n",
      " [0]\n",
      " [0]\n",
      " [2]\n",
      " [0]\n",
      " [1]]\n"
     ]
    }
   ],
   "source": [
    "# Extract \"Del_Time\" field from train_df into NumPy array\n",
    "train_y = np.array([train_df['Del_Time_enc'].values]).T\n",
    "train_df.drop(['Del_Time', 'Delivery_Time', 'Del_Time_enc'], inplace=True, axis=1)\n",
    "print(\"train_y: {}\".format(train_y.shape))\n",
    "print(\"Sample train_y data: \\n{}\".format(train_y[0:10,:]))"
   ]
  },
  {
   "cell_type": "code",
   "execution_count": 9,
   "metadata": {},
   "outputs": [
    {
     "name": "stdout",
     "output_type": "stream",
     "text": [
      "combined_df: (13868, 8)\n"
     ]
    }
   ],
   "source": [
    "# Combine the train and predict dataframes\n",
    "combined_df = train_df.append(predict_df, sort=False, ignore_index=True)\n",
    "print(\"combined_df: {}\".format(combined_df.shape))"
   ]
  },
  {
   "cell_type": "code",
   "execution_count": 10,
   "metadata": {},
   "outputs": [
    {
     "data": {
      "text/html": [
       "<div>\n",
       "<style scoped>\n",
       "    .dataframe tbody tr th:only-of-type {\n",
       "        vertical-align: middle;\n",
       "    }\n",
       "\n",
       "    .dataframe tbody tr th {\n",
       "        vertical-align: top;\n",
       "    }\n",
       "\n",
       "    .dataframe thead th {\n",
       "        text-align: right;\n",
       "    }\n",
       "</style>\n",
       "<table border=\"1\" class=\"dataframe\">\n",
       "  <thead>\n",
       "    <tr style=\"text-align: right;\">\n",
       "      <th></th>\n",
       "      <th>Location</th>\n",
       "      <th>State</th>\n",
       "      <th>City</th>\n",
       "      <th>Area</th>\n",
       "    </tr>\n",
       "  </thead>\n",
       "  <tbody>\n",
       "    <tr>\n",
       "      <td>0</td>\n",
       "      <td>FTI College, Law College Road, Pune</td>\n",
       "      <td>Maharashtra</td>\n",
       "      <td>Pune</td>\n",
       "      <td>FTI College, Law College Road</td>\n",
       "    </tr>\n",
       "    <tr>\n",
       "      <td>1</td>\n",
       "      <td>Sector 3, Marathalli</td>\n",
       "      <td>Karnataka</td>\n",
       "      <td>Bangalore</td>\n",
       "      <td>Sector 3, Marathalli</td>\n",
       "    </tr>\n",
       "    <tr>\n",
       "      <td>2</td>\n",
       "      <td>Mumbai Central</td>\n",
       "      <td>Maharashtra</td>\n",
       "      <td>Mumbai</td>\n",
       "      <td>Mumbai Central</td>\n",
       "    </tr>\n",
       "    <tr>\n",
       "      <td>3</td>\n",
       "      <td>Sector 1, Noida</td>\n",
       "      <td>New Delhi</td>\n",
       "      <td>Noida</td>\n",
       "      <td>Sector 1</td>\n",
       "    </tr>\n",
       "    <tr>\n",
       "      <td>4</td>\n",
       "      <td>Rmz Centennial, I Gate, Whitefield</td>\n",
       "      <td>Karnataka</td>\n",
       "      <td>Bangalore</td>\n",
       "      <td>Rmz Centennial, I Gate, Whitefield</td>\n",
       "    </tr>\n",
       "  </tbody>\n",
       "</table>\n",
       "</div>"
      ],
      "text/plain": [
       "                              Location        State       City  \\\n",
       "0  FTI College, Law College Road, Pune  Maharashtra       Pune   \n",
       "1                 Sector 3, Marathalli    Karnataka  Bangalore   \n",
       "2                       Mumbai Central  Maharashtra     Mumbai   \n",
       "3                      Sector 1, Noida    New Delhi      Noida   \n",
       "4   Rmz Centennial, I Gate, Whitefield    Karnataka  Bangalore   \n",
       "\n",
       "                                 Area  \n",
       "0       FTI College, Law College Road  \n",
       "1                Sector 3, Marathalli  \n",
       "2                      Mumbai Central  \n",
       "3                            Sector 1  \n",
       "4  Rmz Centennial, I Gate, Whitefield  "
      ]
     },
     "execution_count": 10,
     "metadata": {},
     "output_type": "execute_result"
    }
   ],
   "source": [
    "# Read location analysis data\n",
    "loc_analysis_df = pd.read_excel(\"Location_Analysis.xlsx\")\n",
    "loc_analysis_df.head()"
   ]
  },
  {
   "cell_type": "code",
   "execution_count": 11,
   "metadata": {},
   "outputs": [
    {
     "name": "stdout",
     "output_type": "stream",
     "text": [
      "combined_df: (13868, 10)\n"
     ]
    }
   ],
   "source": [
    "# Derive \"State\", \"City\" and \"Area\" based on \"Location\" field\n",
    "combined_df['State'] = combined_df['Location'].apply(lambda x: loc_analysis_df[loc_analysis_df['Location'] == x]['State'].max(axis=0))\n",
    "combined_df['City'] = combined_df['Location'].apply(lambda x: loc_analysis_df[loc_analysis_df['Location'] == x]['City'].max(axis=0))\n",
    "combined_df['Area'] = combined_df['Location'].apply(lambda x: loc_analysis_df[loc_analysis_df['Location'] == x]['Area'].max(axis=0))\n",
    "combined_df.drop(['Location'], inplace=True, axis=1)\n",
    "print(\"combined_df: {}\".format(combined_df.shape))"
   ]
  },
  {
   "cell_type": "code",
   "execution_count": 12,
   "metadata": {},
   "outputs": [
    {
     "name": "stdout",
     "output_type": "stream",
     "text": [
      "combined_df: (13868, 14)\n"
     ]
    }
   ],
   "source": [
    "# Convert \"State\" field to one-hot encoding\n",
    "dummy_df = pd.get_dummies(combined_df['State'], prefix='State')\n",
    "combined_df = pd.concat([combined_df, dummy_df], axis=1)\n",
    "combined_df.drop(['State'], inplace=True, axis=1)\n",
    "print(\"combined_df: {}\".format(combined_df.shape))"
   ]
  },
  {
   "cell_type": "code",
   "execution_count": 13,
   "metadata": {},
   "outputs": [
    {
     "name": "stdout",
     "output_type": "stream",
     "text": [
      "combined_df: (13868, 24)\n"
     ]
    }
   ],
   "source": [
    "# Convert \"City\" field to one-hot encoding\n",
    "dummy_df = pd.get_dummies(combined_df['City'], prefix='City')\n",
    "combined_df = pd.concat([combined_df, dummy_df], axis=1)\n",
    "combined_df.drop(['City'], inplace=True, axis=1)\n",
    "print(\"combined_df: {}\".format(combined_df.shape))"
   ]
  },
  {
   "cell_type": "code",
   "execution_count": 14,
   "metadata": {},
   "outputs": [
    {
     "name": "stdout",
     "output_type": "stream",
     "text": [
      "combined_df: (13868, 94)\n"
     ]
    }
   ],
   "source": [
    "# Column encoding for \"Area\" field\n",
    "tfidf = TfidfVectorizer(sublinear_tf=True, min_df=5, ngram_range=(1, 1), stop_words='english', max_features=10000)\n",
    "features = tfidf.fit_transform(combined_df.Area).toarray()\n",
    "features_df = pd.DataFrame(features, columns=tfidf.get_feature_names())\n",
    "combined_df = pd.merge(combined_df, features_df, left_index=True, right_index=True)\n",
    "combined_df.drop(['Area'], inplace=True, axis=1)\n",
    "print(\"combined_df: {}\".format(combined_df.shape))"
   ]
  },
  {
   "cell_type": "code",
   "execution_count": 15,
   "metadata": {},
   "outputs": [
    {
     "name": "stdout",
     "output_type": "stream",
     "text": [
      "combined_df: (13868, 194)\n"
     ]
    }
   ],
   "source": [
    "# Convert \"Cuisines\" field into categorical encoded individual fields\n",
    "combined_df['Cuisine_List'] = combined_df['Cuisines'].apply(lambda x: x.split(', '))\n",
    "combined_df = combined_df.drop('Cuisine_List', 1).join(combined_df.Cuisine_List.str.join('|').str.get_dummies())\n",
    "combined_df.drop(['Cuisines'], inplace=True, axis=1)\n",
    "print(\"combined_df: {}\".format(combined_df.shape))"
   ]
  },
  {
   "cell_type": "code",
   "execution_count": 16,
   "metadata": {},
   "outputs": [
    {
     "name": "stdout",
     "output_type": "stream",
     "text": [
      "combined_df: (13868, 194)\n"
     ]
    }
   ],
   "source": [
    "# Fill invalid string value in \"Average_Cost\" field with mean value\n",
    "combined_df['Avg_Cost'] = combined_df['Average_Cost'].apply(lambda x: np.nan if x == 'for' else x)\n",
    "mean_cost = combined_df['Avg_Cost'].mean()\n",
    "combined_df['Avg_Cost'] = combined_df['Avg_Cost'].fillna(mean_cost)\n",
    "combined_df.drop(['Average_Cost'], inplace=True, axis=1)\n",
    "print(\"combined_df: {}\".format(combined_df.shape))"
   ]
  },
  {
   "cell_type": "code",
   "execution_count": 17,
   "metadata": {},
   "outputs": [
    {
     "name": "stdout",
     "output_type": "stream",
     "text": [
      "combined_df: (13868, 194)\n"
     ]
    }
   ],
   "source": [
    "# Fill invalid string value in \"Rating\" field based on below rule:\n",
    "# 1) If ['NEW','Opening Soon','Temporarily Closed'] then 0\n",
    "# 2) If '-', then NaN\n",
    "combined_df['modified_rating'] = combined_df['Rating'].apply(lambda x: np.nan if x == '-' else (0 if x in ['NEW','Opening Soon','Temporarily Closed'] else pd.to_numeric(x)))\n",
    "mean_rating = combined_df['modified_rating'].mean()\n",
    "combined_df['modified_rating'] = combined_df['modified_rating'].fillna(mean_rating)\n",
    "combined_df.drop(['Rating'], inplace=True, axis=1)\n",
    "print(\"combined_df: {}\".format(combined_df.shape))"
   ]
  },
  {
   "cell_type": "code",
   "execution_count": 18,
   "metadata": {},
   "outputs": [
    {
     "name": "stdout",
     "output_type": "stream",
     "text": [
      "combined_df: (13868, 194)\n"
     ]
    }
   ],
   "source": [
    "# Fill invalid string value in \"Votes\" field with mean value\n",
    "combined_df['modified_votes'] = combined_df['Votes'].apply(lambda x: np.nan if x == '-' else pd.to_numeric(x))\n",
    "mean_cost = combined_df['modified_votes'].mean()\n",
    "combined_df['modified_votes'] = combined_df['modified_votes'].fillna(mean_cost)\n",
    "combined_df.drop(['Votes'], inplace=True, axis=1)\n",
    "print(\"combined_df: {}\".format(combined_df.shape))"
   ]
  },
  {
   "cell_type": "code",
   "execution_count": 19,
   "metadata": {},
   "outputs": [
    {
     "name": "stdout",
     "output_type": "stream",
     "text": [
      "combined_df: (13868, 194)\n"
     ]
    }
   ],
   "source": [
    "# Fill invalid string value in \"Reviews\" field with mean value\n",
    "combined_df['modified_reviews'] = combined_df['Reviews'].apply(lambda x: np.nan if x == '-' else pd.to_numeric(x))\n",
    "mean_cost = combined_df['modified_reviews'].mean()\n",
    "combined_df['modified_reviews'] = combined_df['modified_reviews'].fillna(mean_cost)\n",
    "combined_df.drop(['Reviews'], inplace=True, axis=1)\n",
    "print(\"combined_df: {}\".format(combined_df.shape))"
   ]
  },
  {
   "cell_type": "code",
   "execution_count": 20,
   "metadata": {},
   "outputs": [
    {
     "name": "stdout",
     "output_type": "stream",
     "text": [
      "combined_df: (13868, 193)\n"
     ]
    }
   ],
   "source": [
    "combined_df.drop(['Restaurant'], inplace=True, axis=1)\n",
    "print(\"combined_df: {}\".format(combined_df.shape))"
   ]
  },
  {
   "cell_type": "code",
   "execution_count": 21,
   "metadata": {},
   "outputs": [
    {
     "name": "stdout",
     "output_type": "stream",
     "text": [
      "Column with NaN value: []\n"
     ]
    }
   ],
   "source": [
    "# Check if any column has NaN value in dataframe\n",
    "print(\"Column with NaN value: {}\".format(combined_df.columns[combined_df.isnull().any()].tolist()))"
   ]
  },
  {
   "cell_type": "code",
   "execution_count": 22,
   "metadata": {},
   "outputs": [],
   "source": [
    "# Segregate combined_df into train/predict datasets\n",
    "train_x = combined_df[:11094]\n",
    "predict_x = combined_df[11094:]"
   ]
  },
  {
   "cell_type": "code",
   "execution_count": 23,
   "metadata": {},
   "outputs": [
    {
     "name": "stdout",
     "output_type": "stream",
     "text": [
      "(11094, 193)\n",
      "(2774, 193)\n"
     ]
    }
   ],
   "source": [
    "print(train_x.shape)\n",
    "print(predict_x.shape)"
   ]
  },
  {
   "cell_type": "code",
   "execution_count": 24,
   "metadata": {},
   "outputs": [],
   "source": [
    "# Scale the train_x/predict_x datasets\n",
    "scaler_x = RobustScaler().fit(train_x)\n",
    "train_x = scaler_x.transform(train_x)\n",
    "predict_x = scaler_x.transform(predict_x)"
   ]
  },
  {
   "cell_type": "code",
   "execution_count": 25,
   "metadata": {},
   "outputs": [],
   "source": [
    "# Split training data into train/validation/test datasets\n",
    "sss = StratifiedShuffleSplit(n_splits=1, test_size=0.15, random_state=1)\n",
    "for train_index, validation_index in sss.split(train_x, train_y):\n",
    "    train_x, validation_x = train_x[train_index], train_x[validation_index]\n",
    "    train_y, validation_y = train_y[train_index], train_y[validation_index]\n",
    "\n",
    "sss = StratifiedShuffleSplit(n_splits=1, test_size=0.2, random_state=1)\n",
    "for train_index, test_index in sss.split(train_x, train_y):\n",
    "    train_x, test_x = train_x[train_index], train_x[test_index]\n",
    "    train_y, test_y = train_y[train_index], train_y[test_index]"
   ]
  },
  {
   "cell_type": "code",
   "execution_count": 26,
   "metadata": {},
   "outputs": [
    {
     "name": "stdout",
     "output_type": "stream",
     "text": [
      "------------------------- Training Dataset -------------------------\n",
      "train_x shape: (7543, 193)\n",
      "train_y shape: (7543, 1)\n",
      "\n",
      "------------------------- Validation Dataset -------------------------\n",
      "validation_x shape: (1665, 193)\n",
      "validation_y shape: (1665, 1)\n",
      "\n",
      "------------------------- Test Dataset -------------------------\n",
      "test_x shape: (1886, 193)\n",
      "test_y shape: (1886, 1)\n"
     ]
    }
   ],
   "source": [
    "print(\"------------------------- Training Dataset -------------------------\")\n",
    "print(\"train_x shape: {}\".format(train_x.shape))\n",
    "print(\"train_y shape: {}\".format(train_y.shape))\n",
    "\n",
    "print(\"\\n------------------------- Validation Dataset -------------------------\")\n",
    "print(\"validation_x shape: {}\".format(validation_x.shape))\n",
    "print(\"validation_y shape: {}\".format(validation_y.shape))\n",
    "\n",
    "print(\"\\n------------------------- Test Dataset -------------------------\")\n",
    "print(\"test_x shape: {}\".format(test_x.shape))\n",
    "print(\"test_y shape: {}\".format(test_y.shape))"
   ]
  },
  {
   "cell_type": "code",
   "execution_count": 27,
   "metadata": {},
   "outputs": [
    {
     "name": "stdout",
     "output_type": "stream",
     "text": [
      "Class balancing done.\n",
      "train_x shape: (35252, 193)\n",
      "train_y shape: (35252, 1)\n"
     ]
    }
   ],
   "source": [
    "# Handling class imbalance\n",
    "sm = SMOTE(k_neighbors=1)\n",
    "sm_x, sm_y = sm.fit_sample(train_x, train_y.ravel())\n",
    "train_x = sm_x\n",
    "train_y = np.array([sm_y]).T\n",
    "print(\"Class balancing done.\")\n",
    "print(\"train_x shape: {}\".format(train_x.shape))\n",
    "print(\"train_y shape: {}\".format(train_y.shape))"
   ]
  },
  {
   "cell_type": "code",
   "execution_count": 28,
   "metadata": {},
   "outputs": [],
   "source": [
    "# Convert train_y/validation_y/test_y into one-hot encode matrix\n",
    "train_y = tf.keras.utils.to_categorical(train_y, 7)\n",
    "validation_y = tf.keras.utils.to_categorical(validation_y, 7)\n",
    "test_y = tf.keras.utils.to_categorical(test_y, 7)"
   ]
  },
  {
   "cell_type": "code",
   "execution_count": 29,
   "metadata": {},
   "outputs": [
    {
     "name": "stdout",
     "output_type": "stream",
     "text": [
      "------------------------- Training Dataset -------------------------\n",
      "train_x shape: (35252, 193)\n",
      "train_y shape: (35252, 7)\n",
      "\n",
      "------------------------- Validation Dataset -------------------------\n",
      "validation_x shape: (1665, 193)\n",
      "validation_y shape: (1665, 7)\n",
      "\n",
      "------------------------- Test Dataset -------------------------\n",
      "test_x shape: (1886, 193)\n",
      "test_y shape: (1886, 7)\n"
     ]
    }
   ],
   "source": [
    "print(\"------------------------- Training Dataset -------------------------\")\n",
    "print(\"train_x shape: {}\".format(train_x.shape))\n",
    "print(\"train_y shape: {}\".format(train_y.shape))\n",
    "\n",
    "print(\"\\n------------------------- Validation Dataset -------------------------\")\n",
    "print(\"validation_x shape: {}\".format(validation_x.shape))\n",
    "print(\"validation_y shape: {}\".format(validation_y.shape))\n",
    "\n",
    "print(\"\\n------------------------- Test Dataset -------------------------\")\n",
    "print(\"test_x shape: {}\".format(test_x.shape))\n",
    "print(\"test_y shape: {}\".format(test_y.shape))"
   ]
  },
  {
   "cell_type": "code",
   "execution_count": 57,
   "metadata": {},
   "outputs": [],
   "source": [
    "def nn_model(input_shape, c):\n",
    "    \"\"\"\n",
    "    This function is used to train the NN model and get optimal model parameters.\n",
    "    :param input_shape: Shape of input image\n",
    "    :param c: Number of classes\n",
    "    :return: Keras NN Model\n",
    "    \"\"\"\n",
    "    \n",
    "    # Input Layer\n",
    "    x_input = Input(shape=(input_shape, ), name='INPUT')\n",
    "    \n",
    "    # Fully-connected Layer 1\n",
    "    x = Dense(units=128, name='FC-1', activation='relu', kernel_initializer=he_uniform(seed=1), kernel_regularizer=l2(0.01))(x_input)\n",
    "    x = BatchNormalization(name='BN_FC-1')(x)\n",
    "    x = Dropout(rate=0.5, name='DROPOUT_FC-1')(x)\n",
    "    \n",
    "    # Fully-connected Layer 2\n",
    "    x = Dense(units=128, name='FC-2', activation='relu', kernel_initializer=he_uniform(seed=1), kernel_regularizer=l2(0.01))(x)\n",
    "    x = BatchNormalization(name='BN_FC-2')(x)\n",
    "    x = Dropout(rate=0.5, name='DROPOUT_FC-2')(x)\n",
    "    \n",
    "    # Fully-connected Layer 3\n",
    "    x = Dense(units=64, name='FC-3', activation='relu', kernel_initializer=he_uniform(seed=1), kernel_regularizer=l2(0.01))(x)\n",
    "    x = BatchNormalization(name='BN_FC-3')(x)\n",
    "    x = Dropout(rate=0.5, name='DROPOUT_FC-3')(x)\n",
    "    \n",
    "    # Fully-connected Layer 4\n",
    "    x = Dense(units=64, name='FC-4', activation='relu', kernel_initializer=he_uniform(seed=1), kernel_regularizer=l2(0.01))(x)\n",
    "    x = BatchNormalization(name='BN_FC-4')(x)\n",
    "    x = Dropout(rate=0.5, name='DROPOUT_FC-4')(x)\n",
    "    \n",
    "    # Fully-connected Layer 5\n",
    "    x = Dense(units=32, name='FC-5', activation='relu', kernel_initializer=he_uniform(seed=1), kernel_regularizer=l2(0.01))(x)\n",
    "    x = BatchNormalization(name='BN_FC-5')(x)\n",
    "    x = Dropout(rate=0.5, name='DROPOUT_FC-5')(x)\n",
    "    \n",
    "    # Fully-connected Layer 6\n",
    "    x = Dense(units=32, name='FC-6', activation='relu', kernel_initializer=he_uniform(seed=1), kernel_regularizer=l2(0.01))(x)\n",
    "    x = BatchNormalization(name='BN_FC-6')(x)\n",
    "    x = Dropout(rate=0.5, name='DROPOUT_FC-6')(x)\n",
    "    \n",
    "    # Fully-connected Layer 7\n",
    "    x = Dense(units=16, name='FC-7', activation='relu', kernel_initializer=he_uniform(seed=1), kernel_regularizer=l2(0.01))(x)\n",
    "    x = BatchNormalization(name='BN_FC-7')(x)\n",
    "    x = Dropout(rate=0.5, name='DROPOUT_FC-7')(x)\n",
    "    \n",
    "    # Fully-connected Layer 8\n",
    "    x = Dense(units=16, name='FC-8', activation='relu', kernel_initializer=he_uniform(seed=1), kernel_regularizer=l2(0.01))(x)\n",
    "    x = BatchNormalization(name='BN_FC-8')(x)\n",
    "    x = Dropout(rate=0.5, name='DROPOUT_FC-8')(x)\n",
    "    \n",
    "    # Output Layer\n",
    "    x = Dense(units=c, activation='softmax', name='OUTPUT', kernel_initializer=he_uniform(seed=1))(x)\n",
    "\n",
    "    # Create Keras Model instance\n",
    "    model = Model(inputs=x_input, outputs=x, name='BooksPricePredictor')\n",
    "\n",
    "    return model"
   ]
  },
  {
   "cell_type": "code",
   "execution_count": 61,
   "metadata": {},
   "outputs": [],
   "source": [
    "# Define the model hyperparameters\n",
    "max_iterations = 10\n",
    "mini_batch_size = 128\n",
    "min_lr = 1e-4\n",
    "max_lr = 1e-1\n",
    "step_size = 8 * (train_x.shape[0] // mini_batch_size)\n",
    "#step_size = 500\n",
    "clr_method = 'triangular2'"
   ]
  },
  {
   "cell_type": "code",
   "execution_count": 62,
   "metadata": {},
   "outputs": [],
   "source": [
    "# Create the model\n",
    "model = nn_model(train_x.shape[1], 7)\n",
    "\n",
    "# Compile model to configure the learning process\n",
    "adam = Adam(lr=min_lr)\n",
    "model.compile(loss='categorical_crossentropy',\n",
    "              optimizer=adam,\n",
    "              metrics=['accuracy'])\n",
    "\n",
    "# Triangular learning rate policy\n",
    "clr = CyclicLR(base_lr=min_lr, max_lr=max_lr, mode=clr_method, step_size=step_size)"
   ]
  },
  {
   "cell_type": "code",
   "execution_count": 60,
   "metadata": {},
   "outputs": [
    {
     "name": "stdout",
     "output_type": "stream",
     "text": [
      "Train on 35252 samples\n",
      "Epoch 1/8\n",
      "35252/35252 [==============================] - 12s 347us/sample - loss: 12.5576 - accuracy: 0.1401\n",
      "Epoch 2/8\n",
      "35252/35252 [==============================] - 5s 134us/sample - loss: 12.5443 - accuracy: 0.1435\n",
      "Epoch 3/8\n",
      "35252/35252 [==============================] - 5s 136us/sample - loss: 12.5419 - accuracy: 0.1418\n",
      "Epoch 4/8\n",
      "35252/35252 [==============================] - 5s 134us/sample - loss: 12.5210 - accuracy: 0.1415\n",
      "Epoch 5/8\n",
      "35252/35252 [==============================] - 5s 134us/sample - loss: 11.9769 - accuracy: 0.1393\n",
      "Epoch 6/8\n",
      "35252/35252 [==============================] - 5s 135us/sample - loss: 7.7231 - accuracy: 0.1587\n",
      "Epoch 7/8\n",
      "35252/35252 [==============================] - 5s 134us/sample - loss: 2.8254 - accuracy: 0.3060\n",
      "Epoch 8/8\n",
      "10112/35252 [=======>......................] - ETA: 3s - loss: 8.1552 - accuracy: 0.1805"
     ]
    },
    {
     "data": {
      "image/png": "[encoded data removed]",
      "text/plain": [
       "<Figure size 432x288 with 1 Axes>"
      ]
     },
     "metadata": {
      "needs_background": "light"
     },
     "output_type": "display_data"
    }
   ],
   "source": [
    "# Learning Rate Finder\n",
    "lrf = LearningRateFinder(model)\n",
    "lrf.find((train_x, train_y),\n",
    "         startLR=1e-10, endLR=1e+1,\n",
    "         stepsPerEpoch=np.ceil((len(train_x) / float(mini_batch_size))),\n",
    "         batchSize=mini_batch_size)\n",
    "lrf.plot_loss()\n",
    "plt.grid()\n",
    "plt.show()"
   ]
  },
  {
   "cell_type": "code",
   "execution_count": 63,
   "metadata": {},
   "outputs": [
    {
     "name": "stdout",
     "output_type": "stream",
     "text": [
      "Train on 35252 samples, validate on 1665 samples\n",
      "Epoch 1/100\n",
      "35252/35252 [==============================] - 13s 368us/sample - loss: 7.1217 - accuracy: 0.1694 - val_loss: 2.5620 - val_accuracy: 0.0024\n",
      "Epoch 2/100\n",
      "35252/35252 [==============================] - 5s 135us/sample - loss: 2.1133 - accuracy: 0.3161 - val_loss: 2.4925 - val_accuracy: 0.1291\n",
      "Epoch 3/100\n",
      "35252/35252 [==============================] - 5s 135us/sample - loss: 2.3363 - accuracy: 0.3782 - val_loss: 2.9291 - val_accuracy: 0.0619\n",
      "Epoch 4/100\n",
      "35252/35252 [==============================] - 5s 137us/sample - loss: 2.7202 - accuracy: 0.3872 - val_loss: 3.6190 - val_accuracy: 0.1063\n",
      "Epoch 5/100\n",
      "35252/35252 [==============================] - 5s 134us/sample - loss: 2.9241 - accuracy: 0.3740 - val_loss: 2.8814 - val_accuracy: 0.5790\n",
      "Epoch 6/100\n",
      "35252/35252 [==============================] - 5s 133us/sample - loss: 3.3151 - accuracy: 0.3524 - val_loss: 3.9574 - val_accuracy: 0.3387\n",
      "Epoch 7/100\n",
      "35252/35252 [==============================] - 5s 133us/sample - loss: 3.5425 - accuracy: 0.3415 - val_loss: 3.4224 - val_accuracy: 0.5495\n",
      "Epoch 8/100\n",
      "35252/35252 [==============================] - 5s 133us/sample - loss: 3.7292 - accuracy: 0.3249 - val_loss: 4.2498 - val_accuracy: 0.0024\n",
      "Epoch 9/100\n",
      "35252/35252 [==============================] - 5s 133us/sample - loss: 3.8471 - accuracy: 0.3160 - val_loss: 3.9095 - val_accuracy: 0.0583\n",
      "Epoch 10/100\n",
      "35252/35252 [==============================] - 5s 140us/sample - loss: 3.5581 - accuracy: 0.3375 - val_loss: 3.1753 - val_accuracy: 0.0150\n",
      "Epoch 11/100\n",
      "35252/35252 [==============================] - 5s 134us/sample - loss: 3.2868 - accuracy: 0.3497 - val_loss: 3.5422 - val_accuracy: 0.0264\n",
      "Epoch 12/100\n",
      "35252/35252 [==============================] - 5s 134us/sample - loss: 3.0473 - accuracy: 0.3574 - val_loss: 3.1171 - val_accuracy: 0.0102\n",
      "Epoch 13/100\n",
      "35252/35252 [==============================] - 5s 132us/sample - loss: 2.7790 - accuracy: 0.3721 - val_loss: 3.0450 - val_accuracy: 0.0709\n",
      "Epoch 14/100\n",
      "35252/35252 [==============================] - 5s 136us/sample - loss: 2.3768 - accuracy: 0.3824 - val_loss: 2.2580 - val_accuracy: 0.5363\n",
      "Epoch 15/100\n",
      "35252/35252 [==============================] - 5s 132us/sample - loss: 2.0460 - accuracy: 0.4011 - val_loss: 1.9975 - val_accuracy: 0.1514\n",
      "Epoch 16/100\n",
      "35252/35252 [==============================] - 5s 133us/sample - loss: 1.6172 - accuracy: 0.4306 - val_loss: 1.6406 - val_accuracy: 0.2883\n",
      "Epoch 17/100\n",
      "35252/35252 [==============================] - 5s 133us/sample - loss: 1.4736 - accuracy: 0.4560 - val_loss: 2.0066 - val_accuracy: 0.2330\n",
      "Epoch 18/100\n",
      "35252/35252 [==============================] - ETA: 0s - loss: 1.7248 - accuracy: 0.43 - 5s 134us/sample - loss: 1.7250 - accuracy: 0.4344 - val_loss: 2.1430 - val_accuracy: 0.3237\n",
      "Epoch 19/100\n",
      "35252/35252 [==============================] - 5s 133us/sample - loss: 1.9533 - accuracy: 0.4164 - val_loss: 2.5487 - val_accuracy: 0.0529\n",
      "Epoch 20/100\n",
      "35252/35252 [==============================] - 5s 133us/sample - loss: 2.1115 - accuracy: 0.4044 - val_loss: 2.6195 - val_accuracy: 0.0192\n",
      "Epoch 21/100\n",
      "35252/35252 [==============================] - 5s 133us/sample - loss: 2.2952 - accuracy: 0.3907 - val_loss: 2.5316 - val_accuracy: 0.1243\n",
      "Epoch 22/100\n",
      "35252/35252 [==============================] - 5s 137us/sample - loss: 2.4149 - accuracy: 0.3898 - val_loss: 3.1681 - val_accuracy: 0.0102\n",
      "Epoch 23/100\n",
      "35252/35252 [==============================] - 5s 137us/sample - loss: 2.6619 - accuracy: 0.3786 - val_loss: 2.6779 - val_accuracy: 0.0835\n",
      "Epoch 24/100\n",
      "35252/35252 [==============================] - 5s 137us/sample - loss: 2.7450 - accuracy: 0.3761 - val_loss: 2.6759 - val_accuracy: 0.0096\n",
      "Epoch 25/100\n",
      "35252/35252 [==============================] - 5s 141us/sample - loss: 2.7260 - accuracy: 0.3702 - val_loss: 2.8117 - val_accuracy: 0.0492\n",
      "Epoch 26/100\n",
      "35252/35252 [==============================] - 5s 130us/sample - loss: 2.5649 - accuracy: 0.3734 - val_loss: 2.8532 - val_accuracy: 0.0817\n",
      "Epoch 27/100\n",
      "35252/35252 [==============================] - 5s 136us/sample - loss: 2.3896 - accuracy: 0.3832 - val_loss: 3.1868 - val_accuracy: 0.0156\n",
      "Epoch 28/100\n",
      "35252/35252 [==============================] - 5s 141us/sample - loss: 2.3024 - accuracy: 0.3924 - val_loss: 2.4522 - val_accuracy: 0.0180\n",
      "Epoch 29/100\n",
      "35252/35252 [==============================] - 5s 133us/sample - loss: 2.0737 - accuracy: 0.3935 - val_loss: 2.0322 - val_accuracy: 0.0817\n",
      "Epoch 30/100\n",
      "35252/35252 [==============================] - 5s 132us/sample - loss: 1.8953 - accuracy: 0.4019 - val_loss: 1.9463 - val_accuracy: 0.3724\n",
      "Epoch 31/100\n",
      "35252/35252 [==============================] - 5s 133us/sample - loss: 1.6783 - accuracy: 0.4155 - val_loss: 1.7944 - val_accuracy: 0.2943\n",
      "Epoch 32/100\n",
      "35252/35252 [==============================] - 5s 137us/sample - loss: 1.4411 - accuracy: 0.4501 - val_loss: 1.6156 - val_accuracy: 0.2817\n",
      "Epoch 33/100\n",
      "35252/35252 [==============================] - 5s 134us/sample - loss: 1.3578 - accuracy: 0.4647 - val_loss: 1.7226 - val_accuracy: 0.4018\n",
      "Epoch 34/100\n",
      "35252/35252 [==============================] - 5s 134us/sample - loss: 1.4815 - accuracy: 0.4563 - val_loss: 1.9372 - val_accuracy: 0.1838\n",
      "Epoch 35/100\n",
      "35252/35252 [==============================] - 5s 135us/sample - loss: 1.6261 - accuracy: 0.4384 - val_loss: 1.7442 - val_accuracy: 0.4787\n",
      "Epoch 36/100\n",
      "35252/35252 [==============================] - 5s 134us/sample - loss: 1.7440 - accuracy: 0.4288 - val_loss: 2.0073 - val_accuracy: 0.2414\n",
      "Epoch 37/100\n",
      "35252/35252 [==============================] - 5s 140us/sample - loss: 1.8477 - accuracy: 0.4211 - val_loss: 2.1952 - val_accuracy: 0.0180\n",
      "Epoch 38/100\n",
      "35252/35252 [==============================] - 5s 136us/sample - loss: 1.9410 - accuracy: 0.4172 - val_loss: 2.2275 - val_accuracy: 0.1628\n",
      "Epoch 39/100\n",
      "35252/35252 [==============================] - 5s 137us/sample - loss: 2.0212 - accuracy: 0.4072 - val_loss: 2.0787 - val_accuracy: 0.2000\n",
      "Epoch 40/100\n",
      "35252/35252 [==============================] - 5s 135us/sample - loss: 2.1643 - accuracy: 0.4045 - val_loss: 2.4535 - val_accuracy: 0.1916\n",
      "Epoch 41/100\n",
      "35252/35252 [==============================] - 5s 133us/sample - loss: 2.0789 - accuracy: 0.4048 - val_loss: 2.1461 - val_accuracy: 0.1129\n",
      "Epoch 42/100\n",
      "35252/35252 [==============================] - 5s 133us/sample - loss: 1.9915 - accuracy: 0.4043 - val_loss: 2.1182 - val_accuracy: 0.0853\n",
      "Epoch 43/100\n",
      "35252/35252 [==============================] - 5s 133us/sample - loss: 1.9519 - accuracy: 0.4064 - val_loss: 2.2264 - val_accuracy: 0.1826\n",
      "Epoch 44/100\n",
      "35252/35252 [==============================] - 5s 136us/sample - loss: 1.8063 - accuracy: 0.4192 - val_loss: 2.0928 - val_accuracy: 0.1231\n",
      "Epoch 45/100\n",
      "35252/35252 [==============================] - 5s 134us/sample - loss: 1.7013 - accuracy: 0.4342 - val_loss: 1.8585 - val_accuracy: 0.2673\n",
      "Epoch 46/100\n",
      "35252/35252 [==============================] - 5s 132us/sample - loss: 1.5809 - accuracy: 0.4491 - val_loss: 1.7388 - val_accuracy: 0.3754\n",
      "Epoch 47/100\n",
      "35252/35252 [==============================] - 5s 134us/sample - loss: 1.4795 - accuracy: 0.4622 - val_loss: 1.6164 - val_accuracy: 0.2571\n",
      "Epoch 48/100\n",
      "35252/35252 [==============================] - 5s 134us/sample - loss: 1.2915 - accuracy: 0.4942 - val_loss: 1.5419 - val_accuracy: 0.3255\n",
      "Epoch 49/100\n",
      "35252/35252 [==============================] - 5s 133us/sample - loss: 1.2282 - accuracy: 0.5085 - val_loss: 1.4879 - val_accuracy: 0.5387\n",
      "Epoch 50/100\n",
      "35252/35252 [==============================] - 5s 133us/sample - loss: 1.3173 - accuracy: 0.4955 - val_loss: 1.5723 - val_accuracy: 0.3381\n",
      "Epoch 51/100\n",
      "35252/35252 [==============================] - 5s 133us/sample - loss: 1.3621 - accuracy: 0.4903 - val_loss: 1.7656 - val_accuracy: 0.4246\n",
      "Epoch 52/100\n",
      "35252/35252 [==============================] - 5s 133us/sample - loss: 1.4540 - accuracy: 0.4839 - val_loss: 1.9409 - val_accuracy: 0.3688\n",
      "Epoch 53/100\n",
      "35252/35252 [==============================] - 5s 135us/sample - loss: 1.5573 - accuracy: 0.4759 - val_loss: 1.6341 - val_accuracy: 0.5742\n",
      "Epoch 54/100\n"
     ]
    },
    {
     "name": "stdout",
     "output_type": "stream",
     "text": [
      "35252/35252 [==============================] - 5s 136us/sample - loss: 1.6207 - accuracy: 0.4650 - val_loss: 1.9305 - val_accuracy: 0.2054\n",
      "Epoch 55/100\n",
      "35252/35252 [==============================] - 5s 130us/sample - loss: 1.6611 - accuracy: 0.4640 - val_loss: 1.9937 - val_accuracy: 0.4631\n",
      "Epoch 56/100\n",
      "35252/35252 [==============================] - 5s 130us/sample - loss: 1.7215 - accuracy: 0.4632 - val_loss: 1.8651 - val_accuracy: 0.2198\n",
      "Epoch 57/100\n",
      "35252/35252 [==============================] - 5s 132us/sample - loss: 1.6719 - accuracy: 0.4689 - val_loss: 2.0292 - val_accuracy: 0.2048\n",
      "Epoch 58/100\n",
      "35252/35252 [==============================] - 5s 134us/sample - loss: 1.6167 - accuracy: 0.4680 - val_loss: 1.9183 - val_accuracy: 0.0883\n",
      "Epoch 59/100\n",
      "35252/35252 [==============================] - 5s 132us/sample - loss: 1.5680 - accuracy: 0.4773 - val_loss: 1.8047 - val_accuracy: 0.1580\n",
      "Epoch 60/100\n",
      "35252/35252 [==============================] - 5s 134us/sample - loss: 1.4989 - accuracy: 0.4849 - val_loss: 1.6481 - val_accuracy: 0.3622\n",
      "Epoch 61/100\n",
      "35252/35252 [==============================] - 5s 131us/sample - loss: 1.4583 - accuracy: 0.4880 - val_loss: 1.7609 - val_accuracy: 0.4895\n",
      "Epoch 62/100\n",
      "35252/35252 [==============================] - 5s 132us/sample - loss: 1.3553 - accuracy: 0.4992 - val_loss: 1.5595 - val_accuracy: 0.4997\n",
      "Epoch 63/100\n",
      "35252/35252 [==============================] - 5s 133us/sample - loss: 1.2528 - accuracy: 0.5120 - val_loss: 1.4879 - val_accuracy: 0.2757\n",
      "Epoch 64/100\n",
      "35252/35252 [==============================] - 5s 132us/sample - loss: 1.1607 - accuracy: 0.5281 - val_loss: 1.4315 - val_accuracy: 0.5940\n",
      "Epoch 65/100\n",
      "35252/35252 [==============================] - 5s 138us/sample - loss: 1.1110 - accuracy: 0.5334 - val_loss: 1.4204 - val_accuracy: 0.6036\n",
      "Epoch 66/100\n",
      "35252/35252 [==============================] - 5s 136us/sample - loss: 1.1575 - accuracy: 0.5269 - val_loss: 1.6357 - val_accuracy: 0.5021\n",
      "Epoch 67/100\n",
      "35252/35252 [==============================] - 5s 135us/sample - loss: 1.1973 - accuracy: 0.5199 - val_loss: 1.5207 - val_accuracy: 0.5483\n",
      "Epoch 68/100\n",
      "35252/35252 [==============================] - 5s 132us/sample - loss: 1.2589 - accuracy: 0.5162 - val_loss: 1.6533 - val_accuracy: 0.2246\n",
      "Epoch 69/100\n",
      "35252/35252 [==============================] - 5s 133us/sample - loss: 1.3206 - accuracy: 0.5069 - val_loss: 1.6570 - val_accuracy: 0.0793\n",
      "Epoch 70/100\n",
      "35252/35252 [==============================] - 5s 133us/sample - loss: 1.3565 - accuracy: 0.5023 - val_loss: 1.6565 - val_accuracy: 0.5345\n",
      "Epoch 71/100\n",
      "35252/35252 [==============================] - 5s 132us/sample - loss: 1.4144 - accuracy: 0.4939 - val_loss: 1.7510 - val_accuracy: 0.2402\n",
      "Epoch 72/100\n",
      "35252/35252 [==============================] - 5s 133us/sample - loss: 1.4685 - accuracy: 0.4974 - val_loss: 1.6720 - val_accuracy: 0.2811\n",
      "Epoch 73/100\n",
      "35252/35252 [==============================] - 5s 134us/sample - loss: 1.4109 - accuracy: 0.4975 - val_loss: 1.6447 - val_accuracy: 0.4877\n",
      "Epoch 74/100\n",
      "35252/35252 [==============================] - 5s 134us/sample - loss: 1.4012 - accuracy: 0.5041 - val_loss: 1.7268 - val_accuracy: 0.5123\n",
      "Epoch 75/100\n",
      "35252/35252 [==============================] - 5s 132us/sample - loss: 1.3905 - accuracy: 0.5005 - val_loss: 1.5854 - val_accuracy: 0.2186\n",
      "Epoch 76/100\n",
      "35252/35252 [==============================] - 5s 133us/sample - loss: 1.2931 - accuracy: 0.5139 - val_loss: 1.5975 - val_accuracy: 0.2601\n",
      "Epoch 77/100\n",
      "35252/35252 [==============================] - 5s 134us/sample - loss: 1.2544 - accuracy: 0.5161 - val_loss: 1.4823 - val_accuracy: 0.5748\n",
      "Epoch 78/100\n",
      "35252/35252 [==============================] - 5s 133us/sample - loss: 1.1858 - accuracy: 0.5263 - val_loss: 1.3892 - val_accuracy: 0.6138\n",
      "Epoch 79/100\n",
      "35252/35252 [==============================] - 5s 134us/sample - loss: 1.1127 - accuracy: 0.5355 - val_loss: 1.4120 - val_accuracy: 0.2751\n",
      "Epoch 80/100\n",
      "35252/35252 [==============================] - 5s 136us/sample - loss: 1.0529 - accuracy: 0.5414 - val_loss: 1.3943 - val_accuracy: 0.6054\n",
      "Epoch 81/100\n",
      "35252/35252 [==============================] - 5s 132us/sample - loss: 1.0338 - accuracy: 0.5486 - val_loss: 1.3947 - val_accuracy: 0.6168\n",
      "Epoch 82/100\n",
      "35252/35252 [==============================] - 5s 132us/sample - loss: 1.0419 - accuracy: 0.5417 - val_loss: 1.4175 - val_accuracy: 0.2300\n",
      "Epoch 83/100\n",
      "35252/35252 [==============================] - 5s 136us/sample - loss: 1.0613 - accuracy: 0.5422 - val_loss: 1.4239 - val_accuracy: 0.5982\n",
      "Epoch 84/100\n",
      "35252/35252 [==============================] - 5s 133us/sample - loss: 1.0977 - accuracy: 0.5367 - val_loss: 1.3892 - val_accuracy: 0.6186\n",
      "Epoch 85/100\n",
      "35252/35252 [==============================] - 5s 134us/sample - loss: 1.1136 - accuracy: 0.5391 - val_loss: 1.4674 - val_accuracy: 0.3880\n",
      "Epoch 86/100\n",
      "35252/35252 [==============================] - 5s 133us/sample - loss: 1.1549 - accuracy: 0.5335 - val_loss: 1.4225 - val_accuracy: 0.6180\n",
      "Epoch 87/100\n",
      "35252/35252 [==============================] - 5s 134us/sample - loss: 1.1825 - accuracy: 0.5340 - val_loss: 1.4826 - val_accuracy: 0.6162\n",
      "Epoch 88/100\n",
      "35252/35252 [==============================] - 5s 133us/sample - loss: 1.2158 - accuracy: 0.5339 - val_loss: 1.4620 - val_accuracy: 0.6210\n",
      "Epoch 89/100\n",
      "35252/35252 [==============================] - 5s 137us/sample - loss: 1.2188 - accuracy: 0.5267 - val_loss: 1.4991 - val_accuracy: 0.4030\n",
      "Epoch 90/100\n",
      "35252/35252 [==============================] - 5s 143us/sample - loss: 1.2076 - accuracy: 0.5288 - val_loss: 1.4633 - val_accuracy: 0.2216\n",
      "Epoch 91/100\n",
      "35252/35252 [==============================] - 5s 136us/sample - loss: 1.1494 - accuracy: 0.5396 - val_loss: 1.4010 - val_accuracy: 0.2498\n",
      "Epoch 92/100\n",
      "35252/35252 [==============================] - 5s 138us/sample - loss: 1.1235 - accuracy: 0.5416 - val_loss: 1.4231 - val_accuracy: 0.1291\n",
      "Epoch 93/100\n",
      "35252/35252 [==============================] - 5s 133us/sample - loss: 1.0861 - accuracy: 0.5419 - val_loss: 1.3947 - val_accuracy: 0.5904\n",
      "Epoch 94/100\n",
      "35252/35252 [==============================] - 5s 134us/sample - loss: 1.0460 - accuracy: 0.5547 - val_loss: 1.3655 - val_accuracy: 0.3760\n",
      "Epoch 95/100\n",
      "35252/35252 [==============================] - 5s 140us/sample - loss: 1.0132 - accuracy: 0.5608 - val_loss: 1.3549 - val_accuracy: 0.4372\n",
      "Epoch 96/100\n",
      "35252/35252 [==============================] - 5s 138us/sample - loss: 0.9694 - accuracy: 0.5706 - val_loss: 1.3461 - val_accuracy: 0.3646\n",
      "Epoch 97/100\n",
      "35252/35252 [==============================] - 5s 135us/sample - loss: 0.9550 - accuracy: 0.5764 - val_loss: 1.3449 - val_accuracy: 0.1718\n",
      "Epoch 98/100\n",
      "35252/35252 [==============================] - 5s 143us/sample - loss: 0.9581 - accuracy: 0.5778 - val_loss: 1.3225 - val_accuracy: 0.5652\n",
      "Epoch 99/100\n",
      "35252/35252 [==============================] - 5s 142us/sample - loss: 0.9757 - accuracy: 0.5686 - val_loss: 1.3335 - val_accuracy: 0.6378\n",
      "Epoch 100/100\n",
      "35252/35252 [==============================] - 5s 139us/sample - loss: 0.9941 - accuracy: 0.5665 - val_loss: 1.4249 - val_accuracy: 0.2198\n"
     ]
    }
   ],
   "source": [
    "history = model.fit(x=train_x, y=train_y, batch_size=mini_batch_size,\n",
    "                    epochs=100, verbose=1,\n",
    "                    callbacks=[clr], workers=5,\n",
    "                    validation_data=(validation_x, validation_y))"
   ]
  },
  {
   "cell_type": "code",
   "execution_count": 64,
   "metadata": {},
   "outputs": [
    {
     "data": {
      "image/png": "[encoded data removed]",
      "text/plain": [
       "<Figure size 432x288 with 1 Axes>"
      ]
     },
     "metadata": {
      "needs_background": "light"
     },
     "output_type": "display_data"
    }
   ],
   "source": [
    "plt.plot(history.history['loss'], label='train_loss')\n",
    "plt.plot(history.history['val_loss'], label='val_loss')\n",
    "plt.ylabel('Cost')\n",
    "plt.xlabel('Epoch #')\n",
    "plt.title(\"Model Loss Curve\")\n",
    "plt.legend()\n",
    "plt.grid()\n",
    "plt.show()"
   ]
  },
  {
   "cell_type": "code",
   "execution_count": 65,
   "metadata": {},
   "outputs": [
    {
     "data": {
      "image/png": "[encoded data removed]",
      "text/plain": [
       "<Figure size 432x288 with 1 Axes>"
      ]
     },
     "metadata": {
      "needs_background": "light"
     },
     "output_type": "display_data"
    }
   ],
   "source": [
    "plt.plot(history.history['accuracy'], label='train_accuracy')\n",
    "plt.plot(history.history['val_accuracy'], label='val_accuracy')\n",
    "plt.ylabel('Accuracy')\n",
    "plt.xlabel('Epoch #')\n",
    "plt.title(\"Model Accuracy Curve\")\n",
    "plt.legend()\n",
    "plt.grid()\n",
    "plt.show()"
   ]
  },
  {
   "cell_type": "code",
   "execution_count": 51,
   "metadata": {},
   "outputs": [
    {
     "data": {
      "image/png": "[encoded data removed]",
      "text/plain": [
       "<Figure size 432x288 with 1 Axes>"
      ]
     },
     "metadata": {
      "needs_background": "light"
     },
     "output_type": "display_data"
    }
   ],
   "source": [
    "plt.plot(clr.history[\"lr\"])\n",
    "plt.ylabel('Learning Rate')\n",
    "plt.xlabel('Iteration #')\n",
    "plt.title(\"Cyclical Learning Rate (CLR)\")\n",
    "plt.grid()\n",
    "plt.show()"
   ]
  },
  {
   "cell_type": "code",
   "execution_count": 53,
   "metadata": {},
   "outputs": [
    {
     "name": "stdout",
     "output_type": "stream",
     "text": [
      "Test loss: {} 1.311559129873743\n",
      "Test accuracy: {} 63.36160898208618\n"
     ]
    }
   ],
   "source": [
    "score = model.evaluate(x=test_x, y=test_y, verbose=0)\n",
    "print('Test loss: {}', format(score[0]))\n",
    "print('Test accuracy: {}', format(score[1] * 100))"
   ]
  },
  {
   "cell_type": "code",
   "execution_count": 54,
   "metadata": {},
   "outputs": [],
   "source": [
    "y_pred = model.predict(test_x)"
   ]
  },
  {
   "cell_type": "code",
   "execution_count": 55,
   "metadata": {},
   "outputs": [
    {
     "data": {
      "text/html": [
       "<div>\n",
       "<style scoped>\n",
       "    .dataframe tbody tr th:only-of-type {\n",
       "        vertical-align: middle;\n",
       "    }\n",
       "\n",
       "    .dataframe tbody tr th {\n",
       "        vertical-align: top;\n",
       "    }\n",
       "\n",
       "    .dataframe thead th {\n",
       "        text-align: right;\n",
       "    }\n",
       "</style>\n",
       "<table border=\"1\" class=\"dataframe\">\n",
       "  <thead>\n",
       "    <tr style=\"text-align: right;\">\n",
       "      <th></th>\n",
       "      <th>Class</th>\n",
       "      <th>count</th>\n",
       "    </tr>\n",
       "  </thead>\n",
       "  <tbody>\n",
       "    <tr>\n",
       "      <td>0</td>\n",
       "      <td>0</td>\n",
       "      <td>1757</td>\n",
       "    </tr>\n",
       "    <tr>\n",
       "      <td>1</td>\n",
       "      <td>1</td>\n",
       "      <td>18</td>\n",
       "    </tr>\n",
       "    <tr>\n",
       "      <td>2</td>\n",
       "      <td>2</td>\n",
       "      <td>35</td>\n",
       "    </tr>\n",
       "    <tr>\n",
       "      <td>3</td>\n",
       "      <td>3</td>\n",
       "      <td>3</td>\n",
       "    </tr>\n",
       "    <tr>\n",
       "      <td>4</td>\n",
       "      <td>4</td>\n",
       "      <td>23</td>\n",
       "    </tr>\n",
       "    <tr>\n",
       "      <td>5</td>\n",
       "      <td>5</td>\n",
       "      <td>25</td>\n",
       "    </tr>\n",
       "    <tr>\n",
       "      <td>6</td>\n",
       "      <td>6</td>\n",
       "      <td>25</td>\n",
       "    </tr>\n",
       "  </tbody>\n",
       "</table>\n",
       "</div>"
      ],
      "text/plain": [
       "   Class  count\n",
       "0      0   1757\n",
       "1      1     18\n",
       "2      2     35\n",
       "3      3      3\n",
       "4      4     23\n",
       "5      5     25\n",
       "6      6     25"
      ]
     },
     "execution_count": 55,
     "metadata": {},
     "output_type": "execute_result"
    }
   ],
   "source": [
    "predicted_labels = np.array([np.argmax(y_pred, axis=1)]).T\n",
    "temp_df = pd.DataFrame(predicted_labels, columns=['Class'])\n",
    "temp_df.groupby(['Class']).size().reset_index().rename(columns={0:'count'})"
   ]
  },
  {
   "cell_type": "code",
   "execution_count": 56,
   "metadata": {},
   "outputs": [
    {
     "name": "stdout",
     "output_type": "stream",
     "text": [
      "F1 Score: 53.58514557356639\n",
      "Accuracy: 63.361611876988334\n"
     ]
    }
   ],
   "source": [
    "y_test = np.array([np.argmax(test_y, axis=1)]).T\n",
    "f1 = f1_score(y_test, predicted_labels, average='weighted') * 100\n",
    "accuracy = accuracy_score(y_test, predicted_labels)\n",
    "print(\"F1 Score: {}\".format(f1))\n",
    "print(\"Accuracy: {}\".format(accuracy * 100))"
   ]
  },
  {
   "cell_type": "code",
   "execution_count": null,
   "metadata": {},
   "outputs": [],
   "source": []
  }
 ],
 "metadata": {
  "kernelspec": {
   "display_name": "Python 3",
   "language": "python",
   "name": "python3"
  },
  "language_info": {
   "codemirror_mode": {
    "name": "ipython",
    "version": 3
   },
   "file_extension": ".py",
   "mimetype": "text/x-python",
   "name": "python",
   "nbconvert_exporter": "python",
   "pygments_lexer": "ipython3",
   "version": "3.7.4"
  }
 },
 "nbformat": 4,
 "nbformat_minor": 2
}
