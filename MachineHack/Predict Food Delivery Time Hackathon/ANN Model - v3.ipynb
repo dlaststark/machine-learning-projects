{
 "cells": [
  {
   "cell_type": "code",
   "execution_count": 1,
   "metadata": {},
   "outputs": [],
   "source": [
    "import pandas as pd\n",
    "import numpy as np\n",
    "from sklearn.feature_extraction.text import TfidfVectorizer\n",
    "from sklearn.preprocessing import RobustScaler\n",
    "from sklearn.model_selection import StratifiedShuffleSplit\n",
    "from sklearn.metrics import f1_score, accuracy_score\n",
    "from imblearn.over_sampling import SMOTE\n",
    "import matplotlib.pyplot as plt\n",
    "import tensorflow as tf\n",
    "from tensorflow.keras.layers import Input, Dense, Dropout, BatchNormalization\n",
    "from tensorflow.keras.initializers import he_uniform\n",
    "from tensorflow.keras.regularizers import l2\n",
    "from tensorflow.keras.models import Model\n",
    "from tensorflow.keras.optimizers import Adam"
   ]
  },
  {
   "cell_type": "code",
   "execution_count": 2,
   "metadata": {},
   "outputs": [],
   "source": [
    "from learningratefinder import LearningRateFinder\n",
    "from clr_callback import CyclicLR"
   ]
  },
  {
   "cell_type": "code",
   "execution_count": 3,
   "metadata": {},
   "outputs": [],
   "source": [
    "# Set file paths for train and predict datasets\n",
    "train_file = 'DataSet/Data_Train.xlsx'\n",
    "predict_file = 'DataSet/Data_Test.xlsx'"
   ]
  },
  {
   "cell_type": "code",
   "execution_count": 4,
   "metadata": {},
   "outputs": [],
   "source": [
    "# Extract train/predict data from spreadsheet into pandas dataframes\n",
    "train_df = pd.read_excel(train_file)\n",
    "predict_df = pd.read_excel(predict_file)"
   ]
  },
  {
   "cell_type": "code",
   "execution_count": 5,
   "metadata": {},
   "outputs": [
    {
     "data": {
      "text/html": [
       "<div>\n",
       "<style scoped>\n",
       "    .dataframe tbody tr th:only-of-type {\n",
       "        vertical-align: middle;\n",
       "    }\n",
       "\n",
       "    .dataframe tbody tr th {\n",
       "        vertical-align: top;\n",
       "    }\n",
       "\n",
       "    .dataframe thead th {\n",
       "        text-align: right;\n",
       "    }\n",
       "</style>\n",
       "<table border=\"1\" class=\"dataframe\">\n",
       "  <thead>\n",
       "    <tr style=\"text-align: right;\">\n",
       "      <th></th>\n",
       "      <th>Restaurant</th>\n",
       "      <th>Location</th>\n",
       "      <th>Cuisines</th>\n",
       "      <th>Average_Cost</th>\n",
       "      <th>Minimum_Order</th>\n",
       "      <th>Rating</th>\n",
       "      <th>Votes</th>\n",
       "      <th>Reviews</th>\n",
       "      <th>Delivery_Time</th>\n",
       "      <th>Del_Time</th>\n",
       "      <th>Del_Time_enc</th>\n",
       "    </tr>\n",
       "  </thead>\n",
       "  <tbody>\n",
       "    <tr>\n",
       "      <td>0</td>\n",
       "      <td>ID_6321</td>\n",
       "      <td>FTI College, Law College Road, Pune</td>\n",
       "      <td>Fast Food, Rolls, Burger, Salad, Wraps</td>\n",
       "      <td>200</td>\n",
       "      <td>50</td>\n",
       "      <td>3.5</td>\n",
       "      <td>12</td>\n",
       "      <td>4</td>\n",
       "      <td>30 minutes</td>\n",
       "      <td>30</td>\n",
       "      <td>0</td>\n",
       "    </tr>\n",
       "    <tr>\n",
       "      <td>1</td>\n",
       "      <td>ID_2882</td>\n",
       "      <td>Sector 3, Marathalli</td>\n",
       "      <td>Ice Cream, Desserts</td>\n",
       "      <td>100</td>\n",
       "      <td>50</td>\n",
       "      <td>3.5</td>\n",
       "      <td>11</td>\n",
       "      <td>4</td>\n",
       "      <td>30 minutes</td>\n",
       "      <td>30</td>\n",
       "      <td>0</td>\n",
       "    </tr>\n",
       "    <tr>\n",
       "      <td>2</td>\n",
       "      <td>ID_1595</td>\n",
       "      <td>Mumbai Central</td>\n",
       "      <td>Italian, Street Food, Fast Food</td>\n",
       "      <td>150</td>\n",
       "      <td>50</td>\n",
       "      <td>3.6</td>\n",
       "      <td>99</td>\n",
       "      <td>30</td>\n",
       "      <td>65 minutes</td>\n",
       "      <td>65</td>\n",
       "      <td>1</td>\n",
       "    </tr>\n",
       "    <tr>\n",
       "      <td>3</td>\n",
       "      <td>ID_5929</td>\n",
       "      <td>Sector 1, Noida</td>\n",
       "      <td>Mughlai, North Indian, Chinese</td>\n",
       "      <td>250</td>\n",
       "      <td>99</td>\n",
       "      <td>3.7</td>\n",
       "      <td>176</td>\n",
       "      <td>95</td>\n",
       "      <td>30 minutes</td>\n",
       "      <td>30</td>\n",
       "      <td>0</td>\n",
       "    </tr>\n",
       "    <tr>\n",
       "      <td>4</td>\n",
       "      <td>ID_6123</td>\n",
       "      <td>Rmz Centennial, I Gate, Whitefield</td>\n",
       "      <td>Cafe, Beverages</td>\n",
       "      <td>200</td>\n",
       "      <td>99</td>\n",
       "      <td>3.2</td>\n",
       "      <td>521</td>\n",
       "      <td>235</td>\n",
       "      <td>65 minutes</td>\n",
       "      <td>65</td>\n",
       "      <td>1</td>\n",
       "    </tr>\n",
       "  </tbody>\n",
       "</table>\n",
       "</div>"
      ],
      "text/plain": [
       "  Restaurant                             Location  \\\n",
       "0    ID_6321  FTI College, Law College Road, Pune   \n",
       "1    ID_2882                 Sector 3, Marathalli   \n",
       "2    ID_1595                       Mumbai Central   \n",
       "3    ID_5929                      Sector 1, Noida   \n",
       "4    ID_6123   Rmz Centennial, I Gate, Whitefield   \n",
       "\n",
       "                                 Cuisines Average_Cost  Minimum_Order Rating  \\\n",
       "0  Fast Food, Rolls, Burger, Salad, Wraps          200             50    3.5   \n",
       "1                     Ice Cream, Desserts          100             50    3.5   \n",
       "2         Italian, Street Food, Fast Food          150             50    3.6   \n",
       "3          Mughlai, North Indian, Chinese          250             99    3.7   \n",
       "4                         Cafe, Beverages          200             99    3.2   \n",
       "\n",
       "  Votes Reviews Delivery_Time  Del_Time  Del_Time_enc  \n",
       "0    12       4    30 minutes        30             0  \n",
       "1    11       4    30 minutes        30             0  \n",
       "2    99      30    65 minutes        65             1  \n",
       "3   176      95    30 minutes        30             0  \n",
       "4   521     235    65 minutes        65             1  "
      ]
     },
     "execution_count": 5,
     "metadata": {},
     "output_type": "execute_result"
    }
   ],
   "source": [
    "# Get numeric value from \"Delivery_Time\" field in train data\n",
    "train_df['Del_Time'] = train_df['Delivery_Time'].apply(lambda x: pd.to_numeric(x.split('minutes')[0].strip()))\n",
    "train_df['Del_Time_enc'] = train_df['Del_Time'].factorize()[0]\n",
    "train_df.head()"
   ]
  },
  {
   "cell_type": "code",
   "execution_count": 6,
   "metadata": {},
   "outputs": [
    {
     "data": {
      "text/html": [
       "<div>\n",
       "<style scoped>\n",
       "    .dataframe tbody tr th:only-of-type {\n",
       "        vertical-align: middle;\n",
       "    }\n",
       "\n",
       "    .dataframe tbody tr th {\n",
       "        vertical-align: top;\n",
       "    }\n",
       "\n",
       "    .dataframe thead th {\n",
       "        text-align: right;\n",
       "    }\n",
       "</style>\n",
       "<table border=\"1\" class=\"dataframe\">\n",
       "  <thead>\n",
       "    <tr style=\"text-align: right;\">\n",
       "      <th></th>\n",
       "      <th>Del_Time</th>\n",
       "      <th>Del_Time_enc</th>\n",
       "      <th>count</th>\n",
       "    </tr>\n",
       "  </thead>\n",
       "  <tbody>\n",
       "    <tr>\n",
       "      <td>0</td>\n",
       "      <td>10</td>\n",
       "      <td>3</td>\n",
       "      <td>4</td>\n",
       "    </tr>\n",
       "    <tr>\n",
       "      <td>1</td>\n",
       "      <td>20</td>\n",
       "      <td>4</td>\n",
       "      <td>20</td>\n",
       "    </tr>\n",
       "    <tr>\n",
       "      <td>2</td>\n",
       "      <td>30</td>\n",
       "      <td>0</td>\n",
       "      <td>7406</td>\n",
       "    </tr>\n",
       "    <tr>\n",
       "      <td>3</td>\n",
       "      <td>45</td>\n",
       "      <td>2</td>\n",
       "      <td>2665</td>\n",
       "    </tr>\n",
       "    <tr>\n",
       "      <td>4</td>\n",
       "      <td>65</td>\n",
       "      <td>1</td>\n",
       "      <td>923</td>\n",
       "    </tr>\n",
       "    <tr>\n",
       "      <td>5</td>\n",
       "      <td>80</td>\n",
       "      <td>6</td>\n",
       "      <td>14</td>\n",
       "    </tr>\n",
       "    <tr>\n",
       "      <td>6</td>\n",
       "      <td>120</td>\n",
       "      <td>5</td>\n",
       "      <td>62</td>\n",
       "    </tr>\n",
       "  </tbody>\n",
       "</table>\n",
       "</div>"
      ],
      "text/plain": [
       "   Del_Time  Del_Time_enc  count\n",
       "0        10             3      4\n",
       "1        20             4     20\n",
       "2        30             0   7406\n",
       "3        45             2   2665\n",
       "4        65             1    923\n",
       "5        80             6     14\n",
       "6       120             5     62"
      ]
     },
     "execution_count": 6,
     "metadata": {},
     "output_type": "execute_result"
    }
   ],
   "source": [
    "train_df.groupby(['Del_Time', 'Del_Time_enc']).size().reset_index().rename(columns={0:'count'})"
   ]
  },
  {
   "cell_type": "code",
   "execution_count": 7,
   "metadata": {},
   "outputs": [
    {
     "name": "stdout",
     "output_type": "stream",
     "text": [
      "train_y: (11094, 1)\n",
      "Sample train_y data: \n",
      "[[0]\n",
      " [0]\n",
      " [1]\n",
      " [0]\n",
      " [1]\n",
      " [0]\n",
      " [0]\n",
      " [2]\n",
      " [0]\n",
      " [1]]\n"
     ]
    }
   ],
   "source": [
    "# Extract \"Del_Time\" field from train_df into NumPy array\n",
    "train_y = np.array([train_df['Del_Time_enc'].values]).T\n",
    "train_df.drop(['Del_Time', 'Delivery_Time', 'Del_Time_enc'], inplace=True, axis=1)\n",
    "print(\"train_y: {}\".format(train_y.shape))\n",
    "print(\"Sample train_y data: \\n{}\".format(train_y[0:10,:]))"
   ]
  },
  {
   "cell_type": "code",
   "execution_count": 8,
   "metadata": {},
   "outputs": [
    {
     "name": "stdout",
     "output_type": "stream",
     "text": [
      "combined_df: (13868, 8)\n"
     ]
    }
   ],
   "source": [
    "# Combine the train and predict dataframes\n",
    "combined_df = train_df.append(predict_df, sort=False, ignore_index=True)\n",
    "print(\"combined_df: {}\".format(combined_df.shape))"
   ]
  },
  {
   "cell_type": "code",
   "execution_count": 9,
   "metadata": {},
   "outputs": [
    {
     "data": {
      "text/html": [
       "<div>\n",
       "<style scoped>\n",
       "    .dataframe tbody tr th:only-of-type {\n",
       "        vertical-align: middle;\n",
       "    }\n",
       "\n",
       "    .dataframe tbody tr th {\n",
       "        vertical-align: top;\n",
       "    }\n",
       "\n",
       "    .dataframe thead th {\n",
       "        text-align: right;\n",
       "    }\n",
       "</style>\n",
       "<table border=\"1\" class=\"dataframe\">\n",
       "  <thead>\n",
       "    <tr style=\"text-align: right;\">\n",
       "      <th></th>\n",
       "      <th>Location</th>\n",
       "      <th>State</th>\n",
       "      <th>City</th>\n",
       "      <th>Area</th>\n",
       "    </tr>\n",
       "  </thead>\n",
       "  <tbody>\n",
       "    <tr>\n",
       "      <td>0</td>\n",
       "      <td>FTI College, Law College Road, Pune</td>\n",
       "      <td>Maharashtra</td>\n",
       "      <td>Pune</td>\n",
       "      <td>FTI College, Law College Road</td>\n",
       "    </tr>\n",
       "    <tr>\n",
       "      <td>1</td>\n",
       "      <td>Sector 3, Marathalli</td>\n",
       "      <td>Karnataka</td>\n",
       "      <td>Bangalore</td>\n",
       "      <td>Sector 3, Marathalli</td>\n",
       "    </tr>\n",
       "    <tr>\n",
       "      <td>2</td>\n",
       "      <td>Mumbai Central</td>\n",
       "      <td>Maharashtra</td>\n",
       "      <td>Mumbai</td>\n",
       "      <td>Mumbai Central</td>\n",
       "    </tr>\n",
       "    <tr>\n",
       "      <td>3</td>\n",
       "      <td>Sector 1, Noida</td>\n",
       "      <td>New Delhi</td>\n",
       "      <td>Noida</td>\n",
       "      <td>Sector 1</td>\n",
       "    </tr>\n",
       "    <tr>\n",
       "      <td>4</td>\n",
       "      <td>Rmz Centennial, I Gate, Whitefield</td>\n",
       "      <td>Karnataka</td>\n",
       "      <td>Bangalore</td>\n",
       "      <td>Rmz Centennial, I Gate, Whitefield</td>\n",
       "    </tr>\n",
       "  </tbody>\n",
       "</table>\n",
       "</div>"
      ],
      "text/plain": [
       "                              Location        State       City  \\\n",
       "0  FTI College, Law College Road, Pune  Maharashtra       Pune   \n",
       "1                 Sector 3, Marathalli    Karnataka  Bangalore   \n",
       "2                       Mumbai Central  Maharashtra     Mumbai   \n",
       "3                      Sector 1, Noida    New Delhi      Noida   \n",
       "4   Rmz Centennial, I Gate, Whitefield    Karnataka  Bangalore   \n",
       "\n",
       "                                 Area  \n",
       "0       FTI College, Law College Road  \n",
       "1                Sector 3, Marathalli  \n",
       "2                      Mumbai Central  \n",
       "3                            Sector 1  \n",
       "4  Rmz Centennial, I Gate, Whitefield  "
      ]
     },
     "execution_count": 9,
     "metadata": {},
     "output_type": "execute_result"
    }
   ],
   "source": [
    "# Read location analysis data\n",
    "loc_analysis_df = pd.read_excel(\"Location_Analysis.xlsx\")\n",
    "loc_analysis_df.head()"
   ]
  },
  {
   "cell_type": "code",
   "execution_count": 10,
   "metadata": {},
   "outputs": [
    {
     "name": "stdout",
     "output_type": "stream",
     "text": [
      "combined_df: (13868, 10)\n"
     ]
    }
   ],
   "source": [
    "# Derive \"State\", \"City\" and \"Area\" based on \"Location\" field\n",
    "combined_df['State'] = combined_df['Location'].apply(lambda x: loc_analysis_df[loc_analysis_df['Location'] == x]['State'].max(axis=0))\n",
    "combined_df['City'] = combined_df['Location'].apply(lambda x: loc_analysis_df[loc_analysis_df['Location'] == x]['City'].max(axis=0))\n",
    "combined_df['Area'] = combined_df['Location'].apply(lambda x: loc_analysis_df[loc_analysis_df['Location'] == x]['Area'].max(axis=0))\n",
    "combined_df.drop(['Location'], inplace=True, axis=1)\n",
    "print(\"combined_df: {}\".format(combined_df.shape))"
   ]
  },
  {
   "cell_type": "code",
   "execution_count": 11,
   "metadata": {},
   "outputs": [
    {
     "name": "stdout",
     "output_type": "stream",
     "text": [
      "combined_df: (13868, 14)\n"
     ]
    }
   ],
   "source": [
    "# Convert \"State\" field to one-hot encoding\n",
    "dummy_df = pd.get_dummies(combined_df['State'], prefix='State')\n",
    "combined_df = pd.concat([combined_df, dummy_df], axis=1)\n",
    "combined_df.drop(['State'], inplace=True, axis=1)\n",
    "print(\"combined_df: {}\".format(combined_df.shape))"
   ]
  },
  {
   "cell_type": "code",
   "execution_count": 12,
   "metadata": {},
   "outputs": [
    {
     "name": "stdout",
     "output_type": "stream",
     "text": [
      "combined_df: (13868, 24)\n"
     ]
    }
   ],
   "source": [
    "# Convert \"City\" field to one-hot encoding\n",
    "dummy_df = pd.get_dummies(combined_df['City'], prefix='City')\n",
    "combined_df = pd.concat([combined_df, dummy_df], axis=1)\n",
    "combined_df.drop(['City'], inplace=True, axis=1)\n",
    "print(\"combined_df: {}\".format(combined_df.shape))"
   ]
  },
  {
   "cell_type": "code",
   "execution_count": 13,
   "metadata": {},
   "outputs": [
    {
     "name": "stdout",
     "output_type": "stream",
     "text": [
      "combined_df: (13868, 94)\n"
     ]
    }
   ],
   "source": [
    "# Column encoding for \"Area\" field\n",
    "tfidf = TfidfVectorizer(sublinear_tf=True, min_df=5, ngram_range=(1, 1), stop_words='english', max_features=10000)\n",
    "features = tfidf.fit_transform(combined_df.Area).toarray()\n",
    "features_df = pd.DataFrame(features, columns=tfidf.get_feature_names())\n",
    "combined_df = pd.merge(combined_df, features_df, left_index=True, right_index=True)\n",
    "combined_df.drop(['Area'], inplace=True, axis=1)\n",
    "print(\"combined_df: {}\".format(combined_df.shape))"
   ]
  },
  {
   "cell_type": "code",
   "execution_count": 14,
   "metadata": {},
   "outputs": [
    {
     "name": "stdout",
     "output_type": "stream",
     "text": [
      "combined_df: (13868, 194)\n"
     ]
    }
   ],
   "source": [
    "# Convert \"Cuisines\" field into categorical encoded individual fields\n",
    "combined_df['Cuisine_List'] = combined_df['Cuisines'].apply(lambda x: x.split(', '))\n",
    "combined_df = combined_df.drop('Cuisine_List', 1).join(combined_df.Cuisine_List.str.join('|').str.get_dummies())\n",
    "combined_df.drop(['Cuisines'], inplace=True, axis=1)\n",
    "print(\"combined_df: {}\".format(combined_df.shape))"
   ]
  },
  {
   "cell_type": "code",
   "execution_count": 15,
   "metadata": {},
   "outputs": [
    {
     "name": "stdout",
     "output_type": "stream",
     "text": [
      "combined_df: (13868, 194)\n"
     ]
    }
   ],
   "source": [
    "# Fill invalid string value in \"Average_Cost\" field with mean value\n",
    "combined_df['Avg_Cost'] = combined_df['Average_Cost'].apply(lambda x: np.nan if x == 'for' else x)\n",
    "mean_cost = combined_df['Avg_Cost'].mean()\n",
    "combined_df['Avg_Cost'] = combined_df['Avg_Cost'].fillna(mean_cost)\n",
    "combined_df.drop(['Average_Cost'], inplace=True, axis=1)\n",
    "print(\"combined_df: {}\".format(combined_df.shape))"
   ]
  },
  {
   "cell_type": "code",
   "execution_count": 16,
   "metadata": {},
   "outputs": [
    {
     "name": "stdout",
     "output_type": "stream",
     "text": [
      "combined_df: (13868, 194)\n"
     ]
    }
   ],
   "source": [
    "# Fill invalid string value in \"Rating\" field based on below rule:\n",
    "# 1) If ['NEW','Opening Soon','Temporarily Closed'] then 0\n",
    "# 2) If '-', then NaN\n",
    "combined_df['modified_rating'] = combined_df['Rating'].apply(lambda x: np.nan if x == '-' else (0 if x in ['NEW','Opening Soon','Temporarily Closed'] else pd.to_numeric(x)))\n",
    "mean_rating = combined_df['modified_rating'].mean()\n",
    "combined_df['modified_rating'] = combined_df['modified_rating'].fillna(mean_rating)\n",
    "combined_df.drop(['Rating'], inplace=True, axis=1)\n",
    "print(\"combined_df: {}\".format(combined_df.shape))"
   ]
  },
  {
   "cell_type": "code",
   "execution_count": 17,
   "metadata": {},
   "outputs": [
    {
     "name": "stdout",
     "output_type": "stream",
     "text": [
      "combined_df: (13868, 194)\n"
     ]
    }
   ],
   "source": [
    "# Fill invalid string value in \"Votes\" field with mean value\n",
    "combined_df['modified_votes'] = combined_df['Votes'].apply(lambda x: np.nan if x == '-' else pd.to_numeric(x))\n",
    "mean_cost = combined_df['modified_votes'].mean()\n",
    "combined_df['modified_votes'] = combined_df['modified_votes'].fillna(mean_cost)\n",
    "combined_df.drop(['Votes'], inplace=True, axis=1)\n",
    "print(\"combined_df: {}\".format(combined_df.shape))"
   ]
  },
  {
   "cell_type": "code",
   "execution_count": 18,
   "metadata": {},
   "outputs": [
    {
     "name": "stdout",
     "output_type": "stream",
     "text": [
      "combined_df: (13868, 194)\n"
     ]
    }
   ],
   "source": [
    "# Fill invalid string value in \"Reviews\" field with mean value\n",
    "combined_df['modified_reviews'] = combined_df['Reviews'].apply(lambda x: np.nan if x == '-' else pd.to_numeric(x))\n",
    "mean_cost = combined_df['modified_reviews'].mean()\n",
    "combined_df['modified_reviews'] = combined_df['modified_reviews'].fillna(mean_cost)\n",
    "combined_df.drop(['Reviews'], inplace=True, axis=1)\n",
    "print(\"combined_df: {}\".format(combined_df.shape))"
   ]
  },
  {
   "cell_type": "code",
   "execution_count": 19,
   "metadata": {},
   "outputs": [
    {
     "name": "stdout",
     "output_type": "stream",
     "text": [
      "combined_df: (13868, 193)\n"
     ]
    }
   ],
   "source": [
    "combined_df.drop(['Restaurant'], inplace=True, axis=1)\n",
    "print(\"combined_df: {}\".format(combined_df.shape))"
   ]
  },
  {
   "cell_type": "code",
   "execution_count": 20,
   "metadata": {},
   "outputs": [
    {
     "name": "stdout",
     "output_type": "stream",
     "text": [
      "Column with NaN value: []\n"
     ]
    }
   ],
   "source": [
    "# Check if any column has NaN value in dataframe\n",
    "print(\"Column with NaN value: {}\".format(combined_df.columns[combined_df.isnull().any()].tolist()))"
   ]
  },
  {
   "cell_type": "code",
   "execution_count": 21,
   "metadata": {},
   "outputs": [],
   "source": [
    "# Segregate combined_df into train/predict datasets\n",
    "train_x = combined_df[:11094]\n",
    "predict_x = combined_df[11094:]"
   ]
  },
  {
   "cell_type": "code",
   "execution_count": 22,
   "metadata": {},
   "outputs": [
    {
     "name": "stdout",
     "output_type": "stream",
     "text": [
      "(11094, 193)\n",
      "(2774, 193)\n"
     ]
    }
   ],
   "source": [
    "print(train_x.shape)\n",
    "print(predict_x.shape)"
   ]
  },
  {
   "cell_type": "code",
   "execution_count": 23,
   "metadata": {},
   "outputs": [],
   "source": [
    "# Scale the train_x/predict_x datasets\n",
    "scaler_x = RobustScaler().fit(train_x)\n",
    "train_x = scaler_x.transform(train_x)\n",
    "predict_x = scaler_x.transform(predict_x)"
   ]
  },
  {
   "cell_type": "code",
   "execution_count": 24,
   "metadata": {},
   "outputs": [
    {
     "name": "stdout",
     "output_type": "stream",
     "text": [
      "Class balancing done.\n",
      "train_x shape: (51842, 193)\n",
      "train_y shape: (51842, 1)\n"
     ]
    }
   ],
   "source": [
    "# Handling class imbalance\n",
    "sm = SMOTE(k_neighbors=1)\n",
    "sm_x, sm_y = sm.fit_sample(train_x, train_y.ravel())\n",
    "train_x = sm_x\n",
    "train_y = np.array([sm_y]).T\n",
    "print(\"Class balancing done.\")\n",
    "print(\"train_x shape: {}\".format(train_x.shape))\n",
    "print(\"train_y shape: {}\".format(train_y.shape))"
   ]
  },
  {
   "cell_type": "code",
   "execution_count": 25,
   "metadata": {},
   "outputs": [],
   "source": [
    "# Split training data into train/validation/test datasets\n",
    "sss = StratifiedShuffleSplit(n_splits=1, test_size=0.15, random_state=1)\n",
    "for train_index, validation_index in sss.split(train_x, train_y):\n",
    "    train_x, validation_x = train_x[train_index], train_x[validation_index]\n",
    "    train_y, validation_y = train_y[train_index], train_y[validation_index]\n",
    "\n",
    "sss = StratifiedShuffleSplit(n_splits=1, test_size=0.2, random_state=1)\n",
    "for train_index, test_index in sss.split(train_x, train_y):\n",
    "    train_x, test_x = train_x[train_index], train_x[test_index]\n",
    "    train_y, test_y = train_y[train_index], train_y[test_index]"
   ]
  },
  {
   "cell_type": "code",
   "execution_count": 26,
   "metadata": {},
   "outputs": [
    {
     "name": "stdout",
     "output_type": "stream",
     "text": [
      "------------------------- Training Dataset -------------------------\n",
      "train_x shape: (35252, 193)\n",
      "train_y shape: (35252, 1)\n",
      "\n",
      "------------------------- Validation Dataset -------------------------\n",
      "validation_x shape: (7777, 193)\n",
      "validation_y shape: (7777, 1)\n",
      "\n",
      "------------------------- Test Dataset -------------------------\n",
      "test_x shape: (8813, 193)\n",
      "test_y shape: (8813, 1)\n"
     ]
    }
   ],
   "source": [
    "print(\"------------------------- Training Dataset -------------------------\")\n",
    "print(\"train_x shape: {}\".format(train_x.shape))\n",
    "print(\"train_y shape: {}\".format(train_y.shape))\n",
    "\n",
    "print(\"\\n------------------------- Validation Dataset -------------------------\")\n",
    "print(\"validation_x shape: {}\".format(validation_x.shape))\n",
    "print(\"validation_y shape: {}\".format(validation_y.shape))\n",
    "\n",
    "print(\"\\n------------------------- Test Dataset -------------------------\")\n",
    "print(\"test_x shape: {}\".format(test_x.shape))\n",
    "print(\"test_y shape: {}\".format(test_y.shape))"
   ]
  },
  {
   "cell_type": "code",
   "execution_count": 27,
   "metadata": {},
   "outputs": [],
   "source": [
    "# Convert train_y/validation_y/test_y into one-hot encode matrix\n",
    "train_y = tf.keras.utils.to_categorical(train_y, 7)\n",
    "validation_y = tf.keras.utils.to_categorical(validation_y, 7)\n",
    "test_y = tf.keras.utils.to_categorical(test_y, 7)"
   ]
  },
  {
   "cell_type": "code",
   "execution_count": 28,
   "metadata": {},
   "outputs": [
    {
     "name": "stdout",
     "output_type": "stream",
     "text": [
      "------------------------- Training Dataset -------------------------\n",
      "train_x shape: (35252, 193)\n",
      "train_y shape: (35252, 7)\n",
      "\n",
      "------------------------- Validation Dataset -------------------------\n",
      "validation_x shape: (7777, 193)\n",
      "validation_y shape: (7777, 7)\n",
      "\n",
      "------------------------- Test Dataset -------------------------\n",
      "test_x shape: (8813, 193)\n",
      "test_y shape: (8813, 7)\n"
     ]
    }
   ],
   "source": [
    "print(\"------------------------- Training Dataset -------------------------\")\n",
    "print(\"train_x shape: {}\".format(train_x.shape))\n",
    "print(\"train_y shape: {}\".format(train_y.shape))\n",
    "\n",
    "print(\"\\n------------------------- Validation Dataset -------------------------\")\n",
    "print(\"validation_x shape: {}\".format(validation_x.shape))\n",
    "print(\"validation_y shape: {}\".format(validation_y.shape))\n",
    "\n",
    "print(\"\\n------------------------- Test Dataset -------------------------\")\n",
    "print(\"test_x shape: {}\".format(test_x.shape))\n",
    "print(\"test_y shape: {}\".format(test_y.shape))"
   ]
  },
  {
   "cell_type": "code",
   "execution_count": 83,
   "metadata": {},
   "outputs": [],
   "source": [
    "def nn_model(input_shape, c):\n",
    "    \"\"\"\n",
    "    This function is used to train the NN model and get optimal model parameters.\n",
    "    :param input_shape: Shape of input image\n",
    "    :param c: Number of classes\n",
    "    :return: Keras NN Model\n",
    "    \"\"\"\n",
    "    \n",
    "    # Input Layer\n",
    "    x_input = Input(shape=(input_shape, ), name='INPUT')\n",
    "    \n",
    "    # Fully-connected Layer 1\n",
    "    x = Dense(units=256, name='FC-1', activation='relu', kernel_initializer=he_uniform(seed=1), kernel_regularizer=l2(0.1))(x_input)\n",
    "    x = BatchNormalization(name='BN_FC-1')(x)\n",
    "    x = Dropout(rate=0.5, name='DROPOUT_FC-1')(x)\n",
    "    \n",
    "    # Fully-connected Layer 2\n",
    "    x = Dense(units=256, name='FC-2', activation='relu', kernel_initializer=he_uniform(seed=1), kernel_regularizer=l2(0.1))(x)\n",
    "    x = BatchNormalization(name='BN_FC-2')(x)\n",
    "    x = Dropout(rate=0.5, name='DROPOUT_FC-2')(x)\n",
    "    \n",
    "    # Fully-connected Layer 3\n",
    "    x = Dense(units=512, name='FC-3', activation='relu', kernel_initializer=he_uniform(seed=1), kernel_regularizer=l2(0.1))(x)\n",
    "    x = BatchNormalization(name='BN_FC-3')(x)\n",
    "    x = Dropout(rate=0.5, name='DROPOUT_FC-3')(x)\n",
    "    \n",
    "    # Fully-connected Layer 4\n",
    "    x = Dense(units=512, name='FC-4', activation='relu', kernel_initializer=he_uniform(seed=1), kernel_regularizer=l2(0.1))(x)\n",
    "    x = BatchNormalization(name='BN_FC-4')(x)\n",
    "    x = Dropout(rate=0.5, name='DROPOUT_FC-4')(x)\n",
    "    \n",
    "    # Fully-connected Layer 5\n",
    "    x = Dense(units=1024, name='FC-5', activation='relu', kernel_initializer=he_uniform(seed=1), kernel_regularizer=l2(0.1))(x)\n",
    "    x = BatchNormalization(name='BN_FC-5')(x)\n",
    "    x = Dropout(rate=0.5, name='DROPOUT_FC-5')(x)\n",
    "    \n",
    "    # Fully-connected Layer 6\n",
    "    x = Dense(units=1024, name='FC-6', activation='relu', kernel_initializer=he_uniform(seed=1), kernel_regularizer=l2(0.1))(x)\n",
    "    x = BatchNormalization(name='BN_FC-6')(x)\n",
    "    x = Dropout(rate=0.5, name='DROPOUT_FC-6')(x)\n",
    "    \n",
    "    # Fully-connected Layer 7\n",
    "    x = Dense(units=512, name='FC-7', activation='relu', kernel_initializer=he_uniform(seed=1), kernel_regularizer=l2(0.1))(x)\n",
    "    x = BatchNormalization(name='BN_FC-7')(x)\n",
    "    x = Dropout(rate=0.5, name='DROPOUT_FC-7')(x)\n",
    "    \n",
    "    # Fully-connected Layer 8\n",
    "    x = Dense(units=512, name='FC-8', activation='relu', kernel_initializer=he_uniform(seed=1), kernel_regularizer=l2(0.1))(x)\n",
    "    x = BatchNormalization(name='BN_FC-8')(x)\n",
    "    x = Dropout(rate=0.5, name='DROPOUT_FC-8')(x)\n",
    "    \n",
    "    # Fully-connected Layer 9\n",
    "    x = Dense(units=256, name='FC-9', activation='relu', kernel_initializer=he_uniform(seed=1), kernel_regularizer=l2(0.1))(x)\n",
    "    x = BatchNormalization(name='BN_FC-9')(x)\n",
    "    x = Dropout(rate=0.5, name='DROPOUT_FC-9')(x)\n",
    "    \n",
    "    # Fully-connected Layer 10\n",
    "    x = Dense(units=256, name='FC-10', activation='relu', kernel_initializer=he_uniform(seed=1), kernel_regularizer=l2(0.1))(x)\n",
    "    x = BatchNormalization(name='BN_FC-10')(x)\n",
    "    x = Dropout(rate=0.5, name='DROPOUT_FC-10')(x)\n",
    "    \n",
    "    # Fully-connected Layer 11\n",
    "    x = Dense(units=128, name='FC-11', activation='relu', kernel_initializer=he_uniform(seed=1), kernel_regularizer=l2(0.1))(x)\n",
    "    x = BatchNormalization(name='BN_FC-11')(x)\n",
    "    x = Dropout(rate=0.5, name='DROPOUT_FC-11')(x)\n",
    "    \n",
    "    # Fully-connected Layer 12\n",
    "    x = Dense(units=128, name='FC-12', activation='relu', kernel_initializer=he_uniform(seed=1), kernel_regularizer=l2(0.1))(x)\n",
    "    x = BatchNormalization(name='BN_FC-12')(x)\n",
    "    x = Dropout(rate=0.5, name='DROPOUT_FC-12')(x)\n",
    "    \n",
    "    # Fully-connected Layer 13\n",
    "    x = Dense(units=64, name='FC-13', activation='relu', kernel_initializer=he_uniform(seed=1), kernel_regularizer=l2(0.1))(x)\n",
    "    x = BatchNormalization(name='BN_FC-13')(x)\n",
    "    x = Dropout(rate=0.5, name='DROPOUT_FC-13')(x)\n",
    "    \n",
    "    # Fully-connected Layer 14\n",
    "    x = Dense(units=64, name='FC-14', activation='relu', kernel_initializer=he_uniform(seed=1), kernel_regularizer=l2(0.1))(x)\n",
    "    x = BatchNormalization(name='BN_FC-14')(x)\n",
    "    x = Dropout(rate=0.5, name='DROPOUT_FC-14')(x)\n",
    "    \n",
    "    # Output Layer\n",
    "    x = Dense(units=c, activation='softmax', name='OUTPUT', kernel_initializer=he_uniform(seed=1))(x)\n",
    "\n",
    "    # Create Keras Model instance\n",
    "    model = Model(inputs=x_input, outputs=x, name='BooksPricePredictor')\n",
    "\n",
    "    return model"
   ]
  },
  {
   "cell_type": "code",
   "execution_count": 76,
   "metadata": {},
   "outputs": [],
   "source": [
    "# Define the model hyperparameters\n",
    "max_iterations = 10\n",
    "mini_batch_size = 128\n",
    "min_lr = 1e-4\n",
    "max_lr = 1e-2\n",
    "step_size = 8 * (train_x.shape[0] // mini_batch_size)\n",
    "#step_size = 500\n",
    "clr_method = 'triangular2'"
   ]
  },
  {
   "cell_type": "code",
   "execution_count": 79,
   "metadata": {},
   "outputs": [],
   "source": [
    "# Create the model\n",
    "model = nn_model(train_x.shape[1], 7)\n",
    "\n",
    "# Compile model to configure the learning process\n",
    "adam = Adam(lr=min_lr)\n",
    "model.compile(loss='categorical_crossentropy',\n",
    "              optimizer=adam,\n",
    "              metrics=['accuracy'])\n",
    "\n",
    "# Triangular learning rate policy\n",
    "clr = CyclicLR(base_lr=min_lr, max_lr=max_lr, mode=clr_method, step_size=step_size)"
   ]
  },
  {
   "cell_type": "code",
   "execution_count": 78,
   "metadata": {},
   "outputs": [
    {
     "name": "stdout",
     "output_type": "stream",
     "text": [
      "Train on 35252 samples\n",
      "Epoch 1/8\n",
      "35252/35252 [==============================] - 61s 2ms/sample - loss: 1078.3935 - accuracy: 0.14288s\n",
      "Epoch 2/8\n",
      "35252/35252 [==============================] - 47s 1ms/sample - loss: 1078.3793 - accuracy: 0.1400\n",
      "Epoch 3/8\n",
      "35252/35252 [==============================] - 45s 1ms/sample - loss: 1077.8498 - accuracy: 0.1380\n",
      "Epoch 4/8\n",
      "35252/35252 [==============================] - 43s 1ms/sample - loss: 1065.0064 - accuracy: 0.1427\n",
      "Epoch 5/8\n",
      "35252/35252 [==============================] - 47s 1ms/sample - loss: 826.8321 - accuracy: 0.1424\n",
      "Epoch 6/8\n",
      "35252/35252 [==============================] - 47s 1ms/sample - loss: 92.4694 - accuracy: 0.2732\n",
      "Epoch 7/8\n",
      "28672/35252 [=======================>......] - ETA: 8s - loss: 28.9540 - accuracy: 0.2966"
     ]
    },
    {
     "data": {
      "image/png": "[encoded data removed]",
      "text/plain": [
       "<Figure size 432x288 with 1 Axes>"
      ]
     },
     "metadata": {
      "needs_background": "light"
     },
     "output_type": "display_data"
    }
   ],
   "source": [
    "# Learning Rate Finder\n",
    "lrf = LearningRateFinder(model)\n",
    "lrf.find((train_x, train_y),\n",
    "         startLR=1e-10, endLR=1e+1,\n",
    "         stepsPerEpoch=np.ceil((len(train_x) / float(mini_batch_size))),\n",
    "         batchSize=mini_batch_size)\n",
    "lrf.plot_loss()\n",
    "plt.grid()\n",
    "plt.show()"
   ]
  },
  {
   "cell_type": "code",
   "execution_count": 80,
   "metadata": {},
   "outputs": [
    {
     "name": "stdout",
     "output_type": "stream",
     "text": [
      "Train on 35252 samples, validate on 7777 samples\n",
      "Epoch 1/100\n",
      "35252/35252 [==============================] - 67s 2ms/sample - loss: 511.1468 - accuracy: 0.1492 - val_loss: 63.7585 - val_accuracy: 0.1429\n",
      "Epoch 2/100\n",
      "35252/35252 [==============================] - 55s 2ms/sample - loss: 14.6760 - accuracy: 0.3868 - val_loss: 4.5715 - val_accuracy: 0.1429\n",
      "Epoch 3/100\n",
      "35252/35252 [==============================] - 54s 2ms/sample - loss: 3.7714 - accuracy: 0.5004 - val_loss: 4.6180 - val_accuracy: 0.3005\n",
      "Epoch 4/100\n",
      "35252/35252 [==============================] - 56s 2ms/sample - loss: 4.6865 - accuracy: 0.4795 - val_loss: 5.1871 - val_accuracy: 0.4283\n",
      "Epoch 5/100\n",
      "35252/35252 [==============================] - 54s 2ms/sample - loss: 5.8022 - accuracy: 0.4452 - val_loss: 5.7571 - val_accuracy: 0.3834\n",
      "Epoch 6/100\n",
      "35252/35252 [==============================] - 54s 2ms/sample - loss: 6.8290 - accuracy: 0.4187 - val_loss: 11.2783 - val_accuracy: 0.2433\n",
      "Epoch 7/100\n",
      "35252/35252 [==============================] - 55s 2ms/sample - loss: 11.3349 - accuracy: 0.3864 - val_loss: 17.8928 - val_accuracy: 0.3971oss: 11.\n",
      "Epoch 8/100\n",
      "35252/35252 [==============================] - 54s 2ms/sample - loss: 15.2086 - accuracy: 0.3610 - val_loss: 25.8926 - val_accuracy: 0.4128\n",
      "Epoch 9/100\n",
      "35252/35252 [==============================] - 54s 2ms/sample - loss: 11.8012 - accuracy: 0.3470 - val_loss: 9.5036 - val_accuracy: 0.1576\n",
      "Epoch 10/100\n",
      "35252/35252 [==============================] - 53s 2ms/sample - loss: 10.5066 - accuracy: 0.3772 - val_loss: 12.2444 - val_accuracy: 0.2156\n",
      "Epoch 11/100\n",
      "35252/35252 [==============================] - 54s 2ms/sample - loss: 9.1295 - accuracy: 0.3724 - val_loss: 15.7700 - val_accuracy: 0.4563\n",
      "Epoch 12/100\n",
      "35252/35252 [==============================] - 53s 2ms/sample - loss: 7.8938 - accuracy: 0.3997 - val_loss: 5.0201 - val_accuracy: 0.1429\n",
      "Epoch 13/100\n",
      "35252/35252 [==============================] - 54s 2ms/sample - loss: 5.1052 - accuracy: 0.4226 - val_loss: 5.9423 - val_accuracy: 0.4405\n",
      "Epoch 14/100\n",
      "35252/35252 [==============================] - 54s 2ms/sample - loss: 3.6801 - accuracy: 0.4411 - val_loss: 2.9229 - val_accuracy: 0.5359\n",
      "Epoch 15/100\n",
      "35252/35252 [==============================] - 54s 2ms/sample - loss: 3.0351 - accuracy: 0.4593 - val_loss: 2.8206 - val_accuracy: 0.2273\n",
      "Epoch 16/100\n",
      "35252/35252 [==============================] - 53s 2ms/sample - loss: 1.8862 - accuracy: 0.4861 - val_loss: 2.3369 - val_accuracy: 0.1450\n",
      "Epoch 17/100\n",
      "35252/35252 [==============================] - 55s 2ms/sample - loss: 1.5955 - accuracy: 0.5039 - val_loss: 2.3192 - val_accuracy: 0.4881\n",
      "Epoch 18/100\n",
      "35252/35252 [==============================] - 54s 2ms/sample - loss: 2.1449 - accuracy: 0.4962 - val_loss: 2.5104 - val_accuracy: 0.5017\n",
      "Epoch 19/100\n",
      "35252/35252 [==============================] - 54s 2ms/sample - loss: 2.7939 - accuracy: 0.4858 - val_loss: 2.8267 - val_accuracy: 0.5344\n",
      "Epoch 20/100\n",
      "35252/35252 [==============================] - 54s 2ms/sample - loss: 3.6469 - accuracy: 0.4677 - val_loss: 4.1284 - val_accuracy: 0.3762\n",
      "Epoch 21/100\n",
      "35252/35252 [==============================] - 54s 2ms/sample - loss: 3.7001 - accuracy: 0.4625 - val_loss: 3.8391 - val_accuracy: 0.5069\n",
      "Epoch 22/100\n",
      "35252/35252 [==============================] - 54s 2ms/sample - loss: 4.7624 - accuracy: 0.4373 - val_loss: 4.8405 - val_accuracy: 0.1951\n",
      "Epoch 23/100\n",
      "35252/35252 [==============================] - 54s 2ms/sample - loss: 5.0057 - accuracy: 0.4356 - val_loss: 4.6417 - val_accuracy: 0.1709\n",
      "Epoch 24/100\n",
      "35252/35252 [==============================] - 55s 2ms/sample - loss: 5.2798 - accuracy: 0.4289 - val_loss: 6.5292 - val_accuracy: 0.4751\n",
      "Epoch 25/100\n",
      "35252/35252 [==============================] - 54s 2ms/sample - loss: 4.7888 - accuracy: 0.4309 - val_loss: 4.3482 - val_accuracy: 0.2747\n",
      "Epoch 26/100\n",
      "35252/35252 [==============================] - 53s 2ms/sample - loss: 4.1240 - accuracy: 0.4386 - val_loss: 3.8818 - val_accuracy: 0.2124\n",
      "Epoch 27/100\n",
      "35252/35252 [==============================] - 55s 2ms/sample - loss: 3.6407 - accuracy: 0.4492 - val_loss: 3.2983 - val_accuracy: 0.4080\n",
      "Epoch 28/100\n",
      "35252/35252 [==============================] - 55s 2ms/sample - loss: 3.2278 - accuracy: 0.4540 - val_loss: 3.0011 - val_accuracy: 0.2792\n",
      "Epoch 29/100\n",
      "35252/35252 [==============================] - 55s 2ms/sample - loss: 2.6015 - accuracy: 0.4654 - val_loss: 2.6677 - val_accuracy: 0.3738\n",
      "Epoch 30/100\n",
      "35252/35252 [==============================] - 55s 2ms/sample - loss: 2.2912 - accuracy: 0.4742 - val_loss: 2.0212 - val_accuracy: 0.4783\n",
      "Epoch 31/100\n",
      "35252/35252 [==============================] - 56s 2ms/sample - loss: 1.8418 - accuracy: 0.4887 - val_loss: 2.1763 - val_accuracy: 0.2902\n",
      "Epoch 32/100\n",
      "35252/35252 [==============================] - 56s 2ms/sample - loss: 1.4541 - accuracy: 0.5113 - val_loss: 1.8408 - val_accuracy: 0.1908\n",
      "Epoch 33/100\n",
      "35252/35252 [==============================] - 55s 2ms/sample - loss: 1.3282 - accuracy: 0.5239 - val_loss: 1.3084 - val_accuracy: 0.5453\n",
      "Epoch 34/100\n",
      "35252/35252 [==============================] - 56s 2ms/sample - loss: 1.5373 - accuracy: 0.5137 - val_loss: 1.5556 - val_accuracy: 0.5224\n",
      "Epoch 35/100\n",
      "35252/35252 [==============================] - 56s 2ms/sample - loss: 1.7464 - accuracy: 0.5059 - val_loss: 1.6810 - val_accuracy: 0.5385\n",
      "Epoch 36/100\n",
      "35252/35252 [==============================] - 56s 2ms/sample - loss: 1.9911 - accuracy: 0.4994 - val_loss: 1.8311 - val_accuracy: 0.5584\n",
      "Epoch 37/100\n",
      "35252/35252 [==============================] - 54s 2ms/sample - loss: 2.3638 - accuracy: 0.4890 - val_loss: 2.4606 - val_accuracy: 0.2986\n",
      "Epoch 38/100\n",
      "35252/35252 [==============================] - 53s 2ms/sample - loss: 2.2104 - accuracy: 0.4909 - val_loss: 2.4947 - val_accuracy: 0.4634\n",
      "Epoch 39/100\n",
      "35252/35252 [==============================] - 48s 1ms/sample - loss: 2.5041 - accuracy: 0.4866 - val_loss: 3.6091 - val_accuracy: 0.4344\n",
      "Epoch 40/100\n",
      "35252/35252 [==============================] - 49s 1ms/sample - loss: 2.7739 - accuracy: 0.4804 - val_loss: 2.5730 - val_accuracy: 0.4692\n",
      "Epoch 41/100\n",
      "35252/35252 [==============================] - 55s 2ms/sample - loss: 2.9079 - accuracy: 0.4729 - val_loss: 2.6170 - val_accuracy: 0.4872\n",
      "Epoch 42/100\n",
      "35252/35252 [==============================] - 57s 2ms/sample - loss: 2.3556 - accuracy: 0.4844 - val_loss: 2.3612 - val_accuracy: 0.3361\n",
      "Epoch 43/100\n",
      "35252/35252 [==============================] - 62s 2ms/sample - loss: 2.4111 - accuracy: 0.4830 - val_loss: 2.6168 - val_accuracy: 0.1477\n",
      "Epoch 44/100\n",
      "35252/35252 [==============================] - 54s 2ms/sample - loss: 1.9545 - accuracy: 0.5006 - val_loss: 1.7910 - val_accuracy: 0.5224\n",
      "Epoch 45/100\n",
      "35252/35252 [==============================] - 44s 1ms/sample - loss: 1.8060 - accuracy: 0.5015 - val_loss: 1.6349 - val_accuracy: 0.5372\n",
      "Epoch 46/100\n",
      "35252/35252 [==============================] - 44s 1ms/sample - loss: 1.6084 - accuracy: 0.5177 - val_loss: 1.3034 - val_accuracy: 0.5656\n",
      "Epoch 47/100\n",
      "35252/35252 [==============================] - 43s 1ms/sample - loss: 1.3981 - accuracy: 0.5269 - val_loss: 1.2195 - val_accuracy: 0.5840\n",
      "Epoch 48/100\n",
      "35252/35252 [==============================] - 44s 1ms/sample - loss: 1.1931 - accuracy: 0.5418 - val_loss: 1.2109 - val_accuracy: 0.5042\n",
      "Epoch 49/100\n",
      "35252/35252 [==============================] - 41s 1ms/sample - loss: 1.1454 - accuracy: 0.5452 - val_loss: 1.0651 - val_accuracy: 0.6022\n",
      "Epoch 50/100\n",
      "35252/35252 [==============================] - 44s 1ms/sample - loss: 1.2478 - accuracy: 0.5398 - val_loss: 1.3219 - val_accuracy: 0.5538\n",
      "Epoch 51/100\n",
      "35252/35252 [==============================] - 41s 1ms/sample - loss: 1.3469 - accuracy: 0.5342 - val_loss: 1.3310 - val_accuracy: 0.5437\n",
      "Epoch 52/100\n",
      "35252/35252 [==============================] - 39s 1ms/sample - loss: 1.4449 - accuracy: 0.5287 - val_loss: 1.2630 - val_accuracy: 0.5710\n",
      "Epoch 53/100\n",
      "35252/35252 [==============================] - 38s 1ms/sample - loss: 1.6738 - accuracy: 0.5191 - val_loss: 1.5319 - val_accuracy: 0.5155\n",
      "Epoch 54/100\n",
      "35252/35252 [==============================] - 41s 1ms/sample - loss: 1.9376 - accuracy: 0.5033 - val_loss: 1.8418 - val_accuracy: 0.4068\n"
     ]
    },
    {
     "name": "stdout",
     "output_type": "stream",
     "text": [
      "Epoch 55/100\n",
      "35252/35252 [==============================] - 38s 1ms/sample - loss: 1.7012 - accuracy: 0.5210 - val_loss: 1.6331 - val_accuracy: 0.5376\n",
      "Epoch 56/100\n",
      "35252/35252 [==============================] - 37s 1ms/sample - loss: 1.8722 - accuracy: 0.5150 - val_loss: 2.3173 - val_accuracy: 0.2970\n",
      "Epoch 57/100\n",
      "35252/35252 [==============================] - 38s 1ms/sample - loss: 1.7985 - accuracy: 0.5192 - val_loss: 1.5421 - val_accuracy: 0.5401\n",
      "Epoch 58/100\n",
      "35252/35252 [==============================] - 41s 1ms/sample - loss: 1.7695 - accuracy: 0.5223 - val_loss: 1.4880 - val_accuracy: 0.5654\n",
      "Epoch 59/100\n",
      "35252/35252 [==============================] - 41s 1ms/sample - loss: 1.5847 - accuracy: 0.5279 - val_loss: 1.4011 - val_accuracy: 0.5790\n",
      "Epoch 60/100\n",
      "35252/35252 [==============================] - 39s 1ms/sample - loss: 1.5377 - accuracy: 0.5275 - val_loss: 1.3252 - val_accuracy: 0.5741\n",
      "Epoch 61/100\n",
      "35252/35252 [==============================] - 41s 1ms/sample - loss: 1.3958 - accuracy: 0.5346 - val_loss: 1.4130 - val_accuracy: 0.4923\n",
      "Epoch 62/100\n",
      "35252/35252 [==============================] - 43s 1ms/sample - loss: 1.2981 - accuracy: 0.5440 - val_loss: 1.1163 - val_accuracy: 0.5663\n",
      "Epoch 63/100\n",
      "35252/35252 [==============================] - 46s 1ms/sample - loss: 1.1892 - accuracy: 0.5533 - val_loss: 1.0094 - val_accuracy: 0.6253\n",
      "Epoch 64/100\n",
      "35252/35252 [==============================] - 45s 1ms/sample - loss: 1.0920 - accuracy: 0.5664 - val_loss: 0.9861 - val_accuracy: 0.5599\n",
      "Epoch 65/100\n",
      "35252/35252 [==============================] - 46s 1ms/sample - loss: 1.0658 - accuracy: 0.5708 - val_loss: 0.9412 - val_accuracy: 0.5951\n",
      "Epoch 66/100\n",
      "35252/35252 [==============================] - 50s 1ms/sample - loss: 1.0972 - accuracy: 0.5856 - val_loss: 0.9726 - val_accuracy: 0.6949\n",
      "Epoch 67/100\n",
      "35252/35252 [==============================] - 82s 2ms/sample - loss: 1.1778 - accuracy: 0.5953 - val_loss: 1.0149 - val_accuracy: 0.6962\n",
      "Epoch 68/100\n",
      "35252/35252 [==============================] - 73s 2ms/sample - loss: 1.2016 - accuracy: 0.6273 - val_loss: 1.1560 - val_accuracy: 0.5847\n",
      "Epoch 69/100\n",
      "35252/35252 [==============================] - 74s 2ms/sample - loss: 1.2545 - accuracy: 0.6383 - val_loss: 1.0586 - val_accuracy: 0.7004\n",
      "Epoch 70/100\n",
      "35252/35252 [==============================] - 75s 2ms/sample - loss: 1.4259 - accuracy: 0.6278 - val_loss: 2.1050 - val_accuracy: 0.4265\n",
      "Epoch 71/100\n",
      "35252/35252 [==============================] - 71s 2ms/sample - loss: 1.3302 - accuracy: 0.6395 - val_loss: 1.1434 - val_accuracy: 0.7050\n",
      "Epoch 72/100\n",
      "35252/35252 [==============================] - 65s 2ms/sample - loss: 1.4153 - accuracy: 0.6364 - val_loss: 1.1893 - val_accuracy: 0.7088\n",
      "Epoch 73/100\n",
      "35252/35252 [==============================] - 66s 2ms/sample - loss: 1.3908 - accuracy: 0.6410 - val_loss: 1.1159 - val_accuracy: 0.7275\n",
      "Epoch 74/100\n",
      "35252/35252 [==============================] - 45s 1ms/sample - loss: 1.2954 - accuracy: 0.6549 - val_loss: 1.0424 - val_accuracy: 0.7072\n",
      "Epoch 75/100\n",
      "35252/35252 [==============================] - 42s 1ms/sample - loss: 1.2271 - accuracy: 0.6520 - val_loss: 0.9733 - val_accuracy: 0.7320\n",
      "Epoch 76/100\n",
      "35252/35252 [==============================] - 43s 1ms/sample - loss: 1.1852 - accuracy: 0.6562 - val_loss: 0.9345 - val_accuracy: 0.7054\n",
      "Epoch 77/100\n",
      "35252/35252 [==============================] - 42s 1ms/sample - loss: 1.1148 - accuracy: 0.6625 - val_loss: 0.8652 - val_accuracy: 0.7224\n",
      "Epoch 78/100\n",
      "35252/35252 [==============================] - 43s 1ms/sample - loss: 1.0488 - accuracy: 0.6674 - val_loss: 0.8608 - val_accuracy: 0.7062\n",
      "Epoch 79/100\n",
      "35252/35252 [==============================] - 43s 1ms/sample - loss: 0.9581 - accuracy: 0.6797 - val_loss: 0.8016 - val_accuracy: 0.7202\n",
      "Epoch 80/100\n",
      "35252/35252 [==============================] - 43s 1ms/sample - loss: 0.8894 - accuracy: 0.6855 - val_loss: 0.7283 - val_accuracy: 0.7460\n",
      "Epoch 81/100\n",
      "35252/35252 [==============================] - 33s 922us/sample - loss: 0.8841 - accuracy: 0.6862 - val_loss: 0.7387 - val_accuracy: 0.7126\n",
      "Epoch 82/100\n",
      "35252/35252 [==============================] - 31s 880us/sample - loss: 0.8971 - accuracy: 0.6828 - val_loss: 0.7771 - val_accuracy: 0.7207\n",
      "Epoch 83/100\n",
      "35252/35252 [==============================] - 31s 889us/sample - loss: 0.9455 - accuracy: 0.6781 - val_loss: 0.7898 - val_accuracy: 0.7329\n",
      "Epoch 84/100\n",
      "35252/35252 [==============================] - 31s 872us/sample - loss: 0.9623 - accuracy: 0.6783 - val_loss: 0.8110 - val_accuracy: 0.7337\n",
      "Epoch 85/100\n",
      "35252/35252 [==============================] - 32s 917us/sample - loss: 0.9989 - accuracy: 0.6779 - val_loss: 0.8634 - val_accuracy: 0.7265\n",
      "Epoch 86/100\n",
      "35252/35252 [==============================] - 30s 849us/sample - loss: 1.0483 - accuracy: 0.6708 - val_loss: 0.8796 - val_accuracy: 0.7046\n",
      "Epoch 87/100\n",
      "35252/35252 [==============================] - 30s 850us/sample - loss: 1.0609 - accuracy: 0.6750 - val_loss: 0.8881 - val_accuracy: 0.7208\n",
      "Epoch 88/100\n",
      "35252/35252 [==============================] - 29s 825us/sample - loss: 1.1148 - accuracy: 0.6705 - val_loss: 0.9425 - val_accuracy: 0.7462\n",
      "Epoch 89/100\n",
      "35252/35252 [==============================] - 29s 825us/sample - loss: 1.0989 - accuracy: 0.6698 - val_loss: 0.9129 - val_accuracy: 0.7440\n",
      "Epoch 90/100\n",
      "35252/35252 [==============================] - 29s 826us/sample - loss: 1.0585 - accuracy: 0.6744 - val_loss: 0.8601 - val_accuracy: 0.7067\n",
      "Epoch 91/100\n",
      "35252/35252 [==============================] - 29s 826us/sample - loss: 1.0369 - accuracy: 0.6734 - val_loss: 0.8785 - val_accuracy: 0.7134\n",
      "Epoch 92/100\n",
      "35252/35252 [==============================] - 29s 828us/sample - loss: 0.9848 - accuracy: 0.6772 - val_loss: 0.8074 - val_accuracy: 0.7342\n",
      "Epoch 93/100\n",
      "35252/35252 [==============================] - 29s 832us/sample - loss: 0.9553 - accuracy: 0.6780 - val_loss: 0.7794 - val_accuracy: 0.7382\n",
      "Epoch 94/100\n",
      "35252/35252 [==============================] - 29s 828us/sample - loss: 0.9153 - accuracy: 0.6822 - val_loss: 0.7459 - val_accuracy: 0.7419\n",
      "Epoch 95/100\n",
      "35252/35252 [==============================] - 29s 827us/sample - loss: 0.8708 - accuracy: 0.6900 - val_loss: 0.7283 - val_accuracy: 0.7106\n",
      "Epoch 96/100\n",
      "35252/35252 [==============================] - 29s 830us/sample - loss: 0.8426 - accuracy: 0.6899 - val_loss: 0.7120 - val_accuracy: 0.7419\n",
      "Epoch 97/100\n",
      "35252/35252 [==============================] - 29s 828us/sample - loss: 0.8300 - accuracy: 0.6891 - val_loss: 0.7008 - val_accuracy: 0.7327\n",
      "Epoch 98/100\n",
      "35252/35252 [==============================] - 29s 834us/sample - loss: 0.8383 - accuracy: 0.6964 - val_loss: 0.7085 - val_accuracy: 0.7504\n",
      "Epoch 99/100\n",
      "35252/35252 [==============================] - 29s 828us/sample - loss: 0.8638 - accuracy: 0.6914 - val_loss: 0.7321 - val_accuracy: 0.7399\n",
      "Epoch 100/100\n",
      "35252/35252 [==============================] - 29s 826us/sample - loss: 0.8842 - accuracy: 0.6876 - val_loss: 0.7398 - val_accuracy: 0.7337\n"
     ]
    }
   ],
   "source": [
    "history = model.fit(x=train_x, y=train_y, batch_size=mini_batch_size,\n",
    "                    epochs=100, verbose=1,\n",
    "                    callbacks=[clr], workers=5,\n",
    "                    validation_data=(validation_x, validation_y))"
   ]
  },
  {
   "cell_type": "code",
   "execution_count": 81,
   "metadata": {},
   "outputs": [
    {
     "data": {
      "image/png": "[encoded data removed]",
      "text/plain": [
       "<Figure size 432x288 with 1 Axes>"
      ]
     },
     "metadata": {
      "needs_background": "light"
     },
     "output_type": "display_data"
    }
   ],
   "source": [
    "plt.plot(history.history['loss'], label='train_loss')\n",
    "plt.plot(history.history['val_loss'], label='val_loss')\n",
    "plt.ylabel('Cost')\n",
    "plt.xlabel('Epoch #')\n",
    "plt.title(\"Model Loss Curve\")\n",
    "plt.legend()\n",
    "plt.grid()\n",
    "plt.show()"
   ]
  },
  {
   "cell_type": "code",
   "execution_count": 82,
   "metadata": {},
   "outputs": [
    {
     "data": {
      "image/png": "[encoded data removed]",
      "text/plain": [
       "<Figure size 432x288 with 1 Axes>"
      ]
     },
     "metadata": {
      "needs_background": "light"
     },
     "output_type": "display_data"
    }
   ],
   "source": [
    "plt.plot(history.history['accuracy'], label='train_accuracy')\n",
    "plt.plot(history.history['val_accuracy'], label='val_accuracy')\n",
    "plt.ylabel('Accuracy')\n",
    "plt.xlabel('Epoch #')\n",
    "plt.title(\"Model Accuracy Curve\")\n",
    "plt.legend()\n",
    "plt.grid()\n",
    "plt.show()"
   ]
  },
  {
   "cell_type": "code",
   "execution_count": null,
   "metadata": {},
   "outputs": [],
   "source": [
    "plt.plot(clr.history[\"lr\"])\n",
    "plt.ylabel('Learning Rate')\n",
    "plt.xlabel('Iteration #')\n",
    "plt.title(\"Cyclical Learning Rate (CLR)\")\n",
    "plt.grid()\n",
    "plt.show()"
   ]
  },
  {
   "cell_type": "code",
   "execution_count": null,
   "metadata": {},
   "outputs": [],
   "source": [
    "score = model.evaluate(x=test_x, y=test_y, verbose=0)\n",
    "print('Test loss: {}', format(score[0]))\n",
    "print('Test accuracy: {}', format(score[1] * 100))"
   ]
  },
  {
   "cell_type": "code",
   "execution_count": null,
   "metadata": {},
   "outputs": [],
   "source": [
    "y_pred = model.predict(test_x)"
   ]
  },
  {
   "cell_type": "code",
   "execution_count": null,
   "metadata": {},
   "outputs": [],
   "source": [
    "predicted_labels = np.array([np.argmax(y_pred, axis=1)]).T\n",
    "temp_df = pd.DataFrame(predicted_labels, columns=['Class'])\n",
    "temp_df.groupby(['Class']).size().reset_index().rename(columns={0:'count'})"
   ]
  },
  {
   "cell_type": "code",
   "execution_count": null,
   "metadata": {},
   "outputs": [],
   "source": [
    "y_test = np.array([np.argmax(test_y, axis=1)]).T\n",
    "f1 = f1_score(y_test, predicted_labels, average='weighted') * 100\n",
    "accuracy = accuracy_score(y_test, predicted_labels)\n",
    "print(\"F1 Score: {}\".format(f1))\n",
    "print(\"Accuracy: {}\".format(accuracy * 100))"
   ]
  },
  {
   "cell_type": "code",
   "execution_count": null,
   "metadata": {},
   "outputs": [],
   "source": [
    "y_pred=model.predict(predict_x)\n",
    "predicted_labels = np.array([np.argmax(y_pred, axis=1)]).T"
   ]
  },
  {
   "cell_type": "code",
   "execution_count": null,
   "metadata": {},
   "outputs": [],
   "source": [
    "temp_df = pd.DataFrame(predicted_labels, columns=['Class'])\n",
    "temp_df['Class'] = temp_df['Class'].map({0: 30, 1: 65, 2: 45, 3: 10, 4: 20, 5: 120, 6: 80})\n",
    "temp_df.groupby(['Class']).size().reset_index().rename(columns={0:'count'})"
   ]
  },
  {
   "cell_type": "code",
   "execution_count": null,
   "metadata": {},
   "outputs": [],
   "source": [
    "submit_df = pd.read_excel(\"/content/drive/My Drive/Colab Notebooks/Food Delivery Time Prediction/Sample_Submission.xlsx\")\n",
    "submit_df.head()"
   ]
  },
  {
   "cell_type": "code",
   "execution_count": null,
   "metadata": {},
   "outputs": [],
   "source": [
    "submit_df['Delivery_Time'] = temp_df['Class'].apply(lambda x: str(x) + \" minutes\")\n",
    "submit_df.to_excel(\"predictions.xlsx\", index=False)"
   ]
  }
 ],
 "metadata": {
  "kernelspec": {
   "display_name": "Python 3",
   "language": "python",
   "name": "python3"
  },
  "language_info": {
   "codemirror_mode": {
    "name": "ipython",
    "version": 3
   },
   "file_extension": ".py",
   "mimetype": "text/x-python",
   "name": "python",
   "nbconvert_exporter": "python",
   "pygments_lexer": "ipython3",
   "version": "3.8.3"
  }
 },
 "nbformat": 4,
 "nbformat_minor": 2
}
