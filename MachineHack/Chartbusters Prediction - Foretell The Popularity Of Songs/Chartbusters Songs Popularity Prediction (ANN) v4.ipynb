{
 "cells": [
  {
   "cell_type": "markdown",
   "metadata": {
    "colab_type": "text",
    "id": "UXtVbQm-sDaQ"
   },
   "source": [
    "## Use Case\n",
    "\n",
    "One of our customers strongly believes in technology and have recently backed up its platform using Machine Learning and Artificial Intelligence. Based on data collected from multiple sources on different songs and various artist attributes our customer is excited to challenge the MachineHack community.\n",
    "\n",
    "By analyzing, the chartbusters data to predict the Views of songs, MachineHackers would advance the state of the current platform. This can help our customer understand user behaviour and personalize the user experience. \n",
    "In this hackathon, we challenge the MachineHackers to come up with a prediction algorithm that can predict the views for a given song.\n",
    "\n",
    "Can you predict how popular a song will be in the future?"
   ]
  },
  {
   "cell_type": "markdown",
   "metadata": {
    "colab_type": "text",
    "id": "6xoxPmrOsDaV"
   },
   "source": [
    "## Dataset Description\n",
    "\n",
    "- Data_Train.csv – the training set, 78458 rows with 11 columns.\n",
    "- Data_Test.csv – the test set, 19615 rows with 10 columns, except the Views column.\n",
    "- Sample_Submission.csv – sample submission file format for reference."
   ]
  },
  {
   "cell_type": "markdown",
   "metadata": {
    "colab_type": "text",
    "id": "BR0exVkjsDaX"
   },
   "source": [
    "## Data Dictionary\n",
    "\n",
    "- **Unique_ID** : Unique Identifier.\n",
    "- **Name** : Name of the Artist.\n",
    "- **Genre** : Genre of the Song.\n",
    "- **Country** : Origin Country of Artist.\n",
    "- **Song_Name** : Name of the Song.\n",
    "- **Timestamp** : Release Date and Time.\n",
    "- **Views** : Number of times the song was played/viewed (*Target/Dependent Variable*).\n",
    "- **Comments** : Count of comments for the song.\n",
    "- **Likes** : Count of Likes.\n",
    "- **Popularity** : Popularity score for the artist.\n",
    "- **Followers** : Number of Followers."
   ]
  },
  {
   "cell_type": "markdown",
   "metadata": {
    "colab_type": "text",
    "id": "ICUhGQQNsDaZ"
   },
   "source": [
    "## Load necessary packages"
   ]
  },
  {
   "cell_type": "code",
   "execution_count": 1,
   "metadata": {
    "colab": {
     "base_uri": "https://localhost:8080/",
     "height": 84
    },
    "colab_type": "code",
    "executionInfo": {
     "elapsed": 26386,
     "status": "ok",
     "timestamp": 1577983541004,
     "user": {
      "displayName": "TAPAS DAS",
      "photoUrl": "https://lh3.googleusercontent.com/a-/AAuE7mAWMXeao3oujURH7jI31N9NlnBx3o-Qy3i2T8kupg=s64",
      "userId": "10798398878324948542"
     },
     "user_tz": -330
    },
    "id": "fv8D3ZhGsDab",
    "outputId": "cdb6100e-b60c-44d9-ad39-aaedd70556f9"
   },
   "outputs": [
    {
     "name": "stderr",
     "output_type": "stream",
     "text": [
      "[nltk_data] Downloading package punkt to\n",
      "[nltk_data]     C:\\Users\\tdtap\\AppData\\Roaming\\nltk_data...\n",
      "[nltk_data]   Package punkt is already up-to-date!\n",
      "[nltk_data] Downloading package stopwords to\n",
      "[nltk_data]     C:\\Users\\tdtap\\AppData\\Roaming\\nltk_data...\n",
      "[nltk_data]   Package stopwords is already up-to-date!\n"
     ]
    }
   ],
   "source": [
    "import pandas as pd\n",
    "import numpy as np\n",
    "import matplotlib.pyplot as plt\n",
    "import seaborn as sns\n",
    "import string\n",
    "import holidays\n",
    "from bisect import bisect_left, bisect_right\n",
    "\n",
    "import nltk\n",
    "nltk.download('punkt')\n",
    "nltk.download('stopwords')\n",
    "from nltk import sent_tokenize\n",
    "from nltk import word_tokenize\n",
    "from nltk.corpus import stopwords\n",
    "import emoji\n",
    "\n",
    "import spacy\n",
    "from spacy.lemmatizer import Lemmatizer\n",
    "from spacy.lookups import Lookups\n",
    "\n",
    "from tqdm import tqdm\n",
    "from sklearn.feature_extraction.text import TfidfVectorizer, CountVectorizer\n",
    "from sklearn.model_selection import train_test_split\n",
    "from sklearn.preprocessing import StandardScaler, MinMaxScaler, RobustScaler\n",
    "from sklearn.model_selection import KFold\n",
    "\n",
    "import tensorflow as tf\n",
    "import tensorflow_hub as hub\n",
    "from tensorflow.keras.optimizers import Adam, Nadam, Adamax\n",
    "from tensorflow.keras.layers import Input, Dense, BatchNormalization, Dropout\n",
    "from tensorflow.keras.models import Model\n",
    "from tensorflow.keras.metrics import RootMeanSquaredError\n",
    "from tensorflow.keras.regularizers import l2\n",
    "from tensorflow.keras.initializers import he_uniform"
   ]
  },
  {
   "cell_type": "code",
   "execution_count": 2,
   "metadata": {
    "colab": {},
    "colab_type": "code",
    "id": "AJZi87IMsDah"
   },
   "outputs": [],
   "source": [
    "from learningratefinder import LearningRateFinder\n",
    "from clr_callback import CyclicLR"
   ]
  },
  {
   "cell_type": "code",
   "execution_count": 3,
   "metadata": {
    "colab": {
     "base_uri": "https://localhost:8080/",
     "height": 34
    },
    "colab_type": "code",
    "executionInfo": {
     "elapsed": 1600,
     "status": "ok",
     "timestamp": 1577983569013,
     "user": {
      "displayName": "TAPAS DAS",
      "photoUrl": "https://lh3.googleusercontent.com/a-/AAuE7mAWMXeao3oujURH7jI31N9NlnBx3o-Qy3i2T8kupg=s64",
      "userId": "10798398878324948542"
     },
     "user_tz": -330
    },
    "id": "nySRdwJJt-eC",
    "outputId": "59196c29-90ec-4520-d204-bcd9e8daf7ca"
   },
   "outputs": [
    {
     "name": "stdout",
     "output_type": "stream",
     "text": [
      "2.0.0\n"
     ]
    }
   ],
   "source": [
    "print(tf.__version__)"
   ]
  },
  {
   "cell_type": "markdown",
   "metadata": {
    "colab_type": "text",
    "id": "SO16gb7gsDam"
   },
   "source": [
    "## Set file paths for train and test datasets"
   ]
  },
  {
   "cell_type": "code",
   "execution_count": 4,
   "metadata": {
    "colab": {},
    "colab_type": "code",
    "id": "O4OgWKvSsDan"
   },
   "outputs": [],
   "source": [
    "train_dataset = \"Datasets/Data_Train.csv\"\n",
    "test_dataset = \"Datasets/Data_Test.csv\""
   ]
  },
  {
   "cell_type": "markdown",
   "metadata": {
    "colab_type": "text",
    "id": "WBwt6IPVBsuB"
   },
   "source": [
    "## Glove Vectors"
   ]
  },
  {
   "cell_type": "code",
   "execution_count": 5,
   "metadata": {
    "colab": {
     "base_uri": "https://localhost:8080/",
     "height": 50
    },
    "colab_type": "code",
    "executionInfo": {
     "elapsed": 140840,
     "status": "ok",
     "timestamp": 1577716156674,
     "user": {
      "displayName": "TAPAS DAS",
      "photoUrl": "https://lh3.googleusercontent.com/a-/AAuE7mAWMXeao3oujURH7jI31N9NlnBx3o-Qy3i2T8kupg=s64",
      "userId": "10798398878324948542"
     },
     "user_tz": -330
    },
    "id": "3pySu4tHBsuI",
    "outputId": "bbde8260-ee25-4b83-d944-9ecd07e868f9"
   },
   "outputs": [
    {
     "name": "stderr",
     "output_type": "stream",
     "text": [
      "2196017it [08:40, 4220.28it/s]\n"
     ]
    },
    {
     "name": "stdout",
     "output_type": "stream",
     "text": [
      "Word vectors found: 2196016\n"
     ]
    }
   ],
   "source": [
    "embeddings_index = {}\n",
    "f = open('C://Users//tdtap//MLProjects//GLOVE//glove.840B.300d//glove.840B.300d.txt', encoding='utf8')\n",
    "for line in tqdm(f):\n",
    "    values = line.split(' ')\n",
    "    word = values[0]\n",
    "    coefs = np.asarray(values[1:], dtype='float32')\n",
    "    embeddings_index[word] = coefs\n",
    "f.close()\n",
    "\n",
    "print('Word vectors found: {}'.format(len(embeddings_index)))"
   ]
  },
  {
   "cell_type": "markdown",
   "metadata": {
    "colab_type": "text",
    "id": "9aQT0iPD0Pa-"
   },
   "source": [
    "## Functions to process text data in \"Song Name\" field"
   ]
  },
  {
   "cell_type": "code",
   "execution_count": 6,
   "metadata": {
    "colab": {},
    "colab_type": "code",
    "id": "ujqmeOa80Pa2"
   },
   "outputs": [],
   "source": [
    "def char_is_emoji(character):\n",
    "    \"\"\"\n",
    "        Description: Function to check if input character is an emoji\n",
    "    \"\"\"\n",
    "    return character in emoji.UNICODE_EMOJI"
   ]
  },
  {
   "cell_type": "code",
   "execution_count": 7,
   "metadata": {
    "colab": {},
    "colab_type": "code",
    "id": "tcefUt2a0Pax"
   },
   "outputs": [],
   "source": [
    "def text_has_emoji(text):\n",
    "    \"\"\"\n",
    "        Description: Function to check if input text contains an emoji\n",
    "    \"\"\"\n",
    "    for character in text:\n",
    "        if character in emoji.UNICODE_EMOJI:\n",
    "            return True\n",
    "    return False"
   ]
  },
  {
   "cell_type": "code",
   "execution_count": 8,
   "metadata": {
    "colab": {},
    "colab_type": "code",
    "id": "CbvLKl170Par"
   },
   "outputs": [],
   "source": [
    "def deEmojify(inputString):\n",
    "    \"\"\"\n",
    "        Description: Function to remove the emojis in input string\n",
    "    \"\"\"\n",
    "    return inputString.encode('ascii', 'ignore').decode('ascii')"
   ]
  },
  {
   "cell_type": "code",
   "execution_count": 9,
   "metadata": {
    "colab": {},
    "colab_type": "code",
    "id": "KAeqVEcx0Pah"
   },
   "outputs": [],
   "source": [
    "def remove_punctuations(text):\n",
    "    \"\"\"\n",
    "        Description: Function to remove any punctuations in input text\n",
    "    \"\"\"\n",
    "\n",
    "    punct =[]\n",
    "    punct += list(string.punctuation)\n",
    "    punct += '’'\n",
    "    punct += '-'\n",
    "    punct.remove(\"'\")\n",
    "    \n",
    "    for punctuation in punct:\n",
    "        text = text.replace(punctuation, ' ')\n",
    "    return text"
   ]
  },
  {
   "cell_type": "code",
   "execution_count": 10,
   "metadata": {
    "colab": {},
    "colab_type": "code",
    "id": "AQfR7Y4A0PaV"
   },
   "outputs": [],
   "source": [
    "def nlp(df, field_name):\n",
    "    \"\"\"\n",
    "        Description: Function to perform basic pre-processing in 'Song_Name' field\n",
    "        \n",
    "        Parameters:\n",
    "            df - Input dataframe\n",
    "            field_name - Field name to be processed\n",
    "        \n",
    "        Return:\n",
    "            df - Processed dataframe\n",
    "    \"\"\"\n",
    "  \n",
    "    # lowercase everything\n",
    "    df['token'] = df[field_name].apply(lambda x: x.lower())\n",
    "    \n",
    "    # get rid of '\\n' from whitespace \n",
    "    df['token'] = df['token'].apply(lambda x: x.replace('\\n', ' '))\n",
    "    \n",
    "    # regex remove hyperlinks\n",
    "    df['token'] = df['token'].str.replace('http\\S+|www.\\S+', '', case=False)\n",
    "    \n",
    "    # removing '&gt;'\n",
    "    df['token'] = df['token'].apply(lambda x: x.replace('&gt;', ''))\n",
    "    \n",
    "    # Checking if emoji in tokens column\n",
    "    #df['emoji'] = df['token'].apply(lambda x: text_has_emoji(x))\n",
    "    \n",
    "    # Removing Emojis from tokens\n",
    "    df['token'] = df['token'].apply(lambda x: deEmojify(x))\n",
    "    \n",
    "    # remove punctuations\n",
    "    df['token'] = df['token'].apply(remove_punctuations)\n",
    "    \n",
    "    # remove ' s ' that was created after removing punctuations\n",
    "    df['token'] = df['token'].apply(lambda x: str(x).replace(\" s \", \" \"))\n",
    "    \n",
    "    return df"
   ]
  },
  {
   "cell_type": "code",
   "execution_count": 11,
   "metadata": {
    "colab": {},
    "colab_type": "code",
    "id": "saol1BAE0PaE"
   },
   "outputs": [],
   "source": [
    "sp = spacy.load('en_core_web_sm')\n",
    "lookups = Lookups()\n",
    "lemm = Lemmatizer(lookups)"
   ]
  },
  {
   "cell_type": "code",
   "execution_count": 12,
   "metadata": {
    "colab": {},
    "colab_type": "code",
    "id": "mK2IvsYX0PZl"
   },
   "outputs": [],
   "source": [
    "def lemma_function(text):\n",
    "    \"\"\"\n",
    "        Description: Function to lemmatize the input text\n",
    "    \"\"\"\n",
    "\n",
    "    dummy = []    \n",
    "    for word in sp(text):\n",
    "        dummy.append(word.lemma_)\n",
    "    return ' '.join(dummy)"
   ]
  },
  {
   "cell_type": "code",
   "execution_count": 13,
   "metadata": {
    "colab": {},
    "colab_type": "code",
    "id": "a0VxYojtBsu2"
   },
   "outputs": [],
   "source": [
    "def sent2vec(text):\n",
    "    \"\"\"\n",
    "        Description: Function to create normalized vector for input text\n",
    "    \"\"\"\n",
    "    \n",
    "    stop_words = stopwords.words('english')\n",
    "    words = str(text).lower()\n",
    "    words = word_tokenize(words)\n",
    "    words = [w for w in words if not w in stop_words]\n",
    "    words = [w for w in words if w.isalpha()]\n",
    "    M = []\n",
    "    for w in words:\n",
    "        try:\n",
    "            M.append(embeddings_index[w])\n",
    "        except:\n",
    "            continue\n",
    "    M = np.array(M)\n",
    "    v = M.sum(axis=0)\n",
    "    if type(v) != np.ndarray:\n",
    "        return np.zeros(300)\n",
    "    return v / np.sqrt((v ** 2).sum())"
   ]
  },
  {
   "cell_type": "markdown",
   "metadata": {
    "colab_type": "text",
    "id": "o-Z-5pCAsDas"
   },
   "source": [
    "## Preprocess data + EDA"
   ]
  },
  {
   "cell_type": "code",
   "execution_count": 14,
   "metadata": {
    "colab": {},
    "colab_type": "code",
    "id": "dN6PLRcYsDat"
   },
   "outputs": [],
   "source": [
    "# Read train/predict data into pandas dataframes\n",
    "train_df = pd.read_csv(train_dataset)\n",
    "predict_df = pd.read_csv(test_dataset)"
   ]
  },
  {
   "cell_type": "code",
   "execution_count": 16,
   "metadata": {
    "colab": {},
    "colab_type": "code",
    "id": "kN4_AzKFsDay"
   },
   "outputs": [],
   "source": [
    "# Remove rows, from train_df, having any column value as NaN\n",
    "train_df.dropna(inplace=True)"
   ]
  },
  {
   "cell_type": "code",
   "execution_count": 17,
   "metadata": {
    "colab": {
     "base_uri": "https://localhost:8080/",
     "height": 403
    },
    "colab_type": "code",
    "executionInfo": {
     "elapsed": 1495,
     "status": "ok",
     "timestamp": 1577716199603,
     "user": {
      "displayName": "TAPAS DAS",
      "photoUrl": "https://lh3.googleusercontent.com/a-/AAuE7mAWMXeao3oujURH7jI31N9NlnBx3o-Qy3i2T8kupg=s64",
      "userId": "10798398878324948542"
     },
     "user_tz": -330
    },
    "id": "A-YUtZ-F1GEo",
    "outputId": "567e3cf4-bb15-4d3a-b988-0e114d65fa99"
   },
   "outputs": [
    {
     "data": {
      "image/png": "[encoded data removed]",
      "text/plain": [
       "<Figure size 1152x432 with 2 Axes>"
      ]
     },
     "metadata": {
      "needs_background": "light"
     },
     "output_type": "display_data"
    }
   ],
   "source": [
    "# Plot distribution of data in \"Views\" field\n",
    "fig, ax = plt.subplots(figsize = (16, 6))\n",
    "plt.subplot(1, 2, 1)\n",
    "plt.hist(train_df['Views']);\n",
    "plt.title('Distribution of Views data');\n",
    "plt.subplot(1, 2, 2)\n",
    "plt.hist(np.log1p(train_df['Views']));\n",
    "plt.title('Distribution of log of Views data');"
   ]
  },
  {
   "cell_type": "code",
   "execution_count": 18,
   "metadata": {
    "colab": {
     "base_uri": "https://localhost:8080/",
     "height": 34
    },
    "colab_type": "code",
    "executionInfo": {
     "elapsed": 838,
     "status": "ok",
     "timestamp": 1577716201789,
     "user": {
      "displayName": "TAPAS DAS",
      "photoUrl": "https://lh3.googleusercontent.com/a-/AAuE7mAWMXeao3oujURH7jI31N9NlnBx3o-Qy3i2T8kupg=s64",
      "userId": "10798398878324948542"
     },
     "user_tz": -330
    },
    "id": "akWW1gUosDa3",
    "outputId": "cad46866-1ef1-459a-b07b-9481d009c760"
   },
   "outputs": [
    {
     "name": "stdout",
     "output_type": "stream",
     "text": [
      "Ytrain: (78457, 1)\n"
     ]
    }
   ],
   "source": [
    "# Extract \"Views\" field from train_df into NumPy array\n",
    "train_df['Views'] = np.log1p(train_df['Views'])\n",
    "Ytrain = np.array([train_df['Views'].values]).T\n",
    "train_df.drop(['Views'], inplace=True, axis=1)\n",
    "print(\"Ytrain: {}\".format(Ytrain.shape))"
   ]
  },
  {
   "cell_type": "code",
   "execution_count": 19,
   "metadata": {
    "colab": {
     "base_uri": "https://localhost:8080/",
     "height": 34
    },
    "colab_type": "code",
    "executionInfo": {
     "elapsed": 1324,
     "status": "ok",
     "timestamp": 1577716214265,
     "user": {
      "displayName": "TAPAS DAS",
      "photoUrl": "https://lh3.googleusercontent.com/a-/AAuE7mAWMXeao3oujURH7jI31N9NlnBx3o-Qy3i2T8kupg=s64",
      "userId": "10798398878324948542"
     },
     "user_tz": -330
    },
    "id": "dNWE_6xysDa-",
    "outputId": "8f612e59-05c8-4632-9cc0-90e292cb4d5c"
   },
   "outputs": [
    {
     "name": "stdout",
     "output_type": "stream",
     "text": [
      "(98072, 10)\n"
     ]
    }
   ],
   "source": [
    "# Combine the train and predict dataframes\n",
    "combined_df = train_df.append(predict_df, sort=False, ignore_index=True)\n",
    "print(combined_df.shape)"
   ]
  },
  {
   "cell_type": "code",
   "execution_count": 20,
   "metadata": {
    "colab": {
     "base_uri": "https://localhost:8080/",
     "height": 34
    },
    "colab_type": "code",
    "executionInfo": {
     "elapsed": 926,
     "status": "ok",
     "timestamp": 1577716215865,
     "user": {
      "displayName": "TAPAS DAS",
      "photoUrl": "https://lh3.googleusercontent.com/a-/AAuE7mAWMXeao3oujURH7jI31N9NlnBx3o-Qy3i2T8kupg=s64",
      "userId": "10798398878324948542"
     },
     "user_tz": -330
    },
    "id": "gbYKeRxqBsvf",
    "outputId": "903132b6-1438-4ed3-b60d-a83cd805b753"
   },
   "outputs": [
    {
     "name": "stdout",
     "output_type": "stream",
     "text": [
      "Number of features: 8\n"
     ]
    }
   ],
   "source": [
    "# Drop redundant fields\n",
    "combined_df.drop(['Unique_ID', 'Country'], inplace=True, axis=1)\n",
    "print(\"Number of features: {}\".format(combined_df.shape[1]))"
   ]
  },
  {
   "cell_type": "code",
   "execution_count": 21,
   "metadata": {
    "colab": {
     "base_uri": "https://localhost:8080/",
     "height": 343
    },
    "colab_type": "code",
    "executionInfo": {
     "elapsed": 1404,
     "status": "ok",
     "timestamp": 1577716217790,
     "user": {
      "displayName": "TAPAS DAS",
      "photoUrl": "https://lh3.googleusercontent.com/a-/AAuE7mAWMXeao3oujURH7jI31N9NlnBx3o-Qy3i2T8kupg=s64",
      "userId": "10798398878324948542"
     },
     "user_tz": -330
    },
    "id": "fKG4nJ07sDbD",
    "outputId": "354bfbb5-b5f7-4747-9edb-dc82179981cc"
   },
   "outputs": [
    {
     "data": {
      "text/html": [
       "<div>\n",
       "<style scoped>\n",
       "    .dataframe tbody tr th:only-of-type {\n",
       "        vertical-align: middle;\n",
       "    }\n",
       "\n",
       "    .dataframe tbody tr th {\n",
       "        vertical-align: top;\n",
       "    }\n",
       "\n",
       "    .dataframe thead th {\n",
       "        text-align: right;\n",
       "    }\n",
       "</style>\n",
       "<table border=\"1\" class=\"dataframe\">\n",
       "  <thead>\n",
       "    <tr style=\"text-align: right;\">\n",
       "      <th></th>\n",
       "      <th>Name</th>\n",
       "      <th>Genre</th>\n",
       "      <th>Song_Name</th>\n",
       "      <th>Timestamp</th>\n",
       "      <th>Comments</th>\n",
       "      <th>Likes</th>\n",
       "      <th>Popularity</th>\n",
       "      <th>Followers</th>\n",
       "    </tr>\n",
       "  </thead>\n",
       "  <tbody>\n",
       "    <tr>\n",
       "      <td>0</td>\n",
       "      <td>Hardstyle</td>\n",
       "      <td>danceedm</td>\n",
       "      <td>N-Vitral presents BOMBSQUAD - Poison Spitter (...</td>\n",
       "      <td>2018-03-30 15:24:45.000000</td>\n",
       "      <td>4</td>\n",
       "      <td>499</td>\n",
       "      <td>97</td>\n",
       "      <td>119563</td>\n",
       "    </tr>\n",
       "    <tr>\n",
       "      <td>1</td>\n",
       "      <td>Dj Aladdin</td>\n",
       "      <td>danceedm</td>\n",
       "      <td>Dj Aladdin - Old School Hip Hop Quick Mix</td>\n",
       "      <td>2016-06-20 05:58:52.000000</td>\n",
       "      <td>17</td>\n",
       "      <td>49</td>\n",
       "      <td>17</td>\n",
       "      <td>2141</td>\n",
       "    </tr>\n",
       "    <tr>\n",
       "      <td>2</td>\n",
       "      <td>Maxximize On Air</td>\n",
       "      <td>danceedm</td>\n",
       "      <td>Maxximize On Air - Mixed by Blasterjaxx - Epis...</td>\n",
       "      <td>2015-05-08 17:45:59.000000</td>\n",
       "      <td>11</td>\n",
       "      <td>312</td>\n",
       "      <td>91</td>\n",
       "      <td>22248</td>\n",
       "    </tr>\n",
       "    <tr>\n",
       "      <td>3</td>\n",
       "      <td>GR6 EXPLODE</td>\n",
       "      <td>rbsoul</td>\n",
       "      <td>MC Yago - Tenho Compromisso (DJ R7)</td>\n",
       "      <td>2017-06-08 23:50:03.000000</td>\n",
       "      <td>2</td>\n",
       "      <td>2,400</td>\n",
       "      <td>76</td>\n",
       "      <td>393655</td>\n",
       "    </tr>\n",
       "    <tr>\n",
       "      <td>4</td>\n",
       "      <td>Tritonal</td>\n",
       "      <td>danceedm</td>\n",
       "      <td>Escape (feat. Steph Jones)</td>\n",
       "      <td>2016-09-17 20:50:19.000000</td>\n",
       "      <td>81</td>\n",
       "      <td>3,031</td>\n",
       "      <td>699</td>\n",
       "      <td>201030</td>\n",
       "    </tr>\n",
       "    <tr>\n",
       "      <td>5</td>\n",
       "      <td>k$upreme</td>\n",
       "      <td>all-music</td>\n",
       "      <td>Started Off Finessen' (Prod.Oscar100)</td>\n",
       "      <td>2017-11-27 14:55:11.000000</td>\n",
       "      <td>6</td>\n",
       "      <td>4,500</td>\n",
       "      <td>325</td>\n",
       "      <td>71038</td>\n",
       "    </tr>\n",
       "    <tr>\n",
       "      <td>6</td>\n",
       "      <td>Hardstyle</td>\n",
       "      <td>danceedm</td>\n",
       "      <td>Coone - Universal Language (Cyber Remix)</td>\n",
       "      <td>2016-01-22 17:23:26.000000</td>\n",
       "      <td>15</td>\n",
       "      <td>1,017</td>\n",
       "      <td>226</td>\n",
       "      <td>119563</td>\n",
       "    </tr>\n",
       "    <tr>\n",
       "      <td>7</td>\n",
       "      <td>Diplo</td>\n",
       "      <td>danceedm</td>\n",
       "      <td>Pick Your Poison (feat. Kay) (Figure Remix)</td>\n",
       "      <td>2012-01-17 00:00:00.000000</td>\n",
       "      <td>5</td>\n",
       "      <td>88</td>\n",
       "      <td>12</td>\n",
       "      <td>7120051</td>\n",
       "    </tr>\n",
       "    <tr>\n",
       "      <td>8</td>\n",
       "      <td>Nick Vanelli</td>\n",
       "      <td>trap</td>\n",
       "      <td>B l o o d s h e d</td>\n",
       "      <td>2018-11-29 22:37:07.000000</td>\n",
       "      <td>0</td>\n",
       "      <td>28</td>\n",
       "      <td>7</td>\n",
       "      <td>1892</td>\n",
       "    </tr>\n",
       "    <tr>\n",
       "      <td>9</td>\n",
       "      <td>DeejayEcko(PNCS)</td>\n",
       "      <td>latin</td>\n",
       "      <td>CHIHUAHUA MIXDOWN [ Instagram : @deejayeckoo ]</td>\n",
       "      <td>2017-09-28 04:07:47.000000</td>\n",
       "      <td>0</td>\n",
       "      <td>622</td>\n",
       "      <td>47</td>\n",
       "      <td>2835</td>\n",
       "    </tr>\n",
       "  </tbody>\n",
       "</table>\n",
       "</div>"
      ],
      "text/plain": [
       "               Name      Genre  \\\n",
       "0         Hardstyle   danceedm   \n",
       "1        Dj Aladdin   danceedm   \n",
       "2  Maxximize On Air   danceedm   \n",
       "3       GR6 EXPLODE     rbsoul   \n",
       "4          Tritonal   danceedm   \n",
       "5          k$upreme  all-music   \n",
       "6         Hardstyle   danceedm   \n",
       "7             Diplo   danceedm   \n",
       "8      Nick Vanelli       trap   \n",
       "9  DeejayEcko(PNCS)      latin   \n",
       "\n",
       "                                           Song_Name  \\\n",
       "0  N-Vitral presents BOMBSQUAD - Poison Spitter (...   \n",
       "1          Dj Aladdin - Old School Hip Hop Quick Mix   \n",
       "2  Maxximize On Air - Mixed by Blasterjaxx - Epis...   \n",
       "3                MC Yago - Tenho Compromisso (DJ R7)   \n",
       "4                         Escape (feat. Steph Jones)   \n",
       "5              Started Off Finessen' (Prod.Oscar100)   \n",
       "6           Coone - Universal Language (Cyber Remix)   \n",
       "7        Pick Your Poison (feat. Kay) (Figure Remix)   \n",
       "8                                  B l o o d s h e d   \n",
       "9     CHIHUAHUA MIXDOWN [ Instagram : @deejayeckoo ]   \n",
       "\n",
       "                    Timestamp  Comments  Likes Popularity  Followers  \n",
       "0  2018-03-30 15:24:45.000000         4    499         97     119563  \n",
       "1  2016-06-20 05:58:52.000000        17     49         17       2141  \n",
       "2  2015-05-08 17:45:59.000000        11    312         91      22248  \n",
       "3  2017-06-08 23:50:03.000000         2  2,400         76     393655  \n",
       "4  2016-09-17 20:50:19.000000        81  3,031        699     201030  \n",
       "5  2017-11-27 14:55:11.000000         6  4,500        325      71038  \n",
       "6  2016-01-22 17:23:26.000000        15  1,017        226     119563  \n",
       "7  2012-01-17 00:00:00.000000         5     88         12    7120051  \n",
       "8  2018-11-29 22:37:07.000000         0     28          7       1892  \n",
       "9  2017-09-28 04:07:47.000000         0    622         47       2835  "
      ]
     },
     "execution_count": 21,
     "metadata": {},
     "output_type": "execute_result"
    }
   ],
   "source": [
    "combined_df.head(10)"
   ]
  },
  {
   "cell_type": "code",
   "execution_count": 22,
   "metadata": {
    "colab": {},
    "colab_type": "code",
    "id": "cPjbOp_aoqC5"
   },
   "outputs": [],
   "source": [
    "# Extract new features from \"Timestamp\" field\n",
    "combined_df['rel_year'] = combined_df['Timestamp'].map(lambda x: pd.to_datetime(x).year)\n",
    "combined_df['rel_quarter'] = combined_df['Timestamp'].map(lambda x: pd.to_datetime(x).quarter)\n",
    "combined_df['rel_month'] = combined_df['Timestamp'].map(lambda x: pd.to_datetime(x).month)\n",
    "combined_df['rel_week'] = combined_df['Timestamp'].map(lambda x: pd.to_datetime(x).week)\n",
    "combined_df['rel_day_year'] = combined_df['Timestamp'].map(lambda x: pd.to_datetime(x).dayofyear)\n",
    "combined_df['rel_day_month'] = combined_df['Timestamp'].map(lambda x: pd.to_datetime(x).day)\n",
    "combined_df['rel_day_week'] = combined_df['Timestamp'].map(lambda x: pd.to_datetime(x).dayofweek)\n",
    "combined_df['rel_day_weekend'] = np.where(combined_df['rel_day_week'].isin([5,6]),1,0)\n",
    "combined_df['rel_hour'] = combined_df['Timestamp'].map(lambda x: pd.to_datetime(x).hour)\n",
    "combined_df['minutes_elapsed'] = combined_df['Timestamp'].map(lambda x: (pd.to_datetime(x) - pd.to_datetime(pd.to_datetime(x).date())).seconds / 60.0)"
   ]
  },
  {
   "cell_type": "code",
   "execution_count": 23,
   "metadata": {
    "colab": {
     "base_uri": "https://localhost:8080/",
     "height": 34
    },
    "colab_type": "code",
    "executionInfo": {
     "elapsed": 1112,
     "status": "ok",
     "timestamp": 1577716331300,
     "user": {
      "displayName": "TAPAS DAS",
      "photoUrl": "https://lh3.googleusercontent.com/a-/AAuE7mAWMXeao3oujURH7jI31N9NlnBx3o-Qy3i2T8kupg=s64",
      "userId": "10798398878324948542"
     },
     "user_tz": -330
    },
    "id": "iYlg639Gox0M",
    "outputId": "89fcf8a6-85fc-40c0-a8ee-31b992f9ec5f"
   },
   "outputs": [
    {
     "name": "stdout",
     "output_type": "stream",
     "text": [
      "Number of holidays: 273\n"
     ]
    }
   ],
   "source": [
    "# Create list of holidays\n",
    "year_list = list(combined_df['rel_year'].unique())\n",
    "year_list.append(min(year_list) - 1)\n",
    "year_list.append(max(year_list) + 1)\n",
    "year_list.sort()\n",
    "\n",
    "holiday_list = []\n",
    "for ptr in holidays.Australia(years = year_list).items():\n",
    "    holiday_list.append(ptr[0])\n",
    "\n",
    "holiday_list.sort()\n",
    "print(\"Number of holidays: {}\".format(len(holiday_list)))"
   ]
  },
  {
   "cell_type": "code",
   "execution_count": 24,
   "metadata": {
    "colab": {},
    "colab_type": "code",
    "id": "qZVWu5szbDmo"
   },
   "outputs": [],
   "source": [
    "# Get days difference between \"Timestamp\" field, and last/next holiday\n",
    "combined_df['release_date'] = combined_df['Timestamp'].map(lambda x: pd.to_datetime(x).date())\n",
    "combined_df['last_holiday'] = combined_df['Timestamp'].map(lambda x: holiday_list[bisect_left(holiday_list, pd.to_datetime(x))] \n",
    "                                                           if holiday_list[bisect_left(holiday_list, pd.to_datetime(x))] == pd.to_datetime(x) \n",
    "                                                           else holiday_list[bisect_left(holiday_list, pd.to_datetime(x)) - 1])\n",
    "combined_df['next_holiday'] = combined_df['Timestamp'].map(lambda x: holiday_list[bisect_right(holiday_list, pd.to_datetime(x))])\n",
    "combined_df['days_frm_last_holiday'] = (combined_df['release_date'] - combined_df['last_holiday'])/np.timedelta64(1,'D')\n",
    "combined_df['days_to_next_holiday'] = (combined_df['next_holiday'] - combined_df['release_date'])/np.timedelta64(1,'D')"
   ]
  },
  {
   "cell_type": "code",
   "execution_count": 25,
   "metadata": {
    "colab": {
     "base_uri": "https://localhost:8080/",
     "height": 34
    },
    "colab_type": "code",
    "executionInfo": {
     "elapsed": 1206,
     "status": "ok",
     "timestamp": 1577716400417,
     "user": {
      "displayName": "TAPAS DAS",
      "photoUrl": "https://lh3.googleusercontent.com/a-/AAuE7mAWMXeao3oujURH7jI31N9NlnBx3o-Qy3i2T8kupg=s64",
      "userId": "10798398878324948542"
     },
     "user_tz": -330
    },
    "id": "AbhB9JZ3jPGw",
    "outputId": "2eb54bf2-81b2-4197-82b1-229aca2f0c86"
   },
   "outputs": [
    {
     "name": "stdout",
     "output_type": "stream",
     "text": [
      "Number of features: 19\n"
     ]
    }
   ],
   "source": [
    "# Drop redundant fields\n",
    "combined_df.drop(['Timestamp', 'release_date', 'last_holiday', 'next_holiday'], inplace=True, axis=1)\n",
    "print(\"Number of features: {}\".format(combined_df.shape[1]))"
   ]
  },
  {
   "cell_type": "code",
   "execution_count": 26,
   "metadata": {
    "colab": {
     "base_uri": "https://localhost:8080/",
     "height": 34
    },
    "colab_type": "code",
    "executionInfo": {
     "elapsed": 3445,
     "status": "ok",
     "timestamp": 1577716451052,
     "user": {
      "displayName": "TAPAS DAS",
      "photoUrl": "https://lh3.googleusercontent.com/a-/AAuE7mAWMXeao3oujURH7jI31N9NlnBx3o-Qy3i2T8kupg=s64",
      "userId": "10798398878324948542"
     },
     "user_tz": -330
    },
    "id": "qvXh2T4O3lM4",
    "outputId": "8c1855bc-6dcf-4e4c-ba4e-54580981813b"
   },
   "outputs": [
    {
     "name": "stdout",
     "output_type": "stream",
     "text": [
      "Number of features: 28\n"
     ]
    }
   ],
   "source": [
    "# Number of words in the \"Name\" field\n",
    "combined_df[\"Name_num_words\"] = combined_df[\"Name\"].apply(lambda x: len(str(x).split()))\n",
    "\n",
    "# Number of unique words in the \"Name\" field\n",
    "combined_df[\"Name_num_unique_words\"] = combined_df[\"Name\"].apply(lambda x: len(set(str(x).split())))\n",
    "\n",
    "# Number of characters in the \"Name\" field\n",
    "combined_df[\"Name_num_chars\"] = combined_df[\"Name\"].apply(lambda x: len(str(x)))\n",
    "\n",
    "# Number of stopwords in the \"Name\" field\n",
    "stop = stopwords.words('english')\n",
    "combined_df[\"Name_num_stopwords\"] = combined_df[\"Name\"].apply(lambda x: len([w for w in str(x).lower().split() if w in stop]))\n",
    "\n",
    "# Number of punctuations in the \"Name\" field\n",
    "combined_df[\"Name_num_punctuations\"] =combined_df['Name'].apply(lambda x: len([c for c in str(x) if c in string.punctuation]))\n",
    "\n",
    "# Number of emojis in the \"Name\" field\n",
    "combined_df[\"Name_num_emojis\"] =combined_df['Name'].apply(lambda x: len([c for c in str(x) if c in emoji.UNICODE_EMOJI]))\n",
    "\n",
    "# Number of title case words in the \"Name\" field\n",
    "combined_df[\"Name_num_words_upper\"] = combined_df[\"Name\"].apply(lambda x: len([w for w in str(x).split() if w.isupper()]))\n",
    "\n",
    "# Number of title case words in the \"Name\" field\n",
    "combined_df[\"Name_num_words_title\"] = combined_df[\"Name\"].apply(lambda x: len([w for w in str(x).split() if w.istitle()]))\n",
    "\n",
    "# Average length of the words in the \"Name\" field\n",
    "combined_df[\"Name_mean_word_len\"] = combined_df[\"Name\"].apply(lambda x: np.mean([len(w) for w in str(x).split()]))\n",
    "\n",
    "print(\"Number of features: {}\".format(combined_df.shape[1]))"
   ]
  },
  {
   "cell_type": "code",
   "execution_count": 27,
   "metadata": {
    "colab": {
     "base_uri": "https://localhost:8080/",
     "height": 450
    },
    "colab_type": "code",
    "executionInfo": {
     "elapsed": 565403,
     "status": "ok",
     "timestamp": 1577717021627,
     "user": {
      "displayName": "TAPAS DAS",
      "photoUrl": "https://lh3.googleusercontent.com/a-/AAuE7mAWMXeao3oujURH7jI31N9NlnBx3o-Qy3i2T8kupg=s64",
      "userId": "10798398878324948542"
     },
     "user_tz": -330
    },
    "id": "8de9lIHkBsvv",
    "outputId": "d2f5733c-fb46-45b6-facc-bac81d70bc35"
   },
   "outputs": [
    {
     "data": {
      "text/html": [
       "<div>\n",
       "<style scoped>\n",
       "    .dataframe tbody tr th:only-of-type {\n",
       "        vertical-align: middle;\n",
       "    }\n",
       "\n",
       "    .dataframe tbody tr th {\n",
       "        vertical-align: top;\n",
       "    }\n",
       "\n",
       "    .dataframe thead th {\n",
       "        text-align: right;\n",
       "    }\n",
       "</style>\n",
       "<table border=\"1\" class=\"dataframe\">\n",
       "  <thead>\n",
       "    <tr style=\"text-align: right;\">\n",
       "      <th></th>\n",
       "      <th>Name</th>\n",
       "      <th>Genre</th>\n",
       "      <th>Song_Name</th>\n",
       "      <th>Comments</th>\n",
       "      <th>Likes</th>\n",
       "      <th>Popularity</th>\n",
       "      <th>Followers</th>\n",
       "      <th>rel_year</th>\n",
       "      <th>rel_quarter</th>\n",
       "      <th>rel_month</th>\n",
       "      <th>...</th>\n",
       "      <th>Name_num_chars</th>\n",
       "      <th>Name_num_stopwords</th>\n",
       "      <th>Name_num_punctuations</th>\n",
       "      <th>Name_num_emojis</th>\n",
       "      <th>Name_num_words_upper</th>\n",
       "      <th>Name_num_words_title</th>\n",
       "      <th>Name_mean_word_len</th>\n",
       "      <th>token</th>\n",
       "      <th>lemmatized</th>\n",
       "      <th>Processed_Name</th>\n",
       "    </tr>\n",
       "  </thead>\n",
       "  <tbody>\n",
       "    <tr>\n",
       "      <td>0</td>\n",
       "      <td>Hardstyle</td>\n",
       "      <td>danceedm</td>\n",
       "      <td>N-Vitral presents BOMBSQUAD - Poison Spitter (...</td>\n",
       "      <td>4</td>\n",
       "      <td>499</td>\n",
       "      <td>97</td>\n",
       "      <td>119563</td>\n",
       "      <td>2018</td>\n",
       "      <td>1</td>\n",
       "      <td>3</td>\n",
       "      <td>...</td>\n",
       "      <td>9</td>\n",
       "      <td>0</td>\n",
       "      <td>0</td>\n",
       "      <td>0</td>\n",
       "      <td>0</td>\n",
       "      <td>1</td>\n",
       "      <td>9.000000</td>\n",
       "      <td>hardstyle</td>\n",
       "      <td>hardstyle</td>\n",
       "      <td>hardstyle</td>\n",
       "    </tr>\n",
       "    <tr>\n",
       "      <td>1</td>\n",
       "      <td>Dj Aladdin</td>\n",
       "      <td>danceedm</td>\n",
       "      <td>Dj Aladdin - Old School Hip Hop Quick Mix</td>\n",
       "      <td>17</td>\n",
       "      <td>49</td>\n",
       "      <td>17</td>\n",
       "      <td>2141</td>\n",
       "      <td>2016</td>\n",
       "      <td>2</td>\n",
       "      <td>6</td>\n",
       "      <td>...</td>\n",
       "      <td>10</td>\n",
       "      <td>0</td>\n",
       "      <td>0</td>\n",
       "      <td>0</td>\n",
       "      <td>0</td>\n",
       "      <td>2</td>\n",
       "      <td>4.500000</td>\n",
       "      <td>dj aladdin</td>\n",
       "      <td>dj aladdin</td>\n",
       "      <td>dj aladdin</td>\n",
       "    </tr>\n",
       "    <tr>\n",
       "      <td>2</td>\n",
       "      <td>Maxximize On Air</td>\n",
       "      <td>danceedm</td>\n",
       "      <td>Maxximize On Air - Mixed by Blasterjaxx - Epis...</td>\n",
       "      <td>11</td>\n",
       "      <td>312</td>\n",
       "      <td>91</td>\n",
       "      <td>22248</td>\n",
       "      <td>2015</td>\n",
       "      <td>2</td>\n",
       "      <td>5</td>\n",
       "      <td>...</td>\n",
       "      <td>16</td>\n",
       "      <td>1</td>\n",
       "      <td>0</td>\n",
       "      <td>0</td>\n",
       "      <td>0</td>\n",
       "      <td>3</td>\n",
       "      <td>4.666667</td>\n",
       "      <td>maxximize on air</td>\n",
       "      <td>maxximize on air</td>\n",
       "      <td>maxximize air</td>\n",
       "    </tr>\n",
       "    <tr>\n",
       "      <td>3</td>\n",
       "      <td>GR6 EXPLODE</td>\n",
       "      <td>rbsoul</td>\n",
       "      <td>MC Yago - Tenho Compromisso (DJ R7)</td>\n",
       "      <td>2</td>\n",
       "      <td>2,400</td>\n",
       "      <td>76</td>\n",
       "      <td>393655</td>\n",
       "      <td>2017</td>\n",
       "      <td>2</td>\n",
       "      <td>6</td>\n",
       "      <td>...</td>\n",
       "      <td>11</td>\n",
       "      <td>0</td>\n",
       "      <td>0</td>\n",
       "      <td>0</td>\n",
       "      <td>2</td>\n",
       "      <td>0</td>\n",
       "      <td>5.000000</td>\n",
       "      <td>gr6 explode</td>\n",
       "      <td>gr6 explode</td>\n",
       "      <td>explode</td>\n",
       "    </tr>\n",
       "    <tr>\n",
       "      <td>4</td>\n",
       "      <td>Tritonal</td>\n",
       "      <td>danceedm</td>\n",
       "      <td>Escape (feat. Steph Jones)</td>\n",
       "      <td>81</td>\n",
       "      <td>3,031</td>\n",
       "      <td>699</td>\n",
       "      <td>201030</td>\n",
       "      <td>2016</td>\n",
       "      <td>3</td>\n",
       "      <td>9</td>\n",
       "      <td>...</td>\n",
       "      <td>8</td>\n",
       "      <td>0</td>\n",
       "      <td>0</td>\n",
       "      <td>0</td>\n",
       "      <td>0</td>\n",
       "      <td>1</td>\n",
       "      <td>8.000000</td>\n",
       "      <td>tritonal</td>\n",
       "      <td>tritonal</td>\n",
       "      <td>tritonal</td>\n",
       "    </tr>\n",
       "  </tbody>\n",
       "</table>\n",
       "<p>5 rows × 31 columns</p>\n",
       "</div>"
      ],
      "text/plain": [
       "               Name     Genre  \\\n",
       "0         Hardstyle  danceedm   \n",
       "1        Dj Aladdin  danceedm   \n",
       "2  Maxximize On Air  danceedm   \n",
       "3       GR6 EXPLODE    rbsoul   \n",
       "4          Tritonal  danceedm   \n",
       "\n",
       "                                           Song_Name  Comments  Likes  \\\n",
       "0  N-Vitral presents BOMBSQUAD - Poison Spitter (...         4    499   \n",
       "1          Dj Aladdin - Old School Hip Hop Quick Mix        17     49   \n",
       "2  Maxximize On Air - Mixed by Blasterjaxx - Epis...        11    312   \n",
       "3                MC Yago - Tenho Compromisso (DJ R7)         2  2,400   \n",
       "4                         Escape (feat. Steph Jones)        81  3,031   \n",
       "\n",
       "  Popularity  Followers  rel_year  rel_quarter  rel_month  ...  \\\n",
       "0         97     119563      2018            1          3  ...   \n",
       "1         17       2141      2016            2          6  ...   \n",
       "2         91      22248      2015            2          5  ...   \n",
       "3         76     393655      2017            2          6  ...   \n",
       "4        699     201030      2016            3          9  ...   \n",
       "\n",
       "   Name_num_chars  Name_num_stopwords  Name_num_punctuations  Name_num_emojis  \\\n",
       "0               9                   0                      0                0   \n",
       "1              10                   0                      0                0   \n",
       "2              16                   1                      0                0   \n",
       "3              11                   0                      0                0   \n",
       "4               8                   0                      0                0   \n",
       "\n",
       "   Name_num_words_upper  Name_num_words_title  Name_mean_word_len  \\\n",
       "0                     0                     1            9.000000   \n",
       "1                     0                     2            4.500000   \n",
       "2                     0                     3            4.666667   \n",
       "3                     2                     0            5.000000   \n",
       "4                     0                     1            8.000000   \n",
       "\n",
       "              token        lemmatized  Processed_Name  \n",
       "0         hardstyle         hardstyle       hardstyle  \n",
       "1        dj aladdin        dj aladdin      dj aladdin  \n",
       "2  maxximize on air  maxximize on air   maxximize air  \n",
       "3       gr6 explode       gr6 explode         explode  \n",
       "4          tritonal          tritonal        tritonal  \n",
       "\n",
       "[5 rows x 31 columns]"
      ]
     },
     "execution_count": 27,
     "metadata": {},
     "output_type": "execute_result"
    }
   ],
   "source": [
    "# Apply basis pre-processing on 'Name' field\n",
    "combined_df = nlp(combined_df, \"Name\")\n",
    "\n",
    "# Lemmatize the 'token' field\n",
    "combined_df['lemmatized'] = combined_df['token'].apply(lambda x: lemma_function(x))\n",
    "\n",
    "# Remove any stop-words in 'lemmatized' field\n",
    "stop = stopwords.words('english')\n",
    "combined_df['Processed_Name'] = combined_df['lemmatized'].apply(lambda x: \" \".join(x for x in x.split() if x not in stop))\n",
    "\n",
    "# Remove numbers in 'lemmatized' field\n",
    "combined_df['Processed_Name'] = combined_df['Processed_Name'].apply(lambda x: \" \".join(x for x in x.split() if x.isalpha()))\n",
    "combined_df.head()"
   ]
  },
  {
   "cell_type": "code",
   "execution_count": 28,
   "metadata": {
    "colab": {
     "base_uri": "https://localhost:8080/",
     "height": 34
    },
    "colab_type": "code",
    "executionInfo": {
     "elapsed": 1276,
     "status": "ok",
     "timestamp": 1577717204229,
     "user": {
      "displayName": "TAPAS DAS",
      "photoUrl": "https://lh3.googleusercontent.com/a-/AAuE7mAWMXeao3oujURH7jI31N9NlnBx3o-Qy3i2T8kupg=s64",
      "userId": "10798398878324948542"
     },
     "user_tz": -330
    },
    "id": "HybgSVRJBsv1",
    "outputId": "33eaf18f-5a91-4888-dc6c-bdf74bdf61ca"
   },
   "outputs": [
    {
     "name": "stdout",
     "output_type": "stream",
     "text": [
      "Number of features: 28\n"
     ]
    }
   ],
   "source": [
    "# Drop redundant fields\n",
    "combined_df.drop(['Name', 'token', 'lemmatized'], inplace=True, axis=1)\n",
    "print(\"Number of features: {}\".format(combined_df.shape[1]))"
   ]
  },
  {
   "cell_type": "code",
   "execution_count": 29,
   "metadata": {
    "colab": {
     "base_uri": "https://localhost:8080/",
     "height": 34
    },
    "colab_type": "code",
    "executionInfo": {
     "elapsed": 1820,
     "status": "ok",
     "timestamp": 1577717206585,
     "user": {
      "displayName": "TAPAS DAS",
      "photoUrl": "https://lh3.googleusercontent.com/a-/AAuE7mAWMXeao3oujURH7jI31N9NlnBx3o-Qy3i2T8kupg=s64",
      "userId": "10798398878324948542"
     },
     "user_tz": -330
    },
    "id": "lvhfrXDUBsv6",
    "outputId": "bcc4ef7c-97d3-46f6-8a0a-71063a29f821"
   },
   "outputs": [
    {
     "name": "stdout",
     "output_type": "stream",
     "text": [
      "Number of features: 228\n"
     ]
    }
   ],
   "source": [
    "# Fit transform the TF-IDF vectorizer on \"Name\" field\n",
    "tfidf_vec = TfidfVectorizer(stop_words='english', ngram_range=(1,4), max_features=200)\n",
    "name_tfidf = tfidf_vec.fit_transform(combined_df[\"Processed_Name\"].values.tolist())\n",
    "name_tfidf = pd.DataFrame(name_tfidf.toarray(), columns=tfidf_vec.get_feature_names())\n",
    "combined_df = pd.concat([combined_df, name_tfidf], axis=1)\n",
    "print(\"Number of features: {}\".format(combined_df.shape[1]))"
   ]
  },
  {
   "cell_type": "code",
   "execution_count": 30,
   "metadata": {
    "colab": {
     "base_uri": "https://localhost:8080/",
     "height": 34
    },
    "colab_type": "code",
    "executionInfo": {
     "elapsed": 4729,
     "status": "ok",
     "timestamp": 1577717212353,
     "user": {
      "displayName": "TAPAS DAS",
      "photoUrl": "https://lh3.googleusercontent.com/a-/AAuE7mAWMXeao3oujURH7jI31N9NlnBx3o-Qy3i2T8kupg=s64",
      "userId": "10798398878324948542"
     },
     "user_tz": -330
    },
    "id": "yJKqu3meBsv_",
    "outputId": "7048c65d-0571-41cf-cf4a-583b25c3a3f8"
   },
   "outputs": [
    {
     "name": "stdout",
     "output_type": "stream",
     "text": [
      "Number of features: 428\n"
     ]
    }
   ],
   "source": [
    "# Fit transform the Count Vectorizer on \"Name\" field\n",
    "count_vec = CountVectorizer(ngram_range=(1,7), analyzer='char', max_features=200)\n",
    "name_vec = count_vec.fit_transform(combined_df[\"Processed_Name\"].values.tolist())\n",
    "name_vec = pd.DataFrame(name_vec.toarray(), columns=count_vec.get_feature_names())\n",
    "combined_df = pd.concat([combined_df, name_vec], axis=1)\n",
    "print(\"Number of features: {}\".format(combined_df.shape[1]))"
   ]
  },
  {
   "cell_type": "code",
   "execution_count": 0,
   "metadata": {
    "colab": {
     "base_uri": "https://localhost:8080/",
     "height": 34
    },
    "colab_type": "code",
    "executionInfo": {
     "elapsed": 2331,
     "status": "ok",
     "timestamp": 1577717215771,
     "user": {
      "displayName": "TAPAS DAS",
      "photoUrl": "https://lh3.googleusercontent.com/a-/AAuE7mAWMXeao3oujURH7jI31N9NlnBx3o-Qy3i2T8kupg=s64",
      "userId": "10798398878324948542"
     },
     "user_tz": -330
    },
    "id": "LcJq0QUvBswE",
    "outputId": "486d02f6-e990-428a-d226-191621d93a11"
   },
   "outputs": [
    {
     "name": "stdout",
     "output_type": "stream",
     "text": [
      "Number of features: 1433\n"
     ]
    }
   ],
   "source": [
    "# One-hot encoding for \"Name\" field\n",
    "#dummy_val = pd.get_dummies(combined_df['Processed_Name'], prefix='Name')\n",
    "#combined_df = pd.concat([combined_df, dummy_val], axis=1)\n",
    "#print(\"Number of features: {}\".format(combined_df.shape[1]))"
   ]
  },
  {
   "cell_type": "code",
   "execution_count": 31,
   "metadata": {
    "colab": {
     "base_uri": "https://localhost:8080/",
     "height": 34
    },
    "colab_type": "code",
    "executionInfo": {
     "elapsed": 1789,
     "status": "ok",
     "timestamp": 1577717217777,
     "user": {
      "displayName": "TAPAS DAS",
      "photoUrl": "https://lh3.googleusercontent.com/a-/AAuE7mAWMXeao3oujURH7jI31N9NlnBx3o-Qy3i2T8kupg=s64",
      "userId": "10798398878324948542"
     },
     "user_tz": -330
    },
    "id": "yH2v6E52BswL",
    "outputId": "c3913215-e14a-414e-b718-f8419f8e149b"
   },
   "outputs": [
    {
     "name": "stdout",
     "output_type": "stream",
     "text": [
      "Number of features: 449\n"
     ]
    }
   ],
   "source": [
    "# One-hot encoding for \"Genre\" field\n",
    "dummy_val = pd.get_dummies(combined_df['Genre'], prefix='Name')\n",
    "combined_df = pd.concat([combined_df, dummy_val], axis=1)\n",
    "print(\"Number of features: {}\".format(combined_df.shape[1]))"
   ]
  },
  {
   "cell_type": "code",
   "execution_count": 32,
   "metadata": {
    "colab": {
     "base_uri": "https://localhost:8080/",
     "height": 34
    },
    "colab_type": "code",
    "executionInfo": {
     "elapsed": 5657,
     "status": "ok",
     "timestamp": 1577717224498,
     "user": {
      "displayName": "TAPAS DAS",
      "photoUrl": "https://lh3.googleusercontent.com/a-/AAuE7mAWMXeao3oujURH7jI31N9NlnBx3o-Qy3i2T8kupg=s64",
      "userId": "10798398878324948542"
     },
     "user_tz": -330
    },
    "id": "15RgfyelBswR",
    "outputId": "e102c6e8-d59b-4b9d-a9d7-8fa9c892ddbc"
   },
   "outputs": [
    {
     "name": "stdout",
     "output_type": "stream",
     "text": [
      "Number of features: 458\n"
     ]
    }
   ],
   "source": [
    "# Number of words in the \"Song_Name\" field\n",
    "combined_df[\"Song_num_words\"] = combined_df[\"Song_Name\"].apply(lambda x: len(str(x).split()))\n",
    "\n",
    "# Number of unique words in the \"Song_Name\" field\n",
    "combined_df[\"Song_num_unique_words\"] = combined_df[\"Song_Name\"].apply(lambda x: len(set(str(x).split())))\n",
    "\n",
    "# Number of characters in the \"Song_Name\" field\n",
    "combined_df[\"Song_num_chars\"] = combined_df[\"Song_Name\"].apply(lambda x: len(str(x)))\n",
    "\n",
    "# Number of stopwords in the \"Song_Name\" field\n",
    "stop = stopwords.words('english')\n",
    "combined_df[\"Song_num_stopwords\"] = combined_df[\"Song_Name\"].apply(lambda x: len([w for w in str(x).lower().split() if w in stop]))\n",
    "\n",
    "# Number of punctuations in the \"Song_Name\" field\n",
    "combined_df[\"Song_num_punctuations\"] =combined_df['Song_Name'].apply(lambda x: len([c for c in str(x) if c in string.punctuation]))\n",
    "\n",
    "# Number of emojis in the \"Song_Name\" field\n",
    "combined_df[\"Song_num_emojis\"] =combined_df['Song_Name'].apply(lambda x: len([c for c in str(x) if c in emoji.UNICODE_EMOJI]))\n",
    "\n",
    "# Number of title case words in the \"Song_Name\" field\n",
    "combined_df[\"Song_num_words_upper\"] = combined_df[\"Song_Name\"].apply(lambda x: len([w for w in str(x).split() if w.isupper()]))\n",
    "\n",
    "# Number of title case words in the \"Song_Name\" field\n",
    "combined_df[\"Song_num_words_title\"] = combined_df[\"Song_Name\"].apply(lambda x: len([w for w in str(x).split() if w.istitle()]))\n",
    "\n",
    "# Average length of the words in the \"Song_Name\" field\n",
    "combined_df[\"Song_mean_word_len\"] = combined_df[\"Song_Name\"].apply(lambda x: np.mean([len(w) for w in str(x).split()]))\n",
    "\n",
    "print(\"Number of features: {}\".format(combined_df.shape[1]))"
   ]
  },
  {
   "cell_type": "code",
   "execution_count": 33,
   "metadata": {
    "colab": {
     "base_uri": "https://localhost:8080/",
     "height": 530
    },
    "colab_type": "code",
    "executionInfo": {
     "elapsed": 666213,
     "status": "ok",
     "timestamp": 1577717892024,
     "user": {
      "displayName": "TAPAS DAS",
      "photoUrl": "https://lh3.googleusercontent.com/a-/AAuE7mAWMXeao3oujURH7jI31N9NlnBx3o-Qy3i2T8kupg=s64",
      "userId": "10798398878324948542"
     },
     "user_tz": -330
    },
    "id": "t_AbGxFeBswY",
    "outputId": "977adf00-e7fb-4775-cfe7-c28ba93c8375"
   },
   "outputs": [
    {
     "data": {
      "text/html": [
       "<div>\n",
       "<style scoped>\n",
       "    .dataframe tbody tr th:only-of-type {\n",
       "        vertical-align: middle;\n",
       "    }\n",
       "\n",
       "    .dataframe tbody tr th {\n",
       "        vertical-align: top;\n",
       "    }\n",
       "\n",
       "    .dataframe thead th {\n",
       "        text-align: right;\n",
       "    }\n",
       "</style>\n",
       "<table border=\"1\" class=\"dataframe\">\n",
       "  <thead>\n",
       "    <tr style=\"text-align: right;\">\n",
       "      <th></th>\n",
       "      <th>Genre</th>\n",
       "      <th>Song_Name</th>\n",
       "      <th>Comments</th>\n",
       "      <th>Likes</th>\n",
       "      <th>Popularity</th>\n",
       "      <th>Followers</th>\n",
       "      <th>rel_year</th>\n",
       "      <th>rel_quarter</th>\n",
       "      <th>rel_month</th>\n",
       "      <th>rel_week</th>\n",
       "      <th>...</th>\n",
       "      <th>Song_num_unique_words</th>\n",
       "      <th>Song_num_chars</th>\n",
       "      <th>Song_num_stopwords</th>\n",
       "      <th>Song_num_punctuations</th>\n",
       "      <th>Song_num_emojis</th>\n",
       "      <th>Song_num_words_upper</th>\n",
       "      <th>Song_num_words_title</th>\n",
       "      <th>Song_mean_word_len</th>\n",
       "      <th>token</th>\n",
       "      <th>lemmatized</th>\n",
       "    </tr>\n",
       "  </thead>\n",
       "  <tbody>\n",
       "    <tr>\n",
       "      <td>0</td>\n",
       "      <td>danceedm</td>\n",
       "      <td>N-Vitral presents BOMBSQUAD - Poison Spitter (...</td>\n",
       "      <td>4</td>\n",
       "      <td>499</td>\n",
       "      <td>97</td>\n",
       "      <td>119563</td>\n",
       "      <td>2018</td>\n",
       "      <td>1</td>\n",
       "      <td>3</td>\n",
       "      <td>13</td>\n",
       "      <td>...</td>\n",
       "      <td>9</td>\n",
       "      <td>67</td>\n",
       "      <td>0</td>\n",
       "      <td>4</td>\n",
       "      <td>0</td>\n",
       "      <td>1</td>\n",
       "      <td>5</td>\n",
       "      <td>6.555556</td>\n",
       "      <td>n vitral presents bombsquad   poison spitter  ...</td>\n",
       "      <td>n vitral presents bombsquad    poison spitter ...</td>\n",
       "    </tr>\n",
       "    <tr>\n",
       "      <td>1</td>\n",
       "      <td>danceedm</td>\n",
       "      <td>Dj Aladdin - Old School Hip Hop Quick Mix</td>\n",
       "      <td>17</td>\n",
       "      <td>49</td>\n",
       "      <td>17</td>\n",
       "      <td>2141</td>\n",
       "      <td>2016</td>\n",
       "      <td>2</td>\n",
       "      <td>6</td>\n",
       "      <td>25</td>\n",
       "      <td>...</td>\n",
       "      <td>9</td>\n",
       "      <td>41</td>\n",
       "      <td>0</td>\n",
       "      <td>1</td>\n",
       "      <td>0</td>\n",
       "      <td>0</td>\n",
       "      <td>8</td>\n",
       "      <td>3.666667</td>\n",
       "      <td>dj aladdin   old school hip hop quick mix</td>\n",
       "      <td>dj aladdin    old school hip hop quick mix</td>\n",
       "    </tr>\n",
       "    <tr>\n",
       "      <td>2</td>\n",
       "      <td>danceedm</td>\n",
       "      <td>Maxximize On Air - Mixed by Blasterjaxx - Epis...</td>\n",
       "      <td>11</td>\n",
       "      <td>312</td>\n",
       "      <td>91</td>\n",
       "      <td>22248</td>\n",
       "      <td>2015</td>\n",
       "      <td>2</td>\n",
       "      <td>5</td>\n",
       "      <td>19</td>\n",
       "      <td>...</td>\n",
       "      <td>9</td>\n",
       "      <td>54</td>\n",
       "      <td>2</td>\n",
       "      <td>3</td>\n",
       "      <td>0</td>\n",
       "      <td>0</td>\n",
       "      <td>6</td>\n",
       "      <td>4.500000</td>\n",
       "      <td>maxximize on air   mixed by blasterjaxx   epis...</td>\n",
       "      <td>maxximize on air    mix by blasterjaxx    epis...</td>\n",
       "    </tr>\n",
       "    <tr>\n",
       "      <td>3</td>\n",
       "      <td>rbsoul</td>\n",
       "      <td>MC Yago - Tenho Compromisso (DJ R7)</td>\n",
       "      <td>2</td>\n",
       "      <td>2,400</td>\n",
       "      <td>76</td>\n",
       "      <td>393655</td>\n",
       "      <td>2017</td>\n",
       "      <td>2</td>\n",
       "      <td>6</td>\n",
       "      <td>23</td>\n",
       "      <td>...</td>\n",
       "      <td>7</td>\n",
       "      <td>35</td>\n",
       "      <td>0</td>\n",
       "      <td>3</td>\n",
       "      <td>0</td>\n",
       "      <td>3</td>\n",
       "      <td>4</td>\n",
       "      <td>4.142857</td>\n",
       "      <td>mc yago   tenho compromisso  dj r7</td>\n",
       "      <td>mc yago    tenho compromisso   dj r7</td>\n",
       "    </tr>\n",
       "    <tr>\n",
       "      <td>4</td>\n",
       "      <td>danceedm</td>\n",
       "      <td>Escape (feat. Steph Jones)</td>\n",
       "      <td>81</td>\n",
       "      <td>3,031</td>\n",
       "      <td>699</td>\n",
       "      <td>201030</td>\n",
       "      <td>2016</td>\n",
       "      <td>3</td>\n",
       "      <td>9</td>\n",
       "      <td>37</td>\n",
       "      <td>...</td>\n",
       "      <td>4</td>\n",
       "      <td>26</td>\n",
       "      <td>0</td>\n",
       "      <td>3</td>\n",
       "      <td>0</td>\n",
       "      <td>0</td>\n",
       "      <td>3</td>\n",
       "      <td>5.750000</td>\n",
       "      <td>escape  feat  steph jones</td>\n",
       "      <td>escape   feat   steph jones</td>\n",
       "    </tr>\n",
       "  </tbody>\n",
       "</table>\n",
       "<p>5 rows × 460 columns</p>\n",
       "</div>"
      ],
      "text/plain": [
       "      Genre                                          Song_Name  Comments  \\\n",
       "0  danceedm  N-Vitral presents BOMBSQUAD - Poison Spitter (...         4   \n",
       "1  danceedm          Dj Aladdin - Old School Hip Hop Quick Mix        17   \n",
       "2  danceedm  Maxximize On Air - Mixed by Blasterjaxx - Epis...        11   \n",
       "3    rbsoul                MC Yago - Tenho Compromisso (DJ R7)         2   \n",
       "4  danceedm                         Escape (feat. Steph Jones)        81   \n",
       "\n",
       "   Likes Popularity  Followers  rel_year  rel_quarter  rel_month  rel_week  \\\n",
       "0    499         97     119563      2018            1          3        13   \n",
       "1     49         17       2141      2016            2          6        25   \n",
       "2    312         91      22248      2015            2          5        19   \n",
       "3  2,400         76     393655      2017            2          6        23   \n",
       "4  3,031        699     201030      2016            3          9        37   \n",
       "\n",
       "   ...  Song_num_unique_words  Song_num_chars  Song_num_stopwords  \\\n",
       "0  ...                      9              67                   0   \n",
       "1  ...                      9              41                   0   \n",
       "2  ...                      9              54                   2   \n",
       "3  ...                      7              35                   0   \n",
       "4  ...                      4              26                   0   \n",
       "\n",
       "   Song_num_punctuations  Song_num_emojis  Song_num_words_upper  \\\n",
       "0                      4                0                     1   \n",
       "1                      1                0                     0   \n",
       "2                      3                0                     0   \n",
       "3                      3                0                     3   \n",
       "4                      3                0                     0   \n",
       "\n",
       "   Song_num_words_title  Song_mean_word_len  \\\n",
       "0                     5            6.555556   \n",
       "1                     8            3.666667   \n",
       "2                     6            4.500000   \n",
       "3                     4            4.142857   \n",
       "4                     3            5.750000   \n",
       "\n",
       "                                               token  \\\n",
       "0  n vitral presents bombsquad   poison spitter  ...   \n",
       "1          dj aladdin   old school hip hop quick mix   \n",
       "2  maxximize on air   mixed by blasterjaxx   epis...   \n",
       "3                mc yago   tenho compromisso  dj r7    \n",
       "4                         escape  feat  steph jones    \n",
       "\n",
       "                                          lemmatized  \n",
       "0  n vitral presents bombsquad    poison spitter ...  \n",
       "1         dj aladdin    old school hip hop quick mix  \n",
       "2  maxximize on air    mix by blasterjaxx    epis...  \n",
       "3               mc yago    tenho compromisso   dj r7  \n",
       "4                        escape   feat   steph jones  \n",
       "\n",
       "[5 rows x 460 columns]"
      ]
     },
     "execution_count": 33,
     "metadata": {},
     "output_type": "execute_result"
    }
   ],
   "source": [
    "# Apply basis pre-processing on 'Song_Name' field\n",
    "combined_df = nlp(combined_df, \"Song_Name\")\n",
    "\n",
    "# Lemmatize the 'token' field\n",
    "combined_df['lemmatized'] = combined_df['token'].apply(lambda x: lemma_function(x))\n",
    "\n",
    "# Remove any stop-words in 'lemmatized' field\n",
    "stop = stopwords.words('english')\n",
    "combined_df['Processed_Name'] = combined_df['lemmatized'].apply(lambda x: \" \".join(x for x in x.split() if x not in stop))\n",
    "\n",
    "# Remove numbers in 'lemmatized' field\n",
    "combined_df['Processed_Name'] = combined_df['Processed_Name'].apply(lambda x: \" \".join(x for x in x.split() if x.isalpha()))\n",
    "combined_df.head()"
   ]
  },
  {
   "cell_type": "code",
   "execution_count": 34,
   "metadata": {
    "colab": {
     "base_uri": "https://localhost:8080/",
     "height": 34
    },
    "colab_type": "code",
    "executionInfo": {
     "elapsed": 1351,
     "status": "ok",
     "timestamp": 1577717925626,
     "user": {
      "displayName": "TAPAS DAS",
      "photoUrl": "https://lh3.googleusercontent.com/a-/AAuE7mAWMXeao3oujURH7jI31N9NlnBx3o-Qy3i2T8kupg=s64",
      "userId": "10798398878324948542"
     },
     "user_tz": -330
    },
    "id": "2esmGceuBswf",
    "outputId": "672d9f25-dde1-44b7-faee-bc9f6ed04972"
   },
   "outputs": [
    {
     "name": "stdout",
     "output_type": "stream",
     "text": [
      "Number of features: 457\n"
     ]
    }
   ],
   "source": [
    "# Drop redundant fields\n",
    "combined_df.drop(['Song_Name', 'token', 'lemmatized'], inplace=True, axis=1)\n",
    "print(\"Number of features: {}\".format(combined_df.shape[1]))"
   ]
  },
  {
   "cell_type": "code",
   "execution_count": 35,
   "metadata": {
    "colab": {
     "base_uri": "https://localhost:8080/",
     "height": 34
    },
    "colab_type": "code",
    "executionInfo": {
     "elapsed": 5705,
     "status": "ok",
     "timestamp": 1577717931698,
     "user": {
      "displayName": "TAPAS DAS",
      "photoUrl": "https://lh3.googleusercontent.com/a-/AAuE7mAWMXeao3oujURH7jI31N9NlnBx3o-Qy3i2T8kupg=s64",
      "userId": "10798398878324948542"
     },
     "user_tz": -330
    },
    "id": "1a1UxtxiBswk",
    "outputId": "2d55dced-d1a1-468f-fd3f-7b0e59bf096f"
   },
   "outputs": [
    {
     "name": "stdout",
     "output_type": "stream",
     "text": [
      "Number of features: 757\n"
     ]
    }
   ],
   "source": [
    "# Fit transform the TF-IDF vectorizer on \"Song_Name\" field\n",
    "tfidf_vec = TfidfVectorizer(stop_words='english', ngram_range=(1,4), max_features=300)\n",
    "name_tfidf = tfidf_vec.fit_transform(combined_df[\"Processed_Name\"].values.tolist())\n",
    "name_tfidf = pd.DataFrame(name_tfidf.toarray(), columns=tfidf_vec.get_feature_names())\n",
    "combined_df = pd.concat([combined_df, name_tfidf], axis=1)\n",
    "print(\"Number of features: {}\".format(combined_df.shape[1]))"
   ]
  },
  {
   "cell_type": "code",
   "execution_count": 36,
   "metadata": {
    "colab": {
     "base_uri": "https://localhost:8080/",
     "height": 34
    },
    "colab_type": "code",
    "executionInfo": {
     "elapsed": 21476,
     "status": "ok",
     "timestamp": 1577717950134,
     "user": {
      "displayName": "TAPAS DAS",
      "photoUrl": "https://lh3.googleusercontent.com/a-/AAuE7mAWMXeao3oujURH7jI31N9NlnBx3o-Qy3i2T8kupg=s64",
      "userId": "10798398878324948542"
     },
     "user_tz": -330
    },
    "id": "IyNHIkbSBswp",
    "outputId": "245fd116-6ae0-452e-9fae-09ff02cff4da"
   },
   "outputs": [
    {
     "name": "stdout",
     "output_type": "stream",
     "text": [
      "Number of features: 1057\n"
     ]
    }
   ],
   "source": [
    "# Fit transform the Count Vectorizer on \"Song_Name\" field\n",
    "count_vec = CountVectorizer(ngram_range=(1,7), analyzer='char', max_features=300)\n",
    "name_vec = count_vec.fit_transform(combined_df[\"Processed_Name\"].values.tolist())\n",
    "name_vec = pd.DataFrame(name_vec.toarray(), columns=count_vec.get_feature_names())\n",
    "combined_df = pd.concat([combined_df, name_vec], axis=1)\n",
    "print(\"Number of features: {}\".format(combined_df.shape[1]))"
   ]
  },
  {
   "cell_type": "code",
   "execution_count": 37,
   "metadata": {
    "colab": {
     "base_uri": "https://localhost:8080/",
     "height": 50
    },
    "colab_type": "code",
    "executionInfo": {
     "elapsed": 43080,
     "status": "ok",
     "timestamp": 1577717976647,
     "user": {
      "displayName": "TAPAS DAS",
      "photoUrl": "https://lh3.googleusercontent.com/a-/AAuE7mAWMXeao3oujURH7jI31N9NlnBx3o-Qy3i2T8kupg=s64",
      "userId": "10798398878324948542"
     },
     "user_tz": -330
    },
    "id": "CD69vKSSBswt",
    "outputId": "b9b161f6-da67-4947-80de-aa4ca2c3191b"
   },
   "outputs": [
    {
     "name": "stderr",
     "output_type": "stream",
     "text": [
      "100%|███████████████████████████████████████████████████████████████████████████| 98072/98072 [09:40<00:00, 168.96it/s]\n"
     ]
    },
    {
     "name": "stdout",
     "output_type": "stream",
     "text": [
      "(98072, 300)\n"
     ]
    }
   ],
   "source": [
    "# Create Glove vectors using \"Processed_Name\" field\n",
    "glove_vec = [sent2vec(x) for x in tqdm(combined_df[\"Processed_Name\"].values)]\n",
    "glove_vec_df = pd.DataFrame(np.array(glove_vec))\n",
    "glove_vec_df.columns = ['glove_syn_'+str(i) for i in range(300)]\n",
    "print(glove_vec_df.shape)"
   ]
  },
  {
   "cell_type": "code",
   "execution_count": 38,
   "metadata": {
    "colab": {
     "base_uri": "https://localhost:8080/",
     "height": 34
    },
    "colab_type": "code",
    "executionInfo": {
     "elapsed": 1441,
     "status": "ok",
     "timestamp": 1577717987376,
     "user": {
      "displayName": "TAPAS DAS",
      "photoUrl": "https://lh3.googleusercontent.com/a-/AAuE7mAWMXeao3oujURH7jI31N9NlnBx3o-Qy3i2T8kupg=s64",
      "userId": "10798398878324948542"
     },
     "user_tz": -330
    },
    "id": "1uFXsgzLBswx",
    "outputId": "ce7b0a28-b211-4476-9ca8-30a0a51f0dc8"
   },
   "outputs": [
    {
     "name": "stdout",
     "output_type": "stream",
     "text": [
      "Number of features: 1357\n"
     ]
    }
   ],
   "source": [
    "combined_df = pd.concat([combined_df, glove_vec_df], axis=1)\n",
    "print(\"Number of features: {}\".format(combined_df.shape[1]))"
   ]
  },
  {
   "cell_type": "code",
   "execution_count": 39,
   "metadata": {
    "colab": {
     "base_uri": "https://localhost:8080/",
     "height": 34
    },
    "colab_type": "code",
    "executionInfo": {
     "elapsed": 2246,
     "status": "ok",
     "timestamp": 1577717992600,
     "user": {
      "displayName": "TAPAS DAS",
      "photoUrl": "https://lh3.googleusercontent.com/a-/AAuE7mAWMXeao3oujURH7jI31N9NlnBx3o-Qy3i2T8kupg=s64",
      "userId": "10798398878324948542"
     },
     "user_tz": -330
    },
    "id": "6yfMkFhTBsxH",
    "outputId": "71f1ac98-f4f6-41c2-9ec7-2463328e04c0"
   },
   "outputs": [
    {
     "name": "stdout",
     "output_type": "stream",
     "text": [
      "Number of features: 1357\n"
     ]
    }
   ],
   "source": [
    "# Cleanse data in \"Likes\" field\n",
    "combined_df['Likes'] = combined_df['Likes'].map(lambda x: x.replace(\",\", \"\"))\n",
    "combined_df['Likes'] = (combined_df.Likes.replace(r'[KM]+$', '', regex=True).astype(float) * \n",
    "                        combined_df.Likes.str.extract(r'[\\d\\.]+([KM]+)', expand=False)\n",
    "                        .fillna(1).replace(['K','M'], [10**3, 10**6]).astype(int))\n",
    "print(\"Number of features: {}\".format(combined_df.shape[1]))"
   ]
  },
  {
   "cell_type": "code",
   "execution_count": 40,
   "metadata": {
    "colab": {
     "base_uri": "https://localhost:8080/",
     "height": 34
    },
    "colab_type": "code",
    "executionInfo": {
     "elapsed": 2087,
     "status": "ok",
     "timestamp": 1577717995366,
     "user": {
      "displayName": "TAPAS DAS",
      "photoUrl": "https://lh3.googleusercontent.com/a-/AAuE7mAWMXeao3oujURH7jI31N9NlnBx3o-Qy3i2T8kupg=s64",
      "userId": "10798398878324948542"
     },
     "user_tz": -330
    },
    "id": "US4UjuRGBsxL",
    "outputId": "43c56ce7-06d9-4b1c-dff0-bad77d775e69"
   },
   "outputs": [
    {
     "name": "stdout",
     "output_type": "stream",
     "text": [
      "Number of features: 1357\n"
     ]
    }
   ],
   "source": [
    "# Cleanse data in \"Popularity\" field\n",
    "combined_df['Popularity'] = combined_df['Popularity'].map(lambda x: x.replace(\",\", \"\"))\n",
    "combined_df['Popularity'] = (combined_df.Popularity.replace(r'[KM]+$', '', regex=True).astype(float) * \n",
    "                             combined_df.Popularity.str.extract(r'[\\d\\.]+([KM]+)', expand=False)\n",
    "                             .fillna(1).replace(['K','M'], [10**3, 10**6]).astype(int))\n",
    "print(\"Number of features: {}\".format(combined_df.shape[1]))"
   ]
  },
  {
   "cell_type": "code",
   "execution_count": 41,
   "metadata": {
    "colab": {},
    "colab_type": "code",
    "id": "TYxAt3BpBsxQ"
   },
   "outputs": [],
   "source": [
    "# Drop redundant columns\n",
    "combined_df.drop(['Processed_Name'], inplace=True, axis=1)"
   ]
  },
  {
   "cell_type": "code",
   "execution_count": 42,
   "metadata": {
    "colab": {},
    "colab_type": "code",
    "id": "mH58zAGqWcWU"
   },
   "outputs": [],
   "source": [
    "# Drop redundant columns\n",
    "combined_df.drop(['Genre'], inplace=True, axis=1)"
   ]
  },
  {
   "cell_type": "code",
   "execution_count": 43,
   "metadata": {
    "colab": {
     "base_uri": "https://localhost:8080/",
     "height": 34
    },
    "colab_type": "code",
    "executionInfo": {
     "elapsed": 1021,
     "status": "ok",
     "timestamp": 1577718110752,
     "user": {
      "displayName": "TAPAS DAS",
      "photoUrl": "https://lh3.googleusercontent.com/a-/AAuE7mAWMXeao3oujURH7jI31N9NlnBx3o-Qy3i2T8kupg=s64",
      "userId": "10798398878324948542"
     },
     "user_tz": -330
    },
    "id": "Ul8F6p32BsxV",
    "outputId": "df1883ea-5ccf-4ad2-e6ad-b8bb2f83865a"
   },
   "outputs": [
    {
     "name": "stdout",
     "output_type": "stream",
     "text": [
      "Column with NaN value: []\n"
     ]
    }
   ],
   "source": [
    "# Check if any column has NaN value in dataframe\n",
    "print(\"Column with NaN value: {}\".format(combined_df.columns[combined_df.isnull().any()].tolist()))"
   ]
  },
  {
   "cell_type": "code",
   "execution_count": 44,
   "metadata": {
    "colab": {
     "base_uri": "https://localhost:8080/",
     "height": 50
    },
    "colab_type": "code",
    "executionInfo": {
     "elapsed": 2793,
     "status": "ok",
     "timestamp": 1577718808493,
     "user": {
      "displayName": "TAPAS DAS",
      "photoUrl": "https://lh3.googleusercontent.com/a-/AAuE7mAWMXeao3oujURH7jI31N9NlnBx3o-Qy3i2T8kupg=s64",
      "userId": "10798398878324948542"
     },
     "user_tz": -330
    },
    "id": "bB4-aL7qBsxc",
    "outputId": "7945776d-0704-4ab3-8599-e0344572d6c2"
   },
   "outputs": [
    {
     "name": "stdout",
     "output_type": "stream",
     "text": [
      "Xtrain: (78457, 1355)\n",
      "Xpredict: (19615, 1355)\n"
     ]
    }
   ],
   "source": [
    "# Segregate combined_df into train/predict datasets\n",
    "Xtrain = combined_df[:78457].values\n",
    "Xpredict = combined_df[78457:].values\n",
    "print(\"Xtrain: {}\".format(Xtrain.shape))\n",
    "print(\"Xpredict: {}\".format(Xpredict.shape))"
   ]
  },
  {
   "cell_type": "code",
   "execution_count": 45,
   "metadata": {
    "colab": {},
    "colab_type": "code",
    "id": "QT7D5E0ABsxm"
   },
   "outputs": [],
   "source": [
    "# Scale the Xtrain/Xpredict datasets\n",
    "scaler_x = RobustScaler().fit(Xtrain)\n",
    "Xtrain = scaler_x.transform(Xtrain)\n",
    "Xpredict = scaler_x.transform(Xpredict)"
   ]
  },
  {
   "cell_type": "markdown",
   "metadata": {
    "colab_type": "text",
    "id": "8kZ8jBafsDcJ"
   },
   "source": [
    "## Save the datasets in NPZ file (for reusability)"
   ]
  },
  {
   "cell_type": "code",
   "execution_count": 46,
   "metadata": {
    "colab": {},
    "colab_type": "code",
    "id": "yUbV3i04sDcM"
   },
   "outputs": [],
   "source": [
    "np.savez_compressed('Datasets/Chartbusters_Songs_Popularity_Prediction_dataset.npz',\n",
    "                    Xtrain=Xtrain, \n",
    "                    Ytrain=Ytrain,\n",
    "                    Xpredict=Xpredict)"
   ]
  },
  {
   "cell_type": "markdown",
   "metadata": {
    "colab_type": "text",
    "id": "4wdveSoXsDcQ"
   },
   "source": [
    "## Load datasets from the NPZ file"
   ]
  },
  {
   "cell_type": "code",
   "execution_count": 15,
   "metadata": {
    "colab": {
     "base_uri": "https://localhost:8080/",
     "height": 67
    },
    "colab_type": "code",
    "executionInfo": {
     "elapsed": 23247,
     "status": "ok",
     "timestamp": 1577983597070,
     "user": {
      "displayName": "TAPAS DAS",
      "photoUrl": "https://lh3.googleusercontent.com/a-/AAuE7mAWMXeao3oujURH7jI31N9NlnBx3o-Qy3i2T8kupg=s64",
      "userId": "10798398878324948542"
     },
     "user_tz": -330
    },
    "id": "8wxbh62psDcS",
    "outputId": "8c06bdb7-457c-405a-b009-1b15b9bdf2fd"
   },
   "outputs": [
    {
     "name": "stdout",
     "output_type": "stream",
     "text": [
      "Xtrain: (78457, 1355) \n",
      "Ytrain: (78457, 1) \n",
      "Xpredict: (19615, 1355)\n"
     ]
    }
   ],
   "source": [
    "# Read the training, holdout and test datasets from processed file\n",
    "processed_dataset = np.load('Datasets/Chartbusters_Songs_Popularity_Prediction_dataset.npz', allow_pickle=True)\n",
    "Xtrain, Ytrain, Xpredict = processed_dataset['Xtrain'], processed_dataset['Ytrain'], processed_dataset['Xpredict']\n",
    "print(\"Xtrain: {} \\nYtrain: {} \\nXpredict: {}\".format(Xtrain.shape, Ytrain.shape, Xpredict.shape))"
   ]
  },
  {
   "cell_type": "markdown",
   "metadata": {
    "colab_type": "text",
    "id": "oj9PH10BsDb2"
   },
   "source": [
    "## Create train and test datasets"
   ]
  },
  {
   "cell_type": "code",
   "execution_count": 16,
   "metadata": {
    "colab": {
     "base_uri": "https://localhost:8080/",
     "height": 84
    },
    "colab_type": "code",
    "executionInfo": {
     "elapsed": 22689,
     "status": "ok",
     "timestamp": 1577983599644,
     "user": {
      "displayName": "TAPAS DAS",
      "photoUrl": "https://lh3.googleusercontent.com/a-/AAuE7mAWMXeao3oujURH7jI31N9NlnBx3o-Qy3i2T8kupg=s64",
      "userId": "10798398878324948542"
     },
     "user_tz": -330
    },
    "id": "h58HOiDnsDb4",
    "outputId": "5c87d5d7-a974-4038-de46-9d865c5691f2"
   },
   "outputs": [
    {
     "name": "stdout",
     "output_type": "stream",
     "text": [
      "Xtrain: (74534, 1355) \n",
      "Ytrain: (74534, 1)\n",
      "Xtest: (3923, 1355) \n",
      "Ytest: (3923, 1)\n"
     ]
    }
   ],
   "source": [
    "Xtrain, Xtest, Ytrain, Ytest = train_test_split(Xtrain, Ytrain, test_size=0.05, random_state=10)\n",
    "print(\"Xtrain: {} \\nYtrain: {}\".format(Xtrain.shape, Ytrain.shape))\n",
    "print(\"Xtest: {} \\nYtest: {}\".format(Xtest.shape, Ytest.shape))"
   ]
  },
  {
   "cell_type": "markdown",
   "metadata": {
    "colab_type": "text",
    "id": "LaTuSFT8Zcs4"
   },
   "source": [
    "## Define custom loss function for calculating RMSE"
   ]
  },
  {
   "cell_type": "code",
   "execution_count": 17,
   "metadata": {
    "colab": {},
    "colab_type": "code",
    "id": "2uUMjqvbYBcN"
   },
   "outputs": [],
   "source": [
    "def custom_loss_rmse(y_true, y_pred):\n",
    "    \"\"\"\n",
    "        Description: Function to calculate root-mean-squared-error (RMSE) value\n",
    "        \n",
    "        Parameters:\n",
    "            y_true: True outputs\n",
    "            y_pred: Predicted outputs\n",
    "        \n",
    "        Return: Calculated RMSE value\n",
    "    \"\"\"\n",
    "\n",
    "    return tf.sqrt(tf.reduce_mean((y_true - y_pred)**2))"
   ]
  },
  {
   "cell_type": "markdown",
   "metadata": {
    "colab_type": "text",
    "id": "2GXlBoxHsDca"
   },
   "source": [
    "## Build the model"
   ]
  },
  {
   "cell_type": "code",
   "execution_count": 18,
   "metadata": {
    "colab": {},
    "colab_type": "code",
    "id": "ae5tS88lsDcc"
   },
   "outputs": [],
   "source": [
    "def nn_model(num_of_features):\n",
    "    \"\"\"\n",
    "        Description: Function to build the neural network model\n",
    "        \n",
    "        Parameters:\n",
    "            num_of_features: Number of features in input data\n",
    "        \n",
    "        Return:\n",
    "            model - Keras neural network Model\n",
    "    \"\"\"\n",
    "\n",
    "    # Input Layer\n",
    "    x_input = Input(shape=(num_of_features, ), name='INPUT')\n",
    "\n",
    "    # Fully-connected Layer 1\n",
    "    x = Dense(units=1024, name='FC-1', activation='relu', kernel_initializer=he_uniform(seed=1), kernel_regularizer=l2(0.1))(x_input)\n",
    "    x = BatchNormalization(name='BN_FC-1')(x)\n",
    "    x = Dropout(rate=0.5, name='DROPOUT_FC-1')(x)\n",
    "\n",
    "    # Fully-connected Layer 2\n",
    "    x = Dense(units=1024, name='FC-2', activation='relu', kernel_initializer=he_uniform(seed=1), kernel_regularizer=l2(0.1))(x)\n",
    "    x = BatchNormalization(name='BN_FC-2')(x)\n",
    "    x = Dropout(rate=0.5, name='DROPOUT_FC-2')(x)\n",
    "\n",
    "    # Fully-connected Layer 3\n",
    "    x = Dense(units=1024, name='FC-3', activation='relu', kernel_initializer=he_uniform(seed=1), kernel_regularizer=l2(0.1))(x)\n",
    "    x = BatchNormalization(name='BN_FC-3')(x)\n",
    "    x = Dropout(rate=0.5, name='DROPOUT_FC-3')(x)\n",
    "\n",
    "    # Fully-connected Layer 4\n",
    "    x = Dense(units=512, name='FC-4', activation='relu', kernel_initializer=he_uniform(seed=1), kernel_regularizer=l2(0.1))(x)\n",
    "    x = BatchNormalization(name='BN_FC-4')(x)\n",
    "    x = Dropout(rate=0.5, name='DROPOUT_FC-4')(x)\n",
    "\n",
    "    # Fully-connected Layer 5\n",
    "    x = Dense(units=512, name='FC-5', activation='relu', kernel_initializer=he_uniform(seed=1), kernel_regularizer=l2(0.1))(x)\n",
    "    x = BatchNormalization(name='BN_FC-5')(x)\n",
    "    x = Dropout(rate=0.5, name='DROPOUT_FC-5')(x)\n",
    "\n",
    "    # Fully-connected Layer 6\n",
    "    x = Dense(units=512, name='FC-6', activation='relu', kernel_initializer=he_uniform(seed=1), kernel_regularizer=l2(0.1))(x)\n",
    "    x = BatchNormalization(name='BN_FC-6')(x)\n",
    "    x = Dropout(rate=0.5, name='DROPOUT_FC-6')(x)\n",
    "\n",
    "    # Fully-connected Layer 7\n",
    "    x = Dense(units=256, name='FC-7', activation='relu', kernel_initializer=he_uniform(seed=1), kernel_regularizer=l2(0.1))(x)\n",
    "    x = BatchNormalization(name='BN_FC-7')(x)\n",
    "    x = Dropout(rate=0.5, name='DROPOUT_FC-7')(x)\n",
    "\n",
    "    # Fully-connected Layer 8\n",
    "    x = Dense(units=256, name='FC-8', activation='relu', kernel_initializer=he_uniform(seed=1), kernel_regularizer=l2(0.1))(x)\n",
    "    x = BatchNormalization(name='BN_FC-8')(x)\n",
    "    x = Dropout(rate=0.5, name='DROPOUT_FC-8')(x)\n",
    "\n",
    "    # Fully-connected Layer 9\n",
    "    x = Dense(units=256, name='FC-9', activation='relu', kernel_initializer=he_uniform(seed=1), kernel_regularizer=l2(0.1))(x)\n",
    "    x = BatchNormalization(name='BN_FC-9')(x)\n",
    "    x = Dropout(rate=0.5, name='DROPOUT_FC-9')(x)\n",
    "\n",
    "    # Fully-connected Layer 10\n",
    "    x = Dense(units=128, name='FC-10', activation='relu', kernel_initializer=he_uniform(seed=1), kernel_regularizer=l2(0.1))(x)\n",
    "    x = BatchNormalization(name='BN_FC-10')(x)\n",
    "    x = Dropout(rate=0.5, name='DROPOUT_FC-10')(x)\n",
    "\n",
    "    # Fully-connected Layer 11\n",
    "    x = Dense(units=128, name='FC-11', activation='relu', kernel_initializer=he_uniform(seed=1), kernel_regularizer=l2(0.1))(x)\n",
    "    x = BatchNormalization(name='BN_FC-11')(x)\n",
    "    x = Dropout(rate=0.5, name='DROPOUT_FC-11')(x)\n",
    "\n",
    "    # Fully-connected Layer 12\n",
    "    x = Dense(units=128, name='FC-12', activation='relu', kernel_initializer=he_uniform(seed=1), kernel_regularizer=l2(0.1))(x)\n",
    "    x = BatchNormalization(name='BN_FC-12')(x)\n",
    "    x = Dropout(rate=0.5, name='DROPOUT_FC-12')(x)\n",
    "\n",
    "    # Fully-connected Layer 13\n",
    "    x = Dense(units=64, name='FC-13', activation='relu', kernel_initializer=he_uniform(seed=1), kernel_regularizer=l2(0.1))(x)\n",
    "    x = BatchNormalization(name='BN_FC-13')(x)\n",
    "    x = Dropout(rate=0.5, name='DROPOUT_FC-13')(x)\n",
    "\n",
    "    # Fully-connected Layer 14\n",
    "    x = Dense(units=64, name='FC-14', activation='relu', kernel_initializer=he_uniform(seed=1), kernel_regularizer=l2(0.1))(x)\n",
    "    x = BatchNormalization(name='BN_FC-14')(x)\n",
    "    x = Dropout(rate=0.5, name='DROPOUT_FC-14')(x)\n",
    "\n",
    "    # Fully-connected Layer 15\n",
    "    x = Dense(units=64, name='FC-15', activation='relu', kernel_initializer=he_uniform(seed=1), kernel_regularizer=l2(0.1))(x)\n",
    "    x = BatchNormalization(name='BN_FC-15')(x)\n",
    "    x = Dropout(rate=0.5, name='DROPOUT_FC-15')(x)\n",
    "\n",
    "    # Fully-connected Layer 16\n",
    "    x = Dense(units=32, name='FC-16', activation='relu', kernel_initializer=he_uniform(seed=1), kernel_regularizer=l2(0.1))(x)\n",
    "    x = BatchNormalization(name='BN_FC-16')(x)\n",
    "    x = Dropout(rate=0.5, name='DROPOUT_FC-16')(x)\n",
    "\n",
    "    # Fully-connected Layer 17\n",
    "    x = Dense(units=32, name='FC-17', activation='relu', kernel_initializer=he_uniform(seed=1), kernel_regularizer=l2(0.1))(x)\n",
    "    x = BatchNormalization(name='BN_FC-17')(x)\n",
    "    x = Dropout(rate=0.5, name='DROPOUT_FC-17')(x)\n",
    "\n",
    "    # Fully-connected Layer 18\n",
    "    x = Dense(units=32, name='FC-18', activation='relu', kernel_initializer=he_uniform(seed=1), kernel_regularizer=l2(0.1))(x)\n",
    "    x = BatchNormalization(name='BN_FC-18')(x)\n",
    "    x = Dropout(rate=0.5, name='DROPOUT_FC-18')(x)\n",
    "\n",
    "    # Output Layer\n",
    "    x = Dense(units=1, name='OUTPUT', activation='linear', kernel_initializer=he_uniform(seed=1), kernel_regularizer=l2(0.1))(x)\n",
    "\n",
    "    # Create Keras Model instance\n",
    "    model = Model(inputs=x_input, outputs=x, name='Chartbusters_Songs_Popularity_Predictor')\n",
    "    \n",
    "    return model"
   ]
  },
  {
   "cell_type": "code",
   "execution_count": 19,
   "metadata": {
    "colab": {},
    "colab_type": "code",
    "id": "zq4v7N9PsDcg"
   },
   "outputs": [],
   "source": [
    "# Define the model hyperparameters\n",
    "max_iterations = 50\n",
    "mini_batch_size = 256\n",
    "min_lr = 1e-5\n",
    "max_lr = 1e-2\n",
    "step_size = 8 * (Xtrain.shape[0] // mini_batch_size)\n",
    "clr_method = 'triangular2'"
   ]
  },
  {
   "cell_type": "code",
   "execution_count": 57,
   "metadata": {
    "colab": {},
    "colab_type": "code",
    "id": "mHHiDhdwsDcj"
   },
   "outputs": [],
   "source": [
    "# Create the model\n",
    "model = nn_model(Xtrain.shape[1])\n",
    "\n",
    "# Compile model to configure the learning process\n",
    "model.compile(loss=custom_loss_rmse,\n",
    "              optimizer=Adam(lr=min_lr),\n",
    "              metrics=[RootMeanSquaredError()])\n",
    "\n",
    "# Triangular learning rate policy\n",
    "clr = CyclicLR(base_lr=min_lr, max_lr=max_lr, mode=clr_method, step_size=step_size)"
   ]
  },
  {
   "cell_type": "code",
   "execution_count": 55,
   "metadata": {
    "colab": {
     "base_uri": "https://localhost:8080/",
     "height": 569
    },
    "colab_type": "code",
    "executionInfo": {
     "elapsed": 55446,
     "status": "ok",
     "timestamp": 1577895981624,
     "user": {
      "displayName": "TAPAS DAS",
      "photoUrl": "https://lh3.googleusercontent.com/a-/AAuE7mAWMXeao3oujURH7jI31N9NlnBx3o-Qy3i2T8kupg=s64",
      "userId": "10798398878324948542"
     },
     "user_tz": -330
    },
    "id": "zEUftgFksDcr",
    "outputId": "f962b674-2bd6-4756-9df2-da384b4a79f3"
   },
   "outputs": [
    {
     "name": "stdout",
     "output_type": "stream",
     "text": [
      "Train on 74534 samples\n",
      "Epoch 1/8\n",
      "32512/74534 [============>.................] - ETA: 1:30:22 - loss: 1219.8500 - root_mean_squared_error: 10.46 - ETA: 45:44 - loss: 1219.9166 - root_mean_squared_error: 10.5310 - ETA: 30:46 - loss: 1219.9983 - root_mean_squared_error: 10.61 - ETA: 23:17 - loss: 1219.9838 - root_mean_squared_error: 10.59 - ETA: 18:49 - loss: 1219.9650 - root_mean_squared_error: 10.57 - ETA: 15:49 - loss: 1219.9473 - root_mean_squared_error: 10.56 - ETA: 13:42 - loss: 1219.9259 - root_mean_squared_error: 10.54 - ETA: 12:05 - loss: 1219.9110 - root_mean_squared_error: 10.52 - ETA: 10:51 - loss: 1219.9197 - root_mean_squared_error: 10.53 - ETA: 9:51 - loss: 1219.9481 - root_mean_squared_error: 10.5631 - ETA: 9:01 - loss: 1219.9553 - root_mean_squared_error: 10.570 - ETA: 8:20 - loss: 1219.9353 - root_mean_squared_error: 10.550 - ETA: 7:45 - loss: 1219.9497 - root_mean_squared_error: 10.564 - ETA: 7:15 - loss: 1219.9377 - root_mean_squared_error: 10.552 - ETA: 6:49 - loss: 1219.9435 - root_mean_squared_error: 10.558 - ETA: 6:27 - loss: 1219.9443 - root_mean_squared_error: 10.559 - ETA: 6:07 - loss: 1219.9521 - root_mean_squared_error: 10.567 - ETA: 5:49 - loss: 1219.9423 - root_mean_squared_error: 10.557 - ETA: 5:33 - loss: 1219.9450 - root_mean_squared_error: 10.560 - ETA: 5:18 - loss: 1219.9463 - root_mean_squared_error: 10.561 - ETA: 5:05 - loss: 1219.9465 - root_mean_squared_error: 10.561 - ETA: 4:53 - loss: 1219.9417 - root_mean_squared_error: 10.556 - ETA: 4:42 - loss: 1219.9434 - root_mean_squared_error: 10.558 - ETA: 4:32 - loss: 1219.9364 - root_mean_squared_error: 10.551 - ETA: 4:23 - loss: 1219.9533 - root_mean_squared_error: 10.568 - ETA: 4:15 - loss: 1219.9585 - root_mean_squared_error: 10.573 - ETA: 4:07 - loss: 1219.9656 - root_mean_squared_error: 10.580 - ETA: 3:59 - loss: 1219.9680 - root_mean_squared_error: 10.583 - ETA: 3:52 - loss: 1219.9621 - root_mean_squared_error: 10.577 - ETA: 3:46 - loss: 1219.9548 - root_mean_squared_error: 10.570 - ETA: 3:40 - loss: 1219.9593 - root_mean_squared_error: 10.574 - ETA: 3:34 - loss: 1219.9565 - root_mean_squared_error: 10.571 - ETA: 3:29 - loss: 1219.9594 - root_mean_squared_error: 10.574 - ETA: 3:24 - loss: 1219.9609 - root_mean_squared_error: 10.576 - ETA: 3:20 - loss: 1219.9653 - root_mean_squared_error: 10.580 - ETA: 3:15 - loss: 1219.9624 - root_mean_squared_error: 10.577 - ETA: 3:11 - loss: 1219.9489 - root_mean_squared_error: 10.564 - ETA: 3:07 - loss: 1219.9520 - root_mean_squared_error: 10.567 - ETA: 3:03 - loss: 1219.9508 - root_mean_squared_error: 10.566 - ETA: 2:59 - loss: 1219.9545 - root_mean_squared_error: 10.569 - ETA: 2:55 - loss: 1219.9573 - root_mean_squared_error: 10.572 - ETA: 2:52 - loss: 1219.9591 - root_mean_squared_error: 10.574 - ETA: 2:49 - loss: 1219.9575 - root_mean_squared_error: 10.572 - ETA: 2:46 - loss: 1219.9567 - root_mean_squared_error: 10.572 - ETA: 2:43 - loss: 1219.9554 - root_mean_squared_error: 10.570 - ETA: 2:40 - loss: 1219.9585 - root_mean_squared_error: 10.573 - ETA: 2:37 - loss: 1219.9618 - root_mean_squared_error: 10.577 - ETA: 2:35 - loss: 1219.9634 - root_mean_squared_error: 10.578 - ETA: 2:32 - loss: 1219.9597 - root_mean_squared_error: 10.575 - ETA: 2:30 - loss: 1219.9577 - root_mean_squared_error: 10.573 - ETA: 2:27 - loss: 1219.9589 - root_mean_squared_error: 10.574 - ETA: 2:25 - loss: 1219.9582 - root_mean_squared_error: 10.573 - ETA: 2:23 - loss: 1219.9607 - root_mean_squared_error: 10.576 - ETA: 2:21 - loss: 1219.9660 - root_mean_squared_error: 10.581 - ETA: 2:19 - loss: 1219.9678 - root_mean_squared_error: 10.583 - ETA: 2:17 - loss: 1219.9685 - root_mean_squared_error: 10.583 - ETA: 2:15 - loss: 1219.9661 - root_mean_squared_error: 10.581 - ETA: 2:13 - loss: 1219.9671 - root_mean_squared_error: 10.582 - ETA: 2:11 - loss: 1219.9679 - root_mean_squared_error: 10.583 - ETA: 2:09 - loss: 1219.9681 - root_mean_squared_error: 10.583 - ETA: 2:08 - loss: 1219.9613 - root_mean_squared_error: 10.576 - ETA: 2:06 - loss: 1219.9598 - root_mean_squared_error: 10.575 - ETA: 2:04 - loss: 1219.9585 - root_mean_squared_error: 10.573 - ETA: 2:03 - loss: 1219.9555 - root_mean_squared_error: 10.570 - ETA: 2:01 - loss: 1219.9531 - root_mean_squared_error: 10.568 - ETA: 2:00 - loss: 1219.9503 - root_mean_squared_error: 10.565 - ETA: 1:58 - loss: 1219.9505 - root_mean_squared_error: 10.565 - ETA: 1:57 - loss: 1219.9514 - root_mean_squared_error: 10.566 - ETA: 1:56 - loss: 1219.9526 - root_mean_squared_error: 10.567 - ETA: 1:54 - loss: 1219.9506 - root_mean_squared_error: 10.565 - ETA: 1:53 - loss: 1219.9541 - root_mean_squared_error: 10.569 - ETA: 1:52 - loss: 1219.9569 - root_mean_squared_error: 10.572 - ETA: 1:50 - loss: 1219.9565 - root_mean_squared_error: 10.571 - ETA: 1:49 - loss: 1219.9564 - root_mean_squared_error: 10.571 - ETA: 1:48 - loss: 1219.9569 - root_mean_squared_error: 10.572 - ETA: 1:47 - loss: 1219.9582 - root_mean_squared_error: 10.573 - ETA: 1:46 - loss: 1219.9593 - root_mean_squared_error: 10.574 - ETA: 1:45 - loss: 1219.9600 - root_mean_squared_error: 10.575 - ETA: 1:44 - loss: 1219.9601 - root_mean_squared_error: 10.575 - ETA: 1:42 - loss: 1219.9533 - root_mean_squared_error: 10.568 - ETA: 1:41 - loss: 1219.9540 - root_mean_squared_error: 10.569 - ETA: 1:40 - loss: 1219.9617 - root_mean_squared_error: 10.577 - ETA: 1:39 - loss: 1219.9633 - root_mean_squared_error: 10.578 - ETA: 1:38 - loss: 1219.9662 - root_mean_squared_error: 10.581 - ETA: 1:37 - loss: 1219.9672 - root_mean_squared_error: 10.582 - ETA: 1:36 - loss: 1219.9683 - root_mean_squared_error: 10.583 - ETA: 1:35 - loss: 1219.9681 - root_mean_squared_error: 10.583 - ETA: 1:35 - loss: 1219.9703 - root_mean_squared_error: 10.585 - ETA: 1:34 - loss: 1219.9684 - root_mean_squared_error: 10.584 - ETA: 1:33 - loss: 1219.9716 - root_mean_squared_error: 10.587 - ETA: 1:32 - loss: 1219.9725 - root_mean_squared_error: 10.588 - ETA: 1:31 - loss: 1219.9745 - root_mean_squared_error: 10.590 - ETA: 1:30 - loss: 1219.9728 - root_mean_squared_error: 10.588 - ETA: 1:29 - loss: 1219.9715 - root_mean_squared_error: 10.587 - ETA: 1:28 - loss: 1219.9719 - root_mean_squared_error: 10.587 - ETA: 1:27 - loss: 1219.9726 - root_mean_squared_error: 10.588 - ETA: 1:27 - loss: 1219.9742 - root_mean_squared_error: 10.589 - ETA: 1:26 - loss: 1219.9738 - root_mean_squared_error: 10.589 - ETA: 1:25 - loss: 1219.9718 - root_mean_squared_error: 10.587 - ETA: 1:24 - loss: 1219.9722 - root_mean_squared_error: 10.587 - ETA: 1:24 - loss: 1219.9717 - root_mean_squared_error: 10.587 - ETA: 1:23 - loss: 1219.9730 - root_mean_squared_error: 10.588 - ETA: 1:22 - loss: 1219.9767 - root_mean_squared_error: 10.592 - ETA: 1:21 - loss: 1219.9780 - root_mean_squared_error: 10.593 - ETA: 1:21 - loss: 1219.9799 - root_mean_squared_error: 10.595 - ETA: 1:20 - loss: 1219.9807 - root_mean_squared_error: 10.596 - ETA: 1:19 - loss: 1219.9815 - root_mean_squared_error: 10.597 - ETA: 1:18 - loss: 1219.9790 - root_mean_squared_error: 10.594 - ETA: 1:18 - loss: 1219.9790 - root_mean_squared_error: 10.594 - ETA: 1:17 - loss: 1219.9762 - root_mean_squared_error: 10.591 - ETA: 1:16 - loss: 1219.9765 - root_mean_squared_error: 10.592 - ETA: 1:16 - loss: 1219.9738 - root_mean_squared_error: 10.589 - ETA: 1:15 - loss: 1219.9737 - root_mean_squared_error: 10.589 - ETA: 1:14 - loss: 1219.9735 - root_mean_squared_error: 10.589 - ETA: 1:14 - loss: 1219.9745 - root_mean_squared_error: 10.590 - ETA: 1:13 - loss: 1219.9761 - root_mean_squared_error: 10.591 - ETA: 1:12 - loss: 1219.9732 - root_mean_squared_error: 10.588 - ETA: 1:12 - loss: 1219.9729 - root_mean_squared_error: 10.588 - ETA: 1:11 - loss: 1219.9736 - root_mean_squared_error: 10.589 - ETA: 1:10 - loss: 1219.9729 - root_mean_squared_error: 10.588 - ETA: 1:10 - loss: 1219.9723 - root_mean_squared_error: 10.587 - ETA: 1:09 - loss: 1219.9727 - root_mean_squared_error: 10.588 - ETA: 1:09 - loss: 1219.9743 - root_mean_squared_error: 10.589 - ETA: 1:08 - loss: 1219.9750 - root_mean_squared_error: 10.590 - ETA: 1:08 - loss: 1219.9752 - root_mean_squared_error: 10.590 - ETA: 1:07 - loss: 1219.9733 - root_mean_squared_error: 10.588 - ETA: 1:06 - loss: 1219.9754 - root_mean_squared_error: 10.59066048/74534 [=========================>....] - ETA: 1:06 - loss: 1219.9755 - root_mean_squared_error: 10.591 - ETA: 1:05 - loss: 1219.9769 - root_mean_squared_error: 10.592 - ETA: 1:05 - loss: 1219.9756 - root_mean_squared_error: 10.591 - ETA: 1:04 - loss: 1219.9754 - root_mean_squared_error: 10.590 - ETA: 1:04 - loss: 1219.9740 - root_mean_squared_error: 10.589 - ETA: 1:03 - loss: 1219.9731 - root_mean_squared_error: 10.588 - ETA: 1:03 - loss: 1219.9723 - root_mean_squared_error: 10.587 - ETA: 1:02 - loss: 1219.9729 - root_mean_squared_error: 10.588 - ETA: 1:01 - loss: 1219.9733 - root_mean_squared_error: 10.588 - ETA: 1:01 - loss: 1219.9724 - root_mean_squared_error: 10.588 - ETA: 1:00 - loss: 1219.9751 - root_mean_squared_error: 10.590 - ETA: 1:00 - loss: 1219.9739 - root_mean_squared_error: 10.589 - ETA: 59s - loss: 1219.9739 - root_mean_squared_error: 10.589 - ETA: 59s - loss: 1219.9730 - root_mean_squared_error: 10.58 - ETA: 58s - loss: 1219.9739 - root_mean_squared_error: 10.58 - ETA: 58s - loss: 1219.9747 - root_mean_squared_error: 10.59 - ETA: 57s - loss: 1219.9754 - root_mean_squared_error: 10.59 - ETA: 57s - loss: 1219.9758 - root_mean_squared_error: 10.59 - ETA: 56s - loss: 1219.9734 - root_mean_squared_error: 10.58 - ETA: 56s - loss: 1219.9739 - root_mean_squared_error: 10.58 - ETA: 55s - loss: 1219.9725 - root_mean_squared_error: 10.58 - ETA: 55s - loss: 1219.9721 - root_mean_squared_error: 10.58 - ETA: 54s - loss: 1219.9727 - root_mean_squared_error: 10.58 - ETA: 54s - loss: 1219.9733 - root_mean_squared_error: 10.58 - ETA: 53s - loss: 1219.9751 - root_mean_squared_error: 10.59 - ETA: 53s - loss: 1219.9747 - root_mean_squared_error: 10.59 - ETA: 52s - loss: 1219.9741 - root_mean_squared_error: 10.58 - ETA: 52s - loss: 1219.9738 - root_mean_squared_error: 10.58 - ETA: 51s - loss: 1219.9743 - root_mean_squared_error: 10.58 - ETA: 51s - loss: 1219.9754 - root_mean_squared_error: 10.59 - ETA: 50s - loss: 1219.9748 - root_mean_squared_error: 10.59 - ETA: 50s - loss: 1219.9742 - root_mean_squared_error: 10.58 - ETA: 49s - loss: 1219.9728 - root_mean_squared_error: 10.58 - ETA: 49s - loss: 1219.9720 - root_mean_squared_error: 10.58 - ETA: 48s - loss: 1219.9699 - root_mean_squared_error: 10.58 - ETA: 48s - loss: 1219.9710 - root_mean_squared_error: 10.58 - ETA: 47s - loss: 1219.9714 - root_mean_squared_error: 10.58 - ETA: 47s - loss: 1219.9697 - root_mean_squared_error: 10.58 - ETA: 46s - loss: 1219.9700 - root_mean_squared_error: 10.58 - ETA: 46s - loss: 1219.9703 - root_mean_squared_error: 10.58 - ETA: 45s - loss: 1219.9684 - root_mean_squared_error: 10.58 - ETA: 45s - loss: 1219.9687 - root_mean_squared_error: 10.58 - ETA: 45s - loss: 1219.9694 - root_mean_squared_error: 10.58 - ETA: 44s - loss: 1219.9704 - root_mean_squared_error: 10.58 - ETA: 44s - loss: 1219.9702 - root_mean_squared_error: 10.58 - ETA: 43s - loss: 1219.9691 - root_mean_squared_error: 10.58 - ETA: 43s - loss: 1219.9685 - root_mean_squared_error: 10.58 - ETA: 42s - loss: 1219.9668 - root_mean_squared_error: 10.58 - ETA: 42s - loss: 1219.9669 - root_mean_squared_error: 10.58 - ETA: 41s - loss: 1219.9673 - root_mean_squared_error: 10.58 - ETA: 41s - loss: 1219.9666 - root_mean_squared_error: 10.58 - ETA: 41s - loss: 1219.9666 - root_mean_squared_error: 10.58 - ETA: 40s - loss: 1219.9679 - root_mean_squared_error: 10.58 - ETA: 40s - loss: 1219.9682 - root_mean_squared_error: 10.58 - ETA: 39s - loss: 1219.9676 - root_mean_squared_error: 10.58 - ETA: 39s - loss: 1219.9684 - root_mean_squared_error: 10.58 - ETA: 38s - loss: 1219.9695 - root_mean_squared_error: 10.58 - ETA: 38s - loss: 1219.9699 - root_mean_squared_error: 10.58 - ETA: 38s - loss: 1219.9687 - root_mean_squared_error: 10.58 - ETA: 37s - loss: 1219.9685 - root_mean_squared_error: 10.58 - ETA: 37s - loss: 1219.9700 - root_mean_squared_error: 10.58 - ETA: 36s - loss: 1219.9705 - root_mean_squared_error: 10.58 - ETA: 36s - loss: 1219.9735 - root_mean_squared_error: 10.58 - ETA: 35s - loss: 1219.9736 - root_mean_squared_error: 10.58 - ETA: 35s - loss: 1219.9722 - root_mean_squared_error: 10.58 - ETA: 35s - loss: 1219.9719 - root_mean_squared_error: 10.58 - ETA: 34s - loss: 1219.9714 - root_mean_squared_error: 10.58 - ETA: 34s - loss: 1219.9707 - root_mean_squared_error: 10.58 - ETA: 34s - loss: 1219.9706 - root_mean_squared_error: 10.58 - ETA: 33s - loss: 1219.9693 - root_mean_squared_error: 10.58 - ETA: 33s - loss: 1219.9688 - root_mean_squared_error: 10.58 - ETA: 32s - loss: 1219.9678 - root_mean_squared_error: 10.58 - ETA: 32s - loss: 1219.9673 - root_mean_squared_error: 10.58 - ETA: 32s - loss: 1219.9671 - root_mean_squared_error: 10.58 - ETA: 31s - loss: 1219.9668 - root_mean_squared_error: 10.58 - ETA: 31s - loss: 1219.9667 - root_mean_squared_error: 10.58 - ETA: 30s - loss: 1219.9668 - root_mean_squared_error: 10.58 - ETA: 30s - loss: 1219.9657 - root_mean_squared_error: 10.58 - ETA: 30s - loss: 1219.9661 - root_mean_squared_error: 10.58 - ETA: 29s - loss: 1219.9662 - root_mean_squared_error: 10.58 - ETA: 29s - loss: 1219.9668 - root_mean_squared_error: 10.58 - ETA: 28s - loss: 1219.9670 - root_mean_squared_error: 10.58 - ETA: 28s - loss: 1219.9675 - root_mean_squared_error: 10.58 - ETA: 28s - loss: 1219.9661 - root_mean_squared_error: 10.58 - ETA: 27s - loss: 1219.9663 - root_mean_squared_error: 10.58 - ETA: 27s - loss: 1219.9657 - root_mean_squared_error: 10.58 - ETA: 27s - loss: 1219.9646 - root_mean_squared_error: 10.58 - ETA: 26s - loss: 1219.9646 - root_mean_squared_error: 10.58 - ETA: 26s - loss: 1219.9639 - root_mean_squared_error: 10.57 - ETA: 25s - loss: 1219.9656 - root_mean_squared_error: 10.58 - ETA: 25s - loss: 1219.9651 - root_mean_squared_error: 10.58 - ETA: 25s - loss: 1219.9654 - root_mean_squared_error: 10.58 - ETA: 24s - loss: 1219.9671 - root_mean_squared_error: 10.58 - ETA: 24s - loss: 1219.9674 - root_mean_squared_error: 10.58 - ETA: 23s - loss: 1219.9663 - root_mean_squared_error: 10.58 - ETA: 23s - loss: 1219.9671 - root_mean_squared_error: 10.58 - ETA: 23s - loss: 1219.9666 - root_mean_squared_error: 10.58 - ETA: 22s - loss: 1219.9669 - root_mean_squared_error: 10.58 - ETA: 22s - loss: 1219.9678 - root_mean_squared_error: 10.58 - ETA: 22s - loss: 1219.9682 - root_mean_squared_error: 10.58 - ETA: 21s - loss: 1219.9672 - root_mean_squared_error: 10.58 - ETA: 21s - loss: 1219.9664 - root_mean_squared_error: 10.58 - ETA: 20s - loss: 1219.9653 - root_mean_squared_error: 10.58 - ETA: 20s - loss: 1219.9651 - root_mean_squared_error: 10.58 - ETA: 20s - loss: 1219.9653 - root_mean_squared_error: 10.58 - ETA: 19s - loss: 1219.9657 - root_mean_squared_error: 10.58 - ETA: 19s - loss: 1219.9656 - root_mean_squared_error: 10.58 - ETA: 19s - loss: 1219.9658 - root_mean_squared_error: 10.58 - ETA: 18s - loss: 1219.9655 - root_mean_squared_error: 10.58 - ETA: 18s - loss: 1219.9642 - root_mean_squared_error: 10.57 - ETA: 18s - loss: 1219.9640 - root_mean_squared_error: 10.57 - ETA: 17s - loss: 1219.9642 - root_mean_squared_error: 10.57 - ETA: 17s - loss: 1219.9646 - root_mean_squared_error: 10.58 - ETA: 17s - loss: 1219.9640 - root_mean_squared_error: 10.57 - ETA: 16s - loss: 1219.9633 - root_mean_squared_error: 10.57 - ETA: 16s - loss: 1219.9632 - root_mean_squared_error: 10.57 - ETA: 15s - loss: 1219.9625 - root_mean_squared_error: 10.57 - ETA: 15s - loss: 1219.9627 - root_mean_squared_error: 10.57 - ETA: 15s - loss: 1219.9627 - root_mean_squared_error: 10.57 - ETA: 14s - loss: 1219.9629 - root_mean_squared_error: 10.57 - ETA: 14s - loss: 1219.9621 - root_mean_squared_error: 10.57 - ETA: 14s - loss: 1219.9623 - root_mean_squared_error: 10.57 - ETA: 13s - loss: 1219.9624 - root_mean_squared_error: 10.57 - ETA: 13s - loss: 1219.9617 - root_mean_squared_error: 10.57 - ETA: 13s - loss: 1219.9614 - root_mean_squared_error: 10.57 - ETA: 12s - loss: 1219.9614 - root_mean_squared_error: 10.57 - ETA: 12s - loss: 1219.9612 - root_mean_squared_error: 10.57 - ETA: 12s - loss: 1219.9610 - root_mean_squared_error: 10.57 - ETA: 11s - loss: 1219.9609 - root_mean_squared_error: 10.57 - ETA: 11s - loss: 1219.9623 - root_mean_squared_error: 10.57 - ETA: 11s - loss: 1219.9622 - root_mean_squared_error: 10.577774534/74534 [==============================] - ETA: 10s - loss: 1219.9624 - root_mean_squared_error: 10.57 - ETA: 10s - loss: 1219.9627 - root_mean_squared_error: 10.57 - ETA: 9s - loss: 1219.9618 - root_mean_squared_error: 10.5773 - ETA: 9s - loss: 1219.9621 - root_mean_squared_error: 10.577 - ETA: 9s - loss: 1219.9622 - root_mean_squared_error: 10.577 - ETA: 8s - loss: 1219.9631 - root_mean_squared_error: 10.578 - ETA: 8s - loss: 1219.9627 - root_mean_squared_error: 10.578 - ETA: 8s - loss: 1219.9616 - root_mean_squared_error: 10.577 - ETA: 7s - loss: 1219.9624 - root_mean_squared_error: 10.577 - ETA: 7s - loss: 1219.9619 - root_mean_squared_error: 10.577 - ETA: 7s - loss: 1219.9623 - root_mean_squared_error: 10.577 - ETA: 6s - loss: 1219.9626 - root_mean_squared_error: 10.578 - ETA: 6s - loss: 1219.9637 - root_mean_squared_error: 10.579 - ETA: 6s - loss: 1219.9647 - root_mean_squared_error: 10.580 - ETA: 5s - loss: 1219.9651 - root_mean_squared_error: 10.580 - ETA: 5s - loss: 1219.9652 - root_mean_squared_error: 10.580 - ETA: 5s - loss: 1219.9642 - root_mean_squared_error: 10.579 - ETA: 4s - loss: 1219.9636 - root_mean_squared_error: 10.579 - ETA: 4s - loss: 1219.9634 - root_mean_squared_error: 10.578 - ETA: 4s - loss: 1219.9628 - root_mean_squared_error: 10.578 - ETA: 3s - loss: 1219.9633 - root_mean_squared_error: 10.578 - ETA: 3s - loss: 1219.9635 - root_mean_squared_error: 10.579 - ETA: 3s - loss: 1219.9632 - root_mean_squared_error: 10.578 - ETA: 2s - loss: 1219.9629 - root_mean_squared_error: 10.578 - ETA: 2s - loss: 1219.9627 - root_mean_squared_error: 10.578 - ETA: 2s - loss: 1219.9626 - root_mean_squared_error: 10.578 - ETA: 1s - loss: 1219.9630 - root_mean_squared_error: 10.578 - ETA: 1s - loss: 1219.9630 - root_mean_squared_error: 10.578 - ETA: 1s - loss: 1219.9629 - root_mean_squared_error: 10.578 - ETA: 1s - loss: 1219.9623 - root_mean_squared_error: 10.577 - ETA: 0s - loss: 1219.9624 - root_mean_squared_error: 10.577 - ETA: 0s - loss: 1219.9627 - root_mean_squared_error: 10.578 - ETA: 0s - loss: 1219.9632 - root_mean_squared_error: 10.578 - 93s 1ms/sample - loss: 1219.9635 - root_mean_squared_error: 10.5790\n",
      "Epoch 2/8\n"
     ]
    },
    {
     "name": "stdout",
     "output_type": "stream",
     "text": [
      "33536/74534 [============>.................] - ETA: 1:02 - loss: 1219.7397 - root_mean_squared_error: 10.353 - ETA: 1:03 - loss: 1219.8695 - root_mean_squared_error: 10.484 - ETA: 1:03 - loss: 1219.7502 - root_mean_squared_error: 10.366 - ETA: 1:02 - loss: 1219.7546 - root_mean_squared_error: 10.370 - ETA: 1:02 - loss: 1219.8125 - root_mean_squared_error: 10.428 - ETA: 1:02 - loss: 1219.8846 - root_mean_squared_error: 10.501 - ETA: 1:02 - loss: 1219.9384 - root_mean_squared_error: 10.555 - ETA: 1:02 - loss: 1219.9238 - root_mean_squared_error: 10.540 - ETA: 1:02 - loss: 1219.9211 - root_mean_squared_error: 10.537 - ETA: 1:02 - loss: 1219.9307 - root_mean_squared_error: 10.547 - ETA: 1:02 - loss: 1219.9157 - root_mean_squared_error: 10.532 - ETA: 1:01 - loss: 1219.9076 - root_mean_squared_error: 10.523 - ETA: 1:01 - loss: 1219.9166 - root_mean_squared_error: 10.532 - ETA: 1:01 - loss: 1219.9171 - root_mean_squared_error: 10.533 - ETA: 1:01 - loss: 1219.9217 - root_mean_squared_error: 10.537 - ETA: 1:01 - loss: 1219.9304 - root_mean_squared_error: 10.546 - ETA: 1:00 - loss: 1219.9425 - root_mean_squared_error: 10.558 - ETA: 1:00 - loss: 1219.9509 - root_mean_squared_error: 10.566 - ETA: 1:00 - loss: 1219.9626 - root_mean_squared_error: 10.578 - ETA: 1:00 - loss: 1219.9598 - root_mean_squared_error: 10.575 - ETA: 1:00 - loss: 1219.9599 - root_mean_squared_error: 10.575 - ETA: 1:00 - loss: 1219.9580 - root_mean_squared_error: 10.573 - ETA: 1:00 - loss: 1219.9595 - root_mean_squared_error: 10.575 - ETA: 1:00 - loss: 1219.9639 - root_mean_squared_error: 10.579 - ETA: 1:00 - loss: 1219.9645 - root_mean_squared_error: 10.580 - ETA: 59s - loss: 1219.9538 - root_mean_squared_error: 10.569 - ETA: 59s - loss: 1219.9504 - root_mean_squared_error: 10.56 - ETA: 59s - loss: 1219.9384 - root_mean_squared_error: 10.55 - ETA: 59s - loss: 1219.9386 - root_mean_squared_error: 10.55 - ETA: 59s - loss: 1219.9372 - root_mean_squared_error: 10.55 - ETA: 58s - loss: 1219.9308 - root_mean_squared_error: 10.54 - ETA: 58s - loss: 1219.9450 - root_mean_squared_error: 10.56 - ETA: 58s - loss: 1219.9421 - root_mean_squared_error: 10.55 - ETA: 58s - loss: 1219.9489 - root_mean_squared_error: 10.56 - ETA: 58s - loss: 1219.9499 - root_mean_squared_error: 10.56 - ETA: 58s - loss: 1219.9545 - root_mean_squared_error: 10.57 - ETA: 58s - loss: 1219.9511 - root_mean_squared_error: 10.56 - ETA: 57s - loss: 1219.9508 - root_mean_squared_error: 10.56 - ETA: 57s - loss: 1219.9558 - root_mean_squared_error: 10.57 - ETA: 57s - loss: 1219.9568 - root_mean_squared_error: 10.57 - ETA: 57s - loss: 1219.9506 - root_mean_squared_error: 10.56 - ETA: 56s - loss: 1219.9457 - root_mean_squared_error: 10.56 - ETA: 56s - loss: 1219.9482 - root_mean_squared_error: 10.56 - ETA: 56s - loss: 1219.9479 - root_mean_squared_error: 10.56 - ETA: 56s - loss: 1219.9504 - root_mean_squared_error: 10.56 - ETA: 56s - loss: 1219.9541 - root_mean_squared_error: 10.56 - ETA: 56s - loss: 1219.9516 - root_mean_squared_error: 10.56 - ETA: 55s - loss: 1219.9516 - root_mean_squared_error: 10.56 - ETA: 55s - loss: 1219.9444 - root_mean_squared_error: 10.56 - ETA: 55s - loss: 1219.9458 - root_mean_squared_error: 10.56 - ETA: 55s - loss: 1219.9457 - root_mean_squared_error: 10.56 - ETA: 54s - loss: 1219.9445 - root_mean_squared_error: 10.56 - ETA: 54s - loss: 1219.9488 - root_mean_squared_error: 10.56 - ETA: 54s - loss: 1219.9516 - root_mean_squared_error: 10.56 - ETA: 54s - loss: 1219.9572 - root_mean_squared_error: 10.57 - ETA: 54s - loss: 1219.9640 - root_mean_squared_error: 10.57 - ETA: 53s - loss: 1219.9636 - root_mean_squared_error: 10.57 - ETA: 53s - loss: 1219.9632 - root_mean_squared_error: 10.57 - ETA: 53s - loss: 1219.9668 - root_mean_squared_error: 10.58 - ETA: 53s - loss: 1219.9665 - root_mean_squared_error: 10.58 - ETA: 52s - loss: 1219.9659 - root_mean_squared_error: 10.58 - ETA: 52s - loss: 1219.9684 - root_mean_squared_error: 10.58 - ETA: 52s - loss: 1219.9710 - root_mean_squared_error: 10.58 - ETA: 52s - loss: 1219.9719 - root_mean_squared_error: 10.58 - ETA: 51s - loss: 1219.9710 - root_mean_squared_error: 10.58 - ETA: 51s - loss: 1219.9746 - root_mean_squared_error: 10.59 - ETA: 51s - loss: 1219.9719 - root_mean_squared_error: 10.58 - ETA: 51s - loss: 1219.9726 - root_mean_squared_error: 10.58 - ETA: 51s - loss: 1219.9708 - root_mean_squared_error: 10.58 - ETA: 50s - loss: 1219.9733 - root_mean_squared_error: 10.58 - ETA: 50s - loss: 1219.9692 - root_mean_squared_error: 10.58 - ETA: 50s - loss: 1219.9720 - root_mean_squared_error: 10.58 - ETA: 50s - loss: 1219.9704 - root_mean_squared_error: 10.58 - ETA: 49s - loss: 1219.9693 - root_mean_squared_error: 10.58 - ETA: 49s - loss: 1219.9689 - root_mean_squared_error: 10.58 - ETA: 49s - loss: 1219.9681 - root_mean_squared_error: 10.58 - ETA: 49s - loss: 1219.9692 - root_mean_squared_error: 10.58 - ETA: 48s - loss: 1219.9681 - root_mean_squared_error: 10.58 - ETA: 48s - loss: 1219.9662 - root_mean_squared_error: 10.58 - ETA: 48s - loss: 1219.9665 - root_mean_squared_error: 10.58 - ETA: 48s - loss: 1219.9650 - root_mean_squared_error: 10.58 - ETA: 47s - loss: 1219.9665 - root_mean_squared_error: 10.58 - ETA: 47s - loss: 1219.9666 - root_mean_squared_error: 10.58 - ETA: 47s - loss: 1219.9716 - root_mean_squared_error: 10.58 - ETA: 47s - loss: 1219.9718 - root_mean_squared_error: 10.58 - ETA: 46s - loss: 1219.9676 - root_mean_squared_error: 10.58 - ETA: 46s - loss: 1219.9702 - root_mean_squared_error: 10.58 - ETA: 46s - loss: 1219.9694 - root_mean_squared_error: 10.58 - ETA: 46s - loss: 1219.9691 - root_mean_squared_error: 10.58 - ETA: 45s - loss: 1219.9661 - root_mean_squared_error: 10.58 - ETA: 45s - loss: 1219.9680 - root_mean_squared_error: 10.58 - ETA: 45s - loss: 1219.9698 - root_mean_squared_error: 10.58 - ETA: 45s - loss: 1219.9705 - root_mean_squared_error: 10.58 - ETA: 44s - loss: 1219.9710 - root_mean_squared_error: 10.58 - ETA: 44s - loss: 1219.9731 - root_mean_squared_error: 10.58 - ETA: 44s - loss: 1219.9730 - root_mean_squared_error: 10.58 - ETA: 44s - loss: 1219.9717 - root_mean_squared_error: 10.58 - ETA: 44s - loss: 1219.9715 - root_mean_squared_error: 10.58 - ETA: 43s - loss: 1219.9709 - root_mean_squared_error: 10.58 - ETA: 43s - loss: 1219.9747 - root_mean_squared_error: 10.59 - ETA: 43s - loss: 1219.9764 - root_mean_squared_error: 10.59 - ETA: 43s - loss: 1219.9756 - root_mean_squared_error: 10.59 - ETA: 42s - loss: 1219.9779 - root_mean_squared_error: 10.59 - ETA: 42s - loss: 1219.9770 - root_mean_squared_error: 10.59 - ETA: 42s - loss: 1219.9769 - root_mean_squared_error: 10.59 - ETA: 42s - loss: 1219.9760 - root_mean_squared_error: 10.59 - ETA: 41s - loss: 1219.9743 - root_mean_squared_error: 10.59 - ETA: 41s - loss: 1219.9734 - root_mean_squared_error: 10.58 - ETA: 41s - loss: 1219.9721 - root_mean_squared_error: 10.58 - ETA: 41s - loss: 1219.9709 - root_mean_squared_error: 10.58 - ETA: 41s - loss: 1219.9701 - root_mean_squared_error: 10.58 - ETA: 40s - loss: 1219.9717 - root_mean_squared_error: 10.58 - ETA: 40s - loss: 1219.9718 - root_mean_squared_error: 10.58 - ETA: 40s - loss: 1219.9702 - root_mean_squared_error: 10.58 - ETA: 40s - loss: 1219.9706 - root_mean_squared_error: 10.58 - ETA: 40s - loss: 1219.9693 - root_mean_squared_error: 10.58 - ETA: 40s - loss: 1219.9696 - root_mean_squared_error: 10.58 - ETA: 40s - loss: 1219.9674 - root_mean_squared_error: 10.58 - ETA: 39s - loss: 1219.9666 - root_mean_squared_error: 10.58 - ETA: 39s - loss: 1219.9656 - root_mean_squared_error: 10.58 - ETA: 39s - loss: 1219.9639 - root_mean_squared_error: 10.57 - ETA: 39s - loss: 1219.9648 - root_mean_squared_error: 10.58 - ETA: 39s - loss: 1219.9648 - root_mean_squared_error: 10.58 - ETA: 39s - loss: 1219.9639 - root_mean_squared_error: 10.57 - ETA: 38s - loss: 1219.9630 - root_mean_squared_error: 10.57 - ETA: 38s - loss: 1219.9632 - root_mean_squared_error: 10.57 - ETA: 38s - loss: 1219.9639 - root_mean_squared_error: 10.57 - ETA: 38s - loss: 1219.9615 - root_mean_squared_error: 10.57 - ETA: 38s - loss: 1219.9607 - root_mean_squared_error: 10.57 - ETA: 37s - loss: 1219.9593 - root_mean_squared_error: 10.57 - ETA: 37s - loss: 1219.9584 - root_mean_squared_error: 10.574367328/74534 [==========================>...] - ETA: 37s - loss: 1219.9574 - root_mean_squared_error: 10.57 - ETA: 37s - loss: 1219.9571 - root_mean_squared_error: 10.57 - ETA: 36s - loss: 1219.9574 - root_mean_squared_error: 10.57 - ETA: 36s - loss: 1219.9569 - root_mean_squared_error: 10.57 - ETA: 36s - loss: 1219.9568 - root_mean_squared_error: 10.57 - ETA: 36s - loss: 1219.9581 - root_mean_squared_error: 10.57 - ETA: 36s - loss: 1219.9574 - root_mean_squared_error: 10.57 - ETA: 35s - loss: 1219.9589 - root_mean_squared_error: 10.57 - ETA: 35s - loss: 1219.9585 - root_mean_squared_error: 10.57 - ETA: 35s - loss: 1219.9588 - root_mean_squared_error: 10.57 - ETA: 35s - loss: 1219.9589 - root_mean_squared_error: 10.57 - ETA: 34s - loss: 1219.9586 - root_mean_squared_error: 10.57 - ETA: 34s - loss: 1219.9572 - root_mean_squared_error: 10.57 - ETA: 34s - loss: 1219.9598 - root_mean_squared_error: 10.57 - ETA: 34s - loss: 1219.9603 - root_mean_squared_error: 10.57 - ETA: 34s - loss: 1219.9604 - root_mean_squared_error: 10.57 - ETA: 33s - loss: 1219.9597 - root_mean_squared_error: 10.57 - ETA: 33s - loss: 1219.9584 - root_mean_squared_error: 10.57 - ETA: 33s - loss: 1219.9570 - root_mean_squared_error: 10.57 - ETA: 33s - loss: 1219.9579 - root_mean_squared_error: 10.57 - ETA: 33s - loss: 1219.9584 - root_mean_squared_error: 10.57 - ETA: 32s - loss: 1219.9589 - root_mean_squared_error: 10.57 - ETA: 32s - loss: 1219.9592 - root_mean_squared_error: 10.57 - ETA: 32s - loss: 1219.9618 - root_mean_squared_error: 10.57 - ETA: 32s - loss: 1219.9608 - root_mean_squared_error: 10.57 - ETA: 31s - loss: 1219.9604 - root_mean_squared_error: 10.57 - ETA: 31s - loss: 1219.9585 - root_mean_squared_error: 10.57 - ETA: 31s - loss: 1219.9586 - root_mean_squared_error: 10.57 - ETA: 31s - loss: 1219.9583 - root_mean_squared_error: 10.57 - ETA: 31s - loss: 1219.9573 - root_mean_squared_error: 10.57 - ETA: 30s - loss: 1219.9569 - root_mean_squared_error: 10.57 - ETA: 30s - loss: 1219.9564 - root_mean_squared_error: 10.57 - ETA: 30s - loss: 1219.9565 - root_mean_squared_error: 10.57 - ETA: 30s - loss: 1219.9561 - root_mean_squared_error: 10.57 - ETA: 29s - loss: 1219.9559 - root_mean_squared_error: 10.57 - ETA: 29s - loss: 1219.9566 - root_mean_squared_error: 10.57 - ETA: 29s - loss: 1219.9575 - root_mean_squared_error: 10.57 - ETA: 29s - loss: 1219.9556 - root_mean_squared_error: 10.57 - ETA: 29s - loss: 1219.9578 - root_mean_squared_error: 10.57 - ETA: 28s - loss: 1219.9578 - root_mean_squared_error: 10.57 - ETA: 28s - loss: 1219.9578 - root_mean_squared_error: 10.57 - ETA: 28s - loss: 1219.9577 - root_mean_squared_error: 10.57 - ETA: 28s - loss: 1219.9577 - root_mean_squared_error: 10.57 - ETA: 27s - loss: 1219.9576 - root_mean_squared_error: 10.57 - ETA: 27s - loss: 1219.9565 - root_mean_squared_error: 10.57 - ETA: 27s - loss: 1219.9573 - root_mean_squared_error: 10.57 - ETA: 27s - loss: 1219.9569 - root_mean_squared_error: 10.57 - ETA: 27s - loss: 1219.9569 - root_mean_squared_error: 10.57 - ETA: 26s - loss: 1219.9570 - root_mean_squared_error: 10.57 - ETA: 26s - loss: 1219.9568 - root_mean_squared_error: 10.57 - ETA: 26s - loss: 1219.9575 - root_mean_squared_error: 10.57 - ETA: 26s - loss: 1219.9574 - root_mean_squared_error: 10.57 - ETA: 25s - loss: 1219.9574 - root_mean_squared_error: 10.57 - ETA: 25s - loss: 1219.9577 - root_mean_squared_error: 10.57 - ETA: 25s - loss: 1219.9581 - root_mean_squared_error: 10.57 - ETA: 25s - loss: 1219.9585 - root_mean_squared_error: 10.57 - ETA: 24s - loss: 1219.9582 - root_mean_squared_error: 10.57 - ETA: 24s - loss: 1219.9583 - root_mean_squared_error: 10.57 - ETA: 24s - loss: 1219.9582 - root_mean_squared_error: 10.57 - ETA: 24s - loss: 1219.9577 - root_mean_squared_error: 10.57 - ETA: 24s - loss: 1219.9569 - root_mean_squared_error: 10.57 - ETA: 23s - loss: 1219.9568 - root_mean_squared_error: 10.57 - ETA: 23s - loss: 1219.9570 - root_mean_squared_error: 10.57 - ETA: 23s - loss: 1219.9561 - root_mean_squared_error: 10.57 - ETA: 23s - loss: 1219.9546 - root_mean_squared_error: 10.57 - ETA: 22s - loss: 1219.9560 - root_mean_squared_error: 10.57 - ETA: 22s - loss: 1219.9544 - root_mean_squared_error: 10.57 - ETA: 22s - loss: 1219.9541 - root_mean_squared_error: 10.57 - ETA: 22s - loss: 1219.9532 - root_mean_squared_error: 10.56 - ETA: 21s - loss: 1219.9536 - root_mean_squared_error: 10.57 - ETA: 21s - loss: 1219.9531 - root_mean_squared_error: 10.56 - ETA: 21s - loss: 1219.9528 - root_mean_squared_error: 10.56 - ETA: 21s - loss: 1219.9538 - root_mean_squared_error: 10.57 - ETA: 21s - loss: 1219.9539 - root_mean_squared_error: 10.57 - ETA: 20s - loss: 1219.9547 - root_mean_squared_error: 10.57 - ETA: 20s - loss: 1219.9551 - root_mean_squared_error: 10.57 - ETA: 20s - loss: 1219.9545 - root_mean_squared_error: 10.57 - ETA: 20s - loss: 1219.9541 - root_mean_squared_error: 10.57 - ETA: 19s - loss: 1219.9546 - root_mean_squared_error: 10.57 - ETA: 19s - loss: 1219.9550 - root_mean_squared_error: 10.57 - ETA: 19s - loss: 1219.9549 - root_mean_squared_error: 10.57 - ETA: 19s - loss: 1219.9546 - root_mean_squared_error: 10.57 - ETA: 18s - loss: 1219.9536 - root_mean_squared_error: 10.57 - ETA: 18s - loss: 1219.9556 - root_mean_squared_error: 10.57 - ETA: 18s - loss: 1219.9566 - root_mean_squared_error: 10.57 - ETA: 18s - loss: 1219.9572 - root_mean_squared_error: 10.57 - ETA: 17s - loss: 1219.9555 - root_mean_squared_error: 10.57 - ETA: 17s - loss: 1219.9560 - root_mean_squared_error: 10.57 - ETA: 17s - loss: 1219.9557 - root_mean_squared_error: 10.57 - ETA: 17s - loss: 1219.9558 - root_mean_squared_error: 10.57 - ETA: 16s - loss: 1219.9543 - root_mean_squared_error: 10.57 - ETA: 16s - loss: 1219.9539 - root_mean_squared_error: 10.57 - ETA: 16s - loss: 1219.9539 - root_mean_squared_error: 10.57 - ETA: 16s - loss: 1219.9541 - root_mean_squared_error: 10.57 - ETA: 15s - loss: 1219.9552 - root_mean_squared_error: 10.57 - ETA: 15s - loss: 1219.9555 - root_mean_squared_error: 10.57 - ETA: 15s - loss: 1219.9560 - root_mean_squared_error: 10.57 - ETA: 15s - loss: 1219.9548 - root_mean_squared_error: 10.57 - ETA: 15s - loss: 1219.9550 - root_mean_squared_error: 10.57 - ETA: 14s - loss: 1219.9551 - root_mean_squared_error: 10.57 - ETA: 14s - loss: 1219.9534 - root_mean_squared_error: 10.57 - ETA: 14s - loss: 1219.9528 - root_mean_squared_error: 10.57 - ETA: 14s - loss: 1219.9515 - root_mean_squared_error: 10.56 - ETA: 13s - loss: 1219.9510 - root_mean_squared_error: 10.56 - ETA: 13s - loss: 1219.9521 - root_mean_squared_error: 10.56 - ETA: 13s - loss: 1219.9517 - root_mean_squared_error: 10.56 - ETA: 13s - loss: 1219.9511 - root_mean_squared_error: 10.56 - ETA: 12s - loss: 1219.9516 - root_mean_squared_error: 10.56 - ETA: 12s - loss: 1219.9522 - root_mean_squared_error: 10.57 - ETA: 12s - loss: 1219.9520 - root_mean_squared_error: 10.56 - ETA: 12s - loss: 1219.9529 - root_mean_squared_error: 10.57 - ETA: 11s - loss: 1219.9537 - root_mean_squared_error: 10.57 - ETA: 11s - loss: 1219.9530 - root_mean_squared_error: 10.57 - ETA: 11s - loss: 1219.9528 - root_mean_squared_error: 10.57 - ETA: 11s - loss: 1219.9531 - root_mean_squared_error: 10.57 - ETA: 10s - loss: 1219.9539 - root_mean_squared_error: 10.57 - ETA: 10s - loss: 1219.9533 - root_mean_squared_error: 10.57 - ETA: 10s - loss: 1219.9546 - root_mean_squared_error: 10.57 - ETA: 10s - loss: 1219.9548 - root_mean_squared_error: 10.57 - ETA: 9s - loss: 1219.9563 - root_mean_squared_error: 10.5747 - ETA: 9s - loss: 1219.9563 - root_mean_squared_error: 10.574 - ETA: 9s - loss: 1219.9576 - root_mean_squared_error: 10.576 - ETA: 9s - loss: 1219.9579 - root_mean_squared_error: 10.576 - ETA: 8s - loss: 1219.9569 - root_mean_squared_error: 10.575 - ETA: 8s - loss: 1219.9572 - root_mean_squared_error: 10.575 - ETA: 8s - loss: 1219.9586 - root_mean_squared_error: 10.577 - ETA: 8s - loss: 1219.9590 - root_mean_squared_error: 10.577 - ETA: 7s - loss: 1219.9587 - root_mean_squared_error: 10.577 - ETA: 7s - loss: 1219.9578 - root_mean_squared_error: 10.576 - ETA: 7s - loss: 1219.9590 - root_mean_squared_error: 10.577 - ETA: 7s - loss: 1219.9592 - root_mean_squared_error: 10.578 - ETA: 6s - loss: 1219.9582 - root_mean_squared_error: 10.5771"
     ]
    },
    {
     "name": "stdout",
     "output_type": "stream",
     "text": [
      "74534/74534 [==============================] - ETA: 6s - loss: 1219.9581 - root_mean_squared_error: 10.577 - ETA: 6s - loss: 1219.9576 - root_mean_squared_error: 10.576 - ETA: 6s - loss: 1219.9583 - root_mean_squared_error: 10.577 - ETA: 5s - loss: 1219.9573 - root_mean_squared_error: 10.576 - ETA: 5s - loss: 1219.9570 - root_mean_squared_error: 10.576 - ETA: 5s - loss: 1219.9582 - root_mean_squared_error: 10.577 - ETA: 5s - loss: 1219.9582 - root_mean_squared_error: 10.577 - ETA: 4s - loss: 1219.9581 - root_mean_squared_error: 10.577 - ETA: 4s - loss: 1219.9577 - root_mean_squared_error: 10.577 - ETA: 4s - loss: 1219.9575 - root_mean_squared_error: 10.576 - ETA: 4s - loss: 1219.9570 - root_mean_squared_error: 10.576 - ETA: 4s - loss: 1219.9572 - root_mean_squared_error: 10.576 - ETA: 3s - loss: 1219.9577 - root_mean_squared_error: 10.577 - ETA: 3s - loss: 1219.9576 - root_mean_squared_error: 10.577 - ETA: 3s - loss: 1219.9578 - root_mean_squared_error: 10.577 - ETA: 3s - loss: 1219.9584 - root_mean_squared_error: 10.578 - ETA: 2s - loss: 1219.9587 - root_mean_squared_error: 10.578 - ETA: 2s - loss: 1219.9584 - root_mean_squared_error: 10.578 - ETA: 2s - loss: 1219.9582 - root_mean_squared_error: 10.578 - ETA: 2s - loss: 1219.9593 - root_mean_squared_error: 10.579 - ETA: 1s - loss: 1219.9601 - root_mean_squared_error: 10.580 - ETA: 1s - loss: 1219.9604 - root_mean_squared_error: 10.580 - ETA: 1s - loss: 1219.9609 - root_mean_squared_error: 10.581 - ETA: 1s - loss: 1219.9615 - root_mean_squared_error: 10.581 - ETA: 0s - loss: 1219.9620 - root_mean_squared_error: 10.582 - ETA: 0s - loss: 1219.9626 - root_mean_squared_error: 10.582 - ETA: 0s - loss: 1219.9629 - root_mean_squared_error: 10.583 - ETA: 0s - loss: 1219.9643 - root_mean_squared_error: 10.584 - 72s 970us/sample - loss: 1219.9645 - root_mean_squared_error: 10.5848\n",
      "Epoch 3/8\n",
      "33280/74534 [============>.................] - ETA: 1:11 - loss: 1219.9744 - root_mean_squared_error: 10.610 - ETA: 1:13 - loss: 1219.9329 - root_mean_squared_error: 10.569 - ETA: 1:13 - loss: 1219.9186 - root_mean_squared_error: 10.555 - ETA: 1:14 - loss: 1219.8980 - root_mean_squared_error: 10.534 - ETA: 1:14 - loss: 1219.9025 - root_mean_squared_error: 10.539 - ETA: 1:14 - loss: 1219.9061 - root_mean_squared_error: 10.543 - ETA: 1:13 - loss: 1219.8994 - root_mean_squared_error: 10.536 - ETA: 1:12 - loss: 1219.8897 - root_mean_squared_error: 10.526 - ETA: 1:12 - loss: 1219.9124 - root_mean_squared_error: 10.550 - ETA: 1:11 - loss: 1219.9183 - root_mean_squared_error: 10.555 - ETA: 1:11 - loss: 1219.8876 - root_mean_squared_error: 10.525 - ETA: 1:11 - loss: 1219.8784 - root_mean_squared_error: 10.516 - ETA: 1:11 - loss: 1219.8874 - root_mean_squared_error: 10.525 - ETA: 1:10 - loss: 1219.8878 - root_mean_squared_error: 10.526 - ETA: 1:10 - loss: 1219.9064 - root_mean_squared_error: 10.545 - ETA: 1:10 - loss: 1219.9178 - root_mean_squared_error: 10.556 - ETA: 1:10 - loss: 1219.9231 - root_mean_squared_error: 10.562 - ETA: 1:09 - loss: 1219.9155 - root_mean_squared_error: 10.554 - ETA: 1:09 - loss: 1219.9297 - root_mean_squared_error: 10.569 - ETA: 1:09 - loss: 1219.9415 - root_mean_squared_error: 10.581 - ETA: 1:08 - loss: 1219.9260 - root_mean_squared_error: 10.566 - ETA: 1:08 - loss: 1219.9350 - root_mean_squared_error: 10.575 - ETA: 1:08 - loss: 1219.9276 - root_mean_squared_error: 10.568 - ETA: 1:07 - loss: 1219.9316 - root_mean_squared_error: 10.572 - ETA: 1:07 - loss: 1219.9317 - root_mean_squared_error: 10.572 - ETA: 1:07 - loss: 1219.9268 - root_mean_squared_error: 10.567 - ETA: 1:07 - loss: 1219.9336 - root_mean_squared_error: 10.574 - ETA: 1:07 - loss: 1219.9345 - root_mean_squared_error: 10.575 - ETA: 1:06 - loss: 1219.9356 - root_mean_squared_error: 10.576 - ETA: 1:06 - loss: 1219.9421 - root_mean_squared_error: 10.583 - ETA: 1:06 - loss: 1219.9401 - root_mean_squared_error: 10.581 - ETA: 1:06 - loss: 1219.9359 - root_mean_squared_error: 10.577 - ETA: 1:05 - loss: 1219.9323 - root_mean_squared_error: 10.574 - ETA: 1:05 - loss: 1219.9331 - root_mean_squared_error: 10.574 - ETA: 1:05 - loss: 1219.9352 - root_mean_squared_error: 10.577 - ETA: 1:05 - loss: 1219.9347 - root_mean_squared_error: 10.576 - ETA: 1:05 - loss: 1219.9376 - root_mean_squared_error: 10.579 - ETA: 1:04 - loss: 1219.9387 - root_mean_squared_error: 10.581 - ETA: 1:04 - loss: 1219.9384 - root_mean_squared_error: 10.580 - ETA: 1:04 - loss: 1219.9285 - root_mean_squared_error: 10.571 - ETA: 1:04 - loss: 1219.9252 - root_mean_squared_error: 10.568 - ETA: 1:03 - loss: 1219.9204 - root_mean_squared_error: 10.563 - ETA: 1:03 - loss: 1219.9235 - root_mean_squared_error: 10.566 - ETA: 1:03 - loss: 1219.9205 - root_mean_squared_error: 10.563 - ETA: 1:03 - loss: 1219.9271 - root_mean_squared_error: 10.570 - ETA: 1:02 - loss: 1219.9242 - root_mean_squared_error: 10.568 - ETA: 1:02 - loss: 1219.9222 - root_mean_squared_error: 10.566 - ETA: 1:02 - loss: 1219.9162 - root_mean_squared_error: 10.560 - ETA: 1:02 - loss: 1219.9151 - root_mean_squared_error: 10.559 - ETA: 1:01 - loss: 1219.9186 - root_mean_squared_error: 10.563 - ETA: 1:01 - loss: 1219.9202 - root_mean_squared_error: 10.564 - ETA: 1:01 - loss: 1219.9241 - root_mean_squared_error: 10.569 - ETA: 1:01 - loss: 1219.9243 - root_mean_squared_error: 10.569 - ETA: 1:01 - loss: 1219.9261 - root_mean_squared_error: 10.571 - ETA: 1:00 - loss: 1219.9299 - root_mean_squared_error: 10.575 - ETA: 1:00 - loss: 1219.9295 - root_mean_squared_error: 10.575 - ETA: 1:00 - loss: 1219.9295 - root_mean_squared_error: 10.575 - ETA: 59s - loss: 1219.9337 - root_mean_squared_error: 10.579 - ETA: 59s - loss: 1219.9335 - root_mean_squared_error: 10.57 - ETA: 59s - loss: 1219.9288 - root_mean_squared_error: 10.57 - ETA: 59s - loss: 1219.9274 - root_mean_squared_error: 10.57 - ETA: 58s - loss: 1219.9288 - root_mean_squared_error: 10.57 - ETA: 58s - loss: 1219.9244 - root_mean_squared_error: 10.57 - ETA: 58s - loss: 1219.9280 - root_mean_squared_error: 10.57 - ETA: 58s - loss: 1219.9215 - root_mean_squared_error: 10.56 - ETA: 57s - loss: 1219.9235 - root_mean_squared_error: 10.57 - ETA: 57s - loss: 1219.9268 - root_mean_squared_error: 10.57 - ETA: 57s - loss: 1219.9282 - root_mean_squared_error: 10.57 - ETA: 57s - loss: 1219.9249 - root_mean_squared_error: 10.57 - ETA: 56s - loss: 1219.9241 - root_mean_squared_error: 10.57 - ETA: 56s - loss: 1219.9231 - root_mean_squared_error: 10.57 - ETA: 56s - loss: 1219.9269 - root_mean_squared_error: 10.57 - ETA: 56s - loss: 1219.9243 - root_mean_squared_error: 10.57 - ETA: 55s - loss: 1219.9262 - root_mean_squared_error: 10.57 - ETA: 55s - loss: 1219.9251 - root_mean_squared_error: 10.57 - ETA: 55s - loss: 1219.9247 - root_mean_squared_error: 10.57 - ETA: 55s - loss: 1219.9283 - root_mean_squared_error: 10.57 - ETA: 54s - loss: 1219.9309 - root_mean_squared_error: 10.58 - ETA: 54s - loss: 1219.9303 - root_mean_squared_error: 10.58 - ETA: 54s - loss: 1219.9290 - root_mean_squared_error: 10.57 - ETA: 54s - loss: 1219.9314 - root_mean_squared_error: 10.58 - ETA: 53s - loss: 1219.9344 - root_mean_squared_error: 10.58 - ETA: 53s - loss: 1219.9340 - root_mean_squared_error: 10.58 - ETA: 53s - loss: 1219.9328 - root_mean_squared_error: 10.58 - ETA: 53s - loss: 1219.9314 - root_mean_squared_error: 10.58 - ETA: 52s - loss: 1219.9302 - root_mean_squared_error: 10.58 - ETA: 52s - loss: 1219.9277 - root_mean_squared_error: 10.57 - ETA: 52s - loss: 1219.9235 - root_mean_squared_error: 10.57 - ETA: 52s - loss: 1219.9204 - root_mean_squared_error: 10.57 - ETA: 51s - loss: 1219.9195 - root_mean_squared_error: 10.57 - ETA: 51s - loss: 1219.9181 - root_mean_squared_error: 10.57 - ETA: 51s - loss: 1219.9208 - root_mean_squared_error: 10.57 - ETA: 51s - loss: 1219.9220 - root_mean_squared_error: 10.57 - ETA: 50s - loss: 1219.9231 - root_mean_squared_error: 10.57 - ETA: 50s - loss: 1219.9207 - root_mean_squared_error: 10.57 - ETA: 50s - loss: 1219.9198 - root_mean_squared_error: 10.57 - ETA: 50s - loss: 1219.9177 - root_mean_squared_error: 10.57 - ETA: 49s - loss: 1219.9187 - root_mean_squared_error: 10.57 - ETA: 49s - loss: 1219.9214 - root_mean_squared_error: 10.57 - ETA: 49s - loss: 1219.9222 - root_mean_squared_error: 10.57 - ETA: 48s - loss: 1219.9209 - root_mean_squared_error: 10.57 - ETA: 48s - loss: 1219.9187 - root_mean_squared_error: 10.57 - ETA: 48s - loss: 1219.9216 - root_mean_squared_error: 10.57 - ETA: 48s - loss: 1219.9196 - root_mean_squared_error: 10.57 - ETA: 47s - loss: 1219.9171 - root_mean_squared_error: 10.57 - ETA: 47s - loss: 1219.9181 - root_mean_squared_error: 10.57 - ETA: 47s - loss: 1219.9197 - root_mean_squared_error: 10.57 - ETA: 47s - loss: 1219.9183 - root_mean_squared_error: 10.57 - ETA: 46s - loss: 1219.9179 - root_mean_squared_error: 10.57 - ETA: 46s - loss: 1219.9187 - root_mean_squared_error: 10.57 - ETA: 46s - loss: 1219.9190 - root_mean_squared_error: 10.57 - ETA: 46s - loss: 1219.9195 - root_mean_squared_error: 10.57 - ETA: 45s - loss: 1219.9175 - root_mean_squared_error: 10.57 - ETA: 45s - loss: 1219.9182 - root_mean_squared_error: 10.57 - ETA: 45s - loss: 1219.9156 - root_mean_squared_error: 10.57 - ETA: 45s - loss: 1219.9156 - root_mean_squared_error: 10.57 - ETA: 44s - loss: 1219.9165 - root_mean_squared_error: 10.57 - ETA: 44s - loss: 1219.9165 - root_mean_squared_error: 10.57 - ETA: 44s - loss: 1219.9165 - root_mean_squared_error: 10.57 - ETA: 44s - loss: 1219.9148 - root_mean_squared_error: 10.57 - ETA: 43s - loss: 1219.9157 - root_mean_squared_error: 10.57 - ETA: 43s - loss: 1219.9144 - root_mean_squared_error: 10.57 - ETA: 43s - loss: 1219.9141 - root_mean_squared_error: 10.57 - ETA: 42s - loss: 1219.9127 - root_mean_squared_error: 10.57 - ETA: 42s - loss: 1219.9127 - root_mean_squared_error: 10.57 - ETA: 42s - loss: 1219.9089 - root_mean_squared_error: 10.57 - ETA: 42s - loss: 1219.9088 - root_mean_squared_error: 10.57 - ETA: 41s - loss: 1219.9090 - root_mean_squared_error: 10.57 - ETA: 41s - loss: 1219.9079 - root_mean_squared_error: 10.57 - ETA: 41s - loss: 1219.9083 - root_mean_squared_error: 10.570867072/74534 [=========================>....] - ETA: 41s - loss: 1219.9060 - root_mean_squared_error: 10.56 - ETA: 40s - loss: 1219.9067 - root_mean_squared_error: 10.56 - ETA: 40s - loss: 1219.9067 - root_mean_squared_error: 10.57 - ETA: 40s - loss: 1219.9053 - root_mean_squared_error: 10.56 - ETA: 40s - loss: 1219.9042 - root_mean_squared_error: 10.56 - ETA: 39s - loss: 1219.9069 - root_mean_squared_error: 10.57 - ETA: 39s - loss: 1219.9063 - root_mean_squared_error: 10.57 - ETA: 39s - loss: 1219.9076 - root_mean_squared_error: 10.57 - ETA: 39s - loss: 1219.9073 - root_mean_squared_error: 10.57 - ETA: 38s - loss: 1219.9068 - root_mean_squared_error: 10.57 - ETA: 38s - loss: 1219.9063 - root_mean_squared_error: 10.57 - ETA: 38s - loss: 1219.9052 - root_mean_squared_error: 10.57 - ETA: 38s - loss: 1219.9043 - root_mean_squared_error: 10.57 - ETA: 37s - loss: 1219.9031 - root_mean_squared_error: 10.56 - ETA: 37s - loss: 1219.9025 - root_mean_squared_error: 10.56 - ETA: 37s - loss: 1219.9020 - root_mean_squared_error: 10.56 - ETA: 37s - loss: 1219.9029 - root_mean_squared_error: 10.57 - ETA: 36s - loss: 1219.9030 - root_mean_squared_error: 10.57 - ETA: 36s - loss: 1219.9025 - root_mean_squared_error: 10.57 - ETA: 36s - loss: 1219.9021 - root_mean_squared_error: 10.57 - ETA: 36s - loss: 1219.9027 - root_mean_squared_error: 10.57 - ETA: 35s - loss: 1219.9023 - root_mean_squared_error: 10.57 - ETA: 35s - loss: 1219.9014 - root_mean_squared_error: 10.57 - ETA: 35s - loss: 1219.9029 - root_mean_squared_error: 10.57 - ETA: 35s - loss: 1219.9036 - root_mean_squared_error: 10.57 - ETA: 34s - loss: 1219.9047 - root_mean_squared_error: 10.57 - ETA: 34s - loss: 1219.9037 - root_mean_squared_error: 10.57 - ETA: 34s - loss: 1219.9027 - root_mean_squared_error: 10.57 - ETA: 34s - loss: 1219.9019 - root_mean_squared_error: 10.57 - ETA: 33s - loss: 1219.9003 - root_mean_squared_error: 10.57 - ETA: 33s - loss: 1219.9019 - root_mean_squared_error: 10.57 - ETA: 33s - loss: 1219.9017 - root_mean_squared_error: 10.57 - ETA: 33s - loss: 1219.9038 - root_mean_squared_error: 10.57 - ETA: 32s - loss: 1219.9044 - root_mean_squared_error: 10.57 - ETA: 32s - loss: 1219.9041 - root_mean_squared_error: 10.57 - ETA: 32s - loss: 1219.9049 - root_mean_squared_error: 10.57 - ETA: 32s - loss: 1219.9035 - root_mean_squared_error: 10.57 - ETA: 31s - loss: 1219.9050 - root_mean_squared_error: 10.57 - ETA: 31s - loss: 1219.9043 - root_mean_squared_error: 10.57 - ETA: 31s - loss: 1219.9030 - root_mean_squared_error: 10.57 - ETA: 31s - loss: 1219.9010 - root_mean_squared_error: 10.57 - ETA: 30s - loss: 1219.9011 - root_mean_squared_error: 10.57 - ETA: 30s - loss: 1219.9004 - root_mean_squared_error: 10.57 - ETA: 30s - loss: 1219.9010 - root_mean_squared_error: 10.57 - ETA: 30s - loss: 1219.8985 - root_mean_squared_error: 10.57 - ETA: 29s - loss: 1219.8978 - root_mean_squared_error: 10.57 - ETA: 29s - loss: 1219.8973 - root_mean_squared_error: 10.57 - ETA: 29s - loss: 1219.8970 - root_mean_squared_error: 10.57 - ETA: 29s - loss: 1219.8968 - root_mean_squared_error: 10.57 - ETA: 28s - loss: 1219.8970 - root_mean_squared_error: 10.57 - ETA: 28s - loss: 1219.8967 - root_mean_squared_error: 10.57 - ETA: 28s - loss: 1219.8976 - root_mean_squared_error: 10.57 - ETA: 28s - loss: 1219.8963 - root_mean_squared_error: 10.57 - ETA: 27s - loss: 1219.8953 - root_mean_squared_error: 10.57 - ETA: 27s - loss: 1219.8942 - root_mean_squared_error: 10.57 - ETA: 27s - loss: 1219.8934 - root_mean_squared_error: 10.57 - ETA: 27s - loss: 1219.8930 - root_mean_squared_error: 10.57 - ETA: 27s - loss: 1219.8923 - root_mean_squared_error: 10.57 - ETA: 26s - loss: 1219.8910 - root_mean_squared_error: 10.57 - ETA: 26s - loss: 1219.8908 - root_mean_squared_error: 10.57 - ETA: 26s - loss: 1219.8908 - root_mean_squared_error: 10.57 - ETA: 25s - loss: 1219.8905 - root_mean_squared_error: 10.57 - ETA: 25s - loss: 1219.8898 - root_mean_squared_error: 10.57 - ETA: 25s - loss: 1219.8883 - root_mean_squared_error: 10.57 - ETA: 25s - loss: 1219.8886 - root_mean_squared_error: 10.57 - ETA: 24s - loss: 1219.8881 - root_mean_squared_error: 10.57 - ETA: 24s - loss: 1219.8892 - root_mean_squared_error: 10.57 - ETA: 24s - loss: 1219.8890 - root_mean_squared_error: 10.57 - ETA: 24s - loss: 1219.8884 - root_mean_squared_error: 10.57 - ETA: 23s - loss: 1219.8893 - root_mean_squared_error: 10.57 - ETA: 23s - loss: 1219.8878 - root_mean_squared_error: 10.57 - ETA: 23s - loss: 1219.8860 - root_mean_squared_error: 10.57 - ETA: 23s - loss: 1219.8838 - root_mean_squared_error: 10.57 - ETA: 22s - loss: 1219.8843 - root_mean_squared_error: 10.57 - ETA: 22s - loss: 1219.8841 - root_mean_squared_error: 10.57 - ETA: 22s - loss: 1219.8833 - root_mean_squared_error: 10.57 - ETA: 21s - loss: 1219.8829 - root_mean_squared_error: 10.57 - ETA: 21s - loss: 1219.8822 - root_mean_squared_error: 10.57 - ETA: 21s - loss: 1219.8820 - root_mean_squared_error: 10.57 - ETA: 21s - loss: 1219.8819 - root_mean_squared_error: 10.57 - ETA: 20s - loss: 1219.8801 - root_mean_squared_error: 10.57 - ETA: 20s - loss: 1219.8785 - root_mean_squared_error: 10.57 - ETA: 20s - loss: 1219.8772 - root_mean_squared_error: 10.57 - ETA: 20s - loss: 1219.8771 - root_mean_squared_error: 10.57 - ETA: 19s - loss: 1219.8771 - root_mean_squared_error: 10.57 - ETA: 19s - loss: 1219.8765 - root_mean_squared_error: 10.57 - ETA: 19s - loss: 1219.8767 - root_mean_squared_error: 10.57 - ETA: 19s - loss: 1219.8771 - root_mean_squared_error: 10.57 - ETA: 18s - loss: 1219.8784 - root_mean_squared_error: 10.57 - ETA: 18s - loss: 1219.8776 - root_mean_squared_error: 10.57 - ETA: 18s - loss: 1219.8772 - root_mean_squared_error: 10.57 - ETA: 18s - loss: 1219.8772 - root_mean_squared_error: 10.57 - ETA: 17s - loss: 1219.8775 - root_mean_squared_error: 10.57 - ETA: 17s - loss: 1219.8771 - root_mean_squared_error: 10.57 - ETA: 17s - loss: 1219.8764 - root_mean_squared_error: 10.57 - ETA: 17s - loss: 1219.8758 - root_mean_squared_error: 10.57 - ETA: 16s - loss: 1219.8750 - root_mean_squared_error: 10.57 - ETA: 16s - loss: 1219.8734 - root_mean_squared_error: 10.57 - ETA: 16s - loss: 1219.8732 - root_mean_squared_error: 10.57 - ETA: 16s - loss: 1219.8728 - root_mean_squared_error: 10.57 - ETA: 15s - loss: 1219.8731 - root_mean_squared_error: 10.57 - ETA: 15s - loss: 1219.8712 - root_mean_squared_error: 10.57 - ETA: 15s - loss: 1219.8703 - root_mean_squared_error: 10.57 - ETA: 15s - loss: 1219.8713 - root_mean_squared_error: 10.57 - ETA: 14s - loss: 1219.8709 - root_mean_squared_error: 10.57 - ETA: 14s - loss: 1219.8698 - root_mean_squared_error: 10.57 - ETA: 14s - loss: 1219.8686 - root_mean_squared_error: 10.57 - ETA: 13s - loss: 1219.8690 - root_mean_squared_error: 10.57 - ETA: 13s - loss: 1219.8684 - root_mean_squared_error: 10.57 - ETA: 13s - loss: 1219.8681 - root_mean_squared_error: 10.57 - ETA: 13s - loss: 1219.8676 - root_mean_squared_error: 10.57 - ETA: 12s - loss: 1219.8668 - root_mean_squared_error: 10.57 - ETA: 12s - loss: 1219.8671 - root_mean_squared_error: 10.57 - ETA: 12s - loss: 1219.8661 - root_mean_squared_error: 10.57 - ETA: 12s - loss: 1219.8646 - root_mean_squared_error: 10.57 - ETA: 11s - loss: 1219.8635 - root_mean_squared_error: 10.57 - ETA: 11s - loss: 1219.8622 - root_mean_squared_error: 10.57 - ETA: 11s - loss: 1219.8624 - root_mean_squared_error: 10.57 - ETA: 11s - loss: 1219.8620 - root_mean_squared_error: 10.57 - ETA: 10s - loss: 1219.8617 - root_mean_squared_error: 10.57 - ETA: 10s - loss: 1219.8611 - root_mean_squared_error: 10.57 - ETA: 10s - loss: 1219.8596 - root_mean_squared_error: 10.57 - ETA: 10s - loss: 1219.8588 - root_mean_squared_error: 10.57 - ETA: 9s - loss: 1219.8579 - root_mean_squared_error: 10.5748 - ETA: 9s - loss: 1219.8570 - root_mean_squared_error: 10.574 - ETA: 9s - loss: 1219.8563 - root_mean_squared_error: 10.574 - ETA: 8s - loss: 1219.8561 - root_mean_squared_error: 10.574 - ETA: 8s - loss: 1219.8560 - root_mean_squared_error: 10.575 - ETA: 8s - loss: 1219.8561 - root_mean_squared_error: 10.576 - ETA: 8s - loss: 1219.8544 - root_mean_squared_error: 10.575 - ETA: 7s - loss: 1219.8528 - root_mean_squared_error: 10.574 - ETA: 7s - loss: 1219.8528 - root_mean_squared_error: 10.575074534/74534 [==============================] - ETA: 7s - loss: 1219.8525 - root_mean_squared_error: 10.575 - ETA: 7s - loss: 1219.8520 - root_mean_squared_error: 10.575 - ETA: 6s - loss: 1219.8508 - root_mean_squared_error: 10.575 - ETA: 6s - loss: 1219.8499 - root_mean_squared_error: 10.574 - ETA: 6s - loss: 1219.8499 - root_mean_squared_error: 10.575 - ETA: 6s - loss: 1219.8490 - root_mean_squared_error: 10.575 - ETA: 5s - loss: 1219.8479 - root_mean_squared_error: 10.574 - ETA: 5s - loss: 1219.8479 - root_mean_squared_error: 10.575 - ETA: 5s - loss: 1219.8467 - root_mean_squared_error: 10.575 - ETA: 5s - loss: 1219.8449 - root_mean_squared_error: 10.574 - ETA: 4s - loss: 1219.8440 - root_mean_squared_error: 10.574 - ETA: 4s - loss: 1219.8434 - root_mean_squared_error: 10.574 - ETA: 4s - loss: 1219.8433 - root_mean_squared_error: 10.574 - ETA: 3s - loss: 1219.8420 - root_mean_squared_error: 10.574 - ETA: 3s - loss: 1219.8425 - root_mean_squared_error: 10.575 - ETA: 3s - loss: 1219.8410 - root_mean_squared_error: 10.574 - ETA: 3s - loss: 1219.8412 - root_mean_squared_error: 10.575 - ETA: 2s - loss: 1219.8389 - root_mean_squared_error: 10.574 - ETA: 2s - loss: 1219.8387 - root_mean_squared_error: 10.574 - ETA: 2s - loss: 1219.8375 - root_mean_squared_error: 10.574 - ETA: 2s - loss: 1219.8362 - root_mean_squared_error: 10.573 - ETA: 1s - loss: 1219.8351 - root_mean_squared_error: 10.573 - ETA: 1s - loss: 1219.8349 - root_mean_squared_error: 10.574 - ETA: 1s - loss: 1219.8345 - root_mean_squared_error: 10.574 - ETA: 1s - loss: 1219.8341 - root_mean_squared_error: 10.574 - ETA: 0s - loss: 1219.8336 - root_mean_squared_error: 10.575 - ETA: 0s - loss: 1219.8329 - root_mean_squared_error: 10.575 - ETA: 0s - loss: 1219.8321 - root_mean_squared_error: 10.575 - ETA: 0s - loss: 1219.8310 - root_mean_squared_error: 10.575 - 76s 1ms/sample - loss: 1219.8312 - root_mean_squared_error: 10.5755\n",
      "Epoch 4/8\n"
     ]
    },
    {
     "name": "stdout",
     "output_type": "stream",
     "text": [
      "33280/74534 [============>.................] - ETA: 1:10 - loss: 1219.5244 - root_mean_squared_error: 10.515 - ETA: 1:09 - loss: 1219.4608 - root_mean_squared_error: 10.454 - ETA: 1:09 - loss: 1219.5794 - root_mean_squared_error: 10.575 - ETA: 1:09 - loss: 1219.6682 - root_mean_squared_error: 10.667 - ETA: 1:08 - loss: 1219.7357 - root_mean_squared_error: 10.736 - ETA: 1:08 - loss: 1219.7258 - root_mean_squared_error: 10.728 - ETA: 1:09 - loss: 1219.7518 - root_mean_squared_error: 10.755 - ETA: 1:09 - loss: 1219.7258 - root_mean_squared_error: 10.731 - ETA: 1:09 - loss: 1219.7199 - root_mean_squared_error: 10.727 - ETA: 1:09 - loss: 1219.7076 - root_mean_squared_error: 10.716 - ETA: 1:09 - loss: 1219.6929 - root_mean_squared_error: 10.703 - ETA: 1:09 - loss: 1219.6820 - root_mean_squared_error: 10.694 - ETA: 1:09 - loss: 1219.6872 - root_mean_squared_error: 10.701 - ETA: 1:09 - loss: 1219.6629 - root_mean_squared_error: 10.679 - ETA: 1:09 - loss: 1219.6396 - root_mean_squared_error: 10.657 - ETA: 1:08 - loss: 1219.6329 - root_mean_squared_error: 10.652 - ETA: 1:08 - loss: 1219.6119 - root_mean_squared_error: 10.633 - ETA: 1:08 - loss: 1219.6006 - root_mean_squared_error: 10.624 - ETA: 1:08 - loss: 1219.5963 - root_mean_squared_error: 10.622 - ETA: 1:07 - loss: 1219.5913 - root_mean_squared_error: 10.618 - ETA: 1:08 - loss: 1219.5805 - root_mean_squared_error: 10.609 - ETA: 1:08 - loss: 1219.5753 - root_mean_squared_error: 10.606 - ETA: 1:07 - loss: 1219.5702 - root_mean_squared_error: 10.603 - ETA: 1:07 - loss: 1219.5716 - root_mean_squared_error: 10.606 - ETA: 1:07 - loss: 1219.5740 - root_mean_squared_error: 10.610 - ETA: 1:07 - loss: 1219.5711 - root_mean_squared_error: 10.609 - ETA: 1:06 - loss: 1219.5667 - root_mean_squared_error: 10.607 - ETA: 1:06 - loss: 1219.5600 - root_mean_squared_error: 10.602 - ETA: 1:06 - loss: 1219.5517 - root_mean_squared_error: 10.596 - ETA: 1:06 - loss: 1219.5505 - root_mean_squared_error: 10.597 - ETA: 1:05 - loss: 1219.5359 - root_mean_squared_error: 10.584 - ETA: 1:05 - loss: 1219.5302 - root_mean_squared_error: 10.581 - ETA: 1:05 - loss: 1219.5326 - root_mean_squared_error: 10.585 - ETA: 1:05 - loss: 1219.5380 - root_mean_squared_error: 10.593 - ETA: 1:04 - loss: 1219.5387 - root_mean_squared_error: 10.595 - ETA: 1:04 - loss: 1219.5402 - root_mean_squared_error: 10.599 - ETA: 1:04 - loss: 1219.5367 - root_mean_squared_error: 10.598 - ETA: 1:03 - loss: 1219.5359 - root_mean_squared_error: 10.599 - ETA: 1:03 - loss: 1219.5353 - root_mean_squared_error: 10.600 - ETA: 1:03 - loss: 1219.5293 - root_mean_squared_error: 10.597 - ETA: 1:03 - loss: 1219.5334 - root_mean_squared_error: 10.603 - ETA: 1:03 - loss: 1219.5323 - root_mean_squared_error: 10.604 - ETA: 1:02 - loss: 1219.5333 - root_mean_squared_error: 10.607 - ETA: 1:02 - loss: 1219.5317 - root_mean_squared_error: 10.608 - ETA: 1:02 - loss: 1219.5279 - root_mean_squared_error: 10.606 - ETA: 1:02 - loss: 1219.5290 - root_mean_squared_error: 10.609 - ETA: 1:01 - loss: 1219.5223 - root_mean_squared_error: 10.605 - ETA: 1:01 - loss: 1219.5194 - root_mean_squared_error: 10.604 - ETA: 1:01 - loss: 1219.5145 - root_mean_squared_error: 10.602 - ETA: 1:01 - loss: 1219.5076 - root_mean_squared_error: 10.597 - ETA: 1:00 - loss: 1219.5004 - root_mean_squared_error: 10.592 - ETA: 1:00 - loss: 1219.5016 - root_mean_squared_error: 10.596 - ETA: 1:00 - loss: 1219.5054 - root_mean_squared_error: 10.602 - ETA: 1:00 - loss: 1219.5021 - root_mean_squared_error: 10.601 - ETA: 59s - loss: 1219.4946 - root_mean_squared_error: 10.596 - ETA: 59s - loss: 1219.4914 - root_mean_squared_error: 10.59 - ETA: 59s - loss: 1219.4891 - root_mean_squared_error: 10.59 - ETA: 59s - loss: 1219.4826 - root_mean_squared_error: 10.59 - ETA: 59s - loss: 1219.4836 - root_mean_squared_error: 10.59 - ETA: 58s - loss: 1219.4777 - root_mean_squared_error: 10.59 - ETA: 58s - loss: 1219.4717 - root_mean_squared_error: 10.58 - ETA: 58s - loss: 1219.4676 - root_mean_squared_error: 10.58 - ETA: 57s - loss: 1219.4652 - root_mean_squared_error: 10.58 - ETA: 57s - loss: 1219.4649 - root_mean_squared_error: 10.58 - ETA: 57s - loss: 1219.4643 - root_mean_squared_error: 10.59 - ETA: 57s - loss: 1219.4591 - root_mean_squared_error: 10.58 - ETA: 56s - loss: 1219.4559 - root_mean_squared_error: 10.58 - ETA: 56s - loss: 1219.4527 - root_mean_squared_error: 10.58 - ETA: 56s - loss: 1219.4499 - root_mean_squared_error: 10.58 - ETA: 56s - loss: 1219.4469 - root_mean_squared_error: 10.58 - ETA: 56s - loss: 1219.4445 - root_mean_squared_error: 10.58 - ETA: 55s - loss: 1219.4391 - root_mean_squared_error: 10.58 - ETA: 55s - loss: 1219.4352 - root_mean_squared_error: 10.58 - ETA: 55s - loss: 1219.4330 - root_mean_squared_error: 10.58 - ETA: 54s - loss: 1219.4310 - root_mean_squared_error: 10.58 - ETA: 54s - loss: 1219.4283 - root_mean_squared_error: 10.58 - ETA: 54s - loss: 1219.4254 - root_mean_squared_error: 10.58 - ETA: 54s - loss: 1219.4225 - root_mean_squared_error: 10.58 - ETA: 53s - loss: 1219.4218 - root_mean_squared_error: 10.58 - ETA: 53s - loss: 1219.4193 - root_mean_squared_error: 10.58 - ETA: 53s - loss: 1219.4203 - root_mean_squared_error: 10.58 - ETA: 53s - loss: 1219.4188 - root_mean_squared_error: 10.58 - ETA: 53s - loss: 1219.4184 - root_mean_squared_error: 10.59 - ETA: 52s - loss: 1219.4144 - root_mean_squared_error: 10.59 - ETA: 52s - loss: 1219.4127 - root_mean_squared_error: 10.59 - ETA: 52s - loss: 1219.4096 - root_mean_squared_error: 10.59 - ETA: 51s - loss: 1219.4055 - root_mean_squared_error: 10.59 - ETA: 51s - loss: 1219.4013 - root_mean_squared_error: 10.58 - ETA: 51s - loss: 1219.3951 - root_mean_squared_error: 10.58 - ETA: 51s - loss: 1219.3924 - root_mean_squared_error: 10.58 - ETA: 50s - loss: 1219.3903 - root_mean_squared_error: 10.58 - ETA: 50s - loss: 1219.3873 - root_mean_squared_error: 10.58 - ETA: 50s - loss: 1219.3871 - root_mean_squared_error: 10.58 - ETA: 50s - loss: 1219.3812 - root_mean_squared_error: 10.58 - ETA: 50s - loss: 1219.3801 - root_mean_squared_error: 10.58 - ETA: 49s - loss: 1219.3771 - root_mean_squared_error: 10.58 - ETA: 49s - loss: 1219.3745 - root_mean_squared_error: 10.58 - ETA: 49s - loss: 1219.3691 - root_mean_squared_error: 10.58 - ETA: 48s - loss: 1219.3669 - root_mean_squared_error: 10.58 - ETA: 48s - loss: 1219.3651 - root_mean_squared_error: 10.58 - ETA: 48s - loss: 1219.3593 - root_mean_squared_error: 10.58 - ETA: 48s - loss: 1219.3572 - root_mean_squared_error: 10.58 - ETA: 47s - loss: 1219.3531 - root_mean_squared_error: 10.58 - ETA: 47s - loss: 1219.3508 - root_mean_squared_error: 10.58 - ETA: 47s - loss: 1219.3453 - root_mean_squared_error: 10.58 - ETA: 47s - loss: 1219.3408 - root_mean_squared_error: 10.58 - ETA: 46s - loss: 1219.3364 - root_mean_squared_error: 10.58 - ETA: 46s - loss: 1219.3327 - root_mean_squared_error: 10.58 - ETA: 46s - loss: 1219.3304 - root_mean_squared_error: 10.58 - ETA: 46s - loss: 1219.3274 - root_mean_squared_error: 10.58 - ETA: 45s - loss: 1219.3261 - root_mean_squared_error: 10.58 - ETA: 45s - loss: 1219.3232 - root_mean_squared_error: 10.58 - ETA: 45s - loss: 1219.3191 - root_mean_squared_error: 10.58 - ETA: 45s - loss: 1219.3149 - root_mean_squared_error: 10.58 - ETA: 44s - loss: 1219.3098 - root_mean_squared_error: 10.58 - ETA: 44s - loss: 1219.3053 - root_mean_squared_error: 10.58 - ETA: 44s - loss: 1219.3036 - root_mean_squared_error: 10.58 - ETA: 44s - loss: 1219.2998 - root_mean_squared_error: 10.58 - ETA: 43s - loss: 1219.2967 - root_mean_squared_error: 10.58 - ETA: 43s - loss: 1219.2947 - root_mean_squared_error: 10.58 - ETA: 43s - loss: 1219.2891 - root_mean_squared_error: 10.58 - ETA: 43s - loss: 1219.2815 - root_mean_squared_error: 10.57 - ETA: 42s - loss: 1219.2779 - root_mean_squared_error: 10.57 - ETA: 42s - loss: 1219.2750 - root_mean_squared_error: 10.58 - ETA: 42s - loss: 1219.2712 - root_mean_squared_error: 10.57 - ETA: 42s - loss: 1219.2681 - root_mean_squared_error: 10.58 - ETA: 41s - loss: 1219.2638 - root_mean_squared_error: 10.57 - ETA: 41s - loss: 1219.2614 - root_mean_squared_error: 10.58 - ETA: 41s - loss: 1219.2577 - root_mean_squared_error: 10.58 - ETA: 41s - loss: 1219.2548 - root_mean_squared_error: 10.582167072/74534 [=========================>....] - ETA: 40s - loss: 1219.2498 - root_mean_squared_error: 10.58 - ETA: 40s - loss: 1219.2465 - root_mean_squared_error: 10.58 - ETA: 40s - loss: 1219.2440 - root_mean_squared_error: 10.58 - ETA: 40s - loss: 1219.2382 - root_mean_squared_error: 10.58 - ETA: 39s - loss: 1219.2343 - root_mean_squared_error: 10.58 - ETA: 39s - loss: 1219.2289 - root_mean_squared_error: 10.57 - ETA: 39s - loss: 1219.2268 - root_mean_squared_error: 10.58 - ETA: 39s - loss: 1219.2247 - root_mean_squared_error: 10.58 - ETA: 38s - loss: 1219.2207 - root_mean_squared_error: 10.58 - ETA: 38s - loss: 1219.2144 - root_mean_squared_error: 10.58 - ETA: 38s - loss: 1219.2090 - root_mean_squared_error: 10.57 - ETA: 38s - loss: 1219.2072 - root_mean_squared_error: 10.58 - ETA: 37s - loss: 1219.2056 - root_mean_squared_error: 10.58 - ETA: 37s - loss: 1219.2014 - root_mean_squared_error: 10.58 - ETA: 37s - loss: 1219.1960 - root_mean_squared_error: 10.58 - ETA: 37s - loss: 1219.1917 - root_mean_squared_error: 10.58 - ETA: 36s - loss: 1219.1857 - root_mean_squared_error: 10.58 - ETA: 36s - loss: 1219.1823 - root_mean_squared_error: 10.58 - ETA: 36s - loss: 1219.1785 - root_mean_squared_error: 10.58 - ETA: 35s - loss: 1219.1734 - root_mean_squared_error: 10.58 - ETA: 35s - loss: 1219.1702 - root_mean_squared_error: 10.58 - ETA: 35s - loss: 1219.1666 - root_mean_squared_error: 10.58 - ETA: 35s - loss: 1219.1597 - root_mean_squared_error: 10.58 - ETA: 34s - loss: 1219.1557 - root_mean_squared_error: 10.58 - ETA: 34s - loss: 1219.1510 - root_mean_squared_error: 10.58 - ETA: 34s - loss: 1219.1472 - root_mean_squared_error: 10.58 - ETA: 34s - loss: 1219.1425 - root_mean_squared_error: 10.58 - ETA: 33s - loss: 1219.1374 - root_mean_squared_error: 10.58 - ETA: 33s - loss: 1219.1324 - root_mean_squared_error: 10.58 - ETA: 33s - loss: 1219.1266 - root_mean_squared_error: 10.57 - ETA: 33s - loss: 1219.1238 - root_mean_squared_error: 10.58 - ETA: 32s - loss: 1219.1191 - root_mean_squared_error: 10.58 - ETA: 32s - loss: 1219.1143 - root_mean_squared_error: 10.58 - ETA: 32s - loss: 1219.1099 - root_mean_squared_error: 10.58 - ETA: 32s - loss: 1219.1042 - root_mean_squared_error: 10.58 - ETA: 31s - loss: 1219.0997 - root_mean_squared_error: 10.58 - ETA: 31s - loss: 1219.0945 - root_mean_squared_error: 10.58 - ETA: 31s - loss: 1219.0902 - root_mean_squared_error: 10.58 - ETA: 31s - loss: 1219.0842 - root_mean_squared_error: 10.57 - ETA: 30s - loss: 1219.0791 - root_mean_squared_error: 10.57 - ETA: 30s - loss: 1219.0729 - root_mean_squared_error: 10.57 - ETA: 30s - loss: 1219.0670 - root_mean_squared_error: 10.57 - ETA: 30s - loss: 1219.0647 - root_mean_squared_error: 10.57 - ETA: 29s - loss: 1219.0601 - root_mean_squared_error: 10.58 - ETA: 29s - loss: 1219.0544 - root_mean_squared_error: 10.57 - ETA: 29s - loss: 1219.0495 - root_mean_squared_error: 10.57 - ETA: 29s - loss: 1219.0421 - root_mean_squared_error: 10.57 - ETA: 28s - loss: 1219.0369 - root_mean_squared_error: 10.57 - ETA: 28s - loss: 1219.0328 - root_mean_squared_error: 10.57 - ETA: 28s - loss: 1219.0290 - root_mean_squared_error: 10.58 - ETA: 28s - loss: 1219.0234 - root_mean_squared_error: 10.57 - ETA: 27s - loss: 1219.0169 - root_mean_squared_error: 10.57 - ETA: 27s - loss: 1219.0122 - root_mean_squared_error: 10.57 - ETA: 27s - loss: 1219.0079 - root_mean_squared_error: 10.58 - ETA: 27s - loss: 1219.0027 - root_mean_squared_error: 10.58 - ETA: 26s - loss: 1218.9964 - root_mean_squared_error: 10.57 - ETA: 26s - loss: 1218.9915 - root_mean_squared_error: 10.58 - ETA: 26s - loss: 1218.9846 - root_mean_squared_error: 10.57 - ETA: 26s - loss: 1218.9778 - root_mean_squared_error: 10.57 - ETA: 25s - loss: 1218.9719 - root_mean_squared_error: 10.57 - ETA: 25s - loss: 1218.9671 - root_mean_squared_error: 10.57 - ETA: 25s - loss: 1218.9617 - root_mean_squared_error: 10.57 - ETA: 25s - loss: 1218.9556 - root_mean_squared_error: 10.57 - ETA: 24s - loss: 1218.9506 - root_mean_squared_error: 10.57 - ETA: 24s - loss: 1218.9447 - root_mean_squared_error: 10.57 - ETA: 24s - loss: 1218.9398 - root_mean_squared_error: 10.57 - ETA: 23s - loss: 1218.9339 - root_mean_squared_error: 10.57 - ETA: 23s - loss: 1218.9278 - root_mean_squared_error: 10.57 - ETA: 23s - loss: 1218.9201 - root_mean_squared_error: 10.57 - ETA: 23s - loss: 1218.9134 - root_mean_squared_error: 10.57 - ETA: 22s - loss: 1218.9076 - root_mean_squared_error: 10.57 - ETA: 22s - loss: 1218.9004 - root_mean_squared_error: 10.57 - ETA: 22s - loss: 1218.8931 - root_mean_squared_error: 10.57 - ETA: 22s - loss: 1218.8866 - root_mean_squared_error: 10.57 - ETA: 21s - loss: 1218.8810 - root_mean_squared_error: 10.57 - ETA: 21s - loss: 1218.8746 - root_mean_squared_error: 10.57 - ETA: 21s - loss: 1218.8689 - root_mean_squared_error: 10.57 - ETA: 21s - loss: 1218.8624 - root_mean_squared_error: 10.57 - ETA: 20s - loss: 1218.8552 - root_mean_squared_error: 10.57 - ETA: 20s - loss: 1218.8477 - root_mean_squared_error: 10.57 - ETA: 20s - loss: 1218.8415 - root_mean_squared_error: 10.57 - ETA: 20s - loss: 1218.8351 - root_mean_squared_error: 10.57 - ETA: 19s - loss: 1218.8276 - root_mean_squared_error: 10.57 - ETA: 19s - loss: 1218.8212 - root_mean_squared_error: 10.57 - ETA: 19s - loss: 1218.8150 - root_mean_squared_error: 10.57 - ETA: 19s - loss: 1218.8081 - root_mean_squared_error: 10.57 - ETA: 18s - loss: 1218.8026 - root_mean_squared_error: 10.57 - ETA: 18s - loss: 1218.7968 - root_mean_squared_error: 10.57 - ETA: 18s - loss: 1218.7896 - root_mean_squared_error: 10.57 - ETA: 18s - loss: 1218.7825 - root_mean_squared_error: 10.57 - ETA: 17s - loss: 1218.7762 - root_mean_squared_error: 10.57 - ETA: 17s - loss: 1218.7698 - root_mean_squared_error: 10.57 - ETA: 17s - loss: 1218.7623 - root_mean_squared_error: 10.57 - ETA: 17s - loss: 1218.7557 - root_mean_squared_error: 10.57 - ETA: 16s - loss: 1218.7480 - root_mean_squared_error: 10.57 - ETA: 16s - loss: 1218.7407 - root_mean_squared_error: 10.57 - ETA: 16s - loss: 1218.7343 - root_mean_squared_error: 10.57 - ETA: 16s - loss: 1218.7270 - root_mean_squared_error: 10.57 - ETA: 15s - loss: 1218.7201 - root_mean_squared_error: 10.57 - ETA: 15s - loss: 1218.7145 - root_mean_squared_error: 10.57 - ETA: 15s - loss: 1218.7086 - root_mean_squared_error: 10.57 - ETA: 15s - loss: 1218.7000 - root_mean_squared_error: 10.57 - ETA: 14s - loss: 1218.6935 - root_mean_squared_error: 10.57 - ETA: 14s - loss: 1218.6868 - root_mean_squared_error: 10.57 - ETA: 14s - loss: 1218.6803 - root_mean_squared_error: 10.58 - ETA: 14s - loss: 1218.6729 - root_mean_squared_error: 10.58 - ETA: 13s - loss: 1218.6645 - root_mean_squared_error: 10.57 - ETA: 13s - loss: 1218.6566 - root_mean_squared_error: 10.57 - ETA: 13s - loss: 1218.6492 - root_mean_squared_error: 10.57 - ETA: 13s - loss: 1218.6407 - root_mean_squared_error: 10.57 - ETA: 12s - loss: 1218.6324 - root_mean_squared_error: 10.57 - ETA: 12s - loss: 1218.6258 - root_mean_squared_error: 10.57 - ETA: 12s - loss: 1218.6179 - root_mean_squared_error: 10.57 - ETA: 12s - loss: 1218.6103 - root_mean_squared_error: 10.58 - ETA: 11s - loss: 1218.6023 - root_mean_squared_error: 10.58 - ETA: 11s - loss: 1218.5928 - root_mean_squared_error: 10.57 - ETA: 11s - loss: 1218.5854 - root_mean_squared_error: 10.57 - ETA: 11s - loss: 1218.5781 - root_mean_squared_error: 10.58 - ETA: 10s - loss: 1218.5694 - root_mean_squared_error: 10.58 - ETA: 10s - loss: 1218.5622 - root_mean_squared_error: 10.58 - ETA: 10s - loss: 1218.5531 - root_mean_squared_error: 10.58 - ETA: 10s - loss: 1218.5454 - root_mean_squared_error: 10.58 - ETA: 9s - loss: 1218.5386 - root_mean_squared_error: 10.5834 - ETA: 9s - loss: 1218.5295 - root_mean_squared_error: 10.582 - ETA: 9s - loss: 1218.5207 - root_mean_squared_error: 10.582 - ETA: 9s - loss: 1218.5122 - root_mean_squared_error: 10.582 - ETA: 8s - loss: 1218.5022 - root_mean_squared_error: 10.581 - ETA: 8s - loss: 1218.4927 - root_mean_squared_error: 10.581 - ETA: 8s - loss: 1218.4838 - root_mean_squared_error: 10.581 - ETA: 7s - loss: 1218.4749 - root_mean_squared_error: 10.581 - ETA: 7s - loss: 1218.4670 - root_mean_squared_error: 10.582 - ETA: 7s - loss: 1218.4600 - root_mean_squared_error: 10.5844"
     ]
    },
    {
     "name": "stdout",
     "output_type": "stream",
     "text": [
      "74534/74534 [==============================] - ETA: 7s - loss: 1218.4510 - root_mean_squared_error: 10.584 - ETA: 6s - loss: 1218.4413 - root_mean_squared_error: 10.584 - ETA: 6s - loss: 1218.4315 - root_mean_squared_error: 10.583 - ETA: 6s - loss: 1218.4223 - root_mean_squared_error: 10.583 - ETA: 6s - loss: 1218.4121 - root_mean_squared_error: 10.582 - ETA: 5s - loss: 1218.4029 - root_mean_squared_error: 10.583 - ETA: 5s - loss: 1218.3933 - root_mean_squared_error: 10.583 - ETA: 5s - loss: 1218.3846 - root_mean_squared_error: 10.583 - ETA: 5s - loss: 1218.3735 - root_mean_squared_error: 10.582 - ETA: 4s - loss: 1218.3638 - root_mean_squared_error: 10.582 - ETA: 4s - loss: 1218.3532 - root_mean_squared_error: 10.581 - ETA: 4s - loss: 1218.3427 - root_mean_squared_error: 10.581 - ETA: 4s - loss: 1218.3326 - root_mean_squared_error: 10.580 - ETA: 3s - loss: 1218.3224 - root_mean_squared_error: 10.580 - ETA: 3s - loss: 1218.3124 - root_mean_squared_error: 10.580 - ETA: 3s - loss: 1218.3021 - root_mean_squared_error: 10.580 - ETA: 3s - loss: 1218.2913 - root_mean_squared_error: 10.579 - ETA: 2s - loss: 1218.2820 - root_mean_squared_error: 10.580 - ETA: 2s - loss: 1218.2718 - root_mean_squared_error: 10.581 - ETA: 2s - loss: 1218.2624 - root_mean_squared_error: 10.582 - ETA: 2s - loss: 1218.2525 - root_mean_squared_error: 10.582 - ETA: 1s - loss: 1218.2416 - root_mean_squared_error: 10.582 - ETA: 1s - loss: 1218.2314 - root_mean_squared_error: 10.582 - ETA: 1s - loss: 1218.2201 - root_mean_squared_error: 10.582 - ETA: 1s - loss: 1218.2089 - root_mean_squared_error: 10.581 - ETA: 0s - loss: 1218.1979 - root_mean_squared_error: 10.581 - ETA: 0s - loss: 1218.1870 - root_mean_squared_error: 10.581 - ETA: 0s - loss: 1218.1754 - root_mean_squared_error: 10.581 - ETA: 0s - loss: 1218.1645 - root_mean_squared_error: 10.581 - 75s 1ms/sample - loss: 1218.1626 - root_mean_squared_error: 10.5810\n",
      "Epoch 5/8\n",
      "33280/74534 [============>.................] - ETA: 1:17 - loss: 1215.0868 - root_mean_squared_error: 10.805 - ETA: 1:14 - loss: 1214.9146 - root_mean_squared_error: 10.657 - ETA: 1:13 - loss: 1214.9172 - root_mean_squared_error: 10.682 - ETA: 1:14 - loss: 1214.8552 - root_mean_squared_error: 10.642 - ETA: 1:15 - loss: 1214.8350 - root_mean_squared_error: 10.645 - ETA: 1:15 - loss: 1214.7794 - root_mean_squared_error: 10.612 - ETA: 1:15 - loss: 1214.7388 - root_mean_squared_error: 10.595 - ETA: 1:15 - loss: 1214.7173 - root_mean_squared_error: 10.597 - ETA: 1:14 - loss: 1214.6827 - root_mean_squared_error: 10.586 - ETA: 1:14 - loss: 1214.6583 - root_mean_squared_error: 10.585 - ETA: 1:13 - loss: 1214.6177 - root_mean_squared_error: 10.568 - ETA: 1:13 - loss: 1214.5914 - root_mean_squared_error: 10.566 - ETA: 1:13 - loss: 1214.5822 - root_mean_squared_error: 10.580 - ETA: 1:12 - loss: 1214.5699 - root_mean_squared_error: 10.592 - ETA: 1:12 - loss: 1214.5684 - root_mean_squared_error: 10.615 - ETA: 1:12 - loss: 1214.5361 - root_mean_squared_error: 10.608 - ETA: 1:12 - loss: 1214.5065 - root_mean_squared_error: 10.603 - ETA: 1:11 - loss: 1214.4674 - root_mean_squared_error: 10.588 - ETA: 1:11 - loss: 1214.4311 - root_mean_squared_error: 10.577 - ETA: 1:11 - loss: 1214.4055 - root_mean_squared_error: 10.576 - ETA: 1:10 - loss: 1214.4022 - root_mean_squared_error: 10.599 - ETA: 1:10 - loss: 1214.3794 - root_mean_squared_error: 10.601 - ETA: 1:09 - loss: 1214.3619 - root_mean_squared_error: 10.609 - ETA: 1:09 - loss: 1214.3316 - root_mean_squared_error: 10.605 - ETA: 1:09 - loss: 1214.3035 - root_mean_squared_error: 10.602 - ETA: 1:08 - loss: 1214.2633 - root_mean_squared_error: 10.588 - ETA: 1:08 - loss: 1214.2381 - root_mean_squared_error: 10.589 - ETA: 1:08 - loss: 1214.2215 - root_mean_squared_error: 10.599 - ETA: 1:07 - loss: 1214.1980 - root_mean_squared_error: 10.602 - ETA: 1:07 - loss: 1214.1830 - root_mean_squared_error: 10.614 - ETA: 1:07 - loss: 1214.1593 - root_mean_squared_error: 10.617 - ETA: 1:07 - loss: 1214.1288 - root_mean_squared_error: 10.613 - ETA: 1:07 - loss: 1214.1020 - root_mean_squared_error: 10.613 - ETA: 1:07 - loss: 1214.0694 - root_mean_squared_error: 10.608 - ETA: 1:06 - loss: 1214.0368 - root_mean_squared_error: 10.603 - ETA: 1:06 - loss: 1214.0101 - root_mean_squared_error: 10.604 - ETA: 1:06 - loss: 1213.9757 - root_mean_squared_error: 10.597 - ETA: 1:05 - loss: 1213.9521 - root_mean_squared_error: 10.602 - ETA: 1:05 - loss: 1213.9237 - root_mean_squared_error: 10.601 - ETA: 1:05 - loss: 1213.8880 - root_mean_squared_error: 10.594 - ETA: 1:04 - loss: 1213.8579 - root_mean_squared_error: 10.592 - ETA: 1:04 - loss: 1213.8320 - root_mean_squared_error: 10.595 - ETA: 1:04 - loss: 1213.8066 - root_mean_squared_error: 10.598 - ETA: 1:03 - loss: 1213.7777 - root_mean_squared_error: 10.598 - ETA: 1:03 - loss: 1213.7460 - root_mean_squared_error: 10.596 - ETA: 1:03 - loss: 1213.7202 - root_mean_squared_error: 10.599 - ETA: 1:02 - loss: 1213.6913 - root_mean_squared_error: 10.600 - ETA: 1:02 - loss: 1213.6646 - root_mean_squared_error: 10.603 - ETA: 1:02 - loss: 1213.6295 - root_mean_squared_error: 10.598 - ETA: 1:01 - loss: 1213.5998 - root_mean_squared_error: 10.598 - ETA: 1:01 - loss: 1213.5678 - root_mean_squared_error: 10.596 - ETA: 1:01 - loss: 1213.5366 - root_mean_squared_error: 10.595 - ETA: 1:01 - loss: 1213.5092 - root_mean_squared_error: 10.599 - ETA: 1:01 - loss: 1213.4839 - root_mean_squared_error: 10.604 - ETA: 1:00 - loss: 1213.4416 - root_mean_squared_error: 10.593 - ETA: 1:00 - loss: 1213.4123 - root_mean_squared_error: 10.595 - ETA: 1:00 - loss: 1213.3776 - root_mean_squared_error: 10.592 - ETA: 59s - loss: 1213.3436 - root_mean_squared_error: 10.589 - ETA: 59s - loss: 1213.3194 - root_mean_squared_error: 10.59 - ETA: 59s - loss: 1213.2849 - root_mean_squared_error: 10.59 - ETA: 59s - loss: 1213.2522 - root_mean_squared_error: 10.59 - ETA: 58s - loss: 1213.2166 - root_mean_squared_error: 10.59 - ETA: 58s - loss: 1213.1831 - root_mean_squared_error: 10.58 - ETA: 58s - loss: 1213.1438 - root_mean_squared_error: 10.58 - ETA: 57s - loss: 1213.1135 - root_mean_squared_error: 10.58 - ETA: 57s - loss: 1213.0756 - root_mean_squared_error: 10.58 - ETA: 57s - loss: 1213.0410 - root_mean_squared_error: 10.58 - ETA: 56s - loss: 1213.0055 - root_mean_squared_error: 10.57 - ETA: 56s - loss: 1212.9723 - root_mean_squared_error: 10.57 - ETA: 56s - loss: 1212.9421 - root_mean_squared_error: 10.58 - ETA: 56s - loss: 1212.9030 - root_mean_squared_error: 10.57 - ETA: 56s - loss: 1212.8702 - root_mean_squared_error: 10.57 - ETA: 55s - loss: 1212.8360 - root_mean_squared_error: 10.57 - ETA: 55s - loss: 1212.8026 - root_mean_squared_error: 10.58 - ETA: 55s - loss: 1212.7715 - root_mean_squared_error: 10.58 - ETA: 54s - loss: 1212.7399 - root_mean_squared_error: 10.58 - ETA: 54s - loss: 1212.7073 - root_mean_squared_error: 10.59 - ETA: 54s - loss: 1212.6710 - root_mean_squared_error: 10.59 - ETA: 54s - loss: 1212.6309 - root_mean_squared_error: 10.58 - ETA: 53s - loss: 1212.5953 - root_mean_squared_error: 10.58 - ETA: 53s - loss: 1212.5590 - root_mean_squared_error: 10.58 - ETA: 53s - loss: 1212.5222 - root_mean_squared_error: 10.58 - ETA: 53s - loss: 1212.4844 - root_mean_squared_error: 10.58 - ETA: 53s - loss: 1212.4457 - root_mean_squared_error: 10.58 - ETA: 52s - loss: 1212.4088 - root_mean_squared_error: 10.58 - ETA: 52s - loss: 1212.3722 - root_mean_squared_error: 10.58 - ETA: 52s - loss: 1212.3345 - root_mean_squared_error: 10.58 - ETA: 52s - loss: 1212.2967 - root_mean_squared_error: 10.58 - ETA: 51s - loss: 1212.2560 - root_mean_squared_error: 10.58 - ETA: 51s - loss: 1212.2192 - root_mean_squared_error: 10.58 - ETA: 51s - loss: 1212.1815 - root_mean_squared_error: 10.58 - ETA: 51s - loss: 1212.1403 - root_mean_squared_error: 10.58 - ETA: 50s - loss: 1212.1008 - root_mean_squared_error: 10.58 - ETA: 50s - loss: 1212.0627 - root_mean_squared_error: 10.58 - ETA: 50s - loss: 1212.0246 - root_mean_squared_error: 10.58 - ETA: 50s - loss: 1211.9843 - root_mean_squared_error: 10.58 - ETA: 49s - loss: 1211.9418 - root_mean_squared_error: 10.58 - ETA: 49s - loss: 1211.9026 - root_mean_squared_error: 10.58 - ETA: 49s - loss: 1211.8627 - root_mean_squared_error: 10.58 - ETA: 49s - loss: 1211.8212 - root_mean_squared_error: 10.58 - ETA: 48s - loss: 1211.7794 - root_mean_squared_error: 10.58 - ETA: 48s - loss: 1211.7353 - root_mean_squared_error: 10.58 - ETA: 48s - loss: 1211.6953 - root_mean_squared_error: 10.58 - ETA: 48s - loss: 1211.6542 - root_mean_squared_error: 10.58 - ETA: 48s - loss: 1211.6142 - root_mean_squared_error: 10.58 - ETA: 47s - loss: 1211.5689 - root_mean_squared_error: 10.58 - ETA: 47s - loss: 1211.5275 - root_mean_squared_error: 10.58 - ETA: 47s - loss: 1211.4837 - root_mean_squared_error: 10.58 - ETA: 47s - loss: 1211.4391 - root_mean_squared_error: 10.58 - ETA: 46s - loss: 1211.3972 - root_mean_squared_error: 10.58 - ETA: 46s - loss: 1211.3535 - root_mean_squared_error: 10.58 - ETA: 46s - loss: 1211.3109 - root_mean_squared_error: 10.58 - ETA: 46s - loss: 1211.2666 - root_mean_squared_error: 10.58 - ETA: 45s - loss: 1211.2221 - root_mean_squared_error: 10.58 - ETA: 45s - loss: 1211.1770 - root_mean_squared_error: 10.58 - ETA: 45s - loss: 1211.1333 - root_mean_squared_error: 10.58 - ETA: 45s - loss: 1211.0884 - root_mean_squared_error: 10.58 - ETA: 44s - loss: 1211.0437 - root_mean_squared_error: 10.58 - ETA: 44s - loss: 1210.9981 - root_mean_squared_error: 10.59 - ETA: 44s - loss: 1210.9497 - root_mean_squared_error: 10.58 - ETA: 43s - loss: 1210.9023 - root_mean_squared_error: 10.58 - ETA: 43s - loss: 1210.8543 - root_mean_squared_error: 10.58 - ETA: 43s - loss: 1210.8083 - root_mean_squared_error: 10.58 - ETA: 43s - loss: 1210.7594 - root_mean_squared_error: 10.58 - ETA: 42s - loss: 1210.7117 - root_mean_squared_error: 10.58 - ETA: 42s - loss: 1210.6633 - root_mean_squared_error: 10.58 - ETA: 42s - loss: 1210.6160 - root_mean_squared_error: 10.58 - ETA: 42s - loss: 1210.5678 - root_mean_squared_error: 10.58 - ETA: 41s - loss: 1210.5201 - root_mean_squared_error: 10.58 - ETA: 41s - loss: 1210.4714 - root_mean_squared_error: 10.590567072/74534 [=========================>....] - ETA: 41s - loss: 1210.4220 - root_mean_squared_error: 10.59 - ETA: 41s - loss: 1210.3707 - root_mean_squared_error: 10.58 - ETA: 40s - loss: 1210.3203 - root_mean_squared_error: 10.58 - ETA: 40s - loss: 1210.2698 - root_mean_squared_error: 10.58 - ETA: 40s - loss: 1210.2180 - root_mean_squared_error: 10.58 - ETA: 40s - loss: 1210.1672 - root_mean_squared_error: 10.58 - ETA: 39s - loss: 1210.1150 - root_mean_squared_error: 10.58 - ETA: 39s - loss: 1210.0621 - root_mean_squared_error: 10.58 - ETA: 39s - loss: 1210.0098 - root_mean_squared_error: 10.58 - ETA: 39s - loss: 1209.9576 - root_mean_squared_error: 10.58 - ETA: 38s - loss: 1209.9047 - root_mean_squared_error: 10.58 - ETA: 38s - loss: 1209.8505 - root_mean_squared_error: 10.58 - ETA: 38s - loss: 1209.7977 - root_mean_squared_error: 10.58 - ETA: 37s - loss: 1209.7445 - root_mean_squared_error: 10.58 - ETA: 37s - loss: 1209.6901 - root_mean_squared_error: 10.58 - ETA: 37s - loss: 1209.6364 - root_mean_squared_error: 10.59 - ETA: 37s - loss: 1209.5832 - root_mean_squared_error: 10.59 - ETA: 36s - loss: 1209.5290 - root_mean_squared_error: 10.59 - ETA: 36s - loss: 1209.4729 - root_mean_squared_error: 10.59 - ETA: 36s - loss: 1209.4178 - root_mean_squared_error: 10.59 - ETA: 36s - loss: 1209.3627 - root_mean_squared_error: 10.59 - ETA: 35s - loss: 1209.3079 - root_mean_squared_error: 10.59 - ETA: 35s - loss: 1209.2498 - root_mean_squared_error: 10.59 - ETA: 35s - loss: 1209.1950 - root_mean_squared_error: 10.60 - ETA: 35s - loss: 1209.1342 - root_mean_squared_error: 10.59 - ETA: 34s - loss: 1209.0761 - root_mean_squared_error: 10.59 - ETA: 34s - loss: 1209.0197 - root_mean_squared_error: 10.60 - ETA: 34s - loss: 1208.9601 - root_mean_squared_error: 10.60 - ETA: 34s - loss: 1208.9010 - root_mean_squared_error: 10.60 - ETA: 33s - loss: 1208.8424 - root_mean_squared_error: 10.60 - ETA: 33s - loss: 1208.7825 - root_mean_squared_error: 10.60 - ETA: 33s - loss: 1208.7233 - root_mean_squared_error: 10.60 - ETA: 33s - loss: 1208.6625 - root_mean_squared_error: 10.60 - ETA: 32s - loss: 1208.6006 - root_mean_squared_error: 10.60 - ETA: 32s - loss: 1208.5377 - root_mean_squared_error: 10.60 - ETA: 32s - loss: 1208.4757 - root_mean_squared_error: 10.60 - ETA: 32s - loss: 1208.4146 - root_mean_squared_error: 10.60 - ETA: 31s - loss: 1208.3503 - root_mean_squared_error: 10.60 - ETA: 31s - loss: 1208.2853 - root_mean_squared_error: 10.60 - ETA: 31s - loss: 1208.2206 - root_mean_squared_error: 10.60 - ETA: 30s - loss: 1208.1563 - root_mean_squared_error: 10.60 - ETA: 30s - loss: 1208.0910 - root_mean_squared_error: 10.60 - ETA: 30s - loss: 1208.0253 - root_mean_squared_error: 10.59 - ETA: 30s - loss: 1207.9600 - root_mean_squared_error: 10.59 - ETA: 29s - loss: 1207.8934 - root_mean_squared_error: 10.59 - ETA: 29s - loss: 1207.8283 - root_mean_squared_error: 10.60 - ETA: 29s - loss: 1207.7605 - root_mean_squared_error: 10.59 - ETA: 29s - loss: 1207.6922 - root_mean_squared_error: 10.59 - ETA: 28s - loss: 1207.6240 - root_mean_squared_error: 10.59 - ETA: 28s - loss: 1207.5543 - root_mean_squared_error: 10.59 - ETA: 28s - loss: 1207.4855 - root_mean_squared_error: 10.59 - ETA: 28s - loss: 1207.4156 - root_mean_squared_error: 10.59 - ETA: 27s - loss: 1207.3454 - root_mean_squared_error: 10.59 - ETA: 27s - loss: 1207.2749 - root_mean_squared_error: 10.59 - ETA: 27s - loss: 1207.2036 - root_mean_squared_error: 10.59 - ETA: 27s - loss: 1207.1324 - root_mean_squared_error: 10.59 - ETA: 26s - loss: 1207.0606 - root_mean_squared_error: 10.59 - ETA: 26s - loss: 1206.9900 - root_mean_squared_error: 10.59 - ETA: 26s - loss: 1206.9174 - root_mean_squared_error: 10.59 - ETA: 26s - loss: 1206.8457 - root_mean_squared_error: 10.59 - ETA: 25s - loss: 1206.7723 - root_mean_squared_error: 10.59 - ETA: 25s - loss: 1206.6986 - root_mean_squared_error: 10.59 - ETA: 25s - loss: 1206.6237 - root_mean_squared_error: 10.59 - ETA: 25s - loss: 1206.5495 - root_mean_squared_error: 10.59 - ETA: 24s - loss: 1206.4746 - root_mean_squared_error: 10.59 - ETA: 24s - loss: 1206.3999 - root_mean_squared_error: 10.59 - ETA: 24s - loss: 1206.3239 - root_mean_squared_error: 10.59 - ETA: 24s - loss: 1206.2468 - root_mean_squared_error: 10.59 - ETA: 23s - loss: 1206.1699 - root_mean_squared_error: 10.59 - ETA: 23s - loss: 1206.0931 - root_mean_squared_error: 10.59 - ETA: 23s - loss: 1206.0153 - root_mean_squared_error: 10.59 - ETA: 23s - loss: 1205.9370 - root_mean_squared_error: 10.59 - ETA: 22s - loss: 1205.8587 - root_mean_squared_error: 10.59 - ETA: 22s - loss: 1205.7793 - root_mean_squared_error: 10.59 - ETA: 22s - loss: 1205.6989 - root_mean_squared_error: 10.59 - ETA: 21s - loss: 1205.6185 - root_mean_squared_error: 10.59 - ETA: 21s - loss: 1205.5369 - root_mean_squared_error: 10.59 - ETA: 21s - loss: 1205.4557 - root_mean_squared_error: 10.59 - ETA: 21s - loss: 1205.3746 - root_mean_squared_error: 10.59 - ETA: 20s - loss: 1205.2909 - root_mean_squared_error: 10.59 - ETA: 20s - loss: 1205.2078 - root_mean_squared_error: 10.59 - ETA: 20s - loss: 1205.1250 - root_mean_squared_error: 10.59 - ETA: 20s - loss: 1205.0399 - root_mean_squared_error: 10.59 - ETA: 19s - loss: 1204.9553 - root_mean_squared_error: 10.59 - ETA: 19s - loss: 1204.8698 - root_mean_squared_error: 10.59 - ETA: 19s - loss: 1204.7842 - root_mean_squared_error: 10.59 - ETA: 19s - loss: 1204.6970 - root_mean_squared_error: 10.59 - ETA: 18s - loss: 1204.6095 - root_mean_squared_error: 10.59 - ETA: 18s - loss: 1204.5222 - root_mean_squared_error: 10.59 - ETA: 18s - loss: 1204.4347 - root_mean_squared_error: 10.60 - ETA: 18s - loss: 1204.3448 - root_mean_squared_error: 10.59 - ETA: 17s - loss: 1204.2550 - root_mean_squared_error: 10.59 - ETA: 17s - loss: 1204.1639 - root_mean_squared_error: 10.59 - ETA: 17s - loss: 1204.0731 - root_mean_squared_error: 10.59 - ETA: 17s - loss: 1203.9816 - root_mean_squared_error: 10.59 - ETA: 16s - loss: 1203.8887 - root_mean_squared_error: 10.59 - ETA: 16s - loss: 1203.7964 - root_mean_squared_error: 10.59 - ETA: 16s - loss: 1203.7015 - root_mean_squared_error: 10.59 - ETA: 16s - loss: 1203.6070 - root_mean_squared_error: 10.59 - ETA: 15s - loss: 1203.5126 - root_mean_squared_error: 10.59 - ETA: 15s - loss: 1203.4168 - root_mean_squared_error: 10.59 - ETA: 15s - loss: 1203.3203 - root_mean_squared_error: 10.59 - ETA: 15s - loss: 1203.2246 - root_mean_squared_error: 10.59 - ETA: 14s - loss: 1203.1263 - root_mean_squared_error: 10.59 - ETA: 14s - loss: 1203.0290 - root_mean_squared_error: 10.59 - ETA: 14s - loss: 1202.9291 - root_mean_squared_error: 10.59 - ETA: 13s - loss: 1202.8311 - root_mean_squared_error: 10.59 - ETA: 13s - loss: 1202.7318 - root_mean_squared_error: 10.59 - ETA: 13s - loss: 1202.6303 - root_mean_squared_error: 10.59 - ETA: 13s - loss: 1202.5298 - root_mean_squared_error: 10.59 - ETA: 12s - loss: 1202.4278 - root_mean_squared_error: 10.59 - ETA: 12s - loss: 1202.3255 - root_mean_squared_error: 10.59 - ETA: 12s - loss: 1202.2229 - root_mean_squared_error: 10.59 - ETA: 12s - loss: 1202.1199 - root_mean_squared_error: 10.59 - ETA: 11s - loss: 1202.0152 - root_mean_squared_error: 10.59 - ETA: 11s - loss: 1201.9107 - root_mean_squared_error: 10.59 - ETA: 11s - loss: 1201.8036 - root_mean_squared_error: 10.59 - ETA: 11s - loss: 1201.6968 - root_mean_squared_error: 10.58 - ETA: 10s - loss: 1201.5889 - root_mean_squared_error: 10.58 - ETA: 10s - loss: 1201.4819 - root_mean_squared_error: 10.58 - ETA: 10s - loss: 1201.3732 - root_mean_squared_error: 10.58 - ETA: 10s - loss: 1201.2639 - root_mean_squared_error: 10.58 - ETA: 9s - loss: 1201.1543 - root_mean_squared_error: 10.5889 - ETA: 9s - loss: 1201.0443 - root_mean_squared_error: 10.589 - ETA: 9s - loss: 1200.9328 - root_mean_squared_error: 10.589 - ETA: 9s - loss: 1200.8202 - root_mean_squared_error: 10.588 - ETA: 8s - loss: 1200.7066 - root_mean_squared_error: 10.587 - ETA: 8s - loss: 1200.5941 - root_mean_squared_error: 10.588 - ETA: 8s - loss: 1200.4801 - root_mean_squared_error: 10.589 - ETA: 8s - loss: 1200.3645 - root_mean_squared_error: 10.588 - ETA: 7s - loss: 1200.2484 - root_mean_squared_error: 10.588 - ETA: 7s - loss: 1200.1316 - root_mean_squared_error: 10.587974534/74534 [==============================] - ETA: 7s - loss: 1200.0137 - root_mean_squared_error: 10.587 - ETA: 7s - loss: 1199.8956 - root_mean_squared_error: 10.587 - ETA: 6s - loss: 1199.7772 - root_mean_squared_error: 10.587 - ETA: 6s - loss: 1199.6580 - root_mean_squared_error: 10.588 - ETA: 6s - loss: 1199.5382 - root_mean_squared_error: 10.588 - ETA: 5s - loss: 1199.4164 - root_mean_squared_error: 10.588 - ETA: 5s - loss: 1199.2929 - root_mean_squared_error: 10.586 - ETA: 5s - loss: 1199.1693 - root_mean_squared_error: 10.585 - ETA: 5s - loss: 1199.0453 - root_mean_squared_error: 10.585 - ETA: 4s - loss: 1198.9219 - root_mean_squared_error: 10.586 - ETA: 4s - loss: 1198.7967 - root_mean_squared_error: 10.586 - ETA: 4s - loss: 1198.6704 - root_mean_squared_error: 10.586 - ETA: 4s - loss: 1198.5426 - root_mean_squared_error: 10.585 - ETA: 3s - loss: 1198.4137 - root_mean_squared_error: 10.584 - ETA: 3s - loss: 1198.2840 - root_mean_squared_error: 10.583 - ETA: 3s - loss: 1198.1545 - root_mean_squared_error: 10.583 - ETA: 3s - loss: 1198.0246 - root_mean_squared_error: 10.583 - ETA: 2s - loss: 1197.8927 - root_mean_squared_error: 10.583 - ETA: 2s - loss: 1197.7609 - root_mean_squared_error: 10.583 - ETA: 2s - loss: 1197.6280 - root_mean_squared_error: 10.583 - ETA: 2s - loss: 1197.4940 - root_mean_squared_error: 10.583 - ETA: 1s - loss: 1197.3589 - root_mean_squared_error: 10.582 - ETA: 1s - loss: 1197.2240 - root_mean_squared_error: 10.583 - ETA: 1s - loss: 1197.0869 - root_mean_squared_error: 10.582 - ETA: 1s - loss: 1196.9497 - root_mean_squared_error: 10.583 - ETA: 0s - loss: 1196.8100 - root_mean_squared_error: 10.581 - ETA: 0s - loss: 1196.6709 - root_mean_squared_error: 10.581 - ETA: 0s - loss: 1196.5306 - root_mean_squared_error: 10.581 - ETA: 0s - loss: 1196.3889 - root_mean_squared_error: 10.580 - 76s 1ms/sample - loss: 1196.3676 - root_mean_squared_error: 10.5806\n",
      "Epoch 6/8\n"
     ]
    },
    {
     "name": "stdout",
     "output_type": "stream",
     "text": [
      "33280/74534 [============>.................] - ETA: 1:12 - loss: 1154.6846 - root_mean_squared_error: 10.885 - ETA: 1:15 - loss: 1154.2583 - root_mean_squared_error: 10.740 - ETA: 1:18 - loss: 1153.8867 - root_mean_squared_error: 10.650 - ETA: 1:16 - loss: 1153.5779 - root_mean_squared_error: 10.624 - ETA: 1:16 - loss: 1153.3007 - root_mean_squared_error: 10.631 - ETA: 1:15 - loss: 1152.9618 - root_mean_squared_error: 10.578 - ETA: 1:15 - loss: 1152.6804 - root_mean_squared_error: 10.584 - ETA: 1:15 - loss: 1152.3938 - root_mean_squared_error: 10.586 - ETA: 1:14 - loss: 1152.0661 - root_mean_squared_error: 10.550 - ETA: 1:13 - loss: 1151.7610 - root_mean_squared_error: 10.537 - ETA: 1:13 - loss: 1151.4637 - root_mean_squared_error: 10.533 - ETA: 1:13 - loss: 1151.1876 - root_mean_squared_error: 10.553 - ETA: 1:12 - loss: 1150.8681 - root_mean_squared_error: 10.530 - ETA: 1:12 - loss: 1150.5751 - root_mean_squared_error: 10.536 - ETA: 1:12 - loss: 1150.2755 - root_mean_squared_error: 10.537 - ETA: 1:11 - loss: 1149.9699 - root_mean_squared_error: 10.533 - ETA: 1:11 - loss: 1149.6552 - root_mean_squared_error: 10.522 - ETA: 1:11 - loss: 1149.3507 - root_mean_squared_error: 10.523 - ETA: 1:11 - loss: 1149.0527 - root_mean_squared_error: 10.533 - ETA: 1:11 - loss: 1148.7392 - root_mean_squared_error: 10.528 - ETA: 1:10 - loss: 1148.4292 - root_mean_squared_error: 10.529 - ETA: 1:10 - loss: 1148.1145 - root_mean_squared_error: 10.526 - ETA: 1:10 - loss: 1147.8013 - root_mean_squared_error: 10.527 - ETA: 1:09 - loss: 1147.4865 - root_mean_squared_error: 10.528 - ETA: 1:09 - loss: 1147.1770 - root_mean_squared_error: 10.536 - ETA: 1:09 - loss: 1146.8454 - root_mean_squared_error: 10.524 - ETA: 1:08 - loss: 1146.5203 - root_mean_squared_error: 10.520 - ETA: 1:08 - loss: 1146.2061 - root_mean_squared_error: 10.529 - ETA: 1:08 - loss: 1145.8764 - root_mean_squared_error: 10.524 - ETA: 1:08 - loss: 1145.5535 - root_mean_squared_error: 10.528 - ETA: 1:07 - loss: 1145.2333 - root_mean_squared_error: 10.536 - ETA: 1:07 - loss: 1144.9051 - root_mean_squared_error: 10.538 - ETA: 1:07 - loss: 1144.5754 - root_mean_squared_error: 10.540 - ETA: 1:07 - loss: 1144.2485 - root_mean_squared_error: 10.547 - ETA: 1:07 - loss: 1143.9179 - root_mean_squared_error: 10.553 - ETA: 1:06 - loss: 1143.5782 - root_mean_squared_error: 10.550 - ETA: 1:06 - loss: 1143.2331 - root_mean_squared_error: 10.545 - ETA: 1:06 - loss: 1142.8931 - root_mean_squared_error: 10.546 - ETA: 1:05 - loss: 1142.5527 - root_mean_squared_error: 10.549 - ETA: 1:05 - loss: 1142.2076 - root_mean_squared_error: 10.549 - ETA: 1:05 - loss: 1141.8595 - root_mean_squared_error: 10.548 - ETA: 1:04 - loss: 1141.5065 - root_mean_squared_error: 10.544 - ETA: 1:04 - loss: 1141.1522 - root_mean_squared_error: 10.541 - ETA: 1:04 - loss: 1140.8019 - root_mean_squared_error: 10.543 - ETA: 1:04 - loss: 1140.4486 - root_mean_squared_error: 10.545 - ETA: 1:03 - loss: 1140.0945 - root_mean_squared_error: 10.547 - ETA: 1:03 - loss: 1139.7398 - root_mean_squared_error: 10.551 - ETA: 1:03 - loss: 1139.3732 - root_mean_squared_error: 10.546 - ETA: 1:02 - loss: 1139.0124 - root_mean_squared_error: 10.547 - ETA: 1:02 - loss: 1138.6459 - root_mean_squared_error: 10.546 - ETA: 1:02 - loss: 1138.2762 - root_mean_squared_error: 10.543 - ETA: 1:02 - loss: 1137.9071 - root_mean_squared_error: 10.542 - ETA: 1:01 - loss: 1137.5414 - root_mean_squared_error: 10.547 - ETA: 1:01 - loss: 1137.1683 - root_mean_squared_error: 10.547 - ETA: 1:01 - loss: 1136.7996 - root_mean_squared_error: 10.553 - ETA: 1:01 - loss: 1136.4234 - root_mean_squared_error: 10.554 - ETA: 1:00 - loss: 1136.0415 - root_mean_squared_error: 10.551 - ETA: 1:00 - loss: 1135.6585 - root_mean_squared_error: 10.549 - ETA: 1:00 - loss: 1135.2766 - root_mean_squared_error: 10.551 - ETA: 1:00 - loss: 1134.8892 - root_mean_squared_error: 10.549 - ETA: 59s - loss: 1134.5042 - root_mean_squared_error: 10.551 - ETA: 59s - loss: 1134.1125 - root_mean_squared_error: 10.54 - ETA: 59s - loss: 1133.7239 - root_mean_squared_error: 10.55 - ETA: 59s - loss: 1133.3286 - root_mean_squared_error: 10.55 - ETA: 58s - loss: 1132.9333 - root_mean_squared_error: 10.55 - ETA: 58s - loss: 1132.5344 - root_mean_squared_error: 10.55 - ETA: 58s - loss: 1132.1317 - root_mean_squared_error: 10.54 - ETA: 57s - loss: 1131.7270 - root_mean_squared_error: 10.54 - ETA: 57s - loss: 1131.3227 - root_mean_squared_error: 10.54 - ETA: 57s - loss: 1130.9181 - root_mean_squared_error: 10.54 - ETA: 57s - loss: 1130.5043 - root_mean_squared_error: 10.54 - ETA: 56s - loss: 1130.0899 - root_mean_squared_error: 10.54 - ETA: 56s - loss: 1129.6765 - root_mean_squared_error: 10.54 - ETA: 56s - loss: 1129.2594 - root_mean_squared_error: 10.54 - ETA: 56s - loss: 1128.8432 - root_mean_squared_error: 10.54 - ETA: 55s - loss: 1128.4259 - root_mean_squared_error: 10.54 - ETA: 55s - loss: 1128.0036 - root_mean_squared_error: 10.54 - ETA: 55s - loss: 1127.5794 - root_mean_squared_error: 10.54 - ETA: 55s - loss: 1127.1525 - root_mean_squared_error: 10.54 - ETA: 54s - loss: 1126.7228 - root_mean_squared_error: 10.54 - ETA: 54s - loss: 1126.2891 - root_mean_squared_error: 10.54 - ETA: 54s - loss: 1125.8517 - root_mean_squared_error: 10.54 - ETA: 54s - loss: 1125.4114 - root_mean_squared_error: 10.54 - ETA: 53s - loss: 1124.9728 - root_mean_squared_error: 10.54 - ETA: 53s - loss: 1124.5326 - root_mean_squared_error: 10.54 - ETA: 53s - loss: 1124.0895 - root_mean_squared_error: 10.54 - ETA: 52s - loss: 1123.6441 - root_mean_squared_error: 10.54 - ETA: 52s - loss: 1123.1937 - root_mean_squared_error: 10.54 - ETA: 52s - loss: 1122.7430 - root_mean_squared_error: 10.54 - ETA: 52s - loss: 1122.2874 - root_mean_squared_error: 10.54 - ETA: 51s - loss: 1121.8297 - root_mean_squared_error: 10.54 - ETA: 51s - loss: 1121.3672 - root_mean_squared_error: 10.53 - ETA: 51s - loss: 1120.9069 - root_mean_squared_error: 10.53 - ETA: 51s - loss: 1120.4429 - root_mean_squared_error: 10.53 - ETA: 50s - loss: 1119.9783 - root_mean_squared_error: 10.54 - ETA: 50s - loss: 1119.5065 - root_mean_squared_error: 10.53 - ETA: 50s - loss: 1119.0334 - root_mean_squared_error: 10.53 - ETA: 50s - loss: 1118.5609 - root_mean_squared_error: 10.53 - ETA: 49s - loss: 1118.0832 - root_mean_squared_error: 10.53 - ETA: 49s - loss: 1117.6049 - root_mean_squared_error: 10.53 - ETA: 49s - loss: 1117.1215 - root_mean_squared_error: 10.53 - ETA: 49s - loss: 1116.6406 - root_mean_squared_error: 10.53 - ETA: 48s - loss: 1116.1546 - root_mean_squared_error: 10.54 - ETA: 48s - loss: 1115.6659 - root_mean_squared_error: 10.54 - ETA: 48s - loss: 1115.1730 - root_mean_squared_error: 10.54 - ETA: 47s - loss: 1114.6754 - root_mean_squared_error: 10.53 - ETA: 47s - loss: 1114.1775 - root_mean_squared_error: 10.53 - ETA: 47s - loss: 1113.6792 - root_mean_squared_error: 10.53 - ETA: 47s - loss: 1113.1752 - root_mean_squared_error: 10.53 - ETA: 46s - loss: 1112.6686 - root_mean_squared_error: 10.53 - ETA: 46s - loss: 1112.1589 - root_mean_squared_error: 10.53 - ETA: 46s - loss: 1111.6459 - root_mean_squared_error: 10.53 - ETA: 46s - loss: 1111.1311 - root_mean_squared_error: 10.53 - ETA: 45s - loss: 1110.6158 - root_mean_squared_error: 10.53 - ETA: 45s - loss: 1110.0979 - root_mean_squared_error: 10.53 - ETA: 45s - loss: 1109.5765 - root_mean_squared_error: 10.53 - ETA: 45s - loss: 1109.0514 - root_mean_squared_error: 10.53 - ETA: 44s - loss: 1108.5230 - root_mean_squared_error: 10.53 - ETA: 44s - loss: 1107.9913 - root_mean_squared_error: 10.53 - ETA: 44s - loss: 1107.4588 - root_mean_squared_error: 10.53 - ETA: 44s - loss: 1106.9231 - root_mean_squared_error: 10.53 - ETA: 43s - loss: 1106.3837 - root_mean_squared_error: 10.53 - ETA: 43s - loss: 1105.8438 - root_mean_squared_error: 10.53 - ETA: 43s - loss: 1105.2990 - root_mean_squared_error: 10.53 - ETA: 43s - loss: 1104.7499 - root_mean_squared_error: 10.53 - ETA: 42s - loss: 1104.1994 - root_mean_squared_error: 10.53 - ETA: 42s - loss: 1103.6464 - root_mean_squared_error: 10.53 - ETA: 42s - loss: 1103.0895 - root_mean_squared_error: 10.53 - ETA: 42s - loss: 1102.5309 - root_mean_squared_error: 10.53 - ETA: 41s - loss: 1101.9694 - root_mean_squared_error: 10.534967072/74534 [=========================>....] - ETA: 41s - loss: 1101.4030 - root_mean_squared_error: 10.53 - ETA: 41s - loss: 1100.8334 - root_mean_squared_error: 10.53 - ETA: 41s - loss: 1100.2625 - root_mean_squared_error: 10.53 - ETA: 40s - loss: 1099.6891 - root_mean_squared_error: 10.53 - ETA: 40s - loss: 1099.1088 - root_mean_squared_error: 10.53 - ETA: 40s - loss: 1098.5282 - root_mean_squared_error: 10.52 - ETA: 39s - loss: 1097.9447 - root_mean_squared_error: 10.52 - ETA: 39s - loss: 1097.3590 - root_mean_squared_error: 10.52 - ETA: 39s - loss: 1096.7690 - root_mean_squared_error: 10.52 - ETA: 39s - loss: 1096.1764 - root_mean_squared_error: 10.52 - ETA: 38s - loss: 1095.5792 - root_mean_squared_error: 10.52 - ETA: 38s - loss: 1094.9801 - root_mean_squared_error: 10.52 - ETA: 38s - loss: 1094.3754 - root_mean_squared_error: 10.52 - ETA: 38s - loss: 1093.7699 - root_mean_squared_error: 10.52 - ETA: 37s - loss: 1093.1611 - root_mean_squared_error: 10.52 - ETA: 37s - loss: 1092.5505 - root_mean_squared_error: 10.52 - ETA: 37s - loss: 1091.9347 - root_mean_squared_error: 10.52 - ETA: 37s - loss: 1091.3163 - root_mean_squared_error: 10.52 - ETA: 36s - loss: 1090.6954 - root_mean_squared_error: 10.52 - ETA: 36s - loss: 1090.0704 - root_mean_squared_error: 10.51 - ETA: 36s - loss: 1089.4405 - root_mean_squared_error: 10.51 - ETA: 36s - loss: 1088.8113 - root_mean_squared_error: 10.51 - ETA: 35s - loss: 1088.1793 - root_mean_squared_error: 10.51 - ETA: 35s - loss: 1087.5406 - root_mean_squared_error: 10.51 - ETA: 35s - loss: 1086.9018 - root_mean_squared_error: 10.51 - ETA: 35s - loss: 1086.2576 - root_mean_squared_error: 10.51 - ETA: 34s - loss: 1085.6088 - root_mean_squared_error: 10.51 - ETA: 34s - loss: 1084.9596 - root_mean_squared_error: 10.51 - ETA: 34s - loss: 1084.3046 - root_mean_squared_error: 10.51 - ETA: 34s - loss: 1083.6497 - root_mean_squared_error: 10.51 - ETA: 33s - loss: 1082.9897 - root_mean_squared_error: 10.51 - ETA: 33s - loss: 1082.3263 - root_mean_squared_error: 10.51 - ETA: 33s - loss: 1081.6585 - root_mean_squared_error: 10.51 - ETA: 33s - loss: 1080.9885 - root_mean_squared_error: 10.51 - ETA: 32s - loss: 1080.3157 - root_mean_squared_error: 10.51 - ETA: 32s - loss: 1079.6376 - root_mean_squared_error: 10.51 - ETA: 32s - loss: 1078.9599 - root_mean_squared_error: 10.51 - ETA: 32s - loss: 1078.2774 - root_mean_squared_error: 10.51 - ETA: 31s - loss: 1077.5908 - root_mean_squared_error: 10.51 - ETA: 31s - loss: 1076.9002 - root_mean_squared_error: 10.51 - ETA: 31s - loss: 1076.2071 - root_mean_squared_error: 10.51 - ETA: 31s - loss: 1075.5096 - root_mean_squared_error: 10.51 - ETA: 30s - loss: 1074.8080 - root_mean_squared_error: 10.51 - ETA: 30s - loss: 1074.1045 - root_mean_squared_error: 10.51 - ETA: 30s - loss: 1073.3965 - root_mean_squared_error: 10.51 - ETA: 30s - loss: 1072.6869 - root_mean_squared_error: 10.52 - ETA: 29s - loss: 1071.9729 - root_mean_squared_error: 10.52 - ETA: 29s - loss: 1071.2533 - root_mean_squared_error: 10.52 - ETA: 29s - loss: 1070.5306 - root_mean_squared_error: 10.52 - ETA: 29s - loss: 1069.8044 - root_mean_squared_error: 10.51 - ETA: 28s - loss: 1069.0758 - root_mean_squared_error: 10.52 - ETA: 28s - loss: 1068.3427 - root_mean_squared_error: 10.51 - ETA: 28s - loss: 1067.6054 - root_mean_squared_error: 10.51 - ETA: 28s - loss: 1066.8662 - root_mean_squared_error: 10.51 - ETA: 27s - loss: 1066.1231 - root_mean_squared_error: 10.52 - ETA: 27s - loss: 1065.3739 - root_mean_squared_error: 10.51 - ETA: 27s - loss: 1064.6218 - root_mean_squared_error: 10.51 - ETA: 27s - loss: 1063.8686 - root_mean_squared_error: 10.51 - ETA: 26s - loss: 1063.1098 - root_mean_squared_error: 10.51 - ETA: 26s - loss: 1062.3473 - root_mean_squared_error: 10.51 - ETA: 26s - loss: 1061.5826 - root_mean_squared_error: 10.51 - ETA: 25s - loss: 1060.8145 - root_mean_squared_error: 10.51 - ETA: 25s - loss: 1060.0402 - root_mean_squared_error: 10.51 - ETA: 25s - loss: 1059.2619 - root_mean_squared_error: 10.51 - ETA: 25s - loss: 1058.4815 - root_mean_squared_error: 10.51 - ETA: 24s - loss: 1057.6963 - root_mean_squared_error: 10.51 - ETA: 24s - loss: 1056.9088 - root_mean_squared_error: 10.51 - ETA: 24s - loss: 1056.1169 - root_mean_squared_error: 10.51 - ETA: 24s - loss: 1055.3207 - root_mean_squared_error: 10.51 - ETA: 23s - loss: 1054.5207 - root_mean_squared_error: 10.51 - ETA: 23s - loss: 1053.7179 - root_mean_squared_error: 10.51 - ETA: 23s - loss: 1052.9115 - root_mean_squared_error: 10.51 - ETA: 23s - loss: 1052.0996 - root_mean_squared_error: 10.50 - ETA: 22s - loss: 1051.2845 - root_mean_squared_error: 10.50 - ETA: 22s - loss: 1050.4664 - root_mean_squared_error: 10.50 - ETA: 22s - loss: 1049.6444 - root_mean_squared_error: 10.50 - ETA: 22s - loss: 1048.8189 - root_mean_squared_error: 10.50 - ETA: 21s - loss: 1047.9877 - root_mean_squared_error: 10.50 - ETA: 21s - loss: 1047.1542 - root_mean_squared_error: 10.50 - ETA: 21s - loss: 1046.3165 - root_mean_squared_error: 10.50 - ETA: 20s - loss: 1045.4744 - root_mean_squared_error: 10.50 - ETA: 20s - loss: 1044.6288 - root_mean_squared_error: 10.50 - ETA: 20s - loss: 1043.7806 - root_mean_squared_error: 10.50 - ETA: 20s - loss: 1042.9262 - root_mean_squared_error: 10.50 - ETA: 19s - loss: 1042.0691 - root_mean_squared_error: 10.49 - ETA: 19s - loss: 1041.2063 - root_mean_squared_error: 10.49 - ETA: 19s - loss: 1040.3418 - root_mean_squared_error: 10.49 - ETA: 19s - loss: 1039.4735 - root_mean_squared_error: 10.49 - ETA: 18s - loss: 1038.6010 - root_mean_squared_error: 10.49 - ETA: 18s - loss: 1037.7250 - root_mean_squared_error: 10.49 - ETA: 18s - loss: 1036.8445 - root_mean_squared_error: 10.49 - ETA: 18s - loss: 1035.9605 - root_mean_squared_error: 10.49 - ETA: 17s - loss: 1035.0711 - root_mean_squared_error: 10.49 - ETA: 17s - loss: 1034.1793 - root_mean_squared_error: 10.49 - ETA: 17s - loss: 1033.2846 - root_mean_squared_error: 10.49 - ETA: 17s - loss: 1032.3843 - root_mean_squared_error: 10.49 - ETA: 16s - loss: 1031.4805 - root_mean_squared_error: 10.48 - ETA: 16s - loss: 1030.5722 - root_mean_squared_error: 10.48 - ETA: 16s - loss: 1029.6613 - root_mean_squared_error: 10.48 - ETA: 15s - loss: 1028.7459 - root_mean_squared_error: 10.48 - ETA: 15s - loss: 1027.8268 - root_mean_squared_error: 10.48 - ETA: 15s - loss: 1026.9012 - root_mean_squared_error: 10.48 - ETA: 15s - loss: 1025.9734 - root_mean_squared_error: 10.48 - ETA: 14s - loss: 1025.0417 - root_mean_squared_error: 10.48 - ETA: 14s - loss: 1024.1055 - root_mean_squared_error: 10.48 - ETA: 14s - loss: 1023.1675 - root_mean_squared_error: 10.48 - ETA: 14s - loss: 1022.2238 - root_mean_squared_error: 10.48 - ETA: 13s - loss: 1021.2756 - root_mean_squared_error: 10.48 - ETA: 13s - loss: 1020.3259 - root_mean_squared_error: 10.48 - ETA: 13s - loss: 1019.3690 - root_mean_squared_error: 10.48 - ETA: 13s - loss: 1018.4101 - root_mean_squared_error: 10.48 - ETA: 12s - loss: 1017.4463 - root_mean_squared_error: 10.48 - ETA: 12s - loss: 1016.4787 - root_mean_squared_error: 10.48 - ETA: 12s - loss: 1015.5073 - root_mean_squared_error: 10.48 - ETA: 12s - loss: 1014.5313 - root_mean_squared_error: 10.47 - ETA: 11s - loss: 1013.5524 - root_mean_squared_error: 10.47 - ETA: 11s - loss: 1012.5693 - root_mean_squared_error: 10.47 - ETA: 11s - loss: 1011.5818 - root_mean_squared_error: 10.47 - ETA: 10s - loss: 1010.5899 - root_mean_squared_error: 10.47 - ETA: 10s - loss: 1009.5938 - root_mean_squared_error: 10.47 - ETA: 10s - loss: 1008.5939 - root_mean_squared_error: 10.47 - ETA: 10s - loss: 1007.5901 - root_mean_squared_error: 10.47 - ETA: 9s - loss: 1006.5816 - root_mean_squared_error: 10.4745 - ETA: 9s - loss: 1005.5693 - root_mean_squared_error: 10.473 - ETA: 9s - loss: 1004.5537 - root_mean_squared_error: 10.472 - ETA: 9s - loss: 1003.5341 - root_mean_squared_error: 10.472 - ETA: 8s - loss: 1002.5100 - root_mean_squared_error: 10.471 - ETA: 8s - loss: 1001.4827 - root_mean_squared_error: 10.471 - ETA: 8s - loss: 1000.4504 - root_mean_squared_error: 10.470 - ETA: 8s - loss: 999.4149 - root_mean_squared_error: 10.470 - ETA: 7s - loss: 998.3753 - root_mean_squared_error: 10.46 - ETA: 7s - loss: 997.3307 - root_mean_squared_error: 10.4684"
     ]
    },
    {
     "name": "stdout",
     "output_type": "stream",
     "text": [
      "74534/74534 [==============================] - ETA: 7s - loss: 996.2829 - root_mean_squared_error: 10.46 - ETA: 7s - loss: 995.2311 - root_mean_squared_error: 10.46 - ETA: 6s - loss: 994.1758 - root_mean_squared_error: 10.46 - ETA: 6s - loss: 993.1153 - root_mean_squared_error: 10.46 - ETA: 6s - loss: 992.0525 - root_mean_squared_error: 10.46 - ETA: 6s - loss: 990.9850 - root_mean_squared_error: 10.46 - ETA: 5s - loss: 989.9135 - root_mean_squared_error: 10.46 - ETA: 5s - loss: 988.8375 - root_mean_squared_error: 10.46 - ETA: 5s - loss: 987.7576 - root_mean_squared_error: 10.46 - ETA: 4s - loss: 986.6733 - root_mean_squared_error: 10.46 - ETA: 4s - loss: 985.5848 - root_mean_squared_error: 10.46 - ETA: 4s - loss: 984.4920 - root_mean_squared_error: 10.45 - ETA: 4s - loss: 983.3967 - root_mean_squared_error: 10.45 - ETA: 3s - loss: 982.2971 - root_mean_squared_error: 10.45 - ETA: 3s - loss: 981.1920 - root_mean_squared_error: 10.45 - ETA: 3s - loss: 980.0844 - root_mean_squared_error: 10.45 - ETA: 3s - loss: 978.9732 - root_mean_squared_error: 10.45 - ETA: 2s - loss: 977.8578 - root_mean_squared_error: 10.45 - ETA: 2s - loss: 976.7398 - root_mean_squared_error: 10.45 - ETA: 2s - loss: 975.6166 - root_mean_squared_error: 10.45 - ETA: 2s - loss: 974.4896 - root_mean_squared_error: 10.45 - ETA: 1s - loss: 973.3586 - root_mean_squared_error: 10.45 - ETA: 1s - loss: 972.2245 - root_mean_squared_error: 10.45 - ETA: 1s - loss: 971.0853 - root_mean_squared_error: 10.45 - ETA: 1s - loss: 969.9416 - root_mean_squared_error: 10.44 - ETA: 0s - loss: 968.7951 - root_mean_squared_error: 10.44 - ETA: 0s - loss: 967.6449 - root_mean_squared_error: 10.44 - ETA: 0s - loss: 966.4920 - root_mean_squared_error: 10.44 - ETA: 0s - loss: 965.3342 - root_mean_squared_error: 10.44 - 76s 1ms/sample - loss: 965.1614 - root_mean_squared_error: 10.4470\n",
      "Epoch 7/8\n",
      "34304/74534 [============>.................] - ETA: 1:12 - loss: 622.8054 - root_mean_squared_error: 10.26 - ETA: 1:13 - loss: 621.0600 - root_mean_squared_error: 10.20 - ETA: 1:13 - loss: 619.2686 - root_mean_squared_error: 10.09 - ETA: 1:12 - loss: 617.5484 - root_mean_squared_error: 10.05 - ETA: 1:12 - loss: 615.8668 - root_mean_squared_error: 10.05 - ETA: 1:12 - loss: 614.1838 - root_mean_squared_error: 10.04 - ETA: 1:12 - loss: 612.5329 - root_mean_squared_error: 10.07 - ETA: 1:12 - loss: 610.8472 - root_mean_squared_error: 10.06 - ETA: 1:12 - loss: 609.1951 - root_mean_squared_error: 10.10 - ETA: 1:13 - loss: 607.5323 - root_mean_squared_error: 10.12 - ETA: 1:12 - loss: 605.8247 - root_mean_squared_error: 10.10 - ETA: 1:12 - loss: 604.1539 - root_mean_squared_error: 10.12 - ETA: 1:11 - loss: 602.4492 - root_mean_squared_error: 10.10 - ETA: 1:11 - loss: 600.7574 - root_mean_squared_error: 10.11 - ETA: 1:10 - loss: 599.0502 - root_mean_squared_error: 10.10 - ETA: 1:10 - loss: 597.3504 - root_mean_squared_error: 10.10 - ETA: 1:10 - loss: 595.6492 - root_mean_squared_error: 10.10 - ETA: 1:10 - loss: 593.9515 - root_mean_squared_error: 10.11 - ETA: 1:09 - loss: 592.2584 - root_mean_squared_error: 10.13 - ETA: 1:09 - loss: 590.5389 - root_mean_squared_error: 10.12 - ETA: 1:09 - loss: 588.8255 - root_mean_squared_error: 10.12 - ETA: 1:08 - loss: 587.1049 - root_mean_squared_error: 10.12 - ETA: 1:08 - loss: 585.3807 - root_mean_squared_error: 10.12 - ETA: 1:08 - loss: 583.6607 - root_mean_squared_error: 10.12 - ETA: 1:08 - loss: 581.9336 - root_mean_squared_error: 10.12 - ETA: 1:07 - loss: 580.2108 - root_mean_squared_error: 10.13 - ETA: 1:07 - loss: 578.4834 - root_mean_squared_error: 10.14 - ETA: 1:07 - loss: 576.7505 - root_mean_squared_error: 10.14 - ETA: 1:06 - loss: 575.0091 - root_mean_squared_error: 10.14 - ETA: 1:06 - loss: 573.2691 - root_mean_squared_error: 10.14 - ETA: 1:06 - loss: 571.5320 - root_mean_squared_error: 10.14 - ETA: 1:06 - loss: 569.7822 - root_mean_squared_error: 10.14 - ETA: 1:05 - loss: 568.0239 - root_mean_squared_error: 10.13 - ETA: 1:05 - loss: 566.2610 - root_mean_squared_error: 10.11 - ETA: 1:05 - loss: 564.5087 - root_mean_squared_error: 10.11 - ETA: 1:05 - loss: 562.7555 - root_mean_squared_error: 10.11 - ETA: 1:04 - loss: 561.0008 - root_mean_squared_error: 10.11 - ETA: 1:04 - loss: 559.2454 - root_mean_squared_error: 10.11 - ETA: 1:04 - loss: 557.4860 - root_mean_squared_error: 10.10 - ETA: 1:04 - loss: 555.7258 - root_mean_squared_error: 10.10 - ETA: 1:04 - loss: 553.9658 - root_mean_squared_error: 10.10 - ETA: 1:03 - loss: 552.1958 - root_mean_squared_error: 10.09 - ETA: 1:03 - loss: 550.4354 - root_mean_squared_error: 10.09 - ETA: 1:03 - loss: 548.6697 - root_mean_squared_error: 10.09 - ETA: 1:03 - loss: 546.9024 - root_mean_squared_error: 10.08 - ETA: 1:02 - loss: 545.1381 - root_mean_squared_error: 10.08 - ETA: 1:02 - loss: 543.3740 - root_mean_squared_error: 10.08 - ETA: 1:02 - loss: 541.6117 - root_mean_squared_error: 10.08 - ETA: 1:02 - loss: 539.8448 - root_mean_squared_error: 10.08 - ETA: 1:01 - loss: 538.0766 - root_mean_squared_error: 10.08 - ETA: 1:01 - loss: 536.3062 - root_mean_squared_error: 10.07 - ETA: 1:01 - loss: 534.5414 - root_mean_squared_error: 10.07 - ETA: 1:01 - loss: 532.7696 - root_mean_squared_error: 10.06 - ETA: 1:00 - loss: 530.9976 - root_mean_squared_error: 10.05 - ETA: 1:00 - loss: 529.2322 - root_mean_squared_error: 10.05 - ETA: 1:00 - loss: 527.4669 - root_mean_squared_error: 10.05 - ETA: 1:00 - loss: 525.7008 - root_mean_squared_error: 10.05 - ETA: 1:00 - loss: 523.9337 - root_mean_squared_error: 10.05 - ETA: 59s - loss: 522.1583 - root_mean_squared_error: 10.0412 - ETA: 59s - loss: 520.3889 - root_mean_squared_error: 10.035 - ETA: 59s - loss: 518.6206 - root_mean_squared_error: 10.029 - ETA: 58s - loss: 516.8558 - root_mean_squared_error: 10.026 - ETA: 58s - loss: 515.0912 - root_mean_squared_error: 10.023 - ETA: 58s - loss: 513.3248 - root_mean_squared_error: 10.017 - ETA: 58s - loss: 511.5601 - root_mean_squared_error: 10.012 - ETA: 58s - loss: 509.7957 - root_mean_squared_error: 10.007 - ETA: 57s - loss: 508.0361 - root_mean_squared_error: 10.005 - ETA: 57s - loss: 506.2796 - root_mean_squared_error: 10.005 - ETA: 57s - loss: 504.5203 - root_mean_squared_error: 10.000 - ETA: 57s - loss: 502.7634 - root_mean_squared_error: 9.997 - ETA: 56s - loss: 501.0062 - root_mean_squared_error: 9.99 - ETA: 56s - loss: 499.2496 - root_mean_squared_error: 9.98 - ETA: 56s - loss: 497.4956 - root_mean_squared_error: 9.98 - ETA: 56s - loss: 495.7411 - root_mean_squared_error: 9.97 - ETA: 55s - loss: 493.9947 - root_mean_squared_error: 9.97 - ETA: 55s - loss: 492.2492 - root_mean_squared_error: 9.96 - ETA: 55s - loss: 490.5060 - root_mean_squared_error: 9.96 - ETA: 54s - loss: 488.7636 - root_mean_squared_error: 9.96 - ETA: 54s - loss: 487.0217 - root_mean_squared_error: 9.95 - ETA: 54s - loss: 485.2811 - root_mean_squared_error: 9.94 - ETA: 54s - loss: 483.5464 - root_mean_squared_error: 9.94 - ETA: 53s - loss: 481.8164 - root_mean_squared_error: 9.94 - ETA: 53s - loss: 480.0884 - root_mean_squared_error: 9.93 - ETA: 53s - loss: 478.3612 - root_mean_squared_error: 9.93 - ETA: 52s - loss: 476.6369 - root_mean_squared_error: 9.92 - ETA: 52s - loss: 474.9175 - root_mean_squared_error: 9.92 - ETA: 52s - loss: 473.1986 - root_mean_squared_error: 9.91 - ETA: 52s - loss: 471.4834 - root_mean_squared_error: 9.91 - ETA: 52s - loss: 469.7698 - root_mean_squared_error: 9.90 - ETA: 51s - loss: 468.0597 - root_mean_squared_error: 9.90 - ETA: 51s - loss: 466.3540 - root_mean_squared_error: 9.89 - ETA: 51s - loss: 464.6520 - root_mean_squared_error: 9.89 - ETA: 51s - loss: 462.9479 - root_mean_squared_error: 9.88 - ETA: 50s - loss: 461.2520 - root_mean_squared_error: 9.87 - ETA: 50s - loss: 459.5605 - root_mean_squared_error: 9.87 - ETA: 50s - loss: 457.8681 - root_mean_squared_error: 9.86 - ETA: 50s - loss: 456.1830 - root_mean_squared_error: 9.85 - ETA: 49s - loss: 454.4995 - root_mean_squared_error: 9.84 - ETA: 49s - loss: 452.8218 - root_mean_squared_error: 9.84 - ETA: 49s - loss: 451.1489 - root_mean_squared_error: 9.83 - ETA: 48s - loss: 449.4812 - root_mean_squared_error: 9.82 - ETA: 48s - loss: 447.8157 - root_mean_squared_error: 9.82 - ETA: 48s - loss: 446.1532 - root_mean_squared_error: 9.81 - ETA: 48s - loss: 444.4963 - root_mean_squared_error: 9.80 - ETA: 47s - loss: 442.8444 - root_mean_squared_error: 9.79 - ETA: 47s - loss: 441.1956 - root_mean_squared_error: 9.78 - ETA: 47s - loss: 439.5538 - root_mean_squared_error: 9.78 - ETA: 47s - loss: 437.9134 - root_mean_squared_error: 9.77 - ETA: 46s - loss: 436.2770 - root_mean_squared_error: 9.76 - ETA: 46s - loss: 434.6515 - root_mean_squared_error: 9.75 - ETA: 46s - loss: 433.0287 - root_mean_squared_error: 9.75 - ETA: 46s - loss: 431.4062 - root_mean_squared_error: 9.74 - ETA: 45s - loss: 429.7909 - root_mean_squared_error: 9.73 - ETA: 45s - loss: 428.1782 - root_mean_squared_error: 9.72 - ETA: 45s - loss: 426.5758 - root_mean_squared_error: 9.71 - ETA: 45s - loss: 424.9735 - root_mean_squared_error: 9.70 - ETA: 44s - loss: 423.3793 - root_mean_squared_error: 9.69 - ETA: 44s - loss: 421.7874 - root_mean_squared_error: 9.68 - ETA: 44s - loss: 420.1998 - root_mean_squared_error: 9.67 - ETA: 44s - loss: 418.6157 - root_mean_squared_error: 9.66 - ETA: 43s - loss: 417.0423 - root_mean_squared_error: 9.65 - ETA: 43s - loss: 415.4738 - root_mean_squared_error: 9.65 - ETA: 43s - loss: 413.9064 - root_mean_squared_error: 9.63 - ETA: 43s - loss: 412.3473 - root_mean_squared_error: 9.62 - ETA: 42s - loss: 410.7946 - root_mean_squared_error: 9.61 - ETA: 42s - loss: 409.2457 - root_mean_squared_error: 9.60 - ETA: 42s - loss: 407.7039 - root_mean_squared_error: 9.59 - ETA: 41s - loss: 406.1676 - root_mean_squared_error: 9.58 - ETA: 41s - loss: 404.6354 - root_mean_squared_error: 9.57 - ETA: 41s - loss: 403.1095 - root_mean_squared_error: 9.56 - ETA: 41s - loss: 401.5920 - root_mean_squared_error: 9.55 - ETA: 40s - loss: 400.0808 - root_mean_squared_error: 9.54 - ETA: 40s - loss: 398.5758 - root_mean_squared_error: 9.53 - ETA: 40s - loss: 397.0745 - root_mean_squared_error: 9.518569120/74534 [==========================>...] - ETA: 40s - loss: 395.5771 - root_mean_squared_error: 9.50 - ETA: 39s - loss: 394.0870 - root_mean_squared_error: 9.49 - ETA: 39s - loss: 392.6037 - root_mean_squared_error: 9.47 - ETA: 39s - loss: 391.1256 - root_mean_squared_error: 9.46 - ETA: 39s - loss: 389.6529 - root_mean_squared_error: 9.45 - ETA: 38s - loss: 388.1840 - root_mean_squared_error: 9.43 - ETA: 38s - loss: 386.7194 - root_mean_squared_error: 9.42 - ETA: 38s - loss: 385.2619 - root_mean_squared_error: 9.40 - ETA: 38s - loss: 383.8118 - root_mean_squared_error: 9.39 - ETA: 37s - loss: 382.3673 - root_mean_squared_error: 9.37 - ETA: 37s - loss: 380.9269 - root_mean_squared_error: 9.36 - ETA: 37s - loss: 379.4895 - root_mean_squared_error: 9.34 - ETA: 37s - loss: 378.0588 - root_mean_squared_error: 9.33 - ETA: 36s - loss: 376.6340 - root_mean_squared_error: 9.31 - ETA: 36s - loss: 375.2135 - root_mean_squared_error: 9.30 - ETA: 36s - loss: 373.7968 - root_mean_squared_error: 9.28 - ETA: 36s - loss: 372.3856 - root_mean_squared_error: 9.27 - ETA: 35s - loss: 370.9802 - root_mean_squared_error: 9.25 - ETA: 35s - loss: 369.5787 - root_mean_squared_error: 9.23 - ETA: 35s - loss: 368.1829 - root_mean_squared_error: 9.22 - ETA: 35s - loss: 366.7913 - root_mean_squared_error: 9.20 - ETA: 34s - loss: 365.4030 - root_mean_squared_error: 9.18 - ETA: 34s - loss: 364.0203 - root_mean_squared_error: 9.16 - ETA: 34s - loss: 362.6413 - root_mean_squared_error: 9.15 - ETA: 34s - loss: 361.2667 - root_mean_squared_error: 9.13 - ETA: 33s - loss: 359.8959 - root_mean_squared_error: 9.11 - ETA: 33s - loss: 358.5321 - root_mean_squared_error: 9.09 - ETA: 33s - loss: 357.1705 - root_mean_squared_error: 9.07 - ETA: 33s - loss: 355.8120 - root_mean_squared_error: 9.06 - ETA: 32s - loss: 354.4592 - root_mean_squared_error: 9.04 - ETA: 32s - loss: 353.1119 - root_mean_squared_error: 9.02 - ETA: 32s - loss: 351.7676 - root_mean_squared_error: 9.00 - ETA: 32s - loss: 350.4295 - root_mean_squared_error: 8.98 - ETA: 32s - loss: 349.0960 - root_mean_squared_error: 8.96 - ETA: 31s - loss: 347.7663 - root_mean_squared_error: 8.94 - ETA: 31s - loss: 346.4423 - root_mean_squared_error: 8.93 - ETA: 31s - loss: 345.1231 - root_mean_squared_error: 8.91 - ETA: 31s - loss: 343.8054 - root_mean_squared_error: 8.89 - ETA: 30s - loss: 342.4979 - root_mean_squared_error: 8.87 - ETA: 30s - loss: 341.1954 - root_mean_squared_error: 8.85 - ETA: 30s - loss: 339.8962 - root_mean_squared_error: 8.83 - ETA: 29s - loss: 338.6033 - root_mean_squared_error: 8.81 - ETA: 29s - loss: 337.3178 - root_mean_squared_error: 8.79 - ETA: 29s - loss: 336.0373 - root_mean_squared_error: 8.77 - ETA: 29s - loss: 334.7633 - root_mean_squared_error: 8.75 - ETA: 28s - loss: 333.4927 - root_mean_squared_error: 8.73 - ETA: 28s - loss: 332.2281 - root_mean_squared_error: 8.72 - ETA: 28s - loss: 330.9724 - root_mean_squared_error: 8.70 - ETA: 28s - loss: 329.7204 - root_mean_squared_error: 8.68 - ETA: 27s - loss: 328.4763 - root_mean_squared_error: 8.66 - ETA: 27s - loss: 327.2363 - root_mean_squared_error: 8.64 - ETA: 27s - loss: 326.0023 - root_mean_squared_error: 8.62 - ETA: 27s - loss: 324.7722 - root_mean_squared_error: 8.61 - ETA: 26s - loss: 323.5487 - root_mean_squared_error: 8.59 - ETA: 26s - loss: 322.3301 - root_mean_squared_error: 8.57 - ETA: 26s - loss: 321.1182 - root_mean_squared_error: 8.55 - ETA: 26s - loss: 319.9105 - root_mean_squared_error: 8.53 - ETA: 25s - loss: 318.7092 - root_mean_squared_error: 8.52 - ETA: 25s - loss: 317.5113 - root_mean_squared_error: 8.50 - ETA: 25s - loss: 316.3196 - root_mean_squared_error: 8.48 - ETA: 25s - loss: 315.1312 - root_mean_squared_error: 8.46 - ETA: 24s - loss: 313.9498 - root_mean_squared_error: 8.45 - ETA: 24s - loss: 312.7718 - root_mean_squared_error: 8.43 - ETA: 24s - loss: 311.6006 - root_mean_squared_error: 8.41 - ETA: 23s - loss: 310.4321 - root_mean_squared_error: 8.40 - ETA: 23s - loss: 309.2678 - root_mean_squared_error: 8.38 - ETA: 23s - loss: 308.1074 - root_mean_squared_error: 8.36 - ETA: 23s - loss: 306.9531 - root_mean_squared_error: 8.35 - ETA: 22s - loss: 305.8018 - root_mean_squared_error: 8.33 - ETA: 22s - loss: 304.6569 - root_mean_squared_error: 8.31 - ETA: 22s - loss: 303.5145 - root_mean_squared_error: 8.30 - ETA: 22s - loss: 302.3758 - root_mean_squared_error: 8.28 - ETA: 21s - loss: 301.2417 - root_mean_squared_error: 8.27 - ETA: 21s - loss: 300.1119 - root_mean_squared_error: 8.25 - ETA: 21s - loss: 298.9850 - root_mean_squared_error: 8.23 - ETA: 21s - loss: 297.8642 - root_mean_squared_error: 8.22 - ETA: 20s - loss: 296.7461 - root_mean_squared_error: 8.20 - ETA: 20s - loss: 295.6314 - root_mean_squared_error: 8.19 - ETA: 20s - loss: 294.5199 - root_mean_squared_error: 8.17 - ETA: 20s - loss: 293.4130 - root_mean_squared_error: 8.16 - ETA: 19s - loss: 292.3098 - root_mean_squared_error: 8.14 - ETA: 19s - loss: 291.2102 - root_mean_squared_error: 8.13 - ETA: 19s - loss: 290.1159 - root_mean_squared_error: 8.11 - ETA: 19s - loss: 289.0236 - root_mean_squared_error: 8.10 - ETA: 18s - loss: 287.9367 - root_mean_squared_error: 8.08 - ETA: 18s - loss: 286.8531 - root_mean_squared_error: 8.07 - ETA: 18s - loss: 285.7725 - root_mean_squared_error: 8.05 - ETA: 18s - loss: 284.6951 - root_mean_squared_error: 8.04 - ETA: 17s - loss: 283.6224 - root_mean_squared_error: 8.02 - ETA: 17s - loss: 282.5558 - root_mean_squared_error: 8.01 - ETA: 17s - loss: 281.4933 - root_mean_squared_error: 8.00 - ETA: 17s - loss: 280.4340 - root_mean_squared_error: 7.98 - ETA: 16s - loss: 279.3768 - root_mean_squared_error: 7.97 - ETA: 16s - loss: 278.3260 - root_mean_squared_error: 7.95 - ETA: 16s - loss: 277.2807 - root_mean_squared_error: 7.94 - ETA: 15s - loss: 276.2378 - root_mean_squared_error: 7.93 - ETA: 15s - loss: 275.1998 - root_mean_squared_error: 7.91 - ETA: 15s - loss: 274.1676 - root_mean_squared_error: 7.90 - ETA: 15s - loss: 273.1391 - root_mean_squared_error: 7.89 - ETA: 14s - loss: 272.1155 - root_mean_squared_error: 7.87 - ETA: 14s - loss: 271.0961 - root_mean_squared_error: 7.86 - ETA: 14s - loss: 270.0811 - root_mean_squared_error: 7.85 - ETA: 14s - loss: 269.0719 - root_mean_squared_error: 7.83 - ETA: 13s - loss: 268.0677 - root_mean_squared_error: 7.82 - ETA: 13s - loss: 267.0680 - root_mean_squared_error: 7.81 - ETA: 13s - loss: 266.0768 - root_mean_squared_error: 7.80 - ETA: 13s - loss: 265.0906 - root_mean_squared_error: 7.78 - ETA: 12s - loss: 264.1073 - root_mean_squared_error: 7.77 - ETA: 12s - loss: 263.1293 - root_mean_squared_error: 7.76 - ETA: 12s - loss: 262.1566 - root_mean_squared_error: 7.75 - ETA: 12s - loss: 261.1908 - root_mean_squared_error: 7.73 - ETA: 11s - loss: 260.2311 - root_mean_squared_error: 7.72 - ETA: 11s - loss: 259.2764 - root_mean_squared_error: 7.71 - ETA: 11s - loss: 258.3267 - root_mean_squared_error: 7.70 - ETA: 11s - loss: 257.3835 - root_mean_squared_error: 7.68 - ETA: 10s - loss: 256.4480 - root_mean_squared_error: 7.67 - ETA: 10s - loss: 255.5181 - root_mean_squared_error: 7.66 - ETA: 10s - loss: 254.5928 - root_mean_squared_error: 7.65 - ETA: 9s - loss: 253.6728 - root_mean_squared_error: 7.6418 - ETA: 9s - loss: 252.7599 - root_mean_squared_error: 7.629 - ETA: 9s - loss: 251.8544 - root_mean_squared_error: 7.618 - ETA: 9s - loss: 250.9538 - root_mean_squared_error: 7.606 - ETA: 8s - loss: 250.0609 - root_mean_squared_error: 7.595 - ETA: 8s - loss: 249.1750 - root_mean_squared_error: 7.584 - ETA: 8s - loss: 248.2951 - root_mean_squared_error: 7.573 - ETA: 8s - loss: 247.4208 - root_mean_squared_error: 7.562 - ETA: 7s - loss: 246.5535 - root_mean_squared_error: 7.551 - ETA: 7s - loss: 245.6923 - root_mean_squared_error: 7.540 - ETA: 7s - loss: 244.8357 - root_mean_squared_error: 7.529 - ETA: 7s - loss: 243.9862 - root_mean_squared_error: 7.518 - ETA: 6s - loss: 243.1414 - root_mean_squared_error: 7.506 - ETA: 6s - loss: 242.3037 - root_mean_squared_error: 7.496 - ETA: 6s - loss: 241.4707 - root_mean_squared_error: 7.484 - ETA: 6s - loss: 240.6442 - root_mean_squared_error: 7.474 - ETA: 5s - loss: 239.8246 - root_mean_squared_error: 7.463 - ETA: 5s - loss: 239.0081 - root_mean_squared_error: 7.452474534/74534 [==============================] - ETA: 5s - loss: 238.1993 - root_mean_squared_error: 7.442 - ETA: 4s - loss: 237.3955 - root_mean_squared_error: 7.431 - ETA: 4s - loss: 236.5978 - root_mean_squared_error: 7.421 - ETA: 4s - loss: 235.8040 - root_mean_squared_error: 7.410 - ETA: 4s - loss: 235.0156 - root_mean_squared_error: 7.400 - ETA: 3s - loss: 234.2325 - root_mean_squared_error: 7.389 - ETA: 3s - loss: 233.4543 - root_mean_squared_error: 7.379 - ETA: 3s - loss: 232.6819 - root_mean_squared_error: 7.369 - ETA: 3s - loss: 231.9147 - root_mean_squared_error: 7.359 - ETA: 2s - loss: 231.1516 - root_mean_squared_error: 7.349 - ETA: 2s - loss: 230.3921 - root_mean_squared_error: 7.338 - ETA: 2s - loss: 229.6381 - root_mean_squared_error: 7.328 - ETA: 2s - loss: 228.8894 - root_mean_squared_error: 7.319 - ETA: 1s - loss: 228.1444 - root_mean_squared_error: 7.309 - ETA: 1s - loss: 227.4032 - root_mean_squared_error: 7.299 - ETA: 1s - loss: 226.6659 - root_mean_squared_error: 7.289 - ETA: 1s - loss: 225.9333 - root_mean_squared_error: 7.279 - ETA: 0s - loss: 225.2049 - root_mean_squared_error: 7.269 - ETA: 0s - loss: 224.4812 - root_mean_squared_error: 7.259 - ETA: 0s - loss: 223.7619 - root_mean_squared_error: 7.250 - ETA: 0s - loss: 223.0467 - root_mean_squared_error: 7.240 - 76s 1ms/sample - loss: 222.9410 - root_mean_squared_error: 7.2392\n",
      "Epoch 8/8\n"
     ]
    },
    {
     "name": "stdout",
     "output_type": "stream",
     "text": [
      "34816/74534 [=============>................] - ETA: 1:17 - loss: 15.8417 - root_mean_squared_error: 3.43 - ETA: 1:15 - loss: 16.3881 - root_mean_squared_error: 3.36 - ETA: 1:15 - loss: 17.2074 - root_mean_squared_error: 3.36 - ETA: 1:15 - loss: 18.1428 - root_mean_squared_error: 3.34 - ETA: 1:14 - loss: 19.2008 - root_mean_squared_error: 3.33 - ETA: 1:13 - loss: 20.2876 - root_mean_squared_error: 3.30 - ETA: 1:13 - loss: 21.4724 - root_mean_squared_error: 3.34 - ETA: 1:12 - loss: 22.6369 - root_mean_squared_error: 3.36 - ETA: 1:11 - loss: 23.7460 - root_mean_squared_error: 3.35 - ETA: 1:11 - loss: 24.8217 - root_mean_squared_error: 3.34 - ETA: 1:11 - loss: 25.8378 - root_mean_squared_error: 3.33 - ETA: 1:10 - loss: 26.8224 - root_mean_squared_error: 3.35 - ETA: 1:10 - loss: 27.7158 - root_mean_squared_error: 3.34 - ETA: 1:10 - loss: 28.5517 - root_mean_squared_error: 3.35 - ETA: 1:10 - loss: 29.2960 - root_mean_squared_error: 3.35 - ETA: 1:09 - loss: 29.9666 - root_mean_squared_error: 3.35 - ETA: 1:09 - loss: 30.5464 - root_mean_squared_error: 3.34 - ETA: 1:09 - loss: 31.0452 - root_mean_squared_error: 3.33 - ETA: 1:09 - loss: 31.4726 - root_mean_squared_error: 3.33 - ETA: 1:09 - loss: 31.8220 - root_mean_squared_error: 3.33 - ETA: 1:08 - loss: 32.0958 - root_mean_squared_error: 3.33 - ETA: 1:08 - loss: 32.2965 - root_mean_squared_error: 3.32 - ETA: 1:08 - loss: 32.4404 - root_mean_squared_error: 3.32 - ETA: 1:08 - loss: 32.5253 - root_mean_squared_error: 3.33 - ETA: 1:07 - loss: 32.5370 - root_mean_squared_error: 3.32 - ETA: 1:07 - loss: 32.5062 - root_mean_squared_error: 3.33 - ETA: 1:07 - loss: 32.4240 - root_mean_squared_error: 3.33 - ETA: 1:07 - loss: 32.2973 - root_mean_squared_error: 3.33 - ETA: 1:07 - loss: 32.1347 - root_mean_squared_error: 3.34 - ETA: 1:07 - loss: 31.9259 - root_mean_squared_error: 3.33 - ETA: 1:06 - loss: 31.7004 - root_mean_squared_error: 3.34 - ETA: 1:06 - loss: 31.4427 - root_mean_squared_error: 3.33 - ETA: 1:06 - loss: 31.1620 - root_mean_squared_error: 3.32 - ETA: 1:06 - loss: 30.8852 - root_mean_squared_error: 3.33 - ETA: 1:05 - loss: 30.5870 - root_mean_squared_error: 3.33 - ETA: 1:05 - loss: 30.2842 - root_mean_squared_error: 3.33 - ETA: 1:05 - loss: 29.9707 - root_mean_squared_error: 3.33 - ETA: 1:04 - loss: 29.6584 - root_mean_squared_error: 3.34 - ETA: 1:04 - loss: 29.3476 - root_mean_squared_error: 3.34 - ETA: 1:04 - loss: 29.0300 - root_mean_squared_error: 3.35 - ETA: 1:04 - loss: 28.7081 - root_mean_squared_error: 3.35 - ETA: 1:03 - loss: 28.3849 - root_mean_squared_error: 3.35 - ETA: 1:03 - loss: 28.0622 - root_mean_squared_error: 3.35 - ETA: 1:03 - loss: 27.7355 - root_mean_squared_error: 3.34 - ETA: 1:03 - loss: 27.4183 - root_mean_squared_error: 3.34 - ETA: 1:02 - loss: 27.1125 - root_mean_squared_error: 3.35 - ETA: 1:02 - loss: 26.8048 - root_mean_squared_error: 3.34 - ETA: 1:02 - loss: 26.5039 - root_mean_squared_error: 3.34 - ETA: 1:02 - loss: 26.2105 - root_mean_squared_error: 3.34 - ETA: 1:01 - loss: 25.9311 - root_mean_squared_error: 3.33 - ETA: 1:01 - loss: 25.6610 - root_mean_squared_error: 3.33 - ETA: 1:01 - loss: 25.4044 - root_mean_squared_error: 3.33 - ETA: 1:01 - loss: 25.1505 - root_mean_squared_error: 3.33 - ETA: 1:00 - loss: 24.9055 - root_mean_squared_error: 3.32 - ETA: 1:00 - loss: 24.6792 - root_mean_squared_error: 3.32 - ETA: 1:00 - loss: 24.4661 - root_mean_squared_error: 3.32 - ETA: 59s - loss: 24.2657 - root_mean_squared_error: 3.3266 - ETA: 59s - loss: 24.0811 - root_mean_squared_error: 3.327 - ETA: 59s - loss: 23.9115 - root_mean_squared_error: 3.326 - ETA: 59s - loss: 23.7591 - root_mean_squared_error: 3.326 - ETA: 59s - loss: 23.6246 - root_mean_squared_error: 3.325 - ETA: 58s - loss: 23.5087 - root_mean_squared_error: 3.323 - ETA: 58s - loss: 23.4159 - root_mean_squared_error: 3.320 - ETA: 58s - loss: 23.3471 - root_mean_squared_error: 3.321 - ETA: 58s - loss: 23.2991 - root_mean_squared_error: 3.321 - ETA: 57s - loss: 23.2656 - root_mean_squared_error: 3.320 - ETA: 57s - loss: 23.2458 - root_mean_squared_error: 3.317 - ETA: 57s - loss: 23.2396 - root_mean_squared_error: 3.318 - ETA: 56s - loss: 23.2415 - root_mean_squared_error: 3.318 - ETA: 56s - loss: 23.2464 - root_mean_squared_error: 3.317 - ETA: 56s - loss: 23.2567 - root_mean_squared_error: 3.316 - ETA: 56s - loss: 23.2700 - root_mean_squared_error: 3.317 - ETA: 55s - loss: 23.2830 - root_mean_squared_error: 3.315 - ETA: 55s - loss: 23.2965 - root_mean_squared_error: 3.313 - ETA: 55s - loss: 23.3148 - root_mean_squared_error: 3.317 - ETA: 55s - loss: 23.3280 - root_mean_squared_error: 3.317 - ETA: 54s - loss: 23.3373 - root_mean_squared_error: 3.315 - ETA: 54s - loss: 23.3467 - root_mean_squared_error: 3.317 - ETA: 54s - loss: 23.3463 - root_mean_squared_error: 3.314 - ETA: 54s - loss: 23.3497 - root_mean_squared_error: 3.318 - ETA: 53s - loss: 23.3419 - root_mean_squared_error: 3.315 - ETA: 53s - loss: 23.3285 - root_mean_squared_error: 3.312 - ETA: 53s - loss: 23.3126 - root_mean_squared_error: 3.311 - ETA: 53s - loss: 23.2933 - root_mean_squared_error: 3.312 - ETA: 52s - loss: 23.2629 - root_mean_squared_error: 3.308 - ETA: 52s - loss: 23.2296 - root_mean_squared_error: 3.307 - ETA: 52s - loss: 23.1845 - root_mean_squared_error: 3.302 - ETA: 52s - loss: 23.1343 - root_mean_squared_error: 3.298 - ETA: 51s - loss: 23.0801 - root_mean_squared_error: 3.298 - ETA: 51s - loss: 23.0157 - root_mean_squared_error: 3.294 - ETA: 51s - loss: 22.9460 - root_mean_squared_error: 3.291 - ETA: 51s - loss: 22.8735 - root_mean_squared_error: 3.290 - ETA: 50s - loss: 22.7951 - root_mean_squared_error: 3.289 - ETA: 50s - loss: 22.7154 - root_mean_squared_error: 3.289 - ETA: 50s - loss: 22.6294 - root_mean_squared_error: 3.285 - ETA: 50s - loss: 22.5464 - root_mean_squared_error: 3.285 - ETA: 49s - loss: 22.4627 - root_mean_squared_error: 3.284 - ETA: 49s - loss: 22.3815 - root_mean_squared_error: 3.284 - ETA: 49s - loss: 22.3016 - root_mean_squared_error: 3.282 - ETA: 49s - loss: 22.2261 - root_mean_squared_error: 3.282 - ETA: 48s - loss: 22.1543 - root_mean_squared_error: 3.281 - ETA: 48s - loss: 22.0847 - root_mean_squared_error: 3.279 - ETA: 48s - loss: 22.0189 - root_mean_squared_error: 3.277 - ETA: 48s - loss: 21.9555 - root_mean_squared_error: 3.274 - ETA: 47s - loss: 21.8977 - root_mean_squared_error: 3.275 - ETA: 47s - loss: 21.8379 - root_mean_squared_error: 3.271 - ETA: 47s - loss: 21.7808 - root_mean_squared_error: 3.269 - ETA: 47s - loss: 21.7254 - root_mean_squared_error: 3.267 - ETA: 46s - loss: 21.6704 - root_mean_squared_error: 3.264 - ETA: 46s - loss: 21.6181 - root_mean_squared_error: 3.263 - ETA: 46s - loss: 21.5689 - root_mean_squared_error: 3.263 - ETA: 46s - loss: 21.5216 - root_mean_squared_error: 3.262 - ETA: 45s - loss: 21.4736 - root_mean_squared_error: 3.259 - ETA: 45s - loss: 21.4299 - root_mean_squared_error: 3.258 - ETA: 45s - loss: 21.3921 - root_mean_squared_error: 3.259 - ETA: 45s - loss: 21.3557 - root_mean_squared_error: 3.258 - ETA: 44s - loss: 21.3228 - root_mean_squared_error: 3.258 - ETA: 44s - loss: 21.2911 - root_mean_squared_error: 3.256 - ETA: 44s - loss: 21.2634 - root_mean_squared_error: 3.256 - ETA: 44s - loss: 21.2362 - root_mean_squared_error: 3.254 - ETA: 43s - loss: 21.2105 - root_mean_squared_error: 3.252 - ETA: 43s - loss: 21.1859 - root_mean_squared_error: 3.250 - ETA: 43s - loss: 21.1624 - root_mean_squared_error: 3.249 - ETA: 43s - loss: 21.1362 - root_mean_squared_error: 3.245 - ETA: 42s - loss: 21.1099 - root_mean_squared_error: 3.242 - ETA: 42s - loss: 21.0875 - root_mean_squared_error: 3.243 - ETA: 42s - loss: 21.0634 - root_mean_squared_error: 3.242 - ETA: 42s - loss: 21.0396 - root_mean_squared_error: 3.240 - ETA: 41s - loss: 21.0148 - root_mean_squared_error: 3.237 - ETA: 41s - loss: 20.9929 - root_mean_squared_error: 3.236 - ETA: 41s - loss: 20.9719 - root_mean_squared_error: 3.236 - ETA: 41s - loss: 20.9509 - root_mean_squared_error: 3.235 - ETA: 40s - loss: 20.9289 - root_mean_squared_error: 3.234 - ETA: 40s - loss: 20.9049 - root_mean_squared_error: 3.232 - ETA: 40s - loss: 20.8794 - root_mean_squared_error: 3.230 - ETA: 39s - loss: 20.8534 - root_mean_squared_error: 3.230169888/74534 [===========================>..] - ETA: 39s - loss: 20.8242 - root_mean_squared_error: 3.228 - ETA: 39s - loss: 20.7930 - root_mean_squared_error: 3.226 - ETA: 39s - loss: 20.7577 - root_mean_squared_error: 3.222 - ETA: 38s - loss: 20.7223 - root_mean_squared_error: 3.221 - ETA: 38s - loss: 20.6852 - root_mean_squared_error: 3.220 - ETA: 38s - loss: 20.6463 - root_mean_squared_error: 3.219 - ETA: 38s - loss: 20.6058 - root_mean_squared_error: 3.217 - ETA: 37s - loss: 20.5639 - root_mean_squared_error: 3.214 - ETA: 37s - loss: 20.5244 - root_mean_squared_error: 3.213 - ETA: 37s - loss: 20.4853 - root_mean_squared_error: 3.210 - ETA: 37s - loss: 20.4547 - root_mean_squared_error: 3.212 - ETA: 36s - loss: 20.4267 - root_mean_squared_error: 3.211 - ETA: 36s - loss: 20.4065 - root_mean_squared_error: 3.209 - ETA: 36s - loss: 20.3928 - root_mean_squared_error: 3.207 - ETA: 36s - loss: 20.3897 - root_mean_squared_error: 3.207 - ETA: 35s - loss: 20.3908 - root_mean_squared_error: 3.204 - ETA: 35s - loss: 20.3994 - root_mean_squared_error: 3.202 - ETA: 35s - loss: 20.4125 - root_mean_squared_error: 3.201 - ETA: 35s - loss: 20.4266 - root_mean_squared_error: 3.199 - ETA: 34s - loss: 20.4409 - root_mean_squared_error: 3.197 - ETA: 34s - loss: 20.4535 - root_mean_squared_error: 3.193 - ETA: 34s - loss: 20.4694 - root_mean_squared_error: 3.192 - ETA: 34s - loss: 20.4833 - root_mean_squared_error: 3.189 - ETA: 33s - loss: 20.4982 - root_mean_squared_error: 3.188 - ETA: 33s - loss: 20.5113 - root_mean_squared_error: 3.186 - ETA: 33s - loss: 20.5244 - root_mean_squared_error: 3.185 - ETA: 33s - loss: 20.5346 - root_mean_squared_error: 3.183 - ETA: 32s - loss: 20.5449 - root_mean_squared_error: 3.183 - ETA: 32s - loss: 20.5515 - root_mean_squared_error: 3.181 - ETA: 32s - loss: 20.5576 - root_mean_squared_error: 3.180 - ETA: 32s - loss: 20.5617 - root_mean_squared_error: 3.179 - ETA: 31s - loss: 20.5649 - root_mean_squared_error: 3.179 - ETA: 31s - loss: 20.5656 - root_mean_squared_error: 3.177 - ETA: 31s - loss: 20.5654 - root_mean_squared_error: 3.178 - ETA: 31s - loss: 20.5636 - root_mean_squared_error: 3.177 - ETA: 30s - loss: 20.5616 - root_mean_squared_error: 3.177 - ETA: 30s - loss: 20.5576 - root_mean_squared_error: 3.176 - ETA: 30s - loss: 20.5540 - root_mean_squared_error: 3.175 - ETA: 30s - loss: 20.5499 - root_mean_squared_error: 3.174 - ETA: 29s - loss: 20.5471 - root_mean_squared_error: 3.174 - ETA: 29s - loss: 20.5511 - root_mean_squared_error: 3.176 - ETA: 29s - loss: 20.5611 - root_mean_squared_error: 3.176 - ETA: 28s - loss: 20.5814 - root_mean_squared_error: 3.174 - ETA: 28s - loss: 20.6176 - root_mean_squared_error: 3.174 - ETA: 28s - loss: 20.6668 - root_mean_squared_error: 3.174 - ETA: 28s - loss: 20.7261 - root_mean_squared_error: 3.173 - ETA: 27s - loss: 20.7937 - root_mean_squared_error: 3.173 - ETA: 27s - loss: 20.8644 - root_mean_squared_error: 3.173 - ETA: 27s - loss: 20.9320 - root_mean_squared_error: 3.172 - ETA: 27s - loss: 20.9927 - root_mean_squared_error: 3.171 - ETA: 26s - loss: 21.0459 - root_mean_squared_error: 3.170 - ETA: 26s - loss: 21.0887 - root_mean_squared_error: 3.170 - ETA: 26s - loss: 21.1166 - root_mean_squared_error: 3.168 - ETA: 26s - loss: 21.1314 - root_mean_squared_error: 3.166 - ETA: 25s - loss: 21.1344 - root_mean_squared_error: 3.165 - ETA: 25s - loss: 21.1269 - root_mean_squared_error: 3.165 - ETA: 25s - loss: 21.1106 - root_mean_squared_error: 3.163 - ETA: 25s - loss: 21.0901 - root_mean_squared_error: 3.161 - ETA: 24s - loss: 21.0727 - root_mean_squared_error: 3.161 - ETA: 24s - loss: 21.0607 - root_mean_squared_error: 3.160 - ETA: 24s - loss: 21.0580 - root_mean_squared_error: 3.159 - ETA: 24s - loss: 21.0670 - root_mean_squared_error: 3.159 - ETA: 23s - loss: 21.0891 - root_mean_squared_error: 3.159 - ETA: 23s - loss: 21.1242 - root_mean_squared_error: 3.158 - ETA: 23s - loss: 21.1731 - root_mean_squared_error: 3.158 - ETA: 23s - loss: 21.2312 - root_mean_squared_error: 3.156 - ETA: 22s - loss: 21.2963 - root_mean_squared_error: 3.155 - ETA: 22s - loss: 21.3664 - root_mean_squared_error: 3.155 - ETA: 22s - loss: 21.4343 - root_mean_squared_error: 3.154 - ETA: 21s - loss: 21.5011 - root_mean_squared_error: 3.153 - ETA: 21s - loss: 21.5647 - root_mean_squared_error: 3.153 - ETA: 21s - loss: 21.6252 - root_mean_squared_error: 3.152 - ETA: 21s - loss: 21.6870 - root_mean_squared_error: 3.153 - ETA: 20s - loss: 21.7511 - root_mean_squared_error: 3.154 - ETA: 20s - loss: 21.8188 - root_mean_squared_error: 3.156 - ETA: 20s - loss: 21.8885 - root_mean_squared_error: 3.156 - ETA: 20s - loss: 21.9596 - root_mean_squared_error: 3.157 - ETA: 19s - loss: 22.0271 - root_mean_squared_error: 3.157 - ETA: 19s - loss: 22.0887 - root_mean_squared_error: 3.157 - ETA: 19s - loss: 22.1416 - root_mean_squared_error: 3.157 - ETA: 19s - loss: 22.1838 - root_mean_squared_error: 3.156 - ETA: 18s - loss: 22.2146 - root_mean_squared_error: 3.157 - ETA: 18s - loss: 22.2327 - root_mean_squared_error: 3.156 - ETA: 18s - loss: 22.2400 - root_mean_squared_error: 3.157 - ETA: 18s - loss: 22.2373 - root_mean_squared_error: 3.157 - ETA: 17s - loss: 22.2263 - root_mean_squared_error: 3.156 - ETA: 17s - loss: 22.2100 - root_mean_squared_error: 3.156 - ETA: 17s - loss: 22.1915 - root_mean_squared_error: 3.155 - ETA: 17s - loss: 22.1742 - root_mean_squared_error: 3.154 - ETA: 16s - loss: 22.1650 - root_mean_squared_error: 3.154 - ETA: 16s - loss: 22.1712 - root_mean_squared_error: 3.154 - ETA: 16s - loss: 22.1947 - root_mean_squared_error: 3.154 - ETA: 16s - loss: 22.2386 - root_mean_squared_error: 3.155 - ETA: 15s - loss: 22.2988 - root_mean_squared_error: 3.156 - ETA: 15s - loss: 22.3697 - root_mean_squared_error: 3.155 - ETA: 15s - loss: 22.4464 - root_mean_squared_error: 3.156 - ETA: 15s - loss: 22.5232 - root_mean_squared_error: 3.156 - ETA: 14s - loss: 22.5954 - root_mean_squared_error: 3.156 - ETA: 14s - loss: 22.6580 - root_mean_squared_error: 3.157 - ETA: 14s - loss: 22.7084 - root_mean_squared_error: 3.158 - ETA: 14s - loss: 22.7434 - root_mean_squared_error: 3.157 - ETA: 13s - loss: 22.7640 - root_mean_squared_error: 3.157 - ETA: 13s - loss: 22.7716 - root_mean_squared_error: 3.156 - ETA: 13s - loss: 22.7681 - root_mean_squared_error: 3.155 - ETA: 12s - loss: 22.7589 - root_mean_squared_error: 3.155 - ETA: 12s - loss: 22.7490 - root_mean_squared_error: 3.156 - ETA: 12s - loss: 22.7413 - root_mean_squared_error: 3.158 - ETA: 12s - loss: 22.7368 - root_mean_squared_error: 3.158 - ETA: 11s - loss: 22.7384 - root_mean_squared_error: 3.158 - ETA: 11s - loss: 22.7470 - root_mean_squared_error: 3.157 - ETA: 11s - loss: 22.7624 - root_mean_squared_error: 3.157 - ETA: 11s - loss: 22.7837 - root_mean_squared_error: 3.157 - ETA: 10s - loss: 22.8080 - root_mean_squared_error: 3.157 - ETA: 10s - loss: 22.8322 - root_mean_squared_error: 3.156 - ETA: 10s - loss: 22.8553 - root_mean_squared_error: 3.156 - ETA: 10s - loss: 22.8728 - root_mean_squared_error: 3.156 - ETA: 9s - loss: 22.8861 - root_mean_squared_error: 3.156 - ETA: 9s - loss: 22.8929 - root_mean_squared_error: 3.15 - ETA: 9s - loss: 22.8957 - root_mean_squared_error: 3.15 - ETA: 9s - loss: 22.8940 - root_mean_squared_error: 3.15 - ETA: 8s - loss: 22.8895 - root_mean_squared_error: 3.15 - ETA: 8s - loss: 22.8859 - root_mean_squared_error: 3.15 - ETA: 8s - loss: 22.8867 - root_mean_squared_error: 3.15 - ETA: 8s - loss: 22.8898 - root_mean_squared_error: 3.15 - ETA: 7s - loss: 22.8983 - root_mean_squared_error: 3.15 - ETA: 7s - loss: 22.9096 - root_mean_squared_error: 3.15 - ETA: 7s - loss: 22.9200 - root_mean_squared_error: 3.15 - ETA: 6s - loss: 22.9282 - root_mean_squared_error: 3.15 - ETA: 6s - loss: 22.9312 - root_mean_squared_error: 3.15 - ETA: 6s - loss: 22.9266 - root_mean_squared_error: 3.15 - ETA: 6s - loss: 22.9161 - root_mean_squared_error: 3.15 - ETA: 5s - loss: 22.9000 - root_mean_squared_error: 3.15 - ETA: 5s - loss: 22.8812 - root_mean_squared_error: 3.15 - ETA: 5s - loss: 22.8617 - root_mean_squared_error: 3.15 - ETA: 5s - loss: 22.8428 - root_mean_squared_error: 3.15 - ETA: 4s - loss: 22.8271 - root_mean_squared_error: 3.15 - ETA: 4s - loss: 22.8140 - root_mean_squared_error: 3.1531"
     ]
    },
    {
     "name": "stdout",
     "output_type": "stream",
     "text": [
      "74534/74534 [==============================] - ETA: 4s - loss: 22.8055 - root_mean_squared_error: 3.15 - ETA: 4s - loss: 22.8014 - root_mean_squared_error: 3.15 - ETA: 3s - loss: 22.8012 - root_mean_squared_error: 3.15 - ETA: 3s - loss: 22.8045 - root_mean_squared_error: 3.15 - ETA: 3s - loss: 22.8097 - root_mean_squared_error: 3.15 - ETA: 3s - loss: 22.8166 - root_mean_squared_error: 3.15 - ETA: 2s - loss: 22.8254 - root_mean_squared_error: 3.15 - ETA: 2s - loss: 22.8351 - root_mean_squared_error: 3.15 - ETA: 2s - loss: 22.8443 - root_mean_squared_error: 3.15 - ETA: 2s - loss: 22.8501 - root_mean_squared_error: 3.15 - ETA: 1s - loss: 22.8529 - root_mean_squared_error: 3.15 - ETA: 1s - loss: 22.8533 - root_mean_squared_error: 3.15 - ETA: 1s - loss: 22.8533 - root_mean_squared_error: 3.15 - ETA: 1s - loss: 22.8552 - root_mean_squared_error: 3.15 - ETA: 0s - loss: 22.8624 - root_mean_squared_error: 3.15 - ETA: 0s - loss: 22.8812 - root_mean_squared_error: 3.15 - ETA: 0s - loss: 22.9161 - root_mean_squared_error: 3.15 - ETA: 0s - loss: 22.9703 - root_mean_squared_error: 3.15 - 75s 1ms/sample - loss: 22.9809 - root_mean_squared_error: 3.1572\n"
     ]
    },
    {
     "data": {
      "image/png": "[encoded data removed]",
      "text/plain": [
       "<Figure size 432x288 with 1 Axes>"
      ]
     },
     "metadata": {
      "needs_background": "light"
     },
     "output_type": "display_data"
    }
   ],
   "source": [
    "# Learning Rate Finder\n",
    "lrf = LearningRateFinder(model)\n",
    "lrf.find((Xtrain, Ytrain),\n",
    "         startLR=1e-10, endLR=1e-1,\n",
    "         stepsPerEpoch=np.ceil((len(Xtrain) / float(mini_batch_size))),\n",
    "         batchSize=mini_batch_size)\n",
    "lrf.plot_loss()\n",
    "plt.grid()\n",
    "plt.show()"
   ]
  },
  {
   "cell_type": "code",
   "execution_count": 20,
   "metadata": {
    "colab": {},
    "colab_type": "code",
    "id": "tO5jfOfOr4dk"
   },
   "outputs": [],
   "source": [
    "# Define 5-fold cross validation test harness\n",
    "kfold = KFold(n_splits=5, shuffle=True, random_state=10)\n",
    "cvscores = []\n",
    "y_pred = 0\n",
    "Ypredict = 0\n",
    "loss_values = {}\n",
    "rmse_values = {}"
   ]
  },
  {
   "cell_type": "code",
   "execution_count": 21,
   "metadata": {
    "colab": {
     "base_uri": "https://localhost:8080/",
     "height": 1000
    },
    "colab_type": "code",
    "executionInfo": {
     "elapsed": 46969,
     "status": "ok",
     "timestamp": 1577900145405,
     "user": {
      "displayName": "TAPAS DAS",
      "photoUrl": "https://lh3.googleusercontent.com/a-/AAuE7mAWMXeao3oujURH7jI31N9NlnBx3o-Qy3i2T8kupg=s64",
      "userId": "10798398878324948542"
     },
     "user_tz": -330
    },
    "id": "qVXaGp03sDcv",
    "outputId": "7e3a0936-75b6-46ac-ae1c-ce3d7f4bf9aa"
   },
   "outputs": [
    {
     "name": "stdout",
     "output_type": "stream",
     "text": [
      "Train on 59627 samples, validate on 14907 samples\n",
      "Epoch 1/150\n",
      "32512/59627 [===============>..............] - ETA: 1:12:09 - loss: 1220.0397 - root_mean_squared_error: 10.65 - ETA: 36:32 - loss: 1219.7642 - root_mean_squared_error: 10.4522 - ETA: 24:38 - loss: 1219.7010 - root_mean_squared_error: 10.48 - ETA: 18:41 - loss: 1219.5926 - root_mean_squared_error: 10.49 - ETA: 15:06 - loss: 1219.4631 - root_mean_squared_error: 10.50 - ETA: 12:42 - loss: 1219.2722 - root_mean_squared_error: 10.47 - ETA: 11:00 - loss: 1219.1230 - root_mean_squared_error: 10.51 - ETA: 9:43 - loss: 1218.9733 - root_mean_squared_error: 10.5645 - ETA: 8:44 - loss: 1218.7504 - root_mean_squared_error: 10.563 - ETA: 7:56 - loss: 1218.5226 - root_mean_squared_error: 10.578 - ETA: 7:17 - loss: 1218.2689 - root_mean_squared_error: 10.587 - ETA: 6:44 - loss: 1217.9739 - root_mean_squared_error: 10.575 - ETA: 6:17 - loss: 1217.6832 - root_mean_squared_error: 10.587 - ETA: 5:53 - loss: 1217.3615 - root_mean_squared_error: 10.588 - ETA: 5:32 - loss: 1217.0257 - root_mean_squared_error: 10.597 - ETA: 5:14 - loss: 1216.6653 - root_mean_squared_error: 10.601 - ETA: 4:58 - loss: 1216.2986 - root_mean_squared_error: 10.620 - ETA: 4:44 - loss: 1215.9005 - root_mean_squared_error: 10.627 - ETA: 4:31 - loss: 1215.4653 - root_mean_squared_error: 10.618 - ETA: 4:19 - loss: 1215.0147 - root_mean_squared_error: 10.614 - ETA: 4:09 - loss: 1214.5361 - root_mean_squared_error: 10.603 - ETA: 3:59 - loss: 1214.0462 - root_mean_squared_error: 10.601 - ETA: 3:50 - loss: 1213.5493 - root_mean_squared_error: 10.613 - ETA: 3:42 - loss: 1213.0129 - root_mean_squared_error: 10.606 - ETA: 3:34 - loss: 1212.4688 - root_mean_squared_error: 10.612 - ETA: 3:27 - loss: 1211.8965 - root_mean_squared_error: 10.610 - ETA: 3:21 - loss: 1211.3012 - root_mean_squared_error: 10.606 - ETA: 3:15 - loss: 1210.6875 - root_mean_squared_error: 10.603 - ETA: 3:09 - loss: 1210.0526 - root_mean_squared_error: 10.600 - ETA: 3:04 - loss: 1209.3952 - root_mean_squared_error: 10.594 - ETA: 2:59 - loss: 1208.7250 - root_mean_squared_error: 10.595 - ETA: 2:54 - loss: 1208.0346 - root_mean_squared_error: 10.596 - ETA: 2:50 - loss: 1207.3179 - root_mean_squared_error: 10.590 - ETA: 2:46 - loss: 1206.5932 - root_mean_squared_error: 10.596 - ETA: 2:42 - loss: 1205.8480 - root_mean_squared_error: 10.601 - ETA: 2:38 - loss: 1205.0805 - root_mean_squared_error: 10.604 - ETA: 2:35 - loss: 1204.2892 - root_mean_squared_error: 10.602 - ETA: 2:31 - loss: 1203.4838 - root_mean_squared_error: 10.606 - ETA: 2:28 - loss: 1202.6577 - root_mean_squared_error: 10.607 - ETA: 2:25 - loss: 1201.8060 - root_mean_squared_error: 10.603 - ETA: 2:22 - loss: 1200.9340 - root_mean_squared_error: 10.597 - ETA: 2:19 - loss: 1200.0441 - root_mean_squared_error: 10.592 - ETA: 2:17 - loss: 1199.1344 - root_mean_squared_error: 10.585 - ETA: 2:14 - loss: 1198.2186 - root_mean_squared_error: 10.592 - ETA: 2:12 - loss: 1197.2737 - root_mean_squared_error: 10.587 - ETA: 2:09 - loss: 1196.3174 - root_mean_squared_error: 10.589 - ETA: 2:07 - loss: 1195.3352 - root_mean_squared_error: 10.584 - ETA: 2:05 - loss: 1194.3351 - root_mean_squared_error: 10.579 - ETA: 2:03 - loss: 1193.3200 - root_mean_squared_error: 10.577 - ETA: 2:01 - loss: 1192.2840 - root_mean_squared_error: 10.572 - ETA: 1:59 - loss: 1191.2335 - root_mean_squared_error: 10.570 - ETA: 1:57 - loss: 1190.1668 - root_mean_squared_error: 10.570 - ETA: 1:55 - loss: 1189.0812 - root_mean_squared_error: 10.568 - ETA: 1:53 - loss: 1187.9823 - root_mean_squared_error: 10.569 - ETA: 1:52 - loss: 1186.8628 - root_mean_squared_error: 10.568 - ETA: 1:50 - loss: 1185.7240 - root_mean_squared_error: 10.564 - ETA: 1:48 - loss: 1184.5685 - root_mean_squared_error: 10.561 - ETA: 1:47 - loss: 1183.3964 - root_mean_squared_error: 10.557 - ETA: 1:45 - loss: 1182.2073 - root_mean_squared_error: 10.554 - ETA: 1:44 - loss: 1181.0030 - root_mean_squared_error: 10.552 - ETA: 1:42 - loss: 1179.7882 - root_mean_squared_error: 10.556 - ETA: 1:41 - loss: 1178.5545 - root_mean_squared_error: 10.558 - ETA: 1:40 - loss: 1177.2983 - root_mean_squared_error: 10.553 - ETA: 1:38 - loss: 1176.0274 - root_mean_squared_error: 10.549 - ETA: 1:37 - loss: 1174.7404 - root_mean_squared_error: 10.546 - ETA: 1:36 - loss: 1173.4430 - root_mean_squared_error: 10.547 - ETA: 1:34 - loss: 1172.1296 - root_mean_squared_error: 10.548 - ETA: 1:33 - loss: 1170.8028 - root_mean_squared_error: 10.552 - ETA: 1:32 - loss: 1169.4581 - root_mean_squared_error: 10.552 - ETA: 1:31 - loss: 1168.0990 - root_mean_squared_error: 10.554 - ETA: 1:30 - loss: 1166.7234 - root_mean_squared_error: 10.554 - ETA: 1:28 - loss: 1165.3383 - root_mean_squared_error: 10.559 - ETA: 1:27 - loss: 1163.9342 - root_mean_squared_error: 10.560 - ETA: 1:26 - loss: 1162.5110 - root_mean_squared_error: 10.557 - ETA: 1:25 - loss: 1161.0733 - root_mean_squared_error: 10.554 - ETA: 1:24 - loss: 1159.6223 - root_mean_squared_error: 10.552 - ETA: 1:23 - loss: 1158.1624 - root_mean_squared_error: 10.555 - ETA: 1:22 - loss: 1156.6846 - root_mean_squared_error: 10.555 - ETA: 1:21 - loss: 1155.1939 - root_mean_squared_error: 10.555 - ETA: 1:20 - loss: 1153.6886 - root_mean_squared_error: 10.555 - ETA: 1:19 - loss: 1152.1697 - root_mean_squared_error: 10.555 - ETA: 1:18 - loss: 1150.6358 - root_mean_squared_error: 10.553 - ETA: 1:17 - loss: 1149.0909 - root_mean_squared_error: 10.554 - ETA: 1:16 - loss: 1147.5305 - root_mean_squared_error: 10.553 - ETA: 1:15 - loss: 1145.9550 - root_mean_squared_error: 10.550 - ETA: 1:14 - loss: 1144.3714 - root_mean_squared_error: 10.552 - ETA: 1:14 - loss: 1142.7702 - root_mean_squared_error: 10.548 - ETA: 1:13 - loss: 1141.1564 - root_mean_squared_error: 10.545 - ETA: 1:12 - loss: 1139.5295 - root_mean_squared_error: 10.542 - ETA: 1:11 - loss: 1137.8958 - root_mean_squared_error: 10.544 - ETA: 1:10 - loss: 1136.2455 - root_mean_squared_error: 10.541 - ETA: 1:09 - loss: 1134.5842 - root_mean_squared_error: 10.539 - ETA: 1:08 - loss: 1132.9120 - root_mean_squared_error: 10.538 - ETA: 1:08 - loss: 1131.2280 - root_mean_squared_error: 10.537 - ETA: 1:07 - loss: 1129.5304 - root_mean_squared_error: 10.534 - ETA: 1:06 - loss: 1127.8261 - root_mean_squared_error: 10.535 - ETA: 1:05 - loss: 1126.1086 - root_mean_squared_error: 10.534 - ETA: 1:05 - loss: 1124.3813 - root_mean_squared_error: 10.534 - ETA: 1:04 - loss: 1122.6409 - root_mean_squared_error: 10.533 - ETA: 1:03 - loss: 1120.8920 - root_mean_squared_error: 10.533 - ETA: 1:02 - loss: 1119.1297 - root_mean_squared_error: 10.531 - ETA: 1:02 - loss: 1117.3576 - root_mean_squared_error: 10.530 - ETA: 1:01 - loss: 1115.5741 - root_mean_squared_error: 10.527 - ETA: 1:00 - loss: 1113.7794 - root_mean_squared_error: 10.524 - ETA: 1:00 - loss: 1111.9766 - root_mean_squared_error: 10.522 - ETA: 59s - loss: 1110.1658 - root_mean_squared_error: 10.523 - ETA: 58s - loss: 1108.3435 - root_mean_squared_error: 10.52 - ETA: 58s - loss: 1106.5137 - root_mean_squared_error: 10.52 - ETA: 57s - loss: 1104.6743 - root_mean_squared_error: 10.52 - ETA: 56s - loss: 1102.8218 - root_mean_squared_error: 10.52 - ETA: 56s - loss: 1100.9642 - root_mean_squared_error: 10.52 - ETA: 55s - loss: 1099.0940 - root_mean_squared_error: 10.51 - ETA: 54s - loss: 1097.2171 - root_mean_squared_error: 10.51 - ETA: 54s - loss: 1095.3306 - root_mean_squared_error: 10.51 - ETA: 53s - loss: 1093.4360 - root_mean_squared_error: 10.51 - ETA: 52s - loss: 1091.5331 - root_mean_squared_error: 10.51 - ETA: 52s - loss: 1089.6229 - root_mean_squared_error: 10.51 - ETA: 51s - loss: 1087.7020 - root_mean_squared_error: 10.51 - ETA: 51s - loss: 1085.7735 - root_mean_squared_error: 10.51 - ETA: 50s - loss: 1083.8377 - root_mean_squared_error: 10.51 - ETA: 49s - loss: 1081.8947 - root_mean_squared_error: 10.51 - ETA: 49s - loss: 1079.9444 - root_mean_squared_error: 10.51 - ETA: 48s - loss: 1077.9863 - root_mean_squared_error: 10.50 - ETA: 48s - loss: 1076.0197 - root_mean_squared_error: 10.50 - ETA: 47s - loss: 1074.0461 - root_mean_squared_error: 10.50 - ETA: 46s - loss: 1072.0654 - root_mean_squared_error: 10.50 - ETA: 46s - loss: 1070.0785 - root_mean_squared_error: 10.5059627/59627 [==============================] - ETA: 45s - loss: 1068.0870 - root_mean_squared_error: 10.50 - ETA: 45s - loss: 1066.0868 - root_mean_squared_error: 10.50 - ETA: 44s - loss: 1064.0811 - root_mean_squared_error: 10.50 - ETA: 44s - loss: 1062.0702 - root_mean_squared_error: 10.50 - ETA: 43s - loss: 1060.0492 - root_mean_squared_error: 10.49 - ETA: 43s - loss: 1058.0259 - root_mean_squared_error: 10.49 - ETA: 42s - loss: 1055.9931 - root_mean_squared_error: 10.49 - ETA: 41s - loss: 1053.9577 - root_mean_squared_error: 10.49 - ETA: 41s - loss: 1051.9155 - root_mean_squared_error: 10.49 - ETA: 40s - loss: 1049.8668 - root_mean_squared_error: 10.49 - ETA: 40s - loss: 1047.8158 - root_mean_squared_error: 10.49 - ETA: 39s - loss: 1045.7575 - root_mean_squared_error: 10.49 - ETA: 39s - loss: 1043.6932 - root_mean_squared_error: 10.49 - ETA: 38s - loss: 1041.6244 - root_mean_squared_error: 10.48 - ETA: 38s - loss: 1039.5520 - root_mean_squared_error: 10.48 - ETA: 37s - loss: 1037.4743 - root_mean_squared_error: 10.48 - ETA: 37s - loss: 1035.3924 - root_mean_squared_error: 10.48 - ETA: 36s - loss: 1033.3037 - root_mean_squared_error: 10.48 - ETA: 36s - loss: 1031.2146 - root_mean_squared_error: 10.48 - ETA: 35s - loss: 1029.1213 - root_mean_squared_error: 10.48 - ETA: 35s - loss: 1027.0231 - root_mean_squared_error: 10.48 - ETA: 34s - loss: 1024.9214 - root_mean_squared_error: 10.48 - ETA: 34s - loss: 1022.8147 - root_mean_squared_error: 10.48 - ETA: 33s - loss: 1020.7037 - root_mean_squared_error: 10.47 - ETA: 33s - loss: 1018.5911 - root_mean_squared_error: 10.47 - ETA: 32s - loss: 1016.4753 - root_mean_squared_error: 10.47 - ETA: 32s - loss: 1014.3542 - root_mean_squared_error: 10.47 - ETA: 31s - loss: 1012.2292 - root_mean_squared_error: 10.47 - ETA: 31s - loss: 1010.1028 - root_mean_squared_error: 10.47 - ETA: 30s - loss: 1007.9721 - root_mean_squared_error: 10.46 - ETA: 30s - loss: 1005.8393 - root_mean_squared_error: 10.46 - ETA: 30s - loss: 1003.7033 - root_mean_squared_error: 10.46 - ETA: 29s - loss: 1001.5676 - root_mean_squared_error: 10.46 - ETA: 29s - loss: 999.4278 - root_mean_squared_error: 10.4607 - ETA: 28s - loss: 997.2873 - root_mean_squared_error: 10.460 - ETA: 28s - loss: 995.1445 - root_mean_squared_error: 10.460 - ETA: 27s - loss: 992.9958 - root_mean_squared_error: 10.457 - ETA: 27s - loss: 990.8482 - root_mean_squared_error: 10.456 - ETA: 26s - loss: 988.6996 - root_mean_squared_error: 10.456 - ETA: 26s - loss: 986.5479 - root_mean_squared_error: 10.455 - ETA: 25s - loss: 984.3939 - root_mean_squared_error: 10.454 - ETA: 25s - loss: 982.2377 - root_mean_squared_error: 10.452 - ETA: 25s - loss: 980.0806 - root_mean_squared_error: 10.450 - ETA: 24s - loss: 977.9226 - root_mean_squared_error: 10.449 - ETA: 24s - loss: 975.7621 - root_mean_squared_error: 10.447 - ETA: 23s - loss: 973.6003 - root_mean_squared_error: 10.444 - ETA: 23s - loss: 971.4379 - root_mean_squared_error: 10.442 - ETA: 22s - loss: 969.2761 - root_mean_squared_error: 10.442 - ETA: 22s - loss: 967.1117 - root_mean_squared_error: 10.440 - ETA: 22s - loss: 964.9480 - root_mean_squared_error: 10.439 - ETA: 21s - loss: 962.7830 - root_mean_squared_error: 10.438 - ETA: 21s - loss: 960.6170 - root_mean_squared_error: 10.436 - ETA: 20s - loss: 958.4509 - root_mean_squared_error: 10.435 - ETA: 20s - loss: 956.2846 - root_mean_squared_error: 10.434 - ETA: 19s - loss: 954.1173 - root_mean_squared_error: 10.432 - ETA: 19s - loss: 951.9487 - root_mean_squared_error: 10.429 - ETA: 19s - loss: 949.7796 - root_mean_squared_error: 10.426 - ETA: 18s - loss: 947.6116 - root_mean_squared_error: 10.424 - ETA: 18s - loss: 945.4445 - root_mean_squared_error: 10.422 - ETA: 17s - loss: 943.2779 - root_mean_squared_error: 10.421 - ETA: 17s - loss: 941.1116 - root_mean_squared_error: 10.420 - ETA: 17s - loss: 938.9445 - root_mean_squared_error: 10.417 - ETA: 16s - loss: 936.7781 - root_mean_squared_error: 10.415 - ETA: 16s - loss: 934.6140 - root_mean_squared_error: 10.415 - ETA: 15s - loss: 932.4502 - root_mean_squared_error: 10.414 - ETA: 15s - loss: 930.2876 - root_mean_squared_error: 10.413 - ETA: 14s - loss: 928.1258 - root_mean_squared_error: 10.412 - ETA: 14s - loss: 925.9661 - root_mean_squared_error: 10.412 - ETA: 14s - loss: 923.8067 - root_mean_squared_error: 10.411 - ETA: 13s - loss: 921.6471 - root_mean_squared_error: 10.409 - ETA: 13s - loss: 919.4899 - root_mean_squared_error: 10.408 - ETA: 12s - loss: 917.3333 - root_mean_squared_error: 10.406 - ETA: 12s - loss: 915.1782 - root_mean_squared_error: 10.405 - ETA: 12s - loss: 913.0242 - root_mean_squared_error: 10.402 - ETA: 11s - loss: 910.8724 - root_mean_squared_error: 10.401 - ETA: 11s - loss: 908.7217 - root_mean_squared_error: 10.399 - ETA: 11s - loss: 906.5734 - root_mean_squared_error: 10.397 - ETA: 10s - loss: 904.4271 - root_mean_squared_error: 10.395 - ETA: 10s - loss: 902.2820 - root_mean_squared_error: 10.393 - ETA: 9s - loss: 900.1392 - root_mean_squared_error: 10.391 - ETA: 9s - loss: 897.9993 - root_mean_squared_error: 10.38 - ETA: 9s - loss: 895.8594 - root_mean_squared_error: 10.38 - ETA: 8s - loss: 893.7230 - root_mean_squared_error: 10.38 - ETA: 8s - loss: 891.5889 - root_mean_squared_error: 10.38 - ETA: 7s - loss: 889.4578 - root_mean_squared_error: 10.38 - ETA: 7s - loss: 887.3303 - root_mean_squared_error: 10.38 - ETA: 7s - loss: 885.2033 - root_mean_squared_error: 10.37 - ETA: 6s - loss: 883.0799 - root_mean_squared_error: 10.37 - ETA: 6s - loss: 880.9580 - root_mean_squared_error: 10.37 - ETA: 6s - loss: 878.8385 - root_mean_squared_error: 10.37 - ETA: 5s - loss: 876.7222 - root_mean_squared_error: 10.37 - ETA: 5s - loss: 874.6084 - root_mean_squared_error: 10.36 - ETA: 4s - loss: 872.4972 - root_mean_squared_error: 10.36 - ETA: 4s - loss: 870.3892 - root_mean_squared_error: 10.36 - ETA: 4s - loss: 868.2849 - root_mean_squared_error: 10.36 - ETA: 3s - loss: 866.1834 - root_mean_squared_error: 10.35 - ETA: 3s - loss: 864.0841 - root_mean_squared_error: 10.35 - ETA: 2s - loss: 861.9887 - root_mean_squared_error: 10.35 - ETA: 2s - loss: 859.8963 - root_mean_squared_error: 10.35 - ETA: 2s - loss: 857.8068 - root_mean_squared_error: 10.35 - ETA: 1s - loss: 855.7199 - root_mean_squared_error: 10.34 - ETA: 1s - loss: 853.6369 - root_mean_squared_error: 10.34 - ETA: 1s - loss: 851.5583 - root_mean_squared_error: 10.34 - ETA: 0s - loss: 849.4834 - root_mean_squared_error: 10.34 - ETA: 0s - loss: 847.4119 - root_mean_squared_error: 10.34 - 93s 2ms/sample - loss: 845.5135 - root_mean_squared_error: 10.3407 - val_loss: 361.9766 - val_root_mean_squared_error: 9.6733\n",
      "Epoch 2/150\n"
     ]
    },
    {
     "name": "stdout",
     "output_type": "stream",
     "text": [
      "34816/59627 [================>.............] - ETA: 1:08 - loss: 361.7304 - root_mean_squared_error: 9.426 - ETA: 1:06 - loss: 360.2641 - root_mean_squared_error: 9.586 - ETA: 1:05 - loss: 358.7258 - root_mean_squared_error: 9.664 - ETA: 1:05 - loss: 357.1220 - root_mean_squared_error: 9.667 - ETA: 1:04 - loss: 355.4930 - root_mean_squared_error: 9.636 - ETA: 1:04 - loss: 353.9303 - root_mean_squared_error: 9.663 - ETA: 1:04 - loss: 352.3195 - root_mean_squared_error: 9.634 - ETA: 1:03 - loss: 350.7565 - root_mean_squared_error: 9.645 - ETA: 1:03 - loss: 349.2093 - root_mean_squared_error: 9.665 - ETA: 1:03 - loss: 347.6542 - root_mean_squared_error: 9.669 - ETA: 1:03 - loss: 346.0960 - root_mean_squared_error: 9.663 - ETA: 1:02 - loss: 344.5702 - root_mean_squared_error: 9.682 - ETA: 1:02 - loss: 343.0308 - root_mean_squared_error: 9.680 - ETA: 1:02 - loss: 341.4933 - root_mean_squared_error: 9.673 - ETA: 1:01 - loss: 339.9609 - root_mean_squared_error: 9.663 - ETA: 1:01 - loss: 338.4523 - root_mean_squared_error: 9.671 - ETA: 1:00 - loss: 336.9360 - root_mean_squared_error: 9.663 - ETA: 59s - loss: 335.4388 - root_mean_squared_error: 9.668 - ETA: 59s - loss: 333.9474 - root_mean_squared_error: 9.67 - ETA: 59s - loss: 332.4741 - root_mean_squared_error: 9.68 - ETA: 59s - loss: 330.9856 - root_mean_squared_error: 9.67 - ETA: 58s - loss: 329.5047 - root_mean_squared_error: 9.67 - ETA: 58s - loss: 328.0333 - root_mean_squared_error: 9.66 - ETA: 58s - loss: 326.5603 - root_mean_squared_error: 9.65 - ETA: 58s - loss: 325.0958 - root_mean_squared_error: 9.63 - ETA: 58s - loss: 323.6468 - root_mean_squared_error: 9.63 - ETA: 57s - loss: 322.2177 - root_mean_squared_error: 9.64 - ETA: 57s - loss: 320.7832 - root_mean_squared_error: 9.63 - ETA: 57s - loss: 319.3591 - root_mean_squared_error: 9.63 - ETA: 57s - loss: 317.9400 - root_mean_squared_error: 9.62 - ETA: 57s - loss: 316.5280 - root_mean_squared_error: 9.61 - ETA: 57s - loss: 315.1252 - root_mean_squared_error: 9.61 - ETA: 57s - loss: 313.7363 - root_mean_squared_error: 9.61 - ETA: 56s - loss: 312.3538 - root_mean_squared_error: 9.61 - ETA: 56s - loss: 310.9715 - root_mean_squared_error: 9.60 - ETA: 56s - loss: 309.5919 - root_mean_squared_error: 9.58 - ETA: 56s - loss: 308.2314 - root_mean_squared_error: 9.58 - ETA: 55s - loss: 306.8767 - root_mean_squared_error: 9.57 - ETA: 55s - loss: 305.5364 - root_mean_squared_error: 9.57 - ETA: 55s - loss: 304.1984 - root_mean_squared_error: 9.57 - ETA: 55s - loss: 302.8642 - root_mean_squared_error: 9.56 - ETA: 54s - loss: 301.5453 - root_mean_squared_error: 9.56 - ETA: 54s - loss: 300.2286 - root_mean_squared_error: 9.55 - ETA: 54s - loss: 298.9231 - root_mean_squared_error: 9.54 - ETA: 53s - loss: 297.6242 - root_mean_squared_error: 9.54 - ETA: 53s - loss: 296.3312 - root_mean_squared_error: 9.53 - ETA: 53s - loss: 295.0426 - root_mean_squared_error: 9.52 - ETA: 52s - loss: 293.7670 - root_mean_squared_error: 9.52 - ETA: 52s - loss: 292.5006 - root_mean_squared_error: 9.52 - ETA: 52s - loss: 291.2392 - root_mean_squared_error: 9.51 - ETA: 51s - loss: 289.9846 - root_mean_squared_error: 9.50 - ETA: 51s - loss: 288.7330 - root_mean_squared_error: 9.49 - ETA: 51s - loss: 287.4909 - root_mean_squared_error: 9.49 - ETA: 50s - loss: 286.2558 - root_mean_squared_error: 9.48 - ETA: 50s - loss: 285.0261 - root_mean_squared_error: 9.47 - ETA: 50s - loss: 283.8075 - root_mean_squared_error: 9.46 - ETA: 49s - loss: 282.5919 - root_mean_squared_error: 9.45 - ETA: 49s - loss: 281.3859 - root_mean_squared_error: 9.44 - ETA: 49s - loss: 280.1879 - root_mean_squared_error: 9.44 - ETA: 49s - loss: 278.9978 - root_mean_squared_error: 9.43 - ETA: 48s - loss: 277.8100 - root_mean_squared_error: 9.42 - ETA: 48s - loss: 276.6298 - root_mean_squared_error: 9.41 - ETA: 48s - loss: 275.4596 - root_mean_squared_error: 9.41 - ETA: 47s - loss: 274.2963 - root_mean_squared_error: 9.40 - ETA: 47s - loss: 273.1391 - root_mean_squared_error: 9.39 - ETA: 47s - loss: 271.9836 - root_mean_squared_error: 9.38 - ETA: 47s - loss: 270.8380 - root_mean_squared_error: 9.37 - ETA: 46s - loss: 269.6976 - root_mean_squared_error: 9.36 - ETA: 46s - loss: 268.5634 - root_mean_squared_error: 9.35 - ETA: 46s - loss: 267.4368 - root_mean_squared_error: 9.34 - ETA: 46s - loss: 266.3210 - root_mean_squared_error: 9.33 - ETA: 45s - loss: 265.2059 - root_mean_squared_error: 9.32 - ETA: 45s - loss: 264.0971 - root_mean_squared_error: 9.31 - ETA: 45s - loss: 262.9978 - root_mean_squared_error: 9.30 - ETA: 45s - loss: 261.9048 - root_mean_squared_error: 9.30 - ETA: 44s - loss: 260.8157 - root_mean_squared_error: 9.29 - ETA: 44s - loss: 259.7277 - root_mean_squared_error: 9.27 - ETA: 44s - loss: 258.6523 - root_mean_squared_error: 9.26 - ETA: 44s - loss: 257.5841 - root_mean_squared_error: 9.26 - ETA: 43s - loss: 256.5187 - root_mean_squared_error: 9.24 - ETA: 43s - loss: 255.4582 - root_mean_squared_error: 9.23 - ETA: 43s - loss: 254.4056 - root_mean_squared_error: 9.22 - ETA: 42s - loss: 253.3560 - root_mean_squared_error: 9.21 - ETA: 42s - loss: 252.3140 - root_mean_squared_error: 9.20 - ETA: 42s - loss: 251.2769 - root_mean_squared_error: 9.19 - ETA: 42s - loss: 250.2484 - root_mean_squared_error: 9.18 - ETA: 41s - loss: 249.2238 - root_mean_squared_error: 9.17 - ETA: 41s - loss: 248.2023 - root_mean_squared_error: 9.15 - ETA: 41s - loss: 247.1881 - root_mean_squared_error: 9.14 - ETA: 40s - loss: 246.1794 - root_mean_squared_error: 9.13 - ETA: 40s - loss: 245.1770 - root_mean_squared_error: 9.12 - ETA: 40s - loss: 244.1816 - root_mean_squared_error: 9.11 - ETA: 39s - loss: 243.1875 - root_mean_squared_error: 9.10 - ETA: 39s - loss: 242.2020 - root_mean_squared_error: 9.09 - ETA: 39s - loss: 241.2226 - root_mean_squared_error: 9.08 - ETA: 39s - loss: 240.2472 - root_mean_squared_error: 9.07 - ETA: 38s - loss: 239.2744 - root_mean_squared_error: 9.05 - ETA: 38s - loss: 238.3063 - root_mean_squared_error: 9.04 - ETA: 38s - loss: 237.3431 - root_mean_squared_error: 9.03 - ETA: 37s - loss: 236.3886 - root_mean_squared_error: 9.02 - ETA: 37s - loss: 235.4385 - root_mean_squared_error: 9.01 - ETA: 37s - loss: 234.4902 - root_mean_squared_error: 8.99 - ETA: 36s - loss: 233.5485 - root_mean_squared_error: 8.98 - ETA: 36s - loss: 232.6094 - root_mean_squared_error: 8.97 - ETA: 36s - loss: 231.6765 - root_mean_squared_error: 8.95 - ETA: 36s - loss: 230.7485 - root_mean_squared_error: 8.94 - ETA: 35s - loss: 229.8256 - root_mean_squared_error: 8.93 - ETA: 35s - loss: 228.9074 - root_mean_squared_error: 8.92 - ETA: 35s - loss: 227.9909 - root_mean_squared_error: 8.90 - ETA: 34s - loss: 227.0821 - root_mean_squared_error: 8.89 - ETA: 34s - loss: 226.1789 - root_mean_squared_error: 8.88 - ETA: 34s - loss: 225.2790 - root_mean_squared_error: 8.86 - ETA: 33s - loss: 224.3813 - root_mean_squared_error: 8.85 - ETA: 33s - loss: 223.4901 - root_mean_squared_error: 8.83 - ETA: 33s - loss: 222.6077 - root_mean_squared_error: 8.82 - ETA: 33s - loss: 221.7275 - root_mean_squared_error: 8.81 - ETA: 32s - loss: 220.8495 - root_mean_squared_error: 8.79 - ETA: 32s - loss: 219.9785 - root_mean_squared_error: 8.78 - ETA: 32s - loss: 219.1137 - root_mean_squared_error: 8.77 - ETA: 31s - loss: 218.2491 - root_mean_squared_error: 8.75 - ETA: 31s - loss: 217.3919 - root_mean_squared_error: 8.74 - ETA: 31s - loss: 216.5374 - root_mean_squared_error: 8.72 - ETA: 31s - loss: 215.6880 - root_mean_squared_error: 8.71 - ETA: 30s - loss: 214.8424 - root_mean_squared_error: 8.69 - ETA: 30s - loss: 214.0023 - root_mean_squared_error: 8.68 - ETA: 30s - loss: 213.1700 - root_mean_squared_error: 8.67 - ETA: 30s - loss: 212.3397 - root_mean_squared_error: 8.65 - ETA: 29s - loss: 211.5137 - root_mean_squared_error: 8.64 - ETA: 29s - loss: 210.6920 - root_mean_squared_error: 8.63 - ETA: 29s - loss: 209.8744 - root_mean_squared_error: 8.61 - ETA: 28s - loss: 209.0588 - root_mean_squared_error: 8.59 - ETA: 28s - loss: 208.2501 - root_mean_squared_error: 8.58 - ETA: 28s - loss: 207.4457 - root_mean_squared_error: 8.56 - ETA: 28s - loss: 206.6475 - root_mean_squared_error: 8.55 - ETA: 27s - loss: 205.8519 - root_mean_squared_error: 8.54 - ETA: 27s - loss: 205.0613 - root_mean_squared_error: 8.5251"
     ]
    },
    {
     "name": "stdout",
     "output_type": "stream",
     "text": [
      "59627/59627 [==============================] - ETA: 27s - loss: 204.2768 - root_mean_squared_error: 8.51 - ETA: 26s - loss: 203.4970 - root_mean_squared_error: 8.49 - ETA: 26s - loss: 202.7210 - root_mean_squared_error: 8.48 - ETA: 26s - loss: 201.9482 - root_mean_squared_error: 8.46 - ETA: 26s - loss: 201.1812 - root_mean_squared_error: 8.45 - ETA: 25s - loss: 200.4180 - root_mean_squared_error: 8.43 - ETA: 25s - loss: 199.6604 - root_mean_squared_error: 8.42 - ETA: 25s - loss: 198.9069 - root_mean_squared_error: 8.40 - ETA: 24s - loss: 198.1534 - root_mean_squared_error: 8.39 - ETA: 24s - loss: 197.4072 - root_mean_squared_error: 8.37 - ETA: 24s - loss: 196.6632 - root_mean_squared_error: 8.35 - ETA: 24s - loss: 195.9257 - root_mean_squared_error: 8.34 - ETA: 23s - loss: 195.1924 - root_mean_squared_error: 8.32 - ETA: 23s - loss: 194.4609 - root_mean_squared_error: 8.31 - ETA: 23s - loss: 193.7353 - root_mean_squared_error: 8.29 - ETA: 22s - loss: 193.0149 - root_mean_squared_error: 8.28 - ETA: 22s - loss: 192.2966 - root_mean_squared_error: 8.26 - ETA: 22s - loss: 191.5817 - root_mean_squared_error: 8.24 - ETA: 22s - loss: 190.8704 - root_mean_squared_error: 8.23 - ETA: 21s - loss: 190.1640 - root_mean_squared_error: 8.21 - ETA: 21s - loss: 189.4626 - root_mean_squared_error: 8.19 - ETA: 21s - loss: 188.7664 - root_mean_squared_error: 8.18 - ETA: 20s - loss: 188.0704 - root_mean_squared_error: 8.16 - ETA: 20s - loss: 187.3789 - root_mean_squared_error: 8.15 - ETA: 20s - loss: 186.6911 - root_mean_squared_error: 8.13 - ETA: 20s - loss: 186.0068 - root_mean_squared_error: 8.11 - ETA: 19s - loss: 185.3275 - root_mean_squared_error: 8.10 - ETA: 19s - loss: 184.6516 - root_mean_squared_error: 8.08 - ETA: 19s - loss: 183.9818 - root_mean_squared_error: 8.07 - ETA: 18s - loss: 183.3138 - root_mean_squared_error: 8.05 - ETA: 18s - loss: 182.6489 - root_mean_squared_error: 8.04 - ETA: 18s - loss: 181.9895 - root_mean_squared_error: 8.02 - ETA: 18s - loss: 181.3328 - root_mean_squared_error: 8.00 - ETA: 17s - loss: 180.6796 - root_mean_squared_error: 7.99 - ETA: 17s - loss: 180.0318 - root_mean_squared_error: 7.98 - ETA: 17s - loss: 179.3852 - root_mean_squared_error: 7.96 - ETA: 16s - loss: 178.7416 - root_mean_squared_error: 7.94 - ETA: 16s - loss: 178.1038 - root_mean_squared_error: 7.93 - ETA: 16s - loss: 177.4685 - root_mean_squared_error: 7.91 - ETA: 16s - loss: 176.8373 - root_mean_squared_error: 7.90 - ETA: 15s - loss: 176.2084 - root_mean_squared_error: 7.88 - ETA: 15s - loss: 175.5838 - root_mean_squared_error: 7.87 - ETA: 15s - loss: 174.9623 - root_mean_squared_error: 7.85 - ETA: 14s - loss: 174.3446 - root_mean_squared_error: 7.84 - ETA: 14s - loss: 173.7304 - root_mean_squared_error: 7.83 - ETA: 14s - loss: 173.1161 - root_mean_squared_error: 7.81 - ETA: 14s - loss: 172.5066 - root_mean_squared_error: 7.80 - ETA: 13s - loss: 171.9000 - root_mean_squared_error: 7.78 - ETA: 13s - loss: 171.2959 - root_mean_squared_error: 7.76 - ETA: 13s - loss: 170.6963 - root_mean_squared_error: 7.75 - ETA: 12s - loss: 170.1014 - root_mean_squared_error: 7.73 - ETA: 12s - loss: 169.5081 - root_mean_squared_error: 7.72 - ETA: 12s - loss: 168.9201 - root_mean_squared_error: 7.71 - ETA: 12s - loss: 168.3334 - root_mean_squared_error: 7.69 - ETA: 11s - loss: 167.7500 - root_mean_squared_error: 7.68 - ETA: 11s - loss: 167.1708 - root_mean_squared_error: 7.66 - ETA: 11s - loss: 166.5943 - root_mean_squared_error: 7.65 - ETA: 10s - loss: 166.0221 - root_mean_squared_error: 7.63 - ETA: 10s - loss: 165.4542 - root_mean_squared_error: 7.62 - ETA: 10s - loss: 164.8894 - root_mean_squared_error: 7.60 - ETA: 10s - loss: 164.3260 - root_mean_squared_error: 7.59 - ETA: 9s - loss: 163.7673 - root_mean_squared_error: 7.5800 - ETA: 9s - loss: 163.2125 - root_mean_squared_error: 7.566 - ETA: 9s - loss: 162.6617 - root_mean_squared_error: 7.552 - ETA: 8s - loss: 162.1142 - root_mean_squared_error: 7.538 - ETA: 8s - loss: 161.5726 - root_mean_squared_error: 7.526 - ETA: 8s - loss: 161.0313 - root_mean_squared_error: 7.513 - ETA: 8s - loss: 160.4966 - root_mean_squared_error: 7.501 - ETA: 7s - loss: 159.9623 - root_mean_squared_error: 7.487 - ETA: 7s - loss: 159.4317 - root_mean_squared_error: 7.475 - ETA: 7s - loss: 158.9020 - root_mean_squared_error: 7.461 - ETA: 6s - loss: 158.3757 - root_mean_squared_error: 7.447 - ETA: 6s - loss: 157.8524 - root_mean_squared_error: 7.433 - ETA: 6s - loss: 157.3319 - root_mean_squared_error: 7.420 - ETA: 6s - loss: 156.8154 - root_mean_squared_error: 7.407 - ETA: 5s - loss: 156.3027 - root_mean_squared_error: 7.395 - ETA: 5s - loss: 155.7916 - root_mean_squared_error: 7.382 - ETA: 5s - loss: 155.2848 - root_mean_squared_error: 7.370 - ETA: 5s - loss: 154.7806 - root_mean_squared_error: 7.357 - ETA: 4s - loss: 154.2779 - root_mean_squared_error: 7.345 - ETA: 4s - loss: 153.7771 - root_mean_squared_error: 7.332 - ETA: 4s - loss: 153.2810 - root_mean_squared_error: 7.320 - ETA: 3s - loss: 152.7873 - root_mean_squared_error: 7.308 - ETA: 3s - loss: 152.2947 - root_mean_squared_error: 7.295 - ETA: 3s - loss: 151.8052 - root_mean_squared_error: 7.283 - ETA: 3s - loss: 151.3179 - root_mean_squared_error: 7.271 - ETA: 2s - loss: 150.8329 - root_mean_squared_error: 7.258 - ETA: 2s - loss: 150.3513 - root_mean_squared_error: 7.247 - ETA: 2s - loss: 149.8713 - root_mean_squared_error: 7.234 - ETA: 1s - loss: 149.3948 - root_mean_squared_error: 7.223 - ETA: 1s - loss: 148.9192 - root_mean_squared_error: 7.211 - ETA: 1s - loss: 148.4473 - root_mean_squared_error: 7.199 - ETA: 1s - loss: 147.9767 - root_mean_squared_error: 7.187 - ETA: 0s - loss: 147.5082 - root_mean_squared_error: 7.175 - ETA: 0s - loss: 147.0436 - root_mean_squared_error: 7.164 - ETA: 0s - loss: 146.5810 - root_mean_squared_error: 7.153 - 70s 1ms/sample - loss: 146.1571 - root_mean_squared_error: 7.1432 - val_loss: 37.8594 - val_root_mean_squared_error: 2.7692\n",
      "Epoch 3/150\n",
      "34816/59627 [================>.............] - ETA: 1:04 - loss: 38.5022 - root_mean_squared_error: 3.40 - ETA: 1:04 - loss: 38.4409 - root_mean_squared_error: 3.54 - ETA: 1:04 - loss: 38.3015 - root_mean_squared_error: 3.60 - ETA: 1:03 - loss: 38.1269 - root_mean_squared_error: 3.63 - ETA: 1:02 - loss: 37.9724 - root_mean_squared_error: 3.67 - ETA: 1:02 - loss: 37.7764 - root_mean_squared_error: 3.67 - ETA: 1:02 - loss: 37.5817 - root_mean_squared_error: 3.68 - ETA: 1:02 - loss: 37.3556 - root_mean_squared_error: 3.65 - ETA: 1:01 - loss: 37.1258 - root_mean_squared_error: 3.62 - ETA: 1:01 - loss: 36.9196 - root_mean_squared_error: 3.62 - ETA: 1:01 - loss: 36.7533 - root_mean_squared_error: 3.65 - ETA: 1:00 - loss: 36.5525 - root_mean_squared_error: 3.65 - ETA: 1:00 - loss: 36.3497 - root_mean_squared_error: 3.65 - ETA: 1:00 - loss: 36.1615 - root_mean_squared_error: 3.66 - ETA: 59s - loss: 35.9676 - root_mean_squared_error: 3.6645 - ETA: 59s - loss: 35.7521 - root_mean_squared_error: 3.645 - ETA: 59s - loss: 35.5532 - root_mean_squared_error: 3.640 - ETA: 59s - loss: 35.3789 - root_mean_squared_error: 3.660 - ETA: 58s - loss: 35.1845 - root_mean_squared_error: 3.657 - ETA: 58s - loss: 35.0006 - root_mean_squared_error: 3.663 - ETA: 58s - loss: 34.8216 - root_mean_squared_error: 3.672 - ETA: 57s - loss: 34.6319 - root_mean_squared_error: 3.668 - ETA: 57s - loss: 34.4542 - root_mean_squared_error: 3.674 - ETA: 57s - loss: 34.2656 - root_mean_squared_error: 3.667 - ETA: 57s - loss: 34.0839 - root_mean_squared_error: 3.665 - ETA: 56s - loss: 33.8988 - root_mean_squared_error: 3.658 - ETA: 56s - loss: 33.7160 - root_mean_squared_error: 3.650 - ETA: 56s - loss: 33.5396 - root_mean_squared_error: 3.647 - ETA: 56s - loss: 33.3679 - root_mean_squared_error: 3.646 - ETA: 55s - loss: 33.1827 - root_mean_squared_error: 3.631 - ETA: 55s - loss: 33.0112 - root_mean_squared_error: 3.627 - ETA: 55s - loss: 32.8406 - root_mean_squared_error: 3.621 - ETA: 54s - loss: 32.6791 - root_mean_squared_error: 3.622 - ETA: 54s - loss: 32.5195 - root_mean_squared_error: 3.623 - ETA: 54s - loss: 32.3628 - root_mean_squared_error: 3.625 - ETA: 54s - loss: 32.1974 - root_mean_squared_error: 3.616 - ETA: 54s - loss: 32.0382 - root_mean_squared_error: 3.611 - ETA: 54s - loss: 31.8830 - root_mean_squared_error: 3.609 - ETA: 53s - loss: 31.7288 - root_mean_squared_error: 3.605 - ETA: 53s - loss: 31.5874 - root_mean_squared_error: 3.613 - ETA: 53s - loss: 31.4409 - root_mean_squared_error: 3.614 - ETA: 53s - loss: 31.2994 - root_mean_squared_error: 3.619 - ETA: 52s - loss: 31.1585 - root_mean_squared_error: 3.623 - ETA: 52s - loss: 31.0097 - root_mean_squared_error: 3.618 - ETA: 52s - loss: 30.8676 - root_mean_squared_error: 3.618 - ETA: 51s - loss: 30.7200 - root_mean_squared_error: 3.612 - ETA: 51s - loss: 30.5770 - root_mean_squared_error: 3.610 - ETA: 51s - loss: 30.4358 - root_mean_squared_error: 3.609 - ETA: 50s - loss: 30.2880 - root_mean_squared_error: 3.601 - ETA: 50s - loss: 30.1438 - root_mean_squared_error: 3.595 - ETA: 50s - loss: 30.0123 - root_mean_squared_error: 3.602 - ETA: 50s - loss: 29.8737 - root_mean_squared_error: 3.600 - ETA: 49s - loss: 29.7386 - root_mean_squared_error: 3.601 - ETA: 49s - loss: 29.6099 - root_mean_squared_error: 3.609 - ETA: 49s - loss: 29.4745 - root_mean_squared_error: 3.608 - ETA: 48s - loss: 29.3386 - root_mean_squared_error: 3.606 - ETA: 48s - loss: 29.2031 - root_mean_squared_error: 3.604 - ETA: 48s - loss: 29.0685 - root_mean_squared_error: 3.601 - ETA: 48s - loss: 28.9351 - root_mean_squared_error: 3.599 - ETA: 47s - loss: 28.8019 - root_mean_squared_error: 3.595 - ETA: 47s - loss: 28.6710 - root_mean_squared_error: 3.593 - ETA: 47s - loss: 28.5454 - root_mean_squared_error: 3.595 - ETA: 46s - loss: 28.4181 - root_mean_squared_error: 3.594 - ETA: 46s - loss: 28.2943 - root_mean_squared_error: 3.595 - ETA: 46s - loss: 28.1646 - root_mean_squared_error: 3.589 - ETA: 46s - loss: 28.0407 - root_mean_squared_error: 3.587 - ETA: 45s - loss: 27.9124 - root_mean_squared_error: 3.579 - ETA: 45s - loss: 27.7946 - root_mean_squared_error: 3.579 - ETA: 45s - loss: 27.6796 - root_mean_squared_error: 3.580 - ETA: 44s - loss: 27.5621 - root_mean_squared_error: 3.576 - ETA: 44s - loss: 27.4452 - root_mean_squared_error: 3.571 - ETA: 44s - loss: 27.3332 - root_mean_squared_error: 3.569 - ETA: 44s - loss: 27.2228 - root_mean_squared_error: 3.567 - ETA: 43s - loss: 27.1172 - root_mean_squared_error: 3.568 - ETA: 43s - loss: 27.0087 - root_mean_squared_error: 3.564 - ETA: 43s - loss: 26.8986 - root_mean_squared_error: 3.558 - ETA: 42s - loss: 26.7998 - root_mean_squared_error: 3.560 - ETA: 42s - loss: 26.6999 - root_mean_squared_error: 3.559 - ETA: 42s - loss: 26.6004 - root_mean_squared_error: 3.557 - ETA: 42s - loss: 26.5055 - root_mean_squared_error: 3.559 - ETA: 41s - loss: 26.4101 - root_mean_squared_error: 3.558 - ETA: 41s - loss: 26.3140 - root_mean_squared_error: 3.554 - ETA: 41s - loss: 26.2242 - root_mean_squared_error: 3.556 - ETA: 41s - loss: 26.1328 - root_mean_squared_error: 3.554 - ETA: 40s - loss: 26.0449 - root_mean_squared_error: 3.555 - ETA: 40s - loss: 25.9561 - root_mean_squared_error: 3.553 - ETA: 40s - loss: 25.8686 - root_mean_squared_error: 3.552 - ETA: 40s - loss: 25.7832 - root_mean_squared_error: 3.552 - ETA: 39s - loss: 25.7004 - root_mean_squared_error: 3.554 - ETA: 39s - loss: 25.6143 - root_mean_squared_error: 3.551 - ETA: 39s - loss: 25.5336 - root_mean_squared_error: 3.553 - ETA: 38s - loss: 25.4543 - root_mean_squared_error: 3.556 - ETA: 38s - loss: 25.3745 - root_mean_squared_error: 3.557 - ETA: 38s - loss: 25.2929 - root_mean_squared_error: 3.556 - ETA: 38s - loss: 25.2132 - root_mean_squared_error: 3.556 - ETA: 37s - loss: 25.1309 - root_mean_squared_error: 3.553 - ETA: 37s - loss: 25.0549 - root_mean_squared_error: 3.555 - ETA: 37s - loss: 24.9768 - root_mean_squared_error: 3.555 - ETA: 36s - loss: 24.8996 - root_mean_squared_error: 3.555 - ETA: 36s - loss: 24.8241 - root_mean_squared_error: 3.556 - ETA: 36s - loss: 24.7450 - root_mean_squared_error: 3.553 - ETA: 36s - loss: 24.6703 - root_mean_squared_error: 3.554 - ETA: 35s - loss: 24.5934 - root_mean_squared_error: 3.552 - ETA: 35s - loss: 24.5167 - root_mean_squared_error: 3.550 - ETA: 35s - loss: 24.4424 - root_mean_squared_error: 3.549 - ETA: 35s - loss: 24.3727 - root_mean_squared_error: 3.554 - ETA: 34s - loss: 24.2998 - root_mean_squared_error: 3.554 - ETA: 34s - loss: 24.2228 - root_mean_squared_error: 3.550 - ETA: 34s - loss: 24.1488 - root_mean_squared_error: 3.548 - ETA: 34s - loss: 24.0759 - root_mean_squared_error: 3.547 - ETA: 33s - loss: 24.0036 - root_mean_squared_error: 3.546 - ETA: 33s - loss: 23.9310 - root_mean_squared_error: 3.545 - ETA: 33s - loss: 23.8588 - root_mean_squared_error: 3.544 - ETA: 33s - loss: 23.7869 - root_mean_squared_error: 3.543 - ETA: 32s - loss: 23.7126 - root_mean_squared_error: 3.539 - ETA: 32s - loss: 23.6423 - root_mean_squared_error: 3.539 - ETA: 32s - loss: 23.5712 - root_mean_squared_error: 3.539 - ETA: 32s - loss: 23.4992 - root_mean_squared_error: 3.537 - ETA: 31s - loss: 23.4293 - root_mean_squared_error: 3.537 - ETA: 31s - loss: 23.3584 - root_mean_squared_error: 3.536 - ETA: 31s - loss: 23.2874 - root_mean_squared_error: 3.535 - ETA: 31s - loss: 23.2167 - root_mean_squared_error: 3.534 - ETA: 30s - loss: 23.1484 - root_mean_squared_error: 3.535 - ETA: 30s - loss: 23.0778 - root_mean_squared_error: 3.534 - ETA: 30s - loss: 23.0058 - root_mean_squared_error: 3.531 - ETA: 30s - loss: 22.9347 - root_mean_squared_error: 3.529 - ETA: 29s - loss: 22.8660 - root_mean_squared_error: 3.529 - ETA: 29s - loss: 22.7987 - root_mean_squared_error: 3.530 - ETA: 29s - loss: 22.7292 - root_mean_squared_error: 3.529 - ETA: 28s - loss: 22.6595 - root_mean_squared_error: 3.527 - ETA: 28s - loss: 22.5894 - root_mean_squared_error: 3.524 - ETA: 28s - loss: 22.5221 - root_mean_squared_error: 3.524 - ETA: 28s - loss: 22.4555 - root_mean_squared_error: 3.525 - ETA: 27s - loss: 22.3873 - root_mean_squared_error: 3.523 - ETA: 27s - loss: 22.3222 - root_mean_squared_error: 3.524 - ETA: 27s - loss: 22.2572 - root_mean_squared_error: 3.525459627/59627 [==============================] - ETA: 27s - loss: 22.1911 - root_mean_squared_error: 3.524 - ETA: 26s - loss: 22.1245 - root_mean_squared_error: 3.523 - ETA: 26s - loss: 22.0597 - root_mean_squared_error: 3.523 - ETA: 26s - loss: 21.9926 - root_mean_squared_error: 3.521 - ETA: 25s - loss: 21.9281 - root_mean_squared_error: 3.520 - ETA: 25s - loss: 21.8638 - root_mean_squared_error: 3.519 - ETA: 25s - loss: 21.8009 - root_mean_squared_error: 3.519 - ETA: 25s - loss: 21.7382 - root_mean_squared_error: 3.519 - ETA: 24s - loss: 21.6747 - root_mean_squared_error: 3.517 - ETA: 24s - loss: 21.6108 - root_mean_squared_error: 3.515 - ETA: 24s - loss: 21.5497 - root_mean_squared_error: 3.515 - ETA: 23s - loss: 21.4911 - root_mean_squared_error: 3.516 - ETA: 23s - loss: 21.4314 - root_mean_squared_error: 3.516 - ETA: 23s - loss: 21.3714 - root_mean_squared_error: 3.515 - ETA: 23s - loss: 21.3125 - root_mean_squared_error: 3.515 - ETA: 22s - loss: 21.2540 - root_mean_squared_error: 3.514 - ETA: 22s - loss: 21.1934 - root_mean_squared_error: 3.510 - ETA: 22s - loss: 21.1355 - root_mean_squared_error: 3.508 - ETA: 22s - loss: 21.0798 - root_mean_squared_error: 3.508 - ETA: 21s - loss: 21.0231 - root_mean_squared_error: 3.506 - ETA: 21s - loss: 20.9671 - root_mean_squared_error: 3.504 - ETA: 21s - loss: 20.9103 - root_mean_squared_error: 3.501 - ETA: 20s - loss: 20.8571 - root_mean_squared_error: 3.500 - ETA: 20s - loss: 20.8044 - root_mean_squared_error: 3.499 - ETA: 20s - loss: 20.7533 - root_mean_squared_error: 3.500 - ETA: 20s - loss: 20.7036 - root_mean_squared_error: 3.500 - ETA: 19s - loss: 20.6512 - root_mean_squared_error: 3.498 - ETA: 19s - loss: 20.6000 - root_mean_squared_error: 3.496 - ETA: 19s - loss: 20.5529 - root_mean_squared_error: 3.498 - ETA: 18s - loss: 20.5066 - root_mean_squared_error: 3.500 - ETA: 18s - loss: 20.4557 - root_mean_squared_error: 3.497 - ETA: 18s - loss: 20.4060 - root_mean_squared_error: 3.495 - ETA: 18s - loss: 20.3583 - root_mean_squared_error: 3.495 - ETA: 17s - loss: 20.3093 - root_mean_squared_error: 3.493 - ETA: 17s - loss: 20.2623 - root_mean_squared_error: 3.492 - ETA: 17s - loss: 20.2145 - root_mean_squared_error: 3.490 - ETA: 16s - loss: 20.1666 - root_mean_squared_error: 3.488 - ETA: 16s - loss: 20.1226 - root_mean_squared_error: 3.490 - ETA: 16s - loss: 20.0767 - root_mean_squared_error: 3.490 - ETA: 16s - loss: 20.0313 - root_mean_squared_error: 3.489 - ETA: 15s - loss: 19.9857 - root_mean_squared_error: 3.489 - ETA: 15s - loss: 19.9389 - root_mean_squared_error: 3.487 - ETA: 15s - loss: 19.8926 - root_mean_squared_error: 3.486 - ETA: 14s - loss: 19.8465 - root_mean_squared_error: 3.485 - ETA: 14s - loss: 19.8030 - root_mean_squared_error: 3.486 - ETA: 14s - loss: 19.7570 - root_mean_squared_error: 3.485 - ETA: 14s - loss: 19.7108 - root_mean_squared_error: 3.483 - ETA: 13s - loss: 19.6638 - root_mean_squared_error: 3.482 - ETA: 13s - loss: 19.6174 - root_mean_squared_error: 3.480 - ETA: 13s - loss: 19.5715 - root_mean_squared_error: 3.479 - ETA: 12s - loss: 19.5252 - root_mean_squared_error: 3.478 - ETA: 12s - loss: 19.4804 - root_mean_squared_error: 3.478 - ETA: 12s - loss: 19.4327 - root_mean_squared_error: 3.475 - ETA: 12s - loss: 19.3847 - root_mean_squared_error: 3.473 - ETA: 11s - loss: 19.3380 - root_mean_squared_error: 3.472 - ETA: 11s - loss: 19.2909 - root_mean_squared_error: 3.470 - ETA: 11s - loss: 19.2434 - root_mean_squared_error: 3.468 - ETA: 11s - loss: 19.1951 - root_mean_squared_error: 3.465 - ETA: 10s - loss: 19.1470 - root_mean_squared_error: 3.463 - ETA: 10s - loss: 19.0990 - root_mean_squared_error: 3.460 - ETA: 10s - loss: 19.0512 - root_mean_squared_error: 3.458 - ETA: 9s - loss: 19.0032 - root_mean_squared_error: 3.456 - ETA: 9s - loss: 18.9557 - root_mean_squared_error: 3.45 - ETA: 9s - loss: 18.9066 - root_mean_squared_error: 3.45 - ETA: 9s - loss: 18.8595 - root_mean_squared_error: 3.44 - ETA: 8s - loss: 18.8120 - root_mean_squared_error: 3.44 - ETA: 8s - loss: 18.7654 - root_mean_squared_error: 3.44 - ETA: 8s - loss: 18.7167 - root_mean_squared_error: 3.44 - ETA: 7s - loss: 18.6693 - root_mean_squared_error: 3.44 - ETA: 7s - loss: 18.6225 - root_mean_squared_error: 3.44 - ETA: 7s - loss: 18.5752 - root_mean_squared_error: 3.43 - ETA: 7s - loss: 18.5294 - root_mean_squared_error: 3.43 - ETA: 6s - loss: 18.4834 - root_mean_squared_error: 3.43 - ETA: 6s - loss: 18.4363 - root_mean_squared_error: 3.43 - ETA: 6s - loss: 18.3909 - root_mean_squared_error: 3.43 - ETA: 5s - loss: 18.3439 - root_mean_squared_error: 3.42 - ETA: 5s - loss: 18.2980 - root_mean_squared_error: 3.42 - ETA: 5s - loss: 18.2543 - root_mean_squared_error: 3.42 - ETA: 5s - loss: 18.2093 - root_mean_squared_error: 3.42 - ETA: 4s - loss: 18.1647 - root_mean_squared_error: 3.42 - ETA: 4s - loss: 18.1200 - root_mean_squared_error: 3.42 - ETA: 4s - loss: 18.0773 - root_mean_squared_error: 3.41 - ETA: 3s - loss: 18.0339 - root_mean_squared_error: 3.41 - ETA: 3s - loss: 17.9914 - root_mean_squared_error: 3.41 - ETA: 3s - loss: 17.9495 - root_mean_squared_error: 3.41 - ETA: 3s - loss: 17.9071 - root_mean_squared_error: 3.41 - ETA: 2s - loss: 17.8654 - root_mean_squared_error: 3.40 - ETA: 2s - loss: 17.8251 - root_mean_squared_error: 3.40 - ETA: 2s - loss: 17.7846 - root_mean_squared_error: 3.40 - ETA: 1s - loss: 17.7438 - root_mean_squared_error: 3.40 - ETA: 1s - loss: 17.7044 - root_mean_squared_error: 3.40 - ETA: 1s - loss: 17.6641 - root_mean_squared_error: 3.40 - ETA: 1s - loss: 17.6238 - root_mean_squared_error: 3.39 - ETA: 0s - loss: 17.5845 - root_mean_squared_error: 3.39 - ETA: 0s - loss: 17.5451 - root_mean_squared_error: 3.39 - ETA: 0s - loss: 17.5058 - root_mean_squared_error: 3.39 - 70s 1ms/sample - loss: 17.4702 - root_mean_squared_error: 3.3899 - val_loss: 8.3843 - val_root_mean_squared_error: 2.8757\n",
      "Epoch 4/150\n"
     ]
    },
    {
     "name": "stdout",
     "output_type": "stream",
     "text": [
      "35840/59627 [=================>............] - ETA: 1:07 - loss: 8.6636 - root_mean_squared_error: 3.151 - ETA: 1:06 - loss: 8.4091 - root_mean_squared_error: 2.923 - ETA: 1:04 - loss: 8.4277 - root_mean_squared_error: 2.957 - ETA: 1:04 - loss: 8.3483 - root_mean_squared_error: 2.897 - ETA: 1:04 - loss: 8.3601 - root_mean_squared_error: 2.929 - ETA: 1:03 - loss: 8.3959 - root_mean_squared_error: 2.986 - ETA: 1:03 - loss: 8.3371 - root_mean_squared_error: 2.949 - ETA: 1:03 - loss: 8.2889 - root_mean_squared_error: 2.922 - ETA: 1:02 - loss: 8.2454 - root_mean_squared_error: 2.900 - ETA: 1:02 - loss: 8.2405 - root_mean_squared_error: 2.916 - ETA: 1:01 - loss: 8.2076 - root_mean_squared_error: 2.905 - ETA: 1:00 - loss: 8.1900 - root_mean_squared_error: 2.910 - ETA: 1:00 - loss: 8.1858 - root_mean_squared_error: 2.930 - ETA: 1:00 - loss: 8.1478 - root_mean_squared_error: 2.916 - ETA: 1:00 - loss: 8.1394 - root_mean_squared_error: 2.932 - ETA: 59s - loss: 8.1240 - root_mean_squared_error: 2.941 - ETA: 59s - loss: 8.1150 - root_mean_squared_error: 2.95 - ETA: 59s - loss: 8.0919 - root_mean_squared_error: 2.95 - ETA: 59s - loss: 8.0779 - root_mean_squared_error: 2.95 - ETA: 58s - loss: 8.0650 - root_mean_squared_error: 2.95 - ETA: 58s - loss: 8.0506 - root_mean_squared_error: 2.95 - ETA: 58s - loss: 8.0359 - root_mean_squared_error: 2.94 - ETA: 57s - loss: 8.0364 - root_mean_squared_error: 2.95 - ETA: 57s - loss: 8.0250 - root_mean_squared_error: 2.95 - ETA: 57s - loss: 8.0266 - root_mean_squared_error: 2.95 - ETA: 56s - loss: 8.0243 - root_mean_squared_error: 2.95 - ETA: 56s - loss: 8.0177 - root_mean_squared_error: 2.95 - ETA: 56s - loss: 8.0150 - root_mean_squared_error: 2.94 - ETA: 56s - loss: 8.0179 - root_mean_squared_error: 2.94 - ETA: 55s - loss: 8.0211 - root_mean_squared_error: 2.94 - ETA: 55s - loss: 8.0239 - root_mean_squared_error: 2.94 - ETA: 55s - loss: 8.0214 - root_mean_squared_error: 2.93 - ETA: 55s - loss: 8.0267 - root_mean_squared_error: 2.94 - ETA: 54s - loss: 8.0214 - root_mean_squared_error: 2.93 - ETA: 54s - loss: 8.0229 - root_mean_squared_error: 2.92 - ETA: 54s - loss: 8.0322 - root_mean_squared_error: 2.93 - ETA: 54s - loss: 8.0412 - root_mean_squared_error: 2.94 - ETA: 54s - loss: 8.0463 - root_mean_squared_error: 2.94 - ETA: 53s - loss: 8.0550 - root_mean_squared_error: 2.94 - ETA: 53s - loss: 8.0524 - root_mean_squared_error: 2.94 - ETA: 53s - loss: 8.0524 - root_mean_squared_error: 2.94 - ETA: 53s - loss: 8.0523 - root_mean_squared_error: 2.93 - ETA: 52s - loss: 8.0553 - root_mean_squared_error: 2.93 - ETA: 52s - loss: 8.0574 - root_mean_squared_error: 2.93 - ETA: 52s - loss: 8.0550 - root_mean_squared_error: 2.93 - ETA: 51s - loss: 8.0670 - root_mean_squared_error: 2.94 - ETA: 51s - loss: 8.0670 - root_mean_squared_error: 2.94 - ETA: 51s - loss: 8.0696 - root_mean_squared_error: 2.94 - ETA: 50s - loss: 8.0725 - root_mean_squared_error: 2.94 - ETA: 50s - loss: 8.0769 - root_mean_squared_error: 2.94 - ETA: 50s - loss: 8.0771 - root_mean_squared_error: 2.94 - ETA: 50s - loss: 8.0801 - root_mean_squared_error: 2.94 - ETA: 49s - loss: 8.0832 - root_mean_squared_error: 2.94 - ETA: 49s - loss: 8.0863 - root_mean_squared_error: 2.94 - ETA: 49s - loss: 8.0792 - root_mean_squared_error: 2.94 - ETA: 48s - loss: 8.0809 - root_mean_squared_error: 2.94 - ETA: 48s - loss: 8.0809 - root_mean_squared_error: 2.94 - ETA: 48s - loss: 8.0799 - root_mean_squared_error: 2.94 - ETA: 47s - loss: 8.0777 - root_mean_squared_error: 2.93 - ETA: 47s - loss: 8.0754 - root_mean_squared_error: 2.93 - ETA: 47s - loss: 8.0746 - root_mean_squared_error: 2.93 - ETA: 47s - loss: 8.0691 - root_mean_squared_error: 2.93 - ETA: 46s - loss: 8.0654 - root_mean_squared_error: 2.93 - ETA: 46s - loss: 8.0597 - root_mean_squared_error: 2.93 - ETA: 46s - loss: 8.0549 - root_mean_squared_error: 2.93 - ETA: 46s - loss: 8.0520 - root_mean_squared_error: 2.93 - ETA: 45s - loss: 8.0479 - root_mean_squared_error: 2.93 - ETA: 45s - loss: 8.0406 - root_mean_squared_error: 2.93 - ETA: 45s - loss: 8.0305 - root_mean_squared_error: 2.93 - ETA: 44s - loss: 8.0229 - root_mean_squared_error: 2.93 - ETA: 44s - loss: 8.0123 - root_mean_squared_error: 2.93 - ETA: 44s - loss: 8.0038 - root_mean_squared_error: 2.93 - ETA: 44s - loss: 7.9901 - root_mean_squared_error: 2.92 - ETA: 43s - loss: 7.9828 - root_mean_squared_error: 2.92 - ETA: 43s - loss: 7.9720 - root_mean_squared_error: 2.92 - ETA: 43s - loss: 7.9591 - root_mean_squared_error: 2.92 - ETA: 42s - loss: 7.9468 - root_mean_squared_error: 2.92 - ETA: 42s - loss: 7.9347 - root_mean_squared_error: 2.92 - ETA: 42s - loss: 7.9245 - root_mean_squared_error: 2.92 - ETA: 42s - loss: 7.9119 - root_mean_squared_error: 2.92 - ETA: 41s - loss: 7.8988 - root_mean_squared_error: 2.92 - ETA: 41s - loss: 7.8839 - root_mean_squared_error: 2.91 - ETA: 41s - loss: 7.8737 - root_mean_squared_error: 2.92 - ETA: 40s - loss: 7.8596 - root_mean_squared_error: 2.91 - ETA: 40s - loss: 7.8473 - root_mean_squared_error: 2.91 - ETA: 40s - loss: 7.8354 - root_mean_squared_error: 2.92 - ETA: 40s - loss: 7.8237 - root_mean_squared_error: 2.92 - ETA: 39s - loss: 7.8106 - root_mean_squared_error: 2.92 - ETA: 39s - loss: 7.7991 - root_mean_squared_error: 2.92 - ETA: 39s - loss: 7.7842 - root_mean_squared_error: 2.92 - ETA: 38s - loss: 7.7702 - root_mean_squared_error: 2.91 - ETA: 38s - loss: 7.7593 - root_mean_squared_error: 2.92 - ETA: 38s - loss: 7.7429 - root_mean_squared_error: 2.91 - ETA: 38s - loss: 7.7296 - root_mean_squared_error: 2.91 - ETA: 37s - loss: 7.7208 - root_mean_squared_error: 2.91 - ETA: 37s - loss: 7.7116 - root_mean_squared_error: 2.91 - ETA: 37s - loss: 7.7079 - root_mean_squared_error: 2.91 - ETA: 37s - loss: 7.7006 - root_mean_squared_error: 2.91 - ETA: 36s - loss: 7.6959 - root_mean_squared_error: 2.91 - ETA: 36s - loss: 7.6944 - root_mean_squared_error: 2.91 - ETA: 36s - loss: 7.6936 - root_mean_squared_error: 2.91 - ETA: 35s - loss: 7.6942 - root_mean_squared_error: 2.91 - ETA: 35s - loss: 7.6943 - root_mean_squared_error: 2.91 - ETA: 35s - loss: 7.6957 - root_mean_squared_error: 2.90 - ETA: 35s - loss: 7.6970 - root_mean_squared_error: 2.90 - ETA: 34s - loss: 7.7017 - root_mean_squared_error: 2.90 - ETA: 34s - loss: 7.7057 - root_mean_squared_error: 2.90 - ETA: 34s - loss: 7.7116 - root_mean_squared_error: 2.90 - ETA: 33s - loss: 7.7162 - root_mean_squared_error: 2.90 - ETA: 33s - loss: 7.7252 - root_mean_squared_error: 2.91 - ETA: 33s - loss: 7.7277 - root_mean_squared_error: 2.90 - ETA: 33s - loss: 7.7325 - root_mean_squared_error: 2.90 - ETA: 32s - loss: 7.7358 - root_mean_squared_error: 2.90 - ETA: 32s - loss: 7.7407 - root_mean_squared_error: 2.90 - ETA: 32s - loss: 7.7439 - root_mean_squared_error: 2.90 - ETA: 32s - loss: 7.7485 - root_mean_squared_error: 2.90 - ETA: 31s - loss: 7.7506 - root_mean_squared_error: 2.90 - ETA: 31s - loss: 7.7531 - root_mean_squared_error: 2.90 - ETA: 31s - loss: 7.7544 - root_mean_squared_error: 2.90 - ETA: 30s - loss: 7.7553 - root_mean_squared_error: 2.90 - ETA: 30s - loss: 7.7555 - root_mean_squared_error: 2.90 - ETA: 30s - loss: 7.7546 - root_mean_squared_error: 2.90 - ETA: 30s - loss: 7.7538 - root_mean_squared_error: 2.90 - ETA: 29s - loss: 7.7522 - root_mean_squared_error: 2.90 - ETA: 29s - loss: 7.7509 - root_mean_squared_error: 2.90 - ETA: 29s - loss: 7.7516 - root_mean_squared_error: 2.90 - ETA: 29s - loss: 7.7495 - root_mean_squared_error: 2.90 - ETA: 28s - loss: 7.7488 - root_mean_squared_error: 2.90 - ETA: 28s - loss: 7.7462 - root_mean_squared_error: 2.89 - ETA: 28s - loss: 7.7449 - root_mean_squared_error: 2.89 - ETA: 27s - loss: 7.7423 - root_mean_squared_error: 2.89 - ETA: 27s - loss: 7.7395 - root_mean_squared_error: 2.89 - ETA: 27s - loss: 7.7347 - root_mean_squared_error: 2.89 - ETA: 27s - loss: 7.7320 - root_mean_squared_error: 2.89 - ETA: 26s - loss: 7.7292 - root_mean_squared_error: 2.89 - ETA: 26s - loss: 7.7279 - root_mean_squared_error: 2.89 - ETA: 26s - loss: 7.7254 - root_mean_squared_error: 2.89 - ETA: 25s - loss: 7.7239 - root_mean_squared_error: 2.89 - ETA: 25s - loss: 7.7213 - root_mean_squared_error: 2.89 - ETA: 25s - loss: 7.7189 - root_mean_squared_error: 2.8916"
     ]
    },
    {
     "name": "stdout",
     "output_type": "stream",
     "text": [
      "59627/59627 [==============================] - ETA: 25s - loss: 7.7177 - root_mean_squared_error: 2.89 - ETA: 24s - loss: 7.7180 - root_mean_squared_error: 2.89 - ETA: 24s - loss: 7.7161 - root_mean_squared_error: 2.89 - ETA: 24s - loss: 7.7161 - root_mean_squared_error: 2.89 - ETA: 24s - loss: 7.7146 - root_mean_squared_error: 2.89 - ETA: 23s - loss: 7.7116 - root_mean_squared_error: 2.88 - ETA: 23s - loss: 7.7091 - root_mean_squared_error: 2.88 - ETA: 23s - loss: 7.7091 - root_mean_squared_error: 2.88 - ETA: 22s - loss: 7.7091 - root_mean_squared_error: 2.88 - ETA: 22s - loss: 7.7101 - root_mean_squared_error: 2.88 - ETA: 22s - loss: 7.7077 - root_mean_squared_error: 2.88 - ETA: 22s - loss: 7.7077 - root_mean_squared_error: 2.88 - ETA: 21s - loss: 7.7058 - root_mean_squared_error: 2.88 - ETA: 21s - loss: 7.7035 - root_mean_squared_error: 2.88 - ETA: 21s - loss: 7.7025 - root_mean_squared_error: 2.88 - ETA: 21s - loss: 7.7007 - root_mean_squared_error: 2.88 - ETA: 20s - loss: 7.6989 - root_mean_squared_error: 2.88 - ETA: 20s - loss: 7.6966 - root_mean_squared_error: 2.88 - ETA: 20s - loss: 7.6953 - root_mean_squared_error: 2.88 - ETA: 19s - loss: 7.6933 - root_mean_squared_error: 2.88 - ETA: 19s - loss: 7.6925 - root_mean_squared_error: 2.88 - ETA: 19s - loss: 7.6908 - root_mean_squared_error: 2.87 - ETA: 19s - loss: 7.6892 - root_mean_squared_error: 2.87 - ETA: 18s - loss: 7.6869 - root_mean_squared_error: 2.87 - ETA: 18s - loss: 7.6841 - root_mean_squared_error: 2.87 - ETA: 18s - loss: 7.6825 - root_mean_squared_error: 2.87 - ETA: 18s - loss: 7.6808 - root_mean_squared_error: 2.87 - ETA: 17s - loss: 7.6790 - root_mean_squared_error: 2.87 - ETA: 17s - loss: 7.6756 - root_mean_squared_error: 2.87 - ETA: 17s - loss: 7.6722 - root_mean_squared_error: 2.87 - ETA: 16s - loss: 7.6690 - root_mean_squared_error: 2.87 - ETA: 16s - loss: 7.6646 - root_mean_squared_error: 2.87 - ETA: 16s - loss: 7.6615 - root_mean_squared_error: 2.87 - ETA: 16s - loss: 7.6579 - root_mean_squared_error: 2.87 - ETA: 15s - loss: 7.6529 - root_mean_squared_error: 2.87 - ETA: 15s - loss: 7.6478 - root_mean_squared_error: 2.86 - ETA: 15s - loss: 7.6426 - root_mean_squared_error: 2.86 - ETA: 15s - loss: 7.6376 - root_mean_squared_error: 2.86 - ETA: 14s - loss: 7.6338 - root_mean_squared_error: 2.86 - ETA: 14s - loss: 7.6294 - root_mean_squared_error: 2.86 - ETA: 14s - loss: 7.6247 - root_mean_squared_error: 2.86 - ETA: 13s - loss: 7.6180 - root_mean_squared_error: 2.86 - ETA: 13s - loss: 7.6123 - root_mean_squared_error: 2.86 - ETA: 13s - loss: 7.6060 - root_mean_squared_error: 2.86 - ETA: 13s - loss: 7.5993 - root_mean_squared_error: 2.86 - ETA: 12s - loss: 7.5916 - root_mean_squared_error: 2.86 - ETA: 12s - loss: 7.5852 - root_mean_squared_error: 2.86 - ETA: 12s - loss: 7.5800 - root_mean_squared_error: 2.86 - ETA: 11s - loss: 7.5738 - root_mean_squared_error: 2.86 - ETA: 11s - loss: 7.5683 - root_mean_squared_error: 2.86 - ETA: 11s - loss: 7.5621 - root_mean_squared_error: 2.86 - ETA: 11s - loss: 7.5559 - root_mean_squared_error: 2.86 - ETA: 10s - loss: 7.5498 - root_mean_squared_error: 2.86 - ETA: 10s - loss: 7.5443 - root_mean_squared_error: 2.86 - ETA: 10s - loss: 7.5407 - root_mean_squared_error: 2.86 - ETA: 10s - loss: 7.5345 - root_mean_squared_error: 2.86 - ETA: 9s - loss: 7.5283 - root_mean_squared_error: 2.8642 - ETA: 9s - loss: 7.5224 - root_mean_squared_error: 2.863 - ETA: 9s - loss: 7.5171 - root_mean_squared_error: 2.863 - ETA: 8s - loss: 7.5126 - root_mean_squared_error: 2.863 - ETA: 8s - loss: 7.5078 - root_mean_squared_error: 2.864 - ETA: 8s - loss: 7.5038 - root_mean_squared_error: 2.865 - ETA: 8s - loss: 7.4991 - root_mean_squared_error: 2.865 - ETA: 7s - loss: 7.4956 - root_mean_squared_error: 2.867 - ETA: 7s - loss: 7.4899 - root_mean_squared_error: 2.866 - ETA: 7s - loss: 7.4852 - root_mean_squared_error: 2.866 - ETA: 7s - loss: 7.4792 - root_mean_squared_error: 2.866 - ETA: 6s - loss: 7.4741 - root_mean_squared_error: 2.865 - ETA: 6s - loss: 7.4695 - root_mean_squared_error: 2.866 - ETA: 6s - loss: 7.4650 - root_mean_squared_error: 2.866 - ETA: 5s - loss: 7.4591 - root_mean_squared_error: 2.865 - ETA: 5s - loss: 7.4530 - root_mean_squared_error: 2.864 - ETA: 5s - loss: 7.4491 - root_mean_squared_error: 2.864 - ETA: 5s - loss: 7.4446 - root_mean_squared_error: 2.864 - ETA: 4s - loss: 7.4400 - root_mean_squared_error: 2.863 - ETA: 4s - loss: 7.4369 - root_mean_squared_error: 2.864 - ETA: 4s - loss: 7.4335 - root_mean_squared_error: 2.865 - ETA: 4s - loss: 7.4298 - root_mean_squared_error: 2.865 - ETA: 3s - loss: 7.4257 - root_mean_squared_error: 2.864 - ETA: 3s - loss: 7.4209 - root_mean_squared_error: 2.863 - ETA: 3s - loss: 7.4174 - root_mean_squared_error: 2.862 - ETA: 2s - loss: 7.4130 - root_mean_squared_error: 2.861 - ETA: 2s - loss: 7.4086 - root_mean_squared_error: 2.860 - ETA: 2s - loss: 7.4065 - root_mean_squared_error: 2.862 - ETA: 2s - loss: 7.4022 - root_mean_squared_error: 2.861 - ETA: 1s - loss: 7.3966 - root_mean_squared_error: 2.859 - ETA: 1s - loss: 7.3933 - root_mean_squared_error: 2.859 - ETA: 1s - loss: 7.3888 - root_mean_squared_error: 2.859 - ETA: 1s - loss: 7.3855 - root_mean_squared_error: 2.859 - ETA: 0s - loss: 7.3794 - root_mean_squared_error: 2.857 - ETA: 0s - loss: 7.3740 - root_mean_squared_error: 2.856 - ETA: 0s - loss: 7.3702 - root_mean_squared_error: 2.856 - 68s 1ms/sample - loss: 7.3657 - root_mean_squared_error: 2.8557 - val_loss: 6.0832 - val_root_mean_squared_error: 2.5070\n",
      "Epoch 5/150\n",
      "35840/59627 [=================>............] - ETA: 1:09 - loss: 6.2974 - root_mean_squared_error: 2.717 - ETA: 1:05 - loss: 6.2330 - root_mean_squared_error: 2.659 - ETA: 1:05 - loss: 6.1699 - root_mean_squared_error: 2.604 - ETA: 1:04 - loss: 6.1450 - root_mean_squared_error: 2.587 - ETA: 1:03 - loss: 6.1151 - root_mean_squared_error: 2.567 - ETA: 1:05 - loss: 6.0786 - root_mean_squared_error: 2.543 - ETA: 1:05 - loss: 6.1100 - root_mean_squared_error: 2.590 - ETA: 1:05 - loss: 6.1274 - root_mean_squared_error: 2.625 - ETA: 1:04 - loss: 6.1252 - root_mean_squared_error: 2.639 - ETA: 1:04 - loss: 6.0970 - root_mean_squared_error: 2.628 - ETA: 1:03 - loss: 6.0856 - root_mean_squared_error: 2.633 - ETA: 1:02 - loss: 6.0965 - root_mean_squared_error: 2.661 - ETA: 1:01 - loss: 6.0840 - root_mean_squared_error: 2.662 - ETA: 1:01 - loss: 6.0848 - root_mean_squared_error: 2.677 - ETA: 1:01 - loss: 6.0765 - root_mean_squared_error: 2.681 - ETA: 1:00 - loss: 6.0623 - root_mean_squared_error: 2.678 - ETA: 1:00 - loss: 6.0616 - root_mean_squared_error: 2.688 - ETA: 59s - loss: 6.0549 - root_mean_squared_error: 2.689 - ETA: 59s - loss: 6.0501 - root_mean_squared_error: 2.69 - ETA: 59s - loss: 6.0442 - root_mean_squared_error: 2.69 - ETA: 59s - loss: 6.0434 - root_mean_squared_error: 2.69 - ETA: 58s - loss: 6.0509 - root_mean_squared_error: 2.70 - ETA: 58s - loss: 6.0716 - root_mean_squared_error: 2.72 - ETA: 58s - loss: 6.0815 - root_mean_squared_error: 2.72 - ETA: 57s - loss: 6.0893 - root_mean_squared_error: 2.73 - ETA: 57s - loss: 6.1010 - root_mean_squared_error: 2.73 - ETA: 57s - loss: 6.1147 - root_mean_squared_error: 2.74 - ETA: 56s - loss: 6.1223 - root_mean_squared_error: 2.74 - ETA: 56s - loss: 6.1284 - root_mean_squared_error: 2.74 - ETA: 56s - loss: 6.1448 - root_mean_squared_error: 2.75 - ETA: 55s - loss: 6.1503 - root_mean_squared_error: 2.74 - ETA: 55s - loss: 6.1659 - root_mean_squared_error: 2.75 - ETA: 55s - loss: 6.1794 - root_mean_squared_error: 2.75 - ETA: 54s - loss: 6.1951 - root_mean_squared_error: 2.75 - ETA: 54s - loss: 6.2020 - root_mean_squared_error: 2.75 - ETA: 54s - loss: 6.2117 - root_mean_squared_error: 2.75 - ETA: 53s - loss: 6.2288 - root_mean_squared_error: 2.75 - ETA: 53s - loss: 6.2388 - root_mean_squared_error: 2.75 - ETA: 53s - loss: 6.2522 - root_mean_squared_error: 2.75 - ETA: 53s - loss: 6.2666 - root_mean_squared_error: 2.75 - ETA: 52s - loss: 6.2681 - root_mean_squared_error: 2.75 - ETA: 52s - loss: 6.2784 - root_mean_squared_error: 2.75 - ETA: 52s - loss: 6.2878 - root_mean_squared_error: 2.75 - ETA: 52s - loss: 6.2929 - root_mean_squared_error: 2.74 - ETA: 51s - loss: 6.2974 - root_mean_squared_error: 2.74 - ETA: 51s - loss: 6.3015 - root_mean_squared_error: 2.73 - ETA: 51s - loss: 6.3037 - root_mean_squared_error: 2.73 - ETA: 51s - loss: 6.3096 - root_mean_squared_error: 2.73 - ETA: 51s - loss: 6.3132 - root_mean_squared_error: 2.73 - ETA: 51s - loss: 6.3240 - root_mean_squared_error: 2.74 - ETA: 50s - loss: 6.3258 - root_mean_squared_error: 2.73 - ETA: 50s - loss: 6.3261 - root_mean_squared_error: 2.73 - ETA: 50s - loss: 6.3317 - root_mean_squared_error: 2.74 - ETA: 49s - loss: 6.3301 - root_mean_squared_error: 2.74 - ETA: 49s - loss: 6.3286 - root_mean_squared_error: 2.73 - ETA: 49s - loss: 6.3310 - root_mean_squared_error: 2.74 - ETA: 48s - loss: 6.3315 - root_mean_squared_error: 2.73 - ETA: 48s - loss: 6.3325 - root_mean_squared_error: 2.73 - ETA: 48s - loss: 6.3390 - root_mean_squared_error: 2.73 - ETA: 48s - loss: 6.3447 - root_mean_squared_error: 2.73 - ETA: 47s - loss: 6.3503 - root_mean_squared_error: 2.73 - ETA: 47s - loss: 6.3609 - root_mean_squared_error: 2.73 - ETA: 47s - loss: 6.3738 - root_mean_squared_error: 2.74 - ETA: 46s - loss: 6.3816 - root_mean_squared_error: 2.74 - ETA: 46s - loss: 6.3932 - root_mean_squared_error: 2.74 - ETA: 46s - loss: 6.3999 - root_mean_squared_error: 2.73 - ETA: 46s - loss: 6.4151 - root_mean_squared_error: 2.74 - ETA: 45s - loss: 6.4218 - root_mean_squared_error: 2.73 - ETA: 45s - loss: 6.4305 - root_mean_squared_error: 2.73 - ETA: 45s - loss: 6.4385 - root_mean_squared_error: 2.73 - ETA: 44s - loss: 6.4491 - root_mean_squared_error: 2.73 - ETA: 44s - loss: 6.4592 - root_mean_squared_error: 2.73 - ETA: 44s - loss: 6.4641 - root_mean_squared_error: 2.73 - ETA: 44s - loss: 6.4699 - root_mean_squared_error: 2.73 - ETA: 43s - loss: 6.4749 - root_mean_squared_error: 2.73 - ETA: 43s - loss: 6.4799 - root_mean_squared_error: 2.73 - ETA: 43s - loss: 6.4793 - root_mean_squared_error: 2.73 - ETA: 42s - loss: 6.4811 - root_mean_squared_error: 2.73 - ETA: 42s - loss: 6.4799 - root_mean_squared_error: 2.72 - ETA: 42s - loss: 6.4830 - root_mean_squared_error: 2.72 - ETA: 41s - loss: 6.4814 - root_mean_squared_error: 2.72 - ETA: 41s - loss: 6.4819 - root_mean_squared_error: 2.72 - ETA: 41s - loss: 6.4813 - root_mean_squared_error: 2.72 - ETA: 41s - loss: 6.4818 - root_mean_squared_error: 2.72 - ETA: 40s - loss: 6.4785 - root_mean_squared_error: 2.72 - ETA: 40s - loss: 6.4739 - root_mean_squared_error: 2.72 - ETA: 40s - loss: 6.4725 - root_mean_squared_error: 2.72 - ETA: 40s - loss: 6.4690 - root_mean_squared_error: 2.71 - ETA: 39s - loss: 6.4691 - root_mean_squared_error: 2.71 - ETA: 39s - loss: 6.4694 - root_mean_squared_error: 2.71 - ETA: 39s - loss: 6.4707 - root_mean_squared_error: 2.72 - ETA: 38s - loss: 6.4702 - root_mean_squared_error: 2.71 - ETA: 38s - loss: 6.4694 - root_mean_squared_error: 2.71 - ETA: 38s - loss: 6.4700 - root_mean_squared_error: 2.71 - ETA: 38s - loss: 6.4692 - root_mean_squared_error: 2.71 - ETA: 37s - loss: 6.4715 - root_mean_squared_error: 2.71 - ETA: 37s - loss: 6.4760 - root_mean_squared_error: 2.71 - ETA: 37s - loss: 6.4780 - root_mean_squared_error: 2.71 - ETA: 36s - loss: 6.4832 - root_mean_squared_error: 2.71 - ETA: 36s - loss: 6.4862 - root_mean_squared_error: 2.71 - ETA: 36s - loss: 6.4914 - root_mean_squared_error: 2.71 - ETA: 36s - loss: 6.4956 - root_mean_squared_error: 2.71 - ETA: 35s - loss: 6.4993 - root_mean_squared_error: 2.71 - ETA: 35s - loss: 6.5055 - root_mean_squared_error: 2.71 - ETA: 35s - loss: 6.5093 - root_mean_squared_error: 2.71 - ETA: 34s - loss: 6.5116 - root_mean_squared_error: 2.71 - ETA: 34s - loss: 6.5146 - root_mean_squared_error: 2.70 - ETA: 34s - loss: 6.5173 - root_mean_squared_error: 2.70 - ETA: 34s - loss: 6.5217 - root_mean_squared_error: 2.70 - ETA: 33s - loss: 6.5258 - root_mean_squared_error: 2.70 - ETA: 33s - loss: 6.5276 - root_mean_squared_error: 2.70 - ETA: 33s - loss: 6.5290 - root_mean_squared_error: 2.70 - ETA: 32s - loss: 6.5292 - root_mean_squared_error: 2.70 - ETA: 32s - loss: 6.5285 - root_mean_squared_error: 2.70 - ETA: 32s - loss: 6.5293 - root_mean_squared_error: 2.70 - ETA: 32s - loss: 6.5282 - root_mean_squared_error: 2.70 - ETA: 31s - loss: 6.5293 - root_mean_squared_error: 2.70 - ETA: 31s - loss: 6.5283 - root_mean_squared_error: 2.70 - ETA: 31s - loss: 6.5248 - root_mean_squared_error: 2.70 - ETA: 31s - loss: 6.5231 - root_mean_squared_error: 2.70 - ETA: 30s - loss: 6.5198 - root_mean_squared_error: 2.70 - ETA: 30s - loss: 6.5169 - root_mean_squared_error: 2.69 - ETA: 30s - loss: 6.5123 - root_mean_squared_error: 2.69 - ETA: 29s - loss: 6.5092 - root_mean_squared_error: 2.69 - ETA: 29s - loss: 6.5059 - root_mean_squared_error: 2.69 - ETA: 29s - loss: 6.5030 - root_mean_squared_error: 2.69 - ETA: 29s - loss: 6.5028 - root_mean_squared_error: 2.69 - ETA: 28s - loss: 6.5010 - root_mean_squared_error: 2.69 - ETA: 28s - loss: 6.4983 - root_mean_squared_error: 2.69 - ETA: 28s - loss: 6.4959 - root_mean_squared_error: 2.69 - ETA: 28s - loss: 6.4939 - root_mean_squared_error: 2.69 - ETA: 27s - loss: 6.4916 - root_mean_squared_error: 2.69 - ETA: 27s - loss: 6.4900 - root_mean_squared_error: 2.69 - ETA: 27s - loss: 6.4877 - root_mean_squared_error: 2.69 - ETA: 26s - loss: 6.4881 - root_mean_squared_error: 2.69 - ETA: 26s - loss: 6.4861 - root_mean_squared_error: 2.69 - ETA: 26s - loss: 6.4909 - root_mean_squared_error: 2.70 - ETA: 26s - loss: 6.4958 - root_mean_squared_error: 2.70 - ETA: 25s - loss: 6.5017 - root_mean_squared_error: 2.70 - ETA: 25s - loss: 6.5109 - root_mean_squared_error: 2.708459627/59627 [==============================] - ETA: 25s - loss: 6.5215 - root_mean_squared_error: 2.70 - ETA: 24s - loss: 6.5366 - root_mean_squared_error: 2.70 - ETA: 24s - loss: 6.5557 - root_mean_squared_error: 2.71 - ETA: 24s - loss: 6.5754 - root_mean_squared_error: 2.71 - ETA: 24s - loss: 6.5980 - root_mean_squared_error: 2.71 - ETA: 23s - loss: 6.6211 - root_mean_squared_error: 2.71 - ETA: 23s - loss: 6.6463 - root_mean_squared_error: 2.71 - ETA: 23s - loss: 6.6728 - root_mean_squared_error: 2.71 - ETA: 23s - loss: 6.6985 - root_mean_squared_error: 2.71 - ETA: 22s - loss: 6.7263 - root_mean_squared_error: 2.71 - ETA: 22s - loss: 6.7518 - root_mean_squared_error: 2.71 - ETA: 22s - loss: 6.7761 - root_mean_squared_error: 2.71 - ETA: 21s - loss: 6.8018 - root_mean_squared_error: 2.71 - ETA: 21s - loss: 6.8246 - root_mean_squared_error: 2.71 - ETA: 21s - loss: 6.8472 - root_mean_squared_error: 2.71 - ETA: 21s - loss: 6.8670 - root_mean_squared_error: 2.71 - ETA: 20s - loss: 6.8867 - root_mean_squared_error: 2.71 - ETA: 20s - loss: 6.9028 - root_mean_squared_error: 2.71 - ETA: 20s - loss: 6.9209 - root_mean_squared_error: 2.71 - ETA: 20s - loss: 6.9346 - root_mean_squared_error: 2.71 - ETA: 19s - loss: 6.9455 - root_mean_squared_error: 2.71 - ETA: 19s - loss: 6.9577 - root_mean_squared_error: 2.71 - ETA: 19s - loss: 6.9678 - root_mean_squared_error: 2.71 - ETA: 18s - loss: 6.9743 - root_mean_squared_error: 2.71 - ETA: 18s - loss: 6.9803 - root_mean_squared_error: 2.70 - ETA: 18s - loss: 6.9837 - root_mean_squared_error: 2.70 - ETA: 18s - loss: 6.9875 - root_mean_squared_error: 2.70 - ETA: 17s - loss: 6.9889 - root_mean_squared_error: 2.70 - ETA: 17s - loss: 6.9909 - root_mean_squared_error: 2.70 - ETA: 17s - loss: 6.9901 - root_mean_squared_error: 2.70 - ETA: 17s - loss: 6.9884 - root_mean_squared_error: 2.70 - ETA: 16s - loss: 6.9869 - root_mean_squared_error: 2.70 - ETA: 16s - loss: 6.9857 - root_mean_squared_error: 2.70 - ETA: 16s - loss: 6.9817 - root_mean_squared_error: 2.70 - ETA: 15s - loss: 6.9795 - root_mean_squared_error: 2.70 - ETA: 15s - loss: 6.9787 - root_mean_squared_error: 2.70 - ETA: 15s - loss: 6.9773 - root_mean_squared_error: 2.70 - ETA: 15s - loss: 6.9747 - root_mean_squared_error: 2.70 - ETA: 14s - loss: 6.9731 - root_mean_squared_error: 2.70 - ETA: 14s - loss: 6.9714 - root_mean_squared_error: 2.70 - ETA: 14s - loss: 6.9701 - root_mean_squared_error: 2.70 - ETA: 14s - loss: 6.9699 - root_mean_squared_error: 2.70 - ETA: 13s - loss: 6.9696 - root_mean_squared_error: 2.70 - ETA: 13s - loss: 6.9699 - root_mean_squared_error: 2.70 - ETA: 13s - loss: 6.9698 - root_mean_squared_error: 2.70 - ETA: 12s - loss: 6.9698 - root_mean_squared_error: 2.70 - ETA: 12s - loss: 6.9710 - root_mean_squared_error: 2.70 - ETA: 12s - loss: 6.9739 - root_mean_squared_error: 2.70 - ETA: 12s - loss: 6.9741 - root_mean_squared_error: 2.70 - ETA: 11s - loss: 6.9754 - root_mean_squared_error: 2.70 - ETA: 11s - loss: 6.9757 - root_mean_squared_error: 2.70 - ETA: 11s - loss: 6.9767 - root_mean_squared_error: 2.70 - ETA: 11s - loss: 6.9782 - root_mean_squared_error: 2.70 - ETA: 10s - loss: 6.9811 - root_mean_squared_error: 2.70 - ETA: 10s - loss: 6.9849 - root_mean_squared_error: 2.70 - ETA: 10s - loss: 6.9902 - root_mean_squared_error: 2.70 - ETA: 9s - loss: 6.9951 - root_mean_squared_error: 2.7041 - ETA: 9s - loss: 7.0008 - root_mean_squared_error: 2.704 - ETA: 9s - loss: 7.0067 - root_mean_squared_error: 2.703 - ETA: 9s - loss: 7.0148 - root_mean_squared_error: 2.705 - ETA: 8s - loss: 7.0211 - root_mean_squared_error: 2.704 - ETA: 8s - loss: 7.0295 - root_mean_squared_error: 2.706 - ETA: 8s - loss: 7.0370 - root_mean_squared_error: 2.705 - ETA: 8s - loss: 7.0452 - root_mean_squared_error: 2.706 - ETA: 7s - loss: 7.0518 - root_mean_squared_error: 2.705 - ETA: 7s - loss: 7.0596 - root_mean_squared_error: 2.705 - ETA: 7s - loss: 7.0675 - root_mean_squared_error: 2.706 - ETA: 6s - loss: 7.0753 - root_mean_squared_error: 2.707 - ETA: 6s - loss: 7.0819 - root_mean_squared_error: 2.707 - ETA: 6s - loss: 7.0874 - root_mean_squared_error: 2.706 - ETA: 6s - loss: 7.0936 - root_mean_squared_error: 2.707 - ETA: 5s - loss: 7.0979 - root_mean_squared_error: 2.706 - ETA: 5s - loss: 7.1016 - root_mean_squared_error: 2.706 - ETA: 5s - loss: 7.1050 - root_mean_squared_error: 2.705 - ETA: 4s - loss: 7.1072 - root_mean_squared_error: 2.705 - ETA: 4s - loss: 7.1096 - root_mean_squared_error: 2.704 - ETA: 4s - loss: 7.1118 - root_mean_squared_error: 2.705 - ETA: 4s - loss: 7.1125 - root_mean_squared_error: 2.704 - ETA: 3s - loss: 7.1136 - root_mean_squared_error: 2.704 - ETA: 3s - loss: 7.1140 - root_mean_squared_error: 2.704 - ETA: 3s - loss: 7.1146 - root_mean_squared_error: 2.705 - ETA: 3s - loss: 7.1145 - root_mean_squared_error: 2.706 - ETA: 2s - loss: 7.1134 - root_mean_squared_error: 2.706 - ETA: 2s - loss: 7.1124 - root_mean_squared_error: 2.706 - ETA: 2s - loss: 7.1101 - root_mean_squared_error: 2.706 - ETA: 1s - loss: 7.1073 - root_mean_squared_error: 2.705 - ETA: 1s - loss: 7.1032 - root_mean_squared_error: 2.704 - ETA: 1s - loss: 7.1004 - root_mean_squared_error: 2.703 - ETA: 1s - loss: 7.0981 - root_mean_squared_error: 2.704 - ETA: 0s - loss: 7.0956 - root_mean_squared_error: 2.704 - ETA: 0s - loss: 7.0926 - root_mean_squared_error: 2.704 - ETA: 0s - loss: 7.0894 - root_mean_squared_error: 2.703 - 69s 1ms/sample - loss: 7.0869 - root_mean_squared_error: 2.7038 - val_loss: 6.4732 - val_root_mean_squared_error: 2.6895\n",
      "Epoch 6/150\n"
     ]
    },
    {
     "name": "stdout",
     "output_type": "stream",
     "text": [
      "35840/59627 [=================>............] - ETA: 1:08 - loss: 6.4214 - root_mean_squared_error: 2.634 - ETA: 1:06 - loss: 6.4994 - root_mean_squared_error: 2.701 - ETA: 1:06 - loss: 6.4933 - root_mean_squared_error: 2.679 - ETA: 1:07 - loss: 6.4697 - root_mean_squared_error: 2.639 - ETA: 1:06 - loss: 6.5323 - root_mean_squared_error: 2.685 - ETA: 1:05 - loss: 6.5007 - root_mean_squared_error: 2.638 - ETA: 1:05 - loss: 6.5539 - root_mean_squared_error: 2.676 - ETA: 1:04 - loss: 6.5476 - root_mean_squared_error: 2.656 - ETA: 1:03 - loss: 6.5443 - root_mean_squared_error: 2.641 - ETA: 1:02 - loss: 6.5608 - root_mean_squared_error: 2.647 - ETA: 1:01 - loss: 6.5646 - root_mean_squared_error: 2.642 - ETA: 1:01 - loss: 6.5751 - root_mean_squared_error: 2.643 - ETA: 1:01 - loss: 6.5932 - root_mean_squared_error: 2.653 - ETA: 1:00 - loss: 6.6034 - root_mean_squared_error: 2.655 - ETA: 1:00 - loss: 6.6087 - root_mean_squared_error: 2.652 - ETA: 1:00 - loss: 6.6211 - root_mean_squared_error: 2.657 - ETA: 59s - loss: 6.6506 - root_mean_squared_error: 2.683 - ETA: 59s - loss: 6.6508 - root_mean_squared_error: 2.67 - ETA: 59s - loss: 6.6467 - root_mean_squared_error: 2.67 - ETA: 59s - loss: 6.6373 - root_mean_squared_error: 2.66 - ETA: 58s - loss: 6.6411 - root_mean_squared_error: 2.66 - ETA: 58s - loss: 6.6351 - root_mean_squared_error: 2.66 - ETA: 57s - loss: 6.6436 - root_mean_squared_error: 2.68 - ETA: 57s - loss: 6.6350 - root_mean_squared_error: 2.67 - ETA: 57s - loss: 6.6237 - root_mean_squared_error: 2.67 - ETA: 56s - loss: 6.6129 - root_mean_squared_error: 2.67 - ETA: 56s - loss: 6.5968 - root_mean_squared_error: 2.66 - ETA: 56s - loss: 6.5764 - root_mean_squared_error: 2.65 - ETA: 56s - loss: 6.5616 - root_mean_squared_error: 2.65 - ETA: 55s - loss: 6.5525 - root_mean_squared_error: 2.66 - ETA: 55s - loss: 6.5334 - root_mean_squared_error: 2.66 - ETA: 55s - loss: 6.5079 - root_mean_squared_error: 2.65 - ETA: 54s - loss: 6.4884 - root_mean_squared_error: 2.64 - ETA: 54s - loss: 6.4734 - root_mean_squared_error: 2.65 - ETA: 54s - loss: 6.4556 - root_mean_squared_error: 2.64 - ETA: 54s - loss: 6.4430 - root_mean_squared_error: 2.64 - ETA: 53s - loss: 6.4348 - root_mean_squared_error: 2.65 - ETA: 53s - loss: 6.4174 - root_mean_squared_error: 2.64 - ETA: 53s - loss: 6.4098 - root_mean_squared_error: 2.65 - ETA: 52s - loss: 6.3986 - root_mean_squared_error: 2.65 - ETA: 52s - loss: 6.3908 - root_mean_squared_error: 2.65 - ETA: 52s - loss: 6.3856 - root_mean_squared_error: 2.65 - ETA: 52s - loss: 6.3761 - root_mean_squared_error: 2.65 - ETA: 51s - loss: 6.3660 - root_mean_squared_error: 2.65 - ETA: 51s - loss: 6.3592 - root_mean_squared_error: 2.65 - ETA: 51s - loss: 6.3469 - root_mean_squared_error: 2.65 - ETA: 50s - loss: 6.3379 - root_mean_squared_error: 2.65 - ETA: 50s - loss: 6.3294 - root_mean_squared_error: 2.64 - ETA: 50s - loss: 6.3291 - root_mean_squared_error: 2.65 - ETA: 50s - loss: 6.3228 - root_mean_squared_error: 2.64 - ETA: 49s - loss: 6.3236 - root_mean_squared_error: 2.65 - ETA: 49s - loss: 6.3204 - root_mean_squared_error: 2.65 - ETA: 49s - loss: 6.3153 - root_mean_squared_error: 2.65 - ETA: 49s - loss: 6.3110 - root_mean_squared_error: 2.64 - ETA: 48s - loss: 6.3036 - root_mean_squared_error: 2.64 - ETA: 48s - loss: 6.3024 - root_mean_squared_error: 2.64 - ETA: 48s - loss: 6.3041 - root_mean_squared_error: 2.64 - ETA: 47s - loss: 6.3061 - root_mean_squared_error: 2.64 - ETA: 47s - loss: 6.3056 - root_mean_squared_error: 2.64 - ETA: 47s - loss: 6.3044 - root_mean_squared_error: 2.64 - ETA: 46s - loss: 6.3040 - root_mean_squared_error: 2.64 - ETA: 46s - loss: 6.3044 - root_mean_squared_error: 2.64 - ETA: 46s - loss: 6.3039 - root_mean_squared_error: 2.64 - ETA: 46s - loss: 6.3060 - root_mean_squared_error: 2.64 - ETA: 45s - loss: 6.3087 - root_mean_squared_error: 2.64 - ETA: 45s - loss: 6.3080 - root_mean_squared_error: 2.64 - ETA: 45s - loss: 6.3124 - root_mean_squared_error: 2.65 - ETA: 45s - loss: 6.3084 - root_mean_squared_error: 2.64 - ETA: 44s - loss: 6.3099 - root_mean_squared_error: 2.64 - ETA: 44s - loss: 6.3071 - root_mean_squared_error: 2.64 - ETA: 44s - loss: 6.3114 - root_mean_squared_error: 2.65 - ETA: 43s - loss: 6.3130 - root_mean_squared_error: 2.65 - ETA: 43s - loss: 6.3097 - root_mean_squared_error: 2.65 - ETA: 43s - loss: 6.3056 - root_mean_squared_error: 2.64 - ETA: 43s - loss: 6.3022 - root_mean_squared_error: 2.64 - ETA: 42s - loss: 6.3002 - root_mean_squared_error: 2.64 - ETA: 42s - loss: 6.2961 - root_mean_squared_error: 2.64 - ETA: 42s - loss: 6.2975 - root_mean_squared_error: 2.64 - ETA: 42s - loss: 6.2939 - root_mean_squared_error: 2.64 - ETA: 41s - loss: 6.2920 - root_mean_squared_error: 2.64 - ETA: 41s - loss: 6.2944 - root_mean_squared_error: 2.64 - ETA: 41s - loss: 6.2937 - root_mean_squared_error: 2.64 - ETA: 40s - loss: 6.2948 - root_mean_squared_error: 2.64 - ETA: 40s - loss: 6.2932 - root_mean_squared_error: 2.64 - ETA: 40s - loss: 6.2904 - root_mean_squared_error: 2.64 - ETA: 40s - loss: 6.2880 - root_mean_squared_error: 2.64 - ETA: 39s - loss: 6.2849 - root_mean_squared_error: 2.64 - ETA: 39s - loss: 6.2827 - root_mean_squared_error: 2.64 - ETA: 39s - loss: 6.2840 - root_mean_squared_error: 2.64 - ETA: 39s - loss: 6.2817 - root_mean_squared_error: 2.64 - ETA: 38s - loss: 6.2826 - root_mean_squared_error: 2.64 - ETA: 38s - loss: 6.2848 - root_mean_squared_error: 2.65 - ETA: 38s - loss: 6.2851 - root_mean_squared_error: 2.65 - ETA: 37s - loss: 6.2847 - root_mean_squared_error: 2.65 - ETA: 37s - loss: 6.2872 - root_mean_squared_error: 2.65 - ETA: 37s - loss: 6.2842 - root_mean_squared_error: 2.65 - ETA: 37s - loss: 6.2843 - root_mean_squared_error: 2.65 - ETA: 36s - loss: 6.2848 - root_mean_squared_error: 2.65 - ETA: 36s - loss: 6.2845 - root_mean_squared_error: 2.64 - ETA: 36s - loss: 6.2865 - root_mean_squared_error: 2.65 - ETA: 36s - loss: 6.2878 - root_mean_squared_error: 2.65 - ETA: 35s - loss: 6.2882 - root_mean_squared_error: 2.65 - ETA: 35s - loss: 6.2891 - root_mean_squared_error: 2.65 - ETA: 35s - loss: 6.2903 - root_mean_squared_error: 2.65 - ETA: 35s - loss: 6.2921 - root_mean_squared_error: 2.65 - ETA: 34s - loss: 6.2924 - root_mean_squared_error: 2.65 - ETA: 34s - loss: 6.2942 - root_mean_squared_error: 2.65 - ETA: 34s - loss: 6.2973 - root_mean_squared_error: 2.65 - ETA: 34s - loss: 6.2984 - root_mean_squared_error: 2.65 - ETA: 33s - loss: 6.3000 - root_mean_squared_error: 2.65 - ETA: 33s - loss: 6.2999 - root_mean_squared_error: 2.65 - ETA: 33s - loss: 6.3038 - root_mean_squared_error: 2.65 - ETA: 32s - loss: 6.3076 - root_mean_squared_error: 2.65 - ETA: 32s - loss: 6.3101 - root_mean_squared_error: 2.65 - ETA: 32s - loss: 6.3130 - root_mean_squared_error: 2.65 - ETA: 32s - loss: 6.3174 - root_mean_squared_error: 2.65 - ETA: 31s - loss: 6.3212 - root_mean_squared_error: 2.65 - ETA: 31s - loss: 6.3241 - root_mean_squared_error: 2.65 - ETA: 31s - loss: 6.3281 - root_mean_squared_error: 2.65 - ETA: 31s - loss: 6.3336 - root_mean_squared_error: 2.65 - ETA: 30s - loss: 6.3407 - root_mean_squared_error: 2.66 - ETA: 30s - loss: 6.3464 - root_mean_squared_error: 2.66 - ETA: 30s - loss: 6.3522 - root_mean_squared_error: 2.65 - ETA: 30s - loss: 6.3610 - root_mean_squared_error: 2.66 - ETA: 29s - loss: 6.3701 - root_mean_squared_error: 2.66 - ETA: 29s - loss: 6.3785 - root_mean_squared_error: 2.66 - ETA: 29s - loss: 6.3873 - root_mean_squared_error: 2.66 - ETA: 28s - loss: 6.3976 - root_mean_squared_error: 2.66 - ETA: 28s - loss: 6.4057 - root_mean_squared_error: 2.66 - ETA: 28s - loss: 6.4174 - root_mean_squared_error: 2.66 - ETA: 28s - loss: 6.4281 - root_mean_squared_error: 2.66 - ETA: 27s - loss: 6.4393 - root_mean_squared_error: 2.66 - ETA: 27s - loss: 6.4503 - root_mean_squared_error: 2.66 - ETA: 27s - loss: 6.4619 - root_mean_squared_error: 2.66 - ETA: 27s - loss: 6.4708 - root_mean_squared_error: 2.66 - ETA: 26s - loss: 6.4808 - root_mean_squared_error: 2.66 - ETA: 26s - loss: 6.4887 - root_mean_squared_error: 2.66 - ETA: 26s - loss: 6.4977 - root_mean_squared_error: 2.66 - ETA: 25s - loss: 6.5047 - root_mean_squared_error: 2.66 - ETA: 25s - loss: 6.5123 - root_mean_squared_error: 2.6637"
     ]
    },
    {
     "name": "stdout",
     "output_type": "stream",
     "text": [
      "59627/59627 [==============================] - ETA: 25s - loss: 6.5183 - root_mean_squared_error: 2.66 - ETA: 25s - loss: 6.5229 - root_mean_squared_error: 2.66 - ETA: 24s - loss: 6.5277 - root_mean_squared_error: 2.66 - ETA: 24s - loss: 6.5311 - root_mean_squared_error: 2.66 - ETA: 24s - loss: 6.5351 - root_mean_squared_error: 2.66 - ETA: 24s - loss: 6.5378 - root_mean_squared_error: 2.66 - ETA: 23s - loss: 6.5398 - root_mean_squared_error: 2.66 - ETA: 23s - loss: 6.5414 - root_mean_squared_error: 2.66 - ETA: 23s - loss: 6.5420 - root_mean_squared_error: 2.65 - ETA: 22s - loss: 6.5411 - root_mean_squared_error: 2.65 - ETA: 22s - loss: 6.5409 - root_mean_squared_error: 2.65 - ETA: 22s - loss: 6.5399 - root_mean_squared_error: 2.65 - ETA: 22s - loss: 6.5374 - root_mean_squared_error: 2.65 - ETA: 21s - loss: 6.5371 - root_mean_squared_error: 2.65 - ETA: 21s - loss: 6.5368 - root_mean_squared_error: 2.65 - ETA: 21s - loss: 6.5355 - root_mean_squared_error: 2.65 - ETA: 21s - loss: 6.5327 - root_mean_squared_error: 2.65 - ETA: 20s - loss: 6.5301 - root_mean_squared_error: 2.65 - ETA: 20s - loss: 6.5287 - root_mean_squared_error: 2.65 - ETA: 20s - loss: 6.5256 - root_mean_squared_error: 2.65 - ETA: 19s - loss: 6.5230 - root_mean_squared_error: 2.65 - ETA: 19s - loss: 6.5215 - root_mean_squared_error: 2.65 - ETA: 19s - loss: 6.5195 - root_mean_squared_error: 2.65 - ETA: 19s - loss: 6.5207 - root_mean_squared_error: 2.65 - ETA: 18s - loss: 6.5205 - root_mean_squared_error: 2.65 - ETA: 18s - loss: 6.5206 - root_mean_squared_error: 2.65 - ETA: 18s - loss: 6.5205 - root_mean_squared_error: 2.65 - ETA: 17s - loss: 6.5199 - root_mean_squared_error: 2.65 - ETA: 17s - loss: 6.5208 - root_mean_squared_error: 2.65 - ETA: 17s - loss: 6.5226 - root_mean_squared_error: 2.65 - ETA: 17s - loss: 6.5272 - root_mean_squared_error: 2.65 - ETA: 16s - loss: 6.5315 - root_mean_squared_error: 2.65 - ETA: 16s - loss: 6.5338 - root_mean_squared_error: 2.65 - ETA: 16s - loss: 6.5373 - root_mean_squared_error: 2.65 - ETA: 16s - loss: 6.5392 - root_mean_squared_error: 2.65 - ETA: 15s - loss: 6.5420 - root_mean_squared_error: 2.65 - ETA: 15s - loss: 6.5450 - root_mean_squared_error: 2.64 - ETA: 15s - loss: 6.5489 - root_mean_squared_error: 2.64 - ETA: 14s - loss: 6.5524 - root_mean_squared_error: 2.64 - ETA: 14s - loss: 6.5566 - root_mean_squared_error: 2.64 - ETA: 14s - loss: 6.5596 - root_mean_squared_error: 2.64 - ETA: 14s - loss: 6.5609 - root_mean_squared_error: 2.64 - ETA: 13s - loss: 6.5626 - root_mean_squared_error: 2.64 - ETA: 13s - loss: 6.5629 - root_mean_squared_error: 2.64 - ETA: 13s - loss: 6.5646 - root_mean_squared_error: 2.64 - ETA: 13s - loss: 6.5663 - root_mean_squared_error: 2.64 - ETA: 12s - loss: 6.5698 - root_mean_squared_error: 2.64 - ETA: 12s - loss: 6.5698 - root_mean_squared_error: 2.64 - ETA: 12s - loss: 6.5695 - root_mean_squared_error: 2.64 - ETA: 11s - loss: 6.5698 - root_mean_squared_error: 2.64 - ETA: 11s - loss: 6.5695 - root_mean_squared_error: 2.64 - ETA: 11s - loss: 6.5708 - root_mean_squared_error: 2.64 - ETA: 11s - loss: 6.5719 - root_mean_squared_error: 2.64 - ETA: 10s - loss: 6.5739 - root_mean_squared_error: 2.64 - ETA: 10s - loss: 6.5749 - root_mean_squared_error: 2.64 - ETA: 10s - loss: 6.5756 - root_mean_squared_error: 2.64 - ETA: 9s - loss: 6.5757 - root_mean_squared_error: 2.6392 - ETA: 9s - loss: 6.5762 - root_mean_squared_error: 2.638 - ETA: 9s - loss: 6.5776 - root_mean_squared_error: 2.639 - ETA: 9s - loss: 6.5779 - root_mean_squared_error: 2.638 - ETA: 8s - loss: 6.5786 - root_mean_squared_error: 2.639 - ETA: 8s - loss: 6.5785 - root_mean_squared_error: 2.638 - ETA: 8s - loss: 6.5792 - root_mean_squared_error: 2.637 - ETA: 8s - loss: 6.5808 - root_mean_squared_error: 2.638 - ETA: 7s - loss: 6.5826 - root_mean_squared_error: 2.638 - ETA: 7s - loss: 6.5835 - root_mean_squared_error: 2.637 - ETA: 7s - loss: 6.5853 - root_mean_squared_error: 2.637 - ETA: 6s - loss: 6.5879 - root_mean_squared_error: 2.637 - ETA: 6s - loss: 6.5900 - root_mean_squared_error: 2.637 - ETA: 6s - loss: 6.5922 - root_mean_squared_error: 2.637 - ETA: 6s - loss: 6.5957 - root_mean_squared_error: 2.638 - ETA: 5s - loss: 6.5995 - root_mean_squared_error: 2.638 - ETA: 5s - loss: 6.6027 - root_mean_squared_error: 2.638 - ETA: 5s - loss: 6.6060 - root_mean_squared_error: 2.637 - ETA: 4s - loss: 6.6105 - root_mean_squared_error: 2.638 - ETA: 4s - loss: 6.6152 - root_mean_squared_error: 2.639 - ETA: 4s - loss: 6.6189 - root_mean_squared_error: 2.639 - ETA: 4s - loss: 6.6223 - root_mean_squared_error: 2.638 - ETA: 3s - loss: 6.6255 - root_mean_squared_error: 2.638 - ETA: 3s - loss: 6.6277 - root_mean_squared_error: 2.637 - ETA: 3s - loss: 6.6299 - root_mean_squared_error: 2.637 - ETA: 3s - loss: 6.6323 - root_mean_squared_error: 2.636 - ETA: 2s - loss: 6.6340 - root_mean_squared_error: 2.636 - ETA: 2s - loss: 6.6359 - root_mean_squared_error: 2.636 - ETA: 2s - loss: 6.6358 - root_mean_squared_error: 2.635 - ETA: 1s - loss: 6.6366 - root_mean_squared_error: 2.634 - ETA: 1s - loss: 6.6377 - root_mean_squared_error: 2.634 - ETA: 1s - loss: 6.6418 - root_mean_squared_error: 2.637 - ETA: 1s - loss: 6.6452 - root_mean_squared_error: 2.638 - ETA: 0s - loss: 6.6496 - root_mean_squared_error: 2.640 - ETA: 0s - loss: 6.6532 - root_mean_squared_error: 2.640 - ETA: 0s - loss: 6.6562 - root_mean_squared_error: 2.640 - 68s 1ms/sample - loss: 6.6597 - root_mean_squared_error: 2.6393 - val_loss: 10.3521 - val_root_mean_squared_error: 6.0420\n",
      "Epoch 7/150\n",
      "35840/59627 [=================>............] - ETA: 1:05 - loss: 7.9088 - root_mean_squared_error: 2.651 - ETA: 1:05 - loss: 8.0349 - root_mean_squared_error: 2.679 - ETA: 1:04 - loss: 8.1145 - root_mean_squared_error: 2.661 - ETA: 1:03 - loss: 8.2292 - root_mean_squared_error: 2.684 - ETA: 1:03 - loss: 8.2958 - root_mean_squared_error: 2.662 - ETA: 1:03 - loss: 8.4018 - root_mean_squared_error: 2.681 - ETA: 1:02 - loss: 8.4633 - root_mean_squared_error: 2.659 - ETA: 1:02 - loss: 8.5560 - root_mean_squared_error: 2.672 - ETA: 1:01 - loss: 8.6187 - root_mean_squared_error: 2.662 - ETA: 1:01 - loss: 8.6909 - root_mean_squared_error: 2.669 - ETA: 1:01 - loss: 8.7517 - root_mean_squared_error: 2.672 - ETA: 1:01 - loss: 8.7790 - root_mean_squared_error: 2.654 - ETA: 1:00 - loss: 8.7983 - root_mean_squared_error: 2.636 - ETA: 59s - loss: 8.8358 - root_mean_squared_error: 2.645 - ETA: 59s - loss: 8.8601 - root_mean_squared_error: 2.64 - ETA: 58s - loss: 8.8838 - root_mean_squared_error: 2.65 - ETA: 58s - loss: 8.8767 - root_mean_squared_error: 2.64 - ETA: 58s - loss: 8.8716 - root_mean_squared_error: 2.63 - ETA: 58s - loss: 8.8640 - root_mean_squared_error: 2.63 - ETA: 58s - loss: 8.8584 - root_mean_squared_error: 2.64 - ETA: 57s - loss: 8.8536 - root_mean_squared_error: 2.65 - ETA: 57s - loss: 8.8332 - root_mean_squared_error: 2.65 - ETA: 57s - loss: 8.8178 - root_mean_squared_error: 2.66 - ETA: 57s - loss: 8.7851 - root_mean_squared_error: 2.66 - ETA: 56s - loss: 8.7458 - root_mean_squared_error: 2.65 - ETA: 56s - loss: 8.7091 - root_mean_squared_error: 2.65 - ETA: 56s - loss: 8.6752 - root_mean_squared_error: 2.65 - ETA: 55s - loss: 8.6369 - root_mean_squared_error: 2.66 - ETA: 55s - loss: 8.5934 - root_mean_squared_error: 2.66 - ETA: 55s - loss: 8.5507 - root_mean_squared_error: 2.66 - ETA: 55s - loss: 8.4979 - root_mean_squared_error: 2.65 - ETA: 54s - loss: 8.4470 - root_mean_squared_error: 2.65 - ETA: 54s - loss: 8.3942 - root_mean_squared_error: 2.65 - ETA: 54s - loss: 8.3476 - root_mean_squared_error: 2.65 - ETA: 53s - loss: 8.3010 - root_mean_squared_error: 2.65 - ETA: 53s - loss: 8.2569 - root_mean_squared_error: 2.64 - ETA: 53s - loss: 8.2360 - root_mean_squared_error: 2.66 - ETA: 53s - loss: 8.2071 - root_mean_squared_error: 2.67 - ETA: 52s - loss: 8.1798 - root_mean_squared_error: 2.67 - ETA: 52s - loss: 8.1499 - root_mean_squared_error: 2.66 - ETA: 52s - loss: 8.1265 - root_mean_squared_error: 2.66 - ETA: 51s - loss: 8.1097 - root_mean_squared_error: 2.66 - ETA: 51s - loss: 8.0996 - root_mean_squared_error: 2.66 - ETA: 51s - loss: 8.0863 - root_mean_squared_error: 2.66 - ETA: 51s - loss: 8.0806 - root_mean_squared_error: 2.66 - ETA: 50s - loss: 8.0735 - root_mean_squared_error: 2.66 - ETA: 50s - loss: 8.0675 - root_mean_squared_error: 2.65 - ETA: 50s - loss: 8.0686 - root_mean_squared_error: 2.66 - ETA: 49s - loss: 8.0705 - root_mean_squared_error: 2.66 - ETA: 49s - loss: 8.0802 - root_mean_squared_error: 2.67 - ETA: 49s - loss: 8.0769 - root_mean_squared_error: 2.66 - ETA: 49s - loss: 8.0801 - root_mean_squared_error: 2.66 - ETA: 48s - loss: 8.0829 - root_mean_squared_error: 2.66 - ETA: 48s - loss: 8.0912 - root_mean_squared_error: 2.66 - ETA: 48s - loss: 8.1037 - root_mean_squared_error: 2.66 - ETA: 48s - loss: 8.1131 - root_mean_squared_error: 2.65 - ETA: 47s - loss: 8.1314 - root_mean_squared_error: 2.66 - ETA: 47s - loss: 8.1483 - root_mean_squared_error: 2.66 - ETA: 47s - loss: 8.1659 - root_mean_squared_error: 2.66 - ETA: 47s - loss: 8.1810 - root_mean_squared_error: 2.66 - ETA: 46s - loss: 8.1958 - root_mean_squared_error: 2.66 - ETA: 46s - loss: 8.2054 - root_mean_squared_error: 2.66 - ETA: 46s - loss: 8.2213 - root_mean_squared_error: 2.66 - ETA: 45s - loss: 8.2312 - root_mean_squared_error: 2.66 - ETA: 45s - loss: 8.2374 - root_mean_squared_error: 2.66 - ETA: 45s - loss: 8.2428 - root_mean_squared_error: 2.66 - ETA: 45s - loss: 8.2524 - root_mean_squared_error: 2.66 - ETA: 44s - loss: 8.2595 - root_mean_squared_error: 2.66 - ETA: 44s - loss: 8.2693 - root_mean_squared_error: 2.67 - ETA: 44s - loss: 8.2872 - root_mean_squared_error: 2.68 - ETA: 44s - loss: 8.2966 - root_mean_squared_error: 2.67 - ETA: 43s - loss: 8.3094 - root_mean_squared_error: 2.67 - ETA: 43s - loss: 8.3221 - root_mean_squared_error: 2.67 - ETA: 43s - loss: 8.3404 - root_mean_squared_error: 2.67 - ETA: 42s - loss: 8.3560 - root_mean_squared_error: 2.67 - ETA: 42s - loss: 8.3715 - root_mean_squared_error: 2.67 - ETA: 42s - loss: 8.3882 - root_mean_squared_error: 2.67 - ETA: 42s - loss: 8.4071 - root_mean_squared_error: 2.67 - ETA: 41s - loss: 8.4261 - root_mean_squared_error: 2.67 - ETA: 41s - loss: 8.4413 - root_mean_squared_error: 2.67 - ETA: 41s - loss: 8.4575 - root_mean_squared_error: 2.67 - ETA: 41s - loss: 8.4737 - root_mean_squared_error: 2.67 - ETA: 40s - loss: 8.4832 - root_mean_squared_error: 2.67 - ETA: 40s - loss: 8.4904 - root_mean_squared_error: 2.67 - ETA: 40s - loss: 8.4967 - root_mean_squared_error: 2.66 - ETA: 39s - loss: 8.5047 - root_mean_squared_error: 2.67 - ETA: 39s - loss: 8.5043 - root_mean_squared_error: 2.66 - ETA: 39s - loss: 8.5054 - root_mean_squared_error: 2.66 - ETA: 39s - loss: 8.5018 - root_mean_squared_error: 2.66 - ETA: 38s - loss: 8.4954 - root_mean_squared_error: 2.66 - ETA: 38s - loss: 8.4864 - root_mean_squared_error: 2.66 - ETA: 38s - loss: 8.4754 - root_mean_squared_error: 2.66 - ETA: 38s - loss: 8.4639 - root_mean_squared_error: 2.66 - ETA: 37s - loss: 8.4508 - root_mean_squared_error: 2.66 - ETA: 37s - loss: 8.4354 - root_mean_squared_error: 2.65 - ETA: 37s - loss: 8.4191 - root_mean_squared_error: 2.65 - ETA: 36s - loss: 8.4048 - root_mean_squared_error: 2.66 - ETA: 36s - loss: 8.3868 - root_mean_squared_error: 2.65 - ETA: 36s - loss: 8.3719 - root_mean_squared_error: 2.66 - ETA: 36s - loss: 8.3559 - root_mean_squared_error: 2.66 - ETA: 35s - loss: 8.3384 - root_mean_squared_error: 2.66 - ETA: 35s - loss: 8.3213 - root_mean_squared_error: 2.66 - ETA: 35s - loss: 8.3054 - root_mean_squared_error: 2.66 - ETA: 35s - loss: 8.2880 - root_mean_squared_error: 2.65 - ETA: 34s - loss: 8.2729 - root_mean_squared_error: 2.66 - ETA: 34s - loss: 8.2557 - root_mean_squared_error: 2.65 - ETA: 34s - loss: 8.2404 - root_mean_squared_error: 2.65 - ETA: 33s - loss: 8.2283 - root_mean_squared_error: 2.66 - ETA: 33s - loss: 8.2129 - root_mean_squared_error: 2.66 - ETA: 33s - loss: 8.1969 - root_mean_squared_error: 2.65 - ETA: 33s - loss: 8.1844 - root_mean_squared_error: 2.65 - ETA: 32s - loss: 8.1726 - root_mean_squared_error: 2.65 - ETA: 32s - loss: 8.1612 - root_mean_squared_error: 2.65 - ETA: 32s - loss: 8.1536 - root_mean_squared_error: 2.65 - ETA: 31s - loss: 8.1443 - root_mean_squared_error: 2.65 - ETA: 31s - loss: 8.1382 - root_mean_squared_error: 2.65 - ETA: 31s - loss: 8.1321 - root_mean_squared_error: 2.65 - ETA: 31s - loss: 8.1272 - root_mean_squared_error: 2.65 - ETA: 30s - loss: 8.1218 - root_mean_squared_error: 2.65 - ETA: 30s - loss: 8.1189 - root_mean_squared_error: 2.65 - ETA: 30s - loss: 8.1168 - root_mean_squared_error: 2.65 - ETA: 30s - loss: 8.1150 - root_mean_squared_error: 2.65 - ETA: 29s - loss: 8.1112 - root_mean_squared_error: 2.65 - ETA: 29s - loss: 8.1100 - root_mean_squared_error: 2.65 - ETA: 29s - loss: 8.1093 - root_mean_squared_error: 2.65 - ETA: 29s - loss: 8.1123 - root_mean_squared_error: 2.65 - ETA: 28s - loss: 8.1128 - root_mean_squared_error: 2.65 - ETA: 28s - loss: 8.1146 - root_mean_squared_error: 2.65 - ETA: 28s - loss: 8.1165 - root_mean_squared_error: 2.66 - ETA: 27s - loss: 8.1160 - root_mean_squared_error: 2.65 - ETA: 27s - loss: 8.1151 - root_mean_squared_error: 2.65 - ETA: 27s - loss: 8.1145 - root_mean_squared_error: 2.65 - ETA: 27s - loss: 8.1133 - root_mean_squared_error: 2.65 - ETA: 26s - loss: 8.1118 - root_mean_squared_error: 2.65 - ETA: 26s - loss: 8.1079 - root_mean_squared_error: 2.65 - ETA: 26s - loss: 8.1050 - root_mean_squared_error: 2.65 - ETA: 26s - loss: 8.1021 - root_mean_squared_error: 2.65 - ETA: 25s - loss: 8.1003 - root_mean_squared_error: 2.65 - ETA: 25s - loss: 8.1010 - root_mean_squared_error: 2.65 - ETA: 25s - loss: 8.1026 - root_mean_squared_error: 2.654259627/59627 [==============================] - ETA: 24s - loss: 8.1020 - root_mean_squared_error: 2.65 - ETA: 24s - loss: 8.1024 - root_mean_squared_error: 2.65 - ETA: 24s - loss: 8.1041 - root_mean_squared_error: 2.65 - ETA: 24s - loss: 8.1055 - root_mean_squared_error: 2.65 - ETA: 23s - loss: 8.1074 - root_mean_squared_error: 2.65 - ETA: 23s - loss: 8.1088 - root_mean_squared_error: 2.65 - ETA: 23s - loss: 8.1109 - root_mean_squared_error: 2.65 - ETA: 23s - loss: 8.1110 - root_mean_squared_error: 2.65 - ETA: 22s - loss: 8.1133 - root_mean_squared_error: 2.65 - ETA: 22s - loss: 8.1143 - root_mean_squared_error: 2.65 - ETA: 22s - loss: 8.1135 - root_mean_squared_error: 2.65 - ETA: 21s - loss: 8.1117 - root_mean_squared_error: 2.64 - ETA: 21s - loss: 8.1101 - root_mean_squared_error: 2.64 - ETA: 21s - loss: 8.1072 - root_mean_squared_error: 2.64 - ETA: 21s - loss: 8.1040 - root_mean_squared_error: 2.64 - ETA: 20s - loss: 8.1007 - root_mean_squared_error: 2.64 - ETA: 20s - loss: 8.0957 - root_mean_squared_error: 2.64 - ETA: 20s - loss: 8.0900 - root_mean_squared_error: 2.64 - ETA: 20s - loss: 8.0814 - root_mean_squared_error: 2.64 - ETA: 19s - loss: 8.0726 - root_mean_squared_error: 2.64 - ETA: 19s - loss: 8.0645 - root_mean_squared_error: 2.64 - ETA: 19s - loss: 8.0556 - root_mean_squared_error: 2.64 - ETA: 18s - loss: 8.0456 - root_mean_squared_error: 2.64 - ETA: 18s - loss: 8.0359 - root_mean_squared_error: 2.64 - ETA: 18s - loss: 8.0278 - root_mean_squared_error: 2.64 - ETA: 18s - loss: 8.0191 - root_mean_squared_error: 2.64 - ETA: 17s - loss: 8.0112 - root_mean_squared_error: 2.64 - ETA: 17s - loss: 8.0063 - root_mean_squared_error: 2.64 - ETA: 17s - loss: 8.0016 - root_mean_squared_error: 2.64 - ETA: 17s - loss: 7.9993 - root_mean_squared_error: 2.64 - ETA: 16s - loss: 7.9986 - root_mean_squared_error: 2.64 - ETA: 16s - loss: 8.0009 - root_mean_squared_error: 2.64 - ETA: 16s - loss: 8.0037 - root_mean_squared_error: 2.64 - ETA: 15s - loss: 8.0080 - root_mean_squared_error: 2.64 - ETA: 15s - loss: 8.0126 - root_mean_squared_error: 2.64 - ETA: 15s - loss: 8.0163 - root_mean_squared_error: 2.64 - ETA: 15s - loss: 8.0203 - root_mean_squared_error: 2.64 - ETA: 14s - loss: 8.0262 - root_mean_squared_error: 2.64 - ETA: 14s - loss: 8.0303 - root_mean_squared_error: 2.64 - ETA: 14s - loss: 8.0352 - root_mean_squared_error: 2.64 - ETA: 14s - loss: 8.0395 - root_mean_squared_error: 2.64 - ETA: 13s - loss: 8.0420 - root_mean_squared_error: 2.64 - ETA: 13s - loss: 8.0443 - root_mean_squared_error: 2.64 - ETA: 13s - loss: 8.0446 - root_mean_squared_error: 2.64 - ETA: 12s - loss: 8.0463 - root_mean_squared_error: 2.64 - ETA: 12s - loss: 8.0470 - root_mean_squared_error: 2.64 - ETA: 12s - loss: 8.0456 - root_mean_squared_error: 2.64 - ETA: 12s - loss: 8.0453 - root_mean_squared_error: 2.64 - ETA: 11s - loss: 8.0460 - root_mean_squared_error: 2.64 - ETA: 11s - loss: 8.0440 - root_mean_squared_error: 2.64 - ETA: 11s - loss: 8.0439 - root_mean_squared_error: 2.64 - ETA: 11s - loss: 8.0423 - root_mean_squared_error: 2.64 - ETA: 10s - loss: 8.0396 - root_mean_squared_error: 2.64 - ETA: 10s - loss: 8.0376 - root_mean_squared_error: 2.64 - ETA: 10s - loss: 8.0344 - root_mean_squared_error: 2.63 - ETA: 10s - loss: 8.0328 - root_mean_squared_error: 2.63 - ETA: 9s - loss: 8.0304 - root_mean_squared_error: 2.6391 - ETA: 9s - loss: 8.0280 - root_mean_squared_error: 2.638 - ETA: 9s - loss: 8.0252 - root_mean_squared_error: 2.637 - ETA: 8s - loss: 8.0234 - root_mean_squared_error: 2.638 - ETA: 8s - loss: 8.0206 - root_mean_squared_error: 2.637 - ETA: 8s - loss: 8.0171 - root_mean_squared_error: 2.636 - ETA: 8s - loss: 8.0151 - root_mean_squared_error: 2.637 - ETA: 7s - loss: 8.0123 - root_mean_squared_error: 2.637 - ETA: 7s - loss: 8.0084 - root_mean_squared_error: 2.636 - ETA: 7s - loss: 8.0057 - root_mean_squared_error: 2.637 - ETA: 7s - loss: 8.0026 - root_mean_squared_error: 2.636 - ETA: 6s - loss: 7.9988 - root_mean_squared_error: 2.636 - ETA: 6s - loss: 7.9949 - root_mean_squared_error: 2.635 - ETA: 6s - loss: 7.9915 - root_mean_squared_error: 2.635 - ETA: 5s - loss: 7.9878 - root_mean_squared_error: 2.634 - ETA: 5s - loss: 7.9836 - root_mean_squared_error: 2.633 - ETA: 5s - loss: 7.9802 - root_mean_squared_error: 2.632 - ETA: 5s - loss: 7.9769 - root_mean_squared_error: 2.631 - ETA: 4s - loss: 7.9738 - root_mean_squared_error: 2.631 - ETA: 4s - loss: 7.9693 - root_mean_squared_error: 2.630 - ETA: 4s - loss: 7.9660 - root_mean_squared_error: 2.630 - ETA: 4s - loss: 7.9627 - root_mean_squared_error: 2.630 - ETA: 3s - loss: 7.9596 - root_mean_squared_error: 2.631 - ETA: 3s - loss: 7.9548 - root_mean_squared_error: 2.630 - ETA: 3s - loss: 7.9508 - root_mean_squared_error: 2.630 - ETA: 2s - loss: 7.9465 - root_mean_squared_error: 2.630 - ETA: 2s - loss: 7.9412 - root_mean_squared_error: 2.630 - ETA: 2s - loss: 7.9368 - root_mean_squared_error: 2.630 - ETA: 2s - loss: 7.9329 - root_mean_squared_error: 2.630 - ETA: 1s - loss: 7.9293 - root_mean_squared_error: 2.631 - ETA: 1s - loss: 7.9262 - root_mean_squared_error: 2.631 - ETA: 1s - loss: 7.9232 - root_mean_squared_error: 2.631 - ETA: 1s - loss: 7.9209 - root_mean_squared_error: 2.631 - ETA: 0s - loss: 7.9200 - root_mean_squared_error: 2.632 - ETA: 0s - loss: 7.9186 - root_mean_squared_error: 2.632 - ETA: 0s - loss: 7.9191 - root_mean_squared_error: 2.633 - 67s 1ms/sample - loss: 7.9182 - root_mean_squared_error: 2.6336 - val_loss: 7.9605 - val_root_mean_squared_error: 2.6295\n",
      "Epoch 8/150\n"
     ]
    },
    {
     "name": "stdout",
     "output_type": "stream",
     "text": [
      "35840/59627 [=================>............] - ETA: 1:08 - loss: 8.0606 - root_mean_squared_error: 2.726 - ETA: 1:06 - loss: 8.3736 - root_mean_squared_error: 2.838 - ETA: 1:06 - loss: 8.6413 - root_mean_squared_error: 2.860 - ETA: 1:04 - loss: 8.8052 - root_mean_squared_error: 2.761 - ETA: 1:04 - loss: 9.1025 - root_mean_squared_error: 2.783 - ETA: 1:03 - loss: 9.3677 - root_mean_squared_error: 2.776 - ETA: 1:03 - loss: 9.6877 - root_mean_squared_error: 2.836 - ETA: 1:02 - loss: 9.9355 - root_mean_squared_error: 2.834 - ETA: 1:02 - loss: 10.1452 - root_mean_squared_error: 2.81 - ETA: 1:02 - loss: 10.3433 - root_mean_squared_error: 2.80 - ETA: 1:01 - loss: 10.5214 - root_mean_squared_error: 2.80 - ETA: 1:00 - loss: 10.6440 - root_mean_squared_error: 2.78 - ETA: 1:00 - loss: 10.7418 - root_mean_squared_error: 2.76 - ETA: 1:00 - loss: 10.8108 - root_mean_squared_error: 2.75 - ETA: 59s - loss: 10.8363 - root_mean_squared_error: 2.7318 - ETA: 59s - loss: 10.8696 - root_mean_squared_error: 2.744 - ETA: 59s - loss: 10.8471 - root_mean_squared_error: 2.728 - ETA: 58s - loss: 10.8009 - root_mean_squared_error: 2.713 - ETA: 58s - loss: 10.7516 - root_mean_squared_error: 2.715 - ETA: 58s - loss: 10.6758 - root_mean_squared_error: 2.708 - ETA: 58s - loss: 10.5654 - root_mean_squared_error: 2.684 - ETA: 57s - loss: 10.4699 - root_mean_squared_error: 2.683 - ETA: 57s - loss: 10.3654 - root_mean_squared_error: 2.682 - ETA: 57s - loss: 10.2645 - root_mean_squared_error: 2.691 - ETA: 56s - loss: 10.1386 - root_mean_squared_error: 2.678 - ETA: 56s - loss: 10.0248 - root_mean_squared_error: 2.677 - ETA: 56s - loss: 9.9046 - root_mean_squared_error: 2.668 - ETA: 56s - loss: 9.7867 - root_mean_squared_error: 2.65 - ETA: 56s - loss: 9.6790 - root_mean_squared_error: 2.65 - ETA: 56s - loss: 9.5765 - root_mean_squared_error: 2.65 - ETA: 55s - loss: 9.4786 - root_mean_squared_error: 2.64 - ETA: 55s - loss: 9.3931 - root_mean_squared_error: 2.64 - ETA: 55s - loss: 9.3159 - root_mean_squared_error: 2.64 - ETA: 54s - loss: 9.2503 - root_mean_squared_error: 2.64 - ETA: 54s - loss: 9.1879 - root_mean_squared_error: 2.64 - ETA: 54s - loss: 9.1296 - root_mean_squared_error: 2.64 - ETA: 54s - loss: 9.0770 - root_mean_squared_error: 2.64 - ETA: 54s - loss: 9.0394 - root_mean_squared_error: 2.64 - ETA: 53s - loss: 9.0110 - root_mean_squared_error: 2.64 - ETA: 53s - loss: 8.9908 - root_mean_squared_error: 2.63 - ETA: 53s - loss: 8.9845 - root_mean_squared_error: 2.63 - ETA: 52s - loss: 8.9889 - root_mean_squared_error: 2.64 - ETA: 52s - loss: 8.9993 - root_mean_squared_error: 2.64 - ETA: 52s - loss: 9.0126 - root_mean_squared_error: 2.63 - ETA: 51s - loss: 9.0283 - root_mean_squared_error: 2.63 - ETA: 51s - loss: 9.0494 - root_mean_squared_error: 2.63 - ETA: 51s - loss: 9.0811 - root_mean_squared_error: 2.63 - ETA: 51s - loss: 9.1088 - root_mean_squared_error: 2.63 - ETA: 50s - loss: 9.1325 - root_mean_squared_error: 2.63 - ETA: 50s - loss: 9.1561 - root_mean_squared_error: 2.63 - ETA: 50s - loss: 9.1768 - root_mean_squared_error: 2.63 - ETA: 49s - loss: 9.1939 - root_mean_squared_error: 2.63 - ETA: 49s - loss: 9.2120 - root_mean_squared_error: 2.63 - ETA: 49s - loss: 9.2236 - root_mean_squared_error: 2.63 - ETA: 49s - loss: 9.2332 - root_mean_squared_error: 2.63 - ETA: 48s - loss: 9.2350 - root_mean_squared_error: 2.63 - ETA: 48s - loss: 9.2307 - root_mean_squared_error: 2.63 - ETA: 48s - loss: 9.2226 - root_mean_squared_error: 2.63 - ETA: 47s - loss: 9.2158 - root_mean_squared_error: 2.63 - ETA: 47s - loss: 9.2031 - root_mean_squared_error: 2.63 - ETA: 47s - loss: 9.1880 - root_mean_squared_error: 2.63 - ETA: 47s - loss: 9.1689 - root_mean_squared_error: 2.63 - ETA: 46s - loss: 9.1440 - root_mean_squared_error: 2.62 - ETA: 46s - loss: 9.1228 - root_mean_squared_error: 2.62 - ETA: 46s - loss: 9.0975 - root_mean_squared_error: 2.62 - ETA: 46s - loss: 9.0690 - root_mean_squared_error: 2.62 - ETA: 45s - loss: 9.0409 - root_mean_squared_error: 2.62 - ETA: 45s - loss: 9.0147 - root_mean_squared_error: 2.62 - ETA: 45s - loss: 8.9861 - root_mean_squared_error: 2.62 - ETA: 44s - loss: 8.9600 - root_mean_squared_error: 2.62 - ETA: 44s - loss: 8.9347 - root_mean_squared_error: 2.61 - ETA: 44s - loss: 8.9126 - root_mean_squared_error: 2.61 - ETA: 44s - loss: 8.8954 - root_mean_squared_error: 2.61 - ETA: 43s - loss: 8.8839 - root_mean_squared_error: 2.61 - ETA: 43s - loss: 8.8782 - root_mean_squared_error: 2.61 - ETA: 43s - loss: 8.8749 - root_mean_squared_error: 2.61 - ETA: 42s - loss: 8.8749 - root_mean_squared_error: 2.61 - ETA: 42s - loss: 8.8768 - root_mean_squared_error: 2.61 - ETA: 42s - loss: 8.8803 - root_mean_squared_error: 2.61 - ETA: 42s - loss: 8.8816 - root_mean_squared_error: 2.61 - ETA: 41s - loss: 8.8880 - root_mean_squared_error: 2.61 - ETA: 41s - loss: 8.8935 - root_mean_squared_error: 2.61 - ETA: 41s - loss: 8.8922 - root_mean_squared_error: 2.60 - ETA: 40s - loss: 8.8922 - root_mean_squared_error: 2.60 - ETA: 40s - loss: 8.8902 - root_mean_squared_error: 2.60 - ETA: 40s - loss: 8.8869 - root_mean_squared_error: 2.60 - ETA: 40s - loss: 8.8814 - root_mean_squared_error: 2.60 - ETA: 39s - loss: 8.8742 - root_mean_squared_error: 2.60 - ETA: 39s - loss: 8.8656 - root_mean_squared_error: 2.59 - ETA: 39s - loss: 8.8547 - root_mean_squared_error: 2.59 - ETA: 38s - loss: 8.8445 - root_mean_squared_error: 2.59 - ETA: 38s - loss: 8.8321 - root_mean_squared_error: 2.59 - ETA: 38s - loss: 8.8204 - root_mean_squared_error: 2.59 - ETA: 38s - loss: 8.8072 - root_mean_squared_error: 2.59 - ETA: 37s - loss: 8.7921 - root_mean_squared_error: 2.59 - ETA: 37s - loss: 8.7779 - root_mean_squared_error: 2.59 - ETA: 37s - loss: 8.7618 - root_mean_squared_error: 2.59 - ETA: 37s - loss: 8.7491 - root_mean_squared_error: 2.59 - ETA: 36s - loss: 8.7342 - root_mean_squared_error: 2.59 - ETA: 36s - loss: 8.7201 - root_mean_squared_error: 2.59 - ETA: 36s - loss: 8.7096 - root_mean_squared_error: 2.59 - ETA: 35s - loss: 8.6983 - root_mean_squared_error: 2.59 - ETA: 35s - loss: 8.6872 - root_mean_squared_error: 2.59 - ETA: 35s - loss: 8.6788 - root_mean_squared_error: 2.59 - ETA: 35s - loss: 8.6709 - root_mean_squared_error: 2.59 - ETA: 34s - loss: 8.6655 - root_mean_squared_error: 2.59 - ETA: 34s - loss: 8.6616 - root_mean_squared_error: 2.59 - ETA: 34s - loss: 8.6583 - root_mean_squared_error: 2.59 - ETA: 33s - loss: 8.6597 - root_mean_squared_error: 2.59 - ETA: 33s - loss: 8.6586 - root_mean_squared_error: 2.59 - ETA: 33s - loss: 8.6607 - root_mean_squared_error: 2.59 - ETA: 33s - loss: 8.6617 - root_mean_squared_error: 2.59 - ETA: 32s - loss: 8.6670 - root_mean_squared_error: 2.59 - ETA: 32s - loss: 8.6709 - root_mean_squared_error: 2.59 - ETA: 32s - loss: 8.6768 - root_mean_squared_error: 2.59 - ETA: 32s - loss: 8.6781 - root_mean_squared_error: 2.59 - ETA: 31s - loss: 8.6840 - root_mean_squared_error: 2.59 - ETA: 31s - loss: 8.6905 - root_mean_squared_error: 2.58 - ETA: 31s - loss: 8.6981 - root_mean_squared_error: 2.58 - ETA: 30s - loss: 8.7051 - root_mean_squared_error: 2.58 - ETA: 30s - loss: 8.7152 - root_mean_squared_error: 2.59 - ETA: 30s - loss: 8.7255 - root_mean_squared_error: 2.59 - ETA: 30s - loss: 8.7313 - root_mean_squared_error: 2.59 - ETA: 29s - loss: 8.7404 - root_mean_squared_error: 2.59 - ETA: 29s - loss: 8.7469 - root_mean_squared_error: 2.59 - ETA: 29s - loss: 8.7528 - root_mean_squared_error: 2.59 - ETA: 29s - loss: 8.7548 - root_mean_squared_error: 2.59 - ETA: 28s - loss: 8.7590 - root_mean_squared_error: 2.59 - ETA: 28s - loss: 8.7612 - root_mean_squared_error: 2.59 - ETA: 28s - loss: 8.7660 - root_mean_squared_error: 2.59 - ETA: 27s - loss: 8.7692 - root_mean_squared_error: 2.59 - ETA: 27s - loss: 8.7722 - root_mean_squared_error: 2.59 - ETA: 27s - loss: 8.7754 - root_mean_squared_error: 2.59 - ETA: 27s - loss: 8.7781 - root_mean_squared_error: 2.59 - ETA: 26s - loss: 8.7814 - root_mean_squared_error: 2.59 - ETA: 26s - loss: 8.7852 - root_mean_squared_error: 2.59 - ETA: 26s - loss: 8.7904 - root_mean_squared_error: 2.59 - ETA: 26s - loss: 8.7941 - root_mean_squared_error: 2.59 - ETA: 25s - loss: 8.7997 - root_mean_squared_error: 2.59 - ETA: 25s - loss: 8.8039 - root_mean_squared_error: 2.5926"
     ]
    },
    {
     "name": "stdout",
     "output_type": "stream",
     "text": [
      "59627/59627 [==============================] - ETA: 25s - loss: 8.8100 - root_mean_squared_error: 2.59 - ETA: 24s - loss: 8.8165 - root_mean_squared_error: 2.59 - ETA: 24s - loss: 8.8265 - root_mean_squared_error: 2.59 - ETA: 24s - loss: 8.8367 - root_mean_squared_error: 2.59 - ETA: 24s - loss: 8.8472 - root_mean_squared_error: 2.59 - ETA: 23s - loss: 8.8547 - root_mean_squared_error: 2.59 - ETA: 23s - loss: 8.8623 - root_mean_squared_error: 2.59 - ETA: 23s - loss: 8.8678 - root_mean_squared_error: 2.59 - ETA: 23s - loss: 8.8728 - root_mean_squared_error: 2.59 - ETA: 22s - loss: 8.8757 - root_mean_squared_error: 2.59 - ETA: 22s - loss: 8.8770 - root_mean_squared_error: 2.59 - ETA: 22s - loss: 8.8743 - root_mean_squared_error: 2.59 - ETA: 21s - loss: 8.8718 - root_mean_squared_error: 2.59 - ETA: 21s - loss: 8.8643 - root_mean_squared_error: 2.59 - ETA: 21s - loss: 8.8581 - root_mean_squared_error: 2.59 - ETA: 21s - loss: 8.8506 - root_mean_squared_error: 2.59 - ETA: 20s - loss: 8.8441 - root_mean_squared_error: 2.59 - ETA: 20s - loss: 8.8377 - root_mean_squared_error: 2.59 - ETA: 20s - loss: 8.8317 - root_mean_squared_error: 2.59 - ETA: 20s - loss: 8.8245 - root_mean_squared_error: 2.59 - ETA: 19s - loss: 8.8207 - root_mean_squared_error: 2.59 - ETA: 19s - loss: 8.8180 - root_mean_squared_error: 2.59 - ETA: 19s - loss: 8.8166 - root_mean_squared_error: 2.59 - ETA: 18s - loss: 8.8131 - root_mean_squared_error: 2.59 - ETA: 18s - loss: 8.8107 - root_mean_squared_error: 2.58 - ETA: 18s - loss: 8.8087 - root_mean_squared_error: 2.58 - ETA: 18s - loss: 8.8064 - root_mean_squared_error: 2.58 - ETA: 17s - loss: 8.8046 - root_mean_squared_error: 2.58 - ETA: 17s - loss: 8.8012 - root_mean_squared_error: 2.58 - ETA: 17s - loss: 8.7992 - root_mean_squared_error: 2.58 - ETA: 16s - loss: 8.7971 - root_mean_squared_error: 2.58 - ETA: 16s - loss: 8.7937 - root_mean_squared_error: 2.58 - ETA: 16s - loss: 8.7914 - root_mean_squared_error: 2.58 - ETA: 16s - loss: 8.7852 - root_mean_squared_error: 2.58 - ETA: 15s - loss: 8.7820 - root_mean_squared_error: 2.58 - ETA: 15s - loss: 8.7788 - root_mean_squared_error: 2.58 - ETA: 15s - loss: 8.7733 - root_mean_squared_error: 2.58 - ETA: 15s - loss: 8.7687 - root_mean_squared_error: 2.58 - ETA: 14s - loss: 8.7658 - root_mean_squared_error: 2.58 - ETA: 14s - loss: 8.7616 - root_mean_squared_error: 2.58 - ETA: 14s - loss: 8.7612 - root_mean_squared_error: 2.58 - ETA: 13s - loss: 8.7598 - root_mean_squared_error: 2.58 - ETA: 13s - loss: 8.7574 - root_mean_squared_error: 2.58 - ETA: 13s - loss: 8.7554 - root_mean_squared_error: 2.58 - ETA: 13s - loss: 8.7538 - root_mean_squared_error: 2.58 - ETA: 12s - loss: 8.7534 - root_mean_squared_error: 2.59 - ETA: 12s - loss: 8.7518 - root_mean_squared_error: 2.59 - ETA: 12s - loss: 8.7525 - root_mean_squared_error: 2.59 - ETA: 12s - loss: 8.7501 - root_mean_squared_error: 2.59 - ETA: 11s - loss: 8.7496 - root_mean_squared_error: 2.59 - ETA: 11s - loss: 8.7497 - root_mean_squared_error: 2.59 - ETA: 11s - loss: 8.7512 - root_mean_squared_error: 2.59 - ETA: 10s - loss: 8.7530 - root_mean_squared_error: 2.58 - ETA: 10s - loss: 8.7575 - root_mean_squared_error: 2.58 - ETA: 10s - loss: 8.7644 - root_mean_squared_error: 2.58 - ETA: 10s - loss: 8.7740 - root_mean_squared_error: 2.58 - ETA: 9s - loss: 8.7861 - root_mean_squared_error: 2.5887 - ETA: 9s - loss: 8.7976 - root_mean_squared_error: 2.588 - ETA: 9s - loss: 8.8113 - root_mean_squared_error: 2.588 - ETA: 9s - loss: 8.8239 - root_mean_squared_error: 2.588 - ETA: 8s - loss: 8.8361 - root_mean_squared_error: 2.588 - ETA: 8s - loss: 8.8473 - root_mean_squared_error: 2.587 - ETA: 8s - loss: 8.8577 - root_mean_squared_error: 2.586 - ETA: 7s - loss: 8.8672 - root_mean_squared_error: 2.584 - ETA: 7s - loss: 8.8771 - root_mean_squared_error: 2.584 - ETA: 7s - loss: 8.8859 - root_mean_squared_error: 2.584 - ETA: 7s - loss: 8.8954 - root_mean_squared_error: 2.585 - ETA: 6s - loss: 8.9029 - root_mean_squared_error: 2.584 - ETA: 6s - loss: 8.9088 - root_mean_squared_error: 2.583 - ETA: 6s - loss: 8.9145 - root_mean_squared_error: 2.583 - ETA: 5s - loss: 8.9202 - root_mean_squared_error: 2.583 - ETA: 5s - loss: 8.9238 - root_mean_squared_error: 2.583 - ETA: 5s - loss: 8.9271 - root_mean_squared_error: 2.584 - ETA: 5s - loss: 8.9286 - root_mean_squared_error: 2.584 - ETA: 4s - loss: 8.9294 - root_mean_squared_error: 2.584 - ETA: 4s - loss: 8.9281 - root_mean_squared_error: 2.584 - ETA: 4s - loss: 8.9242 - root_mean_squared_error: 2.582 - ETA: 4s - loss: 8.9206 - root_mean_squared_error: 2.582 - ETA: 3s - loss: 8.9158 - root_mean_squared_error: 2.581 - ETA: 3s - loss: 8.9111 - root_mean_squared_error: 2.581 - ETA: 3s - loss: 8.9059 - root_mean_squared_error: 2.581 - ETA: 2s - loss: 8.8999 - root_mean_squared_error: 2.580 - ETA: 2s - loss: 8.8943 - root_mean_squared_error: 2.579 - ETA: 2s - loss: 8.8895 - root_mean_squared_error: 2.579 - ETA: 2s - loss: 8.8849 - root_mean_squared_error: 2.579 - ETA: 1s - loss: 8.8790 - root_mean_squared_error: 2.578 - ETA: 1s - loss: 8.8731 - root_mean_squared_error: 2.577 - ETA: 1s - loss: 8.8685 - root_mean_squared_error: 2.577 - ETA: 1s - loss: 8.8634 - root_mean_squared_error: 2.577 - ETA: 0s - loss: 8.8571 - root_mean_squared_error: 2.576 - ETA: 0s - loss: 8.8512 - root_mean_squared_error: 2.576 - ETA: 0s - loss: 8.8448 - root_mean_squared_error: 2.576 - 68s 1ms/sample - loss: 8.8386 - root_mean_squared_error: 2.5761 - val_loss: 7.5234 - val_root_mean_squared_error: 2.8932\n",
      "Epoch 9/150\n",
      "35840/59627 [=================>............] - ETA: 1:04 - loss: 7.3431 - root_mean_squared_error: 2.709 - ETA: 1:05 - loss: 7.1518 - root_mean_squared_error: 2.558 - ETA: 1:03 - loss: 7.0483 - root_mean_squared_error: 2.483 - ETA: 1:03 - loss: 7.0671 - root_mean_squared_error: 2.526 - ETA: 1:02 - loss: 7.0240 - root_mean_squared_error: 2.499 - ETA: 1:02 - loss: 7.0142 - root_mean_squared_error: 2.493 - ETA: 1:03 - loss: 7.0144 - root_mean_squared_error: 2.482 - ETA: 1:03 - loss: 7.0440 - root_mean_squared_error: 2.488 - ETA: 1:02 - loss: 7.0739 - root_mean_squared_error: 2.483 - ETA: 1:02 - loss: 7.1120 - root_mean_squared_error: 2.479 - ETA: 1:03 - loss: 7.1895 - root_mean_squared_error: 2.513 - ETA: 1:03 - loss: 7.2356 - root_mean_squared_error: 2.512 - ETA: 1:02 - loss: 7.2917 - root_mean_squared_error: 2.521 - ETA: 1:01 - loss: 7.3544 - root_mean_squared_error: 2.540 - ETA: 1:01 - loss: 7.4036 - root_mean_squared_error: 2.548 - ETA: 1:01 - loss: 7.4428 - root_mean_squared_error: 2.549 - ETA: 1:01 - loss: 7.4605 - root_mean_squared_error: 2.534 - ETA: 1:00 - loss: 7.4886 - root_mean_squared_error: 2.533 - ETA: 1:00 - loss: 7.5176 - root_mean_squared_error: 2.538 - ETA: 1:00 - loss: 7.5399 - root_mean_squared_error: 2.542 - ETA: 1:00 - loss: 7.5616 - root_mean_squared_error: 2.551 - ETA: 1:00 - loss: 7.5718 - root_mean_squared_error: 2.554 - ETA: 1:00 - loss: 7.5749 - root_mean_squared_error: 2.556 - ETA: 59s - loss: 7.5731 - root_mean_squared_error: 2.558 - ETA: 59s - loss: 7.5677 - root_mean_squared_error: 2.56 - ETA: 58s - loss: 7.5502 - root_mean_squared_error: 2.55 - ETA: 58s - loss: 7.5394 - root_mean_squared_error: 2.55 - ETA: 58s - loss: 7.5241 - root_mean_squared_error: 2.56 - ETA: 57s - loss: 7.5049 - root_mean_squared_error: 2.55 - ETA: 57s - loss: 7.5014 - root_mean_squared_error: 2.56 - ETA: 57s - loss: 7.4919 - root_mean_squared_error: 2.56 - ETA: 57s - loss: 7.4833 - root_mean_squared_error: 2.55 - ETA: 56s - loss: 7.4954 - root_mean_squared_error: 2.55 - ETA: 56s - loss: 7.5117 - root_mean_squared_error: 2.55 - ETA: 55s - loss: 7.5372 - root_mean_squared_error: 2.56 - ETA: 55s - loss: 7.5592 - root_mean_squared_error: 2.55 - ETA: 55s - loss: 7.5861 - root_mean_squared_error: 2.55 - ETA: 55s - loss: 7.6219 - root_mean_squared_error: 2.56 - ETA: 54s - loss: 7.6517 - root_mean_squared_error: 2.56 - ETA: 54s - loss: 7.6716 - root_mean_squared_error: 2.55 - ETA: 54s - loss: 7.6950 - root_mean_squared_error: 2.55 - ETA: 53s - loss: 7.7116 - root_mean_squared_error: 2.55 - ETA: 53s - loss: 7.7297 - root_mean_squared_error: 2.55 - ETA: 53s - loss: 7.7485 - root_mean_squared_error: 2.55 - ETA: 52s - loss: 7.7637 - root_mean_squared_error: 2.55 - ETA: 52s - loss: 7.7752 - root_mean_squared_error: 2.55 - ETA: 52s - loss: 7.7837 - root_mean_squared_error: 2.55 - ETA: 51s - loss: 7.7934 - root_mean_squared_error: 2.55 - ETA: 51s - loss: 7.8021 - root_mean_squared_error: 2.56 - ETA: 51s - loss: 7.8086 - root_mean_squared_error: 2.56 - ETA: 51s - loss: 7.8106 - root_mean_squared_error: 2.56 - ETA: 50s - loss: 7.8100 - root_mean_squared_error: 2.55 - ETA: 50s - loss: 7.8133 - root_mean_squared_error: 2.55 - ETA: 50s - loss: 7.8135 - root_mean_squared_error: 2.55 - ETA: 50s - loss: 7.8158 - root_mean_squared_error: 2.55 - ETA: 49s - loss: 7.8197 - root_mean_squared_error: 2.54 - ETA: 49s - loss: 7.8250 - root_mean_squared_error: 2.54 - ETA: 49s - loss: 7.8349 - root_mean_squared_error: 2.55 - ETA: 49s - loss: 7.8469 - root_mean_squared_error: 2.54 - ETA: 48s - loss: 7.8664 - root_mean_squared_error: 2.54 - ETA: 48s - loss: 7.8911 - root_mean_squared_error: 2.54 - ETA: 48s - loss: 7.9253 - root_mean_squared_error: 2.54 - ETA: 48s - loss: 7.9622 - root_mean_squared_error: 2.54 - ETA: 47s - loss: 8.0059 - root_mean_squared_error: 2.54 - ETA: 47s - loss: 8.0473 - root_mean_squared_error: 2.54 - ETA: 47s - loss: 8.0919 - root_mean_squared_error: 2.54 - ETA: 47s - loss: 8.1326 - root_mean_squared_error: 2.54 - ETA: 46s - loss: 8.1735 - root_mean_squared_error: 2.54 - ETA: 46s - loss: 8.2098 - root_mean_squared_error: 2.54 - ETA: 46s - loss: 8.2436 - root_mean_squared_error: 2.54 - ETA: 46s - loss: 8.2757 - root_mean_squared_error: 2.54 - ETA: 45s - loss: 8.3036 - root_mean_squared_error: 2.53 - ETA: 45s - loss: 8.3301 - root_mean_squared_error: 2.53 - ETA: 45s - loss: 8.3542 - root_mean_squared_error: 2.53 - ETA: 44s - loss: 8.3756 - root_mean_squared_error: 2.53 - ETA: 44s - loss: 8.3999 - root_mean_squared_error: 2.53 - ETA: 44s - loss: 8.4179 - root_mean_squared_error: 2.53 - ETA: 43s - loss: 8.4417 - root_mean_squared_error: 2.54 - ETA: 43s - loss: 8.4624 - root_mean_squared_error: 2.54 - ETA: 43s - loss: 8.4893 - root_mean_squared_error: 2.54 - ETA: 43s - loss: 8.5218 - root_mean_squared_error: 2.54 - ETA: 42s - loss: 8.5573 - root_mean_squared_error: 2.54 - ETA: 42s - loss: 8.5973 - root_mean_squared_error: 2.54 - ETA: 42s - loss: 8.6418 - root_mean_squared_error: 2.54 - ETA: 41s - loss: 8.6900 - root_mean_squared_error: 2.54 - ETA: 41s - loss: 8.7336 - root_mean_squared_error: 2.54 - ETA: 41s - loss: 8.7762 - root_mean_squared_error: 2.54 - ETA: 41s - loss: 8.8216 - root_mean_squared_error: 2.54 - ETA: 40s - loss: 8.8651 - root_mean_squared_error: 2.54 - ETA: 40s - loss: 8.9064 - root_mean_squared_error: 2.54 - ETA: 40s - loss: 8.9443 - root_mean_squared_error: 2.55 - ETA: 40s - loss: 8.9780 - root_mean_squared_error: 2.55 - ETA: 39s - loss: 9.0095 - root_mean_squared_error: 2.55 - ETA: 39s - loss: 9.0379 - root_mean_squared_error: 2.55 - ETA: 39s - loss: 9.0589 - root_mean_squared_error: 2.55 - ETA: 39s - loss: 9.0763 - root_mean_squared_error: 2.55 - ETA: 38s - loss: 9.0898 - root_mean_squared_error: 2.55 - ETA: 38s - loss: 9.1030 - root_mean_squared_error: 2.55 - ETA: 38s - loss: 9.1111 - root_mean_squared_error: 2.55 - ETA: 38s - loss: 9.1159 - root_mean_squared_error: 2.55 - ETA: 37s - loss: 9.1189 - root_mean_squared_error: 2.56 - ETA: 37s - loss: 9.1191 - root_mean_squared_error: 2.56 - ETA: 37s - loss: 9.1191 - root_mean_squared_error: 2.56 - ETA: 37s - loss: 9.1196 - root_mean_squared_error: 2.56 - ETA: 36s - loss: 9.1207 - root_mean_squared_error: 2.56 - ETA: 36s - loss: 9.1264 - root_mean_squared_error: 2.56 - ETA: 36s - loss: 9.1334 - root_mean_squared_error: 2.56 - ETA: 36s - loss: 9.1417 - root_mean_squared_error: 2.56 - ETA: 35s - loss: 9.1535 - root_mean_squared_error: 2.56 - ETA: 35s - loss: 9.1684 - root_mean_squared_error: 2.56 - ETA: 35s - loss: 9.1861 - root_mean_squared_error: 2.56 - ETA: 34s - loss: 9.2095 - root_mean_squared_error: 2.56 - ETA: 34s - loss: 9.2331 - root_mean_squared_error: 2.56 - ETA: 34s - loss: 9.2579 - root_mean_squared_error: 2.56 - ETA: 34s - loss: 9.2837 - root_mean_squared_error: 2.56 - ETA: 33s - loss: 9.3086 - root_mean_squared_error: 2.56 - ETA: 33s - loss: 9.3360 - root_mean_squared_error: 2.56 - ETA: 33s - loss: 9.3621 - root_mean_squared_error: 2.56 - ETA: 32s - loss: 9.3867 - root_mean_squared_error: 2.56 - ETA: 32s - loss: 9.4127 - root_mean_squared_error: 2.56 - ETA: 32s - loss: 9.4361 - root_mean_squared_error: 2.56 - ETA: 32s - loss: 9.4577 - root_mean_squared_error: 2.56 - ETA: 31s - loss: 9.4761 - root_mean_squared_error: 2.56 - ETA: 31s - loss: 9.4919 - root_mean_squared_error: 2.56 - ETA: 31s - loss: 9.5072 - root_mean_squared_error: 2.57 - ETA: 30s - loss: 9.5205 - root_mean_squared_error: 2.57 - ETA: 30s - loss: 9.5286 - root_mean_squared_error: 2.57 - ETA: 30s - loss: 9.5327 - root_mean_squared_error: 2.56 - ETA: 30s - loss: 9.5398 - root_mean_squared_error: 2.57 - ETA: 29s - loss: 9.5408 - root_mean_squared_error: 2.57 - ETA: 29s - loss: 9.5396 - root_mean_squared_error: 2.57 - ETA: 29s - loss: 9.5362 - root_mean_squared_error: 2.57 - ETA: 28s - loss: 9.5348 - root_mean_squared_error: 2.57 - ETA: 28s - loss: 9.5279 - root_mean_squared_error: 2.57 - ETA: 28s - loss: 9.5222 - root_mean_squared_error: 2.57 - ETA: 28s - loss: 9.5170 - root_mean_squared_error: 2.57 - ETA: 27s - loss: 9.5130 - root_mean_squared_error: 2.57 - ETA: 27s - loss: 9.5094 - root_mean_squared_error: 2.57 - ETA: 27s - loss: 9.5069 - root_mean_squared_error: 2.57 - ETA: 26s - loss: 9.5049 - root_mean_squared_error: 2.574438144/59627 [==================>...........] - ETA: 26s - loss: 9.5036 - root_mean_squared_error: 2.57 - ETA: 26s - loss: 9.5024 - root_mean_squared_error: 2.57 - ETA: 26s - loss: 9.5031 - root_mean_squared_error: 2.57 - ETA: 25s - loss: 9.5033 - root_mean_squared_error: 2.57 - ETA: 25s - loss: 9.5062 - root_mean_squared_error: 2.57 - ETA: 25s - loss: 9.5087 - root_mean_squared_error: 2.57 - ETA: 24s - loss: 9.5131 - root_mean_squared_error: 2.57 - ETA: 24s - loss: 9.5182 - root_mean_squared_error: 2.57 - ETA: 24s - loss: 9.5182 - root_mean_squared_error: 2.5737"
     ]
    },
    {
     "ename": "KeyboardInterrupt",
     "evalue": "",
     "output_type": "error",
     "traceback": [
      "\u001b[1;31m---------------------------------------------------------------------------\u001b[0m",
      "\u001b[1;31mKeyboardInterrupt\u001b[0m                         Traceback (most recent call last)",
      "\u001b[1;32m<ipython-input-21-0e0b57221091>\u001b[0m in \u001b[0;36m<module>\u001b[1;34m\u001b[0m\n\u001b[0;32m     20\u001b[0m                         \u001b[0mbatch_size\u001b[0m\u001b[1;33m=\u001b[0m\u001b[0mmini_batch_size\u001b[0m\u001b[1;33m,\u001b[0m \u001b[0mepochs\u001b[0m\u001b[1;33m=\u001b[0m\u001b[1;36m150\u001b[0m\u001b[1;33m,\u001b[0m\u001b[1;33m\u001b[0m\u001b[1;33m\u001b[0m\u001b[0m\n\u001b[0;32m     21\u001b[0m                         \u001b[0mcallbacks\u001b[0m\u001b[1;33m=\u001b[0m\u001b[1;33m[\u001b[0m\u001b[0mclr\u001b[0m\u001b[1;33m]\u001b[0m\u001b[1;33m,\u001b[0m \u001b[0mworkers\u001b[0m\u001b[1;33m=\u001b[0m\u001b[1;36m5\u001b[0m\u001b[1;33m,\u001b[0m\u001b[1;33m\u001b[0m\u001b[1;33m\u001b[0m\u001b[0m\n\u001b[1;32m---> 22\u001b[1;33m                         validation_data=(val_x, val_y))\n\u001b[0m\u001b[0;32m     23\u001b[0m \u001b[1;33m\u001b[0m\u001b[0m\n\u001b[0;32m     24\u001b[0m     \u001b[1;31m# Store the score values on validation dataset\u001b[0m\u001b[1;33m\u001b[0m\u001b[1;33m\u001b[0m\u001b[1;33m\u001b[0m\u001b[0m\n",
      "\u001b[1;32m~\\Anaconda3\\lib\\site-packages\\tensorflow_core\\python\\keras\\engine\\training.py\u001b[0m in \u001b[0;36mfit\u001b[1;34m(self, x, y, batch_size, epochs, verbose, callbacks, validation_split, validation_data, shuffle, class_weight, sample_weight, initial_epoch, steps_per_epoch, validation_steps, validation_freq, max_queue_size, workers, use_multiprocessing, **kwargs)\u001b[0m\n\u001b[0;32m    726\u001b[0m         \u001b[0mmax_queue_size\u001b[0m\u001b[1;33m=\u001b[0m\u001b[0mmax_queue_size\u001b[0m\u001b[1;33m,\u001b[0m\u001b[1;33m\u001b[0m\u001b[1;33m\u001b[0m\u001b[0m\n\u001b[0;32m    727\u001b[0m         \u001b[0mworkers\u001b[0m\u001b[1;33m=\u001b[0m\u001b[0mworkers\u001b[0m\u001b[1;33m,\u001b[0m\u001b[1;33m\u001b[0m\u001b[1;33m\u001b[0m\u001b[0m\n\u001b[1;32m--> 728\u001b[1;33m         use_multiprocessing=use_multiprocessing)\n\u001b[0m\u001b[0;32m    729\u001b[0m \u001b[1;33m\u001b[0m\u001b[0m\n\u001b[0;32m    730\u001b[0m   def evaluate(self,\n",
      "\u001b[1;32m~\\Anaconda3\\lib\\site-packages\\tensorflow_core\\python\\keras\\engine\\training_v2.py\u001b[0m in \u001b[0;36mfit\u001b[1;34m(self, model, x, y, batch_size, epochs, verbose, callbacks, validation_split, validation_data, shuffle, class_weight, sample_weight, initial_epoch, steps_per_epoch, validation_steps, validation_freq, **kwargs)\u001b[0m\n\u001b[0;32m    322\u001b[0m                 \u001b[0mmode\u001b[0m\u001b[1;33m=\u001b[0m\u001b[0mModeKeys\u001b[0m\u001b[1;33m.\u001b[0m\u001b[0mTRAIN\u001b[0m\u001b[1;33m,\u001b[0m\u001b[1;33m\u001b[0m\u001b[1;33m\u001b[0m\u001b[0m\n\u001b[0;32m    323\u001b[0m                 \u001b[0mtraining_context\u001b[0m\u001b[1;33m=\u001b[0m\u001b[0mtraining_context\u001b[0m\u001b[1;33m,\u001b[0m\u001b[1;33m\u001b[0m\u001b[1;33m\u001b[0m\u001b[0m\n\u001b[1;32m--> 324\u001b[1;33m                 total_epochs=epochs)\n\u001b[0m\u001b[0;32m    325\u001b[0m             \u001b[0mcbks\u001b[0m\u001b[1;33m.\u001b[0m\u001b[0mmake_logs\u001b[0m\u001b[1;33m(\u001b[0m\u001b[0mmodel\u001b[0m\u001b[1;33m,\u001b[0m \u001b[0mepoch_logs\u001b[0m\u001b[1;33m,\u001b[0m \u001b[0mtraining_result\u001b[0m\u001b[1;33m,\u001b[0m \u001b[0mModeKeys\u001b[0m\u001b[1;33m.\u001b[0m\u001b[0mTRAIN\u001b[0m\u001b[1;33m)\u001b[0m\u001b[1;33m\u001b[0m\u001b[1;33m\u001b[0m\u001b[0m\n\u001b[0;32m    326\u001b[0m \u001b[1;33m\u001b[0m\u001b[0m\n",
      "\u001b[1;32m~\\Anaconda3\\lib\\site-packages\\tensorflow_core\\python\\keras\\engine\\training_v2.py\u001b[0m in \u001b[0;36mrun_one_epoch\u001b[1;34m(model, iterator, execution_function, dataset_size, batch_size, strategy, steps_per_epoch, num_samples, mode, training_context, total_epochs)\u001b[0m\n\u001b[0;32m    121\u001b[0m         step=step, mode=mode, size=current_batch_size) as batch_logs:\n\u001b[0;32m    122\u001b[0m       \u001b[1;32mtry\u001b[0m\u001b[1;33m:\u001b[0m\u001b[1;33m\u001b[0m\u001b[1;33m\u001b[0m\u001b[0m\n\u001b[1;32m--> 123\u001b[1;33m         \u001b[0mbatch_outs\u001b[0m \u001b[1;33m=\u001b[0m \u001b[0mexecution_function\u001b[0m\u001b[1;33m(\u001b[0m\u001b[0miterator\u001b[0m\u001b[1;33m)\u001b[0m\u001b[1;33m\u001b[0m\u001b[1;33m\u001b[0m\u001b[0m\n\u001b[0m\u001b[0;32m    124\u001b[0m       \u001b[1;32mexcept\u001b[0m \u001b[1;33m(\u001b[0m\u001b[0mStopIteration\u001b[0m\u001b[1;33m,\u001b[0m \u001b[0merrors\u001b[0m\u001b[1;33m.\u001b[0m\u001b[0mOutOfRangeError\u001b[0m\u001b[1;33m)\u001b[0m\u001b[1;33m:\u001b[0m\u001b[1;33m\u001b[0m\u001b[1;33m\u001b[0m\u001b[0m\n\u001b[0;32m    125\u001b[0m         \u001b[1;31m# TODO(kaftan): File bug about tf function and errors.OutOfRangeError?\u001b[0m\u001b[1;33m\u001b[0m\u001b[1;33m\u001b[0m\u001b[1;33m\u001b[0m\u001b[0m\n",
      "\u001b[1;32m~\\Anaconda3\\lib\\site-packages\\tensorflow_core\\python\\keras\\engine\\training_v2_utils.py\u001b[0m in \u001b[0;36mexecution_function\u001b[1;34m(input_fn)\u001b[0m\n\u001b[0;32m     84\u001b[0m     \u001b[1;31m# `numpy` translates Tensors to values in Eager mode.\u001b[0m\u001b[1;33m\u001b[0m\u001b[1;33m\u001b[0m\u001b[1;33m\u001b[0m\u001b[0m\n\u001b[0;32m     85\u001b[0m     return nest.map_structure(_non_none_constant_value,\n\u001b[1;32m---> 86\u001b[1;33m                               distributed_function(input_fn))\n\u001b[0m\u001b[0;32m     87\u001b[0m \u001b[1;33m\u001b[0m\u001b[0m\n\u001b[0;32m     88\u001b[0m   \u001b[1;32mreturn\u001b[0m \u001b[0mexecution_function\u001b[0m\u001b[1;33m\u001b[0m\u001b[1;33m\u001b[0m\u001b[0m\n",
      "\u001b[1;32m~\\Anaconda3\\lib\\site-packages\\tensorflow_core\\python\\eager\\def_function.py\u001b[0m in \u001b[0;36m__call__\u001b[1;34m(self, *args, **kwds)\u001b[0m\n\u001b[0;32m    455\u001b[0m \u001b[1;33m\u001b[0m\u001b[0m\n\u001b[0;32m    456\u001b[0m     \u001b[0mtracing_count\u001b[0m \u001b[1;33m=\u001b[0m \u001b[0mself\u001b[0m\u001b[1;33m.\u001b[0m\u001b[0m_get_tracing_count\u001b[0m\u001b[1;33m(\u001b[0m\u001b[1;33m)\u001b[0m\u001b[1;33m\u001b[0m\u001b[1;33m\u001b[0m\u001b[0m\n\u001b[1;32m--> 457\u001b[1;33m     \u001b[0mresult\u001b[0m \u001b[1;33m=\u001b[0m \u001b[0mself\u001b[0m\u001b[1;33m.\u001b[0m\u001b[0m_call\u001b[0m\u001b[1;33m(\u001b[0m\u001b[1;33m*\u001b[0m\u001b[0margs\u001b[0m\u001b[1;33m,\u001b[0m \u001b[1;33m**\u001b[0m\u001b[0mkwds\u001b[0m\u001b[1;33m)\u001b[0m\u001b[1;33m\u001b[0m\u001b[1;33m\u001b[0m\u001b[0m\n\u001b[0m\u001b[0;32m    458\u001b[0m     \u001b[1;32mif\u001b[0m \u001b[0mtracing_count\u001b[0m \u001b[1;33m==\u001b[0m \u001b[0mself\u001b[0m\u001b[1;33m.\u001b[0m\u001b[0m_get_tracing_count\u001b[0m\u001b[1;33m(\u001b[0m\u001b[1;33m)\u001b[0m\u001b[1;33m:\u001b[0m\u001b[1;33m\u001b[0m\u001b[1;33m\u001b[0m\u001b[0m\n\u001b[0;32m    459\u001b[0m       \u001b[0mself\u001b[0m\u001b[1;33m.\u001b[0m\u001b[0m_call_counter\u001b[0m\u001b[1;33m.\u001b[0m\u001b[0mcalled_without_tracing\u001b[0m\u001b[1;33m(\u001b[0m\u001b[1;33m)\u001b[0m\u001b[1;33m\u001b[0m\u001b[1;33m\u001b[0m\u001b[0m\n",
      "\u001b[1;32m~\\Anaconda3\\lib\\site-packages\\tensorflow_core\\python\\eager\\def_function.py\u001b[0m in \u001b[0;36m_call\u001b[1;34m(self, *args, **kwds)\u001b[0m\n\u001b[0;32m    485\u001b[0m       \u001b[1;31m# In this case we have created variables on the first call, so we run the\u001b[0m\u001b[1;33m\u001b[0m\u001b[1;33m\u001b[0m\u001b[1;33m\u001b[0m\u001b[0m\n\u001b[0;32m    486\u001b[0m       \u001b[1;31m# defunned version which is guaranteed to never create variables.\u001b[0m\u001b[1;33m\u001b[0m\u001b[1;33m\u001b[0m\u001b[1;33m\u001b[0m\u001b[0m\n\u001b[1;32m--> 487\u001b[1;33m       \u001b[1;32mreturn\u001b[0m \u001b[0mself\u001b[0m\u001b[1;33m.\u001b[0m\u001b[0m_stateless_fn\u001b[0m\u001b[1;33m(\u001b[0m\u001b[1;33m*\u001b[0m\u001b[0margs\u001b[0m\u001b[1;33m,\u001b[0m \u001b[1;33m**\u001b[0m\u001b[0mkwds\u001b[0m\u001b[1;33m)\u001b[0m  \u001b[1;31m# pylint: disable=not-callable\u001b[0m\u001b[1;33m\u001b[0m\u001b[1;33m\u001b[0m\u001b[0m\n\u001b[0m\u001b[0;32m    488\u001b[0m     \u001b[1;32melif\u001b[0m \u001b[0mself\u001b[0m\u001b[1;33m.\u001b[0m\u001b[0m_stateful_fn\u001b[0m \u001b[1;32mis\u001b[0m \u001b[1;32mnot\u001b[0m \u001b[1;32mNone\u001b[0m\u001b[1;33m:\u001b[0m\u001b[1;33m\u001b[0m\u001b[1;33m\u001b[0m\u001b[0m\n\u001b[0;32m    489\u001b[0m       \u001b[1;31m# Release the lock early so that multiple threads can perform the call\u001b[0m\u001b[1;33m\u001b[0m\u001b[1;33m\u001b[0m\u001b[1;33m\u001b[0m\u001b[0m\n",
      "\u001b[1;32m~\\Anaconda3\\lib\\site-packages\\tensorflow_core\\python\\eager\\function.py\u001b[0m in \u001b[0;36m__call__\u001b[1;34m(self, *args, **kwargs)\u001b[0m\n\u001b[0;32m   1821\u001b[0m     \u001b[1;34m\"\"\"Calls a graph function specialized to the inputs.\"\"\"\u001b[0m\u001b[1;33m\u001b[0m\u001b[1;33m\u001b[0m\u001b[0m\n\u001b[0;32m   1822\u001b[0m     \u001b[0mgraph_function\u001b[0m\u001b[1;33m,\u001b[0m \u001b[0margs\u001b[0m\u001b[1;33m,\u001b[0m \u001b[0mkwargs\u001b[0m \u001b[1;33m=\u001b[0m \u001b[0mself\u001b[0m\u001b[1;33m.\u001b[0m\u001b[0m_maybe_define_function\u001b[0m\u001b[1;33m(\u001b[0m\u001b[0margs\u001b[0m\u001b[1;33m,\u001b[0m \u001b[0mkwargs\u001b[0m\u001b[1;33m)\u001b[0m\u001b[1;33m\u001b[0m\u001b[1;33m\u001b[0m\u001b[0m\n\u001b[1;32m-> 1823\u001b[1;33m     \u001b[1;32mreturn\u001b[0m \u001b[0mgraph_function\u001b[0m\u001b[1;33m.\u001b[0m\u001b[0m_filtered_call\u001b[0m\u001b[1;33m(\u001b[0m\u001b[0margs\u001b[0m\u001b[1;33m,\u001b[0m \u001b[0mkwargs\u001b[0m\u001b[1;33m)\u001b[0m  \u001b[1;31m# pylint: disable=protected-access\u001b[0m\u001b[1;33m\u001b[0m\u001b[1;33m\u001b[0m\u001b[0m\n\u001b[0m\u001b[0;32m   1824\u001b[0m \u001b[1;33m\u001b[0m\u001b[0m\n\u001b[0;32m   1825\u001b[0m   \u001b[1;33m@\u001b[0m\u001b[0mproperty\u001b[0m\u001b[1;33m\u001b[0m\u001b[1;33m\u001b[0m\u001b[0m\n",
      "\u001b[1;32m~\\Anaconda3\\lib\\site-packages\\tensorflow_core\\python\\eager\\function.py\u001b[0m in \u001b[0;36m_filtered_call\u001b[1;34m(self, args, kwargs)\u001b[0m\n\u001b[0;32m   1139\u001b[0m          if isinstance(t, (ops.Tensor,\n\u001b[0;32m   1140\u001b[0m                            resource_variable_ops.BaseResourceVariable))),\n\u001b[1;32m-> 1141\u001b[1;33m         self.captured_inputs)\n\u001b[0m\u001b[0;32m   1142\u001b[0m \u001b[1;33m\u001b[0m\u001b[0m\n\u001b[0;32m   1143\u001b[0m   \u001b[1;32mdef\u001b[0m \u001b[0m_call_flat\u001b[0m\u001b[1;33m(\u001b[0m\u001b[0mself\u001b[0m\u001b[1;33m,\u001b[0m \u001b[0margs\u001b[0m\u001b[1;33m,\u001b[0m \u001b[0mcaptured_inputs\u001b[0m\u001b[1;33m,\u001b[0m \u001b[0mcancellation_manager\u001b[0m\u001b[1;33m=\u001b[0m\u001b[1;32mNone\u001b[0m\u001b[1;33m)\u001b[0m\u001b[1;33m:\u001b[0m\u001b[1;33m\u001b[0m\u001b[1;33m\u001b[0m\u001b[0m\n",
      "\u001b[1;32m~\\Anaconda3\\lib\\site-packages\\tensorflow_core\\python\\eager\\function.py\u001b[0m in \u001b[0;36m_call_flat\u001b[1;34m(self, args, captured_inputs, cancellation_manager)\u001b[0m\n\u001b[0;32m   1222\u001b[0m     \u001b[1;32mif\u001b[0m \u001b[0mexecuting_eagerly\u001b[0m\u001b[1;33m:\u001b[0m\u001b[1;33m\u001b[0m\u001b[1;33m\u001b[0m\u001b[0m\n\u001b[0;32m   1223\u001b[0m       flat_outputs = forward_function.call(\n\u001b[1;32m-> 1224\u001b[1;33m           ctx, args, cancellation_manager=cancellation_manager)\n\u001b[0m\u001b[0;32m   1225\u001b[0m     \u001b[1;32melse\u001b[0m\u001b[1;33m:\u001b[0m\u001b[1;33m\u001b[0m\u001b[1;33m\u001b[0m\u001b[0m\n\u001b[0;32m   1226\u001b[0m       \u001b[0mgradient_name\u001b[0m \u001b[1;33m=\u001b[0m \u001b[0mself\u001b[0m\u001b[1;33m.\u001b[0m\u001b[0m_delayed_rewrite_functions\u001b[0m\u001b[1;33m.\u001b[0m\u001b[0mregister\u001b[0m\u001b[1;33m(\u001b[0m\u001b[1;33m)\u001b[0m\u001b[1;33m\u001b[0m\u001b[1;33m\u001b[0m\u001b[0m\n",
      "\u001b[1;32m~\\Anaconda3\\lib\\site-packages\\tensorflow_core\\python\\eager\\function.py\u001b[0m in \u001b[0;36mcall\u001b[1;34m(self, ctx, args, cancellation_manager)\u001b[0m\n\u001b[0;32m    509\u001b[0m               \u001b[0minputs\u001b[0m\u001b[1;33m=\u001b[0m\u001b[0margs\u001b[0m\u001b[1;33m,\u001b[0m\u001b[1;33m\u001b[0m\u001b[1;33m\u001b[0m\u001b[0m\n\u001b[0;32m    510\u001b[0m               \u001b[0mattrs\u001b[0m\u001b[1;33m=\u001b[0m\u001b[1;33m(\u001b[0m\u001b[1;34m\"executor_type\"\u001b[0m\u001b[1;33m,\u001b[0m \u001b[0mexecutor_type\u001b[0m\u001b[1;33m,\u001b[0m \u001b[1;34m\"config_proto\"\u001b[0m\u001b[1;33m,\u001b[0m \u001b[0mconfig\u001b[0m\u001b[1;33m)\u001b[0m\u001b[1;33m,\u001b[0m\u001b[1;33m\u001b[0m\u001b[1;33m\u001b[0m\u001b[0m\n\u001b[1;32m--> 511\u001b[1;33m               ctx=ctx)\n\u001b[0m\u001b[0;32m    512\u001b[0m         \u001b[1;32melse\u001b[0m\u001b[1;33m:\u001b[0m\u001b[1;33m\u001b[0m\u001b[1;33m\u001b[0m\u001b[0m\n\u001b[0;32m    513\u001b[0m           outputs = execute.execute_with_cancellation(\n",
      "\u001b[1;32m~\\Anaconda3\\lib\\site-packages\\tensorflow_core\\python\\eager\\execute.py\u001b[0m in \u001b[0;36mquick_execute\u001b[1;34m(op_name, num_outputs, inputs, attrs, ctx, name)\u001b[0m\n\u001b[0;32m     59\u001b[0m     tensors = pywrap_tensorflow.TFE_Py_Execute(ctx._handle, device_name,\n\u001b[0;32m     60\u001b[0m                                                \u001b[0mop_name\u001b[0m\u001b[1;33m,\u001b[0m \u001b[0minputs\u001b[0m\u001b[1;33m,\u001b[0m \u001b[0mattrs\u001b[0m\u001b[1;33m,\u001b[0m\u001b[1;33m\u001b[0m\u001b[1;33m\u001b[0m\u001b[0m\n\u001b[1;32m---> 61\u001b[1;33m                                                num_outputs)\n\u001b[0m\u001b[0;32m     62\u001b[0m   \u001b[1;32mexcept\u001b[0m \u001b[0mcore\u001b[0m\u001b[1;33m.\u001b[0m\u001b[0m_NotOkStatusException\u001b[0m \u001b[1;32mas\u001b[0m \u001b[0me\u001b[0m\u001b[1;33m:\u001b[0m\u001b[1;33m\u001b[0m\u001b[1;33m\u001b[0m\u001b[0m\n\u001b[0;32m     63\u001b[0m     \u001b[1;32mif\u001b[0m \u001b[0mname\u001b[0m \u001b[1;32mis\u001b[0m \u001b[1;32mnot\u001b[0m \u001b[1;32mNone\u001b[0m\u001b[1;33m:\u001b[0m\u001b[1;33m\u001b[0m\u001b[1;33m\u001b[0m\u001b[0m\n",
      "\u001b[1;31mKeyboardInterrupt\u001b[0m: "
     ]
    }
   ],
   "source": [
    "# Train the model using K-fold\n",
    "counter = 0\n",
    "\n",
    "for train, val in kfold.split(Xtrain, Ytrain):\n",
    "    counter += 1\n",
    "    train_x, train_y = Xtrain[train], Ytrain[train]\n",
    "    val_x, val_y = Xtrain[val], Ytrain[val]\n",
    "\n",
    "    # Create the model\n",
    "    model = nn_model(Xtrain.shape[1])\n",
    "\n",
    "    # Compile model to configure the learning process\n",
    "    model.compile(loss=custom_loss_rmse, optimizer=Adam(lr=min_lr), metrics=[RootMeanSquaredError()])\n",
    "\n",
    "    # Triangular learning rate policy\n",
    "    clr = CyclicLR(base_lr=min_lr, max_lr=max_lr, mode=clr_method, step_size=step_size)\n",
    "\n",
    "    # Fit the model\n",
    "    history = model.fit(x=train_x, y=train_y, \n",
    "                        batch_size=mini_batch_size, epochs=150, \n",
    "                        callbacks=[clr], workers=5,\n",
    "                        validation_data=(val_x, val_y))\n",
    "    \n",
    "    # Store the score values on validation dataset\n",
    "    scores = model.evaluate(x=Xtest, y=Ytest, verbose=0)\n",
    "    print(\"%s: %.2f\" % (model.metrics_names[1], scores[1]))\n",
    "    cvscores.append(scores[1])\n",
    "\n",
    "    # Run predictions\n",
    "    pred1 = model.predict(x=Xtest)\n",
    "    pred2 = model.predict(x=Xpredict)\n",
    "    y_pred += pred1\n",
    "    Ypredict += pred2\n",
    "\n",
    "    # Store the history object values for learning curves plotting\n",
    "    loss_values[\"train_loss_\"+str(counter)] = history.history['loss']\n",
    "    rmse_values[\"train_rmse_\"+str(counter)] = history.history['root_mean_squared_error']\n",
    "\n",
    "print(\"%.2f (+/- %.2f)\" % (np.mean(cvscores), np.std(cvscores)))\n",
    "y_pred /= float(counter)\n",
    "Ypredict /= float(counter)"
   ]
  },
  {
   "cell_type": "code",
   "execution_count": 0,
   "metadata": {
    "colab": {
     "base_uri": "https://localhost:8080/",
     "height": 34
    },
    "colab_type": "code",
    "executionInfo": {
     "elapsed": 2491,
     "status": "ok",
     "timestamp": 1577731386559,
     "user": {
      "displayName": "TAPAS DAS",
      "photoUrl": "https://lh3.googleusercontent.com/a-/AAuE7mAWMXeao3oujURH7jI31N9NlnBx3o-Qy3i2T8kupg=s64",
      "userId": "10798398878324948542"
     },
     "user_tz": -330
    },
    "id": "I_KeC0GFwdgB",
    "outputId": "89928361-6d9d-49d2-c682-2d576525f84f"
   },
   "outputs": [
    {
     "name": "stdout",
     "output_type": "stream",
     "text": [
      "0.7317305975483955\n"
     ]
    }
   ],
   "source": [
    "test_rmse = np.sqrt(np.mean((y_pred - Ytest)**2))\n",
    "print(test_rmse)"
   ]
  },
  {
   "cell_type": "markdown",
   "metadata": {
    "colab_type": "text",
    "id": "xyiP06xHMvxB"
   },
   "source": [
    "## Plot the learning curves to show the learning process"
   ]
  },
  {
   "cell_type": "code",
   "execution_count": 0,
   "metadata": {
    "colab": {
     "base_uri": "https://localhost:8080/",
     "height": 513
    },
    "colab_type": "code",
    "executionInfo": {
     "elapsed": 1551,
     "status": "ok",
     "timestamp": 1577727970804,
     "user": {
      "displayName": "TAPAS DAS",
      "photoUrl": "https://lh3.googleusercontent.com/a-/AAuE7mAWMXeao3oujURH7jI31N9NlnBx3o-Qy3i2T8kupg=s64",
      "userId": "10798398878324948542"
     },
     "user_tz": -330
    },
    "id": "9s4E3iZ3sDc6",
    "outputId": "33896e41-f643-4898-c84b-8ef6dc1d2d52"
   },
   "outputs": [
    {
     "data": {
      "image/png": "[encoded data removed]",
      "text/plain": [
       "<Figure size 720x576 with 1 Axes>"
      ]
     },
     "metadata": {
      "tags": []
     },
     "output_type": "display_data"
    }
   ],
   "source": [
    "plt.figure(figsize=(10,8))\n",
    "plt.plot(loss_values[\"train_loss_1\"], label='train_loss_1')\n",
    "plt.plot(loss_values[\"train_loss_2\"], label='train_loss_2')\n",
    "plt.plot(loss_values[\"train_loss_3\"], label='train_loss_3')\n",
    "plt.plot(loss_values[\"train_loss_4\"], label='train_loss_4')\n",
    "plt.plot(loss_values[\"train_loss_5\"], label='train_loss_5')\n",
    "plt.ylabel('Cost')\n",
    "plt.xlabel('Epoch #')\n",
    "plt.title(\"Model Loss Curve\")\n",
    "plt.legend()\n",
    "plt.grid()\n",
    "plt.show()"
   ]
  },
  {
   "cell_type": "code",
   "execution_count": 0,
   "metadata": {
    "colab": {
     "base_uri": "https://localhost:8080/",
     "height": 513
    },
    "colab_type": "code",
    "executionInfo": {
     "elapsed": 1495,
     "status": "ok",
     "timestamp": 1577727975313,
     "user": {
      "displayName": "TAPAS DAS",
      "photoUrl": "https://lh3.googleusercontent.com/a-/AAuE7mAWMXeao3oujURH7jI31N9NlnBx3o-Qy3i2T8kupg=s64",
      "userId": "10798398878324948542"
     },
     "user_tz": -330
    },
    "id": "90cgKpWpsDc9",
    "outputId": "6ee2fe20-f3aa-4c27-88a7-9cabf56d3cd1"
   },
   "outputs": [
    {
     "data": {
      "image/png": "[encoded data removed]",
      "text/plain": [
       "<Figure size 720x576 with 1 Axes>"
      ]
     },
     "metadata": {
      "tags": []
     },
     "output_type": "display_data"
    }
   ],
   "source": [
    "plt.figure(figsize=(10,8))\n",
    "plt.plot(rmse_values[\"train_rmse_1\"], label='train_rmse_1')\n",
    "plt.plot(rmse_values[\"train_rmse_2\"], label='train_rmse_2')\n",
    "plt.plot(rmse_values[\"train_rmse_3\"], label='train_rmse_3')\n",
    "plt.plot(rmse_values[\"train_rmse_4\"], label='train_rmse_4')\n",
    "plt.plot(rmse_values[\"train_rmse_5\"], label='train_rmse_5')\n",
    "plt.ylabel('RMSE')\n",
    "plt.xlabel('Epoch #')\n",
    "plt.title(\"RMSE Curve\")\n",
    "plt.legend()\n",
    "plt.grid()\n",
    "plt.show()"
   ]
  },
  {
   "cell_type": "code",
   "execution_count": 0,
   "metadata": {
    "colab": {},
    "colab_type": "code",
    "id": "ybSjIaIZsDdB"
   },
   "outputs": [],
   "source": [
    "plt.plot(clr.history[\"lr\"])\n",
    "plt.ylabel('Learning Rate')\n",
    "plt.xlabel('Iteration #')\n",
    "plt.title(\"Cyclical Learning Rate (CLR)\")\n",
    "plt.grid()\n",
    "plt.show()"
   ]
  },
  {
   "cell_type": "markdown",
   "metadata": {
    "colab_type": "text",
    "id": "Vswbxs1hNtLF"
   },
   "source": [
    "## Create submission File"
   ]
  },
  {
   "cell_type": "code",
   "execution_count": 0,
   "metadata": {
    "colab": {},
    "colab_type": "code",
    "id": "-iYo2o3VHrZB"
   },
   "outputs": [],
   "source": [
    "Ypredict = np.exp(Ypredict).astype(int)\n",
    "predict_df = pd.DataFrame(Ypredict, index=None, columns=['Views'])"
   ]
  },
  {
   "cell_type": "code",
   "execution_count": 0,
   "metadata": {
    "colab": {},
    "colab_type": "code",
    "id": "MroeOwgtOKWD"
   },
   "outputs": [],
   "source": [
    "# Read submission file\n",
    "submit_df = pd.read_csv(\"/content/drive/My Drive/Colab Notebooks/Chartbusters Prediction - Foretell The Popularity Of Songs/Datasets/Sample_Submission.csv\")"
   ]
  },
  {
   "cell_type": "code",
   "execution_count": 0,
   "metadata": {
    "colab": {},
    "colab_type": "code",
    "id": "qRh_K9PAOm38"
   },
   "outputs": [],
   "source": [
    "# Create final submission data\n",
    "submit_df['Views'] = predict_df['Views']\n",
    "\n",
    "# Write submission data into a CSV file\n",
    "submit_df.to_excel(\"MySubmission.xlsx\", index=False)"
   ]
  },
  {
   "cell_type": "markdown",
   "metadata": {
    "colab_type": "text",
    "id": "SudKweGJO6Qb"
   },
   "source": [
    "## Save the model (for reusability)"
   ]
  },
  {
   "cell_type": "code",
   "execution_count": 0,
   "metadata": {
    "colab": {},
    "colab_type": "code",
    "id": "MGUEmPb4O9E1"
   },
   "outputs": [],
   "source": [
    "model.save('/content/drive/My Drive/Colab Notebooks/Chartbusters Prediction - Foretell The Popularity Of Songs/Chartbusters_Songs_Popularity_Prediction_Model.h5')"
   ]
  },
  {
   "cell_type": "code",
   "execution_count": 0,
   "metadata": {
    "colab": {},
    "colab_type": "code",
    "id": "0cUjOQb_tlW5"
   },
   "outputs": [],
   "source": []
  }
 ],
 "metadata": {
  "accelerator": "GPU",
  "colab": {
   "collapsed_sections": [
    "SO16gb7gsDam",
    "WBwt6IPVBsuB",
    "9aQT0iPD0Pa-",
    "o-Z-5pCAsDas",
    "8kZ8jBafsDcJ"
   ],
   "machine_shape": "hm",
   "name": "Chartbusters Songs Popularity Prediction (ANN) v4.ipynb",
   "provenance": []
  },
  "kernelspec": {
   "display_name": "Python 3",
   "language": "python",
   "name": "python3"
  },
  "language_info": {
   "codemirror_mode": {
    "name": "ipython",
    "version": 3
   },
   "file_extension": ".py",
   "mimetype": "text/x-python",
   "name": "python",
   "nbconvert_exporter": "python",
   "pygments_lexer": "ipython3",
   "version": "3.8.5"
  }
 },
 "nbformat": 4,
 "nbformat_minor": 1
}
