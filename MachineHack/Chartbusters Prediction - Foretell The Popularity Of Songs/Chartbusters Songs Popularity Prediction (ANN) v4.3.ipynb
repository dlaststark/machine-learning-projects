{
 "cells": [
  {
   "cell_type": "markdown",
   "metadata": {
    "colab_type": "text",
    "id": "UXtVbQm-sDaQ"
   },
   "source": [
    "## Use Case\n",
    "\n",
    "One of our customers strongly believes in technology and have recently backed up its platform using Machine Learning and Artificial Intelligence. Based on data collected from multiple sources on different songs and various artist attributes our customer is excited to challenge the MachineHack community.\n",
    "\n",
    "By analyzing, the chartbusters data to predict the Views of songs, MachineHackers would advance the state of the current platform. This can help our customer understand user behaviour and personalize the user experience. \n",
    "In this hackathon, we challenge the MachineHackers to come up with a prediction algorithm that can predict the views for a given song.\n",
    "\n",
    "Can you predict how popular a song will be in the future?"
   ]
  },
  {
   "cell_type": "markdown",
   "metadata": {
    "colab_type": "text",
    "id": "6xoxPmrOsDaV"
   },
   "source": [
    "## Dataset Description\n",
    "\n",
    "- Data_Train.csv – the training set, 78458 rows with 11 columns.\n",
    "- Data_Test.csv – the test set, 19615 rows with 10 columns, except the Views column.\n",
    "- Sample_Submission.csv – sample submission file format for reference."
   ]
  },
  {
   "cell_type": "markdown",
   "metadata": {
    "colab_type": "text",
    "id": "BR0exVkjsDaX"
   },
   "source": [
    "## Data Dictionary\n",
    "\n",
    "- **Unique_ID** : Unique Identifier.\n",
    "- **Name** : Name of the Artist.\n",
    "- **Genre** : Genre of the Song.\n",
    "- **Country** : Origin Country of Artist.\n",
    "- **Song_Name** : Name of the Song.\n",
    "- **Timestamp** : Release Date and Time.\n",
    "- **Views** : Number of times the song was played/viewed (*Target/Dependent Variable*).\n",
    "- **Comments** : Count of comments for the song.\n",
    "- **Likes** : Count of Likes.\n",
    "- **Popularity** : Popularity score for the artist.\n",
    "- **Followers** : Number of Followers."
   ]
  },
  {
   "cell_type": "code",
   "execution_count": 1,
   "metadata": {
    "colab": {
     "base_uri": "https://localhost:8080/",
     "height": 34
    },
    "colab_type": "code",
    "executionInfo": {
     "elapsed": 1270,
     "status": "ok",
     "timestamp": 1578730441158,
     "user": {
      "displayName": "TAPAS DAS",
      "photoUrl": "https://lh3.googleusercontent.com/a-/AAuE7mAWMXeao3oujURH7jI31N9NlnBx3o-Qy3i2T8kupg=s64",
      "userId": "10798398878324948542"
     },
     "user_tz": -330
    },
    "id": "N0aP6sWSB4ny",
    "outputId": "1da781a2-0cca-4366-df2f-60e6de7d0c5c"
   },
   "outputs": [
    {
     "name": "stdout",
     "output_type": "stream",
     "text": [
      "Drive already mounted at /content/drive/; to attempt to forcibly remount, call drive.mount(\"/content/drive/\", force_remount=True).\n"
     ]
    }
   ],
   "source": [
    "from google.colab import drive\n",
    "drive.mount('/content/drive/')"
   ]
  },
  {
   "cell_type": "code",
   "execution_count": 2,
   "metadata": {
    "colab": {
     "base_uri": "https://localhost:8080/",
     "height": 269
    },
    "colab_type": "code",
    "executionInfo": {
     "elapsed": 3857,
     "status": "ok",
     "timestamp": 1578730444239,
     "user": {
      "displayName": "TAPAS DAS",
      "photoUrl": "https://lh3.googleusercontent.com/a-/AAuE7mAWMXeao3oujURH7jI31N9NlnBx3o-Qy3i2T8kupg=s64",
      "userId": "10798398878324948542"
     },
     "user_tz": -330
    },
    "id": "bUD24K4hB4SX",
    "outputId": "a81cab95-78b5-4958-c130-7c743cfae845"
   },
   "outputs": [
    {
     "name": "stdout",
     "output_type": "stream",
     "text": [
      "'Chartbusters Songs Popularity Prediction (ANN) v1.ipynb'\n",
      "'Chartbusters Songs Popularity Prediction (ANN) v2.ipynb'\n",
      "'Chartbusters Songs Popularity Prediction (ANN) v3.ipynb'\n",
      "'Chartbusters Songs Popularity Prediction (ANN) v4.1.ipynb'\n",
      "'Chartbusters Songs Popularity Prediction (ANN) v4.2.ipynb'\n",
      "'Chartbusters Songs Popularity Prediction (ANN) v4.3.ipynb'\n",
      "'Chartbusters Songs Popularity Prediction (EDA).ipynb'\n",
      "'Chartbusters Songs Popularity Prediction (LGB) v1.ipynb'\n",
      "'Chartbusters Songs Popularity Prediction (LGB) v2.ipynb'\n",
      " Chartbusters_Songs_Popularity_Prediction_Model.h5\n",
      " clr_callback.py\n",
      " Datasets\n",
      " glove.840B.300d.zip\n",
      " learningratefinder.py\n",
      " __pycache__\n"
     ]
    }
   ],
   "source": [
    "!ls \"/content/drive/My Drive/Colab Notebooks/Chartbusters Prediction - Foretell The Popularity Of Songs\""
   ]
  },
  {
   "cell_type": "code",
   "execution_count": 0,
   "metadata": {
    "colab": {},
    "colab_type": "code",
    "id": "EJADS854B4O0"
   },
   "outputs": [],
   "source": [
    "import sys\n",
    "sys.path.insert(1, '/content/drive/My Drive/Colab Notebooks/Chartbusters Prediction - Foretell The Popularity Of Songs')"
   ]
  },
  {
   "cell_type": "code",
   "execution_count": 4,
   "metadata": {
    "colab": {
     "base_uri": "https://localhost:8080/",
     "height": 34
    },
    "colab_type": "code",
    "executionInfo": {
     "elapsed": 2936,
     "status": "ok",
     "timestamp": 1578730444243,
     "user": {
      "displayName": "TAPAS DAS",
      "photoUrl": "https://lh3.googleusercontent.com/a-/AAuE7mAWMXeao3oujURH7jI31N9NlnBx3o-Qy3i2T8kupg=s64",
      "userId": "10798398878324948542"
     },
     "user_tz": -330
    },
    "id": "bpjn6c8JB4KU",
    "outputId": "8ae73729-ac27-485a-f5a7-2d1f68ea7abe"
   },
   "outputs": [
    {
     "name": "stdout",
     "output_type": "stream",
     "text": [
      "TensorFlow 2.x selected.\n"
     ]
    }
   ],
   "source": [
    "%tensorflow_version 2.x"
   ]
  },
  {
   "cell_type": "markdown",
   "metadata": {
    "colab_type": "text",
    "id": "ICUhGQQNsDaZ"
   },
   "source": [
    "## Load necessary packages"
   ]
  },
  {
   "cell_type": "code",
   "execution_count": 5,
   "metadata": {
    "colab": {
     "base_uri": "https://localhost:8080/",
     "height": 927
    },
    "colab_type": "code",
    "executionInfo": {
     "elapsed": 17713,
     "status": "ok",
     "timestamp": 1578730461821,
     "user": {
      "displayName": "TAPAS DAS",
      "photoUrl": "https://lh3.googleusercontent.com/a-/AAuE7mAWMXeao3oujURH7jI31N9NlnBx3o-Qy3i2T8kupg=s64",
      "userId": "10798398878324948542"
     },
     "user_tz": -330
    },
    "id": "BuPrnGgCCqhQ",
    "outputId": "b26a4238-9955-4252-89e4-80f61cc9b488"
   },
   "outputs": [
    {
     "name": "stdout",
     "output_type": "stream",
     "text": [
      "Requirement already satisfied: emoji in /usr/local/lib/python3.6/dist-packages (0.5.4)\n",
      "Requirement already satisfied: holidays in /usr/local/lib/python3.6/dist-packages (0.9.12)\n",
      "Requirement already satisfied: six in /tensorflow-2.1.0/python3.6 (from holidays) (1.13.0)\n",
      "Requirement already satisfied: python-dateutil in /usr/local/lib/python3.6/dist-packages (from holidays) (2.6.1)\n",
      "Requirement already up-to-date: spacy in /usr/local/lib/python3.6/dist-packages (2.2.3)\n",
      "Requirement already satisfied, skipping upgrade: requests<3.0.0,>=2.13.0 in /tensorflow-2.1.0/python3.6 (from spacy) (2.22.0)\n",
      "Requirement already satisfied, skipping upgrade: srsly<1.1.0,>=0.1.0 in /usr/local/lib/python3.6/dist-packages (from spacy) (1.0.1)\n",
      "Requirement already satisfied, skipping upgrade: cymem<2.1.0,>=2.0.2 in /usr/local/lib/python3.6/dist-packages (from spacy) (2.0.3)\n",
      "Requirement already satisfied, skipping upgrade: plac<1.2.0,>=0.9.6 in /usr/local/lib/python3.6/dist-packages (from spacy) (0.9.6)\n",
      "Requirement already satisfied, skipping upgrade: wasabi<1.1.0,>=0.4.0 in /usr/local/lib/python3.6/dist-packages (from spacy) (0.6.0)\n",
      "Requirement already satisfied, skipping upgrade: setuptools in /tensorflow-2.1.0/python3.6 (from spacy) (44.0.0)\n",
      "Requirement already satisfied, skipping upgrade: preshed<3.1.0,>=3.0.2 in /usr/local/lib/python3.6/dist-packages (from spacy) (3.0.2)\n",
      "Requirement already satisfied, skipping upgrade: murmurhash<1.1.0,>=0.28.0 in /usr/local/lib/python3.6/dist-packages (from spacy) (1.0.2)\n",
      "Requirement already satisfied, skipping upgrade: blis<0.5.0,>=0.4.0 in /usr/local/lib/python3.6/dist-packages (from spacy) (0.4.1)\n",
      "Requirement already satisfied, skipping upgrade: thinc<7.4.0,>=7.3.0 in /usr/local/lib/python3.6/dist-packages (from spacy) (7.3.1)\n",
      "Requirement already satisfied, skipping upgrade: catalogue<1.1.0,>=0.0.7 in /usr/local/lib/python3.6/dist-packages (from spacy) (1.0.0)\n",
      "Requirement already satisfied, skipping upgrade: numpy>=1.15.0 in /tensorflow-2.1.0/python3.6 (from spacy) (1.18.1)\n",
      "Requirement already satisfied, skipping upgrade: chardet<3.1.0,>=3.0.2 in /tensorflow-2.1.0/python3.6 (from requests<3.0.0,>=2.13.0->spacy) (3.0.4)\n",
      "Requirement already satisfied, skipping upgrade: certifi>=2017.4.17 in /tensorflow-2.1.0/python3.6 (from requests<3.0.0,>=2.13.0->spacy) (2019.11.28)\n",
      "Requirement already satisfied, skipping upgrade: urllib3!=1.25.0,!=1.25.1,<1.26,>=1.21.1 in /tensorflow-2.1.0/python3.6 (from requests<3.0.0,>=2.13.0->spacy) (1.25.7)\n",
      "Requirement already satisfied, skipping upgrade: idna<2.9,>=2.5 in /tensorflow-2.1.0/python3.6 (from requests<3.0.0,>=2.13.0->spacy) (2.8)\n",
      "Requirement already satisfied, skipping upgrade: tqdm<5.0.0,>=4.10.0 in /usr/local/lib/python3.6/dist-packages (from thinc<7.4.0,>=7.3.0->spacy) (4.28.1)\n",
      "Requirement already satisfied, skipping upgrade: importlib-metadata>=0.20; python_version < \"3.8\" in /usr/local/lib/python3.6/dist-packages (from catalogue<1.1.0,>=0.0.7->spacy) (1.3.0)\n",
      "Requirement already satisfied, skipping upgrade: zipp>=0.5 in /usr/local/lib/python3.6/dist-packages (from importlib-metadata>=0.20; python_version < \"3.8\"->catalogue<1.1.0,>=0.0.7->spacy) (0.6.0)\n",
      "Requirement already satisfied, skipping upgrade: more-itertools in /usr/local/lib/python3.6/dist-packages (from zipp>=0.5->importlib-metadata>=0.20; python_version < \"3.8\"->catalogue<1.1.0,>=0.0.7->spacy) (8.0.2)\n",
      "Requirement already satisfied: en_core_web_sm==2.2.5 from https://github.com/explosion/spacy-models/releases/download/en_core_web_sm-2.2.5/en_core_web_sm-2.2.5.tar.gz#egg=en_core_web_sm==2.2.5 in /usr/local/lib/python3.6/dist-packages (2.2.5)\n",
      "Requirement already satisfied: spacy>=2.2.2 in /usr/local/lib/python3.6/dist-packages (from en_core_web_sm==2.2.5) (2.2.3)\n",
      "Requirement already satisfied: blis<0.5.0,>=0.4.0 in /usr/local/lib/python3.6/dist-packages (from spacy>=2.2.2->en_core_web_sm==2.2.5) (0.4.1)\n",
      "Requirement already satisfied: wasabi<1.1.0,>=0.4.0 in /usr/local/lib/python3.6/dist-packages (from spacy>=2.2.2->en_core_web_sm==2.2.5) (0.6.0)\n",
      "Requirement already satisfied: srsly<1.1.0,>=0.1.0 in /usr/local/lib/python3.6/dist-packages (from spacy>=2.2.2->en_core_web_sm==2.2.5) (1.0.1)\n",
      "Requirement already satisfied: murmurhash<1.1.0,>=0.28.0 in /usr/local/lib/python3.6/dist-packages (from spacy>=2.2.2->en_core_web_sm==2.2.5) (1.0.2)\n",
      "Requirement already satisfied: catalogue<1.1.0,>=0.0.7 in /usr/local/lib/python3.6/dist-packages (from spacy>=2.2.2->en_core_web_sm==2.2.5) (1.0.0)\n",
      "Requirement already satisfied: preshed<3.1.0,>=3.0.2 in /usr/local/lib/python3.6/dist-packages (from spacy>=2.2.2->en_core_web_sm==2.2.5) (3.0.2)\n",
      "Requirement already satisfied: plac<1.2.0,>=0.9.6 in /usr/local/lib/python3.6/dist-packages (from spacy>=2.2.2->en_core_web_sm==2.2.5) (0.9.6)\n",
      "Requirement already satisfied: cymem<2.1.0,>=2.0.2 in /usr/local/lib/python3.6/dist-packages (from spacy>=2.2.2->en_core_web_sm==2.2.5) (2.0.3)\n",
      "Requirement already satisfied: thinc<7.4.0,>=7.3.0 in /usr/local/lib/python3.6/dist-packages (from spacy>=2.2.2->en_core_web_sm==2.2.5) (7.3.1)\n",
      "Requirement already satisfied: numpy>=1.15.0 in /tensorflow-2.1.0/python3.6 (from spacy>=2.2.2->en_core_web_sm==2.2.5) (1.18.1)\n",
      "Requirement already satisfied: setuptools in /tensorflow-2.1.0/python3.6 (from spacy>=2.2.2->en_core_web_sm==2.2.5) (44.0.0)\n",
      "Requirement already satisfied: requests<3.0.0,>=2.13.0 in /tensorflow-2.1.0/python3.6 (from spacy>=2.2.2->en_core_web_sm==2.2.5) (2.22.0)\n",
      "Requirement already satisfied: importlib-metadata>=0.20; python_version < \"3.8\" in /usr/local/lib/python3.6/dist-packages (from catalogue<1.1.0,>=0.0.7->spacy>=2.2.2->en_core_web_sm==2.2.5) (1.3.0)\n",
      "Requirement already satisfied: tqdm<5.0.0,>=4.10.0 in /usr/local/lib/python3.6/dist-packages (from thinc<7.4.0,>=7.3.0->spacy>=2.2.2->en_core_web_sm==2.2.5) (4.28.1)\n",
      "Requirement already satisfied: idna<2.9,>=2.5 in /tensorflow-2.1.0/python3.6 (from requests<3.0.0,>=2.13.0->spacy>=2.2.2->en_core_web_sm==2.2.5) (2.8)\n",
      "Requirement already satisfied: certifi>=2017.4.17 in /tensorflow-2.1.0/python3.6 (from requests<3.0.0,>=2.13.0->spacy>=2.2.2->en_core_web_sm==2.2.5) (2019.11.28)\n",
      "Requirement already satisfied: chardet<3.1.0,>=3.0.2 in /tensorflow-2.1.0/python3.6 (from requests<3.0.0,>=2.13.0->spacy>=2.2.2->en_core_web_sm==2.2.5) (3.0.4)\n",
      "Requirement already satisfied: urllib3!=1.25.0,!=1.25.1,<1.26,>=1.21.1 in /tensorflow-2.1.0/python3.6 (from requests<3.0.0,>=2.13.0->spacy>=2.2.2->en_core_web_sm==2.2.5) (1.25.7)\n",
      "Requirement already satisfied: zipp>=0.5 in /usr/local/lib/python3.6/dist-packages (from importlib-metadata>=0.20; python_version < \"3.8\"->catalogue<1.1.0,>=0.0.7->spacy>=2.2.2->en_core_web_sm==2.2.5) (0.6.0)\n",
      "Requirement already satisfied: more-itertools in /usr/local/lib/python3.6/dist-packages (from zipp>=0.5->importlib-metadata>=0.20; python_version < \"3.8\"->catalogue<1.1.0,>=0.0.7->spacy>=2.2.2->en_core_web_sm==2.2.5) (8.0.2)\n",
      "\u001b[38;5;2m✔ Download and installation successful\u001b[0m\n",
      "You can now load the model via spacy.load('en_core_web_sm')\n",
      "\u001b[38;5;2m✔ Linking successful\u001b[0m\n",
      "/usr/local/lib/python3.6/dist-packages/en_core_web_sm -->\n",
      "/usr/local/lib/python3.6/dist-packages/spacy/data/en\n",
      "You can now load the model via spacy.load('en')\n"
     ]
    }
   ],
   "source": [
    "%pip install emoji\n",
    "%pip install holidays\n",
    "%pip install -U spacy\n",
    "!python -m spacy download en"
   ]
  },
  {
   "cell_type": "code",
   "execution_count": 6,
   "metadata": {
    "colab": {
     "base_uri": "https://localhost:8080/",
     "height": 1000
    },
    "colab_type": "code",
    "executionInfo": {
     "elapsed": 22555,
     "status": "ok",
     "timestamp": 1578730469013,
     "user": {
      "displayName": "TAPAS DAS",
      "photoUrl": "https://lh3.googleusercontent.com/a-/AAuE7mAWMXeao3oujURH7jI31N9NlnBx3o-Qy3i2T8kupg=s64",
      "userId": "10798398878324948542"
     },
     "user_tz": -330
    },
    "id": "RrPKQ40YjG-3",
    "outputId": "f12723e7-7943-4a25-8886-4247b8a68a05"
   },
   "outputs": [
    {
     "name": "stdout",
     "output_type": "stream",
     "text": [
      "Requirement already satisfied: hyperas in /usr/local/lib/python3.6/dist-packages (0.4.1)\n",
      "Requirement already satisfied: jupyter in /usr/local/lib/python3.6/dist-packages (from hyperas) (1.0.0)\n",
      "Requirement already satisfied: nbformat in /usr/local/lib/python3.6/dist-packages (from hyperas) (5.0.3)\n",
      "Requirement already satisfied: nbconvert in /usr/local/lib/python3.6/dist-packages (from hyperas) (5.6.1)\n",
      "Requirement already satisfied: hyperopt in /usr/local/lib/python3.6/dist-packages (from hyperas) (0.1.2)\n",
      "Requirement already satisfied: entrypoints in /usr/local/lib/python3.6/dist-packages (from hyperas) (0.3)\n",
      "Requirement already satisfied: keras in /usr/local/lib/python3.6/dist-packages (from hyperas) (2.2.5)\n",
      "Requirement already satisfied: ipywidgets in /usr/local/lib/python3.6/dist-packages (from jupyter->hyperas) (7.5.1)\n",
      "Requirement already satisfied: qtconsole in /usr/local/lib/python3.6/dist-packages (from jupyter->hyperas) (4.6.0)\n",
      "Requirement already satisfied: notebook in /usr/local/lib/python3.6/dist-packages (from jupyter->hyperas) (5.2.2)\n",
      "Requirement already satisfied: ipykernel in /usr/local/lib/python3.6/dist-packages (from jupyter->hyperas) (4.6.1)\n",
      "Requirement already satisfied: jupyter-console in /usr/local/lib/python3.6/dist-packages (from jupyter->hyperas) (5.2.0)\n",
      "Requirement already satisfied: jsonschema!=2.5.0,>=2.4 in /usr/local/lib/python3.6/dist-packages (from nbformat->hyperas) (2.6.0)\n",
      "Requirement already satisfied: ipython-genutils in /usr/local/lib/python3.6/dist-packages (from nbformat->hyperas) (0.2.0)\n",
      "Requirement already satisfied: traitlets>=4.1 in /usr/local/lib/python3.6/dist-packages (from nbformat->hyperas) (4.3.3)\n",
      "Requirement already satisfied: jupyter-core in /usr/local/lib/python3.6/dist-packages (from nbformat->hyperas) (4.6.1)\n",
      "Requirement already satisfied: defusedxml in /usr/local/lib/python3.6/dist-packages (from nbconvert->hyperas) (0.6.0)\n",
      "Requirement already satisfied: pygments in /usr/local/lib/python3.6/dist-packages (from nbconvert->hyperas) (2.1.3)\n",
      "Requirement already satisfied: pandocfilters>=1.4.1 in /usr/local/lib/python3.6/dist-packages (from nbconvert->hyperas) (1.4.2)\n",
      "Requirement already satisfied: jinja2>=2.4 in /usr/local/lib/python3.6/dist-packages (from nbconvert->hyperas) (2.10.3)\n",
      "Requirement already satisfied: mistune<2,>=0.8.1 in /usr/local/lib/python3.6/dist-packages (from nbconvert->hyperas) (0.8.4)\n",
      "Requirement already satisfied: bleach in /usr/local/lib/python3.6/dist-packages (from nbconvert->hyperas) (3.1.0)\n",
      "Requirement already satisfied: testpath in /usr/local/lib/python3.6/dist-packages (from nbconvert->hyperas) (0.4.4)\n",
      "Requirement already satisfied: six in /tensorflow-2.1.0/python3.6 (from hyperopt->hyperas) (1.13.0)\n",
      "Requirement already satisfied: tqdm in /usr/local/lib/python3.6/dist-packages (from hyperopt->hyperas) (4.28.1)\n",
      "Requirement already satisfied: future in /usr/local/lib/python3.6/dist-packages (from hyperopt->hyperas) (0.16.0)\n",
      "Requirement already satisfied: numpy in /tensorflow-2.1.0/python3.6 (from hyperopt->hyperas) (1.18.1)\n",
      "Requirement already satisfied: networkx in /usr/local/lib/python3.6/dist-packages (from hyperopt->hyperas) (2.4)\n",
      "Requirement already satisfied: pymongo in /usr/local/lib/python3.6/dist-packages (from hyperopt->hyperas) (3.10.0)\n",
      "Requirement already satisfied: scipy in /usr/local/lib/python3.6/dist-packages (from hyperopt->hyperas) (1.4.1)\n",
      "Requirement already satisfied: keras-applications>=1.0.8 in /tensorflow-2.1.0/python3.6 (from keras->hyperas) (1.0.8)\n",
      "Requirement already satisfied: keras-preprocessing>=1.1.0 in /tensorflow-2.1.0/python3.6 (from keras->hyperas) (1.1.0)\n",
      "Requirement already satisfied: h5py in /tensorflow-2.1.0/python3.6 (from keras->hyperas) (2.10.0)\n",
      "Requirement already satisfied: pyyaml in /usr/local/lib/python3.6/dist-packages (from keras->hyperas) (3.13)\n",
      "Requirement already satisfied: ipython>=4.0.0; python_version >= \"3.3\" in /usr/local/lib/python3.6/dist-packages (from ipywidgets->jupyter->hyperas) (5.5.0)\n",
      "Requirement already satisfied: widgetsnbextension~=3.5.0 in /usr/local/lib/python3.6/dist-packages (from ipywidgets->jupyter->hyperas) (3.5.1)\n",
      "Requirement already satisfied: jupyter-client>=4.1 in /usr/local/lib/python3.6/dist-packages (from qtconsole->jupyter->hyperas) (5.3.4)\n",
      "Requirement already satisfied: tornado>=4 in /usr/local/lib/python3.6/dist-packages (from notebook->jupyter->hyperas) (4.5.3)\n",
      "Requirement already satisfied: terminado>=0.3.3; sys_platform != \"win32\" in /usr/local/lib/python3.6/dist-packages (from notebook->jupyter->hyperas) (0.8.3)\n",
      "Requirement already satisfied: prompt-toolkit<2.0.0,>=1.0.0 in /usr/local/lib/python3.6/dist-packages (from jupyter-console->jupyter->hyperas) (1.0.18)\n",
      "Requirement already satisfied: decorator in /usr/local/lib/python3.6/dist-packages (from traitlets>=4.1->nbformat->hyperas) (4.4.1)\n",
      "Requirement already satisfied: MarkupSafe>=0.23 in /usr/local/lib/python3.6/dist-packages (from jinja2>=2.4->nbconvert->hyperas) (1.1.1)\n",
      "Requirement already satisfied: webencodings in /usr/local/lib/python3.6/dist-packages (from bleach->nbconvert->hyperas) (0.5.1)\n",
      "Requirement already satisfied: setuptools>=18.5 in /tensorflow-2.1.0/python3.6 (from ipython>=4.0.0; python_version >= \"3.3\"->ipywidgets->jupyter->hyperas) (44.0.0)\n",
      "Requirement already satisfied: simplegeneric>0.8 in /usr/local/lib/python3.6/dist-packages (from ipython>=4.0.0; python_version >= \"3.3\"->ipywidgets->jupyter->hyperas) (0.8.1)\n",
      "Requirement already satisfied: pexpect; sys_platform != \"win32\" in /usr/local/lib/python3.6/dist-packages (from ipython>=4.0.0; python_version >= \"3.3\"->ipywidgets->jupyter->hyperas) (4.7.0)\n",
      "Requirement already satisfied: pickleshare in /usr/local/lib/python3.6/dist-packages (from ipython>=4.0.0; python_version >= \"3.3\"->ipywidgets->jupyter->hyperas) (0.7.5)\n",
      "Requirement already satisfied: python-dateutil>=2.1 in /usr/local/lib/python3.6/dist-packages (from jupyter-client>=4.1->qtconsole->jupyter->hyperas) (2.6.1)\n",
      "Requirement already satisfied: pyzmq>=13 in /usr/local/lib/python3.6/dist-packages (from jupyter-client>=4.1->qtconsole->jupyter->hyperas) (17.0.0)\n",
      "Requirement already satisfied: ptyprocess; os_name != \"nt\" in /usr/local/lib/python3.6/dist-packages (from terminado>=0.3.3; sys_platform != \"win32\"->notebook->jupyter->hyperas) (0.6.0)\n",
      "Requirement already satisfied: wcwidth in /usr/local/lib/python3.6/dist-packages (from prompt-toolkit<2.0.0,>=1.0.0->jupyter-console->jupyter->hyperas) (0.1.8)\n",
      "Requirement already satisfied: hyperopt in /usr/local/lib/python3.6/dist-packages (0.1.2)\n",
      "Requirement already satisfied: numpy in /tensorflow-2.1.0/python3.6 (from hyperopt) (1.18.1)\n",
      "Requirement already satisfied: tqdm in /usr/local/lib/python3.6/dist-packages (from hyperopt) (4.28.1)\n",
      "Requirement already satisfied: future in /usr/local/lib/python3.6/dist-packages (from hyperopt) (0.16.0)\n",
      "Requirement already satisfied: pymongo in /usr/local/lib/python3.6/dist-packages (from hyperopt) (3.10.0)\n",
      "Requirement already satisfied: scipy in /usr/local/lib/python3.6/dist-packages (from hyperopt) (1.4.1)\n",
      "Requirement already satisfied: networkx in /usr/local/lib/python3.6/dist-packages (from hyperopt) (2.4)\n",
      "Requirement already satisfied: six in /tensorflow-2.1.0/python3.6 (from hyperopt) (1.13.0)\n",
      "Requirement already satisfied: decorator>=4.3.0 in /usr/local/lib/python3.6/dist-packages (from networkx->hyperopt) (4.4.1)\n"
     ]
    }
   ],
   "source": [
    "!pip install hyperas\n",
    "!pip install hyperopt"
   ]
  },
  {
   "cell_type": "code",
   "execution_count": 7,
   "metadata": {
    "colab": {
     "base_uri": "https://localhost:8080/",
     "height": 84
    },
    "colab_type": "code",
    "executionInfo": {
     "elapsed": 24740,
     "status": "ok",
     "timestamp": 1578730472180,
     "user": {
      "displayName": "TAPAS DAS",
      "photoUrl": "https://lh3.googleusercontent.com/a-/AAuE7mAWMXeao3oujURH7jI31N9NlnBx3o-Qy3i2T8kupg=s64",
      "userId": "10798398878324948542"
     },
     "user_tz": -330
    },
    "id": "fv8D3ZhGsDab",
    "outputId": "4e84fedd-d76a-4881-e4e2-015dc66d9acb"
   },
   "outputs": [
    {
     "name": "stdout",
     "output_type": "stream",
     "text": [
      "[nltk_data] Downloading package punkt to /root/nltk_data...\n",
      "[nltk_data]   Package punkt is already up-to-date!\n",
      "[nltk_data] Downloading package stopwords to /root/nltk_data...\n",
      "[nltk_data]   Package stopwords is already up-to-date!\n"
     ]
    }
   ],
   "source": [
    "import pandas as pd\n",
    "import numpy as np\n",
    "import matplotlib.pyplot as plt\n",
    "import seaborn as sns\n",
    "import string\n",
    "import holidays\n",
    "from bisect import bisect_left, bisect_right\n",
    "\n",
    "import nltk\n",
    "nltk.download('punkt')\n",
    "nltk.download('stopwords')\n",
    "from nltk import sent_tokenize\n",
    "from nltk import word_tokenize\n",
    "from nltk.corpus import stopwords\n",
    "import emoji\n",
    "\n",
    "import spacy\n",
    "from spacy.lemmatizer import Lemmatizer\n",
    "from spacy.lookups import Lookups\n",
    "\n",
    "from tqdm import tqdm\n",
    "from sklearn.feature_extraction.text import TfidfVectorizer, CountVectorizer\n",
    "from sklearn.model_selection import train_test_split\n",
    "from sklearn.preprocessing import StandardScaler, MinMaxScaler, RobustScaler\n",
    "from sklearn.model_selection import KFold\n",
    "from sklearn.metrics import mean_squared_error\n",
    "\n",
    "import tensorflow as tf\n",
    "import tensorflow_hub as hub\n",
    "from tensorflow.keras.optimizers import Adam, Nadam, Adamax\n",
    "from tensorflow.keras.layers import Input, Dense, BatchNormalization, Dropout\n",
    "from tensorflow.keras.models import Model\n",
    "from tensorflow.keras.metrics import RootMeanSquaredError\n",
    "from tensorflow.keras.regularizers import l2\n",
    "from tensorflow.keras.initializers import he_uniform"
   ]
  },
  {
   "cell_type": "code",
   "execution_count": 0,
   "metadata": {
    "colab": {},
    "colab_type": "code",
    "id": "AJZi87IMsDah"
   },
   "outputs": [],
   "source": [
    "from learningratefinder import LearningRateFinder\n",
    "from clr_callback import CyclicLR"
   ]
  },
  {
   "cell_type": "code",
   "execution_count": 0,
   "metadata": {
    "colab": {},
    "colab_type": "code",
    "id": "Bv9CFPBnjo5l"
   },
   "outputs": [],
   "source": [
    "import hyperopt\n",
    "from hyperopt import fmin, tpe, hp, STATUS_OK, Trials"
   ]
  },
  {
   "cell_type": "code",
   "execution_count": 10,
   "metadata": {
    "colab": {
     "base_uri": "https://localhost:8080/",
     "height": 34
    },
    "colab_type": "code",
    "executionInfo": {
     "elapsed": 22040,
     "status": "ok",
     "timestamp": 1578730472188,
     "user": {
      "displayName": "TAPAS DAS",
      "photoUrl": "https://lh3.googleusercontent.com/a-/AAuE7mAWMXeao3oujURH7jI31N9NlnBx3o-Qy3i2T8kupg=s64",
      "userId": "10798398878324948542"
     },
     "user_tz": -330
    },
    "id": "nySRdwJJt-eC",
    "outputId": "582ead4d-a680-4c53-f87b-c96f367101ad"
   },
   "outputs": [
    {
     "name": "stdout",
     "output_type": "stream",
     "text": [
      "2.1.0-rc1\n"
     ]
    }
   ],
   "source": [
    "print(tf.__version__)"
   ]
  },
  {
   "cell_type": "markdown",
   "metadata": {
    "colab_type": "text",
    "id": "SO16gb7gsDam"
   },
   "source": [
    "## Set file paths for train and test datasets"
   ]
  },
  {
   "cell_type": "code",
   "execution_count": 0,
   "metadata": {
    "colab": {},
    "colab_type": "code",
    "id": "O4OgWKvSsDan"
   },
   "outputs": [],
   "source": [
    "train_dataset = \"/content/drive/My Drive/Colab Notebooks/Chartbusters Prediction - Foretell The Popularity Of Songs/Datasets/Data_Train.csv\"\n",
    "test_dataset = \"/content/drive/My Drive/Colab Notebooks/Chartbusters Prediction - Foretell The Popularity Of Songs/Datasets/Data_Test.csv\""
   ]
  },
  {
   "cell_type": "markdown",
   "metadata": {
    "colab_type": "text",
    "id": "WBwt6IPVBsuB"
   },
   "source": [
    "## Glove Vectors"
   ]
  },
  {
   "cell_type": "code",
   "execution_count": 0,
   "metadata": {
    "colab": {
     "base_uri": "https://localhost:8080/",
     "height": 50
    },
    "colab_type": "code",
    "executionInfo": {
     "elapsed": 217168,
     "status": "ok",
     "timestamp": 1578310158290,
     "user": {
      "displayName": "TAPAS DAS",
      "photoUrl": "https://lh3.googleusercontent.com/a-/AAuE7mAWMXeao3oujURH7jI31N9NlnBx3o-Qy3i2T8kupg=s64",
      "userId": "10798398878324948542"
     },
     "user_tz": -330
    },
    "id": "VfKj1bPpDZ6N",
    "outputId": "62dc5d56-8c68-45b9-cc7a-dcfc7f5a9766"
   },
   "outputs": [
    {
     "name": "stdout",
     "output_type": "stream",
     "text": [
      "Archive:  /content/drive/My Drive/Colab Notebooks/Chartbusters Prediction - Foretell The Popularity Of Songs/glove.840B.300d.zip\n",
      "  inflating: glove.840B.300d.txt     \n"
     ]
    }
   ],
   "source": [
    "!unzip \"/content/drive/My Drive/Colab Notebooks/Chartbusters Prediction - Foretell The Popularity Of Songs/glove.840B.300d.zip\""
   ]
  },
  {
   "cell_type": "code",
   "execution_count": 0,
   "metadata": {
    "colab": {
     "base_uri": "https://localhost:8080/",
     "height": 50
    },
    "colab_type": "code",
    "executionInfo": {
     "elapsed": 173035,
     "status": "ok",
     "timestamp": 1578310355357,
     "user": {
      "displayName": "TAPAS DAS",
      "photoUrl": "https://lh3.googleusercontent.com/a-/AAuE7mAWMXeao3oujURH7jI31N9NlnBx3o-Qy3i2T8kupg=s64",
      "userId": "10798398878324948542"
     },
     "user_tz": -330
    },
    "id": "3pySu4tHBsuI",
    "outputId": "6ba78b18-a588-4d7a-b8b3-e53a102cdd40"
   },
   "outputs": [
    {
     "name": "stderr",
     "output_type": "stream",
     "text": [
      "2196017it [02:52, 12761.82it/s]"
     ]
    },
    {
     "name": "stdout",
     "output_type": "stream",
     "text": [
      "Word vectors found: 2196016\n"
     ]
    },
    {
     "name": "stderr",
     "output_type": "stream",
     "text": [
      "\n"
     ]
    }
   ],
   "source": [
    "embeddings_index = {}\n",
    "f = open('glove.840B.300d.txt', encoding='utf8')\n",
    "for line in tqdm(f):\n",
    "    values = line.split(' ')\n",
    "    word = values[0]\n",
    "    coefs = np.asarray(values[1:], dtype='float32')\n",
    "    embeddings_index[word] = coefs\n",
    "f.close()\n",
    "\n",
    "print('Word vectors found: {}'.format(len(embeddings_index)))"
   ]
  },
  {
   "cell_type": "markdown",
   "metadata": {
    "colab_type": "text",
    "id": "9aQT0iPD0Pa-"
   },
   "source": [
    "## Functions to process text data in \"Song Name\" field"
   ]
  },
  {
   "cell_type": "code",
   "execution_count": 0,
   "metadata": {
    "colab": {},
    "colab_type": "code",
    "id": "ujqmeOa80Pa2"
   },
   "outputs": [],
   "source": [
    "def char_is_emoji(character):\n",
    "    \"\"\"\n",
    "        Description: Function to check if input character is an emoji\n",
    "    \"\"\"\n",
    "    return character in emoji.UNICODE_EMOJI"
   ]
  },
  {
   "cell_type": "code",
   "execution_count": 0,
   "metadata": {
    "colab": {},
    "colab_type": "code",
    "id": "tcefUt2a0Pax"
   },
   "outputs": [],
   "source": [
    "def text_has_emoji(text):\n",
    "    \"\"\"\n",
    "        Description: Function to check if input text contains an emoji\n",
    "    \"\"\"\n",
    "    for character in text:\n",
    "        if character in emoji.UNICODE_EMOJI:\n",
    "            return True\n",
    "    return False"
   ]
  },
  {
   "cell_type": "code",
   "execution_count": 0,
   "metadata": {
    "colab": {},
    "colab_type": "code",
    "id": "CbvLKl170Par"
   },
   "outputs": [],
   "source": [
    "def deEmojify(inputString):\n",
    "    \"\"\"\n",
    "        Description: Function to remove the emojis in input string\n",
    "    \"\"\"\n",
    "    return inputString.encode('ascii', 'ignore').decode('ascii')"
   ]
  },
  {
   "cell_type": "code",
   "execution_count": 0,
   "metadata": {
    "colab": {},
    "colab_type": "code",
    "id": "KAeqVEcx0Pah"
   },
   "outputs": [],
   "source": [
    "def remove_punctuations(text):\n",
    "    \"\"\"\n",
    "        Description: Function to remove any punctuations in input text\n",
    "    \"\"\"\n",
    "\n",
    "    punct =[]\n",
    "    punct += list(string.punctuation)\n",
    "    punct += '’'\n",
    "    punct += '-'\n",
    "    punct.remove(\"'\")\n",
    "    \n",
    "    for punctuation in punct:\n",
    "        text = text.replace(punctuation, ' ')\n",
    "    return text"
   ]
  },
  {
   "cell_type": "code",
   "execution_count": 0,
   "metadata": {
    "colab": {},
    "colab_type": "code",
    "id": "AQfR7Y4A0PaV"
   },
   "outputs": [],
   "source": [
    "def nlp(df, field_name):\n",
    "    \"\"\"\n",
    "        Description: Function to perform basic pre-processing in 'Song_Name' field\n",
    "        \n",
    "        Parameters:\n",
    "            df - Input dataframe\n",
    "            field_name - Field name to be processed\n",
    "        \n",
    "        Return:\n",
    "            df - Processed dataframe\n",
    "    \"\"\"\n",
    "  \n",
    "    # lowercase everything\n",
    "    df['token'] = df[field_name].apply(lambda x: x.lower())\n",
    "    \n",
    "    # get rid of '\\n' from whitespace \n",
    "    df['token'] = df['token'].apply(lambda x: x.replace('\\n', ' '))\n",
    "    \n",
    "    # regex remove hyperlinks\n",
    "    df['token'] = df['token'].str.replace('http\\S+|www.\\S+', '', case=False)\n",
    "    \n",
    "    # removing '&gt;'\n",
    "    df['token'] = df['token'].apply(lambda x: x.replace('&gt;', ''))\n",
    "    \n",
    "    # Checking if emoji in tokens column\n",
    "    #df['emoji'] = df['token'].apply(lambda x: text_has_emoji(x))\n",
    "    \n",
    "    # Removing Emojis from tokens\n",
    "    df['token'] = df['token'].apply(lambda x: deEmojify(x))\n",
    "    \n",
    "    # remove punctuations\n",
    "    df['token'] = df['token'].apply(remove_punctuations)\n",
    "    \n",
    "    # remove ' s ' that was created after removing punctuations\n",
    "    df['token'] = df['token'].apply(lambda x: str(x).replace(\" s \", \" \"))\n",
    "    \n",
    "    return df"
   ]
  },
  {
   "cell_type": "code",
   "execution_count": 0,
   "metadata": {
    "colab": {},
    "colab_type": "code",
    "id": "saol1BAE0PaE"
   },
   "outputs": [],
   "source": [
    "sp = spacy.load('en_core_web_sm')\n",
    "lookups = Lookups()\n",
    "lemm = Lemmatizer(lookups)"
   ]
  },
  {
   "cell_type": "code",
   "execution_count": 0,
   "metadata": {
    "colab": {},
    "colab_type": "code",
    "id": "mK2IvsYX0PZl"
   },
   "outputs": [],
   "source": [
    "def lemma_function(text):\n",
    "    \"\"\"\n",
    "        Description: Function to lemmatize the input text\n",
    "    \"\"\"\n",
    "\n",
    "    dummy = []    \n",
    "    for word in sp(text):\n",
    "        dummy.append(word.lemma_)\n",
    "    return ' '.join(dummy)"
   ]
  },
  {
   "cell_type": "code",
   "execution_count": 0,
   "metadata": {
    "colab": {},
    "colab_type": "code",
    "id": "a0VxYojtBsu2"
   },
   "outputs": [],
   "source": [
    "def sent2vec(text):\n",
    "    \"\"\"\n",
    "        Description: Function to create normalized vector for input text\n",
    "    \"\"\"\n",
    "    \n",
    "    stop_words = stopwords.words('english')\n",
    "    words = str(text).lower()\n",
    "    words = word_tokenize(words)\n",
    "    words = [w for w in words if not w in stop_words]\n",
    "    words = [w for w in words if w.isalpha()]\n",
    "    M = []\n",
    "    for w in words:\n",
    "        try:\n",
    "            M.append(embeddings_index[w])\n",
    "        except:\n",
    "            continue\n",
    "    M = np.array(M)\n",
    "    v = M.sum(axis=0)\n",
    "    if type(v) != np.ndarray:\n",
    "        return np.zeros(300)\n",
    "    return v / np.sqrt((v ** 2).sum())"
   ]
  },
  {
   "cell_type": "markdown",
   "metadata": {
    "colab_type": "text",
    "id": "o-Z-5pCAsDas"
   },
   "source": [
    "## Preprocess data + EDA"
   ]
  },
  {
   "cell_type": "code",
   "execution_count": 0,
   "metadata": {
    "colab": {},
    "colab_type": "code",
    "id": "dN6PLRcYsDat"
   },
   "outputs": [],
   "source": [
    "# Read train/predict data into pandas dataframes\n",
    "train_df = pd.read_csv(train_dataset)\n",
    "predict_df = pd.read_csv(test_dataset)"
   ]
  },
  {
   "cell_type": "code",
   "execution_count": 0,
   "metadata": {
    "colab": {},
    "colab_type": "code",
    "id": "kN4_AzKFsDay"
   },
   "outputs": [],
   "source": [
    "# Remove rows, from train_df, having any column value as NaN\n",
    "train_df.dropna(inplace=True)"
   ]
  },
  {
   "cell_type": "code",
   "execution_count": 0,
   "metadata": {
    "colab": {
     "base_uri": "https://localhost:8080/",
     "height": 403
    },
    "colab_type": "code",
    "executionInfo": {
     "elapsed": 1686,
     "status": "ok",
     "timestamp": 1578310410926,
     "user": {
      "displayName": "TAPAS DAS",
      "photoUrl": "https://lh3.googleusercontent.com/a-/AAuE7mAWMXeao3oujURH7jI31N9NlnBx3o-Qy3i2T8kupg=s64",
      "userId": "10798398878324948542"
     },
     "user_tz": -330
    },
    "id": "A-YUtZ-F1GEo",
    "outputId": "b0d790bc-97f6-4e62-d7c6-52f4c4279bfc"
   },
   "outputs": [
    {
     "data": {
      "image/png": "[encoded data removed]",
      "text/plain": [
       "<Figure size 1152x432 with 2 Axes>"
      ]
     },
     "metadata": {
      "tags": []
     },
     "output_type": "display_data"
    }
   ],
   "source": [
    "# Plot distribution of data in \"Views\" field\n",
    "fig, ax = plt.subplots(figsize = (16, 6))\n",
    "plt.subplot(1, 2, 1)\n",
    "plt.hist(train_df['Views']);\n",
    "plt.title('Distribution of Views data');\n",
    "plt.subplot(1, 2, 2)\n",
    "plt.hist(np.log1p(train_df['Views']));\n",
    "plt.title('Distribution of log of Views data');"
   ]
  },
  {
   "cell_type": "code",
   "execution_count": 0,
   "metadata": {
    "colab": {
     "base_uri": "https://localhost:8080/",
     "height": 34
    },
    "colab_type": "code",
    "executionInfo": {
     "elapsed": 971,
     "status": "ok",
     "timestamp": 1578310412590,
     "user": {
      "displayName": "TAPAS DAS",
      "photoUrl": "https://lh3.googleusercontent.com/a-/AAuE7mAWMXeao3oujURH7jI31N9NlnBx3o-Qy3i2T8kupg=s64",
      "userId": "10798398878324948542"
     },
     "user_tz": -330
    },
    "id": "akWW1gUosDa3",
    "outputId": "2f5b679b-5edd-438f-d622-0d9c6537d939"
   },
   "outputs": [
    {
     "name": "stdout",
     "output_type": "stream",
     "text": [
      "Ytrain: (78457, 1)\n"
     ]
    }
   ],
   "source": [
    "# Extract \"Views\" field from train_df into NumPy array\n",
    "train_df['Views'] = np.log1p(train_df['Views'])\n",
    "Ytrain = np.array([train_df['Views'].values]).T\n",
    "train_df.drop(['Views'], inplace=True, axis=1)\n",
    "print(\"Ytrain: {}\".format(Ytrain.shape))"
   ]
  },
  {
   "cell_type": "code",
   "execution_count": 0,
   "metadata": {
    "colab": {
     "base_uri": "https://localhost:8080/",
     "height": 34
    },
    "colab_type": "code",
    "executionInfo": {
     "elapsed": 1200,
     "status": "ok",
     "timestamp": 1578310413756,
     "user": {
      "displayName": "TAPAS DAS",
      "photoUrl": "https://lh3.googleusercontent.com/a-/AAuE7mAWMXeao3oujURH7jI31N9NlnBx3o-Qy3i2T8kupg=s64",
      "userId": "10798398878324948542"
     },
     "user_tz": -330
    },
    "id": "dNWE_6xysDa-",
    "outputId": "98025d21-78bf-4cfe-b058-4d8efe25a2c5"
   },
   "outputs": [
    {
     "name": "stdout",
     "output_type": "stream",
     "text": [
      "(98072, 10)\n"
     ]
    }
   ],
   "source": [
    "# Combine the train and predict dataframes\n",
    "combined_df = train_df.append(predict_df, sort=False, ignore_index=True)\n",
    "print(combined_df.shape)"
   ]
  },
  {
   "cell_type": "code",
   "execution_count": 0,
   "metadata": {
    "colab": {
     "base_uri": "https://localhost:8080/",
     "height": 34
    },
    "colab_type": "code",
    "executionInfo": {
     "elapsed": 983,
     "status": "ok",
     "timestamp": 1578310414589,
     "user": {
      "displayName": "TAPAS DAS",
      "photoUrl": "https://lh3.googleusercontent.com/a-/AAuE7mAWMXeao3oujURH7jI31N9NlnBx3o-Qy3i2T8kupg=s64",
      "userId": "10798398878324948542"
     },
     "user_tz": -330
    },
    "id": "gbYKeRxqBsvf",
    "outputId": "80ae627b-1e8d-4e23-e1ef-965fb62707ae"
   },
   "outputs": [
    {
     "name": "stdout",
     "output_type": "stream",
     "text": [
      "Number of features: 8\n"
     ]
    }
   ],
   "source": [
    "# Drop redundant fields\n",
    "combined_df.drop(['Unique_ID', 'Country'], inplace=True, axis=1)\n",
    "print(\"Number of features: {}\".format(combined_df.shape[1]))"
   ]
  },
  {
   "cell_type": "code",
   "execution_count": 0,
   "metadata": {
    "colab": {
     "base_uri": "https://localhost:8080/",
     "height": 343
    },
    "colab_type": "code",
    "executionInfo": {
     "elapsed": 1893,
     "status": "ok",
     "timestamp": 1578310416360,
     "user": {
      "displayName": "TAPAS DAS",
      "photoUrl": "https://lh3.googleusercontent.com/a-/AAuE7mAWMXeao3oujURH7jI31N9NlnBx3o-Qy3i2T8kupg=s64",
      "userId": "10798398878324948542"
     },
     "user_tz": -330
    },
    "id": "fKG4nJ07sDbD",
    "outputId": "06049718-4fa4-4d0a-dc04-99088c693656"
   },
   "outputs": [
    {
     "data": {
      "text/html": [
       "<div>\n",
       "<style scoped>\n",
       "    .dataframe tbody tr th:only-of-type {\n",
       "        vertical-align: middle;\n",
       "    }\n",
       "\n",
       "    .dataframe tbody tr th {\n",
       "        vertical-align: top;\n",
       "    }\n",
       "\n",
       "    .dataframe thead th {\n",
       "        text-align: right;\n",
       "    }\n",
       "</style>\n",
       "<table border=\"1\" class=\"dataframe\">\n",
       "  <thead>\n",
       "    <tr style=\"text-align: right;\">\n",
       "      <th></th>\n",
       "      <th>Name</th>\n",
       "      <th>Genre</th>\n",
       "      <th>Song_Name</th>\n",
       "      <th>Timestamp</th>\n",
       "      <th>Comments</th>\n",
       "      <th>Likes</th>\n",
       "      <th>Popularity</th>\n",
       "      <th>Followers</th>\n",
       "    </tr>\n",
       "  </thead>\n",
       "  <tbody>\n",
       "    <tr>\n",
       "      <th>0</th>\n",
       "      <td>Hardstyle</td>\n",
       "      <td>danceedm</td>\n",
       "      <td>N-Vitral presents BOMBSQUAD - Poison Spitter (...</td>\n",
       "      <td>2018-03-30 15:24:45.000000</td>\n",
       "      <td>4</td>\n",
       "      <td>499</td>\n",
       "      <td>97</td>\n",
       "      <td>119563</td>\n",
       "    </tr>\n",
       "    <tr>\n",
       "      <th>1</th>\n",
       "      <td>Dj Aladdin</td>\n",
       "      <td>danceedm</td>\n",
       "      <td>Dj Aladdin - Old School Hip Hop Quick Mix</td>\n",
       "      <td>2016-06-20 05:58:52.000000</td>\n",
       "      <td>17</td>\n",
       "      <td>49</td>\n",
       "      <td>17</td>\n",
       "      <td>2141</td>\n",
       "    </tr>\n",
       "    <tr>\n",
       "      <th>2</th>\n",
       "      <td>Maxximize On Air</td>\n",
       "      <td>danceedm</td>\n",
       "      <td>Maxximize On Air - Mixed by Blasterjaxx - Epis...</td>\n",
       "      <td>2015-05-08 17:45:59.000000</td>\n",
       "      <td>11</td>\n",
       "      <td>312</td>\n",
       "      <td>91</td>\n",
       "      <td>22248</td>\n",
       "    </tr>\n",
       "    <tr>\n",
       "      <th>3</th>\n",
       "      <td>GR6 EXPLODE</td>\n",
       "      <td>rbsoul</td>\n",
       "      <td>MC Yago - Tenho Compromisso (DJ R7)</td>\n",
       "      <td>2017-06-08 23:50:03.000000</td>\n",
       "      <td>2</td>\n",
       "      <td>2,400</td>\n",
       "      <td>76</td>\n",
       "      <td>393655</td>\n",
       "    </tr>\n",
       "    <tr>\n",
       "      <th>4</th>\n",
       "      <td>Tritonal</td>\n",
       "      <td>danceedm</td>\n",
       "      <td>Escape (feat. Steph Jones)</td>\n",
       "      <td>2016-09-17 20:50:19.000000</td>\n",
       "      <td>81</td>\n",
       "      <td>3,031</td>\n",
       "      <td>699</td>\n",
       "      <td>201030</td>\n",
       "    </tr>\n",
       "    <tr>\n",
       "      <th>5</th>\n",
       "      <td>k$upreme</td>\n",
       "      <td>all-music</td>\n",
       "      <td>Started Off Finessen' (Prod.Oscar100)</td>\n",
       "      <td>2017-11-27 14:55:11.000000</td>\n",
       "      <td>6</td>\n",
       "      <td>4,500</td>\n",
       "      <td>325</td>\n",
       "      <td>71038</td>\n",
       "    </tr>\n",
       "    <tr>\n",
       "      <th>6</th>\n",
       "      <td>Hardstyle</td>\n",
       "      <td>danceedm</td>\n",
       "      <td>Coone - Universal Language (Cyber Remix)</td>\n",
       "      <td>2016-01-22 17:23:26.000000</td>\n",
       "      <td>15</td>\n",
       "      <td>1,017</td>\n",
       "      <td>226</td>\n",
       "      <td>119563</td>\n",
       "    </tr>\n",
       "    <tr>\n",
       "      <th>7</th>\n",
       "      <td>Diplo</td>\n",
       "      <td>danceedm</td>\n",
       "      <td>Pick Your Poison (feat. Kay) (Figure Remix)</td>\n",
       "      <td>2012-01-17 00:00:00.000000</td>\n",
       "      <td>5</td>\n",
       "      <td>88</td>\n",
       "      <td>12</td>\n",
       "      <td>7120051</td>\n",
       "    </tr>\n",
       "    <tr>\n",
       "      <th>8</th>\n",
       "      <td>Nick Vanelli</td>\n",
       "      <td>trap</td>\n",
       "      <td>B l o o d s h e d</td>\n",
       "      <td>2018-11-29 22:37:07.000000</td>\n",
       "      <td>0</td>\n",
       "      <td>28</td>\n",
       "      <td>7</td>\n",
       "      <td>1892</td>\n",
       "    </tr>\n",
       "    <tr>\n",
       "      <th>9</th>\n",
       "      <td>DeejayEcko(PNCS)</td>\n",
       "      <td>latin</td>\n",
       "      <td>CHIHUAHUA MIXDOWN [ Instagram : @deejayeckoo ]</td>\n",
       "      <td>2017-09-28 04:07:47.000000</td>\n",
       "      <td>0</td>\n",
       "      <td>622</td>\n",
       "      <td>47</td>\n",
       "      <td>2835</td>\n",
       "    </tr>\n",
       "  </tbody>\n",
       "</table>\n",
       "</div>"
      ],
      "text/plain": [
       "               Name      Genre  ... Popularity Followers\n",
       "0         Hardstyle   danceedm  ...         97    119563\n",
       "1        Dj Aladdin   danceedm  ...         17      2141\n",
       "2  Maxximize On Air   danceedm  ...         91     22248\n",
       "3       GR6 EXPLODE     rbsoul  ...         76    393655\n",
       "4          Tritonal   danceedm  ...        699    201030\n",
       "5          k$upreme  all-music  ...        325     71038\n",
       "6         Hardstyle   danceedm  ...        226    119563\n",
       "7             Diplo   danceedm  ...         12   7120051\n",
       "8      Nick Vanelli       trap  ...          7      1892\n",
       "9  DeejayEcko(PNCS)      latin  ...         47      2835\n",
       "\n",
       "[10 rows x 8 columns]"
      ]
     },
     "execution_count": 26,
     "metadata": {
      "tags": []
     },
     "output_type": "execute_result"
    }
   ],
   "source": [
    "combined_df.head(10)"
   ]
  },
  {
   "cell_type": "code",
   "execution_count": 0,
   "metadata": {
    "colab": {},
    "colab_type": "code",
    "id": "cPjbOp_aoqC5"
   },
   "outputs": [],
   "source": [
    "# Extract new features from \"Timestamp\" field\n",
    "combined_df['rel_year'] = combined_df['Timestamp'].map(lambda x: pd.to_datetime(x).year)\n",
    "combined_df['rel_quarter'] = combined_df['Timestamp'].map(lambda x: pd.to_datetime(x).quarter)\n",
    "combined_df['rel_month'] = combined_df['Timestamp'].map(lambda x: pd.to_datetime(x).month)\n",
    "combined_df['rel_week'] = combined_df['Timestamp'].map(lambda x: pd.to_datetime(x).week)\n",
    "combined_df['rel_day_year'] = combined_df['Timestamp'].map(lambda x: pd.to_datetime(x).dayofyear)\n",
    "combined_df['rel_day_month'] = combined_df['Timestamp'].map(lambda x: pd.to_datetime(x).day)\n",
    "combined_df['rel_day_week'] = combined_df['Timestamp'].map(lambda x: pd.to_datetime(x).dayofweek)\n",
    "combined_df['rel_day_weekend'] = np.where(combined_df['rel_day_week'].isin([5,6]),1,0)\n",
    "combined_df['rel_hour'] = combined_df['Timestamp'].map(lambda x: pd.to_datetime(x).hour)\n",
    "combined_df['minutes_elapsed'] = combined_df['Timestamp'].map(lambda x: (pd.to_datetime(x) - pd.to_datetime(pd.to_datetime(x).date())).seconds / 60.0)"
   ]
  },
  {
   "cell_type": "code",
   "execution_count": 0,
   "metadata": {
    "colab": {
     "base_uri": "https://localhost:8080/",
     "height": 34
    },
    "colab_type": "code",
    "executionInfo": {
     "elapsed": 2726,
     "status": "ok",
     "timestamp": 1578310704091,
     "user": {
      "displayName": "TAPAS DAS",
      "photoUrl": "https://lh3.googleusercontent.com/a-/AAuE7mAWMXeao3oujURH7jI31N9NlnBx3o-Qy3i2T8kupg=s64",
      "userId": "10798398878324948542"
     },
     "user_tz": -330
    },
    "id": "iYlg639Gox0M",
    "outputId": "860f608e-0d27-4c48-ae3f-0ad8bc134f83"
   },
   "outputs": [
    {
     "name": "stdout",
     "output_type": "stream",
     "text": [
      "Number of holidays: 273\n"
     ]
    }
   ],
   "source": [
    "# Create list of holidays\n",
    "year_list = list(combined_df['rel_year'].unique())\n",
    "year_list.append(min(year_list) - 1)\n",
    "year_list.append(max(year_list) + 1)\n",
    "year_list.sort()\n",
    "\n",
    "holiday_list = []\n",
    "for ptr in holidays.Australia(years = year_list).items():\n",
    "    holiday_list.append(ptr[0])\n",
    "\n",
    "holiday_list.sort()\n",
    "print(\"Number of holidays: {}\".format(len(holiday_list)))"
   ]
  },
  {
   "cell_type": "code",
   "execution_count": 0,
   "metadata": {
    "colab": {},
    "colab_type": "code",
    "id": "qZVWu5szbDmo"
   },
   "outputs": [],
   "source": [
    "# Get days difference between \"Timestamp\" field, and last/next holiday\n",
    "combined_df['release_date'] = combined_df['Timestamp'].map(lambda x: pd.to_datetime(x).date())\n",
    "combined_df['last_holiday'] = combined_df['Timestamp'].map(lambda x: holiday_list[bisect_left(holiday_list, pd.to_datetime(x))] \n",
    "                                                           if holiday_list[bisect_left(holiday_list, pd.to_datetime(x))] == pd.to_datetime(x) \n",
    "                                                           else holiday_list[bisect_left(holiday_list, pd.to_datetime(x)) - 1])\n",
    "combined_df['next_holiday'] = combined_df['Timestamp'].map(lambda x: holiday_list[bisect_right(holiday_list, pd.to_datetime(x))])\n",
    "combined_df['days_frm_last_holiday'] = (combined_df['release_date'] - combined_df['last_holiday'])/np.timedelta64(1,'D')\n",
    "combined_df['days_to_next_holiday'] = (combined_df['next_holiday'] - combined_df['release_date'])/np.timedelta64(1,'D')"
   ]
  },
  {
   "cell_type": "code",
   "execution_count": 0,
   "metadata": {
    "colab": {
     "base_uri": "https://localhost:8080/",
     "height": 34
    },
    "colab_type": "code",
    "executionInfo": {
     "elapsed": 1635,
     "status": "ok",
     "timestamp": 1578310891350,
     "user": {
      "displayName": "TAPAS DAS",
      "photoUrl": "https://lh3.googleusercontent.com/a-/AAuE7mAWMXeao3oujURH7jI31N9NlnBx3o-Qy3i2T8kupg=s64",
      "userId": "10798398878324948542"
     },
     "user_tz": -330
    },
    "id": "AbhB9JZ3jPGw",
    "outputId": "160ab4b6-074c-42b9-c031-9428fa5cf006"
   },
   "outputs": [
    {
     "name": "stdout",
     "output_type": "stream",
     "text": [
      "Number of features: 19\n"
     ]
    }
   ],
   "source": [
    "# Drop redundant fields\n",
    "combined_df.drop(['Timestamp', 'release_date', 'last_holiday', 'next_holiday'], inplace=True, axis=1)\n",
    "print(\"Number of features: {}\".format(combined_df.shape[1]))"
   ]
  },
  {
   "cell_type": "code",
   "execution_count": 0,
   "metadata": {
    "colab": {
     "base_uri": "https://localhost:8080/",
     "height": 34
    },
    "colab_type": "code",
    "executionInfo": {
     "elapsed": 4777,
     "status": "ok",
     "timestamp": 1578310895422,
     "user": {
      "displayName": "TAPAS DAS",
      "photoUrl": "https://lh3.googleusercontent.com/a-/AAuE7mAWMXeao3oujURH7jI31N9NlnBx3o-Qy3i2T8kupg=s64",
      "userId": "10798398878324948542"
     },
     "user_tz": -330
    },
    "id": "qvXh2T4O3lM4",
    "outputId": "fe25f3ee-579f-4a7c-9287-573d0d6ebc68"
   },
   "outputs": [
    {
     "name": "stdout",
     "output_type": "stream",
     "text": [
      "Number of features: 28\n"
     ]
    }
   ],
   "source": [
    "# Number of words in the \"Name\" field\n",
    "combined_df[\"Name_num_words\"] = combined_df[\"Name\"].apply(lambda x: len(str(x).split()))\n",
    "\n",
    "# Number of unique words in the \"Name\" field\n",
    "combined_df[\"Name_num_unique_words\"] = combined_df[\"Name\"].apply(lambda x: len(set(str(x).split())))\n",
    "\n",
    "# Number of characters in the \"Name\" field\n",
    "combined_df[\"Name_num_chars\"] = combined_df[\"Name\"].apply(lambda x: len(str(x)))\n",
    "\n",
    "# Number of stopwords in the \"Name\" field\n",
    "stop = stopwords.words('english')\n",
    "combined_df[\"Name_num_stopwords\"] = combined_df[\"Name\"].apply(lambda x: len([w for w in str(x).lower().split() if w in stop]))\n",
    "\n",
    "# Number of punctuations in the \"Name\" field\n",
    "combined_df[\"Name_num_punctuations\"] =combined_df['Name'].apply(lambda x: len([c for c in str(x) if c in string.punctuation]))\n",
    "\n",
    "# Number of emojis in the \"Name\" field\n",
    "combined_df[\"Name_num_emojis\"] =combined_df['Name'].apply(lambda x: len([c for c in str(x) if c in emoji.UNICODE_EMOJI]))\n",
    "\n",
    "# Number of title case words in the \"Name\" field\n",
    "combined_df[\"Name_num_words_upper\"] = combined_df[\"Name\"].apply(lambda x: len([w for w in str(x).split() if w.isupper()]))\n",
    "\n",
    "# Number of title case words in the \"Name\" field\n",
    "combined_df[\"Name_num_words_title\"] = combined_df[\"Name\"].apply(lambda x: len([w for w in str(x).split() if w.istitle()]))\n",
    "\n",
    "# Average length of the words in the \"Name\" field\n",
    "combined_df[\"Name_mean_word_len\"] = combined_df[\"Name\"].apply(lambda x: np.mean([len(w) for w in str(x).split()]))\n",
    "\n",
    "print(\"Number of features: {}\".format(combined_df.shape[1]))"
   ]
  },
  {
   "cell_type": "code",
   "execution_count": 0,
   "metadata": {
    "colab": {
     "base_uri": "https://localhost:8080/",
     "height": 450
    },
    "colab_type": "code",
    "executionInfo": {
     "elapsed": 678274,
     "status": "ok",
     "timestamp": 1578311574487,
     "user": {
      "displayName": "TAPAS DAS",
      "photoUrl": "https://lh3.googleusercontent.com/a-/AAuE7mAWMXeao3oujURH7jI31N9NlnBx3o-Qy3i2T8kupg=s64",
      "userId": "10798398878324948542"
     },
     "user_tz": -330
    },
    "id": "8de9lIHkBsvv",
    "outputId": "bce172d3-e09c-4f35-c608-8b98a50c6103"
   },
   "outputs": [
    {
     "data": {
      "text/html": [
       "<div>\n",
       "<style scoped>\n",
       "    .dataframe tbody tr th:only-of-type {\n",
       "        vertical-align: middle;\n",
       "    }\n",
       "\n",
       "    .dataframe tbody tr th {\n",
       "        vertical-align: top;\n",
       "    }\n",
       "\n",
       "    .dataframe thead th {\n",
       "        text-align: right;\n",
       "    }\n",
       "</style>\n",
       "<table border=\"1\" class=\"dataframe\">\n",
       "  <thead>\n",
       "    <tr style=\"text-align: right;\">\n",
       "      <th></th>\n",
       "      <th>Name</th>\n",
       "      <th>Genre</th>\n",
       "      <th>Song_Name</th>\n",
       "      <th>Comments</th>\n",
       "      <th>Likes</th>\n",
       "      <th>Popularity</th>\n",
       "      <th>Followers</th>\n",
       "      <th>rel_year</th>\n",
       "      <th>rel_quarter</th>\n",
       "      <th>rel_month</th>\n",
       "      <th>rel_week</th>\n",
       "      <th>rel_day_year</th>\n",
       "      <th>rel_day_month</th>\n",
       "      <th>rel_day_week</th>\n",
       "      <th>rel_day_weekend</th>\n",
       "      <th>rel_hour</th>\n",
       "      <th>minutes_elapsed</th>\n",
       "      <th>days_frm_last_holiday</th>\n",
       "      <th>days_to_next_holiday</th>\n",
       "      <th>Name_num_words</th>\n",
       "      <th>Name_num_unique_words</th>\n",
       "      <th>Name_num_chars</th>\n",
       "      <th>Name_num_stopwords</th>\n",
       "      <th>Name_num_punctuations</th>\n",
       "      <th>Name_num_emojis</th>\n",
       "      <th>Name_num_words_upper</th>\n",
       "      <th>Name_num_words_title</th>\n",
       "      <th>Name_mean_word_len</th>\n",
       "      <th>token</th>\n",
       "      <th>lemmatized</th>\n",
       "      <th>Processed_Name</th>\n",
       "    </tr>\n",
       "  </thead>\n",
       "  <tbody>\n",
       "    <tr>\n",
       "      <th>0</th>\n",
       "      <td>Hardstyle</td>\n",
       "      <td>danceedm</td>\n",
       "      <td>N-Vitral presents BOMBSQUAD - Poison Spitter (...</td>\n",
       "      <td>4</td>\n",
       "      <td>499</td>\n",
       "      <td>97</td>\n",
       "      <td>119563</td>\n",
       "      <td>2018</td>\n",
       "      <td>1</td>\n",
       "      <td>3</td>\n",
       "      <td>13</td>\n",
       "      <td>89</td>\n",
       "      <td>30</td>\n",
       "      <td>4</td>\n",
       "      <td>0</td>\n",
       "      <td>15</td>\n",
       "      <td>924.750000</td>\n",
       "      <td>0.0</td>\n",
       "      <td>3.0</td>\n",
       "      <td>1</td>\n",
       "      <td>1</td>\n",
       "      <td>9</td>\n",
       "      <td>0</td>\n",
       "      <td>0</td>\n",
       "      <td>0</td>\n",
       "      <td>0</td>\n",
       "      <td>1</td>\n",
       "      <td>9.000000</td>\n",
       "      <td>hardstyle</td>\n",
       "      <td>hardstyle</td>\n",
       "      <td>hardstyle</td>\n",
       "    </tr>\n",
       "    <tr>\n",
       "      <th>1</th>\n",
       "      <td>Dj Aladdin</td>\n",
       "      <td>danceedm</td>\n",
       "      <td>Dj Aladdin - Old School Hip Hop Quick Mix</td>\n",
       "      <td>17</td>\n",
       "      <td>49</td>\n",
       "      <td>17</td>\n",
       "      <td>2141</td>\n",
       "      <td>2016</td>\n",
       "      <td>2</td>\n",
       "      <td>6</td>\n",
       "      <td>25</td>\n",
       "      <td>172</td>\n",
       "      <td>20</td>\n",
       "      <td>0</td>\n",
       "      <td>0</td>\n",
       "      <td>5</td>\n",
       "      <td>358.866667</td>\n",
       "      <td>56.0</td>\n",
       "      <td>188.0</td>\n",
       "      <td>2</td>\n",
       "      <td>2</td>\n",
       "      <td>10</td>\n",
       "      <td>0</td>\n",
       "      <td>0</td>\n",
       "      <td>0</td>\n",
       "      <td>0</td>\n",
       "      <td>2</td>\n",
       "      <td>4.500000</td>\n",
       "      <td>dj aladdin</td>\n",
       "      <td>dj aladdin</td>\n",
       "      <td>dj aladdin</td>\n",
       "    </tr>\n",
       "    <tr>\n",
       "      <th>2</th>\n",
       "      <td>Maxximize On Air</td>\n",
       "      <td>danceedm</td>\n",
       "      <td>Maxximize On Air - Mixed by Blasterjaxx - Epis...</td>\n",
       "      <td>11</td>\n",
       "      <td>312</td>\n",
       "      <td>91</td>\n",
       "      <td>22248</td>\n",
       "      <td>2015</td>\n",
       "      <td>2</td>\n",
       "      <td>5</td>\n",
       "      <td>19</td>\n",
       "      <td>128</td>\n",
       "      <td>8</td>\n",
       "      <td>4</td>\n",
       "      <td>0</td>\n",
       "      <td>17</td>\n",
       "      <td>1065.983333</td>\n",
       "      <td>13.0</td>\n",
       "      <td>231.0</td>\n",
       "      <td>3</td>\n",
       "      <td>3</td>\n",
       "      <td>16</td>\n",
       "      <td>1</td>\n",
       "      <td>0</td>\n",
       "      <td>0</td>\n",
       "      <td>0</td>\n",
       "      <td>3</td>\n",
       "      <td>4.666667</td>\n",
       "      <td>maxximize on air</td>\n",
       "      <td>maxximize on air</td>\n",
       "      <td>maxximize air</td>\n",
       "    </tr>\n",
       "    <tr>\n",
       "      <th>3</th>\n",
       "      <td>GR6 EXPLODE</td>\n",
       "      <td>rbsoul</td>\n",
       "      <td>MC Yago - Tenho Compromisso (DJ R7)</td>\n",
       "      <td>2</td>\n",
       "      <td>2,400</td>\n",
       "      <td>76</td>\n",
       "      <td>393655</td>\n",
       "      <td>2017</td>\n",
       "      <td>2</td>\n",
       "      <td>6</td>\n",
       "      <td>23</td>\n",
       "      <td>159</td>\n",
       "      <td>8</td>\n",
       "      <td>3</td>\n",
       "      <td>0</td>\n",
       "      <td>23</td>\n",
       "      <td>1430.050000</td>\n",
       "      <td>44.0</td>\n",
       "      <td>200.0</td>\n",
       "      <td>2</td>\n",
       "      <td>2</td>\n",
       "      <td>11</td>\n",
       "      <td>0</td>\n",
       "      <td>0</td>\n",
       "      <td>0</td>\n",
       "      <td>2</td>\n",
       "      <td>0</td>\n",
       "      <td>5.000000</td>\n",
       "      <td>gr6 explode</td>\n",
       "      <td>gr6 explode</td>\n",
       "      <td>explode</td>\n",
       "    </tr>\n",
       "    <tr>\n",
       "      <th>4</th>\n",
       "      <td>Tritonal</td>\n",
       "      <td>danceedm</td>\n",
       "      <td>Escape (feat. Steph Jones)</td>\n",
       "      <td>81</td>\n",
       "      <td>3,031</td>\n",
       "      <td>699</td>\n",
       "      <td>201030</td>\n",
       "      <td>2016</td>\n",
       "      <td>3</td>\n",
       "      <td>9</td>\n",
       "      <td>37</td>\n",
       "      <td>261</td>\n",
       "      <td>17</td>\n",
       "      <td>5</td>\n",
       "      <td>1</td>\n",
       "      <td>20</td>\n",
       "      <td>1250.316667</td>\n",
       "      <td>145.0</td>\n",
       "      <td>99.0</td>\n",
       "      <td>1</td>\n",
       "      <td>1</td>\n",
       "      <td>8</td>\n",
       "      <td>0</td>\n",
       "      <td>0</td>\n",
       "      <td>0</td>\n",
       "      <td>0</td>\n",
       "      <td>1</td>\n",
       "      <td>8.000000</td>\n",
       "      <td>tritonal</td>\n",
       "      <td>tritonal</td>\n",
       "      <td>tritonal</td>\n",
       "    </tr>\n",
       "  </tbody>\n",
       "</table>\n",
       "</div>"
      ],
      "text/plain": [
       "               Name     Genre  ...        lemmatized  Processed_Name\n",
       "0         Hardstyle  danceedm  ...         hardstyle       hardstyle\n",
       "1        Dj Aladdin  danceedm  ...        dj aladdin      dj aladdin\n",
       "2  Maxximize On Air  danceedm  ...  maxximize on air   maxximize air\n",
       "3       GR6 EXPLODE    rbsoul  ...       gr6 explode         explode\n",
       "4          Tritonal  danceedm  ...          tritonal        tritonal\n",
       "\n",
       "[5 rows x 31 columns]"
      ]
     },
     "execution_count": 32,
     "metadata": {
      "tags": []
     },
     "output_type": "execute_result"
    }
   ],
   "source": [
    "# Apply basis pre-processing on 'Name' field\n",
    "combined_df = nlp(combined_df, \"Name\")\n",
    "\n",
    "# Lemmatize the 'token' field\n",
    "combined_df['lemmatized'] = combined_df['token'].apply(lambda x: lemma_function(x))\n",
    "\n",
    "# Remove any stop-words in 'lemmatized' field\n",
    "stop = stopwords.words('english')\n",
    "combined_df['Processed_Name'] = combined_df['lemmatized'].apply(lambda x: \" \".join(x for x in x.split() if x not in stop))\n",
    "\n",
    "# Remove numbers in 'lemmatized' field\n",
    "combined_df['Processed_Name'] = combined_df['Processed_Name'].apply(lambda x: \" \".join(x for x in x.split() if x.isalpha()))\n",
    "combined_df.head()"
   ]
  },
  {
   "cell_type": "code",
   "execution_count": 0,
   "metadata": {
    "colab": {
     "base_uri": "https://localhost:8080/",
     "height": 34
    },
    "colab_type": "code",
    "executionInfo": {
     "elapsed": 1154,
     "status": "ok",
     "timestamp": 1578311634376,
     "user": {
      "displayName": "TAPAS DAS",
      "photoUrl": "https://lh3.googleusercontent.com/a-/AAuE7mAWMXeao3oujURH7jI31N9NlnBx3o-Qy3i2T8kupg=s64",
      "userId": "10798398878324948542"
     },
     "user_tz": -330
    },
    "id": "HybgSVRJBsv1",
    "outputId": "23054b8e-49e7-4e83-d8b1-4bd996414209"
   },
   "outputs": [
    {
     "name": "stdout",
     "output_type": "stream",
     "text": [
      "Number of features: 28\n"
     ]
    }
   ],
   "source": [
    "# Drop redundant fields\n",
    "combined_df.drop(['Name', 'token', 'lemmatized'], inplace=True, axis=1)\n",
    "print(\"Number of features: {}\".format(combined_df.shape[1]))"
   ]
  },
  {
   "cell_type": "code",
   "execution_count": 0,
   "metadata": {
    "colab": {
     "base_uri": "https://localhost:8080/",
     "height": 34
    },
    "colab_type": "code",
    "executionInfo": {
     "elapsed": 38800,
     "status": "ok",
     "timestamp": 1578311673328,
     "user": {
      "displayName": "TAPAS DAS",
      "photoUrl": "https://lh3.googleusercontent.com/a-/AAuE7mAWMXeao3oujURH7jI31N9NlnBx3o-Qy3i2T8kupg=s64",
      "userId": "10798398878324948542"
     },
     "user_tz": -330
    },
    "id": "taWRLI-zm9GE",
    "outputId": "2de59516-0317-4c35-fa7c-20a765b3504b"
   },
   "outputs": [
    {
     "name": "stdout",
     "output_type": "stream",
     "text": [
      "Number of features: 540\n"
     ]
    }
   ],
   "source": [
    "# Sentence encoding for \"Name\" field\n",
    "module_url = \"https://tfhub.dev/google/universal-sentence-encoder/4\"\n",
    "model = hub.load(module_url)\n",
    "name_embed = np.array(model(combined_df.Processed_Name))\n",
    "name_embed_df = pd.DataFrame(name_embed)\n",
    "combined_df = pd.merge(combined_df, name_embed_df, left_index=True, right_index=True)\n",
    "print(\"Number of features: {}\".format(combined_df.shape[1]))"
   ]
  },
  {
   "cell_type": "code",
   "execution_count": 0,
   "metadata": {
    "colab": {
     "base_uri": "https://localhost:8080/",
     "height": 34
    },
    "colab_type": "code",
    "executionInfo": {
     "elapsed": 1878,
     "status": "ok",
     "timestamp": 1578311714558,
     "user": {
      "displayName": "TAPAS DAS",
      "photoUrl": "https://lh3.googleusercontent.com/a-/AAuE7mAWMXeao3oujURH7jI31N9NlnBx3o-Qy3i2T8kupg=s64",
      "userId": "10798398878324948542"
     },
     "user_tz": -330
    },
    "id": "LcJq0QUvBswE",
    "outputId": "ab316ed5-f1dd-427c-fd7e-56573dc5ccdb"
   },
   "outputs": [
    {
     "name": "stdout",
     "output_type": "stream",
     "text": [
      "Number of features: 1695\n"
     ]
    }
   ],
   "source": [
    "# One-hot encoding for \"Name\" field\n",
    "dummy_val = pd.get_dummies(combined_df['Processed_Name'], prefix='Name')\n",
    "combined_df = pd.concat([combined_df, dummy_val], axis=1)\n",
    "print(\"Number of features: {}\".format(combined_df.shape[1]))"
   ]
  },
  {
   "cell_type": "code",
   "execution_count": 0,
   "metadata": {
    "colab": {
     "base_uri": "https://localhost:8080/",
     "height": 34
    },
    "colab_type": "code",
    "executionInfo": {
     "elapsed": 1488,
     "status": "ok",
     "timestamp": 1578311715138,
     "user": {
      "displayName": "TAPAS DAS",
      "photoUrl": "https://lh3.googleusercontent.com/a-/AAuE7mAWMXeao3oujURH7jI31N9NlnBx3o-Qy3i2T8kupg=s64",
      "userId": "10798398878324948542"
     },
     "user_tz": -330
    },
    "id": "yH2v6E52BswL",
    "outputId": "4d7721d5-aa52-458d-cfee-eac45760ef5d"
   },
   "outputs": [
    {
     "name": "stdout",
     "output_type": "stream",
     "text": [
      "Number of features: 1716\n"
     ]
    }
   ],
   "source": [
    "# One-hot encoding for \"Genre\" field\n",
    "dummy_val = pd.get_dummies(combined_df['Genre'], prefix='Name')\n",
    "combined_df = pd.concat([combined_df, dummy_val], axis=1)\n",
    "print(\"Number of features: {}\".format(combined_df.shape[1]))"
   ]
  },
  {
   "cell_type": "code",
   "execution_count": 0,
   "metadata": {
    "colab": {
     "base_uri": "https://localhost:8080/",
     "height": 34
    },
    "colab_type": "code",
    "executionInfo": {
     "elapsed": 6224,
     "status": "ok",
     "timestamp": 1578311722202,
     "user": {
      "displayName": "TAPAS DAS",
      "photoUrl": "https://lh3.googleusercontent.com/a-/AAuE7mAWMXeao3oujURH7jI31N9NlnBx3o-Qy3i2T8kupg=s64",
      "userId": "10798398878324948542"
     },
     "user_tz": -330
    },
    "id": "15RgfyelBswR",
    "outputId": "cb24858f-ce1b-43aa-9ac2-18fea5f2add2"
   },
   "outputs": [
    {
     "name": "stdout",
     "output_type": "stream",
     "text": [
      "Number of features: 1725\n"
     ]
    }
   ],
   "source": [
    "# Number of words in the \"Song_Name\" field\n",
    "combined_df[\"Song_num_words\"] = combined_df[\"Song_Name\"].apply(lambda x: len(str(x).split()))\n",
    "\n",
    "# Number of unique words in the \"Song_Name\" field\n",
    "combined_df[\"Song_num_unique_words\"] = combined_df[\"Song_Name\"].apply(lambda x: len(set(str(x).split())))\n",
    "\n",
    "# Number of characters in the \"Song_Name\" field\n",
    "combined_df[\"Song_num_chars\"] = combined_df[\"Song_Name\"].apply(lambda x: len(str(x)))\n",
    "\n",
    "# Number of stopwords in the \"Song_Name\" field\n",
    "stop = stopwords.words('english')\n",
    "combined_df[\"Song_num_stopwords\"] = combined_df[\"Song_Name\"].apply(lambda x: len([w for w in str(x).lower().split() if w in stop]))\n",
    "\n",
    "# Number of punctuations in the \"Song_Name\" field\n",
    "combined_df[\"Song_num_punctuations\"] =combined_df['Song_Name'].apply(lambda x: len([c for c in str(x) if c in string.punctuation]))\n",
    "\n",
    "# Number of emojis in the \"Song_Name\" field\n",
    "combined_df[\"Song_num_emojis\"] =combined_df['Song_Name'].apply(lambda x: len([c for c in str(x) if c in emoji.UNICODE_EMOJI]))\n",
    "\n",
    "# Number of title case words in the \"Song_Name\" field\n",
    "combined_df[\"Song_num_words_upper\"] = combined_df[\"Song_Name\"].apply(lambda x: len([w for w in str(x).split() if w.isupper()]))\n",
    "\n",
    "# Number of title case words in the \"Song_Name\" field\n",
    "combined_df[\"Song_num_words_title\"] = combined_df[\"Song_Name\"].apply(lambda x: len([w for w in str(x).split() if w.istitle()]))\n",
    "\n",
    "# Average length of the words in the \"Song_Name\" field\n",
    "combined_df[\"Song_mean_word_len\"] = combined_df[\"Song_Name\"].apply(lambda x: np.mean([len(w) for w in str(x).split()]))\n",
    "\n",
    "print(\"Number of features: {}\".format(combined_df.shape[1]))"
   ]
  },
  {
   "cell_type": "code",
   "execution_count": 0,
   "metadata": {
    "colab": {
     "base_uri": "https://localhost:8080/",
     "height": 513
    },
    "colab_type": "code",
    "executionInfo": {
     "elapsed": 806945,
     "status": "ok",
     "timestamp": 1578312528989,
     "user": {
      "displayName": "TAPAS DAS",
      "photoUrl": "https://lh3.googleusercontent.com/a-/AAuE7mAWMXeao3oujURH7jI31N9NlnBx3o-Qy3i2T8kupg=s64",
      "userId": "10798398878324948542"
     },
     "user_tz": -330
    },
    "id": "t_AbGxFeBswY",
    "outputId": "74cc626c-f4ff-4710-b8cf-5a2d1d41b8db"
   },
   "outputs": [
    {
     "data": {
      "text/html": [
       "<div>\n",
       "<style scoped>\n",
       "    .dataframe tbody tr th:only-of-type {\n",
       "        vertical-align: middle;\n",
       "    }\n",
       "\n",
       "    .dataframe tbody tr th {\n",
       "        vertical-align: top;\n",
       "    }\n",
       "\n",
       "    .dataframe thead th {\n",
       "        text-align: right;\n",
       "    }\n",
       "</style>\n",
       "<table border=\"1\" class=\"dataframe\">\n",
       "  <thead>\n",
       "    <tr style=\"text-align: right;\">\n",
       "      <th></th>\n",
       "      <th>Genre</th>\n",
       "      <th>Song_Name</th>\n",
       "      <th>Comments</th>\n",
       "      <th>Likes</th>\n",
       "      <th>Popularity</th>\n",
       "      <th>Followers</th>\n",
       "      <th>rel_year</th>\n",
       "      <th>rel_quarter</th>\n",
       "      <th>rel_month</th>\n",
       "      <th>rel_week</th>\n",
       "      <th>rel_day_year</th>\n",
       "      <th>rel_day_month</th>\n",
       "      <th>rel_day_week</th>\n",
       "      <th>rel_day_weekend</th>\n",
       "      <th>rel_hour</th>\n",
       "      <th>minutes_elapsed</th>\n",
       "      <th>days_frm_last_holiday</th>\n",
       "      <th>days_to_next_holiday</th>\n",
       "      <th>Name_num_words</th>\n",
       "      <th>Name_num_unique_words</th>\n",
       "      <th>Name_num_chars</th>\n",
       "      <th>Name_num_stopwords</th>\n",
       "      <th>Name_num_punctuations</th>\n",
       "      <th>Name_num_emojis</th>\n",
       "      <th>Name_num_words_upper</th>\n",
       "      <th>Name_num_words_title</th>\n",
       "      <th>Name_mean_word_len</th>\n",
       "      <th>Processed_Name</th>\n",
       "      <th>0</th>\n",
       "      <th>1</th>\n",
       "      <th>2</th>\n",
       "      <th>3</th>\n",
       "      <th>4</th>\n",
       "      <th>5</th>\n",
       "      <th>6</th>\n",
       "      <th>7</th>\n",
       "      <th>8</th>\n",
       "      <th>9</th>\n",
       "      <th>10</th>\n",
       "      <th>11</th>\n",
       "      <th>...</th>\n",
       "      <th>Name_z money</th>\n",
       "      <th>Name_zaddyb</th>\n",
       "      <th>Name_zcbeat</th>\n",
       "      <th>Name_zedd</th>\n",
       "      <th>Name_zimmer</th>\n",
       "      <th>Name_zinay hernandez</th>\n",
       "      <th>Name_zpk</th>\n",
       "      <th>Name_zzz beat</th>\n",
       "      <th>Name_all-music</th>\n",
       "      <th>Name_alternativerock</th>\n",
       "      <th>Name_ambient</th>\n",
       "      <th>Name_classical</th>\n",
       "      <th>Name_country</th>\n",
       "      <th>Name_danceedm</th>\n",
       "      <th>Name_deephouse</th>\n",
       "      <th>Name_disco</th>\n",
       "      <th>Name_drumbass</th>\n",
       "      <th>Name_dubstep</th>\n",
       "      <th>Name_electronic</th>\n",
       "      <th>Name_folksingersongwriter</th>\n",
       "      <th>Name_hiphoprap</th>\n",
       "      <th>Name_indie</th>\n",
       "      <th>Name_latin</th>\n",
       "      <th>Name_metal</th>\n",
       "      <th>Name_pop</th>\n",
       "      <th>Name_rbsoul</th>\n",
       "      <th>Name_reggaeton</th>\n",
       "      <th>Name_rock</th>\n",
       "      <th>Name_trap</th>\n",
       "      <th>Song_num_words</th>\n",
       "      <th>Song_num_unique_words</th>\n",
       "      <th>Song_num_chars</th>\n",
       "      <th>Song_num_stopwords</th>\n",
       "      <th>Song_num_punctuations</th>\n",
       "      <th>Song_num_emojis</th>\n",
       "      <th>Song_num_words_upper</th>\n",
       "      <th>Song_num_words_title</th>\n",
       "      <th>Song_mean_word_len</th>\n",
       "      <th>token</th>\n",
       "      <th>lemmatized</th>\n",
       "    </tr>\n",
       "  </thead>\n",
       "  <tbody>\n",
       "    <tr>\n",
       "      <th>0</th>\n",
       "      <td>danceedm</td>\n",
       "      <td>N-Vitral presents BOMBSQUAD - Poison Spitter (...</td>\n",
       "      <td>4</td>\n",
       "      <td>499</td>\n",
       "      <td>97</td>\n",
       "      <td>119563</td>\n",
       "      <td>2018</td>\n",
       "      <td>1</td>\n",
       "      <td>3</td>\n",
       "      <td>13</td>\n",
       "      <td>89</td>\n",
       "      <td>30</td>\n",
       "      <td>4</td>\n",
       "      <td>0</td>\n",
       "      <td>15</td>\n",
       "      <td>924.750000</td>\n",
       "      <td>0.0</td>\n",
       "      <td>3.0</td>\n",
       "      <td>1</td>\n",
       "      <td>1</td>\n",
       "      <td>9</td>\n",
       "      <td>0</td>\n",
       "      <td>0</td>\n",
       "      <td>0</td>\n",
       "      <td>0</td>\n",
       "      <td>1</td>\n",
       "      <td>9.000000</td>\n",
       "      <td>n vitral presents bombsquad poison spitter sna...</td>\n",
       "      <td>0.021041</td>\n",
       "      <td>-0.033350</td>\n",
       "      <td>0.082035</td>\n",
       "      <td>-0.037610</td>\n",
       "      <td>0.055470</td>\n",
       "      <td>0.002246</td>\n",
       "      <td>0.020781</td>\n",
       "      <td>-0.018585</td>\n",
       "      <td>-0.002026</td>\n",
       "      <td>0.049896</td>\n",
       "      <td>-0.000654</td>\n",
       "      <td>-0.004295</td>\n",
       "      <td>...</td>\n",
       "      <td>0</td>\n",
       "      <td>0</td>\n",
       "      <td>0</td>\n",
       "      <td>0</td>\n",
       "      <td>0</td>\n",
       "      <td>0</td>\n",
       "      <td>0</td>\n",
       "      <td>0</td>\n",
       "      <td>0</td>\n",
       "      <td>0</td>\n",
       "      <td>0</td>\n",
       "      <td>0</td>\n",
       "      <td>0</td>\n",
       "      <td>1</td>\n",
       "      <td>0</td>\n",
       "      <td>0</td>\n",
       "      <td>0</td>\n",
       "      <td>0</td>\n",
       "      <td>0</td>\n",
       "      <td>0</td>\n",
       "      <td>0</td>\n",
       "      <td>0</td>\n",
       "      <td>0</td>\n",
       "      <td>0</td>\n",
       "      <td>0</td>\n",
       "      <td>0</td>\n",
       "      <td>0</td>\n",
       "      <td>0</td>\n",
       "      <td>0</td>\n",
       "      <td>9</td>\n",
       "      <td>9</td>\n",
       "      <td>67</td>\n",
       "      <td>0</td>\n",
       "      <td>4</td>\n",
       "      <td>0</td>\n",
       "      <td>1</td>\n",
       "      <td>5</td>\n",
       "      <td>6.555556</td>\n",
       "      <td>n vitral presents bombsquad   poison spitter  ...</td>\n",
       "      <td>n vitral presents bombsquad    poison spitter ...</td>\n",
       "    </tr>\n",
       "    <tr>\n",
       "      <th>1</th>\n",
       "      <td>danceedm</td>\n",
       "      <td>Dj Aladdin - Old School Hip Hop Quick Mix</td>\n",
       "      <td>17</td>\n",
       "      <td>49</td>\n",
       "      <td>17</td>\n",
       "      <td>2141</td>\n",
       "      <td>2016</td>\n",
       "      <td>2</td>\n",
       "      <td>6</td>\n",
       "      <td>25</td>\n",
       "      <td>172</td>\n",
       "      <td>20</td>\n",
       "      <td>0</td>\n",
       "      <td>0</td>\n",
       "      <td>5</td>\n",
       "      <td>358.866667</td>\n",
       "      <td>56.0</td>\n",
       "      <td>188.0</td>\n",
       "      <td>2</td>\n",
       "      <td>2</td>\n",
       "      <td>10</td>\n",
       "      <td>0</td>\n",
       "      <td>0</td>\n",
       "      <td>0</td>\n",
       "      <td>0</td>\n",
       "      <td>2</td>\n",
       "      <td>4.500000</td>\n",
       "      <td>dj aladdin old school hip hop quick mix</td>\n",
       "      <td>0.047845</td>\n",
       "      <td>-0.024270</td>\n",
       "      <td>0.074816</td>\n",
       "      <td>0.002757</td>\n",
       "      <td>0.020674</td>\n",
       "      <td>0.018301</td>\n",
       "      <td>-0.018530</td>\n",
       "      <td>-0.026934</td>\n",
       "      <td>0.058923</td>\n",
       "      <td>-0.054909</td>\n",
       "      <td>-0.038559</td>\n",
       "      <td>0.064843</td>\n",
       "      <td>...</td>\n",
       "      <td>0</td>\n",
       "      <td>0</td>\n",
       "      <td>0</td>\n",
       "      <td>0</td>\n",
       "      <td>0</td>\n",
       "      <td>0</td>\n",
       "      <td>0</td>\n",
       "      <td>0</td>\n",
       "      <td>0</td>\n",
       "      <td>0</td>\n",
       "      <td>0</td>\n",
       "      <td>0</td>\n",
       "      <td>0</td>\n",
       "      <td>1</td>\n",
       "      <td>0</td>\n",
       "      <td>0</td>\n",
       "      <td>0</td>\n",
       "      <td>0</td>\n",
       "      <td>0</td>\n",
       "      <td>0</td>\n",
       "      <td>0</td>\n",
       "      <td>0</td>\n",
       "      <td>0</td>\n",
       "      <td>0</td>\n",
       "      <td>0</td>\n",
       "      <td>0</td>\n",
       "      <td>0</td>\n",
       "      <td>0</td>\n",
       "      <td>0</td>\n",
       "      <td>9</td>\n",
       "      <td>9</td>\n",
       "      <td>41</td>\n",
       "      <td>0</td>\n",
       "      <td>1</td>\n",
       "      <td>0</td>\n",
       "      <td>0</td>\n",
       "      <td>8</td>\n",
       "      <td>3.666667</td>\n",
       "      <td>dj aladdin   old school hip hop quick mix</td>\n",
       "      <td>dj aladdin    old school hip hop quick mix</td>\n",
       "    </tr>\n",
       "    <tr>\n",
       "      <th>2</th>\n",
       "      <td>danceedm</td>\n",
       "      <td>Maxximize On Air - Mixed by Blasterjaxx - Epis...</td>\n",
       "      <td>11</td>\n",
       "      <td>312</td>\n",
       "      <td>91</td>\n",
       "      <td>22248</td>\n",
       "      <td>2015</td>\n",
       "      <td>2</td>\n",
       "      <td>5</td>\n",
       "      <td>19</td>\n",
       "      <td>128</td>\n",
       "      <td>8</td>\n",
       "      <td>4</td>\n",
       "      <td>0</td>\n",
       "      <td>17</td>\n",
       "      <td>1065.983333</td>\n",
       "      <td>13.0</td>\n",
       "      <td>231.0</td>\n",
       "      <td>3</td>\n",
       "      <td>3</td>\n",
       "      <td>16</td>\n",
       "      <td>1</td>\n",
       "      <td>0</td>\n",
       "      <td>0</td>\n",
       "      <td>0</td>\n",
       "      <td>3</td>\n",
       "      <td>4.666667</td>\n",
       "      <td>maxximize air mix blasterjaxx episode</td>\n",
       "      <td>0.013735</td>\n",
       "      <td>0.039697</td>\n",
       "      <td>0.002892</td>\n",
       "      <td>0.000504</td>\n",
       "      <td>0.005982</td>\n",
       "      <td>-0.073852</td>\n",
       "      <td>0.036179</td>\n",
       "      <td>-0.016224</td>\n",
       "      <td>0.001808</td>\n",
       "      <td>0.053234</td>\n",
       "      <td>0.037723</td>\n",
       "      <td>0.029996</td>\n",
       "      <td>...</td>\n",
       "      <td>0</td>\n",
       "      <td>0</td>\n",
       "      <td>0</td>\n",
       "      <td>0</td>\n",
       "      <td>0</td>\n",
       "      <td>0</td>\n",
       "      <td>0</td>\n",
       "      <td>0</td>\n",
       "      <td>0</td>\n",
       "      <td>0</td>\n",
       "      <td>0</td>\n",
       "      <td>0</td>\n",
       "      <td>0</td>\n",
       "      <td>1</td>\n",
       "      <td>0</td>\n",
       "      <td>0</td>\n",
       "      <td>0</td>\n",
       "      <td>0</td>\n",
       "      <td>0</td>\n",
       "      <td>0</td>\n",
       "      <td>0</td>\n",
       "      <td>0</td>\n",
       "      <td>0</td>\n",
       "      <td>0</td>\n",
       "      <td>0</td>\n",
       "      <td>0</td>\n",
       "      <td>0</td>\n",
       "      <td>0</td>\n",
       "      <td>0</td>\n",
       "      <td>10</td>\n",
       "      <td>9</td>\n",
       "      <td>54</td>\n",
       "      <td>2</td>\n",
       "      <td>3</td>\n",
       "      <td>0</td>\n",
       "      <td>0</td>\n",
       "      <td>6</td>\n",
       "      <td>4.500000</td>\n",
       "      <td>maxximize on air   mixed by blasterjaxx   epis...</td>\n",
       "      <td>maxximize on air    mix by blasterjaxx    epis...</td>\n",
       "    </tr>\n",
       "    <tr>\n",
       "      <th>3</th>\n",
       "      <td>rbsoul</td>\n",
       "      <td>MC Yago - Tenho Compromisso (DJ R7)</td>\n",
       "      <td>2</td>\n",
       "      <td>2,400</td>\n",
       "      <td>76</td>\n",
       "      <td>393655</td>\n",
       "      <td>2017</td>\n",
       "      <td>2</td>\n",
       "      <td>6</td>\n",
       "      <td>23</td>\n",
       "      <td>159</td>\n",
       "      <td>8</td>\n",
       "      <td>3</td>\n",
       "      <td>0</td>\n",
       "      <td>23</td>\n",
       "      <td>1430.050000</td>\n",
       "      <td>44.0</td>\n",
       "      <td>200.0</td>\n",
       "      <td>2</td>\n",
       "      <td>2</td>\n",
       "      <td>11</td>\n",
       "      <td>0</td>\n",
       "      <td>0</td>\n",
       "      <td>0</td>\n",
       "      <td>2</td>\n",
       "      <td>0</td>\n",
       "      <td>5.000000</td>\n",
       "      <td>mc yago tenho compromisso dj</td>\n",
       "      <td>-0.016775</td>\n",
       "      <td>0.029958</td>\n",
       "      <td>0.033158</td>\n",
       "      <td>0.045922</td>\n",
       "      <td>0.055774</td>\n",
       "      <td>-0.031512</td>\n",
       "      <td>0.056576</td>\n",
       "      <td>-0.006072</td>\n",
       "      <td>0.008971</td>\n",
       "      <td>0.078008</td>\n",
       "      <td>0.048040</td>\n",
       "      <td>0.009351</td>\n",
       "      <td>...</td>\n",
       "      <td>0</td>\n",
       "      <td>0</td>\n",
       "      <td>0</td>\n",
       "      <td>0</td>\n",
       "      <td>0</td>\n",
       "      <td>0</td>\n",
       "      <td>0</td>\n",
       "      <td>0</td>\n",
       "      <td>0</td>\n",
       "      <td>0</td>\n",
       "      <td>0</td>\n",
       "      <td>0</td>\n",
       "      <td>0</td>\n",
       "      <td>0</td>\n",
       "      <td>0</td>\n",
       "      <td>0</td>\n",
       "      <td>0</td>\n",
       "      <td>0</td>\n",
       "      <td>0</td>\n",
       "      <td>0</td>\n",
       "      <td>0</td>\n",
       "      <td>0</td>\n",
       "      <td>0</td>\n",
       "      <td>0</td>\n",
       "      <td>0</td>\n",
       "      <td>1</td>\n",
       "      <td>0</td>\n",
       "      <td>0</td>\n",
       "      <td>0</td>\n",
       "      <td>7</td>\n",
       "      <td>7</td>\n",
       "      <td>35</td>\n",
       "      <td>0</td>\n",
       "      <td>3</td>\n",
       "      <td>0</td>\n",
       "      <td>3</td>\n",
       "      <td>4</td>\n",
       "      <td>4.142857</td>\n",
       "      <td>mc yago   tenho compromisso  dj r7</td>\n",
       "      <td>mc yago    tenho compromisso   dj r7</td>\n",
       "    </tr>\n",
       "    <tr>\n",
       "      <th>4</th>\n",
       "      <td>danceedm</td>\n",
       "      <td>Escape (feat. Steph Jones)</td>\n",
       "      <td>81</td>\n",
       "      <td>3,031</td>\n",
       "      <td>699</td>\n",
       "      <td>201030</td>\n",
       "      <td>2016</td>\n",
       "      <td>3</td>\n",
       "      <td>9</td>\n",
       "      <td>37</td>\n",
       "      <td>261</td>\n",
       "      <td>17</td>\n",
       "      <td>5</td>\n",
       "      <td>1</td>\n",
       "      <td>20</td>\n",
       "      <td>1250.316667</td>\n",
       "      <td>145.0</td>\n",
       "      <td>99.0</td>\n",
       "      <td>1</td>\n",
       "      <td>1</td>\n",
       "      <td>8</td>\n",
       "      <td>0</td>\n",
       "      <td>0</td>\n",
       "      <td>0</td>\n",
       "      <td>0</td>\n",
       "      <td>1</td>\n",
       "      <td>8.000000</td>\n",
       "      <td>escape feat steph jones</td>\n",
       "      <td>0.037602</td>\n",
       "      <td>-0.035869</td>\n",
       "      <td>0.118484</td>\n",
       "      <td>-0.072538</td>\n",
       "      <td>-0.010986</td>\n",
       "      <td>0.071495</td>\n",
       "      <td>0.027865</td>\n",
       "      <td>-0.035950</td>\n",
       "      <td>-0.080773</td>\n",
       "      <td>0.017510</td>\n",
       "      <td>-0.007013</td>\n",
       "      <td>0.009469</td>\n",
       "      <td>...</td>\n",
       "      <td>0</td>\n",
       "      <td>0</td>\n",
       "      <td>0</td>\n",
       "      <td>0</td>\n",
       "      <td>0</td>\n",
       "      <td>0</td>\n",
       "      <td>0</td>\n",
       "      <td>0</td>\n",
       "      <td>0</td>\n",
       "      <td>0</td>\n",
       "      <td>0</td>\n",
       "      <td>0</td>\n",
       "      <td>0</td>\n",
       "      <td>1</td>\n",
       "      <td>0</td>\n",
       "      <td>0</td>\n",
       "      <td>0</td>\n",
       "      <td>0</td>\n",
       "      <td>0</td>\n",
       "      <td>0</td>\n",
       "      <td>0</td>\n",
       "      <td>0</td>\n",
       "      <td>0</td>\n",
       "      <td>0</td>\n",
       "      <td>0</td>\n",
       "      <td>0</td>\n",
       "      <td>0</td>\n",
       "      <td>0</td>\n",
       "      <td>0</td>\n",
       "      <td>4</td>\n",
       "      <td>4</td>\n",
       "      <td>26</td>\n",
       "      <td>0</td>\n",
       "      <td>3</td>\n",
       "      <td>0</td>\n",
       "      <td>0</td>\n",
       "      <td>3</td>\n",
       "      <td>5.750000</td>\n",
       "      <td>escape  feat  steph jones</td>\n",
       "      <td>escape   feat   steph jones</td>\n",
       "    </tr>\n",
       "  </tbody>\n",
       "</table>\n",
       "<p>5 rows × 1727 columns</p>\n",
       "</div>"
      ],
      "text/plain": [
       "      Genre  ...                                         lemmatized\n",
       "0  danceedm  ...  n vitral presents bombsquad    poison spitter ...\n",
       "1  danceedm  ...         dj aladdin    old school hip hop quick mix\n",
       "2  danceedm  ...  maxximize on air    mix by blasterjaxx    epis...\n",
       "3    rbsoul  ...               mc yago    tenho compromisso   dj r7\n",
       "4  danceedm  ...                        escape   feat   steph jones\n",
       "\n",
       "[5 rows x 1727 columns]"
      ]
     },
     "execution_count": 38,
     "metadata": {
      "tags": []
     },
     "output_type": "execute_result"
    }
   ],
   "source": [
    "# Apply basis pre-processing on 'Song_Name' field\n",
    "combined_df = nlp(combined_df, \"Song_Name\")\n",
    "\n",
    "# Lemmatize the 'token' field\n",
    "combined_df['lemmatized'] = combined_df['token'].apply(lambda x: lemma_function(x))\n",
    "\n",
    "# Remove any stop-words in 'lemmatized' field\n",
    "stop = stopwords.words('english')\n",
    "combined_df['Processed_Name'] = combined_df['lemmatized'].apply(lambda x: \" \".join(x for x in x.split() if x not in stop))\n",
    "\n",
    "# Remove numbers in 'lemmatized' field\n",
    "combined_df['Processed_Name'] = combined_df['Processed_Name'].apply(lambda x: \" \".join(x for x in x.split() if x.isalpha()))\n",
    "combined_df.head()"
   ]
  },
  {
   "cell_type": "code",
   "execution_count": 0,
   "metadata": {
    "colab": {
     "base_uri": "https://localhost:8080/",
     "height": 34
    },
    "colab_type": "code",
    "executionInfo": {
     "elapsed": 1126,
     "status": "ok",
     "timestamp": 1578312549345,
     "user": {
      "displayName": "TAPAS DAS",
      "photoUrl": "https://lh3.googleusercontent.com/a-/AAuE7mAWMXeao3oujURH7jI31N9NlnBx3o-Qy3i2T8kupg=s64",
      "userId": "10798398878324948542"
     },
     "user_tz": -330
    },
    "id": "2esmGceuBswf",
    "outputId": "05df3051-5df5-45f5-cd2d-f23627591fd2"
   },
   "outputs": [
    {
     "name": "stdout",
     "output_type": "stream",
     "text": [
      "Number of features: 1724\n"
     ]
    }
   ],
   "source": [
    "# Drop redundant fields\n",
    "combined_df.drop(['Song_Name', 'token', 'lemmatized'], inplace=True, axis=1)\n",
    "print(\"Number of features: {}\".format(combined_df.shape[1]))"
   ]
  },
  {
   "cell_type": "code",
   "execution_count": 0,
   "metadata": {
    "colab": {
     "base_uri": "https://localhost:8080/",
     "height": 34
    },
    "colab_type": "code",
    "executionInfo": {
     "elapsed": 11126,
     "status": "ok",
     "timestamp": 1578312560357,
     "user": {
      "displayName": "TAPAS DAS",
      "photoUrl": "https://lh3.googleusercontent.com/a-/AAuE7mAWMXeao3oujURH7jI31N9NlnBx3o-Qy3i2T8kupg=s64",
      "userId": "10798398878324948542"
     },
     "user_tz": -330
    },
    "id": "IyNHIkbSBswp",
    "outputId": "e295c21f-4f74-4946-858f-54f4e63b1750"
   },
   "outputs": [
    {
     "name": "stdout",
     "output_type": "stream",
     "text": [
      "Number of features: 2236\n"
     ]
    }
   ],
   "source": [
    "# Sentence encoding for \"Song_Name\" field\n",
    "module_url = \"https://tfhub.dev/google/universal-sentence-encoder/4\"\n",
    "model = hub.load(module_url)\n",
    "song_name_embed = np.array(model(combined_df.Processed_Name))\n",
    "song_name_embed_df = pd.DataFrame(song_name_embed)\n",
    "combined_df = pd.merge(combined_df, song_name_embed_df, left_index=True, right_index=True)\n",
    "print(\"Number of features: {}\".format(combined_df.shape[1]))"
   ]
  },
  {
   "cell_type": "code",
   "execution_count": 0,
   "metadata": {
    "colab": {
     "base_uri": "https://localhost:8080/",
     "height": 50
    },
    "colab_type": "code",
    "executionInfo": {
     "elapsed": 45020,
     "status": "ok",
     "timestamp": 1578312596803,
     "user": {
      "displayName": "TAPAS DAS",
      "photoUrl": "https://lh3.googleusercontent.com/a-/AAuE7mAWMXeao3oujURH7jI31N9NlnBx3o-Qy3i2T8kupg=s64",
      "userId": "10798398878324948542"
     },
     "user_tz": -330
    },
    "id": "CD69vKSSBswt",
    "outputId": "b89e0678-39a0-4bb9-95b2-6b56fb8f4e6d"
   },
   "outputs": [
    {
     "name": "stderr",
     "output_type": "stream",
     "text": [
      "100%|██████████| 98072/98072 [00:35<00:00, 2730.77it/s]\n"
     ]
    },
    {
     "name": "stdout",
     "output_type": "stream",
     "text": [
      "(98072, 300)\n"
     ]
    }
   ],
   "source": [
    "# Create Glove vectors using \"Processed_Name\" field\n",
    "glove_vec = [sent2vec(x) for x in tqdm(combined_df[\"Processed_Name\"].values)]\n",
    "glove_vec_df = pd.DataFrame(np.array(glove_vec))\n",
    "glove_vec_df.columns = ['glove_syn_'+str(i) for i in range(300)]\n",
    "print(glove_vec_df.shape)"
   ]
  },
  {
   "cell_type": "code",
   "execution_count": 0,
   "metadata": {
    "colab": {
     "base_uri": "https://localhost:8080/",
     "height": 34
    },
    "colab_type": "code",
    "executionInfo": {
     "elapsed": 1145,
     "status": "ok",
     "timestamp": 1578312787730,
     "user": {
      "displayName": "TAPAS DAS",
      "photoUrl": "https://lh3.googleusercontent.com/a-/AAuE7mAWMXeao3oujURH7jI31N9NlnBx3o-Qy3i2T8kupg=s64",
      "userId": "10798398878324948542"
     },
     "user_tz": -330
    },
    "id": "1uFXsgzLBswx",
    "outputId": "dd92ceb8-e059-4ef5-ee22-c98ad46bf55a"
   },
   "outputs": [
    {
     "name": "stdout",
     "output_type": "stream",
     "text": [
      "Number of features: 2536\n"
     ]
    }
   ],
   "source": [
    "combined_df = pd.concat([combined_df, glove_vec_df], axis=1)\n",
    "print(\"Number of features: {}\".format(combined_df.shape[1]))"
   ]
  },
  {
   "cell_type": "code",
   "execution_count": 0,
   "metadata": {
    "colab": {
     "base_uri": "https://localhost:8080/",
     "height": 34
    },
    "colab_type": "code",
    "executionInfo": {
     "elapsed": 2107,
     "status": "ok",
     "timestamp": 1578312789686,
     "user": {
      "displayName": "TAPAS DAS",
      "photoUrl": "https://lh3.googleusercontent.com/a-/AAuE7mAWMXeao3oujURH7jI31N9NlnBx3o-Qy3i2T8kupg=s64",
      "userId": "10798398878324948542"
     },
     "user_tz": -330
    },
    "id": "6yfMkFhTBsxH",
    "outputId": "d0f3dbd3-1489-4ff5-d54d-4b7b2d2e5eea"
   },
   "outputs": [
    {
     "name": "stdout",
     "output_type": "stream",
     "text": [
      "Number of features: 2536\n"
     ]
    }
   ],
   "source": [
    "# Cleanse data in \"Likes\" field\n",
    "combined_df['Likes'] = combined_df['Likes'].map(lambda x: x.replace(\",\", \"\"))\n",
    "combined_df['Likes'] = (combined_df.Likes.replace(r'[KM]+$', '', regex=True).astype(float) * \n",
    "                        combined_df.Likes.str.extract(r'[\\d\\.]+([KM]+)', expand=False)\n",
    "                        .fillna(1).replace(['K','M'], [10**3, 10**6]).astype(int))\n",
    "print(\"Number of features: {}\".format(combined_df.shape[1]))"
   ]
  },
  {
   "cell_type": "code",
   "execution_count": 0,
   "metadata": {
    "colab": {
     "base_uri": "https://localhost:8080/",
     "height": 34
    },
    "colab_type": "code",
    "executionInfo": {
     "elapsed": 1317,
     "status": "ok",
     "timestamp": 1578312789690,
     "user": {
      "displayName": "TAPAS DAS",
      "photoUrl": "https://lh3.googleusercontent.com/a-/AAuE7mAWMXeao3oujURH7jI31N9NlnBx3o-Qy3i2T8kupg=s64",
      "userId": "10798398878324948542"
     },
     "user_tz": -330
    },
    "id": "US4UjuRGBsxL",
    "outputId": "af6497c8-2dd9-422e-c78b-cf007d28f3d1"
   },
   "outputs": [
    {
     "name": "stdout",
     "output_type": "stream",
     "text": [
      "Number of features: 2536\n"
     ]
    }
   ],
   "source": [
    "# Cleanse data in \"Popularity\" field\n",
    "combined_df['Popularity'] = combined_df['Popularity'].map(lambda x: x.replace(\",\", \"\"))\n",
    "combined_df['Popularity'] = (combined_df.Popularity.replace(r'[KM]+$', '', regex=True).astype(float) * \n",
    "                             combined_df.Popularity.str.extract(r'[\\d\\.]+([KM]+)', expand=False)\n",
    "                             .fillna(1).replace(['K','M'], [10**3, 10**6]).astype(int))\n",
    "print(\"Number of features: {}\".format(combined_df.shape[1]))"
   ]
  },
  {
   "cell_type": "code",
   "execution_count": 0,
   "metadata": {
    "colab": {},
    "colab_type": "code",
    "id": "TYxAt3BpBsxQ"
   },
   "outputs": [],
   "source": [
    "# Drop redundant columns\n",
    "combined_df.drop(['Processed_Name', 'Genre'], inplace=True, axis=1)"
   ]
  },
  {
   "cell_type": "code",
   "execution_count": 0,
   "metadata": {
    "colab": {
     "base_uri": "https://localhost:8080/",
     "height": 34
    },
    "colab_type": "code",
    "executionInfo": {
     "elapsed": 1172,
     "status": "ok",
     "timestamp": 1578312791711,
     "user": {
      "displayName": "TAPAS DAS",
      "photoUrl": "https://lh3.googleusercontent.com/a-/AAuE7mAWMXeao3oujURH7jI31N9NlnBx3o-Qy3i2T8kupg=s64",
      "userId": "10798398878324948542"
     },
     "user_tz": -330
    },
    "id": "Ul8F6p32BsxV",
    "outputId": "64e7b7b0-c746-4a8e-cc9f-0e1b8c8e2334"
   },
   "outputs": [
    {
     "name": "stdout",
     "output_type": "stream",
     "text": [
      "Column with NaN value: []\n"
     ]
    }
   ],
   "source": [
    "# Check if any column has NaN value in dataframe\n",
    "print(\"Column with NaN value: {}\".format(combined_df.columns[combined_df.isnull().any()].tolist()))"
   ]
  },
  {
   "cell_type": "code",
   "execution_count": 0,
   "metadata": {
    "colab": {
     "base_uri": "https://localhost:8080/",
     "height": 50
    },
    "colab_type": "code",
    "executionInfo": {
     "elapsed": 3331,
     "status": "ok",
     "timestamp": 1578312795764,
     "user": {
      "displayName": "TAPAS DAS",
      "photoUrl": "https://lh3.googleusercontent.com/a-/AAuE7mAWMXeao3oujURH7jI31N9NlnBx3o-Qy3i2T8kupg=s64",
      "userId": "10798398878324948542"
     },
     "user_tz": -330
    },
    "id": "bB4-aL7qBsxc",
    "outputId": "b5a15d28-cf26-47d3-c547-b2b368f341a8"
   },
   "outputs": [
    {
     "name": "stdout",
     "output_type": "stream",
     "text": [
      "Xtrain: (78457, 2534)\n",
      "Xpredict: (19615, 2534)\n"
     ]
    }
   ],
   "source": [
    "# Segregate combined_df into train/predict datasets\n",
    "Xtrain = combined_df[:78457].values\n",
    "Xpredict = combined_df[78457:].values\n",
    "print(\"Xtrain: {}\".format(Xtrain.shape))\n",
    "print(\"Xpredict: {}\".format(Xpredict.shape))"
   ]
  },
  {
   "cell_type": "code",
   "execution_count": 0,
   "metadata": {
    "colab": {},
    "colab_type": "code",
    "id": "QT7D5E0ABsxm"
   },
   "outputs": [],
   "source": [
    "# Scale the Xtrain/Xpredict datasets\n",
    "scaler_x = RobustScaler().fit(Xtrain)\n",
    "Xtrain = scaler_x.transform(Xtrain)\n",
    "Xpredict = scaler_x.transform(Xpredict)"
   ]
  },
  {
   "cell_type": "markdown",
   "metadata": {
    "colab_type": "text",
    "id": "8kZ8jBafsDcJ"
   },
   "source": [
    "## Save the datasets in NPZ file (for reusability)"
   ]
  },
  {
   "cell_type": "code",
   "execution_count": 0,
   "metadata": {
    "colab": {},
    "colab_type": "code",
    "id": "yUbV3i04sDcM"
   },
   "outputs": [],
   "source": [
    "np.savez_compressed('/content/drive/My Drive/Colab Notebooks/Chartbusters Prediction - Foretell The Popularity Of Songs/Datasets/Chartbusters_Songs_Popularity_Prediction_dataset.npz',\n",
    "                    Xtrain=Xtrain, \n",
    "                    Ytrain=Ytrain,\n",
    "                    Xpredict=Xpredict)"
   ]
  },
  {
   "cell_type": "markdown",
   "metadata": {
    "colab_type": "text",
    "id": "4wdveSoXsDcQ"
   },
   "source": [
    "## Load datasets from the NPZ file"
   ]
  },
  {
   "cell_type": "code",
   "execution_count": 11,
   "metadata": {
    "colab": {
     "base_uri": "https://localhost:8080/",
     "height": 67
    },
    "colab_type": "code",
    "executionInfo": {
     "elapsed": 12076,
     "status": "ok",
     "timestamp": 1578730511634,
     "user": {
      "displayName": "TAPAS DAS",
      "photoUrl": "https://lh3.googleusercontent.com/a-/AAuE7mAWMXeao3oujURH7jI31N9NlnBx3o-Qy3i2T8kupg=s64",
      "userId": "10798398878324948542"
     },
     "user_tz": -330
    },
    "id": "8wxbh62psDcS",
    "outputId": "04788a76-ba4a-490d-c4d1-3cda58dcd014"
   },
   "outputs": [
    {
     "name": "stdout",
     "output_type": "stream",
     "text": [
      "Xtrain: (78457, 2534) \n",
      "Ytrain: (78457, 1) \n",
      "Xpredict: (19615, 2534)\n"
     ]
    }
   ],
   "source": [
    "# Read the training, holdout and test datasets from processed file\n",
    "processed_dataset = np.load('/content/drive/My Drive/Colab Notebooks/Chartbusters Prediction - Foretell The Popularity Of Songs/Datasets/Chartbusters_Songs_Popularity_Prediction_dataset.npz', allow_pickle=True)\n",
    "Xtrain, Ytrain, Xpredict = processed_dataset['Xtrain'], processed_dataset['Ytrain'], processed_dataset['Xpredict']\n",
    "print(\"Xtrain: {} \\nYtrain: {} \\nXpredict: {}\".format(Xtrain.shape, Ytrain.shape, Xpredict.shape))"
   ]
  },
  {
   "cell_type": "markdown",
   "metadata": {
    "colab_type": "text",
    "id": "oj9PH10BsDb2"
   },
   "source": [
    "## Create train and test datasets"
   ]
  },
  {
   "cell_type": "code",
   "execution_count": 12,
   "metadata": {
    "colab": {
     "base_uri": "https://localhost:8080/",
     "height": 84
    },
    "colab_type": "code",
    "executionInfo": {
     "elapsed": 13710,
     "status": "ok",
     "timestamp": 1578730514521,
     "user": {
      "displayName": "TAPAS DAS",
      "photoUrl": "https://lh3.googleusercontent.com/a-/AAuE7mAWMXeao3oujURH7jI31N9NlnBx3o-Qy3i2T8kupg=s64",
      "userId": "10798398878324948542"
     },
     "user_tz": -330
    },
    "id": "h58HOiDnsDb4",
    "outputId": "537284d6-9c7b-4de1-a844-fe853aa44ffc"
   },
   "outputs": [
    {
     "name": "stdout",
     "output_type": "stream",
     "text": [
      "Xtrain: (74534, 2534) \n",
      "Ytrain: (74534, 1)\n",
      "Xtest: (3923, 2534) \n",
      "Ytest: (3923, 1)\n"
     ]
    }
   ],
   "source": [
    "Xtrain, Xtest, Ytrain, Ytest = train_test_split(Xtrain, Ytrain, test_size=0.05, random_state=10)\n",
    "print(\"Xtrain: {} \\nYtrain: {}\".format(Xtrain.shape, Ytrain.shape))\n",
    "print(\"Xtest: {} \\nYtest: {}\".format(Xtest.shape, Ytest.shape))"
   ]
  },
  {
   "cell_type": "markdown",
   "metadata": {
    "colab_type": "text",
    "id": "LaTuSFT8Zcs4"
   },
   "source": [
    "## Define custom loss function for calculating RMSE"
   ]
  },
  {
   "cell_type": "code",
   "execution_count": 0,
   "metadata": {
    "colab": {},
    "colab_type": "code",
    "id": "2uUMjqvbYBcN"
   },
   "outputs": [],
   "source": [
    "def custom_loss_rmse(y_true, y_pred):\n",
    "    \"\"\"\n",
    "        Description: Function to calculate root-mean-squared-error (RMSE) value\n",
    "        \n",
    "        Parameters:\n",
    "            y_true: True outputs\n",
    "            y_pred: Predicted outputs\n",
    "        \n",
    "        Return: Calculated RMSE value\n",
    "    \"\"\"\n",
    "\n",
    "    return tf.sqrt(tf.reduce_mean((y_true - y_pred)**2))"
   ]
  },
  {
   "cell_type": "markdown",
   "metadata": {
    "colab_type": "text",
    "id": "2GXlBoxHsDca"
   },
   "source": [
    "## Build the model"
   ]
  },
  {
   "cell_type": "code",
   "execution_count": 0,
   "metadata": {
    "colab": {},
    "colab_type": "code",
    "id": "HY9bXOyNk0Vj"
   },
   "outputs": [],
   "source": [
    "space = { \n",
    "    'lr': hp.loguniform('lr', 1e-5, 1e-2),\n",
    "    'units1': hp.uniform('units1', 50, 5000),\n",
    "    'units2': hp.uniform('units2', 50, 5000),\n",
    "    'units3': hp.uniform('units3', 50, 5000),\n",
    "    'units4': hp.uniform('units4', 50, 5000),\n",
    "    'units5': hp.uniform('units5', 50, 5000),\n",
    "    'dropout1': hp.uniform('dropout1', .25, .75),\n",
    "    'dropout2': hp.uniform('dropout2', .25, .75),\n",
    "    'dropout3': hp.uniform('dropout3', .25, .75),\n",
    "    'dropout4': hp.uniform('dropout4', .25, .75),\n",
    "    'dropout5': hp.uniform('dropout5', .25, .75),\n",
    "    'kernel_reg1': hp.uniform('kernel_reg1', .01, .1),\n",
    "    'kernel_reg2': hp.uniform('kernel_reg2', .01, .1),\n",
    "    'kernel_reg3': hp.uniform('kernel_reg3', .01, .1),\n",
    "    'kernel_reg4': hp.uniform('kernel_reg4', .01, .1),\n",
    "    'kernel_reg5': hp.uniform('kernel_reg5', .01, .1)\n",
    "}"
   ]
  },
  {
   "cell_type": "code",
   "execution_count": 0,
   "metadata": {
    "colab": {},
    "colab_type": "code",
    "id": "ae5tS88lsDcc"
   },
   "outputs": [],
   "source": [
    "def nn_model(space):\n",
    "\n",
    "    print ('Params testing: ', space)\n",
    "\n",
    "    # Input Layer\n",
    "    x_input = Input(shape=(2534, ), name='INPUT')\n",
    "\n",
    "    # Fully-connected Layer 1\n",
    "    x = Dense(units=int(space['units1']), name='FC-1', activation='relu', kernel_regularizer=l2(space['kernel_reg1']))(x_input)\n",
    "    x = BatchNormalization(name='BN_FC-1')(x)\n",
    "    x = Dropout(rate=space['dropout1'], name='DROPOUT_FC-1')(x)\n",
    "\n",
    "    # Fully-connected Layer 2\n",
    "    x = Dense(units=int(space['units2']), name='FC-2', activation='relu', kernel_regularizer=l2(space['kernel_reg2']))(x)\n",
    "    x = BatchNormalization(name='BN_FC-2')(x)\n",
    "    x = Dropout(rate=space['dropout2'], name='DROPOUT_FC-2')(x)\n",
    "\n",
    "    # Fully-connected Layer 3\n",
    "    x = Dense(units=int(space['units3']), name='FC-3', activation='relu', kernel_regularizer=l2(space['kernel_reg3']))(x)\n",
    "    x = BatchNormalization(name='BN_FC-3')(x)\n",
    "    x = Dropout(rate=space['dropout3'], name='DROPOUT_FC-3')(x)\n",
    "\n",
    "    # Fully-connected Layer 4\n",
    "    x = Dense(units=int(space['units4']), name='FC-4', activation='relu', kernel_regularizer=l2(space['kernel_reg4']))(x)\n",
    "    x = BatchNormalization(name='BN_FC-4')(x)\n",
    "    x = Dropout(rate=space['dropout4'], name='DROPOUT_FC-4')(x)\n",
    "\n",
    "    # Fully-connected Layer 5\n",
    "    x = Dense(units=int(space['units5']), name='FC-5', activation='relu', kernel_regularizer=l2(space['kernel_reg5']))(x)\n",
    "    x = BatchNormalization(name='BN_FC-5')(x)\n",
    "    x = Dropout(rate=space['dropout5'], name='DROPOUT_FC-5')(x)\n",
    "\n",
    "    # Output Layer\n",
    "    x = Dense(units=1, name='OUTPUT', activation='linear')(x)\n",
    "\n",
    "    # Create Keras Model instance\n",
    "    model = Model(inputs=x_input, outputs=x, name='Chartbusters_Songs_Popularity_Predictor')\n",
    "\n",
    "    # Compile model to configure the learning process\n",
    "    model.compile(loss=custom_loss_rmse, optimizer=Adam(lr=space['lr']), metrics=[RootMeanSquaredError()])\n",
    "\n",
    "    # Fit the model\n",
    "    history = model.fit(x=Xtrain, y=Ytrain, verbose=0,\n",
    "                        batch_size=256, epochs=180, \n",
    "                        validation_data=(Xtest, Ytest))\n",
    "    \n",
    "    y_pred = model.predict(x=Xtest)\n",
    "    test_rmse = np.sqrt(mean_squared_error(Ytest, y_pred))\n",
    "    \n",
    "    print('RMSE:', test_rmse)\n",
    "    sys.stdout.flush() \n",
    "    return {'loss': test_rmse, 'status': STATUS_OK}"
   ]
  },
  {
   "cell_type": "code",
   "execution_count": 16,
   "metadata": {
    "colab": {
     "base_uri": "https://localhost:8080/",
     "height": 354
    },
    "colab_type": "code",
    "executionInfo": {
     "elapsed": 1353,
     "status": "error",
     "timestamp": 1578737768761,
     "user": {
      "displayName": "TAPAS DAS",
      "photoUrl": "https://lh3.googleusercontent.com/a-/AAuE7mAWMXeao3oujURH7jI31N9NlnBx3o-Qy3i2T8kupg=s64",
      "userId": "10798398878324948542"
     },
     "user_tz": -330
    },
    "id": "UcyKtJBrqJrq",
    "outputId": "054730f2-c131-42b4-a2cd-807f2f466fd7"
   },
   "outputs": [
    {
     "name": "stdout",
     "output_type": "stream",
     "text": [
      "\n"
     ]
    },
    {
     "ename": "KeyboardInterrupt",
     "evalue": "ignored",
     "output_type": "error",
     "traceback": [
      "\u001b[0;31m---------------------------------------------------------------------------\u001b[0m",
      "\u001b[0;31mKeyboardInterrupt\u001b[0m                         Traceback (most recent call last)",
      "\u001b[0;32m<ipython-input-16-52d08bf2a53a>\u001b[0m in \u001b[0;36m<module>\u001b[0;34m()\u001b[0m\n\u001b[1;32m      4\u001b[0m             \u001b[0malgo\u001b[0m\u001b[0;34m=\u001b[0m\u001b[0mtpe\u001b[0m\u001b[0;34m.\u001b[0m\u001b[0msuggest\u001b[0m\u001b[0;34m,\u001b[0m\u001b[0;34m\u001b[0m\u001b[0;34m\u001b[0m\u001b[0m\n\u001b[1;32m      5\u001b[0m             \u001b[0mmax_evals\u001b[0m\u001b[0;34m=\u001b[0m\u001b[0;36m100\u001b[0m\u001b[0;34m,\u001b[0m\u001b[0;34m\u001b[0m\u001b[0;34m\u001b[0m\u001b[0m\n\u001b[0;32m----> 6\u001b[0;31m             trials=trials)\n\u001b[0m",
      "\u001b[0;32m/usr/local/lib/python3.6/dist-packages/hyperopt/fmin.py\u001b[0m in \u001b[0;36mfmin\u001b[0;34m(fn, space, algo, max_evals, trials, rstate, allow_trials_fmin, pass_expr_memo_ctrl, catch_eval_exceptions, verbose, return_argmin, points_to_evaluate, max_queue_len, show_progressbar)\u001b[0m\n\u001b[1;32m    386\u001b[0m             \u001b[0mcatch_eval_exceptions\u001b[0m\u001b[0;34m=\u001b[0m\u001b[0mcatch_eval_exceptions\u001b[0m\u001b[0;34m,\u001b[0m\u001b[0;34m\u001b[0m\u001b[0;34m\u001b[0m\u001b[0m\n\u001b[1;32m    387\u001b[0m             \u001b[0mreturn_argmin\u001b[0m\u001b[0;34m=\u001b[0m\u001b[0mreturn_argmin\u001b[0m\u001b[0;34m,\u001b[0m\u001b[0;34m\u001b[0m\u001b[0;34m\u001b[0m\u001b[0m\n\u001b[0;32m--> 388\u001b[0;31m             \u001b[0mshow_progressbar\u001b[0m\u001b[0;34m=\u001b[0m\u001b[0mshow_progressbar\u001b[0m\u001b[0;34m,\u001b[0m\u001b[0;34m\u001b[0m\u001b[0;34m\u001b[0m\u001b[0m\n\u001b[0m\u001b[1;32m    389\u001b[0m         )\n\u001b[1;32m    390\u001b[0m \u001b[0;34m\u001b[0m\u001b[0m\n",
      "\u001b[0;32m/usr/local/lib/python3.6/dist-packages/hyperopt/base.py\u001b[0m in \u001b[0;36mfmin\u001b[0;34m(self, fn, space, algo, max_evals, rstate, verbose, pass_expr_memo_ctrl, catch_eval_exceptions, return_argmin, show_progressbar)\u001b[0m\n\u001b[1;32m    637\u001b[0m             \u001b[0mcatch_eval_exceptions\u001b[0m\u001b[0;34m=\u001b[0m\u001b[0mcatch_eval_exceptions\u001b[0m\u001b[0;34m,\u001b[0m\u001b[0;34m\u001b[0m\u001b[0;34m\u001b[0m\u001b[0m\n\u001b[1;32m    638\u001b[0m             \u001b[0mreturn_argmin\u001b[0m\u001b[0;34m=\u001b[0m\u001b[0mreturn_argmin\u001b[0m\u001b[0;34m,\u001b[0m\u001b[0;34m\u001b[0m\u001b[0;34m\u001b[0m\u001b[0m\n\u001b[0;32m--> 639\u001b[0;31m             show_progressbar=show_progressbar)\n\u001b[0m\u001b[1;32m    640\u001b[0m \u001b[0;34m\u001b[0m\u001b[0m\n\u001b[1;32m    641\u001b[0m \u001b[0;34m\u001b[0m\u001b[0m\n",
      "\u001b[0;32m/usr/local/lib/python3.6/dist-packages/hyperopt/fmin.py\u001b[0m in \u001b[0;36mfmin\u001b[0;34m(fn, space, algo, max_evals, trials, rstate, allow_trials_fmin, pass_expr_memo_ctrl, catch_eval_exceptions, verbose, return_argmin, points_to_evaluate, max_queue_len, show_progressbar)\u001b[0m\n\u001b[1;32m    405\u001b[0m                     show_progressbar=show_progressbar)\n\u001b[1;32m    406\u001b[0m     \u001b[0mrval\u001b[0m\u001b[0;34m.\u001b[0m\u001b[0mcatch_eval_exceptions\u001b[0m \u001b[0;34m=\u001b[0m \u001b[0mcatch_eval_exceptions\u001b[0m\u001b[0;34m\u001b[0m\u001b[0;34m\u001b[0m\u001b[0m\n\u001b[0;32m--> 407\u001b[0;31m     \u001b[0mrval\u001b[0m\u001b[0;34m.\u001b[0m\u001b[0mexhaust\u001b[0m\u001b[0;34m(\u001b[0m\u001b[0;34m)\u001b[0m\u001b[0;34m\u001b[0m\u001b[0;34m\u001b[0m\u001b[0m\n\u001b[0m\u001b[1;32m    408\u001b[0m     \u001b[0;32mif\u001b[0m \u001b[0mreturn_argmin\u001b[0m\u001b[0;34m:\u001b[0m\u001b[0;34m\u001b[0m\u001b[0;34m\u001b[0m\u001b[0m\n\u001b[1;32m    409\u001b[0m         \u001b[0;32mreturn\u001b[0m \u001b[0mtrials\u001b[0m\u001b[0;34m.\u001b[0m\u001b[0margmin\u001b[0m\u001b[0;34m\u001b[0m\u001b[0;34m\u001b[0m\u001b[0m\n",
      "\u001b[0;32m/usr/local/lib/python3.6/dist-packages/hyperopt/fmin.py\u001b[0m in \u001b[0;36mexhaust\u001b[0;34m(self)\u001b[0m\n\u001b[1;32m    260\u001b[0m     \u001b[0;32mdef\u001b[0m \u001b[0mexhaust\u001b[0m\u001b[0;34m(\u001b[0m\u001b[0mself\u001b[0m\u001b[0;34m)\u001b[0m\u001b[0;34m:\u001b[0m\u001b[0;34m\u001b[0m\u001b[0;34m\u001b[0m\u001b[0m\n\u001b[1;32m    261\u001b[0m         \u001b[0mn_done\u001b[0m \u001b[0;34m=\u001b[0m \u001b[0mlen\u001b[0m\u001b[0;34m(\u001b[0m\u001b[0mself\u001b[0m\u001b[0;34m.\u001b[0m\u001b[0mtrials\u001b[0m\u001b[0;34m)\u001b[0m\u001b[0;34m\u001b[0m\u001b[0;34m\u001b[0m\u001b[0m\n\u001b[0;32m--> 262\u001b[0;31m         \u001b[0mself\u001b[0m\u001b[0;34m.\u001b[0m\u001b[0mrun\u001b[0m\u001b[0;34m(\u001b[0m\u001b[0mself\u001b[0m\u001b[0;34m.\u001b[0m\u001b[0mmax_evals\u001b[0m \u001b[0;34m-\u001b[0m \u001b[0mn_done\u001b[0m\u001b[0;34m,\u001b[0m \u001b[0mblock_until_done\u001b[0m\u001b[0;34m=\u001b[0m\u001b[0mself\u001b[0m\u001b[0;34m.\u001b[0m\u001b[0masynchronous\u001b[0m\u001b[0;34m)\u001b[0m\u001b[0;34m\u001b[0m\u001b[0;34m\u001b[0m\u001b[0m\n\u001b[0m\u001b[1;32m    263\u001b[0m         \u001b[0mself\u001b[0m\u001b[0;34m.\u001b[0m\u001b[0mtrials\u001b[0m\u001b[0;34m.\u001b[0m\u001b[0mrefresh\u001b[0m\u001b[0;34m(\u001b[0m\u001b[0;34m)\u001b[0m\u001b[0;34m\u001b[0m\u001b[0;34m\u001b[0m\u001b[0m\n\u001b[1;32m    264\u001b[0m         \u001b[0;32mreturn\u001b[0m \u001b[0mself\u001b[0m\u001b[0;34m\u001b[0m\u001b[0;34m\u001b[0m\u001b[0m\n",
      "\u001b[0;32m/usr/local/lib/python3.6/dist-packages/hyperopt/fmin.py\u001b[0m in \u001b[0;36mrun\u001b[0;34m(self, N, block_until_done)\u001b[0m\n\u001b[1;32m    225\u001b[0m                     \u001b[0;32melse\u001b[0m\u001b[0;34m:\u001b[0m\u001b[0;34m\u001b[0m\u001b[0;34m\u001b[0m\u001b[0m\n\u001b[1;32m    226\u001b[0m                         \u001b[0;31m# -- loop over trials and do the jobs directly\u001b[0m\u001b[0;34m\u001b[0m\u001b[0;34m\u001b[0m\u001b[0;34m\u001b[0m\u001b[0m\n\u001b[0;32m--> 227\u001b[0;31m                         \u001b[0mself\u001b[0m\u001b[0;34m.\u001b[0m\u001b[0mserial_evaluate\u001b[0m\u001b[0;34m(\u001b[0m\u001b[0;34m)\u001b[0m\u001b[0;34m\u001b[0m\u001b[0;34m\u001b[0m\u001b[0m\n\u001b[0m\u001b[1;32m    228\u001b[0m \u001b[0;34m\u001b[0m\u001b[0m\n\u001b[1;32m    229\u001b[0m                     \u001b[0;32mtry\u001b[0m\u001b[0;34m:\u001b[0m\u001b[0;34m\u001b[0m\u001b[0;34m\u001b[0m\u001b[0m\n",
      "\u001b[0;32m/usr/local/lib/python3.6/dist-packages/hyperopt/fmin.py\u001b[0m in \u001b[0;36mserial_evaluate\u001b[0;34m(self, N)\u001b[0m\n\u001b[1;32m    139\u001b[0m                 \u001b[0mctrl\u001b[0m \u001b[0;34m=\u001b[0m \u001b[0mbase\u001b[0m\u001b[0;34m.\u001b[0m\u001b[0mCtrl\u001b[0m\u001b[0;34m(\u001b[0m\u001b[0mself\u001b[0m\u001b[0;34m.\u001b[0m\u001b[0mtrials\u001b[0m\u001b[0;34m,\u001b[0m \u001b[0mcurrent_trial\u001b[0m\u001b[0;34m=\u001b[0m\u001b[0mtrial\u001b[0m\u001b[0;34m)\u001b[0m\u001b[0;34m\u001b[0m\u001b[0;34m\u001b[0m\u001b[0m\n\u001b[1;32m    140\u001b[0m                 \u001b[0;32mtry\u001b[0m\u001b[0;34m:\u001b[0m\u001b[0;34m\u001b[0m\u001b[0;34m\u001b[0m\u001b[0m\n\u001b[0;32m--> 141\u001b[0;31m                     \u001b[0mresult\u001b[0m \u001b[0;34m=\u001b[0m \u001b[0mself\u001b[0m\u001b[0;34m.\u001b[0m\u001b[0mdomain\u001b[0m\u001b[0;34m.\u001b[0m\u001b[0mevaluate\u001b[0m\u001b[0;34m(\u001b[0m\u001b[0mspec\u001b[0m\u001b[0;34m,\u001b[0m \u001b[0mctrl\u001b[0m\u001b[0;34m)\u001b[0m\u001b[0;34m\u001b[0m\u001b[0;34m\u001b[0m\u001b[0m\n\u001b[0m\u001b[1;32m    142\u001b[0m                 \u001b[0;32mexcept\u001b[0m \u001b[0mException\u001b[0m \u001b[0;32mas\u001b[0m \u001b[0me\u001b[0m\u001b[0;34m:\u001b[0m\u001b[0;34m\u001b[0m\u001b[0;34m\u001b[0m\u001b[0m\n\u001b[1;32m    143\u001b[0m                     \u001b[0mlogger\u001b[0m\u001b[0;34m.\u001b[0m\u001b[0minfo\u001b[0m\u001b[0;34m(\u001b[0m\u001b[0;34m'job exception: %s'\u001b[0m \u001b[0;34m%\u001b[0m \u001b[0mstr\u001b[0m\u001b[0;34m(\u001b[0m\u001b[0me\u001b[0m\u001b[0;34m)\u001b[0m\u001b[0;34m)\u001b[0m\u001b[0;34m\u001b[0m\u001b[0;34m\u001b[0m\u001b[0m\n",
      "\u001b[0;32m/usr/local/lib/python3.6/dist-packages/hyperopt/base.py\u001b[0m in \u001b[0;36mevaluate\u001b[0;34m(self, config, ctrl, attach_attachments)\u001b[0m\n\u001b[1;32m    842\u001b[0m                 \u001b[0mmemo\u001b[0m\u001b[0;34m=\u001b[0m\u001b[0mmemo\u001b[0m\u001b[0;34m,\u001b[0m\u001b[0;34m\u001b[0m\u001b[0;34m\u001b[0m\u001b[0m\n\u001b[1;32m    843\u001b[0m                 print_node_on_error=self.rec_eval_print_node_on_error)\n\u001b[0;32m--> 844\u001b[0;31m             \u001b[0mrval\u001b[0m \u001b[0;34m=\u001b[0m \u001b[0mself\u001b[0m\u001b[0;34m.\u001b[0m\u001b[0mfn\u001b[0m\u001b[0;34m(\u001b[0m\u001b[0mpyll_rval\u001b[0m\u001b[0;34m)\u001b[0m\u001b[0;34m\u001b[0m\u001b[0;34m\u001b[0m\u001b[0m\n\u001b[0m\u001b[1;32m    845\u001b[0m \u001b[0;34m\u001b[0m\u001b[0m\n\u001b[1;32m    846\u001b[0m         \u001b[0;32mif\u001b[0m \u001b[0misinstance\u001b[0m\u001b[0;34m(\u001b[0m\u001b[0mrval\u001b[0m\u001b[0;34m,\u001b[0m \u001b[0;34m(\u001b[0m\u001b[0mfloat\u001b[0m\u001b[0;34m,\u001b[0m \u001b[0mint\u001b[0m\u001b[0;34m,\u001b[0m \u001b[0mnp\u001b[0m\u001b[0;34m.\u001b[0m\u001b[0mnumber\u001b[0m\u001b[0;34m)\u001b[0m\u001b[0;34m)\u001b[0m\u001b[0;34m:\u001b[0m\u001b[0;34m\u001b[0m\u001b[0;34m\u001b[0m\u001b[0m\n",
      "\u001b[0;32m<ipython-input-15-3225c7e85547>\u001b[0m in \u001b[0;36mnn_model\u001b[0;34m(space)\u001b[0m\n\u001b[1;32m     43\u001b[0m     history = model.fit(x=Xtrain, y=Ytrain, verbose=0,\n\u001b[1;32m     44\u001b[0m                         \u001b[0mbatch_size\u001b[0m\u001b[0;34m=\u001b[0m\u001b[0;36m256\u001b[0m\u001b[0;34m,\u001b[0m \u001b[0mepochs\u001b[0m\u001b[0;34m=\u001b[0m\u001b[0;36m180\u001b[0m\u001b[0;34m,\u001b[0m\u001b[0;34m\u001b[0m\u001b[0;34m\u001b[0m\u001b[0m\n\u001b[0;32m---> 45\u001b[0;31m                         validation_data=(Xtest, Ytest))\n\u001b[0m\u001b[1;32m     46\u001b[0m \u001b[0;34m\u001b[0m\u001b[0m\n\u001b[1;32m     47\u001b[0m     \u001b[0my_pred\u001b[0m \u001b[0;34m=\u001b[0m \u001b[0mmodel\u001b[0m\u001b[0;34m.\u001b[0m\u001b[0mpredict\u001b[0m\u001b[0;34m(\u001b[0m\u001b[0mx\u001b[0m\u001b[0;34m=\u001b[0m\u001b[0mXtest\u001b[0m\u001b[0;34m)\u001b[0m\u001b[0;34m\u001b[0m\u001b[0;34m\u001b[0m\u001b[0m\n",
      "\u001b[0;32m/tensorflow-2.1.0/python3.6/tensorflow_core/python/keras/engine/training.py\u001b[0m in \u001b[0;36mfit\u001b[0;34m(self, x, y, batch_size, epochs, verbose, callbacks, validation_split, validation_data, shuffle, class_weight, sample_weight, initial_epoch, steps_per_epoch, validation_steps, validation_freq, max_queue_size, workers, use_multiprocessing, **kwargs)\u001b[0m\n\u001b[1;32m    817\u001b[0m         \u001b[0mmax_queue_size\u001b[0m\u001b[0;34m=\u001b[0m\u001b[0mmax_queue_size\u001b[0m\u001b[0;34m,\u001b[0m\u001b[0;34m\u001b[0m\u001b[0;34m\u001b[0m\u001b[0m\n\u001b[1;32m    818\u001b[0m         \u001b[0mworkers\u001b[0m\u001b[0;34m=\u001b[0m\u001b[0mworkers\u001b[0m\u001b[0;34m,\u001b[0m\u001b[0;34m\u001b[0m\u001b[0;34m\u001b[0m\u001b[0m\n\u001b[0;32m--> 819\u001b[0;31m         use_multiprocessing=use_multiprocessing)\n\u001b[0m\u001b[1;32m    820\u001b[0m \u001b[0;34m\u001b[0m\u001b[0m\n\u001b[1;32m    821\u001b[0m   def evaluate(self,\n",
      "\u001b[0;32m/tensorflow-2.1.0/python3.6/tensorflow_core/python/keras/engine/training_v2.py\u001b[0m in \u001b[0;36mfit\u001b[0;34m(self, model, x, y, batch_size, epochs, verbose, callbacks, validation_split, validation_data, shuffle, class_weight, sample_weight, initial_epoch, steps_per_epoch, validation_steps, validation_freq, max_queue_size, workers, use_multiprocessing, **kwargs)\u001b[0m\n\u001b[1;32m    340\u001b[0m                 \u001b[0mmode\u001b[0m\u001b[0;34m=\u001b[0m\u001b[0mModeKeys\u001b[0m\u001b[0;34m.\u001b[0m\u001b[0mTRAIN\u001b[0m\u001b[0;34m,\u001b[0m\u001b[0;34m\u001b[0m\u001b[0;34m\u001b[0m\u001b[0m\n\u001b[1;32m    341\u001b[0m                 \u001b[0mtraining_context\u001b[0m\u001b[0;34m=\u001b[0m\u001b[0mtraining_context\u001b[0m\u001b[0;34m,\u001b[0m\u001b[0;34m\u001b[0m\u001b[0;34m\u001b[0m\u001b[0m\n\u001b[0;32m--> 342\u001b[0;31m                 total_epochs=epochs)\n\u001b[0m\u001b[1;32m    343\u001b[0m             \u001b[0mcbks\u001b[0m\u001b[0;34m.\u001b[0m\u001b[0mmake_logs\u001b[0m\u001b[0;34m(\u001b[0m\u001b[0mmodel\u001b[0m\u001b[0;34m,\u001b[0m \u001b[0mepoch_logs\u001b[0m\u001b[0;34m,\u001b[0m \u001b[0mtraining_result\u001b[0m\u001b[0;34m,\u001b[0m \u001b[0mModeKeys\u001b[0m\u001b[0;34m.\u001b[0m\u001b[0mTRAIN\u001b[0m\u001b[0;34m)\u001b[0m\u001b[0;34m\u001b[0m\u001b[0;34m\u001b[0m\u001b[0m\n\u001b[1;32m    344\u001b[0m \u001b[0;34m\u001b[0m\u001b[0m\n",
      "\u001b[0;32m/tensorflow-2.1.0/python3.6/tensorflow_core/python/keras/engine/training_v2.py\u001b[0m in \u001b[0;36mrun_one_epoch\u001b[0;34m(model, iterator, execution_function, dataset_size, batch_size, strategy, steps_per_epoch, num_samples, mode, training_context, total_epochs)\u001b[0m\n\u001b[1;32m    126\u001b[0m         step=step, mode=mode, size=current_batch_size) as batch_logs:\n\u001b[1;32m    127\u001b[0m       \u001b[0;32mtry\u001b[0m\u001b[0;34m:\u001b[0m\u001b[0;34m\u001b[0m\u001b[0;34m\u001b[0m\u001b[0m\n\u001b[0;32m--> 128\u001b[0;31m         \u001b[0mbatch_outs\u001b[0m \u001b[0;34m=\u001b[0m \u001b[0mexecution_function\u001b[0m\u001b[0;34m(\u001b[0m\u001b[0miterator\u001b[0m\u001b[0;34m)\u001b[0m\u001b[0;34m\u001b[0m\u001b[0;34m\u001b[0m\u001b[0m\n\u001b[0m\u001b[1;32m    129\u001b[0m       \u001b[0;32mexcept\u001b[0m \u001b[0;34m(\u001b[0m\u001b[0mStopIteration\u001b[0m\u001b[0;34m,\u001b[0m \u001b[0merrors\u001b[0m\u001b[0;34m.\u001b[0m\u001b[0mOutOfRangeError\u001b[0m\u001b[0;34m)\u001b[0m\u001b[0;34m:\u001b[0m\u001b[0;34m\u001b[0m\u001b[0;34m\u001b[0m\u001b[0m\n\u001b[1;32m    130\u001b[0m         \u001b[0;31m# TODO(kaftan): File bug about tf function and errors.OutOfRangeError?\u001b[0m\u001b[0;34m\u001b[0m\u001b[0;34m\u001b[0m\u001b[0;34m\u001b[0m\u001b[0m\n",
      "\u001b[0;32m/tensorflow-2.1.0/python3.6/tensorflow_core/python/keras/engine/training_v2_utils.py\u001b[0m in \u001b[0;36mexecution_function\u001b[0;34m(input_fn)\u001b[0m\n\u001b[1;32m     96\u001b[0m     \u001b[0;31m# `numpy` translates Tensors to values in Eager mode.\u001b[0m\u001b[0;34m\u001b[0m\u001b[0;34m\u001b[0m\u001b[0;34m\u001b[0m\u001b[0m\n\u001b[1;32m     97\u001b[0m     return nest.map_structure(_non_none_constant_value,\n\u001b[0;32m---> 98\u001b[0;31m                               distributed_function(input_fn))\n\u001b[0m\u001b[1;32m     99\u001b[0m \u001b[0;34m\u001b[0m\u001b[0m\n\u001b[1;32m    100\u001b[0m   \u001b[0;32mreturn\u001b[0m \u001b[0mexecution_function\u001b[0m\u001b[0;34m\u001b[0m\u001b[0;34m\u001b[0m\u001b[0m\n",
      "\u001b[0;32m/tensorflow-2.1.0/python3.6/tensorflow_core/python/eager/def_function.py\u001b[0m in \u001b[0;36m__call__\u001b[0;34m(self, *args, **kwds)\u001b[0m\n\u001b[1;32m    566\u001b[0m         \u001b[0mxla_context\u001b[0m\u001b[0;34m.\u001b[0m\u001b[0mExit\u001b[0m\u001b[0;34m(\u001b[0m\u001b[0;34m)\u001b[0m\u001b[0;34m\u001b[0m\u001b[0;34m\u001b[0m\u001b[0m\n\u001b[1;32m    567\u001b[0m     \u001b[0;32melse\u001b[0m\u001b[0;34m:\u001b[0m\u001b[0;34m\u001b[0m\u001b[0;34m\u001b[0m\u001b[0m\n\u001b[0;32m--> 568\u001b[0;31m       \u001b[0mresult\u001b[0m \u001b[0;34m=\u001b[0m \u001b[0mself\u001b[0m\u001b[0;34m.\u001b[0m\u001b[0m_call\u001b[0m\u001b[0;34m(\u001b[0m\u001b[0;34m*\u001b[0m\u001b[0margs\u001b[0m\u001b[0;34m,\u001b[0m \u001b[0;34m**\u001b[0m\u001b[0mkwds\u001b[0m\u001b[0;34m)\u001b[0m\u001b[0;34m\u001b[0m\u001b[0;34m\u001b[0m\u001b[0m\n\u001b[0m\u001b[1;32m    569\u001b[0m \u001b[0;34m\u001b[0m\u001b[0m\n\u001b[1;32m    570\u001b[0m     \u001b[0;32mif\u001b[0m \u001b[0mtracing_count\u001b[0m \u001b[0;34m==\u001b[0m \u001b[0mself\u001b[0m\u001b[0;34m.\u001b[0m\u001b[0m_get_tracing_count\u001b[0m\u001b[0;34m(\u001b[0m\u001b[0;34m)\u001b[0m\u001b[0;34m:\u001b[0m\u001b[0;34m\u001b[0m\u001b[0;34m\u001b[0m\u001b[0m\n",
      "\u001b[0;32m/tensorflow-2.1.0/python3.6/tensorflow_core/python/eager/def_function.py\u001b[0m in \u001b[0;36m_call\u001b[0;34m(self, *args, **kwds)\u001b[0m\n\u001b[1;32m    597\u001b[0m       \u001b[0;31m# In this case we have created variables on the first call, so we run the\u001b[0m\u001b[0;34m\u001b[0m\u001b[0;34m\u001b[0m\u001b[0;34m\u001b[0m\u001b[0m\n\u001b[1;32m    598\u001b[0m       \u001b[0;31m# defunned version which is guaranteed to never create variables.\u001b[0m\u001b[0;34m\u001b[0m\u001b[0;34m\u001b[0m\u001b[0;34m\u001b[0m\u001b[0m\n\u001b[0;32m--> 599\u001b[0;31m       \u001b[0;32mreturn\u001b[0m \u001b[0mself\u001b[0m\u001b[0;34m.\u001b[0m\u001b[0m_stateless_fn\u001b[0m\u001b[0;34m(\u001b[0m\u001b[0;34m*\u001b[0m\u001b[0margs\u001b[0m\u001b[0;34m,\u001b[0m \u001b[0;34m**\u001b[0m\u001b[0mkwds\u001b[0m\u001b[0;34m)\u001b[0m  \u001b[0;31m# pylint: disable=not-callable\u001b[0m\u001b[0;34m\u001b[0m\u001b[0;34m\u001b[0m\u001b[0m\n\u001b[0m\u001b[1;32m    600\u001b[0m     \u001b[0;32melif\u001b[0m \u001b[0mself\u001b[0m\u001b[0;34m.\u001b[0m\u001b[0m_stateful_fn\u001b[0m \u001b[0;32mis\u001b[0m \u001b[0;32mnot\u001b[0m \u001b[0;32mNone\u001b[0m\u001b[0;34m:\u001b[0m\u001b[0;34m\u001b[0m\u001b[0;34m\u001b[0m\u001b[0m\n\u001b[1;32m    601\u001b[0m       \u001b[0;31m# Release the lock early so that multiple threads can perform the call\u001b[0m\u001b[0;34m\u001b[0m\u001b[0;34m\u001b[0m\u001b[0;34m\u001b[0m\u001b[0m\n",
      "\u001b[0;32m/tensorflow-2.1.0/python3.6/tensorflow_core/python/eager/function.py\u001b[0m in \u001b[0;36m__call__\u001b[0;34m(self, *args, **kwargs)\u001b[0m\n\u001b[1;32m   2361\u001b[0m     \u001b[0;32mwith\u001b[0m \u001b[0mself\u001b[0m\u001b[0;34m.\u001b[0m\u001b[0m_lock\u001b[0m\u001b[0;34m:\u001b[0m\u001b[0;34m\u001b[0m\u001b[0;34m\u001b[0m\u001b[0m\n\u001b[1;32m   2362\u001b[0m       \u001b[0mgraph_function\u001b[0m\u001b[0;34m,\u001b[0m \u001b[0margs\u001b[0m\u001b[0;34m,\u001b[0m \u001b[0mkwargs\u001b[0m \u001b[0;34m=\u001b[0m \u001b[0mself\u001b[0m\u001b[0;34m.\u001b[0m\u001b[0m_maybe_define_function\u001b[0m\u001b[0;34m(\u001b[0m\u001b[0margs\u001b[0m\u001b[0;34m,\u001b[0m \u001b[0mkwargs\u001b[0m\u001b[0;34m)\u001b[0m\u001b[0;34m\u001b[0m\u001b[0;34m\u001b[0m\u001b[0m\n\u001b[0;32m-> 2363\u001b[0;31m     \u001b[0;32mreturn\u001b[0m \u001b[0mgraph_function\u001b[0m\u001b[0;34m.\u001b[0m\u001b[0m_filtered_call\u001b[0m\u001b[0;34m(\u001b[0m\u001b[0margs\u001b[0m\u001b[0;34m,\u001b[0m \u001b[0mkwargs\u001b[0m\u001b[0;34m)\u001b[0m  \u001b[0;31m# pylint: disable=protected-access\u001b[0m\u001b[0;34m\u001b[0m\u001b[0;34m\u001b[0m\u001b[0m\n\u001b[0m\u001b[1;32m   2364\u001b[0m \u001b[0;34m\u001b[0m\u001b[0m\n\u001b[1;32m   2365\u001b[0m   \u001b[0;34m@\u001b[0m\u001b[0mproperty\u001b[0m\u001b[0;34m\u001b[0m\u001b[0;34m\u001b[0m\u001b[0m\n",
      "\u001b[0;32m/tensorflow-2.1.0/python3.6/tensorflow_core/python/eager/function.py\u001b[0m in \u001b[0;36m_filtered_call\u001b[0;34m(self, args, kwargs)\u001b[0m\n\u001b[1;32m   1609\u001b[0m          if isinstance(t, (ops.Tensor,\n\u001b[1;32m   1610\u001b[0m                            resource_variable_ops.BaseResourceVariable))),\n\u001b[0;32m-> 1611\u001b[0;31m         self.captured_inputs)\n\u001b[0m\u001b[1;32m   1612\u001b[0m \u001b[0;34m\u001b[0m\u001b[0m\n\u001b[1;32m   1613\u001b[0m   \u001b[0;32mdef\u001b[0m \u001b[0m_call_flat\u001b[0m\u001b[0;34m(\u001b[0m\u001b[0mself\u001b[0m\u001b[0;34m,\u001b[0m \u001b[0margs\u001b[0m\u001b[0;34m,\u001b[0m \u001b[0mcaptured_inputs\u001b[0m\u001b[0;34m,\u001b[0m \u001b[0mcancellation_manager\u001b[0m\u001b[0;34m=\u001b[0m\u001b[0;32mNone\u001b[0m\u001b[0;34m)\u001b[0m\u001b[0;34m:\u001b[0m\u001b[0;34m\u001b[0m\u001b[0;34m\u001b[0m\u001b[0m\n",
      "\u001b[0;32m/tensorflow-2.1.0/python3.6/tensorflow_core/python/eager/function.py\u001b[0m in \u001b[0;36m_call_flat\u001b[0;34m(self, args, captured_inputs, cancellation_manager)\u001b[0m\n\u001b[1;32m   1690\u001b[0m       \u001b[0;31m# No tape is watching; skip to running the function.\u001b[0m\u001b[0;34m\u001b[0m\u001b[0;34m\u001b[0m\u001b[0;34m\u001b[0m\u001b[0m\n\u001b[1;32m   1691\u001b[0m       return self._build_call_outputs(self._inference_function.call(\n\u001b[0;32m-> 1692\u001b[0;31m           ctx, args, cancellation_manager=cancellation_manager))\n\u001b[0m\u001b[1;32m   1693\u001b[0m     forward_backward = self._select_forward_and_backward_functions(\n\u001b[1;32m   1694\u001b[0m         \u001b[0margs\u001b[0m\u001b[0;34m,\u001b[0m\u001b[0;34m\u001b[0m\u001b[0;34m\u001b[0m\u001b[0m\n",
      "\u001b[0;32m/tensorflow-2.1.0/python3.6/tensorflow_core/python/eager/function.py\u001b[0m in \u001b[0;36mcall\u001b[0;34m(self, ctx, args, cancellation_manager)\u001b[0m\n\u001b[1;32m    543\u001b[0m               \u001b[0minputs\u001b[0m\u001b[0;34m=\u001b[0m\u001b[0margs\u001b[0m\u001b[0;34m,\u001b[0m\u001b[0;34m\u001b[0m\u001b[0;34m\u001b[0m\u001b[0m\n\u001b[1;32m    544\u001b[0m               \u001b[0mattrs\u001b[0m\u001b[0;34m=\u001b[0m\u001b[0;34m(\u001b[0m\u001b[0;34m\"executor_type\"\u001b[0m\u001b[0;34m,\u001b[0m \u001b[0mexecutor_type\u001b[0m\u001b[0;34m,\u001b[0m \u001b[0;34m\"config_proto\"\u001b[0m\u001b[0;34m,\u001b[0m \u001b[0mconfig\u001b[0m\u001b[0;34m)\u001b[0m\u001b[0;34m,\u001b[0m\u001b[0;34m\u001b[0m\u001b[0;34m\u001b[0m\u001b[0m\n\u001b[0;32m--> 545\u001b[0;31m               ctx=ctx)\n\u001b[0m\u001b[1;32m    546\u001b[0m         \u001b[0;32melse\u001b[0m\u001b[0;34m:\u001b[0m\u001b[0;34m\u001b[0m\u001b[0;34m\u001b[0m\u001b[0m\n\u001b[1;32m    547\u001b[0m           outputs = execute.execute_with_cancellation(\n",
      "\u001b[0;32m/tensorflow-2.1.0/python3.6/tensorflow_core/python/eager/execute.py\u001b[0m in \u001b[0;36mquick_execute\u001b[0;34m(op_name, num_outputs, inputs, attrs, ctx, name)\u001b[0m\n\u001b[1;32m     59\u001b[0m     tensors = pywrap_tensorflow.TFE_Py_Execute(ctx._handle, device_name,\n\u001b[1;32m     60\u001b[0m                                                \u001b[0mop_name\u001b[0m\u001b[0;34m,\u001b[0m \u001b[0minputs\u001b[0m\u001b[0;34m,\u001b[0m \u001b[0mattrs\u001b[0m\u001b[0;34m,\u001b[0m\u001b[0;34m\u001b[0m\u001b[0;34m\u001b[0m\u001b[0m\n\u001b[0;32m---> 61\u001b[0;31m                                                num_outputs)\n\u001b[0m\u001b[1;32m     62\u001b[0m   \u001b[0;32mexcept\u001b[0m \u001b[0mcore\u001b[0m\u001b[0;34m.\u001b[0m\u001b[0m_NotOkStatusException\u001b[0m \u001b[0;32mas\u001b[0m \u001b[0me\u001b[0m\u001b[0;34m:\u001b[0m\u001b[0;34m\u001b[0m\u001b[0;34m\u001b[0m\u001b[0m\n\u001b[1;32m     63\u001b[0m     \u001b[0;32mif\u001b[0m \u001b[0mname\u001b[0m \u001b[0;32mis\u001b[0m \u001b[0;32mnot\u001b[0m \u001b[0;32mNone\u001b[0m\u001b[0;34m:\u001b[0m\u001b[0;34m\u001b[0m\u001b[0;34m\u001b[0m\u001b[0m\n",
      "\u001b[0;31mKeyboardInterrupt\u001b[0m: "
     ]
    }
   ],
   "source": [
    "trials = Trials()\n",
    "best = fmin(fn=nn_model,\n",
    "            space=space,\n",
    "            algo=tpe.suggest,\n",
    "            max_evals=100,\n",
    "            trials=trials)"
   ]
  },
  {
   "cell_type": "markdown",
   "metadata": {
    "colab_type": "text",
    "id": "xyiP06xHMvxB"
   },
   "source": [
    "## Plot the learning curves to show the learning process"
   ]
  },
  {
   "cell_type": "code",
   "execution_count": 0,
   "metadata": {
    "colab": {
     "base_uri": "https://localhost:8080/",
     "height": 513
    },
    "colab_type": "code",
    "executionInfo": {
     "elapsed": 1559,
     "status": "ok",
     "timestamp": 1578420325717,
     "user": {
      "displayName": "TAPAS DAS",
      "photoUrl": "https://lh3.googleusercontent.com/a-/AAuE7mAWMXeao3oujURH7jI31N9NlnBx3o-Qy3i2T8kupg=s64",
      "userId": "10798398878324948542"
     },
     "user_tz": -330
    },
    "id": "9s4E3iZ3sDc6",
    "outputId": "53bebb94-1f11-45e5-bcf3-fb1f0650c472"
   },
   "outputs": [
    {
     "data": {
      "image/png": "[encoded data removed]",
      "text/plain": [
       "<Figure size 720x576 with 1 Axes>"
      ]
     },
     "metadata": {
      "tags": []
     },
     "output_type": "display_data"
    }
   ],
   "source": [
    "plt.figure(figsize=(10,8))\n",
    "plt.plot(loss_values[\"train_loss_1\"], label='train_loss_1')\n",
    "plt.plot(loss_values[\"train_loss_2\"], label='train_loss_2')\n",
    "plt.plot(loss_values[\"train_loss_3\"], label='train_loss_3')\n",
    "plt.plot(loss_values[\"train_loss_4\"], label='train_loss_4')\n",
    "plt.plot(loss_values[\"train_loss_5\"], label='train_loss_5')\n",
    "plt.plot(loss_values[\"val_loss_1\"], label='val_loss_1')\n",
    "plt.plot(loss_values[\"val_loss_2\"], label='val_loss_2')\n",
    "plt.plot(loss_values[\"val_loss_3\"], label='val_loss_3')\n",
    "plt.plot(loss_values[\"val_loss_4\"], label='val_loss_4')\n",
    "plt.plot(loss_values[\"val_loss_5\"], label='val_loss_5')\n",
    "plt.ylabel('Cost')\n",
    "plt.xlabel('Epoch #')\n",
    "plt.title(\"Model Loss Curve\")\n",
    "plt.legend()\n",
    "plt.grid()\n",
    "plt.show()"
   ]
  },
  {
   "cell_type": "code",
   "execution_count": 0,
   "metadata": {
    "colab": {
     "base_uri": "https://localhost:8080/",
     "height": 513
    },
    "colab_type": "code",
    "executionInfo": {
     "elapsed": 1798,
     "status": "ok",
     "timestamp": 1578420344773,
     "user": {
      "displayName": "TAPAS DAS",
      "photoUrl": "https://lh3.googleusercontent.com/a-/AAuE7mAWMXeao3oujURH7jI31N9NlnBx3o-Qy3i2T8kupg=s64",
      "userId": "10798398878324948542"
     },
     "user_tz": -330
    },
    "id": "90cgKpWpsDc9",
    "outputId": "30be8389-9657-4c13-8f31-742bd2d5f18b"
   },
   "outputs": [
    {
     "data": {
      "image/png": "[encoded data removed]",
      "text/plain": [
       "<Figure size 720x576 with 1 Axes>"
      ]
     },
     "metadata": {
      "tags": []
     },
     "output_type": "display_data"
    }
   ],
   "source": [
    "plt.figure(figsize=(10,8))\n",
    "plt.plot(rmse_values[\"train_rmse_1\"], label='train_rmse_1')\n",
    "plt.plot(rmse_values[\"train_rmse_2\"], label='train_rmse_2')\n",
    "plt.plot(rmse_values[\"train_rmse_3\"], label='train_rmse_3')\n",
    "plt.plot(rmse_values[\"train_rmse_4\"], label='train_rmse_4')\n",
    "plt.plot(rmse_values[\"train_rmse_5\"], label='train_rmse_5')\n",
    "plt.plot(rmse_values[\"val_rmse_1\"], label='val_rmse_1')\n",
    "plt.plot(rmse_values[\"val_rmse_2\"], label='val_rmse_2')\n",
    "plt.plot(rmse_values[\"val_rmse_3\"], label='val_rmse_3')\n",
    "plt.plot(rmse_values[\"val_rmse_4\"], label='val_rmse_4')\n",
    "plt.plot(rmse_values[\"val_rmse_5\"], label='val_rmse_5')\n",
    "plt.ylabel('RMSE')\n",
    "plt.xlabel('Epoch #')\n",
    "plt.title(\"RMSE Curve\")\n",
    "plt.legend()\n",
    "plt.grid()\n",
    "plt.show()"
   ]
  },
  {
   "cell_type": "code",
   "execution_count": 0,
   "metadata": {
    "colab": {
     "base_uri": "https://localhost:8080/",
     "height": 295
    },
    "colab_type": "code",
    "executionInfo": {
     "elapsed": 1189,
     "status": "ok",
     "timestamp": 1578420345489,
     "user": {
      "displayName": "TAPAS DAS",
      "photoUrl": "https://lh3.googleusercontent.com/a-/AAuE7mAWMXeao3oujURH7jI31N9NlnBx3o-Qy3i2T8kupg=s64",
      "userId": "10798398878324948542"
     },
     "user_tz": -330
    },
    "id": "ybSjIaIZsDdB",
    "outputId": "78fca898-6978-4d62-b066-97fbaf719286"
   },
   "outputs": [
    {
     "data": {
      "image/png": "[encoded data removed]",
      "text/plain": [
       "<Figure size 432x288 with 1 Axes>"
      ]
     },
     "metadata": {
      "tags": []
     },
     "output_type": "display_data"
    }
   ],
   "source": [
    "plt.plot(clr.history[\"lr\"])\n",
    "plt.ylabel('Learning Rate')\n",
    "plt.xlabel('Iteration #')\n",
    "plt.title(\"Cyclical Learning Rate (CLR)\")\n",
    "plt.grid()\n",
    "plt.show()"
   ]
  },
  {
   "cell_type": "markdown",
   "metadata": {
    "colab_type": "text",
    "id": "Vswbxs1hNtLF"
   },
   "source": [
    "## Create submission File"
   ]
  },
  {
   "cell_type": "code",
   "execution_count": 0,
   "metadata": {
    "colab": {},
    "colab_type": "code",
    "id": "-iYo2o3VHrZB"
   },
   "outputs": [],
   "source": [
    "Ypredict = np.exp(Ypredict).astype(int)\n",
    "predict_df = pd.DataFrame(Ypredict, index=None, columns=['Views'])"
   ]
  },
  {
   "cell_type": "code",
   "execution_count": 0,
   "metadata": {
    "colab": {},
    "colab_type": "code",
    "id": "MroeOwgtOKWD"
   },
   "outputs": [],
   "source": [
    "# Read submission file\n",
    "submit_df = pd.read_csv(\"/content/drive/My Drive/Colab Notebooks/Chartbusters Prediction - Foretell The Popularity Of Songs/Datasets/Sample_Submission.csv\")"
   ]
  },
  {
   "cell_type": "code",
   "execution_count": 0,
   "metadata": {
    "colab": {},
    "colab_type": "code",
    "id": "qRh_K9PAOm38"
   },
   "outputs": [],
   "source": [
    "# Create final submission data\n",
    "submit_df['Views'] = predict_df['Views']\n",
    "\n",
    "# Write submission data into a CSV file\n",
    "submit_df.to_excel(\"MySubmission.xlsx\", index=False)"
   ]
  },
  {
   "cell_type": "markdown",
   "metadata": {
    "colab_type": "text",
    "id": "SudKweGJO6Qb"
   },
   "source": [
    "## Save the model (for reusability)"
   ]
  },
  {
   "cell_type": "code",
   "execution_count": 0,
   "metadata": {
    "colab": {},
    "colab_type": "code",
    "id": "MGUEmPb4O9E1"
   },
   "outputs": [],
   "source": [
    "model.save('/content/drive/My Drive/Colab Notebooks/Chartbusters Prediction - Foretell The Popularity Of Songs/Chartbusters_Songs_Popularity_Prediction_Model.h5')"
   ]
  },
  {
   "cell_type": "code",
   "execution_count": 0,
   "metadata": {
    "colab": {},
    "colab_type": "code",
    "id": "0cUjOQb_tlW5"
   },
   "outputs": [],
   "source": []
  }
 ],
 "metadata": {
  "accelerator": "GPU",
  "colab": {
   "collapsed_sections": [
    "SO16gb7gsDam",
    "WBwt6IPVBsuB",
    "9aQT0iPD0Pa-",
    "o-Z-5pCAsDas",
    "8kZ8jBafsDcJ",
    "xyiP06xHMvxB",
    "Vswbxs1hNtLF"
   ],
   "machine_shape": "hm",
   "name": "Chartbusters Songs Popularity Prediction (ANN) v4.3.ipynb",
   "provenance": []
  },
  "kernelspec": {
   "display_name": "Python 3",
   "language": "python",
   "name": "python3"
  },
  "language_info": {
   "codemirror_mode": {
    "name": "ipython",
    "version": 3
   },
   "file_extension": ".py",
   "mimetype": "text/x-python",
   "name": "python",
   "nbconvert_exporter": "python",
   "pygments_lexer": "ipython3",
   "version": "3.7.4"
  }
 },
 "nbformat": 4,
 "nbformat_minor": 1
}
