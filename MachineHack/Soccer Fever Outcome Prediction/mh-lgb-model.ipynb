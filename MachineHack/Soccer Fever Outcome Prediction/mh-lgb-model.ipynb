{
 "cells": [
  {
   "cell_type": "markdown",
   "id": "incident-singles",
   "metadata": {
    "id": "uLz9OcH8SeET",
    "papermill": {
     "duration": 0.014505,
     "end_time": "2021-08-25T14:54:31.281384",
     "exception": false,
     "start_time": "2021-08-25T14:54:31.266879",
     "status": "completed"
    },
    "tags": []
   },
   "source": [
    "## Import libraries"
   ]
  },
  {
   "cell_type": "code",
   "execution_count": 1,
   "id": "growing-brazil",
   "metadata": {
    "execution": {
     "iopub.execute_input": "2021-08-25T14:54:31.319094Z",
     "iopub.status.busy": "2021-08-25T14:54:31.318389Z",
     "iopub.status.idle": "2021-08-25T14:54:33.996259Z",
     "shell.execute_reply": "2021-08-25T14:54:33.995541Z",
     "shell.execute_reply.started": "2021-08-25T13:57:25.943315Z"
    },
    "executionInfo": {
     "elapsed": 18546,
     "status": "ok",
     "timestamp": 1616326755679,
     "user": {
      "displayName": "TAPAS DAS",
      "photoUrl": "https://lh3.googleusercontent.com/a-/AOh14GiyffdGKiPCR_UwVittzTcbBFms70IkGfU15fatCA=s64",
      "userId": "10798398878324948542"
     },
     "user_tz": -330
    },
    "id": "E9svswc9SUuX",
    "papermill": {
     "duration": 2.701924,
     "end_time": "2021-08-25T14:54:33.996447",
     "exception": false,
     "start_time": "2021-08-25T14:54:31.294523",
     "status": "completed"
    },
    "tags": []
   },
   "outputs": [
    {
     "data": {
      "text/html": [
       "<style type='text/css'>\n",
       ".datatable table.frame { margin-bottom: 0; }\n",
       ".datatable table.frame thead { border-bottom: none; }\n",
       ".datatable table.frame tr.coltypes td {  color: #FFFFFF;  line-height: 6px;  padding: 0 0.5em;}\n",
       ".datatable .bool    { background: #DDDD99; }\n",
       ".datatable .object  { background: #565656; }\n",
       ".datatable .int     { background: #5D9E5D; }\n",
       ".datatable .float   { background: #4040CC; }\n",
       ".datatable .str     { background: #CC4040; }\n",
       ".datatable .row_index {  background: var(--jp-border-color3);  border-right: 1px solid var(--jp-border-color0);  color: var(--jp-ui-font-color3);  font-size: 9px;}\n",
       ".datatable .frame tr.coltypes .row_index {  background: var(--jp-border-color0);}\n",
       ".datatable th:nth-child(2) { padding-left: 12px; }\n",
       ".datatable .hellipsis {  color: var(--jp-cell-editor-border-color);}\n",
       ".datatable .vellipsis {  background: var(--jp-layout-color0);  color: var(--jp-cell-editor-border-color);}\n",
       ".datatable .na {  color: var(--jp-cell-editor-border-color);  font-size: 80%;}\n",
       ".datatable .footer { font-size: 9px; }\n",
       ".datatable .frame_dimensions {  background: var(--jp-border-color3);  border-top: 1px solid var(--jp-border-color0);  color: var(--jp-ui-font-color3);  display: inline-block;  opacity: 0.6;  padding: 1px 10px 1px 5px;}\n",
       "</style>\n"
      ],
      "text/plain": [
       "<IPython.core.display.HTML object>"
      ]
     },
     "metadata": {},
     "output_type": "display_data"
    }
   ],
   "source": [
    "import warnings\n",
    "warnings.filterwarnings(\"ignore\")\n",
    "\n",
    "import gc\n",
    "import pickle\n",
    "import optuna\n",
    "import numpy as np\n",
    "import pandas as pd\n",
    "import lightgbm as lgb\n",
    "from lightgbm import LGBMClassifier\n",
    "from sklearn.metrics import log_loss\n",
    "from sklearn.model_selection import StratifiedKFold"
   ]
  },
  {
   "cell_type": "markdown",
   "id": "resistant-witch",
   "metadata": {
    "id": "hg85SpW-S6hl",
    "papermill": {
     "duration": 0.013633,
     "end_time": "2021-08-25T14:54:34.024833",
     "exception": false,
     "start_time": "2021-08-25T14:54:34.011200",
     "status": "completed"
    },
    "tags": []
   },
   "source": [
    "## Prepare data for model training"
   ]
  },
  {
   "cell_type": "code",
   "execution_count": 2,
   "id": "antique-carroll",
   "metadata": {
    "execution": {
     "iopub.execute_input": "2021-08-25T14:54:34.058140Z",
     "iopub.status.busy": "2021-08-25T14:54:34.057422Z",
     "iopub.status.idle": "2021-08-25T14:54:34.488720Z",
     "shell.execute_reply": "2021-08-25T14:54:34.489294Z",
     "shell.execute_reply.started": "2021-08-25T13:57:28.751407Z"
    },
    "papermill": {
     "duration": 0.450643,
     "end_time": "2021-08-25T14:54:34.489483",
     "exception": false,
     "start_time": "2021-08-25T14:54:34.038840",
     "status": "completed"
    },
    "tags": []
   },
   "outputs": [
    {
     "data": {
      "text/plain": [
       "21"
      ]
     },
     "execution_count": 2,
     "metadata": {},
     "output_type": "execute_result"
    }
   ],
   "source": [
    "with open(\"../input/mh-eda-data-prep/MH_Processed_Data.txt\", 'rb') as handle: \n",
    "    data = handle.read()\n",
    "\n",
    "processed_data = pickle.loads(data)\n",
    "train_df = processed_data['train_df']\n",
    "test_df = processed_data['test_df']\n",
    "\n",
    "del processed_data\n",
    "gc.collect()"
   ]
  },
  {
   "cell_type": "code",
   "execution_count": 3,
   "id": "wound-alaska",
   "metadata": {
    "execution": {
     "iopub.execute_input": "2021-08-25T14:54:34.529400Z",
     "iopub.status.busy": "2021-08-25T14:54:34.525833Z",
     "iopub.status.idle": "2021-08-25T14:54:34.541155Z",
     "shell.execute_reply": "2021-08-25T14:54:34.541682Z",
     "shell.execute_reply.started": "2021-08-25T13:57:29.173789Z"
    },
    "papermill": {
     "duration": 0.037759,
     "end_time": "2021-08-25T14:54:34.541841",
     "exception": false,
     "start_time": "2021-08-25T14:54:34.504082",
     "status": "completed"
    },
    "tags": []
   },
   "outputs": [
    {
     "name": "stdout",
     "output_type": "stream",
     "text": [
      "[0, 1, 2, 3, 8, 9, 10, 11, 12, 13, 14, 15]\n"
     ]
    }
   ],
   "source": [
    "cat_cols = ['season','league','Team 1','Team2','year','quarter','month',\n",
    "            'week','day_month','day_week','day_weekend','year_eq_season']\n",
    "\n",
    "train_df[cat_cols] = train_df[cat_cols].astype(int)\n",
    "test_df[cat_cols] = test_df[cat_cols].astype(int)\n",
    "cat_cols_indices = [train_df.columns.get_loc(col) for col in cat_cols]\n",
    "print(cat_cols_indices)"
   ]
  },
  {
   "cell_type": "code",
   "execution_count": 4,
   "id": "encouraging-eugene",
   "metadata": {
    "execution": {
     "iopub.execute_input": "2021-08-25T14:54:34.576378Z",
     "iopub.status.busy": "2021-08-25T14:54:34.575391Z",
     "iopub.status.idle": "2021-08-25T14:54:34.579344Z",
     "shell.execute_reply": "2021-08-25T14:54:34.579871Z",
     "shell.execute_reply.started": "2021-08-25T13:57:29.195612Z"
    },
    "papermill": {
     "duration": 0.023813,
     "end_time": "2021-08-25T14:54:34.580055",
     "exception": false,
     "start_time": "2021-08-25T14:54:34.556242",
     "status": "completed"
    },
    "tags": []
   },
   "outputs": [
    {
     "data": {
      "text/plain": [
       "0.4679423949496942"
      ]
     },
     "execution_count": 4,
     "metadata": {},
     "output_type": "execute_result"
    }
   ],
   "source": [
    "neg, pos = np.bincount(train_df['Outcome'])\n",
    "class_weight = neg/pos\n",
    "class_weight"
   ]
  },
  {
   "cell_type": "code",
   "execution_count": 5,
   "id": "oriented-scholarship",
   "metadata": {
    "execution": {
     "iopub.execute_input": "2021-08-25T14:54:34.612906Z",
     "iopub.status.busy": "2021-08-25T14:54:34.611847Z",
     "iopub.status.idle": "2021-08-25T14:54:34.734733Z",
     "shell.execute_reply": "2021-08-25T14:54:34.734069Z",
     "shell.execute_reply.started": "2021-08-25T13:57:29.802250Z"
    },
    "papermill": {
     "duration": 0.140252,
     "end_time": "2021-08-25T14:54:34.734892",
     "exception": false,
     "start_time": "2021-08-25T14:54:34.594640",
     "status": "completed"
    },
    "tags": []
   },
   "outputs": [
    {
     "name": "stdout",
     "output_type": "stream",
     "text": [
      "Xtrain: (7441, 152) \n",
      "Ytrain: (7441,) \n",
      "Xtest: (4008, 152)\n"
     ]
    },
    {
     "data": {
      "text/plain": [
       "0"
      ]
     },
     "execution_count": 5,
     "metadata": {},
     "output_type": "execute_result"
    }
   ],
   "source": [
    "Xtrain = train_df.loc[:, train_df.columns != 'Outcome'].copy()\n",
    "Ytrain = train_df['Outcome'].copy()\n",
    "Xtest = test_df.copy()\n",
    "\n",
    "print(f\"Xtrain: {Xtrain.shape} \\nYtrain: {Ytrain.shape} \\nXtest: {Xtest.shape}\")\n",
    "\n",
    "del train_df\n",
    "del test_df\n",
    "gc.collect()"
   ]
  },
  {
   "cell_type": "markdown",
   "id": "super-burlington",
   "metadata": {
    "papermill": {
     "duration": 0.015071,
     "end_time": "2021-08-25T14:54:34.765552",
     "exception": false,
     "start_time": "2021-08-25T14:54:34.750481",
     "status": "completed"
    },
    "tags": []
   },
   "source": [
    "## Hyperparameters Search"
   ]
  },
  {
   "cell_type": "code",
   "execution_count": 6,
   "id": "strange-boating",
   "metadata": {
    "execution": {
     "iopub.execute_input": "2021-08-25T14:54:34.802814Z",
     "iopub.status.busy": "2021-08-25T14:54:34.801771Z",
     "iopub.status.idle": "2021-08-25T14:54:34.805962Z",
     "shell.execute_reply": "2021-08-25T14:54:34.806494Z",
     "shell.execute_reply.started": "2021-08-25T14:43:26.913828Z"
    },
    "papermill": {
     "duration": 0.025897,
     "end_time": "2021-08-25T14:54:34.806657",
     "exception": false,
     "start_time": "2021-08-25T14:54:34.780760",
     "status": "completed"
    },
    "tags": []
   },
   "outputs": [
    {
     "data": {
      "text/plain": [
       "'\\ndef objective(trial):\\n    \\n    params = {}\\n    params[\"objective\"] = \\'binary\\'\\n    params[\\'metric\\'] = \\'binary_logloss\\'\\n    params[\\'boosting\\'] = \\'gbdt\\'\\n    params[\\'scale_pos_weight\\'] = class_weight\\n    params[\"learning_rate\"] = trial.suggest_loguniform(\"learning_rate\", 1e-2, 1e-1)\\n    params[\"lambda_l2\"] = trial.suggest_loguniform(\"lambda_l2\", 1e-3, 1)\\n    params[\"num_leaves\"] = trial.suggest_int(\"num_leaves\", 40, 1500)\\n    params[\"max_depth\"] = trial.suggest_int(\"max_depth\", 4, 12)\\n    params[\"feature_fraction\"] = trial.suggest_uniform(\"feature_fraction\", 0.45, 1)\\n    params[\"bagging_fraction\"] = trial.suggest_uniform(\"bagging_fraction\", 0.45, 1)\\n    params[\"bagging_freq\"] = trial.suggest_int(\"bagging_freq\", 1, 30)\\n    params[\"bagging_seed\"] = 10\\n    params[\"min_data_in_leaf\"] = trial.suggest_int(\"min_data_in_leaf\", 1, 30)\\n    params[\"saved_feature_importance_type\"] = 1\\n    params[\"random_state\"] = 0\\n    params[\"verbosity\"] = -1\\n    num_rounds = 5000\\n\\n    score = 0\\n    counter = 0\\n    \\n    kfold = StratifiedKFold(n_splits=5, shuffle=True, random_state=2010)\\n    \\n    for idx, (train, val) in enumerate(kfold.split(Xtrain, Ytrain)):\\n        counter += 1\\n\\n        train_x, train_y = Xtrain.iloc[train], Ytrain.iloc[train]\\n        val_x, val_y = Xtrain.iloc[val], Ytrain.iloc[val]\\n    \\n        lgtrain = lgb.Dataset(train_x, label=train_y.ravel())\\n        lgvalidation = lgb.Dataset(val_x, label=val_y.ravel())\\n\\n        model = lgb.train(params, lgtrain, num_rounds, \\n                          valid_sets=[lgtrain, lgvalidation], \\n                          categorical_feature=cat_cols_indices,\\n                          early_stopping_rounds=200, verbose_eval=0)\\n\\n        y_pred = model.predict(val_x, num_iteration=model.best_iteration)\\n        score += log_loss(val_y, y_pred)\\n    \\n    score /= float(counter)\\n    return score\\n\\n\\nstudy = optuna.create_study()\\nstudy.optimize(objective, n_trials=100)\\n'"
      ]
     },
     "execution_count": 6,
     "metadata": {},
     "output_type": "execute_result"
    }
   ],
   "source": [
    "'''\n",
    "def objective(trial):\n",
    "    \n",
    "    params = {}\n",
    "    params[\"objective\"] = 'binary'\n",
    "    params['metric'] = 'binary_logloss'\n",
    "    params['boosting'] = 'gbdt'\n",
    "    params['scale_pos_weight'] = class_weight\n",
    "    params[\"learning_rate\"] = trial.suggest_loguniform(\"learning_rate\", 1e-2, 1e-1)\n",
    "    params[\"lambda_l2\"] = trial.suggest_loguniform(\"lambda_l2\", 1e-3, 1)\n",
    "    params[\"num_leaves\"] = trial.suggest_int(\"num_leaves\", 40, 1500)\n",
    "    params[\"max_depth\"] = trial.suggest_int(\"max_depth\", 4, 12)\n",
    "    params[\"feature_fraction\"] = trial.suggest_uniform(\"feature_fraction\", 0.45, 1)\n",
    "    params[\"bagging_fraction\"] = trial.suggest_uniform(\"bagging_fraction\", 0.45, 1)\n",
    "    params[\"bagging_freq\"] = trial.suggest_int(\"bagging_freq\", 1, 30)\n",
    "    params[\"bagging_seed\"] = 10\n",
    "    params[\"min_data_in_leaf\"] = trial.suggest_int(\"min_data_in_leaf\", 1, 30)\n",
    "    params[\"saved_feature_importance_type\"] = 1\n",
    "    params[\"random_state\"] = 0\n",
    "    params[\"verbosity\"] = -1\n",
    "    num_rounds = 5000\n",
    "\n",
    "    score = 0\n",
    "    counter = 0\n",
    "    \n",
    "    kfold = StratifiedKFold(n_splits=5, shuffle=True, random_state=2010)\n",
    "    \n",
    "    for idx, (train, val) in enumerate(kfold.split(Xtrain, Ytrain)):\n",
    "        counter += 1\n",
    "\n",
    "        train_x, train_y = Xtrain.iloc[train], Ytrain.iloc[train]\n",
    "        val_x, val_y = Xtrain.iloc[val], Ytrain.iloc[val]\n",
    "    \n",
    "        lgtrain = lgb.Dataset(train_x, label=train_y.ravel())\n",
    "        lgvalidation = lgb.Dataset(val_x, label=val_y.ravel())\n",
    "\n",
    "        model = lgb.train(params, lgtrain, num_rounds, \n",
    "                          valid_sets=[lgtrain, lgvalidation], \n",
    "                          categorical_feature=cat_cols_indices,\n",
    "                          early_stopping_rounds=200, verbose_eval=0)\n",
    "\n",
    "        y_pred = model.predict(val_x, num_iteration=model.best_iteration)\n",
    "        score += log_loss(val_y, y_pred)\n",
    "    \n",
    "    score /= float(counter)\n",
    "    return score\n",
    "\n",
    "\n",
    "study = optuna.create_study()\n",
    "study.optimize(objective, n_trials=100)\n",
    "'''"
   ]
  },
  {
   "cell_type": "code",
   "execution_count": 7,
   "id": "visible-integer",
   "metadata": {
    "execution": {
     "iopub.execute_input": "2021-08-25T14:54:34.841768Z",
     "iopub.status.busy": "2021-08-25T14:54:34.840721Z",
     "iopub.status.idle": "2021-08-25T14:54:34.846220Z",
     "shell.execute_reply": "2021-08-25T14:54:34.846755Z",
     "shell.execute_reply.started": "2021-08-25T14:42:34.553936Z"
    },
    "papermill": {
     "duration": 0.024579,
     "end_time": "2021-08-25T14:54:34.846941",
     "exception": false,
     "start_time": "2021-08-25T14:54:34.822362",
     "status": "completed"
    },
    "tags": []
   },
   "outputs": [
    {
     "data": {
      "text/plain": [
       "'\\nprint(\"Number of finished trials: {}\".format(len(study.trials)))\\n\\ntrial = study.best_trial\\nprint(\"Best trial value: {}\".format(trial.value))\\n\\nprint(\"Params: \")\\nfor key, value in trial.params.items():\\n    print(\" {}: {}\".format(key, value))\\n'"
      ]
     },
     "execution_count": 7,
     "metadata": {},
     "output_type": "execute_result"
    }
   ],
   "source": [
    "'''\n",
    "print(\"Number of finished trials: {}\".format(len(study.trials)))\n",
    "\n",
    "trial = study.best_trial\n",
    "print(\"Best trial value: {}\".format(trial.value))\n",
    "\n",
    "print(\"Params: \")\n",
    "for key, value in trial.params.items():\n",
    "    print(\" {}: {}\".format(key, value))\n",
    "'''"
   ]
  },
  {
   "cell_type": "markdown",
   "id": "stopped-place",
   "metadata": {
    "id": "9wNC5rWEVnjd",
    "papermill": {
     "duration": 0.015656,
     "end_time": "2021-08-25T14:54:34.879565",
     "exception": false,
     "start_time": "2021-08-25T14:54:34.863909",
     "status": "completed"
    },
    "tags": []
   },
   "source": [
    "## Build and validate the model"
   ]
  },
  {
   "cell_type": "code",
   "execution_count": 8,
   "id": "suffering-metropolitan",
   "metadata": {
    "execution": {
     "iopub.execute_input": "2021-08-25T14:54:34.915748Z",
     "iopub.status.busy": "2021-08-25T14:54:34.914570Z",
     "iopub.status.idle": "2021-08-25T14:54:47.247095Z",
     "shell.execute_reply": "2021-08-25T14:54:47.247859Z",
     "shell.execute_reply.started": "2021-08-25T14:53:12.388605Z"
    },
    "papermill": {
     "duration": 12.352616,
     "end_time": "2021-08-25T14:54:47.248150",
     "exception": false,
     "start_time": "2021-08-25T14:54:34.895534",
     "status": "completed"
    },
    "tags": []
   },
   "outputs": [
    {
     "name": "stdout",
     "output_type": "stream",
     "text": [
      "Training until validation scores don't improve for 200 rounds\n",
      "[100]\ttraining's binary_logloss: 0.00495007\tvalid_1's binary_logloss: 0.015844\n",
      "[200]\ttraining's binary_logloss: 0.000636065\tvalid_1's binary_logloss: 0.0155983\n",
      "[300]\ttraining's binary_logloss: 0.000242511\tvalid_1's binary_logloss: 0.0162556\n",
      "Early stopping, best iteration is:\n",
      "[143]\ttraining's binary_logloss: 0.0016447\tvalid_1's binary_logloss: 0.0147933\n",
      "\n",
      "Seed-2018 | Fold-0 | OOF Score: 0.014793312367292545\n",
      "\n",
      "Training until validation scores don't improve for 200 rounds\n",
      "[100]\ttraining's binary_logloss: 0.00476271\tvalid_1's binary_logloss: 0.0197415\n",
      "[200]\ttraining's binary_logloss: 0.000557468\tvalid_1's binary_logloss: 0.0222019\n",
      "[300]\ttraining's binary_logloss: 0.000215488\tvalid_1's binary_logloss: 0.0244603\n",
      "Early stopping, best iteration is:\n",
      "[112]\ttraining's binary_logloss: 0.00336636\tvalid_1's binary_logloss: 0.0191796\n",
      "\n",
      "Seed-2018 | Fold-1 | OOF Score: 0.019179555583987266\n",
      "\n",
      "Training until validation scores don't improve for 200 rounds\n",
      "[100]\ttraining's binary_logloss: 0.00512615\tvalid_1's binary_logloss: 0.0107751\n",
      "[200]\ttraining's binary_logloss: 0.000636532\tvalid_1's binary_logloss: 0.00848445\n",
      "[300]\ttraining's binary_logloss: 0.000246663\tvalid_1's binary_logloss: 0.0089148\n",
      "Early stopping, best iteration is:\n",
      "[170]\ttraining's binary_logloss: 0.000991846\tvalid_1's binary_logloss: 0.00825388\n",
      "\n",
      "Seed-2018 | Fold-2 | OOF Score: 0.008253881060638757\n",
      "\n",
      "Training until validation scores don't improve for 200 rounds\n",
      "[100]\ttraining's binary_logloss: 0.00488088\tvalid_1's binary_logloss: 0.00805851\n",
      "[200]\ttraining's binary_logloss: 0.000616648\tvalid_1's binary_logloss: 0.00486757\n",
      "[300]\ttraining's binary_logloss: 0.00024077\tvalid_1's binary_logloss: 0.00503582\n",
      "[400]\ttraining's binary_logloss: 0.000138998\tvalid_1's binary_logloss: 0.00513464\n",
      "Early stopping, best iteration is:\n",
      "[213]\ttraining's binary_logloss: 0.000522869\tvalid_1's binary_logloss: 0.00465912\n",
      "\n",
      "Seed-2018 | Fold-3 | OOF Score: 0.004659124659882538\n",
      "\n",
      "Training until validation scores don't improve for 200 rounds\n",
      "[100]\ttraining's binary_logloss: 0.00495068\tvalid_1's binary_logloss: 0.0113986\n",
      "[200]\ttraining's binary_logloss: 0.000583572\tvalid_1's binary_logloss: 0.0111133\n",
      "[300]\ttraining's binary_logloss: 0.000224385\tvalid_1's binary_logloss: 0.0122087\n",
      "Early stopping, best iteration is:\n",
      "[131]\ttraining's binary_logloss: 0.00213971\tvalid_1's binary_logloss: 0.0098492\n",
      "\n",
      "Seed-2018 | Fold-4 | OOF Score: 0.009849197175730014\n",
      "\n",
      "\n",
      "Seed: 2018 | Aggregate OOF Score: 0.011347014169506222\n",
      "\n",
      "\n",
      "Training until validation scores don't improve for 200 rounds\n",
      "[100]\ttraining's binary_logloss: 0.00645602\tvalid_1's binary_logloss: 0.00984023\n",
      "[200]\ttraining's binary_logloss: 0.000842771\tvalid_1's binary_logloss: 0.00686195\n",
      "[300]\ttraining's binary_logloss: 0.000377327\tvalid_1's binary_logloss: 0.00773426\n",
      "[400]\ttraining's binary_logloss: 0.000202593\tvalid_1's binary_logloss: 0.00728762\n",
      "Early stopping, best iteration is:\n",
      "[214]\ttraining's binary_logloss: 0.000700048\tvalid_1's binary_logloss: 0.00667838\n",
      "\n",
      "Seed-2020 | Fold-0 | OOF Score: 0.006678384148310154\n",
      "\n",
      "Training until validation scores don't improve for 200 rounds\n",
      "[100]\ttraining's binary_logloss: 0.00556296\tvalid_1's binary_logloss: 0.0177537\n",
      "[200]\ttraining's binary_logloss: 0.000719242\tvalid_1's binary_logloss: 0.0198952\n",
      "[300]\ttraining's binary_logloss: 0.000302029\tvalid_1's binary_logloss: 0.020659\n",
      "Early stopping, best iteration is:\n",
      "[115]\ttraining's binary_logloss: 0.00347468\tvalid_1's binary_logloss: 0.0173502\n",
      "\n",
      "Seed-2020 | Fold-1 | OOF Score: 0.01735015930264673\n",
      "\n",
      "Training until validation scores don't improve for 200 rounds\n",
      "[100]\ttraining's binary_logloss: 0.0058919\tvalid_1's binary_logloss: 0.00994661\n",
      "[200]\ttraining's binary_logloss: 0.00089975\tvalid_1's binary_logloss: 0.00888058\n",
      "[300]\ttraining's binary_logloss: 0.000341843\tvalid_1's binary_logloss: 0.0107025\n",
      "Early stopping, best iteration is:\n",
      "[159]\ttraining's binary_logloss: 0.00173392\tvalid_1's binary_logloss: 0.00793161\n",
      "\n",
      "Seed-2020 | Fold-2 | OOF Score: 0.007931614030503176\n",
      "\n",
      "Training until validation scores don't improve for 200 rounds\n",
      "[100]\ttraining's binary_logloss: 0.00584873\tvalid_1's binary_logloss: 0.0100619\n",
      "[200]\ttraining's binary_logloss: 0.000798643\tvalid_1's binary_logloss: 0.00857295\n",
      "[300]\ttraining's binary_logloss: 0.000324743\tvalid_1's binary_logloss: 0.00897004\n",
      "Early stopping, best iteration is:\n",
      "[165]\ttraining's binary_logloss: 0.00135591\tvalid_1's binary_logloss: 0.00799882\n",
      "\n",
      "Seed-2020 | Fold-3 | OOF Score: 0.007998823397597807\n",
      "\n",
      "Training until validation scores don't improve for 200 rounds\n",
      "[100]\ttraining's binary_logloss: 0.00558045\tvalid_1's binary_logloss: 0.0160165\n",
      "[200]\ttraining's binary_logloss: 0.000917985\tvalid_1's binary_logloss: 0.0179985\n",
      "[300]\ttraining's binary_logloss: 0.000345536\tvalid_1's binary_logloss: 0.0204523\n",
      "Early stopping, best iteration is:\n",
      "[122]\ttraining's binary_logloss: 0.00321049\tvalid_1's binary_logloss: 0.0156525\n",
      "\n",
      "Seed-2020 | Fold-4 | OOF Score: 0.015652453309407614\n",
      "\n",
      "\n",
      "Seed: 2020 | Aggregate OOF Score: 0.011122286837693098\n",
      "\n",
      "\n",
      "Aggregate OOF Score: 0.011234650503599657\n"
     ]
    }
   ],
   "source": [
    "FOLD = 5\n",
    "SEEDS = [2018, 2020]\n",
    "\n",
    "fet_imp = 0\n",
    "counter = 0\n",
    "oof_score = 0\n",
    "y_pred_final_lgb = 0\n",
    "y_pred_meta_lgb = np.zeros((Ytrain.shape[0], 1))\n",
    "\n",
    "\n",
    "for sidx, seed in enumerate(SEEDS):\n",
    "    seed_score = 0\n",
    "    \n",
    "    kfold = StratifiedKFold(n_splits=FOLD, shuffle=True, random_state=seed)\n",
    "\n",
    "    for idx, (train, val) in enumerate(kfold.split(Xtrain, Ytrain)):\n",
    "        counter += 1\n",
    "\n",
    "        train_x, train_y = Xtrain.iloc[train], Ytrain.iloc[train]\n",
    "        val_x, val_y = Xtrain.iloc[val], Ytrain.iloc[val]\n",
    "        \n",
    "        if seed == 2020:\n",
    "            params = {}\n",
    "            params[\"objective\"] = 'binary'\n",
    "            params['metric'] = 'binary_logloss'\n",
    "            params['boosting'] = 'gbdt'\n",
    "            params['scale_pos_weight'] = class_weight\n",
    "            params[\"learning_rate\"] = 0.0555\n",
    "            params[\"lambda_l2\"] = 0.508\n",
    "            params[\"num_leaves\"] = 278\n",
    "            params[\"max_depth\"] = 4\n",
    "            params[\"feature_fraction\"] = 0.737\n",
    "            params[\"bagging_fraction\"] = 0.886\n",
    "            params[\"bagging_freq\"] = 27\n",
    "            params[\"bagging_seed\"] = 10\n",
    "            params[\"min_data_in_leaf\"] = 21\n",
    "            params[\"saved_feature_importance_type\"] = 1\n",
    "            params[\"random_state\"] = 0\n",
    "            params[\"verbosity\"] = -1\n",
    "            num_rounds = 5000\n",
    "            \n",
    "        else:\n",
    "            params = {}\n",
    "            params[\"objective\"] = 'binary'\n",
    "            params['metric'] = 'binary_logloss'\n",
    "            params['boosting'] = 'gbdt'\n",
    "            params['scale_pos_weight'] = class_weight\n",
    "            params[\"learning_rate\"] = 0.0567\n",
    "            params[\"lambda_l2\"] = 0.49\n",
    "            params[\"num_leaves\"] = 384\n",
    "            params[\"max_depth\"] = 9\n",
    "            params[\"feature_fraction\"] = 0.6\n",
    "            params[\"bagging_fraction\"] = 0.94\n",
    "            params[\"bagging_freq\"] = 10\n",
    "            params[\"bagging_seed\"] = 10\n",
    "            params[\"min_data_in_leaf\"] = 22\n",
    "            params[\"saved_feature_importance_type\"] = 1\n",
    "            params[\"random_state\"] = 0\n",
    "            params[\"verbosity\"] = -1\n",
    "            num_rounds = 5000\n",
    "\n",
    "        \n",
    "        lgtrain = lgb.Dataset(train_x, label=train_y.ravel())\n",
    "        lgvalidation = lgb.Dataset(val_x, label=val_y.ravel())\n",
    "\n",
    "        model = lgb.train(params, lgtrain, num_rounds, \n",
    "                          valid_sets=[lgtrain, lgvalidation], \n",
    "                          categorical_feature=cat_cols_indices,\n",
    "                          early_stopping_rounds=200, verbose_eval=100)\n",
    "\n",
    "        y_pred = model.predict(val_x, num_iteration=model.best_iteration)\n",
    "        y_pred_meta_lgb[val] += np.array([y_pred]).T\n",
    "        y_pred_final_lgb += model.predict(Xtest, num_iteration=model.best_iteration)\n",
    "        \n",
    "        score = log_loss(val_y, y_pred)\n",
    "        oof_score += score\n",
    "        seed_score += score\n",
    "        print(\"\\nSeed-{} | Fold-{} | OOF Score: {}\\n\".format(seed, idx, score))\n",
    "    \n",
    "    print(\"\\nSeed: {} | Aggregate OOF Score: {}\\n\\n\".format(seed, (seed_score / FOLD)))\n",
    "\n",
    "\n",
    "y_pred_meta_lgb = y_pred_meta_lgb / float(len(SEEDS))\n",
    "y_pred_final_lgb = y_pred_final_lgb / float(counter)\n",
    "oof_score /= float(counter)\n",
    "print(\"Aggregate OOF Score: {}\".format(oof_score))"
   ]
  },
  {
   "cell_type": "code",
   "execution_count": 9,
   "id": "ordinary-tuning",
   "metadata": {
    "execution": {
     "iopub.execute_input": "2021-08-25T14:54:47.314034Z",
     "iopub.status.busy": "2021-08-25T14:54:47.313205Z",
     "iopub.status.idle": "2021-08-25T14:54:47.324048Z",
     "shell.execute_reply": "2021-08-25T14:54:47.323362Z"
    },
    "id": "uLzmS7LzXvXy",
    "papermill": {
     "duration": 0.045435,
     "end_time": "2021-08-25T14:54:47.324213",
     "exception": false,
     "start_time": "2021-08-25T14:54:47.278778",
     "status": "completed"
    },
    "tags": []
   },
   "outputs": [],
   "source": [
    "np.savez_compressed('./LGB_Meta_Features.npz',\n",
    "                    y_pred_meta_lgb=y_pred_meta_lgb, \n",
    "                    oof_score=oof_score,\n",
    "                    y_pred_final_lgb=y_pred_final_lgb)"
   ]
  },
  {
   "cell_type": "markdown",
   "id": "global-robertson",
   "metadata": {
    "id": "nZvoU4TpWxmY",
    "papermill": {
     "duration": 0.031002,
     "end_time": "2021-08-25T14:54:47.385424",
     "exception": false,
     "start_time": "2021-08-25T14:54:47.354422",
     "status": "completed"
    },
    "tags": []
   },
   "source": [
    "## Create submission file"
   ]
  },
  {
   "cell_type": "code",
   "execution_count": 10,
   "id": "environmental-compiler",
   "metadata": {
    "execution": {
     "iopub.execute_input": "2021-08-25T14:54:47.451125Z",
     "iopub.status.busy": "2021-08-25T14:54:47.450393Z",
     "iopub.status.idle": "2021-08-25T14:54:47.477211Z",
     "shell.execute_reply": "2021-08-25T14:54:47.477795Z",
     "shell.execute_reply.started": "2021-08-25T14:53:56.741504Z"
    },
    "executionInfo": {
     "elapsed": 1417,
     "status": "ok",
     "timestamp": 1616078535765,
     "user": {
      "displayName": "TAPAS DAS",
      "photoUrl": "https://lh3.googleusercontent.com/a-/AOh14GiyffdGKiPCR_UwVittzTcbBFms70IkGfU15fatCA=s64",
      "userId": "10798398878324948542"
     },
     "user_tz": -330
    },
    "id": "zGEGOAJHVoHV",
    "outputId": "53ab44cf-755f-435d-c1af-f4184f2114dd",
    "papermill": {
     "duration": 0.062638,
     "end_time": "2021-08-25T14:54:47.478000",
     "exception": false,
     "start_time": "2021-08-25T14:54:47.415362",
     "status": "completed"
    },
    "tags": []
   },
   "outputs": [
    {
     "data": {
      "text/html": [
       "<div>\n",
       "<style scoped>\n",
       "    .dataframe tbody tr th:only-of-type {\n",
       "        vertical-align: middle;\n",
       "    }\n",
       "\n",
       "    .dataframe tbody tr th {\n",
       "        vertical-align: top;\n",
       "    }\n",
       "\n",
       "    .dataframe thead th {\n",
       "        text-align: right;\n",
       "    }\n",
       "</style>\n",
       "<table border=\"1\" class=\"dataframe\">\n",
       "  <thead>\n",
       "    <tr style=\"text-align: right;\">\n",
       "      <th></th>\n",
       "      <th>Outcome</th>\n",
       "    </tr>\n",
       "  </thead>\n",
       "  <tbody>\n",
       "    <tr>\n",
       "      <th>0</th>\n",
       "      <td>0.999583</td>\n",
       "    </tr>\n",
       "    <tr>\n",
       "      <th>1</th>\n",
       "      <td>0.999625</td>\n",
       "    </tr>\n",
       "    <tr>\n",
       "      <th>2</th>\n",
       "      <td>0.000941</td>\n",
       "    </tr>\n",
       "    <tr>\n",
       "      <th>3</th>\n",
       "      <td>0.998669</td>\n",
       "    </tr>\n",
       "    <tr>\n",
       "      <th>4</th>\n",
       "      <td>0.000539</td>\n",
       "    </tr>\n",
       "    <tr>\n",
       "      <th>5</th>\n",
       "      <td>0.999586</td>\n",
       "    </tr>\n",
       "    <tr>\n",
       "      <th>6</th>\n",
       "      <td>0.999238</td>\n",
       "    </tr>\n",
       "    <tr>\n",
       "      <th>7</th>\n",
       "      <td>0.999473</td>\n",
       "    </tr>\n",
       "    <tr>\n",
       "      <th>8</th>\n",
       "      <td>0.999125</td>\n",
       "    </tr>\n",
       "    <tr>\n",
       "      <th>9</th>\n",
       "      <td>0.999474</td>\n",
       "    </tr>\n",
       "  </tbody>\n",
       "</table>\n",
       "</div>"
      ],
      "text/plain": [
       "    Outcome\n",
       "0  0.999583\n",
       "1  0.999625\n",
       "2  0.000941\n",
       "3  0.998669\n",
       "4  0.000539\n",
       "5  0.999586\n",
       "6  0.999238\n",
       "7  0.999473\n",
       "8  0.999125\n",
       "9  0.999474"
      ]
     },
     "execution_count": 10,
     "metadata": {},
     "output_type": "execute_result"
    }
   ],
   "source": [
    "submit_df = pd.DataFrame(y_pred_final_lgb, columns=['Outcome'])\n",
    "submit_df.to_csv(\"LGB_Submission.csv\", index=False)\n",
    "submit_df.head(10)"
   ]
  },
  {
   "cell_type": "code",
   "execution_count": null,
   "id": "public-addiction",
   "metadata": {
    "id": "W2c88MvxXm65",
    "papermill": {
     "duration": 0.030134,
     "end_time": "2021-08-25T14:54:47.538869",
     "exception": false,
     "start_time": "2021-08-25T14:54:47.508735",
     "status": "completed"
    },
    "tags": []
   },
   "outputs": [],
   "source": []
  }
 ],
 "metadata": {
  "kernelspec": {
   "display_name": "Python 3",
   "language": "python",
   "name": "python3"
  },
  "language_info": {
   "codemirror_mode": {
    "name": "ipython",
    "version": 3
   },
   "file_extension": ".py",
   "mimetype": "text/x-python",
   "name": "python",
   "nbconvert_exporter": "python",
   "pygments_lexer": "ipython3",
   "version": "3.7.10"
  },
  "papermill": {
   "default_parameters": {},
   "duration": 24.797445,
   "end_time": "2021-08-25T14:54:48.278717",
   "environment_variables": {},
   "exception": null,
   "input_path": "__notebook__.ipynb",
   "output_path": "__notebook__.ipynb",
   "parameters": {},
   "start_time": "2021-08-25T14:54:23.481272",
   "version": "2.3.3"
  }
 },
 "nbformat": 4,
 "nbformat_minor": 5
}
