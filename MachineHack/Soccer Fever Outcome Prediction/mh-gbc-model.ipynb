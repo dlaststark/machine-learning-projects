{
 "cells": [
  {
   "cell_type": "markdown",
   "id": "diverse-estimate",
   "metadata": {
    "id": "uLz9OcH8SeET",
    "papermill": {
     "duration": 0.011815,
     "end_time": "2021-08-25T11:34:26.458762",
     "exception": false,
     "start_time": "2021-08-25T11:34:26.446947",
     "status": "completed"
    },
    "tags": []
   },
   "source": [
    "## Import libraries"
   ]
  },
  {
   "cell_type": "code",
   "execution_count": 1,
   "id": "emerging-majority",
   "metadata": {
    "execution": {
     "iopub.execute_input": "2021-08-25T11:34:26.492432Z",
     "iopub.status.busy": "2021-08-25T11:34:26.491810Z",
     "iopub.status.idle": "2021-08-25T11:34:28.357836Z",
     "shell.execute_reply": "2021-08-25T11:34:28.356798Z",
     "shell.execute_reply.started": "2021-08-25T10:13:37.143817Z"
    },
    "executionInfo": {
     "elapsed": 18546,
     "status": "ok",
     "timestamp": 1616326755679,
     "user": {
      "displayName": "TAPAS DAS",
      "photoUrl": "https://lh3.googleusercontent.com/a-/AOh14GiyffdGKiPCR_UwVittzTcbBFms70IkGfU15fatCA=s64",
      "userId": "10798398878324948542"
     },
     "user_tz": -330
    },
    "id": "E9svswc9SUuX",
    "papermill": {
     "duration": 1.888001,
     "end_time": "2021-08-25T11:34:28.358006",
     "exception": false,
     "start_time": "2021-08-25T11:34:26.470005",
     "status": "completed"
    },
    "tags": []
   },
   "outputs": [],
   "source": [
    "import gc\n",
    "import pickle\n",
    "import optuna\n",
    "import numpy as np\n",
    "import pandas as pd\n",
    "from sklearn.metrics import log_loss\n",
    "from sklearn.model_selection import StratifiedKFold\n",
    "from sklearn.experimental import enable_hist_gradient_boosting\n",
    "from sklearn.ensemble import HistGradientBoostingClassifier"
   ]
  },
  {
   "cell_type": "markdown",
   "id": "brown-eleven",
   "metadata": {
    "id": "hg85SpW-S6hl",
    "papermill": {
     "duration": 0.010461,
     "end_time": "2021-08-25T11:34:28.379307",
     "exception": false,
     "start_time": "2021-08-25T11:34:28.368846",
     "status": "completed"
    },
    "tags": []
   },
   "source": [
    "## Prepare data for model training"
   ]
  },
  {
   "cell_type": "code",
   "execution_count": 2,
   "id": "invisible-concert",
   "metadata": {
    "execution": {
     "iopub.execute_input": "2021-08-25T11:34:28.406059Z",
     "iopub.status.busy": "2021-08-25T11:34:28.405436Z",
     "iopub.status.idle": "2021-08-25T11:34:28.741160Z",
     "shell.execute_reply": "2021-08-25T11:34:28.740651Z",
     "shell.execute_reply.started": "2021-08-25T10:13:39.060034Z"
    },
    "papermill": {
     "duration": 0.351226,
     "end_time": "2021-08-25T11:34:28.741292",
     "exception": false,
     "start_time": "2021-08-25T11:34:28.390066",
     "status": "completed"
    },
    "tags": []
   },
   "outputs": [
    {
     "data": {
      "text/plain": [
       "20"
      ]
     },
     "execution_count": 2,
     "metadata": {},
     "output_type": "execute_result"
    }
   ],
   "source": [
    "with open(\"../input/mh-eda-data-prep/MH_Processed_Data.txt\", 'rb') as handle: \n",
    "    data = handle.read()\n",
    "\n",
    "processed_data = pickle.loads(data)\n",
    "train_df = processed_data['train_df']\n",
    "test_df = processed_data['test_df']\n",
    "\n",
    "del processed_data\n",
    "gc.collect()"
   ]
  },
  {
   "cell_type": "code",
   "execution_count": 3,
   "id": "median-conversation",
   "metadata": {
    "execution": {
     "iopub.execute_input": "2021-08-25T11:34:28.771652Z",
     "iopub.status.busy": "2021-08-25T11:34:28.770593Z",
     "iopub.status.idle": "2021-08-25T11:34:28.913930Z",
     "shell.execute_reply": "2021-08-25T11:34:28.913391Z",
     "shell.execute_reply.started": "2021-08-25T10:13:39.406643Z"
    },
    "papermill": {
     "duration": 0.161217,
     "end_time": "2021-08-25T11:34:28.914075",
     "exception": false,
     "start_time": "2021-08-25T11:34:28.752858",
     "status": "completed"
    },
    "tags": []
   },
   "outputs": [
    {
     "name": "stdout",
     "output_type": "stream",
     "text": [
      "Xtrain: (7441, 133) \n",
      "Ytrain: (7441,) \n",
      "Xtest: (4008, 133)\n"
     ]
    },
    {
     "data": {
      "text/plain": [
       "0"
      ]
     },
     "execution_count": 3,
     "metadata": {},
     "output_type": "execute_result"
    }
   ],
   "source": [
    "Xtrain = train_df.loc[:, train_df.columns != 'Outcome'].copy()\n",
    "Ytrain = train_df['Outcome'].copy()\n",
    "Xtest = test_df.copy()\n",
    "\n",
    "print(f\"Xtrain: {Xtrain.shape} \\nYtrain: {Ytrain.shape} \\nXtest: {Xtest.shape}\")\n",
    "\n",
    "del train_df\n",
    "del test_df\n",
    "gc.collect()"
   ]
  },
  {
   "cell_type": "markdown",
   "id": "baking-swing",
   "metadata": {
    "papermill": {
     "duration": 0.011412,
     "end_time": "2021-08-25T11:34:28.937368",
     "exception": false,
     "start_time": "2021-08-25T11:34:28.925956",
     "status": "completed"
    },
    "tags": []
   },
   "source": [
    "## Hyperparameters Search"
   ]
  },
  {
   "cell_type": "code",
   "execution_count": 4,
   "id": "occupational-dairy",
   "metadata": {
    "execution": {
     "iopub.execute_input": "2021-08-25T11:34:28.966915Z",
     "iopub.status.busy": "2021-08-25T11:34:28.966239Z",
     "iopub.status.idle": "2021-08-25T11:34:28.970278Z",
     "shell.execute_reply": "2021-08-25T11:34:28.969817Z",
     "shell.execute_reply.started": "2021-08-25T11:08:05.381763Z"
    },
    "papermill": {
     "duration": 0.021364,
     "end_time": "2021-08-25T11:34:28.970422",
     "exception": false,
     "start_time": "2021-08-25T11:34:28.949058",
     "status": "completed"
    },
    "tags": []
   },
   "outputs": [
    {
     "data": {
      "text/plain": [
       "'\\ndef objective(trial):\\n    \\n    score = 0\\n    counter = 0\\n    \\n    kfold = StratifiedKFold(n_splits=5, shuffle=True, random_state=2018)\\n    \\n    for idx, (train, val) in enumerate(kfold.split(Xtrain, Ytrain)):\\n        counter += 1\\n\\n        train_x, train_y = Xtrain.iloc[train], Ytrain.iloc[train]\\n        val_x, val_y = Xtrain.iloc[val], Ytrain.iloc[val]\\n    \\n        model = HistGradientBoostingClassifier(\\n            loss=\\'binary_crossentropy\\', \\n            learning_rate=trial.suggest_loguniform(\"learning_rate\", 5e-3, 1e-1), \\n            max_iter=3000, \\n            max_leaf_nodes=trial.suggest_int(\"max_leaf_nodes\", 40, 1500), \\n            max_depth=trial.suggest_int(\"max_depth\", 4, 14), \\n            min_samples_leaf=trial.suggest_int(\"min_samples_leaf\", 1, 35), \\n            l2_regularization=trial.suggest_loguniform(\"l2_regularization\", 1e-3, 1), \\n            early_stopping=True, \\n            validation_fraction=0.1, \\n            n_iter_no_change=100,\\n            random_state=0\\n            )\\n    \\n        model.fit(train_x, train_y.ravel())\\n\\n        y_pred = model.predict_proba(val_x)\\n        score += log_loss(val_y, y_pred)\\n    \\n    score /= float(counter)\\n    return score\\n\\n\\nstudy = optuna.create_study()\\nstudy.optimize(objective, n_trials=100)\\n'"
      ]
     },
     "execution_count": 4,
     "metadata": {},
     "output_type": "execute_result"
    }
   ],
   "source": [
    "'''\n",
    "def objective(trial):\n",
    "    \n",
    "    score = 0\n",
    "    counter = 0\n",
    "    \n",
    "    kfold = StratifiedKFold(n_splits=5, shuffle=True, random_state=2018)\n",
    "    \n",
    "    for idx, (train, val) in enumerate(kfold.split(Xtrain, Ytrain)):\n",
    "        counter += 1\n",
    "\n",
    "        train_x, train_y = Xtrain.iloc[train], Ytrain.iloc[train]\n",
    "        val_x, val_y = Xtrain.iloc[val], Ytrain.iloc[val]\n",
    "    \n",
    "        model = HistGradientBoostingClassifier(\n",
    "            loss='binary_crossentropy', \n",
    "            learning_rate=trial.suggest_loguniform(\"learning_rate\", 5e-3, 1e-1), \n",
    "            max_iter=3000, \n",
    "            max_leaf_nodes=trial.suggest_int(\"max_leaf_nodes\", 40, 1500), \n",
    "            max_depth=trial.suggest_int(\"max_depth\", 4, 14), \n",
    "            min_samples_leaf=trial.suggest_int(\"min_samples_leaf\", 1, 35), \n",
    "            l2_regularization=trial.suggest_loguniform(\"l2_regularization\", 1e-3, 1), \n",
    "            early_stopping=True, \n",
    "            validation_fraction=0.1, \n",
    "            n_iter_no_change=100,\n",
    "            random_state=0\n",
    "            )\n",
    "    \n",
    "        model.fit(train_x, train_y.ravel())\n",
    "\n",
    "        y_pred = model.predict_proba(val_x)\n",
    "        score += log_loss(val_y, y_pred)\n",
    "    \n",
    "    score /= float(counter)\n",
    "    return score\n",
    "\n",
    "\n",
    "study = optuna.create_study()\n",
    "study.optimize(objective, n_trials=100)\n",
    "'''"
   ]
  },
  {
   "cell_type": "code",
   "execution_count": 5,
   "id": "expired-point",
   "metadata": {
    "execution": {
     "iopub.execute_input": "2021-08-25T11:34:28.997980Z",
     "iopub.status.busy": "2021-08-25T11:34:28.997323Z",
     "iopub.status.idle": "2021-08-25T11:34:29.001841Z",
     "shell.execute_reply": "2021-08-25T11:34:29.002394Z",
     "shell.execute_reply.started": "2021-08-25T11:31:03.386270Z"
    },
    "papermill": {
     "duration": 0.020015,
     "end_time": "2021-08-25T11:34:29.002571",
     "exception": false,
     "start_time": "2021-08-25T11:34:28.982556",
     "status": "completed"
    },
    "tags": []
   },
   "outputs": [
    {
     "data": {
      "text/plain": [
       "'\\nprint(\"Number of finished trials: {}\".format(len(study.trials)))\\n\\ntrial = study.best_trial\\nprint(\"Best trial value: {}\".format(trial.value))\\n\\nprint(\"Params: \")\\nfor key, value in trial.params.items():\\n    print(\" {}: {}\".format(key, value))\\n'"
      ]
     },
     "execution_count": 5,
     "metadata": {},
     "output_type": "execute_result"
    }
   ],
   "source": [
    "'''\n",
    "print(\"Number of finished trials: {}\".format(len(study.trials)))\n",
    "\n",
    "trial = study.best_trial\n",
    "print(\"Best trial value: {}\".format(trial.value))\n",
    "\n",
    "print(\"Params: \")\n",
    "for key, value in trial.params.items():\n",
    "    print(\" {}: {}\".format(key, value))\n",
    "'''"
   ]
  },
  {
   "cell_type": "markdown",
   "id": "beginning-preserve",
   "metadata": {
    "id": "9wNC5rWEVnjd",
    "papermill": {
     "duration": 0.012443,
     "end_time": "2021-08-25T11:34:29.027524",
     "exception": false,
     "start_time": "2021-08-25T11:34:29.015081",
     "status": "completed"
    },
    "tags": []
   },
   "source": [
    "## Build and validate the model"
   ]
  },
  {
   "cell_type": "code",
   "execution_count": 6,
   "id": "exciting-logging",
   "metadata": {
    "execution": {
     "iopub.execute_input": "2021-08-25T11:34:29.055577Z",
     "iopub.status.busy": "2021-08-25T11:34:29.054937Z",
     "iopub.status.idle": "2021-08-25T11:35:39.502161Z",
     "shell.execute_reply": "2021-08-25T11:35:39.502695Z",
     "shell.execute_reply.started": "2021-08-25T11:31:35.180012Z"
    },
    "executionInfo": {
     "elapsed": 226745,
     "status": "error",
     "timestamp": 1616326997825,
     "user": {
      "displayName": "TAPAS DAS",
      "photoUrl": "https://lh3.googleusercontent.com/a-/AOh14GiyffdGKiPCR_UwVittzTcbBFms70IkGfU15fatCA=s64",
      "userId": "10798398878324948542"
     },
     "user_tz": -330
    },
    "id": "uWPosEORSVBp",
    "outputId": "ecad76e6-e82d-4e4a-ef18-937bc0235495",
    "papermill": {
     "duration": 70.462804,
     "end_time": "2021-08-25T11:35:39.502863",
     "exception": false,
     "start_time": "2021-08-25T11:34:29.040059",
     "status": "completed"
    },
    "tags": []
   },
   "outputs": [
    {
     "name": "stdout",
     "output_type": "stream",
     "text": [
      "Seed-2018 | Fold-0 | OOF Score: 0.013636819643628935\n",
      "Seed-2018 | Fold-1 | OOF Score: 0.021573215563891496\n",
      "Seed-2018 | Fold-2 | OOF Score: 0.008587470639905934\n",
      "Seed-2018 | Fold-3 | OOF Score: 0.0072755895502901805\n",
      "Seed-2018 | Fold-4 | OOF Score: 0.01219672520453355\n",
      "\n",
      "Seed: 2018 | Aggregate OOF Score: 0.01265396412045002\n",
      "\n",
      "\n",
      "Seed-2020 | Fold-0 | OOF Score: 0.010256779810374556\n",
      "Seed-2020 | Fold-1 | OOF Score: 0.020008154170835093\n",
      "Seed-2020 | Fold-2 | OOF Score: 0.007133559419802397\n",
      "Seed-2020 | Fold-3 | OOF Score: 0.010181797031774017\n",
      "Seed-2020 | Fold-4 | OOF Score: 0.019953284324890512\n",
      "\n",
      "Seed: 2020 | Aggregate OOF Score: 0.013506714951535315\n",
      "\n",
      "\n",
      "Aggregate OOF Score: 0.013080339535992669\n"
     ]
    }
   ],
   "source": [
    "FOLD = 5\n",
    "SEEDS = [2018, 2020]\n",
    "\n",
    "oof_score = 0\n",
    "y_pred_meta_gbc = np.zeros((Ytrain.shape[0], 1))\n",
    "y_pred_final_gbc = 0\n",
    "counter = 0\n",
    "\n",
    "\n",
    "for sidx, seed in enumerate(SEEDS):\n",
    "    seed_score = 0\n",
    "    \n",
    "    kfold = StratifiedKFold(n_splits=FOLD, shuffle=True, random_state=seed)\n",
    "\n",
    "    for idx, (train, val) in enumerate(kfold.split(Xtrain, Ytrain)):\n",
    "        counter += 1\n",
    "\n",
    "        train_x, train_y = Xtrain.iloc[train], Ytrain.iloc[train]\n",
    "        val_x, val_y = Xtrain.iloc[val], Ytrain.iloc[val]\n",
    "\n",
    "        if seed == 2020:\n",
    "            model = HistGradientBoostingClassifier(\n",
    "                loss='binary_crossentropy', \n",
    "                learning_rate=0.0058, \n",
    "                max_iter=3000, \n",
    "                max_leaf_nodes=981, \n",
    "                max_depth=11, \n",
    "                min_samples_leaf=34, \n",
    "                l2_regularization=0.0015, \n",
    "                early_stopping=True, \n",
    "                validation_fraction=0.1, \n",
    "                n_iter_no_change=100,\n",
    "                random_state=0\n",
    "            )\n",
    "        \n",
    "        else:\n",
    "            model = HistGradientBoostingClassifier(\n",
    "                loss='binary_crossentropy', \n",
    "                learning_rate=0.0052, \n",
    "                max_iter=3000, \n",
    "                max_leaf_nodes=499, \n",
    "                max_depth=10, \n",
    "                min_samples_leaf=18, \n",
    "                l2_regularization=0.3082, \n",
    "                early_stopping=True, \n",
    "                validation_fraction=0.1, \n",
    "                n_iter_no_change=100,\n",
    "                random_state=0\n",
    "            )\n",
    "        \n",
    "        model.fit(train_x, train_y)\n",
    "\n",
    "        y_pred = model.predict_proba(val_x)\n",
    "        y_pred_meta_gbc[val] += np.array([y_pred[:,1]]).T\n",
    "        y_pred_final_gbc += model.predict_proba(Xtest)\n",
    "        \n",
    "        score = log_loss(val_y, y_pred)\n",
    "        oof_score += score\n",
    "        seed_score += score\n",
    "        print(\"Seed-{} | Fold-{} | OOF Score: {}\".format(seed, idx, score))\n",
    "    \n",
    "    print(\"\\nSeed: {} | Aggregate OOF Score: {}\\n\\n\".format(seed, (seed_score / FOLD)))\n",
    "\n",
    "\n",
    "y_pred_meta_gbc = y_pred_meta_gbc / float(len(SEEDS))\n",
    "y_pred_final_gbc = y_pred_final_gbc / float(counter)\n",
    "oof_score /= float(counter)\n",
    "print(\"Aggregate OOF Score: {}\".format(oof_score))"
   ]
  },
  {
   "cell_type": "code",
   "execution_count": 7,
   "id": "limited-viewer",
   "metadata": {
    "execution": {
     "iopub.execute_input": "2021-08-25T11:35:39.539446Z",
     "iopub.status.busy": "2021-08-25T11:35:39.538799Z",
     "iopub.status.idle": "2021-08-25T11:35:39.551059Z",
     "shell.execute_reply": "2021-08-25T11:35:39.550422Z"
    },
    "id": "uLzmS7LzXvXy",
    "papermill": {
     "duration": 0.032626,
     "end_time": "2021-08-25T11:35:39.551205",
     "exception": false,
     "start_time": "2021-08-25T11:35:39.518579",
     "status": "completed"
    },
    "tags": []
   },
   "outputs": [],
   "source": [
    "np.savez_compressed('./GBC_Meta_Features.npz',\n",
    "                    y_pred_meta_gbc=y_pred_meta_gbc, \n",
    "                    oof_score=oof_score,\n",
    "                    y_pred_final_gbc=y_pred_final_gbc)"
   ]
  },
  {
   "cell_type": "markdown",
   "id": "veterinary-madrid",
   "metadata": {
    "id": "nZvoU4TpWxmY",
    "papermill": {
     "duration": 0.015323,
     "end_time": "2021-08-25T11:35:39.582196",
     "exception": false,
     "start_time": "2021-08-25T11:35:39.566873",
     "status": "completed"
    },
    "tags": []
   },
   "source": [
    "## Create submission file"
   ]
  },
  {
   "cell_type": "code",
   "execution_count": 8,
   "id": "framed-contract",
   "metadata": {
    "execution": {
     "iopub.execute_input": "2021-08-25T11:35:39.619157Z",
     "iopub.status.busy": "2021-08-25T11:35:39.618559Z",
     "iopub.status.idle": "2021-08-25T11:35:39.648097Z",
     "shell.execute_reply": "2021-08-25T11:35:39.647548Z"
    },
    "executionInfo": {
     "elapsed": 1417,
     "status": "ok",
     "timestamp": 1616078535765,
     "user": {
      "displayName": "TAPAS DAS",
      "photoUrl": "https://lh3.googleusercontent.com/a-/AOh14GiyffdGKiPCR_UwVittzTcbBFms70IkGfU15fatCA=s64",
      "userId": "10798398878324948542"
     },
     "user_tz": -330
    },
    "id": "zGEGOAJHVoHV",
    "outputId": "53ab44cf-755f-435d-c1af-f4184f2114dd",
    "papermill": {
     "duration": 0.050452,
     "end_time": "2021-08-25T11:35:39.648250",
     "exception": false,
     "start_time": "2021-08-25T11:35:39.597798",
     "status": "completed"
    },
    "tags": []
   },
   "outputs": [
    {
     "data": {
      "text/html": [
       "<div>\n",
       "<style scoped>\n",
       "    .dataframe tbody tr th:only-of-type {\n",
       "        vertical-align: middle;\n",
       "    }\n",
       "\n",
       "    .dataframe tbody tr th {\n",
       "        vertical-align: top;\n",
       "    }\n",
       "\n",
       "    .dataframe thead th {\n",
       "        text-align: right;\n",
       "    }\n",
       "</style>\n",
       "<table border=\"1\" class=\"dataframe\">\n",
       "  <thead>\n",
       "    <tr style=\"text-align: right;\">\n",
       "      <th></th>\n",
       "      <th>Outcome</th>\n",
       "    </tr>\n",
       "  </thead>\n",
       "  <tbody>\n",
       "    <tr>\n",
       "      <th>0</th>\n",
       "      <td>0.999378</td>\n",
       "    </tr>\n",
       "    <tr>\n",
       "      <th>1</th>\n",
       "      <td>0.999381</td>\n",
       "    </tr>\n",
       "    <tr>\n",
       "      <th>2</th>\n",
       "      <td>0.001612</td>\n",
       "    </tr>\n",
       "    <tr>\n",
       "      <th>3</th>\n",
       "      <td>0.998861</td>\n",
       "    </tr>\n",
       "    <tr>\n",
       "      <th>4</th>\n",
       "      <td>0.001172</td>\n",
       "    </tr>\n",
       "    <tr>\n",
       "      <th>5</th>\n",
       "      <td>0.999354</td>\n",
       "    </tr>\n",
       "    <tr>\n",
       "      <th>6</th>\n",
       "      <td>0.999104</td>\n",
       "    </tr>\n",
       "    <tr>\n",
       "      <th>7</th>\n",
       "      <td>0.998934</td>\n",
       "    </tr>\n",
       "    <tr>\n",
       "      <th>8</th>\n",
       "      <td>0.999055</td>\n",
       "    </tr>\n",
       "    <tr>\n",
       "      <th>9</th>\n",
       "      <td>0.998940</td>\n",
       "    </tr>\n",
       "  </tbody>\n",
       "</table>\n",
       "</div>"
      ],
      "text/plain": [
       "    Outcome\n",
       "0  0.999378\n",
       "1  0.999381\n",
       "2  0.001612\n",
       "3  0.998861\n",
       "4  0.001172\n",
       "5  0.999354\n",
       "6  0.999104\n",
       "7  0.998934\n",
       "8  0.999055\n",
       "9  0.998940"
      ]
     },
     "execution_count": 8,
     "metadata": {},
     "output_type": "execute_result"
    }
   ],
   "source": [
    "submit_df = pd.DataFrame(y_pred_final_gbc[:,1], columns=['Outcome'])\n",
    "submit_df.to_csv(\"GBC_Submission.csv\", index=False)\n",
    "submit_df.head(10)"
   ]
  },
  {
   "cell_type": "code",
   "execution_count": null,
   "id": "domestic-hands",
   "metadata": {
    "id": "W2c88MvxXm65",
    "papermill": {
     "duration": 0.016102,
     "end_time": "2021-08-25T11:35:39.680637",
     "exception": false,
     "start_time": "2021-08-25T11:35:39.664535",
     "status": "completed"
    },
    "tags": []
   },
   "outputs": [],
   "source": []
  }
 ],
 "metadata": {
  "kernelspec": {
   "display_name": "Python 3",
   "language": "python",
   "name": "python3"
  },
  "language_info": {
   "codemirror_mode": {
    "name": "ipython",
    "version": 3
   },
   "file_extension": ".py",
   "mimetype": "text/x-python",
   "name": "python",
   "nbconvert_exporter": "python",
   "pygments_lexer": "ipython3",
   "version": "3.7.10"
  },
  "papermill": {
   "default_parameters": {},
   "duration": 82.818951,
   "end_time": "2021-08-25T11:35:41.328204",
   "environment_variables": {},
   "exception": null,
   "input_path": "__notebook__.ipynb",
   "output_path": "__notebook__.ipynb",
   "parameters": {},
   "start_time": "2021-08-25T11:34:18.509253",
   "version": "2.3.3"
  }
 },
 "nbformat": 4,
 "nbformat_minor": 5
}
