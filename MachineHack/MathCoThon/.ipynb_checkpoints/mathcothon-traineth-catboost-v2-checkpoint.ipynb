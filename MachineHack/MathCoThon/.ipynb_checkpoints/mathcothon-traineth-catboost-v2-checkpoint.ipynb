{
 "cells": [
  {
   "cell_type": "markdown",
   "id": "temporal-lyric",
   "metadata": {
    "id": "uLz9OcH8SeET",
    "papermill": {
     "duration": 0.013842,
     "end_time": "2021-07-16T13:46:41.499582",
     "exception": false,
     "start_time": "2021-07-16T13:46:41.485740",
     "status": "completed"
    },
    "tags": []
   },
   "source": [
    "## Import libraries"
   ]
  },
  {
   "cell_type": "code",
   "execution_count": 1,
   "id": "located-exposure",
   "metadata": {
    "execution": {
     "iopub.execute_input": "2021-07-16T13:46:41.536230Z",
     "iopub.status.busy": "2021-07-16T13:46:41.535713Z",
     "iopub.status.idle": "2021-07-16T13:46:42.446319Z",
     "shell.execute_reply": "2021-07-16T13:46:42.445374Z",
     "shell.execute_reply.started": "2021-07-16T13:38:00.993989Z"
    },
    "executionInfo": {
     "elapsed": 23727,
     "status": "ok",
     "timestamp": 1616326442041,
     "user": {
      "displayName": "TAPAS DAS",
      "photoUrl": "https://lh3.googleusercontent.com/a-/AOh14GiyffdGKiPCR_UwVittzTcbBFms70IkGfU15fatCA=s64",
      "userId": "10798398878324948542"
     },
     "user_tz": -330
    },
    "id": "E9svswc9SUuX",
    "papermill": {
     "duration": 0.933703,
     "end_time": "2021-07-16T13:46:42.446472",
     "exception": false,
     "start_time": "2021-07-16T13:46:41.512769",
     "status": "completed"
    },
    "tags": []
   },
   "outputs": [],
   "source": [
    "import gc\n",
    "import pickle\n",
    "import numpy as np\n",
    "import pandas as pd\n",
    "import seaborn as sns\n",
    "import matplotlib.pyplot as plt\n",
    "from catboost import CatBoostRegressor\n",
    "from sklearn.metrics import mean_squared_log_error\n",
    "from sklearn.model_selection import StratifiedKFold"
   ]
  },
  {
   "cell_type": "markdown",
   "id": "dramatic-table",
   "metadata": {
    "id": "hg85SpW-S6hl",
    "papermill": {
     "duration": 0.012643,
     "end_time": "2021-07-16T13:46:42.472064",
     "exception": false,
     "start_time": "2021-07-16T13:46:42.459421",
     "status": "completed"
    },
    "tags": []
   },
   "source": [
    "## Prepare data for model training"
   ]
  },
  {
   "cell_type": "code",
   "execution_count": 2,
   "id": "blessed-pottery",
   "metadata": {
    "execution": {
     "iopub.execute_input": "2021-07-16T13:46:42.503451Z",
     "iopub.status.busy": "2021-07-16T13:46:42.502840Z",
     "iopub.status.idle": "2021-07-16T13:46:43.976897Z",
     "shell.execute_reply": "2021-07-16T13:46:43.976479Z",
     "shell.execute_reply.started": "2021-07-16T13:38:01.344957Z"
    },
    "executionInfo": {
     "elapsed": 10043,
     "status": "ok",
     "timestamp": 1616326444482,
     "user": {
      "displayName": "TAPAS DAS",
      "photoUrl": "https://lh3.googleusercontent.com/a-/AOh14GiyffdGKiPCR_UwVittzTcbBFms70IkGfU15fatCA=s64",
      "userId": "10798398878324948542"
     },
     "user_tz": -330
    },
    "id": "VdhgoIAmSUxK",
    "outputId": "7897cfad-c8d4-46d9-86ea-04de37e11444",
    "papermill": {
     "duration": 1.49229,
     "end_time": "2021-07-16T13:46:43.977035",
     "exception": false,
     "start_time": "2021-07-16T13:46:42.484745",
     "status": "completed"
    },
    "tags": []
   },
   "outputs": [
    {
     "data": {
      "text/plain": [
       "0"
      ]
     },
     "execution_count": 2,
     "metadata": {},
     "output_type": "execute_result"
    }
   ],
   "source": [
    "with open(\"../input/mathcothon-i-shalt-prepareth-data/MathCoThon_Ready_Meatballs.txt\", 'rb') as handle: \n",
    "    data = handle.read()\n",
    "\n",
    "processed_data = pickle.loads(data)\n",
    "train_df = processed_data['train_df']\n",
    "test_df = processed_data['test_df']\n",
    "\n",
    "Ytrain = train_df['Price'].copy()\n",
    "Ytrain_strat = pd.qcut(np.log1p(train_df['Price']), q=10, labels=range(0,10))\n",
    "train_df.drop(['Price'], inplace=True, axis=1)\n",
    "\n",
    "del processed_data\n",
    "gc.collect()"
   ]
  },
  {
   "cell_type": "code",
   "execution_count": 3,
   "id": "spoken-piano",
   "metadata": {
    "execution": {
     "iopub.execute_input": "2021-07-16T13:46:44.007911Z",
     "iopub.status.busy": "2021-07-16T13:46:44.007344Z",
     "iopub.status.idle": "2021-07-16T13:46:44.635574Z",
     "shell.execute_reply": "2021-07-16T13:46:44.635997Z",
     "shell.execute_reply.started": "2021-07-16T13:38:01.770961Z"
    },
    "papermill": {
     "duration": 0.645797,
     "end_time": "2021-07-16T13:46:44.636147",
     "exception": false,
     "start_time": "2021-07-16T13:46:43.990350",
     "status": "completed"
    },
    "tags": []
   },
   "outputs": [
    {
     "data": {
      "text/plain": [
       "20"
      ]
     },
     "execution_count": 3,
     "metadata": {},
     "output_type": "execute_result"
    }
   ],
   "source": [
    "with open(\"../input/mathcothon-denoised-meatballs/MathCoThon_Denoised_Meatballs.txt\", 'rb') as handle: \n",
    "    data = handle.read()\n",
    "\n",
    "processed_data = pickle.loads(data)\n",
    "dae_train_df = processed_data['dae_train_df']\n",
    "dae_test_df = processed_data['dae_test_df']\n",
    "\n",
    "del processed_data\n",
    "gc.collect()"
   ]
  },
  {
   "cell_type": "code",
   "execution_count": 4,
   "id": "gross-ladder",
   "metadata": {
    "execution": {
     "iopub.execute_input": "2021-07-16T13:46:44.678306Z",
     "iopub.status.busy": "2021-07-16T13:46:44.677355Z",
     "iopub.status.idle": "2021-07-16T13:46:44.777098Z",
     "shell.execute_reply": "2021-07-16T13:46:44.776638Z",
     "shell.execute_reply.started": "2021-07-16T13:38:03.773741Z"
    },
    "papermill": {
     "duration": 0.12774,
     "end_time": "2021-07-16T13:46:44.777236",
     "exception": false,
     "start_time": "2021-07-16T13:46:44.649496",
     "status": "completed"
    },
    "tags": []
   },
   "outputs": [],
   "source": [
    "cat_cols = ['Manufacturer','Model','Category','Leather interior','Cylinders',\n",
    "            'Doors','Wheel','Color','Airbags','Turbo_Engine','Leap_Year',\n",
    "            'Hybrid_Car','Numbers_in_Model','Drive wheels Front','Drive wheels Rear',\n",
    "            'Manual_Gear','Automatic_Gear','Continuous_Gear','Fuel Tank Petrol',\n",
    "            'Fuel Tank Diesel','Fuel Tank Gas','id0','id1','id2','id3','id4','id5','id6','id7']\n",
    "\n",
    "vec_cols = [col for col in test_df.columns if (col.startswith('tfidf_') or col.startswith('countvec_'))]\n",
    "num_cols = [col for col in test_df.columns if not(col in cat_cols or col in vec_cols)]\n",
    "\n",
    "train_df[cat_cols] = train_df[cat_cols].astype(int)\n",
    "test_df[cat_cols] = test_df[cat_cols].astype(int)"
   ]
  },
  {
   "cell_type": "code",
   "execution_count": 5,
   "id": "impressed-munich",
   "metadata": {
    "execution": {
     "iopub.execute_input": "2021-07-16T13:46:44.811617Z",
     "iopub.status.busy": "2021-07-16T13:46:44.810488Z",
     "iopub.status.idle": "2021-07-16T13:46:45.061669Z",
     "shell.execute_reply": "2021-07-16T13:46:45.060641Z",
     "shell.execute_reply.started": "2021-07-16T13:38:08.796138Z"
    },
    "executionInfo": {
     "elapsed": 2058,
     "status": "ok",
     "timestamp": 1616326525321,
     "user": {
      "displayName": "TAPAS DAS",
      "photoUrl": "https://lh3.googleusercontent.com/a-/AOh14GiyffdGKiPCR_UwVittzTcbBFms70IkGfU15fatCA=s64",
      "userId": "10798398878324948542"
     },
     "user_tz": -330
    },
    "id": "UAfyHbeASU7C",
    "outputId": "14c429a7-7b43-4065-afae-da7d4f6679a9",
    "papermill": {
     "duration": 0.270996,
     "end_time": "2021-07-16T13:46:45.061933",
     "exception": false,
     "start_time": "2021-07-16T13:46:44.790937",
     "status": "completed"
    },
    "tags": []
   },
   "outputs": [
    {
     "name": "stdout",
     "output_type": "stream",
     "text": [
      "Xtrain: (15628, 349) \n",
      "Ytrain: (15628,) \n",
      "Xtest: (8245, 349)\n"
     ]
    },
    {
     "data": {
      "text/plain": [
       "20"
      ]
     },
     "execution_count": 5,
     "metadata": {},
     "output_type": "execute_result"
    }
   ],
   "source": [
    "Xtrain = pd.merge(train_df[cat_cols+num_cols], dae_train_df, on='ID', how='inner', sort=False)\n",
    "Xtest = pd.merge(test_df[cat_cols+num_cols], dae_test_df, on='ID', how='inner', sort=False)\n",
    "print(\"Xtrain: {} \\nYtrain: {} \\nXtest: {}\".format(Xtrain.shape, Ytrain.shape, Xtest.shape))\n",
    "\n",
    "cat_cols_indices = [Xtrain.columns.get_loc(col) for col in cat_cols]\n",
    "\n",
    "del train_df\n",
    "del test_df\n",
    "gc.collect()"
   ]
  },
  {
   "cell_type": "markdown",
   "id": "removable-reset",
   "metadata": {
    "id": "9wNC5rWEVnjd",
    "papermill": {
     "duration": 0.013891,
     "end_time": "2021-07-16T13:46:45.091146",
     "exception": false,
     "start_time": "2021-07-16T13:46:45.077255",
     "status": "completed"
    },
    "tags": []
   },
   "source": [
    "## Build and validate the model"
   ]
  },
  {
   "cell_type": "markdown",
   "id": "colonial-development",
   "metadata": {
    "papermill": {
     "duration": 0.013641,
     "end_time": "2021-07-16T13:46:45.118869",
     "exception": false,
     "start_time": "2021-07-16T13:46:45.105228",
     "status": "completed"
    },
    "tags": []
   },
   "source": [
    "### Model-1"
   ]
  },
  {
   "cell_type": "code",
   "execution_count": 6,
   "id": "satisfactory-cause",
   "metadata": {
    "execution": {
     "iopub.execute_input": "2021-07-16T13:46:45.159815Z",
     "iopub.status.busy": "2021-07-16T13:46:45.158586Z",
     "iopub.status.idle": "2021-07-16T14:21:26.628865Z",
     "shell.execute_reply": "2021-07-16T14:21:26.629503Z"
    },
    "id": "uWPosEORSVBp",
    "outputId": "d70ac047-a86b-4f36-84cc-960b1b5316be",
    "papermill": {
     "duration": 2081.496864,
     "end_time": "2021-07-16T14:21:26.629741",
     "exception": false,
     "start_time": "2021-07-16T13:46:45.132877",
     "status": "completed"
    },
    "tags": []
   },
   "outputs": [
    {
     "name": "stdout",
     "output_type": "stream",
     "text": [
      "0:\tlearn: 1.3911250\ttest: 1.4270718\tbest: 1.4270718 (0)\ttotal: 115ms\tremaining: 15m 22s\n",
      "500:\tlearn: 0.5747132\ttest: 0.9433076\tbest: 0.9433076 (500)\ttotal: 53.2s\tremaining: 13m 17s\n",
      "1000:\tlearn: 0.4282244\ttest: 0.9357567\tbest: 0.9355518 (805)\ttotal: 1m 45s\tremaining: 12m 19s\n",
      "bestTest = 0.9355517651\n",
      "bestIteration = 805\n",
      "Shrink model to first 806 iterations.\n",
      "Seed-2020 | Fold-0 | OOF Score: 0.9333887725948286\n",
      "0:\tlearn: 1.3982133\ttest: 1.3631178\tbest: 1.3631178 (0)\ttotal: 114ms\tremaining: 15m 13s\n",
      "500:\tlearn: 0.5661064\ttest: 0.9017532\tbest: 0.9017532 (500)\ttotal: 53.9s\tremaining: 13m 26s\n",
      "1000:\tlearn: 0.4152891\ttest: 0.9007939\tbest: 0.9001533 (870)\ttotal: 1m 47s\tremaining: 12m 34s\n",
      "bestTest = 0.9001533337\n",
      "bestIteration = 870\n",
      "Shrink model to first 871 iterations.\n",
      "Seed-2020 | Fold-1 | OOF Score: 0.8985554256615577\n",
      "0:\tlearn: 1.3964457\ttest: 1.3804184\tbest: 1.3804184 (0)\ttotal: 100ms\tremaining: 13m 20s\n",
      "500:\tlearn: 0.5631875\ttest: 0.9273501\tbest: 0.9260649 (377)\ttotal: 55s\tremaining: 13m 43s\n",
      "bestTest = 0.9260648974\n",
      "bestIteration = 377\n",
      "Shrink model to first 378 iterations.\n",
      "Seed-2020 | Fold-2 | OOF Score: 0.9245589627425741\n",
      "0:\tlearn: 1.3948406\ttest: 1.3923610\tbest: 1.3923610 (0)\ttotal: 105ms\tremaining: 14m 1s\n",
      "500:\tlearn: 0.5690976\ttest: 0.9351972\tbest: 0.9351972 (500)\ttotal: 54s\tremaining: 13m 28s\n",
      "1000:\tlearn: 0.4199686\ttest: 0.9323897\tbest: 0.9322096 (824)\ttotal: 1m 46s\tremaining: 12m 27s\n",
      "bestTest = 0.9322095943\n",
      "bestIteration = 824\n",
      "Shrink model to first 825 iterations.\n",
      "Seed-2020 | Fold-3 | OOF Score: 0.9303774744373438\n",
      "0:\tlearn: 1.3978980\ttest: 1.3632501\tbest: 1.3632501 (0)\ttotal: 103ms\tremaining: 13m 46s\n",
      "500:\tlearn: 0.5543463\ttest: 0.8929733\tbest: 0.8925642 (411)\ttotal: 53.7s\tremaining: 13m 23s\n",
      "bestTest = 0.8925641537\n",
      "bestIteration = 411\n",
      "Shrink model to first 412 iterations.\n",
      "Seed-2020 | Fold-4 | OOF Score: 0.8908801855365241\n",
      "0:\tlearn: 1.3925883\ttest: 1.4198685\tbest: 1.4198685 (0)\ttotal: 142ms\tremaining: 18m 58s\n",
      "500:\tlearn: 0.5727618\ttest: 0.9133585\tbest: 0.9132173 (497)\ttotal: 53s\tremaining: 13m 13s\n",
      "1000:\tlearn: 0.4235241\ttest: 0.9120854\tbest: 0.9110471 (874)\ttotal: 1m 46s\tremaining: 12m 27s\n",
      "bestTest = 0.9110471007\n",
      "bestIteration = 874\n",
      "Shrink model to first 875 iterations.\n",
      "Seed-2020 | Fold-5 | OOF Score: 0.9093189814818747\n",
      "0:\tlearn: 1.3908071\ttest: 1.4326068\tbest: 1.4326068 (0)\ttotal: 101ms\tremaining: 13m 26s\n",
      "500:\tlearn: 0.5702500\ttest: 0.9202827\tbest: 0.9202751 (495)\ttotal: 55.4s\tremaining: 13m 49s\n",
      "1000:\tlearn: 0.4240980\ttest: 0.9135480\tbest: 0.9132527 (942)\ttotal: 1m 49s\tremaining: 12m 42s\n",
      "bestTest = 0.9132527208\n",
      "bestIteration = 942\n",
      "Shrink model to first 943 iterations.\n",
      "Seed-2020 | Fold-6 | OOF Score: 0.9108002135685219\n",
      "0:\tlearn: 1.3918035\ttest: 1.4214310\tbest: 1.4214310 (0)\ttotal: 107ms\tremaining: 14m 17s\n",
      "500:\tlearn: 0.5508157\ttest: 1.0230266\tbest: 1.0220502 (406)\ttotal: 54.3s\tremaining: 13m 33s\n",
      "bestTest = 1.022050229\n",
      "bestIteration = 406\n",
      "Shrink model to first 407 iterations.\n",
      "Seed-2020 | Fold-7 | OOF Score: 1.01990397151781\n",
      "0:\tlearn: 1.3977062\ttest: 1.3658274\tbest: 1.3658274 (0)\ttotal: 105ms\tremaining: 14m 3s\n",
      "500:\tlearn: 0.5729378\ttest: 0.9312863\tbest: 0.9312286 (498)\ttotal: 54.8s\tremaining: 13m 40s\n",
      "bestTest = 0.9300407812\n",
      "bestIteration = 639\n",
      "Shrink model to first 640 iterations.\n",
      "Seed-2020 | Fold-8 | OOF Score: 0.928529590734218\n",
      "0:\tlearn: 1.3956402\ttest: 1.3880772\tbest: 1.3880772 (0)\ttotal: 101ms\tremaining: 13m 27s\n",
      "500:\tlearn: 0.5659348\ttest: 0.9354464\tbest: 0.9354389 (498)\ttotal: 54.5s\tremaining: 13m 36s\n",
      "bestTest = 0.9339902676\n",
      "bestIteration = 708\n",
      "Shrink model to first 709 iterations.\n",
      "Seed-2020 | Fold-9 | OOF Score: 0.9319422504984669\n",
      "\n",
      "Seed: 2020 | Aggregate OOF Score: 0.9278255828773722\n",
      "\n",
      "\n",
      "0:\tlearn: 1.3943037\ttest: 1.3976716\tbest: 1.3976716 (0)\ttotal: 105ms\tremaining: 13m 55s\n",
      "500:\tlearn: 0.5691511\ttest: 0.9193006\tbest: 0.9191756 (496)\ttotal: 55.4s\tremaining: 13m 49s\n",
      "bestTest = 0.9177408212\n",
      "bestIteration = 603\n",
      "Shrink model to first 604 iterations.\n",
      "Seed-2022 | Fold-0 | OOF Score: 0.9159285097693638\n",
      "0:\tlearn: 1.3982365\ttest: 1.3637936\tbest: 1.3637936 (0)\ttotal: 113ms\tremaining: 15m 5s\n",
      "500:\tlearn: 0.5606193\ttest: 0.9023591\tbest: 0.9023418 (494)\ttotal: 54s\tremaining: 13m 27s\n",
      "bestTest = 0.8987984207\n",
      "bestIteration = 782\n",
      "Shrink model to first 783 iterations.\n",
      "Seed-2022 | Fold-1 | OOF Score: 0.897199792444407\n",
      "0:\tlearn: 1.3956579\ttest: 1.3873866\tbest: 1.3873866 (0)\ttotal: 112ms\tremaining: 14m 52s\n",
      "500:\tlearn: 0.5686592\ttest: 0.9195175\tbest: 0.9194822 (499)\ttotal: 55.4s\tremaining: 13m 48s\n",
      "bestTest = 0.917998256\n",
      "bestIteration = 570\n",
      "Shrink model to first 571 iterations.\n",
      "Seed-2022 | Fold-2 | OOF Score: 0.9163074091574428\n",
      "0:\tlearn: 1.3965604\ttest: 1.3754744\tbest: 1.3754744 (0)\ttotal: 101ms\tremaining: 13m 30s\n",
      "500:\tlearn: 0.5603680\ttest: 0.8922982\tbest: 0.8922982 (500)\ttotal: 54s\tremaining: 13m 27s\n",
      "bestTest = 0.8920792242\n",
      "bestIteration = 612\n",
      "Shrink model to first 613 iterations.\n",
      "Seed-2022 | Fold-3 | OOF Score: 0.8903191604363604\n",
      "0:\tlearn: 1.3987814\ttest: 1.3643616\tbest: 1.3643616 (0)\ttotal: 241ms\tremaining: 32m 9s\n",
      "500:\tlearn: 0.5770432\ttest: 0.9411473\tbest: 0.9405819 (450)\ttotal: 55.3s\tremaining: 13m 47s\n",
      "bestTest = 0.9405818633\n",
      "bestIteration = 450\n",
      "Shrink model to first 451 iterations.\n",
      "Seed-2022 | Fold-4 | OOF Score: 0.9389515096015768\n",
      "0:\tlearn: 1.3853871\ttest: 1.4758029\tbest: 1.4758029 (0)\ttotal: 115ms\tremaining: 15m 20s\n",
      "500:\tlearn: 0.5691652\ttest: 1.0016213\tbest: 1.0016213 (500)\ttotal: 53.5s\tremaining: 13m 20s\n",
      "1000:\tlearn: 0.4241879\ttest: 0.9981456\tbest: 0.9979363 (906)\ttotal: 1m 47s\tremaining: 12m 33s\n",
      "bestTest = 0.9979363428\n",
      "bestIteration = 906\n",
      "Shrink model to first 907 iterations.\n",
      "Seed-2022 | Fold-5 | OOF Score: 0.9950064582292213\n",
      "0:\tlearn: 1.3959383\ttest: 1.3831316\tbest: 1.3831316 (0)\ttotal: 101ms\tremaining: 13m 25s\n",
      "500:\tlearn: 0.5656603\ttest: 0.9395042\tbest: 0.9393850 (494)\ttotal: 54s\tremaining: 13m 28s\n",
      "1000:\tlearn: 0.4168476\ttest: 0.9362768\tbest: 0.9358329 (870)\ttotal: 1m 48s\tremaining: 12m 36s\n",
      "bestTest = 0.9358328841\n",
      "bestIteration = 870\n",
      "Shrink model to first 871 iterations.\n",
      "Seed-2022 | Fold-6 | OOF Score: 0.9338445051133322\n",
      "0:\tlearn: 1.3916472\ttest: 1.4223547\tbest: 1.4223547 (0)\ttotal: 107ms\tremaining: 14m 16s\n",
      "500:\tlearn: 0.5546192\ttest: 0.9710767\tbest: 0.9709904 (488)\ttotal: 54.6s\tremaining: 13m 37s\n",
      "bestTest = 0.9693289562\n",
      "bestIteration = 636\n",
      "Shrink model to first 637 iterations.\n",
      "Seed-2022 | Fold-7 | OOF Score: 0.9673319090101485\n",
      "0:\tlearn: 1.3950963\ttest: 1.3924947\tbest: 1.3924947 (0)\ttotal: 109ms\tremaining: 14m 35s\n",
      "500:\tlearn: 0.5637414\ttest: 0.9114165\tbest: 0.9114165 (500)\ttotal: 54.9s\tremaining: 13m 42s\n",
      "bestTest = 0.9093579085\n",
      "bestIteration = 759\n",
      "Shrink model to first 760 iterations.\n",
      "Seed-2022 | Fold-8 | OOF Score: 0.9075777147106598\n",
      "0:\tlearn: 1.3952755\ttest: 1.3917717\tbest: 1.3917717 (0)\ttotal: 115ms\tremaining: 15m 17s\n",
      "500:\tlearn: 0.5605934\ttest: 0.9306301\tbest: 0.9306301 (500)\ttotal: 55.9s\tremaining: 13m 57s\n",
      "1000:\tlearn: 0.4091964\ttest: 0.9253930\tbest: 0.9253563 (999)\ttotal: 1m 50s\tremaining: 12m 53s\n",
      "bestTest = 0.9251408131\n",
      "bestIteration = 1062\n",
      "Shrink model to first 1063 iterations.\n",
      "Seed-2022 | Fold-9 | OOF Score: 0.9236058105393559\n",
      "\n",
      "Seed: 2022 | Aggregate OOF Score: 0.9286072779011867\n",
      "\n",
      "\n",
      "Aggregate OOF Score: 0.9282164303892795\n"
     ]
    }
   ],
   "source": [
    "FOLD = 10\n",
    "SEEDS = [2020, 2022]\n",
    "\n",
    "fet_imp1 = 0\n",
    "counter = 0\n",
    "oof_score1 = 0\n",
    "y_pred_meta_cb1 = np.zeros((Ytrain.shape[0], 1))\n",
    "y_pred_final_cb1 = 0\n",
    "\n",
    "\n",
    "for sidx, seed in enumerate(SEEDS):\n",
    "    seed_score = 0\n",
    "    \n",
    "    kfold = StratifiedKFold(n_splits=FOLD, shuffle=True, random_state=seed)\n",
    "\n",
    "    for idx, (train, val) in enumerate(kfold.split(Xtrain.values, Ytrain_strat)):\n",
    "        counter += 1\n",
    "        \n",
    "        train_x, train_y = Xtrain.iloc[train], Ytrain.iloc[train]\n",
    "        val_x, val_y = Xtrain.iloc[val], Ytrain.iloc[val]\n",
    "        \n",
    "        model = CatBoostRegressor(\n",
    "            objective='RMSE',\n",
    "            eval_metric='RMSE',\n",
    "            num_boost_round=8000,\n",
    "            learning_rate=0.011,\n",
    "            reg_lambda=0.99,\n",
    "            use_best_model=True,\n",
    "            bootstrap_type='Poisson',\n",
    "            subsample=0.5394,\n",
    "            max_depth=16, \n",
    "            grow_policy='Lossguide',\n",
    "            min_data_in_leaf=1, \n",
    "            max_leaves=208,\n",
    "            task_type='GPU',\n",
    "            verbose=0,\n",
    "            random_state=(seed+idx)\n",
    "        )\n",
    "\n",
    "        model.fit(train_x, train_y, eval_set=[(val_x, val_y)], \n",
    "                  cat_features=cat_cols_indices, \n",
    "                  early_stopping_rounds=200, verbose=500)\n",
    "\n",
    "        y_pred = model.predict(val_x)\n",
    "        y_pred_meta_cb1[val] += np.array([y_pred]).T\n",
    "        y_pred_final_cb1 += model.predict(Xtest)\n",
    "        \n",
    "        score = np.sqrt(mean_squared_log_error(np.exp(val_y), np.exp(y_pred)))\n",
    "        oof_score1 += score\n",
    "        seed_score += score\n",
    "        fet_imp1 += model.feature_importances_\n",
    "        print(\"Seed-{} | Fold-{} | OOF Score: {}\".format(seed, idx, score))\n",
    "    \n",
    "    print(\"\\nSeed: {} | Aggregate OOF Score: {}\\n\\n\".format(seed, (seed_score / FOLD)))\n",
    "\n",
    "\n",
    "y_pred_meta_cb1 = y_pred_meta_cb1 / float(len(SEEDS))\n",
    "y_pred_final_cb1 = y_pred_final_cb1 / float(counter)\n",
    "fet_imp1 = fet_imp1 / float(counter)\n",
    "oof_score1 /= float(counter)\n",
    "print(\"Aggregate OOF Score: {}\".format(oof_score1))"
   ]
  },
  {
   "cell_type": "markdown",
   "id": "healthy-fundamental",
   "metadata": {
    "papermill": {
     "duration": 0.040137,
     "end_time": "2021-07-16T14:21:26.724202",
     "exception": false,
     "start_time": "2021-07-16T14:21:26.684065",
     "status": "completed"
    },
    "tags": []
   },
   "source": [
    "### Model-2"
   ]
  },
  {
   "cell_type": "code",
   "execution_count": 7,
   "id": "innovative-implementation",
   "metadata": {
    "execution": {
     "iopub.execute_input": "2021-07-16T14:21:26.809412Z",
     "iopub.status.busy": "2021-07-16T14:21:26.808232Z",
     "iopub.status.idle": "2021-07-16T14:46:12.653871Z",
     "shell.execute_reply": "2021-07-16T14:46:12.654649Z"
    },
    "papermill": {
     "duration": 1485.894787,
     "end_time": "2021-07-16T14:46:12.654868",
     "exception": false,
     "start_time": "2021-07-16T14:21:26.760081",
     "status": "completed"
    },
    "tags": []
   },
   "outputs": [
    {
     "name": "stdout",
     "output_type": "stream",
     "text": [
      "0:\tlearn: 1.3902093\ttest: 1.4273581\tbest: 1.4273581 (0)\ttotal: 85.4ms\tremaining: 11m 23s\n",
      "500:\tlearn: 0.4948813\ttest: 0.9552539\tbest: 0.9552391 (498)\ttotal: 43.5s\tremaining: 10m 51s\n",
      "1000:\tlearn: 0.3466671\ttest: 0.9501978\tbest: 0.9501978 (1000)\ttotal: 1m 24s\tremaining: 9m 50s\n",
      "bestTest = 0.9501478589\n",
      "bestIteration = 1008\n",
      "Shrink model to first 1009 iterations.\n",
      "Seed-2020 | Fold-0 | OOF Score: 0.9480102677439098\n",
      "0:\tlearn: 1.3973333\ttest: 1.3631821\tbest: 1.3631821 (0)\ttotal: 86.6ms\tremaining: 11m 32s\n",
      "500:\tlearn: 0.4851224\ttest: 0.8970828\tbest: 0.8969004 (497)\ttotal: 42.1s\tremaining: 10m 29s\n",
      "1000:\tlearn: 0.3334839\ttest: 0.8944280\tbest: 0.8941227 (931)\ttotal: 1m 24s\tremaining: 9m 48s\n",
      "bestTest = 0.8941226684\n",
      "bestIteration = 931\n",
      "Shrink model to first 932 iterations.\n",
      "Seed-2020 | Fold-1 | OOF Score: 0.8925307422711293\n",
      "0:\tlearn: 1.3954146\ttest: 1.3795240\tbest: 1.3795240 (0)\ttotal: 85.9ms\tremaining: 11m 27s\n",
      "500:\tlearn: 0.4951681\ttest: 0.9320012\tbest: 0.9317525 (450)\ttotal: 43.3s\tremaining: 10m 48s\n",
      "bestTest = 0.9317524654\n",
      "bestIteration = 450\n",
      "Shrink model to first 451 iterations.\n",
      "Seed-2020 | Fold-2 | OOF Score: 0.9302930837676234\n",
      "0:\tlearn: 1.3941810\ttest: 1.3921723\tbest: 1.3921723 (0)\ttotal: 89.5ms\tremaining: 11m 55s\n",
      "500:\tlearn: 0.4871310\ttest: 0.9250589\tbest: 0.9250464 (499)\ttotal: 42.7s\tremaining: 10m 38s\n",
      "bestTest = 0.9245201878\n",
      "bestIteration = 526\n",
      "Shrink model to first 527 iterations.\n",
      "Seed-2020 | Fold-3 | OOF Score: 0.9227501801760865\n",
      "0:\tlearn: 1.3973118\ttest: 1.3625800\tbest: 1.3625800 (0)\ttotal: 89.7ms\tremaining: 11m 57s\n",
      "500:\tlearn: 0.4740555\ttest: 0.8902068\tbest: 0.8896845 (483)\ttotal: 42.8s\tremaining: 10m 40s\n",
      "bestTest = 0.8896845411\n",
      "bestIteration = 483\n",
      "Shrink model to first 484 iterations.\n",
      "Seed-2020 | Fold-4 | OOF Score: 0.8880154153447207\n",
      "0:\tlearn: 1.3915660\ttest: 1.4192831\tbest: 1.4192831 (0)\ttotal: 92.5ms\tremaining: 12m 20s\n",
      "500:\tlearn: 0.4952078\ttest: 0.9127879\tbest: 0.9127357 (499)\ttotal: 42.5s\tremaining: 10m 35s\n",
      "bestTest = 0.9113832114\n",
      "bestIteration = 592\n",
      "Shrink model to first 593 iterations.\n",
      "Seed-2020 | Fold-5 | OOF Score: 0.9096578438376178\n",
      "0:\tlearn: 1.3901268\ttest: 1.4325566\tbest: 1.4325566 (0)\ttotal: 92.3ms\tremaining: 12m 17s\n",
      "500:\tlearn: 0.4866235\ttest: 0.9216315\tbest: 0.9215971 (498)\ttotal: 43.1s\tremaining: 10m 45s\n",
      "1000:\tlearn: 0.3404303\ttest: 0.9193882\tbest: 0.9183563 (825)\ttotal: 1m 26s\tremaining: 10m 4s\n",
      "bestTest = 0.9183563154\n",
      "bestIteration = 825\n",
      "Shrink model to first 826 iterations.\n",
      "Seed-2020 | Fold-6 | OOF Score: 0.9159560094283301\n",
      "0:\tlearn: 1.3908850\ttest: 1.4205463\tbest: 1.4205463 (0)\ttotal: 93.8ms\tremaining: 12m 29s\n",
      "500:\tlearn: 0.4720511\ttest: 1.0247056\tbest: 1.0224858 (349)\ttotal: 42.4s\tremaining: 10m 33s\n",
      "bestTest = 1.022485816\n",
      "bestIteration = 349\n",
      "Shrink model to first 350 iterations.\n",
      "Seed-2020 | Fold-7 | OOF Score: 1.0203698777090404\n",
      "0:\tlearn: 1.3970753\ttest: 1.3657628\tbest: 1.3657628 (0)\ttotal: 86.5ms\tremaining: 11m 32s\n",
      "500:\tlearn: 0.4942943\ttest: 0.9172713\tbest: 0.9172704 (490)\ttotal: 43.7s\tremaining: 10m 53s\n",
      "bestTest = 0.9169918646\n",
      "bestIteration = 761\n",
      "Shrink model to first 762 iterations.\n",
      "Seed-2020 | Fold-8 | OOF Score: 0.9155299320278919\n",
      "0:\tlearn: 1.3947984\ttest: 1.3880855\tbest: 1.3880855 (0)\ttotal: 91.4ms\tremaining: 12m 11s\n",
      "500:\tlearn: 0.4866802\ttest: 0.9302900\tbest: 0.9302900 (500)\ttotal: 42.5s\tremaining: 10m 36s\n",
      "bestTest = 0.9287341432\n",
      "bestIteration = 715\n",
      "Shrink model to first 716 iterations.\n",
      "Seed-2020 | Fold-9 | OOF Score: 0.9267130375957822\n",
      "\n",
      "Seed: 2020 | Aggregate OOF Score: 0.9269826389902132\n",
      "\n",
      "\n",
      "0:\tlearn: 1.3934890\ttest: 1.3973755\tbest: 1.3973755 (0)\ttotal: 87.6ms\tremaining: 11m 40s\n",
      "500:\tlearn: 0.4878207\ttest: 0.9227158\tbest: 0.9227158 (500)\ttotal: 41.5s\tremaining: 10m 21s\n",
      "bestTest = 0.9224219508\n",
      "bestIteration = 513\n",
      "Shrink model to first 514 iterations.\n",
      "Seed-2022 | Fold-0 | OOF Score: 0.9205699381315569\n",
      "0:\tlearn: 1.3975241\ttest: 1.3628543\tbest: 1.3628543 (0)\ttotal: 87.1ms\tremaining: 11m 36s\n",
      "500:\tlearn: 0.4793351\ttest: 0.8999978\tbest: 0.8998751 (462)\ttotal: 42.2s\tremaining: 10m 31s\n",
      "bestTest = 0.8984047925\n",
      "bestIteration = 633\n",
      "Shrink model to first 634 iterations.\n",
      "Seed-2022 | Fold-1 | OOF Score: 0.8968410463096769\n",
      "0:\tlearn: 1.3945970\ttest: 1.3870343\tbest: 1.3870343 (0)\ttotal: 91.5ms\tremaining: 12m 12s\n",
      "500:\tlearn: 0.4848798\ttest: 0.9218935\tbest: 0.9217691 (498)\ttotal: 43.6s\tremaining: 10m 52s\n",
      "bestTest = 0.9211501588\n",
      "bestIteration = 545\n",
      "Shrink model to first 546 iterations.\n",
      "Seed-2022 | Fold-2 | OOF Score: 0.9194969997786291\n",
      "0:\tlearn: 1.3960021\ttest: 1.3751549\tbest: 1.3751549 (0)\ttotal: 93.5ms\tremaining: 12m 27s\n",
      "500:\tlearn: 0.4772039\ttest: 0.8934756\tbest: 0.8934675 (497)\ttotal: 42.4s\tremaining: 10m 34s\n",
      "bestTest = 0.8933910463\n",
      "bestIteration = 511\n",
      "Shrink model to first 512 iterations.\n",
      "Seed-2022 | Fold-3 | OOF Score: 0.8916457755523229\n",
      "0:\tlearn: 1.3977843\ttest: 1.3636370\tbest: 1.3636370 (0)\ttotal: 86.7ms\tremaining: 11m 33s\n",
      "500:\tlearn: 0.5007210\ttest: 0.9454813\tbest: 0.9448885 (436)\ttotal: 43.7s\tremaining: 10m 54s\n",
      "bestTest = 0.9448885116\n",
      "bestIteration = 436\n",
      "Shrink model to first 437 iterations.\n",
      "Seed-2022 | Fold-4 | OOF Score: 0.9432766403355005\n",
      "0:\tlearn: 1.3849495\ttest: 1.4751009\tbest: 1.4751009 (0)\ttotal: 85.5ms\tremaining: 11m 24s\n",
      "500:\tlearn: 0.4903520\ttest: 1.0014536\tbest: 1.0012571 (495)\ttotal: 43.6s\tremaining: 10m 52s\n",
      "bestTest = 0.9997539547\n",
      "bestIteration = 728\n",
      "Shrink model to first 729 iterations.\n",
      "Seed-2022 | Fold-5 | OOF Score: 0.9968262702879753\n",
      "0:\tlearn: 1.3951155\ttest: 1.3825819\tbest: 1.3825819 (0)\ttotal: 92.3ms\tremaining: 12m 17s\n",
      "500:\tlearn: 0.4879153\ttest: 0.9311428\tbest: 0.9310128 (492)\ttotal: 43.7s\tremaining: 10m 53s\n",
      "bestTest = 0.9292476837\n",
      "bestIteration = 741\n",
      "Shrink model to first 742 iterations.\n",
      "Seed-2022 | Fold-6 | OOF Score: 0.9272917175151447\n",
      "0:\tlearn: 1.3907847\ttest: 1.4219585\tbest: 1.4219585 (0)\ttotal: 86.2ms\tremaining: 11m 29s\n",
      "500:\tlearn: 0.4726743\ttest: 0.9745829\tbest: 0.9742189 (475)\ttotal: 43.9s\tremaining: 10m 57s\n",
      "bestTest = 0.9733545559\n",
      "bestIteration = 689\n",
      "Shrink model to first 690 iterations.\n",
      "Seed-2022 | Fold-7 | OOF Score: 0.9713782231729345\n",
      "0:\tlearn: 1.3944946\ttest: 1.3922639\tbest: 1.3922639 (0)\ttotal: 84.5ms\tremaining: 11m 15s\n",
      "500:\tlearn: 0.4849599\ttest: 0.9084834\tbest: 0.9084425 (464)\ttotal: 42.5s\tremaining: 10m 36s\n",
      "bestTest = 0.9072491657\n",
      "bestIteration = 636\n",
      "Shrink model to first 637 iterations.\n",
      "Seed-2022 | Fold-8 | OOF Score: 0.9054796868042534\n",
      "0:\tlearn: 1.3943473\ttest: 1.3910361\tbest: 1.3910361 (0)\ttotal: 90.2ms\tremaining: 12m 1s\n",
      "500:\tlearn: 0.4779341\ttest: 0.9249373\tbest: 0.9248924 (499)\ttotal: 42.4s\tremaining: 10m 35s\n",
      "bestTest = 0.9231466488\n",
      "bestIteration = 743\n",
      "Shrink model to first 744 iterations.\n",
      "Seed-2022 | Fold-9 | OOF Score: 0.9216183912310828\n",
      "\n",
      "Seed: 2022 | Aggregate OOF Score: 0.9294424689119077\n",
      "\n",
      "\n",
      "Aggregate OOF Score: 0.9282125539510604\n"
     ]
    }
   ],
   "source": [
    "FOLD = 10\n",
    "SEEDS = [2020, 2022]\n",
    "\n",
    "fet_imp2 = 0\n",
    "counter = 0\n",
    "oof_score2 = 0\n",
    "y_pred_meta_cb2 = np.zeros((Ytrain.shape[0], 1))\n",
    "y_pred_final_cb2 = 0\n",
    "\n",
    "\n",
    "for sidx, seed in enumerate(SEEDS):\n",
    "    seed_score = 0\n",
    "    \n",
    "    kfold = StratifiedKFold(n_splits=FOLD, shuffle=True, random_state=seed)\n",
    "\n",
    "    for idx, (train, val) in enumerate(kfold.split(Xtrain.values, Ytrain_strat)):\n",
    "        counter += 1\n",
    "        \n",
    "        train_x, train_y = Xtrain.iloc[train], Ytrain.iloc[train]\n",
    "        val_x, val_y = Xtrain.iloc[val], Ytrain.iloc[val]\n",
    "        \n",
    "        model = CatBoostRegressor(\n",
    "            objective='RMSE',\n",
    "            eval_metric='RMSE',\n",
    "            num_boost_round=8000,\n",
    "            learning_rate=0.011,\n",
    "            reg_lambda=0.019,\n",
    "            use_best_model=True,\n",
    "            bootstrap_type='Poisson',\n",
    "            subsample=0.91,\n",
    "            max_depth=16, \n",
    "            grow_policy='Lossguide',\n",
    "            min_data_in_leaf=1, \n",
    "            max_leaves=160,\n",
    "            task_type='GPU',\n",
    "            verbose=0,\n",
    "            random_state=(seed+idx)\n",
    "        )\n",
    "\n",
    "        model.fit(train_x, train_y, eval_set=[(val_x, val_y)], \n",
    "                  cat_features=cat_cols_indices, \n",
    "                  early_stopping_rounds=200, verbose=500)\n",
    "\n",
    "        y_pred = model.predict(val_x)\n",
    "        y_pred_meta_cb2[val] += np.array([y_pred]).T\n",
    "        y_pred_final_cb2 += model.predict(Xtest)\n",
    "        \n",
    "        score = np.sqrt(mean_squared_log_error(np.exp(val_y), np.exp(y_pred)))\n",
    "        oof_score2 += score\n",
    "        seed_score += score\n",
    "        fet_imp2 += model.feature_importances_\n",
    "        print(\"Seed-{} | Fold-{} | OOF Score: {}\".format(seed, idx, score))\n",
    "    \n",
    "    print(\"\\nSeed: {} | Aggregate OOF Score: {}\\n\\n\".format(seed, (seed_score / FOLD)))\n",
    "\n",
    "\n",
    "y_pred_meta_cb2 = y_pred_meta_cb2 / float(len(SEEDS))\n",
    "y_pred_final_cb2 = y_pred_final_cb2 / float(counter)\n",
    "fet_imp2 = fet_imp2 / float(counter)\n",
    "oof_score2 /= float(counter)\n",
    "print(\"Aggregate OOF Score: {}\".format(oof_score2))"
   ]
  },
  {
   "cell_type": "code",
   "execution_count": 8,
   "id": "chicken-battlefield",
   "metadata": {
    "execution": {
     "iopub.execute_input": "2021-07-16T14:46:12.865013Z",
     "iopub.status.busy": "2021-07-16T14:46:12.864195Z",
     "iopub.status.idle": "2021-07-16T14:46:12.895981Z",
     "shell.execute_reply": "2021-07-16T14:46:12.896739Z"
    },
    "id": "uLzmS7LzXvXy",
    "papermill": {
     "duration": 0.140283,
     "end_time": "2021-07-16T14:46:12.896922",
     "exception": false,
     "start_time": "2021-07-16T14:46:12.756639",
     "status": "completed"
    },
    "tags": []
   },
   "outputs": [],
   "source": [
    "np.savez_compressed('./CB_Meta_Features.npz',\n",
    "                    y_pred_meta_cb1=y_pred_meta_cb1, \n",
    "                    y_pred_meta_cb2=y_pred_meta_cb2, \n",
    "                    oof_score1=oof_score1,\n",
    "                    oof_score2=oof_score2,\n",
    "                    y_pred_final_cb1=y_pred_final_cb1,\n",
    "                    y_pred_final_cb2=y_pred_final_cb2)"
   ]
  },
  {
   "cell_type": "markdown",
   "id": "international-salon",
   "metadata": {
    "papermill": {
     "duration": 0.061427,
     "end_time": "2021-07-16T14:46:13.039820",
     "exception": false,
     "start_time": "2021-07-16T14:46:12.978393",
     "status": "completed"
    },
    "tags": []
   },
   "source": [
    "## Create submission file"
   ]
  },
  {
   "cell_type": "code",
   "execution_count": 9,
   "id": "iraqi-guatemala",
   "metadata": {
    "execution": {
     "iopub.execute_input": "2021-07-16T14:46:13.179022Z",
     "iopub.status.busy": "2021-07-16T14:46:13.178045Z",
     "iopub.status.idle": "2021-07-16T14:46:13.180893Z",
     "shell.execute_reply": "2021-07-16T14:46:13.180429Z"
    },
    "id": "W2c88MvxXm65",
    "papermill": {
     "duration": 0.073313,
     "end_time": "2021-07-16T14:46:13.181035",
     "exception": false,
     "start_time": "2021-07-16T14:46:13.107722",
     "status": "completed"
    },
    "tags": []
   },
   "outputs": [],
   "source": [
    "y_pred_final_cb = (y_pred_final_cb1 + y_pred_final_cb2) / 2.0"
   ]
  },
  {
   "cell_type": "code",
   "execution_count": 10,
   "id": "starting-distinction",
   "metadata": {
    "execution": {
     "iopub.execute_input": "2021-07-16T14:46:13.317410Z",
     "iopub.status.busy": "2021-07-16T14:46:13.316798Z",
     "iopub.status.idle": "2021-07-16T14:46:13.518183Z",
     "shell.execute_reply": "2021-07-16T14:46:13.517647Z"
    },
    "papermill": {
     "duration": 0.273295,
     "end_time": "2021-07-16T14:46:13.518367",
     "exception": false,
     "start_time": "2021-07-16T14:46:13.245072",
     "status": "completed"
    },
    "tags": []
   },
   "outputs": [
    {
     "name": "stdout",
     "output_type": "stream",
     "text": [
      "Num records after Step-1: 15725\n",
      "Num records after Step-2: 15463\n"
     ]
    }
   ],
   "source": [
    "train_df = pd.read_csv(\"../input/mathcothon/train.csv\")\n",
    "test_df = pd.read_csv(\"../input/mathcothon/test.csv\")\n",
    "\n",
    "check_cols = [col for col in train_df.columns if col != 'ID']\n",
    "train_df = train_df[~train_df.duplicated(subset=check_cols, keep='first')].copy()\n",
    "print(f\"Num records after Step-1: {train_df.shape[0]}\")\n",
    "\n",
    "check_cols = [col for col in train_df.columns if col not in ['ID','Price']]\n",
    "train_df = train_df.groupby(check_cols).agg({'Price':'mean'}).reset_index().copy()\n",
    "print(f\"Num records after Step-2: {train_df.shape[0]}\")"
   ]
  },
  {
   "cell_type": "code",
   "execution_count": 11,
   "id": "collectible-handbook",
   "metadata": {
    "execution": {
     "iopub.execute_input": "2021-07-16T14:46:13.644924Z",
     "iopub.status.busy": "2021-07-16T14:46:13.644024Z",
     "iopub.status.idle": "2021-07-16T14:46:13.839927Z",
     "shell.execute_reply": "2021-07-16T14:46:13.840457Z"
    },
    "papermill": {
     "duration": 0.263865,
     "end_time": "2021-07-16T14:46:13.840628",
     "exception": false,
     "start_time": "2021-07-16T14:46:13.576763",
     "status": "completed"
    },
    "tags": []
   },
   "outputs": [
    {
     "name": "stdout",
     "output_type": "stream",
     "text": [
      "df: (8245, 19)\n"
     ]
    },
    {
     "data": {
      "text/html": [
       "<div>\n",
       "<style scoped>\n",
       "    .dataframe tbody tr th:only-of-type {\n",
       "        vertical-align: middle;\n",
       "    }\n",
       "\n",
       "    .dataframe tbody tr th {\n",
       "        vertical-align: top;\n",
       "    }\n",
       "\n",
       "    .dataframe thead th {\n",
       "        text-align: right;\n",
       "    }\n",
       "</style>\n",
       "<table border=\"1\" class=\"dataframe\">\n",
       "  <thead>\n",
       "    <tr style=\"text-align: right;\">\n",
       "      <th></th>\n",
       "      <th>Levy</th>\n",
       "      <th>Manufacturer</th>\n",
       "      <th>Model</th>\n",
       "      <th>Prod. year</th>\n",
       "      <th>Category</th>\n",
       "      <th>Leather interior</th>\n",
       "      <th>Fuel type</th>\n",
       "      <th>Engine volume</th>\n",
       "      <th>Mileage</th>\n",
       "      <th>Cylinders</th>\n",
       "      <th>Gear box type</th>\n",
       "      <th>Drive wheels</th>\n",
       "      <th>Doors</th>\n",
       "      <th>Wheel</th>\n",
       "      <th>Color</th>\n",
       "      <th>Airbags</th>\n",
       "      <th>Train_Price</th>\n",
       "      <th>Predicted_Price</th>\n",
       "      <th>Price</th>\n",
       "    </tr>\n",
       "  </thead>\n",
       "  <tbody>\n",
       "    <tr>\n",
       "      <th>0</th>\n",
       "      <td>-</td>\n",
       "      <td>VOLKSWAGEN</td>\n",
       "      <td>Golf</td>\n",
       "      <td>2012</td>\n",
       "      <td>Hatchback</td>\n",
       "      <td>No</td>\n",
       "      <td>Diesel</td>\n",
       "      <td>2.0 Turbo</td>\n",
       "      <td>0 km</td>\n",
       "      <td>4</td>\n",
       "      <td>Manual</td>\n",
       "      <td>Front</td>\n",
       "      <td>02-Mar</td>\n",
       "      <td>Left wheel</td>\n",
       "      <td>Grey</td>\n",
       "      <td>10</td>\n",
       "      <td>NaN</td>\n",
       "      <td>11320.736708</td>\n",
       "      <td>11320.736708</td>\n",
       "    </tr>\n",
       "    <tr>\n",
       "      <th>1</th>\n",
       "      <td>-</td>\n",
       "      <td>HYUNDAI</td>\n",
       "      <td>Sonata</td>\n",
       "      <td>2012</td>\n",
       "      <td>Sedan</td>\n",
       "      <td>Yes</td>\n",
       "      <td>Petrol</td>\n",
       "      <td>2.4</td>\n",
       "      <td>26000 km</td>\n",
       "      <td>4</td>\n",
       "      <td>Tiptronic</td>\n",
       "      <td>Front</td>\n",
       "      <td>04-May</td>\n",
       "      <td>Left wheel</td>\n",
       "      <td>Grey</td>\n",
       "      <td>10</td>\n",
       "      <td>NaN</td>\n",
       "      <td>10671.374469</td>\n",
       "      <td>10671.374469</td>\n",
       "    </tr>\n",
       "    <tr>\n",
       "      <th>2</th>\n",
       "      <td>-</td>\n",
       "      <td>NISSAN</td>\n",
       "      <td>Tiida</td>\n",
       "      <td>2005</td>\n",
       "      <td>Sedan</td>\n",
       "      <td>No</td>\n",
       "      <td>Petrol</td>\n",
       "      <td>1.5</td>\n",
       "      <td>168000 km</td>\n",
       "      <td>4</td>\n",
       "      <td>Automatic</td>\n",
       "      <td>Front</td>\n",
       "      <td>04-May</td>\n",
       "      <td>Right-hand drive</td>\n",
       "      <td>Sky blue</td>\n",
       "      <td>8</td>\n",
       "      <td>NaN</td>\n",
       "      <td>7675.316079</td>\n",
       "      <td>7675.316079</td>\n",
       "    </tr>\n",
       "    <tr>\n",
       "      <th>3</th>\n",
       "      <td>975</td>\n",
       "      <td>VOLVO</td>\n",
       "      <td>XC90</td>\n",
       "      <td>2012</td>\n",
       "      <td>Jeep</td>\n",
       "      <td>Yes</td>\n",
       "      <td>Petrol</td>\n",
       "      <td>3.2</td>\n",
       "      <td>143000 km</td>\n",
       "      <td>6</td>\n",
       "      <td>Automatic</td>\n",
       "      <td>4x4</td>\n",
       "      <td>04-May</td>\n",
       "      <td>Left wheel</td>\n",
       "      <td>Blue</td>\n",
       "      <td>12</td>\n",
       "      <td>NaN</td>\n",
       "      <td>9163.594930</td>\n",
       "      <td>9163.594930</td>\n",
       "    </tr>\n",
       "    <tr>\n",
       "      <th>4</th>\n",
       "      <td>-</td>\n",
       "      <td>OPEL</td>\n",
       "      <td>Astra</td>\n",
       "      <td>1993</td>\n",
       "      <td>Hatchback</td>\n",
       "      <td>No</td>\n",
       "      <td>Petrol</td>\n",
       "      <td>1.6</td>\n",
       "      <td>200000 km</td>\n",
       "      <td>4</td>\n",
       "      <td>Manual</td>\n",
       "      <td>Front</td>\n",
       "      <td>04-May</td>\n",
       "      <td>Left wheel</td>\n",
       "      <td>Black</td>\n",
       "      <td>0</td>\n",
       "      <td>NaN</td>\n",
       "      <td>3589.956276</td>\n",
       "      <td>3589.956276</td>\n",
       "    </tr>\n",
       "  </tbody>\n",
       "</table>\n",
       "</div>"
      ],
      "text/plain": [
       "  Levy Manufacturer   Model  Prod. year   Category Leather interior Fuel type  \\\n",
       "0    -   VOLKSWAGEN    Golf        2012  Hatchback               No    Diesel   \n",
       "1    -      HYUNDAI  Sonata        2012      Sedan              Yes    Petrol   \n",
       "2    -       NISSAN   Tiida        2005      Sedan               No    Petrol   \n",
       "3  975        VOLVO    XC90        2012       Jeep              Yes    Petrol   \n",
       "4    -         OPEL   Astra        1993  Hatchback               No    Petrol   \n",
       "\n",
       "  Engine volume    Mileage  Cylinders Gear box type Drive wheels   Doors  \\\n",
       "0     2.0 Turbo       0 km          4        Manual        Front  02-Mar   \n",
       "1           2.4   26000 km          4     Tiptronic        Front  04-May   \n",
       "2           1.5  168000 km          4     Automatic        Front  04-May   \n",
       "3           3.2  143000 km          6     Automatic          4x4  04-May   \n",
       "4           1.6  200000 km          4        Manual        Front  04-May   \n",
       "\n",
       "              Wheel     Color  Airbags  Train_Price  Predicted_Price  \\\n",
       "0        Left wheel      Grey       10          NaN     11320.736708   \n",
       "1        Left wheel      Grey       10          NaN     10671.374469   \n",
       "2  Right-hand drive  Sky blue        8          NaN      7675.316079   \n",
       "3        Left wheel      Blue       12          NaN      9163.594930   \n",
       "4        Left wheel     Black        0          NaN      3589.956276   \n",
       "\n",
       "          Price  \n",
       "0  11320.736708  \n",
       "1  10671.374469  \n",
       "2   7675.316079  \n",
       "3   9163.594930  \n",
       "4   3589.956276  "
      ]
     },
     "execution_count": 11,
     "metadata": {},
     "output_type": "execute_result"
    }
   ],
   "source": [
    "train_cols = [col for col in train_df.columns if col != 'ID']\n",
    "test_cols = [col for col in test_df.columns if col not in ['ID','Price']]\n",
    "\n",
    "df = pd.merge(\n",
    "    test_df[test_cols], \n",
    "    train_df[train_cols], \n",
    "    how='left', \n",
    "    on=test_cols,\n",
    "    sort=False\n",
    ")\n",
    "\n",
    "df = df.rename(columns={'Price': 'Train_Price'})\n",
    "df['Predicted_Price'] = np.exp(y_pred_final_cb)\n",
    "df['Price'] = df.apply(lambda row: row['Predicted_Price'] if pd.isnull(row['Train_Price']) else row['Train_Price'], axis=1)\n",
    "print(f\"df: {df.shape}\")\n",
    "df.head()"
   ]
  },
  {
   "cell_type": "code",
   "execution_count": 12,
   "id": "intelligent-rugby",
   "metadata": {
    "execution": {
     "iopub.execute_input": "2021-07-16T14:46:13.978792Z",
     "iopub.status.busy": "2021-07-16T14:46:13.977945Z",
     "iopub.status.idle": "2021-07-16T14:46:14.000502Z",
     "shell.execute_reply": "2021-07-16T14:46:14.000071Z"
    },
    "papermill": {
     "duration": 0.095138,
     "end_time": "2021-07-16T14:46:14.000625",
     "exception": false,
     "start_time": "2021-07-16T14:46:13.905487",
     "status": "completed"
    },
    "tags": []
   },
   "outputs": [],
   "source": [
    "df.loc[df['Manufacturer']=='TESLA','Price'] = 53941\n",
    "df.loc[df['Manufacturer']=='SATURN','Price'] = 13799\n",
    "df.loc[df['Manufacturer']=='ASTON MARTIN','Price'] = 54000\n",
    "df.loc[(df['Manufacturer']=='GREATWALL')&(df['Model']=='C30'),'Price'] = 10036\n",
    "\n",
    "df.loc[df['Prod. year']==1943,'Price'] = 119172\n",
    "df.loc[df['Prod. year']==1968,'Price'] = 2200\n",
    "df.loc[df['Prod. year']==1981,'Price'] = 2800\n",
    "\n",
    "df.loc[df['Fuel type']=='Hydrogen','Price'] = 20385\n",
    "\n",
    "df.loc[df['Engine volume']=='0.3 Turbo', 'Price'] = 6272\n",
    "df.loc[df['Engine volume']=='0.5', 'Price'] = 1300\n",
    "df.loc[df['Engine volume']=='0.8 Turbo', 'Price'] = 6272\n",
    "df.loc[df['Engine volume']=='3.1', 'Price'] = 8781\n",
    "df.loc[df['Engine volume']=='5.2', 'Price'] = 13000\n",
    "df.loc[df['Engine volume']=='6.7', 'Price'] = 1019"
   ]
  },
  {
   "cell_type": "code",
   "execution_count": 13,
   "id": "weird-testament",
   "metadata": {
    "execution": {
     "iopub.execute_input": "2021-07-16T14:46:14.143227Z",
     "iopub.status.busy": "2021-07-16T14:46:14.142454Z",
     "iopub.status.idle": "2021-07-16T14:46:14.289618Z",
     "shell.execute_reply": "2021-07-16T14:46:14.290111Z"
    },
    "papermill": {
     "duration": 0.214523,
     "end_time": "2021-07-16T14:46:14.290270",
     "exception": false,
     "start_time": "2021-07-16T14:46:14.075747",
     "status": "completed"
    },
    "tags": []
   },
   "outputs": [
    {
     "data": {
      "text/html": [
       "<div>\n",
       "<style scoped>\n",
       "    .dataframe tbody tr th:only-of-type {\n",
       "        vertical-align: middle;\n",
       "    }\n",
       "\n",
       "    .dataframe tbody tr th {\n",
       "        vertical-align: top;\n",
       "    }\n",
       "\n",
       "    .dataframe thead th {\n",
       "        text-align: right;\n",
       "    }\n",
       "</style>\n",
       "<table border=\"1\" class=\"dataframe\">\n",
       "  <thead>\n",
       "    <tr style=\"text-align: right;\">\n",
       "      <th></th>\n",
       "      <th>Price</th>\n",
       "    </tr>\n",
       "  </thead>\n",
       "  <tbody>\n",
       "    <tr>\n",
       "      <th>0</th>\n",
       "      <td>11320.736708</td>\n",
       "    </tr>\n",
       "    <tr>\n",
       "      <th>1</th>\n",
       "      <td>10671.374469</td>\n",
       "    </tr>\n",
       "    <tr>\n",
       "      <th>2</th>\n",
       "      <td>7675.316079</td>\n",
       "    </tr>\n",
       "    <tr>\n",
       "      <th>3</th>\n",
       "      <td>9163.594930</td>\n",
       "    </tr>\n",
       "    <tr>\n",
       "      <th>4</th>\n",
       "      <td>3589.956276</td>\n",
       "    </tr>\n",
       "  </tbody>\n",
       "</table>\n",
       "</div>"
      ],
      "text/plain": [
       "          Price\n",
       "0  11320.736708\n",
       "1  10671.374469\n",
       "2   7675.316079\n",
       "3   9163.594930\n",
       "4   3589.956276"
      ]
     },
     "execution_count": 13,
     "metadata": {},
     "output_type": "execute_result"
    }
   ],
   "source": [
    "submit_df = pd.DataFrame()\n",
    "submit_df['Price'] = df['Price']\n",
    "submit_df.to_csv(\"./CB_Submission.csv\", index=False)\n",
    "submit_df.head()"
   ]
  },
  {
   "cell_type": "markdown",
   "id": "greek-arbitration",
   "metadata": {
    "papermill": {
     "duration": 0.059781,
     "end_time": "2021-07-16T14:46:14.413729",
     "exception": false,
     "start_time": "2021-07-16T14:46:14.353948",
     "status": "completed"
    },
    "tags": []
   },
   "source": [
    "## Features Importance"
   ]
  },
  {
   "cell_type": "code",
   "execution_count": 14,
   "id": "purple-camel",
   "metadata": {
    "execution": {
     "iopub.execute_input": "2021-07-16T14:46:14.591064Z",
     "iopub.status.busy": "2021-07-16T14:46:14.590075Z",
     "iopub.status.idle": "2021-07-16T14:46:15.971202Z",
     "shell.execute_reply": "2021-07-16T14:46:15.970712Z"
    },
    "papermill": {
     "duration": 1.496705,
     "end_time": "2021-07-16T14:46:15.971329",
     "exception": false,
     "start_time": "2021-07-16T14:46:14.474624",
     "status": "completed"
    },
    "tags": []
   },
   "outputs": [
    {
     "data": {
      "image/png": "[encoded data removed]",
      "text/plain": [
       "<Figure size 1440x1440 with 1 Axes>"
      ]
     },
     "metadata": {
      "needs_background": "light"
     },
     "output_type": "display_data"
    }
   ],
   "source": [
    "fet_imp = (fet_imp1 + fet_imp2)/2.0\n",
    "feature_imp = pd.DataFrame(sorted(zip(fet_imp[0:60],Xtrain.columns[0:60])), columns=['Value','Feature'])\n",
    "\n",
    "plt.figure(figsize=(20, 20))\n",
    "sns.barplot(x=\"Value\", y=\"Feature\", data=feature_imp.sort_values(by=\"Value\", ascending=False))\n",
    "plt.title('CatBoost Features Importance', fontweight='bold')\n",
    "plt.tight_layout()\n",
    "plt.show()"
   ]
  },
  {
   "cell_type": "code",
   "execution_count": null,
   "id": "suffering-stage",
   "metadata": {
    "papermill": {
     "duration": 0.062941,
     "end_time": "2021-07-16T14:46:16.096403",
     "exception": false,
     "start_time": "2021-07-16T14:46:16.033462",
     "status": "completed"
    },
    "tags": []
   },
   "outputs": [],
   "source": []
  }
 ],
 "metadata": {
  "kernelspec": {
   "display_name": "Python 3",
   "language": "python",
   "name": "python3"
  },
  "language_info": {
   "codemirror_mode": {
    "name": "ipython",
    "version": 3
   },
   "file_extension": ".py",
   "mimetype": "text/x-python",
   "name": "python",
   "nbconvert_exporter": "python",
   "pygments_lexer": "ipython3",
   "version": "3.8.8"
  },
  "papermill": {
   "default_parameters": {},
   "duration": 3582.733035,
   "end_time": "2021-07-16T14:46:17.636290",
   "environment_variables": {},
   "exception": null,
   "input_path": "__notebook__.ipynb",
   "output_path": "__notebook__.ipynb",
   "parameters": {},
   "start_time": "2021-07-16T13:46:34.903255",
   "version": "2.3.3"
  }
 },
 "nbformat": 4,
 "nbformat_minor": 5
}
