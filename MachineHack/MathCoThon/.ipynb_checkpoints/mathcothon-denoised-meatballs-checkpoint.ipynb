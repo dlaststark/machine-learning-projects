{
 "cells": [
  {
   "cell_type": "markdown",
   "id": "21a76f9d",
   "metadata": {
    "id": "uLz9OcH8SeET",
    "papermill": {
     "duration": 0.010891,
     "end_time": "2021-07-16T13:11:55.170635",
     "exception": false,
     "start_time": "2021-07-16T13:11:55.159744",
     "status": "completed"
    },
    "tags": []
   },
   "source": [
    "## Import libraries"
   ]
  },
  {
   "cell_type": "code",
   "execution_count": 1,
   "id": "fe9af339",
   "metadata": {
    "execution": {
     "iopub.execute_input": "2021-07-16T13:11:55.197202Z",
     "iopub.status.busy": "2021-07-16T13:11:55.195986Z",
     "iopub.status.idle": "2021-07-16T13:12:02.885687Z",
     "shell.execute_reply": "2021-07-16T13:12:02.884495Z",
     "shell.execute_reply.started": "2021-07-16T08:27:43.655913Z"
    },
    "executionInfo": {
     "elapsed": 25675,
     "status": "ok",
     "timestamp": 1615993018008,
     "user": {
      "displayName": "TAPAS DAS",
      "photoUrl": "https://lh3.googleusercontent.com/a-/AOh14GiyffdGKiPCR_UwVittzTcbBFms70IkGfU15fatCA=s64",
      "userId": "10798398878324948542"
     },
     "user_tz": -330
    },
    "id": "E9svswc9SUuX",
    "papermill": {
     "duration": 7.702684,
     "end_time": "2021-07-16T13:12:02.885889",
     "exception": false,
     "start_time": "2021-07-16T13:11:55.183205",
     "status": "completed"
    },
    "tags": []
   },
   "outputs": [],
   "source": [
    "import gc\n",
    "import pickle\n",
    "import numpy as np\n",
    "import pandas as pd\n",
    "from sklearn.preprocessing import MinMaxScaler\n",
    "from tensorflow.keras.models import Model, load_model\n",
    "from tensorflow_addons.optimizers import AdamW, Lookahead"
   ]
  },
  {
   "cell_type": "markdown",
   "id": "75ddf53f",
   "metadata": {
    "id": "iDv0VFRMS7z2",
    "papermill": {
     "duration": 0.009423,
     "end_time": "2021-07-16T13:12:02.905215",
     "exception": false,
     "start_time": "2021-07-16T13:12:02.895792",
     "status": "completed"
    },
    "tags": []
   },
   "source": [
    "## Load autoencoder model"
   ]
  },
  {
   "cell_type": "code",
   "execution_count": 2,
   "id": "8edbe60e",
   "metadata": {
    "execution": {
     "iopub.execute_input": "2021-07-16T13:12:02.929832Z",
     "iopub.status.busy": "2021-07-16T13:12:02.928970Z",
     "iopub.status.idle": "2021-07-16T13:12:04.098964Z",
     "shell.execute_reply": "2021-07-16T13:12:04.098382Z",
     "shell.execute_reply.started": "2021-07-16T08:27:49.996834Z"
    },
    "executionInfo": {
     "elapsed": 8802,
     "status": "ok",
     "timestamp": 1615993030793,
     "user": {
      "displayName": "TAPAS DAS",
      "photoUrl": "https://lh3.googleusercontent.com/a-/AOh14GiyffdGKiPCR_UwVittzTcbBFms70IkGfU15fatCA=s64",
      "userId": "10798398878324948542"
     },
     "user_tz": -330
    },
    "id": "w0IPQ0HLS-mk",
    "outputId": "b667f154-0ad5-45dd-dcc5-0b2eab031002",
    "papermill": {
     "duration": 1.184234,
     "end_time": "2021-07-16T13:12:04.099132",
     "exception": false,
     "start_time": "2021-07-16T13:12:02.914898",
     "status": "completed"
    },
    "tags": []
   },
   "outputs": [
    {
     "name": "stdout",
     "output_type": "stream",
     "text": [
      "Model: \"model\"\n",
      "__________________________________________________________________________________________________\n",
      "Layer (type)                    Output Shape         Param #     Connected to                     \n",
      "==================================================================================================\n",
      "Categorical Features (InputLaye [(None, 29)]         0                                            \n",
      "__________________________________________________________________________________________________\n",
      "embedding (Embedding)           (None, 29, 8)        1024        Categorical Features[0][0]       \n",
      "__________________________________________________________________________________________________\n",
      "layer_normalization (LayerNorma (None, 29, 8)        16          embedding[0][0]                  \n",
      "__________________________________________________________________________________________________\n",
      "conv1d (Conv1D)                 (None, 29, 8)        72          layer_normalization[0][0]        \n",
      "__________________________________________________________________________________________________\n",
      "Numerical Features (InputLayer) [(None, 64)]         0                                            \n",
      "__________________________________________________________________________________________________\n",
      "Text Vector Features (InputLaye [(None, 800)]        0                                            \n",
      "__________________________________________________________________________________________________\n",
      "layer_normalization_1 (LayerNor (None, 29, 8)        16          conv1d[0][0]                     \n",
      "__________________________________________________________________________________________________\n",
      "dense (Dense)                   (None, 16)           1040        Numerical Features[0][0]         \n",
      "__________________________________________________________________________________________________\n",
      "dense_1 (Dense)                 (None, 128)          102528      Text Vector Features[0][0]       \n",
      "__________________________________________________________________________________________________\n",
      "p_re_lu (PReLU)                 (None, 29, 8)        232         layer_normalization_1[0][0]      \n",
      "__________________________________________________________________________________________________\n",
      "batch_normalization (BatchNorma (None, 16)           64          dense[0][0]                      \n",
      "__________________________________________________________________________________________________\n",
      "batch_normalization_1 (BatchNor (None, 128)          512         dense_1[0][0]                    \n",
      "__________________________________________________________________________________________________\n",
      "flatten (Flatten)               (None, 232)          0           p_re_lu[0][0]                    \n",
      "__________________________________________________________________________________________________\n",
      "p_re_lu_1 (PReLU)               (None, 16)           16          batch_normalization[0][0]        \n",
      "__________________________________________________________________________________________________\n",
      "p_re_lu_2 (PReLU)               (None, 128)          128         batch_normalization_1[0][0]      \n",
      "__________________________________________________________________________________________________\n",
      "concatenate (Concatenate)       (None, 376)          0           flatten[0][0]                    \n",
      "                                                                 p_re_lu_1[0][0]                  \n",
      "                                                                 p_re_lu_2[0][0]                  \n",
      "__________________________________________________________________________________________________\n",
      "batch_normalization_2 (BatchNor (None, 376)          1504        concatenate[0][0]                \n",
      "__________________________________________________________________________________________________\n",
      "dense_2 (Dense)                 (None, 256)          96512       batch_normalization_2[0][0]      \n",
      "__________________________________________________________________________________________________\n",
      "batch_normalization_3 (BatchNor (None, 256)          1024        dense_2[0][0]                    \n",
      "__________________________________________________________________________________________________\n",
      "Embedding (PReLU)               (None, 256)          256         batch_normalization_3[0][0]      \n",
      "==================================================================================================\n",
      "Total params: 204,944\n",
      "Trainable params: 203,392\n",
      "Non-trainable params: 1,552\n",
      "__________________________________________________________________________________________________\n"
     ]
    }
   ],
   "source": [
    "autoencoder = load_model('../input/mathcothon-th-re-shalt-beest-noise/DAE_model.h5')\n",
    "feature_model = Model(inputs=autoencoder.input,\n",
    "                      outputs=autoencoder.get_layer('Embedding').output)\n",
    "feature_model.summary()"
   ]
  },
  {
   "cell_type": "markdown",
   "id": "ad8532df",
   "metadata": {
    "id": "hg85SpW-S6hl",
    "papermill": {
     "duration": 0.009829,
     "end_time": "2021-07-16T13:12:04.119544",
     "exception": false,
     "start_time": "2021-07-16T13:12:04.109715",
     "status": "completed"
    },
    "tags": []
   },
   "source": [
    "## Prepare data for model training"
   ]
  },
  {
   "cell_type": "code",
   "execution_count": 3,
   "id": "3fb79dbc",
   "metadata": {
    "execution": {
     "iopub.execute_input": "2021-07-16T13:12:04.146758Z",
     "iopub.status.busy": "2021-07-16T13:12:04.146007Z",
     "iopub.status.idle": "2021-07-16T13:12:05.853934Z",
     "shell.execute_reply": "2021-07-16T13:12:05.853365Z",
     "shell.execute_reply.started": "2021-07-16T08:28:11.732084Z"
    },
    "executionInfo": {
     "elapsed": 7891,
     "status": "ok",
     "timestamp": 1615993031631,
     "user": {
      "displayName": "TAPAS DAS",
      "photoUrl": "https://lh3.googleusercontent.com/a-/AOh14GiyffdGKiPCR_UwVittzTcbBFms70IkGfU15fatCA=s64",
      "userId": "10798398878324948542"
     },
     "user_tz": -330
    },
    "id": "VdhgoIAmSUxK",
    "outputId": "926e0feb-029c-4888-c1ca-fcc067d41b71",
    "papermill": {
     "duration": 1.723498,
     "end_time": "2021-07-16T13:12:05.854080",
     "exception": false,
     "start_time": "2021-07-16T13:12:04.130582",
     "status": "completed"
    },
    "tags": []
   },
   "outputs": [
    {
     "name": "stdout",
     "output_type": "stream",
     "text": [
      "train_df: (15628, 893) \n",
      "test_df: (8245, 893)\n"
     ]
    },
    {
     "data": {
      "text/plain": [
       "0"
      ]
     },
     "execution_count": 3,
     "metadata": {},
     "output_type": "execute_result"
    }
   ],
   "source": [
    "with open(\"../input/mathcothon-i-shalt-prepareth-data/MathCoThon_Ready_Meatballs.txt\", 'rb') as handle: \n",
    "    data = handle.read()\n",
    "\n",
    "processed_data = pickle.loads(data)\n",
    "train_df = processed_data['train_df']\n",
    "test_df = processed_data['test_df']\n",
    "train_df.drop(['Price'], inplace=True, axis=1)\n",
    "print(f\"train_df: {train_df.shape} \\ntest_df: {test_df.shape}\")\n",
    "\n",
    "del processed_data\n",
    "gc.collect()"
   ]
  },
  {
   "cell_type": "code",
   "execution_count": 4,
   "id": "c8593711",
   "metadata": {
    "execution": {
     "iopub.execute_input": "2021-07-16T13:12:05.892646Z",
     "iopub.status.busy": "2021-07-16T13:12:05.891952Z",
     "iopub.status.idle": "2021-07-16T13:12:06.010857Z",
     "shell.execute_reply": "2021-07-16T13:12:06.009698Z",
     "shell.execute_reply.started": "2021-07-16T08:28:12.473907Z"
    },
    "papermill": {
     "duration": 0.145854,
     "end_time": "2021-07-16T13:12:06.011077",
     "exception": false,
     "start_time": "2021-07-16T13:12:05.865223",
     "status": "completed"
    },
    "tags": []
   },
   "outputs": [],
   "source": [
    "cat_cols = ['Manufacturer','Model','Category','Leather interior','Cylinders',\n",
    "            'Doors','Wheel','Color','Airbags','Turbo_Engine','Leap_Year',\n",
    "            'Hybrid_Car','Numbers_in_Model','Drive wheels Front','Drive wheels Rear',\n",
    "            'Manual_Gear','Automatic_Gear','Continuous_Gear','Fuel Tank Petrol',\n",
    "            'Fuel Tank Diesel','Fuel Tank Gas','id0','id1','id2','id3','id4','id5','id6','id7']\n",
    "\n",
    "vec_cols = [col for col in test_df.columns if (col.startswith('tfidf_') or col.startswith('countvec_'))]\n",
    "num_cols = [col for col in test_df.columns if not(col in cat_cols or col in vec_cols)]\n",
    "\n",
    "train_df[cat_cols] = train_df[cat_cols].astype(int)\n",
    "test_df[cat_cols] = test_df[cat_cols].astype(int)"
   ]
  },
  {
   "cell_type": "code",
   "execution_count": 5,
   "id": "0826de68",
   "metadata": {
    "execution": {
     "iopub.execute_input": "2021-07-16T13:12:06.063999Z",
     "iopub.status.busy": "2021-07-16T13:12:06.063228Z",
     "iopub.status.idle": "2021-07-16T13:12:06.384899Z",
     "shell.execute_reply": "2021-07-16T13:12:06.384303Z",
     "shell.execute_reply.started": "2021-07-16T08:28:13.431573Z"
    },
    "papermill": {
     "duration": 0.361638,
     "end_time": "2021-07-16T13:12:06.385048",
     "exception": false,
     "start_time": "2021-07-16T13:12:06.023410",
     "status": "completed"
    },
    "tags": []
   },
   "outputs": [],
   "source": [
    "scaler = MinMaxScaler().fit(train_df)\n",
    "temp_x1 = scaler.transform(train_df)\n",
    "temp_x2 = scaler.transform(test_df)\n",
    "\n",
    "train_df = pd.DataFrame(temp_x1, columns=test_df.columns, index=train_df.index)\n",
    "test_df = pd.DataFrame(temp_x2, columns=test_df.columns, index=test_df.index)"
   ]
  },
  {
   "cell_type": "code",
   "execution_count": 6,
   "id": "fd6aa375",
   "metadata": {
    "execution": {
     "iopub.execute_input": "2021-07-16T13:12:06.457084Z",
     "iopub.status.busy": "2021-07-16T13:12:06.456032Z",
     "iopub.status.idle": "2021-07-16T13:12:08.829420Z",
     "shell.execute_reply": "2021-07-16T13:12:08.829924Z",
     "shell.execute_reply.started": "2021-07-16T08:28:15.679778Z"
    },
    "papermill": {
     "duration": 2.433997,
     "end_time": "2021-07-16T13:12:08.830109",
     "exception": false,
     "start_time": "2021-07-16T13:12:06.396112",
     "status": "completed"
    },
    "tags": []
   },
   "outputs": [
    {
     "name": "stdout",
     "output_type": "stream",
     "text": [
      "489/489 [==============================] - 1s 2ms/step\n",
      "258/258 [==============================] - 0s 2ms/step\n",
      "\n",
      "Xtrain_embed_df: (15628, 256) \n",
      "Xtest_embed_df: (8245, 256)\n"
     ]
    },
    {
     "data": {
      "text/plain": [
       "4060"
      ]
     },
     "execution_count": 6,
     "metadata": {},
     "output_type": "execute_result"
    }
   ],
   "source": [
    "Xtrain_embed = feature_model.predict([train_df[cat_cols], train_df[num_cols], train_df[vec_cols]], verbose=1)\n",
    "Xtest_embed = feature_model.predict([test_df[cat_cols], test_df[num_cols], test_df[vec_cols]], verbose=1)\n",
    "\n",
    "col_list = ['dae_'+str(i) for i in range(Xtrain_embed.shape[1])]\n",
    "Xtrain_embed_df = pd.DataFrame(Xtrain_embed, columns=col_list, index=train_df.index)\n",
    "Xtest_embed_df = pd.DataFrame(Xtest_embed, columns=col_list, index=test_df.index)\n",
    "\n",
    "print(f\"\\nXtrain_embed_df: {Xtrain_embed_df.shape} \\nXtest_embed_df: {Xtest_embed_df.shape}\")\n",
    "\n",
    "del Xtrain_embed, Xtest_embed\n",
    "del feature_model, autoencoder\n",
    "gc.collect()"
   ]
  },
  {
   "cell_type": "markdown",
   "id": "e5f4b627",
   "metadata": {
    "papermill": {
     "duration": 0.019982,
     "end_time": "2021-07-16T13:12:08.870420",
     "exception": false,
     "start_time": "2021-07-16T13:12:08.850438",
     "status": "completed"
    },
    "tags": []
   },
   "source": [
    "## Save the processed datasets"
   ]
  },
  {
   "cell_type": "code",
   "execution_count": 7,
   "id": "133ffb27",
   "metadata": {
    "execution": {
     "iopub.execute_input": "2021-07-16T13:12:08.919625Z",
     "iopub.status.busy": "2021-07-16T13:12:08.917272Z",
     "iopub.status.idle": "2021-07-16T13:12:08.944996Z",
     "shell.execute_reply": "2021-07-16T13:12:08.944225Z",
     "shell.execute_reply.started": "2021-07-16T08:28:20.151567Z"
    },
    "papermill": {
     "duration": 0.054454,
     "end_time": "2021-07-16T13:12:08.945151",
     "exception": false,
     "start_time": "2021-07-16T13:12:08.890697",
     "status": "completed"
    },
    "tags": []
   },
   "outputs": [],
   "source": [
    "data_dict = {}\n",
    "data_dict['dae_train_df'] = Xtrain_embed_df\n",
    "data_dict['dae_test_df'] = Xtest_embed_df\n",
    "\n",
    "file = open(\"./MathCoThon_Denoised_Meatballs.txt\", 'wb')\n",
    "pickle.dump(data_dict, file)\n",
    "file.close()"
   ]
  },
  {
   "cell_type": "code",
   "execution_count": null,
   "id": "7fd7418d",
   "metadata": {
    "papermill": {
     "duration": 0.019424,
     "end_time": "2021-07-16T13:12:08.985015",
     "exception": false,
     "start_time": "2021-07-16T13:12:08.965591",
     "status": "completed"
    },
    "tags": []
   },
   "outputs": [],
   "source": []
  }
 ],
 "metadata": {
  "kernelspec": {
   "display_name": "Python 3",
   "language": "python",
   "name": "python3"
  },
  "language_info": {
   "codemirror_mode": {
    "name": "ipython",
    "version": 3
   },
   "file_extension": ".py",
   "mimetype": "text/x-python",
   "name": "python",
   "nbconvert_exporter": "python",
   "pygments_lexer": "ipython3",
   "version": "3.8.8"
  },
  "papermill": {
   "default_parameters": {},
   "duration": 24.983499,
   "end_time": "2021-07-16T13:12:11.257659",
   "environment_variables": {},
   "exception": null,
   "input_path": "__notebook__.ipynb",
   "output_path": "__notebook__.ipynb",
   "parameters": {},
   "start_time": "2021-07-16T13:11:46.274160",
   "version": "2.3.3"
  }
 },
 "nbformat": 4,
 "nbformat_minor": 5
}
