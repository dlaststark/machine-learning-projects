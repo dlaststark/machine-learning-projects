{
 "cells": [
  {
   "cell_type": "markdown",
   "id": "inclusive-reasoning",
   "metadata": {
    "id": "uLz9OcH8SeET",
    "papermill": {
     "duration": 0.014961,
     "end_time": "2021-07-16T12:31:55.617154",
     "exception": false,
     "start_time": "2021-07-16T12:31:55.602193",
     "status": "completed"
    },
    "tags": []
   },
   "source": [
    "## Import libraries"
   ]
  },
  {
   "cell_type": "code",
   "execution_count": 1,
   "id": "communist-marker",
   "metadata": {
    "execution": {
     "iopub.execute_input": "2021-07-16T12:31:55.660998Z",
     "iopub.status.busy": "2021-07-16T12:31:55.660321Z",
     "iopub.status.idle": "2021-07-16T12:31:56.681708Z",
     "shell.execute_reply": "2021-07-16T12:31:56.681023Z",
     "shell.execute_reply.started": "2021-07-11T19:15:55.687753Z"
    },
    "executionInfo": {
     "elapsed": 23727,
     "status": "ok",
     "timestamp": 1616326442041,
     "user": {
      "displayName": "TAPAS DAS",
      "photoUrl": "https://lh3.googleusercontent.com/a-/AOh14GiyffdGKiPCR_UwVittzTcbBFms70IkGfU15fatCA=s64",
      "userId": "10798398878324948542"
     },
     "user_tz": -330
    },
    "id": "E9svswc9SUuX",
    "papermill": {
     "duration": 1.049649,
     "end_time": "2021-07-16T12:31:56.681894",
     "exception": false,
     "start_time": "2021-07-16T12:31:55.632245",
     "status": "completed"
    },
    "tags": []
   },
   "outputs": [],
   "source": [
    "import gc\n",
    "import pickle\n",
    "import numpy as np\n",
    "import pandas as pd\n",
    "import seaborn as sns\n",
    "import matplotlib.pyplot as plt\n",
    "from catboost import CatBoostRegressor\n",
    "from sklearn.metrics import mean_squared_log_error\n",
    "from sklearn.model_selection import StratifiedKFold"
   ]
  },
  {
   "cell_type": "markdown",
   "id": "canadian-journey",
   "metadata": {
    "id": "hg85SpW-S6hl",
    "papermill": {
     "duration": 0.015238,
     "end_time": "2021-07-16T12:31:56.713016",
     "exception": false,
     "start_time": "2021-07-16T12:31:56.697778",
     "status": "completed"
    },
    "tags": []
   },
   "source": [
    "## Prepare data for model training"
   ]
  },
  {
   "cell_type": "code",
   "execution_count": 2,
   "id": "graduate-decline",
   "metadata": {
    "execution": {
     "iopub.execute_input": "2021-07-16T12:31:56.746011Z",
     "iopub.status.busy": "2021-07-16T12:31:56.745355Z",
     "iopub.status.idle": "2021-07-16T12:31:58.172642Z",
     "shell.execute_reply": "2021-07-16T12:31:58.171941Z",
     "shell.execute_reply.started": "2021-07-11T19:15:56.628153Z"
    },
    "executionInfo": {
     "elapsed": 10043,
     "status": "ok",
     "timestamp": 1616326444482,
     "user": {
      "displayName": "TAPAS DAS",
      "photoUrl": "https://lh3.googleusercontent.com/a-/AOh14GiyffdGKiPCR_UwVittzTcbBFms70IkGfU15fatCA=s64",
      "userId": "10798398878324948542"
     },
     "user_tz": -330
    },
    "id": "VdhgoIAmSUxK",
    "outputId": "7897cfad-c8d4-46d9-86ea-04de37e11444",
    "papermill": {
     "duration": 1.446005,
     "end_time": "2021-07-16T12:31:58.172820",
     "exception": false,
     "start_time": "2021-07-16T12:31:56.726815",
     "status": "completed"
    },
    "tags": []
   },
   "outputs": [
    {
     "data": {
      "text/plain": [
       "0"
      ]
     },
     "execution_count": 2,
     "metadata": {},
     "output_type": "execute_result"
    }
   ],
   "source": [
    "with open(\"../input/mathcothon-i-shalt-prepareth-data/MathCoThon_Ready_Meatballs.txt\", 'rb') as handle: \n",
    "    data = handle.read()\n",
    "\n",
    "processed_data = pickle.loads(data)\n",
    "train_df = processed_data['train_df']\n",
    "test_df = processed_data['test_df']\n",
    "\n",
    "del processed_data\n",
    "gc.collect()"
   ]
  },
  {
   "cell_type": "code",
   "execution_count": 3,
   "id": "electric-recruitment",
   "metadata": {
    "execution": {
     "iopub.execute_input": "2021-07-16T12:31:58.235556Z",
     "iopub.status.busy": "2021-07-16T12:31:58.234741Z",
     "iopub.status.idle": "2021-07-16T12:31:58.438473Z",
     "shell.execute_reply": "2021-07-16T12:31:58.439681Z",
     "shell.execute_reply.started": "2021-07-11T19:15:58.01271Z"
    },
    "papermill": {
     "duration": 0.242083,
     "end_time": "2021-07-16T12:31:58.439913",
     "exception": false,
     "start_time": "2021-07-16T12:31:58.197830",
     "status": "completed"
    },
    "tags": []
   },
   "outputs": [
    {
     "name": "stdout",
     "output_type": "stream",
     "text": [
      "[1, 2, 3, 4, 7, 8, 9, 10, 11, 12, 27, 29, 25, 38, 39, 35, 36, 37, 30, 31, 32, 13, 14, 15, 16, 17, 18, 19, 20]\n"
     ]
    }
   ],
   "source": [
    "cat_cols = ['Manufacturer','Model','Category','Leather interior','Cylinders',\n",
    "            'Doors','Wheel','Color','Airbags','Turbo_Engine','Leap_Year',\n",
    "            'Hybrid_Car','Numbers_in_Model','Drive wheels Front','Drive wheels Rear',\n",
    "            'Manual_Gear','Automatic_Gear','Continuous_Gear','Fuel Tank Petrol',\n",
    "            'Fuel Tank Diesel','Fuel Tank Gas','id0','id1','id2','id3','id4','id5','id6','id7']\n",
    "\n",
    "train_df[cat_cols] = train_df[cat_cols].astype(int)\n",
    "test_df[cat_cols] = test_df[cat_cols].astype(int)\n",
    "cat_cols_indices = [train_df.columns.get_loc(col) for col in cat_cols]\n",
    "print(cat_cols_indices)"
   ]
  },
  {
   "cell_type": "code",
   "execution_count": 4,
   "id": "addressed-lodging",
   "metadata": {
    "execution": {
     "iopub.execute_input": "2021-07-16T12:31:58.495480Z",
     "iopub.status.busy": "2021-07-16T12:31:58.494950Z",
     "iopub.status.idle": "2021-07-16T12:31:58.740869Z",
     "shell.execute_reply": "2021-07-16T12:31:58.740185Z",
     "shell.execute_reply.started": "2021-07-11T19:15:58.17575Z"
    },
    "executionInfo": {
     "elapsed": 2058,
     "status": "ok",
     "timestamp": 1616326525321,
     "user": {
      "displayName": "TAPAS DAS",
      "photoUrl": "https://lh3.googleusercontent.com/a-/AOh14GiyffdGKiPCR_UwVittzTcbBFms70IkGfU15fatCA=s64",
      "userId": "10798398878324948542"
     },
     "user_tz": -330
    },
    "id": "UAfyHbeASU7C",
    "outputId": "14c429a7-7b43-4065-afae-da7d4f6679a9",
    "papermill": {
     "duration": 0.276805,
     "end_time": "2021-07-16T12:31:58.741012",
     "exception": false,
     "start_time": "2021-07-16T12:31:58.464207",
     "status": "completed"
    },
    "tags": []
   },
   "outputs": [
    {
     "name": "stdout",
     "output_type": "stream",
     "text": [
      "Xtrain: (15628, 893) \n",
      "Ytrain: (15628,) \n",
      "Xtest: (8245, 893)\n"
     ]
    },
    {
     "data": {
      "text/plain": [
       "13"
      ]
     },
     "execution_count": 4,
     "metadata": {},
     "output_type": "execute_result"
    }
   ],
   "source": [
    "Xtrain = train_df.loc[:, ~train_df.columns.isin(['Price'])].copy()\n",
    "Ytrain = train_df['Price'].copy()\n",
    "Ytrain_strat = pd.qcut(np.log1p(train_df['Price']), q=10, labels=range(0,10))\n",
    "Xtest = test_df.copy()\n",
    "\n",
    "print(\"Xtrain: {} \\nYtrain: {} \\nXtest: {}\".format(Xtrain.shape, Ytrain.shape, Xtest.shape))\n",
    "\n",
    "del train_df\n",
    "del test_df\n",
    "gc.collect()"
   ]
  },
  {
   "cell_type": "markdown",
   "id": "relative-treatment",
   "metadata": {
    "id": "9wNC5rWEVnjd",
    "papermill": {
     "duration": 0.014968,
     "end_time": "2021-07-16T12:31:58.772989",
     "exception": false,
     "start_time": "2021-07-16T12:31:58.758021",
     "status": "completed"
    },
    "tags": []
   },
   "source": [
    "## Build and validate the model"
   ]
  },
  {
   "cell_type": "markdown",
   "id": "optical-warren",
   "metadata": {
    "papermill": {
     "duration": 0.01507,
     "end_time": "2021-07-16T12:31:58.802263",
     "exception": false,
     "start_time": "2021-07-16T12:31:58.787193",
     "status": "completed"
    },
    "tags": []
   },
   "source": [
    "### Model-1"
   ]
  },
  {
   "cell_type": "code",
   "execution_count": 5,
   "id": "subject-converter",
   "metadata": {
    "execution": {
     "iopub.execute_input": "2021-07-16T12:31:58.845941Z",
     "iopub.status.busy": "2021-07-16T12:31:58.844564Z",
     "iopub.status.idle": "2021-07-16T13:36:56.397746Z",
     "shell.execute_reply": "2021-07-16T13:36:56.396941Z"
    },
    "id": "uWPosEORSVBp",
    "outputId": "d70ac047-a86b-4f36-84cc-960b1b5316be",
    "papermill": {
     "duration": 3897.581409,
     "end_time": "2021-07-16T13:36:56.397931",
     "exception": false,
     "start_time": "2021-07-16T12:31:58.816522",
     "status": "completed"
    },
    "tags": []
   },
   "outputs": [
    {
     "name": "stdout",
     "output_type": "stream",
     "text": [
      "0:\tlearn: 1.3912883\ttest: 1.4277095\tbest: 1.4277095 (0)\ttotal: 112ms\tremaining: 14m 55s\n",
      "1000:\tlearn: 0.5392209\ttest: 0.9381898\tbest: 0.9381898 (1000)\ttotal: 1m 42s\tremaining: 11m 59s\n",
      "2000:\tlearn: 0.3845515\ttest: 0.9292325\tbest: 0.9291648 (1986)\ttotal: 3m 24s\tremaining: 10m 13s\n",
      "bestTest = 0.927779787\n",
      "bestIteration = 2719\n",
      "Shrink model to first 2720 iterations.\n",
      "Seed-2020 | Fold-0 | OOF Score: 0.9254845846545328\n",
      "0:\tlearn: 1.3982226\ttest: 1.3630552\tbest: 1.3630552 (0)\ttotal: 109ms\tremaining: 14m 34s\n",
      "1000:\tlearn: 0.5198247\ttest: 0.8771075\tbest: 0.8771075 (1000)\ttotal: 1m 43s\tremaining: 12m 1s\n",
      "2000:\tlearn: 0.3621737\ttest: 0.8713248\tbest: 0.8711580 (1958)\ttotal: 3m 25s\tremaining: 10m 16s\n",
      "bestTest = 0.8701362486\n",
      "bestIteration = 2461\n",
      "Shrink model to first 2462 iterations.\n",
      "Seed-2020 | Fold-1 | OOF Score: 0.8686036599432222\n",
      "0:\tlearn: 1.3964489\ttest: 1.3796673\tbest: 1.3796673 (0)\ttotal: 113ms\tremaining: 15m 2s\n",
      "1000:\tlearn: 0.5305819\ttest: 0.8913544\tbest: 0.8900461 (846)\ttotal: 1m 43s\tremaining: 12m 3s\n",
      "bestTest = 0.8900460935\n",
      "bestIteration = 846\n",
      "Shrink model to first 847 iterations.\n",
      "Seed-2020 | Fold-2 | OOF Score: 0.8885971729360295\n",
      "0:\tlearn: 1.3951444\ttest: 1.3924838\tbest: 1.3924838 (0)\ttotal: 109ms\tremaining: 14m 35s\n",
      "1000:\tlearn: 0.5323039\ttest: 0.9063286\tbest: 0.9063174 (994)\ttotal: 1m 46s\tremaining: 12m 21s\n",
      "2000:\tlearn: 0.3802661\ttest: 0.9027035\tbest: 0.9025741 (1899)\ttotal: 3m 30s\tremaining: 10m 32s\n",
      "bestTest = 0.9025740636\n",
      "bestIteration = 1899\n",
      "Shrink model to first 1900 iterations.\n",
      "Seed-2020 | Fold-3 | OOF Score: 0.9007254542657924\n",
      "0:\tlearn: 1.3981263\ttest: 1.3629253\tbest: 1.3629253 (0)\ttotal: 304ms\tremaining: 40m 28s\n",
      "1000:\tlearn: 0.5224966\ttest: 0.8671677\tbest: 0.8668456 (897)\ttotal: 1m 42s\tremaining: 11m 59s\n",
      "bestTest = 0.8668456276\n",
      "bestIteration = 897\n",
      "Shrink model to first 898 iterations.\n",
      "Seed-2020 | Fold-4 | OOF Score: 0.8651483261541356\n",
      "0:\tlearn: 1.3921869\ttest: 1.4196470\tbest: 1.4196470 (0)\ttotal: 107ms\tremaining: 14m 15s\n",
      "1000:\tlearn: 0.5301832\ttest: 0.8768706\tbest: 0.8768317 (997)\ttotal: 1m 46s\tremaining: 12m 26s\n",
      "bestTest = 0.8703431566\n",
      "bestIteration = 1641\n",
      "Shrink model to first 1642 iterations.\n",
      "Seed-2020 | Fold-5 | OOF Score: 0.8686403957763118\n",
      "0:\tlearn: 1.3908867\ttest: 1.4322477\tbest: 1.4322477 (0)\ttotal: 112ms\tremaining: 14m 56s\n",
      "1000:\tlearn: 0.5408804\ttest: 0.8861765\tbest: 0.8861324 (999)\ttotal: 1m 45s\tremaining: 12m 18s\n",
      "bestTest = 0.8810621429\n",
      "bestIteration = 1742\n",
      "Shrink model to first 1743 iterations.\n",
      "Seed-2020 | Fold-6 | OOF Score: 0.878713650045204\n",
      "0:\tlearn: 1.3917841\ttest: 1.4205051\tbest: 1.4205051 (0)\ttotal: 106ms\tremaining: 14m 8s\n",
      "bestTest = 0.9991731258\n",
      "bestIteration = 600\n",
      "Shrink model to first 601 iterations.\n",
      "Seed-2020 | Fold-7 | OOF Score: 0.9971116546781847\n",
      "0:\tlearn: 1.3980470\ttest: 1.3656504\tbest: 1.3656504 (0)\ttotal: 113ms\tremaining: 15m 1s\n",
      "1000:\tlearn: 0.5405405\ttest: 0.8817640\tbest: 0.8817188 (957)\ttotal: 1m 45s\tremaining: 12m 14s\n",
      "2000:\tlearn: 0.3847956\ttest: 0.8775616\tbest: 0.8774626 (1982)\ttotal: 3m 29s\tremaining: 10m 29s\n",
      "bestTest = 0.8771476506\n",
      "bestIteration = 2109\n",
      "Shrink model to first 2110 iterations.\n",
      "Seed-2020 | Fold-8 | OOF Score: 0.8756939634345665\n",
      "0:\tlearn: 1.3956109\ttest: 1.3877998\tbest: 1.3877998 (0)\ttotal: 112ms\tremaining: 14m 52s\n",
      "1000:\tlearn: 0.5217827\ttest: 0.9332580\tbest: 0.9330003 (992)\ttotal: 1m 43s\tremaining: 12m 5s\n",
      "bestTest = 0.929850437\n",
      "bestIteration = 1674\n",
      "Shrink model to first 1675 iterations.\n",
      "Seed-2020 | Fold-9 | OOF Score: 0.9277711665461978\n",
      "\n",
      "Seed: 2020 | Aggregate OOF Score: 0.8996490028434175\n",
      "\n",
      "\n",
      "0:\tlearn: 1.3947823\ttest: 1.3975949\tbest: 1.3975949 (0)\ttotal: 106ms\tremaining: 14m 7s\n",
      "1000:\tlearn: 0.5338249\ttest: 0.8880901\tbest: 0.8878059 (881)\ttotal: 1m 45s\tremaining: 12m 15s\n",
      "bestTest = 0.8872756491\n",
      "bestIteration = 1116\n",
      "Shrink model to first 1117 iterations.\n",
      "Seed-2022 | Fold-0 | OOF Score: 0.8854405698483606\n",
      "0:\tlearn: 1.3982531\ttest: 1.3630274\tbest: 1.3630274 (0)\ttotal: 107ms\tremaining: 14m 14s\n",
      "1000:\tlearn: 0.5294863\ttest: 0.8654332\tbest: 0.8654297 (999)\ttotal: 1m 44s\tremaining: 12m 13s\n",
      "2000:\tlearn: 0.3734849\ttest: 0.8614166\tbest: 0.8613449 (1961)\ttotal: 3m 31s\tremaining: 10m 35s\n",
      "bestTest = 0.8611930853\n",
      "bestIteration = 2084\n",
      "Shrink model to first 2085 iterations.\n",
      "Seed-2022 | Fold-1 | OOF Score: 0.8596564404530058\n",
      "0:\tlearn: 1.3957085\ttest: 1.3867836\tbest: 1.3867836 (0)\ttotal: 113ms\tremaining: 15m 7s\n",
      "1000:\tlearn: 0.5272793\ttest: 0.9003778\tbest: 0.9003009 (980)\ttotal: 1m 46s\tremaining: 12m 26s\n",
      "bestTest = 0.8996214061\n",
      "bestIteration = 1077\n",
      "Shrink model to first 1078 iterations.\n",
      "Seed-2022 | Fold-2 | OOF Score: 0.8979952150103933\n",
      "0:\tlearn: 1.3968848\ttest: 1.3750584\tbest: 1.3750584 (0)\ttotal: 112ms\tremaining: 14m 54s\n",
      "1000:\tlearn: 0.5223027\ttest: 0.8766304\tbest: 0.8766079 (999)\ttotal: 1m 46s\tremaining: 12m 22s\n",
      "bestTest = 0.8762545025\n",
      "bestIteration = 1077\n",
      "Shrink model to first 1078 iterations.\n",
      "Seed-2022 | Fold-3 | OOF Score: 0.8744951387658072\n",
      "0:\tlearn: 1.3987498\ttest: 1.3643506\tbest: 1.3643506 (0)\ttotal: 106ms\tremaining: 14m 7s\n",
      "bestTest = 0.9288620404\n",
      "bestIteration = 572\n",
      "Shrink model to first 573 iterations.\n",
      "Seed-2022 | Fold-4 | OOF Score: 0.9272035034181444\n",
      "0:\tlearn: 1.3859715\ttest: 1.4754719\tbest: 1.4754719 (0)\ttotal: 112ms\tremaining: 14m 56s\n",
      "1000:\tlearn: 0.5313647\ttest: 0.9680347\tbest: 0.9680347 (1000)\ttotal: 1m 46s\tremaining: 12m 25s\n",
      "2000:\tlearn: 0.3790786\ttest: 0.9625435\tbest: 0.9622124 (1960)\ttotal: 3m 31s\tremaining: 10m 32s\n",
      "bestTest = 0.962212364\n",
      "bestIteration = 1960\n",
      "Shrink model to first 1961 iterations.\n",
      "Seed-2022 | Fold-5 | OOF Score: 0.9592554481563355\n",
      "0:\tlearn: 1.3962226\ttest: 1.3828776\tbest: 1.3828776 (0)\ttotal: 109ms\tremaining: 14m 32s\n",
      "1000:\tlearn: 0.5292167\ttest: 0.9285835\tbest: 0.9285483 (993)\ttotal: 1m 45s\tremaining: 12m 14s\n",
      "bestTest = 0.9275933107\n",
      "bestIteration = 1109\n",
      "Shrink model to first 1110 iterations.\n",
      "Seed-2022 | Fold-6 | OOF Score: 0.9256345556500274\n",
      "0:\tlearn: 1.3918007\ttest: 1.4221140\tbest: 1.4221140 (0)\ttotal: 111ms\tremaining: 14m 46s\n",
      "1000:\tlearn: 0.5146311\ttest: 0.9373521\tbest: 0.9373202 (995)\ttotal: 1m 43s\tremaining: 12m 4s\n",
      "2000:\tlearn: 0.3620104\ttest: 0.9298461\tbest: 0.9297321 (1989)\ttotal: 3m 26s\tremaining: 10m 20s\n",
      "bestTest = 0.9281518698\n",
      "bestIteration = 2533\n",
      "Shrink model to first 2534 iterations.\n",
      "Seed-2022 | Fold-7 | OOF Score: 0.9261896747930785\n",
      "0:\tlearn: 1.3956107\ttest: 1.3928764\tbest: 1.3928764 (0)\ttotal: 112ms\tremaining: 14m 53s\n",
      "1000:\tlearn: 0.5300314\ttest: 0.9046483\tbest: 0.9046483 (1000)\ttotal: 1m 43s\tremaining: 12m\n",
      "2000:\tlearn: 0.3727766\ttest: 0.9006888\tbest: 0.9006279 (1854)\ttotal: 3m 27s\tremaining: 10m 22s\n",
      "bestTest = 0.9006279229\n",
      "bestIteration = 1854\n",
      "Shrink model to first 1855 iterations.\n",
      "Seed-2022 | Fold-8 | OOF Score: 0.8987342189658434\n",
      "0:\tlearn: 1.3953490\ttest: 1.3915092\tbest: 1.3915092 (0)\ttotal: 110ms\tremaining: 14m 40s\n",
      "1000:\tlearn: 0.5160412\ttest: 0.8928970\tbest: 0.8928933 (996)\ttotal: 1m 42s\tremaining: 11m 58s\n",
      "bestTest = 0.8905348789\n",
      "bestIteration = 1798\n",
      "Shrink model to first 1799 iterations.\n",
      "Seed-2022 | Fold-9 | OOF Score: 0.8890588234022583\n",
      "\n",
      "Seed: 2022 | Aggregate OOF Score: 0.9043663588463253\n",
      "\n",
      "\n",
      "Aggregate OOF Score: 0.9020076808448716\n"
     ]
    }
   ],
   "source": [
    "FOLD = 10\n",
    "SEEDS = [2020, 2022]\n",
    "\n",
    "fet_imp1 = 0\n",
    "counter = 0\n",
    "oof_score1 = 0\n",
    "y_pred_meta_cb1 = np.zeros((Ytrain.shape[0], 1))\n",
    "y_pred_final_cb1 = 0\n",
    "\n",
    "\n",
    "for sidx, seed in enumerate(SEEDS):\n",
    "    seed_score = 0\n",
    "    \n",
    "    kfold = StratifiedKFold(n_splits=FOLD, shuffle=True, random_state=seed)\n",
    "\n",
    "    for idx, (train, val) in enumerate(kfold.split(Xtrain.values, Ytrain_strat)):\n",
    "        counter += 1\n",
    "        \n",
    "        train_x, train_y = Xtrain.iloc[train], Ytrain.iloc[train]\n",
    "        val_x, val_y = Xtrain.iloc[val], Ytrain.iloc[val]\n",
    "        \n",
    "        model = CatBoostRegressor(\n",
    "            objective='RMSE',\n",
    "            eval_metric='RMSE',\n",
    "            num_boost_round=8000,\n",
    "            learning_rate=0.011,\n",
    "            reg_lambda=0.99,\n",
    "            bootstrap_type='Poisson',\n",
    "            subsample=0.5394,\n",
    "            max_depth=16, \n",
    "            grow_policy='Lossguide',\n",
    "            min_data_in_leaf=1, \n",
    "            max_leaves=208,\n",
    "            task_type='GPU',\n",
    "            verbose=0,\n",
    "            random_state=(seed+idx)\n",
    "        )\n",
    "\n",
    "        model.fit(train_x, train_y, eval_set=[(val_x, val_y)], \n",
    "                  cat_features=cat_cols_indices, \n",
    "                  early_stopping_rounds=200, verbose=1000)\n",
    "\n",
    "        y_pred = model.predict(val_x)\n",
    "        y_pred_meta_cb1[val] += np.array([y_pred]).T\n",
    "        y_pred_final_cb1 += model.predict(Xtest)\n",
    "        \n",
    "        score = np.sqrt(mean_squared_log_error(np.exp(val_y), np.exp(y_pred)))\n",
    "        oof_score1 += score\n",
    "        seed_score += score\n",
    "        fet_imp1 += model.feature_importances_\n",
    "        print(\"Seed-{} | Fold-{} | OOF Score: {}\".format(seed, idx, score))\n",
    "    \n",
    "    print(\"\\nSeed: {} | Aggregate OOF Score: {}\\n\\n\".format(seed, (seed_score / FOLD)))\n",
    "\n",
    "\n",
    "y_pred_meta_cb1 = y_pred_meta_cb1 / float(len(SEEDS))\n",
    "y_pred_final_cb1 = y_pred_final_cb1 / float(counter)\n",
    "fet_imp1 = fet_imp1 / float(counter)\n",
    "oof_score1 /= float(counter)\n",
    "print(\"Aggregate OOF Score: {}\".format(oof_score1))"
   ]
  },
  {
   "cell_type": "markdown",
   "id": "thermal-respect",
   "metadata": {
    "papermill": {
     "duration": 0.038418,
     "end_time": "2021-07-16T13:36:56.478719",
     "exception": false,
     "start_time": "2021-07-16T13:36:56.440301",
     "status": "completed"
    },
    "tags": []
   },
   "source": [
    "### Model-2"
   ]
  },
  {
   "cell_type": "code",
   "execution_count": 6,
   "id": "distant-investing",
   "metadata": {
    "execution": {
     "iopub.execute_input": "2021-07-16T13:36:56.572046Z",
     "iopub.status.busy": "2021-07-16T13:36:56.570800Z",
     "iopub.status.idle": "2021-07-16T14:27:52.756076Z",
     "shell.execute_reply": "2021-07-16T14:27:52.755406Z",
     "shell.execute_reply.started": "2021-07-07T13:51:30.270098Z"
    },
    "papermill": {
     "duration": 3056.24044,
     "end_time": "2021-07-16T14:27:52.756258",
     "exception": false,
     "start_time": "2021-07-16T13:36:56.515818",
     "status": "completed"
    },
    "tags": []
   },
   "outputs": [
    {
     "name": "stdout",
     "output_type": "stream",
     "text": [
      "0:\tlearn: 1.3906843\ttest: 1.4272583\tbest: 1.4272583 (0)\ttotal: 87.4ms\tremaining: 11m 39s\n",
      "1000:\tlearn: 0.4862225\ttest: 0.9290817\tbest: 0.9289483 (994)\ttotal: 1m 20s\tremaining: 9m 25s\n",
      "2000:\tlearn: 0.3462533\ttest: 0.9263013\tbest: 0.9262858 (1998)\ttotal: 2m 42s\tremaining: 8m 8s\n",
      "bestTest = 0.9243099448\n",
      "bestIteration = 2599\n",
      "Shrink model to first 2600 iterations.\n",
      "Seed-2020 | Fold-0 | OOF Score: 0.9220285213687968\n",
      "0:\tlearn: 1.3977494\ttest: 1.3631445\tbest: 1.3631445 (0)\ttotal: 85.8ms\tremaining: 11m 26s\n",
      "1000:\tlearn: 0.4677160\ttest: 0.8774030\tbest: 0.8773818 (999)\ttotal: 1m 22s\tremaining: 9m 33s\n",
      "2000:\tlearn: 0.3217164\ttest: 0.8727281\tbest: 0.8727024 (1996)\ttotal: 2m 42s\tremaining: 8m 7s\n",
      "3000:\tlearn: 0.2411709\ttest: 0.8715926\tbest: 0.8715687 (2998)\ttotal: 4m 3s\tremaining: 6m 45s\n",
      "bestTest = 0.8711906475\n",
      "bestIteration = 3495\n",
      "Shrink model to first 3496 iterations.\n",
      "Seed-2020 | Fold-1 | OOF Score: 0.8696512746192845\n",
      "0:\tlearn: 1.3960852\ttest: 1.3796043\tbest: 1.3796043 (0)\ttotal: 83.4ms\tremaining: 11m 7s\n",
      "bestTest = 0.8987116096\n",
      "bestIteration = 518\n",
      "Shrink model to first 519 iterations.\n",
      "Seed-2020 | Fold-2 | OOF Score: 0.8972504866437839\n",
      "0:\tlearn: 1.3948077\ttest: 1.3924011\tbest: 1.3924011 (0)\ttotal: 85.2ms\tremaining: 11m 21s\n",
      "1000:\tlearn: 0.4811060\ttest: 0.9068092\tbest: 0.9067258 (990)\ttotal: 1m 20s\tremaining: 9m 25s\n",
      "bestTest = 0.9053990106\n",
      "bestIteration = 1381\n",
      "Shrink model to first 1382 iterations.\n",
      "Seed-2020 | Fold-3 | OOF Score: 0.9035790074341696\n",
      "0:\tlearn: 1.3975597\ttest: 1.3627681\tbest: 1.3627681 (0)\ttotal: 323ms\tremaining: 42m 59s\n",
      "1000:\tlearn: 0.4666802\ttest: 0.8566505\tbest: 0.8563345 (987)\ttotal: 1m 20s\tremaining: 9m 26s\n",
      "bestTest = 0.8559732628\n",
      "bestIteration = 1203\n",
      "Shrink model to first 1204 iterations.\n",
      "Seed-2020 | Fold-4 | OOF Score: 0.8542258979638123\n",
      "0:\tlearn: 1.3917102\ttest: 1.4195046\tbest: 1.4195046 (0)\ttotal: 76.9ms\tremaining: 10m 14s\n",
      "1000:\tlearn: 0.4742664\ttest: 0.8765552\tbest: 0.8764446 (974)\ttotal: 1m 20s\tremaining: 9m 26s\n",
      "bestTest = 0.8726744832\n",
      "bestIteration = 1540\n",
      "Shrink model to first 1541 iterations.\n",
      "Seed-2020 | Fold-5 | OOF Score: 0.8709524834687072\n",
      "0:\tlearn: 1.3904430\ttest: 1.4322830\tbest: 1.4322830 (0)\ttotal: 78.2ms\tremaining: 10m 25s\n",
      "1000:\tlearn: 0.4838241\ttest: 0.8885467\tbest: 0.8883253 (941)\ttotal: 1m 21s\tremaining: 9m 30s\n",
      "2000:\tlearn: 0.3423167\ttest: 0.8851396\tbest: 0.8851396 (2000)\ttotal: 2m 42s\tremaining: 8m 6s\n",
      "bestTest = 0.8842483283\n",
      "bestIteration = 2464\n",
      "Shrink model to first 2465 iterations.\n",
      "Seed-2020 | Fold-6 | OOF Score: 0.881919257137786\n",
      "0:\tlearn: 1.3912901\ttest: 1.4201567\tbest: 1.4201567 (0)\ttotal: 76.3ms\tremaining: 10m 10s\n",
      "bestTest = 1.00019242\n",
      "bestIteration = 527\n",
      "Shrink model to first 528 iterations.\n",
      "Seed-2020 | Fold-7 | OOF Score: 0.998150712120948\n",
      "0:\tlearn: 1.3975633\ttest: 1.3655234\tbest: 1.3655234 (0)\ttotal: 76.5ms\tremaining: 10m 11s\n",
      "1000:\tlearn: 0.4829547\ttest: 0.8772867\tbest: 0.8771036 (968)\ttotal: 1m 20s\tremaining: 9m 22s\n",
      "2000:\tlearn: 0.3418096\ttest: 0.8743589\tbest: 0.8743589 (2000)\ttotal: 2m 42s\tremaining: 8m 7s\n",
      "3000:\tlearn: 0.2607671\ttest: 0.8719243\tbest: 0.8717504 (2856)\ttotal: 4m 3s\tremaining: 6m 45s\n",
      "bestTest = 0.8717504279\n",
      "bestIteration = 2856\n",
      "Shrink model to first 2857 iterations.\n",
      "Seed-2020 | Fold-8 | OOF Score: 0.8702950197443078\n",
      "0:\tlearn: 1.3951153\ttest: 1.3879286\tbest: 1.3879286 (0)\ttotal: 81.2ms\tremaining: 10m 49s\n",
      "1000:\tlearn: 0.4669123\ttest: 0.9306489\tbest: 0.9303352 (919)\ttotal: 1m 21s\tremaining: 9m 28s\n",
      "bestTest = 0.9303351708\n",
      "bestIteration = 919\n",
      "Shrink model to first 920 iterations.\n",
      "Seed-2020 | Fold-9 | OOF Score: 0.9282222922800712\n",
      "\n",
      "Seed: 2020 | Aggregate OOF Score: 0.8996274952781667\n",
      "\n",
      "\n",
      "0:\tlearn: 1.3941434\ttest: 1.3973598\tbest: 1.3973598 (0)\ttotal: 85.1ms\tremaining: 11m 20s\n",
      "1000:\tlearn: 0.4788027\ttest: 0.8849818\tbest: 0.8846213 (940)\ttotal: 1m 21s\tremaining: 9m 28s\n",
      "bestTest = 0.8846213286\n",
      "bestIteration = 940\n",
      "Shrink model to first 941 iterations.\n",
      "Seed-2022 | Fold-0 | OOF Score: 0.882754616741491\n",
      "0:\tlearn: 1.3980867\ttest: 1.3631373\tbest: 1.3631373 (0)\ttotal: 88.5ms\tremaining: 11m 48s\n",
      "1000:\tlearn: 0.4714229\ttest: 0.8667802\tbest: 0.8666682 (987)\ttotal: 1m 22s\tremaining: 9m 38s\n",
      "bestTest = 0.8648060948\n",
      "bestIteration = 1456\n",
      "Shrink model to first 1457 iterations.\n",
      "Seed-2022 | Fold-1 | OOF Score: 0.8632688116824874\n",
      "0:\tlearn: 1.3951239\ttest: 1.3872361\tbest: 1.3872361 (0)\ttotal: 90.4ms\tremaining: 12m 3s\n",
      "bestTest = 0.9146401881\n",
      "bestIteration = 664\n",
      "Shrink model to first 665 iterations.\n",
      "Seed-2022 | Fold-2 | OOF Score: 0.9129997251655521\n",
      "0:\tlearn: 1.3964619\ttest: 1.3749635\tbest: 1.3749635 (0)\ttotal: 83ms\tremaining: 11m 3s\n",
      "bestTest = 0.8684221941\n",
      "bestIteration = 679\n",
      "Shrink model to first 680 iterations.\n",
      "Seed-2022 | Fold-3 | OOF Score: 0.8666644696095327\n",
      "0:\tlearn: 1.3985996\ttest: 1.3640698\tbest: 1.3640698 (0)\ttotal: 83.2ms\tremaining: 11m 5s\n",
      "bestTest = 0.9291211431\n",
      "bestIteration = 546\n",
      "Shrink model to first 547 iterations.\n",
      "Seed-2022 | Fold-4 | OOF Score: 0.9274838288948924\n",
      "0:\tlearn: 1.3853217\ttest: 1.4752734\tbest: 1.4752734 (0)\ttotal: 85.8ms\tremaining: 11m 26s\n",
      "1000:\tlearn: 0.4756355\ttest: 0.9730763\tbest: 0.9730763 (1000)\ttotal: 1m 19s\tremaining: 9m 19s\n",
      "2000:\tlearn: 0.3396843\ttest: 0.9688551\tbest: 0.9688551 (2000)\ttotal: 2m 40s\tremaining: 8m\n",
      "bestTest = 0.9678795648\n",
      "bestIteration = 2770\n",
      "Shrink model to first 2771 iterations.\n",
      "Seed-2022 | Fold-5 | OOF Score: 0.9649404634037787\n",
      "0:\tlearn: 1.3956478\ttest: 1.3825801\tbest: 1.3825801 (0)\ttotal: 83.3ms\tremaining: 11m 6s\n",
      "1000:\tlearn: 0.4741228\ttest: 0.9272886\tbest: 0.9268781 (945)\ttotal: 1m 23s\tremaining: 9m 45s\n",
      "bestTest = 0.9268081418\n",
      "bestIteration = 1057\n",
      "Shrink model to first 1058 iterations.\n",
      "Seed-2022 | Fold-6 | OOF Score: 0.9248607598048552\n",
      "0:\tlearn: 1.3913313\ttest: 1.4218289\tbest: 1.4218289 (0)\ttotal: 88.8ms\tremaining: 11m 50s\n",
      "1000:\tlearn: 0.4588629\ttest: 0.9352506\tbest: 0.9352283 (984)\ttotal: 1m 20s\tremaining: 9m 20s\n",
      "2000:\tlearn: 0.3189733\ttest: 0.9294032\tbest: 0.9293958 (1999)\ttotal: 2m 41s\tremaining: 8m 3s\n",
      "bestTest = 0.9281864951\n",
      "bestIteration = 2501\n",
      "Shrink model to first 2502 iterations.\n",
      "Seed-2022 | Fold-7 | OOF Score: 0.9262605491295958\n",
      "0:\tlearn: 1.3948277\ttest: 1.3925732\tbest: 1.3925732 (0)\ttotal: 85.7ms\tremaining: 11m 25s\n",
      "1000:\tlearn: 0.4734148\ttest: 0.9084409\tbest: 0.9080041 (979)\ttotal: 1m 22s\tremaining: 9m 35s\n",
      "2000:\tlearn: 0.3302769\ttest: 0.9048217\tbest: 0.9047293 (1967)\ttotal: 2m 43s\tremaining: 8m 9s\n",
      "bestTest = 0.9041570867\n",
      "bestIteration = 2246\n",
      "Shrink model to first 2247 iterations.\n",
      "Seed-2022 | Fold-8 | OOF Score: 0.9022283783437597\n",
      "0:\tlearn: 1.3947425\ttest: 1.3909610\tbest: 1.3909610 (0)\ttotal: 81.5ms\tremaining: 10m 52s\n",
      "1000:\tlearn: 0.4595079\ttest: 0.8951512\tbest: 0.8947397 (968)\ttotal: 1m 22s\tremaining: 9m 34s\n",
      "2000:\tlearn: 0.3195603\ttest: 0.8923308\tbest: 0.8922133 (1838)\ttotal: 2m 42s\tremaining: 8m 7s\n",
      "bestTest = 0.8920752924\n",
      "bestIteration = 2201\n",
      "Shrink model to first 2202 iterations.\n",
      "Seed-2022 | Fold-9 | OOF Score: 0.8906051816699828\n",
      "\n",
      "Seed: 2022 | Aggregate OOF Score: 0.9062066784445928\n",
      "\n",
      "\n",
      "Aggregate OOF Score: 0.9029170868613796\n"
     ]
    }
   ],
   "source": [
    "FOLD = 10\n",
    "SEEDS = [2020, 2022]\n",
    "\n",
    "fet_imp2 = 0\n",
    "counter = 0\n",
    "oof_score2 = 0\n",
    "y_pred_meta_cb2 = np.zeros((Ytrain.shape[0], 1))\n",
    "y_pred_final_cb2 = 0\n",
    "\n",
    "\n",
    "for sidx, seed in enumerate(SEEDS):\n",
    "    seed_score = 0\n",
    "    \n",
    "    kfold = StratifiedKFold(n_splits=FOLD, shuffle=True, random_state=seed)\n",
    "\n",
    "    for idx, (train, val) in enumerate(kfold.split(Xtrain.values, Ytrain_strat)):\n",
    "        counter += 1\n",
    "        \n",
    "        train_x, train_y = Xtrain.iloc[train], Ytrain.iloc[train]\n",
    "        val_x, val_y = Xtrain.iloc[val], Ytrain.iloc[val]\n",
    "        \n",
    "        model = CatBoostRegressor(\n",
    "            objective='RMSE',\n",
    "            eval_metric='RMSE',\n",
    "            num_boost_round=8000,\n",
    "            learning_rate=0.011,\n",
    "            reg_lambda=0.019,\n",
    "            bootstrap_type='Poisson',\n",
    "            subsample=0.91,\n",
    "            max_depth=16, \n",
    "            grow_policy='Lossguide',\n",
    "            min_data_in_leaf=1, \n",
    "            max_leaves=160,\n",
    "            task_type='GPU',\n",
    "            verbose=0,\n",
    "            random_state=(seed+idx)\n",
    "        )\n",
    "\n",
    "        model.fit(train_x, train_y, eval_set=[(val_x, val_y)], \n",
    "                  cat_features=cat_cols_indices, \n",
    "                  early_stopping_rounds=200, verbose=1000)\n",
    "\n",
    "        y_pred = model.predict(val_x)\n",
    "        y_pred_meta_cb2[val] += np.array([y_pred]).T\n",
    "        y_pred_final_cb2 += model.predict(Xtest)\n",
    "        \n",
    "        score = np.sqrt(mean_squared_log_error(np.exp(val_y), np.exp(y_pred)))\n",
    "        oof_score2 += score\n",
    "        seed_score += score\n",
    "        fet_imp2 += model.feature_importances_\n",
    "        print(\"Seed-{} | Fold-{} | OOF Score: {}\".format(seed, idx, score))\n",
    "    \n",
    "    print(\"\\nSeed: {} | Aggregate OOF Score: {}\\n\\n\".format(seed, (seed_score / FOLD)))\n",
    "\n",
    "\n",
    "y_pred_meta_cb2 = y_pred_meta_cb2 / float(len(SEEDS))\n",
    "y_pred_final_cb2 = y_pred_final_cb2 / float(counter)\n",
    "fet_imp2 = fet_imp2 / float(counter)\n",
    "oof_score2 /= float(counter)\n",
    "print(\"Aggregate OOF Score: {}\".format(oof_score2))"
   ]
  },
  {
   "cell_type": "code",
   "execution_count": 7,
   "id": "major-value",
   "metadata": {
    "execution": {
     "iopub.execute_input": "2021-07-16T14:27:52.931758Z",
     "iopub.status.busy": "2021-07-16T14:27:52.930072Z",
     "iopub.status.idle": "2021-07-16T14:27:52.956094Z",
     "shell.execute_reply": "2021-07-16T14:27:52.955697Z",
     "shell.execute_reply.started": "2021-05-26T09:02:14.574835Z"
    },
    "id": "uLzmS7LzXvXy",
    "papermill": {
     "duration": 0.140264,
     "end_time": "2021-07-16T14:27:52.956199",
     "exception": false,
     "start_time": "2021-07-16T14:27:52.815935",
     "status": "completed"
    },
    "tags": []
   },
   "outputs": [],
   "source": [
    "np.savez_compressed('./CB_Meta_Features.npz',\n",
    "                    y_pred_meta_cb1=y_pred_meta_cb1, \n",
    "                    y_pred_meta_cb2=y_pred_meta_cb2, \n",
    "                    oof_score1=oof_score1,\n",
    "                    oof_score2=oof_score2,\n",
    "                    y_pred_final_cb1=y_pred_final_cb1,\n",
    "                    y_pred_final_cb2=y_pred_final_cb2)"
   ]
  },
  {
   "cell_type": "markdown",
   "id": "perfect-forest",
   "metadata": {
    "papermill": {
     "duration": 0.058703,
     "end_time": "2021-07-16T14:27:53.071654",
     "exception": false,
     "start_time": "2021-07-16T14:27:53.012951",
     "status": "completed"
    },
    "tags": []
   },
   "source": [
    "## Create submission file"
   ]
  },
  {
   "cell_type": "code",
   "execution_count": 8,
   "id": "consecutive-details",
   "metadata": {
    "execution": {
     "iopub.execute_input": "2021-07-16T14:27:53.193680Z",
     "iopub.status.busy": "2021-07-16T14:27:53.193126Z",
     "iopub.status.idle": "2021-07-16T14:27:53.197078Z",
     "shell.execute_reply": "2021-07-16T14:27:53.196649Z",
     "shell.execute_reply.started": "2021-07-02T12:25:03.735788Z"
    },
    "id": "W2c88MvxXm65",
    "papermill": {
     "duration": 0.065375,
     "end_time": "2021-07-16T14:27:53.197189",
     "exception": false,
     "start_time": "2021-07-16T14:27:53.131814",
     "status": "completed"
    },
    "tags": []
   },
   "outputs": [],
   "source": [
    "y_pred_final_cb = (y_pred_final_cb1 + y_pred_final_cb2) / 2.0"
   ]
  },
  {
   "cell_type": "code",
   "execution_count": 9,
   "id": "labeled-premium",
   "metadata": {
    "execution": {
     "iopub.execute_input": "2021-07-16T14:27:53.321604Z",
     "iopub.status.busy": "2021-07-16T14:27:53.321020Z",
     "iopub.status.idle": "2021-07-16T14:27:53.537427Z",
     "shell.execute_reply": "2021-07-16T14:27:53.536610Z",
     "shell.execute_reply.started": "2021-07-10T11:42:17.772232Z"
    },
    "papermill": {
     "duration": 0.283536,
     "end_time": "2021-07-16T14:27:53.537571",
     "exception": false,
     "start_time": "2021-07-16T14:27:53.254035",
     "status": "completed"
    },
    "tags": []
   },
   "outputs": [
    {
     "name": "stdout",
     "output_type": "stream",
     "text": [
      "Num records after Step-1: 15725\n",
      "Num records after Step-2: 15463\n"
     ]
    }
   ],
   "source": [
    "train_df = pd.read_csv(\"../input/mathcothon/train.csv\")\n",
    "test_df = pd.read_csv(\"../input/mathcothon/test.csv\")\n",
    "\n",
    "check_cols = [col for col in train_df.columns if col != 'ID']\n",
    "train_df = train_df[~train_df.duplicated(subset=check_cols, keep='first')].copy()\n",
    "print(f\"Num records after Step-1: {train_df.shape[0]}\")\n",
    "\n",
    "check_cols = [col for col in train_df.columns if col not in ['ID','Price']]\n",
    "train_df = train_df.groupby(check_cols).agg({'Price':'mean'}).reset_index().copy()\n",
    "print(f\"Num records after Step-2: {train_df.shape[0]}\")"
   ]
  },
  {
   "cell_type": "code",
   "execution_count": 10,
   "id": "collect-turning",
   "metadata": {
    "execution": {
     "iopub.execute_input": "2021-07-16T14:27:53.662844Z",
     "iopub.status.busy": "2021-07-16T14:27:53.661928Z",
     "iopub.status.idle": "2021-07-16T14:27:53.870554Z",
     "shell.execute_reply": "2021-07-16T14:27:53.870993Z",
     "shell.execute_reply.started": "2021-07-10T11:42:22.41116Z"
    },
    "papermill": {
     "duration": 0.275902,
     "end_time": "2021-07-16T14:27:53.871148",
     "exception": false,
     "start_time": "2021-07-16T14:27:53.595246",
     "status": "completed"
    },
    "tags": []
   },
   "outputs": [
    {
     "name": "stdout",
     "output_type": "stream",
     "text": [
      "df: (8245, 19)\n"
     ]
    },
    {
     "data": {
      "text/html": [
       "<div>\n",
       "<style scoped>\n",
       "    .dataframe tbody tr th:only-of-type {\n",
       "        vertical-align: middle;\n",
       "    }\n",
       "\n",
       "    .dataframe tbody tr th {\n",
       "        vertical-align: top;\n",
       "    }\n",
       "\n",
       "    .dataframe thead th {\n",
       "        text-align: right;\n",
       "    }\n",
       "</style>\n",
       "<table border=\"1\" class=\"dataframe\">\n",
       "  <thead>\n",
       "    <tr style=\"text-align: right;\">\n",
       "      <th></th>\n",
       "      <th>Levy</th>\n",
       "      <th>Manufacturer</th>\n",
       "      <th>Model</th>\n",
       "      <th>Prod. year</th>\n",
       "      <th>Category</th>\n",
       "      <th>Leather interior</th>\n",
       "      <th>Fuel type</th>\n",
       "      <th>Engine volume</th>\n",
       "      <th>Mileage</th>\n",
       "      <th>Cylinders</th>\n",
       "      <th>Gear box type</th>\n",
       "      <th>Drive wheels</th>\n",
       "      <th>Doors</th>\n",
       "      <th>Wheel</th>\n",
       "      <th>Color</th>\n",
       "      <th>Airbags</th>\n",
       "      <th>Train_Price</th>\n",
       "      <th>Predicted_Price</th>\n",
       "      <th>Price</th>\n",
       "    </tr>\n",
       "  </thead>\n",
       "  <tbody>\n",
       "    <tr>\n",
       "      <th>0</th>\n",
       "      <td>-</td>\n",
       "      <td>VOLKSWAGEN</td>\n",
       "      <td>Golf</td>\n",
       "      <td>2012</td>\n",
       "      <td>Hatchback</td>\n",
       "      <td>No</td>\n",
       "      <td>Diesel</td>\n",
       "      <td>2.0 Turbo</td>\n",
       "      <td>0 km</td>\n",
       "      <td>4</td>\n",
       "      <td>Manual</td>\n",
       "      <td>Front</td>\n",
       "      <td>02-Mar</td>\n",
       "      <td>Left wheel</td>\n",
       "      <td>Grey</td>\n",
       "      <td>10</td>\n",
       "      <td>NaN</td>\n",
       "      <td>11052.107220</td>\n",
       "      <td>11052.107220</td>\n",
       "    </tr>\n",
       "    <tr>\n",
       "      <th>1</th>\n",
       "      <td>-</td>\n",
       "      <td>HYUNDAI</td>\n",
       "      <td>Sonata</td>\n",
       "      <td>2012</td>\n",
       "      <td>Sedan</td>\n",
       "      <td>Yes</td>\n",
       "      <td>Petrol</td>\n",
       "      <td>2.4</td>\n",
       "      <td>26000 km</td>\n",
       "      <td>4</td>\n",
       "      <td>Tiptronic</td>\n",
       "      <td>Front</td>\n",
       "      <td>04-May</td>\n",
       "      <td>Left wheel</td>\n",
       "      <td>Grey</td>\n",
       "      <td>10</td>\n",
       "      <td>NaN</td>\n",
       "      <td>9821.655158</td>\n",
       "      <td>9821.655158</td>\n",
       "    </tr>\n",
       "    <tr>\n",
       "      <th>2</th>\n",
       "      <td>-</td>\n",
       "      <td>NISSAN</td>\n",
       "      <td>Tiida</td>\n",
       "      <td>2005</td>\n",
       "      <td>Sedan</td>\n",
       "      <td>No</td>\n",
       "      <td>Petrol</td>\n",
       "      <td>1.5</td>\n",
       "      <td>168000 km</td>\n",
       "      <td>4</td>\n",
       "      <td>Automatic</td>\n",
       "      <td>Front</td>\n",
       "      <td>04-May</td>\n",
       "      <td>Right-hand drive</td>\n",
       "      <td>Sky blue</td>\n",
       "      <td>8</td>\n",
       "      <td>NaN</td>\n",
       "      <td>7233.405253</td>\n",
       "      <td>7233.405253</td>\n",
       "    </tr>\n",
       "    <tr>\n",
       "      <th>3</th>\n",
       "      <td>975</td>\n",
       "      <td>VOLVO</td>\n",
       "      <td>XC90</td>\n",
       "      <td>2012</td>\n",
       "      <td>Jeep</td>\n",
       "      <td>Yes</td>\n",
       "      <td>Petrol</td>\n",
       "      <td>3.2</td>\n",
       "      <td>143000 km</td>\n",
       "      <td>6</td>\n",
       "      <td>Automatic</td>\n",
       "      <td>4x4</td>\n",
       "      <td>04-May</td>\n",
       "      <td>Left wheel</td>\n",
       "      <td>Blue</td>\n",
       "      <td>12</td>\n",
       "      <td>NaN</td>\n",
       "      <td>3792.428393</td>\n",
       "      <td>3792.428393</td>\n",
       "    </tr>\n",
       "    <tr>\n",
       "      <th>4</th>\n",
       "      <td>-</td>\n",
       "      <td>OPEL</td>\n",
       "      <td>Astra</td>\n",
       "      <td>1993</td>\n",
       "      <td>Hatchback</td>\n",
       "      <td>No</td>\n",
       "      <td>Petrol</td>\n",
       "      <td>1.6</td>\n",
       "      <td>200000 km</td>\n",
       "      <td>4</td>\n",
       "      <td>Manual</td>\n",
       "      <td>Front</td>\n",
       "      <td>04-May</td>\n",
       "      <td>Left wheel</td>\n",
       "      <td>Black</td>\n",
       "      <td>0</td>\n",
       "      <td>NaN</td>\n",
       "      <td>3407.601040</td>\n",
       "      <td>3407.601040</td>\n",
       "    </tr>\n",
       "  </tbody>\n",
       "</table>\n",
       "</div>"
      ],
      "text/plain": [
       "  Levy Manufacturer   Model  Prod. year   Category Leather interior Fuel type  \\\n",
       "0    -   VOLKSWAGEN    Golf        2012  Hatchback               No    Diesel   \n",
       "1    -      HYUNDAI  Sonata        2012      Sedan              Yes    Petrol   \n",
       "2    -       NISSAN   Tiida        2005      Sedan               No    Petrol   \n",
       "3  975        VOLVO    XC90        2012       Jeep              Yes    Petrol   \n",
       "4    -         OPEL   Astra        1993  Hatchback               No    Petrol   \n",
       "\n",
       "  Engine volume    Mileage  Cylinders Gear box type Drive wheels   Doors  \\\n",
       "0     2.0 Turbo       0 km          4        Manual        Front  02-Mar   \n",
       "1           2.4   26000 km          4     Tiptronic        Front  04-May   \n",
       "2           1.5  168000 km          4     Automatic        Front  04-May   \n",
       "3           3.2  143000 km          6     Automatic          4x4  04-May   \n",
       "4           1.6  200000 km          4        Manual        Front  04-May   \n",
       "\n",
       "              Wheel     Color  Airbags  Train_Price  Predicted_Price  \\\n",
       "0        Left wheel      Grey       10          NaN     11052.107220   \n",
       "1        Left wheel      Grey       10          NaN      9821.655158   \n",
       "2  Right-hand drive  Sky blue        8          NaN      7233.405253   \n",
       "3        Left wheel      Blue       12          NaN      3792.428393   \n",
       "4        Left wheel     Black        0          NaN      3407.601040   \n",
       "\n",
       "          Price  \n",
       "0  11052.107220  \n",
       "1   9821.655158  \n",
       "2   7233.405253  \n",
       "3   3792.428393  \n",
       "4   3407.601040  "
      ]
     },
     "execution_count": 10,
     "metadata": {},
     "output_type": "execute_result"
    }
   ],
   "source": [
    "train_cols = [col for col in train_df.columns if col != 'ID']\n",
    "test_cols = [col for col in test_df.columns if col not in ['ID','Price']]\n",
    "\n",
    "df = pd.merge(\n",
    "    test_df[test_cols], \n",
    "    train_df[train_cols], \n",
    "    how='left', \n",
    "    on=test_cols,\n",
    "    sort=False\n",
    ")\n",
    "\n",
    "df = df.rename(columns={'Price': 'Train_Price'})\n",
    "df['Predicted_Price'] = np.exp(y_pred_final_cb)\n",
    "df['Price'] = df.apply(lambda row: row['Predicted_Price'] if pd.isnull(row['Train_Price']) else row['Train_Price'], axis=1)\n",
    "print(f\"df: {df.shape}\")\n",
    "df.head()"
   ]
  },
  {
   "cell_type": "code",
   "execution_count": 11,
   "id": "separated-female",
   "metadata": {
    "execution": {
     "iopub.execute_input": "2021-07-16T14:27:54.002468Z",
     "iopub.status.busy": "2021-07-16T14:27:54.001711Z",
     "iopub.status.idle": "2021-07-16T14:27:54.023555Z",
     "shell.execute_reply": "2021-07-16T14:27:54.023921Z",
     "shell.execute_reply.started": "2021-07-10T11:42:25.980955Z"
    },
    "papermill": {
     "duration": 0.089665,
     "end_time": "2021-07-16T14:27:54.024050",
     "exception": false,
     "start_time": "2021-07-16T14:27:53.934385",
     "status": "completed"
    },
    "tags": []
   },
   "outputs": [],
   "source": [
    "df.loc[df['Manufacturer']=='TESLA','Price'] = 53941\n",
    "df.loc[df['Manufacturer']=='SATURN','Price'] = 13799\n",
    "df.loc[df['Manufacturer']=='ASTON MARTIN','Price'] = 54000\n",
    "df.loc[(df['Manufacturer']=='GREATWALL')&(df['Model']=='C30'),'Price'] = 10036\n",
    "\n",
    "df.loc[df['Prod. year']==1943,'Price'] = 119172\n",
    "df.loc[df['Prod. year']==1968,'Price'] = 2200\n",
    "df.loc[df['Prod. year']==1981,'Price'] = 2800\n",
    "\n",
    "df.loc[df['Fuel type']=='Hydrogen','Price'] = 20385\n",
    "\n",
    "df.loc[df['Engine volume']=='0.3 Turbo', 'Price'] = 6272\n",
    "df.loc[df['Engine volume']=='0.5', 'Price'] = 1300\n",
    "df.loc[df['Engine volume']=='0.8 Turbo', 'Price'] = 6272\n",
    "df.loc[df['Engine volume']=='3.1', 'Price'] = 8781\n",
    "df.loc[df['Engine volume']=='5.2', 'Price'] = 13000\n",
    "df.loc[df['Engine volume']=='6.7', 'Price'] = 1019"
   ]
  },
  {
   "cell_type": "code",
   "execution_count": 12,
   "id": "golden-species",
   "metadata": {
    "execution": {
     "iopub.execute_input": "2021-07-16T14:27:54.148211Z",
     "iopub.status.busy": "2021-07-16T14:27:54.147551Z",
     "iopub.status.idle": "2021-07-16T14:27:54.294898Z",
     "shell.execute_reply": "2021-07-16T14:27:54.294423Z",
     "shell.execute_reply.started": "2021-07-10T11:42:26.72332Z"
    },
    "papermill": {
     "duration": 0.212483,
     "end_time": "2021-07-16T14:27:54.295051",
     "exception": false,
     "start_time": "2021-07-16T14:27:54.082568",
     "status": "completed"
    },
    "tags": []
   },
   "outputs": [
    {
     "data": {
      "text/html": [
       "<div>\n",
       "<style scoped>\n",
       "    .dataframe tbody tr th:only-of-type {\n",
       "        vertical-align: middle;\n",
       "    }\n",
       "\n",
       "    .dataframe tbody tr th {\n",
       "        vertical-align: top;\n",
       "    }\n",
       "\n",
       "    .dataframe thead th {\n",
       "        text-align: right;\n",
       "    }\n",
       "</style>\n",
       "<table border=\"1\" class=\"dataframe\">\n",
       "  <thead>\n",
       "    <tr style=\"text-align: right;\">\n",
       "      <th></th>\n",
       "      <th>Price</th>\n",
       "    </tr>\n",
       "  </thead>\n",
       "  <tbody>\n",
       "    <tr>\n",
       "      <th>0</th>\n",
       "      <td>11052.107220</td>\n",
       "    </tr>\n",
       "    <tr>\n",
       "      <th>1</th>\n",
       "      <td>9821.655158</td>\n",
       "    </tr>\n",
       "    <tr>\n",
       "      <th>2</th>\n",
       "      <td>7233.405253</td>\n",
       "    </tr>\n",
       "    <tr>\n",
       "      <th>3</th>\n",
       "      <td>3792.428393</td>\n",
       "    </tr>\n",
       "    <tr>\n",
       "      <th>4</th>\n",
       "      <td>3407.601040</td>\n",
       "    </tr>\n",
       "  </tbody>\n",
       "</table>\n",
       "</div>"
      ],
      "text/plain": [
       "          Price\n",
       "0  11052.107220\n",
       "1   9821.655158\n",
       "2   7233.405253\n",
       "3   3792.428393\n",
       "4   3407.601040"
      ]
     },
     "execution_count": 12,
     "metadata": {},
     "output_type": "execute_result"
    }
   ],
   "source": [
    "submit_df = pd.DataFrame()\n",
    "submit_df['Price'] = df['Price']\n",
    "submit_df.to_csv(\"./CB_Submission.csv\", index=False)\n",
    "submit_df.head()"
   ]
  },
  {
   "cell_type": "markdown",
   "id": "selective-retro",
   "metadata": {
    "papermill": {
     "duration": 0.059042,
     "end_time": "2021-07-16T14:27:54.418086",
     "exception": false,
     "start_time": "2021-07-16T14:27:54.359044",
     "status": "completed"
    },
    "tags": []
   },
   "source": [
    "## Features Importance"
   ]
  },
  {
   "cell_type": "code",
   "execution_count": 13,
   "id": "olympic-departure",
   "metadata": {
    "execution": {
     "iopub.execute_input": "2021-07-16T14:27:54.550489Z",
     "iopub.status.busy": "2021-07-16T14:27:54.546246Z",
     "iopub.status.idle": "2021-07-16T14:27:55.854795Z",
     "shell.execute_reply": "2021-07-16T14:27:55.853776Z",
     "shell.execute_reply.started": "2021-07-10T11:42:47.224913Z"
    },
    "papermill": {
     "duration": 1.378253,
     "end_time": "2021-07-16T14:27:55.855037",
     "exception": false,
     "start_time": "2021-07-16T14:27:54.476784",
     "status": "completed"
    },
    "tags": []
   },
   "outputs": [
    {
     "data": {
      "image/png": "[encoded data removed]",
      "text/plain": [
       "<Figure size 1440x1440 with 1 Axes>"
      ]
     },
     "metadata": {
      "needs_background": "light"
     },
     "output_type": "display_data"
    }
   ],
   "source": [
    "fet_imp = (fet_imp1 + fet_imp2)/2.0\n",
    "feature_imp = pd.DataFrame(sorted(zip(fet_imp[0:60],Xtrain.columns[0:60])), columns=['Value','Feature'])\n",
    "\n",
    "plt.figure(figsize=(20, 20))\n",
    "sns.barplot(x=\"Value\", y=\"Feature\", data=feature_imp.sort_values(by=\"Value\", ascending=False))\n",
    "plt.title('CatBoost Features Importance', fontweight='bold')\n",
    "plt.tight_layout()\n",
    "plt.show()"
   ]
  },
  {
   "cell_type": "code",
   "execution_count": null,
   "id": "absolute-patio",
   "metadata": {
    "papermill": {
     "duration": 0.062825,
     "end_time": "2021-07-16T14:27:55.982910",
     "exception": false,
     "start_time": "2021-07-16T14:27:55.920085",
     "status": "completed"
    },
    "tags": []
   },
   "outputs": [],
   "source": []
  }
 ],
 "metadata": {
  "kernelspec": {
   "display_name": "Python 3 (ipykernel)",
   "language": "python",
   "name": "python3"
  },
  "language_info": {
   "codemirror_mode": {
    "name": "ipython",
    "version": 3
   },
   "file_extension": ".py",
   "mimetype": "text/x-python",
   "name": "python",
   "nbconvert_exporter": "python",
   "pygments_lexer": "ipython3",
   "version": "3.9.7"
  },
  "papermill": {
   "default_parameters": {},
   "duration": 6968.172419,
   "end_time": "2021-07-16T14:27:56.752800",
   "environment_variables": {},
   "exception": null,
   "input_path": "__notebook__.ipynb",
   "output_path": "__notebook__.ipynb",
   "parameters": {},
   "start_time": "2021-07-16T12:31:48.580381",
   "version": "2.3.3"
  }
 },
 "nbformat": 4,
 "nbformat_minor": 5
}
