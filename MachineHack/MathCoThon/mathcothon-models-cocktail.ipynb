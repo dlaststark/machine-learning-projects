{
 "cells": [
  {
   "cell_type": "markdown",
   "id": "remarkable-justice",
   "metadata": {
    "papermill": {
     "duration": 0.024412,
     "end_time": "2021-07-17T10:00:08.544009",
     "exception": false,
     "start_time": "2021-07-17T10:00:08.519597",
     "status": "completed"
    },
    "tags": []
   },
   "source": [
    "## Import libraries"
   ]
  },
  {
   "cell_type": "code",
   "execution_count": 1,
   "id": "heavy-lightweight",
   "metadata": {
    "execution": {
     "iopub.execute_input": "2021-07-17T10:00:08.603399Z",
     "iopub.status.busy": "2021-07-17T10:00:08.602785Z",
     "iopub.status.idle": "2021-07-17T10:00:09.843768Z",
     "shell.execute_reply": "2021-07-17T10:00:09.844310Z",
     "shell.execute_reply.started": "2021-07-17T09:56:15.738980Z"
    },
    "papermill": {
     "duration": 1.276959,
     "end_time": "2021-07-17T10:00:09.844616",
     "exception": false,
     "start_time": "2021-07-17T10:00:08.567657",
     "status": "completed"
    },
    "tags": []
   },
   "outputs": [],
   "source": [
    "import gc\n",
    "import pickle\n",
    "import numpy as np\n",
    "import pandas as pd\n",
    "import seaborn as sns\n",
    "import matplotlib.pyplot as plt\n",
    "from sklearn.preprocessing import StandardScaler\n",
    "from sklearn.ensemble import VotingRegressor\n",
    "from sklearn.linear_model import BayesianRidge\n",
    "from sklearn.neural_network import MLPRegressor\n",
    "from sklearn.linear_model import LinearRegression\n",
    "from sklearn.metrics import mean_squared_log_error\n",
    "from sklearn.model_selection import StratifiedKFold"
   ]
  },
  {
   "cell_type": "markdown",
   "id": "published-component",
   "metadata": {
    "papermill": {
     "duration": 0.023068,
     "end_time": "2021-07-17T10:00:09.891353",
     "exception": false,
     "start_time": "2021-07-17T10:00:09.868285",
     "status": "completed"
    },
    "tags": []
   },
   "source": [
    "## Prepare data"
   ]
  },
  {
   "cell_type": "code",
   "execution_count": 2,
   "id": "mediterranean-university",
   "metadata": {
    "execution": {
     "iopub.execute_input": "2021-07-17T10:00:09.942125Z",
     "iopub.status.busy": "2021-07-17T10:00:09.941503Z",
     "iopub.status.idle": "2021-07-17T10:00:11.567027Z",
     "shell.execute_reply": "2021-07-17T10:00:11.567564Z",
     "shell.execute_reply.started": "2021-07-17T09:56:16.944805Z"
    },
    "papermill": {
     "duration": 1.652333,
     "end_time": "2021-07-17T10:00:11.567727",
     "exception": false,
     "start_time": "2021-07-17T10:00:09.915394",
     "status": "completed"
    },
    "tags": []
   },
   "outputs": [
    {
     "data": {
      "text/plain": [
       "13"
      ]
     },
     "execution_count": 2,
     "metadata": {},
     "output_type": "execute_result"
    }
   ],
   "source": [
    "with open(\"../input/mathcothon-i-shalt-prepareth-data/MathCoThon_Ready_Meatballs.txt\", 'rb') as handle: \n",
    "    data = handle.read()\n",
    "\n",
    "processed_data = pickle.loads(data)\n",
    "train_df = processed_data['train_df']\n",
    "\n",
    "Ytrain_meta = train_df['Price'].values\n",
    "Ytrain_strat = pd.qcut(np.log1p(train_df['Price']), q=10, labels=range(0,10))\n",
    "\n",
    "del processed_data\n",
    "gc.collect()"
   ]
  },
  {
   "cell_type": "code",
   "execution_count": 3,
   "id": "exterior-spotlight",
   "metadata": {
    "execution": {
     "iopub.execute_input": "2021-07-17T10:00:11.624971Z",
     "iopub.status.busy": "2021-07-17T10:00:11.624252Z",
     "iopub.status.idle": "2021-07-17T10:00:11.794113Z",
     "shell.execute_reply": "2021-07-17T10:00:11.793410Z",
     "shell.execute_reply.started": "2021-07-17T09:56:19.153935Z"
    },
    "papermill": {
     "duration": 0.20238,
     "end_time": "2021-07-17T10:00:11.794274",
     "exception": false,
     "start_time": "2021-07-17T10:00:11.591894",
     "status": "completed"
    },
    "tags": []
   },
   "outputs": [],
   "source": [
    "ds = np.load('../input/mathcothon-traineth-lightgbm/LGB_Meta_Features.npz', allow_pickle=True)\n",
    "y_pred_meta_lgb1, oof_score_lgb1, y_pred_final_lgb1 = ds['y_pred_meta_lgb1'], ds['oof_score1'], ds['y_pred_final_lgb1']\n",
    "y_pred_meta_lgb2, oof_score_lgb2, y_pred_final_lgb2 = ds['y_pred_meta_lgb2'], ds['oof_score2'], ds['y_pred_final_lgb2']\n",
    "\n",
    "ds = np.load('../input/mathcothon-traineth-lightgbm-v2/LGB_Meta_Features.npz', allow_pickle=True)\n",
    "y_pred_meta_lgb3, oof_score_lgb3, y_pred_final_lgb3 = ds['y_pred_meta_lgb1'], ds['oof_score1'], ds['y_pred_final_lgb1']\n",
    "y_pred_meta_lgb4, oof_score_lgb4, y_pred_final_lgb4 = ds['y_pred_meta_lgb2'], ds['oof_score2'], ds['y_pred_final_lgb2']\n",
    "\n",
    "ds = np.load('../input/mathcothon-traineth-lightgbm-v3/LGB_Meta_Features.npz', allow_pickle=True)\n",
    "y_pred_meta_lgb5, oof_score_lgb5, y_pred_final_lgb5 = ds['y_pred_meta_lgb1'], ds['oof_score1'], ds['y_pred_final_lgb1']\n",
    "y_pred_meta_lgb6, oof_score_lgb6, y_pred_final_lgb6 = ds['y_pred_meta_lgb2'], ds['oof_score2'], ds['y_pred_final_lgb2']\n",
    "\n",
    "ds = np.load('../input/mathcothon-traineth-lightgbm-v4/LGB_Meta_Features.npz', allow_pickle=True)\n",
    "y_pred_meta_lgb7, oof_score_lgb7, y_pred_final_lgb7 = ds['y_pred_meta_lgb1'], ds['oof_score1'], ds['y_pred_final_lgb1']\n",
    "y_pred_meta_lgb8, oof_score_lgb8, y_pred_final_lgb8 = ds['y_pred_meta_lgb2'], ds['oof_score2'], ds['y_pred_final_lgb2']\n",
    "\n",
    "ds = np.load('../input/mathcothon-traineth-catboost/CB_Meta_Features.npz', allow_pickle=True)\n",
    "y_pred_meta_cb1, oof_score_cb1, y_pred_final_cb1 = ds['y_pred_meta_cb1'], ds['oof_score1'], ds['y_pred_final_cb1']\n",
    "y_pred_meta_cb2, oof_score_cb2, y_pred_final_cb2 = ds['y_pred_meta_cb2'], ds['oof_score2'], ds['y_pred_final_cb2']\n",
    "\n",
    "ds = np.load('../input/mathcothon-traineth-catboost-v2/CB_Meta_Features.npz', allow_pickle=True)\n",
    "y_pred_meta_cb3, oof_score_cb3, y_pred_final_cb3 = ds['y_pred_meta_cb1'], ds['oof_score1'], ds['y_pred_final_cb1']\n",
    "y_pred_meta_cb4, oof_score_cb4, y_pred_final_cb4 = ds['y_pred_meta_cb2'], ds['oof_score2'], ds['y_pred_final_cb2']\n",
    "\n",
    "ds = np.load('../input/mathcothon-traineth-catboost-v3/CB_Meta_Features.npz', allow_pickle=True)\n",
    "y_pred_meta_cb5, oof_score_cb5, y_pred_final_cb5 = ds['y_pred_meta_cb1'], ds['oof_score1'], ds['y_pred_final_cb1']\n",
    "y_pred_meta_cb6, oof_score_cb6, y_pred_final_cb6 = ds['y_pred_meta_cb2'], ds['oof_score2'], ds['y_pred_final_cb2']\n",
    "\n",
    "ds = np.load('../input/mathcothon-traineth-catboost-v4/CB_Meta_Features.npz', allow_pickle=True)\n",
    "y_pred_meta_cb7, oof_score_cb7, y_pred_final_cb7 = ds['y_pred_meta_cb1'], ds['oof_score1'], ds['y_pred_final_cb1']\n",
    "y_pred_meta_cb8, oof_score_cb8, y_pred_final_cb8 = ds['y_pred_meta_cb2'], ds['oof_score2'], ds['y_pred_final_cb2']"
   ]
  },
  {
   "cell_type": "markdown",
   "id": "individual-combination",
   "metadata": {
    "papermill": {
     "duration": 0.024193,
     "end_time": "2021-07-17T10:00:11.842696",
     "exception": false,
     "start_time": "2021-07-17T10:00:11.818503",
     "status": "completed"
    },
    "tags": []
   },
   "source": [
    "## Base Models Performance"
   ]
  },
  {
   "cell_type": "code",
   "execution_count": 4,
   "id": "concerned-combat",
   "metadata": {
    "execution": {
     "iopub.execute_input": "2021-07-17T10:00:11.907644Z",
     "iopub.status.busy": "2021-07-17T10:00:11.903182Z",
     "iopub.status.idle": "2021-07-17T10:00:12.304536Z",
     "shell.execute_reply": "2021-07-17T10:00:12.305013Z",
     "shell.execute_reply.started": "2021-07-17T09:56:22.188876Z"
    },
    "papermill": {
     "duration": 0.438459,
     "end_time": "2021-07-17T10:00:12.305184",
     "exception": false,
     "start_time": "2021-07-17T10:00:11.866725",
     "status": "completed"
    },
    "tags": []
   },
   "outputs": [
    {
     "data": {
      "image/png": "[encoded data removed]",
      "text/plain": [
       "<Figure size 1440x432 with 1 Axes>"
      ]
     },
     "metadata": {},
     "output_type": "display_data"
    }
   ],
   "source": [
    "scores={\n",
    "    'LGB-v1': float(oof_score_lgb1),\n",
    "    'LGB-v2': float(oof_score_lgb2),\n",
    "    'LGB-v3': float(oof_score_lgb3),\n",
    "    'LGB-v4': float(oof_score_lgb4),\n",
    "    'LGB-v5': float(oof_score_lgb5),\n",
    "    'LGB-v6': float(oof_score_lgb6),\n",
    "    'LGB-v7': float(oof_score_lgb7),\n",
    "    'LGB-v8': float(oof_score_lgb8),\n",
    "    'CB-v1': float(oof_score_cb1),\n",
    "    'CB-v2': float(oof_score_cb2),\n",
    "    'CB-v3': float(oof_score_cb3),\n",
    "    'CB-v4': float(oof_score_cb4),\n",
    "    'CB-v5': float(oof_score_cb5),\n",
    "    'CB-v6': float(oof_score_cb6),\n",
    "    'CB-v7': float(oof_score_cb7),\n",
    "    'CB-v8': float(oof_score_cb8)\n",
    "}\n",
    "\n",
    "sns.set_style(\"white\")\n",
    "fig = plt.figure(figsize=(20, 6))\n",
    "\n",
    "ax = sns.pointplot(x=list(scores.keys()), y=[score for score in list(scores.values())], markers=['o'], linestyles=['-'])\n",
    "for i, score in enumerate(list(scores.values())):\n",
    "    ax.text(i, score, '{:.6f}'.format(score), horizontalalignment='left', size='medium', color='black', weight='semibold')\n",
    "\n",
    "plt.ylabel('Score (RMSLE)', size=20, labelpad=12.5)\n",
    "plt.xlabel('Base Models', size=20, labelpad=12.5)\n",
    "plt.tick_params(axis='x', labelsize=13.5)\n",
    "plt.tick_params(axis='y', labelsize=12.5)\n",
    "plt.show()"
   ]
  },
  {
   "cell_type": "markdown",
   "id": "separated-marks",
   "metadata": {
    "papermill": {
     "duration": 0.026306,
     "end_time": "2021-07-17T10:00:12.358052",
     "exception": false,
     "start_time": "2021-07-17T10:00:12.331746",
     "status": "completed"
    },
    "tags": []
   },
   "source": [
    "## Weighted Average Submission"
   ]
  },
  {
   "cell_type": "code",
   "execution_count": 5,
   "id": "rental-dominican",
   "metadata": {
    "execution": {
     "iopub.execute_input": "2021-07-17T10:00:12.414454Z",
     "iopub.status.busy": "2021-07-17T10:00:12.413784Z",
     "iopub.status.idle": "2021-07-17T10:00:12.420774Z",
     "shell.execute_reply": "2021-07-17T10:00:12.420167Z",
     "shell.execute_reply.started": "2021-07-17T09:58:51.087374Z"
    },
    "papermill": {
     "duration": 0.036141,
     "end_time": "2021-07-17T10:00:12.420922",
     "exception": false,
     "start_time": "2021-07-17T10:00:12.384781",
     "status": "completed"
    },
    "tags": []
   },
   "outputs": [],
   "source": [
    "y_pred_final_lgb = (((y_pred_final_lgb1 + y_pred_final_lgb2 + y_pred_final_lgb5 + y_pred_final_lgb6)/4.0)*0.7) + \\\n",
    "                   (((y_pred_final_lgb3 + y_pred_final_lgb4 + y_pred_final_lgb7 + y_pred_final_lgb8)/4.0)*0.3)\n",
    "\n",
    "y_pred_final_cb = (((y_pred_final_cb1 + y_pred_final_cb2 + y_pred_final_cb5 + y_pred_final_cb6)/4.0)*0.7) + \\\n",
    "                  (((y_pred_final_cb3 + y_pred_final_cb4 + y_pred_final_cb7 + y_pred_final_cb8)/4.0)*0.3)\n",
    "\n",
    "y_pred_final = (y_pred_final_lgb * 0.5) + (y_pred_final_cb * 0.5)"
   ]
  },
  {
   "cell_type": "code",
   "execution_count": 6,
   "id": "personal-piano",
   "metadata": {
    "execution": {
     "iopub.execute_input": "2021-07-17T10:00:12.481539Z",
     "iopub.status.busy": "2021-07-17T10:00:12.480719Z",
     "iopub.status.idle": "2021-07-17T10:00:12.765558Z",
     "shell.execute_reply": "2021-07-17T10:00:12.766491Z",
     "shell.execute_reply.started": "2021-07-17T09:58:53.144933Z"
    },
    "papermill": {
     "duration": 0.319046,
     "end_time": "2021-07-17T10:00:12.766731",
     "exception": false,
     "start_time": "2021-07-17T10:00:12.447685",
     "status": "completed"
    },
    "tags": []
   },
   "outputs": [
    {
     "name": "stdout",
     "output_type": "stream",
     "text": [
      "Num records after Step-1: 15725\n",
      "Num records after Step-2: 15463\n"
     ]
    }
   ],
   "source": [
    "train_df = pd.read_csv(\"../input/mathcothon/train.csv\")\n",
    "test_df = pd.read_csv(\"../input/mathcothon/test.csv\")\n",
    "\n",
    "check_cols = [col for col in train_df.columns if col != 'ID']\n",
    "train_df = train_df[~train_df.duplicated(subset=check_cols, keep='first')].copy()\n",
    "print(f\"Num records after Step-1: {train_df.shape[0]}\")\n",
    "\n",
    "check_cols = [col for col in train_df.columns if col not in ['ID','Price']]\n",
    "train_df = train_df.groupby(check_cols).agg({'Price':'median'}).reset_index().copy()\n",
    "print(f\"Num records after Step-2: {train_df.shape[0]}\")"
   ]
  },
  {
   "cell_type": "code",
   "execution_count": 7,
   "id": "upper-transaction",
   "metadata": {
    "execution": {
     "iopub.execute_input": "2021-07-17T10:00:12.831625Z",
     "iopub.status.busy": "2021-07-17T10:00:12.830924Z",
     "iopub.status.idle": "2021-07-17T10:00:13.081379Z",
     "shell.execute_reply": "2021-07-17T10:00:13.080518Z",
     "shell.execute_reply.started": "2021-07-17T09:58:54.424971Z"
    },
    "papermill": {
     "duration": 0.285938,
     "end_time": "2021-07-17T10:00:13.081543",
     "exception": false,
     "start_time": "2021-07-17T10:00:12.795605",
     "status": "completed"
    },
    "tags": []
   },
   "outputs": [
    {
     "name": "stdout",
     "output_type": "stream",
     "text": [
      "df: (8245, 19)\n"
     ]
    },
    {
     "data": {
      "text/html": [
       "<div>\n",
       "<style scoped>\n",
       "    .dataframe tbody tr th:only-of-type {\n",
       "        vertical-align: middle;\n",
       "    }\n",
       "\n",
       "    .dataframe tbody tr th {\n",
       "        vertical-align: top;\n",
       "    }\n",
       "\n",
       "    .dataframe thead th {\n",
       "        text-align: right;\n",
       "    }\n",
       "</style>\n",
       "<table border=\"1\" class=\"dataframe\">\n",
       "  <thead>\n",
       "    <tr style=\"text-align: right;\">\n",
       "      <th></th>\n",
       "      <th>Levy</th>\n",
       "      <th>Manufacturer</th>\n",
       "      <th>Model</th>\n",
       "      <th>Prod. year</th>\n",
       "      <th>Category</th>\n",
       "      <th>Leather interior</th>\n",
       "      <th>Fuel type</th>\n",
       "      <th>Engine volume</th>\n",
       "      <th>Mileage</th>\n",
       "      <th>Cylinders</th>\n",
       "      <th>Gear box type</th>\n",
       "      <th>Drive wheels</th>\n",
       "      <th>Doors</th>\n",
       "      <th>Wheel</th>\n",
       "      <th>Color</th>\n",
       "      <th>Airbags</th>\n",
       "      <th>Train_Price</th>\n",
       "      <th>Predicted_Price</th>\n",
       "      <th>Price</th>\n",
       "    </tr>\n",
       "  </thead>\n",
       "  <tbody>\n",
       "    <tr>\n",
       "      <th>0</th>\n",
       "      <td>-</td>\n",
       "      <td>VOLKSWAGEN</td>\n",
       "      <td>Golf</td>\n",
       "      <td>2012</td>\n",
       "      <td>Hatchback</td>\n",
       "      <td>No</td>\n",
       "      <td>Diesel</td>\n",
       "      <td>2.0 Turbo</td>\n",
       "      <td>0 km</td>\n",
       "      <td>4</td>\n",
       "      <td>Manual</td>\n",
       "      <td>Front</td>\n",
       "      <td>02-Mar</td>\n",
       "      <td>Left wheel</td>\n",
       "      <td>Grey</td>\n",
       "      <td>10</td>\n",
       "      <td>NaN</td>\n",
       "      <td>10591.293689</td>\n",
       "      <td>10591.293689</td>\n",
       "    </tr>\n",
       "    <tr>\n",
       "      <th>1</th>\n",
       "      <td>-</td>\n",
       "      <td>HYUNDAI</td>\n",
       "      <td>Sonata</td>\n",
       "      <td>2012</td>\n",
       "      <td>Sedan</td>\n",
       "      <td>Yes</td>\n",
       "      <td>Petrol</td>\n",
       "      <td>2.4</td>\n",
       "      <td>26000 km</td>\n",
       "      <td>4</td>\n",
       "      <td>Tiptronic</td>\n",
       "      <td>Front</td>\n",
       "      <td>04-May</td>\n",
       "      <td>Left wheel</td>\n",
       "      <td>Grey</td>\n",
       "      <td>10</td>\n",
       "      <td>NaN</td>\n",
       "      <td>9651.961636</td>\n",
       "      <td>9651.961636</td>\n",
       "    </tr>\n",
       "    <tr>\n",
       "      <th>2</th>\n",
       "      <td>-</td>\n",
       "      <td>NISSAN</td>\n",
       "      <td>Tiida</td>\n",
       "      <td>2005</td>\n",
       "      <td>Sedan</td>\n",
       "      <td>No</td>\n",
       "      <td>Petrol</td>\n",
       "      <td>1.5</td>\n",
       "      <td>168000 km</td>\n",
       "      <td>4</td>\n",
       "      <td>Automatic</td>\n",
       "      <td>Front</td>\n",
       "      <td>04-May</td>\n",
       "      <td>Right-hand drive</td>\n",
       "      <td>Sky blue</td>\n",
       "      <td>8</td>\n",
       "      <td>NaN</td>\n",
       "      <td>8289.132249</td>\n",
       "      <td>8289.132249</td>\n",
       "    </tr>\n",
       "    <tr>\n",
       "      <th>3</th>\n",
       "      <td>975</td>\n",
       "      <td>VOLVO</td>\n",
       "      <td>XC90</td>\n",
       "      <td>2012</td>\n",
       "      <td>Jeep</td>\n",
       "      <td>Yes</td>\n",
       "      <td>Petrol</td>\n",
       "      <td>3.2</td>\n",
       "      <td>143000 km</td>\n",
       "      <td>6</td>\n",
       "      <td>Automatic</td>\n",
       "      <td>4x4</td>\n",
       "      <td>04-May</td>\n",
       "      <td>Left wheel</td>\n",
       "      <td>Blue</td>\n",
       "      <td>12</td>\n",
       "      <td>NaN</td>\n",
       "      <td>5897.242535</td>\n",
       "      <td>5897.242535</td>\n",
       "    </tr>\n",
       "    <tr>\n",
       "      <th>4</th>\n",
       "      <td>-</td>\n",
       "      <td>OPEL</td>\n",
       "      <td>Astra</td>\n",
       "      <td>1993</td>\n",
       "      <td>Hatchback</td>\n",
       "      <td>No</td>\n",
       "      <td>Petrol</td>\n",
       "      <td>1.6</td>\n",
       "      <td>200000 km</td>\n",
       "      <td>4</td>\n",
       "      <td>Manual</td>\n",
       "      <td>Front</td>\n",
       "      <td>04-May</td>\n",
       "      <td>Left wheel</td>\n",
       "      <td>Black</td>\n",
       "      <td>0</td>\n",
       "      <td>NaN</td>\n",
       "      <td>3537.993287</td>\n",
       "      <td>3537.993287</td>\n",
       "    </tr>\n",
       "  </tbody>\n",
       "</table>\n",
       "</div>"
      ],
      "text/plain": [
       "  Levy Manufacturer   Model  Prod. year   Category Leather interior Fuel type  \\\n",
       "0    -   VOLKSWAGEN    Golf        2012  Hatchback               No    Diesel   \n",
       "1    -      HYUNDAI  Sonata        2012      Sedan              Yes    Petrol   \n",
       "2    -       NISSAN   Tiida        2005      Sedan               No    Petrol   \n",
       "3  975        VOLVO    XC90        2012       Jeep              Yes    Petrol   \n",
       "4    -         OPEL   Astra        1993  Hatchback               No    Petrol   \n",
       "\n",
       "  Engine volume    Mileage  Cylinders Gear box type Drive wheels   Doors  \\\n",
       "0     2.0 Turbo       0 km          4        Manual        Front  02-Mar   \n",
       "1           2.4   26000 km          4     Tiptronic        Front  04-May   \n",
       "2           1.5  168000 km          4     Automatic        Front  04-May   \n",
       "3           3.2  143000 km          6     Automatic          4x4  04-May   \n",
       "4           1.6  200000 km          4        Manual        Front  04-May   \n",
       "\n",
       "              Wheel     Color  Airbags  Train_Price  Predicted_Price  \\\n",
       "0        Left wheel      Grey       10          NaN     10591.293689   \n",
       "1        Left wheel      Grey       10          NaN      9651.961636   \n",
       "2  Right-hand drive  Sky blue        8          NaN      8289.132249   \n",
       "3        Left wheel      Blue       12          NaN      5897.242535   \n",
       "4        Left wheel     Black        0          NaN      3537.993287   \n",
       "\n",
       "          Price  \n",
       "0  10591.293689  \n",
       "1   9651.961636  \n",
       "2   8289.132249  \n",
       "3   5897.242535  \n",
       "4   3537.993287  "
      ]
     },
     "execution_count": 7,
     "metadata": {},
     "output_type": "execute_result"
    }
   ],
   "source": [
    "train_cols = [col for col in train_df.columns if col != 'ID']\n",
    "test_cols = [col for col in test_df.columns if col not in ['ID','Price']]\n",
    "\n",
    "df = pd.merge(\n",
    "    test_df[test_cols], \n",
    "    train_df[train_cols], \n",
    "    how='left', \n",
    "    on=test_cols,\n",
    "    sort=False\n",
    ")\n",
    "\n",
    "df = df.rename(columns={'Price': 'Train_Price'})\n",
    "df['Predicted_Price'] = np.exp(y_pred_final.ravel())\n",
    "df['Price'] = df.apply(lambda row: row['Predicted_Price'] if pd.isnull(row['Train_Price']) else row['Train_Price'], axis=1)\n",
    "print(f\"df: {df.shape}\")\n",
    "df.head()"
   ]
  },
  {
   "cell_type": "code",
   "execution_count": 8,
   "id": "unable-peace",
   "metadata": {
    "execution": {
     "iopub.execute_input": "2021-07-17T10:00:13.157373Z",
     "iopub.status.busy": "2021-07-17T10:00:13.146126Z",
     "iopub.status.idle": "2021-07-17T10:00:13.175932Z",
     "shell.execute_reply": "2021-07-17T10:00:13.175333Z",
     "shell.execute_reply.started": "2021-07-17T09:58:55.816999Z"
    },
    "papermill": {
     "duration": 0.066505,
     "end_time": "2021-07-17T10:00:13.176102",
     "exception": false,
     "start_time": "2021-07-17T10:00:13.109597",
     "status": "completed"
    },
    "tags": []
   },
   "outputs": [],
   "source": [
    "df.loc[df['Manufacturer']=='TESLA','Price'] = 53941\n",
    "df.loc[df['Manufacturer']=='SATURN','Price'] = 13799\n",
    "df.loc[df['Manufacturer']=='ASTON MARTIN','Price'] = 54000\n",
    "df.loc[(df['Manufacturer']=='GREATWALL')&(df['Model']=='C30'),'Price'] = 10036\n",
    "\n",
    "df.loc[df['Prod. year']==1943,'Price'] = 119172\n",
    "df.loc[df['Prod. year']==1968,'Price'] = 2200\n",
    "df.loc[df['Prod. year']==1981,'Price'] = 2800\n",
    "\n",
    "df.loc[df['Fuel type']=='Hydrogen','Price'] = 20385\n",
    "\n",
    "df.loc[df['Engine volume']=='0.3 Turbo', 'Price'] = 6272\n",
    "df.loc[df['Engine volume']=='0.5', 'Price'] = 1300\n",
    "df.loc[df['Engine volume']=='0.8 Turbo', 'Price'] = 6272\n",
    "df.loc[df['Engine volume']=='3.1', 'Price'] = 8781\n",
    "df.loc[df['Engine volume']=='5.2', 'Price'] = 13000\n",
    "df.loc[df['Engine volume']=='6.7', 'Price'] = 1019"
   ]
  },
  {
   "cell_type": "code",
   "execution_count": 9,
   "id": "direct-blade",
   "metadata": {
    "execution": {
     "iopub.execute_input": "2021-07-17T10:00:13.239827Z",
     "iopub.status.busy": "2021-07-17T10:00:13.239105Z",
     "iopub.status.idle": "2021-07-17T10:00:13.274926Z",
     "shell.execute_reply": "2021-07-17T10:00:13.274322Z",
     "shell.execute_reply.started": "2021-07-17T09:58:57.789319Z"
    },
    "papermill": {
     "duration": 0.070937,
     "end_time": "2021-07-17T10:00:13.275080",
     "exception": false,
     "start_time": "2021-07-17T10:00:13.204143",
     "status": "completed"
    },
    "tags": []
   },
   "outputs": [
    {
     "data": {
      "text/html": [
       "<div>\n",
       "<style scoped>\n",
       "    .dataframe tbody tr th:only-of-type {\n",
       "        vertical-align: middle;\n",
       "    }\n",
       "\n",
       "    .dataframe tbody tr th {\n",
       "        vertical-align: top;\n",
       "    }\n",
       "\n",
       "    .dataframe thead th {\n",
       "        text-align: right;\n",
       "    }\n",
       "</style>\n",
       "<table border=\"1\" class=\"dataframe\">\n",
       "  <thead>\n",
       "    <tr style=\"text-align: right;\">\n",
       "      <th></th>\n",
       "      <th>Price</th>\n",
       "    </tr>\n",
       "  </thead>\n",
       "  <tbody>\n",
       "    <tr>\n",
       "      <th>0</th>\n",
       "      <td>10591.293689</td>\n",
       "    </tr>\n",
       "    <tr>\n",
       "      <th>1</th>\n",
       "      <td>9651.961636</td>\n",
       "    </tr>\n",
       "    <tr>\n",
       "      <th>2</th>\n",
       "      <td>8289.132249</td>\n",
       "    </tr>\n",
       "    <tr>\n",
       "      <th>3</th>\n",
       "      <td>5897.242535</td>\n",
       "    </tr>\n",
       "    <tr>\n",
       "      <th>4</th>\n",
       "      <td>3537.993287</td>\n",
       "    </tr>\n",
       "  </tbody>\n",
       "</table>\n",
       "</div>"
      ],
      "text/plain": [
       "          Price\n",
       "0  10591.293689\n",
       "1   9651.961636\n",
       "2   8289.132249\n",
       "3   5897.242535\n",
       "4   3537.993287"
      ]
     },
     "execution_count": 9,
     "metadata": {},
     "output_type": "execute_result"
    }
   ],
   "source": [
    "submit_df = pd.DataFrame()\n",
    "submit_df['Price'] = df['Price']\n",
    "submit_df.to_csv(\"./Margarita_Submission.csv\", index=False)\n",
    "submit_df.head()"
   ]
  },
  {
   "cell_type": "markdown",
   "id": "deluxe-monthly",
   "metadata": {
    "papermill": {
     "duration": 0.027901,
     "end_time": "2021-07-17T10:00:13.331489",
     "exception": false,
     "start_time": "2021-07-17T10:00:13.303588",
     "status": "completed"
    },
    "tags": []
   },
   "source": [
    "## Models Blend"
   ]
  },
  {
   "cell_type": "markdown",
   "id": "raised-accident",
   "metadata": {
    "papermill": {
     "duration": 0.027986,
     "end_time": "2021-07-17T10:00:13.387808",
     "exception": false,
     "start_time": "2021-07-17T10:00:13.359822",
     "status": "completed"
    },
    "tags": []
   },
   "source": [
    "### Prepare data"
   ]
  },
  {
   "cell_type": "code",
   "execution_count": 10,
   "id": "overall-chrome",
   "metadata": {
    "execution": {
     "iopub.execute_input": "2021-07-17T10:00:13.453114Z",
     "iopub.status.busy": "2021-07-17T10:00:13.452444Z",
     "iopub.status.idle": "2021-07-17T10:00:13.455376Z",
     "shell.execute_reply": "2021-07-17T10:00:13.455909Z",
     "shell.execute_reply.started": "2021-07-17T09:59:02.035181Z"
    },
    "papermill": {
     "duration": 0.039993,
     "end_time": "2021-07-17T10:00:13.456093",
     "exception": false,
     "start_time": "2021-07-17T10:00:13.416100",
     "status": "completed"
    },
    "tags": []
   },
   "outputs": [],
   "source": [
    "y_pred_final_cb1 = np.array([y_pred_final_cb1]).T\n",
    "y_pred_final_cb2 = np.array([y_pred_final_cb2]).T\n",
    "y_pred_final_cb3 = np.array([y_pred_final_cb3]).T\n",
    "y_pred_final_cb4 = np.array([y_pred_final_cb4]).T\n",
    "y_pred_final_cb5 = np.array([y_pred_final_cb5]).T\n",
    "y_pred_final_cb6 = np.array([y_pred_final_cb6]).T\n",
    "y_pred_final_cb7 = np.array([y_pred_final_cb7]).T\n",
    "y_pred_final_cb8 = np.array([y_pred_final_cb8]).T\n",
    "\n",
    "y_pred_final_lgb1 = np.array([y_pred_final_lgb1]).T\n",
    "y_pred_final_lgb2 = np.array([y_pred_final_lgb2]).T\n",
    "y_pred_final_lgb3 = np.array([y_pred_final_lgb3]).T\n",
    "y_pred_final_lgb4 = np.array([y_pred_final_lgb4]).T\n",
    "y_pred_final_lgb5 = np.array([y_pred_final_lgb5]).T\n",
    "y_pred_final_lgb6 = np.array([y_pred_final_lgb6]).T\n",
    "y_pred_final_lgb7 = np.array([y_pred_final_lgb7]).T\n",
    "y_pred_final_lgb8 = np.array([y_pred_final_lgb8]).T"
   ]
  },
  {
   "cell_type": "code",
   "execution_count": 11,
   "id": "beneficial-equivalent",
   "metadata": {
    "execution": {
     "iopub.execute_input": "2021-07-17T10:00:13.515728Z",
     "iopub.status.busy": "2021-07-17T10:00:13.515039Z",
     "iopub.status.idle": "2021-07-17T10:00:13.526183Z",
     "shell.execute_reply": "2021-07-17T10:00:13.526826Z",
     "shell.execute_reply.started": "2021-07-17T09:59:02.968968Z"
    },
    "papermill": {
     "duration": 0.042581,
     "end_time": "2021-07-17T10:00:13.527014",
     "exception": false,
     "start_time": "2021-07-17T10:00:13.484433",
     "status": "completed"
    },
    "tags": []
   },
   "outputs": [
    {
     "name": "stdout",
     "output_type": "stream",
     "text": [
      "Xtrain_meta shape: (15628, 16)\n",
      "Ytrain_meta shape: (15628,)\n",
      "Xpredict_meta shape: (8245, 16)\n"
     ]
    }
   ],
   "source": [
    "Xtrain_meta = np.concatenate((y_pred_meta_cb1, y_pred_meta_lgb1,  \n",
    "                              y_pred_meta_cb2, y_pred_meta_lgb2,\n",
    "                              y_pred_meta_cb3, y_pred_meta_lgb3,\n",
    "                              y_pred_meta_cb4, y_pred_meta_lgb4,\n",
    "                              y_pred_meta_cb5, y_pred_meta_lgb5,\n",
    "                              y_pred_meta_cb6, y_pred_meta_lgb6,\n",
    "                              y_pred_meta_cb7, y_pred_meta_lgb7,\n",
    "                              y_pred_meta_cb8, y_pred_meta_lgb8), axis=1)\n",
    "\n",
    "Xpredict_meta = np.concatenate((y_pred_final_cb1, y_pred_final_lgb1, \n",
    "                                y_pred_final_cb2, y_pred_final_lgb2,\n",
    "                                y_pred_final_cb3, y_pred_final_lgb3,\n",
    "                                y_pred_final_cb4, y_pred_final_lgb4,\n",
    "                                y_pred_final_cb5, y_pred_final_lgb5,\n",
    "                                y_pred_final_cb6, y_pred_final_lgb6,\n",
    "                                y_pred_final_cb7, y_pred_final_lgb7,\n",
    "                                y_pred_final_cb8, y_pred_final_lgb8), axis=1)\n",
    "\n",
    "print(\"Xtrain_meta shape: {}\".format(Xtrain_meta.shape))\n",
    "print(\"Ytrain_meta shape: {}\".format(Ytrain_meta.shape))\n",
    "print(\"Xpredict_meta shape: {}\".format(Xpredict_meta.shape))"
   ]
  },
  {
   "cell_type": "code",
   "execution_count": 12,
   "id": "actual-texas",
   "metadata": {
    "execution": {
     "iopub.execute_input": "2021-07-17T10:00:13.587582Z",
     "iopub.status.busy": "2021-07-17T10:00:13.586906Z",
     "iopub.status.idle": "2021-07-17T10:00:13.602781Z",
     "shell.execute_reply": "2021-07-17T10:00:13.601728Z",
     "shell.execute_reply.started": "2021-07-17T09:59:03.987073Z"
    },
    "papermill": {
     "duration": 0.046837,
     "end_time": "2021-07-17T10:00:13.603037",
     "exception": false,
     "start_time": "2021-07-17T10:00:13.556200",
     "status": "completed"
    },
    "tags": []
   },
   "outputs": [
    {
     "name": "stdout",
     "output_type": "stream",
     "text": [
      "Xtrain_meta shape: (15628, 16)\n",
      "Xpredict_meta shape: (8245, 16)\n"
     ]
    }
   ],
   "source": [
    "scaler = StandardScaler().fit(Xtrain_meta)\n",
    "Xtrain_meta = scaler.transform(Xtrain_meta)\n",
    "Xpredict_meta = scaler.transform(Xpredict_meta)\n",
    "print(\"Xtrain_meta shape: {}\".format(Xtrain_meta.shape))\n",
    "print(\"Xpredict_meta shape: {}\".format(Xpredict_meta.shape))"
   ]
  },
  {
   "cell_type": "markdown",
   "id": "saved-preview",
   "metadata": {
    "papermill": {
     "duration": 0.02864,
     "end_time": "2021-07-17T10:00:13.661523",
     "exception": false,
     "start_time": "2021-07-17T10:00:13.632883",
     "status": "completed"
    },
    "tags": []
   },
   "source": [
    "### Linear Regression"
   ]
  },
  {
   "cell_type": "code",
   "execution_count": 13,
   "id": "fewer-cowboy",
   "metadata": {
    "execution": {
     "iopub.execute_input": "2021-07-17T10:00:13.729712Z",
     "iopub.status.busy": "2021-07-17T10:00:13.729026Z",
     "iopub.status.idle": "2021-07-17T10:00:14.254114Z",
     "shell.execute_reply": "2021-07-17T10:00:14.255833Z",
     "shell.execute_reply.started": "2021-07-17T09:59:06.536963Z"
    },
    "papermill": {
     "duration": 0.565798,
     "end_time": "2021-07-17T10:00:14.256138",
     "exception": false,
     "start_time": "2021-07-17T10:00:13.690340",
     "status": "completed"
    },
    "tags": []
   },
   "outputs": [
    {
     "name": "stdout",
     "output_type": "stream",
     "text": [
      "Seed-2020 | Fold-0 | OOF Score: 0.8946769629418656\n",
      "Seed-2020 | Fold-1 | OOF Score: 0.8697896118507038\n",
      "Seed-2020 | Fold-2 | OOF Score: 0.8727612941533729\n",
      "Seed-2020 | Fold-3 | OOF Score: 0.8792654214701283\n",
      "Seed-2020 | Fold-4 | OOF Score: 0.8535060200200012\n",
      "Seed-2020 | Fold-5 | OOF Score: 0.8846889659877859\n",
      "Seed-2020 | Fold-6 | OOF Score: 0.870269191687442\n",
      "Seed-2020 | Fold-7 | OOF Score: 0.9907302879252948\n",
      "Seed-2020 | Fold-8 | OOF Score: 0.8544299956680932\n",
      "Seed-2020 | Fold-9 | OOF Score: 0.912898267796218\n",
      "\n",
      "Seed: 2020 | Aggregate OOF Score: 0.8883016019500906\n",
      "\n",
      "\n",
      "Seed-2022 | Fold-0 | OOF Score: 0.8748125910914804\n",
      "Seed-2022 | Fold-1 | OOF Score: 0.852465599833226\n",
      "Seed-2022 | Fold-2 | OOF Score: 0.8919819932569953\n",
      "Seed-2022 | Fold-3 | OOF Score: 0.8541428166087703\n",
      "Seed-2022 | Fold-4 | OOF Score: 0.9224839797123496\n",
      "Seed-2022 | Fold-5 | OOF Score: 0.9406939987182055\n",
      "Seed-2022 | Fold-6 | OOF Score: 0.8955777271135851\n",
      "Seed-2022 | Fold-7 | OOF Score: 0.9069523831543529\n",
      "Seed-2022 | Fold-8 | OOF Score: 0.8790094772742733\n",
      "Seed-2022 | Fold-9 | OOF Score: 0.867807575610304\n",
      "\n",
      "Seed: 2022 | Aggregate OOF Score: 0.888592814237354\n",
      "\n",
      "\n",
      "Aggregate OOF Score: 0.8884472080937224\n"
     ]
    }
   ],
   "source": [
    "FOLD = 10\n",
    "SEEDS = [2020, 2022]\n",
    "\n",
    "y_pred_final_lr = 0\n",
    "oof_score = 0\n",
    "counter = 0\n",
    "\n",
    "\n",
    "for seed in SEEDS:\n",
    "    seed_score = 0\n",
    "\n",
    "    kfold = StratifiedKFold(n_splits=FOLD, shuffle=True, random_state=seed)\n",
    "\n",
    "    for idx, (train, val) in enumerate(kfold.split(Xtrain_meta, Ytrain_strat)):\n",
    "        counter += 1\n",
    "\n",
    "        train_x, train_y = Xtrain_meta[train], Ytrain_meta[train]\n",
    "        val_x, val_y = Xtrain_meta[val], Ytrain_meta[val]\n",
    "\n",
    "        model = LinearRegression()\n",
    "        model.fit(train_x, train_y.ravel())\n",
    "\n",
    "        y_pred = model.predict(val_x)\n",
    "        y_pred_final_lr += model.predict(Xpredict_meta)\n",
    "        \n",
    "        score = np.sqrt(mean_squared_log_error(np.exp(val_y), np.exp(y_pred)))\n",
    "        oof_score += score\n",
    "        seed_score += score\n",
    "        print(\"Seed-{} | Fold-{} | OOF Score: {}\".format(seed, idx, score))\n",
    "    \n",
    "    print(\"\\nSeed: {} | Aggregate OOF Score: {}\\n\\n\".format(seed, (seed_score / FOLD)))\n",
    "\n",
    "y_pred_final_lr /= float(counter)\n",
    "oof_score /= float(counter)\n",
    "print(\"Aggregate OOF Score: {}\".format(oof_score))"
   ]
  },
  {
   "cell_type": "markdown",
   "id": "accomplished-composer",
   "metadata": {
    "papermill": {
     "duration": 0.036753,
     "end_time": "2021-07-17T10:00:14.387998",
     "exception": false,
     "start_time": "2021-07-17T10:00:14.351245",
     "status": "completed"
    },
    "tags": []
   },
   "source": [
    "### Bayesian Ridge"
   ]
  },
  {
   "cell_type": "code",
   "execution_count": 14,
   "id": "adult-bhutan",
   "metadata": {
    "execution": {
     "iopub.execute_input": "2021-07-17T10:00:14.460070Z",
     "iopub.status.busy": "2021-07-17T10:00:14.459284Z",
     "iopub.status.idle": "2021-07-17T10:00:14.872253Z",
     "shell.execute_reply": "2021-07-17T10:00:14.873763Z",
     "shell.execute_reply.started": "2021-07-17T09:59:10.278645Z"
    },
    "papermill": {
     "duration": 0.454975,
     "end_time": "2021-07-17T10:00:14.874043",
     "exception": false,
     "start_time": "2021-07-17T10:00:14.419068",
     "status": "completed"
    },
    "tags": []
   },
   "outputs": [
    {
     "name": "stdout",
     "output_type": "stream",
     "text": [
      "Seed-2020 | Fold-0 | OOF Score: 0.8946371649421944\n",
      "Seed-2020 | Fold-1 | OOF Score: 0.8690420473122236\n",
      "Seed-2020 | Fold-2 | OOF Score: 0.8722697354836655\n",
      "Seed-2020 | Fold-3 | OOF Score: 0.8801722801022906\n",
      "Seed-2020 | Fold-4 | OOF Score: 0.8535572702663745\n",
      "Seed-2020 | Fold-5 | OOF Score: 0.883776168297714\n",
      "Seed-2020 | Fold-6 | OOF Score: 0.8699130540706825\n",
      "Seed-2020 | Fold-7 | OOF Score: 0.9909868715557553\n",
      "Seed-2020 | Fold-8 | OOF Score: 0.8546633181779419\n",
      "Seed-2020 | Fold-9 | OOF Score: 0.9119496470669395\n",
      "\n",
      "Seed: 2020 | Aggregate OOF Score: 0.8880967557275781\n",
      "\n",
      "\n",
      "Seed-2022 | Fold-0 | OOF Score: 0.8746012814593519\n",
      "Seed-2022 | Fold-1 | OOF Score: 0.8524875740958332\n",
      "Seed-2022 | Fold-2 | OOF Score: 0.8915315413884763\n",
      "Seed-2022 | Fold-3 | OOF Score: 0.8540946707618157\n",
      "Seed-2022 | Fold-4 | OOF Score: 0.9214984844805738\n",
      "Seed-2022 | Fold-5 | OOF Score: 0.9409393095468107\n",
      "Seed-2022 | Fold-6 | OOF Score: 0.8951079825920638\n",
      "Seed-2022 | Fold-7 | OOF Score: 0.9068275511921493\n",
      "Seed-2022 | Fold-8 | OOF Score: 0.8787485191455449\n",
      "Seed-2022 | Fold-9 | OOF Score: 0.8680232119219471\n",
      "\n",
      "Seed: 2022 | Aggregate OOF Score: 0.8883860126584567\n",
      "\n",
      "\n",
      "Aggregate OOF Score: 0.8882413841930175\n"
     ]
    }
   ],
   "source": [
    "FOLD = 10\n",
    "SEEDS = [2020, 2022]\n",
    "\n",
    "y_pred_final_ridge = 0\n",
    "oof_score = 0\n",
    "counter = 0\n",
    "\n",
    "\n",
    "for seed in SEEDS:\n",
    "    seed_score = 0\n",
    "\n",
    "    kfold = StratifiedKFold(n_splits=FOLD, shuffle=True, random_state=seed)\n",
    "\n",
    "    for idx, (train, val) in enumerate(kfold.split(Xtrain_meta, Ytrain_strat)):\n",
    "        counter += 1\n",
    "\n",
    "        train_x, train_y = Xtrain_meta[train], Ytrain_meta[train]\n",
    "        val_x, val_y = Xtrain_meta[val], Ytrain_meta[val]\n",
    "\n",
    "        model = BayesianRidge()\n",
    "        model.fit(train_x, train_y.ravel())\n",
    "\n",
    "        y_pred = model.predict(val_x)\n",
    "        y_pred_final_ridge += model.predict(Xpredict_meta)\n",
    "        \n",
    "        score = np.sqrt(mean_squared_log_error(np.exp(val_y), np.exp(y_pred)))\n",
    "        oof_score += score\n",
    "        seed_score += score\n",
    "        print(\"Seed-{} | Fold-{} | OOF Score: {}\".format(seed, idx, score))\n",
    "    \n",
    "    print(\"\\nSeed: {} | Aggregate OOF Score: {}\\n\\n\".format(seed, (seed_score / FOLD)))\n",
    "\n",
    "y_pred_final_ridge /= float(counter)\n",
    "oof_score /= float(counter)\n",
    "print(\"Aggregate OOF Score: {}\".format(oof_score))"
   ]
  },
  {
   "cell_type": "markdown",
   "id": "intensive-commons",
   "metadata": {
    "papermill": {
     "duration": 0.067324,
     "end_time": "2021-07-17T10:00:14.994455",
     "exception": false,
     "start_time": "2021-07-17T10:00:14.927131",
     "status": "completed"
    },
    "tags": []
   },
   "source": [
    "### MLP Regressor"
   ]
  },
  {
   "cell_type": "code",
   "execution_count": 15,
   "id": "roman-collaboration",
   "metadata": {
    "execution": {
     "iopub.execute_input": "2021-07-17T10:00:15.068982Z",
     "iopub.status.busy": "2021-07-17T10:00:15.068307Z",
     "iopub.status.idle": "2021-07-17T10:03:32.300985Z",
     "shell.execute_reply": "2021-07-17T10:03:32.302092Z",
     "shell.execute_reply.started": "2021-07-17T09:59:12.328191Z"
    },
    "papermill": {
     "duration": 197.275193,
     "end_time": "2021-07-17T10:03:32.302392",
     "exception": false,
     "start_time": "2021-07-17T10:00:15.027199",
     "status": "completed"
    },
    "tags": []
   },
   "outputs": [
    {
     "name": "stdout",
     "output_type": "stream",
     "text": [
      "Seed-2020 | Fold-0 | OOF Score: 0.9072272901444461\n",
      "Seed-2020 | Fold-1 | OOF Score: 0.8762375889991513\n",
      "Seed-2020 | Fold-2 | OOF Score: 0.8772464145237594\n",
      "Seed-2020 | Fold-3 | OOF Score: 0.8852143108225007\n",
      "Seed-2020 | Fold-4 | OOF Score: 0.8516017476082587\n",
      "Seed-2020 | Fold-5 | OOF Score: 0.8839651022573299\n",
      "Seed-2020 | Fold-6 | OOF Score: 0.874170615296548\n",
      "Seed-2020 | Fold-7 | OOF Score: 1.0166630889040391\n",
      "Seed-2020 | Fold-8 | OOF Score: 0.8672662343092271\n",
      "Seed-2020 | Fold-9 | OOF Score: 0.9125436448801485\n",
      "\n",
      "Seed: 2020 | Aggregate OOF Score: 0.895213603774541\n",
      "\n",
      "\n",
      "Seed-2022 | Fold-0 | OOF Score: 0.8846206389351043\n",
      "Seed-2022 | Fold-1 | OOF Score: 0.8548928222116401\n",
      "Seed-2022 | Fold-2 | OOF Score: 0.8964443121418961\n",
      "Seed-2022 | Fold-3 | OOF Score: 0.8525212861858001\n",
      "Seed-2022 | Fold-4 | OOF Score: 0.9176033227732678\n",
      "Seed-2022 | Fold-5 | OOF Score: 0.9493445132776753\n",
      "Seed-2022 | Fold-6 | OOF Score: 0.9081222640848444\n",
      "Seed-2022 | Fold-7 | OOF Score: 0.9137100756312174\n",
      "Seed-2022 | Fold-8 | OOF Score: 0.8815838163107907\n",
      "Seed-2022 | Fold-9 | OOF Score: 0.8763053087806647\n",
      "\n",
      "Seed: 2022 | Aggregate OOF Score: 0.8935148360332903\n",
      "\n",
      "\n",
      "Aggregate OOF Score: 0.8943642199039156\n"
     ]
    }
   ],
   "source": [
    "FOLD = 10\n",
    "SEEDS = [2020, 2022]\n",
    "\n",
    "y_pred_final_mlp = 0\n",
    "oof_score = 0\n",
    "counter = 0\n",
    "\n",
    "\n",
    "for seed in SEEDS:\n",
    "    seed_score = 0\n",
    "\n",
    "    kfold = StratifiedKFold(n_splits=FOLD, shuffle=True, random_state=seed)\n",
    "\n",
    "    for idx, (train, val) in enumerate(kfold.split(Xtrain_meta, Ytrain_strat)):\n",
    "        counter += 1\n",
    "\n",
    "        train_x, train_y = Xtrain_meta[train], Ytrain_meta[train]\n",
    "        val_x, val_y = Xtrain_meta[val], Ytrain_meta[val]\n",
    "\n",
    "        model = MLPRegressor(\n",
    "            hidden_layer_sizes=(32, 12),\n",
    "            learning_rate='adaptive',\n",
    "            early_stopping=True,\n",
    "            n_iter_no_change=50,\n",
    "            random_state=seed+idx, \n",
    "            max_iter=1500,\n",
    "            verbose=False\n",
    "        )\n",
    "        model.fit(train_x, train_y.ravel())\n",
    "\n",
    "        y_pred = model.predict(val_x)\n",
    "        y_pred_final_mlp += model.predict(Xpredict_meta)\n",
    "        \n",
    "        score = np.sqrt(mean_squared_log_error(np.exp(val_y), np.exp(y_pred)))\n",
    "        oof_score += score\n",
    "        seed_score += score\n",
    "        print(\"Seed-{} | Fold-{} | OOF Score: {}\".format(seed, idx, score))\n",
    "    \n",
    "    print(\"\\nSeed: {} | Aggregate OOF Score: {}\\n\\n\".format(seed, (seed_score / FOLD)))\n",
    "\n",
    "y_pred_final_mlp /= float(counter)\n",
    "oof_score /= float(counter)\n",
    "print(\"Aggregate OOF Score: {}\".format(oof_score))"
   ]
  },
  {
   "cell_type": "markdown",
   "id": "historic-differential",
   "metadata": {
    "papermill": {
     "duration": 0.057787,
     "end_time": "2021-07-17T10:03:32.425843",
     "exception": false,
     "start_time": "2021-07-17T10:03:32.368056",
     "status": "completed"
    },
    "tags": []
   },
   "source": [
    "### Voting Regressor"
   ]
  },
  {
   "cell_type": "code",
   "execution_count": 16,
   "id": "creative-learning",
   "metadata": {
    "execution": {
     "iopub.execute_input": "2021-07-17T10:03:32.512709Z",
     "iopub.status.busy": "2021-07-17T10:03:32.511676Z",
     "iopub.status.idle": "2021-07-17T10:06:50.178251Z",
     "shell.execute_reply": "2021-07-17T10:06:50.179293Z",
     "shell.execute_reply.started": "2021-07-16T15:02:22.515686Z"
    },
    "papermill": {
     "duration": 197.716789,
     "end_time": "2021-07-17T10:06:50.179583",
     "exception": false,
     "start_time": "2021-07-17T10:03:32.462794",
     "status": "completed"
    },
    "tags": []
   },
   "outputs": [
    {
     "name": "stdout",
     "output_type": "stream",
     "text": [
      "Seed-2020 | Fold-0 | OOF Score: 0.8966439403583681\n",
      "Seed-2020 | Fold-1 | OOF Score: 0.8699968483601611\n",
      "Seed-2020 | Fold-2 | OOF Score: 0.872521397185743\n",
      "Seed-2020 | Fold-3 | OOF Score: 0.8801602429080686\n",
      "Seed-2020 | Fold-4 | OOF Score: 0.8516000142658858\n",
      "Seed-2020 | Fold-5 | OOF Score: 0.881509038009003\n",
      "Seed-2020 | Fold-6 | OOF Score: 0.8699850629215663\n",
      "Seed-2020 | Fold-7 | OOF Score: 0.9962209958424846\n",
      "Seed-2020 | Fold-8 | OOF Score: 0.8568867456200511\n",
      "Seed-2020 | Fold-9 | OOF Score: 0.9111929781724728\n",
      "\n",
      "Seed: 2020 | Aggregate OOF Score: 0.8886717263643806\n",
      "\n",
      "\n",
      "Seed-2022 | Fold-0 | OOF Score: 0.8762892761772096\n",
      "Seed-2022 | Fold-1 | OOF Score: 0.851756707123382\n",
      "Seed-2022 | Fold-2 | OOF Score: 0.8913007152142578\n",
      "Seed-2022 | Fold-3 | OOF Score: 0.8520683697674187\n",
      "Seed-2022 | Fold-4 | OOF Score: 0.9193684666666739\n",
      "Seed-2022 | Fold-5 | OOF Score: 0.9422867929864327\n",
      "Seed-2022 | Fold-6 | OOF Score: 0.8979372923842335\n",
      "Seed-2022 | Fold-7 | OOF Score: 0.9077013241476432\n",
      "Seed-2022 | Fold-8 | OOF Score: 0.8782472672942732\n",
      "Seed-2022 | Fold-9 | OOF Score: 0.8685832312776098\n",
      "\n",
      "Seed: 2022 | Aggregate OOF Score: 0.8885539443039134\n",
      "\n",
      "\n",
      "Aggregate OOF Score: 0.8886128353341471\n"
     ]
    }
   ],
   "source": [
    "FOLD = 10\n",
    "SEEDS = [2020, 2022]\n",
    "\n",
    "y_pred_final_vc = 0\n",
    "oof_score = 0\n",
    "counter = 0\n",
    "\n",
    "\n",
    "for seed in SEEDS:\n",
    "    seed_score = 0\n",
    "\n",
    "    kfold = StratifiedKFold(n_splits=FOLD, shuffle=True, random_state=seed)\n",
    "\n",
    "    for idx, (train, val) in enumerate(kfold.split(Xtrain_meta, Ytrain_strat)):\n",
    "        counter += 1\n",
    "\n",
    "        train_x, train_y = Xtrain_meta[train], Ytrain_meta[train]\n",
    "        val_x, val_y = Xtrain_meta[val], Ytrain_meta[val]\n",
    "\n",
    "        lr = LinearRegression()\n",
    "        ridge = BayesianRidge()\n",
    "        mlp = MLPRegressor(\n",
    "            hidden_layer_sizes=(32, 12),\n",
    "            learning_rate='adaptive',\n",
    "            early_stopping=True,\n",
    "            n_iter_no_change=50,\n",
    "            random_state=seed+idx, \n",
    "            max_iter=1500,\n",
    "            verbose=False\n",
    "        )\n",
    "        \n",
    "        model = VotingRegressor([('lr', lr), ('ridge', ridge), ('mlp', mlp)],\n",
    "                                weights=[1,1,1])\n",
    "        \n",
    "        model.fit(train_x, train_y.ravel())\n",
    "\n",
    "        y_pred = model.predict(val_x)\n",
    "        y_pred_final_vc += model.predict(Xpredict_meta)\n",
    "        \n",
    "        score = np.sqrt(mean_squared_log_error(np.exp(val_y), np.exp(y_pred)))\n",
    "        oof_score += score\n",
    "        seed_score += score\n",
    "        print(\"Seed-{} | Fold-{} | OOF Score: {}\".format(seed, idx, score))\n",
    "    \n",
    "    print(\"\\nSeed: {} | Aggregate OOF Score: {}\\n\\n\".format(seed, (seed_score / FOLD)))\n",
    "\n",
    "y_pred_final_vc /= float(counter)\n",
    "oof_score /= float(counter)\n",
    "print(\"Aggregate OOF Score: {}\".format(oof_score))"
   ]
  },
  {
   "cell_type": "markdown",
   "id": "historic-foundation",
   "metadata": {
    "papermill": {
     "duration": 0.058472,
     "end_time": "2021-07-17T10:06:50.314599",
     "exception": false,
     "start_time": "2021-07-17T10:06:50.256127",
     "status": "completed"
    },
    "tags": []
   },
   "source": [
    "## Blend Submission"
   ]
  },
  {
   "cell_type": "code",
   "execution_count": 17,
   "id": "forbidden-america",
   "metadata": {
    "execution": {
     "iopub.execute_input": "2021-07-17T10:06:50.406443Z",
     "iopub.status.busy": "2021-07-17T10:06:50.405788Z",
     "iopub.status.idle": "2021-07-17T10:06:50.407545Z",
     "shell.execute_reply": "2021-07-17T10:06:50.408105Z",
     "shell.execute_reply.started": "2021-07-16T15:09:26.793036Z"
    },
    "papermill": {
     "duration": 0.050333,
     "end_time": "2021-07-17T10:06:50.408287",
     "exception": false,
     "start_time": "2021-07-17T10:06:50.357954",
     "status": "completed"
    },
    "tags": []
   },
   "outputs": [],
   "source": [
    "y_pred_final = (y_pred_final_lr * 0.3) + (y_pred_final_ridge * 0.3) + (y_pred_final_mlp * 0.1) + (y_pred_final_vc * 0.3)"
   ]
  },
  {
   "cell_type": "code",
   "execution_count": 18,
   "id": "governmental-excerpt",
   "metadata": {
    "execution": {
     "iopub.execute_input": "2021-07-17T10:06:50.497511Z",
     "iopub.status.busy": "2021-07-17T10:06:50.496854Z",
     "iopub.status.idle": "2021-07-17T10:06:50.727019Z",
     "shell.execute_reply": "2021-07-17T10:06:50.727523Z",
     "shell.execute_reply.started": "2021-07-16T15:09:27.819866Z"
    },
    "papermill": {
     "duration": 0.27642,
     "end_time": "2021-07-17T10:06:50.727697",
     "exception": false,
     "start_time": "2021-07-17T10:06:50.451277",
     "status": "completed"
    },
    "tags": []
   },
   "outputs": [
    {
     "name": "stdout",
     "output_type": "stream",
     "text": [
      "Num records after Step-1: 15725\n",
      "Num records after Step-2: 15463\n"
     ]
    }
   ],
   "source": [
    "train_df = pd.read_csv(\"../input/mathcothon/train.csv\")\n",
    "test_df = pd.read_csv(\"../input/mathcothon/test.csv\")\n",
    "\n",
    "check_cols = [col for col in train_df.columns if col != 'ID']\n",
    "train_df = train_df[~train_df.duplicated(subset=check_cols, keep='first')].copy()\n",
    "print(f\"Num records after Step-1: {train_df.shape[0]}\")\n",
    "\n",
    "check_cols = [col for col in train_df.columns if col not in ['ID','Price']]\n",
    "train_df = train_df.groupby(check_cols).agg({'Price':'median'}).reset_index().copy()\n",
    "print(f\"Num records after Step-2: {train_df.shape[0]}\")"
   ]
  },
  {
   "cell_type": "code",
   "execution_count": 19,
   "id": "copyrighted-artwork",
   "metadata": {
    "execution": {
     "iopub.execute_input": "2021-07-17T10:06:50.818509Z",
     "iopub.status.busy": "2021-07-17T10:06:50.817885Z",
     "iopub.status.idle": "2021-07-17T10:06:51.061595Z",
     "shell.execute_reply": "2021-07-17T10:06:51.061023Z",
     "shell.execute_reply.started": "2021-07-16T15:09:29.343073Z"
    },
    "papermill": {
     "duration": 0.289929,
     "end_time": "2021-07-17T10:06:51.061747",
     "exception": false,
     "start_time": "2021-07-17T10:06:50.771818",
     "status": "completed"
    },
    "tags": []
   },
   "outputs": [
    {
     "name": "stdout",
     "output_type": "stream",
     "text": [
      "df: (8245, 19)\n"
     ]
    },
    {
     "data": {
      "text/html": [
       "<div>\n",
       "<style scoped>\n",
       "    .dataframe tbody tr th:only-of-type {\n",
       "        vertical-align: middle;\n",
       "    }\n",
       "\n",
       "    .dataframe tbody tr th {\n",
       "        vertical-align: top;\n",
       "    }\n",
       "\n",
       "    .dataframe thead th {\n",
       "        text-align: right;\n",
       "    }\n",
       "</style>\n",
       "<table border=\"1\" class=\"dataframe\">\n",
       "  <thead>\n",
       "    <tr style=\"text-align: right;\">\n",
       "      <th></th>\n",
       "      <th>Levy</th>\n",
       "      <th>Manufacturer</th>\n",
       "      <th>Model</th>\n",
       "      <th>Prod. year</th>\n",
       "      <th>Category</th>\n",
       "      <th>Leather interior</th>\n",
       "      <th>Fuel type</th>\n",
       "      <th>Engine volume</th>\n",
       "      <th>Mileage</th>\n",
       "      <th>Cylinders</th>\n",
       "      <th>Gear box type</th>\n",
       "      <th>Drive wheels</th>\n",
       "      <th>Doors</th>\n",
       "      <th>Wheel</th>\n",
       "      <th>Color</th>\n",
       "      <th>Airbags</th>\n",
       "      <th>Train_Price</th>\n",
       "      <th>Predicted_Price</th>\n",
       "      <th>Price</th>\n",
       "    </tr>\n",
       "  </thead>\n",
       "  <tbody>\n",
       "    <tr>\n",
       "      <th>0</th>\n",
       "      <td>-</td>\n",
       "      <td>VOLKSWAGEN</td>\n",
       "      <td>Golf</td>\n",
       "      <td>2012</td>\n",
       "      <td>Hatchback</td>\n",
       "      <td>No</td>\n",
       "      <td>Diesel</td>\n",
       "      <td>2.0 Turbo</td>\n",
       "      <td>0 km</td>\n",
       "      <td>4</td>\n",
       "      <td>Manual</td>\n",
       "      <td>Front</td>\n",
       "      <td>02-Mar</td>\n",
       "      <td>Left wheel</td>\n",
       "      <td>Grey</td>\n",
       "      <td>10</td>\n",
       "      <td>NaN</td>\n",
       "      <td>11013.800029</td>\n",
       "      <td>11013.800029</td>\n",
       "    </tr>\n",
       "    <tr>\n",
       "      <th>1</th>\n",
       "      <td>-</td>\n",
       "      <td>HYUNDAI</td>\n",
       "      <td>Sonata</td>\n",
       "      <td>2012</td>\n",
       "      <td>Sedan</td>\n",
       "      <td>Yes</td>\n",
       "      <td>Petrol</td>\n",
       "      <td>2.4</td>\n",
       "      <td>26000 km</td>\n",
       "      <td>4</td>\n",
       "      <td>Tiptronic</td>\n",
       "      <td>Front</td>\n",
       "      <td>04-May</td>\n",
       "      <td>Left wheel</td>\n",
       "      <td>Grey</td>\n",
       "      <td>10</td>\n",
       "      <td>NaN</td>\n",
       "      <td>9499.935929</td>\n",
       "      <td>9499.935929</td>\n",
       "    </tr>\n",
       "    <tr>\n",
       "      <th>2</th>\n",
       "      <td>-</td>\n",
       "      <td>NISSAN</td>\n",
       "      <td>Tiida</td>\n",
       "      <td>2005</td>\n",
       "      <td>Sedan</td>\n",
       "      <td>No</td>\n",
       "      <td>Petrol</td>\n",
       "      <td>1.5</td>\n",
       "      <td>168000 km</td>\n",
       "      <td>4</td>\n",
       "      <td>Automatic</td>\n",
       "      <td>Front</td>\n",
       "      <td>04-May</td>\n",
       "      <td>Right-hand drive</td>\n",
       "      <td>Sky blue</td>\n",
       "      <td>8</td>\n",
       "      <td>NaN</td>\n",
       "      <td>8381.709444</td>\n",
       "      <td>8381.709444</td>\n",
       "    </tr>\n",
       "    <tr>\n",
       "      <th>3</th>\n",
       "      <td>975</td>\n",
       "      <td>VOLVO</td>\n",
       "      <td>XC90</td>\n",
       "      <td>2012</td>\n",
       "      <td>Jeep</td>\n",
       "      <td>Yes</td>\n",
       "      <td>Petrol</td>\n",
       "      <td>3.2</td>\n",
       "      <td>143000 km</td>\n",
       "      <td>6</td>\n",
       "      <td>Automatic</td>\n",
       "      <td>4x4</td>\n",
       "      <td>04-May</td>\n",
       "      <td>Left wheel</td>\n",
       "      <td>Blue</td>\n",
       "      <td>12</td>\n",
       "      <td>NaN</td>\n",
       "      <td>4863.159693</td>\n",
       "      <td>4863.159693</td>\n",
       "    </tr>\n",
       "    <tr>\n",
       "      <th>4</th>\n",
       "      <td>-</td>\n",
       "      <td>OPEL</td>\n",
       "      <td>Astra</td>\n",
       "      <td>1993</td>\n",
       "      <td>Hatchback</td>\n",
       "      <td>No</td>\n",
       "      <td>Petrol</td>\n",
       "      <td>1.6</td>\n",
       "      <td>200000 km</td>\n",
       "      <td>4</td>\n",
       "      <td>Manual</td>\n",
       "      <td>Front</td>\n",
       "      <td>04-May</td>\n",
       "      <td>Left wheel</td>\n",
       "      <td>Black</td>\n",
       "      <td>0</td>\n",
       "      <td>NaN</td>\n",
       "      <td>3274.055529</td>\n",
       "      <td>3274.055529</td>\n",
       "    </tr>\n",
       "  </tbody>\n",
       "</table>\n",
       "</div>"
      ],
      "text/plain": [
       "  Levy Manufacturer   Model  Prod. year   Category Leather interior Fuel type  \\\n",
       "0    -   VOLKSWAGEN    Golf        2012  Hatchback               No    Diesel   \n",
       "1    -      HYUNDAI  Sonata        2012      Sedan              Yes    Petrol   \n",
       "2    -       NISSAN   Tiida        2005      Sedan               No    Petrol   \n",
       "3  975        VOLVO    XC90        2012       Jeep              Yes    Petrol   \n",
       "4    -         OPEL   Astra        1993  Hatchback               No    Petrol   \n",
       "\n",
       "  Engine volume    Mileage  Cylinders Gear box type Drive wheels   Doors  \\\n",
       "0     2.0 Turbo       0 km          4        Manual        Front  02-Mar   \n",
       "1           2.4   26000 km          4     Tiptronic        Front  04-May   \n",
       "2           1.5  168000 km          4     Automatic        Front  04-May   \n",
       "3           3.2  143000 km          6     Automatic          4x4  04-May   \n",
       "4           1.6  200000 km          4        Manual        Front  04-May   \n",
       "\n",
       "              Wheel     Color  Airbags  Train_Price  Predicted_Price  \\\n",
       "0        Left wheel      Grey       10          NaN     11013.800029   \n",
       "1        Left wheel      Grey       10          NaN      9499.935929   \n",
       "2  Right-hand drive  Sky blue        8          NaN      8381.709444   \n",
       "3        Left wheel      Blue       12          NaN      4863.159693   \n",
       "4        Left wheel     Black        0          NaN      3274.055529   \n",
       "\n",
       "          Price  \n",
       "0  11013.800029  \n",
       "1   9499.935929  \n",
       "2   8381.709444  \n",
       "3   4863.159693  \n",
       "4   3274.055529  "
      ]
     },
     "execution_count": 19,
     "metadata": {},
     "output_type": "execute_result"
    }
   ],
   "source": [
    "train_cols = [col for col in train_df.columns if col != 'ID']\n",
    "test_cols = [col for col in test_df.columns if col not in ['ID','Price']]\n",
    "\n",
    "df = pd.merge(\n",
    "    test_df[test_cols], \n",
    "    train_df[train_cols], \n",
    "    how='left', \n",
    "    on=test_cols,\n",
    "    sort=False\n",
    ")\n",
    "\n",
    "df = df.rename(columns={'Price': 'Train_Price'})\n",
    "df['Predicted_Price'] = np.exp(y_pred_final.ravel())\n",
    "df['Price'] = df.apply(lambda row: row['Predicted_Price'] if pd.isnull(row['Train_Price']) else row['Train_Price'], axis=1)\n",
    "print(f\"df: {df.shape}\")\n",
    "df.head()"
   ]
  },
  {
   "cell_type": "code",
   "execution_count": 20,
   "id": "liable-pollution",
   "metadata": {
    "execution": {
     "iopub.execute_input": "2021-07-17T10:06:51.176771Z",
     "iopub.status.busy": "2021-07-17T10:06:51.174456Z",
     "iopub.status.idle": "2021-07-17T10:06:51.192691Z",
     "shell.execute_reply": "2021-07-17T10:06:51.191979Z",
     "shell.execute_reply.started": "2021-07-16T15:09:30.25492Z"
    },
    "papermill": {
     "duration": 0.08542,
     "end_time": "2021-07-17T10:06:51.192831",
     "exception": false,
     "start_time": "2021-07-17T10:06:51.107411",
     "status": "completed"
    },
    "tags": []
   },
   "outputs": [],
   "source": [
    "df.loc[df['Manufacturer']=='TESLA','Price'] = 53941\n",
    "df.loc[df['Manufacturer']=='SATURN','Price'] = 13799\n",
    "df.loc[df['Manufacturer']=='ASTON MARTIN','Price'] = 54000\n",
    "df.loc[(df['Manufacturer']=='GREATWALL')&(df['Model']=='C30'),'Price'] = 10036\n",
    "\n",
    "df.loc[df['Prod. year']==1943,'Price'] = 119172\n",
    "df.loc[df['Prod. year']==1968,'Price'] = 2200\n",
    "df.loc[df['Prod. year']==1981,'Price'] = 2800\n",
    "\n",
    "df.loc[df['Fuel type']=='Hydrogen','Price'] = 20385\n",
    "\n",
    "df.loc[df['Engine volume']=='0.3 Turbo', 'Price'] = 6272\n",
    "df.loc[df['Engine volume']=='0.5', 'Price'] = 1300\n",
    "df.loc[df['Engine volume']=='0.8 Turbo', 'Price'] = 6272\n",
    "df.loc[df['Engine volume']=='3.1', 'Price'] = 8781\n",
    "df.loc[df['Engine volume']=='5.2', 'Price'] = 13000\n",
    "df.loc[df['Engine volume']=='6.7', 'Price'] = 1019"
   ]
  },
  {
   "cell_type": "code",
   "execution_count": 21,
   "id": "published-combination",
   "metadata": {
    "execution": {
     "iopub.execute_input": "2021-07-17T10:06:51.290655Z",
     "iopub.status.busy": "2021-07-17T10:06:51.289880Z",
     "iopub.status.idle": "2021-07-17T10:06:51.324190Z",
     "shell.execute_reply": "2021-07-17T10:06:51.323661Z",
     "shell.execute_reply.started": "2021-07-16T15:09:31.581653Z"
    },
    "papermill": {
     "duration": 0.086735,
     "end_time": "2021-07-17T10:06:51.324339",
     "exception": false,
     "start_time": "2021-07-17T10:06:51.237604",
     "status": "completed"
    },
    "tags": []
   },
   "outputs": [
    {
     "data": {
      "text/html": [
       "<div>\n",
       "<style scoped>\n",
       "    .dataframe tbody tr th:only-of-type {\n",
       "        vertical-align: middle;\n",
       "    }\n",
       "\n",
       "    .dataframe tbody tr th {\n",
       "        vertical-align: top;\n",
       "    }\n",
       "\n",
       "    .dataframe thead th {\n",
       "        text-align: right;\n",
       "    }\n",
       "</style>\n",
       "<table border=\"1\" class=\"dataframe\">\n",
       "  <thead>\n",
       "    <tr style=\"text-align: right;\">\n",
       "      <th></th>\n",
       "      <th>Price</th>\n",
       "    </tr>\n",
       "  </thead>\n",
       "  <tbody>\n",
       "    <tr>\n",
       "      <th>0</th>\n",
       "      <td>11013.800029</td>\n",
       "    </tr>\n",
       "    <tr>\n",
       "      <th>1</th>\n",
       "      <td>9499.935929</td>\n",
       "    </tr>\n",
       "    <tr>\n",
       "      <th>2</th>\n",
       "      <td>8381.709444</td>\n",
       "    </tr>\n",
       "    <tr>\n",
       "      <th>3</th>\n",
       "      <td>4863.159693</td>\n",
       "    </tr>\n",
       "    <tr>\n",
       "      <th>4</th>\n",
       "      <td>3274.055529</td>\n",
       "    </tr>\n",
       "  </tbody>\n",
       "</table>\n",
       "</div>"
      ],
      "text/plain": [
       "          Price\n",
       "0  11013.800029\n",
       "1   9499.935929\n",
       "2   8381.709444\n",
       "3   4863.159693\n",
       "4   3274.055529"
      ]
     },
     "execution_count": 21,
     "metadata": {},
     "output_type": "execute_result"
    }
   ],
   "source": [
    "submit_df = pd.DataFrame()\n",
    "submit_df['Price'] = df['Price']\n",
    "submit_df.to_csv(\"./Mojito_Submission.csv\", index=False)\n",
    "submit_df.head()"
   ]
  },
  {
   "cell_type": "code",
   "execution_count": null,
   "id": "speaking-choice",
   "metadata": {
    "papermill": {
     "duration": 0.044129,
     "end_time": "2021-07-17T10:06:51.413076",
     "exception": false,
     "start_time": "2021-07-17T10:06:51.368947",
     "status": "completed"
    },
    "tags": []
   },
   "outputs": [],
   "source": []
  }
 ],
 "metadata": {
  "kernelspec": {
   "display_name": "Python 3",
   "language": "python",
   "name": "python3"
  },
  "language_info": {
   "codemirror_mode": {
    "name": "ipython",
    "version": 3
   },
   "file_extension": ".py",
   "mimetype": "text/x-python",
   "name": "python",
   "nbconvert_exporter": "python",
   "pygments_lexer": "ipython3",
   "version": "3.7.10"
  },
  "papermill": {
   "default_parameters": {},
   "duration": 413.059535,
   "end_time": "2021-07-17T10:06:53.138221",
   "environment_variables": {},
   "exception": null,
   "input_path": "__notebook__.ipynb",
   "output_path": "__notebook__.ipynb",
   "parameters": {},
   "start_time": "2021-07-17T10:00:00.078686",
   "version": "2.3.3"
  }
 },
 "nbformat": 4,
 "nbformat_minor": 5
}
