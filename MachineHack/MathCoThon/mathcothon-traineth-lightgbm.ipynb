{
 "cells": [
  {
   "cell_type": "markdown",
   "id": "diagnostic-island",
   "metadata": {
    "id": "uLz9OcH8SeET",
    "papermill": {
     "duration": 0.017111,
     "end_time": "2021-07-16T12:28:52.010164",
     "exception": false,
     "start_time": "2021-07-16T12:28:51.993053",
     "status": "completed"
    },
    "tags": []
   },
   "source": [
    "## Import libraries"
   ]
  },
  {
   "cell_type": "code",
   "execution_count": 1,
   "id": "exempt-stress",
   "metadata": {
    "execution": {
     "iopub.execute_input": "2021-07-16T12:28:52.053764Z",
     "iopub.status.busy": "2021-07-16T12:28:52.053019Z",
     "iopub.status.idle": "2021-07-16T12:28:54.264406Z",
     "shell.execute_reply": "2021-07-16T12:28:54.264926Z",
     "shell.execute_reply.started": "2021-07-11T19:13:51.407243Z"
    },
    "executionInfo": {
     "elapsed": 23727,
     "status": "ok",
     "timestamp": 1616326442041,
     "user": {
      "displayName": "TAPAS DAS",
      "photoUrl": "https://lh3.googleusercontent.com/a-/AOh14GiyffdGKiPCR_UwVittzTcbBFms70IkGfU15fatCA=s64",
      "userId": "10798398878324948542"
     },
     "user_tz": -330
    },
    "id": "E9svswc9SUuX",
    "papermill": {
     "duration": 2.23884,
     "end_time": "2021-07-16T12:28:54.265219",
     "exception": false,
     "start_time": "2021-07-16T12:28:52.026379",
     "status": "completed"
    },
    "tags": []
   },
   "outputs": [
    {
     "data": {
      "text/html": [
       "<style type='text/css'>\n",
       ".datatable table.frame { margin-bottom: 0; }\n",
       ".datatable table.frame thead { border-bottom: none; }\n",
       ".datatable table.frame tr.coltypes td {  color: #FFFFFF;  line-height: 6px;  padding: 0 0.5em;}\n",
       ".datatable .bool    { background: #DDDD99; }\n",
       ".datatable .object  { background: #565656; }\n",
       ".datatable .int     { background: #5D9E5D; }\n",
       ".datatable .float   { background: #4040CC; }\n",
       ".datatable .str     { background: #CC4040; }\n",
       ".datatable .row_index {  background: var(--jp-border-color3);  border-right: 1px solid var(--jp-border-color0);  color: var(--jp-ui-font-color3);  font-size: 9px;}\n",
       ".datatable .frame tr.coltypes .row_index {  background: var(--jp-border-color0);}\n",
       ".datatable th:nth-child(2) { padding-left: 12px; }\n",
       ".datatable .hellipsis {  color: var(--jp-cell-editor-border-color);}\n",
       ".datatable .vellipsis {  background: var(--jp-layout-color0);  color: var(--jp-cell-editor-border-color);}\n",
       ".datatable .na {  color: var(--jp-cell-editor-border-color);  font-size: 80%;}\n",
       ".datatable .footer { font-size: 9px; }\n",
       ".datatable .frame_dimensions {  background: var(--jp-border-color3);  border-top: 1px solid var(--jp-border-color0);  color: var(--jp-ui-font-color3);  display: inline-block;  opacity: 0.6;  padding: 1px 10px 1px 5px;}\n",
       "</style>\n"
      ],
      "text/plain": [
       "<IPython.core.display.HTML object>"
      ]
     },
     "metadata": {},
     "output_type": "display_data"
    }
   ],
   "source": [
    "import warnings\n",
    "warnings.filterwarnings(\"ignore\")\n",
    "\n",
    "import gc\n",
    "import pickle\n",
    "import numpy as np\n",
    "import pandas as pd\n",
    "import seaborn as sns\n",
    "import matplotlib.pyplot as plt\n",
    "from lightgbm import LGBMRegressor\n",
    "from sklearn.metrics import mean_squared_log_error\n",
    "from sklearn.model_selection import StratifiedKFold"
   ]
  },
  {
   "cell_type": "markdown",
   "id": "threaded-somewhere",
   "metadata": {
    "id": "hg85SpW-S6hl",
    "papermill": {
     "duration": 0.016174,
     "end_time": "2021-07-16T12:28:54.299149",
     "exception": false,
     "start_time": "2021-07-16T12:28:54.282975",
     "status": "completed"
    },
    "tags": []
   },
   "source": [
    "## Prepare data for model training"
   ]
  },
  {
   "cell_type": "code",
   "execution_count": 2,
   "id": "positive-territory",
   "metadata": {
    "execution": {
     "iopub.execute_input": "2021-07-16T12:28:54.337308Z",
     "iopub.status.busy": "2021-07-16T12:28:54.336678Z",
     "iopub.status.idle": "2021-07-16T12:28:55.772668Z",
     "shell.execute_reply": "2021-07-16T12:28:55.772076Z",
     "shell.execute_reply.started": "2021-07-11T19:14:51.798565Z"
    },
    "executionInfo": {
     "elapsed": 10043,
     "status": "ok",
     "timestamp": 1616326444482,
     "user": {
      "displayName": "TAPAS DAS",
      "photoUrl": "https://lh3.googleusercontent.com/a-/AOh14GiyffdGKiPCR_UwVittzTcbBFms70IkGfU15fatCA=s64",
      "userId": "10798398878324948542"
     },
     "user_tz": -330
    },
    "id": "VdhgoIAmSUxK",
    "outputId": "7897cfad-c8d4-46d9-86ea-04de37e11444",
    "papermill": {
     "duration": 1.456269,
     "end_time": "2021-07-16T12:28:55.772809",
     "exception": false,
     "start_time": "2021-07-16T12:28:54.316540",
     "status": "completed"
    },
    "tags": []
   },
   "outputs": [
    {
     "data": {
      "text/plain": [
       "0"
      ]
     },
     "execution_count": 2,
     "metadata": {},
     "output_type": "execute_result"
    }
   ],
   "source": [
    "with open(\"../input/mathcothon-i-shalt-prepareth-data/MathCoThon_Ready_Meatballs.txt\", 'rb') as handle: \n",
    "    data = handle.read()\n",
    "\n",
    "processed_data = pickle.loads(data)\n",
    "train_df = processed_data['train_df']\n",
    "test_df = processed_data['test_df']\n",
    "\n",
    "del processed_data\n",
    "gc.collect()"
   ]
  },
  {
   "cell_type": "code",
   "execution_count": 3,
   "id": "juvenile-depth",
   "metadata": {
    "execution": {
     "iopub.execute_input": "2021-07-16T12:28:55.822764Z",
     "iopub.status.busy": "2021-07-16T12:28:55.822114Z",
     "iopub.status.idle": "2021-07-16T12:28:56.005821Z",
     "shell.execute_reply": "2021-07-16T12:28:56.005208Z",
     "shell.execute_reply.started": "2021-07-11T19:14:52.228994Z"
    },
    "papermill": {
     "duration": 0.215449,
     "end_time": "2021-07-16T12:28:56.005963",
     "exception": false,
     "start_time": "2021-07-16T12:28:55.790514",
     "status": "completed"
    },
    "tags": []
   },
   "outputs": [
    {
     "name": "stdout",
     "output_type": "stream",
     "text": [
      "[1, 2, 3, 4, 7, 8, 9, 10, 11, 12, 27, 29, 25, 38, 39, 35, 36, 37, 30, 31, 32, 13, 14, 15, 16, 17, 18, 19, 20]\n"
     ]
    }
   ],
   "source": [
    "cat_cols = ['Manufacturer','Model','Category','Leather interior','Cylinders',\n",
    "            'Doors','Wheel','Color','Airbags','Turbo_Engine','Leap_Year',\n",
    "            'Hybrid_Car','Numbers_in_Model','Drive wheels Front','Drive wheels Rear',\n",
    "            'Manual_Gear','Automatic_Gear','Continuous_Gear','Fuel Tank Petrol',\n",
    "            'Fuel Tank Diesel','Fuel Tank Gas','id0','id1','id2','id3','id4','id5','id6','id7']\n",
    "\n",
    "train_df[cat_cols] = train_df[cat_cols].astype(int)\n",
    "test_df[cat_cols] = test_df[cat_cols].astype(int)\n",
    "cat_cols_indices = [train_df.columns.get_loc(col) for col in cat_cols]\n",
    "print(cat_cols_indices)"
   ]
  },
  {
   "cell_type": "code",
   "execution_count": 4,
   "id": "starting-prototype",
   "metadata": {
    "execution": {
     "iopub.execute_input": "2021-07-16T12:28:56.049976Z",
     "iopub.status.busy": "2021-07-16T12:28:56.049266Z",
     "iopub.status.idle": "2021-07-16T12:28:56.311212Z",
     "shell.execute_reply": "2021-07-16T12:28:56.310570Z",
     "shell.execute_reply.started": "2021-07-11T19:14:52.385979Z"
    },
    "executionInfo": {
     "elapsed": 2058,
     "status": "ok",
     "timestamp": 1616326525321,
     "user": {
      "displayName": "TAPAS DAS",
      "photoUrl": "https://lh3.googleusercontent.com/a-/AOh14GiyffdGKiPCR_UwVittzTcbBFms70IkGfU15fatCA=s64",
      "userId": "10798398878324948542"
     },
     "user_tz": -330
    },
    "id": "UAfyHbeASU7C",
    "outputId": "14c429a7-7b43-4065-afae-da7d4f6679a9",
    "papermill": {
     "duration": 0.28741,
     "end_time": "2021-07-16T12:28:56.311369",
     "exception": false,
     "start_time": "2021-07-16T12:28:56.023959",
     "status": "completed"
    },
    "tags": []
   },
   "outputs": [
    {
     "name": "stdout",
     "output_type": "stream",
     "text": [
      "Xtrain: (15628, 893) \n",
      "Ytrain: (15628,) \n",
      "Xtest: (8245, 893)\n"
     ]
    },
    {
     "data": {
      "text/plain": [
       "20"
      ]
     },
     "execution_count": 4,
     "metadata": {},
     "output_type": "execute_result"
    }
   ],
   "source": [
    "Xtrain = train_df.loc[:, ~train_df.columns.isin(['Price'])].copy()\n",
    "Ytrain = train_df['Price'].copy()\n",
    "Ytrain_strat = pd.qcut(np.log1p(train_df['Price']), q=10, labels=range(0,10))\n",
    "Xtest = test_df.copy()\n",
    "\n",
    "print(\"Xtrain: {} \\nYtrain: {} \\nXtest: {}\".format(Xtrain.shape, Ytrain.shape, Xtest.shape))\n",
    "\n",
    "del train_df\n",
    "del test_df\n",
    "gc.collect()"
   ]
  },
  {
   "cell_type": "markdown",
   "id": "greater-mechanism",
   "metadata": {
    "id": "9wNC5rWEVnjd",
    "papermill": {
     "duration": 0.018029,
     "end_time": "2021-07-16T12:28:56.348339",
     "exception": false,
     "start_time": "2021-07-16T12:28:56.330310",
     "status": "completed"
    },
    "tags": []
   },
   "source": [
    "## Build and validate the model"
   ]
  },
  {
   "cell_type": "markdown",
   "id": "catholic-vision",
   "metadata": {
    "papermill": {
     "duration": 0.017427,
     "end_time": "2021-07-16T12:28:56.383669",
     "exception": false,
     "start_time": "2021-07-16T12:28:56.366242",
     "status": "completed"
    },
    "tags": []
   },
   "source": [
    "### Model-1"
   ]
  },
  {
   "cell_type": "code",
   "execution_count": 5,
   "id": "nearby-beast",
   "metadata": {
    "execution": {
     "iopub.execute_input": "2021-07-16T12:28:56.435958Z",
     "iopub.status.busy": "2021-07-16T12:28:56.435239Z",
     "iopub.status.idle": "2021-07-16T12:38:52.173402Z",
     "shell.execute_reply": "2021-07-16T12:38:52.174356Z",
     "shell.execute_reply.started": "2021-07-11T19:14:53.519891Z"
    },
    "id": "uWPosEORSVBp",
    "outputId": "d70ac047-a86b-4f36-84cc-960b1b5316be",
    "papermill": {
     "duration": 595.771425,
     "end_time": "2021-07-16T12:38:52.174592",
     "exception": false,
     "start_time": "2021-07-16T12:28:56.403167",
     "status": "completed"
    },
    "tags": []
   },
   "outputs": [
    {
     "name": "stdout",
     "output_type": "stream",
     "text": [
      "Training until validation scores don't improve for 200 rounds\n",
      "[1000]\tvalid_0's rmse: 0.920375\tvalid_0's l2: 0.84709\n",
      "Early stopping, best iteration is:\n",
      "[1281]\tvalid_0's rmse: 0.919718\tvalid_0's l2: 0.84588\n",
      "Seed-2020 | Fold-0 | OOF Score: 0.9174978132796793\n",
      "Training until validation scores don't improve for 200 rounds\n",
      "[1000]\tvalid_0's rmse: 0.891566\tvalid_0's l2: 0.79489\n",
      "Early stopping, best iteration is:\n",
      "[963]\tvalid_0's rmse: 0.890697\tvalid_0's l2: 0.793341\n",
      "Seed-2020 | Fold-1 | OOF Score: 0.8891024679603562\n",
      "Training until validation scores don't improve for 200 rounds\n",
      "Early stopping, best iteration is:\n",
      "[649]\tvalid_0's rmse: 0.877103\tvalid_0's l2: 0.76931\n",
      "Seed-2020 | Fold-2 | OOF Score: 0.8756261429944059\n",
      "Training until validation scores don't improve for 200 rounds\n",
      "[1000]\tvalid_0's rmse: 0.888102\tvalid_0's l2: 0.788725\n",
      "Early stopping, best iteration is:\n",
      "[1176]\tvalid_0's rmse: 0.886709\tvalid_0's l2: 0.786253\n",
      "Seed-2020 | Fold-3 | OOF Score: 0.8849111504695619\n",
      "Training until validation scores don't improve for 200 rounds\n",
      "Early stopping, best iteration is:\n",
      "[531]\tvalid_0's rmse: 0.870134\tvalid_0's l2: 0.757133\n",
      "Seed-2020 | Fold-4 | OOF Score: 0.8684876559230023\n",
      "Training until validation scores don't improve for 200 rounds\n",
      "[1000]\tvalid_0's rmse: 0.909707\tvalid_0's l2: 0.827566\n",
      "Early stopping, best iteration is:\n",
      "[863]\tvalid_0's rmse: 0.908832\tvalid_0's l2: 0.825975\n",
      "Seed-2020 | Fold-5 | OOF Score: 0.9070363399322701\n",
      "Training until validation scores don't improve for 200 rounds\n",
      "[1000]\tvalid_0's rmse: 0.887954\tvalid_0's l2: 0.788462\n",
      "Early stopping, best iteration is:\n",
      "[886]\tvalid_0's rmse: 0.887418\tvalid_0's l2: 0.787511\n",
      "Seed-2020 | Fold-6 | OOF Score: 0.885025679199157\n",
      "Training until validation scores don't improve for 200 rounds\n",
      "Early stopping, best iteration is:\n",
      "[550]\tvalid_0's rmse: 1.00919\tvalid_0's l2: 1.01846\n",
      "Seed-2020 | Fold-7 | OOF Score: 1.0070740680593229\n",
      "Training until validation scores don't improve for 200 rounds\n",
      "[1000]\tvalid_0's rmse: 0.887564\tvalid_0's l2: 0.78777\n",
      "Early stopping, best iteration is:\n",
      "[865]\tvalid_0's rmse: 0.887208\tvalid_0's l2: 0.787138\n",
      "Seed-2020 | Fold-8 | OOF Score: 0.8857364394091336\n",
      "Training until validation scores don't improve for 200 rounds\n",
      "Early stopping, best iteration is:\n",
      "[707]\tvalid_0's rmse: 0.92186\tvalid_0's l2: 0.849827\n",
      "Seed-2020 | Fold-9 | OOF Score: 0.919728329985391\n",
      "\n",
      "Seed: 2020 | Aggregate OOF Score: 0.9040226087212281\n",
      "\n",
      "\n",
      "Training until validation scores don't improve for 200 rounds\n",
      "Early stopping, best iteration is:\n",
      "[763]\tvalid_0's rmse: 0.914651\tvalid_0's l2: 0.836587\n",
      "Seed-2022 | Fold-0 | OOF Score: 0.9128070721663577\n",
      "Training until validation scores don't improve for 200 rounds\n",
      "[1000]\tvalid_0's rmse: 0.876844\tvalid_0's l2: 0.768855\n",
      "Early stopping, best iteration is:\n",
      "[1181]\tvalid_0's rmse: 0.876097\tvalid_0's l2: 0.767546\n",
      "Seed-2022 | Fold-1 | OOF Score: 0.8744760604479423\n",
      "Training until validation scores don't improve for 200 rounds\n",
      "Early stopping, best iteration is:\n",
      "[679]\tvalid_0's rmse: 0.902116\tvalid_0's l2: 0.813814\n",
      "Seed-2022 | Fold-2 | OOF Score: 0.9004297959106664\n",
      "Training until validation scores don't improve for 200 rounds\n",
      "Early stopping, best iteration is:\n",
      "[511]\tvalid_0's rmse: 0.876603\tvalid_0's l2: 0.768433\n",
      "Seed-2022 | Fold-3 | OOF Score: 0.8748996918286422\n",
      "Training until validation scores don't improve for 200 rounds\n",
      "Early stopping, best iteration is:\n",
      "[537]\tvalid_0's rmse: 0.926984\tvalid_0's l2: 0.859298\n",
      "Seed-2022 | Fold-4 | OOF Score: 0.9252895235433435\n",
      "Training until validation scores don't improve for 200 rounds\n",
      "[1000]\tvalid_0's rmse: 0.970412\tvalid_0's l2: 0.9417\n",
      "Early stopping, best iteration is:\n",
      "[1022]\tvalid_0's rmse: 0.970118\tvalid_0's l2: 0.941128\n",
      "Seed-2022 | Fold-5 | OOF Score: 0.9671375162518804\n",
      "Training until validation scores don't improve for 200 rounds\n",
      "Early stopping, best iteration is:\n",
      "[701]\tvalid_0's rmse: 0.901929\tvalid_0's l2: 0.813476\n",
      "Seed-2022 | Fold-6 | OOF Score: 0.8999885923840806\n",
      "Training until validation scores don't improve for 200 rounds\n",
      "[1000]\tvalid_0's rmse: 0.921967\tvalid_0's l2: 0.850024\n",
      "Early stopping, best iteration is:\n",
      "[1471]\tvalid_0's rmse: 0.920315\tvalid_0's l2: 0.846979\n",
      "Seed-2022 | Fold-7 | OOF Score: 0.9184395250639821\n",
      "Training until validation scores don't improve for 200 rounds\n",
      "[1000]\tvalid_0's rmse: 0.881248\tvalid_0's l2: 0.776598\n",
      "Early stopping, best iteration is:\n",
      "[1071]\tvalid_0's rmse: 0.880339\tvalid_0's l2: 0.774997\n",
      "Seed-2022 | Fold-8 | OOF Score: 0.8785052341350514\n",
      "Training until validation scores don't improve for 200 rounds\n",
      "[1000]\tvalid_0's rmse: 0.891005\tvalid_0's l2: 0.79389\n",
      "Early stopping, best iteration is:\n",
      "[804]\tvalid_0's rmse: 0.889778\tvalid_0's l2: 0.791704\n",
      "Seed-2022 | Fold-9 | OOF Score: 0.8882391213767314\n",
      "\n",
      "Seed: 2022 | Aggregate OOF Score: 0.9040212133108678\n",
      "\n",
      "\n",
      "Aggregate OOF Score: 0.9040219110160479\n"
     ]
    }
   ],
   "source": [
    "FOLD = 10\n",
    "SEEDS = [2020, 2022]\n",
    "\n",
    "fet_imp1 = 0\n",
    "counter = 0\n",
    "oof_score1 = 0\n",
    "y_pred_meta_lgb1 = np.zeros((Ytrain.shape[0], 1))\n",
    "y_pred_final_lgb1 = 0\n",
    "\n",
    "\n",
    "for sidx, seed in enumerate(SEEDS):\n",
    "    seed_score = 0\n",
    "    \n",
    "    kfold = StratifiedKFold(n_splits=FOLD, shuffle=True, random_state=seed)\n",
    "\n",
    "    for idx, (train, val) in enumerate(kfold.split(Xtrain.values, Ytrain_strat)):\n",
    "        counter += 1\n",
    "        \n",
    "        train_x, train_y = Xtrain.iloc[train], Ytrain.iloc[train]\n",
    "        val_x, val_y = Xtrain.iloc[val], Ytrain.iloc[val]\n",
    "        \n",
    "        model = LGBMRegressor(\n",
    "            boosting_type='gbdt', \n",
    "            num_leaves=1756, \n",
    "            max_depth=12, \n",
    "            learning_rate=0.0107, \n",
    "            n_estimators=5000,\n",
    "            objective='regression', \n",
    "            min_child_samples=15, \n",
    "            subsample=0.875, \n",
    "            subsample_freq=7, \n",
    "            colsample_bytree=0.6995, \n",
    "            reg_lambda=0.00489,\n",
    "            random_state=(seed+idx)\n",
    "        )\n",
    "        \n",
    "        model.fit(train_x, train_y, eval_metric='rmse',\n",
    "                  eval_set=(val_x, val_y),\n",
    "                  early_stopping_rounds=200, verbose=1000,\n",
    "                  categorical_feature=cat_cols_indices)\n",
    "\n",
    "        y_pred = model.predict(val_x, num_iteration=model.best_iteration_)\n",
    "        y_pred_meta_lgb1[val] += np.array([y_pred]).T\n",
    "        y_pred_final_lgb1 += model.predict(Xtest, num_iteration=model.best_iteration_)\n",
    "        \n",
    "        score = np.sqrt(mean_squared_log_error(np.exp(val_y), np.exp(y_pred)))\n",
    "        oof_score1 += score\n",
    "        seed_score += score\n",
    "        fet_imp1 += model.feature_importances_\n",
    "        print(\"Seed-{} | Fold-{} | OOF Score: {}\".format(seed, idx, score))\n",
    "    \n",
    "    print(\"\\nSeed: {} | Aggregate OOF Score: {}\\n\\n\".format(seed, (seed_score / FOLD)))\n",
    "\n",
    "\n",
    "y_pred_meta_lgb1 = y_pred_meta_lgb1 / float(len(SEEDS))\n",
    "y_pred_final_lgb1 = y_pred_final_lgb1 / float(counter)\n",
    "fet_imp1 = fet_imp1 / float(counter)\n",
    "oof_score1 /= float(counter)\n",
    "print(\"Aggregate OOF Score: {}\".format(oof_score1))"
   ]
  },
  {
   "cell_type": "markdown",
   "id": "searching-winner",
   "metadata": {
    "papermill": {
     "duration": 0.038639,
     "end_time": "2021-07-16T12:38:52.253525",
     "exception": false,
     "start_time": "2021-07-16T12:38:52.214886",
     "status": "completed"
    },
    "tags": []
   },
   "source": [
    "### Model-2"
   ]
  },
  {
   "cell_type": "code",
   "execution_count": 6,
   "id": "pharmaceutical-remains",
   "metadata": {
    "execution": {
     "iopub.execute_input": "2021-07-16T12:38:52.345169Z",
     "iopub.status.busy": "2021-07-16T12:38:52.344485Z",
     "iopub.status.idle": "2021-07-16T12:47:10.406184Z",
     "shell.execute_reply": "2021-07-16T12:47:10.407011Z",
     "shell.execute_reply.started": "2021-07-10T11:15:59.442097Z"
    },
    "papermill": {
     "duration": 498.115367,
     "end_time": "2021-07-16T12:47:10.407426",
     "exception": false,
     "start_time": "2021-07-16T12:38:52.292059",
     "status": "completed"
    },
    "tags": []
   },
   "outputs": [
    {
     "name": "stdout",
     "output_type": "stream",
     "text": [
      "Training until validation scores don't improve for 200 rounds\n",
      "[1000]\tvalid_0's rmse: 0.92568\tvalid_0's l2: 0.856884\n",
      "Early stopping, best iteration is:\n",
      "[1201]\tvalid_0's rmse: 0.92475\tvalid_0's l2: 0.855162\n",
      "Seed-2020 | Fold-0 | OOF Score: 0.9224954083541386\n",
      "Training until validation scores don't improve for 200 rounds\n",
      "[1000]\tvalid_0's rmse: 0.89303\tvalid_0's l2: 0.797503\n",
      "Early stopping, best iteration is:\n",
      "[1077]\tvalid_0's rmse: 0.892411\tvalid_0's l2: 0.796397\n",
      "Seed-2020 | Fold-1 | OOF Score: 0.8908195765627644\n",
      "Training until validation scores don't improve for 200 rounds\n",
      "Early stopping, best iteration is:\n",
      "[594]\tvalid_0's rmse: 0.882617\tvalid_0's l2: 0.779013\n",
      "Seed-2020 | Fold-2 | OOF Score: 0.881122442700239\n",
      "Training until validation scores don't improve for 200 rounds\n",
      "[1000]\tvalid_0's rmse: 0.894824\tvalid_0's l2: 0.800709\n",
      "Early stopping, best iteration is:\n",
      "[1106]\tvalid_0's rmse: 0.894317\tvalid_0's l2: 0.799803\n",
      "Seed-2020 | Fold-3 | OOF Score: 0.892509688515767\n",
      "Training until validation scores don't improve for 200 rounds\n",
      "Early stopping, best iteration is:\n",
      "[514]\tvalid_0's rmse: 0.870312\tvalid_0's l2: 0.757443\n",
      "Seed-2020 | Fold-4 | OOF Score: 0.8686614107771233\n",
      "Training until validation scores don't improve for 200 rounds\n",
      "[1000]\tvalid_0's rmse: 0.910404\tvalid_0's l2: 0.828836\n",
      "Early stopping, best iteration is:\n",
      "[1023]\tvalid_0's rmse: 0.910009\tvalid_0's l2: 0.828117\n",
      "Seed-2020 | Fold-5 | OOF Score: 0.908217075932055\n",
      "Training until validation scores don't improve for 200 rounds\n",
      "Early stopping, best iteration is:\n",
      "[680]\tvalid_0's rmse: 0.892476\tvalid_0's l2: 0.796513\n",
      "Seed-2020 | Fold-6 | OOF Score: 0.8901096645503788\n",
      "Training until validation scores don't improve for 200 rounds\n",
      "[1000]\tvalid_0's rmse: 1.00469\tvalid_0's l2: 1.0094\n",
      "Early stopping, best iteration is:\n",
      "[853]\tvalid_0's rmse: 1.0038\tvalid_0's l2: 1.00761\n",
      "Seed-2020 | Fold-7 | OOF Score: 1.0017367289735453\n",
      "Training until validation scores don't improve for 200 rounds\n",
      "[1000]\tvalid_0's rmse: 0.891196\tvalid_0's l2: 0.79423\n",
      "Early stopping, best iteration is:\n",
      "[999]\tvalid_0's rmse: 0.891147\tvalid_0's l2: 0.794143\n",
      "Seed-2020 | Fold-8 | OOF Score: 0.8896671898689343\n",
      "Training until validation scores don't improve for 200 rounds\n",
      "Early stopping, best iteration is:\n",
      "[727]\tvalid_0's rmse: 0.923037\tvalid_0's l2: 0.851998\n",
      "Seed-2020 | Fold-9 | OOF Score: 0.9209237313287232\n",
      "\n",
      "Seed: 2020 | Aggregate OOF Score: 0.906626291756367\n",
      "\n",
      "\n",
      "Training until validation scores don't improve for 200 rounds\n",
      "[1000]\tvalid_0's rmse: 0.908345\tvalid_0's l2: 0.82509\n",
      "Early stopping, best iteration is:\n",
      "[931]\tvalid_0's rmse: 0.907603\tvalid_0's l2: 0.823744\n",
      "Seed-2022 | Fold-0 | OOF Score: 0.905793275409279\n",
      "Training until validation scores don't improve for 200 rounds\n",
      "[1000]\tvalid_0's rmse: 0.875677\tvalid_0's l2: 0.766811\n",
      "Early stopping, best iteration is:\n",
      "[929]\tvalid_0's rmse: 0.875074\tvalid_0's l2: 0.765755\n",
      "Seed-2022 | Fold-1 | OOF Score: 0.873446851647473\n",
      "Training until validation scores don't improve for 200 rounds\n",
      "Early stopping, best iteration is:\n",
      "[513]\tvalid_0's rmse: 0.908774\tvalid_0's l2: 0.82587\n",
      "Seed-2022 | Fold-2 | OOF Score: 0.9070693063969701\n",
      "Training until validation scores don't improve for 200 rounds\n",
      "Early stopping, best iteration is:\n",
      "[389]\tvalid_0's rmse: 0.877271\tvalid_0's l2: 0.769604\n",
      "Seed-2022 | Fold-3 | OOF Score: 0.8755333893172187\n",
      "Training until validation scores don't improve for 200 rounds\n",
      "Early stopping, best iteration is:\n",
      "[462]\tvalid_0's rmse: 0.92881\tvalid_0's l2: 0.862688\n",
      "Seed-2022 | Fold-4 | OOF Score: 0.927110223385077\n",
      "Training until validation scores don't improve for 200 rounds\n",
      "[1000]\tvalid_0's rmse: 0.975142\tvalid_0's l2: 0.950902\n",
      "Early stopping, best iteration is:\n",
      "[1369]\tvalid_0's rmse: 0.973989\tvalid_0's l2: 0.948656\n",
      "Seed-2022 | Fold-5 | OOF Score: 0.9710428498759452\n",
      "Training until validation scores don't improve for 200 rounds\n",
      "Early stopping, best iteration is:\n",
      "[554]\tvalid_0's rmse: 0.902337\tvalid_0's l2: 0.814211\n",
      "Seed-2022 | Fold-6 | OOF Score: 0.9003790838450927\n",
      "Training until validation scores don't improve for 200 rounds\n",
      "[1000]\tvalid_0's rmse: 0.91717\tvalid_0's l2: 0.8412\n",
      "Early stopping, best iteration is:\n",
      "[1215]\tvalid_0's rmse: 0.914738\tvalid_0's l2: 0.836746\n",
      "Seed-2022 | Fold-7 | OOF Score: 0.912841133681613\n",
      "Training until validation scores don't improve for 200 rounds\n",
      "[1000]\tvalid_0's rmse: 0.880873\tvalid_0's l2: 0.775937\n",
      "Early stopping, best iteration is:\n",
      "[1003]\tvalid_0's rmse: 0.880837\tvalid_0's l2: 0.775873\n",
      "Seed-2022 | Fold-8 | OOF Score: 0.8790047443845079\n",
      "Training until validation scores don't improve for 200 rounds\n",
      "[1000]\tvalid_0's rmse: 0.898874\tvalid_0's l2: 0.807974\n",
      "Early stopping, best iteration is:\n",
      "[895]\tvalid_0's rmse: 0.897972\tvalid_0's l2: 0.806353\n",
      "Seed-2022 | Fold-9 | OOF Score: 0.8964399679858912\n",
      "\n",
      "Seed: 2022 | Aggregate OOF Score: 0.9048660825929069\n",
      "\n",
      "\n",
      "Aggregate OOF Score: 0.905746187174637\n"
     ]
    }
   ],
   "source": [
    "FOLD = 10\n",
    "SEEDS = [2020, 2022]\n",
    "\n",
    "fet_imp2 = 0\n",
    "counter = 0\n",
    "oof_score2 = 0\n",
    "y_pred_meta_lgb2 = np.zeros((Ytrain.shape[0], 1))\n",
    "y_pred_final_lgb2 = 0\n",
    "\n",
    "\n",
    "for sidx, seed in enumerate(SEEDS):\n",
    "    seed_score = 0\n",
    "    \n",
    "    kfold = StratifiedKFold(n_splits=FOLD, shuffle=True, random_state=seed)\n",
    "\n",
    "    for idx, (train, val) in enumerate(kfold.split(Xtrain.values, Ytrain_strat)):\n",
    "        counter += 1\n",
    "        \n",
    "        train_x, train_y = Xtrain.iloc[train], Ytrain.iloc[train]\n",
    "        val_x, val_y = Xtrain.iloc[val], Ytrain.iloc[val]\n",
    "        \n",
    "        model = LGBMRegressor(\n",
    "            boosting_type='gbdt', \n",
    "            num_leaves=1546, \n",
    "            max_depth=11, \n",
    "            learning_rate=0.012, \n",
    "            n_estimators=5000, \n",
    "            objective='regression', \n",
    "            min_child_samples=14, \n",
    "            subsample=0.8196, \n",
    "            subsample_freq=9, \n",
    "            colsample_bytree=0.6256, \n",
    "            reg_lambda=0.0336, \n",
    "            random_state=(seed+idx)\n",
    "        )\n",
    "        \n",
    "        model.fit(train_x, train_y, eval_metric='rmse',\n",
    "                  eval_set=(val_x, val_y),\n",
    "                  early_stopping_rounds=200, verbose=1000,\n",
    "                  categorical_feature=cat_cols_indices)\n",
    "\n",
    "        y_pred = model.predict(val_x, num_iteration=model.best_iteration_)\n",
    "        y_pred_meta_lgb2[val] += np.array([y_pred]).T\n",
    "        y_pred_final_lgb2 += model.predict(Xtest, num_iteration=model.best_iteration_)\n",
    "        \n",
    "        score = np.sqrt(mean_squared_log_error(np.exp(val_y), np.exp(y_pred)))\n",
    "        oof_score2 += score\n",
    "        seed_score += score\n",
    "        fet_imp2 += model.feature_importances_\n",
    "        print(\"Seed-{} | Fold-{} | OOF Score: {}\".format(seed, idx, score))\n",
    "    \n",
    "    print(\"\\nSeed: {} | Aggregate OOF Score: {}\\n\\n\".format(seed, (seed_score / FOLD)))\n",
    "\n",
    "\n",
    "y_pred_meta_lgb2 = y_pred_meta_lgb2 / float(len(SEEDS))\n",
    "y_pred_final_lgb2 = y_pred_final_lgb2 / float(counter)\n",
    "fet_imp2 = fet_imp2 / float(counter)\n",
    "oof_score2 /= float(counter)\n",
    "print(\"Aggregate OOF Score: {}\".format(oof_score2))"
   ]
  },
  {
   "cell_type": "code",
   "execution_count": 7,
   "id": "orange-issue",
   "metadata": {
    "execution": {
     "iopub.execute_input": "2021-07-16T12:47:10.537204Z",
     "iopub.status.busy": "2021-07-16T12:47:10.536275Z",
     "iopub.status.idle": "2021-07-16T12:47:10.565246Z",
     "shell.execute_reply": "2021-07-16T12:47:10.564716Z",
     "shell.execute_reply.started": "2021-07-06T13:11:33.570716Z"
    },
    "id": "uLzmS7LzXvXy",
    "papermill": {
     "duration": 0.096455,
     "end_time": "2021-07-16T12:47:10.565401",
     "exception": false,
     "start_time": "2021-07-16T12:47:10.468946",
     "status": "completed"
    },
    "tags": []
   },
   "outputs": [],
   "source": [
    "np.savez_compressed('./LGB_Meta_Features.npz',\n",
    "                    y_pred_meta_lgb1=y_pred_meta_lgb1,\n",
    "                    y_pred_meta_lgb2=y_pred_meta_lgb2,\n",
    "                    oof_score1=oof_score1,\n",
    "                    oof_score2=oof_score2,\n",
    "                    y_pred_final_lgb1=y_pred_final_lgb1,\n",
    "                    y_pred_final_lgb2=y_pred_final_lgb2)"
   ]
  },
  {
   "cell_type": "markdown",
   "id": "timely-imagination",
   "metadata": {
    "papermill": {
     "duration": 0.059383,
     "end_time": "2021-07-16T12:47:10.685551",
     "exception": false,
     "start_time": "2021-07-16T12:47:10.626168",
     "status": "completed"
    },
    "tags": []
   },
   "source": [
    "## Create submission file"
   ]
  },
  {
   "cell_type": "code",
   "execution_count": 8,
   "id": "korean-killing",
   "metadata": {
    "execution": {
     "iopub.execute_input": "2021-07-16T12:47:10.813254Z",
     "iopub.status.busy": "2021-07-16T12:47:10.812259Z",
     "iopub.status.idle": "2021-07-16T12:47:10.815389Z",
     "shell.execute_reply": "2021-07-16T12:47:10.814793Z",
     "shell.execute_reply.started": "2021-07-10T11:31:51.28722Z"
    },
    "papermill": {
     "duration": 0.06858,
     "end_time": "2021-07-16T12:47:10.815559",
     "exception": false,
     "start_time": "2021-07-16T12:47:10.746979",
     "status": "completed"
    },
    "tags": []
   },
   "outputs": [],
   "source": [
    "y_pred_final_lgb = (y_pred_final_lgb1 + y_pred_final_lgb2) / 2.0"
   ]
  },
  {
   "cell_type": "code",
   "execution_count": 9,
   "id": "underlying-accordance",
   "metadata": {
    "execution": {
     "iopub.execute_input": "2021-07-16T12:47:10.946830Z",
     "iopub.status.busy": "2021-07-16T12:47:10.946158Z",
     "iopub.status.idle": "2021-07-16T12:47:11.224344Z",
     "shell.execute_reply": "2021-07-16T12:47:11.223725Z",
     "shell.execute_reply.started": "2021-07-10T11:31:51.430659Z"
    },
    "papermill": {
     "duration": 0.347877,
     "end_time": "2021-07-16T12:47:11.224501",
     "exception": false,
     "start_time": "2021-07-16T12:47:10.876624",
     "status": "completed"
    },
    "tags": []
   },
   "outputs": [
    {
     "name": "stdout",
     "output_type": "stream",
     "text": [
      "Num records after Step-1: 15725\n",
      "Num records after Step-2: 15463\n"
     ]
    }
   ],
   "source": [
    "train_df = pd.read_csv(\"../input/mathcothon/train.csv\")\n",
    "test_df = pd.read_csv(\"../input/mathcothon/test.csv\")\n",
    "\n",
    "check_cols = [col for col in train_df.columns if col != 'ID']\n",
    "train_df = train_df[~train_df.duplicated(subset=check_cols, keep='first')].copy()\n",
    "print(f\"Num records after Step-1: {train_df.shape[0]}\")\n",
    "\n",
    "check_cols = [col for col in train_df.columns if col not in ['ID','Price']]\n",
    "train_df = train_df.groupby(check_cols).agg({'Price':'mean'}).reset_index().copy()\n",
    "print(f\"Num records after Step-2: {train_df.shape[0]}\")"
   ]
  },
  {
   "cell_type": "code",
   "execution_count": 10,
   "id": "studied-corps",
   "metadata": {
    "execution": {
     "iopub.execute_input": "2021-07-16T12:47:11.358125Z",
     "iopub.status.busy": "2021-07-16T12:47:11.357480Z",
     "iopub.status.idle": "2021-07-16T12:47:11.614877Z",
     "shell.execute_reply": "2021-07-16T12:47:11.615348Z",
     "shell.execute_reply.started": "2021-07-10T11:31:51.618382Z"
    },
    "papermill": {
     "duration": 0.328227,
     "end_time": "2021-07-16T12:47:11.615530",
     "exception": false,
     "start_time": "2021-07-16T12:47:11.287303",
     "status": "completed"
    },
    "tags": []
   },
   "outputs": [
    {
     "name": "stdout",
     "output_type": "stream",
     "text": [
      "df: (8245, 19)\n"
     ]
    },
    {
     "data": {
      "text/html": [
       "<div>\n",
       "<style scoped>\n",
       "    .dataframe tbody tr th:only-of-type {\n",
       "        vertical-align: middle;\n",
       "    }\n",
       "\n",
       "    .dataframe tbody tr th {\n",
       "        vertical-align: top;\n",
       "    }\n",
       "\n",
       "    .dataframe thead th {\n",
       "        text-align: right;\n",
       "    }\n",
       "</style>\n",
       "<table border=\"1\" class=\"dataframe\">\n",
       "  <thead>\n",
       "    <tr style=\"text-align: right;\">\n",
       "      <th></th>\n",
       "      <th>Levy</th>\n",
       "      <th>Manufacturer</th>\n",
       "      <th>Model</th>\n",
       "      <th>Prod. year</th>\n",
       "      <th>Category</th>\n",
       "      <th>Leather interior</th>\n",
       "      <th>Fuel type</th>\n",
       "      <th>Engine volume</th>\n",
       "      <th>Mileage</th>\n",
       "      <th>Cylinders</th>\n",
       "      <th>Gear box type</th>\n",
       "      <th>Drive wheels</th>\n",
       "      <th>Doors</th>\n",
       "      <th>Wheel</th>\n",
       "      <th>Color</th>\n",
       "      <th>Airbags</th>\n",
       "      <th>Train_Price</th>\n",
       "      <th>Predicted_Price</th>\n",
       "      <th>Price</th>\n",
       "    </tr>\n",
       "  </thead>\n",
       "  <tbody>\n",
       "    <tr>\n",
       "      <th>0</th>\n",
       "      <td>-</td>\n",
       "      <td>VOLKSWAGEN</td>\n",
       "      <td>Golf</td>\n",
       "      <td>2012</td>\n",
       "      <td>Hatchback</td>\n",
       "      <td>No</td>\n",
       "      <td>Diesel</td>\n",
       "      <td>2.0 Turbo</td>\n",
       "      <td>0 km</td>\n",
       "      <td>4</td>\n",
       "      <td>Manual</td>\n",
       "      <td>Front</td>\n",
       "      <td>02-Mar</td>\n",
       "      <td>Left wheel</td>\n",
       "      <td>Grey</td>\n",
       "      <td>10</td>\n",
       "      <td>NaN</td>\n",
       "      <td>11353.032406</td>\n",
       "      <td>11353.032406</td>\n",
       "    </tr>\n",
       "    <tr>\n",
       "      <th>1</th>\n",
       "      <td>-</td>\n",
       "      <td>HYUNDAI</td>\n",
       "      <td>Sonata</td>\n",
       "      <td>2012</td>\n",
       "      <td>Sedan</td>\n",
       "      <td>Yes</td>\n",
       "      <td>Petrol</td>\n",
       "      <td>2.4</td>\n",
       "      <td>26000 km</td>\n",
       "      <td>4</td>\n",
       "      <td>Tiptronic</td>\n",
       "      <td>Front</td>\n",
       "      <td>04-May</td>\n",
       "      <td>Left wheel</td>\n",
       "      <td>Grey</td>\n",
       "      <td>10</td>\n",
       "      <td>NaN</td>\n",
       "      <td>8251.521438</td>\n",
       "      <td>8251.521438</td>\n",
       "    </tr>\n",
       "    <tr>\n",
       "      <th>2</th>\n",
       "      <td>-</td>\n",
       "      <td>NISSAN</td>\n",
       "      <td>Tiida</td>\n",
       "      <td>2005</td>\n",
       "      <td>Sedan</td>\n",
       "      <td>No</td>\n",
       "      <td>Petrol</td>\n",
       "      <td>1.5</td>\n",
       "      <td>168000 km</td>\n",
       "      <td>4</td>\n",
       "      <td>Automatic</td>\n",
       "      <td>Front</td>\n",
       "      <td>04-May</td>\n",
       "      <td>Right-hand drive</td>\n",
       "      <td>Sky blue</td>\n",
       "      <td>8</td>\n",
       "      <td>NaN</td>\n",
       "      <td>9798.845639</td>\n",
       "      <td>9798.845639</td>\n",
       "    </tr>\n",
       "    <tr>\n",
       "      <th>3</th>\n",
       "      <td>975</td>\n",
       "      <td>VOLVO</td>\n",
       "      <td>XC90</td>\n",
       "      <td>2012</td>\n",
       "      <td>Jeep</td>\n",
       "      <td>Yes</td>\n",
       "      <td>Petrol</td>\n",
       "      <td>3.2</td>\n",
       "      <td>143000 km</td>\n",
       "      <td>6</td>\n",
       "      <td>Automatic</td>\n",
       "      <td>4x4</td>\n",
       "      <td>04-May</td>\n",
       "      <td>Left wheel</td>\n",
       "      <td>Blue</td>\n",
       "      <td>12</td>\n",
       "      <td>NaN</td>\n",
       "      <td>6702.816321</td>\n",
       "      <td>6702.816321</td>\n",
       "    </tr>\n",
       "    <tr>\n",
       "      <th>4</th>\n",
       "      <td>-</td>\n",
       "      <td>OPEL</td>\n",
       "      <td>Astra</td>\n",
       "      <td>1993</td>\n",
       "      <td>Hatchback</td>\n",
       "      <td>No</td>\n",
       "      <td>Petrol</td>\n",
       "      <td>1.6</td>\n",
       "      <td>200000 km</td>\n",
       "      <td>4</td>\n",
       "      <td>Manual</td>\n",
       "      <td>Front</td>\n",
       "      <td>04-May</td>\n",
       "      <td>Left wheel</td>\n",
       "      <td>Black</td>\n",
       "      <td>0</td>\n",
       "      <td>NaN</td>\n",
       "      <td>3491.258483</td>\n",
       "      <td>3491.258483</td>\n",
       "    </tr>\n",
       "  </tbody>\n",
       "</table>\n",
       "</div>"
      ],
      "text/plain": [
       "  Levy Manufacturer   Model  Prod. year   Category Leather interior Fuel type  \\\n",
       "0    -   VOLKSWAGEN    Golf        2012  Hatchback               No    Diesel   \n",
       "1    -      HYUNDAI  Sonata        2012      Sedan              Yes    Petrol   \n",
       "2    -       NISSAN   Tiida        2005      Sedan               No    Petrol   \n",
       "3  975        VOLVO    XC90        2012       Jeep              Yes    Petrol   \n",
       "4    -         OPEL   Astra        1993  Hatchback               No    Petrol   \n",
       "\n",
       "  Engine volume    Mileage  Cylinders Gear box type Drive wheels   Doors  \\\n",
       "0     2.0 Turbo       0 km          4        Manual        Front  02-Mar   \n",
       "1           2.4   26000 km          4     Tiptronic        Front  04-May   \n",
       "2           1.5  168000 km          4     Automatic        Front  04-May   \n",
       "3           3.2  143000 km          6     Automatic          4x4  04-May   \n",
       "4           1.6  200000 km          4        Manual        Front  04-May   \n",
       "\n",
       "              Wheel     Color  Airbags  Train_Price  Predicted_Price  \\\n",
       "0        Left wheel      Grey       10          NaN     11353.032406   \n",
       "1        Left wheel      Grey       10          NaN      8251.521438   \n",
       "2  Right-hand drive  Sky blue        8          NaN      9798.845639   \n",
       "3        Left wheel      Blue       12          NaN      6702.816321   \n",
       "4        Left wheel     Black        0          NaN      3491.258483   \n",
       "\n",
       "          Price  \n",
       "0  11353.032406  \n",
       "1   8251.521438  \n",
       "2   9798.845639  \n",
       "3   6702.816321  \n",
       "4   3491.258483  "
      ]
     },
     "execution_count": 10,
     "metadata": {},
     "output_type": "execute_result"
    }
   ],
   "source": [
    "train_cols = [col for col in train_df.columns if col != 'ID']\n",
    "test_cols = [col for col in test_df.columns if col not in ['ID','Price']]\n",
    "\n",
    "df = pd.merge(\n",
    "    test_df[test_cols], \n",
    "    train_df[train_cols], \n",
    "    how='left', \n",
    "    on=test_cols,\n",
    "    sort=False\n",
    ")\n",
    "\n",
    "df = df.rename(columns={'Price': 'Train_Price'})\n",
    "df['Predicted_Price'] = np.exp(y_pred_final_lgb)\n",
    "df['Price'] = df.apply(lambda row: row['Predicted_Price'] if pd.isnull(row['Train_Price']) else row['Train_Price'], axis=1)\n",
    "print(f\"df: {df.shape}\")\n",
    "df.head()"
   ]
  },
  {
   "cell_type": "code",
   "execution_count": 11,
   "id": "color-humanitarian",
   "metadata": {
    "execution": {
     "iopub.execute_input": "2021-07-16T12:47:11.771147Z",
     "iopub.status.busy": "2021-07-16T12:47:11.769361Z",
     "iopub.status.idle": "2021-07-16T12:47:11.781118Z",
     "shell.execute_reply": "2021-07-16T12:47:11.780499Z",
     "shell.execute_reply.started": "2021-07-10T11:31:51.794939Z"
    },
    "papermill": {
     "duration": 0.101988,
     "end_time": "2021-07-16T12:47:11.781253",
     "exception": false,
     "start_time": "2021-07-16T12:47:11.679265",
     "status": "completed"
    },
    "tags": []
   },
   "outputs": [],
   "source": [
    "df.loc[df['Manufacturer']=='TESLA','Price'] = 53941\n",
    "df.loc[df['Manufacturer']=='SATURN','Price'] = 13799\n",
    "df.loc[df['Manufacturer']=='ASTON MARTIN','Price'] = 54000\n",
    "df.loc[(df['Manufacturer']=='GREATWALL')&(df['Model']=='C30'),'Price'] = 10036\n",
    "\n",
    "df.loc[df['Prod. year']==1943,'Price'] = 119172\n",
    "df.loc[df['Prod. year']==1968,'Price'] = 2200\n",
    "df.loc[df['Prod. year']==1981,'Price'] = 2800\n",
    "\n",
    "df.loc[df['Fuel type']=='Hydrogen','Price'] = 20385\n",
    "\n",
    "df.loc[df['Engine volume']=='0.3 Turbo', 'Price'] = 6272\n",
    "df.loc[df['Engine volume']=='0.5', 'Price'] = 1300\n",
    "df.loc[df['Engine volume']=='0.8 Turbo', 'Price'] = 6272\n",
    "df.loc[df['Engine volume']=='3.1', 'Price'] = 8781\n",
    "df.loc[df['Engine volume']=='5.2', 'Price'] = 13000\n",
    "df.loc[df['Engine volume']=='6.7', 'Price'] = 1019"
   ]
  },
  {
   "cell_type": "code",
   "execution_count": 12,
   "id": "beginning-addition",
   "metadata": {
    "execution": {
     "iopub.execute_input": "2021-07-16T12:47:11.918089Z",
     "iopub.status.busy": "2021-07-16T12:47:11.917083Z",
     "iopub.status.idle": "2021-07-16T12:47:11.953383Z",
     "shell.execute_reply": "2021-07-16T12:47:11.953939Z",
     "shell.execute_reply.started": "2021-07-10T11:31:51.9981Z"
    },
    "papermill": {
     "duration": 0.108209,
     "end_time": "2021-07-16T12:47:11.954125",
     "exception": false,
     "start_time": "2021-07-16T12:47:11.845916",
     "status": "completed"
    },
    "tags": []
   },
   "outputs": [
    {
     "data": {
      "text/html": [
       "<div>\n",
       "<style scoped>\n",
       "    .dataframe tbody tr th:only-of-type {\n",
       "        vertical-align: middle;\n",
       "    }\n",
       "\n",
       "    .dataframe tbody tr th {\n",
       "        vertical-align: top;\n",
       "    }\n",
       "\n",
       "    .dataframe thead th {\n",
       "        text-align: right;\n",
       "    }\n",
       "</style>\n",
       "<table border=\"1\" class=\"dataframe\">\n",
       "  <thead>\n",
       "    <tr style=\"text-align: right;\">\n",
       "      <th></th>\n",
       "      <th>Price</th>\n",
       "    </tr>\n",
       "  </thead>\n",
       "  <tbody>\n",
       "    <tr>\n",
       "      <th>0</th>\n",
       "      <td>11353.032406</td>\n",
       "    </tr>\n",
       "    <tr>\n",
       "      <th>1</th>\n",
       "      <td>8251.521438</td>\n",
       "    </tr>\n",
       "    <tr>\n",
       "      <th>2</th>\n",
       "      <td>9798.845639</td>\n",
       "    </tr>\n",
       "    <tr>\n",
       "      <th>3</th>\n",
       "      <td>6702.816321</td>\n",
       "    </tr>\n",
       "    <tr>\n",
       "      <th>4</th>\n",
       "      <td>3491.258483</td>\n",
       "    </tr>\n",
       "  </tbody>\n",
       "</table>\n",
       "</div>"
      ],
      "text/plain": [
       "          Price\n",
       "0  11353.032406\n",
       "1   8251.521438\n",
       "2   9798.845639\n",
       "3   6702.816321\n",
       "4   3491.258483"
      ]
     },
     "execution_count": 12,
     "metadata": {},
     "output_type": "execute_result"
    }
   ],
   "source": [
    "submit_df = pd.DataFrame()\n",
    "submit_df['Price'] = df['Price']\n",
    "submit_df.to_csv(\"./LGB_Submission.csv\", index=False)\n",
    "submit_df.head()"
   ]
  },
  {
   "cell_type": "markdown",
   "id": "matched-vegetarian",
   "metadata": {
    "papermill": {
     "duration": 0.062295,
     "end_time": "2021-07-16T12:47:12.080236",
     "exception": false,
     "start_time": "2021-07-16T12:47:12.017941",
     "status": "completed"
    },
    "tags": []
   },
   "source": [
    "## Features Importance"
   ]
  },
  {
   "cell_type": "code",
   "execution_count": 13,
   "id": "protected-survivor",
   "metadata": {
    "execution": {
     "iopub.execute_input": "2021-07-16T12:47:12.217969Z",
     "iopub.status.busy": "2021-07-16T12:47:12.216931Z",
     "iopub.status.idle": "2021-07-16T12:47:13.752709Z",
     "shell.execute_reply": "2021-07-16T12:47:13.753217Z",
     "shell.execute_reply.started": "2021-07-10T11:21:04.408916Z"
    },
    "papermill": {
     "duration": 1.610633,
     "end_time": "2021-07-16T12:47:13.753396",
     "exception": false,
     "start_time": "2021-07-16T12:47:12.142763",
     "status": "completed"
    },
    "tags": []
   },
   "outputs": [
    {
     "data": {
      "image/png": "[encoded data removed]",
      "text/plain": [
       "<Figure size 1440x1440 with 1 Axes>"
      ]
     },
     "metadata": {
      "needs_background": "light"
     },
     "output_type": "display_data"
    }
   ],
   "source": [
    "fet_imp = (fet_imp1 + fet_imp2)/2.0\n",
    "feature_imp = pd.DataFrame(sorted(zip(fet_imp[0:60],Xtrain.columns[0:60])), columns=['Value','Feature'])\n",
    "\n",
    "plt.figure(figsize=(20, 20))\n",
    "sns.barplot(x=\"Value\", y=\"Feature\", data=feature_imp.sort_values(by=\"Value\", ascending=False))\n",
    "plt.title('LightGBM Features Importance', fontweight='bold')\n",
    "plt.tight_layout()\n",
    "plt.show()"
   ]
  },
  {
   "cell_type": "code",
   "execution_count": null,
   "id": "swiss-invention",
   "metadata": {
    "papermill": {
     "duration": 0.067032,
     "end_time": "2021-07-16T12:47:13.885121",
     "exception": false,
     "start_time": "2021-07-16T12:47:13.818089",
     "status": "completed"
    },
    "tags": []
   },
   "outputs": [],
   "source": []
  }
 ],
 "metadata": {
  "kernelspec": {
   "display_name": "Python 3 (ipykernel)",
   "language": "python",
   "name": "python3"
  },
  "language_info": {
   "codemirror_mode": {
    "name": "ipython",
    "version": 3
   },
   "file_extension": ".py",
   "mimetype": "text/x-python",
   "name": "python",
   "nbconvert_exporter": "python",
   "pygments_lexer": "ipython3",
   "version": "3.9.7"
  },
  "papermill": {
   "default_parameters": {},
   "duration": 1112.220002,
   "end_time": "2021-07-16T12:47:15.857795",
   "environment_variables": {},
   "exception": null,
   "input_path": "__notebook__.ipynb",
   "output_path": "__notebook__.ipynb",
   "parameters": {},
   "start_time": "2021-07-16T12:28:43.637793",
   "version": "2.3.3"
  }
 },
 "nbformat": 4,
 "nbformat_minor": 5
}
