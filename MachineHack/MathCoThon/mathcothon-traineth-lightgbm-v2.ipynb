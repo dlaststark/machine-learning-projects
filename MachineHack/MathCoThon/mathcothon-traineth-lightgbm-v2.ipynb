{
 "cells": [
  {
   "cell_type": "markdown",
   "id": "brazilian-colon",
   "metadata": {
    "id": "uLz9OcH8SeET",
    "papermill": {
     "duration": 0.017968,
     "end_time": "2021-07-16T13:39:02.863706",
     "exception": false,
     "start_time": "2021-07-16T13:39:02.845738",
     "status": "completed"
    },
    "tags": []
   },
   "source": [
    "## Import libraries"
   ]
  },
  {
   "cell_type": "code",
   "execution_count": 1,
   "id": "black-acrobat",
   "metadata": {
    "execution": {
     "iopub.execute_input": "2021-07-16T13:39:02.910927Z",
     "iopub.status.busy": "2021-07-16T13:39:02.910120Z",
     "iopub.status.idle": "2021-07-16T13:39:05.206329Z",
     "shell.execute_reply": "2021-07-16T13:39:05.207188Z",
     "shell.execute_reply.started": "2021-07-16T13:37:47.813983Z"
    },
    "executionInfo": {
     "elapsed": 23727,
     "status": "ok",
     "timestamp": 1616326442041,
     "user": {
      "displayName": "TAPAS DAS",
      "photoUrl": "https://lh3.googleusercontent.com/a-/AOh14GiyffdGKiPCR_UwVittzTcbBFms70IkGfU15fatCA=s64",
      "userId": "10798398878324948542"
     },
     "user_tz": -330
    },
    "id": "E9svswc9SUuX",
    "papermill": {
     "duration": 2.325894,
     "end_time": "2021-07-16T13:39:05.207499",
     "exception": false,
     "start_time": "2021-07-16T13:39:02.881605",
     "status": "completed"
    },
    "tags": []
   },
   "outputs": [
    {
     "data": {
      "text/html": [
       "<style type='text/css'>\n",
       ".datatable table.frame { margin-bottom: 0; }\n",
       ".datatable table.frame thead { border-bottom: none; }\n",
       ".datatable table.frame tr.coltypes td {  color: #FFFFFF;  line-height: 6px;  padding: 0 0.5em;}\n",
       ".datatable .bool    { background: #DDDD99; }\n",
       ".datatable .object  { background: #565656; }\n",
       ".datatable .int     { background: #5D9E5D; }\n",
       ".datatable .float   { background: #4040CC; }\n",
       ".datatable .str     { background: #CC4040; }\n",
       ".datatable .row_index {  background: var(--jp-border-color3);  border-right: 1px solid var(--jp-border-color0);  color: var(--jp-ui-font-color3);  font-size: 9px;}\n",
       ".datatable .frame tr.coltypes .row_index {  background: var(--jp-border-color0);}\n",
       ".datatable th:nth-child(2) { padding-left: 12px; }\n",
       ".datatable .hellipsis {  color: var(--jp-cell-editor-border-color);}\n",
       ".datatable .vellipsis {  background: var(--jp-layout-color0);  color: var(--jp-cell-editor-border-color);}\n",
       ".datatable .na {  color: var(--jp-cell-editor-border-color);  font-size: 80%;}\n",
       ".datatable .footer { font-size: 9px; }\n",
       ".datatable .frame_dimensions {  background: var(--jp-border-color3);  border-top: 1px solid var(--jp-border-color0);  color: var(--jp-ui-font-color3);  display: inline-block;  opacity: 0.6;  padding: 1px 10px 1px 5px;}\n",
       "</style>\n"
      ],
      "text/plain": [
       "<IPython.core.display.HTML object>"
      ]
     },
     "metadata": {},
     "output_type": "display_data"
    }
   ],
   "source": [
    "import warnings\n",
    "warnings.filterwarnings(\"ignore\")\n",
    "\n",
    "import gc\n",
    "import pickle\n",
    "import numpy as np\n",
    "import pandas as pd\n",
    "import seaborn as sns\n",
    "import matplotlib.pyplot as plt\n",
    "from lightgbm import LGBMRegressor\n",
    "from sklearn.metrics import mean_squared_log_error\n",
    "from sklearn.model_selection import StratifiedKFold"
   ]
  },
  {
   "cell_type": "markdown",
   "id": "allied-shanghai",
   "metadata": {
    "id": "hg85SpW-S6hl",
    "papermill": {
     "duration": 0.017962,
     "end_time": "2021-07-16T13:39:05.244513",
     "exception": false,
     "start_time": "2021-07-16T13:39:05.226551",
     "status": "completed"
    },
    "tags": []
   },
   "source": [
    "## Prepare data for model training"
   ]
  },
  {
   "cell_type": "code",
   "execution_count": 2,
   "id": "nominated-agency",
   "metadata": {
    "execution": {
     "iopub.execute_input": "2021-07-16T13:39:05.285268Z",
     "iopub.status.busy": "2021-07-16T13:39:05.284169Z",
     "iopub.status.idle": "2021-07-16T13:39:06.892301Z",
     "shell.execute_reply": "2021-07-16T13:39:06.891264Z",
     "shell.execute_reply.started": "2021-07-16T13:37:50.209825Z"
    },
    "executionInfo": {
     "elapsed": 10043,
     "status": "ok",
     "timestamp": 1616326444482,
     "user": {
      "displayName": "TAPAS DAS",
      "photoUrl": "https://lh3.googleusercontent.com/a-/AOh14GiyffdGKiPCR_UwVittzTcbBFms70IkGfU15fatCA=s64",
      "userId": "10798398878324948542"
     },
     "user_tz": -330
    },
    "id": "VdhgoIAmSUxK",
    "outputId": "7897cfad-c8d4-46d9-86ea-04de37e11444",
    "papermill": {
     "duration": 1.629871,
     "end_time": "2021-07-16T13:39:06.892514",
     "exception": false,
     "start_time": "2021-07-16T13:39:05.262643",
     "status": "completed"
    },
    "tags": []
   },
   "outputs": [
    {
     "data": {
      "text/plain": [
       "0"
      ]
     },
     "execution_count": 2,
     "metadata": {},
     "output_type": "execute_result"
    }
   ],
   "source": [
    "with open(\"../input/mathcothon-i-shalt-prepareth-data/MathCoThon_Ready_Meatballs.txt\", 'rb') as handle: \n",
    "    data = handle.read()\n",
    "\n",
    "processed_data = pickle.loads(data)\n",
    "train_df = processed_data['train_df']\n",
    "test_df = processed_data['test_df']\n",
    "\n",
    "Ytrain = train_df['Price'].copy()\n",
    "Ytrain_strat = pd.qcut(np.log1p(train_df['Price']), q=10, labels=range(0,10))\n",
    "train_df.drop(['Price'], inplace=True, axis=1)\n",
    "\n",
    "del processed_data\n",
    "gc.collect()"
   ]
  },
  {
   "cell_type": "code",
   "execution_count": 3,
   "id": "athletic-owner",
   "metadata": {
    "execution": {
     "iopub.execute_input": "2021-07-16T13:39:06.939844Z",
     "iopub.status.busy": "2021-07-16T13:39:06.939102Z",
     "iopub.status.idle": "2021-07-16T13:39:07.285885Z",
     "shell.execute_reply": "2021-07-16T13:39:07.286355Z",
     "shell.execute_reply.started": "2021-07-16T13:37:51.797742Z"
    },
    "papermill": {
     "duration": 0.371474,
     "end_time": "2021-07-16T13:39:07.286532",
     "exception": false,
     "start_time": "2021-07-16T13:39:06.915058",
     "status": "completed"
    },
    "tags": []
   },
   "outputs": [
    {
     "data": {
      "text/plain": [
       "20"
      ]
     },
     "execution_count": 3,
     "metadata": {},
     "output_type": "execute_result"
    }
   ],
   "source": [
    "with open(\"../input/mathcothon-denoised-meatballs/MathCoThon_Denoised_Meatballs.txt\", 'rb') as handle: \n",
    "    data = handle.read()\n",
    "\n",
    "processed_data = pickle.loads(data)\n",
    "dae_train_df = processed_data['dae_train_df']\n",
    "dae_test_df = processed_data['dae_test_df']\n",
    "\n",
    "del processed_data\n",
    "gc.collect()"
   ]
  },
  {
   "cell_type": "code",
   "execution_count": 4,
   "id": "applicable-pension",
   "metadata": {
    "execution": {
     "iopub.execute_input": "2021-07-16T13:39:07.331367Z",
     "iopub.status.busy": "2021-07-16T13:39:07.330477Z",
     "iopub.status.idle": "2021-07-16T13:39:07.454352Z",
     "shell.execute_reply": "2021-07-16T13:39:07.453761Z",
     "shell.execute_reply.started": "2021-07-16T13:37:52.278412Z"
    },
    "papermill": {
     "duration": 0.150271,
     "end_time": "2021-07-16T13:39:07.454494",
     "exception": false,
     "start_time": "2021-07-16T13:39:07.304223",
     "status": "completed"
    },
    "tags": []
   },
   "outputs": [],
   "source": [
    "cat_cols = ['Manufacturer','Model','Category','Leather interior','Cylinders',\n",
    "            'Doors','Wheel','Color','Airbags','Turbo_Engine','Leap_Year',\n",
    "            'Hybrid_Car','Numbers_in_Model','Drive wheels Front','Drive wheels Rear',\n",
    "            'Manual_Gear','Automatic_Gear','Continuous_Gear','Fuel Tank Petrol',\n",
    "            'Fuel Tank Diesel','Fuel Tank Gas','id0','id1','id2','id3','id4','id5','id6','id7']\n",
    "\n",
    "vec_cols = [col for col in test_df.columns if (col.startswith('tfidf_') or col.startswith('countvec_'))]\n",
    "num_cols = [col for col in test_df.columns if not(col in cat_cols or col in vec_cols)]\n",
    "\n",
    "train_df[cat_cols] = train_df[cat_cols].astype(int)\n",
    "test_df[cat_cols] = test_df[cat_cols].astype(int)"
   ]
  },
  {
   "cell_type": "code",
   "execution_count": 5,
   "id": "interpreted-decline",
   "metadata": {
    "execution": {
     "iopub.execute_input": "2021-07-16T13:39:07.498216Z",
     "iopub.status.busy": "2021-07-16T13:39:07.497547Z",
     "iopub.status.idle": "2021-07-16T13:39:07.756839Z",
     "shell.execute_reply": "2021-07-16T13:39:07.757335Z",
     "shell.execute_reply.started": "2021-07-16T13:37:52.408640Z"
    },
    "papermill": {
     "duration": 0.28513,
     "end_time": "2021-07-16T13:39:07.757503",
     "exception": false,
     "start_time": "2021-07-16T13:39:07.472373",
     "status": "completed"
    },
    "tags": []
   },
   "outputs": [
    {
     "name": "stdout",
     "output_type": "stream",
     "text": [
      "Xtrain: (15628, 349) \n",
      "Ytrain: (15628,) \n",
      "Xtest: (8245, 349)\n"
     ]
    },
    {
     "data": {
      "text/plain": [
       "20"
      ]
     },
     "execution_count": 5,
     "metadata": {},
     "output_type": "execute_result"
    }
   ],
   "source": [
    "Xtrain = pd.merge(train_df[cat_cols+num_cols], dae_train_df, on='ID', how='inner', sort=False)\n",
    "Xtest = pd.merge(test_df[cat_cols+num_cols], dae_test_df, on='ID', how='inner', sort=False)\n",
    "print(\"Xtrain: {} \\nYtrain: {} \\nXtest: {}\".format(Xtrain.shape, Ytrain.shape, Xtest.shape))\n",
    "\n",
    "cat_cols_indices = [Xtrain.columns.get_loc(col) for col in cat_cols]\n",
    "\n",
    "del train_df\n",
    "del test_df\n",
    "gc.collect()"
   ]
  },
  {
   "cell_type": "markdown",
   "id": "conservative-evening",
   "metadata": {
    "id": "9wNC5rWEVnjd",
    "papermill": {
     "duration": 0.018212,
     "end_time": "2021-07-16T13:39:07.794198",
     "exception": false,
     "start_time": "2021-07-16T13:39:07.775986",
     "status": "completed"
    },
    "tags": []
   },
   "source": [
    "## Build and validate the model"
   ]
  },
  {
   "cell_type": "markdown",
   "id": "listed-sentence",
   "metadata": {
    "papermill": {
     "duration": 0.01845,
     "end_time": "2021-07-16T13:39:07.831228",
     "exception": false,
     "start_time": "2021-07-16T13:39:07.812778",
     "status": "completed"
    },
    "tags": []
   },
   "source": [
    "### Model-1"
   ]
  },
  {
   "cell_type": "code",
   "execution_count": 6,
   "id": "constitutional-robertson",
   "metadata": {
    "execution": {
     "iopub.execute_input": "2021-07-16T13:39:07.882351Z",
     "iopub.status.busy": "2021-07-16T13:39:07.877041Z",
     "iopub.status.idle": "2021-07-16T13:46:21.176429Z",
     "shell.execute_reply": "2021-07-16T13:46:21.177096Z",
     "shell.execute_reply.started": "2021-07-16T13:37:55.184762Z"
    },
    "id": "uWPosEORSVBp",
    "outputId": "d70ac047-a86b-4f36-84cc-960b1b5316be",
    "papermill": {
     "duration": 433.327574,
     "end_time": "2021-07-16T13:46:21.177349",
     "exception": false,
     "start_time": "2021-07-16T13:39:07.849775",
     "status": "completed"
    },
    "tags": []
   },
   "outputs": [
    {
     "name": "stdout",
     "output_type": "stream",
     "text": [
      "Training until validation scores don't improve for 200 rounds\n",
      "[200]\tvalid_0's rmse: 0.997173\tvalid_0's l2: 0.994353\n",
      "[400]\tvalid_0's rmse: 0.951008\tvalid_0's l2: 0.904417\n",
      "[600]\tvalid_0's rmse: 0.937763\tvalid_0's l2: 0.8794\n",
      "[800]\tvalid_0's rmse: 0.931367\tvalid_0's l2: 0.867445\n",
      "[1000]\tvalid_0's rmse: 0.929964\tvalid_0's l2: 0.864834\n",
      "[1200]\tvalid_0's rmse: 0.928492\tvalid_0's l2: 0.862097\n",
      "Early stopping, best iteration is:\n",
      "[1117]\tvalid_0's rmse: 0.927411\tvalid_0's l2: 0.860092\n",
      "Seed-2020 | Fold-0 | OOF Score: 0.92530596718046\n",
      "Training until validation scores don't improve for 200 rounds\n",
      "[200]\tvalid_0's rmse: 0.953526\tvalid_0's l2: 0.909212\n",
      "[400]\tvalid_0's rmse: 0.92823\tvalid_0's l2: 0.86161\n",
      "[600]\tvalid_0's rmse: 0.923746\tvalid_0's l2: 0.853306\n",
      "[800]\tvalid_0's rmse: 0.92343\tvalid_0's l2: 0.852722\n",
      "[1000]\tvalid_0's rmse: 0.923096\tvalid_0's l2: 0.852106\n",
      "[1200]\tvalid_0's rmse: 0.922265\tvalid_0's l2: 0.850573\n",
      "[1400]\tvalid_0's rmse: 0.920682\tvalid_0's l2: 0.847656\n",
      "[1600]\tvalid_0's rmse: 0.920784\tvalid_0's l2: 0.847842\n",
      "Early stopping, best iteration is:\n",
      "[1471]\tvalid_0's rmse: 0.920162\tvalid_0's l2: 0.846699\n",
      "Seed-2020 | Fold-1 | OOF Score: 0.9185232307456973\n",
      "Training until validation scores don't improve for 200 rounds\n",
      "[200]\tvalid_0's rmse: 0.957037\tvalid_0's l2: 0.91592\n",
      "[400]\tvalid_0's rmse: 0.92549\tvalid_0's l2: 0.856532\n",
      "[600]\tvalid_0's rmse: 0.926362\tvalid_0's l2: 0.858146\n",
      "Early stopping, best iteration is:\n",
      "[450]\tvalid_0's rmse: 0.924929\tvalid_0's l2: 0.855493\n",
      "Seed-2020 | Fold-2 | OOF Score: 0.9233680869753255\n",
      "Training until validation scores don't improve for 200 rounds\n",
      "[200]\tvalid_0's rmse: 0.976625\tvalid_0's l2: 0.953796\n",
      "[400]\tvalid_0's rmse: 0.937624\tvalid_0's l2: 0.879139\n",
      "[600]\tvalid_0's rmse: 0.927369\tvalid_0's l2: 0.860013\n",
      "[800]\tvalid_0's rmse: 0.923544\tvalid_0's l2: 0.852934\n",
      "[1000]\tvalid_0's rmse: 0.921176\tvalid_0's l2: 0.848565\n",
      "[1200]\tvalid_0's rmse: 0.919662\tvalid_0's l2: 0.845779\n",
      "[1400]\tvalid_0's rmse: 0.918916\tvalid_0's l2: 0.844406\n",
      "[1600]\tvalid_0's rmse: 0.919046\tvalid_0's l2: 0.844645\n",
      "Early stopping, best iteration is:\n",
      "[1488]\tvalid_0's rmse: 0.918476\tvalid_0's l2: 0.843597\n",
      "Seed-2020 | Fold-3 | OOF Score: 0.9166195102803563\n",
      "Training until validation scores don't improve for 200 rounds\n",
      "[200]\tvalid_0's rmse: 0.930592\tvalid_0's l2: 0.866002\n",
      "[400]\tvalid_0's rmse: 0.89391\tvalid_0's l2: 0.799076\n",
      "[600]\tvalid_0's rmse: 0.886318\tvalid_0's l2: 0.78556\n",
      "[800]\tvalid_0's rmse: 0.884072\tvalid_0's l2: 0.781584\n",
      "[1000]\tvalid_0's rmse: 0.886186\tvalid_0's l2: 0.785326\n",
      "Early stopping, best iteration is:\n",
      "[803]\tvalid_0's rmse: 0.883937\tvalid_0's l2: 0.781344\n",
      "Seed-2020 | Fold-4 | OOF Score: 0.8822914243016777\n",
      "Training until validation scores don't improve for 200 rounds\n",
      "[200]\tvalid_0's rmse: 0.982082\tvalid_0's l2: 0.964486\n",
      "[400]\tvalid_0's rmse: 0.937446\tvalid_0's l2: 0.878805\n",
      "[600]\tvalid_0's rmse: 0.928983\tvalid_0's l2: 0.86301\n",
      "[800]\tvalid_0's rmse: 0.929797\tvalid_0's l2: 0.864523\n",
      "Early stopping, best iteration is:\n",
      "[611]\tvalid_0's rmse: 0.92857\tvalid_0's l2: 0.862242\n",
      "Seed-2020 | Fold-5 | OOF Score: 0.926722497740549\n",
      "Training until validation scores don't improve for 200 rounds\n",
      "[200]\tvalid_0's rmse: 0.97336\tvalid_0's l2: 0.947429\n",
      "[400]\tvalid_0's rmse: 0.923314\tvalid_0's l2: 0.852508\n",
      "[600]\tvalid_0's rmse: 0.90941\tvalid_0's l2: 0.827027\n",
      "[800]\tvalid_0's rmse: 0.904224\tvalid_0's l2: 0.817622\n",
      "[1000]\tvalid_0's rmse: 0.901107\tvalid_0's l2: 0.811993\n",
      "[1200]\tvalid_0's rmse: 0.901404\tvalid_0's l2: 0.81253\n",
      "Early stopping, best iteration is:\n",
      "[1084]\tvalid_0's rmse: 0.900692\tvalid_0's l2: 0.811247\n",
      "Seed-2020 | Fold-6 | OOF Score: 0.8982180980599168\n",
      "Training until validation scores don't improve for 200 rounds\n",
      "[200]\tvalid_0's rmse: 1.05969\tvalid_0's l2: 1.12294\n",
      "[400]\tvalid_0's rmse: 1.02757\tvalid_0's l2: 1.05591\n",
      "[600]\tvalid_0's rmse: 1.02428\tvalid_0's l2: 1.04916\n",
      "[800]\tvalid_0's rmse: 1.02458\tvalid_0's l2: 1.04976\n",
      "Early stopping, best iteration is:\n",
      "[617]\tvalid_0's rmse: 1.02367\tvalid_0's l2: 1.04789\n",
      "Seed-2020 | Fold-7 | OOF Score: 1.0215162224199876\n",
      "Training until validation scores don't improve for 200 rounds\n",
      "[200]\tvalid_0's rmse: 0.964635\tvalid_0's l2: 0.93052\n",
      "[400]\tvalid_0's rmse: 0.934108\tvalid_0's l2: 0.872558\n",
      "[600]\tvalid_0's rmse: 0.925218\tvalid_0's l2: 0.856029\n",
      "[800]\tvalid_0's rmse: 0.922885\tvalid_0's l2: 0.851717\n",
      "[1000]\tvalid_0's rmse: 0.922191\tvalid_0's l2: 0.850436\n",
      "[1200]\tvalid_0's rmse: 0.921604\tvalid_0's l2: 0.849354\n",
      "Early stopping, best iteration is:\n",
      "[1112]\tvalid_0's rmse: 0.921057\tvalid_0's l2: 0.848347\n",
      "Seed-2020 | Fold-8 | OOF Score: 0.9195537334348197\n",
      "Training until validation scores don't improve for 200 rounds\n",
      "[200]\tvalid_0's rmse: 0.965\tvalid_0's l2: 0.931225\n",
      "[400]\tvalid_0's rmse: 0.935182\tvalid_0's l2: 0.874565\n",
      "[600]\tvalid_0's rmse: 0.926567\tvalid_0's l2: 0.858526\n",
      "[800]\tvalid_0's rmse: 0.925204\tvalid_0's l2: 0.856003\n",
      "[1000]\tvalid_0's rmse: 0.925897\tvalid_0's l2: 0.857285\n",
      "Early stopping, best iteration is:\n",
      "[820]\tvalid_0's rmse: 0.925011\tvalid_0's l2: 0.855645\n",
      "Seed-2020 | Fold-9 | OOF Score: 0.9229258769675243\n",
      "\n",
      "Seed: 2020 | Aggregate OOF Score: 0.9255044648106313\n",
      "\n",
      "\n",
      "Training until validation scores don't improve for 200 rounds\n",
      "[200]\tvalid_0's rmse: 0.970222\tvalid_0's l2: 0.94133\n",
      "[400]\tvalid_0's rmse: 0.937248\tvalid_0's l2: 0.878433\n",
      "[600]\tvalid_0's rmse: 0.933188\tvalid_0's l2: 0.870841\n",
      "[800]\tvalid_0's rmse: 0.932322\tvalid_0's l2: 0.869225\n",
      "Early stopping, best iteration is:\n",
      "[666]\tvalid_0's rmse: 0.931583\tvalid_0's l2: 0.867847\n",
      "Seed-2022 | Fold-0 | OOF Score: 0.9298363418603232\n",
      "Training until validation scores don't improve for 200 rounds\n",
      "[200]\tvalid_0's rmse: 0.967001\tvalid_0's l2: 0.93509\n",
      "[400]\tvalid_0's rmse: 0.91655\tvalid_0's l2: 0.840064\n",
      "[600]\tvalid_0's rmse: 0.903477\tvalid_0's l2: 0.81627\n",
      "[800]\tvalid_0's rmse: 0.897168\tvalid_0's l2: 0.80491\n",
      "[1000]\tvalid_0's rmse: 0.894017\tvalid_0's l2: 0.799267\n",
      "[1200]\tvalid_0's rmse: 0.892453\tvalid_0's l2: 0.796472\n",
      "[1400]\tvalid_0's rmse: 0.893237\tvalid_0's l2: 0.797872\n",
      "Early stopping, best iteration is:\n",
      "[1212]\tvalid_0's rmse: 0.892022\tvalid_0's l2: 0.795703\n",
      "Seed-2022 | Fold-1 | OOF Score: 0.8903740123432823\n",
      "Training until validation scores don't improve for 200 rounds\n",
      "[200]\tvalid_0's rmse: 0.969311\tvalid_0's l2: 0.939563\n",
      "[400]\tvalid_0's rmse: 0.923052\tvalid_0's l2: 0.852024\n",
      "[600]\tvalid_0's rmse: 0.913066\tvalid_0's l2: 0.83369\n",
      "[800]\tvalid_0's rmse: 0.912325\tvalid_0's l2: 0.832337\n",
      "[1000]\tvalid_0's rmse: 0.911699\tvalid_0's l2: 0.831195\n",
      "Early stopping, best iteration is:\n",
      "[862]\tvalid_0's rmse: 0.911214\tvalid_0's l2: 0.830312\n",
      "Seed-2022 | Fold-2 | OOF Score: 0.9094875105501204\n",
      "Training until validation scores don't improve for 200 rounds\n",
      "[200]\tvalid_0's rmse: 0.946978\tvalid_0's l2: 0.896768\n",
      "[400]\tvalid_0's rmse: 0.910016\tvalid_0's l2: 0.828128\n",
      "[600]\tvalid_0's rmse: 0.903542\tvalid_0's l2: 0.816389\n",
      "[800]\tvalid_0's rmse: 0.903537\tvalid_0's l2: 0.816379\n",
      "Early stopping, best iteration is:\n",
      "[734]\tvalid_0's rmse: 0.902345\tvalid_0's l2: 0.814226\n",
      "Seed-2022 | Fold-3 | OOF Score: 0.9005811909454092\n",
      "Training until validation scores don't improve for 200 rounds\n",
      "[200]\tvalid_0's rmse: 0.967353\tvalid_0's l2: 0.935771\n",
      "[400]\tvalid_0's rmse: 0.942658\tvalid_0's l2: 0.888604\n",
      "[600]\tvalid_0's rmse: 0.937875\tvalid_0's l2: 0.879609\n",
      "[800]\tvalid_0's rmse: 0.938815\tvalid_0's l2: 0.881374\n",
      "Early stopping, best iteration is:\n",
      "[693]\tvalid_0's rmse: 0.937086\tvalid_0's l2: 0.87813\n",
      "Seed-2022 | Fold-4 | OOF Score: 0.9354027498341468\n",
      "Training until validation scores don't improve for 200 rounds\n",
      "[200]\tvalid_0's rmse: 1.04988\tvalid_0's l2: 1.10226\n",
      "[400]\tvalid_0's rmse: 1.01044\tvalid_0's l2: 1.02099\n",
      "[600]\tvalid_0's rmse: 1.00133\tvalid_0's l2: 1.00267\n",
      "[800]\tvalid_0's rmse: 0.998431\tvalid_0's l2: 0.996864\n",
      "[1000]\tvalid_0's rmse: 0.998609\tvalid_0's l2: 0.997221\n",
      "Early stopping, best iteration is:\n",
      "[814]\tvalid_0's rmse: 0.998208\tvalid_0's l2: 0.996419\n",
      "Seed-2022 | Fold-5 | OOF Score: 0.9952545284913886\n",
      "Training until validation scores don't improve for 200 rounds\n",
      "[200]\tvalid_0's rmse: 0.967546\tvalid_0's l2: 0.936145\n",
      "[400]\tvalid_0's rmse: 0.937799\tvalid_0's l2: 0.879467\n",
      "[600]\tvalid_0's rmse: 0.931252\tvalid_0's l2: 0.86723\n",
      "[800]\tvalid_0's rmse: 0.92907\tvalid_0's l2: 0.863171\n",
      "[1000]\tvalid_0's rmse: 0.928153\tvalid_0's l2: 0.861468\n",
      "Early stopping, best iteration is:\n",
      "[861]\tvalid_0's rmse: 0.927267\tvalid_0's l2: 0.859823\n",
      "Seed-2022 | Fold-6 | OOF Score: 0.925260545472933\n",
      "Training until validation scores don't improve for 200 rounds\n",
      "[200]\tvalid_0's rmse: 1.00206\tvalid_0's l2: 1.00413\n",
      "[400]\tvalid_0's rmse: 0.975263\tvalid_0's l2: 0.951139\n",
      "[600]\tvalid_0's rmse: 0.971698\tvalid_0's l2: 0.944197\n",
      "[800]\tvalid_0's rmse: 0.970181\tvalid_0's l2: 0.941251\n",
      "Early stopping, best iteration is:\n",
      "[742]\tvalid_0's rmse: 0.969794\tvalid_0's l2: 0.9405\n",
      "Seed-2022 | Fold-7 | OOF Score: 0.967754724556604\n",
      "Training until validation scores don't improve for 200 rounds\n",
      "[200]\tvalid_0's rmse: 0.964395\tvalid_0's l2: 0.930057\n",
      "[400]\tvalid_0's rmse: 0.916356\tvalid_0's l2: 0.839709\n",
      "[600]\tvalid_0's rmse: 0.908446\tvalid_0's l2: 0.825274\n",
      "[800]\tvalid_0's rmse: 0.907418\tvalid_0's l2: 0.823407\n",
      "[1000]\tvalid_0's rmse: 0.90751\tvalid_0's l2: 0.823575\n",
      "Early stopping, best iteration is:\n",
      "[845]\tvalid_0's rmse: 0.906677\tvalid_0's l2: 0.822063\n",
      "Seed-2022 | Fold-8 | OOF Score: 0.9049236670390672\n",
      "Training until validation scores don't improve for 200 rounds\n",
      "[200]\tvalid_0's rmse: 0.979712\tvalid_0's l2: 0.959836\n",
      "[400]\tvalid_0's rmse: 0.9335\tvalid_0's l2: 0.871422\n",
      "[600]\tvalid_0's rmse: 0.919051\tvalid_0's l2: 0.844654\n",
      "[800]\tvalid_0's rmse: 0.910759\tvalid_0's l2: 0.829482\n",
      "[1000]\tvalid_0's rmse: 0.908485\tvalid_0's l2: 0.825346\n",
      "[1200]\tvalid_0's rmse: 0.906448\tvalid_0's l2: 0.821648\n",
      "[1400]\tvalid_0's rmse: 0.905542\tvalid_0's l2: 0.820007\n",
      "Early stopping, best iteration is:\n",
      "[1360]\tvalid_0's rmse: 0.904975\tvalid_0's l2: 0.818979\n",
      "Seed-2022 | Fold-9 | OOF Score: 0.9034059641861407\n",
      "\n",
      "Seed: 2022 | Aggregate OOF Score: 0.9262281235279415\n",
      "\n",
      "\n",
      "Aggregate OOF Score: 0.9258662941692863\n"
     ]
    }
   ],
   "source": [
    "FOLD = 10\n",
    "SEEDS = [2020, 2022]\n",
    "\n",
    "fet_imp1 = 0\n",
    "counter = 0\n",
    "oof_score1 = 0\n",
    "y_pred_meta_lgb1 = np.zeros((Ytrain.shape[0], 1))\n",
    "y_pred_final_lgb1 = 0\n",
    "\n",
    "\n",
    "for sidx, seed in enumerate(SEEDS):\n",
    "    seed_score = 0\n",
    "    \n",
    "    kfold = StratifiedKFold(n_splits=FOLD, shuffle=True, random_state=seed)\n",
    "\n",
    "    for idx, (train, val) in enumerate(kfold.split(Xtrain.values, Ytrain_strat)):\n",
    "        counter += 1\n",
    "        \n",
    "        train_x, train_y = Xtrain.iloc[train], Ytrain.iloc[train]\n",
    "        val_x, val_y = Xtrain.iloc[val], Ytrain.iloc[val]\n",
    "        \n",
    "        model = LGBMRegressor(\n",
    "            boosting_type='gbdt', \n",
    "            num_leaves=75, \n",
    "            max_depth=7, \n",
    "            learning_rate=0.0107, \n",
    "            n_estimators=5000,\n",
    "            objective='regression', \n",
    "            min_child_samples=5, \n",
    "            subsample=0.875, \n",
    "            subsample_freq=7, \n",
    "            colsample_bytree=0.6995, \n",
    "            reg_lambda=0.00489,\n",
    "            random_state=(seed+idx)\n",
    "        )\n",
    "        \n",
    "        model.fit(train_x, train_y, eval_metric='rmse',\n",
    "                  eval_set=(val_x, val_y),\n",
    "                  early_stopping_rounds=200, verbose=200,\n",
    "                  categorical_feature=cat_cols_indices)\n",
    "\n",
    "        y_pred = model.predict(val_x, num_iteration=model.best_iteration_)\n",
    "        y_pred_meta_lgb1[val] += np.array([y_pred]).T\n",
    "        y_pred_final_lgb1 += model.predict(Xtest, num_iteration=model.best_iteration_)\n",
    "        \n",
    "        score = np.sqrt(mean_squared_log_error(np.exp(val_y), np.exp(y_pred)))\n",
    "        oof_score1 += score\n",
    "        seed_score += score\n",
    "        fet_imp1 += model.feature_importances_\n",
    "        print(\"Seed-{} | Fold-{} | OOF Score: {}\".format(seed, idx, score))\n",
    "    \n",
    "    print(\"\\nSeed: {} | Aggregate OOF Score: {}\\n\\n\".format(seed, (seed_score / FOLD)))\n",
    "\n",
    "\n",
    "y_pred_meta_lgb1 = y_pred_meta_lgb1 / float(len(SEEDS))\n",
    "y_pred_final_lgb1 = y_pred_final_lgb1 / float(counter)\n",
    "fet_imp1 = fet_imp1 / float(counter)\n",
    "oof_score1 /= float(counter)\n",
    "print(\"Aggregate OOF Score: {}\".format(oof_score1))"
   ]
  },
  {
   "cell_type": "markdown",
   "id": "lovely-airfare",
   "metadata": {
    "papermill": {
     "duration": 0.071367,
     "end_time": "2021-07-16T13:46:21.317494",
     "exception": false,
     "start_time": "2021-07-16T13:46:21.246127",
     "status": "completed"
    },
    "tags": []
   },
   "source": [
    "### Model-2"
   ]
  },
  {
   "cell_type": "code",
   "execution_count": 7,
   "id": "beginning-malta",
   "metadata": {
    "execution": {
     "iopub.execute_input": "2021-07-16T13:46:21.472877Z",
     "iopub.status.busy": "2021-07-16T13:46:21.472166Z",
     "iopub.status.idle": "2021-07-16T13:54:45.223970Z",
     "shell.execute_reply": "2021-07-16T13:54:45.224995Z",
     "shell.execute_reply.started": "2021-07-16T13:24:02.106007Z"
    },
    "papermill": {
     "duration": 503.83452,
     "end_time": "2021-07-16T13:54:45.225228",
     "exception": false,
     "start_time": "2021-07-16T13:46:21.390708",
     "status": "completed"
    },
    "tags": []
   },
   "outputs": [
    {
     "name": "stdout",
     "output_type": "stream",
     "text": [
      "Training until validation scores don't improve for 200 rounds\n",
      "[1000]\tvalid_0's rmse: 0.931269\tvalid_0's l2: 0.867262\n",
      "Early stopping, best iteration is:\n",
      "[1194]\tvalid_0's rmse: 0.930807\tvalid_0's l2: 0.866402\n",
      "Seed-2020 | Fold-0 | OOF Score: 0.9287361429741536\n",
      "Training until validation scores don't improve for 200 rounds\n",
      "Early stopping, best iteration is:\n",
      "[713]\tvalid_0's rmse: 0.918312\tvalid_0's l2: 0.843296\n",
      "Seed-2020 | Fold-1 | OOF Score: 0.916647752437703\n",
      "Training until validation scores don't improve for 200 rounds\n",
      "Early stopping, best iteration is:\n",
      "[401]\tvalid_0's rmse: 0.931561\tvalid_0's l2: 0.867805\n",
      "Seed-2020 | Fold-2 | OOF Score: 0.9300126658674415\n",
      "Training until validation scores don't improve for 200 rounds\n",
      "[1000]\tvalid_0's rmse: 0.922371\tvalid_0's l2: 0.850769\n",
      "Early stopping, best iteration is:\n",
      "[964]\tvalid_0's rmse: 0.92205\tvalid_0's l2: 0.850176\n",
      "Seed-2020 | Fold-3 | OOF Score: 0.9201949790583248\n",
      "Training until validation scores don't improve for 200 rounds\n",
      "Early stopping, best iteration is:\n",
      "[550]\tvalid_0's rmse: 0.890553\tvalid_0's l2: 0.793084\n",
      "Seed-2020 | Fold-4 | OOF Score: 0.8888692910620724\n",
      "Training until validation scores don't improve for 200 rounds\n",
      "Early stopping, best iteration is:\n",
      "[509]\tvalid_0's rmse: 0.937191\tvalid_0's l2: 0.878327\n",
      "Seed-2020 | Fold-5 | OOF Score: 0.9353301677625806\n",
      "Training until validation scores don't improve for 200 rounds\n",
      "Early stopping, best iteration is:\n",
      "[717]\tvalid_0's rmse: 0.904748\tvalid_0's l2: 0.818568\n",
      "Seed-2020 | Fold-6 | OOF Score: 0.9022314966415323\n",
      "Training until validation scores don't improve for 200 rounds\n",
      "Early stopping, best iteration is:\n",
      "[655]\tvalid_0's rmse: 1.02731\tvalid_0's l2: 1.05537\n",
      "Seed-2020 | Fold-7 | OOF Score: 1.025168882758368\n",
      "Training until validation scores don't improve for 200 rounds\n",
      "[1000]\tvalid_0's rmse: 0.928892\tvalid_0's l2: 0.862841\n",
      "Early stopping, best iteration is:\n",
      "[990]\tvalid_0's rmse: 0.928276\tvalid_0's l2: 0.861696\n",
      "Seed-2020 | Fold-8 | OOF Score: 0.9267486213548078\n",
      "Training until validation scores don't improve for 200 rounds\n",
      "Early stopping, best iteration is:\n",
      "[675]\tvalid_0's rmse: 0.916238\tvalid_0's l2: 0.839493\n",
      "Seed-2020 | Fold-9 | OOF Score: 0.9141954266080629\n",
      "\n",
      "Seed: 2020 | Aggregate OOF Score: 0.9288135426525047\n",
      "\n",
      "\n",
      "Training until validation scores don't improve for 200 rounds\n",
      "Early stopping, best iteration is:\n",
      "[792]\tvalid_0's rmse: 0.933207\tvalid_0's l2: 0.870876\n",
      "Seed-2022 | Fold-0 | OOF Score: 0.9314607147193401\n",
      "Training until validation scores don't improve for 200 rounds\n",
      "Early stopping, best iteration is:\n",
      "[672]\tvalid_0's rmse: 0.903338\tvalid_0's l2: 0.81602\n",
      "Seed-2022 | Fold-1 | OOF Score: 0.9016476199541241\n",
      "Training until validation scores don't improve for 200 rounds\n",
      "Early stopping, best iteration is:\n",
      "[768]\tvalid_0's rmse: 0.919563\tvalid_0's l2: 0.845597\n",
      "Seed-2022 | Fold-2 | OOF Score: 0.9178299277316811\n",
      "Training until validation scores don't improve for 200 rounds\n",
      "Early stopping, best iteration is:\n",
      "[531]\tvalid_0's rmse: 0.907897\tvalid_0's l2: 0.824277\n",
      "Seed-2022 | Fold-3 | OOF Score: 0.906088631951551\n",
      "Training until validation scores don't improve for 200 rounds\n",
      "Early stopping, best iteration is:\n",
      "[470]\tvalid_0's rmse: 0.939149\tvalid_0's l2: 0.882\n",
      "Seed-2022 | Fold-4 | OOF Score: 0.9374601944665613\n",
      "Training until validation scores don't improve for 200 rounds\n",
      "[1000]\tvalid_0's rmse: 1.00521\tvalid_0's l2: 1.01046\n",
      "Early stopping, best iteration is:\n",
      "[1043]\tvalid_0's rmse: 1.00489\tvalid_0's l2: 1.0098\n",
      "Seed-2022 | Fold-5 | OOF Score: 1.0019653356674925\n",
      "Training until validation scores don't improve for 200 rounds\n",
      "[1000]\tvalid_0's rmse: 0.924557\tvalid_0's l2: 0.854806\n",
      "Early stopping, best iteration is:\n",
      "[899]\tvalid_0's rmse: 0.923775\tvalid_0's l2: 0.853361\n",
      "Seed-2022 | Fold-6 | OOF Score: 0.9217983455474748\n",
      "Training until validation scores don't improve for 200 rounds\n",
      "Early stopping, best iteration is:\n",
      "[438]\tvalid_0's rmse: 0.971843\tvalid_0's l2: 0.944478\n",
      "Seed-2022 | Fold-7 | OOF Score: 0.9698229399706343\n",
      "Training until validation scores don't improve for 200 rounds\n",
      "Early stopping, best iteration is:\n",
      "[599]\tvalid_0's rmse: 0.906945\tvalid_0's l2: 0.822549\n",
      "Seed-2022 | Fold-8 | OOF Score: 0.9051903467716407\n",
      "Training until validation scores don't improve for 200 rounds\n",
      "[1000]\tvalid_0's rmse: 0.915834\tvalid_0's l2: 0.838752\n",
      "Early stopping, best iteration is:\n",
      "[984]\tvalid_0's rmse: 0.915709\tvalid_0's l2: 0.838524\n",
      "Seed-2022 | Fold-9 | OOF Score: 0.9141433334444207\n",
      "\n",
      "Seed: 2022 | Aggregate OOF Score: 0.930740739022492\n",
      "\n",
      "\n",
      "Aggregate OOF Score: 0.9297771408374984\n"
     ]
    }
   ],
   "source": [
    "FOLD = 10\n",
    "SEEDS = [2020, 2022]\n",
    "\n",
    "fet_imp2 = 0\n",
    "counter = 0\n",
    "oof_score2 = 0\n",
    "y_pred_meta_lgb2 = np.zeros((Ytrain.shape[0], 1))\n",
    "y_pred_final_lgb2 = 0\n",
    "\n",
    "\n",
    "for sidx, seed in enumerate(SEEDS):\n",
    "    seed_score = 0\n",
    "    \n",
    "    kfold = StratifiedKFold(n_splits=FOLD, shuffle=True, random_state=seed)\n",
    "\n",
    "    for idx, (train, val) in enumerate(kfold.split(Xtrain.values, Ytrain_strat)):\n",
    "        counter += 1\n",
    "        \n",
    "        train_x, train_y = Xtrain.iloc[train], Ytrain.iloc[train]\n",
    "        val_x, val_y = Xtrain.iloc[val], Ytrain.iloc[val]\n",
    "        \n",
    "        model = LGBMRegressor(\n",
    "            boosting_type='gbdt', \n",
    "            num_leaves=246, \n",
    "            max_depth=8, \n",
    "            learning_rate=0.012, \n",
    "            n_estimators=5000, \n",
    "            objective='regression', \n",
    "            min_child_samples=4, \n",
    "            subsample=0.82, \n",
    "            subsample_freq=3, \n",
    "            colsample_bytree=0.656, \n",
    "            reg_lambda=0.0336, \n",
    "            random_state=(seed+idx)\n",
    "        )\n",
    "        \n",
    "        model.fit(train_x, train_y, eval_metric='rmse',\n",
    "                  eval_set=(val_x, val_y),\n",
    "                  early_stopping_rounds=200, verbose=1000,\n",
    "                  categorical_feature=cat_cols_indices)\n",
    "\n",
    "        y_pred = model.predict(val_x, num_iteration=model.best_iteration_)\n",
    "        y_pred_meta_lgb2[val] += np.array([y_pred]).T\n",
    "        y_pred_final_lgb2 += model.predict(Xtest, num_iteration=model.best_iteration_)\n",
    "        \n",
    "        score = np.sqrt(mean_squared_log_error(np.exp(val_y), np.exp(y_pred)))\n",
    "        oof_score2 += score\n",
    "        seed_score += score\n",
    "        fet_imp2 += model.feature_importances_\n",
    "        print(\"Seed-{} | Fold-{} | OOF Score: {}\".format(seed, idx, score))\n",
    "    \n",
    "    print(\"\\nSeed: {} | Aggregate OOF Score: {}\\n\\n\".format(seed, (seed_score / FOLD)))\n",
    "\n",
    "\n",
    "y_pred_meta_lgb2 = y_pred_meta_lgb2 / float(len(SEEDS))\n",
    "y_pred_final_lgb2 = y_pred_final_lgb2 / float(counter)\n",
    "fet_imp2 = fet_imp2 / float(counter)\n",
    "oof_score2 /= float(counter)\n",
    "print(\"Aggregate OOF Score: {}\".format(oof_score2))"
   ]
  },
  {
   "cell_type": "code",
   "execution_count": 8,
   "id": "tribal-comparison",
   "metadata": {
    "execution": {
     "iopub.execute_input": "2021-07-16T13:54:45.404761Z",
     "iopub.status.busy": "2021-07-16T13:54:45.404057Z",
     "iopub.status.idle": "2021-07-16T13:54:45.435914Z",
     "shell.execute_reply": "2021-07-16T13:54:45.435374Z",
     "shell.execute_reply.started": "2021-07-06T13:11:33.570716Z"
    },
    "id": "uLzmS7LzXvXy",
    "papermill": {
     "duration": 0.122875,
     "end_time": "2021-07-16T13:54:45.436077",
     "exception": false,
     "start_time": "2021-07-16T13:54:45.313202",
     "status": "completed"
    },
    "tags": []
   },
   "outputs": [],
   "source": [
    "np.savez_compressed('./LGB_Meta_Features.npz',\n",
    "                    y_pred_meta_lgb1=y_pred_meta_lgb1,\n",
    "                    y_pred_meta_lgb2=y_pred_meta_lgb2,\n",
    "                    oof_score1=oof_score1,\n",
    "                    oof_score2=oof_score2,\n",
    "                    y_pred_final_lgb1=y_pred_final_lgb1,\n",
    "                    y_pred_final_lgb2=y_pred_final_lgb2)"
   ]
  },
  {
   "cell_type": "markdown",
   "id": "synthetic-facility",
   "metadata": {
    "papermill": {
     "duration": 0.085926,
     "end_time": "2021-07-16T13:54:45.610930",
     "exception": false,
     "start_time": "2021-07-16T13:54:45.525004",
     "status": "completed"
    },
    "tags": []
   },
   "source": [
    "## Create submission file"
   ]
  },
  {
   "cell_type": "code",
   "execution_count": 9,
   "id": "checked-salem",
   "metadata": {
    "execution": {
     "iopub.execute_input": "2021-07-16T13:54:45.788839Z",
     "iopub.status.busy": "2021-07-16T13:54:45.787705Z",
     "iopub.status.idle": "2021-07-16T13:54:45.790610Z",
     "shell.execute_reply": "2021-07-16T13:54:45.790022Z",
     "shell.execute_reply.started": "2021-07-10T11:31:51.28722Z"
    },
    "papermill": {
     "duration": 0.0934,
     "end_time": "2021-07-16T13:54:45.790748",
     "exception": false,
     "start_time": "2021-07-16T13:54:45.697348",
     "status": "completed"
    },
    "tags": []
   },
   "outputs": [],
   "source": [
    "y_pred_final_lgb = (y_pred_final_lgb1 + y_pred_final_lgb2) / 2.0"
   ]
  },
  {
   "cell_type": "code",
   "execution_count": 10,
   "id": "headed-innocent",
   "metadata": {
    "execution": {
     "iopub.execute_input": "2021-07-16T13:54:45.973231Z",
     "iopub.status.busy": "2021-07-16T13:54:45.972269Z",
     "iopub.status.idle": "2021-07-16T13:54:46.257196Z",
     "shell.execute_reply": "2021-07-16T13:54:46.256623Z",
     "shell.execute_reply.started": "2021-07-10T11:31:51.430659Z"
    },
    "papermill": {
     "duration": 0.379388,
     "end_time": "2021-07-16T13:54:46.257347",
     "exception": false,
     "start_time": "2021-07-16T13:54:45.877959",
     "status": "completed"
    },
    "tags": []
   },
   "outputs": [
    {
     "name": "stdout",
     "output_type": "stream",
     "text": [
      "Num records after Step-1: 15725\n",
      "Num records after Step-2: 15463\n"
     ]
    }
   ],
   "source": [
    "train_df = pd.read_csv(\"../input/mathcothon/train.csv\")\n",
    "test_df = pd.read_csv(\"../input/mathcothon/test.csv\")\n",
    "\n",
    "check_cols = [col for col in train_df.columns if col != 'ID']\n",
    "train_df = train_df[~train_df.duplicated(subset=check_cols, keep='first')].copy()\n",
    "print(f\"Num records after Step-1: {train_df.shape[0]}\")\n",
    "\n",
    "check_cols = [col for col in train_df.columns if col not in ['ID','Price']]\n",
    "train_df = train_df.groupby(check_cols).agg({'Price':'mean'}).reset_index().copy()\n",
    "print(f\"Num records after Step-2: {train_df.shape[0]}\")"
   ]
  },
  {
   "cell_type": "code",
   "execution_count": 11,
   "id": "large-biography",
   "metadata": {
    "execution": {
     "iopub.execute_input": "2021-07-16T13:54:46.446714Z",
     "iopub.status.busy": "2021-07-16T13:54:46.445880Z",
     "iopub.status.idle": "2021-07-16T13:54:46.700089Z",
     "shell.execute_reply": "2021-07-16T13:54:46.700552Z",
     "shell.execute_reply.started": "2021-07-10T11:31:51.618382Z"
    },
    "papermill": {
     "duration": 0.352932,
     "end_time": "2021-07-16T13:54:46.700723",
     "exception": false,
     "start_time": "2021-07-16T13:54:46.347791",
     "status": "completed"
    },
    "tags": []
   },
   "outputs": [
    {
     "name": "stdout",
     "output_type": "stream",
     "text": [
      "df: (8245, 19)\n"
     ]
    },
    {
     "data": {
      "text/html": [
       "<div>\n",
       "<style scoped>\n",
       "    .dataframe tbody tr th:only-of-type {\n",
       "        vertical-align: middle;\n",
       "    }\n",
       "\n",
       "    .dataframe tbody tr th {\n",
       "        vertical-align: top;\n",
       "    }\n",
       "\n",
       "    .dataframe thead th {\n",
       "        text-align: right;\n",
       "    }\n",
       "</style>\n",
       "<table border=\"1\" class=\"dataframe\">\n",
       "  <thead>\n",
       "    <tr style=\"text-align: right;\">\n",
       "      <th></th>\n",
       "      <th>Levy</th>\n",
       "      <th>Manufacturer</th>\n",
       "      <th>Model</th>\n",
       "      <th>Prod. year</th>\n",
       "      <th>Category</th>\n",
       "      <th>Leather interior</th>\n",
       "      <th>Fuel type</th>\n",
       "      <th>Engine volume</th>\n",
       "      <th>Mileage</th>\n",
       "      <th>Cylinders</th>\n",
       "      <th>Gear box type</th>\n",
       "      <th>Drive wheels</th>\n",
       "      <th>Doors</th>\n",
       "      <th>Wheel</th>\n",
       "      <th>Color</th>\n",
       "      <th>Airbags</th>\n",
       "      <th>Train_Price</th>\n",
       "      <th>Predicted_Price</th>\n",
       "      <th>Price</th>\n",
       "    </tr>\n",
       "  </thead>\n",
       "  <tbody>\n",
       "    <tr>\n",
       "      <th>0</th>\n",
       "      <td>-</td>\n",
       "      <td>VOLKSWAGEN</td>\n",
       "      <td>Golf</td>\n",
       "      <td>2012</td>\n",
       "      <td>Hatchback</td>\n",
       "      <td>No</td>\n",
       "      <td>Diesel</td>\n",
       "      <td>2.0 Turbo</td>\n",
       "      <td>0 km</td>\n",
       "      <td>4</td>\n",
       "      <td>Manual</td>\n",
       "      <td>Front</td>\n",
       "      <td>02-Mar</td>\n",
       "      <td>Left wheel</td>\n",
       "      <td>Grey</td>\n",
       "      <td>10</td>\n",
       "      <td>NaN</td>\n",
       "      <td>8956.853252</td>\n",
       "      <td>8956.853252</td>\n",
       "    </tr>\n",
       "    <tr>\n",
       "      <th>1</th>\n",
       "      <td>-</td>\n",
       "      <td>HYUNDAI</td>\n",
       "      <td>Sonata</td>\n",
       "      <td>2012</td>\n",
       "      <td>Sedan</td>\n",
       "      <td>Yes</td>\n",
       "      <td>Petrol</td>\n",
       "      <td>2.4</td>\n",
       "      <td>26000 km</td>\n",
       "      <td>4</td>\n",
       "      <td>Tiptronic</td>\n",
       "      <td>Front</td>\n",
       "      <td>04-May</td>\n",
       "      <td>Left wheel</td>\n",
       "      <td>Grey</td>\n",
       "      <td>10</td>\n",
       "      <td>NaN</td>\n",
       "      <td>9829.038757</td>\n",
       "      <td>9829.038757</td>\n",
       "    </tr>\n",
       "    <tr>\n",
       "      <th>2</th>\n",
       "      <td>-</td>\n",
       "      <td>NISSAN</td>\n",
       "      <td>Tiida</td>\n",
       "      <td>2005</td>\n",
       "      <td>Sedan</td>\n",
       "      <td>No</td>\n",
       "      <td>Petrol</td>\n",
       "      <td>1.5</td>\n",
       "      <td>168000 km</td>\n",
       "      <td>4</td>\n",
       "      <td>Automatic</td>\n",
       "      <td>Front</td>\n",
       "      <td>04-May</td>\n",
       "      <td>Right-hand drive</td>\n",
       "      <td>Sky blue</td>\n",
       "      <td>8</td>\n",
       "      <td>NaN</td>\n",
       "      <td>9127.243948</td>\n",
       "      <td>9127.243948</td>\n",
       "    </tr>\n",
       "    <tr>\n",
       "      <th>3</th>\n",
       "      <td>975</td>\n",
       "      <td>VOLVO</td>\n",
       "      <td>XC90</td>\n",
       "      <td>2012</td>\n",
       "      <td>Jeep</td>\n",
       "      <td>Yes</td>\n",
       "      <td>Petrol</td>\n",
       "      <td>3.2</td>\n",
       "      <td>143000 km</td>\n",
       "      <td>6</td>\n",
       "      <td>Automatic</td>\n",
       "      <td>4x4</td>\n",
       "      <td>04-May</td>\n",
       "      <td>Left wheel</td>\n",
       "      <td>Blue</td>\n",
       "      <td>12</td>\n",
       "      <td>NaN</td>\n",
       "      <td>7093.790570</td>\n",
       "      <td>7093.790570</td>\n",
       "    </tr>\n",
       "    <tr>\n",
       "      <th>4</th>\n",
       "      <td>-</td>\n",
       "      <td>OPEL</td>\n",
       "      <td>Astra</td>\n",
       "      <td>1993</td>\n",
       "      <td>Hatchback</td>\n",
       "      <td>No</td>\n",
       "      <td>Petrol</td>\n",
       "      <td>1.6</td>\n",
       "      <td>200000 km</td>\n",
       "      <td>4</td>\n",
       "      <td>Manual</td>\n",
       "      <td>Front</td>\n",
       "      <td>04-May</td>\n",
       "      <td>Left wheel</td>\n",
       "      <td>Black</td>\n",
       "      <td>0</td>\n",
       "      <td>NaN</td>\n",
       "      <td>4028.689170</td>\n",
       "      <td>4028.689170</td>\n",
       "    </tr>\n",
       "  </tbody>\n",
       "</table>\n",
       "</div>"
      ],
      "text/plain": [
       "  Levy Manufacturer   Model  Prod. year   Category Leather interior Fuel type  \\\n",
       "0    -   VOLKSWAGEN    Golf        2012  Hatchback               No    Diesel   \n",
       "1    -      HYUNDAI  Sonata        2012      Sedan              Yes    Petrol   \n",
       "2    -       NISSAN   Tiida        2005      Sedan               No    Petrol   \n",
       "3  975        VOLVO    XC90        2012       Jeep              Yes    Petrol   \n",
       "4    -         OPEL   Astra        1993  Hatchback               No    Petrol   \n",
       "\n",
       "  Engine volume    Mileage  Cylinders Gear box type Drive wheels   Doors  \\\n",
       "0     2.0 Turbo       0 km          4        Manual        Front  02-Mar   \n",
       "1           2.4   26000 km          4     Tiptronic        Front  04-May   \n",
       "2           1.5  168000 km          4     Automatic        Front  04-May   \n",
       "3           3.2  143000 km          6     Automatic          4x4  04-May   \n",
       "4           1.6  200000 km          4        Manual        Front  04-May   \n",
       "\n",
       "              Wheel     Color  Airbags  Train_Price  Predicted_Price  \\\n",
       "0        Left wheel      Grey       10          NaN      8956.853252   \n",
       "1        Left wheel      Grey       10          NaN      9829.038757   \n",
       "2  Right-hand drive  Sky blue        8          NaN      9127.243948   \n",
       "3        Left wheel      Blue       12          NaN      7093.790570   \n",
       "4        Left wheel     Black        0          NaN      4028.689170   \n",
       "\n",
       "         Price  \n",
       "0  8956.853252  \n",
       "1  9829.038757  \n",
       "2  9127.243948  \n",
       "3  7093.790570  \n",
       "4  4028.689170  "
      ]
     },
     "execution_count": 11,
     "metadata": {},
     "output_type": "execute_result"
    }
   ],
   "source": [
    "train_cols = [col for col in train_df.columns if col != 'ID']\n",
    "test_cols = [col for col in test_df.columns if col not in ['ID','Price']]\n",
    "\n",
    "df = pd.merge(\n",
    "    test_df[test_cols], \n",
    "    train_df[train_cols], \n",
    "    how='left', \n",
    "    on=test_cols,\n",
    "    sort=False\n",
    ")\n",
    "\n",
    "df = df.rename(columns={'Price': 'Train_Price'})\n",
    "df['Predicted_Price'] = np.exp(y_pred_final_lgb)\n",
    "df['Price'] = df.apply(lambda row: row['Predicted_Price'] if pd.isnull(row['Train_Price']) else row['Train_Price'], axis=1)\n",
    "print(f\"df: {df.shape}\")\n",
    "df.head()"
   ]
  },
  {
   "cell_type": "code",
   "execution_count": 12,
   "id": "outside-kuwait",
   "metadata": {
    "execution": {
     "iopub.execute_input": "2021-07-16T13:54:46.885136Z",
     "iopub.status.busy": "2021-07-16T13:54:46.884101Z",
     "iopub.status.idle": "2021-07-16T13:54:46.917336Z",
     "shell.execute_reply": "2021-07-16T13:54:46.917858Z",
     "shell.execute_reply.started": "2021-07-10T11:31:51.794939Z"
    },
    "papermill": {
     "duration": 0.126144,
     "end_time": "2021-07-16T13:54:46.918027",
     "exception": false,
     "start_time": "2021-07-16T13:54:46.791883",
     "status": "completed"
    },
    "tags": []
   },
   "outputs": [],
   "source": [
    "df.loc[df['Manufacturer']=='TESLA','Price'] = 53941\n",
    "df.loc[df['Manufacturer']=='SATURN','Price'] = 13799\n",
    "df.loc[df['Manufacturer']=='ASTON MARTIN','Price'] = 54000\n",
    "df.loc[(df['Manufacturer']=='GREATWALL')&(df['Model']=='C30'),'Price'] = 10036\n",
    "\n",
    "df.loc[df['Prod. year']==1943,'Price'] = 119172\n",
    "df.loc[df['Prod. year']==1968,'Price'] = 2200\n",
    "df.loc[df['Prod. year']==1981,'Price'] = 2800\n",
    "\n",
    "df.loc[df['Fuel type']=='Hydrogen','Price'] = 20385\n",
    "\n",
    "df.loc[df['Engine volume']=='0.3 Turbo', 'Price'] = 6272\n",
    "df.loc[df['Engine volume']=='0.5', 'Price'] = 1300\n",
    "df.loc[df['Engine volume']=='0.8 Turbo', 'Price'] = 6272\n",
    "df.loc[df['Engine volume']=='3.1', 'Price'] = 8781\n",
    "df.loc[df['Engine volume']=='5.2', 'Price'] = 13000\n",
    "df.loc[df['Engine volume']=='6.7', 'Price'] = 1019"
   ]
  },
  {
   "cell_type": "code",
   "execution_count": 13,
   "id": "plastic-belly",
   "metadata": {
    "execution": {
     "iopub.execute_input": "2021-07-16T13:54:47.101979Z",
     "iopub.status.busy": "2021-07-16T13:54:47.100930Z",
     "iopub.status.idle": "2021-07-16T13:54:47.145337Z",
     "shell.execute_reply": "2021-07-16T13:54:47.144800Z",
     "shell.execute_reply.started": "2021-07-10T11:31:51.9981Z"
    },
    "papermill": {
     "duration": 0.137975,
     "end_time": "2021-07-16T13:54:47.145480",
     "exception": false,
     "start_time": "2021-07-16T13:54:47.007505",
     "status": "completed"
    },
    "tags": []
   },
   "outputs": [
    {
     "data": {
      "text/html": [
       "<div>\n",
       "<style scoped>\n",
       "    .dataframe tbody tr th:only-of-type {\n",
       "        vertical-align: middle;\n",
       "    }\n",
       "\n",
       "    .dataframe tbody tr th {\n",
       "        vertical-align: top;\n",
       "    }\n",
       "\n",
       "    .dataframe thead th {\n",
       "        text-align: right;\n",
       "    }\n",
       "</style>\n",
       "<table border=\"1\" class=\"dataframe\">\n",
       "  <thead>\n",
       "    <tr style=\"text-align: right;\">\n",
       "      <th></th>\n",
       "      <th>Price</th>\n",
       "    </tr>\n",
       "  </thead>\n",
       "  <tbody>\n",
       "    <tr>\n",
       "      <th>0</th>\n",
       "      <td>8956.853252</td>\n",
       "    </tr>\n",
       "    <tr>\n",
       "      <th>1</th>\n",
       "      <td>9829.038757</td>\n",
       "    </tr>\n",
       "    <tr>\n",
       "      <th>2</th>\n",
       "      <td>9127.243948</td>\n",
       "    </tr>\n",
       "    <tr>\n",
       "      <th>3</th>\n",
       "      <td>7093.790570</td>\n",
       "    </tr>\n",
       "    <tr>\n",
       "      <th>4</th>\n",
       "      <td>4028.689170</td>\n",
       "    </tr>\n",
       "  </tbody>\n",
       "</table>\n",
       "</div>"
      ],
      "text/plain": [
       "         Price\n",
       "0  8956.853252\n",
       "1  9829.038757\n",
       "2  9127.243948\n",
       "3  7093.790570\n",
       "4  4028.689170"
      ]
     },
     "execution_count": 13,
     "metadata": {},
     "output_type": "execute_result"
    }
   ],
   "source": [
    "submit_df = pd.DataFrame()\n",
    "submit_df['Price'] = df['Price']\n",
    "submit_df.to_csv(\"./LGB_Submission.csv\", index=False)\n",
    "submit_df.head()"
   ]
  },
  {
   "cell_type": "markdown",
   "id": "forbidden-giant",
   "metadata": {
    "papermill": {
     "duration": 0.091584,
     "end_time": "2021-07-16T13:54:47.329381",
     "exception": false,
     "start_time": "2021-07-16T13:54:47.237797",
     "status": "completed"
    },
    "tags": []
   },
   "source": [
    "## Features Importance"
   ]
  },
  {
   "cell_type": "code",
   "execution_count": 14,
   "id": "original-maine",
   "metadata": {
    "execution": {
     "iopub.execute_input": "2021-07-16T13:54:47.532601Z",
     "iopub.status.busy": "2021-07-16T13:54:47.524992Z",
     "iopub.status.idle": "2021-07-16T13:54:49.026594Z",
     "shell.execute_reply": "2021-07-16T13:54:49.026053Z",
     "shell.execute_reply.started": "2021-07-10T11:21:04.408916Z"
    },
    "papermill": {
     "duration": 1.609187,
     "end_time": "2021-07-16T13:54:49.026740",
     "exception": false,
     "start_time": "2021-07-16T13:54:47.417553",
     "status": "completed"
    },
    "tags": []
   },
   "outputs": [
    {
     "data": {
      "image/png": "[encoded data removed]",
      "text/plain": [
       "<Figure size 1440x1440 with 1 Axes>"
      ]
     },
     "metadata": {
      "needs_background": "light"
     },
     "output_type": "display_data"
    }
   ],
   "source": [
    "fet_imp = (fet_imp1 + fet_imp2)/2.0\n",
    "feature_imp = pd.DataFrame(sorted(zip(fet_imp[0:60],Xtrain.columns[0:60])), columns=['Value','Feature'])\n",
    "\n",
    "plt.figure(figsize=(20, 20))\n",
    "sns.barplot(x=\"Value\", y=\"Feature\", data=feature_imp.sort_values(by=\"Value\", ascending=False))\n",
    "plt.title('LightGBM Features Importance', fontweight='bold')\n",
    "plt.tight_layout()\n",
    "plt.show()"
   ]
  },
  {
   "cell_type": "code",
   "execution_count": null,
   "id": "overhead-adaptation",
   "metadata": {
    "papermill": {
     "duration": 0.091711,
     "end_time": "2021-07-16T13:54:49.211532",
     "exception": false,
     "start_time": "2021-07-16T13:54:49.119821",
     "status": "completed"
    },
    "tags": []
   },
   "outputs": [],
   "source": []
  }
 ],
 "metadata": {
  "kernelspec": {
   "display_name": "Python 3",
   "language": "python",
   "name": "python3"
  },
  "language_info": {
   "codemirror_mode": {
    "name": "ipython",
    "version": 3
   },
   "file_extension": ".py",
   "mimetype": "text/x-python",
   "name": "python",
   "nbconvert_exporter": "python",
   "pygments_lexer": "ipython3",
   "version": "3.7.10"
  },
  "papermill": {
   "default_parameters": {},
   "duration": 956.134991,
   "end_time": "2021-07-16T13:54:50.216113",
   "environment_variables": {},
   "exception": null,
   "input_path": "__notebook__.ipynb",
   "output_path": "__notebook__.ipynb",
   "parameters": {},
   "start_time": "2021-07-16T13:38:54.081122",
   "version": "2.3.3"
  }
 },
 "nbformat": 4,
 "nbformat_minor": 5
}
