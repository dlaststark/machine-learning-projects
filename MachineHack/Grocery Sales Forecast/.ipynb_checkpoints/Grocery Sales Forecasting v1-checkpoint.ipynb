{
 "cells": [
  {
   "cell_type": "code",
   "execution_count": 1,
   "metadata": {},
   "outputs": [],
   "source": [
    "import pandas as pd\n",
    "import numpy as np\n",
    "import matplotlib.pyplot as plt\n",
    "from sklearn.preprocessing import MinMaxScaler\n",
    "from sklearn.model_selection import KFold\n",
    "from sklearn.metrics import mean_squared_error\n",
    "from tensorflow.keras.layers import Input, Dense, Dropout, LSTM\n",
    "from tensorflow.keras.models import Sequential\n",
    "from tensorflow.keras.optimizers import Adam\n",
    "from tensorflow.keras.metrics import RootMeanSquaredError"
   ]
  },
  {
   "cell_type": "code",
   "execution_count": null,
   "metadata": {},
   "outputs": [],
   "source": [
    "train_df = pd.read_csv(\"Dataset/Train.csv\", index_col='Day')\n",
    "train_df.head(10)"
   ]
  },
  {
   "cell_type": "code",
   "execution_count": 145,
   "metadata": {},
   "outputs": [
    {
     "name": "stdout",
     "output_type": "stream",
     "text": [
      "(10, 1)\n",
      "(8, 1)\n"
     ]
    }
   ],
   "source": [
    "scaler_x = MinMaxScaler().fit(train_x)\n",
    "Xtrain = scaler_x.transform(train_x)\n",
    "Xtest = scaler_x.transform(test_x)\n",
    "print(Xtrain.shape)\n",
    "print(Xtest.shape)"
   ]
  },
  {
   "cell_type": "markdown",
   "metadata": {},
   "source": [
    "## Playground 1"
   ]
  },
  {
   "cell_type": "code",
   "execution_count": 147,
   "metadata": {},
   "outputs": [
    {
     "data": {
      "text/html": [
       "<div>\n",
       "<style scoped>\n",
       "    .dataframe tbody tr th:only-of-type {\n",
       "        vertical-align: middle;\n",
       "    }\n",
       "\n",
       "    .dataframe tbody tr th {\n",
       "        vertical-align: top;\n",
       "    }\n",
       "\n",
       "    .dataframe thead th {\n",
       "        text-align: right;\n",
       "    }\n",
       "</style>\n",
       "<table border=\"1\" class=\"dataframe\">\n",
       "  <thead>\n",
       "    <tr style=\"text-align: right;\">\n",
       "      <th></th>\n",
       "      <th>Value</th>\n",
       "    </tr>\n",
       "  </thead>\n",
       "  <tbody>\n",
       "    <tr>\n",
       "      <th>1</th>\n",
       "      <td>1</td>\n",
       "    </tr>\n",
       "    <tr>\n",
       "      <th>2</th>\n",
       "      <td>2</td>\n",
       "    </tr>\n",
       "    <tr>\n",
       "      <th>3</th>\n",
       "      <td>3</td>\n",
       "    </tr>\n",
       "    <tr>\n",
       "      <th>4</th>\n",
       "      <td>4</td>\n",
       "    </tr>\n",
       "    <tr>\n",
       "      <th>5</th>\n",
       "      <td>5</td>\n",
       "    </tr>\n",
       "  </tbody>\n",
       "</table>\n",
       "</div>"
      ],
      "text/plain": [
       "   Value\n",
       "1      1\n",
       "2      2\n",
       "3      3\n",
       "4      4\n",
       "5      5"
      ]
     },
     "execution_count": 147,
     "metadata": {},
     "output_type": "execute_result"
    }
   ],
   "source": [
    "tmp = np.array([[1,2,3,4,5,6,7,8,9,10,11,12,13,14,15]]).T\n",
    "train_df = pd.DataFrame(tmp, index=[1,2,3,4,5,6,7,8,9,10,11,12,13,14,15], columns=['Value'])\n",
    "train_df.head()"
   ]
  },
  {
   "cell_type": "code",
   "execution_count": 148,
   "metadata": {},
   "outputs": [
    {
     "data": {
      "text/plain": [
       "[<matplotlib.lines.Line2D at 0x7f6295869790>]"
      ]
     },
     "execution_count": 148,
     "metadata": {},
     "output_type": "execute_result"
    },
    {
     "data": {
      "image/png": "[encoded data removed]",
      "text/plain": [
       "<Figure size 1080x576 with 1 Axes>"
      ]
     },
     "metadata": {
      "needs_background": "light"
     },
     "output_type": "display_data"
    }
   ],
   "source": [
    "plt.figure(figsize=(15,8))\n",
    "plt.grid()\n",
    "plt.plot(train_df.values)"
   ]
  },
  {
   "cell_type": "code",
   "execution_count": 149,
   "metadata": {},
   "outputs": [
    {
     "name": "stdout",
     "output_type": "stream",
     "text": [
      "(10, 1)\n",
      "(8, 1)\n"
     ]
    }
   ],
   "source": [
    "train_x, test_x = train_df[:-5], train_df[-8:]\n",
    "print(train_x.shape)\n",
    "print(test_x.shape)"
   ]
  },
  {
   "cell_type": "code",
   "execution_count": 150,
   "metadata": {},
   "outputs": [
    {
     "data": {
      "text/html": [
       "<div>\n",
       "<style scoped>\n",
       "    .dataframe tbody tr th:only-of-type {\n",
       "        vertical-align: middle;\n",
       "    }\n",
       "\n",
       "    .dataframe tbody tr th {\n",
       "        vertical-align: top;\n",
       "    }\n",
       "\n",
       "    .dataframe thead th {\n",
       "        text-align: right;\n",
       "    }\n",
       "</style>\n",
       "<table border=\"1\" class=\"dataframe\">\n",
       "  <thead>\n",
       "    <tr style=\"text-align: right;\">\n",
       "      <th></th>\n",
       "      <th>Value</th>\n",
       "    </tr>\n",
       "  </thead>\n",
       "  <tbody>\n",
       "    <tr>\n",
       "      <th>1</th>\n",
       "      <td>1</td>\n",
       "    </tr>\n",
       "    <tr>\n",
       "      <th>2</th>\n",
       "      <td>2</td>\n",
       "    </tr>\n",
       "    <tr>\n",
       "      <th>3</th>\n",
       "      <td>3</td>\n",
       "    </tr>\n",
       "    <tr>\n",
       "      <th>4</th>\n",
       "      <td>4</td>\n",
       "    </tr>\n",
       "    <tr>\n",
       "      <th>5</th>\n",
       "      <td>5</td>\n",
       "    </tr>\n",
       "    <tr>\n",
       "      <th>6</th>\n",
       "      <td>6</td>\n",
       "    </tr>\n",
       "    <tr>\n",
       "      <th>7</th>\n",
       "      <td>7</td>\n",
       "    </tr>\n",
       "    <tr>\n",
       "      <th>8</th>\n",
       "      <td>8</td>\n",
       "    </tr>\n",
       "    <tr>\n",
       "      <th>9</th>\n",
       "      <td>9</td>\n",
       "    </tr>\n",
       "    <tr>\n",
       "      <th>10</th>\n",
       "      <td>10</td>\n",
       "    </tr>\n",
       "  </tbody>\n",
       "</table>\n",
       "</div>"
      ],
      "text/plain": [
       "    Value\n",
       "1       1\n",
       "2       2\n",
       "3       3\n",
       "4       4\n",
       "5       5\n",
       "6       6\n",
       "7       7\n",
       "8       8\n",
       "9       9\n",
       "10     10"
      ]
     },
     "execution_count": 150,
     "metadata": {},
     "output_type": "execute_result"
    }
   ],
   "source": [
    "train_x"
   ]
  },
  {
   "cell_type": "code",
   "execution_count": 144,
   "metadata": {},
   "outputs": [
    {
     "data": {
      "text/html": [
       "<div>\n",
       "<style scoped>\n",
       "    .dataframe tbody tr th:only-of-type {\n",
       "        vertical-align: middle;\n",
       "    }\n",
       "\n",
       "    .dataframe tbody tr th {\n",
       "        vertical-align: top;\n",
       "    }\n",
       "\n",
       "    .dataframe thead th {\n",
       "        text-align: right;\n",
       "    }\n",
       "</style>\n",
       "<table border=\"1\" class=\"dataframe\">\n",
       "  <thead>\n",
       "    <tr style=\"text-align: right;\">\n",
       "      <th></th>\n",
       "      <th>Value</th>\n",
       "    </tr>\n",
       "  </thead>\n",
       "  <tbody>\n",
       "    <tr>\n",
       "      <th>8</th>\n",
       "      <td>8</td>\n",
       "    </tr>\n",
       "    <tr>\n",
       "      <th>9</th>\n",
       "      <td>9</td>\n",
       "    </tr>\n",
       "    <tr>\n",
       "      <th>10</th>\n",
       "      <td>10</td>\n",
       "    </tr>\n",
       "    <tr>\n",
       "      <th>11</th>\n",
       "      <td>11</td>\n",
       "    </tr>\n",
       "    <tr>\n",
       "      <th>12</th>\n",
       "      <td>12</td>\n",
       "    </tr>\n",
       "    <tr>\n",
       "      <th>13</th>\n",
       "      <td>13</td>\n",
       "    </tr>\n",
       "    <tr>\n",
       "      <th>14</th>\n",
       "      <td>14</td>\n",
       "    </tr>\n",
       "    <tr>\n",
       "      <th>15</th>\n",
       "      <td>15</td>\n",
       "    </tr>\n",
       "  </tbody>\n",
       "</table>\n",
       "</div>"
      ],
      "text/plain": [
       "    Value\n",
       "8       8\n",
       "9       9\n",
       "10     10\n",
       "11     11\n",
       "12     12\n",
       "13     13\n",
       "14     14\n",
       "15     15"
      ]
     },
     "execution_count": 144,
     "metadata": {},
     "output_type": "execute_result"
    }
   ],
   "source": [
    "test_x"
   ]
  },
  {
   "cell_type": "code",
   "execution_count": 238,
   "metadata": {},
   "outputs": [],
   "source": [
    "def create_dataset(dataset, time_steps=1):\n",
    "    dataX, dataY = [], []\n",
    "    for i in range(len(dataset)-time_steps):\n",
    "        a = dataset[i:(i+time_steps), 0]\n",
    "        dataX.append(a)\n",
    "        dataY.append(dataset[i + time_steps, 0])\n",
    "    return np.array(dataX), np.array(dataY)"
   ]
  },
  {
   "cell_type": "code",
   "execution_count": 239,
   "metadata": {},
   "outputs": [],
   "source": [
    "time_steps = 3"
   ]
  },
  {
   "cell_type": "code",
   "execution_count": 240,
   "metadata": {},
   "outputs": [
    {
     "name": "stdout",
     "output_type": "stream",
     "text": [
      "(7, 3) (7,)\n",
      "(5, 3) (5,)\n"
     ]
    }
   ],
   "source": [
    "Xtrain = train_x.values\n",
    "Xtest = test_x.values\n",
    "\n",
    "# reshape to [samples, time_steps, n_features]\n",
    "Xtrain, Ytrain = create_dataset(Xtrain, time_steps)\n",
    "Xtest, Ytest = create_dataset(Xtest, time_steps)\n",
    "\n",
    "print(Xtrain.shape, Ytrain.shape)\n",
    "print(Xtest.shape, Ytest.shape)"
   ]
  },
  {
   "cell_type": "code",
   "execution_count": 209,
   "metadata": {},
   "outputs": [
    {
     "data": {
      "text/plain": [
       "array([[1, 2, 3],\n",
       "       [2, 3, 4],\n",
       "       [3, 4, 5],\n",
       "       [4, 5, 6],\n",
       "       [5, 6, 7],\n",
       "       [6, 7, 8],\n",
       "       [7, 8, 9]])"
      ]
     },
     "execution_count": 209,
     "metadata": {},
     "output_type": "execute_result"
    }
   ],
   "source": [
    "Xtrain"
   ]
  },
  {
   "cell_type": "code",
   "execution_count": 70,
   "metadata": {},
   "outputs": [
    {
     "data": {
      "text/plain": [
       "array([ 4,  5,  6,  7,  8,  9, 10])"
      ]
     },
     "execution_count": 70,
     "metadata": {},
     "output_type": "execute_result"
    }
   ],
   "source": [
    "Ytrain"
   ]
  },
  {
   "cell_type": "code",
   "execution_count": 71,
   "metadata": {},
   "outputs": [
    {
     "data": {
      "text/plain": [
       "array([[ 8,  9, 10],\n",
       "       [ 9, 10, 11],\n",
       "       [10, 11, 12],\n",
       "       [11, 12, 13],\n",
       "       [12, 13, 14]])"
      ]
     },
     "execution_count": 71,
     "metadata": {},
     "output_type": "execute_result"
    }
   ],
   "source": [
    "Xtest"
   ]
  },
  {
   "cell_type": "code",
   "execution_count": 72,
   "metadata": {},
   "outputs": [
    {
     "data": {
      "text/plain": [
       "array([11, 12, 13, 14, 15])"
      ]
     },
     "execution_count": 72,
     "metadata": {},
     "output_type": "execute_result"
    }
   ],
   "source": [
    "Ytest"
   ]
  },
  {
   "cell_type": "code",
   "execution_count": 73,
   "metadata": {},
   "outputs": [
    {
     "name": "stdout",
     "output_type": "stream",
     "text": [
      "(7, 3, 1) (7,)\n",
      "(5, 3, 1) (5,)\n"
     ]
    }
   ],
   "source": [
    "# reshape input to be [samples, time steps, features]\n",
    "Xtrain = np.reshape(Xtrain, (Xtrain.shape[0], Xtrain.shape[1], 1))\n",
    "Xtest = np.reshape(Xtest, (Xtest.shape[0], Xtest.shape[1], 1))\n",
    "\n",
    "print(Xtrain.shape, Ytrain.shape)\n",
    "print(Xtest.shape, Ytest.shape)"
   ]
  },
  {
   "cell_type": "code",
   "execution_count": 80,
   "metadata": {},
   "outputs": [
    {
     "name": "stdout",
     "output_type": "stream",
     "text": [
      "Model: \"sequential_5\"\n",
      "_________________________________________________________________\n",
      "Layer (type)                 Output Shape              Param #   \n",
      "=================================================================\n",
      "lstm_9 (LSTM)                (None, 3, 16)             1152      \n",
      "_________________________________________________________________\n",
      "lstm_10 (LSTM)               (None, 16)                2112      \n",
      "_________________________________________________________________\n",
      "dense_14 (Dense)             (None, 8)                 136       \n",
      "_________________________________________________________________\n",
      "dropout_8 (Dropout)          (None, 8)                 0         \n",
      "_________________________________________________________________\n",
      "dense_15 (Dense)             (None, 8)                 72        \n",
      "_________________________________________________________________\n",
      "dropout_9 (Dropout)          (None, 8)                 0         \n",
      "_________________________________________________________________\n",
      "dense_16 (Dense)             (None, 1)                 9         \n",
      "=================================================================\n",
      "Total params: 3,481\n",
      "Trainable params: 3,481\n",
      "Non-trainable params: 0\n",
      "_________________________________________________________________\n"
     ]
    }
   ],
   "source": [
    "simple_lstm_model = Sequential([\n",
    "    LSTM(16, activation='relu', return_sequences=True, dropout=0.15, input_shape=(Xtrain.shape[1], Xtrain.shape[2])),\n",
    "    LSTM(16, activation='relu', dropout=0.15),\n",
    "    Dense(8, activation='relu'),\n",
    "    Dropout(0.15),\n",
    "    Dense(8, activation='relu'),\n",
    "    Dropout(0.15),\n",
    "    Dense(1)\n",
    "])\n",
    "\n",
    "simple_lstm_model.compile(optimizer='adam', loss='mae')\n",
    "simple_lstm_model.summary()"
   ]
  },
  {
   "cell_type": "code",
   "execution_count": 90,
   "metadata": {},
   "outputs": [
    {
     "name": "stdout",
     "output_type": "stream",
     "text": [
      "Train on 6 samples, validate on 1 samples\n",
      "Epoch 1/50\n",
      "6/6 [==============================] - 0s 12ms/sample - loss: 2.5882 - val_loss: 1.1593\n",
      "Epoch 2/50\n",
      "6/6 [==============================] - 0s 11ms/sample - loss: 2.8943 - val_loss: 1.1294\n",
      "Epoch 3/50\n",
      "6/6 [==============================] - 0s 16ms/sample - loss: 3.1097 - val_loss: 1.1569\n",
      "Epoch 4/50\n",
      "6/6 [==============================] - 0s 18ms/sample - loss: 3.7039 - val_loss: 1.1598\n",
      "Epoch 5/50\n",
      "6/6 [==============================] - 0s 11ms/sample - loss: 3.3465 - val_loss: 1.0790\n",
      "Epoch 6/50\n",
      "6/6 [==============================] - 0s 16ms/sample - loss: 4.0539 - val_loss: 0.9436\n",
      "Epoch 7/50\n",
      "6/6 [==============================] - 0s 20ms/sample - loss: 2.2881 - val_loss: 0.9879\n",
      "Epoch 8/50\n",
      "6/6 [==============================] - 0s 18ms/sample - loss: 4.5205 - val_loss: 0.9825\n",
      "Epoch 9/50\n",
      "6/6 [==============================] - 0s 12ms/sample - loss: 2.3091 - val_loss: 1.0782\n",
      "Epoch 10/50\n",
      "6/6 [==============================] - 0s 14ms/sample - loss: 4.0239 - val_loss: 1.2480\n",
      "Epoch 11/50\n",
      "6/6 [==============================] - 0s 17ms/sample - loss: 2.7325 - val_loss: 1.3814\n",
      "Epoch 12/50\n",
      "6/6 [==============================] - 0s 13ms/sample - loss: 3.1248 - val_loss: 1.4360\n",
      "Epoch 13/50\n",
      "6/6 [==============================] - 0s 10ms/sample - loss: 4.4276 - val_loss: 1.4998\n",
      "Epoch 14/50\n",
      "6/6 [==============================] - 0s 14ms/sample - loss: 2.3388 - val_loss: 1.5450\n",
      "Epoch 15/50\n",
      "6/6 [==============================] - 0s 12ms/sample - loss: 3.0661 - val_loss: 1.5796\n",
      "Epoch 16/50\n",
      "6/6 [==============================] - 0s 8ms/sample - loss: 3.6816 - val_loss: 1.6157\n",
      "Epoch 17/50\n",
      "6/6 [==============================] - 0s 10ms/sample - loss: 3.5056 - val_loss: 1.5870\n",
      "Epoch 18/50\n",
      "6/6 [==============================] - 0s 11ms/sample - loss: 3.8870 - val_loss: 1.5741\n",
      "Epoch 19/50\n",
      "6/6 [==============================] - 0s 11ms/sample - loss: 3.0958 - val_loss: 1.5594\n",
      "Epoch 20/50\n",
      "6/6 [==============================] - 0s 13ms/sample - loss: 2.5570 - val_loss: 1.5747\n",
      "Epoch 21/50\n",
      "6/6 [==============================] - 0s 15ms/sample - loss: 3.7514 - val_loss: 1.6514\n",
      "Epoch 22/50\n",
      "6/6 [==============================] - 0s 15ms/sample - loss: 3.1260 - val_loss: 1.7239\n",
      "Epoch 23/50\n",
      "6/6 [==============================] - 0s 14ms/sample - loss: 4.1105 - val_loss: 1.8047\n",
      "Epoch 24/50\n",
      "6/6 [==============================] - 0s 9ms/sample - loss: 3.8898 - val_loss: 1.8899\n",
      "Epoch 25/50\n",
      "6/6 [==============================] - 0s 12ms/sample - loss: 2.9001 - val_loss: 1.8870\n",
      "Epoch 26/50\n",
      "6/6 [==============================] - 0s 9ms/sample - loss: 3.8404 - val_loss: 1.8295\n",
      "Epoch 27/50\n",
      "6/6 [==============================] - 0s 25ms/sample - loss: 3.1842 - val_loss: 1.8366\n",
      "Epoch 28/50\n",
      "6/6 [==============================] - 0s 21ms/sample - loss: 2.7187 - val_loss: 1.8908\n",
      "Epoch 29/50\n",
      "6/6 [==============================] - 0s 10ms/sample - loss: 2.4370 - val_loss: 1.8652\n",
      "Epoch 30/50\n",
      "6/6 [==============================] - 0s 15ms/sample - loss: 1.8897 - val_loss: 1.8751\n",
      "Epoch 31/50\n",
      "6/6 [==============================] - 0s 13ms/sample - loss: 3.1522 - val_loss: 1.8841\n",
      "Epoch 32/50\n",
      "6/6 [==============================] - 0s 17ms/sample - loss: 2.5728 - val_loss: 1.8204\n",
      "Epoch 33/50\n",
      "6/6 [==============================] - 0s 17ms/sample - loss: 2.9261 - val_loss: 1.8141\n",
      "Epoch 34/50\n",
      "6/6 [==============================] - 0s 14ms/sample - loss: 2.1260 - val_loss: 1.7967\n",
      "Epoch 35/50\n",
      "6/6 [==============================] - 0s 18ms/sample - loss: 4.2561 - val_loss: 1.8004\n",
      "Epoch 36/50\n",
      "6/6 [==============================] - 0s 13ms/sample - loss: 3.9070 - val_loss: 1.8269\n",
      "Epoch 37/50\n",
      "6/6 [==============================] - 0s 15ms/sample - loss: 4.5863 - val_loss: 1.8221\n",
      "Epoch 38/50\n",
      "6/6 [==============================] - 0s 24ms/sample - loss: 1.5978 - val_loss: 1.7814\n",
      "Epoch 39/50\n",
      "6/6 [==============================] - 0s 22ms/sample - loss: 3.0382 - val_loss: 1.7204\n",
      "Epoch 40/50\n",
      "6/6 [==============================] - 0s 14ms/sample - loss: 4.0827 - val_loss: 1.6759\n",
      "Epoch 41/50\n",
      "6/6 [==============================] - 0s 14ms/sample - loss: 2.1869 - val_loss: 1.6110\n",
      "Epoch 42/50\n",
      "6/6 [==============================] - 0s 14ms/sample - loss: 2.3975 - val_loss: 1.5360\n",
      "Epoch 43/50\n",
      "6/6 [==============================] - 0s 17ms/sample - loss: 2.6088 - val_loss: 1.4699\n",
      "Epoch 44/50\n",
      "6/6 [==============================] - 0s 12ms/sample - loss: 3.3532 - val_loss: 1.4193\n",
      "Epoch 45/50\n",
      "6/6 [==============================] - 0s 18ms/sample - loss: 2.2433 - val_loss: 1.4000\n",
      "Epoch 46/50\n",
      "6/6 [==============================] - 0s 12ms/sample - loss: 2.6829 - val_loss: 1.4335\n",
      "Epoch 47/50\n",
      "6/6 [==============================] - 0s 19ms/sample - loss: 3.5613 - val_loss: 1.4746\n",
      "Epoch 48/50\n",
      "6/6 [==============================] - 0s 21ms/sample - loss: 2.4935 - val_loss: 1.4973\n",
      "Epoch 49/50\n",
      "6/6 [==============================] - 0s 20ms/sample - loss: 1.4008 - val_loss: 1.4833\n",
      "Epoch 50/50\n",
      "6/6 [==============================] - 0s 18ms/sample - loss: 1.8395 - val_loss: 1.4560\n"
     ]
    }
   ],
   "source": [
    "history = simple_lstm_model.fit(\n",
    "    Xtrain, Ytrain, \n",
    "    epochs=50, \n",
    "    batch_size=64, \n",
    "    validation_split=0.1, \n",
    "    verbose=1, \n",
    "    shuffle=False\n",
    ")"
   ]
  },
  {
   "cell_type": "code",
   "execution_count": 83,
   "metadata": {},
   "outputs": [
    {
     "data": {
      "text/plain": [
       "<matplotlib.legend.Legend at 0x7f6295373bd0>"
      ]
     },
     "execution_count": 83,
     "metadata": {},
     "output_type": "execute_result"
    },
    {
     "data": {
      "image/png": "[encoded data removed]",
      "text/plain": [
       "<Figure size 1080x576 with 1 Axes>"
      ]
     },
     "metadata": {
      "needs_background": "light"
     },
     "output_type": "display_data"
    }
   ],
   "source": [
    "plt.figure(figsize=(15,8))\n",
    "plt.plot(history.history['loss'], label='train')\n",
    "plt.plot(history.history['val_loss'], label='test')\n",
    "plt.grid()\n",
    "plt.legend()"
   ]
  },
  {
   "cell_type": "code",
   "execution_count": 91,
   "metadata": {},
   "outputs": [],
   "source": [
    "y_pred = simple_lstm_model.predict(Xtest)"
   ]
  },
  {
   "cell_type": "code",
   "execution_count": 92,
   "metadata": {},
   "outputs": [
    {
     "data": {
      "image/png": "[encoded data removed]",
      "text/plain": [
       "<Figure size 1080x576 with 1 Axes>"
      ]
     },
     "metadata": {
      "needs_background": "light"
     },
     "output_type": "display_data"
    }
   ],
   "source": [
    "plt.figure(figsize=(15,8))\n",
    "plt.plot(np.arange(0, len(Ytrain)), Ytrain, 'g', label=\"history\")\n",
    "plt.plot(np.arange(len(Ytrain), len(Ytrain) + len(Ytest)), Ytest, marker='.', label=\"true\")\n",
    "plt.plot(np.arange(len(Ytrain), len(Ytrain) + len(Ytest)), y_pred, 'r', label=\"prediction\")\n",
    "plt.ylabel('Value')\n",
    "plt.xlabel('Time Step')\n",
    "plt.legend()\n",
    "plt.grid()\n",
    "plt.show()"
   ]
  },
  {
   "cell_type": "code",
   "execution_count": 93,
   "metadata": {},
   "outputs": [
    {
     "data": {
      "image/png": "[encoded data removed]",
      "text/plain": [
       "<Figure size 1080x576 with 1 Axes>"
      ]
     },
     "metadata": {
      "needs_background": "light"
     },
     "output_type": "display_data"
    }
   ],
   "source": [
    "plt.figure(figsize=(15,8))\n",
    "plt.plot(Ytest, marker='.', label=\"true\")\n",
    "plt.plot(y_pred, 'r', label=\"prediction\")\n",
    "plt.ylabel('Value')\n",
    "plt.xlabel('Time Step')\n",
    "plt.legend()\n",
    "plt.grid()\n",
    "plt.show()"
   ]
  },
  {
   "cell_type": "code",
   "execution_count": 94,
   "metadata": {},
   "outputs": [
    {
     "data": {
      "text/plain": [
       "array([11, 12, 13, 14, 15])"
      ]
     },
     "execution_count": 94,
     "metadata": {},
     "output_type": "execute_result"
    }
   ],
   "source": [
    "Ytest"
   ]
  },
  {
   "cell_type": "code",
   "execution_count": 101,
   "metadata": {},
   "outputs": [
    {
     "data": {
      "text/plain": [
       "array([[ 9.999916],\n",
       "       [11.49868 ],\n",
       "       [13.026703],\n",
       "       [14.574781],\n",
       "       [16.138975]], dtype=float32)"
      ]
     },
     "execution_count": 101,
     "metadata": {},
     "output_type": "execute_result"
    }
   ],
   "source": [
    "y_pred"
   ]
  },
  {
   "cell_type": "code",
   "execution_count": 96,
   "metadata": {},
   "outputs": [
    {
     "data": {
      "text/plain": [
       "0.7589256327966771"
      ]
     },
     "execution_count": 96,
     "metadata": {},
     "output_type": "execute_result"
    }
   ],
   "source": [
    "np.sqrt(mean_squared_error(Ytest, y_pred))"
   ]
  },
  {
   "cell_type": "code",
   "execution_count": 102,
   "metadata": {},
   "outputs": [],
   "source": [
    "Xpred, Ypred = create_dataset(y_pred, time_steps)"
   ]
  },
  {
   "cell_type": "code",
   "execution_count": 103,
   "metadata": {},
   "outputs": [
    {
     "data": {
      "text/plain": [
       "array([[ 9.999916, 11.49868 , 13.026703],\n",
       "       [11.49868 , 13.026703, 14.574781]], dtype=float32)"
      ]
     },
     "execution_count": 103,
     "metadata": {},
     "output_type": "execute_result"
    }
   ],
   "source": [
    "Xpred"
   ]
  },
  {
   "cell_type": "code",
   "execution_count": 104,
   "metadata": {},
   "outputs": [
    {
     "data": {
      "text/plain": [
       "array([14.574781, 16.138975], dtype=float32)"
      ]
     },
     "execution_count": 104,
     "metadata": {},
     "output_type": "execute_result"
    }
   ],
   "source": [
    "Ypred"
   ]
  },
  {
   "cell_type": "code",
   "execution_count": 105,
   "metadata": {},
   "outputs": [
    {
     "name": "stdout",
     "output_type": "stream",
     "text": [
      "(2, 3, 1) (2,)\n"
     ]
    }
   ],
   "source": [
    "Xpred = np.reshape(Xpred, (Xpred.shape[0], Xpred.shape[1], 1))\n",
    "print(Xpred.shape, Ypred.shape)"
   ]
  },
  {
   "cell_type": "code",
   "execution_count": 106,
   "metadata": {},
   "outputs": [],
   "source": [
    "yhat = simple_lstm_model.predict(Xpred)"
   ]
  },
  {
   "cell_type": "code",
   "execution_count": 107,
   "metadata": {},
   "outputs": [
    {
     "data": {
      "text/plain": [
       "array([[13.499506],\n",
       "       [15.84033 ]], dtype=float32)"
      ]
     },
     "execution_count": 107,
     "metadata": {},
     "output_type": "execute_result"
    }
   ],
   "source": [
    "yhat"
   ]
  },
  {
   "cell_type": "markdown",
   "metadata": {},
   "source": [
    "## Playground 2"
   ]
  },
  {
   "cell_type": "code",
   "execution_count": 241,
   "metadata": {},
   "outputs": [
    {
     "data": {
      "text/html": [
       "<div>\n",
       "<style scoped>\n",
       "    .dataframe tbody tr th:only-of-type {\n",
       "        vertical-align: middle;\n",
       "    }\n",
       "\n",
       "    .dataframe tbody tr th {\n",
       "        vertical-align: top;\n",
       "    }\n",
       "\n",
       "    .dataframe thead th {\n",
       "        text-align: right;\n",
       "    }\n",
       "</style>\n",
       "<table border=\"1\" class=\"dataframe\">\n",
       "  <thead>\n",
       "    <tr style=\"text-align: right;\">\n",
       "      <th></th>\n",
       "      <th>Value</th>\n",
       "    </tr>\n",
       "  </thead>\n",
       "  <tbody>\n",
       "    <tr>\n",
       "      <th>1</th>\n",
       "      <td>1</td>\n",
       "    </tr>\n",
       "    <tr>\n",
       "      <th>2</th>\n",
       "      <td>2</td>\n",
       "    </tr>\n",
       "    <tr>\n",
       "      <th>3</th>\n",
       "      <td>3</td>\n",
       "    </tr>\n",
       "    <tr>\n",
       "      <th>4</th>\n",
       "      <td>4</td>\n",
       "    </tr>\n",
       "    <tr>\n",
       "      <th>5</th>\n",
       "      <td>5</td>\n",
       "    </tr>\n",
       "  </tbody>\n",
       "</table>\n",
       "</div>"
      ],
      "text/plain": [
       "   Value\n",
       "1      1\n",
       "2      2\n",
       "3      3\n",
       "4      4\n",
       "5      5"
      ]
     },
     "execution_count": 241,
     "metadata": {},
     "output_type": "execute_result"
    }
   ],
   "source": [
    "tmp = np.array([[1,2,3,4,5,6,7,8,9,10,11,12,13,14,15]]).T\n",
    "train_df = pd.DataFrame(tmp, index=[1,2,3,4,5,6,7,8,9,10,11,12,13,14,15], columns=['Value'])\n",
    "train_df.head()"
   ]
  },
  {
   "cell_type": "code",
   "execution_count": 242,
   "metadata": {},
   "outputs": [
    {
     "name": "stdout",
     "output_type": "stream",
     "text": [
      "(15, 1)\n",
      "(3, 1)\n"
     ]
    }
   ],
   "source": [
    "train_x, test_x = train_df, train_df[-3:]\n",
    "print(train_x.shape)\n",
    "print(test_x.shape)"
   ]
  },
  {
   "cell_type": "code",
   "execution_count": 243,
   "metadata": {},
   "outputs": [
    {
     "data": {
      "text/plain": [
       "array([[ 1],\n",
       "       [ 2],\n",
       "       [ 3],\n",
       "       [ 4],\n",
       "       [ 5],\n",
       "       [ 6],\n",
       "       [ 7],\n",
       "       [ 8],\n",
       "       [ 9],\n",
       "       [10],\n",
       "       [11],\n",
       "       [12],\n",
       "       [13],\n",
       "       [14],\n",
       "       [15]])"
      ]
     },
     "execution_count": 243,
     "metadata": {},
     "output_type": "execute_result"
    }
   ],
   "source": [
    "Xtrain = train_x.values\n",
    "Xtrain"
   ]
  },
  {
   "cell_type": "code",
   "execution_count": 244,
   "metadata": {},
   "outputs": [
    {
     "data": {
      "text/plain": [
       "array([[13],\n",
       "       [14],\n",
       "       [15]])"
      ]
     },
     "execution_count": 244,
     "metadata": {},
     "output_type": "execute_result"
    }
   ],
   "source": [
    "Xtest = test_x.values\n",
    "Xtest"
   ]
  },
  {
   "cell_type": "code",
   "execution_count": 245,
   "metadata": {},
   "outputs": [
    {
     "name": "stdout",
     "output_type": "stream",
     "text": [
      "(12, 3) (12,)\n"
     ]
    }
   ],
   "source": [
    "# reshape to [samples, time_steps, n_features]\n",
    "Xtrain, Ytrain = create_dataset(Xtrain, time_steps)\n",
    "print(Xtrain.shape, Ytrain.shape)"
   ]
  },
  {
   "cell_type": "code",
   "execution_count": 246,
   "metadata": {},
   "outputs": [
    {
     "data": {
      "text/plain": [
       "array([[ 1,  2,  3],\n",
       "       [ 2,  3,  4],\n",
       "       [ 3,  4,  5],\n",
       "       [ 4,  5,  6],\n",
       "       [ 5,  6,  7],\n",
       "       [ 6,  7,  8],\n",
       "       [ 7,  8,  9],\n",
       "       [ 8,  9, 10],\n",
       "       [ 9, 10, 11],\n",
       "       [10, 11, 12],\n",
       "       [11, 12, 13],\n",
       "       [12, 13, 14]])"
      ]
     },
     "execution_count": 246,
     "metadata": {},
     "output_type": "execute_result"
    }
   ],
   "source": [
    "Xtrain"
   ]
  },
  {
   "cell_type": "code",
   "execution_count": 247,
   "metadata": {},
   "outputs": [
    {
     "data": {
      "text/plain": [
       "array([ 4,  5,  6,  7,  8,  9, 10, 11, 12, 13, 14, 15])"
      ]
     },
     "execution_count": 247,
     "metadata": {},
     "output_type": "execute_result"
    }
   ],
   "source": [
    "Ytrain"
   ]
  },
  {
   "cell_type": "code",
   "execution_count": 248,
   "metadata": {},
   "outputs": [
    {
     "name": "stdout",
     "output_type": "stream",
     "text": [
      "(12, 3, 1) (12,)\n"
     ]
    }
   ],
   "source": [
    "# reshape input to be [samples, time steps, features]\n",
    "Xtrain = np.reshape(Xtrain, (Xtrain.shape[0], Xtrain.shape[1], 1))\n",
    "print(Xtrain.shape, Ytrain.shape)"
   ]
  },
  {
   "cell_type": "code",
   "execution_count": 249,
   "metadata": {},
   "outputs": [
    {
     "name": "stdout",
     "output_type": "stream",
     "text": [
      "Model: \"sequential_6\"\n",
      "_________________________________________________________________\n",
      "Layer (type)                 Output Shape              Param #   \n",
      "=================================================================\n",
      "lstm_11 (LSTM)               (None, 3, 16)             1152      \n",
      "_________________________________________________________________\n",
      "lstm_12 (LSTM)               (None, 16)                2112      \n",
      "_________________________________________________________________\n",
      "dense_17 (Dense)             (None, 8)                 136       \n",
      "_________________________________________________________________\n",
      "dropout_10 (Dropout)         (None, 8)                 0         \n",
      "_________________________________________________________________\n",
      "dense_18 (Dense)             (None, 8)                 72        \n",
      "_________________________________________________________________\n",
      "dropout_11 (Dropout)         (None, 8)                 0         \n",
      "_________________________________________________________________\n",
      "dense_19 (Dense)             (None, 1)                 9         \n",
      "=================================================================\n",
      "Total params: 3,481\n",
      "Trainable params: 3,481\n",
      "Non-trainable params: 0\n",
      "_________________________________________________________________\n"
     ]
    }
   ],
   "source": [
    "simple_lstm_model = Sequential([\n",
    "    LSTM(16, activation='relu', return_sequences=True, dropout=0.15, input_shape=(Xtrain.shape[1], Xtrain.shape[2])),\n",
    "    LSTM(16, activation='relu', dropout=0.15),\n",
    "    Dense(8, activation='relu'),\n",
    "    Dropout(0.15),\n",
    "    Dense(8, activation='relu'),\n",
    "    Dropout(0.15),\n",
    "    Dense(1)\n",
    "])\n",
    "\n",
    "simple_lstm_model.compile(optimizer='adam', loss='mae')\n",
    "simple_lstm_model.summary()"
   ]
  },
  {
   "cell_type": "code",
   "execution_count": 250,
   "metadata": {},
   "outputs": [
    {
     "name": "stdout",
     "output_type": "stream",
     "text": [
      "Train on 10 samples, validate on 2 samples\n",
      "Epoch 1/50\n",
      "10/10 [==============================] - 6s 619ms/sample - loss: 8.3913 - val_loss: 14.1452\n",
      "Epoch 2/50\n",
      "10/10 [==============================] - 0s 8ms/sample - loss: 8.1571 - val_loss: 14.0864\n",
      "Epoch 3/50\n",
      "10/10 [==============================] - 0s 9ms/sample - loss: 8.1807 - val_loss: 14.0289\n",
      "Epoch 4/50\n",
      "10/10 [==============================] - 0s 10ms/sample - loss: 8.1877 - val_loss: 13.9708\n",
      "Epoch 5/50\n",
      "10/10 [==============================] - 0s 10ms/sample - loss: 8.1912 - val_loss: 13.9078\n",
      "Epoch 6/50\n",
      "10/10 [==============================] - 0s 8ms/sample - loss: 8.2390 - val_loss: 13.8421\n",
      "Epoch 7/50\n",
      "10/10 [==============================] - 0s 9ms/sample - loss: 8.2331 - val_loss: 13.7735\n",
      "Epoch 8/50\n",
      "10/10 [==============================] - 0s 9ms/sample - loss: 8.0522 - val_loss: 13.7010\n",
      "Epoch 9/50\n",
      "10/10 [==============================] - 0s 8ms/sample - loss: 8.0664 - val_loss: 13.6278\n",
      "Epoch 10/50\n",
      "10/10 [==============================] - 0s 5ms/sample - loss: 8.1039 - val_loss: 13.5534\n",
      "Epoch 11/50\n",
      "10/10 [==============================] - 0s 8ms/sample - loss: 7.9733 - val_loss: 13.4744\n",
      "Epoch 12/50\n",
      "10/10 [==============================] - 0s 6ms/sample - loss: 7.7733 - val_loss: 13.3913\n",
      "Epoch 13/50\n",
      "10/10 [==============================] - 0s 11ms/sample - loss: 7.7808 - val_loss: 13.3093\n",
      "Epoch 14/50\n",
      "10/10 [==============================] - 0s 7ms/sample - loss: 7.8832 - val_loss: 13.2287\n",
      "Epoch 15/50\n",
      "10/10 [==============================] - 0s 11ms/sample - loss: 7.6274 - val_loss: 13.1427\n",
      "Epoch 16/50\n",
      "10/10 [==============================] - 0s 7ms/sample - loss: 7.6754 - val_loss: 13.0504\n",
      "Epoch 17/50\n",
      "10/10 [==============================] - 0s 9ms/sample - loss: 7.6040 - val_loss: 12.9459\n",
      "Epoch 18/50\n",
      "10/10 [==============================] - 0s 11ms/sample - loss: 7.7793 - val_loss: 12.8335\n",
      "Epoch 19/50\n",
      "10/10 [==============================] - 0s 7ms/sample - loss: 7.6837 - val_loss: 12.7141\n",
      "Epoch 20/50\n",
      "10/10 [==============================] - 0s 10ms/sample - loss: 7.2763 - val_loss: 12.5862\n",
      "Epoch 21/50\n",
      "10/10 [==============================] - 0s 10ms/sample - loss: 7.5520 - val_loss: 12.4523\n",
      "Epoch 22/50\n",
      "10/10 [==============================] - 0s 10ms/sample - loss: 7.5802 - val_loss: 12.3109\n",
      "Epoch 23/50\n",
      "10/10 [==============================] - 0s 16ms/sample - loss: 7.2350 - val_loss: 12.1612\n",
      "Epoch 24/50\n",
      "10/10 [==============================] - 0s 13ms/sample - loss: 7.4269 - val_loss: 12.0019\n",
      "Epoch 25/50\n",
      "10/10 [==============================] - 0s 12ms/sample - loss: 6.4448 - val_loss: 11.8290\n",
      "Epoch 26/50\n",
      "10/10 [==============================] - 0s 11ms/sample - loss: 7.3391 - val_loss: 11.6457\n",
      "Epoch 27/50\n",
      "10/10 [==============================] - 0s 6ms/sample - loss: 6.9584 - val_loss: 11.4488\n",
      "Epoch 28/50\n",
      "10/10 [==============================] - 0s 9ms/sample - loss: 6.5066 - val_loss: 11.2341\n",
      "Epoch 29/50\n",
      "10/10 [==============================] - 0s 8ms/sample - loss: 6.7769 - val_loss: 11.0010\n",
      "Epoch 30/50\n",
      "10/10 [==============================] - 0s 8ms/sample - loss: 6.6396 - val_loss: 10.7491\n",
      "Epoch 31/50\n",
      "10/10 [==============================] - 0s 9ms/sample - loss: 6.5162 - val_loss: 10.4757\n",
      "Epoch 32/50\n",
      "10/10 [==============================] - 0s 8ms/sample - loss: 5.7160 - val_loss: 10.1749\n",
      "Epoch 33/50\n",
      "10/10 [==============================] - 0s 8ms/sample - loss: 6.9570 - val_loss: 9.8576\n",
      "Epoch 34/50\n",
      "10/10 [==============================] - 0s 8ms/sample - loss: 6.6897 - val_loss: 9.5198\n",
      "Epoch 35/50\n",
      "10/10 [==============================] - 0s 8ms/sample - loss: 6.4426 - val_loss: 9.1519\n",
      "Epoch 36/50\n",
      "10/10 [==============================] - 0s 8ms/sample - loss: 6.2207 - val_loss: 8.7513\n",
      "Epoch 37/50\n",
      "10/10 [==============================] - 0s 8ms/sample - loss: 5.6680 - val_loss: 8.3095\n",
      "Epoch 38/50\n",
      "10/10 [==============================] - 0s 8ms/sample - loss: 5.4025 - val_loss: 7.8261\n",
      "Epoch 39/50\n",
      "10/10 [==============================] - 0s 6ms/sample - loss: 6.1425 - val_loss: 7.3020\n",
      "Epoch 40/50\n",
      "10/10 [==============================] - 0s 11ms/sample - loss: 6.3737 - val_loss: 6.7363\n",
      "Epoch 41/50\n",
      "10/10 [==============================] - 0s 7ms/sample - loss: 3.6573 - val_loss: 6.1028\n",
      "Epoch 42/50\n",
      "10/10 [==============================] - 0s 7ms/sample - loss: 6.0404 - val_loss: 5.4192\n",
      "Epoch 43/50\n",
      "10/10 [==============================] - 0s 7ms/sample - loss: 4.3768 - val_loss: 4.6617\n",
      "Epoch 44/50\n",
      "10/10 [==============================] - 0s 7ms/sample - loss: 4.5494 - val_loss: 3.8235\n",
      "Epoch 45/50\n",
      "10/10 [==============================] - 0s 8ms/sample - loss: 5.0781 - val_loss: 2.9008\n",
      "Epoch 46/50\n",
      "10/10 [==============================] - 0s 8ms/sample - loss: 4.3221 - val_loss: 2.0461\n",
      "Epoch 47/50\n",
      "10/10 [==============================] - 0s 8ms/sample - loss: 3.4024 - val_loss: 1.2340\n",
      "Epoch 48/50\n",
      "10/10 [==============================] - 0s 9ms/sample - loss: 4.9737 - val_loss: 0.4847\n",
      "Epoch 49/50\n",
      "10/10 [==============================] - 0s 9ms/sample - loss: 2.9271 - val_loss: 0.3608\n",
      "Epoch 50/50\n",
      "10/10 [==============================] - 0s 10ms/sample - loss: 5.2665 - val_loss: 1.0104\n"
     ]
    }
   ],
   "source": [
    "history = simple_lstm_model.fit(\n",
    "    Xtrain, Ytrain, \n",
    "    epochs=50, \n",
    "    batch_size=64, \n",
    "    validation_split=0.1, \n",
    "    verbose=1, \n",
    "    shuffle=False\n",
    ")"
   ]
  },
  {
   "cell_type": "code",
   "execution_count": 251,
   "metadata": {},
   "outputs": [
    {
     "data": {
      "text/plain": [
       "<matplotlib.legend.Legend at 0x7f62659b8d10>"
      ]
     },
     "execution_count": 251,
     "metadata": {},
     "output_type": "execute_result"
    },
    {
     "data": {
      "image/png": "[encoded data removed]",
      "text/plain": [
       "<Figure size 1080x576 with 1 Axes>"
      ]
     },
     "metadata": {
      "needs_background": "light"
     },
     "output_type": "display_data"
    }
   ],
   "source": [
    "plt.figure(figsize=(15,8))\n",
    "plt.plot(history.history['loss'], label='train')\n",
    "plt.plot(history.history['val_loss'], label='test')\n",
    "plt.grid()\n",
    "plt.legend()"
   ]
  },
  {
   "cell_type": "code",
   "execution_count": 256,
   "metadata": {},
   "outputs": [
    {
     "data": {
      "text/plain": [
       "(3, 1)"
      ]
     },
     "execution_count": 256,
     "metadata": {},
     "output_type": "execute_result"
    }
   ],
   "source": [
    "Xtest = train_x[-3:].values\n",
    "Xtest.shape"
   ]
  },
  {
   "cell_type": "code",
   "execution_count": 257,
   "metadata": {},
   "outputs": [
    {
     "name": "stdout",
     "output_type": "stream",
     "text": [
      "(1, 3, 1)\n"
     ]
    }
   ],
   "source": [
    "# reshape input to be [samples, time steps, features]\n",
    "Xtest = np.reshape(Xtest, (1, Xtest.shape[0], 1))\n",
    "print(Xtest.shape)"
   ]
  },
  {
   "cell_type": "code",
   "execution_count": 258,
   "metadata": {},
   "outputs": [],
   "source": [
    "y_pred = simple_lstm_model.predict(Xtest)"
   ]
  },
  {
   "cell_type": "code",
   "execution_count": 260,
   "metadata": {},
   "outputs": [
    {
     "data": {
      "text/plain": [
       "array([[18.225859]], dtype=float32)"
      ]
     },
     "execution_count": 260,
     "metadata": {},
     "output_type": "execute_result"
    }
   ],
   "source": [
    "y_pred"
   ]
  },
  {
   "cell_type": "code",
   "execution_count": null,
   "metadata": {},
   "outputs": [],
   "source": []
  }
 ],
 "metadata": {
  "kernelspec": {
   "display_name": "Python 3",
   "language": "python",
   "name": "python3"
  },
  "language_info": {
   "codemirror_mode": {
    "name": "ipython",
    "version": 3
   },
   "file_extension": ".py",
   "mimetype": "text/x-python",
   "name": "python",
   "nbconvert_exporter": "python",
   "pygments_lexer": "ipython3",
   "version": "3.7.7"
  }
 },
 "nbformat": 4,
 "nbformat_minor": 4
}
