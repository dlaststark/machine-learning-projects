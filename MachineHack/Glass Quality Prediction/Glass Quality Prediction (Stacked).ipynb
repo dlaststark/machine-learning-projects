{
 "cells": [
  {
   "cell_type": "markdown",
   "metadata": {},
   "source": [
    "## Import Packages"
   ]
  },
  {
   "cell_type": "code",
   "execution_count": 1,
   "metadata": {},
   "outputs": [],
   "source": [
    "import pandas as pd\n",
    "import numpy as np\n",
    "import matplotlib.pyplot as plt\n",
    "import seaborn as sns\n",
    "from scipy.stats import boxcox\n",
    "from sklearn.metrics import log_loss, f1_score, roc_curve, auc, confusion_matrix, accuracy_score\n",
    "from sklearn.model_selection import StratifiedKFold, StratifiedShuffleSplit\n",
    "import lightgbm as lgb\n",
    "from xgboost import XGBRegressor\n",
    "import optuna"
   ]
  },
  {
   "cell_type": "markdown",
   "metadata": {},
   "source": [
    "## Set file paths for train and predict datasets"
   ]
  },
  {
   "cell_type": "code",
   "execution_count": 2,
   "metadata": {},
   "outputs": [],
   "source": [
    "train_dataset = \"Dataset/Train.csv\"\n",
    "predict_dataset = \"Dataset/Test.csv\""
   ]
  },
  {
   "cell_type": "markdown",
   "metadata": {},
   "source": [
    "## Data Preprocessing"
   ]
  },
  {
   "cell_type": "markdown",
   "metadata": {},
   "source": [
    "### Read train and predict datasets"
   ]
  },
  {
   "cell_type": "code",
   "execution_count": 3,
   "metadata": {},
   "outputs": [
    {
     "name": "stdout",
     "output_type": "stream",
     "text": [
      "train_df: (1358, 16)\n",
      "predict_df: (583, 15)\n"
     ]
    }
   ],
   "source": [
    "train_df = pd.read_csv(train_dataset)\n",
    "predict_df = pd.read_csv(predict_dataset)\n",
    "print(\"train_df: {}\".format(train_df.shape))\n",
    "print(\"predict_df: {}\".format(predict_df.shape))"
   ]
  },
  {
   "cell_type": "markdown",
   "metadata": {},
   "source": [
    "### Extract \"class\" field from train_df into NumPy array"
   ]
  },
  {
   "cell_type": "code",
   "execution_count": 4,
   "metadata": {},
   "outputs": [
    {
     "name": "stdout",
     "output_type": "stream",
     "text": [
      "train_y: (1358, 1)\n"
     ]
    }
   ],
   "source": [
    "train_df['class_enc'] = train_df['class'].apply(lambda x: 0 if x == 1 else 1)\n",
    "train_y = np.array([train_df['class_enc'].values]).T\n",
    "train_df.drop(['class', 'class_enc'], inplace=True, axis=1)\n",
    "print(\"train_y: {}\".format(train_y.shape))"
   ]
  },
  {
   "cell_type": "markdown",
   "metadata": {},
   "source": [
    "### Combine train and predict dataframes"
   ]
  },
  {
   "cell_type": "code",
   "execution_count": 5,
   "metadata": {
    "scrolled": true
   },
   "outputs": [
    {
     "data": {
      "text/html": [
       "<div>\n",
       "<style scoped>\n",
       "    .dataframe tbody tr th:only-of-type {\n",
       "        vertical-align: middle;\n",
       "    }\n",
       "\n",
       "    .dataframe tbody tr th {\n",
       "        vertical-align: top;\n",
       "    }\n",
       "\n",
       "    .dataframe thead th {\n",
       "        text-align: right;\n",
       "    }\n",
       "</style>\n",
       "<table border=\"1\" class=\"dataframe\">\n",
       "  <thead>\n",
       "    <tr style=\"text-align: right;\">\n",
       "      <th></th>\n",
       "      <th>grade_A_Component_1</th>\n",
       "      <th>grade_A_Component_2</th>\n",
       "      <th>max_luminosity</th>\n",
       "      <th>thickness</th>\n",
       "      <th>xmin</th>\n",
       "      <th>xmax</th>\n",
       "      <th>ymin</th>\n",
       "      <th>ymax</th>\n",
       "      <th>pixel_area</th>\n",
       "      <th>log_area</th>\n",
       "      <th>x_component_1</th>\n",
       "      <th>x_component_2</th>\n",
       "      <th>x_component_3</th>\n",
       "      <th>x_component_4</th>\n",
       "      <th>x_component_5</th>\n",
       "    </tr>\n",
       "  </thead>\n",
       "  <tbody>\n",
       "    <tr>\n",
       "      <th>0</th>\n",
       "      <td>0</td>\n",
       "      <td>1</td>\n",
       "      <td>150</td>\n",
       "      <td>36</td>\n",
       "      <td>144</td>\n",
       "      <td>172</td>\n",
       "      <td>947225</td>\n",
       "      <td>947332</td>\n",
       "      <td>439</td>\n",
       "      <td>439.099273</td>\n",
       "      <td>0</td>\n",
       "      <td>0</td>\n",
       "      <td>1</td>\n",
       "      <td>0</td>\n",
       "      <td>0</td>\n",
       "    </tr>\n",
       "    <tr>\n",
       "      <th>1</th>\n",
       "      <td>1</td>\n",
       "      <td>0</td>\n",
       "      <td>134</td>\n",
       "      <td>55</td>\n",
       "      <td>1144</td>\n",
       "      <td>1152</td>\n",
       "      <td>2379058</td>\n",
       "      <td>2379624</td>\n",
       "      <td>329</td>\n",
       "      <td>329.205616</td>\n",
       "      <td>1</td>\n",
       "      <td>0</td>\n",
       "      <td>0</td>\n",
       "      <td>0</td>\n",
       "      <td>0</td>\n",
       "    </tr>\n",
       "    <tr>\n",
       "      <th>2</th>\n",
       "      <td>1</td>\n",
       "      <td>0</td>\n",
       "      <td>135</td>\n",
       "      <td>65</td>\n",
       "      <td>950</td>\n",
       "      <td>974</td>\n",
       "      <td>1038442</td>\n",
       "      <td>1036754</td>\n",
       "      <td>300</td>\n",
       "      <td>300.120598</td>\n",
       "      <td>0</td>\n",
       "      <td>0</td>\n",
       "      <td>0</td>\n",
       "      <td>0</td>\n",
       "      <td>0</td>\n",
       "    </tr>\n",
       "    <tr>\n",
       "      <th>3</th>\n",
       "      <td>0</td>\n",
       "      <td>1</td>\n",
       "      <td>123</td>\n",
       "      <td>35</td>\n",
       "      <td>41</td>\n",
       "      <td>220</td>\n",
       "      <td>1705580</td>\n",
       "      <td>1705604</td>\n",
       "      <td>6803</td>\n",
       "      <td>6803.778622</td>\n",
       "      <td>0</td>\n",
       "      <td>0</td>\n",
       "      <td>1</td>\n",
       "      <td>0</td>\n",
       "      <td>0</td>\n",
       "    </tr>\n",
       "    <tr>\n",
       "      <th>4</th>\n",
       "      <td>1</td>\n",
       "      <td>0</td>\n",
       "      <td>138</td>\n",
       "      <td>69</td>\n",
       "      <td>462</td>\n",
       "      <td>466</td>\n",
       "      <td>1088124</td>\n",
       "      <td>1086579</td>\n",
       "      <td>251</td>\n",
       "      <td>251.401943</td>\n",
       "      <td>0</td>\n",
       "      <td>0</td>\n",
       "      <td>0</td>\n",
       "      <td>0</td>\n",
       "      <td>0</td>\n",
       "    </tr>\n",
       "  </tbody>\n",
       "</table>\n",
       "</div>"
      ],
      "text/plain": [
       "   grade_A_Component_1  grade_A_Component_2  max_luminosity  thickness  xmin  \\\n",
       "0                    0                    1             150         36   144   \n",
       "1                    1                    0             134         55  1144   \n",
       "2                    1                    0             135         65   950   \n",
       "3                    0                    1             123         35    41   \n",
       "4                    1                    0             138         69   462   \n",
       "\n",
       "   xmax     ymin     ymax  pixel_area     log_area  x_component_1  \\\n",
       "0   172   947225   947332         439   439.099273              0   \n",
       "1  1152  2379058  2379624         329   329.205616              1   \n",
       "2   974  1038442  1036754         300   300.120598              0   \n",
       "3   220  1705580  1705604        6803  6803.778622              0   \n",
       "4   466  1088124  1086579         251   251.401943              0   \n",
       "\n",
       "   x_component_2  x_component_3  x_component_4  x_component_5  \n",
       "0              0              1              0              0  \n",
       "1              0              0              0              0  \n",
       "2              0              0              0              0  \n",
       "3              0              1              0              0  \n",
       "4              0              0              0              0  "
      ]
     },
     "execution_count": 5,
     "metadata": {},
     "output_type": "execute_result"
    }
   ],
   "source": [
    "combined_df = train_df.append(predict_df, sort=False, ignore_index=True)\n",
    "combined_df.head()"
   ]
  },
  {
   "cell_type": "markdown",
   "metadata": {},
   "source": [
    "### Feature Engineering"
   ]
  },
  {
   "cell_type": "markdown",
   "metadata": {},
   "source": [
    "#### Box-cox Transformation"
   ]
  },
  {
   "cell_type": "code",
   "execution_count": 6,
   "metadata": {},
   "outputs": [],
   "source": [
    "_, opt_lambda = boxcox(combined_df['max_luminosity'])\n",
    "combined_df['max_luminosity'] = boxcox(combined_df['max_luminosity'], lmbda=opt_lambda)\n",
    "\n",
    "_, opt_lambda = boxcox(combined_df['thickness'])\n",
    "combined_df['thickness'] = boxcox(combined_df['thickness'], lmbda=opt_lambda)\n",
    "\n",
    "_, opt_lambda = boxcox(combined_df['xmin'] + 1e-10)\n",
    "combined_df['xmin'] = boxcox(combined_df['xmin'] + 1e-10, lmbda=opt_lambda)\n",
    "\n",
    "_, opt_lambda = boxcox(combined_df['xmax'])\n",
    "combined_df['xmax'] = boxcox(combined_df['xmax'], lmbda=opt_lambda)\n",
    "\n",
    "_, opt_lambda = boxcox(combined_df['ymin'] + 1e-10)\n",
    "combined_df['ymin'] = boxcox(combined_df['ymin'] + 1e-10, lmbda=opt_lambda)\n",
    "\n",
    "_, opt_lambda = boxcox(combined_df['ymax'])\n",
    "combined_df['ymax'] = boxcox(combined_df['ymax'], lmbda=opt_lambda)\n",
    "\n",
    "_, opt_lambda = boxcox(combined_df['pixel_area'])\n",
    "combined_df['pixel_area'] = boxcox(combined_df['pixel_area'], lmbda=opt_lambda)\n",
    "\n",
    "_, opt_lambda = boxcox(combined_df['log_area'])\n",
    "combined_df['log_area'] = boxcox(combined_df['log_area'], lmbda=opt_lambda)"
   ]
  },
  {
   "cell_type": "markdown",
   "metadata": {},
   "source": [
    "#### Create new features"
   ]
  },
  {
   "cell_type": "code",
   "execution_count": 7,
   "metadata": {},
   "outputs": [],
   "source": [
    "x1 = np.min(combined_df['xmin'])\n",
    "x2 = np.max(combined_df['xmin'])\n",
    "x3 = np.min(combined_df['xmax'])\n",
    "x4 = np.max(combined_df['xmax'])\n",
    "combined_df['xmin_std'] = (combined_df['xmin'] - x1)/x2\n",
    "combined_df['xmax_std'] = (combined_df['xmax'] - x3)/x4"
   ]
  },
  {
   "cell_type": "code",
   "execution_count": 8,
   "metadata": {},
   "outputs": [],
   "source": [
    "y1 = np.min(combined_df['ymin'])\n",
    "y2 = np.max(combined_df['ymin'])\n",
    "y3 = np.min(combined_df['ymax'])\n",
    "y4 = np.max(combined_df['ymax'])\n",
    "combined_df['ymin_std'] = (combined_df['ymin'] - y1)/y2\n",
    "combined_df['ymax_std'] = (combined_df['ymax'] - y3)/y4"
   ]
  },
  {
   "cell_type": "code",
   "execution_count": 9,
   "metadata": {},
   "outputs": [],
   "source": [
    "l1 = np.min(combined_df['log_area'])\n",
    "l2 = np.max(combined_df['log_area'])\n",
    "p1 = np.min(combined_df['pixel_area'])\n",
    "p2 = np.max(combined_df['pixel_area'])\n",
    "combined_df['log_area_std'] = (combined_df['log_area'] - l1)/l2\n",
    "combined_df['pixel_area_std'] = (combined_df['pixel_area'] - p1)/p2"
   ]
  },
  {
   "cell_type": "code",
   "execution_count": 10,
   "metadata": {},
   "outputs": [],
   "source": [
    "combined_df['x_avg'] = (combined_df['xmin'] + combined_df['xmax'])/2\n",
    "combined_df['y_avg'] = (combined_df['ymin'] + combined_df['ymax'])/2\n",
    "combined_df['area_avg'] = (combined_df['pixel_area'] + combined_df['log_area'])/2\n",
    "#combined_df.drop(['xmax','xmin','ymax','ymin','log_area','pixel_area'], axis = 1, inplace=True)"
   ]
  },
  {
   "cell_type": "code",
   "execution_count": 11,
   "metadata": {},
   "outputs": [],
   "source": [
    "x_min = np.min(combined_df['x_avg'])\n",
    "x_max = np.max(combined_df['x_avg'])\n",
    "y_min = np.min(combined_df['y_avg'])\n",
    "y_max = np.max(combined_df['y_avg'])\n",
    "area_min = np.min(combined_df['area_avg'])\n",
    "area_max = np.max(combined_df['area_avg'])\n",
    "thick_min = np.min(combined_df['thickness'])\n",
    "thick_max = np.max(combined_df['thickness'])\n",
    "\n",
    "combined_df['xavg_std'] = (combined_df['x_avg'] - x_min)/x_max\n",
    "combined_df['yavg_std'] = (combined_df['y_avg'] - y_min)/y_max\n",
    "combined_df['area_std'] = (combined_df['area_avg'] - area_min)/area_max\n",
    "combined_df['thickness_std'] = (combined_df['thickness'] - thick_min)/thick_max"
   ]
  },
  {
   "cell_type": "code",
   "execution_count": 12,
   "metadata": {},
   "outputs": [],
   "source": [
    "combined_df['x_component_11'] = combined_df['x_component_1'].mask(((combined_df['x_component_1']==0) & (combined_df['x_component_2']==0) & (combined_df['x_component_3']==0) & (combined_df['x_component_4']==0) & (combined_df['x_component_5']==0)), -1)\n",
    "combined_df['x_component_22'] = combined_df['x_component_2'].mask(((combined_df['x_component_1']==0) & (combined_df['x_component_2']==0) & (combined_df['x_component_3']==0) & (combined_df['x_component_4']==0) & (combined_df['x_component_5']==0)), -1)\n",
    "combined_df['x_component_33'] = combined_df['x_component_3'].mask(((combined_df['x_component_1']==0) & (combined_df['x_component_2']==0) & (combined_df['x_component_3']==0) & (combined_df['x_component_4']==0) & (combined_df['x_component_5']==0)), -1)\n",
    "combined_df['x_component_44'] = combined_df['x_component_4'].mask(((combined_df['x_component_1']==0) & (combined_df['x_component_2']==0) & (combined_df['x_component_3']==0) & (combined_df['x_component_4']==0) & (combined_df['x_component_5']==0)), -1)\n",
    "combined_df['x_component_55'] = combined_df['x_component_5'].mask(((combined_df['x_component_1']==0) & (combined_df['x_component_2']==0) & (combined_df['x_component_3']==0) & (combined_df['x_component_4']==0) & (combined_df['x_component_5']==0)), -1)\n",
    "combined_df.drop(['x_component_1','x_component_2','x_component_3','x_component_4','x_component_5'], axis = 1, inplace=True)"
   ]
  },
  {
   "cell_type": "code",
   "execution_count": 13,
   "metadata": {},
   "outputs": [],
   "source": [
    "combined_df['lumis/pa'] = combined_df['max_luminosity'] / combined_df['pixel_area']\n",
    "combined_df['lumis/la'] = combined_df['max_luminosity'] / combined_df['log_area']\n",
    "combined_df['lumis/ymin'] = combined_df['max_luminosity'] / combined_df['ymin']\n",
    "combined_df['lumis/ymax'] = combined_df['max_luminosity'] / combined_df['ymax']\n",
    "combined_df['x_diff'] = np.square(combined_df['xmax'] - combined_df['xmin'])\n",
    "combined_df['y_diff'] = np.square(combined_df['ymax'] - combined_df['ymin'])\n",
    "combined_df['area_ratio'] = combined_df['pixel_area']/combined_df['log_area']\n",
    "combined_df['thick/pa'] = combined_df['thickness']/combined_df['pixel_area']\n",
    "combined_df['thick/la'] = combined_df['thickness']/combined_df['log_area']"
   ]
  },
  {
   "cell_type": "code",
   "execution_count": 16,
   "metadata": {},
   "outputs": [],
   "source": [
    "combined_df['xavg/yavg'] = combined_df['y_avg']/combined_df['x_avg']\n",
    "combined_df['ymin/xmin'] = combined_df['ymin']/combined_df['xmin']\n",
    "combined_df['ymax/xmax'] = combined_df['ymax']/combined_df['xmax']\n",
    "combined_df['yarea/xarea'] = np.sqrt((combined_df['ymin'] * combined_df['ymax'])/((combined_df['xmin'] * combined_df['xmax'])+1e-10))"
   ]
  },
  {
   "cell_type": "code",
   "execution_count": 17,
   "metadata": {},
   "outputs": [],
   "source": [
    "combined_df['pa/y'] = combined_df['pixel_area']/np.sqrt((combined_df['ymin'] * combined_df['ymax'])+1e-10)\n",
    "combined_df['pa/x'] = combined_df['pixel_area']/np.sqrt((combined_df['xmin'] * combined_df['xmax'])+1e-10)\n",
    "combined_df['la/y'] = combined_df['log_area']/np.sqrt((combined_df['ymin'] * combined_df['ymax'])+1e-10)\n",
    "combined_df['la/x'] = combined_df['log_area']/np.sqrt((combined_df['xmin'] * combined_df['xmax'])+1e-10)\n",
    "combined_df['ml/y'] = combined_df['max_luminosity']/np.sqrt((combined_df['ymin'] * combined_df['ymax'])+1e-10)\n",
    "combined_df['ml/x'] = combined_df['max_luminosity']/np.sqrt((combined_df['xmin'] * combined_df['xmax'])+1e-10)\n",
    "combined_df['t/y'] = combined_df['thickness']/np.sqrt((combined_df['ymin'] * combined_df['ymax'])+1e-10)\n",
    "combined_df['t/x'] = combined_df['thickness']/np.sqrt((combined_df['xmin'] * combined_df['xmax'])+1e-10)"
   ]
  },
  {
   "cell_type": "markdown",
   "metadata": {},
   "source": [
    "### Create train and predict Numpy arrays"
   ]
  },
  {
   "cell_type": "code",
   "execution_count": 18,
   "metadata": {},
   "outputs": [
    {
     "name": "stdout",
     "output_type": "stream",
     "text": [
      "train_x: (1358, 49)\n",
      "predict_x: (583, 49)\n"
     ]
    }
   ],
   "source": [
    "# Segregate combined_df into train/predict datasets\n",
    "train_x = combined_df[:1358].values\n",
    "predict_x = combined_df[1358:].values\n",
    "\n",
    "print(\"train_x: {}\".format(train_x.shape))\n",
    "print(\"predict_x: {}\".format(predict_x.shape))"
   ]
  },
  {
   "cell_type": "code",
   "execution_count": 19,
   "metadata": {},
   "outputs": [],
   "source": [
    "train_x_full = train_x.copy()\n",
    "train_y_full = train_y.copy()"
   ]
  },
  {
   "cell_type": "markdown",
   "metadata": {},
   "source": [
    "### Split training data into train/test datasets"
   ]
  },
  {
   "cell_type": "code",
   "execution_count": 20,
   "metadata": {},
   "outputs": [
    {
     "name": "stdout",
     "output_type": "stream",
     "text": [
      "------------------------- Training Dataset -------------------------\n",
      "train_x shape: (1256, 49)\n",
      "train_y shape: (1256, 1)\n",
      "\n",
      "------------------------- Test Dataset -------------------------\n",
      "test_x shape: (102, 49)\n",
      "test_y shape: (102, 1)\n"
     ]
    }
   ],
   "source": [
    "sss = StratifiedShuffleSplit(n_splits=1, test_size=0.075, random_state=1)\n",
    "for train_index, test_index in sss.split(train_x, train_y):\n",
    "    train_x, test_x = train_x[train_index], train_x[test_index]\n",
    "    train_y, test_y = train_y[train_index], train_y[test_index]\n",
    "\n",
    "print(\"------------------------- Training Dataset -------------------------\")\n",
    "print(\"train_x shape: {}\".format(train_x.shape))\n",
    "print(\"train_y shape: {}\".format(train_y.shape))\n",
    "\n",
    "print(\"\\n------------------------- Test Dataset -------------------------\")\n",
    "print(\"test_x shape: {}\".format(test_x.shape))\n",
    "print(\"test_y shape: {}\".format(test_y.shape))"
   ]
  },
  {
   "cell_type": "code",
   "execution_count": 21,
   "metadata": {},
   "outputs": [
    {
     "name": "stdout",
     "output_type": "stream",
     "text": [
      "------------------------- Training Dataset -------------------------\n",
      "Xtrain_full shape: (1358, 49)\n",
      "Ytrain_full shape: (1358, 1)\n",
      "Xtrain shape: (1256, 49)\n",
      "Ytrain shape: (1256, 1)\n",
      "\n",
      "------------------------- Test Dataset -------------------------\n",
      "Xtest shape: (102, 49)\n",
      "Ytest shape: (102, 1)\n",
      "\n",
      "------------------------- Prediction Dataset -------------------------\n",
      "Xpredict shape: (583, 49)\n"
     ]
    }
   ],
   "source": [
    "Xtrain_full, Ytrain_full = train_x_full.copy(), train_y_full.copy()\n",
    "Xtrain, Ytrain = train_x.copy(), train_y.copy()\n",
    "Xtest, Ytest = test_x.copy(), test_y.copy()\n",
    "Xpredict = predict_x.copy()\n",
    "\n",
    "print(\"------------------------- Training Dataset -------------------------\")\n",
    "print(\"Xtrain_full shape: {}\".format(Xtrain_full.shape))\n",
    "print(\"Ytrain_full shape: {}\".format(Ytrain_full.shape))\n",
    "print(\"Xtrain shape: {}\".format(Xtrain.shape))\n",
    "print(\"Ytrain shape: {}\".format(Ytrain.shape))\n",
    "\n",
    "print(\"\\n------------------------- Test Dataset -------------------------\")\n",
    "print(\"Xtest shape: {}\".format(Xtest.shape))\n",
    "print(\"Ytest shape: {}\".format(Ytest.shape))\n",
    "\n",
    "print(\"\\n------------------------- Prediction Dataset -------------------------\")\n",
    "print(\"Xpredict shape: {}\".format(Xpredict.shape))"
   ]
  },
  {
   "cell_type": "markdown",
   "metadata": {},
   "source": [
    "## LightGBM model"
   ]
  },
  {
   "cell_type": "markdown",
   "metadata": {},
   "source": [
    "### Build and train the model"
   ]
  },
  {
   "cell_type": "code",
   "execution_count": 22,
   "metadata": {},
   "outputs": [],
   "source": [
    "# Define model hyperparameters\n",
    "params = {}\n",
    "params[\"objective\"] = 'multiclass'\n",
    "params[\"metric\"] = 'multi_logloss'\n",
    "params[\"num_class\"] = 2\n",
    "params[\"is_unbalance\"] = True\n",
    "params[\"boosting\"] = 'gbdt'\n",
    "params[\"max_bin\"] = 396\n",
    "params[\"learning_rate\"] = 0.017\n",
    "params[\"lambda_l2\"] = 0.053\n",
    "params[\"num_leaves\"] = 51\n",
    "params[\"max_depth\"] = 12\n",
    "params[\"feature_fraction\"] = 0.95\n",
    "params[\"bagging_fraction\"] = 0.94\n",
    "params[\"bagging_freq\"] = 17\n",
    "params[\"min_data_in_leaf\"] = 1\n",
    "params[\"verbosity\"] = -1\n",
    "num_rounds = 5000"
   ]
  },
  {
   "cell_type": "code",
   "execution_count": 25,
   "metadata": {},
   "outputs": [],
   "source": [
    "# Define 5-fold cross validation test harness\n",
    "kfold = StratifiedKFold(n_splits=5, shuffle=True, random_state=20)\n",
    "y_pred_test_lgb = 0"
   ]
  },
  {
   "cell_type": "code",
   "execution_count": 26,
   "metadata": {},
   "outputs": [
    {
     "name": "stdout",
     "output_type": "stream",
     "text": [
      "Training until validation scores don't improve for 200 rounds\n",
      "Early stopping, best iteration is:\n",
      "[137]\tvalid_0's multi_logloss: 0.356695\n",
      "Training until validation scores don't improve for 200 rounds\n",
      "Early stopping, best iteration is:\n",
      "[154]\tvalid_0's multi_logloss: 0.280157\n",
      "Training until validation scores don't improve for 200 rounds\n",
      "Early stopping, best iteration is:\n",
      "[180]\tvalid_0's multi_logloss: 0.335571\n",
      "Training until validation scores don't improve for 200 rounds\n",
      "Early stopping, best iteration is:\n",
      "[123]\tvalid_0's multi_logloss: 0.308343\n",
      "Training until validation scores don't improve for 200 rounds\n",
      "Early stopping, best iteration is:\n",
      "[187]\tvalid_0's multi_logloss: 0.333899\n"
     ]
    }
   ],
   "source": [
    "# Train the model using K-fold\n",
    "counter = 0\n",
    "\n",
    "for train, val in kfold.split(Xtrain, Ytrain):\n",
    "    counter += 1\n",
    "\n",
    "    train_x, train_y = Xtrain[train], Ytrain[train]\n",
    "    val_x, val_y = Xtrain[val], Ytrain[val]\n",
    "\n",
    "    lgtrain = lgb.Dataset(train_x, label=train_y.ravel())\n",
    "    lgvalidation = lgb.Dataset(val_x, label=val_y.ravel())\n",
    "\n",
    "    model = lgb.train(params, lgtrain, num_rounds, valid_sets=[lgvalidation], early_stopping_rounds=200, verbose_eval=1000)\n",
    "    pred = model.predict(Xtest, num_iteration=model.best_iteration)\n",
    "\n",
    "    y_pred_test_lgb += pred\n",
    "\n",
    "y_pred_test_lgb /= float(counter)"
   ]
  },
  {
   "cell_type": "markdown",
   "metadata": {},
   "source": [
    "### Validate the model"
   ]
  },
  {
   "cell_type": "markdown",
   "metadata": {},
   "source": [
    "#### Print log_loss, accuracy and F1-score"
   ]
  },
  {
   "cell_type": "code",
   "execution_count": 27,
   "metadata": {},
   "outputs": [
    {
     "name": "stdout",
     "output_type": "stream",
     "text": [
      "Overall log_loss: 0.3067897553895104\n",
      "Overall accuracy: 0.8823529411764706\n",
      "Overall F1-Score: 0.8378378378378378\n"
     ]
    }
   ],
   "source": [
    "loss = log_loss(test_y, y_pred_test_lgb)\n",
    "y_pred_binary = np.array([np.argmax(y_pred_test_lgb, axis=1)]).T\n",
    "acc_score = accuracy_score(Ytest, y_pred_binary)\n",
    "f1 = f1_score(Ytest, y_pred_binary)\n",
    "print('Overall log_loss:', loss)\n",
    "print('Overall accuracy:', acc_score)\n",
    "print('Overall F1-Score:', f1)"
   ]
  },
  {
   "cell_type": "markdown",
   "metadata": {},
   "source": [
    "#### Print Area Under Curve"
   ]
  },
  {
   "cell_type": "code",
   "execution_count": 28,
   "metadata": {},
   "outputs": [
    {
     "data": {
      "image/png": "[encoded data removed]",
      "text/plain": [
       "<Figure size 432x288 with 1 Axes>"
      ]
     },
     "metadata": {
      "needs_background": "light"
     },
     "output_type": "display_data"
    },
    {
     "name": "stdout",
     "output_type": "stream",
     "text": [
      "AUC score: 0.8831556503198295\n"
     ]
    }
   ],
   "source": [
    "plt.figure()\n",
    "false_positive_rate, recall, thresholds = roc_curve(Ytest, y_pred_binary)\n",
    "roc_auc = auc(false_positive_rate, recall)\n",
    "plt.title('Receiver Operating Characteristic (ROC)')\n",
    "plt.plot(false_positive_rate, recall, 'b', label = 'AUC = %0.3f' %roc_auc)\n",
    "plt.legend(loc='lower right')\n",
    "plt.plot([0,1], [0,1], 'r--')\n",
    "plt.xlim([0.0,1.0])\n",
    "plt.ylim([0.0,1.0])\n",
    "plt.ylabel('Recall')\n",
    "plt.xlabel('Fall-out (1-Specificity)')\n",
    "plt.show()\n",
    "\n",
    "print('AUC score:', roc_auc)"
   ]
  },
  {
   "cell_type": "markdown",
   "metadata": {},
   "source": [
    "#### Print Confusion Matrix"
   ]
  },
  {
   "cell_type": "code",
   "execution_count": 29,
   "metadata": {},
   "outputs": [
    {
     "data": {
      "image/png": "[encoded data removed]",
      "text/plain": [
       "<Figure size 432x288 with 2 Axes>"
      ]
     },
     "metadata": {
      "needs_background": "light"
     },
     "output_type": "display_data"
    }
   ],
   "source": [
    "cm = confusion_matrix(Ytest, y_pred_binary)\n",
    "labels = ['0', '1']\n",
    "sns.heatmap(cm, xticklabels = labels, yticklabels = labels, annot = True, fmt='d', cmap=\"Blues\", vmin = 0.5);\n",
    "plt.title('Confusion Matrix')\n",
    "plt.ylabel('True Class')\n",
    "plt.xlabel('Predicted Class')\n",
    "plt.show()"
   ]
  },
  {
   "cell_type": "markdown",
   "metadata": {},
   "source": [
    "### Train model on entire data"
   ]
  },
  {
   "cell_type": "code",
   "execution_count": 30,
   "metadata": {},
   "outputs": [],
   "source": [
    "# Define 5-fold cross validation test harness\n",
    "kfold = StratifiedKFold(n_splits=5, shuffle=True, random_state=30)\n",
    "y_pred_full_lgb = 0"
   ]
  },
  {
   "cell_type": "code",
   "execution_count": 31,
   "metadata": {},
   "outputs": [
    {
     "name": "stdout",
     "output_type": "stream",
     "text": [
      "Training until validation scores don't improve for 200 rounds\n",
      "Early stopping, best iteration is:\n",
      "[201]\tvalid_0's multi_logloss: 0.28109\n",
      "Training until validation scores don't improve for 200 rounds\n",
      "Early stopping, best iteration is:\n",
      "[181]\tvalid_0's multi_logloss: 0.318151\n",
      "Training until validation scores don't improve for 200 rounds\n",
      "Early stopping, best iteration is:\n",
      "[167]\tvalid_0's multi_logloss: 0.326839\n",
      "Training until validation scores don't improve for 200 rounds\n",
      "Early stopping, best iteration is:\n",
      "[251]\tvalid_0's multi_logloss: 0.274252\n",
      "Training until validation scores don't improve for 200 rounds\n",
      "Early stopping, best iteration is:\n",
      "[123]\tvalid_0's multi_logloss: 0.329482\n"
     ]
    }
   ],
   "source": [
    "# Train the model using K-fold\n",
    "counter = 0\n",
    "\n",
    "for train, val in kfold.split(Xtrain_full, Ytrain_full):\n",
    "    counter += 1\n",
    "\n",
    "    train_x, train_y = Xtrain_full[train], Ytrain_full[train]\n",
    "    val_x, val_y = Xtrain_full[val], Ytrain_full[val]\n",
    "\n",
    "    lgtrain = lgb.Dataset(train_x, label=train_y.ravel())\n",
    "    lgvalidation = lgb.Dataset(val_x, label=val_y.ravel())\n",
    "\n",
    "    model = lgb.train(params, lgtrain, num_rounds, valid_sets=[lgvalidation], early_stopping_rounds=200, verbose_eval=1000)\n",
    "    pred = model.predict(Xpredict, num_iteration=model.best_iteration)\n",
    "\n",
    "    y_pred_full_lgb += pred\n",
    "\n",
    "y_pred_full_lgb /= float(counter)"
   ]
  },
  {
   "cell_type": "markdown",
   "metadata": {},
   "source": [
    "## XGBoost Model"
   ]
  },
  {
   "cell_type": "markdown",
   "metadata": {},
   "source": [
    "### Build and train the model"
   ]
  },
  {
   "cell_type": "code",
   "execution_count": 32,
   "metadata": {},
   "outputs": [],
   "source": [
    "# Define 5-fold cross validation test harness\n",
    "kfold = StratifiedKFold(n_splits=5, shuffle=True, random_state=40)\n",
    "y_pred_test_xgb = 0"
   ]
  },
  {
   "cell_type": "code",
   "execution_count": null,
   "metadata": {},
   "outputs": [
    {
     "name": "stdout",
     "output_type": "stream",
     "text": [
      "[0]\tvalidation_0-mlogloss:0.65036\n",
      "Will train until validation_0-mlogloss hasn't improved in 200 rounds.\n",
      "[1]\tvalidation_0-mlogloss:0.61587\n",
      "[2]\tvalidation_0-mlogloss:0.58443\n",
      "[3]\tvalidation_0-mlogloss:0.55608\n",
      "[4]\tvalidation_0-mlogloss:0.53356\n",
      "[5]\tvalidation_0-mlogloss:0.51279\n",
      "[6]\tvalidation_0-mlogloss:0.49352\n",
      "[7]\tvalidation_0-mlogloss:0.47623\n",
      "[8]\tvalidation_0-mlogloss:0.45983\n",
      "[9]\tvalidation_0-mlogloss:0.44444\n",
      "[10]\tvalidation_0-mlogloss:0.43029\n",
      "[11]\tvalidation_0-mlogloss:0.41920\n",
      "[12]\tvalidation_0-mlogloss:0.40925\n",
      "[13]\tvalidation_0-mlogloss:0.39905\n",
      "[14]\tvalidation_0-mlogloss:0.39131\n",
      "[15]\tvalidation_0-mlogloss:0.38310\n",
      "[16]\tvalidation_0-mlogloss:0.37606\n",
      "[17]\tvalidation_0-mlogloss:0.37049\n",
      "[18]\tvalidation_0-mlogloss:0.36498\n",
      "[19]\tvalidation_0-mlogloss:0.35965\n",
      "[20]\tvalidation_0-mlogloss:0.35428\n",
      "[21]\tvalidation_0-mlogloss:0.35023\n",
      "[22]\tvalidation_0-mlogloss:0.34646\n",
      "[23]\tvalidation_0-mlogloss:0.34257\n",
      "[24]\tvalidation_0-mlogloss:0.33980\n",
      "[25]\tvalidation_0-mlogloss:0.33638\n",
      "[26]\tvalidation_0-mlogloss:0.33332\n",
      "[27]\tvalidation_0-mlogloss:0.33030\n",
      "[28]\tvalidation_0-mlogloss:0.32763\n",
      "[29]\tvalidation_0-mlogloss:0.32557\n",
      "[30]\tvalidation_0-mlogloss:0.32360\n",
      "[31]\tvalidation_0-mlogloss:0.32116\n",
      "[32]\tvalidation_0-mlogloss:0.31899\n",
      "[33]\tvalidation_0-mlogloss:0.31711\n",
      "[34]\tvalidation_0-mlogloss:0.31648\n",
      "[35]\tvalidation_0-mlogloss:0.31551\n",
      "[36]\tvalidation_0-mlogloss:0.31456\n",
      "[37]\tvalidation_0-mlogloss:0.31319\n",
      "[38]\tvalidation_0-mlogloss:0.31196\n",
      "[39]\tvalidation_0-mlogloss:0.31017\n",
      "[40]\tvalidation_0-mlogloss:0.31001\n",
      "[41]\tvalidation_0-mlogloss:0.30926\n",
      "[42]\tvalidation_0-mlogloss:0.30741\n",
      "[43]\tvalidation_0-mlogloss:0.30753\n",
      "[44]\tvalidation_0-mlogloss:0.30746\n",
      "[45]\tvalidation_0-mlogloss:0.30657\n",
      "[46]\tvalidation_0-mlogloss:0.30661\n",
      "[47]\tvalidation_0-mlogloss:0.30629\n",
      "[48]\tvalidation_0-mlogloss:0.30537\n",
      "[49]\tvalidation_0-mlogloss:0.30487\n",
      "[50]\tvalidation_0-mlogloss:0.30506\n",
      "[51]\tvalidation_0-mlogloss:0.30512\n",
      "[52]\tvalidation_0-mlogloss:0.30406\n",
      "[53]\tvalidation_0-mlogloss:0.30462\n",
      "[54]\tvalidation_0-mlogloss:0.30558\n",
      "[55]\tvalidation_0-mlogloss:0.30633\n",
      "[56]\tvalidation_0-mlogloss:0.30661\n",
      "[57]\tvalidation_0-mlogloss:0.30730\n",
      "[58]\tvalidation_0-mlogloss:0.30719\n",
      "[59]\tvalidation_0-mlogloss:0.30638\n",
      "[60]\tvalidation_0-mlogloss:0.30685\n",
      "[61]\tvalidation_0-mlogloss:0.30711\n",
      "[62]\tvalidation_0-mlogloss:0.30690\n",
      "[63]\tvalidation_0-mlogloss:0.30765\n",
      "[64]\tvalidation_0-mlogloss:0.30761\n",
      "[65]\tvalidation_0-mlogloss:0.30839\n",
      "[66]\tvalidation_0-mlogloss:0.30800\n",
      "[67]\tvalidation_0-mlogloss:0.30806\n",
      "[68]\tvalidation_0-mlogloss:0.30774\n",
      "[69]\tvalidation_0-mlogloss:0.30708\n",
      "[70]\tvalidation_0-mlogloss:0.30706\n",
      "[71]\tvalidation_0-mlogloss:0.30662\n",
      "[72]\tvalidation_0-mlogloss:0.30641\n",
      "[73]\tvalidation_0-mlogloss:0.30652\n",
      "[74]\tvalidation_0-mlogloss:0.30669\n",
      "[75]\tvalidation_0-mlogloss:0.30743\n",
      "[76]\tvalidation_0-mlogloss:0.30760\n",
      "[77]\tvalidation_0-mlogloss:0.30743\n",
      "[78]\tvalidation_0-mlogloss:0.30738\n",
      "[79]\tvalidation_0-mlogloss:0.30741\n",
      "[80]\tvalidation_0-mlogloss:0.30835\n",
      "[81]\tvalidation_0-mlogloss:0.30865\n",
      "[82]\tvalidation_0-mlogloss:0.30864\n",
      "[83]\tvalidation_0-mlogloss:0.30856\n",
      "[84]\tvalidation_0-mlogloss:0.30849\n",
      "[85]\tvalidation_0-mlogloss:0.30869\n",
      "[86]\tvalidation_0-mlogloss:0.30905\n",
      "[87]\tvalidation_0-mlogloss:0.30869\n",
      "[88]\tvalidation_0-mlogloss:0.30858\n",
      "[89]\tvalidation_0-mlogloss:0.30857\n",
      "[90]\tvalidation_0-mlogloss:0.30894\n",
      "[91]\tvalidation_0-mlogloss:0.30966\n",
      "[92]\tvalidation_0-mlogloss:0.30902\n",
      "[93]\tvalidation_0-mlogloss:0.30882\n",
      "[94]\tvalidation_0-mlogloss:0.30817\n",
      "[95]\tvalidation_0-mlogloss:0.30856\n",
      "[96]\tvalidation_0-mlogloss:0.30985\n",
      "[97]\tvalidation_0-mlogloss:0.30998\n",
      "[98]\tvalidation_0-mlogloss:0.31017\n",
      "[99]\tvalidation_0-mlogloss:0.31044\n",
      "[0]\tvalidation_0-mlogloss:0.65262\n",
      "Will train until validation_0-mlogloss hasn't improved in 200 rounds.\n",
      "[1]\tvalidation_0-mlogloss:0.61624\n",
      "[2]\tvalidation_0-mlogloss:0.58524\n",
      "[3]\tvalidation_0-mlogloss:0.55791\n",
      "[4]\tvalidation_0-mlogloss:0.53390\n",
      "[5]\tvalidation_0-mlogloss:0.51104\n",
      "[6]\tvalidation_0-mlogloss:0.49066\n",
      "[7]\tvalidation_0-mlogloss:0.47235\n",
      "[8]\tvalidation_0-mlogloss:0.45506\n",
      "[9]\tvalidation_0-mlogloss:0.44117\n",
      "[10]\tvalidation_0-mlogloss:0.42881\n",
      "[11]\tvalidation_0-mlogloss:0.41672\n",
      "[12]\tvalidation_0-mlogloss:0.40715\n",
      "[13]\tvalidation_0-mlogloss:0.39593\n",
      "[14]\tvalidation_0-mlogloss:0.38658\n",
      "[15]\tvalidation_0-mlogloss:0.37939\n",
      "[16]\tvalidation_0-mlogloss:0.37189\n",
      "[17]\tvalidation_0-mlogloss:0.36471\n",
      "[18]\tvalidation_0-mlogloss:0.35762\n",
      "[19]\tvalidation_0-mlogloss:0.35076\n",
      "[20]\tvalidation_0-mlogloss:0.34572\n",
      "[21]\tvalidation_0-mlogloss:0.34141\n",
      "[22]\tvalidation_0-mlogloss:0.33744\n",
      "[23]\tvalidation_0-mlogloss:0.33333\n",
      "[24]\tvalidation_0-mlogloss:0.33035\n",
      "[25]\tvalidation_0-mlogloss:0.32621\n",
      "[26]\tvalidation_0-mlogloss:0.32313\n",
      "[27]\tvalidation_0-mlogloss:0.32109\n",
      "[28]\tvalidation_0-mlogloss:0.31851\n",
      "[29]\tvalidation_0-mlogloss:0.31589\n",
      "[30]\tvalidation_0-mlogloss:0.31446\n",
      "[31]\tvalidation_0-mlogloss:0.31215\n",
      "[32]\tvalidation_0-mlogloss:0.30992\n",
      "[33]\tvalidation_0-mlogloss:0.30752\n",
      "[34]\tvalidation_0-mlogloss:0.30514\n",
      "[35]\tvalidation_0-mlogloss:0.30325\n",
      "[36]\tvalidation_0-mlogloss:0.30117\n",
      "[37]\tvalidation_0-mlogloss:0.29977\n",
      "[38]\tvalidation_0-mlogloss:0.29894\n",
      "[39]\tvalidation_0-mlogloss:0.29787\n",
      "[40]\tvalidation_0-mlogloss:0.29607\n",
      "[41]\tvalidation_0-mlogloss:0.29474\n",
      "[42]\tvalidation_0-mlogloss:0.29484\n",
      "[43]\tvalidation_0-mlogloss:0.29319\n",
      "[44]\tvalidation_0-mlogloss:0.29270\n",
      "[45]\tvalidation_0-mlogloss:0.29160\n",
      "[46]\tvalidation_0-mlogloss:0.29098\n",
      "[47]\tvalidation_0-mlogloss:0.29049\n",
      "[48]\tvalidation_0-mlogloss:0.29046\n",
      "[49]\tvalidation_0-mlogloss:0.29097\n",
      "[50]\tvalidation_0-mlogloss:0.29148\n",
      "[51]\tvalidation_0-mlogloss:0.29135\n",
      "[52]\tvalidation_0-mlogloss:0.29087\n",
      "[53]\tvalidation_0-mlogloss:0.29003\n",
      "[54]\tvalidation_0-mlogloss:0.28928\n",
      "[55]\tvalidation_0-mlogloss:0.29008\n",
      "[56]\tvalidation_0-mlogloss:0.29011\n",
      "[57]\tvalidation_0-mlogloss:0.29086\n",
      "[58]\tvalidation_0-mlogloss:0.29019\n",
      "[59]\tvalidation_0-mlogloss:0.28965\n",
      "[60]\tvalidation_0-mlogloss:0.28984\n",
      "[61]\tvalidation_0-mlogloss:0.28926\n",
      "[62]\tvalidation_0-mlogloss:0.28872\n",
      "[63]\tvalidation_0-mlogloss:0.28895\n",
      "[64]\tvalidation_0-mlogloss:0.28922\n",
      "[65]\tvalidation_0-mlogloss:0.28764\n",
      "[66]\tvalidation_0-mlogloss:0.28674\n",
      "[67]\tvalidation_0-mlogloss:0.28633\n",
      "[68]\tvalidation_0-mlogloss:0.28611\n",
      "[69]\tvalidation_0-mlogloss:0.28668\n",
      "[70]\tvalidation_0-mlogloss:0.28684\n",
      "[71]\tvalidation_0-mlogloss:0.28760\n",
      "[72]\tvalidation_0-mlogloss:0.28718\n",
      "[73]\tvalidation_0-mlogloss:0.28763\n",
      "[74]\tvalidation_0-mlogloss:0.28736\n",
      "[75]\tvalidation_0-mlogloss:0.28762\n",
      "[76]\tvalidation_0-mlogloss:0.28759\n",
      "[77]\tvalidation_0-mlogloss:0.28630\n",
      "[78]\tvalidation_0-mlogloss:0.28674\n",
      "[79]\tvalidation_0-mlogloss:0.28695\n",
      "[80]\tvalidation_0-mlogloss:0.28596\n",
      "[81]\tvalidation_0-mlogloss:0.28592\n",
      "[82]\tvalidation_0-mlogloss:0.28484\n",
      "[83]\tvalidation_0-mlogloss:0.28635\n",
      "[84]\tvalidation_0-mlogloss:0.28689\n",
      "[85]\tvalidation_0-mlogloss:0.28614\n",
      "[86]\tvalidation_0-mlogloss:0.28615\n",
      "[87]\tvalidation_0-mlogloss:0.28662\n",
      "[88]\tvalidation_0-mlogloss:0.28597\n",
      "[89]\tvalidation_0-mlogloss:0.28633\n",
      "[90]\tvalidation_0-mlogloss:0.28622\n",
      "[91]\tvalidation_0-mlogloss:0.28565\n",
      "[92]\tvalidation_0-mlogloss:0.28553\n",
      "[93]\tvalidation_0-mlogloss:0.28641\n",
      "[94]\tvalidation_0-mlogloss:0.28636\n",
      "[95]\tvalidation_0-mlogloss:0.28587\n",
      "[96]\tvalidation_0-mlogloss:0.28625\n",
      "[97]\tvalidation_0-mlogloss:0.28633\n",
      "[98]\tvalidation_0-mlogloss:0.28625\n",
      "[99]\tvalidation_0-mlogloss:0.28701\n",
      "[0]\tvalidation_0-mlogloss:0.65473\n",
      "Will train until validation_0-mlogloss hasn't improved in 200 rounds.\n",
      "[1]\tvalidation_0-mlogloss:0.61948\n",
      "[2]\tvalidation_0-mlogloss:0.58702\n",
      "[3]\tvalidation_0-mlogloss:0.56017\n",
      "[4]\tvalidation_0-mlogloss:0.53634\n",
      "[5]\tvalidation_0-mlogloss:0.51876\n",
      "[6]\tvalidation_0-mlogloss:0.50256\n",
      "[7]\tvalidation_0-mlogloss:0.48604\n",
      "[8]\tvalidation_0-mlogloss:0.46950\n",
      "[9]\tvalidation_0-mlogloss:0.45431\n",
      "[10]\tvalidation_0-mlogloss:0.44403\n",
      "[11]\tvalidation_0-mlogloss:0.43334\n",
      "[12]\tvalidation_0-mlogloss:0.42471\n",
      "[13]\tvalidation_0-mlogloss:0.41604\n",
      "[14]\tvalidation_0-mlogloss:0.40857\n",
      "[15]\tvalidation_0-mlogloss:0.40011\n",
      "[16]\tvalidation_0-mlogloss:0.39348\n",
      "[17]\tvalidation_0-mlogloss:0.38944\n",
      "[18]\tvalidation_0-mlogloss:0.38380\n",
      "[19]\tvalidation_0-mlogloss:0.37797\n",
      "[20]\tvalidation_0-mlogloss:0.37348\n",
      "[21]\tvalidation_0-mlogloss:0.36936\n",
      "[22]\tvalidation_0-mlogloss:0.36470\n",
      "[23]\tvalidation_0-mlogloss:0.35883\n",
      "[24]\tvalidation_0-mlogloss:0.35504\n",
      "[25]\tvalidation_0-mlogloss:0.35226\n",
      "[26]\tvalidation_0-mlogloss:0.34809\n",
      "[27]\tvalidation_0-mlogloss:0.34465\n",
      "[28]\tvalidation_0-mlogloss:0.34111\n"
     ]
    },
    {
     "name": "stdout",
     "output_type": "stream",
     "text": [
      "[29]\tvalidation_0-mlogloss:0.33823\n",
      "[30]\tvalidation_0-mlogloss:0.33557\n",
      "[31]\tvalidation_0-mlogloss:0.33303\n",
      "[32]\tvalidation_0-mlogloss:0.33169\n",
      "[33]\tvalidation_0-mlogloss:0.32905\n",
      "[34]\tvalidation_0-mlogloss:0.32839\n",
      "[35]\tvalidation_0-mlogloss:0.32638\n",
      "[36]\tvalidation_0-mlogloss:0.32333\n",
      "[37]\tvalidation_0-mlogloss:0.32107\n",
      "[38]\tvalidation_0-mlogloss:0.31982\n",
      "[39]\tvalidation_0-mlogloss:0.31980\n",
      "[40]\tvalidation_0-mlogloss:0.31973\n",
      "[41]\tvalidation_0-mlogloss:0.31894\n",
      "[42]\tvalidation_0-mlogloss:0.31765\n",
      "[43]\tvalidation_0-mlogloss:0.31650\n",
      "[44]\tvalidation_0-mlogloss:0.31544\n",
      "[45]\tvalidation_0-mlogloss:0.31433\n",
      "[46]\tvalidation_0-mlogloss:0.31381\n",
      "[47]\tvalidation_0-mlogloss:0.31317\n",
      "[48]\tvalidation_0-mlogloss:0.31160\n",
      "[49]\tvalidation_0-mlogloss:0.31078\n",
      "[50]\tvalidation_0-mlogloss:0.31110\n",
      "[51]\tvalidation_0-mlogloss:0.31205\n",
      "[52]\tvalidation_0-mlogloss:0.31164\n",
      "[53]\tvalidation_0-mlogloss:0.31140\n",
      "[54]\tvalidation_0-mlogloss:0.31005\n",
      "[55]\tvalidation_0-mlogloss:0.30928\n",
      "[56]\tvalidation_0-mlogloss:0.30828\n",
      "[57]\tvalidation_0-mlogloss:0.30847\n",
      "[58]\tvalidation_0-mlogloss:0.30793\n",
      "[59]\tvalidation_0-mlogloss:0.30723\n",
      "[60]\tvalidation_0-mlogloss:0.30734\n",
      "[61]\tvalidation_0-mlogloss:0.30673\n",
      "[62]\tvalidation_0-mlogloss:0.30519\n",
      "[63]\tvalidation_0-mlogloss:0.30505\n",
      "[64]\tvalidation_0-mlogloss:0.30586\n",
      "[65]\tvalidation_0-mlogloss:0.30610\n",
      "[66]\tvalidation_0-mlogloss:0.30701\n",
      "[67]\tvalidation_0-mlogloss:0.30628\n",
      "[68]\tvalidation_0-mlogloss:0.30593\n",
      "[69]\tvalidation_0-mlogloss:0.30600\n",
      "[70]\tvalidation_0-mlogloss:0.30573\n",
      "[71]\tvalidation_0-mlogloss:0.30681\n",
      "[72]\tvalidation_0-mlogloss:0.30700\n",
      "[73]\tvalidation_0-mlogloss:0.30845\n",
      "[74]\tvalidation_0-mlogloss:0.30856\n",
      "[75]\tvalidation_0-mlogloss:0.30896\n",
      "[76]\tvalidation_0-mlogloss:0.30958\n",
      "[77]\tvalidation_0-mlogloss:0.31021\n",
      "[78]\tvalidation_0-mlogloss:0.31008\n",
      "[79]\tvalidation_0-mlogloss:0.31071\n",
      "[80]\tvalidation_0-mlogloss:0.31097\n",
      "[81]\tvalidation_0-mlogloss:0.31099\n",
      "[82]\tvalidation_0-mlogloss:0.31222\n",
      "[83]\tvalidation_0-mlogloss:0.31258\n",
      "[84]\tvalidation_0-mlogloss:0.31270\n",
      "[85]\tvalidation_0-mlogloss:0.31175\n",
      "[86]\tvalidation_0-mlogloss:0.31171\n",
      "[87]\tvalidation_0-mlogloss:0.31253\n",
      "[88]\tvalidation_0-mlogloss:0.31289\n",
      "[89]\tvalidation_0-mlogloss:0.31313\n",
      "[90]\tvalidation_0-mlogloss:0.31142\n",
      "[91]\tvalidation_0-mlogloss:0.31157\n",
      "[92]\tvalidation_0-mlogloss:0.31134\n",
      "[93]\tvalidation_0-mlogloss:0.31211\n",
      "[94]\tvalidation_0-mlogloss:0.31154\n"
     ]
    }
   ],
   "source": [
    "# Train the model using K-fold\n",
    "counter = 0\n",
    "\n",
    "for train, val in kfold.split(Xtrain, Ytrain):\n",
    "    counter += 1\n",
    "\n",
    "    train_x, train_y = Xtrain[train], Ytrain[train]\n",
    "    val_x, val_y = Xtrain[val], Ytrain[val]\n",
    "    df = pd.DataFrame(train_y, columns=['class'])\n",
    "    neg, pos = np.bincount(df['class'])\n",
    "    \n",
    "    model = XGBRegressor(\n",
    "        objective='multi:softprob',\n",
    "        eval_metric='mlogloss',\n",
    "        booster='gbtree',\n",
    "        sample_type='uniform',\n",
    "        tree_method='hist',\n",
    "        scale_pos_weight=neg/pos,\n",
    "        grow_policy='lossguide',\n",
    "        num_round=5000,\n",
    "        num_class=2,\n",
    "        max_bin=444,\n",
    "        rate_drop=0.54,\n",
    "        learning_rate=0.07,\n",
    "        min_split_loss=0.41,\n",
    "        max_depth=17,\n",
    "        min_child_weight=10,\n",
    "        subsample=0.634,\n",
    "        colsample_bytree=0.923,\n",
    "        reg_lambda=0.0004,\n",
    "        max_leaves=99\n",
    "    )\n",
    "\n",
    "    model.fit(train_x, train_y, eval_set=[(val_x, val_y)], early_stopping_rounds=200, verbose=True)\n",
    "    pred = model.predict(Xtest, ntree_limit=model.best_ntree_limit)\n",
    "\n",
    "    y_pred_test_xgb += pred\n",
    "\n",
    "y_pred_test_xgb /= float(counter)"
   ]
  },
  {
   "cell_type": "markdown",
   "metadata": {},
   "source": [
    "### Validate the model"
   ]
  },
  {
   "cell_type": "markdown",
   "metadata": {},
   "source": [
    "#### Print log_loss, accuracy and F1-score"
   ]
  },
  {
   "cell_type": "code",
   "execution_count": null,
   "metadata": {},
   "outputs": [],
   "source": [
    "loss = log_loss(test_y, y_pred_test_xgb)\n",
    "y_pred_binary = np.array([np.argmax(y_pred_test_xgb, axis=1)]).T\n",
    "acc_score = accuracy_score(Ytest, y_pred_binary)\n",
    "f1 = f1_score(Ytest, y_pred_binary)\n",
    "print('Overall log_loss:', loss)\n",
    "print('Overall accuracy:', acc_score)\n",
    "print('Overall F1-Score:', f1)"
   ]
  },
  {
   "cell_type": "markdown",
   "metadata": {},
   "source": [
    "#### Print Area Under Curve"
   ]
  },
  {
   "cell_type": "code",
   "execution_count": null,
   "metadata": {},
   "outputs": [],
   "source": [
    "plt.figure()\n",
    "false_positive_rate, recall, thresholds = roc_curve(Ytest, y_pred_binary)\n",
    "roc_auc = auc(false_positive_rate, recall)\n",
    "plt.title('Receiver Operating Characteristic (ROC)')\n",
    "plt.plot(false_positive_rate, recall, 'b', label = 'AUC = %0.3f' %roc_auc)\n",
    "plt.legend(loc='lower right')\n",
    "plt.plot([0,1], [0,1], 'r--')\n",
    "plt.xlim([0.0,1.0])\n",
    "plt.ylim([0.0,1.0])\n",
    "plt.ylabel('Recall')\n",
    "plt.xlabel('Fall-out (1-Specificity)')\n",
    "plt.show()\n",
    "\n",
    "print('AUC score:', roc_auc)"
   ]
  },
  {
   "cell_type": "markdown",
   "metadata": {},
   "source": [
    "#### Print Confusion Matrix"
   ]
  },
  {
   "cell_type": "code",
   "execution_count": null,
   "metadata": {
    "scrolled": true
   },
   "outputs": [],
   "source": [
    "cm = confusion_matrix(Ytest, y_pred_binary)\n",
    "labels = ['0', '1']\n",
    "sns.heatmap(cm, xticklabels = labels, yticklabels = labels, annot = True, fmt='d', cmap=\"Blues\", vmin = 0.5);\n",
    "plt.title('Confusion Matrix')\n",
    "plt.ylabel('True Class')\n",
    "plt.xlabel('Predicted Class')\n",
    "plt.show()"
   ]
  },
  {
   "cell_type": "markdown",
   "metadata": {},
   "source": [
    "### Train model on entire data"
   ]
  },
  {
   "cell_type": "code",
   "execution_count": null,
   "metadata": {},
   "outputs": [],
   "source": [
    "# Define 5-fold cross validation test harness\n",
    "kfold = StratifiedKFold(n_splits=5, shuffle=True, random_state=50)\n",
    "y_pred_full_xgb = 0"
   ]
  },
  {
   "cell_type": "code",
   "execution_count": null,
   "metadata": {},
   "outputs": [],
   "source": [
    "# Train the model using K-fold\n",
    "counter = 0\n",
    "\n",
    "for train, val in kfold.split(Xtrain_full, Ytrain_full):\n",
    "    counter += 1\n",
    "\n",
    "    train_x, train_y = Xtrain_full[train], Ytrain_full[train]\n",
    "    val_x, val_y = Xtrain_full[val], Ytrain_full[val]\n",
    "    df = pd.DataFrame(train_y, columns=['class'])\n",
    "    neg, pos = np.bincount(df['class'])\n",
    "    \n",
    "    model = XGBRegressor(\n",
    "        objective='multi:softprob',\n",
    "        eval_metric='mlogloss',\n",
    "        booster='gbtree',\n",
    "        sample_type='uniform',\n",
    "        tree_method='hist',\n",
    "        scale_pos_weight=neg/pos,\n",
    "        grow_policy='lossguide',\n",
    "        num_round=5000,\n",
    "        num_class=2,\n",
    "        max_bin=444,\n",
    "        rate_drop=0.54,\n",
    "        learning_rate=0.07,\n",
    "        min_split_loss=0.41,\n",
    "        max_depth=17,\n",
    "        min_child_weight=10,\n",
    "        subsample=0.634,\n",
    "        colsample_bytree=0.923,\n",
    "        reg_lambda=0.0004,\n",
    "        max_leaves=99\n",
    "    )\n",
    "\n",
    "    model.fit(train_x, train_y, eval_set=[(val_x, val_y)], early_stopping_rounds=200, verbose=True)\n",
    "    pred = model.predict(Xpredict, ntree_limit=model.best_ntree_limit)\n",
    "\n",
    "    y_pred_full_xgb += pred\n",
    "\n",
    "y_pred_full_xgb /= float(counter)"
   ]
  },
  {
   "cell_type": "markdown",
   "metadata": {},
   "source": [
    "## Validate cumulative predictions from both models"
   ]
  },
  {
   "cell_type": "code",
   "execution_count": null,
   "metadata": {},
   "outputs": [],
   "source": [
    "y_pred_test = (y_pred_test_lgb + y_pred_test_xgb)/2"
   ]
  },
  {
   "cell_type": "markdown",
   "metadata": {},
   "source": [
    "#### Print log_loss, accuracy and F1-score"
   ]
  },
  {
   "cell_type": "code",
   "execution_count": null,
   "metadata": {},
   "outputs": [],
   "source": [
    "loss = log_loss(test_y, y_pred_test)\n",
    "y_pred_binary = np.array([np.argmax(y_pred_test, axis=1)]).T\n",
    "acc_score = accuracy_score(Ytest, y_pred_binary)\n",
    "f1 = f1_score(Ytest, y_pred_binary)\n",
    "print('Overall log_loss:', loss)\n",
    "print('Overall accuracy:', acc_score)\n",
    "print('Overall F1-Score:', f1)"
   ]
  },
  {
   "cell_type": "markdown",
   "metadata": {},
   "source": [
    "#### Print Area Under Curve"
   ]
  },
  {
   "cell_type": "code",
   "execution_count": null,
   "metadata": {},
   "outputs": [],
   "source": [
    "plt.figure()\n",
    "false_positive_rate, recall, thresholds = roc_curve(Ytest, y_pred_binary)\n",
    "roc_auc = auc(false_positive_rate, recall)\n",
    "plt.title('Receiver Operating Characteristic (ROC)')\n",
    "plt.plot(false_positive_rate, recall, 'b', label = 'AUC = %0.3f' %roc_auc)\n",
    "plt.legend(loc='lower right')\n",
    "plt.plot([0,1], [0,1], 'r--')\n",
    "plt.xlim([0.0,1.0])\n",
    "plt.ylim([0.0,1.0])\n",
    "plt.ylabel('Recall')\n",
    "plt.xlabel('Fall-out (1-Specificity)')\n",
    "plt.show()\n",
    "\n",
    "print('AUC score:', roc_auc)"
   ]
  },
  {
   "cell_type": "markdown",
   "metadata": {},
   "source": [
    "#### Print Confusion Matrix"
   ]
  },
  {
   "cell_type": "code",
   "execution_count": null,
   "metadata": {
    "scrolled": true
   },
   "outputs": [],
   "source": [
    "cm = confusion_matrix(Ytest, y_pred_binary)\n",
    "labels = ['0', '1']\n",
    "sns.heatmap(cm, xticklabels = labels, yticklabels = labels, annot = True, fmt='d', cmap=\"Blues\", vmin = 0.5);\n",
    "plt.title('Confusion Matrix')\n",
    "plt.ylabel('True Class')\n",
    "plt.xlabel('Predicted Class')\n",
    "plt.show()"
   ]
  },
  {
   "cell_type": "markdown",
   "metadata": {},
   "source": [
    "## Combine predictions from both models"
   ]
  },
  {
   "cell_type": "code",
   "execution_count": null,
   "metadata": {},
   "outputs": [],
   "source": [
    "y_pred = (y_pred_full_lgb + y_pred_full_xgb)/2"
   ]
  },
  {
   "cell_type": "markdown",
   "metadata": {},
   "source": [
    "## Create submission file"
   ]
  },
  {
   "cell_type": "code",
   "execution_count": null,
   "metadata": {},
   "outputs": [],
   "source": [
    "submit_df = pd.DataFrame(y_pred, columns=['1','2'])\n",
    "submit_df.head()"
   ]
  },
  {
   "cell_type": "code",
   "execution_count": null,
   "metadata": {},
   "outputs": [],
   "source": [
    "submit_df.to_excel(\"Predictions/predictions_v11.xlsx\", index=False)"
   ]
  },
  {
   "cell_type": "code",
   "execution_count": null,
   "metadata": {},
   "outputs": [],
   "source": []
  }
 ],
 "metadata": {
  "kernelspec": {
   "display_name": "Python 3",
   "language": "python",
   "name": "python3"
  },
  "language_info": {
   "codemirror_mode": {
    "name": "ipython",
    "version": 3
   },
   "file_extension": ".py",
   "mimetype": "text/x-python",
   "name": "python",
   "nbconvert_exporter": "python",
   "pygments_lexer": "ipython3",
   "version": "3.7.7"
  }
 },
 "nbformat": 4,
 "nbformat_minor": 4
}
