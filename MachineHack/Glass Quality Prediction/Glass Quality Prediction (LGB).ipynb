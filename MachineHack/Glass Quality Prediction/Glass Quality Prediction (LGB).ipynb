{
 "cells": [
  {
   "cell_type": "markdown",
   "metadata": {},
   "source": [
    "## Import Packages"
   ]
  },
  {
   "cell_type": "code",
   "execution_count": 1,
   "metadata": {},
   "outputs": [],
   "source": [
    "import pandas as pd\n",
    "import numpy as np\n",
    "import matplotlib.pyplot as plt\n",
    "import seaborn as sns\n",
    "from scipy.stats import boxcox\n",
    "from sklearn.metrics import log_loss, f1_score, roc_curve, auc, confusion_matrix, accuracy_score\n",
    "from sklearn.model_selection import StratifiedKFold, StratifiedShuffleSplit\n",
    "import lightgbm as lgb\n",
    "import optuna"
   ]
  },
  {
   "cell_type": "markdown",
   "metadata": {},
   "source": [
    "## Set file paths for train and predict datasets"
   ]
  },
  {
   "cell_type": "code",
   "execution_count": 2,
   "metadata": {},
   "outputs": [],
   "source": [
    "train_dataset = \"Dataset/Train.csv\"\n",
    "predict_dataset = \"Dataset/Test.csv\""
   ]
  },
  {
   "cell_type": "markdown",
   "metadata": {},
   "source": [
    "## Data Preprocessing"
   ]
  },
  {
   "cell_type": "markdown",
   "metadata": {},
   "source": [
    "### Read train and predict datasets"
   ]
  },
  {
   "cell_type": "code",
   "execution_count": 3,
   "metadata": {},
   "outputs": [
    {
     "name": "stdout",
     "output_type": "stream",
     "text": [
      "train_df: (1358, 16)\n",
      "predict_df: (583, 15)\n"
     ]
    }
   ],
   "source": [
    "train_df = pd.read_csv(train_dataset)\n",
    "predict_df = pd.read_csv(predict_dataset)\n",
    "print(\"train_df: {}\".format(train_df.shape))\n",
    "print(\"predict_df: {}\".format(predict_df.shape))"
   ]
  },
  {
   "cell_type": "markdown",
   "metadata": {},
   "source": [
    "### Extract \"class\" field from train_df into NumPy array"
   ]
  },
  {
   "cell_type": "code",
   "execution_count": 4,
   "metadata": {},
   "outputs": [
    {
     "name": "stdout",
     "output_type": "stream",
     "text": [
      "train_y: (1358, 1)\n"
     ]
    }
   ],
   "source": [
    "train_df['class_enc'] = train_df['class'].apply(lambda x: 0 if x == 1 else 1)\n",
    "train_y = np.array([train_df['class_enc'].values]).T\n",
    "train_df.drop(['class', 'class_enc'], inplace=True, axis=1)\n",
    "print(\"train_y: {}\".format(train_y.shape))"
   ]
  },
  {
   "cell_type": "markdown",
   "metadata": {},
   "source": [
    "### Combine train and predict dataframes"
   ]
  },
  {
   "cell_type": "code",
   "execution_count": 5,
   "metadata": {
    "scrolled": true
   },
   "outputs": [
    {
     "data": {
      "text/html": [
       "<div>\n",
       "<style scoped>\n",
       "    .dataframe tbody tr th:only-of-type {\n",
       "        vertical-align: middle;\n",
       "    }\n",
       "\n",
       "    .dataframe tbody tr th {\n",
       "        vertical-align: top;\n",
       "    }\n",
       "\n",
       "    .dataframe thead th {\n",
       "        text-align: right;\n",
       "    }\n",
       "</style>\n",
       "<table border=\"1\" class=\"dataframe\">\n",
       "  <thead>\n",
       "    <tr style=\"text-align: right;\">\n",
       "      <th></th>\n",
       "      <th>grade_A_Component_1</th>\n",
       "      <th>grade_A_Component_2</th>\n",
       "      <th>max_luminosity</th>\n",
       "      <th>thickness</th>\n",
       "      <th>xmin</th>\n",
       "      <th>xmax</th>\n",
       "      <th>ymin</th>\n",
       "      <th>ymax</th>\n",
       "      <th>pixel_area</th>\n",
       "      <th>log_area</th>\n",
       "      <th>x_component_1</th>\n",
       "      <th>x_component_2</th>\n",
       "      <th>x_component_3</th>\n",
       "      <th>x_component_4</th>\n",
       "      <th>x_component_5</th>\n",
       "    </tr>\n",
       "  </thead>\n",
       "  <tbody>\n",
       "    <tr>\n",
       "      <th>0</th>\n",
       "      <td>0</td>\n",
       "      <td>1</td>\n",
       "      <td>150</td>\n",
       "      <td>36</td>\n",
       "      <td>144</td>\n",
       "      <td>172</td>\n",
       "      <td>947225</td>\n",
       "      <td>947332</td>\n",
       "      <td>439</td>\n",
       "      <td>439.099273</td>\n",
       "      <td>0</td>\n",
       "      <td>0</td>\n",
       "      <td>1</td>\n",
       "      <td>0</td>\n",
       "      <td>0</td>\n",
       "    </tr>\n",
       "    <tr>\n",
       "      <th>1</th>\n",
       "      <td>1</td>\n",
       "      <td>0</td>\n",
       "      <td>134</td>\n",
       "      <td>55</td>\n",
       "      <td>1144</td>\n",
       "      <td>1152</td>\n",
       "      <td>2379058</td>\n",
       "      <td>2379624</td>\n",
       "      <td>329</td>\n",
       "      <td>329.205616</td>\n",
       "      <td>1</td>\n",
       "      <td>0</td>\n",
       "      <td>0</td>\n",
       "      <td>0</td>\n",
       "      <td>0</td>\n",
       "    </tr>\n",
       "    <tr>\n",
       "      <th>2</th>\n",
       "      <td>1</td>\n",
       "      <td>0</td>\n",
       "      <td>135</td>\n",
       "      <td>65</td>\n",
       "      <td>950</td>\n",
       "      <td>974</td>\n",
       "      <td>1038442</td>\n",
       "      <td>1036754</td>\n",
       "      <td>300</td>\n",
       "      <td>300.120598</td>\n",
       "      <td>0</td>\n",
       "      <td>0</td>\n",
       "      <td>0</td>\n",
       "      <td>0</td>\n",
       "      <td>0</td>\n",
       "    </tr>\n",
       "    <tr>\n",
       "      <th>3</th>\n",
       "      <td>0</td>\n",
       "      <td>1</td>\n",
       "      <td>123</td>\n",
       "      <td>35</td>\n",
       "      <td>41</td>\n",
       "      <td>220</td>\n",
       "      <td>1705580</td>\n",
       "      <td>1705604</td>\n",
       "      <td>6803</td>\n",
       "      <td>6803.778622</td>\n",
       "      <td>0</td>\n",
       "      <td>0</td>\n",
       "      <td>1</td>\n",
       "      <td>0</td>\n",
       "      <td>0</td>\n",
       "    </tr>\n",
       "    <tr>\n",
       "      <th>4</th>\n",
       "      <td>1</td>\n",
       "      <td>0</td>\n",
       "      <td>138</td>\n",
       "      <td>69</td>\n",
       "      <td>462</td>\n",
       "      <td>466</td>\n",
       "      <td>1088124</td>\n",
       "      <td>1086579</td>\n",
       "      <td>251</td>\n",
       "      <td>251.401943</td>\n",
       "      <td>0</td>\n",
       "      <td>0</td>\n",
       "      <td>0</td>\n",
       "      <td>0</td>\n",
       "      <td>0</td>\n",
       "    </tr>\n",
       "  </tbody>\n",
       "</table>\n",
       "</div>"
      ],
      "text/plain": [
       "   grade_A_Component_1  grade_A_Component_2  max_luminosity  thickness  xmin  \\\n",
       "0                    0                    1             150         36   144   \n",
       "1                    1                    0             134         55  1144   \n",
       "2                    1                    0             135         65   950   \n",
       "3                    0                    1             123         35    41   \n",
       "4                    1                    0             138         69   462   \n",
       "\n",
       "   xmax     ymin     ymax  pixel_area     log_area  x_component_1  \\\n",
       "0   172   947225   947332         439   439.099273              0   \n",
       "1  1152  2379058  2379624         329   329.205616              1   \n",
       "2   974  1038442  1036754         300   300.120598              0   \n",
       "3   220  1705580  1705604        6803  6803.778622              0   \n",
       "4   466  1088124  1086579         251   251.401943              0   \n",
       "\n",
       "   x_component_2  x_component_3  x_component_4  x_component_5  \n",
       "0              0              1              0              0  \n",
       "1              0              0              0              0  \n",
       "2              0              0              0              0  \n",
       "3              0              1              0              0  \n",
       "4              0              0              0              0  "
      ]
     },
     "execution_count": 5,
     "metadata": {},
     "output_type": "execute_result"
    }
   ],
   "source": [
    "combined_df = train_df.append(predict_df, sort=False, ignore_index=True)\n",
    "combined_df.head()"
   ]
  },
  {
   "cell_type": "markdown",
   "metadata": {},
   "source": [
    "### Feature Engineering"
   ]
  },
  {
   "cell_type": "markdown",
   "metadata": {},
   "source": [
    "#### Box-cox Transformation"
   ]
  },
  {
   "cell_type": "code",
   "execution_count": 6,
   "metadata": {},
   "outputs": [],
   "source": [
    "_, opt_lambda = boxcox(combined_df['max_luminosity'])\n",
    "combined_df['max_luminosity'] = boxcox(combined_df['max_luminosity'], lmbda=opt_lambda)\n",
    "\n",
    "_, opt_lambda = boxcox(combined_df['thickness'])\n",
    "combined_df['thickness'] = boxcox(combined_df['thickness'], lmbda=opt_lambda)\n",
    "\n",
    "_, opt_lambda = boxcox(combined_df['xmin'] + 1e-10)\n",
    "combined_df['xmin'] = boxcox(combined_df['xmin'] + 1e-10, lmbda=opt_lambda)\n",
    "\n",
    "_, opt_lambda = boxcox(combined_df['xmax'])\n",
    "combined_df['xmax'] = boxcox(combined_df['xmax'], lmbda=opt_lambda)\n",
    "\n",
    "_, opt_lambda = boxcox(combined_df['ymin'] + 1e-10)\n",
    "combined_df['ymin'] = boxcox(combined_df['ymin'] + 1e-10, lmbda=opt_lambda)\n",
    "\n",
    "_, opt_lambda = boxcox(combined_df['ymax'])\n",
    "combined_df['ymax'] = boxcox(combined_df['ymax'], lmbda=opt_lambda)\n",
    "\n",
    "_, opt_lambda = boxcox(combined_df['pixel_area'])\n",
    "combined_df['pixel_area'] = boxcox(combined_df['pixel_area'], lmbda=opt_lambda)\n",
    "\n",
    "_, opt_lambda = boxcox(combined_df['log_area'])\n",
    "combined_df['log_area'] = boxcox(combined_df['log_area'], lmbda=opt_lambda)"
   ]
  },
  {
   "cell_type": "markdown",
   "metadata": {},
   "source": [
    "#### Create new features"
   ]
  },
  {
   "cell_type": "code",
   "execution_count": 7,
   "metadata": {},
   "outputs": [],
   "source": [
    "x1 = np.min(combined_df['xmin'])\n",
    "x2 = np.max(combined_df['xmin'])\n",
    "x3 = np.min(combined_df['xmax'])\n",
    "x4 = np.max(combined_df['xmax'])\n",
    "combined_df['xmin_std'] = (combined_df['xmin'] - x1)/x2\n",
    "combined_df['xmax_std'] = (combined_df['xmax'] - x3)/x4"
   ]
  },
  {
   "cell_type": "code",
   "execution_count": 8,
   "metadata": {},
   "outputs": [],
   "source": [
    "y1 = np.min(combined_df['ymin'])\n",
    "y2 = np.max(combined_df['ymin'])\n",
    "y3 = np.min(combined_df['ymax'])\n",
    "y4 = np.max(combined_df['ymax'])\n",
    "combined_df['ymin_std'] = (combined_df['ymin'] - y1)/y2\n",
    "combined_df['ymax_std'] = (combined_df['ymax'] - y3)/y4"
   ]
  },
  {
   "cell_type": "code",
   "execution_count": 9,
   "metadata": {},
   "outputs": [],
   "source": [
    "l1 = np.min(combined_df['log_area'])\n",
    "l2 = np.max(combined_df['log_area'])\n",
    "p1 = np.min(combined_df['pixel_area'])\n",
    "p2 = np.max(combined_df['pixel_area'])\n",
    "combined_df['log_area_std'] = (combined_df['log_area'] - l1)/l2\n",
    "combined_df['pixel_area_std'] = (combined_df['pixel_area'] - p1)/p2"
   ]
  },
  {
   "cell_type": "code",
   "execution_count": 10,
   "metadata": {},
   "outputs": [],
   "source": [
    "combined_df['x_avg'] = (combined_df['xmin'] + combined_df['xmax'])/2\n",
    "combined_df['y_avg'] = (combined_df['ymin'] + combined_df['ymax'])/2\n",
    "combined_df['area_avg'] = (combined_df['pixel_area'] + combined_df['log_area'])/2\n",
    "#combined_df.drop(['xmax','xmin','ymax','ymin','log_area','pixel_area'], axis = 1, inplace=True)"
   ]
  },
  {
   "cell_type": "code",
   "execution_count": 11,
   "metadata": {},
   "outputs": [],
   "source": [
    "x_min = np.min(combined_df['x_avg'])\n",
    "x_max = np.max(combined_df['x_avg'])\n",
    "y_min = np.min(combined_df['y_avg'])\n",
    "y_max = np.max(combined_df['y_avg'])\n",
    "area_min = np.min(combined_df['area_avg'])\n",
    "area_max = np.max(combined_df['area_avg'])\n",
    "thick_min = np.min(combined_df['thickness'])\n",
    "thick_max = np.max(combined_df['thickness'])\n",
    "\n",
    "combined_df['xavg_std'] = (combined_df['x_avg'] - x_min)/x_max\n",
    "combined_df['yavg_std'] = (combined_df['y_avg'] - y_min)/y_max\n",
    "combined_df['area_std'] = (combined_df['area_avg'] - area_min)/area_max\n",
    "combined_df['thickness_std'] = (combined_df['thickness'] - thick_min)/thick_max"
   ]
  },
  {
   "cell_type": "code",
   "execution_count": 12,
   "metadata": {},
   "outputs": [],
   "source": [
    "combined_df['x_component_11'] = combined_df['x_component_1'].mask(((combined_df['x_component_1']==0) & (combined_df['x_component_2']==0) & (combined_df['x_component_3']==0) & (combined_df['x_component_4']==0) & (combined_df['x_component_5']==0)), -1)\n",
    "combined_df['x_component_22'] = combined_df['x_component_2'].mask(((combined_df['x_component_1']==0) & (combined_df['x_component_2']==0) & (combined_df['x_component_3']==0) & (combined_df['x_component_4']==0) & (combined_df['x_component_5']==0)), -1)\n",
    "combined_df['x_component_33'] = combined_df['x_component_3'].mask(((combined_df['x_component_1']==0) & (combined_df['x_component_2']==0) & (combined_df['x_component_3']==0) & (combined_df['x_component_4']==0) & (combined_df['x_component_5']==0)), -1)\n",
    "combined_df['x_component_44'] = combined_df['x_component_4'].mask(((combined_df['x_component_1']==0) & (combined_df['x_component_2']==0) & (combined_df['x_component_3']==0) & (combined_df['x_component_4']==0) & (combined_df['x_component_5']==0)), -1)\n",
    "combined_df['x_component_55'] = combined_df['x_component_5'].mask(((combined_df['x_component_1']==0) & (combined_df['x_component_2']==0) & (combined_df['x_component_3']==0) & (combined_df['x_component_4']==0) & (combined_df['x_component_5']==0)), -1)\n",
    "combined_df.drop(['x_component_1','x_component_2','x_component_3','x_component_4','x_component_5'], axis = 1, inplace=True)"
   ]
  },
  {
   "cell_type": "code",
   "execution_count": 13,
   "metadata": {},
   "outputs": [],
   "source": [
    "combined_df['lumis/pa'] = combined_df['max_luminosity'] / combined_df['pixel_area']\n",
    "combined_df['lumis/la'] = combined_df['max_luminosity'] / combined_df['log_area']\n",
    "combined_df['lumis/ymin'] = combined_df['max_luminosity'] / combined_df['ymin']\n",
    "combined_df['lumis/ymax'] = combined_df['max_luminosity'] / combined_df['ymax']\n",
    "combined_df['x_diff'] = np.square(combined_df['xmax'] - combined_df['xmin'])\n",
    "combined_df['y_diff'] = np.square(combined_df['ymax'] - combined_df['ymin'])\n",
    "combined_df['area_ratio'] = combined_df['pixel_area']/combined_df['log_area']\n",
    "combined_df['thick/pa'] = combined_df['thickness']/combined_df['pixel_area']\n",
    "combined_df['thick/la'] = combined_df['thickness']/combined_df['log_area']"
   ]
  },
  {
   "cell_type": "code",
   "execution_count": 16,
   "metadata": {},
   "outputs": [],
   "source": [
    "combined_df['xavg/yavg'] = combined_df['y_avg']/combined_df['x_avg']\n",
    "combined_df['ymin/xmin'] = combined_df['ymin']/combined_df['xmin']\n",
    "combined_df['ymax/xmax'] = combined_df['ymax']/combined_df['xmax']\n",
    "combined_df['yarea/xarea'] = np.sqrt((combined_df['ymin'] * combined_df['ymax'])/((combined_df['xmin'] * combined_df['xmax'])+1e-10))"
   ]
  },
  {
   "cell_type": "code",
   "execution_count": 17,
   "metadata": {},
   "outputs": [],
   "source": [
    "combined_df['pa/y'] = combined_df['pixel_area']/np.sqrt((combined_df['ymin'] * combined_df['ymax'])+1e-10)\n",
    "combined_df['pa/x'] = combined_df['pixel_area']/np.sqrt((combined_df['xmin'] * combined_df['xmax'])+1e-10)\n",
    "combined_df['la/y'] = combined_df['log_area']/np.sqrt((combined_df['ymin'] * combined_df['ymax'])+1e-10)\n",
    "combined_df['la/x'] = combined_df['log_area']/np.sqrt((combined_df['xmin'] * combined_df['xmax'])+1e-10)\n",
    "combined_df['ml/y'] = combined_df['max_luminosity']/np.sqrt((combined_df['ymin'] * combined_df['ymax'])+1e-10)\n",
    "combined_df['ml/x'] = combined_df['max_luminosity']/np.sqrt((combined_df['xmin'] * combined_df['xmax'])+1e-10)\n",
    "combined_df['t/y'] = combined_df['thickness']/np.sqrt((combined_df['ymin'] * combined_df['ymax'])+1e-10)\n",
    "combined_df['t/x'] = combined_df['thickness']/np.sqrt((combined_df['xmin'] * combined_df['xmax'])+1e-10)"
   ]
  },
  {
   "cell_type": "markdown",
   "metadata": {},
   "source": [
    "### Create train and predict Numpy arrays"
   ]
  },
  {
   "cell_type": "code",
   "execution_count": 18,
   "metadata": {},
   "outputs": [
    {
     "name": "stdout",
     "output_type": "stream",
     "text": [
      "train_x: (1358, 49)\n",
      "predict_x: (583, 49)\n"
     ]
    }
   ],
   "source": [
    "# Segregate combined_df into train/predict datasets\n",
    "train_x = combined_df[:1358].values\n",
    "predict_x = combined_df[1358:].values\n",
    "\n",
    "print(\"train_x: {}\".format(train_x.shape))\n",
    "print(\"predict_x: {}\".format(predict_x.shape))"
   ]
  },
  {
   "cell_type": "code",
   "execution_count": 19,
   "metadata": {},
   "outputs": [],
   "source": [
    "train_x_full = train_x.copy()\n",
    "train_y_full = train_y.copy()"
   ]
  },
  {
   "cell_type": "markdown",
   "metadata": {},
   "source": [
    "### Split training data into train/test datasets"
   ]
  },
  {
   "cell_type": "code",
   "execution_count": 20,
   "metadata": {},
   "outputs": [
    {
     "name": "stdout",
     "output_type": "stream",
     "text": [
      "------------------------- Training Dataset -------------------------\n",
      "train_x shape: (1256, 49)\n",
      "train_y shape: (1256, 1)\n",
      "\n",
      "------------------------- Test Dataset -------------------------\n",
      "test_x shape: (102, 49)\n",
      "test_y shape: (102, 1)\n"
     ]
    }
   ],
   "source": [
    "sss = StratifiedShuffleSplit(n_splits=1, test_size=0.075, random_state=1)\n",
    "for train_index, test_index in sss.split(train_x, train_y):\n",
    "    train_x, test_x = train_x[train_index], train_x[test_index]\n",
    "    train_y, test_y = train_y[train_index], train_y[test_index]\n",
    "\n",
    "print(\"------------------------- Training Dataset -------------------------\")\n",
    "print(\"train_x shape: {}\".format(train_x.shape))\n",
    "print(\"train_y shape: {}\".format(train_y.shape))\n",
    "\n",
    "print(\"\\n------------------------- Test Dataset -------------------------\")\n",
    "print(\"test_x shape: {}\".format(test_x.shape))\n",
    "print(\"test_y shape: {}\".format(test_y.shape))"
   ]
  },
  {
   "cell_type": "code",
   "execution_count": 21,
   "metadata": {},
   "outputs": [
    {
     "name": "stdout",
     "output_type": "stream",
     "text": [
      "------------------------- Training Dataset -------------------------\n",
      "Xtrain_full shape: (1358, 49)\n",
      "Ytrain_full shape: (1358, 1)\n",
      "Xtrain shape: (1256, 49)\n",
      "Ytrain shape: (1256, 1)\n",
      "\n",
      "------------------------- Test Dataset -------------------------\n",
      "Xtest shape: (102, 49)\n",
      "Ytest shape: (102, 1)\n",
      "\n",
      "------------------------- Prediction Dataset -------------------------\n",
      "Xpredict shape: (583, 49)\n"
     ]
    }
   ],
   "source": [
    "Xtrain_full, Ytrain_full = train_x_full.copy(), train_y_full.copy()\n",
    "Xtrain, Ytrain = train_x.copy(), train_y.copy()\n",
    "Xtest, Ytest = test_x.copy(), test_y.copy()\n",
    "Xpredict = predict_x.copy()\n",
    "\n",
    "print(\"------------------------- Training Dataset -------------------------\")\n",
    "print(\"Xtrain_full shape: {}\".format(Xtrain_full.shape))\n",
    "print(\"Ytrain_full shape: {}\".format(Ytrain_full.shape))\n",
    "print(\"Xtrain shape: {}\".format(Xtrain.shape))\n",
    "print(\"Ytrain shape: {}\".format(Ytrain.shape))\n",
    "\n",
    "print(\"\\n------------------------- Test Dataset -------------------------\")\n",
    "print(\"Xtest shape: {}\".format(Xtest.shape))\n",
    "print(\"Ytest shape: {}\".format(Ytest.shape))\n",
    "\n",
    "print(\"\\n------------------------- Prediction Dataset -------------------------\")\n",
    "print(\"Xpredict shape: {}\".format(Xpredict.shape))"
   ]
  },
  {
   "cell_type": "markdown",
   "metadata": {},
   "source": [
    "## Hyperparameter search using Optuna"
   ]
  },
  {
   "cell_type": "code",
   "execution_count": 22,
   "metadata": {},
   "outputs": [],
   "source": [
    "# Convert Ytest to one-hot encoding\n",
    "df = pd.DataFrame(Ytest, columns=[\"class\"])\n",
    "test_y = pd.get_dummies(df['class']).values"
   ]
  },
  {
   "cell_type": "code",
   "execution_count": 23,
   "metadata": {},
   "outputs": [],
   "source": [
    "# Define 5-fold cross validation test harness\n",
    "kfold = StratifiedKFold(n_splits=5, shuffle=True, random_state=10)"
   ]
  },
  {
   "cell_type": "code",
   "execution_count": 24,
   "metadata": {},
   "outputs": [],
   "source": [
    "def objective(trial):\n",
    "    \n",
    "    params = {\n",
    "        \"objective\": \"multiclass\",\n",
    "        \"metric\": \"multi_logloss\",\n",
    "        \"num_class\": 2,\n",
    "        \"verbosity\": -1,\n",
    "        \"boosting_type\": \"gbdt\",\n",
    "        \"is_unbalance\": True,\n",
    "        \"max_bin\": trial.suggest_int(\"max_bin\", 256, 512),\n",
    "        \"learning_rate\": trial.suggest_loguniform(\"learning_rate\", 1e-2, 1e-1),\n",
    "        \"lambda_l2\": trial.suggest_loguniform(\"lambda_l2\", 1e-4, 1.0),\n",
    "        \"num_leaves\": trial.suggest_int(\"num_leaves\", 35, 200),\n",
    "        \"max_depth\": trial.suggest_int(\"max_depth\", 8, 25),\n",
    "        \"feature_fraction\": trial.suggest_uniform(\"feature_fraction\", 0.5, 1.0),\n",
    "        \"bagging_fraction\": trial.suggest_uniform(\"bagging_fraction\", 0.5, 1.0),\n",
    "        \"bagging_freq\": trial.suggest_int(\"bagging_freq\", 5, 20),\n",
    "        \"min_child_samples\": trial.suggest_int(\"min_child_samples\", 1, 20)\n",
    "    }\n",
    "    \n",
    "    y_pred = 0\n",
    "    counter = 0\n",
    "    for train, val in kfold.split(Xtrain, Ytrain):\n",
    "        counter += 1\n",
    "    \n",
    "        train_x, train_y = Xtrain[train], Ytrain[train]\n",
    "        val_x, val_y = Xtrain[val], Ytrain[val]\n",
    "\n",
    "        lgtrain = lgb.Dataset(train_x, label=train_y.ravel())\n",
    "        lgvalidation = lgb.Dataset(val_x, label=val_y.ravel())\n",
    "\n",
    "        model = lgb.train(params, lgtrain, valid_sets=[lgvalidation], \n",
    "                          num_boost_round=5000, early_stopping_rounds=200, verbose_eval=False)\n",
    "        pred = model.predict(Xtest, num_iteration=model.best_iteration)\n",
    "\n",
    "        y_pred += pred\n",
    "\n",
    "    y_pred /= float(counter)\n",
    "    loss = log_loss(test_y, y_pred)\n",
    "    return loss"
   ]
  },
  {
   "cell_type": "code",
   "execution_count": 25,
   "metadata": {},
   "outputs": [
    {
     "name": "stderr",
     "output_type": "stream",
     "text": [
      "[I 2020-05-24 22:17:26,248] Finished trial#0 with value: 0.3199277250881466 with parameters: {'max_bin': 367, 'learning_rate': 0.041419036728021025, 'lambda_l2': 0.00019529087762552004, 'num_leaves': 188, 'max_depth': 13, 'feature_fraction': 0.8044609634012138, 'bagging_fraction': 0.5174007433576644, 'bagging_freq': 9, 'min_child_samples': 6}. Best is trial#0 with value: 0.3199277250881466.\n",
      "[I 2020-05-24 22:18:07,936] Finished trial#1 with value: 0.32451398345241866 with parameters: {'max_bin': 268, 'learning_rate': 0.011040661066110489, 'lambda_l2': 0.46736565408354896, 'num_leaves': 173, 'max_depth': 24, 'feature_fraction': 0.5447199144737045, 'bagging_fraction': 0.8955975915981382, 'bagging_freq': 11, 'min_child_samples': 13}. Best is trial#0 with value: 0.3199277250881466.\n",
      "[I 2020-05-24 22:18:43,495] Finished trial#2 with value: 0.3312783929271051 with parameters: {'max_bin': 355, 'learning_rate': 0.014908398041011364, 'lambda_l2': 0.000461919342275422, 'num_leaves': 41, 'max_depth': 9, 'feature_fraction': 0.6127013904344403, 'bagging_fraction': 0.9227025326010327, 'bagging_freq': 16, 'min_child_samples': 11}. Best is trial#0 with value: 0.3199277250881466.\n",
      "[I 2020-05-24 22:19:14,083] Finished trial#3 with value: 0.32957589939953835 with parameters: {'max_bin': 476, 'learning_rate': 0.010703853985827294, 'lambda_l2': 0.0011578267863113867, 'num_leaves': 71, 'max_depth': 25, 'feature_fraction': 0.6767954433125073, 'bagging_fraction': 0.7626928451592763, 'bagging_freq': 15, 'min_child_samples': 18}. Best is trial#0 with value: 0.3199277250881466.\n",
      "[I 2020-05-24 22:19:54,423] Finished trial#4 with value: 0.32512334379360575 with parameters: {'max_bin': 332, 'learning_rate': 0.04386124100567799, 'lambda_l2': 0.28247148124192023, 'num_leaves': 173, 'max_depth': 21, 'feature_fraction': 0.552994769956452, 'bagging_fraction': 0.6627767183250712, 'bagging_freq': 12, 'min_child_samples': 4}. Best is trial#0 with value: 0.3199277250881466.\n",
      "[I 2020-05-24 22:20:20,206] Finished trial#5 with value: 0.3247471638509802 with parameters: {'max_bin': 491, 'learning_rate': 0.028226429492068685, 'lambda_l2': 0.02954594938944511, 'num_leaves': 50, 'max_depth': 12, 'feature_fraction': 0.9349749341541151, 'bagging_fraction': 0.5914632275107641, 'bagging_freq': 11, 'min_child_samples': 14}. Best is trial#0 with value: 0.3199277250881466.\n",
      "[I 2020-05-24 22:21:14,983] Finished trial#6 with value: 0.33342050313589217 with parameters: {'max_bin': 479, 'learning_rate': 0.015381030436212506, 'lambda_l2': 0.0005253916960569402, 'num_leaves': 73, 'max_depth': 11, 'feature_fraction': 0.8604160014321909, 'bagging_fraction': 0.6817923137848587, 'bagging_freq': 14, 'min_child_samples': 8}. Best is trial#0 with value: 0.3199277250881466.\n",
      "[I 2020-05-24 22:21:43,652] Finished trial#7 with value: 0.32436466259752395 with parameters: {'max_bin': 403, 'learning_rate': 0.0322356064262832, 'lambda_l2': 0.24165984185368658, 'num_leaves': 50, 'max_depth': 16, 'feature_fraction': 0.8902114709528643, 'bagging_fraction': 0.8340650428148855, 'bagging_freq': 5, 'min_child_samples': 17}. Best is trial#0 with value: 0.3199277250881466.\n",
      "[I 2020-05-24 22:22:24,998] Finished trial#8 with value: 0.36333522288651476 with parameters: {'max_bin': 457, 'learning_rate': 0.030756720890366226, 'lambda_l2': 0.0002633044837425057, 'num_leaves': 194, 'max_depth': 13, 'feature_fraction': 0.8078630276567, 'bagging_fraction': 0.6303609181319092, 'bagging_freq': 19, 'min_child_samples': 8}. Best is trial#0 with value: 0.3199277250881466.\n",
      "[I 2020-05-24 22:22:59,789] Finished trial#9 with value: 0.32703208112173654 with parameters: {'max_bin': 457, 'learning_rate': 0.015158969871928718, 'lambda_l2': 0.0015664317073836452, 'num_leaves': 38, 'max_depth': 21, 'feature_fraction': 0.8393587398665727, 'bagging_fraction': 0.985044647736899, 'bagging_freq': 14, 'min_child_samples': 19}. Best is trial#0 with value: 0.3199277250881466.\n",
      "[I 2020-05-24 22:23:51,851] Finished trial#10 with value: 0.34346984833701444 with parameters: {'max_bin': 281, 'learning_rate': 0.09022913349083002, 'lambda_l2': 0.0001029537842263718, 'num_leaves': 138, 'max_depth': 15, 'feature_fraction': 0.9915983745676328, 'bagging_fraction': 0.5036083053010153, 'bagging_freq': 6, 'min_child_samples': 2}. Best is trial#0 with value: 0.3199277250881466.\n",
      "[I 2020-05-24 22:24:41,068] Finished trial#11 with value: 0.31382970713090363 with parameters: {'max_bin': 393, 'learning_rate': 0.04984528752154966, 'lambda_l2': 0.027031393635419468, 'num_leaves': 112, 'max_depth': 18, 'feature_fraction': 0.7307437788035256, 'bagging_fraction': 0.8163024405202703, 'bagging_freq': 5, 'min_child_samples': 5}. Best is trial#11 with value: 0.31382970713090363.\n",
      "[I 2020-05-24 22:25:25,623] Finished trial#12 with value: 0.31817337696040987 with parameters: {'max_bin': 404, 'learning_rate': 0.061275931911171866, 'lambda_l2': 0.021042247891722425, 'num_leaves': 110, 'max_depth': 19, 'feature_fraction': 0.7413947072567874, 'bagging_fraction': 0.773335354429226, 'bagging_freq': 8, 'min_child_samples': 5}. Best is trial#11 with value: 0.31382970713090363.\n",
      "[I 2020-05-24 22:26:24,792] Finished trial#13 with value: 0.3329590720126829 with parameters: {'max_bin': 409, 'learning_rate': 0.09012624948003016, 'lambda_l2': 0.02103341767133681, 'num_leaves': 116, 'max_depth': 19, 'feature_fraction': 0.706457719404428, 'bagging_fraction': 0.7659895107673156, 'bagging_freq': 7, 'min_child_samples': 1}. Best is trial#11 with value: 0.31382970713090363.\n",
      "[I 2020-05-24 22:27:12,516] Finished trial#14 with value: 0.3147719794850968 with parameters: {'max_bin': 423, 'learning_rate': 0.0604544122578437, 'lambda_l2': 0.006317978957569114, 'num_leaves': 115, 'max_depth': 19, 'feature_fraction': 0.7419277239031064, 'bagging_fraction': 0.8184079539741356, 'bagging_freq': 8, 'min_child_samples': 4}. Best is trial#11 with value: 0.31382970713090363.\n",
      "[I 2020-05-24 22:28:07,632] Finished trial#15 with value: 0.3154345296951564 with parameters: {'max_bin': 432, 'learning_rate': 0.06066525063115765, 'lambda_l2': 0.005403585592324729, 'num_leaves': 139, 'max_depth': 18, 'feature_fraction': 0.6652085425478733, 'bagging_fraction': 0.8385476341507337, 'bagging_freq': 9, 'min_child_samples': 3}. Best is trial#11 with value: 0.31382970713090363.\n",
      "[I 2020-05-24 22:28:47,392] Finished trial#16 with value: 0.31542116263510867 with parameters: {'max_bin': 321, 'learning_rate': 0.06651485891716193, 'lambda_l2': 0.0688516000388592, 'num_leaves': 93, 'max_depth': 22, 'feature_fraction': 0.7763986634153311, 'bagging_fraction': 0.842824671973486, 'bagging_freq': 5, 'min_child_samples': 7}. Best is trial#11 with value: 0.31382970713090363.\n",
      "[I 2020-05-24 22:30:01,356] Finished trial#17 with value: 0.34807317681186184 with parameters: {'max_bin': 432, 'learning_rate': 0.04740870198937274, 'lambda_l2': 0.004780788851848314, 'num_leaves': 142, 'max_depth': 18, 'feature_fraction': 0.6254609030632742, 'bagging_fraction': 0.9889643016797696, 'bagging_freq': 5, 'min_child_samples': 1}. Best is trial#11 with value: 0.31382970713090363.\n",
      "[I 2020-05-24 22:30:29,916] Finished trial#18 with value: 0.3318002524834999 with parameters: {'max_bin': 379, 'learning_rate': 0.07534645339126518, 'lambda_l2': 0.09992959897559966, 'num_leaves': 95, 'max_depth': 23, 'feature_fraction': 0.7309428745713277, 'bagging_fraction': 0.7079744178792806, 'bagging_freq': 7, 'min_child_samples': 10}. Best is trial#11 with value: 0.31382970713090363.\n",
      "[I 2020-05-24 22:31:17,438] Finished trial#19 with value: 0.3194469006999971 with parameters: {'max_bin': 339, 'learning_rate': 0.052154810576795, 'lambda_l2': 0.007609703707797313, 'num_leaves': 127, 'max_depth': 15, 'feature_fraction': 0.6056753433913755, 'bagging_fraction': 0.9240888531764544, 'bagging_freq': 10, 'min_child_samples': 4}. Best is trial#11 with value: 0.31382970713090363.\n"
     ]
    },
    {
     "name": "stderr",
     "output_type": "stream",
     "text": [
      "[I 2020-05-24 22:31:55,397] Finished trial#20 with value: 0.3291460892869118 with parameters: {'max_bin': 510, 'learning_rate': 0.025189110924272656, 'lambda_l2': 0.9403829216751971, 'num_leaves': 159, 'max_depth': 20, 'feature_fraction': 0.7637869861065822, 'bagging_fraction': 0.8131003738721068, 'bagging_freq': 7, 'min_child_samples': 10}. Best is trial#11 with value: 0.31382970713090363.\n",
      "[I 2020-05-24 22:32:32,825] Finished trial#21 with value: 0.3243122606052299 with parameters: {'max_bin': 315, 'learning_rate': 0.06948892835378208, 'lambda_l2': 0.0776218221799439, 'num_leaves': 90, 'max_depth': 22, 'feature_fraction': 0.7727001209825106, 'bagging_fraction': 0.8681529653984211, 'bagging_freq': 5, 'min_child_samples': 7}. Best is trial#11 with value: 0.31382970713090363.\n",
      "[I 2020-05-24 22:33:14,021] Finished trial#22 with value: 0.3250986163434407 with parameters: {'max_bin': 310, 'learning_rate': 0.07750056708552973, 'lambda_l2': 0.06871698059382624, 'num_leaves': 103, 'max_depth': 17, 'feature_fraction': 0.6943731592109303, 'bagging_fraction': 0.7981212129302623, 'bagging_freq': 5, 'min_child_samples': 6}. Best is trial#11 with value: 0.31382970713090363.\n",
      "[I 2020-05-24 22:33:55,046] Finished trial#23 with value: 0.32317247121758186 with parameters: {'max_bin': 425, 'learning_rate': 0.038340396467565534, 'lambda_l2': 0.0028871298462031045, 'num_leaves': 82, 'max_depth': 21, 'feature_fraction': 0.8139589358117073, 'bagging_fraction': 0.7337264052615275, 'bagging_freq': 6, 'min_child_samples': 8}. Best is trial#11 with value: 0.31382970713090363.\n",
      "[I 2020-05-24 22:34:51,712] Finished trial#24 with value: 0.30689932805000514 with parameters: {'max_bin': 388, 'learning_rate': 0.05597821447246679, 'lambda_l2': 0.035079028811450745, 'num_leaves': 121, 'max_depth': 23, 'feature_fraction': 0.7705930263363588, 'bagging_fraction': 0.8701819164712808, 'bagging_freq': 8, 'min_child_samples': 3}. Best is trial#24 with value: 0.30689932805000514.\n",
      "[I 2020-05-24 22:35:45,420] Finished trial#25 with value: 0.3096901339510432 with parameters: {'max_bin': 387, 'learning_rate': 0.05247492473737398, 'lambda_l2': 0.01273017955560501, 'num_leaves': 119, 'max_depth': 25, 'feature_fraction': 0.6485452076546503, 'bagging_fraction': 0.9488036952787435, 'bagging_freq': 9, 'min_child_samples': 3}. Best is trial#24 with value: 0.30689932805000514.\n",
      "[I 2020-05-24 22:36:56,090] Finished trial#26 with value: 0.3149441979060225 with parameters: {'max_bin': 386, 'learning_rate': 0.03498622175015502, 'lambda_l2': 0.015871727715584972, 'num_leaves': 127, 'max_depth': 25, 'feature_fraction': 0.6400667767318272, 'bagging_fraction': 0.9343872450305851, 'bagging_freq': 9, 'min_child_samples': 2}. Best is trial#24 with value: 0.30689932805000514.\n",
      "[I 2020-05-24 22:37:59,798] Finished trial#27 with value: 0.3203306349591578 with parameters: {'max_bin': 357, 'learning_rate': 0.05135751471662261, 'lambda_l2': 0.039544454526575096, 'num_leaves': 129, 'max_depth': 24, 'feature_fraction': 0.5655130341601367, 'bagging_fraction': 0.9520441410990261, 'bagging_freq': 10, 'min_child_samples': 1}. Best is trial#24 with value: 0.30689932805000514.\n",
      "[I 2020-05-24 22:39:07,930] Finished trial#28 with value: 0.3014149734876974 with parameters: {'max_bin': 395, 'learning_rate': 0.023599416500987, 'lambda_l2': 0.014073774684094034, 'num_leaves': 152, 'max_depth': 25, 'feature_fraction': 0.7084224160094398, 'bagging_fraction': 0.8742896239115402, 'bagging_freq': 8, 'min_child_samples': 3}. Best is trial#28 with value: 0.3014149734876974.\n",
      "[I 2020-05-24 22:40:22,721] Finished trial#29 with value: 0.3158906746390934 with parameters: {'max_bin': 370, 'learning_rate': 0.023502185880139678, 'lambda_l2': 0.011886746739618329, 'num_leaves': 171, 'max_depth': 25, 'feature_fraction': 0.5122033923244728, 'bagging_fraction': 0.8836170868572177, 'bagging_freq': 9, 'min_child_samples': 2}. Best is trial#28 with value: 0.3014149734876974.\n",
      "[I 2020-05-24 22:41:31,160] Finished trial#30 with value: 0.3062895509627433 with parameters: {'max_bin': 356, 'learning_rate': 0.019815809543621877, 'lambda_l2': 0.14739405302941347, 'num_leaves': 157, 'max_depth': 23, 'feature_fraction': 0.6594249539757066, 'bagging_fraction': 0.9596838782080626, 'bagging_freq': 12, 'min_child_samples': 3}. Best is trial#28 with value: 0.3014149734876974.\n",
      "[I 2020-05-24 22:42:37,061] Finished trial#31 with value: 0.3067343395916085 with parameters: {'max_bin': 356, 'learning_rate': 0.020699209458078207, 'lambda_l2': 0.12705926333376727, 'num_leaves': 158, 'max_depth': 24, 'feature_fraction': 0.6514990378141706, 'bagging_fraction': 0.9586245741284397, 'bagging_freq': 12, 'min_child_samples': 3}. Best is trial#28 with value: 0.3014149734876974.\n",
      "[I 2020-05-24 22:43:47,583] Finished trial#32 with value: 0.3102531944703451 with parameters: {'max_bin': 343, 'learning_rate': 0.019815940713355917, 'lambda_l2': 0.14207303797001344, 'num_leaves': 157, 'max_depth': 23, 'feature_fraction': 0.5843568872825592, 'bagging_fraction': 0.9949265962371797, 'bagging_freq': 13, 'min_child_samples': 3}. Best is trial#28 with value: 0.3014149734876974.\n",
      "[I 2020-05-24 22:44:42,428] Finished trial#33 with value: 0.3147937076521457 with parameters: {'max_bin': 362, 'learning_rate': 0.01888569354086663, 'lambda_l2': 0.7492889584985263, 'num_leaves': 159, 'max_depth': 23, 'feature_fraction': 0.6946714322236656, 'bagging_fraction': 0.8762670695569992, 'bagging_freq': 18, 'min_child_samples': 5}. Best is trial#28 with value: 0.3014149734876974.\n",
      "[I 2020-05-24 22:45:39,110] Finished trial#34 with value: 0.31762833005203744 with parameters: {'max_bin': 286, 'learning_rate': 0.01264906727773242, 'lambda_l2': 0.1755734929409463, 'num_leaves': 185, 'max_depth': 24, 'feature_fraction': 0.668706432707993, 'bagging_fraction': 0.9005394491896914, 'bagging_freq': 12, 'min_child_samples': 6}. Best is trial#28 with value: 0.3014149734876974.\n",
      "[I 2020-05-24 22:47:06,402] Finished trial#35 with value: 0.3027663613185168 with parameters: {'max_bin': 373, 'learning_rate': 0.020038893823089425, 'lambda_l2': 0.5741165457735227, 'num_leaves': 151, 'max_depth': 22, 'feature_fraction': 0.7122728837585859, 'bagging_fraction': 0.9653738811431253, 'bagging_freq': 11, 'min_child_samples': 1}. Best is trial#28 with value: 0.3014149734876974.\n",
      "[I 2020-05-24 22:48:32,650] Finished trial#36 with value: 0.30674985300966073 with parameters: {'max_bin': 345, 'learning_rate': 0.01987721075732594, 'lambda_l2': 0.46011410862383795, 'num_leaves': 148, 'max_depth': 22, 'feature_fraction': 0.5947805028530316, 'bagging_fraction': 0.969592971898637, 'bagging_freq': 11, 'min_child_samples': 1}. Best is trial#28 with value: 0.3014149734876974.\n",
      "[I 2020-05-24 22:49:06,368] Finished trial#37 with value: 0.32641122230789205 with parameters: {'max_bin': 373, 'learning_rate': 0.017477795051250113, 'lambda_l2': 0.5127839434371217, 'num_leaves': 181, 'max_depth': 24, 'feature_fraction': 0.7133422830128816, 'bagging_fraction': 0.9094477903423468, 'bagging_freq': 16, 'min_child_samples': 13}. Best is trial#28 with value: 0.3014149734876974.\n",
      "[I 2020-05-24 22:49:40,738] Finished trial#38 with value: 0.3158220042373127 with parameters: {'max_bin': 300, 'learning_rate': 0.02290838108336687, 'lambda_l2': 0.305404288194846, 'num_leaves': 200, 'max_depth': 8, 'feature_fraction': 0.5202539211115658, 'bagging_fraction': 0.9626704643901554, 'bagging_freq': 13, 'min_child_samples': 2}. Best is trial#28 with value: 0.3014149734876974.\n",
      "[I 2020-05-24 22:50:57,009] Finished trial#39 with value: 0.31436403722625794 with parameters: {'max_bin': 327, 'learning_rate': 0.012288717545439564, 'lambda_l2': 0.13933167589739065, 'num_leaves': 166, 'max_depth': 25, 'feature_fraction': 0.6448892394474788, 'bagging_fraction': 0.9989687265154219, 'bagging_freq': 12, 'min_child_samples': 4}. Best is trial#28 with value: 0.3014149734876974.\n"
     ]
    },
    {
     "name": "stderr",
     "output_type": "stream",
     "text": [
      "[I 2020-05-24 22:51:22,445] Finished trial#40 with value: 0.3200686819580971 with parameters: {'max_bin': 256, 'learning_rate': 0.02656331456158706, 'lambda_l2': 0.35274340854853264, 'num_leaves': 149, 'max_depth': 24, 'feature_fraction': 0.680087890500319, 'bagging_fraction': 0.9282296853607929, 'bagging_freq': 11, 'min_child_samples': 16}. Best is trial#28 with value: 0.3014149734876974.\n",
      "[I 2020-05-24 22:52:44,852] Finished trial#41 with value: 0.3080094063234112 with parameters: {'max_bin': 347, 'learning_rate': 0.02124701047884358, 'lambda_l2': 0.5688496232136931, 'num_leaves': 150, 'max_depth': 22, 'feature_fraction': 0.6074934689469736, 'bagging_fraction': 0.9713437845169371, 'bagging_freq': 11, 'min_child_samples': 1}. Best is trial#28 with value: 0.3014149734876974.\n",
      "[I 2020-05-24 22:54:19,164] Finished trial#42 with value: 0.310737811150938 with parameters: {'max_bin': 351, 'learning_rate': 0.01615345050059422, 'lambda_l2': 0.2008101218443304, 'num_leaves': 179, 'max_depth': 21, 'feature_fraction': 0.5857623665192548, 'bagging_fraction': 0.9741178642741478, 'bagging_freq': 14, 'min_child_samples': 1}. Best is trial#28 with value: 0.3014149734876974.\n",
      "[I 2020-05-24 22:55:20,934] Finished trial#43 with value: 0.3058462760648218 with parameters: {'max_bin': 364, 'learning_rate': 0.029280446588304886, 'lambda_l2': 0.8722482327819602, 'num_leaves': 147, 'max_depth': 22, 'feature_fraction': 0.6243929729487315, 'bagging_fraction': 0.9469067072706718, 'bagging_freq': 10, 'min_child_samples': 2}. Best is trial#28 with value: 0.3014149734876974.\n",
      "[I 2020-05-24 22:56:08,615] Finished trial#44 with value: 0.30707646445720954 with parameters: {'max_bin': 369, 'learning_rate': 0.0281610660494841, 'lambda_l2': 0.7070998534277677, 'num_leaves': 164, 'max_depth': 20, 'feature_fraction': 0.6248739284386297, 'bagging_fraction': 0.9040999678223937, 'bagging_freq': 10, 'min_child_samples': 4}. Best is trial#28 with value: 0.3014149734876974.\n",
      "[I 2020-05-24 22:57:11,057] Finished trial#45 with value: 0.30081704033352347 with parameters: {'max_bin': 333, 'learning_rate': 0.03134213675524837, 'lambda_l2': 0.33559087792990183, 'num_leaves': 173, 'max_depth': 24, 'feature_fraction': 0.6676123799846048, 'bagging_fraction': 0.9379445641213301, 'bagging_freq': 13, 'min_child_samples': 2}. Best is trial#45 with value: 0.30081704033352347.\n",
      "[I 2020-05-24 22:58:14,758] Finished trial#46 with value: 0.3058505647419957 with parameters: {'max_bin': 402, 'learning_rate': 0.0322319132425448, 'lambda_l2': 0.35684589532509614, 'num_leaves': 174, 'max_depth': 20, 'feature_fraction': 0.7131775146275573, 'bagging_fraction': 0.9400203646853817, 'bagging_freq': 15, 'min_child_samples': 2}. Best is trial#45 with value: 0.30081704033352347.\n",
      "[I 2020-05-24 22:59:16,398] Finished trial#47 with value: 0.31346627596318816 with parameters: {'max_bin': 413, 'learning_rate': 0.03146736154837833, 'lambda_l2': 0.9417605238052138, 'num_leaves': 192, 'max_depth': 20, 'feature_fraction': 0.7130267861565961, 'bagging_fraction': 0.8593845843220518, 'bagging_freq': 15, 'min_child_samples': 2}. Best is trial#45 with value: 0.30081704033352347.\n",
      "[I 2020-05-24 23:00:11,779] Finished trial#48 with value: 0.30125763094115876 with parameters: {'max_bin': 451, 'learning_rate': 0.03977617179885017, 'lambda_l2': 0.3368029757468703, 'num_leaves': 176, 'max_depth': 22, 'feature_fraction': 0.6786662790009147, 'bagging_fraction': 0.9317443393819802, 'bagging_freq': 15, 'min_child_samples': 2}. Best is trial#45 with value: 0.30081704033352347.\n",
      "[I 2020-05-24 23:00:58,026] Finished trial#49 with value: 0.31672361456058395 with parameters: {'max_bin': 455, 'learning_rate': 0.04041891276831105, 'lambda_l2': 0.0005267099388729984, 'num_leaves': 200, 'max_depth': 21, 'feature_fraction': 0.7942644612871668, 'bagging_fraction': 0.550315772334205, 'bagging_freq': 17, 'min_child_samples': 5}. Best is trial#45 with value: 0.30081704033352347.\n",
      "[I 2020-05-24 23:02:04,858] Finished trial#50 with value: 0.3140192287873119 with parameters: {'max_bin': 481, 'learning_rate': 0.03578448852024163, 'lambda_l2': 0.2520560712330651, 'num_leaves': 136, 'max_depth': 22, 'feature_fraction': 0.6808780111081506, 'bagging_fraction': 0.9185644785605996, 'bagging_freq': 14, 'min_child_samples': 1}. Best is trial#45 with value: 0.30081704033352347.\n",
      "[I 2020-05-24 23:03:07,675] Finished trial#51 with value: 0.2974413221474646 with parameters: {'max_bin': 439, 'learning_rate': 0.028675997802963316, 'lambda_l2': 0.3801496623128878, 'num_leaves': 175, 'max_depth': 22, 'feature_fraction': 0.7216095610750687, 'bagging_fraction': 0.9313118181727692, 'bagging_freq': 15, 'min_child_samples': 2}. Best is trial#51 with value: 0.2974413221474646.\n",
      "[I 2020-05-24 23:04:09,950] Finished trial#52 with value: 0.3122913738709449 with parameters: {'max_bin': 448, 'learning_rate': 0.029512181316128445, 'lambda_l2': 0.9358439220905824, 'num_leaves': 172, 'max_depth': 23, 'feature_fraction': 0.7427403752676308, 'bagging_fraction': 0.8981436120769, 'bagging_freq': 16, 'min_child_samples': 2}. Best is trial#51 with value: 0.2974413221474646.\n",
      "[I 2020-05-24 23:04:55,805] Finished trial#53 with value: 0.3126675978852088 with parameters: {'max_bin': 493, 'learning_rate': 0.04517364133599613, 'lambda_l2': 0.43548850210561363, 'num_leaves': 190, 'max_depth': 22, 'feature_fraction': 0.7250914347379378, 'bagging_fraction': 0.9954047642518645, 'bagging_freq': 13, 'min_child_samples': 4}. Best is trial#51 with value: 0.2974413221474646.\n",
      "[I 2020-05-24 23:06:20,378] Finished trial#54 with value: 0.30728053766451136 with parameters: {'max_bin': 443, 'learning_rate': 0.025389970676973333, 'lambda_l2': 0.2456629826359048, 'num_leaves': 177, 'max_depth': 21, 'feature_fraction': 0.6240460368320064, 'bagging_fraction': 0.934134013517607, 'bagging_freq': 15, 'min_child_samples': 1}. Best is trial#51 with value: 0.2974413221474646.\n",
      "[I 2020-05-24 23:07:02,824] Finished trial#55 with value: 0.3085523850532785 with parameters: {'max_bin': 333, 'learning_rate': 0.035027424631190685, 'lambda_l2': 0.7694421754167294, 'num_leaves': 183, 'max_depth': 24, 'feature_fraction': 0.6923278327257938, 'bagging_fraction': 0.8526794630455613, 'bagging_freq': 17, 'min_child_samples': 5}. Best is trial#51 with value: 0.2974413221474646.\n",
      "[I 2020-05-24 23:08:07,881] Finished trial#56 with value: 0.3169510230814081 with parameters: {'max_bin': 470, 'learning_rate': 0.027469716806198738, 'lambda_l2': 0.052527835487027885, 'num_leaves': 167, 'max_depth': 25, 'feature_fraction': 0.6769964354865996, 'bagging_fraction': 0.8852933522106392, 'bagging_freq': 10, 'min_child_samples': 2}. Best is trial#51 with value: 0.2974413221474646.\n",
      "[I 2020-05-24 23:09:09,697] Finished trial#57 with value: 0.31713489422303215 with parameters: {'max_bin': 398, 'learning_rate': 0.023947460942803363, 'lambda_l2': 0.0010199865303237206, 'num_leaves': 145, 'max_depth': 19, 'feature_fraction': 0.7546137730715338, 'bagging_fraction': 0.9817548125701082, 'bagging_freq': 14, 'min_child_samples': 4}. Best is trial#51 with value: 0.2974413221474646.\n",
      "[I 2020-05-24 23:09:56,449] Finished trial#58 with value: 0.30537588531316834 with parameters: {'max_bin': 411, 'learning_rate': 0.04212412618920769, 'lambda_l2': 0.5992319729323419, 'num_leaves': 152, 'max_depth': 22, 'feature_fraction': 0.7012021903239808, 'bagging_fraction': 0.9179669792015686, 'bagging_freq': 8, 'min_child_samples': 3}. Best is trial#51 with value: 0.2974413221474646.\n",
      "[I 2020-05-24 23:10:31,867] Finished trial#59 with value: 0.32611009833745835 with parameters: {'max_bin': 417, 'learning_rate': 0.041034154783894085, 'lambda_l2': 0.09256465861785762, 'num_leaves': 133, 'max_depth': 10, 'feature_fraction': 0.7874386765333928, 'bagging_fraction': 0.9166543389056493, 'bagging_freq': 20, 'min_child_samples': 6}. Best is trial#51 with value: 0.2974413221474646.\n"
     ]
    },
    {
     "name": "stderr",
     "output_type": "stream",
     "text": [
      "[I 2020-05-24 23:10:52,221] Finished trial#60 with value: 0.3370622840644238 with parameters: {'max_bin': 437, 'learning_rate': 0.038055141431999916, 'lambda_l2': 0.6419623093362734, 'num_leaves': 153, 'max_depth': 23, 'feature_fraction': 0.7520819279274785, 'bagging_fraction': 0.8281289133778482, 'bagging_freq': 6, 'min_child_samples': 20}. Best is trial#51 with value: 0.2974413221474646.\n",
      "[I 2020-05-24 23:11:39,904] Finished trial#61 with value: 0.30175149863781203 with parameters: {'max_bin': 423, 'learning_rate': 0.04420714212382302, 'lambda_l2': 0.4192161625328663, 'num_leaves': 142, 'max_depth': 22, 'feature_fraction': 0.6968468786886908, 'bagging_fraction': 0.9393487497152636, 'bagging_freq': 8, 'min_child_samples': 3}. Best is trial#51 with value: 0.2974413221474646.\n",
      "[I 2020-05-24 23:12:26,440] Finished trial#62 with value: 0.31590946994930386 with parameters: {'max_bin': 428, 'learning_rate': 0.04699864473513877, 'lambda_l2': 0.4047914076457679, 'num_leaves': 140, 'max_depth': 20, 'feature_fraction': 0.7010227423796312, 'bagging_fraction': 0.891878362466221, 'bagging_freq': 8, 'min_child_samples': 3}. Best is trial#51 with value: 0.2974413221474646.\n",
      "[I 2020-05-24 23:13:09,885] Finished trial#63 with value: 0.3211465349279607 with parameters: {'max_bin': 412, 'learning_rate': 0.04342470419032018, 'lambda_l2': 0.20837440632023005, 'num_leaves': 163, 'max_depth': 21, 'feature_fraction': 0.7261777316086536, 'bagging_fraction': 0.9237884704399246, 'bagging_freq': 7, 'min_child_samples': 4}. Best is trial#51 with value: 0.2974413221474646.\n",
      "[I 2020-05-24 23:14:01,335] Finished trial#64 with value: 0.3055244811432635 with parameters: {'max_bin': 438, 'learning_rate': 0.037430930206006297, 'lambda_l2': 0.26889488282097146, 'num_leaves': 170, 'max_depth': 22, 'feature_fraction': 0.7293173821668645, 'bagging_fraction': 0.9465113356075043, 'bagging_freq': 16, 'min_child_samples': 3}. Best is trial#51 with value: 0.2974413221474646.\n",
      "[I 2020-05-24 23:15:22,082] Finished trial#65 with value: 0.29820390513470535 with parameters: {'max_bin': 465, 'learning_rate': 0.03366490271396565, 'lambda_l2': 0.5148439840366229, 'num_leaves': 154, 'max_depth': 23, 'feature_fraction': 0.8179205244865418, 'bagging_fraction': 0.9093667885121471, 'bagging_freq': 8, 'min_child_samples': 1}. Best is trial#51 with value: 0.2974413221474646.\n",
      "[I 2020-05-24 23:16:54,096] Finished trial#66 with value: 0.34436239676736674 with parameters: {'max_bin': 461, 'learning_rate': 0.03302619519809125, 'lambda_l2': 0.00010357953478136903, 'num_leaves': 187, 'max_depth': 23, 'feature_fraction': 0.8914500941114544, 'bagging_fraction': 0.983248227266184, 'bagging_freq': 6, 'min_child_samples': 1}. Best is trial#51 with value: 0.2974413221474646.\n",
      "[I 2020-05-24 23:18:14,680] Finished trial#67 with value: 0.3000337277950293 with parameters: {'max_bin': 467, 'learning_rate': 0.022577438795273866, 'lambda_l2': 0.3301162062396504, 'num_leaves': 143, 'max_depth': 25, 'feature_fraction': 0.8232289098823684, 'bagging_fraction': 0.939273275079897, 'bagging_freq': 7, 'min_child_samples': 2}. Best is trial#51 with value: 0.2974413221474646.\n",
      "[I 2020-05-24 23:19:45,327] Finished trial#68 with value: 0.310969508812754 with parameters: {'max_bin': 467, 'learning_rate': 0.022702658256197942, 'lambda_l2': 0.0032114394770603695, 'num_leaves': 142, 'max_depth': 25, 'feature_fraction': 0.8709205509820616, 'bagging_fraction': 0.8596968534798397, 'bagging_freq': 7, 'min_child_samples': 2}. Best is trial#51 with value: 0.2974413221474646.\n",
      "[I 2020-05-24 23:20:31,133] Finished trial#69 with value: 0.30500610900927355 with parameters: {'max_bin': 495, 'learning_rate': 0.03375186315931059, 'lambda_l2': 0.36257291913720313, 'num_leaves': 162, 'max_depth': 13, 'feature_fraction': 0.8254731304641902, 'bagging_fraction': 0.7948615601517894, 'bagging_freq': 8, 'min_child_samples': 5}. Best is trial#51 with value: 0.2974413221474646.\n",
      "[I 2020-05-24 23:21:09,157] Finished trial#70 with value: 0.33326506432578334 with parameters: {'max_bin': 450, 'learning_rate': 0.030528722794599086, 'lambda_l2': 0.11711272554997565, 'num_leaves': 132, 'max_depth': 25, 'feature_fraction': 0.8575022002131865, 'bagging_fraction': 0.8813884641835905, 'bagging_freq': 9, 'min_child_samples': 11}. Best is trial#51 with value: 0.2974413221474646.\n",
      "[I 2020-05-24 23:22:53,397] Finished trial#71 with value: 0.29082132796954646 with parameters: {'max_bin': 479, 'learning_rate': 0.02476867388016369, 'lambda_l2': 0.18277319477192858, 'num_leaves': 155, 'max_depth': 24, 'feature_fraction': 0.9336105950534206, 'bagging_fraction': 0.9354378376527508, 'bagging_freq': 7, 'min_child_samples': 1}. Best is trial#71 with value: 0.29082132796954646.\n",
      "[I 2020-05-24 23:24:16,207] Finished trial#72 with value: 0.30395748670097067 with parameters: {'max_bin': 482, 'learning_rate': 0.025769802383183472, 'lambda_l2': 0.17258865868221362, 'num_leaves': 155, 'max_depth': 24, 'feature_fraction': 0.972152541907852, 'bagging_fraction': 0.93213340215302, 'bagging_freq': 6, 'min_child_samples': 2}. Best is trial#71 with value: 0.29082132796954646.\n",
      "[I 2020-05-24 23:25:28,465] Finished trial#73 with value: 0.3050755820566805 with parameters: {'max_bin': 501, 'learning_rate': 0.02175658029556697, 'lambda_l2': 0.32072003069458155, 'num_leaves': 176, 'max_depth': 24, 'feature_fraction': 0.9147851904975065, 'bagging_fraction': 0.9069944673412738, 'bagging_freq': 7, 'min_child_samples': 3}. Best is trial#71 with value: 0.29082132796954646.\n",
      "[I 2020-05-24 23:27:11,911] Finished trial#74 with value: 0.3034434354177425 with parameters: {'max_bin': 466, 'learning_rate': 0.018091643019180165, 'lambda_l2': 0.4707890811724183, 'num_leaves': 122, 'max_depth': 23, 'feature_fraction': 0.9889759611751068, 'bagging_fraction': 0.949959443686566, 'bagging_freq': 7, 'min_child_samples': 1}. Best is trial#71 with value: 0.29082132796954646.\n",
      "[I 2020-05-24 23:28:21,653] Finished trial#75 with value: 0.31076678108024025 with parameters: {'max_bin': 476, 'learning_rate': 0.024008011823869593, 'lambda_l2': 0.21541580221080367, 'num_leaves': 168, 'max_depth': 25, 'feature_fraction': 0.9404728735947977, 'bagging_fraction': 0.8903557972358886, 'bagging_freq': 9, 'min_child_samples': 3}. Best is trial#71 with value: 0.29082132796954646.\n",
      "[I 2020-05-24 23:29:37,170] Finished trial#76 with value: 0.3064557011802134 with parameters: {'max_bin': 421, 'learning_rate': 0.027172021503596103, 'lambda_l2': 0.16884208749396712, 'num_leaves': 145, 'max_depth': 24, 'feature_fraction': 0.8292391093448959, 'bagging_fraction': 0.6373025372046424, 'bagging_freq': 8, 'min_child_samples': 1}. Best is trial#71 with value: 0.29082132796954646.\n",
      "[I 2020-05-24 23:30:48,748] Finished trial#77 with value: 0.31265891858996514 with parameters: {'max_bin': 511, 'learning_rate': 0.029083205913367483, 'lambda_l2': 0.08712969079318394, 'num_leaves': 136, 'max_depth': 23, 'feature_fraction': 0.6637912342785258, 'bagging_fraction': 0.9379117253998369, 'bagging_freq': 15, 'min_child_samples': 2}. Best is trial#71 with value: 0.29082132796954646.\n",
      "[I 2020-05-24 23:31:54,684] Finished trial#78 with value: 0.3092663370646884 with parameters: {'max_bin': 457, 'learning_rate': 0.025069813322993625, 'lambda_l2': 0.061234415861134525, 'num_leaves': 160, 'max_depth': 25, 'feature_fraction': 0.7998326982459725, 'bagging_fraction': 0.9098995039609371, 'bagging_freq': 6, 'min_child_samples': 4}. Best is trial#71 with value: 0.29082132796954646.\n",
      "[I 2020-05-24 23:32:48,897] Finished trial#79 with value: 0.3190070454626999 with parameters: {'max_bin': 473, 'learning_rate': 0.03938790747490915, 'lambda_l2': 0.3027716033491851, 'num_leaves': 155, 'max_depth': 24, 'feature_fraction': 0.7801028685130811, 'bagging_fraction': 0.8726992176171702, 'bagging_freq': 13, 'min_child_samples': 3}. Best is trial#71 with value: 0.29082132796954646.\n"
     ]
    },
    {
     "name": "stderr",
     "output_type": "stream",
     "text": [
      "[I 2020-05-24 23:33:24,968] Finished trial#80 with value: 0.3303731737883945 with parameters: {'max_bin': 485, 'learning_rate': 0.036400870169921086, 'lambda_l2': 0.11055092952154454, 'num_leaves': 181, 'max_depth': 24, 'feature_fraction': 0.6838768676248097, 'bagging_fraction': 0.9624908741992665, 'bagging_freq': 8, 'min_child_samples': 9}. Best is trial#71 with value: 0.29082132796954646.\n",
      "[I 2020-05-24 23:35:05,955] Finished trial#81 with value: 0.29821410368144974 with parameters: {'max_bin': 448, 'learning_rate': 0.021471896411023077, 'lambda_l2': 0.4933594891983922, 'num_leaves': 196, 'max_depth': 23, 'feature_fraction': 0.7365694173295197, 'bagging_fraction': 0.9749760601153538, 'bagging_freq': 8, 'min_child_samples': 1}. Best is trial#71 with value: 0.29082132796954646.\n",
      "[I 2020-05-24 23:36:27,875] Finished trial#82 with value: 0.2992775009834125 with parameters: {'max_bin': 448, 'learning_rate': 0.022452427492288214, 'lambda_l2': 0.48942301571441327, 'num_leaves': 193, 'max_depth': 23, 'feature_fraction': 0.7363942156018459, 'bagging_fraction': 0.9740724919315713, 'bagging_freq': 8, 'min_child_samples': 2}. Best is trial#71 with value: 0.29082132796954646.\n",
      "[I 2020-05-24 23:37:42,416] Finished trial#83 with value: 0.2990216167007515 with parameters: {'max_bin': 447, 'learning_rate': 0.021814706844564807, 'lambda_l2': 0.527818334728721, 'num_leaves': 195, 'max_depth': 23, 'feature_fraction': 0.7587504335145452, 'bagging_fraction': 0.9798972899435755, 'bagging_freq': 9, 'min_child_samples': 2}. Best is trial#71 with value: 0.29082132796954646.\n",
      "[I 2020-05-24 23:39:23,900] Finished trial#84 with value: 0.30371412399112296 with parameters: {'max_bin': 447, 'learning_rate': 0.017229462446915318, 'lambda_l2': 0.5286244228183954, 'num_leaves': 192, 'max_depth': 23, 'feature_fraction': 0.8092904968487553, 'bagging_fraction': 0.9798074094678886, 'bagging_freq': 7, 'min_child_samples': 1}. Best is trial#71 with value: 0.29082132796954646.\n",
      "[I 2020-05-24 23:40:59,879] Finished trial#85 with value: 0.3060478871568296 with parameters: {'max_bin': 440, 'learning_rate': 0.018728139871918858, 'lambda_l2': 0.8294433650101755, 'num_leaves': 196, 'max_depth': 23, 'feature_fraction': 0.7614754799907485, 'bagging_fraction': 0.9874496613191988, 'bagging_freq': 9, 'min_child_samples': 2}. Best is trial#71 with value: 0.29082132796954646.\n",
      "[I 2020-05-24 23:42:42,140] Finished trial#86 with value: 0.303642924680561 with parameters: {'max_bin': 459, 'learning_rate': 0.021812200503362092, 'lambda_l2': 0.6510012029910932, 'num_leaves': 196, 'max_depth': 23, 'feature_fraction': 0.8488083497604585, 'bagging_fraction': 0.9975626568283766, 'bagging_freq': 7, 'min_child_samples': 1}. Best is trial#71 with value: 0.29082132796954646.\n",
      "[I 2020-05-24 23:43:58,906] Finished trial#87 with value: 0.30591271392695396 with parameters: {'max_bin': 433, 'learning_rate': 0.030284339041434304, 'lambda_l2': 0.2792370943882686, 'num_leaves': 185, 'max_depth': 24, 'feature_fraction': 0.7673729561698494, 'bagging_fraction': 0.9605454230093394, 'bagging_freq': 14, 'min_child_samples': 2}. Best is trial#71 with value: 0.29082132796954646.\n",
      "[I 2020-05-24 23:45:34,556] Finished trial#88 with value: 0.30119867228518543 with parameters: {'max_bin': 464, 'learning_rate': 0.01596409380179307, 'lambda_l2': 0.49411579564675195, 'num_leaves': 200, 'max_depth': 14, 'feature_fraction': 0.8171234838701631, 'bagging_fraction': 0.975009603193584, 'bagging_freq': 17, 'min_child_samples': 2}. Best is trial#71 with value: 0.29082132796954646.\n",
      "[I 2020-05-24 23:47:10,937] Finished trial#89 with value: 0.3019399303168636 with parameters: {'max_bin': 465, 'learning_rate': 0.01414027367602434, 'lambda_l2': 0.48344321224072334, 'num_leaves': 200, 'max_depth': 11, 'feature_fraction': 0.8213847767700678, 'bagging_fraction': 0.9724323443602488, 'bagging_freq': 17, 'min_child_samples': 1}. Best is trial#71 with value: 0.29082132796954646.\n",
      "[I 2020-05-24 23:48:48,785] Finished trial#90 with value: 0.3051077297460055 with parameters: {'max_bin': 474, 'learning_rate': 0.014568638079015428, 'lambda_l2': 0.9845103047490401, 'num_leaves': 188, 'max_depth': 16, 'feature_fraction': 0.7415665445282517, 'bagging_fraction': 0.993548201646764, 'bagging_freq': 6, 'min_child_samples': 2}. Best is trial#71 with value: 0.29082132796954646.\n",
      "[I 2020-05-24 23:50:25,579] Finished trial#91 with value: 0.29810891007162754 with parameters: {'max_bin': 502, 'learning_rate': 0.016623709830407552, 'lambda_l2': 0.34604413203550427, 'num_leaves': 198, 'max_depth': 14, 'feature_fraction': 0.8822978309131646, 'bagging_fraction': 0.9527728981127982, 'bagging_freq': 18, 'min_child_samples': 2}. Best is trial#71 with value: 0.29082132796954646.\n",
      "[I 2020-05-24 23:52:23,156] Finished trial#92 with value: 0.29977956704241604 with parameters: {'max_bin': 502, 'learning_rate': 0.01590933460939722, 'lambda_l2': 0.3958246435226503, 'num_leaves': 200, 'max_depth': 14, 'feature_fraction': 0.8968481097396835, 'bagging_fraction': 0.951891422925037, 'bagging_freq': 20, 'min_child_samples': 1}. Best is trial#71 with value: 0.29082132796954646.\n",
      "[I 2020-05-24 23:54:26,375] Finished trial#93 with value: 0.30234834793292276 with parameters: {'max_bin': 502, 'learning_rate': 0.013196828560741851, 'lambda_l2': 0.3700030986055859, 'num_leaves': 196, 'max_depth': 12, 'feature_fraction': 0.9532823674496734, 'bagging_fraction': 0.9525864362772118, 'bagging_freq': 20, 'min_child_samples': 1}. Best is trial#71 with value: 0.29082132796954646.\n",
      "[I 2020-05-24 23:56:23,476] Finished trial#94 with value: 0.303117174037598 with parameters: {'max_bin': 486, 'learning_rate': 0.016571847281588527, 'lambda_l2': 0.23466206817616075, 'num_leaves': 194, 'max_depth': 15, 'feature_fraction': 0.9149134348607415, 'bagging_fraction': 0.955311083511086, 'bagging_freq': 19, 'min_child_samples': 1}. Best is trial#71 with value: 0.29082132796954646.\n",
      "[I 2020-05-24 23:58:20,293] Finished trial#95 with value: 0.3000201901301684 with parameters: {'max_bin': 503, 'learning_rate': 0.01102061070024168, 'lambda_l2': 0.6860328227962669, 'num_leaves': 183, 'max_depth': 14, 'feature_fraction': 0.8790405660262305, 'bagging_fraction': 0.944427195981228, 'bagging_freq': 19, 'min_child_samples': 2}. Best is trial#71 with value: 0.29082132796954646.\n",
      "[I 2020-05-25 00:00:02,464] Finished trial#96 with value: 0.3038929042831941 with parameters: {'max_bin': 504, 'learning_rate': 0.011729255122458907, 'lambda_l2': 0.6761308585754683, 'num_leaves': 189, 'max_depth': 14, 'feature_fraction': 0.8803940051174215, 'bagging_fraction': 0.9672275212668594, 'bagging_freq': 19, 'min_child_samples': 3}. Best is trial#71 with value: 0.29082132796954646.\n",
      "[I 2020-05-25 00:02:06,106] Finished trial#97 with value: 0.30585108544311657 with parameters: {'max_bin': 490, 'learning_rate': 0.010835328200420907, 'lambda_l2': 0.7603019073523022, 'num_leaves': 184, 'max_depth': 14, 'feature_fraction': 0.9042926721793312, 'bagging_fraction': 0.9224591983191118, 'bagging_freq': 19, 'min_child_samples': 1}. Best is trial#71 with value: 0.29082132796954646.\n",
      "[I 2020-05-25 00:03:37,820] Finished trial#98 with value: 0.29552792062734945 with parameters: {'max_bin': 508, 'learning_rate': 0.020496216869843858, 'lambda_l2': 0.5638212371175422, 'num_leaves': 181, 'max_depth': 15, 'feature_fraction': 0.9297764878429223, 'bagging_fraction': 0.9460637054757335, 'bagging_freq': 18, 'min_child_samples': 1}. Best is trial#71 with value: 0.29082132796954646.\n",
      "[I 2020-05-25 00:05:22,656] Finished trial#99 with value: 0.29691567596377616 with parameters: {'max_bin': 507, 'learning_rate': 0.020357000789039358, 'lambda_l2': 0.6179972040980735, 'num_leaves': 181, 'max_depth': 15, 'feature_fraction': 0.9259898674135596, 'bagging_fraction': 0.9860689165482607, 'bagging_freq': 18, 'min_child_samples': 1}. Best is trial#71 with value: 0.29082132796954646.\n"
     ]
    },
    {
     "name": "stderr",
     "output_type": "stream",
     "text": [
      "[I 2020-05-25 00:06:01,288] Finished trial#100 with value: 0.32441937927081504 with parameters: {'max_bin': 509, 'learning_rate': 0.020617148093788305, 'lambda_l2': 0.5812896193908825, 'num_leaves': 180, 'max_depth': 16, 'feature_fraction': 0.9357464029727901, 'bagging_fraction': 0.9993266504566591, 'bagging_freq': 18, 'min_child_samples': 14}. Best is trial#71 with value: 0.29082132796954646.\n",
      "[I 2020-05-25 00:07:58,286] Finished trial#101 with value: 0.2945658691937622 with parameters: {'max_bin': 498, 'learning_rate': 0.01871470897190093, 'lambda_l2': 0.4094986119806192, 'num_leaves': 191, 'max_depth': 15, 'feature_fraction': 0.9204104394793995, 'bagging_fraction': 0.9833379766588606, 'bagging_freq': 18, 'min_child_samples': 1}. Best is trial#71 with value: 0.29082132796954646.\n",
      "[I 2020-05-25 00:09:58,290] Finished trial#102 with value: 0.29044908556826327 with parameters: {'max_bin': 497, 'learning_rate': 0.019172260677990483, 'lambda_l2': 0.44093646899577427, 'num_leaves': 191, 'max_depth': 15, 'feature_fraction': 0.9501431003681992, 'bagging_fraction': 0.9774421372671747, 'bagging_freq': 18, 'min_child_samples': 1}. Best is trial#102 with value: 0.29044908556826327.\n",
      "[I 2020-05-25 00:11:48,740] Finished trial#103 with value: 0.3119230758570721 with parameters: {'max_bin': 496, 'learning_rate': 0.018194523335823762, 'lambda_l2': 0.9533261455314471, 'num_leaves': 191, 'max_depth': 17, 'feature_fraction': 0.9197504685610496, 'bagging_fraction': 0.9901782189940167, 'bagging_freq': 18, 'min_child_samples': 1}. Best is trial#102 with value: 0.29044908556826327.\n",
      "[I 2020-05-25 00:13:41,442] Finished trial#104 with value: 0.2991247600636677 with parameters: {'max_bin': 488, 'learning_rate': 0.019355577364857844, 'lambda_l2': 0.5414532015646488, 'num_leaves': 187, 'max_depth': 15, 'feature_fraction': 0.9468529112894887, 'bagging_fraction': 0.9808784773398356, 'bagging_freq': 18, 'min_child_samples': 1}. Best is trial#102 with value: 0.29044908556826327.\n",
      "[I 2020-05-25 00:15:38,751] Finished trial#105 with value: 0.30079261163567905 with parameters: {'max_bin': 487, 'learning_rate': 0.01930331095254922, 'lambda_l2': 0.4159424004547895, 'num_leaves': 178, 'max_depth': 15, 'feature_fraction': 0.9611874407300471, 'bagging_fraction': 0.9814497547917456, 'bagging_freq': 18, 'min_child_samples': 1}. Best is trial#102 with value: 0.29044908556826327.\n",
      "[I 2020-05-25 00:17:24,026] Finished trial#106 with value: 0.3081138301963164 with parameters: {'max_bin': 512, 'learning_rate': 0.020933054727551383, 'lambda_l2': 0.2654702639176279, 'num_leaves': 187, 'max_depth': 16, 'feature_fraction': 0.9269375066139741, 'bagging_fraction': 0.9668425605533032, 'bagging_freq': 18, 'min_child_samples': 1}. Best is trial#102 with value: 0.29044908556826327.\n",
      "[I 2020-05-25 00:19:25,532] Finished trial#107 with value: 0.3044464533350801 with parameters: {'max_bin': 496, 'learning_rate': 0.01766910050548791, 'lambda_l2': 0.5559247428834725, 'num_leaves': 196, 'max_depth': 15, 'feature_fraction': 0.9517552830849103, 'bagging_fraction': 0.9883275842572838, 'bagging_freq': 18, 'min_child_samples': 1}. Best is trial#102 with value: 0.29044908556826327.\n",
      "[I 2020-05-25 00:20:51,143] Finished trial#108 with value: 0.30612807503659945 with parameters: {'max_bin': 478, 'learning_rate': 0.018950106350905358, 'lambda_l2': 0.9991511365823386, 'num_leaves': 175, 'max_depth': 15, 'feature_fraction': 0.9779399255228856, 'bagging_fraction': 0.9564061275933872, 'bagging_freq': 17, 'min_child_samples': 3}. Best is trial#102 with value: 0.29044908556826327.\n",
      "[I 2020-05-25 00:22:15,818] Finished trial#109 with value: 0.3118307812585101 with parameters: {'max_bin': 507, 'learning_rate': 0.016963941840605307, 'lambda_l2': 0.7317532169097439, 'num_leaves': 186, 'max_depth': 13, 'feature_fraction': 0.9986790935113096, 'bagging_fraction': 0.7299510826871621, 'bagging_freq': 17, 'min_child_samples': 2}. Best is trial#102 with value: 0.29044908556826327.\n",
      "[I 2020-05-25 00:24:22,336] Finished trial#110 with value: 0.2995657855906848 with parameters: {'max_bin': 498, 'learning_rate': 0.015182563677188326, 'lambda_l2': 0.18112874609568957, 'num_leaves': 181, 'max_depth': 17, 'feature_fraction': 0.9038176654590506, 'bagging_fraction': 0.9246704632617282, 'bagging_freq': 18, 'min_child_samples': 1}. Best is trial#102 with value: 0.29044908556826327.\n",
      "[I 2020-05-25 00:26:13,457] Finished trial#111 with value: 0.2996301765719267 with parameters: {'max_bin': 492, 'learning_rate': 0.0202806659636693, 'lambda_l2': 0.4651157256460153, 'num_leaves': 193, 'max_depth': 16, 'feature_fraction': 0.9435846039600374, 'bagging_fraction': 0.971773839551633, 'bagging_freq': 19, 'min_child_samples': 2}. Best is trial#102 with value: 0.29044908556826327.\n",
      "[I 2020-05-25 00:27:41,134] Finished trial#112 with value: 0.30148732100324444 with parameters: {'max_bin': 455, 'learning_rate': 0.021841597580067346, 'lambda_l2': 0.5443182573194726, 'num_leaves': 190, 'max_depth': 15, 'feature_fraction': 0.9242194454876214, 'bagging_fraction': 0.9997450144056405, 'bagging_freq': 16, 'min_child_samples': 2}. Best is trial#102 with value: 0.29044908556826327.\n",
      "[I 2020-05-25 00:29:08,209] Finished trial#113 with value: 0.2959731590434039 with parameters: {'max_bin': 443, 'learning_rate': 0.02418549405515181, 'lambda_l2': 0.29606042242739805, 'num_leaves': 61, 'max_depth': 14, 'feature_fraction': 0.9685323576452157, 'bagging_fraction': 0.9763815474237546, 'bagging_freq': 18, 'min_child_samples': 1}. Best is trial#102 with value: 0.29044908556826327.\n",
      "[I 2020-05-25 00:30:30,352] Finished trial#114 with value: 0.2967074199125927 with parameters: {'max_bin': 481, 'learning_rate': 0.024354187998517202, 'lambda_l2': 0.2847373335751961, 'num_leaves': 74, 'max_depth': 13, 'feature_fraction': 0.9692034866310372, 'bagging_fraction': 0.9819674470948241, 'bagging_freq': 18, 'min_child_samples': 1}. Best is trial#102 with value: 0.29044908556826327.\n",
      "[I 2020-05-25 00:31:56,057] Finished trial#115 with value: 0.29519168655054295 with parameters: {'max_bin': 481, 'learning_rate': 0.024714483806411558, 'lambda_l2': 0.2252413232357468, 'num_leaves': 55, 'max_depth': 13, 'feature_fraction': 0.9663244784572925, 'bagging_fraction': 0.9623257888083839, 'bagging_freq': 19, 'min_child_samples': 1}. Best is trial#102 with value: 0.29044908556826327.\n",
      "[I 2020-05-25 00:33:14,900] Finished trial#116 with value: 0.3111627686374646 with parameters: {'max_bin': 481, 'learning_rate': 0.024698357924385142, 'lambda_l2': 0.2159484679581756, 'num_leaves': 61, 'max_depth': 12, 'feature_fraction': 0.9683360030694211, 'bagging_fraction': 0.9609932221852956, 'bagging_freq': 19, 'min_child_samples': 1}. Best is trial#102 with value: 0.29044908556826327.\n",
      "[I 2020-05-25 00:33:42,495] Finished trial#117 with value: 0.3257347465672149 with parameters: {'max_bin': 482, 'learning_rate': 0.026415452225495947, 'lambda_l2': 0.14132334445786704, 'num_leaves': 47, 'max_depth': 13, 'feature_fraction': 0.9793710704536949, 'bagging_fraction': 0.9999738491444965, 'bagging_freq': 17, 'min_child_samples': 17}. Best is trial#102 with value: 0.29044908556826327.\n",
      "[I 2020-05-25 00:34:55,414] Finished trial#118 with value: 0.309366760221212 with parameters: {'max_bin': 512, 'learning_rate': 0.0236985753746481, 'lambda_l2': 0.2914639212821343, 'num_leaves': 64, 'max_depth': 12, 'feature_fraction': 0.9633868807270899, 'bagging_fraction': 0.9465391818044042, 'bagging_freq': 18, 'min_child_samples': 1}. Best is trial#102 with value: 0.29044908556826327.\n",
      "[I 2020-05-25 00:36:15,027] Finished trial#119 with value: 0.29931982596411366 with parameters: {'max_bin': 474, 'learning_rate': 0.027883338001082312, 'lambda_l2': 0.1650413113395857, 'num_leaves': 73, 'max_depth': 13, 'feature_fraction': 0.9343817665743519, 'bagging_fraction': 0.9643302402179779, 'bagging_freq': 19, 'min_child_samples': 1}. Best is trial#102 with value: 0.29044908556826327.\n"
     ]
    },
    {
     "name": "stderr",
     "output_type": "stream",
     "text": [
      "[I 2020-05-25 00:37:18,154] Finished trial#120 with value: 0.3042081801125457 with parameters: {'max_bin': 472, 'learning_rate': 0.024806097423563135, 'lambda_l2': 0.23039497254356645, 'num_leaves': 57, 'max_depth': 14, 'feature_fraction': 0.9991034029070316, 'bagging_fraction': 0.9139063610400604, 'bagging_freq': 18, 'min_child_samples': 3}. Best is trial#102 with value: 0.29044908556826327.\n",
      "[I 2020-05-25 00:38:26,073] Finished trial#121 with value: 0.30320348501449457 with parameters: {'max_bin': 461, 'learning_rate': 0.021266904434205453, 'lambda_l2': 0.3375881111775521, 'num_leaves': 55, 'max_depth': 13, 'feature_fraction': 0.9889118555041727, 'bagging_fraction': 0.988527950569268, 'bagging_freq': 20, 'min_child_samples': 2}. Best is trial#102 with value: 0.29044908556826327.\n",
      "[I 2020-05-25 00:39:41,685] Finished trial#122 with value: 0.29636252475121416 with parameters: {'max_bin': 443, 'learning_rate': 0.02330386962231239, 'lambda_l2': 0.29701364972875705, 'num_leaves': 68, 'max_depth': 14, 'feature_fraction': 0.9304672191921385, 'bagging_fraction': 0.9322426495849631, 'bagging_freq': 17, 'min_child_samples': 2}. Best is trial#102 with value: 0.29044908556826327.\n",
      "[I 2020-05-25 00:41:13,770] Finished trial#123 with value: 0.29660582155540993 with parameters: {'max_bin': 491, 'learning_rate': 0.023006188052007867, 'lambda_l2': 0.3924469913385642, 'num_leaves': 69, 'max_depth': 14, 'feature_fraction': 0.9584728807509895, 'bagging_fraction': 0.9304891372656495, 'bagging_freq': 18, 'min_child_samples': 1}. Best is trial#102 with value: 0.29044908556826327.\n",
      "[I 2020-05-25 00:42:32,629] Finished trial#124 with value: 0.31340260423359967 with parameters: {'max_bin': 492, 'learning_rate': 0.0232934763277954, 'lambda_l2': 0.20295299779946654, 'num_leaves': 79, 'max_depth': 14, 'feature_fraction': 0.9540896685087067, 'bagging_fraction': 0.9003635584369497, 'bagging_freq': 17, 'min_child_samples': 2}. Best is trial#102 with value: 0.29044908556826327.\n",
      "[I 2020-05-25 00:43:43,582] Finished trial#125 with value: 0.30415443506757894 with parameters: {'max_bin': 497, 'learning_rate': 0.02639119287351807, 'lambda_l2': 0.39176525972793935, 'num_leaves': 64, 'max_depth': 13, 'feature_fraction': 0.9301190845749696, 'bagging_fraction': 0.9314398728450513, 'bagging_freq': 18, 'min_child_samples': 1}. Best is trial#102 with value: 0.29044908556826327.\n",
      "[I 2020-05-25 00:44:57,303] Finished trial#126 with value: 0.30864463912525997 with parameters: {'max_bin': 506, 'learning_rate': 0.028602897617893246, 'lambda_l2': 0.30445881748280823, 'num_leaves': 70, 'max_depth': 14, 'feature_fraction': 0.9069261171732359, 'bagging_fraction': 0.9272001675402727, 'bagging_freq': 17, 'min_child_samples': 1}. Best is trial#102 with value: 0.29044908556826327.\n",
      "[I 2020-05-25 00:46:02,658] Finished trial#127 with value: 0.3033606858691742 with parameters: {'max_bin': 486, 'learning_rate': 0.024516658253067244, 'lambda_l2': 0.2483419180154733, 'num_leaves': 82, 'max_depth': 14, 'feature_fraction': 0.9796795791039102, 'bagging_fraction': 0.9417044294580164, 'bagging_freq': 19, 'min_child_samples': 3}. Best is trial#102 with value: 0.29044908556826327.\n",
      "[I 2020-05-25 00:47:12,042] Finished trial#128 with value: 0.31343013538197106 with parameters: {'max_bin': 479, 'learning_rate': 0.02017173473880748, 'lambda_l2': 0.18874342673905348, 'num_leaves': 45, 'max_depth': 15, 'feature_fraction': 0.9621969274718793, 'bagging_fraction': 0.956553904499183, 'bagging_freq': 19, 'min_child_samples': 2}. Best is trial#102 with value: 0.29044908556826327.\n",
      "[I 2020-05-25 00:48:29,466] Finished trial#129 with value: 0.3146615862791558 with parameters: {'max_bin': 500, 'learning_rate': 0.02302442586984803, 'lambda_l2': 0.390234829864467, 'num_leaves': 59, 'max_depth': 16, 'feature_fraction': 0.9392842629083588, 'bagging_fraction': 0.9084579000173124, 'bagging_freq': 18, 'min_child_samples': 1}. Best is trial#102 with value: 0.29044908556826327.\n",
      "[I 2020-05-25 00:49:30,540] Finished trial#130 with value: 0.3073348927612763 with parameters: {'max_bin': 492, 'learning_rate': 0.025747001313755492, 'lambda_l2': 0.26824395284403435, 'num_leaves': 51, 'max_depth': 15, 'feature_fraction': 0.951423265273941, 'bagging_fraction': 0.9457174932839179, 'bagging_freq': 16, 'min_child_samples': 2}. Best is trial#102 with value: 0.29044908556826327.\n",
      "[I 2020-05-25 00:50:56,904] Finished trial#131 with value: 0.29484671544922086 with parameters: {'max_bin': 430, 'learning_rate': 0.018429254008401303, 'lambda_l2': 0.4321774230332001, 'num_leaves': 67, 'max_depth': 14, 'feature_fraction': 0.918748885675656, 'bagging_fraction': 0.9312255546967096, 'bagging_freq': 18, 'min_child_samples': 1}. Best is trial#102 with value: 0.29044908556826327.\n",
      "[I 2020-05-25 00:52:24,995] Finished trial#132 with value: 0.29629489715606877 with parameters: {'max_bin': 428, 'learning_rate': 0.01778913594536309, 'lambda_l2': 0.3252462765938479, 'num_leaves': 68, 'max_depth': 14, 'feature_fraction': 0.9182581577565779, 'bagging_fraction': 0.935547929601161, 'bagging_freq': 18, 'min_child_samples': 1}. Best is trial#102 with value: 0.29044908556826327.\n",
      "[I 2020-05-25 00:53:39,355] Finished trial#133 with value: 0.29566054674282405 with parameters: {'max_bin': 428, 'learning_rate': 0.018309548340584347, 'lambda_l2': 0.3364153134941439, 'num_leaves': 69, 'max_depth': 13, 'feature_fraction': 0.9152418892755919, 'bagging_fraction': 0.9304740548321484, 'bagging_freq': 18, 'min_child_samples': 2}. Best is trial#102 with value: 0.29044908556826327.\n",
      "[I 2020-05-25 00:55:04,938] Finished trial#134 with value: 0.29292268089771445 with parameters: {'max_bin': 430, 'learning_rate': 0.018515754050827848, 'lambda_l2': 0.30234839454163653, 'num_leaves': 70, 'max_depth': 12, 'feature_fraction': 0.9219785027086159, 'bagging_fraction': 0.9296559882430331, 'bagging_freq': 18, 'min_child_samples': 1}. Best is trial#102 with value: 0.29044908556826327.\n",
      "[I 2020-05-25 00:56:40,083] Finished trial#135 with value: 0.29841672368475414 with parameters: {'max_bin': 432, 'learning_rate': 0.01824566102667142, 'lambda_l2': 0.14187228197522417, 'num_leaves': 69, 'max_depth': 12, 'feature_fraction': 0.9131596373277483, 'bagging_fraction': 0.9234607656204467, 'bagging_freq': 18, 'min_child_samples': 1}. Best is trial#102 with value: 0.29044908556826327.\n",
      "[I 2020-05-25 00:58:12,336] Finished trial#136 with value: 0.29853538214866593 with parameters: {'max_bin': 419, 'learning_rate': 0.019731510505841578, 'lambda_l2': 0.2897064246574311, 'num_leaves': 78, 'max_depth': 11, 'feature_fraction': 0.8990227834528355, 'bagging_fraction': 0.9347029955872715, 'bagging_freq': 19, 'min_child_samples': 1}. Best is trial#102 with value: 0.29044908556826327.\n",
      "[I 2020-05-25 00:59:43,620] Finished trial#137 with value: 0.30922699932211434 with parameters: {'max_bin': 429, 'learning_rate': 0.018625343015543354, 'lambda_l2': 0.23319734951048432, 'num_leaves': 66, 'max_depth': 13, 'feature_fraction': 0.9149292808171346, 'bagging_fraction': 0.9142382079094726, 'bagging_freq': 17, 'min_child_samples': 1}. Best is trial#102 with value: 0.29044908556826327.\n",
      "[I 2020-05-25 01:01:08,280] Finished trial#138 with value: 0.3130923243557415 with parameters: {'max_bin': 403, 'learning_rate': 0.017467374317893886, 'lambda_l2': 0.43465870892893926, 'num_leaves': 75, 'max_depth': 12, 'feature_fraction': 0.9272740486247921, 'bagging_fraction': 0.8979897289166779, 'bagging_freq': 18, 'min_child_samples': 2}. Best is trial#102 with value: 0.29044908556826327.\n",
      "[I 2020-05-25 01:02:45,403] Finished trial#139 with value: 0.29656332635095656 with parameters: {'max_bin': 435, 'learning_rate': 0.020825199828562145, 'lambda_l2': 0.329358595307718, 'num_leaves': 68, 'max_depth': 13, 'feature_fraction': 0.9410232565422083, 'bagging_fraction': 0.9415451788931175, 'bagging_freq': 18, 'min_child_samples': 1}. Best is trial#102 with value: 0.29044908556826327.\n"
     ]
    },
    {
     "name": "stderr",
     "output_type": "stream",
     "text": [
      "[I 2020-05-25 01:04:21,392] Finished trial#140 with value: 0.2949202063180709 with parameters: {'max_bin': 425, 'learning_rate': 0.019232511069494633, 'lambda_l2': 0.16086401115310486, 'num_leaves': 67, 'max_depth': 13, 'feature_fraction': 0.9414529516928263, 'bagging_fraction': 0.9441629463464484, 'bagging_freq': 17, 'min_child_samples': 1}. Best is trial#102 with value: 0.29044908556826327.\n",
      "[I 2020-05-25 01:06:05,395] Finished trial#141 with value: 0.2861337627740976 with parameters: {'max_bin': 425, 'learning_rate': 0.01920571467854216, 'lambda_l2': 0.12181324242182033, 'num_leaves': 87, 'max_depth': 13, 'feature_fraction': 0.9428952317404542, 'bagging_fraction': 0.9370069087173565, 'bagging_freq': 17, 'min_child_samples': 1}. Best is trial#141 with value: 0.2861337627740976.\n",
      "[I 2020-05-25 01:07:32,578] Finished trial#142 with value: 0.2876560437409632 with parameters: {'max_bin': 426, 'learning_rate': 0.019269609194563022, 'lambda_l2': 0.12045579032466636, 'num_leaves': 68, 'max_depth': 12, 'feature_fraction': 0.941576114889227, 'bagging_fraction': 0.9385489499581817, 'bagging_freq': 17, 'min_child_samples': 1}. Best is trial#141 with value: 0.2861337627740976.\n",
      "[I 2020-05-25 01:08:44,265] Finished trial#143 with value: 0.29463769393542016 with parameters: {'max_bin': 425, 'learning_rate': 0.017778824241047986, 'lambda_l2': 0.09783141367262803, 'num_leaves': 54, 'max_depth': 12, 'feature_fraction': 0.9424825451671446, 'bagging_fraction': 0.9387645965354753, 'bagging_freq': 17, 'min_child_samples': 2}. Best is trial#141 with value: 0.2861337627740976.\n",
      "[I 2020-05-25 01:09:54,025] Finished trial#144 with value: 0.3026508548296348 with parameters: {'max_bin': 426, 'learning_rate': 0.018103786534431614, 'lambda_l2': 0.09149494334264782, 'num_leaves': 53, 'max_depth': 12, 'feature_fraction': 0.9347006463142655, 'bagging_fraction': 0.9207788886704454, 'bagging_freq': 17, 'min_child_samples': 2}. Best is trial#141 with value: 0.2861337627740976.\n",
      "[I 2020-05-25 01:10:53,116] Finished trial#145 with value: 0.3093102439041526 with parameters: {'max_bin': 417, 'learning_rate': 0.015592221733081396, 'lambda_l2': 0.11550485381229587, 'num_leaves': 38, 'max_depth': 11, 'feature_fraction': 0.9475507250178397, 'bagging_fraction': 0.9380484338163572, 'bagging_freq': 16, 'min_child_samples': 3}. Best is trial#141 with value: 0.2861337627740976.\n",
      "[I 2020-05-25 01:12:12,054] Finished trial#146 with value: 0.31361564688668325 with parameters: {'max_bin': 442, 'learning_rate': 0.017585496391001022, 'lambda_l2': 0.11703002811146662, 'num_leaves': 89, 'max_depth': 11, 'feature_fraction': 0.9202533790647026, 'bagging_fraction': 0.9519035012676351, 'bagging_freq': 17, 'min_child_samples': 2}. Best is trial#141 with value: 0.2861337627740976.\n",
      "[I 2020-05-25 01:13:30,938] Finished trial#147 with value: 0.3006181211112851 with parameters: {'max_bin': 410, 'learning_rate': 0.01923964699684488, 'lambda_l2': 0.07045184092017276, 'num_leaves': 62, 'max_depth': 12, 'feature_fraction': 0.9086021154720076, 'bagging_fraction': 0.9173924064222116, 'bagging_freq': 16, 'min_child_samples': 2}. Best is trial#141 with value: 0.2861337627740976.\n",
      "[I 2020-05-25 01:14:56,811] Finished trial#148 with value: 0.2957350230229603 with parameters: {'max_bin': 425, 'learning_rate': 0.01650771832159073, 'lambda_l2': 0.15423082983018296, 'num_leaves': 58, 'max_depth': 13, 'feature_fraction': 0.8870369746426524, 'bagging_fraction': 0.9629231863671597, 'bagging_freq': 17, 'min_child_samples': 1}. Best is trial#141 with value: 0.2861337627740976.\n",
      "[I 2020-05-25 01:16:40,398] Finished trial#149 with value: 0.3032677951962222 with parameters: {'max_bin': 416, 'learning_rate': 0.0166571761208296, 'lambda_l2': 0.16311854195482625, 'num_leaves': 104, 'max_depth': 13, 'feature_fraction': 0.8895257778356558, 'bagging_fraction': 0.9654721870977159, 'bagging_freq': 17, 'min_child_samples': 1}. Best is trial#141 with value: 0.2861337627740976.\n",
      "[I 2020-05-25 01:18:05,528] Finished trial#150 with value: 0.2917103333870596 with parameters: {'max_bin': 428, 'learning_rate': 0.01632311545802489, 'lambda_l2': 0.051348111021683795, 'num_leaves': 58, 'max_depth': 12, 'feature_fraction': 0.9435373522140306, 'bagging_fraction': 0.9477529721283529, 'bagging_freq': 17, 'min_child_samples': 1}. Best is trial#141 with value: 0.2861337627740976.\n",
      "[I 2020-05-25 01:19:35,218] Finished trial#151 with value: 0.2987424031067989 with parameters: {'max_bin': 425, 'learning_rate': 0.01420447322905165, 'lambda_l2': 0.05819882123662084, 'num_leaves': 58, 'max_depth': 12, 'feature_fraction': 0.9464953436485974, 'bagging_fraction': 0.947928874873775, 'bagging_freq': 17, 'min_child_samples': 1}. Best is trial#141 with value: 0.2861337627740976.\n",
      "[I 2020-05-25 01:20:51,432] Finished trial#152 with value: 0.3111850573641948 with parameters: {'max_bin': 427, 'learning_rate': 0.016348983147591718, 'lambda_l2': 0.024701675327020976, 'num_leaves': 48, 'max_depth': 12, 'feature_fraction': 0.92034581125322, 'bagging_fraction': 0.9603648479254465, 'bagging_freq': 16, 'min_child_samples': 1}. Best is trial#141 with value: 0.2861337627740976.\n",
      "[I 2020-05-25 01:22:10,096] Finished trial#153 with value: 0.29568264941897704 with parameters: {'max_bin': 422, 'learning_rate': 0.01719184115408507, 'lambda_l2': 0.07771525119114027, 'num_leaves': 54, 'max_depth': 11, 'feature_fraction': 0.939209266808658, 'bagging_fraction': 0.9438315901006035, 'bagging_freq': 17, 'min_child_samples': 1}. Best is trial#141 with value: 0.2861337627740976.\n",
      "[I 2020-05-25 01:22:52,315] Finished trial#154 with value: 0.3255484234558893 with parameters: {'max_bin': 405, 'learning_rate': 0.015511555821404387, 'lambda_l2': 0.041820375837478045, 'num_leaves': 44, 'max_depth': 11, 'feature_fraction': 0.9389150755333123, 'bagging_fraction': 0.9697140335007727, 'bagging_freq': 17, 'min_child_samples': 12}. Best is trial#141 with value: 0.2861337627740976.\n",
      "[I 2020-05-25 01:23:40,348] Finished trial#155 with value: 0.33228273972388706 with parameters: {'max_bin': 422, 'learning_rate': 0.018871263855347403, 'lambda_l2': 0.08426615060519944, 'num_leaves': 54, 'max_depth': 10, 'feature_fraction': 0.9575463118483626, 'bagging_fraction': 0.9533983658842249, 'bagging_freq': 16, 'min_child_samples': 7}. Best is trial#141 with value: 0.2861337627740976.\n",
      "[I 2020-05-25 01:25:04,239] Finished trial#156 with value: 0.2944783126810131 with parameters: {'max_bin': 433, 'learning_rate': 0.017118248093915964, 'lambda_l2': 0.10115140573234514, 'num_leaves': 61, 'max_depth': 10, 'feature_fraction': 0.9752126086104165, 'bagging_fraction': 0.9435440266279024, 'bagging_freq': 17, 'min_child_samples': 1}. Best is trial#141 with value: 0.2861337627740976.\n",
      "[I 2020-05-25 01:26:13,505] Finished trial#157 with value: 0.30908720031046233 with parameters: {'max_bin': 431, 'learning_rate': 0.01703795789213418, 'lambda_l2': 0.04651502029813401, 'num_leaves': 51, 'max_depth': 10, 'feature_fraction': 0.9857855398963908, 'bagging_fraction': 0.9450832662661706, 'bagging_freq': 17, 'min_child_samples': 2}. Best is trial#141 with value: 0.2861337627740976.\n",
      "[I 2020-05-25 01:27:45,054] Finished trial#158 with value: 0.30587058311682014 with parameters: {'max_bin': 438, 'learning_rate': 0.013776438282094182, 'lambda_l2': 0.09973848357576223, 'num_leaves': 58, 'max_depth': 11, 'feature_fraction': 0.9424936733681547, 'bagging_fraction': 0.9201093641672989, 'bagging_freq': 17, 'min_child_samples': 1}. Best is trial#141 with value: 0.2861337627740976.\n",
      "[I 2020-05-25 01:29:13,581] Finished trial#159 with value: 0.30491831878139847 with parameters: {'max_bin': 391, 'learning_rate': 0.014863648632312008, 'lambda_l2': 0.13153443017102984, 'num_leaves': 64, 'max_depth': 12, 'feature_fraction': 0.8925480605598631, 'bagging_fraction': 0.9057496101495258, 'bagging_freq': 17, 'min_child_samples': 2}. Best is trial#141 with value: 0.2861337627740976.\n"
     ]
    },
    {
     "name": "stderr",
     "output_type": "stream",
     "text": [
      "[I 2020-05-25 01:30:36,159] Finished trial#160 with value: 0.3037741354983875 with parameters: {'max_bin': 413, 'learning_rate': 0.016225689712916234, 'lambda_l2': 0.0765291198802371, 'num_leaves': 60, 'max_depth': 10, 'feature_fraction': 0.932206063995315, 'bagging_fraction': 0.9584352823108778, 'bagging_freq': 16, 'min_child_samples': 1}. Best is trial#141 with value: 0.2861337627740976.\n",
      "[I 2020-05-25 01:32:00,638] Finished trial#161 with value: 0.2942213349813315 with parameters: {'max_bin': 420, 'learning_rate': 0.01850035068416667, 'lambda_l2': 0.15878344716975232, 'num_leaves': 55, 'max_depth': 13, 'feature_fraction': 0.9696732070760695, 'bagging_fraction': 0.9419497030123938, 'bagging_freq': 17, 'min_child_samples': 1}. Best is trial#141 with value: 0.2861337627740976.\n",
      "[I 2020-05-25 01:33:26,194] Finished trial#162 with value: 0.29336067831903173 with parameters: {'max_bin': 422, 'learning_rate': 0.01855548500413693, 'lambda_l2': 0.10731281916067367, 'num_leaves': 55, 'max_depth': 13, 'feature_fraction': 0.9738816716971718, 'bagging_fraction': 0.9415451275977911, 'bagging_freq': 17, 'min_child_samples': 1}. Best is trial#141 with value: 0.2861337627740976.\n",
      "[I 2020-05-25 01:34:31,945] Finished trial#163 with value: 0.3128487247131579 with parameters: {'max_bin': 434, 'learning_rate': 0.01852309141205246, 'lambda_l2': 0.10858290810097401, 'num_leaves': 55, 'max_depth': 9, 'feature_fraction': 0.9786340920069542, 'bagging_fraction': 0.9281612501639085, 'bagging_freq': 17, 'min_child_samples': 1}. Best is trial#141 with value: 0.2861337627740976.\n",
      "[I 2020-05-25 01:35:35,219] Finished trial#164 with value: 0.30518385295301537 with parameters: {'max_bin': 380, 'learning_rate': 0.01951898123069357, 'lambda_l2': 0.09842818569713191, 'num_leaves': 41, 'max_depth': 12, 'feature_fraction': 0.970932347417752, 'bagging_fraction': 0.9444585179882083, 'bagging_freq': 17, 'min_child_samples': 2}. Best is trial#141 with value: 0.2861337627740976.\n",
      "[I 2020-05-25 01:37:00,904] Finished trial#165 with value: 0.309497458552536 with parameters: {'max_bin': 420, 'learning_rate': 0.017778376780495035, 'lambda_l2': 0.12503309150804184, 'num_leaves': 48, 'max_depth': 13, 'feature_fraction': 0.9578344808093426, 'bagging_fraction': 0.9371992052209811, 'bagging_freq': 16, 'min_child_samples': 1}. Best is trial#141 with value: 0.2861337627740976.\n",
      "[I 2020-05-25 01:38:24,976] Finished trial#166 with value: 0.28818782795264236 with parameters: {'max_bin': 415, 'learning_rate': 0.019892424258041035, 'lambda_l2': 0.07905817777933666, 'num_leaves': 65, 'max_depth': 12, 'feature_fraction': 0.9493274222754495, 'bagging_fraction': 0.9286090883365035, 'bagging_freq': 18, 'min_child_samples': 1}. Best is trial#141 with value: 0.2861337627740976.\n",
      "[I 2020-05-25 01:39:49,012] Finished trial#167 with value: 0.2974373119321489 with parameters: {'max_bin': 410, 'learning_rate': 0.019621611858902033, 'lambda_l2': 0.06128382640785657, 'num_leaves': 65, 'max_depth': 13, 'feature_fraction': 0.9963342381135692, 'bagging_fraction': 0.9259244818441528, 'bagging_freq': 19, 'min_child_samples': 2}. Best is trial#141 with value: 0.2861337627740976.\n",
      "[I 2020-05-25 01:40:40,148] Finished trial#168 with value: 0.30713963946012235 with parameters: {'max_bin': 415, 'learning_rate': 0.01841670795331594, 'lambda_l2': 0.16888941668143156, 'num_leaves': 63, 'max_depth': 8, 'feature_fraction': 0.9530424130944758, 'bagging_fraction': 0.8918906434220576, 'bagging_freq': 18, 'min_child_samples': 2}. Best is trial#141 with value: 0.2861337627740976.\n",
      "[I 2020-05-25 01:42:10,181] Finished trial#169 with value: 0.3047326352734044 with parameters: {'max_bin': 432, 'learning_rate': 0.02021347054808635, 'lambda_l2': 0.09819984605080752, 'num_leaves': 72, 'max_depth': 12, 'feature_fraction': 0.9703772310854575, 'bagging_fraction': 0.914849117910662, 'bagging_freq': 18, 'min_child_samples': 1}. Best is trial#141 with value: 0.2861337627740976.\n",
      "[I 2020-05-25 01:43:40,731] Finished trial#170 with value: 0.2995403277170113 with parameters: {'max_bin': 419, 'learning_rate': 0.018990712560767283, 'lambda_l2': 0.19285213968584666, 'num_leaves': 77, 'max_depth': 13, 'feature_fraction': 0.9626582729429503, 'bagging_fraction': 0.9521861443479192, 'bagging_freq': 19, 'min_child_samples': 1}. Best is trial#141 with value: 0.2861337627740976.\n",
      "[I 2020-05-25 01:44:59,070] Finished trial#171 with value: 0.290630896023729 with parameters: {'max_bin': 398, 'learning_rate': 0.018037496884477124, 'lambda_l2': 0.07288657596638273, 'num_leaves': 53, 'max_depth': 12, 'feature_fraction': 0.9476241893769305, 'bagging_fraction': 0.9389286147439434, 'bagging_freq': 17, 'min_child_samples': 1}. Best is trial#141 with value: 0.2861337627740976.\n",
      "[I 2020-05-25 01:46:26,106] Finished trial#172 with value: 0.29237492314597596 with parameters: {'max_bin': 408, 'learning_rate': 0.01737514055641045, 'lambda_l2': 0.03587060094607492, 'num_leaves': 57, 'max_depth': 12, 'feature_fraction': 0.9478721396099453, 'bagging_fraction': 0.9324440108666068, 'bagging_freq': 18, 'min_child_samples': 1}. Best is trial#141 with value: 0.2861337627740976.\n",
      "[I 2020-05-25 01:47:49,762] Finished trial#173 with value: 0.2839551976103037 with parameters: {'max_bin': 396, 'learning_rate': 0.017224053067668787, 'lambda_l2': 0.05294964753787996, 'num_leaves': 51, 'max_depth': 12, 'feature_fraction': 0.9453174735538346, 'bagging_fraction': 0.9381613069129366, 'bagging_freq': 17, 'min_child_samples': 1}. Best is trial#173 with value: 0.2839551976103037.\n",
      "[I 2020-05-25 01:49:14,117] Finished trial#174 with value: 0.28931666731483974 with parameters: {'max_bin': 401, 'learning_rate': 0.01742945296103092, 'lambda_l2': 0.030491111085912143, 'num_leaves': 51, 'max_depth': 12, 'feature_fraction': 0.9509302143630934, 'bagging_fraction': 0.9370501305654034, 'bagging_freq': 17, 'min_child_samples': 1}. Best is trial#173 with value: 0.2839551976103037.\n",
      "[I 2020-05-25 01:50:35,184] Finished trial#175 with value: 0.30586737321050567 with parameters: {'max_bin': 397, 'learning_rate': 0.017106221038544027, 'lambda_l2': 0.03425551784511939, 'num_leaves': 50, 'max_depth': 12, 'feature_fraction': 0.9480870800732907, 'bagging_fraction': 0.9063609489837506, 'bagging_freq': 16, 'min_child_samples': 1}. Best is trial#173 with value: 0.2839551976103037.\n",
      "[I 2020-05-25 01:51:57,574] Finished trial#176 with value: 0.2958687957049479 with parameters: {'max_bin': 405, 'learning_rate': 0.015708024987201016, 'lambda_l2': 0.05219239775007418, 'num_leaves': 41, 'max_depth': 12, 'feature_fraction': 0.9840286065436705, 'bagging_fraction': 0.9229822108314422, 'bagging_freq': 17, 'min_child_samples': 1}. Best is trial#173 with value: 0.2839551976103037.\n",
      "[I 2020-05-25 01:53:17,778] Finished trial#177 with value: 0.29119624148058615 with parameters: {'max_bin': 398, 'learning_rate': 0.017465497766711576, 'lambda_l2': 0.017096976165948043, 'num_leaves': 50, 'max_depth': 12, 'feature_fraction': 0.9473661316469133, 'bagging_fraction': 0.934737516788114, 'bagging_freq': 17, 'min_child_samples': 1}. Best is trial#173 with value: 0.2839551976103037.\n",
      "[I 2020-05-25 01:54:26,651] Finished trial#178 with value: 0.313344283662885 with parameters: {'max_bin': 399, 'learning_rate': 0.017522226517730166, 'lambda_l2': 0.018294624025248764, 'num_leaves': 46, 'max_depth': 12, 'feature_fraction': 0.9538048405289532, 'bagging_fraction': 0.9289904054267651, 'bagging_freq': 16, 'min_child_samples': 2}. Best is trial#173 with value: 0.2839551976103037.\n",
      "[I 2020-05-25 01:55:53,744] Finished trial#179 with value: 0.29205507274193554 with parameters: {'max_bin': 392, 'learning_rate': 0.016307140446745125, 'lambda_l2': 0.02805144225134034, 'num_leaves': 51, 'max_depth': 11, 'feature_fraction': 0.9755790301126481, 'bagging_fraction': 0.9332593255213846, 'bagging_freq': 17, 'min_child_samples': 1}. Best is trial#173 with value: 0.2839551976103037.\n"
     ]
    },
    {
     "name": "stderr",
     "output_type": "stream",
     "text": [
      "[I 2020-05-25 01:57:29,930] Finished trial#180 with value: 0.29937574264417777 with parameters: {'max_bin': 392, 'learning_rate': 0.015147088086382293, 'lambda_l2': 0.030908435080554908, 'num_leaves': 51, 'max_depth': 11, 'feature_fraction': 0.9734772962948143, 'bagging_fraction': 0.9152742936341961, 'bagging_freq': 17, 'min_child_samples': 1}. Best is trial#173 with value: 0.2839551976103037.\n",
      "[I 2020-05-25 01:59:02,588] Finished trial#181 with value: 0.29967916578310444 with parameters: {'max_bin': 389, 'learning_rate': 0.01617881516757959, 'lambda_l2': 0.04232479527967534, 'num_leaves': 52, 'max_depth': 12, 'feature_fraction': 0.9573977762399376, 'bagging_fraction': 0.9341316584461564, 'bagging_freq': 17, 'min_child_samples': 1}. Best is trial#173 with value: 0.2839551976103037.\n",
      "[I 2020-05-25 02:00:17,715] Finished trial#182 with value: 0.29787467705547366 with parameters: {'max_bin': 382, 'learning_rate': 0.017861698035685592, 'lambda_l2': 0.03586535517532083, 'num_leaves': 42, 'max_depth': 11, 'feature_fraction': 0.947164141945663, 'bagging_fraction': 0.9321556775447084, 'bagging_freq': 17, 'min_child_samples': 1}. Best is trial#173 with value: 0.2839551976103037.\n",
      "[I 2020-05-25 02:01:50,435] Finished trial#183 with value: 0.29074245695204637 with parameters: {'max_bin': 407, 'learning_rate': 0.017021978594696997, 'lambda_l2': 0.02465447308060984, 'num_leaves': 58, 'max_depth': 11, 'feature_fraction': 0.991106929591088, 'bagging_fraction': 0.9418581673522326, 'bagging_freq': 17, 'min_child_samples': 1}. Best is trial#173 with value: 0.2839551976103037.\n",
      "[I 2020-05-25 02:03:14,523] Finished trial#184 with value: 0.2939403093804364 with parameters: {'max_bin': 407, 'learning_rate': 0.017049428275207536, 'lambda_l2': 0.02110928479056619, 'num_leaves': 56, 'max_depth': 11, 'feature_fraction': 0.9876350572212588, 'bagging_fraction': 0.9388787593627234, 'bagging_freq': 16, 'min_child_samples': 1}. Best is trial#173 with value: 0.2839551976103037.\n",
      "[I 2020-05-25 02:04:40,901] Finished trial#185 with value: 0.30482565955165647 with parameters: {'max_bin': 395, 'learning_rate': 0.01677311899607171, 'lambda_l2': 0.02361306917755109, 'num_leaves': 57, 'max_depth': 10, 'feature_fraction': 0.9931985724979642, 'bagging_fraction': 0.9530598388940752, 'bagging_freq': 16, 'min_child_samples': 1}. Best is trial#173 with value: 0.2839551976103037.\n",
      "[I 2020-05-25 02:05:55,472] Finished trial#186 with value: 0.3014380752046269 with parameters: {'max_bin': 407, 'learning_rate': 0.01579505772022355, 'lambda_l2': 0.014670350409142874, 'num_leaves': 49, 'max_depth': 11, 'feature_fraction': 0.9988566222302212, 'bagging_fraction': 0.9230139782020134, 'bagging_freq': 17, 'min_child_samples': 2}. Best is trial#173 with value: 0.2839551976103037.\n",
      "[I 2020-05-25 02:07:25,789] Finished trial#187 with value: 0.29779297947891437 with parameters: {'max_bin': 401, 'learning_rate': 0.01703907531929305, 'lambda_l2': 0.020083923461367136, 'num_leaves': 61, 'max_depth': 9, 'feature_fraction': 0.984501581785099, 'bagging_fraction': 0.6905124200474348, 'bagging_freq': 16, 'min_child_samples': 1}. Best is trial#173 with value: 0.2839551976103037.\n",
      "[I 2020-05-25 02:08:57,087] Finished trial#188 with value: 0.31343551196011515 with parameters: {'max_bin': 384, 'learning_rate': 0.01502553762446823, 'lambda_l2': 0.012143321793948626, 'num_leaves': 57, 'max_depth': 11, 'feature_fraction': 0.9762449549025756, 'bagging_fraction': 0.9113265721551279, 'bagging_freq': 17, 'min_child_samples': 1}. Best is trial#173 with value: 0.2839551976103037.\n",
      "[I 2020-05-25 02:10:17,456] Finished trial#189 with value: 0.3074348221341628 with parameters: {'max_bin': 409, 'learning_rate': 0.01654828251764082, 'lambda_l2': 0.009800798869714045, 'num_leaves': 61, 'max_depth': 10, 'feature_fraction': 0.9646767253075664, 'bagging_fraction': 0.9400674634287768, 'bagging_freq': 18, 'min_child_samples': 1}. Best is trial#173 with value: 0.2839551976103037.\n",
      "[I 2020-05-25 02:11:26,964] Finished trial#190 with value: 0.29643056098334175 with parameters: {'max_bin': 399, 'learning_rate': 0.018806214936997034, 'lambda_l2': 0.01703035426132021, 'num_leaves': 51, 'max_depth': 11, 'feature_fraction': 0.9848658102277474, 'bagging_fraction': 0.9525582452299384, 'bagging_freq': 17, 'min_child_samples': 2}. Best is trial#173 with value: 0.2839551976103037.\n",
      "[I 2020-05-25 02:12:42,805] Finished trial#191 with value: 0.2856469704552046 with parameters: {'max_bin': 405, 'learning_rate': 0.017345980721245106, 'lambda_l2': 0.024111771357662196, 'num_leaves': 54, 'max_depth': 12, 'feature_fraction': 0.958986632090397, 'bagging_fraction': 0.9419222647026706, 'bagging_freq': 17, 'min_child_samples': 1}. Best is trial#173 with value: 0.2839551976103037.\n",
      "[I 2020-05-25 02:14:01,348] Finished trial#192 with value: 0.2893928137768945 with parameters: {'max_bin': 402, 'learning_rate': 0.017132490518887076, 'lambda_l2': 0.028754982695091413, 'num_leaves': 55, 'max_depth': 12, 'feature_fraction': 0.9638012019959871, 'bagging_fraction': 0.9448867482750346, 'bagging_freq': 17, 'min_child_samples': 1}. Best is trial#173 with value: 0.2839551976103037.\n",
      "[I 2020-05-25 02:15:17,968] Finished trial#193 with value: 0.28644393620259456 with parameters: {'max_bin': 404, 'learning_rate': 0.0173536072109193, 'lambda_l2': 0.02827025795943156, 'num_leaves': 56, 'max_depth': 12, 'feature_fraction': 0.962690745169284, 'bagging_fraction': 0.9393653166543742, 'bagging_freq': 17, 'min_child_samples': 1}. Best is trial#173 with value: 0.2839551976103037.\n",
      "[I 2020-05-25 02:16:39,216] Finished trial#194 with value: 0.295950304411377 with parameters: {'max_bin': 406, 'learning_rate': 0.015716324125228023, 'lambda_l2': 0.03398130510396648, 'num_leaves': 45, 'max_depth': 12, 'feature_fraction': 0.9588235988778303, 'bagging_fraction': 0.9381890489043171, 'bagging_freq': 17, 'min_child_samples': 1}. Best is trial#173 with value: 0.2839551976103037.\n",
      "[I 2020-05-25 02:17:54,739] Finished trial#195 with value: 0.3030610978567781 with parameters: {'max_bin': 395, 'learning_rate': 0.01759241700987286, 'lambda_l2': 0.026149442691625748, 'num_leaves': 55, 'max_depth': 12, 'feature_fraction': 0.9659372725404807, 'bagging_fraction': 0.9203930481277725, 'bagging_freq': 16, 'min_child_samples': 2}. Best is trial#173 with value: 0.2839551976103037.\n",
      "[I 2020-05-25 02:19:21,193] Finished trial#196 with value: 0.3009653036798084 with parameters: {'max_bin': 402, 'learning_rate': 0.01648708201636835, 'lambda_l2': 0.021454372428625256, 'num_leaves': 48, 'max_depth': 11, 'feature_fraction': 0.9515096126874106, 'bagging_fraction': 0.9266987260062005, 'bagging_freq': 17, 'min_child_samples': 1}. Best is trial#173 with value: 0.2839551976103037.\n",
      "[I 2020-05-25 02:21:01,244] Finished trial#197 with value: 0.32133994672355737 with parameters: {'max_bin': 386, 'learning_rate': 0.014612052834335452, 'lambda_l2': 0.02900016204705995, 'num_leaves': 56, 'max_depth': 12, 'feature_fraction': 0.9611206422367422, 'bagging_fraction': 0.5715940939385376, 'bagging_freq': 16, 'min_child_samples': 1}. Best is trial#173 with value: 0.2839551976103037.\n",
      "[I 2020-05-25 02:22:13,235] Finished trial#198 with value: 0.3081805763981756 with parameters: {'max_bin': 412, 'learning_rate': 0.01803238903087582, 'lambda_l2': 0.027811358885121606, 'num_leaves': 36, 'max_depth': 11, 'feature_fraction': 0.9731079564904841, 'bagging_fraction': 0.9533044165749887, 'bagging_freq': 17, 'min_child_samples': 2}. Best is trial#173 with value: 0.2839551976103037.\n",
      "[I 2020-05-25 02:23:48,406] Finished trial#199 with value: 0.31257155361342404 with parameters: {'max_bin': 394, 'learning_rate': 0.019783642115118266, 'lambda_l2': 0.050383066060054514, 'num_leaves': 52, 'max_depth': 12, 'feature_fraction': 0.9920453347573469, 'bagging_fraction': 0.9380435024764238, 'bagging_freq': 18, 'min_child_samples': 1}. Best is trial#173 with value: 0.2839551976103037.\n"
     ]
    },
    {
     "name": "stderr",
     "output_type": "stream",
     "text": [
      "[I 2020-05-25 02:25:34,530] Finished trial#200 with value: 0.29174140073333366 with parameters: {'max_bin': 407, 'learning_rate': 0.01598436579531512, 'lambda_l2': 0.038576801331151836, 'num_leaves': 59, 'max_depth': 12, 'feature_fraction': 0.9317248960269767, 'bagging_fraction': 0.9468945881673736, 'bagging_freq': 17, 'min_child_samples': 1}. Best is trial#173 with value: 0.2839551976103037.\n",
      "[I 2020-05-25 02:27:23,803] Finished trial#201 with value: 0.29175117456296323 with parameters: {'max_bin': 402, 'learning_rate': 0.01597697738608507, 'lambda_l2': 0.038112130163138656, 'num_leaves': 58, 'max_depth': 12, 'feature_fraction': 0.9312689217105844, 'bagging_fraction': 0.9482340193858209, 'bagging_freq': 17, 'min_child_samples': 1}. Best is trial#173 with value: 0.2839551976103037.\n",
      "[I 2020-05-25 02:29:04,289] Finished trial#202 with value: 0.2982545264792175 with parameters: {'max_bin': 405, 'learning_rate': 0.01598582508627705, 'lambda_l2': 0.038302545715312136, 'num_leaves': 59, 'max_depth': 12, 'feature_fraction': 0.9320389130186242, 'bagging_fraction': 0.9484572210534057, 'bagging_freq': 17, 'min_child_samples': 1}. Best is trial#173 with value: 0.2839551976103037.\n",
      "[I 2020-05-25 02:30:45,963] Finished trial#203 with value: 0.30221704656957743 with parameters: {'max_bin': 399, 'learning_rate': 0.015468380851907992, 'lambda_l2': 0.023258616010180134, 'num_leaves': 58, 'max_depth': 12, 'feature_fraction': 0.9461257259093232, 'bagging_fraction': 0.9591225640197951, 'bagging_freq': 17, 'min_child_samples': 1}. Best is trial#173 with value: 0.2839551976103037.\n",
      "[I 2020-05-25 02:32:24,903] Finished trial#204 with value: 0.2957254579254733 with parameters: {'max_bin': 409, 'learning_rate': 0.013791695857482541, 'lambda_l2': 0.028210677060042516, 'num_leaves': 50, 'max_depth': 11, 'feature_fraction': 0.9307055287110443, 'bagging_fraction': 0.9310818784047867, 'bagging_freq': 16, 'min_child_samples': 2}. Best is trial#173 with value: 0.2839551976103037.\n",
      "[I 2020-05-25 02:34:19,648] Finished trial#205 with value: 0.30188995726468953 with parameters: {'max_bin': 375, 'learning_rate': 0.01689341566137436, 'lambda_l2': 0.04319877117720891, 'num_leaves': 63, 'max_depth': 12, 'feature_fraction': 0.9405046619615425, 'bagging_fraction': 0.9176064928654089, 'bagging_freq': 17, 'min_child_samples': 1}. Best is trial#173 with value: 0.2839551976103037.\n",
      "[I 2020-05-25 02:36:05,491] Finished trial#206 with value: 0.31574704358166183 with parameters: {'max_bin': 390, 'learning_rate': 0.01724749804536098, 'lambda_l2': 0.06600701216808838, 'num_leaves': 88, 'max_depth': 12, 'feature_fraction': 0.9533526748285421, 'bagging_fraction': 0.966529125757778, 'bagging_freq': 18, 'min_child_samples': 2}. Best is trial#173 with value: 0.2839551976103037.\n",
      "[I 2020-05-25 02:37:18,946] Finished trial#207 with value: 0.29445274868770815 with parameters: {'max_bin': 403, 'learning_rate': 0.016391299952874975, 'lambda_l2': 0.032585343586620574, 'num_leaves': 53, 'max_depth': 11, 'feature_fraction': 0.9351948200606975, 'bagging_fraction': 0.9472975854209402, 'bagging_freq': 17, 'min_child_samples': 1}. Best is trial#173 with value: 0.2839551976103037.\n",
      "[I 2020-05-25 02:38:32,068] Finished trial#208 with value: 0.30513183607715083 with parameters: {'max_bin': 414, 'learning_rate': 0.015161945598844942, 'lambda_l2': 0.020177278298868305, 'num_leaves': 44, 'max_depth': 12, 'feature_fraction': 0.9497909415331227, 'bagging_fraction': 0.9351899274693015, 'bagging_freq': 18, 'min_child_samples': 1}. Best is trial#173 with value: 0.2839551976103037.\n",
      "[I 2020-05-25 02:39:48,913] Finished trial#209 with value: 0.31941134005980376 with parameters: {'max_bin': 398, 'learning_rate': 0.01780768090378477, 'lambda_l2': 0.04878790611843475, 'num_leaves': 96, 'max_depth': 11, 'feature_fraction': 0.9607306343495109, 'bagging_fraction': 0.9250610565732306, 'bagging_freq': 16, 'min_child_samples': 2}. Best is trial#173 with value: 0.2839551976103037.\n",
      "[I 2020-05-25 02:41:08,997] Finished trial#210 with value: 0.3187545331625781 with parameters: {'max_bin': 407, 'learning_rate': 0.015968230427094453, 'lambda_l2': 0.03752410148843477, 'num_leaves': 58, 'max_depth': 12, 'feature_fraction': 0.9253858677794631, 'bagging_fraction': 0.9020721752048741, 'bagging_freq': 17, 'min_child_samples': 1}. Best is trial#173 with value: 0.2839551976103037.\n",
      "[I 2020-05-25 02:42:25,835] Finished trial#211 with value: 0.2987948685042265 with parameters: {'max_bin': 415, 'learning_rate': 0.018592940904534342, 'lambda_l2': 0.025541925657279477, 'num_leaves': 54, 'max_depth': 13, 'feature_fraction': 0.9694485480436086, 'bagging_fraction': 0.942569151274605, 'bagging_freq': 17, 'min_child_samples': 1}. Best is trial#173 with value: 0.2839551976103037.\n",
      "[I 2020-05-25 02:43:39,658] Finished trial#212 with value: 0.2979001788430543 with parameters: {'max_bin': 394, 'learning_rate': 0.017126009832358503, 'lambda_l2': 0.060868115290474804, 'num_leaves': 55, 'max_depth': 12, 'feature_fraction': 0.9449665800386602, 'bagging_fraction': 0.9512535508016097, 'bagging_freq': 17, 'min_child_samples': 1}. Best is trial#173 with value: 0.2839551976103037.\n",
      "[I 2020-05-25 02:44:42,908] Finished trial#213 with value: 0.2997818208121584 with parameters: {'max_bin': 402, 'learning_rate': 0.019454592172625282, 'lambda_l2': 0.03041536996683669, 'num_leaves': 48, 'max_depth': 12, 'feature_fraction': 0.9788190407361632, 'bagging_fraction': 0.9364769585389581, 'bagging_freq': 17, 'min_child_samples': 1}. Best is trial#173 with value: 0.2839551976103037.\n",
      "[I 2020-05-25 02:46:02,184] Finished trial#214 with value: 0.3088181064271665 with parameters: {'max_bin': 410, 'learning_rate': 0.01852019594699783, 'lambda_l2': 0.015335590518821366, 'num_leaves': 62, 'max_depth': 13, 'feature_fraction': 0.9578270064274689, 'bagging_fraction': 0.9447044414133452, 'bagging_freq': 18, 'min_child_samples': 1}. Best is trial#173 with value: 0.2839551976103037.\n",
      "[I 2020-05-25 02:47:05,184] Finished trial#215 with value: 0.30227787842488335 with parameters: {'max_bin': 417, 'learning_rate': 0.01799428924589405, 'lambda_l2': 0.01932847774084409, 'num_leaves': 53, 'max_depth': 11, 'feature_fraction': 0.93563442198618, 'bagging_fraction': 0.958358124281135, 'bagging_freq': 17, 'min_child_samples': 2}. Best is trial#173 with value: 0.2839551976103037.\n",
      "[I 2020-05-25 02:48:20,319] Finished trial#216 with value: 0.29798804476144725 with parameters: {'max_bin': 388, 'learning_rate': 0.016650934802005433, 'lambda_l2': 0.04210513701321807, 'num_leaves': 58, 'max_depth': 12, 'feature_fraction': 0.9491334353381085, 'bagging_fraction': 0.927584628316525, 'bagging_freq': 17, 'min_child_samples': 1}. Best is trial#173 with value: 0.2839551976103037.\n",
      "[I 2020-05-25 02:49:42,995] Finished trial#217 with value: 0.30494400381061837 with parameters: {'max_bin': 400, 'learning_rate': 0.020716003812363028, 'lambda_l2': 0.053258079063553725, 'num_leaves': 65, 'max_depth': 12, 'feature_fraction': 0.9604949518171302, 'bagging_fraction': 0.9382286285600508, 'bagging_freq': 18, 'min_child_samples': 1}. Best is trial#173 with value: 0.2839551976103037.\n",
      "[I 2020-05-25 02:51:08,165] Finished trial#218 with value: 0.2978121284510431 with parameters: {'max_bin': 408, 'learning_rate': 0.01749316036035257, 'lambda_l2': 0.032533176102172434, 'num_leaves': 51, 'max_depth': 13, 'feature_fraction': 0.9704506664885414, 'bagging_fraction': 0.9689761063298825, 'bagging_freq': 17, 'min_child_samples': 1}. Best is trial#173 with value: 0.2839551976103037.\n"
     ]
    },
    {
     "ename": "KeyboardInterrupt",
     "evalue": "",
     "output_type": "error",
     "traceback": [
      "\u001b[1;31m---------------------------------------------------------------------------\u001b[0m",
      "\u001b[1;31mKeyboardInterrupt\u001b[0m                         Traceback (most recent call last)",
      "\u001b[1;32m<ipython-input-25-782b8c616d8f>\u001b[0m in \u001b[0;36m<module>\u001b[1;34m\u001b[0m\n\u001b[0;32m      1\u001b[0m \u001b[0mstudy\u001b[0m \u001b[1;33m=\u001b[0m \u001b[0moptuna\u001b[0m\u001b[1;33m.\u001b[0m\u001b[0mcreate_study\u001b[0m\u001b[1;33m(\u001b[0m\u001b[1;33m)\u001b[0m\u001b[1;33m\u001b[0m\u001b[1;33m\u001b[0m\u001b[0m\n\u001b[1;32m----> 2\u001b[1;33m \u001b[0mstudy\u001b[0m\u001b[1;33m.\u001b[0m\u001b[0moptimize\u001b[0m\u001b[1;33m(\u001b[0m\u001b[0mobjective\u001b[0m\u001b[1;33m,\u001b[0m \u001b[0mn_trials\u001b[0m\u001b[1;33m=\u001b[0m\u001b[1;36m500\u001b[0m\u001b[1;33m)\u001b[0m\u001b[1;33m\u001b[0m\u001b[1;33m\u001b[0m\u001b[0m\n\u001b[0m",
      "\u001b[1;32m~\\anaconda3\\envs\\machine_learning\\lib\\site-packages\\optuna\\study.py\u001b[0m in \u001b[0;36moptimize\u001b[1;34m(self, func, n_trials, timeout, n_jobs, catch, callbacks, gc_after_trial, show_progress_bar)\u001b[0m\n\u001b[0;32m    332\u001b[0m             \u001b[1;32mif\u001b[0m \u001b[0mn_jobs\u001b[0m \u001b[1;33m==\u001b[0m \u001b[1;36m1\u001b[0m\u001b[1;33m:\u001b[0m\u001b[1;33m\u001b[0m\u001b[1;33m\u001b[0m\u001b[0m\n\u001b[0;32m    333\u001b[0m                 self._optimize_sequential(\n\u001b[1;32m--> 334\u001b[1;33m                     \u001b[0mfunc\u001b[0m\u001b[1;33m,\u001b[0m \u001b[0mn_trials\u001b[0m\u001b[1;33m,\u001b[0m \u001b[0mtimeout\u001b[0m\u001b[1;33m,\u001b[0m \u001b[0mcatch\u001b[0m\u001b[1;33m,\u001b[0m \u001b[0mcallbacks\u001b[0m\u001b[1;33m,\u001b[0m \u001b[0mgc_after_trial\u001b[0m\u001b[1;33m,\u001b[0m \u001b[1;32mNone\u001b[0m\u001b[1;33m\u001b[0m\u001b[1;33m\u001b[0m\u001b[0m\n\u001b[0m\u001b[0;32m    335\u001b[0m                 )\n\u001b[0;32m    336\u001b[0m             \u001b[1;32melse\u001b[0m\u001b[1;33m:\u001b[0m\u001b[1;33m\u001b[0m\u001b[1;33m\u001b[0m\u001b[0m\n",
      "\u001b[1;32m~\\anaconda3\\envs\\machine_learning\\lib\\site-packages\\optuna\\study.py\u001b[0m in \u001b[0;36m_optimize_sequential\u001b[1;34m(self, func, n_trials, timeout, catch, callbacks, gc_after_trial, time_start)\u001b[0m\n\u001b[0;32m    646\u001b[0m                     \u001b[1;32mbreak\u001b[0m\u001b[1;33m\u001b[0m\u001b[1;33m\u001b[0m\u001b[0m\n\u001b[0;32m    647\u001b[0m \u001b[1;33m\u001b[0m\u001b[0m\n\u001b[1;32m--> 648\u001b[1;33m             \u001b[0mself\u001b[0m\u001b[1;33m.\u001b[0m\u001b[0m_run_trial_and_callbacks\u001b[0m\u001b[1;33m(\u001b[0m\u001b[0mfunc\u001b[0m\u001b[1;33m,\u001b[0m \u001b[0mcatch\u001b[0m\u001b[1;33m,\u001b[0m \u001b[0mcallbacks\u001b[0m\u001b[1;33m,\u001b[0m \u001b[0mgc_after_trial\u001b[0m\u001b[1;33m)\u001b[0m\u001b[1;33m\u001b[0m\u001b[1;33m\u001b[0m\u001b[0m\n\u001b[0m\u001b[0;32m    649\u001b[0m \u001b[1;33m\u001b[0m\u001b[0m\n\u001b[0;32m    650\u001b[0m             \u001b[0mself\u001b[0m\u001b[1;33m.\u001b[0m\u001b[0m_progress_bar\u001b[0m\u001b[1;33m.\u001b[0m\u001b[0mupdate\u001b[0m\u001b[1;33m(\u001b[0m\u001b[1;33m(\u001b[0m\u001b[0mdatetime\u001b[0m\u001b[1;33m.\u001b[0m\u001b[0mdatetime\u001b[0m\u001b[1;33m.\u001b[0m\u001b[0mnow\u001b[0m\u001b[1;33m(\u001b[0m\u001b[1;33m)\u001b[0m \u001b[1;33m-\u001b[0m \u001b[0mtime_start\u001b[0m\u001b[1;33m)\u001b[0m\u001b[1;33m.\u001b[0m\u001b[0mtotal_seconds\u001b[0m\u001b[1;33m(\u001b[0m\u001b[1;33m)\u001b[0m\u001b[1;33m)\u001b[0m\u001b[1;33m\u001b[0m\u001b[1;33m\u001b[0m\u001b[0m\n",
      "\u001b[1;32m~\\anaconda3\\envs\\machine_learning\\lib\\site-packages\\optuna\\study.py\u001b[0m in \u001b[0;36m_run_trial_and_callbacks\u001b[1;34m(self, func, catch, callbacks, gc_after_trial)\u001b[0m\n\u001b[0;32m    676\u001b[0m         \u001b[1;31m# type: (...) -> None\u001b[0m\u001b[1;33m\u001b[0m\u001b[1;33m\u001b[0m\u001b[1;33m\u001b[0m\u001b[0m\n\u001b[0;32m    677\u001b[0m \u001b[1;33m\u001b[0m\u001b[0m\n\u001b[1;32m--> 678\u001b[1;33m         \u001b[0mtrial\u001b[0m \u001b[1;33m=\u001b[0m \u001b[0mself\u001b[0m\u001b[1;33m.\u001b[0m\u001b[0m_run_trial\u001b[0m\u001b[1;33m(\u001b[0m\u001b[0mfunc\u001b[0m\u001b[1;33m,\u001b[0m \u001b[0mcatch\u001b[0m\u001b[1;33m,\u001b[0m \u001b[0mgc_after_trial\u001b[0m\u001b[1;33m)\u001b[0m\u001b[1;33m\u001b[0m\u001b[1;33m\u001b[0m\u001b[0m\n\u001b[0m\u001b[0;32m    679\u001b[0m         \u001b[1;32mif\u001b[0m \u001b[0mcallbacks\u001b[0m \u001b[1;32mis\u001b[0m \u001b[1;32mnot\u001b[0m \u001b[1;32mNone\u001b[0m\u001b[1;33m:\u001b[0m\u001b[1;33m\u001b[0m\u001b[1;33m\u001b[0m\u001b[0m\n\u001b[0;32m    680\u001b[0m             \u001b[0mfrozen_trial\u001b[0m \u001b[1;33m=\u001b[0m \u001b[0mself\u001b[0m\u001b[1;33m.\u001b[0m\u001b[0m_storage\u001b[0m\u001b[1;33m.\u001b[0m\u001b[0mget_trial\u001b[0m\u001b[1;33m(\u001b[0m\u001b[0mtrial\u001b[0m\u001b[1;33m.\u001b[0m\u001b[0m_trial_id\u001b[0m\u001b[1;33m)\u001b[0m\u001b[1;33m\u001b[0m\u001b[1;33m\u001b[0m\u001b[0m\n",
      "\u001b[1;32m~\\anaconda3\\envs\\machine_learning\\lib\\site-packages\\optuna\\study.py\u001b[0m in \u001b[0;36m_run_trial\u001b[1;34m(self, func, catch, gc_after_trial)\u001b[0m\n\u001b[0;32m    697\u001b[0m \u001b[1;33m\u001b[0m\u001b[0m\n\u001b[0;32m    698\u001b[0m         \u001b[1;32mtry\u001b[0m\u001b[1;33m:\u001b[0m\u001b[1;33m\u001b[0m\u001b[1;33m\u001b[0m\u001b[0m\n\u001b[1;32m--> 699\u001b[1;33m             \u001b[0mresult\u001b[0m \u001b[1;33m=\u001b[0m \u001b[0mfunc\u001b[0m\u001b[1;33m(\u001b[0m\u001b[0mtrial\u001b[0m\u001b[1;33m)\u001b[0m\u001b[1;33m\u001b[0m\u001b[1;33m\u001b[0m\u001b[0m\n\u001b[0m\u001b[0;32m    700\u001b[0m         \u001b[1;32mexcept\u001b[0m \u001b[0mexceptions\u001b[0m\u001b[1;33m.\u001b[0m\u001b[0mTrialPruned\u001b[0m \u001b[1;32mas\u001b[0m \u001b[0me\u001b[0m\u001b[1;33m:\u001b[0m\u001b[1;33m\u001b[0m\u001b[1;33m\u001b[0m\u001b[0m\n\u001b[0;32m    701\u001b[0m             message = \"Setting status of trial#{} as {}. {}\".format(\n",
      "\u001b[1;32m<ipython-input-24-a354b8aa04d2>\u001b[0m in \u001b[0;36mobjective\u001b[1;34m(trial)\u001b[0m\n\u001b[0;32m     31\u001b[0m \u001b[1;33m\u001b[0m\u001b[0m\n\u001b[0;32m     32\u001b[0m         model = lgb.train(params, lgtrain, valid_sets=[lgvalidation], \n\u001b[1;32m---> 33\u001b[1;33m                           num_boost_round=5000, early_stopping_rounds=200, verbose_eval=False)\n\u001b[0m\u001b[0;32m     34\u001b[0m         \u001b[0mpred\u001b[0m \u001b[1;33m=\u001b[0m \u001b[0mmodel\u001b[0m\u001b[1;33m.\u001b[0m\u001b[0mpredict\u001b[0m\u001b[1;33m(\u001b[0m\u001b[0mXtest\u001b[0m\u001b[1;33m,\u001b[0m \u001b[0mnum_iteration\u001b[0m\u001b[1;33m=\u001b[0m\u001b[0mmodel\u001b[0m\u001b[1;33m.\u001b[0m\u001b[0mbest_iteration\u001b[0m\u001b[1;33m)\u001b[0m\u001b[1;33m\u001b[0m\u001b[1;33m\u001b[0m\u001b[0m\n\u001b[0;32m     35\u001b[0m \u001b[1;33m\u001b[0m\u001b[0m\n",
      "\u001b[1;32m~\\anaconda3\\envs\\machine_learning\\lib\\site-packages\\lightgbm\\engine.py\u001b[0m in \u001b[0;36mtrain\u001b[1;34m(params, train_set, num_boost_round, valid_sets, valid_names, fobj, feval, init_model, feature_name, categorical_feature, early_stopping_rounds, evals_result, verbose_eval, learning_rates, keep_training_booster, callbacks)\u001b[0m\n\u001b[0;32m    247\u001b[0m                                     evaluation_result_list=None))\n\u001b[0;32m    248\u001b[0m \u001b[1;33m\u001b[0m\u001b[0m\n\u001b[1;32m--> 249\u001b[1;33m         \u001b[0mbooster\u001b[0m\u001b[1;33m.\u001b[0m\u001b[0mupdate\u001b[0m\u001b[1;33m(\u001b[0m\u001b[0mfobj\u001b[0m\u001b[1;33m=\u001b[0m\u001b[0mfobj\u001b[0m\u001b[1;33m)\u001b[0m\u001b[1;33m\u001b[0m\u001b[1;33m\u001b[0m\u001b[0m\n\u001b[0m\u001b[0;32m    250\u001b[0m \u001b[1;33m\u001b[0m\u001b[0m\n\u001b[0;32m    251\u001b[0m         \u001b[0mevaluation_result_list\u001b[0m \u001b[1;33m=\u001b[0m \u001b[1;33m[\u001b[0m\u001b[1;33m]\u001b[0m\u001b[1;33m\u001b[0m\u001b[1;33m\u001b[0m\u001b[0m\n",
      "\u001b[1;32m~\\anaconda3\\envs\\machine_learning\\lib\\site-packages\\lightgbm\\basic.py\u001b[0m in \u001b[0;36mupdate\u001b[1;34m(self, train_set, fobj)\u001b[0m\n\u001b[0;32m   1974\u001b[0m             _safe_call(_LIB.LGBM_BoosterUpdateOneIter(\n\u001b[0;32m   1975\u001b[0m                 \u001b[0mself\u001b[0m\u001b[1;33m.\u001b[0m\u001b[0mhandle\u001b[0m\u001b[1;33m,\u001b[0m\u001b[1;33m\u001b[0m\u001b[1;33m\u001b[0m\u001b[0m\n\u001b[1;32m-> 1976\u001b[1;33m                 ctypes.byref(is_finished)))\n\u001b[0m\u001b[0;32m   1977\u001b[0m             \u001b[0mself\u001b[0m\u001b[1;33m.\u001b[0m\u001b[0m__is_predicted_cur_iter\u001b[0m \u001b[1;33m=\u001b[0m \u001b[1;33m[\u001b[0m\u001b[1;32mFalse\u001b[0m \u001b[1;32mfor\u001b[0m \u001b[0m_\u001b[0m \u001b[1;32min\u001b[0m \u001b[0mrange_\u001b[0m\u001b[1;33m(\u001b[0m\u001b[0mself\u001b[0m\u001b[1;33m.\u001b[0m\u001b[0m__num_dataset\u001b[0m\u001b[1;33m)\u001b[0m\u001b[1;33m]\u001b[0m\u001b[1;33m\u001b[0m\u001b[1;33m\u001b[0m\u001b[0m\n\u001b[0;32m   1978\u001b[0m             \u001b[1;32mreturn\u001b[0m \u001b[0mis_finished\u001b[0m\u001b[1;33m.\u001b[0m\u001b[0mvalue\u001b[0m \u001b[1;33m==\u001b[0m \u001b[1;36m1\u001b[0m\u001b[1;33m\u001b[0m\u001b[1;33m\u001b[0m\u001b[0m\n",
      "\u001b[1;31mKeyboardInterrupt\u001b[0m: "
     ]
    }
   ],
   "source": [
    "study = optuna.create_study()\n",
    "study.optimize(objective, n_trials=500)"
   ]
  },
  {
   "cell_type": "code",
   "execution_count": null,
   "metadata": {},
   "outputs": [],
   "source": [
    "print(\"Number of finished trials: {}\".format(len(study.trials)))\n",
    "\n",
    "print(\"Best trial:\")\n",
    "trial = study.best_trial\n",
    "\n",
    "print(\"Value: {}\".format(trial.value))\n",
    "\n",
    "print(\"Params: \")\n",
    "for key, value in trial.params.items():\n",
    "    print(\" {}: {}\".format(key, value))"
   ]
  },
  {
   "cell_type": "markdown",
   "metadata": {},
   "source": [
    "## Build the model"
   ]
  },
  {
   "cell_type": "code",
   "execution_count": 26,
   "metadata": {},
   "outputs": [],
   "source": [
    "# Define model hyperparameters\n",
    "params = {}\n",
    "params[\"objective\"] = 'multiclass'\n",
    "params[\"metric\"] = 'multi_logloss'\n",
    "params[\"num_class\"] = 2\n",
    "params[\"is_unbalance\"] = True\n",
    "params[\"boosting\"] = 'gbdt'\n",
    "params[\"max_bin\"] = 396\n",
    "params[\"learning_rate\"] = 0.017\n",
    "params[\"lambda_l2\"] = 0.053\n",
    "params[\"num_leaves\"] = 51\n",
    "params[\"max_depth\"] = 12\n",
    "params[\"feature_fraction\"] = 0.95\n",
    "params[\"bagging_fraction\"] = 0.94\n",
    "params[\"bagging_freq\"] = 17\n",
    "params[\"min_data_in_leaf\"] = 1\n",
    "params[\"verbosity\"] = -1\n",
    "num_rounds = 5000"
   ]
  },
  {
   "cell_type": "code",
   "execution_count": 27,
   "metadata": {},
   "outputs": [],
   "source": [
    "# Define 5-fold cross validation test harness\n",
    "kfold = StratifiedKFold(n_splits=5, shuffle=True, random_state=10)\n",
    "y_pred = 0"
   ]
  },
  {
   "cell_type": "code",
   "execution_count": 28,
   "metadata": {},
   "outputs": [
    {
     "name": "stdout",
     "output_type": "stream",
     "text": [
      "Training until validation scores don't improve for 200 rounds\n",
      "Early stopping, best iteration is:\n",
      "[194]\tvalid_0's multi_logloss: 0.289781\n",
      "Training until validation scores don't improve for 200 rounds\n",
      "Early stopping, best iteration is:\n",
      "[108]\tvalid_0's multi_logloss: 0.346864\n",
      "Training until validation scores don't improve for 200 rounds\n",
      "Early stopping, best iteration is:\n",
      "[198]\tvalid_0's multi_logloss: 0.26971\n",
      "Training until validation scores don't improve for 200 rounds\n",
      "Early stopping, best iteration is:\n",
      "[132]\tvalid_0's multi_logloss: 0.344971\n",
      "Training until validation scores don't improve for 200 rounds\n",
      "Early stopping, best iteration is:\n",
      "[186]\tvalid_0's multi_logloss: 0.314804\n"
     ]
    }
   ],
   "source": [
    "# Train the model using K-fold\n",
    "counter = 0\n",
    "\n",
    "for train, val in kfold.split(Xtrain, Ytrain):\n",
    "    counter += 1\n",
    "\n",
    "    train_x, train_y = Xtrain[train], Ytrain[train]\n",
    "    val_x, val_y = Xtrain[val], Ytrain[val]\n",
    "\n",
    "    lgtrain = lgb.Dataset(train_x, label=train_y.ravel())\n",
    "    lgvalidation = lgb.Dataset(val_x, label=val_y.ravel())\n",
    "\n",
    "    model = lgb.train(params, lgtrain, num_rounds, valid_sets=[lgvalidation], early_stopping_rounds=200, verbose_eval=1000)\n",
    "    pred = model.predict(Xtest, num_iteration=model.best_iteration)\n",
    "\n",
    "    y_pred += pred\n",
    "\n",
    "y_pred /= float(counter)"
   ]
  },
  {
   "cell_type": "markdown",
   "metadata": {},
   "source": [
    "## Validate the model"
   ]
  },
  {
   "cell_type": "markdown",
   "metadata": {},
   "source": [
    "#### Print log_loss, accuracy and F1-score"
   ]
  },
  {
   "cell_type": "code",
   "execution_count": 29,
   "metadata": {},
   "outputs": [
    {
     "name": "stdout",
     "output_type": "stream",
     "text": [
      "Overall log_loss: 0.29634775305414596\n",
      "Overall accuracy: 0.8823529411764706\n",
      "Overall F1-Score: 0.8378378378378378\n"
     ]
    }
   ],
   "source": [
    "loss = log_loss(test_y, y_pred)\n",
    "y_pred_binary = np.array([np.argmax(y_pred, axis=1)]).T\n",
    "acc_score = accuracy_score(Ytest, y_pred_binary)\n",
    "f1 = f1_score(Ytest, y_pred_binary)\n",
    "print('Overall log_loss:', loss)\n",
    "print('Overall accuracy:', acc_score)\n",
    "print('Overall F1-Score:', f1)"
   ]
  },
  {
   "cell_type": "markdown",
   "metadata": {},
   "source": [
    "#### Print Area Under Curve"
   ]
  },
  {
   "cell_type": "code",
   "execution_count": 30,
   "metadata": {},
   "outputs": [
    {
     "data": {
      "image/png": "[encoded data removed]",
      "text/plain": [
       "<Figure size 432x288 with 1 Axes>"
      ]
     },
     "metadata": {
      "needs_background": "light"
     },
     "output_type": "display_data"
    },
    {
     "name": "stdout",
     "output_type": "stream",
     "text": [
      "AUC score: 0.8831556503198295\n"
     ]
    }
   ],
   "source": [
    "plt.figure()\n",
    "false_positive_rate, recall, thresholds = roc_curve(Ytest, y_pred_binary)\n",
    "roc_auc = auc(false_positive_rate, recall)\n",
    "plt.title('Receiver Operating Characteristic (ROC)')\n",
    "plt.plot(false_positive_rate, recall, 'b', label = 'AUC = %0.3f' %roc_auc)\n",
    "plt.legend(loc='lower right')\n",
    "plt.plot([0,1], [0,1], 'r--')\n",
    "plt.xlim([0.0,1.0])\n",
    "plt.ylim([0.0,1.0])\n",
    "plt.ylabel('Recall')\n",
    "plt.xlabel('Fall-out (1-Specificity)')\n",
    "plt.show()\n",
    "\n",
    "print('AUC score:', roc_auc)"
   ]
  },
  {
   "cell_type": "markdown",
   "metadata": {},
   "source": [
    "#### Print Confusion Matrix"
   ]
  },
  {
   "cell_type": "code",
   "execution_count": 31,
   "metadata": {},
   "outputs": [
    {
     "data": {
      "image/png": "[encoded data removed]",
      "text/plain": [
       "<Figure size 432x288 with 2 Axes>"
      ]
     },
     "metadata": {
      "needs_background": "light"
     },
     "output_type": "display_data"
    }
   ],
   "source": [
    "cm = confusion_matrix(Ytest, y_pred_binary)\n",
    "labels = ['0', '1']\n",
    "sns.heatmap(cm, xticklabels = labels, yticklabels = labels, annot = True, fmt='d', cmap=\"Blues\", vmin = 0.5);\n",
    "plt.title('Confusion Matrix')\n",
    "plt.ylabel('True Class')\n",
    "plt.xlabel('Predicted Class')\n",
    "plt.show()"
   ]
  },
  {
   "cell_type": "markdown",
   "metadata": {},
   "source": [
    "## Train model on entire data"
   ]
  },
  {
   "cell_type": "code",
   "execution_count": 32,
   "metadata": {},
   "outputs": [],
   "source": [
    "# Define 5-fold cross validation test harness\n",
    "kfold = StratifiedKFold(n_splits=5, shuffle=True, random_state=10)\n",
    "y_pred = 0"
   ]
  },
  {
   "cell_type": "code",
   "execution_count": 33,
   "metadata": {},
   "outputs": [
    {
     "name": "stdout",
     "output_type": "stream",
     "text": [
      "Training until validation scores don't improve for 200 rounds\n",
      "Early stopping, best iteration is:\n",
      "[205]\tvalid_0's multi_logloss: 0.29782\n",
      "Training until validation scores don't improve for 200 rounds\n",
      "Early stopping, best iteration is:\n",
      "[150]\tvalid_0's multi_logloss: 0.330124\n",
      "Training until validation scores don't improve for 200 rounds\n",
      "Early stopping, best iteration is:\n",
      "[137]\tvalid_0's multi_logloss: 0.332062\n",
      "Training until validation scores don't improve for 200 rounds\n",
      "Early stopping, best iteration is:\n",
      "[128]\tvalid_0's multi_logloss: 0.351975\n",
      "Training until validation scores don't improve for 200 rounds\n",
      "Early stopping, best iteration is:\n",
      "[153]\tvalid_0's multi_logloss: 0.314061\n"
     ]
    }
   ],
   "source": [
    "# Train the model using K-fold\n",
    "counter = 0\n",
    "\n",
    "for train, val in kfold.split(Xtrain_full, Ytrain_full):\n",
    "    counter += 1\n",
    "\n",
    "    train_x, train_y = Xtrain_full[train], Ytrain_full[train]\n",
    "    val_x, val_y = Xtrain_full[val], Ytrain_full[val]\n",
    "\n",
    "    lgtrain = lgb.Dataset(train_x, label=train_y.ravel())\n",
    "    lgvalidation = lgb.Dataset(val_x, label=val_y.ravel())\n",
    "\n",
    "    model = lgb.train(params, lgtrain, num_rounds, valid_sets=[lgvalidation], early_stopping_rounds=200, verbose_eval=1000)\n",
    "    pred = model.predict(Xpredict, num_iteration=model.best_iteration)\n",
    "\n",
    "    y_pred += pred\n",
    "\n",
    "y_pred /= float(counter)"
   ]
  },
  {
   "cell_type": "markdown",
   "metadata": {},
   "source": [
    "## Create submission file"
   ]
  },
  {
   "cell_type": "code",
   "execution_count": 34,
   "metadata": {},
   "outputs": [
    {
     "data": {
      "text/html": [
       "<div>\n",
       "<style scoped>\n",
       "    .dataframe tbody tr th:only-of-type {\n",
       "        vertical-align: middle;\n",
       "    }\n",
       "\n",
       "    .dataframe tbody tr th {\n",
       "        vertical-align: top;\n",
       "    }\n",
       "\n",
       "    .dataframe thead th {\n",
       "        text-align: right;\n",
       "    }\n",
       "</style>\n",
       "<table border=\"1\" class=\"dataframe\">\n",
       "  <thead>\n",
       "    <tr style=\"text-align: right;\">\n",
       "      <th></th>\n",
       "      <th>1</th>\n",
       "      <th>2</th>\n",
       "    </tr>\n",
       "  </thead>\n",
       "  <tbody>\n",
       "    <tr>\n",
       "      <th>0</th>\n",
       "      <td>0.972722</td>\n",
       "      <td>0.027278</td>\n",
       "    </tr>\n",
       "    <tr>\n",
       "      <th>1</th>\n",
       "      <td>0.189669</td>\n",
       "      <td>0.810331</td>\n",
       "    </tr>\n",
       "    <tr>\n",
       "      <th>2</th>\n",
       "      <td>0.972722</td>\n",
       "      <td>0.027278</td>\n",
       "    </tr>\n",
       "    <tr>\n",
       "      <th>3</th>\n",
       "      <td>0.972722</td>\n",
       "      <td>0.027278</td>\n",
       "    </tr>\n",
       "    <tr>\n",
       "      <th>4</th>\n",
       "      <td>0.600394</td>\n",
       "      <td>0.399606</td>\n",
       "    </tr>\n",
       "  </tbody>\n",
       "</table>\n",
       "</div>"
      ],
      "text/plain": [
       "          1         2\n",
       "0  0.972722  0.027278\n",
       "1  0.189669  0.810331\n",
       "2  0.972722  0.027278\n",
       "3  0.972722  0.027278\n",
       "4  0.600394  0.399606"
      ]
     },
     "execution_count": 34,
     "metadata": {},
     "output_type": "execute_result"
    }
   ],
   "source": [
    "submit_df = pd.DataFrame(y_pred, columns=['1','2'])\n",
    "submit_df.head()"
   ]
  },
  {
   "cell_type": "code",
   "execution_count": 35,
   "metadata": {},
   "outputs": [],
   "source": [
    "submit_df.to_excel(\"Predictions/predictions_v9.xlsx\", index=False)"
   ]
  },
  {
   "cell_type": "code",
   "execution_count": null,
   "metadata": {},
   "outputs": [],
   "source": []
  }
 ],
 "metadata": {
  "kernelspec": {
   "display_name": "Python 3",
   "language": "python",
   "name": "python3"
  },
  "language_info": {
   "codemirror_mode": {
    "name": "ipython",
    "version": 3
   },
   "file_extension": ".py",
   "mimetype": "text/x-python",
   "name": "python",
   "nbconvert_exporter": "python",
   "pygments_lexer": "ipython3",
   "version": "3.7.7"
  }
 },
 "nbformat": 4,
 "nbformat_minor": 4
}
